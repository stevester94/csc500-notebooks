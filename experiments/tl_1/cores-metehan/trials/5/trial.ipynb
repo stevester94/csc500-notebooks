{
 "cells": [
  {
   "cell_type": "markdown",
   "id": "9fea5f46",
   "metadata": {
    "papermill": {
     "duration": 0.01655,
     "end_time": "2022-03-07T01:07:09.368492",
     "exception": false,
     "start_time": "2022-03-07T01:07:09.351942",
     "status": "completed"
    },
    "tags": []
   },
   "source": [
    "# Transfer Learning Template"
   ]
  },
  {
   "cell_type": "code",
   "execution_count": 1,
   "id": "0902182a",
   "metadata": {
    "execution": {
     "iopub.execute_input": "2022-03-07T01:07:09.408930Z",
     "iopub.status.busy": "2022-03-07T01:07:09.408269Z",
     "iopub.status.idle": "2022-03-07T01:07:10.232429Z",
     "shell.execute_reply": "2022-03-07T01:07:10.232086Z"
    },
    "papermill": {
     "duration": 0.850465,
     "end_time": "2022-03-07T01:07:10.232502",
     "exception": false,
     "start_time": "2022-03-07T01:07:09.382037",
     "status": "completed"
    },
    "tags": []
   },
   "outputs": [],
   "source": [
    "%load_ext autoreload\n",
    "%autoreload 2\n",
    "%matplotlib inline\n",
    "\n",
    "    \n",
    "import os, json, sys, time, random\n",
    "import numpy as np\n",
    "import torch\n",
    "from torch.optim import Adam\n",
    "from  easydict import EasyDict\n",
    "import matplotlib.pyplot as plt\n",
    "\n",
    "from steves_models.steves_ptn import Steves_Prototypical_Network\n",
    "\n",
    "from steves_utils.lazy_iterable_wrapper import Lazy_Iterable_Wrapper\n",
    "from steves_utils.iterable_aggregator import Iterable_Aggregator\n",
    "from steves_utils.ptn_train_eval_test_jig import  PTN_Train_Eval_Test_Jig\n",
    "from steves_utils.torch_sequential_builder import build_sequential\n",
    "from steves_utils.torch_utils import get_dataset_metrics, ptn_confusion_by_domain_over_dataloader\n",
    "from steves_utils.utils_v2 import (per_domain_accuracy_from_confusion, get_datasets_base_path)\n",
    "from steves_utils.PTN.utils import independent_accuracy_assesment\n",
    "\n",
    "from torch.utils.data import DataLoader\n",
    "\n",
    "from steves_utils.stratified_dataset.episodic_accessor import Episodic_Accessor_Factory\n",
    "\n",
    "from steves_utils.ptn_do_report import (\n",
    "    get_loss_curve,\n",
    "    get_results_table,\n",
    "    get_parameters_table,\n",
    "    get_domain_accuracies,\n",
    ")\n",
    "\n",
    "from steves_utils.transforms import get_chained_transform"
   ]
  },
  {
   "cell_type": "markdown",
   "id": "41c840b4",
   "metadata": {
    "papermill": {
     "duration": 0.013851,
     "end_time": "2022-03-07T01:07:10.260933",
     "exception": false,
     "start_time": "2022-03-07T01:07:10.247082",
     "status": "completed"
    },
    "tags": []
   },
   "source": [
    "# Allowed Parameters\n",
    "These are allowed parameters, not defaults\n",
    "Each of these values need to be present in the injected parameters (the notebook will raise an exception if they are not present)\n",
    "\n",
    "Papermill uses the cell tag \"parameters\" to inject the real parameters below this cell.\n",
    "Enable tags to see what I mean"
   ]
  },
  {
   "cell_type": "code",
   "execution_count": 2,
   "id": "fd44eb83",
   "metadata": {
    "execution": {
     "iopub.execute_input": "2022-03-07T01:07:10.290750Z",
     "iopub.status.busy": "2022-03-07T01:07:10.290317Z",
     "iopub.status.idle": "2022-03-07T01:07:10.302329Z",
     "shell.execute_reply": "2022-03-07T01:07:10.301965Z"
    },
    "papermill": {
     "duration": 0.027857,
     "end_time": "2022-03-07T01:07:10.302419",
     "exception": false,
     "start_time": "2022-03-07T01:07:10.274562",
     "status": "completed"
    },
    "tags": []
   },
   "outputs": [],
   "source": [
    "required_parameters = {\n",
    "    \"experiment_name\",\n",
    "    \"lr\",\n",
    "    \"device\",\n",
    "    \"seed\",\n",
    "    \"dataset_seed\",\n",
    "    \"n_shot\",\n",
    "    \"n_query\",\n",
    "    \"n_way\",\n",
    "    \"train_k_factor\",\n",
    "    \"val_k_factor\",\n",
    "    \"test_k_factor\",\n",
    "    \"n_epoch\",\n",
    "    \"patience\",\n",
    "    \"criteria_for_best\",\n",
    "    \"x_net\",\n",
    "    \"datasets\",\n",
    "    \"torch_default_dtype\",\n",
    "    \"NUM_LOGS_PER_EPOCH\",\n",
    "    \"BEST_MODEL_PATH\",\n",
    "}"
   ]
  },
  {
   "cell_type": "code",
   "execution_count": 3,
   "id": "fa3f0049",
   "metadata": {
    "execution": {
     "iopub.execute_input": "2022-03-07T01:07:10.339501Z",
     "iopub.status.busy": "2022-03-07T01:07:10.339083Z",
     "iopub.status.idle": "2022-03-07T01:07:10.354448Z",
     "shell.execute_reply": "2022-03-07T01:07:10.354093Z"
    },
    "papermill": {
     "duration": 0.035643,
     "end_time": "2022-03-07T01:07:10.354535",
     "exception": false,
     "start_time": "2022-03-07T01:07:10.318892",
     "status": "completed"
    },
    "tags": [
     "parameters"
    ]
   },
   "outputs": [],
   "source": [
    "from steves_utils.CORES.utils import (\n",
    "    ALL_NODES,\n",
    "    ALL_NODES_MINIMUM_1000_EXAMPLES,\n",
    "    ALL_DAYS\n",
    ")\n",
    "\n",
    "from steves_utils.ORACLE.utils_v2 import (\n",
    "    ALL_DISTANCES_FEET_NARROWED,\n",
    "    ALL_RUNS,\n",
    "    ALL_SERIAL_NUMBERS,\n",
    ")\n",
    "\n",
    "standalone_parameters = {}\n",
    "standalone_parameters[\"experiment_name\"] = \"STANDALONE PTN\"\n",
    "standalone_parameters[\"lr\"] = 0.001\n",
    "standalone_parameters[\"device\"] = \"cuda\"\n",
    "\n",
    "standalone_parameters[\"seed\"] = 1337\n",
    "standalone_parameters[\"dataset_seed\"] = 1337\n",
    "\n",
    "standalone_parameters[\"n_way\"] = 8\n",
    "standalone_parameters[\"n_shot\"] = 3\n",
    "standalone_parameters[\"n_query\"]  = 2\n",
    "standalone_parameters[\"train_k_factor\"] = 1\n",
    "standalone_parameters[\"val_k_factor\"] = 2\n",
    "standalone_parameters[\"test_k_factor\"] = 2\n",
    "\n",
    "\n",
    "standalone_parameters[\"n_epoch\"] = 50\n",
    "\n",
    "standalone_parameters[\"patience\"] = 10\n",
    "standalone_parameters[\"criteria_for_best\"] = \"source_loss\"\n",
    "\n",
    "standalone_parameters[\"datasets\"] = [\n",
    "    {\n",
    "        \"labels\": ALL_SERIAL_NUMBERS,\n",
    "        \"domains\": ALL_DISTANCES_FEET_NARROWED,\n",
    "        \"num_examples_per_domain_per_label\": 100,\n",
    "        \"pickle_path\": os.path.join(get_datasets_base_path(), \"oracle.Run1_framed_2000Examples_stratified_ds.2022A.pkl\"),\n",
    "        \"source_or_target_dataset\": \"source\",\n",
    "        \"x_transforms\": [\"unit_mag\", \"minus_two\"],\n",
    "        \"episode_transforms\": [],\n",
    "        \"domain_prefix\": \"ORACLE_\"\n",
    "    },\n",
    "    {\n",
    "        \"labels\": ALL_NODES,\n",
    "        \"domains\": ALL_DAYS,\n",
    "        \"num_examples_per_domain_per_label\": 100,\n",
    "        \"pickle_path\": os.path.join(get_datasets_base_path(), \"cores.stratified_ds.2022A.pkl\"),\n",
    "        \"source_or_target_dataset\": \"target\",\n",
    "        \"x_transforms\": [\"unit_power\", \"times_zero\"],\n",
    "        \"episode_transforms\": [],\n",
    "        \"domain_prefix\": \"CORES_\"\n",
    "    }   \n",
    "]\n",
    "\n",
    "standalone_parameters[\"torch_default_dtype\"] = \"torch.float32\" \n",
    "\n",
    "\n",
    "\n",
    "standalone_parameters[\"x_net\"] =     [\n",
    "    {\"class\": \"nnReshape\", \"kargs\": {\"shape\":[-1, 1, 2, 256]}},\n",
    "    {\"class\": \"Conv2d\", \"kargs\": { \"in_channels\":1, \"out_channels\":256, \"kernel_size\":(1,7), \"bias\":False, \"padding\":(0,3), },},\n",
    "    {\"class\": \"ReLU\", \"kargs\": {\"inplace\": True}},\n",
    "    {\"class\": \"BatchNorm2d\", \"kargs\": {\"num_features\":256}},\n",
    "\n",
    "    {\"class\": \"Conv2d\", \"kargs\": { \"in_channels\":256, \"out_channels\":80, \"kernel_size\":(2,7), \"bias\":True, \"padding\":(0,3), },},\n",
    "    {\"class\": \"ReLU\", \"kargs\": {\"inplace\": True}},\n",
    "    {\"class\": \"BatchNorm2d\", \"kargs\": {\"num_features\":80}},\n",
    "    {\"class\": \"Flatten\", \"kargs\": {}},\n",
    "\n",
    "    {\"class\": \"Linear\", \"kargs\": {\"in_features\": 80*256, \"out_features\": 256}}, # 80 units per IQ pair\n",
    "    {\"class\": \"ReLU\", \"kargs\": {\"inplace\": True}},\n",
    "    {\"class\": \"BatchNorm1d\", \"kargs\": {\"num_features\":256}},\n",
    "\n",
    "    {\"class\": \"Linear\", \"kargs\": {\"in_features\": 256, \"out_features\": 256}},\n",
    "]\n",
    "\n",
    "# Parameters relevant to results\n",
    "# These parameters will basically never need to change\n",
    "standalone_parameters[\"NUM_LOGS_PER_EPOCH\"] = 10\n",
    "standalone_parameters[\"BEST_MODEL_PATH\"] = \"./best_model.pth\"\n",
    "\n",
    "\n",
    "\n",
    "\n"
   ]
  },
  {
   "cell_type": "code",
   "execution_count": 4,
   "id": "40308e8b",
   "metadata": {
    "execution": {
     "iopub.execute_input": "2022-03-07T01:07:10.397859Z",
     "iopub.status.busy": "2022-03-07T01:07:10.397232Z",
     "iopub.status.idle": "2022-03-07T01:07:10.409086Z",
     "shell.execute_reply": "2022-03-07T01:07:10.408510Z"
    },
    "papermill": {
     "duration": 0.037035,
     "end_time": "2022-03-07T01:07:10.409208",
     "exception": false,
     "start_time": "2022-03-07T01:07:10.372173",
     "status": "completed"
    },
    "tags": [
     "injected-parameters"
    ]
   },
   "outputs": [],
   "source": [
    "# Parameters\n",
    "parameters = {\n",
    "    \"experiment_name\": \"tl_1_cores-metehan\",\n",
    "    \"device\": \"cuda\",\n",
    "    \"lr\": 0.001,\n",
    "    \"seed\": 1337,\n",
    "    \"dataset_seed\": 1337,\n",
    "    \"n_shot\": 3,\n",
    "    \"n_query\": 2,\n",
    "    \"train_k_factor\": 3,\n",
    "    \"val_k_factor\": 2,\n",
    "    \"test_k_factor\": 2,\n",
    "    \"torch_default_dtype\": \"torch.float32\",\n",
    "    \"n_epoch\": 50,\n",
    "    \"patience\": 3,\n",
    "    \"criteria_for_best\": \"target_loss\",\n",
    "    \"x_net\": [\n",
    "        {\"class\": \"nnReshape\", \"kargs\": {\"shape\": [-1, 1, 2, 256]}},\n",
    "        {\n",
    "            \"class\": \"Conv2d\",\n",
    "            \"kargs\": {\n",
    "                \"in_channels\": 1,\n",
    "                \"out_channels\": 256,\n",
    "                \"kernel_size\": [1, 7],\n",
    "                \"bias\": False,\n",
    "                \"padding\": [0, 3],\n",
    "            },\n",
    "        },\n",
    "        {\"class\": \"ReLU\", \"kargs\": {\"inplace\": True}},\n",
    "        {\"class\": \"BatchNorm2d\", \"kargs\": {\"num_features\": 256}},\n",
    "        {\n",
    "            \"class\": \"Conv2d\",\n",
    "            \"kargs\": {\n",
    "                \"in_channels\": 256,\n",
    "                \"out_channels\": 80,\n",
    "                \"kernel_size\": [2, 7],\n",
    "                \"bias\": True,\n",
    "                \"padding\": [0, 3],\n",
    "            },\n",
    "        },\n",
    "        {\"class\": \"ReLU\", \"kargs\": {\"inplace\": True}},\n",
    "        {\"class\": \"BatchNorm2d\", \"kargs\": {\"num_features\": 80}},\n",
    "        {\"class\": \"Flatten\", \"kargs\": {}},\n",
    "        {\"class\": \"Linear\", \"kargs\": {\"in_features\": 20480, \"out_features\": 256}},\n",
    "        {\"class\": \"ReLU\", \"kargs\": {\"inplace\": True}},\n",
    "        {\"class\": \"BatchNorm1d\", \"kargs\": {\"num_features\": 256}},\n",
    "        {\"class\": \"Linear\", \"kargs\": {\"in_features\": 256, \"out_features\": 256}},\n",
    "    ],\n",
    "    \"NUM_LOGS_PER_EPOCH\": 10,\n",
    "    \"BEST_MODEL_PATH\": \"./best_model.pth\",\n",
    "    \"n_way\": 19,\n",
    "    \"datasets\": [\n",
    "        {\n",
    "            \"labels\": [\n",
    "                \"1-10.\",\n",
    "                \"1-11.\",\n",
    "                \"1-15.\",\n",
    "                \"1-16.\",\n",
    "                \"1-17.\",\n",
    "                \"1-18.\",\n",
    "                \"1-19.\",\n",
    "                \"10-4.\",\n",
    "                \"10-7.\",\n",
    "                \"11-1.\",\n",
    "                \"11-14.\",\n",
    "                \"11-17.\",\n",
    "                \"11-20.\",\n",
    "                \"11-7.\",\n",
    "                \"13-20.\",\n",
    "                \"13-8.\",\n",
    "                \"14-10.\",\n",
    "                \"14-11.\",\n",
    "                \"14-14.\",\n",
    "                \"14-7.\",\n",
    "                \"15-1.\",\n",
    "                \"15-20.\",\n",
    "                \"16-1.\",\n",
    "                \"16-16.\",\n",
    "                \"17-10.\",\n",
    "                \"17-11.\",\n",
    "                \"17-2.\",\n",
    "                \"19-1.\",\n",
    "                \"19-16.\",\n",
    "                \"19-19.\",\n",
    "                \"19-20.\",\n",
    "                \"19-3.\",\n",
    "                \"2-10.\",\n",
    "                \"2-11.\",\n",
    "                \"2-17.\",\n",
    "                \"2-18.\",\n",
    "                \"2-20.\",\n",
    "                \"2-3.\",\n",
    "                \"2-4.\",\n",
    "                \"2-5.\",\n",
    "                \"2-6.\",\n",
    "                \"2-7.\",\n",
    "                \"2-8.\",\n",
    "                \"3-13.\",\n",
    "                \"3-18.\",\n",
    "                \"3-3.\",\n",
    "                \"4-1.\",\n",
    "                \"4-10.\",\n",
    "                \"4-11.\",\n",
    "                \"4-19.\",\n",
    "                \"5-5.\",\n",
    "                \"6-15.\",\n",
    "                \"7-10.\",\n",
    "                \"7-14.\",\n",
    "                \"8-18.\",\n",
    "                \"8-20.\",\n",
    "                \"8-3.\",\n",
    "                \"8-8.\",\n",
    "            ],\n",
    "            \"domains\": [1, 2, 3, 4, 5],\n",
    "            \"num_examples_per_domain_per_label\": 100,\n",
    "            \"pickle_path\": \"/mnt/wd500GB/CSC500/csc500-main/datasets/cores.stratified_ds.2022A.pkl\",\n",
    "            \"source_or_target_dataset\": \"target\",\n",
    "            \"x_transforms\": [],\n",
    "            \"episode_transforms\": [],\n",
    "            \"domain_prefix\": \"CORES_\",\n",
    "        },\n",
    "        {\n",
    "            \"labels\": [\n",
    "                0,\n",
    "                1,\n",
    "                2,\n",
    "                3,\n",
    "                4,\n",
    "                5,\n",
    "                6,\n",
    "                7,\n",
    "                8,\n",
    "                9,\n",
    "                10,\n",
    "                11,\n",
    "                12,\n",
    "                13,\n",
    "                14,\n",
    "                15,\n",
    "                16,\n",
    "                17,\n",
    "                18,\n",
    "            ],\n",
    "            \"domains\": [0, 1, 2],\n",
    "            \"num_examples_per_domain_per_label\": 100,\n",
    "            \"pickle_path\": \"/mnt/wd500GB/CSC500/csc500-main/datasets/metehan.stratified_ds.2022A.pkl\",\n",
    "            \"source_or_target_dataset\": \"source\",\n",
    "            \"x_transforms\": [],\n",
    "            \"episode_transforms\": [],\n",
    "            \"domain_prefix\": \"Metehan_\",\n",
    "        },\n",
    "    ],\n",
    "}\n"
   ]
  },
  {
   "cell_type": "code",
   "execution_count": 5,
   "id": "8fa1cc33",
   "metadata": {
    "execution": {
     "iopub.execute_input": "2022-03-07T01:07:10.444702Z",
     "iopub.status.busy": "2022-03-07T01:07:10.444233Z",
     "iopub.status.idle": "2022-03-07T01:07:10.458151Z",
     "shell.execute_reply": "2022-03-07T01:07:10.457647Z"
    },
    "papermill": {
     "duration": 0.032075,
     "end_time": "2022-03-07T01:07:10.458262",
     "exception": false,
     "start_time": "2022-03-07T01:07:10.426187",
     "status": "completed"
    },
    "tags": []
   },
   "outputs": [],
   "source": [
    "# Set this to True if you want to run this template directly\n",
    "STANDALONE = False\n",
    "if STANDALONE:\n",
    "    print(\"parameters not injected, running with standalone_parameters\")\n",
    "    parameters = standalone_parameters\n",
    "\n",
    "if not 'parameters' in locals() and not 'parameters' in globals():\n",
    "    raise Exception(\"Parameter injection failed\")\n",
    "\n",
    "#Use an easy dict for all the parameters\n",
    "p = EasyDict(parameters)\n",
    "\n",
    "supplied_keys = set(p.keys())\n",
    "\n",
    "if  supplied_keys != required_parameters:\n",
    "    print(\"Parameters are incorrect\")\n",
    "    if len(supplied_keys - required_parameters)>0: print(\"Shouldn't have:\", str(supplied_keys - required_parameters))\n",
    "    if len(required_parameters - supplied_keys)>0: print(\"Need to have:\", str(required_parameters - supplied_keys))\n",
    "    raise RuntimeError(\"Parameters are incorrect\")\n",
    "\n"
   ]
  },
  {
   "cell_type": "code",
   "execution_count": 6,
   "id": "3a028d58",
   "metadata": {
    "execution": {
     "iopub.execute_input": "2022-03-07T01:07:10.492220Z",
     "iopub.status.busy": "2022-03-07T01:07:10.491547Z",
     "iopub.status.idle": "2022-03-07T01:07:10.501062Z",
     "shell.execute_reply": "2022-03-07T01:07:10.501282Z"
    },
    "papermill": {
     "duration": 0.025581,
     "end_time": "2022-03-07T01:07:10.501365",
     "exception": false,
     "start_time": "2022-03-07T01:07:10.475784",
     "status": "completed"
    },
    "tags": []
   },
   "outputs": [],
   "source": [
    "###################################\n",
    "# Set the RNGs and make it all deterministic\n",
    "###################################\n",
    "np.random.seed(p.seed)\n",
    "random.seed(p.seed)\n",
    "torch.manual_seed(p.seed)\n",
    "\n",
    "torch.use_deterministic_algorithms(True) "
   ]
  },
  {
   "cell_type": "code",
   "execution_count": 7,
   "id": "b691acf6",
   "metadata": {
    "execution": {
     "iopub.execute_input": "2022-03-07T01:07:10.531009Z",
     "iopub.status.busy": "2022-03-07T01:07:10.530743Z",
     "iopub.status.idle": "2022-03-07T01:07:10.543935Z",
     "shell.execute_reply": "2022-03-07T01:07:10.543591Z"
    },
    "papermill": {
     "duration": 0.029182,
     "end_time": "2022-03-07T01:07:10.544023",
     "exception": false,
     "start_time": "2022-03-07T01:07:10.514841",
     "status": "completed"
    },
    "tags": []
   },
   "outputs": [],
   "source": [
    "###########################################\n",
    "# The stratified datasets honor this\n",
    "###########################################\n",
    "torch.set_default_dtype(eval(p.torch_default_dtype))"
   ]
  },
  {
   "cell_type": "code",
   "execution_count": 8,
   "id": "b5fba671",
   "metadata": {
    "execution": {
     "iopub.execute_input": "2022-03-07T01:07:10.573143Z",
     "iopub.status.busy": "2022-03-07T01:07:10.572883Z",
     "iopub.status.idle": "2022-03-07T01:07:10.616721Z",
     "shell.execute_reply": "2022-03-07T01:07:10.617040Z"
    },
    "papermill": {
     "duration": 0.059119,
     "end_time": "2022-03-07T01:07:10.617149",
     "exception": false,
     "start_time": "2022-03-07T01:07:10.558030",
     "status": "completed"
    },
    "tags": []
   },
   "outputs": [],
   "source": [
    "###################################\n",
    "# Build the network(s)\n",
    "# Note: It's critical to do this AFTER setting the RNG\n",
    "###################################\n",
    "x_net = build_sequential(p.x_net)"
   ]
  },
  {
   "cell_type": "code",
   "execution_count": 9,
   "id": "5d7e61cc",
   "metadata": {
    "execution": {
     "iopub.execute_input": "2022-03-07T01:07:10.649376Z",
     "iopub.status.busy": "2022-03-07T01:07:10.649120Z",
     "iopub.status.idle": "2022-03-07T01:07:10.662210Z",
     "shell.execute_reply": "2022-03-07T01:07:10.662546Z"
    },
    "papermill": {
     "duration": 0.030204,
     "end_time": "2022-03-07T01:07:10.662662",
     "exception": false,
     "start_time": "2022-03-07T01:07:10.632458",
     "status": "completed"
    },
    "tags": []
   },
   "outputs": [],
   "source": [
    "start_time_secs = time.time()"
   ]
  },
  {
   "cell_type": "code",
   "execution_count": 10,
   "id": "c6b67dfd",
   "metadata": {
    "execution": {
     "iopub.execute_input": "2022-03-07T01:07:10.697593Z",
     "iopub.status.busy": "2022-03-07T01:07:10.697286Z",
     "iopub.status.idle": "2022-03-07T01:07:10.710061Z",
     "shell.execute_reply": "2022-03-07T01:07:10.710285Z"
    },
    "papermill": {
     "duration": 0.030718,
     "end_time": "2022-03-07T01:07:10.710608",
     "exception": false,
     "start_time": "2022-03-07T01:07:10.679890",
     "status": "completed"
    },
    "tags": []
   },
   "outputs": [],
   "source": [
    "p.domains_source = []\n",
    "p.domains_target = []\n",
    "\n",
    "\n",
    "train_original_source = []\n",
    "val_original_source   = []\n",
    "test_original_source  = []\n",
    "\n",
    "train_original_target = []\n",
    "val_original_target   = []\n",
    "test_original_target  = []"
   ]
  },
  {
   "cell_type": "code",
   "execution_count": 11,
   "id": "e3d9c3d3",
   "metadata": {
    "execution": {
     "iopub.execute_input": "2022-03-07T01:07:10.746247Z",
     "iopub.status.busy": "2022-03-07T01:07:10.745969Z",
     "iopub.status.idle": "2022-03-07T01:07:10.760940Z",
     "shell.execute_reply": "2022-03-07T01:07:10.761447Z"
    },
    "papermill": {
     "duration": 0.032113,
     "end_time": "2022-03-07T01:07:10.761589",
     "exception": false,
     "start_time": "2022-03-07T01:07:10.729476",
     "status": "completed"
    },
    "tags": []
   },
   "outputs": [],
   "source": [
    "# global_x_transform_func = lambda x: normalize(x.to(torch.get_default_dtype()), \"unit_power\") # unit_power, unit_mag\n",
    "# global_x_transform_func = lambda x: normalize(x, \"unit_power\") # unit_power, unit_mag"
   ]
  },
  {
   "cell_type": "code",
   "execution_count": 12,
   "id": "acb78fd2",
   "metadata": {
    "execution": {
     "iopub.execute_input": "2022-03-07T01:07:10.802854Z",
     "iopub.status.busy": "2022-03-07T01:07:10.802552Z",
     "iopub.status.idle": "2022-03-07T01:07:10.815107Z",
     "shell.execute_reply": "2022-03-07T01:07:10.814755Z"
    },
    "papermill": {
     "duration": 0.034339,
     "end_time": "2022-03-07T01:07:10.815196",
     "exception": false,
     "start_time": "2022-03-07T01:07:10.780857",
     "status": "completed"
    },
    "tags": []
   },
   "outputs": [],
   "source": [
    "def add_dataset(\n",
    "    labels,\n",
    "    domains,\n",
    "    pickle_path,\n",
    "    x_transforms,\n",
    "    episode_transforms,\n",
    "    domain_prefix,\n",
    "    num_examples_per_domain_per_label,\n",
    "    source_or_target_dataset:str,\n",
    "    iterator_seed=p.seed,\n",
    "    dataset_seed=p.dataset_seed,\n",
    "    n_shot=p.n_shot,\n",
    "    n_way=p.n_way,\n",
    "    n_query=p.n_query,\n",
    "    train_val_test_k_factors=(p.train_k_factor,p.val_k_factor,p.test_k_factor),\n",
    "):\n",
    "   \n",
    "    if x_transforms == []: x_transform = None\n",
    "    else: x_transform = get_chained_transform(x_transforms)\n",
    "    \n",
    "    if episode_transforms == []: episode_transform = None\n",
    "    else: raise Exception(\"episode_transforms not implemented\")\n",
    "    \n",
    "    episode_transform = lambda tup, _prefix=domain_prefix: (_prefix + str(tup[0]), tup[1])\n",
    "\n",
    "\n",
    "    eaf = Episodic_Accessor_Factory(\n",
    "        labels=labels,\n",
    "        domains=domains,\n",
    "        num_examples_per_domain_per_label=num_examples_per_domain_per_label,\n",
    "        iterator_seed=iterator_seed,\n",
    "        dataset_seed=dataset_seed,\n",
    "        n_shot=n_shot,\n",
    "        n_way=n_way,\n",
    "        n_query=n_query,\n",
    "        train_val_test_k_factors=train_val_test_k_factors,\n",
    "        pickle_path=pickle_path,\n",
    "        x_transform_func=x_transform,\n",
    "    )\n",
    "\n",
    "    train, val, test = eaf.get_train(), eaf.get_val(), eaf.get_test()\n",
    "    train = Lazy_Iterable_Wrapper(train, episode_transform)\n",
    "    val = Lazy_Iterable_Wrapper(val, episode_transform)\n",
    "    test = Lazy_Iterable_Wrapper(test, episode_transform)\n",
    "\n",
    "    if source_or_target_dataset==\"source\":\n",
    "        train_original_source.append(train)\n",
    "        val_original_source.append(val)\n",
    "        test_original_source.append(test)\n",
    "\n",
    "        p.domains_source.extend(\n",
    "            [domain_prefix + str(u) for u in domains]\n",
    "        )\n",
    "    elif source_or_target_dataset==\"target\":\n",
    "        train_original_target.append(train)\n",
    "        val_original_target.append(val)\n",
    "        test_original_target.append(test)\n",
    "        p.domains_target.extend(\n",
    "            [domain_prefix + str(u) for u in domains]\n",
    "        )\n",
    "    else:\n",
    "        raise Exception(f\"invalid source_or_target_dataset: {source_or_target_dataset}\")\n",
    "    "
   ]
  },
  {
   "cell_type": "code",
   "execution_count": 13,
   "id": "fe266617",
   "metadata": {
    "execution": {
     "iopub.execute_input": "2022-03-07T01:07:10.848226Z",
     "iopub.status.busy": "2022-03-07T01:07:10.847943Z",
     "iopub.status.idle": "2022-03-07T01:07:11.311974Z",
     "shell.execute_reply": "2022-03-07T01:07:11.312430Z"
    },
    "papermill": {
     "duration": 0.48154,
     "end_time": "2022-03-07T01:07:11.312586",
     "exception": false,
     "start_time": "2022-03-07T01:07:10.831046",
     "status": "completed"
    },
    "tags": []
   },
   "outputs": [],
   "source": [
    "for ds in p.datasets:\n",
    "    add_dataset(**ds)"
   ]
  },
  {
   "cell_type": "code",
   "execution_count": 14,
   "id": "b90d65ac",
   "metadata": {
    "execution": {
     "iopub.execute_input": "2022-03-07T01:07:11.352687Z",
     "iopub.status.busy": "2022-03-07T01:07:11.352418Z",
     "iopub.status.idle": "2022-03-07T01:07:11.367869Z",
     "shell.execute_reply": "2022-03-07T01:07:11.367496Z"
    },
    "papermill": {
     "duration": 0.032913,
     "end_time": "2022-03-07T01:07:11.367962",
     "exception": false,
     "start_time": "2022-03-07T01:07:11.335049",
     "status": "completed"
    },
    "tags": []
   },
   "outputs": [],
   "source": [
    "# from steves_utils.CORES.utils import (\n",
    "#     ALL_NODES,\n",
    "#     ALL_NODES_MINIMUM_1000_EXAMPLES,\n",
    "#     ALL_DAYS\n",
    "# )\n",
    "\n",
    "# add_dataset(\n",
    "#     labels=ALL_NODES,\n",
    "#     domains = ALL_DAYS,\n",
    "#     num_examples_per_domain_per_label=100,\n",
    "#     pickle_path=os.path.join(get_datasets_base_path(), \"cores.stratified_ds.2022A.pkl\"),\n",
    "#     source_or_target_dataset=\"target\",\n",
    "#     x_transform_func=global_x_transform_func,\n",
    "#     domain_modifier=lambda u: f\"cores_{u}\"\n",
    "# )"
   ]
  },
  {
   "cell_type": "code",
   "execution_count": 15,
   "id": "76db484d",
   "metadata": {
    "execution": {
     "iopub.execute_input": "2022-03-07T01:07:11.403075Z",
     "iopub.status.busy": "2022-03-07T01:07:11.402714Z",
     "iopub.status.idle": "2022-03-07T01:07:11.415891Z",
     "shell.execute_reply": "2022-03-07T01:07:11.415596Z"
    },
    "papermill": {
     "duration": 0.030935,
     "end_time": "2022-03-07T01:07:11.415958",
     "exception": false,
     "start_time": "2022-03-07T01:07:11.385023",
     "status": "completed"
    },
    "tags": []
   },
   "outputs": [],
   "source": [
    "# from steves_utils.ORACLE.utils_v2 import (\n",
    "#     ALL_DISTANCES_FEET,\n",
    "#     ALL_RUNS,\n",
    "#     ALL_SERIAL_NUMBERS,\n",
    "# )\n",
    "\n",
    "\n",
    "# add_dataset(\n",
    "#     labels=ALL_SERIAL_NUMBERS,\n",
    "#     domains = list(set(ALL_DISTANCES_FEET) - {2,62}),\n",
    "#     num_examples_per_domain_per_label=100,\n",
    "#     pickle_path=os.path.join(get_datasets_base_path(), \"oracle.Run2_framed_2000Examples_stratified_ds.2022A.pkl\"),\n",
    "#     source_or_target_dataset=\"source\",\n",
    "#     x_transform_func=global_x_transform_func,\n",
    "#     domain_modifier=lambda u: f\"oracle1_{u}\"\n",
    "# )\n"
   ]
  },
  {
   "cell_type": "code",
   "execution_count": 16,
   "id": "97dea9d2",
   "metadata": {
    "execution": {
     "iopub.execute_input": "2022-03-07T01:07:11.448417Z",
     "iopub.status.busy": "2022-03-07T01:07:11.448134Z",
     "iopub.status.idle": "2022-03-07T01:07:11.462379Z",
     "shell.execute_reply": "2022-03-07T01:07:11.461705Z"
    },
    "papermill": {
     "duration": 0.031086,
     "end_time": "2022-03-07T01:07:11.462531",
     "exception": false,
     "start_time": "2022-03-07T01:07:11.431445",
     "status": "completed"
    },
    "tags": []
   },
   "outputs": [],
   "source": [
    "# from steves_utils.ORACLE.utils_v2 import (\n",
    "#     ALL_DISTANCES_FEET,\n",
    "#     ALL_RUNS,\n",
    "#     ALL_SERIAL_NUMBERS,\n",
    "# )\n",
    "\n",
    "\n",
    "# add_dataset(\n",
    "#     labels=ALL_SERIAL_NUMBERS,\n",
    "#     domains = list(set(ALL_DISTANCES_FEET) - {2,62,56}),\n",
    "#     num_examples_per_domain_per_label=100,\n",
    "#     pickle_path=os.path.join(get_datasets_base_path(), \"oracle.Run2_framed_2000Examples_stratified_ds.2022A.pkl\"),\n",
    "#     source_or_target_dataset=\"source\",\n",
    "#     x_transform_func=global_x_transform_func,\n",
    "#     domain_modifier=lambda u: f\"oracle2_{u}\"\n",
    "# )"
   ]
  },
  {
   "cell_type": "code",
   "execution_count": 17,
   "id": "6f289866",
   "metadata": {
    "execution": {
     "iopub.execute_input": "2022-03-07T01:07:11.497300Z",
     "iopub.status.busy": "2022-03-07T01:07:11.497025Z",
     "iopub.status.idle": "2022-03-07T01:07:11.510207Z",
     "shell.execute_reply": "2022-03-07T01:07:11.511166Z"
    },
    "papermill": {
     "duration": 0.03205,
     "end_time": "2022-03-07T01:07:11.511313",
     "exception": false,
     "start_time": "2022-03-07T01:07:11.479263",
     "status": "completed"
    },
    "tags": []
   },
   "outputs": [],
   "source": [
    "# add_dataset(\n",
    "#     labels=list(range(19)),\n",
    "#     domains = [0,1,2],\n",
    "#     num_examples_per_domain_per_label=100,\n",
    "#     pickle_path=os.path.join(get_datasets_base_path(), \"metehan.stratified_ds.2022A.pkl\"),\n",
    "#     source_or_target_dataset=\"target\",\n",
    "#     x_transform_func=global_x_transform_func,\n",
    "#     domain_modifier=lambda u: f\"met_{u}\"\n",
    "# )"
   ]
  },
  {
   "cell_type": "code",
   "execution_count": 18,
   "id": "86a863c3",
   "metadata": {
    "execution": {
     "iopub.execute_input": "2022-03-07T01:07:11.548188Z",
     "iopub.status.busy": "2022-03-07T01:07:11.547925Z",
     "iopub.status.idle": "2022-03-07T01:07:11.559365Z",
     "shell.execute_reply": "2022-03-07T01:07:11.559791Z"
    },
    "papermill": {
     "duration": 0.029531,
     "end_time": "2022-03-07T01:07:11.559928",
     "exception": false,
     "start_time": "2022-03-07T01:07:11.530397",
     "status": "completed"
    },
    "tags": []
   },
   "outputs": [],
   "source": [
    "# # from steves_utils.wisig.utils import (\n",
    "# #     ALL_NODES_MINIMUM_100_EXAMPLES,\n",
    "# #     ALL_NODES_MINIMUM_500_EXAMPLES,\n",
    "# #     ALL_NODES_MINIMUM_1000_EXAMPLES,\n",
    "# #     ALL_DAYS\n",
    "# # )\n",
    "\n",
    "# import steves_utils.wisig.utils as wisig\n",
    "\n",
    "\n",
    "# add_dataset(\n",
    "#     labels=wisig.ALL_NODES_MINIMUM_100_EXAMPLES,\n",
    "#     domains = wisig.ALL_DAYS,\n",
    "#     num_examples_per_domain_per_label=100,\n",
    "#     pickle_path=os.path.join(get_datasets_base_path(), \"wisig.node3-19.stratified_ds.2022A.pkl\"),\n",
    "#     source_or_target_dataset=\"target\",\n",
    "#     x_transform_func=global_x_transform_func,\n",
    "#     domain_modifier=lambda u: f\"wisig_{u}\"\n",
    "# )"
   ]
  },
  {
   "cell_type": "code",
   "execution_count": 19,
   "id": "fd5442bc",
   "metadata": {
    "execution": {
     "iopub.execute_input": "2022-03-07T01:07:11.598772Z",
     "iopub.status.busy": "2022-03-07T01:07:11.598464Z",
     "iopub.status.idle": "2022-03-07T01:07:11.609910Z",
     "shell.execute_reply": "2022-03-07T01:07:11.609659Z"
    },
    "papermill": {
     "duration": 0.03133,
     "end_time": "2022-03-07T01:07:11.609977",
     "exception": false,
     "start_time": "2022-03-07T01:07:11.578647",
     "status": "completed"
    },
    "tags": []
   },
   "outputs": [],
   "source": [
    "###################################\n",
    "# Build the dataset\n",
    "###################################\n",
    "train_original_source = Iterable_Aggregator(train_original_source, p.seed)\n",
    "val_original_source = Iterable_Aggregator(val_original_source, p.seed)\n",
    "test_original_source = Iterable_Aggregator(test_original_source, p.seed)\n",
    "\n",
    "\n",
    "train_original_target = Iterable_Aggregator(train_original_target, p.seed)\n",
    "val_original_target = Iterable_Aggregator(val_original_target, p.seed)\n",
    "test_original_target = Iterable_Aggregator(test_original_target, p.seed)\n",
    "\n",
    "# For CNN We only use X and Y. And we only train on the source.\n",
    "# Properly form the data using a transform lambda and Lazy_Iterable_Wrapper. Finally wrap them in a dataloader\n",
    "\n",
    "transform_lambda = lambda ex: ex[1] # Original is (<domain>, <episode>) so we strip down to episode only\n",
    "\n",
    "train_processed_source = Lazy_Iterable_Wrapper(train_original_source, transform_lambda)\n",
    "val_processed_source   = Lazy_Iterable_Wrapper(val_original_source, transform_lambda)\n",
    "test_processed_source  = Lazy_Iterable_Wrapper(test_original_source, transform_lambda)\n",
    "\n",
    "train_processed_target = Lazy_Iterable_Wrapper(train_original_target, transform_lambda)\n",
    "val_processed_target   = Lazy_Iterable_Wrapper(val_original_target, transform_lambda)\n",
    "test_processed_target  = Lazy_Iterable_Wrapper(test_original_target, transform_lambda)\n",
    "\n",
    "datasets = EasyDict({\n",
    "    \"source\": {\n",
    "        \"original\": {\"train\":train_original_source, \"val\":val_original_source, \"test\":test_original_source},\n",
    "        \"processed\": {\"train\":train_processed_source, \"val\":val_processed_source, \"test\":test_processed_source}\n",
    "    },\n",
    "    \"target\": {\n",
    "        \"original\": {\"train\":train_original_target, \"val\":val_original_target, \"test\":test_original_target},\n",
    "        \"processed\": {\"train\":train_processed_target, \"val\":val_processed_target, \"test\":test_processed_target}\n",
    "    },\n",
    "})"
   ]
  },
  {
   "cell_type": "code",
   "execution_count": 20,
   "id": "5b3c01fc",
   "metadata": {
    "execution": {
     "iopub.execute_input": "2022-03-07T01:07:11.642615Z",
     "iopub.status.busy": "2022-03-07T01:07:11.642193Z",
     "iopub.status.idle": "2022-03-07T01:07:13.722242Z",
     "shell.execute_reply": "2022-03-07T01:07:13.722479Z"
    },
    "papermill": {
     "duration": 2.097903,
     "end_time": "2022-03-07T01:07:13.722563",
     "exception": false,
     "start_time": "2022-03-07T01:07:11.624660",
     "status": "completed"
    },
    "tags": []
   },
   "outputs": [
    {
     "name": "stdout",
     "output_type": "stream",
     "text": [
      "{'Metehan_0', 'Metehan_1', 'Metehan_2'}\n"
     ]
    },
    {
     "name": "stdout",
     "output_type": "stream",
     "text": [
      "{'CORES_2', 'CORES_4', 'CORES_3', 'CORES_5', 'CORES_1'}\n"
     ]
    },
    {
     "name": "stdout",
     "output_type": "stream",
     "text": [
      "tensor([[[ 0.5361,  0.3348,  0.1813,  ..., -0.3881, -0.6353, -0.5605],\n",
      "         [ 0.4769,  0.4742,  0.5323,  ..., -1.1415, -1.1731, -1.0970]],\n",
      "\n",
      "        [[ 0.4818,  0.2295,  0.2498,  ..., -0.4410, -0.5961, -0.6569],\n",
      "         [ 0.3788,  0.4269,  0.6362,  ..., -1.0976, -1.1141, -1.0699]],\n",
      "\n",
      "        [[ 0.3844,  0.3555,  0.1504,  ..., -0.4121, -0.5723, -0.7673],\n",
      "         [ 0.4629,  0.4241,  0.6046,  ..., -1.0593, -1.1926, -0.9644]],\n",
      "\n",
      "        ...,\n",
      "\n",
      "        [[ 0.3804,  0.1973,  0.1731,  ..., -0.2311, -0.4518, -0.6394],\n",
      "         [ 0.4431,  0.4070,  0.5716,  ..., -1.2353, -1.0292, -1.1076]],\n",
      "\n",
      "        [[ 0.4307,  0.3620,  0.1028,  ..., -0.2854, -0.5241, -0.5940],\n",
      "         [ 0.4233,  0.5295,  0.5339,  ..., -1.2007, -1.3121, -1.0800]],\n",
      "\n",
      "        [[ 0.3512,  0.2098,  0.1674,  ..., -0.3170, -0.4822, -0.6139],\n",
      "         [ 0.2693,  0.3041,  0.5869,  ..., -1.2280, -1.2544, -1.0210]]])\n"
     ]
    }
   ],
   "source": [
    "from steves_utils.transforms import get_average_magnitude, get_average_power\n",
    "\n",
    "print(set([u for u,_ in val_original_source]))\n",
    "print(set([u for u,_ in val_original_target]))\n",
    "\n",
    "s_x, s_y, q_x, q_y, _ = next(iter(train_processed_source))\n",
    "print(s_x)\n",
    "\n",
    "# for ds in [\n",
    "#     train_processed_source,\n",
    "#     val_processed_source,\n",
    "#     test_processed_source,\n",
    "#     train_processed_target,\n",
    "#     val_processed_target,\n",
    "#     test_processed_target\n",
    "# ]:\n",
    "#     for s_x, s_y, q_x, q_y, _ in ds:\n",
    "#         for X in (s_x, q_x):\n",
    "#             for x in X:\n",
    "#                 assert np.isclose(get_average_magnitude(x.numpy()), 1.0)\n",
    "#                 assert np.isclose(get_average_power(x.numpy()), 1.0)\n",
    "                "
   ]
  },
  {
   "cell_type": "code",
   "execution_count": 21,
   "id": "bbdacba1",
   "metadata": {
    "execution": {
     "iopub.execute_input": "2022-03-07T01:07:13.756198Z",
     "iopub.status.busy": "2022-03-07T01:07:13.755929Z",
     "iopub.status.idle": "2022-03-07T01:07:13.814195Z",
     "shell.execute_reply": "2022-03-07T01:07:13.814582Z"
    },
    "papermill": {
     "duration": 0.076709,
     "end_time": "2022-03-07T01:07:13.814728",
     "exception": false,
     "start_time": "2022-03-07T01:07:13.738019",
     "status": "completed"
    },
    "tags": []
   },
   "outputs": [
    {
     "name": "stdout",
     "output_type": "stream",
     "text": [
      "(2, 256)\n"
     ]
    }
   ],
   "source": [
    "###################################\n",
    "# Build the model\n",
    "###################################\n",
    "model = Steves_Prototypical_Network(x_net, device=p.device, x_shape=(2,256))\n",
    "optimizer = Adam(params=model.parameters(), lr=p.lr)"
   ]
  },
  {
   "cell_type": "code",
   "execution_count": 22,
   "id": "22b39ac5",
   "metadata": {
    "execution": {
     "iopub.execute_input": "2022-03-07T01:07:13.851229Z",
     "iopub.status.busy": "2022-03-07T01:07:13.850958Z",
     "iopub.status.idle": "2022-03-07T01:07:50.622988Z",
     "shell.execute_reply": "2022-03-07T01:07:50.623429Z"
    },
    "papermill": {
     "duration": 36.791074,
     "end_time": "2022-03-07T01:07:50.623573",
     "exception": false,
     "start_time": "2022-03-07T01:07:13.832499",
     "status": "completed"
    },
    "tags": []
   },
   "outputs": [
    {
     "name": "stdout",
     "output_type": "stream",
     "text": [
      "epoch: 1, [batch: 1 / 126], examples_per_second: 846.2211, train_label_loss: 2.6264, \n"
     ]
    },
    {
     "name": "stdout",
     "output_type": "stream",
     "text": [
      "epoch: 1, [batch: 13 / 126], examples_per_second: 2806.3185, train_label_loss: 0.4225, \n"
     ]
    },
    {
     "name": "stdout",
     "output_type": "stream",
     "text": [
      "epoch: 1, [batch: 26 / 126], examples_per_second: 2939.3060, train_label_loss: 0.2687, \n"
     ]
    },
    {
     "name": "stdout",
     "output_type": "stream",
     "text": [
      "epoch: 1, [batch: 38 / 126], examples_per_second: 2995.8132, train_label_loss: 0.4166, \n"
     ]
    },
    {
     "name": "stdout",
     "output_type": "stream",
     "text": [
      "epoch: 1, [batch: 51 / 126], examples_per_second: 2968.4395, train_label_loss: 0.2999, \n"
     ]
    },
    {
     "name": "stdout",
     "output_type": "stream",
     "text": [
      "epoch: 1, [batch: 63 / 126], examples_per_second: 2991.2047, train_label_loss: 0.2203, \n"
     ]
    },
    {
     "name": "stdout",
     "output_type": "stream",
     "text": [
      "epoch: 1, [batch: 76 / 126], examples_per_second: 2964.3573, train_label_loss: 0.2234, \n"
     ]
    },
    {
     "name": "stdout",
     "output_type": "stream",
     "text": [
      "epoch: 1, [batch: 88 / 126], examples_per_second: 2955.9319, train_label_loss: 0.3630, \n"
     ]
    },
    {
     "name": "stdout",
     "output_type": "stream",
     "text": [
      "epoch: 1, [batch: 101 / 126], examples_per_second: 3014.6575, train_label_loss: 0.1711, \n"
     ]
    },
    {
     "name": "stdout",
     "output_type": "stream",
     "text": [
      "epoch: 1, [batch: 113 / 126], examples_per_second: 2978.5676, train_label_loss: 0.2693, \n"
     ]
    },
    {
     "name": "stdout",
     "output_type": "stream",
     "text": [
      "=============================================================\n",
      "epoch: 1, source_val_acc_label: 0.8904, target_val_acc_label: 0.2471, source_val_label_loss: 0.3073, target_val_label_loss: 2.9723, \n",
      "=============================================================\n"
     ]
    },
    {
     "name": "stdout",
     "output_type": "stream",
     "text": [
      "New best\n"
     ]
    },
    {
     "name": "stdout",
     "output_type": "stream",
     "text": [
      "epoch: 2, [batch: 1 / 126], examples_per_second: 112.3218, train_label_loss: 0.2381, \n"
     ]
    },
    {
     "name": "stdout",
     "output_type": "stream",
     "text": [
      "epoch: 2, [batch: 13 / 126], examples_per_second: 3032.2404, train_label_loss: 1.0389, \n"
     ]
    },
    {
     "name": "stdout",
     "output_type": "stream",
     "text": [
      "epoch: 2, [batch: 26 / 126], examples_per_second: 3034.6304, train_label_loss: 0.9883, \n"
     ]
    },
    {
     "name": "stdout",
     "output_type": "stream",
     "text": [
      "epoch: 2, [batch: 38 / 126], examples_per_second: 3006.7471, train_label_loss: 1.1970, \n"
     ]
    },
    {
     "name": "stdout",
     "output_type": "stream",
     "text": [
      "epoch: 2, [batch: 51 / 126], examples_per_second: 3007.5302, train_label_loss: 2.6842, \n"
     ]
    },
    {
     "name": "stdout",
     "output_type": "stream",
     "text": [
      "epoch: 2, [batch: 63 / 126], examples_per_second: 2985.9595, train_label_loss: 1.0397, \n"
     ]
    },
    {
     "name": "stdout",
     "output_type": "stream",
     "text": [
      "epoch: 2, [batch: 76 / 126], examples_per_second: 3051.6213, train_label_loss: 2.3958, \n"
     ]
    },
    {
     "name": "stdout",
     "output_type": "stream",
     "text": [
      "epoch: 2, [batch: 88 / 126], examples_per_second: 3026.5707, train_label_loss: 1.3501, \n"
     ]
    },
    {
     "name": "stdout",
     "output_type": "stream",
     "text": [
      "epoch: 2, [batch: 101 / 126], examples_per_second: 3017.0438, train_label_loss: 2.7967, \n"
     ]
    },
    {
     "name": "stdout",
     "output_type": "stream",
     "text": [
      "epoch: 2, [batch: 113 / 126], examples_per_second: 3023.5354, train_label_loss: 1.5771, \n"
     ]
    },
    {
     "name": "stdout",
     "output_type": "stream",
     "text": [
      "=============================================================\n",
      "epoch: 2, source_val_acc_label: 0.7836, target_val_acc_label: 0.4406, source_val_label_loss: 1.9415, target_val_label_loss: 2.5566, \n",
      "=============================================================\n"
     ]
    },
    {
     "name": "stdout",
     "output_type": "stream",
     "text": [
      "New best\n"
     ]
    },
    {
     "name": "stdout",
     "output_type": "stream",
     "text": [
      "epoch: 3, [batch: 1 / 126], examples_per_second: 109.6084, train_label_loss: 2.8130, \n"
     ]
    },
    {
     "name": "stdout",
     "output_type": "stream",
     "text": [
      "epoch: 3, [batch: 13 / 126], examples_per_second: 3048.2502, train_label_loss: 2.0026, \n"
     ]
    },
    {
     "name": "stdout",
     "output_type": "stream",
     "text": [
      "epoch: 3, [batch: 26 / 126], examples_per_second: 3002.9725, train_label_loss: 1.4211, \n"
     ]
    },
    {
     "name": "stdout",
     "output_type": "stream",
     "text": [
      "epoch: 3, [batch: 38 / 126], examples_per_second: 3001.4849, train_label_loss: 0.6356, \n"
     ]
    },
    {
     "name": "stdout",
     "output_type": "stream",
     "text": [
      "epoch: 3, [batch: 51 / 126], examples_per_second: 3029.9584, train_label_loss: 1.1020, \n"
     ]
    },
    {
     "name": "stdout",
     "output_type": "stream",
     "text": [
      "epoch: 3, [batch: 63 / 126], examples_per_second: 3007.7249, train_label_loss: 1.8686, \n"
     ]
    },
    {
     "name": "stdout",
     "output_type": "stream",
     "text": [
      "epoch: 3, [batch: 76 / 126], examples_per_second: 3018.2568, train_label_loss: 0.3856, \n"
     ]
    },
    {
     "name": "stdout",
     "output_type": "stream",
     "text": [
      "epoch: 3, [batch: 88 / 126], examples_per_second: 3046.1762, train_label_loss: 0.6965, \n"
     ]
    },
    {
     "name": "stdout",
     "output_type": "stream",
     "text": [
      "epoch: 3, [batch: 101 / 126], examples_per_second: 3056.0917, train_label_loss: 0.6151, \n"
     ]
    },
    {
     "name": "stdout",
     "output_type": "stream",
     "text": [
      "epoch: 3, [batch: 113 / 126], examples_per_second: 3029.6467, train_label_loss: 0.4415, \n"
     ]
    },
    {
     "name": "stdout",
     "output_type": "stream",
     "text": [
      "=============================================================\n",
      "epoch: 3, source_val_acc_label: 0.8465, target_val_acc_label: 0.4217, source_val_label_loss: 0.5336, target_val_label_loss: 1.5228, \n",
      "=============================================================\n"
     ]
    },
    {
     "name": "stdout",
     "output_type": "stream",
     "text": [
      "New best\n"
     ]
    },
    {
     "name": "stdout",
     "output_type": "stream",
     "text": [
      "epoch: 4, [batch: 1 / 126], examples_per_second: 108.8526, train_label_loss: 0.3714, \n"
     ]
    },
    {
     "name": "stdout",
     "output_type": "stream",
     "text": [
      "epoch: 4, [batch: 13 / 126], examples_per_second: 3034.5940, train_label_loss: 0.2972, \n"
     ]
    },
    {
     "name": "stdout",
     "output_type": "stream",
     "text": [
      "epoch: 4, [batch: 26 / 126], examples_per_second: 3012.7586, train_label_loss: 0.1817, \n"
     ]
    },
    {
     "name": "stdout",
     "output_type": "stream",
     "text": [
      "epoch: 4, [batch: 38 / 126], examples_per_second: 3048.8838, train_label_loss: 0.6571, \n"
     ]
    },
    {
     "name": "stdout",
     "output_type": "stream",
     "text": [
      "epoch: 4, [batch: 51 / 126], examples_per_second: 3008.5887, train_label_loss: 0.2119, \n"
     ]
    },
    {
     "name": "stdout",
     "output_type": "stream",
     "text": [
      "epoch: 4, [batch: 63 / 126], examples_per_second: 3047.6926, train_label_loss: 0.2709, \n"
     ]
    },
    {
     "name": "stdout",
     "output_type": "stream",
     "text": [
      "epoch: 4, [batch: 76 / 126], examples_per_second: 2986.8930, train_label_loss: 0.3984, \n"
     ]
    },
    {
     "name": "stdout",
     "output_type": "stream",
     "text": [
      "epoch: 4, [batch: 88 / 126], examples_per_second: 2993.5344, train_label_loss: 0.3575, \n"
     ]
    },
    {
     "name": "stdout",
     "output_type": "stream",
     "text": [
      "epoch: 4, [batch: 101 / 126], examples_per_second: 3035.3150, train_label_loss: 0.3589, \n"
     ]
    },
    {
     "name": "stdout",
     "output_type": "stream",
     "text": [
      "epoch: 4, [batch: 113 / 126], examples_per_second: 2991.9890, train_label_loss: 0.3275, \n"
     ]
    },
    {
     "name": "stdout",
     "output_type": "stream",
     "text": [
      "=============================================================\n",
      "epoch: 4, source_val_acc_label: 0.8611, target_val_acc_label: 0.4191, source_val_label_loss: 0.3924, target_val_label_loss: 1.5826, \n",
      "=============================================================\n"
     ]
    },
    {
     "name": "stdout",
     "output_type": "stream",
     "text": [
      "epoch: 5, [batch: 1 / 126], examples_per_second: 111.7771, train_label_loss: 0.3116, \n"
     ]
    },
    {
     "name": "stdout",
     "output_type": "stream",
     "text": [
      "epoch: 5, [batch: 13 / 126], examples_per_second: 2926.3374, train_label_loss: 0.1625, \n"
     ]
    },
    {
     "name": "stdout",
     "output_type": "stream",
     "text": [
      "epoch: 5, [batch: 26 / 126], examples_per_second: 3006.5037, train_label_loss: 0.2578, \n"
     ]
    },
    {
     "name": "stdout",
     "output_type": "stream",
     "text": [
      "epoch: 5, [batch: 38 / 126], examples_per_second: 2973.0727, train_label_loss: 0.1419, \n"
     ]
    },
    {
     "name": "stdout",
     "output_type": "stream",
     "text": [
      "epoch: 5, [batch: 51 / 126], examples_per_second: 2972.5090, train_label_loss: 0.2496, \n"
     ]
    },
    {
     "name": "stdout",
     "output_type": "stream",
     "text": [
      "epoch: 5, [batch: 63 / 126], examples_per_second: 2978.7885, train_label_loss: 0.1921, \n"
     ]
    },
    {
     "name": "stdout",
     "output_type": "stream",
     "text": [
      "epoch: 5, [batch: 76 / 126], examples_per_second: 2964.2539, train_label_loss: 0.3439, \n"
     ]
    },
    {
     "name": "stdout",
     "output_type": "stream",
     "text": [
      "epoch: 5, [batch: 88 / 126], examples_per_second: 3048.2249, train_label_loss: 0.1913, \n"
     ]
    },
    {
     "name": "stdout",
     "output_type": "stream",
     "text": [
      "epoch: 5, [batch: 101 / 126], examples_per_second: 3058.8854, train_label_loss: 0.2505, \n"
     ]
    },
    {
     "name": "stdout",
     "output_type": "stream",
     "text": [
      "epoch: 5, [batch: 113 / 126], examples_per_second: 3053.6192, train_label_loss: 0.3983, \n"
     ]
    },
    {
     "name": "stdout",
     "output_type": "stream",
     "text": [
      "=============================================================\n",
      "epoch: 5, source_val_acc_label: 0.8538, target_val_acc_label: 0.2622, source_val_label_loss: 0.3834, target_val_label_loss: 2.2278, \n",
      "=============================================================\n"
     ]
    },
    {
     "name": "stdout",
     "output_type": "stream",
     "text": [
      "epoch: 6, [batch: 1 / 126], examples_per_second: 112.2877, train_label_loss: 0.3256, \n"
     ]
    },
    {
     "name": "stdout",
     "output_type": "stream",
     "text": [
      "epoch: 6, [batch: 13 / 126], examples_per_second: 2964.2037, train_label_loss: 0.2547, \n"
     ]
    },
    {
     "name": "stdout",
     "output_type": "stream",
     "text": [
      "epoch: 6, [batch: 26 / 126], examples_per_second: 3025.9264, train_label_loss: 0.4034, \n"
     ]
    },
    {
     "name": "stdout",
     "output_type": "stream",
     "text": [
      "epoch: 6, [batch: 38 / 126], examples_per_second: 2986.4127, train_label_loss: 0.1541, \n"
     ]
    },
    {
     "name": "stdout",
     "output_type": "stream",
     "text": [
      "epoch: 6, [batch: 51 / 126], examples_per_second: 2982.0011, train_label_loss: 0.1754, \n"
     ]
    },
    {
     "name": "stdout",
     "output_type": "stream",
     "text": [
      "epoch: 6, [batch: 63 / 126], examples_per_second: 2944.6800, train_label_loss: 0.1705, \n"
     ]
    },
    {
     "name": "stdout",
     "output_type": "stream",
     "text": [
      "epoch: 6, [batch: 76 / 126], examples_per_second: 2974.8118, train_label_loss: 0.2165, \n"
     ]
    },
    {
     "name": "stdout",
     "output_type": "stream",
     "text": [
      "epoch: 6, [batch: 88 / 126], examples_per_second: 3019.7527, train_label_loss: 0.4304, \n"
     ]
    },
    {
     "name": "stdout",
     "output_type": "stream",
     "text": [
      "epoch: 6, [batch: 101 / 126], examples_per_second: 3015.6404, train_label_loss: 0.2124, \n"
     ]
    },
    {
     "name": "stdout",
     "output_type": "stream",
     "text": [
      "epoch: 6, [batch: 113 / 126], examples_per_second: 3020.9508, train_label_loss: 0.2388, \n"
     ]
    },
    {
     "name": "stdout",
     "output_type": "stream",
     "text": [
      "=============================================================\n",
      "epoch: 6, source_val_acc_label: 0.8596, target_val_acc_label: 0.2230, source_val_label_loss: 0.3846, target_val_label_loss: 2.6517, \n",
      "=============================================================\n"
     ]
    },
    {
     "name": "stdout",
     "output_type": "stream",
     "text": [
      "epoch: 7, [batch: 1 / 126], examples_per_second: 113.8324, train_label_loss: 0.2507, \n"
     ]
    },
    {
     "name": "stdout",
     "output_type": "stream",
     "text": [
      "epoch: 7, [batch: 13 / 126], examples_per_second: 2987.8851, train_label_loss: 0.2390, \n"
     ]
    },
    {
     "name": "stdout",
     "output_type": "stream",
     "text": [
      "epoch: 7, [batch: 26 / 126], examples_per_second: 3004.1969, train_label_loss: 0.3980, \n"
     ]
    },
    {
     "name": "stdout",
     "output_type": "stream",
     "text": [
      "epoch: 7, [batch: 38 / 126], examples_per_second: 3030.1747, train_label_loss: 0.1521, \n"
     ]
    },
    {
     "name": "stdout",
     "output_type": "stream",
     "text": [
      "epoch: 7, [batch: 51 / 126], examples_per_second: 3000.7389, train_label_loss: 0.2797, \n"
     ]
    },
    {
     "name": "stdout",
     "output_type": "stream",
     "text": [
      "epoch: 7, [batch: 63 / 126], examples_per_second: 2984.2934, train_label_loss: 0.1120, \n"
     ]
    },
    {
     "name": "stdout",
     "output_type": "stream",
     "text": [
      "epoch: 7, [batch: 76 / 126], examples_per_second: 3023.1485, train_label_loss: 0.3667, \n"
     ]
    },
    {
     "name": "stdout",
     "output_type": "stream",
     "text": [
      "epoch: 7, [batch: 88 / 126], examples_per_second: 2952.9636, train_label_loss: 0.2217, \n"
     ]
    },
    {
     "name": "stdout",
     "output_type": "stream",
     "text": [
      "epoch: 7, [batch: 101 / 126], examples_per_second: 3003.3799, train_label_loss: 0.1791, \n"
     ]
    },
    {
     "name": "stdout",
     "output_type": "stream",
     "text": [
      "epoch: 7, [batch: 113 / 126], examples_per_second: 2986.2672, train_label_loss: 0.5279, \n"
     ]
    },
    {
     "name": "stdout",
     "output_type": "stream",
     "text": [
      "=============================================================\n",
      "epoch: 7, source_val_acc_label: 0.8523, target_val_acc_label: 0.4448, source_val_label_loss: 0.4004, target_val_label_loss: 1.7820, \n",
      "=============================================================\n"
     ]
    },
    {
     "name": "stdout",
     "output_type": "stream",
     "text": [
      "Patience (3) exhausted\n"
     ]
    }
   ],
   "source": [
    "###################################\n",
    "# train\n",
    "###################################\n",
    "jig = PTN_Train_Eval_Test_Jig(model, p.BEST_MODEL_PATH, p.device)\n",
    "\n",
    "jig.train(\n",
    "    train_iterable=datasets.source.processed.train,\n",
    "    source_val_iterable=datasets.source.processed.val,\n",
    "    target_val_iterable=datasets.target.processed.val,\n",
    "    num_epochs=p.n_epoch,\n",
    "    num_logs_per_epoch=p.NUM_LOGS_PER_EPOCH,\n",
    "    patience=p.patience,\n",
    "    optimizer=optimizer,\n",
    "    criteria_for_best=p.criteria_for_best,\n",
    ")"
   ]
  },
  {
   "cell_type": "code",
   "execution_count": 23,
   "id": "31e8fabf",
   "metadata": {
    "execution": {
     "iopub.execute_input": "2022-03-07T01:07:50.691121Z",
     "iopub.status.busy": "2022-03-07T01:07:50.689660Z",
     "iopub.status.idle": "2022-03-07T01:07:50.705592Z",
     "shell.execute_reply": "2022-03-07T01:07:50.706060Z"
    },
    "papermill": {
     "duration": 0.050005,
     "end_time": "2022-03-07T01:07:50.706216",
     "exception": false,
     "start_time": "2022-03-07T01:07:50.656211",
     "status": "completed"
    },
    "tags": []
   },
   "outputs": [],
   "source": [
    "total_experiment_time_secs = time.time() - start_time_secs"
   ]
  },
  {
   "cell_type": "code",
   "execution_count": 24,
   "id": "87b9595b",
   "metadata": {
    "execution": {
     "iopub.execute_input": "2022-03-07T01:07:50.779273Z",
     "iopub.status.busy": "2022-03-07T01:07:50.778857Z",
     "iopub.status.idle": "2022-03-07T01:07:58.291797Z",
     "shell.execute_reply": "2022-03-07T01:07:58.291444Z"
    },
    "papermill": {
     "duration": 7.551268,
     "end_time": "2022-03-07T01:07:58.291889",
     "exception": false,
     "start_time": "2022-03-07T01:07:50.740621",
     "status": "completed"
    },
    "tags": []
   },
   "outputs": [],
   "source": [
    "###################################\n",
    "# Evaluate the model\n",
    "###################################\n",
    "source_test_label_accuracy, source_test_label_loss = jig.test(datasets.source.processed.test)\n",
    "target_test_label_accuracy, target_test_label_loss = jig.test(datasets.target.processed.test)\n",
    "\n",
    "source_val_label_accuracy, source_val_label_loss = jig.test(datasets.source.processed.val)\n",
    "target_val_label_accuracy, target_val_label_loss = jig.test(datasets.target.processed.val)\n",
    "\n",
    "history = jig.get_history()\n",
    "\n",
    "total_epochs_trained = len(history[\"epoch_indices\"])\n",
    "\n",
    "val_dl = Iterable_Aggregator((datasets.source.original.val,datasets.target.original.val))\n",
    "\n",
    "confusion = ptn_confusion_by_domain_over_dataloader(model, p.device, val_dl)\n",
    "per_domain_accuracy = per_domain_accuracy_from_confusion(confusion)\n",
    "\n",
    "# Add a key to per_domain_accuracy for if it was a source domain\n",
    "for domain, accuracy in per_domain_accuracy.items():\n",
    "    per_domain_accuracy[domain] = {\n",
    "        \"accuracy\": accuracy,\n",
    "        \"source?\": domain in p.domains_source\n",
    "    }\n",
    "\n",
    "# Do an independent accuracy assesment JUST TO BE SURE!\n",
    "# _source_test_label_accuracy = independent_accuracy_assesment(model, datasets.source.processed.test, p.device)\n",
    "# _target_test_label_accuracy = independent_accuracy_assesment(model, datasets.target.processed.test, p.device)\n",
    "# _source_val_label_accuracy = independent_accuracy_assesment(model, datasets.source.processed.val, p.device)\n",
    "# _target_val_label_accuracy = independent_accuracy_assesment(model, datasets.target.processed.val, p.device)\n",
    "\n",
    "# assert(_source_test_label_accuracy == source_test_label_accuracy)\n",
    "# assert(_target_test_label_accuracy == target_test_label_accuracy)\n",
    "# assert(_source_val_label_accuracy == source_val_label_accuracy)\n",
    "# assert(_target_val_label_accuracy == target_val_label_accuracy)\n",
    "\n",
    "experiment = {\n",
    "    \"experiment_name\": p.experiment_name,\n",
    "    \"parameters\": dict(p),\n",
    "    \"results\": {\n",
    "        \"source_test_label_accuracy\": source_test_label_accuracy,\n",
    "        \"source_test_label_loss\": source_test_label_loss,\n",
    "        \"target_test_label_accuracy\": target_test_label_accuracy,\n",
    "        \"target_test_label_loss\": target_test_label_loss,\n",
    "        \"source_val_label_accuracy\": source_val_label_accuracy,\n",
    "        \"source_val_label_loss\": source_val_label_loss,\n",
    "        \"target_val_label_accuracy\": target_val_label_accuracy,\n",
    "        \"target_val_label_loss\": target_val_label_loss,\n",
    "        \"total_epochs_trained\": total_epochs_trained,\n",
    "        \"total_experiment_time_secs\": total_experiment_time_secs,\n",
    "        \"confusion\": confusion,\n",
    "        \"per_domain_accuracy\": per_domain_accuracy,\n",
    "    },\n",
    "    \"history\": history,\n",
    "    \"dataset_metrics\": get_dataset_metrics(datasets, \"ptn\"),\n",
    "}"
   ]
  },
  {
   "cell_type": "code",
   "execution_count": 25,
   "id": "54a21829",
   "metadata": {
    "execution": {
     "iopub.execute_input": "2022-03-07T01:07:58.356925Z",
     "iopub.status.busy": "2022-03-07T01:07:58.356664Z",
     "iopub.status.idle": "2022-03-07T01:07:58.608166Z",
     "shell.execute_reply": "2022-03-07T01:07:58.608768Z"
    },
    "papermill": {
     "duration": 0.2864,
     "end_time": "2022-03-07T01:07:58.608917",
     "exception": false,
     "start_time": "2022-03-07T01:07:58.322517",
     "status": "completed"
    },
    "tags": []
   },
   "outputs": [
    {
     "data": {
      "image/png": "[encoded data removed]",
      "text/plain": [
       "<Figure size 1080x504 with 1 Axes>"
      ]
     },
     "metadata": {
      "needs_background": "light"
     },
     "output_type": "display_data"
    }
   ],
   "source": [
    "ax = get_loss_curve(experiment)\n",
    "plt.show()"
   ]
  },
  {
   "cell_type": "code",
   "execution_count": 26,
   "id": "fd8a0f60",
   "metadata": {
    "execution": {
     "iopub.execute_input": "2022-03-07T01:07:58.680816Z",
     "iopub.status.busy": "2022-03-07T01:07:58.680549Z",
     "iopub.status.idle": "2022-03-07T01:07:58.867822Z",
     "shell.execute_reply": "2022-03-07T01:07:58.868119Z"
    },
    "papermill": {
     "duration": 0.222355,
     "end_time": "2022-03-07T01:07:58.868219",
     "exception": false,
     "start_time": "2022-03-07T01:07:58.645864",
     "status": "completed"
    },
    "tags": []
   },
   "outputs": [
    {
     "data": {
      "text/plain": [
       "<matplotlib.axes._subplots.AxesSubplot at 0x7fa61e4f7df0>"
      ]
     },
     "execution_count": 26,
     "metadata": {},
     "output_type": "execute_result"
    },
    {
     "data": {
      "image/png": "[encoded data removed]",
      "text/plain": [
       "<Figure size 1080x504 with 1 Axes>"
      ]
     },
     "metadata": {
      "needs_background": "light"
     },
     "output_type": "display_data"
    }
   ],
   "source": [
    "get_results_table(experiment)"
   ]
  },
  {
   "cell_type": "code",
   "execution_count": 27,
   "id": "cf8dc689",
   "metadata": {
    "execution": {
     "iopub.execute_input": "2022-03-07T01:07:58.946518Z",
     "iopub.status.busy": "2022-03-07T01:07:58.946246Z",
     "iopub.status.idle": "2022-03-07T01:07:59.132773Z",
     "shell.execute_reply": "2022-03-07T01:07:59.132530Z"
    },
    "papermill": {
     "duration": 0.224121,
     "end_time": "2022-03-07T01:07:59.132845",
     "exception": false,
     "start_time": "2022-03-07T01:07:58.908724",
     "status": "completed"
    },
    "tags": []
   },
   "outputs": [
    {
     "data": {
      "text/plain": [
       "<matplotlib.axes._subplots.AxesSubplot at 0x7fa61e4f3700>"
      ]
     },
     "execution_count": 27,
     "metadata": {},
     "output_type": "execute_result"
    },
    {
     "data": {
      "image/png": "[encoded data removed]",
      "text/plain": [
       "<Figure size 1080x504 with 1 Axes>"
      ]
     },
     "metadata": {
      "needs_background": "light"
     },
     "output_type": "display_data"
    }
   ],
   "source": [
    "get_domain_accuracies(experiment)"
   ]
  },
  {
   "cell_type": "code",
   "execution_count": 28,
   "id": "a74ae082",
   "metadata": {
    "execution": {
     "iopub.execute_input": "2022-03-07T01:07:59.206038Z",
     "iopub.status.busy": "2022-03-07T01:07:59.205740Z",
     "iopub.status.idle": "2022-03-07T01:07:59.219719Z",
     "shell.execute_reply": "2022-03-07T01:07:59.220268Z"
    },
    "papermill": {
     "duration": 0.053035,
     "end_time": "2022-03-07T01:07:59.220393",
     "exception": false,
     "start_time": "2022-03-07T01:07:59.167358",
     "status": "completed"
    },
    "tags": []
   },
   "outputs": [
    {
     "name": "stdout",
     "output_type": "stream",
     "text": [
      "Source Test Label Accuracy: 0.8435672514619883 Target Test Label Accuracy: 0.44094993581514763\n",
      "Source Val Label Accuracy: 0.8464912280701754 Target Val Label Accuracy: 0.4216944801026958\n"
     ]
    }
   ],
   "source": [
    "print(\"Source Test Label Accuracy:\", experiment[\"results\"][\"source_test_label_accuracy\"], \"Target Test Label Accuracy:\", experiment[\"results\"][\"target_test_label_accuracy\"])\n",
    "print(\"Source Val Label Accuracy:\", experiment[\"results\"][\"source_val_label_accuracy\"], \"Target Val Label Accuracy:\", experiment[\"results\"][\"target_val_label_accuracy\"])"
   ]
  },
  {
   "cell_type": "code",
   "execution_count": 29,
   "id": "dacca602",
   "metadata": {
    "execution": {
     "iopub.execute_input": "2022-03-07T01:07:59.300777Z",
     "iopub.status.busy": "2022-03-07T01:07:59.300471Z",
     "iopub.status.idle": "2022-03-07T01:07:59.315519Z",
     "shell.execute_reply": "2022-03-07T01:07:59.315736Z"
    },
    "papermill": {
     "duration": 0.056045,
     "end_time": "2022-03-07T01:07:59.315815",
     "exception": false,
     "start_time": "2022-03-07T01:07:59.259770",
     "status": "completed"
    },
    "tags": [
     "experiment_json"
    ]
   },
   "outputs": [
    {
     "data": {
      "text/plain": [
       "'{\"experiment_name\": \"tl_1_cores-metehan\", \"parameters\": {\"experiment_name\": \"tl_1_cores-metehan\", \"device\": \"cuda\", \"lr\": 0.001, \"seed\": 1337, \"dataset_seed\": 1337, \"n_shot\": 3, \"n_query\": 2, \"train_k_factor\": 3, \"val_k_factor\": 2, \"test_k_factor\": 2, \"torch_default_dtype\": \"torch.float32\", \"n_epoch\": 50, \"patience\": 3, \"criteria_for_best\": \"target_loss\", \"x_net\": [{\"class\": \"nnReshape\", \"kargs\": {\"shape\": [-1, 1, 2, 256]}}, {\"class\": \"Conv2d\", \"kargs\": {\"in_channels\": 1, \"out_channels\": 256, \"kernel_size\": [1, 7], \"bias\": false, \"padding\": [0, 3]}}, {\"class\": \"ReLU\", \"kargs\": {\"inplace\": true}}, {\"class\": \"BatchNorm2d\", \"kargs\": {\"num_features\": 256}}, {\"class\": \"Conv2d\", \"kargs\": {\"in_channels\": 256, \"out_channels\": 80, \"kernel_size\": [2, 7], \"bias\": true, \"padding\": [0, 3]}}, {\"class\": \"ReLU\", \"kargs\": {\"inplace\": true}}, {\"class\": \"BatchNorm2d\", \"kargs\": {\"num_features\": 80}}, {\"class\": \"Flatten\", \"kargs\": {}}, {\"class\": \"Linear\", \"kargs\": {\"in_features\": 20480, \"out_features\": 256}}, {\"class\": \"ReLU\", \"kargs\": {\"inplace\": true}}, {\"class\": \"BatchNorm1d\", \"kargs\": {\"num_features\": 256}}, {\"class\": \"Linear\", \"kargs\": {\"in_features\": 256, \"out_features\": 256}}], \"NUM_LOGS_PER_EPOCH\": 10, \"BEST_MODEL_PATH\": \"./best_model.pth\", \"n_way\": 19, \"datasets\": [{\"labels\": [\"1-10.\", \"1-11.\", \"1-15.\", \"1-16.\", \"1-17.\", \"1-18.\", \"1-19.\", \"10-4.\", \"10-7.\", \"11-1.\", \"11-14.\", \"11-17.\", \"11-20.\", \"11-7.\", \"13-20.\", \"13-8.\", \"14-10.\", \"14-11.\", \"14-14.\", \"14-7.\", \"15-1.\", \"15-20.\", \"16-1.\", \"16-16.\", \"17-10.\", \"17-11.\", \"17-2.\", \"19-1.\", \"19-16.\", \"19-19.\", \"19-20.\", \"19-3.\", \"2-10.\", \"2-11.\", \"2-17.\", \"2-18.\", \"2-20.\", \"2-3.\", \"2-4.\", \"2-5.\", \"2-6.\", \"2-7.\", \"2-8.\", \"3-13.\", \"3-18.\", \"3-3.\", \"4-1.\", \"4-10.\", \"4-11.\", \"4-19.\", \"5-5.\", \"6-15.\", \"7-10.\", \"7-14.\", \"8-18.\", \"8-20.\", \"8-3.\", \"8-8.\"], \"domains\": [1, 2, 3, 4, 5], \"num_examples_per_domain_per_label\": 100, \"pickle_path\": \"/mnt/wd500GB/CSC500/csc500-main/datasets/cores.stratified_ds.2022A.pkl\", \"source_or_target_dataset\": \"target\", \"x_transforms\": [], \"episode_transforms\": [], \"domain_prefix\": \"CORES_\"}, {\"labels\": [0, 1, 2, 3, 4, 5, 6, 7, 8, 9, 10, 11, 12, 13, 14, 15, 16, 17, 18], \"domains\": [0, 1, 2], \"num_examples_per_domain_per_label\": 100, \"pickle_path\": \"/mnt/wd500GB/CSC500/csc500-main/datasets/metehan.stratified_ds.2022A.pkl\", \"source_or_target_dataset\": \"source\", \"x_transforms\": [], \"episode_transforms\": [], \"domain_prefix\": \"Metehan_\"}], \"domains_source\": [\"Metehan_0\", \"Metehan_1\", \"Metehan_2\"], \"domains_target\": [\"CORES_1\", \"CORES_2\", \"CORES_3\", \"CORES_4\", \"CORES_5\"]}, \"results\": {\"source_test_label_accuracy\": 0.8435672514619883, \"source_test_label_loss\": 0.49442997574806213, \"target_test_label_accuracy\": 0.44094993581514763, \"target_test_label_loss\": 1.4807119369506836, \"source_val_label_accuracy\": 0.8464912280701754, \"source_val_label_loss\": 0.533577561378479, \"target_val_label_accuracy\": 0.4216944801026958, \"target_val_label_loss\": 1.522806167602539, \"total_epochs_trained\": 7, \"total_experiment_time_secs\": 40.04348373413086, \"confusion\": {\"Metehan_1\": {\"9\": {\"9\": 12}, \"5\": {\"5\": 12}, \"15\": {\"15\": 12}, \"13\": {\"13\": 11, \"12\": 1}, \"11\": {\"17\": 2, \"11\": 10}, \"7\": {\"0\": 2, \"7\": 10}, \"2\": {\"2\": 11, \"0\": 1}, \"6\": {\"14\": 2, \"4\": 6, \"6\": 4}, \"16\": {\"16\": 12}, \"14\": {\"14\": 9, \"6\": 3}, \"18\": {\"18\": 12}, \"1\": {\"1\": 11, \"7\": 1}, \"10\": {\"10\": 12}, \"12\": {\"12\": 12}, \"3\": {\"3\": 12}, \"8\": {\"8\": 11, \"15\": 1}, \"0\": {\"0\": 7, \"7\": 5}, \"4\": {\"4\": 8, \"6\": 4}, \"17\": {\"11\": 4, \"17\": 8}}, \"Metehan_0\": {\"6\": {\"6\": 6, \"4\": 5, \"14\": 1}, \"18\": {\"5\": 2, \"18\": 10}, \"2\": {\"7\": 1, \"2\": 10, \"0\": 1}, \"17\": {\"17\": 11, \"11\": 1}, \"1\": {\"1\": 11, \"5\": 1}, \"4\": {\"6\": 6, \"4\": 6}, \"8\": {\"8\": 12}, \"9\": {\"9\": 12}, \"7\": {\"7\": 9, \"0\": 3}, \"15\": {\"15\": 12}, \"12\": {\"12\": 12}, \"11\": {\"11\": 7, \"17\": 4, \"16\": 1}, \"13\": {\"13\": 12}, \"0\": {\"0\": 8, \"7\": 4}, \"10\": {\"10\": 11, \"5\": 1}, \"14\": {\"14\": 9, \"6\": 3}, \"3\": {\"3\": 12}, \"5\": {\"5\": 10, \"1\": 2}, \"16\": {\"16\": 11, \"11\": 1}}, \"Metehan_2\": {\"1\": {\"1\": 12}, \"0\": {\"0\": 9, \"7\": 2, \"2\": 1}, \"13\": {\"13\": 12}, \"11\": {\"11\": 5, \"17\": 6, \"8\": 1}, \"5\": {\"5\": 12}, \"15\": {\"15\": 12}, \"14\": {\"6\": 2, \"14\": 10}, \"8\": {\"8\": 12}, \"6\": {\"14\": 2, \"4\": 4, \"6\": 6}, \"3\": {\"3\": 12}, \"10\": {\"10\": 11, \"5\": 1}, \"7\": {\"7\": 6, \"0\": 4, \"10\": 1, \"2\": 1}, \"17\": {\"17\": 11, \"11\": 1}, \"4\": {\"14\": 2, \"4\": 7, \"6\": 3}, \"2\": {\"2\": 12}, \"9\": {\"9\": 11, \"4\": 1}, \"12\": {\"12\": 12}, \"18\": {\"18\": 10, \"5\": 2}, \"16\": {\"16\": 10, \"11\": 1, \"10\": 1}}, \"CORES_3\": {\"17\": {\"17\": 10, \"32\": 1, \"49\": 1}, \"18\": {\"18\": 9, \"25\": 2, \"16\": 1}, \"27\": {\"27\": 5, \"7\": 2, \"9\": 3, \"20\": 1, \"8\": 1}, \"22\": {\"40\": 1, \"22\": 3, \"0\": 3, \"30\": 2, \"47\": 1, \"5\": 1, \"21\": 1}, \"10\": {\"23\": 3, \"19\": 1, \"11\": 3, \"16\": 1, \"10\": 3, \"53\": 1}, \"7\": {\"52\": 1, \"7\": 2, \"13\": 1, \"57\": 1, \"17\": 1, \"33\": 1, \"20\": 3, \"14\": 2}, \"13\": {\"7\": 1, \"32\": 1, \"13\": 5, \"29\": 3, \"39\": 1, \"51\": 1}, \"5\": {\"3\": 3, \"21\": 1, \"45\": 1, \"5\": 6, \"12\": 1}, \"43\": {\"23\": 2, \"43\": 6, \"37\": 1, \"24\": 3}, \"32\": {\"32\": 5, \"36\": 1, \"14\": 3, \"38\": 1}, \"15\": {\"15\": 4, \"11\": 2, \"28\": 3, \"16\": 1, \"10\": 2}, \"52\": {\"52\": 3, \"41\": 4, \"0\": 1, \"56\": 1, \"47\": 1, \"9\": 1, \"30\": 1}, \"29\": {\"7\": 4, \"20\": 1, \"29\": 2, \"27\": 1, \"8\": 2, \"13\": 2}, \"3\": {\"3\": 8, \"5\": 1, \"12\": 2, \"50\": 1}, \"8\": {\"7\": 2, \"27\": 2, \"8\": 4, \"9\": 2, \"33\": 1, \"57\": 1}, \"23\": {\"43\": 1, \"23\": 6, \"54\": 1, \"26\": 1, \"10\": 1}, \"41\": {\"7\": 1, \"27\": 1, \"20\": 2, \"1\": 3, \"4\": 2, \"52\": 1, \"41\": 1, \"9\": 1}, \"35\": {\"35\": 6, \"24\": 1, \"42\": 2, \"43\": 1, \"31\": 1, \"53\": 1}, \"40\": {\"40\": 5, \"20\": 2, \"0\": 3, \"5\": 2}, \"51\": {\"51\": 4, \"14\": 1, \"38\": 2, \"57\": 1}, \"42\": {\"42\": 5, \"49\": 1, \"17\": 2, \"35\": 2, \"26\": 1, \"34\": 1}, \"14\": {\"14\": 4, \"38\": 1, \"33\": 1, \"7\": 2, \"29\": 1, \"2\": 2, \"32\": 1}, \"25\": {\"16\": 2, \"25\": 9, \"11\": 1}, \"19\": {\"19\": 8}, \"11\": {\"19\": 1, \"16\": 2, \"28\": 1, \"11\": 6, \"25\": 1, \"53\": 1}, \"16\": {\"11\": 1, \"15\": 3, \"16\": 4, \"28\": 3, \"25\": 1}, \"24\": {\"35\": 1, \"42\": 2, \"24\": 3, \"43\": 2, \"26\": 2}, \"57\": {\"57\": 2, \"13\": 1, \"33\": 1, \"8\": 2, \"1\": 2, \"27\": 2}, \"12\": {\"12\": 8, \"45\": 1, \"3\": 2, \"5\": 1}, \"46\": {\"12\": 1, \"46\": 1, \"44\": 3, \"22\": 1, \"5\": 1, \"45\": 1, \"21\": 2, \"3\": 2}, \"28\": {\"11\": 1, \"16\": 3, \"15\": 1, \"28\": 7}, \"47\": {\"47\": 2, \"22\": 1, \"30\": 1, \"20\": 4, \"9\": 1, \"0\": 2, \"1\": 1}, \"9\": {\"4\": 1, \"48\": 3, \"1\": 2, \"52\": 1, \"20\": 1, \"9\": 1, \"41\": 1, \"27\": 1, \"30\": 1}, \"44\": {\"12\": 2, \"21\": 2, \"44\": 1, \"22\": 1, \"5\": 6}, \"45\": {\"12\": 4, \"3\": 2, \"6\": 3, \"45\": 2, \"44\": 1}, \"4\": {\"9\": 2, \"1\": 2, \"4\": 3, \"41\": 3}, \"50\": {\"12\": 2, \"3\": 3, \"21\": 1, \"5\": 3, \"50\": 1, \"44\": 2}, \"48\": {\"0\": 2, \"9\": 1, \"30\": 1, \"8\": 1, \"48\": 5, \"22\": 1, \"33\": 1}, \"0\": {\"0\": 10, \"20\": 1, \"52\": 1}, \"6\": {\"3\": 2, \"5\": 1, \"6\": 7, \"45\": 2}, \"55\": {\"34\": 1, \"35\": 2, \"17\": 2, \"55\": 5}, \"49\": {\"37\": 1, \"43\": 1, \"36\": 1, \"2\": 1, \"49\": 2, \"42\": 1, \"34\": 1, \"39\": 1, \"14\": 1, \"35\": 1, \"38\": 1}, \"36\": {\"36\": 10, \"14\": 2}, \"34\": {\"34\": 5, \"37\": 2, \"42\": 1, \"17\": 2, \"54\": 1, \"24\": 1}, \"37\": {\"34\": 1, \"37\": 4, \"42\": 1, \"31\": 2}, \"56\": {\"20\": 2, \"0\": 2, \"21\": 1, \"50\": 1, \"40\": 1, \"3\": 1, \"47\": 1, \"56\": 1}, \"53\": {\"53\": 5, \"11\": 1, \"31\": 2, \"26\": 2, \"15\": 1, \"23\": 1}, \"20\": {\"20\": 11, \"0\": 1}, \"21\": {\"3\": 3, \"21\": 4, \"46\": 1, \"5\": 2}, \"2\": {\"2\": 4, \"36\": 1, \"38\": 1, \"13\": 1, \"14\": 1, \"39\": 1, \"8\": 1}, \"1\": {\"1\": 5, \"9\": 1, \"41\": 2, \"4\": 1, \"0\": 1}, \"31\": {\"49\": 1, \"42\": 1, \"31\": 5, \"34\": 1, \"55\": 1, \"19\": 1}, \"30\": {\"30\": 4, \"48\": 1, \"4\": 2, \"22\": 1}, \"33\": {\"57\": 1, \"7\": 5, \"33\": 3, \"1\": 1}, \"38\": {\"38\": 2, \"17\": 1, \"51\": 2, \"14\": 2, \"39\": 1, \"2\": 1, \"27\": 1, \"57\": 1, \"13\": 1}, \"39\": {\"14\": 2, \"2\": 3, \"39\": 3, \"57\": 1, \"13\": 1}, \"54\": {\"54\": 6, \"43\": 1, \"26\": 1}, \"26\": {\"26\": 4, \"54\": 1, \"31\": 2, \"53\": 1}}, \"CORES_4\": {\"14\": {\"57\": 1, \"1\": 1, \"51\": 1, \"14\": 3, \"8\": 1, \"9\": 1, \"13\": 1, \"27\": 1}, \"27\": {\"2\": 1, \"4\": 1, \"27\": 6, \"39\": 1, \"1\": 1, \"8\": 2}, \"51\": {\"37\": 2, \"2\": 1, \"51\": 6, \"27\": 2, \"7\": 1}, \"9\": {\"1\": 3, \"9\": 5, \"4\": 3, \"52\": 1}, \"19\": {\"15\": 1, \"19\": 7, \"41\": 1, \"42\": 2, \"31\": 1}, \"34\": {\"15\": 1, \"19\": 2, \"34\": 4, \"16\": 1, \"10\": 2, \"42\": 1, \"28\": 1}, \"2\": {\"14\": 2, \"27\": 2, \"2\": 5, \"39\": 1, \"4\": 1, \"8\": 1}, \"1\": {\"9\": 1, \"4\": 3, \"1\": 6, \"47\": 2}, \"54\": {\"33\": 1, \"54\": 6, \"55\": 1, \"41\": 1, \"35\": 1}, \"47\": {\"4\": 2, \"1\": 2, \"48\": 1, \"9\": 2, \"20\": 1, \"47\": 1, \"52\": 1, \"8\": 1, \"0\": 1}, \"49\": {\"33\": 1, \"51\": 1, \"39\": 1, \"17\": 1, \"23\": 1, \"49\": 1}, \"38\": {\"49\": 2, \"2\": 1, \"39\": 1, \"43\": 1, \"7\": 1, \"38\": 1, \"33\": 1}, \"33\": {\"38\": 1, \"33\": 7, \"55\": 2}, \"31\": {\"33\": 1, \"19\": 2, \"34\": 1, \"31\": 4, \"43\": 1, \"24\": 1, \"17\": 1, \"35\": 1}, \"37\": {\"49\": 1, \"33\": 1, \"37\": 3, \"14\": 1, \"7\": 1, \"43\": 1, \"51\": 1, \"17\": 2, \"8\": 1}, \"4\": {\"1\": 3, \"4\": 7, \"52\": 2}, \"57\": {\"27\": 1, \"1\": 2, \"29\": 2, \"14\": 1, \"57\": 3, \"13\": 1}, \"15\": {\"34\": 1, \"15\": 3, \"26\": 1, \"16\": 2, \"11\": 2, \"19\": 1, \"28\": 2}, \"20\": {\"1\": 4, \"9\": 2, \"20\": 5, \"4\": 1}, \"30\": {\"30\": 1, \"3\": 2, \"21\": 1, \"12\": 3, \"5\": 1, \"44\": 2, \"0\": 1, \"6\": 1}, \"3\": {\"3\": 9, \"5\": 1, \"22\": 1, \"6\": 1}, \"17\": {\"49\": 2, \"17\": 5, \"55\": 2, \"7\": 3}, \"39\": {\"39\": 6, \"2\": 2, \"33\": 1, \"27\": 1, \"37\": 1, \"51\": 1}, \"41\": {\"24\": 2, \"41\": 4, \"19\": 1, \"35\": 1, \"32\": 1, \"43\": 1, \"54\": 2}, \"24\": {\"41\": 3, \"17\": 1, \"24\": 2, \"53\": 1, \"43\": 1, \"31\": 1, \"19\": 1}, \"40\": {\"0\": 1, \"40\": 6, \"12\": 2, \"52\": 1}, \"23\": {\"24\": 1, \"23\": 4, \"53\": 1, \"31\": 3, \"26\": 2, \"35\": 1}, \"13\": {\"47\": 1, \"4\": 1, \"48\": 1, \"13\": 2, \"1\": 2, \"29\": 2, \"8\": 1}, \"0\": {\"0\": 11, \"20\": 1}, \"11\": {\"11\": 7, \"16\": 4, \"28\": 1}, \"48\": {\"48\": 4, \"13\": 1, \"8\": 2, \"47\": 1, \"1\": 1, \"4\": 1}, \"5\": {\"5\": 7, \"21\": 1, \"45\": 1, \"12\": 3}, \"12\": {\"12\": 6, \"46\": 2, \"6\": 1, \"5\": 2, \"22\": 1}, \"52\": {\"46\": 1, \"52\": 2, \"47\": 1, \"20\": 3, \"1\": 1, \"40\": 2, \"48\": 1, \"30\": 1}, \"16\": {\"28\": 5, \"16\": 3, \"11\": 2, \"15\": 2}, \"25\": {\"25\": 9, \"28\": 1, \"11\": 1, \"16\": 1}, \"28\": {\"34\": 3, \"53\": 1, \"16\": 1, \"11\": 2, \"19\": 1, \"15\": 1, \"28\": 2, \"31\": 1}, \"18\": {\"25\": 2, \"18\": 9, \"11\": 1}, \"32\": {\"31\": 1, \"32\": 2, \"51\": 1, \"23\": 1, \"36\": 1, \"35\": 2, \"41\": 1, \"54\": 1}, \"50\": {\"3\": 3, \"12\": 3, \"6\": 4, \"5\": 1, \"50\": 1}, \"46\": {\"46\": 3, \"12\": 4, \"40\": 1, \"44\": 1, \"21\": 2, \"22\": 1}, \"55\": {\"17\": 1, \"55\": 1, \"32\": 2, \"49\": 2, \"33\": 2}, \"56\": {\"56\": 2, \"52\": 1, \"3\": 1, \"21\": 2, \"0\": 2, \"48\": 1, \"46\": 1, \"47\": 1, \"30\": 1}, \"43\": {\"32\": 2, \"55\": 1, \"43\": 5, \"35\": 3, \"41\": 1}, \"36\": {\"36\": 4, \"51\": 2, \"7\": 2, \"39\": 2}, \"29\": {\"29\": 4, \"9\": 1, \"1\": 1, \"13\": 2, \"27\": 1, \"20\": 1, \"4\": 2}, \"22\": {\"3\": 1, \"21\": 1, \"22\": 3, \"12\": 5, \"5\": 2}, \"21\": {\"52\": 1, \"22\": 1, \"5\": 3, \"12\": 2, \"46\": 2, \"21\": 2, \"44\": 1}, \"53\": {\"23\": 2, \"53\": 3, \"28\": 1, \"41\": 1, \"42\": 1, \"24\": 1, \"54\": 1}, \"7\": {\"17\": 2, \"7\": 4, \"38\": 1, \"27\": 1, \"35\": 1, \"37\": 1, \"43\": 1, \"51\": 1}, \"10\": {\"26\": 1, \"15\": 1, \"25\": 1, \"42\": 2, \"11\": 1, \"10\": 2}, \"35\": {\"17\": 2, \"42\": 2, \"38\": 2, \"35\": 1, \"36\": 1, \"23\": 2, \"43\": 1, \"33\": 1}, \"6\": {\"6\": 7, \"12\": 1, \"3\": 4}, \"26\": {\"10\": 4, \"26\": 4}, \"45\": {\"6\": 4, \"12\": 2, \"22\": 1, \"5\": 2, \"45\": 1}, \"8\": {\"8\": 6, \"29\": 1, \"1\": 2, \"48\": 1, \"4\": 1, \"57\": 1}, \"44\": {\"22\": 2, \"40\": 2, \"3\": 1, \"20\": 1, \"44\": 1, \"30\": 1, \"21\": 2}, \"42\": {\"26\": 1, \"42\": 4, \"41\": 1, \"19\": 2, \"53\": 1, \"15\": 1}}, \"CORES_5\": {\"17\": {\"41\": 5, \"17\": 7}, \"3\": {\"5\": 1, \"3\": 7, \"46\": 1, \"0\": 1, \"4\": 1, \"40\": 1}, \"44\": {\"5\": 5, \"44\": 1, \"4\": 1, \"9\": 1, \"12\": 1, \"40\": 1}, \"1\": {\"1\": 6, \"20\": 1, \"21\": 2, \"9\": 1, \"0\": 2}, \"41\": {\"35\": 1, \"17\": 1, \"41\": 6, \"14\": 1, \"32\": 1, \"7\": 1, \"37\": 1}, \"5\": {\"5\": 7, \"3\": 1, \"44\": 1, \"4\": 1, \"6\": 1, \"12\": 1}, \"2\": {\"38\": 1, \"41\": 4, \"2\": 3, \"39\": 1, \"13\": 1}, \"46\": {\"5\": 1, \"46\": 2, \"4\": 3, \"0\": 2, \"3\": 1, \"30\": 1}, \"35\": {\"35\": 6, \"32\": 2}, \"26\": {\"54\": 3, \"26\": 4, \"31\": 2, \"19\": 1, \"41\": 1, \"24\": 1}, \"54\": {\"17\": 1, \"54\": 8, \"34\": 1, \"23\": 2}, \"36\": {\"36\": 6, \"2\": 2, \"32\": 1, \"43\": 1, \"35\": 2}, \"49\": {\"17\": 2, \"41\": 1, \"49\": 8, \"36\": 1}, \"19\": {\"19\": 7, \"54\": 1, \"26\": 1, \"23\": 1}, \"43\": {\"2\": 1, \"36\": 2, \"49\": 1, \"38\": 1, \"43\": 4, \"17\": 1, \"37\": 1, \"35\": 1}, \"28\": {\"28\": 7, \"16\": 1}, \"39\": {\"39\": 5, \"14\": 2, \"38\": 2, \"2\": 1, \"27\": 1, \"51\": 1}, \"16\": {\"16\": 9, \"11\": 3}, \"38\": {\"1\": 2, \"49\": 1, \"14\": 1, \"38\": 1, \"51\": 1, \"17\": 2, \"41\": 1, \"37\": 1, \"8\": 1, \"36\": 1}, \"47\": {\"56\": 1, \"20\": 4, \"47\": 3, \"21\": 1, \"30\": 1}, \"29\": {\"14\": 1, \"20\": 1, \"29\": 5, \"47\": 1, \"8\": 2}, \"56\": {\"20\": 1, \"47\": 1, \"57\": 2}, \"20\": {\"20\": 9, \"1\": 1, \"48\": 1, \"0\": 1}, \"22\": {\"5\": 6, \"4\": 2, \"3\": 1, \"0\": 1}, \"14\": {\"14\": 7, \"13\": 1, \"7\": 1, \"8\": 2, \"2\": 1}, \"6\": {\"5\": 2, \"45\": 1, \"44\": 1, \"6\": 7, \"3\": 1}, \"52\": {\"47\": 2, \"21\": 2, \"9\": 2, \"56\": 1, \"52\": 2, \"0\": 1, \"46\": 1, \"57\": 1}, \"18\": {\"18\": 9, \"28\": 1}, \"27\": {\"14\": 2, \"27\": 6, \"8\": 3, \"29\": 1}, \"48\": {\"14\": 1, \"29\": 1, \"48\": 5, \"40\": 1, \"1\": 1, \"20\": 1, \"57\": 1, \"47\": 1}, \"34\": {\"54\": 1, \"34\": 5, \"49\": 1, \"33\": 3, \"55\": 2}, \"51\": {\"35\": 1, \"51\": 7, \"38\": 2, \"27\": 1, \"37\": 1}, \"24\": {\"24\": 5, \"34\": 2, \"54\": 1, \"23\": 1, \"55\": 1}, \"33\": {\"33\": 7, \"24\": 1, \"54\": 2, \"17\": 2}, \"45\": {\"45\": 8, \"6\": 2, \"3\": 1, \"50\": 1}, \"32\": {\"32\": 9, \"38\": 1}, \"25\": {\"15\": 1, \"25\": 6, \"11\": 1}, \"31\": {\"31\": 2, \"24\": 1, \"10\": 1, \"11\": 1, \"23\": 1}, \"15\": {\"25\": 1, \"15\": 3, \"10\": 2, \"11\": 2, \"28\": 2}, \"55\": {\"55\": 3, \"23\": 1, \"33\": 3, \"54\": 1, \"34\": 1, \"24\": 1}, \"53\": {\"53\": 7, \"23\": 1, \"24\": 1, \"42\": 3}, \"10\": {\"10\": 5, \"23\": 1, \"31\": 1, \"11\": 2, \"53\": 2, \"41\": 1}, \"40\": {\"46\": 1, \"4\": 1, \"3\": 1, \"0\": 2, \"9\": 2, \"30\": 2, \"12\": 2, \"1\": 1}, \"4\": {\"22\": 1, \"3\": 3, \"4\": 5, \"46\": 1, \"44\": 1, \"0\": 1}, \"11\": {\"16\": 3, \"15\": 2, \"28\": 1, \"42\": 2, \"11\": 2, \"10\": 2}, \"42\": {\"42\": 9, \"19\": 1}, \"8\": {\"29\": 1, \"8\": 7, \"7\": 2}, \"23\": {\"23\": 6, \"54\": 1, \"33\": 3, \"19\": 1, \"53\": 1}, \"50\": {\"45\": 5, \"50\": 3, \"3\": 1, \"6\": 3}, \"21\": {\"1\": 2, \"9\": 1, \"0\": 1, \"52\": 1, \"57\": 1, \"30\": 2, \"21\": 2}, \"30\": {\"4\": 2, \"0\": 2, \"40\": 2, \"9\": 1, \"30\": 3, \"12\": 1, \"1\": 1}, \"9\": {\"21\": 2, \"9\": 5, \"1\": 2, \"0\": 1}, \"13\": {\"13\": 3, \"14\": 1, \"52\": 1, \"38\": 1}, \"0\": {\"0\": 4, \"9\": 1, \"4\": 1, \"20\": 1, \"46\": 1}, \"37\": {\"17\": 2, \"37\": 1, \"20\": 1, \"41\": 2, \"34\": 1, \"2\": 1}, \"57\": {\"52\": 3, \"21\": 1, \"57\": 2, \"48\": 2}, \"7\": {\"7\": 5, \"14\": 1}, \"12\": {\"12\": 1, \"4\": 1, \"5\": 2, \"3\": 2}}, \"CORES_1\": {\"42\": {\"42\": 4, \"33\": 3, \"31\": 2, \"37\": 1}, \"32\": {\"9\": 3, \"55\": 1, \"39\": 1, \"51\": 2, \"49\": 1, \"32\": 2, \"38\": 1, \"7\": 1}, \"56\": {\"56\": 1, \"46\": 1, \"50\": 2, \"6\": 1, \"3\": 3, \"44\": 1, \"20\": 1}, \"39\": {\"47\": 1, \"31\": 1, \"39\": 1, \"49\": 1, \"48\": 1, \"38\": 2, \"41\": 1}, \"36\": {\"36\": 5, \"1\": 2, \"29\": 1, \"8\": 3, \"47\": 1}, \"16\": {\"16\": 7, \"15\": 1}, \"25\": {\"25\": 9, \"15\": 1, \"11\": 1, \"16\": 1}, \"47\": {\"57\": 1, \"47\": 4, \"8\": 1, \"27\": 1, \"48\": 1, \"29\": 3, \"21\": 1}, \"15\": {\"25\": 2, \"15\": 7, \"10\": 1, \"28\": 1, \"26\": 1}, \"38\": {\"32\": 1, \"39\": 1, \"48\": 1, \"9\": 1, \"7\": 1, \"37\": 1, \"43\": 1, \"8\": 2, \"51\": 1, \"2\": 1, \"38\": 1}, \"50\": {\"50\": 2, \"46\": 1, \"6\": 1, \"5\": 1, \"3\": 4, \"20\": 1}, \"57\": {\"57\": 2, \"36\": 1, \"48\": 1, \"27\": 1, \"13\": 2, \"47\": 1, \"14\": 1, \"0\": 1, \"29\": 1, \"12\": 1}, \"9\": {\"9\": 8, \"7\": 1, \"32\": 1}, \"31\": {\"42\": 1, \"31\": 4, \"49\": 2, \"55\": 1}, \"11\": {\"16\": 1, \"11\": 7, \"34\": 1, \"25\": 3}, \"46\": {\"5\": 1, \"46\": 2, \"44\": 3, \"3\": 1, \"20\": 1, \"6\": 2}, \"53\": {\"53\": 8, \"10\": 1, \"28\": 1, \"26\": 2}, \"24\": {\"24\": 6, \"54\": 3, \"23\": 2, \"17\": 1}, \"5\": {\"5\": 9, \"50\": 1}, \"34\": {\"24\": 1, \"34\": 5, \"54\": 1, \"23\": 1}, \"27\": {\"27\": 6, \"8\": 1, \"48\": 1, \"57\": 1, \"14\": 1}, \"14\": {\"14\": 7, \"8\": 1, \"30\": 1, \"21\": 1, \"2\": 1, \"13\": 1}, \"8\": {\"27\": 2, \"8\": 2, \"1\": 4, \"14\": 1, \"48\": 1, \"29\": 2}, \"18\": {\"11\": 3, \"18\": 9}, \"45\": {\"50\": 1, \"45\": 4, \"3\": 2, \"44\": 1, \"4\": 2, \"20\": 1, \"40\": 1}, \"6\": {\"6\": 3, \"44\": 1, \"45\": 1, \"3\": 2, \"20\": 2, \"4\": 1}, \"55\": {\"32\": 1, \"55\": 5, \"49\": 1, \"31\": 3}, \"49\": {\"32\": 2, \"43\": 2, \"49\": 4, \"1\": 2, \"38\": 1, \"37\": 1}, \"21\": {\"14\": 3, \"21\": 4, \"30\": 1}, \"10\": {\"10\": 5, \"25\": 2, \"53\": 1, \"54\": 1, \"26\": 1, \"35\": 1, \"23\": 1}, \"48\": {\"1\": 5, \"48\": 5, \"13\": 1, \"14\": 1}, \"35\": {\"35\": 8, \"54\": 3, \"28\": 1}, \"3\": {\"3\": 9, \"22\": 1, \"45\": 1, \"4\": 1}, \"33\": {\"33\": 8, \"42\": 1, \"31\": 2, \"17\": 1}, \"41\": {\"49\": 2, \"55\": 1, \"17\": 1, \"7\": 1, \"41\": 4, \"51\": 2, \"37\": 1}, \"40\": {\"56\": 1, \"40\": 3, \"12\": 3, \"0\": 2, \"3\": 1, \"4\": 2}, \"1\": {\"36\": 2, \"1\": 5, \"29\": 1, \"27\": 1, \"8\": 1, \"48\": 2}, \"43\": {\"43\": 4, \"49\": 2, \"38\": 1, \"37\": 1, \"41\": 1, \"36\": 1, \"7\": 2}, \"28\": {\"28\": 10, \"53\": 2}, \"44\": {\"44\": 5, \"5\": 1, \"6\": 2, \"3\": 1, \"20\": 1}, \"37\": {\"24\": 1, \"38\": 1, \"37\": 2, \"55\": 1, \"41\": 2, \"33\": 4, \"17\": 1}, \"51\": {\"38\": 2, \"51\": 5, \"41\": 1, \"7\": 2, \"32\": 1, \"9\": 1}, \"0\": {\"40\": 1, \"0\": 4, \"52\": 1, \"12\": 1, \"22\": 1, \"4\": 2}, \"7\": {\"38\": 1, \"9\": 1, \"7\": 3, \"51\": 1, \"1\": 1, \"32\": 3}, \"13\": {\"13\": 9, \"0\": 2, \"57\": 1}, \"23\": {\"54\": 2, \"23\": 7, \"24\": 1}, \"12\": {\"0\": 2, \"12\": 3, \"4\": 2, \"3\": 1, \"13\": 1, \"52\": 1}, \"54\": {\"54\": 6, \"35\": 3, \"33\": 1, \"23\": 2}, \"22\": {\"20\": 1, \"13\": 1, \"14\": 1, \"0\": 2, \"22\": 1}, \"19\": {\"28\": 2, \"19\": 5, \"35\": 1}, \"29\": {\"29\": 4, \"14\": 1, \"8\": 3, \"48\": 1, \"2\": 1}, \"20\": {\"20\": 4, \"3\": 3, \"6\": 1, \"4\": 2}, \"52\": {\"22\": 2, \"0\": 1, \"30\": 1, \"4\": 3, \"12\": 1, \"20\": 2}, \"17\": {\"31\": 1, \"17\": 5, \"33\": 2}, \"4\": {\"3\": 1, \"4\": 8, \"0\": 1}, \"30\": {\"52\": 1, \"14\": 1, \"30\": 4}, \"26\": {\"26\": 4, \"53\": 2}, \"2\": {\"2\": 6}}, \"CORES_2\": {\"6\": {\"3\": 5, \"12\": 1, \"44\": 1, \"6\": 1}, \"35\": {\"51\": 1, \"33\": 1, \"17\": 1, \"43\": 1, \"32\": 1, \"37\": 1, \"54\": 1, \"2\": 1, \"24\": 1, \"7\": 1}, \"38\": {\"51\": 1, \"38\": 2, \"8\": 1, \"29\": 2, \"13\": 1, \"2\": 1, \"41\": 1, \"14\": 1}, \"44\": {\"12\": 1, \"3\": 2, \"5\": 3, \"44\": 2, \"50\": 1, \"45\": 1}, \"33\": {\"38\": 2, \"51\": 1, \"17\": 2, \"33\": 2, \"41\": 1, \"32\": 2, \"2\": 1, \"55\": 1}, \"37\": {\"35\": 2, \"42\": 1, \"39\": 1, \"37\": 3, \"24\": 1, \"41\": 1, \"43\": 2, \"51\": 1}, \"1\": {\"1\": 10, \"9\": 1, \"30\": 1}, \"50\": {\"3\": 6, \"44\": 2, \"50\": 2, \"46\": 1, \"45\": 1}, \"12\": {\"12\": 7, \"3\": 5}, \"11\": {\"34\": 1, \"11\": 6, \"26\": 1}, \"51\": {\"33\": 1, \"51\": 5, \"32\": 2, \"13\": 1, \"38\": 1, \"36\": 2}, \"9\": {\"9\": 6, \"1\": 3, \"8\": 1, \"27\": 1, \"4\": 1}, \"34\": {\"23\": 2, \"34\": 2, \"15\": 2, \"28\": 1, \"10\": 4, \"25\": 1}, \"3\": {\"3\": 8, \"6\": 1, \"50\": 1, \"46\": 1, \"5\": 1}, \"23\": {\"23\": 7, \"34\": 1, \"26\": 1, \"53\": 1, \"10\": 1, \"43\": 1}, \"55\": {\"7\": 4, \"33\": 1, \"55\": 3, \"17\": 1, \"35\": 1}, \"57\": {\"9\": 5, \"4\": 3, \"14\": 2, \"56\": 1, \"27\": 1}, \"7\": {\"7\": 3, \"35\": 3, \"43\": 2, \"37\": 1, \"55\": 3}, \"30\": {\"1\": 1, \"30\": 4, \"0\": 4, \"48\": 1}, \"2\": {\"2\": 5, \"33\": 1, \"36\": 2, \"41\": 1, \"38\": 1}, \"27\": {\"33\": 1, \"27\": 5, \"13\": 2, \"8\": 1, \"14\": 1, \"57\": 1, \"9\": 1}, \"14\": {\"4\": 1, \"9\": 1, \"13\": 1, \"27\": 2, \"8\": 3, \"41\": 1, \"1\": 1, \"29\": 1, \"14\": 1}, \"0\": {\"30\": 3, \"47\": 2, \"0\": 4, \"48\": 1, \"56\": 2}, \"17\": {\"17\": 6, \"31\": 1, \"39\": 2, \"55\": 1}, \"5\": {\"44\": 2, \"3\": 4, \"21\": 3, \"5\": 2, \"46\": 1}, \"19\": {\"19\": 8, \"10\": 1, \"26\": 1}, \"41\": {\"27\": 3, \"14\": 2, \"13\": 2, \"41\": 3, \"32\": 1, \"4\": 1}, \"15\": {\"15\": 7, \"25\": 1, \"11\": 1, \"18\": 1}, \"4\": {\"0\": 1, \"30\": 1, \"4\": 5, \"56\": 1, \"40\": 1, \"1\": 2, \"47\": 1}, \"29\": {\"14\": 2, \"33\": 1, \"29\": 2, \"13\": 1, \"27\": 1, \"8\": 1, \"41\": 2, \"2\": 1, \"0\": 1}, \"31\": {\"55\": 1, \"31\": 6, \"42\": 1, \"43\": 2}, \"48\": {\"20\": 2, \"47\": 2, \"8\": 2, \"22\": 3, \"40\": 1, \"30\": 1, \"1\": 1}, \"21\": {\"21\": 5, \"5\": 3, \"12\": 1, \"46\": 1, \"40\": 1, \"22\": 1}, \"20\": {\"48\": 2, \"20\": 5, \"52\": 1, \"1\": 4}, \"39\": {\"31\": 2, \"43\": 1, \"42\": 1, \"37\": 1, \"38\": 1, \"24\": 1, \"39\": 1, \"7\": 2}, \"45\": {\"45\": 9, \"5\": 1, \"12\": 2}, \"49\": {\"49\": 7, \"19\": 2, \"43\": 1, \"26\": 2}, \"56\": {\"47\": 1, \"0\": 2, \"56\": 1, \"5\": 1, \"20\": 1, \"4\": 3, \"1\": 1, \"22\": 1, \"33\": 1}, \"47\": {\"0\": 4, \"47\": 1, \"8\": 1, \"48\": 2, \"20\": 1, \"4\": 1, \"9\": 1, \"22\": 1}, \"43\": {\"31\": 1, \"43\": 9, \"37\": 1, \"53\": 1}, \"52\": {\"0\": 1, \"47\": 3, \"20\": 1, \"52\": 3, \"22\": 1, \"40\": 1}, \"13\": {\"33\": 1, \"13\": 3, \"27\": 4, \"38\": 1, \"8\": 1, \"29\": 1, \"32\": 1}, \"32\": {\"32\": 7, \"38\": 1}, \"25\": {\"25\": 8}, \"26\": {\"34\": 2, \"26\": 1, \"43\": 3, \"37\": 1, \"49\": 3, \"7\": 2}, \"8\": {\"8\": 6, \"57\": 1, \"14\": 1, \"9\": 1, \"29\": 1, \"48\": 1, \"1\": 1}, \"42\": {\"43\": 1, \"54\": 1, \"26\": 1, \"42\": 3, \"17\": 2, \"35\": 2}, \"54\": {\"43\": 4, \"54\": 6, \"7\": 1, \"42\": 1}, \"28\": {\"28\": 3, \"34\": 1, \"10\": 1, \"11\": 1}, \"40\": {\"40\": 7, \"22\": 1, \"20\": 1, \"9\": 1}, \"22\": {\"22\": 6, \"21\": 1, \"56\": 1, \"4\": 1, \"5\": 1}, \"10\": {\"23\": 2, \"10\": 2, \"19\": 1, \"28\": 1, \"34\": 3, \"11\": 1}, \"53\": {\"54\": 4, \"53\": 3, \"37\": 2, \"23\": 1}, \"24\": {\"24\": 2, \"54\": 3, \"23\": 1}, \"36\": {\"36\": 2, \"51\": 1, \"33\": 1}, \"46\": {\"12\": 2, \"46\": 1, \"21\": 1, \"3\": 2}, \"16\": {\"16\": 5, \"34\": 1}, \"18\": {\"18\": 4, \"15\": 1, \"25\": 1}}}, \"per_domain_accuracy\": {\"Metehan_1\": {\"accuracy\": 0.8596491228070176, \"source?\": true}, \"Metehan_0\": {\"accuracy\": 0.8377192982456141, \"source?\": true}, \"Metehan_2\": {\"accuracy\": 0.8421052631578947, \"source?\": true}, \"CORES_3\": {\"accuracy\": 0.41640866873065013, \"source?\": false}, \"CORES_4\": {\"accuracy\": 0.3746130030959752, \"source?\": false}, \"CORES_5\": {\"accuracy\": 0.46381578947368424, \"source?\": false}, \"CORES_1\": {\"accuracy\": 0.46710526315789475, \"source?\": false}, \"CORES_2\": {\"accuracy\": 0.38980263157894735, \"source?\": false}}}, \"history\": {\"epoch_indices\": [1, 2, 3, 4, 5, 6, 7], \"train_label_loss\": [0.35970937383789864, 1.6395214432998308, 0.8939875829077902, 0.36756624476540656, 0.2937384847965505, 0.2699310044270186, 0.24612299423842204], \"source_val_label_loss\": [0.3073290288448334, 1.94151771068573, 0.533577561378479, 0.39237093925476074, 0.38338223099708557, 0.38463056087493896, 0.4003579616546631], \"target_val_label_loss\": [2.972289800643921, 2.5566329956054688, 1.522806167602539, 1.5825525522232056, 2.2278356552124023, 2.6517398357391357, 1.7819708585739136], \"source_val_acc_label\": [0.8903508771929824, 0.783625730994152, 0.8464912280701754, 0.8611111111111112, 0.8538011695906432, 0.8596491228070176, 0.8523391812865497], \"target_val_acc_label\": [0.2471116816431322, 0.44062901155327344, 0.4216944801026958, 0.4191270860077022, 0.2621951219512195, 0.22304236200256738, 0.444801026957638]}, \"dataset_metrics\": {\"source\": {\"train\": {\"n_unique_x\": 3990, \"n_unique_y\": 19, \"n_batch/episode\": 126}, \"val\": {\"n_unique_x\": 855, \"n_unique_y\": 19, \"n_batch/episode\": 18}, \"test\": {\"n_unique_x\": 855, \"n_unique_y\": 19, \"n_batch/episode\": 18}}, \"target\": {\"train\": {\"n_unique_x\": 20299, \"n_unique_y\": 58, \"n_batch/episode\": 611}, \"val\": {\"n_unique_x\": 4299, \"n_unique_y\": 58, \"n_batch/episode\": 82}, \"test\": {\"n_unique_x\": 4299, \"n_unique_y\": 58, \"n_batch/episode\": 82}}}}'"
      ]
     },
     "execution_count": 29,
     "metadata": {},
     "output_type": "execute_result"
    }
   ],
   "source": [
    "json.dumps(experiment)"
   ]
  }
 ],
 "metadata": {
  "celltoolbar": "Tags",
  "kernelspec": {
   "display_name": "Python 3 (ipykernel)",
   "language": "python",
   "name": "python3"
  },
  "language_info": {
   "codemirror_mode": {
    "name": "ipython",
    "version": 3
   },
   "file_extension": ".py",
   "mimetype": "text/x-python",
   "name": "python",
   "nbconvert_exporter": "python",
   "pygments_lexer": "ipython3",
   "version": "3.8.10"
  },
  "papermill": {
   "default_parameters": {},
   "duration": 51.276441,
   "end_time": "2022-03-07T01:07:59.859485",
   "environment_variables": {},
   "exception": null,
   "input_path": "/mnt/wd500GB/CSC500/csc500-main/csc500-notebooks/templates/tl_ptn_template.ipynb",
   "output_path": "trial.ipynb",
   "parameters": {
    "parameters": {
     "BEST_MODEL_PATH": "./best_model.pth",
     "NUM_LOGS_PER_EPOCH": 10,
     "criteria_for_best": "target_loss",
     "dataset_seed": 1337,
     "datasets": [
      {
       "domain_prefix": "CORES_",
       "domains": [
        1,
        2,
        3,
        4,
        5
       ],
       "episode_transforms": [],
       "labels": [
        "1-10.",
        "1-11.",
        "1-15.",
        "1-16.",
        "1-17.",
        "1-18.",
        "1-19.",
        "10-4.",
        "10-7.",
        "11-1.",
        "11-14.",
        "11-17.",
        "11-20.",
        "11-7.",
        "13-20.",
        "13-8.",
        "14-10.",
        "14-11.",
        "14-14.",
        "14-7.",
        "15-1.",
        "15-20.",
        "16-1.",
        "16-16.",
        "17-10.",
        "17-11.",
        "17-2.",
        "19-1.",
        "19-16.",
        "19-19.",
        "19-20.",
        "19-3.",
        "2-10.",
        "2-11.",
        "2-17.",
        "2-18.",
        "2-20.",
        "2-3.",
        "2-4.",
        "2-5.",
        "2-6.",
        "2-7.",
        "2-8.",
        "3-13.",
        "3-18.",
        "3-3.",
        "4-1.",
        "4-10.",
        "4-11.",
        "4-19.",
        "5-5.",
        "6-15.",
        "7-10.",
        "7-14.",
        "8-18.",
        "8-20.",
        "8-3.",
        "8-8."
       ],
       "num_examples_per_domain_per_label": 100,
       "pickle_path": "/mnt/wd500GB/CSC500/csc500-main/datasets/cores.stratified_ds.2022A.pkl",
       "source_or_target_dataset": "target",
       "x_transforms": []
      },
      {
       "domain_prefix": "Metehan_",
       "domains": [
        0,
        1,
        2
       ],
       "episode_transforms": [],
       "labels": [
        0,
        1,
        2,
        3,
        4,
        5,
        6,
        7,
        8,
        9,
        10,
        11,
        12,
        13,
        14,
        15,
        16,
        17,
        18
       ],
       "num_examples_per_domain_per_label": 100,
       "pickle_path": "/mnt/wd500GB/CSC500/csc500-main/datasets/metehan.stratified_ds.2022A.pkl",
       "source_or_target_dataset": "source",
       "x_transforms": []
      }
     ],
     "device": "cuda",
     "experiment_name": "tl_1_cores-metehan",
     "lr": 0.001,
     "n_epoch": 50,
     "n_query": 2,
     "n_shot": 3,
     "n_way": 19,
     "patience": 3,
     "seed": 1337,
     "test_k_factor": 2,
     "torch_default_dtype": "torch.float32",
     "train_k_factor": 3,
     "val_k_factor": 2,
     "x_net": [
      {
       "class": "nnReshape",
       "kargs": {
        "shape": [
         -1,
         1,
         2,
         256
        ]
       }
      },
      {
       "class": "Conv2d",
       "kargs": {
        "bias": false,
        "in_channels": 1,
        "kernel_size": [
         1,
         7
        ],
        "out_channels": 256,
        "padding": [
         0,
         3
        ]
       }
      },
      {
       "class": "ReLU",
       "kargs": {
        "inplace": true
       }
      },
      {
       "class": "BatchNorm2d",
       "kargs": {
        "num_features": 256
       }
      },
      {
       "class": "Conv2d",
       "kargs": {
        "bias": true,
        "in_channels": 256,
        "kernel_size": [
         2,
         7
        ],
        "out_channels": 80,
        "padding": [
         0,
         3
        ]
       }
      },
      {
       "class": "ReLU",
       "kargs": {
        "inplace": true
       }
      },
      {
       "class": "BatchNorm2d",
       "kargs": {
        "num_features": 80
       }
      },
      {
       "class": "Flatten",
       "kargs": {}
      },
      {
       "class": "Linear",
       "kargs": {
        "in_features": 20480,
        "out_features": 256
       }
      },
      {
       "class": "ReLU",
       "kargs": {
        "inplace": true
       }
      },
      {
       "class": "BatchNorm1d",
       "kargs": {
        "num_features": 256
       }
      },
      {
       "class": "Linear",
       "kargs": {
        "in_features": 256,
        "out_features": 256
       }
      }
     ]
    }
   },
   "start_time": "2022-03-07T01:07:08.583044",
   "version": "2.3.4"
  }
 },
 "nbformat": 4,
 "nbformat_minor": 5
}