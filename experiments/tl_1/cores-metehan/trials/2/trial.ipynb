{
 "cells": [
  {
   "cell_type": "markdown",
   "id": "9fea5f46",
   "metadata": {
    "papermill": {
     "duration": 0.016147,
     "end_time": "2022-03-07T01:03:01.057871",
     "exception": false,
     "start_time": "2022-03-07T01:03:01.041724",
     "status": "completed"
    },
    "tags": []
   },
   "source": [
    "# Transfer Learning Template"
   ]
  },
  {
   "cell_type": "code",
   "execution_count": 1,
   "id": "0902182a",
   "metadata": {
    "execution": {
     "iopub.execute_input": "2022-03-07T01:03:01.099062Z",
     "iopub.status.busy": "2022-03-07T01:03:01.098763Z",
     "iopub.status.idle": "2022-03-07T01:03:01.916087Z",
     "shell.execute_reply": "2022-03-07T01:03:01.916428Z"
    },
    "papermill": {
     "duration": 0.844895,
     "end_time": "2022-03-07T01:03:01.916591",
     "exception": false,
     "start_time": "2022-03-07T01:03:01.071696",
     "status": "completed"
    },
    "tags": []
   },
   "outputs": [],
   "source": [
    "%load_ext autoreload\n",
    "%autoreload 2\n",
    "%matplotlib inline\n",
    "\n",
    "    \n",
    "import os, json, sys, time, random\n",
    "import numpy as np\n",
    "import torch\n",
    "from torch.optim import Adam\n",
    "from  easydict import EasyDict\n",
    "import matplotlib.pyplot as plt\n",
    "\n",
    "from steves_models.steves_ptn import Steves_Prototypical_Network\n",
    "\n",
    "from steves_utils.lazy_iterable_wrapper import Lazy_Iterable_Wrapper\n",
    "from steves_utils.iterable_aggregator import Iterable_Aggregator\n",
    "from steves_utils.ptn_train_eval_test_jig import  PTN_Train_Eval_Test_Jig\n",
    "from steves_utils.torch_sequential_builder import build_sequential\n",
    "from steves_utils.torch_utils import get_dataset_metrics, ptn_confusion_by_domain_over_dataloader\n",
    "from steves_utils.utils_v2 import (per_domain_accuracy_from_confusion, get_datasets_base_path)\n",
    "from steves_utils.PTN.utils import independent_accuracy_assesment\n",
    "\n",
    "from torch.utils.data import DataLoader\n",
    "\n",
    "from steves_utils.stratified_dataset.episodic_accessor import Episodic_Accessor_Factory\n",
    "\n",
    "from steves_utils.ptn_do_report import (\n",
    "    get_loss_curve,\n",
    "    get_results_table,\n",
    "    get_parameters_table,\n",
    "    get_domain_accuracies,\n",
    ")\n",
    "\n",
    "from steves_utils.transforms import get_chained_transform"
   ]
  },
  {
   "cell_type": "markdown",
   "id": "41c840b4",
   "metadata": {
    "papermill": {
     "duration": 0.013318,
     "end_time": "2022-03-07T01:03:01.946756",
     "exception": false,
     "start_time": "2022-03-07T01:03:01.933438",
     "status": "completed"
    },
    "tags": []
   },
   "source": [
    "# Allowed Parameters\n",
    "These are allowed parameters, not defaults\n",
    "Each of these values need to be present in the injected parameters (the notebook will raise an exception if they are not present)\n",
    "\n",
    "Papermill uses the cell tag \"parameters\" to inject the real parameters below this cell.\n",
    "Enable tags to see what I mean"
   ]
  },
  {
   "cell_type": "code",
   "execution_count": 2,
   "id": "fd44eb83",
   "metadata": {
    "execution": {
     "iopub.execute_input": "2022-03-07T01:03:01.977931Z",
     "iopub.status.busy": "2022-03-07T01:03:01.977503Z",
     "iopub.status.idle": "2022-03-07T01:03:01.988333Z",
     "shell.execute_reply": "2022-03-07T01:03:01.988976Z"
    },
    "papermill": {
     "duration": 0.028896,
     "end_time": "2022-03-07T01:03:01.989153",
     "exception": false,
     "start_time": "2022-03-07T01:03:01.960257",
     "status": "completed"
    },
    "tags": []
   },
   "outputs": [],
   "source": [
    "required_parameters = {\n",
    "    \"experiment_name\",\n",
    "    \"lr\",\n",
    "    \"device\",\n",
    "    \"seed\",\n",
    "    \"dataset_seed\",\n",
    "    \"n_shot\",\n",
    "    \"n_query\",\n",
    "    \"n_way\",\n",
    "    \"train_k_factor\",\n",
    "    \"val_k_factor\",\n",
    "    \"test_k_factor\",\n",
    "    \"n_epoch\",\n",
    "    \"patience\",\n",
    "    \"criteria_for_best\",\n",
    "    \"x_net\",\n",
    "    \"datasets\",\n",
    "    \"torch_default_dtype\",\n",
    "    \"NUM_LOGS_PER_EPOCH\",\n",
    "    \"BEST_MODEL_PATH\",\n",
    "}"
   ]
  },
  {
   "cell_type": "code",
   "execution_count": 3,
   "id": "fa3f0049",
   "metadata": {
    "execution": {
     "iopub.execute_input": "2022-03-07T01:03:02.031346Z",
     "iopub.status.busy": "2022-03-07T01:03:02.030941Z",
     "iopub.status.idle": "2022-03-07T01:03:02.047231Z",
     "shell.execute_reply": "2022-03-07T01:03:02.046878Z"
    },
    "papermill": {
     "duration": 0.040128,
     "end_time": "2022-03-07T01:03:02.047319",
     "exception": false,
     "start_time": "2022-03-07T01:03:02.007191",
     "status": "completed"
    },
    "tags": [
     "parameters"
    ]
   },
   "outputs": [],
   "source": [
    "from steves_utils.CORES.utils import (\n",
    "    ALL_NODES,\n",
    "    ALL_NODES_MINIMUM_1000_EXAMPLES,\n",
    "    ALL_DAYS\n",
    ")\n",
    "\n",
    "from steves_utils.ORACLE.utils_v2 import (\n",
    "    ALL_DISTANCES_FEET_NARROWED,\n",
    "    ALL_RUNS,\n",
    "    ALL_SERIAL_NUMBERS,\n",
    ")\n",
    "\n",
    "standalone_parameters = {}\n",
    "standalone_parameters[\"experiment_name\"] = \"STANDALONE PTN\"\n",
    "standalone_parameters[\"lr\"] = 0.001\n",
    "standalone_parameters[\"device\"] = \"cuda\"\n",
    "\n",
    "standalone_parameters[\"seed\"] = 1337\n",
    "standalone_parameters[\"dataset_seed\"] = 1337\n",
    "\n",
    "standalone_parameters[\"n_way\"] = 8\n",
    "standalone_parameters[\"n_shot\"] = 3\n",
    "standalone_parameters[\"n_query\"]  = 2\n",
    "standalone_parameters[\"train_k_factor\"] = 1\n",
    "standalone_parameters[\"val_k_factor\"] = 2\n",
    "standalone_parameters[\"test_k_factor\"] = 2\n",
    "\n",
    "\n",
    "standalone_parameters[\"n_epoch\"] = 50\n",
    "\n",
    "standalone_parameters[\"patience\"] = 10\n",
    "standalone_parameters[\"criteria_for_best\"] = \"source_loss\"\n",
    "\n",
    "standalone_parameters[\"datasets\"] = [\n",
    "    {\n",
    "        \"labels\": ALL_SERIAL_NUMBERS,\n",
    "        \"domains\": ALL_DISTANCES_FEET_NARROWED,\n",
    "        \"num_examples_per_domain_per_label\": 100,\n",
    "        \"pickle_path\": os.path.join(get_datasets_base_path(), \"oracle.Run1_framed_2000Examples_stratified_ds.2022A.pkl\"),\n",
    "        \"source_or_target_dataset\": \"source\",\n",
    "        \"x_transforms\": [\"unit_mag\", \"minus_two\"],\n",
    "        \"episode_transforms\": [],\n",
    "        \"domain_prefix\": \"ORACLE_\"\n",
    "    },\n",
    "    {\n",
    "        \"labels\": ALL_NODES,\n",
    "        \"domains\": ALL_DAYS,\n",
    "        \"num_examples_per_domain_per_label\": 100,\n",
    "        \"pickle_path\": os.path.join(get_datasets_base_path(), \"cores.stratified_ds.2022A.pkl\"),\n",
    "        \"source_or_target_dataset\": \"target\",\n",
    "        \"x_transforms\": [\"unit_power\", \"times_zero\"],\n",
    "        \"episode_transforms\": [],\n",
    "        \"domain_prefix\": \"CORES_\"\n",
    "    }   \n",
    "]\n",
    "\n",
    "standalone_parameters[\"torch_default_dtype\"] = \"torch.float32\" \n",
    "\n",
    "\n",
    "\n",
    "standalone_parameters[\"x_net\"] =     [\n",
    "    {\"class\": \"nnReshape\", \"kargs\": {\"shape\":[-1, 1, 2, 256]}},\n",
    "    {\"class\": \"Conv2d\", \"kargs\": { \"in_channels\":1, \"out_channels\":256, \"kernel_size\":(1,7), \"bias\":False, \"padding\":(0,3), },},\n",
    "    {\"class\": \"ReLU\", \"kargs\": {\"inplace\": True}},\n",
    "    {\"class\": \"BatchNorm2d\", \"kargs\": {\"num_features\":256}},\n",
    "\n",
    "    {\"class\": \"Conv2d\", \"kargs\": { \"in_channels\":256, \"out_channels\":80, \"kernel_size\":(2,7), \"bias\":True, \"padding\":(0,3), },},\n",
    "    {\"class\": \"ReLU\", \"kargs\": {\"inplace\": True}},\n",
    "    {\"class\": \"BatchNorm2d\", \"kargs\": {\"num_features\":80}},\n",
    "    {\"class\": \"Flatten\", \"kargs\": {}},\n",
    "\n",
    "    {\"class\": \"Linear\", \"kargs\": {\"in_features\": 80*256, \"out_features\": 256}}, # 80 units per IQ pair\n",
    "    {\"class\": \"ReLU\", \"kargs\": {\"inplace\": True}},\n",
    "    {\"class\": \"BatchNorm1d\", \"kargs\": {\"num_features\":256}},\n",
    "\n",
    "    {\"class\": \"Linear\", \"kargs\": {\"in_features\": 256, \"out_features\": 256}},\n",
    "]\n",
    "\n",
    "# Parameters relevant to results\n",
    "# These parameters will basically never need to change\n",
    "standalone_parameters[\"NUM_LOGS_PER_EPOCH\"] = 10\n",
    "standalone_parameters[\"BEST_MODEL_PATH\"] = \"./best_model.pth\"\n",
    "\n",
    "\n",
    "\n",
    "\n"
   ]
  },
  {
   "cell_type": "code",
   "execution_count": 4,
   "id": "99df0fb5",
   "metadata": {
    "execution": {
     "iopub.execute_input": "2022-03-07T01:03:02.085375Z",
     "iopub.status.busy": "2022-03-07T01:03:02.085007Z",
     "iopub.status.idle": "2022-03-07T01:03:02.099423Z",
     "shell.execute_reply": "2022-03-07T01:03:02.098959Z"
    },
    "papermill": {
     "duration": 0.037446,
     "end_time": "2022-03-07T01:03:02.099753",
     "exception": false,
     "start_time": "2022-03-07T01:03:02.062307",
     "status": "completed"
    },
    "tags": [
     "injected-parameters"
    ]
   },
   "outputs": [],
   "source": [
    "# Parameters\n",
    "parameters = {\n",
    "    \"experiment_name\": \"tl_1_cores-metehan\",\n",
    "    \"device\": \"cuda\",\n",
    "    \"lr\": 0.001,\n",
    "    \"seed\": 1337,\n",
    "    \"dataset_seed\": 1337,\n",
    "    \"n_shot\": 3,\n",
    "    \"n_query\": 2,\n",
    "    \"train_k_factor\": 3,\n",
    "    \"val_k_factor\": 2,\n",
    "    \"test_k_factor\": 2,\n",
    "    \"torch_default_dtype\": \"torch.float32\",\n",
    "    \"n_epoch\": 50,\n",
    "    \"patience\": 3,\n",
    "    \"criteria_for_best\": \"target_loss\",\n",
    "    \"x_net\": [\n",
    "        {\"class\": \"nnReshape\", \"kargs\": {\"shape\": [-1, 1, 2, 256]}},\n",
    "        {\n",
    "            \"class\": \"Conv2d\",\n",
    "            \"kargs\": {\n",
    "                \"in_channels\": 1,\n",
    "                \"out_channels\": 256,\n",
    "                \"kernel_size\": [1, 7],\n",
    "                \"bias\": False,\n",
    "                \"padding\": [0, 3],\n",
    "            },\n",
    "        },\n",
    "        {\"class\": \"ReLU\", \"kargs\": {\"inplace\": True}},\n",
    "        {\"class\": \"BatchNorm2d\", \"kargs\": {\"num_features\": 256}},\n",
    "        {\n",
    "            \"class\": \"Conv2d\",\n",
    "            \"kargs\": {\n",
    "                \"in_channels\": 256,\n",
    "                \"out_channels\": 80,\n",
    "                \"kernel_size\": [2, 7],\n",
    "                \"bias\": True,\n",
    "                \"padding\": [0, 3],\n",
    "            },\n",
    "        },\n",
    "        {\"class\": \"ReLU\", \"kargs\": {\"inplace\": True}},\n",
    "        {\"class\": \"BatchNorm2d\", \"kargs\": {\"num_features\": 80}},\n",
    "        {\"class\": \"Flatten\", \"kargs\": {}},\n",
    "        {\"class\": \"Linear\", \"kargs\": {\"in_features\": 20480, \"out_features\": 256}},\n",
    "        {\"class\": \"ReLU\", \"kargs\": {\"inplace\": True}},\n",
    "        {\"class\": \"BatchNorm1d\", \"kargs\": {\"num_features\": 256}},\n",
    "        {\"class\": \"Linear\", \"kargs\": {\"in_features\": 256, \"out_features\": 256}},\n",
    "    ],\n",
    "    \"NUM_LOGS_PER_EPOCH\": 10,\n",
    "    \"BEST_MODEL_PATH\": \"./best_model.pth\",\n",
    "    \"n_way\": 19,\n",
    "    \"datasets\": [\n",
    "        {\n",
    "            \"labels\": [\n",
    "                \"1-10.\",\n",
    "                \"1-11.\",\n",
    "                \"1-15.\",\n",
    "                \"1-16.\",\n",
    "                \"1-17.\",\n",
    "                \"1-18.\",\n",
    "                \"1-19.\",\n",
    "                \"10-4.\",\n",
    "                \"10-7.\",\n",
    "                \"11-1.\",\n",
    "                \"11-14.\",\n",
    "                \"11-17.\",\n",
    "                \"11-20.\",\n",
    "                \"11-7.\",\n",
    "                \"13-20.\",\n",
    "                \"13-8.\",\n",
    "                \"14-10.\",\n",
    "                \"14-11.\",\n",
    "                \"14-14.\",\n",
    "                \"14-7.\",\n",
    "                \"15-1.\",\n",
    "                \"15-20.\",\n",
    "                \"16-1.\",\n",
    "                \"16-16.\",\n",
    "                \"17-10.\",\n",
    "                \"17-11.\",\n",
    "                \"17-2.\",\n",
    "                \"19-1.\",\n",
    "                \"19-16.\",\n",
    "                \"19-19.\",\n",
    "                \"19-20.\",\n",
    "                \"19-3.\",\n",
    "                \"2-10.\",\n",
    "                \"2-11.\",\n",
    "                \"2-17.\",\n",
    "                \"2-18.\",\n",
    "                \"2-20.\",\n",
    "                \"2-3.\",\n",
    "                \"2-4.\",\n",
    "                \"2-5.\",\n",
    "                \"2-6.\",\n",
    "                \"2-7.\",\n",
    "                \"2-8.\",\n",
    "                \"3-13.\",\n",
    "                \"3-18.\",\n",
    "                \"3-3.\",\n",
    "                \"4-1.\",\n",
    "                \"4-10.\",\n",
    "                \"4-11.\",\n",
    "                \"4-19.\",\n",
    "                \"5-5.\",\n",
    "                \"6-15.\",\n",
    "                \"7-10.\",\n",
    "                \"7-14.\",\n",
    "                \"8-18.\",\n",
    "                \"8-20.\",\n",
    "                \"8-3.\",\n",
    "                \"8-8.\",\n",
    "            ],\n",
    "            \"domains\": [1, 2, 3, 4, 5],\n",
    "            \"num_examples_per_domain_per_label\": 100,\n",
    "            \"pickle_path\": \"/mnt/wd500GB/CSC500/csc500-main/datasets/cores.stratified_ds.2022A.pkl\",\n",
    "            \"source_or_target_dataset\": \"source\",\n",
    "            \"x_transforms\": [],\n",
    "            \"episode_transforms\": [],\n",
    "            \"domain_prefix\": \"CORES_\",\n",
    "        },\n",
    "        {\n",
    "            \"labels\": [\n",
    "                0,\n",
    "                1,\n",
    "                2,\n",
    "                3,\n",
    "                4,\n",
    "                5,\n",
    "                6,\n",
    "                7,\n",
    "                8,\n",
    "                9,\n",
    "                10,\n",
    "                11,\n",
    "                12,\n",
    "                13,\n",
    "                14,\n",
    "                15,\n",
    "                16,\n",
    "                17,\n",
    "                18,\n",
    "            ],\n",
    "            \"domains\": [0, 1, 2],\n",
    "            \"num_examples_per_domain_per_label\": 100,\n",
    "            \"pickle_path\": \"/mnt/wd500GB/CSC500/csc500-main/datasets/metehan.stratified_ds.2022A.pkl\",\n",
    "            \"source_or_target_dataset\": \"target\",\n",
    "            \"x_transforms\": [],\n",
    "            \"episode_transforms\": [],\n",
    "            \"domain_prefix\": \"Metehan_\",\n",
    "        },\n",
    "    ],\n",
    "}\n"
   ]
  },
  {
   "cell_type": "code",
   "execution_count": 5,
   "id": "8fa1cc33",
   "metadata": {
    "execution": {
     "iopub.execute_input": "2022-03-07T01:03:02.137910Z",
     "iopub.status.busy": "2022-03-07T01:03:02.137626Z",
     "iopub.status.idle": "2022-03-07T01:03:02.150664Z",
     "shell.execute_reply": "2022-03-07T01:03:02.150233Z"
    },
    "papermill": {
     "duration": 0.032722,
     "end_time": "2022-03-07T01:03:02.150794",
     "exception": false,
     "start_time": "2022-03-07T01:03:02.118072",
     "status": "completed"
    },
    "tags": []
   },
   "outputs": [],
   "source": [
    "# Set this to True if you want to run this template directly\n",
    "STANDALONE = False\n",
    "if STANDALONE:\n",
    "    print(\"parameters not injected, running with standalone_parameters\")\n",
    "    parameters = standalone_parameters\n",
    "\n",
    "if not 'parameters' in locals() and not 'parameters' in globals():\n",
    "    raise Exception(\"Parameter injection failed\")\n",
    "\n",
    "#Use an easy dict for all the parameters\n",
    "p = EasyDict(parameters)\n",
    "\n",
    "supplied_keys = set(p.keys())\n",
    "\n",
    "if  supplied_keys != required_parameters:\n",
    "    print(\"Parameters are incorrect\")\n",
    "    if len(supplied_keys - required_parameters)>0: print(\"Shouldn't have:\", str(supplied_keys - required_parameters))\n",
    "    if len(required_parameters - supplied_keys)>0: print(\"Need to have:\", str(required_parameters - supplied_keys))\n",
    "    raise RuntimeError(\"Parameters are incorrect\")\n",
    "\n"
   ]
  },
  {
   "cell_type": "code",
   "execution_count": 6,
   "id": "3a028d58",
   "metadata": {
    "execution": {
     "iopub.execute_input": "2022-03-07T01:03:02.182339Z",
     "iopub.status.busy": "2022-03-07T01:03:02.182079Z",
     "iopub.status.idle": "2022-03-07T01:03:02.194388Z",
     "shell.execute_reply": "2022-03-07T01:03:02.194815Z"
    },
    "papermill": {
     "duration": 0.028435,
     "end_time": "2022-03-07T01:03:02.194957",
     "exception": false,
     "start_time": "2022-03-07T01:03:02.166522",
     "status": "completed"
    },
    "tags": []
   },
   "outputs": [],
   "source": [
    "###################################\n",
    "# Set the RNGs and make it all deterministic\n",
    "###################################\n",
    "np.random.seed(p.seed)\n",
    "random.seed(p.seed)\n",
    "torch.manual_seed(p.seed)\n",
    "\n",
    "torch.use_deterministic_algorithms(True) "
   ]
  },
  {
   "cell_type": "code",
   "execution_count": 7,
   "id": "b691acf6",
   "metadata": {
    "execution": {
     "iopub.execute_input": "2022-03-07T01:03:02.229470Z",
     "iopub.status.busy": "2022-03-07T01:03:02.228884Z",
     "iopub.status.idle": "2022-03-07T01:03:02.243093Z",
     "shell.execute_reply": "2022-03-07T01:03:02.243508Z"
    },
    "papermill": {
     "duration": 0.029533,
     "end_time": "2022-03-07T01:03:02.243643",
     "exception": false,
     "start_time": "2022-03-07T01:03:02.214110",
     "status": "completed"
    },
    "tags": []
   },
   "outputs": [],
   "source": [
    "###########################################\n",
    "# The stratified datasets honor this\n",
    "###########################################\n",
    "torch.set_default_dtype(eval(p.torch_default_dtype))"
   ]
  },
  {
   "cell_type": "code",
   "execution_count": 8,
   "id": "b5fba671",
   "metadata": {
    "execution": {
     "iopub.execute_input": "2022-03-07T01:03:02.276332Z",
     "iopub.status.busy": "2022-03-07T01:03:02.275745Z",
     "iopub.status.idle": "2022-03-07T01:03:02.315142Z",
     "shell.execute_reply": "2022-03-07T01:03:02.314667Z"
    },
    "papermill": {
     "duration": 0.054955,
     "end_time": "2022-03-07T01:03:02.315257",
     "exception": false,
     "start_time": "2022-03-07T01:03:02.260302",
     "status": "completed"
    },
    "tags": []
   },
   "outputs": [],
   "source": [
    "###################################\n",
    "# Build the network(s)\n",
    "# Note: It's critical to do this AFTER setting the RNG\n",
    "###################################\n",
    "x_net = build_sequential(p.x_net)"
   ]
  },
  {
   "cell_type": "code",
   "execution_count": 9,
   "id": "5d7e61cc",
   "metadata": {
    "execution": {
     "iopub.execute_input": "2022-03-07T01:03:02.349197Z",
     "iopub.status.busy": "2022-03-07T01:03:02.347903Z",
     "iopub.status.idle": "2022-03-07T01:03:02.361237Z",
     "shell.execute_reply": "2022-03-07T01:03:02.360994Z"
    },
    "papermill": {
     "duration": 0.029138,
     "end_time": "2022-03-07T01:03:02.361309",
     "exception": false,
     "start_time": "2022-03-07T01:03:02.332171",
     "status": "completed"
    },
    "tags": []
   },
   "outputs": [],
   "source": [
    "start_time_secs = time.time()"
   ]
  },
  {
   "cell_type": "code",
   "execution_count": 10,
   "id": "c6b67dfd",
   "metadata": {
    "execution": {
     "iopub.execute_input": "2022-03-07T01:03:02.393777Z",
     "iopub.status.busy": "2022-03-07T01:03:02.393363Z",
     "iopub.status.idle": "2022-03-07T01:03:02.407664Z",
     "shell.execute_reply": "2022-03-07T01:03:02.407979Z"
    },
    "papermill": {
     "duration": 0.030097,
     "end_time": "2022-03-07T01:03:02.408089",
     "exception": false,
     "start_time": "2022-03-07T01:03:02.377992",
     "status": "completed"
    },
    "tags": []
   },
   "outputs": [],
   "source": [
    "p.domains_source = []\n",
    "p.domains_target = []\n",
    "\n",
    "\n",
    "train_original_source = []\n",
    "val_original_source   = []\n",
    "test_original_source  = []\n",
    "\n",
    "train_original_target = []\n",
    "val_original_target   = []\n",
    "test_original_target  = []"
   ]
  },
  {
   "cell_type": "code",
   "execution_count": 11,
   "id": "e3d9c3d3",
   "metadata": {
    "execution": {
     "iopub.execute_input": "2022-03-07T01:03:02.439455Z",
     "iopub.status.busy": "2022-03-07T01:03:02.439185Z",
     "iopub.status.idle": "2022-03-07T01:03:02.450391Z",
     "shell.execute_reply": "2022-03-07T01:03:02.450747Z"
    },
    "papermill": {
     "duration": 0.028563,
     "end_time": "2022-03-07T01:03:02.450853",
     "exception": false,
     "start_time": "2022-03-07T01:03:02.422290",
     "status": "completed"
    },
    "tags": []
   },
   "outputs": [],
   "source": [
    "# global_x_transform_func = lambda x: normalize(x.to(torch.get_default_dtype()), \"unit_power\") # unit_power, unit_mag\n",
    "# global_x_transform_func = lambda x: normalize(x, \"unit_power\") # unit_power, unit_mag"
   ]
  },
  {
   "cell_type": "code",
   "execution_count": 12,
   "id": "acb78fd2",
   "metadata": {
    "execution": {
     "iopub.execute_input": "2022-03-07T01:03:02.491900Z",
     "iopub.status.busy": "2022-03-07T01:03:02.491492Z",
     "iopub.status.idle": "2022-03-07T01:03:02.502140Z",
     "shell.execute_reply": "2022-03-07T01:03:02.501640Z"
    },
    "papermill": {
     "duration": 0.031819,
     "end_time": "2022-03-07T01:03:02.502268",
     "exception": false,
     "start_time": "2022-03-07T01:03:02.470449",
     "status": "completed"
    },
    "tags": []
   },
   "outputs": [],
   "source": [
    "def add_dataset(\n",
    "    labels,\n",
    "    domains,\n",
    "    pickle_path,\n",
    "    x_transforms,\n",
    "    episode_transforms,\n",
    "    domain_prefix,\n",
    "    num_examples_per_domain_per_label,\n",
    "    source_or_target_dataset:str,\n",
    "    iterator_seed=p.seed,\n",
    "    dataset_seed=p.dataset_seed,\n",
    "    n_shot=p.n_shot,\n",
    "    n_way=p.n_way,\n",
    "    n_query=p.n_query,\n",
    "    train_val_test_k_factors=(p.train_k_factor,p.val_k_factor,p.test_k_factor),\n",
    "):\n",
    "   \n",
    "    if x_transforms == []: x_transform = None\n",
    "    else: x_transform = get_chained_transform(x_transforms)\n",
    "    \n",
    "    if episode_transforms == []: episode_transform = None\n",
    "    else: raise Exception(\"episode_transforms not implemented\")\n",
    "    \n",
    "    episode_transform = lambda tup, _prefix=domain_prefix: (_prefix + str(tup[0]), tup[1])\n",
    "\n",
    "\n",
    "    eaf = Episodic_Accessor_Factory(\n",
    "        labels=labels,\n",
    "        domains=domains,\n",
    "        num_examples_per_domain_per_label=num_examples_per_domain_per_label,\n",
    "        iterator_seed=iterator_seed,\n",
    "        dataset_seed=dataset_seed,\n",
    "        n_shot=n_shot,\n",
    "        n_way=n_way,\n",
    "        n_query=n_query,\n",
    "        train_val_test_k_factors=train_val_test_k_factors,\n",
    "        pickle_path=pickle_path,\n",
    "        x_transform_func=x_transform,\n",
    "    )\n",
    "\n",
    "    train, val, test = eaf.get_train(), eaf.get_val(), eaf.get_test()\n",
    "    train = Lazy_Iterable_Wrapper(train, episode_transform)\n",
    "    val = Lazy_Iterable_Wrapper(val, episode_transform)\n",
    "    test = Lazy_Iterable_Wrapper(test, episode_transform)\n",
    "\n",
    "    if source_or_target_dataset==\"source\":\n",
    "        train_original_source.append(train)\n",
    "        val_original_source.append(val)\n",
    "        test_original_source.append(test)\n",
    "\n",
    "        p.domains_source.extend(\n",
    "            [domain_prefix + str(u) for u in domains]\n",
    "        )\n",
    "    elif source_or_target_dataset==\"target\":\n",
    "        train_original_target.append(train)\n",
    "        val_original_target.append(val)\n",
    "        test_original_target.append(test)\n",
    "        p.domains_target.extend(\n",
    "            [domain_prefix + str(u) for u in domains]\n",
    "        )\n",
    "    else:\n",
    "        raise Exception(f\"invalid source_or_target_dataset: {source_or_target_dataset}\")\n",
    "    "
   ]
  },
  {
   "cell_type": "code",
   "execution_count": 13,
   "id": "fe266617",
   "metadata": {
    "execution": {
     "iopub.execute_input": "2022-03-07T01:03:02.537149Z",
     "iopub.status.busy": "2022-03-07T01:03:02.536887Z",
     "iopub.status.idle": "2022-03-07T01:03:02.987780Z",
     "shell.execute_reply": "2022-03-07T01:03:02.987265Z"
    },
    "papermill": {
     "duration": 0.467481,
     "end_time": "2022-03-07T01:03:02.987894",
     "exception": false,
     "start_time": "2022-03-07T01:03:02.520413",
     "status": "completed"
    },
    "tags": []
   },
   "outputs": [],
   "source": [
    "for ds in p.datasets:\n",
    "    add_dataset(**ds)"
   ]
  },
  {
   "cell_type": "code",
   "execution_count": 14,
   "id": "b90d65ac",
   "metadata": {
    "execution": {
     "iopub.execute_input": "2022-03-07T01:03:03.024415Z",
     "iopub.status.busy": "2022-03-07T01:03:03.024153Z",
     "iopub.status.idle": "2022-03-07T01:03:03.037302Z",
     "shell.execute_reply": "2022-03-07T01:03:03.036517Z"
    },
    "papermill": {
     "duration": 0.030906,
     "end_time": "2022-03-07T01:03:03.037471",
     "exception": false,
     "start_time": "2022-03-07T01:03:03.006565",
     "status": "completed"
    },
    "tags": []
   },
   "outputs": [],
   "source": [
    "# from steves_utils.CORES.utils import (\n",
    "#     ALL_NODES,\n",
    "#     ALL_NODES_MINIMUM_1000_EXAMPLES,\n",
    "#     ALL_DAYS\n",
    "# )\n",
    "\n",
    "# add_dataset(\n",
    "#     labels=ALL_NODES,\n",
    "#     domains = ALL_DAYS,\n",
    "#     num_examples_per_domain_per_label=100,\n",
    "#     pickle_path=os.path.join(get_datasets_base_path(), \"cores.stratified_ds.2022A.pkl\"),\n",
    "#     source_or_target_dataset=\"target\",\n",
    "#     x_transform_func=global_x_transform_func,\n",
    "#     domain_modifier=lambda u: f\"cores_{u}\"\n",
    "# )"
   ]
  },
  {
   "cell_type": "code",
   "execution_count": 15,
   "id": "76db484d",
   "metadata": {
    "execution": {
     "iopub.execute_input": "2022-03-07T01:03:03.074108Z",
     "iopub.status.busy": "2022-03-07T01:03:03.073847Z",
     "iopub.status.idle": "2022-03-07T01:03:03.088163Z",
     "shell.execute_reply": "2022-03-07T01:03:03.087755Z"
    },
    "papermill": {
     "duration": 0.031195,
     "end_time": "2022-03-07T01:03:03.088260",
     "exception": false,
     "start_time": "2022-03-07T01:03:03.057065",
     "status": "completed"
    },
    "tags": []
   },
   "outputs": [],
   "source": [
    "# from steves_utils.ORACLE.utils_v2 import (\n",
    "#     ALL_DISTANCES_FEET,\n",
    "#     ALL_RUNS,\n",
    "#     ALL_SERIAL_NUMBERS,\n",
    "# )\n",
    "\n",
    "\n",
    "# add_dataset(\n",
    "#     labels=ALL_SERIAL_NUMBERS,\n",
    "#     domains = list(set(ALL_DISTANCES_FEET) - {2,62}),\n",
    "#     num_examples_per_domain_per_label=100,\n",
    "#     pickle_path=os.path.join(get_datasets_base_path(), \"oracle.Run2_framed_2000Examples_stratified_ds.2022A.pkl\"),\n",
    "#     source_or_target_dataset=\"source\",\n",
    "#     x_transform_func=global_x_transform_func,\n",
    "#     domain_modifier=lambda u: f\"oracle1_{u}\"\n",
    "# )\n"
   ]
  },
  {
   "cell_type": "code",
   "execution_count": 16,
   "id": "97dea9d2",
   "metadata": {
    "execution": {
     "iopub.execute_input": "2022-03-07T01:03:03.123051Z",
     "iopub.status.busy": "2022-03-07T01:03:03.122205Z",
     "iopub.status.idle": "2022-03-07T01:03:03.133057Z",
     "shell.execute_reply": "2022-03-07T01:03:03.133335Z"
    },
    "papermill": {
     "duration": 0.028782,
     "end_time": "2022-03-07T01:03:03.133427",
     "exception": false,
     "start_time": "2022-03-07T01:03:03.104645",
     "status": "completed"
    },
    "tags": []
   },
   "outputs": [],
   "source": [
    "# from steves_utils.ORACLE.utils_v2 import (\n",
    "#     ALL_DISTANCES_FEET,\n",
    "#     ALL_RUNS,\n",
    "#     ALL_SERIAL_NUMBERS,\n",
    "# )\n",
    "\n",
    "\n",
    "# add_dataset(\n",
    "#     labels=ALL_SERIAL_NUMBERS,\n",
    "#     domains = list(set(ALL_DISTANCES_FEET) - {2,62,56}),\n",
    "#     num_examples_per_domain_per_label=100,\n",
    "#     pickle_path=os.path.join(get_datasets_base_path(), \"oracle.Run2_framed_2000Examples_stratified_ds.2022A.pkl\"),\n",
    "#     source_or_target_dataset=\"source\",\n",
    "#     x_transform_func=global_x_transform_func,\n",
    "#     domain_modifier=lambda u: f\"oracle2_{u}\"\n",
    "# )"
   ]
  },
  {
   "cell_type": "code",
   "execution_count": 17,
   "id": "6f289866",
   "metadata": {
    "execution": {
     "iopub.execute_input": "2022-03-07T01:03:03.170649Z",
     "iopub.status.busy": "2022-03-07T01:03:03.170342Z",
     "iopub.status.idle": "2022-03-07T01:03:03.183026Z",
     "shell.execute_reply": "2022-03-07T01:03:03.183250Z"
    },
    "papermill": {
     "duration": 0.029591,
     "end_time": "2022-03-07T01:03:03.183335",
     "exception": false,
     "start_time": "2022-03-07T01:03:03.153744",
     "status": "completed"
    },
    "tags": []
   },
   "outputs": [],
   "source": [
    "# add_dataset(\n",
    "#     labels=list(range(19)),\n",
    "#     domains = [0,1,2],\n",
    "#     num_examples_per_domain_per_label=100,\n",
    "#     pickle_path=os.path.join(get_datasets_base_path(), \"metehan.stratified_ds.2022A.pkl\"),\n",
    "#     source_or_target_dataset=\"target\",\n",
    "#     x_transform_func=global_x_transform_func,\n",
    "#     domain_modifier=lambda u: f\"met_{u}\"\n",
    "# )"
   ]
  },
  {
   "cell_type": "code",
   "execution_count": 18,
   "id": "86a863c3",
   "metadata": {
    "execution": {
     "iopub.execute_input": "2022-03-07T01:03:03.217289Z",
     "iopub.status.busy": "2022-03-07T01:03:03.217018Z",
     "iopub.status.idle": "2022-03-07T01:03:03.230380Z",
     "shell.execute_reply": "2022-03-07T01:03:03.230125Z"
    },
    "papermill": {
     "duration": 0.02984,
     "end_time": "2022-03-07T01:03:03.230447",
     "exception": false,
     "start_time": "2022-03-07T01:03:03.200607",
     "status": "completed"
    },
    "tags": []
   },
   "outputs": [],
   "source": [
    "# # from steves_utils.wisig.utils import (\n",
    "# #     ALL_NODES_MINIMUM_100_EXAMPLES,\n",
    "# #     ALL_NODES_MINIMUM_500_EXAMPLES,\n",
    "# #     ALL_NODES_MINIMUM_1000_EXAMPLES,\n",
    "# #     ALL_DAYS\n",
    "# # )\n",
    "\n",
    "# import steves_utils.wisig.utils as wisig\n",
    "\n",
    "\n",
    "# add_dataset(\n",
    "#     labels=wisig.ALL_NODES_MINIMUM_100_EXAMPLES,\n",
    "#     domains = wisig.ALL_DAYS,\n",
    "#     num_examples_per_domain_per_label=100,\n",
    "#     pickle_path=os.path.join(get_datasets_base_path(), \"wisig.node3-19.stratified_ds.2022A.pkl\"),\n",
    "#     source_or_target_dataset=\"target\",\n",
    "#     x_transform_func=global_x_transform_func,\n",
    "#     domain_modifier=lambda u: f\"wisig_{u}\"\n",
    "# )"
   ]
  },
  {
   "cell_type": "code",
   "execution_count": 19,
   "id": "fd5442bc",
   "metadata": {
    "execution": {
     "iopub.execute_input": "2022-03-07T01:03:03.264245Z",
     "iopub.status.busy": "2022-03-07T01:03:03.263968Z",
     "iopub.status.idle": "2022-03-07T01:03:03.277572Z",
     "shell.execute_reply": "2022-03-07T01:03:03.277896Z"
    },
    "papermill": {
     "duration": 0.033044,
     "end_time": "2022-03-07T01:03:03.278009",
     "exception": false,
     "start_time": "2022-03-07T01:03:03.244965",
     "status": "completed"
    },
    "tags": []
   },
   "outputs": [],
   "source": [
    "###################################\n",
    "# Build the dataset\n",
    "###################################\n",
    "train_original_source = Iterable_Aggregator(train_original_source, p.seed)\n",
    "val_original_source = Iterable_Aggregator(val_original_source, p.seed)\n",
    "test_original_source = Iterable_Aggregator(test_original_source, p.seed)\n",
    "\n",
    "\n",
    "train_original_target = Iterable_Aggregator(train_original_target, p.seed)\n",
    "val_original_target = Iterable_Aggregator(val_original_target, p.seed)\n",
    "test_original_target = Iterable_Aggregator(test_original_target, p.seed)\n",
    "\n",
    "# For CNN We only use X and Y. And we only train on the source.\n",
    "# Properly form the data using a transform lambda and Lazy_Iterable_Wrapper. Finally wrap them in a dataloader\n",
    "\n",
    "transform_lambda = lambda ex: ex[1] # Original is (<domain>, <episode>) so we strip down to episode only\n",
    "\n",
    "train_processed_source = Lazy_Iterable_Wrapper(train_original_source, transform_lambda)\n",
    "val_processed_source   = Lazy_Iterable_Wrapper(val_original_source, transform_lambda)\n",
    "test_processed_source  = Lazy_Iterable_Wrapper(test_original_source, transform_lambda)\n",
    "\n",
    "train_processed_target = Lazy_Iterable_Wrapper(train_original_target, transform_lambda)\n",
    "val_processed_target   = Lazy_Iterable_Wrapper(val_original_target, transform_lambda)\n",
    "test_processed_target  = Lazy_Iterable_Wrapper(test_original_target, transform_lambda)\n",
    "\n",
    "datasets = EasyDict({\n",
    "    \"source\": {\n",
    "        \"original\": {\"train\":train_original_source, \"val\":val_original_source, \"test\":test_original_source},\n",
    "        \"processed\": {\"train\":train_processed_source, \"val\":val_processed_source, \"test\":test_processed_source}\n",
    "    },\n",
    "    \"target\": {\n",
    "        \"original\": {\"train\":train_original_target, \"val\":val_original_target, \"test\":test_original_target},\n",
    "        \"processed\": {\"train\":train_processed_target, \"val\":val_processed_target, \"test\":test_processed_target}\n",
    "    },\n",
    "})"
   ]
  },
  {
   "cell_type": "code",
   "execution_count": 20,
   "id": "5b3c01fc",
   "metadata": {
    "execution": {
     "iopub.execute_input": "2022-03-07T01:03:03.313306Z",
     "iopub.status.busy": "2022-03-07T01:03:03.313046Z",
     "iopub.status.idle": "2022-03-07T01:03:05.408908Z",
     "shell.execute_reply": "2022-03-07T01:03:05.409242Z"
    },
    "papermill": {
     "duration": 2.113687,
     "end_time": "2022-03-07T01:03:05.409354",
     "exception": false,
     "start_time": "2022-03-07T01:03:03.295667",
     "status": "completed"
    },
    "tags": []
   },
   "outputs": [
    {
     "name": "stdout",
     "output_type": "stream",
     "text": [
      "{'CORES_2', 'CORES_3', 'CORES_1', 'CORES_4', 'CORES_5'}\n"
     ]
    },
    {
     "name": "stdout",
     "output_type": "stream",
     "text": [
      "{'Metehan_1', 'Metehan_0', 'Metehan_2'}\n"
     ]
    },
    {
     "name": "stdout",
     "output_type": "stream",
     "text": [
      "tensor([[[ 0.0025,  0.0042,  0.0023,  ...,  0.0056, -0.0049, -0.0215],\n",
      "         [ 0.0013,  0.0018,  0.0114,  ..., -0.0099, -0.0276, -0.0150]],\n",
      "\n",
      "        [[-0.0054, -0.0121,  0.0084,  ..., -0.0057, -0.0269,  0.0229],\n",
      "         [ 0.0101, -0.0099, -0.0264,  ..., -0.0257,  0.0011, -0.0139]],\n",
      "\n",
      "        [[-0.0096, -0.0107,  0.0128,  ..., -0.0258, -0.0079,  0.0302],\n",
      "         [ 0.0095, -0.0250, -0.0112,  ..., -0.0059,  0.0024, -0.0398]],\n",
      "\n",
      "        ...,\n",
      "\n",
      "        [[-0.0045,  0.0039,  0.0105,  ...,  0.0067,  0.0096, -0.0004],\n",
      "         [-0.0038,  0.0019,  0.0007,  ...,  0.0031, -0.0138, -0.0013]],\n",
      "\n",
      "        [[ 0.0053,  0.0005, -0.0038,  ...,  0.0043,  0.0140,  0.0035],\n",
      "         [-0.0004,  0.0060,  0.0033,  ...,  0.0110,  0.0099, -0.0067]],\n",
      "\n",
      "        [[ 0.0021,  0.0061, -0.0019,  ..., -0.0064,  0.0030,  0.0121],\n",
      "         [-0.0009,  0.0013,  0.0061,  ...,  0.0031,  0.0122,  0.0125]]])\n"
     ]
    }
   ],
   "source": [
    "from steves_utils.transforms import get_average_magnitude, get_average_power\n",
    "\n",
    "print(set([u for u,_ in val_original_source]))\n",
    "print(set([u for u,_ in val_original_target]))\n",
    "\n",
    "s_x, s_y, q_x, q_y, _ = next(iter(train_processed_source))\n",
    "print(s_x)\n",
    "\n",
    "# for ds in [\n",
    "#     train_processed_source,\n",
    "#     val_processed_source,\n",
    "#     test_processed_source,\n",
    "#     train_processed_target,\n",
    "#     val_processed_target,\n",
    "#     test_processed_target\n",
    "# ]:\n",
    "#     for s_x, s_y, q_x, q_y, _ in ds:\n",
    "#         for X in (s_x, q_x):\n",
    "#             for x in X:\n",
    "#                 assert np.isclose(get_average_magnitude(x.numpy()), 1.0)\n",
    "#                 assert np.isclose(get_average_power(x.numpy()), 1.0)\n",
    "                "
   ]
  },
  {
   "cell_type": "code",
   "execution_count": 21,
   "id": "bbdacba1",
   "metadata": {
    "execution": {
     "iopub.execute_input": "2022-03-07T01:03:05.444635Z",
     "iopub.status.busy": "2022-03-07T01:03:05.444367Z",
     "iopub.status.idle": "2022-03-07T01:03:05.501913Z",
     "shell.execute_reply": "2022-03-07T01:03:05.502185Z"
    },
    "papermill": {
     "duration": 0.075676,
     "end_time": "2022-03-07T01:03:05.502315",
     "exception": false,
     "start_time": "2022-03-07T01:03:05.426639",
     "status": "completed"
    },
    "tags": []
   },
   "outputs": [
    {
     "name": "stdout",
     "output_type": "stream",
     "text": [
      "(2, 256)\n"
     ]
    }
   ],
   "source": [
    "###################################\n",
    "# Build the model\n",
    "###################################\n",
    "model = Steves_Prototypical_Network(x_net, device=p.device, x_shape=(2,256))\n",
    "optimizer = Adam(params=model.parameters(), lr=p.lr)"
   ]
  },
  {
   "cell_type": "code",
   "execution_count": 22,
   "id": "22b39ac5",
   "metadata": {
    "execution": {
     "iopub.execute_input": "2022-03-07T01:03:05.538039Z",
     "iopub.status.busy": "2022-03-07T01:03:05.537615Z",
     "iopub.status.idle": "2022-03-07T01:04:51.611590Z",
     "shell.execute_reply": "2022-03-07T01:04:51.611817Z"
    },
    "papermill": {
     "duration": 106.09231,
     "end_time": "2022-03-07T01:04:51.611899",
     "exception": false,
     "start_time": "2022-03-07T01:03:05.519589",
     "status": "completed"
    },
    "tags": []
   },
   "outputs": [
    {
     "name": "stdout",
     "output_type": "stream",
     "text": [
      "epoch: 1, [batch: 1 / 612], examples_per_second: 377.6380, train_label_loss: 1.8549, \n"
     ]
    },
    {
     "name": "stdout",
     "output_type": "stream",
     "text": [
      "epoch: 1, [batch: 62 / 612], examples_per_second: 2956.6067, train_label_loss: 0.2864, \n"
     ]
    },
    {
     "name": "stdout",
     "output_type": "stream",
     "text": [
      "epoch: 1, [batch: 123 / 612], examples_per_second: 2955.3589, train_label_loss: 0.3010, \n"
     ]
    },
    {
     "name": "stdout",
     "output_type": "stream",
     "text": [
      "epoch: 1, [batch: 184 / 612], examples_per_second: 2928.8163, train_label_loss: 0.0750, \n"
     ]
    },
    {
     "name": "stdout",
     "output_type": "stream",
     "text": [
      "epoch: 1, [batch: 245 / 612], examples_per_second: 2900.7446, train_label_loss: 0.0611, \n"
     ]
    },
    {
     "name": "stdout",
     "output_type": "stream",
     "text": [
      "epoch: 1, [batch: 306 / 612], examples_per_second: 2946.3915, train_label_loss: 0.0075, \n"
     ]
    },
    {
     "name": "stdout",
     "output_type": "stream",
     "text": [
      "epoch: 1, [batch: 367 / 612], examples_per_second: 2914.8806, train_label_loss: 0.0429, \n"
     ]
    },
    {
     "name": "stdout",
     "output_type": "stream",
     "text": [
      "epoch: 1, [batch: 428 / 612], examples_per_second: 2900.7218, train_label_loss: 0.0023, \n"
     ]
    },
    {
     "name": "stdout",
     "output_type": "stream",
     "text": [
      "epoch: 1, [batch: 489 / 612], examples_per_second: 2943.2885, train_label_loss: 0.0063, \n"
     ]
    },
    {
     "name": "stdout",
     "output_type": "stream",
     "text": [
      "epoch: 1, [batch: 550 / 612], examples_per_second: 2893.8199, train_label_loss: 0.0089, \n"
     ]
    },
    {
     "name": "stdout",
     "output_type": "stream",
     "text": [
      "=============================================================\n",
      "epoch: 1, source_val_acc_label: 0.9897, target_val_acc_label: 0.1506, source_val_label_loss: 0.0400, target_val_label_loss: 3.2177, \n",
      "=============================================================\n"
     ]
    },
    {
     "name": "stdout",
     "output_type": "stream",
     "text": [
      "New best\n"
     ]
    },
    {
     "name": "stdout",
     "output_type": "stream",
     "text": [
      "epoch: 2, [batch: 1 / 615], examples_per_second: 53.2937, train_label_loss: 0.0009, \n"
     ]
    },
    {
     "name": "stdout",
     "output_type": "stream",
     "text": [
      "epoch: 2, [batch: 62 / 615], examples_per_second: 2931.2870, train_label_loss: 0.0031, \n"
     ]
    },
    {
     "name": "stdout",
     "output_type": "stream",
     "text": [
      "epoch: 2, [batch: 123 / 615], examples_per_second: 2965.0992, train_label_loss: 0.0009, \n"
     ]
    },
    {
     "name": "stdout",
     "output_type": "stream",
     "text": [
      "epoch: 2, [batch: 185 / 615], examples_per_second: 2970.2838, train_label_loss: 0.0032, \n"
     ]
    },
    {
     "name": "stdout",
     "output_type": "stream",
     "text": [
      "epoch: 2, [batch: 246 / 615], examples_per_second: 2970.5483, train_label_loss: 0.0117, \n"
     ]
    },
    {
     "name": "stdout",
     "output_type": "stream",
     "text": [
      "epoch: 2, [batch: 308 / 615], examples_per_second: 2978.3582, train_label_loss: 0.0004, \n"
     ]
    },
    {
     "name": "stdout",
     "output_type": "stream",
     "text": [
      "epoch: 2, [batch: 369 / 615], examples_per_second: 2988.6490, train_label_loss: 0.0065, \n"
     ]
    },
    {
     "name": "stdout",
     "output_type": "stream",
     "text": [
      "epoch: 2, [batch: 430 / 615], examples_per_second: 2944.2957, train_label_loss: 0.0109, \n"
     ]
    },
    {
     "name": "stdout",
     "output_type": "stream",
     "text": [
      "epoch: 2, [batch: 492 / 615], examples_per_second: 2998.1853, train_label_loss: 0.0441, \n"
     ]
    },
    {
     "name": "stdout",
     "output_type": "stream",
     "text": [
      "epoch: 2, [batch: 553 / 615], examples_per_second: 2983.4116, train_label_loss: 0.0005, \n"
     ]
    },
    {
     "name": "stdout",
     "output_type": "stream",
     "text": [
      "=============================================================\n",
      "epoch: 2, source_val_acc_label: 0.9891, target_val_acc_label: 0.1798, source_val_label_loss: 0.0399, target_val_label_loss: 5.8680, \n",
      "=============================================================\n"
     ]
    },
    {
     "name": "stdout",
     "output_type": "stream",
     "text": [
      "epoch: 3, [batch: 1 / 614], examples_per_second: 54.1874, train_label_loss: 0.0001, \n"
     ]
    },
    {
     "name": "stdout",
     "output_type": "stream",
     "text": [
      "epoch: 3, [batch: 62 / 614], examples_per_second: 3002.9645, train_label_loss: 0.0000, \n"
     ]
    },
    {
     "name": "stdout",
     "output_type": "stream",
     "text": [
      "epoch: 3, [batch: 123 / 614], examples_per_second: 2997.5364, train_label_loss: 0.0087, \n"
     ]
    },
    {
     "name": "stdout",
     "output_type": "stream",
     "text": [
      "epoch: 3, [batch: 184 / 614], examples_per_second: 2990.9328, train_label_loss: 0.0011, \n"
     ]
    },
    {
     "name": "stdout",
     "output_type": "stream",
     "text": [
      "epoch: 3, [batch: 246 / 614], examples_per_second: 2949.2886, train_label_loss: 0.0093, \n"
     ]
    },
    {
     "name": "stdout",
     "output_type": "stream",
     "text": [
      "epoch: 3, [batch: 307 / 614], examples_per_second: 2953.3666, train_label_loss: 0.0003, \n"
     ]
    },
    {
     "name": "stdout",
     "output_type": "stream",
     "text": [
      "epoch: 3, [batch: 368 / 614], examples_per_second: 2987.7085, train_label_loss: 0.0000, \n"
     ]
    },
    {
     "name": "stdout",
     "output_type": "stream",
     "text": [
      "epoch: 3, [batch: 430 / 614], examples_per_second: 2968.5917, train_label_loss: 0.0280, \n"
     ]
    },
    {
     "name": "stdout",
     "output_type": "stream",
     "text": [
      "epoch: 3, [batch: 491 / 614], examples_per_second: 2943.2347, train_label_loss: 0.0609, \n"
     ]
    },
    {
     "name": "stdout",
     "output_type": "stream",
     "text": [
      "epoch: 3, [batch: 552 / 614], examples_per_second: 2993.8148, train_label_loss: 0.0002, \n"
     ]
    },
    {
     "name": "stdout",
     "output_type": "stream",
     "text": [
      "=============================================================\n",
      "epoch: 3, source_val_acc_label: 0.9907, target_val_acc_label: 0.2325, source_val_label_loss: 0.0273, target_val_label_loss: 5.2882, \n",
      "=============================================================\n"
     ]
    },
    {
     "name": "stdout",
     "output_type": "stream",
     "text": [
      "epoch: 4, [batch: 1 / 615], examples_per_second: 53.5153, train_label_loss: 0.0023, \n"
     ]
    },
    {
     "name": "stdout",
     "output_type": "stream",
     "text": [
      "epoch: 4, [batch: 62 / 615], examples_per_second: 2976.1676, train_label_loss: 0.0010, \n"
     ]
    },
    {
     "name": "stdout",
     "output_type": "stream",
     "text": [
      "epoch: 4, [batch: 123 / 615], examples_per_second: 2971.9841, train_label_loss: 0.0001, \n"
     ]
    },
    {
     "name": "stdout",
     "output_type": "stream",
     "text": [
      "epoch: 4, [batch: 185 / 615], examples_per_second: 2932.9665, train_label_loss: 0.0234, \n"
     ]
    },
    {
     "name": "stdout",
     "output_type": "stream",
     "text": [
      "epoch: 4, [batch: 246 / 615], examples_per_second: 2956.0900, train_label_loss: 0.0001, \n"
     ]
    },
    {
     "name": "stdout",
     "output_type": "stream",
     "text": [
      "epoch: 4, [batch: 308 / 615], examples_per_second: 2949.9123, train_label_loss: 0.0005, \n"
     ]
    },
    {
     "name": "stdout",
     "output_type": "stream",
     "text": [
      "epoch: 4, [batch: 369 / 615], examples_per_second: 2971.1714, train_label_loss: 0.0004, \n"
     ]
    },
    {
     "name": "stdout",
     "output_type": "stream",
     "text": [
      "epoch: 4, [batch: 430 / 615], examples_per_second: 2961.5009, train_label_loss: 0.0000, \n"
     ]
    },
    {
     "name": "stdout",
     "output_type": "stream",
     "text": [
      "epoch: 4, [batch: 492 / 615], examples_per_second: 2914.3804, train_label_loss: 0.0000, \n"
     ]
    },
    {
     "name": "stdout",
     "output_type": "stream",
     "text": [
      "epoch: 4, [batch: 553 / 615], examples_per_second: 2974.2338, train_label_loss: 0.0324, \n"
     ]
    },
    {
     "name": "stdout",
     "output_type": "stream",
     "text": [
      "=============================================================\n",
      "epoch: 4, source_val_acc_label: 0.9884, target_val_acc_label: 0.2105, source_val_label_loss: 0.0483, target_val_label_loss: 8.0399, \n",
      "=============================================================\n"
     ]
    },
    {
     "name": "stdout",
     "output_type": "stream",
     "text": [
      "epoch: 5, [batch: 1 / 613], examples_per_second: 53.4024, train_label_loss: 0.0000, \n"
     ]
    },
    {
     "name": "stdout",
     "output_type": "stream",
     "text": [
      "epoch: 5, [batch: 62 / 613], examples_per_second: 2984.1332, train_label_loss: 0.0006, \n"
     ]
    },
    {
     "name": "stdout",
     "output_type": "stream",
     "text": [
      "epoch: 5, [batch: 123 / 613], examples_per_second: 2965.8290, train_label_loss: 0.0040, \n"
     ]
    },
    {
     "name": "stdout",
     "output_type": "stream",
     "text": [
      "epoch: 5, [batch: 184 / 613], examples_per_second: 2960.3135, train_label_loss: 0.0003, \n"
     ]
    },
    {
     "name": "stdout",
     "output_type": "stream",
     "text": [
      "epoch: 5, [batch: 245 / 613], examples_per_second: 2977.9733, train_label_loss: 0.0001, \n"
     ]
    },
    {
     "name": "stdout",
     "output_type": "stream",
     "text": [
      "epoch: 5, [batch: 307 / 613], examples_per_second: 2992.9682, train_label_loss: 0.0000, \n"
     ]
    },
    {
     "name": "stdout",
     "output_type": "stream",
     "text": [
      "epoch: 5, [batch: 368 / 613], examples_per_second: 2972.9969, train_label_loss: 0.0022, \n"
     ]
    },
    {
     "name": "stdout",
     "output_type": "stream",
     "text": [
      "epoch: 5, [batch: 429 / 613], examples_per_second: 2950.3528, train_label_loss: 0.0001, \n"
     ]
    },
    {
     "name": "stdout",
     "output_type": "stream",
     "text": [
      "epoch: 5, [batch: 490 / 613], examples_per_second: 3011.7755, train_label_loss: 0.0647, \n"
     ]
    },
    {
     "name": "stdout",
     "output_type": "stream",
     "text": [
      "epoch: 5, [batch: 551 / 613], examples_per_second: 2980.0230, train_label_loss: 0.0000, \n"
     ]
    },
    {
     "name": "stdout",
     "output_type": "stream",
     "text": [
      "=============================================================\n",
      "epoch: 5, source_val_acc_label: 0.9923, target_val_acc_label: 0.1637, source_val_label_loss: 0.0505, target_val_label_loss: 11.5972, \n",
      "=============================================================\n"
     ]
    },
    {
     "name": "stdout",
     "output_type": "stream",
     "text": [
      "Patience (3) exhausted\n"
     ]
    }
   ],
   "source": [
    "###################################\n",
    "# train\n",
    "###################################\n",
    "jig = PTN_Train_Eval_Test_Jig(model, p.BEST_MODEL_PATH, p.device)\n",
    "\n",
    "jig.train(\n",
    "    train_iterable=datasets.source.processed.train,\n",
    "    source_val_iterable=datasets.source.processed.val,\n",
    "    target_val_iterable=datasets.target.processed.val,\n",
    "    num_epochs=p.n_epoch,\n",
    "    num_logs_per_epoch=p.NUM_LOGS_PER_EPOCH,\n",
    "    patience=p.patience,\n",
    "    optimizer=optimizer,\n",
    "    criteria_for_best=p.criteria_for_best,\n",
    ")"
   ]
  },
  {
   "cell_type": "code",
   "execution_count": 23,
   "id": "31e8fabf",
   "metadata": {
    "execution": {
     "iopub.execute_input": "2022-03-07T01:04:51.667251Z",
     "iopub.status.busy": "2022-03-07T01:04:51.666875Z",
     "iopub.status.idle": "2022-03-07T01:04:51.682179Z",
     "shell.execute_reply": "2022-03-07T01:04:51.682388Z"
    },
    "papermill": {
     "duration": 0.044604,
     "end_time": "2022-03-07T01:04:51.682475",
     "exception": false,
     "start_time": "2022-03-07T01:04:51.637871",
     "status": "completed"
    },
    "tags": []
   },
   "outputs": [],
   "source": [
    "total_experiment_time_secs = time.time() - start_time_secs"
   ]
  },
  {
   "cell_type": "code",
   "execution_count": 24,
   "id": "87b9595b",
   "metadata": {
    "execution": {
     "iopub.execute_input": "2022-03-07T01:04:51.745287Z",
     "iopub.status.busy": "2022-03-07T01:04:51.744877Z",
     "iopub.status.idle": "2022-03-07T01:04:59.431012Z",
     "shell.execute_reply": "2022-03-07T01:04:59.431350Z"
    },
    "papermill": {
     "duration": 7.719612,
     "end_time": "2022-03-07T01:04:59.431460",
     "exception": false,
     "start_time": "2022-03-07T01:04:51.711848",
     "status": "completed"
    },
    "tags": []
   },
   "outputs": [],
   "source": [
    "###################################\n",
    "# Evaluate the model\n",
    "###################################\n",
    "source_test_label_accuracy, source_test_label_loss = jig.test(datasets.source.processed.test)\n",
    "target_test_label_accuracy, target_test_label_loss = jig.test(datasets.target.processed.test)\n",
    "\n",
    "source_val_label_accuracy, source_val_label_loss = jig.test(datasets.source.processed.val)\n",
    "target_val_label_accuracy, target_val_label_loss = jig.test(datasets.target.processed.val)\n",
    "\n",
    "history = jig.get_history()\n",
    "\n",
    "total_epochs_trained = len(history[\"epoch_indices\"])\n",
    "\n",
    "val_dl = Iterable_Aggregator((datasets.source.original.val,datasets.target.original.val))\n",
    "\n",
    "confusion = ptn_confusion_by_domain_over_dataloader(model, p.device, val_dl)\n",
    "per_domain_accuracy = per_domain_accuracy_from_confusion(confusion)\n",
    "\n",
    "# Add a key to per_domain_accuracy for if it was a source domain\n",
    "for domain, accuracy in per_domain_accuracy.items():\n",
    "    per_domain_accuracy[domain] = {\n",
    "        \"accuracy\": accuracy,\n",
    "        \"source?\": domain in p.domains_source\n",
    "    }\n",
    "\n",
    "# Do an independent accuracy assesment JUST TO BE SURE!\n",
    "# _source_test_label_accuracy = independent_accuracy_assesment(model, datasets.source.processed.test, p.device)\n",
    "# _target_test_label_accuracy = independent_accuracy_assesment(model, datasets.target.processed.test, p.device)\n",
    "# _source_val_label_accuracy = independent_accuracy_assesment(model, datasets.source.processed.val, p.device)\n",
    "# _target_val_label_accuracy = independent_accuracy_assesment(model, datasets.target.processed.val, p.device)\n",
    "\n",
    "# assert(_source_test_label_accuracy == source_test_label_accuracy)\n",
    "# assert(_target_test_label_accuracy == target_test_label_accuracy)\n",
    "# assert(_source_val_label_accuracy == source_val_label_accuracy)\n",
    "# assert(_target_val_label_accuracy == target_val_label_accuracy)\n",
    "\n",
    "experiment = {\n",
    "    \"experiment_name\": p.experiment_name,\n",
    "    \"parameters\": dict(p),\n",
    "    \"results\": {\n",
    "        \"source_test_label_accuracy\": source_test_label_accuracy,\n",
    "        \"source_test_label_loss\": source_test_label_loss,\n",
    "        \"target_test_label_accuracy\": target_test_label_accuracy,\n",
    "        \"target_test_label_loss\": target_test_label_loss,\n",
    "        \"source_val_label_accuracy\": source_val_label_accuracy,\n",
    "        \"source_val_label_loss\": source_val_label_loss,\n",
    "        \"target_val_label_accuracy\": target_val_label_accuracy,\n",
    "        \"target_val_label_loss\": target_val_label_loss,\n",
    "        \"total_epochs_trained\": total_epochs_trained,\n",
    "        \"total_experiment_time_secs\": total_experiment_time_secs,\n",
    "        \"confusion\": confusion,\n",
    "        \"per_domain_accuracy\": per_domain_accuracy,\n",
    "    },\n",
    "    \"history\": history,\n",
    "    \"dataset_metrics\": get_dataset_metrics(datasets, \"ptn\"),\n",
    "}"
   ]
  },
  {
   "cell_type": "code",
   "execution_count": 25,
   "id": "54a21829",
   "metadata": {
    "execution": {
     "iopub.execute_input": "2022-03-07T01:04:59.486934Z",
     "iopub.status.busy": "2022-03-07T01:04:59.486641Z",
     "iopub.status.idle": "2022-03-07T01:04:59.743848Z",
     "shell.execute_reply": "2022-03-07T01:04:59.744158Z"
    },
    "papermill": {
     "duration": 0.285522,
     "end_time": "2022-03-07T01:04:59.744264",
     "exception": false,
     "start_time": "2022-03-07T01:04:59.458742",
     "status": "completed"
    },
    "tags": []
   },
   "outputs": [
    {
     "data": {
      "image/png": "[encoded data removed]",
      "text/plain": [
       "<Figure size 1080x504 with 1 Axes>"
      ]
     },
     "metadata": {
      "needs_background": "light"
     },
     "output_type": "display_data"
    }
   ],
   "source": [
    "ax = get_loss_curve(experiment)\n",
    "plt.show()"
   ]
  },
  {
   "cell_type": "code",
   "execution_count": 26,
   "id": "fd8a0f60",
   "metadata": {
    "execution": {
     "iopub.execute_input": "2022-03-07T01:04:59.801847Z",
     "iopub.status.busy": "2022-03-07T01:04:59.801376Z",
     "iopub.status.idle": "2022-03-07T01:04:59.983556Z",
     "shell.execute_reply": "2022-03-07T01:04:59.983880Z"
    },
    "papermill": {
     "duration": 0.211794,
     "end_time": "2022-03-07T01:04:59.983989",
     "exception": false,
     "start_time": "2022-03-07T01:04:59.772195",
     "status": "completed"
    },
    "tags": []
   },
   "outputs": [
    {
     "data": {
      "text/plain": [
       "<matplotlib.axes._subplots.AxesSubplot at 0x7f68d12a5190>"
      ]
     },
     "execution_count": 26,
     "metadata": {},
     "output_type": "execute_result"
    },
    {
     "data": {
      "image/png": "[encoded data removed]",
      "text/plain": [
       "<Figure size 1080x504 with 1 Axes>"
      ]
     },
     "metadata": {
      "needs_background": "light"
     },
     "output_type": "display_data"
    }
   ],
   "source": [
    "get_results_table(experiment)"
   ]
  },
  {
   "cell_type": "code",
   "execution_count": 27,
   "id": "cf8dc689",
   "metadata": {
    "execution": {
     "iopub.execute_input": "2022-03-07T01:05:00.046717Z",
     "iopub.status.busy": "2022-03-07T01:05:00.046089Z",
     "iopub.status.idle": "2022-03-07T01:05:00.244751Z",
     "shell.execute_reply": "2022-03-07T01:05:00.245191Z"
    },
    "papermill": {
     "duration": 0.230206,
     "end_time": "2022-03-07T01:05:00.245333",
     "exception": false,
     "start_time": "2022-03-07T01:05:00.015127",
     "status": "completed"
    },
    "tags": []
   },
   "outputs": [
    {
     "data": {
      "text/plain": [
       "<matplotlib.axes._subplots.AxesSubplot at 0x7f698a82dca0>"
      ]
     },
     "execution_count": 27,
     "metadata": {},
     "output_type": "execute_result"
    },
    {
     "data": {
      "image/png": "[encoded data removed]",
      "text/plain": [
       "<Figure size 1080x504 with 1 Axes>"
      ]
     },
     "metadata": {
      "needs_background": "light"
     },
     "output_type": "display_data"
    }
   ],
   "source": [
    "get_domain_accuracies(experiment)"
   ]
  },
  {
   "cell_type": "code",
   "execution_count": 28,
   "id": "a74ae082",
   "metadata": {
    "execution": {
     "iopub.execute_input": "2022-03-07T01:05:00.309478Z",
     "iopub.status.busy": "2022-03-07T01:05:00.308258Z",
     "iopub.status.idle": "2022-03-07T01:05:00.322829Z",
     "shell.execute_reply": "2022-03-07T01:05:00.323288Z"
    },
    "papermill": {
     "duration": 0.045976,
     "end_time": "2022-03-07T01:05:00.323434",
     "exception": false,
     "start_time": "2022-03-07T01:05:00.277458",
     "status": "completed"
    },
    "tags": []
   },
   "outputs": [
    {
     "name": "stdout",
     "output_type": "stream",
     "text": [
      "Source Test Label Accuracy: 0.9862002567394095 Target Test Label Accuracy: 0.22076023391812866\n",
      "Source Val Label Accuracy: 0.9897304236200257 Target Val Label Accuracy: 0.15058479532163743\n"
     ]
    }
   ],
   "source": [
    "print(\"Source Test Label Accuracy:\", experiment[\"results\"][\"source_test_label_accuracy\"], \"Target Test Label Accuracy:\", experiment[\"results\"][\"target_test_label_accuracy\"])\n",
    "print(\"Source Val Label Accuracy:\", experiment[\"results\"][\"source_val_label_accuracy\"], \"Target Val Label Accuracy:\", experiment[\"results\"][\"target_val_label_accuracy\"])"
   ]
  },
  {
   "cell_type": "code",
   "execution_count": 29,
   "id": "dacca602",
   "metadata": {
    "execution": {
     "iopub.execute_input": "2022-03-07T01:05:00.388130Z",
     "iopub.status.busy": "2022-03-07T01:05:00.387844Z",
     "iopub.status.idle": "2022-03-07T01:05:00.402214Z",
     "shell.execute_reply": "2022-03-07T01:05:00.401837Z"
    },
    "papermill": {
     "duration": 0.045922,
     "end_time": "2022-03-07T01:05:00.402297",
     "exception": false,
     "start_time": "2022-03-07T01:05:00.356375",
     "status": "completed"
    },
    "tags": [
     "experiment_json"
    ]
   },
   "outputs": [
    {
     "data": {
      "text/plain": [
       "'{\"experiment_name\": \"tl_1_cores-metehan\", \"parameters\": {\"experiment_name\": \"tl_1_cores-metehan\", \"device\": \"cuda\", \"lr\": 0.001, \"seed\": 1337, \"dataset_seed\": 1337, \"n_shot\": 3, \"n_query\": 2, \"train_k_factor\": 3, \"val_k_factor\": 2, \"test_k_factor\": 2, \"torch_default_dtype\": \"torch.float32\", \"n_epoch\": 50, \"patience\": 3, \"criteria_for_best\": \"target_loss\", \"x_net\": [{\"class\": \"nnReshape\", \"kargs\": {\"shape\": [-1, 1, 2, 256]}}, {\"class\": \"Conv2d\", \"kargs\": {\"in_channels\": 1, \"out_channels\": 256, \"kernel_size\": [1, 7], \"bias\": false, \"padding\": [0, 3]}}, {\"class\": \"ReLU\", \"kargs\": {\"inplace\": true}}, {\"class\": \"BatchNorm2d\", \"kargs\": {\"num_features\": 256}}, {\"class\": \"Conv2d\", \"kargs\": {\"in_channels\": 256, \"out_channels\": 80, \"kernel_size\": [2, 7], \"bias\": true, \"padding\": [0, 3]}}, {\"class\": \"ReLU\", \"kargs\": {\"inplace\": true}}, {\"class\": \"BatchNorm2d\", \"kargs\": {\"num_features\": 80}}, {\"class\": \"Flatten\", \"kargs\": {}}, {\"class\": \"Linear\", \"kargs\": {\"in_features\": 20480, \"out_features\": 256}}, {\"class\": \"ReLU\", \"kargs\": {\"inplace\": true}}, {\"class\": \"BatchNorm1d\", \"kargs\": {\"num_features\": 256}}, {\"class\": \"Linear\", \"kargs\": {\"in_features\": 256, \"out_features\": 256}}], \"NUM_LOGS_PER_EPOCH\": 10, \"BEST_MODEL_PATH\": \"./best_model.pth\", \"n_way\": 19, \"datasets\": [{\"labels\": [\"1-10.\", \"1-11.\", \"1-15.\", \"1-16.\", \"1-17.\", \"1-18.\", \"1-19.\", \"10-4.\", \"10-7.\", \"11-1.\", \"11-14.\", \"11-17.\", \"11-20.\", \"11-7.\", \"13-20.\", \"13-8.\", \"14-10.\", \"14-11.\", \"14-14.\", \"14-7.\", \"15-1.\", \"15-20.\", \"16-1.\", \"16-16.\", \"17-10.\", \"17-11.\", \"17-2.\", \"19-1.\", \"19-16.\", \"19-19.\", \"19-20.\", \"19-3.\", \"2-10.\", \"2-11.\", \"2-17.\", \"2-18.\", \"2-20.\", \"2-3.\", \"2-4.\", \"2-5.\", \"2-6.\", \"2-7.\", \"2-8.\", \"3-13.\", \"3-18.\", \"3-3.\", \"4-1.\", \"4-10.\", \"4-11.\", \"4-19.\", \"5-5.\", \"6-15.\", \"7-10.\", \"7-14.\", \"8-18.\", \"8-20.\", \"8-3.\", \"8-8.\"], \"domains\": [1, 2, 3, 4, 5], \"num_examples_per_domain_per_label\": 100, \"pickle_path\": \"/mnt/wd500GB/CSC500/csc500-main/datasets/cores.stratified_ds.2022A.pkl\", \"source_or_target_dataset\": \"source\", \"x_transforms\": [], \"episode_transforms\": [], \"domain_prefix\": \"CORES_\"}, {\"labels\": [0, 1, 2, 3, 4, 5, 6, 7, 8, 9, 10, 11, 12, 13, 14, 15, 16, 17, 18], \"domains\": [0, 1, 2], \"num_examples_per_domain_per_label\": 100, \"pickle_path\": \"/mnt/wd500GB/CSC500/csc500-main/datasets/metehan.stratified_ds.2022A.pkl\", \"source_or_target_dataset\": \"target\", \"x_transforms\": [], \"episode_transforms\": [], \"domain_prefix\": \"Metehan_\"}], \"domains_source\": [\"CORES_1\", \"CORES_2\", \"CORES_3\", \"CORES_4\", \"CORES_5\"], \"domains_target\": [\"Metehan_0\", \"Metehan_1\", \"Metehan_2\"]}, \"results\": {\"source_test_label_accuracy\": 0.9862002567394095, \"source_test_label_loss\": 0.043302275240421295, \"target_test_label_accuracy\": 0.22076023391812866, \"target_test_label_loss\": 3.0187532901763916, \"source_val_label_accuracy\": 0.9897304236200257, \"source_val_label_loss\": 0.03996283560991287, \"target_val_label_accuracy\": 0.15058479532163743, \"target_val_label_loss\": 3.2176895141601562, \"total_epochs_trained\": 5, \"total_experiment_time_secs\": 109.32130694389343, \"confusion\": {\"CORES_3\": {\"17\": {\"17\": 12}, \"18\": {\"18\": 12}, \"27\": {\"27\": 12}, \"22\": {\"22\": 12}, \"10\": {\"10\": 12}, \"7\": {\"7\": 12}, \"13\": {\"13\": 12}, \"5\": {\"5\": 12}, \"43\": {\"43\": 12}, \"32\": {\"32\": 10}, \"15\": {\"15\": 12}, \"52\": {\"52\": 12}, \"29\": {\"29\": 12}, \"3\": {\"3\": 12}, \"8\": {\"8\": 12}, \"23\": {\"23\": 10}, \"41\": {\"41\": 11, \"48\": 1}, \"35\": {\"35\": 12}, \"40\": {\"40\": 12}, \"51\": {\"51\": 8}, \"42\": {\"42\": 12}, \"14\": {\"14\": 10, \"1\": 1, \"42\": 1}, \"25\": {\"25\": 12}, \"19\": {\"19\": 8}, \"11\": {\"11\": 12}, \"16\": {\"16\": 12}, \"24\": {\"24\": 10}, \"57\": {\"57\": 10}, \"12\": {\"12\": 12}, \"46\": {\"46\": 12}, \"28\": {\"28\": 12}, \"47\": {\"47\": 12}, \"9\": {\"9\": 12}, \"44\": {\"44\": 12}, \"45\": {\"45\": 12}, \"4\": {\"4\": 10}, \"50\": {\"50\": 12}, \"48\": {\"48\": 12}, \"0\": {\"0\": 12}, \"6\": {\"6\": 12}, \"55\": {\"55\": 10}, \"49\": {\"49\": 12}, \"36\": {\"36\": 12}, \"34\": {\"34\": 12}, \"37\": {\"37\": 8}, \"56\": {\"56\": 10}, \"53\": {\"53\": 12}, \"20\": {\"20\": 12}, \"21\": {\"21\": 10}, \"2\": {\"2\": 10}, \"1\": {\"1\": 10}, \"31\": {\"31\": 10}, \"30\": {\"30\": 8}, \"33\": {\"33\": 10}, \"38\": {\"38\": 12}, \"39\": {\"39\": 10}, \"54\": {\"54\": 8}, \"26\": {\"26\": 8}}, \"CORES_4\": {\"14\": {\"14\": 9, \"1\": 1}, \"27\": {\"27\": 12}, \"51\": {\"51\": 12}, \"9\": {\"9\": 12}, \"19\": {\"19\": 12}, \"34\": {\"34\": 12}, \"2\": {\"2\": 12}, \"1\": {\"1\": 12}, \"54\": {\"54\": 10}, \"47\": {\"47\": 12}, \"49\": {\"49\": 6}, \"38\": {\"38\": 8}, \"33\": {\"33\": 10}, \"31\": {\"31\": 12}, \"37\": {\"37\": 12}, \"4\": {\"4\": 12}, \"57\": {\"57\": 10}, \"15\": {\"15\": 10, \"16\": 2}, \"20\": {\"20\": 12}, \"30\": {\"30\": 12}, \"3\": {\"3\": 11, \"50\": 1}, \"17\": {\"17\": 12}, \"39\": {\"39\": 12}, \"41\": {\"41\": 12}, \"24\": {\"24\": 10}, \"40\": {\"40\": 10}, \"23\": {\"23\": 12}, \"13\": {\"13\": 9, \"2\": 1}, \"0\": {\"0\": 12}, \"11\": {\"11\": 9, \"15\": 2, \"16\": 1}, \"48\": {\"48\": 10}, \"5\": {\"5\": 12}, \"12\": {\"12\": 12}, \"52\": {\"52\": 11, \"47\": 1}, \"16\": {\"16\": 12}, \"25\": {\"25\": 12}, \"28\": {\"28\": 12}, \"18\": {\"18\": 12}, \"32\": {\"32\": 10}, \"50\": {\"50\": 12}, \"46\": {\"46\": 12}, \"55\": {\"55\": 8}, \"56\": {\"56\": 12}, \"43\": {\"43\": 12}, \"36\": {\"36\": 10}, \"29\": {\"29\": 11, \"57\": 1}, \"22\": {\"22\": 12}, \"21\": {\"21\": 12}, \"53\": {\"53\": 10}, \"7\": {\"7\": 12}, \"10\": {\"10\": 8}, \"35\": {\"35\": 12}, \"6\": {\"6\": 12}, \"26\": {\"26\": 8}, \"45\": {\"45\": 10}, \"8\": {\"8\": 12}, \"44\": {\"44\": 10}, \"42\": {\"42\": 10}}, \"CORES_5\": {\"17\": {\"17\": 12}, \"3\": {\"3\": 12}, \"44\": {\"44\": 10}, \"1\": {\"1\": 12}, \"41\": {\"41\": 11, \"27\": 1}, \"5\": {\"5\": 12}, \"2\": {\"2\": 10}, \"46\": {\"46\": 10}, \"35\": {\"35\": 8}, \"26\": {\"26\": 12}, \"54\": {\"54\": 12}, \"36\": {\"36\": 12}, \"49\": {\"49\": 12}, \"19\": {\"19\": 10}, \"43\": {\"43\": 12}, \"28\": {\"28\": 8}, \"39\": {\"39\": 12}, \"16\": {\"16\": 12}, \"38\": {\"38\": 12}, \"47\": {\"47\": 9, \"52\": 1}, \"29\": {\"29\": 10}, \"56\": {\"56\": 4}, \"20\": {\"20\": 12}, \"22\": {\"22\": 10}, \"14\": {\"14\": 11, \"47\": 1}, \"6\": {\"6\": 12}, \"52\": {\"52\": 12}, \"18\": {\"18\": 10}, \"27\": {\"27\": 12}, \"48\": {\"48\": 12}, \"34\": {\"34\": 12}, \"51\": {\"51\": 12}, \"24\": {\"24\": 10}, \"33\": {\"33\": 12}, \"45\": {\"45\": 10, \"6\": 2}, \"32\": {\"32\": 10}, \"25\": {\"25\": 8}, \"31\": {\"31\": 6}, \"15\": {\"15\": 10}, \"55\": {\"55\": 10}, \"53\": {\"53\": 12}, \"10\": {\"10\": 12}, \"40\": {\"40\": 12}, \"4\": {\"4\": 12}, \"11\": {\"11\": 10, \"15\": 2}, \"42\": {\"42\": 10}, \"8\": {\"8\": 10}, \"23\": {\"23\": 12}, \"50\": {\"50\": 12}, \"21\": {\"21\": 10}, \"30\": {\"30\": 12}, \"9\": {\"9\": 10}, \"13\": {\"13\": 6}, \"0\": {\"0\": 8}, \"37\": {\"37\": 8}, \"57\": {\"57\": 8}, \"7\": {\"7\": 6}, \"12\": {\"12\": 6}}, \"CORES_1\": {\"42\": {\"42\": 10}, \"32\": {\"32\": 12}, \"56\": {\"56\": 10}, \"39\": {\"39\": 7, \"24\": 1}, \"36\": {\"36\": 12}, \"16\": {\"16\": 8}, \"25\": {\"25\": 12}, \"47\": {\"47\": 12}, \"15\": {\"15\": 12}, \"38\": {\"38\": 12}, \"50\": {\"50\": 10}, \"57\": {\"57\": 12}, \"9\": {\"9\": 10}, \"31\": {\"31\": 8}, \"11\": {\"11\": 12}, \"46\": {\"46\": 9, \"6\": 1}, \"53\": {\"53\": 12}, \"24\": {\"24\": 12}, \"5\": {\"5\": 10}, \"34\": {\"34\": 7, \"33\": 1}, \"27\": {\"27\": 10}, \"14\": {\"14\": 12}, \"8\": {\"8\": 12}, \"18\": {\"18\": 12}, \"45\": {\"45\": 12}, \"6\": {\"6\": 10}, \"55\": {\"55\": 10}, \"49\": {\"49\": 12}, \"21\": {\"21\": 8}, \"10\": {\"10\": 12}, \"48\": {\"48\": 12}, \"35\": {\"35\": 12}, \"3\": {\"3\": 12}, \"33\": {\"33\": 12}, \"41\": {\"41\": 12}, \"40\": {\"40\": 12}, \"1\": {\"1\": 12}, \"43\": {\"43\": 12}, \"28\": {\"28\": 12}, \"44\": {\"44\": 10}, \"37\": {\"37\": 12}, \"51\": {\"51\": 12}, \"0\": {\"0\": 10}, \"7\": {\"7\": 10}, \"13\": {\"13\": 12}, \"23\": {\"23\": 10}, \"12\": {\"12\": 10}, \"54\": {\"54\": 12}, \"22\": {\"22\": 6}, \"19\": {\"19\": 8}, \"29\": {\"29\": 10}, \"20\": {\"20\": 10}, \"52\": {\"52\": 10}, \"17\": {\"17\": 8}, \"4\": {\"4\": 10}, \"30\": {\"30\": 6}, \"26\": {\"26\": 6}, \"2\": {\"2\": 6}}, \"CORES_2\": {\"6\": {\"6\": 8}, \"35\": {\"35\": 10}, \"38\": {\"38\": 10}, \"44\": {\"44\": 10}, \"33\": {\"33\": 12}, \"37\": {\"37\": 12}, \"1\": {\"1\": 12}, \"50\": {\"50\": 12}, \"12\": {\"12\": 12}, \"11\": {\"11\": 8}, \"51\": {\"51\": 12}, \"9\": {\"9\": 12}, \"34\": {\"23\": 1, \"34\": 10, \"54\": 1}, \"3\": {\"3\": 11, \"6\": 1}, \"23\": {\"23\": 12}, \"55\": {\"55\": 10}, \"57\": {\"57\": 12}, \"7\": {\"7\": 10, \"42\": 2}, \"30\": {\"30\": 10}, \"2\": {\"2\": 10}, \"27\": {\"27\": 12}, \"14\": {\"14\": 12}, \"0\": {\"0\": 12}, \"17\": {\"17\": 10}, \"5\": {\"5\": 12}, \"19\": {\"19\": 10}, \"41\": {\"41\": 12}, \"15\": {\"15\": 9, \"18\": 1}, \"4\": {\"4\": 12}, \"29\": {\"29\": 11, \"2\": 1}, \"31\": {\"31\": 10}, \"48\": {\"48\": 12}, \"21\": {\"21\": 12}, \"20\": {\"20\": 12}, \"39\": {\"39\": 10}, \"45\": {\"45\": 12}, \"49\": {\"49\": 11, \"54\": 1}, \"56\": {\"56\": 12}, \"47\": {\"47\": 12}, \"43\": {\"43\": 12}, \"52\": {\"52\": 10}, \"13\": {\"13\": 12}, \"32\": {\"32\": 8}, \"25\": {\"25\": 8}, \"26\": {\"26\": 12}, \"8\": {\"8\": 12}, \"42\": {\"42\": 9, \"7\": 1}, \"54\": {\"54\": 12}, \"28\": {\"28\": 6}, \"40\": {\"40\": 10}, \"22\": {\"22\": 10}, \"10\": {\"10\": 10}, \"53\": {\"53\": 10}, \"24\": {\"24\": 6}, \"36\": {\"36\": 4}, \"46\": {\"46\": 6}, \"16\": {\"16\": 6}, \"18\": {\"18\": 6}}, \"Metehan_1\": {\"9\": {\"13\": 5, \"14\": 2, \"12\": 1, \"8\": 2, \"3\": 1, \"15\": 1}, \"5\": {\"18\": 3, \"10\": 2, \"1\": 2, \"17\": 1, \"0\": 2, \"2\": 1, \"11\": 1}, \"15\": {\"14\": 1, \"15\": 6, \"8\": 3, \"12\": 1, \"13\": 1}, \"13\": {\"14\": 1, \"15\": 1, \"9\": 1, \"16\": 1, \"4\": 1, \"11\": 1, \"6\": 3, \"8\": 1, \"3\": 1, \"13\": 1}, \"11\": {\"17\": 3, \"8\": 1, \"6\": 2, \"11\": 3, \"12\": 1, \"15\": 1, \"10\": 1}, \"7\": {\"5\": 2, \"14\": 3, \"7\": 1, \"0\": 2, \"10\": 1, \"12\": 1, \"18\": 1, \"6\": 1}, \"2\": {\"10\": 3, \"2\": 3, \"3\": 1, \"6\": 1, \"4\": 1, \"1\": 2, \"5\": 1}, \"6\": {\"9\": 2, \"6\": 2, \"11\": 2, \"14\": 1, \"13\": 1, \"3\": 1, \"10\": 1, \"4\": 1, \"18\": 1}, \"16\": {\"7\": 1, \"16\": 2, \"11\": 2, \"2\": 1, \"6\": 1, \"14\": 1, \"3\": 1, \"13\": 1, \"0\": 1, \"17\": 1}, \"14\": {\"6\": 2, \"4\": 1, \"11\": 1, \"9\": 1, \"15\": 1, \"14\": 1, \"12\": 2, \"3\": 1, \"2\": 1, \"8\": 1}, \"18\": {\"10\": 1, \"17\": 1, \"16\": 2, \"7\": 1, \"15\": 1, \"3\": 1, \"11\": 2, \"5\": 2, \"18\": 1}, \"1\": {\"2\": 4, \"17\": 1, \"1\": 5, \"0\": 1, \"16\": 1}, \"10\": {\"11\": 2, \"5\": 1, \"7\": 3, \"6\": 1, \"2\": 1, \"18\": 1, \"14\": 1, \"1\": 1, \"13\": 1}, \"12\": {\"13\": 5, \"0\": 1, \"15\": 2, \"9\": 1, \"3\": 2, \"4\": 1}, \"3\": {\"8\": 2, \"15\": 1, \"17\": 2, \"11\": 1, \"3\": 2, \"12\": 1, \"18\": 1, \"16\": 1, \"10\": 1}, \"8\": {\"11\": 2, \"17\": 3, \"8\": 2, \"15\": 4, \"9\": 1}, \"0\": {\"6\": 1, \"17\": 2, \"1\": 3, \"10\": 1, \"8\": 1, \"14\": 1, \"0\": 1, \"11\": 1, \"3\": 1}, \"4\": {\"2\": 2, \"7\": 1, \"3\": 1, \"6\": 2, \"13\": 1, \"8\": 1, \"9\": 3, \"17\": 1}, \"17\": {\"11\": 3, \"6\": 1, \"8\": 3, \"17\": 3, \"3\": 1, \"16\": 1}}, \"Metehan_0\": {\"6\": {\"14\": 2, \"13\": 3, \"4\": 1, \"9\": 1, \"3\": 1, \"6\": 2, \"0\": 1, \"12\": 1}, \"18\": {\"0\": 1, \"5\": 4, \"3\": 1, \"18\": 3, \"16\": 1, \"11\": 1, \"15\": 1}, \"2\": {\"10\": 4, \"2\": 2, \"7\": 1, \"18\": 1, \"1\": 3, \"0\": 1}, \"17\": {\"11\": 2, \"8\": 2, \"18\": 1, \"13\": 1, \"16\": 1, \"9\": 1, \"17\": 1, \"7\": 1, \"5\": 2}, \"1\": {\"5\": 2, \"1\": 7, \"10\": 1, \"2\": 1, \"7\": 1}, \"4\": {\"12\": 1, \"14\": 3, \"4\": 3, \"1\": 1, \"11\": 1, \"10\": 1, \"9\": 1, \"13\": 1}, \"8\": {\"8\": 2, \"15\": 5, \"17\": 1, \"12\": 1, \"11\": 1, \"9\": 1, \"16\": 1}, \"9\": {\"12\": 2, \"14\": 3, \"9\": 1, \"3\": 1, \"4\": 2, \"15\": 3}, \"7\": {\"2\": 4, \"9\": 1, \"1\": 2, \"18\": 1, \"11\": 1, \"17\": 2, \"16\": 1}, \"15\": {\"8\": 1, \"13\": 1, \"15\": 6, \"12\": 4}, \"12\": {\"4\": 3, \"12\": 2, \"15\": 3, \"13\": 1, \"10\": 1, \"9\": 1, \"11\": 1}, \"11\": {\"17\": 2, \"5\": 1, \"8\": 2, \"9\": 1, \"13\": 2, \"10\": 1, \"16\": 1, \"6\": 1, \"18\": 1}, \"13\": {\"13\": 2, \"12\": 3, \"4\": 2, \"15\": 2, \"14\": 1, \"17\": 1, \"9\": 1}, \"0\": {\"14\": 3, \"7\": 2, \"10\": 3, \"16\": 1, \"4\": 2, \"2\": 1}, \"10\": {\"1\": 2, \"2\": 2, \"11\": 1, \"17\": 1, \"5\": 2, \"10\": 1, \"18\": 2, \"3\": 1}, \"14\": {\"6\": 2, \"9\": 1, \"4\": 2, \"3\": 1, \"5\": 1, \"2\": 1, \"13\": 1, \"15\": 1, \"12\": 2}, \"3\": {\"10\": 1, \"8\": 2, \"6\": 1, \"13\": 1, \"12\": 1, \"11\": 1, \"17\": 2, \"9\": 1, \"16\": 1, \"14\": 1}, \"5\": {\"0\": 2, \"5\": 2, \"17\": 1, \"18\": 2, \"1\": 1, \"8\": 1, \"2\": 1, \"7\": 2}, \"16\": {\"1\": 1, \"16\": 2, \"11\": 2, \"17\": 2, \"7\": 2, \"3\": 3}}, \"Metehan_2\": {\"1\": {\"10\": 2, \"1\": 4, \"2\": 4, \"18\": 2}, \"0\": {\"11\": 1, \"0\": 1, \"6\": 1, \"7\": 1, \"1\": 2, \"5\": 2, \"16\": 1, \"14\": 1, \"4\": 1, \"12\": 1}, \"13\": {\"14\": 3, \"13\": 3, \"9\": 2, \"4\": 1, \"6\": 1, \"16\": 1, \"2\": 1}, \"11\": {\"3\": 3, \"2\": 2, \"12\": 1, \"11\": 2, \"8\": 2, \"17\": 1, \"7\": 1}, \"5\": {\"5\": 3, \"10\": 3, \"18\": 4, \"0\": 1, \"1\": 1}, \"15\": {\"9\": 2, \"15\": 1, \"12\": 4, \"17\": 1, \"16\": 1, \"8\": 2, \"13\": 1}, \"14\": {\"0\": 1, \"6\": 2, \"4\": 2, \"16\": 2, \"5\": 1, \"2\": 2, \"3\": 1, \"17\": 1}, \"8\": {\"3\": 2, \"15\": 2, \"12\": 3, \"16\": 1, \"9\": 1, \"13\": 1, \"8\": 2}, \"6\": {\"4\": 3, \"6\": 2, \"16\": 1, \"9\": 3, \"14\": 1, \"13\": 1, \"15\": 1}, \"3\": {\"3\": 4, \"16\": 2, \"0\": 2, \"10\": 2, \"18\": 1, \"14\": 1}, \"10\": {\"16\": 1, \"18\": 1, \"1\": 1, \"2\": 3, \"0\": 1, \"11\": 2, \"17\": 1, \"10\": 1, \"5\": 1}, \"7\": {\"3\": 1, \"2\": 1, \"11\": 1, \"0\": 1, \"9\": 1, \"1\": 1, \"7\": 2, \"17\": 3, \"18\": 1}, \"17\": {\"11\": 5, \"16\": 1, \"8\": 4, \"4\": 1, \"0\": 1}, \"4\": {\"8\": 1, \"9\": 2, \"6\": 1, \"16\": 1, \"12\": 2, \"13\": 2, \"10\": 1, \"4\": 2}, \"2\": {\"10\": 2, \"13\": 1, \"9\": 1, \"5\": 1, \"17\": 1, \"2\": 3, \"1\": 1, \"0\": 1, \"18\": 1}, \"9\": {\"17\": 2, \"13\": 3, \"15\": 2, \"2\": 1, \"14\": 1, \"9\": 1, \"16\": 2}, \"12\": {\"12\": 2, \"17\": 1, \"14\": 1, \"6\": 1, \"15\": 1, \"3\": 1, \"16\": 1, \"8\": 2, \"4\": 1, \"9\": 1}, \"18\": {\"18\": 1, \"1\": 1, \"2\": 2, \"5\": 4, \"8\": 1, \"16\": 1, \"10\": 1, \"11\": 1}, \"16\": {\"2\": 2, \"11\": 1, \"4\": 1, \"1\": 2, \"10\": 1, \"9\": 1, \"3\": 1, \"14\": 2, \"7\": 1}}}, \"per_domain_accuracy\": {\"CORES_3\": {\"accuracy\": 0.9953560371517027, \"source?\": true}, \"CORES_4\": {\"accuracy\": 0.9845201238390093, \"source?\": true}, \"CORES_5\": {\"accuracy\": 0.9884868421052632, \"source?\": true}, \"CORES_1\": {\"accuracy\": 0.9950657894736842, \"source?\": true}, \"CORES_2\": {\"accuracy\": 0.9851973684210527, \"source?\": true}, \"Metehan_1\": {\"accuracy\": 0.14473684210526316, \"source?\": false}, \"Metehan_0\": {\"accuracy\": 0.15789473684210525, \"source?\": false}, \"Metehan_2\": {\"accuracy\": 0.14912280701754385, \"source?\": false}}}, \"history\": {\"epoch_indices\": [1, 2, 3, 4, 5], \"train_label_loss\": [0.14052667411838793, 0.04187424216970769, 0.03232613915211857, 0.016248026480107428, 0.035590544968250086], \"source_val_label_loss\": [0.03996283560991287, 0.0398898646235466, 0.02734401635825634, 0.04829219728708267, 0.05048888921737671], \"target_val_label_loss\": [3.2176895141601562, 5.867994785308838, 5.2881622314453125, 8.039870262145996, 11.597241401672363], \"source_val_acc_label\": [0.9897304236200257, 0.9890885750962772, 0.9906931964056482, 0.9884467265725289, 0.9922978177150192], \"target_val_acc_label\": [0.15058479532163743, 0.17982456140350878, 0.2324561403508772, 0.21052631578947367, 0.16374269005847952]}, \"dataset_metrics\": {\"source\": {\"train\": {\"n_unique_x\": 20300, \"n_unique_y\": 58, \"n_batch/episode\": 616}, \"val\": {\"n_unique_x\": 4299, \"n_unique_y\": 58, \"n_batch/episode\": 82}, \"test\": {\"n_unique_x\": 4299, \"n_unique_y\": 58, \"n_batch/episode\": 82}}, \"target\": {\"train\": {\"n_unique_x\": 3990, \"n_unique_y\": 19, \"n_batch/episode\": 126}, \"val\": {\"n_unique_x\": 855, \"n_unique_y\": 19, \"n_batch/episode\": 18}, \"test\": {\"n_unique_x\": 855, \"n_unique_y\": 19, \"n_batch/episode\": 18}}}}'"
      ]
     },
     "execution_count": 29,
     "metadata": {},
     "output_type": "execute_result"
    }
   ],
   "source": [
    "json.dumps(experiment)"
   ]
  }
 ],
 "metadata": {
  "celltoolbar": "Tags",
  "kernelspec": {
   "display_name": "Python 3 (ipykernel)",
   "language": "python",
   "name": "python3"
  },
  "language_info": {
   "codemirror_mode": {
    "name": "ipython",
    "version": 3
   },
   "file_extension": ".py",
   "mimetype": "text/x-python",
   "name": "python",
   "nbconvert_exporter": "python",
   "pygments_lexer": "ipython3",
   "version": "3.8.10"
  },
  "papermill": {
   "default_parameters": {},
   "duration": 120.671485,
   "end_time": "2022-03-07T01:05:00.940983",
   "environment_variables": {},
   "exception": null,
   "input_path": "/mnt/wd500GB/CSC500/csc500-main/csc500-notebooks/templates/tl_ptn_template.ipynb",
   "output_path": "trial.ipynb",
   "parameters": {
    "parameters": {
     "BEST_MODEL_PATH": "./best_model.pth",
     "NUM_LOGS_PER_EPOCH": 10,
     "criteria_for_best": "target_loss",
     "dataset_seed": 1337,
     "datasets": [
      {
       "domain_prefix": "CORES_",
       "domains": [
        1,
        2,
        3,
        4,
        5
       ],
       "episode_transforms": [],
       "labels": [
        "1-10.",
        "1-11.",
        "1-15.",
        "1-16.",
        "1-17.",
        "1-18.",
        "1-19.",
        "10-4.",
        "10-7.",
        "11-1.",
        "11-14.",
        "11-17.",
        "11-20.",
        "11-7.",
        "13-20.",
        "13-8.",
        "14-10.",
        "14-11.",
        "14-14.",
        "14-7.",
        "15-1.",
        "15-20.",
        "16-1.",
        "16-16.",
        "17-10.",
        "17-11.",
        "17-2.",
        "19-1.",
        "19-16.",
        "19-19.",
        "19-20.",
        "19-3.",
        "2-10.",
        "2-11.",
        "2-17.",
        "2-18.",
        "2-20.",
        "2-3.",
        "2-4.",
        "2-5.",
        "2-6.",
        "2-7.",
        "2-8.",
        "3-13.",
        "3-18.",
        "3-3.",
        "4-1.",
        "4-10.",
        "4-11.",
        "4-19.",
        "5-5.",
        "6-15.",
        "7-10.",
        "7-14.",
        "8-18.",
        "8-20.",
        "8-3.",
        "8-8."
       ],
       "num_examples_per_domain_per_label": 100,
       "pickle_path": "/mnt/wd500GB/CSC500/csc500-main/datasets/cores.stratified_ds.2022A.pkl",
       "source_or_target_dataset": "source",
       "x_transforms": []
      },
      {
       "domain_prefix": "Metehan_",
       "domains": [
        0,
        1,
        2
       ],
       "episode_transforms": [],
       "labels": [
        0,
        1,
        2,
        3,
        4,
        5,
        6,
        7,
        8,
        9,
        10,
        11,
        12,
        13,
        14,
        15,
        16,
        17,
        18
       ],
       "num_examples_per_domain_per_label": 100,
       "pickle_path": "/mnt/wd500GB/CSC500/csc500-main/datasets/metehan.stratified_ds.2022A.pkl",
       "source_or_target_dataset": "target",
       "x_transforms": []
      }
     ],
     "device": "cuda",
     "experiment_name": "tl_1_cores-metehan",
     "lr": 0.001,
     "n_epoch": 50,
     "n_query": 2,
     "n_shot": 3,
     "n_way": 19,
     "patience": 3,
     "seed": 1337,
     "test_k_factor": 2,
     "torch_default_dtype": "torch.float32",
     "train_k_factor": 3,
     "val_k_factor": 2,
     "x_net": [
      {
       "class": "nnReshape",
       "kargs": {
        "shape": [
         -1,
         1,
         2,
         256
        ]
       }
      },
      {
       "class": "Conv2d",
       "kargs": {
        "bias": false,
        "in_channels": 1,
        "kernel_size": [
         1,
         7
        ],
        "out_channels": 256,
        "padding": [
         0,
         3
        ]
       }
      },
      {
       "class": "ReLU",
       "kargs": {
        "inplace": true
       }
      },
      {
       "class": "BatchNorm2d",
       "kargs": {
        "num_features": 256
       }
      },
      {
       "class": "Conv2d",
       "kargs": {
        "bias": true,
        "in_channels": 256,
        "kernel_size": [
         2,
         7
        ],
        "out_channels": 80,
        "padding": [
         0,
         3
        ]
       }
      },
      {
       "class": "ReLU",
       "kargs": {
        "inplace": true
       }
      },
      {
       "class": "BatchNorm2d",
       "kargs": {
        "num_features": 80
       }
      },
      {
       "class": "Flatten",
       "kargs": {}
      },
      {
       "class": "Linear",
       "kargs": {
        "in_features": 20480,
        "out_features": 256
       }
      },
      {
       "class": "ReLU",
       "kargs": {
        "inplace": true
       }
      },
      {
       "class": "BatchNorm1d",
       "kargs": {
        "num_features": 256
       }
      },
      {
       "class": "Linear",
       "kargs": {
        "in_features": 256,
        "out_features": 256
       }
      }
     ]
    }
   },
   "start_time": "2022-03-07T01:03:00.269498",
   "version": "2.3.4"
  }
 },
 "nbformat": 4,
 "nbformat_minor": 5
}