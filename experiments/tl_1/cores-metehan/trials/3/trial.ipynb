{
 "cells": [
  {
   "cell_type": "markdown",
   "id": "9fea5f46",
   "metadata": {
    "papermill": {
     "duration": 0.018108,
     "end_time": "2022-03-07T01:05:01.736445",
     "exception": false,
     "start_time": "2022-03-07T01:05:01.718337",
     "status": "completed"
    },
    "tags": []
   },
   "source": [
    "# Transfer Learning Template"
   ]
  },
  {
   "cell_type": "code",
   "execution_count": 1,
   "id": "0902182a",
   "metadata": {
    "execution": {
     "iopub.execute_input": "2022-03-07T01:05:01.778759Z",
     "iopub.status.busy": "2022-03-07T01:05:01.770176Z",
     "iopub.status.idle": "2022-03-07T01:05:02.584044Z",
     "shell.execute_reply": "2022-03-07T01:05:02.584363Z"
    },
    "papermill": {
     "duration": 0.834713,
     "end_time": "2022-03-07T01:05:02.584522",
     "exception": false,
     "start_time": "2022-03-07T01:05:01.749809",
     "status": "completed"
    },
    "tags": []
   },
   "outputs": [],
   "source": [
    "%load_ext autoreload\n",
    "%autoreload 2\n",
    "%matplotlib inline\n",
    "\n",
    "    \n",
    "import os, json, sys, time, random\n",
    "import numpy as np\n",
    "import torch\n",
    "from torch.optim import Adam\n",
    "from  easydict import EasyDict\n",
    "import matplotlib.pyplot as plt\n",
    "\n",
    "from steves_models.steves_ptn import Steves_Prototypical_Network\n",
    "\n",
    "from steves_utils.lazy_iterable_wrapper import Lazy_Iterable_Wrapper\n",
    "from steves_utils.iterable_aggregator import Iterable_Aggregator\n",
    "from steves_utils.ptn_train_eval_test_jig import  PTN_Train_Eval_Test_Jig\n",
    "from steves_utils.torch_sequential_builder import build_sequential\n",
    "from steves_utils.torch_utils import get_dataset_metrics, ptn_confusion_by_domain_over_dataloader\n",
    "from steves_utils.utils_v2 import (per_domain_accuracy_from_confusion, get_datasets_base_path)\n",
    "from steves_utils.PTN.utils import independent_accuracy_assesment\n",
    "\n",
    "from torch.utils.data import DataLoader\n",
    "\n",
    "from steves_utils.stratified_dataset.episodic_accessor import Episodic_Accessor_Factory\n",
    "\n",
    "from steves_utils.ptn_do_report import (\n",
    "    get_loss_curve,\n",
    "    get_results_table,\n",
    "    get_parameters_table,\n",
    "    get_domain_accuracies,\n",
    ")\n",
    "\n",
    "from steves_utils.transforms import get_chained_transform"
   ]
  },
  {
   "cell_type": "markdown",
   "id": "41c840b4",
   "metadata": {
    "papermill": {
     "duration": 0.01298,
     "end_time": "2022-03-07T01:05:02.612461",
     "exception": false,
     "start_time": "2022-03-07T01:05:02.599481",
     "status": "completed"
    },
    "tags": []
   },
   "source": [
    "# Allowed Parameters\n",
    "These are allowed parameters, not defaults\n",
    "Each of these values need to be present in the injected parameters (the notebook will raise an exception if they are not present)\n",
    "\n",
    "Papermill uses the cell tag \"parameters\" to inject the real parameters below this cell.\n",
    "Enable tags to see what I mean"
   ]
  },
  {
   "cell_type": "code",
   "execution_count": 2,
   "id": "fd44eb83",
   "metadata": {
    "execution": {
     "iopub.execute_input": "2022-03-07T01:05:02.643223Z",
     "iopub.status.busy": "2022-03-07T01:05:02.642948Z",
     "iopub.status.idle": "2022-03-07T01:05:02.657953Z",
     "shell.execute_reply": "2022-03-07T01:05:02.658397Z"
    },
    "papermill": {
     "duration": 0.032395,
     "end_time": "2022-03-07T01:05:02.658545",
     "exception": false,
     "start_time": "2022-03-07T01:05:02.626150",
     "status": "completed"
    },
    "tags": []
   },
   "outputs": [],
   "source": [
    "required_parameters = {\n",
    "    \"experiment_name\",\n",
    "    \"lr\",\n",
    "    \"device\",\n",
    "    \"seed\",\n",
    "    \"dataset_seed\",\n",
    "    \"n_shot\",\n",
    "    \"n_query\",\n",
    "    \"n_way\",\n",
    "    \"train_k_factor\",\n",
    "    \"val_k_factor\",\n",
    "    \"test_k_factor\",\n",
    "    \"n_epoch\",\n",
    "    \"patience\",\n",
    "    \"criteria_for_best\",\n",
    "    \"x_net\",\n",
    "    \"datasets\",\n",
    "    \"torch_default_dtype\",\n",
    "    \"NUM_LOGS_PER_EPOCH\",\n",
    "    \"BEST_MODEL_PATH\",\n",
    "}"
   ]
  },
  {
   "cell_type": "code",
   "execution_count": 3,
   "id": "fa3f0049",
   "metadata": {
    "execution": {
     "iopub.execute_input": "2022-03-07T01:05:02.700598Z",
     "iopub.status.busy": "2022-03-07T01:05:02.698826Z",
     "iopub.status.idle": "2022-03-07T01:05:02.718861Z",
     "shell.execute_reply": "2022-03-07T01:05:02.718394Z"
    },
    "papermill": {
     "duration": 0.042345,
     "end_time": "2022-03-07T01:05:02.718981",
     "exception": false,
     "start_time": "2022-03-07T01:05:02.676636",
     "status": "completed"
    },
    "tags": [
     "parameters"
    ]
   },
   "outputs": [],
   "source": [
    "from steves_utils.CORES.utils import (\n",
    "    ALL_NODES,\n",
    "    ALL_NODES_MINIMUM_1000_EXAMPLES,\n",
    "    ALL_DAYS\n",
    ")\n",
    "\n",
    "from steves_utils.ORACLE.utils_v2 import (\n",
    "    ALL_DISTANCES_FEET_NARROWED,\n",
    "    ALL_RUNS,\n",
    "    ALL_SERIAL_NUMBERS,\n",
    ")\n",
    "\n",
    "standalone_parameters = {}\n",
    "standalone_parameters[\"experiment_name\"] = \"STANDALONE PTN\"\n",
    "standalone_parameters[\"lr\"] = 0.001\n",
    "standalone_parameters[\"device\"] = \"cuda\"\n",
    "\n",
    "standalone_parameters[\"seed\"] = 1337\n",
    "standalone_parameters[\"dataset_seed\"] = 1337\n",
    "\n",
    "standalone_parameters[\"n_way\"] = 8\n",
    "standalone_parameters[\"n_shot\"] = 3\n",
    "standalone_parameters[\"n_query\"]  = 2\n",
    "standalone_parameters[\"train_k_factor\"] = 1\n",
    "standalone_parameters[\"val_k_factor\"] = 2\n",
    "standalone_parameters[\"test_k_factor\"] = 2\n",
    "\n",
    "\n",
    "standalone_parameters[\"n_epoch\"] = 50\n",
    "\n",
    "standalone_parameters[\"patience\"] = 10\n",
    "standalone_parameters[\"criteria_for_best\"] = \"source_loss\"\n",
    "\n",
    "standalone_parameters[\"datasets\"] = [\n",
    "    {\n",
    "        \"labels\": ALL_SERIAL_NUMBERS,\n",
    "        \"domains\": ALL_DISTANCES_FEET_NARROWED,\n",
    "        \"num_examples_per_domain_per_label\": 100,\n",
    "        \"pickle_path\": os.path.join(get_datasets_base_path(), \"oracle.Run1_framed_2000Examples_stratified_ds.2022A.pkl\"),\n",
    "        \"source_or_target_dataset\": \"source\",\n",
    "        \"x_transforms\": [\"unit_mag\", \"minus_two\"],\n",
    "        \"episode_transforms\": [],\n",
    "        \"domain_prefix\": \"ORACLE_\"\n",
    "    },\n",
    "    {\n",
    "        \"labels\": ALL_NODES,\n",
    "        \"domains\": ALL_DAYS,\n",
    "        \"num_examples_per_domain_per_label\": 100,\n",
    "        \"pickle_path\": os.path.join(get_datasets_base_path(), \"cores.stratified_ds.2022A.pkl\"),\n",
    "        \"source_or_target_dataset\": \"target\",\n",
    "        \"x_transforms\": [\"unit_power\", \"times_zero\"],\n",
    "        \"episode_transforms\": [],\n",
    "        \"domain_prefix\": \"CORES_\"\n",
    "    }   \n",
    "]\n",
    "\n",
    "standalone_parameters[\"torch_default_dtype\"] = \"torch.float32\" \n",
    "\n",
    "\n",
    "\n",
    "standalone_parameters[\"x_net\"] =     [\n",
    "    {\"class\": \"nnReshape\", \"kargs\": {\"shape\":[-1, 1, 2, 256]}},\n",
    "    {\"class\": \"Conv2d\", \"kargs\": { \"in_channels\":1, \"out_channels\":256, \"kernel_size\":(1,7), \"bias\":False, \"padding\":(0,3), },},\n",
    "    {\"class\": \"ReLU\", \"kargs\": {\"inplace\": True}},\n",
    "    {\"class\": \"BatchNorm2d\", \"kargs\": {\"num_features\":256}},\n",
    "\n",
    "    {\"class\": \"Conv2d\", \"kargs\": { \"in_channels\":256, \"out_channels\":80, \"kernel_size\":(2,7), \"bias\":True, \"padding\":(0,3), },},\n",
    "    {\"class\": \"ReLU\", \"kargs\": {\"inplace\": True}},\n",
    "    {\"class\": \"BatchNorm2d\", \"kargs\": {\"num_features\":80}},\n",
    "    {\"class\": \"Flatten\", \"kargs\": {}},\n",
    "\n",
    "    {\"class\": \"Linear\", \"kargs\": {\"in_features\": 80*256, \"out_features\": 256}}, # 80 units per IQ pair\n",
    "    {\"class\": \"ReLU\", \"kargs\": {\"inplace\": True}},\n",
    "    {\"class\": \"BatchNorm1d\", \"kargs\": {\"num_features\":256}},\n",
    "\n",
    "    {\"class\": \"Linear\", \"kargs\": {\"in_features\": 256, \"out_features\": 256}},\n",
    "]\n",
    "\n",
    "# Parameters relevant to results\n",
    "# These parameters will basically never need to change\n",
    "standalone_parameters[\"NUM_LOGS_PER_EPOCH\"] = 10\n",
    "standalone_parameters[\"BEST_MODEL_PATH\"] = \"./best_model.pth\"\n",
    "\n",
    "\n",
    "\n",
    "\n"
   ]
  },
  {
   "cell_type": "code",
   "execution_count": 4,
   "id": "85f3b14d",
   "metadata": {
    "execution": {
     "iopub.execute_input": "2022-03-07T01:05:02.758215Z",
     "iopub.status.busy": "2022-03-07T01:05:02.757884Z",
     "iopub.status.idle": "2022-03-07T01:05:02.772688Z",
     "shell.execute_reply": "2022-03-07T01:05:02.771886Z"
    },
    "papermill": {
     "duration": 0.036855,
     "end_time": "2022-03-07T01:05:02.772831",
     "exception": false,
     "start_time": "2022-03-07T01:05:02.735976",
     "status": "completed"
    },
    "tags": [
     "injected-parameters"
    ]
   },
   "outputs": [],
   "source": [
    "# Parameters\n",
    "parameters = {\n",
    "    \"experiment_name\": \"tl_1_cores-metehan\",\n",
    "    \"device\": \"cuda\",\n",
    "    \"lr\": 0.001,\n",
    "    \"seed\": 1337,\n",
    "    \"dataset_seed\": 1337,\n",
    "    \"n_shot\": 3,\n",
    "    \"n_query\": 2,\n",
    "    \"train_k_factor\": 3,\n",
    "    \"val_k_factor\": 2,\n",
    "    \"test_k_factor\": 2,\n",
    "    \"torch_default_dtype\": \"torch.float32\",\n",
    "    \"n_epoch\": 50,\n",
    "    \"patience\": 3,\n",
    "    \"criteria_for_best\": \"target_loss\",\n",
    "    \"x_net\": [\n",
    "        {\"class\": \"nnReshape\", \"kargs\": {\"shape\": [-1, 1, 2, 256]}},\n",
    "        {\n",
    "            \"class\": \"Conv2d\",\n",
    "            \"kargs\": {\n",
    "                \"in_channels\": 1,\n",
    "                \"out_channels\": 256,\n",
    "                \"kernel_size\": [1, 7],\n",
    "                \"bias\": False,\n",
    "                \"padding\": [0, 3],\n",
    "            },\n",
    "        },\n",
    "        {\"class\": \"ReLU\", \"kargs\": {\"inplace\": True}},\n",
    "        {\"class\": \"BatchNorm2d\", \"kargs\": {\"num_features\": 256}},\n",
    "        {\n",
    "            \"class\": \"Conv2d\",\n",
    "            \"kargs\": {\n",
    "                \"in_channels\": 256,\n",
    "                \"out_channels\": 80,\n",
    "                \"kernel_size\": [2, 7],\n",
    "                \"bias\": True,\n",
    "                \"padding\": [0, 3],\n",
    "            },\n",
    "        },\n",
    "        {\"class\": \"ReLU\", \"kargs\": {\"inplace\": True}},\n",
    "        {\"class\": \"BatchNorm2d\", \"kargs\": {\"num_features\": 80}},\n",
    "        {\"class\": \"Flatten\", \"kargs\": {}},\n",
    "        {\"class\": \"Linear\", \"kargs\": {\"in_features\": 20480, \"out_features\": 256}},\n",
    "        {\"class\": \"ReLU\", \"kargs\": {\"inplace\": True}},\n",
    "        {\"class\": \"BatchNorm1d\", \"kargs\": {\"num_features\": 256}},\n",
    "        {\"class\": \"Linear\", \"kargs\": {\"in_features\": 256, \"out_features\": 256}},\n",
    "    ],\n",
    "    \"NUM_LOGS_PER_EPOCH\": 10,\n",
    "    \"BEST_MODEL_PATH\": \"./best_model.pth\",\n",
    "    \"n_way\": 19,\n",
    "    \"datasets\": [\n",
    "        {\n",
    "            \"labels\": [\n",
    "                \"1-10.\",\n",
    "                \"1-11.\",\n",
    "                \"1-15.\",\n",
    "                \"1-16.\",\n",
    "                \"1-17.\",\n",
    "                \"1-18.\",\n",
    "                \"1-19.\",\n",
    "                \"10-4.\",\n",
    "                \"10-7.\",\n",
    "                \"11-1.\",\n",
    "                \"11-14.\",\n",
    "                \"11-17.\",\n",
    "                \"11-20.\",\n",
    "                \"11-7.\",\n",
    "                \"13-20.\",\n",
    "                \"13-8.\",\n",
    "                \"14-10.\",\n",
    "                \"14-11.\",\n",
    "                \"14-14.\",\n",
    "                \"14-7.\",\n",
    "                \"15-1.\",\n",
    "                \"15-20.\",\n",
    "                \"16-1.\",\n",
    "                \"16-16.\",\n",
    "                \"17-10.\",\n",
    "                \"17-11.\",\n",
    "                \"17-2.\",\n",
    "                \"19-1.\",\n",
    "                \"19-16.\",\n",
    "                \"19-19.\",\n",
    "                \"19-20.\",\n",
    "                \"19-3.\",\n",
    "                \"2-10.\",\n",
    "                \"2-11.\",\n",
    "                \"2-17.\",\n",
    "                \"2-18.\",\n",
    "                \"2-20.\",\n",
    "                \"2-3.\",\n",
    "                \"2-4.\",\n",
    "                \"2-5.\",\n",
    "                \"2-6.\",\n",
    "                \"2-7.\",\n",
    "                \"2-8.\",\n",
    "                \"3-13.\",\n",
    "                \"3-18.\",\n",
    "                \"3-3.\",\n",
    "                \"4-1.\",\n",
    "                \"4-10.\",\n",
    "                \"4-11.\",\n",
    "                \"4-19.\",\n",
    "                \"5-5.\",\n",
    "                \"6-15.\",\n",
    "                \"7-10.\",\n",
    "                \"7-14.\",\n",
    "                \"8-18.\",\n",
    "                \"8-20.\",\n",
    "                \"8-3.\",\n",
    "                \"8-8.\",\n",
    "            ],\n",
    "            \"domains\": [1, 2, 3, 4, 5],\n",
    "            \"num_examples_per_domain_per_label\": 100,\n",
    "            \"pickle_path\": \"/mnt/wd500GB/CSC500/csc500-main/datasets/cores.stratified_ds.2022A.pkl\",\n",
    "            \"source_or_target_dataset\": \"target\",\n",
    "            \"x_transforms\": [\"unit_power\"],\n",
    "            \"episode_transforms\": [],\n",
    "            \"domain_prefix\": \"CORES_\",\n",
    "        },\n",
    "        {\n",
    "            \"labels\": [\n",
    "                0,\n",
    "                1,\n",
    "                2,\n",
    "                3,\n",
    "                4,\n",
    "                5,\n",
    "                6,\n",
    "                7,\n",
    "                8,\n",
    "                9,\n",
    "                10,\n",
    "                11,\n",
    "                12,\n",
    "                13,\n",
    "                14,\n",
    "                15,\n",
    "                16,\n",
    "                17,\n",
    "                18,\n",
    "            ],\n",
    "            \"domains\": [0, 1, 2],\n",
    "            \"num_examples_per_domain_per_label\": 100,\n",
    "            \"pickle_path\": \"/mnt/wd500GB/CSC500/csc500-main/datasets/metehan.stratified_ds.2022A.pkl\",\n",
    "            \"source_or_target_dataset\": \"source\",\n",
    "            \"x_transforms\": [\"unit_power\"],\n",
    "            \"episode_transforms\": [],\n",
    "            \"domain_prefix\": \"Metehan_\",\n",
    "        },\n",
    "    ],\n",
    "}\n"
   ]
  },
  {
   "cell_type": "code",
   "execution_count": 5,
   "id": "8fa1cc33",
   "metadata": {
    "execution": {
     "iopub.execute_input": "2022-03-07T01:05:02.805261Z",
     "iopub.status.busy": "2022-03-07T01:05:02.804590Z",
     "iopub.status.idle": "2022-03-07T01:05:02.815965Z",
     "shell.execute_reply": "2022-03-07T01:05:02.816255Z"
    },
    "papermill": {
     "duration": 0.029982,
     "end_time": "2022-03-07T01:05:02.816357",
     "exception": false,
     "start_time": "2022-03-07T01:05:02.786375",
     "status": "completed"
    },
    "tags": []
   },
   "outputs": [],
   "source": [
    "# Set this to True if you want to run this template directly\n",
    "STANDALONE = False\n",
    "if STANDALONE:\n",
    "    print(\"parameters not injected, running with standalone_parameters\")\n",
    "    parameters = standalone_parameters\n",
    "\n",
    "if not 'parameters' in locals() and not 'parameters' in globals():\n",
    "    raise Exception(\"Parameter injection failed\")\n",
    "\n",
    "#Use an easy dict for all the parameters\n",
    "p = EasyDict(parameters)\n",
    "\n",
    "supplied_keys = set(p.keys())\n",
    "\n",
    "if  supplied_keys != required_parameters:\n",
    "    print(\"Parameters are incorrect\")\n",
    "    if len(supplied_keys - required_parameters)>0: print(\"Shouldn't have:\", str(supplied_keys - required_parameters))\n",
    "    if len(required_parameters - supplied_keys)>0: print(\"Need to have:\", str(required_parameters - supplied_keys))\n",
    "    raise RuntimeError(\"Parameters are incorrect\")\n",
    "\n"
   ]
  },
  {
   "cell_type": "code",
   "execution_count": 6,
   "id": "3a028d58",
   "metadata": {
    "execution": {
     "iopub.execute_input": "2022-03-07T01:05:02.848034Z",
     "iopub.status.busy": "2022-03-07T01:05:02.847777Z",
     "iopub.status.idle": "2022-03-07T01:05:02.860569Z",
     "shell.execute_reply": "2022-03-07T01:05:02.860231Z"
    },
    "papermill": {
     "duration": 0.029073,
     "end_time": "2022-03-07T01:05:02.860654",
     "exception": false,
     "start_time": "2022-03-07T01:05:02.831581",
     "status": "completed"
    },
    "tags": []
   },
   "outputs": [],
   "source": [
    "###################################\n",
    "# Set the RNGs and make it all deterministic\n",
    "###################################\n",
    "np.random.seed(p.seed)\n",
    "random.seed(p.seed)\n",
    "torch.manual_seed(p.seed)\n",
    "\n",
    "torch.use_deterministic_algorithms(True) "
   ]
  },
  {
   "cell_type": "code",
   "execution_count": 7,
   "id": "b691acf6",
   "metadata": {
    "execution": {
     "iopub.execute_input": "2022-03-07T01:05:02.896281Z",
     "iopub.status.busy": "2022-03-07T01:05:02.896024Z",
     "iopub.status.idle": "2022-03-07T01:05:02.908524Z",
     "shell.execute_reply": "2022-03-07T01:05:02.908831Z"
    },
    "papermill": {
     "duration": 0.03044,
     "end_time": "2022-03-07T01:05:02.908942",
     "exception": false,
     "start_time": "2022-03-07T01:05:02.878502",
     "status": "completed"
    },
    "tags": []
   },
   "outputs": [],
   "source": [
    "###########################################\n",
    "# The stratified datasets honor this\n",
    "###########################################\n",
    "torch.set_default_dtype(eval(p.torch_default_dtype))"
   ]
  },
  {
   "cell_type": "code",
   "execution_count": 8,
   "id": "b5fba671",
   "metadata": {
    "execution": {
     "iopub.execute_input": "2022-03-07T01:05:02.941588Z",
     "iopub.status.busy": "2022-03-07T01:05:02.941322Z",
     "iopub.status.idle": "2022-03-07T01:05:02.980240Z",
     "shell.execute_reply": "2022-03-07T01:05:02.980546Z"
    },
    "papermill": {
     "duration": 0.056086,
     "end_time": "2022-03-07T01:05:02.980658",
     "exception": false,
     "start_time": "2022-03-07T01:05:02.924572",
     "status": "completed"
    },
    "tags": []
   },
   "outputs": [],
   "source": [
    "###################################\n",
    "# Build the network(s)\n",
    "# Note: It's critical to do this AFTER setting the RNG\n",
    "###################################\n",
    "x_net = build_sequential(p.x_net)"
   ]
  },
  {
   "cell_type": "code",
   "execution_count": 9,
   "id": "5d7e61cc",
   "metadata": {
    "execution": {
     "iopub.execute_input": "2022-03-07T01:05:03.014504Z",
     "iopub.status.busy": "2022-03-07T01:05:03.014243Z",
     "iopub.status.idle": "2022-03-07T01:05:03.027072Z",
     "shell.execute_reply": "2022-03-07T01:05:03.027375Z"
    },
    "papermill": {
     "duration": 0.029217,
     "end_time": "2022-03-07T01:05:03.027483",
     "exception": false,
     "start_time": "2022-03-07T01:05:02.998266",
     "status": "completed"
    },
    "tags": []
   },
   "outputs": [],
   "source": [
    "start_time_secs = time.time()"
   ]
  },
  {
   "cell_type": "code",
   "execution_count": 10,
   "id": "c6b67dfd",
   "metadata": {
    "execution": {
     "iopub.execute_input": "2022-03-07T01:05:03.062962Z",
     "iopub.status.busy": "2022-03-07T01:05:03.062687Z",
     "iopub.status.idle": "2022-03-07T01:05:03.076131Z",
     "shell.execute_reply": "2022-03-07T01:05:03.075708Z"
    },
    "papermill": {
     "duration": 0.030184,
     "end_time": "2022-03-07T01:05:03.076239",
     "exception": false,
     "start_time": "2022-03-07T01:05:03.046055",
     "status": "completed"
    },
    "tags": []
   },
   "outputs": [],
   "source": [
    "p.domains_source = []\n",
    "p.domains_target = []\n",
    "\n",
    "\n",
    "train_original_source = []\n",
    "val_original_source   = []\n",
    "test_original_source  = []\n",
    "\n",
    "train_original_target = []\n",
    "val_original_target   = []\n",
    "test_original_target  = []"
   ]
  },
  {
   "cell_type": "code",
   "execution_count": 11,
   "id": "e3d9c3d3",
   "metadata": {
    "execution": {
     "iopub.execute_input": "2022-03-07T01:05:03.113113Z",
     "iopub.status.busy": "2022-03-07T01:05:03.112814Z",
     "iopub.status.idle": "2022-03-07T01:05:03.126782Z",
     "shell.execute_reply": "2022-03-07T01:05:03.127171Z"
    },
    "papermill": {
     "duration": 0.031398,
     "end_time": "2022-03-07T01:05:03.127302",
     "exception": false,
     "start_time": "2022-03-07T01:05:03.095904",
     "status": "completed"
    },
    "tags": []
   },
   "outputs": [],
   "source": [
    "# global_x_transform_func = lambda x: normalize(x.to(torch.get_default_dtype()), \"unit_power\") # unit_power, unit_mag\n",
    "# global_x_transform_func = lambda x: normalize(x, \"unit_power\") # unit_power, unit_mag"
   ]
  },
  {
   "cell_type": "code",
   "execution_count": 12,
   "id": "acb78fd2",
   "metadata": {
    "execution": {
     "iopub.execute_input": "2022-03-07T01:05:03.168898Z",
     "iopub.status.busy": "2022-03-07T01:05:03.168519Z",
     "iopub.status.idle": "2022-03-07T01:05:03.179787Z",
     "shell.execute_reply": "2022-03-07T01:05:03.180172Z"
    },
    "papermill": {
     "duration": 0.033291,
     "end_time": "2022-03-07T01:05:03.180305",
     "exception": false,
     "start_time": "2022-03-07T01:05:03.147014",
     "status": "completed"
    },
    "tags": []
   },
   "outputs": [],
   "source": [
    "def add_dataset(\n",
    "    labels,\n",
    "    domains,\n",
    "    pickle_path,\n",
    "    x_transforms,\n",
    "    episode_transforms,\n",
    "    domain_prefix,\n",
    "    num_examples_per_domain_per_label,\n",
    "    source_or_target_dataset:str,\n",
    "    iterator_seed=p.seed,\n",
    "    dataset_seed=p.dataset_seed,\n",
    "    n_shot=p.n_shot,\n",
    "    n_way=p.n_way,\n",
    "    n_query=p.n_query,\n",
    "    train_val_test_k_factors=(p.train_k_factor,p.val_k_factor,p.test_k_factor),\n",
    "):\n",
    "   \n",
    "    if x_transforms == []: x_transform = None\n",
    "    else: x_transform = get_chained_transform(x_transforms)\n",
    "    \n",
    "    if episode_transforms == []: episode_transform = None\n",
    "    else: raise Exception(\"episode_transforms not implemented\")\n",
    "    \n",
    "    episode_transform = lambda tup, _prefix=domain_prefix: (_prefix + str(tup[0]), tup[1])\n",
    "\n",
    "\n",
    "    eaf = Episodic_Accessor_Factory(\n",
    "        labels=labels,\n",
    "        domains=domains,\n",
    "        num_examples_per_domain_per_label=num_examples_per_domain_per_label,\n",
    "        iterator_seed=iterator_seed,\n",
    "        dataset_seed=dataset_seed,\n",
    "        n_shot=n_shot,\n",
    "        n_way=n_way,\n",
    "        n_query=n_query,\n",
    "        train_val_test_k_factors=train_val_test_k_factors,\n",
    "        pickle_path=pickle_path,\n",
    "        x_transform_func=x_transform,\n",
    "    )\n",
    "\n",
    "    train, val, test = eaf.get_train(), eaf.get_val(), eaf.get_test()\n",
    "    train = Lazy_Iterable_Wrapper(train, episode_transform)\n",
    "    val = Lazy_Iterable_Wrapper(val, episode_transform)\n",
    "    test = Lazy_Iterable_Wrapper(test, episode_transform)\n",
    "\n",
    "    if source_or_target_dataset==\"source\":\n",
    "        train_original_source.append(train)\n",
    "        val_original_source.append(val)\n",
    "        test_original_source.append(test)\n",
    "\n",
    "        p.domains_source.extend(\n",
    "            [domain_prefix + str(u) for u in domains]\n",
    "        )\n",
    "    elif source_or_target_dataset==\"target\":\n",
    "        train_original_target.append(train)\n",
    "        val_original_target.append(val)\n",
    "        test_original_target.append(test)\n",
    "        p.domains_target.extend(\n",
    "            [domain_prefix + str(u) for u in domains]\n",
    "        )\n",
    "    else:\n",
    "        raise Exception(f\"invalid source_or_target_dataset: {source_or_target_dataset}\")\n",
    "    "
   ]
  },
  {
   "cell_type": "code",
   "execution_count": 13,
   "id": "fe266617",
   "metadata": {
    "execution": {
     "iopub.execute_input": "2022-03-07T01:05:03.215065Z",
     "iopub.status.busy": "2022-03-07T01:05:03.214812Z",
     "iopub.status.idle": "2022-03-07T01:05:05.812575Z",
     "shell.execute_reply": "2022-03-07T01:05:05.813005Z"
    },
    "papermill": {
     "duration": 2.614253,
     "end_time": "2022-03-07T01:05:05.813155",
     "exception": false,
     "start_time": "2022-03-07T01:05:03.198902",
     "status": "completed"
    },
    "tags": []
   },
   "outputs": [],
   "source": [
    "for ds in p.datasets:\n",
    "    add_dataset(**ds)"
   ]
  },
  {
   "cell_type": "code",
   "execution_count": 14,
   "id": "b90d65ac",
   "metadata": {
    "execution": {
     "iopub.execute_input": "2022-03-07T01:05:05.847272Z",
     "iopub.status.busy": "2022-03-07T01:05:05.847009Z",
     "iopub.status.idle": "2022-03-07T01:05:05.860028Z",
     "shell.execute_reply": "2022-03-07T01:05:05.859688Z"
    },
    "papermill": {
     "duration": 0.029576,
     "end_time": "2022-03-07T01:05:05.860116",
     "exception": false,
     "start_time": "2022-03-07T01:05:05.830540",
     "status": "completed"
    },
    "tags": []
   },
   "outputs": [],
   "source": [
    "# from steves_utils.CORES.utils import (\n",
    "#     ALL_NODES,\n",
    "#     ALL_NODES_MINIMUM_1000_EXAMPLES,\n",
    "#     ALL_DAYS\n",
    "# )\n",
    "\n",
    "# add_dataset(\n",
    "#     labels=ALL_NODES,\n",
    "#     domains = ALL_DAYS,\n",
    "#     num_examples_per_domain_per_label=100,\n",
    "#     pickle_path=os.path.join(get_datasets_base_path(), \"cores.stratified_ds.2022A.pkl\"),\n",
    "#     source_or_target_dataset=\"target\",\n",
    "#     x_transform_func=global_x_transform_func,\n",
    "#     domain_modifier=lambda u: f\"cores_{u}\"\n",
    "# )"
   ]
  },
  {
   "cell_type": "code",
   "execution_count": 15,
   "id": "76db484d",
   "metadata": {
    "execution": {
     "iopub.execute_input": "2022-03-07T01:05:05.894631Z",
     "iopub.status.busy": "2022-03-07T01:05:05.894373Z",
     "iopub.status.idle": "2022-03-07T01:05:05.908963Z",
     "shell.execute_reply": "2022-03-07T01:05:05.909273Z"
    },
    "papermill": {
     "duration": 0.031882,
     "end_time": "2022-03-07T01:05:05.909379",
     "exception": false,
     "start_time": "2022-03-07T01:05:05.877497",
     "status": "completed"
    },
    "tags": []
   },
   "outputs": [],
   "source": [
    "# from steves_utils.ORACLE.utils_v2 import (\n",
    "#     ALL_DISTANCES_FEET,\n",
    "#     ALL_RUNS,\n",
    "#     ALL_SERIAL_NUMBERS,\n",
    "# )\n",
    "\n",
    "\n",
    "# add_dataset(\n",
    "#     labels=ALL_SERIAL_NUMBERS,\n",
    "#     domains = list(set(ALL_DISTANCES_FEET) - {2,62}),\n",
    "#     num_examples_per_domain_per_label=100,\n",
    "#     pickle_path=os.path.join(get_datasets_base_path(), \"oracle.Run2_framed_2000Examples_stratified_ds.2022A.pkl\"),\n",
    "#     source_or_target_dataset=\"source\",\n",
    "#     x_transform_func=global_x_transform_func,\n",
    "#     domain_modifier=lambda u: f\"oracle1_{u}\"\n",
    "# )\n"
   ]
  },
  {
   "cell_type": "code",
   "execution_count": 16,
   "id": "97dea9d2",
   "metadata": {
    "execution": {
     "iopub.execute_input": "2022-03-07T01:05:05.942496Z",
     "iopub.status.busy": "2022-03-07T01:05:05.942205Z",
     "iopub.status.idle": "2022-03-07T01:05:05.951856Z",
     "shell.execute_reply": "2022-03-07T01:05:05.951541Z"
    },
    "papermill": {
     "duration": 0.027177,
     "end_time": "2022-03-07T01:05:05.951940",
     "exception": false,
     "start_time": "2022-03-07T01:05:05.924763",
     "status": "completed"
    },
    "tags": []
   },
   "outputs": [],
   "source": [
    "# from steves_utils.ORACLE.utils_v2 import (\n",
    "#     ALL_DISTANCES_FEET,\n",
    "#     ALL_RUNS,\n",
    "#     ALL_SERIAL_NUMBERS,\n",
    "# )\n",
    "\n",
    "\n",
    "# add_dataset(\n",
    "#     labels=ALL_SERIAL_NUMBERS,\n",
    "#     domains = list(set(ALL_DISTANCES_FEET) - {2,62,56}),\n",
    "#     num_examples_per_domain_per_label=100,\n",
    "#     pickle_path=os.path.join(get_datasets_base_path(), \"oracle.Run2_framed_2000Examples_stratified_ds.2022A.pkl\"),\n",
    "#     source_or_target_dataset=\"source\",\n",
    "#     x_transform_func=global_x_transform_func,\n",
    "#     domain_modifier=lambda u: f\"oracle2_{u}\"\n",
    "# )"
   ]
  },
  {
   "cell_type": "code",
   "execution_count": 17,
   "id": "6f289866",
   "metadata": {
    "execution": {
     "iopub.execute_input": "2022-03-07T01:05:05.986146Z",
     "iopub.status.busy": "2022-03-07T01:05:05.985889Z",
     "iopub.status.idle": "2022-03-07T01:05:05.997972Z",
     "shell.execute_reply": "2022-03-07T01:05:05.998278Z"
    },
    "papermill": {
     "duration": 0.029017,
     "end_time": "2022-03-07T01:05:05.998387",
     "exception": false,
     "start_time": "2022-03-07T01:05:05.969370",
     "status": "completed"
    },
    "tags": []
   },
   "outputs": [],
   "source": [
    "# add_dataset(\n",
    "#     labels=list(range(19)),\n",
    "#     domains = [0,1,2],\n",
    "#     num_examples_per_domain_per_label=100,\n",
    "#     pickle_path=os.path.join(get_datasets_base_path(), \"metehan.stratified_ds.2022A.pkl\"),\n",
    "#     source_or_target_dataset=\"target\",\n",
    "#     x_transform_func=global_x_transform_func,\n",
    "#     domain_modifier=lambda u: f\"met_{u}\"\n",
    "# )"
   ]
  },
  {
   "cell_type": "code",
   "execution_count": 18,
   "id": "86a863c3",
   "metadata": {
    "execution": {
     "iopub.execute_input": "2022-03-07T01:05:06.034192Z",
     "iopub.status.busy": "2022-03-07T01:05:06.033936Z",
     "iopub.status.idle": "2022-03-07T01:05:06.048075Z",
     "shell.execute_reply": "2022-03-07T01:05:06.048392Z"
    },
    "papermill": {
     "duration": 0.031691,
     "end_time": "2022-03-07T01:05:06.048503",
     "exception": false,
     "start_time": "2022-03-07T01:05:06.016812",
     "status": "completed"
    },
    "tags": []
   },
   "outputs": [],
   "source": [
    "# # from steves_utils.wisig.utils import (\n",
    "# #     ALL_NODES_MINIMUM_100_EXAMPLES,\n",
    "# #     ALL_NODES_MINIMUM_500_EXAMPLES,\n",
    "# #     ALL_NODES_MINIMUM_1000_EXAMPLES,\n",
    "# #     ALL_DAYS\n",
    "# # )\n",
    "\n",
    "# import steves_utils.wisig.utils as wisig\n",
    "\n",
    "\n",
    "# add_dataset(\n",
    "#     labels=wisig.ALL_NODES_MINIMUM_100_EXAMPLES,\n",
    "#     domains = wisig.ALL_DAYS,\n",
    "#     num_examples_per_domain_per_label=100,\n",
    "#     pickle_path=os.path.join(get_datasets_base_path(), \"wisig.node3-19.stratified_ds.2022A.pkl\"),\n",
    "#     source_or_target_dataset=\"target\",\n",
    "#     x_transform_func=global_x_transform_func,\n",
    "#     domain_modifier=lambda u: f\"wisig_{u}\"\n",
    "# )"
   ]
  },
  {
   "cell_type": "code",
   "execution_count": 19,
   "id": "fd5442bc",
   "metadata": {
    "execution": {
     "iopub.execute_input": "2022-03-07T01:05:06.086231Z",
     "iopub.status.busy": "2022-03-07T01:05:06.085968Z",
     "iopub.status.idle": "2022-03-07T01:05:06.099524Z",
     "shell.execute_reply": "2022-03-07T01:05:06.099827Z"
    },
    "papermill": {
     "duration": 0.033243,
     "end_time": "2022-03-07T01:05:06.099934",
     "exception": false,
     "start_time": "2022-03-07T01:05:06.066691",
     "status": "completed"
    },
    "tags": []
   },
   "outputs": [],
   "source": [
    "###################################\n",
    "# Build the dataset\n",
    "###################################\n",
    "train_original_source = Iterable_Aggregator(train_original_source, p.seed)\n",
    "val_original_source = Iterable_Aggregator(val_original_source, p.seed)\n",
    "test_original_source = Iterable_Aggregator(test_original_source, p.seed)\n",
    "\n",
    "\n",
    "train_original_target = Iterable_Aggregator(train_original_target, p.seed)\n",
    "val_original_target = Iterable_Aggregator(val_original_target, p.seed)\n",
    "test_original_target = Iterable_Aggregator(test_original_target, p.seed)\n",
    "\n",
    "# For CNN We only use X and Y. And we only train on the source.\n",
    "# Properly form the data using a transform lambda and Lazy_Iterable_Wrapper. Finally wrap them in a dataloader\n",
    "\n",
    "transform_lambda = lambda ex: ex[1] # Original is (<domain>, <episode>) so we strip down to episode only\n",
    "\n",
    "train_processed_source = Lazy_Iterable_Wrapper(train_original_source, transform_lambda)\n",
    "val_processed_source   = Lazy_Iterable_Wrapper(val_original_source, transform_lambda)\n",
    "test_processed_source  = Lazy_Iterable_Wrapper(test_original_source, transform_lambda)\n",
    "\n",
    "train_processed_target = Lazy_Iterable_Wrapper(train_original_target, transform_lambda)\n",
    "val_processed_target   = Lazy_Iterable_Wrapper(val_original_target, transform_lambda)\n",
    "test_processed_target  = Lazy_Iterable_Wrapper(test_original_target, transform_lambda)\n",
    "\n",
    "datasets = EasyDict({\n",
    "    \"source\": {\n",
    "        \"original\": {\"train\":train_original_source, \"val\":val_original_source, \"test\":test_original_source},\n",
    "        \"processed\": {\"train\":train_processed_source, \"val\":val_processed_source, \"test\":test_processed_source}\n",
    "    },\n",
    "    \"target\": {\n",
    "        \"original\": {\"train\":train_original_target, \"val\":val_original_target, \"test\":test_original_target},\n",
    "        \"processed\": {\"train\":train_processed_target, \"val\":val_processed_target, \"test\":test_processed_target}\n",
    "    },\n",
    "})"
   ]
  },
  {
   "cell_type": "code",
   "execution_count": 20,
   "id": "5b3c01fc",
   "metadata": {
    "execution": {
     "iopub.execute_input": "2022-03-07T01:05:06.134501Z",
     "iopub.status.busy": "2022-03-07T01:05:06.134243Z",
     "iopub.status.idle": "2022-03-07T01:05:08.214264Z",
     "shell.execute_reply": "2022-03-07T01:05:08.214485Z"
    },
    "papermill": {
     "duration": 2.097761,
     "end_time": "2022-03-07T01:05:08.214569",
     "exception": false,
     "start_time": "2022-03-07T01:05:06.116808",
     "status": "completed"
    },
    "tags": []
   },
   "outputs": [
    {
     "name": "stdout",
     "output_type": "stream",
     "text": [
      "{'Metehan_1', 'Metehan_0', 'Metehan_2'}\n"
     ]
    },
    {
     "name": "stdout",
     "output_type": "stream",
     "text": [
      "{'CORES_3', 'CORES_2', 'CORES_5', 'CORES_4', 'CORES_1'}\n"
     ]
    },
    {
     "name": "stdout",
     "output_type": "stream",
     "text": [
      "tensor([[[ 0.5282,  0.3299,  0.1786,  ..., -0.3824, -0.6260, -0.5522],\n",
      "         [ 0.4698,  0.4672,  0.5245,  ..., -1.1247, -1.1558, -1.0808]],\n",
      "\n",
      "        [[ 0.4730,  0.2253,  0.2452,  ..., -0.4330, -0.5853, -0.6450],\n",
      "         [ 0.3720,  0.4192,  0.6246,  ..., -1.0776, -1.0938, -1.0505]],\n",
      "\n",
      "        [[ 0.3787,  0.3502,  0.1482,  ..., -0.4059, -0.5637, -0.7558],\n",
      "         [ 0.4560,  0.4177,  0.5956,  ..., -1.0434, -1.1748, -0.9500]],\n",
      "\n",
      "        ...,\n",
      "\n",
      "        [[ 0.3788,  0.1964,  0.1724,  ..., -0.2301, -0.4498, -0.6367],\n",
      "         [ 0.4412,  0.4052,  0.5692,  ..., -1.2299, -1.0248, -1.1028]],\n",
      "\n",
      "        [[ 0.4286,  0.3603,  0.1023,  ..., -0.2841, -0.5216, -0.5912],\n",
      "         [ 0.4213,  0.5270,  0.5314,  ..., -1.1951, -1.3060, -1.0750]],\n",
      "\n",
      "        [[ 0.3509,  0.2096,  0.1673,  ..., -0.3167, -0.4818, -0.6134],\n",
      "         [ 0.2691,  0.3038,  0.5864,  ..., -1.2270, -1.2533, -1.0202]]])\n"
     ]
    }
   ],
   "source": [
    "from steves_utils.transforms import get_average_magnitude, get_average_power\n",
    "\n",
    "print(set([u for u,_ in val_original_source]))\n",
    "print(set([u for u,_ in val_original_target]))\n",
    "\n",
    "s_x, s_y, q_x, q_y, _ = next(iter(train_processed_source))\n",
    "print(s_x)\n",
    "\n",
    "# for ds in [\n",
    "#     train_processed_source,\n",
    "#     val_processed_source,\n",
    "#     test_processed_source,\n",
    "#     train_processed_target,\n",
    "#     val_processed_target,\n",
    "#     test_processed_target\n",
    "# ]:\n",
    "#     for s_x, s_y, q_x, q_y, _ in ds:\n",
    "#         for X in (s_x, q_x):\n",
    "#             for x in X:\n",
    "#                 assert np.isclose(get_average_magnitude(x.numpy()), 1.0)\n",
    "#                 assert np.isclose(get_average_power(x.numpy()), 1.0)\n",
    "                "
   ]
  },
  {
   "cell_type": "code",
   "execution_count": 21,
   "id": "bbdacba1",
   "metadata": {
    "execution": {
     "iopub.execute_input": "2022-03-07T01:05:08.254202Z",
     "iopub.status.busy": "2022-03-07T01:05:08.253927Z",
     "iopub.status.idle": "2022-03-07T01:05:08.313961Z",
     "shell.execute_reply": "2022-03-07T01:05:08.314399Z"
    },
    "papermill": {
     "duration": 0.079868,
     "end_time": "2022-03-07T01:05:08.314540",
     "exception": false,
     "start_time": "2022-03-07T01:05:08.234672",
     "status": "completed"
    },
    "tags": []
   },
   "outputs": [
    {
     "name": "stdout",
     "output_type": "stream",
     "text": [
      "(2, 256)\n"
     ]
    }
   ],
   "source": [
    "###################################\n",
    "# Build the model\n",
    "###################################\n",
    "model = Steves_Prototypical_Network(x_net, device=p.device, x_shape=(2,256))\n",
    "optimizer = Adam(params=model.parameters(), lr=p.lr)"
   ]
  },
  {
   "cell_type": "code",
   "execution_count": 22,
   "id": "22b39ac5",
   "metadata": {
    "execution": {
     "iopub.execute_input": "2022-03-07T01:05:08.351922Z",
     "iopub.status.busy": "2022-03-07T01:05:08.349654Z",
     "iopub.status.idle": "2022-03-07T01:05:59.966534Z",
     "shell.execute_reply": "2022-03-07T01:05:59.966189Z"
    },
    "papermill": {
     "duration": 51.633633,
     "end_time": "2022-03-07T01:05:59.966622",
     "exception": false,
     "start_time": "2022-03-07T01:05:08.332989",
     "status": "completed"
    },
    "tags": []
   },
   "outputs": [
    {
     "name": "stdout",
     "output_type": "stream",
     "text": [
      "epoch: 1, [batch: 1 / 126], examples_per_second: 822.0588, train_label_loss: 2.6080, \n"
     ]
    },
    {
     "name": "stdout",
     "output_type": "stream",
     "text": [
      "epoch: 1, [batch: 13 / 126], examples_per_second: 2801.6832, train_label_loss: 0.4333, \n"
     ]
    },
    {
     "name": "stdout",
     "output_type": "stream",
     "text": [
      "epoch: 1, [batch: 26 / 126], examples_per_second: 2933.9519, train_label_loss: 0.3150, \n"
     ]
    },
    {
     "name": "stdout",
     "output_type": "stream",
     "text": [
      "epoch: 1, [batch: 38 / 126], examples_per_second: 2931.6662, train_label_loss: 0.3829, \n"
     ]
    },
    {
     "name": "stdout",
     "output_type": "stream",
     "text": [
      "epoch: 1, [batch: 51 / 126], examples_per_second: 2913.0567, train_label_loss: 0.3155, \n"
     ]
    },
    {
     "name": "stdout",
     "output_type": "stream",
     "text": [
      "epoch: 1, [batch: 63 / 126], examples_per_second: 2972.8194, train_label_loss: 0.2087, \n"
     ]
    },
    {
     "name": "stdout",
     "output_type": "stream",
     "text": [
      "epoch: 1, [batch: 76 / 126], examples_per_second: 2928.5775, train_label_loss: 0.2269, \n"
     ]
    },
    {
     "name": "stdout",
     "output_type": "stream",
     "text": [
      "epoch: 1, [batch: 88 / 126], examples_per_second: 2889.0510, train_label_loss: 0.3310, \n"
     ]
    },
    {
     "name": "stdout",
     "output_type": "stream",
     "text": [
      "epoch: 1, [batch: 101 / 126], examples_per_second: 2950.2176, train_label_loss: 0.1547, \n"
     ]
    },
    {
     "name": "stdout",
     "output_type": "stream",
     "text": [
      "epoch: 1, [batch: 113 / 126], examples_per_second: 2975.3778, train_label_loss: 0.3162, \n"
     ]
    },
    {
     "name": "stdout",
     "output_type": "stream",
     "text": [
      "=============================================================\n",
      "epoch: 1, source_val_acc_label: 0.8772, target_val_acc_label: 0.1650, source_val_label_loss: 0.3175, target_val_label_loss: 39.3637, \n",
      "=============================================================\n"
     ]
    },
    {
     "name": "stdout",
     "output_type": "stream",
     "text": [
      "New best\n"
     ]
    },
    {
     "name": "stdout",
     "output_type": "stream",
     "text": [
      "epoch: 2, [batch: 1 / 126], examples_per_second: 109.6319, train_label_loss: 0.2279, \n"
     ]
    },
    {
     "name": "stdout",
     "output_type": "stream",
     "text": [
      "epoch: 2, [batch: 13 / 126], examples_per_second: 2984.3735, train_label_loss: 0.1799, \n"
     ]
    },
    {
     "name": "stdout",
     "output_type": "stream",
     "text": [
      "epoch: 2, [batch: 26 / 126], examples_per_second: 2969.9150, train_label_loss: 0.1685, \n"
     ]
    },
    {
     "name": "stdout",
     "output_type": "stream",
     "text": [
      "epoch: 2, [batch: 38 / 126], examples_per_second: 2953.2135, train_label_loss: 0.2724, \n"
     ]
    },
    {
     "name": "stdout",
     "output_type": "stream",
     "text": [
      "epoch: 2, [batch: 51 / 126], examples_per_second: 2894.2866, train_label_loss: 0.2848, \n"
     ]
    },
    {
     "name": "stdout",
     "output_type": "stream",
     "text": [
      "epoch: 2, [batch: 63 / 126], examples_per_second: 2991.1336, train_label_loss: 0.2903, \n"
     ]
    },
    {
     "name": "stdout",
     "output_type": "stream",
     "text": [
      "epoch: 2, [batch: 76 / 126], examples_per_second: 2983.5537, train_label_loss: 0.3274, \n"
     ]
    },
    {
     "name": "stdout",
     "output_type": "stream",
     "text": [
      "epoch: 2, [batch: 88 / 126], examples_per_second: 2984.2059, train_label_loss: 0.1748, \n"
     ]
    },
    {
     "name": "stdout",
     "output_type": "stream",
     "text": [
      "epoch: 2, [batch: 101 / 126], examples_per_second: 2999.9012, train_label_loss: 0.5745, \n"
     ]
    },
    {
     "name": "stdout",
     "output_type": "stream",
     "text": [
      "epoch: 2, [batch: 113 / 126], examples_per_second: 2971.5557, train_label_loss: 0.7192, \n"
     ]
    },
    {
     "name": "stdout",
     "output_type": "stream",
     "text": [
      "=============================================================\n",
      "epoch: 2, source_val_acc_label: 0.7544, target_val_acc_label: 0.1932, source_val_label_loss: 3.8059, target_val_label_loss: 243.0810, \n",
      "=============================================================\n"
     ]
    },
    {
     "name": "stdout",
     "output_type": "stream",
     "text": [
      "epoch: 3, [batch: 1 / 126], examples_per_second: 113.1095, train_label_loss: 3.7413, \n"
     ]
    },
    {
     "name": "stdout",
     "output_type": "stream",
     "text": [
      "epoch: 3, [batch: 13 / 126], examples_per_second: 2960.2581, train_label_loss: 1.7852, \n"
     ]
    },
    {
     "name": "stdout",
     "output_type": "stream",
     "text": [
      "epoch: 3, [batch: 26 / 126], examples_per_second: 2985.0547, train_label_loss: 4.8054, \n"
     ]
    },
    {
     "name": "stdout",
     "output_type": "stream",
     "text": [
      "epoch: 3, [batch: 38 / 126], examples_per_second: 2967.1136, train_label_loss: 2.0403, \n"
     ]
    },
    {
     "name": "stdout",
     "output_type": "stream",
     "text": [
      "epoch: 3, [batch: 51 / 126], examples_per_second: 3035.1977, train_label_loss: 7.8983, \n"
     ]
    },
    {
     "name": "stdout",
     "output_type": "stream",
     "text": [
      "epoch: 3, [batch: 63 / 126], examples_per_second: 2997.7665, train_label_loss: 3.2885, \n"
     ]
    },
    {
     "name": "stdout",
     "output_type": "stream",
     "text": [
      "epoch: 3, [batch: 76 / 126], examples_per_second: 2962.5772, train_label_loss: 3.6271, \n"
     ]
    },
    {
     "name": "stdout",
     "output_type": "stream",
     "text": [
      "epoch: 3, [batch: 88 / 126], examples_per_second: 2972.0618, train_label_loss: 2.5392, \n"
     ]
    },
    {
     "name": "stdout",
     "output_type": "stream",
     "text": [
      "epoch: 3, [batch: 101 / 126], examples_per_second: 2974.3882, train_label_loss: 1.4427, \n"
     ]
    },
    {
     "name": "stdout",
     "output_type": "stream",
     "text": [
      "epoch: 3, [batch: 113 / 126], examples_per_second: 2981.5189, train_label_loss: 2.3230, \n"
     ]
    },
    {
     "name": "stdout",
     "output_type": "stream",
     "text": [
      "=============================================================\n",
      "epoch: 3, source_val_acc_label: 0.8392, target_val_acc_label: 0.2285, source_val_label_loss: 1.3039, target_val_label_loss: 46.6079, \n",
      "=============================================================\n"
     ]
    },
    {
     "name": "stdout",
     "output_type": "stream",
     "text": [
      "epoch: 4, [batch: 1 / 126], examples_per_second: 114.9399, train_label_loss: 0.3596, \n"
     ]
    },
    {
     "name": "stdout",
     "output_type": "stream",
     "text": [
      "epoch: 4, [batch: 13 / 126], examples_per_second: 2984.6809, train_label_loss: 0.9235, \n"
     ]
    },
    {
     "name": "stdout",
     "output_type": "stream",
     "text": [
      "epoch: 4, [batch: 26 / 126], examples_per_second: 2998.1926, train_label_loss: 0.2862, \n"
     ]
    },
    {
     "name": "stdout",
     "output_type": "stream",
     "text": [
      "epoch: 4, [batch: 38 / 126], examples_per_second: 2986.3288, train_label_loss: 1.0045, \n"
     ]
    },
    {
     "name": "stdout",
     "output_type": "stream",
     "text": [
      "epoch: 4, [batch: 51 / 126], examples_per_second: 3032.3246, train_label_loss: 0.7020, \n"
     ]
    },
    {
     "name": "stdout",
     "output_type": "stream",
     "text": [
      "epoch: 4, [batch: 63 / 126], examples_per_second: 2982.4004, train_label_loss: 0.4913, \n"
     ]
    },
    {
     "name": "stdout",
     "output_type": "stream",
     "text": [
      "epoch: 4, [batch: 76 / 126], examples_per_second: 2963.7179, train_label_loss: 0.6968, \n"
     ]
    },
    {
     "name": "stdout",
     "output_type": "stream",
     "text": [
      "epoch: 4, [batch: 88 / 126], examples_per_second: 3018.6412, train_label_loss: 0.6776, \n"
     ]
    },
    {
     "name": "stdout",
     "output_type": "stream",
     "text": [
      "epoch: 4, [batch: 101 / 126], examples_per_second: 3021.9845, train_label_loss: 1.0747, \n"
     ]
    },
    {
     "name": "stdout",
     "output_type": "stream",
     "text": [
      "epoch: 4, [batch: 113 / 126], examples_per_second: 3001.2061, train_label_loss: 0.5910, \n"
     ]
    },
    {
     "name": "stdout",
     "output_type": "stream",
     "text": [
      "=============================================================\n",
      "epoch: 4, source_val_acc_label: 0.7924, target_val_acc_label: 0.3508, source_val_label_loss: 0.8214, target_val_label_loss: 43.3087, \n",
      "=============================================================\n"
     ]
    },
    {
     "name": "stdout",
     "output_type": "stream",
     "text": [
      "epoch: 5, [batch: 1 / 126], examples_per_second: 114.0000, train_label_loss: 0.4502, \n"
     ]
    },
    {
     "name": "stdout",
     "output_type": "stream",
     "text": [
      "epoch: 5, [batch: 13 / 126], examples_per_second: 2979.7890, train_label_loss: 0.4495, \n"
     ]
    },
    {
     "name": "stdout",
     "output_type": "stream",
     "text": [
      "epoch: 5, [batch: 26 / 126], examples_per_second: 2970.2795, train_label_loss: 0.4738, \n"
     ]
    },
    {
     "name": "stdout",
     "output_type": "stream",
     "text": [
      "epoch: 5, [batch: 38 / 126], examples_per_second: 2996.6581, train_label_loss: 0.3546, \n"
     ]
    },
    {
     "name": "stdout",
     "output_type": "stream",
     "text": [
      "epoch: 5, [batch: 51 / 126], examples_per_second: 3040.8727, train_label_loss: 0.1279, \n"
     ]
    },
    {
     "name": "stdout",
     "output_type": "stream",
     "text": [
      "epoch: 5, [batch: 63 / 126], examples_per_second: 3056.5394, train_label_loss: 0.1703, \n"
     ]
    },
    {
     "name": "stdout",
     "output_type": "stream",
     "text": [
      "epoch: 5, [batch: 76 / 126], examples_per_second: 3033.3509, train_label_loss: 0.5512, \n"
     ]
    },
    {
     "name": "stdout",
     "output_type": "stream",
     "text": [
      "epoch: 5, [batch: 88 / 126], examples_per_second: 3028.7716, train_label_loss: 0.3806, \n"
     ]
    },
    {
     "name": "stdout",
     "output_type": "stream",
     "text": [
      "epoch: 5, [batch: 101 / 126], examples_per_second: 3006.1321, train_label_loss: 0.4216, \n"
     ]
    },
    {
     "name": "stdout",
     "output_type": "stream",
     "text": [
      "epoch: 5, [batch: 113 / 126], examples_per_second: 3006.0325, train_label_loss: 0.7110, \n"
     ]
    },
    {
     "name": "stdout",
     "output_type": "stream",
     "text": [
      "=============================================================\n",
      "epoch: 5, source_val_acc_label: 0.8582, target_val_acc_label: 0.3938, source_val_label_loss: 0.4110, target_val_label_loss: 18.6496, \n",
      "=============================================================\n"
     ]
    },
    {
     "name": "stdout",
     "output_type": "stream",
     "text": [
      "New best\n"
     ]
    },
    {
     "name": "stdout",
     "output_type": "stream",
     "text": [
      "epoch: 6, [batch: 1 / 126], examples_per_second: 107.3464, train_label_loss: 0.4020, \n"
     ]
    },
    {
     "name": "stdout",
     "output_type": "stream",
     "text": [
      "epoch: 6, [batch: 13 / 126], examples_per_second: 2951.7295, train_label_loss: 0.1404, \n"
     ]
    },
    {
     "name": "stdout",
     "output_type": "stream",
     "text": [
      "epoch: 6, [batch: 26 / 126], examples_per_second: 2975.5928, train_label_loss: 0.4816, \n"
     ]
    },
    {
     "name": "stdout",
     "output_type": "stream",
     "text": [
      "epoch: 6, [batch: 38 / 126], examples_per_second: 3036.1548, train_label_loss: 0.2032, \n"
     ]
    },
    {
     "name": "stdout",
     "output_type": "stream",
     "text": [
      "epoch: 6, [batch: 51 / 126], examples_per_second: 2995.6490, train_label_loss: 0.2765, \n"
     ]
    },
    {
     "name": "stdout",
     "output_type": "stream",
     "text": [
      "epoch: 6, [batch: 63 / 126], examples_per_second: 2996.5829, train_label_loss: 0.1983, \n"
     ]
    },
    {
     "name": "stdout",
     "output_type": "stream",
     "text": [
      "epoch: 6, [batch: 76 / 126], examples_per_second: 3023.5473, train_label_loss: 0.1785, \n"
     ]
    },
    {
     "name": "stdout",
     "output_type": "stream",
     "text": [
      "epoch: 6, [batch: 88 / 126], examples_per_second: 2946.0389, train_label_loss: 0.3374, \n"
     ]
    },
    {
     "name": "stdout",
     "output_type": "stream",
     "text": [
      "epoch: 6, [batch: 101 / 126], examples_per_second: 2978.3028, train_label_loss: 0.3716, \n"
     ]
    },
    {
     "name": "stdout",
     "output_type": "stream",
     "text": [
      "epoch: 6, [batch: 113 / 126], examples_per_second: 2967.1689, train_label_loss: 0.3013, \n"
     ]
    },
    {
     "name": "stdout",
     "output_type": "stream",
     "text": [
      "=============================================================\n",
      "epoch: 6, source_val_acc_label: 0.8655, target_val_acc_label: 0.4127, source_val_label_loss: 0.3595, target_val_label_loss: 13.2090, \n",
      "=============================================================\n"
     ]
    },
    {
     "name": "stdout",
     "output_type": "stream",
     "text": [
      "New best\n"
     ]
    },
    {
     "name": "stdout",
     "output_type": "stream",
     "text": [
      "epoch: 7, [batch: 1 / 126], examples_per_second: 108.6453, train_label_loss: 0.3959, \n"
     ]
    },
    {
     "name": "stdout",
     "output_type": "stream",
     "text": [
      "epoch: 7, [batch: 13 / 126], examples_per_second: 2946.1823, train_label_loss: 0.3315, \n"
     ]
    },
    {
     "name": "stdout",
     "output_type": "stream",
     "text": [
      "epoch: 7, [batch: 26 / 126], examples_per_second: 2917.3092, train_label_loss: 0.3114, \n"
     ]
    },
    {
     "name": "stdout",
     "output_type": "stream",
     "text": [
      "epoch: 7, [batch: 38 / 126], examples_per_second: 2893.4602, train_label_loss: 0.1592, \n"
     ]
    },
    {
     "name": "stdout",
     "output_type": "stream",
     "text": [
      "epoch: 7, [batch: 51 / 126], examples_per_second: 2875.4566, train_label_loss: 0.4306, \n"
     ]
    },
    {
     "name": "stdout",
     "output_type": "stream",
     "text": [
      "epoch: 7, [batch: 63 / 126], examples_per_second: 3061.0673, train_label_loss: 0.0646, \n"
     ]
    },
    {
     "name": "stdout",
     "output_type": "stream",
     "text": [
      "epoch: 7, [batch: 76 / 126], examples_per_second: 2904.7599, train_label_loss: 0.3923, \n"
     ]
    },
    {
     "name": "stdout",
     "output_type": "stream",
     "text": [
      "epoch: 7, [batch: 88 / 126], examples_per_second: 3053.9683, train_label_loss: 0.1809, \n"
     ]
    },
    {
     "name": "stdout",
     "output_type": "stream",
     "text": [
      "epoch: 7, [batch: 101 / 126], examples_per_second: 3075.0321, train_label_loss: 0.3784, \n"
     ]
    },
    {
     "name": "stdout",
     "output_type": "stream",
     "text": [
      "epoch: 7, [batch: 113 / 126], examples_per_second: 3212.4454, train_label_loss: 0.5558, \n"
     ]
    },
    {
     "name": "stdout",
     "output_type": "stream",
     "text": [
      "=============================================================\n",
      "epoch: 7, source_val_acc_label: 0.8538, target_val_acc_label: 0.3797, source_val_label_loss: 0.4016, target_val_label_loss: 18.5008, \n",
      "=============================================================\n"
     ]
    },
    {
     "name": "stdout",
     "output_type": "stream",
     "text": [
      "epoch: 8, [batch: 1 / 126], examples_per_second: 122.8560, train_label_loss: 0.3977, \n"
     ]
    },
    {
     "name": "stdout",
     "output_type": "stream",
     "text": [
      "epoch: 8, [batch: 13 / 126], examples_per_second: 3262.9227, train_label_loss: 0.1144, \n"
     ]
    },
    {
     "name": "stdout",
     "output_type": "stream",
     "text": [
      "epoch: 8, [batch: 26 / 126], examples_per_second: 3290.3607, train_label_loss: 0.5067, \n"
     ]
    },
    {
     "name": "stdout",
     "output_type": "stream",
     "text": [
      "epoch: 8, [batch: 38 / 126], examples_per_second: 3265.5746, train_label_loss: 0.1754, \n"
     ]
    },
    {
     "name": "stdout",
     "output_type": "stream",
     "text": [
      "epoch: 8, [batch: 51 / 126], examples_per_second: 3315.6193, train_label_loss: 0.2688, \n"
     ]
    },
    {
     "name": "stdout",
     "output_type": "stream",
     "text": [
      "epoch: 8, [batch: 63 / 126], examples_per_second: 3103.3993, train_label_loss: 0.1520, \n"
     ]
    },
    {
     "name": "stdout",
     "output_type": "stream",
     "text": [
      "epoch: 8, [batch: 76 / 126], examples_per_second: 3180.5564, train_label_loss: 0.2000, \n"
     ]
    },
    {
     "name": "stdout",
     "output_type": "stream",
     "text": [
      "epoch: 8, [batch: 88 / 126], examples_per_second: 3310.7470, train_label_loss: 0.2643, \n"
     ]
    },
    {
     "name": "stdout",
     "output_type": "stream",
     "text": [
      "epoch: 8, [batch: 101 / 126], examples_per_second: 3115.9411, train_label_loss: 0.2694, \n"
     ]
    },
    {
     "name": "stdout",
     "output_type": "stream",
     "text": [
      "epoch: 8, [batch: 113 / 126], examples_per_second: 3364.0244, train_label_loss: 0.1959, \n"
     ]
    },
    {
     "name": "stdout",
     "output_type": "stream",
     "text": [
      "=============================================================\n",
      "epoch: 8, source_val_acc_label: 0.8523, target_val_acc_label: 0.4243, source_val_label_loss: 0.4041, target_val_label_loss: 14.3402, \n",
      "=============================================================\n"
     ]
    },
    {
     "name": "stdout",
     "output_type": "stream",
     "text": [
      "epoch: 9, [batch: 1 / 126], examples_per_second: 122.1548, train_label_loss: 0.1515, \n"
     ]
    },
    {
     "name": "stdout",
     "output_type": "stream",
     "text": [
      "epoch: 9, [batch: 13 / 126], examples_per_second: 3337.5772, train_label_loss: 0.3187, \n"
     ]
    },
    {
     "name": "stdout",
     "output_type": "stream",
     "text": [
      "epoch: 9, [batch: 26 / 126], examples_per_second: 3357.2352, train_label_loss: 0.5585, \n"
     ]
    },
    {
     "name": "stdout",
     "output_type": "stream",
     "text": [
      "epoch: 9, [batch: 38 / 126], examples_per_second: 3327.1681, train_label_loss: 0.6168, \n"
     ]
    },
    {
     "name": "stdout",
     "output_type": "stream",
     "text": [
      "epoch: 9, [batch: 51 / 126], examples_per_second: 3322.6781, train_label_loss: 0.2576, \n"
     ]
    },
    {
     "name": "stdout",
     "output_type": "stream",
     "text": [
      "epoch: 9, [batch: 63 / 126], examples_per_second: 3301.2768, train_label_loss: 0.2524, \n"
     ]
    },
    {
     "name": "stdout",
     "output_type": "stream",
     "text": [
      "epoch: 9, [batch: 76 / 126], examples_per_second: 3352.2685, train_label_loss: 0.1278, \n"
     ]
    },
    {
     "name": "stdout",
     "output_type": "stream",
     "text": [
      "epoch: 9, [batch: 88 / 126], examples_per_second: 3290.1006, train_label_loss: 0.2601, \n"
     ]
    },
    {
     "name": "stdout",
     "output_type": "stream",
     "text": [
      "epoch: 9, [batch: 101 / 126], examples_per_second: 3374.0560, train_label_loss: 0.1192, \n"
     ]
    },
    {
     "name": "stdout",
     "output_type": "stream",
     "text": [
      "epoch: 9, [batch: 113 / 126], examples_per_second: 3372.1596, train_label_loss: 0.1510, \n"
     ]
    },
    {
     "name": "stdout",
     "output_type": "stream",
     "text": [
      "=============================================================\n",
      "epoch: 9, source_val_acc_label: 0.8596, target_val_acc_label: 0.4374, source_val_label_loss: 0.4102, target_val_label_loss: 15.6251, \n",
      "=============================================================\n"
     ]
    },
    {
     "name": "stdout",
     "output_type": "stream",
     "text": [
      "epoch: 10, [batch: 1 / 126], examples_per_second: 118.9779, train_label_loss: 0.2886, \n"
     ]
    },
    {
     "name": "stdout",
     "output_type": "stream",
     "text": [
      "epoch: 10, [batch: 13 / 126], examples_per_second: 3145.3659, train_label_loss: 0.1549, \n"
     ]
    },
    {
     "name": "stdout",
     "output_type": "stream",
     "text": [
      "epoch: 10, [batch: 26 / 126], examples_per_second: 3294.6362, train_label_loss: 0.2073, \n"
     ]
    },
    {
     "name": "stdout",
     "output_type": "stream",
     "text": [
      "epoch: 10, [batch: 38 / 126], examples_per_second: 3044.0972, train_label_loss: 0.1808, \n"
     ]
    },
    {
     "name": "stdout",
     "output_type": "stream",
     "text": [
      "epoch: 10, [batch: 51 / 126], examples_per_second: 3097.8190, train_label_loss: 0.1288, \n"
     ]
    },
    {
     "name": "stdout",
     "output_type": "stream",
     "text": [
      "epoch: 10, [batch: 63 / 126], examples_per_second: 3263.5330, train_label_loss: 0.1448, \n"
     ]
    },
    {
     "name": "stdout",
     "output_type": "stream",
     "text": [
      "epoch: 10, [batch: 76 / 126], examples_per_second: 3157.8551, train_label_loss: 0.0546, \n"
     ]
    },
    {
     "name": "stdout",
     "output_type": "stream",
     "text": [
      "epoch: 10, [batch: 88 / 126], examples_per_second: 3141.8565, train_label_loss: 0.2849, \n"
     ]
    },
    {
     "name": "stdout",
     "output_type": "stream",
     "text": [
      "epoch: 10, [batch: 101 / 126], examples_per_second: 3120.2731, train_label_loss: 0.5296, \n"
     ]
    },
    {
     "name": "stdout",
     "output_type": "stream",
     "text": [
      "epoch: 10, [batch: 113 / 126], examples_per_second: 2907.9106, train_label_loss: 0.2864, \n"
     ]
    },
    {
     "name": "stdout",
     "output_type": "stream",
     "text": [
      "=============================================================\n",
      "epoch: 10, source_val_acc_label: 0.8523, target_val_acc_label: 0.4053, source_val_label_loss: 0.4151, target_val_label_loss: 16.6305, \n",
      "=============================================================\n"
     ]
    },
    {
     "name": "stdout",
     "output_type": "stream",
     "text": [
      "Patience (3) exhausted\n"
     ]
    }
   ],
   "source": [
    "###################################\n",
    "# train\n",
    "###################################\n",
    "jig = PTN_Train_Eval_Test_Jig(model, p.BEST_MODEL_PATH, p.device)\n",
    "\n",
    "jig.train(\n",
    "    train_iterable=datasets.source.processed.train,\n",
    "    source_val_iterable=datasets.source.processed.val,\n",
    "    target_val_iterable=datasets.target.processed.val,\n",
    "    num_epochs=p.n_epoch,\n",
    "    num_logs_per_epoch=p.NUM_LOGS_PER_EPOCH,\n",
    "    patience=p.patience,\n",
    "    optimizer=optimizer,\n",
    "    criteria_for_best=p.criteria_for_best,\n",
    ")"
   ]
  },
  {
   "cell_type": "code",
   "execution_count": 23,
   "id": "31e8fabf",
   "metadata": {
    "execution": {
     "iopub.execute_input": "2022-03-07T01:06:00.076001Z",
     "iopub.status.busy": "2022-03-07T01:06:00.075727Z",
     "iopub.status.idle": "2022-03-07T01:06:00.092791Z",
     "shell.execute_reply": "2022-03-07T01:06:00.093125Z"
    },
    "papermill": {
     "duration": 0.056522,
     "end_time": "2022-03-07T01:06:00.093238",
     "exception": false,
     "start_time": "2022-03-07T01:06:00.036716",
     "status": "completed"
    },
    "tags": []
   },
   "outputs": [],
   "source": [
    "total_experiment_time_secs = time.time() - start_time_secs"
   ]
  },
  {
   "cell_type": "code",
   "execution_count": 24,
   "id": "87b9595b",
   "metadata": {
    "execution": {
     "iopub.execute_input": "2022-03-07T01:06:00.175102Z",
     "iopub.status.busy": "2022-03-07T01:06:00.174640Z",
     "iopub.status.idle": "2022-03-07T01:06:07.914721Z",
     "shell.execute_reply": "2022-03-07T01:06:07.915058Z"
    },
    "papermill": {
     "duration": 7.783483,
     "end_time": "2022-03-07T01:06:07.915171",
     "exception": false,
     "start_time": "2022-03-07T01:06:00.131688",
     "status": "completed"
    },
    "tags": []
   },
   "outputs": [],
   "source": [
    "###################################\n",
    "# Evaluate the model\n",
    "###################################\n",
    "source_test_label_accuracy, source_test_label_loss = jig.test(datasets.source.processed.test)\n",
    "target_test_label_accuracy, target_test_label_loss = jig.test(datasets.target.processed.test)\n",
    "\n",
    "source_val_label_accuracy, source_val_label_loss = jig.test(datasets.source.processed.val)\n",
    "target_val_label_accuracy, target_val_label_loss = jig.test(datasets.target.processed.val)\n",
    "\n",
    "history = jig.get_history()\n",
    "\n",
    "total_epochs_trained = len(history[\"epoch_indices\"])\n",
    "\n",
    "val_dl = Iterable_Aggregator((datasets.source.original.val,datasets.target.original.val))\n",
    "\n",
    "confusion = ptn_confusion_by_domain_over_dataloader(model, p.device, val_dl)\n",
    "per_domain_accuracy = per_domain_accuracy_from_confusion(confusion)\n",
    "\n",
    "# Add a key to per_domain_accuracy for if it was a source domain\n",
    "for domain, accuracy in per_domain_accuracy.items():\n",
    "    per_domain_accuracy[domain] = {\n",
    "        \"accuracy\": accuracy,\n",
    "        \"source?\": domain in p.domains_source\n",
    "    }\n",
    "\n",
    "# Do an independent accuracy assesment JUST TO BE SURE!\n",
    "# _source_test_label_accuracy = independent_accuracy_assesment(model, datasets.source.processed.test, p.device)\n",
    "# _target_test_label_accuracy = independent_accuracy_assesment(model, datasets.target.processed.test, p.device)\n",
    "# _source_val_label_accuracy = independent_accuracy_assesment(model, datasets.source.processed.val, p.device)\n",
    "# _target_val_label_accuracy = independent_accuracy_assesment(model, datasets.target.processed.val, p.device)\n",
    "\n",
    "# assert(_source_test_label_accuracy == source_test_label_accuracy)\n",
    "# assert(_target_test_label_accuracy == target_test_label_accuracy)\n",
    "# assert(_source_val_label_accuracy == source_val_label_accuracy)\n",
    "# assert(_target_val_label_accuracy == target_val_label_accuracy)\n",
    "\n",
    "experiment = {\n",
    "    \"experiment_name\": p.experiment_name,\n",
    "    \"parameters\": dict(p),\n",
    "    \"results\": {\n",
    "        \"source_test_label_accuracy\": source_test_label_accuracy,\n",
    "        \"source_test_label_loss\": source_test_label_loss,\n",
    "        \"target_test_label_accuracy\": target_test_label_accuracy,\n",
    "        \"target_test_label_loss\": target_test_label_loss,\n",
    "        \"source_val_label_accuracy\": source_val_label_accuracy,\n",
    "        \"source_val_label_loss\": source_val_label_loss,\n",
    "        \"target_val_label_accuracy\": target_val_label_accuracy,\n",
    "        \"target_val_label_loss\": target_val_label_loss,\n",
    "        \"total_epochs_trained\": total_epochs_trained,\n",
    "        \"total_experiment_time_secs\": total_experiment_time_secs,\n",
    "        \"confusion\": confusion,\n",
    "        \"per_domain_accuracy\": per_domain_accuracy,\n",
    "    },\n",
    "    \"history\": history,\n",
    "    \"dataset_metrics\": get_dataset_metrics(datasets, \"ptn\"),\n",
    "}"
   ]
  },
  {
   "cell_type": "code",
   "execution_count": 25,
   "id": "54a21829",
   "metadata": {
    "execution": {
     "iopub.execute_input": "2022-03-07T01:06:07.997116Z",
     "iopub.status.busy": "2022-03-07T01:06:07.996821Z",
     "iopub.status.idle": "2022-03-07T01:06:08.248140Z",
     "shell.execute_reply": "2022-03-07T01:06:08.248581Z"
    },
    "papermill": {
     "duration": 0.291924,
     "end_time": "2022-03-07T01:06:08.248716",
     "exception": false,
     "start_time": "2022-03-07T01:06:07.956792",
     "status": "completed"
    },
    "tags": []
   },
   "outputs": [
    {
     "data": {
      "image/png": "[encoded data removed]",
      "text/plain": [
       "<Figure size 1080x504 with 1 Axes>"
      ]
     },
     "metadata": {
      "needs_background": "light"
     },
     "output_type": "display_data"
    }
   ],
   "source": [
    "ax = get_loss_curve(experiment)\n",
    "plt.show()"
   ]
  },
  {
   "cell_type": "code",
   "execution_count": 26,
   "id": "fd8a0f60",
   "metadata": {
    "execution": {
     "iopub.execute_input": "2022-03-07T01:06:08.336180Z",
     "iopub.status.busy": "2022-03-07T01:06:08.335918Z",
     "iopub.status.idle": "2022-03-07T01:06:08.536807Z",
     "shell.execute_reply": "2022-03-07T01:06:08.537130Z"
    },
    "papermill": {
     "duration": 0.242352,
     "end_time": "2022-03-07T01:06:08.537239",
     "exception": false,
     "start_time": "2022-03-07T01:06:08.294887",
     "status": "completed"
    },
    "tags": []
   },
   "outputs": [
    {
     "data": {
      "text/plain": [
       "<matplotlib.axes._subplots.AxesSubplot at 0x7fa793dbbaf0>"
      ]
     },
     "execution_count": 26,
     "metadata": {},
     "output_type": "execute_result"
    },
    {
     "data": {
      "image/png": "[encoded data removed]",
      "text/plain": [
       "<Figure size 1080x504 with 1 Axes>"
      ]
     },
     "metadata": {
      "needs_background": "light"
     },
     "output_type": "display_data"
    }
   ],
   "source": [
    "get_results_table(experiment)"
   ]
  },
  {
   "cell_type": "code",
   "execution_count": 27,
   "id": "cf8dc689",
   "metadata": {
    "execution": {
     "iopub.execute_input": "2022-03-07T01:06:08.638977Z",
     "iopub.status.busy": "2022-03-07T01:06:08.638693Z",
     "iopub.status.idle": "2022-03-07T01:06:08.833870Z",
     "shell.execute_reply": "2022-03-07T01:06:08.834160Z"
    },
    "papermill": {
     "duration": 0.238747,
     "end_time": "2022-03-07T01:06:08.834268",
     "exception": false,
     "start_time": "2022-03-07T01:06:08.595521",
     "status": "completed"
    },
    "tags": []
   },
   "outputs": [
    {
     "data": {
      "text/plain": [
       "<matplotlib.axes._subplots.AxesSubplot at 0x7fa79339ec40>"
      ]
     },
     "execution_count": 27,
     "metadata": {},
     "output_type": "execute_result"
    },
    {
     "data": {
      "image/png": "[encoded data removed]",
      "text/plain": [
       "<Figure size 1080x504 with 1 Axes>"
      ]
     },
     "metadata": {
      "needs_background": "light"
     },
     "output_type": "display_data"
    }
   ],
   "source": [
    "get_domain_accuracies(experiment)"
   ]
  },
  {
   "cell_type": "code",
   "execution_count": 28,
   "id": "a74ae082",
   "metadata": {
    "execution": {
     "iopub.execute_input": "2022-03-07T01:06:08.919857Z",
     "iopub.status.busy": "2022-03-07T01:06:08.919586Z",
     "iopub.status.idle": "2022-03-07T01:06:08.932712Z",
     "shell.execute_reply": "2022-03-07T01:06:08.933008Z"
    },
    "papermill": {
     "duration": 0.055652,
     "end_time": "2022-03-07T01:06:08.933112",
     "exception": false,
     "start_time": "2022-03-07T01:06:08.877460",
     "status": "completed"
    },
    "tags": []
   },
   "outputs": [
    {
     "name": "stdout",
     "output_type": "stream",
     "text": [
      "Source Test Label Accuracy: 0.8552631578947368 Target Test Label Accuracy: 0.4194480102695764\n",
      "Source Val Label Accuracy: 0.8654970760233918 Target Val Label Accuracy: 0.4127086007702182\n"
     ]
    }
   ],
   "source": [
    "print(\"Source Test Label Accuracy:\", experiment[\"results\"][\"source_test_label_accuracy\"], \"Target Test Label Accuracy:\", experiment[\"results\"][\"target_test_label_accuracy\"])\n",
    "print(\"Source Val Label Accuracy:\", experiment[\"results\"][\"source_val_label_accuracy\"], \"Target Val Label Accuracy:\", experiment[\"results\"][\"target_val_label_accuracy\"])"
   ]
  },
  {
   "cell_type": "code",
   "execution_count": 29,
   "id": "dacca602",
   "metadata": {
    "execution": {
     "iopub.execute_input": "2022-03-07T01:06:09.018107Z",
     "iopub.status.busy": "2022-03-07T01:06:09.017837Z",
     "iopub.status.idle": "2022-03-07T01:06:09.031332Z",
     "shell.execute_reply": "2022-03-07T01:06:09.031636Z"
    },
    "papermill": {
     "duration": 0.057627,
     "end_time": "2022-03-07T01:06:09.031737",
     "exception": false,
     "start_time": "2022-03-07T01:06:08.974110",
     "status": "completed"
    },
    "tags": [
     "experiment_json"
    ]
   },
   "outputs": [
    {
     "data": {
      "text/plain": [
       "'{\"experiment_name\": \"tl_1_cores-metehan\", \"parameters\": {\"experiment_name\": \"tl_1_cores-metehan\", \"device\": \"cuda\", \"lr\": 0.001, \"seed\": 1337, \"dataset_seed\": 1337, \"n_shot\": 3, \"n_query\": 2, \"train_k_factor\": 3, \"val_k_factor\": 2, \"test_k_factor\": 2, \"torch_default_dtype\": \"torch.float32\", \"n_epoch\": 50, \"patience\": 3, \"criteria_for_best\": \"target_loss\", \"x_net\": [{\"class\": \"nnReshape\", \"kargs\": {\"shape\": [-1, 1, 2, 256]}}, {\"class\": \"Conv2d\", \"kargs\": {\"in_channels\": 1, \"out_channels\": 256, \"kernel_size\": [1, 7], \"bias\": false, \"padding\": [0, 3]}}, {\"class\": \"ReLU\", \"kargs\": {\"inplace\": true}}, {\"class\": \"BatchNorm2d\", \"kargs\": {\"num_features\": 256}}, {\"class\": \"Conv2d\", \"kargs\": {\"in_channels\": 256, \"out_channels\": 80, \"kernel_size\": [2, 7], \"bias\": true, \"padding\": [0, 3]}}, {\"class\": \"ReLU\", \"kargs\": {\"inplace\": true}}, {\"class\": \"BatchNorm2d\", \"kargs\": {\"num_features\": 80}}, {\"class\": \"Flatten\", \"kargs\": {}}, {\"class\": \"Linear\", \"kargs\": {\"in_features\": 20480, \"out_features\": 256}}, {\"class\": \"ReLU\", \"kargs\": {\"inplace\": true}}, {\"class\": \"BatchNorm1d\", \"kargs\": {\"num_features\": 256}}, {\"class\": \"Linear\", \"kargs\": {\"in_features\": 256, \"out_features\": 256}}], \"NUM_LOGS_PER_EPOCH\": 10, \"BEST_MODEL_PATH\": \"./best_model.pth\", \"n_way\": 19, \"datasets\": [{\"labels\": [\"1-10.\", \"1-11.\", \"1-15.\", \"1-16.\", \"1-17.\", \"1-18.\", \"1-19.\", \"10-4.\", \"10-7.\", \"11-1.\", \"11-14.\", \"11-17.\", \"11-20.\", \"11-7.\", \"13-20.\", \"13-8.\", \"14-10.\", \"14-11.\", \"14-14.\", \"14-7.\", \"15-1.\", \"15-20.\", \"16-1.\", \"16-16.\", \"17-10.\", \"17-11.\", \"17-2.\", \"19-1.\", \"19-16.\", \"19-19.\", \"19-20.\", \"19-3.\", \"2-10.\", \"2-11.\", \"2-17.\", \"2-18.\", \"2-20.\", \"2-3.\", \"2-4.\", \"2-5.\", \"2-6.\", \"2-7.\", \"2-8.\", \"3-13.\", \"3-18.\", \"3-3.\", \"4-1.\", \"4-10.\", \"4-11.\", \"4-19.\", \"5-5.\", \"6-15.\", \"7-10.\", \"7-14.\", \"8-18.\", \"8-20.\", \"8-3.\", \"8-8.\"], \"domains\": [1, 2, 3, 4, 5], \"num_examples_per_domain_per_label\": 100, \"pickle_path\": \"/mnt/wd500GB/CSC500/csc500-main/datasets/cores.stratified_ds.2022A.pkl\", \"source_or_target_dataset\": \"target\", \"x_transforms\": [\"unit_power\"], \"episode_transforms\": [], \"domain_prefix\": \"CORES_\"}, {\"labels\": [0, 1, 2, 3, 4, 5, 6, 7, 8, 9, 10, 11, 12, 13, 14, 15, 16, 17, 18], \"domains\": [0, 1, 2], \"num_examples_per_domain_per_label\": 100, \"pickle_path\": \"/mnt/wd500GB/CSC500/csc500-main/datasets/metehan.stratified_ds.2022A.pkl\", \"source_or_target_dataset\": \"source\", \"x_transforms\": [\"unit_power\"], \"episode_transforms\": [], \"domain_prefix\": \"Metehan_\"}], \"domains_source\": [\"Metehan_0\", \"Metehan_1\", \"Metehan_2\"], \"domains_target\": [\"CORES_1\", \"CORES_2\", \"CORES_3\", \"CORES_4\", \"CORES_5\"]}, \"results\": {\"source_test_label_accuracy\": 0.8552631578947368, \"source_test_label_loss\": 0.3815840780735016, \"target_test_label_accuracy\": 0.4194480102695764, \"target_test_label_loss\": 14.05778980255127, \"source_val_label_accuracy\": 0.8654970760233918, \"source_val_label_loss\": 0.3595079183578491, \"target_val_label_accuracy\": 0.4127086007702182, \"target_val_label_loss\": 13.209037780761719, \"total_epochs_trained\": 10, \"total_experiment_time_secs\": 57.06577706336975, \"confusion\": {\"Metehan_1\": {\"9\": {\"9\": 11, \"13\": 1}, \"5\": {\"5\": 11, \"18\": 1}, \"15\": {\"15\": 12}, \"13\": {\"13\": 12}, \"11\": {\"17\": 6, \"11\": 6}, \"7\": {\"0\": 3, \"7\": 8, \"10\": 1}, \"2\": {\"2\": 12}, \"6\": {\"14\": 5, \"6\": 6, \"4\": 1}, \"16\": {\"16\": 12}, \"14\": {\"14\": 12}, \"18\": {\"18\": 12}, \"1\": {\"1\": 12}, \"10\": {\"10\": 12}, \"12\": {\"8\": 1, \"12\": 11}, \"3\": {\"3\": 12}, \"8\": {\"8\": 12}, \"0\": {\"0\": 6, \"7\": 6}, \"4\": {\"4\": 8, \"6\": 3, \"14\": 1}, \"17\": {\"11\": 6, \"17\": 6}}, \"Metehan_0\": {\"6\": {\"4\": 7, \"6\": 5}, \"18\": {\"18\": 12}, \"2\": {\"2\": 10, \"0\": 2}, \"17\": {\"17\": 11, \"11\": 1}, \"1\": {\"1\": 12}, \"4\": {\"4\": 10, \"6\": 2}, \"8\": {\"8\": 12}, \"9\": {\"9\": 12}, \"7\": {\"7\": 11, \"0\": 1}, \"15\": {\"15\": 12}, \"12\": {\"12\": 12}, \"11\": {\"11\": 8, \"17\": 4}, \"13\": {\"13\": 12}, \"0\": {\"0\": 11, \"7\": 1}, \"10\": {\"10\": 11, \"7\": 1}, \"14\": {\"6\": 3, \"14\": 9}, \"3\": {\"3\": 12}, \"5\": {\"5\": 11, \"1\": 1}, \"16\": {\"16\": 12}}, \"Metehan_2\": {\"1\": {\"1\": 12}, \"0\": {\"0\": 7, \"7\": 4, \"2\": 1}, \"13\": {\"13\": 12}, \"11\": {\"11\": 8, \"17\": 4}, \"5\": {\"5\": 11, \"18\": 1}, \"15\": {\"15\": 12}, \"14\": {\"14\": 9, \"6\": 3}, \"8\": {\"8\": 12}, \"6\": {\"14\": 5, \"4\": 4, \"6\": 3}, \"3\": {\"3\": 12}, \"10\": {\"10\": 12}, \"7\": {\"7\": 7, \"0\": 4, \"10\": 1}, \"17\": {\"17\": 11, \"11\": 1}, \"4\": {\"4\": 8, \"6\": 2, \"9\": 1, \"14\": 1}, \"2\": {\"2\": 12}, \"9\": {\"9\": 12}, \"12\": {\"12\": 12}, \"18\": {\"18\": 10, \"10\": 1, \"5\": 1}, \"16\": {\"16\": 12}}, \"CORES_3\": {\"17\": {\"17\": 7, \"18\": 1, \"12\": 1, \"48\": 1, \"30\": 1, \"23\": 1}, \"18\": {\"5\": 1, \"18\": 3, \"12\": 2, \"16\": 1, \"0\": 2, \"52\": 1, \"33\": 1, \"34\": 1}, \"27\": {\"8\": 1, \"27\": 7, \"19\": 2, \"25\": 1, \"12\": 1}, \"22\": {\"7\": 2, \"24\": 3, \"13\": 1, \"22\": 3, \"31\": 1, \"15\": 1, \"48\": 1}, \"10\": {\"22\": 2, \"11\": 2, \"43\": 1, \"10\": 1, \"56\": 2, \"49\": 3, \"15\": 1}, \"7\": {\"10\": 3, \"22\": 1, \"11\": 1, \"7\": 3, \"49\": 2, \"56\": 1, \"15\": 1}, \"13\": {\"43\": 1, \"13\": 5, \"11\": 1, \"46\": 1, \"15\": 2, \"47\": 1, \"39\": 1}, \"5\": {\"5\": 3, \"23\": 3, \"34\": 2, \"30\": 1, \"50\": 1, \"21\": 1, \"12\": 1}, \"43\": {\"43\": 5, \"13\": 1, \"10\": 3, \"11\": 1, \"42\": 1, \"34\": 1}, \"32\": {\"32\": 5, \"40\": 1, \"27\": 1, \"4\": 1, \"25\": 1, \"35\": 1}, \"15\": {\"15\": 2, \"22\": 1, \"11\": 1, \"13\": 1, \"48\": 3, \"47\": 1, \"42\": 1, \"43\": 1, \"14\": 1}, \"52\": {\"23\": 1, \"43\": 1, \"21\": 1, \"1\": 1, \"26\": 1, \"39\": 3, \"0\": 1, \"15\": 2, \"33\": 1}, \"29\": {\"3\": 1, \"29\": 4, \"19\": 2, \"6\": 1, \"27\": 1, \"50\": 1, \"17\": 2}, \"3\": {\"8\": 1, \"3\": 5, \"50\": 1, \"52\": 1, \"14\": 1, \"37\": 1, \"30\": 1, \"36\": 1}, \"8\": {\"8\": 6, \"40\": 1, \"36\": 2, \"25\": 1, \"9\": 1, \"27\": 1}, \"23\": {\"23\": 2, \"5\": 2, \"39\": 2, \"1\": 1, \"20\": 2, \"33\": 1}, \"41\": {\"15\": 3, \"49\": 1, \"34\": 1, \"1\": 1, \"33\": 1, \"41\": 3, \"42\": 1, \"43\": 1}, \"35\": {\"35\": 10, \"36\": 1, \"40\": 1}, \"40\": {\"32\": 2, \"35\": 1, \"36\": 1, \"44\": 1, \"40\": 6, \"45\": 1}, \"51\": {\"25\": 2, \"51\": 6}, \"42\": {\"14\": 1, \"42\": 6, \"41\": 2, \"23\": 1, \"11\": 1, \"43\": 1}, \"14\": {\"19\": 2, \"24\": 1, \"25\": 1, \"22\": 1, \"54\": 1, \"41\": 1, \"50\": 1, \"11\": 2, \"35\": 1, \"15\": 1}, \"25\": {\"51\": 3, \"19\": 1, \"36\": 2, \"25\": 5, \"27\": 1}, \"19\": {\"19\": 4, \"4\": 1, \"27\": 3}, \"11\": {\"13\": 2, \"10\": 1, \"48\": 1, \"11\": 3, \"42\": 1, \"43\": 2, \"47\": 2}, \"16\": {\"42\": 1, \"46\": 3, \"16\": 3, \"11\": 1, \"47\": 1, \"0\": 1, \"23\": 1, \"31\": 1}, \"24\": {\"13\": 1, \"42\": 2, \"24\": 3, \"11\": 3, \"10\": 1}, \"57\": {\"18\": 2, \"46\": 1, \"57\": 3, \"48\": 1, \"27\": 1, \"39\": 1, \"12\": 1}, \"12\": {\"19\": 1, \"12\": 9, \"17\": 1, \"38\": 1}, \"46\": {\"11\": 1, \"46\": 5, \"20\": 2, \"33\": 1, \"16\": 1, \"17\": 1, \"12\": 1}, \"28\": {\"28\": 6, \"12\": 1, \"14\": 1, \"57\": 1, \"18\": 1, \"5\": 1, \"35\": 1}, \"47\": {\"18\": 1, \"48\": 3, \"49\": 1, \"31\": 1, \"1\": 1, \"52\": 1, \"11\": 1, \"6\": 1, \"47\": 2}, \"9\": {\"27\": 1, \"28\": 2, \"25\": 1, \"9\": 6, \"8\": 1, \"57\": 1}, \"44\": {\"44\": 10, \"40\": 2}, \"45\": {\"27\": 1, \"44\": 2, \"8\": 2, \"4\": 1, \"45\": 6}, \"4\": {\"4\": 8, \"45\": 1, \"36\": 1}, \"50\": {\"28\": 2, \"9\": 1, \"12\": 1, \"2\": 1, \"50\": 3, \"23\": 1, \"52\": 1, \"53\": 2}, \"48\": {\"12\": 1, \"47\": 1, \"48\": 5, \"49\": 1, \"34\": 2, \"11\": 1, \"50\": 1}, \"0\": {\"0\": 4, \"47\": 1, \"1\": 3, \"16\": 1, \"41\": 1, \"52\": 1, \"49\": 1}, \"6\": {\"27\": 1, \"55\": 1, \"6\": 4, \"25\": 2, \"1\": 1, \"26\": 1, \"17\": 1, \"18\": 1}, \"55\": {\"55\": 8, \"52\": 1, \"1\": 1}, \"49\": {\"49\": 7, \"43\": 1, \"0\": 1, \"13\": 1, \"7\": 1, \"15\": 1}, \"36\": {\"36\": 11, \"25\": 1}, \"34\": {\"34\": 3, \"41\": 1, \"42\": 2, \"0\": 2, \"47\": 1, \"1\": 1, \"52\": 1, \"39\": 1}, \"37\": {\"27\": 1, \"37\": 5, \"25\": 1, \"36\": 1}, \"56\": {\"56\": 6, \"49\": 1, \"7\": 1, \"47\": 1, \"10\": 1}, \"53\": {\"37\": 1, \"27\": 1, \"50\": 2, \"53\": 4, \"20\": 1, \"38\": 1, \"51\": 1, \"12\": 1}, \"20\": {\"21\": 1, \"20\": 4, \"8\": 1, \"14\": 1, \"23\": 2, \"38\": 1, \"18\": 1, \"39\": 1}, \"21\": {\"21\": 5, \"50\": 2, \"20\": 2, \"53\": 1}, \"2\": {\"2\": 5, \"50\": 1, \"6\": 1, \"53\": 1, \"25\": 1, \"3\": 1}, \"1\": {\"42\": 1, \"1\": 3, \"41\": 2, \"15\": 1, \"31\": 1, \"16\": 1, \"56\": 1}, \"31\": {\"31\": 4, \"16\": 1, \"34\": 2, \"1\": 2, \"57\": 1}, \"30\": {\"30\": 2, \"48\": 1, \"33\": 2, \"17\": 1, \"38\": 1, \"46\": 1}, \"33\": {\"33\": 7, \"38\": 2, \"18\": 1}, \"38\": {\"38\": 4, \"33\": 1, \"6\": 1, \"52\": 1, \"30\": 1, \"19\": 2, \"46\": 1, \"31\": 1}, \"39\": {\"34\": 1, \"39\": 4, \"52\": 1, \"46\": 1, \"20\": 1, \"18\": 1, \"5\": 1}, \"54\": {\"2\": 3, \"19\": 1, \"51\": 1, \"50\": 1, \"54\": 2}, \"26\": {\"41\": 1, \"23\": 1, \"26\": 2, \"42\": 1, \"13\": 1, \"47\": 1, \"11\": 1}}, \"CORES_4\": {\"14\": {\"38\": 2, \"47\": 1, \"14\": 2, \"6\": 1, \"43\": 1, \"4\": 1, \"44\": 1, \"32\": 1}, \"27\": {\"4\": 1, \"51\": 1, \"36\": 1, \"42\": 2, \"44\": 1, \"50\": 1, \"27\": 4, \"33\": 1}, \"51\": {\"51\": 9, \"21\": 2, \"8\": 1}, \"9\": {\"9\": 7, \"4\": 2, \"51\": 1, \"17\": 1, \"44\": 1}, \"19\": {\"27\": 2, \"19\": 3, \"30\": 1, \"17\": 2, \"42\": 2, \"37\": 2}, \"34\": {\"34\": 6, \"52\": 1, \"18\": 1, \"23\": 2, \"20\": 1, \"57\": 1}, \"2\": {\"49\": 1, \"15\": 1, \"13\": 2, \"2\": 3, \"24\": 1, \"10\": 1, \"47\": 1, \"38\": 2}, \"1\": {\"1\": 5, \"31\": 1, \"5\": 1, \"7\": 3, \"43\": 1, \"56\": 1}, \"54\": {\"14\": 1, \"54\": 2, \"6\": 1, \"29\": 1, \"41\": 1, \"20\": 2, \"28\": 1, \"53\": 1}, \"47\": {\"38\": 1, \"1\": 1, \"47\": 2, \"11\": 1, \"22\": 1, \"23\": 1, \"46\": 1, \"5\": 1, \"15\": 1, \"24\": 1, \"7\": 1}, \"49\": {\"38\": 2, \"49\": 2, \"47\": 1, \"48\": 1}, \"38\": {\"15\": 1, \"47\": 2, \"2\": 2, \"43\": 2, \"38\": 1}, \"33\": {\"33\": 5, \"9\": 1, \"40\": 2, \"44\": 1, \"27\": 1}, \"31\": {\"31\": 6, \"16\": 1, \"23\": 2, \"18\": 1, \"52\": 1, \"39\": 1}, \"37\": {\"37\": 8, \"51\": 1, \"53\": 2, \"36\": 1}, \"4\": {\"9\": 6, \"17\": 4, \"19\": 1, \"4\": 1}, \"57\": {\"57\": 7, \"29\": 1, \"5\": 1, \"14\": 1}, \"15\": {\"20\": 1, \"15\": 3, \"7\": 1, \"0\": 1, \"11\": 1, \"47\": 1, \"43\": 1, \"16\": 1, \"46\": 2}, \"20\": {\"20\": 3, \"51\": 1, \"30\": 1, \"18\": 1, \"29\": 2, \"11\": 1, \"15\": 1, \"6\": 1, \"41\": 1}, \"30\": {\"17\": 1, \"30\": 6, \"20\": 1, \"26\": 2, \"29\": 1, \"28\": 1}, \"3\": {\"48\": 1, \"23\": 1, \"3\": 2, \"5\": 1, \"18\": 1, \"36\": 2, \"14\": 1, \"4\": 1, \"6\": 2}, \"17\": {\"17\": 5, \"40\": 1, \"12\": 1, \"35\": 1, \"19\": 1, \"42\": 1, \"8\": 1, \"4\": 1}, \"39\": {\"41\": 4, \"30\": 2, \"36\": 1, \"39\": 3, \"28\": 1, \"6\": 1}, \"41\": {\"39\": 3, \"30\": 1, \"41\": 3, \"3\": 2, \"29\": 1, \"36\": 1, \"20\": 1}, \"24\": {\"0\": 1, \"24\": 4, \"13\": 1, \"2\": 1, \"15\": 2, \"22\": 1}, \"40\": {\"4\": 1, \"40\": 3, \"35\": 2, \"42\": 1, \"19\": 2, \"33\": 1}, \"23\": {\"41\": 1, \"47\": 2, \"31\": 2, \"20\": 1, \"34\": 2, \"49\": 1, \"16\": 1, \"13\": 1, \"6\": 1}, \"13\": {\"0\": 3, \"24\": 1, \"13\": 3, \"10\": 1, \"11\": 1, \"2\": 1}, \"0\": {\"11\": 2, \"0\": 2, \"7\": 1, \"10\": 2, \"56\": 3, \"52\": 1, \"47\": 1}, \"11\": {\"2\": 1, \"11\": 3, \"15\": 3, \"1\": 1, \"24\": 1, \"56\": 1, \"16\": 2}, \"48\": {\"39\": 2, \"48\": 1, \"49\": 1, \"23\": 1, \"6\": 1, \"28\": 1, \"46\": 1, \"5\": 1, \"8\": 1}, \"5\": {\"3\": 1, \"55\": 1, \"7\": 1, \"23\": 1, \"57\": 1, \"1\": 1, \"41\": 2, \"39\": 1, \"36\": 1, \"31\": 1, \"28\": 1}, \"12\": {\"17\": 1, \"12\": 8, \"50\": 1, \"51\": 1, \"25\": 1}, \"52\": {\"46\": 3, \"52\": 3, \"18\": 1, \"32\": 1, \"1\": 1, \"23\": 1, \"47\": 1, \"7\": 1}, \"16\": {\"16\": 3, \"15\": 4, \"46\": 1, \"5\": 1, \"31\": 2, \"7\": 1}, \"25\": {\"4\": 1, \"25\": 4, \"33\": 1, \"37\": 1, \"42\": 1, \"21\": 2, \"35\": 1, \"50\": 1}, \"28\": {\"28\": 7, \"5\": 1, \"18\": 1, \"31\": 1, \"23\": 1, \"34\": 1}, \"18\": {\"28\": 2, \"18\": 2, \"20\": 1, \"6\": 2, \"1\": 1, \"52\": 2, \"30\": 1, \"16\": 1}, \"32\": {\"32\": 3, \"47\": 1, \"52\": 1, \"7\": 1, \"46\": 1, \"56\": 1, \"2\": 2}, \"50\": {\"50\": 3, \"25\": 2, \"8\": 1, \"14\": 1, \"29\": 1, \"37\": 1, \"27\": 1, \"36\": 1, \"54\": 1}, \"46\": {\"31\": 1, \"52\": 3, \"15\": 2, \"46\": 4, \"41\": 1, \"18\": 1}, \"55\": {\"55\": 4, \"28\": 1, \"5\": 2, \"3\": 1}, \"56\": {\"56\": 5, \"52\": 2, \"24\": 2, \"34\": 1, \"15\": 1, \"7\": 1}, \"43\": {\"52\": 2, \"16\": 1, \"32\": 1, \"43\": 4, \"1\": 1, \"46\": 1, \"11\": 1, \"0\": 1}, \"36\": {\"21\": 1, \"53\": 2, \"36\": 3, \"6\": 1, \"8\": 1, \"42\": 1, \"20\": 1}, \"29\": {\"29\": 6, \"20\": 1, \"50\": 1, \"57\": 1, \"42\": 1, \"36\": 1, \"6\": 1}, \"22\": {\"31\": 1, \"22\": 9, \"24\": 2}, \"21\": {\"21\": 9, \"51\": 2, \"17\": 1}, \"53\": {\"21\": 1, \"51\": 1, \"53\": 3, \"26\": 1, \"8\": 2, \"12\": 1, \"28\": 1}, \"7\": {\"0\": 1, \"16\": 2, \"7\": 2, \"57\": 1, \"32\": 1, \"56\": 3, \"43\": 1, \"39\": 1}, \"10\": {\"49\": 1, \"13\": 1, \"32\": 1, \"52\": 1, \"1\": 1, \"2\": 2, \"10\": 1}, \"35\": {\"17\": 1, \"35\": 6, \"53\": 1, \"40\": 2, \"25\": 1, \"4\": 1}, \"6\": {\"54\": 2, \"6\": 1, \"28\": 1, \"48\": 1, \"57\": 1, \"14\": 2, \"34\": 1, \"20\": 1, \"31\": 1, \"29\": 1}, \"26\": {\"26\": 3, \"29\": 2, \"42\": 1, \"30\": 2}, \"45\": {\"45\": 10}, \"8\": {\"8\": 6, \"21\": 1, \"42\": 2, \"27\": 1, \"12\": 1, \"30\": 1}, \"44\": {\"44\": 5, \"4\": 2, \"9\": 1, \"25\": 1, \"36\": 1}, \"42\": {\"30\": 1, \"42\": 2, \"8\": 2, \"21\": 1, \"17\": 1, \"19\": 1, \"27\": 1, \"36\": 1}}, \"CORES_5\": {\"17\": {\"17\": 4, \"26\": 1, \"27\": 2, \"8\": 1, \"39\": 1, \"42\": 1, \"51\": 1, \"38\": 1}, \"3\": {\"3\": 4, \"46\": 2, \"52\": 2, \"31\": 1, \"43\": 2, \"49\": 1}, \"44\": {\"19\": 2, \"44\": 4, \"35\": 1, \"34\": 1, \"16\": 1, \"14\": 1}, \"1\": {\"1\": 5, \"29\": 2, \"39\": 1, \"20\": 2, \"19\": 1, \"48\": 1}, \"41\": {\"17\": 2, \"41\": 4, \"30\": 2, \"39\": 1, \"27\": 1, \"37\": 1, \"32\": 1}, \"5\": {\"28\": 1, \"41\": 1, \"27\": 3, \"5\": 2, \"25\": 1, \"39\": 1, \"9\": 1, \"40\": 1, \"45\": 1}, \"2\": {\"3\": 1, \"2\": 4, \"10\": 3, \"43\": 1, \"24\": 1}, \"46\": {\"3\": 2, \"46\": 3, \"10\": 2, \"16\": 2, \"47\": 1}, \"35\": {\"35\": 3, \"54\": 1, \"39\": 1, \"29\": 1, \"31\": 1, \"36\": 1}, \"26\": {\"26\": 8, \"40\": 2, \"6\": 1, \"50\": 1}, \"54\": {\"1\": 1, \"54\": 6, \"14\": 1, \"18\": 1, \"36\": 1, \"23\": 1, \"39\": 1}, \"36\": {\"54\": 2, \"5\": 1, \"36\": 4, \"41\": 1, \"20\": 1, \"18\": 1, \"48\": 1, \"40\": 1}, \"49\": {\"46\": 2, \"43\": 1, \"22\": 1, \"49\": 4, \"10\": 2, \"11\": 1, \"3\": 1}, \"19\": {\"17\": 2, \"19\": 5, \"6\": 1, \"27\": 1, \"39\": 1}, \"43\": {\"16\": 1, \"49\": 1, \"46\": 2, \"22\": 1, \"43\": 4, \"23\": 1, \"35\": 2}, \"28\": {\"5\": 1, \"28\": 5, \"8\": 1, \"36\": 1}, \"39\": {\"54\": 2, \"36\": 1, \"39\": 9}, \"16\": {\"46\": 3, \"16\": 6, \"47\": 1, \"14\": 2}, \"38\": {\"38\": 5, \"53\": 2, \"14\": 1, \"20\": 1, \"6\": 1, \"41\": 2}, \"47\": {\"47\": 5, \"29\": 1, \"49\": 1, \"1\": 1, \"2\": 1, \"43\": 1}, \"29\": {\"47\": 2, \"34\": 1, \"36\": 1, \"29\": 1, \"20\": 1, \"14\": 1, \"22\": 1, \"46\": 1, \"18\": 1}, \"56\": {\"52\": 2, \"56\": 2}, \"20\": {\"20\": 3, \"29\": 1, \"1\": 2, \"51\": 1, \"53\": 1, \"6\": 1, \"42\": 1, \"18\": 1, \"37\": 1}, \"22\": {\"52\": 1, \"35\": 1, \"29\": 1, \"24\": 1, \"22\": 2, \"3\": 1, \"0\": 2, \"16\": 1}, \"14\": {\"52\": 1, \"14\": 2, \"16\": 2, \"46\": 1, \"41\": 2, \"42\": 1, \"2\": 1, \"32\": 1, \"11\": 1}, \"6\": {\"6\": 4, \"39\": 1, \"34\": 1, \"53\": 1, \"55\": 1, \"33\": 1, \"7\": 1, \"38\": 1, \"17\": 1}, \"52\": {\"52\": 9, \"0\": 1, \"22\": 1, \"3\": 1}, \"18\": {\"18\": 5, \"6\": 1, \"30\": 1, \"38\": 1, \"57\": 1, \"1\": 1}, \"27\": {\"27\": 8, \"17\": 2, \"42\": 1, \"9\": 1}, \"48\": {\"48\": 5, \"29\": 1, \"32\": 1, \"1\": 1, \"26\": 1, \"17\": 1, \"43\": 1, \"18\": 1}, \"34\": {\"22\": 1, \"34\": 10, \"57\": 1}, \"51\": {\"26\": 2, \"42\": 2, \"8\": 1, \"51\": 2, \"39\": 1, \"5\": 1, \"50\": 2, \"38\": 1}, \"24\": {\"24\": 6, \"22\": 1, \"2\": 1, \"52\": 1, \"3\": 1}, \"33\": {\"33\": 10, \"45\": 1, \"40\": 1}, \"45\": {\"45\": 6, \"38\": 3, \"6\": 1, \"30\": 1, \"40\": 1}, \"32\": {\"32\": 6, \"44\": 1, \"14\": 1, \"41\": 1, \"8\": 1}, \"25\": {\"25\": 4, \"45\": 3, \"38\": 1}, \"31\": {\"31\": 4, \"22\": 1, \"52\": 1}, \"15\": {\"15\": 6, \"11\": 2, \"10\": 1, \"0\": 1}, \"55\": {\"55\": 10}, \"53\": {\"48\": 1, \"53\": 4, \"1\": 1, \"30\": 1, \"54\": 1, \"36\": 1, \"23\": 1, \"34\": 1, \"29\": 1}, \"10\": {\"10\": 6, \"46\": 1, \"11\": 1, \"13\": 1, \"15\": 1, \"43\": 1, \"2\": 1}, \"40\": {\"38\": 1, \"55\": 1, \"27\": 1, \"25\": 1, \"30\": 1, \"50\": 1, \"40\": 1, \"42\": 1, \"45\": 1, \"41\": 1, \"28\": 1, \"53\": 1}, \"4\": {\"4\": 9, \"25\": 1, \"33\": 1, \"9\": 1}, \"11\": {\"10\": 2, \"13\": 1, \"0\": 1, \"31\": 1, \"52\": 1, \"2\": 3, \"16\": 1, \"11\": 1, \"15\": 1}, \"42\": {\"8\": 2, \"42\": 5, \"27\": 1, \"40\": 1, \"28\": 1}, \"8\": {\"38\": 1, \"8\": 4, \"17\": 3, \"51\": 1, \"27\": 1}, \"23\": {\"53\": 1, \"23\": 6, \"20\": 1, \"1\": 1, \"57\": 1, \"39\": 1, \"43\": 1}, \"50\": {\"25\": 2, \"50\": 2, \"8\": 1, \"17\": 2, \"6\": 1, \"20\": 1, \"37\": 1, \"28\": 1, \"26\": 1}, \"21\": {\"23\": 1, \"20\": 2, \"21\": 6, \"7\": 1}, \"30\": {\"30\": 6, \"27\": 2, \"55\": 1, \"8\": 1, \"41\": 1, \"53\": 1}, \"9\": {\"27\": 2, \"9\": 5, \"28\": 1, \"41\": 1, \"19\": 1}, \"13\": {\"10\": 1, \"13\": 3, \"11\": 1, \"43\": 1}, \"0\": {\"0\": 6, \"15\": 1, \"10\": 1}, \"37\": {\"37\": 5, \"17\": 1, \"25\": 1, \"53\": 1}, \"57\": {\"31\": 1, \"23\": 1, \"57\": 3, \"34\": 1, \"32\": 1, \"18\": 1}, \"7\": {\"7\": 2, \"39\": 1, \"6\": 2, \"30\": 1}, \"12\": {\"12\": 5, \"45\": 1}}, \"CORES_1\": {\"42\": {\"42\": 5, \"47\": 1, \"35\": 1, \"1\": 1, \"12\": 1, \"16\": 1}, \"32\": {\"16\": 4, \"21\": 1, \"32\": 4, \"36\": 1, \"7\": 1, \"12\": 1}, \"56\": {\"56\": 3, \"9\": 1, \"50\": 1, \"1\": 2, \"18\": 1, \"54\": 1, \"30\": 1}, \"39\": {\"39\": 4, \"31\": 1, \"27\": 1, \"24\": 1, \"28\": 1}, \"36\": {\"39\": 2, \"36\": 6, \"11\": 1, \"32\": 2, \"23\": 1}, \"16\": {\"16\": 5, \"47\": 1, \"7\": 1, \"32\": 1}, \"25\": {\"25\": 6, \"9\": 1, \"6\": 1, \"3\": 1, \"51\": 1, \"2\": 1, \"41\": 1}, \"47\": {\"11\": 1, \"47\": 5, \"49\": 1, \"10\": 1, \"23\": 2, \"32\": 1, \"15\": 1}, \"15\": {\"39\": 1, \"11\": 1, \"43\": 1, \"49\": 2, \"15\": 3, \"38\": 1, \"36\": 1, \"52\": 1, \"21\": 1}, \"38\": {\"38\": 6, \"24\": 2, \"20\": 1, \"10\": 1, \"27\": 1, \"15\": 1}, \"50\": {\"9\": 1, \"5\": 1, \"50\": 3, \"6\": 1, \"13\": 1, \"33\": 1, \"8\": 1, \"17\": 1}, \"57\": {\"56\": 2, \"9\": 1, \"1\": 2, \"19\": 1, \"57\": 3, \"44\": 2, \"35\": 1}, \"9\": {\"57\": 1, \"53\": 1, \"9\": 2, \"12\": 1, \"45\": 3, \"14\": 1, \"35\": 1}, \"31\": {\"38\": 2, \"52\": 1, \"22\": 1, \"31\": 2, \"15\": 2}, \"11\": {\"39\": 2, \"24\": 1, \"49\": 1, \"11\": 3, \"27\": 1, \"10\": 1, \"43\": 2, \"21\": 1}, \"46\": {\"46\": 6, \"4\": 2, \"50\": 1, \"29\": 1}, \"53\": {\"50\": 2, \"53\": 5, \"33\": 3, \"3\": 1, \"51\": 1}, \"24\": {\"24\": 4, \"31\": 1, \"39\": 1, \"28\": 1, \"43\": 2, \"11\": 2, \"23\": 1}, \"5\": {\"5\": 3, \"47\": 1, \"8\": 1, \"37\": 1, \"51\": 1, \"41\": 2, \"12\": 1}, \"34\": {\"34\": 4, \"33\": 2, \"3\": 1, \"8\": 1}, \"27\": {\"27\": 2, \"49\": 3, \"10\": 1, \"0\": 2, \"28\": 2}, \"14\": {\"6\": 1, \"14\": 1, \"8\": 1, \"1\": 1, \"44\": 2, \"51\": 2, \"56\": 1, \"3\": 1, \"45\": 2}, \"8\": {\"25\": 2, \"8\": 5, \"19\": 1, \"53\": 1, \"56\": 1, \"34\": 1, \"41\": 1}, \"18\": {\"45\": 2, \"18\": 6, \"51\": 2, \"1\": 1, \"17\": 1}, \"45\": {\"18\": 1, \"5\": 2, \"34\": 1, \"1\": 1, \"45\": 4, \"44\": 1, \"42\": 1, \"9\": 1}, \"6\": {\"14\": 1, \"8\": 1, \"53\": 1, \"6\": 3, \"2\": 2, \"48\": 1, \"33\": 1}, \"55\": {\"5\": 1, \"55\": 7, \"23\": 1, \"12\": 1}, \"49\": {\"21\": 2, \"24\": 1, \"43\": 1, \"49\": 4, \"22\": 1, \"15\": 1, \"39\": 2}, \"21\": {\"24\": 1, \"47\": 1, \"38\": 1, \"10\": 1, \"21\": 1, \"49\": 1, \"0\": 2}, \"10\": {\"10\": 6, \"38\": 1, \"16\": 1, \"36\": 1, \"23\": 1, \"43\": 1, \"11\": 1}, \"48\": {\"25\": 1, \"1\": 1, \"48\": 3, \"5\": 2, \"12\": 2, \"8\": 2, \"29\": 1}, \"35\": {\"56\": 1, \"35\": 8, \"19\": 1, \"57\": 1, \"1\": 1}, \"3\": {\"3\": 5, \"45\": 1, \"8\": 1, \"13\": 1, \"33\": 1, \"53\": 1, \"51\": 2}, \"33\": {\"3\": 2, \"37\": 1, \"33\": 6, \"48\": 2, \"30\": 1}, \"41\": {\"48\": 1, \"41\": 10, \"14\": 1}, \"40\": {\"40\": 11, \"41\": 1}, \"1\": {\"57\": 2, \"56\": 1, \"35\": 3, \"19\": 1, \"42\": 1, \"18\": 1, \"1\": 3}, \"43\": {\"43\": 6, \"24\": 1, \"39\": 1, \"31\": 1, \"52\": 1, \"28\": 1, \"11\": 1}, \"28\": {\"43\": 1, \"28\": 6, \"24\": 1, \"11\": 1, \"27\": 1, \"10\": 2}, \"44\": {\"7\": 1, \"9\": 1, \"45\": 1, \"44\": 3, \"56\": 1, \"18\": 1, \"33\": 1, \"57\": 1}, \"37\": {\"37\": 2, \"18\": 1, \"8\": 1, \"17\": 1, \"3\": 1, \"33\": 3, \"46\": 1, \"19\": 1, \"30\": 1}, \"51\": {\"51\": 7, \"18\": 1, \"12\": 2, \"14\": 1, \"5\": 1}, \"0\": {\"24\": 2, \"0\": 5, \"23\": 1, \"49\": 1, \"11\": 1}, \"7\": {\"0\": 2, \"7\": 3, \"12\": 1, \"35\": 1, \"36\": 1, \"32\": 1, \"11\": 1}, \"13\": {\"13\": 5, \"33\": 2, \"3\": 2, \"46\": 2, \"53\": 1}, \"23\": {\"23\": 4, \"0\": 1, \"22\": 1, \"36\": 1, \"21\": 2, \"49\": 1}, \"12\": {\"18\": 1, \"12\": 4, \"7\": 1, \"20\": 2, \"5\": 1, \"54\": 1}, \"54\": {\"54\": 5, \"37\": 1, \"45\": 1, \"7\": 1, \"32\": 1, \"12\": 1, \"20\": 2}, \"22\": {\"28\": 3, \"49\": 1, \"0\": 1, \"52\": 1}, \"19\": {\"1\": 2, \"19\": 2, \"45\": 3, \"17\": 1}, \"29\": {\"34\": 2, \"8\": 2, \"51\": 1, \"29\": 2, \"33\": 2, \"17\": 1}, \"20\": {\"20\": 4, \"55\": 1, \"37\": 1, \"12\": 1, \"45\": 1, \"53\": 1, \"30\": 1}, \"52\": {\"52\": 4, \"49\": 1, \"10\": 1, \"31\": 3, \"0\": 1}, \"17\": {\"42\": 1, \"3\": 1, \"17\": 2, \"48\": 1, \"5\": 1, \"37\": 1, \"2\": 1}, \"4\": {\"4\": 9, \"40\": 1}, \"30\": {\"44\": 1, \"19\": 2, \"30\": 3}, \"26\": {\"26\": 4, \"6\": 1, \"13\": 1}, \"2\": {\"14\": 1, \"6\": 3, \"2\": 2}}, \"CORES_2\": {\"6\": {\"12\": 1, \"6\": 1, \"0\": 1, \"41\": 1, \"5\": 2, \"34\": 1, \"16\": 1}, \"35\": {\"35\": 7, \"44\": 1, \"4\": 1, \"40\": 1}, \"38\": {\"38\": 4, \"15\": 2, \"48\": 1, \"22\": 1, \"56\": 1, \"24\": 1}, \"44\": {\"44\": 9, \"9\": 1}, \"33\": {\"33\": 9, \"9\": 1, \"32\": 1, \"36\": 1}, \"37\": {\"3\": 3, \"26\": 1, \"37\": 6, \"53\": 1, \"20\": 1}, \"1\": {\"23\": 1, \"1\": 6, \"42\": 3, \"47\": 2}, \"50\": {\"30\": 1, \"3\": 2, \"39\": 1, \"26\": 1, \"50\": 3, \"17\": 1, \"12\": 1, \"29\": 1, \"25\": 1}, \"12\": {\"12\": 11, \"21\": 1}, \"11\": {\"38\": 1, \"11\": 4, \"10\": 1, \"0\": 2}, \"51\": {\"50\": 1, \"51\": 7, \"25\": 1, \"26\": 2, \"20\": 1}, \"9\": {\"9\": 7, \"33\": 1, \"3\": 1, \"19\": 2, \"29\": 1}, \"34\": {\"37\": 1, \"34\": 5, \"41\": 5, \"57\": 1}, \"3\": {\"57\": 1, \"55\": 2, \"19\": 1, \"17\": 1, \"14\": 1, \"41\": 1, \"29\": 1, \"3\": 1, \"50\": 1, \"44\": 1, \"49\": 1}, \"23\": {\"30\": 1, \"23\": 4, \"48\": 1, \"52\": 1, \"10\": 1, \"1\": 1, \"47\": 1, \"18\": 1, \"13\": 1}, \"55\": {\"55\": 9, \"5\": 1}, \"57\": {\"50\": 2, \"57\": 4, \"30\": 2, \"23\": 1, \"34\": 1, \"18\": 1, \"29\": 1}, \"7\": {\"7\": 2, \"38\": 1, \"0\": 1, \"15\": 1, \"42\": 4, \"14\": 2, \"11\": 1}, \"30\": {\"30\": 7, \"41\": 1, \"31\": 1, \"48\": 1}, \"2\": {\"17\": 1, \"14\": 1, \"2\": 2, \"54\": 2, \"34\": 2, \"21\": 1, \"26\": 1}, \"27\": {\"19\": 2, \"26\": 1, \"32\": 1, \"27\": 7, \"8\": 1}, \"14\": {\"33\": 3, \"9\": 1, \"38\": 1, \"32\": 1, \"14\": 1, \"56\": 1, \"37\": 1, \"24\": 1, \"0\": 1, \"45\": 1}, \"0\": {\"15\": 2, \"43\": 2, \"13\": 2, \"0\": 3, \"1\": 1, \"42\": 1, \"47\": 1}, \"17\": {\"17\": 4, \"30\": 1, \"21\": 1, \"57\": 1, \"34\": 1, \"53\": 1, \"20\": 1}, \"5\": {\"17\": 1, \"5\": 3, \"31\": 1, \"21\": 1, \"42\": 1, \"1\": 1, \"19\": 1, \"48\": 2, \"30\": 1}, \"19\": {\"29\": 2, \"25\": 1, \"2\": 1, \"27\": 2, \"19\": 3, \"33\": 1}, \"41\": {\"41\": 6, \"17\": 2, \"5\": 1, \"34\": 2, \"23\": 1}, \"15\": {\"30\": 1, \"15\": 2, \"43\": 2, \"42\": 2, \"48\": 1, \"52\": 1, \"24\": 1}, \"4\": {\"9\": 3, \"45\": 2, \"32\": 1, \"36\": 1, \"4\": 4, \"53\": 1}, \"29\": {\"19\": 1, \"14\": 1, \"54\": 1, \"29\": 5, \"8\": 1, \"49\": 2, \"39\": 1}, \"31\": {\"31\": 4, \"0\": 2, \"47\": 1, \"48\": 1, \"57\": 1, \"1\": 1}, \"48\": {\"47\": 1, \"31\": 1, \"42\": 1, \"1\": 2, \"48\": 4, \"57\": 2, \"52\": 1}, \"21\": {\"21\": 5, \"41\": 1, \"23\": 3, \"18\": 3}, \"20\": {\"20\": 10, \"27\": 1, \"51\": 1}, \"39\": {\"21\": 1, \"39\": 4, \"29\": 2, \"32\": 1, \"37\": 1, \"30\": 1}, \"45\": {\"35\": 2, \"4\": 3, \"12\": 1, \"45\": 2, \"40\": 1, \"29\": 1, \"33\": 2}, \"49\": {\"49\": 8, \"17\": 1, \"53\": 1, \"37\": 1, \"25\": 1}, \"56\": {\"56\": 5, \"13\": 1, \"48\": 1, \"22\": 2, \"42\": 1, \"38\": 2}, \"47\": {\"48\": 1, \"0\": 1, \"47\": 4, \"15\": 1, \"22\": 2, \"24\": 1, \"23\": 1, \"52\": 1}, \"43\": {\"0\": 1, \"43\": 9, \"48\": 1, \"13\": 1}, \"52\": {\"48\": 1, \"52\": 5, \"47\": 1, \"46\": 1, \"15\": 1, \"41\": 1}, \"13\": {\"43\": 1, \"47\": 2, \"13\": 1, \"15\": 1, \"42\": 2, \"52\": 1, \"56\": 2, \"46\": 1, \"0\": 1}, \"32\": {\"27\": 2, \"32\": 3, \"44\": 1, \"51\": 1, \"8\": 1}, \"25\": {\"26\": 1, \"51\": 3, \"53\": 1, \"19\": 1, \"25\": 2}, \"26\": {\"51\": 3, \"26\": 8, \"37\": 1}, \"8\": {\"8\": 8, \"26\": 2, \"53\": 1, \"19\": 1}, \"42\": {\"0\": 2, \"11\": 1, \"42\": 1, \"48\": 1, \"31\": 1, \"1\": 2, \"7\": 2}, \"54\": {\"8\": 1, \"39\": 1, \"53\": 3, \"54\": 3, \"19\": 1, \"20\": 1, \"2\": 2}, \"28\": {\"28\": 2, \"16\": 1, \"10\": 1, \"7\": 2}, \"40\": {\"40\": 6, \"9\": 1, \"45\": 2, \"36\": 1}, \"22\": {\"22\": 3, \"24\": 1, \"56\": 2, \"7\": 1, \"47\": 1, \"38\": 1, \"13\": 1}, \"10\": {\"48\": 1, \"22\": 3, \"56\": 2, \"10\": 2, \"24\": 1, \"7\": 1}, \"53\": {\"20\": 3, \"49\": 1, \"53\": 5, \"54\": 1}, \"24\": {\"24\": 3, \"10\": 2, \"56\": 1}, \"36\": {\"36\": 4}, \"46\": {\"46\": 2, \"21\": 1, \"48\": 2, \"43\": 1}, \"16\": {\"16\": 1, \"46\": 2, \"1\": 2, \"0\": 1}, \"18\": {\"21\": 2, \"18\": 2, \"23\": 1, \"2\": 1}}}, \"per_domain_accuracy\": {\"Metehan_1\": {\"accuracy\": 0.8464912280701754, \"source?\": true}, \"Metehan_0\": {\"accuracy\": 0.8991228070175439, \"source?\": true}, \"Metehan_2\": {\"accuracy\": 0.8508771929824561, \"source?\": true}, \"CORES_3\": {\"accuracy\": 0.413312693498452, \"source?\": false}, \"CORES_4\": {\"accuracy\": 0.3560371517027864, \"source?\": false}, \"CORES_5\": {\"accuracy\": 0.45723684210526316, \"source?\": false}, \"CORES_1\": {\"accuracy\": 0.4095394736842105, \"source?\": false}, \"CORES_2\": {\"accuracy\": 0.4309210526315789, \"source?\": false}}}, \"history\": {\"epoch_indices\": [1, 2, 3, 4, 5, 6, 7, 8, 9, 10], \"train_label_loss\": [0.3587952893049944, 0.5707705705648377, 2.880598770838881, 0.8131812284626658, 0.42373918691679596, 0.31395114964199444, 0.2663946017209027, 0.2451344830471845, 0.25760839968210175, 0.22907789329451228], \"source_val_label_loss\": [0.31748223304748535, 3.8058793544769287, 1.3038936853408813, 0.8214204907417297, 0.41096746921539307, 0.3595079183578491, 0.4016369879245758, 0.40406808257102966, 0.41016116738319397, 0.41505303978919983], \"target_val_label_loss\": [39.36368942260742, 243.08102416992188, 46.607879638671875, 43.30867385864258, 18.649560928344727, 13.209037780761719, 18.50078010559082, 14.340161323547363, 15.625101089477539, 16.63051986694336], \"source_val_acc_label\": [0.8771929824561403, 0.7543859649122807, 0.8391812865497076, 0.7923976608187134, 0.8581871345029239, 0.8654970760233918, 0.8538011695906432, 0.8523391812865497, 0.8596491228070176, 0.8523391812865497], \"target_val_acc_label\": [0.1649550706033376, 0.193196405648267, 0.22849807445442877, 0.3507702182284981, 0.39377406931964054, 0.4127086007702182, 0.3796534017971759, 0.42426187419768935, 0.43741976893453144, 0.4053273427471117]}, \"dataset_metrics\": {\"source\": {\"train\": {\"n_unique_x\": 3990, \"n_unique_y\": 19, \"n_batch/episode\": 126}, \"val\": {\"n_unique_x\": 855, \"n_unique_y\": 19, \"n_batch/episode\": 18}, \"test\": {\"n_unique_x\": 855, \"n_unique_y\": 19, \"n_batch/episode\": 18}}, \"target\": {\"train\": {\"n_unique_x\": 20299, \"n_unique_y\": 58, \"n_batch/episode\": 611}, \"val\": {\"n_unique_x\": 4299, \"n_unique_y\": 58, \"n_batch/episode\": 82}, \"test\": {\"n_unique_x\": 4299, \"n_unique_y\": 58, \"n_batch/episode\": 82}}}}'"
      ]
     },
     "execution_count": 29,
     "metadata": {},
     "output_type": "execute_result"
    }
   ],
   "source": [
    "json.dumps(experiment)"
   ]
  }
 ],
 "metadata": {
  "celltoolbar": "Tags",
  "kernelspec": {
   "display_name": "Python 3 (ipykernel)",
   "language": "python",
   "name": "python3"
  },
  "language_info": {
   "codemirror_mode": {
    "name": "ipython",
    "version": 3
   },
   "file_extension": ".py",
   "mimetype": "text/x-python",
   "name": "python",
   "nbconvert_exporter": "python",
   "pygments_lexer": "ipython3",
   "version": "3.8.10"
  },
  "papermill": {
   "default_parameters": {},
   "duration": 68.536572,
   "end_time": "2022-03-07T01:06:09.581821",
   "environment_variables": {},
   "exception": null,
   "input_path": "/mnt/wd500GB/CSC500/csc500-main/csc500-notebooks/templates/tl_ptn_template.ipynb",
   "output_path": "trial.ipynb",
   "parameters": {
    "parameters": {
     "BEST_MODEL_PATH": "./best_model.pth",
     "NUM_LOGS_PER_EPOCH": 10,
     "criteria_for_best": "target_loss",
     "dataset_seed": 1337,
     "datasets": [
      {
       "domain_prefix": "CORES_",
       "domains": [
        1,
        2,
        3,
        4,
        5
       ],
       "episode_transforms": [],
       "labels": [
        "1-10.",
        "1-11.",
        "1-15.",
        "1-16.",
        "1-17.",
        "1-18.",
        "1-19.",
        "10-4.",
        "10-7.",
        "11-1.",
        "11-14.",
        "11-17.",
        "11-20.",
        "11-7.",
        "13-20.",
        "13-8.",
        "14-10.",
        "14-11.",
        "14-14.",
        "14-7.",
        "15-1.",
        "15-20.",
        "16-1.",
        "16-16.",
        "17-10.",
        "17-11.",
        "17-2.",
        "19-1.",
        "19-16.",
        "19-19.",
        "19-20.",
        "19-3.",
        "2-10.",
        "2-11.",
        "2-17.",
        "2-18.",
        "2-20.",
        "2-3.",
        "2-4.",
        "2-5.",
        "2-6.",
        "2-7.",
        "2-8.",
        "3-13.",
        "3-18.",
        "3-3.",
        "4-1.",
        "4-10.",
        "4-11.",
        "4-19.",
        "5-5.",
        "6-15.",
        "7-10.",
        "7-14.",
        "8-18.",
        "8-20.",
        "8-3.",
        "8-8."
       ],
       "num_examples_per_domain_per_label": 100,
       "pickle_path": "/mnt/wd500GB/CSC500/csc500-main/datasets/cores.stratified_ds.2022A.pkl",
       "source_or_target_dataset": "target",
       "x_transforms": [
        "unit_power"
       ]
      },
      {
       "domain_prefix": "Metehan_",
       "domains": [
        0,
        1,
        2
       ],
       "episode_transforms": [],
       "labels": [
        0,
        1,
        2,
        3,
        4,
        5,
        6,
        7,
        8,
        9,
        10,
        11,
        12,
        13,
        14,
        15,
        16,
        17,
        18
       ],
       "num_examples_per_domain_per_label": 100,
       "pickle_path": "/mnt/wd500GB/CSC500/csc500-main/datasets/metehan.stratified_ds.2022A.pkl",
       "source_or_target_dataset": "source",
       "x_transforms": [
        "unit_power"
       ]
      }
     ],
     "device": "cuda",
     "experiment_name": "tl_1_cores-metehan",
     "lr": 0.001,
     "n_epoch": 50,
     "n_query": 2,
     "n_shot": 3,
     "n_way": 19,
     "patience": 3,
     "seed": 1337,
     "test_k_factor": 2,
     "torch_default_dtype": "torch.float32",
     "train_k_factor": 3,
     "val_k_factor": 2,
     "x_net": [
      {
       "class": "nnReshape",
       "kargs": {
        "shape": [
         -1,
         1,
         2,
         256
        ]
       }
      },
      {
       "class": "Conv2d",
       "kargs": {
        "bias": false,
        "in_channels": 1,
        "kernel_size": [
         1,
         7
        ],
        "out_channels": 256,
        "padding": [
         0,
         3
        ]
       }
      },
      {
       "class": "ReLU",
       "kargs": {
        "inplace": true
       }
      },
      {
       "class": "BatchNorm2d",
       "kargs": {
        "num_features": 256
       }
      },
      {
       "class": "Conv2d",
       "kargs": {
        "bias": true,
        "in_channels": 256,
        "kernel_size": [
         2,
         7
        ],
        "out_channels": 80,
        "padding": [
         0,
         3
        ]
       }
      },
      {
       "class": "ReLU",
       "kargs": {
        "inplace": true
       }
      },
      {
       "class": "BatchNorm2d",
       "kargs": {
        "num_features": 80
       }
      },
      {
       "class": "Flatten",
       "kargs": {}
      },
      {
       "class": "Linear",
       "kargs": {
        "in_features": 20480,
        "out_features": 256
       }
      },
      {
       "class": "ReLU",
       "kargs": {
        "inplace": true
       }
      },
      {
       "class": "BatchNorm1d",
       "kargs": {
        "num_features": 256
       }
      },
      {
       "class": "Linear",
       "kargs": {
        "in_features": 256,
        "out_features": 256
       }
      }
     ]
    }
   },
   "start_time": "2022-03-07T01:05:01.045249",
   "version": "2.3.4"
  }
 },
 "nbformat": 4,
 "nbformat_minor": 5
}