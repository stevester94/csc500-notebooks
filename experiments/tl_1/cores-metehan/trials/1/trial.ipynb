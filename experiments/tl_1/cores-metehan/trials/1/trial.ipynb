{
 "cells": [
  {
   "cell_type": "markdown",
   "id": "9fea5f46",
   "metadata": {
    "papermill": {
     "duration": 0.018719,
     "end_time": "2022-03-07T01:00:36.780205",
     "exception": false,
     "start_time": "2022-03-07T01:00:36.761486",
     "status": "completed"
    },
    "tags": []
   },
   "source": [
    "# Transfer Learning Template"
   ]
  },
  {
   "cell_type": "code",
   "execution_count": 1,
   "id": "0902182a",
   "metadata": {
    "execution": {
     "iopub.execute_input": "2022-03-07T01:00:36.817849Z",
     "iopub.status.busy": "2022-03-07T01:00:36.817227Z",
     "iopub.status.idle": "2022-03-07T01:00:37.657064Z",
     "shell.execute_reply": "2022-03-07T01:00:37.656646Z"
    },
    "papermill": {
     "duration": 0.863351,
     "end_time": "2022-03-07T01:00:37.657158",
     "exception": false,
     "start_time": "2022-03-07T01:00:36.793807",
     "status": "completed"
    },
    "tags": []
   },
   "outputs": [],
   "source": [
    "%load_ext autoreload\n",
    "%autoreload 2\n",
    "%matplotlib inline\n",
    "\n",
    "    \n",
    "import os, json, sys, time, random\n",
    "import numpy as np\n",
    "import torch\n",
    "from torch.optim import Adam\n",
    "from  easydict import EasyDict\n",
    "import matplotlib.pyplot as plt\n",
    "\n",
    "from steves_models.steves_ptn import Steves_Prototypical_Network\n",
    "\n",
    "from steves_utils.lazy_iterable_wrapper import Lazy_Iterable_Wrapper\n",
    "from steves_utils.iterable_aggregator import Iterable_Aggregator\n",
    "from steves_utils.ptn_train_eval_test_jig import  PTN_Train_Eval_Test_Jig\n",
    "from steves_utils.torch_sequential_builder import build_sequential\n",
    "from steves_utils.torch_utils import get_dataset_metrics, ptn_confusion_by_domain_over_dataloader\n",
    "from steves_utils.utils_v2 import (per_domain_accuracy_from_confusion, get_datasets_base_path)\n",
    "from steves_utils.PTN.utils import independent_accuracy_assesment\n",
    "\n",
    "from torch.utils.data import DataLoader\n",
    "\n",
    "from steves_utils.stratified_dataset.episodic_accessor import Episodic_Accessor_Factory\n",
    "\n",
    "from steves_utils.ptn_do_report import (\n",
    "    get_loss_curve,\n",
    "    get_results_table,\n",
    "    get_parameters_table,\n",
    "    get_domain_accuracies,\n",
    ")\n",
    "\n",
    "from steves_utils.transforms import get_chained_transform"
   ]
  },
  {
   "cell_type": "markdown",
   "id": "41c840b4",
   "metadata": {
    "papermill": {
     "duration": 0.012903,
     "end_time": "2022-03-07T01:00:37.685964",
     "exception": false,
     "start_time": "2022-03-07T01:00:37.673061",
     "status": "completed"
    },
    "tags": []
   },
   "source": [
    "# Allowed Parameters\n",
    "These are allowed parameters, not defaults\n",
    "Each of these values need to be present in the injected parameters (the notebook will raise an exception if they are not present)\n",
    "\n",
    "Papermill uses the cell tag \"parameters\" to inject the real parameters below this cell.\n",
    "Enable tags to see what I mean"
   ]
  },
  {
   "cell_type": "code",
   "execution_count": 2,
   "id": "fd44eb83",
   "metadata": {
    "execution": {
     "iopub.execute_input": "2022-03-07T01:00:37.715615Z",
     "iopub.status.busy": "2022-03-07T01:00:37.715330Z",
     "iopub.status.idle": "2022-03-07T01:00:37.726885Z",
     "shell.execute_reply": "2022-03-07T01:00:37.726608Z"
    },
    "papermill": {
     "duration": 0.028151,
     "end_time": "2022-03-07T01:00:37.726949",
     "exception": false,
     "start_time": "2022-03-07T01:00:37.698798",
     "status": "completed"
    },
    "tags": []
   },
   "outputs": [],
   "source": [
    "required_parameters = {\n",
    "    \"experiment_name\",\n",
    "    \"lr\",\n",
    "    \"device\",\n",
    "    \"seed\",\n",
    "    \"dataset_seed\",\n",
    "    \"n_shot\",\n",
    "    \"n_query\",\n",
    "    \"n_way\",\n",
    "    \"train_k_factor\",\n",
    "    \"val_k_factor\",\n",
    "    \"test_k_factor\",\n",
    "    \"n_epoch\",\n",
    "    \"patience\",\n",
    "    \"criteria_for_best\",\n",
    "    \"x_net\",\n",
    "    \"datasets\",\n",
    "    \"torch_default_dtype\",\n",
    "    \"NUM_LOGS_PER_EPOCH\",\n",
    "    \"BEST_MODEL_PATH\",\n",
    "}"
   ]
  },
  {
   "cell_type": "code",
   "execution_count": 3,
   "id": "fa3f0049",
   "metadata": {
    "execution": {
     "iopub.execute_input": "2022-03-07T01:00:37.764898Z",
     "iopub.status.busy": "2022-03-07T01:00:37.764487Z",
     "iopub.status.idle": "2022-03-07T01:00:37.779092Z",
     "shell.execute_reply": "2022-03-07T01:00:37.779512Z"
    },
    "papermill": {
     "duration": 0.036907,
     "end_time": "2022-03-07T01:00:37.779655",
     "exception": false,
     "start_time": "2022-03-07T01:00:37.742748",
     "status": "completed"
    },
    "tags": [
     "parameters"
    ]
   },
   "outputs": [],
   "source": [
    "from steves_utils.CORES.utils import (\n",
    "    ALL_NODES,\n",
    "    ALL_NODES_MINIMUM_1000_EXAMPLES,\n",
    "    ALL_DAYS\n",
    ")\n",
    "\n",
    "from steves_utils.ORACLE.utils_v2 import (\n",
    "    ALL_DISTANCES_FEET_NARROWED,\n",
    "    ALL_RUNS,\n",
    "    ALL_SERIAL_NUMBERS,\n",
    ")\n",
    "\n",
    "standalone_parameters = {}\n",
    "standalone_parameters[\"experiment_name\"] = \"STANDALONE PTN\"\n",
    "standalone_parameters[\"lr\"] = 0.001\n",
    "standalone_parameters[\"device\"] = \"cuda\"\n",
    "\n",
    "standalone_parameters[\"seed\"] = 1337\n",
    "standalone_parameters[\"dataset_seed\"] = 1337\n",
    "\n",
    "standalone_parameters[\"n_way\"] = 8\n",
    "standalone_parameters[\"n_shot\"] = 3\n",
    "standalone_parameters[\"n_query\"]  = 2\n",
    "standalone_parameters[\"train_k_factor\"] = 1\n",
    "standalone_parameters[\"val_k_factor\"] = 2\n",
    "standalone_parameters[\"test_k_factor\"] = 2\n",
    "\n",
    "\n",
    "standalone_parameters[\"n_epoch\"] = 50\n",
    "\n",
    "standalone_parameters[\"patience\"] = 10\n",
    "standalone_parameters[\"criteria_for_best\"] = \"source_loss\"\n",
    "\n",
    "standalone_parameters[\"datasets\"] = [\n",
    "    {\n",
    "        \"labels\": ALL_SERIAL_NUMBERS,\n",
    "        \"domains\": ALL_DISTANCES_FEET_NARROWED,\n",
    "        \"num_examples_per_domain_per_label\": 100,\n",
    "        \"pickle_path\": os.path.join(get_datasets_base_path(), \"oracle.Run1_framed_2000Examples_stratified_ds.2022A.pkl\"),\n",
    "        \"source_or_target_dataset\": \"source\",\n",
    "        \"x_transforms\": [\"unit_mag\", \"minus_two\"],\n",
    "        \"episode_transforms\": [],\n",
    "        \"domain_prefix\": \"ORACLE_\"\n",
    "    },\n",
    "    {\n",
    "        \"labels\": ALL_NODES,\n",
    "        \"domains\": ALL_DAYS,\n",
    "        \"num_examples_per_domain_per_label\": 100,\n",
    "        \"pickle_path\": os.path.join(get_datasets_base_path(), \"cores.stratified_ds.2022A.pkl\"),\n",
    "        \"source_or_target_dataset\": \"target\",\n",
    "        \"x_transforms\": [\"unit_power\", \"times_zero\"],\n",
    "        \"episode_transforms\": [],\n",
    "        \"domain_prefix\": \"CORES_\"\n",
    "    }   \n",
    "]\n",
    "\n",
    "standalone_parameters[\"torch_default_dtype\"] = \"torch.float32\" \n",
    "\n",
    "\n",
    "\n",
    "standalone_parameters[\"x_net\"] =     [\n",
    "    {\"class\": \"nnReshape\", \"kargs\": {\"shape\":[-1, 1, 2, 256]}},\n",
    "    {\"class\": \"Conv2d\", \"kargs\": { \"in_channels\":1, \"out_channels\":256, \"kernel_size\":(1,7), \"bias\":False, \"padding\":(0,3), },},\n",
    "    {\"class\": \"ReLU\", \"kargs\": {\"inplace\": True}},\n",
    "    {\"class\": \"BatchNorm2d\", \"kargs\": {\"num_features\":256}},\n",
    "\n",
    "    {\"class\": \"Conv2d\", \"kargs\": { \"in_channels\":256, \"out_channels\":80, \"kernel_size\":(2,7), \"bias\":True, \"padding\":(0,3), },},\n",
    "    {\"class\": \"ReLU\", \"kargs\": {\"inplace\": True}},\n",
    "    {\"class\": \"BatchNorm2d\", \"kargs\": {\"num_features\":80}},\n",
    "    {\"class\": \"Flatten\", \"kargs\": {}},\n",
    "\n",
    "    {\"class\": \"Linear\", \"kargs\": {\"in_features\": 80*256, \"out_features\": 256}}, # 80 units per IQ pair\n",
    "    {\"class\": \"ReLU\", \"kargs\": {\"inplace\": True}},\n",
    "    {\"class\": \"BatchNorm1d\", \"kargs\": {\"num_features\":256}},\n",
    "\n",
    "    {\"class\": \"Linear\", \"kargs\": {\"in_features\": 256, \"out_features\": 256}},\n",
    "]\n",
    "\n",
    "# Parameters relevant to results\n",
    "# These parameters will basically never need to change\n",
    "standalone_parameters[\"NUM_LOGS_PER_EPOCH\"] = 10\n",
    "standalone_parameters[\"BEST_MODEL_PATH\"] = \"./best_model.pth\"\n",
    "\n",
    "\n",
    "\n",
    "\n"
   ]
  },
  {
   "cell_type": "code",
   "execution_count": 4,
   "id": "8c867a91",
   "metadata": {
    "execution": {
     "iopub.execute_input": "2022-03-07T01:00:37.822485Z",
     "iopub.status.busy": "2022-03-07T01:00:37.820678Z",
     "iopub.status.idle": "2022-03-07T01:00:37.836957Z",
     "shell.execute_reply": "2022-03-07T01:00:37.836476Z"
    },
    "papermill": {
     "duration": 0.036908,
     "end_time": "2022-03-07T01:00:37.837079",
     "exception": false,
     "start_time": "2022-03-07T01:00:37.800171",
     "status": "completed"
    },
    "tags": [
     "injected-parameters"
    ]
   },
   "outputs": [],
   "source": [
    "# Parameters\n",
    "parameters = {\n",
    "    \"experiment_name\": \"tl_1_cores-metehan\",\n",
    "    \"device\": \"cuda\",\n",
    "    \"lr\": 0.001,\n",
    "    \"seed\": 1337,\n",
    "    \"dataset_seed\": 1337,\n",
    "    \"n_shot\": 3,\n",
    "    \"n_query\": 2,\n",
    "    \"train_k_factor\": 3,\n",
    "    \"val_k_factor\": 2,\n",
    "    \"test_k_factor\": 2,\n",
    "    \"torch_default_dtype\": \"torch.float32\",\n",
    "    \"n_epoch\": 50,\n",
    "    \"patience\": 3,\n",
    "    \"criteria_for_best\": \"target_loss\",\n",
    "    \"x_net\": [\n",
    "        {\"class\": \"nnReshape\", \"kargs\": {\"shape\": [-1, 1, 2, 256]}},\n",
    "        {\n",
    "            \"class\": \"Conv2d\",\n",
    "            \"kargs\": {\n",
    "                \"in_channels\": 1,\n",
    "                \"out_channels\": 256,\n",
    "                \"kernel_size\": [1, 7],\n",
    "                \"bias\": False,\n",
    "                \"padding\": [0, 3],\n",
    "            },\n",
    "        },\n",
    "        {\"class\": \"ReLU\", \"kargs\": {\"inplace\": True}},\n",
    "        {\"class\": \"BatchNorm2d\", \"kargs\": {\"num_features\": 256}},\n",
    "        {\n",
    "            \"class\": \"Conv2d\",\n",
    "            \"kargs\": {\n",
    "                \"in_channels\": 256,\n",
    "                \"out_channels\": 80,\n",
    "                \"kernel_size\": [2, 7],\n",
    "                \"bias\": True,\n",
    "                \"padding\": [0, 3],\n",
    "            },\n",
    "        },\n",
    "        {\"class\": \"ReLU\", \"kargs\": {\"inplace\": True}},\n",
    "        {\"class\": \"BatchNorm2d\", \"kargs\": {\"num_features\": 80}},\n",
    "        {\"class\": \"Flatten\", \"kargs\": {}},\n",
    "        {\"class\": \"Linear\", \"kargs\": {\"in_features\": 20480, \"out_features\": 256}},\n",
    "        {\"class\": \"ReLU\", \"kargs\": {\"inplace\": True}},\n",
    "        {\"class\": \"BatchNorm1d\", \"kargs\": {\"num_features\": 256}},\n",
    "        {\"class\": \"Linear\", \"kargs\": {\"in_features\": 256, \"out_features\": 256}},\n",
    "    ],\n",
    "    \"NUM_LOGS_PER_EPOCH\": 10,\n",
    "    \"BEST_MODEL_PATH\": \"./best_model.pth\",\n",
    "    \"n_way\": 19,\n",
    "    \"datasets\": [\n",
    "        {\n",
    "            \"labels\": [\n",
    "                \"1-10.\",\n",
    "                \"1-11.\",\n",
    "                \"1-15.\",\n",
    "                \"1-16.\",\n",
    "                \"1-17.\",\n",
    "                \"1-18.\",\n",
    "                \"1-19.\",\n",
    "                \"10-4.\",\n",
    "                \"10-7.\",\n",
    "                \"11-1.\",\n",
    "                \"11-14.\",\n",
    "                \"11-17.\",\n",
    "                \"11-20.\",\n",
    "                \"11-7.\",\n",
    "                \"13-20.\",\n",
    "                \"13-8.\",\n",
    "                \"14-10.\",\n",
    "                \"14-11.\",\n",
    "                \"14-14.\",\n",
    "                \"14-7.\",\n",
    "                \"15-1.\",\n",
    "                \"15-20.\",\n",
    "                \"16-1.\",\n",
    "                \"16-16.\",\n",
    "                \"17-10.\",\n",
    "                \"17-11.\",\n",
    "                \"17-2.\",\n",
    "                \"19-1.\",\n",
    "                \"19-16.\",\n",
    "                \"19-19.\",\n",
    "                \"19-20.\",\n",
    "                \"19-3.\",\n",
    "                \"2-10.\",\n",
    "                \"2-11.\",\n",
    "                \"2-17.\",\n",
    "                \"2-18.\",\n",
    "                \"2-20.\",\n",
    "                \"2-3.\",\n",
    "                \"2-4.\",\n",
    "                \"2-5.\",\n",
    "                \"2-6.\",\n",
    "                \"2-7.\",\n",
    "                \"2-8.\",\n",
    "                \"3-13.\",\n",
    "                \"3-18.\",\n",
    "                \"3-3.\",\n",
    "                \"4-1.\",\n",
    "                \"4-10.\",\n",
    "                \"4-11.\",\n",
    "                \"4-19.\",\n",
    "                \"5-5.\",\n",
    "                \"6-15.\",\n",
    "                \"7-10.\",\n",
    "                \"7-14.\",\n",
    "                \"8-18.\",\n",
    "                \"8-20.\",\n",
    "                \"8-3.\",\n",
    "                \"8-8.\",\n",
    "            ],\n",
    "            \"domains\": [1, 2, 3, 4, 5],\n",
    "            \"num_examples_per_domain_per_label\": 100,\n",
    "            \"pickle_path\": \"/mnt/wd500GB/CSC500/csc500-main/datasets/cores.stratified_ds.2022A.pkl\",\n",
    "            \"source_or_target_dataset\": \"source\",\n",
    "            \"x_transforms\": [\"unit_mag\"],\n",
    "            \"episode_transforms\": [],\n",
    "            \"domain_prefix\": \"CORES_\",\n",
    "        },\n",
    "        {\n",
    "            \"labels\": [\n",
    "                0,\n",
    "                1,\n",
    "                2,\n",
    "                3,\n",
    "                4,\n",
    "                5,\n",
    "                6,\n",
    "                7,\n",
    "                8,\n",
    "                9,\n",
    "                10,\n",
    "                11,\n",
    "                12,\n",
    "                13,\n",
    "                14,\n",
    "                15,\n",
    "                16,\n",
    "                17,\n",
    "                18,\n",
    "            ],\n",
    "            \"domains\": [0, 1, 2],\n",
    "            \"num_examples_per_domain_per_label\": 100,\n",
    "            \"pickle_path\": \"/mnt/wd500GB/CSC500/csc500-main/datasets/metehan.stratified_ds.2022A.pkl\",\n",
    "            \"source_or_target_dataset\": \"target\",\n",
    "            \"x_transforms\": [\"unit_mag\"],\n",
    "            \"episode_transforms\": [],\n",
    "            \"domain_prefix\": \"Metehan_\",\n",
    "        },\n",
    "    ],\n",
    "}\n"
   ]
  },
  {
   "cell_type": "code",
   "execution_count": 5,
   "id": "8fa1cc33",
   "metadata": {
    "execution": {
     "iopub.execute_input": "2022-03-07T01:00:37.874717Z",
     "iopub.status.busy": "2022-03-07T01:00:37.874439Z",
     "iopub.status.idle": "2022-03-07T01:00:37.886167Z",
     "shell.execute_reply": "2022-03-07T01:00:37.885747Z"
    },
    "papermill": {
     "duration": 0.031645,
     "end_time": "2022-03-07T01:00:37.886274",
     "exception": false,
     "start_time": "2022-03-07T01:00:37.854629",
     "status": "completed"
    },
    "tags": []
   },
   "outputs": [],
   "source": [
    "# Set this to True if you want to run this template directly\n",
    "STANDALONE = False\n",
    "if STANDALONE:\n",
    "    print(\"parameters not injected, running with standalone_parameters\")\n",
    "    parameters = standalone_parameters\n",
    "\n",
    "if not 'parameters' in locals() and not 'parameters' in globals():\n",
    "    raise Exception(\"Parameter injection failed\")\n",
    "\n",
    "#Use an easy dict for all the parameters\n",
    "p = EasyDict(parameters)\n",
    "\n",
    "supplied_keys = set(p.keys())\n",
    "\n",
    "if  supplied_keys != required_parameters:\n",
    "    print(\"Parameters are incorrect\")\n",
    "    if len(supplied_keys - required_parameters)>0: print(\"Shouldn't have:\", str(supplied_keys - required_parameters))\n",
    "    if len(required_parameters - supplied_keys)>0: print(\"Need to have:\", str(required_parameters - supplied_keys))\n",
    "    raise RuntimeError(\"Parameters are incorrect\")\n",
    "\n"
   ]
  },
  {
   "cell_type": "code",
   "execution_count": 6,
   "id": "3a028d58",
   "metadata": {
    "execution": {
     "iopub.execute_input": "2022-03-07T01:00:37.921970Z",
     "iopub.status.busy": "2022-03-07T01:00:37.921708Z",
     "iopub.status.idle": "2022-03-07T01:00:37.933285Z",
     "shell.execute_reply": "2022-03-07T01:00:37.932909Z"
    },
    "papermill": {
     "duration": 0.028027,
     "end_time": "2022-03-07T01:00:37.933369",
     "exception": false,
     "start_time": "2022-03-07T01:00:37.905342",
     "status": "completed"
    },
    "tags": []
   },
   "outputs": [],
   "source": [
    "###################################\n",
    "# Set the RNGs and make it all deterministic\n",
    "###################################\n",
    "np.random.seed(p.seed)\n",
    "random.seed(p.seed)\n",
    "torch.manual_seed(p.seed)\n",
    "\n",
    "torch.use_deterministic_algorithms(True) "
   ]
  },
  {
   "cell_type": "code",
   "execution_count": 7,
   "id": "b691acf6",
   "metadata": {
    "execution": {
     "iopub.execute_input": "2022-03-07T01:00:37.961767Z",
     "iopub.status.busy": "2022-03-07T01:00:37.961502Z",
     "iopub.status.idle": "2022-03-07T01:00:37.977437Z",
     "shell.execute_reply": "2022-03-07T01:00:37.977097Z"
    },
    "papermill": {
     "duration": 0.031494,
     "end_time": "2022-03-07T01:00:37.977522",
     "exception": false,
     "start_time": "2022-03-07T01:00:37.946028",
     "status": "completed"
    },
    "tags": []
   },
   "outputs": [],
   "source": [
    "###########################################\n",
    "# The stratified datasets honor this\n",
    "###########################################\n",
    "torch.set_default_dtype(eval(p.torch_default_dtype))"
   ]
  },
  {
   "cell_type": "code",
   "execution_count": 8,
   "id": "b5fba671",
   "metadata": {
    "execution": {
     "iopub.execute_input": "2022-03-07T01:00:38.011277Z",
     "iopub.status.busy": "2022-03-07T01:00:38.010745Z",
     "iopub.status.idle": "2022-03-07T01:00:38.054106Z",
     "shell.execute_reply": "2022-03-07T01:00:38.054530Z"
    },
    "papermill": {
     "duration": 0.061391,
     "end_time": "2022-03-07T01:00:38.054682",
     "exception": false,
     "start_time": "2022-03-07T01:00:37.993291",
     "status": "completed"
    },
    "tags": []
   },
   "outputs": [],
   "source": [
    "###################################\n",
    "# Build the network(s)\n",
    "# Note: It's critical to do this AFTER setting the RNG\n",
    "###################################\n",
    "x_net = build_sequential(p.x_net)"
   ]
  },
  {
   "cell_type": "code",
   "execution_count": 9,
   "id": "5d7e61cc",
   "metadata": {
    "execution": {
     "iopub.execute_input": "2022-03-07T01:00:38.088959Z",
     "iopub.status.busy": "2022-03-07T01:00:38.088700Z",
     "iopub.status.idle": "2022-03-07T01:00:38.099000Z",
     "shell.execute_reply": "2022-03-07T01:00:38.099310Z"
    },
    "papermill": {
     "duration": 0.026996,
     "end_time": "2022-03-07T01:00:38.099460",
     "exception": false,
     "start_time": "2022-03-07T01:00:38.072464",
     "status": "completed"
    },
    "tags": []
   },
   "outputs": [],
   "source": [
    "start_time_secs = time.time()"
   ]
  },
  {
   "cell_type": "code",
   "execution_count": 10,
   "id": "c6b67dfd",
   "metadata": {
    "execution": {
     "iopub.execute_input": "2022-03-07T01:00:38.136639Z",
     "iopub.status.busy": "2022-03-07T01:00:38.136357Z",
     "iopub.status.idle": "2022-03-07T01:00:38.147370Z",
     "shell.execute_reply": "2022-03-07T01:00:38.147794Z"
    },
    "papermill": {
     "duration": 0.028502,
     "end_time": "2022-03-07T01:00:38.147906",
     "exception": false,
     "start_time": "2022-03-07T01:00:38.119404",
     "status": "completed"
    },
    "tags": []
   },
   "outputs": [],
   "source": [
    "p.domains_source = []\n",
    "p.domains_target = []\n",
    "\n",
    "\n",
    "train_original_source = []\n",
    "val_original_source   = []\n",
    "test_original_source  = []\n",
    "\n",
    "train_original_target = []\n",
    "val_original_target   = []\n",
    "test_original_target  = []"
   ]
  },
  {
   "cell_type": "code",
   "execution_count": 11,
   "id": "e3d9c3d3",
   "metadata": {
    "execution": {
     "iopub.execute_input": "2022-03-07T01:00:38.178437Z",
     "iopub.status.busy": "2022-03-07T01:00:38.178171Z",
     "iopub.status.idle": "2022-03-07T01:00:38.190448Z",
     "shell.execute_reply": "2022-03-07T01:00:38.190658Z"
    },
    "papermill": {
     "duration": 0.027599,
     "end_time": "2022-03-07T01:00:38.190756",
     "exception": false,
     "start_time": "2022-03-07T01:00:38.163157",
     "status": "completed"
    },
    "tags": []
   },
   "outputs": [],
   "source": [
    "# global_x_transform_func = lambda x: normalize(x.to(torch.get_default_dtype()), \"unit_power\") # unit_power, unit_mag\n",
    "# global_x_transform_func = lambda x: normalize(x, \"unit_power\") # unit_power, unit_mag"
   ]
  },
  {
   "cell_type": "code",
   "execution_count": 12,
   "id": "acb78fd2",
   "metadata": {
    "execution": {
     "iopub.execute_input": "2022-03-07T01:00:38.224859Z",
     "iopub.status.busy": "2022-03-07T01:00:38.224587Z",
     "iopub.status.idle": "2022-03-07T01:00:38.238274Z",
     "shell.execute_reply": "2022-03-07T01:00:38.237939Z"
    },
    "papermill": {
     "duration": 0.033634,
     "end_time": "2022-03-07T01:00:38.238368",
     "exception": false,
     "start_time": "2022-03-07T01:00:38.204734",
     "status": "completed"
    },
    "tags": []
   },
   "outputs": [],
   "source": [
    "def add_dataset(\n",
    "    labels,\n",
    "    domains,\n",
    "    pickle_path,\n",
    "    x_transforms,\n",
    "    episode_transforms,\n",
    "    domain_prefix,\n",
    "    num_examples_per_domain_per_label,\n",
    "    source_or_target_dataset:str,\n",
    "    iterator_seed=p.seed,\n",
    "    dataset_seed=p.dataset_seed,\n",
    "    n_shot=p.n_shot,\n",
    "    n_way=p.n_way,\n",
    "    n_query=p.n_query,\n",
    "    train_val_test_k_factors=(p.train_k_factor,p.val_k_factor,p.test_k_factor),\n",
    "):\n",
    "   \n",
    "    if x_transforms == []: x_transform = None\n",
    "    else: x_transform = get_chained_transform(x_transforms)\n",
    "    \n",
    "    if episode_transforms == []: episode_transform = None\n",
    "    else: raise Exception(\"episode_transforms not implemented\")\n",
    "    \n",
    "    episode_transform = lambda tup, _prefix=domain_prefix: (_prefix + str(tup[0]), tup[1])\n",
    "\n",
    "\n",
    "    eaf = Episodic_Accessor_Factory(\n",
    "        labels=labels,\n",
    "        domains=domains,\n",
    "        num_examples_per_domain_per_label=num_examples_per_domain_per_label,\n",
    "        iterator_seed=iterator_seed,\n",
    "        dataset_seed=dataset_seed,\n",
    "        n_shot=n_shot,\n",
    "        n_way=n_way,\n",
    "        n_query=n_query,\n",
    "        train_val_test_k_factors=train_val_test_k_factors,\n",
    "        pickle_path=pickle_path,\n",
    "        x_transform_func=x_transform,\n",
    "    )\n",
    "\n",
    "    train, val, test = eaf.get_train(), eaf.get_val(), eaf.get_test()\n",
    "    train = Lazy_Iterable_Wrapper(train, episode_transform)\n",
    "    val = Lazy_Iterable_Wrapper(val, episode_transform)\n",
    "    test = Lazy_Iterable_Wrapper(test, episode_transform)\n",
    "\n",
    "    if source_or_target_dataset==\"source\":\n",
    "        train_original_source.append(train)\n",
    "        val_original_source.append(val)\n",
    "        test_original_source.append(test)\n",
    "\n",
    "        p.domains_source.extend(\n",
    "            [domain_prefix + str(u) for u in domains]\n",
    "        )\n",
    "    elif source_or_target_dataset==\"target\":\n",
    "        train_original_target.append(train)\n",
    "        val_original_target.append(val)\n",
    "        test_original_target.append(test)\n",
    "        p.domains_target.extend(\n",
    "            [domain_prefix + str(u) for u in domains]\n",
    "        )\n",
    "    else:\n",
    "        raise Exception(f\"invalid source_or_target_dataset: {source_or_target_dataset}\")\n",
    "    "
   ]
  },
  {
   "cell_type": "code",
   "execution_count": 13,
   "id": "fe266617",
   "metadata": {
    "execution": {
     "iopub.execute_input": "2022-03-07T01:00:38.272671Z",
     "iopub.status.busy": "2022-03-07T01:00:38.272409Z",
     "iopub.status.idle": "2022-03-07T01:00:40.872554Z",
     "shell.execute_reply": "2022-03-07T01:00:40.872038Z"
    },
    "papermill": {
     "duration": 2.617051,
     "end_time": "2022-03-07T01:00:40.872689",
     "exception": false,
     "start_time": "2022-03-07T01:00:38.255638",
     "status": "completed"
    },
    "tags": []
   },
   "outputs": [],
   "source": [
    "for ds in p.datasets:\n",
    "    add_dataset(**ds)"
   ]
  },
  {
   "cell_type": "code",
   "execution_count": 14,
   "id": "b90d65ac",
   "metadata": {
    "execution": {
     "iopub.execute_input": "2022-03-07T01:00:40.906010Z",
     "iopub.status.busy": "2022-03-07T01:00:40.905745Z",
     "iopub.status.idle": "2022-03-07T01:00:40.918391Z",
     "shell.execute_reply": "2022-03-07T01:00:40.918830Z"
    },
    "papermill": {
     "duration": 0.029684,
     "end_time": "2022-03-07T01:00:40.918981",
     "exception": false,
     "start_time": "2022-03-07T01:00:40.889297",
     "status": "completed"
    },
    "tags": []
   },
   "outputs": [],
   "source": [
    "# from steves_utils.CORES.utils import (\n",
    "#     ALL_NODES,\n",
    "#     ALL_NODES_MINIMUM_1000_EXAMPLES,\n",
    "#     ALL_DAYS\n",
    "# )\n",
    "\n",
    "# add_dataset(\n",
    "#     labels=ALL_NODES,\n",
    "#     domains = ALL_DAYS,\n",
    "#     num_examples_per_domain_per_label=100,\n",
    "#     pickle_path=os.path.join(get_datasets_base_path(), \"cores.stratified_ds.2022A.pkl\"),\n",
    "#     source_or_target_dataset=\"target\",\n",
    "#     x_transform_func=global_x_transform_func,\n",
    "#     domain_modifier=lambda u: f\"cores_{u}\"\n",
    "# )"
   ]
  },
  {
   "cell_type": "code",
   "execution_count": 15,
   "id": "76db484d",
   "metadata": {
    "execution": {
     "iopub.execute_input": "2022-03-07T01:00:40.954325Z",
     "iopub.status.busy": "2022-03-07T01:00:40.954045Z",
     "iopub.status.idle": "2022-03-07T01:00:40.967722Z",
     "shell.execute_reply": "2022-03-07T01:00:40.967469Z"
    },
    "papermill": {
     "duration": 0.030274,
     "end_time": "2022-03-07T01:00:40.967805",
     "exception": false,
     "start_time": "2022-03-07T01:00:40.937531",
     "status": "completed"
    },
    "tags": []
   },
   "outputs": [],
   "source": [
    "# from steves_utils.ORACLE.utils_v2 import (\n",
    "#     ALL_DISTANCES_FEET,\n",
    "#     ALL_RUNS,\n",
    "#     ALL_SERIAL_NUMBERS,\n",
    "# )\n",
    "\n",
    "\n",
    "# add_dataset(\n",
    "#     labels=ALL_SERIAL_NUMBERS,\n",
    "#     domains = list(set(ALL_DISTANCES_FEET) - {2,62}),\n",
    "#     num_examples_per_domain_per_label=100,\n",
    "#     pickle_path=os.path.join(get_datasets_base_path(), \"oracle.Run2_framed_2000Examples_stratified_ds.2022A.pkl\"),\n",
    "#     source_or_target_dataset=\"source\",\n",
    "#     x_transform_func=global_x_transform_func,\n",
    "#     domain_modifier=lambda u: f\"oracle1_{u}\"\n",
    "# )\n"
   ]
  },
  {
   "cell_type": "code",
   "execution_count": 16,
   "id": "97dea9d2",
   "metadata": {
    "execution": {
     "iopub.execute_input": "2022-03-07T01:00:41.001081Z",
     "iopub.status.busy": "2022-03-07T01:00:41.000709Z",
     "iopub.status.idle": "2022-03-07T01:00:41.013421Z",
     "shell.execute_reply": "2022-03-07T01:00:41.013882Z"
    },
    "papermill": {
     "duration": 0.02931,
     "end_time": "2022-03-07T01:00:41.014020",
     "exception": false,
     "start_time": "2022-03-07T01:00:40.984710",
     "status": "completed"
    },
    "tags": []
   },
   "outputs": [],
   "source": [
    "# from steves_utils.ORACLE.utils_v2 import (\n",
    "#     ALL_DISTANCES_FEET,\n",
    "#     ALL_RUNS,\n",
    "#     ALL_SERIAL_NUMBERS,\n",
    "# )\n",
    "\n",
    "\n",
    "# add_dataset(\n",
    "#     labels=ALL_SERIAL_NUMBERS,\n",
    "#     domains = list(set(ALL_DISTANCES_FEET) - {2,62,56}),\n",
    "#     num_examples_per_domain_per_label=100,\n",
    "#     pickle_path=os.path.join(get_datasets_base_path(), \"oracle.Run2_framed_2000Examples_stratified_ds.2022A.pkl\"),\n",
    "#     source_or_target_dataset=\"source\",\n",
    "#     x_transform_func=global_x_transform_func,\n",
    "#     domain_modifier=lambda u: f\"oracle2_{u}\"\n",
    "# )"
   ]
  },
  {
   "cell_type": "code",
   "execution_count": 17,
   "id": "6f289866",
   "metadata": {
    "execution": {
     "iopub.execute_input": "2022-03-07T01:00:41.052304Z",
     "iopub.status.busy": "2022-03-07T01:00:41.051694Z",
     "iopub.status.idle": "2022-03-07T01:00:41.064421Z",
     "shell.execute_reply": "2022-03-07T01:00:41.064707Z"
    },
    "papermill": {
     "duration": 0.030992,
     "end_time": "2022-03-07T01:00:41.064815",
     "exception": false,
     "start_time": "2022-03-07T01:00:41.033823",
     "status": "completed"
    },
    "tags": []
   },
   "outputs": [],
   "source": [
    "# add_dataset(\n",
    "#     labels=list(range(19)),\n",
    "#     domains = [0,1,2],\n",
    "#     num_examples_per_domain_per_label=100,\n",
    "#     pickle_path=os.path.join(get_datasets_base_path(), \"metehan.stratified_ds.2022A.pkl\"),\n",
    "#     source_or_target_dataset=\"target\",\n",
    "#     x_transform_func=global_x_transform_func,\n",
    "#     domain_modifier=lambda u: f\"met_{u}\"\n",
    "# )"
   ]
  },
  {
   "cell_type": "code",
   "execution_count": 18,
   "id": "86a863c3",
   "metadata": {
    "execution": {
     "iopub.execute_input": "2022-03-07T01:00:41.104549Z",
     "iopub.status.busy": "2022-03-07T01:00:41.104281Z",
     "iopub.status.idle": "2022-03-07T01:00:41.115673Z",
     "shell.execute_reply": "2022-03-07T01:00:41.116033Z"
    },
    "papermill": {
     "duration": 0.028846,
     "end_time": "2022-03-07T01:00:41.116189",
     "exception": false,
     "start_time": "2022-03-07T01:00:41.087343",
     "status": "completed"
    },
    "tags": []
   },
   "outputs": [],
   "source": [
    "# # from steves_utils.wisig.utils import (\n",
    "# #     ALL_NODES_MINIMUM_100_EXAMPLES,\n",
    "# #     ALL_NODES_MINIMUM_500_EXAMPLES,\n",
    "# #     ALL_NODES_MINIMUM_1000_EXAMPLES,\n",
    "# #     ALL_DAYS\n",
    "# # )\n",
    "\n",
    "# import steves_utils.wisig.utils as wisig\n",
    "\n",
    "\n",
    "# add_dataset(\n",
    "#     labels=wisig.ALL_NODES_MINIMUM_100_EXAMPLES,\n",
    "#     domains = wisig.ALL_DAYS,\n",
    "#     num_examples_per_domain_per_label=100,\n",
    "#     pickle_path=os.path.join(get_datasets_base_path(), \"wisig.node3-19.stratified_ds.2022A.pkl\"),\n",
    "#     source_or_target_dataset=\"target\",\n",
    "#     x_transform_func=global_x_transform_func,\n",
    "#     domain_modifier=lambda u: f\"wisig_{u}\"\n",
    "# )"
   ]
  },
  {
   "cell_type": "code",
   "execution_count": 19,
   "id": "fd5442bc",
   "metadata": {
    "execution": {
     "iopub.execute_input": "2022-03-07T01:00:41.155205Z",
     "iopub.status.busy": "2022-03-07T01:00:41.154922Z",
     "iopub.status.idle": "2022-03-07T01:00:41.170090Z",
     "shell.execute_reply": "2022-03-07T01:00:41.170293Z"
    },
    "papermill": {
     "duration": 0.033828,
     "end_time": "2022-03-07T01:00:41.170385",
     "exception": false,
     "start_time": "2022-03-07T01:00:41.136557",
     "status": "completed"
    },
    "tags": []
   },
   "outputs": [],
   "source": [
    "###################################\n",
    "# Build the dataset\n",
    "###################################\n",
    "train_original_source = Iterable_Aggregator(train_original_source, p.seed)\n",
    "val_original_source = Iterable_Aggregator(val_original_source, p.seed)\n",
    "test_original_source = Iterable_Aggregator(test_original_source, p.seed)\n",
    "\n",
    "\n",
    "train_original_target = Iterable_Aggregator(train_original_target, p.seed)\n",
    "val_original_target = Iterable_Aggregator(val_original_target, p.seed)\n",
    "test_original_target = Iterable_Aggregator(test_original_target, p.seed)\n",
    "\n",
    "# For CNN We only use X and Y. And we only train on the source.\n",
    "# Properly form the data using a transform lambda and Lazy_Iterable_Wrapper. Finally wrap them in a dataloader\n",
    "\n",
    "transform_lambda = lambda ex: ex[1] # Original is (<domain>, <episode>) so we strip down to episode only\n",
    "\n",
    "train_processed_source = Lazy_Iterable_Wrapper(train_original_source, transform_lambda)\n",
    "val_processed_source   = Lazy_Iterable_Wrapper(val_original_source, transform_lambda)\n",
    "test_processed_source  = Lazy_Iterable_Wrapper(test_original_source, transform_lambda)\n",
    "\n",
    "train_processed_target = Lazy_Iterable_Wrapper(train_original_target, transform_lambda)\n",
    "val_processed_target   = Lazy_Iterable_Wrapper(val_original_target, transform_lambda)\n",
    "test_processed_target  = Lazy_Iterable_Wrapper(test_original_target, transform_lambda)\n",
    "\n",
    "datasets = EasyDict({\n",
    "    \"source\": {\n",
    "        \"original\": {\"train\":train_original_source, \"val\":val_original_source, \"test\":test_original_source},\n",
    "        \"processed\": {\"train\":train_processed_source, \"val\":val_processed_source, \"test\":test_processed_source}\n",
    "    },\n",
    "    \"target\": {\n",
    "        \"original\": {\"train\":train_original_target, \"val\":val_original_target, \"test\":test_original_target},\n",
    "        \"processed\": {\"train\":train_processed_target, \"val\":val_processed_target, \"test\":test_processed_target}\n",
    "    },\n",
    "})"
   ]
  },
  {
   "cell_type": "code",
   "execution_count": 20,
   "id": "5b3c01fc",
   "metadata": {
    "execution": {
     "iopub.execute_input": "2022-03-07T01:00:41.206203Z",
     "iopub.status.busy": "2022-03-07T01:00:41.205937Z",
     "iopub.status.idle": "2022-03-07T01:00:43.324734Z",
     "shell.execute_reply": "2022-03-07T01:00:43.325117Z"
    },
    "papermill": {
     "duration": 2.136378,
     "end_time": "2022-03-07T01:00:43.325233",
     "exception": false,
     "start_time": "2022-03-07T01:00:41.188855",
     "status": "completed"
    },
    "tags": []
   },
   "outputs": [
    {
     "name": "stdout",
     "output_type": "stream",
     "text": [
      "{'CORES_4', 'CORES_3', 'CORES_5', 'CORES_1', 'CORES_2'}\n"
     ]
    },
    {
     "name": "stdout",
     "output_type": "stream",
     "text": [
      "{'Metehan_0', 'Metehan_2', 'Metehan_1'}\n"
     ]
    },
    {
     "name": "stdout",
     "output_type": "stream",
     "text": [
      "tensor([[[ 0.0813,  0.1394,  0.0752,  ...,  0.1826, -0.1615, -0.7063],\n",
      "         [ 0.0431,  0.0602,  0.3752,  ..., -0.3270, -0.9059, -0.4916]],\n",
      "\n",
      "        [[-0.1763, -0.3957,  0.2755,  ..., -0.1883, -0.8815,  0.7503],\n",
      "         [ 0.3326, -0.3256, -0.8655,  ..., -0.8444,  0.0371, -0.4558]],\n",
      "\n",
      "        [[-0.3215, -0.3593,  0.4297,  ..., -0.8615, -0.2644,  1.0116],\n",
      "         [ 0.3164, -0.8370, -0.3736,  ..., -0.1980,  0.0806, -1.3301]],\n",
      "\n",
      "        ...,\n",
      "\n",
      "        [[-0.4005,  0.3414,  0.9247,  ...,  0.5941,  0.8467, -0.0349],\n",
      "         [-0.3387,  0.1667,  0.0645,  ...,  0.2688, -1.2123, -0.1183]],\n",
      "\n",
      "        [[ 0.4953,  0.0453, -0.3566,  ...,  0.4019,  1.2962,  0.3255],\n",
      "         [-0.0340,  0.5519,  0.3028,  ...,  1.0160,  0.9226, -0.6170]],\n",
      "\n",
      "        [[ 0.1915,  0.5604, -0.1774,  ..., -0.5942,  0.2732,  1.1180],\n",
      "         [-0.0817,  0.1239,  0.5661,  ...,  0.2844,  1.1237,  1.1490]]])\n"
     ]
    }
   ],
   "source": [
    "from steves_utils.transforms import get_average_magnitude, get_average_power\n",
    "\n",
    "print(set([u for u,_ in val_original_source]))\n",
    "print(set([u for u,_ in val_original_target]))\n",
    "\n",
    "s_x, s_y, q_x, q_y, _ = next(iter(train_processed_source))\n",
    "print(s_x)\n",
    "\n",
    "# for ds in [\n",
    "#     train_processed_source,\n",
    "#     val_processed_source,\n",
    "#     test_processed_source,\n",
    "#     train_processed_target,\n",
    "#     val_processed_target,\n",
    "#     test_processed_target\n",
    "# ]:\n",
    "#     for s_x, s_y, q_x, q_y, _ in ds:\n",
    "#         for X in (s_x, q_x):\n",
    "#             for x in X:\n",
    "#                 assert np.isclose(get_average_magnitude(x.numpy()), 1.0)\n",
    "#                 assert np.isclose(get_average_power(x.numpy()), 1.0)\n",
    "                "
   ]
  },
  {
   "cell_type": "code",
   "execution_count": 21,
   "id": "bbdacba1",
   "metadata": {
    "execution": {
     "iopub.execute_input": "2022-03-07T01:00:43.364746Z",
     "iopub.status.busy": "2022-03-07T01:00:43.364476Z",
     "iopub.status.idle": "2022-03-07T01:00:43.422634Z",
     "shell.execute_reply": "2022-03-07T01:00:43.422968Z"
    },
    "papermill": {
     "duration": 0.077915,
     "end_time": "2022-03-07T01:00:43.423073",
     "exception": false,
     "start_time": "2022-03-07T01:00:43.345158",
     "status": "completed"
    },
    "tags": []
   },
   "outputs": [
    {
     "name": "stdout",
     "output_type": "stream",
     "text": [
      "(2, 256)\n"
     ]
    }
   ],
   "source": [
    "###################################\n",
    "# Build the model\n",
    "###################################\n",
    "model = Steves_Prototypical_Network(x_net, device=p.device, x_shape=(2,256))\n",
    "optimizer = Adam(params=model.parameters(), lr=p.lr)"
   ]
  },
  {
   "cell_type": "code",
   "execution_count": 22,
   "id": "22b39ac5",
   "metadata": {
    "execution": {
     "iopub.execute_input": "2022-03-07T01:00:43.460500Z",
     "iopub.status.busy": "2022-03-07T01:00:43.460235Z",
     "iopub.status.idle": "2022-03-07T01:02:50.771137Z",
     "shell.execute_reply": "2022-03-07T01:02:50.770754Z"
    },
    "papermill": {
     "duration": 127.329339,
     "end_time": "2022-03-07T01:02:50.771230",
     "exception": false,
     "start_time": "2022-03-07T01:00:43.441891",
     "status": "completed"
    },
    "tags": []
   },
   "outputs": [
    {
     "name": "stdout",
     "output_type": "stream",
     "text": [
      "epoch: 1, [batch: 1 / 612], examples_per_second: 345.4645, train_label_loss: 2.8627, \n"
     ]
    },
    {
     "name": "stdout",
     "output_type": "stream",
     "text": [
      "epoch: 1, [batch: 62 / 612], examples_per_second: 2959.5195, train_label_loss: 0.1777, \n"
     ]
    },
    {
     "name": "stdout",
     "output_type": "stream",
     "text": [
      "epoch: 1, [batch: 123 / 612], examples_per_second: 2928.6579, train_label_loss: 0.0551, \n"
     ]
    },
    {
     "name": "stdout",
     "output_type": "stream",
     "text": [
      "epoch: 1, [batch: 184 / 612], examples_per_second: 2921.4238, train_label_loss: 0.0977, \n"
     ]
    },
    {
     "name": "stdout",
     "output_type": "stream",
     "text": [
      "epoch: 1, [batch: 245 / 612], examples_per_second: 2923.6545, train_label_loss: 0.0171, \n"
     ]
    },
    {
     "name": "stdout",
     "output_type": "stream",
     "text": [
      "epoch: 1, [batch: 306 / 612], examples_per_second: 2961.9881, train_label_loss: 0.0028, \n"
     ]
    },
    {
     "name": "stdout",
     "output_type": "stream",
     "text": [
      "epoch: 1, [batch: 367 / 612], examples_per_second: 2962.9887, train_label_loss: 0.0788, \n"
     ]
    },
    {
     "name": "stdout",
     "output_type": "stream",
     "text": [
      "epoch: 1, [batch: 428 / 612], examples_per_second: 2911.1099, train_label_loss: 0.0040, \n"
     ]
    },
    {
     "name": "stdout",
     "output_type": "stream",
     "text": [
      "epoch: 1, [batch: 489 / 612], examples_per_second: 2922.4628, train_label_loss: 0.0022, \n"
     ]
    },
    {
     "name": "stdout",
     "output_type": "stream",
     "text": [
      "epoch: 1, [batch: 550 / 612], examples_per_second: 2945.5539, train_label_loss: 0.0155, \n"
     ]
    },
    {
     "name": "stdout",
     "output_type": "stream",
     "text": [
      "=============================================================\n",
      "epoch: 1, source_val_acc_label: 0.9913, target_val_acc_label: 0.2222, source_val_label_loss: 0.0258, target_val_label_loss: 2.7589, \n",
      "=============================================================\n"
     ]
    },
    {
     "name": "stdout",
     "output_type": "stream",
     "text": [
      "New best\n"
     ]
    },
    {
     "name": "stdout",
     "output_type": "stream",
     "text": [
      "epoch: 2, [batch: 1 / 615], examples_per_second: 52.6552, train_label_loss: 0.0178, \n"
     ]
    },
    {
     "name": "stdout",
     "output_type": "stream",
     "text": [
      "epoch: 2, [batch: 62 / 615], examples_per_second: 2987.8433, train_label_loss: 0.0144, \n"
     ]
    },
    {
     "name": "stdout",
     "output_type": "stream",
     "text": [
      "epoch: 2, [batch: 123 / 615], examples_per_second: 3017.8835, train_label_loss: 0.2054, \n"
     ]
    },
    {
     "name": "stdout",
     "output_type": "stream",
     "text": [
      "epoch: 2, [batch: 185 / 615], examples_per_second: 2991.3015, train_label_loss: 0.0060, \n"
     ]
    },
    {
     "name": "stdout",
     "output_type": "stream",
     "text": [
      "epoch: 2, [batch: 246 / 615], examples_per_second: 2956.1281, train_label_loss: 0.0012, \n"
     ]
    },
    {
     "name": "stdout",
     "output_type": "stream",
     "text": [
      "epoch: 2, [batch: 308 / 615], examples_per_second: 2979.7398, train_label_loss: 0.0522, \n"
     ]
    },
    {
     "name": "stdout",
     "output_type": "stream",
     "text": [
      "epoch: 2, [batch: 369 / 615], examples_per_second: 2980.7828, train_label_loss: 0.0358, \n"
     ]
    },
    {
     "name": "stdout",
     "output_type": "stream",
     "text": [
      "epoch: 2, [batch: 430 / 615], examples_per_second: 2995.1255, train_label_loss: 0.0794, \n"
     ]
    },
    {
     "name": "stdout",
     "output_type": "stream",
     "text": [
      "epoch: 2, [batch: 492 / 615], examples_per_second: 2986.4141, train_label_loss: 0.0389, \n"
     ]
    },
    {
     "name": "stdout",
     "output_type": "stream",
     "text": [
      "epoch: 2, [batch: 553 / 615], examples_per_second: 3020.0040, train_label_loss: 0.0000, \n"
     ]
    },
    {
     "name": "stdout",
     "output_type": "stream",
     "text": [
      "=============================================================\n",
      "epoch: 2, source_val_acc_label: 0.9872, target_val_acc_label: 0.3260, source_val_label_loss: 0.0438, target_val_label_loss: 2.3926, \n",
      "=============================================================\n"
     ]
    },
    {
     "name": "stdout",
     "output_type": "stream",
     "text": [
      "New best\n"
     ]
    },
    {
     "name": "stdout",
     "output_type": "stream",
     "text": [
      "epoch: 3, [batch: 1 / 614], examples_per_second: 52.3378, train_label_loss: 0.0166, \n"
     ]
    },
    {
     "name": "stdout",
     "output_type": "stream",
     "text": [
      "epoch: 3, [batch: 62 / 614], examples_per_second: 2957.6997, train_label_loss: 0.0000, \n"
     ]
    },
    {
     "name": "stdout",
     "output_type": "stream",
     "text": [
      "epoch: 3, [batch: 123 / 614], examples_per_second: 2964.3087, train_label_loss: 0.0003, \n"
     ]
    },
    {
     "name": "stdout",
     "output_type": "stream",
     "text": [
      "epoch: 3, [batch: 184 / 614], examples_per_second: 2940.3578, train_label_loss: 0.0000, \n"
     ]
    },
    {
     "name": "stdout",
     "output_type": "stream",
     "text": [
      "epoch: 3, [batch: 246 / 614], examples_per_second: 2950.2357, train_label_loss: 0.0116, \n"
     ]
    },
    {
     "name": "stdout",
     "output_type": "stream",
     "text": [
      "epoch: 3, [batch: 307 / 614], examples_per_second: 2952.9432, train_label_loss: 0.0016, \n"
     ]
    },
    {
     "name": "stdout",
     "output_type": "stream",
     "text": [
      "epoch: 3, [batch: 368 / 614], examples_per_second: 2991.0362, train_label_loss: 0.0000, \n"
     ]
    },
    {
     "name": "stdout",
     "output_type": "stream",
     "text": [
      "epoch: 3, [batch: 430 / 614], examples_per_second: 2995.8838, train_label_loss: 0.0000, \n"
     ]
    },
    {
     "name": "stdout",
     "output_type": "stream",
     "text": [
      "epoch: 3, [batch: 491 / 614], examples_per_second: 2993.5747, train_label_loss: 0.0003, \n"
     ]
    },
    {
     "name": "stdout",
     "output_type": "stream",
     "text": [
      "epoch: 3, [batch: 552 / 614], examples_per_second: 2977.3721, train_label_loss: 0.4016, \n"
     ]
    },
    {
     "name": "stdout",
     "output_type": "stream",
     "text": [
      "=============================================================\n",
      "epoch: 3, source_val_acc_label: 0.9949, target_val_acc_label: 0.3421, source_val_label_loss: 0.0204, target_val_label_loss: 2.4708, \n",
      "=============================================================\n"
     ]
    },
    {
     "name": "stdout",
     "output_type": "stream",
     "text": [
      "epoch: 4, [batch: 1 / 615], examples_per_second: 53.9984, train_label_loss: 0.0036, \n"
     ]
    },
    {
     "name": "stdout",
     "output_type": "stream",
     "text": [
      "epoch: 4, [batch: 62 / 615], examples_per_second: 2983.6478, train_label_loss: 0.0649, \n"
     ]
    },
    {
     "name": "stdout",
     "output_type": "stream",
     "text": [
      "epoch: 4, [batch: 123 / 615], examples_per_second: 2963.6466, train_label_loss: 0.0064, \n"
     ]
    },
    {
     "name": "stdout",
     "output_type": "stream",
     "text": [
      "epoch: 4, [batch: 185 / 615], examples_per_second: 2964.7245, train_label_loss: 0.0783, \n"
     ]
    },
    {
     "name": "stdout",
     "output_type": "stream",
     "text": [
      "epoch: 4, [batch: 246 / 615], examples_per_second: 2977.8821, train_label_loss: 0.0062, \n"
     ]
    },
    {
     "name": "stdout",
     "output_type": "stream",
     "text": [
      "epoch: 4, [batch: 308 / 615], examples_per_second: 2996.3907, train_label_loss: 0.0000, \n"
     ]
    },
    {
     "name": "stdout",
     "output_type": "stream",
     "text": [
      "epoch: 4, [batch: 369 / 615], examples_per_second: 2983.9969, train_label_loss: 0.0709, \n"
     ]
    },
    {
     "name": "stdout",
     "output_type": "stream",
     "text": [
      "epoch: 4, [batch: 430 / 615], examples_per_second: 2994.4982, train_label_loss: 0.1168, \n"
     ]
    },
    {
     "name": "stdout",
     "output_type": "stream",
     "text": [
      "epoch: 4, [batch: 492 / 615], examples_per_second: 3000.7546, train_label_loss: 0.0009, \n"
     ]
    },
    {
     "name": "stdout",
     "output_type": "stream",
     "text": [
      "epoch: 4, [batch: 553 / 615], examples_per_second: 2962.0289, train_label_loss: 0.0021, \n"
     ]
    },
    {
     "name": "stdout",
     "output_type": "stream",
     "text": [
      "=============================================================\n",
      "epoch: 4, source_val_acc_label: 0.9971, target_val_acc_label: 0.2807, source_val_label_loss: 0.0114, target_val_label_loss: 2.5365, \n",
      "=============================================================\n"
     ]
    },
    {
     "name": "stdout",
     "output_type": "stream",
     "text": [
      "epoch: 5, [batch: 1 / 613], examples_per_second: 53.9901, train_label_loss: 0.0002, \n"
     ]
    },
    {
     "name": "stdout",
     "output_type": "stream",
     "text": [
      "epoch: 5, [batch: 62 / 613], examples_per_second: 2989.7371, train_label_loss: 0.0000, \n"
     ]
    },
    {
     "name": "stdout",
     "output_type": "stream",
     "text": [
      "epoch: 5, [batch: 123 / 613], examples_per_second: 2876.1832, train_label_loss: 0.0043, \n"
     ]
    },
    {
     "name": "stdout",
     "output_type": "stream",
     "text": [
      "epoch: 5, [batch: 184 / 613], examples_per_second: 2897.8959, train_label_loss: 0.0253, \n"
     ]
    },
    {
     "name": "stdout",
     "output_type": "stream",
     "text": [
      "epoch: 5, [batch: 245 / 613], examples_per_second: 2870.3141, train_label_loss: 0.0103, \n"
     ]
    },
    {
     "name": "stdout",
     "output_type": "stream",
     "text": [
      "epoch: 5, [batch: 307 / 613], examples_per_second: 3024.2966, train_label_loss: 0.0000, \n"
     ]
    },
    {
     "name": "stdout",
     "output_type": "stream",
     "text": [
      "epoch: 5, [batch: 368 / 613], examples_per_second: 3002.8321, train_label_loss: 0.0080, \n"
     ]
    },
    {
     "name": "stdout",
     "output_type": "stream",
     "text": [
      "epoch: 5, [batch: 429 / 613], examples_per_second: 2957.9787, train_label_loss: 0.0000, \n"
     ]
    },
    {
     "name": "stdout",
     "output_type": "stream",
     "text": [
      "epoch: 5, [batch: 490 / 613], examples_per_second: 2982.0646, train_label_loss: 0.0910, \n"
     ]
    },
    {
     "name": "stdout",
     "output_type": "stream",
     "text": [
      "epoch: 5, [batch: 551 / 613], examples_per_second: 2988.0677, train_label_loss: 0.0321, \n"
     ]
    },
    {
     "name": "stdout",
     "output_type": "stream",
     "text": [
      "=============================================================\n",
      "epoch: 5, source_val_acc_label: 0.9917, target_val_acc_label: 0.1959, source_val_label_loss: 0.0465, target_val_label_loss: 2.5061, \n",
      "=============================================================\n"
     ]
    },
    {
     "name": "stdout",
     "output_type": "stream",
     "text": [
      "epoch: 6, [batch: 1 / 616], examples_per_second: 53.1284, train_label_loss: 0.0003, \n"
     ]
    },
    {
     "name": "stdout",
     "output_type": "stream",
     "text": [
      "epoch: 6, [batch: 62 / 616], examples_per_second: 2916.2617, train_label_loss: 0.0000, \n"
     ]
    },
    {
     "name": "stdout",
     "output_type": "stream",
     "text": [
      "epoch: 6, [batch: 124 / 616], examples_per_second: 2946.2844, train_label_loss: 0.0002, \n"
     ]
    },
    {
     "name": "stdout",
     "output_type": "stream",
     "text": [
      "epoch: 6, [batch: 185 / 616], examples_per_second: 2953.7485, train_label_loss: 0.0000, \n"
     ]
    },
    {
     "name": "stdout",
     "output_type": "stream",
     "text": [
      "epoch: 6, [batch: 247 / 616], examples_per_second: 2994.8430, train_label_loss: 0.0000, \n"
     ]
    },
    {
     "name": "stdout",
     "output_type": "stream",
     "text": [
      "epoch: 6, [batch: 308 / 616], examples_per_second: 3015.6804, train_label_loss: 0.0000, \n"
     ]
    },
    {
     "name": "stdout",
     "output_type": "stream",
     "text": [
      "epoch: 6, [batch: 370 / 616], examples_per_second: 2981.1788, train_label_loss: 0.4409, \n"
     ]
    },
    {
     "name": "stdout",
     "output_type": "stream",
     "text": [
      "epoch: 6, [batch: 431 / 616], examples_per_second: 2986.1137, train_label_loss: 0.0327, \n"
     ]
    },
    {
     "name": "stdout",
     "output_type": "stream",
     "text": [
      "epoch: 6, [batch: 493 / 616], examples_per_second: 2990.1260, train_label_loss: 0.0000, \n"
     ]
    },
    {
     "name": "stdout",
     "output_type": "stream",
     "text": [
      "epoch: 6, [batch: 554 / 616], examples_per_second: 3028.9825, train_label_loss: 0.0000, \n"
     ]
    },
    {
     "name": "stdout",
     "output_type": "stream",
     "text": [
      "=============================================================\n",
      "epoch: 6, source_val_acc_label: 0.9942, target_val_acc_label: 0.2061, source_val_label_loss: 0.0360, target_val_label_loss: 2.6422, \n",
      "=============================================================\n"
     ]
    },
    {
     "name": "stdout",
     "output_type": "stream",
     "text": [
      "Patience (3) exhausted\n"
     ]
    }
   ],
   "source": [
    "###################################\n",
    "# train\n",
    "###################################\n",
    "jig = PTN_Train_Eval_Test_Jig(model, p.BEST_MODEL_PATH, p.device)\n",
    "\n",
    "jig.train(\n",
    "    train_iterable=datasets.source.processed.train,\n",
    "    source_val_iterable=datasets.source.processed.val,\n",
    "    target_val_iterable=datasets.target.processed.val,\n",
    "    num_epochs=p.n_epoch,\n",
    "    num_logs_per_epoch=p.NUM_LOGS_PER_EPOCH,\n",
    "    patience=p.patience,\n",
    "    optimizer=optimizer,\n",
    "    criteria_for_best=p.criteria_for_best,\n",
    ")"
   ]
  },
  {
   "cell_type": "code",
   "execution_count": 23,
   "id": "31e8fabf",
   "metadata": {
    "execution": {
     "iopub.execute_input": "2022-03-07T01:02:50.829902Z",
     "iopub.status.busy": "2022-03-07T01:02:50.829632Z",
     "iopub.status.idle": "2022-03-07T01:02:50.849481Z",
     "shell.execute_reply": "2022-03-07T01:02:50.849780Z"
    },
    "papermill": {
     "duration": 0.051003,
     "end_time": "2022-03-07T01:02:50.849899",
     "exception": false,
     "start_time": "2022-03-07T01:02:50.798896",
     "status": "completed"
    },
    "tags": []
   },
   "outputs": [],
   "source": [
    "total_experiment_time_secs = time.time() - start_time_secs"
   ]
  },
  {
   "cell_type": "code",
   "execution_count": 24,
   "id": "87b9595b",
   "metadata": {
    "execution": {
     "iopub.execute_input": "2022-03-07T01:02:50.920590Z",
     "iopub.status.busy": "2022-03-07T01:02:50.916299Z",
     "iopub.status.idle": "2022-03-07T01:02:58.601505Z",
     "shell.execute_reply": "2022-03-07T01:02:58.601148Z"
    },
    "papermill": {
     "duration": 7.717227,
     "end_time": "2022-03-07T01:02:58.601594",
     "exception": false,
     "start_time": "2022-03-07T01:02:50.884367",
     "status": "completed"
    },
    "tags": []
   },
   "outputs": [],
   "source": [
    "###################################\n",
    "# Evaluate the model\n",
    "###################################\n",
    "source_test_label_accuracy, source_test_label_loss = jig.test(datasets.source.processed.test)\n",
    "target_test_label_accuracy, target_test_label_loss = jig.test(datasets.target.processed.test)\n",
    "\n",
    "source_val_label_accuracy, source_val_label_loss = jig.test(datasets.source.processed.val)\n",
    "target_val_label_accuracy, target_val_label_loss = jig.test(datasets.target.processed.val)\n",
    "\n",
    "history = jig.get_history()\n",
    "\n",
    "total_epochs_trained = len(history[\"epoch_indices\"])\n",
    "\n",
    "val_dl = Iterable_Aggregator((datasets.source.original.val,datasets.target.original.val))\n",
    "\n",
    "confusion = ptn_confusion_by_domain_over_dataloader(model, p.device, val_dl)\n",
    "per_domain_accuracy = per_domain_accuracy_from_confusion(confusion)\n",
    "\n",
    "# Add a key to per_domain_accuracy for if it was a source domain\n",
    "for domain, accuracy in per_domain_accuracy.items():\n",
    "    per_domain_accuracy[domain] = {\n",
    "        \"accuracy\": accuracy,\n",
    "        \"source?\": domain in p.domains_source\n",
    "    }\n",
    "\n",
    "# Do an independent accuracy assesment JUST TO BE SURE!\n",
    "# _source_test_label_accuracy = independent_accuracy_assesment(model, datasets.source.processed.test, p.device)\n",
    "# _target_test_label_accuracy = independent_accuracy_assesment(model, datasets.target.processed.test, p.device)\n",
    "# _source_val_label_accuracy = independent_accuracy_assesment(model, datasets.source.processed.val, p.device)\n",
    "# _target_val_label_accuracy = independent_accuracy_assesment(model, datasets.target.processed.val, p.device)\n",
    "\n",
    "# assert(_source_test_label_accuracy == source_test_label_accuracy)\n",
    "# assert(_target_test_label_accuracy == target_test_label_accuracy)\n",
    "# assert(_source_val_label_accuracy == source_val_label_accuracy)\n",
    "# assert(_target_val_label_accuracy == target_val_label_accuracy)\n",
    "\n",
    "experiment = {\n",
    "    \"experiment_name\": p.experiment_name,\n",
    "    \"parameters\": dict(p),\n",
    "    \"results\": {\n",
    "        \"source_test_label_accuracy\": source_test_label_accuracy,\n",
    "        \"source_test_label_loss\": source_test_label_loss,\n",
    "        \"target_test_label_accuracy\": target_test_label_accuracy,\n",
    "        \"target_test_label_loss\": target_test_label_loss,\n",
    "        \"source_val_label_accuracy\": source_val_label_accuracy,\n",
    "        \"source_val_label_loss\": source_val_label_loss,\n",
    "        \"target_val_label_accuracy\": target_val_label_accuracy,\n",
    "        \"target_val_label_loss\": target_val_label_loss,\n",
    "        \"total_epochs_trained\": total_epochs_trained,\n",
    "        \"total_experiment_time_secs\": total_experiment_time_secs,\n",
    "        \"confusion\": confusion,\n",
    "        \"per_domain_accuracy\": per_domain_accuracy,\n",
    "    },\n",
    "    \"history\": history,\n",
    "    \"dataset_metrics\": get_dataset_metrics(datasets, \"ptn\"),\n",
    "}"
   ]
  },
  {
   "cell_type": "code",
   "execution_count": 25,
   "id": "54a21829",
   "metadata": {
    "execution": {
     "iopub.execute_input": "2022-03-07T01:02:58.667686Z",
     "iopub.status.busy": "2022-03-07T01:02:58.666639Z",
     "iopub.status.idle": "2022-03-07T01:02:58.922215Z",
     "shell.execute_reply": "2022-03-07T01:02:58.921763Z"
    },
    "papermill": {
     "duration": 0.28705,
     "end_time": "2022-03-07T01:02:58.922321",
     "exception": false,
     "start_time": "2022-03-07T01:02:58.635271",
     "status": "completed"
    },
    "tags": []
   },
   "outputs": [
    {
     "data": {
      "image/png": "[encoded data removed]",
      "text/plain": [
       "<Figure size 1080x504 with 1 Axes>"
      ]
     },
     "metadata": {
      "needs_background": "light"
     },
     "output_type": "display_data"
    }
   ],
   "source": [
    "ax = get_loss_curve(experiment)\n",
    "plt.show()"
   ]
  },
  {
   "cell_type": "code",
   "execution_count": 26,
   "id": "fd8a0f60",
   "metadata": {
    "execution": {
     "iopub.execute_input": "2022-03-07T01:02:58.988330Z",
     "iopub.status.busy": "2022-03-07T01:02:58.988029Z",
     "iopub.status.idle": "2022-03-07T01:02:59.173146Z",
     "shell.execute_reply": "2022-03-07T01:02:59.173593Z"
    },
    "papermill": {
     "duration": 0.219348,
     "end_time": "2022-03-07T01:02:59.173756",
     "exception": false,
     "start_time": "2022-03-07T01:02:58.954408",
     "status": "completed"
    },
    "tags": []
   },
   "outputs": [
    {
     "data": {
      "text/plain": [
       "<matplotlib.axes._subplots.AxesSubplot at 0x7f6f20ac7100>"
      ]
     },
     "execution_count": 26,
     "metadata": {},
     "output_type": "execute_result"
    },
    {
     "data": {
      "image/png": "[encoded data removed]",
      "text/plain": [
       "<Figure size 1080x504 with 1 Axes>"
      ]
     },
     "metadata": {
      "needs_background": "light"
     },
     "output_type": "display_data"
    }
   ],
   "source": [
    "get_results_table(experiment)"
   ]
  },
  {
   "cell_type": "code",
   "execution_count": 27,
   "id": "cf8dc689",
   "metadata": {
    "execution": {
     "iopub.execute_input": "2022-03-07T01:02:59.244987Z",
     "iopub.status.busy": "2022-03-07T01:02:59.243490Z",
     "iopub.status.idle": "2022-03-07T01:02:59.439142Z",
     "shell.execute_reply": "2022-03-07T01:02:59.439540Z"
    },
    "papermill": {
     "duration": 0.230247,
     "end_time": "2022-03-07T01:02:59.439670",
     "exception": false,
     "start_time": "2022-03-07T01:02:59.209423",
     "status": "completed"
    },
    "tags": []
   },
   "outputs": [
    {
     "data": {
      "text/plain": [
       "<matplotlib.axes._subplots.AxesSubplot at 0x7f6f1736e9d0>"
      ]
     },
     "execution_count": 27,
     "metadata": {},
     "output_type": "execute_result"
    },
    {
     "data": {
      "image/png": "[encoded data removed]",
      "text/plain": [
       "<Figure size 1080x504 with 1 Axes>"
      ]
     },
     "metadata": {
      "needs_background": "light"
     },
     "output_type": "display_data"
    }
   ],
   "source": [
    "get_domain_accuracies(experiment)"
   ]
  },
  {
   "cell_type": "code",
   "execution_count": 28,
   "id": "a74ae082",
   "metadata": {
    "execution": {
     "iopub.execute_input": "2022-03-07T01:02:59.510183Z",
     "iopub.status.busy": "2022-03-07T01:02:59.509529Z",
     "iopub.status.idle": "2022-03-07T01:02:59.523152Z",
     "shell.execute_reply": "2022-03-07T01:02:59.522758Z"
    },
    "papermill": {
     "duration": 0.048471,
     "end_time": "2022-03-07T01:02:59.523240",
     "exception": false,
     "start_time": "2022-03-07T01:02:59.474769",
     "status": "completed"
    },
    "tags": []
   },
   "outputs": [
    {
     "name": "stdout",
     "output_type": "stream",
     "text": [
      "Source Test Label Accuracy: 0.9871630295250321 Target Test Label Accuracy: 0.31432748538011696\n",
      "Source Val Label Accuracy: 0.9871630295250321 Target Val Label Accuracy: 0.3260233918128655\n"
     ]
    }
   ],
   "source": [
    "print(\"Source Test Label Accuracy:\", experiment[\"results\"][\"source_test_label_accuracy\"], \"Target Test Label Accuracy:\", experiment[\"results\"][\"target_test_label_accuracy\"])\n",
    "print(\"Source Val Label Accuracy:\", experiment[\"results\"][\"source_val_label_accuracy\"], \"Target Val Label Accuracy:\", experiment[\"results\"][\"target_val_label_accuracy\"])"
   ]
  },
  {
   "cell_type": "code",
   "execution_count": 29,
   "id": "dacca602",
   "metadata": {
    "execution": {
     "iopub.execute_input": "2022-03-07T01:02:59.596626Z",
     "iopub.status.busy": "2022-03-07T01:02:59.595669Z",
     "iopub.status.idle": "2022-03-07T01:02:59.611910Z",
     "shell.execute_reply": "2022-03-07T01:02:59.612224Z"
    },
    "papermill": {
     "duration": 0.054382,
     "end_time": "2022-03-07T01:02:59.612327",
     "exception": false,
     "start_time": "2022-03-07T01:02:59.557945",
     "status": "completed"
    },
    "tags": [
     "experiment_json"
    ]
   },
   "outputs": [
    {
     "data": {
      "text/plain": [
       "'{\"experiment_name\": \"tl_1_cores-metehan\", \"parameters\": {\"experiment_name\": \"tl_1_cores-metehan\", \"device\": \"cuda\", \"lr\": 0.001, \"seed\": 1337, \"dataset_seed\": 1337, \"n_shot\": 3, \"n_query\": 2, \"train_k_factor\": 3, \"val_k_factor\": 2, \"test_k_factor\": 2, \"torch_default_dtype\": \"torch.float32\", \"n_epoch\": 50, \"patience\": 3, \"criteria_for_best\": \"target_loss\", \"x_net\": [{\"class\": \"nnReshape\", \"kargs\": {\"shape\": [-1, 1, 2, 256]}}, {\"class\": \"Conv2d\", \"kargs\": {\"in_channels\": 1, \"out_channels\": 256, \"kernel_size\": [1, 7], \"bias\": false, \"padding\": [0, 3]}}, {\"class\": \"ReLU\", \"kargs\": {\"inplace\": true}}, {\"class\": \"BatchNorm2d\", \"kargs\": {\"num_features\": 256}}, {\"class\": \"Conv2d\", \"kargs\": {\"in_channels\": 256, \"out_channels\": 80, \"kernel_size\": [2, 7], \"bias\": true, \"padding\": [0, 3]}}, {\"class\": \"ReLU\", \"kargs\": {\"inplace\": true}}, {\"class\": \"BatchNorm2d\", \"kargs\": {\"num_features\": 80}}, {\"class\": \"Flatten\", \"kargs\": {}}, {\"class\": \"Linear\", \"kargs\": {\"in_features\": 20480, \"out_features\": 256}}, {\"class\": \"ReLU\", \"kargs\": {\"inplace\": true}}, {\"class\": \"BatchNorm1d\", \"kargs\": {\"num_features\": 256}}, {\"class\": \"Linear\", \"kargs\": {\"in_features\": 256, \"out_features\": 256}}], \"NUM_LOGS_PER_EPOCH\": 10, \"BEST_MODEL_PATH\": \"./best_model.pth\", \"n_way\": 19, \"datasets\": [{\"labels\": [\"1-10.\", \"1-11.\", \"1-15.\", \"1-16.\", \"1-17.\", \"1-18.\", \"1-19.\", \"10-4.\", \"10-7.\", \"11-1.\", \"11-14.\", \"11-17.\", \"11-20.\", \"11-7.\", \"13-20.\", \"13-8.\", \"14-10.\", \"14-11.\", \"14-14.\", \"14-7.\", \"15-1.\", \"15-20.\", \"16-1.\", \"16-16.\", \"17-10.\", \"17-11.\", \"17-2.\", \"19-1.\", \"19-16.\", \"19-19.\", \"19-20.\", \"19-3.\", \"2-10.\", \"2-11.\", \"2-17.\", \"2-18.\", \"2-20.\", \"2-3.\", \"2-4.\", \"2-5.\", \"2-6.\", \"2-7.\", \"2-8.\", \"3-13.\", \"3-18.\", \"3-3.\", \"4-1.\", \"4-10.\", \"4-11.\", \"4-19.\", \"5-5.\", \"6-15.\", \"7-10.\", \"7-14.\", \"8-18.\", \"8-20.\", \"8-3.\", \"8-8.\"], \"domains\": [1, 2, 3, 4, 5], \"num_examples_per_domain_per_label\": 100, \"pickle_path\": \"/mnt/wd500GB/CSC500/csc500-main/datasets/cores.stratified_ds.2022A.pkl\", \"source_or_target_dataset\": \"source\", \"x_transforms\": [\"unit_mag\"], \"episode_transforms\": [], \"domain_prefix\": \"CORES_\"}, {\"labels\": [0, 1, 2, 3, 4, 5, 6, 7, 8, 9, 10, 11, 12, 13, 14, 15, 16, 17, 18], \"domains\": [0, 1, 2], \"num_examples_per_domain_per_label\": 100, \"pickle_path\": \"/mnt/wd500GB/CSC500/csc500-main/datasets/metehan.stratified_ds.2022A.pkl\", \"source_or_target_dataset\": \"target\", \"x_transforms\": [\"unit_mag\"], \"episode_transforms\": [], \"domain_prefix\": \"Metehan_\"}], \"domains_source\": [\"CORES_1\", \"CORES_2\", \"CORES_3\", \"CORES_4\", \"CORES_5\"], \"domains_target\": [\"Metehan_0\", \"Metehan_1\", \"Metehan_2\"]}, \"results\": {\"source_test_label_accuracy\": 0.9871630295250321, \"source_test_label_loss\": 0.06254080682992935, \"target_test_label_accuracy\": 0.31432748538011696, \"target_test_label_loss\": 2.3872578144073486, \"source_val_label_accuracy\": 0.9871630295250321, \"source_val_label_loss\": 0.04375244677066803, \"target_val_label_accuracy\": 0.3260233918128655, \"target_val_label_loss\": 2.3926031589508057, \"total_epochs_trained\": 6, \"total_experiment_time_secs\": 132.7484836578369, \"confusion\": {\"CORES_3\": {\"17\": {\"17\": 12}, \"18\": {\"18\": 12}, \"27\": {\"27\": 12}, \"22\": {\"22\": 12}, \"10\": {\"10\": 10, \"24\": 2}, \"7\": {\"7\": 12}, \"13\": {\"13\": 12}, \"5\": {\"5\": 12}, \"43\": {\"43\": 12}, \"32\": {\"32\": 10}, \"15\": {\"15\": 12}, \"52\": {\"52\": 11, \"46\": 1}, \"29\": {\"29\": 12}, \"3\": {\"3\": 12}, \"8\": {\"8\": 12}, \"23\": {\"23\": 10}, \"41\": {\"41\": 12}, \"35\": {\"35\": 12}, \"40\": {\"40\": 12}, \"51\": {\"51\": 8}, \"42\": {\"42\": 12}, \"14\": {\"14\": 12}, \"25\": {\"25\": 12}, \"19\": {\"19\": 8}, \"11\": {\"11\": 12}, \"16\": {\"16\": 12}, \"24\": {\"24\": 9, \"13\": 1}, \"57\": {\"57\": 10}, \"12\": {\"12\": 12}, \"46\": {\"46\": 12}, \"28\": {\"28\": 12}, \"47\": {\"47\": 12}, \"9\": {\"9\": 12}, \"44\": {\"44\": 11, \"40\": 1}, \"45\": {\"45\": 12}, \"4\": {\"4\": 10}, \"50\": {\"50\": 12}, \"48\": {\"48\": 12}, \"0\": {\"0\": 12}, \"6\": {\"6\": 12}, \"55\": {\"55\": 10}, \"49\": {\"49\": 12}, \"36\": {\"36\": 12}, \"34\": {\"34\": 12}, \"37\": {\"37\": 8}, \"56\": {\"56\": 10}, \"53\": {\"53\": 12}, \"20\": {\"20\": 12}, \"21\": {\"21\": 9, \"50\": 1}, \"2\": {\"2\": 10}, \"1\": {\"1\": 10}, \"31\": {\"31\": 10}, \"30\": {\"30\": 8}, \"33\": {\"33\": 10}, \"38\": {\"38\": 12}, \"39\": {\"39\": 10}, \"54\": {\"54\": 8}, \"26\": {\"26\": 8}}, \"CORES_4\": {\"14\": {\"14\": 9, \"43\": 1}, \"27\": {\"27\": 12}, \"51\": {\"51\": 12}, \"9\": {\"9\": 12}, \"19\": {\"19\": 12}, \"34\": {\"34\": 12}, \"2\": {\"2\": 12}, \"1\": {\"1\": 12}, \"54\": {\"54\": 10}, \"47\": {\"47\": 12}, \"49\": {\"49\": 6}, \"38\": {\"38\": 8}, \"33\": {\"33\": 10}, \"31\": {\"31\": 12}, \"37\": {\"37\": 12}, \"4\": {\"4\": 12}, \"57\": {\"57\": 10}, \"15\": {\"15\": 12}, \"20\": {\"20\": 12}, \"30\": {\"30\": 12}, \"3\": {\"3\": 12}, \"17\": {\"17\": 12}, \"39\": {\"39\": 12}, \"41\": {\"41\": 12}, \"24\": {\"24\": 10}, \"40\": {\"40\": 10}, \"23\": {\"23\": 12}, \"13\": {\"13\": 10}, \"0\": {\"0\": 12}, \"11\": {\"11\": 12}, \"48\": {\"48\": 10}, \"5\": {\"5\": 12}, \"12\": {\"12\": 12}, \"52\": {\"52\": 12}, \"16\": {\"16\": 12}, \"25\": {\"25\": 12}, \"28\": {\"28\": 12}, \"18\": {\"18\": 12}, \"32\": {\"32\": 10}, \"50\": {\"50\": 11, \"18\": 1}, \"46\": {\"32\": 2, \"46\": 10}, \"55\": {\"55\": 8}, \"56\": {\"56\": 12}, \"43\": {\"43\": 12}, \"36\": {\"36\": 10}, \"29\": {\"29\": 12}, \"22\": {\"22\": 12}, \"21\": {\"21\": 12}, \"53\": {\"53\": 10}, \"7\": {\"7\": 12}, \"10\": {\"10\": 8}, \"35\": {\"35\": 12}, \"6\": {\"6\": 12}, \"26\": {\"26\": 8}, \"45\": {\"45\": 10}, \"8\": {\"8\": 12}, \"44\": {\"44\": 10}, \"42\": {\"42\": 10}}, \"CORES_5\": {\"17\": {\"17\": 12}, \"3\": {\"3\": 12}, \"44\": {\"44\": 10}, \"1\": {\"1\": 12}, \"41\": {\"41\": 12}, \"5\": {\"5\": 12}, \"2\": {\"2\": 10}, \"46\": {\"46\": 10}, \"35\": {\"35\": 8}, \"26\": {\"26\": 12}, \"54\": {\"54\": 12}, \"36\": {\"36\": 12}, \"49\": {\"49\": 12}, \"19\": {\"19\": 10}, \"43\": {\"43\": 12}, \"28\": {\"28\": 8}, \"39\": {\"39\": 12}, \"16\": {\"16\": 12}, \"38\": {\"38\": 12}, \"47\": {\"47\": 10}, \"29\": {\"29\": 10}, \"56\": {\"56\": 4}, \"20\": {\"20\": 12}, \"22\": {\"22\": 10}, \"14\": {\"14\": 8, \"3\": 1, \"54\": 1, \"46\": 1, \"16\": 1}, \"6\": {\"6\": 10, \"53\": 1, \"45\": 1}, \"52\": {\"52\": 12}, \"18\": {\"18\": 10}, \"27\": {\"27\": 12}, \"48\": {\"48\": 11, \"1\": 1}, \"34\": {\"34\": 12}, \"51\": {\"51\": 12}, \"24\": {\"24\": 10}, \"33\": {\"33\": 12}, \"45\": {\"26\": 1, \"6\": 2, \"45\": 6, \"30\": 2, \"17\": 1}, \"32\": {\"32\": 10}, \"25\": {\"25\": 8}, \"31\": {\"31\": 6}, \"15\": {\"15\": 10}, \"55\": {\"55\": 10}, \"53\": {\"53\": 12}, \"10\": {\"10\": 12}, \"40\": {\"40\": 12}, \"4\": {\"4\": 12}, \"11\": {\"11\": 11, \"15\": 1}, \"42\": {\"42\": 10}, \"8\": {\"8\": 10}, \"23\": {\"23\": 12}, \"50\": {\"50\": 10, \"23\": 1, \"18\": 1}, \"21\": {\"21\": 10}, \"30\": {\"30\": 12}, \"9\": {\"9\": 10}, \"13\": {\"13\": 6}, \"0\": {\"0\": 8}, \"37\": {\"37\": 8}, \"57\": {\"57\": 8}, \"7\": {\"7\": 6}, \"12\": {\"12\": 6}}, \"CORES_1\": {\"42\": {\"42\": 10}, \"32\": {\"32\": 12}, \"56\": {\"56\": 10}, \"39\": {\"39\": 8}, \"36\": {\"36\": 12}, \"16\": {\"16\": 8}, \"25\": {\"25\": 12}, \"47\": {\"47\": 12}, \"15\": {\"31\": 1, \"15\": 11}, \"38\": {\"38\": 12}, \"50\": {\"50\": 9, \"48\": 1}, \"57\": {\"57\": 11, \"1\": 1}, \"9\": {\"9\": 10}, \"31\": {\"31\": 8}, \"11\": {\"11\": 12}, \"46\": {\"46\": 10}, \"53\": {\"53\": 12}, \"24\": {\"24\": 12}, \"5\": {\"5\": 10}, \"34\": {\"34\": 8}, \"27\": {\"27\": 10}, \"14\": {\"14\": 9, \"18\": 3}, \"8\": {\"8\": 12}, \"18\": {\"18\": 12}, \"45\": {\"45\": 12}, \"6\": {\"6\": 10}, \"55\": {\"55\": 10}, \"49\": {\"49\": 12}, \"21\": {\"21\": 8}, \"10\": {\"10\": 12}, \"48\": {\"48\": 12}, \"35\": {\"35\": 12}, \"3\": {\"3\": 12}, \"33\": {\"33\": 12}, \"41\": {\"41\": 12}, \"40\": {\"40\": 12}, \"1\": {\"1\": 12}, \"43\": {\"43\": 12}, \"28\": {\"28\": 12}, \"44\": {\"44\": 10}, \"37\": {\"37\": 12}, \"51\": {\"51\": 12}, \"0\": {\"23\": 1, \"0\": 9}, \"7\": {\"7\": 10}, \"13\": {\"13\": 12}, \"23\": {\"23\": 10}, \"12\": {\"12\": 10}, \"54\": {\"54\": 12}, \"22\": {\"22\": 6}, \"19\": {\"19\": 7, \"1\": 1}, \"29\": {\"29\": 10}, \"20\": {\"20\": 10}, \"52\": {\"52\": 10}, \"17\": {\"17\": 8}, \"4\": {\"4\": 10}, \"30\": {\"30\": 6}, \"26\": {\"26\": 6}, \"2\": {\"2\": 6}}, \"CORES_2\": {\"6\": {\"6\": 8}, \"35\": {\"35\": 10}, \"38\": {\"38\": 10}, \"44\": {\"44\": 10}, \"33\": {\"33\": 12}, \"37\": {\"37\": 12}, \"1\": {\"1\": 12}, \"50\": {\"50\": 12}, \"12\": {\"12\": 12}, \"11\": {\"11\": 8}, \"51\": {\"51\": 12}, \"9\": {\"9\": 12}, \"34\": {\"23\": 1, \"34\": 11}, \"3\": {\"3\": 12}, \"23\": {\"23\": 12}, \"55\": {\"55\": 10}, \"57\": {\"57\": 12}, \"7\": {\"7\": 12}, \"30\": {\"30\": 10}, \"2\": {\"2\": 8, \"23\": 2}, \"27\": {\"27\": 12}, \"14\": {\"14\": 12}, \"0\": {\"0\": 12}, \"17\": {\"17\": 10}, \"5\": {\"5\": 11, \"16\": 1}, \"19\": {\"19\": 10}, \"41\": {\"41\": 12}, \"15\": {\"15\": 10}, \"4\": {\"4\": 12}, \"29\": {\"29\": 12}, \"31\": {\"31\": 10}, \"48\": {\"48\": 12}, \"21\": {\"21\": 11, \"53\": 1}, \"20\": {\"20\": 12}, \"39\": {\"39\": 10}, \"45\": {\"45\": 12}, \"49\": {\"49\": 12}, \"56\": {\"56\": 12}, \"47\": {\"47\": 12}, \"43\": {\"43\": 12}, \"52\": {\"52\": 10}, \"13\": {\"13\": 12}, \"32\": {\"32\": 8}, \"25\": {\"25\": 8}, \"26\": {\"26\": 12}, \"8\": {\"8\": 12}, \"42\": {\"42\": 9, \"1\": 1}, \"54\": {\"54\": 12}, \"28\": {\"28\": 6}, \"40\": {\"40\": 10}, \"22\": {\"22\": 10}, \"10\": {\"10\": 10}, \"53\": {\"53\": 10}, \"24\": {\"24\": 6}, \"36\": {\"36\": 4}, \"46\": {\"46\": 6}, \"16\": {\"16\": 6}, \"18\": {\"18\": 6}}, \"Metehan_1\": {\"9\": {\"9\": 2, \"12\": 4, \"6\": 1, \"4\": 3, \"13\": 2}, \"5\": {\"18\": 3, \"1\": 1, \"10\": 4, \"16\": 1, \"7\": 3}, \"15\": {\"8\": 2, \"15\": 6, \"12\": 2, \"13\": 2}, \"13\": {\"9\": 1, \"13\": 7, \"12\": 2, \"15\": 1, \"11\": 1}, \"11\": {\"16\": 1, \"17\": 6, \"3\": 4, \"11\": 1}, \"7\": {\"0\": 2, \"2\": 3, \"18\": 1, \"10\": 1, \"7\": 4, \"14\": 1}, \"2\": {\"2\": 7, \"10\": 1, \"0\": 1, \"7\": 2, \"5\": 1}, \"6\": {\"4\": 2, \"14\": 5, \"6\": 2, \"0\": 2, \"9\": 1}, \"16\": {\"16\": 6, \"3\": 3, \"10\": 1, \"11\": 2}, \"14\": {\"6\": 4, \"4\": 2, \"0\": 3, \"14\": 2, \"7\": 1}, \"18\": {\"17\": 1, \"10\": 3, \"18\": 6, \"5\": 2}, \"1\": {\"10\": 1, \"2\": 4, \"1\": 6, \"7\": 1}, \"10\": {\"16\": 4, \"18\": 2, \"7\": 2, \"0\": 1, \"10\": 2, \"5\": 1}, \"12\": {\"3\": 2, \"8\": 2, \"12\": 4, \"13\": 4}, \"3\": {\"3\": 3, \"16\": 4, \"6\": 1, \"4\": 1, \"12\": 2, \"14\": 1}, \"8\": {\"15\": 6, \"13\": 1, \"8\": 4, \"16\": 1}, \"0\": {\"14\": 2, \"2\": 1, \"0\": 3, \"7\": 5, \"10\": 1}, \"4\": {\"6\": 3, \"4\": 7, \"14\": 1, \"9\": 1}, \"17\": {\"8\": 4, \"11\": 2, \"17\": 3, \"16\": 3}}, \"Metehan_0\": {\"6\": {\"4\": 7, \"14\": 1, \"6\": 3, \"0\": 1}, \"18\": {\"1\": 1, \"18\": 2, \"0\": 1, \"5\": 6, \"10\": 1, \"17\": 1}, \"2\": {\"2\": 6, \"5\": 1, \"0\": 1, \"1\": 3, \"7\": 1}, \"17\": {\"16\": 2, \"17\": 4, \"14\": 1, \"11\": 4, \"7\": 1}, \"1\": {\"2\": 3, \"5\": 2, \"1\": 5, \"18\": 1, \"7\": 1}, \"4\": {\"4\": 4, \"8\": 1, \"6\": 4, \"14\": 2, \"9\": 1}, \"8\": {\"12\": 4, \"13\": 1, \"8\": 4, \"15\": 1, \"11\": 1, \"17\": 1}, \"9\": {\"13\": 4, \"4\": 4, \"9\": 3, \"11\": 1}, \"7\": {\"10\": 2, \"0\": 5, \"7\": 3, \"5\": 2}, \"15\": {\"15\": 7, \"12\": 2, \"8\": 2, \"13\": 1}, \"12\": {\"8\": 3, \"12\": 3, \"17\": 1, \"13\": 1, \"15\": 1, \"6\": 1, \"3\": 1, \"9\": 1}, \"11\": {\"11\": 6, \"3\": 3, \"17\": 2, \"16\": 1}, \"13\": {\"8\": 3, \"13\": 4, \"12\": 2, \"14\": 1, \"9\": 2}, \"0\": {\"0\": 4, \"10\": 2, \"14\": 2, \"6\": 1, \"7\": 2, \"2\": 1}, \"10\": {\"5\": 4, \"1\": 2, \"7\": 2, \"10\": 1, \"0\": 1, \"14\": 1, \"18\": 1}, \"14\": {\"3\": 3, \"4\": 2, \"6\": 3, \"14\": 3, \"13\": 1}, \"3\": {\"3\": 3, \"14\": 1, \"11\": 3, \"7\": 1, \"6\": 2, \"16\": 1, \"8\": 1}, \"5\": {\"18\": 4, \"5\": 4, \"16\": 1, \"10\": 1, \"2\": 1, \"1\": 1}, \"16\": {\"11\": 2, \"16\": 3, \"7\": 2, \"17\": 2, \"3\": 2, \"10\": 1}}, \"Metehan_2\": {\"1\": {\"1\": 9, \"2\": 3}, \"0\": {\"11\": 1, \"2\": 3, \"0\": 1, \"16\": 3, \"7\": 3, \"10\": 1}, \"13\": {\"12\": 5, \"8\": 2, \"13\": 3, \"6\": 1, \"9\": 1}, \"11\": {\"8\": 5, \"11\": 4, \"17\": 1, \"3\": 1, \"12\": 1}, \"5\": {\"1\": 1, \"18\": 4, \"5\": 2, \"2\": 2, \"0\": 1, \"10\": 2}, \"15\": {\"15\": 7, \"13\": 3, \"8\": 1, \"9\": 1}, \"14\": {\"16\": 2, \"7\": 2, \"2\": 1, \"3\": 2, \"6\": 2, \"14\": 1, \"17\": 1, \"4\": 1}, \"8\": {\"8\": 8, \"15\": 2, \"12\": 1, \"13\": 1}, \"6\": {\"14\": 2, \"4\": 5, \"12\": 1, \"6\": 3, \"3\": 1}, \"3\": {\"11\": 4, \"12\": 1, \"17\": 2, \"10\": 1, \"14\": 1, \"3\": 2, \"7\": 1}, \"10\": {\"0\": 3, \"2\": 1, \"18\": 4, \"7\": 1, \"16\": 1, \"5\": 1, \"1\": 1}, \"7\": {\"2\": 5, \"7\": 1, \"10\": 5, \"5\": 1}, \"17\": {\"3\": 2, \"12\": 1, \"17\": 4, \"11\": 4, \"16\": 1}, \"4\": {\"4\": 6, \"9\": 2, \"6\": 2, \"0\": 1, \"14\": 1}, \"2\": {\"2\": 6, \"1\": 2, \"0\": 2, \"7\": 1, \"10\": 1}, \"9\": {\"13\": 3, \"9\": 7, \"12\": 1, \"3\": 1}, \"12\": {\"12\": 3, \"13\": 2, \"11\": 1, \"8\": 4, \"15\": 1, \"3\": 1}, \"18\": {\"5\": 3, \"18\": 5, \"1\": 1, \"7\": 1, \"16\": 1, \"2\": 1}, \"16\": {\"14\": 1, \"16\": 4, \"18\": 1, \"17\": 2, \"10\": 1, \"11\": 1, \"7\": 1, \"3\": 1}}}, \"per_domain_accuracy\": {\"CORES_3\": {\"accuracy\": 0.9907120743034056, \"source?\": true}, \"CORES_4\": {\"accuracy\": 0.9938080495356038, \"source?\": true}, \"CORES_5\": {\"accuracy\": 0.9736842105263158, \"source?\": true}, \"CORES_1\": {\"accuracy\": 0.9868421052631579, \"source?\": true}, \"CORES_2\": {\"accuracy\": 0.9901315789473685, \"source?\": true}, \"Metehan_1\": {\"accuracy\": 0.32894736842105265, \"source?\": false}, \"Metehan_0\": {\"accuracy\": 0.3157894736842105, \"source?\": false}, \"Metehan_2\": {\"accuracy\": 0.3333333333333333, \"source?\": false}}}, \"history\": {\"epoch_indices\": [1, 2, 3, 4, 5, 6], \"train_label_loss\": [0.1279907594717871, 0.06150464188896772, 0.02733065163790146, 0.03859593464274833, 0.04050009421004425, 0.023804191759201492], \"source_val_label_loss\": [0.025778135284781456, 0.04375244677066803, 0.020434105768799782, 0.01144954189658165, 0.046472761780023575, 0.035957902669906616], \"target_val_label_loss\": [2.7589259147644043, 2.3926031589508057, 2.4708282947540283, 2.536496162414551, 2.506140947341919, 2.6422245502471924], \"source_val_acc_label\": [0.9913350449293966, 0.9871630295250321, 0.9948652118100129, 0.9971116816431322, 0.9916559691912709, 0.9942233632862645], \"target_val_acc_label\": [0.2222222222222222, 0.3260233918128655, 0.34210526315789475, 0.2807017543859649, 0.195906432748538, 0.20614035087719298]}, \"dataset_metrics\": {\"source\": {\"train\": {\"n_unique_x\": 20299, \"n_unique_y\": 58, \"n_batch/episode\": 614}, \"val\": {\"n_unique_x\": 4299, \"n_unique_y\": 58, \"n_batch/episode\": 82}, \"test\": {\"n_unique_x\": 4299, \"n_unique_y\": 58, \"n_batch/episode\": 82}}, \"target\": {\"train\": {\"n_unique_x\": 3990, \"n_unique_y\": 19, \"n_batch/episode\": 126}, \"val\": {\"n_unique_x\": 855, \"n_unique_y\": 19, \"n_batch/episode\": 18}, \"test\": {\"n_unique_x\": 855, \"n_unique_y\": 19, \"n_batch/episode\": 18}}}}'"
      ]
     },
     "execution_count": 29,
     "metadata": {},
     "output_type": "execute_result"
    }
   ],
   "source": [
    "json.dumps(experiment)"
   ]
  }
 ],
 "metadata": {
  "celltoolbar": "Tags",
  "kernelspec": {
   "display_name": "Python 3 (ipykernel)",
   "language": "python",
   "name": "python3"
  },
  "language_info": {
   "codemirror_mode": {
    "name": "ipython",
    "version": 3
   },
   "file_extension": ".py",
   "mimetype": "text/x-python",
   "name": "python",
   "nbconvert_exporter": "python",
   "pygments_lexer": "ipython3",
   "version": "3.8.10"
  },
  "papermill": {
   "default_parameters": {},
   "duration": 143.998812,
   "end_time": "2022-03-07T01:03:00.155407",
   "environment_variables": {},
   "exception": null,
   "input_path": "/mnt/wd500GB/CSC500/csc500-main/csc500-notebooks/templates/tl_ptn_template.ipynb",
   "output_path": "trial.ipynb",
   "parameters": {
    "parameters": {
     "BEST_MODEL_PATH": "./best_model.pth",
     "NUM_LOGS_PER_EPOCH": 10,
     "criteria_for_best": "target_loss",
     "dataset_seed": 1337,
     "datasets": [
      {
       "domain_prefix": "CORES_",
       "domains": [
        1,
        2,
        3,
        4,
        5
       ],
       "episode_transforms": [],
       "labels": [
        "1-10.",
        "1-11.",
        "1-15.",
        "1-16.",
        "1-17.",
        "1-18.",
        "1-19.",
        "10-4.",
        "10-7.",
        "11-1.",
        "11-14.",
        "11-17.",
        "11-20.",
        "11-7.",
        "13-20.",
        "13-8.",
        "14-10.",
        "14-11.",
        "14-14.",
        "14-7.",
        "15-1.",
        "15-20.",
        "16-1.",
        "16-16.",
        "17-10.",
        "17-11.",
        "17-2.",
        "19-1.",
        "19-16.",
        "19-19.",
        "19-20.",
        "19-3.",
        "2-10.",
        "2-11.",
        "2-17.",
        "2-18.",
        "2-20.",
        "2-3.",
        "2-4.",
        "2-5.",
        "2-6.",
        "2-7.",
        "2-8.",
        "3-13.",
        "3-18.",
        "3-3.",
        "4-1.",
        "4-10.",
        "4-11.",
        "4-19.",
        "5-5.",
        "6-15.",
        "7-10.",
        "7-14.",
        "8-18.",
        "8-20.",
        "8-3.",
        "8-8."
       ],
       "num_examples_per_domain_per_label": 100,
       "pickle_path": "/mnt/wd500GB/CSC500/csc500-main/datasets/cores.stratified_ds.2022A.pkl",
       "source_or_target_dataset": "source",
       "x_transforms": [
        "unit_mag"
       ]
      },
      {
       "domain_prefix": "Metehan_",
       "domains": [
        0,
        1,
        2
       ],
       "episode_transforms": [],
       "labels": [
        0,
        1,
        2,
        3,
        4,
        5,
        6,
        7,
        8,
        9,
        10,
        11,
        12,
        13,
        14,
        15,
        16,
        17,
        18
       ],
       "num_examples_per_domain_per_label": 100,
       "pickle_path": "/mnt/wd500GB/CSC500/csc500-main/datasets/metehan.stratified_ds.2022A.pkl",
       "source_or_target_dataset": "target",
       "x_transforms": [
        "unit_mag"
       ]
      }
     ],
     "device": "cuda",
     "experiment_name": "tl_1_cores-metehan",
     "lr": 0.001,
     "n_epoch": 50,
     "n_query": 2,
     "n_shot": 3,
     "n_way": 19,
     "patience": 3,
     "seed": 1337,
     "test_k_factor": 2,
     "torch_default_dtype": "torch.float32",
     "train_k_factor": 3,
     "val_k_factor": 2,
     "x_net": [
      {
       "class": "nnReshape",
       "kargs": {
        "shape": [
         -1,
         1,
         2,
         256
        ]
       }
      },
      {
       "class": "Conv2d",
       "kargs": {
        "bias": false,
        "in_channels": 1,
        "kernel_size": [
         1,
         7
        ],
        "out_channels": 256,
        "padding": [
         0,
         3
        ]
       }
      },
      {
       "class": "ReLU",
       "kargs": {
        "inplace": true
       }
      },
      {
       "class": "BatchNorm2d",
       "kargs": {
        "num_features": 256
       }
      },
      {
       "class": "Conv2d",
       "kargs": {
        "bias": true,
        "in_channels": 256,
        "kernel_size": [
         2,
         7
        ],
        "out_channels": 80,
        "padding": [
         0,
         3
        ]
       }
      },
      {
       "class": "ReLU",
       "kargs": {
        "inplace": true
       }
      },
      {
       "class": "BatchNorm2d",
       "kargs": {
        "num_features": 80
       }
      },
      {
       "class": "Flatten",
       "kargs": {}
      },
      {
       "class": "Linear",
       "kargs": {
        "in_features": 20480,
        "out_features": 256
       }
      },
      {
       "class": "ReLU",
       "kargs": {
        "inplace": true
       }
      },
      {
       "class": "BatchNorm1d",
       "kargs": {
        "num_features": 256
       }
      },
      {
       "class": "Linear",
       "kargs": {
        "in_features": 256,
        "out_features": 256
       }
      }
     ]
    }
   },
   "start_time": "2022-03-07T01:00:36.156595",
   "version": "2.3.4"
  }
 },
 "nbformat": 4,
 "nbformat_minor": 5
}