{
 "cells": [
  {
   "cell_type": "markdown",
   "id": "9fea5f46",
   "metadata": {
    "papermill": {
     "duration": 0.018749,
     "end_time": "2022-03-07T00:56:49.310089",
     "exception": false,
     "start_time": "2022-03-07T00:56:49.291340",
     "status": "completed"
    },
    "tags": []
   },
   "source": [
    "# Transfer Learning Template"
   ]
  },
  {
   "cell_type": "code",
   "execution_count": 1,
   "id": "0902182a",
   "metadata": {
    "execution": {
     "iopub.execute_input": "2022-03-07T00:56:49.345808Z",
     "iopub.status.busy": "2022-03-07T00:56:49.345506Z",
     "iopub.status.idle": "2022-03-07T00:56:50.120486Z",
     "shell.execute_reply": "2022-03-07T00:56:50.119954Z"
    },
    "papermill": {
     "duration": 0.798184,
     "end_time": "2022-03-07T00:56:50.120605",
     "exception": false,
     "start_time": "2022-03-07T00:56:49.322421",
     "status": "completed"
    },
    "tags": []
   },
   "outputs": [],
   "source": [
    "%load_ext autoreload\n",
    "%autoreload 2\n",
    "%matplotlib inline\n",
    "\n",
    "    \n",
    "import os, json, sys, time, random\n",
    "import numpy as np\n",
    "import torch\n",
    "from torch.optim import Adam\n",
    "from  easydict import EasyDict\n",
    "import matplotlib.pyplot as plt\n",
    "\n",
    "from steves_models.steves_ptn import Steves_Prototypical_Network\n",
    "\n",
    "from steves_utils.lazy_iterable_wrapper import Lazy_Iterable_Wrapper\n",
    "from steves_utils.iterable_aggregator import Iterable_Aggregator\n",
    "from steves_utils.ptn_train_eval_test_jig import  PTN_Train_Eval_Test_Jig\n",
    "from steves_utils.torch_sequential_builder import build_sequential\n",
    "from steves_utils.torch_utils import get_dataset_metrics, ptn_confusion_by_domain_over_dataloader\n",
    "from steves_utils.utils_v2 import (per_domain_accuracy_from_confusion, get_datasets_base_path)\n",
    "from steves_utils.PTN.utils import independent_accuracy_assesment\n",
    "\n",
    "from torch.utils.data import DataLoader\n",
    "\n",
    "from steves_utils.stratified_dataset.episodic_accessor import Episodic_Accessor_Factory\n",
    "\n",
    "from steves_utils.ptn_do_report import (\n",
    "    get_loss_curve,\n",
    "    get_results_table,\n",
    "    get_parameters_table,\n",
    "    get_domain_accuracies,\n",
    ")\n",
    "\n",
    "from steves_utils.transforms import get_chained_transform"
   ]
  },
  {
   "cell_type": "markdown",
   "id": "41c840b4",
   "metadata": {
    "papermill": {
     "duration": 0.012979,
     "end_time": "2022-03-07T00:56:50.152339",
     "exception": false,
     "start_time": "2022-03-07T00:56:50.139360",
     "status": "completed"
    },
    "tags": []
   },
   "source": [
    "# Allowed Parameters\n",
    "These are allowed parameters, not defaults\n",
    "Each of these values need to be present in the injected parameters (the notebook will raise an exception if they are not present)\n",
    "\n",
    "Papermill uses the cell tag \"parameters\" to inject the real parameters below this cell.\n",
    "Enable tags to see what I mean"
   ]
  },
  {
   "cell_type": "code",
   "execution_count": 2,
   "id": "fd44eb83",
   "metadata": {
    "execution": {
     "iopub.execute_input": "2022-03-07T00:56:50.180939Z",
     "iopub.status.busy": "2022-03-07T00:56:50.180665Z",
     "iopub.status.idle": "2022-03-07T00:56:50.193500Z",
     "shell.execute_reply": "2022-03-07T00:56:50.193008Z"
    },
    "papermill": {
     "duration": 0.028537,
     "end_time": "2022-03-07T00:56:50.193605",
     "exception": false,
     "start_time": "2022-03-07T00:56:50.165068",
     "status": "completed"
    },
    "tags": []
   },
   "outputs": [],
   "source": [
    "required_parameters = {\n",
    "    \"experiment_name\",\n",
    "    \"lr\",\n",
    "    \"device\",\n",
    "    \"seed\",\n",
    "    \"dataset_seed\",\n",
    "    \"n_shot\",\n",
    "    \"n_query\",\n",
    "    \"n_way\",\n",
    "    \"train_k_factor\",\n",
    "    \"val_k_factor\",\n",
    "    \"test_k_factor\",\n",
    "    \"n_epoch\",\n",
    "    \"patience\",\n",
    "    \"criteria_for_best\",\n",
    "    \"x_net\",\n",
    "    \"datasets\",\n",
    "    \"torch_default_dtype\",\n",
    "    \"NUM_LOGS_PER_EPOCH\",\n",
    "    \"BEST_MODEL_PATH\",\n",
    "}"
   ]
  },
  {
   "cell_type": "code",
   "execution_count": 3,
   "id": "fa3f0049",
   "metadata": {
    "execution": {
     "iopub.execute_input": "2022-03-07T00:56:50.234491Z",
     "iopub.status.busy": "2022-03-07T00:56:50.234190Z",
     "iopub.status.idle": "2022-03-07T00:56:50.250268Z",
     "shell.execute_reply": "2022-03-07T00:56:50.249786Z"
    },
    "papermill": {
     "duration": 0.039117,
     "end_time": "2022-03-07T00:56:50.250378",
     "exception": false,
     "start_time": "2022-03-07T00:56:50.211261",
     "status": "completed"
    },
    "tags": [
     "parameters"
    ]
   },
   "outputs": [],
   "source": [
    "from steves_utils.CORES.utils import (\n",
    "    ALL_NODES,\n",
    "    ALL_NODES_MINIMUM_1000_EXAMPLES,\n",
    "    ALL_DAYS\n",
    ")\n",
    "\n",
    "from steves_utils.ORACLE.utils_v2 import (\n",
    "    ALL_DISTANCES_FEET_NARROWED,\n",
    "    ALL_RUNS,\n",
    "    ALL_SERIAL_NUMBERS,\n",
    ")\n",
    "\n",
    "standalone_parameters = {}\n",
    "standalone_parameters[\"experiment_name\"] = \"STANDALONE PTN\"\n",
    "standalone_parameters[\"lr\"] = 0.001\n",
    "standalone_parameters[\"device\"] = \"cuda\"\n",
    "\n",
    "standalone_parameters[\"seed\"] = 1337\n",
    "standalone_parameters[\"dataset_seed\"] = 1337\n",
    "\n",
    "standalone_parameters[\"n_way\"] = 8\n",
    "standalone_parameters[\"n_shot\"] = 3\n",
    "standalone_parameters[\"n_query\"]  = 2\n",
    "standalone_parameters[\"train_k_factor\"] = 1\n",
    "standalone_parameters[\"val_k_factor\"] = 2\n",
    "standalone_parameters[\"test_k_factor\"] = 2\n",
    "\n",
    "\n",
    "standalone_parameters[\"n_epoch\"] = 50\n",
    "\n",
    "standalone_parameters[\"patience\"] = 10\n",
    "standalone_parameters[\"criteria_for_best\"] = \"source_loss\"\n",
    "\n",
    "standalone_parameters[\"datasets\"] = [\n",
    "    {\n",
    "        \"labels\": ALL_SERIAL_NUMBERS,\n",
    "        \"domains\": ALL_DISTANCES_FEET_NARROWED,\n",
    "        \"num_examples_per_domain_per_label\": 100,\n",
    "        \"pickle_path\": os.path.join(get_datasets_base_path(), \"oracle.Run1_framed_2000Examples_stratified_ds.2022A.pkl\"),\n",
    "        \"source_or_target_dataset\": \"source\",\n",
    "        \"x_transforms\": [\"unit_mag\", \"minus_two\"],\n",
    "        \"episode_transforms\": [],\n",
    "        \"domain_prefix\": \"ORACLE_\"\n",
    "    },\n",
    "    {\n",
    "        \"labels\": ALL_NODES,\n",
    "        \"domains\": ALL_DAYS,\n",
    "        \"num_examples_per_domain_per_label\": 100,\n",
    "        \"pickle_path\": os.path.join(get_datasets_base_path(), \"cores.stratified_ds.2022A.pkl\"),\n",
    "        \"source_or_target_dataset\": \"target\",\n",
    "        \"x_transforms\": [\"unit_power\", \"times_zero\"],\n",
    "        \"episode_transforms\": [],\n",
    "        \"domain_prefix\": \"CORES_\"\n",
    "    }   \n",
    "]\n",
    "\n",
    "standalone_parameters[\"torch_default_dtype\"] = \"torch.float32\" \n",
    "\n",
    "\n",
    "\n",
    "standalone_parameters[\"x_net\"] =     [\n",
    "    {\"class\": \"nnReshape\", \"kargs\": {\"shape\":[-1, 1, 2, 256]}},\n",
    "    {\"class\": \"Conv2d\", \"kargs\": { \"in_channels\":1, \"out_channels\":256, \"kernel_size\":(1,7), \"bias\":False, \"padding\":(0,3), },},\n",
    "    {\"class\": \"ReLU\", \"kargs\": {\"inplace\": True}},\n",
    "    {\"class\": \"BatchNorm2d\", \"kargs\": {\"num_features\":256}},\n",
    "\n",
    "    {\"class\": \"Conv2d\", \"kargs\": { \"in_channels\":256, \"out_channels\":80, \"kernel_size\":(2,7), \"bias\":True, \"padding\":(0,3), },},\n",
    "    {\"class\": \"ReLU\", \"kargs\": {\"inplace\": True}},\n",
    "    {\"class\": \"BatchNorm2d\", \"kargs\": {\"num_features\":80}},\n",
    "    {\"class\": \"Flatten\", \"kargs\": {}},\n",
    "\n",
    "    {\"class\": \"Linear\", \"kargs\": {\"in_features\": 80*256, \"out_features\": 256}}, # 80 units per IQ pair\n",
    "    {\"class\": \"ReLU\", \"kargs\": {\"inplace\": True}},\n",
    "    {\"class\": \"BatchNorm1d\", \"kargs\": {\"num_features\":256}},\n",
    "\n",
    "    {\"class\": \"Linear\", \"kargs\": {\"in_features\": 256, \"out_features\": 256}},\n",
    "]\n",
    "\n",
    "# Parameters relevant to results\n",
    "# These parameters will basically never need to change\n",
    "standalone_parameters[\"NUM_LOGS_PER_EPOCH\"] = 10\n",
    "standalone_parameters[\"BEST_MODEL_PATH\"] = \"./best_model.pth\"\n",
    "\n",
    "\n",
    "\n",
    "\n"
   ]
  },
  {
   "cell_type": "code",
   "execution_count": 4,
   "id": "19acb5ea",
   "metadata": {
    "execution": {
     "iopub.execute_input": "2022-03-07T00:56:50.293551Z",
     "iopub.status.busy": "2022-03-07T00:56:50.292904Z",
     "iopub.status.idle": "2022-03-07T00:56:50.306060Z",
     "shell.execute_reply": "2022-03-07T00:56:50.305577Z"
    },
    "papermill": {
     "duration": 0.037348,
     "end_time": "2022-03-07T00:56:50.306170",
     "exception": false,
     "start_time": "2022-03-07T00:56:50.268822",
     "status": "completed"
    },
    "tags": [
     "injected-parameters"
    ]
   },
   "outputs": [],
   "source": [
    "# Parameters\n",
    "parameters = {\n",
    "    \"experiment_name\": \"tl_1_cores-metehan\",\n",
    "    \"device\": \"cuda\",\n",
    "    \"lr\": 0.001,\n",
    "    \"seed\": 1337,\n",
    "    \"dataset_seed\": 1337,\n",
    "    \"n_shot\": 3,\n",
    "    \"n_query\": 2,\n",
    "    \"train_k_factor\": 3,\n",
    "    \"val_k_factor\": 2,\n",
    "    \"test_k_factor\": 2,\n",
    "    \"torch_default_dtype\": \"torch.float32\",\n",
    "    \"n_epoch\": 50,\n",
    "    \"patience\": 3,\n",
    "    \"criteria_for_best\": \"target_loss\",\n",
    "    \"x_net\": [\n",
    "        {\"class\": \"nnReshape\", \"kargs\": {\"shape\": [-1, 1, 2, 256]}},\n",
    "        {\n",
    "            \"class\": \"Conv2d\",\n",
    "            \"kargs\": {\n",
    "                \"in_channels\": 1,\n",
    "                \"out_channels\": 256,\n",
    "                \"kernel_size\": [1, 7],\n",
    "                \"bias\": False,\n",
    "                \"padding\": [0, 3],\n",
    "            },\n",
    "        },\n",
    "        {\"class\": \"ReLU\", \"kargs\": {\"inplace\": True}},\n",
    "        {\"class\": \"BatchNorm2d\", \"kargs\": {\"num_features\": 256}},\n",
    "        {\n",
    "            \"class\": \"Conv2d\",\n",
    "            \"kargs\": {\n",
    "                \"in_channels\": 256,\n",
    "                \"out_channels\": 80,\n",
    "                \"kernel_size\": [2, 7],\n",
    "                \"bias\": True,\n",
    "                \"padding\": [0, 3],\n",
    "            },\n",
    "        },\n",
    "        {\"class\": \"ReLU\", \"kargs\": {\"inplace\": True}},\n",
    "        {\"class\": \"BatchNorm2d\", \"kargs\": {\"num_features\": 80}},\n",
    "        {\"class\": \"Flatten\", \"kargs\": {}},\n",
    "        {\"class\": \"Linear\", \"kargs\": {\"in_features\": 20480, \"out_features\": 256}},\n",
    "        {\"class\": \"ReLU\", \"kargs\": {\"inplace\": True}},\n",
    "        {\"class\": \"BatchNorm1d\", \"kargs\": {\"num_features\": 256}},\n",
    "        {\"class\": \"Linear\", \"kargs\": {\"in_features\": 256, \"out_features\": 256}},\n",
    "    ],\n",
    "    \"NUM_LOGS_PER_EPOCH\": 10,\n",
    "    \"BEST_MODEL_PATH\": \"./best_model.pth\",\n",
    "    \"n_way\": 19,\n",
    "    \"datasets\": [\n",
    "        {\n",
    "            \"labels\": [\n",
    "                \"1-10.\",\n",
    "                \"1-11.\",\n",
    "                \"1-15.\",\n",
    "                \"1-16.\",\n",
    "                \"1-17.\",\n",
    "                \"1-18.\",\n",
    "                \"1-19.\",\n",
    "                \"10-4.\",\n",
    "                \"10-7.\",\n",
    "                \"11-1.\",\n",
    "                \"11-14.\",\n",
    "                \"11-17.\",\n",
    "                \"11-20.\",\n",
    "                \"11-7.\",\n",
    "                \"13-20.\",\n",
    "                \"13-8.\",\n",
    "                \"14-10.\",\n",
    "                \"14-11.\",\n",
    "                \"14-14.\",\n",
    "                \"14-7.\",\n",
    "                \"15-1.\",\n",
    "                \"15-20.\",\n",
    "                \"16-1.\",\n",
    "                \"16-16.\",\n",
    "                \"17-10.\",\n",
    "                \"17-11.\",\n",
    "                \"17-2.\",\n",
    "                \"19-1.\",\n",
    "                \"19-16.\",\n",
    "                \"19-19.\",\n",
    "                \"19-20.\",\n",
    "                \"19-3.\",\n",
    "                \"2-10.\",\n",
    "                \"2-11.\",\n",
    "                \"2-17.\",\n",
    "                \"2-18.\",\n",
    "                \"2-20.\",\n",
    "                \"2-3.\",\n",
    "                \"2-4.\",\n",
    "                \"2-5.\",\n",
    "                \"2-6.\",\n",
    "                \"2-7.\",\n",
    "                \"2-8.\",\n",
    "                \"3-13.\",\n",
    "                \"3-18.\",\n",
    "                \"3-3.\",\n",
    "                \"4-1.\",\n",
    "                \"4-10.\",\n",
    "                \"4-11.\",\n",
    "                \"4-19.\",\n",
    "                \"5-5.\",\n",
    "                \"6-15.\",\n",
    "                \"7-10.\",\n",
    "                \"7-14.\",\n",
    "                \"8-18.\",\n",
    "                \"8-20.\",\n",
    "                \"8-3.\",\n",
    "                \"8-8.\",\n",
    "            ],\n",
    "            \"domains\": [1, 2, 3, 4, 5],\n",
    "            \"num_examples_per_domain_per_label\": 100,\n",
    "            \"pickle_path\": \"/mnt/wd500GB/CSC500/csc500-main/datasets/cores.stratified_ds.2022A.pkl\",\n",
    "            \"source_or_target_dataset\": \"source\",\n",
    "            \"x_transforms\": [\"unit_power\"],\n",
    "            \"episode_transforms\": [],\n",
    "            \"domain_prefix\": \"CORES_\",\n",
    "        },\n",
    "        {\n",
    "            \"labels\": [\n",
    "                0,\n",
    "                1,\n",
    "                2,\n",
    "                3,\n",
    "                4,\n",
    "                5,\n",
    "                6,\n",
    "                7,\n",
    "                8,\n",
    "                9,\n",
    "                10,\n",
    "                11,\n",
    "                12,\n",
    "                13,\n",
    "                14,\n",
    "                15,\n",
    "                16,\n",
    "                17,\n",
    "                18,\n",
    "            ],\n",
    "            \"domains\": [0, 1, 2],\n",
    "            \"num_examples_per_domain_per_label\": 100,\n",
    "            \"pickle_path\": \"/mnt/wd500GB/CSC500/csc500-main/datasets/metehan.stratified_ds.2022A.pkl\",\n",
    "            \"source_or_target_dataset\": \"target\",\n",
    "            \"x_transforms\": [\"unit_power\"],\n",
    "            \"episode_transforms\": [],\n",
    "            \"domain_prefix\": \"Metehan_\",\n",
    "        },\n",
    "    ],\n",
    "}\n"
   ]
  },
  {
   "cell_type": "code",
   "execution_count": 5,
   "id": "8fa1cc33",
   "metadata": {
    "execution": {
     "iopub.execute_input": "2022-03-07T00:56:50.339800Z",
     "iopub.status.busy": "2022-03-07T00:56:50.339534Z",
     "iopub.status.idle": "2022-03-07T00:56:50.352029Z",
     "shell.execute_reply": "2022-03-07T00:56:50.351532Z"
    },
    "papermill": {
     "duration": 0.028314,
     "end_time": "2022-03-07T00:56:50.352131",
     "exception": false,
     "start_time": "2022-03-07T00:56:50.323817",
     "status": "completed"
    },
    "tags": []
   },
   "outputs": [],
   "source": [
    "# Set this to True if you want to run this template directly\n",
    "STANDALONE = False\n",
    "if STANDALONE:\n",
    "    print(\"parameters not injected, running with standalone_parameters\")\n",
    "    parameters = standalone_parameters\n",
    "\n",
    "if not 'parameters' in locals() and not 'parameters' in globals():\n",
    "    raise Exception(\"Parameter injection failed\")\n",
    "\n",
    "#Use an easy dict for all the parameters\n",
    "p = EasyDict(parameters)\n",
    "\n",
    "supplied_keys = set(p.keys())\n",
    "\n",
    "if  supplied_keys != required_parameters:\n",
    "    print(\"Parameters are incorrect\")\n",
    "    if len(supplied_keys - required_parameters)>0: print(\"Shouldn't have:\", str(supplied_keys - required_parameters))\n",
    "    if len(required_parameters - supplied_keys)>0: print(\"Need to have:\", str(required_parameters - supplied_keys))\n",
    "    raise RuntimeError(\"Parameters are incorrect\")\n",
    "\n"
   ]
  },
  {
   "cell_type": "code",
   "execution_count": 6,
   "id": "3a028d58",
   "metadata": {
    "execution": {
     "iopub.execute_input": "2022-03-07T00:56:50.386430Z",
     "iopub.status.busy": "2022-03-07T00:56:50.386007Z",
     "iopub.status.idle": "2022-03-07T00:56:50.399656Z",
     "shell.execute_reply": "2022-03-07T00:56:50.399203Z"
    },
    "papermill": {
     "duration": 0.028931,
     "end_time": "2022-03-07T00:56:50.399769",
     "exception": false,
     "start_time": "2022-03-07T00:56:50.370838",
     "status": "completed"
    },
    "tags": []
   },
   "outputs": [],
   "source": [
    "###################################\n",
    "# Set the RNGs and make it all deterministic\n",
    "###################################\n",
    "np.random.seed(p.seed)\n",
    "random.seed(p.seed)\n",
    "torch.manual_seed(p.seed)\n",
    "\n",
    "torch.use_deterministic_algorithms(True) "
   ]
  },
  {
   "cell_type": "code",
   "execution_count": 7,
   "id": "b691acf6",
   "metadata": {
    "execution": {
     "iopub.execute_input": "2022-03-07T00:56:50.432445Z",
     "iopub.status.busy": "2022-03-07T00:56:50.432164Z",
     "iopub.status.idle": "2022-03-07T00:56:50.444850Z",
     "shell.execute_reply": "2022-03-07T00:56:50.444453Z"
    },
    "papermill": {
     "duration": 0.028173,
     "end_time": "2022-03-07T00:56:50.444949",
     "exception": false,
     "start_time": "2022-03-07T00:56:50.416776",
     "status": "completed"
    },
    "tags": []
   },
   "outputs": [],
   "source": [
    "###########################################\n",
    "# The stratified datasets honor this\n",
    "###########################################\n",
    "torch.set_default_dtype(eval(p.torch_default_dtype))"
   ]
  },
  {
   "cell_type": "code",
   "execution_count": 8,
   "id": "b5fba671",
   "metadata": {
    "execution": {
     "iopub.execute_input": "2022-03-07T00:56:50.477538Z",
     "iopub.status.busy": "2022-03-07T00:56:50.477170Z",
     "iopub.status.idle": "2022-03-07T00:56:50.513403Z",
     "shell.execute_reply": "2022-03-07T00:56:50.513813Z"
    },
    "papermill": {
     "duration": 0.051134,
     "end_time": "2022-03-07T00:56:50.513922",
     "exception": false,
     "start_time": "2022-03-07T00:56:50.462788",
     "status": "completed"
    },
    "tags": []
   },
   "outputs": [],
   "source": [
    "###################################\n",
    "# Build the network(s)\n",
    "# Note: It's critical to do this AFTER setting the RNG\n",
    "###################################\n",
    "x_net = build_sequential(p.x_net)"
   ]
  },
  {
   "cell_type": "code",
   "execution_count": 9,
   "id": "5d7e61cc",
   "metadata": {
    "execution": {
     "iopub.execute_input": "2022-03-07T00:56:50.546674Z",
     "iopub.status.busy": "2022-03-07T00:56:50.546417Z",
     "iopub.status.idle": "2022-03-07T00:56:50.559183Z",
     "shell.execute_reply": "2022-03-07T00:56:50.559556Z"
    },
    "papermill": {
     "duration": 0.028416,
     "end_time": "2022-03-07T00:56:50.559666",
     "exception": false,
     "start_time": "2022-03-07T00:56:50.531250",
     "status": "completed"
    },
    "tags": []
   },
   "outputs": [],
   "source": [
    "start_time_secs = time.time()"
   ]
  },
  {
   "cell_type": "code",
   "execution_count": 10,
   "id": "c6b67dfd",
   "metadata": {
    "execution": {
     "iopub.execute_input": "2022-03-07T00:56:50.591630Z",
     "iopub.status.busy": "2022-03-07T00:56:50.591375Z",
     "iopub.status.idle": "2022-03-07T00:56:50.604420Z",
     "shell.execute_reply": "2022-03-07T00:56:50.604110Z"
    },
    "papermill": {
     "duration": 0.028533,
     "end_time": "2022-03-07T00:56:50.604493",
     "exception": false,
     "start_time": "2022-03-07T00:56:50.575960",
     "status": "completed"
    },
    "tags": []
   },
   "outputs": [],
   "source": [
    "p.domains_source = []\n",
    "p.domains_target = []\n",
    "\n",
    "\n",
    "train_original_source = []\n",
    "val_original_source   = []\n",
    "test_original_source  = []\n",
    "\n",
    "train_original_target = []\n",
    "val_original_target   = []\n",
    "test_original_target  = []"
   ]
  },
  {
   "cell_type": "code",
   "execution_count": 11,
   "id": "e3d9c3d3",
   "metadata": {
    "execution": {
     "iopub.execute_input": "2022-03-07T00:56:50.635342Z",
     "iopub.status.busy": "2022-03-07T00:56:50.635089Z",
     "iopub.status.idle": "2022-03-07T00:56:50.647484Z",
     "shell.execute_reply": "2022-03-07T00:56:50.647236Z"
    },
    "papermill": {
     "duration": 0.026653,
     "end_time": "2022-03-07T00:56:50.647535",
     "exception": false,
     "start_time": "2022-03-07T00:56:50.620882",
     "status": "completed"
    },
    "tags": []
   },
   "outputs": [],
   "source": [
    "# global_x_transform_func = lambda x: normalize(x.to(torch.get_default_dtype()), \"unit_power\") # unit_power, unit_mag\n",
    "# global_x_transform_func = lambda x: normalize(x, \"unit_power\") # unit_power, unit_mag"
   ]
  },
  {
   "cell_type": "code",
   "execution_count": 12,
   "id": "acb78fd2",
   "metadata": {
    "execution": {
     "iopub.execute_input": "2022-03-07T00:56:50.685664Z",
     "iopub.status.busy": "2022-03-07T00:56:50.685369Z",
     "iopub.status.idle": "2022-03-07T00:56:50.696099Z",
     "shell.execute_reply": "2022-03-07T00:56:50.696496Z"
    },
    "papermill": {
     "duration": 0.031828,
     "end_time": "2022-03-07T00:56:50.696614",
     "exception": false,
     "start_time": "2022-03-07T00:56:50.664786",
     "status": "completed"
    },
    "tags": []
   },
   "outputs": [],
   "source": [
    "def add_dataset(\n",
    "    labels,\n",
    "    domains,\n",
    "    pickle_path,\n",
    "    x_transforms,\n",
    "    episode_transforms,\n",
    "    domain_prefix,\n",
    "    num_examples_per_domain_per_label,\n",
    "    source_or_target_dataset:str,\n",
    "    iterator_seed=p.seed,\n",
    "    dataset_seed=p.dataset_seed,\n",
    "    n_shot=p.n_shot,\n",
    "    n_way=p.n_way,\n",
    "    n_query=p.n_query,\n",
    "    train_val_test_k_factors=(p.train_k_factor,p.val_k_factor,p.test_k_factor),\n",
    "):\n",
    "   \n",
    "    if x_transforms == []: x_transform = None\n",
    "    else: x_transform = get_chained_transform(x_transforms)\n",
    "    \n",
    "    if episode_transforms == []: episode_transform = None\n",
    "    else: raise Exception(\"episode_transforms not implemented\")\n",
    "    \n",
    "    episode_transform = lambda tup, _prefix=domain_prefix: (_prefix + str(tup[0]), tup[1])\n",
    "\n",
    "\n",
    "    eaf = Episodic_Accessor_Factory(\n",
    "        labels=labels,\n",
    "        domains=domains,\n",
    "        num_examples_per_domain_per_label=num_examples_per_domain_per_label,\n",
    "        iterator_seed=iterator_seed,\n",
    "        dataset_seed=dataset_seed,\n",
    "        n_shot=n_shot,\n",
    "        n_way=n_way,\n",
    "        n_query=n_query,\n",
    "        train_val_test_k_factors=train_val_test_k_factors,\n",
    "        pickle_path=pickle_path,\n",
    "        x_transform_func=x_transform,\n",
    "    )\n",
    "\n",
    "    train, val, test = eaf.get_train(), eaf.get_val(), eaf.get_test()\n",
    "    train = Lazy_Iterable_Wrapper(train, episode_transform)\n",
    "    val = Lazy_Iterable_Wrapper(val, episode_transform)\n",
    "    test = Lazy_Iterable_Wrapper(test, episode_transform)\n",
    "\n",
    "    if source_or_target_dataset==\"source\":\n",
    "        train_original_source.append(train)\n",
    "        val_original_source.append(val)\n",
    "        test_original_source.append(test)\n",
    "\n",
    "        p.domains_source.extend(\n",
    "            [domain_prefix + str(u) for u in domains]\n",
    "        )\n",
    "    elif source_or_target_dataset==\"target\":\n",
    "        train_original_target.append(train)\n",
    "        val_original_target.append(val)\n",
    "        test_original_target.append(test)\n",
    "        p.domains_target.extend(\n",
    "            [domain_prefix + str(u) for u in domains]\n",
    "        )\n",
    "    else:\n",
    "        raise Exception(f\"invalid source_or_target_dataset: {source_or_target_dataset}\")\n",
    "    "
   ]
  },
  {
   "cell_type": "code",
   "execution_count": 13,
   "id": "fe266617",
   "metadata": {
    "execution": {
     "iopub.execute_input": "2022-03-07T00:56:50.728177Z",
     "iopub.status.busy": "2022-03-07T00:56:50.727924Z",
     "iopub.status.idle": "2022-03-07T00:56:53.156339Z",
     "shell.execute_reply": "2022-03-07T00:56:53.155866Z"
    },
    "papermill": {
     "duration": 2.443543,
     "end_time": "2022-03-07T00:56:53.156448",
     "exception": false,
     "start_time": "2022-03-07T00:56:50.712905",
     "status": "completed"
    },
    "tags": []
   },
   "outputs": [],
   "source": [
    "for ds in p.datasets:\n",
    "    add_dataset(**ds)"
   ]
  },
  {
   "cell_type": "code",
   "execution_count": 14,
   "id": "b90d65ac",
   "metadata": {
    "execution": {
     "iopub.execute_input": "2022-03-07T00:56:53.191654Z",
     "iopub.status.busy": "2022-03-07T00:56:53.191362Z",
     "iopub.status.idle": "2022-03-07T00:56:53.204222Z",
     "shell.execute_reply": "2022-03-07T00:56:53.203882Z"
    },
    "papermill": {
     "duration": 0.028955,
     "end_time": "2022-03-07T00:56:53.204300",
     "exception": false,
     "start_time": "2022-03-07T00:56:53.175345",
     "status": "completed"
    },
    "tags": []
   },
   "outputs": [],
   "source": [
    "# from steves_utils.CORES.utils import (\n",
    "#     ALL_NODES,\n",
    "#     ALL_NODES_MINIMUM_1000_EXAMPLES,\n",
    "#     ALL_DAYS\n",
    "# )\n",
    "\n",
    "# add_dataset(\n",
    "#     labels=ALL_NODES,\n",
    "#     domains = ALL_DAYS,\n",
    "#     num_examples_per_domain_per_label=100,\n",
    "#     pickle_path=os.path.join(get_datasets_base_path(), \"cores.stratified_ds.2022A.pkl\"),\n",
    "#     source_or_target_dataset=\"target\",\n",
    "#     x_transform_func=global_x_transform_func,\n",
    "#     domain_modifier=lambda u: f\"cores_{u}\"\n",
    "# )"
   ]
  },
  {
   "cell_type": "code",
   "execution_count": 15,
   "id": "76db484d",
   "metadata": {
    "execution": {
     "iopub.execute_input": "2022-03-07T00:56:53.239311Z",
     "iopub.status.busy": "2022-03-07T00:56:53.239002Z",
     "iopub.status.idle": "2022-03-07T00:56:53.251611Z",
     "shell.execute_reply": "2022-03-07T00:56:53.252090Z"
    },
    "papermill": {
     "duration": 0.028827,
     "end_time": "2022-03-07T00:56:53.252272",
     "exception": false,
     "start_time": "2022-03-07T00:56:53.223445",
     "status": "completed"
    },
    "tags": []
   },
   "outputs": [],
   "source": [
    "# from steves_utils.ORACLE.utils_v2 import (\n",
    "#     ALL_DISTANCES_FEET,\n",
    "#     ALL_RUNS,\n",
    "#     ALL_SERIAL_NUMBERS,\n",
    "# )\n",
    "\n",
    "\n",
    "# add_dataset(\n",
    "#     labels=ALL_SERIAL_NUMBERS,\n",
    "#     domains = list(set(ALL_DISTANCES_FEET) - {2,62}),\n",
    "#     num_examples_per_domain_per_label=100,\n",
    "#     pickle_path=os.path.join(get_datasets_base_path(), \"oracle.Run2_framed_2000Examples_stratified_ds.2022A.pkl\"),\n",
    "#     source_or_target_dataset=\"source\",\n",
    "#     x_transform_func=global_x_transform_func,\n",
    "#     domain_modifier=lambda u: f\"oracle1_{u}\"\n",
    "# )\n"
   ]
  },
  {
   "cell_type": "code",
   "execution_count": 16,
   "id": "97dea9d2",
   "metadata": {
    "execution": {
     "iopub.execute_input": "2022-03-07T00:56:53.287969Z",
     "iopub.status.busy": "2022-03-07T00:56:53.287710Z",
     "iopub.status.idle": "2022-03-07T00:56:53.301604Z",
     "shell.execute_reply": "2022-03-07T00:56:53.301982Z"
    },
    "papermill": {
     "duration": 0.030553,
     "end_time": "2022-03-07T00:56:53.302096",
     "exception": false,
     "start_time": "2022-03-07T00:56:53.271543",
     "status": "completed"
    },
    "tags": []
   },
   "outputs": [],
   "source": [
    "# from steves_utils.ORACLE.utils_v2 import (\n",
    "#     ALL_DISTANCES_FEET,\n",
    "#     ALL_RUNS,\n",
    "#     ALL_SERIAL_NUMBERS,\n",
    "# )\n",
    "\n",
    "\n",
    "# add_dataset(\n",
    "#     labels=ALL_SERIAL_NUMBERS,\n",
    "#     domains = list(set(ALL_DISTANCES_FEET) - {2,62,56}),\n",
    "#     num_examples_per_domain_per_label=100,\n",
    "#     pickle_path=os.path.join(get_datasets_base_path(), \"oracle.Run2_framed_2000Examples_stratified_ds.2022A.pkl\"),\n",
    "#     source_or_target_dataset=\"source\",\n",
    "#     x_transform_func=global_x_transform_func,\n",
    "#     domain_modifier=lambda u: f\"oracle2_{u}\"\n",
    "# )"
   ]
  },
  {
   "cell_type": "code",
   "execution_count": 17,
   "id": "6f289866",
   "metadata": {
    "execution": {
     "iopub.execute_input": "2022-03-07T00:56:53.335249Z",
     "iopub.status.busy": "2022-03-07T00:56:53.334993Z",
     "iopub.status.idle": "2022-03-07T00:56:53.347917Z",
     "shell.execute_reply": "2022-03-07T00:56:53.347551Z"
    },
    "papermill": {
     "duration": 0.028095,
     "end_time": "2022-03-07T00:56:53.348020",
     "exception": false,
     "start_time": "2022-03-07T00:56:53.319925",
     "status": "completed"
    },
    "tags": []
   },
   "outputs": [],
   "source": [
    "# add_dataset(\n",
    "#     labels=list(range(19)),\n",
    "#     domains = [0,1,2],\n",
    "#     num_examples_per_domain_per_label=100,\n",
    "#     pickle_path=os.path.join(get_datasets_base_path(), \"metehan.stratified_ds.2022A.pkl\"),\n",
    "#     source_or_target_dataset=\"target\",\n",
    "#     x_transform_func=global_x_transform_func,\n",
    "#     domain_modifier=lambda u: f\"met_{u}\"\n",
    "# )"
   ]
  },
  {
   "cell_type": "code",
   "execution_count": 18,
   "id": "86a863c3",
   "metadata": {
    "execution": {
     "iopub.execute_input": "2022-03-07T00:56:53.382109Z",
     "iopub.status.busy": "2022-03-07T00:56:53.381838Z",
     "iopub.status.idle": "2022-03-07T00:56:53.395325Z",
     "shell.execute_reply": "2022-03-07T00:56:53.394959Z"
    },
    "papermill": {
     "duration": 0.029251,
     "end_time": "2022-03-07T00:56:53.395400",
     "exception": false,
     "start_time": "2022-03-07T00:56:53.366149",
     "status": "completed"
    },
    "tags": []
   },
   "outputs": [],
   "source": [
    "# # from steves_utils.wisig.utils import (\n",
    "# #     ALL_NODES_MINIMUM_100_EXAMPLES,\n",
    "# #     ALL_NODES_MINIMUM_500_EXAMPLES,\n",
    "# #     ALL_NODES_MINIMUM_1000_EXAMPLES,\n",
    "# #     ALL_DAYS\n",
    "# # )\n",
    "\n",
    "# import steves_utils.wisig.utils as wisig\n",
    "\n",
    "\n",
    "# add_dataset(\n",
    "#     labels=wisig.ALL_NODES_MINIMUM_100_EXAMPLES,\n",
    "#     domains = wisig.ALL_DAYS,\n",
    "#     num_examples_per_domain_per_label=100,\n",
    "#     pickle_path=os.path.join(get_datasets_base_path(), \"wisig.node3-19.stratified_ds.2022A.pkl\"),\n",
    "#     source_or_target_dataset=\"target\",\n",
    "#     x_transform_func=global_x_transform_func,\n",
    "#     domain_modifier=lambda u: f\"wisig_{u}\"\n",
    "# )"
   ]
  },
  {
   "cell_type": "code",
   "execution_count": 19,
   "id": "fd5442bc",
   "metadata": {
    "execution": {
     "iopub.execute_input": "2022-03-07T00:56:53.431482Z",
     "iopub.status.busy": "2022-03-07T00:56:53.431218Z",
     "iopub.status.idle": "2022-03-07T00:56:53.441629Z",
     "shell.execute_reply": "2022-03-07T00:56:53.441270Z"
    },
    "papermill": {
     "duration": 0.027362,
     "end_time": "2022-03-07T00:56:53.441704",
     "exception": false,
     "start_time": "2022-03-07T00:56:53.414342",
     "status": "completed"
    },
    "tags": []
   },
   "outputs": [],
   "source": [
    "###################################\n",
    "# Build the dataset\n",
    "###################################\n",
    "train_original_source = Iterable_Aggregator(train_original_source, p.seed)\n",
    "val_original_source = Iterable_Aggregator(val_original_source, p.seed)\n",
    "test_original_source = Iterable_Aggregator(test_original_source, p.seed)\n",
    "\n",
    "\n",
    "train_original_target = Iterable_Aggregator(train_original_target, p.seed)\n",
    "val_original_target = Iterable_Aggregator(val_original_target, p.seed)\n",
    "test_original_target = Iterable_Aggregator(test_original_target, p.seed)\n",
    "\n",
    "# For CNN We only use X and Y. And we only train on the source.\n",
    "# Properly form the data using a transform lambda and Lazy_Iterable_Wrapper. Finally wrap them in a dataloader\n",
    "\n",
    "transform_lambda = lambda ex: ex[1] # Original is (<domain>, <episode>) so we strip down to episode only\n",
    "\n",
    "train_processed_source = Lazy_Iterable_Wrapper(train_original_source, transform_lambda)\n",
    "val_processed_source   = Lazy_Iterable_Wrapper(val_original_source, transform_lambda)\n",
    "test_processed_source  = Lazy_Iterable_Wrapper(test_original_source, transform_lambda)\n",
    "\n",
    "train_processed_target = Lazy_Iterable_Wrapper(train_original_target, transform_lambda)\n",
    "val_processed_target   = Lazy_Iterable_Wrapper(val_original_target, transform_lambda)\n",
    "test_processed_target  = Lazy_Iterable_Wrapper(test_original_target, transform_lambda)\n",
    "\n",
    "datasets = EasyDict({\n",
    "    \"source\": {\n",
    "        \"original\": {\"train\":train_original_source, \"val\":val_original_source, \"test\":test_original_source},\n",
    "        \"processed\": {\"train\":train_processed_source, \"val\":val_processed_source, \"test\":test_processed_source}\n",
    "    },\n",
    "    \"target\": {\n",
    "        \"original\": {\"train\":train_original_target, \"val\":val_original_target, \"test\":test_original_target},\n",
    "        \"processed\": {\"train\":train_processed_target, \"val\":val_processed_target, \"test\":test_processed_target}\n",
    "    },\n",
    "})"
   ]
  },
  {
   "cell_type": "code",
   "execution_count": 20,
   "id": "5b3c01fc",
   "metadata": {
    "execution": {
     "iopub.execute_input": "2022-03-07T00:56:53.475632Z",
     "iopub.status.busy": "2022-03-07T00:56:53.475379Z",
     "iopub.status.idle": "2022-03-07T00:56:55.390726Z",
     "shell.execute_reply": "2022-03-07T00:56:55.391044Z"
    },
    "papermill": {
     "duration": 1.931537,
     "end_time": "2022-03-07T00:56:55.391147",
     "exception": false,
     "start_time": "2022-03-07T00:56:53.459610",
     "status": "completed"
    },
    "tags": []
   },
   "outputs": [
    {
     "name": "stdout",
     "output_type": "stream",
     "text": [
      "{'CORES_5', 'CORES_2', 'CORES_3', 'CORES_4', 'CORES_1'}\n"
     ]
    },
    {
     "name": "stdout",
     "output_type": "stream",
     "text": [
      "{'Metehan_1', 'Metehan_0', 'Metehan_2'}\n"
     ]
    },
    {
     "name": "stdout",
     "output_type": "stream",
     "text": [
      "tensor([[[ 0.0766,  0.1315,  0.0709,  ...,  0.1722, -0.1523, -0.6660],\n",
      "         [ 0.0407,  0.0568,  0.3538,  ..., -0.3084, -0.8542, -0.4635]],\n",
      "\n",
      "        [[-0.1666, -0.3740,  0.2604,  ..., -0.1780, -0.8332,  0.7092],\n",
      "         [ 0.3143, -0.3077, -0.8181,  ..., -0.7982,  0.0350, -0.4308]],\n",
      "\n",
      "        [[-0.3009, -0.3363,  0.4022,  ..., -0.8062, -0.2474,  0.9467],\n",
      "         [ 0.2961, -0.7833, -0.3496,  ..., -0.1853,  0.0755, -1.2447]],\n",
      "\n",
      "        ...,\n",
      "\n",
      "        [[-0.3509,  0.2991,  0.8102,  ...,  0.5205,  0.7419, -0.0306],\n",
      "         [-0.2968,  0.1460,  0.0565,  ...,  0.2355, -1.0622, -0.1036]],\n",
      "\n",
      "        [[ 0.4316,  0.0395, -0.3108,  ...,  0.3502,  1.1296,  0.2836],\n",
      "         [-0.0296,  0.4810,  0.2639,  ...,  0.8855,  0.8041, -0.5377]],\n",
      "\n",
      "        [[ 0.1666,  0.4877, -0.1544,  ..., -0.5171,  0.2377,  0.9729],\n",
      "         [-0.0711,  0.1078,  0.4926,  ...,  0.2475,  0.9778,  0.9999]]])\n"
     ]
    }
   ],
   "source": [
    "from steves_utils.transforms import get_average_magnitude, get_average_power\n",
    "\n",
    "print(set([u for u,_ in val_original_source]))\n",
    "print(set([u for u,_ in val_original_target]))\n",
    "\n",
    "s_x, s_y, q_x, q_y, _ = next(iter(train_processed_source))\n",
    "print(s_x)\n",
    "\n",
    "# for ds in [\n",
    "#     train_processed_source,\n",
    "#     val_processed_source,\n",
    "#     test_processed_source,\n",
    "#     train_processed_target,\n",
    "#     val_processed_target,\n",
    "#     test_processed_target\n",
    "# ]:\n",
    "#     for s_x, s_y, q_x, q_y, _ in ds:\n",
    "#         for X in (s_x, q_x):\n",
    "#             for x in X:\n",
    "#                 assert np.isclose(get_average_magnitude(x.numpy()), 1.0)\n",
    "#                 assert np.isclose(get_average_power(x.numpy()), 1.0)\n",
    "                "
   ]
  },
  {
   "cell_type": "code",
   "execution_count": 21,
   "id": "bbdacba1",
   "metadata": {
    "execution": {
     "iopub.execute_input": "2022-03-07T00:56:55.429297Z",
     "iopub.status.busy": "2022-03-07T00:56:55.429031Z",
     "iopub.status.idle": "2022-03-07T00:56:55.487575Z",
     "shell.execute_reply": "2022-03-07T00:56:55.487992Z"
    },
    "papermill": {
     "duration": 0.077381,
     "end_time": "2022-03-07T00:56:55.488131",
     "exception": false,
     "start_time": "2022-03-07T00:56:55.410750",
     "status": "completed"
    },
    "tags": []
   },
   "outputs": [
    {
     "name": "stdout",
     "output_type": "stream",
     "text": [
      "(2, 256)\n"
     ]
    }
   ],
   "source": [
    "###################################\n",
    "# Build the model\n",
    "###################################\n",
    "model = Steves_Prototypical_Network(x_net, device=p.device, x_shape=(2,256))\n",
    "optimizer = Adam(params=model.parameters(), lr=p.lr)"
   ]
  },
  {
   "cell_type": "code",
   "execution_count": 22,
   "id": "22b39ac5",
   "metadata": {
    "execution": {
     "iopub.execute_input": "2022-03-07T00:56:55.526382Z",
     "iopub.status.busy": "2022-03-07T00:56:55.526124Z",
     "iopub.status.idle": "2022-03-07T01:00:26.645508Z",
     "shell.execute_reply": "2022-03-07T01:00:26.645067Z"
    },
    "papermill": {
     "duration": 211.138999,
     "end_time": "2022-03-07T01:00:26.645619",
     "exception": false,
     "start_time": "2022-03-07T00:56:55.506620",
     "status": "completed"
    },
    "tags": []
   },
   "outputs": [
    {
     "name": "stdout",
     "output_type": "stream",
     "text": [
      "epoch: 1, [batch: 1 / 612], examples_per_second: 407.6014, train_label_loss: 2.8570, \n"
     ]
    },
    {
     "name": "stdout",
     "output_type": "stream",
     "text": [
      "epoch: 1, [batch: 62 / 612], examples_per_second: 3232.3418, train_label_loss: 0.0846, \n"
     ]
    },
    {
     "name": "stdout",
     "output_type": "stream",
     "text": [
      "epoch: 1, [batch: 123 / 612], examples_per_second: 2938.9226, train_label_loss: 0.1476, \n"
     ]
    },
    {
     "name": "stdout",
     "output_type": "stream",
     "text": [
      "epoch: 1, [batch: 184 / 612], examples_per_second: 2954.3384, train_label_loss: 0.1023, \n"
     ]
    },
    {
     "name": "stdout",
     "output_type": "stream",
     "text": [
      "epoch: 1, [batch: 245 / 612], examples_per_second: 2972.5319, train_label_loss: 0.0553, \n"
     ]
    },
    {
     "name": "stdout",
     "output_type": "stream",
     "text": [
      "epoch: 1, [batch: 306 / 612], examples_per_second: 2952.6864, train_label_loss: 0.0202, \n"
     ]
    },
    {
     "name": "stdout",
     "output_type": "stream",
     "text": [
      "epoch: 1, [batch: 367 / 612], examples_per_second: 2939.2182, train_label_loss: 0.0975, \n"
     ]
    },
    {
     "name": "stdout",
     "output_type": "stream",
     "text": [
      "epoch: 1, [batch: 428 / 612], examples_per_second: 2971.8842, train_label_loss: 0.0615, \n"
     ]
    },
    {
     "name": "stdout",
     "output_type": "stream",
     "text": [
      "epoch: 1, [batch: 489 / 612], examples_per_second: 2990.3124, train_label_loss: 0.0756, \n"
     ]
    },
    {
     "name": "stdout",
     "output_type": "stream",
     "text": [
      "epoch: 1, [batch: 550 / 612], examples_per_second: 2974.8118, train_label_loss: 0.0558, \n"
     ]
    },
    {
     "name": "stdout",
     "output_type": "stream",
     "text": [
      "=============================================================\n",
      "epoch: 1, source_val_acc_label: 0.9929, target_val_acc_label: 0.2924, source_val_label_loss: 0.0258, target_val_label_loss: 2.7103, \n",
      "=============================================================\n"
     ]
    },
    {
     "name": "stdout",
     "output_type": "stream",
     "text": [
      "New best\n"
     ]
    },
    {
     "name": "stdout",
     "output_type": "stream",
     "text": [
      "epoch: 2, [batch: 1 / 615], examples_per_second: 52.9736, train_label_loss: 0.0176, \n"
     ]
    },
    {
     "name": "stdout",
     "output_type": "stream",
     "text": [
      "epoch: 2, [batch: 62 / 615], examples_per_second: 2975.4612, train_label_loss: 0.0003, \n"
     ]
    },
    {
     "name": "stdout",
     "output_type": "stream",
     "text": [
      "epoch: 2, [batch: 123 / 615], examples_per_second: 2950.2002, train_label_loss: 0.0004, \n"
     ]
    },
    {
     "name": "stdout",
     "output_type": "stream",
     "text": [
      "epoch: 2, [batch: 185 / 615], examples_per_second: 2977.4055, train_label_loss: 0.0485, \n"
     ]
    },
    {
     "name": "stdout",
     "output_type": "stream",
     "text": [
      "epoch: 2, [batch: 246 / 615], examples_per_second: 2975.8444, train_label_loss: 0.1431, \n"
     ]
    },
    {
     "name": "stdout",
     "output_type": "stream",
     "text": [
      "epoch: 2, [batch: 308 / 615], examples_per_second: 2961.5607, train_label_loss: 0.1787, \n"
     ]
    },
    {
     "name": "stdout",
     "output_type": "stream",
     "text": [
      "epoch: 2, [batch: 369 / 615], examples_per_second: 2954.6188, train_label_loss: 0.0018, \n"
     ]
    },
    {
     "name": "stdout",
     "output_type": "stream",
     "text": [
      "epoch: 2, [batch: 430 / 615], examples_per_second: 2932.0137, train_label_loss: 0.0433, \n"
     ]
    },
    {
     "name": "stdout",
     "output_type": "stream",
     "text": [
      "epoch: 2, [batch: 492 / 615], examples_per_second: 2966.6239, train_label_loss: 0.0003, \n"
     ]
    },
    {
     "name": "stdout",
     "output_type": "stream",
     "text": [
      "epoch: 2, [batch: 553 / 615], examples_per_second: 2975.8633, train_label_loss: 0.0003, \n"
     ]
    },
    {
     "name": "stdout",
     "output_type": "stream",
     "text": [
      "=============================================================\n",
      "epoch: 2, source_val_acc_label: 0.9849, target_val_acc_label: 0.2398, source_val_label_loss: 0.0521, target_val_label_loss: 2.6035, \n",
      "=============================================================\n"
     ]
    },
    {
     "name": "stdout",
     "output_type": "stream",
     "text": [
      "New best\n"
     ]
    },
    {
     "name": "stdout",
     "output_type": "stream",
     "text": [
      "epoch: 3, [batch: 1 / 614], examples_per_second: 52.9585, train_label_loss: 0.0508, \n"
     ]
    },
    {
     "name": "stdout",
     "output_type": "stream",
     "text": [
      "epoch: 3, [batch: 62 / 614], examples_per_second: 2999.3955, train_label_loss: 0.0005, \n"
     ]
    },
    {
     "name": "stdout",
     "output_type": "stream",
     "text": [
      "epoch: 3, [batch: 123 / 614], examples_per_second: 3010.8443, train_label_loss: 0.0216, \n"
     ]
    },
    {
     "name": "stdout",
     "output_type": "stream",
     "text": [
      "epoch: 3, [batch: 184 / 614], examples_per_second: 2971.3509, train_label_loss: 0.0000, \n"
     ]
    },
    {
     "name": "stdout",
     "output_type": "stream",
     "text": [
      "epoch: 3, [batch: 246 / 614], examples_per_second: 2989.4920, train_label_loss: 0.0344, \n"
     ]
    },
    {
     "name": "stdout",
     "output_type": "stream",
     "text": [
      "epoch: 3, [batch: 307 / 614], examples_per_second: 2973.3944, train_label_loss: 0.0003, \n"
     ]
    },
    {
     "name": "stdout",
     "output_type": "stream",
     "text": [
      "epoch: 3, [batch: 368 / 614], examples_per_second: 2979.3962, train_label_loss: 0.0026, \n"
     ]
    },
    {
     "name": "stdout",
     "output_type": "stream",
     "text": [
      "epoch: 3, [batch: 430 / 614], examples_per_second: 2897.7567, train_label_loss: 0.0004, \n"
     ]
    },
    {
     "name": "stdout",
     "output_type": "stream",
     "text": [
      "epoch: 3, [batch: 491 / 614], examples_per_second: 2962.6174, train_label_loss: 0.0932, \n"
     ]
    },
    {
     "name": "stdout",
     "output_type": "stream",
     "text": [
      "epoch: 3, [batch: 552 / 614], examples_per_second: 2980.5906, train_label_loss: 0.2498, \n"
     ]
    },
    {
     "name": "stdout",
     "output_type": "stream",
     "text": [
      "=============================================================\n",
      "epoch: 3, source_val_acc_label: 0.9920, target_val_acc_label: 0.2251, source_val_label_loss: 0.0299, target_val_label_loss: 2.5280, \n",
      "=============================================================\n"
     ]
    },
    {
     "name": "stdout",
     "output_type": "stream",
     "text": [
      "New best\n"
     ]
    },
    {
     "name": "stdout",
     "output_type": "stream",
     "text": [
      "epoch: 4, [batch: 1 / 615], examples_per_second: 52.5172, train_label_loss: 0.0021, \n"
     ]
    },
    {
     "name": "stdout",
     "output_type": "stream",
     "text": [
      "epoch: 4, [batch: 62 / 615], examples_per_second: 2977.5031, train_label_loss: 0.0000, \n"
     ]
    },
    {
     "name": "stdout",
     "output_type": "stream",
     "text": [
      "epoch: 4, [batch: 123 / 615], examples_per_second: 2994.9318, train_label_loss: 0.0095, \n"
     ]
    },
    {
     "name": "stdout",
     "output_type": "stream",
     "text": [
      "epoch: 4, [batch: 185 / 615], examples_per_second: 3016.7796, train_label_loss: 0.0762, \n"
     ]
    },
    {
     "name": "stdout",
     "output_type": "stream",
     "text": [
      "epoch: 4, [batch: 246 / 615], examples_per_second: 2997.7871, train_label_loss: 0.0012, \n"
     ]
    },
    {
     "name": "stdout",
     "output_type": "stream",
     "text": [
      "epoch: 4, [batch: 308 / 615], examples_per_second: 3021.9334, train_label_loss: 0.0000, \n"
     ]
    },
    {
     "name": "stdout",
     "output_type": "stream",
     "text": [
      "epoch: 4, [batch: 369 / 615], examples_per_second: 3020.4100, train_label_loss: 0.0278, \n"
     ]
    },
    {
     "name": "stdout",
     "output_type": "stream",
     "text": [
      "epoch: 4, [batch: 430 / 615], examples_per_second: 3008.0932, train_label_loss: 0.0317, \n"
     ]
    },
    {
     "name": "stdout",
     "output_type": "stream",
     "text": [
      "epoch: 4, [batch: 492 / 615], examples_per_second: 2980.5163, train_label_loss: 0.0006, \n"
     ]
    },
    {
     "name": "stdout",
     "output_type": "stream",
     "text": [
      "epoch: 4, [batch: 553 / 615], examples_per_second: 3003.3222, train_label_loss: 0.0006, \n"
     ]
    },
    {
     "name": "stdout",
     "output_type": "stream",
     "text": [
      "=============================================================\n",
      "epoch: 4, source_val_acc_label: 0.9926, target_val_acc_label: 0.2281, source_val_label_loss: 0.0255, target_val_label_loss: 2.4518, \n",
      "=============================================================\n"
     ]
    },
    {
     "name": "stdout",
     "output_type": "stream",
     "text": [
      "New best\n"
     ]
    },
    {
     "name": "stdout",
     "output_type": "stream",
     "text": [
      "epoch: 5, [batch: 1 / 613], examples_per_second: 53.3123, train_label_loss: 0.0000, \n"
     ]
    },
    {
     "name": "stdout",
     "output_type": "stream",
     "text": [
      "epoch: 5, [batch: 62 / 613], examples_per_second: 2963.3156, train_label_loss: 0.0000, \n"
     ]
    },
    {
     "name": "stdout",
     "output_type": "stream",
     "text": [
      "epoch: 5, [batch: 123 / 613], examples_per_second: 2975.7821, train_label_loss: 0.0000, \n"
     ]
    },
    {
     "name": "stdout",
     "output_type": "stream",
     "text": [
      "epoch: 5, [batch: 184 / 613], examples_per_second: 2965.1206, train_label_loss: 0.0253, \n"
     ]
    },
    {
     "name": "stdout",
     "output_type": "stream",
     "text": [
      "epoch: 5, [batch: 245 / 613], examples_per_second: 2948.3687, train_label_loss: 0.0000, \n"
     ]
    },
    {
     "name": "stdout",
     "output_type": "stream",
     "text": [
      "epoch: 5, [batch: 307 / 613], examples_per_second: 2958.4156, train_label_loss: 0.2888, \n"
     ]
    },
    {
     "name": "stdout",
     "output_type": "stream",
     "text": [
      "epoch: 5, [batch: 368 / 613], examples_per_second: 2980.2072, train_label_loss: 0.0001, \n"
     ]
    },
    {
     "name": "stdout",
     "output_type": "stream",
     "text": [
      "epoch: 5, [batch: 429 / 613], examples_per_second: 2950.7106, train_label_loss: 0.0000, \n"
     ]
    },
    {
     "name": "stdout",
     "output_type": "stream",
     "text": [
      "epoch: 5, [batch: 490 / 613], examples_per_second: 2972.2680, train_label_loss: 0.1343, \n"
     ]
    },
    {
     "name": "stdout",
     "output_type": "stream",
     "text": [
      "epoch: 5, [batch: 551 / 613], examples_per_second: 2971.8500, train_label_loss: 0.0001, \n"
     ]
    },
    {
     "name": "stdout",
     "output_type": "stream",
     "text": [
      "=============================================================\n",
      "epoch: 5, source_val_acc_label: 0.9939, target_val_acc_label: 0.2325, source_val_label_loss: 0.0314, target_val_label_loss: 2.4214, \n",
      "=============================================================\n"
     ]
    },
    {
     "name": "stdout",
     "output_type": "stream",
     "text": [
      "New best\n"
     ]
    },
    {
     "name": "stdout",
     "output_type": "stream",
     "text": [
      "epoch: 6, [batch: 1 / 616], examples_per_second: 52.6968, train_label_loss: 0.0189, \n"
     ]
    },
    {
     "name": "stdout",
     "output_type": "stream",
     "text": [
      "epoch: 6, [batch: 62 / 616], examples_per_second: 2999.5399, train_label_loss: 0.0002, \n"
     ]
    },
    {
     "name": "stdout",
     "output_type": "stream",
     "text": [
      "epoch: 6, [batch: 124 / 616], examples_per_second: 3015.0985, train_label_loss: 0.0000, \n"
     ]
    },
    {
     "name": "stdout",
     "output_type": "stream",
     "text": [
      "epoch: 6, [batch: 185 / 616], examples_per_second: 3012.3174, train_label_loss: 0.0000, \n"
     ]
    },
    {
     "name": "stdout",
     "output_type": "stream",
     "text": [
      "epoch: 6, [batch: 247 / 616], examples_per_second: 2984.6992, train_label_loss: 0.0000, \n"
     ]
    },
    {
     "name": "stdout",
     "output_type": "stream",
     "text": [
      "epoch: 6, [batch: 308 / 616], examples_per_second: 2997.5405, train_label_loss: 0.0005, \n"
     ]
    },
    {
     "name": "stdout",
     "output_type": "stream",
     "text": [
      "epoch: 6, [batch: 370 / 616], examples_per_second: 3011.3207, train_label_loss: 0.0000, \n"
     ]
    },
    {
     "name": "stdout",
     "output_type": "stream",
     "text": [
      "epoch: 6, [batch: 431 / 616], examples_per_second: 3003.9127, train_label_loss: 0.1773, \n"
     ]
    },
    {
     "name": "stdout",
     "output_type": "stream",
     "text": [
      "epoch: 6, [batch: 493 / 616], examples_per_second: 2994.1874, train_label_loss: 0.0000, \n"
     ]
    },
    {
     "name": "stdout",
     "output_type": "stream",
     "text": [
      "epoch: 6, [batch: 554 / 616], examples_per_second: 2965.8036, train_label_loss: 0.1186, \n"
     ]
    },
    {
     "name": "stdout",
     "output_type": "stream",
     "text": [
      "=============================================================\n",
      "epoch: 6, source_val_acc_label: 0.9955, target_val_acc_label: 0.2909, source_val_label_loss: 0.0175, target_val_label_loss: 2.1290, \n",
      "=============================================================\n"
     ]
    },
    {
     "name": "stdout",
     "output_type": "stream",
     "text": [
      "New best\n"
     ]
    },
    {
     "name": "stdout",
     "output_type": "stream",
     "text": [
      "epoch: 7, [batch: 1 / 614], examples_per_second: 52.9439, train_label_loss: 0.0000, \n"
     ]
    },
    {
     "name": "stdout",
     "output_type": "stream",
     "text": [
      "epoch: 7, [batch: 62 / 614], examples_per_second: 2977.5508, train_label_loss: 0.7542, \n"
     ]
    },
    {
     "name": "stdout",
     "output_type": "stream",
     "text": [
      "epoch: 7, [batch: 123 / 614], examples_per_second: 3010.1537, train_label_loss: 0.1488, \n"
     ]
    },
    {
     "name": "stdout",
     "output_type": "stream",
     "text": [
      "epoch: 7, [batch: 184 / 614], examples_per_second: 2998.5234, train_label_loss: 0.0038, \n"
     ]
    },
    {
     "name": "stdout",
     "output_type": "stream",
     "text": [
      "epoch: 7, [batch: 246 / 614], examples_per_second: 2997.5367, train_label_loss: 0.0014, \n"
     ]
    },
    {
     "name": "stdout",
     "output_type": "stream",
     "text": [
      "epoch: 7, [batch: 307 / 614], examples_per_second: 3022.9581, train_label_loss: 0.0000, \n"
     ]
    },
    {
     "name": "stdout",
     "output_type": "stream",
     "text": [
      "epoch: 7, [batch: 368 / 614], examples_per_second: 3000.9027, train_label_loss: 0.0000, \n"
     ]
    },
    {
     "name": "stdout",
     "output_type": "stream",
     "text": [
      "epoch: 7, [batch: 430 / 614], examples_per_second: 2983.1051, train_label_loss: 0.0000, \n"
     ]
    },
    {
     "name": "stdout",
     "output_type": "stream",
     "text": [
      "epoch: 7, [batch: 491 / 614], examples_per_second: 2988.5384, train_label_loss: 0.0000, \n"
     ]
    },
    {
     "name": "stdout",
     "output_type": "stream",
     "text": [
      "epoch: 7, [batch: 552 / 614], examples_per_second: 2972.6216, train_label_loss: 0.0000, \n"
     ]
    },
    {
     "name": "stdout",
     "output_type": "stream",
     "text": [
      "=============================================================\n",
      "epoch: 7, source_val_acc_label: 0.9942, target_val_acc_label: 0.2558, source_val_label_loss: 0.0239, target_val_label_loss: 2.2216, \n",
      "=============================================================\n"
     ]
    },
    {
     "name": "stdout",
     "output_type": "stream",
     "text": [
      "epoch: 8, [batch: 1 / 612], examples_per_second: 53.2544, train_label_loss: 0.0000, \n"
     ]
    },
    {
     "name": "stdout",
     "output_type": "stream",
     "text": [
      "epoch: 8, [batch: 62 / 612], examples_per_second: 2968.8328, train_label_loss: 0.0001, \n"
     ]
    },
    {
     "name": "stdout",
     "output_type": "stream",
     "text": [
      "epoch: 8, [batch: 123 / 612], examples_per_second: 2961.9506, train_label_loss: 0.0012, \n"
     ]
    },
    {
     "name": "stdout",
     "output_type": "stream",
     "text": [
      "epoch: 8, [batch: 184 / 612], examples_per_second: 2994.1341, train_label_loss: 0.0000, \n"
     ]
    },
    {
     "name": "stdout",
     "output_type": "stream",
     "text": [
      "epoch: 8, [batch: 245 / 612], examples_per_second: 2978.5338, train_label_loss: 0.0002, \n"
     ]
    },
    {
     "name": "stdout",
     "output_type": "stream",
     "text": [
      "epoch: 8, [batch: 306 / 612], examples_per_second: 2979.2845, train_label_loss: 0.0010, \n"
     ]
    },
    {
     "name": "stdout",
     "output_type": "stream",
     "text": [
      "epoch: 8, [batch: 367 / 612], examples_per_second: 2967.6540, train_label_loss: 0.0000, \n"
     ]
    },
    {
     "name": "stdout",
     "output_type": "stream",
     "text": [
      "epoch: 8, [batch: 428 / 612], examples_per_second: 2976.3957, train_label_loss: 0.0000, \n"
     ]
    },
    {
     "name": "stdout",
     "output_type": "stream",
     "text": [
      "epoch: 8, [batch: 489 / 612], examples_per_second: 2992.1172, train_label_loss: 0.0000, \n"
     ]
    },
    {
     "name": "stdout",
     "output_type": "stream",
     "text": [
      "epoch: 8, [batch: 550 / 612], examples_per_second: 2967.4265, train_label_loss: 0.0002, \n"
     ]
    },
    {
     "name": "stdout",
     "output_type": "stream",
     "text": [
      "=============================================================\n",
      "epoch: 8, source_val_acc_label: 0.9910, target_val_acc_label: 0.2573, source_val_label_loss: 0.0644, target_val_label_loss: 2.1530, \n",
      "=============================================================\n"
     ]
    },
    {
     "name": "stdout",
     "output_type": "stream",
     "text": [
      "epoch: 9, [batch: 1 / 615], examples_per_second: 53.7818, train_label_loss: 0.1212, \n"
     ]
    },
    {
     "name": "stdout",
     "output_type": "stream",
     "text": [
      "epoch: 9, [batch: 62 / 615], examples_per_second: 3002.9571, train_label_loss: 0.0000, \n"
     ]
    },
    {
     "name": "stdout",
     "output_type": "stream",
     "text": [
      "epoch: 9, [batch: 123 / 615], examples_per_second: 2967.5953, train_label_loss: 0.0000, \n"
     ]
    },
    {
     "name": "stdout",
     "output_type": "stream",
     "text": [
      "epoch: 9, [batch: 185 / 615], examples_per_second: 2977.2297, train_label_loss: 0.0082, \n"
     ]
    },
    {
     "name": "stdout",
     "output_type": "stream",
     "text": [
      "epoch: 9, [batch: 246 / 615], examples_per_second: 2970.1047, train_label_loss: 0.0000, \n"
     ]
    },
    {
     "name": "stdout",
     "output_type": "stream",
     "text": [
      "epoch: 9, [batch: 308 / 615], examples_per_second: 3013.8398, train_label_loss: 0.0000, \n"
     ]
    },
    {
     "name": "stdout",
     "output_type": "stream",
     "text": [
      "epoch: 9, [batch: 369 / 615], examples_per_second: 3003.6061, train_label_loss: 0.0000, \n"
     ]
    },
    {
     "name": "stdout",
     "output_type": "stream",
     "text": [
      "epoch: 9, [batch: 430 / 615], examples_per_second: 2972.5053, train_label_loss: 0.0000, \n"
     ]
    },
    {
     "name": "stdout",
     "output_type": "stream",
     "text": [
      "epoch: 9, [batch: 492 / 615], examples_per_second: 2967.2973, train_label_loss: 0.0000, \n"
     ]
    },
    {
     "name": "stdout",
     "output_type": "stream",
     "text": [
      "epoch: 9, [batch: 553 / 615], examples_per_second: 2987.6307, train_label_loss: 0.0000, \n"
     ]
    },
    {
     "name": "stdout",
     "output_type": "stream",
     "text": [
      "=============================================================\n",
      "epoch: 9, source_val_acc_label: 0.9949, target_val_acc_label: 0.1696, source_val_label_loss: 0.0286, target_val_label_loss: 2.4656, \n",
      "=============================================================\n"
     ]
    },
    {
     "name": "stdout",
     "output_type": "stream",
     "text": [
      "epoch: 10, [batch: 1 / 614], examples_per_second: 53.8660, train_label_loss: 0.0000, \n"
     ]
    },
    {
     "name": "stdout",
     "output_type": "stream",
     "text": [
      "epoch: 10, [batch: 62 / 614], examples_per_second: 2987.7283, train_label_loss: 0.0000, \n"
     ]
    },
    {
     "name": "stdout",
     "output_type": "stream",
     "text": [
      "epoch: 10, [batch: 123 / 614], examples_per_second: 2995.1388, train_label_loss: 0.0000, \n"
     ]
    },
    {
     "name": "stdout",
     "output_type": "stream",
     "text": [
      "epoch: 10, [batch: 184 / 614], examples_per_second: 2967.9534, train_label_loss: 0.0000, \n"
     ]
    },
    {
     "name": "stdout",
     "output_type": "stream",
     "text": [
      "epoch: 10, [batch: 246 / 614], examples_per_second: 2980.1111, train_label_loss: 0.0000, \n"
     ]
    },
    {
     "name": "stdout",
     "output_type": "stream",
     "text": [
      "epoch: 10, [batch: 307 / 614], examples_per_second: 2972.6940, train_label_loss: 0.0000, \n"
     ]
    },
    {
     "name": "stdout",
     "output_type": "stream",
     "text": [
      "epoch: 10, [batch: 368 / 614], examples_per_second: 3010.4710, train_label_loss: 0.0000, \n"
     ]
    },
    {
     "name": "stdout",
     "output_type": "stream",
     "text": [
      "epoch: 10, [batch: 430 / 614], examples_per_second: 2980.4724, train_label_loss: 0.0000, \n"
     ]
    },
    {
     "name": "stdout",
     "output_type": "stream",
     "text": [
      "epoch: 10, [batch: 491 / 614], examples_per_second: 2991.8484, train_label_loss: 0.0000, \n"
     ]
    },
    {
     "name": "stdout",
     "output_type": "stream",
     "text": [
      "epoch: 10, [batch: 552 / 614], examples_per_second: 2997.2300, train_label_loss: 0.0000, \n"
     ]
    },
    {
     "name": "stdout",
     "output_type": "stream",
     "text": [
      "=============================================================\n",
      "epoch: 10, source_val_acc_label: 0.9978, target_val_acc_label: 0.2135, source_val_label_loss: 0.0157, target_val_label_loss: 2.4755, \n",
      "=============================================================\n"
     ]
    },
    {
     "name": "stdout",
     "output_type": "stream",
     "text": [
      "Patience (3) exhausted\n"
     ]
    }
   ],
   "source": [
    "###################################\n",
    "# train\n",
    "###################################\n",
    "jig = PTN_Train_Eval_Test_Jig(model, p.BEST_MODEL_PATH, p.device)\n",
    "\n",
    "jig.train(\n",
    "    train_iterable=datasets.source.processed.train,\n",
    "    source_val_iterable=datasets.source.processed.val,\n",
    "    target_val_iterable=datasets.target.processed.val,\n",
    "    num_epochs=p.n_epoch,\n",
    "    num_logs_per_epoch=p.NUM_LOGS_PER_EPOCH,\n",
    "    patience=p.patience,\n",
    "    optimizer=optimizer,\n",
    "    criteria_for_best=p.criteria_for_best,\n",
    ")"
   ]
  },
  {
   "cell_type": "code",
   "execution_count": 23,
   "id": "31e8fabf",
   "metadata": {
    "execution": {
     "iopub.execute_input": "2022-03-07T01:00:26.722645Z",
     "iopub.status.busy": "2022-03-07T01:00:26.722385Z",
     "iopub.status.idle": "2022-03-07T01:00:26.738317Z",
     "shell.execute_reply": "2022-03-07T01:00:26.738759Z"
    },
    "papermill": {
     "duration": 0.054626,
     "end_time": "2022-03-07T01:00:26.738914",
     "exception": false,
     "start_time": "2022-03-07T01:00:26.684288",
     "status": "completed"
    },
    "tags": []
   },
   "outputs": [],
   "source": [
    "total_experiment_time_secs = time.time() - start_time_secs"
   ]
  },
  {
   "cell_type": "code",
   "execution_count": 24,
   "id": "87b9595b",
   "metadata": {
    "execution": {
     "iopub.execute_input": "2022-03-07T01:00:26.821068Z",
     "iopub.status.busy": "2022-03-07T01:00:26.820766Z",
     "iopub.status.idle": "2022-03-07T01:00:34.404269Z",
     "shell.execute_reply": "2022-03-07T01:00:34.403913Z"
    },
    "papermill": {
     "duration": 7.622965,
     "end_time": "2022-03-07T01:00:34.404356",
     "exception": false,
     "start_time": "2022-03-07T01:00:26.781391",
     "status": "completed"
    },
    "tags": []
   },
   "outputs": [],
   "source": [
    "###################################\n",
    "# Evaluate the model\n",
    "###################################\n",
    "source_test_label_accuracy, source_test_label_loss = jig.test(datasets.source.processed.test)\n",
    "target_test_label_accuracy, target_test_label_loss = jig.test(datasets.target.processed.test)\n",
    "\n",
    "source_val_label_accuracy, source_val_label_loss = jig.test(datasets.source.processed.val)\n",
    "target_val_label_accuracy, target_val_label_loss = jig.test(datasets.target.processed.val)\n",
    "\n",
    "history = jig.get_history()\n",
    "\n",
    "total_epochs_trained = len(history[\"epoch_indices\"])\n",
    "\n",
    "val_dl = Iterable_Aggregator((datasets.source.original.val,datasets.target.original.val))\n",
    "\n",
    "confusion = ptn_confusion_by_domain_over_dataloader(model, p.device, val_dl)\n",
    "per_domain_accuracy = per_domain_accuracy_from_confusion(confusion)\n",
    "\n",
    "# Add a key to per_domain_accuracy for if it was a source domain\n",
    "for domain, accuracy in per_domain_accuracy.items():\n",
    "    per_domain_accuracy[domain] = {\n",
    "        \"accuracy\": accuracy,\n",
    "        \"source?\": domain in p.domains_source\n",
    "    }\n",
    "\n",
    "# Do an independent accuracy assesment JUST TO BE SURE!\n",
    "# _source_test_label_accuracy = independent_accuracy_assesment(model, datasets.source.processed.test, p.device)\n",
    "# _target_test_label_accuracy = independent_accuracy_assesment(model, datasets.target.processed.test, p.device)\n",
    "# _source_val_label_accuracy = independent_accuracy_assesment(model, datasets.source.processed.val, p.device)\n",
    "# _target_val_label_accuracy = independent_accuracy_assesment(model, datasets.target.processed.val, p.device)\n",
    "\n",
    "# assert(_source_test_label_accuracy == source_test_label_accuracy)\n",
    "# assert(_target_test_label_accuracy == target_test_label_accuracy)\n",
    "# assert(_source_val_label_accuracy == source_val_label_accuracy)\n",
    "# assert(_target_val_label_accuracy == target_val_label_accuracy)\n",
    "\n",
    "experiment = {\n",
    "    \"experiment_name\": p.experiment_name,\n",
    "    \"parameters\": dict(p),\n",
    "    \"results\": {\n",
    "        \"source_test_label_accuracy\": source_test_label_accuracy,\n",
    "        \"source_test_label_loss\": source_test_label_loss,\n",
    "        \"target_test_label_accuracy\": target_test_label_accuracy,\n",
    "        \"target_test_label_loss\": target_test_label_loss,\n",
    "        \"source_val_label_accuracy\": source_val_label_accuracy,\n",
    "        \"source_val_label_loss\": source_val_label_loss,\n",
    "        \"target_val_label_accuracy\": target_val_label_accuracy,\n",
    "        \"target_val_label_loss\": target_val_label_loss,\n",
    "        \"total_epochs_trained\": total_epochs_trained,\n",
    "        \"total_experiment_time_secs\": total_experiment_time_secs,\n",
    "        \"confusion\": confusion,\n",
    "        \"per_domain_accuracy\": per_domain_accuracy,\n",
    "    },\n",
    "    \"history\": history,\n",
    "    \"dataset_metrics\": get_dataset_metrics(datasets, \"ptn\"),\n",
    "}"
   ]
  },
  {
   "cell_type": "code",
   "execution_count": 25,
   "id": "54a21829",
   "metadata": {
    "execution": {
     "iopub.execute_input": "2022-03-07T01:00:34.485645Z",
     "iopub.status.busy": "2022-03-07T01:00:34.485032Z",
     "iopub.status.idle": "2022-03-07T01:00:34.739411Z",
     "shell.execute_reply": "2022-03-07T01:00:34.739830Z"
    },
    "papermill": {
     "duration": 0.296684,
     "end_time": "2022-03-07T01:00:34.739937",
     "exception": false,
     "start_time": "2022-03-07T01:00:34.443253",
     "status": "completed"
    },
    "tags": []
   },
   "outputs": [
    {
     "data": {
      "image/png": "[encoded data removed]",
      "text/plain": [
       "<Figure size 1080x504 with 1 Axes>"
      ]
     },
     "metadata": {
      "needs_background": "light"
     },
     "output_type": "display_data"
    }
   ],
   "source": [
    "ax = get_loss_curve(experiment)\n",
    "plt.show()"
   ]
  },
  {
   "cell_type": "code",
   "execution_count": 26,
   "id": "fd8a0f60",
   "metadata": {
    "execution": {
     "iopub.execute_input": "2022-03-07T01:00:34.818202Z",
     "iopub.status.busy": "2022-03-07T01:00:34.817904Z",
     "iopub.status.idle": "2022-03-07T01:00:35.022403Z",
     "shell.execute_reply": "2022-03-07T01:00:35.022071Z"
    },
    "papermill": {
     "duration": 0.244768,
     "end_time": "2022-03-07T01:00:35.022493",
     "exception": false,
     "start_time": "2022-03-07T01:00:34.777725",
     "status": "completed"
    },
    "tags": []
   },
   "outputs": [
    {
     "data": {
      "text/plain": [
       "<matplotlib.axes._subplots.AxesSubplot at 0x7ff7b71069d0>"
      ]
     },
     "execution_count": 26,
     "metadata": {},
     "output_type": "execute_result"
    },
    {
     "data": {
      "image/png": "[encoded data removed]",
      "text/plain": [
       "<Figure size 1080x504 with 1 Axes>"
      ]
     },
     "metadata": {
      "needs_background": "light"
     },
     "output_type": "display_data"
    }
   ],
   "source": [
    "get_results_table(experiment)"
   ]
  },
  {
   "cell_type": "code",
   "execution_count": 27,
   "id": "cf8dc689",
   "metadata": {
    "execution": {
     "iopub.execute_input": "2022-03-07T01:00:35.103088Z",
     "iopub.status.busy": "2022-03-07T01:00:35.102824Z",
     "iopub.status.idle": "2022-03-07T01:00:35.289887Z",
     "shell.execute_reply": "2022-03-07T01:00:35.290301Z"
    },
    "papermill": {
     "duration": 0.226787,
     "end_time": "2022-03-07T01:00:35.290433",
     "exception": false,
     "start_time": "2022-03-07T01:00:35.063646",
     "status": "completed"
    },
    "tags": []
   },
   "outputs": [
    {
     "data": {
      "text/plain": [
       "<matplotlib.axes._subplots.AxesSubplot at 0x7ff7b611c4c0>"
      ]
     },
     "execution_count": 27,
     "metadata": {},
     "output_type": "execute_result"
    },
    {
     "data": {
      "image/png": "[encoded data removed]",
      "text/plain": [
       "<Figure size 1080x504 with 1 Axes>"
      ]
     },
     "metadata": {
      "needs_background": "light"
     },
     "output_type": "display_data"
    }
   ],
   "source": [
    "get_domain_accuracies(experiment)"
   ]
  },
  {
   "cell_type": "code",
   "execution_count": 28,
   "id": "a74ae082",
   "metadata": {
    "execution": {
     "iopub.execute_input": "2022-03-07T01:00:35.372259Z",
     "iopub.status.busy": "2022-03-07T01:00:35.371984Z",
     "iopub.status.idle": "2022-03-07T01:00:35.384401Z",
     "shell.execute_reply": "2022-03-07T01:00:35.384740Z"
    },
    "papermill": {
     "duration": 0.055344,
     "end_time": "2022-03-07T01:00:35.384859",
     "exception": false,
     "start_time": "2022-03-07T01:00:35.329515",
     "status": "completed"
    },
    "tags": []
   },
   "outputs": [
    {
     "name": "stdout",
     "output_type": "stream",
     "text": [
      "Source Test Label Accuracy: 0.9929396662387676 Target Test Label Accuracy: 0.29239766081871343\n",
      "Source Val Label Accuracy: 0.9955070603337612 Target Val Label Accuracy: 0.2909356725146199\n"
     ]
    }
   ],
   "source": [
    "print(\"Source Test Label Accuracy:\", experiment[\"results\"][\"source_test_label_accuracy\"], \"Target Test Label Accuracy:\", experiment[\"results\"][\"target_test_label_accuracy\"])\n",
    "print(\"Source Val Label Accuracy:\", experiment[\"results\"][\"source_val_label_accuracy\"], \"Target Val Label Accuracy:\", experiment[\"results\"][\"target_val_label_accuracy\"])"
   ]
  },
  {
   "cell_type": "code",
   "execution_count": 29,
   "id": "dacca602",
   "metadata": {
    "execution": {
     "iopub.execute_input": "2022-03-07T01:00:35.469407Z",
     "iopub.status.busy": "2022-03-07T01:00:35.469117Z",
     "iopub.status.idle": "2022-03-07T01:00:35.480375Z",
     "shell.execute_reply": "2022-03-07T01:00:35.480674Z"
    },
    "papermill": {
     "duration": 0.053941,
     "end_time": "2022-03-07T01:00:35.480775",
     "exception": false,
     "start_time": "2022-03-07T01:00:35.426834",
     "status": "completed"
    },
    "tags": [
     "experiment_json"
    ]
   },
   "outputs": [
    {
     "data": {
      "text/plain": [
       "'{\"experiment_name\": \"tl_1_cores-metehan\", \"parameters\": {\"experiment_name\": \"tl_1_cores-metehan\", \"device\": \"cuda\", \"lr\": 0.001, \"seed\": 1337, \"dataset_seed\": 1337, \"n_shot\": 3, \"n_query\": 2, \"train_k_factor\": 3, \"val_k_factor\": 2, \"test_k_factor\": 2, \"torch_default_dtype\": \"torch.float32\", \"n_epoch\": 50, \"patience\": 3, \"criteria_for_best\": \"target_loss\", \"x_net\": [{\"class\": \"nnReshape\", \"kargs\": {\"shape\": [-1, 1, 2, 256]}}, {\"class\": \"Conv2d\", \"kargs\": {\"in_channels\": 1, \"out_channels\": 256, \"kernel_size\": [1, 7], \"bias\": false, \"padding\": [0, 3]}}, {\"class\": \"ReLU\", \"kargs\": {\"inplace\": true}}, {\"class\": \"BatchNorm2d\", \"kargs\": {\"num_features\": 256}}, {\"class\": \"Conv2d\", \"kargs\": {\"in_channels\": 256, \"out_channels\": 80, \"kernel_size\": [2, 7], \"bias\": true, \"padding\": [0, 3]}}, {\"class\": \"ReLU\", \"kargs\": {\"inplace\": true}}, {\"class\": \"BatchNorm2d\", \"kargs\": {\"num_features\": 80}}, {\"class\": \"Flatten\", \"kargs\": {}}, {\"class\": \"Linear\", \"kargs\": {\"in_features\": 20480, \"out_features\": 256}}, {\"class\": \"ReLU\", \"kargs\": {\"inplace\": true}}, {\"class\": \"BatchNorm1d\", \"kargs\": {\"num_features\": 256}}, {\"class\": \"Linear\", \"kargs\": {\"in_features\": 256, \"out_features\": 256}}], \"NUM_LOGS_PER_EPOCH\": 10, \"BEST_MODEL_PATH\": \"./best_model.pth\", \"n_way\": 19, \"datasets\": [{\"labels\": [\"1-10.\", \"1-11.\", \"1-15.\", \"1-16.\", \"1-17.\", \"1-18.\", \"1-19.\", \"10-4.\", \"10-7.\", \"11-1.\", \"11-14.\", \"11-17.\", \"11-20.\", \"11-7.\", \"13-20.\", \"13-8.\", \"14-10.\", \"14-11.\", \"14-14.\", \"14-7.\", \"15-1.\", \"15-20.\", \"16-1.\", \"16-16.\", \"17-10.\", \"17-11.\", \"17-2.\", \"19-1.\", \"19-16.\", \"19-19.\", \"19-20.\", \"19-3.\", \"2-10.\", \"2-11.\", \"2-17.\", \"2-18.\", \"2-20.\", \"2-3.\", \"2-4.\", \"2-5.\", \"2-6.\", \"2-7.\", \"2-8.\", \"3-13.\", \"3-18.\", \"3-3.\", \"4-1.\", \"4-10.\", \"4-11.\", \"4-19.\", \"5-5.\", \"6-15.\", \"7-10.\", \"7-14.\", \"8-18.\", \"8-20.\", \"8-3.\", \"8-8.\"], \"domains\": [1, 2, 3, 4, 5], \"num_examples_per_domain_per_label\": 100, \"pickle_path\": \"/mnt/wd500GB/CSC500/csc500-main/datasets/cores.stratified_ds.2022A.pkl\", \"source_or_target_dataset\": \"source\", \"x_transforms\": [\"unit_power\"], \"episode_transforms\": [], \"domain_prefix\": \"CORES_\"}, {\"labels\": [0, 1, 2, 3, 4, 5, 6, 7, 8, 9, 10, 11, 12, 13, 14, 15, 16, 17, 18], \"domains\": [0, 1, 2], \"num_examples_per_domain_per_label\": 100, \"pickle_path\": \"/mnt/wd500GB/CSC500/csc500-main/datasets/metehan.stratified_ds.2022A.pkl\", \"source_or_target_dataset\": \"target\", \"x_transforms\": [\"unit_power\"], \"episode_transforms\": [], \"domain_prefix\": \"Metehan_\"}], \"domains_source\": [\"CORES_1\", \"CORES_2\", \"CORES_3\", \"CORES_4\", \"CORES_5\"], \"domains_target\": [\"Metehan_0\", \"Metehan_1\", \"Metehan_2\"]}, \"results\": {\"source_test_label_accuracy\": 0.9929396662387676, \"source_test_label_loss\": 0.046432413160800934, \"target_test_label_accuracy\": 0.29239766081871343, \"target_test_label_loss\": 2.1192524433135986, \"source_val_label_accuracy\": 0.9955070603337612, \"source_val_label_loss\": 0.017482521012425423, \"target_val_label_accuracy\": 0.2909356725146199, \"target_val_label_loss\": 2.1289970874786377, \"total_epochs_trained\": 10, \"total_experiment_time_secs\": 216.17857694625854, \"confusion\": {\"CORES_3\": {\"17\": {\"17\": 12}, \"18\": {\"18\": 12}, \"27\": {\"27\": 12}, \"22\": {\"22\": 12}, \"10\": {\"10\": 12}, \"7\": {\"7\": 12}, \"13\": {\"13\": 12}, \"5\": {\"5\": 12}, \"43\": {\"43\": 12}, \"32\": {\"32\": 10}, \"15\": {\"15\": 12}, \"52\": {\"52\": 12}, \"29\": {\"29\": 12}, \"3\": {\"3\": 12}, \"8\": {\"8\": 12}, \"23\": {\"23\": 10}, \"41\": {\"41\": 12}, \"35\": {\"35\": 12}, \"40\": {\"40\": 12}, \"51\": {\"51\": 8}, \"42\": {\"42\": 12}, \"14\": {\"14\": 12}, \"25\": {\"25\": 12}, \"19\": {\"19\": 8}, \"11\": {\"11\": 12}, \"16\": {\"16\": 12}, \"24\": {\"24\": 10}, \"57\": {\"57\": 10}, \"12\": {\"12\": 12}, \"46\": {\"46\": 12}, \"28\": {\"28\": 12}, \"47\": {\"47\": 12}, \"9\": {\"9\": 12}, \"44\": {\"44\": 12}, \"45\": {\"45\": 12}, \"4\": {\"4\": 10}, \"50\": {\"50\": 11, \"52\": 1}, \"48\": {\"48\": 12}, \"0\": {\"0\": 12}, \"6\": {\"6\": 12}, \"55\": {\"55\": 10}, \"49\": {\"49\": 12}, \"36\": {\"36\": 12}, \"34\": {\"34\": 12}, \"37\": {\"37\": 8}, \"56\": {\"56\": 10}, \"53\": {\"53\": 12}, \"20\": {\"20\": 12}, \"21\": {\"21\": 10}, \"2\": {\"2\": 10}, \"1\": {\"1\": 10}, \"31\": {\"31\": 10}, \"30\": {\"30\": 8}, \"33\": {\"33\": 10}, \"38\": {\"38\": 12}, \"39\": {\"39\": 10}, \"54\": {\"54\": 8}, \"26\": {\"26\": 8}}, \"CORES_4\": {\"14\": {\"14\": 10}, \"27\": {\"27\": 12}, \"51\": {\"51\": 12}, \"9\": {\"9\": 12}, \"19\": {\"19\": 12}, \"34\": {\"34\": 12}, \"2\": {\"2\": 12}, \"1\": {\"1\": 12}, \"54\": {\"54\": 10}, \"47\": {\"47\": 12}, \"49\": {\"49\": 6}, \"38\": {\"38\": 8}, \"33\": {\"33\": 10}, \"31\": {\"31\": 12}, \"37\": {\"37\": 12}, \"4\": {\"4\": 12}, \"57\": {\"57\": 10}, \"15\": {\"15\": 12}, \"20\": {\"20\": 12}, \"30\": {\"30\": 12}, \"3\": {\"3\": 12}, \"17\": {\"17\": 12}, \"39\": {\"39\": 12}, \"41\": {\"41\": 12}, \"24\": {\"24\": 10}, \"40\": {\"40\": 10}, \"23\": {\"23\": 12}, \"13\": {\"13\": 9, \"24\": 1}, \"0\": {\"0\": 12}, \"11\": {\"11\": 12}, \"48\": {\"48\": 10}, \"5\": {\"5\": 10, \"7\": 1, \"16\": 1}, \"12\": {\"12\": 12}, \"52\": {\"52\": 12}, \"16\": {\"16\": 12}, \"25\": {\"25\": 12}, \"28\": {\"28\": 12}, \"18\": {\"18\": 12}, \"32\": {\"32\": 10}, \"50\": {\"50\": 12}, \"46\": {\"46\": 11, \"31\": 1}, \"55\": {\"55\": 8}, \"56\": {\"56\": 12}, \"43\": {\"43\": 12}, \"36\": {\"36\": 10}, \"29\": {\"29\": 12}, \"22\": {\"22\": 12}, \"21\": {\"21\": 12}, \"53\": {\"53\": 10}, \"7\": {\"7\": 12}, \"10\": {\"10\": 8}, \"35\": {\"35\": 12}, \"6\": {\"6\": 12}, \"26\": {\"26\": 8}, \"45\": {\"45\": 10}, \"8\": {\"8\": 12}, \"44\": {\"44\": 10}, \"42\": {\"42\": 10}}, \"CORES_5\": {\"17\": {\"17\": 12}, \"3\": {\"3\": 12}, \"44\": {\"44\": 10}, \"1\": {\"1\": 12}, \"41\": {\"41\": 12}, \"5\": {\"5\": 12}, \"2\": {\"2\": 10}, \"46\": {\"46\": 10}, \"35\": {\"35\": 8}, \"26\": {\"26\": 12}, \"54\": {\"54\": 12}, \"36\": {\"36\": 12}, \"49\": {\"49\": 12}, \"19\": {\"19\": 10}, \"43\": {\"43\": 12}, \"28\": {\"28\": 8}, \"39\": {\"39\": 12}, \"16\": {\"16\": 12}, \"38\": {\"38\": 12}, \"47\": {\"47\": 10}, \"29\": {\"29\": 10}, \"56\": {\"56\": 4}, \"20\": {\"20\": 12}, \"22\": {\"22\": 10}, \"14\": {\"14\": 12}, \"6\": {\"6\": 10, \"53\": 1, \"9\": 1}, \"52\": {\"52\": 12}, \"18\": {\"18\": 10}, \"27\": {\"27\": 11, \"32\": 1}, \"48\": {\"48\": 12}, \"34\": {\"34\": 12}, \"51\": {\"51\": 12}, \"24\": {\"24\": 10}, \"33\": {\"33\": 12}, \"45\": {\"45\": 12}, \"32\": {\"32\": 10}, \"25\": {\"25\": 8}, \"31\": {\"31\": 6}, \"15\": {\"15\": 10}, \"55\": {\"55\": 10}, \"53\": {\"53\": 12}, \"10\": {\"10\": 12}, \"40\": {\"40\": 12}, \"4\": {\"4\": 12}, \"11\": {\"11\": 11, \"15\": 1}, \"42\": {\"42\": 10}, \"8\": {\"8\": 10}, \"23\": {\"23\": 12}, \"50\": {\"50\": 12}, \"21\": {\"21\": 10}, \"30\": {\"30\": 12}, \"9\": {\"9\": 10}, \"13\": {\"13\": 6}, \"0\": {\"0\": 8}, \"37\": {\"37\": 8}, \"57\": {\"57\": 8}, \"7\": {\"7\": 6}, \"12\": {\"12\": 6}}, \"CORES_1\": {\"42\": {\"42\": 10}, \"32\": {\"32\": 12}, \"56\": {\"56\": 10}, \"39\": {\"39\": 8}, \"36\": {\"36\": 12}, \"16\": {\"16\": 8}, \"25\": {\"25\": 12}, \"47\": {\"47\": 12}, \"15\": {\"15\": 12}, \"38\": {\"38\": 12}, \"50\": {\"50\": 10}, \"57\": {\"57\": 11, \"56\": 1}, \"9\": {\"9\": 10}, \"31\": {\"31\": 8}, \"11\": {\"11\": 12}, \"46\": {\"46\": 10}, \"53\": {\"53\": 12}, \"24\": {\"24\": 12}, \"5\": {\"5\": 10}, \"34\": {\"34\": 8}, \"27\": {\"27\": 10}, \"14\": {\"14\": 12}, \"8\": {\"8\": 12}, \"18\": {\"18\": 12}, \"45\": {\"45\": 12}, \"6\": {\"6\": 10}, \"55\": {\"55\": 10}, \"49\": {\"49\": 12}, \"21\": {\"21\": 8}, \"10\": {\"10\": 12}, \"48\": {\"48\": 12}, \"35\": {\"35\": 12}, \"3\": {\"3\": 12}, \"33\": {\"33\": 12}, \"41\": {\"41\": 12}, \"40\": {\"40\": 12}, \"1\": {\"1\": 12}, \"43\": {\"43\": 12}, \"28\": {\"28\": 12}, \"44\": {\"44\": 10}, \"37\": {\"37\": 12}, \"51\": {\"51\": 12}, \"0\": {\"0\": 10}, \"7\": {\"7\": 10}, \"13\": {\"13\": 12}, \"23\": {\"23\": 10}, \"12\": {\"12\": 10}, \"54\": {\"54\": 12}, \"22\": {\"22\": 6}, \"19\": {\"19\": 8}, \"29\": {\"29\": 10}, \"20\": {\"20\": 10}, \"52\": {\"52\": 10}, \"17\": {\"17\": 8}, \"4\": {\"4\": 10}, \"30\": {\"30\": 6}, \"26\": {\"26\": 6}, \"2\": {\"2\": 6}}, \"CORES_2\": {\"6\": {\"6\": 8}, \"35\": {\"35\": 10}, \"38\": {\"38\": 10}, \"44\": {\"44\": 10}, \"33\": {\"33\": 12}, \"37\": {\"37\": 12}, \"1\": {\"1\": 12}, \"50\": {\"50\": 12}, \"12\": {\"12\": 12}, \"11\": {\"11\": 8}, \"51\": {\"51\": 11, \"20\": 1}, \"9\": {\"9\": 12}, \"34\": {\"34\": 12}, \"3\": {\"3\": 12}, \"23\": {\"23\": 12}, \"55\": {\"55\": 10}, \"57\": {\"57\": 12}, \"7\": {\"7\": 12}, \"30\": {\"30\": 10}, \"2\": {\"2\": 10}, \"27\": {\"27\": 12}, \"14\": {\"14\": 12}, \"0\": {\"0\": 12}, \"17\": {\"17\": 10}, \"5\": {\"5\": 12}, \"19\": {\"19\": 10}, \"41\": {\"41\": 12}, \"15\": {\"15\": 10}, \"4\": {\"4\": 11, \"19\": 1}, \"29\": {\"29\": 12}, \"31\": {\"31\": 10}, \"48\": {\"48\": 12}, \"21\": {\"21\": 12}, \"20\": {\"20\": 12}, \"39\": {\"39\": 10}, \"45\": {\"45\": 12}, \"49\": {\"49\": 11, \"33\": 1}, \"56\": {\"56\": 12}, \"47\": {\"47\": 11, \"15\": 1}, \"43\": {\"43\": 12}, \"52\": {\"52\": 10}, \"13\": {\"13\": 12}, \"32\": {\"32\": 8}, \"25\": {\"25\": 8}, \"26\": {\"26\": 12}, \"8\": {\"8\": 12}, \"42\": {\"42\": 10}, \"54\": {\"54\": 12}, \"28\": {\"28\": 6}, \"40\": {\"40\": 10}, \"22\": {\"22\": 10}, \"10\": {\"10\": 10}, \"53\": {\"53\": 10}, \"24\": {\"24\": 6}, \"36\": {\"36\": 4}, \"46\": {\"46\": 6}, \"16\": {\"16\": 6}, \"18\": {\"18\": 6}}, \"Metehan_1\": {\"9\": {\"13\": 1, \"9\": 4, \"4\": 2, \"14\": 4, \"6\": 1}, \"5\": {\"5\": 3, \"1\": 4, \"17\": 3, \"18\": 2}, \"15\": {\"17\": 1, \"8\": 2, \"15\": 6, \"12\": 1, \"3\": 1, \"11\": 1}, \"13\": {\"13\": 5, \"12\": 2, \"14\": 3, \"6\": 1, \"0\": 1}, \"11\": {\"18\": 1, \"11\": 4, \"1\": 1, \"3\": 1, \"12\": 2, \"16\": 2, \"8\": 1}, \"7\": {\"16\": 4, \"7\": 4, \"10\": 2, \"0\": 1, \"3\": 1}, \"2\": {\"2\": 5, \"10\": 1, \"16\": 1, \"0\": 2, \"7\": 2, \"5\": 1}, \"6\": {\"4\": 3, \"6\": 3, \"13\": 2, \"14\": 2, \"9\": 2}, \"16\": {\"17\": 4, \"3\": 1, \"16\": 2, \"18\": 2, \"5\": 1, \"10\": 1, \"15\": 1}, \"14\": {\"4\": 2, \"6\": 4, \"13\": 3, \"14\": 3}, \"18\": {\"18\": 3, \"1\": 2, \"5\": 3, \"10\": 3, \"17\": 1}, \"1\": {\"1\": 6, \"10\": 2, \"5\": 3, \"2\": 1}, \"10\": {\"16\": 2, \"5\": 1, \"10\": 5, \"1\": 1, \"17\": 2, \"18\": 1}, \"12\": {\"15\": 2, \"7\": 1, \"12\": 5, \"13\": 3, \"0\": 1}, \"3\": {\"3\": 4, \"0\": 2, \"12\": 3, \"17\": 1, \"7\": 1, \"15\": 1}, \"8\": {\"12\": 3, \"3\": 2, \"15\": 4, \"17\": 2, \"8\": 1}, \"0\": {\"14\": 2, \"3\": 2, \"2\": 1, \"0\": 4, \"7\": 3}, \"4\": {\"4\": 5, \"9\": 2, \"14\": 3, \"6\": 2}, \"17\": {\"3\": 2, \"17\": 2, \"10\": 2, \"11\": 1, \"16\": 3, \"1\": 1, \"8\": 1}}, \"Metehan_0\": {\"6\": {\"14\": 3, \"4\": 5, \"6\": 3, \"0\": 1}, \"18\": {\"1\": 3, \"5\": 6, \"17\": 1, \"18\": 2}, \"2\": {\"10\": 2, \"0\": 1, \"5\": 1, \"7\": 6, \"3\": 2}, \"17\": {\"17\": 1, \"11\": 7, \"18\": 3, \"16\": 1}, \"1\": {\"1\": 3, \"18\": 4, \"10\": 2, \"5\": 1, \"7\": 1, \"16\": 1}, \"4\": {\"14\": 2, \"4\": 7, \"6\": 2, \"9\": 1}, \"8\": {\"3\": 1, \"15\": 4, \"16\": 2, \"8\": 3, \"12\": 2}, \"9\": {\"6\": 3, \"14\": 5, \"4\": 2, \"9\": 2}, \"7\": {\"0\": 3, \"7\": 4, \"10\": 1, \"1\": 1, \"6\": 1, \"2\": 2}, \"15\": {\"15\": 9, \"16\": 1, \"12\": 1, \"8\": 1}, \"12\": {\"15\": 2, \"9\": 1, \"13\": 2, \"12\": 5, \"8\": 1, \"0\": 1}, \"11\": {\"15\": 1, \"16\": 3, \"11\": 3, \"10\": 1, \"8\": 1, \"12\": 1, \"17\": 2}, \"13\": {\"9\": 2, \"12\": 3, \"13\": 6, \"14\": 1}, \"0\": {\"0\": 4, \"3\": 2, \"7\": 2, \"14\": 2, \"11\": 1, \"13\": 1}, \"10\": {\"1\": 2, \"16\": 3, \"7\": 2, \"2\": 2, \"10\": 1, \"0\": 1, \"5\": 1}, \"14\": {\"14\": 4, \"6\": 4, \"3\": 1, \"4\": 2, \"13\": 1}, \"3\": {\"8\": 1, \"2\": 2, \"3\": 3, \"12\": 3, \"0\": 2, \"7\": 1}, \"5\": {\"18\": 4, \"1\": 3, \"16\": 1, \"5\": 2, \"2\": 1, \"11\": 1}, \"16\": {\"8\": 1, \"16\": 3, \"7\": 1, \"12\": 1, \"11\": 3, \"3\": 1, \"17\": 1, \"10\": 1}}, \"Metehan_2\": {\"1\": {\"1\": 7, \"5\": 4, \"10\": 1}, \"0\": {\"0\": 4, \"7\": 2, \"12\": 1, \"6\": 1, \"3\": 2, \"16\": 1, \"2\": 1}, \"13\": {\"12\": 3, \"15\": 1, \"6\": 2, \"13\": 5, \"16\": 1}, \"11\": {\"15\": 2, \"11\": 1, \"18\": 1, \"8\": 2, \"3\": 2, \"17\": 2, \"12\": 1, \"13\": 1}, \"5\": {\"18\": 7, \"5\": 3, \"2\": 1, \"17\": 1}, \"15\": {\"15\": 3, \"11\": 3, \"3\": 1, \"16\": 1, \"8\": 2, \"12\": 1, \"13\": 1}, \"14\": {\"0\": 2, \"7\": 1, \"14\": 5, \"9\": 2, \"4\": 2}, \"8\": {\"15\": 3, \"16\": 3, \"12\": 4, \"17\": 1, \"11\": 1}, \"6\": {\"4\": 3, \"9\": 5, \"14\": 2, \"6\": 1, \"3\": 1}, \"3\": {\"16\": 1, \"12\": 2, \"0\": 2, \"3\": 1, \"13\": 2, \"15\": 1, \"10\": 1, \"17\": 1, \"2\": 1}, \"10\": {\"1\": 1, \"2\": 1, \"17\": 2, \"5\": 1, \"16\": 2, \"0\": 2, \"7\": 1, \"10\": 2}, \"7\": {\"1\": 2, \"7\": 2, \"10\": 1, \"2\": 3, \"0\": 3, \"14\": 1}, \"17\": {\"11\": 6, \"10\": 2, \"5\": 1, \"18\": 1, \"16\": 1, \"3\": 1}, \"4\": {\"6\": 4, \"14\": 3, \"4\": 4, \"0\": 1}, \"2\": {\"2\": 5, \"10\": 2, \"0\": 2, \"7\": 3}, \"9\": {\"9\": 8, \"6\": 3, \"14\": 1}, \"12\": {\"15\": 3, \"12\": 4, \"0\": 1, \"16\": 1, \"3\": 1, \"10\": 1, \"13\": 1}, \"18\": {\"5\": 8, \"17\": 1, \"18\": 3}, \"16\": {\"11\": 2, \"10\": 4, \"16\": 2, \"0\": 1, \"8\": 2, \"7\": 1}}}, \"per_domain_accuracy\": {\"CORES_3\": {\"accuracy\": 0.9984520123839009, \"source?\": true}, \"CORES_4\": {\"accuracy\": 0.9938080495356038, \"source?\": true}, \"CORES_5\": {\"accuracy\": 0.993421052631579, \"source?\": true}, \"CORES_1\": {\"accuracy\": 0.9983552631578947, \"source?\": true}, \"CORES_2\": {\"accuracy\": 0.993421052631579, \"source?\": true}, \"Metehan_1\": {\"accuracy\": 0.32456140350877194, \"source?\": false}, \"Metehan_0\": {\"accuracy\": 0.2850877192982456, \"source?\": false}, \"Metehan_2\": {\"accuracy\": 0.2631578947368421, \"source?\": false}}}, \"history\": {\"epoch_indices\": [1, 2, 3, 4, 5, 6, 7, 8, 9, 10], \"train_label_loss\": [0.12246777659054393, 0.059652903935044174, 0.0337683044685354, 0.023995597623391533, 0.03661040579131143, 0.023830275486849472, 0.017556000516658603, 0.02645370160342472, 0.016716418323047752, 0.012640688481880396], \"source_val_label_loss\": [0.025843415409326553, 0.05209733545780182, 0.029931727796792984, 0.025512732565402985, 0.03135479614138603, 0.017482521012425423, 0.02393280155956745, 0.06443309783935547, 0.028588593006134033, 0.01569950580596924], \"target_val_label_loss\": [2.7103092670440674, 2.60349702835083, 2.5280139446258545, 2.4517645835876465, 2.4213876724243164, 2.1289970874786377, 2.2216336727142334, 2.1529784202575684, 2.465634346008301, 2.475515604019165], \"source_val_acc_label\": [0.9929396662387676, 0.9849165596919127, 0.9919768934531451, 0.9926187419768935, 0.9939024390243902, 0.9955070603337612, 0.9942233632862645, 0.9910141206675225, 0.9948652118100129, 0.9977535301668806], \"target_val_acc_label\": [0.29239766081871343, 0.23976608187134502, 0.22514619883040934, 0.22807017543859648, 0.2324561403508772, 0.2909356725146199, 0.25584795321637427, 0.2573099415204678, 0.1695906432748538, 0.2134502923976608]}, \"dataset_metrics\": {\"source\": {\"train\": {\"n_unique_x\": 20299, \"n_unique_y\": 58, \"n_batch/episode\": 613}, \"val\": {\"n_unique_x\": 4299, \"n_unique_y\": 58, \"n_batch/episode\": 82}, \"test\": {\"n_unique_x\": 4299, \"n_unique_y\": 58, \"n_batch/episode\": 82}}, \"target\": {\"train\": {\"n_unique_x\": 3990, \"n_unique_y\": 19, \"n_batch/episode\": 126}, \"val\": {\"n_unique_x\": 855, \"n_unique_y\": 19, \"n_batch/episode\": 18}, \"test\": {\"n_unique_x\": 855, \"n_unique_y\": 19, \"n_batch/episode\": 18}}}}'"
      ]
     },
     "execution_count": 29,
     "metadata": {},
     "output_type": "execute_result"
    }
   ],
   "source": [
    "json.dumps(experiment)"
   ]
  }
 ],
 "metadata": {
  "celltoolbar": "Tags",
  "kernelspec": {
   "display_name": "Python 3 (ipykernel)",
   "language": "python",
   "name": "python3"
  },
  "language_info": {
   "codemirror_mode": {
    "name": "ipython",
    "version": 3
   },
   "file_extension": ".py",
   "mimetype": "text/x-python",
   "name": "python",
   "nbconvert_exporter": "python",
   "pygments_lexer": "ipython3",
   "version": "3.8.10"
  },
  "papermill": {
   "default_parameters": {},
   "duration": 227.695968,
   "end_time": "2022-03-07T01:00:36.032171",
   "environment_variables": {},
   "exception": null,
   "input_path": "/mnt/wd500GB/CSC500/csc500-main/csc500-notebooks/templates/tl_ptn_template.ipynb",
   "output_path": "trial.ipynb",
   "parameters": {
    "parameters": {
     "BEST_MODEL_PATH": "./best_model.pth",
     "NUM_LOGS_PER_EPOCH": 10,
     "criteria_for_best": "target_loss",
     "dataset_seed": 1337,
     "datasets": [
      {
       "domain_prefix": "CORES_",
       "domains": [
        1,
        2,
        3,
        4,
        5
       ],
       "episode_transforms": [],
       "labels": [
        "1-10.",
        "1-11.",
        "1-15.",
        "1-16.",
        "1-17.",
        "1-18.",
        "1-19.",
        "10-4.",
        "10-7.",
        "11-1.",
        "11-14.",
        "11-17.",
        "11-20.",
        "11-7.",
        "13-20.",
        "13-8.",
        "14-10.",
        "14-11.",
        "14-14.",
        "14-7.",
        "15-1.",
        "15-20.",
        "16-1.",
        "16-16.",
        "17-10.",
        "17-11.",
        "17-2.",
        "19-1.",
        "19-16.",
        "19-19.",
        "19-20.",
        "19-3.",
        "2-10.",
        "2-11.",
        "2-17.",
        "2-18.",
        "2-20.",
        "2-3.",
        "2-4.",
        "2-5.",
        "2-6.",
        "2-7.",
        "2-8.",
        "3-13.",
        "3-18.",
        "3-3.",
        "4-1.",
        "4-10.",
        "4-11.",
        "4-19.",
        "5-5.",
        "6-15.",
        "7-10.",
        "7-14.",
        "8-18.",
        "8-20.",
        "8-3.",
        "8-8."
       ],
       "num_examples_per_domain_per_label": 100,
       "pickle_path": "/mnt/wd500GB/CSC500/csc500-main/datasets/cores.stratified_ds.2022A.pkl",
       "source_or_target_dataset": "source",
       "x_transforms": [
        "unit_power"
       ]
      },
      {
       "domain_prefix": "Metehan_",
       "domains": [
        0,
        1,
        2
       ],
       "episode_transforms": [],
       "labels": [
        0,
        1,
        2,
        3,
        4,
        5,
        6,
        7,
        8,
        9,
        10,
        11,
        12,
        13,
        14,
        15,
        16,
        17,
        18
       ],
       "num_examples_per_domain_per_label": 100,
       "pickle_path": "/mnt/wd500GB/CSC500/csc500-main/datasets/metehan.stratified_ds.2022A.pkl",
       "source_or_target_dataset": "target",
       "x_transforms": [
        "unit_power"
       ]
      }
     ],
     "device": "cuda",
     "experiment_name": "tl_1_cores-metehan",
     "lr": 0.001,
     "n_epoch": 50,
     "n_query": 2,
     "n_shot": 3,
     "n_way": 19,
     "patience": 3,
     "seed": 1337,
     "test_k_factor": 2,
     "torch_default_dtype": "torch.float32",
     "train_k_factor": 3,
     "val_k_factor": 2,
     "x_net": [
      {
       "class": "nnReshape",
       "kargs": {
        "shape": [
         -1,
         1,
         2,
         256
        ]
       }
      },
      {
       "class": "Conv2d",
       "kargs": {
        "bias": false,
        "in_channels": 1,
        "kernel_size": [
         1,
         7
        ],
        "out_channels": 256,
        "padding": [
         0,
         3
        ]
       }
      },
      {
       "class": "ReLU",
       "kargs": {
        "inplace": true
       }
      },
      {
       "class": "BatchNorm2d",
       "kargs": {
        "num_features": 256
       }
      },
      {
       "class": "Conv2d",
       "kargs": {
        "bias": true,
        "in_channels": 256,
        "kernel_size": [
         2,
         7
        ],
        "out_channels": 80,
        "padding": [
         0,
         3
        ]
       }
      },
      {
       "class": "ReLU",
       "kargs": {
        "inplace": true
       }
      },
      {
       "class": "BatchNorm2d",
       "kargs": {
        "num_features": 80
       }
      },
      {
       "class": "Flatten",
       "kargs": {}
      },
      {
       "class": "Linear",
       "kargs": {
        "in_features": 20480,
        "out_features": 256
       }
      },
      {
       "class": "ReLU",
       "kargs": {
        "inplace": true
       }
      },
      {
       "class": "BatchNorm1d",
       "kargs": {
        "num_features": 256
       }
      },
      {
       "class": "Linear",
       "kargs": {
        "in_features": 256,
        "out_features": 256
       }
      }
     ]
    }
   },
   "start_time": "2022-03-07T00:56:48.336203",
   "version": "2.3.4"
  }
 },
 "nbformat": 4,
 "nbformat_minor": 5
}