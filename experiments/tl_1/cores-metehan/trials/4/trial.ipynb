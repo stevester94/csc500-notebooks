{
 "cells": [
  {
   "cell_type": "markdown",
   "id": "9fea5f46",
   "metadata": {
    "papermill": {
     "duration": 0.017811,
     "end_time": "2022-03-07T01:06:10.392551",
     "exception": false,
     "start_time": "2022-03-07T01:06:10.374740",
     "status": "completed"
    },
    "tags": []
   },
   "source": [
    "# Transfer Learning Template"
   ]
  },
  {
   "cell_type": "code",
   "execution_count": 1,
   "id": "0902182a",
   "metadata": {
    "execution": {
     "iopub.execute_input": "2022-03-07T01:06:10.429924Z",
     "iopub.status.busy": "2022-03-07T01:06:10.429502Z",
     "iopub.status.idle": "2022-03-07T01:06:11.243361Z",
     "shell.execute_reply": "2022-03-07T01:06:11.242903Z"
    },
    "papermill": {
     "duration": 0.838024,
     "end_time": "2022-03-07T01:06:11.243453",
     "exception": false,
     "start_time": "2022-03-07T01:06:10.405429",
     "status": "completed"
    },
    "tags": []
   },
   "outputs": [],
   "source": [
    "%load_ext autoreload\n",
    "%autoreload 2\n",
    "%matplotlib inline\n",
    "\n",
    "    \n",
    "import os, json, sys, time, random\n",
    "import numpy as np\n",
    "import torch\n",
    "from torch.optim import Adam\n",
    "from  easydict import EasyDict\n",
    "import matplotlib.pyplot as plt\n",
    "\n",
    "from steves_models.steves_ptn import Steves_Prototypical_Network\n",
    "\n",
    "from steves_utils.lazy_iterable_wrapper import Lazy_Iterable_Wrapper\n",
    "from steves_utils.iterable_aggregator import Iterable_Aggregator\n",
    "from steves_utils.ptn_train_eval_test_jig import  PTN_Train_Eval_Test_Jig\n",
    "from steves_utils.torch_sequential_builder import build_sequential\n",
    "from steves_utils.torch_utils import get_dataset_metrics, ptn_confusion_by_domain_over_dataloader\n",
    "from steves_utils.utils_v2 import (per_domain_accuracy_from_confusion, get_datasets_base_path)\n",
    "from steves_utils.PTN.utils import independent_accuracy_assesment\n",
    "\n",
    "from torch.utils.data import DataLoader\n",
    "\n",
    "from steves_utils.stratified_dataset.episodic_accessor import Episodic_Accessor_Factory\n",
    "\n",
    "from steves_utils.ptn_do_report import (\n",
    "    get_loss_curve,\n",
    "    get_results_table,\n",
    "    get_parameters_table,\n",
    "    get_domain_accuracies,\n",
    ")\n",
    "\n",
    "from steves_utils.transforms import get_chained_transform"
   ]
  },
  {
   "cell_type": "markdown",
   "id": "41c840b4",
   "metadata": {
    "papermill": {
     "duration": 0.015814,
     "end_time": "2022-03-07T01:06:11.275505",
     "exception": false,
     "start_time": "2022-03-07T01:06:11.259691",
     "status": "completed"
    },
    "tags": []
   },
   "source": [
    "# Allowed Parameters\n",
    "These are allowed parameters, not defaults\n",
    "Each of these values need to be present in the injected parameters (the notebook will raise an exception if they are not present)\n",
    "\n",
    "Papermill uses the cell tag \"parameters\" to inject the real parameters below this cell.\n",
    "Enable tags to see what I mean"
   ]
  },
  {
   "cell_type": "code",
   "execution_count": 2,
   "id": "fd44eb83",
   "metadata": {
    "execution": {
     "iopub.execute_input": "2022-03-07T01:06:11.305270Z",
     "iopub.status.busy": "2022-03-07T01:06:11.304996Z",
     "iopub.status.idle": "2022-03-07T01:06:11.317974Z",
     "shell.execute_reply": "2022-03-07T01:06:11.318408Z"
    },
    "papermill": {
     "duration": 0.030213,
     "end_time": "2022-03-07T01:06:11.318557",
     "exception": false,
     "start_time": "2022-03-07T01:06:11.288344",
     "status": "completed"
    },
    "tags": []
   },
   "outputs": [],
   "source": [
    "required_parameters = {\n",
    "    \"experiment_name\",\n",
    "    \"lr\",\n",
    "    \"device\",\n",
    "    \"seed\",\n",
    "    \"dataset_seed\",\n",
    "    \"n_shot\",\n",
    "    \"n_query\",\n",
    "    \"n_way\",\n",
    "    \"train_k_factor\",\n",
    "    \"val_k_factor\",\n",
    "    \"test_k_factor\",\n",
    "    \"n_epoch\",\n",
    "    \"patience\",\n",
    "    \"criteria_for_best\",\n",
    "    \"x_net\",\n",
    "    \"datasets\",\n",
    "    \"torch_default_dtype\",\n",
    "    \"NUM_LOGS_PER_EPOCH\",\n",
    "    \"BEST_MODEL_PATH\",\n",
    "}"
   ]
  },
  {
   "cell_type": "code",
   "execution_count": 3,
   "id": "fa3f0049",
   "metadata": {
    "execution": {
     "iopub.execute_input": "2022-03-07T01:06:11.359205Z",
     "iopub.status.busy": "2022-03-07T01:06:11.358754Z",
     "iopub.status.idle": "2022-03-07T01:06:11.371498Z",
     "shell.execute_reply": "2022-03-07T01:06:11.371803Z"
    },
    "papermill": {
     "duration": 0.035924,
     "end_time": "2022-03-07T01:06:11.371910",
     "exception": false,
     "start_time": "2022-03-07T01:06:11.335986",
     "status": "completed"
    },
    "tags": [
     "parameters"
    ]
   },
   "outputs": [],
   "source": [
    "from steves_utils.CORES.utils import (\n",
    "    ALL_NODES,\n",
    "    ALL_NODES_MINIMUM_1000_EXAMPLES,\n",
    "    ALL_DAYS\n",
    ")\n",
    "\n",
    "from steves_utils.ORACLE.utils_v2 import (\n",
    "    ALL_DISTANCES_FEET_NARROWED,\n",
    "    ALL_RUNS,\n",
    "    ALL_SERIAL_NUMBERS,\n",
    ")\n",
    "\n",
    "standalone_parameters = {}\n",
    "standalone_parameters[\"experiment_name\"] = \"STANDALONE PTN\"\n",
    "standalone_parameters[\"lr\"] = 0.001\n",
    "standalone_parameters[\"device\"] = \"cuda\"\n",
    "\n",
    "standalone_parameters[\"seed\"] = 1337\n",
    "standalone_parameters[\"dataset_seed\"] = 1337\n",
    "\n",
    "standalone_parameters[\"n_way\"] = 8\n",
    "standalone_parameters[\"n_shot\"] = 3\n",
    "standalone_parameters[\"n_query\"]  = 2\n",
    "standalone_parameters[\"train_k_factor\"] = 1\n",
    "standalone_parameters[\"val_k_factor\"] = 2\n",
    "standalone_parameters[\"test_k_factor\"] = 2\n",
    "\n",
    "\n",
    "standalone_parameters[\"n_epoch\"] = 50\n",
    "\n",
    "standalone_parameters[\"patience\"] = 10\n",
    "standalone_parameters[\"criteria_for_best\"] = \"source_loss\"\n",
    "\n",
    "standalone_parameters[\"datasets\"] = [\n",
    "    {\n",
    "        \"labels\": ALL_SERIAL_NUMBERS,\n",
    "        \"domains\": ALL_DISTANCES_FEET_NARROWED,\n",
    "        \"num_examples_per_domain_per_label\": 100,\n",
    "        \"pickle_path\": os.path.join(get_datasets_base_path(), \"oracle.Run1_framed_2000Examples_stratified_ds.2022A.pkl\"),\n",
    "        \"source_or_target_dataset\": \"source\",\n",
    "        \"x_transforms\": [\"unit_mag\", \"minus_two\"],\n",
    "        \"episode_transforms\": [],\n",
    "        \"domain_prefix\": \"ORACLE_\"\n",
    "    },\n",
    "    {\n",
    "        \"labels\": ALL_NODES,\n",
    "        \"domains\": ALL_DAYS,\n",
    "        \"num_examples_per_domain_per_label\": 100,\n",
    "        \"pickle_path\": os.path.join(get_datasets_base_path(), \"cores.stratified_ds.2022A.pkl\"),\n",
    "        \"source_or_target_dataset\": \"target\",\n",
    "        \"x_transforms\": [\"unit_power\", \"times_zero\"],\n",
    "        \"episode_transforms\": [],\n",
    "        \"domain_prefix\": \"CORES_\"\n",
    "    }   \n",
    "]\n",
    "\n",
    "standalone_parameters[\"torch_default_dtype\"] = \"torch.float32\" \n",
    "\n",
    "\n",
    "\n",
    "standalone_parameters[\"x_net\"] =     [\n",
    "    {\"class\": \"nnReshape\", \"kargs\": {\"shape\":[-1, 1, 2, 256]}},\n",
    "    {\"class\": \"Conv2d\", \"kargs\": { \"in_channels\":1, \"out_channels\":256, \"kernel_size\":(1,7), \"bias\":False, \"padding\":(0,3), },},\n",
    "    {\"class\": \"ReLU\", \"kargs\": {\"inplace\": True}},\n",
    "    {\"class\": \"BatchNorm2d\", \"kargs\": {\"num_features\":256}},\n",
    "\n",
    "    {\"class\": \"Conv2d\", \"kargs\": { \"in_channels\":256, \"out_channels\":80, \"kernel_size\":(2,7), \"bias\":True, \"padding\":(0,3), },},\n",
    "    {\"class\": \"ReLU\", \"kargs\": {\"inplace\": True}},\n",
    "    {\"class\": \"BatchNorm2d\", \"kargs\": {\"num_features\":80}},\n",
    "    {\"class\": \"Flatten\", \"kargs\": {}},\n",
    "\n",
    "    {\"class\": \"Linear\", \"kargs\": {\"in_features\": 80*256, \"out_features\": 256}}, # 80 units per IQ pair\n",
    "    {\"class\": \"ReLU\", \"kargs\": {\"inplace\": True}},\n",
    "    {\"class\": \"BatchNorm1d\", \"kargs\": {\"num_features\":256}},\n",
    "\n",
    "    {\"class\": \"Linear\", \"kargs\": {\"in_features\": 256, \"out_features\": 256}},\n",
    "]\n",
    "\n",
    "# Parameters relevant to results\n",
    "# These parameters will basically never need to change\n",
    "standalone_parameters[\"NUM_LOGS_PER_EPOCH\"] = 10\n",
    "standalone_parameters[\"BEST_MODEL_PATH\"] = \"./best_model.pth\"\n",
    "\n",
    "\n",
    "\n",
    "\n"
   ]
  },
  {
   "cell_type": "code",
   "execution_count": 4,
   "id": "32f2ea4c",
   "metadata": {
    "execution": {
     "iopub.execute_input": "2022-03-07T01:06:11.413625Z",
     "iopub.status.busy": "2022-03-07T01:06:11.413285Z",
     "iopub.status.idle": "2022-03-07T01:06:11.425187Z",
     "shell.execute_reply": "2022-03-07T01:06:11.424543Z"
    },
    "papermill": {
     "duration": 0.036226,
     "end_time": "2022-03-07T01:06:11.425309",
     "exception": false,
     "start_time": "2022-03-07T01:06:11.389083",
     "status": "completed"
    },
    "tags": [
     "injected-parameters"
    ]
   },
   "outputs": [],
   "source": [
    "# Parameters\n",
    "parameters = {\n",
    "    \"experiment_name\": \"tl_1_cores-metehan\",\n",
    "    \"device\": \"cuda\",\n",
    "    \"lr\": 0.001,\n",
    "    \"seed\": 1337,\n",
    "    \"dataset_seed\": 1337,\n",
    "    \"n_shot\": 3,\n",
    "    \"n_query\": 2,\n",
    "    \"train_k_factor\": 3,\n",
    "    \"val_k_factor\": 2,\n",
    "    \"test_k_factor\": 2,\n",
    "    \"torch_default_dtype\": \"torch.float32\",\n",
    "    \"n_epoch\": 50,\n",
    "    \"patience\": 3,\n",
    "    \"criteria_for_best\": \"target_loss\",\n",
    "    \"x_net\": [\n",
    "        {\"class\": \"nnReshape\", \"kargs\": {\"shape\": [-1, 1, 2, 256]}},\n",
    "        {\n",
    "            \"class\": \"Conv2d\",\n",
    "            \"kargs\": {\n",
    "                \"in_channels\": 1,\n",
    "                \"out_channels\": 256,\n",
    "                \"kernel_size\": [1, 7],\n",
    "                \"bias\": False,\n",
    "                \"padding\": [0, 3],\n",
    "            },\n",
    "        },\n",
    "        {\"class\": \"ReLU\", \"kargs\": {\"inplace\": True}},\n",
    "        {\"class\": \"BatchNorm2d\", \"kargs\": {\"num_features\": 256}},\n",
    "        {\n",
    "            \"class\": \"Conv2d\",\n",
    "            \"kargs\": {\n",
    "                \"in_channels\": 256,\n",
    "                \"out_channels\": 80,\n",
    "                \"kernel_size\": [2, 7],\n",
    "                \"bias\": True,\n",
    "                \"padding\": [0, 3],\n",
    "            },\n",
    "        },\n",
    "        {\"class\": \"ReLU\", \"kargs\": {\"inplace\": True}},\n",
    "        {\"class\": \"BatchNorm2d\", \"kargs\": {\"num_features\": 80}},\n",
    "        {\"class\": \"Flatten\", \"kargs\": {}},\n",
    "        {\"class\": \"Linear\", \"kargs\": {\"in_features\": 20480, \"out_features\": 256}},\n",
    "        {\"class\": \"ReLU\", \"kargs\": {\"inplace\": True}},\n",
    "        {\"class\": \"BatchNorm1d\", \"kargs\": {\"num_features\": 256}},\n",
    "        {\"class\": \"Linear\", \"kargs\": {\"in_features\": 256, \"out_features\": 256}},\n",
    "    ],\n",
    "    \"NUM_LOGS_PER_EPOCH\": 10,\n",
    "    \"BEST_MODEL_PATH\": \"./best_model.pth\",\n",
    "    \"n_way\": 19,\n",
    "    \"datasets\": [\n",
    "        {\n",
    "            \"labels\": [\n",
    "                \"1-10.\",\n",
    "                \"1-11.\",\n",
    "                \"1-15.\",\n",
    "                \"1-16.\",\n",
    "                \"1-17.\",\n",
    "                \"1-18.\",\n",
    "                \"1-19.\",\n",
    "                \"10-4.\",\n",
    "                \"10-7.\",\n",
    "                \"11-1.\",\n",
    "                \"11-14.\",\n",
    "                \"11-17.\",\n",
    "                \"11-20.\",\n",
    "                \"11-7.\",\n",
    "                \"13-20.\",\n",
    "                \"13-8.\",\n",
    "                \"14-10.\",\n",
    "                \"14-11.\",\n",
    "                \"14-14.\",\n",
    "                \"14-7.\",\n",
    "                \"15-1.\",\n",
    "                \"15-20.\",\n",
    "                \"16-1.\",\n",
    "                \"16-16.\",\n",
    "                \"17-10.\",\n",
    "                \"17-11.\",\n",
    "                \"17-2.\",\n",
    "                \"19-1.\",\n",
    "                \"19-16.\",\n",
    "                \"19-19.\",\n",
    "                \"19-20.\",\n",
    "                \"19-3.\",\n",
    "                \"2-10.\",\n",
    "                \"2-11.\",\n",
    "                \"2-17.\",\n",
    "                \"2-18.\",\n",
    "                \"2-20.\",\n",
    "                \"2-3.\",\n",
    "                \"2-4.\",\n",
    "                \"2-5.\",\n",
    "                \"2-6.\",\n",
    "                \"2-7.\",\n",
    "                \"2-8.\",\n",
    "                \"3-13.\",\n",
    "                \"3-18.\",\n",
    "                \"3-3.\",\n",
    "                \"4-1.\",\n",
    "                \"4-10.\",\n",
    "                \"4-11.\",\n",
    "                \"4-19.\",\n",
    "                \"5-5.\",\n",
    "                \"6-15.\",\n",
    "                \"7-10.\",\n",
    "                \"7-14.\",\n",
    "                \"8-18.\",\n",
    "                \"8-20.\",\n",
    "                \"8-3.\",\n",
    "                \"8-8.\",\n",
    "            ],\n",
    "            \"domains\": [1, 2, 3, 4, 5],\n",
    "            \"num_examples_per_domain_per_label\": 100,\n",
    "            \"pickle_path\": \"/mnt/wd500GB/CSC500/csc500-main/datasets/cores.stratified_ds.2022A.pkl\",\n",
    "            \"source_or_target_dataset\": \"target\",\n",
    "            \"x_transforms\": [\"unit_mag\"],\n",
    "            \"episode_transforms\": [],\n",
    "            \"domain_prefix\": \"CORES_\",\n",
    "        },\n",
    "        {\n",
    "            \"labels\": [\n",
    "                0,\n",
    "                1,\n",
    "                2,\n",
    "                3,\n",
    "                4,\n",
    "                5,\n",
    "                6,\n",
    "                7,\n",
    "                8,\n",
    "                9,\n",
    "                10,\n",
    "                11,\n",
    "                12,\n",
    "                13,\n",
    "                14,\n",
    "                15,\n",
    "                16,\n",
    "                17,\n",
    "                18,\n",
    "            ],\n",
    "            \"domains\": [0, 1, 2],\n",
    "            \"num_examples_per_domain_per_label\": 100,\n",
    "            \"pickle_path\": \"/mnt/wd500GB/CSC500/csc500-main/datasets/metehan.stratified_ds.2022A.pkl\",\n",
    "            \"source_or_target_dataset\": \"source\",\n",
    "            \"x_transforms\": [\"unit_mag\"],\n",
    "            \"episode_transforms\": [],\n",
    "            \"domain_prefix\": \"Metehan_\",\n",
    "        },\n",
    "    ],\n",
    "}\n"
   ]
  },
  {
   "cell_type": "code",
   "execution_count": 5,
   "id": "8fa1cc33",
   "metadata": {
    "execution": {
     "iopub.execute_input": "2022-03-07T01:06:11.460116Z",
     "iopub.status.busy": "2022-03-07T01:06:11.459818Z",
     "iopub.status.idle": "2022-03-07T01:06:11.474378Z",
     "shell.execute_reply": "2022-03-07T01:06:11.473902Z"
    },
    "papermill": {
     "duration": 0.032408,
     "end_time": "2022-03-07T01:06:11.474518",
     "exception": false,
     "start_time": "2022-03-07T01:06:11.442110",
     "status": "completed"
    },
    "tags": []
   },
   "outputs": [],
   "source": [
    "# Set this to True if you want to run this template directly\n",
    "STANDALONE = False\n",
    "if STANDALONE:\n",
    "    print(\"parameters not injected, running with standalone_parameters\")\n",
    "    parameters = standalone_parameters\n",
    "\n",
    "if not 'parameters' in locals() and not 'parameters' in globals():\n",
    "    raise Exception(\"Parameter injection failed\")\n",
    "\n",
    "#Use an easy dict for all the parameters\n",
    "p = EasyDict(parameters)\n",
    "\n",
    "supplied_keys = set(p.keys())\n",
    "\n",
    "if  supplied_keys != required_parameters:\n",
    "    print(\"Parameters are incorrect\")\n",
    "    if len(supplied_keys - required_parameters)>0: print(\"Shouldn't have:\", str(supplied_keys - required_parameters))\n",
    "    if len(required_parameters - supplied_keys)>0: print(\"Need to have:\", str(required_parameters - supplied_keys))\n",
    "    raise RuntimeError(\"Parameters are incorrect\")\n",
    "\n"
   ]
  },
  {
   "cell_type": "code",
   "execution_count": 6,
   "id": "3a028d58",
   "metadata": {
    "execution": {
     "iopub.execute_input": "2022-03-07T01:06:11.510328Z",
     "iopub.status.busy": "2022-03-07T01:06:11.510051Z",
     "iopub.status.idle": "2022-03-07T01:06:11.524627Z",
     "shell.execute_reply": "2022-03-07T01:06:11.523994Z"
    },
    "papermill": {
     "duration": 0.031458,
     "end_time": "2022-03-07T01:06:11.524755",
     "exception": false,
     "start_time": "2022-03-07T01:06:11.493297",
     "status": "completed"
    },
    "tags": []
   },
   "outputs": [],
   "source": [
    "###################################\n",
    "# Set the RNGs and make it all deterministic\n",
    "###################################\n",
    "np.random.seed(p.seed)\n",
    "random.seed(p.seed)\n",
    "torch.manual_seed(p.seed)\n",
    "\n",
    "torch.use_deterministic_algorithms(True) "
   ]
  },
  {
   "cell_type": "code",
   "execution_count": 7,
   "id": "b691acf6",
   "metadata": {
    "execution": {
     "iopub.execute_input": "2022-03-07T01:06:11.558286Z",
     "iopub.status.busy": "2022-03-07T01:06:11.558011Z",
     "iopub.status.idle": "2022-03-07T01:06:11.571207Z",
     "shell.execute_reply": "2022-03-07T01:06:11.571492Z"
    },
    "papermill": {
     "duration": 0.029773,
     "end_time": "2022-03-07T01:06:11.571600",
     "exception": false,
     "start_time": "2022-03-07T01:06:11.541827",
     "status": "completed"
    },
    "tags": []
   },
   "outputs": [],
   "source": [
    "###########################################\n",
    "# The stratified datasets honor this\n",
    "###########################################\n",
    "torch.set_default_dtype(eval(p.torch_default_dtype))"
   ]
  },
  {
   "cell_type": "code",
   "execution_count": 8,
   "id": "b5fba671",
   "metadata": {
    "execution": {
     "iopub.execute_input": "2022-03-07T01:06:11.602958Z",
     "iopub.status.busy": "2022-03-07T01:06:11.602674Z",
     "iopub.status.idle": "2022-03-07T01:06:11.643773Z",
     "shell.execute_reply": "2022-03-07T01:06:11.644445Z"
    },
    "papermill": {
     "duration": 0.05781,
     "end_time": "2022-03-07T01:06:11.644647",
     "exception": false,
     "start_time": "2022-03-07T01:06:11.586837",
     "status": "completed"
    },
    "tags": []
   },
   "outputs": [],
   "source": [
    "###################################\n",
    "# Build the network(s)\n",
    "# Note: It's critical to do this AFTER setting the RNG\n",
    "###################################\n",
    "x_net = build_sequential(p.x_net)"
   ]
  },
  {
   "cell_type": "code",
   "execution_count": 9,
   "id": "5d7e61cc",
   "metadata": {
    "execution": {
     "iopub.execute_input": "2022-03-07T01:06:11.680978Z",
     "iopub.status.busy": "2022-03-07T01:06:11.680702Z",
     "iopub.status.idle": "2022-03-07T01:06:11.694023Z",
     "shell.execute_reply": "2022-03-07T01:06:11.694507Z"
    },
    "papermill": {
     "duration": 0.030915,
     "end_time": "2022-03-07T01:06:11.694736",
     "exception": false,
     "start_time": "2022-03-07T01:06:11.663821",
     "status": "completed"
    },
    "tags": []
   },
   "outputs": [],
   "source": [
    "start_time_secs = time.time()"
   ]
  },
  {
   "cell_type": "code",
   "execution_count": 10,
   "id": "c6b67dfd",
   "metadata": {
    "execution": {
     "iopub.execute_input": "2022-03-07T01:06:11.730950Z",
     "iopub.status.busy": "2022-03-07T01:06:11.730659Z",
     "iopub.status.idle": "2022-03-07T01:06:11.743382Z",
     "shell.execute_reply": "2022-03-07T01:06:11.743862Z"
    },
    "papermill": {
     "duration": 0.030388,
     "end_time": "2022-03-07T01:06:11.744045",
     "exception": false,
     "start_time": "2022-03-07T01:06:11.713657",
     "status": "completed"
    },
    "tags": []
   },
   "outputs": [],
   "source": [
    "p.domains_source = []\n",
    "p.domains_target = []\n",
    "\n",
    "\n",
    "train_original_source = []\n",
    "val_original_source   = []\n",
    "test_original_source  = []\n",
    "\n",
    "train_original_target = []\n",
    "val_original_target   = []\n",
    "test_original_target  = []"
   ]
  },
  {
   "cell_type": "code",
   "execution_count": 11,
   "id": "e3d9c3d3",
   "metadata": {
    "execution": {
     "iopub.execute_input": "2022-03-07T01:06:11.781671Z",
     "iopub.status.busy": "2022-03-07T01:06:11.781401Z",
     "iopub.status.idle": "2022-03-07T01:06:11.792800Z",
     "shell.execute_reply": "2022-03-07T01:06:11.793057Z"
    },
    "papermill": {
     "duration": 0.029292,
     "end_time": "2022-03-07T01:06:11.793146",
     "exception": false,
     "start_time": "2022-03-07T01:06:11.763854",
     "status": "completed"
    },
    "tags": []
   },
   "outputs": [],
   "source": [
    "# global_x_transform_func = lambda x: normalize(x.to(torch.get_default_dtype()), \"unit_power\") # unit_power, unit_mag\n",
    "# global_x_transform_func = lambda x: normalize(x, \"unit_power\") # unit_power, unit_mag"
   ]
  },
  {
   "cell_type": "code",
   "execution_count": 12,
   "id": "acb78fd2",
   "metadata": {
    "execution": {
     "iopub.execute_input": "2022-03-07T01:06:11.833912Z",
     "iopub.status.busy": "2022-03-07T01:06:11.833603Z",
     "iopub.status.idle": "2022-03-07T01:06:11.847310Z",
     "shell.execute_reply": "2022-03-07T01:06:11.847675Z"
    },
    "papermill": {
     "duration": 0.035593,
     "end_time": "2022-03-07T01:06:11.847790",
     "exception": false,
     "start_time": "2022-03-07T01:06:11.812197",
     "status": "completed"
    },
    "tags": []
   },
   "outputs": [],
   "source": [
    "def add_dataset(\n",
    "    labels,\n",
    "    domains,\n",
    "    pickle_path,\n",
    "    x_transforms,\n",
    "    episode_transforms,\n",
    "    domain_prefix,\n",
    "    num_examples_per_domain_per_label,\n",
    "    source_or_target_dataset:str,\n",
    "    iterator_seed=p.seed,\n",
    "    dataset_seed=p.dataset_seed,\n",
    "    n_shot=p.n_shot,\n",
    "    n_way=p.n_way,\n",
    "    n_query=p.n_query,\n",
    "    train_val_test_k_factors=(p.train_k_factor,p.val_k_factor,p.test_k_factor),\n",
    "):\n",
    "   \n",
    "    if x_transforms == []: x_transform = None\n",
    "    else: x_transform = get_chained_transform(x_transforms)\n",
    "    \n",
    "    if episode_transforms == []: episode_transform = None\n",
    "    else: raise Exception(\"episode_transforms not implemented\")\n",
    "    \n",
    "    episode_transform = lambda tup, _prefix=domain_prefix: (_prefix + str(tup[0]), tup[1])\n",
    "\n",
    "\n",
    "    eaf = Episodic_Accessor_Factory(\n",
    "        labels=labels,\n",
    "        domains=domains,\n",
    "        num_examples_per_domain_per_label=num_examples_per_domain_per_label,\n",
    "        iterator_seed=iterator_seed,\n",
    "        dataset_seed=dataset_seed,\n",
    "        n_shot=n_shot,\n",
    "        n_way=n_way,\n",
    "        n_query=n_query,\n",
    "        train_val_test_k_factors=train_val_test_k_factors,\n",
    "        pickle_path=pickle_path,\n",
    "        x_transform_func=x_transform,\n",
    "    )\n",
    "\n",
    "    train, val, test = eaf.get_train(), eaf.get_val(), eaf.get_test()\n",
    "    train = Lazy_Iterable_Wrapper(train, episode_transform)\n",
    "    val = Lazy_Iterable_Wrapper(val, episode_transform)\n",
    "    test = Lazy_Iterable_Wrapper(test, episode_transform)\n",
    "\n",
    "    if source_or_target_dataset==\"source\":\n",
    "        train_original_source.append(train)\n",
    "        val_original_source.append(val)\n",
    "        test_original_source.append(test)\n",
    "\n",
    "        p.domains_source.extend(\n",
    "            [domain_prefix + str(u) for u in domains]\n",
    "        )\n",
    "    elif source_or_target_dataset==\"target\":\n",
    "        train_original_target.append(train)\n",
    "        val_original_target.append(val)\n",
    "        test_original_target.append(test)\n",
    "        p.domains_target.extend(\n",
    "            [domain_prefix + str(u) for u in domains]\n",
    "        )\n",
    "    else:\n",
    "        raise Exception(f\"invalid source_or_target_dataset: {source_or_target_dataset}\")\n",
    "    "
   ]
  },
  {
   "cell_type": "code",
   "execution_count": 13,
   "id": "fe266617",
   "metadata": {
    "execution": {
     "iopub.execute_input": "2022-03-07T01:06:11.885817Z",
     "iopub.status.busy": "2022-03-07T01:06:11.885425Z",
     "iopub.status.idle": "2022-03-07T01:06:14.485986Z",
     "shell.execute_reply": "2022-03-07T01:06:14.485714Z"
    },
    "papermill": {
     "duration": 2.619037,
     "end_time": "2022-03-07T01:06:14.486052",
     "exception": false,
     "start_time": "2022-03-07T01:06:11.867015",
     "status": "completed"
    },
    "tags": []
   },
   "outputs": [],
   "source": [
    "for ds in p.datasets:\n",
    "    add_dataset(**ds)"
   ]
  },
  {
   "cell_type": "code",
   "execution_count": 14,
   "id": "b90d65ac",
   "metadata": {
    "execution": {
     "iopub.execute_input": "2022-03-07T01:06:14.518555Z",
     "iopub.status.busy": "2022-03-07T01:06:14.517994Z",
     "iopub.status.idle": "2022-03-07T01:06:14.532156Z",
     "shell.execute_reply": "2022-03-07T01:06:14.531789Z"
    },
    "papermill": {
     "duration": 0.03156,
     "end_time": "2022-03-07T01:06:14.532247",
     "exception": false,
     "start_time": "2022-03-07T01:06:14.500687",
     "status": "completed"
    },
    "tags": []
   },
   "outputs": [],
   "source": [
    "# from steves_utils.CORES.utils import (\n",
    "#     ALL_NODES,\n",
    "#     ALL_NODES_MINIMUM_1000_EXAMPLES,\n",
    "#     ALL_DAYS\n",
    "# )\n",
    "\n",
    "# add_dataset(\n",
    "#     labels=ALL_NODES,\n",
    "#     domains = ALL_DAYS,\n",
    "#     num_examples_per_domain_per_label=100,\n",
    "#     pickle_path=os.path.join(get_datasets_base_path(), \"cores.stratified_ds.2022A.pkl\"),\n",
    "#     source_or_target_dataset=\"target\",\n",
    "#     x_transform_func=global_x_transform_func,\n",
    "#     domain_modifier=lambda u: f\"cores_{u}\"\n",
    "# )"
   ]
  },
  {
   "cell_type": "code",
   "execution_count": 15,
   "id": "76db484d",
   "metadata": {
    "execution": {
     "iopub.execute_input": "2022-03-07T01:06:14.568604Z",
     "iopub.status.busy": "2022-03-07T01:06:14.568238Z",
     "iopub.status.idle": "2022-03-07T01:06:14.580746Z",
     "shell.execute_reply": "2022-03-07T01:06:14.580388Z"
    },
    "papermill": {
     "duration": 0.030156,
     "end_time": "2022-03-07T01:06:14.580836",
     "exception": false,
     "start_time": "2022-03-07T01:06:14.550680",
     "status": "completed"
    },
    "tags": []
   },
   "outputs": [],
   "source": [
    "# from steves_utils.ORACLE.utils_v2 import (\n",
    "#     ALL_DISTANCES_FEET,\n",
    "#     ALL_RUNS,\n",
    "#     ALL_SERIAL_NUMBERS,\n",
    "# )\n",
    "\n",
    "\n",
    "# add_dataset(\n",
    "#     labels=ALL_SERIAL_NUMBERS,\n",
    "#     domains = list(set(ALL_DISTANCES_FEET) - {2,62}),\n",
    "#     num_examples_per_domain_per_label=100,\n",
    "#     pickle_path=os.path.join(get_datasets_base_path(), \"oracle.Run2_framed_2000Examples_stratified_ds.2022A.pkl\"),\n",
    "#     source_or_target_dataset=\"source\",\n",
    "#     x_transform_func=global_x_transform_func,\n",
    "#     domain_modifier=lambda u: f\"oracle1_{u}\"\n",
    "# )\n"
   ]
  },
  {
   "cell_type": "code",
   "execution_count": 16,
   "id": "97dea9d2",
   "metadata": {
    "execution": {
     "iopub.execute_input": "2022-03-07T01:06:14.616127Z",
     "iopub.status.busy": "2022-03-07T01:06:14.615852Z",
     "iopub.status.idle": "2022-03-07T01:06:14.630144Z",
     "shell.execute_reply": "2022-03-07T01:06:14.629852Z"
    },
    "papermill": {
     "duration": 0.032269,
     "end_time": "2022-03-07T01:06:14.630211",
     "exception": false,
     "start_time": "2022-03-07T01:06:14.597942",
     "status": "completed"
    },
    "tags": []
   },
   "outputs": [],
   "source": [
    "# from steves_utils.ORACLE.utils_v2 import (\n",
    "#     ALL_DISTANCES_FEET,\n",
    "#     ALL_RUNS,\n",
    "#     ALL_SERIAL_NUMBERS,\n",
    "# )\n",
    "\n",
    "\n",
    "# add_dataset(\n",
    "#     labels=ALL_SERIAL_NUMBERS,\n",
    "#     domains = list(set(ALL_DISTANCES_FEET) - {2,62,56}),\n",
    "#     num_examples_per_domain_per_label=100,\n",
    "#     pickle_path=os.path.join(get_datasets_base_path(), \"oracle.Run2_framed_2000Examples_stratified_ds.2022A.pkl\"),\n",
    "#     source_or_target_dataset=\"source\",\n",
    "#     x_transform_func=global_x_transform_func,\n",
    "#     domain_modifier=lambda u: f\"oracle2_{u}\"\n",
    "# )"
   ]
  },
  {
   "cell_type": "code",
   "execution_count": 17,
   "id": "6f289866",
   "metadata": {
    "execution": {
     "iopub.execute_input": "2022-03-07T01:06:14.662600Z",
     "iopub.status.busy": "2022-03-07T01:06:14.662165Z",
     "iopub.status.idle": "2022-03-07T01:06:14.671881Z",
     "shell.execute_reply": "2022-03-07T01:06:14.671595Z"
    },
    "papermill": {
     "duration": 0.026716,
     "end_time": "2022-03-07T01:06:14.671947",
     "exception": false,
     "start_time": "2022-03-07T01:06:14.645231",
     "status": "completed"
    },
    "tags": []
   },
   "outputs": [],
   "source": [
    "# add_dataset(\n",
    "#     labels=list(range(19)),\n",
    "#     domains = [0,1,2],\n",
    "#     num_examples_per_domain_per_label=100,\n",
    "#     pickle_path=os.path.join(get_datasets_base_path(), \"metehan.stratified_ds.2022A.pkl\"),\n",
    "#     source_or_target_dataset=\"target\",\n",
    "#     x_transform_func=global_x_transform_func,\n",
    "#     domain_modifier=lambda u: f\"met_{u}\"\n",
    "# )"
   ]
  },
  {
   "cell_type": "code",
   "execution_count": 18,
   "id": "86a863c3",
   "metadata": {
    "execution": {
     "iopub.execute_input": "2022-03-07T01:06:14.705340Z",
     "iopub.status.busy": "2022-03-07T01:06:14.704939Z",
     "iopub.status.idle": "2022-03-07T01:06:14.717136Z",
     "shell.execute_reply": "2022-03-07T01:06:14.716879Z"
    },
    "papermill": {
     "duration": 0.029559,
     "end_time": "2022-03-07T01:06:14.717206",
     "exception": false,
     "start_time": "2022-03-07T01:06:14.687647",
     "status": "completed"
    },
    "tags": []
   },
   "outputs": [],
   "source": [
    "# # from steves_utils.wisig.utils import (\n",
    "# #     ALL_NODES_MINIMUM_100_EXAMPLES,\n",
    "# #     ALL_NODES_MINIMUM_500_EXAMPLES,\n",
    "# #     ALL_NODES_MINIMUM_1000_EXAMPLES,\n",
    "# #     ALL_DAYS\n",
    "# # )\n",
    "\n",
    "# import steves_utils.wisig.utils as wisig\n",
    "\n",
    "\n",
    "# add_dataset(\n",
    "#     labels=wisig.ALL_NODES_MINIMUM_100_EXAMPLES,\n",
    "#     domains = wisig.ALL_DAYS,\n",
    "#     num_examples_per_domain_per_label=100,\n",
    "#     pickle_path=os.path.join(get_datasets_base_path(), \"wisig.node3-19.stratified_ds.2022A.pkl\"),\n",
    "#     source_or_target_dataset=\"target\",\n",
    "#     x_transform_func=global_x_transform_func,\n",
    "#     domain_modifier=lambda u: f\"wisig_{u}\"\n",
    "# )"
   ]
  },
  {
   "cell_type": "code",
   "execution_count": 19,
   "id": "fd5442bc",
   "metadata": {
    "execution": {
     "iopub.execute_input": "2022-03-07T01:06:14.752546Z",
     "iopub.status.busy": "2022-03-07T01:06:14.752121Z",
     "iopub.status.idle": "2022-03-07T01:06:14.766148Z",
     "shell.execute_reply": "2022-03-07T01:06:14.765893Z"
    },
    "papermill": {
     "duration": 0.033505,
     "end_time": "2022-03-07T01:06:14.766216",
     "exception": false,
     "start_time": "2022-03-07T01:06:14.732711",
     "status": "completed"
    },
    "tags": []
   },
   "outputs": [],
   "source": [
    "###################################\n",
    "# Build the dataset\n",
    "###################################\n",
    "train_original_source = Iterable_Aggregator(train_original_source, p.seed)\n",
    "val_original_source = Iterable_Aggregator(val_original_source, p.seed)\n",
    "test_original_source = Iterable_Aggregator(test_original_source, p.seed)\n",
    "\n",
    "\n",
    "train_original_target = Iterable_Aggregator(train_original_target, p.seed)\n",
    "val_original_target = Iterable_Aggregator(val_original_target, p.seed)\n",
    "test_original_target = Iterable_Aggregator(test_original_target, p.seed)\n",
    "\n",
    "# For CNN We only use X and Y. And we only train on the source.\n",
    "# Properly form the data using a transform lambda and Lazy_Iterable_Wrapper. Finally wrap them in a dataloader\n",
    "\n",
    "transform_lambda = lambda ex: ex[1] # Original is (<domain>, <episode>) so we strip down to episode only\n",
    "\n",
    "train_processed_source = Lazy_Iterable_Wrapper(train_original_source, transform_lambda)\n",
    "val_processed_source   = Lazy_Iterable_Wrapper(val_original_source, transform_lambda)\n",
    "test_processed_source  = Lazy_Iterable_Wrapper(test_original_source, transform_lambda)\n",
    "\n",
    "train_processed_target = Lazy_Iterable_Wrapper(train_original_target, transform_lambda)\n",
    "val_processed_target   = Lazy_Iterable_Wrapper(val_original_target, transform_lambda)\n",
    "test_processed_target  = Lazy_Iterable_Wrapper(test_original_target, transform_lambda)\n",
    "\n",
    "datasets = EasyDict({\n",
    "    \"source\": {\n",
    "        \"original\": {\"train\":train_original_source, \"val\":val_original_source, \"test\":test_original_source},\n",
    "        \"processed\": {\"train\":train_processed_source, \"val\":val_processed_source, \"test\":test_processed_source}\n",
    "    },\n",
    "    \"target\": {\n",
    "        \"original\": {\"train\":train_original_target, \"val\":val_original_target, \"test\":test_original_target},\n",
    "        \"processed\": {\"train\":train_processed_target, \"val\":val_processed_target, \"test\":test_processed_target}\n",
    "    },\n",
    "})"
   ]
  },
  {
   "cell_type": "code",
   "execution_count": 20,
   "id": "5b3c01fc",
   "metadata": {
    "execution": {
     "iopub.execute_input": "2022-03-07T01:06:14.801540Z",
     "iopub.status.busy": "2022-03-07T01:06:14.801144Z",
     "iopub.status.idle": "2022-03-07T01:06:16.915820Z",
     "shell.execute_reply": "2022-03-07T01:06:16.916194Z"
    },
    "papermill": {
     "duration": 2.133802,
     "end_time": "2022-03-07T01:06:16.916304",
     "exception": false,
     "start_time": "2022-03-07T01:06:14.782502",
     "status": "completed"
    },
    "tags": []
   },
   "outputs": [
    {
     "name": "stdout",
     "output_type": "stream",
     "text": [
      "{'Metehan_0', 'Metehan_2', 'Metehan_1'}\n"
     ]
    },
    {
     "name": "stdout",
     "output_type": "stream",
     "text": [
      "{'CORES_2', 'CORES_1', 'CORES_3', 'CORES_4', 'CORES_5'}\n"
     ]
    },
    {
     "name": "stdout",
     "output_type": "stream",
     "text": [
      "tensor([[[ 0.5468,  0.3415,  0.1849,  ..., -0.3959, -0.6481, -0.5717],\n",
      "         [ 0.4864,  0.4837,  0.5430,  ..., -1.1644, -1.1966, -1.1190]],\n",
      "\n",
      "        [[ 0.4900,  0.2334,  0.2540,  ..., -0.4485, -0.6063, -0.6682],\n",
      "         [ 0.3853,  0.4342,  0.6471,  ..., -1.1164, -1.1332, -1.0882]],\n",
      "\n",
      "        [[ 0.3917,  0.3622,  0.1533,  ..., -0.4199, -0.5831, -0.7817],\n",
      "         [ 0.4717,  0.4321,  0.6160,  ..., -1.0792, -1.2151, -0.9826]],\n",
      "\n",
      "        ...,\n",
      "\n",
      "        [[ 0.3902,  0.2023,  0.1776,  ..., -0.2370, -0.4634, -0.6559],\n",
      "         [ 0.4545,  0.4174,  0.5863,  ..., -1.2670, -1.0557, -1.1361]],\n",
      "\n",
      "        [[ 0.4425,  0.3720,  0.1056,  ..., -0.2933, -0.5385, -0.6103],\n",
      "         [ 0.4349,  0.5441,  0.5486,  ..., -1.2337, -1.3482, -1.1098]],\n",
      "\n",
      "        [[ 0.3619,  0.2162,  0.1726,  ..., -0.3267, -0.4970, -0.6327],\n",
      "         [ 0.2775,  0.3134,  0.6049,  ..., -1.2656, -1.2928, -1.0523]]])\n"
     ]
    }
   ],
   "source": [
    "from steves_utils.transforms import get_average_magnitude, get_average_power\n",
    "\n",
    "print(set([u for u,_ in val_original_source]))\n",
    "print(set([u for u,_ in val_original_target]))\n",
    "\n",
    "s_x, s_y, q_x, q_y, _ = next(iter(train_processed_source))\n",
    "print(s_x)\n",
    "\n",
    "# for ds in [\n",
    "#     train_processed_source,\n",
    "#     val_processed_source,\n",
    "#     test_processed_source,\n",
    "#     train_processed_target,\n",
    "#     val_processed_target,\n",
    "#     test_processed_target\n",
    "# ]:\n",
    "#     for s_x, s_y, q_x, q_y, _ in ds:\n",
    "#         for X in (s_x, q_x):\n",
    "#             for x in X:\n",
    "#                 assert np.isclose(get_average_magnitude(x.numpy()), 1.0)\n",
    "#                 assert np.isclose(get_average_power(x.numpy()), 1.0)\n",
    "                "
   ]
  },
  {
   "cell_type": "code",
   "execution_count": 21,
   "id": "bbdacba1",
   "metadata": {
    "execution": {
     "iopub.execute_input": "2022-03-07T01:06:16.951844Z",
     "iopub.status.busy": "2022-03-07T01:06:16.951574Z",
     "iopub.status.idle": "2022-03-07T01:06:17.011700Z",
     "shell.execute_reply": "2022-03-07T01:06:17.012145Z"
    },
    "papermill": {
     "duration": 0.078695,
     "end_time": "2022-03-07T01:06:17.012292",
     "exception": false,
     "start_time": "2022-03-07T01:06:16.933597",
     "status": "completed"
    },
    "tags": []
   },
   "outputs": [
    {
     "name": "stdout",
     "output_type": "stream",
     "text": [
      "(2, 256)\n"
     ]
    }
   ],
   "source": [
    "###################################\n",
    "# Build the model\n",
    "###################################\n",
    "model = Steves_Prototypical_Network(x_net, device=p.device, x_shape=(2,256))\n",
    "optimizer = Adam(params=model.parameters(), lr=p.lr)"
   ]
  },
  {
   "cell_type": "code",
   "execution_count": 22,
   "id": "22b39ac5",
   "metadata": {
    "execution": {
     "iopub.execute_input": "2022-03-07T01:06:17.047962Z",
     "iopub.status.busy": "2022-03-07T01:06:17.047704Z",
     "iopub.status.idle": "2022-03-07T01:06:59.113313Z",
     "shell.execute_reply": "2022-03-07T01:06:59.112826Z"
    },
    "papermill": {
     "duration": 42.083885,
     "end_time": "2022-03-07T01:06:59.113435",
     "exception": false,
     "start_time": "2022-03-07T01:06:17.029550",
     "status": "completed"
    },
    "tags": []
   },
   "outputs": [
    {
     "name": "stdout",
     "output_type": "stream",
     "text": [
      "epoch: 1, [batch: 1 / 126], examples_per_second: 846.4503, train_label_loss: 2.6183, \n"
     ]
    },
    {
     "name": "stdout",
     "output_type": "stream",
     "text": [
      "epoch: 1, [batch: 13 / 126], examples_per_second: 2845.8994, train_label_loss: 0.4449, \n"
     ]
    },
    {
     "name": "stdout",
     "output_type": "stream",
     "text": [
      "epoch: 1, [batch: 26 / 126], examples_per_second: 2946.4686, train_label_loss: 0.2897, \n"
     ]
    },
    {
     "name": "stdout",
     "output_type": "stream",
     "text": [
      "epoch: 1, [batch: 38 / 126], examples_per_second: 2994.4248, train_label_loss: 0.3718, \n"
     ]
    },
    {
     "name": "stdout",
     "output_type": "stream",
     "text": [
      "epoch: 1, [batch: 51 / 126], examples_per_second: 2982.1882, train_label_loss: 0.3018, \n"
     ]
    },
    {
     "name": "stdout",
     "output_type": "stream",
     "text": [
      "epoch: 1, [batch: 63 / 126], examples_per_second: 2936.5040, train_label_loss: 0.1938, \n"
     ]
    },
    {
     "name": "stdout",
     "output_type": "stream",
     "text": [
      "epoch: 1, [batch: 76 / 126], examples_per_second: 2944.6312, train_label_loss: 0.2051, \n"
     ]
    },
    {
     "name": "stdout",
     "output_type": "stream",
     "text": [
      "epoch: 1, [batch: 88 / 126], examples_per_second: 2998.6990, train_label_loss: 0.3556, \n"
     ]
    },
    {
     "name": "stdout",
     "output_type": "stream",
     "text": [
      "epoch: 1, [batch: 101 / 126], examples_per_second: 3002.5652, train_label_loss: 0.1824, \n"
     ]
    },
    {
     "name": "stdout",
     "output_type": "stream",
     "text": [
      "epoch: 1, [batch: 113 / 126], examples_per_second: 3000.8671, train_label_loss: 0.3008, \n"
     ]
    },
    {
     "name": "stdout",
     "output_type": "stream",
     "text": [
      "=============================================================\n",
      "epoch: 1, source_val_acc_label: 0.8743, target_val_acc_label: 0.1611, source_val_label_loss: 0.3154, target_val_label_loss: 43.7568, \n",
      "=============================================================\n"
     ]
    },
    {
     "name": "stdout",
     "output_type": "stream",
     "text": [
      "New best\n"
     ]
    },
    {
     "name": "stdout",
     "output_type": "stream",
     "text": [
      "epoch: 2, [batch: 1 / 126], examples_per_second: 109.0826, train_label_loss: 0.2411, \n"
     ]
    },
    {
     "name": "stdout",
     "output_type": "stream",
     "text": [
      "epoch: 2, [batch: 13 / 126], examples_per_second: 2922.3062, train_label_loss: 0.1877, \n"
     ]
    },
    {
     "name": "stdout",
     "output_type": "stream",
     "text": [
      "epoch: 2, [batch: 26 / 126], examples_per_second: 2971.8336, train_label_loss: 1.1718, \n"
     ]
    },
    {
     "name": "stdout",
     "output_type": "stream",
     "text": [
      "epoch: 2, [batch: 38 / 126], examples_per_second: 2999.5512, train_label_loss: 1.1861, \n"
     ]
    },
    {
     "name": "stdout",
     "output_type": "stream",
     "text": [
      "epoch: 2, [batch: 51 / 126], examples_per_second: 2987.1376, train_label_loss: 2.2909, \n"
     ]
    },
    {
     "name": "stdout",
     "output_type": "stream",
     "text": [
      "epoch: 2, [batch: 63 / 126], examples_per_second: 3001.4152, train_label_loss: 2.2197, \n"
     ]
    },
    {
     "name": "stdout",
     "output_type": "stream",
     "text": [
      "epoch: 2, [batch: 76 / 126], examples_per_second: 3027.0228, train_label_loss: 1.7072, \n"
     ]
    },
    {
     "name": "stdout",
     "output_type": "stream",
     "text": [
      "epoch: 2, [batch: 88 / 126], examples_per_second: 3039.8744, train_label_loss: 0.9439, \n"
     ]
    },
    {
     "name": "stdout",
     "output_type": "stream",
     "text": [
      "epoch: 2, [batch: 101 / 126], examples_per_second: 3028.3890, train_label_loss: 0.9062, \n"
     ]
    },
    {
     "name": "stdout",
     "output_type": "stream",
     "text": [
      "epoch: 2, [batch: 113 / 126], examples_per_second: 3019.0110, train_label_loss: 1.0196, \n"
     ]
    },
    {
     "name": "stdout",
     "output_type": "stream",
     "text": [
      "=============================================================\n",
      "epoch: 2, source_val_acc_label: 0.8289, target_val_acc_label: 0.1727, source_val_label_loss: 1.0311, target_val_label_loss: 41.2674, \n",
      "=============================================================\n"
     ]
    },
    {
     "name": "stdout",
     "output_type": "stream",
     "text": [
      "New best\n"
     ]
    },
    {
     "name": "stdout",
     "output_type": "stream",
     "text": [
      "epoch: 3, [batch: 1 / 126], examples_per_second: 108.3004, train_label_loss: 0.8059, \n"
     ]
    },
    {
     "name": "stdout",
     "output_type": "stream",
     "text": [
      "epoch: 3, [batch: 13 / 126], examples_per_second: 2990.4321, train_label_loss: 1.6159, \n"
     ]
    },
    {
     "name": "stdout",
     "output_type": "stream",
     "text": [
      "epoch: 3, [batch: 26 / 126], examples_per_second: 2999.0311, train_label_loss: 1.4295, \n"
     ]
    },
    {
     "name": "stdout",
     "output_type": "stream",
     "text": [
      "epoch: 3, [batch: 38 / 126], examples_per_second: 3033.0964, train_label_loss: 0.3112, \n"
     ]
    },
    {
     "name": "stdout",
     "output_type": "stream",
     "text": [
      "epoch: 3, [batch: 51 / 126], examples_per_second: 3000.7649, train_label_loss: 0.5823, \n"
     ]
    },
    {
     "name": "stdout",
     "output_type": "stream",
     "text": [
      "epoch: 3, [batch: 63 / 126], examples_per_second: 2995.4585, train_label_loss: 0.7225, \n"
     ]
    },
    {
     "name": "stdout",
     "output_type": "stream",
     "text": [
      "epoch: 3, [batch: 76 / 126], examples_per_second: 2999.2308, train_label_loss: 0.4681, \n"
     ]
    },
    {
     "name": "stdout",
     "output_type": "stream",
     "text": [
      "epoch: 3, [batch: 88 / 126], examples_per_second: 3046.0015, train_label_loss: 0.4429, \n"
     ]
    },
    {
     "name": "stdout",
     "output_type": "stream",
     "text": [
      "epoch: 3, [batch: 101 / 126], examples_per_second: 3004.5768, train_label_loss: 0.0550, \n"
     ]
    },
    {
     "name": "stdout",
     "output_type": "stream",
     "text": [
      "epoch: 3, [batch: 113 / 126], examples_per_second: 3034.5497, train_label_loss: 1.0400, \n"
     ]
    },
    {
     "name": "stdout",
     "output_type": "stream",
     "text": [
      "=============================================================\n",
      "epoch: 3, source_val_acc_label: 0.8377, target_val_acc_label: 0.2969, source_val_label_loss: 0.6683, target_val_label_loss: 36.9203, \n",
      "=============================================================\n"
     ]
    },
    {
     "name": "stdout",
     "output_type": "stream",
     "text": [
      "New best\n"
     ]
    },
    {
     "name": "stdout",
     "output_type": "stream",
     "text": [
      "epoch: 4, [batch: 1 / 126], examples_per_second: 108.8584, train_label_loss: 0.2373, \n"
     ]
    },
    {
     "name": "stdout",
     "output_type": "stream",
     "text": [
      "epoch: 4, [batch: 13 / 126], examples_per_second: 2984.2394, train_label_loss: 0.3439, \n"
     ]
    },
    {
     "name": "stdout",
     "output_type": "stream",
     "text": [
      "epoch: 4, [batch: 26 / 126], examples_per_second: 3031.5774, train_label_loss: 0.2455, \n"
     ]
    },
    {
     "name": "stdout",
     "output_type": "stream",
     "text": [
      "epoch: 4, [batch: 38 / 126], examples_per_second: 3025.9961, train_label_loss: 0.4095, \n"
     ]
    },
    {
     "name": "stdout",
     "output_type": "stream",
     "text": [
      "epoch: 4, [batch: 51 / 126], examples_per_second: 2961.0344, train_label_loss: 0.2375, \n"
     ]
    },
    {
     "name": "stdout",
     "output_type": "stream",
     "text": [
      "epoch: 4, [batch: 63 / 126], examples_per_second: 3033.5005, train_label_loss: 0.2048, \n"
     ]
    },
    {
     "name": "stdout",
     "output_type": "stream",
     "text": [
      "epoch: 4, [batch: 76 / 126], examples_per_second: 3014.6137, train_label_loss: 0.3256, \n"
     ]
    },
    {
     "name": "stdout",
     "output_type": "stream",
     "text": [
      "epoch: 4, [batch: 88 / 126], examples_per_second: 3022.5071, train_label_loss: 0.1044, \n"
     ]
    },
    {
     "name": "stdout",
     "output_type": "stream",
     "text": [
      "epoch: 4, [batch: 101 / 126], examples_per_second: 3081.3521, train_label_loss: 0.3493, \n"
     ]
    },
    {
     "name": "stdout",
     "output_type": "stream",
     "text": [
      "epoch: 4, [batch: 113 / 126], examples_per_second: 3063.8545, train_label_loss: 0.2314, \n"
     ]
    },
    {
     "name": "stdout",
     "output_type": "stream",
     "text": [
      "=============================================================\n",
      "epoch: 4, source_val_acc_label: 0.8538, target_val_acc_label: 0.3209, source_val_label_loss: 0.4158, target_val_label_loss: 11.7159, \n",
      "=============================================================\n"
     ]
    },
    {
     "name": "stdout",
     "output_type": "stream",
     "text": [
      "New best\n"
     ]
    },
    {
     "name": "stdout",
     "output_type": "stream",
     "text": [
      "epoch: 5, [batch: 1 / 126], examples_per_second: 108.4831, train_label_loss: 0.2311, \n"
     ]
    },
    {
     "name": "stdout",
     "output_type": "stream",
     "text": [
      "epoch: 5, [batch: 13 / 126], examples_per_second: 2956.6630, train_label_loss: 0.1864, \n"
     ]
    },
    {
     "name": "stdout",
     "output_type": "stream",
     "text": [
      "epoch: 5, [batch: 26 / 126], examples_per_second: 3009.0536, train_label_loss: 0.3034, \n"
     ]
    },
    {
     "name": "stdout",
     "output_type": "stream",
     "text": [
      "epoch: 5, [batch: 38 / 126], examples_per_second: 2993.6580, train_label_loss: 0.2631, \n"
     ]
    },
    {
     "name": "stdout",
     "output_type": "stream",
     "text": [
      "epoch: 5, [batch: 51 / 126], examples_per_second: 3032.1489, train_label_loss: 0.1196, \n"
     ]
    },
    {
     "name": "stdout",
     "output_type": "stream",
     "text": [
      "epoch: 5, [batch: 63 / 126], examples_per_second: 3004.6309, train_label_loss: 0.1541, \n"
     ]
    },
    {
     "name": "stdout",
     "output_type": "stream",
     "text": [
      "epoch: 5, [batch: 76 / 126], examples_per_second: 2987.6734, train_label_loss: 0.4240, \n"
     ]
    },
    {
     "name": "stdout",
     "output_type": "stream",
     "text": [
      "epoch: 5, [batch: 88 / 126], examples_per_second: 2987.0302, train_label_loss: 0.4184, \n"
     ]
    },
    {
     "name": "stdout",
     "output_type": "stream",
     "text": [
      "epoch: 5, [batch: 101 / 126], examples_per_second: 3073.4485, train_label_loss: 0.1871, \n"
     ]
    },
    {
     "name": "stdout",
     "output_type": "stream",
     "text": [
      "epoch: 5, [batch: 113 / 126], examples_per_second: 2972.6679, train_label_loss: 0.4269, \n"
     ]
    },
    {
     "name": "stdout",
     "output_type": "stream",
     "text": [
      "=============================================================\n",
      "epoch: 5, source_val_acc_label: 0.8640, target_val_acc_label: 0.3691, source_val_label_loss: 0.4046, target_val_label_loss: 14.5985, \n",
      "=============================================================\n"
     ]
    },
    {
     "name": "stdout",
     "output_type": "stream",
     "text": [
      "epoch: 6, [batch: 1 / 126], examples_per_second: 113.5940, train_label_loss: 0.2074, \n"
     ]
    },
    {
     "name": "stdout",
     "output_type": "stream",
     "text": [
      "epoch: 6, [batch: 13 / 126], examples_per_second: 2974.2045, train_label_loss: 0.1286, \n"
     ]
    },
    {
     "name": "stdout",
     "output_type": "stream",
     "text": [
      "epoch: 6, [batch: 26 / 126], examples_per_second: 2994.7692, train_label_loss: 0.3549, \n"
     ]
    },
    {
     "name": "stdout",
     "output_type": "stream",
     "text": [
      "epoch: 6, [batch: 38 / 126], examples_per_second: 3010.6470, train_label_loss: 0.2822, \n"
     ]
    },
    {
     "name": "stdout",
     "output_type": "stream",
     "text": [
      "epoch: 6, [batch: 51 / 126], examples_per_second: 3031.0435, train_label_loss: 0.2692, \n"
     ]
    },
    {
     "name": "stdout",
     "output_type": "stream",
     "text": [
      "epoch: 6, [batch: 63 / 126], examples_per_second: 3006.3141, train_label_loss: 0.1302, \n"
     ]
    },
    {
     "name": "stdout",
     "output_type": "stream",
     "text": [
      "epoch: 6, [batch: 76 / 126], examples_per_second: 3014.7137, train_label_loss: 0.1687, \n"
     ]
    },
    {
     "name": "stdout",
     "output_type": "stream",
     "text": [
      "epoch: 6, [batch: 88 / 126], examples_per_second: 3003.5249, train_label_loss: 0.4580, \n"
     ]
    },
    {
     "name": "stdout",
     "output_type": "stream",
     "text": [
      "epoch: 6, [batch: 101 / 126], examples_per_second: 2999.4426, train_label_loss: 0.3047, \n"
     ]
    },
    {
     "name": "stdout",
     "output_type": "stream",
     "text": [
      "epoch: 6, [batch: 113 / 126], examples_per_second: 3026.6646, train_label_loss: 0.3386, \n"
     ]
    },
    {
     "name": "stdout",
     "output_type": "stream",
     "text": [
      "=============================================================\n",
      "epoch: 6, source_val_acc_label: 0.8655, target_val_acc_label: 0.3610, source_val_label_loss: 0.3695, target_val_label_loss: 12.3817, \n",
      "=============================================================\n"
     ]
    },
    {
     "name": "stdout",
     "output_type": "stream",
     "text": [
      "epoch: 7, [batch: 1 / 126], examples_per_second: 115.0673, train_label_loss: 0.3259, \n"
     ]
    },
    {
     "name": "stdout",
     "output_type": "stream",
     "text": [
      "epoch: 7, [batch: 13 / 126], examples_per_second: 3024.8858, train_label_loss: 0.3798, \n"
     ]
    },
    {
     "name": "stdout",
     "output_type": "stream",
     "text": [
      "epoch: 7, [batch: 26 / 126], examples_per_second: 2984.2103, train_label_loss: 0.3693, \n"
     ]
    },
    {
     "name": "stdout",
     "output_type": "stream",
     "text": [
      "epoch: 7, [batch: 38 / 126], examples_per_second: 2974.1286, train_label_loss: 0.1721, \n"
     ]
    },
    {
     "name": "stdout",
     "output_type": "stream",
     "text": [
      "epoch: 7, [batch: 51 / 126], examples_per_second: 2979.7419, train_label_loss: 0.2626, \n"
     ]
    },
    {
     "name": "stdout",
     "output_type": "stream",
     "text": [
      "epoch: 7, [batch: 63 / 126], examples_per_second: 3026.0057, train_label_loss: 0.1659, \n"
     ]
    },
    {
     "name": "stdout",
     "output_type": "stream",
     "text": [
      "epoch: 7, [batch: 76 / 126], examples_per_second: 2914.7451, train_label_loss: 0.3530, \n"
     ]
    },
    {
     "name": "stdout",
     "output_type": "stream",
     "text": [
      "epoch: 7, [batch: 88 / 126], examples_per_second: 3030.6068, train_label_loss: 0.3254, \n"
     ]
    },
    {
     "name": "stdout",
     "output_type": "stream",
     "text": [
      "epoch: 7, [batch: 101 / 126], examples_per_second: 3022.7569, train_label_loss: 0.2154, \n"
     ]
    },
    {
     "name": "stdout",
     "output_type": "stream",
     "text": [
      "epoch: 7, [batch: 113 / 126], examples_per_second: 2975.2612, train_label_loss: 0.6928, \n"
     ]
    },
    {
     "name": "stdout",
     "output_type": "stream",
     "text": [
      "=============================================================\n",
      "epoch: 7, source_val_acc_label: 0.8421, target_val_acc_label: 0.3585, source_val_label_loss: 0.3990, target_val_label_loss: 25.7691, \n",
      "=============================================================\n"
     ]
    },
    {
     "name": "stdout",
     "output_type": "stream",
     "text": [
      "epoch: 8, [batch: 1 / 126], examples_per_second: 112.5320, train_label_loss: 0.2784, \n"
     ]
    },
    {
     "name": "stdout",
     "output_type": "stream",
     "text": [
      "epoch: 8, [batch: 13 / 126], examples_per_second: 2990.8548, train_label_loss: 0.1537, \n"
     ]
    },
    {
     "name": "stdout",
     "output_type": "stream",
     "text": [
      "epoch: 8, [batch: 26 / 126], examples_per_second: 2976.1586, train_label_loss: 0.6271, \n"
     ]
    },
    {
     "name": "stdout",
     "output_type": "stream",
     "text": [
      "epoch: 8, [batch: 38 / 126], examples_per_second: 3019.7336, train_label_loss: 0.1706, \n"
     ]
    },
    {
     "name": "stdout",
     "output_type": "stream",
     "text": [
      "epoch: 8, [batch: 51 / 126], examples_per_second: 3061.8561, train_label_loss: 0.2051, \n"
     ]
    },
    {
     "name": "stdout",
     "output_type": "stream",
     "text": [
      "epoch: 8, [batch: 63 / 126], examples_per_second: 3069.4403, train_label_loss: 0.2373, \n"
     ]
    },
    {
     "name": "stdout",
     "output_type": "stream",
     "text": [
      "epoch: 8, [batch: 76 / 126], examples_per_second: 3061.6190, train_label_loss: 0.4623, \n"
     ]
    },
    {
     "name": "stdout",
     "output_type": "stream",
     "text": [
      "epoch: 8, [batch: 88 / 126], examples_per_second: 3095.0927, train_label_loss: 0.3354, \n"
     ]
    },
    {
     "name": "stdout",
     "output_type": "stream",
     "text": [
      "epoch: 8, [batch: 101 / 126], examples_per_second: 3097.4319, train_label_loss: 0.4967, \n"
     ]
    },
    {
     "name": "stdout",
     "output_type": "stream",
     "text": [
      "epoch: 8, [batch: 113 / 126], examples_per_second: 3049.8562, train_label_loss: 0.3686, \n"
     ]
    },
    {
     "name": "stdout",
     "output_type": "stream",
     "text": [
      "=============================================================\n",
      "epoch: 8, source_val_acc_label: 0.8450, target_val_acc_label: 0.3896, source_val_label_loss: 0.5047, target_val_label_loss: 51.6669, \n",
      "=============================================================\n"
     ]
    },
    {
     "name": "stdout",
     "output_type": "stream",
     "text": [
      "Patience (3) exhausted\n"
     ]
    }
   ],
   "source": [
    "###################################\n",
    "# train\n",
    "###################################\n",
    "jig = PTN_Train_Eval_Test_Jig(model, p.BEST_MODEL_PATH, p.device)\n",
    "\n",
    "jig.train(\n",
    "    train_iterable=datasets.source.processed.train,\n",
    "    source_val_iterable=datasets.source.processed.val,\n",
    "    target_val_iterable=datasets.target.processed.val,\n",
    "    num_epochs=p.n_epoch,\n",
    "    num_logs_per_epoch=p.NUM_LOGS_PER_EPOCH,\n",
    "    patience=p.patience,\n",
    "    optimizer=optimizer,\n",
    "    criteria_for_best=p.criteria_for_best,\n",
    ")"
   ]
  },
  {
   "cell_type": "code",
   "execution_count": 23,
   "id": "31e8fabf",
   "metadata": {
    "execution": {
     "iopub.execute_input": "2022-03-07T01:06:59.184717Z",
     "iopub.status.busy": "2022-03-07T01:06:59.184452Z",
     "iopub.status.idle": "2022-03-07T01:06:59.200580Z",
     "shell.execute_reply": "2022-03-07T01:06:59.201031Z"
    },
    "papermill": {
     "duration": 0.05226,
     "end_time": "2022-03-07T01:06:59.201191",
     "exception": false,
     "start_time": "2022-03-07T01:06:59.148931",
     "status": "completed"
    },
    "tags": []
   },
   "outputs": [],
   "source": [
    "total_experiment_time_secs = time.time() - start_time_secs"
   ]
  },
  {
   "cell_type": "code",
   "execution_count": 24,
   "id": "87b9595b",
   "metadata": {
    "execution": {
     "iopub.execute_input": "2022-03-07T01:06:59.275687Z",
     "iopub.status.busy": "2022-03-07T01:06:59.275381Z",
     "iopub.status.idle": "2022-03-07T01:07:06.883508Z",
     "shell.execute_reply": "2022-03-07T01:07:06.883753Z"
    },
    "papermill": {
     "duration": 7.64685,
     "end_time": "2022-03-07T01:07:06.883837",
     "exception": false,
     "start_time": "2022-03-07T01:06:59.236987",
     "status": "completed"
    },
    "tags": []
   },
   "outputs": [],
   "source": [
    "###################################\n",
    "# Evaluate the model\n",
    "###################################\n",
    "source_test_label_accuracy, source_test_label_loss = jig.test(datasets.source.processed.test)\n",
    "target_test_label_accuracy, target_test_label_loss = jig.test(datasets.target.processed.test)\n",
    "\n",
    "source_val_label_accuracy, source_val_label_loss = jig.test(datasets.source.processed.val)\n",
    "target_val_label_accuracy, target_val_label_loss = jig.test(datasets.target.processed.val)\n",
    "\n",
    "history = jig.get_history()\n",
    "\n",
    "total_epochs_trained = len(history[\"epoch_indices\"])\n",
    "\n",
    "val_dl = Iterable_Aggregator((datasets.source.original.val,datasets.target.original.val))\n",
    "\n",
    "confusion = ptn_confusion_by_domain_over_dataloader(model, p.device, val_dl)\n",
    "per_domain_accuracy = per_domain_accuracy_from_confusion(confusion)\n",
    "\n",
    "# Add a key to per_domain_accuracy for if it was a source domain\n",
    "for domain, accuracy in per_domain_accuracy.items():\n",
    "    per_domain_accuracy[domain] = {\n",
    "        \"accuracy\": accuracy,\n",
    "        \"source?\": domain in p.domains_source\n",
    "    }\n",
    "\n",
    "# Do an independent accuracy assesment JUST TO BE SURE!\n",
    "# _source_test_label_accuracy = independent_accuracy_assesment(model, datasets.source.processed.test, p.device)\n",
    "# _target_test_label_accuracy = independent_accuracy_assesment(model, datasets.target.processed.test, p.device)\n",
    "# _source_val_label_accuracy = independent_accuracy_assesment(model, datasets.source.processed.val, p.device)\n",
    "# _target_val_label_accuracy = independent_accuracy_assesment(model, datasets.target.processed.val, p.device)\n",
    "\n",
    "# assert(_source_test_label_accuracy == source_test_label_accuracy)\n",
    "# assert(_target_test_label_accuracy == target_test_label_accuracy)\n",
    "# assert(_source_val_label_accuracy == source_val_label_accuracy)\n",
    "# assert(_target_val_label_accuracy == target_val_label_accuracy)\n",
    "\n",
    "experiment = {\n",
    "    \"experiment_name\": p.experiment_name,\n",
    "    \"parameters\": dict(p),\n",
    "    \"results\": {\n",
    "        \"source_test_label_accuracy\": source_test_label_accuracy,\n",
    "        \"source_test_label_loss\": source_test_label_loss,\n",
    "        \"target_test_label_accuracy\": target_test_label_accuracy,\n",
    "        \"target_test_label_loss\": target_test_label_loss,\n",
    "        \"source_val_label_accuracy\": source_val_label_accuracy,\n",
    "        \"source_val_label_loss\": source_val_label_loss,\n",
    "        \"target_val_label_accuracy\": target_val_label_accuracy,\n",
    "        \"target_val_label_loss\": target_val_label_loss,\n",
    "        \"total_epochs_trained\": total_epochs_trained,\n",
    "        \"total_experiment_time_secs\": total_experiment_time_secs,\n",
    "        \"confusion\": confusion,\n",
    "        \"per_domain_accuracy\": per_domain_accuracy,\n",
    "    },\n",
    "    \"history\": history,\n",
    "    \"dataset_metrics\": get_dataset_metrics(datasets, \"ptn\"),\n",
    "}"
   ]
  },
  {
   "cell_type": "code",
   "execution_count": 25,
   "id": "54a21829",
   "metadata": {
    "execution": {
     "iopub.execute_input": "2022-03-07T01:07:06.958206Z",
     "iopub.status.busy": "2022-03-07T01:07:06.957812Z",
     "iopub.status.idle": "2022-03-07T01:07:07.201780Z",
     "shell.execute_reply": "2022-03-07T01:07:07.202094Z"
    },
    "papermill": {
     "duration": 0.281528,
     "end_time": "2022-03-07T01:07:07.202200",
     "exception": false,
     "start_time": "2022-03-07T01:07:06.920672",
     "status": "completed"
    },
    "tags": []
   },
   "outputs": [
    {
     "data": {
      "image/png": "[encoded data removed]",
      "text/plain": [
       "<Figure size 1080x504 with 1 Axes>"
      ]
     },
     "metadata": {
      "needs_background": "light"
     },
     "output_type": "display_data"
    }
   ],
   "source": [
    "ax = get_loss_curve(experiment)\n",
    "plt.show()"
   ]
  },
  {
   "cell_type": "code",
   "execution_count": 26,
   "id": "fd8a0f60",
   "metadata": {
    "execution": {
     "iopub.execute_input": "2022-03-07T01:07:07.280153Z",
     "iopub.status.busy": "2022-03-07T01:07:07.279864Z",
     "iopub.status.idle": "2022-03-07T01:07:07.463409Z",
     "shell.execute_reply": "2022-03-07T01:07:07.463702Z"
    },
    "papermill": {
     "duration": 0.223767,
     "end_time": "2022-03-07T01:07:07.463805",
     "exception": false,
     "start_time": "2022-03-07T01:07:07.240038",
     "status": "completed"
    },
    "tags": []
   },
   "outputs": [
    {
     "data": {
      "text/plain": [
       "<matplotlib.axes._subplots.AxesSubplot at 0x7f56a02b02b0>"
      ]
     },
     "execution_count": 26,
     "metadata": {},
     "output_type": "execute_result"
    },
    {
     "data": {
      "image/png": "[encoded data removed]",
      "text/plain": [
       "<Figure size 1080x504 with 1 Axes>"
      ]
     },
     "metadata": {
      "needs_background": "light"
     },
     "output_type": "display_data"
    }
   ],
   "source": [
    "get_results_table(experiment)"
   ]
  },
  {
   "cell_type": "code",
   "execution_count": 27,
   "id": "cf8dc689",
   "metadata": {
    "execution": {
     "iopub.execute_input": "2022-03-07T01:07:07.546376Z",
     "iopub.status.busy": "2022-03-07T01:07:07.546102Z",
     "iopub.status.idle": "2022-03-07T01:07:07.737609Z",
     "shell.execute_reply": "2022-03-07T01:07:07.737995Z"
    },
    "papermill": {
     "duration": 0.232035,
     "end_time": "2022-03-07T01:07:07.738124",
     "exception": false,
     "start_time": "2022-03-07T01:07:07.506089",
     "status": "completed"
    },
    "tags": []
   },
   "outputs": [
    {
     "data": {
      "text/plain": [
       "<matplotlib.axes._subplots.AxesSubplot at 0x7f56a02a6640>"
      ]
     },
     "execution_count": 27,
     "metadata": {},
     "output_type": "execute_result"
    },
    {
     "data": {
      "image/png": "[encoded data removed]",
      "text/plain": [
       "<Figure size 1080x504 with 1 Axes>"
      ]
     },
     "metadata": {
      "needs_background": "light"
     },
     "output_type": "display_data"
    }
   ],
   "source": [
    "get_domain_accuracies(experiment)"
   ]
  },
  {
   "cell_type": "code",
   "execution_count": 28,
   "id": "a74ae082",
   "metadata": {
    "execution": {
     "iopub.execute_input": "2022-03-07T01:07:07.815292Z",
     "iopub.status.busy": "2022-03-07T01:07:07.815023Z",
     "iopub.status.idle": "2022-03-07T01:07:07.830299Z",
     "shell.execute_reply": "2022-03-07T01:07:07.830517Z"
    },
    "papermill": {
     "duration": 0.055185,
     "end_time": "2022-03-07T01:07:07.830607",
     "exception": false,
     "start_time": "2022-03-07T01:07:07.775422",
     "status": "completed"
    },
    "tags": []
   },
   "outputs": [
    {
     "name": "stdout",
     "output_type": "stream",
     "text": [
      "Source Test Label Accuracy: 0.847953216374269 Target Test Label Accuracy: 0.32381258023106546\n",
      "Source Val Label Accuracy: 0.8538011695906432 Target Val Label Accuracy: 0.3209242618741977\n"
     ]
    }
   ],
   "source": [
    "print(\"Source Test Label Accuracy:\", experiment[\"results\"][\"source_test_label_accuracy\"], \"Target Test Label Accuracy:\", experiment[\"results\"][\"target_test_label_accuracy\"])\n",
    "print(\"Source Val Label Accuracy:\", experiment[\"results\"][\"source_val_label_accuracy\"], \"Target Val Label Accuracy:\", experiment[\"results\"][\"target_val_label_accuracy\"])"
   ]
  },
  {
   "cell_type": "code",
   "execution_count": 29,
   "id": "dacca602",
   "metadata": {
    "execution": {
     "iopub.execute_input": "2022-03-07T01:07:07.903462Z",
     "iopub.status.busy": "2022-03-07T01:07:07.903199Z",
     "iopub.status.idle": "2022-03-07T01:07:07.917895Z",
     "shell.execute_reply": "2022-03-07T01:07:07.918334Z"
    },
    "papermill": {
     "duration": 0.053036,
     "end_time": "2022-03-07T01:07:07.918471",
     "exception": false,
     "start_time": "2022-03-07T01:07:07.865435",
     "status": "completed"
    },
    "tags": [
     "experiment_json"
    ]
   },
   "outputs": [
    {
     "data": {
      "text/plain": [
       "'{\"experiment_name\": \"tl_1_cores-metehan\", \"parameters\": {\"experiment_name\": \"tl_1_cores-metehan\", \"device\": \"cuda\", \"lr\": 0.001, \"seed\": 1337, \"dataset_seed\": 1337, \"n_shot\": 3, \"n_query\": 2, \"train_k_factor\": 3, \"val_k_factor\": 2, \"test_k_factor\": 2, \"torch_default_dtype\": \"torch.float32\", \"n_epoch\": 50, \"patience\": 3, \"criteria_for_best\": \"target_loss\", \"x_net\": [{\"class\": \"nnReshape\", \"kargs\": {\"shape\": [-1, 1, 2, 256]}}, {\"class\": \"Conv2d\", \"kargs\": {\"in_channels\": 1, \"out_channels\": 256, \"kernel_size\": [1, 7], \"bias\": false, \"padding\": [0, 3]}}, {\"class\": \"ReLU\", \"kargs\": {\"inplace\": true}}, {\"class\": \"BatchNorm2d\", \"kargs\": {\"num_features\": 256}}, {\"class\": \"Conv2d\", \"kargs\": {\"in_channels\": 256, \"out_channels\": 80, \"kernel_size\": [2, 7], \"bias\": true, \"padding\": [0, 3]}}, {\"class\": \"ReLU\", \"kargs\": {\"inplace\": true}}, {\"class\": \"BatchNorm2d\", \"kargs\": {\"num_features\": 80}}, {\"class\": \"Flatten\", \"kargs\": {}}, {\"class\": \"Linear\", \"kargs\": {\"in_features\": 20480, \"out_features\": 256}}, {\"class\": \"ReLU\", \"kargs\": {\"inplace\": true}}, {\"class\": \"BatchNorm1d\", \"kargs\": {\"num_features\": 256}}, {\"class\": \"Linear\", \"kargs\": {\"in_features\": 256, \"out_features\": 256}}], \"NUM_LOGS_PER_EPOCH\": 10, \"BEST_MODEL_PATH\": \"./best_model.pth\", \"n_way\": 19, \"datasets\": [{\"labels\": [\"1-10.\", \"1-11.\", \"1-15.\", \"1-16.\", \"1-17.\", \"1-18.\", \"1-19.\", \"10-4.\", \"10-7.\", \"11-1.\", \"11-14.\", \"11-17.\", \"11-20.\", \"11-7.\", \"13-20.\", \"13-8.\", \"14-10.\", \"14-11.\", \"14-14.\", \"14-7.\", \"15-1.\", \"15-20.\", \"16-1.\", \"16-16.\", \"17-10.\", \"17-11.\", \"17-2.\", \"19-1.\", \"19-16.\", \"19-19.\", \"19-20.\", \"19-3.\", \"2-10.\", \"2-11.\", \"2-17.\", \"2-18.\", \"2-20.\", \"2-3.\", \"2-4.\", \"2-5.\", \"2-6.\", \"2-7.\", \"2-8.\", \"3-13.\", \"3-18.\", \"3-3.\", \"4-1.\", \"4-10.\", \"4-11.\", \"4-19.\", \"5-5.\", \"6-15.\", \"7-10.\", \"7-14.\", \"8-18.\", \"8-20.\", \"8-3.\", \"8-8.\"], \"domains\": [1, 2, 3, 4, 5], \"num_examples_per_domain_per_label\": 100, \"pickle_path\": \"/mnt/wd500GB/CSC500/csc500-main/datasets/cores.stratified_ds.2022A.pkl\", \"source_or_target_dataset\": \"target\", \"x_transforms\": [\"unit_mag\"], \"episode_transforms\": [], \"domain_prefix\": \"CORES_\"}, {\"labels\": [0, 1, 2, 3, 4, 5, 6, 7, 8, 9, 10, 11, 12, 13, 14, 15, 16, 17, 18], \"domains\": [0, 1, 2], \"num_examples_per_domain_per_label\": 100, \"pickle_path\": \"/mnt/wd500GB/CSC500/csc500-main/datasets/metehan.stratified_ds.2022A.pkl\", \"source_or_target_dataset\": \"source\", \"x_transforms\": [\"unit_mag\"], \"episode_transforms\": [], \"domain_prefix\": \"Metehan_\"}], \"domains_source\": [\"Metehan_0\", \"Metehan_1\", \"Metehan_2\"], \"domains_target\": [\"CORES_1\", \"CORES_2\", \"CORES_3\", \"CORES_4\", \"CORES_5\"]}, \"results\": {\"source_test_label_accuracy\": 0.847953216374269, \"source_test_label_loss\": 0.3951045572757721, \"target_test_label_accuracy\": 0.32381258023106546, \"target_test_label_loss\": 11.96104907989502, \"source_val_label_accuracy\": 0.8538011695906432, \"source_val_label_loss\": 0.4157847464084625, \"target_val_label_accuracy\": 0.3209242618741977, \"target_val_label_loss\": 11.715899467468262, \"total_epochs_trained\": 8, \"total_experiment_time_secs\": 47.506612062454224, \"confusion\": {\"Metehan_1\": {\"9\": {\"9\": 11, \"13\": 1}, \"5\": {\"5\": 11, \"18\": 1}, \"15\": {\"15\": 12}, \"13\": {\"13\": 12}, \"11\": {\"17\": 6, \"11\": 6}, \"7\": {\"7\": 10, \"0\": 1, \"10\": 1}, \"2\": {\"2\": 11, \"0\": 1}, \"6\": {\"14\": 3, \"6\": 6, \"4\": 3}, \"16\": {\"16\": 10, \"10\": 2}, \"14\": {\"14\": 11, \"6\": 1}, \"18\": {\"18\": 11, \"5\": 1}, \"1\": {\"1\": 11, \"2\": 1}, \"10\": {\"10\": 11, \"7\": 1}, \"12\": {\"12\": 11, \"15\": 1}, \"3\": {\"3\": 12}, \"8\": {\"8\": 12}, \"0\": {\"0\": 6, \"7\": 6}, \"4\": {\"9\": 2, \"6\": 3, \"4\": 7}, \"17\": {\"11\": 3, \"17\": 9}}, \"Metehan_0\": {\"6\": {\"4\": 7, \"6\": 4, \"14\": 1}, \"18\": {\"5\": 3, \"18\": 9}, \"2\": {\"2\": 11, \"0\": 1}, \"17\": {\"17\": 12}, \"1\": {\"1\": 12}, \"4\": {\"6\": 3, \"4\": 9}, \"8\": {\"8\": 12}, \"9\": {\"9\": 12}, \"7\": {\"7\": 9, \"0\": 3}, \"15\": {\"15\": 12}, \"12\": {\"12\": 12}, \"11\": {\"17\": 4, \"11\": 8}, \"13\": {\"13\": 12}, \"0\": {\"0\": 10, \"7\": 2}, \"10\": {\"5\": 1, \"10\": 11}, \"14\": {\"6\": 3, \"14\": 9}, \"3\": {\"3\": 12}, \"5\": {\"5\": 11, \"18\": 1}, \"16\": {\"16\": 12}}, \"Metehan_2\": {\"1\": {\"1\": 12}, \"0\": {\"0\": 8, \"7\": 3, \"2\": 1}, \"13\": {\"13\": 12}, \"11\": {\"17\": 5, \"11\": 7}, \"5\": {\"5\": 12}, \"15\": {\"15\": 12}, \"14\": {\"14\": 10, \"4\": 1, \"6\": 1}, \"8\": {\"8\": 12}, \"6\": {\"6\": 7, \"4\": 3, \"14\": 2}, \"3\": {\"3\": 12}, \"10\": {\"10\": 12}, \"7\": {\"7\": 7, \"0\": 3, \"10\": 2}, \"17\": {\"17\": 10, \"11\": 2}, \"4\": {\"14\": 1, \"4\": 5, \"6\": 4, \"9\": 2}, \"2\": {\"2\": 12}, \"9\": {\"9\": 11, \"4\": 1}, \"12\": {\"12\": 12}, \"18\": {\"18\": 10, \"5\": 2}, \"16\": {\"16\": 12}}, \"CORES_3\": {\"17\": {\"18\": 1, \"41\": 2, \"17\": 5, \"49\": 1, \"48\": 1, \"30\": 1, \"23\": 1}, \"18\": {\"17\": 1, \"18\": 2, \"13\": 3, \"11\": 1, \"10\": 1, \"15\": 1, \"16\": 1, \"46\": 1, \"8\": 1}, \"27\": {\"8\": 1, \"29\": 1, \"45\": 3, \"12\": 1, \"37\": 1, \"27\": 4, \"26\": 1}, \"22\": {\"22\": 4, \"10\": 2, \"47\": 3, \"11\": 1, \"15\": 1, \"31\": 1}, \"10\": {\"41\": 2, \"11\": 1, \"15\": 1, \"22\": 3, \"56\": 1, \"16\": 1, \"18\": 2, \"13\": 1}, \"7\": {\"22\": 1, \"7\": 9, \"49\": 2}, \"13\": {\"18\": 4, \"17\": 1, \"46\": 1, \"48\": 1, \"26\": 1, \"13\": 2, \"38\": 1, \"5\": 1}, \"5\": {\"5\": 2, \"3\": 1, \"35\": 2, \"39\": 1, \"6\": 1, \"28\": 1, \"50\": 1, \"14\": 1, \"45\": 1, \"21\": 1}, \"43\": {\"43\": 5, \"23\": 1, \"53\": 1, \"47\": 1, \"0\": 2, \"24\": 1, \"34\": 1}, \"32\": {\"32\": 7, \"40\": 1, \"4\": 1, \"35\": 1}, \"15\": {\"15\": 2, \"11\": 2, \"48\": 1, \"13\": 2, \"47\": 1, \"52\": 2, \"7\": 1, \"22\": 1}, \"52\": {\"18\": 1, \"15\": 2, \"17\": 1, \"56\": 1, \"52\": 1, \"41\": 1, \"16\": 1, \"43\": 1, \"0\": 1, \"46\": 1, \"49\": 1}, \"29\": {\"29\": 5, \"46\": 1, \"57\": 1, \"21\": 1, \"26\": 1, \"12\": 1, \"6\": 2}, \"3\": {\"13\": 1, \"29\": 1, \"36\": 2, \"35\": 1, \"42\": 1, \"1\": 1, \"26\": 1, \"54\": 1, \"34\": 1, \"4\": 1, \"39\": 1}, \"8\": {\"5\": 1, \"32\": 1, \"3\": 1, \"53\": 1, \"8\": 4, \"19\": 1, \"37\": 1, \"25\": 1, \"27\": 1}, \"23\": {\"41\": 2, \"33\": 1, \"1\": 1, \"23\": 3, \"18\": 1, \"0\": 1, \"38\": 1}, \"41\": {\"52\": 2, \"22\": 1, \"49\": 1, \"6\": 1, \"1\": 1, \"33\": 1, \"41\": 3, \"24\": 1, \"43\": 1}, \"35\": {\"35\": 9, \"36\": 1, \"32\": 2}, \"40\": {\"32\": 3, \"35\": 1, \"44\": 1, \"25\": 1, \"40\": 6}, \"51\": {\"42\": 2, \"51\": 4, \"38\": 1, \"21\": 1}, \"42\": {\"12\": 1, \"42\": 3, \"0\": 1, \"53\": 1, \"30\": 2, \"21\": 1, \"19\": 1, \"37\": 1, \"9\": 1}, \"14\": {\"25\": 1, \"11\": 1, \"44\": 2, \"0\": 1, \"54\": 1, \"52\": 1, \"14\": 1, \"37\": 1, \"22\": 2, \"15\": 1}, \"25\": {\"12\": 2, \"50\": 1, \"25\": 3, \"20\": 1, \"9\": 2, \"40\": 1, \"37\": 1, \"27\": 1}, \"19\": {\"19\": 5, \"29\": 2, \"26\": 1}, \"11\": {\"18\": 1, \"10\": 1, \"48\": 1, \"15\": 1, \"16\": 1, \"53\": 1, \"22\": 2, \"42\": 1, \"41\": 1, \"11\": 2}, \"16\": {\"11\": 1, \"24\": 2, \"16\": 3, \"22\": 1, \"47\": 1, \"15\": 1, \"18\": 1, \"13\": 1, \"53\": 1}, \"24\": {\"16\": 2, \"11\": 1, \"24\": 3, \"15\": 1, \"48\": 1, \"41\": 1, \"31\": 1}, \"57\": {\"12\": 1, \"14\": 1, \"57\": 3, \"17\": 1, \"19\": 1, \"3\": 1, \"9\": 1, \"33\": 1}, \"12\": {\"12\": 6, \"46\": 1, \"21\": 3, \"3\": 1, \"9\": 1}, \"46\": {\"13\": 1, \"29\": 1, \"47\": 1, \"6\": 1, \"41\": 4, \"46\": 2, \"48\": 1, \"33\": 1}, \"28\": {\"28\": 8, \"6\": 1, \"33\": 2, \"14\": 1}, \"47\": {\"18\": 1, \"48\": 1, \"17\": 1, \"49\": 1, \"31\": 1, \"34\": 1, \"47\": 3, \"46\": 1, \"26\": 1, \"38\": 1}, \"9\": {\"27\": 2, \"9\": 5, \"45\": 1, \"28\": 1, \"8\": 1, \"57\": 1, \"32\": 1}, \"44\": {\"27\": 1, \"44\": 6, \"42\": 1, \"40\": 2, \"45\": 1, \"32\": 1}, \"45\": {\"50\": 3, \"27\": 1, \"25\": 2, \"8\": 1, \"4\": 1, \"9\": 1, \"37\": 1, \"6\": 1, \"21\": 1}, \"4\": {\"4\": 5, \"36\": 1, \"19\": 2, \"54\": 2}, \"50\": {\"4\": 1, \"27\": 1, \"21\": 1, \"36\": 1, \"50\": 2, \"26\": 1, \"37\": 1, \"52\": 1, \"28\": 1, \"51\": 2}, \"48\": {\"18\": 1, \"22\": 3, \"48\": 5, \"49\": 1, \"31\": 1, \"23\": 1}, \"0\": {\"43\": 3, \"48\": 1, \"49\": 2, \"47\": 1, \"0\": 1, \"16\": 1, \"18\": 1, \"7\": 1, \"28\": 1}, \"6\": {\"5\": 3, \"38\": 1, \"51\": 1, \"52\": 1, \"19\": 1, \"6\": 2, \"55\": 1, \"13\": 1, \"28\": 1}, \"55\": {\"34\": 1, \"55\": 4, \"29\": 1, \"26\": 1, \"57\": 1, \"5\": 1, \"30\": 1}, \"49\": {\"49\": 5, \"43\": 1, \"56\": 1, \"17\": 1, \"7\": 1, \"30\": 1, \"15\": 1, \"22\": 1}, \"36\": {\"32\": 1, \"27\": 1, \"8\": 1, \"36\": 5, \"4\": 1, \"2\": 1, \"14\": 1, \"3\": 1}, \"34\": {\"34\": 3, \"49\": 1, \"48\": 1, \"21\": 1, \"16\": 1, \"22\": 1, \"42\": 1, \"57\": 1, \"1\": 1, \"23\": 1}, \"37\": {\"53\": 1, \"20\": 2, \"37\": 2, \"50\": 1, \"2\": 1, \"45\": 1}, \"56\": {\"56\": 6, \"49\": 1, \"7\": 1, \"47\": 1, \"24\": 1}, \"53\": {\"20\": 1, \"53\": 5, \"52\": 2, \"21\": 1, \"46\": 1, \"51\": 2}, \"20\": {\"55\": 2, \"20\": 2, \"42\": 1, \"30\": 1, \"39\": 1, \"51\": 1, \"14\": 2, \"35\": 1, \"45\": 1}, \"21\": {\"5\": 1, \"21\": 5, \"2\": 1, \"38\": 2, \"8\": 1}, \"2\": {\"2\": 6, \"41\": 1, \"4\": 1, \"36\": 1, \"20\": 1}, \"1\": {\"52\": 1, \"17\": 1, \"46\": 2, \"47\": 1, \"1\": 1, \"41\": 1, \"14\": 1, \"43\": 1, \"16\": 1}, \"31\": {\"17\": 1, \"33\": 1, \"6\": 1, \"14\": 1, \"29\": 1, \"1\": 1, \"31\": 3, \"21\": 1}, \"30\": {\"42\": 1, \"48\": 1, \"30\": 4, \"29\": 1, \"5\": 1}, \"33\": {\"57\": 1, \"38\": 2, \"33\": 3, \"12\": 2, \"39\": 1, \"28\": 1}, \"38\": {\"48\": 1, \"17\": 1, \"0\": 1, \"38\": 5, \"52\": 1, \"47\": 1, \"33\": 1, \"13\": 1}, \"39\": {\"14\": 1, \"39\": 2, \"2\": 1, \"33\": 1, \"3\": 1, \"34\": 1, \"25\": 1, \"37\": 1, \"5\": 1}, \"54\": {\"36\": 2, \"4\": 2, \"51\": 1, \"54\": 3}, \"26\": {\"14\": 1, \"5\": 1, \"23\": 1, \"50\": 1, \"17\": 1, \"1\": 1, \"26\": 1, \"39\": 1}}, \"CORES_4\": {\"14\": {\"38\": 1, \"49\": 1, \"14\": 3, \"26\": 1, \"44\": 2, \"13\": 1, \"32\": 1}, \"27\": {\"33\": 1, \"27\": 7, \"12\": 1, \"35\": 1, \"42\": 1, \"19\": 1}, \"51\": {\"20\": 3, \"51\": 5, \"53\": 1, \"41\": 1, \"31\": 2}, \"9\": {\"9\": 8, \"19\": 1, \"36\": 1, \"4\": 1, \"26\": 1}, \"19\": {\"19\": 5, \"39\": 1, \"4\": 1, \"17\": 1, \"41\": 1, \"50\": 1, \"28\": 1, \"45\": 1}, \"34\": {\"31\": 1, \"1\": 1, \"17\": 1, \"34\": 7, \"23\": 1, \"38\": 1}, \"2\": {\"49\": 1, \"15\": 1, \"13\": 3, \"2\": 3, \"11\": 1, \"10\": 1, \"47\": 1, \"52\": 1}, \"1\": {\"57\": 3, \"13\": 1, \"7\": 1, \"52\": 1, \"1\": 2, \"47\": 1, \"18\": 1, \"56\": 1, \"48\": 1}, \"54\": {\"51\": 1, \"54\": 2, \"26\": 2, \"20\": 4, \"28\": 1}, \"47\": {\"49\": 1, \"47\": 5, \"48\": 1, \"24\": 2, \"22\": 1, \"23\": 1, \"52\": 1}, \"49\": {\"20\": 1, \"47\": 1, \"49\": 1, \"11\": 1, \"23\": 1, \"34\": 1}, \"38\": {\"51\": 1, \"57\": 3, \"38\": 3, \"49\": 1}, \"33\": {\"9\": 1, \"33\": 3, \"40\": 3, \"39\": 1, \"25\": 1, \"45\": 1}, \"31\": {\"31\": 5, \"38\": 1, \"17\": 2, \"51\": 2, \"8\": 1, \"30\": 1}, \"37\": {\"54\": 1, \"51\": 1, \"8\": 2, \"21\": 1, \"37\": 3, \"27\": 2, \"20\": 1, \"31\": 1}, \"4\": {\"4\": 4, \"19\": 3, \"9\": 4, \"39\": 1}, \"57\": {\"57\": 5, \"14\": 1, \"54\": 1, \"29\": 2, \"7\": 1}, \"15\": {\"49\": 1, \"15\": 2, \"7\": 1, \"10\": 1, \"11\": 1, \"22\": 1, \"43\": 1, \"24\": 2, \"16\": 1, \"18\": 1}, \"20\": {\"20\": 4, \"34\": 2, \"30\": 2, \"13\": 1, \"3\": 1, \"17\": 1, \"21\": 1}, \"30\": {\"30\": 3, \"21\": 2, \"3\": 1, \"12\": 1, \"27\": 1, \"20\": 1, \"17\": 1, \"6\": 1, \"50\": 1}, \"3\": {\"48\": 2, \"28\": 2, \"50\": 1, \"29\": 1, \"20\": 1, \"14\": 1, \"44\": 1, \"6\": 3}, \"17\": {\"4\": 1, \"3\": 1, \"28\": 3, \"17\": 3, \"34\": 1, \"19\": 1, \"42\": 1, \"30\": 1}, \"39\": {\"39\": 4, \"19\": 1, \"54\": 2, \"8\": 2, \"42\": 2, \"28\": 1}, \"41\": {\"39\": 2, \"38\": 1, \"54\": 2, \"41\": 4, \"34\": 2, \"43\": 1}, \"24\": {\"47\": 1, \"11\": 1, \"0\": 2, \"2\": 2, \"16\": 2, \"24\": 1, \"52\": 1}, \"40\": {\"4\": 1, \"33\": 3, \"40\": 3, \"27\": 3}, \"23\": {\"23\": 1, \"47\": 1, \"43\": 2, \"32\": 1, \"48\": 1, \"7\": 2, \"11\": 1, \"1\": 1, \"13\": 1, \"21\": 1}, \"13\": {\"0\": 4, \"11\": 1, \"23\": 1, \"24\": 1, \"39\": 1, \"6\": 1, \"13\": 1}, \"0\": {\"24\": 1, \"0\": 3, \"23\": 1, \"10\": 1, \"15\": 1, \"16\": 1, \"11\": 1, \"52\": 3}, \"11\": {\"13\": 2, \"47\": 1, \"56\": 1, \"46\": 2, \"24\": 2, \"2\": 1, \"16\": 3}, \"48\": {\"39\": 1, \"48\": 2, \"7\": 1, \"34\": 1, \"6\": 1, \"28\": 1, \"22\": 1, \"18\": 1, \"30\": 1}, \"5\": {\"17\": 1, \"34\": 1, \"7\": 1, \"15\": 1, \"13\": 1, \"57\": 2, \"5\": 2, \"39\": 1, \"19\": 1, \"18\": 1}, \"12\": {\"17\": 1, \"12\": 6, \"48\": 1, \"26\": 1, \"5\": 1, \"30\": 1, \"8\": 1}, \"52\": {\"32\": 2, \"43\": 1, \"18\": 2, \"1\": 1, \"10\": 1, \"52\": 2, \"13\": 1, \"0\": 1, \"47\": 1}, \"16\": {\"18\": 2, \"32\": 1, \"23\": 2, \"49\": 1, \"11\": 2, \"0\": 2, \"16\": 1, \"46\": 1}, \"25\": {\"25\": 8, \"53\": 1, \"39\": 1, \"21\": 1, \"9\": 1}, \"28\": {\"17\": 2, \"28\": 5, \"54\": 2, \"8\": 1, \"57\": 1, \"3\": 1}, \"18\": {\"17\": 1, \"31\": 1, \"32\": 1, \"20\": 1, \"10\": 2, \"29\": 1, \"1\": 1, \"24\": 1, \"16\": 1, \"18\": 1, \"7\": 1}, \"32\": {\"46\": 2, \"32\": 2, \"18\": 1, \"42\": 1, \"1\": 1, \"2\": 2, \"6\": 1}, \"50\": {\"50\": 2, \"31\": 1, \"21\": 1, \"14\": 1, \"26\": 1, \"8\": 1, \"19\": 1, \"27\": 1, \"29\": 1, \"54\": 1, \"4\": 1}, \"46\": {\"17\": 1, \"16\": 1, \"46\": 3, \"28\": 1, \"10\": 2, \"1\": 1, \"47\": 1, \"29\": 1, \"52\": 1}, \"55\": {\"5\": 2, \"12\": 1, \"55\": 2, \"3\": 1, \"14\": 1, \"27\": 1}, \"56\": {\"56\": 7, \"24\": 2, \"32\": 1, \"11\": 2}, \"43\": {\"43\": 5, \"23\": 1, \"18\": 1, \"57\": 2, \"1\": 1, \"0\": 2}, \"36\": {\"29\": 2, \"26\": 1, \"36\": 1, \"8\": 1, \"42\": 1, \"20\": 3, \"35\": 1}, \"29\": {\"29\": 6, \"57\": 2, \"54\": 1, \"1\": 1, \"7\": 2}, \"22\": {\"55\": 1, \"22\": 6, \"13\": 1, \"11\": 1, \"15\": 3}, \"21\": {\"21\": 6, \"17\": 1, \"12\": 3, \"6\": 1, \"36\": 1}, \"53\": {\"53\": 4, \"51\": 1, \"42\": 1, \"20\": 1, \"36\": 1, \"34\": 1, \"13\": 1}, \"7\": {\"0\": 1, \"6\": 1, \"7\": 2, \"29\": 2, \"46\": 1, \"22\": 1, \"47\": 1, \"16\": 1, \"23\": 1, \"52\": 1}, \"10\": {\"18\": 1, \"0\": 1, \"32\": 2, \"10\": 2, \"2\": 2}, \"35\": {\"54\": 1, \"35\": 8, \"40\": 1, \"36\": 1, \"33\": 1}, \"6\": {\"35\": 1, \"18\": 1, \"56\": 1, \"0\": 1, \"6\": 3, \"38\": 1, \"52\": 1, \"3\": 1, \"47\": 1, \"27\": 1}, \"26\": {\"54\": 1, \"26\": 3, \"42\": 2, \"39\": 1, \"25\": 1}, \"45\": {\"45\": 4, \"44\": 2, \"40\": 2, \"33\": 1, \"35\": 1}, \"8\": {\"8\": 3, \"28\": 2, \"42\": 2, \"27\": 1, \"37\": 1, \"31\": 1, \"30\": 1, \"3\": 1}, \"44\": {\"25\": 1, \"45\": 1, \"44\": 3, \"36\": 1, \"4\": 1, \"9\": 1, \"35\": 1, \"29\": 1}, \"42\": {\"14\": 1, \"27\": 1, \"8\": 1, \"42\": 2, \"34\": 1, \"41\": 2, \"19\": 1, \"17\": 1}}, \"CORES_5\": {\"17\": {\"38\": 2, \"35\": 1, \"32\": 1, \"17\": 5, \"6\": 1, \"42\": 1, \"50\": 1}, \"3\": {\"3\": 5, \"14\": 1, \"52\": 3, \"23\": 1, \"10\": 1, \"18\": 1}, \"44\": {\"19\": 2, \"49\": 1, \"51\": 1, \"48\": 1, \"44\": 2, \"42\": 1, \"41\": 1, \"14\": 1}, \"1\": {\"3\": 3, \"46\": 1, \"29\": 1, \"30\": 1, \"23\": 1, \"10\": 1, \"39\": 1, \"1\": 1, \"43\": 1, \"28\": 1}, \"41\": {\"39\": 2, \"41\": 4, \"54\": 1, \"27\": 1, \"6\": 1, \"5\": 2, \"7\": 1}, \"5\": {\"41\": 2, \"5\": 3, \"27\": 1, \"6\": 1, \"35\": 1, \"45\": 1, \"4\": 1, \"9\": 1, \"40\": 1}, \"2\": {\"3\": 1, \"16\": 3, \"24\": 1, \"10\": 1, \"17\": 1, \"11\": 2, \"2\": 1}, \"46\": {\"3\": 3, \"46\": 3, \"10\": 1, \"1\": 1, \"0\": 1, \"18\": 1}, \"35\": {\"54\": 1, \"17\": 1, \"5\": 1, \"35\": 5}, \"26\": {\"26\": 6, \"14\": 1, \"25\": 1, \"45\": 1, \"37\": 1, \"50\": 2}, \"54\": {\"43\": 1, \"54\": 2, \"44\": 1, \"53\": 1, \"36\": 1, \"33\": 1, \"45\": 1, \"19\": 2, \"27\": 1, \"20\": 1}, \"36\": {\"54\": 3, \"36\": 2, \"35\": 1, \"41\": 1, \"40\": 2, \"27\": 2, \"33\": 1}, \"49\": {\"17\": 1, \"16\": 1, \"22\": 1, \"33\": 1, \"18\": 2, \"49\": 2, \"44\": 1, \"28\": 1, \"52\": 1, \"46\": 1}, \"19\": {\"54\": 1, \"17\": 1, \"19\": 3, \"44\": 1, \"1\": 2, \"57\": 1, \"27\": 1}, \"43\": {\"1\": 2, \"46\": 1, \"24\": 1, \"43\": 4, \"39\": 1, \"18\": 2, \"29\": 1}, \"28\": {\"41\": 1, \"49\": 2, \"57\": 1, \"28\": 2, \"27\": 1, \"1\": 1}, \"39\": {\"39\": 5, \"41\": 1, \"27\": 1, \"42\": 2, \"33\": 1, \"54\": 1, \"5\": 1}, \"16\": {\"43\": 1, \"16\": 2, \"46\": 4, \"24\": 1, \"47\": 1, \"7\": 1, \"10\": 2}, \"38\": {\"38\": 4, \"14\": 1, \"46\": 2, \"43\": 1, \"23\": 1, \"17\": 3}, \"47\": {\"20\": 2, \"22\": 1, \"47\": 3, \"2\": 1, \"10\": 1, \"16\": 1, \"43\": 1}, \"29\": {\"47\": 2, \"20\": 1, \"5\": 1, \"1\": 1, \"39\": 1, \"29\": 2, \"46\": 1, \"28\": 1}, \"56\": {\"18\": 1, \"22\": 1, \"56\": 2}, \"20\": {\"20\": 2, \"18\": 1, \"51\": 3, \"47\": 1, \"33\": 1, \"6\": 1, \"36\": 1, \"7\": 1, \"37\": 1}, \"22\": {\"52\": 1, \"22\": 3, \"29\": 2, \"6\": 1, \"46\": 1, \"15\": 1, \"34\": 1}, \"14\": {\"51\": 1, \"14\": 4, \"53\": 1, \"27\": 1, \"41\": 1, \"7\": 1, \"23\": 1, \"37\": 2}, \"6\": {\"26\": 3, \"22\": 2, \"31\": 1, \"53\": 1, \"32\": 1, \"39\": 1, \"23\": 1, \"1\": 1, \"17\": 1}, \"52\": {\"52\": 6, \"11\": 2, \"10\": 1, \"13\": 2, \"3\": 1}, \"18\": {\"18\": 3, \"34\": 1, \"53\": 2, \"43\": 2, \"21\": 1, \"52\": 1}, \"27\": {\"27\": 6, \"32\": 1, \"41\": 2, \"17\": 1, \"9\": 1, \"50\": 1}, \"48\": {\"35\": 1, \"18\": 1, \"48\": 6, \"14\": 1, \"39\": 1, \"17\": 1, \"1\": 1}, \"34\": {\"18\": 3, \"34\": 4, \"31\": 1, \"15\": 1, \"16\": 2, \"28\": 1}, \"51\": {\"54\": 3, \"43\": 2, \"19\": 1, \"31\": 1, \"51\": 2, \"18\": 1, \"53\": 2}, \"24\": {\"15\": 1, \"22\": 1, \"3\": 1, \"24\": 4, \"23\": 1, \"52\": 1, \"34\": 1}, \"33\": {\"25\": 1, \"33\": 6, \"8\": 1, \"9\": 1, \"4\": 1, \"42\": 1, \"35\": 1}, \"45\": {\"25\": 1, \"19\": 2, \"55\": 2, \"36\": 1, \"45\": 1, \"38\": 1, \"40\": 1, \"37\": 1, \"12\": 1, \"32\": 1}, \"32\": {\"32\": 8, \"14\": 1, \"41\": 1}, \"25\": {\"26\": 1, \"25\": 2, \"4\": 2, \"40\": 1, \"37\": 2}, \"31\": {\"31\": 3, \"15\": 1, \"14\": 1, \"57\": 1}, \"15\": {\"15\": 7, \"11\": 2, \"18\": 1}, \"55\": {\"55\": 7, \"4\": 1, \"23\": 1, \"27\": 1}, \"53\": {\"53\": 6, \"42\": 1, \"47\": 1, \"43\": 1, \"51\": 1, \"14\": 1, \"46\": 1}, \"10\": {\"10\": 6, \"53\": 1, \"11\": 1, \"15\": 3, \"2\": 1}, \"40\": {\"32\": 1, \"55\": 1, \"25\": 1, \"40\": 4, \"8\": 1, \"33\": 2, \"45\": 1, \"35\": 1}, \"4\": {\"32\": 1, \"40\": 1, \"45\": 2, \"4\": 6, \"9\": 2}, \"11\": {\"24\": 2, \"13\": 2, \"23\": 1, \"11\": 3, \"2\": 3, \"0\": 1}, \"42\": {\"19\": 1, \"29\": 1, \"31\": 1, \"42\": 2, \"14\": 1, \"54\": 1, \"30\": 2, \"28\": 1}, \"8\": {\"38\": 1, \"4\": 1, \"9\": 1, \"17\": 2, \"39\": 1, \"8\": 2, \"27\": 1, \"36\": 1}, \"23\": {\"51\": 1, \"23\": 6, \"47\": 1, \"11\": 1, \"17\": 2, \"18\": 1}, \"50\": {\"53\": 1, \"45\": 2, \"30\": 1, \"54\": 1, \"50\": 1, \"42\": 1, \"17\": 1, \"37\": 1, \"40\": 1, \"27\": 1, \"38\": 1}, \"21\": {\"20\": 2, \"31\": 1, \"21\": 3, \"14\": 1, \"7\": 1, \"47\": 1, \"37\": 1}, \"30\": {\"30\": 8, \"9\": 2, \"57\": 1, \"45\": 1}, \"9\": {\"9\": 4, \"30\": 1, \"33\": 1, \"28\": 1, \"6\": 1, \"39\": 1, \"19\": 1}, \"13\": {\"10\": 1, \"13\": 3, \"11\": 1, \"1\": 1}, \"0\": {\"15\": 2, \"52\": 1, \"0\": 4, \"11\": 1}, \"37\": {\"37\": 4, \"31\": 1, \"25\": 1, \"14\": 1, \"44\": 1}, \"57\": {\"31\": 1, \"17\": 1, \"57\": 2, \"16\": 1, \"51\": 1, \"28\": 2}, \"7\": {\"11\": 1, \"54\": 1, \"20\": 1, \"6\": 1, \"7\": 1, \"2\": 1}, \"12\": {\"7\": 1, \"12\": 3, \"37\": 1, \"36\": 1}}, \"CORES_1\": {\"42\": {\"32\": 1, \"15\": 1, \"35\": 1, \"27\": 1, \"42\": 5, \"57\": 1}, \"32\": {\"32\": 4, \"18\": 1, \"50\": 1, \"9\": 1, \"30\": 1, \"53\": 1, \"1\": 1, \"25\": 1, \"24\": 1}, \"56\": {\"57\": 1, \"32\": 1, \"56\": 1, \"6\": 1, \"1\": 1, \"48\": 1, \"51\": 1, \"44\": 1, \"38\": 1, \"37\": 1}, \"39\": {\"39\": 4, \"15\": 1, \"21\": 1, \"28\": 1, \"24\": 1}, \"36\": {\"24\": 3, \"11\": 1, \"36\": 2, \"15\": 1, \"28\": 2, \"18\": 1, \"21\": 1, \"23\": 1}, \"16\": {\"16\": 5, \"24\": 1, \"15\": 1, \"0\": 1}, \"25\": {\"32\": 2, \"57\": 1, \"6\": 1, \"8\": 1, \"25\": 5, \"2\": 1, \"55\": 1}, \"47\": {\"11\": 1, \"47\": 6, \"43\": 1, \"49\": 1, \"23\": 1, \"9\": 1, \"38\": 1}, \"15\": {\"11\": 2, \"10\": 1, \"36\": 2, \"15\": 4, \"20\": 1, \"23\": 2}, \"38\": {\"38\": 6, \"25\": 1, \"48\": 1, \"51\": 1, \"15\": 1, \"1\": 1, \"54\": 1}, \"50\": {\"56\": 3, \"55\": 1, \"33\": 1, \"51\": 1, \"50\": 3, \"13\": 1}, \"57\": {\"57\": 4, \"56\": 1, \"48\": 2, \"19\": 1, \"33\": 2, \"45\": 1, \"14\": 1}, \"9\": {\"9\": 3, \"25\": 1, \"7\": 1, \"19\": 1, \"45\": 1, \"12\": 1, \"20\": 1, \"30\": 1}, \"31\": {\"36\": 2, \"31\": 3, \"22\": 1, \"52\": 2}, \"11\": {\"16\": 1, \"24\": 2, \"11\": 7, \"22\": 1, \"43\": 1}, \"46\": {\"46\": 4, \"6\": 1, \"44\": 1, \"8\": 1, \"4\": 1, \"1\": 1, \"41\": 1}, \"53\": {\"25\": 1, \"50\": 1, \"37\": 1, \"7\": 1, \"54\": 2, \"48\": 1, \"32\": 1, \"51\": 1, \"13\": 1, \"2\": 1, \"53\": 1}, \"24\": {\"24\": 2, \"11\": 6, \"38\": 2, \"10\": 1, \"49\": 1}, \"5\": {\"5\": 6, \"8\": 1, \"40\": 2, \"14\": 1}, \"34\": {\"34\": 3, \"45\": 1, \"33\": 2, \"14\": 1, \"1\": 1}, \"27\": {\"27\": 2, \"47\": 1, \"36\": 2, \"43\": 1, \"28\": 1, \"23\": 1, \"39\": 1, \"22\": 1}, \"14\": {\"6\": 2, \"14\": 3, \"34\": 1, \"32\": 2, \"56\": 1, \"9\": 1, \"53\": 1, \"45\": 1}, \"8\": {\"25\": 1, \"8\": 1, \"13\": 1, \"33\": 1, \"14\": 1, \"34\": 1, \"1\": 1, \"48\": 1, \"32\": 1, \"44\": 1, \"17\": 1, \"19\": 1}, \"18\": {\"24\": 2, \"48\": 1, \"9\": 1, \"14\": 1, \"49\": 3, \"18\": 2, \"51\": 1, \"7\": 1}, \"45\": {\"34\": 2, \"50\": 1, \"45\": 3, \"9\": 2, \"14\": 1, \"32\": 1, \"42\": 2}, \"6\": {\"34\": 1, \"8\": 1, \"53\": 1, \"46\": 1, \"2\": 1, \"9\": 1, \"12\": 1, \"29\": 1, \"41\": 2}, \"55\": {\"55\": 3, \"57\": 1, \"1\": 1, \"42\": 1, \"14\": 1, \"35\": 1, \"54\": 1, \"19\": 1}, \"49\": {\"24\": 2, \"49\": 4, \"35\": 1, \"0\": 1, \"22\": 1, \"19\": 2, \"23\": 1}, \"21\": {\"24\": 1, \"27\": 1, \"21\": 2, \"10\": 1, \"47\": 1, \"11\": 2}, \"10\": {\"10\": 3, \"20\": 1, \"16\": 2, \"36\": 1, \"28\": 1, \"38\": 2, \"11\": 2}, \"48\": {\"57\": 1, \"48\": 4, \"20\": 3, \"7\": 1, \"8\": 1, \"51\": 1, \"12\": 1}, \"35\": {\"27\": 1, \"33\": 1, \"54\": 2, \"35\": 2, \"45\": 1, \"19\": 1, \"32\": 1, \"7\": 1, \"57\": 1, \"44\": 1}, \"3\": {\"33\": 3, \"8\": 1, \"3\": 3, \"13\": 1, \"14\": 2, \"54\": 1, \"2\": 1}, \"33\": {\"42\": 3, \"37\": 1, \"33\": 6, \"13\": 2}, \"41\": {\"3\": 4, \"41\": 7, \"6\": 1}, \"40\": {\"40\": 9, \"4\": 2, \"26\": 1}, \"1\": {\"57\": 2, \"42\": 1, \"54\": 1, \"8\": 1, \"34\": 1, \"1\": 3, \"35\": 1, \"5\": 1, \"29\": 1}, \"43\": {\"28\": 2, \"39\": 2, \"31\": 1, \"18\": 1, \"43\": 2, \"36\": 1, \"23\": 1, \"47\": 2}, \"28\": {\"43\": 2, \"15\": 1, \"28\": 6, \"11\": 1, \"27\": 1, \"36\": 1}, \"44\": {\"48\": 1, \"9\": 1, \"44\": 2, \"32\": 2, \"57\": 2, \"7\": 1, \"33\": 1}, \"37\": {\"37\": 3, \"51\": 1, \"12\": 1, \"33\": 3, \"29\": 1, \"44\": 1, \"41\": 1, \"19\": 1}, \"51\": {\"12\": 3, \"18\": 1, \"53\": 2, \"16\": 2, \"51\": 2, \"8\": 2}, \"0\": {\"38\": 1, \"24\": 1, \"0\": 2, \"20\": 1, \"23\": 1, \"14\": 1, \"27\": 2, \"16\": 1}, \"7\": {\"44\": 1, \"54\": 1, \"33\": 1, \"16\": 1, \"7\": 2, \"8\": 2, \"3\": 1, \"35\": 1}, \"13\": {\"13\": 5, \"12\": 1, \"20\": 2, \"53\": 2, \"3\": 1, \"41\": 1}, \"23\": {\"24\": 1, \"9\": 1, \"23\": 2, \"21\": 3, \"49\": 1, \"36\": 1, \"38\": 1}, \"12\": {\"48\": 1, \"9\": 3, \"50\": 1, \"38\": 1, \"53\": 2, \"44\": 1, \"13\": 1}, \"54\": {\"9\": 1, \"38\": 1, \"1\": 1, \"34\": 1, \"32\": 1, \"16\": 1, \"20\": 1, \"12\": 1, \"29\": 1, \"35\": 1, \"30\": 2}, \"22\": {\"28\": 3, \"49\": 2, \"0\": 1}, \"19\": {\"55\": 2, \"35\": 1, \"44\": 1, \"19\": 3, \"27\": 1}, \"29\": {\"34\": 3, \"29\": 4, \"44\": 1, \"1\": 1, \"2\": 1}, \"20\": {\"19\": 2, \"51\": 2, \"9\": 1, \"2\": 2, \"20\": 1, \"13\": 1, \"30\": 1}, \"52\": {\"52\": 3, \"49\": 1, \"10\": 1, \"16\": 1, \"28\": 2, \"31\": 1, \"21\": 1}, \"17\": {\"18\": 1, \"1\": 1, \"12\": 1, \"33\": 1, \"17\": 2, \"50\": 1, \"56\": 1}, \"4\": {\"40\": 4, \"4\": 5, \"29\": 1}, \"30\": {\"54\": 2, \"35\": 1, \"33\": 1, \"30\": 2}, \"26\": {\"26\": 2, \"46\": 1, \"5\": 1, \"48\": 1, \"56\": 1}, \"2\": {\"14\": 1, \"2\": 3, \"30\": 2}}, \"CORES_2\": {\"6\": {\"11\": 1, \"6\": 1, \"57\": 2, \"1\": 1, \"5\": 1, \"13\": 1, \"0\": 1}, \"35\": {\"33\": 3, \"45\": 1, \"35\": 5, \"32\": 1}, \"38\": {\"38\": 4, \"30\": 1, \"15\": 1, \"22\": 1, \"43\": 1, \"52\": 1, \"0\": 1}, \"44\": {\"33\": 3, \"9\": 2, \"50\": 1, \"44\": 3, \"36\": 1}, \"33\": {\"44\": 3, \"33\": 9}, \"37\": {\"3\": 2, \"33\": 1, \"37\": 4, \"32\": 1, \"20\": 2, \"27\": 2}, \"1\": {\"38\": 1, \"7\": 1, \"15\": 1, \"30\": 1, \"23\": 1, \"5\": 1, \"16\": 1, \"1\": 3, \"47\": 2}, \"50\": {\"6\": 1, \"3\": 2, \"13\": 1, \"37\": 1, \"50\": 5, \"17\": 1, \"51\": 1}, \"12\": {\"50\": 1, \"12\": 6, \"29\": 4, \"7\": 1}, \"11\": {\"38\": 1, \"11\": 3, \"13\": 1, \"1\": 1, \"28\": 2}, \"51\": {\"51\": 7, \"54\": 2, \"26\": 1, \"20\": 1, \"50\": 1}, \"9\": {\"3\": 2, \"29\": 2, \"57\": 1, \"9\": 5, \"19\": 1, \"27\": 1}, \"34\": {\"33\": 1, \"34\": 3, \"39\": 1, \"29\": 1, \"5\": 2, \"14\": 1, \"8\": 1, \"1\": 1, \"57\": 1}, \"3\": {\"57\": 1, \"12\": 1, \"19\": 1, \"41\": 1, \"3\": 2, \"14\": 1, \"29\": 1, \"51\": 1, \"6\": 1, \"39\": 1, \"49\": 1}, \"23\": {\"30\": 1, \"6\": 1, \"17\": 1, \"28\": 1, \"47\": 2, \"10\": 2, \"24\": 1, \"23\": 1, \"15\": 1, \"43\": 1}, \"55\": {\"55\": 5, \"51\": 1, \"45\": 2, \"9\": 1, \"12\": 1}, \"57\": {\"34\": 1, \"3\": 1, \"29\": 2, \"57\": 4, \"5\": 2, \"14\": 2}, \"7\": {\"30\": 2, \"1\": 2, \"0\": 1, \"7\": 1, \"43\": 2, \"41\": 1, \"42\": 1, \"18\": 1, \"5\": 1}, \"30\": {\"11\": 2, \"34\": 1, \"41\": 1, \"17\": 1, \"43\": 1, \"31\": 1, \"48\": 1, \"30\": 1, \"5\": 1}, \"2\": {\"6\": 1, \"3\": 1, \"49\": 3, \"34\": 2, \"23\": 1, \"26\": 1, \"42\": 1}, \"27\": {\"44\": 1, \"29\": 1, \"39\": 1, \"54\": 2, \"8\": 2, \"34\": 1, \"37\": 2, \"27\": 1, \"4\": 1}, \"14\": {\"33\": 1, \"4\": 1, \"11\": 1, \"44\": 1, \"14\": 2, \"28\": 1, \"40\": 1, \"10\": 1, \"48\": 1, \"35\": 2}, \"0\": {\"30\": 1, \"0\": 2, \"31\": 2, \"7\": 3, \"1\": 1, \"48\": 1, \"15\": 1, \"11\": 1}, \"17\": {\"41\": 1, \"17\": 3, \"21\": 2, \"48\": 1, \"42\": 1, \"16\": 1, \"12\": 1}, \"5\": {\"4\": 1, \"17\": 1, \"31\": 2, \"49\": 1, \"5\": 4, \"19\": 1, \"6\": 1, \"7\": 1}, \"19\": {\"29\": 2, \"19\": 4, \"20\": 1, \"27\": 1, \"31\": 1, \"50\": 1}, \"41\": {\"30\": 1, \"6\": 1, \"43\": 2, \"17\": 1, \"47\": 1, \"46\": 1, \"14\": 1, \"16\": 1, \"41\": 2, \"52\": 1}, \"15\": {\"15\": 5, \"30\": 1, \"43\": 1, \"38\": 2, \"52\": 1}, \"4\": {\"9\": 4, \"54\": 1, \"4\": 1, \"20\": 1, \"45\": 1, \"37\": 2, \"8\": 1, \"3\": 1}, \"29\": {\"19\": 3, \"54\": 1, \"7\": 1, \"29\": 2, \"50\": 1, \"34\": 2, \"2\": 1, \"33\": 1}, \"31\": {\"41\": 1, \"31\": 4, \"42\": 1, \"1\": 3, \"57\": 1}, \"48\": {\"48\": 4, \"17\": 1, \"56\": 2, \"49\": 1, \"57\": 1, \"46\": 1, \"15\": 1, \"1\": 1}, \"21\": {\"17\": 2, \"21\": 8, \"37\": 1, \"27\": 1}, \"20\": {\"20\": 8, \"8\": 1, \"54\": 1, \"27\": 1, \"51\": 1}, \"39\": {\"55\": 1, \"39\": 6, \"29\": 1, \"32\": 1, \"44\": 1}, \"45\": {\"33\": 1, \"45\": 1, \"32\": 1, \"4\": 1, \"20\": 1, \"49\": 1, \"19\": 1, \"27\": 1, \"9\": 1, \"57\": 1, \"29\": 1, \"26\": 1}, \"49\": {\"49\": 6, \"17\": 1, \"53\": 1, \"2\": 1, \"25\": 1, \"42\": 1, \"26\": 1}, \"56\": {\"56\": 7, \"43\": 1, \"23\": 1, \"10\": 2, \"38\": 1}, \"47\": {\"13\": 1, \"56\": 1, \"47\": 2, \"15\": 2, \"52\": 2, \"23\": 1, \"21\": 1, \"11\": 2}, \"43\": {\"13\": 3, \"31\": 1, \"0\": 1, \"43\": 5, \"52\": 1, \"28\": 1}, \"52\": {\"13\": 1, \"43\": 1, \"24\": 1, \"10\": 1, \"48\": 1, \"52\": 3, \"22\": 1, \"38\": 1}, \"13\": {\"43\": 2, \"15\": 3, \"47\": 1, \"52\": 3, \"38\": 1, \"46\": 1, \"48\": 1}, \"32\": {\"39\": 1, \"32\": 3, \"44\": 1, \"27\": 1, \"54\": 1, \"33\": 1}, \"25\": {\"27\": 2, \"54\": 1, \"19\": 1, \"50\": 2, \"33\": 1, \"26\": 1}, \"26\": {\"8\": 2, \"26\": 7, \"37\": 1, \"54\": 1, \"25\": 1}, \"8\": {\"51\": 1, \"27\": 1, \"26\": 3, \"8\": 2, \"53\": 2, \"25\": 2, \"50\": 1}, \"42\": {\"7\": 1, \"31\": 1, \"14\": 2, \"42\": 1, \"17\": 2, \"57\": 1, \"16\": 1, \"18\": 1}, \"54\": {\"32\": 2, \"25\": 2, \"54\": 3, \"21\": 1, \"34\": 1, \"27\": 1, \"4\": 1, \"26\": 1}, \"28\": {\"23\": 1, \"28\": 1, \"21\": 1, \"16\": 1, \"0\": 1, \"11\": 1}, \"40\": {\"9\": 2, \"40\": 6, \"35\": 1, \"4\": 1}, \"22\": {\"22\": 3, \"24\": 1, \"56\": 3, \"16\": 1, \"10\": 1, \"47\": 1}, \"10\": {\"24\": 2, \"22\": 3, \"10\": 3, \"56\": 2}, \"53\": {\"21\": 1, \"51\": 1, \"25\": 2, \"53\": 2, \"17\": 2, \"20\": 1, \"54\": 1}, \"24\": {\"52\": 1, \"22\": 1, \"24\": 3, \"15\": 1}, \"36\": {\"36\": 4}, \"46\": {\"46\": 1, \"21\": 1, \"57\": 1, \"17\": 1, \"6\": 1, \"1\": 1}, \"16\": {\"28\": 1, \"10\": 2, \"16\": 1, \"43\": 1, \"48\": 1}, \"18\": {\"51\": 1, \"1\": 1, \"15\": 1, \"53\": 1, \"18\": 1, \"24\": 1}}}, \"per_domain_accuracy\": {\"Metehan_1\": {\"accuracy\": 0.8333333333333334, \"source?\": true}, \"Metehan_0\": {\"accuracy\": 0.8728070175438597, \"source?\": true}, \"Metehan_2\": {\"accuracy\": 0.8552631578947368, \"source?\": true}, \"CORES_3\": {\"accuracy\": 0.32507739938080493, \"source?\": false}, \"CORES_4\": {\"accuracy\": 0.3111455108359133, \"source?\": false}, \"CORES_5\": {\"accuracy\": 0.34539473684210525, \"source?\": false}, \"CORES_1\": {\"accuracy\": 0.3059210526315789, \"source?\": false}, \"CORES_2\": {\"accuracy\": 0.31743421052631576, \"source?\": false}}}, \"history\": {\"epoch_indices\": [1, 2, 3, 4, 5, 6, 7, 8], \"train_label_loss\": [0.36141047940131216, 1.468958405748246, 0.7094719782767315, 0.3742188398563673, 0.2750922834707631, 0.2831730946661934, 0.257447104664549, 0.29856498616318855], \"source_val_label_loss\": [0.315433531999588, 1.0310823917388916, 0.6682701706886292, 0.4157847464084625, 0.4045783579349518, 0.3695122301578522, 0.3989819586277008, 0.5046553611755371], \"target_val_label_loss\": [43.7568473815918, 41.26736068725586, 36.920257568359375, 11.715899467468262, 14.598472595214844, 12.381685256958008, 25.769054412841797, 51.6668701171875], \"source_val_acc_label\": [0.8742690058479532, 0.8289473684210527, 0.8377192982456141, 0.8538011695906432, 0.8640350877192983, 0.8654970760233918, 0.8421052631578947, 0.8450292397660819], \"target_val_acc_label\": [0.16110397946084723, 0.17265725288831835, 0.29685494223363285, 0.3209242618741977, 0.36906290115532736, 0.3610397946084724, 0.35847240051347884, 0.38960205391527597]}, \"dataset_metrics\": {\"source\": {\"train\": {\"n_unique_x\": 3990, \"n_unique_y\": 19, \"n_batch/episode\": 126}, \"val\": {\"n_unique_x\": 855, \"n_unique_y\": 19, \"n_batch/episode\": 18}, \"test\": {\"n_unique_x\": 855, \"n_unique_y\": 19, \"n_batch/episode\": 18}}, \"target\": {\"train\": {\"n_unique_x\": 20299, \"n_unique_y\": 58, \"n_batch/episode\": 611}, \"val\": {\"n_unique_x\": 4299, \"n_unique_y\": 58, \"n_batch/episode\": 82}, \"test\": {\"n_unique_x\": 4299, \"n_unique_y\": 58, \"n_batch/episode\": 82}}}}'"
      ]
     },
     "execution_count": 29,
     "metadata": {},
     "output_type": "execute_result"
    }
   ],
   "source": [
    "json.dumps(experiment)"
   ]
  }
 ],
 "metadata": {
  "celltoolbar": "Tags",
  "kernelspec": {
   "display_name": "Python 3 (ipykernel)",
   "language": "python",
   "name": "python3"
  },
  "language_info": {
   "codemirror_mode": {
    "name": "ipython",
    "version": 3
   },
   "file_extension": ".py",
   "mimetype": "text/x-python",
   "name": "python",
   "nbconvert_exporter": "python",
   "pygments_lexer": "ipython3",
   "version": "3.8.10"
  },
  "papermill": {
   "default_parameters": {},
   "duration": 58.748496,
   "end_time": "2022-03-07T01:07:08.463291",
   "environment_variables": {},
   "exception": null,
   "input_path": "/mnt/wd500GB/CSC500/csc500-main/csc500-notebooks/templates/tl_ptn_template.ipynb",
   "output_path": "trial.ipynb",
   "parameters": {
    "parameters": {
     "BEST_MODEL_PATH": "./best_model.pth",
     "NUM_LOGS_PER_EPOCH": 10,
     "criteria_for_best": "target_loss",
     "dataset_seed": 1337,
     "datasets": [
      {
       "domain_prefix": "CORES_",
       "domains": [
        1,
        2,
        3,
        4,
        5
       ],
       "episode_transforms": [],
       "labels": [
        "1-10.",
        "1-11.",
        "1-15.",
        "1-16.",
        "1-17.",
        "1-18.",
        "1-19.",
        "10-4.",
        "10-7.",
        "11-1.",
        "11-14.",
        "11-17.",
        "11-20.",
        "11-7.",
        "13-20.",
        "13-8.",
        "14-10.",
        "14-11.",
        "14-14.",
        "14-7.",
        "15-1.",
        "15-20.",
        "16-1.",
        "16-16.",
        "17-10.",
        "17-11.",
        "17-2.",
        "19-1.",
        "19-16.",
        "19-19.",
        "19-20.",
        "19-3.",
        "2-10.",
        "2-11.",
        "2-17.",
        "2-18.",
        "2-20.",
        "2-3.",
        "2-4.",
        "2-5.",
        "2-6.",
        "2-7.",
        "2-8.",
        "3-13.",
        "3-18.",
        "3-3.",
        "4-1.",
        "4-10.",
        "4-11.",
        "4-19.",
        "5-5.",
        "6-15.",
        "7-10.",
        "7-14.",
        "8-18.",
        "8-20.",
        "8-3.",
        "8-8."
       ],
       "num_examples_per_domain_per_label": 100,
       "pickle_path": "/mnt/wd500GB/CSC500/csc500-main/datasets/cores.stratified_ds.2022A.pkl",
       "source_or_target_dataset": "target",
       "x_transforms": [
        "unit_mag"
       ]
      },
      {
       "domain_prefix": "Metehan_",
       "domains": [
        0,
        1,
        2
       ],
       "episode_transforms": [],
       "labels": [
        0,
        1,
        2,
        3,
        4,
        5,
        6,
        7,
        8,
        9,
        10,
        11,
        12,
        13,
        14,
        15,
        16,
        17,
        18
       ],
       "num_examples_per_domain_per_label": 100,
       "pickle_path": "/mnt/wd500GB/CSC500/csc500-main/datasets/metehan.stratified_ds.2022A.pkl",
       "source_or_target_dataset": "source",
       "x_transforms": [
        "unit_mag"
       ]
      }
     ],
     "device": "cuda",
     "experiment_name": "tl_1_cores-metehan",
     "lr": 0.001,
     "n_epoch": 50,
     "n_query": 2,
     "n_shot": 3,
     "n_way": 19,
     "patience": 3,
     "seed": 1337,
     "test_k_factor": 2,
     "torch_default_dtype": "torch.float32",
     "train_k_factor": 3,
     "val_k_factor": 2,
     "x_net": [
      {
       "class": "nnReshape",
       "kargs": {
        "shape": [
         -1,
         1,
         2,
         256
        ]
       }
      },
      {
       "class": "Conv2d",
       "kargs": {
        "bias": false,
        "in_channels": 1,
        "kernel_size": [
         1,
         7
        ],
        "out_channels": 256,
        "padding": [
         0,
         3
        ]
       }
      },
      {
       "class": "ReLU",
       "kargs": {
        "inplace": true
       }
      },
      {
       "class": "BatchNorm2d",
       "kargs": {
        "num_features": 256
       }
      },
      {
       "class": "Conv2d",
       "kargs": {
        "bias": true,
        "in_channels": 256,
        "kernel_size": [
         2,
         7
        ],
        "out_channels": 80,
        "padding": [
         0,
         3
        ]
       }
      },
      {
       "class": "ReLU",
       "kargs": {
        "inplace": true
       }
      },
      {
       "class": "BatchNorm2d",
       "kargs": {
        "num_features": 80
       }
      },
      {
       "class": "Flatten",
       "kargs": {}
      },
      {
       "class": "Linear",
       "kargs": {
        "in_features": 20480,
        "out_features": 256
       }
      },
      {
       "class": "ReLU",
       "kargs": {
        "inplace": true
       }
      },
      {
       "class": "BatchNorm1d",
       "kargs": {
        "num_features": 256
       }
      },
      {
       "class": "Linear",
       "kargs": {
        "in_features": 256,
        "out_features": 256
       }
      }
     ]
    }
   },
   "start_time": "2022-03-07T01:06:09.714795",
   "version": "2.3.4"
  }
 },
 "nbformat": 4,
 "nbformat_minor": 5
}