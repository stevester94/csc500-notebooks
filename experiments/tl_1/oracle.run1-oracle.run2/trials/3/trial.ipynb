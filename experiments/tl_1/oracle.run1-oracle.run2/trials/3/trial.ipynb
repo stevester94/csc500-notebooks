{
 "cells": [
  {
   "cell_type": "markdown",
   "id": "9fea5f46",
   "metadata": {
    "papermill": {
     "duration": 0.01695,
     "end_time": "2022-03-10T14:03:55.783110",
     "exception": false,
     "start_time": "2022-03-10T14:03:55.766160",
     "status": "completed"
    },
    "tags": []
   },
   "source": [
    "# Transfer Learning Template"
   ]
  },
  {
   "cell_type": "code",
   "execution_count": 1,
   "id": "0902182a",
   "metadata": {
    "execution": {
     "iopub.execute_input": "2022-03-10T14:03:55.822289Z",
     "iopub.status.busy": "2022-03-10T14:03:55.821789Z",
     "iopub.status.idle": "2022-03-10T14:03:56.696015Z",
     "shell.execute_reply": "2022-03-10T14:03:56.695728Z"
    },
    "papermill": {
     "duration": 0.900834,
     "end_time": "2022-03-10T14:03:56.696082",
     "exception": false,
     "start_time": "2022-03-10T14:03:55.795248",
     "status": "completed"
    },
    "tags": []
   },
   "outputs": [],
   "source": [
    "%load_ext autoreload\n",
    "%autoreload 2\n",
    "%matplotlib inline\n",
    "\n",
    "    \n",
    "import os, json, sys, time, random\n",
    "import numpy as np\n",
    "import torch\n",
    "from torch.optim import Adam\n",
    "from  easydict import EasyDict\n",
    "import matplotlib.pyplot as plt\n",
    "\n",
    "from steves_models.steves_ptn import Steves_Prototypical_Network\n",
    "\n",
    "from steves_utils.lazy_iterable_wrapper import Lazy_Iterable_Wrapper\n",
    "from steves_utils.iterable_aggregator import Iterable_Aggregator\n",
    "from steves_utils.ptn_train_eval_test_jig import  PTN_Train_Eval_Test_Jig\n",
    "from steves_utils.torch_sequential_builder import build_sequential\n",
    "from steves_utils.torch_utils import get_dataset_metrics, ptn_confusion_by_domain_over_dataloader\n",
    "from steves_utils.utils_v2 import (per_domain_accuracy_from_confusion, get_datasets_base_path)\n",
    "from steves_utils.PTN.utils import independent_accuracy_assesment\n",
    "\n",
    "from torch.utils.data import DataLoader\n",
    "\n",
    "from steves_utils.stratified_dataset.episodic_accessor import Episodic_Accessor_Factory\n",
    "\n",
    "from steves_utils.ptn_do_report import (\n",
    "    get_loss_curve,\n",
    "    get_results_table,\n",
    "    get_parameters_table,\n",
    "    get_domain_accuracies,\n",
    ")\n",
    "\n",
    "from steves_utils.transforms import get_chained_transform"
   ]
  },
  {
   "cell_type": "markdown",
   "id": "41c840b4",
   "metadata": {
    "papermill": {
     "duration": 0.012338,
     "end_time": "2022-03-10T14:03:56.726417",
     "exception": false,
     "start_time": "2022-03-10T14:03:56.714079",
     "status": "completed"
    },
    "tags": []
   },
   "source": [
    "# Allowed Parameters\n",
    "These are allowed parameters, not defaults\n",
    "Each of these values need to be present in the injected parameters (the notebook will raise an exception if they are not present)\n",
    "\n",
    "Papermill uses the cell tag \"parameters\" to inject the real parameters below this cell.\n",
    "Enable tags to see what I mean"
   ]
  },
  {
   "cell_type": "code",
   "execution_count": 2,
   "id": "fd44eb83",
   "metadata": {
    "execution": {
     "iopub.execute_input": "2022-03-10T14:03:56.754096Z",
     "iopub.status.busy": "2022-03-10T14:03:56.753679Z",
     "iopub.status.idle": "2022-03-10T14:03:56.769587Z",
     "shell.execute_reply": "2022-03-10T14:03:56.769170Z"
    },
    "papermill": {
     "duration": 0.030959,
     "end_time": "2022-03-10T14:03:56.769686",
     "exception": false,
     "start_time": "2022-03-10T14:03:56.738727",
     "status": "completed"
    },
    "tags": []
   },
   "outputs": [],
   "source": [
    "required_parameters = {\n",
    "    \"experiment_name\",\n",
    "    \"lr\",\n",
    "    \"device\",\n",
    "    \"seed\",\n",
    "    \"dataset_seed\",\n",
    "    \"n_shot\",\n",
    "    \"n_query\",\n",
    "    \"n_way\",\n",
    "    \"train_k_factor\",\n",
    "    \"val_k_factor\",\n",
    "    \"test_k_factor\",\n",
    "    \"n_epoch\",\n",
    "    \"patience\",\n",
    "    \"criteria_for_best\",\n",
    "    \"x_net\",\n",
    "    \"datasets\",\n",
    "    \"torch_default_dtype\",\n",
    "    \"NUM_LOGS_PER_EPOCH\",\n",
    "    \"BEST_MODEL_PATH\",\n",
    "}"
   ]
  },
  {
   "cell_type": "code",
   "execution_count": 3,
   "id": "fa3f0049",
   "metadata": {
    "execution": {
     "iopub.execute_input": "2022-03-10T14:03:56.805216Z",
     "iopub.status.busy": "2022-03-10T14:03:56.804939Z",
     "iopub.status.idle": "2022-03-10T14:03:56.817387Z",
     "shell.execute_reply": "2022-03-10T14:03:56.816913Z"
    },
    "papermill": {
     "duration": 0.029986,
     "end_time": "2022-03-10T14:03:56.817485",
     "exception": false,
     "start_time": "2022-03-10T14:03:56.787499",
     "status": "completed"
    },
    "tags": [
     "parameters"
    ]
   },
   "outputs": [],
   "source": [
    "from steves_utils.CORES.utils import (\n",
    "    ALL_NODES,\n",
    "    ALL_NODES_MINIMUM_1000_EXAMPLES,\n",
    "    ALL_DAYS\n",
    ")\n",
    "\n",
    "from steves_utils.ORACLE.utils_v2 import (\n",
    "    ALL_DISTANCES_FEET_NARROWED,\n",
    "    ALL_RUNS,\n",
    "    ALL_SERIAL_NUMBERS,\n",
    ")\n",
    "\n",
    "standalone_parameters = {}\n",
    "standalone_parameters[\"experiment_name\"] = \"STANDALONE PTN\"\n",
    "standalone_parameters[\"lr\"] = 0.001\n",
    "standalone_parameters[\"device\"] = \"cuda\"\n",
    "\n",
    "standalone_parameters[\"seed\"] = 1337\n",
    "standalone_parameters[\"dataset_seed\"] = 1337\n",
    "\n",
    "standalone_parameters[\"n_way\"] = 8\n",
    "standalone_parameters[\"n_shot\"] = 3\n",
    "standalone_parameters[\"n_query\"]  = 2\n",
    "standalone_parameters[\"train_k_factor\"] = 1\n",
    "standalone_parameters[\"val_k_factor\"] = 2\n",
    "standalone_parameters[\"test_k_factor\"] = 2\n",
    "\n",
    "\n",
    "standalone_parameters[\"n_epoch\"] = 50\n",
    "\n",
    "standalone_parameters[\"patience\"] = 10\n",
    "standalone_parameters[\"criteria_for_best\"] = \"source_loss\"\n",
    "\n",
    "standalone_parameters[\"datasets\"] = [\n",
    "    {\n",
    "        \"labels\": ALL_SERIAL_NUMBERS,\n",
    "        \"domains\": ALL_DISTANCES_FEET_NARROWED,\n",
    "        \"num_examples_per_domain_per_label\": 100,\n",
    "        \"pickle_path\": os.path.join(get_datasets_base_path(), \"oracle.Run1_framed_2000Examples_stratified_ds.2022A.pkl\"),\n",
    "        \"source_or_target_dataset\": \"source\",\n",
    "        \"x_transforms\": [\"unit_mag\", \"minus_two\"],\n",
    "        \"episode_transforms\": [],\n",
    "        \"domain_prefix\": \"ORACLE_\"\n",
    "    },\n",
    "    {\n",
    "        \"labels\": ALL_NODES,\n",
    "        \"domains\": ALL_DAYS,\n",
    "        \"num_examples_per_domain_per_label\": 100,\n",
    "        \"pickle_path\": os.path.join(get_datasets_base_path(), \"cores.stratified_ds.2022A.pkl\"),\n",
    "        \"source_or_target_dataset\": \"target\",\n",
    "        \"x_transforms\": [\"unit_power\", \"times_zero\"],\n",
    "        \"episode_transforms\": [],\n",
    "        \"domain_prefix\": \"CORES_\"\n",
    "    }   \n",
    "]\n",
    "\n",
    "standalone_parameters[\"torch_default_dtype\"] = \"torch.float32\" \n",
    "\n",
    "\n",
    "\n",
    "standalone_parameters[\"x_net\"] =     [\n",
    "    {\"class\": \"nnReshape\", \"kargs\": {\"shape\":[-1, 1, 2, 256]}},\n",
    "    {\"class\": \"Conv2d\", \"kargs\": { \"in_channels\":1, \"out_channels\":256, \"kernel_size\":(1,7), \"bias\":False, \"padding\":(0,3), },},\n",
    "    {\"class\": \"ReLU\", \"kargs\": {\"inplace\": True}},\n",
    "    {\"class\": \"BatchNorm2d\", \"kargs\": {\"num_features\":256}},\n",
    "\n",
    "    {\"class\": \"Conv2d\", \"kargs\": { \"in_channels\":256, \"out_channels\":80, \"kernel_size\":(2,7), \"bias\":True, \"padding\":(0,3), },},\n",
    "    {\"class\": \"ReLU\", \"kargs\": {\"inplace\": True}},\n",
    "    {\"class\": \"BatchNorm2d\", \"kargs\": {\"num_features\":80}},\n",
    "    {\"class\": \"Flatten\", \"kargs\": {}},\n",
    "\n",
    "    {\"class\": \"Linear\", \"kargs\": {\"in_features\": 80*256, \"out_features\": 256}}, # 80 units per IQ pair\n",
    "    {\"class\": \"ReLU\", \"kargs\": {\"inplace\": True}},\n",
    "    {\"class\": \"BatchNorm1d\", \"kargs\": {\"num_features\":256}},\n",
    "\n",
    "    {\"class\": \"Linear\", \"kargs\": {\"in_features\": 256, \"out_features\": 256}},\n",
    "]\n",
    "\n",
    "# Parameters relevant to results\n",
    "# These parameters will basically never need to change\n",
    "standalone_parameters[\"NUM_LOGS_PER_EPOCH\"] = 10\n",
    "standalone_parameters[\"BEST_MODEL_PATH\"] = \"./best_model.pth\"\n",
    "\n",
    "\n",
    "\n",
    "\n"
   ]
  },
  {
   "cell_type": "code",
   "execution_count": 4,
   "id": "43691587",
   "metadata": {
    "execution": {
     "iopub.execute_input": "2022-03-10T14:03:56.857091Z",
     "iopub.status.busy": "2022-03-10T14:03:56.848851Z",
     "iopub.status.idle": "2022-03-10T14:03:56.870482Z",
     "shell.execute_reply": "2022-03-10T14:03:56.870895Z"
    },
    "papermill": {
     "duration": 0.036054,
     "end_time": "2022-03-10T14:03:56.871004",
     "exception": false,
     "start_time": "2022-03-10T14:03:56.834950",
     "status": "completed"
    },
    "tags": [
     "injected-parameters"
    ]
   },
   "outputs": [],
   "source": [
    "# Parameters\n",
    "parameters = {\n",
    "    \"experiment_name\": \"tl_1_oracle.run1-oracle.run2\",\n",
    "    \"device\": \"cuda\",\n",
    "    \"lr\": 0.001,\n",
    "    \"seed\": 1337,\n",
    "    \"dataset_seed\": 1337,\n",
    "    \"n_shot\": 3,\n",
    "    \"n_query\": 2,\n",
    "    \"train_k_factor\": 3,\n",
    "    \"val_k_factor\": 2,\n",
    "    \"test_k_factor\": 2,\n",
    "    \"torch_default_dtype\": \"torch.float32\",\n",
    "    \"n_epoch\": 50,\n",
    "    \"patience\": 3,\n",
    "    \"criteria_for_best\": \"target_loss\",\n",
    "    \"x_net\": [\n",
    "        {\"class\": \"nnReshape\", \"kargs\": {\"shape\": [-1, 1, 2, 256]}},\n",
    "        {\n",
    "            \"class\": \"Conv2d\",\n",
    "            \"kargs\": {\n",
    "                \"in_channels\": 1,\n",
    "                \"out_channels\": 256,\n",
    "                \"kernel_size\": [1, 7],\n",
    "                \"bias\": False,\n",
    "                \"padding\": [0, 3],\n",
    "            },\n",
    "        },\n",
    "        {\"class\": \"ReLU\", \"kargs\": {\"inplace\": True}},\n",
    "        {\"class\": \"BatchNorm2d\", \"kargs\": {\"num_features\": 256}},\n",
    "        {\n",
    "            \"class\": \"Conv2d\",\n",
    "            \"kargs\": {\n",
    "                \"in_channels\": 256,\n",
    "                \"out_channels\": 80,\n",
    "                \"kernel_size\": [2, 7],\n",
    "                \"bias\": True,\n",
    "                \"padding\": [0, 3],\n",
    "            },\n",
    "        },\n",
    "        {\"class\": \"ReLU\", \"kargs\": {\"inplace\": True}},\n",
    "        {\"class\": \"BatchNorm2d\", \"kargs\": {\"num_features\": 80}},\n",
    "        {\"class\": \"Flatten\", \"kargs\": {}},\n",
    "        {\"class\": \"Linear\", \"kargs\": {\"in_features\": 20480, \"out_features\": 256}},\n",
    "        {\"class\": \"ReLU\", \"kargs\": {\"inplace\": True}},\n",
    "        {\"class\": \"BatchNorm1d\", \"kargs\": {\"num_features\": 256}},\n",
    "        {\"class\": \"Linear\", \"kargs\": {\"in_features\": 256, \"out_features\": 256}},\n",
    "    ],\n",
    "    \"NUM_LOGS_PER_EPOCH\": 10,\n",
    "    \"BEST_MODEL_PATH\": \"./best_model.pth\",\n",
    "    \"n_way\": 16,\n",
    "    \"datasets\": [\n",
    "        {\n",
    "            \"labels\": [\n",
    "                \"3123D52\",\n",
    "                \"3123D65\",\n",
    "                \"3123D79\",\n",
    "                \"3123D80\",\n",
    "                \"3123D54\",\n",
    "                \"3123D70\",\n",
    "                \"3123D7B\",\n",
    "                \"3123D89\",\n",
    "                \"3123D58\",\n",
    "                \"3123D76\",\n",
    "                \"3123D7D\",\n",
    "                \"3123EFE\",\n",
    "                \"3123D64\",\n",
    "                \"3123D78\",\n",
    "                \"3123D7E\",\n",
    "                \"3124E4A\",\n",
    "            ],\n",
    "            \"domains\": [32, 38, 8, 44, 14, 50, 20, 26],\n",
    "            \"num_examples_per_domain_per_label\": 10000,\n",
    "            \"pickle_path\": \"/mnt/wd500GB/CSC500/csc500-main/datasets/oracle.Run1_10kExamples_stratified_ds.2022A.pkl\",\n",
    "            \"source_or_target_dataset\": \"target\",\n",
    "            \"x_transforms\": [\"unit_power\"],\n",
    "            \"episode_transforms\": [],\n",
    "            \"domain_prefix\": \"ORACLE.run1_\",\n",
    "        },\n",
    "        {\n",
    "            \"labels\": [\n",
    "                \"3123D52\",\n",
    "                \"3123D65\",\n",
    "                \"3123D79\",\n",
    "                \"3123D80\",\n",
    "                \"3123D54\",\n",
    "                \"3123D70\",\n",
    "                \"3123D7B\",\n",
    "                \"3123D89\",\n",
    "                \"3123D58\",\n",
    "                \"3123D76\",\n",
    "                \"3123D7D\",\n",
    "                \"3123EFE\",\n",
    "                \"3123D64\",\n",
    "                \"3123D78\",\n",
    "                \"3123D7E\",\n",
    "                \"3124E4A\",\n",
    "            ],\n",
    "            \"domains\": [32, 38, 8, 44, 14, 50, 20, 26],\n",
    "            \"num_examples_per_domain_per_label\": 10000,\n",
    "            \"pickle_path\": \"/mnt/wd500GB/CSC500/csc500-main/datasets/oracle.Run2_10kExamples_stratified_ds.2022A.pkl\",\n",
    "            \"source_or_target_dataset\": \"source\",\n",
    "            \"x_transforms\": [\"unit_power\"],\n",
    "            \"episode_transforms\": [],\n",
    "            \"domain_prefix\": \"ORACLE.run2_\",\n",
    "        },\n",
    "    ],\n",
    "}\n"
   ]
  },
  {
   "cell_type": "code",
   "execution_count": 5,
   "id": "8fa1cc33",
   "metadata": {
    "execution": {
     "iopub.execute_input": "2022-03-10T14:03:56.906056Z",
     "iopub.status.busy": "2022-03-10T14:03:56.905800Z",
     "iopub.status.idle": "2022-03-10T14:03:56.920829Z",
     "shell.execute_reply": "2022-03-10T14:03:56.921198Z"
    },
    "papermill": {
     "duration": 0.031719,
     "end_time": "2022-03-10T14:03:56.921299",
     "exception": false,
     "start_time": "2022-03-10T14:03:56.889580",
     "status": "completed"
    },
    "tags": []
   },
   "outputs": [],
   "source": [
    "# Set this to True if you want to run this template directly\n",
    "STANDALONE = False\n",
    "if STANDALONE:\n",
    "    print(\"parameters not injected, running with standalone_parameters\")\n",
    "    parameters = standalone_parameters\n",
    "\n",
    "if not 'parameters' in locals() and not 'parameters' in globals():\n",
    "    raise Exception(\"Parameter injection failed\")\n",
    "\n",
    "#Use an easy dict for all the parameters\n",
    "p = EasyDict(parameters)\n",
    "\n",
    "supplied_keys = set(p.keys())\n",
    "\n",
    "if  supplied_keys != required_parameters:\n",
    "    print(\"Parameters are incorrect\")\n",
    "    if len(supplied_keys - required_parameters)>0: print(\"Shouldn't have:\", str(supplied_keys - required_parameters))\n",
    "    if len(required_parameters - supplied_keys)>0: print(\"Need to have:\", str(required_parameters - supplied_keys))\n",
    "    raise RuntimeError(\"Parameters are incorrect\")\n",
    "\n"
   ]
  },
  {
   "cell_type": "code",
   "execution_count": 6,
   "id": "3a028d58",
   "metadata": {
    "execution": {
     "iopub.execute_input": "2022-03-10T14:03:56.953404Z",
     "iopub.status.busy": "2022-03-10T14:03:56.953159Z",
     "iopub.status.idle": "2022-03-10T14:03:56.967846Z",
     "shell.execute_reply": "2022-03-10T14:03:56.967602Z"
    },
    "papermill": {
     "duration": 0.029251,
     "end_time": "2022-03-10T14:03:56.967893",
     "exception": false,
     "start_time": "2022-03-10T14:03:56.938642",
     "status": "completed"
    },
    "tags": []
   },
   "outputs": [],
   "source": [
    "###################################\n",
    "# Set the RNGs and make it all deterministic\n",
    "###################################\n",
    "np.random.seed(p.seed)\n",
    "random.seed(p.seed)\n",
    "torch.manual_seed(p.seed)\n",
    "\n",
    "torch.use_deterministic_algorithms(True) "
   ]
  },
  {
   "cell_type": "code",
   "execution_count": 7,
   "id": "b691acf6",
   "metadata": {
    "execution": {
     "iopub.execute_input": "2022-03-10T14:03:57.000514Z",
     "iopub.status.busy": "2022-03-10T14:03:57.000271Z",
     "iopub.status.idle": "2022-03-10T14:03:57.015162Z",
     "shell.execute_reply": "2022-03-10T14:03:57.015530Z"
    },
    "papermill": {
     "duration": 0.029775,
     "end_time": "2022-03-10T14:03:57.015630",
     "exception": false,
     "start_time": "2022-03-10T14:03:56.985855",
     "status": "completed"
    },
    "tags": []
   },
   "outputs": [],
   "source": [
    "###########################################\n",
    "# The stratified datasets honor this\n",
    "###########################################\n",
    "torch.set_default_dtype(eval(p.torch_default_dtype))"
   ]
  },
  {
   "cell_type": "code",
   "execution_count": 8,
   "id": "b5fba671",
   "metadata": {
    "execution": {
     "iopub.execute_input": "2022-03-10T14:03:57.045073Z",
     "iopub.status.busy": "2022-03-10T14:03:57.044830Z",
     "iopub.status.idle": "2022-03-10T14:03:57.084830Z",
     "shell.execute_reply": "2022-03-10T14:03:57.084530Z"
    },
    "papermill": {
     "duration": 0.055253,
     "end_time": "2022-03-10T14:03:57.084898",
     "exception": false,
     "start_time": "2022-03-10T14:03:57.029645",
     "status": "completed"
    },
    "tags": []
   },
   "outputs": [],
   "source": [
    "###################################\n",
    "# Build the network(s)\n",
    "# Note: It's critical to do this AFTER setting the RNG\n",
    "###################################\n",
    "x_net = build_sequential(p.x_net)"
   ]
  },
  {
   "cell_type": "code",
   "execution_count": 9,
   "id": "5d7e61cc",
   "metadata": {
    "execution": {
     "iopub.execute_input": "2022-03-10T14:03:57.115575Z",
     "iopub.status.busy": "2022-03-10T14:03:57.115327Z",
     "iopub.status.idle": "2022-03-10T14:03:57.126200Z",
     "shell.execute_reply": "2022-03-10T14:03:57.125989Z"
    },
    "papermill": {
     "duration": 0.0254,
     "end_time": "2022-03-10T14:03:57.126247",
     "exception": false,
     "start_time": "2022-03-10T14:03:57.100847",
     "status": "completed"
    },
    "tags": []
   },
   "outputs": [],
   "source": [
    "start_time_secs = time.time()"
   ]
  },
  {
   "cell_type": "code",
   "execution_count": 10,
   "id": "c6b67dfd",
   "metadata": {
    "execution": {
     "iopub.execute_input": "2022-03-10T14:03:57.158191Z",
     "iopub.status.busy": "2022-03-10T14:03:57.157947Z",
     "iopub.status.idle": "2022-03-10T14:03:57.171313Z",
     "shell.execute_reply": "2022-03-10T14:03:57.171659Z"
    },
    "papermill": {
     "duration": 0.029124,
     "end_time": "2022-03-10T14:03:57.171761",
     "exception": false,
     "start_time": "2022-03-10T14:03:57.142637",
     "status": "completed"
    },
    "tags": []
   },
   "outputs": [],
   "source": [
    "p.domains_source = []\n",
    "p.domains_target = []\n",
    "\n",
    "\n",
    "train_original_source = []\n",
    "val_original_source   = []\n",
    "test_original_source  = []\n",
    "\n",
    "train_original_target = []\n",
    "val_original_target   = []\n",
    "test_original_target  = []"
   ]
  },
  {
   "cell_type": "code",
   "execution_count": 11,
   "id": "e3d9c3d3",
   "metadata": {
    "execution": {
     "iopub.execute_input": "2022-03-10T14:03:57.203371Z",
     "iopub.status.busy": "2022-03-10T14:03:57.202883Z",
     "iopub.status.idle": "2022-03-10T14:03:57.214209Z",
     "shell.execute_reply": "2022-03-10T14:03:57.214502Z"
    },
    "papermill": {
     "duration": 0.026463,
     "end_time": "2022-03-10T14:03:57.214581",
     "exception": false,
     "start_time": "2022-03-10T14:03:57.188118",
     "status": "completed"
    },
    "tags": []
   },
   "outputs": [],
   "source": [
    "# global_x_transform_func = lambda x: normalize(x.to(torch.get_default_dtype()), \"unit_power\") # unit_power, unit_mag\n",
    "# global_x_transform_func = lambda x: normalize(x, \"unit_power\") # unit_power, unit_mag"
   ]
  },
  {
   "cell_type": "code",
   "execution_count": 12,
   "id": "acb78fd2",
   "metadata": {
    "execution": {
     "iopub.execute_input": "2022-03-10T14:03:57.250408Z",
     "iopub.status.busy": "2022-03-10T14:03:57.250153Z",
     "iopub.status.idle": "2022-03-10T14:03:57.260801Z",
     "shell.execute_reply": "2022-03-10T14:03:57.260357Z"
    },
    "papermill": {
     "duration": 0.027642,
     "end_time": "2022-03-10T14:03:57.260887",
     "exception": false,
     "start_time": "2022-03-10T14:03:57.233245",
     "status": "completed"
    },
    "tags": []
   },
   "outputs": [],
   "source": [
    "def add_dataset(\n",
    "    labels,\n",
    "    domains,\n",
    "    pickle_path,\n",
    "    x_transforms,\n",
    "    episode_transforms,\n",
    "    domain_prefix,\n",
    "    num_examples_per_domain_per_label,\n",
    "    source_or_target_dataset:str,\n",
    "    iterator_seed=p.seed,\n",
    "    dataset_seed=p.dataset_seed,\n",
    "    n_shot=p.n_shot,\n",
    "    n_way=p.n_way,\n",
    "    n_query=p.n_query,\n",
    "    train_val_test_k_factors=(p.train_k_factor,p.val_k_factor,p.test_k_factor),\n",
    "):\n",
    "   \n",
    "    if x_transforms == []: x_transform = None\n",
    "    else: x_transform = get_chained_transform(x_transforms)\n",
    "    \n",
    "    if episode_transforms == []: episode_transform = None\n",
    "    else: raise Exception(\"episode_transforms not implemented\")\n",
    "    \n",
    "    episode_transform = lambda tup, _prefix=domain_prefix: (_prefix + str(tup[0]), tup[1])\n",
    "\n",
    "\n",
    "    eaf = Episodic_Accessor_Factory(\n",
    "        labels=labels,\n",
    "        domains=domains,\n",
    "        num_examples_per_domain_per_label=num_examples_per_domain_per_label,\n",
    "        iterator_seed=iterator_seed,\n",
    "        dataset_seed=dataset_seed,\n",
    "        n_shot=n_shot,\n",
    "        n_way=n_way,\n",
    "        n_query=n_query,\n",
    "        train_val_test_k_factors=train_val_test_k_factors,\n",
    "        pickle_path=pickle_path,\n",
    "        x_transform_func=x_transform,\n",
    "    )\n",
    "\n",
    "    train, val, test = eaf.get_train(), eaf.get_val(), eaf.get_test()\n",
    "    train = Lazy_Iterable_Wrapper(train, episode_transform)\n",
    "    val = Lazy_Iterable_Wrapper(val, episode_transform)\n",
    "    test = Lazy_Iterable_Wrapper(test, episode_transform)\n",
    "\n",
    "    if source_or_target_dataset==\"source\":\n",
    "        train_original_source.append(train)\n",
    "        val_original_source.append(val)\n",
    "        test_original_source.append(test)\n",
    "\n",
    "        p.domains_source.extend(\n",
    "            [domain_prefix + str(u) for u in domains]\n",
    "        )\n",
    "    elif source_or_target_dataset==\"target\":\n",
    "        train_original_target.append(train)\n",
    "        val_original_target.append(val)\n",
    "        test_original_target.append(test)\n",
    "        p.domains_target.extend(\n",
    "            [domain_prefix + str(u) for u in domains]\n",
    "        )\n",
    "    else:\n",
    "        raise Exception(f\"invalid source_or_target_dataset: {source_or_target_dataset}\")\n",
    "    "
   ]
  },
  {
   "cell_type": "code",
   "execution_count": 13,
   "id": "fe266617",
   "metadata": {
    "execution": {
     "iopub.execute_input": "2022-03-10T14:03:57.292953Z",
     "iopub.status.busy": "2022-03-10T14:03:57.292711Z",
     "iopub.status.idle": "2022-03-10T14:06:38.284343Z",
     "shell.execute_reply": "2022-03-10T14:06:38.283894Z"
    },
    "papermill": {
     "duration": 161.005858,
     "end_time": "2022-03-10T14:06:38.284443",
     "exception": false,
     "start_time": "2022-03-10T14:03:57.278585",
     "status": "completed"
    },
    "tags": []
   },
   "outputs": [],
   "source": [
    "for ds in p.datasets:\n",
    "    add_dataset(**ds)"
   ]
  },
  {
   "cell_type": "code",
   "execution_count": 14,
   "id": "b90d65ac",
   "metadata": {
    "execution": {
     "iopub.execute_input": "2022-03-10T14:06:38.316196Z",
     "iopub.status.busy": "2022-03-10T14:06:38.315948Z",
     "iopub.status.idle": "2022-03-10T14:06:38.332705Z",
     "shell.execute_reply": "2022-03-10T14:06:38.332258Z"
    },
    "papermill": {
     "duration": 0.031954,
     "end_time": "2022-03-10T14:06:38.332794",
     "exception": false,
     "start_time": "2022-03-10T14:06:38.300840",
     "status": "completed"
    },
    "tags": []
   },
   "outputs": [],
   "source": [
    "# from steves_utils.CORES.utils import (\n",
    "#     ALL_NODES,\n",
    "#     ALL_NODES_MINIMUM_1000_EXAMPLES,\n",
    "#     ALL_DAYS\n",
    "# )\n",
    "\n",
    "# add_dataset(\n",
    "#     labels=ALL_NODES,\n",
    "#     domains = ALL_DAYS,\n",
    "#     num_examples_per_domain_per_label=100,\n",
    "#     pickle_path=os.path.join(get_datasets_base_path(), \"cores.stratified_ds.2022A.pkl\"),\n",
    "#     source_or_target_dataset=\"target\",\n",
    "#     x_transform_func=global_x_transform_func,\n",
    "#     domain_modifier=lambda u: f\"cores_{u}\"\n",
    "# )"
   ]
  },
  {
   "cell_type": "code",
   "execution_count": 15,
   "id": "76db484d",
   "metadata": {
    "execution": {
     "iopub.execute_input": "2022-03-10T14:06:38.366042Z",
     "iopub.status.busy": "2022-03-10T14:06:38.365698Z",
     "iopub.status.idle": "2022-03-10T14:06:38.380357Z",
     "shell.execute_reply": "2022-03-10T14:06:38.379912Z"
    },
    "papermill": {
     "duration": 0.029766,
     "end_time": "2022-03-10T14:06:38.380444",
     "exception": false,
     "start_time": "2022-03-10T14:06:38.350678",
     "status": "completed"
    },
    "tags": []
   },
   "outputs": [],
   "source": [
    "# from steves_utils.ORACLE.utils_v2 import (\n",
    "#     ALL_DISTANCES_FEET,\n",
    "#     ALL_RUNS,\n",
    "#     ALL_SERIAL_NUMBERS,\n",
    "# )\n",
    "\n",
    "\n",
    "# add_dataset(\n",
    "#     labels=ALL_SERIAL_NUMBERS,\n",
    "#     domains = list(set(ALL_DISTANCES_FEET) - {2,62}),\n",
    "#     num_examples_per_domain_per_label=100,\n",
    "#     pickle_path=os.path.join(get_datasets_base_path(), \"oracle.Run2_framed_2000Examples_stratified_ds.2022A.pkl\"),\n",
    "#     source_or_target_dataset=\"source\",\n",
    "#     x_transform_func=global_x_transform_func,\n",
    "#     domain_modifier=lambda u: f\"oracle1_{u}\"\n",
    "# )\n"
   ]
  },
  {
   "cell_type": "code",
   "execution_count": 16,
   "id": "97dea9d2",
   "metadata": {
    "execution": {
     "iopub.execute_input": "2022-03-10T14:06:38.413832Z",
     "iopub.status.busy": "2022-03-10T14:06:38.413386Z",
     "iopub.status.idle": "2022-03-10T14:06:38.428280Z",
     "shell.execute_reply": "2022-03-10T14:06:38.427933Z"
    },
    "papermill": {
     "duration": 0.029791,
     "end_time": "2022-03-10T14:06:38.428349",
     "exception": false,
     "start_time": "2022-03-10T14:06:38.398558",
     "status": "completed"
    },
    "tags": []
   },
   "outputs": [],
   "source": [
    "# from steves_utils.ORACLE.utils_v2 import (\n",
    "#     ALL_DISTANCES_FEET,\n",
    "#     ALL_RUNS,\n",
    "#     ALL_SERIAL_NUMBERS,\n",
    "# )\n",
    "\n",
    "\n",
    "# add_dataset(\n",
    "#     labels=ALL_SERIAL_NUMBERS,\n",
    "#     domains = list(set(ALL_DISTANCES_FEET) - {2,62,56}),\n",
    "#     num_examples_per_domain_per_label=100,\n",
    "#     pickle_path=os.path.join(get_datasets_base_path(), \"oracle.Run2_framed_2000Examples_stratified_ds.2022A.pkl\"),\n",
    "#     source_or_target_dataset=\"source\",\n",
    "#     x_transform_func=global_x_transform_func,\n",
    "#     domain_modifier=lambda u: f\"oracle2_{u}\"\n",
    "# )"
   ]
  },
  {
   "cell_type": "code",
   "execution_count": 17,
   "id": "6f289866",
   "metadata": {
    "execution": {
     "iopub.execute_input": "2022-03-10T14:06:38.460362Z",
     "iopub.status.busy": "2022-03-10T14:06:38.459413Z",
     "iopub.status.idle": "2022-03-10T14:06:38.471931Z",
     "shell.execute_reply": "2022-03-10T14:06:38.471602Z"
    },
    "papermill": {
     "duration": 0.027038,
     "end_time": "2022-03-10T14:06:38.472019",
     "exception": false,
     "start_time": "2022-03-10T14:06:38.444981",
     "status": "completed"
    },
    "tags": []
   },
   "outputs": [],
   "source": [
    "# add_dataset(\n",
    "#     labels=list(range(19)),\n",
    "#     domains = [0,1,2],\n",
    "#     num_examples_per_domain_per_label=100,\n",
    "#     pickle_path=os.path.join(get_datasets_base_path(), \"metehan.stratified_ds.2022A.pkl\"),\n",
    "#     source_or_target_dataset=\"target\",\n",
    "#     x_transform_func=global_x_transform_func,\n",
    "#     domain_modifier=lambda u: f\"met_{u}\"\n",
    "# )"
   ]
  },
  {
   "cell_type": "code",
   "execution_count": 18,
   "id": "86a863c3",
   "metadata": {
    "execution": {
     "iopub.execute_input": "2022-03-10T14:06:38.506070Z",
     "iopub.status.busy": "2022-03-10T14:06:38.505826Z",
     "iopub.status.idle": "2022-03-10T14:06:38.520508Z",
     "shell.execute_reply": "2022-03-10T14:06:38.520067Z"
    },
    "papermill": {
     "duration": 0.030104,
     "end_time": "2022-03-10T14:06:38.520596",
     "exception": false,
     "start_time": "2022-03-10T14:06:38.490492",
     "status": "completed"
    },
    "tags": []
   },
   "outputs": [],
   "source": [
    "# # from steves_utils.wisig.utils import (\n",
    "# #     ALL_NODES_MINIMUM_100_EXAMPLES,\n",
    "# #     ALL_NODES_MINIMUM_500_EXAMPLES,\n",
    "# #     ALL_NODES_MINIMUM_1000_EXAMPLES,\n",
    "# #     ALL_DAYS\n",
    "# # )\n",
    "\n",
    "# import steves_utils.wisig.utils as wisig\n",
    "\n",
    "\n",
    "# add_dataset(\n",
    "#     labels=wisig.ALL_NODES_MINIMUM_100_EXAMPLES,\n",
    "#     domains = wisig.ALL_DAYS,\n",
    "#     num_examples_per_domain_per_label=100,\n",
    "#     pickle_path=os.path.join(get_datasets_base_path(), \"wisig.node3-19.stratified_ds.2022A.pkl\"),\n",
    "#     source_or_target_dataset=\"target\",\n",
    "#     x_transform_func=global_x_transform_func,\n",
    "#     domain_modifier=lambda u: f\"wisig_{u}\"\n",
    "# )"
   ]
  },
  {
   "cell_type": "code",
   "execution_count": 19,
   "id": "fd5442bc",
   "metadata": {
    "execution": {
     "iopub.execute_input": "2022-03-10T14:06:38.556442Z",
     "iopub.status.busy": "2022-03-10T14:06:38.556190Z",
     "iopub.status.idle": "2022-03-10T14:06:38.567014Z",
     "shell.execute_reply": "2022-03-10T14:06:38.566571Z"
    },
    "papermill": {
     "duration": 0.028012,
     "end_time": "2022-03-10T14:06:38.567101",
     "exception": false,
     "start_time": "2022-03-10T14:06:38.539089",
     "status": "completed"
    },
    "tags": []
   },
   "outputs": [],
   "source": [
    "###################################\n",
    "# Build the dataset\n",
    "###################################\n",
    "train_original_source = Iterable_Aggregator(train_original_source, p.seed)\n",
    "val_original_source = Iterable_Aggregator(val_original_source, p.seed)\n",
    "test_original_source = Iterable_Aggregator(test_original_source, p.seed)\n",
    "\n",
    "\n",
    "train_original_target = Iterable_Aggregator(train_original_target, p.seed)\n",
    "val_original_target = Iterable_Aggregator(val_original_target, p.seed)\n",
    "test_original_target = Iterable_Aggregator(test_original_target, p.seed)\n",
    "\n",
    "# For CNN We only use X and Y. And we only train on the source.\n",
    "# Properly form the data using a transform lambda and Lazy_Iterable_Wrapper. Finally wrap them in a dataloader\n",
    "\n",
    "transform_lambda = lambda ex: ex[1] # Original is (<domain>, <episode>) so we strip down to episode only\n",
    "\n",
    "train_processed_source = Lazy_Iterable_Wrapper(train_original_source, transform_lambda)\n",
    "val_processed_source   = Lazy_Iterable_Wrapper(val_original_source, transform_lambda)\n",
    "test_processed_source  = Lazy_Iterable_Wrapper(test_original_source, transform_lambda)\n",
    "\n",
    "train_processed_target = Lazy_Iterable_Wrapper(train_original_target, transform_lambda)\n",
    "val_processed_target   = Lazy_Iterable_Wrapper(val_original_target, transform_lambda)\n",
    "test_processed_target  = Lazy_Iterable_Wrapper(test_original_target, transform_lambda)\n",
    "\n",
    "datasets = EasyDict({\n",
    "    \"source\": {\n",
    "        \"original\": {\"train\":train_original_source, \"val\":val_original_source, \"test\":test_original_source},\n",
    "        \"processed\": {\"train\":train_processed_source, \"val\":val_processed_source, \"test\":test_processed_source}\n",
    "    },\n",
    "    \"target\": {\n",
    "        \"original\": {\"train\":train_original_target, \"val\":val_original_target, \"test\":test_original_target},\n",
    "        \"processed\": {\"train\":train_processed_target, \"val\":val_processed_target, \"test\":test_processed_target}\n",
    "    },\n",
    "})"
   ]
  },
  {
   "cell_type": "code",
   "execution_count": 20,
   "id": "5b3c01fc",
   "metadata": {
    "execution": {
     "iopub.execute_input": "2022-03-10T14:06:38.597945Z",
     "iopub.status.busy": "2022-03-10T14:06:38.597701Z",
     "iopub.status.idle": "2022-03-10T14:07:03.424097Z",
     "shell.execute_reply": "2022-03-10T14:07:03.424323Z"
    },
    "papermill": {
     "duration": 24.84185,
     "end_time": "2022-03-10T14:07:03.424402",
     "exception": false,
     "start_time": "2022-03-10T14:06:38.582552",
     "status": "completed"
    },
    "tags": []
   },
   "outputs": [
    {
     "name": "stdout",
     "output_type": "stream",
     "text": [
      "{'ORACLE.run2_38', 'ORACLE.run2_8', 'ORACLE.run2_32', 'ORACLE.run2_14', 'ORACLE.run2_26', 'ORACLE.run2_50', 'ORACLE.run2_20', 'ORACLE.run2_44'}\n"
     ]
    },
    {
     "name": "stdout",
     "output_type": "stream",
     "text": [
      "{'ORACLE.run1_20', 'ORACLE.run1_32', 'ORACLE.run1_14', 'ORACLE.run1_38', 'ORACLE.run1_44', 'ORACLE.run1_26', 'ORACLE.run1_8', 'ORACLE.run1_50'}\n"
     ]
    },
    {
     "name": "stdout",
     "output_type": "stream",
     "text": [
      "tensor([[[-0.5406,  0.2613,  0.4415,  ..., -1.2615, -1.8472, -0.5496],\n",
      "         [-0.4235,  0.0901, -0.4235,  ..., -0.2883,  0.1802,  0.7569]],\n",
      "\n",
      "        [[ 0.7988, -0.2161,  0.6203,  ..., -0.5921,  0.9586,  0.0188],\n",
      "         [-1.2499, -0.5733, -0.1786,  ..., -0.6766, -0.0752,  0.2161]],\n",
      "\n",
      "        [[ 0.1743, -0.4404,  0.6331,  ...,  0.0917,  0.1193, -0.7248],\n",
      "         [ 1.1652, -0.3578,  0.6606,  ...,  0.5872, -0.0917,  0.3486]],\n",
      "\n",
      "        ...,\n",
      "\n",
      "        [[-0.3499, -0.4873, -0.8872,  ..., -0.3186, -0.1937,  1.0559],\n",
      "         [-0.1375, -0.9247,  0.4249,  ..., -0.3311, -0.9497, -0.1187]],\n",
      "\n",
      "        [[-0.4288,  0.3720,  0.6936,  ...,  0.8891, -0.1829, -1.4756],\n",
      "         [-0.0946,  0.4666, -0.3027,  ...,  0.0315,  0.3027, -0.6180]],\n",
      "\n",
      "        [[-0.9615, -0.0126, -0.8107,  ..., -0.5656, -0.4399, -1.1124],\n",
      "         [-0.9678, -0.3394, -1.0558,  ...,  0.0503,  0.4462,  0.0126]]])\n"
     ]
    }
   ],
   "source": [
    "from steves_utils.transforms import get_average_magnitude, get_average_power\n",
    "\n",
    "print(set([u for u,_ in val_original_source]))\n",
    "print(set([u for u,_ in val_original_target]))\n",
    "\n",
    "s_x, s_y, q_x, q_y, _ = next(iter(train_processed_source))\n",
    "print(s_x)\n",
    "\n",
    "# for ds in [\n",
    "#     train_processed_source,\n",
    "#     val_processed_source,\n",
    "#     test_processed_source,\n",
    "#     train_processed_target,\n",
    "#     val_processed_target,\n",
    "#     test_processed_target\n",
    "# ]:\n",
    "#     for s_x, s_y, q_x, q_y, _ in ds:\n",
    "#         for X in (s_x, q_x):\n",
    "#             for x in X:\n",
    "#                 assert np.isclose(get_average_magnitude(x.numpy()), 1.0)\n",
    "#                 assert np.isclose(get_average_power(x.numpy()), 1.0)\n",
    "                "
   ]
  },
  {
   "cell_type": "code",
   "execution_count": 21,
   "id": "bbdacba1",
   "metadata": {
    "execution": {
     "iopub.execute_input": "2022-03-10T14:07:03.459302Z",
     "iopub.status.busy": "2022-03-10T14:07:03.458610Z",
     "iopub.status.idle": "2022-03-10T14:07:03.520192Z",
     "shell.execute_reply": "2022-03-10T14:07:03.519758Z"
    },
    "papermill": {
     "duration": 0.081471,
     "end_time": "2022-03-10T14:07:03.520295",
     "exception": false,
     "start_time": "2022-03-10T14:07:03.438824",
     "status": "completed"
    },
    "tags": []
   },
   "outputs": [
    {
     "name": "stdout",
     "output_type": "stream",
     "text": [
      "(2, 256)\n"
     ]
    }
   ],
   "source": [
    "###################################\n",
    "# Build the model\n",
    "###################################\n",
    "model = Steves_Prototypical_Network(x_net, device=p.device, x_shape=(2,256))\n",
    "optimizer = Adam(params=model.parameters(), lr=p.lr)"
   ]
  },
  {
   "cell_type": "code",
   "execution_count": 22,
   "id": "22b39ac5",
   "metadata": {
    "execution": {
     "iopub.execute_input": "2022-03-10T14:07:03.563084Z",
     "iopub.status.busy": "2022-03-10T14:07:03.555667Z",
     "iopub.status.idle": "2022-03-10T16:09:25.234976Z",
     "shell.execute_reply": "2022-03-10T16:09:25.234735Z"
    },
    "papermill": {
     "duration": 7341.696145,
     "end_time": "2022-03-10T16:09:25.235036",
     "exception": false,
     "start_time": "2022-03-10T14:07:03.538891",
     "status": "completed"
    },
    "tags": []
   },
   "outputs": [
    {
     "name": "stdout",
     "output_type": "stream",
     "text": [
      "epoch: 1, [batch: 1 / 33600], examples_per_second: 9.8461, train_label_loss: 2.7996, \n"
     ]
    },
    {
     "name": "stdout",
     "output_type": "stream",
     "text": [
      "epoch: 1, [batch: 3360 / 33600], examples_per_second: 3190.0486, train_label_loss: 0.7595, \n"
     ]
    },
    {
     "name": "stdout",
     "output_type": "stream",
     "text": [
      "epoch: 1, [batch: 6720 / 33600], examples_per_second: 3198.0804, train_label_loss: 2.0133, \n"
     ]
    },
    {
     "name": "stdout",
     "output_type": "stream",
     "text": [
      "epoch: 1, [batch: 10080 / 33600], examples_per_second: 3197.6874, train_label_loss: 0.7747, \n"
     ]
    },
    {
     "name": "stdout",
     "output_type": "stream",
     "text": [
      "epoch: 1, [batch: 13440 / 33600], examples_per_second: 3181.8258, train_label_loss: 0.8646, \n"
     ]
    },
    {
     "name": "stdout",
     "output_type": "stream",
     "text": [
      "epoch: 1, [batch: 16800 / 33600], examples_per_second: 3202.1663, train_label_loss: 1.0144, \n"
     ]
    },
    {
     "name": "stdout",
     "output_type": "stream",
     "text": [
      "epoch: 1, [batch: 20160 / 33600], examples_per_second: 3195.6727, train_label_loss: 0.5872, \n"
     ]
    },
    {
     "name": "stdout",
     "output_type": "stream",
     "text": [
      "epoch: 1, [batch: 23520 / 33600], examples_per_second: 3177.0683, train_label_loss: 0.6836, \n"
     ]
    },
    {
     "name": "stdout",
     "output_type": "stream",
     "text": [
      "epoch: 1, [batch: 26880 / 33600], examples_per_second: 3199.4644, train_label_loss: 0.6229, \n"
     ]
    },
    {
     "name": "stdout",
     "output_type": "stream",
     "text": [
      "epoch: 1, [batch: 30240 / 33600], examples_per_second: 3203.2663, train_label_loss: 1.3273, \n"
     ]
    },
    {
     "name": "stdout",
     "output_type": "stream",
     "text": [
      "=============================================================\n",
      "epoch: 1, source_val_acc_label: 0.6414, target_val_acc_label: 0.6521, source_val_label_loss: 0.9786, target_val_label_loss: 0.9438, \n",
      "=============================================================\n"
     ]
    },
    {
     "name": "stdout",
     "output_type": "stream",
     "text": [
      "New best\n"
     ]
    },
    {
     "name": "stdout",
     "output_type": "stream",
     "text": [
      "epoch: 2, [batch: 1 / 33600], examples_per_second: 0.9624, train_label_loss: 0.9119, \n"
     ]
    },
    {
     "name": "stdout",
     "output_type": "stream",
     "text": [
      "epoch: 2, [batch: 3360 / 33600], examples_per_second: 3212.3231, train_label_loss: 0.5384, \n"
     ]
    },
    {
     "name": "stdout",
     "output_type": "stream",
     "text": [
      "epoch: 2, [batch: 6720 / 33600], examples_per_second: 3233.9704, train_label_loss: 1.5352, \n"
     ]
    },
    {
     "name": "stdout",
     "output_type": "stream",
     "text": [
      "epoch: 2, [batch: 10080 / 33600], examples_per_second: 3226.1689, train_label_loss: 1.0999, \n"
     ]
    },
    {
     "name": "stdout",
     "output_type": "stream",
     "text": [
      "epoch: 2, [batch: 13440 / 33600], examples_per_second: 3209.9591, train_label_loss: 0.6519, \n"
     ]
    },
    {
     "name": "stdout",
     "output_type": "stream",
     "text": [
      "epoch: 2, [batch: 16800 / 33600], examples_per_second: 3215.7133, train_label_loss: 1.2110, \n"
     ]
    },
    {
     "name": "stdout",
     "output_type": "stream",
     "text": [
      "epoch: 2, [batch: 20160 / 33600], examples_per_second: 3224.5429, train_label_loss: 1.2350, \n"
     ]
    },
    {
     "name": "stdout",
     "output_type": "stream",
     "text": [
      "epoch: 2, [batch: 23520 / 33600], examples_per_second: 3206.3361, train_label_loss: 0.3810, \n"
     ]
    },
    {
     "name": "stdout",
     "output_type": "stream",
     "text": [
      "epoch: 2, [batch: 26880 / 33600], examples_per_second: 3214.4875, train_label_loss: 1.1605, \n"
     ]
    },
    {
     "name": "stdout",
     "output_type": "stream",
     "text": [
      "epoch: 2, [batch: 30240 / 33600], examples_per_second: 3227.1454, train_label_loss: 0.9908, \n"
     ]
    },
    {
     "name": "stdout",
     "output_type": "stream",
     "text": [
      "=============================================================\n",
      "epoch: 2, source_val_acc_label: 0.6944, target_val_acc_label: 0.7037, source_val_label_loss: 0.8379, target_val_label_loss: 0.8006, \n",
      "=============================================================\n"
     ]
    },
    {
     "name": "stdout",
     "output_type": "stream",
     "text": [
      "New best\n"
     ]
    },
    {
     "name": "stdout",
     "output_type": "stream",
     "text": [
      "epoch: 3, [batch: 1 / 33600], examples_per_second: 0.9674, train_label_loss: 0.3637, \n"
     ]
    },
    {
     "name": "stdout",
     "output_type": "stream",
     "text": [
      "epoch: 3, [batch: 3360 / 33600], examples_per_second: 3216.3625, train_label_loss: 0.7984, \n"
     ]
    },
    {
     "name": "stdout",
     "output_type": "stream",
     "text": [
      "epoch: 3, [batch: 6720 / 33600], examples_per_second: 3225.4111, train_label_loss: 1.0936, \n"
     ]
    },
    {
     "name": "stdout",
     "output_type": "stream",
     "text": [
      "epoch: 3, [batch: 10080 / 33600], examples_per_second: 3220.0947, train_label_loss: 0.8366, \n"
     ]
    },
    {
     "name": "stdout",
     "output_type": "stream",
     "text": [
      "epoch: 3, [batch: 13440 / 33600], examples_per_second: 3214.5306, train_label_loss: 0.4122, \n"
     ]
    },
    {
     "name": "stdout",
     "output_type": "stream",
     "text": [
      "epoch: 3, [batch: 16800 / 33600], examples_per_second: 3226.6082, train_label_loss: 0.9635, \n"
     ]
    },
    {
     "name": "stdout",
     "output_type": "stream",
     "text": [
      "epoch: 3, [batch: 20160 / 33600], examples_per_second: 3225.0816, train_label_loss: 1.0640, \n"
     ]
    },
    {
     "name": "stdout",
     "output_type": "stream",
     "text": [
      "epoch: 3, [batch: 23520 / 33600], examples_per_second: 3216.9195, train_label_loss: 0.7805, \n"
     ]
    },
    {
     "name": "stdout",
     "output_type": "stream",
     "text": [
      "epoch: 3, [batch: 26880 / 33600], examples_per_second: 3219.8739, train_label_loss: 0.8614, \n"
     ]
    },
    {
     "name": "stdout",
     "output_type": "stream",
     "text": [
      "epoch: 3, [batch: 30240 / 33600], examples_per_second: 3224.3985, train_label_loss: 0.4834, \n"
     ]
    },
    {
     "name": "stdout",
     "output_type": "stream",
     "text": [
      "=============================================================\n",
      "epoch: 3, source_val_acc_label: 0.7228, target_val_acc_label: 0.7260, source_val_label_loss: 0.7637, target_val_label_loss: 0.7411, \n",
      "=============================================================\n"
     ]
    },
    {
     "name": "stdout",
     "output_type": "stream",
     "text": [
      "New best\n"
     ]
    },
    {
     "name": "stdout",
     "output_type": "stream",
     "text": [
      "epoch: 4, [batch: 1 / 33600], examples_per_second: 0.9665, train_label_loss: 0.6769, \n"
     ]
    },
    {
     "name": "stdout",
     "output_type": "stream",
     "text": [
      "epoch: 4, [batch: 3360 / 33600], examples_per_second: 3211.4552, train_label_loss: 0.6682, \n"
     ]
    },
    {
     "name": "stdout",
     "output_type": "stream",
     "text": [
      "epoch: 4, [batch: 6720 / 33600], examples_per_second: 3218.7975, train_label_loss: 1.1407, \n"
     ]
    },
    {
     "name": "stdout",
     "output_type": "stream",
     "text": [
      "epoch: 4, [batch: 10080 / 33600], examples_per_second: 3229.5345, train_label_loss: 0.7756, \n"
     ]
    },
    {
     "name": "stdout",
     "output_type": "stream",
     "text": [
      "epoch: 4, [batch: 13440 / 33600], examples_per_second: 3218.9313, train_label_loss: 0.5207, \n"
     ]
    },
    {
     "name": "stdout",
     "output_type": "stream",
     "text": [
      "epoch: 4, [batch: 16800 / 33600], examples_per_second: 3233.4744, train_label_loss: 0.6474, \n"
     ]
    },
    {
     "name": "stdout",
     "output_type": "stream",
     "text": [
      "epoch: 4, [batch: 20160 / 33600], examples_per_second: 3231.9390, train_label_loss: 0.3564, \n"
     ]
    },
    {
     "name": "stdout",
     "output_type": "stream",
     "text": [
      "epoch: 4, [batch: 23520 / 33600], examples_per_second: 3216.3663, train_label_loss: 0.3624, \n"
     ]
    },
    {
     "name": "stdout",
     "output_type": "stream",
     "text": [
      "epoch: 4, [batch: 26880 / 33600], examples_per_second: 3226.4809, train_label_loss: 0.6690, \n"
     ]
    },
    {
     "name": "stdout",
     "output_type": "stream",
     "text": [
      "epoch: 4, [batch: 30240 / 33600], examples_per_second: 3227.6252, train_label_loss: 0.4749, \n"
     ]
    },
    {
     "name": "stdout",
     "output_type": "stream",
     "text": [
      "=============================================================\n",
      "epoch: 4, source_val_acc_label: 0.7354, target_val_acc_label: 0.7389, source_val_label_loss: 0.7423, target_val_label_loss: 0.7228, \n",
      "=============================================================\n"
     ]
    },
    {
     "name": "stdout",
     "output_type": "stream",
     "text": [
      "New best\n"
     ]
    },
    {
     "name": "stdout",
     "output_type": "stream",
     "text": [
      "epoch: 5, [batch: 1 / 33600], examples_per_second: 0.9619, train_label_loss: 1.0610, \n"
     ]
    },
    {
     "name": "stdout",
     "output_type": "stream",
     "text": [
      "epoch: 5, [batch: 3360 / 33600], examples_per_second: 3213.4124, train_label_loss: 1.1236, \n"
     ]
    },
    {
     "name": "stdout",
     "output_type": "stream",
     "text": [
      "epoch: 5, [batch: 6720 / 33600], examples_per_second: 3222.8619, train_label_loss: 0.3687, \n"
     ]
    },
    {
     "name": "stdout",
     "output_type": "stream",
     "text": [
      "epoch: 5, [batch: 10080 / 33600], examples_per_second: 3228.1020, train_label_loss: 0.7090, \n"
     ]
    },
    {
     "name": "stdout",
     "output_type": "stream",
     "text": [
      "epoch: 5, [batch: 13440 / 33600], examples_per_second: 3213.3736, train_label_loss: 0.8716, \n"
     ]
    },
    {
     "name": "stdout",
     "output_type": "stream",
     "text": [
      "epoch: 5, [batch: 16800 / 33600], examples_per_second: 3231.2133, train_label_loss: 0.4551, \n"
     ]
    },
    {
     "name": "stdout",
     "output_type": "stream",
     "text": [
      "epoch: 5, [batch: 20160 / 33600], examples_per_second: 3221.8504, train_label_loss: 0.6691, \n"
     ]
    },
    {
     "name": "stdout",
     "output_type": "stream",
     "text": [
      "epoch: 5, [batch: 23520 / 33600], examples_per_second: 3209.3805, train_label_loss: 0.5054, \n"
     ]
    },
    {
     "name": "stdout",
     "output_type": "stream",
     "text": [
      "epoch: 5, [batch: 26880 / 33600], examples_per_second: 3220.8589, train_label_loss: 0.4128, \n"
     ]
    },
    {
     "name": "stdout",
     "output_type": "stream",
     "text": [
      "epoch: 5, [batch: 30240 / 33600], examples_per_second: 3233.0314, train_label_loss: 0.7476, \n"
     ]
    },
    {
     "name": "stdout",
     "output_type": "stream",
     "text": [
      "=============================================================\n",
      "epoch: 5, source_val_acc_label: 0.7399, target_val_acc_label: 0.7401, source_val_label_loss: 0.7426, target_val_label_loss: 0.7350, \n",
      "=============================================================\n"
     ]
    },
    {
     "name": "stdout",
     "output_type": "stream",
     "text": [
      "epoch: 6, [batch: 1 / 33600], examples_per_second: 0.9658, train_label_loss: 0.1869, \n"
     ]
    },
    {
     "name": "stdout",
     "output_type": "stream",
     "text": [
      "epoch: 6, [batch: 3360 / 33600], examples_per_second: 3205.3470, train_label_loss: 0.9192, \n"
     ]
    },
    {
     "name": "stdout",
     "output_type": "stream",
     "text": [
      "epoch: 6, [batch: 6720 / 33600], examples_per_second: 3222.0969, train_label_loss: 0.2567, \n"
     ]
    },
    {
     "name": "stdout",
     "output_type": "stream",
     "text": [
      "epoch: 6, [batch: 10080 / 33600], examples_per_second: 3231.9463, train_label_loss: 0.2210, \n"
     ]
    },
    {
     "name": "stdout",
     "output_type": "stream",
     "text": [
      "epoch: 6, [batch: 13440 / 33600], examples_per_second: 3207.5499, train_label_loss: 0.5589, \n"
     ]
    },
    {
     "name": "stdout",
     "output_type": "stream",
     "text": [
      "epoch: 6, [batch: 16800 / 33600], examples_per_second: 3218.8917, train_label_loss: 0.4076, \n"
     ]
    },
    {
     "name": "stdout",
     "output_type": "stream",
     "text": [
      "epoch: 6, [batch: 20160 / 33600], examples_per_second: 3228.8624, train_label_loss: 0.6328, \n"
     ]
    },
    {
     "name": "stdout",
     "output_type": "stream",
     "text": [
      "epoch: 6, [batch: 23520 / 33600], examples_per_second: 3215.1545, train_label_loss: 0.4015, \n"
     ]
    },
    {
     "name": "stdout",
     "output_type": "stream",
     "text": [
      "epoch: 6, [batch: 26880 / 33600], examples_per_second: 3219.0938, train_label_loss: 0.3802, \n"
     ]
    },
    {
     "name": "stdout",
     "output_type": "stream",
     "text": [
      "epoch: 6, [batch: 30240 / 33600], examples_per_second: 3230.1892, train_label_loss: 0.3743, \n"
     ]
    },
    {
     "name": "stdout",
     "output_type": "stream",
     "text": [
      "=============================================================\n",
      "epoch: 6, source_val_acc_label: 0.7392, target_val_acc_label: 0.7389, source_val_label_loss: 0.7409, target_val_label_loss: 0.7366, \n",
      "=============================================================\n"
     ]
    },
    {
     "name": "stdout",
     "output_type": "stream",
     "text": [
      "epoch: 7, [batch: 1 / 33600], examples_per_second: 0.9643, train_label_loss: 0.1334, \n"
     ]
    },
    {
     "name": "stdout",
     "output_type": "stream",
     "text": [
      "epoch: 7, [batch: 3360 / 33600], examples_per_second: 3212.0418, train_label_loss: 0.5568, \n"
     ]
    },
    {
     "name": "stdout",
     "output_type": "stream",
     "text": [
      "epoch: 7, [batch: 6720 / 33600], examples_per_second: 3219.8471, train_label_loss: 0.4309, \n"
     ]
    },
    {
     "name": "stdout",
     "output_type": "stream",
     "text": [
      "epoch: 7, [batch: 10080 / 33600], examples_per_second: 3228.9767, train_label_loss: 1.1014, \n"
     ]
    },
    {
     "name": "stdout",
     "output_type": "stream",
     "text": [
      "epoch: 7, [batch: 13440 / 33600], examples_per_second: 3207.2308, train_label_loss: 0.2349, \n"
     ]
    },
    {
     "name": "stdout",
     "output_type": "stream",
     "text": [
      "epoch: 7, [batch: 16800 / 33600], examples_per_second: 3210.6537, train_label_loss: 0.6576, \n"
     ]
    },
    {
     "name": "stdout",
     "output_type": "stream",
     "text": [
      "epoch: 7, [batch: 20160 / 33600], examples_per_second: 3226.8575, train_label_loss: 0.5192, \n"
     ]
    },
    {
     "name": "stdout",
     "output_type": "stream",
     "text": [
      "epoch: 7, [batch: 23520 / 33600], examples_per_second: 3225.9508, train_label_loss: 0.3364, \n"
     ]
    },
    {
     "name": "stdout",
     "output_type": "stream",
     "text": [
      "epoch: 7, [batch: 26880 / 33600], examples_per_second: 3233.3946, train_label_loss: 0.2267, \n"
     ]
    },
    {
     "name": "stdout",
     "output_type": "stream",
     "text": [
      "epoch: 7, [batch: 30240 / 33600], examples_per_second: 3210.4139, train_label_loss: 0.4372, \n"
     ]
    },
    {
     "name": "stdout",
     "output_type": "stream",
     "text": [
      "=============================================================\n",
      "epoch: 7, source_val_acc_label: 0.7276, target_val_acc_label: 0.7274, source_val_label_loss: 0.7532, target_val_label_loss: 0.7464, \n",
      "=============================================================\n"
     ]
    },
    {
     "name": "stdout",
     "output_type": "stream",
     "text": [
      "epoch: 8, [batch: 1 / 33600], examples_per_second: 0.9649, train_label_loss: 0.4455, \n"
     ]
    },
    {
     "name": "stdout",
     "output_type": "stream",
     "text": [
      "epoch: 8, [batch: 3360 / 33600], examples_per_second: 3211.5313, train_label_loss: 0.3394, \n"
     ]
    },
    {
     "name": "stdout",
     "output_type": "stream",
     "text": [
      "epoch: 8, [batch: 6720 / 33600], examples_per_second: 3217.3324, train_label_loss: 0.6630, \n"
     ]
    },
    {
     "name": "stdout",
     "output_type": "stream",
     "text": [
      "epoch: 8, [batch: 10080 / 33600], examples_per_second: 3231.6619, train_label_loss: 0.4280, \n"
     ]
    },
    {
     "name": "stdout",
     "output_type": "stream",
     "text": [
      "epoch: 8, [batch: 13440 / 33600], examples_per_second: 3209.7378, train_label_loss: 0.4490, \n"
     ]
    },
    {
     "name": "stdout",
     "output_type": "stream",
     "text": [
      "epoch: 8, [batch: 16800 / 33600], examples_per_second: 3218.7995, train_label_loss: 0.1362, \n"
     ]
    },
    {
     "name": "stdout",
     "output_type": "stream",
     "text": [
      "epoch: 8, [batch: 20160 / 33600], examples_per_second: 3227.1083, train_label_loss: 0.1852, \n"
     ]
    },
    {
     "name": "stdout",
     "output_type": "stream",
     "text": [
      "epoch: 8, [batch: 23520 / 33600], examples_per_second: 3218.7185, train_label_loss: 0.5563, \n"
     ]
    },
    {
     "name": "stdout",
     "output_type": "stream",
     "text": [
      "epoch: 8, [batch: 26880 / 33600], examples_per_second: 3225.5992, train_label_loss: 0.5058, \n"
     ]
    },
    {
     "name": "stdout",
     "output_type": "stream",
     "text": [
      "epoch: 8, [batch: 30240 / 33600], examples_per_second: 3228.1017, train_label_loss: 0.2364, \n"
     ]
    },
    {
     "name": "stdout",
     "output_type": "stream",
     "text": [
      "=============================================================\n",
      "epoch: 8, source_val_acc_label: 0.7256, target_val_acc_label: 0.7208, source_val_label_loss: 0.7899, target_val_label_loss: 0.8018, \n",
      "=============================================================\n"
     ]
    },
    {
     "name": "stdout",
     "output_type": "stream",
     "text": [
      "Patience (3) exhausted\n"
     ]
    }
   ],
   "source": [
    "###################################\n",
    "# train\n",
    "###################################\n",
    "jig = PTN_Train_Eval_Test_Jig(model, p.BEST_MODEL_PATH, p.device)\n",
    "\n",
    "jig.train(\n",
    "    train_iterable=datasets.source.processed.train,\n",
    "    source_val_iterable=datasets.source.processed.val,\n",
    "    target_val_iterable=datasets.target.processed.val,\n",
    "    num_epochs=p.n_epoch,\n",
    "    num_logs_per_epoch=p.NUM_LOGS_PER_EPOCH,\n",
    "    patience=p.patience,\n",
    "    optimizer=optimizer,\n",
    "    criteria_for_best=p.criteria_for_best,\n",
    ")"
   ]
  },
  {
   "cell_type": "code",
   "execution_count": 23,
   "id": "31e8fabf",
   "metadata": {
    "execution": {
     "iopub.execute_input": "2022-03-10T16:09:25.310777Z",
     "iopub.status.busy": "2022-03-10T16:09:25.301458Z",
     "iopub.status.idle": "2022-03-10T16:09:25.320444Z",
     "shell.execute_reply": "2022-03-10T16:09:25.319989Z"
    },
    "papermill": {
     "duration": 0.054456,
     "end_time": "2022-03-10T16:09:25.320553",
     "exception": false,
     "start_time": "2022-03-10T16:09:25.266097",
     "status": "completed"
    },
    "tags": []
   },
   "outputs": [],
   "source": [
    "total_experiment_time_secs = time.time() - start_time_secs"
   ]
  },
  {
   "cell_type": "code",
   "execution_count": 24,
   "id": "87b9595b",
   "metadata": {
    "execution": {
     "iopub.execute_input": "2022-03-10T16:09:25.399319Z",
     "iopub.status.busy": "2022-03-10T16:09:25.394789Z",
     "iopub.status.idle": "2022-03-10T16:17:24.672700Z",
     "shell.execute_reply": "2022-03-10T16:17:24.672420Z"
    },
    "papermill": {
     "duration": 479.315415,
     "end_time": "2022-03-10T16:17:24.672763",
     "exception": false,
     "start_time": "2022-03-10T16:09:25.357348",
     "status": "completed"
    },
    "tags": []
   },
   "outputs": [],
   "source": [
    "###################################\n",
    "# Evaluate the model\n",
    "###################################\n",
    "source_test_label_accuracy, source_test_label_loss = jig.test(datasets.source.processed.test)\n",
    "target_test_label_accuracy, target_test_label_loss = jig.test(datasets.target.processed.test)\n",
    "\n",
    "source_val_label_accuracy, source_val_label_loss = jig.test(datasets.source.processed.val)\n",
    "target_val_label_accuracy, target_val_label_loss = jig.test(datasets.target.processed.val)\n",
    "\n",
    "history = jig.get_history()\n",
    "\n",
    "total_epochs_trained = len(history[\"epoch_indices\"])\n",
    "\n",
    "val_dl = Iterable_Aggregator((datasets.source.original.val,datasets.target.original.val))\n",
    "\n",
    "confusion = ptn_confusion_by_domain_over_dataloader(model, p.device, val_dl)\n",
    "per_domain_accuracy = per_domain_accuracy_from_confusion(confusion)\n",
    "\n",
    "# Add a key to per_domain_accuracy for if it was a source domain\n",
    "for domain, accuracy in per_domain_accuracy.items():\n",
    "    per_domain_accuracy[domain] = {\n",
    "        \"accuracy\": accuracy,\n",
    "        \"source?\": domain in p.domains_source\n",
    "    }\n",
    "\n",
    "# Do an independent accuracy assesment JUST TO BE SURE!\n",
    "# _source_test_label_accuracy = independent_accuracy_assesment(model, datasets.source.processed.test, p.device)\n",
    "# _target_test_label_accuracy = independent_accuracy_assesment(model, datasets.target.processed.test, p.device)\n",
    "# _source_val_label_accuracy = independent_accuracy_assesment(model, datasets.source.processed.val, p.device)\n",
    "# _target_val_label_accuracy = independent_accuracy_assesment(model, datasets.target.processed.val, p.device)\n",
    "\n",
    "# assert(_source_test_label_accuracy == source_test_label_accuracy)\n",
    "# assert(_target_test_label_accuracy == target_test_label_accuracy)\n",
    "# assert(_source_val_label_accuracy == source_val_label_accuracy)\n",
    "# assert(_target_val_label_accuracy == target_val_label_accuracy)\n",
    "\n",
    "experiment = {\n",
    "    \"experiment_name\": p.experiment_name,\n",
    "    \"parameters\": dict(p),\n",
    "    \"results\": {\n",
    "        \"source_test_label_accuracy\": source_test_label_accuracy,\n",
    "        \"source_test_label_loss\": source_test_label_loss,\n",
    "        \"target_test_label_accuracy\": target_test_label_accuracy,\n",
    "        \"target_test_label_loss\": target_test_label_loss,\n",
    "        \"source_val_label_accuracy\": source_val_label_accuracy,\n",
    "        \"source_val_label_loss\": source_val_label_loss,\n",
    "        \"target_val_label_accuracy\": target_val_label_accuracy,\n",
    "        \"target_val_label_loss\": target_val_label_loss,\n",
    "        \"total_epochs_trained\": total_epochs_trained,\n",
    "        \"total_experiment_time_secs\": total_experiment_time_secs,\n",
    "        \"confusion\": confusion,\n",
    "        \"per_domain_accuracy\": per_domain_accuracy,\n",
    "    },\n",
    "    \"history\": history,\n",
    "    \"dataset_metrics\": get_dataset_metrics(datasets, \"ptn\"),\n",
    "}"
   ]
  },
  {
   "cell_type": "code",
   "execution_count": 25,
   "id": "54a21829",
   "metadata": {
    "execution": {
     "iopub.execute_input": "2022-03-10T16:17:24.736027Z",
     "iopub.status.busy": "2022-03-10T16:17:24.735622Z",
     "iopub.status.idle": "2022-03-10T16:17:24.917697Z",
     "shell.execute_reply": "2022-03-10T16:17:24.917914Z"
    },
    "papermill": {
     "duration": 0.214717,
     "end_time": "2022-03-10T16:17:24.917988",
     "exception": false,
     "start_time": "2022-03-10T16:17:24.703271",
     "status": "completed"
    },
    "tags": []
   },
   "outputs": [
    {
     "data": {
      "image/png": "[encoded data removed]",
      "text/plain": [
       "<Figure size 1080x504 with 1 Axes>"
      ]
     },
     "metadata": {
      "needs_background": "light"
     },
     "output_type": "display_data"
    }
   ],
   "source": [
    "ax = get_loss_curve(experiment)\n",
    "plt.show()"
   ]
  },
  {
   "cell_type": "code",
   "execution_count": 26,
   "id": "fd8a0f60",
   "metadata": {
    "execution": {
     "iopub.execute_input": "2022-03-10T16:17:24.983737Z",
     "iopub.status.busy": "2022-03-10T16:17:24.983338Z",
     "iopub.status.idle": "2022-03-10T16:17:25.159326Z",
     "shell.execute_reply": "2022-03-10T16:17:25.159616Z"
    },
    "papermill": {
     "duration": 0.210013,
     "end_time": "2022-03-10T16:17:25.159694",
     "exception": false,
     "start_time": "2022-03-10T16:17:24.949681",
     "status": "completed"
    },
    "tags": []
   },
   "outputs": [
    {
     "data": {
      "text/plain": [
       "<matplotlib.axes._subplots.AxesSubplot at 0x7f7a619933a0>"
      ]
     },
     "execution_count": 26,
     "metadata": {},
     "output_type": "execute_result"
    },
    {
     "data": {
      "image/png": "[encoded data removed]",
      "text/plain": [
       "<Figure size 1080x504 with 1 Axes>"
      ]
     },
     "metadata": {
      "needs_background": "light"
     },
     "output_type": "display_data"
    }
   ],
   "source": [
    "get_results_table(experiment)"
   ]
  },
  {
   "cell_type": "code",
   "execution_count": 27,
   "id": "cf8dc689",
   "metadata": {
    "execution": {
     "iopub.execute_input": "2022-03-10T16:17:25.228342Z",
     "iopub.status.busy": "2022-03-10T16:17:25.228086Z",
     "iopub.status.idle": "2022-03-10T16:17:25.440544Z",
     "shell.execute_reply": "2022-03-10T16:17:25.440058Z"
    },
    "papermill": {
     "duration": 0.247192,
     "end_time": "2022-03-10T16:17:25.440648",
     "exception": false,
     "start_time": "2022-03-10T16:17:25.193456",
     "status": "completed"
    },
    "tags": []
   },
   "outputs": [
    {
     "data": {
      "text/plain": [
       "<matplotlib.axes._subplots.AxesSubplot at 0x7f7a6198ec10>"
      ]
     },
     "execution_count": 27,
     "metadata": {},
     "output_type": "execute_result"
    },
    {
     "data": {
      "image/png": "[encoded data removed]",
      "text/plain": [
       "<Figure size 1080x504 with 1 Axes>"
      ]
     },
     "metadata": {
      "needs_background": "light"
     },
     "output_type": "display_data"
    }
   ],
   "source": [
    "get_domain_accuracies(experiment)"
   ]
  },
  {
   "cell_type": "code",
   "execution_count": 28,
   "id": "a74ae082",
   "metadata": {
    "execution": {
     "iopub.execute_input": "2022-03-10T16:17:25.514798Z",
     "iopub.status.busy": "2022-03-10T16:17:25.514544Z",
     "iopub.status.idle": "2022-03-10T16:17:25.531239Z",
     "shell.execute_reply": "2022-03-10T16:17:25.530769Z"
    },
    "papermill": {
     "duration": 0.05299,
     "end_time": "2022-03-10T16:17:25.531323",
     "exception": false,
     "start_time": "2022-03-10T16:17:25.478333",
     "status": "completed"
    },
    "tags": []
   },
   "outputs": [
    {
     "name": "stdout",
     "output_type": "stream",
     "text": [
      "Source Test Label Accuracy: 0.7350651041666667 Target Test Label Accuracy: 0.7387239583333334\n",
      "Source Val Label Accuracy: 0.7353645833333333 Target Val Label Accuracy: 0.73890625\n"
     ]
    }
   ],
   "source": [
    "print(\"Source Test Label Accuracy:\", experiment[\"results\"][\"source_test_label_accuracy\"], \"Target Test Label Accuracy:\", experiment[\"results\"][\"target_test_label_accuracy\"])\n",
    "print(\"Source Val Label Accuracy:\", experiment[\"results\"][\"source_val_label_accuracy\"], \"Target Val Label Accuracy:\", experiment[\"results\"][\"target_val_label_accuracy\"])"
   ]
  },
  {
   "cell_type": "code",
   "execution_count": 29,
   "id": "dacca602",
   "metadata": {
    "execution": {
     "iopub.execute_input": "2022-03-10T16:17:25.606848Z",
     "iopub.status.busy": "2022-03-10T16:17:25.606584Z",
     "iopub.status.idle": "2022-03-10T16:17:25.623547Z",
     "shell.execute_reply": "2022-03-10T16:17:25.623235Z"
    },
    "papermill": {
     "duration": 0.052589,
     "end_time": "2022-03-10T16:17:25.623628",
     "exception": false,
     "start_time": "2022-03-10T16:17:25.571039",
     "status": "completed"
    },
    "tags": [
     "experiment_json"
    ]
   },
   "outputs": [
    {
     "data": {
      "text/plain": [
       "'{\"experiment_name\": \"tl_1_oracle.run1-oracle.run2\", \"parameters\": {\"experiment_name\": \"tl_1_oracle.run1-oracle.run2\", \"device\": \"cuda\", \"lr\": 0.001, \"seed\": 1337, \"dataset_seed\": 1337, \"n_shot\": 3, \"n_query\": 2, \"train_k_factor\": 3, \"val_k_factor\": 2, \"test_k_factor\": 2, \"torch_default_dtype\": \"torch.float32\", \"n_epoch\": 50, \"patience\": 3, \"criteria_for_best\": \"target_loss\", \"x_net\": [{\"class\": \"nnReshape\", \"kargs\": {\"shape\": [-1, 1, 2, 256]}}, {\"class\": \"Conv2d\", \"kargs\": {\"in_channels\": 1, \"out_channels\": 256, \"kernel_size\": [1, 7], \"bias\": false, \"padding\": [0, 3]}}, {\"class\": \"ReLU\", \"kargs\": {\"inplace\": true}}, {\"class\": \"BatchNorm2d\", \"kargs\": {\"num_features\": 256}}, {\"class\": \"Conv2d\", \"kargs\": {\"in_channels\": 256, \"out_channels\": 80, \"kernel_size\": [2, 7], \"bias\": true, \"padding\": [0, 3]}}, {\"class\": \"ReLU\", \"kargs\": {\"inplace\": true}}, {\"class\": \"BatchNorm2d\", \"kargs\": {\"num_features\": 80}}, {\"class\": \"Flatten\", \"kargs\": {}}, {\"class\": \"Linear\", \"kargs\": {\"in_features\": 20480, \"out_features\": 256}}, {\"class\": \"ReLU\", \"kargs\": {\"inplace\": true}}, {\"class\": \"BatchNorm1d\", \"kargs\": {\"num_features\": 256}}, {\"class\": \"Linear\", \"kargs\": {\"in_features\": 256, \"out_features\": 256}}], \"NUM_LOGS_PER_EPOCH\": 10, \"BEST_MODEL_PATH\": \"./best_model.pth\", \"n_way\": 16, \"datasets\": [{\"labels\": [\"3123D52\", \"3123D65\", \"3123D79\", \"3123D80\", \"3123D54\", \"3123D70\", \"3123D7B\", \"3123D89\", \"3123D58\", \"3123D76\", \"3123D7D\", \"3123EFE\", \"3123D64\", \"3123D78\", \"3123D7E\", \"3124E4A\"], \"domains\": [32, 38, 8, 44, 14, 50, 20, 26], \"num_examples_per_domain_per_label\": 10000, \"pickle_path\": \"/mnt/wd500GB/CSC500/csc500-main/datasets/oracle.Run1_10kExamples_stratified_ds.2022A.pkl\", \"source_or_target_dataset\": \"target\", \"x_transforms\": [\"unit_power\"], \"episode_transforms\": [], \"domain_prefix\": \"ORACLE.run1_\"}, {\"labels\": [\"3123D52\", \"3123D65\", \"3123D79\", \"3123D80\", \"3123D54\", \"3123D70\", \"3123D7B\", \"3123D89\", \"3123D58\", \"3123D76\", \"3123D7D\", \"3123EFE\", \"3123D64\", \"3123D78\", \"3123D7E\", \"3124E4A\"], \"domains\": [32, 38, 8, 44, 14, 50, 20, 26], \"num_examples_per_domain_per_label\": 10000, \"pickle_path\": \"/mnt/wd500GB/CSC500/csc500-main/datasets/oracle.Run2_10kExamples_stratified_ds.2022A.pkl\", \"source_or_target_dataset\": \"source\", \"x_transforms\": [\"unit_power\"], \"episode_transforms\": [], \"domain_prefix\": \"ORACLE.run2_\"}], \"domains_source\": [\"ORACLE.run2_32\", \"ORACLE.run2_38\", \"ORACLE.run2_8\", \"ORACLE.run2_44\", \"ORACLE.run2_14\", \"ORACLE.run2_50\", \"ORACLE.run2_20\", \"ORACLE.run2_26\"], \"domains_target\": [\"ORACLE.run1_32\", \"ORACLE.run1_38\", \"ORACLE.run1_8\", \"ORACLE.run1_44\", \"ORACLE.run1_14\", \"ORACLE.run1_50\", \"ORACLE.run1_20\", \"ORACLE.run1_26\"]}, \"results\": {\"source_test_label_accuracy\": 0.7350651041666667, \"source_test_label_loss\": 0.7398736476898193, \"target_test_label_accuracy\": 0.7387239583333334, \"target_test_label_loss\": 0.720920741558075, \"source_val_label_accuracy\": 0.7353645833333333, \"source_val_label_loss\": 0.7422876954078674, \"target_val_label_accuracy\": 0.73890625, \"target_val_label_loss\": 0.7227596044540405, \"total_epochs_trained\": 8, \"total_experiment_time_secs\": 7528.193748950958, \"confusion\": {\"ORACLE.run2_14\": {\"15\": {\"15\": 1191, \"7\": 9}, \"3\": {\"5\": 48, \"3\": 1034, \"14\": 26, \"4\": 61, \"1\": 4, \"0\": 1, \"2\": 26}, \"6\": {\"13\": 234, \"14\": 48, \"6\": 898, \"2\": 18, \"4\": 2}, \"1\": {\"1\": 1118, \"5\": 56, \"4\": 26}, \"8\": {\"8\": 1196, \"9\": 4}, \"10\": {\"10\": 1163, \"0\": 37}, \"9\": {\"9\": 1200}, \"13\": {\"13\": 890, \"6\": 284, \"15\": 1, \"2\": 21, \"14\": 4}, \"12\": {\"12\": 681, \"11\": 258, \"9\": 154, \"10\": 24, \"0\": 77, \"8\": 4, \"3\": 2}, \"5\": {\"5\": 660, \"4\": 311, \"3\": 64, \"1\": 87, \"2\": 78}, \"0\": {\"0\": 1197, \"10\": 3}, \"2\": {\"2\": 564, \"14\": 195, \"5\": 167, \"6\": 34, \"3\": 77, \"13\": 80, \"4\": 76, \"15\": 4, \"1\": 3}, \"11\": {\"11\": 1179, \"12\": 20, \"10\": 1}, \"14\": {\"14\": 918, \"2\": 153, \"6\": 70, \"4\": 6, \"3\": 41, \"0\": 2, \"13\": 6, \"5\": 4}, \"7\": {\"7\": 1195, \"15\": 3, \"1\": 2}, \"4\": {\"4\": 810, \"2\": 37, \"1\": 21, \"3\": 58, \"5\": 271, \"14\": 3}}, \"ORACLE.run2_20\": {\"3\": {\"3\": 558, \"5\": 136, \"7\": 123, \"9\": 125, \"2\": 188, \"4\": 20, \"12\": 32, \"10\": 4, \"8\": 5, \"15\": 5, \"1\": 3, \"13\": 1}, \"15\": {\"15\": 545, \"13\": 255, \"2\": 98, \"1\": 88, \"5\": 64, \"12\": 65, \"9\": 40, \"0\": 44, \"3\": 1}, \"8\": {\"8\": 853, \"14\": 100, \"4\": 42, \"7\": 124, \"6\": 33, \"10\": 30, \"5\": 7, \"3\": 11}, \"4\": {\"4\": 1092, \"3\": 19, \"12\": 37, \"8\": 11, \"0\": 6, \"5\": 22, \"7\": 1, \"2\": 3, \"10\": 4, \"1\": 1, \"9\": 3, \"14\": 1}, \"14\": {\"14\": 915, \"10\": 71, \"6\": 105, \"8\": 107, \"7\": 2}, \"0\": {\"0\": 879, \"4\": 22, \"5\": 86, \"12\": 61, \"1\": 55, \"15\": 74, \"13\": 15, \"2\": 5, \"3\": 1, \"9\": 2}, \"7\": {\"7\": 966, \"8\": 102, \"3\": 100, \"5\": 15, \"10\": 7, \"9\": 3, \"2\": 3, \"6\": 3, \"4\": 1}, \"6\": {\"6\": 1111, \"14\": 64, \"7\": 8, \"8\": 12, \"10\": 5}, \"10\": {\"10\": 1088, \"8\": 23, \"14\": 58, \"4\": 15, \"6\": 6, \"7\": 8, \"3\": 2}, \"5\": {\"3\": 139, \"5\": 529, \"12\": 96, \"0\": 94, \"9\": 35, \"15\": 74, \"2\": 165, \"4\": 14, \"1\": 13, \"7\": 34, \"8\": 2, \"13\": 5}, \"2\": {\"9\": 289, \"15\": 88, \"3\": 165, \"2\": 420, \"5\": 156, \"13\": 15, \"7\": 7, \"12\": 54, \"1\": 5, \"0\": 1}, \"12\": {\"12\": 514, \"2\": 54, \"1\": 229, \"9\": 136, \"5\": 90, \"4\": 31, \"15\": 74, \"0\": 48, \"3\": 22, \"13\": 2}, \"9\": {\"5\": 44, \"9\": 525, \"2\": 298, \"15\": 55, \"12\": 119, \"3\": 115, \"1\": 36, \"7\": 1, \"4\": 4, \"0\": 1, \"13\": 2}, \"1\": {\"1\": 712, \"12\": 265, \"9\": 38, \"15\": 106, \"13\": 8, \"5\": 10, \"2\": 9, \"0\": 50, \"4\": 2}, \"11\": {\"11\": 1200}, \"13\": {\"13\": 909, \"15\": 247, \"2\": 15, \"0\": 8, \"5\": 9, \"1\": 4, \"12\": 7, \"3\": 1}}, \"ORACLE.run2_38\": {\"5\": {\"7\": 122, \"8\": 377, \"15\": 129, \"5\": 532, \"13\": 24, \"10\": 12, \"3\": 2, \"0\": 1, \"9\": 1}, \"8\": {\"8\": 462, \"5\": 345, \"15\": 215, \"13\": 60, \"7\": 88, \"10\": 18, \"0\": 2, \"1\": 3, \"3\": 7}, \"11\": {\"14\": 49, \"11\": 1129, \"2\": 7, \"4\": 3, \"12\": 12}, \"1\": {\"1\": 1139, \"15\": 53, \"5\": 2, \"8\": 3, \"13\": 3}, \"10\": {\"10\": 707, \"7\": 365, \"8\": 40, \"13\": 24, \"15\": 2, \"3\": 21, \"4\": 2, \"5\": 31, \"0\": 8}, \"15\": {\"15\": 654, \"5\": 159, \"1\": 110, \"8\": 230, \"6\": 9, \"0\": 8, \"7\": 10, \"13\": 16, \"3\": 3, \"9\": 1}, \"3\": {\"13\": 155, \"3\": 519, \"6\": 22, \"0\": 258, \"10\": 74, \"9\": 49, \"8\": 44, \"15\": 21, \"7\": 33, \"5\": 21, \"1\": 4}, \"7\": {\"10\": 305, \"7\": 652, \"5\": 118, \"8\": 99, \"15\": 5, \"3\": 10, \"13\": 9, \"0\": 2}, \"4\": {\"4\": 1162, \"12\": 35, \"7\": 3}, \"14\": {\"14\": 789, \"2\": 291, \"12\": 59, \"7\": 17, \"11\": 20, \"13\": 1, \"5\": 12, \"4\": 2, \"8\": 7, \"10\": 2}, \"9\": {\"9\": 906, \"3\": 10, \"6\": 282, \"0\": 2}, \"12\": {\"12\": 1182, \"14\": 8, \"4\": 10}, \"6\": {\"6\": 960, \"9\": 239, \"15\": 1}, \"2\": {\"14\": 135, \"2\": 1065}, \"0\": {\"0\": 1068, \"10\": 18, \"3\": 103, \"8\": 3, \"6\": 2, \"7\": 5, \"5\": 1}, \"13\": {\"13\": 656, \"5\": 75, \"8\": 123, \"10\": 27, \"1\": 41, \"6\": 5, \"15\": 70, \"7\": 25, \"3\": 164, \"0\": 5, \"2\": 4, \"9\": 2, \"14\": 3}}, \"ORACLE.run2_8\": {\"9\": {\"9\": 1200}, \"10\": {\"10\": 803, \"0\": 184, \"5\": 120, \"13\": 35, \"14\": 53, \"1\": 5}, \"13\": {\"13\": 913, \"10\": 47, \"1\": 88, \"14\": 139, \"5\": 7, \"6\": 2, \"8\": 1, \"0\": 3}, \"0\": {\"0\": 855, \"10\": 150, \"14\": 185, \"6\": 7, \"4\": 2, \"13\": 1}, \"1\": {\"1\": 1105, \"13\": 74, \"5\": 16, \"10\": 5}, \"15\": {\"8\": 129, \"15\": 741, \"12\": 176, \"11\": 139, \"3\": 14, \"7\": 1}, \"5\": {\"5\": 980, \"10\": 190, \"1\": 23, \"13\": 6, \"0\": 1}, \"3\": {\"3\": 1142, \"12\": 52, \"15\": 6}, \"6\": {\"6\": 590, \"4\": 365, \"7\": 180, \"14\": 49, \"2\": 10, \"0\": 2, \"8\": 2, \"13\": 2}, \"11\": {\"11\": 679, \"8\": 279, \"15\": 153, \"12\": 87, \"6\": 2}, \"8\": {\"8\": 1046, \"11\": 84, \"15\": 63, \"7\": 3, \"6\": 1, \"13\": 3}, \"4\": {\"6\": 366, \"4\": 514, \"7\": 256, \"2\": 60, \"0\": 1, \"14\": 3}, \"12\": {\"12\": 1013, \"15\": 99, \"3\": 74, \"11\": 14}, \"14\": {\"0\": 190, \"14\": 792, \"13\": 125, \"10\": 47, \"6\": 36, \"4\": 9, \"7\": 1}, \"2\": {\"4\": 81, \"2\": 988, \"7\": 124, \"6\": 7}, \"7\": {\"6\": 204, \"7\": 641, \"4\": 250, \"2\": 103, \"14\": 2}}, \"ORACLE.run2_50\": {\"7\": {\"7\": 615, \"13\": 397, \"5\": 89, \"10\": 86, \"4\": 10, \"0\": 1, \"6\": 2}, \"3\": {\"3\": 1153, \"8\": 47}, \"8\": {\"8\": 1163, \"3\": 37}, \"2\": {\"2\": 1147, \"0\": 53}, \"14\": {\"14\": 1191, \"12\": 9}, \"4\": {\"4\": 686, \"5\": 321, \"1\": 60, \"6\": 117, \"10\": 8, \"7\": 4, \"13\": 4}, \"6\": {\"4\": 114, \"6\": 832, \"1\": 174, \"15\": 12, \"5\": 56, \"0\": 10, \"7\": 1, \"2\": 1}, \"15\": {\"15\": 1098, \"1\": 65, \"6\": 7, \"11\": 28, \"4\": 1, \"14\": 1}, \"10\": {\"10\": 942, \"13\": 146, \"5\": 46, \"7\": 49, \"0\": 15, \"6\": 1, \"4\": 1}, \"11\": {\"11\": 1108, \"14\": 14, \"15\": 44, \"9\": 20, \"12\": 14}, \"13\": {\"7\": 305, \"13\": 728, \"10\": 123, \"5\": 42, \"4\": 2}, \"9\": {\"9\": 1140, \"12\": 42, \"11\": 18}, \"0\": {\"0\": 1118, \"2\": 69, \"10\": 12, \"5\": 1}, \"1\": {\"15\": 34, \"1\": 969, \"6\": 145, \"4\": 48, \"5\": 3, \"0\": 1}, \"12\": {\"12\": 1116, \"9\": 43, \"14\": 40, \"11\": 1}, \"5\": {\"5\": 629, \"10\": 69, \"7\": 77, \"4\": 296, \"6\": 52, \"0\": 6, \"13\": 61, \"1\": 10}}, \"ORACLE.run2_32\": {\"8\": {\"8\": 967, \"5\": 70, \"4\": 33, \"0\": 65, \"13\": 40, \"3\": 20, \"11\": 3, \"15\": 2}, \"14\": {\"14\": 1076, \"2\": 64, \"0\": 30, \"5\": 25, \"11\": 5}, \"2\": {\"2\": 1032, \"14\": 60, \"5\": 49, \"7\": 15, \"11\": 7, \"0\": 14, \"4\": 23}, \"0\": {\"0\": 691, \"5\": 122, \"13\": 29, \"11\": 163, \"7\": 14, \"4\": 85, \"14\": 17, \"8\": 68, \"2\": 11}, \"1\": {\"1\": 1190, \"10\": 10}, \"10\": {\"10\": 1193, \"1\": 7}, \"11\": {\"13\": 74, \"7\": 202, \"11\": 697, \"0\": 143, \"5\": 12, \"4\": 43, \"2\": 21, \"8\": 4, \"14\": 4}, \"5\": {\"2\": 114, \"4\": 125, \"13\": 41, \"14\": 71, \"5\": 501, \"0\": 167, \"8\": 143, \"7\": 18, \"11\": 16, \"3\": 4}, \"15\": {\"15\": 1194, \"8\": 6}, \"3\": {\"3\": 1156, \"13\": 34, \"8\": 6, \"4\": 3, \"7\": 1}, \"12\": {\"12\": 1200}, \"7\": {\"11\": 189, \"2\": 22, \"7\": 754, \"4\": 95, \"13\": 119, \"5\": 6, \"0\": 15}, \"13\": {\"3\": 22, \"7\": 83, \"11\": 55, \"13\": 708, \"4\": 264, \"0\": 21, \"8\": 32, \"5\": 15}, \"6\": {\"6\": 1200}, \"4\": {\"4\": 603, \"5\": 113, \"2\": 20, \"7\": 88, \"13\": 221, \"0\": 89, \"8\": 24, \"11\": 42}, \"9\": {\"9\": 1178, \"14\": 20, \"12\": 2}}, \"ORACLE.run2_26\": {\"4\": {\"4\": 717, \"2\": 81, \"8\": 55, \"0\": 113, \"3\": 69, \"7\": 51, \"10\": 30, \"14\": 43, \"15\": 36, \"1\": 5}, \"12\": {\"12\": 1196, \"11\": 4}, \"10\": {\"10\": 425, \"8\": 110, \"14\": 168, \"0\": 249, \"6\": 66, \"2\": 10, \"1\": 66, \"4\": 86, \"7\": 4, \"12\": 6, \"9\": 3, \"5\": 4, \"15\": 3}, \"0\": {\"4\": 136, \"8\": 105, \"0\": 458, \"10\": 182, \"14\": 207, \"1\": 82, \"2\": 14, \"7\": 10, \"15\": 4, \"5\": 1, \"3\": 1}, \"13\": {\"5\": 176, \"13\": 911, \"9\": 80, \"7\": 6, \"6\": 26, \"2\": 1}, \"9\": {\"9\": 744, \"6\": 119, \"13\": 97, \"8\": 96, \"10\": 4, \"7\": 34, \"2\": 15, \"5\": 81, \"15\": 9, \"4\": 1}, \"3\": {\"7\": 78, \"3\": 747, \"2\": 117, \"4\": 71, \"15\": 186, \"5\": 1}, \"2\": {\"9\": 20, \"15\": 104, \"2\": 331, \"4\": 99, \"7\": 404, \"3\": 111, \"8\": 86, \"5\": 26, \"0\": 9, \"13\": 2, \"14\": 6, \"10\": 2}, \"5\": {\"9\": 77, \"6\": 85, \"5\": 535, \"13\": 283, \"2\": 78, \"8\": 47, \"3\": 7, \"4\": 2, \"7\": 74, \"14\": 2, \"10\": 7, \"15\": 3}, \"14\": {\"14\": 413, \"8\": 85, \"1\": 276, \"0\": 220, \"10\": 148, \"7\": 5, \"4\": 46, \"2\": 5, \"6\": 1, \"5\": 1}, \"8\": {\"2\": 75, \"8\": 579, \"9\": 95, \"0\": 65, \"14\": 62, \"7\": 123, \"15\": 6, \"4\": 43, \"10\": 89, \"6\": 19, \"5\": 39, \"13\": 2, \"1\": 3}, \"7\": {\"15\": 58, \"4\": 78, \"2\": 371, \"7\": 414, \"3\": 74, \"8\": 110, \"9\": 25, \"5\": 57, \"1\": 1, \"14\": 3, \"10\": 6, \"0\": 3}, \"6\": {\"9\": 140, \"10\": 51, \"6\": 906, \"13\": 45, \"8\": 27, \"5\": 29, \"0\": 2}, \"11\": {\"11\": 1196, \"12\": 4}, \"15\": {\"3\": 208, \"15\": 727, \"2\": 105, \"8\": 10, \"7\": 93, \"5\": 2, \"9\": 12, \"4\": 42, \"0\": 1}, \"1\": {\"1\": 791, \"14\": 293, \"10\": 35, \"0\": 61, \"4\": 13, \"8\": 5, \"2\": 1, \"7\": 1}}, \"ORACLE.run2_44\": {\"12\": {\"1\": 288, \"12\": 850, \"3\": 62}, \"7\": {\"7\": 640, \"9\": 312, \"2\": 227, \"6\": 17, \"1\": 4}, \"5\": {\"5\": 1067, \"14\": 105, \"0\": 4, \"15\": 3, \"8\": 20, \"4\": 1}, \"15\": {\"15\": 1037, \"14\": 107, \"8\": 20, \"4\": 30, \"5\": 2, \"0\": 4}, \"8\": {\"0\": 486, \"8\": 699, \"5\": 8, \"15\": 4, \"14\": 3}, \"2\": {\"2\": 706, \"7\": 205, \"9\": 286, \"3\": 2, \"1\": 1}, \"13\": {\"13\": 1155, \"9\": 2, \"4\": 18, \"6\": 25}, \"4\": {\"4\": 1069, \"15\": 48, \"14\": 69, \"13\": 14}, \"0\": {\"8\": 538, \"0\": 658, \"14\": 2, \"15\": 1, \"5\": 1}, \"6\": {\"6\": 1123, \"7\": 18, \"9\": 40, \"13\": 13, \"2\": 2, \"11\": 4}, \"9\": {\"9\": 544, \"7\": 283, \"2\": 333, \"6\": 36, \"3\": 1, \"1\": 3}, \"11\": {\"11\": 1191, \"6\": 9}, \"10\": {\"10\": 1136, \"12\": 40, \"1\": 24}, \"14\": {\"14\": 847, \"4\": 79, \"5\": 123, \"15\": 144, \"8\": 6, \"0\": 1}, \"1\": {\"1\": 820, \"12\": 269, \"10\": 4, \"3\": 102, \"2\": 3, \"7\": 2}, \"3\": {\"3\": 1051, \"12\": 54, \"1\": 95}}, \"ORACLE.run1_14\": {\"15\": {\"15\": 1169, \"7\": 30, \"2\": 1}, \"3\": {\"3\": 1036, \"4\": 134, \"2\": 7, \"13\": 1, \"0\": 2, \"14\": 13, \"5\": 6, \"10\": 1}, \"6\": {\"6\": 667, \"13\": 434, \"2\": 44, \"14\": 55}, \"1\": {\"1\": 1093, \"4\": 6, \"5\": 101}, \"8\": {\"8\": 1199, \"0\": 1}, \"10\": {\"10\": 1169, \"0\": 31}, \"9\": {\"9\": 1198, \"12\": 2}, \"13\": {\"13\": 441, \"6\": 483, \"2\": 112, \"14\": 147, \"5\": 11, \"4\": 5, \"15\": 1}, \"12\": {\"12\": 1198, \"9\": 2}, \"5\": {\"3\": 16, \"5\": 781, \"4\": 216, \"1\": 149, \"2\": 32, \"13\": 1, \"7\": 3, \"15\": 2}, \"0\": {\"0\": 1084, \"11\": 33, \"10\": 65, \"3\": 18}, \"2\": {\"6\": 48, \"2\": 632, \"14\": 187, \"3\": 57, \"5\": 121, \"15\": 33, \"4\": 64, \"13\": 57, \"1\": 1}, \"11\": {\"11\": 1035, \"9\": 71, \"0\": 89, \"10\": 5}, \"14\": {\"14\": 986, \"13\": 90, \"2\": 76, \"6\": 34, \"5\": 1, \"3\": 12, \"4\": 1}, \"7\": {\"7\": 1190, \"15\": 7, \"1\": 3}, \"4\": {\"4\": 910, \"3\": 100, \"5\": 153, \"2\": 29, \"1\": 7, \"14\": 1}}, \"ORACLE.run1_20\": {\"3\": {\"12\": 256, \"3\": 565, \"9\": 173, \"2\": 54, \"1\": 17, \"5\": 54, \"4\": 43, \"7\": 25, \"8\": 5, \"0\": 7, \"10\": 1}, \"15\": {\"1\": 153, \"15\": 811, \"5\": 101, \"0\": 73, \"2\": 4, \"13\": 26, \"12\": 27, \"9\": 3, \"3\": 2}, \"8\": {\"8\": 978, \"10\": 13, \"4\": 91, \"7\": 78, \"6\": 9, \"14\": 25, \"3\": 5, \"9\": 1}, \"4\": {\"4\": 1033, \"8\": 89, \"10\": 24, \"12\": 5, \"3\": 42, \"7\": 4, \"5\": 2, \"9\": 1}, \"14\": {\"14\": 1001, \"6\": 119, \"10\": 57, \"8\": 21, \"7\": 2}, \"0\": {\"0\": 700, \"5\": 287, \"15\": 122, \"1\": 25, \"3\": 17, \"8\": 4, \"12\": 12, \"2\": 10, \"7\": 11, \"13\": 7, \"4\": 3, \"9\": 2}, \"7\": {\"7\": 955, \"8\": 53, \"2\": 117, \"9\": 37, \"3\": 28, \"12\": 1, \"4\": 5, \"13\": 2, \"6\": 1, \"5\": 1}, \"6\": {\"6\": 1079, \"14\": 109, \"8\": 9, \"11\": 2, \"10\": 1}, \"10\": {\"10\": 1115, \"14\": 54, \"4\": 22, \"8\": 9}, \"5\": {\"3\": 46, \"12\": 132, \"15\": 96, \"5\": 499, \"0\": 225, \"1\": 187, \"13\": 5, \"2\": 2, \"9\": 4, \"4\": 3, \"8\": 1}, \"2\": {\"9\": 280, \"2\": 598, \"3\": 67, \"12\": 49, \"7\": 140, \"13\": 51, \"15\": 3, \"0\": 1, \"5\": 6, \"4\": 2, \"8\": 1, \"1\": 2}, \"12\": {\"12\": 491, \"1\": 173, \"3\": 209, \"9\": 130, \"5\": 130, \"2\": 37, \"15\": 17, \"0\": 11, \"13\": 1, \"4\": 1}, \"9\": {\"9\": 521, \"3\": 184, \"12\": 131, \"2\": 301, \"7\": 34, \"1\": 13, \"13\": 5, \"5\": 7, \"4\": 1, \"15\": 3}, \"1\": {\"12\": 163, \"1\": 633, \"5\": 195, \"15\": 151, \"3\": 12, \"0\": 20, \"9\": 18, \"2\": 6, \"13\": 2}, \"11\": {\"11\": 1199, \"6\": 1}, \"13\": {\"13\": 1131, \"2\": 53, \"9\": 5, \"15\": 9, \"5\": 1, \"1\": 1}}, \"ORACLE.run1_38\": {\"5\": {\"5\": 519, \"8\": 336, \"0\": 68, \"15\": 52, \"6\": 52, \"9\": 37, \"7\": 106, \"13\": 8, \"1\": 16, \"3\": 4, \"10\": 2}, \"8\": {\"8\": 764, \"7\": 25, \"15\": 26, \"0\": 111, \"5\": 253, \"13\": 7, \"10\": 14}, \"11\": {\"11\": 1050, \"14\": 133, \"10\": 12, \"2\": 4, \"12\": 1}, \"1\": {\"1\": 1173, \"15\": 26, \"5\": 1}, \"10\": {\"10\": 980, \"8\": 38, \"12\": 11, \"13\": 118, \"7\": 5, \"0\": 21, \"14\": 12, \"15\": 5, \"2\": 5, \"11\": 4, \"5\": 1}, \"15\": {\"15\": 932, \"1\": 98, \"13\": 115, \"5\": 24, \"10\": 4, \"8\": 24, \"2\": 2, \"0\": 1}, \"3\": {\"0\": 22, \"3\": 1122, \"9\": 45, \"7\": 6, \"6\": 2, \"5\": 3}, \"7\": {\"7\": 977, \"0\": 141, \"10\": 2, \"5\": 45, \"8\": 31, \"9\": 2, \"6\": 1, \"3\": 1}, \"4\": {\"4\": 1153, \"12\": 47}, \"14\": {\"14\": 1104, \"11\": 29, \"2\": 59, \"10\": 8}, \"9\": {\"9\": 860, \"6\": 305, \"5\": 14, \"3\": 19, \"1\": 1, \"0\": 1}, \"12\": {\"12\": 1151, \"10\": 4, \"4\": 42, \"14\": 3}, \"6\": {\"6\": 1055, \"9\": 140, \"0\": 1, \"5\": 3, \"8\": 1}, \"2\": {\"2\": 1128, \"14\": 55, \"13\": 16, \"10\": 1}, \"0\": {\"8\": 220, \"0\": 570, \"7\": 206, \"3\": 79, \"5\": 98, \"10\": 21, \"13\": 2, \"6\": 1, \"9\": 2, \"12\": 1}, \"13\": {\"13\": 857, \"10\": 100, \"15\": 205, \"8\": 18, \"2\": 12, \"5\": 3, \"1\": 4, \"0\": 1}}, \"ORACLE.run1_8\": {\"9\": {\"9\": 1198, \"5\": 2}, \"10\": {\"14\": 262, \"10\": 815, \"13\": 79, \"4\": 32, \"5\": 11, \"1\": 1}, \"13\": {\"6\": 52, \"4\": 176, \"13\": 438, \"0\": 326, \"10\": 100, \"14\": 93, \"1\": 2, \"5\": 1, \"7\": 12}, \"0\": {\"0\": 821, \"13\": 217, \"6\": 51, \"7\": 71, \"4\": 36, \"10\": 3, \"14\": 1}, \"1\": {\"11\": 244, \"1\": 911, \"5\": 17, \"10\": 3, \"14\": 25}, \"15\": {\"15\": 927, \"12\": 208, \"8\": 49, \"3\": 10, \"2\": 4, \"7\": 2}, \"5\": {\"14\": 26, \"5\": 1086, \"1\": 45, \"10\": 36, \"11\": 6, \"13\": 1}, \"3\": {\"3\": 1065, \"2\": 98, \"12\": 36, \"15\": 1}, \"6\": {\"6\": 744, \"7\": 229, \"13\": 38, \"4\": 127, \"0\": 55, \"8\": 4, \"14\": 3}, \"11\": {\"11\": 783, \"1\": 395, \"5\": 11, \"8\": 6, \"14\": 4, \"4\": 1}, \"8\": {\"8\": 1160, \"15\": 37, \"6\": 3}, \"4\": {\"4\": 652, \"13\": 243, \"14\": 143, \"6\": 109, \"10\": 23, \"0\": 27, \"7\": 3}, \"12\": {\"2\": 6, \"12\": 682, \"15\": 358, \"3\": 125, \"8\": 29}, \"14\": {\"4\": 173, \"14\": 646, \"10\": 263, \"13\": 68, \"1\": 36, \"5\": 8, \"11\": 4, \"6\": 2}, \"2\": {\"2\": 1023, \"7\": 22, \"3\": 130, \"15\": 19, \"12\": 6}, \"7\": {\"7\": 912, \"6\": 233, \"0\": 45, \"13\": 4, \"4\": 5, \"8\": 1}}, \"ORACLE.run1_50\": {\"7\": {\"7\": 783, \"5\": 156, \"13\": 234, \"10\": 18, \"4\": 6, \"6\": 3}, \"3\": {\"3\": 1185, \"8\": 15}, \"8\": {\"8\": 1167, \"3\": 17, \"10\": 16}, \"2\": {\"2\": 1136, \"0\": 64}, \"14\": {\"14\": 1187, \"12\": 10, \"11\": 3}, \"4\": {\"4\": 586, \"5\": 131, \"1\": 186, \"6\": 84, \"15\": 151, \"13\": 28, \"7\": 34}, \"6\": {\"6\": 898, \"13\": 66, \"1\": 86, \"7\": 6, \"15\": 21, \"4\": 98, \"0\": 3, \"5\": 22}, \"15\": {\"15\": 914, \"4\": 58, \"1\": 190, \"11\": 24, \"6\": 14}, \"10\": {\"10\": 1096, \"7\": 18, \"13\": 20, \"0\": 44, \"8\": 20, \"5\": 2}, \"11\": {\"11\": 1056, \"9\": 96, \"15\": 27, \"14\": 15, \"12\": 4, \"1\": 2}, \"13\": {\"5\": 163, \"13\": 775, \"7\": 188, \"0\": 8, \"6\": 37, \"10\": 17, \"4\": 12}, \"9\": {\"11\": 176, \"9\": 948, \"12\": 74, \"14\": 2}, \"0\": {\"0\": 1072, \"2\": 92, \"10\": 32, \"13\": 3, \"5\": 1}, \"1\": {\"1\": 802, \"15\": 185, \"4\": 102, \"13\": 1, \"6\": 97, \"2\": 4, \"5\": 7, \"14\": 1, \"11\": 1}, \"12\": {\"12\": 1093, \"9\": 71, \"14\": 34, \"11\": 2}, \"5\": {\"1\": 47, \"4\": 145, \"13\": 196, \"7\": 250, \"5\": 480, \"6\": 74, \"10\": 8}}, \"ORACLE.run1_32\": {\"8\": {\"8\": 952, \"0\": 85, \"13\": 76, \"5\": 75, \"11\": 1, \"3\": 5, \"14\": 4, \"4\": 1, \"7\": 1}, \"14\": {\"14\": 485, \"11\": 323, \"7\": 222, \"0\": 58, \"13\": 42, \"3\": 7, \"5\": 30, \"8\": 8, \"2\": 9, \"4\": 16}, \"2\": {\"4\": 179, \"2\": 983, \"5\": 2, \"7\": 12, \"0\": 22, \"14\": 2}, \"0\": {\"0\": 914, \"5\": 32, \"8\": 87, \"7\": 41, \"4\": 44, \"2\": 47, \"14\": 23, \"13\": 11, \"9\": 1}, \"1\": {\"1\": 1189, \"10\": 11}, \"10\": {\"10\": 1192, \"1\": 8}, \"11\": {\"11\": 957, \"7\": 16, \"14\": 193, \"13\": 15, \"3\": 12, \"5\": 7}, \"5\": {\"13\": 305, \"5\": 392, \"7\": 151, \"11\": 16, \"4\": 143, \"3\": 48, \"0\": 41, \"14\": 34, \"8\": 58, \"2\": 12}, \"15\": {\"15\": 1194, \"8\": 6}, \"3\": {\"3\": 1134, \"13\": 36, \"11\": 11, \"8\": 6, \"5\": 10, \"14\": 3}, \"12\": {\"12\": 1200}, \"7\": {\"7\": 551, \"5\": 154, \"14\": 160, \"13\": 64, \"4\": 181, \"2\": 33, \"11\": 26, \"0\": 25, \"3\": 2, \"8\": 4}, \"13\": {\"8\": 62, \"13\": 587, \"3\": 85, \"5\": 238, \"4\": 83, \"14\": 33, \"7\": 74, \"11\": 23, \"0\": 14, \"2\": 1}, \"6\": {\"6\": 1200}, \"4\": {\"4\": 766, \"7\": 122, \"2\": 162, \"0\": 28, \"5\": 87, \"13\": 30, \"14\": 2, \"8\": 3}, \"9\": {\"9\": 1200}}, \"ORACLE.run1_26\": {\"4\": {\"9\": 1, \"4\": 479, \"0\": 176, \"7\": 62, \"14\": 256, \"8\": 85, \"10\": 58, \"1\": 81, \"2\": 1, \"15\": 1}, \"12\": {\"12\": 1196, \"11\": 4}, \"10\": {\"0\": 225, \"8\": 170, \"10\": 518, \"6\": 68, \"4\": 59, \"9\": 18, \"15\": 2, \"14\": 115, \"1\": 20, \"7\": 4, \"5\": 1}, \"0\": {\"10\": 261, \"0\": 364, \"14\": 202, \"8\": 123, \"4\": 188, \"1\": 24, \"7\": 16, \"9\": 8, \"6\": 12, \"15\": 2}, \"13\": {\"13\": 871, \"9\": 24, \"5\": 207, \"15\": 72, \"6\": 9, \"2\": 16, \"8\": 1}, \"9\": {\"15\": 341, \"9\": 479, \"6\": 153, \"8\": 99, \"5\": 59, \"2\": 7, \"13\": 35, \"10\": 21, \"7\": 4, \"0\": 2}, \"3\": {\"2\": 265, \"7\": 199, \"3\": 733, \"4\": 2, \"0\": 1}, \"2\": {\"2\": 444, \"7\": 135, \"3\": 375, \"5\": 110, \"15\": 75, \"9\": 21, \"13\": 6, \"8\": 31, \"4\": 3}, \"5\": {\"5\": 798, \"13\": 158, \"2\": 38, \"15\": 124, \"8\": 18, \"9\": 58, \"10\": 3, \"4\": 1, \"6\": 2}, \"14\": {\"4\": 260, \"14\": 416, \"1\": 215, \"10\": 95, \"0\": 184, \"7\": 9, \"8\": 20, \"15\": 1}, \"8\": {\"10\": 163, \"8\": 507, \"9\": 100, \"7\": 80, \"4\": 90, \"2\": 16, \"6\": 44, \"0\": 110, \"5\": 11, \"14\": 23, \"1\": 2, \"15\": 52, \"3\": 2}, \"7\": {\"2\": 120, \"8\": 81, \"7\": 661, \"4\": 103, \"0\": 28, \"3\": 178, \"9\": 4, \"14\": 7, \"15\": 11, \"10\": 6, \"5\": 1}, \"6\": {\"6\": 904, \"15\": 35, \"10\": 51, \"9\": 148, \"13\": 9, \"8\": 42, \"0\": 10, \"5\": 1}, \"11\": {\"11\": 1193, \"12\": 7}, \"15\": {\"9\": 347, \"15\": 502, \"8\": 91, \"5\": 115, \"13\": 63, \"6\": 35, \"2\": 24, \"10\": 10, \"7\": 11, \"4\": 1, \"0\": 1}, \"1\": {\"14\": 210, \"1\": 808, \"10\": 32, \"4\": 108, \"8\": 6, \"0\": 25, \"7\": 11}}, \"ORACLE.run1_44\": {\"12\": {\"12\": 968, \"10\": 52, \"1\": 171, \"3\": 8, \"2\": 1}, \"7\": {\"9\": 197, \"2\": 155, \"7\": 807, \"6\": 31, \"13\": 8, \"1\": 2}, \"5\": {\"5\": 1019, \"14\": 32, \"15\": 39, \"0\": 93, \"8\": 16, \"4\": 1}, \"15\": {\"15\": 1025, \"5\": 20, \"0\": 80, \"14\": 62, \"8\": 10, \"4\": 3}, \"8\": {\"8\": 703, \"0\": 440, \"5\": 14, \"15\": 43}, \"2\": {\"2\": 950, \"7\": 144, \"3\": 2, \"10\": 64, \"1\": 37, \"6\": 1, \"12\": 1, \"9\": 1}, \"13\": {\"13\": 807, \"9\": 123, \"11\": 34, \"6\": 226, \"4\": 5, \"7\": 5}, \"4\": {\"4\": 894, \"14\": 290, \"15\": 14, \"13\": 1, \"5\": 1}, \"0\": {\"0\": 753, \"5\": 54, \"8\": 347, \"15\": 46}, \"6\": {\"13\": 176, \"6\": 892, \"7\": 28, \"9\": 92, \"11\": 11, \"2\": 1}, \"9\": {\"13\": 116, \"9\": 694, \"7\": 279, \"6\": 104, \"2\": 7}, \"11\": {\"11\": 1143, \"13\": 46, \"6\": 10, \"9\": 1}, \"10\": {\"10\": 930, \"2\": 89, \"12\": 82, \"1\": 99}, \"14\": {\"14\": 793, \"4\": 301, \"15\": 83, \"5\": 22, \"0\": 1}, \"1\": {\"10\": 92, \"1\": 745, \"12\": 184, \"3\": 129, \"2\": 50}, \"3\": {\"3\": 1071, \"2\": 1, \"12\": 16, \"1\": 111, \"7\": 1}}}, \"per_domain_accuracy\": {\"ORACLE.run2_14\": {\"accuracy\": 0.8278125, \"source?\": true}, \"ORACLE.run2_20\": {\"accuracy\": 0.6675, \"source?\": true}, \"ORACLE.run2_38\": {\"accuracy\": 0.7073958333333333, \"source?\": true}, \"ORACLE.run2_8\": {\"accuracy\": 0.7292708333333333, \"source?\": true}, \"ORACLE.run2_50\": {\"accuracy\": 0.8143229166666667, \"source?\": true}, \"ORACLE.run2_32\": {\"accuracy\": 0.7989583333333333, \"source?\": true}, \"ORACLE.run2_26\": {\"accuracy\": 0.5776041666666667, \"source?\": true}, \"ORACLE.run2_44\": {\"accuracy\": 0.7600520833333333, \"source?\": true}, \"ORACLE.run1_14\": {\"accuracy\": 0.8222916666666666, \"source?\": false}, \"ORACLE.run1_20\": {\"accuracy\": 0.6931770833333334, \"source?\": false}, \"ORACLE.run1_38\": {\"accuracy\": 0.8018229166666667, \"source?\": false}, \"ORACLE.run1_8\": {\"accuracy\": 0.72203125, \"source?\": false}, \"ORACLE.run1_50\": {\"accuracy\": 0.7905208333333333, \"source?\": false}, \"ORACLE.run1_32\": {\"accuracy\": 0.7758333333333334, \"source?\": false}, \"ORACLE.run1_26\": {\"accuracy\": 0.5663020833333333, \"source?\": false}, \"ORACLE.run1_44\": {\"accuracy\": 0.7392708333333333, \"source?\": false}}}, \"history\": {\"epoch_indices\": [1, 2, 3, 4, 5, 6, 7, 8], \"train_label_loss\": [1.0814796891294065, 0.8538590916827143, 0.720292348091801, 0.6284436009879711, 0.5686567412270233, 0.5211614753682876, 0.4799529450577462, 0.4405089272935653], \"source_val_label_loss\": [0.9785605072975159, 0.8378630876541138, 0.7636809349060059, 0.7422876954078674, 0.7425562143325806, 0.740851104259491, 0.753183126449585, 0.7899082899093628], \"target_val_label_loss\": [0.9437694549560547, 0.8005828261375427, 0.7410774230957031, 0.7227596044540405, 0.7349846363067627, 0.7366111278533936, 0.7464133501052856, 0.8017812967300415], \"source_val_acc_label\": [0.6414192708333334, 0.6944010416666667, 0.7228255208333333, 0.7353645833333333, 0.7398828125, 0.7391666666666666, 0.7276041666666667, 0.7256119791666666], \"target_val_acc_label\": [0.6521158854166667, 0.7037174479166667, 0.72603515625, 0.73890625, 0.740078125, 0.7388802083333333, 0.7273502604166666, 0.7208463541666666]}, \"dataset_metrics\": {\"source\": {\"train\": {\"n_unique_x\": 896000, \"n_unique_y\": 16, \"n_batch/episode\": 33600}, \"val\": {\"n_unique_x\": 192000, \"n_unique_y\": 16, \"n_batch/episode\": 4800}, \"test\": {\"n_unique_x\": 192000, \"n_unique_y\": 16, \"n_batch/episode\": 4800}}, \"target\": {\"train\": {\"n_unique_x\": 896000, \"n_unique_y\": 16, \"n_batch/episode\": 33600}, \"val\": {\"n_unique_x\": 192000, \"n_unique_y\": 16, \"n_batch/episode\": 4800}, \"test\": {\"n_unique_x\": 192000, \"n_unique_y\": 16, \"n_batch/episode\": 4800}}}}'"
      ]
     },
     "execution_count": 29,
     "metadata": {},
     "output_type": "execute_result"
    }
   ],
   "source": [
    "json.dumps(experiment)"
   ]
  }
 ],
 "metadata": {
  "celltoolbar": "Tags",
  "kernelspec": {
   "display_name": "Python 3 (ipykernel)",
   "language": "python",
   "name": "python3"
  },
  "language_info": {
   "codemirror_mode": {
    "name": "ipython",
    "version": 3
   },
   "file_extension": ".py",
   "mimetype": "text/x-python",
   "name": "python",
   "nbconvert_exporter": "python",
   "pygments_lexer": "ipython3",
   "version": "3.8.10"
  },
  "papermill": {
   "default_parameters": {},
   "duration": 8013.698144,
   "end_time": "2022-03-10T16:17:28.680931",
   "environment_variables": {},
   "exception": null,
   "input_path": "/mnt/wd500GB/CSC500/csc500-main/csc500-notebooks/templates/tl_ptn_template.ipynb",
   "output_path": "trial.ipynb",
   "parameters": {
    "parameters": {
     "BEST_MODEL_PATH": "./best_model.pth",
     "NUM_LOGS_PER_EPOCH": 10,
     "criteria_for_best": "target_loss",
     "dataset_seed": 1337,
     "datasets": [
      {
       "domain_prefix": "ORACLE.run1_",
       "domains": [
        32,
        38,
        8,
        44,
        14,
        50,
        20,
        26
       ],
       "episode_transforms": [],
       "labels": [
        "3123D52",
        "3123D65",
        "3123D79",
        "3123D80",
        "3123D54",
        "3123D70",
        "3123D7B",
        "3123D89",
        "3123D58",
        "3123D76",
        "3123D7D",
        "3123EFE",
        "3123D64",
        "3123D78",
        "3123D7E",
        "3124E4A"
       ],
       "num_examples_per_domain_per_label": 10000,
       "pickle_path": "/mnt/wd500GB/CSC500/csc500-main/datasets/oracle.Run1_10kExamples_stratified_ds.2022A.pkl",
       "source_or_target_dataset": "target",
       "x_transforms": [
        "unit_power"
       ]
      },
      {
       "domain_prefix": "ORACLE.run2_",
       "domains": [
        32,
        38,
        8,
        44,
        14,
        50,
        20,
        26
       ],
       "episode_transforms": [],
       "labels": [
        "3123D52",
        "3123D65",
        "3123D79",
        "3123D80",
        "3123D54",
        "3123D70",
        "3123D7B",
        "3123D89",
        "3123D58",
        "3123D76",
        "3123D7D",
        "3123EFE",
        "3123D64",
        "3123D78",
        "3123D7E",
        "3124E4A"
       ],
       "num_examples_per_domain_per_label": 10000,
       "pickle_path": "/mnt/wd500GB/CSC500/csc500-main/datasets/oracle.Run2_10kExamples_stratified_ds.2022A.pkl",
       "source_or_target_dataset": "source",
       "x_transforms": [
        "unit_power"
       ]
      }
     ],
     "device": "cuda",
     "experiment_name": "tl_1_oracle.run1-oracle.run2",
     "lr": 0.001,
     "n_epoch": 50,
     "n_query": 2,
     "n_shot": 3,
     "n_way": 16,
     "patience": 3,
     "seed": 1337,
     "test_k_factor": 2,
     "torch_default_dtype": "torch.float32",
     "train_k_factor": 3,
     "val_k_factor": 2,
     "x_net": [
      {
       "class": "nnReshape",
       "kargs": {
        "shape": [
         -1,
         1,
         2,
         256
        ]
       }
      },
      {
       "class": "Conv2d",
       "kargs": {
        "bias": false,
        "in_channels": 1,
        "kernel_size": [
         1,
         7
        ],
        "out_channels": 256,
        "padding": [
         0,
         3
        ]
       }
      },
      {
       "class": "ReLU",
       "kargs": {
        "inplace": true
       }
      },
      {
       "class": "BatchNorm2d",
       "kargs": {
        "num_features": 256
       }
      },
      {
       "class": "Conv2d",
       "kargs": {
        "bias": true,
        "in_channels": 256,
        "kernel_size": [
         2,
         7
        ],
        "out_channels": 80,
        "padding": [
         0,
         3
        ]
       }
      },
      {
       "class": "ReLU",
       "kargs": {
        "inplace": true
       }
      },
      {
       "class": "BatchNorm2d",
       "kargs": {
        "num_features": 80
       }
      },
      {
       "class": "Flatten",
       "kargs": {}
      },
      {
       "class": "Linear",
       "kargs": {
        "in_features": 20480,
        "out_features": 256
       }
      },
      {
       "class": "ReLU",
       "kargs": {
        "inplace": true
       }
      },
      {
       "class": "BatchNorm1d",
       "kargs": {
        "num_features": 256
       }
      },
      {
       "class": "Linear",
       "kargs": {
        "in_features": 256,
        "out_features": 256
       }
      }
     ]
    }
   },
   "start_time": "2022-03-10T14:03:54.982787",
   "version": "2.3.4"
  }
 },
 "nbformat": 4,
 "nbformat_minor": 5
}