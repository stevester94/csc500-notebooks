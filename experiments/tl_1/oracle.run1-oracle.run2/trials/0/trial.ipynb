{
 "cells": [
  {
   "cell_type": "markdown",
   "id": "9fea5f46",
   "metadata": {
    "papermill": {
     "duration": 0.016313,
     "end_time": "2022-03-10T06:45:24.501222",
     "exception": false,
     "start_time": "2022-03-10T06:45:24.484909",
     "status": "completed"
    },
    "tags": []
   },
   "source": [
    "# Transfer Learning Template"
   ]
  },
  {
   "cell_type": "code",
   "execution_count": 1,
   "id": "0902182a",
   "metadata": {
    "execution": {
     "iopub.execute_input": "2022-03-10T06:45:24.541645Z",
     "iopub.status.busy": "2022-03-10T06:45:24.541212Z",
     "iopub.status.idle": "2022-03-10T06:45:26.557902Z",
     "shell.execute_reply": "2022-03-10T06:45:26.558294Z"
    },
    "papermill": {
     "duration": 2.044657,
     "end_time": "2022-03-10T06:45:26.558494",
     "exception": false,
     "start_time": "2022-03-10T06:45:24.513837",
     "status": "completed"
    },
    "tags": []
   },
   "outputs": [],
   "source": [
    "%load_ext autoreload\n",
    "%autoreload 2\n",
    "%matplotlib inline\n",
    "\n",
    "    \n",
    "import os, json, sys, time, random\n",
    "import numpy as np\n",
    "import torch\n",
    "from torch.optim import Adam\n",
    "from  easydict import EasyDict\n",
    "import matplotlib.pyplot as plt\n",
    "\n",
    "from steves_models.steves_ptn import Steves_Prototypical_Network\n",
    "\n",
    "from steves_utils.lazy_iterable_wrapper import Lazy_Iterable_Wrapper\n",
    "from steves_utils.iterable_aggregator import Iterable_Aggregator\n",
    "from steves_utils.ptn_train_eval_test_jig import  PTN_Train_Eval_Test_Jig\n",
    "from steves_utils.torch_sequential_builder import build_sequential\n",
    "from steves_utils.torch_utils import get_dataset_metrics, ptn_confusion_by_domain_over_dataloader\n",
    "from steves_utils.utils_v2 import (per_domain_accuracy_from_confusion, get_datasets_base_path)\n",
    "from steves_utils.PTN.utils import independent_accuracy_assesment\n",
    "\n",
    "from torch.utils.data import DataLoader\n",
    "\n",
    "from steves_utils.stratified_dataset.episodic_accessor import Episodic_Accessor_Factory\n",
    "\n",
    "from steves_utils.ptn_do_report import (\n",
    "    get_loss_curve,\n",
    "    get_results_table,\n",
    "    get_parameters_table,\n",
    "    get_domain_accuracies,\n",
    ")\n",
    "\n",
    "from steves_utils.transforms import get_chained_transform"
   ]
  },
  {
   "cell_type": "markdown",
   "id": "41c840b4",
   "metadata": {
    "papermill": {
     "duration": 0.012714,
     "end_time": "2022-03-10T06:45:26.588614",
     "exception": false,
     "start_time": "2022-03-10T06:45:26.575900",
     "status": "completed"
    },
    "tags": []
   },
   "source": [
    "# Allowed Parameters\n",
    "These are allowed parameters, not defaults\n",
    "Each of these values need to be present in the injected parameters (the notebook will raise an exception if they are not present)\n",
    "\n",
    "Papermill uses the cell tag \"parameters\" to inject the real parameters below this cell.\n",
    "Enable tags to see what I mean"
   ]
  },
  {
   "cell_type": "code",
   "execution_count": 2,
   "id": "fd44eb83",
   "metadata": {
    "execution": {
     "iopub.execute_input": "2022-03-10T06:45:26.616864Z",
     "iopub.status.busy": "2022-03-10T06:45:26.616598Z",
     "iopub.status.idle": "2022-03-10T06:45:26.631820Z",
     "shell.execute_reply": "2022-03-10T06:45:26.631353Z"
    },
    "papermill": {
     "duration": 0.030887,
     "end_time": "2022-03-10T06:45:26.631926",
     "exception": false,
     "start_time": "2022-03-10T06:45:26.601039",
     "status": "completed"
    },
    "tags": []
   },
   "outputs": [],
   "source": [
    "required_parameters = {\n",
    "    \"experiment_name\",\n",
    "    \"lr\",\n",
    "    \"device\",\n",
    "    \"seed\",\n",
    "    \"dataset_seed\",\n",
    "    \"n_shot\",\n",
    "    \"n_query\",\n",
    "    \"n_way\",\n",
    "    \"train_k_factor\",\n",
    "    \"val_k_factor\",\n",
    "    \"test_k_factor\",\n",
    "    \"n_epoch\",\n",
    "    \"patience\",\n",
    "    \"criteria_for_best\",\n",
    "    \"x_net\",\n",
    "    \"datasets\",\n",
    "    \"torch_default_dtype\",\n",
    "    \"NUM_LOGS_PER_EPOCH\",\n",
    "    \"BEST_MODEL_PATH\",\n",
    "}"
   ]
  },
  {
   "cell_type": "code",
   "execution_count": 3,
   "id": "fa3f0049",
   "metadata": {
    "execution": {
     "iopub.execute_input": "2022-03-10T06:45:26.670704Z",
     "iopub.status.busy": "2022-03-10T06:45:26.670406Z",
     "iopub.status.idle": "2022-03-10T06:45:26.686879Z",
     "shell.execute_reply": "2022-03-10T06:45:26.686450Z"
    },
    "papermill": {
     "duration": 0.036817,
     "end_time": "2022-03-10T06:45:26.686981",
     "exception": false,
     "start_time": "2022-03-10T06:45:26.650164",
     "status": "completed"
    },
    "tags": [
     "parameters"
    ]
   },
   "outputs": [],
   "source": [
    "from steves_utils.CORES.utils import (\n",
    "    ALL_NODES,\n",
    "    ALL_NODES_MINIMUM_1000_EXAMPLES,\n",
    "    ALL_DAYS\n",
    ")\n",
    "\n",
    "from steves_utils.ORACLE.utils_v2 import (\n",
    "    ALL_DISTANCES_FEET_NARROWED,\n",
    "    ALL_RUNS,\n",
    "    ALL_SERIAL_NUMBERS,\n",
    ")\n",
    "\n",
    "standalone_parameters = {}\n",
    "standalone_parameters[\"experiment_name\"] = \"STANDALONE PTN\"\n",
    "standalone_parameters[\"lr\"] = 0.001\n",
    "standalone_parameters[\"device\"] = \"cuda\"\n",
    "\n",
    "standalone_parameters[\"seed\"] = 1337\n",
    "standalone_parameters[\"dataset_seed\"] = 1337\n",
    "\n",
    "standalone_parameters[\"n_way\"] = 8\n",
    "standalone_parameters[\"n_shot\"] = 3\n",
    "standalone_parameters[\"n_query\"]  = 2\n",
    "standalone_parameters[\"train_k_factor\"] = 1\n",
    "standalone_parameters[\"val_k_factor\"] = 2\n",
    "standalone_parameters[\"test_k_factor\"] = 2\n",
    "\n",
    "\n",
    "standalone_parameters[\"n_epoch\"] = 50\n",
    "\n",
    "standalone_parameters[\"patience\"] = 10\n",
    "standalone_parameters[\"criteria_for_best\"] = \"source_loss\"\n",
    "\n",
    "standalone_parameters[\"datasets\"] = [\n",
    "    {\n",
    "        \"labels\": ALL_SERIAL_NUMBERS,\n",
    "        \"domains\": ALL_DISTANCES_FEET_NARROWED,\n",
    "        \"num_examples_per_domain_per_label\": 100,\n",
    "        \"pickle_path\": os.path.join(get_datasets_base_path(), \"oracle.Run1_framed_2000Examples_stratified_ds.2022A.pkl\"),\n",
    "        \"source_or_target_dataset\": \"source\",\n",
    "        \"x_transforms\": [\"unit_mag\", \"minus_two\"],\n",
    "        \"episode_transforms\": [],\n",
    "        \"domain_prefix\": \"ORACLE_\"\n",
    "    },\n",
    "    {\n",
    "        \"labels\": ALL_NODES,\n",
    "        \"domains\": ALL_DAYS,\n",
    "        \"num_examples_per_domain_per_label\": 100,\n",
    "        \"pickle_path\": os.path.join(get_datasets_base_path(), \"cores.stratified_ds.2022A.pkl\"),\n",
    "        \"source_or_target_dataset\": \"target\",\n",
    "        \"x_transforms\": [\"unit_power\", \"times_zero\"],\n",
    "        \"episode_transforms\": [],\n",
    "        \"domain_prefix\": \"CORES_\"\n",
    "    }   \n",
    "]\n",
    "\n",
    "standalone_parameters[\"torch_default_dtype\"] = \"torch.float32\" \n",
    "\n",
    "\n",
    "\n",
    "standalone_parameters[\"x_net\"] =     [\n",
    "    {\"class\": \"nnReshape\", \"kargs\": {\"shape\":[-1, 1, 2, 256]}},\n",
    "    {\"class\": \"Conv2d\", \"kargs\": { \"in_channels\":1, \"out_channels\":256, \"kernel_size\":(1,7), \"bias\":False, \"padding\":(0,3), },},\n",
    "    {\"class\": \"ReLU\", \"kargs\": {\"inplace\": True}},\n",
    "    {\"class\": \"BatchNorm2d\", \"kargs\": {\"num_features\":256}},\n",
    "\n",
    "    {\"class\": \"Conv2d\", \"kargs\": { \"in_channels\":256, \"out_channels\":80, \"kernel_size\":(2,7), \"bias\":True, \"padding\":(0,3), },},\n",
    "    {\"class\": \"ReLU\", \"kargs\": {\"inplace\": True}},\n",
    "    {\"class\": \"BatchNorm2d\", \"kargs\": {\"num_features\":80}},\n",
    "    {\"class\": \"Flatten\", \"kargs\": {}},\n",
    "\n",
    "    {\"class\": \"Linear\", \"kargs\": {\"in_features\": 80*256, \"out_features\": 256}}, # 80 units per IQ pair\n",
    "    {\"class\": \"ReLU\", \"kargs\": {\"inplace\": True}},\n",
    "    {\"class\": \"BatchNorm1d\", \"kargs\": {\"num_features\":256}},\n",
    "\n",
    "    {\"class\": \"Linear\", \"kargs\": {\"in_features\": 256, \"out_features\": 256}},\n",
    "]\n",
    "\n",
    "# Parameters relevant to results\n",
    "# These parameters will basically never need to change\n",
    "standalone_parameters[\"NUM_LOGS_PER_EPOCH\"] = 10\n",
    "standalone_parameters[\"BEST_MODEL_PATH\"] = \"./best_model.pth\"\n",
    "\n",
    "\n",
    "\n",
    "\n"
   ]
  },
  {
   "cell_type": "code",
   "execution_count": 4,
   "id": "24ee05ff",
   "metadata": {
    "execution": {
     "iopub.execute_input": "2022-03-10T06:45:26.724898Z",
     "iopub.status.busy": "2022-03-10T06:45:26.717860Z",
     "iopub.status.idle": "2022-03-10T06:45:26.737828Z",
     "shell.execute_reply": "2022-03-10T06:45:26.738351Z"
    },
    "papermill": {
     "duration": 0.03488,
     "end_time": "2022-03-10T06:45:26.738505",
     "exception": false,
     "start_time": "2022-03-10T06:45:26.703625",
     "status": "completed"
    },
    "tags": [
     "injected-parameters"
    ]
   },
   "outputs": [],
   "source": [
    "# Parameters\n",
    "parameters = {\n",
    "    \"experiment_name\": \"tl_1_oracle.run1-oracle.run2\",\n",
    "    \"device\": \"cuda\",\n",
    "    \"lr\": 0.001,\n",
    "    \"seed\": 1337,\n",
    "    \"dataset_seed\": 1337,\n",
    "    \"n_shot\": 3,\n",
    "    \"n_query\": 2,\n",
    "    \"train_k_factor\": 3,\n",
    "    \"val_k_factor\": 2,\n",
    "    \"test_k_factor\": 2,\n",
    "    \"torch_default_dtype\": \"torch.float32\",\n",
    "    \"n_epoch\": 50,\n",
    "    \"patience\": 3,\n",
    "    \"criteria_for_best\": \"target_loss\",\n",
    "    \"x_net\": [\n",
    "        {\"class\": \"nnReshape\", \"kargs\": {\"shape\": [-1, 1, 2, 256]}},\n",
    "        {\n",
    "            \"class\": \"Conv2d\",\n",
    "            \"kargs\": {\n",
    "                \"in_channels\": 1,\n",
    "                \"out_channels\": 256,\n",
    "                \"kernel_size\": [1, 7],\n",
    "                \"bias\": False,\n",
    "                \"padding\": [0, 3],\n",
    "            },\n",
    "        },\n",
    "        {\"class\": \"ReLU\", \"kargs\": {\"inplace\": True}},\n",
    "        {\"class\": \"BatchNorm2d\", \"kargs\": {\"num_features\": 256}},\n",
    "        {\n",
    "            \"class\": \"Conv2d\",\n",
    "            \"kargs\": {\n",
    "                \"in_channels\": 256,\n",
    "                \"out_channels\": 80,\n",
    "                \"kernel_size\": [2, 7],\n",
    "                \"bias\": True,\n",
    "                \"padding\": [0, 3],\n",
    "            },\n",
    "        },\n",
    "        {\"class\": \"ReLU\", \"kargs\": {\"inplace\": True}},\n",
    "        {\"class\": \"BatchNorm2d\", \"kargs\": {\"num_features\": 80}},\n",
    "        {\"class\": \"Flatten\", \"kargs\": {}},\n",
    "        {\"class\": \"Linear\", \"kargs\": {\"in_features\": 20480, \"out_features\": 256}},\n",
    "        {\"class\": \"ReLU\", \"kargs\": {\"inplace\": True}},\n",
    "        {\"class\": \"BatchNorm1d\", \"kargs\": {\"num_features\": 256}},\n",
    "        {\"class\": \"Linear\", \"kargs\": {\"in_features\": 256, \"out_features\": 256}},\n",
    "    ],\n",
    "    \"NUM_LOGS_PER_EPOCH\": 10,\n",
    "    \"BEST_MODEL_PATH\": \"./best_model.pth\",\n",
    "    \"n_way\": 16,\n",
    "    \"datasets\": [\n",
    "        {\n",
    "            \"labels\": [\n",
    "                \"3123D52\",\n",
    "                \"3123D65\",\n",
    "                \"3123D79\",\n",
    "                \"3123D80\",\n",
    "                \"3123D54\",\n",
    "                \"3123D70\",\n",
    "                \"3123D7B\",\n",
    "                \"3123D89\",\n",
    "                \"3123D58\",\n",
    "                \"3123D76\",\n",
    "                \"3123D7D\",\n",
    "                \"3123EFE\",\n",
    "                \"3123D64\",\n",
    "                \"3123D78\",\n",
    "                \"3123D7E\",\n",
    "                \"3124E4A\",\n",
    "            ],\n",
    "            \"domains\": [32, 38, 8, 44, 14, 50, 20, 26],\n",
    "            \"num_examples_per_domain_per_label\": 10000,\n",
    "            \"pickle_path\": \"/mnt/wd500GB/CSC500/csc500-main/datasets/oracle.Run1_10kExamples_stratified_ds.2022A.pkl\",\n",
    "            \"source_or_target_dataset\": \"source\",\n",
    "            \"x_transforms\": [\"unit_power\"],\n",
    "            \"episode_transforms\": [],\n",
    "            \"domain_prefix\": \"ORACLE.run1_\",\n",
    "        },\n",
    "        {\n",
    "            \"labels\": [\n",
    "                \"3123D52\",\n",
    "                \"3123D65\",\n",
    "                \"3123D79\",\n",
    "                \"3123D80\",\n",
    "                \"3123D54\",\n",
    "                \"3123D70\",\n",
    "                \"3123D7B\",\n",
    "                \"3123D89\",\n",
    "                \"3123D58\",\n",
    "                \"3123D76\",\n",
    "                \"3123D7D\",\n",
    "                \"3123EFE\",\n",
    "                \"3123D64\",\n",
    "                \"3123D78\",\n",
    "                \"3123D7E\",\n",
    "                \"3124E4A\",\n",
    "            ],\n",
    "            \"domains\": [32, 38, 8, 44, 14, 50, 20, 26],\n",
    "            \"num_examples_per_domain_per_label\": 10000,\n",
    "            \"pickle_path\": \"/mnt/wd500GB/CSC500/csc500-main/datasets/oracle.Run2_10kExamples_stratified_ds.2022A.pkl\",\n",
    "            \"source_or_target_dataset\": \"target\",\n",
    "            \"x_transforms\": [\"unit_power\"],\n",
    "            \"episode_transforms\": [],\n",
    "            \"domain_prefix\": \"ORACLE.run2_\",\n",
    "        },\n",
    "    ],\n",
    "}\n"
   ]
  },
  {
   "cell_type": "code",
   "execution_count": 5,
   "id": "8fa1cc33",
   "metadata": {
    "execution": {
     "iopub.execute_input": "2022-03-10T06:45:26.770134Z",
     "iopub.status.busy": "2022-03-10T06:45:26.769873Z",
     "iopub.status.idle": "2022-03-10T06:45:26.784790Z",
     "shell.execute_reply": "2022-03-10T06:45:26.785169Z"
    },
    "papermill": {
     "duration": 0.031911,
     "end_time": "2022-03-10T06:45:26.785292",
     "exception": false,
     "start_time": "2022-03-10T06:45:26.753381",
     "status": "completed"
    },
    "tags": []
   },
   "outputs": [],
   "source": [
    "# Set this to True if you want to run this template directly\n",
    "STANDALONE = False\n",
    "if STANDALONE:\n",
    "    print(\"parameters not injected, running with standalone_parameters\")\n",
    "    parameters = standalone_parameters\n",
    "\n",
    "if not 'parameters' in locals() and not 'parameters' in globals():\n",
    "    raise Exception(\"Parameter injection failed\")\n",
    "\n",
    "#Use an easy dict for all the parameters\n",
    "p = EasyDict(parameters)\n",
    "\n",
    "supplied_keys = set(p.keys())\n",
    "\n",
    "if  supplied_keys != required_parameters:\n",
    "    print(\"Parameters are incorrect\")\n",
    "    if len(supplied_keys - required_parameters)>0: print(\"Shouldn't have:\", str(supplied_keys - required_parameters))\n",
    "    if len(required_parameters - supplied_keys)>0: print(\"Need to have:\", str(required_parameters - supplied_keys))\n",
    "    raise RuntimeError(\"Parameters are incorrect\")\n",
    "\n"
   ]
  },
  {
   "cell_type": "code",
   "execution_count": 6,
   "id": "3a028d58",
   "metadata": {
    "execution": {
     "iopub.execute_input": "2022-03-10T06:45:26.818599Z",
     "iopub.status.busy": "2022-03-10T06:45:26.818341Z",
     "iopub.status.idle": "2022-03-10T06:45:26.831156Z",
     "shell.execute_reply": "2022-03-10T06:45:26.831611Z"
    },
    "papermill": {
     "duration": 0.028761,
     "end_time": "2022-03-10T06:45:26.831744",
     "exception": false,
     "start_time": "2022-03-10T06:45:26.802983",
     "status": "completed"
    },
    "tags": []
   },
   "outputs": [],
   "source": [
    "###################################\n",
    "# Set the RNGs and make it all deterministic\n",
    "###################################\n",
    "np.random.seed(p.seed)\n",
    "random.seed(p.seed)\n",
    "torch.manual_seed(p.seed)\n",
    "\n",
    "torch.use_deterministic_algorithms(True) "
   ]
  },
  {
   "cell_type": "code",
   "execution_count": 7,
   "id": "b691acf6",
   "metadata": {
    "execution": {
     "iopub.execute_input": "2022-03-10T06:45:26.863342Z",
     "iopub.status.busy": "2022-03-10T06:45:26.863089Z",
     "iopub.status.idle": "2022-03-10T06:45:26.877636Z",
     "shell.execute_reply": "2022-03-10T06:45:26.877935Z"
    },
    "papermill": {
     "duration": 0.030046,
     "end_time": "2022-03-10T06:45:26.878034",
     "exception": false,
     "start_time": "2022-03-10T06:45:26.847988",
     "status": "completed"
    },
    "tags": []
   },
   "outputs": [],
   "source": [
    "###########################################\n",
    "# The stratified datasets honor this\n",
    "###########################################\n",
    "torch.set_default_dtype(eval(p.torch_default_dtype))"
   ]
  },
  {
   "cell_type": "code",
   "execution_count": 8,
   "id": "b5fba671",
   "metadata": {
    "execution": {
     "iopub.execute_input": "2022-03-10T06:45:26.908719Z",
     "iopub.status.busy": "2022-03-10T06:45:26.908473Z",
     "iopub.status.idle": "2022-03-10T06:45:26.943380Z",
     "shell.execute_reply": "2022-03-10T06:45:26.943806Z"
    },
    "papermill": {
     "duration": 0.049322,
     "end_time": "2022-03-10T06:45:26.943927",
     "exception": false,
     "start_time": "2022-03-10T06:45:26.894605",
     "status": "completed"
    },
    "tags": []
   },
   "outputs": [],
   "source": [
    "###################################\n",
    "# Build the network(s)\n",
    "# Note: It's critical to do this AFTER setting the RNG\n",
    "###################################\n",
    "x_net = build_sequential(p.x_net)"
   ]
  },
  {
   "cell_type": "code",
   "execution_count": 9,
   "id": "5d7e61cc",
   "metadata": {
    "execution": {
     "iopub.execute_input": "2022-03-10T06:45:26.977827Z",
     "iopub.status.busy": "2022-03-10T06:45:26.977579Z",
     "iopub.status.idle": "2022-03-10T06:45:26.993252Z",
     "shell.execute_reply": "2022-03-10T06:45:26.992796Z"
    },
    "papermill": {
     "duration": 0.030649,
     "end_time": "2022-03-10T06:45:26.993378",
     "exception": false,
     "start_time": "2022-03-10T06:45:26.962729",
     "status": "completed"
    },
    "tags": []
   },
   "outputs": [],
   "source": [
    "start_time_secs = time.time()"
   ]
  },
  {
   "cell_type": "code",
   "execution_count": 10,
   "id": "c6b67dfd",
   "metadata": {
    "execution": {
     "iopub.execute_input": "2022-03-10T06:45:27.024503Z",
     "iopub.status.busy": "2022-03-10T06:45:27.024238Z",
     "iopub.status.idle": "2022-03-10T06:45:27.037472Z",
     "shell.execute_reply": "2022-03-10T06:45:27.037768Z"
    },
    "papermill": {
     "duration": 0.028847,
     "end_time": "2022-03-10T06:45:27.037853",
     "exception": false,
     "start_time": "2022-03-10T06:45:27.009006",
     "status": "completed"
    },
    "tags": []
   },
   "outputs": [],
   "source": [
    "p.domains_source = []\n",
    "p.domains_target = []\n",
    "\n",
    "\n",
    "train_original_source = []\n",
    "val_original_source   = []\n",
    "test_original_source  = []\n",
    "\n",
    "train_original_target = []\n",
    "val_original_target   = []\n",
    "test_original_target  = []"
   ]
  },
  {
   "cell_type": "code",
   "execution_count": 11,
   "id": "e3d9c3d3",
   "metadata": {
    "execution": {
     "iopub.execute_input": "2022-03-10T06:45:27.070106Z",
     "iopub.status.busy": "2022-03-10T06:45:27.069852Z",
     "iopub.status.idle": "2022-03-10T06:45:27.083833Z",
     "shell.execute_reply": "2022-03-10T06:45:27.084221Z"
    },
    "papermill": {
     "duration": 0.030402,
     "end_time": "2022-03-10T06:45:27.084353",
     "exception": false,
     "start_time": "2022-03-10T06:45:27.053951",
     "status": "completed"
    },
    "tags": []
   },
   "outputs": [],
   "source": [
    "# global_x_transform_func = lambda x: normalize(x.to(torch.get_default_dtype()), \"unit_power\") # unit_power, unit_mag\n",
    "# global_x_transform_func = lambda x: normalize(x, \"unit_power\") # unit_power, unit_mag"
   ]
  },
  {
   "cell_type": "code",
   "execution_count": 12,
   "id": "acb78fd2",
   "metadata": {
    "execution": {
     "iopub.execute_input": "2022-03-10T06:45:27.122498Z",
     "iopub.status.busy": "2022-03-10T06:45:27.118485Z",
     "iopub.status.idle": "2022-03-10T06:45:27.134955Z",
     "shell.execute_reply": "2022-03-10T06:45:27.135481Z"
    },
    "papermill": {
     "duration": 0.032242,
     "end_time": "2022-03-10T06:45:27.135651",
     "exception": false,
     "start_time": "2022-03-10T06:45:27.103409",
     "status": "completed"
    },
    "tags": []
   },
   "outputs": [],
   "source": [
    "def add_dataset(\n",
    "    labels,\n",
    "    domains,\n",
    "    pickle_path,\n",
    "    x_transforms,\n",
    "    episode_transforms,\n",
    "    domain_prefix,\n",
    "    num_examples_per_domain_per_label,\n",
    "    source_or_target_dataset:str,\n",
    "    iterator_seed=p.seed,\n",
    "    dataset_seed=p.dataset_seed,\n",
    "    n_shot=p.n_shot,\n",
    "    n_way=p.n_way,\n",
    "    n_query=p.n_query,\n",
    "    train_val_test_k_factors=(p.train_k_factor,p.val_k_factor,p.test_k_factor),\n",
    "):\n",
    "   \n",
    "    if x_transforms == []: x_transform = None\n",
    "    else: x_transform = get_chained_transform(x_transforms)\n",
    "    \n",
    "    if episode_transforms == []: episode_transform = None\n",
    "    else: raise Exception(\"episode_transforms not implemented\")\n",
    "    \n",
    "    episode_transform = lambda tup, _prefix=domain_prefix: (_prefix + str(tup[0]), tup[1])\n",
    "\n",
    "\n",
    "    eaf = Episodic_Accessor_Factory(\n",
    "        labels=labels,\n",
    "        domains=domains,\n",
    "        num_examples_per_domain_per_label=num_examples_per_domain_per_label,\n",
    "        iterator_seed=iterator_seed,\n",
    "        dataset_seed=dataset_seed,\n",
    "        n_shot=n_shot,\n",
    "        n_way=n_way,\n",
    "        n_query=n_query,\n",
    "        train_val_test_k_factors=train_val_test_k_factors,\n",
    "        pickle_path=pickle_path,\n",
    "        x_transform_func=x_transform,\n",
    "    )\n",
    "\n",
    "    train, val, test = eaf.get_train(), eaf.get_val(), eaf.get_test()\n",
    "    train = Lazy_Iterable_Wrapper(train, episode_transform)\n",
    "    val = Lazy_Iterable_Wrapper(val, episode_transform)\n",
    "    test = Lazy_Iterable_Wrapper(test, episode_transform)\n",
    "\n",
    "    if source_or_target_dataset==\"source\":\n",
    "        train_original_source.append(train)\n",
    "        val_original_source.append(val)\n",
    "        test_original_source.append(test)\n",
    "\n",
    "        p.domains_source.extend(\n",
    "            [domain_prefix + str(u) for u in domains]\n",
    "        )\n",
    "    elif source_or_target_dataset==\"target\":\n",
    "        train_original_target.append(train)\n",
    "        val_original_target.append(val)\n",
    "        test_original_target.append(test)\n",
    "        p.domains_target.extend(\n",
    "            [domain_prefix + str(u) for u in domains]\n",
    "        )\n",
    "    else:\n",
    "        raise Exception(f\"invalid source_or_target_dataset: {source_or_target_dataset}\")\n",
    "    "
   ]
  },
  {
   "cell_type": "code",
   "execution_count": 13,
   "id": "fe266617",
   "metadata": {
    "execution": {
     "iopub.execute_input": "2022-03-10T06:45:27.170259Z",
     "iopub.status.busy": "2022-03-10T06:45:27.170000Z",
     "iopub.status.idle": "2022-03-10T06:48:25.444108Z",
     "shell.execute_reply": "2022-03-10T06:48:25.443698Z"
    },
    "papermill": {
     "duration": 178.290129,
     "end_time": "2022-03-10T06:48:25.444213",
     "exception": false,
     "start_time": "2022-03-10T06:45:27.154084",
     "status": "completed"
    },
    "tags": []
   },
   "outputs": [],
   "source": [
    "for ds in p.datasets:\n",
    "    add_dataset(**ds)"
   ]
  },
  {
   "cell_type": "code",
   "execution_count": 14,
   "id": "b90d65ac",
   "metadata": {
    "execution": {
     "iopub.execute_input": "2022-03-10T06:48:25.478183Z",
     "iopub.status.busy": "2022-03-10T06:48:25.477931Z",
     "iopub.status.idle": "2022-03-10T06:48:25.493509Z",
     "shell.execute_reply": "2022-03-10T06:48:25.493108Z"
    },
    "papermill": {
     "duration": 0.030759,
     "end_time": "2022-03-10T06:48:25.493599",
     "exception": false,
     "start_time": "2022-03-10T06:48:25.462840",
     "status": "completed"
    },
    "tags": []
   },
   "outputs": [],
   "source": [
    "# from steves_utils.CORES.utils import (\n",
    "#     ALL_NODES,\n",
    "#     ALL_NODES_MINIMUM_1000_EXAMPLES,\n",
    "#     ALL_DAYS\n",
    "# )\n",
    "\n",
    "# add_dataset(\n",
    "#     labels=ALL_NODES,\n",
    "#     domains = ALL_DAYS,\n",
    "#     num_examples_per_domain_per_label=100,\n",
    "#     pickle_path=os.path.join(get_datasets_base_path(), \"cores.stratified_ds.2022A.pkl\"),\n",
    "#     source_or_target_dataset=\"target\",\n",
    "#     x_transform_func=global_x_transform_func,\n",
    "#     domain_modifier=lambda u: f\"cores_{u}\"\n",
    "# )"
   ]
  },
  {
   "cell_type": "code",
   "execution_count": 15,
   "id": "76db484d",
   "metadata": {
    "execution": {
     "iopub.execute_input": "2022-03-10T06:48:25.525951Z",
     "iopub.status.busy": "2022-03-10T06:48:25.525696Z",
     "iopub.status.idle": "2022-03-10T06:48:25.535691Z",
     "shell.execute_reply": "2022-03-10T06:48:25.535982Z"
    },
    "papermill": {
     "duration": 0.024737,
     "end_time": "2022-03-10T06:48:25.536064",
     "exception": false,
     "start_time": "2022-03-10T06:48:25.511327",
     "status": "completed"
    },
    "tags": []
   },
   "outputs": [],
   "source": [
    "# from steves_utils.ORACLE.utils_v2 import (\n",
    "#     ALL_DISTANCES_FEET,\n",
    "#     ALL_RUNS,\n",
    "#     ALL_SERIAL_NUMBERS,\n",
    "# )\n",
    "\n",
    "\n",
    "# add_dataset(\n",
    "#     labels=ALL_SERIAL_NUMBERS,\n",
    "#     domains = list(set(ALL_DISTANCES_FEET) - {2,62}),\n",
    "#     num_examples_per_domain_per_label=100,\n",
    "#     pickle_path=os.path.join(get_datasets_base_path(), \"oracle.Run2_framed_2000Examples_stratified_ds.2022A.pkl\"),\n",
    "#     source_or_target_dataset=\"source\",\n",
    "#     x_transform_func=global_x_transform_func,\n",
    "#     domain_modifier=lambda u: f\"oracle1_{u}\"\n",
    "# )\n"
   ]
  },
  {
   "cell_type": "code",
   "execution_count": 16,
   "id": "97dea9d2",
   "metadata": {
    "execution": {
     "iopub.execute_input": "2022-03-10T06:48:25.568861Z",
     "iopub.status.busy": "2022-03-10T06:48:25.568614Z",
     "iopub.status.idle": "2022-03-10T06:48:25.586561Z",
     "shell.execute_reply": "2022-03-10T06:48:25.586169Z"
    },
    "papermill": {
     "duration": 0.032659,
     "end_time": "2022-03-10T06:48:25.586650",
     "exception": false,
     "start_time": "2022-03-10T06:48:25.553991",
     "status": "completed"
    },
    "tags": []
   },
   "outputs": [],
   "source": [
    "# from steves_utils.ORACLE.utils_v2 import (\n",
    "#     ALL_DISTANCES_FEET,\n",
    "#     ALL_RUNS,\n",
    "#     ALL_SERIAL_NUMBERS,\n",
    "# )\n",
    "\n",
    "\n",
    "# add_dataset(\n",
    "#     labels=ALL_SERIAL_NUMBERS,\n",
    "#     domains = list(set(ALL_DISTANCES_FEET) - {2,62,56}),\n",
    "#     num_examples_per_domain_per_label=100,\n",
    "#     pickle_path=os.path.join(get_datasets_base_path(), \"oracle.Run2_framed_2000Examples_stratified_ds.2022A.pkl\"),\n",
    "#     source_or_target_dataset=\"source\",\n",
    "#     x_transform_func=global_x_transform_func,\n",
    "#     domain_modifier=lambda u: f\"oracle2_{u}\"\n",
    "# )"
   ]
  },
  {
   "cell_type": "code",
   "execution_count": 17,
   "id": "6f289866",
   "metadata": {
    "execution": {
     "iopub.execute_input": "2022-03-10T06:48:25.618921Z",
     "iopub.status.busy": "2022-03-10T06:48:25.618663Z",
     "iopub.status.idle": "2022-03-10T06:48:25.631952Z",
     "shell.execute_reply": "2022-03-10T06:48:25.631530Z"
    },
    "papermill": {
     "duration": 0.028009,
     "end_time": "2022-03-10T06:48:25.632044",
     "exception": false,
     "start_time": "2022-03-10T06:48:25.604035",
     "status": "completed"
    },
    "tags": []
   },
   "outputs": [],
   "source": [
    "# add_dataset(\n",
    "#     labels=list(range(19)),\n",
    "#     domains = [0,1,2],\n",
    "#     num_examples_per_domain_per_label=100,\n",
    "#     pickle_path=os.path.join(get_datasets_base_path(), \"metehan.stratified_ds.2022A.pkl\"),\n",
    "#     source_or_target_dataset=\"target\",\n",
    "#     x_transform_func=global_x_transform_func,\n",
    "#     domain_modifier=lambda u: f\"met_{u}\"\n",
    "# )"
   ]
  },
  {
   "cell_type": "code",
   "execution_count": 18,
   "id": "86a863c3",
   "metadata": {
    "execution": {
     "iopub.execute_input": "2022-03-10T06:48:25.665743Z",
     "iopub.status.busy": "2022-03-10T06:48:25.665498Z",
     "iopub.status.idle": "2022-03-10T06:48:25.678253Z",
     "shell.execute_reply": "2022-03-10T06:48:25.678713Z"
    },
    "papermill": {
     "duration": 0.028098,
     "end_time": "2022-03-10T06:48:25.678838",
     "exception": false,
     "start_time": "2022-03-10T06:48:25.650740",
     "status": "completed"
    },
    "tags": []
   },
   "outputs": [],
   "source": [
    "# # from steves_utils.wisig.utils import (\n",
    "# #     ALL_NODES_MINIMUM_100_EXAMPLES,\n",
    "# #     ALL_NODES_MINIMUM_500_EXAMPLES,\n",
    "# #     ALL_NODES_MINIMUM_1000_EXAMPLES,\n",
    "# #     ALL_DAYS\n",
    "# # )\n",
    "\n",
    "# import steves_utils.wisig.utils as wisig\n",
    "\n",
    "\n",
    "# add_dataset(\n",
    "#     labels=wisig.ALL_NODES_MINIMUM_100_EXAMPLES,\n",
    "#     domains = wisig.ALL_DAYS,\n",
    "#     num_examples_per_domain_per_label=100,\n",
    "#     pickle_path=os.path.join(get_datasets_base_path(), \"wisig.node3-19.stratified_ds.2022A.pkl\"),\n",
    "#     source_or_target_dataset=\"target\",\n",
    "#     x_transform_func=global_x_transform_func,\n",
    "#     domain_modifier=lambda u: f\"wisig_{u}\"\n",
    "# )"
   ]
  },
  {
   "cell_type": "code",
   "execution_count": 19,
   "id": "fd5442bc",
   "metadata": {
    "execution": {
     "iopub.execute_input": "2022-03-10T06:48:25.712236Z",
     "iopub.status.busy": "2022-03-10T06:48:25.711970Z",
     "iopub.status.idle": "2022-03-10T06:48:25.724918Z",
     "shell.execute_reply": "2022-03-10T06:48:25.724469Z"
    },
    "papermill": {
     "duration": 0.03039,
     "end_time": "2022-03-10T06:48:25.725020",
     "exception": false,
     "start_time": "2022-03-10T06:48:25.694630",
     "status": "completed"
    },
    "tags": []
   },
   "outputs": [],
   "source": [
    "###################################\n",
    "# Build the dataset\n",
    "###################################\n",
    "train_original_source = Iterable_Aggregator(train_original_source, p.seed)\n",
    "val_original_source = Iterable_Aggregator(val_original_source, p.seed)\n",
    "test_original_source = Iterable_Aggregator(test_original_source, p.seed)\n",
    "\n",
    "\n",
    "train_original_target = Iterable_Aggregator(train_original_target, p.seed)\n",
    "val_original_target = Iterable_Aggregator(val_original_target, p.seed)\n",
    "test_original_target = Iterable_Aggregator(test_original_target, p.seed)\n",
    "\n",
    "# For CNN We only use X and Y. And we only train on the source.\n",
    "# Properly form the data using a transform lambda and Lazy_Iterable_Wrapper. Finally wrap them in a dataloader\n",
    "\n",
    "transform_lambda = lambda ex: ex[1] # Original is (<domain>, <episode>) so we strip down to episode only\n",
    "\n",
    "train_processed_source = Lazy_Iterable_Wrapper(train_original_source, transform_lambda)\n",
    "val_processed_source   = Lazy_Iterable_Wrapper(val_original_source, transform_lambda)\n",
    "test_processed_source  = Lazy_Iterable_Wrapper(test_original_source, transform_lambda)\n",
    "\n",
    "train_processed_target = Lazy_Iterable_Wrapper(train_original_target, transform_lambda)\n",
    "val_processed_target   = Lazy_Iterable_Wrapper(val_original_target, transform_lambda)\n",
    "test_processed_target  = Lazy_Iterable_Wrapper(test_original_target, transform_lambda)\n",
    "\n",
    "datasets = EasyDict({\n",
    "    \"source\": {\n",
    "        \"original\": {\"train\":train_original_source, \"val\":val_original_source, \"test\":test_original_source},\n",
    "        \"processed\": {\"train\":train_processed_source, \"val\":val_processed_source, \"test\":test_processed_source}\n",
    "    },\n",
    "    \"target\": {\n",
    "        \"original\": {\"train\":train_original_target, \"val\":val_original_target, \"test\":test_original_target},\n",
    "        \"processed\": {\"train\":train_processed_target, \"val\":val_processed_target, \"test\":test_processed_target}\n",
    "    },\n",
    "})"
   ]
  },
  {
   "cell_type": "code",
   "execution_count": 20,
   "id": "5b3c01fc",
   "metadata": {
    "execution": {
     "iopub.execute_input": "2022-03-10T06:48:25.757561Z",
     "iopub.status.busy": "2022-03-10T06:48:25.757307Z",
     "iopub.status.idle": "2022-03-10T06:48:52.149432Z",
     "shell.execute_reply": "2022-03-10T06:48:52.148936Z"
    },
    "papermill": {
     "duration": 26.407731,
     "end_time": "2022-03-10T06:48:52.149521",
     "exception": false,
     "start_time": "2022-03-10T06:48:25.741790",
     "status": "completed"
    },
    "tags": []
   },
   "outputs": [
    {
     "name": "stdout",
     "output_type": "stream",
     "text": [
      "{'ORACLE.run1_32', 'ORACLE.run1_38', 'ORACLE.run1_20', 'ORACLE.run1_14', 'ORACLE.run1_26', 'ORACLE.run1_44', 'ORACLE.run1_8', 'ORACLE.run1_50'}\n"
     ]
    },
    {
     "name": "stdout",
     "output_type": "stream",
     "text": [
      "{'ORACLE.run2_26', 'ORACLE.run2_32', 'ORACLE.run2_14', 'ORACLE.run2_8', 'ORACLE.run2_44', 'ORACLE.run2_50', 'ORACLE.run2_20', 'ORACLE.run2_38'}\n"
     ]
    },
    {
     "name": "stdout",
     "output_type": "stream",
     "text": [
      "tensor([[[-0.0194, -0.3495,  0.3592,  ..., -0.3301, -0.2816,  0.5631],\n",
      "         [-0.5922,  0.2330, -0.1262,  ...,  0.0680, -0.9709,  0.1359]],\n",
      "\n",
      "        [[ 0.4488, -0.7145, -1.3832,  ...,  0.4397,  0.0550, -0.3114],\n",
      "         [-0.1374, -0.4030, -1.4290,  ..., -0.4672,  0.3023, -0.5130]],\n",
      "\n",
      "        [[-0.8545, -0.4502,  0.1011,  ...,  0.1194,  1.3966,  1.0750],\n",
      "         [-0.1930,  0.3308, -0.3675,  ..., -1.4793,  0.0000, -0.0276]],\n",
      "\n",
      "        ...,\n",
      "\n",
      "        [[-0.0124,  0.6262, -0.0744,  ..., -0.8432, -1.3578,  0.8742],\n",
      "         [ 1.1904, -0.8556, -0.5270,  ..., -0.1364,  0.2046, -0.9238]],\n",
      "\n",
      "        [[-0.8808, -1.3658, -1.6402,  ..., -0.8488,  0.5489,  0.1979],\n",
      "         [ 1.1297,  0.0319,  1.1297,  ..., -0.3191,  0.7340, -0.1915]],\n",
      "\n",
      "        [[ 1.2980, -0.6931, -0.5860,  ..., -0.7876, -0.3907, -0.0063],\n",
      "         [-0.4600,  0.9704,  0.0063,  ...,  1.4997,  0.2205,  1.0460]]])\n"
     ]
    }
   ],
   "source": [
    "from steves_utils.transforms import get_average_magnitude, get_average_power\n",
    "\n",
    "print(set([u for u,_ in val_original_source]))\n",
    "print(set([u for u,_ in val_original_target]))\n",
    "\n",
    "s_x, s_y, q_x, q_y, _ = next(iter(train_processed_source))\n",
    "print(s_x)\n",
    "\n",
    "# for ds in [\n",
    "#     train_processed_source,\n",
    "#     val_processed_source,\n",
    "#     test_processed_source,\n",
    "#     train_processed_target,\n",
    "#     val_processed_target,\n",
    "#     test_processed_target\n",
    "# ]:\n",
    "#     for s_x, s_y, q_x, q_y, _ in ds:\n",
    "#         for X in (s_x, q_x):\n",
    "#             for x in X:\n",
    "#                 assert np.isclose(get_average_magnitude(x.numpy()), 1.0)\n",
    "#                 assert np.isclose(get_average_power(x.numpy()), 1.0)\n",
    "                "
   ]
  },
  {
   "cell_type": "code",
   "execution_count": 21,
   "id": "bbdacba1",
   "metadata": {
    "execution": {
     "iopub.execute_input": "2022-03-10T06:48:52.185108Z",
     "iopub.status.busy": "2022-03-10T06:48:52.184840Z",
     "iopub.status.idle": "2022-03-10T06:48:52.271743Z",
     "shell.execute_reply": "2022-03-10T06:48:52.271217Z"
    },
    "papermill": {
     "duration": 0.10399,
     "end_time": "2022-03-10T06:48:52.271857",
     "exception": false,
     "start_time": "2022-03-10T06:48:52.167867",
     "status": "completed"
    },
    "tags": []
   },
   "outputs": [
    {
     "name": "stdout",
     "output_type": "stream",
     "text": [
      "(2, 256)\n"
     ]
    }
   ],
   "source": [
    "###################################\n",
    "# Build the model\n",
    "###################################\n",
    "model = Steves_Prototypical_Network(x_net, device=p.device, x_shape=(2,256))\n",
    "optimizer = Adam(params=model.parameters(), lr=p.lr)"
   ]
  },
  {
   "cell_type": "code",
   "execution_count": 22,
   "id": "22b39ac5",
   "metadata": {
    "execution": {
     "iopub.execute_input": "2022-03-10T06:48:52.307417Z",
     "iopub.status.busy": "2022-03-10T06:48:52.307160Z",
     "iopub.status.idle": "2022-03-10T09:32:12.087247Z",
     "shell.execute_reply": "2022-03-10T09:32:12.087013Z"
    },
    "papermill": {
     "duration": 9799.796803,
     "end_time": "2022-03-10T09:32:12.087306",
     "exception": false,
     "start_time": "2022-03-10T06:48:52.290503",
     "status": "completed"
    },
    "tags": []
   },
   "outputs": [
    {
     "name": "stdout",
     "output_type": "stream",
     "text": [
      "epoch: 1, [batch: 1 / 33600], examples_per_second: 9.5828, train_label_loss: 2.8207, \n"
     ]
    },
    {
     "name": "stdout",
     "output_type": "stream",
     "text": [
      "epoch: 1, [batch: 3360 / 33600], examples_per_second: 3268.0037, train_label_loss: 0.9020, \n"
     ]
    },
    {
     "name": "stdout",
     "output_type": "stream",
     "text": [
      "epoch: 1, [batch: 6720 / 33600], examples_per_second: 3290.0104, train_label_loss: 1.7548, \n"
     ]
    },
    {
     "name": "stdout",
     "output_type": "stream",
     "text": [
      "epoch: 1, [batch: 10080 / 33600], examples_per_second: 3288.6465, train_label_loss: 0.7537, \n"
     ]
    },
    {
     "name": "stdout",
     "output_type": "stream",
     "text": [
      "epoch: 1, [batch: 13440 / 33600], examples_per_second: 3260.9897, train_label_loss: 0.8750, \n"
     ]
    },
    {
     "name": "stdout",
     "output_type": "stream",
     "text": [
      "epoch: 1, [batch: 16800 / 33600], examples_per_second: 3288.4106, train_label_loss: 0.8404, \n"
     ]
    },
    {
     "name": "stdout",
     "output_type": "stream",
     "text": [
      "epoch: 1, [batch: 20160 / 33600], examples_per_second: 3296.0905, train_label_loss: 0.6710, \n"
     ]
    },
    {
     "name": "stdout",
     "output_type": "stream",
     "text": [
      "epoch: 1, [batch: 23520 / 33600], examples_per_second: 3292.9393, train_label_loss: 0.6100, \n"
     ]
    },
    {
     "name": "stdout",
     "output_type": "stream",
     "text": [
      "epoch: 1, [batch: 26880 / 33600], examples_per_second: 3295.8686, train_label_loss: 0.7537, \n"
     ]
    },
    {
     "name": "stdout",
     "output_type": "stream",
     "text": [
      "epoch: 1, [batch: 30240 / 33600], examples_per_second: 3300.9866, train_label_loss: 1.1139, \n"
     ]
    },
    {
     "name": "stdout",
     "output_type": "stream",
     "text": [
      "=============================================================\n",
      "epoch: 1, source_val_acc_label: 0.6216, target_val_acc_label: 0.6008, source_val_label_loss: 38.2709, target_val_label_loss: 46.3231, \n",
      "=============================================================\n"
     ]
    },
    {
     "name": "stdout",
     "output_type": "stream",
     "text": [
      "New best\n"
     ]
    },
    {
     "name": "stdout",
     "output_type": "stream",
     "text": [
      "epoch: 2, [batch: 1 / 33600], examples_per_second: 0.9902, train_label_loss: 68.3596, \n"
     ]
    },
    {
     "name": "stdout",
     "output_type": "stream",
     "text": [
      "epoch: 2, [batch: 3360 / 33600], examples_per_second: 3310.3927, train_label_loss: 0.7270, \n"
     ]
    },
    {
     "name": "stdout",
     "output_type": "stream",
     "text": [
      "epoch: 2, [batch: 6720 / 33600], examples_per_second: 3329.9032, train_label_loss: 1.1783, \n"
     ]
    },
    {
     "name": "stdout",
     "output_type": "stream",
     "text": [
      "epoch: 2, [batch: 10080 / 33600], examples_per_second: 3332.9936, train_label_loss: 0.4736, \n"
     ]
    },
    {
     "name": "stdout",
     "output_type": "stream",
     "text": [
      "epoch: 2, [batch: 13440 / 33600], examples_per_second: 3319.6743, train_label_loss: 0.6046, \n"
     ]
    },
    {
     "name": "stdout",
     "output_type": "stream",
     "text": [
      "epoch: 2, [batch: 16800 / 33600], examples_per_second: 3327.7565, train_label_loss: 1.2934, \n"
     ]
    },
    {
     "name": "stdout",
     "output_type": "stream",
     "text": [
      "epoch: 2, [batch: 20160 / 33600], examples_per_second: 3327.3916, train_label_loss: 1.2036, \n"
     ]
    },
    {
     "name": "stdout",
     "output_type": "stream",
     "text": [
      "epoch: 2, [batch: 23520 / 33600], examples_per_second: 3311.6086, train_label_loss: 0.4483, \n"
     ]
    },
    {
     "name": "stdout",
     "output_type": "stream",
     "text": [
      "epoch: 2, [batch: 26880 / 33600], examples_per_second: 3333.1879, train_label_loss: 0.3051, \n"
     ]
    },
    {
     "name": "stdout",
     "output_type": "stream",
     "text": [
      "epoch: 2, [batch: 30240 / 33600], examples_per_second: 3331.8253, train_label_loss: 0.9233, \n"
     ]
    },
    {
     "name": "stdout",
     "output_type": "stream",
     "text": [
      "=============================================================\n",
      "epoch: 2, source_val_acc_label: 0.6966, target_val_acc_label: 0.6806, source_val_label_loss: 0.8193, target_val_label_loss: 0.8857, \n",
      "=============================================================\n"
     ]
    },
    {
     "name": "stdout",
     "output_type": "stream",
     "text": [
      "New best\n"
     ]
    },
    {
     "name": "stdout",
     "output_type": "stream",
     "text": [
      "epoch: 3, [batch: 1 / 33600], examples_per_second: 0.9911, train_label_loss: 0.4583, \n"
     ]
    },
    {
     "name": "stdout",
     "output_type": "stream",
     "text": [
      "epoch: 3, [batch: 3360 / 33600], examples_per_second: 3303.5623, train_label_loss: 0.6029, \n"
     ]
    },
    {
     "name": "stdout",
     "output_type": "stream",
     "text": [
      "epoch: 3, [batch: 6720 / 33600], examples_per_second: 3320.0004, train_label_loss: 0.5682, \n"
     ]
    },
    {
     "name": "stdout",
     "output_type": "stream",
     "text": [
      "epoch: 3, [batch: 10080 / 33600], examples_per_second: 3332.7542, train_label_loss: 0.5556, \n"
     ]
    },
    {
     "name": "stdout",
     "output_type": "stream",
     "text": [
      "epoch: 3, [batch: 13440 / 33600], examples_per_second: 3316.0467, train_label_loss: 0.4691, \n"
     ]
    },
    {
     "name": "stdout",
     "output_type": "stream",
     "text": [
      "epoch: 3, [batch: 16800 / 33600], examples_per_second: 3324.5450, train_label_loss: 0.9782, \n"
     ]
    },
    {
     "name": "stdout",
     "output_type": "stream",
     "text": [
      "epoch: 3, [batch: 20160 / 33600], examples_per_second: 3327.6236, train_label_loss: 1.1638, \n"
     ]
    },
    {
     "name": "stdout",
     "output_type": "stream",
     "text": [
      "epoch: 3, [batch: 23520 / 33600], examples_per_second: 3320.0298, train_label_loss: 0.8473, \n"
     ]
    },
    {
     "name": "stdout",
     "output_type": "stream",
     "text": [
      "epoch: 3, [batch: 26880 / 33600], examples_per_second: 3327.7849, train_label_loss: 0.2871, \n"
     ]
    },
    {
     "name": "stdout",
     "output_type": "stream",
     "text": [
      "epoch: 3, [batch: 30240 / 33600], examples_per_second: 3331.5515, train_label_loss: 0.7365, \n"
     ]
    },
    {
     "name": "stdout",
     "output_type": "stream",
     "text": [
      "=============================================================\n",
      "epoch: 3, source_val_acc_label: 0.7301, target_val_acc_label: 0.7141, source_val_label_loss: 0.7306, target_val_label_loss: 0.8083, \n",
      "=============================================================\n"
     ]
    },
    {
     "name": "stdout",
     "output_type": "stream",
     "text": [
      "New best\n"
     ]
    },
    {
     "name": "stdout",
     "output_type": "stream",
     "text": [
      "epoch: 4, [batch: 1 / 33600], examples_per_second: 0.9896, train_label_loss: 0.4856, \n"
     ]
    },
    {
     "name": "stdout",
     "output_type": "stream",
     "text": [
      "epoch: 4, [batch: 3360 / 33600], examples_per_second: 3298.1529, train_label_loss: 0.6709, \n"
     ]
    },
    {
     "name": "stdout",
     "output_type": "stream",
     "text": [
      "epoch: 4, [batch: 6720 / 33600], examples_per_second: 3325.7385, train_label_loss: 1.1661, \n"
     ]
    },
    {
     "name": "stdout",
     "output_type": "stream",
     "text": [
      "epoch: 4, [batch: 10080 / 33600], examples_per_second: 3337.6799, train_label_loss: 0.5583, \n"
     ]
    },
    {
     "name": "stdout",
     "output_type": "stream",
     "text": [
      "epoch: 4, [batch: 13440 / 33600], examples_per_second: 3319.1006, train_label_loss: 0.4969, \n"
     ]
    },
    {
     "name": "stdout",
     "output_type": "stream",
     "text": [
      "epoch: 4, [batch: 16800 / 33600], examples_per_second: 3335.4381, train_label_loss: 0.5682, \n"
     ]
    },
    {
     "name": "stdout",
     "output_type": "stream",
     "text": [
      "epoch: 4, [batch: 20160 / 33600], examples_per_second: 3336.9384, train_label_loss: 0.5014, \n"
     ]
    },
    {
     "name": "stdout",
     "output_type": "stream",
     "text": [
      "epoch: 4, [batch: 23520 / 33600], examples_per_second: 3318.3636, train_label_loss: 0.3536, \n"
     ]
    },
    {
     "name": "stdout",
     "output_type": "stream",
     "text": [
      "epoch: 4, [batch: 26880 / 33600], examples_per_second: 3327.3558, train_label_loss: 0.6050, \n"
     ]
    },
    {
     "name": "stdout",
     "output_type": "stream",
     "text": [
      "epoch: 4, [batch: 30240 / 33600], examples_per_second: 3327.1843, train_label_loss: 0.4058, \n"
     ]
    },
    {
     "name": "stdout",
     "output_type": "stream",
     "text": [
      "=============================================================\n",
      "epoch: 4, source_val_acc_label: 0.7429, target_val_acc_label: 0.7267, source_val_label_loss: 0.7141, target_val_label_loss: 0.7968, \n",
      "=============================================================\n"
     ]
    },
    {
     "name": "stdout",
     "output_type": "stream",
     "text": [
      "New best\n"
     ]
    },
    {
     "name": "stdout",
     "output_type": "stream",
     "text": [
      "epoch: 5, [batch: 1 / 33600], examples_per_second: 0.9872, train_label_loss: 0.9501, \n"
     ]
    },
    {
     "name": "stdout",
     "output_type": "stream",
     "text": [
      "epoch: 5, [batch: 3360 / 33600], examples_per_second: 3314.7048, train_label_loss: 0.4917, \n"
     ]
    },
    {
     "name": "stdout",
     "output_type": "stream",
     "text": [
      "epoch: 5, [batch: 6720 / 33600], examples_per_second: 3308.2768, train_label_loss: 0.2839, \n"
     ]
    },
    {
     "name": "stdout",
     "output_type": "stream",
     "text": [
      "epoch: 5, [batch: 10080 / 33600], examples_per_second: 3329.5224, train_label_loss: 0.6913, \n"
     ]
    },
    {
     "name": "stdout",
     "output_type": "stream",
     "text": [
      "epoch: 5, [batch: 13440 / 33600], examples_per_second: 3328.6104, train_label_loss: 0.7825, \n"
     ]
    },
    {
     "name": "stdout",
     "output_type": "stream",
     "text": [
      "epoch: 5, [batch: 16800 / 33600], examples_per_second: 3327.8649, train_label_loss: 0.7378, \n"
     ]
    },
    {
     "name": "stdout",
     "output_type": "stream",
     "text": [
      "epoch: 5, [batch: 20160 / 33600], examples_per_second: 3327.4062, train_label_loss: 0.7197, \n"
     ]
    },
    {
     "name": "stdout",
     "output_type": "stream",
     "text": [
      "epoch: 5, [batch: 23520 / 33600], examples_per_second: 3298.2571, train_label_loss: 0.4097, \n"
     ]
    },
    {
     "name": "stdout",
     "output_type": "stream",
     "text": [
      "epoch: 5, [batch: 26880 / 33600], examples_per_second: 3316.4024, train_label_loss: 0.3275, \n"
     ]
    },
    {
     "name": "stdout",
     "output_type": "stream",
     "text": [
      "epoch: 5, [batch: 30240 / 33600], examples_per_second: 3320.5983, train_label_loss: 0.7501, \n"
     ]
    },
    {
     "name": "stdout",
     "output_type": "stream",
     "text": [
      "=============================================================\n",
      "epoch: 5, source_val_acc_label: 0.7402, target_val_acc_label: 0.7261, source_val_label_loss: 0.7207, target_val_label_loss: 0.8248, \n",
      "=============================================================\n"
     ]
    },
    {
     "name": "stdout",
     "output_type": "stream",
     "text": [
      "epoch: 6, [batch: 1 / 33600], examples_per_second: 0.9879, train_label_loss: 0.5713, \n"
     ]
    },
    {
     "name": "stdout",
     "output_type": "stream",
     "text": [
      "epoch: 6, [batch: 3360 / 33600], examples_per_second: 3308.1756, train_label_loss: 0.8131, \n"
     ]
    },
    {
     "name": "stdout",
     "output_type": "stream",
     "text": [
      "epoch: 6, [batch: 6720 / 33600], examples_per_second: 3324.2881, train_label_loss: 0.4622, \n"
     ]
    },
    {
     "name": "stdout",
     "output_type": "stream",
     "text": [
      "epoch: 6, [batch: 10080 / 33600], examples_per_second: 3324.1022, train_label_loss: 0.5783, \n"
     ]
    },
    {
     "name": "stdout",
     "output_type": "stream",
     "text": [
      "epoch: 6, [batch: 13440 / 33600], examples_per_second: 3303.8903, train_label_loss: 0.4597, \n"
     ]
    },
    {
     "name": "stdout",
     "output_type": "stream",
     "text": [
      "epoch: 6, [batch: 16800 / 33600], examples_per_second: 3329.1622, train_label_loss: 0.3414, \n"
     ]
    },
    {
     "name": "stdout",
     "output_type": "stream",
     "text": [
      "epoch: 6, [batch: 20160 / 33600], examples_per_second: 3329.4727, train_label_loss: 0.5383, \n"
     ]
    },
    {
     "name": "stdout",
     "output_type": "stream",
     "text": [
      "epoch: 6, [batch: 23520 / 33600], examples_per_second: 3315.5960, train_label_loss: 0.3381, \n"
     ]
    },
    {
     "name": "stdout",
     "output_type": "stream",
     "text": [
      "epoch: 6, [batch: 26880 / 33600], examples_per_second: 3327.7613, train_label_loss: 0.3962, \n"
     ]
    },
    {
     "name": "stdout",
     "output_type": "stream",
     "text": [
      "epoch: 6, [batch: 30240 / 33600], examples_per_second: 3309.7497, train_label_loss: 0.5285, \n"
     ]
    },
    {
     "name": "stdout",
     "output_type": "stream",
     "text": [
      "=============================================================\n",
      "epoch: 6, source_val_acc_label: 0.7413, target_val_acc_label: 0.7234, source_val_label_loss: 0.7213, target_val_label_loss: 0.8729, \n",
      "=============================================================\n"
     ]
    },
    {
     "name": "stdout",
     "output_type": "stream",
     "text": [
      "epoch: 7, [batch: 1 / 33600], examples_per_second: 0.9851, train_label_loss: 0.5497, \n"
     ]
    },
    {
     "name": "stdout",
     "output_type": "stream",
     "text": [
      "epoch: 7, [batch: 3360 / 33600], examples_per_second: 3311.5027, train_label_loss: 1.2740, \n"
     ]
    },
    {
     "name": "stdout",
     "output_type": "stream",
     "text": [
      "epoch: 7, [batch: 6720 / 33600], examples_per_second: 3320.1743, train_label_loss: 0.2550, \n"
     ]
    },
    {
     "name": "stdout",
     "output_type": "stream",
     "text": [
      "epoch: 7, [batch: 10080 / 33600], examples_per_second: 3329.3231, train_label_loss: 0.2995, \n"
     ]
    },
    {
     "name": "stdout",
     "output_type": "stream",
     "text": [
      "epoch: 7, [batch: 13440 / 33600], examples_per_second: 3318.6586, train_label_loss: 0.2157, \n"
     ]
    },
    {
     "name": "stdout",
     "output_type": "stream",
     "text": [
      "epoch: 7, [batch: 16800 / 33600], examples_per_second: 3323.8305, train_label_loss: 0.6345, \n"
     ]
    },
    {
     "name": "stdout",
     "output_type": "stream",
     "text": [
      "epoch: 7, [batch: 20160 / 33600], examples_per_second: 3331.6390, train_label_loss: 0.5514, \n"
     ]
    },
    {
     "name": "stdout",
     "output_type": "stream",
     "text": [
      "epoch: 7, [batch: 23520 / 33600], examples_per_second: 3304.6198, train_label_loss: 0.2839, \n"
     ]
    },
    {
     "name": "stdout",
     "output_type": "stream",
     "text": [
      "epoch: 7, [batch: 26880 / 33600], examples_per_second: 3319.9072, train_label_loss: 0.5024, \n"
     ]
    },
    {
     "name": "stdout",
     "output_type": "stream",
     "text": [
      "epoch: 7, [batch: 30240 / 33600], examples_per_second: 3307.0978, train_label_loss: 0.3139, \n"
     ]
    },
    {
     "name": "stdout",
     "output_type": "stream",
     "text": [
      "=============================================================\n",
      "epoch: 7, source_val_acc_label: 0.7438, target_val_acc_label: 0.7290, source_val_label_loss: 0.7124, target_val_label_loss: 0.7959, \n",
      "=============================================================\n"
     ]
    },
    {
     "name": "stdout",
     "output_type": "stream",
     "text": [
      "New best\n"
     ]
    },
    {
     "name": "stdout",
     "output_type": "stream",
     "text": [
      "epoch: 8, [batch: 1 / 33600], examples_per_second: 0.9893, train_label_loss: 0.4406, \n"
     ]
    },
    {
     "name": "stdout",
     "output_type": "stream",
     "text": [
      "epoch: 8, [batch: 3360 / 33600], examples_per_second: 3308.3891, train_label_loss: 0.3057, \n"
     ]
    },
    {
     "name": "stdout",
     "output_type": "stream",
     "text": [
      "epoch: 8, [batch: 6720 / 33600], examples_per_second: 3316.2767, train_label_loss: 0.4266, \n"
     ]
    },
    {
     "name": "stdout",
     "output_type": "stream",
     "text": [
      "epoch: 8, [batch: 10080 / 33600], examples_per_second: 3328.8885, train_label_loss: 0.2518, \n"
     ]
    },
    {
     "name": "stdout",
     "output_type": "stream",
     "text": [
      "epoch: 8, [batch: 13440 / 33600], examples_per_second: 3315.1741, train_label_loss: 0.3963, \n"
     ]
    },
    {
     "name": "stdout",
     "output_type": "stream",
     "text": [
      "epoch: 8, [batch: 16800 / 33600], examples_per_second: 3321.6871, train_label_loss: 0.1783, \n"
     ]
    },
    {
     "name": "stdout",
     "output_type": "stream",
     "text": [
      "epoch: 8, [batch: 20160 / 33600], examples_per_second: 3333.6962, train_label_loss: 0.2760, \n"
     ]
    },
    {
     "name": "stdout",
     "output_type": "stream",
     "text": [
      "epoch: 8, [batch: 23520 / 33600], examples_per_second: 3313.1557, train_label_loss: 0.8181, \n"
     ]
    },
    {
     "name": "stdout",
     "output_type": "stream",
     "text": [
      "epoch: 8, [batch: 26880 / 33600], examples_per_second: 3311.1183, train_label_loss: 0.4597, \n"
     ]
    },
    {
     "name": "stdout",
     "output_type": "stream",
     "text": [
      "epoch: 8, [batch: 30240 / 33600], examples_per_second: 3330.7172, train_label_loss: 0.3233, \n"
     ]
    },
    {
     "name": "stdout",
     "output_type": "stream",
     "text": [
      "=============================================================\n",
      "epoch: 8, source_val_acc_label: 0.7359, target_val_acc_label: 0.7188, source_val_label_loss: 0.7352, target_val_label_loss: 0.8277, \n",
      "=============================================================\n"
     ]
    },
    {
     "name": "stdout",
     "output_type": "stream",
     "text": [
      "epoch: 9, [batch: 1 / 33600], examples_per_second: 0.9887, train_label_loss: 0.9965, \n"
     ]
    },
    {
     "name": "stdout",
     "output_type": "stream",
     "text": [
      "epoch: 9, [batch: 3360 / 33600], examples_per_second: 3319.4951, train_label_loss: 0.3226, \n"
     ]
    },
    {
     "name": "stdout",
     "output_type": "stream",
     "text": [
      "epoch: 9, [batch: 6720 / 33600], examples_per_second: 3331.2035, train_label_loss: 0.6165, \n"
     ]
    },
    {
     "name": "stdout",
     "output_type": "stream",
     "text": [
      "epoch: 9, [batch: 10080 / 33600], examples_per_second: 3332.4802, train_label_loss: 0.3006, \n"
     ]
    },
    {
     "name": "stdout",
     "output_type": "stream",
     "text": [
      "epoch: 9, [batch: 13440 / 33600], examples_per_second: 3317.0803, train_label_loss: 0.4175, \n"
     ]
    },
    {
     "name": "stdout",
     "output_type": "stream",
     "text": [
      "epoch: 9, [batch: 16800 / 33600], examples_per_second: 3330.0253, train_label_loss: 0.7377, \n"
     ]
    },
    {
     "name": "stdout",
     "output_type": "stream",
     "text": [
      "epoch: 9, [batch: 20160 / 33600], examples_per_second: 3324.2944, train_label_loss: 0.2322, \n"
     ]
    },
    {
     "name": "stdout",
     "output_type": "stream",
     "text": [
      "epoch: 9, [batch: 23520 / 33600], examples_per_second: 3323.7637, train_label_loss: 0.5438, \n"
     ]
    },
    {
     "name": "stdout",
     "output_type": "stream",
     "text": [
      "epoch: 9, [batch: 26880 / 33600], examples_per_second: 3326.7354, train_label_loss: 0.2553, \n"
     ]
    },
    {
     "name": "stdout",
     "output_type": "stream",
     "text": [
      "epoch: 9, [batch: 30240 / 33600], examples_per_second: 3330.3916, train_label_loss: 0.2484, \n"
     ]
    },
    {
     "name": "stdout",
     "output_type": "stream",
     "text": [
      "=============================================================\n",
      "epoch: 9, source_val_acc_label: 0.7364, target_val_acc_label: 0.7166, source_val_label_loss: 0.7623, target_val_label_loss: 1.1154, \n",
      "=============================================================\n"
     ]
    },
    {
     "name": "stdout",
     "output_type": "stream",
     "text": [
      "epoch: 10, [batch: 1 / 33600], examples_per_second: 0.9885, train_label_loss: 0.1555, \n"
     ]
    },
    {
     "name": "stdout",
     "output_type": "stream",
     "text": [
      "epoch: 10, [batch: 3360 / 33600], examples_per_second: 3308.9308, train_label_loss: 0.4856, \n"
     ]
    },
    {
     "name": "stdout",
     "output_type": "stream",
     "text": [
      "epoch: 10, [batch: 6720 / 33600], examples_per_second: 3322.8881, train_label_loss: 0.4261, \n"
     ]
    },
    {
     "name": "stdout",
     "output_type": "stream",
     "text": [
      "epoch: 10, [batch: 10080 / 33600], examples_per_second: 3332.4450, train_label_loss: 0.6006, \n"
     ]
    },
    {
     "name": "stdout",
     "output_type": "stream",
     "text": [
      "epoch: 10, [batch: 13440 / 33600], examples_per_second: 3319.2027, train_label_loss: 0.3544, \n"
     ]
    },
    {
     "name": "stdout",
     "output_type": "stream",
     "text": [
      "epoch: 10, [batch: 16800 / 33600], examples_per_second: 3324.8078, train_label_loss: 0.3677, \n"
     ]
    },
    {
     "name": "stdout",
     "output_type": "stream",
     "text": [
      "epoch: 10, [batch: 20160 / 33600], examples_per_second: 3327.2203, train_label_loss: 0.9756, \n"
     ]
    },
    {
     "name": "stdout",
     "output_type": "stream",
     "text": [
      "epoch: 10, [batch: 23520 / 33600], examples_per_second: 3315.3249, train_label_loss: 0.2157, \n"
     ]
    },
    {
     "name": "stdout",
     "output_type": "stream",
     "text": [
      "epoch: 10, [batch: 26880 / 33600], examples_per_second: 3316.4549, train_label_loss: 0.3742, \n"
     ]
    },
    {
     "name": "stdout",
     "output_type": "stream",
     "text": [
      "epoch: 10, [batch: 30240 / 33600], examples_per_second: 3327.7090, train_label_loss: 0.4058, \n"
     ]
    },
    {
     "name": "stdout",
     "output_type": "stream",
     "text": [
      "=============================================================\n",
      "epoch: 10, source_val_acc_label: 0.7393, target_val_acc_label: 0.7225, source_val_label_loss: 0.7615, target_val_label_loss: 0.8589, \n",
      "=============================================================\n"
     ]
    },
    {
     "name": "stdout",
     "output_type": "stream",
     "text": [
      "epoch: 11, [batch: 1 / 33600], examples_per_second: 0.9868, train_label_loss: 0.2531, \n"
     ]
    },
    {
     "name": "stdout",
     "output_type": "stream",
     "text": [
      "epoch: 11, [batch: 3360 / 33600], examples_per_second: 3306.9106, train_label_loss: 0.3359, \n"
     ]
    },
    {
     "name": "stdout",
     "output_type": "stream",
     "text": [
      "epoch: 11, [batch: 6720 / 33600], examples_per_second: 3325.4768, train_label_loss: 0.5204, \n"
     ]
    },
    {
     "name": "stdout",
     "output_type": "stream",
     "text": [
      "epoch: 11, [batch: 10080 / 33600], examples_per_second: 3330.6357, train_label_loss: 0.2509, \n"
     ]
    },
    {
     "name": "stdout",
     "output_type": "stream",
     "text": [
      "epoch: 11, [batch: 13440 / 33600], examples_per_second: 3305.7794, train_label_loss: 0.2186, \n"
     ]
    },
    {
     "name": "stdout",
     "output_type": "stream",
     "text": [
      "epoch: 11, [batch: 16800 / 33600], examples_per_second: 3330.4137, train_label_loss: 0.4053, \n"
     ]
    },
    {
     "name": "stdout",
     "output_type": "stream",
     "text": [
      "epoch: 11, [batch: 20160 / 33600], examples_per_second: 3334.2922, train_label_loss: 0.4533, \n"
     ]
    },
    {
     "name": "stdout",
     "output_type": "stream",
     "text": [
      "epoch: 11, [batch: 23520 / 33600], examples_per_second: 3308.5581, train_label_loss: 0.9349, \n"
     ]
    },
    {
     "name": "stdout",
     "output_type": "stream",
     "text": [
      "epoch: 11, [batch: 26880 / 33600], examples_per_second: 3320.2663, train_label_loss: 0.5547, \n"
     ]
    },
    {
     "name": "stdout",
     "output_type": "stream",
     "text": [
      "epoch: 11, [batch: 30240 / 33600], examples_per_second: 3324.0189, train_label_loss: 0.7720, \n"
     ]
    },
    {
     "name": "stdout",
     "output_type": "stream",
     "text": [
      "=============================================================\n",
      "epoch: 11, source_val_acc_label: 0.7341, target_val_acc_label: 0.7150, source_val_label_loss: 0.7620, target_val_label_loss: 0.8543, \n",
      "=============================================================\n"
     ]
    },
    {
     "name": "stdout",
     "output_type": "stream",
     "text": [
      "Patience (3) exhausted\n"
     ]
    }
   ],
   "source": [
    "###################################\n",
    "# train\n",
    "###################################\n",
    "jig = PTN_Train_Eval_Test_Jig(model, p.BEST_MODEL_PATH, p.device)\n",
    "\n",
    "jig.train(\n",
    "    train_iterable=datasets.source.processed.train,\n",
    "    source_val_iterable=datasets.source.processed.val,\n",
    "    target_val_iterable=datasets.target.processed.val,\n",
    "    num_epochs=p.n_epoch,\n",
    "    num_logs_per_epoch=p.NUM_LOGS_PER_EPOCH,\n",
    "    patience=p.patience,\n",
    "    optimizer=optimizer,\n",
    "    criteria_for_best=p.criteria_for_best,\n",
    ")"
   ]
  },
  {
   "cell_type": "code",
   "execution_count": 23,
   "id": "31e8fabf",
   "metadata": {
    "execution": {
     "iopub.execute_input": "2022-03-10T09:32:12.163916Z",
     "iopub.status.busy": "2022-03-10T09:32:12.163607Z",
     "iopub.status.idle": "2022-03-10T09:32:12.182857Z",
     "shell.execute_reply": "2022-03-10T09:32:12.182420Z"
    },
    "papermill": {
     "duration": 0.059141,
     "end_time": "2022-03-10T09:32:12.182970",
     "exception": false,
     "start_time": "2022-03-10T09:32:12.123829",
     "status": "completed"
    },
    "tags": []
   },
   "outputs": [],
   "source": [
    "total_experiment_time_secs = time.time() - start_time_secs"
   ]
  },
  {
   "cell_type": "code",
   "execution_count": 24,
   "id": "87b9595b",
   "metadata": {
    "execution": {
     "iopub.execute_input": "2022-03-10T09:32:12.266133Z",
     "iopub.status.busy": "2022-03-10T09:32:12.265856Z",
     "iopub.status.idle": "2022-03-10T09:40:06.083540Z",
     "shell.execute_reply": "2022-03-10T09:40:06.083130Z"
    },
    "papermill": {
     "duration": 473.859811,
     "end_time": "2022-03-10T09:40:06.083646",
     "exception": false,
     "start_time": "2022-03-10T09:32:12.223835",
     "status": "completed"
    },
    "tags": []
   },
   "outputs": [],
   "source": [
    "###################################\n",
    "# Evaluate the model\n",
    "###################################\n",
    "source_test_label_accuracy, source_test_label_loss = jig.test(datasets.source.processed.test)\n",
    "target_test_label_accuracy, target_test_label_loss = jig.test(datasets.target.processed.test)\n",
    "\n",
    "source_val_label_accuracy, source_val_label_loss = jig.test(datasets.source.processed.val)\n",
    "target_val_label_accuracy, target_val_label_loss = jig.test(datasets.target.processed.val)\n",
    "\n",
    "history = jig.get_history()\n",
    "\n",
    "total_epochs_trained = len(history[\"epoch_indices\"])\n",
    "\n",
    "val_dl = Iterable_Aggregator((datasets.source.original.val,datasets.target.original.val))\n",
    "\n",
    "confusion = ptn_confusion_by_domain_over_dataloader(model, p.device, val_dl)\n",
    "per_domain_accuracy = per_domain_accuracy_from_confusion(confusion)\n",
    "\n",
    "# Add a key to per_domain_accuracy for if it was a source domain\n",
    "for domain, accuracy in per_domain_accuracy.items():\n",
    "    per_domain_accuracy[domain] = {\n",
    "        \"accuracy\": accuracy,\n",
    "        \"source?\": domain in p.domains_source\n",
    "    }\n",
    "\n",
    "# Do an independent accuracy assesment JUST TO BE SURE!\n",
    "# _source_test_label_accuracy = independent_accuracy_assesment(model, datasets.source.processed.test, p.device)\n",
    "# _target_test_label_accuracy = independent_accuracy_assesment(model, datasets.target.processed.test, p.device)\n",
    "# _source_val_label_accuracy = independent_accuracy_assesment(model, datasets.source.processed.val, p.device)\n",
    "# _target_val_label_accuracy = independent_accuracy_assesment(model, datasets.target.processed.val, p.device)\n",
    "\n",
    "# assert(_source_test_label_accuracy == source_test_label_accuracy)\n",
    "# assert(_target_test_label_accuracy == target_test_label_accuracy)\n",
    "# assert(_source_val_label_accuracy == source_val_label_accuracy)\n",
    "# assert(_target_val_label_accuracy == target_val_label_accuracy)\n",
    "\n",
    "experiment = {\n",
    "    \"experiment_name\": p.experiment_name,\n",
    "    \"parameters\": dict(p),\n",
    "    \"results\": {\n",
    "        \"source_test_label_accuracy\": source_test_label_accuracy,\n",
    "        \"source_test_label_loss\": source_test_label_loss,\n",
    "        \"target_test_label_accuracy\": target_test_label_accuracy,\n",
    "        \"target_test_label_loss\": target_test_label_loss,\n",
    "        \"source_val_label_accuracy\": source_val_label_accuracy,\n",
    "        \"source_val_label_loss\": source_val_label_loss,\n",
    "        \"target_val_label_accuracy\": target_val_label_accuracy,\n",
    "        \"target_val_label_loss\": target_val_label_loss,\n",
    "        \"total_epochs_trained\": total_epochs_trained,\n",
    "        \"total_experiment_time_secs\": total_experiment_time_secs,\n",
    "        \"confusion\": confusion,\n",
    "        \"per_domain_accuracy\": per_domain_accuracy,\n",
    "    },\n",
    "    \"history\": history,\n",
    "    \"dataset_metrics\": get_dataset_metrics(datasets, \"ptn\"),\n",
    "}"
   ]
  },
  {
   "cell_type": "code",
   "execution_count": 25,
   "id": "54a21829",
   "metadata": {
    "execution": {
     "iopub.execute_input": "2022-03-10T09:40:06.161714Z",
     "iopub.status.busy": "2022-03-10T09:40:06.161460Z",
     "iopub.status.idle": "2022-03-10T09:40:06.335875Z",
     "shell.execute_reply": "2022-03-10T09:40:06.336257Z"
    },
    "papermill": {
     "duration": 0.213207,
     "end_time": "2022-03-10T09:40:06.336362",
     "exception": false,
     "start_time": "2022-03-10T09:40:06.123155",
     "status": "completed"
    },
    "tags": []
   },
   "outputs": [
    {
     "data": {
      "image/png": "[encoded data removed]",
      "text/plain": [
       "<Figure size 1080x504 with 1 Axes>"
      ]
     },
     "metadata": {
      "needs_background": "light"
     },
     "output_type": "display_data"
    }
   ],
   "source": [
    "ax = get_loss_curve(experiment)\n",
    "plt.show()"
   ]
  },
  {
   "cell_type": "code",
   "execution_count": 26,
   "id": "fd8a0f60",
   "metadata": {
    "execution": {
     "iopub.execute_input": "2022-03-10T09:40:06.419206Z",
     "iopub.status.busy": "2022-03-10T09:40:06.418955Z",
     "iopub.status.idle": "2022-03-10T09:40:06.597644Z",
     "shell.execute_reply": "2022-03-10T09:40:06.597389Z"
    },
    "papermill": {
     "duration": 0.219488,
     "end_time": "2022-03-10T09:40:06.597695",
     "exception": false,
     "start_time": "2022-03-10T09:40:06.378207",
     "status": "completed"
    },
    "tags": []
   },
   "outputs": [
    {
     "data": {
      "text/plain": [
       "<matplotlib.axes._subplots.AxesSubplot at 0x7f8f96181370>"
      ]
     },
     "execution_count": 26,
     "metadata": {},
     "output_type": "execute_result"
    },
    {
     "data": {
      "image/png": "[encoded data removed]",
      "text/plain": [
       "<Figure size 1080x504 with 1 Axes>"
      ]
     },
     "metadata": {
      "needs_background": "light"
     },
     "output_type": "display_data"
    }
   ],
   "source": [
    "get_results_table(experiment)"
   ]
  },
  {
   "cell_type": "code",
   "execution_count": 27,
   "id": "cf8dc689",
   "metadata": {
    "execution": {
     "iopub.execute_input": "2022-03-10T09:40:06.676870Z",
     "iopub.status.busy": "2022-03-10T09:40:06.676621Z",
     "iopub.status.idle": "2022-03-10T09:40:06.907918Z",
     "shell.execute_reply": "2022-03-10T09:40:06.907460Z"
    },
    "papermill": {
     "duration": 0.270607,
     "end_time": "2022-03-10T09:40:06.908009",
     "exception": false,
     "start_time": "2022-03-10T09:40:06.637402",
     "status": "completed"
    },
    "tags": []
   },
   "outputs": [
    {
     "data": {
      "text/plain": [
       "<matplotlib.axes._subplots.AxesSubplot at 0x7f8f7ec292e0>"
      ]
     },
     "execution_count": 27,
     "metadata": {},
     "output_type": "execute_result"
    },
    {
     "data": {
      "image/png": "[encoded data removed]",
      "text/plain": [
       "<Figure size 1080x504 with 1 Axes>"
      ]
     },
     "metadata": {
      "needs_background": "light"
     },
     "output_type": "display_data"
    }
   ],
   "source": [
    "get_domain_accuracies(experiment)"
   ]
  },
  {
   "cell_type": "code",
   "execution_count": 28,
   "id": "a74ae082",
   "metadata": {
    "execution": {
     "iopub.execute_input": "2022-03-10T09:40:06.996781Z",
     "iopub.status.busy": "2022-03-10T09:40:06.996528Z",
     "iopub.status.idle": "2022-03-10T09:40:07.012282Z",
     "shell.execute_reply": "2022-03-10T09:40:07.011887Z"
    },
    "papermill": {
     "duration": 0.058386,
     "end_time": "2022-03-10T09:40:07.012371",
     "exception": false,
     "start_time": "2022-03-10T09:40:06.953985",
     "status": "completed"
    },
    "tags": []
   },
   "outputs": [
    {
     "name": "stdout",
     "output_type": "stream",
     "text": [
      "Source Test Label Accuracy: 0.7431380208333334 Target Test Label Accuracy: 0.7273567708333334\n",
      "Source Val Label Accuracy: 0.743828125 Target Val Label Accuracy: 0.72904296875\n"
     ]
    }
   ],
   "source": [
    "print(\"Source Test Label Accuracy:\", experiment[\"results\"][\"source_test_label_accuracy\"], \"Target Test Label Accuracy:\", experiment[\"results\"][\"target_test_label_accuracy\"])\n",
    "print(\"Source Val Label Accuracy:\", experiment[\"results\"][\"source_val_label_accuracy\"], \"Target Val Label Accuracy:\", experiment[\"results\"][\"target_val_label_accuracy\"])"
   ]
  },
  {
   "cell_type": "code",
   "execution_count": 29,
   "id": "dacca602",
   "metadata": {
    "execution": {
     "iopub.execute_input": "2022-03-10T09:40:07.093708Z",
     "iopub.status.busy": "2022-03-10T09:40:07.093455Z",
     "iopub.status.idle": "2022-03-10T09:40:07.105444Z",
     "shell.execute_reply": "2022-03-10T09:40:07.105069Z"
    },
    "papermill": {
     "duration": 0.052824,
     "end_time": "2022-03-10T09:40:07.105534",
     "exception": false,
     "start_time": "2022-03-10T09:40:07.052710",
     "status": "completed"
    },
    "tags": [
     "experiment_json"
    ]
   },
   "outputs": [
    {
     "data": {
      "text/plain": [
       "'{\"experiment_name\": \"tl_1_oracle.run1-oracle.run2\", \"parameters\": {\"experiment_name\": \"tl_1_oracle.run1-oracle.run2\", \"device\": \"cuda\", \"lr\": 0.001, \"seed\": 1337, \"dataset_seed\": 1337, \"n_shot\": 3, \"n_query\": 2, \"train_k_factor\": 3, \"val_k_factor\": 2, \"test_k_factor\": 2, \"torch_default_dtype\": \"torch.float32\", \"n_epoch\": 50, \"patience\": 3, \"criteria_for_best\": \"target_loss\", \"x_net\": [{\"class\": \"nnReshape\", \"kargs\": {\"shape\": [-1, 1, 2, 256]}}, {\"class\": \"Conv2d\", \"kargs\": {\"in_channels\": 1, \"out_channels\": 256, \"kernel_size\": [1, 7], \"bias\": false, \"padding\": [0, 3]}}, {\"class\": \"ReLU\", \"kargs\": {\"inplace\": true}}, {\"class\": \"BatchNorm2d\", \"kargs\": {\"num_features\": 256}}, {\"class\": \"Conv2d\", \"kargs\": {\"in_channels\": 256, \"out_channels\": 80, \"kernel_size\": [2, 7], \"bias\": true, \"padding\": [0, 3]}}, {\"class\": \"ReLU\", \"kargs\": {\"inplace\": true}}, {\"class\": \"BatchNorm2d\", \"kargs\": {\"num_features\": 80}}, {\"class\": \"Flatten\", \"kargs\": {}}, {\"class\": \"Linear\", \"kargs\": {\"in_features\": 20480, \"out_features\": 256}}, {\"class\": \"ReLU\", \"kargs\": {\"inplace\": true}}, {\"class\": \"BatchNorm1d\", \"kargs\": {\"num_features\": 256}}, {\"class\": \"Linear\", \"kargs\": {\"in_features\": 256, \"out_features\": 256}}], \"NUM_LOGS_PER_EPOCH\": 10, \"BEST_MODEL_PATH\": \"./best_model.pth\", \"n_way\": 16, \"datasets\": [{\"labels\": [\"3123D52\", \"3123D65\", \"3123D79\", \"3123D80\", \"3123D54\", \"3123D70\", \"3123D7B\", \"3123D89\", \"3123D58\", \"3123D76\", \"3123D7D\", \"3123EFE\", \"3123D64\", \"3123D78\", \"3123D7E\", \"3124E4A\"], \"domains\": [32, 38, 8, 44, 14, 50, 20, 26], \"num_examples_per_domain_per_label\": 10000, \"pickle_path\": \"/mnt/wd500GB/CSC500/csc500-main/datasets/oracle.Run1_10kExamples_stratified_ds.2022A.pkl\", \"source_or_target_dataset\": \"source\", \"x_transforms\": [\"unit_power\"], \"episode_transforms\": [], \"domain_prefix\": \"ORACLE.run1_\"}, {\"labels\": [\"3123D52\", \"3123D65\", \"3123D79\", \"3123D80\", \"3123D54\", \"3123D70\", \"3123D7B\", \"3123D89\", \"3123D58\", \"3123D76\", \"3123D7D\", \"3123EFE\", \"3123D64\", \"3123D78\", \"3123D7E\", \"3124E4A\"], \"domains\": [32, 38, 8, 44, 14, 50, 20, 26], \"num_examples_per_domain_per_label\": 10000, \"pickle_path\": \"/mnt/wd500GB/CSC500/csc500-main/datasets/oracle.Run2_10kExamples_stratified_ds.2022A.pkl\", \"source_or_target_dataset\": \"target\", \"x_transforms\": [\"unit_power\"], \"episode_transforms\": [], \"domain_prefix\": \"ORACLE.run2_\"}], \"domains_source\": [\"ORACLE.run1_32\", \"ORACLE.run1_38\", \"ORACLE.run1_8\", \"ORACLE.run1_44\", \"ORACLE.run1_14\", \"ORACLE.run1_50\", \"ORACLE.run1_20\", \"ORACLE.run1_26\"], \"domains_target\": [\"ORACLE.run2_32\", \"ORACLE.run2_38\", \"ORACLE.run2_8\", \"ORACLE.run2_44\", \"ORACLE.run2_14\", \"ORACLE.run2_50\", \"ORACLE.run2_20\", \"ORACLE.run2_26\"]}, \"results\": {\"source_test_label_accuracy\": 0.7431380208333334, \"source_test_label_loss\": 0.7144634127616882, \"target_test_label_accuracy\": 0.7273567708333334, \"target_test_label_loss\": 0.7863258123397827, \"source_val_label_accuracy\": 0.743828125, \"source_val_label_loss\": 0.7123614549636841, \"target_val_label_accuracy\": 0.72904296875, \"target_val_label_loss\": 0.7958963513374329, \"total_epochs_trained\": 11, \"total_experiment_time_secs\": 10005.189774990082, \"confusion\": {\"ORACLE.run1_14\": {\"15\": {\"15\": 1170, \"7\": 26, \"5\": 2, \"2\": 1, \"13\": 1}, \"3\": {\"3\": 1065, \"4\": 86, \"14\": 22, \"2\": 15, \"5\": 5, \"1\": 3, \"0\": 4}, \"6\": {\"13\": 428, \"6\": 721, \"2\": 25, \"14\": 26}, \"1\": {\"1\": 1093, \"5\": 100, \"7\": 3, \"4\": 4}, \"8\": {\"8\": 1200}, \"10\": {\"10\": 1173, \"0\": 26, \"3\": 1}, \"9\": {\"9\": 1193, \"12\": 5, \"11\": 2}, \"13\": {\"6\": 513, \"13\": 430, \"2\": 107, \"14\": 136, \"5\": 10, \"15\": 1, \"4\": 3}, \"12\": {\"12\": 1195, \"9\": 5}, \"5\": {\"4\": 196, \"2\": 54, \"5\": 808, \"3\": 15, \"7\": 4, \"1\": 119, \"15\": 4}, \"0\": {\"10\": 75, \"0\": 1085, \"11\": 21, \"3\": 19}, \"2\": {\"2\": 656, \"13\": 68, \"3\": 45, \"14\": 168, \"4\": 75, \"5\": 100, \"6\": 63, \"15\": 25}, \"11\": {\"11\": 1120, \"9\": 42, \"0\": 36, \"10\": 2}, \"14\": {\"14\": 1019, \"13\": 82, \"6\": 24, \"2\": 58, \"3\": 17}, \"7\": {\"7\": 1176, \"15\": 15, \"1\": 5, \"5\": 4}, \"4\": {\"4\": 937, \"5\": 133, \"3\": 90, \"2\": 31, \"1\": 9}}, \"ORACLE.run1_20\": {\"3\": {\"3\": 546, \"2\": 66, \"12\": 264, \"1\": 17, \"9\": 177, \"8\": 14, \"5\": 33, \"7\": 19, \"4\": 55, \"10\": 3, \"0\": 4, \"15\": 1, \"13\": 1}, \"15\": {\"15\": 796, \"1\": 188, \"0\": 60, \"5\": 105, \"13\": 35, \"12\": 11, \"9\": 3, \"2\": 2}, \"8\": {\"8\": 948, \"14\": 28, \"7\": 71, \"4\": 125, \"10\": 7, \"6\": 7, \"3\": 13, \"5\": 1}, \"4\": {\"4\": 1023, \"10\": 10, \"3\": 49, \"8\": 107, \"12\": 3, \"7\": 4, \"5\": 4}, \"14\": {\"10\": 54, \"14\": 1020, \"6\": 109, \"4\": 1, \"8\": 16}, \"0\": {\"0\": 764, \"5\": 251, \"15\": 112, \"1\": 25, \"4\": 3, \"12\": 11, \"3\": 15, \"13\": 6, \"2\": 3, \"8\": 5, \"7\": 3, \"9\": 2}, \"7\": {\"7\": 936, \"3\": 24, \"6\": 7, \"2\": 129, \"8\": 56, \"9\": 38, \"4\": 6, \"13\": 2, \"10\": 1, \"11\": 1}, \"6\": {\"6\": 1088, \"7\": 2, \"14\": 103, \"8\": 7}, \"10\": {\"10\": 1118, \"8\": 5, \"14\": 63, \"4\": 14}, \"5\": {\"5\": 587, \"0\": 198, \"15\": 96, \"3\": 29, \"1\": 162, \"12\": 119, \"13\": 2, \"2\": 3, \"9\": 2, \"4\": 2}, \"2\": {\"9\": 287, \"2\": 604, \"12\": 40, \"7\": 142, \"1\": 10, \"3\": 64, \"13\": 49, \"8\": 1, \"15\": 1, \"4\": 1, \"5\": 1}, \"12\": {\"12\": 512, \"5\": 102, \"3\": 243, \"1\": 171, \"9\": 107, \"2\": 38, \"15\": 17, \"4\": 3, \"0\": 6, \"7\": 1}, \"9\": {\"9\": 541, \"2\": 307, \"3\": 196, \"1\": 12, \"12\": 106, \"7\": 26, \"5\": 2, \"13\": 8, \"15\": 1, \"4\": 1}, \"1\": {\"12\": 203, \"5\": 183, \"3\": 24, \"15\": 171, \"1\": 593, \"13\": 3, \"0\": 13, \"9\": 5, \"2\": 5}, \"11\": {\"11\": 1199, \"7\": 1}, \"13\": {\"2\": 47, \"13\": 1125, \"15\": 17, \"0\": 2, \"5\": 2, \"1\": 1, \"9\": 4, \"12\": 1, \"7\": 1}}, \"ORACLE.run1_38\": {\"5\": {\"5\": 552, \"8\": 325, \"0\": 64, \"9\": 36, \"6\": 48, \"1\": 9, \"13\": 2, \"7\": 111, \"15\": 44, \"3\": 6, \"10\": 3}, \"8\": {\"8\": 749, \"5\": 244, \"0\": 122, \"15\": 22, \"10\": 23, \"7\": 36, \"13\": 4}, \"11\": {\"11\": 1051, \"14\": 118, \"2\": 6, \"10\": 17, \"12\": 4, \"13\": 2, \"4\": 2}, \"1\": {\"15\": 43, \"1\": 1154, \"5\": 3}, \"10\": {\"10\": 978, \"13\": 102, \"8\": 46, \"15\": 7, \"14\": 9, \"0\": 20, \"7\": 5, \"5\": 6, \"12\": 14, \"4\": 2, \"11\": 7, \"2\": 4}, \"15\": {\"15\": 992, \"1\": 74, \"13\": 75, \"8\": 32, \"10\": 5, \"2\": 4, \"5\": 17, \"0\": 1}, \"3\": {\"3\": 1128, \"9\": 31, \"0\": 24, \"7\": 14, \"5\": 3}, \"7\": {\"7\": 1017, \"0\": 113, \"5\": 37, \"8\": 28, \"10\": 1, \"9\": 3, \"3\": 1}, \"4\": {\"4\": 1161, \"12\": 37, \"10\": 1, \"7\": 1}, \"14\": {\"14\": 1073, \"11\": 40, \"2\": 72, \"12\": 3, \"10\": 11, \"13\": 1}, \"9\": {\"6\": 281, \"9\": 883, \"3\": 25, \"5\": 9, \"0\": 1, \"8\": 1}, \"12\": {\"12\": 1156, \"4\": 42, \"0\": 1, \"14\": 1}, \"6\": {\"6\": 1059, \"9\": 133, \"8\": 1, \"5\": 7}, \"2\": {\"2\": 1108, \"14\": 65, \"13\": 26, \"10\": 1}, \"0\": {\"8\": 238, \"7\": 199, \"0\": 569, \"3\": 67, \"5\": 88, \"10\": 29, \"15\": 2, \"4\": 3, \"12\": 3, \"9\": 1, \"13\": 1}, \"13\": {\"10\": 87, \"13\": 908, \"5\": 5, \"2\": 18, \"15\": 164, \"14\": 3, \"8\": 9, \"1\": 5, \"0\": 1}}, \"ORACLE.run1_8\": {\"9\": {\"9\": 1200}, \"10\": {\"10\": 829, \"14\": 217, \"13\": 104, \"4\": 26, \"5\": 14, \"1\": 8, \"0\": 2}, \"13\": {\"0\": 308, \"13\": 425, \"4\": 200, \"14\": 101, \"7\": 8, \"6\": 47, \"10\": 111}, \"0\": {\"0\": 747, \"13\": 247, \"4\": 38, \"7\": 96, \"6\": 62, \"10\": 8, \"14\": 2}, \"1\": {\"1\": 883, \"11\": 264, \"5\": 21, \"14\": 25, \"10\": 4, \"4\": 3}, \"15\": {\"15\": 905, \"12\": 241, \"2\": 6, \"8\": 37, \"3\": 9, \"7\": 2}, \"5\": {\"5\": 1090, \"1\": 45, \"10\": 54, \"11\": 4, \"14\": 7}, \"3\": {\"12\": 43, \"3\": 1061, \"2\": 96}, \"6\": {\"6\": 752, \"7\": 263, \"4\": 100, \"0\": 51, \"13\": 27, \"8\": 3, \"14\": 4}, \"11\": {\"1\": 360, \"11\": 804, \"14\": 14, \"6\": 1, \"8\": 5, \"5\": 15, \"4\": 1}, \"8\": {\"8\": 1150, \"15\": 44, \"6\": 4, \"12\": 1, \"7\": 1}, \"4\": {\"0\": 44, \"4\": 644, \"14\": 168, \"13\": 210, \"10\": 22, \"6\": 105, \"11\": 3, \"7\": 4}, \"12\": {\"12\": 655, \"15\": 382, \"3\": 129, \"8\": 20, \"2\": 13, \"7\": 1}, \"14\": {\"4\": 172, \"10\": 171, \"14\": 719, \"1\": 39, \"13\": 93, \"6\": 2, \"11\": 3, \"0\": 1}, \"2\": {\"2\": 986, \"3\": 155, \"15\": 29, \"7\": 21, \"12\": 9}, \"7\": {\"6\": 270, \"7\": 887, \"0\": 32, \"4\": 4, \"8\": 1, \"13\": 5, \"15\": 1}}, \"ORACLE.run1_50\": {\"7\": {\"7\": 790, \"4\": 6, \"13\": 234, \"10\": 21, \"5\": 145, \"6\": 4}, \"3\": {\"3\": 1180, \"8\": 20}, \"8\": {\"8\": 1171, \"10\": 19, \"3\": 10}, \"2\": {\"2\": 1123, \"0\": 77}, \"14\": {\"14\": 1187, \"12\": 9, \"11\": 4}, \"4\": {\"4\": 578, \"5\": 133, \"15\": 182, \"1\": 176, \"6\": 81, \"13\": 23, \"7\": 25, \"0\": 1, \"11\": 1}, \"6\": {\"6\": 935, \"1\": 63, \"13\": 57, \"7\": 10, \"5\": 29, \"4\": 84, \"15\": 20, \"0\": 2}, \"15\": {\"15\": 898, \"1\": 189, \"4\": 84, \"11\": 18, \"6\": 10, \"5\": 1}, \"10\": {\"10\": 1107, \"0\": 30, \"13\": 27, \"7\": 20, \"8\": 13, \"5\": 3}, \"11\": {\"11\": 1064, \"9\": 92, \"14\": 12, \"12\": 5, \"1\": 3, \"15\": 24}, \"13\": {\"7\": 176, \"13\": 800, \"0\": 4, \"5\": 141, \"10\": 10, \"6\": 62, \"4\": 7}, \"9\": {\"9\": 976, \"12\": 67, \"11\": 154, \"14\": 3}, \"0\": {\"0\": 1040, \"2\": 99, \"10\": 56, \"13\": 3, \"5\": 1, \"1\": 1}, \"1\": {\"1\": 827, \"6\": 75, \"15\": 202, \"4\": 83, \"5\": 12, \"11\": 1}, \"12\": {\"12\": 1086, \"9\": 80, \"14\": 28, \"11\": 6}, \"5\": {\"1\": 65, \"5\": 502, \"7\": 228, \"13\": 179, \"4\": 139, \"6\": 74, \"10\": 11, \"15\": 2}}, \"ORACLE.run1_32\": {\"8\": {\"13\": 65, \"8\": 930, \"0\": 114, \"7\": 3, \"5\": 72, \"3\": 8, \"14\": 7, \"15\": 1}, \"14\": {\"14\": 554, \"11\": 301, \"7\": 189, \"0\": 54, \"5\": 30, \"13\": 38, \"2\": 7, \"4\": 13, \"8\": 11, \"3\": 3}, \"2\": {\"4\": 183, \"2\": 968, \"7\": 20, \"14\": 1, \"0\": 23, \"5\": 3, \"8\": 1, \"13\": 1}, \"0\": {\"0\": 905, \"5\": 37, \"8\": 93, \"14\": 28, \"2\": 37, \"13\": 14, \"7\": 39, \"4\": 47}, \"1\": {\"1\": 1191, \"10\": 9}, \"10\": {\"10\": 1196, \"1\": 4}, \"11\": {\"14\": 178, \"11\": 973, \"3\": 9, \"13\": 19, \"7\": 17, \"5\": 4}, \"5\": {\"5\": 436, \"7\": 147, \"13\": 285, \"8\": 74, \"3\": 42, \"4\": 142, \"11\": 9, \"0\": 39, \"14\": 20, \"2\": 6}, \"15\": {\"15\": 1194, \"8\": 6}, \"3\": {\"3\": 1114, \"5\": 11, \"14\": 2, \"13\": 50, \"11\": 15, \"8\": 8}, \"12\": {\"12\": 1200}, \"7\": {\"7\": 598, \"4\": 139, \"13\": 75, \"5\": 148, \"14\": 158, \"0\": 30, \"2\": 21, \"11\": 27, \"3\": 3, \"8\": 1}, \"13\": {\"8\": 63, \"13\": 611, \"5\": 234, \"14\": 24, \"3\": 87, \"7\": 73, \"4\": 70, \"0\": 18, \"11\": 20}, \"6\": {\"6\": 1200}, \"4\": {\"4\": 773, \"7\": 103, \"2\": 184, \"0\": 23, \"5\": 72, \"13\": 40, \"8\": 4, \"14\": 1}, \"9\": {\"9\": 1199, \"12\": 1}}, \"ORACLE.run1_26\": {\"4\": {\"8\": 76, \"14\": 212, \"4\": 570, \"10\": 45, \"1\": 66, \"0\": 152, \"7\": 79}, \"12\": {\"12\": 1200}, \"10\": {\"0\": 254, \"10\": 513, \"9\": 16, \"4\": 58, \"8\": 175, \"6\": 49, \"14\": 113, \"1\": 17, \"7\": 4, \"15\": 1}, \"0\": {\"10\": 288, \"0\": 380, \"1\": 22, \"14\": 205, \"7\": 18, \"8\": 119, \"4\": 142, \"15\": 6, \"6\": 16, \"9\": 4}, \"13\": {\"13\": 875, \"5\": 217, \"9\": 18, \"6\": 11, \"15\": 58, \"2\": 20, \"3\": 1}, \"9\": {\"15\": 360, \"9\": 497, \"0\": 8, \"6\": 158, \"5\": 39, \"8\": 88, \"10\": 24, \"13\": 19, \"2\": 5, \"7\": 2}, \"3\": {\"3\": 781, \"2\": 260, \"7\": 157, \"5\": 1, \"4\": 1}, \"2\": {\"7\": 120, \"8\": 31, \"2\": 479, \"3\": 363, \"15\": 60, \"5\": 119, \"13\": 12, \"9\": 12, \"4\": 4}, \"5\": {\"5\": 773, \"15\": 144, \"13\": 159, \"2\": 54, \"9\": 48, \"8\": 17, \"6\": 2, \"7\": 3}, \"14\": {\"14\": 467, \"4\": 246, \"0\": 175, \"10\": 93, \"1\": 179, \"7\": 16, \"8\": 24}, \"8\": {\"0\": 80, \"8\": 545, \"7\": 76, \"4\": 105, \"2\": 12, \"15\": 69, \"10\": 172, \"9\": 93, \"14\": 17, \"6\": 19, \"1\": 4, \"5\": 7, \"3\": 1}, \"7\": {\"7\": 692, \"4\": 99, \"0\": 22, \"2\": 114, \"8\": 75, \"3\": 173, \"5\": 5, \"10\": 1, \"15\": 7, \"14\": 5, \"9\": 5, \"1\": 2}, \"6\": {\"6\": 921, \"10\": 67, \"15\": 25, \"9\": 138, \"0\": 18, \"13\": 5, \"8\": 25, \"5\": 1}, \"11\": {\"11\": 1194, \"12\": 6}, \"15\": {\"8\": 88, \"6\": 30, \"9\": 360, \"15\": 492, \"13\": 53, \"2\": 29, \"5\": 128, \"10\": 8, \"0\": 3, \"7\": 8, \"4\": 1}, \"1\": {\"1\": 784, \"14\": 206, \"4\": 129, \"0\": 26, \"10\": 37, \"7\": 14, \"8\": 3, \"3\": 1}}, \"ORACLE.run1_44\": {\"12\": {\"10\": 53, \"12\": 953, \"1\": 183, \"3\": 11}, \"7\": {\"7\": 826, \"2\": 145, \"9\": 198, \"6\": 27, \"1\": 2, \"13\": 2}, \"5\": {\"5\": 1032, \"14\": 34, \"0\": 91, \"15\": 32, \"8\": 7, \"4\": 4}, \"15\": {\"15\": 990, \"14\": 80, \"0\": 71, \"8\": 21, \"5\": 33, \"4\": 5}, \"8\": {\"8\": 742, \"0\": 409, \"15\": 32, \"5\": 17}, \"2\": {\"2\": 933, \"7\": 172, \"1\": 34, \"10\": 58, \"3\": 3}, \"13\": {\"13\": 796, \"9\": 126, \"6\": 229, \"11\": 45, \"7\": 2, \"4\": 2}, \"4\": {\"4\": 879, \"14\": 310, \"15\": 6, \"13\": 4, \"5\": 1}, \"0\": {\"0\": 777, \"5\": 64, \"8\": 296, \"15\": 63}, \"6\": {\"6\": 848, \"13\": 199, \"7\": 24, \"9\": 121, \"11\": 5, \"2\": 3}, \"9\": {\"13\": 135, \"9\": 690, \"7\": 255, \"6\": 112, \"2\": 6, \"1\": 1, \"4\": 1}, \"11\": {\"11\": 1117, \"13\": 63, \"6\": 20}, \"10\": {\"10\": 910, \"2\": 103, \"12\": 63, \"1\": 121, \"7\": 3}, \"14\": {\"14\": 767, \"4\": 335, \"15\": 66, \"5\": 31, \"0\": 1}, \"1\": {\"10\": 88, \"1\": 759, \"12\": 172, \"2\": 48, \"3\": 132, \"7\": 1}, \"3\": {\"3\": 1048, \"1\": 139, \"12\": 11, \"2\": 2}}, \"ORACLE.run2_14\": {\"15\": {\"15\": 1193, \"4\": 1, \"7\": 4, \"13\": 2}, \"3\": {\"3\": 1021, \"4\": 66, \"5\": 67, \"1\": 5, \"2\": 30, \"14\": 11}, \"6\": {\"13\": 221, \"6\": 895, \"14\": 60, \"2\": 23, \"4\": 1}, \"1\": {\"1\": 1117, \"4\": 16, \"5\": 67}, \"8\": {\"8\": 1200}, \"10\": {\"10\": 1159, \"0\": 39, \"11\": 1, \"14\": 1}, \"9\": {\"9\": 1197, \"12\": 2, \"11\": 1}, \"13\": {\"6\": 284, \"13\": 893, \"2\": 19, \"14\": 4}, \"12\": {\"12\": 581, \"11\": 325, \"9\": 147, \"10\": 9, \"8\": 53, \"0\": 85}, \"5\": {\"5\": 692, \"3\": 99, \"4\": 257, \"1\": 76, \"2\": 72, \"6\": 1, \"14\": 2, \"13\": 1}, \"0\": {\"0\": 1194, \"10\": 4, \"3\": 1, \"14\": 1}, \"2\": {\"2\": 554, \"3\": 100, \"5\": 146, \"14\": 212, \"13\": 85, \"1\": 1, \"6\": 30, \"15\": 2, \"4\": 70}, \"11\": {\"11\": 1183, \"12\": 17}, \"14\": {\"14\": 893, \"6\": 78, \"2\": 168, \"4\": 5, \"13\": 16, \"0\": 2, \"3\": 32, \"5\": 6}, \"7\": {\"7\": 1191, \"1\": 3, \"15\": 6}, \"4\": {\"4\": 799, \"6\": 2, \"5\": 262, \"2\": 68, \"3\": 44, \"1\": 23, \"14\": 2}}, \"ORACLE.run2_20\": {\"3\": {\"2\": 173, \"3\": 544, \"9\": 121, \"5\": 130, \"7\": 157, \"4\": 19, \"10\": 11, \"8\": 10, \"12\": 28, \"1\": 3, \"15\": 3, \"13\": 1}, \"15\": {\"15\": 545, \"13\": 268, \"9\": 42, \"1\": 81, \"12\": 78, \"5\": 71, \"2\": 87, \"0\": 26, \"3\": 2}, \"8\": {\"14\": 136, \"8\": 832, \"4\": 59, \"7\": 118, \"5\": 9, \"6\": 20, \"3\": 14, \"10\": 12}, \"4\": {\"4\": 1109, \"5\": 20, \"0\": 11, \"12\": 26, \"1\": 3, \"3\": 13, \"8\": 13, \"2\": 2, \"10\": 3}, \"14\": {\"14\": 868, \"10\": 68, \"8\": 153, \"6\": 108, \"7\": 2, \"4\": 1}, \"0\": {\"0\": 954, \"1\": 51, \"5\": 75, \"15\": 46, \"12\": 38, \"4\": 27, \"13\": 9}, \"7\": {\"7\": 944, \"8\": 103, \"4\": 5, \"6\": 5, \"3\": 112, \"10\": 5, \"5\": 17, \"2\": 7, \"9\": 1, \"14\": 1}, \"6\": {\"6\": 1104, \"14\": 78, \"8\": 6, \"7\": 9, \"10\": 3}, \"10\": {\"10\": 1069, \"14\": 82, \"4\": 6, \"6\": 12, \"3\": 4, \"8\": 25, \"7\": 2}, \"5\": {\"7\": 38, \"2\": 131, \"5\": 524, \"1\": 22, \"12\": 111, \"3\": 133, \"15\": 66, \"0\": 99, \"4\": 25, \"9\": 42, \"8\": 4, \"13\": 5}, \"2\": {\"9\": 295, \"5\": 148, \"2\": 404, \"3\": 178, \"15\": 83, \"4\": 2, \"12\": 57, \"13\": 14, \"1\": 14, \"0\": 1, \"7\": 4}, \"12\": {\"1\": 248, \"15\": 75, \"2\": 65, \"12\": 501, \"5\": 106, \"0\": 31, \"9\": 107, \"13\": 5, \"4\": 31, \"3\": 31}, \"9\": {\"2\": 281, \"1\": 28, \"9\": 545, \"15\": 67, \"3\": 136, \"12\": 99, \"5\": 31, \"7\": 4, \"4\": 2, \"13\": 6, \"8\": 1}, \"1\": {\"1\": 689, \"12\": 274, \"2\": 10, \"0\": 55, \"13\": 12, \"9\": 44, \"15\": 100, \"3\": 1, \"5\": 12, \"4\": 3}, \"11\": {\"11\": 1200}, \"13\": {\"13\": 915, \"2\": 22, \"15\": 246, \"1\": 8, \"5\": 2, \"9\": 2, \"0\": 5}}, \"ORACLE.run2_38\": {\"5\": {\"7\": 136, \"5\": 498, \"15\": 126, \"8\": 379, \"10\": 22, \"3\": 3, \"13\": 34, \"14\": 1, \"0\": 1}, \"8\": {\"8\": 437, \"5\": 380, \"15\": 198, \"13\": 65, \"7\": 94, \"3\": 5, \"0\": 3, \"10\": 15, \"1\": 3}, \"11\": {\"14\": 48, \"11\": 1107, \"12\": 23, \"4\": 14, \"2\": 6, \"10\": 2}, \"1\": {\"1\": 1138, \"15\": 55, \"5\": 2, \"8\": 2, \"13\": 3}, \"10\": {\"10\": 665, \"7\": 399, \"8\": 36, \"0\": 12, \"15\": 5, \"3\": 19, \"13\": 18, \"5\": 42, \"4\": 4}, \"15\": {\"15\": 669, \"1\": 101, \"8\": 198, \"5\": 179, \"0\": 19, \"3\": 12, \"7\": 6, \"13\": 11, \"6\": 2, \"10\": 3}, \"3\": {\"13\": 143, \"3\": 488, \"0\": 283, \"7\": 42, \"8\": 60, \"10\": 73, \"6\": 14, \"9\": 54, \"5\": 22, \"1\": 5, \"15\": 16}, \"7\": {\"10\": 319, \"7\": 616, \"5\": 141, \"8\": 99, \"15\": 6, \"3\": 10, \"0\": 4, \"13\": 5}, \"4\": {\"4\": 1165, \"12\": 25, \"7\": 4, \"10\": 6}, \"14\": {\"14\": 730, \"12\": 92, \"2\": 310, \"13\": 2, \"11\": 19, \"5\": 12, \"4\": 4, \"7\": 18, \"8\": 11, \"10\": 2}, \"9\": {\"9\": 902, \"0\": 4, \"6\": 284, \"3\": 10}, \"12\": {\"12\": 1179, \"4\": 15, \"14\": 6}, \"6\": {\"6\": 993, \"9\": 205, \"15\": 1, \"0\": 1}, \"2\": {\"2\": 1061, \"14\": 139}, \"0\": {\"0\": 1058, \"3\": 108, \"9\": 4, \"10\": 15, \"6\": 2, \"7\": 8, \"15\": 1, \"5\": 1, \"8\": 3}, \"13\": {\"13\": 620, \"5\": 94, \"8\": 135, \"7\": 32, \"1\": 42, \"6\": 5, \"3\": 158, \"0\": 10, \"15\": 49, \"10\": 37, \"2\": 10, \"9\": 3, \"14\": 5}}, \"ORACLE.run2_8\": {\"9\": {\"9\": 1200}, \"10\": {\"0\": 189, \"10\": 729, \"5\": 177, \"14\": 56, \"1\": 11, \"13\": 38}, \"13\": {\"13\": 855, \"14\": 169, \"10\": 45, \"1\": 101, \"6\": 11, \"5\": 12, \"0\": 6, \"4\": 1}, \"0\": {\"0\": 815, \"10\": 157, \"14\": 211, \"4\": 5, \"6\": 6, \"13\": 5, \"5\": 1}, \"1\": {\"1\": 1093, \"13\": 76, \"5\": 24, \"10\": 6, \"14\": 1}, \"15\": {\"15\": 748, \"8\": 125, \"12\": 176, \"11\": 143, \"3\": 8}, \"5\": {\"5\": 930, \"10\": 226, \"13\": 8, \"1\": 33, \"0\": 3}, \"3\": {\"3\": 1133, \"12\": 64, \"15\": 3}, \"6\": {\"6\": 574, \"4\": 381, \"7\": 186, \"0\": 4, \"14\": 38, \"13\": 5, \"2\": 12}, \"11\": {\"15\": 186, \"12\": 106, \"11\": 638, \"8\": 268, \"6\": 2}, \"8\": {\"8\": 1046, \"11\": 82, \"13\": 1, \"15\": 64, \"6\": 4, \"7\": 3}, \"4\": {\"6\": 358, \"4\": 498, \"2\": 82, \"7\": 244, \"14\": 13, \"0\": 5}, \"12\": {\"12\": 1009, \"15\": 117, \"11\": 19, \"3\": 55}, \"14\": {\"14\": 729, \"0\": 196, \"4\": 23, \"10\": 62, \"13\": 138, \"6\": 51, \"7\": 1}, \"2\": {\"4\": 121, \"2\": 912, \"7\": 146, \"6\": 20, \"0\": 1}, \"7\": {\"7\": 624, \"6\": 234, \"2\": 119, \"4\": 218, \"14\": 1, \"8\": 2, \"15\": 1, \"13\": 1}}, \"ORACLE.run2_50\": {\"7\": {\"7\": 643, \"13\": 360, \"5\": 112, \"10\": 73, \"4\": 8, \"6\": 4}, \"3\": {\"3\": 1153, \"8\": 47}, \"8\": {\"8\": 1145, \"3\": 55}, \"2\": {\"2\": 1131, \"0\": 69}, \"14\": {\"14\": 1187, \"11\": 4, \"12\": 9}, \"4\": {\"4\": 687, \"5\": 298, \"1\": 57, \"6\": 138, \"7\": 5, \"10\": 8, \"13\": 5, \"15\": 2}, \"6\": {\"1\": 146, \"6\": 855, \"5\": 64, \"4\": 121, \"15\": 8, \"7\": 1, \"0\": 3, \"10\": 2}, \"15\": {\"15\": 1105, \"1\": 69, \"11\": 15, \"6\": 9, \"14\": 2}, \"10\": {\"10\": 929, \"13\": 167, \"5\": 38, \"7\": 49, \"0\": 16, \"6\": 1}, \"11\": {\"11\": 1122, \"14\": 13, \"15\": 39, \"9\": 19, \"12\": 7}, \"13\": {\"13\": 706, \"10\": 164, \"7\": 274, \"5\": 51, \"4\": 5}, \"9\": {\"9\": 1133, \"12\": 44, \"11\": 23}, \"0\": {\"0\": 1106, \"2\": 70, \"10\": 19, \"5\": 4, \"6\": 1}, \"1\": {\"1\": 984, \"6\": 103, \"15\": 60, \"4\": 45, \"5\": 8}, \"12\": {\"12\": 1107, \"14\": 34, \"9\": 53, \"11\": 6}, \"5\": {\"4\": 300, \"7\": 89, \"13\": 70, \"5\": 613, \"10\": 54, \"6\": 52, \"1\": 14, \"0\": 8}}, \"ORACLE.run2_32\": {\"8\": {\"8\": 948, \"5\": 64, \"15\": 4, \"0\": 83, \"7\": 1, \"4\": 41, \"13\": 45, \"3\": 11, \"11\": 3}, \"14\": {\"14\": 1016, \"2\": 74, \"0\": 39, \"11\": 16, \"5\": 50, \"8\": 1, \"4\": 3, \"7\": 1}, \"2\": {\"2\": 1007, \"5\": 59, \"14\": 77, \"11\": 9, \"4\": 24, \"7\": 13, \"13\": 1, \"0\": 10}, \"0\": {\"0\": 680, \"5\": 131, \"4\": 96, \"11\": 140, \"8\": 69, \"7\": 17, \"13\": 44, \"2\": 10, \"3\": 1, \"14\": 12}, \"1\": {\"1\": 1195, \"10\": 5}, \"10\": {\"10\": 1198, \"1\": 2}, \"11\": {\"7\": 199, \"11\": 690, \"0\": 159, \"13\": 74, \"14\": 14, \"2\": 10, \"4\": 49, \"5\": 2, \"8\": 3}, \"5\": {\"2\": 116, \"3\": 6, \"13\": 45, \"5\": 514, \"8\": 128, \"14\": 72, \"0\": 150, \"4\": 143, \"11\": 12, \"7\": 13, \"15\": 1}, \"15\": {\"15\": 1193, \"8\": 7}, \"3\": {\"3\": 1134, \"8\": 20, \"13\": 42, \"0\": 1, \"7\": 2, \"4\": 1}, \"12\": {\"12\": 1200}, \"7\": {\"7\": 760, \"11\": 191, \"13\": 124, \"4\": 83, \"2\": 18, \"0\": 15, \"5\": 7, \"3\": 2}, \"13\": {\"3\": 22, \"4\": 237, \"13\": 720, \"5\": 21, \"7\": 86, \"0\": 22, \"11\": 58, \"8\": 34}, \"6\": {\"6\": 1200}, \"4\": {\"4\": 623, \"11\": 33, \"0\": 87, \"7\": 75, \"2\": 31, \"5\": 146, \"13\": 176, \"8\": 25, \"14\": 4}, \"9\": {\"9\": 1178, \"14\": 21, \"2\": 1}}, \"ORACLE.run2_26\": {\"4\": {\"4\": 743, \"8\": 48, \"3\": 64, \"0\": 94, \"15\": 39, \"10\": 16, \"14\": 49, \"7\": 64, \"2\": 76, \"1\": 7}, \"12\": {\"12\": 1200}, \"10\": {\"10\": 440, \"14\": 183, \"0\": 263, \"8\": 100, \"9\": 4, \"6\": 81, \"4\": 62, \"1\": 43, \"2\": 8, \"12\": 2, \"7\": 9, \"5\": 1, \"15\": 2, \"3\": 2}, \"0\": {\"8\": 98, \"0\": 441, \"14\": 227, \"1\": 85, \"4\": 134, \"10\": 190, \"7\": 9, \"2\": 9, \"15\": 3, \"6\": 2, \"3\": 1, \"9\": 1}, \"13\": {\"5\": 173, \"13\": 927, \"9\": 81, \"7\": 4, \"6\": 10, \"8\": 4, \"2\": 1}, \"9\": {\"6\": 136, \"9\": 774, \"13\": 79, \"8\": 109, \"5\": 54, \"7\": 28, \"2\": 10, \"10\": 6, \"15\": 3, \"0\": 1}, \"3\": {\"7\": 78, \"3\": 776, \"4\": 49, \"2\": 121, \"15\": 176}, \"2\": {\"2\": 388, \"15\": 76, \"7\": 370, \"3\": 139, \"5\": 32, \"4\": 101, \"8\": 71, \"9\": 9, \"14\": 4, \"13\": 1, \"0\": 7, \"10\": 2}, \"5\": {\"9\": 81, \"6\": 76, \"7\": 99, \"13\": 267, \"5\": 508, \"8\": 53, \"2\": 72, \"4\": 2, \"14\": 4, \"3\": 15, \"10\": 6, \"15\": 17}, \"14\": {\"1\": 246, \"4\": 52, \"14\": 431, \"10\": 151, \"0\": 222, \"8\": 83, \"7\": 6, \"2\": 3, \"9\": 4, \"5\": 1, \"6\": 1}, \"8\": {\"2\": 71, \"8\": 585, \"4\": 54, \"1\": 3, \"10\": 78, \"14\": 63, \"0\": 69, \"9\": 107, \"7\": 109, \"3\": 2, \"5\": 40, \"13\": 4, \"15\": 6, \"6\": 9}, \"7\": {\"2\": 392, \"15\": 66, \"7\": 391, \"8\": 113, \"3\": 80, \"4\": 87, \"10\": 2, \"5\": 44, \"14\": 1, \"9\": 16, \"0\": 7, \"1\": 1}, \"6\": {\"6\": 929, \"10\": 43, \"9\": 157, \"13\": 28, \"8\": 18, \"5\": 23, \"0\": 1, \"14\": 1}, \"11\": {\"11\": 1199, \"12\": 1}, \"15\": {\"3\": 213, \"15\": 681, \"7\": 110, \"2\": 114, \"4\": 53, \"8\": 12, \"5\": 7, \"10\": 1, \"9\": 5, \"0\": 4}, \"1\": {\"1\": 797, \"14\": 272, \"10\": 44, \"0\": 56, \"4\": 19, \"8\": 10, \"6\": 1, \"5\": 1}}, \"ORACLE.run2_44\": {\"12\": {\"1\": 275, \"12\": 846, \"3\": 78, \"10\": 1}, \"7\": {\"9\": 321, \"2\": 257, \"7\": 603, \"6\": 13, \"1\": 6}, \"5\": {\"5\": 1104, \"14\": 81, \"15\": 6, \"8\": 8, \"0\": 1}, \"15\": {\"4\": 37, \"5\": 6, \"15\": 1026, \"14\": 119, \"8\": 11, \"0\": 1}, \"8\": {\"0\": 482, \"8\": 699, \"14\": 2, \"15\": 7, \"5\": 10}, \"2\": {\"7\": 231, \"2\": 666, \"9\": 300, \"1\": 2, \"3\": 1}, \"13\": {\"13\": 1160, \"4\": 15, \"6\": 25}, \"4\": {\"4\": 1053, \"14\": 69, \"15\": 49, \"9\": 1, \"13\": 27, \"5\": 1}, \"0\": {\"0\": 676, \"8\": 517, \"5\": 4, \"15\": 2, \"14\": 1}, \"6\": {\"6\": 1118, \"7\": 14, \"9\": 45, \"13\": 20, \"2\": 1, \"11\": 2}, \"9\": {\"9\": 561, \"7\": 287, \"2\": 299, \"6\": 51, \"1\": 2}, \"11\": {\"11\": 1188, \"6\": 11, \"7\": 1}, \"10\": {\"10\": 1161, \"1\": 14, \"12\": 25}, \"14\": {\"15\": 145, \"14\": 871, \"4\": 68, \"5\": 113, \"8\": 1, \"13\": 2}, \"1\": {\"1\": 773, \"12\": 276, \"3\": 138, \"10\": 9, \"7\": 1, \"2\": 3}, \"3\": {\"3\": 1036, \"1\": 113, \"2\": 1, \"12\": 50}}}, \"per_domain_accuracy\": {\"ORACLE.run1_14\": {\"accuracy\": 0.83546875, \"source?\": true}, \"ORACLE.run1_20\": {\"accuracy\": 0.6979166666666666, \"source?\": true}, \"ORACLE.run1_38\": {\"accuracy\": 0.8092708333333334, \"source?\": true}, \"ORACLE.run1_8\": {\"accuracy\": 0.71546875, \"source?\": true}, \"ORACLE.run1_50\": {\"accuracy\": 0.795, \"source?\": true}, \"ORACLE.run1_32\": {\"accuracy\": 0.7834375, \"source?\": true}, \"ORACLE.run1_26\": {\"accuracy\": 0.58140625, \"source?\": true}, \"ORACLE.run1_44\": {\"accuracy\": 0.73265625, \"source?\": true}, \"ORACLE.run2_14\": {\"accuracy\": 0.8209375, \"source?\": false}, \"ORACLE.run2_20\": {\"accuracy\": 0.66390625, \"source?\": false}, \"ORACLE.run2_38\": {\"accuracy\": 0.6940625, \"source?\": false}, \"ORACLE.run2_8\": {\"accuracy\": 0.70484375, \"source?\": false}, \"ORACLE.run2_50\": {\"accuracy\": 0.8128125, \"source?\": false}, \"ORACLE.run2_32\": {\"accuracy\": 0.7945833333333333, \"source?\": false}, \"ORACLE.run2_26\": {\"accuracy\": 0.5838541666666667, \"source?\": false}, \"ORACLE.run2_44\": {\"accuracy\": 0.75734375, \"source?\": false}}}, \"history\": {\"epoch_indices\": [1, 2, 3, 4, 5, 6, 7, 8, 9, 10, 11], \"train_label_loss\": [1.035368621344013, 0.8978212289383546, 0.7201880371787895, 0.6274853551425483, 0.5772836564726285, 0.534029511070389, 0.49871631858637555, 0.46055804972259684, 0.4246456624435017, 0.3996340200181363, 0.3802579119522125], \"source_val_label_loss\": [38.27094650268555, 0.8192992806434631, 0.7305553555488586, 0.7140739560127258, 0.7206615805625916, 0.7213422060012817, 0.7123614549636841, 0.7351930141448975, 0.7623116374015808, 0.7615054845809937, 0.7620297074317932], \"target_val_label_loss\": [46.32310104370117, 0.8856843113899231, 0.8082556128501892, 0.7968394756317139, 0.8247606158256531, 0.8729109168052673, 0.7958963513374329, 0.8277250528335571, 1.1153979301452637, 0.8588521480560303, 0.8543441891670227], \"source_val_acc_label\": [0.6216341145833333, 0.6965690104166666, 0.7301041666666667, 0.7428971354166667, 0.7401953125, 0.7412890625, 0.743828125, 0.7358723958333333, 0.73642578125, 0.7392903645833333, 0.7341015625], \"target_val_acc_label\": [0.60083984375, 0.6805989583333333, 0.7141276041666667, 0.7266927083333333, 0.7260872395833333, 0.72341796875, 0.72904296875, 0.71880859375, 0.7166341145833334, 0.7224869791666667, 0.7150325520833334]}, \"dataset_metrics\": {\"source\": {\"train\": {\"n_unique_x\": 896000, \"n_unique_y\": 16, \"n_batch/episode\": 33600}, \"val\": {\"n_unique_x\": 192000, \"n_unique_y\": 16, \"n_batch/episode\": 4800}, \"test\": {\"n_unique_x\": 192000, \"n_unique_y\": 16, \"n_batch/episode\": 4800}}, \"target\": {\"train\": {\"n_unique_x\": 896000, \"n_unique_y\": 16, \"n_batch/episode\": 33600}, \"val\": {\"n_unique_x\": 192000, \"n_unique_y\": 16, \"n_batch/episode\": 4800}, \"test\": {\"n_unique_x\": 192000, \"n_unique_y\": 16, \"n_batch/episode\": 4800}}}}'"
      ]
     },
     "execution_count": 29,
     "metadata": {},
     "output_type": "execute_result"
    }
   ],
   "source": [
    "json.dumps(experiment)"
   ]
  }
 ],
 "metadata": {
  "celltoolbar": "Tags",
  "kernelspec": {
   "display_name": "Python 3 (ipykernel)",
   "language": "python",
   "name": "python3"
  },
  "language_info": {
   "codemirror_mode": {
    "name": "ipython",
    "version": 3
   },
   "file_extension": ".py",
   "mimetype": "text/x-python",
   "name": "python",
   "nbconvert_exporter": "python",
   "pygments_lexer": "ipython3",
   "version": "3.8.10"
  },
  "papermill": {
   "default_parameters": {},
   "duration": 10486.672011,
   "end_time": "2022-03-10T09:40:10.164206",
   "environment_variables": {},
   "exception": null,
   "input_path": "/mnt/wd500GB/CSC500/csc500-main/csc500-notebooks/templates/tl_ptn_template.ipynb",
   "output_path": "trial.ipynb",
   "parameters": {
    "parameters": {
     "BEST_MODEL_PATH": "./best_model.pth",
     "NUM_LOGS_PER_EPOCH": 10,
     "criteria_for_best": "target_loss",
     "dataset_seed": 1337,
     "datasets": [
      {
       "domain_prefix": "ORACLE.run1_",
       "domains": [
        32,
        38,
        8,
        44,
        14,
        50,
        20,
        26
       ],
       "episode_transforms": [],
       "labels": [
        "3123D52",
        "3123D65",
        "3123D79",
        "3123D80",
        "3123D54",
        "3123D70",
        "3123D7B",
        "3123D89",
        "3123D58",
        "3123D76",
        "3123D7D",
        "3123EFE",
        "3123D64",
        "3123D78",
        "3123D7E",
        "3124E4A"
       ],
       "num_examples_per_domain_per_label": 10000,
       "pickle_path": "/mnt/wd500GB/CSC500/csc500-main/datasets/oracle.Run1_10kExamples_stratified_ds.2022A.pkl",
       "source_or_target_dataset": "source",
       "x_transforms": [
        "unit_power"
       ]
      },
      {
       "domain_prefix": "ORACLE.run2_",
       "domains": [
        32,
        38,
        8,
        44,
        14,
        50,
        20,
        26
       ],
       "episode_transforms": [],
       "labels": [
        "3123D52",
        "3123D65",
        "3123D79",
        "3123D80",
        "3123D54",
        "3123D70",
        "3123D7B",
        "3123D89",
        "3123D58",
        "3123D76",
        "3123D7D",
        "3123EFE",
        "3123D64",
        "3123D78",
        "3123D7E",
        "3124E4A"
       ],
       "num_examples_per_domain_per_label": 10000,
       "pickle_path": "/mnt/wd500GB/CSC500/csc500-main/datasets/oracle.Run2_10kExamples_stratified_ds.2022A.pkl",
       "source_or_target_dataset": "target",
       "x_transforms": [
        "unit_power"
       ]
      }
     ],
     "device": "cuda",
     "experiment_name": "tl_1_oracle.run1-oracle.run2",
     "lr": 0.001,
     "n_epoch": 50,
     "n_query": 2,
     "n_shot": 3,
     "n_way": 16,
     "patience": 3,
     "seed": 1337,
     "test_k_factor": 2,
     "torch_default_dtype": "torch.float32",
     "train_k_factor": 3,
     "val_k_factor": 2,
     "x_net": [
      {
       "class": "nnReshape",
       "kargs": {
        "shape": [
         -1,
         1,
         2,
         256
        ]
       }
      },
      {
       "class": "Conv2d",
       "kargs": {
        "bias": false,
        "in_channels": 1,
        "kernel_size": [
         1,
         7
        ],
        "out_channels": 256,
        "padding": [
         0,
         3
        ]
       }
      },
      {
       "class": "ReLU",
       "kargs": {
        "inplace": true
       }
      },
      {
       "class": "BatchNorm2d",
       "kargs": {
        "num_features": 256
       }
      },
      {
       "class": "Conv2d",
       "kargs": {
        "bias": true,
        "in_channels": 256,
        "kernel_size": [
         2,
         7
        ],
        "out_channels": 80,
        "padding": [
         0,
         3
        ]
       }
      },
      {
       "class": "ReLU",
       "kargs": {
        "inplace": true
       }
      },
      {
       "class": "BatchNorm2d",
       "kargs": {
        "num_features": 80
       }
      },
      {
       "class": "Flatten",
       "kargs": {}
      },
      {
       "class": "Linear",
       "kargs": {
        "in_features": 20480,
        "out_features": 256
       }
      },
      {
       "class": "ReLU",
       "kargs": {
        "inplace": true
       }
      },
      {
       "class": "BatchNorm1d",
       "kargs": {
        "num_features": 256
       }
      },
      {
       "class": "Linear",
       "kargs": {
        "in_features": 256,
        "out_features": 256
       }
      }
     ]
    }
   },
   "start_time": "2022-03-10T06:45:23.492195",
   "version": "2.3.4"
  }
 },
 "nbformat": 4,
 "nbformat_minor": 5
}