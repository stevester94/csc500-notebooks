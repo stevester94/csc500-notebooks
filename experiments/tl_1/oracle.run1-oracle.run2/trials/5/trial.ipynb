{
 "cells": [
  {
   "cell_type": "markdown",
   "id": "9fea5f46",
   "metadata": {
    "papermill": {
     "duration": 0.018328,
     "end_time": "2022-03-10T18:45:42.778906",
     "exception": false,
     "start_time": "2022-03-10T18:45:42.760578",
     "status": "completed"
    },
    "tags": []
   },
   "source": [
    "# Transfer Learning Template"
   ]
  },
  {
   "cell_type": "code",
   "execution_count": 1,
   "id": "0902182a",
   "metadata": {
    "execution": {
     "iopub.execute_input": "2022-03-10T18:45:42.815294Z",
     "iopub.status.busy": "2022-03-10T18:45:42.814944Z",
     "iopub.status.idle": "2022-03-10T18:45:43.804747Z",
     "shell.execute_reply": "2022-03-10T18:45:43.804961Z"
    },
    "papermill": {
     "duration": 1.014064,
     "end_time": "2022-03-10T18:45:43.805047",
     "exception": false,
     "start_time": "2022-03-10T18:45:42.790983",
     "status": "completed"
    },
    "tags": []
   },
   "outputs": [],
   "source": [
    "%load_ext autoreload\n",
    "%autoreload 2\n",
    "%matplotlib inline\n",
    "\n",
    "    \n",
    "import os, json, sys, time, random\n",
    "import numpy as np\n",
    "import torch\n",
    "from torch.optim import Adam\n",
    "from  easydict import EasyDict\n",
    "import matplotlib.pyplot as plt\n",
    "\n",
    "from steves_models.steves_ptn import Steves_Prototypical_Network\n",
    "\n",
    "from steves_utils.lazy_iterable_wrapper import Lazy_Iterable_Wrapper\n",
    "from steves_utils.iterable_aggregator import Iterable_Aggregator\n",
    "from steves_utils.ptn_train_eval_test_jig import  PTN_Train_Eval_Test_Jig\n",
    "from steves_utils.torch_sequential_builder import build_sequential\n",
    "from steves_utils.torch_utils import get_dataset_metrics, ptn_confusion_by_domain_over_dataloader\n",
    "from steves_utils.utils_v2 import (per_domain_accuracy_from_confusion, get_datasets_base_path)\n",
    "from steves_utils.PTN.utils import independent_accuracy_assesment\n",
    "\n",
    "from torch.utils.data import DataLoader\n",
    "\n",
    "from steves_utils.stratified_dataset.episodic_accessor import Episodic_Accessor_Factory\n",
    "\n",
    "from steves_utils.ptn_do_report import (\n",
    "    get_loss_curve,\n",
    "    get_results_table,\n",
    "    get_parameters_table,\n",
    "    get_domain_accuracies,\n",
    ")\n",
    "\n",
    "from steves_utils.transforms import get_chained_transform"
   ]
  },
  {
   "cell_type": "markdown",
   "id": "41c840b4",
   "metadata": {
    "papermill": {
     "duration": 0.012596,
     "end_time": "2022-03-10T18:45:43.830921",
     "exception": false,
     "start_time": "2022-03-10T18:45:43.818325",
     "status": "completed"
    },
    "tags": []
   },
   "source": [
    "# Allowed Parameters\n",
    "These are allowed parameters, not defaults\n",
    "Each of these values need to be present in the injected parameters (the notebook will raise an exception if they are not present)\n",
    "\n",
    "Papermill uses the cell tag \"parameters\" to inject the real parameters below this cell.\n",
    "Enable tags to see what I mean"
   ]
  },
  {
   "cell_type": "code",
   "execution_count": 2,
   "id": "fd44eb83",
   "metadata": {
    "execution": {
     "iopub.execute_input": "2022-03-10T18:45:43.859592Z",
     "iopub.status.busy": "2022-03-10T18:45:43.859339Z",
     "iopub.status.idle": "2022-03-10T18:45:43.873376Z",
     "shell.execute_reply": "2022-03-10T18:45:43.873166Z"
    },
    "papermill": {
     "duration": 0.029844,
     "end_time": "2022-03-10T18:45:43.873424",
     "exception": false,
     "start_time": "2022-03-10T18:45:43.843580",
     "status": "completed"
    },
    "tags": []
   },
   "outputs": [],
   "source": [
    "required_parameters = {\n",
    "    \"experiment_name\",\n",
    "    \"lr\",\n",
    "    \"device\",\n",
    "    \"seed\",\n",
    "    \"dataset_seed\",\n",
    "    \"n_shot\",\n",
    "    \"n_query\",\n",
    "    \"n_way\",\n",
    "    \"train_k_factor\",\n",
    "    \"val_k_factor\",\n",
    "    \"test_k_factor\",\n",
    "    \"n_epoch\",\n",
    "    \"patience\",\n",
    "    \"criteria_for_best\",\n",
    "    \"x_net\",\n",
    "    \"datasets\",\n",
    "    \"torch_default_dtype\",\n",
    "    \"NUM_LOGS_PER_EPOCH\",\n",
    "    \"BEST_MODEL_PATH\",\n",
    "}"
   ]
  },
  {
   "cell_type": "code",
   "execution_count": 3,
   "id": "fa3f0049",
   "metadata": {
    "execution": {
     "iopub.execute_input": "2022-03-10T18:45:43.903026Z",
     "iopub.status.busy": "2022-03-10T18:45:43.902689Z",
     "iopub.status.idle": "2022-03-10T18:45:43.914278Z",
     "shell.execute_reply": "2022-03-10T18:45:43.914657Z"
    },
    "papermill": {
     "duration": 0.02923,
     "end_time": "2022-03-10T18:45:43.914763",
     "exception": false,
     "start_time": "2022-03-10T18:45:43.885533",
     "status": "completed"
    },
    "tags": [
     "parameters"
    ]
   },
   "outputs": [],
   "source": [
    "from steves_utils.CORES.utils import (\n",
    "    ALL_NODES,\n",
    "    ALL_NODES_MINIMUM_1000_EXAMPLES,\n",
    "    ALL_DAYS\n",
    ")\n",
    "\n",
    "from steves_utils.ORACLE.utils_v2 import (\n",
    "    ALL_DISTANCES_FEET_NARROWED,\n",
    "    ALL_RUNS,\n",
    "    ALL_SERIAL_NUMBERS,\n",
    ")\n",
    "\n",
    "standalone_parameters = {}\n",
    "standalone_parameters[\"experiment_name\"] = \"STANDALONE PTN\"\n",
    "standalone_parameters[\"lr\"] = 0.001\n",
    "standalone_parameters[\"device\"] = \"cuda\"\n",
    "\n",
    "standalone_parameters[\"seed\"] = 1337\n",
    "standalone_parameters[\"dataset_seed\"] = 1337\n",
    "\n",
    "standalone_parameters[\"n_way\"] = 8\n",
    "standalone_parameters[\"n_shot\"] = 3\n",
    "standalone_parameters[\"n_query\"]  = 2\n",
    "standalone_parameters[\"train_k_factor\"] = 1\n",
    "standalone_parameters[\"val_k_factor\"] = 2\n",
    "standalone_parameters[\"test_k_factor\"] = 2\n",
    "\n",
    "\n",
    "standalone_parameters[\"n_epoch\"] = 50\n",
    "\n",
    "standalone_parameters[\"patience\"] = 10\n",
    "standalone_parameters[\"criteria_for_best\"] = \"source_loss\"\n",
    "\n",
    "standalone_parameters[\"datasets\"] = [\n",
    "    {\n",
    "        \"labels\": ALL_SERIAL_NUMBERS,\n",
    "        \"domains\": ALL_DISTANCES_FEET_NARROWED,\n",
    "        \"num_examples_per_domain_per_label\": 100,\n",
    "        \"pickle_path\": os.path.join(get_datasets_base_path(), \"oracle.Run1_framed_2000Examples_stratified_ds.2022A.pkl\"),\n",
    "        \"source_or_target_dataset\": \"source\",\n",
    "        \"x_transforms\": [\"unit_mag\", \"minus_two\"],\n",
    "        \"episode_transforms\": [],\n",
    "        \"domain_prefix\": \"ORACLE_\"\n",
    "    },\n",
    "    {\n",
    "        \"labels\": ALL_NODES,\n",
    "        \"domains\": ALL_DAYS,\n",
    "        \"num_examples_per_domain_per_label\": 100,\n",
    "        \"pickle_path\": os.path.join(get_datasets_base_path(), \"cores.stratified_ds.2022A.pkl\"),\n",
    "        \"source_or_target_dataset\": \"target\",\n",
    "        \"x_transforms\": [\"unit_power\", \"times_zero\"],\n",
    "        \"episode_transforms\": [],\n",
    "        \"domain_prefix\": \"CORES_\"\n",
    "    }   \n",
    "]\n",
    "\n",
    "standalone_parameters[\"torch_default_dtype\"] = \"torch.float32\" \n",
    "\n",
    "\n",
    "\n",
    "standalone_parameters[\"x_net\"] =     [\n",
    "    {\"class\": \"nnReshape\", \"kargs\": {\"shape\":[-1, 1, 2, 256]}},\n",
    "    {\"class\": \"Conv2d\", \"kargs\": { \"in_channels\":1, \"out_channels\":256, \"kernel_size\":(1,7), \"bias\":False, \"padding\":(0,3), },},\n",
    "    {\"class\": \"ReLU\", \"kargs\": {\"inplace\": True}},\n",
    "    {\"class\": \"BatchNorm2d\", \"kargs\": {\"num_features\":256}},\n",
    "\n",
    "    {\"class\": \"Conv2d\", \"kargs\": { \"in_channels\":256, \"out_channels\":80, \"kernel_size\":(2,7), \"bias\":True, \"padding\":(0,3), },},\n",
    "    {\"class\": \"ReLU\", \"kargs\": {\"inplace\": True}},\n",
    "    {\"class\": \"BatchNorm2d\", \"kargs\": {\"num_features\":80}},\n",
    "    {\"class\": \"Flatten\", \"kargs\": {}},\n",
    "\n",
    "    {\"class\": \"Linear\", \"kargs\": {\"in_features\": 80*256, \"out_features\": 256}}, # 80 units per IQ pair\n",
    "    {\"class\": \"ReLU\", \"kargs\": {\"inplace\": True}},\n",
    "    {\"class\": \"BatchNorm1d\", \"kargs\": {\"num_features\":256}},\n",
    "\n",
    "    {\"class\": \"Linear\", \"kargs\": {\"in_features\": 256, \"out_features\": 256}},\n",
    "]\n",
    "\n",
    "# Parameters relevant to results\n",
    "# These parameters will basically never need to change\n",
    "standalone_parameters[\"NUM_LOGS_PER_EPOCH\"] = 10\n",
    "standalone_parameters[\"BEST_MODEL_PATH\"] = \"./best_model.pth\"\n",
    "\n",
    "\n",
    "\n",
    "\n"
   ]
  },
  {
   "cell_type": "code",
   "execution_count": 4,
   "id": "d037e10d",
   "metadata": {
    "execution": {
     "iopub.execute_input": "2022-03-10T18:45:43.952793Z",
     "iopub.status.busy": "2022-03-10T18:45:43.952513Z",
     "iopub.status.idle": "2022-03-10T18:45:43.965264Z",
     "shell.execute_reply": "2022-03-10T18:45:43.965609Z"
    },
    "papermill": {
     "duration": 0.033979,
     "end_time": "2022-03-10T18:45:43.965714",
     "exception": false,
     "start_time": "2022-03-10T18:45:43.931735",
     "status": "completed"
    },
    "tags": [
     "injected-parameters"
    ]
   },
   "outputs": [],
   "source": [
    "# Parameters\n",
    "parameters = {\n",
    "    \"experiment_name\": \"tl_1_oracle.run1-oracle.run2\",\n",
    "    \"device\": \"cuda\",\n",
    "    \"lr\": 0.001,\n",
    "    \"seed\": 1337,\n",
    "    \"dataset_seed\": 1337,\n",
    "    \"n_shot\": 3,\n",
    "    \"n_query\": 2,\n",
    "    \"train_k_factor\": 3,\n",
    "    \"val_k_factor\": 2,\n",
    "    \"test_k_factor\": 2,\n",
    "    \"torch_default_dtype\": \"torch.float32\",\n",
    "    \"n_epoch\": 50,\n",
    "    \"patience\": 3,\n",
    "    \"criteria_for_best\": \"target_loss\",\n",
    "    \"x_net\": [\n",
    "        {\"class\": \"nnReshape\", \"kargs\": {\"shape\": [-1, 1, 2, 256]}},\n",
    "        {\n",
    "            \"class\": \"Conv2d\",\n",
    "            \"kargs\": {\n",
    "                \"in_channels\": 1,\n",
    "                \"out_channels\": 256,\n",
    "                \"kernel_size\": [1, 7],\n",
    "                \"bias\": False,\n",
    "                \"padding\": [0, 3],\n",
    "            },\n",
    "        },\n",
    "        {\"class\": \"ReLU\", \"kargs\": {\"inplace\": True}},\n",
    "        {\"class\": \"BatchNorm2d\", \"kargs\": {\"num_features\": 256}},\n",
    "        {\n",
    "            \"class\": \"Conv2d\",\n",
    "            \"kargs\": {\n",
    "                \"in_channels\": 256,\n",
    "                \"out_channels\": 80,\n",
    "                \"kernel_size\": [2, 7],\n",
    "                \"bias\": True,\n",
    "                \"padding\": [0, 3],\n",
    "            },\n",
    "        },\n",
    "        {\"class\": \"ReLU\", \"kargs\": {\"inplace\": True}},\n",
    "        {\"class\": \"BatchNorm2d\", \"kargs\": {\"num_features\": 80}},\n",
    "        {\"class\": \"Flatten\", \"kargs\": {}},\n",
    "        {\"class\": \"Linear\", \"kargs\": {\"in_features\": 20480, \"out_features\": 256}},\n",
    "        {\"class\": \"ReLU\", \"kargs\": {\"inplace\": True}},\n",
    "        {\"class\": \"BatchNorm1d\", \"kargs\": {\"num_features\": 256}},\n",
    "        {\"class\": \"Linear\", \"kargs\": {\"in_features\": 256, \"out_features\": 256}},\n",
    "    ],\n",
    "    \"NUM_LOGS_PER_EPOCH\": 10,\n",
    "    \"BEST_MODEL_PATH\": \"./best_model.pth\",\n",
    "    \"n_way\": 16,\n",
    "    \"datasets\": [\n",
    "        {\n",
    "            \"labels\": [\n",
    "                \"3123D52\",\n",
    "                \"3123D65\",\n",
    "                \"3123D79\",\n",
    "                \"3123D80\",\n",
    "                \"3123D54\",\n",
    "                \"3123D70\",\n",
    "                \"3123D7B\",\n",
    "                \"3123D89\",\n",
    "                \"3123D58\",\n",
    "                \"3123D76\",\n",
    "                \"3123D7D\",\n",
    "                \"3123EFE\",\n",
    "                \"3123D64\",\n",
    "                \"3123D78\",\n",
    "                \"3123D7E\",\n",
    "                \"3124E4A\",\n",
    "            ],\n",
    "            \"domains\": [32, 38, 8, 44, 14, 50, 20, 26],\n",
    "            \"num_examples_per_domain_per_label\": 10000,\n",
    "            \"pickle_path\": \"/mnt/wd500GB/CSC500/csc500-main/datasets/oracle.Run1_10kExamples_stratified_ds.2022A.pkl\",\n",
    "            \"source_or_target_dataset\": \"target\",\n",
    "            \"x_transforms\": [],\n",
    "            \"episode_transforms\": [],\n",
    "            \"domain_prefix\": \"ORACLE.run1_\",\n",
    "        },\n",
    "        {\n",
    "            \"labels\": [\n",
    "                \"3123D52\",\n",
    "                \"3123D65\",\n",
    "                \"3123D79\",\n",
    "                \"3123D80\",\n",
    "                \"3123D54\",\n",
    "                \"3123D70\",\n",
    "                \"3123D7B\",\n",
    "                \"3123D89\",\n",
    "                \"3123D58\",\n",
    "                \"3123D76\",\n",
    "                \"3123D7D\",\n",
    "                \"3123EFE\",\n",
    "                \"3123D64\",\n",
    "                \"3123D78\",\n",
    "                \"3123D7E\",\n",
    "                \"3124E4A\",\n",
    "            ],\n",
    "            \"domains\": [32, 38, 8, 44, 14, 50, 20, 26],\n",
    "            \"num_examples_per_domain_per_label\": 10000,\n",
    "            \"pickle_path\": \"/mnt/wd500GB/CSC500/csc500-main/datasets/oracle.Run2_10kExamples_stratified_ds.2022A.pkl\",\n",
    "            \"source_or_target_dataset\": \"source\",\n",
    "            \"x_transforms\": [],\n",
    "            \"episode_transforms\": [],\n",
    "            \"domain_prefix\": \"ORACLE.run2_\",\n",
    "        },\n",
    "    ],\n",
    "}\n"
   ]
  },
  {
   "cell_type": "code",
   "execution_count": 5,
   "id": "8fa1cc33",
   "metadata": {
    "execution": {
     "iopub.execute_input": "2022-03-10T18:45:43.998159Z",
     "iopub.status.busy": "2022-03-10T18:45:43.997912Z",
     "iopub.status.idle": "2022-03-10T18:45:44.008797Z",
     "shell.execute_reply": "2022-03-10T18:45:44.009139Z"
    },
    "papermill": {
     "duration": 0.026943,
     "end_time": "2022-03-10T18:45:44.009243",
     "exception": false,
     "start_time": "2022-03-10T18:45:43.982300",
     "status": "completed"
    },
    "tags": []
   },
   "outputs": [],
   "source": [
    "# Set this to True if you want to run this template directly\n",
    "STANDALONE = False\n",
    "if STANDALONE:\n",
    "    print(\"parameters not injected, running with standalone_parameters\")\n",
    "    parameters = standalone_parameters\n",
    "\n",
    "if not 'parameters' in locals() and not 'parameters' in globals():\n",
    "    raise Exception(\"Parameter injection failed\")\n",
    "\n",
    "#Use an easy dict for all the parameters\n",
    "p = EasyDict(parameters)\n",
    "\n",
    "supplied_keys = set(p.keys())\n",
    "\n",
    "if  supplied_keys != required_parameters:\n",
    "    print(\"Parameters are incorrect\")\n",
    "    if len(supplied_keys - required_parameters)>0: print(\"Shouldn't have:\", str(supplied_keys - required_parameters))\n",
    "    if len(required_parameters - supplied_keys)>0: print(\"Need to have:\", str(required_parameters - supplied_keys))\n",
    "    raise RuntimeError(\"Parameters are incorrect\")\n",
    "\n"
   ]
  },
  {
   "cell_type": "code",
   "execution_count": 6,
   "id": "3a028d58",
   "metadata": {
    "execution": {
     "iopub.execute_input": "2022-03-10T18:45:44.040740Z",
     "iopub.status.busy": "2022-03-10T18:45:44.040497Z",
     "iopub.status.idle": "2022-03-10T18:45:44.052116Z",
     "shell.execute_reply": "2022-03-10T18:45:44.051734Z"
    },
    "papermill": {
     "duration": 0.026067,
     "end_time": "2022-03-10T18:45:44.052203",
     "exception": false,
     "start_time": "2022-03-10T18:45:44.026136",
     "status": "completed"
    },
    "tags": []
   },
   "outputs": [],
   "source": [
    "###################################\n",
    "# Set the RNGs and make it all deterministic\n",
    "###################################\n",
    "np.random.seed(p.seed)\n",
    "random.seed(p.seed)\n",
    "torch.manual_seed(p.seed)\n",
    "\n",
    "torch.use_deterministic_algorithms(True) "
   ]
  },
  {
   "cell_type": "code",
   "execution_count": 7,
   "id": "b691acf6",
   "metadata": {
    "execution": {
     "iopub.execute_input": "2022-03-10T18:45:44.082360Z",
     "iopub.status.busy": "2022-03-10T18:45:44.082121Z",
     "iopub.status.idle": "2022-03-10T18:45:44.096501Z",
     "shell.execute_reply": "2022-03-10T18:45:44.096059Z"
    },
    "papermill": {
     "duration": 0.028553,
     "end_time": "2022-03-10T18:45:44.096588",
     "exception": false,
     "start_time": "2022-03-10T18:45:44.068035",
     "status": "completed"
    },
    "tags": []
   },
   "outputs": [],
   "source": [
    "###########################################\n",
    "# The stratified datasets honor this\n",
    "###########################################\n",
    "torch.set_default_dtype(eval(p.torch_default_dtype))"
   ]
  },
  {
   "cell_type": "code",
   "execution_count": 8,
   "id": "b5fba671",
   "metadata": {
    "execution": {
     "iopub.execute_input": "2022-03-10T18:45:44.128159Z",
     "iopub.status.busy": "2022-03-10T18:45:44.127916Z",
     "iopub.status.idle": "2022-03-10T18:45:44.163459Z",
     "shell.execute_reply": "2022-03-10T18:45:44.163020Z"
    },
    "papermill": {
     "duration": 0.049454,
     "end_time": "2022-03-10T18:45:44.163546",
     "exception": false,
     "start_time": "2022-03-10T18:45:44.114092",
     "status": "completed"
    },
    "tags": []
   },
   "outputs": [],
   "source": [
    "###################################\n",
    "# Build the network(s)\n",
    "# Note: It's critical to do this AFTER setting the RNG\n",
    "###################################\n",
    "x_net = build_sequential(p.x_net)"
   ]
  },
  {
   "cell_type": "code",
   "execution_count": 9,
   "id": "5d7e61cc",
   "metadata": {
    "execution": {
     "iopub.execute_input": "2022-03-10T18:45:44.196549Z",
     "iopub.status.busy": "2022-03-10T18:45:44.196307Z",
     "iopub.status.idle": "2022-03-10T18:45:44.210391Z",
     "shell.execute_reply": "2022-03-10T18:45:44.210009Z"
    },
    "papermill": {
     "duration": 0.028867,
     "end_time": "2022-03-10T18:45:44.210478",
     "exception": false,
     "start_time": "2022-03-10T18:45:44.181611",
     "status": "completed"
    },
    "tags": []
   },
   "outputs": [],
   "source": [
    "start_time_secs = time.time()"
   ]
  },
  {
   "cell_type": "code",
   "execution_count": 10,
   "id": "c6b67dfd",
   "metadata": {
    "execution": {
     "iopub.execute_input": "2022-03-10T18:45:44.241944Z",
     "iopub.status.busy": "2022-03-10T18:45:44.241688Z",
     "iopub.status.idle": "2022-03-10T18:45:44.251771Z",
     "shell.execute_reply": "2022-03-10T18:45:44.251498Z"
    },
    "papermill": {
     "duration": 0.024613,
     "end_time": "2022-03-10T18:45:44.251857",
     "exception": false,
     "start_time": "2022-03-10T18:45:44.227244",
     "status": "completed"
    },
    "tags": []
   },
   "outputs": [],
   "source": [
    "p.domains_source = []\n",
    "p.domains_target = []\n",
    "\n",
    "\n",
    "train_original_source = []\n",
    "val_original_source   = []\n",
    "test_original_source  = []\n",
    "\n",
    "train_original_target = []\n",
    "val_original_target   = []\n",
    "test_original_target  = []"
   ]
  },
  {
   "cell_type": "code",
   "execution_count": 11,
   "id": "e3d9c3d3",
   "metadata": {
    "execution": {
     "iopub.execute_input": "2022-03-10T18:45:44.284245Z",
     "iopub.status.busy": "2022-03-10T18:45:44.284001Z",
     "iopub.status.idle": "2022-03-10T18:45:44.293538Z",
     "shell.execute_reply": "2022-03-10T18:45:44.293328Z"
    },
    "papermill": {
     "duration": 0.023555,
     "end_time": "2022-03-10T18:45:44.293586",
     "exception": false,
     "start_time": "2022-03-10T18:45:44.270031",
     "status": "completed"
    },
    "tags": []
   },
   "outputs": [],
   "source": [
    "# global_x_transform_func = lambda x: normalize(x.to(torch.get_default_dtype()), \"unit_power\") # unit_power, unit_mag\n",
    "# global_x_transform_func = lambda x: normalize(x, \"unit_power\") # unit_power, unit_mag"
   ]
  },
  {
   "cell_type": "code",
   "execution_count": 12,
   "id": "acb78fd2",
   "metadata": {
    "execution": {
     "iopub.execute_input": "2022-03-10T18:45:44.328557Z",
     "iopub.status.busy": "2022-03-10T18:45:44.328305Z",
     "iopub.status.idle": "2022-03-10T18:45:44.340913Z",
     "shell.execute_reply": "2022-03-10T18:45:44.340531Z"
    },
    "papermill": {
     "duration": 0.032182,
     "end_time": "2022-03-10T18:45:44.341000",
     "exception": false,
     "start_time": "2022-03-10T18:45:44.308818",
     "status": "completed"
    },
    "tags": []
   },
   "outputs": [],
   "source": [
    "def add_dataset(\n",
    "    labels,\n",
    "    domains,\n",
    "    pickle_path,\n",
    "    x_transforms,\n",
    "    episode_transforms,\n",
    "    domain_prefix,\n",
    "    num_examples_per_domain_per_label,\n",
    "    source_or_target_dataset:str,\n",
    "    iterator_seed=p.seed,\n",
    "    dataset_seed=p.dataset_seed,\n",
    "    n_shot=p.n_shot,\n",
    "    n_way=p.n_way,\n",
    "    n_query=p.n_query,\n",
    "    train_val_test_k_factors=(p.train_k_factor,p.val_k_factor,p.test_k_factor),\n",
    "):\n",
    "   \n",
    "    if x_transforms == []: x_transform = None\n",
    "    else: x_transform = get_chained_transform(x_transforms)\n",
    "    \n",
    "    if episode_transforms == []: episode_transform = None\n",
    "    else: raise Exception(\"episode_transforms not implemented\")\n",
    "    \n",
    "    episode_transform = lambda tup, _prefix=domain_prefix: (_prefix + str(tup[0]), tup[1])\n",
    "\n",
    "\n",
    "    eaf = Episodic_Accessor_Factory(\n",
    "        labels=labels,\n",
    "        domains=domains,\n",
    "        num_examples_per_domain_per_label=num_examples_per_domain_per_label,\n",
    "        iterator_seed=iterator_seed,\n",
    "        dataset_seed=dataset_seed,\n",
    "        n_shot=n_shot,\n",
    "        n_way=n_way,\n",
    "        n_query=n_query,\n",
    "        train_val_test_k_factors=train_val_test_k_factors,\n",
    "        pickle_path=pickle_path,\n",
    "        x_transform_func=x_transform,\n",
    "    )\n",
    "\n",
    "    train, val, test = eaf.get_train(), eaf.get_val(), eaf.get_test()\n",
    "    train = Lazy_Iterable_Wrapper(train, episode_transform)\n",
    "    val = Lazy_Iterable_Wrapper(val, episode_transform)\n",
    "    test = Lazy_Iterable_Wrapper(test, episode_transform)\n",
    "\n",
    "    if source_or_target_dataset==\"source\":\n",
    "        train_original_source.append(train)\n",
    "        val_original_source.append(val)\n",
    "        test_original_source.append(test)\n",
    "\n",
    "        p.domains_source.extend(\n",
    "            [domain_prefix + str(u) for u in domains]\n",
    "        )\n",
    "    elif source_or_target_dataset==\"target\":\n",
    "        train_original_target.append(train)\n",
    "        val_original_target.append(val)\n",
    "        test_original_target.append(test)\n",
    "        p.domains_target.extend(\n",
    "            [domain_prefix + str(u) for u in domains]\n",
    "        )\n",
    "    else:\n",
    "        raise Exception(f\"invalid source_or_target_dataset: {source_or_target_dataset}\")\n",
    "    "
   ]
  },
  {
   "cell_type": "code",
   "execution_count": 13,
   "id": "fe266617",
   "metadata": {
    "execution": {
     "iopub.execute_input": "2022-03-10T18:45:44.373585Z",
     "iopub.status.busy": "2022-03-10T18:45:44.373343Z",
     "iopub.status.idle": "2022-03-10T18:45:58.078617Z",
     "shell.execute_reply": "2022-03-10T18:45:58.078142Z"
    },
    "papermill": {
     "duration": 13.719977,
     "end_time": "2022-03-10T18:45:58.078718",
     "exception": false,
     "start_time": "2022-03-10T18:45:44.358741",
     "status": "completed"
    },
    "tags": []
   },
   "outputs": [],
   "source": [
    "for ds in p.datasets:\n",
    "    add_dataset(**ds)"
   ]
  },
  {
   "cell_type": "code",
   "execution_count": 14,
   "id": "b90d65ac",
   "metadata": {
    "execution": {
     "iopub.execute_input": "2022-03-10T18:45:58.112933Z",
     "iopub.status.busy": "2022-03-10T18:45:58.112682Z",
     "iopub.status.idle": "2022-03-10T18:45:58.127279Z",
     "shell.execute_reply": "2022-03-10T18:45:58.126811Z"
    },
    "papermill": {
     "duration": 0.029497,
     "end_time": "2022-03-10T18:45:58.127367",
     "exception": false,
     "start_time": "2022-03-10T18:45:58.097870",
     "status": "completed"
    },
    "tags": []
   },
   "outputs": [],
   "source": [
    "# from steves_utils.CORES.utils import (\n",
    "#     ALL_NODES,\n",
    "#     ALL_NODES_MINIMUM_1000_EXAMPLES,\n",
    "#     ALL_DAYS\n",
    "# )\n",
    "\n",
    "# add_dataset(\n",
    "#     labels=ALL_NODES,\n",
    "#     domains = ALL_DAYS,\n",
    "#     num_examples_per_domain_per_label=100,\n",
    "#     pickle_path=os.path.join(get_datasets_base_path(), \"cores.stratified_ds.2022A.pkl\"),\n",
    "#     source_or_target_dataset=\"target\",\n",
    "#     x_transform_func=global_x_transform_func,\n",
    "#     domain_modifier=lambda u: f\"cores_{u}\"\n",
    "# )"
   ]
  },
  {
   "cell_type": "code",
   "execution_count": 15,
   "id": "76db484d",
   "metadata": {
    "execution": {
     "iopub.execute_input": "2022-03-10T18:45:58.161030Z",
     "iopub.status.busy": "2022-03-10T18:45:58.160785Z",
     "iopub.status.idle": "2022-03-10T18:45:58.170314Z",
     "shell.execute_reply": "2022-03-10T18:45:58.170075Z"
    },
    "papermill": {
     "duration": 0.02428,
     "end_time": "2022-03-10T18:45:58.170361",
     "exception": false,
     "start_time": "2022-03-10T18:45:58.146081",
     "status": "completed"
    },
    "tags": []
   },
   "outputs": [],
   "source": [
    "# from steves_utils.ORACLE.utils_v2 import (\n",
    "#     ALL_DISTANCES_FEET,\n",
    "#     ALL_RUNS,\n",
    "#     ALL_SERIAL_NUMBERS,\n",
    "# )\n",
    "\n",
    "\n",
    "# add_dataset(\n",
    "#     labels=ALL_SERIAL_NUMBERS,\n",
    "#     domains = list(set(ALL_DISTANCES_FEET) - {2,62}),\n",
    "#     num_examples_per_domain_per_label=100,\n",
    "#     pickle_path=os.path.join(get_datasets_base_path(), \"oracle.Run2_framed_2000Examples_stratified_ds.2022A.pkl\"),\n",
    "#     source_or_target_dataset=\"source\",\n",
    "#     x_transform_func=global_x_transform_func,\n",
    "#     domain_modifier=lambda u: f\"oracle1_{u}\"\n",
    "# )\n"
   ]
  },
  {
   "cell_type": "code",
   "execution_count": 16,
   "id": "97dea9d2",
   "metadata": {
    "execution": {
     "iopub.execute_input": "2022-03-10T18:45:58.202163Z",
     "iopub.status.busy": "2022-03-10T18:45:58.201919Z",
     "iopub.status.idle": "2022-03-10T18:45:58.216608Z",
     "shell.execute_reply": "2022-03-10T18:45:58.216163Z"
    },
    "papermill": {
     "duration": 0.029721,
     "end_time": "2022-03-10T18:45:58.216696",
     "exception": false,
     "start_time": "2022-03-10T18:45:58.186975",
     "status": "completed"
    },
    "tags": []
   },
   "outputs": [],
   "source": [
    "# from steves_utils.ORACLE.utils_v2 import (\n",
    "#     ALL_DISTANCES_FEET,\n",
    "#     ALL_RUNS,\n",
    "#     ALL_SERIAL_NUMBERS,\n",
    "# )\n",
    "\n",
    "\n",
    "# add_dataset(\n",
    "#     labels=ALL_SERIAL_NUMBERS,\n",
    "#     domains = list(set(ALL_DISTANCES_FEET) - {2,62,56}),\n",
    "#     num_examples_per_domain_per_label=100,\n",
    "#     pickle_path=os.path.join(get_datasets_base_path(), \"oracle.Run2_framed_2000Examples_stratified_ds.2022A.pkl\"),\n",
    "#     source_or_target_dataset=\"source\",\n",
    "#     x_transform_func=global_x_transform_func,\n",
    "#     domain_modifier=lambda u: f\"oracle2_{u}\"\n",
    "# )"
   ]
  },
  {
   "cell_type": "code",
   "execution_count": 17,
   "id": "6f289866",
   "metadata": {
    "execution": {
     "iopub.execute_input": "2022-03-10T18:45:58.250083Z",
     "iopub.status.busy": "2022-03-10T18:45:58.249839Z",
     "iopub.status.idle": "2022-03-10T18:45:58.262325Z",
     "shell.execute_reply": "2022-03-10T18:45:58.262116Z"
    },
    "papermill": {
     "duration": 0.027344,
     "end_time": "2022-03-10T18:45:58.262372",
     "exception": false,
     "start_time": "2022-03-10T18:45:58.235028",
     "status": "completed"
    },
    "tags": []
   },
   "outputs": [],
   "source": [
    "# add_dataset(\n",
    "#     labels=list(range(19)),\n",
    "#     domains = [0,1,2],\n",
    "#     num_examples_per_domain_per_label=100,\n",
    "#     pickle_path=os.path.join(get_datasets_base_path(), \"metehan.stratified_ds.2022A.pkl\"),\n",
    "#     source_or_target_dataset=\"target\",\n",
    "#     x_transform_func=global_x_transform_func,\n",
    "#     domain_modifier=lambda u: f\"met_{u}\"\n",
    "# )"
   ]
  },
  {
   "cell_type": "code",
   "execution_count": 18,
   "id": "86a863c3",
   "metadata": {
    "execution": {
     "iopub.execute_input": "2022-03-10T18:45:58.294300Z",
     "iopub.status.busy": "2022-03-10T18:45:58.294053Z",
     "iopub.status.idle": "2022-03-10T18:45:58.307916Z",
     "shell.execute_reply": "2022-03-10T18:45:58.307473Z"
    },
    "papermill": {
     "duration": 0.028891,
     "end_time": "2022-03-10T18:45:58.308002",
     "exception": false,
     "start_time": "2022-03-10T18:45:58.279111",
     "status": "completed"
    },
    "tags": []
   },
   "outputs": [],
   "source": [
    "# # from steves_utils.wisig.utils import (\n",
    "# #     ALL_NODES_MINIMUM_100_EXAMPLES,\n",
    "# #     ALL_NODES_MINIMUM_500_EXAMPLES,\n",
    "# #     ALL_NODES_MINIMUM_1000_EXAMPLES,\n",
    "# #     ALL_DAYS\n",
    "# # )\n",
    "\n",
    "# import steves_utils.wisig.utils as wisig\n",
    "\n",
    "\n",
    "# add_dataset(\n",
    "#     labels=wisig.ALL_NODES_MINIMUM_100_EXAMPLES,\n",
    "#     domains = wisig.ALL_DAYS,\n",
    "#     num_examples_per_domain_per_label=100,\n",
    "#     pickle_path=os.path.join(get_datasets_base_path(), \"wisig.node3-19.stratified_ds.2022A.pkl\"),\n",
    "#     source_or_target_dataset=\"target\",\n",
    "#     x_transform_func=global_x_transform_func,\n",
    "#     domain_modifier=lambda u: f\"wisig_{u}\"\n",
    "# )"
   ]
  },
  {
   "cell_type": "code",
   "execution_count": 19,
   "id": "fd5442bc",
   "metadata": {
    "execution": {
     "iopub.execute_input": "2022-03-10T18:45:58.342367Z",
     "iopub.status.busy": "2022-03-10T18:45:58.342108Z",
     "iopub.status.idle": "2022-03-10T18:45:58.355350Z",
     "shell.execute_reply": "2022-03-10T18:45:58.354908Z"
    },
    "papermill": {
     "duration": 0.031015,
     "end_time": "2022-03-10T18:45:58.355437",
     "exception": false,
     "start_time": "2022-03-10T18:45:58.324422",
     "status": "completed"
    },
    "tags": []
   },
   "outputs": [],
   "source": [
    "###################################\n",
    "# Build the dataset\n",
    "###################################\n",
    "train_original_source = Iterable_Aggregator(train_original_source, p.seed)\n",
    "val_original_source = Iterable_Aggregator(val_original_source, p.seed)\n",
    "test_original_source = Iterable_Aggregator(test_original_source, p.seed)\n",
    "\n",
    "\n",
    "train_original_target = Iterable_Aggregator(train_original_target, p.seed)\n",
    "val_original_target = Iterable_Aggregator(val_original_target, p.seed)\n",
    "test_original_target = Iterable_Aggregator(test_original_target, p.seed)\n",
    "\n",
    "# For CNN We only use X and Y. And we only train on the source.\n",
    "# Properly form the data using a transform lambda and Lazy_Iterable_Wrapper. Finally wrap them in a dataloader\n",
    "\n",
    "transform_lambda = lambda ex: ex[1] # Original is (<domain>, <episode>) so we strip down to episode only\n",
    "\n",
    "train_processed_source = Lazy_Iterable_Wrapper(train_original_source, transform_lambda)\n",
    "val_processed_source   = Lazy_Iterable_Wrapper(val_original_source, transform_lambda)\n",
    "test_processed_source  = Lazy_Iterable_Wrapper(test_original_source, transform_lambda)\n",
    "\n",
    "train_processed_target = Lazy_Iterable_Wrapper(train_original_target, transform_lambda)\n",
    "val_processed_target   = Lazy_Iterable_Wrapper(val_original_target, transform_lambda)\n",
    "test_processed_target  = Lazy_Iterable_Wrapper(test_original_target, transform_lambda)\n",
    "\n",
    "datasets = EasyDict({\n",
    "    \"source\": {\n",
    "        \"original\": {\"train\":train_original_source, \"val\":val_original_source, \"test\":test_original_source},\n",
    "        \"processed\": {\"train\":train_processed_source, \"val\":val_processed_source, \"test\":test_processed_source}\n",
    "    },\n",
    "    \"target\": {\n",
    "        \"original\": {\"train\":train_original_target, \"val\":val_original_target, \"test\":test_original_target},\n",
    "        \"processed\": {\"train\":train_processed_target, \"val\":val_processed_target, \"test\":test_processed_target}\n",
    "    },\n",
    "})"
   ]
  },
  {
   "cell_type": "code",
   "execution_count": 20,
   "id": "5b3c01fc",
   "metadata": {
    "execution": {
     "iopub.execute_input": "2022-03-10T18:45:58.388512Z",
     "iopub.status.busy": "2022-03-10T18:45:58.388263Z",
     "iopub.status.idle": "2022-03-10T18:46:22.858934Z",
     "shell.execute_reply": "2022-03-10T18:46:22.859397Z"
    },
    "papermill": {
     "duration": 24.487359,
     "end_time": "2022-03-10T18:46:22.859536",
     "exception": false,
     "start_time": "2022-03-10T18:45:58.372177",
     "status": "completed"
    },
    "tags": []
   },
   "outputs": [
    {
     "name": "stdout",
     "output_type": "stream",
     "text": [
      "{'ORACLE.run2_20', 'ORACLE.run2_32', 'ORACLE.run2_14', 'ORACLE.run2_8', 'ORACLE.run2_38', 'ORACLE.run2_50', 'ORACLE.run2_44', 'ORACLE.run2_26'}\n"
     ]
    },
    {
     "name": "stdout",
     "output_type": "stream",
     "text": [
      "{'ORACLE.run1_38', 'ORACLE.run1_20', 'ORACLE.run1_14', 'ORACLE.run1_32', 'ORACLE.run1_8', 'ORACLE.run1_26', 'ORACLE.run1_50', 'ORACLE.run1_44'}\n"
     ]
    },
    {
     "name": "stdout",
     "output_type": "stream",
     "text": [
      "tensor([[[-1.8311e-03,  8.8504e-04,  1.4954e-03,  ..., -4.2726e-03,\n",
      "          -6.2563e-03, -1.8616e-03],\n",
      "         [-1.4344e-03,  3.0519e-04, -1.4344e-03,  ..., -9.7659e-04,\n",
      "           6.1037e-04,  2.5636e-03]],\n",
      "\n",
      "        [[ 2.5941e-03, -7.0193e-04,  2.0142e-03,  ..., -1.9227e-03,\n",
      "           3.1129e-03,  6.1037e-05],\n",
      "         [-4.0590e-03, -1.8616e-03, -5.7985e-04,  ..., -2.1973e-03,\n",
      "          -2.4415e-04,  7.0193e-04]],\n",
      "\n",
      "        [[ 5.7985e-04, -1.4649e-03,  2.1058e-03,  ...,  3.0519e-04,\n",
      "           3.9674e-04, -2.4110e-03],\n",
      "         [ 3.8759e-03, -1.1902e-03,  2.1973e-03,  ...,  1.9532e-03,\n",
      "          -3.0519e-04,  1.1597e-03]],\n",
      "\n",
      "        ...,\n",
      "\n",
      "        [[-1.7090e-03, -2.3804e-03, -4.3336e-03,  ..., -1.5564e-03,\n",
      "          -9.4607e-04,  5.1576e-03],\n",
      "         [-6.7141e-04, -4.5167e-03,  2.0753e-03,  ..., -1.6175e-03,\n",
      "          -4.6388e-03, -5.7985e-04]],\n",
      "\n",
      "        [[-2.0753e-03,  1.8006e-03,  3.3570e-03,  ...,  4.3031e-03,\n",
      "          -8.8504e-04, -7.1413e-03],\n",
      "         [-4.5778e-04,  2.2584e-03, -1.4649e-03,  ...,  1.5259e-04,\n",
      "           1.4649e-03, -2.9908e-03]],\n",
      "\n",
      "        [[-4.6693e-03, -6.1037e-05, -3.9369e-03,  ..., -2.7467e-03,\n",
      "          -2.1363e-03, -5.4018e-03],\n",
      "         [-4.6999e-03, -1.6480e-03, -5.1271e-03,  ...,  2.4415e-04,\n",
      "           2.1668e-03,  6.1037e-05]]])\n"
     ]
    }
   ],
   "source": [
    "from steves_utils.transforms import get_average_magnitude, get_average_power\n",
    "\n",
    "print(set([u for u,_ in val_original_source]))\n",
    "print(set([u for u,_ in val_original_target]))\n",
    "\n",
    "s_x, s_y, q_x, q_y, _ = next(iter(train_processed_source))\n",
    "print(s_x)\n",
    "\n",
    "# for ds in [\n",
    "#     train_processed_source,\n",
    "#     val_processed_source,\n",
    "#     test_processed_source,\n",
    "#     train_processed_target,\n",
    "#     val_processed_target,\n",
    "#     test_processed_target\n",
    "# ]:\n",
    "#     for s_x, s_y, q_x, q_y, _ in ds:\n",
    "#         for X in (s_x, q_x):\n",
    "#             for x in X:\n",
    "#                 assert np.isclose(get_average_magnitude(x.numpy()), 1.0)\n",
    "#                 assert np.isclose(get_average_power(x.numpy()), 1.0)\n",
    "                "
   ]
  },
  {
   "cell_type": "code",
   "execution_count": 21,
   "id": "bbdacba1",
   "metadata": {
    "execution": {
     "iopub.execute_input": "2022-03-10T18:46:22.895186Z",
     "iopub.status.busy": "2022-03-10T18:46:22.894905Z",
     "iopub.status.idle": "2022-03-10T18:46:22.953162Z",
     "shell.execute_reply": "2022-03-10T18:46:22.952713Z"
    },
    "papermill": {
     "duration": 0.075243,
     "end_time": "2022-03-10T18:46:22.953255",
     "exception": false,
     "start_time": "2022-03-10T18:46:22.878012",
     "status": "completed"
    },
    "tags": []
   },
   "outputs": [
    {
     "name": "stdout",
     "output_type": "stream",
     "text": [
      "(2, 256)\n"
     ]
    }
   ],
   "source": [
    "###################################\n",
    "# Build the model\n",
    "###################################\n",
    "model = Steves_Prototypical_Network(x_net, device=p.device, x_shape=(2,256))\n",
    "optimizer = Adam(params=model.parameters(), lr=p.lr)"
   ]
  },
  {
   "cell_type": "code",
   "execution_count": 22,
   "id": "22b39ac5",
   "metadata": {
    "execution": {
     "iopub.execute_input": "2022-03-10T18:46:22.989931Z",
     "iopub.status.busy": "2022-03-10T18:46:22.989683Z",
     "iopub.status.idle": "2022-03-10T20:33:18.999905Z",
     "shell.execute_reply": "2022-03-10T20:33:18.999671Z"
    },
    "papermill": {
     "duration": 6416.027816,
     "end_time": "2022-03-10T20:33:18.999964",
     "exception": false,
     "start_time": "2022-03-10T18:46:22.972148",
     "status": "completed"
    },
    "tags": []
   },
   "outputs": [
    {
     "name": "stdout",
     "output_type": "stream",
     "text": [
      "epoch: 1, [batch: 1 / 33600], examples_per_second: 9.9599, train_label_loss: 2.4838, \n"
     ]
    },
    {
     "name": "stdout",
     "output_type": "stream",
     "text": [
      "epoch: 1, [batch: 3360 / 33600], examples_per_second: 3201.6183, train_label_loss: 0.5047, \n"
     ]
    },
    {
     "name": "stdout",
     "output_type": "stream",
     "text": [
      "epoch: 1, [batch: 6720 / 33600], examples_per_second: 3199.9507, train_label_loss: 1.5376, \n"
     ]
    },
    {
     "name": "stdout",
     "output_type": "stream",
     "text": [
      "epoch: 1, [batch: 10080 / 33600], examples_per_second: 3208.0966, train_label_loss: 0.1812, \n"
     ]
    },
    {
     "name": "stdout",
     "output_type": "stream",
     "text": [
      "epoch: 1, [batch: 13440 / 33600], examples_per_second: 3189.7260, train_label_loss: 0.4204, \n"
     ]
    },
    {
     "name": "stdout",
     "output_type": "stream",
     "text": [
      "epoch: 1, [batch: 16800 / 33600], examples_per_second: 3200.6113, train_label_loss: 0.2983, \n"
     ]
    },
    {
     "name": "stdout",
     "output_type": "stream",
     "text": [
      "epoch: 1, [batch: 20160 / 33600], examples_per_second: 3204.2587, train_label_loss: 0.1763, \n"
     ]
    },
    {
     "name": "stdout",
     "output_type": "stream",
     "text": [
      "epoch: 1, [batch: 23520 / 33600], examples_per_second: 3193.7717, train_label_loss: 0.1298, \n"
     ]
    },
    {
     "name": "stdout",
     "output_type": "stream",
     "text": [
      "epoch: 1, [batch: 26880 / 33600], examples_per_second: 3185.5735, train_label_loss: 0.2253, \n"
     ]
    },
    {
     "name": "stdout",
     "output_type": "stream",
     "text": [
      "epoch: 1, [batch: 30240 / 33600], examples_per_second: 3198.1110, train_label_loss: 0.6626, \n"
     ]
    },
    {
     "name": "stdout",
     "output_type": "stream",
     "text": [
      "=============================================================\n",
      "epoch: 1, source_val_acc_label: 0.7095, target_val_acc_label: 0.6922, source_val_label_loss: 194.8936, target_val_label_loss: 207.8063, \n",
      "=============================================================\n"
     ]
    },
    {
     "name": "stdout",
     "output_type": "stream",
     "text": [
      "New best\n"
     ]
    },
    {
     "name": "stdout",
     "output_type": "stream",
     "text": [
      "epoch: 2, [batch: 1 / 33600], examples_per_second: 0.9667, train_label_loss: 0.5509, \n"
     ]
    },
    {
     "name": "stdout",
     "output_type": "stream",
     "text": [
      "epoch: 2, [batch: 3360 / 33600], examples_per_second: 3223.6453, train_label_loss: 0.2463, \n"
     ]
    },
    {
     "name": "stdout",
     "output_type": "stream",
     "text": [
      "epoch: 2, [batch: 6720 / 33600], examples_per_second: 3231.1820, train_label_loss: 0.8909, \n"
     ]
    },
    {
     "name": "stdout",
     "output_type": "stream",
     "text": [
      "epoch: 2, [batch: 10080 / 33600], examples_per_second: 3239.0965, train_label_loss: 0.7769, \n"
     ]
    },
    {
     "name": "stdout",
     "output_type": "stream",
     "text": [
      "epoch: 2, [batch: 13440 / 33600], examples_per_second: 3218.7036, train_label_loss: 0.4590, \n"
     ]
    },
    {
     "name": "stdout",
     "output_type": "stream",
     "text": [
      "epoch: 2, [batch: 16800 / 33600], examples_per_second: 3222.4156, train_label_loss: 0.7468, \n"
     ]
    },
    {
     "name": "stdout",
     "output_type": "stream",
     "text": [
      "epoch: 2, [batch: 20160 / 33600], examples_per_second: 3229.2465, train_label_loss: 0.5027, \n"
     ]
    },
    {
     "name": "stdout",
     "output_type": "stream",
     "text": [
      "epoch: 2, [batch: 23520 / 33600], examples_per_second: 3205.5978, train_label_loss: 0.6650, \n"
     ]
    },
    {
     "name": "stdout",
     "output_type": "stream",
     "text": [
      "epoch: 2, [batch: 26880 / 33600], examples_per_second: 3226.1744, train_label_loss: 0.1639, \n"
     ]
    },
    {
     "name": "stdout",
     "output_type": "stream",
     "text": [
      "epoch: 2, [batch: 30240 / 33600], examples_per_second: 3235.3575, train_label_loss: 0.5297, \n"
     ]
    },
    {
     "name": "stdout",
     "output_type": "stream",
     "text": [
      "=============================================================\n",
      "epoch: 2, source_val_acc_label: 0.8687, target_val_acc_label: 0.8469, source_val_label_loss: 0.3940, target_val_label_loss: 0.4850, \n",
      "=============================================================\n"
     ]
    },
    {
     "name": "stdout",
     "output_type": "stream",
     "text": [
      "New best\n"
     ]
    },
    {
     "name": "stdout",
     "output_type": "stream",
     "text": [
      "epoch: 3, [batch: 1 / 33600], examples_per_second: 0.9674, train_label_loss: 0.3775, \n"
     ]
    },
    {
     "name": "stdout",
     "output_type": "stream",
     "text": [
      "epoch: 3, [batch: 3360 / 33600], examples_per_second: 3217.3467, train_label_loss: 0.7709, \n"
     ]
    },
    {
     "name": "stdout",
     "output_type": "stream",
     "text": [
      "epoch: 3, [batch: 6720 / 33600], examples_per_second: 3207.5007, train_label_loss: 0.4453, \n"
     ]
    },
    {
     "name": "stdout",
     "output_type": "stream",
     "text": [
      "epoch: 3, [batch: 10080 / 33600], examples_per_second: 3231.3430, train_label_loss: 0.4862, \n"
     ]
    },
    {
     "name": "stdout",
     "output_type": "stream",
     "text": [
      "epoch: 3, [batch: 13440 / 33600], examples_per_second: 3223.1046, train_label_loss: 0.1755, \n"
     ]
    },
    {
     "name": "stdout",
     "output_type": "stream",
     "text": [
      "epoch: 3, [batch: 16800 / 33600], examples_per_second: 3223.9563, train_label_loss: 0.6170, \n"
     ]
    },
    {
     "name": "stdout",
     "output_type": "stream",
     "text": [
      "epoch: 3, [batch: 20160 / 33600], examples_per_second: 3223.8336, train_label_loss: 0.5131, \n"
     ]
    },
    {
     "name": "stdout",
     "output_type": "stream",
     "text": [
      "epoch: 3, [batch: 23520 / 33600], examples_per_second: 3216.3531, train_label_loss: 0.4527, \n"
     ]
    },
    {
     "name": "stdout",
     "output_type": "stream",
     "text": [
      "epoch: 3, [batch: 26880 / 33600], examples_per_second: 3221.8694, train_label_loss: 0.4111, \n"
     ]
    },
    {
     "name": "stdout",
     "output_type": "stream",
     "text": [
      "epoch: 3, [batch: 30240 / 33600], examples_per_second: 3230.1894, train_label_loss: 0.2070, \n"
     ]
    },
    {
     "name": "stdout",
     "output_type": "stream",
     "text": [
      "=============================================================\n",
      "epoch: 3, source_val_acc_label: 0.8774, target_val_acc_label: 0.8525, source_val_label_loss: 0.3445, target_val_label_loss: 0.4444, \n",
      "=============================================================\n"
     ]
    },
    {
     "name": "stdout",
     "output_type": "stream",
     "text": [
      "New best\n"
     ]
    },
    {
     "name": "stdout",
     "output_type": "stream",
     "text": [
      "epoch: 4, [batch: 1 / 33600], examples_per_second: 0.9701, train_label_loss: 0.4930, \n"
     ]
    },
    {
     "name": "stdout",
     "output_type": "stream",
     "text": [
      "epoch: 4, [batch: 3360 / 33600], examples_per_second: 3215.1535, train_label_loss: 0.3341, \n"
     ]
    },
    {
     "name": "stdout",
     "output_type": "stream",
     "text": [
      "epoch: 4, [batch: 6720 / 33600], examples_per_second: 3235.5512, train_label_loss: 0.6607, \n"
     ]
    },
    {
     "name": "stdout",
     "output_type": "stream",
     "text": [
      "epoch: 4, [batch: 10080 / 33600], examples_per_second: 3227.8488, train_label_loss: 0.1346, \n"
     ]
    },
    {
     "name": "stdout",
     "output_type": "stream",
     "text": [
      "epoch: 4, [batch: 13440 / 33600], examples_per_second: 3212.5789, train_label_loss: 0.2236, \n"
     ]
    },
    {
     "name": "stdout",
     "output_type": "stream",
     "text": [
      "epoch: 4, [batch: 16800 / 33600], examples_per_second: 3218.0328, train_label_loss: 0.2222, \n"
     ]
    },
    {
     "name": "stdout",
     "output_type": "stream",
     "text": [
      "epoch: 4, [batch: 20160 / 33600], examples_per_second: 3219.7179, train_label_loss: 0.3047, \n"
     ]
    },
    {
     "name": "stdout",
     "output_type": "stream",
     "text": [
      "epoch: 4, [batch: 23520 / 33600], examples_per_second: 3220.3555, train_label_loss: 0.0913, \n"
     ]
    },
    {
     "name": "stdout",
     "output_type": "stream",
     "text": [
      "epoch: 4, [batch: 26880 / 33600], examples_per_second: 3232.7445, train_label_loss: 0.5379, \n"
     ]
    },
    {
     "name": "stdout",
     "output_type": "stream",
     "text": [
      "epoch: 4, [batch: 30240 / 33600], examples_per_second: 3240.0228, train_label_loss: 0.2473, \n"
     ]
    },
    {
     "name": "stdout",
     "output_type": "stream",
     "text": [
      "=============================================================\n",
      "epoch: 4, source_val_acc_label: 0.8835, target_val_acc_label: 0.8522, source_val_label_loss: 0.3312, target_val_label_loss: 0.4660, \n",
      "=============================================================\n"
     ]
    },
    {
     "name": "stdout",
     "output_type": "stream",
     "text": [
      "epoch: 5, [batch: 1 / 33600], examples_per_second: 0.9725, train_label_loss: 0.7481, \n"
     ]
    },
    {
     "name": "stdout",
     "output_type": "stream",
     "text": [
      "epoch: 5, [batch: 3360 / 33600], examples_per_second: 3203.8741, train_label_loss: 0.5596, \n"
     ]
    },
    {
     "name": "stdout",
     "output_type": "stream",
     "text": [
      "epoch: 5, [batch: 6720 / 33600], examples_per_second: 3208.4754, train_label_loss: 0.2260, \n"
     ]
    },
    {
     "name": "stdout",
     "output_type": "stream",
     "text": [
      "epoch: 5, [batch: 10080 / 33600], examples_per_second: 3230.4454, train_label_loss: 0.1096, \n"
     ]
    },
    {
     "name": "stdout",
     "output_type": "stream",
     "text": [
      "epoch: 5, [batch: 13440 / 33600], examples_per_second: 3208.7579, train_label_loss: 0.4716, \n"
     ]
    },
    {
     "name": "stdout",
     "output_type": "stream",
     "text": [
      "epoch: 5, [batch: 16800 / 33600], examples_per_second: 3225.5306, train_label_loss: 0.1691, \n"
     ]
    },
    {
     "name": "stdout",
     "output_type": "stream",
     "text": [
      "epoch: 5, [batch: 20160 / 33600], examples_per_second: 3230.6958, train_label_loss: 0.4117, \n"
     ]
    },
    {
     "name": "stdout",
     "output_type": "stream",
     "text": [
      "epoch: 5, [batch: 23520 / 33600], examples_per_second: 3214.9929, train_label_loss: 0.3167, \n"
     ]
    },
    {
     "name": "stdout",
     "output_type": "stream",
     "text": [
      "epoch: 5, [batch: 26880 / 33600], examples_per_second: 3221.9433, train_label_loss: 0.0752, \n"
     ]
    },
    {
     "name": "stdout",
     "output_type": "stream",
     "text": [
      "epoch: 5, [batch: 30240 / 33600], examples_per_second: 3216.6875, train_label_loss: 0.3629, \n"
     ]
    },
    {
     "name": "stdout",
     "output_type": "stream",
     "text": [
      "=============================================================\n",
      "epoch: 5, source_val_acc_label: 0.8891, target_val_acc_label: 0.8543, source_val_label_loss: 0.3132, target_val_label_loss: 0.4752, \n",
      "=============================================================\n"
     ]
    },
    {
     "name": "stdout",
     "output_type": "stream",
     "text": [
      "epoch: 6, [batch: 1 / 33600], examples_per_second: 0.9686, train_label_loss: 0.1441, \n"
     ]
    },
    {
     "name": "stdout",
     "output_type": "stream",
     "text": [
      "epoch: 6, [batch: 3360 / 33600], examples_per_second: 3217.9904, train_label_loss: 0.3727, \n"
     ]
    },
    {
     "name": "stdout",
     "output_type": "stream",
     "text": [
      "epoch: 6, [batch: 6720 / 33600], examples_per_second: 3228.3295, train_label_loss: 0.1171, \n"
     ]
    },
    {
     "name": "stdout",
     "output_type": "stream",
     "text": [
      "epoch: 6, [batch: 10080 / 33600], examples_per_second: 3230.8601, train_label_loss: 0.1379, \n"
     ]
    },
    {
     "name": "stdout",
     "output_type": "stream",
     "text": [
      "epoch: 6, [batch: 13440 / 33600], examples_per_second: 3218.4154, train_label_loss: 0.1421, \n"
     ]
    },
    {
     "name": "stdout",
     "output_type": "stream",
     "text": [
      "epoch: 6, [batch: 16800 / 33600], examples_per_second: 3234.3218, train_label_loss: 0.3087, \n"
     ]
    },
    {
     "name": "stdout",
     "output_type": "stream",
     "text": [
      "epoch: 6, [batch: 20160 / 33600], examples_per_second: 3235.6176, train_label_loss: 0.3018, \n"
     ]
    },
    {
     "name": "stdout",
     "output_type": "stream",
     "text": [
      "epoch: 6, [batch: 23520 / 33600], examples_per_second: 3216.6095, train_label_loss: 0.0192, \n"
     ]
    },
    {
     "name": "stdout",
     "output_type": "stream",
     "text": [
      "epoch: 6, [batch: 26880 / 33600], examples_per_second: 3224.0579, train_label_loss: 0.1365, \n"
     ]
    },
    {
     "name": "stdout",
     "output_type": "stream",
     "text": [
      "epoch: 6, [batch: 30240 / 33600], examples_per_second: 3232.6077, train_label_loss: 0.0800, \n"
     ]
    },
    {
     "name": "stdout",
     "output_type": "stream",
     "text": [
      "=============================================================\n",
      "epoch: 6, source_val_acc_label: 0.8894, target_val_acc_label: 0.8505, source_val_label_loss: 0.3137, target_val_label_loss: 0.4806, \n",
      "=============================================================\n"
     ]
    },
    {
     "name": "stdout",
     "output_type": "stream",
     "text": [
      "epoch: 7, [batch: 1 / 33600], examples_per_second: 0.9715, train_label_loss: 0.1190, \n"
     ]
    },
    {
     "name": "stdout",
     "output_type": "stream",
     "text": [
      "epoch: 7, [batch: 3360 / 33600], examples_per_second: 3209.3095, train_label_loss: 0.5332, \n"
     ]
    },
    {
     "name": "stdout",
     "output_type": "stream",
     "text": [
      "epoch: 7, [batch: 6720 / 33600], examples_per_second: 3225.4513, train_label_loss: 0.2674, \n"
     ]
    },
    {
     "name": "stdout",
     "output_type": "stream",
     "text": [
      "epoch: 7, [batch: 10080 / 33600], examples_per_second: 3235.2296, train_label_loss: 0.2322, \n"
     ]
    },
    {
     "name": "stdout",
     "output_type": "stream",
     "text": [
      "epoch: 7, [batch: 13440 / 33600], examples_per_second: 3219.8434, train_label_loss: 0.0689, \n"
     ]
    },
    {
     "name": "stdout",
     "output_type": "stream",
     "text": [
      "epoch: 7, [batch: 16800 / 33600], examples_per_second: 3223.3599, train_label_loss: 0.2497, \n"
     ]
    },
    {
     "name": "stdout",
     "output_type": "stream",
     "text": [
      "epoch: 7, [batch: 20160 / 33600], examples_per_second: 3219.3334, train_label_loss: 0.1688, \n"
     ]
    },
    {
     "name": "stdout",
     "output_type": "stream",
     "text": [
      "epoch: 7, [batch: 23520 / 33600], examples_per_second: 3212.4504, train_label_loss: 0.1420, \n"
     ]
    },
    {
     "name": "stdout",
     "output_type": "stream",
     "text": [
      "epoch: 7, [batch: 26880 / 33600], examples_per_second: 3189.7467, train_label_loss: 0.2149, \n"
     ]
    },
    {
     "name": "stdout",
     "output_type": "stream",
     "text": [
      "epoch: 7, [batch: 30240 / 33600], examples_per_second: 3226.2224, train_label_loss: 0.1133, \n"
     ]
    },
    {
     "name": "stdout",
     "output_type": "stream",
     "text": [
      "=============================================================\n",
      "epoch: 7, source_val_acc_label: 0.8893, target_val_acc_label: 0.8510, source_val_label_loss: 0.3089, target_val_label_loss: 0.4709, \n",
      "=============================================================\n"
     ]
    },
    {
     "name": "stdout",
     "output_type": "stream",
     "text": [
      "Patience (3) exhausted\n"
     ]
    }
   ],
   "source": [
    "###################################\n",
    "# train\n",
    "###################################\n",
    "jig = PTN_Train_Eval_Test_Jig(model, p.BEST_MODEL_PATH, p.device)\n",
    "\n",
    "jig.train(\n",
    "    train_iterable=datasets.source.processed.train,\n",
    "    source_val_iterable=datasets.source.processed.val,\n",
    "    target_val_iterable=datasets.target.processed.val,\n",
    "    num_epochs=p.n_epoch,\n",
    "    num_logs_per_epoch=p.NUM_LOGS_PER_EPOCH,\n",
    "    patience=p.patience,\n",
    "    optimizer=optimizer,\n",
    "    criteria_for_best=p.criteria_for_best,\n",
    ")"
   ]
  },
  {
   "cell_type": "code",
   "execution_count": 23,
   "id": "31e8fabf",
   "metadata": {
    "execution": {
     "iopub.execute_input": "2022-03-10T20:33:19.071210Z",
     "iopub.status.busy": "2022-03-10T20:33:19.066940Z",
     "iopub.status.idle": "2022-03-10T20:33:19.083841Z",
     "shell.execute_reply": "2022-03-10T20:33:19.083431Z"
    },
    "papermill": {
     "duration": 0.055467,
     "end_time": "2022-03-10T20:33:19.083948",
     "exception": false,
     "start_time": "2022-03-10T20:33:19.028481",
     "status": "completed"
    },
    "tags": []
   },
   "outputs": [],
   "source": [
    "total_experiment_time_secs = time.time() - start_time_secs"
   ]
  },
  {
   "cell_type": "code",
   "execution_count": 24,
   "id": "87b9595b",
   "metadata": {
    "execution": {
     "iopub.execute_input": "2022-03-10T20:33:19.151828Z",
     "iopub.status.busy": "2022-03-10T20:33:19.151443Z",
     "iopub.status.idle": "2022-03-10T20:41:16.687149Z",
     "shell.execute_reply": "2022-03-10T20:41:16.686891Z"
    },
    "papermill": {
     "duration": 477.56948,
     "end_time": "2022-03-10T20:41:16.687215",
     "exception": false,
     "start_time": "2022-03-10T20:33:19.117735",
     "status": "completed"
    },
    "tags": []
   },
   "outputs": [],
   "source": [
    "###################################\n",
    "# Evaluate the model\n",
    "###################################\n",
    "source_test_label_accuracy, source_test_label_loss = jig.test(datasets.source.processed.test)\n",
    "target_test_label_accuracy, target_test_label_loss = jig.test(datasets.target.processed.test)\n",
    "\n",
    "source_val_label_accuracy, source_val_label_loss = jig.test(datasets.source.processed.val)\n",
    "target_val_label_accuracy, target_val_label_loss = jig.test(datasets.target.processed.val)\n",
    "\n",
    "history = jig.get_history()\n",
    "\n",
    "total_epochs_trained = len(history[\"epoch_indices\"])\n",
    "\n",
    "val_dl = Iterable_Aggregator((datasets.source.original.val,datasets.target.original.val))\n",
    "\n",
    "confusion = ptn_confusion_by_domain_over_dataloader(model, p.device, val_dl)\n",
    "per_domain_accuracy = per_domain_accuracy_from_confusion(confusion)\n",
    "\n",
    "# Add a key to per_domain_accuracy for if it was a source domain\n",
    "for domain, accuracy in per_domain_accuracy.items():\n",
    "    per_domain_accuracy[domain] = {\n",
    "        \"accuracy\": accuracy,\n",
    "        \"source?\": domain in p.domains_source\n",
    "    }\n",
    "\n",
    "# Do an independent accuracy assesment JUST TO BE SURE!\n",
    "# _source_test_label_accuracy = independent_accuracy_assesment(model, datasets.source.processed.test, p.device)\n",
    "# _target_test_label_accuracy = independent_accuracy_assesment(model, datasets.target.processed.test, p.device)\n",
    "# _source_val_label_accuracy = independent_accuracy_assesment(model, datasets.source.processed.val, p.device)\n",
    "# _target_val_label_accuracy = independent_accuracy_assesment(model, datasets.target.processed.val, p.device)\n",
    "\n",
    "# assert(_source_test_label_accuracy == source_test_label_accuracy)\n",
    "# assert(_target_test_label_accuracy == target_test_label_accuracy)\n",
    "# assert(_source_val_label_accuracy == source_val_label_accuracy)\n",
    "# assert(_target_val_label_accuracy == target_val_label_accuracy)\n",
    "\n",
    "experiment = {\n",
    "    \"experiment_name\": p.experiment_name,\n",
    "    \"parameters\": dict(p),\n",
    "    \"results\": {\n",
    "        \"source_test_label_accuracy\": source_test_label_accuracy,\n",
    "        \"source_test_label_loss\": source_test_label_loss,\n",
    "        \"target_test_label_accuracy\": target_test_label_accuracy,\n",
    "        \"target_test_label_loss\": target_test_label_loss,\n",
    "        \"source_val_label_accuracy\": source_val_label_accuracy,\n",
    "        \"source_val_label_loss\": source_val_label_loss,\n",
    "        \"target_val_label_accuracy\": target_val_label_accuracy,\n",
    "        \"target_val_label_loss\": target_val_label_loss,\n",
    "        \"total_epochs_trained\": total_epochs_trained,\n",
    "        \"total_experiment_time_secs\": total_experiment_time_secs,\n",
    "        \"confusion\": confusion,\n",
    "        \"per_domain_accuracy\": per_domain_accuracy,\n",
    "    },\n",
    "    \"history\": history,\n",
    "    \"dataset_metrics\": get_dataset_metrics(datasets, \"ptn\"),\n",
    "}"
   ]
  },
  {
   "cell_type": "code",
   "execution_count": 25,
   "id": "54a21829",
   "metadata": {
    "execution": {
     "iopub.execute_input": "2022-03-10T20:41:16.750182Z",
     "iopub.status.busy": "2022-03-10T20:41:16.749802Z",
     "iopub.status.idle": "2022-03-10T20:41:16.915878Z",
     "shell.execute_reply": "2022-03-10T20:41:16.915414Z"
    },
    "papermill": {
     "duration": 0.196575,
     "end_time": "2022-03-10T20:41:16.915974",
     "exception": false,
     "start_time": "2022-03-10T20:41:16.719399",
     "status": "completed"
    },
    "tags": []
   },
   "outputs": [
    {
     "data": {
      "image/png": "[encoded data removed]",
      "text/plain": [
       "<Figure size 1080x504 with 1 Axes>"
      ]
     },
     "metadata": {
      "needs_background": "light"
     },
     "output_type": "display_data"
    }
   ],
   "source": [
    "ax = get_loss_curve(experiment)\n",
    "plt.show()"
   ]
  },
  {
   "cell_type": "code",
   "execution_count": 26,
   "id": "fd8a0f60",
   "metadata": {
    "execution": {
     "iopub.execute_input": "2022-03-10T20:41:16.983550Z",
     "iopub.status.busy": "2022-03-10T20:41:16.983301Z",
     "iopub.status.idle": "2022-03-10T20:41:17.159449Z",
     "shell.execute_reply": "2022-03-10T20:41:17.159694Z"
    },
    "papermill": {
     "duration": 0.207874,
     "end_time": "2022-03-10T20:41:17.159757",
     "exception": false,
     "start_time": "2022-03-10T20:41:16.951883",
     "status": "completed"
    },
    "tags": []
   },
   "outputs": [
    {
     "data": {
      "text/plain": [
       "<matplotlib.axes._subplots.AxesSubplot at 0x7fc0ae13f9d0>"
      ]
     },
     "execution_count": 26,
     "metadata": {},
     "output_type": "execute_result"
    },
    {
     "data": {
      "image/png": "[encoded data removed]",
      "text/plain": [
       "<Figure size 1080x504 with 1 Axes>"
      ]
     },
     "metadata": {
      "needs_background": "light"
     },
     "output_type": "display_data"
    }
   ],
   "source": [
    "get_results_table(experiment)"
   ]
  },
  {
   "cell_type": "code",
   "execution_count": 27,
   "id": "cf8dc689",
   "metadata": {
    "execution": {
     "iopub.execute_input": "2022-03-10T20:41:17.223389Z",
     "iopub.status.busy": "2022-03-10T20:41:17.223139Z",
     "iopub.status.idle": "2022-03-10T20:41:17.438930Z",
     "shell.execute_reply": "2022-03-10T20:41:17.439307Z"
    },
    "papermill": {
     "duration": 0.248977,
     "end_time": "2022-03-10T20:41:17.439420",
     "exception": false,
     "start_time": "2022-03-10T20:41:17.190443",
     "status": "completed"
    },
    "tags": []
   },
   "outputs": [
    {
     "data": {
      "text/plain": [
       "<matplotlib.axes._subplots.AxesSubplot at 0x7fc0addcaeb0>"
      ]
     },
     "execution_count": 27,
     "metadata": {},
     "output_type": "execute_result"
    },
    {
     "data": {
      "image/png": "[encoded data removed]",
      "text/plain": [
       "<Figure size 1080x504 with 1 Axes>"
      ]
     },
     "metadata": {
      "needs_background": "light"
     },
     "output_type": "display_data"
    }
   ],
   "source": [
    "get_domain_accuracies(experiment)"
   ]
  },
  {
   "cell_type": "code",
   "execution_count": 28,
   "id": "a74ae082",
   "metadata": {
    "execution": {
     "iopub.execute_input": "2022-03-10T20:41:17.508149Z",
     "iopub.status.busy": "2022-03-10T20:41:17.507899Z",
     "iopub.status.idle": "2022-03-10T20:41:17.523169Z",
     "shell.execute_reply": "2022-03-10T20:41:17.522742Z"
    },
    "papermill": {
     "duration": 0.048823,
     "end_time": "2022-03-10T20:41:17.523262",
     "exception": false,
     "start_time": "2022-03-10T20:41:17.474439",
     "status": "completed"
    },
    "tags": []
   },
   "outputs": [
    {
     "name": "stdout",
     "output_type": "stream",
     "text": [
      "Source Test Label Accuracy: 0.87671875 Target Test Label Accuracy: 0.8508658854166666\n",
      "Source Val Label Accuracy: 0.8774088541666667 Target Val Label Accuracy: 0.8524934895833334\n"
     ]
    }
   ],
   "source": [
    "print(\"Source Test Label Accuracy:\", experiment[\"results\"][\"source_test_label_accuracy\"], \"Target Test Label Accuracy:\", experiment[\"results\"][\"target_test_label_accuracy\"])\n",
    "print(\"Source Val Label Accuracy:\", experiment[\"results\"][\"source_val_label_accuracy\"], \"Target Val Label Accuracy:\", experiment[\"results\"][\"target_val_label_accuracy\"])"
   ]
  },
  {
   "cell_type": "code",
   "execution_count": 29,
   "id": "dacca602",
   "metadata": {
    "execution": {
     "iopub.execute_input": "2022-03-10T20:41:17.601844Z",
     "iopub.status.busy": "2022-03-10T20:41:17.591957Z",
     "iopub.status.idle": "2022-03-10T20:41:17.605001Z",
     "shell.execute_reply": "2022-03-10T20:41:17.605394Z"
    },
    "papermill": {
     "duration": 0.046642,
     "end_time": "2022-03-10T20:41:17.605503",
     "exception": false,
     "start_time": "2022-03-10T20:41:17.558861",
     "status": "completed"
    },
    "tags": [
     "experiment_json"
    ]
   },
   "outputs": [
    {
     "data": {
      "text/plain": [
       "'{\"experiment_name\": \"tl_1_oracle.run1-oracle.run2\", \"parameters\": {\"experiment_name\": \"tl_1_oracle.run1-oracle.run2\", \"device\": \"cuda\", \"lr\": 0.001, \"seed\": 1337, \"dataset_seed\": 1337, \"n_shot\": 3, \"n_query\": 2, \"train_k_factor\": 3, \"val_k_factor\": 2, \"test_k_factor\": 2, \"torch_default_dtype\": \"torch.float32\", \"n_epoch\": 50, \"patience\": 3, \"criteria_for_best\": \"target_loss\", \"x_net\": [{\"class\": \"nnReshape\", \"kargs\": {\"shape\": [-1, 1, 2, 256]}}, {\"class\": \"Conv2d\", \"kargs\": {\"in_channels\": 1, \"out_channels\": 256, \"kernel_size\": [1, 7], \"bias\": false, \"padding\": [0, 3]}}, {\"class\": \"ReLU\", \"kargs\": {\"inplace\": true}}, {\"class\": \"BatchNorm2d\", \"kargs\": {\"num_features\": 256}}, {\"class\": \"Conv2d\", \"kargs\": {\"in_channels\": 256, \"out_channels\": 80, \"kernel_size\": [2, 7], \"bias\": true, \"padding\": [0, 3]}}, {\"class\": \"ReLU\", \"kargs\": {\"inplace\": true}}, {\"class\": \"BatchNorm2d\", \"kargs\": {\"num_features\": 80}}, {\"class\": \"Flatten\", \"kargs\": {}}, {\"class\": \"Linear\", \"kargs\": {\"in_features\": 20480, \"out_features\": 256}}, {\"class\": \"ReLU\", \"kargs\": {\"inplace\": true}}, {\"class\": \"BatchNorm1d\", \"kargs\": {\"num_features\": 256}}, {\"class\": \"Linear\", \"kargs\": {\"in_features\": 256, \"out_features\": 256}}], \"NUM_LOGS_PER_EPOCH\": 10, \"BEST_MODEL_PATH\": \"./best_model.pth\", \"n_way\": 16, \"datasets\": [{\"labels\": [\"3123D52\", \"3123D65\", \"3123D79\", \"3123D80\", \"3123D54\", \"3123D70\", \"3123D7B\", \"3123D89\", \"3123D58\", \"3123D76\", \"3123D7D\", \"3123EFE\", \"3123D64\", \"3123D78\", \"3123D7E\", \"3124E4A\"], \"domains\": [32, 38, 8, 44, 14, 50, 20, 26], \"num_examples_per_domain_per_label\": 10000, \"pickle_path\": \"/mnt/wd500GB/CSC500/csc500-main/datasets/oracle.Run1_10kExamples_stratified_ds.2022A.pkl\", \"source_or_target_dataset\": \"target\", \"x_transforms\": [], \"episode_transforms\": [], \"domain_prefix\": \"ORACLE.run1_\"}, {\"labels\": [\"3123D52\", \"3123D65\", \"3123D79\", \"3123D80\", \"3123D54\", \"3123D70\", \"3123D7B\", \"3123D89\", \"3123D58\", \"3123D76\", \"3123D7D\", \"3123EFE\", \"3123D64\", \"3123D78\", \"3123D7E\", \"3124E4A\"], \"domains\": [32, 38, 8, 44, 14, 50, 20, 26], \"num_examples_per_domain_per_label\": 10000, \"pickle_path\": \"/mnt/wd500GB/CSC500/csc500-main/datasets/oracle.Run2_10kExamples_stratified_ds.2022A.pkl\", \"source_or_target_dataset\": \"source\", \"x_transforms\": [], \"episode_transforms\": [], \"domain_prefix\": \"ORACLE.run2_\"}], \"domains_source\": [\"ORACLE.run2_32\", \"ORACLE.run2_38\", \"ORACLE.run2_8\", \"ORACLE.run2_44\", \"ORACLE.run2_14\", \"ORACLE.run2_50\", \"ORACLE.run2_20\", \"ORACLE.run2_26\"], \"domains_target\": [\"ORACLE.run1_32\", \"ORACLE.run1_38\", \"ORACLE.run1_8\", \"ORACLE.run1_44\", \"ORACLE.run1_14\", \"ORACLE.run1_50\", \"ORACLE.run1_20\", \"ORACLE.run1_26\"]}, \"results\": {\"source_test_label_accuracy\": 0.87671875, \"source_test_label_loss\": 0.3448919951915741, \"target_test_label_accuracy\": 0.8508658854166666, \"target_test_label_loss\": 0.446000874042511, \"source_val_label_accuracy\": 0.8774088541666667, \"source_val_label_loss\": 0.3445083796977997, \"target_val_label_accuracy\": 0.8524934895833334, \"target_val_label_loss\": 0.4443798065185547, \"total_epochs_trained\": 7, \"total_experiment_time_secs\": 6454.873087406158, \"confusion\": {\"ORACLE.run2_14\": {\"15\": {\"15\": 1200}, \"3\": {\"3\": 1182, \"2\": 12, \"5\": 3, \"6\": 1, \"14\": 2}, \"6\": {\"13\": 165, \"6\": 1035}, \"1\": {\"1\": 1200}, \"8\": {\"8\": 1200}, \"10\": {\"10\": 1133, \"0\": 60, \"12\": 3, \"14\": 4}, \"9\": {\"9\": 1200}, \"13\": {\"13\": 1016, \"6\": 184}, \"12\": {\"12\": 753, \"10\": 115, \"9\": 207, \"8\": 7, \"1\": 13, \"11\": 52, \"0\": 47, \"3\": 5, \"14\": 1}, \"5\": {\"5\": 1080, \"4\": 2, \"2\": 107, \"3\": 2, \"14\": 9}, \"0\": {\"0\": 1189, \"10\": 9, \"14\": 1, \"9\": 1}, \"2\": {\"2\": 705, \"3\": 75, \"14\": 173, \"5\": 225, \"6\": 6, \"7\": 4, \"4\": 12}, \"11\": {\"11\": 1200}, \"14\": {\"14\": 1038, \"2\": 133, \"6\": 1, \"5\": 22, \"3\": 5, \"0\": 1}, \"7\": {\"7\": 1200}, \"4\": {\"4\": 1195, \"5\": 3, \"2\": 2}}, \"ORACLE.run2_20\": {\"3\": {\"3\": 572, \"15\": 45, \"4\": 80, \"5\": 114, \"2\": 124, \"9\": 148, \"12\": 4, \"7\": 112, \"13\": 1}, \"15\": {\"15\": 769, \"13\": 14, \"1\": 7, \"9\": 234, \"2\": 112, \"3\": 35, \"5\": 15, \"12\": 8, \"4\": 6}, \"8\": {\"8\": 1078, \"0\": 4, \"14\": 117, \"5\": 1}, \"4\": {\"4\": 1100, \"2\": 5, \"3\": 61, \"15\": 4, \"9\": 14, \"7\": 11, \"5\": 2, \"12\": 1, \"10\": 2}, \"14\": {\"14\": 1057, \"8\": 142, \"3\": 1}, \"0\": {\"0\": 1178, \"8\": 6, \"1\": 15, \"5\": 1}, \"7\": {\"7\": 1029, \"3\": 132, \"4\": 13, \"6\": 13, \"2\": 3, \"9\": 6, \"15\": 1, \"10\": 2, \"5\": 1}, \"6\": {\"6\": 1167, \"7\": 17, \"10\": 16}, \"10\": {\"10\": 1131, \"7\": 15, \"6\": 47, \"4\": 7}, \"5\": {\"5\": 560, \"1\": 112, \"15\": 28, \"3\": 87, \"9\": 124, \"2\": 279, \"4\": 6, \"7\": 1, \"0\": 2, \"8\": 1}, \"2\": {\"9\": 280, \"2\": 427, \"3\": 133, \"5\": 258, \"15\": 74, \"1\": 16, \"4\": 8, \"7\": 4}, \"12\": {\"12\": 1111, \"13\": 82, \"4\": 5, \"3\": 1, \"15\": 1}, \"9\": {\"9\": 439, \"15\": 216, \"2\": 279, \"3\": 140, \"4\": 23, \"5\": 97, \"1\": 4, \"7\": 2}, \"1\": {\"1\": 1112, \"5\": 56, \"9\": 10, \"15\": 8, \"2\": 14}, \"11\": {\"11\": 1200}, \"13\": {\"13\": 1085, \"15\": 10, \"12\": 105}}, \"ORACLE.run2_38\": {\"5\": {\"12\": 9, \"8\": 368, \"5\": 821, \"9\": 1, \"7\": 1}, \"8\": {\"8\": 1069, \"5\": 120, \"7\": 11}, \"11\": {\"11\": 1200}, \"1\": {\"1\": 1130, \"15\": 69, \"6\": 1}, \"10\": {\"10\": 1129, \"13\": 34, \"3\": 29, \"4\": 8}, \"15\": {\"15\": 968, \"1\": 185, \"6\": 41, \"5\": 6}, \"3\": {\"3\": 867, \"13\": 266, \"10\": 66, \"0\": 1}, \"7\": {\"7\": 1176, \"8\": 8, \"0\": 14, \"14\": 2}, \"4\": {\"4\": 1195, \"10\": 3, \"7\": 2}, \"14\": {\"14\": 714, \"4\": 21, \"7\": 61, \"2\": 356, \"8\": 7, \"12\": 35, \"5\": 2, \"10\": 3, \"11\": 1}, \"9\": {\"9\": 1199, \"5\": 1}, \"12\": {\"12\": 1196, \"5\": 2, \"14\": 2}, \"6\": {\"6\": 1196, \"15\": 3, \"1\": 1}, \"2\": {\"2\": 1116, \"14\": 84}, \"0\": {\"0\": 1175, \"8\": 3, \"7\": 22}, \"13\": {\"13\": 951, \"3\": 176, \"10\": 72, \"11\": 1}}, \"ORACLE.run2_8\": {\"9\": {\"9\": 1200}, \"10\": {\"10\": 1000, \"5\": 137, \"13\": 59, \"1\": 4}, \"13\": {\"13\": 1126, \"10\": 57, \"1\": 7, \"7\": 7, \"5\": 3}, \"0\": {\"0\": 1200}, \"1\": {\"1\": 1085, \"13\": 55, \"5\": 38, \"14\": 9, \"10\": 12, \"4\": 1}, \"15\": {\"15\": 1179, \"12\": 21}, \"5\": {\"5\": 892, \"10\": 252, \"1\": 49, \"13\": 7}, \"3\": {\"3\": 1200}, \"6\": {\"14\": 127, \"6\": 1049, \"4\": 7, \"8\": 17}, \"11\": {\"11\": 849, \"8\": 345, \"13\": 1, \"7\": 3, \"6\": 2}, \"8\": {\"8\": 1037, \"11\": 133, \"6\": 30}, \"4\": {\"14\": 8, \"7\": 212, \"4\": 949, \"6\": 29, \"1\": 1, \"8\": 1}, \"12\": {\"12\": 1189, \"15\": 9, \"2\": 2}, \"14\": {\"14\": 1077, \"6\": 119, \"1\": 3, \"4\": 1}, \"2\": {\"2\": 1200}, \"7\": {\"7\": 1046, \"4\": 154}}, \"ORACLE.run2_50\": {\"7\": {\"7\": 1136, \"4\": 39, \"5\": 25}, \"3\": {\"3\": 1200}, \"8\": {\"8\": 1200}, \"2\": {\"2\": 1171, \"0\": 29}, \"14\": {\"14\": 1200}, \"4\": {\"4\": 890, \"7\": 34, \"5\": 269, \"6\": 5, \"15\": 2}, \"6\": {\"6\": 1116, \"5\": 39, \"15\": 38, \"4\": 7}, \"15\": {\"15\": 1159, \"6\": 40, \"4\": 1}, \"10\": {\"10\": 1181, \"0\": 12, \"13\": 4, \"1\": 3}, \"11\": {\"11\": 1183, \"12\": 14, \"15\": 3}, \"13\": {\"13\": 1193, \"8\": 2, \"10\": 2, \"1\": 3}, \"9\": {\"9\": 1194, \"12\": 6}, \"0\": {\"0\": 1157, \"2\": 28, \"10\": 15}, \"1\": {\"1\": 1199, \"11\": 1}, \"12\": {\"12\": 1178, \"11\": 14, \"9\": 8}, \"5\": {\"4\": 273, \"5\": 816, \"7\": 71, \"6\": 39, \"15\": 1}}, \"ORACLE.run2_32\": {\"8\": {\"8\": 1094, \"0\": 86, \"7\": 17, \"2\": 2, \"5\": 1}, \"14\": {\"14\": 848, \"2\": 327, \"5\": 9, \"0\": 16}, \"2\": {\"2\": 935, \"14\": 189, \"0\": 49, \"8\": 4, \"7\": 22, \"5\": 1}, \"0\": {\"0\": 899, \"2\": 73, \"11\": 2, \"8\": 80, \"14\": 6, \"7\": 97, \"4\": 42, \"5\": 1}, \"1\": {\"1\": 1200}, \"10\": {\"10\": 1200}, \"11\": {\"4\": 254, \"11\": 762, \"13\": 158, \"0\": 22, \"7\": 4}, \"5\": {\"5\": 1139, \"2\": 26, \"8\": 2, \"14\": 22, \"15\": 5, \"7\": 6}, \"15\": {\"15\": 1199, \"5\": 1}, \"3\": {\"3\": 1136, \"13\": 62, \"4\": 1, \"11\": 1}, \"12\": {\"12\": 1200}, \"7\": {\"7\": 1087, \"2\": 37, \"8\": 24, \"0\": 51, \"14\": 1}, \"13\": {\"3\": 58, \"13\": 1044, \"4\": 29, \"11\": 69}, \"6\": {\"6\": 1200}, \"4\": {\"4\": 1031, \"11\": 126, \"0\": 27, \"7\": 1, \"13\": 13, \"3\": 2}, \"9\": {\"9\": 1198, \"12\": 2}}, \"ORACLE.run2_26\": {\"4\": {\"4\": 1198, \"3\": 2}, \"12\": {\"12\": 1200}, \"10\": {\"10\": 426, \"0\": 299, \"1\": 38, \"14\": 270, \"8\": 96, \"15\": 17, \"6\": 40, \"2\": 4, \"12\": 1, \"9\": 4, \"5\": 5}, \"0\": {\"0\": 757, \"10\": 212, \"14\": 151, \"15\": 54, \"8\": 21, \"2\": 5}, \"13\": {\"13\": 1134, \"9\": 45, \"7\": 21}, \"9\": {\"13\": 71, \"9\": 824, \"2\": 65, \"7\": 81, \"8\": 159}, \"3\": {\"3\": 1045, \"7\": 151, \"4\": 1, \"13\": 2, \"2\": 1}, \"2\": {\"2\": 837, \"8\": 228, \"9\": 79, \"15\": 13, \"7\": 39, \"3\": 2, \"0\": 1, \"10\": 1}, \"5\": {\"5\": 800, \"6\": 345, \"15\": 21, \"1\": 13, \"14\": 10, \"10\": 6, \"0\": 5}, \"14\": {\"14\": 796, \"10\": 133, \"0\": 191, \"15\": 6, \"1\": 45, \"5\": 8, \"6\": 21}, \"8\": {\"2\": 202, \"8\": 838, \"9\": 135, \"7\": 2, \"15\": 4, \"0\": 9, \"10\": 10}, \"7\": {\"7\": 826, \"2\": 96, \"3\": 187, \"13\": 28, \"9\": 51, \"8\": 12}, \"6\": {\"5\": 178, \"6\": 1001, \"10\": 6, \"1\": 7, \"14\": 8}, \"11\": {\"11\": 1200}, \"15\": {\"15\": 1077, \"0\": 66, \"8\": 20, \"14\": 4, \"2\": 27, \"10\": 6}, \"1\": {\"1\": 1184, \"6\": 4, \"5\": 6, \"14\": 5, \"10\": 1}}, \"ORACLE.run2_44\": {\"12\": {\"12\": 1089, \"3\": 111}, \"7\": {\"9\": 302, \"7\": 890, \"6\": 8}, \"5\": {\"5\": 1097, \"14\": 53, \"15\": 7, \"8\": 42, \"0\": 1}, \"15\": {\"15\": 1151, \"8\": 26, \"4\": 4, \"5\": 13, \"0\": 5, \"14\": 1}, \"8\": {\"0\": 165, \"8\": 1002, \"5\": 23, \"15\": 10}, \"2\": {\"2\": 1190, \"1\": 10}, \"13\": {\"13\": 1167, \"6\": 15, \"4\": 16, \"9\": 1, \"14\": 1}, \"4\": {\"4\": 1090, \"14\": 110}, \"0\": {\"8\": 314, \"0\": 882, \"5\": 1, \"15\": 3}, \"6\": {\"6\": 1185, \"13\": 11, \"7\": 4}, \"9\": {\"9\": 816, \"7\": 368, \"6\": 16}, \"11\": {\"11\": 1200}, \"10\": {\"10\": 1192, \"1\": 3, \"9\": 2, \"7\": 3}, \"14\": {\"14\": 1088, \"4\": 91, \"5\": 17, \"15\": 2, \"8\": 2}, \"1\": {\"1\": 1190, \"2\": 10}, \"3\": {\"3\": 1132, \"12\": 68}}, \"ORACLE.run1_14\": {\"15\": {\"15\": 1200}, \"3\": {\"3\": 1176, \"0\": 9, \"14\": 13, \"5\": 1, \"2\": 1}, \"6\": {\"6\": 711, \"13\": 278, \"2\": 63, \"14\": 143, \"3\": 5}, \"1\": {\"1\": 1200}, \"8\": {\"8\": 1200}, \"10\": {\"10\": 1200}, \"9\": {\"9\": 1200}, \"13\": {\"14\": 391, \"6\": 392, \"15\": 113, \"4\": 4, \"13\": 238, \"2\": 56, \"3\": 2, \"0\": 1, \"5\": 3}, \"12\": {\"12\": 1200}, \"5\": {\"5\": 1082, \"2\": 86, \"4\": 15, \"3\": 9, \"7\": 4, \"14\": 4}, \"0\": {\"0\": 1150, \"10\": 7, \"3\": 38, \"14\": 3, \"8\": 2}, \"2\": {\"14\": 231, \"2\": 534, \"5\": 176, \"4\": 74, \"6\": 87, \"3\": 43, \"13\": 38, \"7\": 17}, \"11\": {\"11\": 1200}, \"14\": {\"14\": 1037, \"13\": 60, \"2\": 69, \"3\": 16, \"5\": 2, \"6\": 16}, \"7\": {\"7\": 1198, \"5\": 2}, \"4\": {\"4\": 1131, \"5\": 58, \"2\": 10, \"1\": 1}}, \"ORACLE.run1_20\": {\"3\": {\"3\": 755, \"9\": 159, \"5\": 190, \"8\": 58, \"1\": 19, \"0\": 14, \"7\": 5}, \"15\": {\"15\": 920, \"13\": 27, \"1\": 90, \"12\": 122, \"2\": 27, \"9\": 11, \"5\": 3}, \"8\": {\"8\": 1081, \"14\": 79, \"3\": 39, \"7\": 1}, \"4\": {\"4\": 1139, \"10\": 6, \"12\": 27, \"6\": 2, \"7\": 14, \"2\": 12}, \"14\": {\"14\": 1134, \"8\": 64, \"6\": 2}, \"0\": {\"0\": 1178, \"3\": 9, \"5\": 10, \"8\": 2, \"1\": 1}, \"7\": {\"7\": 995, \"2\": 100, \"6\": 12, \"9\": 74, \"3\": 4, \"4\": 10, \"12\": 4, \"14\": 1}, \"6\": {\"6\": 1182, \"14\": 2, \"7\": 16}, \"10\": {\"10\": 1193, \"4\": 7}, \"5\": {\"1\": 280, \"3\": 136, \"5\": 725, \"9\": 56, \"15\": 3}, \"2\": {\"7\": 140, \"2\": 797, \"12\": 181, \"9\": 31, \"15\": 22, \"13\": 15, \"4\": 11, \"1\": 3}, \"12\": {\"12\": 917, \"15\": 119, \"2\": 129, \"4\": 16, \"9\": 5, \"1\": 6, \"7\": 2, \"13\": 6}, \"9\": {\"9\": 858, \"5\": 63, \"1\": 85, \"7\": 82, \"3\": 82, \"2\": 22, \"12\": 4, \"15\": 3, \"8\": 1}, \"1\": {\"1\": 807, \"5\": 263, \"9\": 91, \"15\": 30, \"12\": 3, \"3\": 6}, \"11\": {\"11\": 1200}, \"13\": {\"13\": 1156, \"12\": 15, \"15\": 8, \"2\": 21}}, \"ORACLE.run1_38\": {\"5\": {\"8\": 401, \"5\": 592, \"15\": 46, \"9\": 77, \"7\": 80, \"0\": 3, \"2\": 1}, \"8\": {\"8\": 628, \"15\": 17, \"7\": 131, \"5\": 407, \"0\": 11, \"12\": 3, \"13\": 3}, \"11\": {\"11\": 1200}, \"1\": {\"1\": 1198, \"6\": 2}, \"10\": {\"10\": 1072, \"13\": 82, \"0\": 40, \"11\": 3, \"4\": 3}, \"15\": {\"15\": 1131, \"8\": 23, \"5\": 38, \"1\": 8}, \"3\": {\"3\": 1199, \"0\": 1}, \"7\": {\"7\": 1184, \"0\": 10, \"8\": 3, \"5\": 2, \"9\": 1}, \"4\": {\"4\": 1194, \"10\": 5, \"0\": 1}, \"14\": {\"14\": 1097, \"2\": 94, \"13\": 8, \"10\": 1}, \"9\": {\"9\": 1151, \"5\": 37, \"8\": 10, \"7\": 2}, \"12\": {\"12\": 1197, \"8\": 3}, \"6\": {\"6\": 1199, \"1\": 1}, \"2\": {\"2\": 1135, \"14\": 62, \"13\": 3}, \"0\": {\"13\": 30, \"0\": 885, \"7\": 100, \"3\": 82, \"10\": 96, \"8\": 6, \"5\": 1}, \"13\": {\"13\": 1103, \"10\": 90, \"0\": 4, \"14\": 3}}, \"ORACLE.run1_8\": {\"9\": {\"9\": 1200}, \"10\": {\"10\": 895, \"5\": 84, \"13\": 179, \"6\": 4, \"1\": 30, \"7\": 1, \"4\": 2, \"11\": 5}, \"13\": {\"13\": 926, \"10\": 183, \"7\": 46, \"5\": 10, \"1\": 2, \"6\": 33}, \"0\": {\"0\": 1199, \"14\": 1}, \"1\": {\"11\": 240, \"1\": 872, \"10\": 47, \"5\": 28, \"13\": 5, \"4\": 2, \"6\": 6}, \"15\": {\"15\": 1035, \"12\": 145, \"2\": 20}, \"5\": {\"5\": 921, \"10\": 162, \"1\": 90, \"13\": 6, \"11\": 16, \"14\": 4, \"4\": 1}, \"3\": {\"3\": 1198, \"2\": 2}, \"6\": {\"6\": 929, \"7\": 238, \"11\": 2, \"13\": 11, \"4\": 12, \"1\": 5, \"10\": 3}, \"11\": {\"14\": 39, \"11\": 642, \"1\": 421, \"6\": 25, \"4\": 27, \"8\": 28, \"5\": 14, \"10\": 3, \"7\": 1}, \"8\": {\"8\": 1168, \"11\": 15, \"6\": 13, \"14\": 1, \"7\": 2, \"4\": 1}, \"4\": {\"4\": 1085, \"14\": 78, \"6\": 26, \"11\": 9, \"1\": 2}, \"12\": {\"12\": 943, \"15\": 255, \"2\": 2}, \"14\": {\"4\": 199, \"14\": 980, \"11\": 20, \"8\": 1}, \"2\": {\"2\": 933, \"3\": 163, \"12\": 55, \"15\": 49}, \"7\": {\"7\": 977, \"6\": 212, \"13\": 9, \"1\": 1, \"10\": 1}}, \"ORACLE.run1_50\": {\"7\": {\"7\": 1106, \"4\": 23, \"5\": 71}, \"3\": {\"3\": 1200}, \"8\": {\"8\": 1190, \"10\": 10}, \"2\": {\"2\": 1157, \"0\": 43}, \"14\": {\"14\": 1200}, \"4\": {\"4\": 1026, \"5\": 42, \"7\": 104, \"15\": 16, \"6\": 12}, \"6\": {\"6\": 1073, \"5\": 62, \"15\": 65}, \"15\": {\"15\": 1119, \"9\": 4, \"6\": 67, \"11\": 8, \"5\": 2}, \"10\": {\"10\": 1179, \"0\": 16, \"8\": 5}, \"11\": {\"11\": 1161, \"9\": 17, \"12\": 16, \"15\": 6}, \"13\": {\"13\": 1198, \"1\": 2}, \"9\": {\"9\": 985, \"11\": 135, \"12\": 75, \"15\": 5}, \"0\": {\"0\": 1129, \"2\": 52, \"10\": 19}, \"1\": {\"1\": 1179, \"13\": 14, \"0\": 4, \"11\": 2, \"5\": 1}, \"12\": {\"11\": 24, \"12\": 1134, \"9\": 42}, \"5\": {\"6\": 219, \"7\": 362, \"5\": 486, \"13\": 38, \"4\": 85, \"15\": 9, \"1\": 1}}, \"ORACLE.run1_32\": {\"8\": {\"14\": 28, \"8\": 915, \"0\": 108, \"5\": 91, \"4\": 31, \"7\": 22, \"13\": 2, \"2\": 2, \"3\": 1}, \"14\": {\"5\": 47, \"14\": 672, \"7\": 312, \"2\": 59, \"4\": 31, \"0\": 38, \"8\": 38, \"13\": 3}, \"2\": {\"4\": 108, \"2\": 1091, \"14\": 1}, \"0\": {\"0\": 983, \"7\": 105, \"8\": 49, \"14\": 23, \"5\": 38, \"2\": 2}, \"1\": {\"1\": 1200}, \"10\": {\"10\": 1200}, \"11\": {\"11\": 1178, \"13\": 17, \"3\": 5}, \"5\": {\"7\": 244, \"14\": 64, \"5\": 693, \"8\": 116, \"0\": 83}, \"15\": {\"15\": 1191, \"8\": 7, \"5\": 2}, \"3\": {\"3\": 1104, \"13\": 94, \"11\": 2}, \"12\": {\"12\": 1200}, \"7\": {\"7\": 823, \"0\": 86, \"5\": 161, \"14\": 121, \"8\": 9}, \"13\": {\"3\": 164, \"13\": 877, \"4\": 120, \"11\": 39}, \"6\": {\"6\": 1200}, \"4\": {\"4\": 1068, \"2\": 113, \"13\": 19}, \"9\": {\"9\": 1192, \"12\": 7, \"2\": 1}}, \"ORACLE.run1_26\": {\"4\": {\"4\": 1200}, \"12\": {\"12\": 1200}, \"10\": {\"10\": 803, \"14\": 223, \"6\": 42, \"0\": 102, \"15\": 27, \"1\": 3}, \"0\": {\"0\": 812, \"10\": 221, \"14\": 143, \"15\": 3, \"2\": 9, \"8\": 8, \"1\": 2, \"7\": 1, \"6\": 1}, \"13\": {\"13\": 1071, \"4\": 3, \"9\": 82, \"2\": 35, \"3\": 5, \"8\": 2, \"7\": 2}, \"9\": {\"9\": 624, \"8\": 249, \"13\": 205, \"2\": 88, \"7\": 24, \"0\": 7, \"3\": 2, \"4\": 1}, \"3\": {\"3\": 1104, \"7\": 83, \"2\": 8, \"4\": 1, \"9\": 2, \"8\": 1, \"13\": 1}, \"2\": {\"2\": 739, \"7\": 174, \"3\": 65, \"0\": 65, \"8\": 75, \"9\": 63, \"15\": 10, \"13\": 4, \"10\": 3, \"14\": 2}, \"5\": {\"5\": 943, \"6\": 62, \"15\": 194, \"10\": 1}, \"14\": {\"14\": 797, \"1\": 31, \"0\": 114, \"10\": 244, \"15\": 8, \"6\": 6}, \"8\": {\"8\": 837, \"7\": 154, \"9\": 156, \"0\": 7, \"2\": 43, \"3\": 3}, \"7\": {\"7\": 888, \"8\": 137, \"9\": 25, \"3\": 62, \"2\": 88}, \"6\": {\"6\": 988, \"15\": 113, \"5\": 57, \"10\": 36, \"1\": 4, \"14\": 2}, \"11\": {\"11\": 1200}, \"15\": {\"15\": 736, \"6\": 129, \"5\": 288, \"10\": 37, \"0\": 3, \"14\": 3, \"1\": 4}, \"1\": {\"1\": 949, \"14\": 176, \"10\": 54, \"6\": 15, \"15\": 3, \"5\": 2, \"0\": 1}}, \"ORACLE.run1_44\": {\"12\": {\"12\": 1171, \"3\": 29}, \"7\": {\"7\": 1064, \"9\": 128, \"10\": 7, \"6\": 1}, \"5\": {\"5\": 1020, \"14\": 69, \"15\": 99, \"4\": 3, \"8\": 9}, \"15\": {\"15\": 1061, \"5\": 34, \"14\": 66, \"8\": 32, \"4\": 4, \"0\": 3}, \"8\": {\"8\": 857, \"0\": 271, \"5\": 25, \"15\": 47}, \"2\": {\"2\": 1153, \"1\": 44, \"10\": 2, \"9\": 1}, \"13\": {\"13\": 994, \"6\": 168, \"9\": 16, \"11\": 22}, \"4\": {\"4\": 753, \"14\": 415, \"15\": 24, \"5\": 6, \"13\": 2}, \"0\": {\"0\": 1056, \"8\": 143, \"15\": 1}, \"6\": {\"6\": 1027, \"13\": 133, \"9\": 39, \"7\": 1}, \"9\": {\"13\": 73, \"9\": 530, \"6\": 232, \"7\": 351, \"2\": 9, \"14\": 1, \"4\": 4}, \"11\": {\"11\": 1193, \"13\": 7}, \"10\": {\"10\": 1130, \"1\": 33, \"2\": 20, \"7\": 17}, \"14\": {\"14\": 868, \"5\": 49, \"4\": 246, \"15\": 37}, \"1\": {\"1\": 1127, \"2\": 73}, \"3\": {\"3\": 1177, \"12\": 23}}}, \"per_domain_accuracy\": {\"ORACLE.run2_14\": {\"accuracy\": 0.9128125, \"source?\": true}, \"ORACLE.run2_20\": {\"accuracy\": 0.78203125, \"source?\": true}, \"ORACLE.run2_38\": {\"accuracy\": 0.8907291666666667, \"source?\": true}, \"ORACLE.run2_8\": {\"accuracy\": 0.8998958333333333, \"source?\": true}, \"ORACLE.run2_50\": {\"accuracy\": 0.9465104166666667, \"source?\": true}, \"ORACLE.run2_32\": {\"accuracy\": 0.894375, \"source?\": true}, \"ORACLE.run2_26\": {\"accuracy\": 0.7886979166666667, \"source?\": true}, \"ORACLE.run2_44\": {\"accuracy\": 0.90421875, \"source?\": true}, \"ORACLE.run1_14\": {\"accuracy\": 0.8675520833333333, \"source?\": false}, \"ORACLE.run1_20\": {\"accuracy\": 0.8352604166666666, \"source?\": false}, \"ORACLE.run1_38\": {\"accuracy\": 0.8940104166666667, \"source?\": false}, \"ORACLE.run1_8\": {\"accuracy\": 0.82828125, \"source?\": false}, \"ORACLE.run1_50\": {\"accuracy\": 0.9126041666666667, \"source?\": false}, \"ORACLE.run1_32\": {\"accuracy\": 0.86390625, \"source?\": false}, \"ORACLE.run1_26\": {\"accuracy\": 0.7755729166666666, \"source?\": false}, \"ORACLE.run1_44\": {\"accuracy\": 0.8427604166666667, \"source?\": false}}}, \"history\": {\"epoch_indices\": [1, 2, 3, 4, 5, 6, 7], \"train_label_loss\": [0.5667411877870161, 0.4420816895503196, 0.33631261477219165, 0.2889755582764545, 0.2541291450886499, 0.22803111284105052, 0.20707154195575553], \"source_val_label_loss\": [194.89364624023438, 0.39402228593826294, 0.3445083796977997, 0.3311651945114136, 0.3131871521472931, 0.3136940896511078, 0.30885690450668335], \"target_val_label_loss\": [207.8062744140625, 0.48500144481658936, 0.4443798065185547, 0.46595028042793274, 0.47516369819641113, 0.48060908913612366, 0.47094738483428955], \"source_val_acc_label\": [0.7094986979166666, 0.8687369791666667, 0.8774088541666667, 0.8835026041666667, 0.8891015625, 0.8893619791666667, 0.8893098958333333], \"target_val_acc_label\": [0.6921875, 0.8469075520833333, 0.8524934895833334, 0.8521549479166667, 0.8542578125, 0.8504557291666667, 0.8510286458333334]}, \"dataset_metrics\": {\"source\": {\"train\": {\"n_unique_x\": 896000, \"n_unique_y\": 16, \"n_batch/episode\": 33600}, \"val\": {\"n_unique_x\": 192000, \"n_unique_y\": 16, \"n_batch/episode\": 4800}, \"test\": {\"n_unique_x\": 192000, \"n_unique_y\": 16, \"n_batch/episode\": 4800}}, \"target\": {\"train\": {\"n_unique_x\": 896000, \"n_unique_y\": 16, \"n_batch/episode\": 33600}, \"val\": {\"n_unique_x\": 192000, \"n_unique_y\": 16, \"n_batch/episode\": 4800}, \"test\": {\"n_unique_x\": 192000, \"n_unique_y\": 16, \"n_batch/episode\": 4800}}}}'"
      ]
     },
     "execution_count": 29,
     "metadata": {},
     "output_type": "execute_result"
    }
   ],
   "source": [
    "json.dumps(experiment)"
   ]
  }
 ],
 "metadata": {
  "celltoolbar": "Tags",
  "kernelspec": {
   "display_name": "Python 3 (ipykernel)",
   "language": "python",
   "name": "python3"
  },
  "language_info": {
   "codemirror_mode": {
    "name": "ipython",
    "version": 3
   },
   "file_extension": ".py",
   "mimetype": "text/x-python",
   "name": "python",
   "nbconvert_exporter": "python",
   "pygments_lexer": "ipython3",
   "version": "3.8.10"
  },
  "papermill": {
   "default_parameters": {},
   "duration": 6937.766035,
   "end_time": "2022-03-10T20:41:19.856845",
   "environment_variables": {},
   "exception": null,
   "input_path": "/mnt/wd500GB/CSC500/csc500-main/csc500-notebooks/templates/tl_ptn_template.ipynb",
   "output_path": "trial.ipynb",
   "parameters": {
    "parameters": {
     "BEST_MODEL_PATH": "./best_model.pth",
     "NUM_LOGS_PER_EPOCH": 10,
     "criteria_for_best": "target_loss",
     "dataset_seed": 1337,
     "datasets": [
      {
       "domain_prefix": "ORACLE.run1_",
       "domains": [
        32,
        38,
        8,
        44,
        14,
        50,
        20,
        26
       ],
       "episode_transforms": [],
       "labels": [
        "3123D52",
        "3123D65",
        "3123D79",
        "3123D80",
        "3123D54",
        "3123D70",
        "3123D7B",
        "3123D89",
        "3123D58",
        "3123D76",
        "3123D7D",
        "3123EFE",
        "3123D64",
        "3123D78",
        "3123D7E",
        "3124E4A"
       ],
       "num_examples_per_domain_per_label": 10000,
       "pickle_path": "/mnt/wd500GB/CSC500/csc500-main/datasets/oracle.Run1_10kExamples_stratified_ds.2022A.pkl",
       "source_or_target_dataset": "target",
       "x_transforms": []
      },
      {
       "domain_prefix": "ORACLE.run2_",
       "domains": [
        32,
        38,
        8,
        44,
        14,
        50,
        20,
        26
       ],
       "episode_transforms": [],
       "labels": [
        "3123D52",
        "3123D65",
        "3123D79",
        "3123D80",
        "3123D54",
        "3123D70",
        "3123D7B",
        "3123D89",
        "3123D58",
        "3123D76",
        "3123D7D",
        "3123EFE",
        "3123D64",
        "3123D78",
        "3123D7E",
        "3124E4A"
       ],
       "num_examples_per_domain_per_label": 10000,
       "pickle_path": "/mnt/wd500GB/CSC500/csc500-main/datasets/oracle.Run2_10kExamples_stratified_ds.2022A.pkl",
       "source_or_target_dataset": "source",
       "x_transforms": []
      }
     ],
     "device": "cuda",
     "experiment_name": "tl_1_oracle.run1-oracle.run2",
     "lr": 0.001,
     "n_epoch": 50,
     "n_query": 2,
     "n_shot": 3,
     "n_way": 16,
     "patience": 3,
     "seed": 1337,
     "test_k_factor": 2,
     "torch_default_dtype": "torch.float32",
     "train_k_factor": 3,
     "val_k_factor": 2,
     "x_net": [
      {
       "class": "nnReshape",
       "kargs": {
        "shape": [
         -1,
         1,
         2,
         256
        ]
       }
      },
      {
       "class": "Conv2d",
       "kargs": {
        "bias": false,
        "in_channels": 1,
        "kernel_size": [
         1,
         7
        ],
        "out_channels": 256,
        "padding": [
         0,
         3
        ]
       }
      },
      {
       "class": "ReLU",
       "kargs": {
        "inplace": true
       }
      },
      {
       "class": "BatchNorm2d",
       "kargs": {
        "num_features": 256
       }
      },
      {
       "class": "Conv2d",
       "kargs": {
        "bias": true,
        "in_channels": 256,
        "kernel_size": [
         2,
         7
        ],
        "out_channels": 80,
        "padding": [
         0,
         3
        ]
       }
      },
      {
       "class": "ReLU",
       "kargs": {
        "inplace": true
       }
      },
      {
       "class": "BatchNorm2d",
       "kargs": {
        "num_features": 80
       }
      },
      {
       "class": "Flatten",
       "kargs": {}
      },
      {
       "class": "Linear",
       "kargs": {
        "in_features": 20480,
        "out_features": 256
       }
      },
      {
       "class": "ReLU",
       "kargs": {
        "inplace": true
       }
      },
      {
       "class": "BatchNorm1d",
       "kargs": {
        "num_features": 256
       }
      },
      {
       "class": "Linear",
       "kargs": {
        "in_features": 256,
        "out_features": 256
       }
      }
     ]
    }
   },
   "start_time": "2022-03-10T18:45:42.090810",
   "version": "2.3.4"
  }
 },
 "nbformat": 4,
 "nbformat_minor": 5
}