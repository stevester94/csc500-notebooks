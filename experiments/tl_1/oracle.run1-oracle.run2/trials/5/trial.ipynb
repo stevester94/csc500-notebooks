{
 "cells": [
  {
   "cell_type": "markdown",
   "id": "9fea5f46",
   "metadata": {
    "papermill": {
     "duration": 0.017523,
     "end_time": "2022-03-07T05:58:40.684511",
     "exception": false,
     "start_time": "2022-03-07T05:58:40.666988",
     "status": "completed"
    },
    "tags": []
   },
   "source": [
    "# Transfer Learning Template"
   ]
  },
  {
   "cell_type": "code",
   "execution_count": 1,
   "id": "0902182a",
   "metadata": {
    "execution": {
     "iopub.execute_input": "2022-03-07T05:58:40.721386Z",
     "iopub.status.busy": "2022-03-07T05:58:40.721009Z",
     "iopub.status.idle": "2022-03-07T05:58:41.460469Z",
     "shell.execute_reply": "2022-03-07T05:58:41.459932Z"
    },
    "papermill": {
     "duration": 0.76373,
     "end_time": "2022-03-07T05:58:41.460575",
     "exception": false,
     "start_time": "2022-03-07T05:58:40.696845",
     "status": "completed"
    },
    "tags": []
   },
   "outputs": [],
   "source": [
    "%load_ext autoreload\n",
    "%autoreload 2\n",
    "%matplotlib inline\n",
    "\n",
    "    \n",
    "import os, json, sys, time, random\n",
    "import numpy as np\n",
    "import torch\n",
    "from torch.optim import Adam\n",
    "from  easydict import EasyDict\n",
    "import matplotlib.pyplot as plt\n",
    "\n",
    "from steves_models.steves_ptn import Steves_Prototypical_Network\n",
    "\n",
    "from steves_utils.lazy_iterable_wrapper import Lazy_Iterable_Wrapper\n",
    "from steves_utils.iterable_aggregator import Iterable_Aggregator\n",
    "from steves_utils.ptn_train_eval_test_jig import  PTN_Train_Eval_Test_Jig\n",
    "from steves_utils.torch_sequential_builder import build_sequential\n",
    "from steves_utils.torch_utils import get_dataset_metrics, ptn_confusion_by_domain_over_dataloader\n",
    "from steves_utils.utils_v2 import (per_domain_accuracy_from_confusion, get_datasets_base_path)\n",
    "from steves_utils.PTN.utils import independent_accuracy_assesment\n",
    "\n",
    "from torch.utils.data import DataLoader\n",
    "\n",
    "from steves_utils.stratified_dataset.episodic_accessor import Episodic_Accessor_Factory\n",
    "\n",
    "from steves_utils.ptn_do_report import (\n",
    "    get_loss_curve,\n",
    "    get_results_table,\n",
    "    get_parameters_table,\n",
    "    get_domain_accuracies,\n",
    ")\n",
    "\n",
    "from steves_utils.transforms import get_chained_transform"
   ]
  },
  {
   "cell_type": "markdown",
   "id": "41c840b4",
   "metadata": {
    "papermill": {
     "duration": 0.01274,
     "end_time": "2022-03-07T05:58:41.489709",
     "exception": false,
     "start_time": "2022-03-07T05:58:41.476969",
     "status": "completed"
    },
    "tags": []
   },
   "source": [
    "# Allowed Parameters\n",
    "These are allowed parameters, not defaults\n",
    "Each of these values need to be present in the injected parameters (the notebook will raise an exception if they are not present)\n",
    "\n",
    "Papermill uses the cell tag \"parameters\" to inject the real parameters below this cell.\n",
    "Enable tags to see what I mean"
   ]
  },
  {
   "cell_type": "code",
   "execution_count": 2,
   "id": "fd44eb83",
   "metadata": {
    "execution": {
     "iopub.execute_input": "2022-03-07T05:58:41.518911Z",
     "iopub.status.busy": "2022-03-07T05:58:41.518638Z",
     "iopub.status.idle": "2022-03-07T05:58:41.531472Z",
     "shell.execute_reply": "2022-03-07T05:58:41.531217Z"
    },
    "papermill": {
     "duration": 0.028978,
     "end_time": "2022-03-07T05:58:41.531520",
     "exception": false,
     "start_time": "2022-03-07T05:58:41.502542",
     "status": "completed"
    },
    "tags": []
   },
   "outputs": [],
   "source": [
    "required_parameters = {\n",
    "    \"experiment_name\",\n",
    "    \"lr\",\n",
    "    \"device\",\n",
    "    \"seed\",\n",
    "    \"dataset_seed\",\n",
    "    \"n_shot\",\n",
    "    \"n_query\",\n",
    "    \"n_way\",\n",
    "    \"train_k_factor\",\n",
    "    \"val_k_factor\",\n",
    "    \"test_k_factor\",\n",
    "    \"n_epoch\",\n",
    "    \"patience\",\n",
    "    \"criteria_for_best\",\n",
    "    \"x_net\",\n",
    "    \"datasets\",\n",
    "    \"torch_default_dtype\",\n",
    "    \"NUM_LOGS_PER_EPOCH\",\n",
    "    \"BEST_MODEL_PATH\",\n",
    "}"
   ]
  },
  {
   "cell_type": "code",
   "execution_count": 3,
   "id": "fa3f0049",
   "metadata": {
    "execution": {
     "iopub.execute_input": "2022-03-07T05:58:41.572171Z",
     "iopub.status.busy": "2022-03-07T05:58:41.571896Z",
     "iopub.status.idle": "2022-03-07T05:58:41.585683Z",
     "shell.execute_reply": "2022-03-07T05:58:41.585314Z"
    },
    "papermill": {
     "duration": 0.034844,
     "end_time": "2022-03-07T05:58:41.585773",
     "exception": false,
     "start_time": "2022-03-07T05:58:41.550929",
     "status": "completed"
    },
    "tags": [
     "parameters"
    ]
   },
   "outputs": [],
   "source": [
    "from steves_utils.CORES.utils import (\n",
    "    ALL_NODES,\n",
    "    ALL_NODES_MINIMUM_1000_EXAMPLES,\n",
    "    ALL_DAYS\n",
    ")\n",
    "\n",
    "from steves_utils.ORACLE.utils_v2 import (\n",
    "    ALL_DISTANCES_FEET_NARROWED,\n",
    "    ALL_RUNS,\n",
    "    ALL_SERIAL_NUMBERS,\n",
    ")\n",
    "\n",
    "standalone_parameters = {}\n",
    "standalone_parameters[\"experiment_name\"] = \"STANDALONE PTN\"\n",
    "standalone_parameters[\"lr\"] = 0.001\n",
    "standalone_parameters[\"device\"] = \"cuda\"\n",
    "\n",
    "standalone_parameters[\"seed\"] = 1337\n",
    "standalone_parameters[\"dataset_seed\"] = 1337\n",
    "\n",
    "standalone_parameters[\"n_way\"] = 8\n",
    "standalone_parameters[\"n_shot\"] = 3\n",
    "standalone_parameters[\"n_query\"]  = 2\n",
    "standalone_parameters[\"train_k_factor\"] = 1\n",
    "standalone_parameters[\"val_k_factor\"] = 2\n",
    "standalone_parameters[\"test_k_factor\"] = 2\n",
    "\n",
    "\n",
    "standalone_parameters[\"n_epoch\"] = 50\n",
    "\n",
    "standalone_parameters[\"patience\"] = 10\n",
    "standalone_parameters[\"criteria_for_best\"] = \"source_loss\"\n",
    "\n",
    "standalone_parameters[\"datasets\"] = [\n",
    "    {\n",
    "        \"labels\": ALL_SERIAL_NUMBERS,\n",
    "        \"domains\": ALL_DISTANCES_FEET_NARROWED,\n",
    "        \"num_examples_per_domain_per_label\": 100,\n",
    "        \"pickle_path\": os.path.join(get_datasets_base_path(), \"oracle.Run1_framed_2000Examples_stratified_ds.2022A.pkl\"),\n",
    "        \"source_or_target_dataset\": \"source\",\n",
    "        \"x_transforms\": [\"unit_mag\", \"minus_two\"],\n",
    "        \"episode_transforms\": [],\n",
    "        \"domain_prefix\": \"ORACLE_\"\n",
    "    },\n",
    "    {\n",
    "        \"labels\": ALL_NODES,\n",
    "        \"domains\": ALL_DAYS,\n",
    "        \"num_examples_per_domain_per_label\": 100,\n",
    "        \"pickle_path\": os.path.join(get_datasets_base_path(), \"cores.stratified_ds.2022A.pkl\"),\n",
    "        \"source_or_target_dataset\": \"target\",\n",
    "        \"x_transforms\": [\"unit_power\", \"times_zero\"],\n",
    "        \"episode_transforms\": [],\n",
    "        \"domain_prefix\": \"CORES_\"\n",
    "    }   \n",
    "]\n",
    "\n",
    "standalone_parameters[\"torch_default_dtype\"] = \"torch.float32\" \n",
    "\n",
    "\n",
    "\n",
    "standalone_parameters[\"x_net\"] =     [\n",
    "    {\"class\": \"nnReshape\", \"kargs\": {\"shape\":[-1, 1, 2, 256]}},\n",
    "    {\"class\": \"Conv2d\", \"kargs\": { \"in_channels\":1, \"out_channels\":256, \"kernel_size\":(1,7), \"bias\":False, \"padding\":(0,3), },},\n",
    "    {\"class\": \"ReLU\", \"kargs\": {\"inplace\": True}},\n",
    "    {\"class\": \"BatchNorm2d\", \"kargs\": {\"num_features\":256}},\n",
    "\n",
    "    {\"class\": \"Conv2d\", \"kargs\": { \"in_channels\":256, \"out_channels\":80, \"kernel_size\":(2,7), \"bias\":True, \"padding\":(0,3), },},\n",
    "    {\"class\": \"ReLU\", \"kargs\": {\"inplace\": True}},\n",
    "    {\"class\": \"BatchNorm2d\", \"kargs\": {\"num_features\":80}},\n",
    "    {\"class\": \"Flatten\", \"kargs\": {}},\n",
    "\n",
    "    {\"class\": \"Linear\", \"kargs\": {\"in_features\": 80*256, \"out_features\": 256}}, # 80 units per IQ pair\n",
    "    {\"class\": \"ReLU\", \"kargs\": {\"inplace\": True}},\n",
    "    {\"class\": \"BatchNorm1d\", \"kargs\": {\"num_features\":256}},\n",
    "\n",
    "    {\"class\": \"Linear\", \"kargs\": {\"in_features\": 256, \"out_features\": 256}},\n",
    "]\n",
    "\n",
    "# Parameters relevant to results\n",
    "# These parameters will basically never need to change\n",
    "standalone_parameters[\"NUM_LOGS_PER_EPOCH\"] = 10\n",
    "standalone_parameters[\"BEST_MODEL_PATH\"] = \"./best_model.pth\"\n",
    "\n",
    "\n",
    "\n",
    "\n"
   ]
  },
  {
   "cell_type": "code",
   "execution_count": 4,
   "id": "44094b8d",
   "metadata": {
    "execution": {
     "iopub.execute_input": "2022-03-07T05:58:41.625196Z",
     "iopub.status.busy": "2022-03-07T05:58:41.618114Z",
     "iopub.status.idle": "2022-03-07T05:58:41.636263Z",
     "shell.execute_reply": "2022-03-07T05:58:41.636612Z"
    },
    "papermill": {
     "duration": 0.033328,
     "end_time": "2022-03-07T05:58:41.636716",
     "exception": false,
     "start_time": "2022-03-07T05:58:41.603388",
     "status": "completed"
    },
    "tags": [
     "injected-parameters"
    ]
   },
   "outputs": [],
   "source": [
    "# Parameters\n",
    "parameters = {\n",
    "    \"experiment_name\": \"tl_1_oracle.run1-oracle.run2\",\n",
    "    \"device\": \"cuda\",\n",
    "    \"lr\": 0.001,\n",
    "    \"seed\": 1337,\n",
    "    \"dataset_seed\": 1337,\n",
    "    \"n_shot\": 3,\n",
    "    \"n_query\": 2,\n",
    "    \"train_k_factor\": 3,\n",
    "    \"val_k_factor\": 2,\n",
    "    \"test_k_factor\": 2,\n",
    "    \"torch_default_dtype\": \"torch.float32\",\n",
    "    \"n_epoch\": 50,\n",
    "    \"patience\": 3,\n",
    "    \"criteria_for_best\": \"target_loss\",\n",
    "    \"x_net\": [\n",
    "        {\"class\": \"nnReshape\", \"kargs\": {\"shape\": [-1, 1, 2, 256]}},\n",
    "        {\n",
    "            \"class\": \"Conv2d\",\n",
    "            \"kargs\": {\n",
    "                \"in_channels\": 1,\n",
    "                \"out_channels\": 256,\n",
    "                \"kernel_size\": [1, 7],\n",
    "                \"bias\": False,\n",
    "                \"padding\": [0, 3],\n",
    "            },\n",
    "        },\n",
    "        {\"class\": \"ReLU\", \"kargs\": {\"inplace\": True}},\n",
    "        {\"class\": \"BatchNorm2d\", \"kargs\": {\"num_features\": 256}},\n",
    "        {\n",
    "            \"class\": \"Conv2d\",\n",
    "            \"kargs\": {\n",
    "                \"in_channels\": 256,\n",
    "                \"out_channels\": 80,\n",
    "                \"kernel_size\": [2, 7],\n",
    "                \"bias\": True,\n",
    "                \"padding\": [0, 3],\n",
    "            },\n",
    "        },\n",
    "        {\"class\": \"ReLU\", \"kargs\": {\"inplace\": True}},\n",
    "        {\"class\": \"BatchNorm2d\", \"kargs\": {\"num_features\": 80}},\n",
    "        {\"class\": \"Flatten\", \"kargs\": {}},\n",
    "        {\"class\": \"Linear\", \"kargs\": {\"in_features\": 20480, \"out_features\": 256}},\n",
    "        {\"class\": \"ReLU\", \"kargs\": {\"inplace\": True}},\n",
    "        {\"class\": \"BatchNorm1d\", \"kargs\": {\"num_features\": 256}},\n",
    "        {\"class\": \"Linear\", \"kargs\": {\"in_features\": 256, \"out_features\": 256}},\n",
    "    ],\n",
    "    \"NUM_LOGS_PER_EPOCH\": 10,\n",
    "    \"BEST_MODEL_PATH\": \"./best_model.pth\",\n",
    "    \"n_way\": 16,\n",
    "    \"datasets\": [\n",
    "        {\n",
    "            \"labels\": [\n",
    "                \"3123D52\",\n",
    "                \"3123D65\",\n",
    "                \"3123D79\",\n",
    "                \"3123D80\",\n",
    "                \"3123D54\",\n",
    "                \"3123D70\",\n",
    "                \"3123D7B\",\n",
    "                \"3123D89\",\n",
    "                \"3123D58\",\n",
    "                \"3123D76\",\n",
    "                \"3123D7D\",\n",
    "                \"3123EFE\",\n",
    "                \"3123D64\",\n",
    "                \"3123D78\",\n",
    "                \"3123D7E\",\n",
    "                \"3124E4A\",\n",
    "            ],\n",
    "            \"domains\": [32, 38, 8, 44, 14, 50, 20, 26],\n",
    "            \"num_examples_per_domain_per_label\": 2000,\n",
    "            \"pickle_path\": \"/mnt/wd500GB/CSC500/csc500-main/datasets/oracle.Run1_framed_2000Examples_stratified_ds.2022A.pkl\",\n",
    "            \"source_or_target_dataset\": \"target\",\n",
    "            \"x_transforms\": [],\n",
    "            \"episode_transforms\": [],\n",
    "            \"domain_prefix\": \"ORACLE.run1_\",\n",
    "        },\n",
    "        {\n",
    "            \"labels\": [\n",
    "                \"3123D52\",\n",
    "                \"3123D65\",\n",
    "                \"3123D79\",\n",
    "                \"3123D80\",\n",
    "                \"3123D54\",\n",
    "                \"3123D70\",\n",
    "                \"3123D7B\",\n",
    "                \"3123D89\",\n",
    "                \"3123D58\",\n",
    "                \"3123D76\",\n",
    "                \"3123D7D\",\n",
    "                \"3123EFE\",\n",
    "                \"3123D64\",\n",
    "                \"3123D78\",\n",
    "                \"3123D7E\",\n",
    "                \"3124E4A\",\n",
    "            ],\n",
    "            \"domains\": [32, 38, 8, 44, 14, 50, 20, 26],\n",
    "            \"num_examples_per_domain_per_label\": 2000,\n",
    "            \"pickle_path\": \"/mnt/wd500GB/CSC500/csc500-main/datasets/oracle.Run2_framed_2000Examples_stratified_ds.2022A.pkl\",\n",
    "            \"source_or_target_dataset\": \"source\",\n",
    "            \"x_transforms\": [],\n",
    "            \"episode_transforms\": [],\n",
    "            \"domain_prefix\": \"ORACLE.run2_\",\n",
    "        },\n",
    "    ],\n",
    "}\n"
   ]
  },
  {
   "cell_type": "code",
   "execution_count": 5,
   "id": "8fa1cc33",
   "metadata": {
    "execution": {
     "iopub.execute_input": "2022-03-07T05:58:41.695267Z",
     "iopub.status.busy": "2022-03-07T05:58:41.695013Z",
     "iopub.status.idle": "2022-03-07T05:58:41.708206Z",
     "shell.execute_reply": "2022-03-07T05:58:41.707816Z"
    },
    "papermill": {
     "duration": 0.053512,
     "end_time": "2022-03-07T05:58:41.708298",
     "exception": false,
     "start_time": "2022-03-07T05:58:41.654786",
     "status": "completed"
    },
    "tags": []
   },
   "outputs": [],
   "source": [
    "# Set this to True if you want to run this template directly\n",
    "STANDALONE = False\n",
    "if STANDALONE:\n",
    "    print(\"parameters not injected, running with standalone_parameters\")\n",
    "    parameters = standalone_parameters\n",
    "\n",
    "if not 'parameters' in locals() and not 'parameters' in globals():\n",
    "    raise Exception(\"Parameter injection failed\")\n",
    "\n",
    "#Use an easy dict for all the parameters\n",
    "p = EasyDict(parameters)\n",
    "\n",
    "supplied_keys = set(p.keys())\n",
    "\n",
    "if  supplied_keys != required_parameters:\n",
    "    print(\"Parameters are incorrect\")\n",
    "    if len(supplied_keys - required_parameters)>0: print(\"Shouldn't have:\", str(supplied_keys - required_parameters))\n",
    "    if len(required_parameters - supplied_keys)>0: print(\"Need to have:\", str(required_parameters - supplied_keys))\n",
    "    raise RuntimeError(\"Parameters are incorrect\")\n",
    "\n"
   ]
  },
  {
   "cell_type": "code",
   "execution_count": 6,
   "id": "3a028d58",
   "metadata": {
    "execution": {
     "iopub.execute_input": "2022-03-07T05:58:41.742768Z",
     "iopub.status.busy": "2022-03-07T05:58:41.742491Z",
     "iopub.status.idle": "2022-03-07T05:58:41.755412Z",
     "shell.execute_reply": "2022-03-07T05:58:41.755194Z"
    },
    "papermill": {
     "duration": 0.028613,
     "end_time": "2022-03-07T05:58:41.755461",
     "exception": false,
     "start_time": "2022-03-07T05:58:41.726848",
     "status": "completed"
    },
    "tags": []
   },
   "outputs": [],
   "source": [
    "###################################\n",
    "# Set the RNGs and make it all deterministic\n",
    "###################################\n",
    "np.random.seed(p.seed)\n",
    "random.seed(p.seed)\n",
    "torch.manual_seed(p.seed)\n",
    "\n",
    "torch.use_deterministic_algorithms(True) "
   ]
  },
  {
   "cell_type": "code",
   "execution_count": 7,
   "id": "b691acf6",
   "metadata": {
    "execution": {
     "iopub.execute_input": "2022-03-07T05:58:41.790112Z",
     "iopub.status.busy": "2022-03-07T05:58:41.789861Z",
     "iopub.status.idle": "2022-03-07T05:58:41.801117Z",
     "shell.execute_reply": "2022-03-07T05:58:41.800759Z"
    },
    "papermill": {
     "duration": 0.026852,
     "end_time": "2022-03-07T05:58:41.801188",
     "exception": false,
     "start_time": "2022-03-07T05:58:41.774336",
     "status": "completed"
    },
    "tags": []
   },
   "outputs": [],
   "source": [
    "###########################################\n",
    "# The stratified datasets honor this\n",
    "###########################################\n",
    "torch.set_default_dtype(eval(p.torch_default_dtype))"
   ]
  },
  {
   "cell_type": "code",
   "execution_count": 8,
   "id": "b5fba671",
   "metadata": {
    "execution": {
     "iopub.execute_input": "2022-03-07T05:58:41.835270Z",
     "iopub.status.busy": "2022-03-07T05:58:41.835017Z",
     "iopub.status.idle": "2022-03-07T05:58:41.872594Z",
     "shell.execute_reply": "2022-03-07T05:58:41.872944Z"
    },
    "papermill": {
     "duration": 0.05406,
     "end_time": "2022-03-07T05:58:41.873050",
     "exception": false,
     "start_time": "2022-03-07T05:58:41.818990",
     "status": "completed"
    },
    "tags": []
   },
   "outputs": [],
   "source": [
    "###################################\n",
    "# Build the network(s)\n",
    "# Note: It's critical to do this AFTER setting the RNG\n",
    "###################################\n",
    "x_net = build_sequential(p.x_net)"
   ]
  },
  {
   "cell_type": "code",
   "execution_count": 9,
   "id": "5d7e61cc",
   "metadata": {
    "execution": {
     "iopub.execute_input": "2022-03-07T05:58:41.907530Z",
     "iopub.status.busy": "2022-03-07T05:58:41.907281Z",
     "iopub.status.idle": "2022-03-07T05:58:41.917360Z",
     "shell.execute_reply": "2022-03-07T05:58:41.917029Z"
    },
    "papermill": {
     "duration": 0.02567,
     "end_time": "2022-03-07T05:58:41.917430",
     "exception": false,
     "start_time": "2022-03-07T05:58:41.891760",
     "status": "completed"
    },
    "tags": []
   },
   "outputs": [],
   "source": [
    "start_time_secs = time.time()"
   ]
  },
  {
   "cell_type": "code",
   "execution_count": 10,
   "id": "c6b67dfd",
   "metadata": {
    "execution": {
     "iopub.execute_input": "2022-03-07T05:58:41.951431Z",
     "iopub.status.busy": "2022-03-07T05:58:41.951181Z",
     "iopub.status.idle": "2022-03-07T05:58:41.959509Z",
     "shell.execute_reply": "2022-03-07T05:58:41.959254Z"
    },
    "papermill": {
     "duration": 0.024192,
     "end_time": "2022-03-07T05:58:41.959558",
     "exception": false,
     "start_time": "2022-03-07T05:58:41.935366",
     "status": "completed"
    },
    "tags": []
   },
   "outputs": [],
   "source": [
    "p.domains_source = []\n",
    "p.domains_target = []\n",
    "\n",
    "\n",
    "train_original_source = []\n",
    "val_original_source   = []\n",
    "test_original_source  = []\n",
    "\n",
    "train_original_target = []\n",
    "val_original_target   = []\n",
    "test_original_target  = []"
   ]
  },
  {
   "cell_type": "code",
   "execution_count": 11,
   "id": "e3d9c3d3",
   "metadata": {
    "execution": {
     "iopub.execute_input": "2022-03-07T05:58:41.991455Z",
     "iopub.status.busy": "2022-03-07T05:58:41.991203Z",
     "iopub.status.idle": "2022-03-07T05:58:41.999541Z",
     "shell.execute_reply": "2022-03-07T05:58:41.999281Z"
    },
    "papermill": {
     "duration": 0.023698,
     "end_time": "2022-03-07T05:58:41.999591",
     "exception": false,
     "start_time": "2022-03-07T05:58:41.975893",
     "status": "completed"
    },
    "tags": []
   },
   "outputs": [],
   "source": [
    "# global_x_transform_func = lambda x: normalize(x.to(torch.get_default_dtype()), \"unit_power\") # unit_power, unit_mag\n",
    "# global_x_transform_func = lambda x: normalize(x, \"unit_power\") # unit_power, unit_mag"
   ]
  },
  {
   "cell_type": "code",
   "execution_count": 12,
   "id": "acb78fd2",
   "metadata": {
    "execution": {
     "iopub.execute_input": "2022-03-07T05:58:42.036766Z",
     "iopub.status.busy": "2022-03-07T05:58:42.031204Z",
     "iopub.status.idle": "2022-03-07T05:58:42.047634Z",
     "shell.execute_reply": "2022-03-07T05:58:42.047242Z"
    },
    "papermill": {
     "duration": 0.031756,
     "end_time": "2022-03-07T05:58:42.047722",
     "exception": false,
     "start_time": "2022-03-07T05:58:42.015966",
     "status": "completed"
    },
    "tags": []
   },
   "outputs": [],
   "source": [
    "def add_dataset(\n",
    "    labels,\n",
    "    domains,\n",
    "    pickle_path,\n",
    "    x_transforms,\n",
    "    episode_transforms,\n",
    "    domain_prefix,\n",
    "    num_examples_per_domain_per_label,\n",
    "    source_or_target_dataset:str,\n",
    "    iterator_seed=p.seed,\n",
    "    dataset_seed=p.dataset_seed,\n",
    "    n_shot=p.n_shot,\n",
    "    n_way=p.n_way,\n",
    "    n_query=p.n_query,\n",
    "    train_val_test_k_factors=(p.train_k_factor,p.val_k_factor,p.test_k_factor),\n",
    "):\n",
    "   \n",
    "    if x_transforms == []: x_transform = None\n",
    "    else: x_transform = get_chained_transform(x_transforms)\n",
    "    \n",
    "    if episode_transforms == []: episode_transform = None\n",
    "    else: raise Exception(\"episode_transforms not implemented\")\n",
    "    \n",
    "    episode_transform = lambda tup, _prefix=domain_prefix: (_prefix + str(tup[0]), tup[1])\n",
    "\n",
    "\n",
    "    eaf = Episodic_Accessor_Factory(\n",
    "        labels=labels,\n",
    "        domains=domains,\n",
    "        num_examples_per_domain_per_label=num_examples_per_domain_per_label,\n",
    "        iterator_seed=iterator_seed,\n",
    "        dataset_seed=dataset_seed,\n",
    "        n_shot=n_shot,\n",
    "        n_way=n_way,\n",
    "        n_query=n_query,\n",
    "        train_val_test_k_factors=train_val_test_k_factors,\n",
    "        pickle_path=pickle_path,\n",
    "        x_transform_func=x_transform,\n",
    "    )\n",
    "\n",
    "    train, val, test = eaf.get_train(), eaf.get_val(), eaf.get_test()\n",
    "    train = Lazy_Iterable_Wrapper(train, episode_transform)\n",
    "    val = Lazy_Iterable_Wrapper(val, episode_transform)\n",
    "    test = Lazy_Iterable_Wrapper(test, episode_transform)\n",
    "\n",
    "    if source_or_target_dataset==\"source\":\n",
    "        train_original_source.append(train)\n",
    "        val_original_source.append(val)\n",
    "        test_original_source.append(test)\n",
    "\n",
    "        p.domains_source.extend(\n",
    "            [domain_prefix + str(u) for u in domains]\n",
    "        )\n",
    "    elif source_or_target_dataset==\"target\":\n",
    "        train_original_target.append(train)\n",
    "        val_original_target.append(val)\n",
    "        test_original_target.append(test)\n",
    "        p.domains_target.extend(\n",
    "            [domain_prefix + str(u) for u in domains]\n",
    "        )\n",
    "    else:\n",
    "        raise Exception(f\"invalid source_or_target_dataset: {source_or_target_dataset}\")\n",
    "    "
   ]
  },
  {
   "cell_type": "code",
   "execution_count": 13,
   "id": "fe266617",
   "metadata": {
    "execution": {
     "iopub.execute_input": "2022-03-07T05:58:42.081681Z",
     "iopub.status.busy": "2022-03-07T05:58:42.081368Z",
     "iopub.status.idle": "2022-03-07T05:58:44.323833Z",
     "shell.execute_reply": "2022-03-07T05:58:44.323425Z"
    },
    "papermill": {
     "duration": 2.257142,
     "end_time": "2022-03-07T05:58:44.323940",
     "exception": false,
     "start_time": "2022-03-07T05:58:42.066798",
     "status": "completed"
    },
    "tags": []
   },
   "outputs": [],
   "source": [
    "for ds in p.datasets:\n",
    "    add_dataset(**ds)"
   ]
  },
  {
   "cell_type": "code",
   "execution_count": 14,
   "id": "b90d65ac",
   "metadata": {
    "execution": {
     "iopub.execute_input": "2022-03-07T05:58:44.358640Z",
     "iopub.status.busy": "2022-03-07T05:58:44.358389Z",
     "iopub.status.idle": "2022-03-07T05:58:44.370371Z",
     "shell.execute_reply": "2022-03-07T05:58:44.369926Z"
    },
    "papermill": {
     "duration": 0.027493,
     "end_time": "2022-03-07T05:58:44.370461",
     "exception": false,
     "start_time": "2022-03-07T05:58:44.342968",
     "status": "completed"
    },
    "tags": []
   },
   "outputs": [],
   "source": [
    "# from steves_utils.CORES.utils import (\n",
    "#     ALL_NODES,\n",
    "#     ALL_NODES_MINIMUM_1000_EXAMPLES,\n",
    "#     ALL_DAYS\n",
    "# )\n",
    "\n",
    "# add_dataset(\n",
    "#     labels=ALL_NODES,\n",
    "#     domains = ALL_DAYS,\n",
    "#     num_examples_per_domain_per_label=100,\n",
    "#     pickle_path=os.path.join(get_datasets_base_path(), \"cores.stratified_ds.2022A.pkl\"),\n",
    "#     source_or_target_dataset=\"target\",\n",
    "#     x_transform_func=global_x_transform_func,\n",
    "#     domain_modifier=lambda u: f\"cores_{u}\"\n",
    "# )"
   ]
  },
  {
   "cell_type": "code",
   "execution_count": 15,
   "id": "76db484d",
   "metadata": {
    "execution": {
     "iopub.execute_input": "2022-03-07T05:58:44.401307Z",
     "iopub.status.busy": "2022-03-07T05:58:44.401046Z",
     "iopub.status.idle": "2022-03-07T05:58:44.410181Z",
     "shell.execute_reply": "2022-03-07T05:58:44.409825Z"
    },
    "papermill": {
     "duration": 0.024084,
     "end_time": "2022-03-07T05:58:44.410250",
     "exception": false,
     "start_time": "2022-03-07T05:58:44.386166",
     "status": "completed"
    },
    "tags": []
   },
   "outputs": [],
   "source": [
    "# from steves_utils.ORACLE.utils_v2 import (\n",
    "#     ALL_DISTANCES_FEET,\n",
    "#     ALL_RUNS,\n",
    "#     ALL_SERIAL_NUMBERS,\n",
    "# )\n",
    "\n",
    "\n",
    "# add_dataset(\n",
    "#     labels=ALL_SERIAL_NUMBERS,\n",
    "#     domains = list(set(ALL_DISTANCES_FEET) - {2,62}),\n",
    "#     num_examples_per_domain_per_label=100,\n",
    "#     pickle_path=os.path.join(get_datasets_base_path(), \"oracle.Run2_framed_2000Examples_stratified_ds.2022A.pkl\"),\n",
    "#     source_or_target_dataset=\"source\",\n",
    "#     x_transform_func=global_x_transform_func,\n",
    "#     domain_modifier=lambda u: f\"oracle1_{u}\"\n",
    "# )\n"
   ]
  },
  {
   "cell_type": "code",
   "execution_count": 16,
   "id": "97dea9d2",
   "metadata": {
    "execution": {
     "iopub.execute_input": "2022-03-07T05:58:44.443120Z",
     "iopub.status.busy": "2022-03-07T05:58:44.442855Z",
     "iopub.status.idle": "2022-03-07T05:58:44.454504Z",
     "shell.execute_reply": "2022-03-07T05:58:44.454189Z"
    },
    "papermill": {
     "duration": 0.028091,
     "end_time": "2022-03-07T05:58:44.454580",
     "exception": false,
     "start_time": "2022-03-07T05:58:44.426489",
     "status": "completed"
    },
    "tags": []
   },
   "outputs": [],
   "source": [
    "# from steves_utils.ORACLE.utils_v2 import (\n",
    "#     ALL_DISTANCES_FEET,\n",
    "#     ALL_RUNS,\n",
    "#     ALL_SERIAL_NUMBERS,\n",
    "# )\n",
    "\n",
    "\n",
    "# add_dataset(\n",
    "#     labels=ALL_SERIAL_NUMBERS,\n",
    "#     domains = list(set(ALL_DISTANCES_FEET) - {2,62,56}),\n",
    "#     num_examples_per_domain_per_label=100,\n",
    "#     pickle_path=os.path.join(get_datasets_base_path(), \"oracle.Run2_framed_2000Examples_stratified_ds.2022A.pkl\"),\n",
    "#     source_or_target_dataset=\"source\",\n",
    "#     x_transform_func=global_x_transform_func,\n",
    "#     domain_modifier=lambda u: f\"oracle2_{u}\"\n",
    "# )"
   ]
  },
  {
   "cell_type": "code",
   "execution_count": 17,
   "id": "6f289866",
   "metadata": {
    "execution": {
     "iopub.execute_input": "2022-03-07T05:58:44.489972Z",
     "iopub.status.busy": "2022-03-07T05:58:44.489725Z",
     "iopub.status.idle": "2022-03-07T05:58:44.499264Z",
     "shell.execute_reply": "2022-03-07T05:58:44.498925Z"
    },
    "papermill": {
     "duration": 0.024626,
     "end_time": "2022-03-07T05:58:44.499359",
     "exception": false,
     "start_time": "2022-03-07T05:58:44.474733",
     "status": "completed"
    },
    "tags": []
   },
   "outputs": [],
   "source": [
    "# add_dataset(\n",
    "#     labels=list(range(19)),\n",
    "#     domains = [0,1,2],\n",
    "#     num_examples_per_domain_per_label=100,\n",
    "#     pickle_path=os.path.join(get_datasets_base_path(), \"metehan.stratified_ds.2022A.pkl\"),\n",
    "#     source_or_target_dataset=\"target\",\n",
    "#     x_transform_func=global_x_transform_func,\n",
    "#     domain_modifier=lambda u: f\"met_{u}\"\n",
    "# )"
   ]
  },
  {
   "cell_type": "code",
   "execution_count": 18,
   "id": "86a863c3",
   "metadata": {
    "execution": {
     "iopub.execute_input": "2022-03-07T05:58:44.539394Z",
     "iopub.status.busy": "2022-03-07T05:58:44.534818Z",
     "iopub.status.idle": "2022-03-07T05:58:44.548336Z",
     "shell.execute_reply": "2022-03-07T05:58:44.547943Z"
    },
    "papermill": {
     "duration": 0.029971,
     "end_time": "2022-03-07T05:58:44.548436",
     "exception": false,
     "start_time": "2022-03-07T05:58:44.518465",
     "status": "completed"
    },
    "tags": []
   },
   "outputs": [],
   "source": [
    "# # from steves_utils.wisig.utils import (\n",
    "# #     ALL_NODES_MINIMUM_100_EXAMPLES,\n",
    "# #     ALL_NODES_MINIMUM_500_EXAMPLES,\n",
    "# #     ALL_NODES_MINIMUM_1000_EXAMPLES,\n",
    "# #     ALL_DAYS\n",
    "# # )\n",
    "\n",
    "# import steves_utils.wisig.utils as wisig\n",
    "\n",
    "\n",
    "# add_dataset(\n",
    "#     labels=wisig.ALL_NODES_MINIMUM_100_EXAMPLES,\n",
    "#     domains = wisig.ALL_DAYS,\n",
    "#     num_examples_per_domain_per_label=100,\n",
    "#     pickle_path=os.path.join(get_datasets_base_path(), \"wisig.node3-19.stratified_ds.2022A.pkl\"),\n",
    "#     source_or_target_dataset=\"target\",\n",
    "#     x_transform_func=global_x_transform_func,\n",
    "#     domain_modifier=lambda u: f\"wisig_{u}\"\n",
    "# )"
   ]
  },
  {
   "cell_type": "code",
   "execution_count": 19,
   "id": "fd5442bc",
   "metadata": {
    "execution": {
     "iopub.execute_input": "2022-03-07T05:58:44.585583Z",
     "iopub.status.busy": "2022-03-07T05:58:44.585319Z",
     "iopub.status.idle": "2022-03-07T05:58:44.597444Z",
     "shell.execute_reply": "2022-03-07T05:58:44.597031Z"
    },
    "papermill": {
     "duration": 0.029989,
     "end_time": "2022-03-07T05:58:44.597540",
     "exception": false,
     "start_time": "2022-03-07T05:58:44.567551",
     "status": "completed"
    },
    "tags": []
   },
   "outputs": [],
   "source": [
    "###################################\n",
    "# Build the dataset\n",
    "###################################\n",
    "train_original_source = Iterable_Aggregator(train_original_source, p.seed)\n",
    "val_original_source = Iterable_Aggregator(val_original_source, p.seed)\n",
    "test_original_source = Iterable_Aggregator(test_original_source, p.seed)\n",
    "\n",
    "\n",
    "train_original_target = Iterable_Aggregator(train_original_target, p.seed)\n",
    "val_original_target = Iterable_Aggregator(val_original_target, p.seed)\n",
    "test_original_target = Iterable_Aggregator(test_original_target, p.seed)\n",
    "\n",
    "# For CNN We only use X and Y. And we only train on the source.\n",
    "# Properly form the data using a transform lambda and Lazy_Iterable_Wrapper. Finally wrap them in a dataloader\n",
    "\n",
    "transform_lambda = lambda ex: ex[1] # Original is (<domain>, <episode>) so we strip down to episode only\n",
    "\n",
    "train_processed_source = Lazy_Iterable_Wrapper(train_original_source, transform_lambda)\n",
    "val_processed_source   = Lazy_Iterable_Wrapper(val_original_source, transform_lambda)\n",
    "test_processed_source  = Lazy_Iterable_Wrapper(test_original_source, transform_lambda)\n",
    "\n",
    "train_processed_target = Lazy_Iterable_Wrapper(train_original_target, transform_lambda)\n",
    "val_processed_target   = Lazy_Iterable_Wrapper(val_original_target, transform_lambda)\n",
    "test_processed_target  = Lazy_Iterable_Wrapper(test_original_target, transform_lambda)\n",
    "\n",
    "datasets = EasyDict({\n",
    "    \"source\": {\n",
    "        \"original\": {\"train\":train_original_source, \"val\":val_original_source, \"test\":test_original_source},\n",
    "        \"processed\": {\"train\":train_processed_source, \"val\":val_processed_source, \"test\":test_processed_source}\n",
    "    },\n",
    "    \"target\": {\n",
    "        \"original\": {\"train\":train_original_target, \"val\":val_original_target, \"test\":test_original_target},\n",
    "        \"processed\": {\"train\":train_processed_target, \"val\":val_processed_target, \"test\":test_processed_target}\n",
    "    },\n",
    "})"
   ]
  },
  {
   "cell_type": "code",
   "execution_count": 20,
   "id": "5b3c01fc",
   "metadata": {
    "execution": {
     "iopub.execute_input": "2022-03-07T05:58:44.635229Z",
     "iopub.status.busy": "2022-03-07T05:58:44.633234Z",
     "iopub.status.idle": "2022-03-07T05:58:50.977790Z",
     "shell.execute_reply": "2022-03-07T05:58:50.978247Z"
    },
    "papermill": {
     "duration": 6.362013,
     "end_time": "2022-03-07T05:58:50.978358",
     "exception": false,
     "start_time": "2022-03-07T05:58:44.616345",
     "status": "completed"
    },
    "tags": []
   },
   "outputs": [
    {
     "name": "stdout",
     "output_type": "stream",
     "text": [
      "{'ORACLE.run2_26', 'ORACLE.run2_32', 'ORACLE.run2_14', 'ORACLE.run2_38', 'ORACLE.run2_44', 'ORACLE.run2_50', 'ORACLE.run2_20', 'ORACLE.run2_8'}\n"
     ]
    },
    {
     "name": "stdout",
     "output_type": "stream",
     "text": [
      "{'ORACLE.run1_26', 'ORACLE.run1_20', 'ORACLE.run1_44', 'ORACLE.run1_32', 'ORACLE.run1_38', 'ORACLE.run1_14', 'ORACLE.run1_50', 'ORACLE.run1_8'}\n"
     ]
    },
    {
     "name": "stdout",
     "output_type": "stream",
     "text": [
      "tensor([[[ 0.0030,  0.0003, -0.0034,  ...,  0.0009,  0.0046,  0.0005],\n",
      "         [ 0.0013,  0.0038, -0.0016,  ..., -0.0031, -0.0002, -0.0034]],\n",
      "\n",
      "        [[ 0.0032,  0.0012, -0.0037,  ..., -0.0008,  0.0040, -0.0012],\n",
      "         [ 0.0002,  0.0033, -0.0003,  ..., -0.0040, -0.0022, -0.0033]],\n",
      "\n",
      "        [[ 0.0007,  0.0036, -0.0019,  ..., -0.0040,  0.0024,  0.0007],\n",
      "         [-0.0018,  0.0013,  0.0023,  ..., -0.0017, -0.0035, -0.0030]],\n",
      "\n",
      "        ...,\n",
      "\n",
      "        [[ 0.0002, -0.0060,  0.0011,  ...,  0.0057, -0.0016,  0.0004],\n",
      "         [ 0.0031, -0.0003, -0.0038,  ...,  0.0000,  0.0061,  0.0048]],\n",
      "\n",
      "        [[ 0.0035, -0.0027, -0.0044,  ...,  0.0052,  0.0043, -0.0018],\n",
      "         [ 0.0045,  0.0021, -0.0048,  ..., -0.0026, -0.0018, -0.0061]],\n",
      "\n",
      "        [[ 0.0018, -0.0033, -0.0020,  ...,  0.0052,  0.0054,  0.0034],\n",
      "         [ 0.0051,  0.0024, -0.0060,  ..., -0.0015,  0.0033, -0.0051]]])\n"
     ]
    }
   ],
   "source": [
    "from steves_utils.transforms import get_average_magnitude, get_average_power\n",
    "\n",
    "print(set([u for u,_ in val_original_source]))\n",
    "print(set([u for u,_ in val_original_target]))\n",
    "\n",
    "s_x, s_y, q_x, q_y, _ = next(iter(train_processed_source))\n",
    "print(s_x)\n",
    "\n",
    "# for ds in [\n",
    "#     train_processed_source,\n",
    "#     val_processed_source,\n",
    "#     test_processed_source,\n",
    "#     train_processed_target,\n",
    "#     val_processed_target,\n",
    "#     test_processed_target\n",
    "# ]:\n",
    "#     for s_x, s_y, q_x, q_y, _ in ds:\n",
    "#         for X in (s_x, q_x):\n",
    "#             for x in X:\n",
    "#                 assert np.isclose(get_average_magnitude(x.numpy()), 1.0)\n",
    "#                 assert np.isclose(get_average_power(x.numpy()), 1.0)\n",
    "                "
   ]
  },
  {
   "cell_type": "code",
   "execution_count": 21,
   "id": "bbdacba1",
   "metadata": {
    "execution": {
     "iopub.execute_input": "2022-03-07T05:58:51.017863Z",
     "iopub.status.busy": "2022-03-07T05:58:51.017601Z",
     "iopub.status.idle": "2022-03-07T05:58:51.073406Z",
     "shell.execute_reply": "2022-03-07T05:58:51.073761Z"
    },
    "papermill": {
     "duration": 0.074307,
     "end_time": "2022-03-07T05:58:51.073879",
     "exception": false,
     "start_time": "2022-03-07T05:58:50.999572",
     "status": "completed"
    },
    "tags": []
   },
   "outputs": [
    {
     "name": "stdout",
     "output_type": "stream",
     "text": [
      "(2, 256)\n"
     ]
    }
   ],
   "source": [
    "###################################\n",
    "# Build the model\n",
    "###################################\n",
    "model = Steves_Prototypical_Network(x_net, device=p.device, x_shape=(2,256))\n",
    "optimizer = Adam(params=model.parameters(), lr=p.lr)"
   ]
  },
  {
   "cell_type": "code",
   "execution_count": 22,
   "id": "22b39ac5",
   "metadata": {
    "execution": {
     "iopub.execute_input": "2022-03-07T05:58:51.112118Z",
     "iopub.status.busy": "2022-03-07T05:58:51.111865Z",
     "iopub.status.idle": "2022-03-07T06:39:24.772345Z",
     "shell.execute_reply": "2022-03-07T06:39:24.772113Z"
    },
    "papermill": {
     "duration": 2433.677443,
     "end_time": "2022-03-07T06:39:24.772404",
     "exception": false,
     "start_time": "2022-03-07T05:58:51.094961",
     "status": "completed"
    },
    "tags": []
   },
   "outputs": [
    {
     "name": "stdout",
     "output_type": "stream",
     "text": [
      "epoch: 1, [batch: 1 / 6720], examples_per_second: 47.4633, train_label_loss: 2.5714, \n"
     ]
    },
    {
     "name": "stdout",
     "output_type": "stream",
     "text": [
      "epoch: 1, [batch: 672 / 6720], examples_per_second: 3150.1059, train_label_loss: 0.2478, \n"
     ]
    },
    {
     "name": "stdout",
     "output_type": "stream",
     "text": [
      "epoch: 1, [batch: 1344 / 6720], examples_per_second: 3143.8625, train_label_loss: 0.2112, \n"
     ]
    },
    {
     "name": "stdout",
     "output_type": "stream",
     "text": [
      "epoch: 1, [batch: 2016 / 6720], examples_per_second: 3122.6473, train_label_loss: 0.2364, \n"
     ]
    },
    {
     "name": "stdout",
     "output_type": "stream",
     "text": [
      "epoch: 1, [batch: 2688 / 6720], examples_per_second: 3106.5601, train_label_loss: 0.3510, \n"
     ]
    },
    {
     "name": "stdout",
     "output_type": "stream",
     "text": [
      "epoch: 1, [batch: 3360 / 6720], examples_per_second: 3124.5334, train_label_loss: 0.2478, \n"
     ]
    },
    {
     "name": "stdout",
     "output_type": "stream",
     "text": [
      "epoch: 1, [batch: 4032 / 6720], examples_per_second: 3127.9489, train_label_loss: 0.1385, \n"
     ]
    },
    {
     "name": "stdout",
     "output_type": "stream",
     "text": [
      "epoch: 1, [batch: 4704 / 6720], examples_per_second: 3123.2971, train_label_loss: 0.2230, \n"
     ]
    },
    {
     "name": "stdout",
     "output_type": "stream",
     "text": [
      "epoch: 1, [batch: 5376 / 6720], examples_per_second: 3132.4298, train_label_loss: 0.0677, \n"
     ]
    },
    {
     "name": "stdout",
     "output_type": "stream",
     "text": [
      "epoch: 1, [batch: 6048 / 6720], examples_per_second: 3126.1867, train_label_loss: 1.1954, \n"
     ]
    },
    {
     "name": "stdout",
     "output_type": "stream",
     "text": [
      "=============================================================\n",
      "epoch: 1, source_val_acc_label: 0.6345, target_val_acc_label: 0.6354, source_val_label_loss: 6590.3154, target_val_label_loss: 6688.0869, \n",
      "=============================================================\n"
     ]
    },
    {
     "name": "stdout",
     "output_type": "stream",
     "text": [
      "New best\n"
     ]
    },
    {
     "name": "stdout",
     "output_type": "stream",
     "text": [
      "epoch: 2, [batch: 1 / 6720], examples_per_second: 4.6930, train_label_loss: 8472.3750, \n"
     ]
    },
    {
     "name": "stdout",
     "output_type": "stream",
     "text": [
      "epoch: 2, [batch: 672 / 6720], examples_per_second: 3142.7739, train_label_loss: 5.4116, \n"
     ]
    },
    {
     "name": "stdout",
     "output_type": "stream",
     "text": [
      "epoch: 2, [batch: 1344 / 6720], examples_per_second: 3154.0928, train_label_loss: 4.0725, \n"
     ]
    },
    {
     "name": "stdout",
     "output_type": "stream",
     "text": [
      "epoch: 2, [batch: 2016 / 6720], examples_per_second: 3172.5020, train_label_loss: 0.6915, \n"
     ]
    },
    {
     "name": "stdout",
     "output_type": "stream",
     "text": [
      "epoch: 2, [batch: 2688 / 6720], examples_per_second: 3166.6099, train_label_loss: 0.9586, \n"
     ]
    },
    {
     "name": "stdout",
     "output_type": "stream",
     "text": [
      "epoch: 2, [batch: 3360 / 6720], examples_per_second: 3160.0046, train_label_loss: 0.6555, \n"
     ]
    },
    {
     "name": "stdout",
     "output_type": "stream",
     "text": [
      "epoch: 2, [batch: 4032 / 6720], examples_per_second: 3173.4644, train_label_loss: 1.1286, \n"
     ]
    },
    {
     "name": "stdout",
     "output_type": "stream",
     "text": [
      "epoch: 2, [batch: 4704 / 6720], examples_per_second: 3155.4145, train_label_loss: 1.8415, \n"
     ]
    },
    {
     "name": "stdout",
     "output_type": "stream",
     "text": [
      "epoch: 2, [batch: 5376 / 6720], examples_per_second: 3161.1780, train_label_loss: 1.6003, \n"
     ]
    },
    {
     "name": "stdout",
     "output_type": "stream",
     "text": [
      "epoch: 2, [batch: 6048 / 6720], examples_per_second: 3161.6596, train_label_loss: 0.1868, \n"
     ]
    },
    {
     "name": "stdout",
     "output_type": "stream",
     "text": [
      "=============================================================\n",
      "epoch: 2, source_val_acc_label: 0.9157, target_val_acc_label: 0.9037, source_val_label_loss: 0.3644, target_val_label_loss: 0.3511, \n",
      "=============================================================\n"
     ]
    },
    {
     "name": "stdout",
     "output_type": "stream",
     "text": [
      "New best\n"
     ]
    },
    {
     "name": "stdout",
     "output_type": "stream",
     "text": [
      "epoch: 3, [batch: 1 / 6720], examples_per_second: 4.7128, train_label_loss: 0.1106, \n"
     ]
    },
    {
     "name": "stdout",
     "output_type": "stream",
     "text": [
      "epoch: 3, [batch: 672 / 6720], examples_per_second: 3158.1763, train_label_loss: 0.0407, \n"
     ]
    },
    {
     "name": "stdout",
     "output_type": "stream",
     "text": [
      "epoch: 3, [batch: 1344 / 6720], examples_per_second: 3168.1336, train_label_loss: 0.1304, \n"
     ]
    },
    {
     "name": "stdout",
     "output_type": "stream",
     "text": [
      "epoch: 3, [batch: 2016 / 6720], examples_per_second: 3168.8912, train_label_loss: 0.3507, \n"
     ]
    },
    {
     "name": "stdout",
     "output_type": "stream",
     "text": [
      "epoch: 3, [batch: 2688 / 6720], examples_per_second: 3144.0944, train_label_loss: 0.4145, \n"
     ]
    },
    {
     "name": "stdout",
     "output_type": "stream",
     "text": [
      "epoch: 3, [batch: 3360 / 6720], examples_per_second: 3160.0616, train_label_loss: 0.4520, \n"
     ]
    },
    {
     "name": "stdout",
     "output_type": "stream",
     "text": [
      "epoch: 3, [batch: 4032 / 6720], examples_per_second: 3169.0107, train_label_loss: 0.3258, \n"
     ]
    },
    {
     "name": "stdout",
     "output_type": "stream",
     "text": [
      "epoch: 3, [batch: 4704 / 6720], examples_per_second: 3158.4620, train_label_loss: 0.1397, \n"
     ]
    },
    {
     "name": "stdout",
     "output_type": "stream",
     "text": [
      "epoch: 3, [batch: 5376 / 6720], examples_per_second: 3159.1903, train_label_loss: 0.1405, \n"
     ]
    },
    {
     "name": "stdout",
     "output_type": "stream",
     "text": [
      "epoch: 3, [batch: 6048 / 6720], examples_per_second: 3166.7309, train_label_loss: 0.2043, \n"
     ]
    },
    {
     "name": "stdout",
     "output_type": "stream",
     "text": [
      "=============================================================\n",
      "epoch: 3, source_val_acc_label: 0.9076, target_val_acc_label: 0.8998, source_val_label_loss: 0.2951, target_val_label_loss: 0.2987, \n",
      "=============================================================\n"
     ]
    },
    {
     "name": "stdout",
     "output_type": "stream",
     "text": [
      "New best\n"
     ]
    },
    {
     "name": "stdout",
     "output_type": "stream",
     "text": [
      "epoch: 4, [batch: 1 / 6720], examples_per_second: 4.7146, train_label_loss: 0.0395, \n"
     ]
    },
    {
     "name": "stdout",
     "output_type": "stream",
     "text": [
      "epoch: 4, [batch: 672 / 6720], examples_per_second: 3154.6647, train_label_loss: 0.5642, \n"
     ]
    },
    {
     "name": "stdout",
     "output_type": "stream",
     "text": [
      "epoch: 4, [batch: 1344 / 6720], examples_per_second: 3169.5175, train_label_loss: 0.3258, \n"
     ]
    },
    {
     "name": "stdout",
     "output_type": "stream",
     "text": [
      "epoch: 4, [batch: 2016 / 6720], examples_per_second: 3167.8757, train_label_loss: 0.2722, \n"
     ]
    },
    {
     "name": "stdout",
     "output_type": "stream",
     "text": [
      "epoch: 4, [batch: 2688 / 6720], examples_per_second: 3150.6578, train_label_loss: 0.1176, \n"
     ]
    },
    {
     "name": "stdout",
     "output_type": "stream",
     "text": [
      "epoch: 4, [batch: 3360 / 6720], examples_per_second: 3173.9008, train_label_loss: 0.0840, \n"
     ]
    },
    {
     "name": "stdout",
     "output_type": "stream",
     "text": [
      "epoch: 4, [batch: 4032 / 6720], examples_per_second: 3157.2383, train_label_loss: 0.3264, \n"
     ]
    },
    {
     "name": "stdout",
     "output_type": "stream",
     "text": [
      "epoch: 4, [batch: 4704 / 6720], examples_per_second: 3148.9764, train_label_loss: 0.2570, \n"
     ]
    },
    {
     "name": "stdout",
     "output_type": "stream",
     "text": [
      "epoch: 4, [batch: 5376 / 6720], examples_per_second: 3146.6671, train_label_loss: 0.1984, \n"
     ]
    },
    {
     "name": "stdout",
     "output_type": "stream",
     "text": [
      "epoch: 4, [batch: 6048 / 6720], examples_per_second: 3140.6622, train_label_loss: 0.0928, \n"
     ]
    },
    {
     "name": "stdout",
     "output_type": "stream",
     "text": [
      "=============================================================\n",
      "epoch: 4, source_val_acc_label: 0.9231, target_val_acc_label: 0.9129, source_val_label_loss: 0.2771, target_val_label_loss: 0.2898, \n",
      "=============================================================\n"
     ]
    },
    {
     "name": "stdout",
     "output_type": "stream",
     "text": [
      "New best\n"
     ]
    },
    {
     "name": "stdout",
     "output_type": "stream",
     "text": [
      "epoch: 5, [batch: 1 / 6720], examples_per_second: 4.6970, train_label_loss: 0.2910, \n"
     ]
    },
    {
     "name": "stdout",
     "output_type": "stream",
     "text": [
      "epoch: 5, [batch: 672 / 6720], examples_per_second: 3153.8544, train_label_loss: 0.0918, \n"
     ]
    },
    {
     "name": "stdout",
     "output_type": "stream",
     "text": [
      "epoch: 5, [batch: 1344 / 6720], examples_per_second: 3162.0425, train_label_loss: 0.1257, \n"
     ]
    },
    {
     "name": "stdout",
     "output_type": "stream",
     "text": [
      "epoch: 5, [batch: 2016 / 6720], examples_per_second: 3162.0714, train_label_loss: 0.2284, \n"
     ]
    },
    {
     "name": "stdout",
     "output_type": "stream",
     "text": [
      "epoch: 5, [batch: 2688 / 6720], examples_per_second: 3154.4913, train_label_loss: 0.0641, \n"
     ]
    },
    {
     "name": "stdout",
     "output_type": "stream",
     "text": [
      "epoch: 5, [batch: 3360 / 6720], examples_per_second: 3166.6297, train_label_loss: 0.3738, \n"
     ]
    },
    {
     "name": "stdout",
     "output_type": "stream",
     "text": [
      "epoch: 5, [batch: 4032 / 6720], examples_per_second: 3162.1776, train_label_loss: 0.3778, \n"
     ]
    },
    {
     "name": "stdout",
     "output_type": "stream",
     "text": [
      "epoch: 5, [batch: 4704 / 6720], examples_per_second: 3146.1335, train_label_loss: 0.1031, \n"
     ]
    },
    {
     "name": "stdout",
     "output_type": "stream",
     "text": [
      "epoch: 5, [batch: 5376 / 6720], examples_per_second: 3157.4744, train_label_loss: 0.3444, \n"
     ]
    },
    {
     "name": "stdout",
     "output_type": "stream",
     "text": [
      "epoch: 5, [batch: 6048 / 6720], examples_per_second: 3168.5975, train_label_loss: 0.1533, \n"
     ]
    },
    {
     "name": "stdout",
     "output_type": "stream",
     "text": [
      "=============================================================\n",
      "epoch: 5, source_val_acc_label: 0.9324, target_val_acc_label: 0.9173, source_val_label_loss: 0.2251, target_val_label_loss: 0.2579, \n",
      "=============================================================\n"
     ]
    },
    {
     "name": "stdout",
     "output_type": "stream",
     "text": [
      "New best\n"
     ]
    },
    {
     "name": "stdout",
     "output_type": "stream",
     "text": [
      "epoch: 6, [batch: 1 / 6720], examples_per_second: 4.7172, train_label_loss: 0.3190, \n"
     ]
    },
    {
     "name": "stdout",
     "output_type": "stream",
     "text": [
      "epoch: 6, [batch: 672 / 6720], examples_per_second: 3165.4543, train_label_loss: 0.2293, \n"
     ]
    },
    {
     "name": "stdout",
     "output_type": "stream",
     "text": [
      "epoch: 6, [batch: 1344 / 6720], examples_per_second: 3161.9116, train_label_loss: 0.0755, \n"
     ]
    },
    {
     "name": "stdout",
     "output_type": "stream",
     "text": [
      "epoch: 6, [batch: 2016 / 6720], examples_per_second: 3160.8813, train_label_loss: 0.1222, \n"
     ]
    },
    {
     "name": "stdout",
     "output_type": "stream",
     "text": [
      "epoch: 6, [batch: 2688 / 6720], examples_per_second: 3167.4237, train_label_loss: 1.0354, \n"
     ]
    },
    {
     "name": "stdout",
     "output_type": "stream",
     "text": [
      "epoch: 6, [batch: 3360 / 6720], examples_per_second: 3166.9453, train_label_loss: 1.0394, \n"
     ]
    },
    {
     "name": "stdout",
     "output_type": "stream",
     "text": [
      "epoch: 6, [batch: 4032 / 6720], examples_per_second: 3161.3063, train_label_loss: 0.0665, \n"
     ]
    },
    {
     "name": "stdout",
     "output_type": "stream",
     "text": [
      "epoch: 6, [batch: 4704 / 6720], examples_per_second: 3156.5235, train_label_loss: 0.0874, \n"
     ]
    },
    {
     "name": "stdout",
     "output_type": "stream",
     "text": [
      "epoch: 6, [batch: 5376 / 6720], examples_per_second: 3162.2287, train_label_loss: 0.0660, \n"
     ]
    },
    {
     "name": "stdout",
     "output_type": "stream",
     "text": [
      "epoch: 6, [batch: 6048 / 6720], examples_per_second: 3158.1509, train_label_loss: 0.0966, \n"
     ]
    },
    {
     "name": "stdout",
     "output_type": "stream",
     "text": [
      "=============================================================\n",
      "epoch: 6, source_val_acc_label: 0.9351, target_val_acc_label: 0.9197, source_val_label_loss: 0.2122, target_val_label_loss: 0.2483, \n",
      "=============================================================\n"
     ]
    },
    {
     "name": "stdout",
     "output_type": "stream",
     "text": [
      "New best\n"
     ]
    },
    {
     "name": "stdout",
     "output_type": "stream",
     "text": [
      "epoch: 7, [batch: 1 / 6720], examples_per_second: 4.7134, train_label_loss: 0.1678, \n"
     ]
    },
    {
     "name": "stdout",
     "output_type": "stream",
     "text": [
      "epoch: 7, [batch: 672 / 6720], examples_per_second: 3153.0651, train_label_loss: 0.3110, \n"
     ]
    },
    {
     "name": "stdout",
     "output_type": "stream",
     "text": [
      "epoch: 7, [batch: 1344 / 6720], examples_per_second: 3162.4141, train_label_loss: 0.1876, \n"
     ]
    },
    {
     "name": "stdout",
     "output_type": "stream",
     "text": [
      "epoch: 7, [batch: 2016 / 6720], examples_per_second: 3163.2691, train_label_loss: 0.1381, \n"
     ]
    },
    {
     "name": "stdout",
     "output_type": "stream",
     "text": [
      "epoch: 7, [batch: 2688 / 6720], examples_per_second: 3148.6166, train_label_loss: 0.0170, \n"
     ]
    },
    {
     "name": "stdout",
     "output_type": "stream",
     "text": [
      "epoch: 7, [batch: 3360 / 6720], examples_per_second: 3160.5350, train_label_loss: 0.3692, \n"
     ]
    },
    {
     "name": "stdout",
     "output_type": "stream",
     "text": [
      "epoch: 7, [batch: 4032 / 6720], examples_per_second: 3160.4692, train_label_loss: 0.0672, \n"
     ]
    },
    {
     "name": "stdout",
     "output_type": "stream",
     "text": [
      "epoch: 7, [batch: 4704 / 6720], examples_per_second: 3148.0298, train_label_loss: 0.3313, \n"
     ]
    },
    {
     "name": "stdout",
     "output_type": "stream",
     "text": [
      "epoch: 7, [batch: 5376 / 6720], examples_per_second: 3156.9139, train_label_loss: 0.0792, \n"
     ]
    },
    {
     "name": "stdout",
     "output_type": "stream",
     "text": [
      "epoch: 7, [batch: 6048 / 6720], examples_per_second: 3151.9426, train_label_loss: 0.0270, \n"
     ]
    },
    {
     "name": "stdout",
     "output_type": "stream",
     "text": [
      "=============================================================\n",
      "epoch: 7, source_val_acc_label: 0.9415, target_val_acc_label: 0.9259, source_val_label_loss: 0.1921, target_val_label_loss: 0.2318, \n",
      "=============================================================\n"
     ]
    },
    {
     "name": "stdout",
     "output_type": "stream",
     "text": [
      "New best\n"
     ]
    },
    {
     "name": "stdout",
     "output_type": "stream",
     "text": [
      "epoch: 8, [batch: 1 / 6720], examples_per_second: 4.7235, train_label_loss: 0.2099, \n"
     ]
    },
    {
     "name": "stdout",
     "output_type": "stream",
     "text": [
      "epoch: 8, [batch: 672 / 6720], examples_per_second: 3144.9887, train_label_loss: 0.2913, \n"
     ]
    },
    {
     "name": "stdout",
     "output_type": "stream",
     "text": [
      "epoch: 8, [batch: 1344 / 6720], examples_per_second: 3174.4485, train_label_loss: 0.2660, \n"
     ]
    },
    {
     "name": "stdout",
     "output_type": "stream",
     "text": [
      "epoch: 8, [batch: 2016 / 6720], examples_per_second: 3181.8071, train_label_loss: 1.1059, \n"
     ]
    },
    {
     "name": "stdout",
     "output_type": "stream",
     "text": [
      "epoch: 8, [batch: 2688 / 6720], examples_per_second: 3156.5060, train_label_loss: 0.0686, \n"
     ]
    },
    {
     "name": "stdout",
     "output_type": "stream",
     "text": [
      "epoch: 8, [batch: 3360 / 6720], examples_per_second: 3162.5228, train_label_loss: 0.2196, \n"
     ]
    },
    {
     "name": "stdout",
     "output_type": "stream",
     "text": [
      "epoch: 8, [batch: 4032 / 6720], examples_per_second: 3157.4820, train_label_loss: 0.3721, \n"
     ]
    },
    {
     "name": "stdout",
     "output_type": "stream",
     "text": [
      "epoch: 8, [batch: 4704 / 6720], examples_per_second: 3150.6577, train_label_loss: 0.0522, \n"
     ]
    },
    {
     "name": "stdout",
     "output_type": "stream",
     "text": [
      "epoch: 8, [batch: 5376 / 6720], examples_per_second: 3157.6349, train_label_loss: 0.0777, \n"
     ]
    },
    {
     "name": "stdout",
     "output_type": "stream",
     "text": [
      "epoch: 8, [batch: 6048 / 6720], examples_per_second: 3164.3978, train_label_loss: 0.0571, \n"
     ]
    },
    {
     "name": "stdout",
     "output_type": "stream",
     "text": [
      "=============================================================\n",
      "epoch: 8, source_val_acc_label: 0.9316, target_val_acc_label: 0.9180, source_val_label_loss: 0.2142, target_val_label_loss: 0.2430, \n",
      "=============================================================\n"
     ]
    },
    {
     "name": "stdout",
     "output_type": "stream",
     "text": [
      "epoch: 9, [batch: 1 / 6720], examples_per_second: 4.7234, train_label_loss: 0.1905, \n"
     ]
    },
    {
     "name": "stdout",
     "output_type": "stream",
     "text": [
      "epoch: 9, [batch: 672 / 6720], examples_per_second: 3132.9233, train_label_loss: 0.0462, \n"
     ]
    },
    {
     "name": "stdout",
     "output_type": "stream",
     "text": [
      "epoch: 9, [batch: 1344 / 6720], examples_per_second: 3139.5786, train_label_loss: 0.1043, \n"
     ]
    },
    {
     "name": "stdout",
     "output_type": "stream",
     "text": [
      "epoch: 9, [batch: 2016 / 6720], examples_per_second: 3142.1741, train_label_loss: 0.1978, \n"
     ]
    },
    {
     "name": "stdout",
     "output_type": "stream",
     "text": [
      "epoch: 9, [batch: 2688 / 6720], examples_per_second: 3144.9773, train_label_loss: 0.0534, \n"
     ]
    },
    {
     "name": "stdout",
     "output_type": "stream",
     "text": [
      "epoch: 9, [batch: 3360 / 6720], examples_per_second: 3156.8338, train_label_loss: 0.2648, \n"
     ]
    },
    {
     "name": "stdout",
     "output_type": "stream",
     "text": [
      "epoch: 9, [batch: 4032 / 6720], examples_per_second: 3157.8415, train_label_loss: 0.3531, \n"
     ]
    },
    {
     "name": "stdout",
     "output_type": "stream",
     "text": [
      "epoch: 9, [batch: 4704 / 6720], examples_per_second: 3146.9486, train_label_loss: 0.0293, \n"
     ]
    },
    {
     "name": "stdout",
     "output_type": "stream",
     "text": [
      "epoch: 9, [batch: 5376 / 6720], examples_per_second: 3161.1065, train_label_loss: 0.0362, \n"
     ]
    },
    {
     "name": "stdout",
     "output_type": "stream",
     "text": [
      "epoch: 9, [batch: 6048 / 6720], examples_per_second: 3158.5214, train_label_loss: 0.0573, \n"
     ]
    },
    {
     "name": "stdout",
     "output_type": "stream",
     "text": [
      "=============================================================\n",
      "epoch: 9, source_val_acc_label: 0.9419, target_val_acc_label: 0.9281, source_val_label_loss: 0.1862, target_val_label_loss: 0.2232, \n",
      "=============================================================\n"
     ]
    },
    {
     "name": "stdout",
     "output_type": "stream",
     "text": [
      "New best\n"
     ]
    },
    {
     "name": "stdout",
     "output_type": "stream",
     "text": [
      "epoch: 10, [batch: 1 / 6720], examples_per_second: 4.7186, train_label_loss: 0.1868, \n"
     ]
    },
    {
     "name": "stdout",
     "output_type": "stream",
     "text": [
      "epoch: 10, [batch: 672 / 6720], examples_per_second: 3150.7151, train_label_loss: 0.0917, \n"
     ]
    },
    {
     "name": "stdout",
     "output_type": "stream",
     "text": [
      "epoch: 10, [batch: 1344 / 6720], examples_per_second: 3150.1419, train_label_loss: 0.0830, \n"
     ]
    },
    {
     "name": "stdout",
     "output_type": "stream",
     "text": [
      "epoch: 10, [batch: 2016 / 6720], examples_per_second: 3165.8656, train_label_loss: 0.1746, \n"
     ]
    },
    {
     "name": "stdout",
     "output_type": "stream",
     "text": [
      "epoch: 10, [batch: 2688 / 6720], examples_per_second: 3154.1233, train_label_loss: 0.0824, \n"
     ]
    },
    {
     "name": "stdout",
     "output_type": "stream",
     "text": [
      "epoch: 10, [batch: 3360 / 6720], examples_per_second: 3159.2508, train_label_loss: 0.0582, \n"
     ]
    },
    {
     "name": "stdout",
     "output_type": "stream",
     "text": [
      "epoch: 10, [batch: 4032 / 6720], examples_per_second: 3158.1766, train_label_loss: 0.2341, \n"
     ]
    },
    {
     "name": "stdout",
     "output_type": "stream",
     "text": [
      "epoch: 10, [batch: 4704 / 6720], examples_per_second: 3154.1692, train_label_loss: 0.2549, \n"
     ]
    },
    {
     "name": "stdout",
     "output_type": "stream",
     "text": [
      "epoch: 10, [batch: 5376 / 6720], examples_per_second: 3164.8070, train_label_loss: 0.2452, \n"
     ]
    },
    {
     "name": "stdout",
     "output_type": "stream",
     "text": [
      "epoch: 10, [batch: 6048 / 6720], examples_per_second: 3164.2106, train_label_loss: 0.0690, \n"
     ]
    },
    {
     "name": "stdout",
     "output_type": "stream",
     "text": [
      "=============================================================\n",
      "epoch: 10, source_val_acc_label: 0.9342, target_val_acc_label: 0.9200, source_val_label_loss: 0.2034, target_val_label_loss: 0.2422, \n",
      "=============================================================\n"
     ]
    },
    {
     "name": "stdout",
     "output_type": "stream",
     "text": [
      "epoch: 11, [batch: 1 / 6720], examples_per_second: 4.7359, train_label_loss: 0.0704, \n"
     ]
    },
    {
     "name": "stdout",
     "output_type": "stream",
     "text": [
      "epoch: 11, [batch: 672 / 6720], examples_per_second: 3164.3613, train_label_loss: 0.2848, \n"
     ]
    },
    {
     "name": "stdout",
     "output_type": "stream",
     "text": [
      "epoch: 11, [batch: 1344 / 6720], examples_per_second: 3156.5715, train_label_loss: 0.0497, \n"
     ]
    },
    {
     "name": "stdout",
     "output_type": "stream",
     "text": [
      "epoch: 11, [batch: 2016 / 6720], examples_per_second: 3154.9755, train_label_loss: 0.0561, \n"
     ]
    },
    {
     "name": "stdout",
     "output_type": "stream",
     "text": [
      "epoch: 11, [batch: 2688 / 6720], examples_per_second: 3157.2599, train_label_loss: 0.1035, \n"
     ]
    },
    {
     "name": "stdout",
     "output_type": "stream",
     "text": [
      "epoch: 11, [batch: 3360 / 6720], examples_per_second: 3169.1982, train_label_loss: 0.2286, \n"
     ]
    },
    {
     "name": "stdout",
     "output_type": "stream",
     "text": [
      "epoch: 11, [batch: 4032 / 6720], examples_per_second: 3153.6671, train_label_loss: 0.1640, \n"
     ]
    },
    {
     "name": "stdout",
     "output_type": "stream",
     "text": [
      "epoch: 11, [batch: 4704 / 6720], examples_per_second: 3143.1855, train_label_loss: 0.0732, \n"
     ]
    },
    {
     "name": "stdout",
     "output_type": "stream",
     "text": [
      "epoch: 11, [batch: 5376 / 6720], examples_per_second: 3159.5822, train_label_loss: 0.0461, \n"
     ]
    },
    {
     "name": "stdout",
     "output_type": "stream",
     "text": [
      "epoch: 11, [batch: 6048 / 6720], examples_per_second: 3161.0376, train_label_loss: 0.3088, \n"
     ]
    },
    {
     "name": "stdout",
     "output_type": "stream",
     "text": [
      "=============================================================\n",
      "epoch: 11, source_val_acc_label: 0.9415, target_val_acc_label: 0.9269, source_val_label_loss: 0.1883, target_val_label_loss: 0.2315, \n",
      "=============================================================\n"
     ]
    },
    {
     "name": "stdout",
     "output_type": "stream",
     "text": [
      "epoch: 12, [batch: 1 / 6720], examples_per_second: 4.7430, train_label_loss: 0.3928, \n"
     ]
    },
    {
     "name": "stdout",
     "output_type": "stream",
     "text": [
      "epoch: 12, [batch: 672 / 6720], examples_per_second: 3158.1836, train_label_loss: 0.0709, \n"
     ]
    },
    {
     "name": "stdout",
     "output_type": "stream",
     "text": [
      "epoch: 12, [batch: 1344 / 6720], examples_per_second: 3167.2250, train_label_loss: 0.0452, \n"
     ]
    },
    {
     "name": "stdout",
     "output_type": "stream",
     "text": [
      "epoch: 12, [batch: 2016 / 6720], examples_per_second: 3156.1851, train_label_loss: 0.1594, \n"
     ]
    },
    {
     "name": "stdout",
     "output_type": "stream",
     "text": [
      "epoch: 12, [batch: 2688 / 6720], examples_per_second: 3150.3168, train_label_loss: 0.0762, \n"
     ]
    },
    {
     "name": "stdout",
     "output_type": "stream",
     "text": [
      "epoch: 12, [batch: 3360 / 6720], examples_per_second: 3163.2771, train_label_loss: 0.0455, \n"
     ]
    },
    {
     "name": "stdout",
     "output_type": "stream",
     "text": [
      "epoch: 12, [batch: 4032 / 6720], examples_per_second: 3168.9126, train_label_loss: 0.0299, \n"
     ]
    },
    {
     "name": "stdout",
     "output_type": "stream",
     "text": [
      "epoch: 12, [batch: 4704 / 6720], examples_per_second: 3145.3357, train_label_loss: 0.6716, \n"
     ]
    },
    {
     "name": "stdout",
     "output_type": "stream",
     "text": [
      "epoch: 12, [batch: 5376 / 6720], examples_per_second: 3154.3552, train_label_loss: 0.2067, \n"
     ]
    },
    {
     "name": "stdout",
     "output_type": "stream",
     "text": [
      "epoch: 12, [batch: 6048 / 6720], examples_per_second: 3159.3731, train_label_loss: 0.4195, \n"
     ]
    },
    {
     "name": "stdout",
     "output_type": "stream",
     "text": [
      "=============================================================\n",
      "epoch: 12, source_val_acc_label: 0.9334, target_val_acc_label: 0.9201, source_val_label_loss: 0.2082, target_val_label_loss: 0.2478, \n",
      "=============================================================\n"
     ]
    },
    {
     "name": "stdout",
     "output_type": "stream",
     "text": [
      "epoch: 13, [batch: 1 / 6720], examples_per_second: 4.7220, train_label_loss: 0.0164, \n"
     ]
    },
    {
     "name": "stdout",
     "output_type": "stream",
     "text": [
      "epoch: 13, [batch: 672 / 6720], examples_per_second: 3159.8699, train_label_loss: 0.1785, \n"
     ]
    },
    {
     "name": "stdout",
     "output_type": "stream",
     "text": [
      "epoch: 13, [batch: 1344 / 6720], examples_per_second: 3165.5673, train_label_loss: 0.0779, \n"
     ]
    },
    {
     "name": "stdout",
     "output_type": "stream",
     "text": [
      "epoch: 13, [batch: 2016 / 6720], examples_per_second: 3162.9862, train_label_loss: 0.0070, \n"
     ]
    },
    {
     "name": "stdout",
     "output_type": "stream",
     "text": [
      "epoch: 13, [batch: 2688 / 6720], examples_per_second: 3158.6374, train_label_loss: 0.1692, \n"
     ]
    },
    {
     "name": "stdout",
     "output_type": "stream",
     "text": [
      "epoch: 13, [batch: 3360 / 6720], examples_per_second: 3166.3276, train_label_loss: 0.0884, \n"
     ]
    },
    {
     "name": "stdout",
     "output_type": "stream",
     "text": [
      "epoch: 13, [batch: 4032 / 6720], examples_per_second: 3152.6763, train_label_loss: 0.1740, \n"
     ]
    },
    {
     "name": "stdout",
     "output_type": "stream",
     "text": [
      "epoch: 13, [batch: 4704 / 6720], examples_per_second: 3164.5635, train_label_loss: 0.1619, \n"
     ]
    },
    {
     "name": "stdout",
     "output_type": "stream",
     "text": [
      "epoch: 13, [batch: 5376 / 6720], examples_per_second: 3152.4388, train_label_loss: 0.0163, \n"
     ]
    },
    {
     "name": "stdout",
     "output_type": "stream",
     "text": [
      "epoch: 13, [batch: 6048 / 6720], examples_per_second: 3162.2128, train_label_loss: 0.1344, \n"
     ]
    },
    {
     "name": "stdout",
     "output_type": "stream",
     "text": [
      "=============================================================\n",
      "epoch: 13, source_val_acc_label: 0.9407, target_val_acc_label: 0.9250, source_val_label_loss: 0.1892, target_val_label_loss: 0.2388, \n",
      "=============================================================\n"
     ]
    },
    {
     "name": "stdout",
     "output_type": "stream",
     "text": [
      "Patience (3) exhausted\n"
     ]
    }
   ],
   "source": [
    "###################################\n",
    "# train\n",
    "###################################\n",
    "jig = PTN_Train_Eval_Test_Jig(model, p.BEST_MODEL_PATH, p.device)\n",
    "\n",
    "jig.train(\n",
    "    train_iterable=datasets.source.processed.train,\n",
    "    source_val_iterable=datasets.source.processed.val,\n",
    "    target_val_iterable=datasets.target.processed.val,\n",
    "    num_epochs=p.n_epoch,\n",
    "    num_logs_per_epoch=p.NUM_LOGS_PER_EPOCH,\n",
    "    patience=p.patience,\n",
    "    optimizer=optimizer,\n",
    "    criteria_for_best=p.criteria_for_best,\n",
    ")"
   ]
  },
  {
   "cell_type": "code",
   "execution_count": 23,
   "id": "31e8fabf",
   "metadata": {
    "execution": {
     "iopub.execute_input": "2022-03-07T06:39:24.857622Z",
     "iopub.status.busy": "2022-03-07T06:39:24.857372Z",
     "iopub.status.idle": "2022-03-07T06:39:24.872738Z",
     "shell.execute_reply": "2022-03-07T06:39:24.872348Z"
    },
    "papermill": {
     "duration": 0.059878,
     "end_time": "2022-03-07T06:39:24.872828",
     "exception": false,
     "start_time": "2022-03-07T06:39:24.812950",
     "status": "completed"
    },
    "tags": []
   },
   "outputs": [],
   "source": [
    "total_experiment_time_secs = time.time() - start_time_secs"
   ]
  },
  {
   "cell_type": "code",
   "execution_count": 24,
   "id": "87b9595b",
   "metadata": {
    "execution": {
     "iopub.execute_input": "2022-03-07T06:39:24.965689Z",
     "iopub.status.busy": "2022-03-07T06:39:24.965393Z",
     "iopub.status.idle": "2022-03-07T06:41:03.736013Z",
     "shell.execute_reply": "2022-03-07T06:41:03.735553Z"
    },
    "papermill": {
     "duration": 98.817219,
     "end_time": "2022-03-07T06:41:03.736123",
     "exception": false,
     "start_time": "2022-03-07T06:39:24.918904",
     "status": "completed"
    },
    "tags": []
   },
   "outputs": [],
   "source": [
    "###################################\n",
    "# Evaluate the model\n",
    "###################################\n",
    "source_test_label_accuracy, source_test_label_loss = jig.test(datasets.source.processed.test)\n",
    "target_test_label_accuracy, target_test_label_loss = jig.test(datasets.target.processed.test)\n",
    "\n",
    "source_val_label_accuracy, source_val_label_loss = jig.test(datasets.source.processed.val)\n",
    "target_val_label_accuracy, target_val_label_loss = jig.test(datasets.target.processed.val)\n",
    "\n",
    "history = jig.get_history()\n",
    "\n",
    "total_epochs_trained = len(history[\"epoch_indices\"])\n",
    "\n",
    "val_dl = Iterable_Aggregator((datasets.source.original.val,datasets.target.original.val))\n",
    "\n",
    "confusion = ptn_confusion_by_domain_over_dataloader(model, p.device, val_dl)\n",
    "per_domain_accuracy = per_domain_accuracy_from_confusion(confusion)\n",
    "\n",
    "# Add a key to per_domain_accuracy for if it was a source domain\n",
    "for domain, accuracy in per_domain_accuracy.items():\n",
    "    per_domain_accuracy[domain] = {\n",
    "        \"accuracy\": accuracy,\n",
    "        \"source?\": domain in p.domains_source\n",
    "    }\n",
    "\n",
    "# Do an independent accuracy assesment JUST TO BE SURE!\n",
    "# _source_test_label_accuracy = independent_accuracy_assesment(model, datasets.source.processed.test, p.device)\n",
    "# _target_test_label_accuracy = independent_accuracy_assesment(model, datasets.target.processed.test, p.device)\n",
    "# _source_val_label_accuracy = independent_accuracy_assesment(model, datasets.source.processed.val, p.device)\n",
    "# _target_val_label_accuracy = independent_accuracy_assesment(model, datasets.target.processed.val, p.device)\n",
    "\n",
    "# assert(_source_test_label_accuracy == source_test_label_accuracy)\n",
    "# assert(_target_test_label_accuracy == target_test_label_accuracy)\n",
    "# assert(_source_val_label_accuracy == source_val_label_accuracy)\n",
    "# assert(_target_val_label_accuracy == target_val_label_accuracy)\n",
    "\n",
    "experiment = {\n",
    "    \"experiment_name\": p.experiment_name,\n",
    "    \"parameters\": dict(p),\n",
    "    \"results\": {\n",
    "        \"source_test_label_accuracy\": source_test_label_accuracy,\n",
    "        \"source_test_label_loss\": source_test_label_loss,\n",
    "        \"target_test_label_accuracy\": target_test_label_accuracy,\n",
    "        \"target_test_label_loss\": target_test_label_loss,\n",
    "        \"source_val_label_accuracy\": source_val_label_accuracy,\n",
    "        \"source_val_label_loss\": source_val_label_loss,\n",
    "        \"target_val_label_accuracy\": target_val_label_accuracy,\n",
    "        \"target_val_label_loss\": target_val_label_loss,\n",
    "        \"total_epochs_trained\": total_epochs_trained,\n",
    "        \"total_experiment_time_secs\": total_experiment_time_secs,\n",
    "        \"confusion\": confusion,\n",
    "        \"per_domain_accuracy\": per_domain_accuracy,\n",
    "    },\n",
    "    \"history\": history,\n",
    "    \"dataset_metrics\": get_dataset_metrics(datasets, \"ptn\"),\n",
    "}"
   ]
  },
  {
   "cell_type": "code",
   "execution_count": 25,
   "id": "54a21829",
   "metadata": {
    "execution": {
     "iopub.execute_input": "2022-03-07T06:41:03.826783Z",
     "iopub.status.busy": "2022-03-07T06:41:03.826511Z",
     "iopub.status.idle": "2022-03-07T06:41:04.011692Z",
     "shell.execute_reply": "2022-03-07T06:41:04.011256Z"
    },
    "papermill": {
     "duration": 0.228459,
     "end_time": "2022-03-07T06:41:04.011798",
     "exception": false,
     "start_time": "2022-03-07T06:41:03.783339",
     "status": "completed"
    },
    "tags": []
   },
   "outputs": [
    {
     "data": {
      "image/png": "[encoded data removed]",
      "text/plain": [
       "<Figure size 1080x504 with 1 Axes>"
      ]
     },
     "metadata": {
      "needs_background": "light"
     },
     "output_type": "display_data"
    }
   ],
   "source": [
    "ax = get_loss_curve(experiment)\n",
    "plt.show()"
   ]
  },
  {
   "cell_type": "code",
   "execution_count": 26,
   "id": "fd8a0f60",
   "metadata": {
    "execution": {
     "iopub.execute_input": "2022-03-07T06:41:04.103108Z",
     "iopub.status.busy": "2022-03-07T06:41:04.102849Z",
     "iopub.status.idle": "2022-03-07T06:41:04.284223Z",
     "shell.execute_reply": "2022-03-07T06:41:04.283699Z"
    },
    "papermill": {
     "duration": 0.22575,
     "end_time": "2022-03-07T06:41:04.284331",
     "exception": false,
     "start_time": "2022-03-07T06:41:04.058581",
     "status": "completed"
    },
    "tags": []
   },
   "outputs": [
    {
     "data": {
      "text/plain": [
       "<matplotlib.axes._subplots.AxesSubplot at 0x7fa528aa4a30>"
      ]
     },
     "execution_count": 26,
     "metadata": {},
     "output_type": "execute_result"
    },
    {
     "data": {
      "image/png": "[encoded data removed]",
      "text/plain": [
       "<Figure size 1080x504 with 1 Axes>"
      ]
     },
     "metadata": {
      "needs_background": "light"
     },
     "output_type": "display_data"
    }
   ],
   "source": [
    "get_results_table(experiment)"
   ]
  },
  {
   "cell_type": "code",
   "execution_count": 27,
   "id": "cf8dc689",
   "metadata": {
    "execution": {
     "iopub.execute_input": "2022-03-07T06:41:04.378796Z",
     "iopub.status.busy": "2022-03-07T06:41:04.378529Z",
     "iopub.status.idle": "2022-03-07T06:41:04.596222Z",
     "shell.execute_reply": "2022-03-07T06:41:04.595728Z"
    },
    "papermill": {
     "duration": 0.263106,
     "end_time": "2022-03-07T06:41:04.596327",
     "exception": false,
     "start_time": "2022-03-07T06:41:04.333221",
     "status": "completed"
    },
    "tags": []
   },
   "outputs": [
    {
     "data": {
      "text/plain": [
       "<matplotlib.axes._subplots.AxesSubplot at 0x7fa5a7c8b790>"
      ]
     },
     "execution_count": 27,
     "metadata": {},
     "output_type": "execute_result"
    },
    {
     "data": {
      "image/png": "[encoded data removed]",
      "text/plain": [
       "<Figure size 1080x504 with 1 Axes>"
      ]
     },
     "metadata": {
      "needs_background": "light"
     },
     "output_type": "display_data"
    }
   ],
   "source": [
    "get_domain_accuracies(experiment)"
   ]
  },
  {
   "cell_type": "code",
   "execution_count": 28,
   "id": "a74ae082",
   "metadata": {
    "execution": {
     "iopub.execute_input": "2022-03-07T06:41:04.691585Z",
     "iopub.status.busy": "2022-03-07T06:41:04.691328Z",
     "iopub.status.idle": "2022-03-07T06:41:04.705272Z",
     "shell.execute_reply": "2022-03-07T06:41:04.705015Z"
    },
    "papermill": {
     "duration": 0.059781,
     "end_time": "2022-03-07T06:41:04.705329",
     "exception": false,
     "start_time": "2022-03-07T06:41:04.645548",
     "status": "completed"
    },
    "tags": []
   },
   "outputs": [
    {
     "name": "stdout",
     "output_type": "stream",
     "text": [
      "Source Test Label Accuracy: 0.9423502604166667 Target Test Label Accuracy: 0.92734375\n",
      "Source Val Label Accuracy: 0.94189453125 Target Val Label Accuracy: 0.9280598958333334\n"
     ]
    }
   ],
   "source": [
    "print(\"Source Test Label Accuracy:\", experiment[\"results\"][\"source_test_label_accuracy\"], \"Target Test Label Accuracy:\", experiment[\"results\"][\"target_test_label_accuracy\"])\n",
    "print(\"Source Val Label Accuracy:\", experiment[\"results\"][\"source_val_label_accuracy\"], \"Target Val Label Accuracy:\", experiment[\"results\"][\"target_val_label_accuracy\"])"
   ]
  },
  {
   "cell_type": "code",
   "execution_count": 29,
   "id": "dacca602",
   "metadata": {
    "execution": {
     "iopub.execute_input": "2022-03-07T06:41:04.795687Z",
     "iopub.status.busy": "2022-03-07T06:41:04.795436Z",
     "iopub.status.idle": "2022-03-07T06:41:04.809976Z",
     "shell.execute_reply": "2022-03-07T06:41:04.809487Z"
    },
    "papermill": {
     "duration": 0.06091,
     "end_time": "2022-03-07T06:41:04.810077",
     "exception": false,
     "start_time": "2022-03-07T06:41:04.749167",
     "status": "completed"
    },
    "tags": [
     "experiment_json"
    ]
   },
   "outputs": [
    {
     "data": {
      "text/plain": [
       "'{\"experiment_name\": \"tl_1_oracle.run1-oracle.run2\", \"parameters\": {\"experiment_name\": \"tl_1_oracle.run1-oracle.run2\", \"device\": \"cuda\", \"lr\": 0.001, \"seed\": 1337, \"dataset_seed\": 1337, \"n_shot\": 3, \"n_query\": 2, \"train_k_factor\": 3, \"val_k_factor\": 2, \"test_k_factor\": 2, \"torch_default_dtype\": \"torch.float32\", \"n_epoch\": 50, \"patience\": 3, \"criteria_for_best\": \"target_loss\", \"x_net\": [{\"class\": \"nnReshape\", \"kargs\": {\"shape\": [-1, 1, 2, 256]}}, {\"class\": \"Conv2d\", \"kargs\": {\"in_channels\": 1, \"out_channels\": 256, \"kernel_size\": [1, 7], \"bias\": false, \"padding\": [0, 3]}}, {\"class\": \"ReLU\", \"kargs\": {\"inplace\": true}}, {\"class\": \"BatchNorm2d\", \"kargs\": {\"num_features\": 256}}, {\"class\": \"Conv2d\", \"kargs\": {\"in_channels\": 256, \"out_channels\": 80, \"kernel_size\": [2, 7], \"bias\": true, \"padding\": [0, 3]}}, {\"class\": \"ReLU\", \"kargs\": {\"inplace\": true}}, {\"class\": \"BatchNorm2d\", \"kargs\": {\"num_features\": 80}}, {\"class\": \"Flatten\", \"kargs\": {}}, {\"class\": \"Linear\", \"kargs\": {\"in_features\": 20480, \"out_features\": 256}}, {\"class\": \"ReLU\", \"kargs\": {\"inplace\": true}}, {\"class\": \"BatchNorm1d\", \"kargs\": {\"num_features\": 256}}, {\"class\": \"Linear\", \"kargs\": {\"in_features\": 256, \"out_features\": 256}}], \"NUM_LOGS_PER_EPOCH\": 10, \"BEST_MODEL_PATH\": \"./best_model.pth\", \"n_way\": 16, \"datasets\": [{\"labels\": [\"3123D52\", \"3123D65\", \"3123D79\", \"3123D80\", \"3123D54\", \"3123D70\", \"3123D7B\", \"3123D89\", \"3123D58\", \"3123D76\", \"3123D7D\", \"3123EFE\", \"3123D64\", \"3123D78\", \"3123D7E\", \"3124E4A\"], \"domains\": [32, 38, 8, 44, 14, 50, 20, 26], \"num_examples_per_domain_per_label\": 2000, \"pickle_path\": \"/mnt/wd500GB/CSC500/csc500-main/datasets/oracle.Run1_framed_2000Examples_stratified_ds.2022A.pkl\", \"source_or_target_dataset\": \"target\", \"x_transforms\": [], \"episode_transforms\": [], \"domain_prefix\": \"ORACLE.run1_\"}, {\"labels\": [\"3123D52\", \"3123D65\", \"3123D79\", \"3123D80\", \"3123D54\", \"3123D70\", \"3123D7B\", \"3123D89\", \"3123D58\", \"3123D76\", \"3123D7D\", \"3123EFE\", \"3123D64\", \"3123D78\", \"3123D7E\", \"3124E4A\"], \"domains\": [32, 38, 8, 44, 14, 50, 20, 26], \"num_examples_per_domain_per_label\": 2000, \"pickle_path\": \"/mnt/wd500GB/CSC500/csc500-main/datasets/oracle.Run2_framed_2000Examples_stratified_ds.2022A.pkl\", \"source_or_target_dataset\": \"source\", \"x_transforms\": [], \"episode_transforms\": [], \"domain_prefix\": \"ORACLE.run2_\"}], \"domains_source\": [\"ORACLE.run2_32\", \"ORACLE.run2_38\", \"ORACLE.run2_8\", \"ORACLE.run2_44\", \"ORACLE.run2_14\", \"ORACLE.run2_50\", \"ORACLE.run2_20\", \"ORACLE.run2_26\"], \"domains_target\": [\"ORACLE.run1_32\", \"ORACLE.run1_38\", \"ORACLE.run1_8\", \"ORACLE.run1_44\", \"ORACLE.run1_14\", \"ORACLE.run1_50\", \"ORACLE.run1_20\", \"ORACLE.run1_26\"]}, \"results\": {\"source_test_label_accuracy\": 0.9423502604166667, \"source_test_label_loss\": 0.18263989686965942, \"target_test_label_accuracy\": 0.92734375, \"target_test_label_loss\": 0.2353132963180542, \"source_val_label_accuracy\": 0.94189453125, \"source_val_label_loss\": 0.18618105351924896, \"target_val_label_accuracy\": 0.9280598958333334, \"target_val_label_loss\": 0.2232031375169754, \"total_epochs_trained\": 13, \"total_experiment_time_secs\": 2442.9557604789734, \"confusion\": {\"ORACLE.run2_14\": {\"15\": {\"15\": 240}, \"3\": {\"3\": 239, \"2\": 1}, \"6\": {\"6\": 230, \"13\": 10}, \"1\": {\"1\": 240}, \"8\": {\"8\": 240}, \"10\": {\"10\": 240}, \"9\": {\"9\": 240}, \"13\": {\"13\": 220, \"6\": 20}, \"12\": {\"12\": 164, \"9\": 48, \"11\": 6, \"0\": 22}, \"5\": {\"5\": 230, \"2\": 9, \"4\": 1}, \"0\": {\"0\": 240}, \"2\": {\"14\": 48, \"2\": 149, \"5\": 33, \"3\": 9, \"9\": 1}, \"11\": {\"11\": 240}, \"14\": {\"5\": 1, \"14\": 218, \"2\": 19, \"0\": 2}, \"7\": {\"7\": 240}, \"4\": {\"4\": 240}}, \"ORACLE.run2_20\": {\"3\": {\"3\": 201, \"9\": 16, \"5\": 3, \"2\": 12, \"7\": 7, \"4\": 1}, \"15\": {\"15\": 231, \"13\": 3, \"9\": 1, \"5\": 1, \"3\": 1, \"2\": 3}, \"8\": {\"8\": 233, \"14\": 7}, \"4\": {\"3\": 1, \"4\": 239}, \"14\": {\"14\": 233, \"8\": 7}, \"0\": {\"0\": 240}, \"7\": {\"7\": 240}, \"6\": {\"6\": 240}, \"10\": {\"10\": 240}, \"5\": {\"5\": 195, \"0\": 15, \"15\": 5, \"3\": 1, \"2\": 21, \"7\": 2, \"1\": 1}, \"2\": {\"2\": 191, \"5\": 8, \"9\": 25, \"3\": 13, \"15\": 3}, \"12\": {\"12\": 240}, \"9\": {\"9\": 192, \"2\": 35, \"3\": 12, \"15\": 1}, \"1\": {\"1\": 238, \"5\": 1, \"9\": 1}, \"11\": {\"11\": 240}, \"13\": {\"13\": 238, \"12\": 2}}, \"ORACLE.run2_38\": {\"5\": {\"5\": 168, \"7\": 5, \"8\": 67}, \"8\": {\"8\": 218, \"5\": 21, \"7\": 1}, \"11\": {\"11\": 239, \"13\": 1}, \"1\": {\"1\": 234, \"15\": 6}, \"10\": {\"10\": 237, \"3\": 2, \"13\": 1}, \"15\": {\"1\": 33, \"15\": 201, \"5\": 3, \"6\": 3}, \"3\": {\"3\": 169, \"13\": 53, \"10\": 16, \"0\": 2}, \"7\": {\"7\": 238, \"8\": 1, \"0\": 1}, \"4\": {\"4\": 240}, \"14\": {\"14\": 181, \"7\": 13, \"2\": 43, \"12\": 1, \"4\": 1, \"8\": 1}, \"9\": {\"9\": 240}, \"12\": {\"12\": 240}, \"6\": {\"6\": 240}, \"2\": {\"2\": 236, \"14\": 4}, \"0\": {\"0\": 239, \"7\": 1}, \"13\": {\"13\": 198, \"3\": 36, \"10\": 6}}, \"ORACLE.run2_8\": {\"9\": {\"9\": 240}, \"10\": {\"10\": 236, \"5\": 4}, \"13\": {\"13\": 237, \"10\": 3}, \"0\": {\"0\": 240}, \"1\": {\"1\": 236, \"13\": 4}, \"15\": {\"15\": 238, \"12\": 2}, \"5\": {\"10\": 15, \"5\": 225}, \"3\": {\"3\": 240}, \"6\": {\"6\": 237, \"14\": 3}, \"11\": {\"11\": 200, \"8\": 40}, \"8\": {\"8\": 240}, \"4\": {\"4\": 212, \"6\": 5, \"7\": 23}, \"12\": {\"12\": 237, \"15\": 3}, \"14\": {\"14\": 233, \"6\": 7}, \"2\": {\"2\": 240}, \"7\": {\"7\": 221, \"4\": 19}}, \"ORACLE.run2_50\": {\"7\": {\"7\": 236, \"5\": 4}, \"3\": {\"3\": 238, \"5\": 1, \"7\": 1}, \"8\": {\"8\": 240}, \"2\": {\"2\": 239, \"0\": 1}, \"14\": {\"14\": 240}, \"4\": {\"4\": 194, \"5\": 46}, \"6\": {\"6\": 235, \"5\": 4, \"4\": 1}, \"15\": {\"15\": 237, \"5\": 1, \"4\": 1, \"6\": 1}, \"10\": {\"10\": 239, \"13\": 1}, \"11\": {\"11\": 239, \"12\": 1}, \"13\": {\"13\": 240}, \"9\": {\"9\": 239, \"12\": 1}, \"0\": {\"0\": 236, \"2\": 3, \"10\": 1}, \"1\": {\"1\": 240}, \"12\": {\"12\": 240}, \"5\": {\"6\": 13, \"5\": 166, \"4\": 54, \"7\": 7}}, \"ORACLE.run2_32\": {\"8\": {\"8\": 229, \"0\": 10, \"14\": 1}, \"14\": {\"14\": 232, \"2\": 2, \"5\": 1, \"0\": 5}, \"2\": {\"2\": 237, \"7\": 3}, \"0\": {\"0\": 226, \"8\": 8, \"4\": 2, \"7\": 2, \"14\": 2}, \"1\": {\"1\": 239, \"10\": 1}, \"10\": {\"10\": 240}, \"11\": {\"11\": 220, \"0\": 6, \"4\": 8, \"13\": 4, \"7\": 2}, \"5\": {\"5\": 229, \"7\": 2, \"2\": 4, \"14\": 4, \"8\": 1}, \"15\": {\"15\": 240}, \"3\": {\"3\": 236, \"13\": 4}, \"12\": {\"12\": 240}, \"7\": {\"7\": 236, \"2\": 3, \"0\": 1}, \"13\": {\"13\": 222, \"11\": 6, \"4\": 6, \"3\": 6}, \"6\": {\"6\": 240}, \"4\": {\"4\": 230, \"0\": 4, \"11\": 1, \"7\": 1, \"13\": 4}, \"9\": {\"9\": 240}}, \"ORACLE.run2_26\": {\"4\": {\"4\": 240}, \"12\": {\"12\": 240}, \"10\": {\"10\": 112, \"8\": 20, \"0\": 65, \"14\": 36, \"1\": 1, \"15\": 3, \"6\": 3}, \"0\": {\"10\": 39, \"0\": 173, \"14\": 24, \"15\": 1, \"8\": 3}, \"13\": {\"13\": 237, \"9\": 3}, \"9\": {\"9\": 233, \"13\": 5, \"8\": 2}, \"3\": {\"3\": 232, \"7\": 8}, \"2\": {\"2\": 211, \"8\": 21, \"9\": 1, \"7\": 6, \"15\": 1}, \"5\": {\"5\": 231, \"15\": 2, \"6\": 7}, \"14\": {\"14\": 189, \"10\": 14, \"0\": 32, \"1\": 5}, \"8\": {\"8\": 219, \"2\": 15, \"10\": 2, \"9\": 2, \"7\": 2}, \"7\": {\"7\": 182, \"2\": 36, \"3\": 17, \"8\": 4, \"13\": 1}, \"6\": {\"6\": 240}, \"11\": {\"11\": 240}, \"15\": {\"15\": 238, \"2\": 2}, \"1\": {\"1\": 239, \"14\": 1}}, \"ORACLE.run2_44\": {\"12\": {\"12\": 231, \"3\": 9}, \"7\": {\"9\": 62, \"7\": 177, \"6\": 1}, \"5\": {\"5\": 235, \"14\": 3, \"15\": 2}, \"15\": {\"15\": 236, \"5\": 2, \"8\": 2}, \"8\": {\"8\": 214, \"0\": 25, \"15\": 1}, \"2\": {\"2\": 240}, \"13\": {\"13\": 233, \"6\": 4, \"4\": 3}, \"4\": {\"4\": 232, \"14\": 8}, \"0\": {\"0\": 197, \"8\": 43}, \"6\": {\"6\": 238, \"7\": 2}, \"9\": {\"9\": 167, \"7\": 73}, \"11\": {\"11\": 238, \"13\": 2}, \"10\": {\"10\": 240}, \"14\": {\"14\": 224, \"4\": 15, \"15\": 1}, \"1\": {\"1\": 240}, \"3\": {\"3\": 232, \"12\": 8}}, \"ORACLE.run1_14\": {\"15\": {\"15\": 240}, \"3\": {\"3\": 239, \"2\": 1}, \"6\": {\"6\": 155, \"13\": 74, \"2\": 8, \"14\": 3}, \"1\": {\"1\": 240}, \"8\": {\"8\": 240}, \"10\": {\"10\": 240}, \"9\": {\"9\": 240}, \"13\": {\"13\": 89, \"14\": 42, \"2\": 9, \"6\": 78, \"15\": 20, \"10\": 2}, \"12\": {\"12\": 240}, \"5\": {\"5\": 226, \"3\": 2, \"4\": 10, \"2\": 2}, \"0\": {\"0\": 236, \"3\": 4}, \"2\": {\"2\": 135, \"6\": 15, \"14\": 48, \"5\": 24, \"13\": 11, \"3\": 5, \"4\": 2}, \"11\": {\"11\": 240}, \"14\": {\"14\": 226, \"2\": 12, \"13\": 2}, \"7\": {\"7\": 240}, \"4\": {\"4\": 238, \"5\": 2}}, \"ORACLE.run1_20\": {\"3\": {\"3\": 226, \"1\": 7, \"9\": 7}, \"15\": {\"15\": 230, \"12\": 4, \"1\": 5, \"13\": 1}, \"8\": {\"8\": 240}, \"4\": {\"4\": 240}, \"14\": {\"14\": 239, \"6\": 1}, \"0\": {\"0\": 238, \"5\": 2}, \"7\": {\"7\": 234, \"9\": 3, \"2\": 3}, \"6\": {\"6\": 240}, \"10\": {\"10\": 240}, \"5\": {\"5\": 237, \"1\": 3}, \"2\": {\"2\": 208, \"9\": 6, \"7\": 8, \"12\": 17, \"1\": 1}, \"12\": {\"12\": 230, \"2\": 10}, \"9\": {\"9\": 230, \"3\": 6, \"2\": 3, \"1\": 1}, \"1\": {\"1\": 230, \"5\": 6, \"15\": 1, \"3\": 3}, \"11\": {\"11\": 240}, \"13\": {\"13\": 240}}, \"ORACLE.run1_38\": {\"5\": {\"8\": 76, \"5\": 138, \"7\": 10, \"9\": 8, \"15\": 6, \"0\": 1, \"13\": 1}, \"8\": {\"8\": 170, \"7\": 11, \"5\": 52, \"0\": 2, \"15\": 5}, \"11\": {\"11\": 237, \"3\": 3}, \"1\": {\"1\": 240}, \"10\": {\"10\": 233, \"13\": 7}, \"15\": {\"15\": 237, \"8\": 1, \"1\": 1, \"5\": 1}, \"3\": {\"3\": 240}, \"7\": {\"7\": 239, \"8\": 1}, \"4\": {\"4\": 240}, \"14\": {\"14\": 233, \"2\": 7}, \"9\": {\"9\": 239, \"5\": 1}, \"12\": {\"12\": 240}, \"6\": {\"6\": 240}, \"2\": {\"2\": 232, \"14\": 8}, \"0\": {\"13\": 10, \"8\": 4, \"0\": 196, \"7\": 10, \"3\": 7, \"10\": 11, \"5\": 1, \"11\": 1}, \"13\": {\"13\": 234, \"0\": 1, \"10\": 3, \"2\": 2}}, \"ORACLE.run1_8\": {\"9\": {\"9\": 240}, \"10\": {\"10\": 226, \"13\": 14}, \"13\": {\"13\": 216, \"10\": 22, \"7\": 1, \"6\": 1}, \"0\": {\"0\": 240}, \"1\": {\"1\": 238, \"5\": 1, \"11\": 1}, \"15\": {\"15\": 222, \"12\": 18}, \"5\": {\"5\": 222, \"10\": 8, \"1\": 10}, \"3\": {\"3\": 240}, \"6\": {\"6\": 231, \"7\": 9}, \"11\": {\"11\": 231, \"1\": 8, \"5\": 1}, \"8\": {\"8\": 240}, \"4\": {\"4\": 238, \"14\": 2}, \"12\": {\"12\": 182, \"15\": 58}, \"14\": {\"14\": 211, \"4\": 28, \"1\": 1}, \"2\": {\"2\": 214, \"3\": 24, \"12\": 2}, \"7\": {\"7\": 234, \"6\": 6}}, \"ORACLE.run1_50\": {\"7\": {\"7\": 237, \"5\": 3}, \"3\": {\"3\": 240}, \"8\": {\"8\": 240}, \"2\": {\"2\": 231, \"0\": 9}, \"14\": {\"14\": 240}, \"4\": {\"4\": 213, \"5\": 19, \"15\": 2, \"6\": 1, \"7\": 5}, \"6\": {\"6\": 232, \"15\": 3, \"5\": 5}, \"15\": {\"15\": 238, \"6\": 2}, \"10\": {\"10\": 237, \"8\": 2, \"0\": 1}, \"11\": {\"11\": 235, \"12\": 4, \"15\": 1}, \"13\": {\"13\": 240}, \"9\": {\"9\": 224, \"12\": 5, \"11\": 11}, \"0\": {\"0\": 221, \"10\": 4, \"2\": 15}, \"1\": {\"1\": 240}, \"12\": {\"12\": 240}, \"5\": {\"5\": 149, \"4\": 18, \"7\": 42, \"15\": 6, \"13\": 14, \"6\": 9, \"1\": 2}}, \"ORACLE.run1_32\": {\"8\": {\"8\": 227, \"0\": 11, \"14\": 2}, \"14\": {\"14\": 215, \"0\": 13, \"7\": 6, \"4\": 2, \"5\": 3, \"8\": 1}, \"2\": {\"2\": 217, \"4\": 23}, \"0\": {\"0\": 222, \"8\": 14, \"14\": 4}, \"1\": {\"1\": 239, \"10\": 1}, \"10\": {\"10\": 240}, \"11\": {\"11\": 240}, \"5\": {\"7\": 63, \"5\": 170, \"8\": 6, \"14\": 1}, \"15\": {\"15\": 240}, \"3\": {\"3\": 231, \"13\": 9}, \"12\": {\"12\": 240}, \"7\": {\"7\": 212, \"5\": 22, \"14\": 3, \"0\": 3}, \"13\": {\"13\": 200, \"3\": 25, \"4\": 15}, \"6\": {\"6\": 240}, \"4\": {\"2\": 14, \"4\": 225, \"13\": 1}, \"9\": {\"9\": 240}}, \"ORACLE.run1_26\": {\"4\": {\"4\": 240}, \"12\": {\"12\": 240}, \"10\": {\"14\": 24, \"10\": 190, \"15\": 2, \"0\": 22, \"6\": 2}, \"0\": {\"0\": 170, \"14\": 22, \"10\": 48}, \"13\": {\"2\": 11, \"13\": 223, \"9\": 6}, \"9\": {\"9\": 229, \"2\": 3, \"7\": 3, \"15\": 2, \"8\": 1, \"13\": 2}, \"3\": {\"3\": 231, \"7\": 5, \"2\": 4}, \"2\": {\"2\": 184, \"3\": 18, \"7\": 27, \"8\": 4, \"9\": 4, \"0\": 1, \"15\": 2}, \"5\": {\"5\": 230, \"15\": 10}, \"14\": {\"14\": 203, \"10\": 24, \"1\": 4, \"0\": 8, \"6\": 1}, \"8\": {\"8\": 206, \"7\": 29, \"9\": 4, \"2\": 1}, \"7\": {\"7\": 215, \"8\": 16, \"2\": 9}, \"6\": {\"6\": 229, \"15\": 9, \"10\": 2}, \"11\": {\"11\": 240}, \"15\": {\"15\": 213, \"6\": 17, \"5\": 8, \"10\": 2}, \"1\": {\"1\": 225, \"14\": 15}}, \"ORACLE.run1_44\": {\"12\": {\"12\": 239, \"3\": 1}, \"7\": {\"7\": 224, \"9\": 16}, \"5\": {\"5\": 222, \"14\": 9, \"15\": 9}, \"15\": {\"15\": 231, \"5\": 1, \"14\": 4, \"8\": 3, \"0\": 1}, \"8\": {\"0\": 43, \"8\": 186, \"15\": 6, \"5\": 5}, \"2\": {\"2\": 234, \"1\": 6}, \"13\": {\"13\": 205, \"6\": 30, \"9\": 5}, \"4\": {\"4\": 162, \"14\": 78}, \"0\": {\"0\": 225, \"8\": 15}, \"6\": {\"6\": 214, \"13\": 16, \"9\": 10}, \"9\": {\"7\": 76, \"9\": 112, \"13\": 30, \"6\": 19, \"4\": 2, \"2\": 1}, \"11\": {\"11\": 240}, \"10\": {\"10\": 225, \"2\": 5, \"1\": 9, \"7\": 1}, \"14\": {\"4\": 55, \"14\": 176, \"15\": 7, \"5\": 2}, \"1\": {\"1\": 235, \"2\": 5}, \"3\": {\"3\": 238, \"12\": 2}}}, \"per_domain_accuracy\": {\"ORACLE.run2_14\": {\"accuracy\": 0.9401041666666666, \"source?\": true}, \"ORACLE.run2_20\": {\"accuracy\": 0.9455729166666667, \"source?\": true}, \"ORACLE.run2_38\": {\"accuracy\": 0.9161458333333333, \"source?\": true}, \"ORACLE.run2_8\": {\"accuracy\": 0.9666666666666667, \"source?\": true}, \"ORACLE.run2_50\": {\"accuracy\": 0.9630208333333333, \"source?\": true}, \"ORACLE.run2_32\": {\"accuracy\": 0.9729166666666667, \"source?\": true}, \"ORACLE.run2_26\": {\"accuracy\": 0.9, \"source?\": true}, \"ORACLE.run2_44\": {\"accuracy\": 0.9307291666666667, \"source?\": true}, \"ORACLE.run1_14\": {\"accuracy\": 0.9020833333333333, \"source?\": false}, \"ORACLE.run1_20\": {\"accuracy\": 0.9744791666666667, \"source?\": false}, \"ORACLE.run1_38\": {\"accuracy\": 0.934375, \"source?\": false}, \"ORACLE.run1_8\": {\"accuracy\": 0.9440104166666666, \"source?\": false}, \"ORACLE.run1_50\": {\"accuracy\": 0.95234375, \"source?\": false}, \"ORACLE.run1_32\": {\"accuracy\": 0.9369791666666667, \"source?\": false}, \"ORACLE.run1_26\": {\"accuracy\": 0.903125, \"source?\": false}, \"ORACLE.run1_44\": {\"accuracy\": 0.8770833333333333, \"source?\": false}}}, \"history\": {\"epoch_indices\": [1, 2, 3, 4, 5, 6, 7, 8, 9, 10, 11, 12, 13], \"train_label_loss\": [0.3642082360708931, 32.45977188624327, 0.3777955949283274, 0.2702390307042238, 0.23637712448239437, 0.21562855275378318, 0.20441070804116038, 0.19406934821478597, 0.18270599203121188, 0.18480823130161125, 0.17871849688906097, 0.1754198591229007, 0.1721327498623612], \"source_val_label_loss\": [6590.3154296875, 0.3644488751888275, 0.29509851336479187, 0.27713868021965027, 0.22508534789085388, 0.21216577291488647, 0.19214972853660583, 0.21422265470027924, 0.18618105351924896, 0.20338593423366547, 0.1882990151643753, 0.20824721455574036, 0.1891578882932663], \"target_val_label_loss\": [6688.0869140625, 0.3510909974575043, 0.2987000346183777, 0.2897903025150299, 0.25785282254219055, 0.24832700192928314, 0.2318331003189087, 0.2429881989955902, 0.2232031375169754, 0.24222050607204437, 0.2315264195203781, 0.24776418507099152, 0.23884965479373932], \"source_val_acc_label\": [0.63447265625, 0.9156575520833333, 0.9075520833333334, 0.9230794270833333, 0.9323893229166667, 0.93505859375, 0.9414713541666667, 0.9315755208333333, 0.94189453125, 0.9342447916666666, 0.9414713541666667, 0.9333658854166667, 0.9406901041666667], \"target_val_acc_label\": [0.6353841145833333, 0.9037109375, 0.8998046875, 0.9128580729166667, 0.9172526041666667, 0.9197265625, 0.9259440104166666, 0.9180013020833333, 0.9280598958333334, 0.92001953125, 0.9268880208333333, 0.9200520833333333, 0.925]}, \"dataset_metrics\": {\"source\": {\"train\": {\"n_unique_x\": 179200, \"n_unique_y\": 16, \"n_batch/episode\": 6720}, \"val\": {\"n_unique_x\": 38400, \"n_unique_y\": 16, \"n_batch/episode\": 960}, \"test\": {\"n_unique_x\": 38400, \"n_unique_y\": 16, \"n_batch/episode\": 960}}, \"target\": {\"train\": {\"n_unique_x\": 179200, \"n_unique_y\": 16, \"n_batch/episode\": 6720}, \"val\": {\"n_unique_x\": 38400, \"n_unique_y\": 16, \"n_batch/episode\": 960}, \"test\": {\"n_unique_x\": 38400, \"n_unique_y\": 16, \"n_batch/episode\": 960}}}}'"
      ]
     },
     "execution_count": 29,
     "metadata": {},
     "output_type": "execute_result"
    }
   ],
   "source": [
    "json.dumps(experiment)"
   ]
  }
 ],
 "metadata": {
  "celltoolbar": "Tags",
  "kernelspec": {
   "display_name": "Python 3 (ipykernel)",
   "language": "python",
   "name": "python3"
  },
  "language_info": {
   "codemirror_mode": {
    "name": "ipython",
    "version": 3
   },
   "file_extension": ".py",
   "mimetype": "text/x-python",
   "name": "python",
   "nbconvert_exporter": "python",
   "pygments_lexer": "ipython3",
   "version": "3.8.10"
  },
  "papermill": {
   "default_parameters": {},
   "duration": 2545.746789,
   "end_time": "2022-03-07T06:41:05.668227",
   "environment_variables": {},
   "exception": null,
   "input_path": "/mnt/wd500GB/CSC500/csc500-main/csc500-notebooks/templates/tl_ptn_template.ipynb",
   "output_path": "trial.ipynb",
   "parameters": {
    "parameters": {
     "BEST_MODEL_PATH": "./best_model.pth",
     "NUM_LOGS_PER_EPOCH": 10,
     "criteria_for_best": "target_loss",
     "dataset_seed": 1337,
     "datasets": [
      {
       "domain_prefix": "ORACLE.run1_",
       "domains": [
        32,
        38,
        8,
        44,
        14,
        50,
        20,
        26
       ],
       "episode_transforms": [],
       "labels": [
        "3123D52",
        "3123D65",
        "3123D79",
        "3123D80",
        "3123D54",
        "3123D70",
        "3123D7B",
        "3123D89",
        "3123D58",
        "3123D76",
        "3123D7D",
        "3123EFE",
        "3123D64",
        "3123D78",
        "3123D7E",
        "3124E4A"
       ],
       "num_examples_per_domain_per_label": 2000,
       "pickle_path": "/mnt/wd500GB/CSC500/csc500-main/datasets/oracle.Run1_framed_2000Examples_stratified_ds.2022A.pkl",
       "source_or_target_dataset": "target",
       "x_transforms": []
      },
      {
       "domain_prefix": "ORACLE.run2_",
       "domains": [
        32,
        38,
        8,
        44,
        14,
        50,
        20,
        26
       ],
       "episode_transforms": [],
       "labels": [
        "3123D52",
        "3123D65",
        "3123D79",
        "3123D80",
        "3123D54",
        "3123D70",
        "3123D7B",
        "3123D89",
        "3123D58",
        "3123D76",
        "3123D7D",
        "3123EFE",
        "3123D64",
        "3123D78",
        "3123D7E",
        "3124E4A"
       ],
       "num_examples_per_domain_per_label": 2000,
       "pickle_path": "/mnt/wd500GB/CSC500/csc500-main/datasets/oracle.Run2_framed_2000Examples_stratified_ds.2022A.pkl",
       "source_or_target_dataset": "source",
       "x_transforms": []
      }
     ],
     "device": "cuda",
     "experiment_name": "tl_1_oracle.run1-oracle.run2",
     "lr": 0.001,
     "n_epoch": 50,
     "n_query": 2,
     "n_shot": 3,
     "n_way": 16,
     "patience": 3,
     "seed": 1337,
     "test_k_factor": 2,
     "torch_default_dtype": "torch.float32",
     "train_k_factor": 3,
     "val_k_factor": 2,
     "x_net": [
      {
       "class": "nnReshape",
       "kargs": {
        "shape": [
         -1,
         1,
         2,
         256
        ]
       }
      },
      {
       "class": "Conv2d",
       "kargs": {
        "bias": false,
        "in_channels": 1,
        "kernel_size": [
         1,
         7
        ],
        "out_channels": 256,
        "padding": [
         0,
         3
        ]
       }
      },
      {
       "class": "ReLU",
       "kargs": {
        "inplace": true
       }
      },
      {
       "class": "BatchNorm2d",
       "kargs": {
        "num_features": 256
       }
      },
      {
       "class": "Conv2d",
       "kargs": {
        "bias": true,
        "in_channels": 256,
        "kernel_size": [
         2,
         7
        ],
        "out_channels": 80,
        "padding": [
         0,
         3
        ]
       }
      },
      {
       "class": "ReLU",
       "kargs": {
        "inplace": true
       }
      },
      {
       "class": "BatchNorm2d",
       "kargs": {
        "num_features": 80
       }
      },
      {
       "class": "Flatten",
       "kargs": {}
      },
      {
       "class": "Linear",
       "kargs": {
        "in_features": 20480,
        "out_features": 256
       }
      },
      {
       "class": "ReLU",
       "kargs": {
        "inplace": true
       }
      },
      {
       "class": "BatchNorm1d",
       "kargs": {
        "num_features": 256
       }
      },
      {
       "class": "Linear",
       "kargs": {
        "in_features": 256,
        "out_features": 256
       }
      }
     ]
    }
   },
   "start_time": "2022-03-07T05:58:39.921438",
   "version": "2.3.4"
  }
 },
 "nbformat": 4,
 "nbformat_minor": 5
}