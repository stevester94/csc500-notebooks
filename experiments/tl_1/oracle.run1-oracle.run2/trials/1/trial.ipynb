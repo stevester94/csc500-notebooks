{
 "cells": [
  {
   "cell_type": "markdown",
   "id": "9fea5f46",
   "metadata": {
    "papermill": {
     "duration": 0.017138,
     "end_time": "2022-03-10T09:40:11.063001",
     "exception": false,
     "start_time": "2022-03-10T09:40:11.045863",
     "status": "completed"
    },
    "tags": []
   },
   "source": [
    "# Transfer Learning Template"
   ]
  },
  {
   "cell_type": "code",
   "execution_count": 1,
   "id": "0902182a",
   "metadata": {
    "execution": {
     "iopub.execute_input": "2022-03-10T09:40:11.096897Z",
     "iopub.status.busy": "2022-03-10T09:40:11.096504Z",
     "iopub.status.idle": "2022-03-10T09:40:12.362682Z",
     "shell.execute_reply": "2022-03-10T09:40:12.362372Z"
    },
    "papermill": {
     "duration": 1.287468,
     "end_time": "2022-03-10T09:40:12.362746",
     "exception": false,
     "start_time": "2022-03-10T09:40:11.075278",
     "status": "completed"
    },
    "tags": []
   },
   "outputs": [],
   "source": [
    "%load_ext autoreload\n",
    "%autoreload 2\n",
    "%matplotlib inline\n",
    "\n",
    "    \n",
    "import os, json, sys, time, random\n",
    "import numpy as np\n",
    "import torch\n",
    "from torch.optim import Adam\n",
    "from  easydict import EasyDict\n",
    "import matplotlib.pyplot as plt\n",
    "\n",
    "from steves_models.steves_ptn import Steves_Prototypical_Network\n",
    "\n",
    "from steves_utils.lazy_iterable_wrapper import Lazy_Iterable_Wrapper\n",
    "from steves_utils.iterable_aggregator import Iterable_Aggregator\n",
    "from steves_utils.ptn_train_eval_test_jig import  PTN_Train_Eval_Test_Jig\n",
    "from steves_utils.torch_sequential_builder import build_sequential\n",
    "from steves_utils.torch_utils import get_dataset_metrics, ptn_confusion_by_domain_over_dataloader\n",
    "from steves_utils.utils_v2 import (per_domain_accuracy_from_confusion, get_datasets_base_path)\n",
    "from steves_utils.PTN.utils import independent_accuracy_assesment\n",
    "\n",
    "from torch.utils.data import DataLoader\n",
    "\n",
    "from steves_utils.stratified_dataset.episodic_accessor import Episodic_Accessor_Factory\n",
    "\n",
    "from steves_utils.ptn_do_report import (\n",
    "    get_loss_curve,\n",
    "    get_results_table,\n",
    "    get_parameters_table,\n",
    "    get_domain_accuracies,\n",
    ")\n",
    "\n",
    "from steves_utils.transforms import get_chained_transform"
   ]
  },
  {
   "cell_type": "markdown",
   "id": "41c840b4",
   "metadata": {
    "papermill": {
     "duration": 0.012709,
     "end_time": "2022-03-10T09:40:12.388604",
     "exception": false,
     "start_time": "2022-03-10T09:40:12.375895",
     "status": "completed"
    },
    "tags": []
   },
   "source": [
    "# Allowed Parameters\n",
    "These are allowed parameters, not defaults\n",
    "Each of these values need to be present in the injected parameters (the notebook will raise an exception if they are not present)\n",
    "\n",
    "Papermill uses the cell tag \"parameters\" to inject the real parameters below this cell.\n",
    "Enable tags to see what I mean"
   ]
  },
  {
   "cell_type": "code",
   "execution_count": 2,
   "id": "fd44eb83",
   "metadata": {
    "execution": {
     "iopub.execute_input": "2022-03-10T09:40:12.417494Z",
     "iopub.status.busy": "2022-03-10T09:40:12.416922Z",
     "iopub.status.idle": "2022-03-10T09:40:12.432041Z",
     "shell.execute_reply": "2022-03-10T09:40:12.431794Z"
    },
    "papermill": {
     "duration": 0.030777,
     "end_time": "2022-03-10T09:40:12.432089",
     "exception": false,
     "start_time": "2022-03-10T09:40:12.401312",
     "status": "completed"
    },
    "tags": []
   },
   "outputs": [],
   "source": [
    "required_parameters = {\n",
    "    \"experiment_name\",\n",
    "    \"lr\",\n",
    "    \"device\",\n",
    "    \"seed\",\n",
    "    \"dataset_seed\",\n",
    "    \"n_shot\",\n",
    "    \"n_query\",\n",
    "    \"n_way\",\n",
    "    \"train_k_factor\",\n",
    "    \"val_k_factor\",\n",
    "    \"test_k_factor\",\n",
    "    \"n_epoch\",\n",
    "    \"patience\",\n",
    "    \"criteria_for_best\",\n",
    "    \"x_net\",\n",
    "    \"datasets\",\n",
    "    \"torch_default_dtype\",\n",
    "    \"NUM_LOGS_PER_EPOCH\",\n",
    "    \"BEST_MODEL_PATH\",\n",
    "}"
   ]
  },
  {
   "cell_type": "code",
   "execution_count": 3,
   "id": "fa3f0049",
   "metadata": {
    "execution": {
     "iopub.execute_input": "2022-03-10T09:40:12.466339Z",
     "iopub.status.busy": "2022-03-10T09:40:12.458673Z",
     "iopub.status.idle": "2022-03-10T09:40:12.478255Z",
     "shell.execute_reply": "2022-03-10T09:40:12.478005Z"
    },
    "papermill": {
     "duration": 0.033317,
     "end_time": "2022-03-10T09:40:12.478303",
     "exception": false,
     "start_time": "2022-03-10T09:40:12.444986",
     "status": "completed"
    },
    "tags": [
     "parameters"
    ]
   },
   "outputs": [],
   "source": [
    "from steves_utils.CORES.utils import (\n",
    "    ALL_NODES,\n",
    "    ALL_NODES_MINIMUM_1000_EXAMPLES,\n",
    "    ALL_DAYS\n",
    ")\n",
    "\n",
    "from steves_utils.ORACLE.utils_v2 import (\n",
    "    ALL_DISTANCES_FEET_NARROWED,\n",
    "    ALL_RUNS,\n",
    "    ALL_SERIAL_NUMBERS,\n",
    ")\n",
    "\n",
    "standalone_parameters = {}\n",
    "standalone_parameters[\"experiment_name\"] = \"STANDALONE PTN\"\n",
    "standalone_parameters[\"lr\"] = 0.001\n",
    "standalone_parameters[\"device\"] = \"cuda\"\n",
    "\n",
    "standalone_parameters[\"seed\"] = 1337\n",
    "standalone_parameters[\"dataset_seed\"] = 1337\n",
    "\n",
    "standalone_parameters[\"n_way\"] = 8\n",
    "standalone_parameters[\"n_shot\"] = 3\n",
    "standalone_parameters[\"n_query\"]  = 2\n",
    "standalone_parameters[\"train_k_factor\"] = 1\n",
    "standalone_parameters[\"val_k_factor\"] = 2\n",
    "standalone_parameters[\"test_k_factor\"] = 2\n",
    "\n",
    "\n",
    "standalone_parameters[\"n_epoch\"] = 50\n",
    "\n",
    "standalone_parameters[\"patience\"] = 10\n",
    "standalone_parameters[\"criteria_for_best\"] = \"source_loss\"\n",
    "\n",
    "standalone_parameters[\"datasets\"] = [\n",
    "    {\n",
    "        \"labels\": ALL_SERIAL_NUMBERS,\n",
    "        \"domains\": ALL_DISTANCES_FEET_NARROWED,\n",
    "        \"num_examples_per_domain_per_label\": 100,\n",
    "        \"pickle_path\": os.path.join(get_datasets_base_path(), \"oracle.Run1_framed_2000Examples_stratified_ds.2022A.pkl\"),\n",
    "        \"source_or_target_dataset\": \"source\",\n",
    "        \"x_transforms\": [\"unit_mag\", \"minus_two\"],\n",
    "        \"episode_transforms\": [],\n",
    "        \"domain_prefix\": \"ORACLE_\"\n",
    "    },\n",
    "    {\n",
    "        \"labels\": ALL_NODES,\n",
    "        \"domains\": ALL_DAYS,\n",
    "        \"num_examples_per_domain_per_label\": 100,\n",
    "        \"pickle_path\": os.path.join(get_datasets_base_path(), \"cores.stratified_ds.2022A.pkl\"),\n",
    "        \"source_or_target_dataset\": \"target\",\n",
    "        \"x_transforms\": [\"unit_power\", \"times_zero\"],\n",
    "        \"episode_transforms\": [],\n",
    "        \"domain_prefix\": \"CORES_\"\n",
    "    }   \n",
    "]\n",
    "\n",
    "standalone_parameters[\"torch_default_dtype\"] = \"torch.float32\" \n",
    "\n",
    "\n",
    "\n",
    "standalone_parameters[\"x_net\"] =     [\n",
    "    {\"class\": \"nnReshape\", \"kargs\": {\"shape\":[-1, 1, 2, 256]}},\n",
    "    {\"class\": \"Conv2d\", \"kargs\": { \"in_channels\":1, \"out_channels\":256, \"kernel_size\":(1,7), \"bias\":False, \"padding\":(0,3), },},\n",
    "    {\"class\": \"ReLU\", \"kargs\": {\"inplace\": True}},\n",
    "    {\"class\": \"BatchNorm2d\", \"kargs\": {\"num_features\":256}},\n",
    "\n",
    "    {\"class\": \"Conv2d\", \"kargs\": { \"in_channels\":256, \"out_channels\":80, \"kernel_size\":(2,7), \"bias\":True, \"padding\":(0,3), },},\n",
    "    {\"class\": \"ReLU\", \"kargs\": {\"inplace\": True}},\n",
    "    {\"class\": \"BatchNorm2d\", \"kargs\": {\"num_features\":80}},\n",
    "    {\"class\": \"Flatten\", \"kargs\": {}},\n",
    "\n",
    "    {\"class\": \"Linear\", \"kargs\": {\"in_features\": 80*256, \"out_features\": 256}}, # 80 units per IQ pair\n",
    "    {\"class\": \"ReLU\", \"kargs\": {\"inplace\": True}},\n",
    "    {\"class\": \"BatchNorm1d\", \"kargs\": {\"num_features\":256}},\n",
    "\n",
    "    {\"class\": \"Linear\", \"kargs\": {\"in_features\": 256, \"out_features\": 256}},\n",
    "]\n",
    "\n",
    "# Parameters relevant to results\n",
    "# These parameters will basically never need to change\n",
    "standalone_parameters[\"NUM_LOGS_PER_EPOCH\"] = 10\n",
    "standalone_parameters[\"BEST_MODEL_PATH\"] = \"./best_model.pth\"\n",
    "\n",
    "\n",
    "\n",
    "\n"
   ]
  },
  {
   "cell_type": "code",
   "execution_count": 4,
   "id": "f84a5568",
   "metadata": {
    "execution": {
     "iopub.execute_input": "2022-03-10T09:40:12.512104Z",
     "iopub.status.busy": "2022-03-10T09:40:12.511827Z",
     "iopub.status.idle": "2022-03-10T09:40:12.523256Z",
     "shell.execute_reply": "2022-03-10T09:40:12.523011Z"
    },
    "papermill": {
     "duration": 0.032608,
     "end_time": "2022-03-10T09:40:12.523305",
     "exception": false,
     "start_time": "2022-03-10T09:40:12.490697",
     "status": "completed"
    },
    "tags": [
     "injected-parameters"
    ]
   },
   "outputs": [],
   "source": [
    "# Parameters\n",
    "parameters = {\n",
    "    \"experiment_name\": \"tl_1_oracle.run1-oracle.run2\",\n",
    "    \"device\": \"cuda\",\n",
    "    \"lr\": 0.001,\n",
    "    \"seed\": 1337,\n",
    "    \"dataset_seed\": 1337,\n",
    "    \"n_shot\": 3,\n",
    "    \"n_query\": 2,\n",
    "    \"train_k_factor\": 3,\n",
    "    \"val_k_factor\": 2,\n",
    "    \"test_k_factor\": 2,\n",
    "    \"torch_default_dtype\": \"torch.float32\",\n",
    "    \"n_epoch\": 50,\n",
    "    \"patience\": 3,\n",
    "    \"criteria_for_best\": \"target_loss\",\n",
    "    \"x_net\": [\n",
    "        {\"class\": \"nnReshape\", \"kargs\": {\"shape\": [-1, 1, 2, 256]}},\n",
    "        {\n",
    "            \"class\": \"Conv2d\",\n",
    "            \"kargs\": {\n",
    "                \"in_channels\": 1,\n",
    "                \"out_channels\": 256,\n",
    "                \"kernel_size\": [1, 7],\n",
    "                \"bias\": False,\n",
    "                \"padding\": [0, 3],\n",
    "            },\n",
    "        },\n",
    "        {\"class\": \"ReLU\", \"kargs\": {\"inplace\": True}},\n",
    "        {\"class\": \"BatchNorm2d\", \"kargs\": {\"num_features\": 256}},\n",
    "        {\n",
    "            \"class\": \"Conv2d\",\n",
    "            \"kargs\": {\n",
    "                \"in_channels\": 256,\n",
    "                \"out_channels\": 80,\n",
    "                \"kernel_size\": [2, 7],\n",
    "                \"bias\": True,\n",
    "                \"padding\": [0, 3],\n",
    "            },\n",
    "        },\n",
    "        {\"class\": \"ReLU\", \"kargs\": {\"inplace\": True}},\n",
    "        {\"class\": \"BatchNorm2d\", \"kargs\": {\"num_features\": 80}},\n",
    "        {\"class\": \"Flatten\", \"kargs\": {}},\n",
    "        {\"class\": \"Linear\", \"kargs\": {\"in_features\": 20480, \"out_features\": 256}},\n",
    "        {\"class\": \"ReLU\", \"kargs\": {\"inplace\": True}},\n",
    "        {\"class\": \"BatchNorm1d\", \"kargs\": {\"num_features\": 256}},\n",
    "        {\"class\": \"Linear\", \"kargs\": {\"in_features\": 256, \"out_features\": 256}},\n",
    "    ],\n",
    "    \"NUM_LOGS_PER_EPOCH\": 10,\n",
    "    \"BEST_MODEL_PATH\": \"./best_model.pth\",\n",
    "    \"n_way\": 16,\n",
    "    \"datasets\": [\n",
    "        {\n",
    "            \"labels\": [\n",
    "                \"3123D52\",\n",
    "                \"3123D65\",\n",
    "                \"3123D79\",\n",
    "                \"3123D80\",\n",
    "                \"3123D54\",\n",
    "                \"3123D70\",\n",
    "                \"3123D7B\",\n",
    "                \"3123D89\",\n",
    "                \"3123D58\",\n",
    "                \"3123D76\",\n",
    "                \"3123D7D\",\n",
    "                \"3123EFE\",\n",
    "                \"3123D64\",\n",
    "                \"3123D78\",\n",
    "                \"3123D7E\",\n",
    "                \"3124E4A\",\n",
    "            ],\n",
    "            \"domains\": [32, 38, 8, 44, 14, 50, 20, 26],\n",
    "            \"num_examples_per_domain_per_label\": 10000,\n",
    "            \"pickle_path\": \"/mnt/wd500GB/CSC500/csc500-main/datasets/oracle.Run1_10kExamples_stratified_ds.2022A.pkl\",\n",
    "            \"source_or_target_dataset\": \"source\",\n",
    "            \"x_transforms\": [\"unit_mag\"],\n",
    "            \"episode_transforms\": [],\n",
    "            \"domain_prefix\": \"ORACLE.run1_\",\n",
    "        },\n",
    "        {\n",
    "            \"labels\": [\n",
    "                \"3123D52\",\n",
    "                \"3123D65\",\n",
    "                \"3123D79\",\n",
    "                \"3123D80\",\n",
    "                \"3123D54\",\n",
    "                \"3123D70\",\n",
    "                \"3123D7B\",\n",
    "                \"3123D89\",\n",
    "                \"3123D58\",\n",
    "                \"3123D76\",\n",
    "                \"3123D7D\",\n",
    "                \"3123EFE\",\n",
    "                \"3123D64\",\n",
    "                \"3123D78\",\n",
    "                \"3123D7E\",\n",
    "                \"3124E4A\",\n",
    "            ],\n",
    "            \"domains\": [32, 38, 8, 44, 14, 50, 20, 26],\n",
    "            \"num_examples_per_domain_per_label\": 10000,\n",
    "            \"pickle_path\": \"/mnt/wd500GB/CSC500/csc500-main/datasets/oracle.Run2_10kExamples_stratified_ds.2022A.pkl\",\n",
    "            \"source_or_target_dataset\": \"target\",\n",
    "            \"x_transforms\": [\"unit_mag\"],\n",
    "            \"episode_transforms\": [],\n",
    "            \"domain_prefix\": \"ORACLE.run2_\",\n",
    "        },\n",
    "    ],\n",
    "}\n"
   ]
  },
  {
   "cell_type": "code",
   "execution_count": 5,
   "id": "8fa1cc33",
   "metadata": {
    "execution": {
     "iopub.execute_input": "2022-03-10T09:40:12.556245Z",
     "iopub.status.busy": "2022-03-10T09:40:12.555998Z",
     "iopub.status.idle": "2022-03-10T09:40:12.563863Z",
     "shell.execute_reply": "2022-03-10T09:40:12.564066Z"
    },
    "papermill": {
     "duration": 0.028403,
     "end_time": "2022-03-10T09:40:12.564120",
     "exception": false,
     "start_time": "2022-03-10T09:40:12.535717",
     "status": "completed"
    },
    "tags": []
   },
   "outputs": [],
   "source": [
    "# Set this to True if you want to run this template directly\n",
    "STANDALONE = False\n",
    "if STANDALONE:\n",
    "    print(\"parameters not injected, running with standalone_parameters\")\n",
    "    parameters = standalone_parameters\n",
    "\n",
    "if not 'parameters' in locals() and not 'parameters' in globals():\n",
    "    raise Exception(\"Parameter injection failed\")\n",
    "\n",
    "#Use an easy dict for all the parameters\n",
    "p = EasyDict(parameters)\n",
    "\n",
    "supplied_keys = set(p.keys())\n",
    "\n",
    "if  supplied_keys != required_parameters:\n",
    "    print(\"Parameters are incorrect\")\n",
    "    if len(supplied_keys - required_parameters)>0: print(\"Shouldn't have:\", str(supplied_keys - required_parameters))\n",
    "    if len(required_parameters - supplied_keys)>0: print(\"Need to have:\", str(required_parameters - supplied_keys))\n",
    "    raise RuntimeError(\"Parameters are incorrect\")\n",
    "\n"
   ]
  },
  {
   "cell_type": "code",
   "execution_count": 6,
   "id": "3a028d58",
   "metadata": {
    "execution": {
     "iopub.execute_input": "2022-03-10T09:40:12.595226Z",
     "iopub.status.busy": "2022-03-10T09:40:12.591072Z",
     "iopub.status.idle": "2022-03-10T09:40:12.605487Z",
     "shell.execute_reply": "2022-03-10T09:40:12.605277Z"
    },
    "papermill": {
     "duration": 0.029134,
     "end_time": "2022-03-10T09:40:12.605534",
     "exception": false,
     "start_time": "2022-03-10T09:40:12.576400",
     "status": "completed"
    },
    "tags": []
   },
   "outputs": [],
   "source": [
    "###################################\n",
    "# Set the RNGs and make it all deterministic\n",
    "###################################\n",
    "np.random.seed(p.seed)\n",
    "random.seed(p.seed)\n",
    "torch.manual_seed(p.seed)\n",
    "\n",
    "torch.use_deterministic_algorithms(True) "
   ]
  },
  {
   "cell_type": "code",
   "execution_count": 7,
   "id": "b691acf6",
   "metadata": {
    "execution": {
     "iopub.execute_input": "2022-03-10T09:40:12.639995Z",
     "iopub.status.busy": "2022-03-10T09:40:12.633031Z",
     "iopub.status.idle": "2022-03-10T09:40:12.649580Z",
     "shell.execute_reply": "2022-03-10T09:40:12.649785Z"
    },
    "papermill": {
     "duration": 0.031746,
     "end_time": "2022-03-10T09:40:12.649839",
     "exception": false,
     "start_time": "2022-03-10T09:40:12.618093",
     "status": "completed"
    },
    "tags": []
   },
   "outputs": [],
   "source": [
    "###########################################\n",
    "# The stratified datasets honor this\n",
    "###########################################\n",
    "torch.set_default_dtype(eval(p.torch_default_dtype))"
   ]
  },
  {
   "cell_type": "code",
   "execution_count": 8,
   "id": "b5fba671",
   "metadata": {
    "execution": {
     "iopub.execute_input": "2022-03-10T09:40:12.677189Z",
     "iopub.status.busy": "2022-03-10T09:40:12.676800Z",
     "iopub.status.idle": "2022-03-10T09:40:12.717397Z",
     "shell.execute_reply": "2022-03-10T09:40:12.717151Z"
    },
    "papermill": {
     "duration": 0.055067,
     "end_time": "2022-03-10T09:40:12.717445",
     "exception": false,
     "start_time": "2022-03-10T09:40:12.662378",
     "status": "completed"
    },
    "tags": []
   },
   "outputs": [],
   "source": [
    "###################################\n",
    "# Build the network(s)\n",
    "# Note: It's critical to do this AFTER setting the RNG\n",
    "###################################\n",
    "x_net = build_sequential(p.x_net)"
   ]
  },
  {
   "cell_type": "code",
   "execution_count": 9,
   "id": "5d7e61cc",
   "metadata": {
    "execution": {
     "iopub.execute_input": "2022-03-10T09:40:12.753328Z",
     "iopub.status.busy": "2022-03-10T09:40:12.745448Z",
     "iopub.status.idle": "2022-03-10T09:40:12.759889Z",
     "shell.execute_reply": "2022-03-10T09:40:12.759679Z"
    },
    "papermill": {
     "duration": 0.029561,
     "end_time": "2022-03-10T09:40:12.759936",
     "exception": false,
     "start_time": "2022-03-10T09:40:12.730375",
     "status": "completed"
    },
    "tags": []
   },
   "outputs": [],
   "source": [
    "start_time_secs = time.time()"
   ]
  },
  {
   "cell_type": "code",
   "execution_count": 10,
   "id": "c6b67dfd",
   "metadata": {
    "execution": {
     "iopub.execute_input": "2022-03-10T09:40:12.791240Z",
     "iopub.status.busy": "2022-03-10T09:40:12.787662Z",
     "iopub.status.idle": "2022-03-10T09:40:12.799313Z",
     "shell.execute_reply": "2022-03-10T09:40:12.799513Z"
    },
    "papermill": {
     "duration": 0.026943,
     "end_time": "2022-03-10T09:40:12.799567",
     "exception": false,
     "start_time": "2022-03-10T09:40:12.772624",
     "status": "completed"
    },
    "tags": []
   },
   "outputs": [],
   "source": [
    "p.domains_source = []\n",
    "p.domains_target = []\n",
    "\n",
    "\n",
    "train_original_source = []\n",
    "val_original_source   = []\n",
    "test_original_source  = []\n",
    "\n",
    "train_original_target = []\n",
    "val_original_target   = []\n",
    "test_original_target  = []"
   ]
  },
  {
   "cell_type": "code",
   "execution_count": 11,
   "id": "e3d9c3d3",
   "metadata": {
    "execution": {
     "iopub.execute_input": "2022-03-10T09:40:12.827222Z",
     "iopub.status.busy": "2022-03-10T09:40:12.826747Z",
     "iopub.status.idle": "2022-03-10T09:40:12.840076Z",
     "shell.execute_reply": "2022-03-10T09:40:12.839835Z"
    },
    "papermill": {
     "duration": 0.02781,
     "end_time": "2022-03-10T09:40:12.840127",
     "exception": false,
     "start_time": "2022-03-10T09:40:12.812317",
     "status": "completed"
    },
    "tags": []
   },
   "outputs": [],
   "source": [
    "# global_x_transform_func = lambda x: normalize(x.to(torch.get_default_dtype()), \"unit_power\") # unit_power, unit_mag\n",
    "# global_x_transform_func = lambda x: normalize(x, \"unit_power\") # unit_power, unit_mag"
   ]
  },
  {
   "cell_type": "code",
   "execution_count": 12,
   "id": "acb78fd2",
   "metadata": {
    "execution": {
     "iopub.execute_input": "2022-03-10T09:40:12.872748Z",
     "iopub.status.busy": "2022-03-10T09:40:12.872492Z",
     "iopub.status.idle": "2022-03-10T09:40:12.882949Z",
     "shell.execute_reply": "2022-03-10T09:40:12.882700Z"
    },
    "papermill": {
     "duration": 0.029963,
     "end_time": "2022-03-10T09:40:12.882998",
     "exception": false,
     "start_time": "2022-03-10T09:40:12.853035",
     "status": "completed"
    },
    "tags": []
   },
   "outputs": [],
   "source": [
    "def add_dataset(\n",
    "    labels,\n",
    "    domains,\n",
    "    pickle_path,\n",
    "    x_transforms,\n",
    "    episode_transforms,\n",
    "    domain_prefix,\n",
    "    num_examples_per_domain_per_label,\n",
    "    source_or_target_dataset:str,\n",
    "    iterator_seed=p.seed,\n",
    "    dataset_seed=p.dataset_seed,\n",
    "    n_shot=p.n_shot,\n",
    "    n_way=p.n_way,\n",
    "    n_query=p.n_query,\n",
    "    train_val_test_k_factors=(p.train_k_factor,p.val_k_factor,p.test_k_factor),\n",
    "):\n",
    "   \n",
    "    if x_transforms == []: x_transform = None\n",
    "    else: x_transform = get_chained_transform(x_transforms)\n",
    "    \n",
    "    if episode_transforms == []: episode_transform = None\n",
    "    else: raise Exception(\"episode_transforms not implemented\")\n",
    "    \n",
    "    episode_transform = lambda tup, _prefix=domain_prefix: (_prefix + str(tup[0]), tup[1])\n",
    "\n",
    "\n",
    "    eaf = Episodic_Accessor_Factory(\n",
    "        labels=labels,\n",
    "        domains=domains,\n",
    "        num_examples_per_domain_per_label=num_examples_per_domain_per_label,\n",
    "        iterator_seed=iterator_seed,\n",
    "        dataset_seed=dataset_seed,\n",
    "        n_shot=n_shot,\n",
    "        n_way=n_way,\n",
    "        n_query=n_query,\n",
    "        train_val_test_k_factors=train_val_test_k_factors,\n",
    "        pickle_path=pickle_path,\n",
    "        x_transform_func=x_transform,\n",
    "    )\n",
    "\n",
    "    train, val, test = eaf.get_train(), eaf.get_val(), eaf.get_test()\n",
    "    train = Lazy_Iterable_Wrapper(train, episode_transform)\n",
    "    val = Lazy_Iterable_Wrapper(val, episode_transform)\n",
    "    test = Lazy_Iterable_Wrapper(test, episode_transform)\n",
    "\n",
    "    if source_or_target_dataset==\"source\":\n",
    "        train_original_source.append(train)\n",
    "        val_original_source.append(val)\n",
    "        test_original_source.append(test)\n",
    "\n",
    "        p.domains_source.extend(\n",
    "            [domain_prefix + str(u) for u in domains]\n",
    "        )\n",
    "    elif source_or_target_dataset==\"target\":\n",
    "        train_original_target.append(train)\n",
    "        val_original_target.append(val)\n",
    "        test_original_target.append(test)\n",
    "        p.domains_target.extend(\n",
    "            [domain_prefix + str(u) for u in domains]\n",
    "        )\n",
    "    else:\n",
    "        raise Exception(f\"invalid source_or_target_dataset: {source_or_target_dataset}\")\n",
    "    "
   ]
  },
  {
   "cell_type": "code",
   "execution_count": 13,
   "id": "fe266617",
   "metadata": {
    "execution": {
     "iopub.execute_input": "2022-03-10T09:40:12.915676Z",
     "iopub.status.busy": "2022-03-10T09:40:12.910630Z",
     "iopub.status.idle": "2022-03-10T09:42:51.508940Z",
     "shell.execute_reply": "2022-03-10T09:42:51.508530Z"
    },
    "papermill": {
     "duration": 158.613221,
     "end_time": "2022-03-10T09:42:51.509047",
     "exception": false,
     "start_time": "2022-03-10T09:40:12.895826",
     "status": "completed"
    },
    "tags": []
   },
   "outputs": [],
   "source": [
    "for ds in p.datasets:\n",
    "    add_dataset(**ds)"
   ]
  },
  {
   "cell_type": "code",
   "execution_count": 14,
   "id": "b90d65ac",
   "metadata": {
    "execution": {
     "iopub.execute_input": "2022-03-10T09:42:51.544059Z",
     "iopub.status.busy": "2022-03-10T09:42:51.543808Z",
     "iopub.status.idle": "2022-03-10T09:42:51.555082Z",
     "shell.execute_reply": "2022-03-10T09:42:51.554867Z"
    },
    "papermill": {
     "duration": 0.026142,
     "end_time": "2022-03-10T09:42:51.555131",
     "exception": false,
     "start_time": "2022-03-10T09:42:51.528989",
     "status": "completed"
    },
    "tags": []
   },
   "outputs": [],
   "source": [
    "# from steves_utils.CORES.utils import (\n",
    "#     ALL_NODES,\n",
    "#     ALL_NODES_MINIMUM_1000_EXAMPLES,\n",
    "#     ALL_DAYS\n",
    "# )\n",
    "\n",
    "# add_dataset(\n",
    "#     labels=ALL_NODES,\n",
    "#     domains = ALL_DAYS,\n",
    "#     num_examples_per_domain_per_label=100,\n",
    "#     pickle_path=os.path.join(get_datasets_base_path(), \"cores.stratified_ds.2022A.pkl\"),\n",
    "#     source_or_target_dataset=\"target\",\n",
    "#     x_transform_func=global_x_transform_func,\n",
    "#     domain_modifier=lambda u: f\"cores_{u}\"\n",
    "# )"
   ]
  },
  {
   "cell_type": "code",
   "execution_count": 15,
   "id": "76db484d",
   "metadata": {
    "execution": {
     "iopub.execute_input": "2022-03-10T09:42:51.588350Z",
     "iopub.status.busy": "2022-03-10T09:42:51.588101Z",
     "iopub.status.idle": "2022-03-10T09:42:51.602967Z",
     "shell.execute_reply": "2022-03-10T09:42:51.602536Z"
    },
    "papermill": {
     "duration": 0.029372,
     "end_time": "2022-03-10T09:42:51.603060",
     "exception": false,
     "start_time": "2022-03-10T09:42:51.573688",
     "status": "completed"
    },
    "tags": []
   },
   "outputs": [],
   "source": [
    "# from steves_utils.ORACLE.utils_v2 import (\n",
    "#     ALL_DISTANCES_FEET,\n",
    "#     ALL_RUNS,\n",
    "#     ALL_SERIAL_NUMBERS,\n",
    "# )\n",
    "\n",
    "\n",
    "# add_dataset(\n",
    "#     labels=ALL_SERIAL_NUMBERS,\n",
    "#     domains = list(set(ALL_DISTANCES_FEET) - {2,62}),\n",
    "#     num_examples_per_domain_per_label=100,\n",
    "#     pickle_path=os.path.join(get_datasets_base_path(), \"oracle.Run2_framed_2000Examples_stratified_ds.2022A.pkl\"),\n",
    "#     source_or_target_dataset=\"source\",\n",
    "#     x_transform_func=global_x_transform_func,\n",
    "#     domain_modifier=lambda u: f\"oracle1_{u}\"\n",
    "# )\n"
   ]
  },
  {
   "cell_type": "code",
   "execution_count": 16,
   "id": "97dea9d2",
   "metadata": {
    "execution": {
     "iopub.execute_input": "2022-03-10T09:42:51.635820Z",
     "iopub.status.busy": "2022-03-10T09:42:51.635569Z",
     "iopub.status.idle": "2022-03-10T09:42:51.648503Z",
     "shell.execute_reply": "2022-03-10T09:42:51.648153Z"
    },
    "papermill": {
     "duration": 0.030039,
     "end_time": "2022-03-10T09:42:51.648572",
     "exception": false,
     "start_time": "2022-03-10T09:42:51.618533",
     "status": "completed"
    },
    "tags": []
   },
   "outputs": [],
   "source": [
    "# from steves_utils.ORACLE.utils_v2 import (\n",
    "#     ALL_DISTANCES_FEET,\n",
    "#     ALL_RUNS,\n",
    "#     ALL_SERIAL_NUMBERS,\n",
    "# )\n",
    "\n",
    "\n",
    "# add_dataset(\n",
    "#     labels=ALL_SERIAL_NUMBERS,\n",
    "#     domains = list(set(ALL_DISTANCES_FEET) - {2,62,56}),\n",
    "#     num_examples_per_domain_per_label=100,\n",
    "#     pickle_path=os.path.join(get_datasets_base_path(), \"oracle.Run2_framed_2000Examples_stratified_ds.2022A.pkl\"),\n",
    "#     source_or_target_dataset=\"source\",\n",
    "#     x_transform_func=global_x_transform_func,\n",
    "#     domain_modifier=lambda u: f\"oracle2_{u}\"\n",
    "# )"
   ]
  },
  {
   "cell_type": "code",
   "execution_count": 17,
   "id": "6f289866",
   "metadata": {
    "execution": {
     "iopub.execute_input": "2022-03-10T09:42:51.688735Z",
     "iopub.status.busy": "2022-03-10T09:42:51.688491Z",
     "iopub.status.idle": "2022-03-10T09:42:51.694519Z",
     "shell.execute_reply": "2022-03-10T09:42:51.694719Z"
    },
    "papermill": {
     "duration": 0.028206,
     "end_time": "2022-03-10T09:42:51.694775",
     "exception": false,
     "start_time": "2022-03-10T09:42:51.666569",
     "status": "completed"
    },
    "tags": []
   },
   "outputs": [],
   "source": [
    "# add_dataset(\n",
    "#     labels=list(range(19)),\n",
    "#     domains = [0,1,2],\n",
    "#     num_examples_per_domain_per_label=100,\n",
    "#     pickle_path=os.path.join(get_datasets_base_path(), \"metehan.stratified_ds.2022A.pkl\"),\n",
    "#     source_or_target_dataset=\"target\",\n",
    "#     x_transform_func=global_x_transform_func,\n",
    "#     domain_modifier=lambda u: f\"met_{u}\"\n",
    "# )"
   ]
  },
  {
   "cell_type": "code",
   "execution_count": 18,
   "id": "86a863c3",
   "metadata": {
    "execution": {
     "iopub.execute_input": "2022-03-10T09:42:51.739846Z",
     "iopub.status.busy": "2022-03-10T09:42:51.735162Z",
     "iopub.status.idle": "2022-03-10T09:42:51.742619Z",
     "shell.execute_reply": "2022-03-10T09:42:51.742151Z"
    },
    "papermill": {
     "duration": 0.030488,
     "end_time": "2022-03-10T09:42:51.742709",
     "exception": false,
     "start_time": "2022-03-10T09:42:51.712221",
     "status": "completed"
    },
    "tags": []
   },
   "outputs": [],
   "source": [
    "# # from steves_utils.wisig.utils import (\n",
    "# #     ALL_NODES_MINIMUM_100_EXAMPLES,\n",
    "# #     ALL_NODES_MINIMUM_500_EXAMPLES,\n",
    "# #     ALL_NODES_MINIMUM_1000_EXAMPLES,\n",
    "# #     ALL_DAYS\n",
    "# # )\n",
    "\n",
    "# import steves_utils.wisig.utils as wisig\n",
    "\n",
    "\n",
    "# add_dataset(\n",
    "#     labels=wisig.ALL_NODES_MINIMUM_100_EXAMPLES,\n",
    "#     domains = wisig.ALL_DAYS,\n",
    "#     num_examples_per_domain_per_label=100,\n",
    "#     pickle_path=os.path.join(get_datasets_base_path(), \"wisig.node3-19.stratified_ds.2022A.pkl\"),\n",
    "#     source_or_target_dataset=\"target\",\n",
    "#     x_transform_func=global_x_transform_func,\n",
    "#     domain_modifier=lambda u: f\"wisig_{u}\"\n",
    "# )"
   ]
  },
  {
   "cell_type": "code",
   "execution_count": 19,
   "id": "fd5442bc",
   "metadata": {
    "execution": {
     "iopub.execute_input": "2022-03-10T09:42:51.776314Z",
     "iopub.status.busy": "2022-03-10T09:42:51.776057Z",
     "iopub.status.idle": "2022-03-10T09:42:51.790419Z",
     "shell.execute_reply": "2022-03-10T09:42:51.790029Z"
    },
    "papermill": {
     "duration": 0.032339,
     "end_time": "2022-03-10T09:42:51.790504",
     "exception": false,
     "start_time": "2022-03-10T09:42:51.758165",
     "status": "completed"
    },
    "tags": []
   },
   "outputs": [],
   "source": [
    "###################################\n",
    "# Build the dataset\n",
    "###################################\n",
    "train_original_source = Iterable_Aggregator(train_original_source, p.seed)\n",
    "val_original_source = Iterable_Aggregator(val_original_source, p.seed)\n",
    "test_original_source = Iterable_Aggregator(test_original_source, p.seed)\n",
    "\n",
    "\n",
    "train_original_target = Iterable_Aggregator(train_original_target, p.seed)\n",
    "val_original_target = Iterable_Aggregator(val_original_target, p.seed)\n",
    "test_original_target = Iterable_Aggregator(test_original_target, p.seed)\n",
    "\n",
    "# For CNN We only use X and Y. And we only train on the source.\n",
    "# Properly form the data using a transform lambda and Lazy_Iterable_Wrapper. Finally wrap them in a dataloader\n",
    "\n",
    "transform_lambda = lambda ex: ex[1] # Original is (<domain>, <episode>) so we strip down to episode only\n",
    "\n",
    "train_processed_source = Lazy_Iterable_Wrapper(train_original_source, transform_lambda)\n",
    "val_processed_source   = Lazy_Iterable_Wrapper(val_original_source, transform_lambda)\n",
    "test_processed_source  = Lazy_Iterable_Wrapper(test_original_source, transform_lambda)\n",
    "\n",
    "train_processed_target = Lazy_Iterable_Wrapper(train_original_target, transform_lambda)\n",
    "val_processed_target   = Lazy_Iterable_Wrapper(val_original_target, transform_lambda)\n",
    "test_processed_target  = Lazy_Iterable_Wrapper(test_original_target, transform_lambda)\n",
    "\n",
    "datasets = EasyDict({\n",
    "    \"source\": {\n",
    "        \"original\": {\"train\":train_original_source, \"val\":val_original_source, \"test\":test_original_source},\n",
    "        \"processed\": {\"train\":train_processed_source, \"val\":val_processed_source, \"test\":test_processed_source}\n",
    "    },\n",
    "    \"target\": {\n",
    "        \"original\": {\"train\":train_original_target, \"val\":val_original_target, \"test\":test_original_target},\n",
    "        \"processed\": {\"train\":train_processed_target, \"val\":val_processed_target, \"test\":test_processed_target}\n",
    "    },\n",
    "})"
   ]
  },
  {
   "cell_type": "code",
   "execution_count": 20,
   "id": "5b3c01fc",
   "metadata": {
    "execution": {
     "iopub.execute_input": "2022-03-10T09:42:51.824332Z",
     "iopub.status.busy": "2022-03-10T09:42:51.824020Z",
     "iopub.status.idle": "2022-03-10T09:43:16.468834Z",
     "shell.execute_reply": "2022-03-10T09:43:16.469238Z"
    },
    "papermill": {
     "duration": 24.661482,
     "end_time": "2022-03-10T09:43:16.469363",
     "exception": false,
     "start_time": "2022-03-10T09:42:51.807881",
     "status": "completed"
    },
    "tags": []
   },
   "outputs": [
    {
     "name": "stdout",
     "output_type": "stream",
     "text": [
      "{'ORACLE.run1_20', 'ORACLE.run1_32', 'ORACLE.run1_14', 'ORACLE.run1_8', 'ORACLE.run1_50', 'ORACLE.run1_44', 'ORACLE.run1_26', 'ORACLE.run1_38'}\n"
     ]
    },
    {
     "name": "stdout",
     "output_type": "stream",
     "text": [
      "{'ORACLE.run2_8', 'ORACLE.run2_44', 'ORACLE.run2_38', 'ORACLE.run2_50', 'ORACLE.run2_32', 'ORACLE.run2_26', 'ORACLE.run2_14', 'ORACLE.run2_20'}\n"
     ]
    },
    {
     "name": "stdout",
     "output_type": "stream",
     "text": [
      "tensor([[[-0.0219, -0.3946,  0.4055,  ..., -0.3726, -0.3178,  0.6357],\n",
      "         [-0.6685,  0.2630, -0.1425,  ...,  0.0767, -1.0960,  0.1534]],\n",
      "\n",
      "        [[ 0.4965, -0.7904, -1.5302,  ...,  0.4864,  0.0608, -0.3445],\n",
      "         [-0.1520, -0.4459, -1.5808,  ..., -0.5168,  0.3344, -0.5675]],\n",
      "\n",
      "        [[-0.9659, -0.5089,  0.1142,  ...,  0.1350,  1.5786,  1.2151],\n",
      "         [-0.2181,  0.3739, -0.4154,  ..., -1.6721,  0.0000, -0.0312]],\n",
      "\n",
      "        ...,\n",
      "\n",
      "        [[-0.0140,  0.7067, -0.0840,  ..., -0.9517, -1.5324,  0.9866],\n",
      "         [ 1.3435, -0.9656, -0.5948,  ..., -0.1539,  0.2309, -1.0426]],\n",
      "\n",
      "        [[-0.9809, -1.5211, -1.8267,  ..., -0.9454,  0.6113,  0.2203],\n",
      "         [ 1.2581,  0.0355,  1.2581,  ..., -0.3554,  0.8174, -0.2132]],\n",
      "\n",
      "        [[ 1.4691, -0.7845, -0.6632,  ..., -0.8915, -0.4422, -0.0071],\n",
      "         [-0.5206,  1.0983,  0.0071,  ...,  1.6973,  0.2496,  1.1839]]])\n"
     ]
    }
   ],
   "source": [
    "from steves_utils.transforms import get_average_magnitude, get_average_power\n",
    "\n",
    "print(set([u for u,_ in val_original_source]))\n",
    "print(set([u for u,_ in val_original_target]))\n",
    "\n",
    "s_x, s_y, q_x, q_y, _ = next(iter(train_processed_source))\n",
    "print(s_x)\n",
    "\n",
    "# for ds in [\n",
    "#     train_processed_source,\n",
    "#     val_processed_source,\n",
    "#     test_processed_source,\n",
    "#     train_processed_target,\n",
    "#     val_processed_target,\n",
    "#     test_processed_target\n",
    "# ]:\n",
    "#     for s_x, s_y, q_x, q_y, _ in ds:\n",
    "#         for X in (s_x, q_x):\n",
    "#             for x in X:\n",
    "#                 assert np.isclose(get_average_magnitude(x.numpy()), 1.0)\n",
    "#                 assert np.isclose(get_average_power(x.numpy()), 1.0)\n",
    "                "
   ]
  },
  {
   "cell_type": "code",
   "execution_count": 21,
   "id": "bbdacba1",
   "metadata": {
    "execution": {
     "iopub.execute_input": "2022-03-10T09:43:16.506944Z",
     "iopub.status.busy": "2022-03-10T09:43:16.506667Z",
     "iopub.status.idle": "2022-03-10T09:43:16.563671Z",
     "shell.execute_reply": "2022-03-10T09:43:16.563209Z"
    },
    "papermill": {
     "duration": 0.075114,
     "end_time": "2022-03-10T09:43:16.563774",
     "exception": false,
     "start_time": "2022-03-10T09:43:16.488660",
     "status": "completed"
    },
    "tags": []
   },
   "outputs": [
    {
     "name": "stdout",
     "output_type": "stream",
     "text": [
      "(2, 256)\n"
     ]
    }
   ],
   "source": [
    "###################################\n",
    "# Build the model\n",
    "###################################\n",
    "model = Steves_Prototypical_Network(x_net, device=p.device, x_shape=(2,256))\n",
    "optimizer = Adam(params=model.parameters(), lr=p.lr)"
   ]
  },
  {
   "cell_type": "code",
   "execution_count": 22,
   "id": "22b39ac5",
   "metadata": {
    "execution": {
     "iopub.execute_input": "2022-03-10T09:43:16.600132Z",
     "iopub.status.busy": "2022-03-10T09:43:16.599877Z",
     "iopub.status.idle": "2022-03-10T11:45:13.983401Z",
     "shell.execute_reply": "2022-03-10T11:45:13.983175Z"
    },
    "papermill": {
     "duration": 7317.400977,
     "end_time": "2022-03-10T11:45:13.983458",
     "exception": false,
     "start_time": "2022-03-10T09:43:16.582481",
     "status": "completed"
    },
    "tags": []
   },
   "outputs": [
    {
     "name": "stdout",
     "output_type": "stream",
     "text": [
      "epoch: 1, [batch: 1 / 33600], examples_per_second: 9.9629, train_label_loss: 2.8242, \n"
     ]
    },
    {
     "name": "stdout",
     "output_type": "stream",
     "text": [
      "epoch: 1, [batch: 3360 / 33600], examples_per_second: 3210.3030, train_label_loss: 0.9980, \n"
     ]
    },
    {
     "name": "stdout",
     "output_type": "stream",
     "text": [
      "epoch: 1, [batch: 6720 / 33600], examples_per_second: 3207.5150, train_label_loss: 1.6168, \n"
     ]
    },
    {
     "name": "stdout",
     "output_type": "stream",
     "text": [
      "epoch: 1, [batch: 10080 / 33600], examples_per_second: 3209.2509, train_label_loss: 0.7598, \n"
     ]
    },
    {
     "name": "stdout",
     "output_type": "stream",
     "text": [
      "epoch: 1, [batch: 13440 / 33600], examples_per_second: 3195.7812, train_label_loss: 0.8059, \n"
     ]
    },
    {
     "name": "stdout",
     "output_type": "stream",
     "text": [
      "epoch: 1, [batch: 16800 / 33600], examples_per_second: 3197.9893, train_label_loss: 0.7692, \n"
     ]
    },
    {
     "name": "stdout",
     "output_type": "stream",
     "text": [
      "epoch: 1, [batch: 20160 / 33600], examples_per_second: 3207.8450, train_label_loss: 0.7086, \n"
     ]
    },
    {
     "name": "stdout",
     "output_type": "stream",
     "text": [
      "epoch: 1, [batch: 23520 / 33600], examples_per_second: 3201.7006, train_label_loss: 0.6452, \n"
     ]
    },
    {
     "name": "stdout",
     "output_type": "stream",
     "text": [
      "epoch: 1, [batch: 26880 / 33600], examples_per_second: 3197.8009, train_label_loss: 0.7721, \n"
     ]
    },
    {
     "name": "stdout",
     "output_type": "stream",
     "text": [
      "epoch: 1, [batch: 30240 / 33600], examples_per_second: 3196.9926, train_label_loss: 1.1704, \n"
     ]
    },
    {
     "name": "stdout",
     "output_type": "stream",
     "text": [
      "=============================================================\n",
      "epoch: 1, source_val_acc_label: 0.6546, target_val_acc_label: 0.6398, source_val_label_loss: 0.9439, target_val_label_loss: 0.9947, \n",
      "=============================================================\n"
     ]
    },
    {
     "name": "stdout",
     "output_type": "stream",
     "text": [
      "New best\n"
     ]
    },
    {
     "name": "stdout",
     "output_type": "stream",
     "text": [
      "epoch: 2, [batch: 1 / 33600], examples_per_second: 0.9594, train_label_loss: 1.0351, \n"
     ]
    },
    {
     "name": "stdout",
     "output_type": "stream",
     "text": [
      "epoch: 2, [batch: 3360 / 33600], examples_per_second: 3239.7199, train_label_loss: 0.7130, \n"
     ]
    },
    {
     "name": "stdout",
     "output_type": "stream",
     "text": [
      "epoch: 2, [batch: 6720 / 33600], examples_per_second: 3232.3469, train_label_loss: 0.9656, \n"
     ]
    },
    {
     "name": "stdout",
     "output_type": "stream",
     "text": [
      "epoch: 2, [batch: 10080 / 33600], examples_per_second: 3231.5086, train_label_loss: 0.5155, \n"
     ]
    },
    {
     "name": "stdout",
     "output_type": "stream",
     "text": [
      "epoch: 2, [batch: 13440 / 33600], examples_per_second: 3225.4253, train_label_loss: 0.5436, \n"
     ]
    },
    {
     "name": "stdout",
     "output_type": "stream",
     "text": [
      "epoch: 2, [batch: 16800 / 33600], examples_per_second: 3241.2341, train_label_loss: 1.0209, \n"
     ]
    },
    {
     "name": "stdout",
     "output_type": "stream",
     "text": [
      "epoch: 2, [batch: 20160 / 33600], examples_per_second: 3252.4083, train_label_loss: 1.1457, \n"
     ]
    },
    {
     "name": "stdout",
     "output_type": "stream",
     "text": [
      "epoch: 2, [batch: 23520 / 33600], examples_per_second: 3230.9263, train_label_loss: 0.4718, \n"
     ]
    },
    {
     "name": "stdout",
     "output_type": "stream",
     "text": [
      "epoch: 2, [batch: 26880 / 33600], examples_per_second: 3246.0805, train_label_loss: 0.2240, \n"
     ]
    },
    {
     "name": "stdout",
     "output_type": "stream",
     "text": [
      "epoch: 2, [batch: 30240 / 33600], examples_per_second: 3240.5046, train_label_loss: 0.8199, \n"
     ]
    },
    {
     "name": "stdout",
     "output_type": "stream",
     "text": [
      "=============================================================\n",
      "epoch: 2, source_val_acc_label: 0.7047, target_val_acc_label: 0.6889, source_val_label_loss: 0.7972, target_val_label_loss: 0.8668, \n",
      "=============================================================\n"
     ]
    },
    {
     "name": "stdout",
     "output_type": "stream",
     "text": [
      "New best\n"
     ]
    },
    {
     "name": "stdout",
     "output_type": "stream",
     "text": [
      "epoch: 3, [batch: 1 / 33600], examples_per_second: 0.9649, train_label_loss: 0.3797, \n"
     ]
    },
    {
     "name": "stdout",
     "output_type": "stream",
     "text": [
      "epoch: 3, [batch: 3360 / 33600], examples_per_second: 3223.2958, train_label_loss: 0.5259, \n"
     ]
    },
    {
     "name": "stdout",
     "output_type": "stream",
     "text": [
      "epoch: 3, [batch: 6720 / 33600], examples_per_second: 3227.7380, train_label_loss: 0.6886, \n"
     ]
    },
    {
     "name": "stdout",
     "output_type": "stream",
     "text": [
      "epoch: 3, [batch: 10080 / 33600], examples_per_second: 3231.5877, train_label_loss: 0.3369, \n"
     ]
    },
    {
     "name": "stdout",
     "output_type": "stream",
     "text": [
      "epoch: 3, [batch: 13440 / 33600], examples_per_second: 3227.5997, train_label_loss: 0.5781, \n"
     ]
    },
    {
     "name": "stdout",
     "output_type": "stream",
     "text": [
      "epoch: 3, [batch: 16800 / 33600], examples_per_second: 3235.3955, train_label_loss: 0.8837, \n"
     ]
    },
    {
     "name": "stdout",
     "output_type": "stream",
     "text": [
      "epoch: 3, [batch: 20160 / 33600], examples_per_second: 3235.3550, train_label_loss: 1.0724, \n"
     ]
    },
    {
     "name": "stdout",
     "output_type": "stream",
     "text": [
      "epoch: 3, [batch: 23520 / 33600], examples_per_second: 3220.9678, train_label_loss: 0.7567, \n"
     ]
    },
    {
     "name": "stdout",
     "output_type": "stream",
     "text": [
      "epoch: 3, [batch: 26880 / 33600], examples_per_second: 3236.2498, train_label_loss: 0.4032, \n"
     ]
    },
    {
     "name": "stdout",
     "output_type": "stream",
     "text": [
      "epoch: 3, [batch: 30240 / 33600], examples_per_second: 3234.1639, train_label_loss: 0.5920, \n"
     ]
    },
    {
     "name": "stdout",
     "output_type": "stream",
     "text": [
      "=============================================================\n",
      "epoch: 3, source_val_acc_label: 0.7287, target_val_acc_label: 0.7113, source_val_label_loss: 0.7506, target_val_label_loss: 0.8324, \n",
      "=============================================================\n"
     ]
    },
    {
     "name": "stdout",
     "output_type": "stream",
     "text": [
      "New best\n"
     ]
    },
    {
     "name": "stdout",
     "output_type": "stream",
     "text": [
      "epoch: 4, [batch: 1 / 33600], examples_per_second: 0.9637, train_label_loss: 0.4826, \n"
     ]
    },
    {
     "name": "stdout",
     "output_type": "stream",
     "text": [
      "epoch: 4, [batch: 3360 / 33600], examples_per_second: 3229.4368, train_label_loss: 0.5515, \n"
     ]
    },
    {
     "name": "stdout",
     "output_type": "stream",
     "text": [
      "epoch: 4, [batch: 6720 / 33600], examples_per_second: 3226.8119, train_label_loss: 1.1393, \n"
     ]
    },
    {
     "name": "stdout",
     "output_type": "stream",
     "text": [
      "epoch: 4, [batch: 10080 / 33600], examples_per_second: 3240.0206, train_label_loss: 0.6062, \n"
     ]
    },
    {
     "name": "stdout",
     "output_type": "stream",
     "text": [
      "epoch: 4, [batch: 13440 / 33600], examples_per_second: 3229.0370, train_label_loss: 0.3490, \n"
     ]
    },
    {
     "name": "stdout",
     "output_type": "stream",
     "text": [
      "epoch: 4, [batch: 16800 / 33600], examples_per_second: 3242.1867, train_label_loss: 0.6807, \n"
     ]
    },
    {
     "name": "stdout",
     "output_type": "stream",
     "text": [
      "epoch: 4, [batch: 20160 / 33600], examples_per_second: 3238.6292, train_label_loss: 0.5981, \n"
     ]
    },
    {
     "name": "stdout",
     "output_type": "stream",
     "text": [
      "epoch: 4, [batch: 23520 / 33600], examples_per_second: 3232.5799, train_label_loss: 0.3549, \n"
     ]
    },
    {
     "name": "stdout",
     "output_type": "stream",
     "text": [
      "epoch: 4, [batch: 26880 / 33600], examples_per_second: 3238.8575, train_label_loss: 0.6068, \n"
     ]
    },
    {
     "name": "stdout",
     "output_type": "stream",
     "text": [
      "epoch: 4, [batch: 30240 / 33600], examples_per_second: 3240.4126, train_label_loss: 0.4219, \n"
     ]
    },
    {
     "name": "stdout",
     "output_type": "stream",
     "text": [
      "=============================================================\n",
      "epoch: 4, source_val_acc_label: 0.7400, target_val_acc_label: 0.7208, source_val_label_loss: 0.7272, target_val_label_loss: 0.8113, \n",
      "=============================================================\n"
     ]
    },
    {
     "name": "stdout",
     "output_type": "stream",
     "text": [
      "New best\n"
     ]
    },
    {
     "name": "stdout",
     "output_type": "stream",
     "text": [
      "epoch: 5, [batch: 1 / 33600], examples_per_second: 0.9655, train_label_loss: 0.8055, \n"
     ]
    },
    {
     "name": "stdout",
     "output_type": "stream",
     "text": [
      "epoch: 5, [batch: 3360 / 33600], examples_per_second: 3229.5145, train_label_loss: 0.4695, \n"
     ]
    },
    {
     "name": "stdout",
     "output_type": "stream",
     "text": [
      "epoch: 5, [batch: 6720 / 33600], examples_per_second: 3224.5572, train_label_loss: 0.2439, \n"
     ]
    },
    {
     "name": "stdout",
     "output_type": "stream",
     "text": [
      "epoch: 5, [batch: 10080 / 33600], examples_per_second: 3234.5155, train_label_loss: 0.5063, \n"
     ]
    },
    {
     "name": "stdout",
     "output_type": "stream",
     "text": [
      "epoch: 5, [batch: 13440 / 33600], examples_per_second: 3227.2466, train_label_loss: 0.7458, \n"
     ]
    },
    {
     "name": "stdout",
     "output_type": "stream",
     "text": [
      "epoch: 5, [batch: 16800 / 33600], examples_per_second: 3246.4545, train_label_loss: 0.5570, \n"
     ]
    },
    {
     "name": "stdout",
     "output_type": "stream",
     "text": [
      "epoch: 5, [batch: 20160 / 33600], examples_per_second: 3224.1795, train_label_loss: 0.7355, \n"
     ]
    },
    {
     "name": "stdout",
     "output_type": "stream",
     "text": [
      "epoch: 5, [batch: 23520 / 33600], examples_per_second: 3229.6771, train_label_loss: 0.3218, \n"
     ]
    },
    {
     "name": "stdout",
     "output_type": "stream",
     "text": [
      "epoch: 5, [batch: 26880 / 33600], examples_per_second: 3238.1713, train_label_loss: 0.2430, \n"
     ]
    },
    {
     "name": "stdout",
     "output_type": "stream",
     "text": [
      "epoch: 5, [batch: 30240 / 33600], examples_per_second: 3243.1241, train_label_loss: 0.6768, \n"
     ]
    },
    {
     "name": "stdout",
     "output_type": "stream",
     "text": [
      "=============================================================\n",
      "epoch: 5, source_val_acc_label: 0.7386, target_val_acc_label: 0.7222, source_val_label_loss: 0.7340, target_val_label_loss: 0.8119, \n",
      "=============================================================\n"
     ]
    },
    {
     "name": "stdout",
     "output_type": "stream",
     "text": [
      "epoch: 6, [batch: 1 / 33600], examples_per_second: 0.9691, train_label_loss: 0.4256, \n"
     ]
    },
    {
     "name": "stdout",
     "output_type": "stream",
     "text": [
      "epoch: 6, [batch: 3360 / 33600], examples_per_second: 3236.5909, train_label_loss: 0.7511, \n"
     ]
    },
    {
     "name": "stdout",
     "output_type": "stream",
     "text": [
      "epoch: 6, [batch: 6720 / 33600], examples_per_second: 3239.4990, train_label_loss: 0.4106, \n"
     ]
    },
    {
     "name": "stdout",
     "output_type": "stream",
     "text": [
      "epoch: 6, [batch: 10080 / 33600], examples_per_second: 3244.9227, train_label_loss: 0.4560, \n"
     ]
    },
    {
     "name": "stdout",
     "output_type": "stream",
     "text": [
      "epoch: 6, [batch: 13440 / 33600], examples_per_second: 3240.2407, train_label_loss: 0.2890, \n"
     ]
    },
    {
     "name": "stdout",
     "output_type": "stream",
     "text": [
      "epoch: 6, [batch: 16800 / 33600], examples_per_second: 3241.5318, train_label_loss: 0.2770, \n"
     ]
    },
    {
     "name": "stdout",
     "output_type": "stream",
     "text": [
      "epoch: 6, [batch: 20160 / 33600], examples_per_second: 3248.6594, train_label_loss: 0.5180, \n"
     ]
    },
    {
     "name": "stdout",
     "output_type": "stream",
     "text": [
      "epoch: 6, [batch: 23520 / 33600], examples_per_second: 3235.8199, train_label_loss: 0.4162, \n"
     ]
    },
    {
     "name": "stdout",
     "output_type": "stream",
     "text": [
      "epoch: 6, [batch: 26880 / 33600], examples_per_second: 3242.9827, train_label_loss: 0.7245, \n"
     ]
    },
    {
     "name": "stdout",
     "output_type": "stream",
     "text": [
      "epoch: 6, [batch: 30240 / 33600], examples_per_second: 3242.2563, train_label_loss: 0.3097, \n"
     ]
    },
    {
     "name": "stdout",
     "output_type": "stream",
     "text": [
      "=============================================================\n",
      "epoch: 6, source_val_acc_label: 0.7399, target_val_acc_label: 0.7228, source_val_label_loss: 0.7320, target_val_label_loss: 0.8169, \n",
      "=============================================================\n"
     ]
    },
    {
     "name": "stdout",
     "output_type": "stream",
     "text": [
      "epoch: 7, [batch: 1 / 33600], examples_per_second: 0.9645, train_label_loss: 0.4709, \n"
     ]
    },
    {
     "name": "stdout",
     "output_type": "stream",
     "text": [
      "epoch: 7, [batch: 3360 / 33600], examples_per_second: 3232.3683, train_label_loss: 1.0794, \n"
     ]
    },
    {
     "name": "stdout",
     "output_type": "stream",
     "text": [
      "epoch: 7, [batch: 6720 / 33600], examples_per_second: 3244.4028, train_label_loss: 0.2884, \n"
     ]
    },
    {
     "name": "stdout",
     "output_type": "stream",
     "text": [
      "epoch: 7, [batch: 10080 / 33600], examples_per_second: 3239.7366, train_label_loss: 0.2727, \n"
     ]
    },
    {
     "name": "stdout",
     "output_type": "stream",
     "text": [
      "epoch: 7, [batch: 13440 / 33600], examples_per_second: 3228.8138, train_label_loss: 0.2149, \n"
     ]
    },
    {
     "name": "stdout",
     "output_type": "stream",
     "text": [
      "epoch: 7, [batch: 16800 / 33600], examples_per_second: 3234.9984, train_label_loss: 0.3581, \n"
     ]
    },
    {
     "name": "stdout",
     "output_type": "stream",
     "text": [
      "epoch: 7, [batch: 20160 / 33600], examples_per_second: 3240.4650, train_label_loss: 0.4961, \n"
     ]
    },
    {
     "name": "stdout",
     "output_type": "stream",
     "text": [
      "epoch: 7, [batch: 23520 / 33600], examples_per_second: 3225.5805, train_label_loss: 0.3126, \n"
     ]
    },
    {
     "name": "stdout",
     "output_type": "stream",
     "text": [
      "epoch: 7, [batch: 26880 / 33600], examples_per_second: 3236.1970, train_label_loss: 0.2936, \n"
     ]
    },
    {
     "name": "stdout",
     "output_type": "stream",
     "text": [
      "epoch: 7, [batch: 30240 / 33600], examples_per_second: 3245.3278, train_label_loss: 0.4666, \n"
     ]
    },
    {
     "name": "stdout",
     "output_type": "stream",
     "text": [
      "=============================================================\n",
      "epoch: 7, source_val_acc_label: 0.7350, target_val_acc_label: 0.7180, source_val_label_loss: 0.7509, target_val_label_loss: 0.8366, \n",
      "=============================================================\n"
     ]
    },
    {
     "name": "stdout",
     "output_type": "stream",
     "text": [
      "epoch: 8, [batch: 1 / 33600], examples_per_second: 0.9681, train_label_loss: 0.3261, \n"
     ]
    },
    {
     "name": "stdout",
     "output_type": "stream",
     "text": [
      "epoch: 8, [batch: 3360 / 33600], examples_per_second: 3227.9393, train_label_loss: 0.3183, \n"
     ]
    },
    {
     "name": "stdout",
     "output_type": "stream",
     "text": [
      "epoch: 8, [batch: 6720 / 33600], examples_per_second: 3217.1030, train_label_loss: 0.3172, \n"
     ]
    },
    {
     "name": "stdout",
     "output_type": "stream",
     "text": [
      "epoch: 8, [batch: 10080 / 33600], examples_per_second: 3213.5532, train_label_loss: 0.1927, \n"
     ]
    },
    {
     "name": "stdout",
     "output_type": "stream",
     "text": [
      "epoch: 8, [batch: 13440 / 33600], examples_per_second: 3218.6143, train_label_loss: 0.4795, \n"
     ]
    },
    {
     "name": "stdout",
     "output_type": "stream",
     "text": [
      "epoch: 8, [batch: 16800 / 33600], examples_per_second: 3232.5314, train_label_loss: 0.1416, \n"
     ]
    },
    {
     "name": "stdout",
     "output_type": "stream",
     "text": [
      "epoch: 8, [batch: 20160 / 33600], examples_per_second: 3224.7683, train_label_loss: 0.2272, \n"
     ]
    },
    {
     "name": "stdout",
     "output_type": "stream",
     "text": [
      "epoch: 8, [batch: 23520 / 33600], examples_per_second: 3228.3404, train_label_loss: 0.7591, \n"
     ]
    },
    {
     "name": "stdout",
     "output_type": "stream",
     "text": [
      "epoch: 8, [batch: 26880 / 33600], examples_per_second: 3218.4667, train_label_loss: 0.4240, \n"
     ]
    },
    {
     "name": "stdout",
     "output_type": "stream",
     "text": [
      "epoch: 8, [batch: 30240 / 33600], examples_per_second: 3234.8825, train_label_loss: 0.1393, \n"
     ]
    },
    {
     "name": "stdout",
     "output_type": "stream",
     "text": [
      "=============================================================\n",
      "epoch: 8, source_val_acc_label: 0.7311, target_val_acc_label: 0.7106, source_val_label_loss: 0.7696, target_val_label_loss: 0.8616, \n",
      "=============================================================\n"
     ]
    },
    {
     "name": "stdout",
     "output_type": "stream",
     "text": [
      "Patience (3) exhausted\n"
     ]
    }
   ],
   "source": [
    "###################################\n",
    "# train\n",
    "###################################\n",
    "jig = PTN_Train_Eval_Test_Jig(model, p.BEST_MODEL_PATH, p.device)\n",
    "\n",
    "jig.train(\n",
    "    train_iterable=datasets.source.processed.train,\n",
    "    source_val_iterable=datasets.source.processed.val,\n",
    "    target_val_iterable=datasets.target.processed.val,\n",
    "    num_epochs=p.n_epoch,\n",
    "    num_logs_per_epoch=p.NUM_LOGS_PER_EPOCH,\n",
    "    patience=p.patience,\n",
    "    optimizer=optimizer,\n",
    "    criteria_for_best=p.criteria_for_best,\n",
    ")"
   ]
  },
  {
   "cell_type": "code",
   "execution_count": 23,
   "id": "31e8fabf",
   "metadata": {
    "execution": {
     "iopub.execute_input": "2022-03-10T11:45:14.055899Z",
     "iopub.status.busy": "2022-03-10T11:45:14.045960Z",
     "iopub.status.idle": "2022-03-10T11:45:14.065638Z",
     "shell.execute_reply": "2022-03-10T11:45:14.065186Z"
    },
    "papermill": {
     "duration": 0.052348,
     "end_time": "2022-03-10T11:45:14.065728",
     "exception": false,
     "start_time": "2022-03-10T11:45:14.013380",
     "status": "completed"
    },
    "tags": []
   },
   "outputs": [],
   "source": [
    "total_experiment_time_secs = time.time() - start_time_secs"
   ]
  },
  {
   "cell_type": "code",
   "execution_count": 24,
   "id": "87b9595b",
   "metadata": {
    "execution": {
     "iopub.execute_input": "2022-03-10T11:45:14.139796Z",
     "iopub.status.busy": "2022-03-10T11:45:14.135953Z",
     "iopub.status.idle": "2022-03-10T11:53:14.802592Z",
     "shell.execute_reply": "2022-03-10T11:53:14.802155Z"
    },
    "papermill": {
     "duration": 480.702457,
     "end_time": "2022-03-10T11:53:14.802695",
     "exception": false,
     "start_time": "2022-03-10T11:45:14.100238",
     "status": "completed"
    },
    "tags": []
   },
   "outputs": [],
   "source": [
    "###################################\n",
    "# Evaluate the model\n",
    "###################################\n",
    "source_test_label_accuracy, source_test_label_loss = jig.test(datasets.source.processed.test)\n",
    "target_test_label_accuracy, target_test_label_loss = jig.test(datasets.target.processed.test)\n",
    "\n",
    "source_val_label_accuracy, source_val_label_loss = jig.test(datasets.source.processed.val)\n",
    "target_val_label_accuracy, target_val_label_loss = jig.test(datasets.target.processed.val)\n",
    "\n",
    "history = jig.get_history()\n",
    "\n",
    "total_epochs_trained = len(history[\"epoch_indices\"])\n",
    "\n",
    "val_dl = Iterable_Aggregator((datasets.source.original.val,datasets.target.original.val))\n",
    "\n",
    "confusion = ptn_confusion_by_domain_over_dataloader(model, p.device, val_dl)\n",
    "per_domain_accuracy = per_domain_accuracy_from_confusion(confusion)\n",
    "\n",
    "# Add a key to per_domain_accuracy for if it was a source domain\n",
    "for domain, accuracy in per_domain_accuracy.items():\n",
    "    per_domain_accuracy[domain] = {\n",
    "        \"accuracy\": accuracy,\n",
    "        \"source?\": domain in p.domains_source\n",
    "    }\n",
    "\n",
    "# Do an independent accuracy assesment JUST TO BE SURE!\n",
    "# _source_test_label_accuracy = independent_accuracy_assesment(model, datasets.source.processed.test, p.device)\n",
    "# _target_test_label_accuracy = independent_accuracy_assesment(model, datasets.target.processed.test, p.device)\n",
    "# _source_val_label_accuracy = independent_accuracy_assesment(model, datasets.source.processed.val, p.device)\n",
    "# _target_val_label_accuracy = independent_accuracy_assesment(model, datasets.target.processed.val, p.device)\n",
    "\n",
    "# assert(_source_test_label_accuracy == source_test_label_accuracy)\n",
    "# assert(_target_test_label_accuracy == target_test_label_accuracy)\n",
    "# assert(_source_val_label_accuracy == source_val_label_accuracy)\n",
    "# assert(_target_val_label_accuracy == target_val_label_accuracy)\n",
    "\n",
    "experiment = {\n",
    "    \"experiment_name\": p.experiment_name,\n",
    "    \"parameters\": dict(p),\n",
    "    \"results\": {\n",
    "        \"source_test_label_accuracy\": source_test_label_accuracy,\n",
    "        \"source_test_label_loss\": source_test_label_loss,\n",
    "        \"target_test_label_accuracy\": target_test_label_accuracy,\n",
    "        \"target_test_label_loss\": target_test_label_loss,\n",
    "        \"source_val_label_accuracy\": source_val_label_accuracy,\n",
    "        \"source_val_label_loss\": source_val_label_loss,\n",
    "        \"target_val_label_accuracy\": target_val_label_accuracy,\n",
    "        \"target_val_label_loss\": target_val_label_loss,\n",
    "        \"total_epochs_trained\": total_epochs_trained,\n",
    "        \"total_experiment_time_secs\": total_experiment_time_secs,\n",
    "        \"confusion\": confusion,\n",
    "        \"per_domain_accuracy\": per_domain_accuracy,\n",
    "    },\n",
    "    \"history\": history,\n",
    "    \"dataset_metrics\": get_dataset_metrics(datasets, \"ptn\"),\n",
    "}"
   ]
  },
  {
   "cell_type": "code",
   "execution_count": 25,
   "id": "54a21829",
   "metadata": {
    "execution": {
     "iopub.execute_input": "2022-03-10T11:53:14.876249Z",
     "iopub.status.busy": "2022-03-10T11:53:14.875984Z",
     "iopub.status.idle": "2022-03-10T11:53:15.068335Z",
     "shell.execute_reply": "2022-03-10T11:53:15.067934Z"
    },
    "papermill": {
     "duration": 0.227832,
     "end_time": "2022-03-10T11:53:15.068425",
     "exception": false,
     "start_time": "2022-03-10T11:53:14.840593",
     "status": "completed"
    },
    "tags": []
   },
   "outputs": [
    {
     "data": {
      "image/png": "[encoded data removed]",
      "text/plain": [
       "<Figure size 1080x504 with 1 Axes>"
      ]
     },
     "metadata": {
      "needs_background": "light"
     },
     "output_type": "display_data"
    }
   ],
   "source": [
    "ax = get_loss_curve(experiment)\n",
    "plt.show()"
   ]
  },
  {
   "cell_type": "code",
   "execution_count": 26,
   "id": "fd8a0f60",
   "metadata": {
    "execution": {
     "iopub.execute_input": "2022-03-10T11:53:15.146964Z",
     "iopub.status.busy": "2022-03-10T11:53:15.139540Z",
     "iopub.status.idle": "2022-03-10T11:53:15.317255Z",
     "shell.execute_reply": "2022-03-10T11:53:15.316852Z"
    },
    "papermill": {
     "duration": 0.212809,
     "end_time": "2022-03-10T11:53:15.317356",
     "exception": false,
     "start_time": "2022-03-10T11:53:15.104547",
     "status": "completed"
    },
    "tags": []
   },
   "outputs": [
    {
     "data": {
      "text/plain": [
       "<matplotlib.axes._subplots.AxesSubplot at 0x7f7dc4bfcf70>"
      ]
     },
     "execution_count": 26,
     "metadata": {},
     "output_type": "execute_result"
    },
    {
     "data": {
      "image/png": "[encoded data removed]",
      "text/plain": [
       "<Figure size 1080x504 with 1 Axes>"
      ]
     },
     "metadata": {
      "needs_background": "light"
     },
     "output_type": "display_data"
    }
   ],
   "source": [
    "get_results_table(experiment)"
   ]
  },
  {
   "cell_type": "code",
   "execution_count": 27,
   "id": "cf8dc689",
   "metadata": {
    "execution": {
     "iopub.execute_input": "2022-03-10T11:53:15.392097Z",
     "iopub.status.busy": "2022-03-10T11:53:15.390875Z",
     "iopub.status.idle": "2022-03-10T11:53:15.612829Z",
     "shell.execute_reply": "2022-03-10T11:53:15.612401Z"
    },
    "papermill": {
     "duration": 0.256309,
     "end_time": "2022-03-10T11:53:15.612921",
     "exception": false,
     "start_time": "2022-03-10T11:53:15.356612",
     "status": "completed"
    },
    "tags": []
   },
   "outputs": [
    {
     "data": {
      "text/plain": [
       "<matplotlib.axes._subplots.AxesSubplot at 0x7f7dc46b0040>"
      ]
     },
     "execution_count": 27,
     "metadata": {},
     "output_type": "execute_result"
    },
    {
     "data": {
      "image/png": "[encoded data removed]",
      "text/plain": [
       "<Figure size 1080x504 with 1 Axes>"
      ]
     },
     "metadata": {
      "needs_background": "light"
     },
     "output_type": "display_data"
    }
   ],
   "source": [
    "get_domain_accuracies(experiment)"
   ]
  },
  {
   "cell_type": "code",
   "execution_count": 28,
   "id": "a74ae082",
   "metadata": {
    "execution": {
     "iopub.execute_input": "2022-03-10T11:53:15.696171Z",
     "iopub.status.busy": "2022-03-10T11:53:15.686704Z",
     "iopub.status.idle": "2022-03-10T11:53:15.703223Z",
     "shell.execute_reply": "2022-03-10T11:53:15.702721Z"
    },
    "papermill": {
     "duration": 0.052368,
     "end_time": "2022-03-10T11:53:15.703317",
     "exception": false,
     "start_time": "2022-03-10T11:53:15.650949",
     "status": "completed"
    },
    "tags": []
   },
   "outputs": [
    {
     "name": "stdout",
     "output_type": "stream",
     "text": [
      "Source Test Label Accuracy: 0.7392057291666667 Target Test Label Accuracy: 0.7217122395833333\n",
      "Source Val Label Accuracy: 0.73998046875 Target Val Label Accuracy: 0.7207747395833334\n"
     ]
    }
   ],
   "source": [
    "print(\"Source Test Label Accuracy:\", experiment[\"results\"][\"source_test_label_accuracy\"], \"Target Test Label Accuracy:\", experiment[\"results\"][\"target_test_label_accuracy\"])\n",
    "print(\"Source Val Label Accuracy:\", experiment[\"results\"][\"source_val_label_accuracy\"], \"Target Val Label Accuracy:\", experiment[\"results\"][\"target_val_label_accuracy\"])"
   ]
  },
  {
   "cell_type": "code",
   "execution_count": 29,
   "id": "dacca602",
   "metadata": {
    "execution": {
     "iopub.execute_input": "2022-03-10T11:53:15.776542Z",
     "iopub.status.busy": "2022-03-10T11:53:15.776292Z",
     "iopub.status.idle": "2022-03-10T11:53:15.787406Z",
     "shell.execute_reply": "2022-03-10T11:53:15.787043Z"
    },
    "papermill": {
     "duration": 0.047233,
     "end_time": "2022-03-10T11:53:15.787478",
     "exception": false,
     "start_time": "2022-03-10T11:53:15.740245",
     "status": "completed"
    },
    "tags": [
     "experiment_json"
    ]
   },
   "outputs": [
    {
     "data": {
      "text/plain": [
       "'{\"experiment_name\": \"tl_1_oracle.run1-oracle.run2\", \"parameters\": {\"experiment_name\": \"tl_1_oracle.run1-oracle.run2\", \"device\": \"cuda\", \"lr\": 0.001, \"seed\": 1337, \"dataset_seed\": 1337, \"n_shot\": 3, \"n_query\": 2, \"train_k_factor\": 3, \"val_k_factor\": 2, \"test_k_factor\": 2, \"torch_default_dtype\": \"torch.float32\", \"n_epoch\": 50, \"patience\": 3, \"criteria_for_best\": \"target_loss\", \"x_net\": [{\"class\": \"nnReshape\", \"kargs\": {\"shape\": [-1, 1, 2, 256]}}, {\"class\": \"Conv2d\", \"kargs\": {\"in_channels\": 1, \"out_channels\": 256, \"kernel_size\": [1, 7], \"bias\": false, \"padding\": [0, 3]}}, {\"class\": \"ReLU\", \"kargs\": {\"inplace\": true}}, {\"class\": \"BatchNorm2d\", \"kargs\": {\"num_features\": 256}}, {\"class\": \"Conv2d\", \"kargs\": {\"in_channels\": 256, \"out_channels\": 80, \"kernel_size\": [2, 7], \"bias\": true, \"padding\": [0, 3]}}, {\"class\": \"ReLU\", \"kargs\": {\"inplace\": true}}, {\"class\": \"BatchNorm2d\", \"kargs\": {\"num_features\": 80}}, {\"class\": \"Flatten\", \"kargs\": {}}, {\"class\": \"Linear\", \"kargs\": {\"in_features\": 20480, \"out_features\": 256}}, {\"class\": \"ReLU\", \"kargs\": {\"inplace\": true}}, {\"class\": \"BatchNorm1d\", \"kargs\": {\"num_features\": 256}}, {\"class\": \"Linear\", \"kargs\": {\"in_features\": 256, \"out_features\": 256}}], \"NUM_LOGS_PER_EPOCH\": 10, \"BEST_MODEL_PATH\": \"./best_model.pth\", \"n_way\": 16, \"datasets\": [{\"labels\": [\"3123D52\", \"3123D65\", \"3123D79\", \"3123D80\", \"3123D54\", \"3123D70\", \"3123D7B\", \"3123D89\", \"3123D58\", \"3123D76\", \"3123D7D\", \"3123EFE\", \"3123D64\", \"3123D78\", \"3123D7E\", \"3124E4A\"], \"domains\": [32, 38, 8, 44, 14, 50, 20, 26], \"num_examples_per_domain_per_label\": 10000, \"pickle_path\": \"/mnt/wd500GB/CSC500/csc500-main/datasets/oracle.Run1_10kExamples_stratified_ds.2022A.pkl\", \"source_or_target_dataset\": \"source\", \"x_transforms\": [\"unit_mag\"], \"episode_transforms\": [], \"domain_prefix\": \"ORACLE.run1_\"}, {\"labels\": [\"3123D52\", \"3123D65\", \"3123D79\", \"3123D80\", \"3123D54\", \"3123D70\", \"3123D7B\", \"3123D89\", \"3123D58\", \"3123D76\", \"3123D7D\", \"3123EFE\", \"3123D64\", \"3123D78\", \"3123D7E\", \"3124E4A\"], \"domains\": [32, 38, 8, 44, 14, 50, 20, 26], \"num_examples_per_domain_per_label\": 10000, \"pickle_path\": \"/mnt/wd500GB/CSC500/csc500-main/datasets/oracle.Run2_10kExamples_stratified_ds.2022A.pkl\", \"source_or_target_dataset\": \"target\", \"x_transforms\": [\"unit_mag\"], \"episode_transforms\": [], \"domain_prefix\": \"ORACLE.run2_\"}], \"domains_source\": [\"ORACLE.run1_32\", \"ORACLE.run1_38\", \"ORACLE.run1_8\", \"ORACLE.run1_44\", \"ORACLE.run1_14\", \"ORACLE.run1_50\", \"ORACLE.run1_20\", \"ORACLE.run1_26\"], \"domains_target\": [\"ORACLE.run2_32\", \"ORACLE.run2_38\", \"ORACLE.run2_8\", \"ORACLE.run2_44\", \"ORACLE.run2_14\", \"ORACLE.run2_50\", \"ORACLE.run2_20\", \"ORACLE.run2_26\"]}, \"results\": {\"source_test_label_accuracy\": 0.7392057291666667, \"source_test_label_loss\": 0.7238537073135376, \"target_test_label_accuracy\": 0.7217122395833333, \"target_test_label_loss\": 0.8055176734924316, \"source_val_label_accuracy\": 0.73998046875, \"source_val_label_loss\": 0.727213442325592, \"target_val_label_accuracy\": 0.7207747395833334, \"target_val_label_loss\": 0.8113313317298889, \"total_epochs_trained\": 8, \"total_experiment_time_secs\": 7501.305064916611, \"confusion\": {\"ORACLE.run1_14\": {\"15\": {\"15\": 1166, \"7\": 32, \"5\": 2}, \"3\": {\"3\": 1075, \"4\": 83, \"14\": 25, \"2\": 11, \"0\": 2, \"5\": 2, \"10\": 1, \"13\": 1}, \"6\": {\"6\": 712, \"13\": 435, \"2\": 28, \"14\": 25}, \"1\": {\"1\": 1100, \"5\": 92, \"4\": 7, \"3\": 1}, \"8\": {\"8\": 1200}, \"10\": {\"10\": 1164, \"0\": 36}, \"9\": {\"9\": 1197, \"12\": 3}, \"13\": {\"13\": 422, \"6\": 493, \"2\": 116, \"14\": 151, \"5\": 13, \"4\": 5}, \"12\": {\"12\": 1198, \"9\": 2}, \"5\": {\"4\": 205, \"2\": 40, \"5\": 814, \"1\": 128, \"7\": 1, \"3\": 11, \"13\": 1}, \"0\": {\"10\": 61, \"0\": 1100, \"11\": 21, \"3\": 18}, \"2\": {\"14\": 197, \"6\": 46, \"2\": 619, \"15\": 26, \"4\": 64, \"5\": 140, \"13\": 60, \"3\": 46, \"1\": 1, \"7\": 1}, \"11\": {\"11\": 1084, \"9\": 47, \"0\": 69}, \"14\": {\"14\": 992, \"13\": 81, \"3\": 18, \"6\": 31, \"2\": 77, \"4\": 1}, \"7\": {\"7\": 1184, \"15\": 13, \"5\": 2, \"1\": 1}, \"4\": {\"3\": 85, \"4\": 948, \"5\": 117, \"1\": 11, \"2\": 38, \"14\": 1}}, \"ORACLE.run1_20\": {\"3\": {\"12\": 260, \"3\": 547, \"2\": 60, \"4\": 70, \"5\": 22, \"9\": 196, \"1\": 16, \"7\": 16, \"0\": 9, \"8\": 3, \"15\": 1}, \"15\": {\"15\": 784, \"1\": 213, \"0\": 70, \"5\": 72, \"12\": 25, \"13\": 30, \"9\": 2, \"3\": 3, \"2\": 1}, \"8\": {\"8\": 974, \"4\": 120, \"7\": 62, \"14\": 23, \"10\": 10, \"3\": 7, \"6\": 4}, \"4\": {\"4\": 1038, \"3\": 45, \"8\": 84, \"7\": 2, \"5\": 1, \"9\": 4, \"10\": 20, \"0\": 2, \"12\": 3, \"2\": 1}, \"14\": {\"14\": 1029, \"6\": 100, \"8\": 17, \"10\": 54}, \"0\": {\"0\": 724, \"5\": 269, \"15\": 113, \"1\": 30, \"12\": 21, \"3\": 19, \"2\": 5, \"7\": 4, \"4\": 7, \"8\": 3, \"13\": 5}, \"7\": {\"7\": 976, \"8\": 51, \"10\": 2, \"2\": 102, \"12\": 2, \"4\": 9, \"9\": 34, \"3\": 22, \"6\": 2}, \"6\": {\"6\": 1062, \"14\": 127, \"7\": 6, \"8\": 4, \"10\": 1}, \"10\": {\"10\": 1110, \"4\": 13, \"14\": 69, \"3\": 1, \"6\": 2, \"8\": 5}, \"5\": {\"12\": 106, \"5\": 542, \"1\": 187, \"0\": 236, \"15\": 89, \"3\": 31, \"2\": 3, \"9\": 3, \"4\": 2, \"13\": 1}, \"2\": {\"9\": 281, \"2\": 591, \"12\": 49, \"7\": 145, \"3\": 72, \"13\": 52, \"1\": 5, \"15\": 2, \"5\": 3}, \"12\": {\"12\": 519, \"1\": 177, \"9\": 108, \"15\": 17, \"5\": 130, \"3\": 203, \"2\": 37, \"0\": 5, \"4\": 3, \"13\": 1}, \"9\": {\"3\": 210, \"9\": 541, \"2\": 292, \"5\": 1, \"1\": 5, \"12\": 103, \"7\": 38, \"13\": 5, \"4\": 5}, \"1\": {\"1\": 616, \"12\": 175, \"15\": 187, \"5\": 181, \"0\": 12, \"3\": 18, \"9\": 8, \"2\": 3}, \"11\": {\"11\": 1200}, \"13\": {\"13\": 1115, \"15\": 19, \"2\": 48, \"9\": 4, \"1\": 5, \"5\": 2, \"7\": 3, \"12\": 2, \"0\": 1, \"3\": 1}}, \"ORACLE.run1_38\": {\"5\": {\"5\": 542, \"8\": 353, \"0\": 56, \"15\": 39, \"9\": 44, \"6\": 49, \"13\": 3, \"7\": 104, \"3\": 4, \"1\": 4, \"10\": 2}, \"8\": {\"8\": 722, \"0\": 131, \"15\": 16, \"5\": 267, \"7\": 30, \"10\": 28, \"13\": 5, \"6\": 1}, \"11\": {\"11\": 1046, \"14\": 142, \"10\": 4, \"2\": 5, \"12\": 3}, \"1\": {\"1\": 1143, \"15\": 57}, \"10\": {\"10\": 987, \"13\": 112, \"4\": 4, \"8\": 39, \"0\": 15, \"14\": 12, \"12\": 10, \"2\": 3, \"11\": 7, \"5\": 3, \"7\": 4, \"15\": 4}, \"15\": {\"2\": 6, \"15\": 949, \"13\": 113, \"5\": 15, \"8\": 36, \"1\": 74, \"10\": 6, \"0\": 1}, \"3\": {\"3\": 1118, \"9\": 37, \"0\": 19, \"6\": 4, \"7\": 19, \"5\": 2, \"8\": 1}, \"7\": {\"7\": 974, \"0\": 134, \"5\": 54, \"8\": 31, \"3\": 2, \"10\": 2, \"9\": 3}, \"4\": {\"4\": 1145, \"12\": 52, \"10\": 3}, \"14\": {\"14\": 1079, \"2\": 76, \"11\": 32, \"10\": 11, \"13\": 2}, \"9\": {\"9\": 816, \"6\": 335, \"3\": 33, \"5\": 14, \"0\": 1, \"7\": 1}, \"12\": {\"12\": 1159, \"4\": 39, \"10\": 2}, \"6\": {\"6\": 1040, \"9\": 147, \"5\": 11, \"8\": 1, \"3\": 1}, \"2\": {\"2\": 1094, \"14\": 79, \"13\": 22, \"11\": 2, \"15\": 3}, \"0\": {\"8\": 250, \"0\": 549, \"3\": 76, \"7\": 194, \"4\": 8, \"10\": 21, \"5\": 85, \"15\": 2, \"12\": 11, \"9\": 1, \"6\": 1, \"13\": 2}, \"13\": {\"10\": 95, \"13\": 858, \"15\": 200, \"2\": 25, \"8\": 14, \"14\": 2, \"1\": 3, \"0\": 2, \"5\": 1}}, \"ORACLE.run1_8\": {\"9\": {\"9\": 1200}, \"10\": {\"10\": 795, \"5\": 38, \"14\": 244, \"13\": 90, \"4\": 24, \"0\": 3, \"11\": 1, \"1\": 5}, \"13\": {\"4\": 194, \"13\": 427, \"14\": 102, \"0\": 313, \"6\": 43, \"10\": 112, \"7\": 8, \"1\": 1}, \"0\": {\"0\": 752, \"13\": 242, \"7\": 81, \"4\": 53, \"6\": 60, \"10\": 10, \"14\": 2}, \"1\": {\"1\": 877, \"11\": 250, \"14\": 46, \"4\": 5, \"5\": 11, \"10\": 11}, \"15\": {\"15\": 920, \"12\": 234, \"8\": 42, \"2\": 2, \"3\": 2}, \"5\": {\"5\": 1081, \"10\": 63, \"14\": 15, \"1\": 38, \"11\": 3}, \"3\": {\"3\": 1062, \"2\": 90, \"12\": 44, \"15\": 4}, \"6\": {\"7\": 271, \"6\": 741, \"0\": 56, \"4\": 104, \"13\": 26, \"8\": 1, \"14\": 1}, \"11\": {\"11\": 814, \"1\": 356, \"5\": 12, \"14\": 12, \"8\": 4, \"4\": 2}, \"8\": {\"8\": 1147, \"7\": 2, \"15\": 43, \"6\": 5, \"11\": 2, \"4\": 1}, \"4\": {\"4\": 648, \"14\": 180, \"13\": 201, \"0\": 50, \"6\": 97, \"10\": 18, \"7\": 3, \"1\": 3}, \"12\": {\"12\": 685, \"15\": 352, \"3\": 137, \"8\": 15, \"2\": 10, \"7\": 1}, \"14\": {\"14\": 631, \"10\": 194, \"1\": 51, \"13\": 96, \"4\": 213, \"0\": 1, \"11\": 8, \"6\": 3, \"5\": 3}, \"2\": {\"2\": 985, \"3\": 159, \"12\": 10, \"15\": 31, \"7\": 13, \"6\": 1, \"8\": 1}, \"7\": {\"7\": 900, \"6\": 262, \"13\": 1, \"0\": 31, \"8\": 2, \"4\": 4}}, \"ORACLE.run1_50\": {\"7\": {\"7\": 730, \"10\": 21, \"5\": 152, \"13\": 281, \"6\": 11, \"4\": 5}, \"3\": {\"3\": 1177, \"8\": 23}, \"8\": {\"8\": 1149, \"10\": 37, \"3\": 14}, \"2\": {\"2\": 1113, \"0\": 86, \"14\": 1}, \"14\": {\"14\": 1187, \"12\": 11, \"11\": 2}, \"4\": {\"4\": 593, \"5\": 148, \"1\": 169, \"15\": 159, \"7\": 27, \"13\": 14, \"6\": 90}, \"6\": {\"13\": 85, \"6\": 918, \"1\": 56, \"5\": 28, \"4\": 91, \"7\": 6, \"15\": 12, \"0\": 4}, \"15\": {\"15\": 934, \"1\": 171, \"11\": 15, \"4\": 65, \"6\": 14, \"5\": 1}, \"10\": {\"10\": 1118, \"0\": 24, \"7\": 16, \"8\": 24, \"13\": 16, \"5\": 2}, \"11\": {\"11\": 1100, \"14\": 13, \"1\": 5, \"9\": 65, \"15\": 16, \"12\": 1}, \"13\": {\"7\": 219, \"13\": 759, \"10\": 23, \"6\": 61, \"5\": 132, \"4\": 6}, \"9\": {\"9\": 973, \"11\": 154, \"12\": 71, \"14\": 2}, \"0\": {\"0\": 1038, \"2\": 99, \"10\": 61, \"13\": 2}, \"1\": {\"1\": 789, \"4\": 102, \"15\": 199, \"6\": 95, \"5\": 11, \"13\": 1, \"11\": 3}, \"12\": {\"14\": 31, \"12\": 1090, \"9\": 77, \"11\": 2}, \"5\": {\"1\": 48, \"7\": 230, \"13\": 178, \"5\": 513, \"10\": 8, \"4\": 147, \"6\": 74, \"15\": 1, \"0\": 1}}, \"ORACLE.run1_32\": {\"8\": {\"13\": 69, \"8\": 933, \"0\": 103, \"4\": 6, \"5\": 75, \"3\": 10, \"7\": 2, \"14\": 2}, \"14\": {\"7\": 190, \"14\": 548, \"11\": 326, \"5\": 26, \"4\": 11, \"0\": 46, \"13\": 34, \"3\": 3, \"8\": 11, \"2\": 5}, \"2\": {\"4\": 185, \"2\": 968, \"5\": 2, \"7\": 17, \"0\": 26, \"14\": 2}, \"0\": {\"0\": 926, \"5\": 28, \"8\": 95, \"4\": 43, \"2\": 33, \"7\": 45, \"13\": 11, \"14\": 19}, \"1\": {\"1\": 1189, \"10\": 11}, \"10\": {\"10\": 1194, \"1\": 6}, \"11\": {\"11\": 969, \"7\": 20, \"14\": 173, \"13\": 23, \"3\": 11, \"5\": 4}, \"5\": {\"13\": 296, \"7\": 152, \"5\": 421, \"8\": 58, \"3\": 41, \"4\": 148, \"11\": 9, \"0\": 40, \"14\": 25, \"2\": 10}, \"15\": {\"15\": 1193, \"3\": 2, \"8\": 5}, \"3\": {\"3\": 1113, \"11\": 19, \"13\": 48, \"5\": 9, \"8\": 6, \"14\": 5}, \"12\": {\"12\": 1200}, \"7\": {\"7\": 586, \"5\": 160, \"14\": 150, \"13\": 75, \"2\": 18, \"4\": 142, \"11\": 36, \"0\": 26, \"8\": 6, \"3\": 1}, \"13\": {\"8\": 57, \"13\": 552, \"5\": 271, \"4\": 78, \"7\": 107, \"3\": 73, \"11\": 14, \"14\": 25, \"0\": 23}, \"6\": {\"6\": 1200}, \"4\": {\"4\": 779, \"7\": 109, \"2\": 168, \"13\": 34, \"0\": 27, \"5\": 78, \"14\": 4, \"8\": 1}, \"9\": {\"9\": 1198, \"12\": 2}}, \"ORACLE.run1_26\": {\"4\": {\"8\": 87, \"4\": 501, \"0\": 179, \"10\": 49, \"14\": 229, \"1\": 82, \"7\": 71, \"15\": 1, \"9\": 1}, \"12\": {\"12\": 1199, \"11\": 1}, \"10\": {\"0\": 232, \"10\": 554, \"8\": 149, \"14\": 101, \"9\": 24, \"4\": 62, \"6\": 54, \"15\": 7, \"1\": 14, \"7\": 3}, \"0\": {\"10\": 256, \"0\": 411, \"6\": 20, \"4\": 158, \"14\": 184, \"7\": 12, \"8\": 121, \"1\": 24, \"9\": 11, \"15\": 3}, \"13\": {\"13\": 870, \"5\": 214, \"9\": 27, \"2\": 20, \"6\": 13, \"15\": 56}, \"9\": {\"9\": 498, \"15\": 331, \"8\": 109, \"13\": 26, \"10\": 21, \"6\": 157, \"5\": 43, \"2\": 5, \"4\": 2, \"7\": 2, \"0\": 6}, \"3\": {\"3\": 773, \"2\": 255, \"7\": 169, \"15\": 1, \"4\": 2}, \"2\": {\"3\": 375, \"8\": 37, \"2\": 460, \"7\": 128, \"5\": 107, \"4\": 8, \"15\": 62, \"13\": 9, \"9\": 12, \"1\": 1, \"10\": 1}, \"5\": {\"5\": 808, \"13\": 130, \"15\": 128, \"2\": 54, \"9\": 44, \"6\": 5, \"8\": 29, \"7\": 1, \"4\": 1}, \"14\": {\"0\": 183, \"14\": 423, \"4\": 226, \"10\": 101, \"1\": 230, \"7\": 14, \"8\": 23}, \"8\": {\"10\": 175, \"8\": 503, \"6\": 35, \"14\": 22, \"9\": 93, \"7\": 80, \"15\": 65, \"4\": 109, \"0\": 92, \"2\": 11, \"5\": 8, \"1\": 6, \"3\": 1}, \"7\": {\"7\": 659, \"8\": 72, \"4\": 103, \"2\": 128, \"0\": 18, \"3\": 182, \"14\": 12, \"10\": 4, \"9\": 4, \"15\": 6, \"5\": 5, \"1\": 7}, \"6\": {\"6\": 926, \"10\": 62, \"9\": 147, \"15\": 30, \"8\": 17, \"0\": 11, \"5\": 4, \"14\": 1, \"13\": 2}, \"11\": {\"11\": 1195, \"12\": 5}, \"15\": {\"8\": 96, \"9\": 347, \"5\": 128, \"15\": 505, \"6\": 26, \"13\": 48, \"10\": 5, \"2\": 26, \"0\": 3, \"7\": 15, \"4\": 1}, \"1\": {\"14\": 205, \"1\": 801, \"0\": 29, \"3\": 4, \"4\": 117, \"10\": 32, \"7\": 10, \"8\": 1, \"2\": 1}}, \"ORACLE.run1_44\": {\"12\": {\"10\": 55, \"12\": 958, \"1\": 174, \"3\": 12, \"2\": 1}, \"7\": {\"7\": 812, \"2\": 143, \"6\": 33, \"9\": 207, \"13\": 4, \"1\": 1}, \"5\": {\"5\": 1044, \"14\": 28, \"0\": 85, \"15\": 27, \"8\": 14, \"4\": 2}, \"15\": {\"15\": 981, \"14\": 81, \"0\": 73, \"5\": 42, \"8\": 16, \"4\": 7}, \"8\": {\"8\": 735, \"0\": 418, \"15\": 31, \"5\": 16}, \"2\": {\"2\": 938, \"1\": 27, \"10\": 58, \"7\": 169, \"6\": 1, \"3\": 4, \"9\": 2, \"12\": 1}, \"13\": {\"13\": 814, \"11\": 28, \"6\": 223, \"9\": 128, \"4\": 4, \"7\": 2, \"14\": 1}, \"4\": {\"4\": 918, \"14\": 276, \"15\": 5, \"5\": 1}, \"0\": {\"0\": 770, \"5\": 81, \"8\": 292, \"15\": 57}, \"6\": {\"9\": 111, \"6\": 865, \"11\": 13, \"13\": 191, \"7\": 19, \"2\": 1}, \"9\": {\"13\": 136, \"9\": 680, \"7\": 261, \"6\": 115, \"2\": 7, \"4\": 1}, \"11\": {\"11\": 1132, \"13\": 53, \"6\": 15}, \"10\": {\"10\": 930, \"2\": 91, \"1\": 97, \"12\": 82}, \"14\": {\"14\": 802, \"4\": 293, \"15\": 74, \"5\": 31}, \"1\": {\"10\": 83, \"1\": 744, \"3\": 138, \"2\": 52, \"12\": 182, \"7\": 1}, \"3\": {\"3\": 1073, \"12\": 8, \"1\": 114, \"2\": 4, \"7\": 1}}, \"ORACLE.run2_14\": {\"15\": {\"15\": 1185, \"7\": 14, \"13\": 1}, \"3\": {\"3\": 1059, \"4\": 63, \"1\": 2, \"5\": 36, \"14\": 17, \"2\": 23}, \"6\": {\"13\": 217, \"6\": 901, \"14\": 64, \"2\": 16, \"4\": 2}, \"1\": {\"1\": 1121, \"5\": 59, \"4\": 19, \"2\": 1}, \"8\": {\"8\": 1200}, \"10\": {\"10\": 1166, \"0\": 34}, \"9\": {\"9\": 1192, \"11\": 2, \"12\": 6}, \"13\": {\"13\": 908, \"6\": 273, \"4\": 3, \"2\": 9, \"14\": 7}, \"12\": {\"12\": 607, \"11\": 322, \"9\": 124, \"10\": 9, \"8\": 48, \"0\": 90}, \"5\": {\"5\": 661, \"4\": 303, \"2\": 92, \"3\": 71, \"1\": 68, \"14\": 5}, \"0\": {\"0\": 1198, \"10\": 1, \"3\": 1}, \"2\": {\"2\": 573, \"14\": 210, \"5\": 167, \"3\": 84, \"13\": 67, \"4\": 72, \"6\": 24, \"0\": 1, \"1\": 1, \"15\": 1}, \"11\": {\"11\": 1181, \"12\": 18, \"10\": 1}, \"14\": {\"14\": 928, \"2\": 149, \"6\": 82, \"4\": 10, \"0\": 2, \"3\": 24, \"5\": 3, \"13\": 2}, \"7\": {\"7\": 1197, \"15\": 3}, \"4\": {\"4\": 799, \"5\": 289, \"3\": 40, \"2\": 50, \"1\": 20, \"6\": 1, \"14\": 1}}, \"ORACLE.run2_20\": {\"3\": {\"3\": 524, \"5\": 133, \"9\": 131, \"7\": 167, \"2\": 170, \"15\": 5, \"12\": 35, \"4\": 18, \"10\": 8, \"8\": 7, \"1\": 1, \"0\": 1}, \"15\": {\"15\": 540, \"13\": 277, \"1\": 88, \"5\": 59, \"12\": 64, \"2\": 82, \"0\": 32, \"3\": 4, \"9\": 54}, \"8\": {\"8\": 834, \"4\": 48, \"7\": 119, \"14\": 133, \"10\": 23, \"6\": 15, \"5\": 15, \"3\": 12, \"2\": 1}, \"4\": {\"4\": 1083, \"8\": 16, \"1\": 3, \"5\": 29, \"0\": 19, \"12\": 37, \"3\": 8, \"10\": 1, \"2\": 1, \"14\": 1, \"9\": 2}, \"14\": {\"14\": 850, \"10\": 74, \"8\": 157, \"6\": 116, \"7\": 2, \"4\": 1}, \"0\": {\"0\": 939, \"12\": 42, \"15\": 53, \"1\": 53, \"4\": 18, \"5\": 79, \"13\": 14, \"2\": 2}, \"7\": {\"7\": 919, \"8\": 113, \"3\": 112, \"14\": 4, \"10\": 25, \"5\": 18, \"2\": 4, \"6\": 3, \"4\": 1, \"13\": 1}, \"6\": {\"6\": 1117, \"14\": 61, \"10\": 6, \"8\": 12, \"7\": 4}, \"10\": {\"10\": 1053, \"3\": 7, \"14\": 88, \"7\": 9, \"8\": 31, \"6\": 8, \"4\": 4}, \"5\": {\"5\": 507, \"3\": 144, \"0\": 87, \"12\": 105, \"2\": 149, \"15\": 69, \"1\": 16, \"4\": 29, \"7\": 27, \"9\": 40, \"13\": 15, \"8\": 12}, \"2\": {\"9\": 262, \"2\": 415, \"3\": 199, \"5\": 152, \"15\": 80, \"12\": 62, \"13\": 13, \"1\": 11, \"7\": 5, \"0\": 1}, \"12\": {\"1\": 241, \"12\": 513, \"5\": 99, \"9\": 115, \"13\": 2, \"4\": 39, \"3\": 14, \"15\": 68, \"0\": 47, \"2\": 62}, \"9\": {\"5\": 39, \"9\": 492, \"15\": 76, \"3\": 135, \"2\": 299, \"4\": 7, \"1\": 34, \"12\": 114, \"7\": 2, \"13\": 2}, \"1\": {\"1\": 700, \"12\": 271, \"0\": 48, \"9\": 42, \"15\": 101, \"2\": 9, \"13\": 14, \"5\": 10, \"4\": 2, \"3\": 3}, \"11\": {\"11\": 1200}, \"13\": {\"13\": 892, \"9\": 5, \"2\": 21, \"15\": 263, \"1\": 7, \"12\": 4, \"5\": 5, \"0\": 3}}, \"ORACLE.run2_38\": {\"5\": {\"10\": 18, \"5\": 480, \"13\": 58, \"15\": 137, \"8\": 369, \"7\": 125, \"3\": 9, \"1\": 1, \"0\": 3}, \"8\": {\"8\": 434, \"5\": 354, \"15\": 205, \"13\": 92, \"7\": 90, \"3\": 10, \"10\": 11, \"1\": 3, \"14\": 1}, \"11\": {\"14\": 65, \"11\": 1107, \"12\": 17, \"4\": 6, \"2\": 5}, \"1\": {\"1\": 1132, \"8\": 2, \"15\": 60, \"5\": 3, \"13\": 3}, \"10\": {\"10\": 653, \"7\": 407, \"8\": 38, \"13\": 20, \"15\": 3, \"3\": 21, \"4\": 11, \"0\": 8, \"5\": 39}, \"15\": {\"15\": 623, \"1\": 122, \"8\": 210, \"5\": 175, \"0\": 13, \"9\": 1, \"13\": 25, \"6\": 7, \"3\": 11, \"10\": 1, \"7\": 11, \"14\": 1}, \"3\": {\"10\": 82, \"13\": 113, \"3\": 439, \"0\": 308, \"5\": 30, \"8\": 76, \"6\": 19, \"9\": 51, \"7\": 45, \"15\": 35, \"1\": 2}, \"7\": {\"10\": 327, \"5\": 122, \"7\": 602, \"8\": 107, \"15\": 7, \"3\": 15, \"13\": 14, \"0\": 5, \"14\": 1}, \"4\": {\"4\": 1166, \"12\": 22, \"11\": 1, \"10\": 7, \"7\": 4}, \"14\": {\"14\": 710, \"2\": 311, \"11\": 33, \"12\": 98, \"5\": 7, \"7\": 25, \"4\": 3, \"13\": 4, \"8\": 7, \"10\": 2}, \"9\": {\"9\": 894, \"6\": 294, \"0\": 4, \"3\": 8}, \"12\": {\"12\": 1176, \"4\": 16, \"14\": 8}, \"6\": {\"6\": 983, \"9\": 212, \"3\": 3, \"15\": 2}, \"2\": {\"2\": 1054, \"14\": 146}, \"0\": {\"0\": 1021, \"3\": 141, \"10\": 13, \"13\": 3, \"7\": 7, \"8\": 7, \"5\": 3, \"9\": 2, \"6\": 2, \"15\": 1}, \"13\": {\"13\": 531, \"8\": 157, \"5\": 148, \"7\": 45, \"1\": 44, \"6\": 4, \"10\": 42, \"3\": 123, \"0\": 10, \"2\": 13, \"15\": 70, \"12\": 2, \"14\": 10, \"9\": 1}}, \"ORACLE.run2_8\": {\"9\": {\"9\": 1200}, \"10\": {\"10\": 702, \"0\": 190, \"5\": 218, \"13\": 33, \"14\": 48, \"1\": 9}, \"13\": {\"13\": 803, \"14\": 186, \"1\": 133, \"10\": 31, \"5\": 11, \"6\": 25, \"0\": 9, \"7\": 2}, \"0\": {\"0\": 790, \"10\": 190, \"13\": 6, \"14\": 197, \"5\": 10, \"4\": 2, \"6\": 5}, \"1\": {\"13\": 115, \"1\": 1057, \"14\": 3, \"5\": 16, \"10\": 9}, \"15\": {\"15\": 711, \"11\": 168, \"12\": 182, \"8\": 126, \"3\": 9, \"7\": 4}, \"5\": {\"5\": 915, \"10\": 249, \"1\": 26, \"13\": 6, \"0\": 2, \"14\": 2}, \"3\": {\"3\": 1109, \"12\": 80, \"15\": 10, \"11\": 1}, \"6\": {\"6\": 563, \"7\": 196, \"4\": 403, \"14\": 20, \"2\": 8, \"13\": 4, \"0\": 3, \"8\": 3}, \"11\": {\"15\": 190, \"12\": 137, \"11\": 587, \"8\": 282, \"4\": 1, \"6\": 3}, \"8\": {\"8\": 1034, \"11\": 94, \"15\": 66, \"6\": 2, \"7\": 4}, \"4\": {\"6\": 380, \"4\": 483, \"2\": 79, \"7\": 246, \"14\": 10, \"13\": 1, \"0\": 1}, \"12\": {\"12\": 1001, \"3\": 77, \"11\": 22, \"15\": 100}, \"14\": {\"0\": 167, \"14\": 725, \"13\": 200, \"10\": 60, \"4\": 16, \"6\": 28, \"1\": 3, \"5\": 1}, \"2\": {\"2\": 896, \"7\": 174, \"4\": 99, \"6\": 31}, \"7\": {\"7\": 606, \"6\": 215, \"2\": 139, \"4\": 234, \"8\": 5, \"14\": 1}}, \"ORACLE.run2_50\": {\"7\": {\"7\": 588, \"13\": 388, \"5\": 118, \"10\": 86, \"4\": 15, \"6\": 4, \"0\": 1}, \"3\": {\"3\": 1150, \"8\": 50}, \"8\": {\"8\": 1156, \"3\": 43, \"10\": 1}, \"2\": {\"2\": 1128, \"0\": 72}, \"14\": {\"14\": 1193, \"11\": 4, \"12\": 3}, \"4\": {\"4\": 673, \"5\": 309, \"1\": 64, \"6\": 139, \"7\": 6, \"13\": 3, \"10\": 6}, \"6\": {\"4\": 127, \"6\": 842, \"5\": 60, \"1\": 149, \"15\": 15, \"10\": 3, \"0\": 2, \"7\": 2}, \"15\": {\"15\": 1089, \"1\": 72, \"11\": 22, \"6\": 16, \"14\": 1}, \"10\": {\"10\": 915, \"13\": 188, \"5\": 35, \"7\": 42, \"0\": 18, \"6\": 1, \"4\": 1}, \"11\": {\"11\": 1131, \"12\": 9, \"14\": 12, \"15\": 37, \"9\": 11}, \"13\": {\"7\": 329, \"13\": 642, \"10\": 173, \"5\": 52, \"4\": 3, \"6\": 1}, \"9\": {\"9\": 1145, \"12\": 36, \"11\": 19}, \"0\": {\"0\": 1090, \"2\": 63, \"10\": 42, \"4\": 1, \"6\": 2, \"5\": 2}, \"1\": {\"15\": 56, \"1\": 971, \"6\": 128, \"4\": 40, \"5\": 5}, \"12\": {\"12\": 1073, \"11\": 15, \"14\": 51, \"9\": 61}, \"5\": {\"4\": 284, \"7\": 95, \"5\": 608, \"10\": 47, \"13\": 86, \"6\": 67, \"1\": 8, \"0\": 5}}, \"ORACLE.run2_32\": {\"8\": {\"5\": 71, \"8\": 929, \"0\": 95, \"4\": 36, \"13\": 51, \"3\": 12, \"11\": 6}, \"14\": {\"14\": 1037, \"2\": 56, \"0\": 47, \"5\": 49, \"11\": 11}, \"2\": {\"2\": 1002, \"4\": 44, \"5\": 60, \"14\": 59, \"7\": 14, \"11\": 7, \"0\": 13, \"13\": 1}, \"0\": {\"0\": 689, \"5\": 119, \"4\": 105, \"11\": 147, \"7\": 19, \"8\": 66, \"13\": 31, \"14\": 17, \"2\": 7}, \"1\": {\"1\": 1187, \"10\": 13}, \"10\": {\"10\": 1195, \"1\": 5}, \"11\": {\"7\": 200, \"11\": 692, \"13\": 73, \"0\": 151, \"4\": 52, \"2\": 15, \"8\": 2, \"14\": 10, \"5\": 5}, \"5\": {\"2\": 132, \"3\": 6, \"13\": 46, \"4\": 119, \"14\": 84, \"8\": 136, \"5\": 512, \"0\": 139, \"7\": 14, \"11\": 12}, \"15\": {\"15\": 1192, \"8\": 8}, \"3\": {\"3\": 1152, \"4\": 3, \"8\": 12, \"13\": 30, \"7\": 2, \"11\": 1}, \"12\": {\"12\": 1200}, \"7\": {\"11\": 198, \"2\": 14, \"5\": 11, \"7\": 726, \"4\": 88, \"13\": 142, \"0\": 18, \"3\": 3}, \"13\": {\"3\": 24, \"13\": 691, \"4\": 242, \"7\": 109, \"11\": 56, \"8\": 40, \"0\": 19, \"5\": 19}, \"6\": {\"6\": 1200}, \"4\": {\"4\": 645, \"5\": 122, \"2\": 30, \"7\": 66, \"13\": 206, \"8\": 22, \"11\": 30, \"0\": 78, \"14\": 1}, \"9\": {\"9\": 1176, \"14\": 21, \"12\": 3}}, \"ORACLE.run2_26\": {\"4\": {\"4\": 710, \"7\": 67, \"8\": 43, \"1\": 10, \"3\": 79, \"0\": 114, \"15\": 41, \"10\": 23, \"14\": 41, \"2\": 72}, \"12\": {\"12\": 1199, \"11\": 1}, \"10\": {\"10\": 432, \"0\": 229, \"14\": 190, \"4\": 65, \"6\": 100, \"8\": 87, \"7\": 14, \"1\": 52, \"2\": 11, \"12\": 4, \"9\": 9, \"15\": 4, \"5\": 2, \"3\": 1}, \"0\": {\"4\": 133, \"8\": 103, \"0\": 435, \"10\": 184, \"14\": 227, \"1\": 78, \"2\": 16, \"7\": 9, \"15\": 8, \"6\": 4, \"5\": 2, \"9\": 1}, \"13\": {\"13\": 910, \"5\": 161, \"9\": 94, \"2\": 3, \"6\": 26, \"8\": 6}, \"9\": {\"9\": 758, \"6\": 121, \"8\": 101, \"10\": 12, \"2\": 18, \"7\": 28, \"13\": 81, \"5\": 75, \"15\": 3, \"14\": 1, \"0\": 2}, \"3\": {\"3\": 737, \"4\": 75, \"15\": 179, \"2\": 119, \"7\": 89, \"5\": 1}, \"2\": {\"2\": 353, \"5\": 38, \"7\": 415, \"3\": 141, \"15\": 67, \"4\": 98, \"8\": 64, \"0\": 5, \"10\": 4, \"13\": 3, \"9\": 8, \"14\": 4}, \"5\": {\"9\": 76, \"6\": 90, \"5\": 483, \"13\": 256, \"7\": 97, \"3\": 20, \"8\": 51, \"2\": 97, \"10\": 10, \"4\": 3, \"15\": 10, \"14\": 4, \"1\": 3}, \"14\": {\"4\": 50, \"8\": 82, \"10\": 151, \"14\": 429, \"1\": 253, \"0\": 218, \"6\": 2, \"5\": 5, \"2\": 4, \"7\": 4, \"9\": 2}, \"8\": {\"8\": 522, \"2\": 87, \"0\": 82, \"5\": 54, \"14\": 80, \"10\": 79, \"7\": 134, \"9\": 88, \"4\": 43, \"15\": 5, \"1\": 8, \"13\": 7, \"6\": 10, \"3\": 1}, \"7\": {\"2\": 384, \"15\": 61, \"9\": 17, \"7\": 388, \"0\": 13, \"5\": 41, \"8\": 102, \"3\": 93, \"4\": 92, \"10\": 4, \"14\": 5}, \"6\": {\"6\": 917, \"10\": 53, \"9\": 146, \"8\": 16, \"13\": 41, \"5\": 23, \"0\": 3, \"14\": 1}, \"11\": {\"11\": 1198, \"12\": 2}, \"15\": {\"3\": 210, \"15\": 733, \"7\": 95, \"2\": 107, \"8\": 6, \"4\": 40, \"10\": 1, \"9\": 5, \"0\": 2, \"5\": 1}, \"1\": {\"1\": 772, \"14\": 303, \"10\": 47, \"0\": 59, \"8\": 6, \"4\": 12, \"5\": 1}}, \"ORACLE.run2_44\": {\"12\": {\"3\": 73, \"1\": 279, \"12\": 846, \"10\": 2}, \"7\": {\"7\": 593, \"9\": 311, \"2\": 273, \"6\": 15, \"1\": 8}, \"5\": {\"5\": 1096, \"14\": 83, \"8\": 17, \"15\": 2, \"0\": 2}, \"15\": {\"15\": 1005, \"5\": 7, \"14\": 137, \"0\": 4, \"8\": 10, \"4\": 37}, \"8\": {\"0\": 475, \"8\": 707, \"5\": 11, \"15\": 6, \"14\": 1}, \"2\": {\"7\": 242, \"2\": 674, \"9\": 280, \"1\": 3, \"3\": 1}, \"13\": {\"13\": 1148, \"4\": 27, \"6\": 25}, \"4\": {\"4\": 1089, \"14\": 69, \"15\": 23, \"13\": 19}, \"0\": {\"0\": 647, \"8\": 549, \"15\": 1, \"14\": 1, \"5\": 2}, \"6\": {\"6\": 1108, \"9\": 40, \"7\": 26, \"13\": 23, \"2\": 2, \"11\": 1}, \"9\": {\"9\": 559, \"7\": 261, \"2\": 331, \"6\": 45, \"3\": 1, \"1\": 2, \"13\": 1}, \"11\": {\"11\": 1191, \"6\": 9}, \"10\": {\"10\": 1143, \"12\": 32, \"1\": 24, \"7\": 1}, \"14\": {\"15\": 138, \"4\": 66, \"14\": 882, \"5\": 113, \"8\": 1}, \"1\": {\"1\": 757, \"12\": 297, \"3\": 132, \"7\": 1, \"9\": 1, \"2\": 7, \"10\": 5}, \"3\": {\"3\": 1030, \"1\": 120, \"12\": 50}}}, \"per_domain_accuracy\": {\"ORACLE.run1_14\": {\"accuracy\": 0.83203125, \"source?\": true}, \"ORACLE.run1_20\": {\"accuracy\": 0.69625, \"source?\": true}, \"ORACLE.run1_38\": {\"accuracy\": 0.7927604166666666, \"source?\": true}, \"ORACLE.run1_8\": {\"accuracy\": 0.71171875, \"source?\": true}, \"ORACLE.run1_50\": {\"accuracy\": 0.7906770833333333, \"source?\": true}, \"ORACLE.run1_32\": {\"accuracy\": 0.7796354166666667, \"source?\": true}, \"ORACLE.run1_26\": {\"accuracy\": 0.5773958333333333, \"source?\": true}, \"ORACLE.run1_44\": {\"accuracy\": 0.739375, \"source?\": true}, \"ORACLE.run2_14\": {\"accuracy\": 0.826875, \"source?\": false}, \"ORACLE.run2_20\": {\"accuracy\": 0.6551041666666667, \"source?\": false}, \"ORACLE.run2_38\": {\"accuracy\": 0.67734375, \"source?\": false}, \"ORACLE.run2_8\": {\"accuracy\": 0.6865625, \"source?\": false}, \"ORACLE.run2_50\": {\"accuracy\": 0.8017708333333333, \"source?\": false}, \"ORACLE.run2_32\": {\"accuracy\": 0.79296875, \"source?\": false}, \"ORACLE.run2_26\": {\"accuracy\": 0.5716666666666667, \"source?\": false}, \"ORACLE.run2_44\": {\"accuracy\": 0.75390625, \"source?\": false}}}, \"history\": {\"epoch_indices\": [1, 2, 3, 4, 5, 6, 7, 8], \"train_label_loss\": [1.0360006235633046, 0.7892515189262728, 0.6805977052567704, 0.6079875639573272, 0.5463392887253403, 0.49922564965894534, 0.4563924644965612, 0.41987437660351307], \"source_val_label_loss\": [0.9439341425895691, 0.7971685528755188, 0.7506276965141296, 0.727213442325592, 0.7339739203453064, 0.7320178151130676, 0.7508808970451355, 0.7695569396018982], \"target_val_label_loss\": [0.9946990013122559, 0.8668211102485657, 0.8324437141418457, 0.8113313317298889, 0.8118934631347656, 0.8168963193893433, 0.8366313576698303, 0.8616477847099304], \"source_val_acc_label\": [0.65458984375, 0.7046614583333334, 0.7286979166666666, 0.73998046875, 0.7385677083333333, 0.73990234375, 0.7349674479166667, 0.7310611979166667], \"target_val_acc_label\": [0.6398372395833334, 0.6888671875, 0.7113151041666667, 0.7207747395833334, 0.7222200520833333, 0.7228125, 0.71796875, 0.71060546875]}, \"dataset_metrics\": {\"source\": {\"train\": {\"n_unique_x\": 896000, \"n_unique_y\": 16, \"n_batch/episode\": 33600}, \"val\": {\"n_unique_x\": 192000, \"n_unique_y\": 16, \"n_batch/episode\": 4800}, \"test\": {\"n_unique_x\": 192000, \"n_unique_y\": 16, \"n_batch/episode\": 4800}}, \"target\": {\"train\": {\"n_unique_x\": 896000, \"n_unique_y\": 16, \"n_batch/episode\": 33600}, \"val\": {\"n_unique_x\": 192000, \"n_unique_y\": 16, \"n_batch/episode\": 4800}, \"test\": {\"n_unique_x\": 192000, \"n_unique_y\": 16, \"n_batch/episode\": 4800}}}}'"
      ]
     },
     "execution_count": 29,
     "metadata": {},
     "output_type": "execute_result"
    }
   ],
   "source": [
    "json.dumps(experiment)"
   ]
  }
 ],
 "metadata": {
  "celltoolbar": "Tags",
  "kernelspec": {
   "display_name": "Python 3 (ipykernel)",
   "language": "python",
   "name": "python3"
  },
  "language_info": {
   "codemirror_mode": {
    "name": "ipython",
    "version": 3
   },
   "file_extension": ".py",
   "mimetype": "text/x-python",
   "name": "python",
   "nbconvert_exporter": "python",
   "pygments_lexer": "ipython3",
   "version": "3.8.10"
  },
  "papermill": {
   "default_parameters": {},
   "duration": 7988.554078,
   "end_time": "2022-03-10T11:53:18.841600",
   "environment_variables": {},
   "exception": null,
   "input_path": "/mnt/wd500GB/CSC500/csc500-main/csc500-notebooks/templates/tl_ptn_template.ipynb",
   "output_path": "trial.ipynb",
   "parameters": {
    "parameters": {
     "BEST_MODEL_PATH": "./best_model.pth",
     "NUM_LOGS_PER_EPOCH": 10,
     "criteria_for_best": "target_loss",
     "dataset_seed": 1337,
     "datasets": [
      {
       "domain_prefix": "ORACLE.run1_",
       "domains": [
        32,
        38,
        8,
        44,
        14,
        50,
        20,
        26
       ],
       "episode_transforms": [],
       "labels": [
        "3123D52",
        "3123D65",
        "3123D79",
        "3123D80",
        "3123D54",
        "3123D70",
        "3123D7B",
        "3123D89",
        "3123D58",
        "3123D76",
        "3123D7D",
        "3123EFE",
        "3123D64",
        "3123D78",
        "3123D7E",
        "3124E4A"
       ],
       "num_examples_per_domain_per_label": 10000,
       "pickle_path": "/mnt/wd500GB/CSC500/csc500-main/datasets/oracle.Run1_10kExamples_stratified_ds.2022A.pkl",
       "source_or_target_dataset": "source",
       "x_transforms": [
        "unit_mag"
       ]
      },
      {
       "domain_prefix": "ORACLE.run2_",
       "domains": [
        32,
        38,
        8,
        44,
        14,
        50,
        20,
        26
       ],
       "episode_transforms": [],
       "labels": [
        "3123D52",
        "3123D65",
        "3123D79",
        "3123D80",
        "3123D54",
        "3123D70",
        "3123D7B",
        "3123D89",
        "3123D58",
        "3123D76",
        "3123D7D",
        "3123EFE",
        "3123D64",
        "3123D78",
        "3123D7E",
        "3124E4A"
       ],
       "num_examples_per_domain_per_label": 10000,
       "pickle_path": "/mnt/wd500GB/CSC500/csc500-main/datasets/oracle.Run2_10kExamples_stratified_ds.2022A.pkl",
       "source_or_target_dataset": "target",
       "x_transforms": [
        "unit_mag"
       ]
      }
     ],
     "device": "cuda",
     "experiment_name": "tl_1_oracle.run1-oracle.run2",
     "lr": 0.001,
     "n_epoch": 50,
     "n_query": 2,
     "n_shot": 3,
     "n_way": 16,
     "patience": 3,
     "seed": 1337,
     "test_k_factor": 2,
     "torch_default_dtype": "torch.float32",
     "train_k_factor": 3,
     "val_k_factor": 2,
     "x_net": [
      {
       "class": "nnReshape",
       "kargs": {
        "shape": [
         -1,
         1,
         2,
         256
        ]
       }
      },
      {
       "class": "Conv2d",
       "kargs": {
        "bias": false,
        "in_channels": 1,
        "kernel_size": [
         1,
         7
        ],
        "out_channels": 256,
        "padding": [
         0,
         3
        ]
       }
      },
      {
       "class": "ReLU",
       "kargs": {
        "inplace": true
       }
      },
      {
       "class": "BatchNorm2d",
       "kargs": {
        "num_features": 256
       }
      },
      {
       "class": "Conv2d",
       "kargs": {
        "bias": true,
        "in_channels": 256,
        "kernel_size": [
         2,
         7
        ],
        "out_channels": 80,
        "padding": [
         0,
         3
        ]
       }
      },
      {
       "class": "ReLU",
       "kargs": {
        "inplace": true
       }
      },
      {
       "class": "BatchNorm2d",
       "kargs": {
        "num_features": 80
       }
      },
      {
       "class": "Flatten",
       "kargs": {}
      },
      {
       "class": "Linear",
       "kargs": {
        "in_features": 20480,
        "out_features": 256
       }
      },
      {
       "class": "ReLU",
       "kargs": {
        "inplace": true
       }
      },
      {
       "class": "BatchNorm1d",
       "kargs": {
        "num_features": 256
       }
      },
      {
       "class": "Linear",
       "kargs": {
        "in_features": 256,
        "out_features": 256
       }
      }
     ]
    }
   },
   "start_time": "2022-03-10T09:40:10.287522",
   "version": "2.3.4"
  }
 },
 "nbformat": 4,
 "nbformat_minor": 5
}