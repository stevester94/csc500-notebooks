{
 "cells": [
  {
   "cell_type": "markdown",
   "id": "9fea5f46",
   "metadata": {
    "papermill": {
     "duration": 0.017129,
     "end_time": "2022-03-07T02:02:12.415305",
     "exception": false,
     "start_time": "2022-03-07T02:02:12.398176",
     "status": "completed"
    },
    "tags": []
   },
   "source": [
    "# Transfer Learning Template"
   ]
  },
  {
   "cell_type": "code",
   "execution_count": 1,
   "id": "0902182a",
   "metadata": {
    "execution": {
     "iopub.execute_input": "2022-03-07T02:02:12.458439Z",
     "iopub.status.busy": "2022-03-07T02:02:12.453369Z",
     "iopub.status.idle": "2022-03-07T02:02:13.196535Z",
     "shell.execute_reply": "2022-03-07T02:02:13.195978Z"
    },
    "papermill": {
     "duration": 0.768346,
     "end_time": "2022-03-07T02:02:13.196644",
     "exception": false,
     "start_time": "2022-03-07T02:02:12.428298",
     "status": "completed"
    },
    "tags": []
   },
   "outputs": [],
   "source": [
    "%load_ext autoreload\n",
    "%autoreload 2\n",
    "%matplotlib inline\n",
    "\n",
    "    \n",
    "import os, json, sys, time, random\n",
    "import numpy as np\n",
    "import torch\n",
    "from torch.optim import Adam\n",
    "from  easydict import EasyDict\n",
    "import matplotlib.pyplot as plt\n",
    "\n",
    "from steves_models.steves_ptn import Steves_Prototypical_Network\n",
    "\n",
    "from steves_utils.lazy_iterable_wrapper import Lazy_Iterable_Wrapper\n",
    "from steves_utils.iterable_aggregator import Iterable_Aggregator\n",
    "from steves_utils.ptn_train_eval_test_jig import  PTN_Train_Eval_Test_Jig\n",
    "from steves_utils.torch_sequential_builder import build_sequential\n",
    "from steves_utils.torch_utils import get_dataset_metrics, ptn_confusion_by_domain_over_dataloader\n",
    "from steves_utils.utils_v2 import (per_domain_accuracy_from_confusion, get_datasets_base_path)\n",
    "from steves_utils.PTN.utils import independent_accuracy_assesment\n",
    "\n",
    "from torch.utils.data import DataLoader\n",
    "\n",
    "from steves_utils.stratified_dataset.episodic_accessor import Episodic_Accessor_Factory\n",
    "\n",
    "from steves_utils.ptn_do_report import (\n",
    "    get_loss_curve,\n",
    "    get_results_table,\n",
    "    get_parameters_table,\n",
    "    get_domain_accuracies,\n",
    ")\n",
    "\n",
    "from steves_utils.transforms import get_chained_transform"
   ]
  },
  {
   "cell_type": "markdown",
   "id": "41c840b4",
   "metadata": {
    "papermill": {
     "duration": 0.01221,
     "end_time": "2022-03-07T02:02:13.226484",
     "exception": false,
     "start_time": "2022-03-07T02:02:13.214274",
     "status": "completed"
    },
    "tags": []
   },
   "source": [
    "# Allowed Parameters\n",
    "These are allowed parameters, not defaults\n",
    "Each of these values need to be present in the injected parameters (the notebook will raise an exception if they are not present)\n",
    "\n",
    "Papermill uses the cell tag \"parameters\" to inject the real parameters below this cell.\n",
    "Enable tags to see what I mean"
   ]
  },
  {
   "cell_type": "code",
   "execution_count": 2,
   "id": "fd44eb83",
   "metadata": {
    "execution": {
     "iopub.execute_input": "2022-03-07T02:02:13.254515Z",
     "iopub.status.busy": "2022-03-07T02:02:13.254228Z",
     "iopub.status.idle": "2022-03-07T02:02:13.266217Z",
     "shell.execute_reply": "2022-03-07T02:02:13.265997Z"
    },
    "papermill": {
     "duration": 0.027423,
     "end_time": "2022-03-07T02:02:13.266273",
     "exception": false,
     "start_time": "2022-03-07T02:02:13.238850",
     "status": "completed"
    },
    "tags": []
   },
   "outputs": [],
   "source": [
    "required_parameters = {\n",
    "    \"experiment_name\",\n",
    "    \"lr\",\n",
    "    \"device\",\n",
    "    \"seed\",\n",
    "    \"dataset_seed\",\n",
    "    \"n_shot\",\n",
    "    \"n_query\",\n",
    "    \"n_way\",\n",
    "    \"train_k_factor\",\n",
    "    \"val_k_factor\",\n",
    "    \"test_k_factor\",\n",
    "    \"n_epoch\",\n",
    "    \"patience\",\n",
    "    \"criteria_for_best\",\n",
    "    \"x_net\",\n",
    "    \"datasets\",\n",
    "    \"torch_default_dtype\",\n",
    "    \"NUM_LOGS_PER_EPOCH\",\n",
    "    \"BEST_MODEL_PATH\",\n",
    "}"
   ]
  },
  {
   "cell_type": "code",
   "execution_count": 3,
   "id": "fa3f0049",
   "metadata": {
    "execution": {
     "iopub.execute_input": "2022-03-07T02:02:13.301745Z",
     "iopub.status.busy": "2022-03-07T02:02:13.301463Z",
     "iopub.status.idle": "2022-03-07T02:02:13.317372Z",
     "shell.execute_reply": "2022-03-07T02:02:13.317764Z"
    },
    "papermill": {
     "duration": 0.035196,
     "end_time": "2022-03-07T02:02:13.317888",
     "exception": false,
     "start_time": "2022-03-07T02:02:13.282692",
     "status": "completed"
    },
    "tags": [
     "parameters"
    ]
   },
   "outputs": [],
   "source": [
    "from steves_utils.CORES.utils import (\n",
    "    ALL_NODES,\n",
    "    ALL_NODES_MINIMUM_1000_EXAMPLES,\n",
    "    ALL_DAYS\n",
    ")\n",
    "\n",
    "from steves_utils.ORACLE.utils_v2 import (\n",
    "    ALL_DISTANCES_FEET_NARROWED,\n",
    "    ALL_RUNS,\n",
    "    ALL_SERIAL_NUMBERS,\n",
    ")\n",
    "\n",
    "standalone_parameters = {}\n",
    "standalone_parameters[\"experiment_name\"] = \"STANDALONE PTN\"\n",
    "standalone_parameters[\"lr\"] = 0.001\n",
    "standalone_parameters[\"device\"] = \"cuda\"\n",
    "\n",
    "standalone_parameters[\"seed\"] = 1337\n",
    "standalone_parameters[\"dataset_seed\"] = 1337\n",
    "\n",
    "standalone_parameters[\"n_way\"] = 8\n",
    "standalone_parameters[\"n_shot\"] = 3\n",
    "standalone_parameters[\"n_query\"]  = 2\n",
    "standalone_parameters[\"train_k_factor\"] = 1\n",
    "standalone_parameters[\"val_k_factor\"] = 2\n",
    "standalone_parameters[\"test_k_factor\"] = 2\n",
    "\n",
    "\n",
    "standalone_parameters[\"n_epoch\"] = 50\n",
    "\n",
    "standalone_parameters[\"patience\"] = 10\n",
    "standalone_parameters[\"criteria_for_best\"] = \"source_loss\"\n",
    "\n",
    "standalone_parameters[\"datasets\"] = [\n",
    "    {\n",
    "        \"labels\": ALL_SERIAL_NUMBERS,\n",
    "        \"domains\": ALL_DISTANCES_FEET_NARROWED,\n",
    "        \"num_examples_per_domain_per_label\": 100,\n",
    "        \"pickle_path\": os.path.join(get_datasets_base_path(), \"oracle.Run1_framed_2000Examples_stratified_ds.2022A.pkl\"),\n",
    "        \"source_or_target_dataset\": \"source\",\n",
    "        \"x_transforms\": [\"unit_mag\", \"minus_two\"],\n",
    "        \"episode_transforms\": [],\n",
    "        \"domain_prefix\": \"ORACLE_\"\n",
    "    },\n",
    "    {\n",
    "        \"labels\": ALL_NODES,\n",
    "        \"domains\": ALL_DAYS,\n",
    "        \"num_examples_per_domain_per_label\": 100,\n",
    "        \"pickle_path\": os.path.join(get_datasets_base_path(), \"cores.stratified_ds.2022A.pkl\"),\n",
    "        \"source_or_target_dataset\": \"target\",\n",
    "        \"x_transforms\": [\"unit_power\", \"times_zero\"],\n",
    "        \"episode_transforms\": [],\n",
    "        \"domain_prefix\": \"CORES_\"\n",
    "    }   \n",
    "]\n",
    "\n",
    "standalone_parameters[\"torch_default_dtype\"] = \"torch.float32\" \n",
    "\n",
    "\n",
    "\n",
    "standalone_parameters[\"x_net\"] =     [\n",
    "    {\"class\": \"nnReshape\", \"kargs\": {\"shape\":[-1, 1, 2, 256]}},\n",
    "    {\"class\": \"Conv2d\", \"kargs\": { \"in_channels\":1, \"out_channels\":256, \"kernel_size\":(1,7), \"bias\":False, \"padding\":(0,3), },},\n",
    "    {\"class\": \"ReLU\", \"kargs\": {\"inplace\": True}},\n",
    "    {\"class\": \"BatchNorm2d\", \"kargs\": {\"num_features\":256}},\n",
    "\n",
    "    {\"class\": \"Conv2d\", \"kargs\": { \"in_channels\":256, \"out_channels\":80, \"kernel_size\":(2,7), \"bias\":True, \"padding\":(0,3), },},\n",
    "    {\"class\": \"ReLU\", \"kargs\": {\"inplace\": True}},\n",
    "    {\"class\": \"BatchNorm2d\", \"kargs\": {\"num_features\":80}},\n",
    "    {\"class\": \"Flatten\", \"kargs\": {}},\n",
    "\n",
    "    {\"class\": \"Linear\", \"kargs\": {\"in_features\": 80*256, \"out_features\": 256}}, # 80 units per IQ pair\n",
    "    {\"class\": \"ReLU\", \"kargs\": {\"inplace\": True}},\n",
    "    {\"class\": \"BatchNorm1d\", \"kargs\": {\"num_features\":256}},\n",
    "\n",
    "    {\"class\": \"Linear\", \"kargs\": {\"in_features\": 256, \"out_features\": 256}},\n",
    "]\n",
    "\n",
    "# Parameters relevant to results\n",
    "# These parameters will basically never need to change\n",
    "standalone_parameters[\"NUM_LOGS_PER_EPOCH\"] = 10\n",
    "standalone_parameters[\"BEST_MODEL_PATH\"] = \"./best_model.pth\"\n",
    "\n",
    "\n",
    "\n",
    "\n"
   ]
  },
  {
   "cell_type": "code",
   "execution_count": 4,
   "id": "dcbac990",
   "metadata": {
    "execution": {
     "iopub.execute_input": "2022-03-07T02:02:13.357244Z",
     "iopub.status.busy": "2022-03-07T02:02:13.356952Z",
     "iopub.status.idle": "2022-03-07T02:02:13.367922Z",
     "shell.execute_reply": "2022-03-07T02:02:13.367520Z"
    },
    "papermill": {
     "duration": 0.03197,
     "end_time": "2022-03-07T02:02:13.368024",
     "exception": false,
     "start_time": "2022-03-07T02:02:13.336054",
     "status": "completed"
    },
    "tags": [
     "injected-parameters"
    ]
   },
   "outputs": [],
   "source": [
    "# Parameters\n",
    "parameters = {\n",
    "    \"experiment_name\": \"tl_1_oracle.run1-oracle.run2\",\n",
    "    \"device\": \"cuda\",\n",
    "    \"lr\": 0.001,\n",
    "    \"seed\": 1337,\n",
    "    \"dataset_seed\": 1337,\n",
    "    \"n_shot\": 3,\n",
    "    \"n_query\": 2,\n",
    "    \"train_k_factor\": 3,\n",
    "    \"val_k_factor\": 2,\n",
    "    \"test_k_factor\": 2,\n",
    "    \"torch_default_dtype\": \"torch.float32\",\n",
    "    \"n_epoch\": 50,\n",
    "    \"patience\": 3,\n",
    "    \"criteria_for_best\": \"target_loss\",\n",
    "    \"x_net\": [\n",
    "        {\"class\": \"nnReshape\", \"kargs\": {\"shape\": [-1, 1, 2, 256]}},\n",
    "        {\n",
    "            \"class\": \"Conv2d\",\n",
    "            \"kargs\": {\n",
    "                \"in_channels\": 1,\n",
    "                \"out_channels\": 256,\n",
    "                \"kernel_size\": [1, 7],\n",
    "                \"bias\": False,\n",
    "                \"padding\": [0, 3],\n",
    "            },\n",
    "        },\n",
    "        {\"class\": \"ReLU\", \"kargs\": {\"inplace\": True}},\n",
    "        {\"class\": \"BatchNorm2d\", \"kargs\": {\"num_features\": 256}},\n",
    "        {\n",
    "            \"class\": \"Conv2d\",\n",
    "            \"kargs\": {\n",
    "                \"in_channels\": 256,\n",
    "                \"out_channels\": 80,\n",
    "                \"kernel_size\": [2, 7],\n",
    "                \"bias\": True,\n",
    "                \"padding\": [0, 3],\n",
    "            },\n",
    "        },\n",
    "        {\"class\": \"ReLU\", \"kargs\": {\"inplace\": True}},\n",
    "        {\"class\": \"BatchNorm2d\", \"kargs\": {\"num_features\": 80}},\n",
    "        {\"class\": \"Flatten\", \"kargs\": {}},\n",
    "        {\"class\": \"Linear\", \"kargs\": {\"in_features\": 20480, \"out_features\": 256}},\n",
    "        {\"class\": \"ReLU\", \"kargs\": {\"inplace\": True}},\n",
    "        {\"class\": \"BatchNorm1d\", \"kargs\": {\"num_features\": 256}},\n",
    "        {\"class\": \"Linear\", \"kargs\": {\"in_features\": 256, \"out_features\": 256}},\n",
    "    ],\n",
    "    \"NUM_LOGS_PER_EPOCH\": 10,\n",
    "    \"BEST_MODEL_PATH\": \"./best_model.pth\",\n",
    "    \"n_way\": 16,\n",
    "    \"datasets\": [\n",
    "        {\n",
    "            \"labels\": [\n",
    "                \"3123D52\",\n",
    "                \"3123D65\",\n",
    "                \"3123D79\",\n",
    "                \"3123D80\",\n",
    "                \"3123D54\",\n",
    "                \"3123D70\",\n",
    "                \"3123D7B\",\n",
    "                \"3123D89\",\n",
    "                \"3123D58\",\n",
    "                \"3123D76\",\n",
    "                \"3123D7D\",\n",
    "                \"3123EFE\",\n",
    "                \"3123D64\",\n",
    "                \"3123D78\",\n",
    "                \"3123D7E\",\n",
    "                \"3124E4A\",\n",
    "            ],\n",
    "            \"domains\": [32, 38, 8, 44, 14, 50, 20, 26],\n",
    "            \"num_examples_per_domain_per_label\": 2000,\n",
    "            \"pickle_path\": \"/mnt/wd500GB/CSC500/csc500-main/datasets/oracle.Run1_framed_2000Examples_stratified_ds.2022A.pkl\",\n",
    "            \"source_or_target_dataset\": \"source\",\n",
    "            \"x_transforms\": [\"unit_mag\"],\n",
    "            \"episode_transforms\": [],\n",
    "            \"domain_prefix\": \"ORACLE.run1_\",\n",
    "        },\n",
    "        {\n",
    "            \"labels\": [\n",
    "                \"3123D52\",\n",
    "                \"3123D65\",\n",
    "                \"3123D79\",\n",
    "                \"3123D80\",\n",
    "                \"3123D54\",\n",
    "                \"3123D70\",\n",
    "                \"3123D7B\",\n",
    "                \"3123D89\",\n",
    "                \"3123D58\",\n",
    "                \"3123D76\",\n",
    "                \"3123D7D\",\n",
    "                \"3123EFE\",\n",
    "                \"3123D64\",\n",
    "                \"3123D78\",\n",
    "                \"3123D7E\",\n",
    "                \"3124E4A\",\n",
    "            ],\n",
    "            \"domains\": [32, 38, 8, 44, 14, 50, 20, 26],\n",
    "            \"num_examples_per_domain_per_label\": 2000,\n",
    "            \"pickle_path\": \"/mnt/wd500GB/CSC500/csc500-main/datasets/oracle.Run2_framed_2000Examples_stratified_ds.2022A.pkl\",\n",
    "            \"source_or_target_dataset\": \"target\",\n",
    "            \"x_transforms\": [\"unit_mag\"],\n",
    "            \"episode_transforms\": [],\n",
    "            \"domain_prefix\": \"ORACLE.run2_\",\n",
    "        },\n",
    "    ],\n",
    "}\n"
   ]
  },
  {
   "cell_type": "code",
   "execution_count": 5,
   "id": "8fa1cc33",
   "metadata": {
    "execution": {
     "iopub.execute_input": "2022-03-07T02:02:13.403150Z",
     "iopub.status.busy": "2022-03-07T02:02:13.402831Z",
     "iopub.status.idle": "2022-03-07T02:02:13.416887Z",
     "shell.execute_reply": "2022-03-07T02:02:13.416419Z"
    },
    "papermill": {
     "duration": 0.031043,
     "end_time": "2022-03-07T02:02:13.416985",
     "exception": false,
     "start_time": "2022-03-07T02:02:13.385942",
     "status": "completed"
    },
    "tags": []
   },
   "outputs": [],
   "source": [
    "# Set this to True if you want to run this template directly\n",
    "STANDALONE = False\n",
    "if STANDALONE:\n",
    "    print(\"parameters not injected, running with standalone_parameters\")\n",
    "    parameters = standalone_parameters\n",
    "\n",
    "if not 'parameters' in locals() and not 'parameters' in globals():\n",
    "    raise Exception(\"Parameter injection failed\")\n",
    "\n",
    "#Use an easy dict for all the parameters\n",
    "p = EasyDict(parameters)\n",
    "\n",
    "supplied_keys = set(p.keys())\n",
    "\n",
    "if  supplied_keys != required_parameters:\n",
    "    print(\"Parameters are incorrect\")\n",
    "    if len(supplied_keys - required_parameters)>0: print(\"Shouldn't have:\", str(supplied_keys - required_parameters))\n",
    "    if len(required_parameters - supplied_keys)>0: print(\"Need to have:\", str(required_parameters - supplied_keys))\n",
    "    raise RuntimeError(\"Parameters are incorrect\")\n",
    "\n"
   ]
  },
  {
   "cell_type": "code",
   "execution_count": 6,
   "id": "3a028d58",
   "metadata": {
    "execution": {
     "iopub.execute_input": "2022-03-07T02:02:13.449766Z",
     "iopub.status.busy": "2022-03-07T02:02:13.449513Z",
     "iopub.status.idle": "2022-03-07T02:02:13.463195Z",
     "shell.execute_reply": "2022-03-07T02:02:13.463602Z"
    },
    "papermill": {
     "duration": 0.029212,
     "end_time": "2022-03-07T02:02:13.463723",
     "exception": false,
     "start_time": "2022-03-07T02:02:13.434511",
     "status": "completed"
    },
    "tags": []
   },
   "outputs": [],
   "source": [
    "###################################\n",
    "# Set the RNGs and make it all deterministic\n",
    "###################################\n",
    "np.random.seed(p.seed)\n",
    "random.seed(p.seed)\n",
    "torch.manual_seed(p.seed)\n",
    "\n",
    "torch.use_deterministic_algorithms(True) "
   ]
  },
  {
   "cell_type": "code",
   "execution_count": 7,
   "id": "b691acf6",
   "metadata": {
    "execution": {
     "iopub.execute_input": "2022-03-07T02:02:13.493903Z",
     "iopub.status.busy": "2022-03-07T02:02:13.493645Z",
     "iopub.status.idle": "2022-03-07T02:02:13.505790Z",
     "shell.execute_reply": "2022-03-07T02:02:13.506176Z"
    },
    "papermill": {
     "duration": 0.027521,
     "end_time": "2022-03-07T02:02:13.506303",
     "exception": false,
     "start_time": "2022-03-07T02:02:13.478782",
     "status": "completed"
    },
    "tags": []
   },
   "outputs": [],
   "source": [
    "###########################################\n",
    "# The stratified datasets honor this\n",
    "###########################################\n",
    "torch.set_default_dtype(eval(p.torch_default_dtype))"
   ]
  },
  {
   "cell_type": "code",
   "execution_count": 8,
   "id": "b5fba671",
   "metadata": {
    "execution": {
     "iopub.execute_input": "2022-03-07T02:02:13.538255Z",
     "iopub.status.busy": "2022-03-07T02:02:13.538008Z",
     "iopub.status.idle": "2022-03-07T02:02:13.577060Z",
     "shell.execute_reply": "2022-03-07T02:02:13.577469Z"
    },
    "papermill": {
     "duration": 0.054224,
     "end_time": "2022-03-07T02:02:13.577599",
     "exception": false,
     "start_time": "2022-03-07T02:02:13.523375",
     "status": "completed"
    },
    "tags": []
   },
   "outputs": [],
   "source": [
    "###################################\n",
    "# Build the network(s)\n",
    "# Note: It's critical to do this AFTER setting the RNG\n",
    "###################################\n",
    "x_net = build_sequential(p.x_net)"
   ]
  },
  {
   "cell_type": "code",
   "execution_count": 9,
   "id": "5d7e61cc",
   "metadata": {
    "execution": {
     "iopub.execute_input": "2022-03-07T02:02:13.612615Z",
     "iopub.status.busy": "2022-03-07T02:02:13.612365Z",
     "iopub.status.idle": "2022-03-07T02:02:13.626974Z",
     "shell.execute_reply": "2022-03-07T02:02:13.626479Z"
    },
    "papermill": {
     "duration": 0.031479,
     "end_time": "2022-03-07T02:02:13.627073",
     "exception": false,
     "start_time": "2022-03-07T02:02:13.595594",
     "status": "completed"
    },
    "tags": []
   },
   "outputs": [],
   "source": [
    "start_time_secs = time.time()"
   ]
  },
  {
   "cell_type": "code",
   "execution_count": 10,
   "id": "c6b67dfd",
   "metadata": {
    "execution": {
     "iopub.execute_input": "2022-03-07T02:02:13.660668Z",
     "iopub.status.busy": "2022-03-07T02:02:13.660362Z",
     "iopub.status.idle": "2022-03-07T02:02:13.669776Z",
     "shell.execute_reply": "2022-03-07T02:02:13.669546Z"
    },
    "papermill": {
     "duration": 0.023833,
     "end_time": "2022-03-07T02:02:13.669834",
     "exception": false,
     "start_time": "2022-03-07T02:02:13.646001",
     "status": "completed"
    },
    "tags": []
   },
   "outputs": [],
   "source": [
    "p.domains_source = []\n",
    "p.domains_target = []\n",
    "\n",
    "\n",
    "train_original_source = []\n",
    "val_original_source   = []\n",
    "test_original_source  = []\n",
    "\n",
    "train_original_target = []\n",
    "val_original_target   = []\n",
    "test_original_target  = []"
   ]
  },
  {
   "cell_type": "code",
   "execution_count": 11,
   "id": "e3d9c3d3",
   "metadata": {
    "execution": {
     "iopub.execute_input": "2022-03-07T02:02:13.704070Z",
     "iopub.status.busy": "2022-03-07T02:02:13.703823Z",
     "iopub.status.idle": "2022-03-07T02:02:13.716634Z",
     "shell.execute_reply": "2022-03-07T02:02:13.717024Z"
    },
    "papermill": {
     "duration": 0.028101,
     "end_time": "2022-03-07T02:02:13.717144",
     "exception": false,
     "start_time": "2022-03-07T02:02:13.689043",
     "status": "completed"
    },
    "tags": []
   },
   "outputs": [],
   "source": [
    "# global_x_transform_func = lambda x: normalize(x.to(torch.get_default_dtype()), \"unit_power\") # unit_power, unit_mag\n",
    "# global_x_transform_func = lambda x: normalize(x, \"unit_power\") # unit_power, unit_mag"
   ]
  },
  {
   "cell_type": "code",
   "execution_count": 12,
   "id": "acb78fd2",
   "metadata": {
    "execution": {
     "iopub.execute_input": "2022-03-07T02:02:13.753676Z",
     "iopub.status.busy": "2022-03-07T02:02:13.753420Z",
     "iopub.status.idle": "2022-03-07T02:02:13.766415Z",
     "shell.execute_reply": "2022-03-07T02:02:13.765955Z"
    },
    "papermill": {
     "duration": 0.033171,
     "end_time": "2022-03-07T02:02:13.766516",
     "exception": false,
     "start_time": "2022-03-07T02:02:13.733345",
     "status": "completed"
    },
    "tags": []
   },
   "outputs": [],
   "source": [
    "def add_dataset(\n",
    "    labels,\n",
    "    domains,\n",
    "    pickle_path,\n",
    "    x_transforms,\n",
    "    episode_transforms,\n",
    "    domain_prefix,\n",
    "    num_examples_per_domain_per_label,\n",
    "    source_or_target_dataset:str,\n",
    "    iterator_seed=p.seed,\n",
    "    dataset_seed=p.dataset_seed,\n",
    "    n_shot=p.n_shot,\n",
    "    n_way=p.n_way,\n",
    "    n_query=p.n_query,\n",
    "    train_val_test_k_factors=(p.train_k_factor,p.val_k_factor,p.test_k_factor),\n",
    "):\n",
    "   \n",
    "    if x_transforms == []: x_transform = None\n",
    "    else: x_transform = get_chained_transform(x_transforms)\n",
    "    \n",
    "    if episode_transforms == []: episode_transform = None\n",
    "    else: raise Exception(\"episode_transforms not implemented\")\n",
    "    \n",
    "    episode_transform = lambda tup, _prefix=domain_prefix: (_prefix + str(tup[0]), tup[1])\n",
    "\n",
    "\n",
    "    eaf = Episodic_Accessor_Factory(\n",
    "        labels=labels,\n",
    "        domains=domains,\n",
    "        num_examples_per_domain_per_label=num_examples_per_domain_per_label,\n",
    "        iterator_seed=iterator_seed,\n",
    "        dataset_seed=dataset_seed,\n",
    "        n_shot=n_shot,\n",
    "        n_way=n_way,\n",
    "        n_query=n_query,\n",
    "        train_val_test_k_factors=train_val_test_k_factors,\n",
    "        pickle_path=pickle_path,\n",
    "        x_transform_func=x_transform,\n",
    "    )\n",
    "\n",
    "    train, val, test = eaf.get_train(), eaf.get_val(), eaf.get_test()\n",
    "    train = Lazy_Iterable_Wrapper(train, episode_transform)\n",
    "    val = Lazy_Iterable_Wrapper(val, episode_transform)\n",
    "    test = Lazy_Iterable_Wrapper(test, episode_transform)\n",
    "\n",
    "    if source_or_target_dataset==\"source\":\n",
    "        train_original_source.append(train)\n",
    "        val_original_source.append(val)\n",
    "        test_original_source.append(test)\n",
    "\n",
    "        p.domains_source.extend(\n",
    "            [domain_prefix + str(u) for u in domains]\n",
    "        )\n",
    "    elif source_or_target_dataset==\"target\":\n",
    "        train_original_target.append(train)\n",
    "        val_original_target.append(val)\n",
    "        test_original_target.append(test)\n",
    "        p.domains_target.extend(\n",
    "            [domain_prefix + str(u) for u in domains]\n",
    "        )\n",
    "    else:\n",
    "        raise Exception(f\"invalid source_or_target_dataset: {source_or_target_dataset}\")\n",
    "    "
   ]
  },
  {
   "cell_type": "code",
   "execution_count": 13,
   "id": "fe266617",
   "metadata": {
    "execution": {
     "iopub.execute_input": "2022-03-07T02:02:13.800102Z",
     "iopub.status.busy": "2022-03-07T02:02:13.799850Z",
     "iopub.status.idle": "2022-03-07T02:02:45.064872Z",
     "shell.execute_reply": "2022-03-07T02:02:45.065262Z"
    },
    "papermill": {
     "duration": 31.280208,
     "end_time": "2022-03-07T02:02:45.065386",
     "exception": false,
     "start_time": "2022-03-07T02:02:13.785178",
     "status": "completed"
    },
    "tags": []
   },
   "outputs": [],
   "source": [
    "for ds in p.datasets:\n",
    "    add_dataset(**ds)"
   ]
  },
  {
   "cell_type": "code",
   "execution_count": 14,
   "id": "b90d65ac",
   "metadata": {
    "execution": {
     "iopub.execute_input": "2022-03-07T02:02:45.100580Z",
     "iopub.status.busy": "2022-03-07T02:02:45.100325Z",
     "iopub.status.idle": "2022-03-07T02:02:45.115455Z",
     "shell.execute_reply": "2022-03-07T02:02:45.115063Z"
    },
    "papermill": {
     "duration": 0.030184,
     "end_time": "2022-03-07T02:02:45.115544",
     "exception": false,
     "start_time": "2022-03-07T02:02:45.085360",
     "status": "completed"
    },
    "tags": []
   },
   "outputs": [],
   "source": [
    "# from steves_utils.CORES.utils import (\n",
    "#     ALL_NODES,\n",
    "#     ALL_NODES_MINIMUM_1000_EXAMPLES,\n",
    "#     ALL_DAYS\n",
    "# )\n",
    "\n",
    "# add_dataset(\n",
    "#     labels=ALL_NODES,\n",
    "#     domains = ALL_DAYS,\n",
    "#     num_examples_per_domain_per_label=100,\n",
    "#     pickle_path=os.path.join(get_datasets_base_path(), \"cores.stratified_ds.2022A.pkl\"),\n",
    "#     source_or_target_dataset=\"target\",\n",
    "#     x_transform_func=global_x_transform_func,\n",
    "#     domain_modifier=lambda u: f\"cores_{u}\"\n",
    "# )"
   ]
  },
  {
   "cell_type": "code",
   "execution_count": 15,
   "id": "76db484d",
   "metadata": {
    "execution": {
     "iopub.execute_input": "2022-03-07T02:02:45.156508Z",
     "iopub.status.busy": "2022-03-07T02:02:45.150827Z",
     "iopub.status.idle": "2022-03-07T02:02:45.164008Z",
     "shell.execute_reply": "2022-03-07T02:02:45.164378Z"
    },
    "papermill": {
     "duration": 0.030308,
     "end_time": "2022-03-07T02:02:45.164488",
     "exception": false,
     "start_time": "2022-03-07T02:02:45.134180",
     "status": "completed"
    },
    "tags": []
   },
   "outputs": [],
   "source": [
    "# from steves_utils.ORACLE.utils_v2 import (\n",
    "#     ALL_DISTANCES_FEET,\n",
    "#     ALL_RUNS,\n",
    "#     ALL_SERIAL_NUMBERS,\n",
    "# )\n",
    "\n",
    "\n",
    "# add_dataset(\n",
    "#     labels=ALL_SERIAL_NUMBERS,\n",
    "#     domains = list(set(ALL_DISTANCES_FEET) - {2,62}),\n",
    "#     num_examples_per_domain_per_label=100,\n",
    "#     pickle_path=os.path.join(get_datasets_base_path(), \"oracle.Run2_framed_2000Examples_stratified_ds.2022A.pkl\"),\n",
    "#     source_or_target_dataset=\"source\",\n",
    "#     x_transform_func=global_x_transform_func,\n",
    "#     domain_modifier=lambda u: f\"oracle1_{u}\"\n",
    "# )\n"
   ]
  },
  {
   "cell_type": "code",
   "execution_count": 16,
   "id": "97dea9d2",
   "metadata": {
    "execution": {
     "iopub.execute_input": "2022-03-07T02:02:45.198523Z",
     "iopub.status.busy": "2022-03-07T02:02:45.198168Z",
     "iopub.status.idle": "2022-03-07T02:02:45.211395Z",
     "shell.execute_reply": "2022-03-07T02:02:45.211046Z"
    },
    "papermill": {
     "duration": 0.028228,
     "end_time": "2022-03-07T02:02:45.211465",
     "exception": false,
     "start_time": "2022-03-07T02:02:45.183237",
     "status": "completed"
    },
    "tags": []
   },
   "outputs": [],
   "source": [
    "# from steves_utils.ORACLE.utils_v2 import (\n",
    "#     ALL_DISTANCES_FEET,\n",
    "#     ALL_RUNS,\n",
    "#     ALL_SERIAL_NUMBERS,\n",
    "# )\n",
    "\n",
    "\n",
    "# add_dataset(\n",
    "#     labels=ALL_SERIAL_NUMBERS,\n",
    "#     domains = list(set(ALL_DISTANCES_FEET) - {2,62,56}),\n",
    "#     num_examples_per_domain_per_label=100,\n",
    "#     pickle_path=os.path.join(get_datasets_base_path(), \"oracle.Run2_framed_2000Examples_stratified_ds.2022A.pkl\"),\n",
    "#     source_or_target_dataset=\"source\",\n",
    "#     x_transform_func=global_x_transform_func,\n",
    "#     domain_modifier=lambda u: f\"oracle2_{u}\"\n",
    "# )"
   ]
  },
  {
   "cell_type": "code",
   "execution_count": 17,
   "id": "6f289866",
   "metadata": {
    "execution": {
     "iopub.execute_input": "2022-03-07T02:02:45.244861Z",
     "iopub.status.busy": "2022-03-07T02:02:45.244437Z",
     "iopub.status.idle": "2022-03-07T02:02:45.256352Z",
     "shell.execute_reply": "2022-03-07T02:02:45.256106Z"
    },
    "papermill": {
     "duration": 0.026856,
     "end_time": "2022-03-07T02:02:45.256401",
     "exception": false,
     "start_time": "2022-03-07T02:02:45.229545",
     "status": "completed"
    },
    "tags": []
   },
   "outputs": [],
   "source": [
    "# add_dataset(\n",
    "#     labels=list(range(19)),\n",
    "#     domains = [0,1,2],\n",
    "#     num_examples_per_domain_per_label=100,\n",
    "#     pickle_path=os.path.join(get_datasets_base_path(), \"metehan.stratified_ds.2022A.pkl\"),\n",
    "#     source_or_target_dataset=\"target\",\n",
    "#     x_transform_func=global_x_transform_func,\n",
    "#     domain_modifier=lambda u: f\"met_{u}\"\n",
    "# )"
   ]
  },
  {
   "cell_type": "code",
   "execution_count": 18,
   "id": "86a863c3",
   "metadata": {
    "execution": {
     "iopub.execute_input": "2022-03-07T02:02:45.292697Z",
     "iopub.status.busy": "2022-03-07T02:02:45.287932Z",
     "iopub.status.idle": "2022-03-07T02:02:45.300287Z",
     "shell.execute_reply": "2022-03-07T02:02:45.299775Z"
    },
    "papermill": {
     "duration": 0.028072,
     "end_time": "2022-03-07T02:02:45.300388",
     "exception": false,
     "start_time": "2022-03-07T02:02:45.272316",
     "status": "completed"
    },
    "tags": []
   },
   "outputs": [],
   "source": [
    "# # from steves_utils.wisig.utils import (\n",
    "# #     ALL_NODES_MINIMUM_100_EXAMPLES,\n",
    "# #     ALL_NODES_MINIMUM_500_EXAMPLES,\n",
    "# #     ALL_NODES_MINIMUM_1000_EXAMPLES,\n",
    "# #     ALL_DAYS\n",
    "# # )\n",
    "\n",
    "# import steves_utils.wisig.utils as wisig\n",
    "\n",
    "\n",
    "# add_dataset(\n",
    "#     labels=wisig.ALL_NODES_MINIMUM_100_EXAMPLES,\n",
    "#     domains = wisig.ALL_DAYS,\n",
    "#     num_examples_per_domain_per_label=100,\n",
    "#     pickle_path=os.path.join(get_datasets_base_path(), \"wisig.node3-19.stratified_ds.2022A.pkl\"),\n",
    "#     source_or_target_dataset=\"target\",\n",
    "#     x_transform_func=global_x_transform_func,\n",
    "#     domain_modifier=lambda u: f\"wisig_{u}\"\n",
    "# )"
   ]
  },
  {
   "cell_type": "code",
   "execution_count": 19,
   "id": "fd5442bc",
   "metadata": {
    "execution": {
     "iopub.execute_input": "2022-03-07T02:02:45.337398Z",
     "iopub.status.busy": "2022-03-07T02:02:45.337122Z",
     "iopub.status.idle": "2022-03-07T02:02:45.349724Z",
     "shell.execute_reply": "2022-03-07T02:02:45.349281Z"
    },
    "papermill": {
     "duration": 0.0309,
     "end_time": "2022-03-07T02:02:45.349812",
     "exception": false,
     "start_time": "2022-03-07T02:02:45.318912",
     "status": "completed"
    },
    "tags": []
   },
   "outputs": [],
   "source": [
    "###################################\n",
    "# Build the dataset\n",
    "###################################\n",
    "train_original_source = Iterable_Aggregator(train_original_source, p.seed)\n",
    "val_original_source = Iterable_Aggregator(val_original_source, p.seed)\n",
    "test_original_source = Iterable_Aggregator(test_original_source, p.seed)\n",
    "\n",
    "\n",
    "train_original_target = Iterable_Aggregator(train_original_target, p.seed)\n",
    "val_original_target = Iterable_Aggregator(val_original_target, p.seed)\n",
    "test_original_target = Iterable_Aggregator(test_original_target, p.seed)\n",
    "\n",
    "# For CNN We only use X and Y. And we only train on the source.\n",
    "# Properly form the data using a transform lambda and Lazy_Iterable_Wrapper. Finally wrap them in a dataloader\n",
    "\n",
    "transform_lambda = lambda ex: ex[1] # Original is (<domain>, <episode>) so we strip down to episode only\n",
    "\n",
    "train_processed_source = Lazy_Iterable_Wrapper(train_original_source, transform_lambda)\n",
    "val_processed_source   = Lazy_Iterable_Wrapper(val_original_source, transform_lambda)\n",
    "test_processed_source  = Lazy_Iterable_Wrapper(test_original_source, transform_lambda)\n",
    "\n",
    "train_processed_target = Lazy_Iterable_Wrapper(train_original_target, transform_lambda)\n",
    "val_processed_target   = Lazy_Iterable_Wrapper(val_original_target, transform_lambda)\n",
    "test_processed_target  = Lazy_Iterable_Wrapper(test_original_target, transform_lambda)\n",
    "\n",
    "datasets = EasyDict({\n",
    "    \"source\": {\n",
    "        \"original\": {\"train\":train_original_source, \"val\":val_original_source, \"test\":test_original_source},\n",
    "        \"processed\": {\"train\":train_processed_source, \"val\":val_processed_source, \"test\":test_processed_source}\n",
    "    },\n",
    "    \"target\": {\n",
    "        \"original\": {\"train\":train_original_target, \"val\":val_original_target, \"test\":test_original_target},\n",
    "        \"processed\": {\"train\":train_processed_target, \"val\":val_processed_target, \"test\":test_processed_target}\n",
    "    },\n",
    "})"
   ]
  },
  {
   "cell_type": "code",
   "execution_count": 20,
   "id": "5b3c01fc",
   "metadata": {
    "execution": {
     "iopub.execute_input": "2022-03-07T02:02:45.383386Z",
     "iopub.status.busy": "2022-03-07T02:02:45.383131Z",
     "iopub.status.idle": "2022-03-07T02:02:51.908489Z",
     "shell.execute_reply": "2022-03-07T02:02:51.908736Z"
    },
    "papermill": {
     "duration": 6.541197,
     "end_time": "2022-03-07T02:02:51.908821",
     "exception": false,
     "start_time": "2022-03-07T02:02:45.367624",
     "status": "completed"
    },
    "tags": []
   },
   "outputs": [
    {
     "name": "stdout",
     "output_type": "stream",
     "text": [
      "{'ORACLE.run1_38', 'ORACLE.run1_44', 'ORACLE.run1_8', 'ORACLE.run1_20', 'ORACLE.run1_32', 'ORACLE.run1_14', 'ORACLE.run1_50', 'ORACLE.run1_26'}\n"
     ]
    },
    {
     "name": "stdout",
     "output_type": "stream",
     "text": [
      "{'ORACLE.run2_26', 'ORACLE.run2_14', 'ORACLE.run2_32', 'ORACLE.run2_20', 'ORACLE.run2_44', 'ORACLE.run2_38', 'ORACLE.run2_50', 'ORACLE.run2_8'}\n"
     ]
    },
    {
     "name": "stdout",
     "output_type": "stream",
     "text": [
      "tensor([[[-0.0955,  1.1942, -0.1146,  ..., -0.9840, -0.2675, -0.5732],\n",
      "         [-0.6592, -0.3057,  1.0891,  ...,  0.2484, -1.4617, -0.4872]],\n",
      "\n",
      "        [[-0.4662,  0.7090,  0.5730,  ..., -1.3014, -1.2237, -0.1165],\n",
      "         [-1.1752, -0.3302,  1.1558,  ...,  0.4273, -0.1554,  1.2626]],\n",
      "\n",
      "        [[ 0.6763, -0.3671, -0.7922,  ...,  0.8212,  1.4202,  0.3381],\n",
      "         [ 0.8598,  0.7053, -0.9178,  ..., -0.7826,  0.4831, -1.1980]],\n",
      "\n",
      "        ...,\n",
      "\n",
      "        [[ 1.0255, -0.2498, -1.2227,  ...,  0.6639,  1.0255, -0.6771],\n",
      "         [ 0.5785,  0.7428, -0.3878,  ..., -1.0123, -0.6376, -1.1701]],\n",
      "\n",
      "        [[ 0.0260, -1.0137,  0.2924,  ...,  0.9227,  0.4808,  1.0981],\n",
      "         [ 0.8122,  0.4354, -1.1631,  ..., -0.1235,  1.2996, -0.2339]],\n",
      "\n",
      "        [[ 0.4980,  0.3408, -0.7471,  ..., -0.4718,  1.2779,  1.0616],\n",
      "         [-0.4260,  1.1468, -0.0328,  ..., -1.1141, -0.0590, -0.2556]]])\n"
     ]
    }
   ],
   "source": [
    "from steves_utils.transforms import get_average_magnitude, get_average_power\n",
    "\n",
    "print(set([u for u,_ in val_original_source]))\n",
    "print(set([u for u,_ in val_original_target]))\n",
    "\n",
    "s_x, s_y, q_x, q_y, _ = next(iter(train_processed_source))\n",
    "print(s_x)\n",
    "\n",
    "# for ds in [\n",
    "#     train_processed_source,\n",
    "#     val_processed_source,\n",
    "#     test_processed_source,\n",
    "#     train_processed_target,\n",
    "#     val_processed_target,\n",
    "#     test_processed_target\n",
    "# ]:\n",
    "#     for s_x, s_y, q_x, q_y, _ in ds:\n",
    "#         for X in (s_x, q_x):\n",
    "#             for x in X:\n",
    "#                 assert np.isclose(get_average_magnitude(x.numpy()), 1.0)\n",
    "#                 assert np.isclose(get_average_power(x.numpy()), 1.0)\n",
    "                "
   ]
  },
  {
   "cell_type": "code",
   "execution_count": 21,
   "id": "bbdacba1",
   "metadata": {
    "execution": {
     "iopub.execute_input": "2022-03-07T02:02:51.947008Z",
     "iopub.status.busy": "2022-03-07T02:02:51.946744Z",
     "iopub.status.idle": "2022-03-07T02:02:52.003093Z",
     "shell.execute_reply": "2022-03-07T02:02:52.002618Z"
    },
    "papermill": {
     "duration": 0.073103,
     "end_time": "2022-03-07T02:02:52.003188",
     "exception": false,
     "start_time": "2022-03-07T02:02:51.930085",
     "status": "completed"
    },
    "tags": []
   },
   "outputs": [
    {
     "name": "stdout",
     "output_type": "stream",
     "text": [
      "(2, 256)\n"
     ]
    }
   ],
   "source": [
    "###################################\n",
    "# Build the model\n",
    "###################################\n",
    "model = Steves_Prototypical_Network(x_net, device=p.device, x_shape=(2,256))\n",
    "optimizer = Adam(params=model.parameters(), lr=p.lr)"
   ]
  },
  {
   "cell_type": "code",
   "execution_count": 22,
   "id": "22b39ac5",
   "metadata": {
    "execution": {
     "iopub.execute_input": "2022-03-07T02:02:52.040990Z",
     "iopub.status.busy": "2022-03-07T02:02:52.040732Z",
     "iopub.status.idle": "2022-03-07T02:55:39.135332Z",
     "shell.execute_reply": "2022-03-07T02:55:39.135104Z"
    },
    "papermill": {
     "duration": 3167.111977,
     "end_time": "2022-03-07T02:55:39.135390",
     "exception": false,
     "start_time": "2022-03-07T02:02:52.023413",
     "status": "completed"
    },
    "tags": []
   },
   "outputs": [
    {
     "name": "stdout",
     "output_type": "stream",
     "text": [
      "epoch: 1, [batch: 1 / 6720], examples_per_second: 48.5978, train_label_loss: 3.1652, \n"
     ]
    },
    {
     "name": "stdout",
     "output_type": "stream",
     "text": [
      "epoch: 1, [batch: 672 / 6720], examples_per_second: 3162.8713, train_label_loss: 0.9541, \n"
     ]
    },
    {
     "name": "stdout",
     "output_type": "stream",
     "text": [
      "epoch: 1, [batch: 1344 / 6720], examples_per_second: 3155.3744, train_label_loss: 0.7430, \n"
     ]
    },
    {
     "name": "stdout",
     "output_type": "stream",
     "text": [
      "epoch: 1, [batch: 2016 / 6720], examples_per_second: 3161.8426, train_label_loss: 0.7685, \n"
     ]
    },
    {
     "name": "stdout",
     "output_type": "stream",
     "text": [
      "epoch: 1, [batch: 2688 / 6720], examples_per_second: 3148.4571, train_label_loss: 0.6421, \n"
     ]
    },
    {
     "name": "stdout",
     "output_type": "stream",
     "text": [
      "epoch: 1, [batch: 3360 / 6720], examples_per_second: 3149.1117, train_label_loss: 0.8939, \n"
     ]
    },
    {
     "name": "stdout",
     "output_type": "stream",
     "text": [
      "epoch: 1, [batch: 4032 / 6720], examples_per_second: 3147.6775, train_label_loss: 0.6359, \n"
     ]
    },
    {
     "name": "stdout",
     "output_type": "stream",
     "text": [
      "epoch: 1, [batch: 4704 / 6720], examples_per_second: 3134.0438, train_label_loss: 0.3113, \n"
     ]
    },
    {
     "name": "stdout",
     "output_type": "stream",
     "text": [
      "epoch: 1, [batch: 5376 / 6720], examples_per_second: 3146.3749, train_label_loss: 0.6749, \n"
     ]
    },
    {
     "name": "stdout",
     "output_type": "stream",
     "text": [
      "epoch: 1, [batch: 6048 / 6720], examples_per_second: 3150.5227, train_label_loss: 0.4541, \n"
     ]
    },
    {
     "name": "stdout",
     "output_type": "stream",
     "text": [
      "=============================================================\n",
      "epoch: 1, source_val_acc_label: 0.6745, target_val_acc_label: 0.6617, source_val_label_loss: 87.5992, target_val_label_loss: 120.3444, \n",
      "=============================================================\n"
     ]
    },
    {
     "name": "stdout",
     "output_type": "stream",
     "text": [
      "New best\n"
     ]
    },
    {
     "name": "stdout",
     "output_type": "stream",
     "text": [
      "epoch: 2, [batch: 1 / 6720], examples_per_second: 4.7307, train_label_loss: 55.2248, \n"
     ]
    },
    {
     "name": "stdout",
     "output_type": "stream",
     "text": [
      "epoch: 2, [batch: 672 / 6720], examples_per_second: 3172.6637, train_label_loss: 0.6441, \n"
     ]
    },
    {
     "name": "stdout",
     "output_type": "stream",
     "text": [
      "epoch: 2, [batch: 1344 / 6720], examples_per_second: 3176.7156, train_label_loss: 0.4356, \n"
     ]
    },
    {
     "name": "stdout",
     "output_type": "stream",
     "text": [
      "epoch: 2, [batch: 2016 / 6720], examples_per_second: 3178.3229, train_label_loss: 1.1574, \n"
     ]
    },
    {
     "name": "stdout",
     "output_type": "stream",
     "text": [
      "epoch: 2, [batch: 2688 / 6720], examples_per_second: 3180.8581, train_label_loss: 0.9294, \n"
     ]
    },
    {
     "name": "stdout",
     "output_type": "stream",
     "text": [
      "epoch: 2, [batch: 3360 / 6720], examples_per_second: 3193.6317, train_label_loss: 0.6799, \n"
     ]
    },
    {
     "name": "stdout",
     "output_type": "stream",
     "text": [
      "epoch: 2, [batch: 4032 / 6720], examples_per_second: 3185.8507, train_label_loss: 1.0008, \n"
     ]
    },
    {
     "name": "stdout",
     "output_type": "stream",
     "text": [
      "epoch: 2, [batch: 4704 / 6720], examples_per_second: 3167.3280, train_label_loss: 0.6151, \n"
     ]
    },
    {
     "name": "stdout",
     "output_type": "stream",
     "text": [
      "epoch: 2, [batch: 5376 / 6720], examples_per_second: 3193.8270, train_label_loss: 0.6484, \n"
     ]
    },
    {
     "name": "stdout",
     "output_type": "stream",
     "text": [
      "epoch: 2, [batch: 6048 / 6720], examples_per_second: 3188.7920, train_label_loss: 0.3558, \n"
     ]
    },
    {
     "name": "stdout",
     "output_type": "stream",
     "text": [
      "=============================================================\n",
      "epoch: 2, source_val_acc_label: 0.8015, target_val_acc_label: 0.7943, source_val_label_loss: 0.5597, target_val_label_loss: 0.6415, \n",
      "=============================================================\n"
     ]
    },
    {
     "name": "stdout",
     "output_type": "stream",
     "text": [
      "New best\n"
     ]
    },
    {
     "name": "stdout",
     "output_type": "stream",
     "text": [
      "epoch: 3, [batch: 1 / 6720], examples_per_second: 4.7448, train_label_loss: 0.6047, \n"
     ]
    },
    {
     "name": "stdout",
     "output_type": "stream",
     "text": [
      "epoch: 3, [batch: 672 / 6720], examples_per_second: 3173.2793, train_label_loss: 0.1939, \n"
     ]
    },
    {
     "name": "stdout",
     "output_type": "stream",
     "text": [
      "epoch: 3, [batch: 1344 / 6720], examples_per_second: 3173.9635, train_label_loss: 0.4842, \n"
     ]
    },
    {
     "name": "stdout",
     "output_type": "stream",
     "text": [
      "epoch: 3, [batch: 2016 / 6720], examples_per_second: 3168.3812, train_label_loss: 0.3004, \n"
     ]
    },
    {
     "name": "stdout",
     "output_type": "stream",
     "text": [
      "epoch: 3, [batch: 2688 / 6720], examples_per_second: 3180.1125, train_label_loss: 0.4707, \n"
     ]
    },
    {
     "name": "stdout",
     "output_type": "stream",
     "text": [
      "epoch: 3, [batch: 3360 / 6720], examples_per_second: 3178.5782, train_label_loss: 0.9479, \n"
     ]
    },
    {
     "name": "stdout",
     "output_type": "stream",
     "text": [
      "epoch: 3, [batch: 4032 / 6720], examples_per_second: 3192.5654, train_label_loss: 0.5969, \n"
     ]
    },
    {
     "name": "stdout",
     "output_type": "stream",
     "text": [
      "epoch: 3, [batch: 4704 / 6720], examples_per_second: 3176.1066, train_label_loss: 0.3012, \n"
     ]
    },
    {
     "name": "stdout",
     "output_type": "stream",
     "text": [
      "epoch: 3, [batch: 5376 / 6720], examples_per_second: 3193.5096, train_label_loss: 0.4030, \n"
     ]
    },
    {
     "name": "stdout",
     "output_type": "stream",
     "text": [
      "epoch: 3, [batch: 6048 / 6720], examples_per_second: 3180.7003, train_label_loss: 0.1991, \n"
     ]
    },
    {
     "name": "stdout",
     "output_type": "stream",
     "text": [
      "=============================================================\n",
      "epoch: 3, source_val_acc_label: 0.7953, target_val_acc_label: 0.7842, source_val_label_loss: 0.5639, target_val_label_loss: 0.6241, \n",
      "=============================================================\n"
     ]
    },
    {
     "name": "stdout",
     "output_type": "stream",
     "text": [
      "New best\n"
     ]
    },
    {
     "name": "stdout",
     "output_type": "stream",
     "text": [
      "epoch: 4, [batch: 1 / 6720], examples_per_second: 4.7384, train_label_loss: 0.5853, \n"
     ]
    },
    {
     "name": "stdout",
     "output_type": "stream",
     "text": [
      "epoch: 4, [batch: 672 / 6720], examples_per_second: 3170.5691, train_label_loss: 0.2291, \n"
     ]
    },
    {
     "name": "stdout",
     "output_type": "stream",
     "text": [
      "epoch: 4, [batch: 1344 / 6720], examples_per_second: 3176.2539, train_label_loss: 0.8816, \n"
     ]
    },
    {
     "name": "stdout",
     "output_type": "stream",
     "text": [
      "epoch: 4, [batch: 2016 / 6720], examples_per_second: 3177.1043, train_label_loss: 0.6926, \n"
     ]
    },
    {
     "name": "stdout",
     "output_type": "stream",
     "text": [
      "epoch: 4, [batch: 2688 / 6720], examples_per_second: 3157.6033, train_label_loss: 0.7066, \n"
     ]
    },
    {
     "name": "stdout",
     "output_type": "stream",
     "text": [
      "epoch: 4, [batch: 3360 / 6720], examples_per_second: 3180.5553, train_label_loss: 0.3329, \n"
     ]
    },
    {
     "name": "stdout",
     "output_type": "stream",
     "text": [
      "epoch: 4, [batch: 4032 / 6720], examples_per_second: 3179.0244, train_label_loss: 0.9037, \n"
     ]
    },
    {
     "name": "stdout",
     "output_type": "stream",
     "text": [
      "epoch: 4, [batch: 4704 / 6720], examples_per_second: 3163.6933, train_label_loss: 0.4718, \n"
     ]
    },
    {
     "name": "stdout",
     "output_type": "stream",
     "text": [
      "epoch: 4, [batch: 5376 / 6720], examples_per_second: 3183.6780, train_label_loss: 0.2951, \n"
     ]
    },
    {
     "name": "stdout",
     "output_type": "stream",
     "text": [
      "epoch: 4, [batch: 6048 / 6720], examples_per_second: 3177.7256, train_label_loss: 0.3856, \n"
     ]
    },
    {
     "name": "stdout",
     "output_type": "stream",
     "text": [
      "=============================================================\n",
      "epoch: 4, source_val_acc_label: 0.8258, target_val_acc_label: 0.8121, source_val_label_loss: 0.4940, target_val_label_loss: 0.5528, \n",
      "=============================================================\n"
     ]
    },
    {
     "name": "stdout",
     "output_type": "stream",
     "text": [
      "New best\n"
     ]
    },
    {
     "name": "stdout",
     "output_type": "stream",
     "text": [
      "epoch: 5, [batch: 1 / 6720], examples_per_second: 4.7335, train_label_loss: 0.0720, \n"
     ]
    },
    {
     "name": "stdout",
     "output_type": "stream",
     "text": [
      "epoch: 5, [batch: 672 / 6720], examples_per_second: 3169.6435, train_label_loss: 0.2429, \n"
     ]
    },
    {
     "name": "stdout",
     "output_type": "stream",
     "text": [
      "epoch: 5, [batch: 1344 / 6720], examples_per_second: 3188.2360, train_label_loss: 0.7525, \n"
     ]
    },
    {
     "name": "stdout",
     "output_type": "stream",
     "text": [
      "epoch: 5, [batch: 2016 / 6720], examples_per_second: 3171.6531, train_label_loss: 0.6525, \n"
     ]
    },
    {
     "name": "stdout",
     "output_type": "stream",
     "text": [
      "epoch: 5, [batch: 2688 / 6720], examples_per_second: 3179.7607, train_label_loss: 0.3844, \n"
     ]
    },
    {
     "name": "stdout",
     "output_type": "stream",
     "text": [
      "epoch: 5, [batch: 3360 / 6720], examples_per_second: 3185.3934, train_label_loss: 0.1032, \n"
     ]
    },
    {
     "name": "stdout",
     "output_type": "stream",
     "text": [
      "epoch: 5, [batch: 4032 / 6720], examples_per_second: 3174.2800, train_label_loss: 0.3424, \n"
     ]
    },
    {
     "name": "stdout",
     "output_type": "stream",
     "text": [
      "epoch: 5, [batch: 4704 / 6720], examples_per_second: 3169.9249, train_label_loss: 0.2120, \n"
     ]
    },
    {
     "name": "stdout",
     "output_type": "stream",
     "text": [
      "epoch: 5, [batch: 5376 / 6720], examples_per_second: 3175.4967, train_label_loss: 0.5806, \n"
     ]
    },
    {
     "name": "stdout",
     "output_type": "stream",
     "text": [
      "epoch: 5, [batch: 6048 / 6720], examples_per_second: 3178.0214, train_label_loss: 0.3415, \n"
     ]
    },
    {
     "name": "stdout",
     "output_type": "stream",
     "text": [
      "=============================================================\n",
      "epoch: 5, source_val_acc_label: 0.8532, target_val_acc_label: 0.8428, source_val_label_loss: 0.4197, target_val_label_loss: 0.4769, \n",
      "=============================================================\n"
     ]
    },
    {
     "name": "stdout",
     "output_type": "stream",
     "text": [
      "New best\n"
     ]
    },
    {
     "name": "stdout",
     "output_type": "stream",
     "text": [
      "epoch: 6, [batch: 1 / 6720], examples_per_second: 4.7172, train_label_loss: 0.2954, \n"
     ]
    },
    {
     "name": "stdout",
     "output_type": "stream",
     "text": [
      "epoch: 6, [batch: 672 / 6720], examples_per_second: 3162.8532, train_label_loss: 0.5328, \n"
     ]
    },
    {
     "name": "stdout",
     "output_type": "stream",
     "text": [
      "epoch: 6, [batch: 1344 / 6720], examples_per_second: 3160.4905, train_label_loss: 0.4303, \n"
     ]
    },
    {
     "name": "stdout",
     "output_type": "stream",
     "text": [
      "epoch: 6, [batch: 2016 / 6720], examples_per_second: 3176.3508, train_label_loss: 0.1275, \n"
     ]
    },
    {
     "name": "stdout",
     "output_type": "stream",
     "text": [
      "epoch: 6, [batch: 2688 / 6720], examples_per_second: 3183.5612, train_label_loss: 0.2553, \n"
     ]
    },
    {
     "name": "stdout",
     "output_type": "stream",
     "text": [
      "epoch: 6, [batch: 3360 / 6720], examples_per_second: 3178.2310, train_label_loss: 0.1324, \n"
     ]
    },
    {
     "name": "stdout",
     "output_type": "stream",
     "text": [
      "epoch: 6, [batch: 4032 / 6720], examples_per_second: 3191.1872, train_label_loss: 0.5922, \n"
     ]
    },
    {
     "name": "stdout",
     "output_type": "stream",
     "text": [
      "epoch: 6, [batch: 4704 / 6720], examples_per_second: 3175.7911, train_label_loss: 0.4337, \n"
     ]
    },
    {
     "name": "stdout",
     "output_type": "stream",
     "text": [
      "epoch: 6, [batch: 5376 / 6720], examples_per_second: 3169.6458, train_label_loss: 0.4437, \n"
     ]
    },
    {
     "name": "stdout",
     "output_type": "stream",
     "text": [
      "epoch: 6, [batch: 6048 / 6720], examples_per_second: 3195.0722, train_label_loss: 0.1166, \n"
     ]
    },
    {
     "name": "stdout",
     "output_type": "stream",
     "text": [
      "=============================================================\n",
      "epoch: 6, source_val_acc_label: 0.8730, target_val_acc_label: 0.8588, source_val_label_loss: 0.3732, target_val_label_loss: 0.4349, \n",
      "=============================================================\n"
     ]
    },
    {
     "name": "stdout",
     "output_type": "stream",
     "text": [
      "New best\n"
     ]
    },
    {
     "name": "stdout",
     "output_type": "stream",
     "text": [
      "epoch: 7, [batch: 1 / 6720], examples_per_second: 4.7453, train_label_loss: 0.1023, \n"
     ]
    },
    {
     "name": "stdout",
     "output_type": "stream",
     "text": [
      "epoch: 7, [batch: 672 / 6720], examples_per_second: 3171.6040, train_label_loss: 0.6033, \n"
     ]
    },
    {
     "name": "stdout",
     "output_type": "stream",
     "text": [
      "epoch: 7, [batch: 1344 / 6720], examples_per_second: 3183.8735, train_label_loss: 0.2626, \n"
     ]
    },
    {
     "name": "stdout",
     "output_type": "stream",
     "text": [
      "epoch: 7, [batch: 2016 / 6720], examples_per_second: 3175.2744, train_label_loss: 0.4668, \n"
     ]
    },
    {
     "name": "stdout",
     "output_type": "stream",
     "text": [
      "epoch: 7, [batch: 2688 / 6720], examples_per_second: 3173.3450, train_label_loss: 0.4458, \n"
     ]
    },
    {
     "name": "stdout",
     "output_type": "stream",
     "text": [
      "epoch: 7, [batch: 3360 / 6720], examples_per_second: 3185.8477, train_label_loss: 0.8008, \n"
     ]
    },
    {
     "name": "stdout",
     "output_type": "stream",
     "text": [
      "epoch: 7, [batch: 4032 / 6720], examples_per_second: 3182.9702, train_label_loss: 0.1816, \n"
     ]
    },
    {
     "name": "stdout",
     "output_type": "stream",
     "text": [
      "epoch: 7, [batch: 4704 / 6720], examples_per_second: 3176.4164, train_label_loss: 0.4480, \n"
     ]
    },
    {
     "name": "stdout",
     "output_type": "stream",
     "text": [
      "epoch: 7, [batch: 5376 / 6720], examples_per_second: 3182.4222, train_label_loss: 0.2536, \n"
     ]
    },
    {
     "name": "stdout",
     "output_type": "stream",
     "text": [
      "epoch: 7, [batch: 6048 / 6720], examples_per_second: 3197.5699, train_label_loss: 0.2306, \n"
     ]
    },
    {
     "name": "stdout",
     "output_type": "stream",
     "text": [
      "=============================================================\n",
      "epoch: 7, source_val_acc_label: 0.8564, target_val_acc_label: 0.8442, source_val_label_loss: 0.4002, target_val_label_loss: 0.4652, \n",
      "=============================================================\n"
     ]
    },
    {
     "name": "stdout",
     "output_type": "stream",
     "text": [
      "epoch: 8, [batch: 1 / 6720], examples_per_second: 4.7521, train_label_loss: 0.4241, \n"
     ]
    },
    {
     "name": "stdout",
     "output_type": "stream",
     "text": [
      "epoch: 8, [batch: 672 / 6720], examples_per_second: 3164.4716, train_label_loss: 0.5675, \n"
     ]
    },
    {
     "name": "stdout",
     "output_type": "stream",
     "text": [
      "epoch: 8, [batch: 1344 / 6720], examples_per_second: 3179.6996, train_label_loss: 0.4157, \n"
     ]
    },
    {
     "name": "stdout",
     "output_type": "stream",
     "text": [
      "epoch: 8, [batch: 2016 / 6720], examples_per_second: 3176.4497, train_label_loss: 0.1543, \n"
     ]
    },
    {
     "name": "stdout",
     "output_type": "stream",
     "text": [
      "epoch: 8, [batch: 2688 / 6720], examples_per_second: 3161.0236, train_label_loss: 0.0918, \n"
     ]
    },
    {
     "name": "stdout",
     "output_type": "stream",
     "text": [
      "epoch: 8, [batch: 3360 / 6720], examples_per_second: 3176.7020, train_label_loss: 0.4430, \n"
     ]
    },
    {
     "name": "stdout",
     "output_type": "stream",
     "text": [
      "epoch: 8, [batch: 4032 / 6720], examples_per_second: 3172.9420, train_label_loss: 0.5922, \n"
     ]
    },
    {
     "name": "stdout",
     "output_type": "stream",
     "text": [
      "epoch: 8, [batch: 4704 / 6720], examples_per_second: 3166.8760, train_label_loss: 0.2957, \n"
     ]
    },
    {
     "name": "stdout",
     "output_type": "stream",
     "text": [
      "epoch: 8, [batch: 5376 / 6720], examples_per_second: 3187.6974, train_label_loss: 0.3390, \n"
     ]
    },
    {
     "name": "stdout",
     "output_type": "stream",
     "text": [
      "epoch: 8, [batch: 6048 / 6720], examples_per_second: 3174.7042, train_label_loss: 0.5263, \n"
     ]
    },
    {
     "name": "stdout",
     "output_type": "stream",
     "text": [
      "=============================================================\n",
      "epoch: 8, source_val_acc_label: 0.8782, target_val_acc_label: 0.8649, source_val_label_loss: 0.3528, target_val_label_loss: 0.4182, \n",
      "=============================================================\n"
     ]
    },
    {
     "name": "stdout",
     "output_type": "stream",
     "text": [
      "New best\n"
     ]
    },
    {
     "name": "stdout",
     "output_type": "stream",
     "text": [
      "epoch: 9, [batch: 1 / 6720], examples_per_second: 4.7005, train_label_loss: 0.1765, \n"
     ]
    },
    {
     "name": "stdout",
     "output_type": "stream",
     "text": [
      "epoch: 9, [batch: 672 / 6720], examples_per_second: 3170.1051, train_label_loss: 0.6010, \n"
     ]
    },
    {
     "name": "stdout",
     "output_type": "stream",
     "text": [
      "epoch: 9, [batch: 1344 / 6720], examples_per_second: 3175.3448, train_label_loss: 0.4369, \n"
     ]
    },
    {
     "name": "stdout",
     "output_type": "stream",
     "text": [
      "epoch: 9, [batch: 2016 / 6720], examples_per_second: 3170.3672, train_label_loss: 0.2399, \n"
     ]
    },
    {
     "name": "stdout",
     "output_type": "stream",
     "text": [
      "epoch: 9, [batch: 2688 / 6720], examples_per_second: 3175.0913, train_label_loss: 0.1566, \n"
     ]
    },
    {
     "name": "stdout",
     "output_type": "stream",
     "text": [
      "epoch: 9, [batch: 3360 / 6720], examples_per_second: 3187.8687, train_label_loss: 0.5618, \n"
     ]
    },
    {
     "name": "stdout",
     "output_type": "stream",
     "text": [
      "epoch: 9, [batch: 4032 / 6720], examples_per_second: 3174.8622, train_label_loss: 0.5296, \n"
     ]
    },
    {
     "name": "stdout",
     "output_type": "stream",
     "text": [
      "epoch: 9, [batch: 4704 / 6720], examples_per_second: 3164.4353, train_label_loss: 0.3058, \n"
     ]
    },
    {
     "name": "stdout",
     "output_type": "stream",
     "text": [
      "epoch: 9, [batch: 5376 / 6720], examples_per_second: 3183.0165, train_label_loss: 0.2238, \n"
     ]
    },
    {
     "name": "stdout",
     "output_type": "stream",
     "text": [
      "epoch: 9, [batch: 6048 / 6720], examples_per_second: 3180.1461, train_label_loss: 0.0143, \n"
     ]
    },
    {
     "name": "stdout",
     "output_type": "stream",
     "text": [
      "=============================================================\n",
      "epoch: 9, source_val_acc_label: 0.8850, target_val_acc_label: 0.8689, source_val_label_loss: 0.3240, target_val_label_loss: 0.4103, \n",
      "=============================================================\n"
     ]
    },
    {
     "name": "stdout",
     "output_type": "stream",
     "text": [
      "New best\n"
     ]
    },
    {
     "name": "stdout",
     "output_type": "stream",
     "text": [
      "epoch: 10, [batch: 1 / 6720], examples_per_second: 4.7380, train_label_loss: 0.3211, \n"
     ]
    },
    {
     "name": "stdout",
     "output_type": "stream",
     "text": [
      "epoch: 10, [batch: 672 / 6720], examples_per_second: 3167.7363, train_label_loss: 0.2281, \n"
     ]
    },
    {
     "name": "stdout",
     "output_type": "stream",
     "text": [
      "epoch: 10, [batch: 1344 / 6720], examples_per_second: 3167.8931, train_label_loss: 0.4157, \n"
     ]
    },
    {
     "name": "stdout",
     "output_type": "stream",
     "text": [
      "epoch: 10, [batch: 2016 / 6720], examples_per_second: 3176.9027, train_label_loss: 0.2033, \n"
     ]
    },
    {
     "name": "stdout",
     "output_type": "stream",
     "text": [
      "epoch: 10, [batch: 2688 / 6720], examples_per_second: 3166.8543, train_label_loss: 0.1997, \n"
     ]
    },
    {
     "name": "stdout",
     "output_type": "stream",
     "text": [
      "epoch: 10, [batch: 3360 / 6720], examples_per_second: 3182.6595, train_label_loss: 0.2242, \n"
     ]
    },
    {
     "name": "stdout",
     "output_type": "stream",
     "text": [
      "epoch: 10, [batch: 4032 / 6720], examples_per_second: 3192.2619, train_label_loss: 0.3294, \n"
     ]
    },
    {
     "name": "stdout",
     "output_type": "stream",
     "text": [
      "epoch: 10, [batch: 4704 / 6720], examples_per_second: 3174.2046, train_label_loss: 0.2989, \n"
     ]
    },
    {
     "name": "stdout",
     "output_type": "stream",
     "text": [
      "epoch: 10, [batch: 5376 / 6720], examples_per_second: 3200.4642, train_label_loss: 0.3260, \n"
     ]
    },
    {
     "name": "stdout",
     "output_type": "stream",
     "text": [
      "epoch: 10, [batch: 6048 / 6720], examples_per_second: 3182.9178, train_label_loss: 0.1285, \n"
     ]
    },
    {
     "name": "stdout",
     "output_type": "stream",
     "text": [
      "=============================================================\n",
      "epoch: 10, source_val_acc_label: 0.8909, target_val_acc_label: 0.8717, source_val_label_loss: 0.3062, target_val_label_loss: 0.3922, \n",
      "=============================================================\n"
     ]
    },
    {
     "name": "stdout",
     "output_type": "stream",
     "text": [
      "New best\n"
     ]
    },
    {
     "name": "stdout",
     "output_type": "stream",
     "text": [
      "epoch: 11, [batch: 1 / 6720], examples_per_second: 4.7460, train_label_loss: 0.3317, \n"
     ]
    },
    {
     "name": "stdout",
     "output_type": "stream",
     "text": [
      "epoch: 11, [batch: 672 / 6720], examples_per_second: 3174.9521, train_label_loss: 0.2567, \n"
     ]
    },
    {
     "name": "stdout",
     "output_type": "stream",
     "text": [
      "epoch: 11, [batch: 1344 / 6720], examples_per_second: 3172.4966, train_label_loss: 0.3599, \n"
     ]
    },
    {
     "name": "stdout",
     "output_type": "stream",
     "text": [
      "epoch: 11, [batch: 2016 / 6720], examples_per_second: 3173.7756, train_label_loss: 0.1793, \n"
     ]
    },
    {
     "name": "stdout",
     "output_type": "stream",
     "text": [
      "epoch: 11, [batch: 2688 / 6720], examples_per_second: 3174.4579, train_label_loss: 0.4801, \n"
     ]
    },
    {
     "name": "stdout",
     "output_type": "stream",
     "text": [
      "epoch: 11, [batch: 3360 / 6720], examples_per_second: 3184.2522, train_label_loss: 0.3488, \n"
     ]
    },
    {
     "name": "stdout",
     "output_type": "stream",
     "text": [
      "epoch: 11, [batch: 4032 / 6720], examples_per_second: 3176.9893, train_label_loss: 0.2747, \n"
     ]
    },
    {
     "name": "stdout",
     "output_type": "stream",
     "text": [
      "epoch: 11, [batch: 4704 / 6720], examples_per_second: 3166.7134, train_label_loss: 0.0558, \n"
     ]
    },
    {
     "name": "stdout",
     "output_type": "stream",
     "text": [
      "epoch: 11, [batch: 5376 / 6720], examples_per_second: 3186.0621, train_label_loss: 0.5041, \n"
     ]
    },
    {
     "name": "stdout",
     "output_type": "stream",
     "text": [
      "epoch: 11, [batch: 6048 / 6720], examples_per_second: 3181.3337, train_label_loss: 0.1188, \n"
     ]
    },
    {
     "name": "stdout",
     "output_type": "stream",
     "text": [
      "=============================================================\n",
      "epoch: 11, source_val_acc_label: 0.8896, target_val_acc_label: 0.8718, source_val_label_loss: 0.3138, target_val_label_loss: 0.3930, \n",
      "=============================================================\n"
     ]
    },
    {
     "name": "stdout",
     "output_type": "stream",
     "text": [
      "epoch: 12, [batch: 1 / 6720], examples_per_second: 4.7237, train_label_loss: 0.5718, \n"
     ]
    },
    {
     "name": "stdout",
     "output_type": "stream",
     "text": [
      "epoch: 12, [batch: 672 / 6720], examples_per_second: 3168.9072, train_label_loss: 0.3808, \n"
     ]
    },
    {
     "name": "stdout",
     "output_type": "stream",
     "text": [
      "epoch: 12, [batch: 1344 / 6720], examples_per_second: 3182.7723, train_label_loss: 0.0823, \n"
     ]
    },
    {
     "name": "stdout",
     "output_type": "stream",
     "text": [
      "epoch: 12, [batch: 2016 / 6720], examples_per_second: 3182.2843, train_label_loss: 0.4364, \n"
     ]
    },
    {
     "name": "stdout",
     "output_type": "stream",
     "text": [
      "epoch: 12, [batch: 2688 / 6720], examples_per_second: 3159.7761, train_label_loss: 0.0900, \n"
     ]
    },
    {
     "name": "stdout",
     "output_type": "stream",
     "text": [
      "epoch: 12, [batch: 3360 / 6720], examples_per_second: 3190.3958, train_label_loss: 0.2473, \n"
     ]
    },
    {
     "name": "stdout",
     "output_type": "stream",
     "text": [
      "epoch: 12, [batch: 4032 / 6720], examples_per_second: 3169.6382, train_label_loss: 0.2720, \n"
     ]
    },
    {
     "name": "stdout",
     "output_type": "stream",
     "text": [
      "epoch: 12, [batch: 4704 / 6720], examples_per_second: 3152.8559, train_label_loss: 0.1707, \n"
     ]
    },
    {
     "name": "stdout",
     "output_type": "stream",
     "text": [
      "epoch: 12, [batch: 5376 / 6720], examples_per_second: 3187.0347, train_label_loss: 0.0647, \n"
     ]
    },
    {
     "name": "stdout",
     "output_type": "stream",
     "text": [
      "epoch: 12, [batch: 6048 / 6720], examples_per_second: 3184.4352, train_label_loss: 0.2049, \n"
     ]
    },
    {
     "name": "stdout",
     "output_type": "stream",
     "text": [
      "=============================================================\n",
      "epoch: 12, source_val_acc_label: 0.8900, target_val_acc_label: 0.8719, source_val_label_loss: 0.3113, target_val_label_loss: 0.3942, \n",
      "=============================================================\n"
     ]
    },
    {
     "name": "stdout",
     "output_type": "stream",
     "text": [
      "epoch: 13, [batch: 1 / 6720], examples_per_second: 4.7327, train_label_loss: 0.3153, \n"
     ]
    },
    {
     "name": "stdout",
     "output_type": "stream",
     "text": [
      "epoch: 13, [batch: 672 / 6720], examples_per_second: 3173.8359, train_label_loss: 0.3866, \n"
     ]
    },
    {
     "name": "stdout",
     "output_type": "stream",
     "text": [
      "epoch: 13, [batch: 1344 / 6720], examples_per_second: 3171.5201, train_label_loss: 0.1281, \n"
     ]
    },
    {
     "name": "stdout",
     "output_type": "stream",
     "text": [
      "epoch: 13, [batch: 2016 / 6720], examples_per_second: 3180.3641, train_label_loss: 0.1788, \n"
     ]
    },
    {
     "name": "stdout",
     "output_type": "stream",
     "text": [
      "epoch: 13, [batch: 2688 / 6720], examples_per_second: 3180.3343, train_label_loss: 0.0600, \n"
     ]
    },
    {
     "name": "stdout",
     "output_type": "stream",
     "text": [
      "epoch: 13, [batch: 3360 / 6720], examples_per_second: 3182.3534, train_label_loss: 0.5549, \n"
     ]
    },
    {
     "name": "stdout",
     "output_type": "stream",
     "text": [
      "epoch: 13, [batch: 4032 / 6720], examples_per_second: 3190.2945, train_label_loss: 0.4272, \n"
     ]
    },
    {
     "name": "stdout",
     "output_type": "stream",
     "text": [
      "epoch: 13, [batch: 4704 / 6720], examples_per_second: 3175.5522, train_label_loss: 0.0291, \n"
     ]
    },
    {
     "name": "stdout",
     "output_type": "stream",
     "text": [
      "epoch: 13, [batch: 5376 / 6720], examples_per_second: 3191.0704, train_label_loss: 0.1991, \n"
     ]
    },
    {
     "name": "stdout",
     "output_type": "stream",
     "text": [
      "epoch: 13, [batch: 6048 / 6720], examples_per_second: 3179.0095, train_label_loss: 0.1745, \n"
     ]
    },
    {
     "name": "stdout",
     "output_type": "stream",
     "text": [
      "=============================================================\n",
      "epoch: 13, source_val_acc_label: 0.8971, target_val_acc_label: 0.8737, source_val_label_loss: 0.2908, target_val_label_loss: 0.3828, \n",
      "=============================================================\n"
     ]
    },
    {
     "name": "stdout",
     "output_type": "stream",
     "text": [
      "New best\n"
     ]
    },
    {
     "name": "stdout",
     "output_type": "stream",
     "text": [
      "epoch: 14, [batch: 1 / 6720], examples_per_second: 4.7529, train_label_loss: 0.3154, \n"
     ]
    },
    {
     "name": "stdout",
     "output_type": "stream",
     "text": [
      "epoch: 14, [batch: 672 / 6720], examples_per_second: 3156.8732, train_label_loss: 0.2604, \n"
     ]
    },
    {
     "name": "stdout",
     "output_type": "stream",
     "text": [
      "epoch: 14, [batch: 1344 / 6720], examples_per_second: 3156.1996, train_label_loss: 0.3089, \n"
     ]
    },
    {
     "name": "stdout",
     "output_type": "stream",
     "text": [
      "epoch: 14, [batch: 2016 / 6720], examples_per_second: 3174.1128, train_label_loss: 0.2733, \n"
     ]
    },
    {
     "name": "stdout",
     "output_type": "stream",
     "text": [
      "epoch: 14, [batch: 2688 / 6720], examples_per_second: 3169.3745, train_label_loss: 0.2809, \n"
     ]
    },
    {
     "name": "stdout",
     "output_type": "stream",
     "text": [
      "epoch: 14, [batch: 3360 / 6720], examples_per_second: 3188.9133, train_label_loss: 0.1544, \n"
     ]
    },
    {
     "name": "stdout",
     "output_type": "stream",
     "text": [
      "epoch: 14, [batch: 4032 / 6720], examples_per_second: 3186.1897, train_label_loss: 0.5647, \n"
     ]
    },
    {
     "name": "stdout",
     "output_type": "stream",
     "text": [
      "epoch: 14, [batch: 4704 / 6720], examples_per_second: 3155.4884, train_label_loss: 0.1968, \n"
     ]
    },
    {
     "name": "stdout",
     "output_type": "stream",
     "text": [
      "epoch: 14, [batch: 5376 / 6720], examples_per_second: 3187.6673, train_label_loss: 0.1525, \n"
     ]
    },
    {
     "name": "stdout",
     "output_type": "stream",
     "text": [
      "epoch: 14, [batch: 6048 / 6720], examples_per_second: 3184.3998, train_label_loss: 0.0665, \n"
     ]
    },
    {
     "name": "stdout",
     "output_type": "stream",
     "text": [
      "=============================================================\n",
      "epoch: 14, source_val_acc_label: 0.8955, target_val_acc_label: 0.8735, source_val_label_loss: 0.2926, target_val_label_loss: 0.4003, \n",
      "=============================================================\n"
     ]
    },
    {
     "name": "stdout",
     "output_type": "stream",
     "text": [
      "epoch: 15, [batch: 1 / 6720], examples_per_second: 4.7422, train_label_loss: 0.0932, \n"
     ]
    },
    {
     "name": "stdout",
     "output_type": "stream",
     "text": [
      "epoch: 15, [batch: 672 / 6720], examples_per_second: 3175.6429, train_label_loss: 0.2649, \n"
     ]
    },
    {
     "name": "stdout",
     "output_type": "stream",
     "text": [
      "epoch: 15, [batch: 1344 / 6720], examples_per_second: 3178.7892, train_label_loss: 0.0857, \n"
     ]
    },
    {
     "name": "stdout",
     "output_type": "stream",
     "text": [
      "epoch: 15, [batch: 2016 / 6720], examples_per_second: 3188.5335, train_label_loss: 0.2200, \n"
     ]
    },
    {
     "name": "stdout",
     "output_type": "stream",
     "text": [
      "epoch: 15, [batch: 2688 / 6720], examples_per_second: 3185.0599, train_label_loss: 0.1700, \n"
     ]
    },
    {
     "name": "stdout",
     "output_type": "stream",
     "text": [
      "epoch: 15, [batch: 3360 / 6720], examples_per_second: 3174.9294, train_label_loss: 0.3352, \n"
     ]
    },
    {
     "name": "stdout",
     "output_type": "stream",
     "text": [
      "epoch: 15, [batch: 4032 / 6720], examples_per_second: 3177.4071, train_label_loss: 0.1998, \n"
     ]
    },
    {
     "name": "stdout",
     "output_type": "stream",
     "text": [
      "epoch: 15, [batch: 4704 / 6720], examples_per_second: 3178.3300, train_label_loss: 0.2996, \n"
     ]
    },
    {
     "name": "stdout",
     "output_type": "stream",
     "text": [
      "epoch: 15, [batch: 5376 / 6720], examples_per_second: 3181.0756, train_label_loss: 0.0410, \n"
     ]
    },
    {
     "name": "stdout",
     "output_type": "stream",
     "text": [
      "epoch: 15, [batch: 6048 / 6720], examples_per_second: 3167.8679, train_label_loss: 0.2821, \n"
     ]
    },
    {
     "name": "stdout",
     "output_type": "stream",
     "text": [
      "=============================================================\n",
      "epoch: 15, source_val_acc_label: 0.8925, target_val_acc_label: 0.8719, source_val_label_loss: 0.2991, target_val_label_loss: 0.3944, \n",
      "=============================================================\n"
     ]
    },
    {
     "name": "stdout",
     "output_type": "stream",
     "text": [
      "epoch: 16, [batch: 1 / 6720], examples_per_second: 4.6975, train_label_loss: 0.1693, \n"
     ]
    },
    {
     "name": "stdout",
     "output_type": "stream",
     "text": [
      "epoch: 16, [batch: 672 / 6720], examples_per_second: 3122.8523, train_label_loss: 0.0893, \n"
     ]
    },
    {
     "name": "stdout",
     "output_type": "stream",
     "text": [
      "epoch: 16, [batch: 1344 / 6720], examples_per_second: 3141.8635, train_label_loss: 0.0807, \n"
     ]
    },
    {
     "name": "stdout",
     "output_type": "stream",
     "text": [
      "epoch: 16, [batch: 2016 / 6720], examples_per_second: 3158.6250, train_label_loss: 0.0735, \n"
     ]
    },
    {
     "name": "stdout",
     "output_type": "stream",
     "text": [
      "epoch: 16, [batch: 2688 / 6720], examples_per_second: 3146.9325, train_label_loss: 0.1624, \n"
     ]
    },
    {
     "name": "stdout",
     "output_type": "stream",
     "text": [
      "epoch: 16, [batch: 3360 / 6720], examples_per_second: 3147.1706, train_label_loss: 0.1940, \n"
     ]
    },
    {
     "name": "stdout",
     "output_type": "stream",
     "text": [
      "epoch: 16, [batch: 4032 / 6720], examples_per_second: 3164.7716, train_label_loss: 0.3971, \n"
     ]
    },
    {
     "name": "stdout",
     "output_type": "stream",
     "text": [
      "epoch: 16, [batch: 4704 / 6720], examples_per_second: 3143.8795, train_label_loss: 0.1936, \n"
     ]
    },
    {
     "name": "stdout",
     "output_type": "stream",
     "text": [
      "epoch: 16, [batch: 5376 / 6720], examples_per_second: 3146.5827, train_label_loss: 0.2771, \n"
     ]
    },
    {
     "name": "stdout",
     "output_type": "stream",
     "text": [
      "epoch: 16, [batch: 6048 / 6720], examples_per_second: 3162.2049, train_label_loss: 0.1002, \n"
     ]
    },
    {
     "name": "stdout",
     "output_type": "stream",
     "text": [
      "=============================================================\n",
      "epoch: 16, source_val_acc_label: 0.8825, target_val_acc_label: 0.8597, source_val_label_loss: 0.3260, target_val_label_loss: 0.4329, \n",
      "=============================================================\n"
     ]
    },
    {
     "name": "stdout",
     "output_type": "stream",
     "text": [
      "epoch: 17, [batch: 1 / 6720], examples_per_second: 4.7235, train_label_loss: 0.0186, \n"
     ]
    },
    {
     "name": "stdout",
     "output_type": "stream",
     "text": [
      "epoch: 17, [batch: 672 / 6720], examples_per_second: 3147.9748, train_label_loss: 0.1815, \n"
     ]
    },
    {
     "name": "stdout",
     "output_type": "stream",
     "text": [
      "epoch: 17, [batch: 1344 / 6720], examples_per_second: 3134.8786, train_label_loss: 0.0546, \n"
     ]
    },
    {
     "name": "stdout",
     "output_type": "stream",
     "text": [
      "epoch: 17, [batch: 2016 / 6720], examples_per_second: 3143.6159, train_label_loss: 0.4126, \n"
     ]
    },
    {
     "name": "stdout",
     "output_type": "stream",
     "text": [
      "epoch: 17, [batch: 2688 / 6720], examples_per_second: 3141.7484, train_label_loss: 0.2713, \n"
     ]
    },
    {
     "name": "stdout",
     "output_type": "stream",
     "text": [
      "epoch: 17, [batch: 3360 / 6720], examples_per_second: 3155.3899, train_label_loss: 0.3198, \n"
     ]
    },
    {
     "name": "stdout",
     "output_type": "stream",
     "text": [
      "epoch: 17, [batch: 4032 / 6720], examples_per_second: 3114.7113, train_label_loss: 0.4021, \n"
     ]
    },
    {
     "name": "stdout",
     "output_type": "stream",
     "text": [
      "epoch: 17, [batch: 4704 / 6720], examples_per_second: 3147.1221, train_label_loss: 0.2256, \n"
     ]
    },
    {
     "name": "stdout",
     "output_type": "stream",
     "text": [
      "epoch: 17, [batch: 5376 / 6720], examples_per_second: 3178.1555, train_label_loss: 0.2698, \n"
     ]
    },
    {
     "name": "stdout",
     "output_type": "stream",
     "text": [
      "epoch: 17, [batch: 6048 / 6720], examples_per_second: 3173.6701, train_label_loss: 0.2527, \n"
     ]
    },
    {
     "name": "stdout",
     "output_type": "stream",
     "text": [
      "=============================================================\n",
      "epoch: 17, source_val_acc_label: 0.9014, target_val_acc_label: 0.8763, source_val_label_loss: 0.2773, target_val_label_loss: 0.3943, \n",
      "=============================================================\n"
     ]
    },
    {
     "name": "stdout",
     "output_type": "stream",
     "text": [
      "Patience (3) exhausted\n"
     ]
    }
   ],
   "source": [
    "###################################\n",
    "# train\n",
    "###################################\n",
    "jig = PTN_Train_Eval_Test_Jig(model, p.BEST_MODEL_PATH, p.device)\n",
    "\n",
    "jig.train(\n",
    "    train_iterable=datasets.source.processed.train,\n",
    "    source_val_iterable=datasets.source.processed.val,\n",
    "    target_val_iterable=datasets.target.processed.val,\n",
    "    num_epochs=p.n_epoch,\n",
    "    num_logs_per_epoch=p.NUM_LOGS_PER_EPOCH,\n",
    "    patience=p.patience,\n",
    "    optimizer=optimizer,\n",
    "    criteria_for_best=p.criteria_for_best,\n",
    ")"
   ]
  },
  {
   "cell_type": "code",
   "execution_count": 23,
   "id": "31e8fabf",
   "metadata": {
    "execution": {
     "iopub.execute_input": "2022-03-07T02:55:39.234683Z",
     "iopub.status.busy": "2022-03-07T02:55:39.234286Z",
     "iopub.status.idle": "2022-03-07T02:55:39.247033Z",
     "shell.execute_reply": "2022-03-07T02:55:39.247240Z"
    },
    "papermill": {
     "duration": 0.063256,
     "end_time": "2022-03-07T02:55:39.247297",
     "exception": false,
     "start_time": "2022-03-07T02:55:39.184041",
     "status": "completed"
    },
    "tags": []
   },
   "outputs": [],
   "source": [
    "total_experiment_time_secs = time.time() - start_time_secs"
   ]
  },
  {
   "cell_type": "code",
   "execution_count": 24,
   "id": "87b9595b",
   "metadata": {
    "execution": {
     "iopub.execute_input": "2022-03-07T02:55:39.355189Z",
     "iopub.status.busy": "2022-03-07T02:55:39.350871Z",
     "iopub.status.idle": "2022-03-07T02:57:17.568558Z",
     "shell.execute_reply": "2022-03-07T02:57:17.568960Z"
    },
    "papermill": {
     "duration": 98.268094,
     "end_time": "2022-03-07T02:57:17.569085",
     "exception": false,
     "start_time": "2022-03-07T02:55:39.300991",
     "status": "completed"
    },
    "tags": []
   },
   "outputs": [],
   "source": [
    "###################################\n",
    "# Evaluate the model\n",
    "###################################\n",
    "source_test_label_accuracy, source_test_label_loss = jig.test(datasets.source.processed.test)\n",
    "target_test_label_accuracy, target_test_label_loss = jig.test(datasets.target.processed.test)\n",
    "\n",
    "source_val_label_accuracy, source_val_label_loss = jig.test(datasets.source.processed.val)\n",
    "target_val_label_accuracy, target_val_label_loss = jig.test(datasets.target.processed.val)\n",
    "\n",
    "history = jig.get_history()\n",
    "\n",
    "total_epochs_trained = len(history[\"epoch_indices\"])\n",
    "\n",
    "val_dl = Iterable_Aggregator((datasets.source.original.val,datasets.target.original.val))\n",
    "\n",
    "confusion = ptn_confusion_by_domain_over_dataloader(model, p.device, val_dl)\n",
    "per_domain_accuracy = per_domain_accuracy_from_confusion(confusion)\n",
    "\n",
    "# Add a key to per_domain_accuracy for if it was a source domain\n",
    "for domain, accuracy in per_domain_accuracy.items():\n",
    "    per_domain_accuracy[domain] = {\n",
    "        \"accuracy\": accuracy,\n",
    "        \"source?\": domain in p.domains_source\n",
    "    }\n",
    "\n",
    "# Do an independent accuracy assesment JUST TO BE SURE!\n",
    "# _source_test_label_accuracy = independent_accuracy_assesment(model, datasets.source.processed.test, p.device)\n",
    "# _target_test_label_accuracy = independent_accuracy_assesment(model, datasets.target.processed.test, p.device)\n",
    "# _source_val_label_accuracy = independent_accuracy_assesment(model, datasets.source.processed.val, p.device)\n",
    "# _target_val_label_accuracy = independent_accuracy_assesment(model, datasets.target.processed.val, p.device)\n",
    "\n",
    "# assert(_source_test_label_accuracy == source_test_label_accuracy)\n",
    "# assert(_target_test_label_accuracy == target_test_label_accuracy)\n",
    "# assert(_source_val_label_accuracy == source_val_label_accuracy)\n",
    "# assert(_target_val_label_accuracy == target_val_label_accuracy)\n",
    "\n",
    "experiment = {\n",
    "    \"experiment_name\": p.experiment_name,\n",
    "    \"parameters\": dict(p),\n",
    "    \"results\": {\n",
    "        \"source_test_label_accuracy\": source_test_label_accuracy,\n",
    "        \"source_test_label_loss\": source_test_label_loss,\n",
    "        \"target_test_label_accuracy\": target_test_label_accuracy,\n",
    "        \"target_test_label_loss\": target_test_label_loss,\n",
    "        \"source_val_label_accuracy\": source_val_label_accuracy,\n",
    "        \"source_val_label_loss\": source_val_label_loss,\n",
    "        \"target_val_label_accuracy\": target_val_label_accuracy,\n",
    "        \"target_val_label_loss\": target_val_label_loss,\n",
    "        \"total_epochs_trained\": total_epochs_trained,\n",
    "        \"total_experiment_time_secs\": total_experiment_time_secs,\n",
    "        \"confusion\": confusion,\n",
    "        \"per_domain_accuracy\": per_domain_accuracy,\n",
    "    },\n",
    "    \"history\": history,\n",
    "    \"dataset_metrics\": get_dataset_metrics(datasets, \"ptn\"),\n",
    "}"
   ]
  },
  {
   "cell_type": "code",
   "execution_count": 25,
   "id": "54a21829",
   "metadata": {
    "execution": {
     "iopub.execute_input": "2022-03-07T02:57:17.677852Z",
     "iopub.status.busy": "2022-03-07T02:57:17.677322Z",
     "iopub.status.idle": "2022-03-07T02:57:17.852937Z",
     "shell.execute_reply": "2022-03-07T02:57:17.852455Z"
    },
    "papermill": {
     "duration": 0.229878,
     "end_time": "2022-03-07T02:57:17.853033",
     "exception": false,
     "start_time": "2022-03-07T02:57:17.623155",
     "status": "completed"
    },
    "tags": []
   },
   "outputs": [
    {
     "data": {
      "image/png": "[encoded data removed]",
      "text/plain": [
       "<Figure size 1080x504 with 1 Axes>"
      ]
     },
     "metadata": {
      "needs_background": "light"
     },
     "output_type": "display_data"
    }
   ],
   "source": [
    "ax = get_loss_curve(experiment)\n",
    "plt.show()"
   ]
  },
  {
   "cell_type": "code",
   "execution_count": 26,
   "id": "fd8a0f60",
   "metadata": {
    "execution": {
     "iopub.execute_input": "2022-03-07T02:57:17.956332Z",
     "iopub.status.busy": "2022-03-07T02:57:17.956079Z",
     "iopub.status.idle": "2022-03-07T02:57:18.134112Z",
     "shell.execute_reply": "2022-03-07T02:57:18.134326Z"
    },
    "papermill": {
     "duration": 0.229165,
     "end_time": "2022-03-07T02:57:18.134406",
     "exception": false,
     "start_time": "2022-03-07T02:57:17.905241",
     "status": "completed"
    },
    "tags": []
   },
   "outputs": [
    {
     "data": {
      "text/plain": [
       "<matplotlib.axes._subplots.AxesSubplot at 0x7f2546b3f9d0>"
      ]
     },
     "execution_count": 26,
     "metadata": {},
     "output_type": "execute_result"
    },
    {
     "data": {
      "image/png": "[encoded data removed]",
      "text/plain": [
       "<Figure size 1080x504 with 1 Axes>"
      ]
     },
     "metadata": {
      "needs_background": "light"
     },
     "output_type": "display_data"
    }
   ],
   "source": [
    "get_results_table(experiment)"
   ]
  },
  {
   "cell_type": "code",
   "execution_count": 27,
   "id": "cf8dc689",
   "metadata": {
    "execution": {
     "iopub.execute_input": "2022-03-07T02:57:18.240466Z",
     "iopub.status.busy": "2022-03-07T02:57:18.240209Z",
     "iopub.status.idle": "2022-03-07T02:57:18.465654Z",
     "shell.execute_reply": "2022-03-07T02:57:18.466018Z"
    },
    "papermill": {
     "duration": 0.27935,
     "end_time": "2022-03-07T02:57:18.466139",
     "exception": false,
     "start_time": "2022-03-07T02:57:18.186789",
     "status": "completed"
    },
    "tags": []
   },
   "outputs": [
    {
     "data": {
      "text/plain": [
       "<matplotlib.axes._subplots.AxesSubplot at 0x7f2550573520>"
      ]
     },
     "execution_count": 27,
     "metadata": {},
     "output_type": "execute_result"
    },
    {
     "data": {
      "image/png": "[encoded data removed]",
      "text/plain": [
       "<Figure size 1080x504 with 1 Axes>"
      ]
     },
     "metadata": {
      "needs_background": "light"
     },
     "output_type": "display_data"
    }
   ],
   "source": [
    "get_domain_accuracies(experiment)"
   ]
  },
  {
   "cell_type": "code",
   "execution_count": 28,
   "id": "a74ae082",
   "metadata": {
    "execution": {
     "iopub.execute_input": "2022-03-07T02:57:18.576450Z",
     "iopub.status.busy": "2022-03-07T02:57:18.576193Z",
     "iopub.status.idle": "2022-03-07T02:57:18.589705Z",
     "shell.execute_reply": "2022-03-07T02:57:18.590060Z"
    },
    "papermill": {
     "duration": 0.068125,
     "end_time": "2022-03-07T02:57:18.590170",
     "exception": false,
     "start_time": "2022-03-07T02:57:18.522045",
     "status": "completed"
    },
    "tags": []
   },
   "outputs": [
    {
     "name": "stdout",
     "output_type": "stream",
     "text": [
      "Source Test Label Accuracy: 0.8973958333333333 Target Test Label Accuracy: 0.8785481770833333\n",
      "Source Val Label Accuracy: 0.8971354166666666 Target Val Label Accuracy: 0.8736653645833333\n"
     ]
    }
   ],
   "source": [
    "print(\"Source Test Label Accuracy:\", experiment[\"results\"][\"source_test_label_accuracy\"], \"Target Test Label Accuracy:\", experiment[\"results\"][\"target_test_label_accuracy\"])\n",
    "print(\"Source Val Label Accuracy:\", experiment[\"results\"][\"source_val_label_accuracy\"], \"Target Val Label Accuracy:\", experiment[\"results\"][\"target_val_label_accuracy\"])"
   ]
  },
  {
   "cell_type": "code",
   "execution_count": 29,
   "id": "dacca602",
   "metadata": {
    "execution": {
     "iopub.execute_input": "2022-03-07T02:57:18.699151Z",
     "iopub.status.busy": "2022-03-07T02:57:18.698897Z",
     "iopub.status.idle": "2022-03-07T02:57:18.712943Z",
     "shell.execute_reply": "2022-03-07T02:57:18.712490Z"
    },
    "papermill": {
     "duration": 0.068382,
     "end_time": "2022-03-07T02:57:18.713034",
     "exception": false,
     "start_time": "2022-03-07T02:57:18.644652",
     "status": "completed"
    },
    "tags": [
     "experiment_json"
    ]
   },
   "outputs": [
    {
     "data": {
      "text/plain": [
       "'{\"experiment_name\": \"tl_1_oracle.run1-oracle.run2\", \"parameters\": {\"experiment_name\": \"tl_1_oracle.run1-oracle.run2\", \"device\": \"cuda\", \"lr\": 0.001, \"seed\": 1337, \"dataset_seed\": 1337, \"n_shot\": 3, \"n_query\": 2, \"train_k_factor\": 3, \"val_k_factor\": 2, \"test_k_factor\": 2, \"torch_default_dtype\": \"torch.float32\", \"n_epoch\": 50, \"patience\": 3, \"criteria_for_best\": \"target_loss\", \"x_net\": [{\"class\": \"nnReshape\", \"kargs\": {\"shape\": [-1, 1, 2, 256]}}, {\"class\": \"Conv2d\", \"kargs\": {\"in_channels\": 1, \"out_channels\": 256, \"kernel_size\": [1, 7], \"bias\": false, \"padding\": [0, 3]}}, {\"class\": \"ReLU\", \"kargs\": {\"inplace\": true}}, {\"class\": \"BatchNorm2d\", \"kargs\": {\"num_features\": 256}}, {\"class\": \"Conv2d\", \"kargs\": {\"in_channels\": 256, \"out_channels\": 80, \"kernel_size\": [2, 7], \"bias\": true, \"padding\": [0, 3]}}, {\"class\": \"ReLU\", \"kargs\": {\"inplace\": true}}, {\"class\": \"BatchNorm2d\", \"kargs\": {\"num_features\": 80}}, {\"class\": \"Flatten\", \"kargs\": {}}, {\"class\": \"Linear\", \"kargs\": {\"in_features\": 20480, \"out_features\": 256}}, {\"class\": \"ReLU\", \"kargs\": {\"inplace\": true}}, {\"class\": \"BatchNorm1d\", \"kargs\": {\"num_features\": 256}}, {\"class\": \"Linear\", \"kargs\": {\"in_features\": 256, \"out_features\": 256}}], \"NUM_LOGS_PER_EPOCH\": 10, \"BEST_MODEL_PATH\": \"./best_model.pth\", \"n_way\": 16, \"datasets\": [{\"labels\": [\"3123D52\", \"3123D65\", \"3123D79\", \"3123D80\", \"3123D54\", \"3123D70\", \"3123D7B\", \"3123D89\", \"3123D58\", \"3123D76\", \"3123D7D\", \"3123EFE\", \"3123D64\", \"3123D78\", \"3123D7E\", \"3124E4A\"], \"domains\": [32, 38, 8, 44, 14, 50, 20, 26], \"num_examples_per_domain_per_label\": 2000, \"pickle_path\": \"/mnt/wd500GB/CSC500/csc500-main/datasets/oracle.Run1_framed_2000Examples_stratified_ds.2022A.pkl\", \"source_or_target_dataset\": \"source\", \"x_transforms\": [\"unit_mag\"], \"episode_transforms\": [], \"domain_prefix\": \"ORACLE.run1_\"}, {\"labels\": [\"3123D52\", \"3123D65\", \"3123D79\", \"3123D80\", \"3123D54\", \"3123D70\", \"3123D7B\", \"3123D89\", \"3123D58\", \"3123D76\", \"3123D7D\", \"3123EFE\", \"3123D64\", \"3123D78\", \"3123D7E\", \"3124E4A\"], \"domains\": [32, 38, 8, 44, 14, 50, 20, 26], \"num_examples_per_domain_per_label\": 2000, \"pickle_path\": \"/mnt/wd500GB/CSC500/csc500-main/datasets/oracle.Run2_framed_2000Examples_stratified_ds.2022A.pkl\", \"source_or_target_dataset\": \"target\", \"x_transforms\": [\"unit_mag\"], \"episode_transforms\": [], \"domain_prefix\": \"ORACLE.run2_\"}], \"domains_source\": [\"ORACLE.run1_32\", \"ORACLE.run1_38\", \"ORACLE.run1_8\", \"ORACLE.run1_44\", \"ORACLE.run1_14\", \"ORACLE.run1_50\", \"ORACLE.run1_20\", \"ORACLE.run1_26\"], \"domains_target\": [\"ORACLE.run2_32\", \"ORACLE.run2_38\", \"ORACLE.run2_8\", \"ORACLE.run2_44\", \"ORACLE.run2_14\", \"ORACLE.run2_50\", \"ORACLE.run2_20\", \"ORACLE.run2_26\"]}, \"results\": {\"source_test_label_accuracy\": 0.8973958333333333, \"source_test_label_loss\": 0.2930358946323395, \"target_test_label_accuracy\": 0.8785481770833333, \"target_test_label_loss\": 0.3817320764064789, \"source_val_label_accuracy\": 0.8971354166666666, \"source_val_label_loss\": 0.29080459475517273, \"target_val_label_accuracy\": 0.8736653645833333, \"target_val_label_loss\": 0.38284996151924133, \"total_epochs_trained\": 17, \"total_experiment_time_secs\": 3205.620616197586, \"confusion\": {\"ORACLE.run1_14\": {\"15\": {\"15\": 240}, \"3\": {\"3\": 236, \"2\": 2, \"5\": 1, \"14\": 1}, \"6\": {\"6\": 201, \"13\": 36, \"2\": 1, \"14\": 2}, \"1\": {\"1\": 239, \"5\": 1}, \"8\": {\"8\": 240}, \"10\": {\"10\": 240}, \"9\": {\"9\": 240}, \"13\": {\"13\": 181, \"5\": 1, \"6\": 45, \"2\": 10, \"14\": 3}, \"12\": {\"12\": 240}, \"5\": {\"5\": 217, \"4\": 9, \"3\": 6, \"2\": 6, \"1\": 2}, \"0\": {\"0\": 239, \"11\": 1}, \"2\": {\"2\": 166, \"3\": 6, \"5\": 17, \"14\": 43, \"13\": 2, \"6\": 6}, \"11\": {\"11\": 232, \"0\": 1, \"9\": 7}, \"14\": {\"14\": 214, \"2\": 23, \"6\": 1, \"13\": 2}, \"7\": {\"7\": 240}, \"4\": {\"4\": 240}}, \"ORACLE.run1_20\": {\"3\": {\"3\": 185, \"12\": 28, \"9\": 22, \"1\": 3, \"2\": 2}, \"15\": {\"15\": 222, \"0\": 3, \"5\": 9, \"1\": 5, \"13\": 1}, \"8\": {\"8\": 237, \"4\": 2, \"7\": 1}, \"4\": {\"4\": 240}, \"14\": {\"14\": 234, \"6\": 6}, \"0\": {\"5\": 17, \"0\": 216, \"8\": 1, \"15\": 6}, \"7\": {\"7\": 231, \"3\": 1, \"2\": 7, \"9\": 1}, \"6\": {\"6\": 237, \"14\": 3}, \"10\": {\"10\": 240}, \"5\": {\"5\": 221, \"0\": 12, \"15\": 4, \"1\": 2, \"12\": 1}, \"2\": {\"2\": 189, \"12\": 7, \"7\": 9, \"9\": 26, \"1\": 2, \"13\": 1, \"3\": 6}, \"12\": {\"12\": 181, \"1\": 36, \"3\": 18, \"2\": 4, \"9\": 1}, \"9\": {\"9\": 203, \"2\": 24, \"12\": 7, \"3\": 6}, \"1\": {\"1\": 214, \"5\": 3, \"12\": 21, \"15\": 2}, \"11\": {\"11\": 240}, \"13\": {\"13\": 239, \"15\": 1}}, \"ORACLE.run1_38\": {\"5\": {\"8\": 50, \"5\": 154, \"7\": 20, \"15\": 5, \"13\": 3, \"10\": 2, \"9\": 5, \"6\": 1}, \"8\": {\"8\": 199, \"5\": 19, \"0\": 11, \"7\": 6, \"10\": 2, \"13\": 2, \"15\": 1}, \"11\": {\"11\": 236, \"10\": 2, \"14\": 2}, \"1\": {\"1\": 234, \"15\": 6}, \"10\": {\"10\": 222, \"7\": 1, \"13\": 15, \"0\": 1, \"14\": 1}, \"15\": {\"15\": 221, \"1\": 9, \"13\": 5, \"2\": 1, \"8\": 3, \"5\": 1}, \"3\": {\"3\": 239, \"0\": 1}, \"7\": {\"7\": 224, \"8\": 4, \"0\": 7, \"5\": 5}, \"4\": {\"4\": 240}, \"14\": {\"14\": 232, \"2\": 8}, \"9\": {\"9\": 237, \"6\": 3}, \"12\": {\"12\": 239, \"4\": 1}, \"6\": {\"6\": 240}, \"2\": {\"2\": 233, \"13\": 3, \"14\": 4}, \"0\": {\"8\": 20, \"0\": 201, \"7\": 8, \"3\": 6, \"10\": 2, \"13\": 1, \"5\": 2}, \"13\": {\"13\": 226, \"15\": 6, \"10\": 5, \"2\": 2, \"8\": 1}}, \"ORACLE.run1_8\": {\"9\": {\"9\": 240}, \"10\": {\"10\": 222, \"14\": 6, \"13\": 9, \"4\": 3}, \"13\": {\"13\": 178, \"10\": 24, \"0\": 12, \"4\": 20, \"6\": 5, \"14\": 1}, \"0\": {\"0\": 226, \"4\": 2, \"7\": 4, \"13\": 6, \"10\": 2}, \"1\": {\"1\": 238, \"11\": 1, \"14\": 1}, \"15\": {\"15\": 226, \"12\": 14}, \"5\": {\"5\": 228, \"1\": 3, \"10\": 5, \"14\": 4}, \"3\": {\"3\": 240}, \"6\": {\"6\": 216, \"7\": 16, \"13\": 3, \"4\": 5}, \"11\": {\"11\": 240}, \"8\": {\"8\": 240}, \"4\": {\"4\": 205, \"13\": 19, \"6\": 8, \"14\": 7, \"0\": 1}, \"12\": {\"12\": 188, \"8\": 2, \"15\": 45, \"3\": 4, \"2\": 1}, \"14\": {\"14\": 215, \"10\": 11, \"1\": 7, \"4\": 7}, \"2\": {\"2\": 234, \"7\": 4, \"3\": 2}, \"7\": {\"7\": 231, \"6\": 9}}, \"ORACLE.run1_50\": {\"7\": {\"7\": 226, \"6\": 5, \"13\": 3, \"5\": 6}, \"3\": {\"3\": 239, \"8\": 1}, \"8\": {\"8\": 233, \"10\": 7}, \"2\": {\"2\": 230, \"0\": 10}, \"14\": {\"14\": 240}, \"4\": {\"15\": 20, \"4\": 177, \"5\": 37, \"1\": 4, \"13\": 1, \"7\": 1}, \"6\": {\"6\": 222, \"15\": 3, \"1\": 2, \"13\": 11, \"5\": 1, \"7\": 1}, \"15\": {\"15\": 216, \"4\": 7, \"6\": 3, \"1\": 10, \"11\": 4}, \"10\": {\"10\": 234, \"0\": 4, \"13\": 2}, \"11\": {\"11\": 232, \"15\": 3, \"12\": 5}, \"13\": {\"13\": 232, \"5\": 2, \"6\": 2, \"10\": 2, \"7\": 2}, \"9\": {\"9\": 230, \"12\": 4, \"11\": 6}, \"0\": {\"0\": 216, \"2\": 17, \"10\": 7}, \"1\": {\"15\": 17, \"1\": 207, \"4\": 5, \"0\": 2, \"5\": 4, \"6\": 5}, \"12\": {\"12\": 237, \"9\": 3}, \"5\": {\"5\": 177, \"4\": 32, \"7\": 10, \"1\": 5, \"13\": 16}}, \"ORACLE.run1_32\": {\"8\": {\"13\": 2, \"8\": 225, \"0\": 10, \"14\": 1, \"5\": 2}, \"14\": {\"14\": 194, \"11\": 20, \"0\": 15, \"7\": 8, \"8\": 2, \"5\": 1}, \"2\": {\"2\": 215, \"4\": 25}, \"0\": {\"0\": 219, \"14\": 6, \"8\": 15}, \"1\": {\"1\": 240}, \"10\": {\"10\": 240}, \"11\": {\"11\": 235, \"14\": 5}, \"5\": {\"5\": 147, \"7\": 63, \"3\": 7, \"13\": 8, \"8\": 5, \"4\": 8, \"2\": 1, \"14\": 1}, \"15\": {\"15\": 240}, \"3\": {\"3\": 236, \"13\": 3, \"11\": 1}, \"12\": {\"12\": 240}, \"7\": {\"7\": 202, \"5\": 22, \"4\": 14, \"11\": 1, \"13\": 1}, \"13\": {\"13\": 213, \"14\": 2, \"3\": 10, \"4\": 10, \"7\": 2, \"5\": 3}, \"6\": {\"6\": 240}, \"4\": {\"2\": 23, \"4\": 196, \"5\": 5, \"13\": 11, \"7\": 5}, \"9\": {\"9\": 240}}, \"ORACLE.run1_26\": {\"4\": {\"14\": 16, \"4\": 190, \"7\": 11, \"0\": 8, \"8\": 14, \"10\": 1}, \"12\": {\"12\": 240}, \"10\": {\"14\": 9, \"10\": 148, \"0\": 52, \"6\": 2, \"8\": 25, \"4\": 3, \"9\": 1}, \"0\": {\"0\": 106, \"8\": 32, \"10\": 50, \"4\": 22, \"14\": 26, \"6\": 1, \"7\": 3}, \"13\": {\"13\": 195, \"5\": 36, \"2\": 6, \"9\": 2, \"15\": 1}, \"9\": {\"9\": 224, \"15\": 12, \"6\": 4}, \"3\": {\"3\": 197, \"2\": 32, \"7\": 11}, \"2\": {\"5\": 22, \"3\": 67, \"2\": 120, \"7\": 25, \"15\": 3, \"13\": 2, \"4\": 1}, \"5\": {\"5\": 214, \"13\": 17, \"15\": 2, \"2\": 5, \"7\": 1, \"9\": 1}, \"14\": {\"4\": 18, \"14\": 160, \"10\": 19, \"0\": 28, \"1\": 9, \"8\": 5, \"6\": 1}, \"8\": {\"4\": 20, \"7\": 22, \"8\": 160, \"0\": 13, \"15\": 3, \"10\": 20, \"14\": 2}, \"7\": {\"2\": 15, \"7\": 206, \"3\": 7, \"8\": 6, \"4\": 6}, \"6\": {\"6\": 228, \"15\": 10, \"9\": 2}, \"11\": {\"11\": 240}, \"15\": {\"15\": 198, \"9\": 18, \"13\": 1, \"8\": 9, \"2\": 3, \"6\": 5, \"10\": 4, \"5\": 2}, \"1\": {\"1\": 225, \"14\": 8, \"8\": 1, \"4\": 5, \"7\": 1}}, \"ORACLE.run1_44\": {\"12\": {\"12\": 232, \"1\": 8}, \"7\": {\"9\": 33, \"2\": 21, \"7\": 184, \"6\": 2}, \"5\": {\"5\": 215, \"14\": 8, \"15\": 6, \"0\": 9, \"8\": 1, \"4\": 1}, \"15\": {\"15\": 213, \"14\": 5, \"5\": 7, \"0\": 11, \"8\": 4}, \"8\": {\"0\": 71, \"8\": 160, \"15\": 9}, \"2\": {\"2\": 210, \"7\": 23, \"1\": 5, \"10\": 2}, \"13\": {\"13\": 192, \"6\": 30, \"9\": 18}, \"4\": {\"4\": 187, \"14\": 52, \"5\": 1}, \"0\": {\"0\": 171, \"8\": 58, \"15\": 7, \"5\": 4}, \"6\": {\"6\": 185, \"9\": 16, \"13\": 36, \"7\": 3}, \"9\": {\"13\": 22, \"9\": 166, \"7\": 45, \"6\": 7}, \"11\": {\"11\": 235, \"13\": 5}, \"10\": {\"1\": 14, \"10\": 216, \"12\": 4, \"7\": 1, \"2\": 5}, \"14\": {\"14\": 167, \"4\": 61, \"15\": 9, \"5\": 3}, \"1\": {\"1\": 196, \"3\": 6, \"10\": 10, \"12\": 25, \"2\": 3}, \"3\": {\"3\": 232, \"2\": 1, \"1\": 7}}, \"ORACLE.run2_14\": {\"15\": {\"15\": 240}, \"3\": {\"3\": 224, \"14\": 2, \"5\": 10, \"4\": 3, \"2\": 1}, \"6\": {\"6\": 218, \"13\": 22}, \"1\": {\"1\": 239, \"5\": 1}, \"8\": {\"8\": 240}, \"10\": {\"10\": 240}, \"9\": {\"9\": 240}, \"13\": {\"13\": 196, \"6\": 43, \"2\": 1}, \"12\": {\"12\": 149, \"9\": 27, \"11\": 40, \"8\": 7, \"0\": 16, \"10\": 1}, \"5\": {\"5\": 215, \"2\": 9, \"3\": 7, \"1\": 5, \"4\": 4}, \"0\": {\"0\": 240}, \"2\": {\"14\": 56, \"2\": 129, \"5\": 38, \"3\": 11, \"6\": 2, \"13\": 3, \"4\": 1}, \"11\": {\"11\": 240}, \"14\": {\"2\": 30, \"14\": 208, \"3\": 2}, \"7\": {\"7\": 240}, \"4\": {\"4\": 234, \"5\": 6}}, \"ORACLE.run2_20\": {\"3\": {\"2\": 29, \"9\": 25, \"3\": 178, \"7\": 5, \"12\": 1, \"4\": 2}, \"15\": {\"15\": 192, \"0\": 2, \"5\": 8, \"13\": 24, \"12\": 7, \"2\": 2, \"1\": 5}, \"8\": {\"4\": 6, \"8\": 210, \"14\": 19, \"7\": 3, \"6\": 2}, \"4\": {\"3\": 1, \"4\": 239}, \"14\": {\"14\": 223, \"6\": 12, \"8\": 5}, \"0\": {\"0\": 229, \"15\": 5, \"5\": 6}, \"7\": {\"7\": 236, \"5\": 2, \"3\": 1, \"8\": 1}, \"6\": {\"6\": 234, \"14\": 6}, \"10\": {\"10\": 240}, \"5\": {\"5\": 194, \"7\": 7, \"15\": 10, \"0\": 11, \"3\": 2, \"2\": 9, \"12\": 5, \"4\": 2}, \"2\": {\"2\": 193, \"5\": 6, \"12\": 11, \"9\": 8, \"3\": 21, \"15\": 1}, \"12\": {\"2\": 11, \"12\": 181, \"1\": 36, \"9\": 6, \"5\": 4, \"15\": 2}, \"9\": {\"9\": 202, \"2\": 14, \"3\": 14, \"12\": 7, \"1\": 3}, \"1\": {\"12\": 55, \"1\": 179, \"9\": 6}, \"11\": {\"11\": 240}, \"13\": {\"13\": 210, \"15\": 28, \"2\": 1, \"1\": 1}}, \"ORACLE.run2_38\": {\"5\": {\"5\": 158, \"14\": 1, \"7\": 21, \"8\": 52, \"15\": 8}, \"8\": {\"8\": 161, \"5\": 63, \"15\": 3, \"7\": 12, \"13\": 1}, \"11\": {\"11\": 238, \"3\": 2}, \"1\": {\"1\": 232, \"15\": 8}, \"10\": {\"7\": 45, \"10\": 189, \"5\": 3, \"3\": 1, \"13\": 1, \"8\": 1}, \"15\": {\"5\": 24, \"15\": 180, \"1\": 16, \"8\": 12, \"0\": 8}, \"3\": {\"0\": 22, \"3\": 166, \"10\": 5, \"13\": 42, \"8\": 3, \"9\": 1, \"7\": 1}, \"7\": {\"7\": 174, \"0\": 4, \"5\": 15, \"8\": 15, \"10\": 32}, \"4\": {\"4\": 240}, \"14\": {\"14\": 175, \"7\": 3, \"8\": 4, \"2\": 49, \"12\": 6, \"5\": 3}, \"9\": {\"9\": 234, \"6\": 6}, \"12\": {\"12\": 240}, \"6\": {\"6\": 229, \"9\": 11}, \"2\": {\"2\": 233, \"14\": 7}, \"0\": {\"0\": 239, \"7\": 1}, \"13\": {\"13\": 167, \"8\": 13, \"3\": 47, \"14\": 1, \"0\": 3, \"7\": 4, \"2\": 1, \"10\": 4}}, \"ORACLE.run2_8\": {\"9\": {\"9\": 240}, \"10\": {\"10\": 221, \"5\": 10, \"14\": 1, \"0\": 7, \"13\": 1}, \"13\": {\"13\": 226, \"1\": 4, \"14\": 7, \"10\": 2, \"6\": 1}, \"0\": {\"0\": 225, \"14\": 9, \"10\": 6}, \"1\": {\"1\": 237, \"13\": 3}, \"15\": {\"15\": 205, \"12\": 17, \"8\": 16, \"11\": 2}, \"5\": {\"5\": 223, \"10\": 17}, \"3\": {\"3\": 238, \"12\": 2}, \"6\": {\"6\": 179, \"7\": 16, \"4\": 45}, \"11\": {\"11\": 200, \"8\": 29, \"15\": 5, \"12\": 6}, \"8\": {\"8\": 237, \"13\": 1, \"15\": 2}, \"4\": {\"4\": 138, \"6\": 45, \"7\": 56, \"2\": 1}, \"12\": {\"12\": 234, \"15\": 6}, \"14\": {\"14\": 222, \"0\": 14, \"13\": 4}, \"2\": {\"2\": 232, \"4\": 2, \"7\": 6}, \"7\": {\"7\": 165, \"4\": 59, \"6\": 15, \"2\": 1}}, \"ORACLE.run2_50\": {\"7\": {\"7\": 212, \"13\": 18, \"5\": 8, \"4\": 2}, \"3\": {\"3\": 240}, \"8\": {\"8\": 240}, \"2\": {\"2\": 235, \"0\": 5}, \"14\": {\"14\": 240}, \"4\": {\"5\": 66, \"4\": 160, \"6\": 9, \"1\": 3, \"7\": 2}, \"6\": {\"6\": 225, \"15\": 1, \"5\": 7, \"1\": 6, \"4\": 1}, \"15\": {\"15\": 236, \"1\": 3, \"4\": 1}, \"10\": {\"10\": 204, \"13\": 35, \"0\": 1}, \"11\": {\"11\": 233, \"15\": 3, \"9\": 2, \"12\": 1, \"1\": 1}, \"13\": {\"13\": 206, \"7\": 11, \"10\": 22, \"5\": 1}, \"9\": {\"9\": 240}, \"0\": {\"0\": 229, \"2\": 8, \"10\": 3}, \"1\": {\"1\": 229, \"15\": 2, \"4\": 6, \"6\": 1, \"5\": 2}, \"12\": {\"12\": 236, \"11\": 4}, \"5\": {\"6\": 8, \"5\": 141, \"4\": 70, \"7\": 13, \"13\": 6, \"10\": 2}}, \"ORACLE.run2_32\": {\"8\": {\"8\": 214, \"0\": 15, \"4\": 1, \"11\": 1, \"5\": 3, \"3\": 4, \"13\": 1, \"14\": 1}, \"14\": {\"14\": 224, \"5\": 5, \"0\": 10, \"11\": 1}, \"2\": {\"2\": 230, \"7\": 3, \"5\": 4, \"4\": 3}, \"0\": {\"0\": 210, \"8\": 14, \"11\": 10, \"5\": 2, \"4\": 2, \"14\": 2}, \"1\": {\"1\": 240}, \"10\": {\"10\": 240}, \"11\": {\"11\": 208, \"8\": 1, \"0\": 8, \"14\": 1, \"7\": 14, \"4\": 3, \"13\": 4, \"2\": 1}, \"5\": {\"5\": 190, \"4\": 11, \"0\": 4, \"8\": 18, \"2\": 6, \"14\": 4, \"3\": 1, \"7\": 3, \"11\": 3}, \"15\": {\"15\": 240}, \"3\": {\"3\": 237, \"8\": 1, \"13\": 1, \"11\": 1}, \"12\": {\"12\": 240}, \"7\": {\"11\": 13, \"7\": 201, \"4\": 14, \"5\": 8, \"13\": 2, \"0\": 1, \"2\": 1}, \"13\": {\"4\": 37, \"13\": 201, \"3\": 1, \"7\": 1}, \"6\": {\"6\": 240}, \"4\": {\"4\": 196, \"7\": 9, \"13\": 30, \"5\": 2, \"8\": 2, \"0\": 1}, \"9\": {\"9\": 236, \"2\": 3, \"12\": 1}}, \"ORACLE.run2_26\": {\"4\": {\"4\": 210, \"10\": 1, \"0\": 6, \"14\": 2, \"7\": 5, \"3\": 3, \"8\": 8, \"2\": 4, \"15\": 1}, \"12\": {\"12\": 240}, \"10\": {\"10\": 113, \"6\": 14, \"0\": 68, \"8\": 21, \"4\": 7, \"9\": 1, \"14\": 15, \"15\": 1}, \"0\": {\"10\": 32, \"0\": 143, \"14\": 36, \"15\": 1, \"4\": 12, \"8\": 16}, \"13\": {\"13\": 215, \"5\": 21, \"9\": 4}, \"9\": {\"9\": 223, \"13\": 7, \"8\": 1, \"6\": 8, \"15\": 1}, \"3\": {\"3\": 213, \"7\": 8, \"2\": 17, \"4\": 2}, \"2\": {\"2\": 120, \"7\": 77, \"15\": 12, \"3\": 14, \"4\": 8, \"5\": 2, \"8\": 6, \"13\": 1}, \"5\": {\"13\": 55, \"9\": 2, \"5\": 140, \"8\": 1, \"7\": 12, \"2\": 25, \"3\": 4, \"6\": 1}, \"14\": {\"14\": 157, \"10\": 21, \"0\": 30, \"4\": 6, \"8\": 13, \"1\": 13}, \"8\": {\"8\": 174, \"10\": 9, \"14\": 10, \"7\": 14, \"0\": 12, \"5\": 3, \"2\": 6, \"4\": 11, \"15\": 1}, \"7\": {\"7\": 126, \"2\": 81, \"4\": 11, \"15\": 7, \"3\": 10, \"5\": 1, \"8\": 4}, \"6\": {\"6\": 235, \"9\": 2, \"13\": 1, \"10\": 2}, \"11\": {\"11\": 240}, \"15\": {\"15\": 214, \"2\": 9, \"7\": 13, \"3\": 4}, \"1\": {\"1\": 227, \"14\": 11, \"10\": 1, \"4\": 1}}, \"ORACLE.run2_44\": {\"12\": {\"12\": 204, \"1\": 31, \"3\": 5}, \"7\": {\"9\": 66, \"7\": 161, \"2\": 12, \"6\": 1}, \"5\": {\"5\": 229, \"14\": 11}, \"15\": {\"15\": 210, \"14\": 20, \"4\": 6, \"0\": 2, \"8\": 2}, \"8\": {\"0\": 94, \"8\": 145, \"5\": 1}, \"2\": {\"2\": 206, \"9\": 23, \"7\": 11}, \"13\": {\"13\": 235, \"4\": 4, \"6\": 1}, \"4\": {\"4\": 227, \"14\": 11, \"15\": 1, \"13\": 1}, \"0\": {\"8\": 95, \"0\": 145}, \"6\": {\"6\": 233, \"7\": 1, \"9\": 3, \"13\": 3}, \"9\": {\"9\": 150, \"7\": 66, \"2\": 17, \"6\": 7}, \"11\": {\"11\": 238, \"13\": 2}, \"10\": {\"10\": 240}, \"14\": {\"14\": 198, \"15\": 23, \"5\": 10, \"4\": 9}, \"1\": {\"1\": 199, \"12\": 32, \"3\": 9}, \"3\": {\"3\": 227, \"1\": 5, \"12\": 8}}}, \"per_domain_accuracy\": {\"ORACLE.run1_14\": {\"accuracy\": 0.9388020833333334, \"source?\": true}, \"ORACLE.run1_20\": {\"accuracy\": 0.9190104166666667, \"source?\": true}, \"ORACLE.run1_38\": {\"accuracy\": 0.9315104166666667, \"source?\": true}, \"ORACLE.run1_8\": {\"accuracy\": 0.92890625, \"source?\": true}, \"ORACLE.run1_50\": {\"accuracy\": 0.9239583333333333, \"source?\": true}, \"ORACLE.run1_32\": {\"accuracy\": 0.9171875, \"source?\": true}, \"ORACLE.run1_26\": {\"accuracy\": 0.79453125, \"source?\": true}, \"ORACLE.run1_44\": {\"accuracy\": 0.8231770833333333, \"source?\": true}, \"ORACLE.run2_14\": {\"accuracy\": 0.909375, \"source?\": false}, \"ORACLE.run2_20\": {\"accuracy\": 0.8802083333333334, \"source?\": false}, \"ORACLE.run2_38\": {\"accuracy\": 0.84765625, \"source?\": false}, \"ORACLE.run2_8\": {\"accuracy\": 0.8911458333333333, \"source?\": false}, \"ORACLE.run2_50\": {\"accuracy\": 0.9130208333333333, \"source?\": false}, \"ORACLE.run2_32\": {\"accuracy\": 0.9236979166666667, \"source?\": false}, \"ORACLE.run2_26\": {\"accuracy\": 0.7786458333333334, \"source?\": false}, \"ORACLE.run2_44\": {\"accuracy\": 0.8455729166666667, \"source?\": false}}}, \"history\": {\"epoch_indices\": [1, 2, 3, 4, 5, 6, 7, 8, 9, 10, 11, 12, 13, 14, 15, 16, 17], \"train_label_loss\": [0.7745762394364214, 1.555972225703521, 0.5242566464197201, 0.4498082406630385, 0.4008278450013937, 0.3763983699698223, 0.34283826231431225, 0.3310116351719314, 0.3103214244488516, 0.30015286311182926, 0.28379545757807567, 0.28447917552839497, 0.26027400788904437, 0.24753485506679723, 0.24469011423020026, 0.23126478499117573, 0.22499528440620495], \"source_val_label_loss\": [87.59919738769531, 0.5597346425056458, 0.5639032125473022, 0.4939727485179901, 0.4197053909301758, 0.37322455644607544, 0.40016672015190125, 0.3528391420841217, 0.3240455687046051, 0.30623286962509155, 0.3137650787830353, 0.3113485872745514, 0.29080459475517273, 0.2925695478916168, 0.2990790009498596, 0.3259509801864624, 0.27729105949401855], \"target_val_label_loss\": [120.34441375732422, 0.6414702534675598, 0.624076783657074, 0.5528409481048584, 0.47686833143234253, 0.4349290430545807, 0.4652237892150879, 0.41822549700737, 0.410331130027771, 0.3922470211982727, 0.39296403527259827, 0.39420226216316223, 0.38284996151924133, 0.40028858184814453, 0.3944326341152191, 0.432851105928421, 0.39429858326911926], \"source_val_acc_label\": [0.67451171875, 0.80146484375, 0.7953450520833333, 0.8258463541666666, 0.85322265625, 0.8729817708333333, 0.8563802083333333, 0.87822265625, 0.8849609375, 0.8908528645833333, 0.88955078125, 0.8900390625, 0.8971354166666666, 0.8955403645833333, 0.8925455729166667, 0.8824869791666666, 0.9013997395833333], \"target_val_acc_label\": [0.6616861979166667, 0.7942708333333334, 0.7841796875, 0.8120768229166667, 0.8428059895833333, 0.8588216145833333, 0.8442057291666667, 0.8648763020833333, 0.8689453125, 0.8717122395833333, 0.8718098958333333, 0.8719075520833334, 0.8736653645833333, 0.8735026041666667, 0.8719075520833334, 0.8597005208333334, 0.8763020833333334]}, \"dataset_metrics\": {\"source\": {\"train\": {\"n_unique_x\": 179200, \"n_unique_y\": 16, \"n_batch/episode\": 6720}, \"val\": {\"n_unique_x\": 38400, \"n_unique_y\": 16, \"n_batch/episode\": 960}, \"test\": {\"n_unique_x\": 38400, \"n_unique_y\": 16, \"n_batch/episode\": 960}}, \"target\": {\"train\": {\"n_unique_x\": 179200, \"n_unique_y\": 16, \"n_batch/episode\": 6720}, \"val\": {\"n_unique_x\": 38400, \"n_unique_y\": 16, \"n_batch/episode\": 960}, \"test\": {\"n_unique_x\": 38400, \"n_unique_y\": 16, \"n_batch/episode\": 960}}}}'"
      ]
     },
     "execution_count": 29,
     "metadata": {},
     "output_type": "execute_result"
    }
   ],
   "source": [
    "json.dumps(experiment)"
   ]
  }
 ],
 "metadata": {
  "celltoolbar": "Tags",
  "kernelspec": {
   "display_name": "Python 3 (ipykernel)",
   "language": "python",
   "name": "python3"
  },
  "language_info": {
   "codemirror_mode": {
    "name": "ipython",
    "version": 3
   },
   "file_extension": ".py",
   "mimetype": "text/x-python",
   "name": "python",
   "nbconvert_exporter": "python",
   "pygments_lexer": "ipython3",
   "version": "3.8.10"
  },
  "papermill": {
   "default_parameters": {},
   "duration": 3308.138304,
   "end_time": "2022-03-07T02:57:19.981700",
   "environment_variables": {},
   "exception": null,
   "input_path": "/mnt/wd500GB/CSC500/csc500-main/csc500-notebooks/templates/tl_ptn_template.ipynb",
   "output_path": "trial.ipynb",
   "parameters": {
    "parameters": {
     "BEST_MODEL_PATH": "./best_model.pth",
     "NUM_LOGS_PER_EPOCH": 10,
     "criteria_for_best": "target_loss",
     "dataset_seed": 1337,
     "datasets": [
      {
       "domain_prefix": "ORACLE.run1_",
       "domains": [
        32,
        38,
        8,
        44,
        14,
        50,
        20,
        26
       ],
       "episode_transforms": [],
       "labels": [
        "3123D52",
        "3123D65",
        "3123D79",
        "3123D80",
        "3123D54",
        "3123D70",
        "3123D7B",
        "3123D89",
        "3123D58",
        "3123D76",
        "3123D7D",
        "3123EFE",
        "3123D64",
        "3123D78",
        "3123D7E",
        "3124E4A"
       ],
       "num_examples_per_domain_per_label": 2000,
       "pickle_path": "/mnt/wd500GB/CSC500/csc500-main/datasets/oracle.Run1_framed_2000Examples_stratified_ds.2022A.pkl",
       "source_or_target_dataset": "source",
       "x_transforms": [
        "unit_mag"
       ]
      },
      {
       "domain_prefix": "ORACLE.run2_",
       "domains": [
        32,
        38,
        8,
        44,
        14,
        50,
        20,
        26
       ],
       "episode_transforms": [],
       "labels": [
        "3123D52",
        "3123D65",
        "3123D79",
        "3123D80",
        "3123D54",
        "3123D70",
        "3123D7B",
        "3123D89",
        "3123D58",
        "3123D76",
        "3123D7D",
        "3123EFE",
        "3123D64",
        "3123D78",
        "3123D7E",
        "3124E4A"
       ],
       "num_examples_per_domain_per_label": 2000,
       "pickle_path": "/mnt/wd500GB/CSC500/csc500-main/datasets/oracle.Run2_framed_2000Examples_stratified_ds.2022A.pkl",
       "source_or_target_dataset": "target",
       "x_transforms": [
        "unit_mag"
       ]
      }
     ],
     "device": "cuda",
     "experiment_name": "tl_1_oracle.run1-oracle.run2",
     "lr": 0.001,
     "n_epoch": 50,
     "n_query": 2,
     "n_shot": 3,
     "n_way": 16,
     "patience": 3,
     "seed": 1337,
     "test_k_factor": 2,
     "torch_default_dtype": "torch.float32",
     "train_k_factor": 3,
     "val_k_factor": 2,
     "x_net": [
      {
       "class": "nnReshape",
       "kargs": {
        "shape": [
         -1,
         1,
         2,
         256
        ]
       }
      },
      {
       "class": "Conv2d",
       "kargs": {
        "bias": false,
        "in_channels": 1,
        "kernel_size": [
         1,
         7
        ],
        "out_channels": 256,
        "padding": [
         0,
         3
        ]
       }
      },
      {
       "class": "ReLU",
       "kargs": {
        "inplace": true
       }
      },
      {
       "class": "BatchNorm2d",
       "kargs": {
        "num_features": 256
       }
      },
      {
       "class": "Conv2d",
       "kargs": {
        "bias": true,
        "in_channels": 256,
        "kernel_size": [
         2,
         7
        ],
        "out_channels": 80,
        "padding": [
         0,
         3
        ]
       }
      },
      {
       "class": "ReLU",
       "kargs": {
        "inplace": true
       }
      },
      {
       "class": "BatchNorm2d",
       "kargs": {
        "num_features": 80
       }
      },
      {
       "class": "Flatten",
       "kargs": {}
      },
      {
       "class": "Linear",
       "kargs": {
        "in_features": 20480,
        "out_features": 256
       }
      },
      {
       "class": "ReLU",
       "kargs": {
        "inplace": true
       }
      },
      {
       "class": "BatchNorm1d",
       "kargs": {
        "num_features": 256
       }
      },
      {
       "class": "Linear",
       "kargs": {
        "in_features": 256,
        "out_features": 256
       }
      }
     ]
    }
   },
   "start_time": "2022-03-07T02:02:11.843396",
   "version": "2.3.4"
  }
 },
 "nbformat": 4,
 "nbformat_minor": 5
}