{
 "cells": [
  {
   "cell_type": "markdown",
   "id": "9fea5f46",
   "metadata": {
    "papermill": {
     "duration": 0.017348,
     "end_time": "2022-03-10T11:53:19.829896",
     "exception": false,
     "start_time": "2022-03-10T11:53:19.812548",
     "status": "completed"
    },
    "tags": []
   },
   "source": [
    "# Transfer Learning Template"
   ]
  },
  {
   "cell_type": "code",
   "execution_count": 1,
   "id": "0902182a",
   "metadata": {
    "execution": {
     "iopub.execute_input": "2022-03-10T11:53:19.868856Z",
     "iopub.status.busy": "2022-03-10T11:53:19.866284Z",
     "iopub.status.idle": "2022-03-10T11:53:21.026491Z",
     "shell.execute_reply": "2022-03-10T11:53:21.026713Z"
    },
    "papermill": {
     "duration": 1.184537,
     "end_time": "2022-03-10T11:53:21.026844",
     "exception": false,
     "start_time": "2022-03-10T11:53:19.842307",
     "status": "completed"
    },
    "tags": []
   },
   "outputs": [],
   "source": [
    "%load_ext autoreload\n",
    "%autoreload 2\n",
    "%matplotlib inline\n",
    "\n",
    "    \n",
    "import os, json, sys, time, random\n",
    "import numpy as np\n",
    "import torch\n",
    "from torch.optim import Adam\n",
    "from  easydict import EasyDict\n",
    "import matplotlib.pyplot as plt\n",
    "\n",
    "from steves_models.steves_ptn import Steves_Prototypical_Network\n",
    "\n",
    "from steves_utils.lazy_iterable_wrapper import Lazy_Iterable_Wrapper\n",
    "from steves_utils.iterable_aggregator import Iterable_Aggregator\n",
    "from steves_utils.ptn_train_eval_test_jig import  PTN_Train_Eval_Test_Jig\n",
    "from steves_utils.torch_sequential_builder import build_sequential\n",
    "from steves_utils.torch_utils import get_dataset_metrics, ptn_confusion_by_domain_over_dataloader\n",
    "from steves_utils.utils_v2 import (per_domain_accuracy_from_confusion, get_datasets_base_path)\n",
    "from steves_utils.PTN.utils import independent_accuracy_assesment\n",
    "\n",
    "from torch.utils.data import DataLoader\n",
    "\n",
    "from steves_utils.stratified_dataset.episodic_accessor import Episodic_Accessor_Factory\n",
    "\n",
    "from steves_utils.ptn_do_report import (\n",
    "    get_loss_curve,\n",
    "    get_results_table,\n",
    "    get_parameters_table,\n",
    "    get_domain_accuracies,\n",
    ")\n",
    "\n",
    "from steves_utils.transforms import get_chained_transform"
   ]
  },
  {
   "cell_type": "markdown",
   "id": "41c840b4",
   "metadata": {
    "papermill": {
     "duration": 0.012619,
     "end_time": "2022-03-10T11:53:21.052983",
     "exception": false,
     "start_time": "2022-03-10T11:53:21.040364",
     "status": "completed"
    },
    "tags": []
   },
   "source": [
    "# Allowed Parameters\n",
    "These are allowed parameters, not defaults\n",
    "Each of these values need to be present in the injected parameters (the notebook will raise an exception if they are not present)\n",
    "\n",
    "Papermill uses the cell tag \"parameters\" to inject the real parameters below this cell.\n",
    "Enable tags to see what I mean"
   ]
  },
  {
   "cell_type": "code",
   "execution_count": 2,
   "id": "fd44eb83",
   "metadata": {
    "execution": {
     "iopub.execute_input": "2022-03-10T11:53:21.081386Z",
     "iopub.status.busy": "2022-03-10T11:53:21.081128Z",
     "iopub.status.idle": "2022-03-10T11:53:21.093152Z",
     "shell.execute_reply": "2022-03-10T11:53:21.093348Z"
    },
    "papermill": {
     "duration": 0.027789,
     "end_time": "2022-03-10T11:53:21.093421",
     "exception": false,
     "start_time": "2022-03-10T11:53:21.065632",
     "status": "completed"
    },
    "tags": []
   },
   "outputs": [],
   "source": [
    "required_parameters = {\n",
    "    \"experiment_name\",\n",
    "    \"lr\",\n",
    "    \"device\",\n",
    "    \"seed\",\n",
    "    \"dataset_seed\",\n",
    "    \"n_shot\",\n",
    "    \"n_query\",\n",
    "    \"n_way\",\n",
    "    \"train_k_factor\",\n",
    "    \"val_k_factor\",\n",
    "    \"test_k_factor\",\n",
    "    \"n_epoch\",\n",
    "    \"patience\",\n",
    "    \"criteria_for_best\",\n",
    "    \"x_net\",\n",
    "    \"datasets\",\n",
    "    \"torch_default_dtype\",\n",
    "    \"NUM_LOGS_PER_EPOCH\",\n",
    "    \"BEST_MODEL_PATH\",\n",
    "}"
   ]
  },
  {
   "cell_type": "code",
   "execution_count": 3,
   "id": "fa3f0049",
   "metadata": {
    "execution": {
     "iopub.execute_input": "2022-03-10T11:53:21.133446Z",
     "iopub.status.busy": "2022-03-10T11:53:21.133039Z",
     "iopub.status.idle": "2022-03-10T11:53:21.145666Z",
     "shell.execute_reply": "2022-03-10T11:53:21.145238Z"
    },
    "papermill": {
     "duration": 0.034504,
     "end_time": "2022-03-10T11:53:21.145766",
     "exception": false,
     "start_time": "2022-03-10T11:53:21.111262",
     "status": "completed"
    },
    "tags": [
     "parameters"
    ]
   },
   "outputs": [],
   "source": [
    "from steves_utils.CORES.utils import (\n",
    "    ALL_NODES,\n",
    "    ALL_NODES_MINIMUM_1000_EXAMPLES,\n",
    "    ALL_DAYS\n",
    ")\n",
    "\n",
    "from steves_utils.ORACLE.utils_v2 import (\n",
    "    ALL_DISTANCES_FEET_NARROWED,\n",
    "    ALL_RUNS,\n",
    "    ALL_SERIAL_NUMBERS,\n",
    ")\n",
    "\n",
    "standalone_parameters = {}\n",
    "standalone_parameters[\"experiment_name\"] = \"STANDALONE PTN\"\n",
    "standalone_parameters[\"lr\"] = 0.001\n",
    "standalone_parameters[\"device\"] = \"cuda\"\n",
    "\n",
    "standalone_parameters[\"seed\"] = 1337\n",
    "standalone_parameters[\"dataset_seed\"] = 1337\n",
    "\n",
    "standalone_parameters[\"n_way\"] = 8\n",
    "standalone_parameters[\"n_shot\"] = 3\n",
    "standalone_parameters[\"n_query\"]  = 2\n",
    "standalone_parameters[\"train_k_factor\"] = 1\n",
    "standalone_parameters[\"val_k_factor\"] = 2\n",
    "standalone_parameters[\"test_k_factor\"] = 2\n",
    "\n",
    "\n",
    "standalone_parameters[\"n_epoch\"] = 50\n",
    "\n",
    "standalone_parameters[\"patience\"] = 10\n",
    "standalone_parameters[\"criteria_for_best\"] = \"source_loss\"\n",
    "\n",
    "standalone_parameters[\"datasets\"] = [\n",
    "    {\n",
    "        \"labels\": ALL_SERIAL_NUMBERS,\n",
    "        \"domains\": ALL_DISTANCES_FEET_NARROWED,\n",
    "        \"num_examples_per_domain_per_label\": 100,\n",
    "        \"pickle_path\": os.path.join(get_datasets_base_path(), \"oracle.Run1_framed_2000Examples_stratified_ds.2022A.pkl\"),\n",
    "        \"source_or_target_dataset\": \"source\",\n",
    "        \"x_transforms\": [\"unit_mag\", \"minus_two\"],\n",
    "        \"episode_transforms\": [],\n",
    "        \"domain_prefix\": \"ORACLE_\"\n",
    "    },\n",
    "    {\n",
    "        \"labels\": ALL_NODES,\n",
    "        \"domains\": ALL_DAYS,\n",
    "        \"num_examples_per_domain_per_label\": 100,\n",
    "        \"pickle_path\": os.path.join(get_datasets_base_path(), \"cores.stratified_ds.2022A.pkl\"),\n",
    "        \"source_or_target_dataset\": \"target\",\n",
    "        \"x_transforms\": [\"unit_power\", \"times_zero\"],\n",
    "        \"episode_transforms\": [],\n",
    "        \"domain_prefix\": \"CORES_\"\n",
    "    }   \n",
    "]\n",
    "\n",
    "standalone_parameters[\"torch_default_dtype\"] = \"torch.float32\" \n",
    "\n",
    "\n",
    "\n",
    "standalone_parameters[\"x_net\"] =     [\n",
    "    {\"class\": \"nnReshape\", \"kargs\": {\"shape\":[-1, 1, 2, 256]}},\n",
    "    {\"class\": \"Conv2d\", \"kargs\": { \"in_channels\":1, \"out_channels\":256, \"kernel_size\":(1,7), \"bias\":False, \"padding\":(0,3), },},\n",
    "    {\"class\": \"ReLU\", \"kargs\": {\"inplace\": True}},\n",
    "    {\"class\": \"BatchNorm2d\", \"kargs\": {\"num_features\":256}},\n",
    "\n",
    "    {\"class\": \"Conv2d\", \"kargs\": { \"in_channels\":256, \"out_channels\":80, \"kernel_size\":(2,7), \"bias\":True, \"padding\":(0,3), },},\n",
    "    {\"class\": \"ReLU\", \"kargs\": {\"inplace\": True}},\n",
    "    {\"class\": \"BatchNorm2d\", \"kargs\": {\"num_features\":80}},\n",
    "    {\"class\": \"Flatten\", \"kargs\": {}},\n",
    "\n",
    "    {\"class\": \"Linear\", \"kargs\": {\"in_features\": 80*256, \"out_features\": 256}}, # 80 units per IQ pair\n",
    "    {\"class\": \"ReLU\", \"kargs\": {\"inplace\": True}},\n",
    "    {\"class\": \"BatchNorm1d\", \"kargs\": {\"num_features\":256}},\n",
    "\n",
    "    {\"class\": \"Linear\", \"kargs\": {\"in_features\": 256, \"out_features\": 256}},\n",
    "]\n",
    "\n",
    "# Parameters relevant to results\n",
    "# These parameters will basically never need to change\n",
    "standalone_parameters[\"NUM_LOGS_PER_EPOCH\"] = 10\n",
    "standalone_parameters[\"BEST_MODEL_PATH\"] = \"./best_model.pth\"\n",
    "\n",
    "\n",
    "\n",
    "\n"
   ]
  },
  {
   "cell_type": "code",
   "execution_count": 4,
   "id": "2f81d9a0",
   "metadata": {
    "execution": {
     "iopub.execute_input": "2022-03-10T11:53:21.184608Z",
     "iopub.status.busy": "2022-03-10T11:53:21.184046Z",
     "iopub.status.idle": "2022-03-10T11:53:21.195917Z",
     "shell.execute_reply": "2022-03-10T11:53:21.196304Z"
    },
    "papermill": {
     "duration": 0.034358,
     "end_time": "2022-03-10T11:53:21.196431",
     "exception": false,
     "start_time": "2022-03-10T11:53:21.162073",
     "status": "completed"
    },
    "tags": [
     "injected-parameters"
    ]
   },
   "outputs": [],
   "source": [
    "# Parameters\n",
    "parameters = {\n",
    "    \"experiment_name\": \"tl_1_oracle.run1-oracle.run2\",\n",
    "    \"device\": \"cuda\",\n",
    "    \"lr\": 0.001,\n",
    "    \"seed\": 1337,\n",
    "    \"dataset_seed\": 1337,\n",
    "    \"n_shot\": 3,\n",
    "    \"n_query\": 2,\n",
    "    \"train_k_factor\": 3,\n",
    "    \"val_k_factor\": 2,\n",
    "    \"test_k_factor\": 2,\n",
    "    \"torch_default_dtype\": \"torch.float32\",\n",
    "    \"n_epoch\": 50,\n",
    "    \"patience\": 3,\n",
    "    \"criteria_for_best\": \"target_loss\",\n",
    "    \"x_net\": [\n",
    "        {\"class\": \"nnReshape\", \"kargs\": {\"shape\": [-1, 1, 2, 256]}},\n",
    "        {\n",
    "            \"class\": \"Conv2d\",\n",
    "            \"kargs\": {\n",
    "                \"in_channels\": 1,\n",
    "                \"out_channels\": 256,\n",
    "                \"kernel_size\": [1, 7],\n",
    "                \"bias\": False,\n",
    "                \"padding\": [0, 3],\n",
    "            },\n",
    "        },\n",
    "        {\"class\": \"ReLU\", \"kargs\": {\"inplace\": True}},\n",
    "        {\"class\": \"BatchNorm2d\", \"kargs\": {\"num_features\": 256}},\n",
    "        {\n",
    "            \"class\": \"Conv2d\",\n",
    "            \"kargs\": {\n",
    "                \"in_channels\": 256,\n",
    "                \"out_channels\": 80,\n",
    "                \"kernel_size\": [2, 7],\n",
    "                \"bias\": True,\n",
    "                \"padding\": [0, 3],\n",
    "            },\n",
    "        },\n",
    "        {\"class\": \"ReLU\", \"kargs\": {\"inplace\": True}},\n",
    "        {\"class\": \"BatchNorm2d\", \"kargs\": {\"num_features\": 80}},\n",
    "        {\"class\": \"Flatten\", \"kargs\": {}},\n",
    "        {\"class\": \"Linear\", \"kargs\": {\"in_features\": 20480, \"out_features\": 256}},\n",
    "        {\"class\": \"ReLU\", \"kargs\": {\"inplace\": True}},\n",
    "        {\"class\": \"BatchNorm1d\", \"kargs\": {\"num_features\": 256}},\n",
    "        {\"class\": \"Linear\", \"kargs\": {\"in_features\": 256, \"out_features\": 256}},\n",
    "    ],\n",
    "    \"NUM_LOGS_PER_EPOCH\": 10,\n",
    "    \"BEST_MODEL_PATH\": \"./best_model.pth\",\n",
    "    \"n_way\": 16,\n",
    "    \"datasets\": [\n",
    "        {\n",
    "            \"labels\": [\n",
    "                \"3123D52\",\n",
    "                \"3123D65\",\n",
    "                \"3123D79\",\n",
    "                \"3123D80\",\n",
    "                \"3123D54\",\n",
    "                \"3123D70\",\n",
    "                \"3123D7B\",\n",
    "                \"3123D89\",\n",
    "                \"3123D58\",\n",
    "                \"3123D76\",\n",
    "                \"3123D7D\",\n",
    "                \"3123EFE\",\n",
    "                \"3123D64\",\n",
    "                \"3123D78\",\n",
    "                \"3123D7E\",\n",
    "                \"3124E4A\",\n",
    "            ],\n",
    "            \"domains\": [32, 38, 8, 44, 14, 50, 20, 26],\n",
    "            \"num_examples_per_domain_per_label\": 10000,\n",
    "            \"pickle_path\": \"/mnt/wd500GB/CSC500/csc500-main/datasets/oracle.Run1_10kExamples_stratified_ds.2022A.pkl\",\n",
    "            \"source_or_target_dataset\": \"source\",\n",
    "            \"x_transforms\": [],\n",
    "            \"episode_transforms\": [],\n",
    "            \"domain_prefix\": \"ORACLE.run1_\",\n",
    "        },\n",
    "        {\n",
    "            \"labels\": [\n",
    "                \"3123D52\",\n",
    "                \"3123D65\",\n",
    "                \"3123D79\",\n",
    "                \"3123D80\",\n",
    "                \"3123D54\",\n",
    "                \"3123D70\",\n",
    "                \"3123D7B\",\n",
    "                \"3123D89\",\n",
    "                \"3123D58\",\n",
    "                \"3123D76\",\n",
    "                \"3123D7D\",\n",
    "                \"3123EFE\",\n",
    "                \"3123D64\",\n",
    "                \"3123D78\",\n",
    "                \"3123D7E\",\n",
    "                \"3124E4A\",\n",
    "            ],\n",
    "            \"domains\": [32, 38, 8, 44, 14, 50, 20, 26],\n",
    "            \"num_examples_per_domain_per_label\": 10000,\n",
    "            \"pickle_path\": \"/mnt/wd500GB/CSC500/csc500-main/datasets/oracle.Run2_10kExamples_stratified_ds.2022A.pkl\",\n",
    "            \"source_or_target_dataset\": \"target\",\n",
    "            \"x_transforms\": [],\n",
    "            \"episode_transforms\": [],\n",
    "            \"domain_prefix\": \"ORACLE.run2_\",\n",
    "        },\n",
    "    ],\n",
    "}\n"
   ]
  },
  {
   "cell_type": "code",
   "execution_count": 5,
   "id": "8fa1cc33",
   "metadata": {
    "execution": {
     "iopub.execute_input": "2022-03-10T11:53:21.231482Z",
     "iopub.status.busy": "2022-03-10T11:53:21.231227Z",
     "iopub.status.idle": "2022-03-10T11:53:21.247475Z",
     "shell.execute_reply": "2022-03-10T11:53:21.247046Z"
    },
    "papermill": {
     "duration": 0.032662,
     "end_time": "2022-03-10T11:53:21.247573",
     "exception": false,
     "start_time": "2022-03-10T11:53:21.214911",
     "status": "completed"
    },
    "tags": []
   },
   "outputs": [],
   "source": [
    "# Set this to True if you want to run this template directly\n",
    "STANDALONE = False\n",
    "if STANDALONE:\n",
    "    print(\"parameters not injected, running with standalone_parameters\")\n",
    "    parameters = standalone_parameters\n",
    "\n",
    "if not 'parameters' in locals() and not 'parameters' in globals():\n",
    "    raise Exception(\"Parameter injection failed\")\n",
    "\n",
    "#Use an easy dict for all the parameters\n",
    "p = EasyDict(parameters)\n",
    "\n",
    "supplied_keys = set(p.keys())\n",
    "\n",
    "if  supplied_keys != required_parameters:\n",
    "    print(\"Parameters are incorrect\")\n",
    "    if len(supplied_keys - required_parameters)>0: print(\"Shouldn't have:\", str(supplied_keys - required_parameters))\n",
    "    if len(required_parameters - supplied_keys)>0: print(\"Need to have:\", str(required_parameters - supplied_keys))\n",
    "    raise RuntimeError(\"Parameters are incorrect\")\n",
    "\n"
   ]
  },
  {
   "cell_type": "code",
   "execution_count": 6,
   "id": "3a028d58",
   "metadata": {
    "execution": {
     "iopub.execute_input": "2022-03-10T11:53:21.279287Z",
     "iopub.status.busy": "2022-03-10T11:53:21.279031Z",
     "iopub.status.idle": "2022-03-10T11:53:21.294863Z",
     "shell.execute_reply": "2022-03-10T11:53:21.294442Z"
    },
    "papermill": {
     "duration": 0.031728,
     "end_time": "2022-03-10T11:53:21.294966",
     "exception": false,
     "start_time": "2022-03-10T11:53:21.263238",
     "status": "completed"
    },
    "tags": []
   },
   "outputs": [],
   "source": [
    "###################################\n",
    "# Set the RNGs and make it all deterministic\n",
    "###################################\n",
    "np.random.seed(p.seed)\n",
    "random.seed(p.seed)\n",
    "torch.manual_seed(p.seed)\n",
    "\n",
    "torch.use_deterministic_algorithms(True) "
   ]
  },
  {
   "cell_type": "code",
   "execution_count": 7,
   "id": "b691acf6",
   "metadata": {
    "execution": {
     "iopub.execute_input": "2022-03-10T11:53:21.325930Z",
     "iopub.status.busy": "2022-03-10T11:53:21.325654Z",
     "iopub.status.idle": "2022-03-10T11:53:21.339055Z",
     "shell.execute_reply": "2022-03-10T11:53:21.339372Z"
    },
    "papermill": {
     "duration": 0.029059,
     "end_time": "2022-03-10T11:53:21.339493",
     "exception": false,
     "start_time": "2022-03-10T11:53:21.310434",
     "status": "completed"
    },
    "tags": []
   },
   "outputs": [],
   "source": [
    "###########################################\n",
    "# The stratified datasets honor this\n",
    "###########################################\n",
    "torch.set_default_dtype(eval(p.torch_default_dtype))"
   ]
  },
  {
   "cell_type": "code",
   "execution_count": 8,
   "id": "b5fba671",
   "metadata": {
    "execution": {
     "iopub.execute_input": "2022-03-10T11:53:21.374062Z",
     "iopub.status.busy": "2022-03-10T11:53:21.373324Z",
     "iopub.status.idle": "2022-03-10T11:53:21.414260Z",
     "shell.execute_reply": "2022-03-10T11:53:21.414649Z"
    },
    "papermill": {
     "duration": 0.056031,
     "end_time": "2022-03-10T11:53:21.414783",
     "exception": false,
     "start_time": "2022-03-10T11:53:21.358752",
     "status": "completed"
    },
    "tags": []
   },
   "outputs": [],
   "source": [
    "###################################\n",
    "# Build the network(s)\n",
    "# Note: It's critical to do this AFTER setting the RNG\n",
    "###################################\n",
    "x_net = build_sequential(p.x_net)"
   ]
  },
  {
   "cell_type": "code",
   "execution_count": 9,
   "id": "5d7e61cc",
   "metadata": {
    "execution": {
     "iopub.execute_input": "2022-03-10T11:53:21.447472Z",
     "iopub.status.busy": "2022-03-10T11:53:21.447219Z",
     "iopub.status.idle": "2022-03-10T11:53:21.461845Z",
     "shell.execute_reply": "2022-03-10T11:53:21.462132Z"
    },
    "papermill": {
     "duration": 0.03006,
     "end_time": "2022-03-10T11:53:21.462228",
     "exception": false,
     "start_time": "2022-03-10T11:53:21.432168",
     "status": "completed"
    },
    "tags": []
   },
   "outputs": [],
   "source": [
    "start_time_secs = time.time()"
   ]
  },
  {
   "cell_type": "code",
   "execution_count": 10,
   "id": "c6b67dfd",
   "metadata": {
    "execution": {
     "iopub.execute_input": "2022-03-10T11:53:21.495000Z",
     "iopub.status.busy": "2022-03-10T11:53:21.494723Z",
     "iopub.status.idle": "2022-03-10T11:53:21.510150Z",
     "shell.execute_reply": "2022-03-10T11:53:21.509729Z"
    },
    "papermill": {
     "duration": 0.030737,
     "end_time": "2022-03-10T11:53:21.510256",
     "exception": false,
     "start_time": "2022-03-10T11:53:21.479519",
     "status": "completed"
    },
    "tags": []
   },
   "outputs": [],
   "source": [
    "p.domains_source = []\n",
    "p.domains_target = []\n",
    "\n",
    "\n",
    "train_original_source = []\n",
    "val_original_source   = []\n",
    "test_original_source  = []\n",
    "\n",
    "train_original_target = []\n",
    "val_original_target   = []\n",
    "test_original_target  = []"
   ]
  },
  {
   "cell_type": "code",
   "execution_count": 11,
   "id": "e3d9c3d3",
   "metadata": {
    "execution": {
     "iopub.execute_input": "2022-03-10T11:53:21.542556Z",
     "iopub.status.busy": "2022-03-10T11:53:21.542310Z",
     "iopub.status.idle": "2022-03-10T11:53:21.556850Z",
     "shell.execute_reply": "2022-03-10T11:53:21.557224Z"
    },
    "papermill": {
     "duration": 0.029625,
     "end_time": "2022-03-10T11:53:21.557346",
     "exception": false,
     "start_time": "2022-03-10T11:53:21.527721",
     "status": "completed"
    },
    "tags": []
   },
   "outputs": [],
   "source": [
    "# global_x_transform_func = lambda x: normalize(x.to(torch.get_default_dtype()), \"unit_power\") # unit_power, unit_mag\n",
    "# global_x_transform_func = lambda x: normalize(x, \"unit_power\") # unit_power, unit_mag"
   ]
  },
  {
   "cell_type": "code",
   "execution_count": 12,
   "id": "acb78fd2",
   "metadata": {
    "execution": {
     "iopub.execute_input": "2022-03-10T11:53:21.595455Z",
     "iopub.status.busy": "2022-03-10T11:53:21.595202Z",
     "iopub.status.idle": "2022-03-10T11:53:21.609252Z",
     "shell.execute_reply": "2022-03-10T11:53:21.608828Z"
    },
    "papermill": {
     "duration": 0.034054,
     "end_time": "2022-03-10T11:53:21.609352",
     "exception": false,
     "start_time": "2022-03-10T11:53:21.575298",
     "status": "completed"
    },
    "tags": []
   },
   "outputs": [],
   "source": [
    "def add_dataset(\n",
    "    labels,\n",
    "    domains,\n",
    "    pickle_path,\n",
    "    x_transforms,\n",
    "    episode_transforms,\n",
    "    domain_prefix,\n",
    "    num_examples_per_domain_per_label,\n",
    "    source_or_target_dataset:str,\n",
    "    iterator_seed=p.seed,\n",
    "    dataset_seed=p.dataset_seed,\n",
    "    n_shot=p.n_shot,\n",
    "    n_way=p.n_way,\n",
    "    n_query=p.n_query,\n",
    "    train_val_test_k_factors=(p.train_k_factor,p.val_k_factor,p.test_k_factor),\n",
    "):\n",
    "   \n",
    "    if x_transforms == []: x_transform = None\n",
    "    else: x_transform = get_chained_transform(x_transforms)\n",
    "    \n",
    "    if episode_transforms == []: episode_transform = None\n",
    "    else: raise Exception(\"episode_transforms not implemented\")\n",
    "    \n",
    "    episode_transform = lambda tup, _prefix=domain_prefix: (_prefix + str(tup[0]), tup[1])\n",
    "\n",
    "\n",
    "    eaf = Episodic_Accessor_Factory(\n",
    "        labels=labels,\n",
    "        domains=domains,\n",
    "        num_examples_per_domain_per_label=num_examples_per_domain_per_label,\n",
    "        iterator_seed=iterator_seed,\n",
    "        dataset_seed=dataset_seed,\n",
    "        n_shot=n_shot,\n",
    "        n_way=n_way,\n",
    "        n_query=n_query,\n",
    "        train_val_test_k_factors=train_val_test_k_factors,\n",
    "        pickle_path=pickle_path,\n",
    "        x_transform_func=x_transform,\n",
    "    )\n",
    "\n",
    "    train, val, test = eaf.get_train(), eaf.get_val(), eaf.get_test()\n",
    "    train = Lazy_Iterable_Wrapper(train, episode_transform)\n",
    "    val = Lazy_Iterable_Wrapper(val, episode_transform)\n",
    "    test = Lazy_Iterable_Wrapper(test, episode_transform)\n",
    "\n",
    "    if source_or_target_dataset==\"source\":\n",
    "        train_original_source.append(train)\n",
    "        val_original_source.append(val)\n",
    "        test_original_source.append(test)\n",
    "\n",
    "        p.domains_source.extend(\n",
    "            [domain_prefix + str(u) for u in domains]\n",
    "        )\n",
    "    elif source_or_target_dataset==\"target\":\n",
    "        train_original_target.append(train)\n",
    "        val_original_target.append(val)\n",
    "        test_original_target.append(test)\n",
    "        p.domains_target.extend(\n",
    "            [domain_prefix + str(u) for u in domains]\n",
    "        )\n",
    "    else:\n",
    "        raise Exception(f\"invalid source_or_target_dataset: {source_or_target_dataset}\")\n",
    "    "
   ]
  },
  {
   "cell_type": "code",
   "execution_count": 13,
   "id": "fe266617",
   "metadata": {
    "execution": {
     "iopub.execute_input": "2022-03-10T11:53:21.642603Z",
     "iopub.status.busy": "2022-03-10T11:53:21.641891Z",
     "iopub.status.idle": "2022-03-10T11:53:36.014218Z",
     "shell.execute_reply": "2022-03-10T11:53:36.013477Z"
    },
    "papermill": {
     "duration": 14.386496,
     "end_time": "2022-03-10T11:53:36.014328",
     "exception": false,
     "start_time": "2022-03-10T11:53:21.627832",
     "status": "completed"
    },
    "tags": []
   },
   "outputs": [],
   "source": [
    "for ds in p.datasets:\n",
    "    add_dataset(**ds)"
   ]
  },
  {
   "cell_type": "code",
   "execution_count": 14,
   "id": "b90d65ac",
   "metadata": {
    "execution": {
     "iopub.execute_input": "2022-03-10T11:53:36.048040Z",
     "iopub.status.busy": "2022-03-10T11:53:36.047773Z",
     "iopub.status.idle": "2022-03-10T11:53:36.059276Z",
     "shell.execute_reply": "2022-03-10T11:53:36.058883Z"
    },
    "papermill": {
     "duration": 0.027314,
     "end_time": "2022-03-10T11:53:36.059363",
     "exception": false,
     "start_time": "2022-03-10T11:53:36.032049",
     "status": "completed"
    },
    "tags": []
   },
   "outputs": [],
   "source": [
    "# from steves_utils.CORES.utils import (\n",
    "#     ALL_NODES,\n",
    "#     ALL_NODES_MINIMUM_1000_EXAMPLES,\n",
    "#     ALL_DAYS\n",
    "# )\n",
    "\n",
    "# add_dataset(\n",
    "#     labels=ALL_NODES,\n",
    "#     domains = ALL_DAYS,\n",
    "#     num_examples_per_domain_per_label=100,\n",
    "#     pickle_path=os.path.join(get_datasets_base_path(), \"cores.stratified_ds.2022A.pkl\"),\n",
    "#     source_or_target_dataset=\"target\",\n",
    "#     x_transform_func=global_x_transform_func,\n",
    "#     domain_modifier=lambda u: f\"cores_{u}\"\n",
    "# )"
   ]
  },
  {
   "cell_type": "code",
   "execution_count": 15,
   "id": "76db484d",
   "metadata": {
    "execution": {
     "iopub.execute_input": "2022-03-10T11:53:36.091692Z",
     "iopub.status.busy": "2022-03-10T11:53:36.091441Z",
     "iopub.status.idle": "2022-03-10T11:53:36.105642Z",
     "shell.execute_reply": "2022-03-10T11:53:36.105200Z"
    },
    "papermill": {
     "duration": 0.029435,
     "end_time": "2022-03-10T11:53:36.105729",
     "exception": false,
     "start_time": "2022-03-10T11:53:36.076294",
     "status": "completed"
    },
    "tags": []
   },
   "outputs": [],
   "source": [
    "# from steves_utils.ORACLE.utils_v2 import (\n",
    "#     ALL_DISTANCES_FEET,\n",
    "#     ALL_RUNS,\n",
    "#     ALL_SERIAL_NUMBERS,\n",
    "# )\n",
    "\n",
    "\n",
    "# add_dataset(\n",
    "#     labels=ALL_SERIAL_NUMBERS,\n",
    "#     domains = list(set(ALL_DISTANCES_FEET) - {2,62}),\n",
    "#     num_examples_per_domain_per_label=100,\n",
    "#     pickle_path=os.path.join(get_datasets_base_path(), \"oracle.Run2_framed_2000Examples_stratified_ds.2022A.pkl\"),\n",
    "#     source_or_target_dataset=\"source\",\n",
    "#     x_transform_func=global_x_transform_func,\n",
    "#     domain_modifier=lambda u: f\"oracle1_{u}\"\n",
    "# )\n"
   ]
  },
  {
   "cell_type": "code",
   "execution_count": 16,
   "id": "97dea9d2",
   "metadata": {
    "execution": {
     "iopub.execute_input": "2022-03-10T11:53:36.138384Z",
     "iopub.status.busy": "2022-03-10T11:53:36.138137Z",
     "iopub.status.idle": "2022-03-10T11:53:36.147987Z",
     "shell.execute_reply": "2022-03-10T11:53:36.147745Z"
    },
    "papermill": {
     "duration": 0.024546,
     "end_time": "2022-03-10T11:53:36.148035",
     "exception": false,
     "start_time": "2022-03-10T11:53:36.123489",
     "status": "completed"
    },
    "tags": []
   },
   "outputs": [],
   "source": [
    "# from steves_utils.ORACLE.utils_v2 import (\n",
    "#     ALL_DISTANCES_FEET,\n",
    "#     ALL_RUNS,\n",
    "#     ALL_SERIAL_NUMBERS,\n",
    "# )\n",
    "\n",
    "\n",
    "# add_dataset(\n",
    "#     labels=ALL_SERIAL_NUMBERS,\n",
    "#     domains = list(set(ALL_DISTANCES_FEET) - {2,62,56}),\n",
    "#     num_examples_per_domain_per_label=100,\n",
    "#     pickle_path=os.path.join(get_datasets_base_path(), \"oracle.Run2_framed_2000Examples_stratified_ds.2022A.pkl\"),\n",
    "#     source_or_target_dataset=\"source\",\n",
    "#     x_transform_func=global_x_transform_func,\n",
    "#     domain_modifier=lambda u: f\"oracle2_{u}\"\n",
    "# )"
   ]
  },
  {
   "cell_type": "code",
   "execution_count": 17,
   "id": "6f289866",
   "metadata": {
    "execution": {
     "iopub.execute_input": "2022-03-10T11:53:36.191996Z",
     "iopub.status.busy": "2022-03-10T11:53:36.191404Z",
     "iopub.status.idle": "2022-03-10T11:53:36.196732Z",
     "shell.execute_reply": "2022-03-10T11:53:36.196221Z"
    },
    "papermill": {
     "duration": 0.030647,
     "end_time": "2022-03-10T11:53:36.196831",
     "exception": false,
     "start_time": "2022-03-10T11:53:36.166184",
     "status": "completed"
    },
    "tags": []
   },
   "outputs": [],
   "source": [
    "# add_dataset(\n",
    "#     labels=list(range(19)),\n",
    "#     domains = [0,1,2],\n",
    "#     num_examples_per_domain_per_label=100,\n",
    "#     pickle_path=os.path.join(get_datasets_base_path(), \"metehan.stratified_ds.2022A.pkl\"),\n",
    "#     source_or_target_dataset=\"target\",\n",
    "#     x_transform_func=global_x_transform_func,\n",
    "#     domain_modifier=lambda u: f\"met_{u}\"\n",
    "# )"
   ]
  },
  {
   "cell_type": "code",
   "execution_count": 18,
   "id": "86a863c3",
   "metadata": {
    "execution": {
     "iopub.execute_input": "2022-03-10T11:53:36.235443Z",
     "iopub.status.busy": "2022-03-10T11:53:36.230986Z",
     "iopub.status.idle": "2022-03-10T11:53:36.244882Z",
     "shell.execute_reply": "2022-03-10T11:53:36.244537Z"
    },
    "papermill": {
     "duration": 0.029197,
     "end_time": "2022-03-10T11:53:36.244950",
     "exception": false,
     "start_time": "2022-03-10T11:53:36.215753",
     "status": "completed"
    },
    "tags": []
   },
   "outputs": [],
   "source": [
    "# # from steves_utils.wisig.utils import (\n",
    "# #     ALL_NODES_MINIMUM_100_EXAMPLES,\n",
    "# #     ALL_NODES_MINIMUM_500_EXAMPLES,\n",
    "# #     ALL_NODES_MINIMUM_1000_EXAMPLES,\n",
    "# #     ALL_DAYS\n",
    "# # )\n",
    "\n",
    "# import steves_utils.wisig.utils as wisig\n",
    "\n",
    "\n",
    "# add_dataset(\n",
    "#     labels=wisig.ALL_NODES_MINIMUM_100_EXAMPLES,\n",
    "#     domains = wisig.ALL_DAYS,\n",
    "#     num_examples_per_domain_per_label=100,\n",
    "#     pickle_path=os.path.join(get_datasets_base_path(), \"wisig.node3-19.stratified_ds.2022A.pkl\"),\n",
    "#     source_or_target_dataset=\"target\",\n",
    "#     x_transform_func=global_x_transform_func,\n",
    "#     domain_modifier=lambda u: f\"wisig_{u}\"\n",
    "# )"
   ]
  },
  {
   "cell_type": "code",
   "execution_count": 19,
   "id": "fd5442bc",
   "metadata": {
    "execution": {
     "iopub.execute_input": "2022-03-10T11:53:36.285975Z",
     "iopub.status.busy": "2022-03-10T11:53:36.284973Z",
     "iopub.status.idle": "2022-03-10T11:53:36.293827Z",
     "shell.execute_reply": "2022-03-10T11:53:36.294252Z"
    },
    "papermill": {
     "duration": 0.031521,
     "end_time": "2022-03-10T11:53:36.294368",
     "exception": false,
     "start_time": "2022-03-10T11:53:36.262847",
     "status": "completed"
    },
    "tags": []
   },
   "outputs": [],
   "source": [
    "###################################\n",
    "# Build the dataset\n",
    "###################################\n",
    "train_original_source = Iterable_Aggregator(train_original_source, p.seed)\n",
    "val_original_source = Iterable_Aggregator(val_original_source, p.seed)\n",
    "test_original_source = Iterable_Aggregator(test_original_source, p.seed)\n",
    "\n",
    "\n",
    "train_original_target = Iterable_Aggregator(train_original_target, p.seed)\n",
    "val_original_target = Iterable_Aggregator(val_original_target, p.seed)\n",
    "test_original_target = Iterable_Aggregator(test_original_target, p.seed)\n",
    "\n",
    "# For CNN We only use X and Y. And we only train on the source.\n",
    "# Properly form the data using a transform lambda and Lazy_Iterable_Wrapper. Finally wrap them in a dataloader\n",
    "\n",
    "transform_lambda = lambda ex: ex[1] # Original is (<domain>, <episode>) so we strip down to episode only\n",
    "\n",
    "train_processed_source = Lazy_Iterable_Wrapper(train_original_source, transform_lambda)\n",
    "val_processed_source   = Lazy_Iterable_Wrapper(val_original_source, transform_lambda)\n",
    "test_processed_source  = Lazy_Iterable_Wrapper(test_original_source, transform_lambda)\n",
    "\n",
    "train_processed_target = Lazy_Iterable_Wrapper(train_original_target, transform_lambda)\n",
    "val_processed_target   = Lazy_Iterable_Wrapper(val_original_target, transform_lambda)\n",
    "test_processed_target  = Lazy_Iterable_Wrapper(test_original_target, transform_lambda)\n",
    "\n",
    "datasets = EasyDict({\n",
    "    \"source\": {\n",
    "        \"original\": {\"train\":train_original_source, \"val\":val_original_source, \"test\":test_original_source},\n",
    "        \"processed\": {\"train\":train_processed_source, \"val\":val_processed_source, \"test\":test_processed_source}\n",
    "    },\n",
    "    \"target\": {\n",
    "        \"original\": {\"train\":train_original_target, \"val\":val_original_target, \"test\":test_original_target},\n",
    "        \"processed\": {\"train\":train_processed_target, \"val\":val_processed_target, \"test\":test_processed_target}\n",
    "    },\n",
    "})"
   ]
  },
  {
   "cell_type": "code",
   "execution_count": 20,
   "id": "5b3c01fc",
   "metadata": {
    "execution": {
     "iopub.execute_input": "2022-03-10T11:53:36.337998Z",
     "iopub.status.busy": "2022-03-10T11:53:36.336012Z",
     "iopub.status.idle": "2022-03-10T11:54:00.706569Z",
     "shell.execute_reply": "2022-03-10T11:54:00.707028Z"
    },
    "papermill": {
     "duration": 24.395174,
     "end_time": "2022-03-10T11:54:00.707170",
     "exception": false,
     "start_time": "2022-03-10T11:53:36.311996",
     "status": "completed"
    },
    "tags": []
   },
   "outputs": [
    {
     "name": "stdout",
     "output_type": "stream",
     "text": [
      "{'ORACLE.run1_32', 'ORACLE.run1_44', 'ORACLE.run1_50', 'ORACLE.run1_26', 'ORACLE.run1_14', 'ORACLE.run1_8', 'ORACLE.run1_20', 'ORACLE.run1_38'}\n"
     ]
    },
    {
     "name": "stdout",
     "output_type": "stream",
     "text": [
      "{'ORACLE.run2_32', 'ORACLE.run2_14', 'ORACLE.run2_8', 'ORACLE.run2_44', 'ORACLE.run2_38', 'ORACLE.run2_50', 'ORACLE.run2_20', 'ORACLE.run2_26'}\n"
     ]
    },
    {
     "name": "stdout",
     "output_type": "stream",
     "text": [
      "tensor([[[-6.1037e-05, -1.0987e-03,  1.1292e-03,  ..., -1.0376e-03,\n",
      "          -8.8504e-04,  1.7701e-03],\n",
      "         [-1.8616e-03,  7.3244e-04, -3.9674e-04,  ...,  2.1363e-04,\n",
      "          -3.0519e-03,  4.2726e-04]],\n",
      "\n",
      "        [[ 1.4954e-03, -2.3804e-03, -4.6083e-03,  ...,  1.4649e-03,\n",
      "           1.8311e-04, -1.0376e-03],\n",
      "         [-4.5778e-04, -1.3428e-03, -4.7609e-03,  ..., -1.5564e-03,\n",
      "           1.0071e-03, -1.7090e-03]],\n",
      "\n",
      "        [[-2.8382e-03, -1.4954e-03,  3.3570e-04,  ...,  3.9674e-04,\n",
      "           4.6388e-03,  3.5707e-03],\n",
      "         [-6.4089e-04,  1.0987e-03, -1.2207e-03,  ..., -4.9135e-03,\n",
      "           0.0000e+00, -9.1556e-05]],\n",
      "\n",
      "        ...,\n",
      "\n",
      "        [[-6.1037e-05,  3.0824e-03, -3.6622e-04,  ..., -4.1505e-03,\n",
      "          -6.6836e-03,  4.3031e-03],\n",
      "         [ 5.8596e-03, -4.2116e-03, -2.5941e-03,  ..., -6.7141e-04,\n",
      "           1.0071e-03, -4.5473e-03]],\n",
      "\n",
      "        [[-4.2116e-03, -6.5310e-03, -7.8433e-03,  ..., -4.0590e-03,\n",
      "           2.6246e-03,  9.4607e-04],\n",
      "         [ 5.4018e-03,  1.5259e-04,  5.4018e-03,  ..., -1.5259e-03,\n",
      "           3.5096e-03, -9.1556e-04]],\n",
      "\n",
      "        [[ 6.2868e-03, -3.3570e-03, -2.8382e-03,  ..., -3.8148e-03,\n",
      "          -1.8921e-03, -3.0519e-05],\n",
      "         [-2.2279e-03,  4.6999e-03,  3.0519e-05,  ...,  7.2634e-03,\n",
      "           1.0681e-03,  5.0661e-03]]])\n"
     ]
    }
   ],
   "source": [
    "from steves_utils.transforms import get_average_magnitude, get_average_power\n",
    "\n",
    "print(set([u for u,_ in val_original_source]))\n",
    "print(set([u for u,_ in val_original_target]))\n",
    "\n",
    "s_x, s_y, q_x, q_y, _ = next(iter(train_processed_source))\n",
    "print(s_x)\n",
    "\n",
    "# for ds in [\n",
    "#     train_processed_source,\n",
    "#     val_processed_source,\n",
    "#     test_processed_source,\n",
    "#     train_processed_target,\n",
    "#     val_processed_target,\n",
    "#     test_processed_target\n",
    "# ]:\n",
    "#     for s_x, s_y, q_x, q_y, _ in ds:\n",
    "#         for X in (s_x, q_x):\n",
    "#             for x in X:\n",
    "#                 assert np.isclose(get_average_magnitude(x.numpy()), 1.0)\n",
    "#                 assert np.isclose(get_average_power(x.numpy()), 1.0)\n",
    "                "
   ]
  },
  {
   "cell_type": "code",
   "execution_count": 21,
   "id": "bbdacba1",
   "metadata": {
    "execution": {
     "iopub.execute_input": "2022-03-10T11:54:00.742304Z",
     "iopub.status.busy": "2022-03-10T11:54:00.742044Z",
     "iopub.status.idle": "2022-03-10T11:54:00.796629Z",
     "shell.execute_reply": "2022-03-10T11:54:00.796182Z"
    },
    "papermill": {
     "duration": 0.070847,
     "end_time": "2022-03-10T11:54:00.796720",
     "exception": false,
     "start_time": "2022-03-10T11:54:00.725873",
     "status": "completed"
    },
    "tags": []
   },
   "outputs": [
    {
     "name": "stdout",
     "output_type": "stream",
     "text": [
      "(2, 256)\n"
     ]
    }
   ],
   "source": [
    "###################################\n",
    "# Build the model\n",
    "###################################\n",
    "model = Steves_Prototypical_Network(x_net, device=p.device, x_shape=(2,256))\n",
    "optimizer = Adam(params=model.parameters(), lr=p.lr)"
   ]
  },
  {
   "cell_type": "code",
   "execution_count": 22,
   "id": "22b39ac5",
   "metadata": {
    "execution": {
     "iopub.execute_input": "2022-03-10T11:54:00.833402Z",
     "iopub.status.busy": "2022-03-10T11:54:00.831372Z",
     "iopub.status.idle": "2022-03-10T13:55:56.973714Z",
     "shell.execute_reply": "2022-03-10T13:55:56.973488Z"
    },
    "papermill": {
     "duration": 7316.158076,
     "end_time": "2022-03-10T13:55:56.973770",
     "exception": false,
     "start_time": "2022-03-10T11:54:00.815694",
     "status": "completed"
    },
    "tags": []
   },
   "outputs": [
    {
     "name": "stdout",
     "output_type": "stream",
     "text": [
      "epoch: 1, [batch: 1 / 33600], examples_per_second: 9.9893, train_label_loss: 2.4283, \n"
     ]
    },
    {
     "name": "stdout",
     "output_type": "stream",
     "text": [
      "epoch: 1, [batch: 3360 / 33600], examples_per_second: 3213.6229, train_label_loss: 1.0673, \n"
     ]
    },
    {
     "name": "stdout",
     "output_type": "stream",
     "text": [
      "epoch: 1, [batch: 6720 / 33600], examples_per_second: 3211.5534, train_label_loss: 0.8903, \n"
     ]
    },
    {
     "name": "stdout",
     "output_type": "stream",
     "text": [
      "epoch: 1, [batch: 10080 / 33600], examples_per_second: 3195.5278, train_label_loss: 0.4152, \n"
     ]
    },
    {
     "name": "stdout",
     "output_type": "stream",
     "text": [
      "epoch: 1, [batch: 13440 / 33600], examples_per_second: 3182.5969, train_label_loss: 0.5033, \n"
     ]
    },
    {
     "name": "stdout",
     "output_type": "stream",
     "text": [
      "epoch: 1, [batch: 16800 / 33600], examples_per_second: 3194.5345, train_label_loss: 0.3068, \n"
     ]
    },
    {
     "name": "stdout",
     "output_type": "stream",
     "text": [
      "epoch: 1, [batch: 20160 / 33600], examples_per_second: 3197.6606, train_label_loss: 0.3657, \n"
     ]
    },
    {
     "name": "stdout",
     "output_type": "stream",
     "text": [
      "epoch: 1, [batch: 23520 / 33600], examples_per_second: 3193.8195, train_label_loss: 0.2881, \n"
     ]
    },
    {
     "name": "stdout",
     "output_type": "stream",
     "text": [
      "epoch: 1, [batch: 26880 / 33600], examples_per_second: 3195.8265, train_label_loss: 0.5665, \n"
     ]
    },
    {
     "name": "stdout",
     "output_type": "stream",
     "text": [
      "epoch: 1, [batch: 30240 / 33600], examples_per_second: 3193.4564, train_label_loss: 0.7332, \n"
     ]
    },
    {
     "name": "stdout",
     "output_type": "stream",
     "text": [
      "=============================================================\n",
      "epoch: 1, source_val_acc_label: 0.6676, target_val_acc_label: 0.6872, source_val_label_loss: 14.0273, target_val_label_loss: 10.1819, \n",
      "=============================================================\n"
     ]
    },
    {
     "name": "stdout",
     "output_type": "stream",
     "text": [
      "New best\n"
     ]
    },
    {
     "name": "stdout",
     "output_type": "stream",
     "text": [
      "epoch: 2, [batch: 1 / 33600], examples_per_second: 0.9717, train_label_loss: 0.5319, \n"
     ]
    },
    {
     "name": "stdout",
     "output_type": "stream",
     "text": [
      "epoch: 2, [batch: 3360 / 33600], examples_per_second: 3226.9222, train_label_loss: 0.3503, \n"
     ]
    },
    {
     "name": "stdout",
     "output_type": "stream",
     "text": [
      "epoch: 2, [batch: 6720 / 33600], examples_per_second: 3229.1025, train_label_loss: 0.6040, \n"
     ]
    },
    {
     "name": "stdout",
     "output_type": "stream",
     "text": [
      "epoch: 2, [batch: 10080 / 33600], examples_per_second: 3228.6794, train_label_loss: 0.2808, \n"
     ]
    },
    {
     "name": "stdout",
     "output_type": "stream",
     "text": [
      "epoch: 2, [batch: 13440 / 33600], examples_per_second: 3219.8411, train_label_loss: 0.2234, \n"
     ]
    },
    {
     "name": "stdout",
     "output_type": "stream",
     "text": [
      "epoch: 2, [batch: 16800 / 33600], examples_per_second: 3227.7735, train_label_loss: 0.7678, \n"
     ]
    },
    {
     "name": "stdout",
     "output_type": "stream",
     "text": [
      "epoch: 2, [batch: 20160 / 33600], examples_per_second: 3238.1597, train_label_loss: 0.7354, \n"
     ]
    },
    {
     "name": "stdout",
     "output_type": "stream",
     "text": [
      "epoch: 2, [batch: 23520 / 33600], examples_per_second: 3227.8718, train_label_loss: 0.3471, \n"
     ]
    },
    {
     "name": "stdout",
     "output_type": "stream",
     "text": [
      "epoch: 2, [batch: 26880 / 33600], examples_per_second: 3228.3868, train_label_loss: 0.3195, \n"
     ]
    },
    {
     "name": "stdout",
     "output_type": "stream",
     "text": [
      "epoch: 2, [batch: 30240 / 33600], examples_per_second: 3235.8642, train_label_loss: 0.2870, \n"
     ]
    },
    {
     "name": "stdout",
     "output_type": "stream",
     "text": [
      "=============================================================\n",
      "epoch: 2, source_val_acc_label: 0.8586, target_val_acc_label: 0.8590, source_val_label_loss: 0.4106, target_val_label_loss: 0.4941, \n",
      "=============================================================\n"
     ]
    },
    {
     "name": "stdout",
     "output_type": "stream",
     "text": [
      "New best\n"
     ]
    },
    {
     "name": "stdout",
     "output_type": "stream",
     "text": [
      "epoch: 3, [batch: 1 / 33600], examples_per_second: 0.9782, train_label_loss: 0.6207, \n"
     ]
    },
    {
     "name": "stdout",
     "output_type": "stream",
     "text": [
      "epoch: 3, [batch: 3360 / 33600], examples_per_second: 3225.7997, train_label_loss: 0.4236, \n"
     ]
    },
    {
     "name": "stdout",
     "output_type": "stream",
     "text": [
      "epoch: 3, [batch: 6720 / 33600], examples_per_second: 3230.3228, train_label_loss: 0.2337, \n"
     ]
    },
    {
     "name": "stdout",
     "output_type": "stream",
     "text": [
      "epoch: 3, [batch: 10080 / 33600], examples_per_second: 3235.4251, train_label_loss: 0.3744, \n"
     ]
    },
    {
     "name": "stdout",
     "output_type": "stream",
     "text": [
      "epoch: 3, [batch: 13440 / 33600], examples_per_second: 3213.4969, train_label_loss: 0.3448, \n"
     ]
    },
    {
     "name": "stdout",
     "output_type": "stream",
     "text": [
      "epoch: 3, [batch: 16800 / 33600], examples_per_second: 3224.6118, train_label_loss: 0.3447, \n"
     ]
    },
    {
     "name": "stdout",
     "output_type": "stream",
     "text": [
      "epoch: 3, [batch: 20160 / 33600], examples_per_second: 3229.3112, train_label_loss: 0.4493, \n"
     ]
    },
    {
     "name": "stdout",
     "output_type": "stream",
     "text": [
      "epoch: 3, [batch: 23520 / 33600], examples_per_second: 3224.5954, train_label_loss: 0.5563, \n"
     ]
    },
    {
     "name": "stdout",
     "output_type": "stream",
     "text": [
      "epoch: 3, [batch: 26880 / 33600], examples_per_second: 3224.3289, train_label_loss: 0.1162, \n"
     ]
    },
    {
     "name": "stdout",
     "output_type": "stream",
     "text": [
      "epoch: 3, [batch: 30240 / 33600], examples_per_second: 3233.3227, train_label_loss: 0.3912, \n"
     ]
    },
    {
     "name": "stdout",
     "output_type": "stream",
     "text": [
      "=============================================================\n",
      "epoch: 3, source_val_acc_label: 0.8688, target_val_acc_label: 0.8634, source_val_label_loss: 0.3713, target_val_label_loss: 0.4843, \n",
      "=============================================================\n"
     ]
    },
    {
     "name": "stdout",
     "output_type": "stream",
     "text": [
      "New best\n"
     ]
    },
    {
     "name": "stdout",
     "output_type": "stream",
     "text": [
      "epoch: 4, [batch: 1 / 33600], examples_per_second: 0.9756, train_label_loss: 0.1823, \n"
     ]
    },
    {
     "name": "stdout",
     "output_type": "stream",
     "text": [
      "epoch: 4, [batch: 3360 / 33600], examples_per_second: 3229.5176, train_label_loss: 0.3047, \n"
     ]
    },
    {
     "name": "stdout",
     "output_type": "stream",
     "text": [
      "epoch: 4, [batch: 6720 / 33600], examples_per_second: 3220.9514, train_label_loss: 0.4231, \n"
     ]
    },
    {
     "name": "stdout",
     "output_type": "stream",
     "text": [
      "epoch: 4, [batch: 10080 / 33600], examples_per_second: 3239.9096, train_label_loss: 0.2242, \n"
     ]
    },
    {
     "name": "stdout",
     "output_type": "stream",
     "text": [
      "epoch: 4, [batch: 13440 / 33600], examples_per_second: 3216.9588, train_label_loss: 0.2069, \n"
     ]
    },
    {
     "name": "stdout",
     "output_type": "stream",
     "text": [
      "epoch: 4, [batch: 16800 / 33600], examples_per_second: 3233.1263, train_label_loss: 0.2600, \n"
     ]
    },
    {
     "name": "stdout",
     "output_type": "stream",
     "text": [
      "epoch: 4, [batch: 20160 / 33600], examples_per_second: 3234.4492, train_label_loss: 0.0834, \n"
     ]
    },
    {
     "name": "stdout",
     "output_type": "stream",
     "text": [
      "epoch: 4, [batch: 23520 / 33600], examples_per_second: 3221.1428, train_label_loss: 0.1252, \n"
     ]
    },
    {
     "name": "stdout",
     "output_type": "stream",
     "text": [
      "epoch: 4, [batch: 26880 / 33600], examples_per_second: 3229.1695, train_label_loss: 0.2126, \n"
     ]
    },
    {
     "name": "stdout",
     "output_type": "stream",
     "text": [
      "epoch: 4, [batch: 30240 / 33600], examples_per_second: 3222.5211, train_label_loss: 0.3738, \n"
     ]
    },
    {
     "name": "stdout",
     "output_type": "stream",
     "text": [
      "=============================================================\n",
      "epoch: 4, source_val_acc_label: 0.8785, target_val_acc_label: 0.8693, source_val_label_loss: 0.3371, target_val_label_loss: 0.4323, \n",
      "=============================================================\n"
     ]
    },
    {
     "name": "stdout",
     "output_type": "stream",
     "text": [
      "New best\n"
     ]
    },
    {
     "name": "stdout",
     "output_type": "stream",
     "text": [
      "epoch: 5, [batch: 1 / 33600], examples_per_second: 0.9732, train_label_loss: 0.3567, \n"
     ]
    },
    {
     "name": "stdout",
     "output_type": "stream",
     "text": [
      "epoch: 5, [batch: 3360 / 33600], examples_per_second: 3222.3632, train_label_loss: 0.2224, \n"
     ]
    },
    {
     "name": "stdout",
     "output_type": "stream",
     "text": [
      "epoch: 5, [batch: 6720 / 33600], examples_per_second: 3229.4927, train_label_loss: 0.1491, \n"
     ]
    },
    {
     "name": "stdout",
     "output_type": "stream",
     "text": [
      "epoch: 5, [batch: 10080 / 33600], examples_per_second: 3231.4334, train_label_loss: 0.1216, \n"
     ]
    },
    {
     "name": "stdout",
     "output_type": "stream",
     "text": [
      "epoch: 5, [batch: 13440 / 33600], examples_per_second: 3215.2345, train_label_loss: 0.3844, \n"
     ]
    },
    {
     "name": "stdout",
     "output_type": "stream",
     "text": [
      "epoch: 5, [batch: 16800 / 33600], examples_per_second: 3222.4225, train_label_loss: 0.4786, \n"
     ]
    },
    {
     "name": "stdout",
     "output_type": "stream",
     "text": [
      "epoch: 5, [batch: 20160 / 33600], examples_per_second: 3236.5993, train_label_loss: 0.1659, \n"
     ]
    },
    {
     "name": "stdout",
     "output_type": "stream",
     "text": [
      "epoch: 5, [batch: 23520 / 33600], examples_per_second: 3211.0616, train_label_loss: 0.2930, \n"
     ]
    },
    {
     "name": "stdout",
     "output_type": "stream",
     "text": [
      "epoch: 5, [batch: 26880 / 33600], examples_per_second: 3230.2679, train_label_loss: 0.2161, \n"
     ]
    },
    {
     "name": "stdout",
     "output_type": "stream",
     "text": [
      "epoch: 5, [batch: 30240 / 33600], examples_per_second: 3232.0098, train_label_loss: 0.1556, \n"
     ]
    },
    {
     "name": "stdout",
     "output_type": "stream",
     "text": [
      "=============================================================\n",
      "epoch: 5, source_val_acc_label: 0.8815, target_val_acc_label: 0.8660, source_val_label_loss: 0.3269, target_val_label_loss: 0.4506, \n",
      "=============================================================\n"
     ]
    },
    {
     "name": "stdout",
     "output_type": "stream",
     "text": [
      "epoch: 6, [batch: 1 / 33600], examples_per_second: 0.9753, train_label_loss: 0.0712, \n"
     ]
    },
    {
     "name": "stdout",
     "output_type": "stream",
     "text": [
      "epoch: 6, [batch: 3360 / 33600], examples_per_second: 3226.8717, train_label_loss: 0.2124, \n"
     ]
    },
    {
     "name": "stdout",
     "output_type": "stream",
     "text": [
      "epoch: 6, [batch: 6720 / 33600], examples_per_second: 3224.2121, train_label_loss: 0.1412, \n"
     ]
    },
    {
     "name": "stdout",
     "output_type": "stream",
     "text": [
      "epoch: 6, [batch: 10080 / 33600], examples_per_second: 3233.9965, train_label_loss: 0.2928, \n"
     ]
    },
    {
     "name": "stdout",
     "output_type": "stream",
     "text": [
      "epoch: 6, [batch: 13440 / 33600], examples_per_second: 3210.2506, train_label_loss: 0.3362, \n"
     ]
    },
    {
     "name": "stdout",
     "output_type": "stream",
     "text": [
      "epoch: 6, [batch: 16800 / 33600], examples_per_second: 3214.7818, train_label_loss: 0.0781, \n"
     ]
    },
    {
     "name": "stdout",
     "output_type": "stream",
     "text": [
      "epoch: 6, [batch: 20160 / 33600], examples_per_second: 3236.8934, train_label_loss: 0.1392, \n"
     ]
    },
    {
     "name": "stdout",
     "output_type": "stream",
     "text": [
      "epoch: 6, [batch: 23520 / 33600], examples_per_second: 3219.3834, train_label_loss: 0.2036, \n"
     ]
    },
    {
     "name": "stdout",
     "output_type": "stream",
     "text": [
      "epoch: 6, [batch: 26880 / 33600], examples_per_second: 3228.7791, train_label_loss: 0.1269, \n"
     ]
    },
    {
     "name": "stdout",
     "output_type": "stream",
     "text": [
      "epoch: 6, [batch: 30240 / 33600], examples_per_second: 3231.5092, train_label_loss: 0.2084, \n"
     ]
    },
    {
     "name": "stdout",
     "output_type": "stream",
     "text": [
      "=============================================================\n",
      "epoch: 6, source_val_acc_label: 0.8827, target_val_acc_label: 0.8678, source_val_label_loss: 0.3210, target_val_label_loss: 0.4424, \n",
      "=============================================================\n"
     ]
    },
    {
     "name": "stdout",
     "output_type": "stream",
     "text": [
      "epoch: 7, [batch: 1 / 33600], examples_per_second: 0.9729, train_label_loss: 0.3673, \n"
     ]
    },
    {
     "name": "stdout",
     "output_type": "stream",
     "text": [
      "epoch: 7, [batch: 3360 / 33600], examples_per_second: 3232.9774, train_label_loss: 0.5196, \n"
     ]
    },
    {
     "name": "stdout",
     "output_type": "stream",
     "text": [
      "epoch: 7, [batch: 6720 / 33600], examples_per_second: 3243.8725, train_label_loss: 0.3103, \n"
     ]
    },
    {
     "name": "stdout",
     "output_type": "stream",
     "text": [
      "epoch: 7, [batch: 10080 / 33600], examples_per_second: 3233.1275, train_label_loss: 0.2147, \n"
     ]
    },
    {
     "name": "stdout",
     "output_type": "stream",
     "text": [
      "epoch: 7, [batch: 13440 / 33600], examples_per_second: 3217.9896, train_label_loss: 0.1943, \n"
     ]
    },
    {
     "name": "stdout",
     "output_type": "stream",
     "text": [
      "epoch: 7, [batch: 16800 / 33600], examples_per_second: 3230.1032, train_label_loss: 0.3912, \n"
     ]
    },
    {
     "name": "stdout",
     "output_type": "stream",
     "text": [
      "epoch: 7, [batch: 20160 / 33600], examples_per_second: 3226.1084, train_label_loss: 0.1226, \n"
     ]
    },
    {
     "name": "stdout",
     "output_type": "stream",
     "text": [
      "epoch: 7, [batch: 23520 / 33600], examples_per_second: 3213.0358, train_label_loss: 0.1702, \n"
     ]
    },
    {
     "name": "stdout",
     "output_type": "stream",
     "text": [
      "epoch: 7, [batch: 26880 / 33600], examples_per_second: 3241.6738, train_label_loss: 0.1793, \n"
     ]
    },
    {
     "name": "stdout",
     "output_type": "stream",
     "text": [
      "epoch: 7, [batch: 30240 / 33600], examples_per_second: 3228.9011, train_label_loss: 0.3009, \n"
     ]
    },
    {
     "name": "stdout",
     "output_type": "stream",
     "text": [
      "=============================================================\n",
      "epoch: 7, source_val_acc_label: 0.8840, target_val_acc_label: 0.8627, source_val_label_loss: 0.3249, target_val_label_loss: 0.4565, \n",
      "=============================================================\n"
     ]
    },
    {
     "name": "stdout",
     "output_type": "stream",
     "text": [
      "epoch: 8, [batch: 1 / 33600], examples_per_second: 0.9764, train_label_loss: 0.1333, \n"
     ]
    },
    {
     "name": "stdout",
     "output_type": "stream",
     "text": [
      "epoch: 8, [batch: 3360 / 33600], examples_per_second: 3228.8788, train_label_loss: 0.1623, \n"
     ]
    },
    {
     "name": "stdout",
     "output_type": "stream",
     "text": [
      "epoch: 8, [batch: 6720 / 33600], examples_per_second: 3232.8193, train_label_loss: 0.2000, \n"
     ]
    },
    {
     "name": "stdout",
     "output_type": "stream",
     "text": [
      "epoch: 8, [batch: 10080 / 33600], examples_per_second: 3232.4329, train_label_loss: 0.1523, \n"
     ]
    },
    {
     "name": "stdout",
     "output_type": "stream",
     "text": [
      "epoch: 8, [batch: 13440 / 33600], examples_per_second: 3224.5288, train_label_loss: 0.1839, \n"
     ]
    },
    {
     "name": "stdout",
     "output_type": "stream",
     "text": [
      "epoch: 8, [batch: 16800 / 33600], examples_per_second: 3234.1627, train_label_loss: 0.1123, \n"
     ]
    },
    {
     "name": "stdout",
     "output_type": "stream",
     "text": [
      "epoch: 8, [batch: 20160 / 33600], examples_per_second: 3242.6847, train_label_loss: 0.1664, \n"
     ]
    },
    {
     "name": "stdout",
     "output_type": "stream",
     "text": [
      "epoch: 8, [batch: 23520 / 33600], examples_per_second: 3221.7895, train_label_loss: 0.1309, \n"
     ]
    },
    {
     "name": "stdout",
     "output_type": "stream",
     "text": [
      "epoch: 8, [batch: 26880 / 33600], examples_per_second: 3231.2534, train_label_loss: 0.0952, \n"
     ]
    },
    {
     "name": "stdout",
     "output_type": "stream",
     "text": [
      "epoch: 8, [batch: 30240 / 33600], examples_per_second: 3231.5089, train_label_loss: 0.3169, \n"
     ]
    },
    {
     "name": "stdout",
     "output_type": "stream",
     "text": [
      "=============================================================\n",
      "epoch: 8, source_val_acc_label: 0.8860, target_val_acc_label: 0.8661, source_val_label_loss: 0.3213, target_val_label_loss: 0.4771, \n",
      "=============================================================\n"
     ]
    },
    {
     "name": "stdout",
     "output_type": "stream",
     "text": [
      "Patience (3) exhausted\n"
     ]
    }
   ],
   "source": [
    "###################################\n",
    "# train\n",
    "###################################\n",
    "jig = PTN_Train_Eval_Test_Jig(model, p.BEST_MODEL_PATH, p.device)\n",
    "\n",
    "jig.train(\n",
    "    train_iterable=datasets.source.processed.train,\n",
    "    source_val_iterable=datasets.source.processed.val,\n",
    "    target_val_iterable=datasets.target.processed.val,\n",
    "    num_epochs=p.n_epoch,\n",
    "    num_logs_per_epoch=p.NUM_LOGS_PER_EPOCH,\n",
    "    patience=p.patience,\n",
    "    optimizer=optimizer,\n",
    "    criteria_for_best=p.criteria_for_best,\n",
    ")"
   ]
  },
  {
   "cell_type": "code",
   "execution_count": 23,
   "id": "31e8fabf",
   "metadata": {
    "execution": {
     "iopub.execute_input": "2022-03-10T13:55:57.036689Z",
     "iopub.status.busy": "2022-03-10T13:55:57.036435Z",
     "iopub.status.idle": "2022-03-10T13:55:57.054243Z",
     "shell.execute_reply": "2022-03-10T13:55:57.053853Z"
    },
    "papermill": {
     "duration": 0.050499,
     "end_time": "2022-03-10T13:55:57.054332",
     "exception": false,
     "start_time": "2022-03-10T13:55:57.003833",
     "status": "completed"
    },
    "tags": []
   },
   "outputs": [],
   "source": [
    "total_experiment_time_secs = time.time() - start_time_secs"
   ]
  },
  {
   "cell_type": "code",
   "execution_count": 24,
   "id": "87b9595b",
   "metadata": {
    "execution": {
     "iopub.execute_input": "2022-03-10T13:55:57.126494Z",
     "iopub.status.busy": "2022-03-10T13:55:57.126202Z",
     "iopub.status.idle": "2022-03-10T14:03:51.666224Z",
     "shell.execute_reply": "2022-03-10T14:03:51.666623Z"
    },
    "papermill": {
     "duration": 474.57627,
     "end_time": "2022-03-10T14:03:51.666745",
     "exception": false,
     "start_time": "2022-03-10T13:55:57.090475",
     "status": "completed"
    },
    "tags": []
   },
   "outputs": [],
   "source": [
    "###################################\n",
    "# Evaluate the model\n",
    "###################################\n",
    "source_test_label_accuracy, source_test_label_loss = jig.test(datasets.source.processed.test)\n",
    "target_test_label_accuracy, target_test_label_loss = jig.test(datasets.target.processed.test)\n",
    "\n",
    "source_val_label_accuracy, source_val_label_loss = jig.test(datasets.source.processed.val)\n",
    "target_val_label_accuracy, target_val_label_loss = jig.test(datasets.target.processed.val)\n",
    "\n",
    "history = jig.get_history()\n",
    "\n",
    "total_epochs_trained = len(history[\"epoch_indices\"])\n",
    "\n",
    "val_dl = Iterable_Aggregator((datasets.source.original.val,datasets.target.original.val))\n",
    "\n",
    "confusion = ptn_confusion_by_domain_over_dataloader(model, p.device, val_dl)\n",
    "per_domain_accuracy = per_domain_accuracy_from_confusion(confusion)\n",
    "\n",
    "# Add a key to per_domain_accuracy for if it was a source domain\n",
    "for domain, accuracy in per_domain_accuracy.items():\n",
    "    per_domain_accuracy[domain] = {\n",
    "        \"accuracy\": accuracy,\n",
    "        \"source?\": domain in p.domains_source\n",
    "    }\n",
    "\n",
    "# Do an independent accuracy assesment JUST TO BE SURE!\n",
    "# _source_test_label_accuracy = independent_accuracy_assesment(model, datasets.source.processed.test, p.device)\n",
    "# _target_test_label_accuracy = independent_accuracy_assesment(model, datasets.target.processed.test, p.device)\n",
    "# _source_val_label_accuracy = independent_accuracy_assesment(model, datasets.source.processed.val, p.device)\n",
    "# _target_val_label_accuracy = independent_accuracy_assesment(model, datasets.target.processed.val, p.device)\n",
    "\n",
    "# assert(_source_test_label_accuracy == source_test_label_accuracy)\n",
    "# assert(_target_test_label_accuracy == target_test_label_accuracy)\n",
    "# assert(_source_val_label_accuracy == source_val_label_accuracy)\n",
    "# assert(_target_val_label_accuracy == target_val_label_accuracy)\n",
    "\n",
    "experiment = {\n",
    "    \"experiment_name\": p.experiment_name,\n",
    "    \"parameters\": dict(p),\n",
    "    \"results\": {\n",
    "        \"source_test_label_accuracy\": source_test_label_accuracy,\n",
    "        \"source_test_label_loss\": source_test_label_loss,\n",
    "        \"target_test_label_accuracy\": target_test_label_accuracy,\n",
    "        \"target_test_label_loss\": target_test_label_loss,\n",
    "        \"source_val_label_accuracy\": source_val_label_accuracy,\n",
    "        \"source_val_label_loss\": source_val_label_loss,\n",
    "        \"target_val_label_accuracy\": target_val_label_accuracy,\n",
    "        \"target_val_label_loss\": target_val_label_loss,\n",
    "        \"total_epochs_trained\": total_epochs_trained,\n",
    "        \"total_experiment_time_secs\": total_experiment_time_secs,\n",
    "        \"confusion\": confusion,\n",
    "        \"per_domain_accuracy\": per_domain_accuracy,\n",
    "    },\n",
    "    \"history\": history,\n",
    "    \"dataset_metrics\": get_dataset_metrics(datasets, \"ptn\"),\n",
    "}"
   ]
  },
  {
   "cell_type": "code",
   "execution_count": 25,
   "id": "54a21829",
   "metadata": {
    "execution": {
     "iopub.execute_input": "2022-03-10T14:03:51.733999Z",
     "iopub.status.busy": "2022-03-10T14:03:51.733745Z",
     "iopub.status.idle": "2022-03-10T14:03:51.905701Z",
     "shell.execute_reply": "2022-03-10T14:03:51.905249Z"
    },
    "papermill": {
     "duration": 0.20415,
     "end_time": "2022-03-10T14:03:51.905793",
     "exception": false,
     "start_time": "2022-03-10T14:03:51.701643",
     "status": "completed"
    },
    "tags": []
   },
   "outputs": [
    {
     "data": {
      "image/png": "[encoded data removed]",
      "text/plain": [
       "<Figure size 1080x504 with 1 Axes>"
      ]
     },
     "metadata": {
      "needs_background": "light"
     },
     "output_type": "display_data"
    }
   ],
   "source": [
    "ax = get_loss_curve(experiment)\n",
    "plt.show()"
   ]
  },
  {
   "cell_type": "code",
   "execution_count": 26,
   "id": "fd8a0f60",
   "metadata": {
    "execution": {
     "iopub.execute_input": "2022-03-10T14:03:51.977494Z",
     "iopub.status.busy": "2022-03-10T14:03:51.977246Z",
     "iopub.status.idle": "2022-03-10T14:03:52.157781Z",
     "shell.execute_reply": "2022-03-10T14:03:52.158048Z"
    },
    "papermill": {
     "duration": 0.214906,
     "end_time": "2022-03-10T14:03:52.158126",
     "exception": false,
     "start_time": "2022-03-10T14:03:51.943220",
     "status": "completed"
    },
    "tags": []
   },
   "outputs": [
    {
     "data": {
      "text/plain": [
       "<matplotlib.axes._subplots.AxesSubplot at 0x7fb98c86a1f0>"
      ]
     },
     "execution_count": 26,
     "metadata": {},
     "output_type": "execute_result"
    },
    {
     "data": {
      "image/png": "[encoded data removed]",
      "text/plain": [
       "<Figure size 1080x504 with 1 Axes>"
      ]
     },
     "metadata": {
      "needs_background": "light"
     },
     "output_type": "display_data"
    }
   ],
   "source": [
    "get_results_table(experiment)"
   ]
  },
  {
   "cell_type": "code",
   "execution_count": 27,
   "id": "cf8dc689",
   "metadata": {
    "execution": {
     "iopub.execute_input": "2022-03-10T14:03:52.232055Z",
     "iopub.status.busy": "2022-03-10T14:03:52.231808Z",
     "iopub.status.idle": "2022-03-10T14:03:52.447726Z",
     "shell.execute_reply": "2022-03-10T14:03:52.447323Z"
    },
    "papermill": {
     "duration": 0.250721,
     "end_time": "2022-03-10T14:03:52.447824",
     "exception": false,
     "start_time": "2022-03-10T14:03:52.197103",
     "status": "completed"
    },
    "tags": []
   },
   "outputs": [
    {
     "data": {
      "text/plain": [
       "<matplotlib.axes._subplots.AxesSubplot at 0x7fb98c854e20>"
      ]
     },
     "execution_count": 27,
     "metadata": {},
     "output_type": "execute_result"
    },
    {
     "data": {
      "image/png": "[encoded data removed]",
      "text/plain": [
       "<Figure size 1080x504 with 1 Axes>"
      ]
     },
     "metadata": {
      "needs_background": "light"
     },
     "output_type": "display_data"
    }
   ],
   "source": [
    "get_domain_accuracies(experiment)"
   ]
  },
  {
   "cell_type": "code",
   "execution_count": 28,
   "id": "a74ae082",
   "metadata": {
    "execution": {
     "iopub.execute_input": "2022-03-10T14:03:52.522853Z",
     "iopub.status.busy": "2022-03-10T14:03:52.522588Z",
     "iopub.status.idle": "2022-03-10T14:03:52.538884Z",
     "shell.execute_reply": "2022-03-10T14:03:52.538428Z"
    },
    "papermill": {
     "duration": 0.05211,
     "end_time": "2022-03-10T14:03:52.538975",
     "exception": false,
     "start_time": "2022-03-10T14:03:52.486865",
     "status": "completed"
    },
    "tags": []
   },
   "outputs": [
    {
     "name": "stdout",
     "output_type": "stream",
     "text": [
      "Source Test Label Accuracy: 0.8783723958333334 Target Test Label Accuracy: 0.8681510416666667\n",
      "Source Val Label Accuracy: 0.87849609375 Target Val Label Accuracy: 0.86931640625\n"
     ]
    }
   ],
   "source": [
    "print(\"Source Test Label Accuracy:\", experiment[\"results\"][\"source_test_label_accuracy\"], \"Target Test Label Accuracy:\", experiment[\"results\"][\"target_test_label_accuracy\"])\n",
    "print(\"Source Val Label Accuracy:\", experiment[\"results\"][\"source_val_label_accuracy\"], \"Target Val Label Accuracy:\", experiment[\"results\"][\"target_val_label_accuracy\"])"
   ]
  },
  {
   "cell_type": "code",
   "execution_count": 29,
   "id": "dacca602",
   "metadata": {
    "execution": {
     "iopub.execute_input": "2022-03-10T14:03:52.609842Z",
     "iopub.status.busy": "2022-03-10T14:03:52.609593Z",
     "iopub.status.idle": "2022-03-10T14:03:52.621612Z",
     "shell.execute_reply": "2022-03-10T14:03:52.621165Z"
    },
    "papermill": {
     "duration": 0.047093,
     "end_time": "2022-03-10T14:03:52.621701",
     "exception": false,
     "start_time": "2022-03-10T14:03:52.574608",
     "status": "completed"
    },
    "tags": [
     "experiment_json"
    ]
   },
   "outputs": [
    {
     "data": {
      "text/plain": [
       "'{\"experiment_name\": \"tl_1_oracle.run1-oracle.run2\", \"parameters\": {\"experiment_name\": \"tl_1_oracle.run1-oracle.run2\", \"device\": \"cuda\", \"lr\": 0.001, \"seed\": 1337, \"dataset_seed\": 1337, \"n_shot\": 3, \"n_query\": 2, \"train_k_factor\": 3, \"val_k_factor\": 2, \"test_k_factor\": 2, \"torch_default_dtype\": \"torch.float32\", \"n_epoch\": 50, \"patience\": 3, \"criteria_for_best\": \"target_loss\", \"x_net\": [{\"class\": \"nnReshape\", \"kargs\": {\"shape\": [-1, 1, 2, 256]}}, {\"class\": \"Conv2d\", \"kargs\": {\"in_channels\": 1, \"out_channels\": 256, \"kernel_size\": [1, 7], \"bias\": false, \"padding\": [0, 3]}}, {\"class\": \"ReLU\", \"kargs\": {\"inplace\": true}}, {\"class\": \"BatchNorm2d\", \"kargs\": {\"num_features\": 256}}, {\"class\": \"Conv2d\", \"kargs\": {\"in_channels\": 256, \"out_channels\": 80, \"kernel_size\": [2, 7], \"bias\": true, \"padding\": [0, 3]}}, {\"class\": \"ReLU\", \"kargs\": {\"inplace\": true}}, {\"class\": \"BatchNorm2d\", \"kargs\": {\"num_features\": 80}}, {\"class\": \"Flatten\", \"kargs\": {}}, {\"class\": \"Linear\", \"kargs\": {\"in_features\": 20480, \"out_features\": 256}}, {\"class\": \"ReLU\", \"kargs\": {\"inplace\": true}}, {\"class\": \"BatchNorm1d\", \"kargs\": {\"num_features\": 256}}, {\"class\": \"Linear\", \"kargs\": {\"in_features\": 256, \"out_features\": 256}}], \"NUM_LOGS_PER_EPOCH\": 10, \"BEST_MODEL_PATH\": \"./best_model.pth\", \"n_way\": 16, \"datasets\": [{\"labels\": [\"3123D52\", \"3123D65\", \"3123D79\", \"3123D80\", \"3123D54\", \"3123D70\", \"3123D7B\", \"3123D89\", \"3123D58\", \"3123D76\", \"3123D7D\", \"3123EFE\", \"3123D64\", \"3123D78\", \"3123D7E\", \"3124E4A\"], \"domains\": [32, 38, 8, 44, 14, 50, 20, 26], \"num_examples_per_domain_per_label\": 10000, \"pickle_path\": \"/mnt/wd500GB/CSC500/csc500-main/datasets/oracle.Run1_10kExamples_stratified_ds.2022A.pkl\", \"source_or_target_dataset\": \"source\", \"x_transforms\": [], \"episode_transforms\": [], \"domain_prefix\": \"ORACLE.run1_\"}, {\"labels\": [\"3123D52\", \"3123D65\", \"3123D79\", \"3123D80\", \"3123D54\", \"3123D70\", \"3123D7B\", \"3123D89\", \"3123D58\", \"3123D76\", \"3123D7D\", \"3123EFE\", \"3123D64\", \"3123D78\", \"3123D7E\", \"3124E4A\"], \"domains\": [32, 38, 8, 44, 14, 50, 20, 26], \"num_examples_per_domain_per_label\": 10000, \"pickle_path\": \"/mnt/wd500GB/CSC500/csc500-main/datasets/oracle.Run2_10kExamples_stratified_ds.2022A.pkl\", \"source_or_target_dataset\": \"target\", \"x_transforms\": [], \"episode_transforms\": [], \"domain_prefix\": \"ORACLE.run2_\"}], \"domains_source\": [\"ORACLE.run1_32\", \"ORACLE.run1_38\", \"ORACLE.run1_8\", \"ORACLE.run1_44\", \"ORACLE.run1_14\", \"ORACLE.run1_50\", \"ORACLE.run1_20\", \"ORACLE.run1_26\"], \"domains_target\": [\"ORACLE.run2_32\", \"ORACLE.run2_38\", \"ORACLE.run2_8\", \"ORACLE.run2_44\", \"ORACLE.run2_14\", \"ORACLE.run2_50\", \"ORACLE.run2_20\", \"ORACLE.run2_26\"]}, \"results\": {\"source_test_label_accuracy\": 0.8783723958333334, \"source_test_label_loss\": 0.3367881178855896, \"target_test_label_accuracy\": 0.8681510416666667, \"target_test_label_loss\": 0.4225012958049774, \"source_val_label_accuracy\": 0.87849609375, \"source_val_label_loss\": 0.337140828371048, \"target_val_label_accuracy\": 0.86931640625, \"target_val_label_loss\": 0.4323471188545227, \"total_epochs_trained\": 8, \"total_experiment_time_secs\": 7355.59139919281, \"confusion\": {\"ORACLE.run1_14\": {\"15\": {\"15\": 1200}, \"3\": {\"3\": 1172, \"14\": 18, \"5\": 1, \"0\": 6, \"2\": 3}, \"6\": {\"6\": 801, \"13\": 299, \"2\": 37, \"14\": 63}, \"1\": {\"1\": 1200}, \"8\": {\"8\": 1200}, \"10\": {\"10\": 1200}, \"9\": {\"9\": 1200}, \"13\": {\"14\": 224, \"6\": 440, \"2\": 67, \"13\": 463, \"5\": 1, \"3\": 2, \"4\": 2, \"15\": 1}, \"12\": {\"12\": 1200}, \"5\": {\"5\": 1103, \"2\": 67, \"7\": 15, \"3\": 4, \"4\": 11}, \"0\": {\"14\": 2, \"0\": 1153, \"3\": 36, \"10\": 8, \"4\": 1}, \"2\": {\"2\": 709, \"14\": 128, \"5\": 169, \"4\": 42, \"6\": 66, \"3\": 36, \"13\": 44, \"7\": 6}, \"11\": {\"11\": 1200}, \"14\": {\"14\": 1011, \"13\": 89, \"2\": 42, \"6\": 37, \"3\": 21}, \"7\": {\"7\": 1190, \"5\": 9, \"2\": 1}, \"4\": {\"4\": 1186, \"5\": 13, \"2\": 1}}, \"ORACLE.run1_20\": {\"3\": {\"3\": 858, \"9\": 133, \"5\": 132, \"8\": 59, \"1\": 11, \"0\": 7}, \"15\": {\"15\": 983, \"12\": 129, \"2\": 10, \"1\": 62, \"9\": 6, \"13\": 9, \"5\": 1}, \"8\": {\"8\": 1113, \"3\": 34, \"14\": 53}, \"4\": {\"4\": 1147, \"12\": 37, \"2\": 8, \"10\": 5, \"7\": 3}, \"14\": {\"14\": 1164, \"8\": 35, \"3\": 1}, \"0\": {\"0\": 1182, \"3\": 7, \"5\": 6, \"8\": 5}, \"7\": {\"7\": 1040, \"2\": 87, \"9\": 50, \"6\": 13, \"4\": 7, \"12\": 2, \"8\": 1}, \"6\": {\"7\": 12, \"6\": 1188}, \"10\": {\"10\": 1198, \"4\": 2}, \"5\": {\"5\": 881, \"1\": 210, \"9\": 13, \"3\": 96}, \"2\": {\"2\": 883, \"12\": 185, \"7\": 87, \"13\": 12, \"9\": 12, \"4\": 16, \"15\": 5}, \"12\": {\"2\": 140, \"12\": 932, \"15\": 100, \"4\": 21, \"7\": 2, \"9\": 4, \"13\": 1}, \"9\": {\"9\": 994, \"1\": 70, \"7\": 49, \"3\": 59, \"12\": 1, \"2\": 5, \"5\": 19, \"15\": 3}, \"1\": {\"1\": 919, \"3\": 9, \"9\": 51, \"5\": 202, \"15\": 19}, \"11\": {\"11\": 1200}, \"13\": {\"13\": 1179, \"12\": 12, \"15\": 4, \"2\": 5}}, \"ORACLE.run1_38\": {\"5\": {\"8\": 387, \"5\": 601, \"15\": 41, \"9\": 71, \"0\": 4, \"7\": 96}, \"8\": {\"8\": 736, \"5\": 384, \"15\": 10, \"7\": 63, \"0\": 6, \"9\": 1}, \"11\": {\"11\": 1200}, \"1\": {\"1\": 1200}, \"10\": {\"10\": 1108, \"0\": 34, \"13\": 54, \"4\": 4}, \"15\": {\"15\": 1165, \"8\": 11, \"5\": 18, \"1\": 5, \"2\": 1}, \"3\": {\"3\": 1199, \"0\": 1}, \"7\": {\"7\": 1169, \"5\": 7, \"8\": 9, \"0\": 13, \"9\": 2}, \"4\": {\"4\": 1197, \"10\": 3}, \"14\": {\"14\": 1122, \"2\": 73, \"13\": 5}, \"9\": {\"9\": 1184, \"5\": 15, \"8\": 1}, \"12\": {\"12\": 1198, \"14\": 2}, \"6\": {\"6\": 1199, \"1\": 1}, \"2\": {\"2\": 1145, \"14\": 52, \"13\": 3}, \"0\": {\"0\": 957, \"7\": 90, \"10\": 81, \"8\": 8, \"3\": 18, \"13\": 39, \"5\": 5, \"4\": 1, \"9\": 1}, \"13\": {\"13\": 1124, \"10\": 60, \"0\": 10, \"2\": 6}}, \"ORACLE.run1_8\": {\"9\": {\"9\": 1200}, \"10\": {\"10\": 996, \"13\": 132, \"5\": 32, \"6\": 5, \"1\": 28, \"4\": 7}, \"13\": {\"13\": 1000, \"10\": 119, \"6\": 21, \"7\": 59, \"5\": 1}, \"0\": {\"0\": 1200}, \"1\": {\"11\": 192, \"1\": 948, \"5\": 24, \"10\": 29, \"6\": 3, \"13\": 1, \"4\": 3}, \"15\": {\"15\": 1037, \"12\": 155, \"2\": 8}, \"5\": {\"5\": 1004, \"14\": 10, \"10\": 86, \"1\": 78, \"11\": 21, \"4\": 1}, \"3\": {\"3\": 1200}, \"6\": {\"7\": 126, \"6\": 1058, \"13\": 11, \"8\": 2, \"10\": 2, \"4\": 1}, \"11\": {\"4\": 17, \"11\": 677, \"1\": 401, \"14\": 52, \"5\": 17, \"6\": 11, \"8\": 21, \"10\": 3, \"13\": 1}, \"8\": {\"8\": 1186, \"6\": 10, \"4\": 4}, \"4\": {\"4\": 1176, \"14\": 14, \"6\": 7, \"11\": 2, \"10\": 1}, \"12\": {\"12\": 943, \"15\": 253, \"2\": 4}, \"14\": {\"14\": 1147, \"4\": 46, \"11\": 7}, \"2\": {\"2\": 948, \"3\": 122, \"15\": 70, \"12\": 60}, \"7\": {\"7\": 1065, \"6\": 120, \"13\": 15}}, \"ORACLE.run1_50\": {\"7\": {\"7\": 1113, \"4\": 19, \"5\": 68}, \"3\": {\"3\": 1200}, \"8\": {\"8\": 1199, \"10\": 1}, \"2\": {\"2\": 1159, \"0\": 41}, \"14\": {\"14\": 1200}, \"4\": {\"4\": 987, \"6\": 16, \"15\": 57, \"7\": 101, \"5\": 39}, \"6\": {\"6\": 1084, \"5\": 70, \"15\": 42, \"4\": 4}, \"15\": {\"15\": 1138, \"11\": 10, \"6\": 50, \"4\": 2}, \"10\": {\"10\": 1193, \"0\": 2, \"8\": 5}, \"11\": {\"11\": 1141, \"9\": 28, \"15\": 15, \"12\": 16}, \"13\": {\"13\": 1195, \"1\": 2, \"6\": 1, \"5\": 2}, \"9\": {\"9\": 1037, \"11\": 98, \"12\": 65}, \"0\": {\"0\": 1158, \"2\": 37, \"10\": 5}, \"1\": {\"1\": 1179, \"0\": 5, \"13\": 11, \"10\": 3, \"11\": 1, \"5\": 1}, \"12\": {\"12\": 1153, \"11\": 12, \"9\": 35}, \"5\": {\"6\": 230, \"5\": 638, \"7\": 230, \"1\": 6, \"13\": 21, \"4\": 65, \"15\": 10}}, \"ORACLE.run1_32\": {\"8\": {\"8\": 970, \"5\": 82, \"14\": 19, \"0\": 112, \"7\": 14, \"2\": 1, \"4\": 2}, \"14\": {\"7\": 244, \"14\": 840, \"0\": 52, \"2\": 14, \"8\": 27, \"5\": 20, \"13\": 1, \"3\": 2}, \"2\": {\"2\": 1108, \"4\": 89, \"0\": 3}, \"0\": {\"7\": 131, \"0\": 907, \"5\": 58, \"8\": 76, \"14\": 27, \"2\": 1}, \"1\": {\"1\": 1200}, \"10\": {\"10\": 1200}, \"11\": {\"11\": 1196, \"13\": 4}, \"5\": {\"5\": 768, \"8\": 100, \"7\": 219, \"0\": 71, \"14\": 42}, \"15\": {\"15\": 1192, \"8\": 6, \"5\": 2}, \"3\": {\"3\": 1162, \"13\": 38}, \"12\": {\"12\": 1200}, \"7\": {\"7\": 833, \"0\": 86, \"5\": 157, \"14\": 116, \"8\": 8}, \"13\": {\"13\": 968, \"3\": 95, \"4\": 123, \"11\": 14}, \"6\": {\"6\": 1200}, \"4\": {\"13\": 37, \"4\": 1061, \"2\": 102}, \"9\": {\"9\": 1197, \"12\": 3}}, \"ORACLE.run1_26\": {\"4\": {\"4\": 1187, \"3\": 8, \"13\": 1, \"7\": 2, \"2\": 1, \"9\": 1}, \"12\": {\"12\": 1200}, \"10\": {\"10\": 777, \"0\": 134, \"6\": 42, \"15\": 35, \"14\": 202, \"1\": 8, \"5\": 2}, \"0\": {\"8\": 53, \"14\": 130, \"0\": 801, \"10\": 199, \"15\": 9, \"7\": 3, \"2\": 1, \"1\": 2, \"9\": 2}, \"13\": {\"13\": 1102, \"9\": 59, \"3\": 13, \"2\": 25, \"7\": 1}, \"9\": {\"9\": 882, \"8\": 239, \"13\": 40, \"2\": 26, \"7\": 12, \"3\": 1}, \"3\": {\"3\": 1082, \"7\": 94, \"2\": 22, \"9\": 1, \"13\": 1}, \"2\": {\"2\": 673, \"3\": 162, \"8\": 68, \"9\": 69, \"7\": 210, \"0\": 7, \"13\": 10, \"14\": 1}, \"5\": {\"5\": 1003, \"15\": 163, \"6\": 33, \"1\": 1}, \"14\": {\"14\": 883, \"10\": 204, \"1\": 38, \"0\": 64, \"6\": 3, \"15\": 8}, \"8\": {\"8\": 870, \"9\": 169, \"7\": 133, \"0\": 7, \"2\": 20, \"13\": 1}, \"7\": {\"7\": 863, \"8\": 102, \"2\": 149, \"9\": 19, \"3\": 64, \"4\": 3}, \"6\": {\"6\": 1058, \"15\": 75, \"5\": 26, \"10\": 37, \"1\": 3, \"14\": 1}, \"11\": {\"11\": 1200}, \"15\": {\"15\": 768, \"6\": 129, \"5\": 254, \"0\": 5, \"10\": 32, \"1\": 7, \"14\": 4, \"2\": 1}, \"1\": {\"1\": 1016, \"14\": 134, \"10\": 26, \"6\": 17, \"5\": 2, \"15\": 4, \"0\": 1}}, \"ORACLE.run1_44\": {\"12\": {\"12\": 1180, \"3\": 20}, \"7\": {\"7\": 1072, \"9\": 104, \"10\": 20, \"6\": 4}, \"5\": {\"5\": 1099, \"14\": 34, \"15\": 57, \"4\": 6, \"8\": 4}, \"15\": {\"15\": 1083, \"14\": 46, \"5\": 41, \"4\": 6, \"8\": 22, \"0\": 2}, \"8\": {\"8\": 849, \"0\": 284, \"15\": 50, \"5\": 17}, \"2\": {\"2\": 1162, \"1\": 35, \"10\": 2, \"7\": 1}, \"13\": {\"13\": 995, \"6\": 175, \"11\": 16, \"9\": 14}, \"4\": {\"4\": 845, \"14\": 325, \"9\": 3, \"15\": 19, \"5\": 4, \"13\": 4}, \"0\": {\"0\": 1009, \"8\": 190, \"15\": 1}, \"6\": {\"6\": 1007, \"13\": 142, \"9\": 49, \"7\": 2}, \"9\": {\"9\": 621, \"6\": 172, \"7\": 316, \"13\": 86, \"2\": 5}, \"11\": {\"11\": 1199, \"13\": 1}, \"10\": {\"10\": 1124, \"1\": 24, \"2\": 30, \"7\": 22}, \"14\": {\"14\": 898, \"4\": 213, \"5\": 51, \"15\": 38}, \"1\": {\"1\": 1140, \"2\": 60}, \"3\": {\"3\": 1175, \"12\": 25}}, \"ORACLE.run2_14\": {\"15\": {\"15\": 1200}, \"3\": {\"3\": 1171, \"14\": 11, \"2\": 16, \"5\": 2}, \"6\": {\"13\": 269, \"6\": 902, \"14\": 23, \"2\": 6}, \"1\": {\"1\": 1200}, \"8\": {\"8\": 1200}, \"10\": {\"10\": 1077, \"0\": 115, \"14\": 8}, \"9\": {\"9\": 1200}, \"13\": {\"13\": 903, \"6\": 278, \"2\": 10, \"14\": 9}, \"12\": {\"12\": 543, \"10\": 168, \"9\": 325, \"8\": 6, \"1\": 9, \"11\": 64, \"0\": 47, \"15\": 28, \"3\": 10}, \"5\": {\"5\": 1085, \"2\": 105, \"14\": 5, \"4\": 3, \"7\": 1, \"3\": 1}, \"0\": {\"0\": 1188, \"10\": 12}, \"2\": {\"2\": 553, \"3\": 73, \"14\": 238, \"5\": 268, \"13\": 35, \"6\": 18, \"7\": 2, \"4\": 13}, \"11\": {\"11\": 1200}, \"14\": {\"14\": 861, \"2\": 207, \"13\": 43, \"6\": 46, \"3\": 23, \"5\": 19, \"10\": 1}, \"7\": {\"7\": 1199, \"5\": 1}, \"4\": {\"4\": 1199, \"5\": 1}}, \"ORACLE.run2_20\": {\"3\": {\"7\": 186, \"3\": 531, \"9\": 173, \"5\": 82, \"15\": 56, \"2\": 120, \"4\": 52}, \"15\": {\"15\": 813, \"9\": 213, \"3\": 22, \"2\": 97, \"5\": 13, \"12\": 11, \"4\": 12, \"13\": 12, \"1\": 5, \"7\": 2}, \"8\": {\"8\": 1078, \"0\": 12, \"14\": 110}, \"4\": {\"4\": 1091, \"3\": 52, \"15\": 11, \"9\": 22, \"2\": 7, \"7\": 11, \"5\": 6}, \"14\": {\"14\": 1044, \"8\": 156}, \"0\": {\"0\": 1194, \"1\": 3, \"8\": 3}, \"7\": {\"7\": 1058, \"3\": 120, \"6\": 7, \"9\": 3, \"4\": 7, \"2\": 2, \"15\": 2, \"10\": 1}, \"6\": {\"6\": 1170, \"10\": 17, \"7\": 13}, \"10\": {\"10\": 1143, \"6\": 35, \"7\": 21, \"12\": 1}, \"5\": {\"2\": 284, \"5\": 590, \"1\": 135, \"15\": 45, \"9\": 88, \"7\": 2, \"3\": 44, \"0\": 6, \"4\": 6}, \"2\": {\"3\": 101, \"5\": 217, \"2\": 546, \"9\": 256, \"15\": 60, \"1\": 11, \"4\": 7, \"7\": 2}, \"12\": {\"13\": 114, \"12\": 1086}, \"9\": {\"9\": 498, \"15\": 172, \"3\": 124, \"2\": 313, \"4\": 8, \"5\": 80, \"7\": 4, \"1\": 1}, \"1\": {\"1\": 1141, \"15\": 3, \"5\": 47, \"0\": 2, \"9\": 4, \"2\": 3}, \"11\": {\"11\": 1199, \"8\": 1}, \"13\": {\"13\": 1079, \"12\": 119, \"15\": 2}}, \"ORACLE.run2_38\": {\"5\": {\"8\": 382, \"5\": 812, \"7\": 4, \"12\": 1, \"2\": 1}, \"8\": {\"8\": 1033, \"5\": 148, \"7\": 16, \"0\": 3}, \"11\": {\"11\": 1200}, \"1\": {\"1\": 1149, \"15\": 49, \"6\": 2}, \"10\": {\"10\": 1125, \"3\": 27, \"13\": 41, \"4\": 6, \"7\": 1}, \"15\": {\"15\": 924, \"1\": 218, \"6\": 44, \"5\": 14}, \"3\": {\"3\": 731, \"13\": 321, \"10\": 123, \"0\": 22, \"11\": 3}, \"7\": {\"7\": 1144, \"0\": 28, \"8\": 27, \"14\": 1}, \"4\": {\"4\": 1196, \"10\": 3, \"7\": 1}, \"14\": {\"14\": 696, \"4\": 30, \"12\": 73, \"2\": 331, \"7\": 57, \"5\": 5, \"8\": 1, \"10\": 5, \"13\": 2}, \"9\": {\"9\": 1199, \"8\": 1}, \"12\": {\"12\": 1187, \"14\": 9, \"5\": 2, \"2\": 2}, \"6\": {\"6\": 1199, \"15\": 1}, \"2\": {\"2\": 1122, \"14\": 77, \"12\": 1}, \"0\": {\"0\": 1170, \"7\": 27, \"8\": 3}, \"13\": {\"13\": 923, \"3\": 212, \"10\": 65}}, \"ORACLE.run2_8\": {\"9\": {\"9\": 1200}, \"10\": {\"10\": 1047, \"5\": 89, \"13\": 62, \"1\": 2}, \"13\": {\"13\": 1136, \"10\": 58, \"7\": 6}, \"0\": {\"0\": 1200}, \"1\": {\"1\": 1097, \"5\": 52, \"13\": 28, \"10\": 19, \"14\": 4}, \"15\": {\"15\": 1187, \"12\": 12, \"2\": 1}, \"5\": {\"1\": 62, \"10\": 130, \"5\": 1008}, \"3\": {\"3\": 1200}, \"6\": {\"6\": 1099, \"14\": 93, \"8\": 3, \"4\": 5}, \"11\": {\"11\": 688, \"7\": 81, \"8\": 395, \"6\": 28, \"14\": 4, \"13\": 1, \"12\": 2, \"4\": 1}, \"8\": {\"8\": 1102, \"11\": 76, \"6\": 19, \"14\": 2, \"4\": 1}, \"4\": {\"6\": 19, \"4\": 990, \"7\": 189, \"10\": 1, \"8\": 1}, \"12\": {\"12\": 1191, \"15\": 9}, \"14\": {\"14\": 1114, \"6\": 85, \"1\": 1}, \"2\": {\"2\": 1199, \"12\": 1}, \"7\": {\"7\": 1079, \"4\": 120, \"13\": 1}}, \"ORACLE.run2_50\": {\"7\": {\"7\": 1119, \"4\": 32, \"5\": 49}, \"3\": {\"3\": 1200}, \"8\": {\"8\": 1200}, \"2\": {\"2\": 1182, \"0\": 18}, \"14\": {\"14\": 1200}, \"4\": {\"4\": 879, \"5\": 235, \"7\": 33, \"6\": 46, \"15\": 7}, \"6\": {\"6\": 1020, \"5\": 103, \"4\": 63, \"15\": 14}, \"15\": {\"15\": 1166, \"6\": 23, \"4\": 9, \"5\": 1, \"11\": 1}, \"10\": {\"10\": 1186, \"13\": 9, \"0\": 5}, \"11\": {\"11\": 1185, \"12\": 13, \"15\": 2}, \"13\": {\"13\": 1198, \"10\": 2}, \"9\": {\"9\": 1193, \"12\": 7}, \"0\": {\"0\": 1179, \"2\": 18, \"10\": 3}, \"1\": {\"1\": 1200}, \"12\": {\"12\": 1184, \"11\": 6, \"9\": 10}, \"5\": {\"4\": 227, \"5\": 838, \"6\": 76, \"7\": 59}}, \"ORACLE.run2_32\": {\"8\": {\"8\": 1089, \"0\": 94, \"2\": 4, \"15\": 3, \"3\": 1, \"7\": 9}, \"14\": {\"14\": 804, \"2\": 371, \"0\": 12, \"8\": 2, \"5\": 8, \"7\": 3}, \"2\": {\"2\": 888, \"8\": 1, \"14\": 263, \"7\": 19, \"0\": 27, \"5\": 2}, \"0\": {\"8\": 107, \"0\": 898, \"14\": 17, \"7\": 121, \"2\": 43, \"4\": 13, \"11\": 1}, \"1\": {\"1\": 1200}, \"10\": {\"10\": 1200}, \"11\": {\"0\": 23, \"11\": 668, \"4\": 228, \"13\": 257, \"7\": 23, \"3\": 1}, \"5\": {\"5\": 1105, \"14\": 23, \"2\": 49, \"15\": 9, \"7\": 12, \"8\": 2}, \"15\": {\"15\": 1199, \"8\": 1}, \"3\": {\"3\": 1178, \"13\": 16, \"4\": 2, \"11\": 4}, \"12\": {\"12\": 1200}, \"7\": {\"7\": 1051, \"2\": 30, \"0\": 106, \"8\": 9, \"14\": 4}, \"13\": {\"3\": 31, \"13\": 997, \"11\": 116, \"4\": 56}, \"6\": {\"6\": 1200}, \"4\": {\"4\": 1063, \"0\": 22, \"11\": 102, \"8\": 1, \"13\": 8, \"3\": 4}, \"9\": {\"9\": 1200}}, \"ORACLE.run2_26\": {\"4\": {\"4\": 1182, \"3\": 15, \"7\": 3}, \"12\": {\"12\": 1200}, \"10\": {\"14\": 242, \"10\": 423, \"15\": 11, \"1\": 40, \"8\": 110, \"0\": 310, \"6\": 47, \"11\": 1, \"9\": 9, \"2\": 5, \"5\": 2}, \"0\": {\"0\": 761, \"10\": 241, \"8\": 30, \"14\": 119, \"15\": 41, \"2\": 8}, \"13\": {\"9\": 120, \"13\": 1054, \"7\": 25, \"2\": 1}, \"9\": {\"13\": 79, \"9\": 869, \"7\": 40, \"8\": 163, \"2\": 48, \"10\": 1}, \"3\": {\"7\": 150, \"3\": 1035, \"2\": 6, \"4\": 9}, \"2\": {\"2\": 769, \"7\": 149, \"15\": 56, \"8\": 166, \"3\": 15, \"9\": 40, \"13\": 4, \"0\": 1}, \"5\": {\"5\": 819, \"6\": 275, \"15\": 63, \"1\": 19, \"0\": 7, \"2\": 4, \"14\": 9, \"10\": 4}, \"14\": {\"14\": 738, \"10\": 163, \"0\": 190, \"1\": 74, \"6\": 22, \"15\": 4, \"5\": 9}, \"8\": {\"2\": 177, \"8\": 840, \"15\": 6, \"9\": 143, \"0\": 10, \"10\": 13, \"7\": 10, \"13\": 1}, \"7\": {\"7\": 749, \"2\": 201, \"9\": 33, \"3\": 170, \"8\": 32, \"13\": 12, \"15\": 1, \"4\": 2}, \"6\": {\"6\": 1057, \"14\": 16, \"5\": 115, \"10\": 9, \"1\": 2, \"0\": 1}, \"11\": {\"11\": 1200}, \"15\": {\"15\": 995, \"2\": 127, \"0\": 34, \"8\": 30, \"3\": 2, \"10\": 7, \"9\": 2, \"7\": 2, \"14\": 1}, \"1\": {\"1\": 1184, \"14\": 4, \"6\": 8, \"5\": 4}}, \"ORACLE.run2_44\": {\"12\": {\"12\": 1104, \"3\": 96}, \"7\": {\"9\": 355, \"7\": 838, \"6\": 3, \"10\": 4}, \"5\": {\"5\": 1144, \"14\": 25, \"8\": 20, \"15\": 10, \"0\": 1}, \"15\": {\"15\": 1128, \"8\": 36, \"4\": 4, \"5\": 15, \"14\": 14, \"0\": 3}, \"8\": {\"8\": 996, \"0\": 164, \"15\": 17, \"5\": 23}, \"2\": {\"2\": 1191, \"1\": 9}, \"13\": {\"13\": 1168, \"6\": 20, \"4\": 12}, \"4\": {\"4\": 1097, \"14\": 103}, \"0\": {\"8\": 294, \"0\": 903, \"15\": 3}, \"6\": {\"6\": 1184, \"7\": 7, \"13\": 6, \"9\": 3}, \"9\": {\"6\": 19, \"7\": 393, \"9\": 788}, \"11\": {\"11\": 1200}, \"10\": {\"10\": 1187, \"7\": 11, \"1\": 1, \"9\": 1}, \"14\": {\"4\": 105, \"14\": 1069, \"5\": 21, \"15\": 4, \"8\": 1}, \"1\": {\"1\": 1186, \"2\": 14}, \"3\": {\"3\": 1111, \"12\": 89}}}, \"per_domain_accuracy\": {\"ORACLE.run1_14\": {\"accuracy\": 0.8952083333333334, \"source?\": true}, \"ORACLE.run1_20\": {\"accuracy\": 0.8781770833333333, \"source?\": true}, \"ORACLE.run1_38\": {\"accuracy\": 0.9116666666666666, \"source?\": true}, \"ORACLE.run1_8\": {\"accuracy\": 0.87421875, \"source?\": true}, \"ORACLE.run1_50\": {\"accuracy\": 0.9257291666666667, \"source?\": true}, \"ORACLE.run1_32\": {\"accuracy\": 0.8855208333333333, \"source?\": true}, \"ORACLE.run1_26\": {\"accuracy\": 0.8002604166666667, \"source?\": true}, \"ORACLE.run1_44\": {\"accuracy\": 0.8571875, \"source?\": true}, \"ORACLE.run2_14\": {\"accuracy\": 0.8688020833333333, \"source?\": false}, \"ORACLE.run2_20\": {\"accuracy\": 0.79484375, \"source?\": false}, \"ORACLE.run2_38\": {\"accuracy\": 0.8755208333333333, \"source?\": false}, \"ORACLE.run2_8\": {\"accuracy\": 0.9133854166666666, \"source?\": false}, \"ORACLE.run2_50\": {\"accuracy\": 0.94421875, \"source?\": false}, \"ORACLE.run2_32\": {\"accuracy\": 0.8822916666666667, \"source?\": false}, \"ORACLE.run2_26\": {\"accuracy\": 0.7747395833333334, \"source?\": false}, \"ORACLE.run2_44\": {\"accuracy\": 0.9007291666666667, \"source?\": false}}}, \"history\": {\"epoch_indices\": [1, 2, 3, 4, 5, 6, 7, 8], \"train_label_loss\": [0.6234532849308813, 0.4190028062305369, 0.33559418394352264, 0.29574868340372285, 0.2665179631293895, 0.24254064098710104, 0.2229135120912854, 0.20647412609393498], \"source_val_label_loss\": [14.027276992797852, 0.41062411665916443, 0.3713253140449524, 0.337140828371048, 0.3269253671169281, 0.32099464535713196, 0.32488203048706055, 0.3212949335575104], \"target_val_label_loss\": [10.18193531036377, 0.49407732486724854, 0.4843050241470337, 0.4323471188545227, 0.4505981504917145, 0.4424290657043457, 0.4564775228500366, 0.4771253168582916], \"source_val_acc_label\": [0.66763671875, 0.8585546875, 0.8688151041666666, 0.87849609375, 0.8815234375, 0.8826692708333334, 0.883984375, 0.8860091145833333], \"target_val_acc_label\": [0.6871809895833333, 0.8589583333333334, 0.8634440104166666, 0.86931640625, 0.8660286458333334, 0.8678255208333333, 0.86265625, 0.8661458333333333]}, \"dataset_metrics\": {\"source\": {\"train\": {\"n_unique_x\": 896000, \"n_unique_y\": 16, \"n_batch/episode\": 33600}, \"val\": {\"n_unique_x\": 192000, \"n_unique_y\": 16, \"n_batch/episode\": 4800}, \"test\": {\"n_unique_x\": 192000, \"n_unique_y\": 16, \"n_batch/episode\": 4800}}, \"target\": {\"train\": {\"n_unique_x\": 896000, \"n_unique_y\": 16, \"n_batch/episode\": 33600}, \"val\": {\"n_unique_x\": 192000, \"n_unique_y\": 16, \"n_batch/episode\": 4800}, \"test\": {\"n_unique_x\": 192000, \"n_unique_y\": 16, \"n_batch/episode\": 4800}}}}'"
      ]
     },
     "execution_count": 29,
     "metadata": {},
     "output_type": "execute_result"
    }
   ],
   "source": [
    "json.dumps(experiment)"
   ]
  }
 ],
 "metadata": {
  "celltoolbar": "Tags",
  "kernelspec": {
   "display_name": "Python 3 (ipykernel)",
   "language": "python",
   "name": "python3"
  },
  "language_info": {
   "codemirror_mode": {
    "name": "ipython",
    "version": 3
   },
   "file_extension": ".py",
   "mimetype": "text/x-python",
   "name": "python",
   "nbconvert_exporter": "python",
   "pygments_lexer": "ipython3",
   "version": "3.8.10"
  },
  "papermill": {
   "default_parameters": {},
   "duration": 7835.930626,
   "end_time": "2022-03-10T14:03:54.878303",
   "environment_variables": {},
   "exception": null,
   "input_path": "/mnt/wd500GB/CSC500/csc500-main/csc500-notebooks/templates/tl_ptn_template.ipynb",
   "output_path": "trial.ipynb",
   "parameters": {
    "parameters": {
     "BEST_MODEL_PATH": "./best_model.pth",
     "NUM_LOGS_PER_EPOCH": 10,
     "criteria_for_best": "target_loss",
     "dataset_seed": 1337,
     "datasets": [
      {
       "domain_prefix": "ORACLE.run1_",
       "domains": [
        32,
        38,
        8,
        44,
        14,
        50,
        20,
        26
       ],
       "episode_transforms": [],
       "labels": [
        "3123D52",
        "3123D65",
        "3123D79",
        "3123D80",
        "3123D54",
        "3123D70",
        "3123D7B",
        "3123D89",
        "3123D58",
        "3123D76",
        "3123D7D",
        "3123EFE",
        "3123D64",
        "3123D78",
        "3123D7E",
        "3124E4A"
       ],
       "num_examples_per_domain_per_label": 10000,
       "pickle_path": "/mnt/wd500GB/CSC500/csc500-main/datasets/oracle.Run1_10kExamples_stratified_ds.2022A.pkl",
       "source_or_target_dataset": "source",
       "x_transforms": []
      },
      {
       "domain_prefix": "ORACLE.run2_",
       "domains": [
        32,
        38,
        8,
        44,
        14,
        50,
        20,
        26
       ],
       "episode_transforms": [],
       "labels": [
        "3123D52",
        "3123D65",
        "3123D79",
        "3123D80",
        "3123D54",
        "3123D70",
        "3123D7B",
        "3123D89",
        "3123D58",
        "3123D76",
        "3123D7D",
        "3123EFE",
        "3123D64",
        "3123D78",
        "3123D7E",
        "3124E4A"
       ],
       "num_examples_per_domain_per_label": 10000,
       "pickle_path": "/mnt/wd500GB/CSC500/csc500-main/datasets/oracle.Run2_10kExamples_stratified_ds.2022A.pkl",
       "source_or_target_dataset": "target",
       "x_transforms": []
      }
     ],
     "device": "cuda",
     "experiment_name": "tl_1_oracle.run1-oracle.run2",
     "lr": 0.001,
     "n_epoch": 50,
     "n_query": 2,
     "n_shot": 3,
     "n_way": 16,
     "patience": 3,
     "seed": 1337,
     "test_k_factor": 2,
     "torch_default_dtype": "torch.float32",
     "train_k_factor": 3,
     "val_k_factor": 2,
     "x_net": [
      {
       "class": "nnReshape",
       "kargs": {
        "shape": [
         -1,
         1,
         2,
         256
        ]
       }
      },
      {
       "class": "Conv2d",
       "kargs": {
        "bias": false,
        "in_channels": 1,
        "kernel_size": [
         1,
         7
        ],
        "out_channels": 256,
        "padding": [
         0,
         3
        ]
       }
      },
      {
       "class": "ReLU",
       "kargs": {
        "inplace": true
       }
      },
      {
       "class": "BatchNorm2d",
       "kargs": {
        "num_features": 256
       }
      },
      {
       "class": "Conv2d",
       "kargs": {
        "bias": true,
        "in_channels": 256,
        "kernel_size": [
         2,
         7
        ],
        "out_channels": 80,
        "padding": [
         0,
         3
        ]
       }
      },
      {
       "class": "ReLU",
       "kargs": {
        "inplace": true
       }
      },
      {
       "class": "BatchNorm2d",
       "kargs": {
        "num_features": 80
       }
      },
      {
       "class": "Flatten",
       "kargs": {}
      },
      {
       "class": "Linear",
       "kargs": {
        "in_features": 20480,
        "out_features": 256
       }
      },
      {
       "class": "ReLU",
       "kargs": {
        "inplace": true
       }
      },
      {
       "class": "BatchNorm1d",
       "kargs": {
        "num_features": 256
       }
      },
      {
       "class": "Linear",
       "kargs": {
        "in_features": 256,
        "out_features": 256
       }
      }
     ]
    }
   },
   "start_time": "2022-03-10T11:53:18.947677",
   "version": "2.3.4"
  }
 },
 "nbformat": 4,
 "nbformat_minor": 5
}