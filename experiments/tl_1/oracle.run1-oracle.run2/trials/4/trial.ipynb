{
 "cells": [
  {
   "cell_type": "markdown",
   "id": "9fea5f46",
   "metadata": {
    "papermill": {
     "duration": 0.018132,
     "end_time": "2022-03-10T16:17:29.457446",
     "exception": false,
     "start_time": "2022-03-10T16:17:29.439314",
     "status": "completed"
    },
    "tags": []
   },
   "source": [
    "# Transfer Learning Template"
   ]
  },
  {
   "cell_type": "code",
   "execution_count": 1,
   "id": "0902182a",
   "metadata": {
    "execution": {
     "iopub.execute_input": "2022-03-10T16:17:29.494398Z",
     "iopub.status.busy": "2022-03-10T16:17:29.493930Z",
     "iopub.status.idle": "2022-03-10T16:17:30.487999Z",
     "shell.execute_reply": "2022-03-10T16:17:30.488216Z"
    },
    "papermill": {
     "duration": 1.018669,
     "end_time": "2022-03-10T16:17:30.488304",
     "exception": false,
     "start_time": "2022-03-10T16:17:29.469635",
     "status": "completed"
    },
    "tags": []
   },
   "outputs": [],
   "source": [
    "%load_ext autoreload\n",
    "%autoreload 2\n",
    "%matplotlib inline\n",
    "\n",
    "    \n",
    "import os, json, sys, time, random\n",
    "import numpy as np\n",
    "import torch\n",
    "from torch.optim import Adam\n",
    "from  easydict import EasyDict\n",
    "import matplotlib.pyplot as plt\n",
    "\n",
    "from steves_models.steves_ptn import Steves_Prototypical_Network\n",
    "\n",
    "from steves_utils.lazy_iterable_wrapper import Lazy_Iterable_Wrapper\n",
    "from steves_utils.iterable_aggregator import Iterable_Aggregator\n",
    "from steves_utils.ptn_train_eval_test_jig import  PTN_Train_Eval_Test_Jig\n",
    "from steves_utils.torch_sequential_builder import build_sequential\n",
    "from steves_utils.torch_utils import get_dataset_metrics, ptn_confusion_by_domain_over_dataloader\n",
    "from steves_utils.utils_v2 import (per_domain_accuracy_from_confusion, get_datasets_base_path)\n",
    "from steves_utils.PTN.utils import independent_accuracy_assesment\n",
    "\n",
    "from torch.utils.data import DataLoader\n",
    "\n",
    "from steves_utils.stratified_dataset.episodic_accessor import Episodic_Accessor_Factory\n",
    "\n",
    "from steves_utils.ptn_do_report import (\n",
    "    get_loss_curve,\n",
    "    get_results_table,\n",
    "    get_parameters_table,\n",
    "    get_domain_accuracies,\n",
    ")\n",
    "\n",
    "from steves_utils.transforms import get_chained_transform"
   ]
  },
  {
   "cell_type": "markdown",
   "id": "41c840b4",
   "metadata": {
    "papermill": {
     "duration": 0.0128,
     "end_time": "2022-03-10T16:17:30.514114",
     "exception": false,
     "start_time": "2022-03-10T16:17:30.501314",
     "status": "completed"
    },
    "tags": []
   },
   "source": [
    "# Allowed Parameters\n",
    "These are allowed parameters, not defaults\n",
    "Each of these values need to be present in the injected parameters (the notebook will raise an exception if they are not present)\n",
    "\n",
    "Papermill uses the cell tag \"parameters\" to inject the real parameters below this cell.\n",
    "Enable tags to see what I mean"
   ]
  },
  {
   "cell_type": "code",
   "execution_count": 2,
   "id": "fd44eb83",
   "metadata": {
    "execution": {
     "iopub.execute_input": "2022-03-10T16:17:30.541665Z",
     "iopub.status.busy": "2022-03-10T16:17:30.541289Z",
     "iopub.status.idle": "2022-03-10T16:17:30.552127Z",
     "shell.execute_reply": "2022-03-10T16:17:30.552322Z"
    },
    "papermill": {
     "duration": 0.025417,
     "end_time": "2022-03-10T16:17:30.552381",
     "exception": false,
     "start_time": "2022-03-10T16:17:30.526964",
     "status": "completed"
    },
    "tags": []
   },
   "outputs": [],
   "source": [
    "required_parameters = {\n",
    "    \"experiment_name\",\n",
    "    \"lr\",\n",
    "    \"device\",\n",
    "    \"seed\",\n",
    "    \"dataset_seed\",\n",
    "    \"n_shot\",\n",
    "    \"n_query\",\n",
    "    \"n_way\",\n",
    "    \"train_k_factor\",\n",
    "    \"val_k_factor\",\n",
    "    \"test_k_factor\",\n",
    "    \"n_epoch\",\n",
    "    \"patience\",\n",
    "    \"criteria_for_best\",\n",
    "    \"x_net\",\n",
    "    \"datasets\",\n",
    "    \"torch_default_dtype\",\n",
    "    \"NUM_LOGS_PER_EPOCH\",\n",
    "    \"BEST_MODEL_PATH\",\n",
    "}"
   ]
  },
  {
   "cell_type": "code",
   "execution_count": 3,
   "id": "fa3f0049",
   "metadata": {
    "execution": {
     "iopub.execute_input": "2022-03-10T16:17:30.589197Z",
     "iopub.status.busy": "2022-03-10T16:17:30.588914Z",
     "iopub.status.idle": "2022-03-10T16:17:30.602259Z",
     "shell.execute_reply": "2022-03-10T16:17:30.601860Z"
    },
    "papermill": {
     "duration": 0.031909,
     "end_time": "2022-03-10T16:17:30.602354",
     "exception": false,
     "start_time": "2022-03-10T16:17:30.570445",
     "status": "completed"
    },
    "tags": [
     "parameters"
    ]
   },
   "outputs": [],
   "source": [
    "from steves_utils.CORES.utils import (\n",
    "    ALL_NODES,\n",
    "    ALL_NODES_MINIMUM_1000_EXAMPLES,\n",
    "    ALL_DAYS\n",
    ")\n",
    "\n",
    "from steves_utils.ORACLE.utils_v2 import (\n",
    "    ALL_DISTANCES_FEET_NARROWED,\n",
    "    ALL_RUNS,\n",
    "    ALL_SERIAL_NUMBERS,\n",
    ")\n",
    "\n",
    "standalone_parameters = {}\n",
    "standalone_parameters[\"experiment_name\"] = \"STANDALONE PTN\"\n",
    "standalone_parameters[\"lr\"] = 0.001\n",
    "standalone_parameters[\"device\"] = \"cuda\"\n",
    "\n",
    "standalone_parameters[\"seed\"] = 1337\n",
    "standalone_parameters[\"dataset_seed\"] = 1337\n",
    "\n",
    "standalone_parameters[\"n_way\"] = 8\n",
    "standalone_parameters[\"n_shot\"] = 3\n",
    "standalone_parameters[\"n_query\"]  = 2\n",
    "standalone_parameters[\"train_k_factor\"] = 1\n",
    "standalone_parameters[\"val_k_factor\"] = 2\n",
    "standalone_parameters[\"test_k_factor\"] = 2\n",
    "\n",
    "\n",
    "standalone_parameters[\"n_epoch\"] = 50\n",
    "\n",
    "standalone_parameters[\"patience\"] = 10\n",
    "standalone_parameters[\"criteria_for_best\"] = \"source_loss\"\n",
    "\n",
    "standalone_parameters[\"datasets\"] = [\n",
    "    {\n",
    "        \"labels\": ALL_SERIAL_NUMBERS,\n",
    "        \"domains\": ALL_DISTANCES_FEET_NARROWED,\n",
    "        \"num_examples_per_domain_per_label\": 100,\n",
    "        \"pickle_path\": os.path.join(get_datasets_base_path(), \"oracle.Run1_framed_2000Examples_stratified_ds.2022A.pkl\"),\n",
    "        \"source_or_target_dataset\": \"source\",\n",
    "        \"x_transforms\": [\"unit_mag\", \"minus_two\"],\n",
    "        \"episode_transforms\": [],\n",
    "        \"domain_prefix\": \"ORACLE_\"\n",
    "    },\n",
    "    {\n",
    "        \"labels\": ALL_NODES,\n",
    "        \"domains\": ALL_DAYS,\n",
    "        \"num_examples_per_domain_per_label\": 100,\n",
    "        \"pickle_path\": os.path.join(get_datasets_base_path(), \"cores.stratified_ds.2022A.pkl\"),\n",
    "        \"source_or_target_dataset\": \"target\",\n",
    "        \"x_transforms\": [\"unit_power\", \"times_zero\"],\n",
    "        \"episode_transforms\": [],\n",
    "        \"domain_prefix\": \"CORES_\"\n",
    "    }   \n",
    "]\n",
    "\n",
    "standalone_parameters[\"torch_default_dtype\"] = \"torch.float32\" \n",
    "\n",
    "\n",
    "\n",
    "standalone_parameters[\"x_net\"] =     [\n",
    "    {\"class\": \"nnReshape\", \"kargs\": {\"shape\":[-1, 1, 2, 256]}},\n",
    "    {\"class\": \"Conv2d\", \"kargs\": { \"in_channels\":1, \"out_channels\":256, \"kernel_size\":(1,7), \"bias\":False, \"padding\":(0,3), },},\n",
    "    {\"class\": \"ReLU\", \"kargs\": {\"inplace\": True}},\n",
    "    {\"class\": \"BatchNorm2d\", \"kargs\": {\"num_features\":256}},\n",
    "\n",
    "    {\"class\": \"Conv2d\", \"kargs\": { \"in_channels\":256, \"out_channels\":80, \"kernel_size\":(2,7), \"bias\":True, \"padding\":(0,3), },},\n",
    "    {\"class\": \"ReLU\", \"kargs\": {\"inplace\": True}},\n",
    "    {\"class\": \"BatchNorm2d\", \"kargs\": {\"num_features\":80}},\n",
    "    {\"class\": \"Flatten\", \"kargs\": {}},\n",
    "\n",
    "    {\"class\": \"Linear\", \"kargs\": {\"in_features\": 80*256, \"out_features\": 256}}, # 80 units per IQ pair\n",
    "    {\"class\": \"ReLU\", \"kargs\": {\"inplace\": True}},\n",
    "    {\"class\": \"BatchNorm1d\", \"kargs\": {\"num_features\":256}},\n",
    "\n",
    "    {\"class\": \"Linear\", \"kargs\": {\"in_features\": 256, \"out_features\": 256}},\n",
    "]\n",
    "\n",
    "# Parameters relevant to results\n",
    "# These parameters will basically never need to change\n",
    "standalone_parameters[\"NUM_LOGS_PER_EPOCH\"] = 10\n",
    "standalone_parameters[\"BEST_MODEL_PATH\"] = \"./best_model.pth\"\n",
    "\n",
    "\n",
    "\n",
    "\n"
   ]
  },
  {
   "cell_type": "code",
   "execution_count": 4,
   "id": "70f684b4",
   "metadata": {
    "execution": {
     "iopub.execute_input": "2022-03-10T16:17:30.635929Z",
     "iopub.status.busy": "2022-03-10T16:17:30.635628Z",
     "iopub.status.idle": "2022-03-10T16:17:30.646970Z",
     "shell.execute_reply": "2022-03-10T16:17:30.647333Z"
    },
    "papermill": {
     "duration": 0.028963,
     "end_time": "2022-03-10T16:17:30.647440",
     "exception": false,
     "start_time": "2022-03-10T16:17:30.618477",
     "status": "completed"
    },
    "tags": [
     "injected-parameters"
    ]
   },
   "outputs": [],
   "source": [
    "# Parameters\n",
    "parameters = {\n",
    "    \"experiment_name\": \"tl_1_oracle.run1-oracle.run2\",\n",
    "    \"device\": \"cuda\",\n",
    "    \"lr\": 0.001,\n",
    "    \"seed\": 1337,\n",
    "    \"dataset_seed\": 1337,\n",
    "    \"n_shot\": 3,\n",
    "    \"n_query\": 2,\n",
    "    \"train_k_factor\": 3,\n",
    "    \"val_k_factor\": 2,\n",
    "    \"test_k_factor\": 2,\n",
    "    \"torch_default_dtype\": \"torch.float32\",\n",
    "    \"n_epoch\": 50,\n",
    "    \"patience\": 3,\n",
    "    \"criteria_for_best\": \"target_loss\",\n",
    "    \"x_net\": [\n",
    "        {\"class\": \"nnReshape\", \"kargs\": {\"shape\": [-1, 1, 2, 256]}},\n",
    "        {\n",
    "            \"class\": \"Conv2d\",\n",
    "            \"kargs\": {\n",
    "                \"in_channels\": 1,\n",
    "                \"out_channels\": 256,\n",
    "                \"kernel_size\": [1, 7],\n",
    "                \"bias\": False,\n",
    "                \"padding\": [0, 3],\n",
    "            },\n",
    "        },\n",
    "        {\"class\": \"ReLU\", \"kargs\": {\"inplace\": True}},\n",
    "        {\"class\": \"BatchNorm2d\", \"kargs\": {\"num_features\": 256}},\n",
    "        {\n",
    "            \"class\": \"Conv2d\",\n",
    "            \"kargs\": {\n",
    "                \"in_channels\": 256,\n",
    "                \"out_channels\": 80,\n",
    "                \"kernel_size\": [2, 7],\n",
    "                \"bias\": True,\n",
    "                \"padding\": [0, 3],\n",
    "            },\n",
    "        },\n",
    "        {\"class\": \"ReLU\", \"kargs\": {\"inplace\": True}},\n",
    "        {\"class\": \"BatchNorm2d\", \"kargs\": {\"num_features\": 80}},\n",
    "        {\"class\": \"Flatten\", \"kargs\": {}},\n",
    "        {\"class\": \"Linear\", \"kargs\": {\"in_features\": 20480, \"out_features\": 256}},\n",
    "        {\"class\": \"ReLU\", \"kargs\": {\"inplace\": True}},\n",
    "        {\"class\": \"BatchNorm1d\", \"kargs\": {\"num_features\": 256}},\n",
    "        {\"class\": \"Linear\", \"kargs\": {\"in_features\": 256, \"out_features\": 256}},\n",
    "    ],\n",
    "    \"NUM_LOGS_PER_EPOCH\": 10,\n",
    "    \"BEST_MODEL_PATH\": \"./best_model.pth\",\n",
    "    \"n_way\": 16,\n",
    "    \"datasets\": [\n",
    "        {\n",
    "            \"labels\": [\n",
    "                \"3123D52\",\n",
    "                \"3123D65\",\n",
    "                \"3123D79\",\n",
    "                \"3123D80\",\n",
    "                \"3123D54\",\n",
    "                \"3123D70\",\n",
    "                \"3123D7B\",\n",
    "                \"3123D89\",\n",
    "                \"3123D58\",\n",
    "                \"3123D76\",\n",
    "                \"3123D7D\",\n",
    "                \"3123EFE\",\n",
    "                \"3123D64\",\n",
    "                \"3123D78\",\n",
    "                \"3123D7E\",\n",
    "                \"3124E4A\",\n",
    "            ],\n",
    "            \"domains\": [32, 38, 8, 44, 14, 50, 20, 26],\n",
    "            \"num_examples_per_domain_per_label\": 10000,\n",
    "            \"pickle_path\": \"/mnt/wd500GB/CSC500/csc500-main/datasets/oracle.Run1_10kExamples_stratified_ds.2022A.pkl\",\n",
    "            \"source_or_target_dataset\": \"target\",\n",
    "            \"x_transforms\": [\"unit_mag\"],\n",
    "            \"episode_transforms\": [],\n",
    "            \"domain_prefix\": \"ORACLE.run1_\",\n",
    "        },\n",
    "        {\n",
    "            \"labels\": [\n",
    "                \"3123D52\",\n",
    "                \"3123D65\",\n",
    "                \"3123D79\",\n",
    "                \"3123D80\",\n",
    "                \"3123D54\",\n",
    "                \"3123D70\",\n",
    "                \"3123D7B\",\n",
    "                \"3123D89\",\n",
    "                \"3123D58\",\n",
    "                \"3123D76\",\n",
    "                \"3123D7D\",\n",
    "                \"3123EFE\",\n",
    "                \"3123D64\",\n",
    "                \"3123D78\",\n",
    "                \"3123D7E\",\n",
    "                \"3124E4A\",\n",
    "            ],\n",
    "            \"domains\": [32, 38, 8, 44, 14, 50, 20, 26],\n",
    "            \"num_examples_per_domain_per_label\": 10000,\n",
    "            \"pickle_path\": \"/mnt/wd500GB/CSC500/csc500-main/datasets/oracle.Run2_10kExamples_stratified_ds.2022A.pkl\",\n",
    "            \"source_or_target_dataset\": \"source\",\n",
    "            \"x_transforms\": [\"unit_mag\"],\n",
    "            \"episode_transforms\": [],\n",
    "            \"domain_prefix\": \"ORACLE.run2_\",\n",
    "        },\n",
    "    ],\n",
    "}\n"
   ]
  },
  {
   "cell_type": "code",
   "execution_count": 5,
   "id": "8fa1cc33",
   "metadata": {
    "execution": {
     "iopub.execute_input": "2022-03-10T16:17:30.680538Z",
     "iopub.status.busy": "2022-03-10T16:17:30.680291Z",
     "iopub.status.idle": "2022-03-10T16:17:30.690817Z",
     "shell.execute_reply": "2022-03-10T16:17:30.690575Z"
    },
    "papermill": {
     "duration": 0.025054,
     "end_time": "2022-03-10T16:17:30.690871",
     "exception": false,
     "start_time": "2022-03-10T16:17:30.665817",
     "status": "completed"
    },
    "tags": []
   },
   "outputs": [],
   "source": [
    "# Set this to True if you want to run this template directly\n",
    "STANDALONE = False\n",
    "if STANDALONE:\n",
    "    print(\"parameters not injected, running with standalone_parameters\")\n",
    "    parameters = standalone_parameters\n",
    "\n",
    "if not 'parameters' in locals() and not 'parameters' in globals():\n",
    "    raise Exception(\"Parameter injection failed\")\n",
    "\n",
    "#Use an easy dict for all the parameters\n",
    "p = EasyDict(parameters)\n",
    "\n",
    "supplied_keys = set(p.keys())\n",
    "\n",
    "if  supplied_keys != required_parameters:\n",
    "    print(\"Parameters are incorrect\")\n",
    "    if len(supplied_keys - required_parameters)>0: print(\"Shouldn't have:\", str(supplied_keys - required_parameters))\n",
    "    if len(required_parameters - supplied_keys)>0: print(\"Need to have:\", str(required_parameters - supplied_keys))\n",
    "    raise RuntimeError(\"Parameters are incorrect\")\n",
    "\n"
   ]
  },
  {
   "cell_type": "code",
   "execution_count": 6,
   "id": "3a028d58",
   "metadata": {
    "execution": {
     "iopub.execute_input": "2022-03-10T16:17:30.722159Z",
     "iopub.status.busy": "2022-03-10T16:17:30.721915Z",
     "iopub.status.idle": "2022-03-10T16:17:30.732238Z",
     "shell.execute_reply": "2022-03-10T16:17:30.731892Z"
    },
    "papermill": {
     "duration": 0.024646,
     "end_time": "2022-03-10T16:17:30.732308",
     "exception": false,
     "start_time": "2022-03-10T16:17:30.707662",
     "status": "completed"
    },
    "tags": []
   },
   "outputs": [],
   "source": [
    "###################################\n",
    "# Set the RNGs and make it all deterministic\n",
    "###################################\n",
    "np.random.seed(p.seed)\n",
    "random.seed(p.seed)\n",
    "torch.manual_seed(p.seed)\n",
    "\n",
    "torch.use_deterministic_algorithms(True) "
   ]
  },
  {
   "cell_type": "code",
   "execution_count": 7,
   "id": "b691acf6",
   "metadata": {
    "execution": {
     "iopub.execute_input": "2022-03-10T16:17:30.764838Z",
     "iopub.status.busy": "2022-03-10T16:17:30.764595Z",
     "iopub.status.idle": "2022-03-10T16:17:30.779622Z",
     "shell.execute_reply": "2022-03-10T16:17:30.779381Z"
    },
    "papermill": {
     "duration": 0.029738,
     "end_time": "2022-03-10T16:17:30.779669",
     "exception": false,
     "start_time": "2022-03-10T16:17:30.749931",
     "status": "completed"
    },
    "tags": []
   },
   "outputs": [],
   "source": [
    "###########################################\n",
    "# The stratified datasets honor this\n",
    "###########################################\n",
    "torch.set_default_dtype(eval(p.torch_default_dtype))"
   ]
  },
  {
   "cell_type": "code",
   "execution_count": 8,
   "id": "b5fba671",
   "metadata": {
    "execution": {
     "iopub.execute_input": "2022-03-10T16:17:30.812089Z",
     "iopub.status.busy": "2022-03-10T16:17:30.811844Z",
     "iopub.status.idle": "2022-03-10T16:17:30.847689Z",
     "shell.execute_reply": "2022-03-10T16:17:30.847304Z"
    },
    "papermill": {
     "duration": 0.050514,
     "end_time": "2022-03-10T16:17:30.847776",
     "exception": false,
     "start_time": "2022-03-10T16:17:30.797262",
     "status": "completed"
    },
    "tags": []
   },
   "outputs": [],
   "source": [
    "###################################\n",
    "# Build the network(s)\n",
    "# Note: It's critical to do this AFTER setting the RNG\n",
    "###################################\n",
    "x_net = build_sequential(p.x_net)"
   ]
  },
  {
   "cell_type": "code",
   "execution_count": 9,
   "id": "5d7e61cc",
   "metadata": {
    "execution": {
     "iopub.execute_input": "2022-03-10T16:17:30.881291Z",
     "iopub.status.busy": "2022-03-10T16:17:30.881045Z",
     "iopub.status.idle": "2022-03-10T16:17:30.891436Z",
     "shell.execute_reply": "2022-03-10T16:17:30.891194Z"
    },
    "papermill": {
     "duration": 0.025455,
     "end_time": "2022-03-10T16:17:30.891484",
     "exception": false,
     "start_time": "2022-03-10T16:17:30.866029",
     "status": "completed"
    },
    "tags": []
   },
   "outputs": [],
   "source": [
    "start_time_secs = time.time()"
   ]
  },
  {
   "cell_type": "code",
   "execution_count": 10,
   "id": "c6b67dfd",
   "metadata": {
    "execution": {
     "iopub.execute_input": "2022-03-10T16:17:30.924540Z",
     "iopub.status.busy": "2022-03-10T16:17:30.924299Z",
     "iopub.status.idle": "2022-03-10T16:17:30.934540Z",
     "shell.execute_reply": "2022-03-10T16:17:30.934243Z"
    },
    "papermill": {
     "duration": 0.024899,
     "end_time": "2022-03-10T16:17:30.934627",
     "exception": false,
     "start_time": "2022-03-10T16:17:30.909728",
     "status": "completed"
    },
    "tags": []
   },
   "outputs": [],
   "source": [
    "p.domains_source = []\n",
    "p.domains_target = []\n",
    "\n",
    "\n",
    "train_original_source = []\n",
    "val_original_source   = []\n",
    "test_original_source  = []\n",
    "\n",
    "train_original_target = []\n",
    "val_original_target   = []\n",
    "test_original_target  = []"
   ]
  },
  {
   "cell_type": "code",
   "execution_count": 11,
   "id": "e3d9c3d3",
   "metadata": {
    "execution": {
     "iopub.execute_input": "2022-03-10T16:17:30.965953Z",
     "iopub.status.busy": "2022-03-10T16:17:30.965709Z",
     "iopub.status.idle": "2022-03-10T16:17:30.975432Z",
     "shell.execute_reply": "2022-03-10T16:17:30.975222Z"
    },
    "papermill": {
     "duration": 0.024058,
     "end_time": "2022-03-10T16:17:30.975525",
     "exception": false,
     "start_time": "2022-03-10T16:17:30.951467",
     "status": "completed"
    },
    "tags": []
   },
   "outputs": [],
   "source": [
    "# global_x_transform_func = lambda x: normalize(x.to(torch.get_default_dtype()), \"unit_power\") # unit_power, unit_mag\n",
    "# global_x_transform_func = lambda x: normalize(x, \"unit_power\") # unit_power, unit_mag"
   ]
  },
  {
   "cell_type": "code",
   "execution_count": 12,
   "id": "acb78fd2",
   "metadata": {
    "execution": {
     "iopub.execute_input": "2022-03-10T16:17:31.011586Z",
     "iopub.status.busy": "2022-03-10T16:17:31.011311Z",
     "iopub.status.idle": "2022-03-10T16:17:31.023321Z",
     "shell.execute_reply": "2022-03-10T16:17:31.022911Z"
    },
    "papermill": {
     "duration": 0.029528,
     "end_time": "2022-03-10T16:17:31.023409",
     "exception": false,
     "start_time": "2022-03-10T16:17:30.993881",
     "status": "completed"
    },
    "tags": []
   },
   "outputs": [],
   "source": [
    "def add_dataset(\n",
    "    labels,\n",
    "    domains,\n",
    "    pickle_path,\n",
    "    x_transforms,\n",
    "    episode_transforms,\n",
    "    domain_prefix,\n",
    "    num_examples_per_domain_per_label,\n",
    "    source_or_target_dataset:str,\n",
    "    iterator_seed=p.seed,\n",
    "    dataset_seed=p.dataset_seed,\n",
    "    n_shot=p.n_shot,\n",
    "    n_way=p.n_way,\n",
    "    n_query=p.n_query,\n",
    "    train_val_test_k_factors=(p.train_k_factor,p.val_k_factor,p.test_k_factor),\n",
    "):\n",
    "   \n",
    "    if x_transforms == []: x_transform = None\n",
    "    else: x_transform = get_chained_transform(x_transforms)\n",
    "    \n",
    "    if episode_transforms == []: episode_transform = None\n",
    "    else: raise Exception(\"episode_transforms not implemented\")\n",
    "    \n",
    "    episode_transform = lambda tup, _prefix=domain_prefix: (_prefix + str(tup[0]), tup[1])\n",
    "\n",
    "\n",
    "    eaf = Episodic_Accessor_Factory(\n",
    "        labels=labels,\n",
    "        domains=domains,\n",
    "        num_examples_per_domain_per_label=num_examples_per_domain_per_label,\n",
    "        iterator_seed=iterator_seed,\n",
    "        dataset_seed=dataset_seed,\n",
    "        n_shot=n_shot,\n",
    "        n_way=n_way,\n",
    "        n_query=n_query,\n",
    "        train_val_test_k_factors=train_val_test_k_factors,\n",
    "        pickle_path=pickle_path,\n",
    "        x_transform_func=x_transform,\n",
    "    )\n",
    "\n",
    "    train, val, test = eaf.get_train(), eaf.get_val(), eaf.get_test()\n",
    "    train = Lazy_Iterable_Wrapper(train, episode_transform)\n",
    "    val = Lazy_Iterable_Wrapper(val, episode_transform)\n",
    "    test = Lazy_Iterable_Wrapper(test, episode_transform)\n",
    "\n",
    "    if source_or_target_dataset==\"source\":\n",
    "        train_original_source.append(train)\n",
    "        val_original_source.append(val)\n",
    "        test_original_source.append(test)\n",
    "\n",
    "        p.domains_source.extend(\n",
    "            [domain_prefix + str(u) for u in domains]\n",
    "        )\n",
    "    elif source_or_target_dataset==\"target\":\n",
    "        train_original_target.append(train)\n",
    "        val_original_target.append(val)\n",
    "        test_original_target.append(test)\n",
    "        p.domains_target.extend(\n",
    "            [domain_prefix + str(u) for u in domains]\n",
    "        )\n",
    "    else:\n",
    "        raise Exception(f\"invalid source_or_target_dataset: {source_or_target_dataset}\")\n",
    "    "
   ]
  },
  {
   "cell_type": "code",
   "execution_count": 13,
   "id": "fe266617",
   "metadata": {
    "execution": {
     "iopub.execute_input": "2022-03-10T16:17:31.056971Z",
     "iopub.status.busy": "2022-03-10T16:17:31.056729Z",
     "iopub.status.idle": "2022-03-10T16:20:07.232509Z",
     "shell.execute_reply": "2022-03-10T16:20:07.232067Z"
    },
    "papermill": {
     "duration": 156.190693,
     "end_time": "2022-03-10T16:20:07.232608",
     "exception": false,
     "start_time": "2022-03-10T16:17:31.041915",
     "status": "completed"
    },
    "tags": []
   },
   "outputs": [],
   "source": [
    "for ds in p.datasets:\n",
    "    add_dataset(**ds)"
   ]
  },
  {
   "cell_type": "code",
   "execution_count": 14,
   "id": "b90d65ac",
   "metadata": {
    "execution": {
     "iopub.execute_input": "2022-03-10T16:20:07.267934Z",
     "iopub.status.busy": "2022-03-10T16:20:07.267677Z",
     "iopub.status.idle": "2022-03-10T16:20:07.281720Z",
     "shell.execute_reply": "2022-03-10T16:20:07.282066Z"
    },
    "papermill": {
     "duration": 0.029631,
     "end_time": "2022-03-10T16:20:07.282172",
     "exception": false,
     "start_time": "2022-03-10T16:20:07.252541",
     "status": "completed"
    },
    "tags": []
   },
   "outputs": [],
   "source": [
    "# from steves_utils.CORES.utils import (\n",
    "#     ALL_NODES,\n",
    "#     ALL_NODES_MINIMUM_1000_EXAMPLES,\n",
    "#     ALL_DAYS\n",
    "# )\n",
    "\n",
    "# add_dataset(\n",
    "#     labels=ALL_NODES,\n",
    "#     domains = ALL_DAYS,\n",
    "#     num_examples_per_domain_per_label=100,\n",
    "#     pickle_path=os.path.join(get_datasets_base_path(), \"cores.stratified_ds.2022A.pkl\"),\n",
    "#     source_or_target_dataset=\"target\",\n",
    "#     x_transform_func=global_x_transform_func,\n",
    "#     domain_modifier=lambda u: f\"cores_{u}\"\n",
    "# )"
   ]
  },
  {
   "cell_type": "code",
   "execution_count": 15,
   "id": "76db484d",
   "metadata": {
    "execution": {
     "iopub.execute_input": "2022-03-10T16:20:07.314325Z",
     "iopub.status.busy": "2022-03-10T16:20:07.314080Z",
     "iopub.status.idle": "2022-03-10T16:20:07.323699Z",
     "shell.execute_reply": "2022-03-10T16:20:07.323453Z"
    },
    "papermill": {
     "duration": 0.024141,
     "end_time": "2022-03-10T16:20:07.323747",
     "exception": false,
     "start_time": "2022-03-10T16:20:07.299606",
     "status": "completed"
    },
    "tags": []
   },
   "outputs": [],
   "source": [
    "# from steves_utils.ORACLE.utils_v2 import (\n",
    "#     ALL_DISTANCES_FEET,\n",
    "#     ALL_RUNS,\n",
    "#     ALL_SERIAL_NUMBERS,\n",
    "# )\n",
    "\n",
    "\n",
    "# add_dataset(\n",
    "#     labels=ALL_SERIAL_NUMBERS,\n",
    "#     domains = list(set(ALL_DISTANCES_FEET) - {2,62}),\n",
    "#     num_examples_per_domain_per_label=100,\n",
    "#     pickle_path=os.path.join(get_datasets_base_path(), \"oracle.Run2_framed_2000Examples_stratified_ds.2022A.pkl\"),\n",
    "#     source_or_target_dataset=\"source\",\n",
    "#     x_transform_func=global_x_transform_func,\n",
    "#     domain_modifier=lambda u: f\"oracle1_{u}\"\n",
    "# )\n"
   ]
  },
  {
   "cell_type": "code",
   "execution_count": 16,
   "id": "97dea9d2",
   "metadata": {
    "execution": {
     "iopub.execute_input": "2022-03-10T16:20:07.353821Z",
     "iopub.status.busy": "2022-03-10T16:20:07.353574Z",
     "iopub.status.idle": "2022-03-10T16:20:07.362936Z",
     "shell.execute_reply": "2022-03-10T16:20:07.362684Z"
    },
    "papermill": {
     "duration": 0.023732,
     "end_time": "2022-03-10T16:20:07.362985",
     "exception": false,
     "start_time": "2022-03-10T16:20:07.339253",
     "status": "completed"
    },
    "tags": []
   },
   "outputs": [],
   "source": [
    "# from steves_utils.ORACLE.utils_v2 import (\n",
    "#     ALL_DISTANCES_FEET,\n",
    "#     ALL_RUNS,\n",
    "#     ALL_SERIAL_NUMBERS,\n",
    "# )\n",
    "\n",
    "\n",
    "# add_dataset(\n",
    "#     labels=ALL_SERIAL_NUMBERS,\n",
    "#     domains = list(set(ALL_DISTANCES_FEET) - {2,62,56}),\n",
    "#     num_examples_per_domain_per_label=100,\n",
    "#     pickle_path=os.path.join(get_datasets_base_path(), \"oracle.Run2_framed_2000Examples_stratified_ds.2022A.pkl\"),\n",
    "#     source_or_target_dataset=\"source\",\n",
    "#     x_transform_func=global_x_transform_func,\n",
    "#     domain_modifier=lambda u: f\"oracle2_{u}\"\n",
    "# )"
   ]
  },
  {
   "cell_type": "code",
   "execution_count": 17,
   "id": "6f289866",
   "metadata": {
    "execution": {
     "iopub.execute_input": "2022-03-10T16:20:07.393893Z",
     "iopub.status.busy": "2022-03-10T16:20:07.393649Z",
     "iopub.status.idle": "2022-03-10T16:20:07.408234Z",
     "shell.execute_reply": "2022-03-10T16:20:07.407790Z"
    },
    "papermill": {
     "duration": 0.029569,
     "end_time": "2022-03-10T16:20:07.408321",
     "exception": false,
     "start_time": "2022-03-10T16:20:07.378752",
     "status": "completed"
    },
    "tags": []
   },
   "outputs": [],
   "source": [
    "# add_dataset(\n",
    "#     labels=list(range(19)),\n",
    "#     domains = [0,1,2],\n",
    "#     num_examples_per_domain_per_label=100,\n",
    "#     pickle_path=os.path.join(get_datasets_base_path(), \"metehan.stratified_ds.2022A.pkl\"),\n",
    "#     source_or_target_dataset=\"target\",\n",
    "#     x_transform_func=global_x_transform_func,\n",
    "#     domain_modifier=lambda u: f\"met_{u}\"\n",
    "# )"
   ]
  },
  {
   "cell_type": "code",
   "execution_count": 18,
   "id": "86a863c3",
   "metadata": {
    "execution": {
     "iopub.execute_input": "2022-03-10T16:20:07.441979Z",
     "iopub.status.busy": "2022-03-10T16:20:07.441734Z",
     "iopub.status.idle": "2022-03-10T16:20:07.454294Z",
     "shell.execute_reply": "2022-03-10T16:20:07.454054Z"
    },
    "papermill": {
     "duration": 0.027546,
     "end_time": "2022-03-10T16:20:07.454342",
     "exception": false,
     "start_time": "2022-03-10T16:20:07.426796",
     "status": "completed"
    },
    "tags": []
   },
   "outputs": [],
   "source": [
    "# # from steves_utils.wisig.utils import (\n",
    "# #     ALL_NODES_MINIMUM_100_EXAMPLES,\n",
    "# #     ALL_NODES_MINIMUM_500_EXAMPLES,\n",
    "# #     ALL_NODES_MINIMUM_1000_EXAMPLES,\n",
    "# #     ALL_DAYS\n",
    "# # )\n",
    "\n",
    "# import steves_utils.wisig.utils as wisig\n",
    "\n",
    "\n",
    "# add_dataset(\n",
    "#     labels=wisig.ALL_NODES_MINIMUM_100_EXAMPLES,\n",
    "#     domains = wisig.ALL_DAYS,\n",
    "#     num_examples_per_domain_per_label=100,\n",
    "#     pickle_path=os.path.join(get_datasets_base_path(), \"wisig.node3-19.stratified_ds.2022A.pkl\"),\n",
    "#     source_or_target_dataset=\"target\",\n",
    "#     x_transform_func=global_x_transform_func,\n",
    "#     domain_modifier=lambda u: f\"wisig_{u}\"\n",
    "# )"
   ]
  },
  {
   "cell_type": "code",
   "execution_count": 19,
   "id": "fd5442bc",
   "metadata": {
    "execution": {
     "iopub.execute_input": "2022-03-10T16:20:07.487791Z",
     "iopub.status.busy": "2022-03-10T16:20:07.487539Z",
     "iopub.status.idle": "2022-03-10T16:20:07.498230Z",
     "shell.execute_reply": "2022-03-10T16:20:07.497786Z"
    },
    "papermill": {
     "duration": 0.027049,
     "end_time": "2022-03-10T16:20:07.498317",
     "exception": false,
     "start_time": "2022-03-10T16:20:07.471268",
     "status": "completed"
    },
    "tags": []
   },
   "outputs": [],
   "source": [
    "###################################\n",
    "# Build the dataset\n",
    "###################################\n",
    "train_original_source = Iterable_Aggregator(train_original_source, p.seed)\n",
    "val_original_source = Iterable_Aggregator(val_original_source, p.seed)\n",
    "test_original_source = Iterable_Aggregator(test_original_source, p.seed)\n",
    "\n",
    "\n",
    "train_original_target = Iterable_Aggregator(train_original_target, p.seed)\n",
    "val_original_target = Iterable_Aggregator(val_original_target, p.seed)\n",
    "test_original_target = Iterable_Aggregator(test_original_target, p.seed)\n",
    "\n",
    "# For CNN We only use X and Y. And we only train on the source.\n",
    "# Properly form the data using a transform lambda and Lazy_Iterable_Wrapper. Finally wrap them in a dataloader\n",
    "\n",
    "transform_lambda = lambda ex: ex[1] # Original is (<domain>, <episode>) so we strip down to episode only\n",
    "\n",
    "train_processed_source = Lazy_Iterable_Wrapper(train_original_source, transform_lambda)\n",
    "val_processed_source   = Lazy_Iterable_Wrapper(val_original_source, transform_lambda)\n",
    "test_processed_source  = Lazy_Iterable_Wrapper(test_original_source, transform_lambda)\n",
    "\n",
    "train_processed_target = Lazy_Iterable_Wrapper(train_original_target, transform_lambda)\n",
    "val_processed_target   = Lazy_Iterable_Wrapper(val_original_target, transform_lambda)\n",
    "test_processed_target  = Lazy_Iterable_Wrapper(test_original_target, transform_lambda)\n",
    "\n",
    "datasets = EasyDict({\n",
    "    \"source\": {\n",
    "        \"original\": {\"train\":train_original_source, \"val\":val_original_source, \"test\":test_original_source},\n",
    "        \"processed\": {\"train\":train_processed_source, \"val\":val_processed_source, \"test\":test_processed_source}\n",
    "    },\n",
    "    \"target\": {\n",
    "        \"original\": {\"train\":train_original_target, \"val\":val_original_target, \"test\":test_original_target},\n",
    "        \"processed\": {\"train\":train_processed_target, \"val\":val_processed_target, \"test\":test_processed_target}\n",
    "    },\n",
    "})"
   ]
  },
  {
   "cell_type": "code",
   "execution_count": 20,
   "id": "5b3c01fc",
   "metadata": {
    "execution": {
     "iopub.execute_input": "2022-03-10T16:20:07.529562Z",
     "iopub.status.busy": "2022-03-10T16:20:07.529317Z",
     "iopub.status.idle": "2022-03-10T16:20:32.074727Z",
     "shell.execute_reply": "2022-03-10T16:20:32.075235Z"
    },
    "papermill": {
     "duration": 24.561131,
     "end_time": "2022-03-10T16:20:32.075363",
     "exception": false,
     "start_time": "2022-03-10T16:20:07.514232",
     "status": "completed"
    },
    "tags": []
   },
   "outputs": [
    {
     "name": "stdout",
     "output_type": "stream",
     "text": [
      "{'ORACLE.run2_20', 'ORACLE.run2_38', 'ORACLE.run2_8', 'ORACLE.run2_44', 'ORACLE.run2_26', 'ORACLE.run2_32', 'ORACLE.run2_14', 'ORACLE.run2_50'}\n"
     ]
    },
    {
     "name": "stdout",
     "output_type": "stream",
     "text": [
      "{'ORACLE.run1_26', 'ORACLE.run1_38', 'ORACLE.run1_8', 'ORACLE.run1_20', 'ORACLE.run1_14', 'ORACLE.run1_32', 'ORACLE.run1_50', 'ORACLE.run1_44'}\n"
     ]
    },
    {
     "name": "stdout",
     "output_type": "stream",
     "text": [
      "tensor([[[-0.6014,  0.2907,  0.4912,  ..., -1.4034, -2.0549, -0.6115],\n",
      "         [-0.4711,  0.1002, -0.4711,  ..., -0.3208,  0.2005,  0.8420]],\n",
      "\n",
      "        [[ 0.9001, -0.2436,  0.6989,  ..., -0.6672,  1.0802,  0.0212],\n",
      "         [-1.4084, -0.6460, -0.2012,  ..., -0.7625, -0.0847,  0.2436]],\n",
      "\n",
      "        [[ 0.1969, -0.4976,  0.7152,  ...,  0.1037,  0.1348, -0.8189],\n",
      "         [ 1.3164, -0.4043,  0.7463,  ...,  0.6634, -0.1037,  0.3939]],\n",
      "\n",
      "        ...,\n",
      "\n",
      "        [[-0.3715, -0.5175, -0.9421,  ..., -0.3384, -0.2057,  1.1212],\n",
      "         [-0.1460, -0.9819,  0.4511,  ..., -0.3516, -1.0084, -0.1261]],\n",
      "\n",
      "        [[-0.4882,  0.4236,  0.7897,  ...,  1.0123, -0.2082, -1.6799],\n",
      "         [-0.1077,  0.5313, -0.3446,  ...,  0.0359,  0.3446, -0.7036]],\n",
      "\n",
      "        [[-1.0646, -0.0139, -0.8976,  ..., -0.6262, -0.4871, -1.2316],\n",
      "         [-1.0715, -0.3757, -1.1689,  ...,  0.0557,  0.4940,  0.0139]]])\n"
     ]
    }
   ],
   "source": [
    "from steves_utils.transforms import get_average_magnitude, get_average_power\n",
    "\n",
    "print(set([u for u,_ in val_original_source]))\n",
    "print(set([u for u,_ in val_original_target]))\n",
    "\n",
    "s_x, s_y, q_x, q_y, _ = next(iter(train_processed_source))\n",
    "print(s_x)\n",
    "\n",
    "# for ds in [\n",
    "#     train_processed_source,\n",
    "#     val_processed_source,\n",
    "#     test_processed_source,\n",
    "#     train_processed_target,\n",
    "#     val_processed_target,\n",
    "#     test_processed_target\n",
    "# ]:\n",
    "#     for s_x, s_y, q_x, q_y, _ in ds:\n",
    "#         for X in (s_x, q_x):\n",
    "#             for x in X:\n",
    "#                 assert np.isclose(get_average_magnitude(x.numpy()), 1.0)\n",
    "#                 assert np.isclose(get_average_power(x.numpy()), 1.0)\n",
    "                "
   ]
  },
  {
   "cell_type": "code",
   "execution_count": 21,
   "id": "bbdacba1",
   "metadata": {
    "execution": {
     "iopub.execute_input": "2022-03-10T16:20:32.110481Z",
     "iopub.status.busy": "2022-03-10T16:20:32.110231Z",
     "iopub.status.idle": "2022-03-10T16:20:32.166563Z",
     "shell.execute_reply": "2022-03-10T16:20:32.166984Z"
    },
    "papermill": {
     "duration": 0.073553,
     "end_time": "2022-03-10T16:20:32.167112",
     "exception": false,
     "start_time": "2022-03-10T16:20:32.093559",
     "status": "completed"
    },
    "tags": []
   },
   "outputs": [
    {
     "name": "stdout",
     "output_type": "stream",
     "text": [
      "(2, 256)\n"
     ]
    }
   ],
   "source": [
    "###################################\n",
    "# Build the model\n",
    "###################################\n",
    "model = Steves_Prototypical_Network(x_net, device=p.device, x_shape=(2,256))\n",
    "optimizer = Adam(params=model.parameters(), lr=p.lr)"
   ]
  },
  {
   "cell_type": "code",
   "execution_count": 22,
   "id": "22b39ac5",
   "metadata": {
    "execution": {
     "iopub.execute_input": "2022-03-10T16:20:32.203440Z",
     "iopub.status.busy": "2022-03-10T16:20:32.203191Z",
     "iopub.status.idle": "2022-03-10T18:37:39.624743Z",
     "shell.execute_reply": "2022-03-10T18:37:39.624507Z"
    },
    "papermill": {
     "duration": 8227.439086,
     "end_time": "2022-03-10T18:37:39.624802",
     "exception": false,
     "start_time": "2022-03-10T16:20:32.185716",
     "status": "completed"
    },
    "tags": []
   },
   "outputs": [
    {
     "name": "stdout",
     "output_type": "stream",
     "text": [
      "epoch: 1, [batch: 1 / 33600], examples_per_second: 9.8774, train_label_loss: 2.7945, \n"
     ]
    },
    {
     "name": "stdout",
     "output_type": "stream",
     "text": [
      "epoch: 1, [batch: 3360 / 33600], examples_per_second: 3209.0919, train_label_loss: 0.6614, \n"
     ]
    },
    {
     "name": "stdout",
     "output_type": "stream",
     "text": [
      "epoch: 1, [batch: 6720 / 33600], examples_per_second: 3203.9587, train_label_loss: 1.9264, \n"
     ]
    },
    {
     "name": "stdout",
     "output_type": "stream",
     "text": [
      "epoch: 1, [batch: 10080 / 33600], examples_per_second: 3205.6352, train_label_loss: 0.8216, \n"
     ]
    },
    {
     "name": "stdout",
     "output_type": "stream",
     "text": [
      "epoch: 1, [batch: 13440 / 33600], examples_per_second: 3201.2827, train_label_loss: 1.0688, \n"
     ]
    },
    {
     "name": "stdout",
     "output_type": "stream",
     "text": [
      "epoch: 1, [batch: 16800 / 33600], examples_per_second: 3210.9131, train_label_loss: 1.1584, \n"
     ]
    },
    {
     "name": "stdout",
     "output_type": "stream",
     "text": [
      "epoch: 1, [batch: 20160 / 33600], examples_per_second: 3213.5990, train_label_loss: 0.6362, \n"
     ]
    },
    {
     "name": "stdout",
     "output_type": "stream",
     "text": [
      "epoch: 1, [batch: 23520 / 33600], examples_per_second: 3193.1576, train_label_loss: 0.6777, \n"
     ]
    },
    {
     "name": "stdout",
     "output_type": "stream",
     "text": [
      "epoch: 1, [batch: 26880 / 33600], examples_per_second: 3212.3600, train_label_loss: 0.7378, \n"
     ]
    },
    {
     "name": "stdout",
     "output_type": "stream",
     "text": [
      "epoch: 1, [batch: 30240 / 33600], examples_per_second: 3218.0909, train_label_loss: 1.2773, \n"
     ]
    },
    {
     "name": "stdout",
     "output_type": "stream",
     "text": [
      "=============================================================\n",
      "epoch: 1, source_val_acc_label: 0.6405, target_val_acc_label: 0.6506, source_val_label_loss: 1.0442, target_val_label_loss: 0.9932, \n",
      "=============================================================\n"
     ]
    },
    {
     "name": "stdout",
     "output_type": "stream",
     "text": [
      "New best\n"
     ]
    },
    {
     "name": "stdout",
     "output_type": "stream",
     "text": [
      "epoch: 2, [batch: 1 / 33600], examples_per_second: 0.9647, train_label_loss: 0.8393, \n"
     ]
    },
    {
     "name": "stdout",
     "output_type": "stream",
     "text": [
      "epoch: 2, [batch: 3360 / 33600], examples_per_second: 3231.8373, train_label_loss: 0.4975, \n"
     ]
    },
    {
     "name": "stdout",
     "output_type": "stream",
     "text": [
      "epoch: 2, [batch: 6720 / 33600], examples_per_second: 3242.4405, train_label_loss: 1.5322, \n"
     ]
    },
    {
     "name": "stdout",
     "output_type": "stream",
     "text": [
      "epoch: 2, [batch: 10080 / 33600], examples_per_second: 3232.6985, train_label_loss: 1.1203, \n"
     ]
    },
    {
     "name": "stdout",
     "output_type": "stream",
     "text": [
      "epoch: 2, [batch: 13440 / 33600], examples_per_second: 3227.3974, train_label_loss: 0.6606, \n"
     ]
    },
    {
     "name": "stdout",
     "output_type": "stream",
     "text": [
      "epoch: 2, [batch: 16800 / 33600], examples_per_second: 3227.1594, train_label_loss: 1.0834, \n"
     ]
    },
    {
     "name": "stdout",
     "output_type": "stream",
     "text": [
      "epoch: 2, [batch: 20160 / 33600], examples_per_second: 3228.1293, train_label_loss: 1.0838, \n"
     ]
    },
    {
     "name": "stdout",
     "output_type": "stream",
     "text": [
      "epoch: 2, [batch: 23520 / 33600], examples_per_second: 3236.6987, train_label_loss: 0.4443, \n"
     ]
    },
    {
     "name": "stdout",
     "output_type": "stream",
     "text": [
      "epoch: 2, [batch: 26880 / 33600], examples_per_second: 3227.9684, train_label_loss: 0.7051, \n"
     ]
    },
    {
     "name": "stdout",
     "output_type": "stream",
     "text": [
      "epoch: 2, [batch: 30240 / 33600], examples_per_second: 3248.8830, train_label_loss: 0.9820, \n"
     ]
    },
    {
     "name": "stdout",
     "output_type": "stream",
     "text": [
      "=============================================================\n",
      "epoch: 2, source_val_acc_label: 0.6999, target_val_acc_label: 0.7055, source_val_label_loss: 0.8310, target_val_label_loss: 0.7956, \n",
      "=============================================================\n"
     ]
    },
    {
     "name": "stdout",
     "output_type": "stream",
     "text": [
      "New best\n"
     ]
    },
    {
     "name": "stdout",
     "output_type": "stream",
     "text": [
      "epoch: 3, [batch: 1 / 33600], examples_per_second: 0.9713, train_label_loss: 0.4721, \n"
     ]
    },
    {
     "name": "stdout",
     "output_type": "stream",
     "text": [
      "epoch: 3, [batch: 3360 / 33600], examples_per_second: 3229.4044, train_label_loss: 0.8141, \n"
     ]
    },
    {
     "name": "stdout",
     "output_type": "stream",
     "text": [
      "epoch: 3, [batch: 6720 / 33600], examples_per_second: 3232.1850, train_label_loss: 1.2959, \n"
     ]
    },
    {
     "name": "stdout",
     "output_type": "stream",
     "text": [
      "epoch: 3, [batch: 10080 / 33600], examples_per_second: 3232.8067, train_label_loss: 0.8209, \n"
     ]
    },
    {
     "name": "stdout",
     "output_type": "stream",
     "text": [
      "epoch: 3, [batch: 13440 / 33600], examples_per_second: 3229.3993, train_label_loss: 0.4409, \n"
     ]
    },
    {
     "name": "stdout",
     "output_type": "stream",
     "text": [
      "epoch: 3, [batch: 16800 / 33600], examples_per_second: 3240.2563, train_label_loss: 0.8273, \n"
     ]
    },
    {
     "name": "stdout",
     "output_type": "stream",
     "text": [
      "epoch: 3, [batch: 20160 / 33600], examples_per_second: 3244.4246, train_label_loss: 1.0318, \n"
     ]
    },
    {
     "name": "stdout",
     "output_type": "stream",
     "text": [
      "epoch: 3, [batch: 23520 / 33600], examples_per_second: 3229.7730, train_label_loss: 0.7519, \n"
     ]
    },
    {
     "name": "stdout",
     "output_type": "stream",
     "text": [
      "epoch: 3, [batch: 26880 / 33600], examples_per_second: 3233.8470, train_label_loss: 0.7825, \n"
     ]
    },
    {
     "name": "stdout",
     "output_type": "stream",
     "text": [
      "epoch: 3, [batch: 30240 / 33600], examples_per_second: 3247.3048, train_label_loss: 0.3772, \n"
     ]
    },
    {
     "name": "stdout",
     "output_type": "stream",
     "text": [
      "=============================================================\n",
      "epoch: 3, source_val_acc_label: 0.7222, target_val_acc_label: 0.7248, source_val_label_loss: 0.7696, target_val_label_loss: 0.7449, \n",
      "=============================================================\n"
     ]
    },
    {
     "name": "stdout",
     "output_type": "stream",
     "text": [
      "New best\n"
     ]
    },
    {
     "name": "stdout",
     "output_type": "stream",
     "text": [
      "epoch: 4, [batch: 1 / 33600], examples_per_second: 0.9693, train_label_loss: 0.8317, \n"
     ]
    },
    {
     "name": "stdout",
     "output_type": "stream",
     "text": [
      "epoch: 4, [batch: 3360 / 33600], examples_per_second: 3233.4474, train_label_loss: 0.6707, \n"
     ]
    },
    {
     "name": "stdout",
     "output_type": "stream",
     "text": [
      "epoch: 4, [batch: 6720 / 33600], examples_per_second: 3224.7512, train_label_loss: 1.2320, \n"
     ]
    },
    {
     "name": "stdout",
     "output_type": "stream",
     "text": [
      "epoch: 4, [batch: 10080 / 33600], examples_per_second: 3239.3784, train_label_loss: 0.7216, \n"
     ]
    },
    {
     "name": "stdout",
     "output_type": "stream",
     "text": [
      "epoch: 4, [batch: 13440 / 33600], examples_per_second: 3228.5822, train_label_loss: 0.7645, \n"
     ]
    },
    {
     "name": "stdout",
     "output_type": "stream",
     "text": [
      "epoch: 4, [batch: 16800 / 33600], examples_per_second: 3242.8042, train_label_loss: 0.7867, \n"
     ]
    },
    {
     "name": "stdout",
     "output_type": "stream",
     "text": [
      "epoch: 4, [batch: 20160 / 33600], examples_per_second: 3246.6692, train_label_loss: 0.2540, \n"
     ]
    },
    {
     "name": "stdout",
     "output_type": "stream",
     "text": [
      "epoch: 4, [batch: 23520 / 33600], examples_per_second: 3226.2267, train_label_loss: 0.3864, \n"
     ]
    },
    {
     "name": "stdout",
     "output_type": "stream",
     "text": [
      "epoch: 4, [batch: 26880 / 33600], examples_per_second: 3223.6034, train_label_loss: 0.7335, \n"
     ]
    },
    {
     "name": "stdout",
     "output_type": "stream",
     "text": [
      "epoch: 4, [batch: 30240 / 33600], examples_per_second: 3240.8434, train_label_loss: 0.5287, \n"
     ]
    },
    {
     "name": "stdout",
     "output_type": "stream",
     "text": [
      "=============================================================\n",
      "epoch: 4, source_val_acc_label: 0.7353, target_val_acc_label: 0.7383, source_val_label_loss: 0.7501, target_val_label_loss: 0.7297, \n",
      "=============================================================\n"
     ]
    },
    {
     "name": "stdout",
     "output_type": "stream",
     "text": [
      "New best\n"
     ]
    },
    {
     "name": "stdout",
     "output_type": "stream",
     "text": [
      "epoch: 5, [batch: 1 / 33600], examples_per_second: 0.9667, train_label_loss: 1.2324, \n"
     ]
    },
    {
     "name": "stdout",
     "output_type": "stream",
     "text": [
      "epoch: 5, [batch: 3360 / 33600], examples_per_second: 3223.6503, train_label_loss: 1.2608, \n"
     ]
    },
    {
     "name": "stdout",
     "output_type": "stream",
     "text": [
      "epoch: 5, [batch: 6720 / 33600], examples_per_second: 3229.7205, train_label_loss: 0.4030, \n"
     ]
    },
    {
     "name": "stdout",
     "output_type": "stream",
     "text": [
      "epoch: 5, [batch: 10080 / 33600], examples_per_second: 3228.3200, train_label_loss: 0.7740, \n"
     ]
    },
    {
     "name": "stdout",
     "output_type": "stream",
     "text": [
      "epoch: 5, [batch: 13440 / 33600], examples_per_second: 3220.8689, train_label_loss: 0.7882, \n"
     ]
    },
    {
     "name": "stdout",
     "output_type": "stream",
     "text": [
      "epoch: 5, [batch: 16800 / 33600], examples_per_second: 3236.9921, train_label_loss: 0.5541, \n"
     ]
    },
    {
     "name": "stdout",
     "output_type": "stream",
     "text": [
      "epoch: 5, [batch: 20160 / 33600], examples_per_second: 3238.4787, train_label_loss: 0.7302, \n"
     ]
    },
    {
     "name": "stdout",
     "output_type": "stream",
     "text": [
      "epoch: 5, [batch: 23520 / 33600], examples_per_second: 3222.6262, train_label_loss: 0.6944, \n"
     ]
    },
    {
     "name": "stdout",
     "output_type": "stream",
     "text": [
      "epoch: 5, [batch: 26880 / 33600], examples_per_second: 3236.3549, train_label_loss: 0.2407, \n"
     ]
    },
    {
     "name": "stdout",
     "output_type": "stream",
     "text": [
      "epoch: 5, [batch: 30240 / 33600], examples_per_second: 3244.0837, train_label_loss: 0.5741, \n"
     ]
    },
    {
     "name": "stdout",
     "output_type": "stream",
     "text": [
      "=============================================================\n",
      "epoch: 5, source_val_acc_label: 0.7383, target_val_acc_label: 0.7400, source_val_label_loss: 0.7418, target_val_label_loss: 0.7275, \n",
      "=============================================================\n"
     ]
    },
    {
     "name": "stdout",
     "output_type": "stream",
     "text": [
      "New best\n"
     ]
    },
    {
     "name": "stdout",
     "output_type": "stream",
     "text": [
      "epoch: 6, [batch: 1 / 33600], examples_per_second: 0.9688, train_label_loss: 0.2585, \n"
     ]
    },
    {
     "name": "stdout",
     "output_type": "stream",
     "text": [
      "epoch: 6, [batch: 3360 / 33600], examples_per_second: 3231.0808, train_label_loss: 0.9765, \n"
     ]
    },
    {
     "name": "stdout",
     "output_type": "stream",
     "text": [
      "epoch: 6, [batch: 6720 / 33600], examples_per_second: 3221.0275, train_label_loss: 0.3738, \n"
     ]
    },
    {
     "name": "stdout",
     "output_type": "stream",
     "text": [
      "epoch: 6, [batch: 10080 / 33600], examples_per_second: 3230.8743, train_label_loss: 0.2617, \n"
     ]
    },
    {
     "name": "stdout",
     "output_type": "stream",
     "text": [
      "epoch: 6, [batch: 13440 / 33600], examples_per_second: 3219.9395, train_label_loss: 0.4468, \n"
     ]
    },
    {
     "name": "stdout",
     "output_type": "stream",
     "text": [
      "epoch: 6, [batch: 16800 / 33600], examples_per_second: 3238.8413, train_label_loss: 0.5297, \n"
     ]
    },
    {
     "name": "stdout",
     "output_type": "stream",
     "text": [
      "epoch: 6, [batch: 20160 / 33600], examples_per_second: 3239.6139, train_label_loss: 0.5410, \n"
     ]
    },
    {
     "name": "stdout",
     "output_type": "stream",
     "text": [
      "epoch: 6, [batch: 23520 / 33600], examples_per_second: 3225.4549, train_label_loss: 0.3704, \n"
     ]
    },
    {
     "name": "stdout",
     "output_type": "stream",
     "text": [
      "epoch: 6, [batch: 26880 / 33600], examples_per_second: 3235.0897, train_label_loss: 0.4403, \n"
     ]
    },
    {
     "name": "stdout",
     "output_type": "stream",
     "text": [
      "epoch: 6, [batch: 30240 / 33600], examples_per_second: 3245.7482, train_label_loss: 0.3899, \n"
     ]
    },
    {
     "name": "stdout",
     "output_type": "stream",
     "text": [
      "=============================================================\n",
      "epoch: 6, source_val_acc_label: 0.7358, target_val_acc_label: 0.7359, source_val_label_loss: 0.7520, target_val_label_loss: 0.7434, \n",
      "=============================================================\n"
     ]
    },
    {
     "name": "stdout",
     "output_type": "stream",
     "text": [
      "epoch: 7, [batch: 1 / 33600], examples_per_second: 0.9658, train_label_loss: 0.1976, \n"
     ]
    },
    {
     "name": "stdout",
     "output_type": "stream",
     "text": [
      "epoch: 7, [batch: 3360 / 33600], examples_per_second: 3230.5756, train_label_loss: 0.7414, \n"
     ]
    },
    {
     "name": "stdout",
     "output_type": "stream",
     "text": [
      "epoch: 7, [batch: 6720 / 33600], examples_per_second: 3232.6395, train_label_loss: 0.3765, \n"
     ]
    },
    {
     "name": "stdout",
     "output_type": "stream",
     "text": [
      "epoch: 7, [batch: 10080 / 33600], examples_per_second: 3237.3587, train_label_loss: 0.8334, \n"
     ]
    },
    {
     "name": "stdout",
     "output_type": "stream",
     "text": [
      "epoch: 7, [batch: 13440 / 33600], examples_per_second: 3222.7068, train_label_loss: 0.2538, \n"
     ]
    },
    {
     "name": "stdout",
     "output_type": "stream",
     "text": [
      "epoch: 7, [batch: 16800 / 33600], examples_per_second: 3234.2329, train_label_loss: 0.4397, \n"
     ]
    },
    {
     "name": "stdout",
     "output_type": "stream",
     "text": [
      "epoch: 7, [batch: 20160 / 33600], examples_per_second: 3230.4383, train_label_loss: 0.5938, \n"
     ]
    },
    {
     "name": "stdout",
     "output_type": "stream",
     "text": [
      "epoch: 7, [batch: 23520 / 33600], examples_per_second: 3220.2538, train_label_loss: 0.3205, \n"
     ]
    },
    {
     "name": "stdout",
     "output_type": "stream",
     "text": [
      "epoch: 7, [batch: 26880 / 33600], examples_per_second: 3237.8315, train_label_loss: 0.4250, \n"
     ]
    },
    {
     "name": "stdout",
     "output_type": "stream",
     "text": [
      "epoch: 7, [batch: 30240 / 33600], examples_per_second: 3238.0109, train_label_loss: 0.6486, \n"
     ]
    },
    {
     "name": "stdout",
     "output_type": "stream",
     "text": [
      "=============================================================\n",
      "epoch: 7, source_val_acc_label: 0.7340, target_val_acc_label: 0.7321, source_val_label_loss: 0.7438, target_val_label_loss: 0.7374, \n",
      "=============================================================\n"
     ]
    },
    {
     "name": "stdout",
     "output_type": "stream",
     "text": [
      "epoch: 8, [batch: 1 / 33600], examples_per_second: 0.9715, train_label_loss: 0.2703, \n"
     ]
    },
    {
     "name": "stdout",
     "output_type": "stream",
     "text": [
      "epoch: 8, [batch: 3360 / 33600], examples_per_second: 3228.6832, train_label_loss: 0.3638, \n"
     ]
    },
    {
     "name": "stdout",
     "output_type": "stream",
     "text": [
      "epoch: 8, [batch: 6720 / 33600], examples_per_second: 3228.7550, train_label_loss: 0.5483, \n"
     ]
    },
    {
     "name": "stdout",
     "output_type": "stream",
     "text": [
      "epoch: 8, [batch: 10080 / 33600], examples_per_second: 3225.3546, train_label_loss: 0.4751, \n"
     ]
    },
    {
     "name": "stdout",
     "output_type": "stream",
     "text": [
      "epoch: 8, [batch: 13440 / 33600], examples_per_second: 3229.0165, train_label_loss: 0.4893, \n"
     ]
    },
    {
     "name": "stdout",
     "output_type": "stream",
     "text": [
      "epoch: 8, [batch: 16800 / 33600], examples_per_second: 3233.6130, train_label_loss: 0.1986, \n"
     ]
    },
    {
     "name": "stdout",
     "output_type": "stream",
     "text": [
      "epoch: 8, [batch: 20160 / 33600], examples_per_second: 3245.3261, train_label_loss: 0.3366, \n"
     ]
    },
    {
     "name": "stdout",
     "output_type": "stream",
     "text": [
      "epoch: 8, [batch: 23520 / 33600], examples_per_second: 3232.6597, train_label_loss: 0.7074, \n"
     ]
    },
    {
     "name": "stdout",
     "output_type": "stream",
     "text": [
      "epoch: 8, [batch: 26880 / 33600], examples_per_second: 3234.9192, train_label_loss: 0.5735, \n"
     ]
    },
    {
     "name": "stdout",
     "output_type": "stream",
     "text": [
      "epoch: 8, [batch: 30240 / 33600], examples_per_second: 3233.0229, train_label_loss: 0.3233, \n"
     ]
    },
    {
     "name": "stdout",
     "output_type": "stream",
     "text": [
      "=============================================================\n",
      "epoch: 8, source_val_acc_label: 0.7278, target_val_acc_label: 0.7239, source_val_label_loss: 0.7886, target_val_label_loss: 0.7904, \n",
      "=============================================================\n"
     ]
    },
    {
     "name": "stdout",
     "output_type": "stream",
     "text": [
      "epoch: 9, [batch: 1 / 33600], examples_per_second: 0.9683, train_label_loss: 0.7303, \n"
     ]
    },
    {
     "name": "stdout",
     "output_type": "stream",
     "text": [
      "epoch: 9, [batch: 3360 / 33600], examples_per_second: 3223.9769, train_label_loss: 0.4599, \n"
     ]
    },
    {
     "name": "stdout",
     "output_type": "stream",
     "text": [
      "epoch: 9, [batch: 6720 / 33600], examples_per_second: 3225.6565, train_label_loss: 0.4131, \n"
     ]
    },
    {
     "name": "stdout",
     "output_type": "stream",
     "text": [
      "epoch: 9, [batch: 10080 / 33600], examples_per_second: 3234.2231, train_label_loss: 0.1738, \n"
     ]
    },
    {
     "name": "stdout",
     "output_type": "stream",
     "text": [
      "epoch: 9, [batch: 13440 / 33600], examples_per_second: 3222.5565, train_label_loss: 0.3040, \n"
     ]
    },
    {
     "name": "stdout",
     "output_type": "stream",
     "text": [
      "epoch: 9, [batch: 16800 / 33600], examples_per_second: 3244.1220, train_label_loss: 1.0383, \n"
     ]
    },
    {
     "name": "stdout",
     "output_type": "stream",
     "text": [
      "epoch: 9, [batch: 20160 / 33600], examples_per_second: 3237.2504, train_label_loss: 0.2913, \n"
     ]
    },
    {
     "name": "stdout",
     "output_type": "stream",
     "text": [
      "epoch: 9, [batch: 23520 / 33600], examples_per_second: 3234.4610, train_label_loss: 0.3207, \n"
     ]
    },
    {
     "name": "stdout",
     "output_type": "stream",
     "text": [
      "epoch: 9, [batch: 26880 / 33600], examples_per_second: 3223.3521, train_label_loss: 0.1218, \n"
     ]
    },
    {
     "name": "stdout",
     "output_type": "stream",
     "text": [
      "epoch: 9, [batch: 30240 / 33600], examples_per_second: 3239.8774, train_label_loss: 0.1018, \n"
     ]
    },
    {
     "name": "stdout",
     "output_type": "stream",
     "text": [
      "=============================================================\n",
      "epoch: 9, source_val_acc_label: 0.7278, target_val_acc_label: 0.7259, source_val_label_loss: 0.8144, target_val_label_loss: 0.8232, \n",
      "=============================================================\n"
     ]
    },
    {
     "name": "stdout",
     "output_type": "stream",
     "text": [
      "Patience (3) exhausted\n"
     ]
    }
   ],
   "source": [
    "###################################\n",
    "# train\n",
    "###################################\n",
    "jig = PTN_Train_Eval_Test_Jig(model, p.BEST_MODEL_PATH, p.device)\n",
    "\n",
    "jig.train(\n",
    "    train_iterable=datasets.source.processed.train,\n",
    "    source_val_iterable=datasets.source.processed.val,\n",
    "    target_val_iterable=datasets.target.processed.val,\n",
    "    num_epochs=p.n_epoch,\n",
    "    num_logs_per_epoch=p.NUM_LOGS_PER_EPOCH,\n",
    "    patience=p.patience,\n",
    "    optimizer=optimizer,\n",
    "    criteria_for_best=p.criteria_for_best,\n",
    ")"
   ]
  },
  {
   "cell_type": "code",
   "execution_count": 23,
   "id": "31e8fabf",
   "metadata": {
    "execution": {
     "iopub.execute_input": "2022-03-10T18:37:39.694789Z",
     "iopub.status.busy": "2022-03-10T18:37:39.694537Z",
     "iopub.status.idle": "2022-03-10T18:37:39.713339Z",
     "shell.execute_reply": "2022-03-10T18:37:39.712951Z"
    },
    "papermill": {
     "duration": 0.054787,
     "end_time": "2022-03-10T18:37:39.713430",
     "exception": false,
     "start_time": "2022-03-10T18:37:39.658643",
     "status": "completed"
    },
    "tags": []
   },
   "outputs": [],
   "source": [
    "total_experiment_time_secs = time.time() - start_time_secs"
   ]
  },
  {
   "cell_type": "code",
   "execution_count": 24,
   "id": "87b9595b",
   "metadata": {
    "execution": {
     "iopub.execute_input": "2022-03-10T18:37:39.792608Z",
     "iopub.status.busy": "2022-03-10T18:37:39.786066Z",
     "iopub.status.idle": "2022-03-10T18:45:37.922473Z",
     "shell.execute_reply": "2022-03-10T18:45:37.922013Z"
    },
    "papermill": {
     "duration": 478.17354,
     "end_time": "2022-03-10T18:45:37.922579",
     "exception": false,
     "start_time": "2022-03-10T18:37:39.749039",
     "status": "completed"
    },
    "tags": []
   },
   "outputs": [],
   "source": [
    "###################################\n",
    "# Evaluate the model\n",
    "###################################\n",
    "source_test_label_accuracy, source_test_label_loss = jig.test(datasets.source.processed.test)\n",
    "target_test_label_accuracy, target_test_label_loss = jig.test(datasets.target.processed.test)\n",
    "\n",
    "source_val_label_accuracy, source_val_label_loss = jig.test(datasets.source.processed.val)\n",
    "target_val_label_accuracy, target_val_label_loss = jig.test(datasets.target.processed.val)\n",
    "\n",
    "history = jig.get_history()\n",
    "\n",
    "total_epochs_trained = len(history[\"epoch_indices\"])\n",
    "\n",
    "val_dl = Iterable_Aggregator((datasets.source.original.val,datasets.target.original.val))\n",
    "\n",
    "confusion = ptn_confusion_by_domain_over_dataloader(model, p.device, val_dl)\n",
    "per_domain_accuracy = per_domain_accuracy_from_confusion(confusion)\n",
    "\n",
    "# Add a key to per_domain_accuracy for if it was a source domain\n",
    "for domain, accuracy in per_domain_accuracy.items():\n",
    "    per_domain_accuracy[domain] = {\n",
    "        \"accuracy\": accuracy,\n",
    "        \"source?\": domain in p.domains_source\n",
    "    }\n",
    "\n",
    "# Do an independent accuracy assesment JUST TO BE SURE!\n",
    "# _source_test_label_accuracy = independent_accuracy_assesment(model, datasets.source.processed.test, p.device)\n",
    "# _target_test_label_accuracy = independent_accuracy_assesment(model, datasets.target.processed.test, p.device)\n",
    "# _source_val_label_accuracy = independent_accuracy_assesment(model, datasets.source.processed.val, p.device)\n",
    "# _target_val_label_accuracy = independent_accuracy_assesment(model, datasets.target.processed.val, p.device)\n",
    "\n",
    "# assert(_source_test_label_accuracy == source_test_label_accuracy)\n",
    "# assert(_target_test_label_accuracy == target_test_label_accuracy)\n",
    "# assert(_source_val_label_accuracy == source_val_label_accuracy)\n",
    "# assert(_target_val_label_accuracy == target_val_label_accuracy)\n",
    "\n",
    "experiment = {\n",
    "    \"experiment_name\": p.experiment_name,\n",
    "    \"parameters\": dict(p),\n",
    "    \"results\": {\n",
    "        \"source_test_label_accuracy\": source_test_label_accuracy,\n",
    "        \"source_test_label_loss\": source_test_label_loss,\n",
    "        \"target_test_label_accuracy\": target_test_label_accuracy,\n",
    "        \"target_test_label_loss\": target_test_label_loss,\n",
    "        \"source_val_label_accuracy\": source_val_label_accuracy,\n",
    "        \"source_val_label_loss\": source_val_label_loss,\n",
    "        \"target_val_label_accuracy\": target_val_label_accuracy,\n",
    "        \"target_val_label_loss\": target_val_label_loss,\n",
    "        \"total_epochs_trained\": total_epochs_trained,\n",
    "        \"total_experiment_time_secs\": total_experiment_time_secs,\n",
    "        \"confusion\": confusion,\n",
    "        \"per_domain_accuracy\": per_domain_accuracy,\n",
    "    },\n",
    "    \"history\": history,\n",
    "    \"dataset_metrics\": get_dataset_metrics(datasets, \"ptn\"),\n",
    "}"
   ]
  },
  {
   "cell_type": "code",
   "execution_count": 25,
   "id": "54a21829",
   "metadata": {
    "execution": {
     "iopub.execute_input": "2022-03-10T18:45:37.995187Z",
     "iopub.status.busy": "2022-03-10T18:45:37.994936Z",
     "iopub.status.idle": "2022-03-10T18:45:38.188636Z",
     "shell.execute_reply": "2022-03-10T18:45:38.188185Z"
    },
    "papermill": {
     "duration": 0.229079,
     "end_time": "2022-03-10T18:45:38.188726",
     "exception": false,
     "start_time": "2022-03-10T18:45:37.959647",
     "status": "completed"
    },
    "tags": []
   },
   "outputs": [
    {
     "data": {
      "image/png": "[encoded data removed]",
      "text/plain": [
       "<Figure size 1080x504 with 1 Axes>"
      ]
     },
     "metadata": {
      "needs_background": "light"
     },
     "output_type": "display_data"
    }
   ],
   "source": [
    "ax = get_loss_curve(experiment)\n",
    "plt.show()"
   ]
  },
  {
   "cell_type": "code",
   "execution_count": 26,
   "id": "fd8a0f60",
   "metadata": {
    "execution": {
     "iopub.execute_input": "2022-03-10T18:45:38.269264Z",
     "iopub.status.busy": "2022-03-10T18:45:38.260449Z",
     "iopub.status.idle": "2022-03-10T18:45:38.439069Z",
     "shell.execute_reply": "2022-03-10T18:45:38.439381Z"
    },
    "papermill": {
     "duration": 0.214608,
     "end_time": "2022-03-10T18:45:38.439470",
     "exception": false,
     "start_time": "2022-03-10T18:45:38.224862",
     "status": "completed"
    },
    "tags": []
   },
   "outputs": [
    {
     "data": {
      "text/plain": [
       "<matplotlib.axes._subplots.AxesSubplot at 0x7f6de195f6d0>"
      ]
     },
     "execution_count": 26,
     "metadata": {},
     "output_type": "execute_result"
    },
    {
     "data": {
      "image/png": "[encoded data removed]",
      "text/plain": [
       "<Figure size 1080x504 with 1 Axes>"
      ]
     },
     "metadata": {
      "needs_background": "light"
     },
     "output_type": "display_data"
    }
   ],
   "source": [
    "get_results_table(experiment)"
   ]
  },
  {
   "cell_type": "code",
   "execution_count": 27,
   "id": "cf8dc689",
   "metadata": {
    "execution": {
     "iopub.execute_input": "2022-03-10T18:45:38.514213Z",
     "iopub.status.busy": "2022-03-10T18:45:38.513964Z",
     "iopub.status.idle": "2022-03-10T18:45:38.733731Z",
     "shell.execute_reply": "2022-03-10T18:45:38.733345Z"
    },
    "papermill": {
     "duration": 0.256427,
     "end_time": "2022-03-10T18:45:38.733827",
     "exception": false,
     "start_time": "2022-03-10T18:45:38.477400",
     "status": "completed"
    },
    "tags": []
   },
   "outputs": [
    {
     "data": {
      "text/plain": [
       "<matplotlib.axes._subplots.AxesSubplot at 0x7f6de1986ee0>"
      ]
     },
     "execution_count": 27,
     "metadata": {},
     "output_type": "execute_result"
    },
    {
     "data": {
      "image/png": "[encoded data removed]",
      "text/plain": [
       "<Figure size 1080x504 with 1 Axes>"
      ]
     },
     "metadata": {
      "needs_background": "light"
     },
     "output_type": "display_data"
    }
   ],
   "source": [
    "get_domain_accuracies(experiment)"
   ]
  },
  {
   "cell_type": "code",
   "execution_count": 28,
   "id": "a74ae082",
   "metadata": {
    "execution": {
     "iopub.execute_input": "2022-03-10T18:45:38.816104Z",
     "iopub.status.busy": "2022-03-10T18:45:38.811535Z",
     "iopub.status.idle": "2022-03-10T18:45:38.827042Z",
     "shell.execute_reply": "2022-03-10T18:45:38.827467Z"
    },
    "papermill": {
     "duration": 0.054007,
     "end_time": "2022-03-10T18:45:38.827587",
     "exception": false,
     "start_time": "2022-03-10T18:45:38.773580",
     "status": "completed"
    },
    "tags": []
   },
   "outputs": [
    {
     "name": "stdout",
     "output_type": "stream",
     "text": [
      "Source Test Label Accuracy: 0.74009765625 Target Test Label Accuracy: 0.7401497395833333\n",
      "Source Val Label Accuracy: 0.7383463541666667 Target Val Label Accuracy: 0.7400260416666666\n"
     ]
    }
   ],
   "source": [
    "print(\"Source Test Label Accuracy:\", experiment[\"results\"][\"source_test_label_accuracy\"], \"Target Test Label Accuracy:\", experiment[\"results\"][\"target_test_label_accuracy\"])\n",
    "print(\"Source Val Label Accuracy:\", experiment[\"results\"][\"source_val_label_accuracy\"], \"Target Val Label Accuracy:\", experiment[\"results\"][\"target_val_label_accuracy\"])"
   ]
  },
  {
   "cell_type": "code",
   "execution_count": 29,
   "id": "dacca602",
   "metadata": {
    "execution": {
     "iopub.execute_input": "2022-03-10T18:45:38.915447Z",
     "iopub.status.busy": "2022-03-10T18:45:38.905898Z",
     "iopub.status.idle": "2022-03-10T18:45:38.922694Z",
     "shell.execute_reply": "2022-03-10T18:45:38.923155Z"
    },
    "papermill": {
     "duration": 0.054721,
     "end_time": "2022-03-10T18:45:38.923276",
     "exception": false,
     "start_time": "2022-03-10T18:45:38.868555",
     "status": "completed"
    },
    "tags": [
     "experiment_json"
    ]
   },
   "outputs": [
    {
     "data": {
      "text/plain": [
       "'{\"experiment_name\": \"tl_1_oracle.run1-oracle.run2\", \"parameters\": {\"experiment_name\": \"tl_1_oracle.run1-oracle.run2\", \"device\": \"cuda\", \"lr\": 0.001, \"seed\": 1337, \"dataset_seed\": 1337, \"n_shot\": 3, \"n_query\": 2, \"train_k_factor\": 3, \"val_k_factor\": 2, \"test_k_factor\": 2, \"torch_default_dtype\": \"torch.float32\", \"n_epoch\": 50, \"patience\": 3, \"criteria_for_best\": \"target_loss\", \"x_net\": [{\"class\": \"nnReshape\", \"kargs\": {\"shape\": [-1, 1, 2, 256]}}, {\"class\": \"Conv2d\", \"kargs\": {\"in_channels\": 1, \"out_channels\": 256, \"kernel_size\": [1, 7], \"bias\": false, \"padding\": [0, 3]}}, {\"class\": \"ReLU\", \"kargs\": {\"inplace\": true}}, {\"class\": \"BatchNorm2d\", \"kargs\": {\"num_features\": 256}}, {\"class\": \"Conv2d\", \"kargs\": {\"in_channels\": 256, \"out_channels\": 80, \"kernel_size\": [2, 7], \"bias\": true, \"padding\": [0, 3]}}, {\"class\": \"ReLU\", \"kargs\": {\"inplace\": true}}, {\"class\": \"BatchNorm2d\", \"kargs\": {\"num_features\": 80}}, {\"class\": \"Flatten\", \"kargs\": {}}, {\"class\": \"Linear\", \"kargs\": {\"in_features\": 20480, \"out_features\": 256}}, {\"class\": \"ReLU\", \"kargs\": {\"inplace\": true}}, {\"class\": \"BatchNorm1d\", \"kargs\": {\"num_features\": 256}}, {\"class\": \"Linear\", \"kargs\": {\"in_features\": 256, \"out_features\": 256}}], \"NUM_LOGS_PER_EPOCH\": 10, \"BEST_MODEL_PATH\": \"./best_model.pth\", \"n_way\": 16, \"datasets\": [{\"labels\": [\"3123D52\", \"3123D65\", \"3123D79\", \"3123D80\", \"3123D54\", \"3123D70\", \"3123D7B\", \"3123D89\", \"3123D58\", \"3123D76\", \"3123D7D\", \"3123EFE\", \"3123D64\", \"3123D78\", \"3123D7E\", \"3124E4A\"], \"domains\": [32, 38, 8, 44, 14, 50, 20, 26], \"num_examples_per_domain_per_label\": 10000, \"pickle_path\": \"/mnt/wd500GB/CSC500/csc500-main/datasets/oracle.Run1_10kExamples_stratified_ds.2022A.pkl\", \"source_or_target_dataset\": \"target\", \"x_transforms\": [\"unit_mag\"], \"episode_transforms\": [], \"domain_prefix\": \"ORACLE.run1_\"}, {\"labels\": [\"3123D52\", \"3123D65\", \"3123D79\", \"3123D80\", \"3123D54\", \"3123D70\", \"3123D7B\", \"3123D89\", \"3123D58\", \"3123D76\", \"3123D7D\", \"3123EFE\", \"3123D64\", \"3123D78\", \"3123D7E\", \"3124E4A\"], \"domains\": [32, 38, 8, 44, 14, 50, 20, 26], \"num_examples_per_domain_per_label\": 10000, \"pickle_path\": \"/mnt/wd500GB/CSC500/csc500-main/datasets/oracle.Run2_10kExamples_stratified_ds.2022A.pkl\", \"source_or_target_dataset\": \"source\", \"x_transforms\": [\"unit_mag\"], \"episode_transforms\": [], \"domain_prefix\": \"ORACLE.run2_\"}], \"domains_source\": [\"ORACLE.run2_32\", \"ORACLE.run2_38\", \"ORACLE.run2_8\", \"ORACLE.run2_44\", \"ORACLE.run2_14\", \"ORACLE.run2_50\", \"ORACLE.run2_20\", \"ORACLE.run2_26\"], \"domains_target\": [\"ORACLE.run1_32\", \"ORACLE.run1_38\", \"ORACLE.run1_8\", \"ORACLE.run1_44\", \"ORACLE.run1_14\", \"ORACLE.run1_50\", \"ORACLE.run1_20\", \"ORACLE.run1_26\"]}, \"results\": {\"source_test_label_accuracy\": 0.74009765625, \"source_test_label_loss\": 0.7375272512435913, \"target_test_label_accuracy\": 0.7401497395833333, \"target_test_label_loss\": 0.7302616834640503, \"source_val_label_accuracy\": 0.7383463541666667, \"source_val_label_loss\": 0.7417687177658081, \"target_val_label_accuracy\": 0.7400260416666666, \"target_val_label_loss\": 0.727463960647583, \"total_epochs_trained\": 9, \"total_experiment_time_secs\": 8408.821081876755, \"confusion\": {\"ORACLE.run2_14\": {\"15\": {\"15\": 1191, \"7\": 8, \"2\": 1}, \"3\": {\"3\": 1040, \"14\": 20, \"4\": 72, \"5\": 45, \"0\": 1, \"2\": 19, \"1\": 3}, \"6\": {\"13\": 225, \"6\": 905, \"14\": 49, \"2\": 20, \"4\": 1}, \"1\": {\"1\": 1095, \"5\": 82, \"4\": 22, \"3\": 1}, \"8\": {\"8\": 1194, \"9\": 5, \"0\": 1}, \"10\": {\"10\": 1166, \"0\": 34}, \"9\": {\"9\": 1194, \"12\": 3, \"11\": 3}, \"13\": {\"13\": 907, \"6\": 268, \"2\": 23, \"4\": 2}, \"12\": {\"12\": 715, \"11\": 272, \"10\": 13, \"9\": 119, \"0\": 78, \"8\": 3}, \"5\": {\"5\": 703, \"4\": 275, \"1\": 87, \"2\": 70, \"3\": 65}, \"0\": {\"0\": 1196, \"14\": 1, \"9\": 2, \"3\": 1}, \"2\": {\"2\": 597, \"14\": 203, \"13\": 92, \"3\": 79, \"5\": 134, \"15\": 7, \"4\": 60, \"1\": 1, \"6\": 23, \"7\": 4}, \"11\": {\"11\": 1180, \"12\": 18, \"9\": 1, \"0\": 1}, \"14\": {\"3\": 30, \"14\": 937, \"2\": 138, \"6\": 75, \"0\": 6, \"4\": 7, \"13\": 6, \"5\": 1}, \"7\": {\"7\": 1198, \"15\": 2}, \"4\": {\"4\": 848, \"2\": 31, \"5\": 250, \"3\": 46, \"1\": 23, \"6\": 1, \"14\": 1}}, \"ORACLE.run2_20\": {\"3\": {\"3\": 553, \"2\": 180, \"5\": 147, \"7\": 141, \"12\": 35, \"9\": 107, \"8\": 7, \"4\": 20, \"10\": 3, \"0\": 2, \"15\": 4, \"1\": 1}, \"15\": {\"2\": 93, \"13\": 272, \"9\": 41, \"15\": 551, \"12\": 59, \"0\": 43, \"1\": 81, \"5\": 58, \"3\": 2}, \"8\": {\"8\": 873, \"14\": 118, \"7\": 113, \"4\": 39, \"6\": 25, \"10\": 21, \"5\": 7, \"2\": 2, \"3\": 2}, \"4\": {\"4\": 1123, \"12\": 27, \"5\": 19, \"3\": 9, \"1\": 1, \"0\": 5, \"10\": 7, \"8\": 8, \"7\": 1}, \"14\": {\"14\": 930, \"10\": 56, \"8\": 117, \"6\": 94, \"7\": 3}, \"0\": {\"1\": 58, \"12\": 56, \"0\": 892, \"5\": 90, \"4\": 28, \"15\": 53, \"13\": 20, \"3\": 3}, \"7\": {\"7\": 963, \"3\": 92, \"8\": 109, \"5\": 17, \"10\": 13, \"2\": 4, \"6\": 2}, \"6\": {\"6\": 1131, \"14\": 49, \"8\": 15, \"7\": 1, \"10\": 4}, \"10\": {\"10\": 1083, \"14\": 61, \"7\": 10, \"3\": 4, \"6\": 5, \"8\": 28, \"4\": 9}, \"5\": {\"3\": 139, \"5\": 555, \"2\": 149, \"0\": 95, \"12\": 85, \"15\": 73, \"9\": 33, \"7\": 23, \"1\": 11, \"4\": 23, \"13\": 11, \"8\": 3}, \"2\": {\"2\": 428, \"15\": 77, \"9\": 276, \"3\": 183, \"5\": 138, \"12\": 63, \"13\": 19, \"1\": 9, \"0\": 4, \"7\": 3}, \"12\": {\"12\": 528, \"1\": 230, \"0\": 48, \"9\": 125, \"3\": 27, \"15\": 70, \"4\": 31, \"2\": 65, \"5\": 72, \"13\": 4}, \"9\": {\"2\": 259, \"9\": 558, \"1\": 29, \"3\": 114, \"12\": 143, \"15\": 50, \"5\": 41, \"13\": 5, \"4\": 1}, \"1\": {\"1\": 704, \"12\": 253, \"0\": 64, \"15\": 111, \"9\": 40, \"2\": 13, \"13\": 8, \"5\": 6, \"4\": 1}, \"11\": {\"11\": 1200}, \"13\": {\"5\": 10, \"13\": 879, \"9\": 8, \"15\": 257, \"1\": 10, \"2\": 30, \"0\": 6}}, \"ORACLE.run2_38\": {\"5\": {\"5\": 526, \"8\": 378, \"15\": 128, \"7\": 120, \"13\": 27, \"10\": 15, \"3\": 4, \"1\": 2}, \"8\": {\"8\": 476, \"5\": 335, \"15\": 215, \"13\": 59, \"7\": 92, \"10\": 17, \"3\": 5, \"1\": 1}, \"11\": {\"14\": 47, \"11\": 1128, \"2\": 6, \"4\": 6, \"12\": 13}, \"1\": {\"1\": 1141, \"15\": 51, \"13\": 4, \"5\": 2, \"8\": 2}, \"10\": {\"10\": 698, \"7\": 371, \"0\": 14, \"8\": 34, \"3\": 29, \"5\": 30, \"13\": 23, \"4\": 1}, \"15\": {\"15\": 639, \"1\": 110, \"8\": 234, \"5\": 167, \"6\": 9, \"0\": 5, \"7\": 12, \"13\": 16, \"10\": 3, \"3\": 4, \"9\": 1}, \"3\": {\"0\": 263, \"3\": 529, \"6\": 26, \"13\": 137, \"10\": 57, \"8\": 63, \"9\": 47, \"7\": 31, \"15\": 19, \"5\": 25, \"1\": 3}, \"7\": {\"10\": 293, \"7\": 650, \"5\": 119, \"8\": 103, \"0\": 5, \"13\": 13, \"3\": 9, \"15\": 7, \"14\": 1}, \"4\": {\"4\": 1162, \"12\": 35, \"14\": 1, \"7\": 1, \"10\": 1}, \"14\": {\"14\": 814, \"11\": 16, \"2\": 267, \"12\": 66, \"7\": 14, \"13\": 2, \"5\": 13, \"4\": 1, \"8\": 6, \"10\": 1}, \"9\": {\"9\": 899, \"6\": 292, \"13\": 1, \"3\": 7, \"0\": 1}, \"12\": {\"12\": 1183, \"14\": 9, \"4\": 8}, \"6\": {\"6\": 995, \"9\": 201, \"15\": 1, \"3\": 2, \"13\": 1}, \"2\": {\"2\": 1088, \"14\": 112}, \"0\": {\"0\": 1047, \"3\": 130, \"7\": 4, \"15\": 1, \"10\": 13, \"8\": 1, \"5\": 1, \"9\": 3}, \"13\": {\"13\": 637, \"8\": 135, \"10\": 28, \"6\": 8, \"5\": 82, \"1\": 48, \"7\": 25, \"3\": 147, \"0\": 7, \"15\": 63, \"2\": 11, \"9\": 4, \"14\": 5}}, \"ORACLE.run2_8\": {\"9\": {\"9\": 1196, \"5\": 4}, \"10\": {\"10\": 790, \"0\": 198, \"5\": 134, \"13\": 33, \"14\": 40, \"1\": 5}, \"13\": {\"13\": 897, \"0\": 6, \"14\": 133, \"1\": 101, \"10\": 50, \"6\": 10, \"5\": 3}, \"0\": {\"0\": 857, \"10\": 150, \"14\": 179, \"13\": 5, \"6\": 5, \"5\": 1, \"4\": 3}, \"1\": {\"1\": 1119, \"13\": 65, \"10\": 5, \"5\": 11}, \"15\": {\"15\": 764, \"8\": 127, \"11\": 118, \"12\": 180, \"3\": 6, \"7\": 5}, \"5\": {\"5\": 984, \"10\": 187, \"1\": 19, \"13\": 6, \"0\": 3, \"9\": 1}, \"3\": {\"3\": 1132, \"12\": 65, \"15\": 3}, \"6\": {\"6\": 619, \"4\": 368, \"7\": 148, \"14\": 53, \"2\": 8, \"0\": 2, \"13\": 2}, \"11\": {\"11\": 659, \"8\": 274, \"15\": 172, \"12\": 94, \"7\": 1}, \"8\": {\"8\": 1034, \"11\": 86, \"15\": 75, \"7\": 4, \"6\": 1}, \"4\": {\"6\": 363, \"4\": 490, \"7\": 273, \"2\": 57, \"0\": 2, \"14\": 15}, \"12\": {\"12\": 1053, \"15\": 82, \"3\": 53, \"11\": 12}, \"14\": {\"0\": 161, \"14\": 804, \"10\": 46, \"13\": 111, \"6\": 64, \"4\": 13, \"7\": 1}, \"2\": {\"4\": 83, \"2\": 995, \"7\": 114, \"6\": 8}, \"7\": {\"6\": 196, \"7\": 653, \"4\": 239, \"2\": 109, \"8\": 1, \"14\": 2}}, \"ORACLE.run2_50\": {\"7\": {\"7\": 608, \"5\": 109, \"13\": 390, \"10\": 86, \"4\": 5, \"0\": 1, \"6\": 1}, \"3\": {\"3\": 1152, \"8\": 48}, \"8\": {\"8\": 1164, \"3\": 36}, \"2\": {\"2\": 1136, \"0\": 64}, \"14\": {\"11\": 3, \"14\": 1189, \"12\": 8}, \"4\": {\"4\": 634, \"1\": 83, \"5\": 337, \"6\": 141, \"7\": 2, \"13\": 1, \"10\": 2}, \"6\": {\"1\": 163, \"6\": 847, \"4\": 118, \"15\": 10, \"7\": 2, \"5\": 49, \"0\": 8, \"2\": 3}, \"15\": {\"15\": 1093, \"1\": 66, \"11\": 31, \"14\": 1, \"6\": 9}, \"10\": {\"10\": 944, \"5\": 42, \"13\": 142, \"7\": 54, \"0\": 16, \"6\": 2}, \"11\": {\"11\": 1123, \"14\": 16, \"15\": 31, \"9\": 15, \"12\": 15}, \"13\": {\"13\": 751, \"10\": 118, \"7\": 292, \"5\": 38, \"4\": 1}, \"9\": {\"9\": 1141, \"11\": 14, \"12\": 45}, \"0\": {\"0\": 1095, \"2\": 85, \"10\": 18, \"4\": 2}, \"1\": {\"4\": 47, \"15\": 48, \"1\": 952, \"6\": 149, \"5\": 4}, \"12\": {\"12\": 1110, \"14\": 40, \"9\": 43, \"11\": 7}, \"5\": {\"5\": 626, \"10\": 52, \"13\": 56, \"7\": 109, \"4\": 290, \"6\": 55, \"0\": 6, \"1\": 6}}, \"ORACLE.run2_32\": {\"8\": {\"8\": 979, \"5\": 60, \"4\": 27, \"15\": 5, \"13\": 52, \"0\": 57, \"3\": 16, \"11\": 4}, \"14\": {\"14\": 1082, \"2\": 61, \"0\": 27, \"5\": 23, \"4\": 1, \"11\": 6}, \"2\": {\"2\": 1029, \"14\": 67, \"7\": 12, \"5\": 47, \"4\": 20, \"11\": 7, \"0\": 17, \"13\": 1}, \"0\": {\"0\": 681, \"5\": 138, \"11\": 145, \"4\": 98, \"7\": 11, \"14\": 12, \"8\": 68, \"13\": 32, \"2\": 14, \"3\": 1}, \"1\": {\"1\": 1174, \"10\": 26}, \"10\": {\"10\": 1191, \"1\": 9}, \"11\": {\"13\": 59, \"4\": 55, \"7\": 195, \"11\": 710, \"0\": 148, \"2\": 13, \"5\": 5, \"14\": 10, \"8\": 5}, \"5\": {\"2\": 133, \"3\": 5, \"13\": 39, \"8\": 129, \"14\": 52, \"5\": 523, \"4\": 125, \"0\": 164, \"11\": 15, \"7\": 15}, \"15\": {\"15\": 1198, \"8\": 2}, \"3\": {\"3\": 1153, \"13\": 34, \"8\": 11, \"4\": 1, \"7\": 1}, \"12\": {\"12\": 1200}, \"7\": {\"7\": 768, \"2\": 15, \"0\": 16, \"13\": 110, \"11\": 199, \"4\": 81, \"3\": 3, \"5\": 8}, \"13\": {\"3\": 18, \"13\": 709, \"4\": 250, \"7\": 109, \"5\": 20, \"11\": 40, \"8\": 37, \"0\": 17}, \"6\": {\"6\": 1200}, \"4\": {\"13\": 216, \"4\": 625, \"5\": 103, \"0\": 86, \"7\": 79, \"11\": 37, \"2\": 21, \"8\": 33}, \"9\": {\"9\": 1178, \"14\": 21, \"12\": 1}}, \"ORACLE.run2_26\": {\"4\": {\"4\": 711, \"8\": 40, \"15\": 35, \"0\": 123, \"14\": 57, \"10\": 16, \"7\": 58, \"2\": 74, \"3\": 75, \"1\": 11}, \"12\": {\"12\": 1196, \"11\": 4}, \"10\": {\"0\": 239, \"10\": 431, \"14\": 174, \"4\": 83, \"8\": 96, \"1\": 75, \"15\": 1, \"6\": 72, \"2\": 12, \"7\": 6, \"12\": 5, \"9\": 4, \"5\": 2}, \"0\": {\"4\": 150, \"8\": 86, \"0\": 443, \"10\": 176, \"14\": 243, \"1\": 73, \"2\": 10, \"7\": 12, \"15\": 7}, \"13\": {\"13\": 923, \"9\": 78, \"5\": 166, \"6\": 28, \"7\": 1, \"2\": 4}, \"9\": {\"13\": 97, \"9\": 749, \"5\": 68, \"8\": 98, \"6\": 131, \"10\": 8, \"2\": 13, \"7\": 28, \"15\": 8}, \"3\": {\"2\": 127, \"3\": 747, \"15\": 185, \"4\": 59, \"7\": 81, \"8\": 1}, \"2\": {\"9\": 15, \"3\": 135, \"4\": 105, \"2\": 368, \"7\": 394, \"15\": 78, \"5\": 30, \"0\": 4, \"8\": 66, \"13\": 1, \"14\": 3, \"10\": 1}, \"5\": {\"5\": 553, \"13\": 286, \"6\": 67, \"2\": 77, \"8\": 41, \"3\": 12, \"7\": 95, \"4\": 1, \"9\": 58, \"10\": 8, \"14\": 2}, \"14\": {\"4\": 59, \"8\": 81, \"1\": 261, \"14\": 418, \"0\": 223, \"10\": 150, \"2\": 4, \"5\": 3, \"7\": 1}, \"8\": {\"7\": 140, \"8\": 577, \"0\": 66, \"14\": 55, \"9\": 101, \"15\": 11, \"5\": 35, \"4\": 38, \"2\": 63, \"10\": 90, \"1\": 1, \"6\": 19, \"13\": 4}, \"7\": {\"2\": 388, \"7\": 417, \"5\": 44, \"8\": 117, \"4\": 72, \"14\": 1, \"3\": 73, \"15\": 56, \"9\": 24, \"10\": 1, \"13\": 3, \"0\": 3, \"1\": 1}, \"6\": {\"6\": 908, \"10\": 45, \"9\": 151, \"13\": 47, \"8\": 26, \"5\": 19, \"14\": 1, \"0\": 2, \"1\": 1}, \"11\": {\"11\": 1193, \"12\": 7}, \"15\": {\"3\": 195, \"15\": 744, \"8\": 10, \"7\": 83, \"5\": 3, \"2\": 114, \"4\": 43, \"9\": 5, \"0\": 3}, \"1\": {\"1\": 750, \"8\": 12, \"14\": 314, \"10\": 50, \"0\": 59, \"4\": 11, \"2\": 4}}, \"ORACLE.run2_44\": {\"12\": {\"1\": 291, \"12\": 850, \"3\": 55, \"10\": 4}, \"7\": {\"9\": 301, \"7\": 662, \"2\": 215, \"6\": 16, \"1\": 6}, \"5\": {\"5\": 1087, \"0\": 7, \"14\": 73, \"8\": 31, \"15\": 1, \"4\": 1}, \"15\": {\"15\": 1036, \"14\": 119, \"8\": 12, \"4\": 28, \"5\": 3, \"0\": 2}, \"8\": {\"0\": 493, \"8\": 695, \"15\": 8, \"5\": 4}, \"2\": {\"2\": 704, \"7\": 192, \"9\": 298, \"3\": 4, \"6\": 1, \"1\": 1}, \"13\": {\"13\": 1159, \"4\": 19, \"6\": 21, \"9\": 1}, \"4\": {\"4\": 1089, \"14\": 57, \"15\": 40, \"13\": 14}, \"0\": {\"0\": 666, \"8\": 532, \"15\": 1, \"5\": 1}, \"6\": {\"6\": 1110, \"7\": 25, \"9\": 46, \"13\": 13, \"2\": 3, \"11\": 3}, \"9\": {\"9\": 552, \"7\": 278, \"2\": 328, \"6\": 40, \"1\": 2}, \"11\": {\"11\": 1187, \"6\": 12, \"7\": 1}, \"10\": {\"10\": 1142, \"12\": 39, \"1\": 19}, \"14\": {\"14\": 873, \"4\": 72, \"15\": 153, \"5\": 90, \"8\": 10, \"0\": 2}, \"1\": {\"12\": 300, \"1\": 786, \"10\": 3, \"3\": 107, \"7\": 2, \"9\": 2}, \"3\": {\"3\": 1044, \"1\": 101, \"12\": 51, \"2\": 4}}, \"ORACLE.run1_14\": {\"15\": {\"15\": 1173, \"7\": 27}, \"3\": {\"3\": 1069, \"4\": 108, \"14\": 9, \"10\": 1, \"5\": 4, \"0\": 3, \"2\": 6}, \"6\": {\"13\": 406, \"6\": 714, \"14\": 43, \"2\": 37}, \"1\": {\"1\": 1081, \"5\": 111, \"4\": 8}, \"8\": {\"0\": 3, \"8\": 1196, \"9\": 1}, \"10\": {\"10\": 1166, \"0\": 34}, \"9\": {\"9\": 1188, \"11\": 8, \"12\": 4}, \"13\": {\"6\": 503, \"5\": 23, \"13\": 402, \"14\": 153, \"2\": 109, \"4\": 6, \"10\": 2, \"15\": 1, \"3\": 1}, \"12\": {\"12\": 1197, \"9\": 3}, \"5\": {\"4\": 189, \"5\": 791, \"1\": 165, \"2\": 37, \"3\": 14, \"15\": 2, \"7\": 2}, \"0\": {\"0\": 1089, \"11\": 31, \"10\": 66, \"3\": 12, \"8\": 2}, \"2\": {\"14\": 185, \"13\": 76, \"2\": 611, \"3\": 44, \"4\": 58, \"5\": 135, \"15\": 33, \"6\": 58}, \"11\": {\"11\": 1013, \"0\": 90, \"9\": 93, \"10\": 4}, \"14\": {\"14\": 1008, \"13\": 78, \"6\": 39, \"2\": 64, \"3\": 11}, \"7\": {\"1\": 4, \"7\": 1183, \"15\": 11, \"5\": 2}, \"4\": {\"4\": 936, \"5\": 146, \"3\": 86, \"2\": 19, \"1\": 10, \"6\": 1, \"14\": 2}}, \"ORACLE.run1_20\": {\"3\": {\"12\": 212, \"9\": 182, \"5\": 52, \"3\": 576, \"2\": 60, \"4\": 43, \"7\": 40, \"1\": 24, \"0\": 8, \"10\": 1, \"15\": 1, \"8\": 1}, \"15\": {\"15\": 812, \"1\": 186, \"0\": 65, \"12\": 21, \"5\": 76, \"13\": 35, \"9\": 3, \"2\": 2}, \"8\": {\"8\": 989, \"7\": 64, \"4\": 86, \"0\": 1, \"14\": 35, \"10\": 13, \"6\": 5, \"3\": 6, \"9\": 1}, \"4\": {\"4\": 1062, \"10\": 19, \"3\": 43, \"8\": 62, \"12\": 4, \"7\": 6, \"5\": 1, \"9\": 2, \"0\": 1}, \"14\": {\"14\": 1025, \"6\": 97, \"10\": 56, \"8\": 22}, \"0\": {\"0\": 706, \"5\": 293, \"12\": 16, \"15\": 115, \"1\": 20, \"3\": 13, \"4\": 8, \"9\": 3, \"8\": 5, \"2\": 8, \"7\": 5, \"13\": 8}, \"7\": {\"7\": 992, \"8\": 43, \"13\": 4, \"2\": 95, \"3\": 30, \"9\": 27, \"4\": 5, \"10\": 3, \"5\": 1}, \"6\": {\"6\": 1063, \"14\": 126, \"8\": 5, \"7\": 6}, \"10\": {\"4\": 14, \"10\": 1130, \"14\": 47, \"8\": 9}, \"5\": {\"12\": 130, \"5\": 537, \"1\": 183, \"15\": 81, \"0\": 216, \"3\": 45, \"13\": 2, \"9\": 1, \"4\": 1, \"2\": 4}, \"2\": {\"9\": 270, \"2\": 642, \"12\": 34, \"7\": 126, \"3\": 69, \"1\": 8, \"0\": 1, \"13\": 40, \"15\": 5, \"5\": 5}, \"12\": {\"3\": 211, \"9\": 123, \"12\": 487, \"5\": 120, \"1\": 186, \"2\": 33, \"0\": 12, \"13\": 3, \"15\": 24, \"4\": 1}, \"9\": {\"9\": 522, \"3\": 203, \"12\": 109, \"2\": 308, \"5\": 3, \"0\": 1, \"13\": 8, \"7\": 37, \"1\": 7, \"15\": 2}, \"1\": {\"1\": 584, \"15\": 187, \"12\": 188, \"5\": 185, \"3\": 18, \"9\": 13, \"0\": 19, \"2\": 6}, \"11\": {\"11\": 1200}, \"13\": {\"13\": 1139, \"15\": 15, \"1\": 2, \"0\": 2, \"9\": 6, \"2\": 33, \"5\": 1, \"7\": 2}}, \"ORACLE.run1_38\": {\"5\": {\"8\": 338, \"0\": 69, \"5\": 532, \"6\": 57, \"15\": 53, \"9\": 29, \"7\": 107, \"1\": 8, \"10\": 3, \"13\": 2, \"3\": 2}, \"8\": {\"8\": 755, \"7\": 26, \"15\": 22, \"10\": 17, \"0\": 96, \"5\": 277, \"13\": 7}, \"11\": {\"11\": 1075, \"14\": 107, \"10\": 11, \"2\": 6, \"12\": 1}, \"1\": {\"1\": 1162, \"15\": 36, \"5\": 2}, \"10\": {\"8\": 46, \"10\": 955, \"13\": 119, \"14\": 23, \"7\": 7, \"0\": 15, \"15\": 7, \"11\": 11, \"12\": 8, \"2\": 4, \"5\": 5}, \"15\": {\"15\": 901, \"1\": 100, \"13\": 134, \"8\": 33, \"5\": 24, \"10\": 6, \"2\": 2}, \"3\": {\"3\": 1146, \"0\": 17, \"6\": 2, \"9\": 28, \"7\": 6, \"5\": 1}, \"7\": {\"7\": 967, \"0\": 146, \"5\": 45, \"8\": 38, \"10\": 1, \"9\": 2, \"3\": 1}, \"4\": {\"4\": 1152, \"12\": 46, \"10\": 2}, \"14\": {\"14\": 1093, \"11\": 38, \"2\": 60, \"10\": 6, \"12\": 3}, \"9\": {\"9\": 854, \"6\": 312, \"5\": 11, \"3\": 23}, \"12\": {\"12\": 1158, \"10\": 2, \"4\": 39, \"14\": 1}, \"6\": {\"6\": 1076, \"9\": 115, \"8\": 2, \"5\": 7}, \"2\": {\"2\": 1130, \"13\": 11, \"14\": 57, \"10\": 2}, \"0\": {\"8\": 245, \"0\": 548, \"3\": 82, \"7\": 212, \"5\": 93, \"10\": 15, \"9\": 3, \"15\": 1, \"13\": 1}, \"13\": {\"10\": 80, \"13\": 833, \"2\": 30, \"15\": 229, \"5\": 7, \"0\": 1, \"8\": 14, \"1\": 6}}, \"ORACLE.run1_8\": {\"9\": {\"9\": 1200}, \"10\": {\"10\": 813, \"13\": 87, \"14\": 247, \"11\": 1, \"1\": 3, \"4\": 26, \"5\": 22, \"0\": 1}, \"13\": {\"4\": 193, \"13\": 455, \"0\": 312, \"10\": 110, \"14\": 80, \"6\": 42, \"7\": 6, \"5\": 1, \"11\": 1}, \"0\": {\"7\": 69, \"4\": 30, \"13\": 214, \"0\": 827, \"6\": 54, \"10\": 5, \"14\": 1}, \"1\": {\"1\": 920, \"5\": 12, \"11\": 238, \"14\": 26, \"10\": 4}, \"15\": {\"15\": 934, \"12\": 220, \"8\": 38, \"3\": 3, \"2\": 5}, \"5\": {\"5\": 1088, \"1\": 40, \"10\": 54, \"14\": 17, \"13\": 1}, \"3\": {\"3\": 1070, \"2\": 90, \"12\": 36, \"15\": 4}, \"6\": {\"6\": 773, \"7\": 217, \"0\": 45, \"4\": 129, \"13\": 32, \"14\": 2, \"8\": 2}, \"11\": {\"1\": 378, \"11\": 784, \"14\": 12, \"5\": 19, \"8\": 5, \"4\": 2}, \"8\": {\"8\": 1164, \"15\": 30, \"6\": 3, \"1\": 1, \"7\": 1, \"12\": 1}, \"4\": {\"4\": 675, \"14\": 148, \"13\": 202, \"0\": 29, \"10\": 20, \"6\": 126}, \"12\": {\"3\": 145, \"15\": 361, \"12\": 650, \"8\": 34, \"2\": 10}, \"14\": {\"4\": 170, \"14\": 652, \"10\": 244, \"13\": 84, \"1\": 38, \"11\": 1, \"0\": 1, \"6\": 3, \"5\": 7}, \"2\": {\"2\": 1001, \"3\": 147, \"15\": 24, \"7\": 22, \"12\": 6}, \"7\": {\"7\": 946, \"0\": 36, \"6\": 216, \"13\": 2}}, \"ORACLE.run1_50\": {\"7\": {\"7\": 776, \"5\": 154, \"13\": 244, \"10\": 17, \"6\": 5, \"4\": 3, \"8\": 1}, \"3\": {\"3\": 1172, \"8\": 28}, \"8\": {\"8\": 1155, \"10\": 26, \"3\": 19}, \"2\": {\"2\": 1122, \"0\": 78}, \"14\": {\"14\": 1187, \"12\": 12, \"11\": 1}, \"4\": {\"4\": 546, \"1\": 210, \"15\": 170, \"6\": 84, \"5\": 129, \"7\": 28, \"13\": 33}, \"6\": {\"6\": 912, \"13\": 66, \"5\": 29, \"1\": 84, \"4\": 95, \"15\": 11, \"2\": 1, \"7\": 2}, \"15\": {\"15\": 933, \"1\": 169, \"11\": 17, \"4\": 72, \"6\": 9}, \"10\": {\"10\": 1101, \"7\": 18, \"13\": 22, \"0\": 37, \"8\": 22}, \"11\": {\"11\": 1069, \"9\": 91, \"12\": 6, \"15\": 18, \"14\": 11, \"1\": 5}, \"13\": {\"7\": 196, \"13\": 782, \"0\": 9, \"5\": 157, \"6\": 34, \"4\": 9, \"10\": 12, \"1\": 1}, \"9\": {\"11\": 174, \"9\": 946, \"12\": 77, \"14\": 3}, \"0\": {\"0\": 1061, \"2\": 95, \"10\": 38, \"13\": 5, \"5\": 1}, \"1\": {\"1\": 798, \"15\": 194, \"4\": 104, \"6\": 92, \"2\": 4, \"5\": 7, \"14\": 1}, \"12\": {\"12\": 1100, \"9\": 66, \"11\": 6, \"14\": 28}, \"5\": {\"1\": 47, \"4\": 141, \"13\": 200, \"7\": 280, \"5\": 430, \"6\": 92, \"10\": 8, \"2\": 1, \"0\": 1}}, \"ORACLE.run1_32\": {\"8\": {\"13\": 71, \"8\": 961, \"5\": 72, \"0\": 79, \"14\": 5, \"7\": 3, \"4\": 2, \"3\": 7}, \"14\": {\"0\": 58, \"14\": 478, \"11\": 346, \"7\": 198, \"5\": 29, \"3\": 9, \"8\": 16, \"2\": 11, \"13\": 39, \"4\": 16}, \"2\": {\"4\": 175, \"2\": 984, \"5\": 4, \"7\": 10, \"0\": 27}, \"0\": {\"0\": 945, \"8\": 76, \"5\": 21, \"4\": 49, \"7\": 26, \"2\": 47, \"13\": 12, \"14\": 24}, \"1\": {\"1\": 1180, \"10\": 20}, \"10\": {\"10\": 1184, \"1\": 16}, \"11\": {\"11\": 963, \"14\": 191, \"13\": 15, \"7\": 18, \"5\": 4, \"3\": 9}, \"5\": {\"5\": 415, \"7\": 134, \"13\": 296, \"4\": 155, \"8\": 61, \"3\": 47, \"11\": 12, \"0\": 35, \"14\": 23, \"2\": 22}, \"15\": {\"15\": 1196, \"8\": 4}, \"3\": {\"3\": 1131, \"13\": 41, \"11\": 13, \"8\": 6, \"5\": 8, \"14\": 1}, \"12\": {\"12\": 1200}, \"7\": {\"7\": 575, \"5\": 152, \"14\": 162, \"0\": 32, \"11\": 26, \"13\": 68, \"2\": 12, \"4\": 167, \"8\": 5, \"3\": 1}, \"13\": {\"13\": 572, \"5\": 276, \"7\": 89, \"3\": 77, \"4\": 77, \"14\": 20, \"8\": 63, \"0\": 11, \"11\": 15}, \"6\": {\"6\": 1200}, \"4\": {\"4\": 782, \"0\": 29, \"2\": 157, \"7\": 119, \"13\": 35, \"14\": 3, \"5\": 74, \"8\": 1}, \"9\": {\"9\": 1199, \"12\": 1}}, \"ORACLE.run1_26\": {\"4\": {\"8\": 77, \"0\": 163, \"14\": 253, \"1\": 95, \"4\": 489, \"10\": 53, \"7\": 67, \"3\": 1, \"2\": 2}, \"12\": {\"12\": 1200}, \"10\": {\"10\": 541, \"6\": 56, \"8\": 156, \"0\": 240, \"9\": 14, \"14\": 111, \"4\": 66, \"1\": 14, \"7\": 2}, \"0\": {\"10\": 260, \"6\": 21, \"0\": 372, \"14\": 224, \"1\": 24, \"8\": 127, \"4\": 145, \"7\": 18, \"15\": 3, \"9\": 5, \"3\": 1}, \"13\": {\"13\": 875, \"5\": 216, \"2\": 17, \"9\": 31, \"6\": 7, \"15\": 54}, \"9\": {\"9\": 461, \"8\": 92, \"13\": 38, \"6\": 149, \"15\": 365, \"0\": 7, \"5\": 57, \"2\": 11, \"10\": 14, \"7\": 3, \"4\": 1, \"3\": 2}, \"3\": {\"3\": 759, \"2\": 264, \"7\": 174, \"5\": 2, \"4\": 1}, \"2\": {\"3\": 388, \"2\": 432, \"7\": 127, \"8\": 31, \"5\": 106, \"0\": 1, \"15\": 81, \"9\": 26, \"13\": 6, \"4\": 2}, \"5\": {\"5\": 832, \"13\": 163, \"15\": 114, \"8\": 18, \"9\": 29, \"7\": 3, \"2\": 40, \"3\": 1}, \"14\": {\"4\": 261, \"14\": 424, \"1\": 187, \"0\": 211, \"10\": 82, \"7\": 11, \"8\": 24}, \"8\": {\"10\": 163, \"0\": 100, \"8\": 509, \"4\": 86, \"15\": 62, \"7\": 87, \"9\": 89, \"6\": 38, \"5\": 15, \"2\": 21, \"1\": 5, \"14\": 21, \"3\": 3, \"13\": 1}, \"7\": {\"7\": 708, \"8\": 65, \"4\": 96, \"2\": 109, \"0\": 21, \"5\": 4, \"3\": 170, \"9\": 5, \"10\": 2, \"14\": 6, \"15\": 11, \"1\": 3}, \"6\": {\"6\": 921, \"15\": 30, \"9\": 128, \"10\": 72, \"8\": 32, \"0\": 8, \"13\": 8, \"5\": 1}, \"11\": {\"11\": 1192, \"12\": 8}, \"15\": {\"8\": 82, \"15\": 505, \"9\": 353, \"13\": 63, \"5\": 121, \"6\": 32, \"2\": 22, \"10\": 5, \"7\": 12, \"4\": 2, \"0\": 1, \"3\": 2}, \"1\": {\"4\": 129, \"14\": 217, \"1\": 768, \"8\": 11, \"10\": 40, \"7\": 10, \"0\": 21, \"3\": 2, \"2\": 1, \"5\": 1}}, \"ORACLE.run1_44\": {\"12\": {\"12\": 971, \"1\": 164, \"3\": 8, \"10\": 56, \"2\": 1}, \"7\": {\"7\": 812, \"2\": 160, \"9\": 197, \"6\": 24, \"13\": 4, \"1\": 2, \"3\": 1}, \"5\": {\"5\": 1006, \"14\": 26, \"15\": 38, \"0\": 101, \"8\": 28, \"4\": 1}, \"15\": {\"15\": 1026, \"14\": 61, \"0\": 67, \"5\": 24, \"8\": 17, \"4\": 5}, \"8\": {\"8\": 671, \"0\": 456, \"15\": 52, \"5\": 21}, \"2\": {\"2\": 933, \"7\": 154, \"1\": 49, \"10\": 60, \"6\": 1, \"9\": 3}, \"13\": {\"13\": 808, \"6\": 218, \"9\": 127, \"11\": 38, \"7\": 4, \"4\": 5}, \"4\": {\"4\": 889, \"14\": 304, \"15\": 6, \"13\": 1}, \"0\": {\"8\": 343, \"0\": 742, \"5\": 54, \"15\": 61}, \"6\": {\"7\": 35, \"13\": 203, \"6\": 842, \"9\": 105, \"11\": 14, \"2\": 1}, \"9\": {\"13\": 148, \"9\": 691, \"6\": 98, \"7\": 252, \"2\": 9, \"3\": 1, \"4\": 1}, \"11\": {\"11\": 1132, \"13\": 52, \"6\": 15, \"9\": 1}, \"10\": {\"10\": 934, \"1\": 96, \"12\": 80, \"2\": 90}, \"14\": {\"14\": 761, \"4\": 337, \"15\": 85, \"5\": 17}, \"1\": {\"10\": 89, \"2\": 45, \"12\": 180, \"1\": 764, \"3\": 120, \"7\": 2}, \"3\": {\"3\": 1071, \"1\": 119, \"12\": 6, \"2\": 4}}}, \"per_domain_accuracy\": {\"ORACLE.run2_14\": {\"accuracy\": 0.8367708333333334, \"source?\": true}, \"ORACLE.run2_20\": {\"accuracy\": 0.67453125, \"source?\": true}, \"ORACLE.run2_38\": {\"accuracy\": 0.7089583333333334, \"source?\": true}, \"ORACLE.run2_8\": {\"accuracy\": 0.7315625, \"source?\": true}, \"ORACLE.run2_50\": {\"accuracy\": 0.8106770833333333, \"source?\": true}, \"ORACLE.run2_32\": {\"accuracy\": 0.8020833333333334, \"source?\": true}, \"ORACLE.run2_26\": {\"accuracy\": 0.5795833333333333, \"source?\": true}, \"ORACLE.run2_44\": {\"accuracy\": 0.7626041666666666, \"source?\": true}, \"ORACLE.run1_14\": {\"accuracy\": 0.8238020833333334, \"source?\": false}, \"ORACLE.run1_20\": {\"accuracy\": 0.7013541666666666, \"source?\": false}, \"ORACLE.run1_38\": {\"accuracy\": 0.7988020833333334, \"source?\": false}, \"ORACLE.run1_8\": {\"accuracy\": 0.7266666666666667, \"source?\": false}, \"ORACLE.run1_50\": {\"accuracy\": 0.7859375, \"source?\": false}, \"ORACLE.run1_32\": {\"accuracy\": 0.7794270833333333, \"source?\": false}, \"ORACLE.run1_26\": {\"accuracy\": 0.5722916666666666, \"source?\": false}, \"ORACLE.run1_44\": {\"accuracy\": 0.7319270833333333, \"source?\": false}}}, \"history\": {\"epoch_indices\": [1, 2, 3, 4, 5, 6, 7, 8, 9], \"train_label_loss\": [1.071359740488586, 0.8586355264839672, 0.7239673250727355, 0.6319523190944234, 0.5740833741552862, 0.5271552416794224, 0.4863048273669778, 0.44718818128352894, 0.41074021562058033], \"source_val_label_loss\": [1.0442184209823608, 0.8310115337371826, 0.7696251273155212, 0.7501221895217896, 0.7417687177658081, 0.751974880695343, 0.7438062429428101, 0.7886362671852112, 0.8144434690475464], \"target_val_label_loss\": [0.9931631684303284, 0.7956105470657349, 0.7448756694793701, 0.7296909689903259, 0.727463960647583, 0.7434150576591492, 0.7374340295791626, 0.7904254198074341, 0.8231737613677979], \"source_val_acc_label\": [0.64052734375, 0.69994140625, 0.7221875, 0.7352864583333333, 0.7383463541666667, 0.73576171875, 0.7339778645833334, 0.72779296875, 0.7277604166666667], \"target_val_acc_label\": [0.6505989583333334, 0.7055338541666667, 0.7247526041666666, 0.7382682291666667, 0.7400260416666666, 0.7359114583333334, 0.73208984375, 0.7238671875, 0.72587890625]}, \"dataset_metrics\": {\"source\": {\"train\": {\"n_unique_x\": 896000, \"n_unique_y\": 16, \"n_batch/episode\": 33600}, \"val\": {\"n_unique_x\": 192000, \"n_unique_y\": 16, \"n_batch/episode\": 4800}, \"test\": {\"n_unique_x\": 192000, \"n_unique_y\": 16, \"n_batch/episode\": 4800}}, \"target\": {\"train\": {\"n_unique_x\": 896000, \"n_unique_y\": 16, \"n_batch/episode\": 33600}, \"val\": {\"n_unique_x\": 192000, \"n_unique_y\": 16, \"n_batch/episode\": 4800}, \"test\": {\"n_unique_x\": 192000, \"n_unique_y\": 16, \"n_batch/episode\": 4800}}}}'"
      ]
     },
     "execution_count": 29,
     "metadata": {},
     "output_type": "execute_result"
    }
   ],
   "source": [
    "json.dumps(experiment)"
   ]
  }
 ],
 "metadata": {
  "celltoolbar": "Tags",
  "kernelspec": {
   "display_name": "Python 3 (ipykernel)",
   "language": "python",
   "name": "python3"
  },
  "language_info": {
   "codemirror_mode": {
    "name": "ipython",
    "version": 3
   },
   "file_extension": ".py",
   "mimetype": "text/x-python",
   "name": "python",
   "nbconvert_exporter": "python",
   "pygments_lexer": "ipython3",
   "version": "3.8.10"
  },
  "papermill": {
   "default_parameters": {},
   "duration": 8893.194474,
   "end_time": "2022-03-10T18:45:41.981471",
   "environment_variables": {},
   "exception": null,
   "input_path": "/mnt/wd500GB/CSC500/csc500-main/csc500-notebooks/templates/tl_ptn_template.ipynb",
   "output_path": "trial.ipynb",
   "parameters": {
    "parameters": {
     "BEST_MODEL_PATH": "./best_model.pth",
     "NUM_LOGS_PER_EPOCH": 10,
     "criteria_for_best": "target_loss",
     "dataset_seed": 1337,
     "datasets": [
      {
       "domain_prefix": "ORACLE.run1_",
       "domains": [
        32,
        38,
        8,
        44,
        14,
        50,
        20,
        26
       ],
       "episode_transforms": [],
       "labels": [
        "3123D52",
        "3123D65",
        "3123D79",
        "3123D80",
        "3123D54",
        "3123D70",
        "3123D7B",
        "3123D89",
        "3123D58",
        "3123D76",
        "3123D7D",
        "3123EFE",
        "3123D64",
        "3123D78",
        "3123D7E",
        "3124E4A"
       ],
       "num_examples_per_domain_per_label": 10000,
       "pickle_path": "/mnt/wd500GB/CSC500/csc500-main/datasets/oracle.Run1_10kExamples_stratified_ds.2022A.pkl",
       "source_or_target_dataset": "target",
       "x_transforms": [
        "unit_mag"
       ]
      },
      {
       "domain_prefix": "ORACLE.run2_",
       "domains": [
        32,
        38,
        8,
        44,
        14,
        50,
        20,
        26
       ],
       "episode_transforms": [],
       "labels": [
        "3123D52",
        "3123D65",
        "3123D79",
        "3123D80",
        "3123D54",
        "3123D70",
        "3123D7B",
        "3123D89",
        "3123D58",
        "3123D76",
        "3123D7D",
        "3123EFE",
        "3123D64",
        "3123D78",
        "3123D7E",
        "3124E4A"
       ],
       "num_examples_per_domain_per_label": 10000,
       "pickle_path": "/mnt/wd500GB/CSC500/csc500-main/datasets/oracle.Run2_10kExamples_stratified_ds.2022A.pkl",
       "source_or_target_dataset": "source",
       "x_transforms": [
        "unit_mag"
       ]
      }
     ],
     "device": "cuda",
     "experiment_name": "tl_1_oracle.run1-oracle.run2",
     "lr": 0.001,
     "n_epoch": 50,
     "n_query": 2,
     "n_shot": 3,
     "n_way": 16,
     "patience": 3,
     "seed": 1337,
     "test_k_factor": 2,
     "torch_default_dtype": "torch.float32",
     "train_k_factor": 3,
     "val_k_factor": 2,
     "x_net": [
      {
       "class": "nnReshape",
       "kargs": {
        "shape": [
         -1,
         1,
         2,
         256
        ]
       }
      },
      {
       "class": "Conv2d",
       "kargs": {
        "bias": false,
        "in_channels": 1,
        "kernel_size": [
         1,
         7
        ],
        "out_channels": 256,
        "padding": [
         0,
         3
        ]
       }
      },
      {
       "class": "ReLU",
       "kargs": {
        "inplace": true
       }
      },
      {
       "class": "BatchNorm2d",
       "kargs": {
        "num_features": 256
       }
      },
      {
       "class": "Conv2d",
       "kargs": {
        "bias": true,
        "in_channels": 256,
        "kernel_size": [
         2,
         7
        ],
        "out_channels": 80,
        "padding": [
         0,
         3
        ]
       }
      },
      {
       "class": "ReLU",
       "kargs": {
        "inplace": true
       }
      },
      {
       "class": "BatchNorm2d",
       "kargs": {
        "num_features": 80
       }
      },
      {
       "class": "Flatten",
       "kargs": {}
      },
      {
       "class": "Linear",
       "kargs": {
        "in_features": 20480,
        "out_features": 256
       }
      },
      {
       "class": "ReLU",
       "kargs": {
        "inplace": true
       }
      },
      {
       "class": "BatchNorm1d",
       "kargs": {
        "num_features": 256
       }
      },
      {
       "class": "Linear",
       "kargs": {
        "in_features": 256,
        "out_features": 256
       }
      }
     ]
    }
   },
   "start_time": "2022-03-10T16:17:28.786997",
   "version": "2.3.4"
  }
 },
 "nbformat": 4,
 "nbformat_minor": 5
}