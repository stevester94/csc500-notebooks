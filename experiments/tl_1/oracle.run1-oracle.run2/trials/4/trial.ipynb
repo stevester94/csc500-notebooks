{
 "cells": [
  {
   "cell_type": "markdown",
   "id": "9fea5f46",
   "metadata": {
    "papermill": {
     "duration": 0.017044,
     "end_time": "2022-03-07T04:59:49.702942",
     "exception": false,
     "start_time": "2022-03-07T04:59:49.685898",
     "status": "completed"
    },
    "tags": []
   },
   "source": [
    "# Transfer Learning Template"
   ]
  },
  {
   "cell_type": "code",
   "execution_count": 1,
   "id": "0902182a",
   "metadata": {
    "execution": {
     "iopub.execute_input": "2022-03-07T04:59:49.742464Z",
     "iopub.status.busy": "2022-03-07T04:59:49.742087Z",
     "iopub.status.idle": "2022-03-07T04:59:50.501297Z",
     "shell.execute_reply": "2022-03-07T04:59:50.500750Z"
    },
    "papermill": {
     "duration": 0.785851,
     "end_time": "2022-03-07T04:59:50.501409",
     "exception": false,
     "start_time": "2022-03-07T04:59:49.715558",
     "status": "completed"
    },
    "tags": []
   },
   "outputs": [],
   "source": [
    "%load_ext autoreload\n",
    "%autoreload 2\n",
    "%matplotlib inline\n",
    "\n",
    "    \n",
    "import os, json, sys, time, random\n",
    "import numpy as np\n",
    "import torch\n",
    "from torch.optim import Adam\n",
    "from  easydict import EasyDict\n",
    "import matplotlib.pyplot as plt\n",
    "\n",
    "from steves_models.steves_ptn import Steves_Prototypical_Network\n",
    "\n",
    "from steves_utils.lazy_iterable_wrapper import Lazy_Iterable_Wrapper\n",
    "from steves_utils.iterable_aggregator import Iterable_Aggregator\n",
    "from steves_utils.ptn_train_eval_test_jig import  PTN_Train_Eval_Test_Jig\n",
    "from steves_utils.torch_sequential_builder import build_sequential\n",
    "from steves_utils.torch_utils import get_dataset_metrics, ptn_confusion_by_domain_over_dataloader\n",
    "from steves_utils.utils_v2 import (per_domain_accuracy_from_confusion, get_datasets_base_path)\n",
    "from steves_utils.PTN.utils import independent_accuracy_assesment\n",
    "\n",
    "from torch.utils.data import DataLoader\n",
    "\n",
    "from steves_utils.stratified_dataset.episodic_accessor import Episodic_Accessor_Factory\n",
    "\n",
    "from steves_utils.ptn_do_report import (\n",
    "    get_loss_curve,\n",
    "    get_results_table,\n",
    "    get_parameters_table,\n",
    "    get_domain_accuracies,\n",
    ")\n",
    "\n",
    "from steves_utils.transforms import get_chained_transform"
   ]
  },
  {
   "cell_type": "markdown",
   "id": "41c840b4",
   "metadata": {
    "papermill": {
     "duration": 0.012665,
     "end_time": "2022-03-07T04:59:50.533427",
     "exception": false,
     "start_time": "2022-03-07T04:59:50.520762",
     "status": "completed"
    },
    "tags": []
   },
   "source": [
    "# Allowed Parameters\n",
    "These are allowed parameters, not defaults\n",
    "Each of these values need to be present in the injected parameters (the notebook will raise an exception if they are not present)\n",
    "\n",
    "Papermill uses the cell tag \"parameters\" to inject the real parameters below this cell.\n",
    "Enable tags to see what I mean"
   ]
  },
  {
   "cell_type": "code",
   "execution_count": 2,
   "id": "fd44eb83",
   "metadata": {
    "execution": {
     "iopub.execute_input": "2022-03-07T04:59:50.561882Z",
     "iopub.status.busy": "2022-03-07T04:59:50.561619Z",
     "iopub.status.idle": "2022-03-07T04:59:50.575274Z",
     "shell.execute_reply": "2022-03-07T04:59:50.574825Z"
    },
    "papermill": {
     "duration": 0.02932,
     "end_time": "2022-03-07T04:59:50.575364",
     "exception": false,
     "start_time": "2022-03-07T04:59:50.546044",
     "status": "completed"
    },
    "tags": []
   },
   "outputs": [],
   "source": [
    "required_parameters = {\n",
    "    \"experiment_name\",\n",
    "    \"lr\",\n",
    "    \"device\",\n",
    "    \"seed\",\n",
    "    \"dataset_seed\",\n",
    "    \"n_shot\",\n",
    "    \"n_query\",\n",
    "    \"n_way\",\n",
    "    \"train_k_factor\",\n",
    "    \"val_k_factor\",\n",
    "    \"test_k_factor\",\n",
    "    \"n_epoch\",\n",
    "    \"patience\",\n",
    "    \"criteria_for_best\",\n",
    "    \"x_net\",\n",
    "    \"datasets\",\n",
    "    \"torch_default_dtype\",\n",
    "    \"NUM_LOGS_PER_EPOCH\",\n",
    "    \"BEST_MODEL_PATH\",\n",
    "}"
   ]
  },
  {
   "cell_type": "code",
   "execution_count": 3,
   "id": "fa3f0049",
   "metadata": {
    "execution": {
     "iopub.execute_input": "2022-03-07T04:59:50.609984Z",
     "iopub.status.busy": "2022-03-07T04:59:50.609699Z",
     "iopub.status.idle": "2022-03-07T04:59:50.622359Z",
     "shell.execute_reply": "2022-03-07T04:59:50.621971Z"
    },
    "papermill": {
     "duration": 0.032035,
     "end_time": "2022-03-07T04:59:50.622446",
     "exception": false,
     "start_time": "2022-03-07T04:59:50.590411",
     "status": "completed"
    },
    "tags": [
     "parameters"
    ]
   },
   "outputs": [],
   "source": [
    "from steves_utils.CORES.utils import (\n",
    "    ALL_NODES,\n",
    "    ALL_NODES_MINIMUM_1000_EXAMPLES,\n",
    "    ALL_DAYS\n",
    ")\n",
    "\n",
    "from steves_utils.ORACLE.utils_v2 import (\n",
    "    ALL_DISTANCES_FEET_NARROWED,\n",
    "    ALL_RUNS,\n",
    "    ALL_SERIAL_NUMBERS,\n",
    ")\n",
    "\n",
    "standalone_parameters = {}\n",
    "standalone_parameters[\"experiment_name\"] = \"STANDALONE PTN\"\n",
    "standalone_parameters[\"lr\"] = 0.001\n",
    "standalone_parameters[\"device\"] = \"cuda\"\n",
    "\n",
    "standalone_parameters[\"seed\"] = 1337\n",
    "standalone_parameters[\"dataset_seed\"] = 1337\n",
    "\n",
    "standalone_parameters[\"n_way\"] = 8\n",
    "standalone_parameters[\"n_shot\"] = 3\n",
    "standalone_parameters[\"n_query\"]  = 2\n",
    "standalone_parameters[\"train_k_factor\"] = 1\n",
    "standalone_parameters[\"val_k_factor\"] = 2\n",
    "standalone_parameters[\"test_k_factor\"] = 2\n",
    "\n",
    "\n",
    "standalone_parameters[\"n_epoch\"] = 50\n",
    "\n",
    "standalone_parameters[\"patience\"] = 10\n",
    "standalone_parameters[\"criteria_for_best\"] = \"source_loss\"\n",
    "\n",
    "standalone_parameters[\"datasets\"] = [\n",
    "    {\n",
    "        \"labels\": ALL_SERIAL_NUMBERS,\n",
    "        \"domains\": ALL_DISTANCES_FEET_NARROWED,\n",
    "        \"num_examples_per_domain_per_label\": 100,\n",
    "        \"pickle_path\": os.path.join(get_datasets_base_path(), \"oracle.Run1_framed_2000Examples_stratified_ds.2022A.pkl\"),\n",
    "        \"source_or_target_dataset\": \"source\",\n",
    "        \"x_transforms\": [\"unit_mag\", \"minus_two\"],\n",
    "        \"episode_transforms\": [],\n",
    "        \"domain_prefix\": \"ORACLE_\"\n",
    "    },\n",
    "    {\n",
    "        \"labels\": ALL_NODES,\n",
    "        \"domains\": ALL_DAYS,\n",
    "        \"num_examples_per_domain_per_label\": 100,\n",
    "        \"pickle_path\": os.path.join(get_datasets_base_path(), \"cores.stratified_ds.2022A.pkl\"),\n",
    "        \"source_or_target_dataset\": \"target\",\n",
    "        \"x_transforms\": [\"unit_power\", \"times_zero\"],\n",
    "        \"episode_transforms\": [],\n",
    "        \"domain_prefix\": \"CORES_\"\n",
    "    }   \n",
    "]\n",
    "\n",
    "standalone_parameters[\"torch_default_dtype\"] = \"torch.float32\" \n",
    "\n",
    "\n",
    "\n",
    "standalone_parameters[\"x_net\"] =     [\n",
    "    {\"class\": \"nnReshape\", \"kargs\": {\"shape\":[-1, 1, 2, 256]}},\n",
    "    {\"class\": \"Conv2d\", \"kargs\": { \"in_channels\":1, \"out_channels\":256, \"kernel_size\":(1,7), \"bias\":False, \"padding\":(0,3), },},\n",
    "    {\"class\": \"ReLU\", \"kargs\": {\"inplace\": True}},\n",
    "    {\"class\": \"BatchNorm2d\", \"kargs\": {\"num_features\":256}},\n",
    "\n",
    "    {\"class\": \"Conv2d\", \"kargs\": { \"in_channels\":256, \"out_channels\":80, \"kernel_size\":(2,7), \"bias\":True, \"padding\":(0,3), },},\n",
    "    {\"class\": \"ReLU\", \"kargs\": {\"inplace\": True}},\n",
    "    {\"class\": \"BatchNorm2d\", \"kargs\": {\"num_features\":80}},\n",
    "    {\"class\": \"Flatten\", \"kargs\": {}},\n",
    "\n",
    "    {\"class\": \"Linear\", \"kargs\": {\"in_features\": 80*256, \"out_features\": 256}}, # 80 units per IQ pair\n",
    "    {\"class\": \"ReLU\", \"kargs\": {\"inplace\": True}},\n",
    "    {\"class\": \"BatchNorm1d\", \"kargs\": {\"num_features\":256}},\n",
    "\n",
    "    {\"class\": \"Linear\", \"kargs\": {\"in_features\": 256, \"out_features\": 256}},\n",
    "]\n",
    "\n",
    "# Parameters relevant to results\n",
    "# These parameters will basically never need to change\n",
    "standalone_parameters[\"NUM_LOGS_PER_EPOCH\"] = 10\n",
    "standalone_parameters[\"BEST_MODEL_PATH\"] = \"./best_model.pth\"\n",
    "\n",
    "\n",
    "\n",
    "\n"
   ]
  },
  {
   "cell_type": "code",
   "execution_count": 4,
   "id": "b1923439",
   "metadata": {
    "execution": {
     "iopub.execute_input": "2022-03-07T04:59:50.662088Z",
     "iopub.status.busy": "2022-03-07T04:59:50.661678Z",
     "iopub.status.idle": "2022-03-07T04:59:50.672365Z",
     "shell.execute_reply": "2022-03-07T04:59:50.671889Z"
    },
    "papermill": {
     "duration": 0.032776,
     "end_time": "2022-03-07T04:59:50.672467",
     "exception": false,
     "start_time": "2022-03-07T04:59:50.639691",
     "status": "completed"
    },
    "tags": [
     "injected-parameters"
    ]
   },
   "outputs": [],
   "source": [
    "# Parameters\n",
    "parameters = {\n",
    "    \"experiment_name\": \"tl_1_oracle.run1-oracle.run2\",\n",
    "    \"device\": \"cuda\",\n",
    "    \"lr\": 0.001,\n",
    "    \"seed\": 1337,\n",
    "    \"dataset_seed\": 1337,\n",
    "    \"n_shot\": 3,\n",
    "    \"n_query\": 2,\n",
    "    \"train_k_factor\": 3,\n",
    "    \"val_k_factor\": 2,\n",
    "    \"test_k_factor\": 2,\n",
    "    \"torch_default_dtype\": \"torch.float32\",\n",
    "    \"n_epoch\": 50,\n",
    "    \"patience\": 3,\n",
    "    \"criteria_for_best\": \"target_loss\",\n",
    "    \"x_net\": [\n",
    "        {\"class\": \"nnReshape\", \"kargs\": {\"shape\": [-1, 1, 2, 256]}},\n",
    "        {\n",
    "            \"class\": \"Conv2d\",\n",
    "            \"kargs\": {\n",
    "                \"in_channels\": 1,\n",
    "                \"out_channels\": 256,\n",
    "                \"kernel_size\": [1, 7],\n",
    "                \"bias\": False,\n",
    "                \"padding\": [0, 3],\n",
    "            },\n",
    "        },\n",
    "        {\"class\": \"ReLU\", \"kargs\": {\"inplace\": True}},\n",
    "        {\"class\": \"BatchNorm2d\", \"kargs\": {\"num_features\": 256}},\n",
    "        {\n",
    "            \"class\": \"Conv2d\",\n",
    "            \"kargs\": {\n",
    "                \"in_channels\": 256,\n",
    "                \"out_channels\": 80,\n",
    "                \"kernel_size\": [2, 7],\n",
    "                \"bias\": True,\n",
    "                \"padding\": [0, 3],\n",
    "            },\n",
    "        },\n",
    "        {\"class\": \"ReLU\", \"kargs\": {\"inplace\": True}},\n",
    "        {\"class\": \"BatchNorm2d\", \"kargs\": {\"num_features\": 80}},\n",
    "        {\"class\": \"Flatten\", \"kargs\": {}},\n",
    "        {\"class\": \"Linear\", \"kargs\": {\"in_features\": 20480, \"out_features\": 256}},\n",
    "        {\"class\": \"ReLU\", \"kargs\": {\"inplace\": True}},\n",
    "        {\"class\": \"BatchNorm1d\", \"kargs\": {\"num_features\": 256}},\n",
    "        {\"class\": \"Linear\", \"kargs\": {\"in_features\": 256, \"out_features\": 256}},\n",
    "    ],\n",
    "    \"NUM_LOGS_PER_EPOCH\": 10,\n",
    "    \"BEST_MODEL_PATH\": \"./best_model.pth\",\n",
    "    \"n_way\": 16,\n",
    "    \"datasets\": [\n",
    "        {\n",
    "            \"labels\": [\n",
    "                \"3123D52\",\n",
    "                \"3123D65\",\n",
    "                \"3123D79\",\n",
    "                \"3123D80\",\n",
    "                \"3123D54\",\n",
    "                \"3123D70\",\n",
    "                \"3123D7B\",\n",
    "                \"3123D89\",\n",
    "                \"3123D58\",\n",
    "                \"3123D76\",\n",
    "                \"3123D7D\",\n",
    "                \"3123EFE\",\n",
    "                \"3123D64\",\n",
    "                \"3123D78\",\n",
    "                \"3123D7E\",\n",
    "                \"3124E4A\",\n",
    "            ],\n",
    "            \"domains\": [32, 38, 8, 44, 14, 50, 20, 26],\n",
    "            \"num_examples_per_domain_per_label\": 2000,\n",
    "            \"pickle_path\": \"/mnt/wd500GB/CSC500/csc500-main/datasets/oracle.Run1_framed_2000Examples_stratified_ds.2022A.pkl\",\n",
    "            \"source_or_target_dataset\": \"target\",\n",
    "            \"x_transforms\": [\"unit_mag\"],\n",
    "            \"episode_transforms\": [],\n",
    "            \"domain_prefix\": \"ORACLE.run1_\",\n",
    "        },\n",
    "        {\n",
    "            \"labels\": [\n",
    "                \"3123D52\",\n",
    "                \"3123D65\",\n",
    "                \"3123D79\",\n",
    "                \"3123D80\",\n",
    "                \"3123D54\",\n",
    "                \"3123D70\",\n",
    "                \"3123D7B\",\n",
    "                \"3123D89\",\n",
    "                \"3123D58\",\n",
    "                \"3123D76\",\n",
    "                \"3123D7D\",\n",
    "                \"3123EFE\",\n",
    "                \"3123D64\",\n",
    "                \"3123D78\",\n",
    "                \"3123D7E\",\n",
    "                \"3124E4A\",\n",
    "            ],\n",
    "            \"domains\": [32, 38, 8, 44, 14, 50, 20, 26],\n",
    "            \"num_examples_per_domain_per_label\": 2000,\n",
    "            \"pickle_path\": \"/mnt/wd500GB/CSC500/csc500-main/datasets/oracle.Run2_framed_2000Examples_stratified_ds.2022A.pkl\",\n",
    "            \"source_or_target_dataset\": \"source\",\n",
    "            \"x_transforms\": [\"unit_mag\"],\n",
    "            \"episode_transforms\": [],\n",
    "            \"domain_prefix\": \"ORACLE.run2_\",\n",
    "        },\n",
    "    ],\n",
    "}\n"
   ]
  },
  {
   "cell_type": "code",
   "execution_count": 5,
   "id": "8fa1cc33",
   "metadata": {
    "execution": {
     "iopub.execute_input": "2022-03-07T04:59:50.706006Z",
     "iopub.status.busy": "2022-03-07T04:59:50.705754Z",
     "iopub.status.idle": "2022-03-07T04:59:50.715384Z",
     "shell.execute_reply": "2022-03-07T04:59:50.714991Z"
    },
    "papermill": {
     "duration": 0.026746,
     "end_time": "2022-03-07T04:59:50.715474",
     "exception": false,
     "start_time": "2022-03-07T04:59:50.688728",
     "status": "completed"
    },
    "tags": []
   },
   "outputs": [],
   "source": [
    "# Set this to True if you want to run this template directly\n",
    "STANDALONE = False\n",
    "if STANDALONE:\n",
    "    print(\"parameters not injected, running with standalone_parameters\")\n",
    "    parameters = standalone_parameters\n",
    "\n",
    "if not 'parameters' in locals() and not 'parameters' in globals():\n",
    "    raise Exception(\"Parameter injection failed\")\n",
    "\n",
    "#Use an easy dict for all the parameters\n",
    "p = EasyDict(parameters)\n",
    "\n",
    "supplied_keys = set(p.keys())\n",
    "\n",
    "if  supplied_keys != required_parameters:\n",
    "    print(\"Parameters are incorrect\")\n",
    "    if len(supplied_keys - required_parameters)>0: print(\"Shouldn't have:\", str(supplied_keys - required_parameters))\n",
    "    if len(required_parameters - supplied_keys)>0: print(\"Need to have:\", str(required_parameters - supplied_keys))\n",
    "    raise RuntimeError(\"Parameters are incorrect\")\n",
    "\n"
   ]
  },
  {
   "cell_type": "code",
   "execution_count": 6,
   "id": "3a028d58",
   "metadata": {
    "execution": {
     "iopub.execute_input": "2022-03-07T04:59:50.745267Z",
     "iopub.status.busy": "2022-03-07T04:59:50.745012Z",
     "iopub.status.idle": "2022-03-07T04:59:50.753420Z",
     "shell.execute_reply": "2022-03-07T04:59:50.753170Z"
    },
    "papermill": {
     "duration": 0.023293,
     "end_time": "2022-03-07T04:59:50.753469",
     "exception": false,
     "start_time": "2022-03-07T04:59:50.730176",
     "status": "completed"
    },
    "tags": []
   },
   "outputs": [],
   "source": [
    "###################################\n",
    "# Set the RNGs and make it all deterministic\n",
    "###################################\n",
    "np.random.seed(p.seed)\n",
    "random.seed(p.seed)\n",
    "torch.manual_seed(p.seed)\n",
    "\n",
    "torch.use_deterministic_algorithms(True) "
   ]
  },
  {
   "cell_type": "code",
   "execution_count": 7,
   "id": "b691acf6",
   "metadata": {
    "execution": {
     "iopub.execute_input": "2022-03-07T04:59:50.784039Z",
     "iopub.status.busy": "2022-03-07T04:59:50.783790Z",
     "iopub.status.idle": "2022-03-07T04:59:50.795782Z",
     "shell.execute_reply": "2022-03-07T04:59:50.795394Z"
    },
    "papermill": {
     "duration": 0.026978,
     "end_time": "2022-03-07T04:59:50.795871",
     "exception": false,
     "start_time": "2022-03-07T04:59:50.768893",
     "status": "completed"
    },
    "tags": []
   },
   "outputs": [],
   "source": [
    "###########################################\n",
    "# The stratified datasets honor this\n",
    "###########################################\n",
    "torch.set_default_dtype(eval(p.torch_default_dtype))"
   ]
  },
  {
   "cell_type": "code",
   "execution_count": 8,
   "id": "b5fba671",
   "metadata": {
    "execution": {
     "iopub.execute_input": "2022-03-07T04:59:50.829251Z",
     "iopub.status.busy": "2022-03-07T04:59:50.829005Z",
     "iopub.status.idle": "2022-03-07T04:59:50.865963Z",
     "shell.execute_reply": "2022-03-07T04:59:50.866316Z"
    },
    "papermill": {
     "duration": 0.052584,
     "end_time": "2022-03-07T04:59:50.866422",
     "exception": false,
     "start_time": "2022-03-07T04:59:50.813838",
     "status": "completed"
    },
    "tags": []
   },
   "outputs": [],
   "source": [
    "###################################\n",
    "# Build the network(s)\n",
    "# Note: It's critical to do this AFTER setting the RNG\n",
    "###################################\n",
    "x_net = build_sequential(p.x_net)"
   ]
  },
  {
   "cell_type": "code",
   "execution_count": 9,
   "id": "5d7e61cc",
   "metadata": {
    "execution": {
     "iopub.execute_input": "2022-03-07T04:59:50.902223Z",
     "iopub.status.busy": "2022-03-07T04:59:50.901972Z",
     "iopub.status.idle": "2022-03-07T04:59:50.915546Z",
     "shell.execute_reply": "2022-03-07T04:59:50.915226Z"
    },
    "papermill": {
     "duration": 0.029757,
     "end_time": "2022-03-07T04:59:50.915636",
     "exception": false,
     "start_time": "2022-03-07T04:59:50.885879",
     "status": "completed"
    },
    "tags": []
   },
   "outputs": [],
   "source": [
    "start_time_secs = time.time()"
   ]
  },
  {
   "cell_type": "code",
   "execution_count": 10,
   "id": "c6b67dfd",
   "metadata": {
    "execution": {
     "iopub.execute_input": "2022-03-07T04:59:50.950536Z",
     "iopub.status.busy": "2022-03-07T04:59:50.950288Z",
     "iopub.status.idle": "2022-03-07T04:59:50.963408Z",
     "shell.execute_reply": "2022-03-07T04:59:50.963103Z"
    },
    "papermill": {
     "duration": 0.029197,
     "end_time": "2022-03-07T04:59:50.963477",
     "exception": false,
     "start_time": "2022-03-07T04:59:50.934280",
     "status": "completed"
    },
    "tags": []
   },
   "outputs": [],
   "source": [
    "p.domains_source = []\n",
    "p.domains_target = []\n",
    "\n",
    "\n",
    "train_original_source = []\n",
    "val_original_source   = []\n",
    "test_original_source  = []\n",
    "\n",
    "train_original_target = []\n",
    "val_original_target   = []\n",
    "test_original_target  = []"
   ]
  },
  {
   "cell_type": "code",
   "execution_count": 11,
   "id": "e3d9c3d3",
   "metadata": {
    "execution": {
     "iopub.execute_input": "2022-03-07T04:59:50.997224Z",
     "iopub.status.busy": "2022-03-07T04:59:50.996949Z",
     "iopub.status.idle": "2022-03-07T04:59:51.010613Z",
     "shell.execute_reply": "2022-03-07T04:59:51.010226Z"
    },
    "papermill": {
     "duration": 0.028816,
     "end_time": "2022-03-07T04:59:51.010728",
     "exception": false,
     "start_time": "2022-03-07T04:59:50.981912",
     "status": "completed"
    },
    "tags": []
   },
   "outputs": [],
   "source": [
    "# global_x_transform_func = lambda x: normalize(x.to(torch.get_default_dtype()), \"unit_power\") # unit_power, unit_mag\n",
    "# global_x_transform_func = lambda x: normalize(x, \"unit_power\") # unit_power, unit_mag"
   ]
  },
  {
   "cell_type": "code",
   "execution_count": 12,
   "id": "acb78fd2",
   "metadata": {
    "execution": {
     "iopub.execute_input": "2022-03-07T04:59:51.044444Z",
     "iopub.status.busy": "2022-03-07T04:59:51.043922Z",
     "iopub.status.idle": "2022-03-07T04:59:51.053496Z",
     "shell.execute_reply": "2022-03-07T04:59:51.053073Z"
    },
    "papermill": {
     "duration": 0.027349,
     "end_time": "2022-03-07T04:59:51.053587",
     "exception": false,
     "start_time": "2022-03-07T04:59:51.026238",
     "status": "completed"
    },
    "tags": []
   },
   "outputs": [],
   "source": [
    "def add_dataset(\n",
    "    labels,\n",
    "    domains,\n",
    "    pickle_path,\n",
    "    x_transforms,\n",
    "    episode_transforms,\n",
    "    domain_prefix,\n",
    "    num_examples_per_domain_per_label,\n",
    "    source_or_target_dataset:str,\n",
    "    iterator_seed=p.seed,\n",
    "    dataset_seed=p.dataset_seed,\n",
    "    n_shot=p.n_shot,\n",
    "    n_way=p.n_way,\n",
    "    n_query=p.n_query,\n",
    "    train_val_test_k_factors=(p.train_k_factor,p.val_k_factor,p.test_k_factor),\n",
    "):\n",
    "   \n",
    "    if x_transforms == []: x_transform = None\n",
    "    else: x_transform = get_chained_transform(x_transforms)\n",
    "    \n",
    "    if episode_transforms == []: episode_transform = None\n",
    "    else: raise Exception(\"episode_transforms not implemented\")\n",
    "    \n",
    "    episode_transform = lambda tup, _prefix=domain_prefix: (_prefix + str(tup[0]), tup[1])\n",
    "\n",
    "\n",
    "    eaf = Episodic_Accessor_Factory(\n",
    "        labels=labels,\n",
    "        domains=domains,\n",
    "        num_examples_per_domain_per_label=num_examples_per_domain_per_label,\n",
    "        iterator_seed=iterator_seed,\n",
    "        dataset_seed=dataset_seed,\n",
    "        n_shot=n_shot,\n",
    "        n_way=n_way,\n",
    "        n_query=n_query,\n",
    "        train_val_test_k_factors=train_val_test_k_factors,\n",
    "        pickle_path=pickle_path,\n",
    "        x_transform_func=x_transform,\n",
    "    )\n",
    "\n",
    "    train, val, test = eaf.get_train(), eaf.get_val(), eaf.get_test()\n",
    "    train = Lazy_Iterable_Wrapper(train, episode_transform)\n",
    "    val = Lazy_Iterable_Wrapper(val, episode_transform)\n",
    "    test = Lazy_Iterable_Wrapper(test, episode_transform)\n",
    "\n",
    "    if source_or_target_dataset==\"source\":\n",
    "        train_original_source.append(train)\n",
    "        val_original_source.append(val)\n",
    "        test_original_source.append(test)\n",
    "\n",
    "        p.domains_source.extend(\n",
    "            [domain_prefix + str(u) for u in domains]\n",
    "        )\n",
    "    elif source_or_target_dataset==\"target\":\n",
    "        train_original_target.append(train)\n",
    "        val_original_target.append(val)\n",
    "        test_original_target.append(test)\n",
    "        p.domains_target.extend(\n",
    "            [domain_prefix + str(u) for u in domains]\n",
    "        )\n",
    "    else:\n",
    "        raise Exception(f\"invalid source_or_target_dataset: {source_or_target_dataset}\")\n",
    "    "
   ]
  },
  {
   "cell_type": "code",
   "execution_count": 13,
   "id": "fe266617",
   "metadata": {
    "execution": {
     "iopub.execute_input": "2022-03-07T04:59:51.086320Z",
     "iopub.status.busy": "2022-03-07T04:59:51.086064Z",
     "iopub.status.idle": "2022-03-07T05:00:22.335953Z",
     "shell.execute_reply": "2022-03-07T05:00:22.335545Z"
    },
    "papermill": {
     "duration": 31.264799,
     "end_time": "2022-03-07T05:00:22.336058",
     "exception": false,
     "start_time": "2022-03-07T04:59:51.071259",
     "status": "completed"
    },
    "tags": []
   },
   "outputs": [],
   "source": [
    "for ds in p.datasets:\n",
    "    add_dataset(**ds)"
   ]
  },
  {
   "cell_type": "code",
   "execution_count": 14,
   "id": "b90d65ac",
   "metadata": {
    "execution": {
     "iopub.execute_input": "2022-03-07T05:00:22.370662Z",
     "iopub.status.busy": "2022-03-07T05:00:22.370407Z",
     "iopub.status.idle": "2022-03-07T05:00:22.383485Z",
     "shell.execute_reply": "2022-03-07T05:00:22.383856Z"
    },
    "papermill": {
     "duration": 0.028964,
     "end_time": "2022-03-07T05:00:22.383961",
     "exception": false,
     "start_time": "2022-03-07T05:00:22.354997",
     "status": "completed"
    },
    "tags": []
   },
   "outputs": [],
   "source": [
    "# from steves_utils.CORES.utils import (\n",
    "#     ALL_NODES,\n",
    "#     ALL_NODES_MINIMUM_1000_EXAMPLES,\n",
    "#     ALL_DAYS\n",
    "# )\n",
    "\n",
    "# add_dataset(\n",
    "#     labels=ALL_NODES,\n",
    "#     domains = ALL_DAYS,\n",
    "#     num_examples_per_domain_per_label=100,\n",
    "#     pickle_path=os.path.join(get_datasets_base_path(), \"cores.stratified_ds.2022A.pkl\"),\n",
    "#     source_or_target_dataset=\"target\",\n",
    "#     x_transform_func=global_x_transform_func,\n",
    "#     domain_modifier=lambda u: f\"cores_{u}\"\n",
    "# )"
   ]
  },
  {
   "cell_type": "code",
   "execution_count": 15,
   "id": "76db484d",
   "metadata": {
    "execution": {
     "iopub.execute_input": "2022-03-07T05:00:22.417931Z",
     "iopub.status.busy": "2022-03-07T05:00:22.417677Z",
     "iopub.status.idle": "2022-03-07T05:00:22.431065Z",
     "shell.execute_reply": "2022-03-07T05:00:22.430669Z"
    },
    "papermill": {
     "duration": 0.028709,
     "end_time": "2022-03-07T05:00:22.431157",
     "exception": false,
     "start_time": "2022-03-07T05:00:22.402448",
     "status": "completed"
    },
    "tags": []
   },
   "outputs": [],
   "source": [
    "# from steves_utils.ORACLE.utils_v2 import (\n",
    "#     ALL_DISTANCES_FEET,\n",
    "#     ALL_RUNS,\n",
    "#     ALL_SERIAL_NUMBERS,\n",
    "# )\n",
    "\n",
    "\n",
    "# add_dataset(\n",
    "#     labels=ALL_SERIAL_NUMBERS,\n",
    "#     domains = list(set(ALL_DISTANCES_FEET) - {2,62}),\n",
    "#     num_examples_per_domain_per_label=100,\n",
    "#     pickle_path=os.path.join(get_datasets_base_path(), \"oracle.Run2_framed_2000Examples_stratified_ds.2022A.pkl\"),\n",
    "#     source_or_target_dataset=\"source\",\n",
    "#     x_transform_func=global_x_transform_func,\n",
    "#     domain_modifier=lambda u: f\"oracle1_{u}\"\n",
    "# )\n"
   ]
  },
  {
   "cell_type": "code",
   "execution_count": 16,
   "id": "97dea9d2",
   "metadata": {
    "execution": {
     "iopub.execute_input": "2022-03-07T05:00:22.463802Z",
     "iopub.status.busy": "2022-03-07T05:00:22.463556Z",
     "iopub.status.idle": "2022-03-07T05:00:22.471014Z",
     "shell.execute_reply": "2022-03-07T05:00:22.470799Z"
    },
    "papermill": {
     "duration": 0.022737,
     "end_time": "2022-03-07T05:00:22.471062",
     "exception": false,
     "start_time": "2022-03-07T05:00:22.448325",
     "status": "completed"
    },
    "tags": []
   },
   "outputs": [],
   "source": [
    "# from steves_utils.ORACLE.utils_v2 import (\n",
    "#     ALL_DISTANCES_FEET,\n",
    "#     ALL_RUNS,\n",
    "#     ALL_SERIAL_NUMBERS,\n",
    "# )\n",
    "\n",
    "\n",
    "# add_dataset(\n",
    "#     labels=ALL_SERIAL_NUMBERS,\n",
    "#     domains = list(set(ALL_DISTANCES_FEET) - {2,62,56}),\n",
    "#     num_examples_per_domain_per_label=100,\n",
    "#     pickle_path=os.path.join(get_datasets_base_path(), \"oracle.Run2_framed_2000Examples_stratified_ds.2022A.pkl\"),\n",
    "#     source_or_target_dataset=\"source\",\n",
    "#     x_transform_func=global_x_transform_func,\n",
    "#     domain_modifier=lambda u: f\"oracle2_{u}\"\n",
    "# )"
   ]
  },
  {
   "cell_type": "code",
   "execution_count": 17,
   "id": "6f289866",
   "metadata": {
    "execution": {
     "iopub.execute_input": "2022-03-07T05:00:22.505189Z",
     "iopub.status.busy": "2022-03-07T05:00:22.504945Z",
     "iopub.status.idle": "2022-03-07T05:00:22.512848Z",
     "shell.execute_reply": "2022-03-07T05:00:22.512641Z"
    },
    "papermill": {
     "duration": 0.022938,
     "end_time": "2022-03-07T05:00:22.512895",
     "exception": false,
     "start_time": "2022-03-07T05:00:22.489957",
     "status": "completed"
    },
    "tags": []
   },
   "outputs": [],
   "source": [
    "# add_dataset(\n",
    "#     labels=list(range(19)),\n",
    "#     domains = [0,1,2],\n",
    "#     num_examples_per_domain_per_label=100,\n",
    "#     pickle_path=os.path.join(get_datasets_base_path(), \"metehan.stratified_ds.2022A.pkl\"),\n",
    "#     source_or_target_dataset=\"target\",\n",
    "#     x_transform_func=global_x_transform_func,\n",
    "#     domain_modifier=lambda u: f\"met_{u}\"\n",
    "# )"
   ]
  },
  {
   "cell_type": "code",
   "execution_count": 18,
   "id": "86a863c3",
   "metadata": {
    "execution": {
     "iopub.execute_input": "2022-03-07T05:00:22.544263Z",
     "iopub.status.busy": "2022-03-07T05:00:22.544010Z",
     "iopub.status.idle": "2022-03-07T05:00:22.555081Z",
     "shell.execute_reply": "2022-03-07T05:00:22.554850Z"
    },
    "papermill": {
     "duration": 0.026631,
     "end_time": "2022-03-07T05:00:22.555171",
     "exception": false,
     "start_time": "2022-03-07T05:00:22.528540",
     "status": "completed"
    },
    "tags": []
   },
   "outputs": [],
   "source": [
    "# # from steves_utils.wisig.utils import (\n",
    "# #     ALL_NODES_MINIMUM_100_EXAMPLES,\n",
    "# #     ALL_NODES_MINIMUM_500_EXAMPLES,\n",
    "# #     ALL_NODES_MINIMUM_1000_EXAMPLES,\n",
    "# #     ALL_DAYS\n",
    "# # )\n",
    "\n",
    "# import steves_utils.wisig.utils as wisig\n",
    "\n",
    "\n",
    "# add_dataset(\n",
    "#     labels=wisig.ALL_NODES_MINIMUM_100_EXAMPLES,\n",
    "#     domains = wisig.ALL_DAYS,\n",
    "#     num_examples_per_domain_per_label=100,\n",
    "#     pickle_path=os.path.join(get_datasets_base_path(), \"wisig.node3-19.stratified_ds.2022A.pkl\"),\n",
    "#     source_or_target_dataset=\"target\",\n",
    "#     x_transform_func=global_x_transform_func,\n",
    "#     domain_modifier=lambda u: f\"wisig_{u}\"\n",
    "# )"
   ]
  },
  {
   "cell_type": "code",
   "execution_count": 19,
   "id": "fd5442bc",
   "metadata": {
    "execution": {
     "iopub.execute_input": "2022-03-07T05:00:22.590411Z",
     "iopub.status.busy": "2022-03-07T05:00:22.590156Z",
     "iopub.status.idle": "2022-03-07T05:00:22.601138Z",
     "shell.execute_reply": "2022-03-07T05:00:22.600694Z"
    },
    "papermill": {
     "duration": 0.029025,
     "end_time": "2022-03-07T05:00:22.601225",
     "exception": false,
     "start_time": "2022-03-07T05:00:22.572200",
     "status": "completed"
    },
    "tags": []
   },
   "outputs": [],
   "source": [
    "###################################\n",
    "# Build the dataset\n",
    "###################################\n",
    "train_original_source = Iterable_Aggregator(train_original_source, p.seed)\n",
    "val_original_source = Iterable_Aggregator(val_original_source, p.seed)\n",
    "test_original_source = Iterable_Aggregator(test_original_source, p.seed)\n",
    "\n",
    "\n",
    "train_original_target = Iterable_Aggregator(train_original_target, p.seed)\n",
    "val_original_target = Iterable_Aggregator(val_original_target, p.seed)\n",
    "test_original_target = Iterable_Aggregator(test_original_target, p.seed)\n",
    "\n",
    "# For CNN We only use X and Y. And we only train on the source.\n",
    "# Properly form the data using a transform lambda and Lazy_Iterable_Wrapper. Finally wrap them in a dataloader\n",
    "\n",
    "transform_lambda = lambda ex: ex[1] # Original is (<domain>, <episode>) so we strip down to episode only\n",
    "\n",
    "train_processed_source = Lazy_Iterable_Wrapper(train_original_source, transform_lambda)\n",
    "val_processed_source   = Lazy_Iterable_Wrapper(val_original_source, transform_lambda)\n",
    "test_processed_source  = Lazy_Iterable_Wrapper(test_original_source, transform_lambda)\n",
    "\n",
    "train_processed_target = Lazy_Iterable_Wrapper(train_original_target, transform_lambda)\n",
    "val_processed_target   = Lazy_Iterable_Wrapper(val_original_target, transform_lambda)\n",
    "test_processed_target  = Lazy_Iterable_Wrapper(test_original_target, transform_lambda)\n",
    "\n",
    "datasets = EasyDict({\n",
    "    \"source\": {\n",
    "        \"original\": {\"train\":train_original_source, \"val\":val_original_source, \"test\":test_original_source},\n",
    "        \"processed\": {\"train\":train_processed_source, \"val\":val_processed_source, \"test\":test_processed_source}\n",
    "    },\n",
    "    \"target\": {\n",
    "        \"original\": {\"train\":train_original_target, \"val\":val_original_target, \"test\":test_original_target},\n",
    "        \"processed\": {\"train\":train_processed_target, \"val\":val_processed_target, \"test\":test_processed_target}\n",
    "    },\n",
    "})"
   ]
  },
  {
   "cell_type": "code",
   "execution_count": 20,
   "id": "5b3c01fc",
   "metadata": {
    "execution": {
     "iopub.execute_input": "2022-03-07T05:00:22.635106Z",
     "iopub.status.busy": "2022-03-07T05:00:22.634858Z",
     "iopub.status.idle": "2022-03-07T05:00:29.130465Z",
     "shell.execute_reply": "2022-03-07T05:00:29.130959Z"
    },
    "papermill": {
     "duration": 6.511836,
     "end_time": "2022-03-07T05:00:29.131101",
     "exception": false,
     "start_time": "2022-03-07T05:00:22.619265",
     "status": "completed"
    },
    "tags": []
   },
   "outputs": [
    {
     "name": "stdout",
     "output_type": "stream",
     "text": [
      "{'ORACLE.run2_20', 'ORACLE.run2_8', 'ORACLE.run2_44', 'ORACLE.run2_26', 'ORACLE.run2_38', 'ORACLE.run2_50', 'ORACLE.run2_14', 'ORACLE.run2_32'}\n"
     ]
    },
    {
     "name": "stdout",
     "output_type": "stream",
     "text": [
      "{'ORACLE.run1_50', 'ORACLE.run1_38', 'ORACLE.run1_14', 'ORACLE.run1_26', 'ORACLE.run1_44', 'ORACLE.run1_32', 'ORACLE.run1_20', 'ORACLE.run1_8'}\n"
     ]
    },
    {
     "name": "stdout",
     "output_type": "stream",
     "text": [
      "tensor([[[ 0.9296,  0.0939, -1.0517,  ...,  0.2911,  1.4179,  0.1502],\n",
      "         [ 0.3944,  1.1831, -0.4789,  ..., -0.9578, -0.0751, -1.0610]],\n",
      "\n",
      "        [[ 0.9965,  0.3760, -1.1469,  ..., -0.2538,  1.2410, -0.3666],\n",
      "         [ 0.0564,  1.0153, -0.1034,  ..., -1.2316, -0.6769, -1.0247]],\n",
      "\n",
      "        [[ 0.2116,  1.1347, -0.5866,  ..., -1.2694,  0.7597,  0.2308],\n",
      "         [-0.5770,  0.4135,  0.7309,  ..., -0.5385, -1.1155, -0.9328]],\n",
      "\n",
      "        ...,\n",
      "\n",
      "        [[ 0.0523, -1.2806,  0.2417,  ...,  1.2283, -0.3332,  0.0849],\n",
      "         [ 0.6729, -0.0719, -0.8167,  ...,  0.0000,  1.3132,  1.0258]],\n",
      "\n",
      "        [[ 0.7392, -0.5706, -0.9337,  ...,  1.1152,  0.9207, -0.3825],\n",
      "         [ 0.9596,  0.4409, -1.0115,  ..., -0.5511, -0.3890, -1.2903]],\n",
      "\n",
      "        [[ 0.3781, -0.7040, -0.4367,  ...,  1.1081,  1.1473,  0.7301],\n",
      "         [ 1.0821,  0.5150, -1.2907,  ..., -0.3259,  0.7040, -1.0821]]])\n"
     ]
    }
   ],
   "source": [
    "from steves_utils.transforms import get_average_magnitude, get_average_power\n",
    "\n",
    "print(set([u for u,_ in val_original_source]))\n",
    "print(set([u for u,_ in val_original_target]))\n",
    "\n",
    "s_x, s_y, q_x, q_y, _ = next(iter(train_processed_source))\n",
    "print(s_x)\n",
    "\n",
    "# for ds in [\n",
    "#     train_processed_source,\n",
    "#     val_processed_source,\n",
    "#     test_processed_source,\n",
    "#     train_processed_target,\n",
    "#     val_processed_target,\n",
    "#     test_processed_target\n",
    "# ]:\n",
    "#     for s_x, s_y, q_x, q_y, _ in ds:\n",
    "#         for X in (s_x, q_x):\n",
    "#             for x in X:\n",
    "#                 assert np.isclose(get_average_magnitude(x.numpy()), 1.0)\n",
    "#                 assert np.isclose(get_average_power(x.numpy()), 1.0)\n",
    "                "
   ]
  },
  {
   "cell_type": "code",
   "execution_count": 21,
   "id": "bbdacba1",
   "metadata": {
    "execution": {
     "iopub.execute_input": "2022-03-07T05:00:29.166600Z",
     "iopub.status.busy": "2022-03-07T05:00:29.166340Z",
     "iopub.status.idle": "2022-03-07T05:00:29.224391Z",
     "shell.execute_reply": "2022-03-07T05:00:29.223953Z"
    },
    "papermill": {
     "duration": 0.076038,
     "end_time": "2022-03-07T05:00:29.224496",
     "exception": false,
     "start_time": "2022-03-07T05:00:29.148458",
     "status": "completed"
    },
    "tags": []
   },
   "outputs": [
    {
     "name": "stdout",
     "output_type": "stream",
     "text": [
      "(2, 256)\n"
     ]
    }
   ],
   "source": [
    "###################################\n",
    "# Build the model\n",
    "###################################\n",
    "model = Steves_Prototypical_Network(x_net, device=p.device, x_shape=(2,256))\n",
    "optimizer = Adam(params=model.parameters(), lr=p.lr)"
   ]
  },
  {
   "cell_type": "code",
   "execution_count": 22,
   "id": "22b39ac5",
   "metadata": {
    "execution": {
     "iopub.execute_input": "2022-03-07T05:00:29.262622Z",
     "iopub.status.busy": "2022-03-07T05:00:29.262376Z",
     "iopub.status.idle": "2022-03-07T05:56:58.087504Z",
     "shell.execute_reply": "2022-03-07T05:56:58.087272Z"
    },
    "papermill": {
     "duration": 3388.842691,
     "end_time": "2022-03-07T05:56:58.087564",
     "exception": false,
     "start_time": "2022-03-07T05:00:29.244873",
     "status": "completed"
    },
    "tags": []
   },
   "outputs": [
    {
     "name": "stdout",
     "output_type": "stream",
     "text": [
      "epoch: 1, [batch: 1 / 6720], examples_per_second: 48.3571, train_label_loss: 2.8420, \n"
     ]
    },
    {
     "name": "stdout",
     "output_type": "stream",
     "text": [
      "epoch: 1, [batch: 672 / 6720], examples_per_second: 3139.7144, train_label_loss: 0.9604, \n"
     ]
    },
    {
     "name": "stdout",
     "output_type": "stream",
     "text": [
      "epoch: 1, [batch: 1344 / 6720], examples_per_second: 3142.8025, train_label_loss: 0.5612, \n"
     ]
    },
    {
     "name": "stdout",
     "output_type": "stream",
     "text": [
      "epoch: 1, [batch: 2016 / 6720], examples_per_second: 3136.1998, train_label_loss: 0.4998, \n"
     ]
    },
    {
     "name": "stdout",
     "output_type": "stream",
     "text": [
      "epoch: 1, [batch: 2688 / 6720], examples_per_second: 3131.3770, train_label_loss: 1.3082, \n"
     ]
    },
    {
     "name": "stdout",
     "output_type": "stream",
     "text": [
      "epoch: 1, [batch: 3360 / 6720], examples_per_second: 3140.8827, train_label_loss: 0.9434, \n"
     ]
    },
    {
     "name": "stdout",
     "output_type": "stream",
     "text": [
      "epoch: 1, [batch: 4032 / 6720], examples_per_second: 3146.3184, train_label_loss: 0.8388, \n"
     ]
    },
    {
     "name": "stdout",
     "output_type": "stream",
     "text": [
      "epoch: 1, [batch: 4704 / 6720], examples_per_second: 3138.7269, train_label_loss: 0.5061, \n"
     ]
    },
    {
     "name": "stdout",
     "output_type": "stream",
     "text": [
      "epoch: 1, [batch: 5376 / 6720], examples_per_second: 3142.4283, train_label_loss: 0.4304, \n"
     ]
    },
    {
     "name": "stdout",
     "output_type": "stream",
     "text": [
      "epoch: 1, [batch: 6048 / 6720], examples_per_second: 3137.6662, train_label_loss: 0.8912, \n"
     ]
    },
    {
     "name": "stdout",
     "output_type": "stream",
     "text": [
      "=============================================================\n",
      "epoch: 1, source_val_acc_label: 0.5473, target_val_acc_label: 0.5499, source_val_label_loss: 137.5783, target_val_label_loss: 164.0718, \n",
      "=============================================================\n"
     ]
    },
    {
     "name": "stdout",
     "output_type": "stream",
     "text": [
      "New best\n"
     ]
    },
    {
     "name": "stdout",
     "output_type": "stream",
     "text": [
      "epoch: 2, [batch: 1 / 6720], examples_per_second: 4.7055, train_label_loss: 428.2420, \n"
     ]
    },
    {
     "name": "stdout",
     "output_type": "stream",
     "text": [
      "epoch: 2, [batch: 672 / 6720], examples_per_second: 3149.1822, train_label_loss: 0.6962, \n"
     ]
    },
    {
     "name": "stdout",
     "output_type": "stream",
     "text": [
      "epoch: 2, [batch: 1344 / 6720], examples_per_second: 3166.4174, train_label_loss: 0.6175, \n"
     ]
    },
    {
     "name": "stdout",
     "output_type": "stream",
     "text": [
      "epoch: 2, [batch: 2016 / 6720], examples_per_second: 3156.4931, train_label_loss: 0.5347, \n"
     ]
    },
    {
     "name": "stdout",
     "output_type": "stream",
     "text": [
      "epoch: 2, [batch: 2688 / 6720], examples_per_second: 3160.9398, train_label_loss: 0.6338, \n"
     ]
    },
    {
     "name": "stdout",
     "output_type": "stream",
     "text": [
      "epoch: 2, [batch: 3360 / 6720], examples_per_second: 3150.1745, train_label_loss: 1.0482, \n"
     ]
    },
    {
     "name": "stdout",
     "output_type": "stream",
     "text": [
      "epoch: 2, [batch: 4032 / 6720], examples_per_second: 3156.4984, train_label_loss: 1.2862, \n"
     ]
    },
    {
     "name": "stdout",
     "output_type": "stream",
     "text": [
      "epoch: 2, [batch: 4704 / 6720], examples_per_second: 3159.0381, train_label_loss: 0.9291, \n"
     ]
    },
    {
     "name": "stdout",
     "output_type": "stream",
     "text": [
      "epoch: 2, [batch: 5376 / 6720], examples_per_second: 3158.9755, train_label_loss: 1.2129, \n"
     ]
    },
    {
     "name": "stdout",
     "output_type": "stream",
     "text": [
      "epoch: 2, [batch: 6048 / 6720], examples_per_second: 3174.0275, train_label_loss: 0.5638, \n"
     ]
    },
    {
     "name": "stdout",
     "output_type": "stream",
     "text": [
      "=============================================================\n",
      "epoch: 2, source_val_acc_label: 0.7621, target_val_acc_label: 0.7654, source_val_label_loss: 0.7219, target_val_label_loss: 0.6779, \n",
      "=============================================================\n"
     ]
    },
    {
     "name": "stdout",
     "output_type": "stream",
     "text": [
      "New best\n"
     ]
    },
    {
     "name": "stdout",
     "output_type": "stream",
     "text": [
      "epoch: 3, [batch: 1 / 6720], examples_per_second: 4.7172, train_label_loss: 0.7306, \n"
     ]
    },
    {
     "name": "stdout",
     "output_type": "stream",
     "text": [
      "epoch: 3, [batch: 672 / 6720], examples_per_second: 3149.9647, train_label_loss: 0.3306, \n"
     ]
    },
    {
     "name": "stdout",
     "output_type": "stream",
     "text": [
      "epoch: 3, [batch: 1344 / 6720], examples_per_second: 3152.8296, train_label_loss: 0.4854, \n"
     ]
    },
    {
     "name": "stdout",
     "output_type": "stream",
     "text": [
      "epoch: 3, [batch: 2016 / 6720], examples_per_second: 3145.0985, train_label_loss: 0.6279, \n"
     ]
    },
    {
     "name": "stdout",
     "output_type": "stream",
     "text": [
      "epoch: 3, [batch: 2688 / 6720], examples_per_second: 3143.6016, train_label_loss: 0.4732, \n"
     ]
    },
    {
     "name": "stdout",
     "output_type": "stream",
     "text": [
      "epoch: 3, [batch: 3360 / 6720], examples_per_second: 3165.7356, train_label_loss: 0.7893, \n"
     ]
    },
    {
     "name": "stdout",
     "output_type": "stream",
     "text": [
      "epoch: 3, [batch: 4032 / 6720], examples_per_second: 3169.0612, train_label_loss: 0.9291, \n"
     ]
    },
    {
     "name": "stdout",
     "output_type": "stream",
     "text": [
      "epoch: 3, [batch: 4704 / 6720], examples_per_second: 3152.9653, train_label_loss: 0.2718, \n"
     ]
    },
    {
     "name": "stdout",
     "output_type": "stream",
     "text": [
      "epoch: 3, [batch: 5376 / 6720], examples_per_second: 3154.7173, train_label_loss: 0.4958, \n"
     ]
    },
    {
     "name": "stdout",
     "output_type": "stream",
     "text": [
      "epoch: 3, [batch: 6048 / 6720], examples_per_second: 3157.4870, train_label_loss: 0.2727, \n"
     ]
    },
    {
     "name": "stdout",
     "output_type": "stream",
     "text": [
      "=============================================================\n",
      "epoch: 3, source_val_acc_label: 0.8009, target_val_acc_label: 0.8062, source_val_label_loss: 0.5975, target_val_label_loss: 0.5653, \n",
      "=============================================================\n"
     ]
    },
    {
     "name": "stdout",
     "output_type": "stream",
     "text": [
      "New best\n"
     ]
    },
    {
     "name": "stdout",
     "output_type": "stream",
     "text": [
      "epoch: 4, [batch: 1 / 6720], examples_per_second: 4.7225, train_label_loss: 0.4440, \n"
     ]
    },
    {
     "name": "stdout",
     "output_type": "stream",
     "text": [
      "epoch: 4, [batch: 672 / 6720], examples_per_second: 3150.0532, train_label_loss: 0.2067, \n"
     ]
    },
    {
     "name": "stdout",
     "output_type": "stream",
     "text": [
      "epoch: 4, [batch: 1344 / 6720], examples_per_second: 3159.3740, train_label_loss: 0.8914, \n"
     ]
    },
    {
     "name": "stdout",
     "output_type": "stream",
     "text": [
      "epoch: 4, [batch: 2016 / 6720], examples_per_second: 3161.8097, train_label_loss: 0.7145, \n"
     ]
    },
    {
     "name": "stdout",
     "output_type": "stream",
     "text": [
      "epoch: 4, [batch: 2688 / 6720], examples_per_second: 3150.6556, train_label_loss: 0.3488, \n"
     ]
    },
    {
     "name": "stdout",
     "output_type": "stream",
     "text": [
      "epoch: 4, [batch: 3360 / 6720], examples_per_second: 3168.9423, train_label_loss: 0.1352, \n"
     ]
    },
    {
     "name": "stdout",
     "output_type": "stream",
     "text": [
      "epoch: 4, [batch: 4032 / 6720], examples_per_second: 3161.0725, train_label_loss: 0.7070, \n"
     ]
    },
    {
     "name": "stdout",
     "output_type": "stream",
     "text": [
      "epoch: 4, [batch: 4704 / 6720], examples_per_second: 3156.8317, train_label_loss: 0.6416, \n"
     ]
    },
    {
     "name": "stdout",
     "output_type": "stream",
     "text": [
      "epoch: 4, [batch: 5376 / 6720], examples_per_second: 3068.6967, train_label_loss: 0.4937, \n"
     ]
    },
    {
     "name": "stdout",
     "output_type": "stream",
     "text": [
      "epoch: 4, [batch: 6048 / 6720], examples_per_second: 3043.8717, train_label_loss: 0.5525, \n"
     ]
    },
    {
     "name": "stdout",
     "output_type": "stream",
     "text": [
      "=============================================================\n",
      "epoch: 4, source_val_acc_label: 0.8242, target_val_acc_label: 0.8229, source_val_label_loss: 0.5115, target_val_label_loss: 0.5028, \n",
      "=============================================================\n"
     ]
    },
    {
     "name": "stdout",
     "output_type": "stream",
     "text": [
      "New best\n"
     ]
    },
    {
     "name": "stdout",
     "output_type": "stream",
     "text": [
      "epoch: 5, [batch: 1 / 6720], examples_per_second: 4.4522, train_label_loss: 0.2583, \n"
     ]
    },
    {
     "name": "stdout",
     "output_type": "stream",
     "text": [
      "epoch: 5, [batch: 672 / 6720], examples_per_second: 2998.7886, train_label_loss: 0.1833, \n"
     ]
    },
    {
     "name": "stdout",
     "output_type": "stream",
     "text": [
      "epoch: 5, [batch: 1344 / 6720], examples_per_second: 2987.6364, train_label_loss: 0.3577, \n"
     ]
    },
    {
     "name": "stdout",
     "output_type": "stream",
     "text": [
      "epoch: 5, [batch: 2016 / 6720], examples_per_second: 2958.1332, train_label_loss: 0.6208, \n"
     ]
    },
    {
     "name": "stdout",
     "output_type": "stream",
     "text": [
      "epoch: 5, [batch: 2688 / 6720], examples_per_second: 2976.8081, train_label_loss: 0.3209, \n"
     ]
    },
    {
     "name": "stdout",
     "output_type": "stream",
     "text": [
      "epoch: 5, [batch: 3360 / 6720], examples_per_second: 2996.9062, train_label_loss: 0.7665, \n"
     ]
    },
    {
     "name": "stdout",
     "output_type": "stream",
     "text": [
      "epoch: 5, [batch: 4032 / 6720], examples_per_second: 3007.5900, train_label_loss: 0.6859, \n"
     ]
    },
    {
     "name": "stdout",
     "output_type": "stream",
     "text": [
      "epoch: 5, [batch: 4704 / 6720], examples_per_second: 3074.3568, train_label_loss: 0.3660, \n"
     ]
    },
    {
     "name": "stdout",
     "output_type": "stream",
     "text": [
      "epoch: 5, [batch: 5376 / 6720], examples_per_second: 3019.2054, train_label_loss: 0.8233, \n"
     ]
    },
    {
     "name": "stdout",
     "output_type": "stream",
     "text": [
      "epoch: 5, [batch: 6048 / 6720], examples_per_second: 3058.2839, train_label_loss: 0.3520, \n"
     ]
    },
    {
     "name": "stdout",
     "output_type": "stream",
     "text": [
      "=============================================================\n",
      "epoch: 5, source_val_acc_label: 0.8478, target_val_acc_label: 0.8463, source_val_label_loss: 0.4399, target_val_label_loss: 0.4370, \n",
      "=============================================================\n"
     ]
    },
    {
     "name": "stdout",
     "output_type": "stream",
     "text": [
      "New best\n"
     ]
    },
    {
     "name": "stdout",
     "output_type": "stream",
     "text": [
      "epoch: 6, [batch: 1 / 6720], examples_per_second: 4.5169, train_label_loss: 0.3845, \n"
     ]
    },
    {
     "name": "stdout",
     "output_type": "stream",
     "text": [
      "epoch: 6, [batch: 672 / 6720], examples_per_second: 3099.3822, train_label_loss: 0.5933, \n"
     ]
    },
    {
     "name": "stdout",
     "output_type": "stream",
     "text": [
      "epoch: 6, [batch: 1344 / 6720], examples_per_second: 3051.0427, train_label_loss: 0.4222, \n"
     ]
    },
    {
     "name": "stdout",
     "output_type": "stream",
     "text": [
      "epoch: 6, [batch: 2016 / 6720], examples_per_second: 3124.2273, train_label_loss: 0.2234, \n"
     ]
    },
    {
     "name": "stdout",
     "output_type": "stream",
     "text": [
      "epoch: 6, [batch: 2688 / 6720], examples_per_second: 3115.4576, train_label_loss: 0.7951, \n"
     ]
    },
    {
     "name": "stdout",
     "output_type": "stream",
     "text": [
      "epoch: 6, [batch: 3360 / 6720], examples_per_second: 3132.0071, train_label_loss: 0.3481, \n"
     ]
    },
    {
     "name": "stdout",
     "output_type": "stream",
     "text": [
      "epoch: 6, [batch: 4032 / 6720], examples_per_second: 3130.2174, train_label_loss: 0.5342, \n"
     ]
    },
    {
     "name": "stdout",
     "output_type": "stream",
     "text": [
      "epoch: 6, [batch: 4704 / 6720], examples_per_second: 3122.7770, train_label_loss: 0.2637, \n"
     ]
    },
    {
     "name": "stdout",
     "output_type": "stream",
     "text": [
      "epoch: 6, [batch: 5376 / 6720], examples_per_second: 3130.6380, train_label_loss: 0.1426, \n"
     ]
    },
    {
     "name": "stdout",
     "output_type": "stream",
     "text": [
      "epoch: 6, [batch: 6048 / 6720], examples_per_second: 3125.4650, train_label_loss: 0.1164, \n"
     ]
    },
    {
     "name": "stdout",
     "output_type": "stream",
     "text": [
      "=============================================================\n",
      "epoch: 6, source_val_acc_label: 0.8545, target_val_acc_label: 0.8539, source_val_label_loss: 0.4194, target_val_label_loss: 0.4201, \n",
      "=============================================================\n"
     ]
    },
    {
     "name": "stdout",
     "output_type": "stream",
     "text": [
      "New best\n"
     ]
    },
    {
     "name": "stdout",
     "output_type": "stream",
     "text": [
      "epoch: 7, [batch: 1 / 6720], examples_per_second: 4.6301, train_label_loss: 0.2349, \n"
     ]
    },
    {
     "name": "stdout",
     "output_type": "stream",
     "text": [
      "epoch: 7, [batch: 672 / 6720], examples_per_second: 3113.0827, train_label_loss: 0.7984, \n"
     ]
    },
    {
     "name": "stdout",
     "output_type": "stream",
     "text": [
      "epoch: 7, [batch: 1344 / 6720], examples_per_second: 3116.8836, train_label_loss: 0.3006, \n"
     ]
    },
    {
     "name": "stdout",
     "output_type": "stream",
     "text": [
      "epoch: 7, [batch: 2016 / 6720], examples_per_second: 3112.1908, train_label_loss: 0.2755, \n"
     ]
    },
    {
     "name": "stdout",
     "output_type": "stream",
     "text": [
      "epoch: 7, [batch: 2688 / 6720], examples_per_second: 3113.9769, train_label_loss: 0.2801, \n"
     ]
    },
    {
     "name": "stdout",
     "output_type": "stream",
     "text": [
      "epoch: 7, [batch: 3360 / 6720], examples_per_second: 3118.4150, train_label_loss: 0.4424, \n"
     ]
    },
    {
     "name": "stdout",
     "output_type": "stream",
     "text": [
      "epoch: 7, [batch: 4032 / 6720], examples_per_second: 3126.9798, train_label_loss: 0.3777, \n"
     ]
    },
    {
     "name": "stdout",
     "output_type": "stream",
     "text": [
      "epoch: 7, [batch: 4704 / 6720], examples_per_second: 3117.2735, train_label_loss: 0.2946, \n"
     ]
    },
    {
     "name": "stdout",
     "output_type": "stream",
     "text": [
      "epoch: 7, [batch: 5376 / 6720], examples_per_second: 3098.1453, train_label_loss: 0.0460, \n"
     ]
    },
    {
     "name": "stdout",
     "output_type": "stream",
     "text": [
      "epoch: 7, [batch: 6048 / 6720], examples_per_second: 3098.0194, train_label_loss: 0.2294, \n"
     ]
    },
    {
     "name": "stdout",
     "output_type": "stream",
     "text": [
      "=============================================================\n",
      "epoch: 7, source_val_acc_label: 0.8506, target_val_acc_label: 0.8488, source_val_label_loss: 0.4147, target_val_label_loss: 0.4272, \n",
      "=============================================================\n"
     ]
    },
    {
     "name": "stdout",
     "output_type": "stream",
     "text": [
      "epoch: 8, [batch: 1 / 6720], examples_per_second: 4.7261, train_label_loss: 0.6147, \n"
     ]
    },
    {
     "name": "stdout",
     "output_type": "stream",
     "text": [
      "epoch: 8, [batch: 672 / 6720], examples_per_second: 3146.6942, train_label_loss: 0.8247, \n"
     ]
    },
    {
     "name": "stdout",
     "output_type": "stream",
     "text": [
      "epoch: 8, [batch: 1344 / 6720], examples_per_second: 3147.8701, train_label_loss: 0.5939, \n"
     ]
    },
    {
     "name": "stdout",
     "output_type": "stream",
     "text": [
      "epoch: 8, [batch: 2016 / 6720], examples_per_second: 3165.6167, train_label_loss: 0.5453, \n"
     ]
    },
    {
     "name": "stdout",
     "output_type": "stream",
     "text": [
      "epoch: 8, [batch: 2688 / 6720], examples_per_second: 3159.4714, train_label_loss: 0.2599, \n"
     ]
    },
    {
     "name": "stdout",
     "output_type": "stream",
     "text": [
      "epoch: 8, [batch: 3360 / 6720], examples_per_second: 3165.2081, train_label_loss: 0.4211, \n"
     ]
    },
    {
     "name": "stdout",
     "output_type": "stream",
     "text": [
      "epoch: 8, [batch: 4032 / 6720], examples_per_second: 3157.8833, train_label_loss: 0.7026, \n"
     ]
    },
    {
     "name": "stdout",
     "output_type": "stream",
     "text": [
      "epoch: 8, [batch: 4704 / 6720], examples_per_second: 3154.6064, train_label_loss: 0.3958, \n"
     ]
    },
    {
     "name": "stdout",
     "output_type": "stream",
     "text": [
      "epoch: 8, [batch: 5376 / 6720], examples_per_second: 3150.2271, train_label_loss: 0.0572, \n"
     ]
    },
    {
     "name": "stdout",
     "output_type": "stream",
     "text": [
      "epoch: 8, [batch: 6048 / 6720], examples_per_second: 3153.5707, train_label_loss: 0.2012, \n"
     ]
    },
    {
     "name": "stdout",
     "output_type": "stream",
     "text": [
      "=============================================================\n",
      "epoch: 8, source_val_acc_label: 0.8608, target_val_acc_label: 0.8549, source_val_label_loss: 0.3900, target_val_label_loss: 0.4016, \n",
      "=============================================================\n"
     ]
    },
    {
     "name": "stdout",
     "output_type": "stream",
     "text": [
      "New best\n"
     ]
    },
    {
     "name": "stdout",
     "output_type": "stream",
     "text": [
      "epoch: 9, [batch: 1 / 6720], examples_per_second: 4.6856, train_label_loss: 0.2385, \n"
     ]
    },
    {
     "name": "stdout",
     "output_type": "stream",
     "text": [
      "epoch: 9, [batch: 672 / 6720], examples_per_second: 3152.3275, train_label_loss: 0.1566, \n"
     ]
    },
    {
     "name": "stdout",
     "output_type": "stream",
     "text": [
      "epoch: 9, [batch: 1344 / 6720], examples_per_second: 3159.6438, train_label_loss: 0.1874, \n"
     ]
    },
    {
     "name": "stdout",
     "output_type": "stream",
     "text": [
      "epoch: 9, [batch: 2016 / 6720], examples_per_second: 3139.7142, train_label_loss: 0.1046, \n"
     ]
    },
    {
     "name": "stdout",
     "output_type": "stream",
     "text": [
      "epoch: 9, [batch: 2688 / 6720], examples_per_second: 3139.4429, train_label_loss: 0.0786, \n"
     ]
    },
    {
     "name": "stdout",
     "output_type": "stream",
     "text": [
      "epoch: 9, [batch: 3360 / 6720], examples_per_second: 3160.6236, train_label_loss: 0.5324, \n"
     ]
    },
    {
     "name": "stdout",
     "output_type": "stream",
     "text": [
      "epoch: 9, [batch: 4032 / 6720], examples_per_second: 3154.6318, train_label_loss: 0.5999, \n"
     ]
    },
    {
     "name": "stdout",
     "output_type": "stream",
     "text": [
      "epoch: 9, [batch: 4704 / 6720], examples_per_second: 3163.2100, train_label_loss: 0.0467, \n"
     ]
    },
    {
     "name": "stdout",
     "output_type": "stream",
     "text": [
      "epoch: 9, [batch: 5376 / 6720], examples_per_second: 3167.3805, train_label_loss: 0.0529, \n"
     ]
    },
    {
     "name": "stdout",
     "output_type": "stream",
     "text": [
      "epoch: 9, [batch: 6048 / 6720], examples_per_second: 3162.1383, train_label_loss: 0.1926, \n"
     ]
    },
    {
     "name": "stdout",
     "output_type": "stream",
     "text": [
      "=============================================================\n",
      "epoch: 9, source_val_acc_label: 0.8707, target_val_acc_label: 0.8623, source_val_label_loss: 0.3671, target_val_label_loss: 0.3964, \n",
      "=============================================================\n"
     ]
    },
    {
     "name": "stdout",
     "output_type": "stream",
     "text": [
      "New best\n"
     ]
    },
    {
     "name": "stdout",
     "output_type": "stream",
     "text": [
      "epoch: 10, [batch: 1 / 6720], examples_per_second: 4.6864, train_label_loss: 0.6786, \n"
     ]
    },
    {
     "name": "stdout",
     "output_type": "stream",
     "text": [
      "epoch: 10, [batch: 672 / 6720], examples_per_second: 3144.9369, train_label_loss: 0.1802, \n"
     ]
    },
    {
     "name": "stdout",
     "output_type": "stream",
     "text": [
      "epoch: 10, [batch: 1344 / 6720], examples_per_second: 3166.7942, train_label_loss: 0.2445, \n"
     ]
    },
    {
     "name": "stdout",
     "output_type": "stream",
     "text": [
      "epoch: 10, [batch: 2016 / 6720], examples_per_second: 3170.4178, train_label_loss: 0.3920, \n"
     ]
    },
    {
     "name": "stdout",
     "output_type": "stream",
     "text": [
      "epoch: 10, [batch: 2688 / 6720], examples_per_second: 3152.8340, train_label_loss: 0.2951, \n"
     ]
    },
    {
     "name": "stdout",
     "output_type": "stream",
     "text": [
      "epoch: 10, [batch: 3360 / 6720], examples_per_second: 3165.0422, train_label_loss: 0.2994, \n"
     ]
    },
    {
     "name": "stdout",
     "output_type": "stream",
     "text": [
      "epoch: 10, [batch: 4032 / 6720], examples_per_second: 3167.5237, train_label_loss: 0.4201, \n"
     ]
    },
    {
     "name": "stdout",
     "output_type": "stream",
     "text": [
      "epoch: 10, [batch: 4704 / 6720], examples_per_second: 3152.5927, train_label_loss: 0.2997, \n"
     ]
    },
    {
     "name": "stdout",
     "output_type": "stream",
     "text": [
      "epoch: 10, [batch: 5376 / 6720], examples_per_second: 3164.4151, train_label_loss: 0.3475, \n"
     ]
    },
    {
     "name": "stdout",
     "output_type": "stream",
     "text": [
      "epoch: 10, [batch: 6048 / 6720], examples_per_second: 3171.1819, train_label_loss: 0.0905, \n"
     ]
    },
    {
     "name": "stdout",
     "output_type": "stream",
     "text": [
      "=============================================================\n",
      "epoch: 10, source_val_acc_label: 0.8763, target_val_acc_label: 0.8651, source_val_label_loss: 0.3451, target_val_label_loss: 0.3810, \n",
      "=============================================================\n"
     ]
    },
    {
     "name": "stdout",
     "output_type": "stream",
     "text": [
      "New best\n"
     ]
    },
    {
     "name": "stdout",
     "output_type": "stream",
     "text": [
      "epoch: 11, [batch: 1 / 6720], examples_per_second: 4.7028, train_label_loss: 0.1776, \n"
     ]
    },
    {
     "name": "stdout",
     "output_type": "stream",
     "text": [
      "epoch: 11, [batch: 672 / 6720], examples_per_second: 3132.6192, train_label_loss: 0.2845, \n"
     ]
    },
    {
     "name": "stdout",
     "output_type": "stream",
     "text": [
      "epoch: 11, [batch: 1344 / 6720], examples_per_second: 3154.5477, train_label_loss: 0.2595, \n"
     ]
    },
    {
     "name": "stdout",
     "output_type": "stream",
     "text": [
      "epoch: 11, [batch: 2016 / 6720], examples_per_second: 3157.6420, train_label_loss: 0.1694, \n"
     ]
    },
    {
     "name": "stdout",
     "output_type": "stream",
     "text": [
      "epoch: 11, [batch: 2688 / 6720], examples_per_second: 3151.8005, train_label_loss: 0.3417, \n"
     ]
    },
    {
     "name": "stdout",
     "output_type": "stream",
     "text": [
      "epoch: 11, [batch: 3360 / 6720], examples_per_second: 3163.9429, train_label_loss: 0.2390, \n"
     ]
    },
    {
     "name": "stdout",
     "output_type": "stream",
     "text": [
      "epoch: 11, [batch: 4032 / 6720], examples_per_second: 3161.1912, train_label_loss: 0.1795, \n"
     ]
    },
    {
     "name": "stdout",
     "output_type": "stream",
     "text": [
      "epoch: 11, [batch: 4704 / 6720], examples_per_second: 3151.0215, train_label_loss: 0.0536, \n"
     ]
    },
    {
     "name": "stdout",
     "output_type": "stream",
     "text": [
      "epoch: 11, [batch: 5376 / 6720], examples_per_second: 3159.1157, train_label_loss: 0.0326, \n"
     ]
    },
    {
     "name": "stdout",
     "output_type": "stream",
     "text": [
      "epoch: 11, [batch: 6048 / 6720], examples_per_second: 3159.3111, train_label_loss: 0.1373, \n"
     ]
    },
    {
     "name": "stdout",
     "output_type": "stream",
     "text": [
      "=============================================================\n",
      "epoch: 11, source_val_acc_label: 0.8870, target_val_acc_label: 0.8756, source_val_label_loss: 0.3166, target_val_label_loss: 0.3604, \n",
      "=============================================================\n"
     ]
    },
    {
     "name": "stdout",
     "output_type": "stream",
     "text": [
      "New best\n"
     ]
    },
    {
     "name": "stdout",
     "output_type": "stream",
     "text": [
      "epoch: 12, [batch: 1 / 6720], examples_per_second: 4.6933, train_label_loss: 0.4688, \n"
     ]
    },
    {
     "name": "stdout",
     "output_type": "stream",
     "text": [
      "epoch: 12, [batch: 672 / 6720], examples_per_second: 3149.3433, train_label_loss: 0.2503, \n"
     ]
    },
    {
     "name": "stdout",
     "output_type": "stream",
     "text": [
      "epoch: 12, [batch: 1344 / 6720], examples_per_second: 3149.1265, train_label_loss: 0.2654, \n"
     ]
    },
    {
     "name": "stdout",
     "output_type": "stream",
     "text": [
      "epoch: 12, [batch: 2016 / 6720], examples_per_second: 3157.3086, train_label_loss: 0.4137, \n"
     ]
    },
    {
     "name": "stdout",
     "output_type": "stream",
     "text": [
      "epoch: 12, [batch: 2688 / 6720], examples_per_second: 3148.3556, train_label_loss: 0.2311, \n"
     ]
    },
    {
     "name": "stdout",
     "output_type": "stream",
     "text": [
      "epoch: 12, [batch: 3360 / 6720], examples_per_second: 3162.4860, train_label_loss: 0.1264, \n"
     ]
    },
    {
     "name": "stdout",
     "output_type": "stream",
     "text": [
      "epoch: 12, [batch: 4032 / 6720], examples_per_second: 3154.4869, train_label_loss: 0.0577, \n"
     ]
    },
    {
     "name": "stdout",
     "output_type": "stream",
     "text": [
      "epoch: 12, [batch: 4704 / 6720], examples_per_second: 3154.5260, train_label_loss: 0.1471, \n"
     ]
    },
    {
     "name": "stdout",
     "output_type": "stream",
     "text": [
      "epoch: 12, [batch: 5376 / 6720], examples_per_second: 3156.2357, train_label_loss: 0.1395, \n"
     ]
    },
    {
     "name": "stdout",
     "output_type": "stream",
     "text": [
      "epoch: 12, [batch: 6048 / 6720], examples_per_second: 3153.5919, train_label_loss: 0.1103, \n"
     ]
    },
    {
     "name": "stdout",
     "output_type": "stream",
     "text": [
      "=============================================================\n",
      "epoch: 12, source_val_acc_label: 0.8776, target_val_acc_label: 0.8654, source_val_label_loss: 0.3409, target_val_label_loss: 0.3903, \n",
      "=============================================================\n"
     ]
    },
    {
     "name": "stdout",
     "output_type": "stream",
     "text": [
      "epoch: 13, [batch: 1 / 6720], examples_per_second: 4.7016, train_label_loss: 0.2586, \n"
     ]
    },
    {
     "name": "stdout",
     "output_type": "stream",
     "text": [
      "epoch: 13, [batch: 672 / 6720], examples_per_second: 3122.8792, train_label_loss: 0.2893, \n"
     ]
    },
    {
     "name": "stdout",
     "output_type": "stream",
     "text": [
      "epoch: 13, [batch: 1344 / 6720], examples_per_second: 3131.4201, train_label_loss: 0.3051, \n"
     ]
    },
    {
     "name": "stdout",
     "output_type": "stream",
     "text": [
      "epoch: 13, [batch: 2016 / 6720], examples_per_second: 3158.3303, train_label_loss: 0.0798, \n"
     ]
    },
    {
     "name": "stdout",
     "output_type": "stream",
     "text": [
      "epoch: 13, [batch: 2688 / 6720], examples_per_second: 3149.3964, train_label_loss: 0.1654, \n"
     ]
    },
    {
     "name": "stdout",
     "output_type": "stream",
     "text": [
      "epoch: 13, [batch: 3360 / 6720], examples_per_second: 3171.6538, train_label_loss: 0.0643, \n"
     ]
    },
    {
     "name": "stdout",
     "output_type": "stream",
     "text": [
      "epoch: 13, [batch: 4032 / 6720], examples_per_second: 3164.1900, train_label_loss: 0.2831, \n"
     ]
    },
    {
     "name": "stdout",
     "output_type": "stream",
     "text": [
      "epoch: 13, [batch: 4704 / 6720], examples_per_second: 3158.6566, train_label_loss: 0.0568, \n"
     ]
    },
    {
     "name": "stdout",
     "output_type": "stream",
     "text": [
      "epoch: 13, [batch: 5376 / 6720], examples_per_second: 3171.3627, train_label_loss: 0.0772, \n"
     ]
    },
    {
     "name": "stdout",
     "output_type": "stream",
     "text": [
      "epoch: 13, [batch: 6048 / 6720], examples_per_second: 3153.0666, train_label_loss: 0.3572, \n"
     ]
    },
    {
     "name": "stdout",
     "output_type": "stream",
     "text": [
      "=============================================================\n",
      "epoch: 13, source_val_acc_label: 0.8890, target_val_acc_label: 0.8755, source_val_label_loss: 0.3188, target_val_label_loss: 0.3505, \n",
      "=============================================================\n"
     ]
    },
    {
     "name": "stdout",
     "output_type": "stream",
     "text": [
      "New best\n"
     ]
    },
    {
     "name": "stdout",
     "output_type": "stream",
     "text": [
      "epoch: 14, [batch: 1 / 6720], examples_per_second: 4.6924, train_label_loss: 0.1867, \n"
     ]
    },
    {
     "name": "stdout",
     "output_type": "stream",
     "text": [
      "epoch: 14, [batch: 672 / 6720], examples_per_second: 3155.3170, train_label_loss: 0.2976, \n"
     ]
    },
    {
     "name": "stdout",
     "output_type": "stream",
     "text": [
      "epoch: 14, [batch: 1344 / 6720], examples_per_second: 3164.2495, train_label_loss: 0.2224, \n"
     ]
    },
    {
     "name": "stdout",
     "output_type": "stream",
     "text": [
      "epoch: 14, [batch: 2016 / 6720], examples_per_second: 3156.1066, train_label_loss: 0.0779, \n"
     ]
    },
    {
     "name": "stdout",
     "output_type": "stream",
     "text": [
      "epoch: 14, [batch: 2688 / 6720], examples_per_second: 3153.8839, train_label_loss: 0.3318, \n"
     ]
    },
    {
     "name": "stdout",
     "output_type": "stream",
     "text": [
      "epoch: 14, [batch: 3360 / 6720], examples_per_second: 3159.9839, train_label_loss: 0.1952, \n"
     ]
    },
    {
     "name": "stdout",
     "output_type": "stream",
     "text": [
      "epoch: 14, [batch: 4032 / 6720], examples_per_second: 3168.1364, train_label_loss: 0.3320, \n"
     ]
    },
    {
     "name": "stdout",
     "output_type": "stream",
     "text": [
      "epoch: 14, [batch: 4704 / 6720], examples_per_second: 3156.8823, train_label_loss: 0.1217, \n"
     ]
    },
    {
     "name": "stdout",
     "output_type": "stream",
     "text": [
      "epoch: 14, [batch: 5376 / 6720], examples_per_second: 3154.5557, train_label_loss: 0.0190, \n"
     ]
    },
    {
     "name": "stdout",
     "output_type": "stream",
     "text": [
      "epoch: 14, [batch: 6048 / 6720], examples_per_second: 3159.9737, train_label_loss: 0.1299, \n"
     ]
    },
    {
     "name": "stdout",
     "output_type": "stream",
     "text": [
      "=============================================================\n",
      "epoch: 14, source_val_acc_label: 0.8980, target_val_acc_label: 0.8825, source_val_label_loss: 0.2907, target_val_label_loss: 0.3373, \n",
      "=============================================================\n"
     ]
    },
    {
     "name": "stdout",
     "output_type": "stream",
     "text": [
      "New best\n"
     ]
    },
    {
     "name": "stdout",
     "output_type": "stream",
     "text": [
      "epoch: 15, [batch: 1 / 6720], examples_per_second: 4.6764, train_label_loss: 0.2710, \n"
     ]
    },
    {
     "name": "stdout",
     "output_type": "stream",
     "text": [
      "epoch: 15, [batch: 672 / 6720], examples_per_second: 3161.3330, train_label_loss: 0.1548, \n"
     ]
    },
    {
     "name": "stdout",
     "output_type": "stream",
     "text": [
      "epoch: 15, [batch: 1344 / 6720], examples_per_second: 3150.9897, train_label_loss: 0.3966, \n"
     ]
    },
    {
     "name": "stdout",
     "output_type": "stream",
     "text": [
      "epoch: 15, [batch: 2016 / 6720], examples_per_second: 3148.7316, train_label_loss: 0.1416, \n"
     ]
    },
    {
     "name": "stdout",
     "output_type": "stream",
     "text": [
      "epoch: 15, [batch: 2688 / 6720], examples_per_second: 3149.2559, train_label_loss: 0.2811, \n"
     ]
    },
    {
     "name": "stdout",
     "output_type": "stream",
     "text": [
      "epoch: 15, [batch: 3360 / 6720], examples_per_second: 3159.4399, train_label_loss: 0.1590, \n"
     ]
    },
    {
     "name": "stdout",
     "output_type": "stream",
     "text": [
      "epoch: 15, [batch: 4032 / 6720], examples_per_second: 3158.9574, train_label_loss: 0.5286, \n"
     ]
    },
    {
     "name": "stdout",
     "output_type": "stream",
     "text": [
      "epoch: 15, [batch: 4704 / 6720], examples_per_second: 3150.9717, train_label_loss: 0.4323, \n"
     ]
    },
    {
     "name": "stdout",
     "output_type": "stream",
     "text": [
      "epoch: 15, [batch: 5376 / 6720], examples_per_second: 3156.9124, train_label_loss: 0.1012, \n"
     ]
    },
    {
     "name": "stdout",
     "output_type": "stream",
     "text": [
      "epoch: 15, [batch: 6048 / 6720], examples_per_second: 3159.5808, train_label_loss: 0.1226, \n"
     ]
    },
    {
     "name": "stdout",
     "output_type": "stream",
     "text": [
      "=============================================================\n",
      "epoch: 15, source_val_acc_label: 0.8901, target_val_acc_label: 0.8764, source_val_label_loss: 0.3190, target_val_label_loss: 0.3626, \n",
      "=============================================================\n"
     ]
    },
    {
     "name": "stdout",
     "output_type": "stream",
     "text": [
      "epoch: 16, [batch: 1 / 6720], examples_per_second: 4.7082, train_label_loss: 0.1456, \n"
     ]
    },
    {
     "name": "stdout",
     "output_type": "stream",
     "text": [
      "epoch: 16, [batch: 672 / 6720], examples_per_second: 3131.4942, train_label_loss: 0.0505, \n"
     ]
    },
    {
     "name": "stdout",
     "output_type": "stream",
     "text": [
      "epoch: 16, [batch: 1344 / 6720], examples_per_second: 3154.2076, train_label_loss: 0.0805, \n"
     ]
    },
    {
     "name": "stdout",
     "output_type": "stream",
     "text": [
      "epoch: 16, [batch: 2016 / 6720], examples_per_second: 3159.0550, train_label_loss: 0.3317, \n"
     ]
    },
    {
     "name": "stdout",
     "output_type": "stream",
     "text": [
      "epoch: 16, [batch: 2688 / 6720], examples_per_second: 3154.7359, train_label_loss: 0.2698, \n"
     ]
    },
    {
     "name": "stdout",
     "output_type": "stream",
     "text": [
      "epoch: 16, [batch: 3360 / 6720], examples_per_second: 3164.4152, train_label_loss: 0.1802, \n"
     ]
    },
    {
     "name": "stdout",
     "output_type": "stream",
     "text": [
      "epoch: 16, [batch: 4032 / 6720], examples_per_second: 3157.4898, train_label_loss: 0.4248, \n"
     ]
    },
    {
     "name": "stdout",
     "output_type": "stream",
     "text": [
      "epoch: 16, [batch: 4704 / 6720], examples_per_second: 3153.2766, train_label_loss: 0.1742, \n"
     ]
    },
    {
     "name": "stdout",
     "output_type": "stream",
     "text": [
      "epoch: 16, [batch: 5376 / 6720], examples_per_second: 3165.3200, train_label_loss: 0.3976, \n"
     ]
    },
    {
     "name": "stdout",
     "output_type": "stream",
     "text": [
      "epoch: 16, [batch: 6048 / 6720], examples_per_second: 3166.3174, train_label_loss: 0.0742, \n"
     ]
    },
    {
     "name": "stdout",
     "output_type": "stream",
     "text": [
      "=============================================================\n",
      "epoch: 16, source_val_acc_label: 0.8786, target_val_acc_label: 0.8655, source_val_label_loss: 0.3452, target_val_label_loss: 0.3922, \n",
      "=============================================================\n"
     ]
    },
    {
     "name": "stdout",
     "output_type": "stream",
     "text": [
      "epoch: 17, [batch: 1 / 6720], examples_per_second: 4.7038, train_label_loss: 0.2348, \n"
     ]
    },
    {
     "name": "stdout",
     "output_type": "stream",
     "text": [
      "epoch: 17, [batch: 672 / 6720], examples_per_second: 3122.3703, train_label_loss: 0.0700, \n"
     ]
    },
    {
     "name": "stdout",
     "output_type": "stream",
     "text": [
      "epoch: 17, [batch: 1344 / 6720], examples_per_second: 3147.0292, train_label_loss: 0.0827, \n"
     ]
    },
    {
     "name": "stdout",
     "output_type": "stream",
     "text": [
      "epoch: 17, [batch: 2016 / 6720], examples_per_second: 3161.0325, train_label_loss: 0.5099, \n"
     ]
    },
    {
     "name": "stdout",
     "output_type": "stream",
     "text": [
      "epoch: 17, [batch: 2688 / 6720], examples_per_second: 3150.9272, train_label_loss: 0.0593, \n"
     ]
    },
    {
     "name": "stdout",
     "output_type": "stream",
     "text": [
      "epoch: 17, [batch: 3360 / 6720], examples_per_second: 3171.3791, train_label_loss: 0.3888, \n"
     ]
    },
    {
     "name": "stdout",
     "output_type": "stream",
     "text": [
      "epoch: 17, [batch: 4032 / 6720], examples_per_second: 3158.2677, train_label_loss: 0.1475, \n"
     ]
    },
    {
     "name": "stdout",
     "output_type": "stream",
     "text": [
      "epoch: 17, [batch: 4704 / 6720], examples_per_second: 3153.7838, train_label_loss: 0.0659, \n"
     ]
    },
    {
     "name": "stdout",
     "output_type": "stream",
     "text": [
      "epoch: 17, [batch: 5376 / 6720], examples_per_second: 3158.6654, train_label_loss: 0.1578, \n"
     ]
    },
    {
     "name": "stdout",
     "output_type": "stream",
     "text": [
      "epoch: 17, [batch: 6048 / 6720], examples_per_second: 3163.1152, train_label_loss: 0.5509, \n"
     ]
    },
    {
     "name": "stdout",
     "output_type": "stream",
     "text": [
      "=============================================================\n",
      "epoch: 17, source_val_acc_label: 0.8973, target_val_acc_label: 0.8841, source_val_label_loss: 0.2975, target_val_label_loss: 0.3421, \n",
      "=============================================================\n"
     ]
    },
    {
     "name": "stdout",
     "output_type": "stream",
     "text": [
      "epoch: 18, [batch: 1 / 6720], examples_per_second: 4.6892, train_label_loss: 0.2533, \n"
     ]
    },
    {
     "name": "stdout",
     "output_type": "stream",
     "text": [
      "epoch: 18, [batch: 672 / 6720], examples_per_second: 3154.4159, train_label_loss: 0.0380, \n"
     ]
    },
    {
     "name": "stdout",
     "output_type": "stream",
     "text": [
      "epoch: 18, [batch: 1344 / 6720], examples_per_second: 3142.3436, train_label_loss: 0.1917, \n"
     ]
    },
    {
     "name": "stdout",
     "output_type": "stream",
     "text": [
      "epoch: 18, [batch: 2016 / 6720], examples_per_second: 3159.2343, train_label_loss: 0.4408, \n"
     ]
    },
    {
     "name": "stdout",
     "output_type": "stream",
     "text": [
      "epoch: 18, [batch: 2688 / 6720], examples_per_second: 3147.2935, train_label_loss: 0.2459, \n"
     ]
    },
    {
     "name": "stdout",
     "output_type": "stream",
     "text": [
      "epoch: 18, [batch: 3360 / 6720], examples_per_second: 3170.7009, train_label_loss: 0.1727, \n"
     ]
    },
    {
     "name": "stdout",
     "output_type": "stream",
     "text": [
      "epoch: 18, [batch: 4032 / 6720], examples_per_second: 3158.0268, train_label_loss: 0.2508, \n"
     ]
    },
    {
     "name": "stdout",
     "output_type": "stream",
     "text": [
      "epoch: 18, [batch: 4704 / 6720], examples_per_second: 3153.8294, train_label_loss: 0.1046, \n"
     ]
    },
    {
     "name": "stdout",
     "output_type": "stream",
     "text": [
      "epoch: 18, [batch: 5376 / 6720], examples_per_second: 3165.7990, train_label_loss: 0.1145, \n"
     ]
    },
    {
     "name": "stdout",
     "output_type": "stream",
     "text": [
      "epoch: 18, [batch: 6048 / 6720], examples_per_second: 3166.4235, train_label_loss: 0.3241, \n"
     ]
    },
    {
     "name": "stdout",
     "output_type": "stream",
     "text": [
      "=============================================================\n",
      "epoch: 18, source_val_acc_label: 0.8916, target_val_acc_label: 0.8765, source_val_label_loss: 0.3121, target_val_label_loss: 0.3601, \n",
      "=============================================================\n"
     ]
    },
    {
     "name": "stdout",
     "output_type": "stream",
     "text": [
      "Patience (3) exhausted\n"
     ]
    }
   ],
   "source": [
    "###################################\n",
    "# train\n",
    "###################################\n",
    "jig = PTN_Train_Eval_Test_Jig(model, p.BEST_MODEL_PATH, p.device)\n",
    "\n",
    "jig.train(\n",
    "    train_iterable=datasets.source.processed.train,\n",
    "    source_val_iterable=datasets.source.processed.val,\n",
    "    target_val_iterable=datasets.target.processed.val,\n",
    "    num_epochs=p.n_epoch,\n",
    "    num_logs_per_epoch=p.NUM_LOGS_PER_EPOCH,\n",
    "    patience=p.patience,\n",
    "    optimizer=optimizer,\n",
    "    criteria_for_best=p.criteria_for_best,\n",
    ")"
   ]
  },
  {
   "cell_type": "code",
   "execution_count": 23,
   "id": "31e8fabf",
   "metadata": {
    "execution": {
     "iopub.execute_input": "2022-03-07T05:56:58.190725Z",
     "iopub.status.busy": "2022-03-07T05:56:58.190372Z",
     "iopub.status.idle": "2022-03-07T05:56:58.202760Z",
     "shell.execute_reply": "2022-03-07T05:56:58.202985Z"
    },
    "papermill": {
     "duration": 0.065441,
     "end_time": "2022-03-07T05:56:58.203066",
     "exception": false,
     "start_time": "2022-03-07T05:56:58.137625",
     "status": "completed"
    },
    "tags": []
   },
   "outputs": [],
   "source": [
    "total_experiment_time_secs = time.time() - start_time_secs"
   ]
  },
  {
   "cell_type": "code",
   "execution_count": 24,
   "id": "87b9595b",
   "metadata": {
    "execution": {
     "iopub.execute_input": "2022-03-07T05:56:58.310690Z",
     "iopub.status.busy": "2022-03-07T05:56:58.310274Z",
     "iopub.status.idle": "2022-03-07T05:58:37.342908Z",
     "shell.execute_reply": "2022-03-07T05:58:37.342466Z"
    },
    "papermill": {
     "duration": 99.088209,
     "end_time": "2022-03-07T05:58:37.343015",
     "exception": false,
     "start_time": "2022-03-07T05:56:58.254806",
     "status": "completed"
    },
    "tags": []
   },
   "outputs": [],
   "source": [
    "###################################\n",
    "# Evaluate the model\n",
    "###################################\n",
    "source_test_label_accuracy, source_test_label_loss = jig.test(datasets.source.processed.test)\n",
    "target_test_label_accuracy, target_test_label_loss = jig.test(datasets.target.processed.test)\n",
    "\n",
    "source_val_label_accuracy, source_val_label_loss = jig.test(datasets.source.processed.val)\n",
    "target_val_label_accuracy, target_val_label_loss = jig.test(datasets.target.processed.val)\n",
    "\n",
    "history = jig.get_history()\n",
    "\n",
    "total_epochs_trained = len(history[\"epoch_indices\"])\n",
    "\n",
    "val_dl = Iterable_Aggregator((datasets.source.original.val,datasets.target.original.val))\n",
    "\n",
    "confusion = ptn_confusion_by_domain_over_dataloader(model, p.device, val_dl)\n",
    "per_domain_accuracy = per_domain_accuracy_from_confusion(confusion)\n",
    "\n",
    "# Add a key to per_domain_accuracy for if it was a source domain\n",
    "for domain, accuracy in per_domain_accuracy.items():\n",
    "    per_domain_accuracy[domain] = {\n",
    "        \"accuracy\": accuracy,\n",
    "        \"source?\": domain in p.domains_source\n",
    "    }\n",
    "\n",
    "# Do an independent accuracy assesment JUST TO BE SURE!\n",
    "# _source_test_label_accuracy = independent_accuracy_assesment(model, datasets.source.processed.test, p.device)\n",
    "# _target_test_label_accuracy = independent_accuracy_assesment(model, datasets.target.processed.test, p.device)\n",
    "# _source_val_label_accuracy = independent_accuracy_assesment(model, datasets.source.processed.val, p.device)\n",
    "# _target_val_label_accuracy = independent_accuracy_assesment(model, datasets.target.processed.val, p.device)\n",
    "\n",
    "# assert(_source_test_label_accuracy == source_test_label_accuracy)\n",
    "# assert(_target_test_label_accuracy == target_test_label_accuracy)\n",
    "# assert(_source_val_label_accuracy == source_val_label_accuracy)\n",
    "# assert(_target_val_label_accuracy == target_val_label_accuracy)\n",
    "\n",
    "experiment = {\n",
    "    \"experiment_name\": p.experiment_name,\n",
    "    \"parameters\": dict(p),\n",
    "    \"results\": {\n",
    "        \"source_test_label_accuracy\": source_test_label_accuracy,\n",
    "        \"source_test_label_loss\": source_test_label_loss,\n",
    "        \"target_test_label_accuracy\": target_test_label_accuracy,\n",
    "        \"target_test_label_loss\": target_test_label_loss,\n",
    "        \"source_val_label_accuracy\": source_val_label_accuracy,\n",
    "        \"source_val_label_loss\": source_val_label_loss,\n",
    "        \"target_val_label_accuracy\": target_val_label_accuracy,\n",
    "        \"target_val_label_loss\": target_val_label_loss,\n",
    "        \"total_epochs_trained\": total_epochs_trained,\n",
    "        \"total_experiment_time_secs\": total_experiment_time_secs,\n",
    "        \"confusion\": confusion,\n",
    "        \"per_domain_accuracy\": per_domain_accuracy,\n",
    "    },\n",
    "    \"history\": history,\n",
    "    \"dataset_metrics\": get_dataset_metrics(datasets, \"ptn\"),\n",
    "}"
   ]
  },
  {
   "cell_type": "code",
   "execution_count": 25,
   "id": "54a21829",
   "metadata": {
    "execution": {
     "iopub.execute_input": "2022-03-07T05:58:37.453213Z",
     "iopub.status.busy": "2022-03-07T05:58:37.452955Z",
     "iopub.status.idle": "2022-03-07T05:58:37.616945Z",
     "shell.execute_reply": "2022-03-07T05:58:37.616527Z"
    },
    "papermill": {
     "duration": 0.2184,
     "end_time": "2022-03-07T05:58:37.617039",
     "exception": false,
     "start_time": "2022-03-07T05:58:37.398639",
     "status": "completed"
    },
    "tags": []
   },
   "outputs": [
    {
     "data": {
      "image/png": "[encoded data removed]",
      "text/plain": [
       "<Figure size 1080x504 with 1 Axes>"
      ]
     },
     "metadata": {
      "needs_background": "light"
     },
     "output_type": "display_data"
    }
   ],
   "source": [
    "ax = get_loss_curve(experiment)\n",
    "plt.show()"
   ]
  },
  {
   "cell_type": "code",
   "execution_count": 26,
   "id": "fd8a0f60",
   "metadata": {
    "execution": {
     "iopub.execute_input": "2022-03-07T05:58:37.727886Z",
     "iopub.status.busy": "2022-03-07T05:58:37.727633Z",
     "iopub.status.idle": "2022-03-07T05:58:37.904798Z",
     "shell.execute_reply": "2022-03-07T05:58:37.904529Z"
    },
    "papermill": {
     "duration": 0.231478,
     "end_time": "2022-03-07T05:58:37.904853",
     "exception": false,
     "start_time": "2022-03-07T05:58:37.673375",
     "status": "completed"
    },
    "tags": []
   },
   "outputs": [
    {
     "data": {
      "text/plain": [
       "<matplotlib.axes._subplots.AxesSubplot at 0x7ff8f958d070>"
      ]
     },
     "execution_count": 26,
     "metadata": {},
     "output_type": "execute_result"
    },
    {
     "data": {
      "image/png": "[encoded data removed]",
      "text/plain": [
       "<Figure size 1080x504 with 1 Axes>"
      ]
     },
     "metadata": {
      "needs_background": "light"
     },
     "output_type": "display_data"
    }
   ],
   "source": [
    "get_results_table(experiment)"
   ]
  },
  {
   "cell_type": "code",
   "execution_count": 27,
   "id": "cf8dc689",
   "metadata": {
    "execution": {
     "iopub.execute_input": "2022-03-07T05:58:38.016900Z",
     "iopub.status.busy": "2022-03-07T05:58:38.016641Z",
     "iopub.status.idle": "2022-03-07T05:58:38.238509Z",
     "shell.execute_reply": "2022-03-07T05:58:38.238116Z"
    },
    "papermill": {
     "duration": 0.279618,
     "end_time": "2022-03-07T05:58:38.238603",
     "exception": false,
     "start_time": "2022-03-07T05:58:37.958985",
     "status": "completed"
    },
    "tags": []
   },
   "outputs": [
    {
     "data": {
      "text/plain": [
       "<matplotlib.axes._subplots.AxesSubplot at 0x7ff9107b8d60>"
      ]
     },
     "execution_count": 27,
     "metadata": {},
     "output_type": "execute_result"
    },
    {
     "data": {
      "image/png": "[encoded data removed]",
      "text/plain": [
       "<Figure size 1080x504 with 1 Axes>"
      ]
     },
     "metadata": {
      "needs_background": "light"
     },
     "output_type": "display_data"
    }
   ],
   "source": [
    "get_domain_accuracies(experiment)"
   ]
  },
  {
   "cell_type": "code",
   "execution_count": 28,
   "id": "a74ae082",
   "metadata": {
    "execution": {
     "iopub.execute_input": "2022-03-07T05:58:38.355404Z",
     "iopub.status.busy": "2022-03-07T05:58:38.355147Z",
     "iopub.status.idle": "2022-03-07T05:58:38.369657Z",
     "shell.execute_reply": "2022-03-07T05:58:38.369298Z"
    },
    "papermill": {
     "duration": 0.072452,
     "end_time": "2022-03-07T05:58:38.369729",
     "exception": false,
     "start_time": "2022-03-07T05:58:38.297277",
     "status": "completed"
    },
    "tags": []
   },
   "outputs": [
    {
     "name": "stdout",
     "output_type": "stream",
     "text": [
      "Source Test Label Accuracy: 0.9 Target Test Label Accuracy: 0.88408203125\n",
      "Source Val Label Accuracy: 0.8979817708333333 Target Val Label Accuracy: 0.88251953125\n"
     ]
    }
   ],
   "source": [
    "print(\"Source Test Label Accuracy:\", experiment[\"results\"][\"source_test_label_accuracy\"], \"Target Test Label Accuracy:\", experiment[\"results\"][\"target_test_label_accuracy\"])\n",
    "print(\"Source Val Label Accuracy:\", experiment[\"results\"][\"source_val_label_accuracy\"], \"Target Val Label Accuracy:\", experiment[\"results\"][\"target_val_label_accuracy\"])"
   ]
  },
  {
   "cell_type": "code",
   "execution_count": 29,
   "id": "dacca602",
   "metadata": {
    "execution": {
     "iopub.execute_input": "2022-03-07T05:58:38.485135Z",
     "iopub.status.busy": "2022-03-07T05:58:38.484485Z",
     "iopub.status.idle": "2022-03-07T05:58:38.499563Z",
     "shell.execute_reply": "2022-03-07T05:58:38.499773Z"
    },
    "papermill": {
     "duration": 0.072125,
     "end_time": "2022-03-07T05:58:38.499888",
     "exception": false,
     "start_time": "2022-03-07T05:58:38.427763",
     "status": "completed"
    },
    "tags": [
     "experiment_json"
    ]
   },
   "outputs": [
    {
     "data": {
      "text/plain": [
       "'{\"experiment_name\": \"tl_1_oracle.run1-oracle.run2\", \"parameters\": {\"experiment_name\": \"tl_1_oracle.run1-oracle.run2\", \"device\": \"cuda\", \"lr\": 0.001, \"seed\": 1337, \"dataset_seed\": 1337, \"n_shot\": 3, \"n_query\": 2, \"train_k_factor\": 3, \"val_k_factor\": 2, \"test_k_factor\": 2, \"torch_default_dtype\": \"torch.float32\", \"n_epoch\": 50, \"patience\": 3, \"criteria_for_best\": \"target_loss\", \"x_net\": [{\"class\": \"nnReshape\", \"kargs\": {\"shape\": [-1, 1, 2, 256]}}, {\"class\": \"Conv2d\", \"kargs\": {\"in_channels\": 1, \"out_channels\": 256, \"kernel_size\": [1, 7], \"bias\": false, \"padding\": [0, 3]}}, {\"class\": \"ReLU\", \"kargs\": {\"inplace\": true}}, {\"class\": \"BatchNorm2d\", \"kargs\": {\"num_features\": 256}}, {\"class\": \"Conv2d\", \"kargs\": {\"in_channels\": 256, \"out_channels\": 80, \"kernel_size\": [2, 7], \"bias\": true, \"padding\": [0, 3]}}, {\"class\": \"ReLU\", \"kargs\": {\"inplace\": true}}, {\"class\": \"BatchNorm2d\", \"kargs\": {\"num_features\": 80}}, {\"class\": \"Flatten\", \"kargs\": {}}, {\"class\": \"Linear\", \"kargs\": {\"in_features\": 20480, \"out_features\": 256}}, {\"class\": \"ReLU\", \"kargs\": {\"inplace\": true}}, {\"class\": \"BatchNorm1d\", \"kargs\": {\"num_features\": 256}}, {\"class\": \"Linear\", \"kargs\": {\"in_features\": 256, \"out_features\": 256}}], \"NUM_LOGS_PER_EPOCH\": 10, \"BEST_MODEL_PATH\": \"./best_model.pth\", \"n_way\": 16, \"datasets\": [{\"labels\": [\"3123D52\", \"3123D65\", \"3123D79\", \"3123D80\", \"3123D54\", \"3123D70\", \"3123D7B\", \"3123D89\", \"3123D58\", \"3123D76\", \"3123D7D\", \"3123EFE\", \"3123D64\", \"3123D78\", \"3123D7E\", \"3124E4A\"], \"domains\": [32, 38, 8, 44, 14, 50, 20, 26], \"num_examples_per_domain_per_label\": 2000, \"pickle_path\": \"/mnt/wd500GB/CSC500/csc500-main/datasets/oracle.Run1_framed_2000Examples_stratified_ds.2022A.pkl\", \"source_or_target_dataset\": \"target\", \"x_transforms\": [\"unit_mag\"], \"episode_transforms\": [], \"domain_prefix\": \"ORACLE.run1_\"}, {\"labels\": [\"3123D52\", \"3123D65\", \"3123D79\", \"3123D80\", \"3123D54\", \"3123D70\", \"3123D7B\", \"3123D89\", \"3123D58\", \"3123D76\", \"3123D7D\", \"3123EFE\", \"3123D64\", \"3123D78\", \"3123D7E\", \"3124E4A\"], \"domains\": [32, 38, 8, 44, 14, 50, 20, 26], \"num_examples_per_domain_per_label\": 2000, \"pickle_path\": \"/mnt/wd500GB/CSC500/csc500-main/datasets/oracle.Run2_framed_2000Examples_stratified_ds.2022A.pkl\", \"source_or_target_dataset\": \"source\", \"x_transforms\": [\"unit_mag\"], \"episode_transforms\": [], \"domain_prefix\": \"ORACLE.run2_\"}], \"domains_source\": [\"ORACLE.run2_32\", \"ORACLE.run2_38\", \"ORACLE.run2_8\", \"ORACLE.run2_44\", \"ORACLE.run2_14\", \"ORACLE.run2_50\", \"ORACLE.run2_20\", \"ORACLE.run2_26\"], \"domains_target\": [\"ORACLE.run1_32\", \"ORACLE.run1_38\", \"ORACLE.run1_8\", \"ORACLE.run1_44\", \"ORACLE.run1_14\", \"ORACLE.run1_50\", \"ORACLE.run1_20\", \"ORACLE.run1_26\"]}, \"results\": {\"source_test_label_accuracy\": 0.9, \"source_test_label_loss\": 0.278922438621521, \"target_test_label_accuracy\": 0.88408203125, \"target_test_label_loss\": 0.33572375774383545, \"source_val_label_accuracy\": 0.8979817708333333, \"source_val_label_loss\": 0.2907462418079376, \"target_val_label_accuracy\": 0.88251953125, \"target_val_label_loss\": 0.33733069896698, \"total_epochs_trained\": 18, \"total_experiment_time_secs\": 3427.2875418663025, \"confusion\": {\"ORACLE.run2_14\": {\"15\": {\"15\": 240}, \"3\": {\"3\": 230, \"14\": 1, \"5\": 6, \"2\": 3}, \"6\": {\"6\": 228, \"13\": 12}, \"1\": {\"1\": 236, \"4\": 2, \"5\": 2}, \"8\": {\"8\": 240}, \"10\": {\"10\": 240}, \"9\": {\"9\": 240}, \"13\": {\"13\": 220, \"6\": 19, \"2\": 1}, \"12\": {\"12\": 203, \"9\": 14, \"11\": 6, \"0\": 15, \"8\": 2}, \"5\": {\"5\": 218, \"2\": 9, \"3\": 5, \"4\": 6, \"1\": 2}, \"0\": {\"0\": 240}, \"2\": {\"14\": 49, \"2\": 142, \"5\": 33, \"3\": 9, \"13\": 4, \"6\": 1, \"12\": 1, \"4\": 1}, \"11\": {\"11\": 240}, \"14\": {\"5\": 1, \"14\": 211, \"2\": 27, \"3\": 1}, \"7\": {\"7\": 240}, \"4\": {\"4\": 233, \"5\": 7}}, \"ORACLE.run2_20\": {\"3\": {\"2\": 28, \"3\": 189, \"9\": 14, \"7\": 5, \"12\": 2, \"1\": 1, \"5\": 1}, \"15\": {\"15\": 209, \"13\": 20, \"2\": 3, \"5\": 4, \"1\": 1, \"0\": 2, \"12\": 1}, \"8\": {\"8\": 222, \"14\": 13, \"7\": 2, \"5\": 1, \"4\": 2}, \"4\": {\"4\": 235, \"12\": 1, \"5\": 4}, \"14\": {\"14\": 223, \"6\": 10, \"8\": 7}, \"0\": {\"0\": 232, \"15\": 5, \"5\": 3}, \"7\": {\"7\": 237, \"8\": 2, \"5\": 1}, \"6\": {\"6\": 235, \"14\": 5}, \"10\": {\"10\": 240}, \"5\": {\"5\": 206, \"15\": 5, \"0\": 12, \"2\": 7, \"3\": 2, \"4\": 3, \"7\": 5}, \"2\": {\"2\": 193, \"5\": 4, \"12\": 9, \"9\": 8, \"3\": 23, \"15\": 2, \"1\": 1}, \"12\": {\"2\": 11, \"12\": 198, \"1\": 22, \"5\": 3, \"15\": 2, \"9\": 4}, \"9\": {\"9\": 208, \"2\": 16, \"3\": 10, \"12\": 6}, \"1\": {\"1\": 195, \"9\": 3, \"12\": 38, \"15\": 3, \"2\": 1}, \"11\": {\"11\": 240}, \"13\": {\"13\": 218, \"15\": 21, \"1\": 1}}, \"ORACLE.run2_38\": {\"5\": {\"5\": 143, \"7\": 30, \"8\": 58, \"15\": 9}, \"8\": {\"5\": 64, \"15\": 3, \"8\": 160, \"7\": 12, \"0\": 1}, \"11\": {\"11\": 240}, \"1\": {\"1\": 237, \"15\": 3}, \"10\": {\"7\": 35, \"10\": 203, \"3\": 1, \"13\": 1}, \"15\": {\"5\": 16, \"15\": 201, \"1\": 16, \"8\": 6, \"0\": 1}, \"3\": {\"3\": 170, \"10\": 7, \"13\": 48, \"0\": 13, \"7\": 1, \"9\": 1}, \"7\": {\"7\": 193, \"5\": 19, \"8\": 12, \"10\": 16}, \"4\": {\"4\": 239, \"7\": 1}, \"14\": {\"14\": 210, \"2\": 25, \"12\": 4, \"5\": 1}, \"9\": {\"9\": 238, \"6\": 2}, \"12\": {\"12\": 240}, \"6\": {\"6\": 238, \"9\": 2}, \"2\": {\"2\": 228, \"14\": 12}, \"0\": {\"0\": 239, \"7\": 1}, \"13\": {\"13\": 194, \"3\": 38, \"0\": 1, \"8\": 4, \"10\": 1, \"2\": 2}}, \"ORACLE.run2_8\": {\"9\": {\"9\": 240}, \"10\": {\"10\": 216, \"5\": 13, \"0\": 10, \"13\": 1}, \"13\": {\"13\": 234, \"1\": 3, \"14\": 2, \"6\": 1}, \"0\": {\"0\": 227, \"10\": 5, \"14\": 8}, \"1\": {\"1\": 240}, \"15\": {\"15\": 217, \"8\": 13, \"12\": 9, \"7\": 1}, \"5\": {\"10\": 14, \"5\": 226}, \"3\": {\"3\": 239, \"12\": 1}, \"6\": {\"6\": 175, \"7\": 19, \"4\": 46}, \"11\": {\"11\": 222, \"8\": 13, \"15\": 3, \"12\": 2}, \"8\": {\"8\": 239, \"11\": 1}, \"4\": {\"4\": 157, \"6\": 39, \"7\": 44}, \"12\": {\"12\": 229, \"15\": 11}, \"14\": {\"14\": 226, \"0\": 12, \"6\": 1, \"10\": 1}, \"2\": {\"2\": 237, \"4\": 1, \"7\": 2}, \"7\": {\"7\": 185, \"4\": 47, \"6\": 8}}, \"ORACLE.run2_50\": {\"7\": {\"7\": 222, \"5\": 8, \"13\": 10}, \"3\": {\"3\": 239, \"5\": 1}, \"8\": {\"8\": 240}, \"2\": {\"2\": 234, \"0\": 6}, \"14\": {\"14\": 240}, \"4\": {\"5\": 48, \"4\": 185, \"1\": 3, \"6\": 4}, \"6\": {\"6\": 231, \"1\": 1, \"5\": 4, \"4\": 4}, \"15\": {\"15\": 237, \"1\": 1, \"4\": 1, \"11\": 1}, \"10\": {\"10\": 211, \"13\": 28, \"0\": 1}, \"11\": {\"11\": 236, \"15\": 4}, \"13\": {\"13\": 218, \"7\": 1, \"10\": 18, \"5\": 3}, \"9\": {\"9\": 238, \"12\": 2}, \"0\": {\"0\": 230, \"2\": 9, \"10\": 1}, \"1\": {\"1\": 237, \"15\": 2, \"6\": 1}, \"12\": {\"12\": 238, \"11\": 1, \"14\": 1}, \"5\": {\"5\": 156, \"4\": 51, \"6\": 10, \"7\": 17, \"13\": 3, \"1\": 1, \"10\": 2}}, \"ORACLE.run2_32\": {\"8\": {\"8\": 221, \"0\": 14, \"5\": 2, \"3\": 2, \"4\": 1}, \"14\": {\"14\": 232, \"0\": 6, \"11\": 1, \"5\": 1}, \"2\": {\"2\": 234, \"4\": 2, \"7\": 2, \"5\": 2}, \"0\": {\"0\": 204, \"8\": 14, \"14\": 8, \"11\": 5, \"4\": 5, \"5\": 4}, \"1\": {\"1\": 240}, \"10\": {\"10\": 240}, \"11\": {\"11\": 212, \"0\": 9, \"4\": 2, \"7\": 11, \"13\": 6}, \"5\": {\"5\": 201, \"4\": 5, \"7\": 6, \"8\": 9, \"14\": 7, \"0\": 6, \"2\": 5, \"11\": 1}, \"15\": {\"15\": 240}, \"3\": {\"3\": 239, \"8\": 1}, \"12\": {\"12\": 240}, \"7\": {\"7\": 209, \"4\": 16, \"11\": 4, \"2\": 2, \"13\": 4, \"5\": 4, \"0\": 1}, \"13\": {\"4\": 19, \"13\": 217, \"3\": 1, \"11\": 1, \"5\": 1, \"7\": 1}, \"6\": {\"6\": 240}, \"4\": {\"4\": 198, \"13\": 28, \"7\": 9, \"0\": 1, \"2\": 2, \"11\": 2}, \"9\": {\"9\": 240}}, \"ORACLE.run2_26\": {\"4\": {\"4\": 215, \"0\": 6, \"8\": 7, \"3\": 3, \"14\": 2, \"2\": 3, \"15\": 1, \"7\": 3}, \"12\": {\"12\": 240}, \"10\": {\"10\": 119, \"8\": 28, \"0\": 61, \"15\": 3, \"14\": 17, \"9\": 1, \"6\": 4, \"4\": 6, \"7\": 1}, \"0\": {\"10\": 28, \"0\": 145, \"14\": 42, \"4\": 9, \"8\": 16}, \"13\": {\"13\": 223, \"5\": 13, \"9\": 4}, \"9\": {\"9\": 231, \"13\": 5, \"6\": 4}, \"3\": {\"3\": 216, \"7\": 11, \"2\": 11, \"15\": 1, \"4\": 1}, \"2\": {\"2\": 141, \"7\": 66, \"15\": 7, \"5\": 1, \"3\": 11, \"4\": 8, \"8\": 6}, \"5\": {\"5\": 180, \"13\": 37, \"2\": 13, \"3\": 3, \"7\": 5, \"9\": 1, \"6\": 1}, \"14\": {\"14\": 168, \"10\": 11, \"0\": 31, \"8\": 12, \"4\": 1, \"1\": 17}, \"8\": {\"8\": 180, \"10\": 7, \"14\": 11, \"7\": 12, \"0\": 15, \"2\": 4, \"13\": 2, \"4\": 8, \"15\": 1}, \"7\": {\"7\": 145, \"2\": 72, \"8\": 5, \"3\": 2, \"4\": 10, \"5\": 3, \"15\": 3}, \"6\": {\"6\": 234, \"9\": 6}, \"11\": {\"11\": 240}, \"15\": {\"15\": 211, \"2\": 11, \"4\": 2, \"7\": 10, \"3\": 6}, \"1\": {\"1\": 228, \"14\": 11, \"0\": 1}}, \"ORACLE.run2_44\": {\"12\": {\"1\": 21, \"12\": 215, \"3\": 4}, \"7\": {\"9\": 81, \"7\": 152, \"2\": 7}, \"5\": {\"5\": 231, \"14\": 9}, \"15\": {\"15\": 224, \"14\": 12, \"4\": 4}, \"8\": {\"8\": 155, \"0\": 85}, \"2\": {\"2\": 218, \"9\": 13, \"7\": 9}, \"13\": {\"13\": 238, \"6\": 1, \"4\": 1}, \"4\": {\"4\": 232, \"13\": 2, \"14\": 6}, \"0\": {\"0\": 149, \"8\": 91}, \"6\": {\"6\": 235, \"7\": 1, \"13\": 1, \"9\": 3}, \"9\": {\"7\": 62, \"9\": 149, \"2\": 22, \"6\": 7}, \"11\": {\"11\": 239, \"13\": 1}, \"10\": {\"10\": 238, \"12\": 2}, \"14\": {\"14\": 204, \"5\": 13, \"4\": 5, \"15\": 17, \"8\": 1}, \"1\": {\"1\": 202, \"10\": 2, \"12\": 28, \"2\": 1, \"3\": 7}, \"3\": {\"3\": 227, \"1\": 6, \"12\": 7}}, \"ORACLE.run1_14\": {\"15\": {\"15\": 240}, \"3\": {\"3\": 239, \"5\": 1}, \"6\": {\"6\": 185, \"13\": 52, \"2\": 1, \"14\": 2}, \"1\": {\"1\": 236, \"5\": 4}, \"8\": {\"8\": 240}, \"10\": {\"10\": 240}, \"9\": {\"9\": 240}, \"13\": {\"13\": 133, \"6\": 74, \"5\": 4, \"4\": 4, \"14\": 10, \"2\": 13, \"3\": 1, \"7\": 1}, \"12\": {\"12\": 240}, \"5\": {\"5\": 212, \"4\": 16, \"3\": 3, \"2\": 4, \"1\": 5}, \"0\": {\"0\": 240}, \"2\": {\"2\": 161, \"5\": 22, \"14\": 43, \"13\": 8, \"3\": 2, \"6\": 4}, \"11\": {\"11\": 224, \"9\": 16}, \"14\": {\"14\": 213, \"2\": 24, \"13\": 2, \"6\": 1}, \"7\": {\"7\": 240}, \"4\": {\"4\": 237, \"5\": 3}}, \"ORACLE.run1_20\": {\"3\": {\"12\": 29, \"3\": 189, \"9\": 9, \"2\": 12, \"4\": 1}, \"15\": {\"15\": 228, \"0\": 4, \"12\": 1, \"1\": 4, \"5\": 3}, \"8\": {\"8\": 237, \"4\": 1, \"7\": 2}, \"4\": {\"4\": 237, \"8\": 3}, \"14\": {\"6\": 6, \"14\": 234}, \"0\": {\"5\": 21, \"15\": 10, \"0\": 209}, \"7\": {\"7\": 235, \"3\": 1, \"2\": 3, \"9\": 1}, \"6\": {\"6\": 233, \"14\": 7}, \"10\": {\"10\": 240}, \"5\": {\"5\": 223, \"0\": 10, \"15\": 4, \"1\": 1, \"12\": 2}, \"2\": {\"2\": 206, \"9\": 15, \"3\": 7, \"12\": 5, \"7\": 5, \"13\": 2}, \"12\": {\"12\": 177, \"3\": 24, \"1\": 27, \"2\": 9, \"9\": 3}, \"9\": {\"9\": 203, \"2\": 18, \"3\": 15, \"12\": 4}, \"1\": {\"1\": 209, \"5\": 3, \"12\": 25, \"15\": 3}, \"11\": {\"11\": 240}, \"13\": {\"13\": 240}}, \"ORACLE.run1_38\": {\"5\": {\"8\": 67, \"5\": 134, \"7\": 21, \"15\": 6, \"9\": 3, \"6\": 5, \"0\": 2, \"13\": 1, \"10\": 1}, \"8\": {\"8\": 177, \"5\": 36, \"13\": 3, \"0\": 11, \"7\": 8, \"15\": 5}, \"11\": {\"11\": 238, \"10\": 2}, \"1\": {\"1\": 238, \"15\": 2}, \"10\": {\"10\": 217, \"14\": 4, \"7\": 3, \"13\": 14, \"8\": 1, \"2\": 1}, \"15\": {\"15\": 224, \"1\": 10, \"13\": 1, \"5\": 5}, \"3\": {\"3\": 237, \"0\": 3}, \"7\": {\"7\": 223, \"8\": 8, \"0\": 3, \"5\": 6}, \"4\": {\"4\": 239, \"14\": 1}, \"14\": {\"14\": 232, \"2\": 8}, \"9\": {\"9\": 235, \"6\": 2, \"5\": 3}, \"12\": {\"12\": 238, \"4\": 2}, \"6\": {\"6\": 240}, \"2\": {\"14\": 8, \"2\": 230, \"13\": 2}, \"0\": {\"8\": 22, \"0\": 190, \"3\": 5, \"10\": 10, \"7\": 5, \"11\": 2, \"13\": 4, \"5\": 2}, \"13\": {\"13\": 229, \"15\": 1, \"10\": 4, \"2\": 4, \"0\": 1, \"5\": 1}}, \"ORACLE.run1_8\": {\"9\": {\"9\": 240}, \"10\": {\"10\": 222, \"14\": 9, \"4\": 2, \"13\": 7}, \"13\": {\"13\": 149, \"4\": 30, \"0\": 26, \"6\": 4, \"14\": 7, \"10\": 24}, \"0\": {\"13\": 16, \"0\": 216, \"4\": 1, \"7\": 6, \"6\": 1}, \"1\": {\"1\": 238, \"5\": 1, \"14\": 1}, \"15\": {\"15\": 228, \"12\": 12}, \"5\": {\"5\": 227, \"1\": 5, \"10\": 7, \"14\": 1}, \"3\": {\"3\": 239, \"2\": 1}, \"6\": {\"6\": 210, \"7\": 18, \"13\": 3, \"4\": 9}, \"11\": {\"11\": 227, \"1\": 12, \"5\": 1}, \"8\": {\"8\": 240}, \"4\": {\"4\": 200, \"6\": 4, \"13\": 29, \"14\": 6, \"0\": 1}, \"12\": {\"12\": 170, \"8\": 11, \"15\": 46, \"3\": 13}, \"14\": {\"14\": 206, \"4\": 10, \"10\": 13, \"13\": 2, \"1\": 9}, \"2\": {\"7\": 10, \"2\": 229, \"3\": 1}, \"7\": {\"7\": 225, \"6\": 15}}, \"ORACLE.run1_50\": {\"7\": {\"7\": 226, \"5\": 7, \"13\": 5, \"4\": 1, \"6\": 1}, \"3\": {\"3\": 239, \"8\": 1}, \"8\": {\"8\": 231, \"10\": 9}, \"2\": {\"2\": 229, \"0\": 11}, \"14\": {\"14\": 240}, \"4\": {\"4\": 185, \"15\": 21, \"5\": 25, \"1\": 1, \"6\": 2, \"7\": 5, \"9\": 1}, \"6\": {\"6\": 233, \"7\": 2, \"4\": 2, \"5\": 3}, \"15\": {\"15\": 211, \"4\": 12, \"6\": 2, \"1\": 9, \"11\": 6}, \"10\": {\"10\": 228, \"0\": 5, \"8\": 5, \"13\": 2}, \"11\": {\"11\": 229, \"15\": 7, \"12\": 4}, \"13\": {\"13\": 224, \"7\": 2, \"5\": 8, \"10\": 2, \"6\": 3, \"1\": 1}, \"9\": {\"9\": 227, \"11\": 11, \"12\": 2}, \"0\": {\"0\": 213, \"10\": 10, \"2\": 17}, \"1\": {\"1\": 218, \"15\": 12, \"4\": 6, \"5\": 3, \"2\": 1}, \"12\": {\"12\": 237, \"9\": 3}, \"5\": {\"5\": 126, \"4\": 39, \"7\": 39, \"13\": 18, \"1\": 18}}, \"ORACLE.run1_32\": {\"8\": {\"8\": 227, \"14\": 2, \"0\": 11}, \"14\": {\"14\": 183, \"11\": 22, \"0\": 23, \"8\": 3, \"7\": 7, \"3\": 1, \"5\": 1}, \"2\": {\"2\": 204, \"4\": 34, \"7\": 2}, \"0\": {\"0\": 222, \"14\": 7, \"8\": 11}, \"1\": {\"1\": 240}, \"10\": {\"10\": 240}, \"11\": {\"11\": 235, \"5\": 1, \"14\": 4}, \"5\": {\"5\": 151, \"7\": 59, \"3\": 5, \"13\": 10, \"14\": 4, \"8\": 2, \"4\": 9}, \"15\": {\"15\": 240}, \"3\": {\"3\": 237, \"13\": 2, \"5\": 1}, \"12\": {\"12\": 240}, \"7\": {\"7\": 189, \"14\": 2, \"5\": 31, \"4\": 14, \"2\": 3, \"0\": 1}, \"13\": {\"13\": 209, \"14\": 1, \"3\": 7, \"4\": 10, \"5\": 9, \"8\": 2, \"7\": 2}, \"6\": {\"6\": 240}, \"4\": {\"2\": 38, \"4\": 196, \"7\": 3, \"5\": 2, \"13\": 1}, \"9\": {\"9\": 240}}, \"ORACLE.run1_26\": {\"4\": {\"4\": 212, \"7\": 5, \"0\": 5, \"14\": 9, \"8\": 8, \"10\": 1}, \"12\": {\"12\": 240}, \"10\": {\"14\": 13, \"10\": 127, \"8\": 30, \"0\": 62, \"6\": 3, \"4\": 3, \"9\": 2}, \"0\": {\"0\": 124, \"8\": 27, \"10\": 53, \"4\": 13, \"14\": 20, \"6\": 1, \"7\": 2}, \"13\": {\"5\": 32, \"13\": 205, \"9\": 1, \"15\": 2}, \"9\": {\"9\": 194, \"15\": 34, \"6\": 6, \"13\": 5, \"5\": 1}, \"3\": {\"3\": 203, \"2\": 31, \"7\": 6}, \"2\": {\"5\": 24, \"3\": 72, \"2\": 114, \"7\": 21, \"15\": 7, \"13\": 1, \"9\": 1}, \"5\": {\"5\": 213, \"2\": 6, \"13\": 20, \"9\": 1}, \"14\": {\"14\": 177, \"4\": 13, \"0\": 24, \"10\": 11, \"1\": 8, \"8\": 5, \"7\": 1, \"6\": 1}, \"8\": {\"8\": 159, \"7\": 12, \"0\": 20, \"10\": 20, \"4\": 18, \"14\": 8, \"15\": 3}, \"7\": {\"7\": 199, \"8\": 13, \"2\": 10, \"3\": 9, \"4\": 7, \"15\": 2}, \"6\": {\"6\": 220, \"15\": 12, \"10\": 3, \"9\": 5}, \"11\": {\"11\": 240}, \"15\": {\"6\": 10, \"15\": 186, \"9\": 30, \"13\": 3, \"10\": 4, \"8\": 4, \"0\": 1, \"5\": 1, \"2\": 1}, \"1\": {\"1\": 226, \"14\": 9, \"0\": 1, \"4\": 2, \"10\": 1, \"7\": 1}}, \"ORACLE.run1_44\": {\"12\": {\"12\": 229, \"1\": 11}, \"7\": {\"7\": 186, \"2\": 27, \"9\": 25, \"6\": 1, \"13\": 1}, \"5\": {\"5\": 218, \"14\": 4, \"0\": 10, \"8\": 5, \"15\": 3}, \"15\": {\"15\": 216, \"14\": 5, \"0\": 7, \"5\": 3, \"8\": 9}, \"8\": {\"0\": 107, \"8\": 124, \"15\": 7, \"5\": 2}, \"2\": {\"2\": 209, \"7\": 13, \"10\": 6, \"1\": 12}, \"13\": {\"13\": 170, \"6\": 38, \"9\": 29, \"7\": 1, \"11\": 2}, \"4\": {\"14\": 58, \"4\": 179, \"15\": 2, \"5\": 1}, \"0\": {\"0\": 161, \"8\": 74, \"5\": 2, \"15\": 3}, \"6\": {\"6\": 185, \"9\": 23, \"13\": 29, \"7\": 3}, \"9\": {\"13\": 26, \"7\": 43, \"9\": 160, \"6\": 10, \"2\": 1}, \"11\": {\"11\": 237, \"6\": 1, \"13\": 2}, \"10\": {\"10\": 204, \"1\": 21, \"12\": 6, \"2\": 7, \"7\": 2}, \"14\": {\"14\": 144, \"4\": 76, \"15\": 16, \"5\": 4}, \"1\": {\"2\": 16, \"1\": 182, \"3\": 10, \"10\": 11, \"12\": 21}, \"3\": {\"3\": 232, \"1\": 7, \"2\": 1}}}, \"per_domain_accuracy\": {\"ORACLE.run2_14\": {\"accuracy\": 0.9377604166666667, \"source?\": true}, \"ORACLE.run2_20\": {\"accuracy\": 0.90625, \"source?\": true}, \"ORACLE.run2_38\": {\"accuracy\": 0.8783854166666667, \"source?\": true}, \"ORACLE.run2_8\": {\"accuracy\": 0.9138020833333333, \"source?\": true}, \"ORACLE.run2_50\": {\"accuracy\": 0.9354166666666667, \"source?\": true}, \"ORACLE.run2_32\": {\"accuracy\": 0.9393229166666667, \"source?\": true}, \"ORACLE.run2_26\": {\"accuracy\": 0.8114583333333333, \"source?\": true}, \"ORACLE.run2_44\": {\"accuracy\": 0.8614583333333333, \"source?\": true}, \"ORACLE.run1_14\": {\"accuracy\": 0.9166666666666666, \"source?\": false}, \"ORACLE.run1_20\": {\"accuracy\": 0.921875, \"source?\": false}, \"ORACLE.run1_38\": {\"accuracy\": 0.9169270833333333, \"source?\": false}, \"ORACLE.run1_8\": {\"accuracy\": 0.9026041666666667, \"source?\": false}, \"ORACLE.run1_50\": {\"accuracy\": 0.9104166666666667, \"source?\": false}, \"ORACLE.run1_32\": {\"accuracy\": 0.9096354166666667, \"source?\": false}, \"ORACLE.run1_26\": {\"accuracy\": 0.79140625, \"source?\": false}, \"ORACLE.run1_44\": {\"accuracy\": 0.790625, \"source?\": false}}}, \"history\": {\"epoch_indices\": [1, 2, 3, 4, 5, 6, 7, 8, 9, 10, 11, 12, 13, 14, 15, 16, 17, 18], \"train_label_loss\": [0.9446681654080749, 1.2140199139891636, 0.6430056654072056, 0.5115116660416659, 0.43745154528546015, 0.394555211313335, 0.36382086525887386, 0.33908516219872537, 0.31441657021641733, 0.3024863769702192, 0.2830688511185664, 0.27140869077550067, 0.2631869220927391, 0.2601725430792569, 0.237006971468578, 0.22654708767070025, 0.21916174397850963, 0.20907463539208818], \"source_val_label_loss\": [137.57830810546875, 0.7218595743179321, 0.5975470542907715, 0.5114555954933167, 0.4398571848869324, 0.4194144606590271, 0.41474512219429016, 0.3900229036808014, 0.36714670062065125, 0.34514445066452026, 0.3165878355503082, 0.3409029543399811, 0.31877389550209045, 0.2907462418079376, 0.3189999461174011, 0.3451528549194336, 0.29747843742370605, 0.3120771646499634], \"target_val_label_loss\": [164.0718231201172, 0.6779401302337646, 0.5653281807899475, 0.5028127431869507, 0.43700122833251953, 0.42009320855140686, 0.4272371828556061, 0.40161368250846863, 0.3963751494884491, 0.3809944987297058, 0.3604426681995392, 0.39026856422424316, 0.35053420066833496, 0.33733069896698, 0.36264657974243164, 0.39219287037849426, 0.3420667052268982, 0.3601034879684448], \"source_val_acc_label\": [0.5472981770833333, 0.7621419270833333, 0.80087890625, 0.8241861979166667, 0.8477864583333333, 0.8544921875, 0.8506184895833333, 0.8608072916666667, 0.8706705729166667, 0.8763020833333334, 0.88701171875, 0.8775716145833333, 0.8889973958333334, 0.8979817708333333, 0.8901041666666667, 0.8785807291666666, 0.8972981770833334, 0.8916015625], \"target_val_acc_label\": [0.54990234375, 0.7654296875, 0.8061848958333333, 0.8228515625, 0.8462890625, 0.8538736979166667, 0.8487955729166666, 0.8548502604166667, 0.8623372395833333, 0.8650716145833334, 0.8755859375, 0.8654296875, 0.8754557291666667, 0.88251953125, 0.8763671875, 0.8654947916666667, 0.8841145833333334, 0.8764973958333333]}, \"dataset_metrics\": {\"source\": {\"train\": {\"n_unique_x\": 179200, \"n_unique_y\": 16, \"n_batch/episode\": 6720}, \"val\": {\"n_unique_x\": 38400, \"n_unique_y\": 16, \"n_batch/episode\": 960}, \"test\": {\"n_unique_x\": 38400, \"n_unique_y\": 16, \"n_batch/episode\": 960}}, \"target\": {\"train\": {\"n_unique_x\": 179200, \"n_unique_y\": 16, \"n_batch/episode\": 6720}, \"val\": {\"n_unique_x\": 38400, \"n_unique_y\": 16, \"n_batch/episode\": 960}, \"test\": {\"n_unique_x\": 38400, \"n_unique_y\": 16, \"n_batch/episode\": 960}}}}'"
      ]
     },
     "execution_count": 29,
     "metadata": {},
     "output_type": "execute_result"
    }
   ],
   "source": [
    "json.dumps(experiment)"
   ]
  }
 ],
 "metadata": {
  "celltoolbar": "Tags",
  "kernelspec": {
   "display_name": "Python 3 (ipykernel)",
   "language": "python",
   "name": "python3"
  },
  "language_info": {
   "codemirror_mode": {
    "name": "ipython",
    "version": 3
   },
   "file_extension": ".py",
   "mimetype": "text/x-python",
   "name": "python",
   "nbconvert_exporter": "python",
   "pygments_lexer": "ipython3",
   "version": "3.8.10"
  },
  "papermill": {
   "default_parameters": {},
   "duration": 3530.616635,
   "end_time": "2022-03-07T05:58:39.769799",
   "environment_variables": {},
   "exception": null,
   "input_path": "/mnt/wd500GB/CSC500/csc500-main/csc500-notebooks/templates/tl_ptn_template.ipynb",
   "output_path": "trial.ipynb",
   "parameters": {
    "parameters": {
     "BEST_MODEL_PATH": "./best_model.pth",
     "NUM_LOGS_PER_EPOCH": 10,
     "criteria_for_best": "target_loss",
     "dataset_seed": 1337,
     "datasets": [
      {
       "domain_prefix": "ORACLE.run1_",
       "domains": [
        32,
        38,
        8,
        44,
        14,
        50,
        20,
        26
       ],
       "episode_transforms": [],
       "labels": [
        "3123D52",
        "3123D65",
        "3123D79",
        "3123D80",
        "3123D54",
        "3123D70",
        "3123D7B",
        "3123D89",
        "3123D58",
        "3123D76",
        "3123D7D",
        "3123EFE",
        "3123D64",
        "3123D78",
        "3123D7E",
        "3124E4A"
       ],
       "num_examples_per_domain_per_label": 2000,
       "pickle_path": "/mnt/wd500GB/CSC500/csc500-main/datasets/oracle.Run1_framed_2000Examples_stratified_ds.2022A.pkl",
       "source_or_target_dataset": "target",
       "x_transforms": [
        "unit_mag"
       ]
      },
      {
       "domain_prefix": "ORACLE.run2_",
       "domains": [
        32,
        38,
        8,
        44,
        14,
        50,
        20,
        26
       ],
       "episode_transforms": [],
       "labels": [
        "3123D52",
        "3123D65",
        "3123D79",
        "3123D80",
        "3123D54",
        "3123D70",
        "3123D7B",
        "3123D89",
        "3123D58",
        "3123D76",
        "3123D7D",
        "3123EFE",
        "3123D64",
        "3123D78",
        "3123D7E",
        "3124E4A"
       ],
       "num_examples_per_domain_per_label": 2000,
       "pickle_path": "/mnt/wd500GB/CSC500/csc500-main/datasets/oracle.Run2_framed_2000Examples_stratified_ds.2022A.pkl",
       "source_or_target_dataset": "source",
       "x_transforms": [
        "unit_mag"
       ]
      }
     ],
     "device": "cuda",
     "experiment_name": "tl_1_oracle.run1-oracle.run2",
     "lr": 0.001,
     "n_epoch": 50,
     "n_query": 2,
     "n_shot": 3,
     "n_way": 16,
     "patience": 3,
     "seed": 1337,
     "test_k_factor": 2,
     "torch_default_dtype": "torch.float32",
     "train_k_factor": 3,
     "val_k_factor": 2,
     "x_net": [
      {
       "class": "nnReshape",
       "kargs": {
        "shape": [
         -1,
         1,
         2,
         256
        ]
       }
      },
      {
       "class": "Conv2d",
       "kargs": {
        "bias": false,
        "in_channels": 1,
        "kernel_size": [
         1,
         7
        ],
        "out_channels": 256,
        "padding": [
         0,
         3
        ]
       }
      },
      {
       "class": "ReLU",
       "kargs": {
        "inplace": true
       }
      },
      {
       "class": "BatchNorm2d",
       "kargs": {
        "num_features": 256
       }
      },
      {
       "class": "Conv2d",
       "kargs": {
        "bias": true,
        "in_channels": 256,
        "kernel_size": [
         2,
         7
        ],
        "out_channels": 80,
        "padding": [
         0,
         3
        ]
       }
      },
      {
       "class": "ReLU",
       "kargs": {
        "inplace": true
       }
      },
      {
       "class": "BatchNorm2d",
       "kargs": {
        "num_features": 80
       }
      },
      {
       "class": "Flatten",
       "kargs": {}
      },
      {
       "class": "Linear",
       "kargs": {
        "in_features": 20480,
        "out_features": 256
       }
      },
      {
       "class": "ReLU",
       "kargs": {
        "inplace": true
       }
      },
      {
       "class": "BatchNorm1d",
       "kargs": {
        "num_features": 256
       }
      },
      {
       "class": "Linear",
       "kargs": {
        "in_features": 256,
        "out_features": 256
       }
      }
     ]
    }
   },
   "start_time": "2022-03-07T04:59:49.153164",
   "version": "2.3.4"
  }
 },
 "nbformat": 4,
 "nbformat_minor": 5
}