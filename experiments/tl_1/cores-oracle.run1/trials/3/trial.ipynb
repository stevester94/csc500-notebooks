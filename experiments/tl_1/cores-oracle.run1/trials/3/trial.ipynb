{
 "cells": [
  {
   "cell_type": "markdown",
   "id": "9fea5f46",
   "metadata": {
    "papermill": {
     "duration": 0.018175,
     "end_time": "2022-03-13T19:41:45.706669",
     "exception": false,
     "start_time": "2022-03-13T19:41:45.688494",
     "status": "completed"
    },
    "tags": []
   },
   "source": [
    "# Transfer Learning Template"
   ]
  },
  {
   "cell_type": "code",
   "execution_count": 1,
   "id": "0902182a",
   "metadata": {
    "execution": {
     "iopub.execute_input": "2022-03-13T19:41:45.738524Z",
     "iopub.status.busy": "2022-03-13T19:41:45.738264Z",
     "iopub.status.idle": "2022-03-13T19:41:46.627699Z",
     "shell.execute_reply": "2022-03-13T19:41:46.627925Z"
    },
    "papermill": {
     "duration": 0.908872,
     "end_time": "2022-03-13T19:41:46.628045",
     "exception": false,
     "start_time": "2022-03-13T19:41:45.719173",
     "status": "completed"
    },
    "tags": []
   },
   "outputs": [],
   "source": [
    "%load_ext autoreload\n",
    "%autoreload 2\n",
    "%matplotlib inline\n",
    "\n",
    "    \n",
    "import os, json, sys, time, random\n",
    "import numpy as np\n",
    "import torch\n",
    "from torch.optim import Adam\n",
    "from  easydict import EasyDict\n",
    "import matplotlib.pyplot as plt\n",
    "\n",
    "from steves_models.steves_ptn import Steves_Prototypical_Network\n",
    "\n",
    "from steves_utils.lazy_iterable_wrapper import Lazy_Iterable_Wrapper\n",
    "from steves_utils.iterable_aggregator import Iterable_Aggregator\n",
    "from steves_utils.ptn_train_eval_test_jig import  PTN_Train_Eval_Test_Jig\n",
    "from steves_utils.torch_sequential_builder import build_sequential\n",
    "from steves_utils.torch_utils import get_dataset_metrics, ptn_confusion_by_domain_over_dataloader\n",
    "from steves_utils.utils_v2 import (per_domain_accuracy_from_confusion, get_datasets_base_path)\n",
    "from steves_utils.PTN.utils import independent_accuracy_assesment\n",
    "\n",
    "from torch.utils.data import DataLoader\n",
    "\n",
    "from steves_utils.stratified_dataset.episodic_accessor import Episodic_Accessor_Factory\n",
    "\n",
    "from steves_utils.ptn_do_report import (\n",
    "    get_loss_curve,\n",
    "    get_results_table,\n",
    "    get_parameters_table,\n",
    "    get_domain_accuracies,\n",
    ")\n",
    "\n",
    "from steves_utils.transforms import get_chained_transform"
   ]
  },
  {
   "cell_type": "markdown",
   "id": "41c840b4",
   "metadata": {
    "papermill": {
     "duration": 0.012442,
     "end_time": "2022-03-13T19:41:46.653438",
     "exception": false,
     "start_time": "2022-03-13T19:41:46.640996",
     "status": "completed"
    },
    "tags": []
   },
   "source": [
    "# Allowed Parameters\n",
    "These are allowed parameters, not defaults\n",
    "Each of these values need to be present in the injected parameters (the notebook will raise an exception if they are not present)\n",
    "\n",
    "Papermill uses the cell tag \"parameters\" to inject the real parameters below this cell.\n",
    "Enable tags to see what I mean"
   ]
  },
  {
   "cell_type": "code",
   "execution_count": 2,
   "id": "fd44eb83",
   "metadata": {
    "execution": {
     "iopub.execute_input": "2022-03-13T19:41:46.681164Z",
     "iopub.status.busy": "2022-03-13T19:41:46.680903Z",
     "iopub.status.idle": "2022-03-13T19:41:46.696818Z",
     "shell.execute_reply": "2022-03-13T19:41:46.696570Z"
    },
    "papermill": {
     "duration": 0.030796,
     "end_time": "2022-03-13T19:41:46.696866",
     "exception": false,
     "start_time": "2022-03-13T19:41:46.666070",
     "status": "completed"
    },
    "tags": []
   },
   "outputs": [],
   "source": [
    "required_parameters = {\n",
    "    \"experiment_name\",\n",
    "    \"lr\",\n",
    "    \"device\",\n",
    "    \"seed\",\n",
    "    \"dataset_seed\",\n",
    "    \"n_shot\",\n",
    "    \"n_query\",\n",
    "    \"n_way\",\n",
    "    \"train_k_factor\",\n",
    "    \"val_k_factor\",\n",
    "    \"test_k_factor\",\n",
    "    \"n_epoch\",\n",
    "    \"patience\",\n",
    "    \"criteria_for_best\",\n",
    "    \"x_net\",\n",
    "    \"datasets\",\n",
    "    \"torch_default_dtype\",\n",
    "    \"NUM_LOGS_PER_EPOCH\",\n",
    "    \"BEST_MODEL_PATH\",\n",
    "}"
   ]
  },
  {
   "cell_type": "code",
   "execution_count": 3,
   "id": "fa3f0049",
   "metadata": {
    "execution": {
     "iopub.execute_input": "2022-03-13T19:41:46.732914Z",
     "iopub.status.busy": "2022-03-13T19:41:46.731964Z",
     "iopub.status.idle": "2022-03-13T19:41:46.744041Z",
     "shell.execute_reply": "2022-03-13T19:41:46.743796Z"
    },
    "papermill": {
     "duration": 0.034684,
     "end_time": "2022-03-13T19:41:46.744089",
     "exception": false,
     "start_time": "2022-03-13T19:41:46.709405",
     "status": "completed"
    },
    "tags": [
     "parameters"
    ]
   },
   "outputs": [],
   "source": [
    "from steves_utils.CORES.utils import (\n",
    "    ALL_NODES,\n",
    "    ALL_NODES_MINIMUM_1000_EXAMPLES,\n",
    "    ALL_DAYS\n",
    ")\n",
    "\n",
    "from steves_utils.ORACLE.utils_v2 import (\n",
    "    ALL_DISTANCES_FEET_NARROWED,\n",
    "    ALL_RUNS,\n",
    "    ALL_SERIAL_NUMBERS,\n",
    ")\n",
    "\n",
    "standalone_parameters = {}\n",
    "standalone_parameters[\"experiment_name\"] = \"STANDALONE PTN\"\n",
    "standalone_parameters[\"lr\"] = 0.001\n",
    "standalone_parameters[\"device\"] = \"cuda\"\n",
    "\n",
    "standalone_parameters[\"seed\"] = 1337\n",
    "standalone_parameters[\"dataset_seed\"] = 1337\n",
    "\n",
    "standalone_parameters[\"n_way\"] = 8\n",
    "standalone_parameters[\"n_shot\"] = 3\n",
    "standalone_parameters[\"n_query\"]  = 2\n",
    "standalone_parameters[\"train_k_factor\"] = 1\n",
    "standalone_parameters[\"val_k_factor\"] = 2\n",
    "standalone_parameters[\"test_k_factor\"] = 2\n",
    "\n",
    "\n",
    "standalone_parameters[\"n_epoch\"] = 50\n",
    "\n",
    "standalone_parameters[\"patience\"] = 10\n",
    "standalone_parameters[\"criteria_for_best\"] = \"source_loss\"\n",
    "\n",
    "standalone_parameters[\"datasets\"] = [\n",
    "    {\n",
    "        \"labels\": ALL_SERIAL_NUMBERS,\n",
    "        \"domains\": ALL_DISTANCES_FEET_NARROWED,\n",
    "        \"num_examples_per_domain_per_label\": 100,\n",
    "        \"pickle_path\": os.path.join(get_datasets_base_path(), \"oracle.Run1_framed_2000Examples_stratified_ds.2022A.pkl\"),\n",
    "        \"source_or_target_dataset\": \"source\",\n",
    "        \"x_transforms\": [\"unit_mag\", \"minus_two\"],\n",
    "        \"episode_transforms\": [],\n",
    "        \"domain_prefix\": \"ORACLE_\"\n",
    "    },\n",
    "    {\n",
    "        \"labels\": ALL_NODES,\n",
    "        \"domains\": ALL_DAYS,\n",
    "        \"num_examples_per_domain_per_label\": 100,\n",
    "        \"pickle_path\": os.path.join(get_datasets_base_path(), \"cores.stratified_ds.2022A.pkl\"),\n",
    "        \"source_or_target_dataset\": \"target\",\n",
    "        \"x_transforms\": [\"unit_power\", \"times_zero\"],\n",
    "        \"episode_transforms\": [],\n",
    "        \"domain_prefix\": \"CORES_\"\n",
    "    }   \n",
    "]\n",
    "\n",
    "standalone_parameters[\"torch_default_dtype\"] = \"torch.float32\" \n",
    "\n",
    "\n",
    "\n",
    "standalone_parameters[\"x_net\"] =     [\n",
    "    {\"class\": \"nnReshape\", \"kargs\": {\"shape\":[-1, 1, 2, 256]}},\n",
    "    {\"class\": \"Conv2d\", \"kargs\": { \"in_channels\":1, \"out_channels\":256, \"kernel_size\":(1,7), \"bias\":False, \"padding\":(0,3), },},\n",
    "    {\"class\": \"ReLU\", \"kargs\": {\"inplace\": True}},\n",
    "    {\"class\": \"BatchNorm2d\", \"kargs\": {\"num_features\":256}},\n",
    "\n",
    "    {\"class\": \"Conv2d\", \"kargs\": { \"in_channels\":256, \"out_channels\":80, \"kernel_size\":(2,7), \"bias\":True, \"padding\":(0,3), },},\n",
    "    {\"class\": \"ReLU\", \"kargs\": {\"inplace\": True}},\n",
    "    {\"class\": \"BatchNorm2d\", \"kargs\": {\"num_features\":80}},\n",
    "    {\"class\": \"Flatten\", \"kargs\": {}},\n",
    "\n",
    "    {\"class\": \"Linear\", \"kargs\": {\"in_features\": 80*256, \"out_features\": 256}}, # 80 units per IQ pair\n",
    "    {\"class\": \"ReLU\", \"kargs\": {\"inplace\": True}},\n",
    "    {\"class\": \"BatchNorm1d\", \"kargs\": {\"num_features\":256}},\n",
    "\n",
    "    {\"class\": \"Linear\", \"kargs\": {\"in_features\": 256, \"out_features\": 256}},\n",
    "]\n",
    "\n",
    "# Parameters relevant to results\n",
    "# These parameters will basically never need to change\n",
    "standalone_parameters[\"NUM_LOGS_PER_EPOCH\"] = 10\n",
    "standalone_parameters[\"BEST_MODEL_PATH\"] = \"./best_model.pth\"\n",
    "\n",
    "\n",
    "\n",
    "\n"
   ]
  },
  {
   "cell_type": "code",
   "execution_count": 4,
   "id": "b102b98e",
   "metadata": {
    "execution": {
     "iopub.execute_input": "2022-03-13T19:41:46.780552Z",
     "iopub.status.busy": "2022-03-13T19:41:46.780139Z",
     "iopub.status.idle": "2022-03-13T19:41:46.791600Z",
     "shell.execute_reply": "2022-03-13T19:41:46.791148Z"
    },
    "papermill": {
     "duration": 0.035053,
     "end_time": "2022-03-13T19:41:46.791687",
     "exception": false,
     "start_time": "2022-03-13T19:41:46.756634",
     "status": "completed"
    },
    "tags": [
     "injected-parameters"
    ]
   },
   "outputs": [],
   "source": [
    "# Parameters\n",
    "parameters = {\n",
    "    \"experiment_name\": \"tl_1_cores-oracle.run1\",\n",
    "    \"device\": \"cuda\",\n",
    "    \"lr\": 0.001,\n",
    "    \"seed\": 1337,\n",
    "    \"dataset_seed\": 1337,\n",
    "    \"n_shot\": 3,\n",
    "    \"n_query\": 2,\n",
    "    \"train_k_factor\": 3,\n",
    "    \"val_k_factor\": 2,\n",
    "    \"test_k_factor\": 2,\n",
    "    \"torch_default_dtype\": \"torch.float32\",\n",
    "    \"n_epoch\": 50,\n",
    "    \"patience\": 3,\n",
    "    \"criteria_for_best\": \"target_loss\",\n",
    "    \"x_net\": [\n",
    "        {\"class\": \"nnReshape\", \"kargs\": {\"shape\": [-1, 1, 2, 256]}},\n",
    "        {\n",
    "            \"class\": \"Conv2d\",\n",
    "            \"kargs\": {\n",
    "                \"in_channels\": 1,\n",
    "                \"out_channels\": 256,\n",
    "                \"kernel_size\": [1, 7],\n",
    "                \"bias\": False,\n",
    "                \"padding\": [0, 3],\n",
    "            },\n",
    "        },\n",
    "        {\"class\": \"ReLU\", \"kargs\": {\"inplace\": True}},\n",
    "        {\"class\": \"BatchNorm2d\", \"kargs\": {\"num_features\": 256}},\n",
    "        {\n",
    "            \"class\": \"Conv2d\",\n",
    "            \"kargs\": {\n",
    "                \"in_channels\": 256,\n",
    "                \"out_channels\": 80,\n",
    "                \"kernel_size\": [2, 7],\n",
    "                \"bias\": True,\n",
    "                \"padding\": [0, 3],\n",
    "            },\n",
    "        },\n",
    "        {\"class\": \"ReLU\", \"kargs\": {\"inplace\": True}},\n",
    "        {\"class\": \"BatchNorm2d\", \"kargs\": {\"num_features\": 80}},\n",
    "        {\"class\": \"Flatten\", \"kargs\": {}},\n",
    "        {\"class\": \"Linear\", \"kargs\": {\"in_features\": 20480, \"out_features\": 256}},\n",
    "        {\"class\": \"ReLU\", \"kargs\": {\"inplace\": True}},\n",
    "        {\"class\": \"BatchNorm1d\", \"kargs\": {\"num_features\": 256}},\n",
    "        {\"class\": \"Linear\", \"kargs\": {\"in_features\": 256, \"out_features\": 256}},\n",
    "    ],\n",
    "    \"NUM_LOGS_PER_EPOCH\": 10,\n",
    "    \"BEST_MODEL_PATH\": \"./best_model.pth\",\n",
    "    \"n_way\": 16,\n",
    "    \"datasets\": [\n",
    "        {\n",
    "            \"labels\": [\n",
    "                \"1-10.\",\n",
    "                \"1-11.\",\n",
    "                \"1-15.\",\n",
    "                \"1-16.\",\n",
    "                \"1-17.\",\n",
    "                \"1-18.\",\n",
    "                \"1-19.\",\n",
    "                \"10-4.\",\n",
    "                \"10-7.\",\n",
    "                \"11-1.\",\n",
    "                \"11-14.\",\n",
    "                \"11-17.\",\n",
    "                \"11-20.\",\n",
    "                \"11-7.\",\n",
    "                \"13-20.\",\n",
    "                \"13-8.\",\n",
    "                \"14-10.\",\n",
    "                \"14-11.\",\n",
    "                \"14-14.\",\n",
    "                \"14-7.\",\n",
    "                \"15-1.\",\n",
    "                \"15-20.\",\n",
    "                \"16-1.\",\n",
    "                \"16-16.\",\n",
    "                \"17-10.\",\n",
    "                \"17-11.\",\n",
    "                \"17-2.\",\n",
    "                \"19-1.\",\n",
    "                \"19-16.\",\n",
    "                \"19-19.\",\n",
    "                \"19-20.\",\n",
    "                \"19-3.\",\n",
    "                \"2-10.\",\n",
    "                \"2-11.\",\n",
    "                \"2-17.\",\n",
    "                \"2-18.\",\n",
    "                \"2-20.\",\n",
    "                \"2-3.\",\n",
    "                \"2-4.\",\n",
    "                \"2-5.\",\n",
    "                \"2-6.\",\n",
    "                \"2-7.\",\n",
    "                \"2-8.\",\n",
    "                \"3-13.\",\n",
    "                \"3-18.\",\n",
    "                \"3-3.\",\n",
    "                \"4-1.\",\n",
    "                \"4-10.\",\n",
    "                \"4-11.\",\n",
    "                \"4-19.\",\n",
    "                \"5-5.\",\n",
    "                \"6-15.\",\n",
    "                \"7-10.\",\n",
    "                \"7-14.\",\n",
    "                \"8-18.\",\n",
    "                \"8-20.\",\n",
    "                \"8-3.\",\n",
    "                \"8-8.\",\n",
    "            ],\n",
    "            \"domains\": [1, 2, 3, 4, 5],\n",
    "            \"num_examples_per_domain_per_label\": 100,\n",
    "            \"pickle_path\": \"/mnt/wd500GB/CSC500/csc500-main/datasets/cores.stratified_ds.2022A.pkl\",\n",
    "            \"source_or_target_dataset\": \"target\",\n",
    "            \"x_transforms\": [\"unit_power\"],\n",
    "            \"episode_transforms\": [],\n",
    "            \"domain_prefix\": \"CORES_\",\n",
    "        },\n",
    "        {\n",
    "            \"labels\": [\n",
    "                \"3123D52\",\n",
    "                \"3123D65\",\n",
    "                \"3123D79\",\n",
    "                \"3123D80\",\n",
    "                \"3123D54\",\n",
    "                \"3123D70\",\n",
    "                \"3123D7B\",\n",
    "                \"3123D89\",\n",
    "                \"3123D58\",\n",
    "                \"3123D76\",\n",
    "                \"3123D7D\",\n",
    "                \"3123EFE\",\n",
    "                \"3123D64\",\n",
    "                \"3123D78\",\n",
    "                \"3123D7E\",\n",
    "                \"3124E4A\",\n",
    "            ],\n",
    "            \"domains\": [32, 38, 8, 44, 14, 50, 20, 26],\n",
    "            \"num_examples_per_domain_per_label\": 10000,\n",
    "            \"pickle_path\": \"/mnt/wd500GB/CSC500/csc500-main/datasets/oracle.Run1_10kExamples_stratified_ds.2022A.pkl\",\n",
    "            \"source_or_target_dataset\": \"source\",\n",
    "            \"x_transforms\": [\"unit_power\"],\n",
    "            \"episode_transforms\": [],\n",
    "            \"domain_prefix\": \"ORACLE.run1_\",\n",
    "        },\n",
    "    ],\n",
    "}\n"
   ]
  },
  {
   "cell_type": "code",
   "execution_count": 5,
   "id": "8fa1cc33",
   "metadata": {
    "execution": {
     "iopub.execute_input": "2022-03-13T19:41:46.832444Z",
     "iopub.status.busy": "2022-03-13T19:41:46.832089Z",
     "iopub.status.idle": "2022-03-13T19:41:46.840466Z",
     "shell.execute_reply": "2022-03-13T19:41:46.840022Z"
    },
    "papermill": {
     "duration": 0.030273,
     "end_time": "2022-03-13T19:41:46.840565",
     "exception": false,
     "start_time": "2022-03-13T19:41:46.810292",
     "status": "completed"
    },
    "tags": []
   },
   "outputs": [],
   "source": [
    "# Set this to True if you want to run this template directly\n",
    "STANDALONE = False\n",
    "if STANDALONE:\n",
    "    print(\"parameters not injected, running with standalone_parameters\")\n",
    "    parameters = standalone_parameters\n",
    "\n",
    "if not 'parameters' in locals() and not 'parameters' in globals():\n",
    "    raise Exception(\"Parameter injection failed\")\n",
    "\n",
    "#Use an easy dict for all the parameters\n",
    "p = EasyDict(parameters)\n",
    "\n",
    "supplied_keys = set(p.keys())\n",
    "\n",
    "if  supplied_keys != required_parameters:\n",
    "    print(\"Parameters are incorrect\")\n",
    "    if len(supplied_keys - required_parameters)>0: print(\"Shouldn't have:\", str(supplied_keys - required_parameters))\n",
    "    if len(required_parameters - supplied_keys)>0: print(\"Need to have:\", str(required_parameters - supplied_keys))\n",
    "    raise RuntimeError(\"Parameters are incorrect\")\n",
    "\n"
   ]
  },
  {
   "cell_type": "code",
   "execution_count": 6,
   "id": "3a028d58",
   "metadata": {
    "execution": {
     "iopub.execute_input": "2022-03-13T19:41:46.876694Z",
     "iopub.status.busy": "2022-03-13T19:41:46.876448Z",
     "iopub.status.idle": "2022-03-13T19:41:46.889855Z",
     "shell.execute_reply": "2022-03-13T19:41:46.889387Z"
    },
    "papermill": {
     "duration": 0.031214,
     "end_time": "2022-03-13T19:41:46.889954",
     "exception": false,
     "start_time": "2022-03-13T19:41:46.858740",
     "status": "completed"
    },
    "tags": []
   },
   "outputs": [],
   "source": [
    "###################################\n",
    "# Set the RNGs and make it all deterministic\n",
    "###################################\n",
    "np.random.seed(p.seed)\n",
    "random.seed(p.seed)\n",
    "torch.manual_seed(p.seed)\n",
    "\n",
    "torch.use_deterministic_algorithms(True) "
   ]
  },
  {
   "cell_type": "code",
   "execution_count": 7,
   "id": "b691acf6",
   "metadata": {
    "execution": {
     "iopub.execute_input": "2022-03-13T19:41:46.922799Z",
     "iopub.status.busy": "2022-03-13T19:41:46.922557Z",
     "iopub.status.idle": "2022-03-13T19:41:46.937072Z",
     "shell.execute_reply": "2022-03-13T19:41:46.936630Z"
    },
    "papermill": {
     "duration": 0.029602,
     "end_time": "2022-03-13T19:41:46.937159",
     "exception": false,
     "start_time": "2022-03-13T19:41:46.907557",
     "status": "completed"
    },
    "tags": []
   },
   "outputs": [],
   "source": [
    "###########################################\n",
    "# The stratified datasets honor this\n",
    "###########################################\n",
    "torch.set_default_dtype(eval(p.torch_default_dtype))"
   ]
  },
  {
   "cell_type": "code",
   "execution_count": 8,
   "id": "b5fba671",
   "metadata": {
    "execution": {
     "iopub.execute_input": "2022-03-13T19:41:46.978420Z",
     "iopub.status.busy": "2022-03-13T19:41:46.969919Z",
     "iopub.status.idle": "2022-03-13T19:41:47.009810Z",
     "shell.execute_reply": "2022-03-13T19:41:47.009371Z"
    },
    "papermill": {
     "duration": 0.05497,
     "end_time": "2022-03-13T19:41:47.009896",
     "exception": false,
     "start_time": "2022-03-13T19:41:46.954926",
     "status": "completed"
    },
    "tags": []
   },
   "outputs": [],
   "source": [
    "###################################\n",
    "# Build the network(s)\n",
    "# Note: It's critical to do this AFTER setting the RNG\n",
    "###################################\n",
    "x_net = build_sequential(p.x_net)"
   ]
  },
  {
   "cell_type": "code",
   "execution_count": 9,
   "id": "5d7e61cc",
   "metadata": {
    "execution": {
     "iopub.execute_input": "2022-03-13T19:41:47.052524Z",
     "iopub.status.busy": "2022-03-13T19:41:47.044529Z",
     "iopub.status.idle": "2022-03-13T19:41:47.059778Z",
     "shell.execute_reply": "2022-03-13T19:41:47.059358Z"
    },
    "papermill": {
     "duration": 0.030597,
     "end_time": "2022-03-13T19:41:47.059869",
     "exception": false,
     "start_time": "2022-03-13T19:41:47.029272",
     "status": "completed"
    },
    "tags": []
   },
   "outputs": [],
   "source": [
    "start_time_secs = time.time()"
   ]
  },
  {
   "cell_type": "code",
   "execution_count": 10,
   "id": "c6b67dfd",
   "metadata": {
    "execution": {
     "iopub.execute_input": "2022-03-13T19:41:47.103259Z",
     "iopub.status.busy": "2022-03-13T19:41:47.094274Z",
     "iopub.status.idle": "2022-03-13T19:41:47.108117Z",
     "shell.execute_reply": "2022-03-13T19:41:47.108415Z"
    },
    "papermill": {
     "duration": 0.029954,
     "end_time": "2022-03-13T19:41:47.108521",
     "exception": false,
     "start_time": "2022-03-13T19:41:47.078567",
     "status": "completed"
    },
    "tags": []
   },
   "outputs": [],
   "source": [
    "p.domains_source = []\n",
    "p.domains_target = []\n",
    "\n",
    "\n",
    "train_original_source = []\n",
    "val_original_source   = []\n",
    "test_original_source  = []\n",
    "\n",
    "train_original_target = []\n",
    "val_original_target   = []\n",
    "test_original_target  = []"
   ]
  },
  {
   "cell_type": "code",
   "execution_count": 11,
   "id": "e3d9c3d3",
   "metadata": {
    "execution": {
     "iopub.execute_input": "2022-03-13T19:41:47.147912Z",
     "iopub.status.busy": "2022-03-13T19:41:47.141758Z",
     "iopub.status.idle": "2022-03-13T19:41:47.156102Z",
     "shell.execute_reply": "2022-03-13T19:41:47.155657Z"
    },
    "papermill": {
     "duration": 0.02931,
     "end_time": "2022-03-13T19:41:47.156201",
     "exception": false,
     "start_time": "2022-03-13T19:41:47.126891",
     "status": "completed"
    },
    "tags": []
   },
   "outputs": [],
   "source": [
    "# global_x_transform_func = lambda x: normalize(x.to(torch.get_default_dtype()), \"unit_power\") # unit_power, unit_mag\n",
    "# global_x_transform_func = lambda x: normalize(x, \"unit_power\") # unit_power, unit_mag"
   ]
  },
  {
   "cell_type": "code",
   "execution_count": 12,
   "id": "acb78fd2",
   "metadata": {
    "execution": {
     "iopub.execute_input": "2022-03-13T19:41:47.196991Z",
     "iopub.status.busy": "2022-03-13T19:41:47.194158Z",
     "iopub.status.idle": "2022-03-13T19:41:47.206380Z",
     "shell.execute_reply": "2022-03-13T19:41:47.205973Z"
    },
    "papermill": {
     "duration": 0.032967,
     "end_time": "2022-03-13T19:41:47.206467",
     "exception": false,
     "start_time": "2022-03-13T19:41:47.173500",
     "status": "completed"
    },
    "tags": []
   },
   "outputs": [],
   "source": [
    "def add_dataset(\n",
    "    labels,\n",
    "    domains,\n",
    "    pickle_path,\n",
    "    x_transforms,\n",
    "    episode_transforms,\n",
    "    domain_prefix,\n",
    "    num_examples_per_domain_per_label,\n",
    "    source_or_target_dataset:str,\n",
    "    iterator_seed=p.seed,\n",
    "    dataset_seed=p.dataset_seed,\n",
    "    n_shot=p.n_shot,\n",
    "    n_way=p.n_way,\n",
    "    n_query=p.n_query,\n",
    "    train_val_test_k_factors=(p.train_k_factor,p.val_k_factor,p.test_k_factor),\n",
    "):\n",
    "   \n",
    "    if x_transforms == []: x_transform = None\n",
    "    else: x_transform = get_chained_transform(x_transforms)\n",
    "    \n",
    "    if episode_transforms == []: episode_transform = None\n",
    "    else: raise Exception(\"episode_transforms not implemented\")\n",
    "    \n",
    "    episode_transform = lambda tup, _prefix=domain_prefix: (_prefix + str(tup[0]), tup[1])\n",
    "\n",
    "\n",
    "    eaf = Episodic_Accessor_Factory(\n",
    "        labels=labels,\n",
    "        domains=domains,\n",
    "        num_examples_per_domain_per_label=num_examples_per_domain_per_label,\n",
    "        iterator_seed=iterator_seed,\n",
    "        dataset_seed=dataset_seed,\n",
    "        n_shot=n_shot,\n",
    "        n_way=n_way,\n",
    "        n_query=n_query,\n",
    "        train_val_test_k_factors=train_val_test_k_factors,\n",
    "        pickle_path=pickle_path,\n",
    "        x_transform_func=x_transform,\n",
    "    )\n",
    "\n",
    "    train, val, test = eaf.get_train(), eaf.get_val(), eaf.get_test()\n",
    "    train = Lazy_Iterable_Wrapper(train, episode_transform)\n",
    "    val = Lazy_Iterable_Wrapper(val, episode_transform)\n",
    "    test = Lazy_Iterable_Wrapper(test, episode_transform)\n",
    "\n",
    "    if source_or_target_dataset==\"source\":\n",
    "        train_original_source.append(train)\n",
    "        val_original_source.append(val)\n",
    "        test_original_source.append(test)\n",
    "\n",
    "        p.domains_source.extend(\n",
    "            [domain_prefix + str(u) for u in domains]\n",
    "        )\n",
    "    elif source_or_target_dataset==\"target\":\n",
    "        train_original_target.append(train)\n",
    "        val_original_target.append(val)\n",
    "        test_original_target.append(test)\n",
    "        p.domains_target.extend(\n",
    "            [domain_prefix + str(u) for u in domains]\n",
    "        )\n",
    "    else:\n",
    "        raise Exception(f\"invalid source_or_target_dataset: {source_or_target_dataset}\")\n",
    "    "
   ]
  },
  {
   "cell_type": "code",
   "execution_count": 13,
   "id": "fe266617",
   "metadata": {
    "execution": {
     "iopub.execute_input": "2022-03-13T19:41:47.253319Z",
     "iopub.status.busy": "2022-03-13T19:41:47.240966Z",
     "iopub.status.idle": "2022-03-13T19:43:07.896232Z",
     "shell.execute_reply": "2022-03-13T19:43:07.895779Z"
    },
    "papermill": {
     "duration": 80.670334,
     "end_time": "2022-03-13T19:43:07.896334",
     "exception": false,
     "start_time": "2022-03-13T19:41:47.226000",
     "status": "completed"
    },
    "tags": []
   },
   "outputs": [],
   "source": [
    "for ds in p.datasets:\n",
    "    add_dataset(**ds)"
   ]
  },
  {
   "cell_type": "code",
   "execution_count": 14,
   "id": "b90d65ac",
   "metadata": {
    "execution": {
     "iopub.execute_input": "2022-03-13T19:43:07.931229Z",
     "iopub.status.busy": "2022-03-13T19:43:07.930969Z",
     "iopub.status.idle": "2022-03-13T19:43:07.946176Z",
     "shell.execute_reply": "2022-03-13T19:43:07.945788Z"
    },
    "papermill": {
     "duration": 0.030905,
     "end_time": "2022-03-13T19:43:07.946264",
     "exception": false,
     "start_time": "2022-03-13T19:43:07.915359",
     "status": "completed"
    },
    "tags": []
   },
   "outputs": [],
   "source": [
    "# from steves_utils.CORES.utils import (\n",
    "#     ALL_NODES,\n",
    "#     ALL_NODES_MINIMUM_1000_EXAMPLES,\n",
    "#     ALL_DAYS\n",
    "# )\n",
    "\n",
    "# add_dataset(\n",
    "#     labels=ALL_NODES,\n",
    "#     domains = ALL_DAYS,\n",
    "#     num_examples_per_domain_per_label=100,\n",
    "#     pickle_path=os.path.join(get_datasets_base_path(), \"cores.stratified_ds.2022A.pkl\"),\n",
    "#     source_or_target_dataset=\"target\",\n",
    "#     x_transform_func=global_x_transform_func,\n",
    "#     domain_modifier=lambda u: f\"cores_{u}\"\n",
    "# )"
   ]
  },
  {
   "cell_type": "code",
   "execution_count": 15,
   "id": "76db484d",
   "metadata": {
    "execution": {
     "iopub.execute_input": "2022-03-13T19:43:07.980333Z",
     "iopub.status.busy": "2022-03-13T19:43:07.980078Z",
     "iopub.status.idle": "2022-03-13T19:43:07.991259Z",
     "shell.execute_reply": "2022-03-13T19:43:07.991046Z"
    },
    "papermill": {
     "duration": 0.026396,
     "end_time": "2022-03-13T19:43:07.991312",
     "exception": false,
     "start_time": "2022-03-13T19:43:07.964916",
     "status": "completed"
    },
    "tags": []
   },
   "outputs": [],
   "source": [
    "# from steves_utils.ORACLE.utils_v2 import (\n",
    "#     ALL_DISTANCES_FEET,\n",
    "#     ALL_RUNS,\n",
    "#     ALL_SERIAL_NUMBERS,\n",
    "# )\n",
    "\n",
    "\n",
    "# add_dataset(\n",
    "#     labels=ALL_SERIAL_NUMBERS,\n",
    "#     domains = list(set(ALL_DISTANCES_FEET) - {2,62}),\n",
    "#     num_examples_per_domain_per_label=100,\n",
    "#     pickle_path=os.path.join(get_datasets_base_path(), \"oracle.Run2_framed_2000Examples_stratified_ds.2022A.pkl\"),\n",
    "#     source_or_target_dataset=\"source\",\n",
    "#     x_transform_func=global_x_transform_func,\n",
    "#     domain_modifier=lambda u: f\"oracle1_{u}\"\n",
    "# )\n"
   ]
  },
  {
   "cell_type": "code",
   "execution_count": 16,
   "id": "97dea9d2",
   "metadata": {
    "execution": {
     "iopub.execute_input": "2022-03-13T19:43:08.032836Z",
     "iopub.status.busy": "2022-03-13T19:43:08.025647Z",
     "iopub.status.idle": "2022-03-13T19:43:08.040381Z",
     "shell.execute_reply": "2022-03-13T19:43:08.039804Z"
    },
    "papermill": {
     "duration": 0.030161,
     "end_time": "2022-03-13T19:43:08.040476",
     "exception": false,
     "start_time": "2022-03-13T19:43:08.010315",
     "status": "completed"
    },
    "tags": []
   },
   "outputs": [],
   "source": [
    "# from steves_utils.ORACLE.utils_v2 import (\n",
    "#     ALL_DISTANCES_FEET,\n",
    "#     ALL_RUNS,\n",
    "#     ALL_SERIAL_NUMBERS,\n",
    "# )\n",
    "\n",
    "\n",
    "# add_dataset(\n",
    "#     labels=ALL_SERIAL_NUMBERS,\n",
    "#     domains = list(set(ALL_DISTANCES_FEET) - {2,62,56}),\n",
    "#     num_examples_per_domain_per_label=100,\n",
    "#     pickle_path=os.path.join(get_datasets_base_path(), \"oracle.Run2_framed_2000Examples_stratified_ds.2022A.pkl\"),\n",
    "#     source_or_target_dataset=\"source\",\n",
    "#     x_transform_func=global_x_transform_func,\n",
    "#     domain_modifier=lambda u: f\"oracle2_{u}\"\n",
    "# )"
   ]
  },
  {
   "cell_type": "code",
   "execution_count": 17,
   "id": "6f289866",
   "metadata": {
    "execution": {
     "iopub.execute_input": "2022-03-13T19:43:08.083011Z",
     "iopub.status.busy": "2022-03-13T19:43:08.075462Z",
     "iopub.status.idle": "2022-03-13T19:43:08.089712Z",
     "shell.execute_reply": "2022-03-13T19:43:08.089251Z"
    },
    "papermill": {
     "duration": 0.029973,
     "end_time": "2022-03-13T19:43:08.089818",
     "exception": false,
     "start_time": "2022-03-13T19:43:08.059845",
     "status": "completed"
    },
    "tags": []
   },
   "outputs": [],
   "source": [
    "# add_dataset(\n",
    "#     labels=list(range(19)),\n",
    "#     domains = [0,1,2],\n",
    "#     num_examples_per_domain_per_label=100,\n",
    "#     pickle_path=os.path.join(get_datasets_base_path(), \"metehan.stratified_ds.2022A.pkl\"),\n",
    "#     source_or_target_dataset=\"target\",\n",
    "#     x_transform_func=global_x_transform_func,\n",
    "#     domain_modifier=lambda u: f\"met_{u}\"\n",
    "# )"
   ]
  },
  {
   "cell_type": "code",
   "execution_count": 18,
   "id": "86a863c3",
   "metadata": {
    "execution": {
     "iopub.execute_input": "2022-03-13T19:43:08.127744Z",
     "iopub.status.busy": "2022-03-13T19:43:08.124374Z",
     "iopub.status.idle": "2022-03-13T19:43:08.135601Z",
     "shell.execute_reply": "2022-03-13T19:43:08.135803Z"
    },
    "papermill": {
     "duration": 0.02682,
     "end_time": "2022-03-13T19:43:08.135859",
     "exception": false,
     "start_time": "2022-03-13T19:43:08.109039",
     "status": "completed"
    },
    "tags": []
   },
   "outputs": [],
   "source": [
    "# # from steves_utils.wisig.utils import (\n",
    "# #     ALL_NODES_MINIMUM_100_EXAMPLES,\n",
    "# #     ALL_NODES_MINIMUM_500_EXAMPLES,\n",
    "# #     ALL_NODES_MINIMUM_1000_EXAMPLES,\n",
    "# #     ALL_DAYS\n",
    "# # )\n",
    "\n",
    "# import steves_utils.wisig.utils as wisig\n",
    "\n",
    "\n",
    "# add_dataset(\n",
    "#     labels=wisig.ALL_NODES_MINIMUM_100_EXAMPLES,\n",
    "#     domains = wisig.ALL_DAYS,\n",
    "#     num_examples_per_domain_per_label=100,\n",
    "#     pickle_path=os.path.join(get_datasets_base_path(), \"wisig.node3-19.stratified_ds.2022A.pkl\"),\n",
    "#     source_or_target_dataset=\"target\",\n",
    "#     x_transform_func=global_x_transform_func,\n",
    "#     domain_modifier=lambda u: f\"wisig_{u}\"\n",
    "# )"
   ]
  },
  {
   "cell_type": "code",
   "execution_count": 19,
   "id": "fd5442bc",
   "metadata": {
    "execution": {
     "iopub.execute_input": "2022-03-13T19:43:08.165737Z",
     "iopub.status.busy": "2022-03-13T19:43:08.165483Z",
     "iopub.status.idle": "2022-03-13T19:43:08.175936Z",
     "shell.execute_reply": "2022-03-13T19:43:08.175690Z"
    },
    "papermill": {
     "duration": 0.026696,
     "end_time": "2022-03-13T19:43:08.175984",
     "exception": false,
     "start_time": "2022-03-13T19:43:08.149288",
     "status": "completed"
    },
    "tags": []
   },
   "outputs": [],
   "source": [
    "###################################\n",
    "# Build the dataset\n",
    "###################################\n",
    "train_original_source = Iterable_Aggregator(train_original_source, p.seed)\n",
    "val_original_source = Iterable_Aggregator(val_original_source, p.seed)\n",
    "test_original_source = Iterable_Aggregator(test_original_source, p.seed)\n",
    "\n",
    "\n",
    "train_original_target = Iterable_Aggregator(train_original_target, p.seed)\n",
    "val_original_target = Iterable_Aggregator(val_original_target, p.seed)\n",
    "test_original_target = Iterable_Aggregator(test_original_target, p.seed)\n",
    "\n",
    "# For CNN We only use X and Y. And we only train on the source.\n",
    "# Properly form the data using a transform lambda and Lazy_Iterable_Wrapper. Finally wrap them in a dataloader\n",
    "\n",
    "transform_lambda = lambda ex: ex[1] # Original is (<domain>, <episode>) so we strip down to episode only\n",
    "\n",
    "train_processed_source = Lazy_Iterable_Wrapper(train_original_source, transform_lambda)\n",
    "val_processed_source   = Lazy_Iterable_Wrapper(val_original_source, transform_lambda)\n",
    "test_processed_source  = Lazy_Iterable_Wrapper(test_original_source, transform_lambda)\n",
    "\n",
    "train_processed_target = Lazy_Iterable_Wrapper(train_original_target, transform_lambda)\n",
    "val_processed_target   = Lazy_Iterable_Wrapper(val_original_target, transform_lambda)\n",
    "test_processed_target  = Lazy_Iterable_Wrapper(test_original_target, transform_lambda)\n",
    "\n",
    "datasets = EasyDict({\n",
    "    \"source\": {\n",
    "        \"original\": {\"train\":train_original_source, \"val\":val_original_source, \"test\":test_original_source},\n",
    "        \"processed\": {\"train\":train_processed_source, \"val\":val_processed_source, \"test\":test_processed_source}\n",
    "    },\n",
    "    \"target\": {\n",
    "        \"original\": {\"train\":train_original_target, \"val\":val_original_target, \"test\":test_original_target},\n",
    "        \"processed\": {\"train\":train_processed_target, \"val\":val_processed_target, \"test\":test_processed_target}\n",
    "    },\n",
    "})"
   ]
  },
  {
   "cell_type": "code",
   "execution_count": 20,
   "id": "5b3c01fc",
   "metadata": {
    "execution": {
     "iopub.execute_input": "2022-03-13T19:43:08.205402Z",
     "iopub.status.busy": "2022-03-13T19:43:08.205151Z",
     "iopub.status.idle": "2022-03-13T19:43:21.718790Z",
     "shell.execute_reply": "2022-03-13T19:43:21.719255Z"
    },
    "papermill": {
     "duration": 13.529743,
     "end_time": "2022-03-13T19:43:21.719370",
     "exception": false,
     "start_time": "2022-03-13T19:43:08.189627",
     "status": "completed"
    },
    "tags": []
   },
   "outputs": [
    {
     "name": "stdout",
     "output_type": "stream",
     "text": [
      "{'ORACLE.run1_20', 'ORACLE.run1_38', 'ORACLE.run1_14', 'ORACLE.run1_26', 'ORACLE.run1_32', 'ORACLE.run1_44', 'ORACLE.run1_50', 'ORACLE.run1_8'}\n"
     ]
    },
    {
     "name": "stdout",
     "output_type": "stream",
     "text": [
      "{'CORES_2', 'CORES_3', 'CORES_1', 'CORES_5', 'CORES_4'}\n"
     ]
    },
    {
     "name": "stdout",
     "output_type": "stream",
     "text": [
      "tensor([[[-0.0194, -0.3495,  0.3592,  ..., -0.3301, -0.2816,  0.5631],\n",
      "         [-0.5922,  0.2330, -0.1262,  ...,  0.0680, -0.9709,  0.1359]],\n",
      "\n",
      "        [[ 0.4488, -0.7145, -1.3832,  ...,  0.4397,  0.0550, -0.3114],\n",
      "         [-0.1374, -0.4030, -1.4290,  ..., -0.4672,  0.3023, -0.5130]],\n",
      "\n",
      "        [[-0.8545, -0.4502,  0.1011,  ...,  0.1194,  1.3966,  1.0750],\n",
      "         [-0.1930,  0.3308, -0.3675,  ..., -1.4793,  0.0000, -0.0276]],\n",
      "\n",
      "        ...,\n",
      "\n",
      "        [[-0.0124,  0.6262, -0.0744,  ..., -0.8432, -1.3578,  0.8742],\n",
      "         [ 1.1904, -0.8556, -0.5270,  ..., -0.1364,  0.2046, -0.9238]],\n",
      "\n",
      "        [[-0.8808, -1.3658, -1.6402,  ..., -0.8488,  0.5489,  0.1979],\n",
      "         [ 1.1297,  0.0319,  1.1297,  ..., -0.3191,  0.7340, -0.1915]],\n",
      "\n",
      "        [[ 1.2980, -0.6931, -0.5860,  ..., -0.7876, -0.3907, -0.0063],\n",
      "         [-0.4600,  0.9704,  0.0063,  ...,  1.4997,  0.2205,  1.0460]]])\n"
     ]
    }
   ],
   "source": [
    "from steves_utils.transforms import get_average_magnitude, get_average_power\n",
    "\n",
    "print(set([u for u,_ in val_original_source]))\n",
    "print(set([u for u,_ in val_original_target]))\n",
    "\n",
    "s_x, s_y, q_x, q_y, _ = next(iter(train_processed_source))\n",
    "print(s_x)\n",
    "\n",
    "# for ds in [\n",
    "#     train_processed_source,\n",
    "#     val_processed_source,\n",
    "#     test_processed_source,\n",
    "#     train_processed_target,\n",
    "#     val_processed_target,\n",
    "#     test_processed_target\n",
    "# ]:\n",
    "#     for s_x, s_y, q_x, q_y, _ in ds:\n",
    "#         for X in (s_x, q_x):\n",
    "#             for x in X:\n",
    "#                 assert np.isclose(get_average_magnitude(x.numpy()), 1.0)\n",
    "#                 assert np.isclose(get_average_power(x.numpy()), 1.0)\n",
    "                "
   ]
  },
  {
   "cell_type": "code",
   "execution_count": 21,
   "id": "bbdacba1",
   "metadata": {
    "execution": {
     "iopub.execute_input": "2022-03-13T19:43:21.756976Z",
     "iopub.status.busy": "2022-03-13T19:43:21.756728Z",
     "iopub.status.idle": "2022-03-13T19:43:21.811025Z",
     "shell.execute_reply": "2022-03-13T19:43:21.811315Z"
    },
    "papermill": {
     "duration": 0.071439,
     "end_time": "2022-03-13T19:43:21.811402",
     "exception": false,
     "start_time": "2022-03-13T19:43:21.739963",
     "status": "completed"
    },
    "tags": []
   },
   "outputs": [
    {
     "name": "stdout",
     "output_type": "stream",
     "text": [
      "(2, 256)\n"
     ]
    }
   ],
   "source": [
    "###################################\n",
    "# Build the model\n",
    "###################################\n",
    "model = Steves_Prototypical_Network(x_net, device=p.device, x_shape=(2,256))\n",
    "optimizer = Adam(params=model.parameters(), lr=p.lr)"
   ]
  },
  {
   "cell_type": "code",
   "execution_count": 22,
   "id": "22b39ac5",
   "metadata": {
    "execution": {
     "iopub.execute_input": "2022-03-13T19:43:21.846470Z",
     "iopub.status.busy": "2022-03-13T19:43:21.846225Z",
     "iopub.status.idle": "2022-03-13T22:27:54.084207Z",
     "shell.execute_reply": "2022-03-13T22:27:54.083978Z"
    },
    "papermill": {
     "duration": 9872.255746,
     "end_time": "2022-03-13T22:27:54.084265",
     "exception": false,
     "start_time": "2022-03-13T19:43:21.828519",
     "status": "completed"
    },
    "tags": []
   },
   "outputs": [
    {
     "name": "stdout",
     "output_type": "stream",
     "text": [
      "epoch: 1, [batch: 1 / 33600], examples_per_second: 9.9643, train_label_loss: 2.8207, \n"
     ]
    },
    {
     "name": "stdout",
     "output_type": "stream",
     "text": [
      "epoch: 1, [batch: 3360 / 33600], examples_per_second: 3154.9198, train_label_loss: 0.9020, \n"
     ]
    },
    {
     "name": "stdout",
     "output_type": "stream",
     "text": [
      "epoch: 1, [batch: 6720 / 33600], examples_per_second: 3152.9345, train_label_loss: 1.7548, \n"
     ]
    },
    {
     "name": "stdout",
     "output_type": "stream",
     "text": [
      "epoch: 1, [batch: 10080 / 33600], examples_per_second: 3145.7307, train_label_loss: 0.7537, \n"
     ]
    },
    {
     "name": "stdout",
     "output_type": "stream",
     "text": [
      "epoch: 1, [batch: 13440 / 33600], examples_per_second: 3139.1642, train_label_loss: 0.8750, \n"
     ]
    },
    {
     "name": "stdout",
     "output_type": "stream",
     "text": [
      "epoch: 1, [batch: 16800 / 33600], examples_per_second: 3141.2927, train_label_loss: 0.8404, \n"
     ]
    },
    {
     "name": "stdout",
     "output_type": "stream",
     "text": [
      "epoch: 1, [batch: 20160 / 33600], examples_per_second: 3150.5266, train_label_loss: 0.6710, \n"
     ]
    },
    {
     "name": "stdout",
     "output_type": "stream",
     "text": [
      "epoch: 1, [batch: 23520 / 33600], examples_per_second: 3141.0286, train_label_loss: 0.6100, \n"
     ]
    },
    {
     "name": "stdout",
     "output_type": "stream",
     "text": [
      "epoch: 1, [batch: 26880 / 33600], examples_per_second: 3149.6616, train_label_loss: 0.7537, \n"
     ]
    },
    {
     "name": "stdout",
     "output_type": "stream",
     "text": [
      "epoch: 1, [batch: 30240 / 33600], examples_per_second: 3143.2562, train_label_loss: 1.1139, \n"
     ]
    },
    {
     "name": "stdout",
     "output_type": "stream",
     "text": [
      "=============================================================\n",
      "epoch: 1, source_val_acc_label: 0.6216, target_val_acc_label: 0.6566, source_val_label_loss: 38.2709, target_val_label_loss: 415.1821, \n",
      "=============================================================\n"
     ]
    },
    {
     "name": "stdout",
     "output_type": "stream",
     "text": [
      "New best\n"
     ]
    },
    {
     "name": "stdout",
     "output_type": "stream",
     "text": [
      "epoch: 2, [batch: 1 / 33600], examples_per_second: 1.1787, train_label_loss: 68.3596, \n"
     ]
    },
    {
     "name": "stdout",
     "output_type": "stream",
     "text": [
      "epoch: 2, [batch: 3360 / 33600], examples_per_second: 3169.1000, train_label_loss: 0.7270, \n"
     ]
    },
    {
     "name": "stdout",
     "output_type": "stream",
     "text": [
      "epoch: 2, [batch: 6720 / 33600], examples_per_second: 3187.3946, train_label_loss: 1.1783, \n"
     ]
    },
    {
     "name": "stdout",
     "output_type": "stream",
     "text": [
      "epoch: 2, [batch: 10080 / 33600], examples_per_second: 3178.7341, train_label_loss: 0.4736, \n"
     ]
    },
    {
     "name": "stdout",
     "output_type": "stream",
     "text": [
      "epoch: 2, [batch: 13440 / 33600], examples_per_second: 3170.1718, train_label_loss: 0.6046, \n"
     ]
    },
    {
     "name": "stdout",
     "output_type": "stream",
     "text": [
      "epoch: 2, [batch: 16800 / 33600], examples_per_second: 3183.2365, train_label_loss: 1.2934, \n"
     ]
    },
    {
     "name": "stdout",
     "output_type": "stream",
     "text": [
      "epoch: 2, [batch: 20160 / 33600], examples_per_second: 3186.8398, train_label_loss: 1.2036, \n"
     ]
    },
    {
     "name": "stdout",
     "output_type": "stream",
     "text": [
      "epoch: 2, [batch: 23520 / 33600], examples_per_second: 3172.0149, train_label_loss: 0.4483, \n"
     ]
    },
    {
     "name": "stdout",
     "output_type": "stream",
     "text": [
      "epoch: 2, [batch: 26880 / 33600], examples_per_second: 3182.8506, train_label_loss: 0.3051, \n"
     ]
    },
    {
     "name": "stdout",
     "output_type": "stream",
     "text": [
      "epoch: 2, [batch: 30240 / 33600], examples_per_second: 3180.5589, train_label_loss: 0.9233, \n"
     ]
    },
    {
     "name": "stdout",
     "output_type": "stream",
     "text": [
      "=============================================================\n",
      "epoch: 2, source_val_acc_label: 0.6966, target_val_acc_label: 0.8938, source_val_label_loss: 0.8193, target_val_label_loss: 22.8039, \n",
      "=============================================================\n"
     ]
    },
    {
     "name": "stdout",
     "output_type": "stream",
     "text": [
      "New best\n"
     ]
    },
    {
     "name": "stdout",
     "output_type": "stream",
     "text": [
      "epoch: 3, [batch: 1 / 33600], examples_per_second: 1.1899, train_label_loss: 0.4583, \n"
     ]
    },
    {
     "name": "stdout",
     "output_type": "stream",
     "text": [
      "epoch: 3, [batch: 3360 / 33600], examples_per_second: 3165.1576, train_label_loss: 0.6029, \n"
     ]
    },
    {
     "name": "stdout",
     "output_type": "stream",
     "text": [
      "epoch: 3, [batch: 6720 / 33600], examples_per_second: 3178.4961, train_label_loss: 0.5682, \n"
     ]
    },
    {
     "name": "stdout",
     "output_type": "stream",
     "text": [
      "epoch: 3, [batch: 10080 / 33600], examples_per_second: 3184.9663, train_label_loss: 0.5556, \n"
     ]
    },
    {
     "name": "stdout",
     "output_type": "stream",
     "text": [
      "epoch: 3, [batch: 13440 / 33600], examples_per_second: 3169.5834, train_label_loss: 0.4691, \n"
     ]
    },
    {
     "name": "stdout",
     "output_type": "stream",
     "text": [
      "epoch: 3, [batch: 16800 / 33600], examples_per_second: 3175.7889, train_label_loss: 0.9782, \n"
     ]
    },
    {
     "name": "stdout",
     "output_type": "stream",
     "text": [
      "epoch: 3, [batch: 20160 / 33600], examples_per_second: 3179.0951, train_label_loss: 1.1638, \n"
     ]
    },
    {
     "name": "stdout",
     "output_type": "stream",
     "text": [
      "epoch: 3, [batch: 23520 / 33600], examples_per_second: 3166.7920, train_label_loss: 0.8473, \n"
     ]
    },
    {
     "name": "stdout",
     "output_type": "stream",
     "text": [
      "epoch: 3, [batch: 26880 / 33600], examples_per_second: 3177.5541, train_label_loss: 0.2871, \n"
     ]
    },
    {
     "name": "stdout",
     "output_type": "stream",
     "text": [
      "epoch: 3, [batch: 30240 / 33600], examples_per_second: 3180.1891, train_label_loss: 0.7365, \n"
     ]
    },
    {
     "name": "stdout",
     "output_type": "stream",
     "text": [
      "=============================================================\n",
      "epoch: 3, source_val_acc_label: 0.7301, target_val_acc_label: 0.9384, source_val_label_loss: 0.7306, target_val_label_loss: 16.2054, \n",
      "=============================================================\n"
     ]
    },
    {
     "name": "stdout",
     "output_type": "stream",
     "text": [
      "New best\n"
     ]
    },
    {
     "name": "stdout",
     "output_type": "stream",
     "text": [
      "epoch: 4, [batch: 1 / 33600], examples_per_second: 1.1885, train_label_loss: 0.4856, \n"
     ]
    },
    {
     "name": "stdout",
     "output_type": "stream",
     "text": [
      "epoch: 4, [batch: 3360 / 33600], examples_per_second: 3162.5341, train_label_loss: 0.6709, \n"
     ]
    },
    {
     "name": "stdout",
     "output_type": "stream",
     "text": [
      "epoch: 4, [batch: 6720 / 33600], examples_per_second: 3177.7942, train_label_loss: 1.1661, \n"
     ]
    },
    {
     "name": "stdout",
     "output_type": "stream",
     "text": [
      "epoch: 4, [batch: 10080 / 33600], examples_per_second: 3175.2982, train_label_loss: 0.5583, \n"
     ]
    },
    {
     "name": "stdout",
     "output_type": "stream",
     "text": [
      "epoch: 4, [batch: 13440 / 33600], examples_per_second: 3166.4002, train_label_loss: 0.4969, \n"
     ]
    },
    {
     "name": "stdout",
     "output_type": "stream",
     "text": [
      "epoch: 4, [batch: 16800 / 33600], examples_per_second: 3180.6603, train_label_loss: 0.5682, \n"
     ]
    },
    {
     "name": "stdout",
     "output_type": "stream",
     "text": [
      "epoch: 4, [batch: 20160 / 33600], examples_per_second: 3184.8216, train_label_loss: 0.5014, \n"
     ]
    },
    {
     "name": "stdout",
     "output_type": "stream",
     "text": [
      "epoch: 4, [batch: 23520 / 33600], examples_per_second: 3171.5575, train_label_loss: 0.3536, \n"
     ]
    },
    {
     "name": "stdout",
     "output_type": "stream",
     "text": [
      "epoch: 4, [batch: 26880 / 33600], examples_per_second: 3166.7999, train_label_loss: 0.6050, \n"
     ]
    },
    {
     "name": "stdout",
     "output_type": "stream",
     "text": [
      "epoch: 4, [batch: 30240 / 33600], examples_per_second: 3178.4123, train_label_loss: 0.4058, \n"
     ]
    },
    {
     "name": "stdout",
     "output_type": "stream",
     "text": [
      "=============================================================\n",
      "epoch: 4, source_val_acc_label: 0.7429, target_val_acc_label: 0.8559, source_val_label_loss: 0.7141, target_val_label_loss: 45.6176, \n",
      "=============================================================\n"
     ]
    },
    {
     "name": "stdout",
     "output_type": "stream",
     "text": [
      "epoch: 5, [batch: 1 / 33600], examples_per_second: 1.1862, train_label_loss: 0.9501, \n"
     ]
    },
    {
     "name": "stdout",
     "output_type": "stream",
     "text": [
      "epoch: 5, [batch: 3360 / 33600], examples_per_second: 3169.1062, train_label_loss: 0.4917, \n"
     ]
    },
    {
     "name": "stdout",
     "output_type": "stream",
     "text": [
      "epoch: 5, [batch: 6720 / 33600], examples_per_second: 3176.0722, train_label_loss: 0.2839, \n"
     ]
    },
    {
     "name": "stdout",
     "output_type": "stream",
     "text": [
      "epoch: 5, [batch: 10080 / 33600], examples_per_second: 3175.9139, train_label_loss: 0.6913, \n"
     ]
    },
    {
     "name": "stdout",
     "output_type": "stream",
     "text": [
      "epoch: 5, [batch: 13440 / 33600], examples_per_second: 3161.9384, train_label_loss: 0.7825, \n"
     ]
    },
    {
     "name": "stdout",
     "output_type": "stream",
     "text": [
      "epoch: 5, [batch: 16800 / 33600], examples_per_second: 3171.8491, train_label_loss: 0.7378, \n"
     ]
    },
    {
     "name": "stdout",
     "output_type": "stream",
     "text": [
      "epoch: 5, [batch: 20160 / 33600], examples_per_second: 3177.3763, train_label_loss: 0.7197, \n"
     ]
    },
    {
     "name": "stdout",
     "output_type": "stream",
     "text": [
      "epoch: 5, [batch: 23520 / 33600], examples_per_second: 3162.6549, train_label_loss: 0.4097, \n"
     ]
    },
    {
     "name": "stdout",
     "output_type": "stream",
     "text": [
      "epoch: 5, [batch: 26880 / 33600], examples_per_second: 3182.1959, train_label_loss: 0.3275, \n"
     ]
    },
    {
     "name": "stdout",
     "output_type": "stream",
     "text": [
      "epoch: 5, [batch: 30240 / 33600], examples_per_second: 3182.1602, train_label_loss: 0.7501, \n"
     ]
    },
    {
     "name": "stdout",
     "output_type": "stream",
     "text": [
      "=============================================================\n",
      "epoch: 5, source_val_acc_label: 0.7402, target_val_acc_label: 0.8216, source_val_label_loss: 0.7207, target_val_label_loss: 65.0456, \n",
      "=============================================================\n"
     ]
    },
    {
     "name": "stdout",
     "output_type": "stream",
     "text": [
      "epoch: 6, [batch: 1 / 33600], examples_per_second: 1.1891, train_label_loss: 0.5713, \n"
     ]
    },
    {
     "name": "stdout",
     "output_type": "stream",
     "text": [
      "epoch: 6, [batch: 3360 / 33600], examples_per_second: 3165.9108, train_label_loss: 0.8131, \n"
     ]
    },
    {
     "name": "stdout",
     "output_type": "stream",
     "text": [
      "epoch: 6, [batch: 6720 / 33600], examples_per_second: 3176.2865, train_label_loss: 0.4622, \n"
     ]
    },
    {
     "name": "stdout",
     "output_type": "stream",
     "text": [
      "epoch: 6, [batch: 10080 / 33600], examples_per_second: 3179.6310, train_label_loss: 0.5783, \n"
     ]
    },
    {
     "name": "stdout",
     "output_type": "stream",
     "text": [
      "epoch: 6, [batch: 13440 / 33600], examples_per_second: 3164.5520, train_label_loss: 0.4597, \n"
     ]
    },
    {
     "name": "stdout",
     "output_type": "stream",
     "text": [
      "epoch: 6, [batch: 16800 / 33600], examples_per_second: 3167.0017, train_label_loss: 0.3414, \n"
     ]
    },
    {
     "name": "stdout",
     "output_type": "stream",
     "text": [
      "epoch: 6, [batch: 20160 / 33600], examples_per_second: 3181.1557, train_label_loss: 0.5383, \n"
     ]
    },
    {
     "name": "stdout",
     "output_type": "stream",
     "text": [
      "epoch: 6, [batch: 23520 / 33600], examples_per_second: 3176.5808, train_label_loss: 0.3381, \n"
     ]
    },
    {
     "name": "stdout",
     "output_type": "stream",
     "text": [
      "epoch: 6, [batch: 26880 / 33600], examples_per_second: 3180.1519, train_label_loss: 0.3962, \n"
     ]
    },
    {
     "name": "stdout",
     "output_type": "stream",
     "text": [
      "epoch: 6, [batch: 30240 / 33600], examples_per_second: 3187.1362, train_label_loss: 0.5285, \n"
     ]
    },
    {
     "name": "stdout",
     "output_type": "stream",
     "text": [
      "=============================================================\n",
      "epoch: 6, source_val_acc_label: 0.7413, target_val_acc_label: 0.7178, source_val_label_loss: 0.7213, target_val_label_loss: 124.6514, \n",
      "=============================================================\n"
     ]
    },
    {
     "name": "stdout",
     "output_type": "stream",
     "text": [
      "epoch: 7, [batch: 1 / 33600], examples_per_second: 1.1882, train_label_loss: 0.5497, \n"
     ]
    },
    {
     "name": "stdout",
     "output_type": "stream",
     "text": [
      "epoch: 7, [batch: 3360 / 33600], examples_per_second: 3159.6641, train_label_loss: 1.2740, \n"
     ]
    },
    {
     "name": "stdout",
     "output_type": "stream",
     "text": [
      "epoch: 7, [batch: 6720 / 33600], examples_per_second: 3175.0676, train_label_loss: 0.2550, \n"
     ]
    },
    {
     "name": "stdout",
     "output_type": "stream",
     "text": [
      "epoch: 7, [batch: 10080 / 33600], examples_per_second: 3176.7210, train_label_loss: 0.2995, \n"
     ]
    },
    {
     "name": "stdout",
     "output_type": "stream",
     "text": [
      "epoch: 7, [batch: 13440 / 33600], examples_per_second: 3165.6545, train_label_loss: 0.2157, \n"
     ]
    },
    {
     "name": "stdout",
     "output_type": "stream",
     "text": [
      "epoch: 7, [batch: 16800 / 33600], examples_per_second: 3178.9356, train_label_loss: 0.6345, \n"
     ]
    },
    {
     "name": "stdout",
     "output_type": "stream",
     "text": [
      "epoch: 7, [batch: 20160 / 33600], examples_per_second: 3178.1255, train_label_loss: 0.5514, \n"
     ]
    },
    {
     "name": "stdout",
     "output_type": "stream",
     "text": [
      "epoch: 7, [batch: 23520 / 33600], examples_per_second: 3166.8786, train_label_loss: 0.2839, \n"
     ]
    },
    {
     "name": "stdout",
     "output_type": "stream",
     "text": [
      "epoch: 7, [batch: 26880 / 33600], examples_per_second: 3172.1725, train_label_loss: 0.5024, \n"
     ]
    },
    {
     "name": "stdout",
     "output_type": "stream",
     "text": [
      "epoch: 7, [batch: 30240 / 33600], examples_per_second: 3176.6662, train_label_loss: 0.3139, \n"
     ]
    },
    {
     "name": "stdout",
     "output_type": "stream",
     "text": [
      "=============================================================\n",
      "epoch: 7, source_val_acc_label: 0.7438, target_val_acc_label: 0.9712, source_val_label_loss: 0.7124, target_val_label_loss: 1.3267, \n",
      "=============================================================\n"
     ]
    },
    {
     "name": "stdout",
     "output_type": "stream",
     "text": [
      "New best\n"
     ]
    },
    {
     "name": "stdout",
     "output_type": "stream",
     "text": [
      "epoch: 8, [batch: 1 / 33600], examples_per_second: 1.1864, train_label_loss: 0.4406, \n"
     ]
    },
    {
     "name": "stdout",
     "output_type": "stream",
     "text": [
      "epoch: 8, [batch: 3360 / 33600], examples_per_second: 3167.0358, train_label_loss: 0.3057, \n"
     ]
    },
    {
     "name": "stdout",
     "output_type": "stream",
     "text": [
      "epoch: 8, [batch: 6720 / 33600], examples_per_second: 3176.4929, train_label_loss: 0.4266, \n"
     ]
    },
    {
     "name": "stdout",
     "output_type": "stream",
     "text": [
      "epoch: 8, [batch: 10080 / 33600], examples_per_second: 3181.9430, train_label_loss: 0.2518, \n"
     ]
    },
    {
     "name": "stdout",
     "output_type": "stream",
     "text": [
      "epoch: 8, [batch: 13440 / 33600], examples_per_second: 3157.9681, train_label_loss: 0.3963, \n"
     ]
    },
    {
     "name": "stdout",
     "output_type": "stream",
     "text": [
      "epoch: 8, [batch: 16800 / 33600], examples_per_second: 3174.4259, train_label_loss: 0.1783, \n"
     ]
    },
    {
     "name": "stdout",
     "output_type": "stream",
     "text": [
      "epoch: 8, [batch: 20160 / 33600], examples_per_second: 3176.4144, train_label_loss: 0.2760, \n"
     ]
    },
    {
     "name": "stdout",
     "output_type": "stream",
     "text": [
      "epoch: 8, [batch: 23520 / 33600], examples_per_second: 3168.6377, train_label_loss: 0.8181, \n"
     ]
    },
    {
     "name": "stdout",
     "output_type": "stream",
     "text": [
      "epoch: 8, [batch: 26880 / 33600], examples_per_second: 3175.2063, train_label_loss: 0.4597, \n"
     ]
    },
    {
     "name": "stdout",
     "output_type": "stream",
     "text": [
      "epoch: 8, [batch: 30240 / 33600], examples_per_second: 3181.2327, train_label_loss: 0.3233, \n"
     ]
    },
    {
     "name": "stdout",
     "output_type": "stream",
     "text": [
      "=============================================================\n",
      "epoch: 8, source_val_acc_label: 0.7359, target_val_acc_label: 0.8634, source_val_label_loss: 0.7352, target_val_label_loss: 70.8651, \n",
      "=============================================================\n"
     ]
    },
    {
     "name": "stdout",
     "output_type": "stream",
     "text": [
      "epoch: 9, [batch: 1 / 33600], examples_per_second: 1.1913, train_label_loss: 0.9965, \n"
     ]
    },
    {
     "name": "stdout",
     "output_type": "stream",
     "text": [
      "epoch: 9, [batch: 3360 / 33600], examples_per_second: 3150.6695, train_label_loss: 0.3226, \n"
     ]
    },
    {
     "name": "stdout",
     "output_type": "stream",
     "text": [
      "epoch: 9, [batch: 6720 / 33600], examples_per_second: 3172.2910, train_label_loss: 0.6165, \n"
     ]
    },
    {
     "name": "stdout",
     "output_type": "stream",
     "text": [
      "epoch: 9, [batch: 10080 / 33600], examples_per_second: 3177.2269, train_label_loss: 0.3006, \n"
     ]
    },
    {
     "name": "stdout",
     "output_type": "stream",
     "text": [
      "epoch: 9, [batch: 13440 / 33600], examples_per_second: 3162.7011, train_label_loss: 0.4175, \n"
     ]
    },
    {
     "name": "stdout",
     "output_type": "stream",
     "text": [
      "epoch: 9, [batch: 16800 / 33600], examples_per_second: 3182.8493, train_label_loss: 0.7377, \n"
     ]
    },
    {
     "name": "stdout",
     "output_type": "stream",
     "text": [
      "epoch: 9, [batch: 20160 / 33600], examples_per_second: 3177.2002, train_label_loss: 0.2322, \n"
     ]
    },
    {
     "name": "stdout",
     "output_type": "stream",
     "text": [
      "epoch: 9, [batch: 23520 / 33600], examples_per_second: 3166.2605, train_label_loss: 0.5438, \n"
     ]
    },
    {
     "name": "stdout",
     "output_type": "stream",
     "text": [
      "epoch: 9, [batch: 26880 / 33600], examples_per_second: 3175.5194, train_label_loss: 0.2553, \n"
     ]
    },
    {
     "name": "stdout",
     "output_type": "stream",
     "text": [
      "epoch: 9, [batch: 30240 / 33600], examples_per_second: 3177.4964, train_label_loss: 0.2484, \n"
     ]
    },
    {
     "name": "stdout",
     "output_type": "stream",
     "text": [
      "=============================================================\n",
      "epoch: 9, source_val_acc_label: 0.7364, target_val_acc_label: 0.7569, source_val_label_loss: 0.7623, target_val_label_loss: 159.2330, \n",
      "=============================================================\n"
     ]
    },
    {
     "name": "stdout",
     "output_type": "stream",
     "text": [
      "epoch: 10, [batch: 1 / 33600], examples_per_second: 1.1848, train_label_loss: 0.1555, \n"
     ]
    },
    {
     "name": "stdout",
     "output_type": "stream",
     "text": [
      "epoch: 10, [batch: 3360 / 33600], examples_per_second: 3171.8072, train_label_loss: 0.4856, \n"
     ]
    },
    {
     "name": "stdout",
     "output_type": "stream",
     "text": [
      "epoch: 10, [batch: 6720 / 33600], examples_per_second: 3178.6129, train_label_loss: 0.4261, \n"
     ]
    },
    {
     "name": "stdout",
     "output_type": "stream",
     "text": [
      "epoch: 10, [batch: 10080 / 33600], examples_per_second: 3173.3721, train_label_loss: 0.6006, \n"
     ]
    },
    {
     "name": "stdout",
     "output_type": "stream",
     "text": [
      "epoch: 10, [batch: 13440 / 33600], examples_per_second: 3174.3406, train_label_loss: 0.3544, \n"
     ]
    },
    {
     "name": "stdout",
     "output_type": "stream",
     "text": [
      "epoch: 10, [batch: 16800 / 33600], examples_per_second: 3179.4335, train_label_loss: 0.3677, \n"
     ]
    },
    {
     "name": "stdout",
     "output_type": "stream",
     "text": [
      "epoch: 10, [batch: 20160 / 33600], examples_per_second: 3180.7312, train_label_loss: 0.9756, \n"
     ]
    },
    {
     "name": "stdout",
     "output_type": "stream",
     "text": [
      "epoch: 10, [batch: 23520 / 33600], examples_per_second: 3167.6053, train_label_loss: 0.2157, \n"
     ]
    },
    {
     "name": "stdout",
     "output_type": "stream",
     "text": [
      "epoch: 10, [batch: 26880 / 33600], examples_per_second: 3168.0787, train_label_loss: 0.3742, \n"
     ]
    },
    {
     "name": "stdout",
     "output_type": "stream",
     "text": [
      "epoch: 10, [batch: 30240 / 33600], examples_per_second: 3180.6324, train_label_loss: 0.4058, \n"
     ]
    },
    {
     "name": "stdout",
     "output_type": "stream",
     "text": [
      "=============================================================\n",
      "epoch: 10, source_val_acc_label: 0.7393, target_val_acc_label: 0.8072, source_val_label_loss: 0.7615, target_val_label_loss: 103.5071, \n",
      "=============================================================\n"
     ]
    },
    {
     "name": "stdout",
     "output_type": "stream",
     "text": [
      "epoch: 11, [batch: 1 / 33600], examples_per_second: 1.1874, train_label_loss: 0.2531, \n"
     ]
    },
    {
     "name": "stdout",
     "output_type": "stream",
     "text": [
      "epoch: 11, [batch: 3360 / 33600], examples_per_second: 3167.7311, train_label_loss: 0.3359, \n"
     ]
    },
    {
     "name": "stdout",
     "output_type": "stream",
     "text": [
      "epoch: 11, [batch: 6720 / 33600], examples_per_second: 3170.1302, train_label_loss: 0.5204, \n"
     ]
    },
    {
     "name": "stdout",
     "output_type": "stream",
     "text": [
      "epoch: 11, [batch: 10080 / 33600], examples_per_second: 3180.4338, train_label_loss: 0.2509, \n"
     ]
    },
    {
     "name": "stdout",
     "output_type": "stream",
     "text": [
      "epoch: 11, [batch: 13440 / 33600], examples_per_second: 3174.5650, train_label_loss: 0.2186, \n"
     ]
    },
    {
     "name": "stdout",
     "output_type": "stream",
     "text": [
      "epoch: 11, [batch: 16800 / 33600], examples_per_second: 3177.7967, train_label_loss: 0.4053, \n"
     ]
    },
    {
     "name": "stdout",
     "output_type": "stream",
     "text": [
      "epoch: 11, [batch: 20160 / 33600], examples_per_second: 3178.2250, train_label_loss: 0.4533, \n"
     ]
    },
    {
     "name": "stdout",
     "output_type": "stream",
     "text": [
      "epoch: 11, [batch: 23520 / 33600], examples_per_second: 3165.5306, train_label_loss: 0.9349, \n"
     ]
    },
    {
     "name": "stdout",
     "output_type": "stream",
     "text": [
      "epoch: 11, [batch: 26880 / 33600], examples_per_second: 3178.5720, train_label_loss: 0.5547, \n"
     ]
    },
    {
     "name": "stdout",
     "output_type": "stream",
     "text": [
      "epoch: 11, [batch: 30240 / 33600], examples_per_second: 3181.9498, train_label_loss: 0.7720, \n"
     ]
    },
    {
     "name": "stdout",
     "output_type": "stream",
     "text": [
      "=============================================================\n",
      "epoch: 11, source_val_acc_label: 0.7341, target_val_acc_label: 0.9534, source_val_label_loss: 0.7620, target_val_label_loss: 8.9919, \n",
      "=============================================================\n"
     ]
    },
    {
     "name": "stdout",
     "output_type": "stream",
     "text": [
      "Patience (3) exhausted\n"
     ]
    }
   ],
   "source": [
    "###################################\n",
    "# train\n",
    "###################################\n",
    "jig = PTN_Train_Eval_Test_Jig(model, p.BEST_MODEL_PATH, p.device)\n",
    "\n",
    "jig.train(\n",
    "    train_iterable=datasets.source.processed.train,\n",
    "    source_val_iterable=datasets.source.processed.val,\n",
    "    target_val_iterable=datasets.target.processed.val,\n",
    "    num_epochs=p.n_epoch,\n",
    "    num_logs_per_epoch=p.NUM_LOGS_PER_EPOCH,\n",
    "    patience=p.patience,\n",
    "    optimizer=optimizer,\n",
    "    criteria_for_best=p.criteria_for_best,\n",
    ")"
   ]
  },
  {
   "cell_type": "code",
   "execution_count": 23,
   "id": "31e8fabf",
   "metadata": {
    "execution": {
     "iopub.execute_input": "2022-03-13T22:27:54.158713Z",
     "iopub.status.busy": "2022-03-13T22:27:54.158464Z",
     "iopub.status.idle": "2022-03-13T22:27:54.176015Z",
     "shell.execute_reply": "2022-03-13T22:27:54.175625Z"
    },
    "papermill": {
     "duration": 0.055963,
     "end_time": "2022-03-13T22:27:54.176104",
     "exception": false,
     "start_time": "2022-03-13T22:27:54.120141",
     "status": "completed"
    },
    "tags": []
   },
   "outputs": [],
   "source": [
    "total_experiment_time_secs = time.time() - start_time_secs"
   ]
  },
  {
   "cell_type": "code",
   "execution_count": 24,
   "id": "87b9595b",
   "metadata": {
    "execution": {
     "iopub.execute_input": "2022-03-13T22:27:54.258729Z",
     "iopub.status.busy": "2022-03-13T22:27:54.258435Z",
     "iopub.status.idle": "2022-03-13T22:32:01.003188Z",
     "shell.execute_reply": "2022-03-13T22:32:01.003604Z"
    },
    "papermill": {
     "duration": 246.786344,
     "end_time": "2022-03-13T22:32:01.003744",
     "exception": false,
     "start_time": "2022-03-13T22:27:54.217400",
     "status": "completed"
    },
    "tags": []
   },
   "outputs": [],
   "source": [
    "###################################\n",
    "# Evaluate the model\n",
    "###################################\n",
    "source_test_label_accuracy, source_test_label_loss = jig.test(datasets.source.processed.test)\n",
    "target_test_label_accuracy, target_test_label_loss = jig.test(datasets.target.processed.test)\n",
    "\n",
    "source_val_label_accuracy, source_val_label_loss = jig.test(datasets.source.processed.val)\n",
    "target_val_label_accuracy, target_val_label_loss = jig.test(datasets.target.processed.val)\n",
    "\n",
    "history = jig.get_history()\n",
    "\n",
    "total_epochs_trained = len(history[\"epoch_indices\"])\n",
    "\n",
    "val_dl = Iterable_Aggregator((datasets.source.original.val,datasets.target.original.val))\n",
    "\n",
    "confusion = ptn_confusion_by_domain_over_dataloader(model, p.device, val_dl)\n",
    "per_domain_accuracy = per_domain_accuracy_from_confusion(confusion)\n",
    "\n",
    "# Add a key to per_domain_accuracy for if it was a source domain\n",
    "for domain, accuracy in per_domain_accuracy.items():\n",
    "    per_domain_accuracy[domain] = {\n",
    "        \"accuracy\": accuracy,\n",
    "        \"source?\": domain in p.domains_source\n",
    "    }\n",
    "\n",
    "# Do an independent accuracy assesment JUST TO BE SURE!\n",
    "# _source_test_label_accuracy = independent_accuracy_assesment(model, datasets.source.processed.test, p.device)\n",
    "# _target_test_label_accuracy = independent_accuracy_assesment(model, datasets.target.processed.test, p.device)\n",
    "# _source_val_label_accuracy = independent_accuracy_assesment(model, datasets.source.processed.val, p.device)\n",
    "# _target_val_label_accuracy = independent_accuracy_assesment(model, datasets.target.processed.val, p.device)\n",
    "\n",
    "# assert(_source_test_label_accuracy == source_test_label_accuracy)\n",
    "# assert(_target_test_label_accuracy == target_test_label_accuracy)\n",
    "# assert(_source_val_label_accuracy == source_val_label_accuracy)\n",
    "# assert(_target_val_label_accuracy == target_val_label_accuracy)\n",
    "\n",
    "experiment = {\n",
    "    \"experiment_name\": p.experiment_name,\n",
    "    \"parameters\": dict(p),\n",
    "    \"results\": {\n",
    "        \"source_test_label_accuracy\": source_test_label_accuracy,\n",
    "        \"source_test_label_loss\": source_test_label_loss,\n",
    "        \"target_test_label_accuracy\": target_test_label_accuracy,\n",
    "        \"target_test_label_loss\": target_test_label_loss,\n",
    "        \"source_val_label_accuracy\": source_val_label_accuracy,\n",
    "        \"source_val_label_loss\": source_val_label_loss,\n",
    "        \"target_val_label_accuracy\": target_val_label_accuracy,\n",
    "        \"target_val_label_loss\": target_val_label_loss,\n",
    "        \"total_epochs_trained\": total_epochs_trained,\n",
    "        \"total_experiment_time_secs\": total_experiment_time_secs,\n",
    "        \"confusion\": confusion,\n",
    "        \"per_domain_accuracy\": per_domain_accuracy,\n",
    "    },\n",
    "    \"history\": history,\n",
    "    \"dataset_metrics\": get_dataset_metrics(datasets, \"ptn\"),\n",
    "}"
   ]
  },
  {
   "cell_type": "code",
   "execution_count": 25,
   "id": "54a21829",
   "metadata": {
    "execution": {
     "iopub.execute_input": "2022-03-13T22:32:01.083966Z",
     "iopub.status.busy": "2022-03-13T22:32:01.083706Z",
     "iopub.status.idle": "2022-03-13T22:32:01.256098Z",
     "shell.execute_reply": "2022-03-13T22:32:01.256501Z"
    },
    "papermill": {
     "duration": 0.211815,
     "end_time": "2022-03-13T22:32:01.256631",
     "exception": false,
     "start_time": "2022-03-13T22:32:01.044816",
     "status": "completed"
    },
    "tags": []
   },
   "outputs": [
    {
     "data": {
      "image/png": "[encoded data removed]",
      "text/plain": [
       "<Figure size 1080x504 with 1 Axes>"
      ]
     },
     "metadata": {
      "needs_background": "light"
     },
     "output_type": "display_data"
    }
   ],
   "source": [
    "ax = get_loss_curve(experiment)\n",
    "plt.show()"
   ]
  },
  {
   "cell_type": "code",
   "execution_count": 26,
   "id": "fd8a0f60",
   "metadata": {
    "execution": {
     "iopub.execute_input": "2022-03-13T22:32:01.338396Z",
     "iopub.status.busy": "2022-03-13T22:32:01.338139Z",
     "iopub.status.idle": "2022-03-13T22:32:01.516221Z",
     "shell.execute_reply": "2022-03-13T22:32:01.516443Z"
    },
    "papermill": {
     "duration": 0.21816,
     "end_time": "2022-03-13T22:32:01.516523",
     "exception": false,
     "start_time": "2022-03-13T22:32:01.298363",
     "status": "completed"
    },
    "tags": []
   },
   "outputs": [
    {
     "data": {
      "text/plain": [
       "<matplotlib.axes._subplots.AxesSubplot at 0x7fe5a1dc5220>"
      ]
     },
     "execution_count": 26,
     "metadata": {},
     "output_type": "execute_result"
    },
    {
     "data": {
      "image/png": "[encoded data removed]",
      "text/plain": [
       "<Figure size 1080x504 with 1 Axes>"
      ]
     },
     "metadata": {
      "needs_background": "light"
     },
     "output_type": "display_data"
    }
   ],
   "source": [
    "get_results_table(experiment)"
   ]
  },
  {
   "cell_type": "code",
   "execution_count": 27,
   "id": "cf8dc689",
   "metadata": {
    "execution": {
     "iopub.execute_input": "2022-03-13T22:32:01.606671Z",
     "iopub.status.busy": "2022-03-13T22:32:01.606409Z",
     "iopub.status.idle": "2022-03-13T22:32:01.811401Z",
     "shell.execute_reply": "2022-03-13T22:32:01.811629Z"
    },
    "papermill": {
     "duration": 0.248135,
     "end_time": "2022-03-13T22:32:01.811706",
     "exception": false,
     "start_time": "2022-03-13T22:32:01.563571",
     "status": "completed"
    },
    "tags": []
   },
   "outputs": [
    {
     "data": {
      "text/plain": [
       "<matplotlib.axes._subplots.AxesSubplot at 0x7fe5b879dd00>"
      ]
     },
     "execution_count": 27,
     "metadata": {},
     "output_type": "execute_result"
    },
    {
     "data": {
      "image/png": "[encoded data removed]",
      "text/plain": [
       "<Figure size 1080x504 with 1 Axes>"
      ]
     },
     "metadata": {
      "needs_background": "light"
     },
     "output_type": "display_data"
    }
   ],
   "source": [
    "get_domain_accuracies(experiment)"
   ]
  },
  {
   "cell_type": "code",
   "execution_count": 28,
   "id": "a74ae082",
   "metadata": {
    "execution": {
     "iopub.execute_input": "2022-03-13T22:32:01.894605Z",
     "iopub.status.busy": "2022-03-13T22:32:01.894321Z",
     "iopub.status.idle": "2022-03-13T22:32:01.910669Z",
     "shell.execute_reply": "2022-03-13T22:32:01.910881Z"
    },
    "papermill": {
     "duration": 0.059296,
     "end_time": "2022-03-13T22:32:01.910953",
     "exception": false,
     "start_time": "2022-03-13T22:32:01.851657",
     "status": "completed"
    },
    "tags": []
   },
   "outputs": [
    {
     "name": "stdout",
     "output_type": "stream",
     "text": [
      "Source Test Label Accuracy: 0.7431380208333334 Target Test Label Accuracy: 0.9703125\n",
      "Source Val Label Accuracy: 0.743828125 Target Val Label Accuracy: 0.97125\n"
     ]
    }
   ],
   "source": [
    "print(\"Source Test Label Accuracy:\", experiment[\"results\"][\"source_test_label_accuracy\"], \"Target Test Label Accuracy:\", experiment[\"results\"][\"target_test_label_accuracy\"])\n",
    "print(\"Source Val Label Accuracy:\", experiment[\"results\"][\"source_val_label_accuracy\"], \"Target Val Label Accuracy:\", experiment[\"results\"][\"target_val_label_accuracy\"])"
   ]
  },
  {
   "cell_type": "code",
   "execution_count": 29,
   "id": "dacca602",
   "metadata": {
    "execution": {
     "iopub.execute_input": "2022-03-13T22:32:01.992936Z",
     "iopub.status.busy": "2022-03-13T22:32:01.992684Z",
     "iopub.status.idle": "2022-03-13T22:32:02.005351Z",
     "shell.execute_reply": "2022-03-13T22:32:02.004897Z"
    },
    "papermill": {
     "duration": 0.05416,
     "end_time": "2022-03-13T22:32:02.005451",
     "exception": false,
     "start_time": "2022-03-13T22:32:01.951291",
     "status": "completed"
    },
    "tags": [
     "experiment_json"
    ]
   },
   "outputs": [
    {
     "data": {
      "text/plain": [
       "'{\"experiment_name\": \"tl_1_cores-oracle.run1\", \"parameters\": {\"experiment_name\": \"tl_1_cores-oracle.run1\", \"device\": \"cuda\", \"lr\": 0.001, \"seed\": 1337, \"dataset_seed\": 1337, \"n_shot\": 3, \"n_query\": 2, \"train_k_factor\": 3, \"val_k_factor\": 2, \"test_k_factor\": 2, \"torch_default_dtype\": \"torch.float32\", \"n_epoch\": 50, \"patience\": 3, \"criteria_for_best\": \"target_loss\", \"x_net\": [{\"class\": \"nnReshape\", \"kargs\": {\"shape\": [-1, 1, 2, 256]}}, {\"class\": \"Conv2d\", \"kargs\": {\"in_channels\": 1, \"out_channels\": 256, \"kernel_size\": [1, 7], \"bias\": false, \"padding\": [0, 3]}}, {\"class\": \"ReLU\", \"kargs\": {\"inplace\": true}}, {\"class\": \"BatchNorm2d\", \"kargs\": {\"num_features\": 256}}, {\"class\": \"Conv2d\", \"kargs\": {\"in_channels\": 256, \"out_channels\": 80, \"kernel_size\": [2, 7], \"bias\": true, \"padding\": [0, 3]}}, {\"class\": \"ReLU\", \"kargs\": {\"inplace\": true}}, {\"class\": \"BatchNorm2d\", \"kargs\": {\"num_features\": 80}}, {\"class\": \"Flatten\", \"kargs\": {}}, {\"class\": \"Linear\", \"kargs\": {\"in_features\": 20480, \"out_features\": 256}}, {\"class\": \"ReLU\", \"kargs\": {\"inplace\": true}}, {\"class\": \"BatchNorm1d\", \"kargs\": {\"num_features\": 256}}, {\"class\": \"Linear\", \"kargs\": {\"in_features\": 256, \"out_features\": 256}}], \"NUM_LOGS_PER_EPOCH\": 10, \"BEST_MODEL_PATH\": \"./best_model.pth\", \"n_way\": 16, \"datasets\": [{\"labels\": [\"1-10.\", \"1-11.\", \"1-15.\", \"1-16.\", \"1-17.\", \"1-18.\", \"1-19.\", \"10-4.\", \"10-7.\", \"11-1.\", \"11-14.\", \"11-17.\", \"11-20.\", \"11-7.\", \"13-20.\", \"13-8.\", \"14-10.\", \"14-11.\", \"14-14.\", \"14-7.\", \"15-1.\", \"15-20.\", \"16-1.\", \"16-16.\", \"17-10.\", \"17-11.\", \"17-2.\", \"19-1.\", \"19-16.\", \"19-19.\", \"19-20.\", \"19-3.\", \"2-10.\", \"2-11.\", \"2-17.\", \"2-18.\", \"2-20.\", \"2-3.\", \"2-4.\", \"2-5.\", \"2-6.\", \"2-7.\", \"2-8.\", \"3-13.\", \"3-18.\", \"3-3.\", \"4-1.\", \"4-10.\", \"4-11.\", \"4-19.\", \"5-5.\", \"6-15.\", \"7-10.\", \"7-14.\", \"8-18.\", \"8-20.\", \"8-3.\", \"8-8.\"], \"domains\": [1, 2, 3, 4, 5], \"num_examples_per_domain_per_label\": 100, \"pickle_path\": \"/mnt/wd500GB/CSC500/csc500-main/datasets/cores.stratified_ds.2022A.pkl\", \"source_or_target_dataset\": \"target\", \"x_transforms\": [\"unit_power\"], \"episode_transforms\": [], \"domain_prefix\": \"CORES_\"}, {\"labels\": [\"3123D52\", \"3123D65\", \"3123D79\", \"3123D80\", \"3123D54\", \"3123D70\", \"3123D7B\", \"3123D89\", \"3123D58\", \"3123D76\", \"3123D7D\", \"3123EFE\", \"3123D64\", \"3123D78\", \"3123D7E\", \"3124E4A\"], \"domains\": [32, 38, 8, 44, 14, 50, 20, 26], \"num_examples_per_domain_per_label\": 10000, \"pickle_path\": \"/mnt/wd500GB/CSC500/csc500-main/datasets/oracle.Run1_10kExamples_stratified_ds.2022A.pkl\", \"source_or_target_dataset\": \"source\", \"x_transforms\": [\"unit_power\"], \"episode_transforms\": [], \"domain_prefix\": \"ORACLE.run1_\"}], \"domains_source\": [\"ORACLE.run1_32\", \"ORACLE.run1_38\", \"ORACLE.run1_8\", \"ORACLE.run1_44\", \"ORACLE.run1_14\", \"ORACLE.run1_50\", \"ORACLE.run1_20\", \"ORACLE.run1_26\"], \"domains_target\": [\"CORES_1\", \"CORES_2\", \"CORES_3\", \"CORES_4\", \"CORES_5\"]}, \"results\": {\"source_test_label_accuracy\": 0.7431380208333334, \"source_test_label_loss\": 0.7144634127616882, \"target_test_label_accuracy\": 0.9703125, \"target_test_label_loss\": 1.5979582071304321, \"source_val_label_accuracy\": 0.743828125, \"source_val_label_loss\": 0.7123614549636841, \"target_val_label_accuracy\": 0.97125, \"target_val_label_loss\": 1.3266644477844238, \"total_epochs_trained\": 11, \"total_experiment_time_secs\": 9967.115551710129, \"confusion\": {\"ORACLE.run1_14\": {\"15\": {\"15\": 1170, \"7\": 26, \"5\": 2, \"2\": 1, \"13\": 1}, \"3\": {\"3\": 1065, \"4\": 86, \"14\": 22, \"2\": 15, \"5\": 5, \"1\": 3, \"0\": 4}, \"6\": {\"13\": 428, \"6\": 721, \"2\": 25, \"14\": 26}, \"1\": {\"1\": 1093, \"5\": 100, \"7\": 3, \"4\": 4}, \"8\": {\"8\": 1200}, \"10\": {\"10\": 1173, \"0\": 26, \"3\": 1}, \"9\": {\"9\": 1193, \"12\": 5, \"11\": 2}, \"13\": {\"6\": 513, \"13\": 430, \"2\": 107, \"14\": 136, \"5\": 10, \"15\": 1, \"4\": 3}, \"12\": {\"12\": 1195, \"9\": 5}, \"5\": {\"4\": 196, \"2\": 54, \"5\": 808, \"3\": 15, \"7\": 4, \"1\": 119, \"15\": 4}, \"0\": {\"10\": 75, \"0\": 1085, \"11\": 21, \"3\": 19}, \"2\": {\"2\": 656, \"13\": 68, \"3\": 45, \"14\": 168, \"4\": 75, \"5\": 100, \"6\": 63, \"15\": 25}, \"11\": {\"11\": 1120, \"9\": 42, \"0\": 36, \"10\": 2}, \"14\": {\"14\": 1019, \"13\": 82, \"6\": 24, \"2\": 58, \"3\": 17}, \"7\": {\"7\": 1176, \"15\": 15, \"1\": 5, \"5\": 4}, \"4\": {\"4\": 937, \"5\": 133, \"3\": 90, \"2\": 31, \"1\": 9}}, \"ORACLE.run1_20\": {\"3\": {\"3\": 546, \"2\": 66, \"12\": 264, \"1\": 17, \"9\": 177, \"8\": 14, \"5\": 33, \"7\": 19, \"4\": 55, \"10\": 3, \"0\": 4, \"15\": 1, \"13\": 1}, \"15\": {\"15\": 796, \"1\": 188, \"0\": 60, \"5\": 105, \"13\": 35, \"12\": 11, \"9\": 3, \"2\": 2}, \"8\": {\"8\": 948, \"14\": 28, \"7\": 71, \"4\": 125, \"10\": 7, \"6\": 7, \"3\": 13, \"5\": 1}, \"4\": {\"4\": 1023, \"10\": 10, \"3\": 49, \"8\": 107, \"12\": 3, \"7\": 4, \"5\": 4}, \"14\": {\"10\": 54, \"14\": 1020, \"6\": 109, \"4\": 1, \"8\": 16}, \"0\": {\"0\": 764, \"5\": 251, \"15\": 112, \"1\": 25, \"4\": 3, \"12\": 11, \"3\": 15, \"13\": 6, \"2\": 3, \"8\": 5, \"7\": 3, \"9\": 2}, \"7\": {\"7\": 936, \"3\": 24, \"6\": 7, \"2\": 129, \"8\": 56, \"9\": 38, \"4\": 6, \"13\": 2, \"10\": 1, \"11\": 1}, \"6\": {\"6\": 1088, \"7\": 2, \"14\": 103, \"8\": 7}, \"10\": {\"10\": 1118, \"8\": 5, \"14\": 63, \"4\": 14}, \"5\": {\"5\": 587, \"0\": 198, \"15\": 96, \"3\": 29, \"1\": 162, \"12\": 119, \"13\": 2, \"2\": 3, \"9\": 2, \"4\": 2}, \"2\": {\"9\": 287, \"2\": 604, \"12\": 40, \"7\": 142, \"1\": 10, \"3\": 64, \"13\": 49, \"8\": 1, \"15\": 1, \"4\": 1, \"5\": 1}, \"12\": {\"12\": 512, \"5\": 102, \"3\": 243, \"1\": 171, \"9\": 107, \"2\": 38, \"15\": 17, \"4\": 3, \"0\": 6, \"7\": 1}, \"9\": {\"9\": 541, \"2\": 307, \"3\": 196, \"1\": 12, \"12\": 106, \"7\": 26, \"5\": 2, \"13\": 8, \"15\": 1, \"4\": 1}, \"1\": {\"12\": 203, \"5\": 183, \"3\": 24, \"15\": 171, \"1\": 593, \"13\": 3, \"0\": 13, \"9\": 5, \"2\": 5}, \"11\": {\"11\": 1199, \"7\": 1}, \"13\": {\"2\": 47, \"13\": 1125, \"15\": 17, \"0\": 2, \"5\": 2, \"1\": 1, \"9\": 4, \"12\": 1, \"7\": 1}}, \"ORACLE.run1_38\": {\"5\": {\"5\": 552, \"8\": 325, \"0\": 64, \"9\": 36, \"6\": 48, \"1\": 9, \"13\": 2, \"7\": 111, \"15\": 44, \"3\": 6, \"10\": 3}, \"8\": {\"8\": 749, \"5\": 244, \"0\": 122, \"15\": 22, \"10\": 23, \"7\": 36, \"13\": 4}, \"11\": {\"11\": 1051, \"14\": 118, \"2\": 6, \"10\": 17, \"12\": 4, \"13\": 2, \"4\": 2}, \"1\": {\"15\": 43, \"1\": 1154, \"5\": 3}, \"10\": {\"10\": 978, \"13\": 102, \"8\": 46, \"15\": 7, \"14\": 9, \"0\": 20, \"7\": 5, \"5\": 6, \"12\": 14, \"4\": 2, \"11\": 7, \"2\": 4}, \"15\": {\"15\": 992, \"1\": 74, \"13\": 75, \"8\": 32, \"10\": 5, \"2\": 4, \"5\": 17, \"0\": 1}, \"3\": {\"3\": 1128, \"9\": 31, \"0\": 24, \"7\": 14, \"5\": 3}, \"7\": {\"7\": 1017, \"0\": 113, \"5\": 37, \"8\": 28, \"10\": 1, \"9\": 3, \"3\": 1}, \"4\": {\"4\": 1161, \"12\": 37, \"10\": 1, \"7\": 1}, \"14\": {\"14\": 1073, \"11\": 40, \"2\": 72, \"12\": 3, \"10\": 11, \"13\": 1}, \"9\": {\"6\": 281, \"9\": 883, \"3\": 25, \"5\": 9, \"0\": 1, \"8\": 1}, \"12\": {\"12\": 1156, \"4\": 42, \"0\": 1, \"14\": 1}, \"6\": {\"6\": 1059, \"9\": 133, \"8\": 1, \"5\": 7}, \"2\": {\"2\": 1108, \"14\": 65, \"13\": 26, \"10\": 1}, \"0\": {\"8\": 238, \"7\": 199, \"0\": 569, \"3\": 67, \"5\": 88, \"10\": 29, \"15\": 2, \"4\": 3, \"12\": 3, \"9\": 1, \"13\": 1}, \"13\": {\"10\": 87, \"13\": 908, \"5\": 5, \"2\": 18, \"15\": 164, \"14\": 3, \"8\": 9, \"1\": 5, \"0\": 1}}, \"ORACLE.run1_8\": {\"9\": {\"9\": 1200}, \"10\": {\"10\": 829, \"14\": 217, \"13\": 104, \"4\": 26, \"5\": 14, \"1\": 8, \"0\": 2}, \"13\": {\"0\": 308, \"13\": 425, \"4\": 200, \"14\": 101, \"7\": 8, \"6\": 47, \"10\": 111}, \"0\": {\"0\": 747, \"13\": 247, \"4\": 38, \"7\": 96, \"6\": 62, \"10\": 8, \"14\": 2}, \"1\": {\"1\": 883, \"11\": 264, \"5\": 21, \"14\": 25, \"10\": 4, \"4\": 3}, \"15\": {\"15\": 905, \"12\": 241, \"2\": 6, \"8\": 37, \"3\": 9, \"7\": 2}, \"5\": {\"5\": 1090, \"1\": 45, \"10\": 54, \"11\": 4, \"14\": 7}, \"3\": {\"12\": 43, \"3\": 1061, \"2\": 96}, \"6\": {\"6\": 752, \"7\": 263, \"4\": 100, \"0\": 51, \"13\": 27, \"8\": 3, \"14\": 4}, \"11\": {\"1\": 360, \"11\": 804, \"14\": 14, \"6\": 1, \"8\": 5, \"5\": 15, \"4\": 1}, \"8\": {\"8\": 1150, \"15\": 44, \"6\": 4, \"12\": 1, \"7\": 1}, \"4\": {\"0\": 44, \"4\": 644, \"14\": 168, \"13\": 210, \"10\": 22, \"6\": 105, \"11\": 3, \"7\": 4}, \"12\": {\"12\": 655, \"15\": 382, \"3\": 129, \"8\": 20, \"2\": 13, \"7\": 1}, \"14\": {\"4\": 172, \"10\": 171, \"14\": 719, \"1\": 39, \"13\": 93, \"6\": 2, \"11\": 3, \"0\": 1}, \"2\": {\"2\": 986, \"3\": 155, \"15\": 29, \"7\": 21, \"12\": 9}, \"7\": {\"6\": 270, \"7\": 887, \"0\": 32, \"4\": 4, \"8\": 1, \"13\": 5, \"15\": 1}}, \"ORACLE.run1_50\": {\"7\": {\"7\": 790, \"4\": 6, \"13\": 234, \"10\": 21, \"5\": 145, \"6\": 4}, \"3\": {\"3\": 1180, \"8\": 20}, \"8\": {\"8\": 1171, \"10\": 19, \"3\": 10}, \"2\": {\"2\": 1123, \"0\": 77}, \"14\": {\"14\": 1187, \"12\": 9, \"11\": 4}, \"4\": {\"4\": 578, \"5\": 133, \"15\": 182, \"1\": 176, \"6\": 81, \"13\": 23, \"7\": 25, \"0\": 1, \"11\": 1}, \"6\": {\"6\": 935, \"1\": 63, \"13\": 57, \"7\": 10, \"5\": 29, \"4\": 84, \"15\": 20, \"0\": 2}, \"15\": {\"15\": 898, \"1\": 189, \"4\": 84, \"11\": 18, \"6\": 10, \"5\": 1}, \"10\": {\"10\": 1107, \"0\": 30, \"13\": 27, \"7\": 20, \"8\": 13, \"5\": 3}, \"11\": {\"11\": 1064, \"9\": 92, \"14\": 12, \"12\": 5, \"1\": 3, \"15\": 24}, \"13\": {\"7\": 176, \"13\": 800, \"0\": 4, \"5\": 141, \"10\": 10, \"6\": 62, \"4\": 7}, \"9\": {\"9\": 976, \"12\": 67, \"11\": 154, \"14\": 3}, \"0\": {\"0\": 1040, \"2\": 99, \"10\": 56, \"13\": 3, \"5\": 1, \"1\": 1}, \"1\": {\"1\": 827, \"6\": 75, \"15\": 202, \"4\": 83, \"5\": 12, \"11\": 1}, \"12\": {\"12\": 1086, \"9\": 80, \"14\": 28, \"11\": 6}, \"5\": {\"1\": 65, \"5\": 502, \"7\": 228, \"13\": 179, \"4\": 139, \"6\": 74, \"10\": 11, \"15\": 2}}, \"ORACLE.run1_32\": {\"8\": {\"13\": 65, \"8\": 930, \"0\": 114, \"7\": 3, \"5\": 72, \"3\": 8, \"14\": 7, \"15\": 1}, \"14\": {\"14\": 554, \"11\": 301, \"7\": 189, \"0\": 54, \"5\": 30, \"13\": 38, \"2\": 7, \"4\": 13, \"8\": 11, \"3\": 3}, \"2\": {\"4\": 183, \"2\": 968, \"7\": 20, \"14\": 1, \"0\": 23, \"5\": 3, \"8\": 1, \"13\": 1}, \"0\": {\"0\": 905, \"5\": 37, \"8\": 93, \"14\": 28, \"2\": 37, \"13\": 14, \"7\": 39, \"4\": 47}, \"1\": {\"1\": 1191, \"10\": 9}, \"10\": {\"10\": 1196, \"1\": 4}, \"11\": {\"14\": 178, \"11\": 973, \"3\": 9, \"13\": 19, \"7\": 17, \"5\": 4}, \"5\": {\"5\": 436, \"7\": 147, \"13\": 285, \"8\": 74, \"3\": 42, \"4\": 142, \"11\": 9, \"0\": 39, \"14\": 20, \"2\": 6}, \"15\": {\"15\": 1194, \"8\": 6}, \"3\": {\"3\": 1114, \"5\": 11, \"14\": 2, \"13\": 50, \"11\": 15, \"8\": 8}, \"12\": {\"12\": 1200}, \"7\": {\"7\": 598, \"4\": 139, \"13\": 75, \"5\": 148, \"14\": 158, \"0\": 30, \"2\": 21, \"11\": 27, \"3\": 3, \"8\": 1}, \"13\": {\"8\": 63, \"13\": 611, \"5\": 234, \"14\": 24, \"3\": 87, \"7\": 73, \"4\": 70, \"0\": 18, \"11\": 20}, \"6\": {\"6\": 1200}, \"4\": {\"4\": 773, \"7\": 103, \"2\": 184, \"0\": 23, \"5\": 72, \"13\": 40, \"8\": 4, \"14\": 1}, \"9\": {\"9\": 1199, \"12\": 1}}, \"ORACLE.run1_26\": {\"4\": {\"8\": 76, \"14\": 212, \"4\": 570, \"10\": 45, \"1\": 66, \"0\": 152, \"7\": 79}, \"12\": {\"12\": 1200}, \"10\": {\"0\": 254, \"10\": 513, \"9\": 16, \"4\": 58, \"8\": 175, \"6\": 49, \"14\": 113, \"1\": 17, \"7\": 4, \"15\": 1}, \"0\": {\"10\": 288, \"0\": 380, \"1\": 22, \"14\": 205, \"7\": 18, \"8\": 119, \"4\": 142, \"15\": 6, \"6\": 16, \"9\": 4}, \"13\": {\"13\": 875, \"5\": 217, \"9\": 18, \"6\": 11, \"15\": 58, \"2\": 20, \"3\": 1}, \"9\": {\"15\": 360, \"9\": 497, \"0\": 8, \"6\": 158, \"5\": 39, \"8\": 88, \"10\": 24, \"13\": 19, \"2\": 5, \"7\": 2}, \"3\": {\"3\": 781, \"2\": 260, \"7\": 157, \"5\": 1, \"4\": 1}, \"2\": {\"7\": 120, \"8\": 31, \"2\": 479, \"3\": 363, \"15\": 60, \"5\": 119, \"13\": 12, \"9\": 12, \"4\": 4}, \"5\": {\"5\": 773, \"15\": 144, \"13\": 159, \"2\": 54, \"9\": 48, \"8\": 17, \"6\": 2, \"7\": 3}, \"14\": {\"14\": 467, \"4\": 246, \"0\": 175, \"10\": 93, \"1\": 179, \"7\": 16, \"8\": 24}, \"8\": {\"0\": 80, \"8\": 545, \"7\": 76, \"4\": 105, \"2\": 12, \"15\": 69, \"10\": 172, \"9\": 93, \"14\": 17, \"6\": 19, \"1\": 4, \"5\": 7, \"3\": 1}, \"7\": {\"7\": 692, \"4\": 99, \"0\": 22, \"2\": 114, \"8\": 75, \"3\": 173, \"5\": 5, \"10\": 1, \"15\": 7, \"14\": 5, \"9\": 5, \"1\": 2}, \"6\": {\"6\": 921, \"10\": 67, \"15\": 25, \"9\": 138, \"0\": 18, \"13\": 5, \"8\": 25, \"5\": 1}, \"11\": {\"11\": 1194, \"12\": 6}, \"15\": {\"8\": 88, \"6\": 30, \"9\": 360, \"15\": 492, \"13\": 53, \"2\": 29, \"5\": 128, \"10\": 8, \"0\": 3, \"7\": 8, \"4\": 1}, \"1\": {\"1\": 784, \"14\": 206, \"4\": 129, \"0\": 26, \"10\": 37, \"7\": 14, \"8\": 3, \"3\": 1}}, \"ORACLE.run1_44\": {\"12\": {\"10\": 53, \"12\": 953, \"1\": 183, \"3\": 11}, \"7\": {\"7\": 826, \"2\": 145, \"9\": 198, \"6\": 27, \"1\": 2, \"13\": 2}, \"5\": {\"5\": 1032, \"14\": 34, \"0\": 91, \"15\": 32, \"8\": 7, \"4\": 4}, \"15\": {\"15\": 990, \"14\": 80, \"0\": 71, \"8\": 21, \"5\": 33, \"4\": 5}, \"8\": {\"8\": 742, \"0\": 409, \"15\": 32, \"5\": 17}, \"2\": {\"2\": 933, \"7\": 172, \"1\": 34, \"10\": 58, \"3\": 3}, \"13\": {\"13\": 796, \"9\": 126, \"6\": 229, \"11\": 45, \"7\": 2, \"4\": 2}, \"4\": {\"4\": 879, \"14\": 310, \"15\": 6, \"13\": 4, \"5\": 1}, \"0\": {\"0\": 777, \"5\": 64, \"8\": 296, \"15\": 63}, \"6\": {\"6\": 848, \"13\": 199, \"7\": 24, \"9\": 121, \"11\": 5, \"2\": 3}, \"9\": {\"13\": 135, \"9\": 690, \"7\": 255, \"6\": 112, \"2\": 6, \"1\": 1, \"4\": 1}, \"11\": {\"11\": 1117, \"13\": 63, \"6\": 20}, \"10\": {\"10\": 910, \"2\": 103, \"12\": 63, \"1\": 121, \"7\": 3}, \"14\": {\"14\": 767, \"4\": 335, \"15\": 66, \"5\": 31, \"0\": 1}, \"1\": {\"10\": 88, \"1\": 759, \"12\": 172, \"2\": 48, \"3\": 132, \"7\": 1}, \"3\": {\"3\": 1048, \"1\": 139, \"12\": 11, \"2\": 2}}, \"CORES_3\": {\"43\": {\"43\": 12}, \"9\": {\"9\": 12}, \"6\": {\"6\": 10}, \"3\": {\"3\": 11, \"50\": 1}, \"16\": {\"16\": 12}, \"51\": {\"51\": 12}, \"31\": {\"31\": 12}, \"46\": {\"46\": 9, \"8\": 1}, \"19\": {\"19\": 8}, \"8\": {\"8\": 12}, \"18\": {\"18\": 12}, \"37\": {\"37\": 12}, \"24\": {\"24\": 12}, \"10\": {\"10\": 12}, \"44\": {\"44\": 10}, \"14\": {\"14\": 5, \"22\": 1, \"35\": 1, \"29\": 2, \"1\": 1, \"34\": 2}, \"38\": {\"38\": 10}, \"53\": {\"53\": 12}, \"20\": {\"20\": 12}, \"32\": {\"32\": 12}, \"36\": {\"36\": 10}, \"33\": {\"33\": 12}, \"56\": {\"56\": 12}, \"23\": {\"23\": 12}, \"54\": {\"54\": 10}, \"34\": {\"34\": 12}, \"13\": {\"13\": 12}, \"2\": {\"2\": 12}, \"55\": {\"55\": 10}, \"21\": {\"21\": 10}, \"49\": {\"49\": 10}, \"25\": {\"25\": 12}, \"5\": {\"5\": 11, \"47\": 1}, \"50\": {\"25\": 1, \"50\": 7}, \"40\": {\"40\": 12}, \"57\": {\"57\": 7, \"1\": 1}, \"22\": {\"22\": 10}, \"1\": {\"1\": 10}, \"17\": {\"17\": 12}, \"41\": {\"41\": 12}, \"4\": {\"4\": 10}, \"7\": {\"7\": 10}, \"26\": {\"26\": 10}, \"29\": {\"29\": 12}, \"52\": {\"52\": 12}, \"15\": {\"15\": 12}, \"35\": {\"35\": 12}, \"42\": {\"42\": 12}, \"30\": {\"30\": 10}, \"27\": {\"27\": 8}, \"45\": {\"45\": 10}, \"0\": {\"0\": 12}, \"28\": {\"28\": 12}, \"47\": {\"47\": 12}, \"11\": {\"11\": 10}, \"39\": {\"39\": 10}, \"48\": {\"48\": 12}, \"12\": {\"12\": 8}}, \"CORES_4\": {\"35\": {\"35\": 10}, \"25\": {\"25\": 12}, \"24\": {\"24\": 10}, \"48\": {\"48\": 12}, \"51\": {\"51\": 12}, \"13\": {\"13\": 12}, \"14\": {\"14\": 6, \"56\": 2}, \"32\": {\"32\": 12}, \"30\": {\"30\": 12}, \"34\": {\"34\": 10}, \"9\": {\"9\": 12}, \"1\": {\"1\": 12}, \"0\": {\"32\": 2, \"0\": 10}, \"38\": {\"38\": 12}, \"22\": {\"22\": 8}, \"40\": {\"40\": 12}, \"39\": {\"39\": 12}, \"46\": {\"46\": 11, \"39\": 1}, \"36\": {\"36\": 12}, \"50\": {\"50\": 11, \"21\": 1}, \"49\": {\"49\": 12}, \"17\": {\"17\": 12}, \"45\": {\"45\": 12}, \"6\": {\"6\": 11, \"51\": 1}, \"8\": {\"8\": 12}, \"5\": {\"5\": 10}, \"33\": {\"33\": 12}, \"31\": {\"31\": 12}, \"37\": {\"37\": 10}, \"47\": {\"47\": 8}, \"15\": {\"15\": 10}, \"7\": {\"7\": 12}, \"20\": {\"20\": 12}, \"4\": {\"4\": 12}, \"54\": {\"54\": 12}, \"44\": {\"19\": 1, \"44\": 11}, \"3\": {\"25\": 1, \"3\": 9, \"21\": 1, \"8\": 1}, \"11\": {\"11\": 10}, \"27\": {\"27\": 10}, \"19\": {\"19\": 12}, \"55\": {\"55\": 12}, \"16\": {\"16\": 12}, \"2\": {\"2\": 10}, \"52\": {\"52\": 10}, \"42\": {\"42\": 10}, \"26\": {\"26\": 12}, \"10\": {\"10\": 12}, \"53\": {\"53\": 10}, \"28\": {\"28\": 12}, \"21\": {\"21\": 10}, \"57\": {\"57\": 10}, \"23\": {\"23\": 8}, \"43\": {\"43\": 10}, \"12\": {\"12\": 12}, \"41\": {\"41\": 12}, \"56\": {\"56\": 8}, \"18\": {\"18\": 10}, \"29\": {\"29\": 8}}, \"CORES_5\": {\"47\": {\"47\": 10}, \"53\": {\"53\": 12}, \"29\": {\"29\": 12}, \"52\": {\"52\": 12}, \"55\": {\"55\": 12}, \"17\": {\"17\": 12}, \"42\": {\"42\": 12}, \"33\": {\"33\": 10}, \"11\": {\"11\": 12}, \"19\": {\"19\": 8}, \"1\": {\"1\": 12}, \"44\": {\"44\": 11, \"19\": 1}, \"49\": {\"49\": 12}, \"4\": {\"4\": 12}, \"6\": {\"6\": 12}, \"39\": {\"39\": 12}, \"13\": {\"13\": 12}, \"5\": {\"5\": 10}, \"16\": {\"16\": 10}, \"25\": {\"25\": 12}, \"45\": {\"45\": 10, \"55\": 1, \"17\": 1}, \"7\": {\"7\": 10}, \"22\": {\"22\": 12}, \"40\": {\"40\": 12}, \"38\": {\"38\": 12}, \"35\": {\"35\": 8}, \"56\": {\"56\": 12}, \"50\": {\"50\": 8, \"7\": 1, \"21\": 1}, \"0\": {\"0\": 12}, \"10\": {\"10\": 12}, \"27\": {\"27\": 12}, \"20\": {\"20\": 10}, \"36\": {\"36\": 8}, \"34\": {\"34\": 10, \"40\": 2}, \"30\": {\"30\": 12}, \"2\": {\"2\": 10}, \"15\": {\"15\": 12}, \"18\": {\"18\": 12}, \"32\": {\"32\": 11, \"27\": 1}, \"31\": {\"31\": 12}, \"57\": {\"57\": 12}, \"48\": {\"48\": 8}, \"28\": {\"28\": 10}, \"14\": {\"14\": 3, \"28\": 2, \"36\": 2, \"29\": 2, \"46\": 3}, \"3\": {\"3\": 11, \"49\": 1}, \"8\": {\"8\": 12}, \"9\": {\"9\": 12}, \"21\": {\"21\": 9, \"50\": 1}, \"41\": {\"41\": 11, \"30\": 1}, \"24\": {\"24\": 12}, \"46\": {\"46\": 10}, \"43\": {\"43\": 10}, \"54\": {\"54\": 10}, \"23\": {\"23\": 10}, \"37\": {\"37\": 10}, \"12\": {\"12\": 5, \"56\": 1, \"7\": 2, \"53\": 2}, \"26\": {\"26\": 10}, \"51\": {\"51\": 6}}, \"CORES_1\": {\"46\": {\"51\": 2, \"46\": 8, \"41\": 2}, \"16\": {\"16\": 12}, \"26\": {\"26\": 12}, \"10\": {\"10\": 12}, \"9\": {\"9\": 10}, \"28\": {\"28\": 12}, \"51\": {\"51\": 11, \"41\": 1}, \"1\": {\"1\": 12}, \"55\": {\"55\": 12}, \"27\": {\"27\": 10}, \"22\": {\"10\": 3, \"22\": 5, \"52\": 2, \"24\": 1, \"21\": 1}, \"52\": {\"52\": 12}, \"3\": {\"3\": 12}, \"33\": {\"33\": 8}, \"47\": {\"47\": 12}, \"42\": {\"42\": 12}, \"12\": {\"12\": 4}, \"23\": {\"23\": 12}, \"49\": {\"49\": 10}, \"7\": {\"7\": 12}, \"4\": {\"4\": 12}, \"50\": {\"50\": 12}, \"19\": {\"19\": 12}, \"11\": {\"11\": 12}, \"31\": {\"31\": 10}, \"41\": {\"41\": 11, \"51\": 1}, \"56\": {\"56\": 8, \"44\": 1, \"29\": 1}, \"0\": {\"0\": 12}, \"57\": {\"57\": 9, \"1\": 2, \"19\": 1}, \"53\": {\"53\": 12}, \"43\": {\"43\": 12}, \"37\": {\"37\": 12}, \"2\": {\"2\": 8}, \"6\": {\"6\": 12}, \"18\": {\"18\": 12}, \"38\": {\"38\": 12}, \"15\": {\"15\": 12}, \"36\": {\"36\": 12}, \"39\": {\"39\": 8}, \"44\": {\"44\": 9, \"56\": 1, \"35\": 2}, \"8\": {\"8\": 12}, \"17\": {\"17\": 10}, \"5\": {\"5\": 12}, \"13\": {\"13\": 10}, \"40\": {\"40\": 7, \"35\": 1, \"4\": 2}, \"29\": {\"29\": 12}, \"48\": {\"48\": 12}, \"32\": {\"32\": 12}, \"30\": {\"7\": 1, \"30\": 10, \"14\": 1}, \"35\": {\"35\": 12}, \"25\": {\"25\": 12}, \"14\": {\"14\": 1, \"53\": 1, \"51\": 1, \"5\": 2, \"25\": 1, \"41\": 3, \"30\": 1, \"7\": 1, \"18\": 1}, \"54\": {\"54\": 10}, \"20\": {\"20\": 8}, \"21\": {\"21\": 10}, \"45\": {\"45\": 8}, \"24\": {\"24\": 8}, \"34\": {\"34\": 8}}, \"CORES_2\": {\"14\": {\"14\": 7, \"22\": 2, \"1\": 2, \"42\": 1}, \"22\": {\"22\": 12}, \"9\": {\"9\": 12}, \"47\": {\"47\": 12}, \"13\": {\"13\": 12}, \"8\": {\"8\": 12}, \"7\": {\"7\": 12}, \"49\": {\"49\": 12}, \"20\": {\"20\": 12}, \"16\": {\"16\": 12}, \"34\": {\"34\": 12}, \"56\": {\"56\": 12}, \"38\": {\"38\": 10}, \"4\": {\"4\": 12}, \"43\": {\"43\": 10}, \"26\": {\"26\": 10}, \"35\": {\"35\": 12}, \"31\": {\"31\": 12}, \"1\": {\"1\": 12}, \"39\": {\"39\": 12}, \"5\": {\"5\": 11, \"47\": 1}, \"24\": {\"24\": 12}, \"54\": {\"54\": 10}, \"23\": {\"23\": 12}, \"51\": {\"51\": 12}, \"27\": {\"27\": 10}, \"15\": {\"15\": 12}, \"0\": {\"0\": 12}, \"19\": {\"19\": 10}, \"18\": {\"18\": 8}, \"30\": {\"30\": 12}, \"55\": {\"55\": 10}, \"57\": {\"57\": 12}, \"2\": {\"2\": 12}, \"12\": {\"12\": 8}, \"41\": {\"41\": 12}, \"42\": {\"42\": 12}, \"48\": {\"48\": 12}, \"37\": {\"37\": 12}, \"6\": {\"6\": 10}, \"11\": {\"11\": 10}, \"45\": {\"45\": 8}, \"21\": {\"21\": 12}, \"46\": {\"46\": 10}, \"25\": {\"25\": 12}, \"36\": {\"36\": 10}, \"53\": {\"53\": 12}, \"28\": {\"28\": 12}, \"40\": {\"40\": 10}, \"33\": {\"33\": 10}, \"44\": {\"44\": 10}, \"3\": {\"3\": 12}, \"17\": {\"17\": 12}, \"32\": {\"32\": 10}, \"10\": {\"10\": 10}, \"52\": {\"52\": 10}, \"50\": {\"50\": 7, \"25\": 1}, \"29\": {\"29\": 6}}}, \"per_domain_accuracy\": {\"ORACLE.run1_14\": {\"accuracy\": 0.83546875, \"source?\": true}, \"ORACLE.run1_20\": {\"accuracy\": 0.6979166666666666, \"source?\": true}, \"ORACLE.run1_38\": {\"accuracy\": 0.8092708333333334, \"source?\": true}, \"ORACLE.run1_8\": {\"accuracy\": 0.71546875, \"source?\": true}, \"ORACLE.run1_50\": {\"accuracy\": 0.795, \"source?\": true}, \"ORACLE.run1_32\": {\"accuracy\": 0.7834375, \"source?\": true}, \"ORACLE.run1_26\": {\"accuracy\": 0.58140625, \"source?\": true}, \"ORACLE.run1_44\": {\"accuracy\": 0.73265625, \"source?\": true}, \"CORES_3\": {\"accuracy\": 0.98125, \"source?\": false}, \"CORES_4\": {\"accuracy\": 0.9828125, \"source?\": false}, \"CORES_5\": {\"accuracy\": 0.9609375, \"source?\": false}, \"CORES_1\": {\"accuracy\": 0.9421875, \"source?\": false}, \"CORES_2\": {\"accuracy\": 0.9890625, \"source?\": false}}}, \"history\": {\"epoch_indices\": [1, 2, 3, 4, 5, 6, 7, 8, 9, 10, 11], \"train_label_loss\": [1.035368621344013, 0.8978212289383546, 0.7201880371787895, 0.6274853551425483, 0.5772836564726285, 0.534029511070389, 0.49871631858637555, 0.46055804972259684, 0.4246456624435017, 0.3996340200181363, 0.3802579119522125], \"source_val_label_loss\": [38.27094650268555, 0.8192992806434631, 0.7305553555488586, 0.7140739560127258, 0.7206615805625916, 0.7213422060012817, 0.7123614549636841, 0.7351930141448975, 0.7623116374015808, 0.7615054845809937, 0.7620297074317932], \"target_val_label_loss\": [415.18212890625, 22.803884506225586, 16.20535659790039, 45.617645263671875, 65.04560852050781, 124.6513671875, 1.3266644477844238, 70.86514282226562, 159.2329559326172, 103.50712585449219, 8.991894721984863], \"source_val_acc_label\": [0.6216341145833333, 0.6965690104166666, 0.7301041666666667, 0.7428971354166667, 0.7401953125, 0.7412890625, 0.743828125, 0.7358723958333333, 0.73642578125, 0.7392903645833333, 0.7341015625], \"target_val_acc_label\": [0.6565625, 0.89375, 0.9384375, 0.8559375, 0.8215625, 0.7178125, 0.97125, 0.8634375, 0.756875, 0.8071875, 0.9534375]}, \"dataset_metrics\": {\"source\": {\"train\": {\"n_unique_x\": 896000, \"n_unique_y\": 16, \"n_batch/episode\": 33600}, \"val\": {\"n_unique_x\": 192000, \"n_unique_y\": 16, \"n_batch/episode\": 4800}, \"test\": {\"n_unique_x\": 192000, \"n_unique_y\": 16, \"n_batch/episode\": 4800}}, \"target\": {\"train\": {\"n_unique_x\": 20300, \"n_unique_y\": 58, \"n_batch/episode\": 733}, \"val\": {\"n_unique_x\": 4332, \"n_unique_y\": 58, \"n_batch/episode\": 100}, \"test\": {\"n_unique_x\": 4332, \"n_unique_y\": 58, \"n_batch/episode\": 100}}}}'"
      ]
     },
     "execution_count": 29,
     "metadata": {},
     "output_type": "execute_result"
    }
   ],
   "source": [
    "json.dumps(experiment)"
   ]
  }
 ],
 "metadata": {
  "celltoolbar": "Tags",
  "kernelspec": {
   "display_name": "Python 3 (ipykernel)",
   "language": "python",
   "name": "python3"
  },
  "language_info": {
   "codemirror_mode": {
    "name": "ipython",
    "version": 3
   },
   "file_extension": ".py",
   "mimetype": "text/x-python",
   "name": "python",
   "nbconvert_exporter": "python",
   "pygments_lexer": "ipython3",
   "version": "3.8.10"
  },
  "papermill": {
   "default_parameters": {},
   "duration": 10219.313843,
   "end_time": "2022-03-13T22:32:04.472856",
   "environment_variables": {},
   "exception": null,
   "input_path": "/mnt/wd500GB/CSC500/csc500-main/csc500-notebooks/templates/tl_ptn_template.ipynb",
   "output_path": "trial.ipynb",
   "parameters": {
    "parameters": {
     "BEST_MODEL_PATH": "./best_model.pth",
     "NUM_LOGS_PER_EPOCH": 10,
     "criteria_for_best": "target_loss",
     "dataset_seed": 1337,
     "datasets": [
      {
       "domain_prefix": "CORES_",
       "domains": [
        1,
        2,
        3,
        4,
        5
       ],
       "episode_transforms": [],
       "labels": [
        "1-10.",
        "1-11.",
        "1-15.",
        "1-16.",
        "1-17.",
        "1-18.",
        "1-19.",
        "10-4.",
        "10-7.",
        "11-1.",
        "11-14.",
        "11-17.",
        "11-20.",
        "11-7.",
        "13-20.",
        "13-8.",
        "14-10.",
        "14-11.",
        "14-14.",
        "14-7.",
        "15-1.",
        "15-20.",
        "16-1.",
        "16-16.",
        "17-10.",
        "17-11.",
        "17-2.",
        "19-1.",
        "19-16.",
        "19-19.",
        "19-20.",
        "19-3.",
        "2-10.",
        "2-11.",
        "2-17.",
        "2-18.",
        "2-20.",
        "2-3.",
        "2-4.",
        "2-5.",
        "2-6.",
        "2-7.",
        "2-8.",
        "3-13.",
        "3-18.",
        "3-3.",
        "4-1.",
        "4-10.",
        "4-11.",
        "4-19.",
        "5-5.",
        "6-15.",
        "7-10.",
        "7-14.",
        "8-18.",
        "8-20.",
        "8-3.",
        "8-8."
       ],
       "num_examples_per_domain_per_label": 100,
       "pickle_path": "/mnt/wd500GB/CSC500/csc500-main/datasets/cores.stratified_ds.2022A.pkl",
       "source_or_target_dataset": "target",
       "x_transforms": [
        "unit_power"
       ]
      },
      {
       "domain_prefix": "ORACLE.run1_",
       "domains": [
        32,
        38,
        8,
        44,
        14,
        50,
        20,
        26
       ],
       "episode_transforms": [],
       "labels": [
        "3123D52",
        "3123D65",
        "3123D79",
        "3123D80",
        "3123D54",
        "3123D70",
        "3123D7B",
        "3123D89",
        "3123D58",
        "3123D76",
        "3123D7D",
        "3123EFE",
        "3123D64",
        "3123D78",
        "3123D7E",
        "3124E4A"
       ],
       "num_examples_per_domain_per_label": 10000,
       "pickle_path": "/mnt/wd500GB/CSC500/csc500-main/datasets/oracle.Run1_10kExamples_stratified_ds.2022A.pkl",
       "source_or_target_dataset": "source",
       "x_transforms": [
        "unit_power"
       ]
      }
     ],
     "device": "cuda",
     "experiment_name": "tl_1_cores-oracle.run1",
     "lr": 0.001,
     "n_epoch": 50,
     "n_query": 2,
     "n_shot": 3,
     "n_way": 16,
     "patience": 3,
     "seed": 1337,
     "test_k_factor": 2,
     "torch_default_dtype": "torch.float32",
     "train_k_factor": 3,
     "val_k_factor": 2,
     "x_net": [
      {
       "class": "nnReshape",
       "kargs": {
        "shape": [
         -1,
         1,
         2,
         256
        ]
       }
      },
      {
       "class": "Conv2d",
       "kargs": {
        "bias": false,
        "in_channels": 1,
        "kernel_size": [
         1,
         7
        ],
        "out_channels": 256,
        "padding": [
         0,
         3
        ]
       }
      },
      {
       "class": "ReLU",
       "kargs": {
        "inplace": true
       }
      },
      {
       "class": "BatchNorm2d",
       "kargs": {
        "num_features": 256
       }
      },
      {
       "class": "Conv2d",
       "kargs": {
        "bias": true,
        "in_channels": 256,
        "kernel_size": [
         2,
         7
        ],
        "out_channels": 80,
        "padding": [
         0,
         3
        ]
       }
      },
      {
       "class": "ReLU",
       "kargs": {
        "inplace": true
       }
      },
      {
       "class": "BatchNorm2d",
       "kargs": {
        "num_features": 80
       }
      },
      {
       "class": "Flatten",
       "kargs": {}
      },
      {
       "class": "Linear",
       "kargs": {
        "in_features": 20480,
        "out_features": 256
       }
      },
      {
       "class": "ReLU",
       "kargs": {
        "inplace": true
       }
      },
      {
       "class": "BatchNorm1d",
       "kargs": {
        "num_features": 256
       }
      },
      {
       "class": "Linear",
       "kargs": {
        "in_features": 256,
        "out_features": 256
       }
      }
     ]
    }
   },
   "start_time": "2022-03-13T19:41:45.159013",
   "version": "2.3.4"
  }
 },
 "nbformat": 4,
 "nbformat_minor": 5
}