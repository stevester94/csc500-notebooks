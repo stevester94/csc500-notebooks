{
 "cells": [
  {
   "cell_type": "markdown",
   "id": "9fea5f46",
   "metadata": {
    "papermill": {
     "duration": 0.017724,
     "end_time": "2022-03-13T19:18:18.087553",
     "exception": false,
     "start_time": "2022-03-13T19:18:18.069829",
     "status": "completed"
    },
    "tags": []
   },
   "source": [
    "# Transfer Learning Template"
   ]
  },
  {
   "cell_type": "code",
   "execution_count": 1,
   "id": "0902182a",
   "metadata": {
    "execution": {
     "iopub.execute_input": "2022-03-13T19:18:18.127476Z",
     "iopub.status.busy": "2022-03-13T19:18:18.126972Z",
     "iopub.status.idle": "2022-03-13T19:18:19.014854Z",
     "shell.execute_reply": "2022-03-13T19:18:19.015082Z"
    },
    "papermill": {
     "duration": 0.915013,
     "end_time": "2022-03-13T19:18:19.015199",
     "exception": false,
     "start_time": "2022-03-13T19:18:18.100186",
     "status": "completed"
    },
    "tags": []
   },
   "outputs": [],
   "source": [
    "%load_ext autoreload\n",
    "%autoreload 2\n",
    "%matplotlib inline\n",
    "\n",
    "    \n",
    "import os, json, sys, time, random\n",
    "import numpy as np\n",
    "import torch\n",
    "from torch.optim import Adam\n",
    "from  easydict import EasyDict\n",
    "import matplotlib.pyplot as plt\n",
    "\n",
    "from steves_models.steves_ptn import Steves_Prototypical_Network\n",
    "\n",
    "from steves_utils.lazy_iterable_wrapper import Lazy_Iterable_Wrapper\n",
    "from steves_utils.iterable_aggregator import Iterable_Aggregator\n",
    "from steves_utils.ptn_train_eval_test_jig import  PTN_Train_Eval_Test_Jig\n",
    "from steves_utils.torch_sequential_builder import build_sequential\n",
    "from steves_utils.torch_utils import get_dataset_metrics, ptn_confusion_by_domain_over_dataloader\n",
    "from steves_utils.utils_v2 import (per_domain_accuracy_from_confusion, get_datasets_base_path)\n",
    "from steves_utils.PTN.utils import independent_accuracy_assesment\n",
    "\n",
    "from torch.utils.data import DataLoader\n",
    "\n",
    "from steves_utils.stratified_dataset.episodic_accessor import Episodic_Accessor_Factory\n",
    "\n",
    "from steves_utils.ptn_do_report import (\n",
    "    get_loss_curve,\n",
    "    get_results_table,\n",
    "    get_parameters_table,\n",
    "    get_domain_accuracies,\n",
    ")\n",
    "\n",
    "from steves_utils.transforms import get_chained_transform"
   ]
  },
  {
   "cell_type": "markdown",
   "id": "41c840b4",
   "metadata": {
    "papermill": {
     "duration": 0.013167,
     "end_time": "2022-03-13T19:18:19.046725",
     "exception": false,
     "start_time": "2022-03-13T19:18:19.033558",
     "status": "completed"
    },
    "tags": []
   },
   "source": [
    "# Allowed Parameters\n",
    "These are allowed parameters, not defaults\n",
    "Each of these values need to be present in the injected parameters (the notebook will raise an exception if they are not present)\n",
    "\n",
    "Papermill uses the cell tag \"parameters\" to inject the real parameters below this cell.\n",
    "Enable tags to see what I mean"
   ]
  },
  {
   "cell_type": "code",
   "execution_count": 2,
   "id": "fd44eb83",
   "metadata": {
    "execution": {
     "iopub.execute_input": "2022-03-13T19:18:19.075033Z",
     "iopub.status.busy": "2022-03-13T19:18:19.074765Z",
     "iopub.status.idle": "2022-03-13T19:18:19.085696Z",
     "shell.execute_reply": "2022-03-13T19:18:19.085912Z"
    },
    "papermill": {
     "duration": 0.026165,
     "end_time": "2022-03-13T19:18:19.085980",
     "exception": false,
     "start_time": "2022-03-13T19:18:19.059815",
     "status": "completed"
    },
    "tags": []
   },
   "outputs": [],
   "source": [
    "required_parameters = {\n",
    "    \"experiment_name\",\n",
    "    \"lr\",\n",
    "    \"device\",\n",
    "    \"seed\",\n",
    "    \"dataset_seed\",\n",
    "    \"n_shot\",\n",
    "    \"n_query\",\n",
    "    \"n_way\",\n",
    "    \"train_k_factor\",\n",
    "    \"val_k_factor\",\n",
    "    \"test_k_factor\",\n",
    "    \"n_epoch\",\n",
    "    \"patience\",\n",
    "    \"criteria_for_best\",\n",
    "    \"x_net\",\n",
    "    \"datasets\",\n",
    "    \"torch_default_dtype\",\n",
    "    \"NUM_LOGS_PER_EPOCH\",\n",
    "    \"BEST_MODEL_PATH\",\n",
    "}"
   ]
  },
  {
   "cell_type": "code",
   "execution_count": 3,
   "id": "fa3f0049",
   "metadata": {
    "execution": {
     "iopub.execute_input": "2022-03-13T19:18:19.119001Z",
     "iopub.status.busy": "2022-03-13T19:18:19.118712Z",
     "iopub.status.idle": "2022-03-13T19:18:19.131176Z",
     "shell.execute_reply": "2022-03-13T19:18:19.130959Z"
    },
    "papermill": {
     "duration": 0.031839,
     "end_time": "2022-03-13T19:18:19.131235",
     "exception": false,
     "start_time": "2022-03-13T19:18:19.099396",
     "status": "completed"
    },
    "tags": [
     "parameters"
    ]
   },
   "outputs": [],
   "source": [
    "from steves_utils.CORES.utils import (\n",
    "    ALL_NODES,\n",
    "    ALL_NODES_MINIMUM_1000_EXAMPLES,\n",
    "    ALL_DAYS\n",
    ")\n",
    "\n",
    "from steves_utils.ORACLE.utils_v2 import (\n",
    "    ALL_DISTANCES_FEET_NARROWED,\n",
    "    ALL_RUNS,\n",
    "    ALL_SERIAL_NUMBERS,\n",
    ")\n",
    "\n",
    "standalone_parameters = {}\n",
    "standalone_parameters[\"experiment_name\"] = \"STANDALONE PTN\"\n",
    "standalone_parameters[\"lr\"] = 0.001\n",
    "standalone_parameters[\"device\"] = \"cuda\"\n",
    "\n",
    "standalone_parameters[\"seed\"] = 1337\n",
    "standalone_parameters[\"dataset_seed\"] = 1337\n",
    "\n",
    "standalone_parameters[\"n_way\"] = 8\n",
    "standalone_parameters[\"n_shot\"] = 3\n",
    "standalone_parameters[\"n_query\"]  = 2\n",
    "standalone_parameters[\"train_k_factor\"] = 1\n",
    "standalone_parameters[\"val_k_factor\"] = 2\n",
    "standalone_parameters[\"test_k_factor\"] = 2\n",
    "\n",
    "\n",
    "standalone_parameters[\"n_epoch\"] = 50\n",
    "\n",
    "standalone_parameters[\"patience\"] = 10\n",
    "standalone_parameters[\"criteria_for_best\"] = \"source_loss\"\n",
    "\n",
    "standalone_parameters[\"datasets\"] = [\n",
    "    {\n",
    "        \"labels\": ALL_SERIAL_NUMBERS,\n",
    "        \"domains\": ALL_DISTANCES_FEET_NARROWED,\n",
    "        \"num_examples_per_domain_per_label\": 100,\n",
    "        \"pickle_path\": os.path.join(get_datasets_base_path(), \"oracle.Run1_framed_2000Examples_stratified_ds.2022A.pkl\"),\n",
    "        \"source_or_target_dataset\": \"source\",\n",
    "        \"x_transforms\": [\"unit_mag\", \"minus_two\"],\n",
    "        \"episode_transforms\": [],\n",
    "        \"domain_prefix\": \"ORACLE_\"\n",
    "    },\n",
    "    {\n",
    "        \"labels\": ALL_NODES,\n",
    "        \"domains\": ALL_DAYS,\n",
    "        \"num_examples_per_domain_per_label\": 100,\n",
    "        \"pickle_path\": os.path.join(get_datasets_base_path(), \"cores.stratified_ds.2022A.pkl\"),\n",
    "        \"source_or_target_dataset\": \"target\",\n",
    "        \"x_transforms\": [\"unit_power\", \"times_zero\"],\n",
    "        \"episode_transforms\": [],\n",
    "        \"domain_prefix\": \"CORES_\"\n",
    "    }   \n",
    "]\n",
    "\n",
    "standalone_parameters[\"torch_default_dtype\"] = \"torch.float32\" \n",
    "\n",
    "\n",
    "\n",
    "standalone_parameters[\"x_net\"] =     [\n",
    "    {\"class\": \"nnReshape\", \"kargs\": {\"shape\":[-1, 1, 2, 256]}},\n",
    "    {\"class\": \"Conv2d\", \"kargs\": { \"in_channels\":1, \"out_channels\":256, \"kernel_size\":(1,7), \"bias\":False, \"padding\":(0,3), },},\n",
    "    {\"class\": \"ReLU\", \"kargs\": {\"inplace\": True}},\n",
    "    {\"class\": \"BatchNorm2d\", \"kargs\": {\"num_features\":256}},\n",
    "\n",
    "    {\"class\": \"Conv2d\", \"kargs\": { \"in_channels\":256, \"out_channels\":80, \"kernel_size\":(2,7), \"bias\":True, \"padding\":(0,3), },},\n",
    "    {\"class\": \"ReLU\", \"kargs\": {\"inplace\": True}},\n",
    "    {\"class\": \"BatchNorm2d\", \"kargs\": {\"num_features\":80}},\n",
    "    {\"class\": \"Flatten\", \"kargs\": {}},\n",
    "\n",
    "    {\"class\": \"Linear\", \"kargs\": {\"in_features\": 80*256, \"out_features\": 256}}, # 80 units per IQ pair\n",
    "    {\"class\": \"ReLU\", \"kargs\": {\"inplace\": True}},\n",
    "    {\"class\": \"BatchNorm1d\", \"kargs\": {\"num_features\":256}},\n",
    "\n",
    "    {\"class\": \"Linear\", \"kargs\": {\"in_features\": 256, \"out_features\": 256}},\n",
    "]\n",
    "\n",
    "# Parameters relevant to results\n",
    "# These parameters will basically never need to change\n",
    "standalone_parameters[\"NUM_LOGS_PER_EPOCH\"] = 10\n",
    "standalone_parameters[\"BEST_MODEL_PATH\"] = \"./best_model.pth\"\n",
    "\n",
    "\n",
    "\n",
    "\n"
   ]
  },
  {
   "cell_type": "code",
   "execution_count": 4,
   "id": "c175ebcd",
   "metadata": {
    "execution": {
     "iopub.execute_input": "2022-03-13T19:18:19.167102Z",
     "iopub.status.busy": "2022-03-13T19:18:19.164562Z",
     "iopub.status.idle": "2022-03-13T19:18:19.181312Z",
     "shell.execute_reply": "2022-03-13T19:18:19.181085Z"
    },
    "papermill": {
     "duration": 0.036686,
     "end_time": "2022-03-13T19:18:19.181367",
     "exception": false,
     "start_time": "2022-03-13T19:18:19.144681",
     "status": "completed"
    },
    "tags": [
     "injected-parameters"
    ]
   },
   "outputs": [],
   "source": [
    "# Parameters\n",
    "parameters = {\n",
    "    \"experiment_name\": \"tl_1_cores-oracle.run1\",\n",
    "    \"device\": \"cuda\",\n",
    "    \"lr\": 0.001,\n",
    "    \"seed\": 1337,\n",
    "    \"dataset_seed\": 1337,\n",
    "    \"n_shot\": 3,\n",
    "    \"n_query\": 2,\n",
    "    \"train_k_factor\": 3,\n",
    "    \"val_k_factor\": 2,\n",
    "    \"test_k_factor\": 2,\n",
    "    \"torch_default_dtype\": \"torch.float32\",\n",
    "    \"n_epoch\": 50,\n",
    "    \"patience\": 3,\n",
    "    \"criteria_for_best\": \"target_loss\",\n",
    "    \"x_net\": [\n",
    "        {\"class\": \"nnReshape\", \"kargs\": {\"shape\": [-1, 1, 2, 256]}},\n",
    "        {\n",
    "            \"class\": \"Conv2d\",\n",
    "            \"kargs\": {\n",
    "                \"in_channels\": 1,\n",
    "                \"out_channels\": 256,\n",
    "                \"kernel_size\": [1, 7],\n",
    "                \"bias\": False,\n",
    "                \"padding\": [0, 3],\n",
    "            },\n",
    "        },\n",
    "        {\"class\": \"ReLU\", \"kargs\": {\"inplace\": True}},\n",
    "        {\"class\": \"BatchNorm2d\", \"kargs\": {\"num_features\": 256}},\n",
    "        {\n",
    "            \"class\": \"Conv2d\",\n",
    "            \"kargs\": {\n",
    "                \"in_channels\": 256,\n",
    "                \"out_channels\": 80,\n",
    "                \"kernel_size\": [2, 7],\n",
    "                \"bias\": True,\n",
    "                \"padding\": [0, 3],\n",
    "            },\n",
    "        },\n",
    "        {\"class\": \"ReLU\", \"kargs\": {\"inplace\": True}},\n",
    "        {\"class\": \"BatchNorm2d\", \"kargs\": {\"num_features\": 80}},\n",
    "        {\"class\": \"Flatten\", \"kargs\": {}},\n",
    "        {\"class\": \"Linear\", \"kargs\": {\"in_features\": 20480, \"out_features\": 256}},\n",
    "        {\"class\": \"ReLU\", \"kargs\": {\"inplace\": True}},\n",
    "        {\"class\": \"BatchNorm1d\", \"kargs\": {\"num_features\": 256}},\n",
    "        {\"class\": \"Linear\", \"kargs\": {\"in_features\": 256, \"out_features\": 256}},\n",
    "    ],\n",
    "    \"NUM_LOGS_PER_EPOCH\": 10,\n",
    "    \"BEST_MODEL_PATH\": \"./best_model.pth\",\n",
    "    \"n_way\": 16,\n",
    "    \"datasets\": [\n",
    "        {\n",
    "            \"labels\": [\n",
    "                \"1-10.\",\n",
    "                \"1-11.\",\n",
    "                \"1-15.\",\n",
    "                \"1-16.\",\n",
    "                \"1-17.\",\n",
    "                \"1-18.\",\n",
    "                \"1-19.\",\n",
    "                \"10-4.\",\n",
    "                \"10-7.\",\n",
    "                \"11-1.\",\n",
    "                \"11-14.\",\n",
    "                \"11-17.\",\n",
    "                \"11-20.\",\n",
    "                \"11-7.\",\n",
    "                \"13-20.\",\n",
    "                \"13-8.\",\n",
    "                \"14-10.\",\n",
    "                \"14-11.\",\n",
    "                \"14-14.\",\n",
    "                \"14-7.\",\n",
    "                \"15-1.\",\n",
    "                \"15-20.\",\n",
    "                \"16-1.\",\n",
    "                \"16-16.\",\n",
    "                \"17-10.\",\n",
    "                \"17-11.\",\n",
    "                \"17-2.\",\n",
    "                \"19-1.\",\n",
    "                \"19-16.\",\n",
    "                \"19-19.\",\n",
    "                \"19-20.\",\n",
    "                \"19-3.\",\n",
    "                \"2-10.\",\n",
    "                \"2-11.\",\n",
    "                \"2-17.\",\n",
    "                \"2-18.\",\n",
    "                \"2-20.\",\n",
    "                \"2-3.\",\n",
    "                \"2-4.\",\n",
    "                \"2-5.\",\n",
    "                \"2-6.\",\n",
    "                \"2-7.\",\n",
    "                \"2-8.\",\n",
    "                \"3-13.\",\n",
    "                \"3-18.\",\n",
    "                \"3-3.\",\n",
    "                \"4-1.\",\n",
    "                \"4-10.\",\n",
    "                \"4-11.\",\n",
    "                \"4-19.\",\n",
    "                \"5-5.\",\n",
    "                \"6-15.\",\n",
    "                \"7-10.\",\n",
    "                \"7-14.\",\n",
    "                \"8-18.\",\n",
    "                \"8-20.\",\n",
    "                \"8-3.\",\n",
    "                \"8-8.\",\n",
    "            ],\n",
    "            \"domains\": [1, 2, 3, 4, 5],\n",
    "            \"num_examples_per_domain_per_label\": 100,\n",
    "            \"pickle_path\": \"/mnt/wd500GB/CSC500/csc500-main/datasets/cores.stratified_ds.2022A.pkl\",\n",
    "            \"source_or_target_dataset\": \"source\",\n",
    "            \"x_transforms\": [\"unit_mag\"],\n",
    "            \"episode_transforms\": [],\n",
    "            \"domain_prefix\": \"CORES_\",\n",
    "        },\n",
    "        {\n",
    "            \"labels\": [\n",
    "                \"3123D52\",\n",
    "                \"3123D65\",\n",
    "                \"3123D79\",\n",
    "                \"3123D80\",\n",
    "                \"3123D54\",\n",
    "                \"3123D70\",\n",
    "                \"3123D7B\",\n",
    "                \"3123D89\",\n",
    "                \"3123D58\",\n",
    "                \"3123D76\",\n",
    "                \"3123D7D\",\n",
    "                \"3123EFE\",\n",
    "                \"3123D64\",\n",
    "                \"3123D78\",\n",
    "                \"3123D7E\",\n",
    "                \"3124E4A\",\n",
    "            ],\n",
    "            \"domains\": [32, 38, 8, 44, 14, 50, 20, 26],\n",
    "            \"num_examples_per_domain_per_label\": 10000,\n",
    "            \"pickle_path\": \"/mnt/wd500GB/CSC500/csc500-main/datasets/oracle.Run1_10kExamples_stratified_ds.2022A.pkl\",\n",
    "            \"source_or_target_dataset\": \"target\",\n",
    "            \"x_transforms\": [\"unit_mag\"],\n",
    "            \"episode_transforms\": [],\n",
    "            \"domain_prefix\": \"ORACLE.run1_\",\n",
    "        },\n",
    "    ],\n",
    "}\n"
   ]
  },
  {
   "cell_type": "code",
   "execution_count": 5,
   "id": "8fa1cc33",
   "metadata": {
    "execution": {
     "iopub.execute_input": "2022-03-13T19:18:19.211265Z",
     "iopub.status.busy": "2022-03-13T19:18:19.211008Z",
     "iopub.status.idle": "2022-03-13T19:18:19.222061Z",
     "shell.execute_reply": "2022-03-13T19:18:19.221803Z"
    },
    "papermill": {
     "duration": 0.027208,
     "end_time": "2022-03-13T19:18:19.222115",
     "exception": false,
     "start_time": "2022-03-13T19:18:19.194907",
     "status": "completed"
    },
    "tags": []
   },
   "outputs": [],
   "source": [
    "# Set this to True if you want to run this template directly\n",
    "STANDALONE = False\n",
    "if STANDALONE:\n",
    "    print(\"parameters not injected, running with standalone_parameters\")\n",
    "    parameters = standalone_parameters\n",
    "\n",
    "if not 'parameters' in locals() and not 'parameters' in globals():\n",
    "    raise Exception(\"Parameter injection failed\")\n",
    "\n",
    "#Use an easy dict for all the parameters\n",
    "p = EasyDict(parameters)\n",
    "\n",
    "supplied_keys = set(p.keys())\n",
    "\n",
    "if  supplied_keys != required_parameters:\n",
    "    print(\"Parameters are incorrect\")\n",
    "    if len(supplied_keys - required_parameters)>0: print(\"Shouldn't have:\", str(supplied_keys - required_parameters))\n",
    "    if len(required_parameters - supplied_keys)>0: print(\"Need to have:\", str(required_parameters - supplied_keys))\n",
    "    raise RuntimeError(\"Parameters are incorrect\")\n",
    "\n"
   ]
  },
  {
   "cell_type": "code",
   "execution_count": 6,
   "id": "3a028d58",
   "metadata": {
    "execution": {
     "iopub.execute_input": "2022-03-13T19:18:19.251698Z",
     "iopub.status.busy": "2022-03-13T19:18:19.251444Z",
     "iopub.status.idle": "2022-03-13T19:18:19.266479Z",
     "shell.execute_reply": "2022-03-13T19:18:19.266213Z"
    },
    "papermill": {
     "duration": 0.030938,
     "end_time": "2022-03-13T19:18:19.266534",
     "exception": false,
     "start_time": "2022-03-13T19:18:19.235596",
     "status": "completed"
    },
    "tags": []
   },
   "outputs": [],
   "source": [
    "###################################\n",
    "# Set the RNGs and make it all deterministic\n",
    "###################################\n",
    "np.random.seed(p.seed)\n",
    "random.seed(p.seed)\n",
    "torch.manual_seed(p.seed)\n",
    "\n",
    "torch.use_deterministic_algorithms(True) "
   ]
  },
  {
   "cell_type": "code",
   "execution_count": 7,
   "id": "b691acf6",
   "metadata": {
    "execution": {
     "iopub.execute_input": "2022-03-13T19:18:19.296040Z",
     "iopub.status.busy": "2022-03-13T19:18:19.295785Z",
     "iopub.status.idle": "2022-03-13T19:18:19.309959Z",
     "shell.execute_reply": "2022-03-13T19:18:19.310170Z"
    },
    "papermill": {
     "duration": 0.030001,
     "end_time": "2022-03-13T19:18:19.310235",
     "exception": false,
     "start_time": "2022-03-13T19:18:19.280234",
     "status": "completed"
    },
    "tags": []
   },
   "outputs": [],
   "source": [
    "###########################################\n",
    "# The stratified datasets honor this\n",
    "###########################################\n",
    "torch.set_default_dtype(eval(p.torch_default_dtype))"
   ]
  },
  {
   "cell_type": "code",
   "execution_count": 8,
   "id": "b5fba671",
   "metadata": {
    "execution": {
     "iopub.execute_input": "2022-03-13T19:18:19.339759Z",
     "iopub.status.busy": "2022-03-13T19:18:19.339506Z",
     "iopub.status.idle": "2022-03-13T19:18:19.379932Z",
     "shell.execute_reply": "2022-03-13T19:18:19.379683Z"
    },
    "papermill": {
     "duration": 0.056082,
     "end_time": "2022-03-13T19:18:19.379994",
     "exception": false,
     "start_time": "2022-03-13T19:18:19.323912",
     "status": "completed"
    },
    "tags": []
   },
   "outputs": [],
   "source": [
    "###################################\n",
    "# Build the network(s)\n",
    "# Note: It's critical to do this AFTER setting the RNG\n",
    "###################################\n",
    "x_net = build_sequential(p.x_net)"
   ]
  },
  {
   "cell_type": "code",
   "execution_count": 9,
   "id": "5d7e61cc",
   "metadata": {
    "execution": {
     "iopub.execute_input": "2022-03-13T19:18:19.408910Z",
     "iopub.status.busy": "2022-03-13T19:18:19.408660Z",
     "iopub.status.idle": "2022-03-13T19:18:19.424966Z",
     "shell.execute_reply": "2022-03-13T19:18:19.424742Z"
    },
    "papermill": {
     "duration": 0.031592,
     "end_time": "2022-03-13T19:18:19.425021",
     "exception": false,
     "start_time": "2022-03-13T19:18:19.393429",
     "status": "completed"
    },
    "tags": []
   },
   "outputs": [],
   "source": [
    "start_time_secs = time.time()"
   ]
  },
  {
   "cell_type": "code",
   "execution_count": 10,
   "id": "c6b67dfd",
   "metadata": {
    "execution": {
     "iopub.execute_input": "2022-03-13T19:18:19.454149Z",
     "iopub.status.busy": "2022-03-13T19:18:19.453900Z",
     "iopub.status.idle": "2022-03-13T19:18:19.468586Z",
     "shell.execute_reply": "2022-03-13T19:18:19.468160Z"
    },
    "papermill": {
     "duration": 0.030548,
     "end_time": "2022-03-13T19:18:19.468684",
     "exception": false,
     "start_time": "2022-03-13T19:18:19.438136",
     "status": "completed"
    },
    "tags": []
   },
   "outputs": [],
   "source": [
    "p.domains_source = []\n",
    "p.domains_target = []\n",
    "\n",
    "\n",
    "train_original_source = []\n",
    "val_original_source   = []\n",
    "test_original_source  = []\n",
    "\n",
    "train_original_target = []\n",
    "val_original_target   = []\n",
    "test_original_target  = []"
   ]
  },
  {
   "cell_type": "code",
   "execution_count": 11,
   "id": "e3d9c3d3",
   "metadata": {
    "execution": {
     "iopub.execute_input": "2022-03-13T19:18:19.501563Z",
     "iopub.status.busy": "2022-03-13T19:18:19.501310Z",
     "iopub.status.idle": "2022-03-13T19:18:19.515845Z",
     "shell.execute_reply": "2022-03-13T19:18:19.515453Z"
    },
    "papermill": {
     "duration": 0.029699,
     "end_time": "2022-03-13T19:18:19.515933",
     "exception": false,
     "start_time": "2022-03-13T19:18:19.486234",
     "status": "completed"
    },
    "tags": []
   },
   "outputs": [],
   "source": [
    "# global_x_transform_func = lambda x: normalize(x.to(torch.get_default_dtype()), \"unit_power\") # unit_power, unit_mag\n",
    "# global_x_transform_func = lambda x: normalize(x, \"unit_power\") # unit_power, unit_mag"
   ]
  },
  {
   "cell_type": "code",
   "execution_count": 12,
   "id": "acb78fd2",
   "metadata": {
    "execution": {
     "iopub.execute_input": "2022-03-13T19:18:19.557004Z",
     "iopub.status.busy": "2022-03-13T19:18:19.551315Z",
     "iopub.status.idle": "2022-03-13T19:18:19.565847Z",
     "shell.execute_reply": "2022-03-13T19:18:19.565394Z"
    },
    "papermill": {
     "duration": 0.034574,
     "end_time": "2022-03-13T19:18:19.565947",
     "exception": false,
     "start_time": "2022-03-13T19:18:19.531373",
     "status": "completed"
    },
    "tags": []
   },
   "outputs": [],
   "source": [
    "def add_dataset(\n",
    "    labels,\n",
    "    domains,\n",
    "    pickle_path,\n",
    "    x_transforms,\n",
    "    episode_transforms,\n",
    "    domain_prefix,\n",
    "    num_examples_per_domain_per_label,\n",
    "    source_or_target_dataset:str,\n",
    "    iterator_seed=p.seed,\n",
    "    dataset_seed=p.dataset_seed,\n",
    "    n_shot=p.n_shot,\n",
    "    n_way=p.n_way,\n",
    "    n_query=p.n_query,\n",
    "    train_val_test_k_factors=(p.train_k_factor,p.val_k_factor,p.test_k_factor),\n",
    "):\n",
    "   \n",
    "    if x_transforms == []: x_transform = None\n",
    "    else: x_transform = get_chained_transform(x_transforms)\n",
    "    \n",
    "    if episode_transforms == []: episode_transform = None\n",
    "    else: raise Exception(\"episode_transforms not implemented\")\n",
    "    \n",
    "    episode_transform = lambda tup, _prefix=domain_prefix: (_prefix + str(tup[0]), tup[1])\n",
    "\n",
    "\n",
    "    eaf = Episodic_Accessor_Factory(\n",
    "        labels=labels,\n",
    "        domains=domains,\n",
    "        num_examples_per_domain_per_label=num_examples_per_domain_per_label,\n",
    "        iterator_seed=iterator_seed,\n",
    "        dataset_seed=dataset_seed,\n",
    "        n_shot=n_shot,\n",
    "        n_way=n_way,\n",
    "        n_query=n_query,\n",
    "        train_val_test_k_factors=train_val_test_k_factors,\n",
    "        pickle_path=pickle_path,\n",
    "        x_transform_func=x_transform,\n",
    "    )\n",
    "\n",
    "    train, val, test = eaf.get_train(), eaf.get_val(), eaf.get_test()\n",
    "    train = Lazy_Iterable_Wrapper(train, episode_transform)\n",
    "    val = Lazy_Iterable_Wrapper(val, episode_transform)\n",
    "    test = Lazy_Iterable_Wrapper(test, episode_transform)\n",
    "\n",
    "    if source_or_target_dataset==\"source\":\n",
    "        train_original_source.append(train)\n",
    "        val_original_source.append(val)\n",
    "        test_original_source.append(test)\n",
    "\n",
    "        p.domains_source.extend(\n",
    "            [domain_prefix + str(u) for u in domains]\n",
    "        )\n",
    "    elif source_or_target_dataset==\"target\":\n",
    "        train_original_target.append(train)\n",
    "        val_original_target.append(val)\n",
    "        test_original_target.append(test)\n",
    "        p.domains_target.extend(\n",
    "            [domain_prefix + str(u) for u in domains]\n",
    "        )\n",
    "    else:\n",
    "        raise Exception(f\"invalid source_or_target_dataset: {source_or_target_dataset}\")\n",
    "    "
   ]
  },
  {
   "cell_type": "code",
   "execution_count": 13,
   "id": "fe266617",
   "metadata": {
    "execution": {
     "iopub.execute_input": "2022-03-13T19:18:19.603852Z",
     "iopub.status.busy": "2022-03-13T19:18:19.600011Z",
     "iopub.status.idle": "2022-03-13T19:19:37.956243Z",
     "shell.execute_reply": "2022-03-13T19:19:37.955811Z"
    },
    "papermill": {
     "duration": 78.371668,
     "end_time": "2022-03-13T19:19:37.956354",
     "exception": false,
     "start_time": "2022-03-13T19:18:19.584686",
     "status": "completed"
    },
    "tags": []
   },
   "outputs": [],
   "source": [
    "for ds in p.datasets:\n",
    "    add_dataset(**ds)"
   ]
  },
  {
   "cell_type": "code",
   "execution_count": 14,
   "id": "b90d65ac",
   "metadata": {
    "execution": {
     "iopub.execute_input": "2022-03-13T19:19:37.988729Z",
     "iopub.status.busy": "2022-03-13T19:19:37.988457Z",
     "iopub.status.idle": "2022-03-13T19:19:38.000141Z",
     "shell.execute_reply": "2022-03-13T19:19:37.999723Z"
    },
    "papermill": {
     "duration": 0.026626,
     "end_time": "2022-03-13T19:19:38.000244",
     "exception": false,
     "start_time": "2022-03-13T19:19:37.973618",
     "status": "completed"
    },
    "tags": []
   },
   "outputs": [],
   "source": [
    "# from steves_utils.CORES.utils import (\n",
    "#     ALL_NODES,\n",
    "#     ALL_NODES_MINIMUM_1000_EXAMPLES,\n",
    "#     ALL_DAYS\n",
    "# )\n",
    "\n",
    "# add_dataset(\n",
    "#     labels=ALL_NODES,\n",
    "#     domains = ALL_DAYS,\n",
    "#     num_examples_per_domain_per_label=100,\n",
    "#     pickle_path=os.path.join(get_datasets_base_path(), \"cores.stratified_ds.2022A.pkl\"),\n",
    "#     source_or_target_dataset=\"target\",\n",
    "#     x_transform_func=global_x_transform_func,\n",
    "#     domain_modifier=lambda u: f\"cores_{u}\"\n",
    "# )"
   ]
  },
  {
   "cell_type": "code",
   "execution_count": 15,
   "id": "76db484d",
   "metadata": {
    "execution": {
     "iopub.execute_input": "2022-03-13T19:19:38.035561Z",
     "iopub.status.busy": "2022-03-13T19:19:38.035054Z",
     "iopub.status.idle": "2022-03-13T19:19:38.050065Z",
     "shell.execute_reply": "2022-03-13T19:19:38.049653Z"
    },
    "papermill": {
     "duration": 0.030629,
     "end_time": "2022-03-13T19:19:38.050169",
     "exception": false,
     "start_time": "2022-03-13T19:19:38.019540",
     "status": "completed"
    },
    "tags": []
   },
   "outputs": [],
   "source": [
    "# from steves_utils.ORACLE.utils_v2 import (\n",
    "#     ALL_DISTANCES_FEET,\n",
    "#     ALL_RUNS,\n",
    "#     ALL_SERIAL_NUMBERS,\n",
    "# )\n",
    "\n",
    "\n",
    "# add_dataset(\n",
    "#     labels=ALL_SERIAL_NUMBERS,\n",
    "#     domains = list(set(ALL_DISTANCES_FEET) - {2,62}),\n",
    "#     num_examples_per_domain_per_label=100,\n",
    "#     pickle_path=os.path.join(get_datasets_base_path(), \"oracle.Run2_framed_2000Examples_stratified_ds.2022A.pkl\"),\n",
    "#     source_or_target_dataset=\"source\",\n",
    "#     x_transform_func=global_x_transform_func,\n",
    "#     domain_modifier=lambda u: f\"oracle1_{u}\"\n",
    "# )\n"
   ]
  },
  {
   "cell_type": "code",
   "execution_count": 16,
   "id": "97dea9d2",
   "metadata": {
    "execution": {
     "iopub.execute_input": "2022-03-13T19:19:38.083372Z",
     "iopub.status.busy": "2022-03-13T19:19:38.083112Z",
     "iopub.status.idle": "2022-03-13T19:19:38.093371Z",
     "shell.execute_reply": "2022-03-13T19:19:38.093743Z"
    },
    "papermill": {
     "duration": 0.025501,
     "end_time": "2022-03-13T19:19:38.093861",
     "exception": false,
     "start_time": "2022-03-13T19:19:38.068360",
     "status": "completed"
    },
    "tags": []
   },
   "outputs": [],
   "source": [
    "# from steves_utils.ORACLE.utils_v2 import (\n",
    "#     ALL_DISTANCES_FEET,\n",
    "#     ALL_RUNS,\n",
    "#     ALL_SERIAL_NUMBERS,\n",
    "# )\n",
    "\n",
    "\n",
    "# add_dataset(\n",
    "#     labels=ALL_SERIAL_NUMBERS,\n",
    "#     domains = list(set(ALL_DISTANCES_FEET) - {2,62,56}),\n",
    "#     num_examples_per_domain_per_label=100,\n",
    "#     pickle_path=os.path.join(get_datasets_base_path(), \"oracle.Run2_framed_2000Examples_stratified_ds.2022A.pkl\"),\n",
    "#     source_or_target_dataset=\"source\",\n",
    "#     x_transform_func=global_x_transform_func,\n",
    "#     domain_modifier=lambda u: f\"oracle2_{u}\"\n",
    "# )"
   ]
  },
  {
   "cell_type": "code",
   "execution_count": 17,
   "id": "6f289866",
   "metadata": {
    "execution": {
     "iopub.execute_input": "2022-03-13T19:19:38.125818Z",
     "iopub.status.busy": "2022-03-13T19:19:38.125212Z",
     "iopub.status.idle": "2022-03-13T19:19:38.141157Z",
     "shell.execute_reply": "2022-03-13T19:19:38.140759Z"
    },
    "papermill": {
     "duration": 0.030851,
     "end_time": "2022-03-13T19:19:38.141255",
     "exception": false,
     "start_time": "2022-03-13T19:19:38.110404",
     "status": "completed"
    },
    "tags": []
   },
   "outputs": [],
   "source": [
    "# add_dataset(\n",
    "#     labels=list(range(19)),\n",
    "#     domains = [0,1,2],\n",
    "#     num_examples_per_domain_per_label=100,\n",
    "#     pickle_path=os.path.join(get_datasets_base_path(), \"metehan.stratified_ds.2022A.pkl\"),\n",
    "#     source_or_target_dataset=\"target\",\n",
    "#     x_transform_func=global_x_transform_func,\n",
    "#     domain_modifier=lambda u: f\"met_{u}\"\n",
    "# )"
   ]
  },
  {
   "cell_type": "code",
   "execution_count": 18,
   "id": "86a863c3",
   "metadata": {
    "execution": {
     "iopub.execute_input": "2022-03-13T19:19:38.176177Z",
     "iopub.status.busy": "2022-03-13T19:19:38.175926Z",
     "iopub.status.idle": "2022-03-13T19:19:38.188088Z",
     "shell.execute_reply": "2022-03-13T19:19:38.188371Z"
    },
    "papermill": {
     "duration": 0.027919,
     "end_time": "2022-03-13T19:19:38.188464",
     "exception": false,
     "start_time": "2022-03-13T19:19:38.160545",
     "status": "completed"
    },
    "tags": []
   },
   "outputs": [],
   "source": [
    "# # from steves_utils.wisig.utils import (\n",
    "# #     ALL_NODES_MINIMUM_100_EXAMPLES,\n",
    "# #     ALL_NODES_MINIMUM_500_EXAMPLES,\n",
    "# #     ALL_NODES_MINIMUM_1000_EXAMPLES,\n",
    "# #     ALL_DAYS\n",
    "# # )\n",
    "\n",
    "# import steves_utils.wisig.utils as wisig\n",
    "\n",
    "\n",
    "# add_dataset(\n",
    "#     labels=wisig.ALL_NODES_MINIMUM_100_EXAMPLES,\n",
    "#     domains = wisig.ALL_DAYS,\n",
    "#     num_examples_per_domain_per_label=100,\n",
    "#     pickle_path=os.path.join(get_datasets_base_path(), \"wisig.node3-19.stratified_ds.2022A.pkl\"),\n",
    "#     source_or_target_dataset=\"target\",\n",
    "#     x_transform_func=global_x_transform_func,\n",
    "#     domain_modifier=lambda u: f\"wisig_{u}\"\n",
    "# )"
   ]
  },
  {
   "cell_type": "code",
   "execution_count": 19,
   "id": "fd5442bc",
   "metadata": {
    "execution": {
     "iopub.execute_input": "2022-03-13T19:19:38.226732Z",
     "iopub.status.busy": "2022-03-13T19:19:38.226461Z",
     "iopub.status.idle": "2022-03-13T19:19:38.239753Z",
     "shell.execute_reply": "2022-03-13T19:19:38.239320Z"
    },
    "papermill": {
     "duration": 0.031989,
     "end_time": "2022-03-13T19:19:38.239851",
     "exception": false,
     "start_time": "2022-03-13T19:19:38.207862",
     "status": "completed"
    },
    "tags": []
   },
   "outputs": [],
   "source": [
    "###################################\n",
    "# Build the dataset\n",
    "###################################\n",
    "train_original_source = Iterable_Aggregator(train_original_source, p.seed)\n",
    "val_original_source = Iterable_Aggregator(val_original_source, p.seed)\n",
    "test_original_source = Iterable_Aggregator(test_original_source, p.seed)\n",
    "\n",
    "\n",
    "train_original_target = Iterable_Aggregator(train_original_target, p.seed)\n",
    "val_original_target = Iterable_Aggregator(val_original_target, p.seed)\n",
    "test_original_target = Iterable_Aggregator(test_original_target, p.seed)\n",
    "\n",
    "# For CNN We only use X and Y. And we only train on the source.\n",
    "# Properly form the data using a transform lambda and Lazy_Iterable_Wrapper. Finally wrap them in a dataloader\n",
    "\n",
    "transform_lambda = lambda ex: ex[1] # Original is (<domain>, <episode>) so we strip down to episode only\n",
    "\n",
    "train_processed_source = Lazy_Iterable_Wrapper(train_original_source, transform_lambda)\n",
    "val_processed_source   = Lazy_Iterable_Wrapper(val_original_source, transform_lambda)\n",
    "test_processed_source  = Lazy_Iterable_Wrapper(test_original_source, transform_lambda)\n",
    "\n",
    "train_processed_target = Lazy_Iterable_Wrapper(train_original_target, transform_lambda)\n",
    "val_processed_target   = Lazy_Iterable_Wrapper(val_original_target, transform_lambda)\n",
    "test_processed_target  = Lazy_Iterable_Wrapper(test_original_target, transform_lambda)\n",
    "\n",
    "datasets = EasyDict({\n",
    "    \"source\": {\n",
    "        \"original\": {\"train\":train_original_source, \"val\":val_original_source, \"test\":test_original_source},\n",
    "        \"processed\": {\"train\":train_processed_source, \"val\":val_processed_source, \"test\":test_processed_source}\n",
    "    },\n",
    "    \"target\": {\n",
    "        \"original\": {\"train\":train_original_target, \"val\":val_original_target, \"test\":test_original_target},\n",
    "        \"processed\": {\"train\":train_processed_target, \"val\":val_processed_target, \"test\":test_processed_target}\n",
    "    },\n",
    "})"
   ]
  },
  {
   "cell_type": "code",
   "execution_count": 20,
   "id": "5b3c01fc",
   "metadata": {
    "execution": {
     "iopub.execute_input": "2022-03-13T19:19:38.274680Z",
     "iopub.status.busy": "2022-03-13T19:19:38.274422Z",
     "iopub.status.idle": "2022-03-13T19:19:51.696368Z",
     "shell.execute_reply": "2022-03-13T19:19:51.695858Z"
    },
    "papermill": {
     "duration": 13.438789,
     "end_time": "2022-03-13T19:19:51.696482",
     "exception": false,
     "start_time": "2022-03-13T19:19:38.257693",
     "status": "completed"
    },
    "tags": []
   },
   "outputs": [
    {
     "name": "stdout",
     "output_type": "stream",
     "text": [
      "{'CORES_4', 'CORES_1', 'CORES_5', 'CORES_3', 'CORES_2'}\n"
     ]
    },
    {
     "name": "stdout",
     "output_type": "stream",
     "text": [
      "{'ORACLE.run1_32', 'ORACLE.run1_20', 'ORACLE.run1_26', 'ORACLE.run1_44', 'ORACLE.run1_38', 'ORACLE.run1_14', 'ORACLE.run1_8', 'ORACLE.run1_50'}\n"
     ]
    },
    {
     "name": "stdout",
     "output_type": "stream",
     "text": [
      "tensor([[[-0.2550, -0.3799,  0.3632,  ..., -0.6208, -0.8556,  0.2497],\n",
      "         [ 0.1345, -0.7386, -0.7940,  ..., -0.6894, -0.2770, -0.5698]],\n",
      "\n",
      "        [[ 0.4430,  1.0156, -0.1955,  ...,  0.2590,  0.4821,  0.1132],\n",
      "         [-0.4251, -0.0220,  0.9325,  ..., -0.9724, -0.1254,  0.6702]],\n",
      "\n",
      "        [[-0.6166, -0.2444,  1.0532,  ..., -0.9567, -0.1748,  0.6923],\n",
      "         [-0.3531, -0.9428, -0.0130,  ...,  0.1052, -0.4514, -0.1931]],\n",
      "\n",
      "        ...,\n",
      "\n",
      "        [[ 0.7903,  0.9733,  0.5259,  ..., -1.6561, -1.8929, -0.5186],\n",
      "         [ 0.5637,  0.5448, -0.5825,  ..., -1.1026,  0.3123,  0.6813]],\n",
      "\n",
      "        [[ 0.4220,  0.4236, -0.1857,  ..., -0.0890, -0.4589, -0.0399],\n",
      "         [ 0.1611,  0.0568, -0.3392,  ..., -0.1212,  0.0875, -0.6661]],\n",
      "\n",
      "        [[-0.1698,  0.1437,  0.3134,  ...,  0.4930,  0.4701, -0.4701],\n",
      "         [ 0.3771,  0.4375,  0.4277,  ...,  0.6693,  0.0849, -0.0653]]])\n"
     ]
    }
   ],
   "source": [
    "from steves_utils.transforms import get_average_magnitude, get_average_power\n",
    "\n",
    "print(set([u for u,_ in val_original_source]))\n",
    "print(set([u for u,_ in val_original_target]))\n",
    "\n",
    "s_x, s_y, q_x, q_y, _ = next(iter(train_processed_source))\n",
    "print(s_x)\n",
    "\n",
    "# for ds in [\n",
    "#     train_processed_source,\n",
    "#     val_processed_source,\n",
    "#     test_processed_source,\n",
    "#     train_processed_target,\n",
    "#     val_processed_target,\n",
    "#     test_processed_target\n",
    "# ]:\n",
    "#     for s_x, s_y, q_x, q_y, _ in ds:\n",
    "#         for X in (s_x, q_x):\n",
    "#             for x in X:\n",
    "#                 assert np.isclose(get_average_magnitude(x.numpy()), 1.0)\n",
    "#                 assert np.isclose(get_average_power(x.numpy()), 1.0)\n",
    "                "
   ]
  },
  {
   "cell_type": "code",
   "execution_count": 21,
   "id": "bbdacba1",
   "metadata": {
    "execution": {
     "iopub.execute_input": "2022-03-13T19:19:51.734179Z",
     "iopub.status.busy": "2022-03-13T19:19:51.733928Z",
     "iopub.status.idle": "2022-03-13T19:19:51.791679Z",
     "shell.execute_reply": "2022-03-13T19:19:51.792055Z"
    },
    "papermill": {
     "duration": 0.075452,
     "end_time": "2022-03-13T19:19:51.792163",
     "exception": false,
     "start_time": "2022-03-13T19:19:51.716711",
     "status": "completed"
    },
    "tags": []
   },
   "outputs": [
    {
     "name": "stdout",
     "output_type": "stream",
     "text": [
      "(2, 256)\n"
     ]
    }
   ],
   "source": [
    "###################################\n",
    "# Build the model\n",
    "###################################\n",
    "model = Steves_Prototypical_Network(x_net, device=p.device, x_shape=(2,256))\n",
    "optimizer = Adam(params=model.parameters(), lr=p.lr)"
   ]
  },
  {
   "cell_type": "code",
   "execution_count": 22,
   "id": "22b39ac5",
   "metadata": {
    "execution": {
     "iopub.execute_input": "2022-03-13T19:19:51.828124Z",
     "iopub.status.busy": "2022-03-13T19:19:51.827873Z",
     "iopub.status.idle": "2022-03-13T19:24:16.344851Z",
     "shell.execute_reply": "2022-03-13T19:24:16.344621Z"
    },
    "papermill": {
     "duration": 264.534699,
     "end_time": "2022-03-13T19:24:16.344910",
     "exception": false,
     "start_time": "2022-03-13T19:19:51.810211",
     "status": "completed"
    },
    "tags": []
   },
   "outputs": [
    {
     "name": "stdout",
     "output_type": "stream",
     "text": [
      "epoch: 1, [batch: 1 / 735], examples_per_second: 305.7033, train_label_loss: 2.6484, \n"
     ]
    },
    {
     "name": "stdout",
     "output_type": "stream",
     "text": [
      "epoch: 1, [batch: 74 / 735], examples_per_second: 3180.0582, train_label_loss: 0.1959, \n"
     ]
    },
    {
     "name": "stdout",
     "output_type": "stream",
     "text": [
      "epoch: 1, [batch: 147 / 735], examples_per_second: 3188.2281, train_label_loss: 0.2308, \n"
     ]
    },
    {
     "name": "stdout",
     "output_type": "stream",
     "text": [
      "epoch: 1, [batch: 221 / 735], examples_per_second: 3177.0639, train_label_loss: 0.0421, \n"
     ]
    },
    {
     "name": "stdout",
     "output_type": "stream",
     "text": [
      "epoch: 1, [batch: 294 / 735], examples_per_second: 3167.3016, train_label_loss: 0.0218, \n"
     ]
    },
    {
     "name": "stdout",
     "output_type": "stream",
     "text": [
      "epoch: 1, [batch: 368 / 735], examples_per_second: 3183.2659, train_label_loss: 0.3835, \n"
     ]
    },
    {
     "name": "stdout",
     "output_type": "stream",
     "text": [
      "epoch: 1, [batch: 441 / 735], examples_per_second: 3194.3816, train_label_loss: 0.0069, \n"
     ]
    },
    {
     "name": "stdout",
     "output_type": "stream",
     "text": [
      "epoch: 1, [batch: 514 / 735], examples_per_second: 3185.6511, train_label_loss: 0.0177, \n"
     ]
    },
    {
     "name": "stdout",
     "output_type": "stream",
     "text": [
      "epoch: 1, [batch: 588 / 735], examples_per_second: 3190.4831, train_label_loss: 0.0045, \n"
     ]
    },
    {
     "name": "stdout",
     "output_type": "stream",
     "text": [
      "epoch: 1, [batch: 661 / 735], examples_per_second: 3205.4358, train_label_loss: 0.0231, \n"
     ]
    },
    {
     "name": "stdout",
     "output_type": "stream",
     "text": [
      "=============================================================\n",
      "epoch: 1, source_val_acc_label: 0.9931, target_val_acc_label: 0.1190, source_val_label_loss: 0.0266, target_val_label_loss: 3.0064, \n",
      "=============================================================\n"
     ]
    },
    {
     "name": "stdout",
     "output_type": "stream",
     "text": [
      "New best\n"
     ]
    },
    {
     "name": "stdout",
     "output_type": "stream",
     "text": [
      "epoch: 2, [batch: 1 / 734], examples_per_second: 4.4055, train_label_loss: 0.0208, \n"
     ]
    },
    {
     "name": "stdout",
     "output_type": "stream",
     "text": [
      "epoch: 2, [batch: 74 / 734], examples_per_second: 3165.6589, train_label_loss: 0.0118, \n"
     ]
    },
    {
     "name": "stdout",
     "output_type": "stream",
     "text": [
      "epoch: 2, [batch: 147 / 734], examples_per_second: 3190.3110, train_label_loss: 0.0017, \n"
     ]
    },
    {
     "name": "stdout",
     "output_type": "stream",
     "text": [
      "epoch: 2, [batch: 220 / 734], examples_per_second: 3199.9807, train_label_loss: 0.0134, \n"
     ]
    },
    {
     "name": "stdout",
     "output_type": "stream",
     "text": [
      "epoch: 2, [batch: 294 / 734], examples_per_second: 3180.0774, train_label_loss: 0.0219, \n"
     ]
    },
    {
     "name": "stdout",
     "output_type": "stream",
     "text": [
      "epoch: 2, [batch: 367 / 734], examples_per_second: 3188.2310, train_label_loss: 0.3095, \n"
     ]
    },
    {
     "name": "stdout",
     "output_type": "stream",
     "text": [
      "epoch: 2, [batch: 440 / 734], examples_per_second: 3170.6557, train_label_loss: 0.0240, \n"
     ]
    },
    {
     "name": "stdout",
     "output_type": "stream",
     "text": [
      "epoch: 2, [batch: 514 / 734], examples_per_second: 3163.9688, train_label_loss: 0.0075, \n"
     ]
    },
    {
     "name": "stdout",
     "output_type": "stream",
     "text": [
      "epoch: 2, [batch: 587 / 734], examples_per_second: 3196.5752, train_label_loss: 0.0001, \n"
     ]
    },
    {
     "name": "stdout",
     "output_type": "stream",
     "text": [
      "epoch: 2, [batch: 660 / 734], examples_per_second: 3214.5571, train_label_loss: 0.0209, \n"
     ]
    },
    {
     "name": "stdout",
     "output_type": "stream",
     "text": [
      "=============================================================\n",
      "epoch: 2, source_val_acc_label: 0.9906, target_val_acc_label: 0.1130, source_val_label_loss: 0.0399, target_val_label_loss: 3.9550, \n",
      "=============================================================\n"
     ]
    },
    {
     "name": "stdout",
     "output_type": "stream",
     "text": [
      "epoch: 3, [batch: 1 / 734], examples_per_second: 4.4200, train_label_loss: 0.0047, \n"
     ]
    },
    {
     "name": "stdout",
     "output_type": "stream",
     "text": [
      "epoch: 3, [batch: 74 / 734], examples_per_second: 3157.1056, train_label_loss: 0.0028, \n"
     ]
    },
    {
     "name": "stdout",
     "output_type": "stream",
     "text": [
      "epoch: 3, [batch: 147 / 734], examples_per_second: 3178.6535, train_label_loss: 0.0140, \n"
     ]
    },
    {
     "name": "stdout",
     "output_type": "stream",
     "text": [
      "epoch: 3, [batch: 220 / 734], examples_per_second: 3163.2543, train_label_loss: 0.0032, \n"
     ]
    },
    {
     "name": "stdout",
     "output_type": "stream",
     "text": [
      "epoch: 3, [batch: 294 / 734], examples_per_second: 3167.2123, train_label_loss: 0.0020, \n"
     ]
    },
    {
     "name": "stdout",
     "output_type": "stream",
     "text": [
      "epoch: 3, [batch: 367 / 734], examples_per_second: 3173.3063, train_label_loss: 0.0001, \n"
     ]
    },
    {
     "name": "stdout",
     "output_type": "stream",
     "text": [
      "epoch: 3, [batch: 440 / 734], examples_per_second: 3174.5356, train_label_loss: 0.0369, \n"
     ]
    },
    {
     "name": "stdout",
     "output_type": "stream",
     "text": [
      "epoch: 3, [batch: 514 / 734], examples_per_second: 3181.5019, train_label_loss: 0.0072, \n"
     ]
    },
    {
     "name": "stdout",
     "output_type": "stream",
     "text": [
      "epoch: 3, [batch: 587 / 734], examples_per_second: 3168.4873, train_label_loss: 0.1493, \n"
     ]
    },
    {
     "name": "stdout",
     "output_type": "stream",
     "text": [
      "epoch: 3, [batch: 660 / 734], examples_per_second: 3194.8828, train_label_loss: 0.3373, \n"
     ]
    },
    {
     "name": "stdout",
     "output_type": "stream",
     "text": [
      "=============================================================\n",
      "epoch: 3, source_val_acc_label: 0.9888, target_val_acc_label: 0.1382, source_val_label_loss: 0.0506, target_val_label_loss: 4.1873, \n",
      "=============================================================\n"
     ]
    },
    {
     "name": "stdout",
     "output_type": "stream",
     "text": [
      "epoch: 4, [batch: 1 / 734], examples_per_second: 4.4101, train_label_loss: 0.0010, \n"
     ]
    },
    {
     "name": "stdout",
     "output_type": "stream",
     "text": [
      "epoch: 4, [batch: 74 / 734], examples_per_second: 3154.4901, train_label_loss: 0.0722, \n"
     ]
    },
    {
     "name": "stdout",
     "output_type": "stream",
     "text": [
      "epoch: 4, [batch: 147 / 734], examples_per_second: 3164.5841, train_label_loss: 0.0005, \n"
     ]
    },
    {
     "name": "stdout",
     "output_type": "stream",
     "text": [
      "epoch: 4, [batch: 220 / 734], examples_per_second: 3161.1596, train_label_loss: 0.1038, \n"
     ]
    },
    {
     "name": "stdout",
     "output_type": "stream",
     "text": [
      "epoch: 4, [batch: 294 / 734], examples_per_second: 3152.5946, train_label_loss: 0.0257, \n"
     ]
    },
    {
     "name": "stdout",
     "output_type": "stream",
     "text": [
      "epoch: 4, [batch: 367 / 734], examples_per_second: 3182.6688, train_label_loss: 0.0005, \n"
     ]
    },
    {
     "name": "stdout",
     "output_type": "stream",
     "text": [
      "epoch: 4, [batch: 440 / 734], examples_per_second: 3184.7137, train_label_loss: 0.0000, \n"
     ]
    },
    {
     "name": "stdout",
     "output_type": "stream",
     "text": [
      "epoch: 4, [batch: 514 / 734], examples_per_second: 3162.7638, train_label_loss: 0.0001, \n"
     ]
    },
    {
     "name": "stdout",
     "output_type": "stream",
     "text": [
      "epoch: 4, [batch: 587 / 734], examples_per_second: 3188.2081, train_label_loss: 0.0015, \n"
     ]
    },
    {
     "name": "stdout",
     "output_type": "stream",
     "text": [
      "epoch: 4, [batch: 660 / 734], examples_per_second: 3189.7783, train_label_loss: 0.0804, \n"
     ]
    },
    {
     "name": "stdout",
     "output_type": "stream",
     "text": [
      "=============================================================\n",
      "epoch: 4, source_val_acc_label: 0.9969, target_val_acc_label: 0.1546, source_val_label_loss: 0.0144, target_val_label_loss: 4.6131, \n",
      "=============================================================\n"
     ]
    },
    {
     "name": "stdout",
     "output_type": "stream",
     "text": [
      "epoch: 5, [batch: 1 / 737], examples_per_second: 4.3916, train_label_loss: 0.0000, \n"
     ]
    },
    {
     "name": "stdout",
     "output_type": "stream",
     "text": [
      "epoch: 5, [batch: 74 / 737], examples_per_second: 3146.3057, train_label_loss: 0.0000, \n"
     ]
    },
    {
     "name": "stdout",
     "output_type": "stream",
     "text": [
      "epoch: 5, [batch: 148 / 737], examples_per_second: 3169.0204, train_label_loss: 0.0000, \n"
     ]
    },
    {
     "name": "stdout",
     "output_type": "stream",
     "text": [
      "epoch: 5, [batch: 221 / 737], examples_per_second: 3162.3705, train_label_loss: 0.0000, \n"
     ]
    },
    {
     "name": "stdout",
     "output_type": "stream",
     "text": [
      "epoch: 5, [batch: 295 / 737], examples_per_second: 3197.1193, train_label_loss: 0.0001, \n"
     ]
    },
    {
     "name": "stdout",
     "output_type": "stream",
     "text": [
      "epoch: 5, [batch: 369 / 737], examples_per_second: 3178.7344, train_label_loss: 0.0014, \n"
     ]
    },
    {
     "name": "stdout",
     "output_type": "stream",
     "text": [
      "epoch: 5, [batch: 442 / 737], examples_per_second: 3167.9246, train_label_loss: 0.0000, \n"
     ]
    },
    {
     "name": "stdout",
     "output_type": "stream",
     "text": [
      "epoch: 5, [batch: 516 / 737], examples_per_second: 3155.3814, train_label_loss: 0.0060, \n"
     ]
    },
    {
     "name": "stdout",
     "output_type": "stream",
     "text": [
      "epoch: 5, [batch: 589 / 737], examples_per_second: 3188.9403, train_label_loss: 0.0000, \n"
     ]
    },
    {
     "name": "stdout",
     "output_type": "stream",
     "text": [
      "epoch: 5, [batch: 663 / 737], examples_per_second: 3179.4874, train_label_loss: 0.0001, \n"
     ]
    },
    {
     "name": "stdout",
     "output_type": "stream",
     "text": [
      "=============================================================\n",
      "epoch: 5, source_val_acc_label: 0.9878, target_val_acc_label: 0.1539, source_val_label_loss: 0.0492, target_val_label_loss: 4.1741, \n",
      "=============================================================\n"
     ]
    },
    {
     "name": "stdout",
     "output_type": "stream",
     "text": [
      "Patience (3) exhausted\n"
     ]
    }
   ],
   "source": [
    "###################################\n",
    "# train\n",
    "###################################\n",
    "jig = PTN_Train_Eval_Test_Jig(model, p.BEST_MODEL_PATH, p.device)\n",
    "\n",
    "jig.train(\n",
    "    train_iterable=datasets.source.processed.train,\n",
    "    source_val_iterable=datasets.source.processed.val,\n",
    "    target_val_iterable=datasets.target.processed.val,\n",
    "    num_epochs=p.n_epoch,\n",
    "    num_logs_per_epoch=p.NUM_LOGS_PER_EPOCH,\n",
    "    patience=p.patience,\n",
    "    optimizer=optimizer,\n",
    "    criteria_for_best=p.criteria_for_best,\n",
    ")"
   ]
  },
  {
   "cell_type": "code",
   "execution_count": 23,
   "id": "31e8fabf",
   "metadata": {
    "execution": {
     "iopub.execute_input": "2022-03-13T19:24:16.397234Z",
     "iopub.status.busy": "2022-03-13T19:24:16.396342Z",
     "iopub.status.idle": "2022-03-13T19:24:16.415440Z",
     "shell.execute_reply": "2022-03-13T19:24:16.415000Z"
    },
    "papermill": {
     "duration": 0.046465,
     "end_time": "2022-03-13T19:24:16.415546",
     "exception": false,
     "start_time": "2022-03-13T19:24:16.369081",
     "status": "completed"
    },
    "tags": []
   },
   "outputs": [],
   "source": [
    "total_experiment_time_secs = time.time() - start_time_secs"
   ]
  },
  {
   "cell_type": "code",
   "execution_count": 24,
   "id": "87b9595b",
   "metadata": {
    "execution": {
     "iopub.execute_input": "2022-03-13T19:24:16.474774Z",
     "iopub.status.busy": "2022-03-13T19:24:16.474479Z",
     "iopub.status.idle": "2022-03-13T19:28:22.254623Z",
     "shell.execute_reply": "2022-03-13T19:28:22.255024Z"
    },
    "papermill": {
     "duration": 245.810863,
     "end_time": "2022-03-13T19:28:22.255152",
     "exception": false,
     "start_time": "2022-03-13T19:24:16.444289",
     "status": "completed"
    },
    "tags": []
   },
   "outputs": [],
   "source": [
    "###################################\n",
    "# Evaluate the model\n",
    "###################################\n",
    "source_test_label_accuracy, source_test_label_loss = jig.test(datasets.source.processed.test)\n",
    "target_test_label_accuracy, target_test_label_loss = jig.test(datasets.target.processed.test)\n",
    "\n",
    "source_val_label_accuracy, source_val_label_loss = jig.test(datasets.source.processed.val)\n",
    "target_val_label_accuracy, target_val_label_loss = jig.test(datasets.target.processed.val)\n",
    "\n",
    "history = jig.get_history()\n",
    "\n",
    "total_epochs_trained = len(history[\"epoch_indices\"])\n",
    "\n",
    "val_dl = Iterable_Aggregator((datasets.source.original.val,datasets.target.original.val))\n",
    "\n",
    "confusion = ptn_confusion_by_domain_over_dataloader(model, p.device, val_dl)\n",
    "per_domain_accuracy = per_domain_accuracy_from_confusion(confusion)\n",
    "\n",
    "# Add a key to per_domain_accuracy for if it was a source domain\n",
    "for domain, accuracy in per_domain_accuracy.items():\n",
    "    per_domain_accuracy[domain] = {\n",
    "        \"accuracy\": accuracy,\n",
    "        \"source?\": domain in p.domains_source\n",
    "    }\n",
    "\n",
    "# Do an independent accuracy assesment JUST TO BE SURE!\n",
    "# _source_test_label_accuracy = independent_accuracy_assesment(model, datasets.source.processed.test, p.device)\n",
    "# _target_test_label_accuracy = independent_accuracy_assesment(model, datasets.target.processed.test, p.device)\n",
    "# _source_val_label_accuracy = independent_accuracy_assesment(model, datasets.source.processed.val, p.device)\n",
    "# _target_val_label_accuracy = independent_accuracy_assesment(model, datasets.target.processed.val, p.device)\n",
    "\n",
    "# assert(_source_test_label_accuracy == source_test_label_accuracy)\n",
    "# assert(_target_test_label_accuracy == target_test_label_accuracy)\n",
    "# assert(_source_val_label_accuracy == source_val_label_accuracy)\n",
    "# assert(_target_val_label_accuracy == target_val_label_accuracy)\n",
    "\n",
    "experiment = {\n",
    "    \"experiment_name\": p.experiment_name,\n",
    "    \"parameters\": dict(p),\n",
    "    \"results\": {\n",
    "        \"source_test_label_accuracy\": source_test_label_accuracy,\n",
    "        \"source_test_label_loss\": source_test_label_loss,\n",
    "        \"target_test_label_accuracy\": target_test_label_accuracy,\n",
    "        \"target_test_label_loss\": target_test_label_loss,\n",
    "        \"source_val_label_accuracy\": source_val_label_accuracy,\n",
    "        \"source_val_label_loss\": source_val_label_loss,\n",
    "        \"target_val_label_accuracy\": target_val_label_accuracy,\n",
    "        \"target_val_label_loss\": target_val_label_loss,\n",
    "        \"total_epochs_trained\": total_epochs_trained,\n",
    "        \"total_experiment_time_secs\": total_experiment_time_secs,\n",
    "        \"confusion\": confusion,\n",
    "        \"per_domain_accuracy\": per_domain_accuracy,\n",
    "    },\n",
    "    \"history\": history,\n",
    "    \"dataset_metrics\": get_dataset_metrics(datasets, \"ptn\"),\n",
    "}"
   ]
  },
  {
   "cell_type": "code",
   "execution_count": 25,
   "id": "54a21829",
   "metadata": {
    "execution": {
     "iopub.execute_input": "2022-03-13T19:28:22.310471Z",
     "iopub.status.busy": "2022-03-13T19:28:22.310217Z",
     "iopub.status.idle": "2022-03-13T19:28:22.487394Z",
     "shell.execute_reply": "2022-03-13T19:28:22.486988Z"
    },
    "papermill": {
     "duration": 0.203712,
     "end_time": "2022-03-13T19:28:22.487506",
     "exception": false,
     "start_time": "2022-03-13T19:28:22.283794",
     "status": "completed"
    },
    "tags": []
   },
   "outputs": [
    {
     "data": {
      "image/png": "[encoded data removed]",
      "text/plain": [
       "<Figure size 1080x504 with 1 Axes>"
      ]
     },
     "metadata": {
      "needs_background": "light"
     },
     "output_type": "display_data"
    }
   ],
   "source": [
    "ax = get_loss_curve(experiment)\n",
    "plt.show()"
   ]
  },
  {
   "cell_type": "code",
   "execution_count": 26,
   "id": "fd8a0f60",
   "metadata": {
    "execution": {
     "iopub.execute_input": "2022-03-13T19:28:22.545858Z",
     "iopub.status.busy": "2022-03-13T19:28:22.545609Z",
     "iopub.status.idle": "2022-03-13T19:28:22.724056Z",
     "shell.execute_reply": "2022-03-13T19:28:22.724272Z"
    },
    "papermill": {
     "duration": 0.20595,
     "end_time": "2022-03-13T19:28:22.724334",
     "exception": false,
     "start_time": "2022-03-13T19:28:22.518384",
     "status": "completed"
    },
    "tags": []
   },
   "outputs": [
    {
     "data": {
      "text/plain": [
       "<matplotlib.axes._subplots.AxesSubplot at 0x7f31a1bab550>"
      ]
     },
     "execution_count": 26,
     "metadata": {},
     "output_type": "execute_result"
    },
    {
     "data": {
      "image/png": "[encoded data removed]",
      "text/plain": [
       "<Figure size 1080x504 with 1 Axes>"
      ]
     },
     "metadata": {
      "needs_background": "light"
     },
     "output_type": "display_data"
    }
   ],
   "source": [
    "get_results_table(experiment)"
   ]
  },
  {
   "cell_type": "code",
   "execution_count": 27,
   "id": "cf8dc689",
   "metadata": {
    "execution": {
     "iopub.execute_input": "2022-03-13T19:28:22.780371Z",
     "iopub.status.busy": "2022-03-13T19:28:22.780120Z",
     "iopub.status.idle": "2022-03-13T19:28:22.983929Z",
     "shell.execute_reply": "2022-03-13T19:28:22.983502Z"
    },
    "papermill": {
     "duration": 0.232481,
     "end_time": "2022-03-13T19:28:22.984019",
     "exception": false,
     "start_time": "2022-03-13T19:28:22.751538",
     "status": "completed"
    },
    "tags": []
   },
   "outputs": [
    {
     "data": {
      "text/plain": [
       "<matplotlib.axes._subplots.AxesSubplot at 0x7f31a1cd5af0>"
      ]
     },
     "execution_count": 27,
     "metadata": {},
     "output_type": "execute_result"
    },
    {
     "data": {
      "image/png": "[encoded data removed]",
      "text/plain": [
       "<Figure size 1080x504 with 1 Axes>"
      ]
     },
     "metadata": {
      "needs_background": "light"
     },
     "output_type": "display_data"
    }
   ],
   "source": [
    "get_domain_accuracies(experiment)"
   ]
  },
  {
   "cell_type": "code",
   "execution_count": 28,
   "id": "a74ae082",
   "metadata": {
    "execution": {
     "iopub.execute_input": "2022-03-13T19:28:23.044815Z",
     "iopub.status.busy": "2022-03-13T19:28:23.044308Z",
     "iopub.status.idle": "2022-03-13T19:28:23.056183Z",
     "shell.execute_reply": "2022-03-13T19:28:23.056545Z"
    },
    "papermill": {
     "duration": 0.041533,
     "end_time": "2022-03-13T19:28:23.056659",
     "exception": false,
     "start_time": "2022-03-13T19:28:23.015126",
     "status": "completed"
    },
    "tags": []
   },
   "outputs": [
    {
     "name": "stdout",
     "output_type": "stream",
     "text": [
      "Source Test Label Accuracy: 0.9884375 Target Test Label Accuracy: 0.11844401041666666\n",
      "Source Val Label Accuracy: 0.993125 Target Val Label Accuracy: 0.11903645833333333\n"
     ]
    }
   ],
   "source": [
    "print(\"Source Test Label Accuracy:\", experiment[\"results\"][\"source_test_label_accuracy\"], \"Target Test Label Accuracy:\", experiment[\"results\"][\"target_test_label_accuracy\"])\n",
    "print(\"Source Val Label Accuracy:\", experiment[\"results\"][\"source_val_label_accuracy\"], \"Target Val Label Accuracy:\", experiment[\"results\"][\"target_val_label_accuracy\"])"
   ]
  },
  {
   "cell_type": "code",
   "execution_count": 29,
   "id": "dacca602",
   "metadata": {
    "execution": {
     "iopub.execute_input": "2022-03-13T19:28:23.116989Z",
     "iopub.status.busy": "2022-03-13T19:28:23.116738Z",
     "iopub.status.idle": "2022-03-13T19:28:23.131565Z",
     "shell.execute_reply": "2022-03-13T19:28:23.131311Z"
    },
    "papermill": {
     "duration": 0.044063,
     "end_time": "2022-03-13T19:28:23.131614",
     "exception": false,
     "start_time": "2022-03-13T19:28:23.087551",
     "status": "completed"
    },
    "tags": [
     "experiment_json"
    ]
   },
   "outputs": [
    {
     "data": {
      "text/plain": [
       "'{\"experiment_name\": \"tl_1_cores-oracle.run1\", \"parameters\": {\"experiment_name\": \"tl_1_cores-oracle.run1\", \"device\": \"cuda\", \"lr\": 0.001, \"seed\": 1337, \"dataset_seed\": 1337, \"n_shot\": 3, \"n_query\": 2, \"train_k_factor\": 3, \"val_k_factor\": 2, \"test_k_factor\": 2, \"torch_default_dtype\": \"torch.float32\", \"n_epoch\": 50, \"patience\": 3, \"criteria_for_best\": \"target_loss\", \"x_net\": [{\"class\": \"nnReshape\", \"kargs\": {\"shape\": [-1, 1, 2, 256]}}, {\"class\": \"Conv2d\", \"kargs\": {\"in_channels\": 1, \"out_channels\": 256, \"kernel_size\": [1, 7], \"bias\": false, \"padding\": [0, 3]}}, {\"class\": \"ReLU\", \"kargs\": {\"inplace\": true}}, {\"class\": \"BatchNorm2d\", \"kargs\": {\"num_features\": 256}}, {\"class\": \"Conv2d\", \"kargs\": {\"in_channels\": 256, \"out_channels\": 80, \"kernel_size\": [2, 7], \"bias\": true, \"padding\": [0, 3]}}, {\"class\": \"ReLU\", \"kargs\": {\"inplace\": true}}, {\"class\": \"BatchNorm2d\", \"kargs\": {\"num_features\": 80}}, {\"class\": \"Flatten\", \"kargs\": {}}, {\"class\": \"Linear\", \"kargs\": {\"in_features\": 20480, \"out_features\": 256}}, {\"class\": \"ReLU\", \"kargs\": {\"inplace\": true}}, {\"class\": \"BatchNorm1d\", \"kargs\": {\"num_features\": 256}}, {\"class\": \"Linear\", \"kargs\": {\"in_features\": 256, \"out_features\": 256}}], \"NUM_LOGS_PER_EPOCH\": 10, \"BEST_MODEL_PATH\": \"./best_model.pth\", \"n_way\": 16, \"datasets\": [{\"labels\": [\"1-10.\", \"1-11.\", \"1-15.\", \"1-16.\", \"1-17.\", \"1-18.\", \"1-19.\", \"10-4.\", \"10-7.\", \"11-1.\", \"11-14.\", \"11-17.\", \"11-20.\", \"11-7.\", \"13-20.\", \"13-8.\", \"14-10.\", \"14-11.\", \"14-14.\", \"14-7.\", \"15-1.\", \"15-20.\", \"16-1.\", \"16-16.\", \"17-10.\", \"17-11.\", \"17-2.\", \"19-1.\", \"19-16.\", \"19-19.\", \"19-20.\", \"19-3.\", \"2-10.\", \"2-11.\", \"2-17.\", \"2-18.\", \"2-20.\", \"2-3.\", \"2-4.\", \"2-5.\", \"2-6.\", \"2-7.\", \"2-8.\", \"3-13.\", \"3-18.\", \"3-3.\", \"4-1.\", \"4-10.\", \"4-11.\", \"4-19.\", \"5-5.\", \"6-15.\", \"7-10.\", \"7-14.\", \"8-18.\", \"8-20.\", \"8-3.\", \"8-8.\"], \"domains\": [1, 2, 3, 4, 5], \"num_examples_per_domain_per_label\": 100, \"pickle_path\": \"/mnt/wd500GB/CSC500/csc500-main/datasets/cores.stratified_ds.2022A.pkl\", \"source_or_target_dataset\": \"source\", \"x_transforms\": [\"unit_mag\"], \"episode_transforms\": [], \"domain_prefix\": \"CORES_\"}, {\"labels\": [\"3123D52\", \"3123D65\", \"3123D79\", \"3123D80\", \"3123D54\", \"3123D70\", \"3123D7B\", \"3123D89\", \"3123D58\", \"3123D76\", \"3123D7D\", \"3123EFE\", \"3123D64\", \"3123D78\", \"3123D7E\", \"3124E4A\"], \"domains\": [32, 38, 8, 44, 14, 50, 20, 26], \"num_examples_per_domain_per_label\": 10000, \"pickle_path\": \"/mnt/wd500GB/CSC500/csc500-main/datasets/oracle.Run1_10kExamples_stratified_ds.2022A.pkl\", \"source_or_target_dataset\": \"target\", \"x_transforms\": [\"unit_mag\"], \"episode_transforms\": [], \"domain_prefix\": \"ORACLE.run1_\"}], \"domains_source\": [\"CORES_1\", \"CORES_2\", \"CORES_3\", \"CORES_4\", \"CORES_5\"], \"domains_target\": [\"ORACLE.run1_32\", \"ORACLE.run1_38\", \"ORACLE.run1_8\", \"ORACLE.run1_44\", \"ORACLE.run1_14\", \"ORACLE.run1_50\", \"ORACLE.run1_20\", \"ORACLE.run1_26\"]}, \"results\": {\"source_test_label_accuracy\": 0.9884375, \"source_test_label_loss\": 0.031036855652928352, \"target_test_label_accuracy\": 0.11844401041666666, \"target_test_label_loss\": 3.007755994796753, \"source_val_label_accuracy\": 0.993125, \"source_val_label_loss\": 0.02664971724152565, \"target_val_label_accuracy\": 0.11903645833333333, \"target_val_label_loss\": 3.006409168243408, \"total_epochs_trained\": 5, \"total_experiment_time_secs\": 356.9896218776703, \"confusion\": {\"CORES_3\": {\"43\": {\"43\": 12}, \"9\": {\"9\": 12}, \"6\": {\"6\": 10}, \"3\": {\"3\": 12}, \"16\": {\"16\": 12}, \"51\": {\"51\": 12}, \"31\": {\"31\": 12}, \"46\": {\"46\": 10}, \"19\": {\"19\": 8}, \"8\": {\"8\": 12}, \"18\": {\"18\": 12}, \"37\": {\"37\": 12}, \"24\": {\"24\": 12}, \"10\": {\"10\": 12}, \"44\": {\"44\": 10}, \"14\": {\"14\": 11, \"28\": 1}, \"38\": {\"38\": 10}, \"53\": {\"53\": 12}, \"20\": {\"20\": 12}, \"32\": {\"32\": 12}, \"36\": {\"36\": 10}, \"33\": {\"33\": 12}, \"56\": {\"56\": 12}, \"23\": {\"23\": 12}, \"54\": {\"54\": 10}, \"34\": {\"34\": 12}, \"13\": {\"13\": 12}, \"2\": {\"2\": 12}, \"55\": {\"55\": 10}, \"21\": {\"21\": 10}, \"49\": {\"49\": 10}, \"25\": {\"25\": 12}, \"5\": {\"5\": 12}, \"50\": {\"25\": 1, \"50\": 7}, \"40\": {\"40\": 11, \"44\": 1}, \"57\": {\"57\": 8}, \"22\": {\"22\": 10}, \"1\": {\"1\": 10}, \"17\": {\"17\": 12}, \"41\": {\"41\": 12}, \"4\": {\"4\": 10}, \"7\": {\"7\": 10}, \"26\": {\"26\": 10}, \"29\": {\"29\": 12}, \"52\": {\"52\": 12}, \"15\": {\"15\": 12}, \"35\": {\"35\": 12}, \"42\": {\"42\": 12}, \"30\": {\"30\": 10}, \"27\": {\"27\": 8}, \"45\": {\"45\": 10}, \"0\": {\"0\": 12}, \"28\": {\"28\": 12}, \"47\": {\"47\": 12}, \"11\": {\"11\": 10}, \"39\": {\"39\": 10}, \"48\": {\"48\": 11, \"6\": 1}, \"12\": {\"12\": 8}}, \"CORES_4\": {\"35\": {\"35\": 10}, \"25\": {\"25\": 11, \"3\": 1}, \"24\": {\"24\": 10}, \"48\": {\"48\": 12}, \"51\": {\"51\": 12}, \"13\": {\"13\": 12}, \"14\": {\"14\": 8}, \"32\": {\"32\": 12}, \"30\": {\"30\": 11, \"21\": 1}, \"34\": {\"34\": 10}, \"9\": {\"9\": 12}, \"1\": {\"1\": 12}, \"0\": {\"0\": 12}, \"38\": {\"38\": 11, \"14\": 1}, \"22\": {\"22\": 8}, \"40\": {\"40\": 12}, \"39\": {\"39\": 12}, \"46\": {\"46\": 12}, \"36\": {\"36\": 12}, \"50\": {\"50\": 12}, \"49\": {\"49\": 12}, \"17\": {\"17\": 12}, \"45\": {\"45\": 12}, \"6\": {\"6\": 12}, \"8\": {\"8\": 12}, \"5\": {\"5\": 10}, \"33\": {\"33\": 12}, \"31\": {\"31\": 12}, \"37\": {\"37\": 10}, \"47\": {\"47\": 8}, \"15\": {\"15\": 10}, \"7\": {\"7\": 12}, \"20\": {\"20\": 12}, \"4\": {\"4\": 12}, \"54\": {\"54\": 12}, \"44\": {\"44\": 12}, \"3\": {\"3\": 12}, \"11\": {\"11\": 10}, \"27\": {\"27\": 10}, \"19\": {\"19\": 12}, \"55\": {\"55\": 12}, \"16\": {\"16\": 12}, \"2\": {\"2\": 9, \"56\": 1}, \"52\": {\"52\": 10}, \"42\": {\"42\": 10}, \"26\": {\"26\": 12}, \"10\": {\"10\": 12}, \"53\": {\"53\": 10}, \"28\": {\"28\": 12}, \"21\": {\"21\": 10}, \"57\": {\"57\": 10}, \"23\": {\"23\": 8}, \"43\": {\"43\": 10}, \"12\": {\"12\": 12}, \"41\": {\"41\": 12}, \"56\": {\"56\": 6, \"2\": 2}, \"18\": {\"18\": 10}, \"29\": {\"29\": 8}}, \"CORES_5\": {\"47\": {\"47\": 10}, \"53\": {\"53\": 12}, \"29\": {\"29\": 12}, \"52\": {\"52\": 12}, \"55\": {\"55\": 12}, \"17\": {\"17\": 12}, \"42\": {\"42\": 12}, \"33\": {\"33\": 10}, \"11\": {\"11\": 12}, \"19\": {\"19\": 8}, \"1\": {\"1\": 12}, \"44\": {\"44\": 11, \"29\": 1}, \"49\": {\"49\": 12}, \"4\": {\"4\": 12}, \"6\": {\"6\": 11, \"45\": 1}, \"39\": {\"39\": 12}, \"13\": {\"13\": 12}, \"5\": {\"5\": 10}, \"16\": {\"16\": 10}, \"25\": {\"25\": 12}, \"45\": {\"45\": 12}, \"7\": {\"7\": 9, \"6\": 1}, \"22\": {\"22\": 12}, \"40\": {\"40\": 12}, \"38\": {\"38\": 12}, \"35\": {\"35\": 8}, \"56\": {\"56\": 12}, \"50\": {\"50\": 10}, \"0\": {\"0\": 12}, \"10\": {\"10\": 12}, \"27\": {\"27\": 12}, \"20\": {\"20\": 10}, \"36\": {\"36\": 8}, \"34\": {\"34\": 12}, \"30\": {\"30\": 12}, \"2\": {\"2\": 10}, \"15\": {\"15\": 12}, \"18\": {\"18\": 12}, \"32\": {\"32\": 12}, \"31\": {\"31\": 12}, \"57\": {\"57\": 12}, \"48\": {\"48\": 8}, \"28\": {\"28\": 10}, \"14\": {\"14\": 12}, \"3\": {\"3\": 12}, \"8\": {\"8\": 12}, \"9\": {\"9\": 12}, \"21\": {\"21\": 10}, \"41\": {\"41\": 12}, \"24\": {\"24\": 12}, \"46\": {\"46\": 10}, \"43\": {\"43\": 10}, \"54\": {\"54\": 10}, \"23\": {\"23\": 10}, \"37\": {\"37\": 10}, \"12\": {\"12\": 10}, \"26\": {\"26\": 10}, \"51\": {\"51\": 6}}, \"CORES_1\": {\"46\": {\"46\": 12}, \"16\": {\"16\": 12}, \"26\": {\"26\": 12}, \"10\": {\"10\": 12}, \"9\": {\"9\": 10}, \"28\": {\"28\": 12}, \"51\": {\"51\": 12}, \"1\": {\"1\": 12}, \"55\": {\"55\": 12}, \"27\": {\"27\": 10}, \"22\": {\"22\": 12}, \"52\": {\"52\": 12}, \"3\": {\"3\": 12}, \"33\": {\"33\": 8}, \"47\": {\"47\": 12}, \"42\": {\"42\": 12}, \"12\": {\"12\": 4}, \"23\": {\"23\": 12}, \"49\": {\"49\": 10}, \"7\": {\"7\": 12}, \"4\": {\"4\": 12}, \"50\": {\"50\": 12}, \"19\": {\"19\": 12}, \"11\": {\"11\": 12}, \"31\": {\"31\": 10}, \"41\": {\"41\": 12}, \"56\": {\"56\": 9, \"57\": 1}, \"0\": {\"0\": 12}, \"57\": {\"57\": 11, \"1\": 1}, \"53\": {\"53\": 12}, \"43\": {\"43\": 12}, \"37\": {\"37\": 12}, \"2\": {\"2\": 8}, \"6\": {\"6\": 9, \"2\": 1, \"5\": 2}, \"18\": {\"18\": 12}, \"38\": {\"38\": 12}, \"15\": {\"15\": 12}, \"36\": {\"36\": 12}, \"39\": {\"39\": 8}, \"44\": {\"44\": 12}, \"8\": {\"8\": 12}, \"17\": {\"17\": 10}, \"5\": {\"5\": 12}, \"13\": {\"13\": 10}, \"40\": {\"40\": 10}, \"29\": {\"29\": 11, \"44\": 1}, \"48\": {\"48\": 12}, \"32\": {\"32\": 12}, \"30\": {\"30\": 12}, \"35\": {\"35\": 12}, \"25\": {\"25\": 12}, \"14\": {\"14\": 12}, \"54\": {\"54\": 10}, \"20\": {\"20\": 8}, \"21\": {\"21\": 10}, \"45\": {\"45\": 8}, \"24\": {\"24\": 7, \"22\": 1}, \"34\": {\"34\": 8}}, \"CORES_2\": {\"14\": {\"14\": 12}, \"22\": {\"22\": 11, \"56\": 1}, \"9\": {\"9\": 12}, \"47\": {\"47\": 12}, \"13\": {\"13\": 12}, \"8\": {\"8\": 12}, \"7\": {\"7\": 12}, \"49\": {\"49\": 12}, \"20\": {\"20\": 12}, \"16\": {\"16\": 12}, \"34\": {\"34\": 12}, \"56\": {\"56\": 12}, \"38\": {\"38\": 10}, \"4\": {\"4\": 12}, \"43\": {\"43\": 10}, \"26\": {\"26\": 10}, \"35\": {\"35\": 12}, \"31\": {\"31\": 12}, \"1\": {\"1\": 12}, \"39\": {\"39\": 12}, \"5\": {\"5\": 12}, \"24\": {\"24\": 12}, \"54\": {\"54\": 10}, \"23\": {\"23\": 12}, \"51\": {\"51\": 12}, \"27\": {\"27\": 10}, \"15\": {\"15\": 12}, \"0\": {\"0\": 12}, \"19\": {\"19\": 10}, \"18\": {\"18\": 8}, \"30\": {\"30\": 12}, \"55\": {\"55\": 10}, \"57\": {\"57\": 12}, \"2\": {\"2\": 12}, \"12\": {\"12\": 8}, \"41\": {\"41\": 12}, \"42\": {\"42\": 12}, \"48\": {\"48\": 12}, \"37\": {\"37\": 12}, \"6\": {\"6\": 10}, \"11\": {\"11\": 10}, \"45\": {\"45\": 8}, \"21\": {\"21\": 12}, \"46\": {\"46\": 9, \"7\": 1}, \"25\": {\"25\": 12}, \"36\": {\"36\": 10}, \"53\": {\"53\": 12}, \"28\": {\"28\": 12}, \"40\": {\"40\": 10}, \"33\": {\"33\": 10}, \"44\": {\"44\": 10}, \"3\": {\"3\": 12}, \"17\": {\"17\": 12}, \"32\": {\"32\": 10}, \"10\": {\"10\": 10}, \"52\": {\"52\": 10}, \"50\": {\"50\": 8}, \"29\": {\"29\": 6}}, \"ORACLE.run1_14\": {\"15\": {\"7\": 162, \"15\": 158, \"4\": 97, \"12\": 34, \"0\": 33, \"1\": 120, \"5\": 95, \"10\": 43, \"8\": 97, \"2\": 67, \"11\": 36, \"13\": 47, \"9\": 47, \"3\": 67, \"14\": 48, \"6\": 49}, \"3\": {\"14\": 92, \"8\": 43, \"13\": 92, \"4\": 71, \"5\": 81, \"1\": 77, \"15\": 77, \"2\": 82, \"7\": 79, \"3\": 69, \"6\": 76, \"9\": 56, \"0\": 95, \"10\": 71, \"11\": 85, \"12\": 54}, \"6\": {\"3\": 96, \"0\": 72, \"14\": 130, \"4\": 60, \"6\": 129, \"12\": 32, \"13\": 140, \"1\": 36, \"2\": 101, \"10\": 113, \"15\": 50, \"7\": 31, \"5\": 59, \"11\": 99, \"9\": 37, \"8\": 15}, \"1\": {\"9\": 96, \"0\": 60, \"4\": 85, \"3\": 55, \"15\": 100, \"1\": 122, \"8\": 125, \"5\": 95, \"10\": 46, \"12\": 55, \"7\": 137, \"2\": 64, \"13\": 39, \"11\": 42, \"14\": 33, \"6\": 46}, \"8\": {\"8\": 294, \"12\": 91, \"1\": 119, \"0\": 49, \"4\": 51, \"15\": 104, \"5\": 68, \"9\": 105, \"7\": 159, \"3\": 45, \"10\": 30, \"13\": 14, \"2\": 20, \"11\": 27, \"6\": 14, \"14\": 10}, \"10\": {\"4\": 57, \"10\": 115, \"2\": 86, \"9\": 54, \"0\": 98, \"14\": 122, \"13\": 115, \"5\": 68, \"15\": 31, \"7\": 47, \"6\": 86, \"8\": 28, \"3\": 80, \"11\": 93, \"12\": 70, \"1\": 50}, \"9\": {\"1\": 74, \"9\": 144, \"11\": 96, \"13\": 39, \"4\": 61, \"12\": 126, \"14\": 34, \"15\": 72, \"2\": 49, \"0\": 78, \"8\": 130, \"5\": 58, \"7\": 74, \"10\": 64, \"3\": 69, \"6\": 32}, \"13\": {\"8\": 18, \"0\": 64, \"4\": 60, \"13\": 135, \"1\": 48, \"14\": 132, \"5\": 52, \"3\": 83, \"15\": 65, \"10\": 119, \"6\": 136, \"11\": 68, \"7\": 48, \"12\": 30, \"2\": 102, \"9\": 40}, \"12\": {\"1\": 69, \"12\": 160, \"11\": 118, \"9\": 135, \"0\": 90, \"8\": 135, \"14\": 47, \"13\": 36, \"15\": 40, \"10\": 62, \"6\": 36, \"3\": 60, \"5\": 67, \"7\": 54, \"4\": 54, \"2\": 37}, \"5\": {\"4\": 97, \"12\": 61, \"6\": 68, \"11\": 55, \"0\": 62, \"14\": 61, \"7\": 93, \"9\": 70, \"2\": 76, \"10\": 51, \"13\": 63, \"15\": 89, \"1\": 104, \"5\": 106, \"8\": 76, \"3\": 68}, \"0\": {\"4\": 76, \"7\": 65, \"10\": 86, \"11\": 105, \"2\": 68, \"9\": 82, \"0\": 77, \"8\": 43, \"6\": 65, \"3\": 86, \"13\": 82, \"15\": 56, \"5\": 84, \"1\": 74, \"14\": 83, \"12\": 68}, \"2\": {\"14\": 110, \"6\": 119, \"11\": 88, \"10\": 104, \"2\": 93, \"13\": 105, \"1\": 68, \"3\": 89, \"9\": 59, \"7\": 41, \"15\": 57, \"0\": 71, \"12\": 34, \"4\": 69, \"5\": 71, \"8\": 22}, \"11\": {\"4\": 55, \"6\": 94, \"11\": 148, \"14\": 101, \"2\": 85, \"13\": 83, \"3\": 79, \"12\": 68, \"10\": 101, \"0\": 101, \"5\": 50, \"15\": 35, \"9\": 84, \"8\": 27, \"7\": 36, \"1\": 53}, \"14\": {\"6\": 129, \"1\": 41, \"2\": 104, \"14\": 121, \"12\": 34, \"13\": 135, \"0\": 81, \"5\": 62, \"10\": 103, \"4\": 80, \"7\": 30, \"9\": 51, \"11\": 91, \"3\": 79, \"15\": 43, \"8\": 16}, \"7\": {\"8\": 181, \"1\": 136, \"13\": 32, \"7\": 158, \"15\": 148, \"12\": 35, \"5\": 100, \"14\": 30, \"0\": 46, \"9\": 62, \"4\": 81, \"11\": 30, \"10\": 44, \"2\": 37, \"3\": 56, \"6\": 24}, \"4\": {\"7\": 96, \"2\": 60, \"4\": 91, \"3\": 79, \"6\": 83, \"12\": 55, \"5\": 81, \"10\": 66, \"15\": 97, \"0\": 76, \"11\": 47, \"1\": 95, \"13\": 67, \"14\": 72, \"9\": 63, \"8\": 72}}, \"ORACLE.run1_20\": {\"3\": {\"9\": 81, \"0\": 67, \"1\": 65, \"2\": 70, \"8\": 67, \"13\": 81, \"10\": 84, \"3\": 73, \"7\": 69, \"15\": 68, \"6\": 97, \"12\": 89, \"5\": 69, \"14\": 68, \"11\": 71, \"4\": 81}, \"15\": {\"5\": 73, \"9\": 91, \"2\": 88, \"15\": 102, \"1\": 85, \"11\": 100, \"13\": 84, \"8\": 65, \"7\": 66, \"6\": 54, \"4\": 62, \"12\": 72, \"10\": 59, \"0\": 80, \"14\": 56, \"3\": 63}, \"8\": {\"2\": 65, \"6\": 94, \"14\": 99, \"10\": 98, \"4\": 112, \"13\": 49, \"8\": 107, \"9\": 60, \"3\": 65, \"12\": 69, \"0\": 67, \"1\": 75, \"15\": 50, \"7\": 67, \"5\": 73, \"11\": 50}, \"4\": {\"4\": 103, \"5\": 84, \"12\": 49, \"8\": 89, \"1\": 71, \"3\": 88, \"14\": 115, \"10\": 113, \"13\": 45, \"15\": 52, \"0\": 66, \"9\": 80, \"2\": 62, \"7\": 61, \"6\": 92, \"11\": 30}, \"14\": {\"13\": 46, \"1\": 67, \"10\": 132, \"3\": 80, \"4\": 103, \"7\": 77, \"5\": 63, \"0\": 72, \"11\": 28, \"14\": 112, \"6\": 95, \"2\": 67, \"8\": 97, \"12\": 62, \"15\": 55, \"9\": 44}, \"0\": {\"3\": 65, \"7\": 64, \"10\": 81, \"6\": 82, \"4\": 76, \"11\": 74, \"13\": 92, \"12\": 76, \"0\": 86, \"5\": 79, \"14\": 63, \"15\": 80, \"1\": 62, \"2\": 66, \"9\": 75, \"8\": 79}, \"7\": {\"13\": 75, \"12\": 75, \"6\": 83, \"10\": 88, \"2\": 64, \"11\": 79, \"7\": 67, \"9\": 63, \"15\": 77, \"0\": 64, \"1\": 81, \"3\": 76, \"14\": 59, \"5\": 92, \"4\": 80, \"8\": 77}, \"6\": {\"4\": 90, \"12\": 68, \"9\": 64, \"11\": 54, \"13\": 71, \"7\": 67, \"2\": 65, \"3\": 77, \"8\": 82, \"6\": 85, \"14\": 81, \"0\": 77, \"1\": 64, \"10\": 106, \"5\": 76, \"15\": 73}, \"10\": {\"12\": 65, \"6\": 91, \"4\": 114, \"10\": 125, \"1\": 67, \"0\": 73, \"3\": 68, \"7\": 66, \"5\": 66, \"15\": 58, \"8\": 99, \"13\": 46, \"14\": 118, \"9\": 62, \"2\": 56, \"11\": 26}, \"5\": {\"10\": 91, \"14\": 79, \"6\": 76, \"15\": 79, \"0\": 70, \"1\": 68, \"12\": 77, \"13\": 63, \"4\": 90, \"8\": 72, \"11\": 67, \"5\": 74, \"9\": 79, \"2\": 76, \"7\": 75, \"3\": 64}, \"2\": {\"9\": 88, \"2\": 77, \"12\": 86, \"11\": 83, \"7\": 63, \"3\": 80, \"8\": 62, \"13\": 81, \"4\": 69, \"10\": 51, \"6\": 83, \"1\": 86, \"14\": 55, \"5\": 63, \"0\": 73, \"15\": 100}, \"12\": {\"0\": 82, \"9\": 71, \"11\": 61, \"4\": 63, \"10\": 78, \"2\": 80, \"8\": 74, \"13\": 89, \"7\": 85, \"1\": 78, \"15\": 82, \"14\": 70, \"5\": 75, \"12\": 57, \"3\": 92, \"6\": 63}, \"9\": {\"0\": 77, \"12\": 77, \"8\": 67, \"2\": 73, \"1\": 89, \"3\": 70, \"5\": 68, \"11\": 92, \"7\": 77, \"10\": 61, \"6\": 75, \"15\": 96, \"9\": 70, \"13\": 91, \"4\": 55, \"14\": 62}, \"1\": {\"13\": 69, \"9\": 70, \"14\": 67, \"12\": 76, \"4\": 69, \"2\": 96, \"5\": 71, \"8\": 50, \"11\": 81, \"1\": 74, \"10\": 68, \"6\": 70, \"0\": 82, \"15\": 87, \"3\": 74, \"7\": 96}, \"11\": {\"11\": 196, \"0\": 75, \"3\": 66, \"15\": 84, \"1\": 77, \"2\": 107, \"13\": 108, \"12\": 76, \"6\": 59, \"9\": 83, \"8\": 34, \"7\": 82, \"5\": 52, \"14\": 35, \"4\": 35, \"10\": 31}, \"13\": {\"9\": 75, \"4\": 47, \"0\": 75, \"1\": 83, \"6\": 50, \"12\": 87, \"15\": 92, \"5\": 53, \"7\": 86, \"11\": 143, \"10\": 42, \"14\": 57, \"3\": 61, \"2\": 84, \"13\": 114, \"8\": 51}}, \"ORACLE.run1_38\": {\"5\": {\"7\": 93, \"15\": 90, \"8\": 99, \"5\": 120, \"6\": 106, \"12\": 24, \"13\": 110, \"14\": 28, \"9\": 90, \"3\": 103, \"11\": 17, \"2\": 66, \"1\": 93, \"10\": 68, \"0\": 85, \"4\": 8}, \"8\": {\"15\": 94, \"10\": 95, \"1\": 86, \"0\": 119, \"7\": 120, \"9\": 49, \"14\": 45, \"5\": 95, \"2\": 91, \"6\": 65, \"3\": 61, \"12\": 31, \"8\": 102, \"13\": 115, \"4\": 15, \"11\": 17}, \"11\": {\"14\": 164, \"12\": 220, \"2\": 62, \"4\": 215, \"8\": 43, \"0\": 38, \"11\": 235, \"10\": 89, \"7\": 47, \"5\": 23, \"6\": 8, \"3\": 6, \"13\": 21, \"15\": 20, \"1\": 7, \"9\": 2}, \"1\": {\"1\": 181, \"15\": 98, \"14\": 20, \"6\": 145, \"9\": 152, \"13\": 106, \"5\": 117, \"10\": 28, \"7\": 35, \"8\": 66, \"3\": 136, \"12\": 2, \"2\": 55, \"0\": 55, \"11\": 4}, \"10\": {\"10\": 123, \"8\": 102, \"5\": 71, \"11\": 92, \"12\": 93, \"7\": 119, \"14\": 113, \"15\": 77, \"0\": 92, \"2\": 82, \"1\": 29, \"6\": 24, \"13\": 71, \"4\": 63, \"3\": 32, \"9\": 17}, \"15\": {\"9\": 59, \"15\": 125, \"4\": 10, \"10\": 79, \"7\": 74, \"14\": 50, \"13\": 92, \"0\": 80, \"6\": 95, \"2\": 98, \"8\": 105, \"1\": 89, \"5\": 113, \"12\": 28, \"3\": 80, \"11\": 23}, \"3\": {\"13\": 86, \"5\": 100, \"6\": 159, \"15\": 67, \"9\": 181, \"1\": 120, \"8\": 63, \"7\": 72, \"0\": 79, \"3\": 211, \"12\": 7, \"2\": 28, \"10\": 20, \"4\": 2, \"11\": 2, \"14\": 3}, \"7\": {\"10\": 115, \"5\": 92, \"1\": 36, \"7\": 178, \"14\": 63, \"12\": 69, \"15\": 76, \"13\": 69, \"4\": 37, \"0\": 125, \"2\": 66, \"8\": 115, \"3\": 49, \"6\": 36, \"9\": 37, \"11\": 37}, \"4\": {\"12\": 270, \"4\": 460, \"11\": 199, \"8\": 14, \"7\": 46, \"14\": 99, \"2\": 17, \"10\": 51, \"0\": 23, \"15\": 2, \"5\": 11, \"13\": 7, \"6\": 1}, \"14\": {\"14\": 176, \"15\": 44, \"12\": 145, \"8\": 58, \"11\": 164, \"7\": 69, \"2\": 106, \"0\": 61, \"6\": 8, \"10\": 122, \"4\": 143, \"3\": 6, \"13\": 39, \"5\": 33, \"9\": 5, \"1\": 21}, \"9\": {\"10\": 17, \"13\": 94, \"6\": 181, \"3\": 208, \"9\": 226, \"1\": 143, \"8\": 56, \"5\": 90, \"0\": 48, \"7\": 33, \"15\": 70, \"2\": 23, \"14\": 5, \"12\": 4, \"11\": 1, \"4\": 1}, \"12\": {\"14\": 144, \"5\": 16, \"11\": 180, \"7\": 63, \"4\": 297, \"10\": 95, \"2\": 44, \"12\": 252, \"0\": 34, \"15\": 22, \"8\": 26, \"13\": 16, \"6\": 3, \"1\": 3, \"9\": 3, \"3\": 2}, \"6\": {\"9\": 198, \"0\": 48, \"1\": 148, \"15\": 85, \"5\": 106, \"6\": 188, \"7\": 45, \"8\": 52, \"2\": 37, \"13\": 81, \"3\": 169, \"10\": 28, \"14\": 6, \"4\": 1, \"12\": 4, \"11\": 4}, \"2\": {\"10\": 99, \"2\": 130, \"15\": 127, \"14\": 87, \"11\": 61, \"5\": 81, \"3\": 36, \"7\": 79, \"13\": 105, \"8\": 88, \"12\": 47, \"0\": 80, \"4\": 17, \"1\": 75, \"6\": 55, \"9\": 33}, \"0\": {\"10\": 96, \"7\": 138, \"3\": 61, \"0\": 102, \"2\": 78, \"9\": 63, \"13\": 81, \"8\": 103, \"11\": 37, \"6\": 59, \"1\": 58, \"4\": 26, \"15\": 100, \"5\": 108, \"14\": 41, \"12\": 49}, \"13\": {\"8\": 103, \"2\": 98, \"13\": 114, \"7\": 67, \"15\": 98, \"9\": 93, \"3\": 87, \"6\": 102, \"1\": 108, \"14\": 39, \"5\": 96, \"12\": 18, \"10\": 72, \"0\": 73, \"4\": 11, \"11\": 21}}, \"ORACLE.run1_8\": {\"9\": {\"9\": 367, \"11\": 26, \"0\": 108, \"10\": 89, \"4\": 77, \"13\": 93, \"3\": 40, \"2\": 71, \"7\": 74, \"5\": 52, \"14\": 66, \"12\": 14, \"8\": 20, \"15\": 19, \"6\": 66, \"1\": 18}, \"10\": {\"4\": 87, \"7\": 64, \"2\": 94, \"0\": 76, \"15\": 60, \"6\": 84, \"9\": 73, \"5\": 80, \"3\": 65, \"13\": 86, \"11\": 78, \"10\": 83, \"14\": 81, \"12\": 64, \"8\": 66, \"1\": 59}, \"13\": {\"15\": 65, \"10\": 78, \"2\": 80, \"1\": 46, \"7\": 78, \"0\": 89, \"6\": 74, \"5\": 79, \"8\": 67, \"13\": 104, \"9\": 85, \"14\": 86, \"12\": 64, \"4\": 80, \"3\": 78, \"11\": 47}, \"0\": {\"9\": 109, \"0\": 115, \"2\": 99, \"7\": 82, \"1\": 43, \"5\": 70, \"10\": 87, \"13\": 81, \"15\": 47, \"4\": 78, \"14\": 75, \"8\": 54, \"12\": 64, \"3\": 80, \"6\": 67, \"11\": 49}, \"1\": {\"8\": 105, \"10\": 62, \"6\": 75, \"11\": 114, \"1\": 104, \"12\": 96, \"4\": 76, \"14\": 75, \"15\": 87, \"5\": 82, \"3\": 67, \"2\": 59, \"13\": 58, \"0\": 59, \"7\": 58, \"9\": 23}, \"15\": {\"6\": 67, \"7\": 72, \"5\": 85, \"3\": 81, \"2\": 66, \"11\": 90, \"10\": 56, \"4\": 72, \"0\": 55, \"1\": 91, \"14\": 78, \"12\": 101, \"15\": 98, \"8\": 105, \"9\": 22, \"13\": 61}, \"5\": {\"7\": 68, \"11\": 99, \"1\": 95, \"4\": 84, \"15\": 74, \"5\": 90, \"6\": 73, \"3\": 65, \"0\": 76, \"10\": 73, \"8\": 83, \"14\": 87, \"2\": 51, \"13\": 73, \"12\": 59, \"9\": 50}, \"3\": {\"13\": 87, \"6\": 60, \"1\": 71, \"2\": 102, \"15\": 86, \"8\": 87, \"14\": 75, \"0\": 69, \"4\": 79, \"10\": 56, \"11\": 68, \"3\": 98, \"5\": 46, \"12\": 92, \"7\": 81, \"9\": 43}, \"6\": {\"5\": 58, \"12\": 73, \"7\": 68, \"8\": 77, \"9\": 53, \"4\": 78, \"3\": 84, \"13\": 90, \"10\": 78, \"0\": 92, \"14\": 84, \"2\": 85, \"15\": 66, \"1\": 61, \"11\": 76, \"6\": 77}, \"11\": {\"4\": 77, \"11\": 104, \"2\": 49, \"6\": 67, \"1\": 124, \"5\": 96, \"3\": 55, \"0\": 59, \"14\": 84, \"10\": 72, \"8\": 109, \"7\": 61, \"12\": 87, \"13\": 58, \"15\": 77, \"9\": 21}, \"8\": {\"8\": 99, \"6\": 69, \"12\": 101, \"3\": 62, \"2\": 54, \"11\": 112, \"15\": 108, \"14\": 83, \"4\": 61, \"10\": 68, \"0\": 63, \"7\": 53, \"13\": 63, \"1\": 97, \"5\": 84, \"9\": 23}, \"4\": {\"4\": 90, \"6\": 71, \"12\": 75, \"9\": 60, \"1\": 72, \"15\": 63, \"10\": 76, \"14\": 78, \"5\": 62, \"2\": 79, \"3\": 73, \"7\": 79, \"13\": 89, \"8\": 78, \"0\": 85, \"11\": 70}, \"12\": {\"15\": 103, \"4\": 73, \"10\": 55, \"11\": 94, \"14\": 71, \"3\": 100, \"7\": 69, \"6\": 69, \"8\": 100, \"1\": 86, \"12\": 108, \"0\": 55, \"5\": 78, \"2\": 59, \"13\": 62, \"9\": 18}, \"14\": {\"10\": 76, \"4\": 83, \"1\": 75, \"5\": 90, \"0\": 79, \"13\": 79, \"15\": 71, \"9\": 56, \"7\": 88, \"14\": 60, \"2\": 73, \"6\": 65, \"12\": 66, \"3\": 72, \"8\": 81, \"11\": 86}, \"2\": {\"10\": 77, \"0\": 105, \"2\": 116, \"3\": 96, \"11\": 45, \"1\": 45, \"4\": 69, \"6\": 94, \"14\": 75, \"9\": 71, \"7\": 75, \"13\": 96, \"12\": 65, \"8\": 57, \"5\": 63, \"15\": 51}, \"7\": {\"8\": 79, \"6\": 78, \"10\": 77, \"0\": 80, \"5\": 60, \"9\": 49, \"14\": 75, \"7\": 85, \"4\": 80, \"3\": 92, \"2\": 101, \"11\": 73, \"13\": 90, \"15\": 69, \"12\": 55, \"1\": 57}}, \"ORACLE.run1_50\": {\"7\": {\"3\": 107, \"0\": 60, \"11\": 61, \"5\": 106, \"15\": 99, \"6\": 87, \"8\": 55, \"10\": 92, \"1\": 79, \"7\": 117, \"13\": 115, \"9\": 40, \"4\": 104, \"2\": 32, \"14\": 23, \"12\": 23}, \"3\": {\"3\": 193, \"11\": 37, \"7\": 121, \"4\": 75, \"8\": 135, \"5\": 111, \"10\": 109, \"1\": 64, \"6\": 73, \"0\": 46, \"13\": 102, \"2\": 29, \"9\": 18, \"14\": 20, \"15\": 63, \"12\": 4}, \"8\": {\"7\": 81, \"13\": 75, \"1\": 87, \"15\": 65, \"5\": 59, \"2\": 97, \"8\": 119, \"10\": 99, \"9\": 37, \"0\": 104, \"4\": 61, \"14\": 78, \"3\": 101, \"6\": 64, \"12\": 29, \"11\": 44}, \"2\": {\"11\": 67, \"14\": 165, \"0\": 125, \"15\": 35, \"2\": 211, \"12\": 192, \"3\": 14, \"6\": 34, \"10\": 49, \"9\": 85, \"4\": 27, \"13\": 30, \"1\": 46, \"8\": 80, \"5\": 25, \"7\": 15}, \"14\": {\"11\": 88, \"1\": 69, \"13\": 26, \"12\": 173, \"6\": 50, \"14\": 168, \"9\": 130, \"0\": 105, \"5\": 24, \"2\": 144, \"4\": 43, \"15\": 47, \"8\": 48, \"7\": 29, \"10\": 40, \"3\": 16}, \"4\": {\"15\": 105, \"5\": 109, \"1\": 98, \"13\": 93, \"7\": 98, \"4\": 115, \"12\": 22, \"11\": 100, \"9\": 64, \"6\": 104, \"0\": 53, \"3\": 64, \"10\": 55, \"2\": 41, \"14\": 34, \"8\": 45}, \"6\": {\"3\": 58, \"15\": 114, \"14\": 49, \"1\": 101, \"0\": 64, \"2\": 44, \"10\": 74, \"6\": 94, \"7\": 95, \"13\": 99, \"5\": 98, \"4\": 90, \"11\": 90, \"8\": 58, \"12\": 20, \"9\": 52}, \"15\": {\"11\": 83, \"1\": 117, \"5\": 94, \"15\": 110, \"14\": 44, \"7\": 103, \"0\": 44, \"2\": 31, \"4\": 128, \"6\": 103, \"9\": 62, \"3\": 48, \"13\": 97, \"10\": 53, \"8\": 55, \"12\": 28}, \"10\": {\"9\": 54, \"13\": 87, \"15\": 72, \"1\": 76, \"8\": 93, \"6\": 87, \"7\": 85, \"3\": 71, \"2\": 62, \"10\": 108, \"11\": 50, \"5\": 74, \"12\": 34, \"0\": 113, \"14\": 72, \"4\": 62}, \"11\": {\"0\": 95, \"7\": 59, \"10\": 53, \"15\": 77, \"1\": 95, \"11\": 129, \"6\": 79, \"5\": 68, \"12\": 77, \"14\": 98, \"2\": 61, \"9\": 111, \"13\": 58, \"4\": 76, \"8\": 46, \"3\": 18}, \"13\": {\"13\": 114, \"3\": 78, \"15\": 93, \"4\": 103, \"7\": 132, \"11\": 57, \"1\": 100, \"9\": 37, \"5\": 108, \"0\": 50, \"10\": 80, \"6\": 109, \"14\": 27, \"8\": 59, \"2\": 32, \"12\": 21}, \"9\": {\"11\": 126, \"12\": 126, \"10\": 40, \"1\": 90, \"14\": 107, \"13\": 37, \"0\": 92, \"9\": 138, \"6\": 45, \"2\": 99, \"15\": 98, \"5\": 44, \"8\": 43, \"7\": 33, \"4\": 76, \"3\": 6}, \"0\": {\"5\": 45, \"2\": 140, \"4\": 57, \"8\": 95, \"14\": 106, \"0\": 116, \"10\": 97, \"12\": 89, \"3\": 40, \"9\": 79, \"13\": 54, \"7\": 44, \"1\": 61, \"6\": 62, \"15\": 53, \"11\": 62}, \"1\": {\"9\": 94, \"8\": 57, \"14\": 51, \"10\": 77, \"6\": 82, \"3\": 44, \"12\": 34, \"11\": 94, \"7\": 83, \"5\": 88, \"13\": 69, \"1\": 93, \"15\": 107, \"4\": 95, \"0\": 78, \"2\": 54}, \"12\": {\"5\": 7, \"12\": 294, \"1\": 31, \"0\": 91, \"11\": 95, \"14\": 201, \"9\": 125, \"10\": 26, \"13\": 13, \"7\": 10, \"2\": 186, \"4\": 19, \"8\": 37, \"15\": 35, \"3\": 7, \"6\": 23}, \"5\": {\"11\": 55, \"3\": 75, \"5\": 115, \"13\": 100, \"15\": 100, \"7\": 161, \"10\": 73, \"9\": 44, \"4\": 105, \"8\": 63, \"1\": 95, \"2\": 25, \"6\": 100, \"0\": 49, \"12\": 9, \"14\": 31}}, \"ORACLE.run1_32\": {\"8\": {\"8\": 143, \"4\": 73, \"10\": 24, \"3\": 165, \"0\": 82, \"14\": 44, \"11\": 52, \"7\": 63, \"12\": 48, \"1\": 8, \"13\": 127, \"9\": 61, \"15\": 111, \"5\": 95, \"2\": 81, \"6\": 23}, \"14\": {\"0\": 91, \"14\": 174, \"7\": 126, \"8\": 54, \"2\": 120, \"11\": 184, \"15\": 10, \"5\": 79, \"4\": 104, \"6\": 38, \"13\": 85, \"9\": 35, \"3\": 71, \"12\": 26, \"10\": 1, \"1\": 2}, \"2\": {\"3\": 64, \"6\": 77, \"4\": 100, \"0\": 93, \"13\": 82, \"7\": 133, \"14\": 104, \"5\": 99, \"10\": 10, \"2\": 125, \"11\": 110, \"15\": 7, \"9\": 86, \"12\": 42, \"8\": 66, \"1\": 2}, \"0\": {\"13\": 112, \"4\": 84, \"8\": 91, \"7\": 90, \"2\": 115, \"15\": 38, \"1\": 9, \"0\": 107, \"3\": 103, \"10\": 13, \"11\": 103, \"5\": 92, \"12\": 34, \"9\": 56, \"14\": 114, \"6\": 39}, \"1\": {\"12\": 179, \"10\": 317, \"1\": 326, \"9\": 77, \"5\": 18, \"15\": 35, \"6\": 126, \"8\": 22, \"7\": 12, \"11\": 3, \"2\": 19, \"3\": 13, \"0\": 16, \"13\": 15, \"4\": 15, \"14\": 7}, \"10\": {\"4\": 8, \"1\": 295, \"12\": 208, \"8\": 35, \"10\": 329, \"6\": 72, \"15\": 70, \"9\": 76, \"2\": 20, \"7\": 8, \"13\": 23, \"5\": 22, \"3\": 11, \"0\": 12, \"14\": 6, \"11\": 5}, \"11\": {\"0\": 110, \"14\": 165, \"4\": 84, \"13\": 71, \"3\": 76, \"9\": 46, \"5\": 105, \"11\": 183, \"7\": 125, \"12\": 14, \"2\": 117, \"6\": 34, \"8\": 52, \"10\": 4, \"15\": 10, \"1\": 4}, \"5\": {\"4\": 101, \"9\": 68, \"0\": 106, \"11\": 86, \"7\": 99, \"13\": 108, \"2\": 84, \"5\": 89, \"1\": 7, \"15\": 40, \"10\": 16, \"3\": 114, \"14\": 110, \"8\": 109, \"6\": 25, \"12\": 38}, \"15\": {\"15\": 572, \"3\": 128, \"0\": 46, \"14\": 7, \"10\": 47, \"8\": 118, \"13\": 82, \"5\": 34, \"7\": 10, \"12\": 60, \"2\": 13, \"9\": 32, \"4\": 29, \"11\": 2, \"1\": 18, \"6\": 2}, \"3\": {\"11\": 52, \"13\": 134, \"0\": 85, \"3\": 165, \"15\": 114, \"7\": 71, \"4\": 86, \"5\": 111, \"6\": 11, \"8\": 130, \"2\": 69, \"1\": 7, \"10\": 13, \"14\": 63, \"9\": 48, \"12\": 41}, \"12\": {\"15\": 69, \"9\": 126, \"12\": 191, \"5\": 37, \"4\": 56, \"14\": 26, \"10\": 167, \"1\": 115, \"13\": 65, \"8\": 62, \"6\": 115, \"3\": 38, \"7\": 26, \"0\": 49, \"11\": 21, \"2\": 37}, \"7\": {\"0\": 95, \"13\": 81, \"6\": 39, \"9\": 58, \"4\": 87, \"5\": 94, \"11\": 157, \"2\": 115, \"7\": 117, \"8\": 93, \"14\": 129, \"12\": 27, \"3\": 80, \"15\": 16, \"1\": 7, \"10\": 5}, \"13\": {\"9\": 68, \"11\": 78, \"3\": 129, \"13\": 130, \"5\": 101, \"4\": 81, \"8\": 131, \"7\": 71, \"12\": 50, \"0\": 93, \"14\": 62, \"2\": 89, \"15\": 70, \"6\": 26, \"10\": 14, \"1\": 7}, \"6\": {\"5\": 33, \"0\": 51, \"14\": 54, \"10\": 66, \"9\": 154, \"6\": 331, \"1\": 61, \"4\": 44, \"2\": 90, \"12\": 113, \"7\": 61, \"11\": 49, \"8\": 33, \"13\": 34, \"3\": 21, \"15\": 5}, \"4\": {\"7\": 125, \"13\": 118, \"6\": 50, \"0\": 89, \"14\": 90, \"3\": 75, \"8\": 80, \"5\": 99, \"2\": 94, \"12\": 42, \"15\": 41, \"1\": 10, \"9\": 88, \"4\": 101, \"11\": 88, \"10\": 10}, \"9\": {\"8\": 70, \"0\": 74, \"13\": 73, \"7\": 77, \"5\": 82, \"6\": 111, \"14\": 53, \"3\": 55, \"4\": 90, \"9\": 113, \"12\": 122, \"2\": 92, \"1\": 52, \"15\": 41, \"11\": 38, \"10\": 57}}, \"ORACLE.run1_26\": {\"4\": {\"1\": 119, \"11\": 26, \"0\": 111, \"7\": 89, \"8\": 104, \"12\": 48, \"13\": 46, \"9\": 53, \"2\": 82, \"5\": 40, \"3\": 66, \"14\": 106, \"4\": 96, \"6\": 66, \"10\": 97, \"15\": 51}, \"12\": {\"9\": 65, \"13\": 66, \"1\": 83, \"8\": 90, \"10\": 65, \"12\": 111, \"15\": 73, \"0\": 85, \"7\": 72, \"5\": 63, \"4\": 74, \"11\": 86, \"6\": 67, \"2\": 70, \"14\": 79, \"3\": 51}, \"10\": {\"12\": 74, \"7\": 69, \"9\": 73, \"3\": 68, \"11\": 41, \"10\": 88, \"15\": 74, \"8\": 81, \"5\": 42, \"1\": 96, \"14\": 93, \"0\": 96, \"4\": 100, \"2\": 72, \"13\": 45, \"6\": 88}, \"0\": {\"9\": 58, \"15\": 46, \"5\": 44, \"10\": 96, \"12\": 74, \"7\": 78, \"6\": 98, \"13\": 41, \"2\": 51, \"4\": 96, \"3\": 74, \"1\": 107, \"14\": 106, \"0\": 109, \"8\": 84, \"11\": 38}, \"13\": {\"4\": 38, \"15\": 83, \"11\": 152, \"12\": 56, \"13\": 149, \"8\": 59, \"5\": 136, \"7\": 56, \"2\": 109, \"0\": 44, \"6\": 64, \"3\": 69, \"9\": 93, \"10\": 27, \"1\": 22, \"14\": 43}, \"9\": {\"13\": 109, \"2\": 91, \"5\": 116, \"3\": 95, \"12\": 63, \"10\": 62, \"15\": 88, \"7\": 70, \"6\": 62, \"14\": 59, \"4\": 55, \"9\": 77, \"8\": 68, \"11\": 88, \"1\": 40, \"0\": 57}, \"3\": {\"3\": 87, \"5\": 72, \"0\": 64, \"7\": 74, \"1\": 69, \"6\": 75, \"14\": 66, \"8\": 75, \"2\": 98, \"10\": 84, \"15\": 75, \"12\": 66, \"9\": 95, \"4\": 68, \"13\": 68, \"11\": 64}, \"2\": {\"4\": 78, \"9\": 89, \"13\": 110, \"15\": 83, \"10\": 69, \"14\": 43, \"2\": 104, \"6\": 72, \"8\": 60, \"1\": 66, \"11\": 76, \"3\": 81, \"5\": 91, \"7\": 72, \"12\": 46, \"0\": 60}, \"5\": {\"5\": 133, \"3\": 83, \"12\": 56, \"15\": 92, \"13\": 123, \"6\": 71, \"9\": 108, \"8\": 46, \"7\": 79, \"10\": 47, \"11\": 105, \"4\": 37, \"1\": 45, \"2\": 103, \"0\": 39, \"14\": 33}, \"14\": {\"14\": 136, \"5\": 38, \"8\": 81, \"0\": 109, \"2\": 61, \"6\": 70, \"3\": 71, \"12\": 64, \"15\": 57, \"10\": 101, \"1\": 123, \"4\": 107, \"11\": 23, \"7\": 88, \"9\": 41, \"13\": 30}, \"8\": {\"6\": 92, \"15\": 93, \"9\": 69, \"10\": 82, \"14\": 77, \"5\": 67, \"3\": 71, \"4\": 85, \"2\": 63, \"12\": 72, \"1\": 77, \"11\": 42, \"8\": 102, \"0\": 74, \"7\": 92, \"13\": 42}, \"7\": {\"3\": 94, \"15\": 71, \"2\": 72, \"7\": 81, \"12\": 65, \"1\": 98, \"0\": 68, \"14\": 82, \"9\": 75, \"10\": 83, \"8\": 80, \"6\": 78, \"5\": 64, \"13\": 69, \"4\": 70, \"11\": 50}, \"6\": {\"2\": 70, \"3\": 59, \"12\": 86, \"5\": 76, \"11\": 73, \"6\": 87, \"4\": 80, \"8\": 71, \"14\": 63, \"15\": 76, \"0\": 79, \"7\": 87, \"9\": 73, \"1\": 66, \"10\": 88, \"13\": 66}, \"11\": {\"9\": 100, \"2\": 83, \"5\": 121, \"11\": 206, \"13\": 134, \"8\": 50, \"15\": 83, \"6\": 49, \"12\": 88, \"14\": 33, \"4\": 28, \"1\": 32, \"0\": 34, \"7\": 58, \"10\": 37, \"3\": 64}, \"15\": {\"4\": 63, \"3\": 59, \"0\": 61, \"7\": 67, \"8\": 88, \"13\": 87, \"6\": 84, \"11\": 91, \"5\": 100, \"15\": 80, \"12\": 70, \"2\": 89, \"10\": 66, \"14\": 58, \"1\": 44, \"9\": 93}, \"1\": {\"1\": 107, \"8\": 85, \"4\": 112, \"14\": 122, \"3\": 69, \"0\": 97, \"9\": 63, \"12\": 62, \"15\": 52, \"6\": 72, \"10\": 117, \"2\": 68, \"7\": 81, \"5\": 33, \"11\": 26, \"13\": 34}}, \"ORACLE.run1_44\": {\"12\": {\"10\": 140, \"1\": 164, \"11\": 12, \"13\": 31, \"2\": 83, \"15\": 65, \"5\": 33, \"8\": 32, \"12\": 176, \"9\": 65, \"14\": 49, \"7\": 66, \"3\": 160, \"4\": 48, \"0\": 44, \"6\": 32}, \"7\": {\"9\": 112, \"14\": 50, \"13\": 115, \"4\": 74, \"11\": 74, \"10\": 100, \"2\": 103, \"6\": 114, \"3\": 62, \"12\": 84, \"7\": 124, \"1\": 77, \"8\": 14, \"0\": 36, \"15\": 26, \"5\": 35}, \"5\": {\"7\": 55, \"4\": 124, \"11\": 39, \"15\": 105, \"12\": 34, \"5\": 143, \"9\": 64, \"8\": 125, \"3\": 55, \"14\": 130, \"2\": 46, \"10\": 28, \"1\": 31, \"0\": 115, \"13\": 76, \"6\": 30}, \"15\": {\"1\": 67, \"10\": 27, \"14\": 90, \"4\": 83, \"7\": 30, \"3\": 93, \"15\": 210, \"2\": 20, \"0\": 185, \"5\": 90, \"9\": 29, \"12\": 53, \"8\": 191, \"6\": 8, \"13\": 17, \"11\": 7}, \"8\": {\"10\": 23, \"8\": 235, \"15\": 230, \"14\": 89, \"3\": 72, \"4\": 69, \"0\": 216, \"13\": 11, \"5\": 109, \"12\": 30, \"1\": 48, \"7\": 21, \"9\": 19, \"6\": 12, \"2\": 12, \"11\": 4}, \"2\": {\"2\": 114, \"6\": 104, \"14\": 51, \"9\": 109, \"11\": 75, \"13\": 103, \"12\": 94, \"10\": 104, \"3\": 62, \"7\": 111, \"5\": 34, \"4\": 86, \"8\": 14, \"1\": 96, \"0\": 15, \"15\": 28}, \"13\": {\"4\": 67, \"1\": 19, \"10\": 67, \"8\": 8, \"9\": 129, \"11\": 186, \"7\": 121, \"6\": 182, \"2\": 106, \"13\": 145, \"5\": 55, \"3\": 17, \"12\": 26, \"14\": 48, \"0\": 12, \"15\": 12}, \"4\": {\"13\": 75, \"5\": 119, \"6\": 58, \"1\": 71, \"8\": 56, \"4\": 126, \"12\": 47, \"15\": 86, \"3\": 63, \"7\": 84, \"10\": 62, \"0\": 81, \"2\": 62, \"11\": 29, \"14\": 101, \"9\": 80}, \"0\": {\"15\": 192, \"8\": 206, \"13\": 15, \"5\": 124, \"7\": 23, \"4\": 89, \"12\": 45, \"14\": 101, \"0\": 218, \"2\": 34, \"1\": 35, \"6\": 10, \"10\": 16, \"3\": 61, \"9\": 23, \"11\": 8}, \"6\": {\"9\": 129, \"6\": 214, \"5\": 24, \"11\": 227, \"0\": 12, \"13\": 176, \"14\": 34, \"10\": 60, \"2\": 103, \"4\": 53, \"7\": 90, \"3\": 17, \"1\": 22, \"12\": 28, \"8\": 4, \"15\": 7}, \"9\": {\"6\": 115, \"7\": 109, \"8\": 16, \"1\": 69, \"11\": 108, \"0\": 25, \"4\": 87, \"15\": 29, \"13\": 104, \"9\": 123, \"2\": 118, \"5\": 50, \"14\": 57, \"12\": 82, \"10\": 78, \"3\": 30}, \"11\": {\"11\": 343, \"12\": 11, \"6\": 252, \"9\": 96, \"2\": 77, \"13\": 196, \"5\": 22, \"10\": 44, \"8\": 3, \"4\": 33, \"14\": 19, \"7\": 69, \"1\": 22, \"15\": 6, \"3\": 5, \"0\": 2}, \"10\": {\"7\": 116, \"10\": 140, \"13\": 74, \"9\": 95, \"0\": 20, \"3\": 95, \"2\": 114, \"15\": 33, \"12\": 116, \"1\": 135, \"5\": 25, \"11\": 69, \"14\": 36, \"6\": 59, \"8\": 15, \"4\": 58}, \"14\": {\"13\": 57, \"9\": 69, \"6\": 41, \"12\": 70, \"4\": 129, \"7\": 78, \"8\": 88, \"15\": 92, \"11\": 25, \"2\": 58, \"5\": 109, \"3\": 66, \"14\": 98, \"10\": 61, \"0\": 109, \"1\": 50}, \"1\": {\"9\": 85, \"7\": 73, \"11\": 19, \"12\": 140, \"15\": 59, \"10\": 110, \"0\": 46, \"13\": 33, \"2\": 94, \"3\": 143, \"1\": 162, \"8\": 31, \"14\": 61, \"6\": 36, \"4\": 66, \"5\": 42}, \"3\": {\"8\": 61, \"12\": 157, \"3\": 167, \"6\": 25, \"13\": 24, \"5\": 44, \"7\": 47, \"4\": 67, \"1\": 145, \"10\": 101, \"15\": 93, \"0\": 72, \"2\": 72, \"14\": 75, \"9\": 45, \"11\": 5}}}, \"per_domain_accuracy\": {\"CORES_3\": {\"accuracy\": 0.99375, \"source?\": true}, \"CORES_4\": {\"accuracy\": 0.990625, \"source?\": true}, \"CORES_5\": {\"accuracy\": 0.9953125, \"source?\": true}, \"CORES_1\": {\"accuracy\": 0.9890625, \"source?\": true}, \"CORES_2\": {\"accuracy\": 0.996875, \"source?\": true}, \"ORACLE.run1_14\": {\"accuracy\": 0.11041666666666666, \"source?\": false}, \"ORACLE.run1_20\": {\"accuracy\": 0.07927083333333333, \"source?\": false}, \"ORACLE.run1_38\": {\"accuracy\": 0.15223958333333334, \"source?\": false}, \"ORACLE.run1_8\": {\"accuracy\": 0.09364583333333333, \"source?\": false}, \"ORACLE.run1_50\": {\"accuracy\": 0.11635416666666666, \"source?\": false}, \"ORACLE.run1_32\": {\"accuracy\": 0.16645833333333335, \"source?\": false}, \"ORACLE.run1_26\": {\"accuracy\": 0.09130208333333334, \"source?\": false}, \"ORACLE.run1_44\": {\"accuracy\": 0.14260416666666667, \"source?\": false}}}, \"history\": {\"epoch_indices\": [1, 2, 3, 4, 5], \"train_label_loss\": [0.14587991611994836, 0.05383295168942766, 0.03555347735279799, 0.034534445864097804, 0.03450696303302484], \"source_val_label_loss\": [0.02664971724152565, 0.03986513987183571, 0.05058829486370087, 0.014403936453163624, 0.0491606742143631], \"target_val_label_loss\": [3.006409168243408, 3.9549882411956787, 4.1872758865356445, 4.613114356994629, 4.174149990081787], \"source_val_acc_label\": [0.993125, 0.990625, 0.98875, 0.996875, 0.9878125], \"target_val_acc_label\": [0.11903645833333333, 0.11298828125, 0.13821614583333333, 0.15458984375, 0.15391276041666666]}, \"dataset_metrics\": {\"source\": {\"train\": {\"n_unique_x\": 20300, \"n_unique_y\": 58, \"n_batch/episode\": 733}, \"val\": {\"n_unique_x\": 4332, \"n_unique_y\": 58, \"n_batch/episode\": 100}, \"test\": {\"n_unique_x\": 4332, \"n_unique_y\": 58, \"n_batch/episode\": 100}}, \"target\": {\"train\": {\"n_unique_x\": 896000, \"n_unique_y\": 16, \"n_batch/episode\": 33600}, \"val\": {\"n_unique_x\": 192000, \"n_unique_y\": 16, \"n_batch/episode\": 4800}, \"test\": {\"n_unique_x\": 192000, \"n_unique_y\": 16, \"n_batch/episode\": 4800}}}}'"
      ]
     },
     "execution_count": 29,
     "metadata": {},
     "output_type": "execute_result"
    }
   ],
   "source": [
    "json.dumps(experiment)"
   ]
  }
 ],
 "metadata": {
  "celltoolbar": "Tags",
  "kernelspec": {
   "display_name": "Python 3 (ipykernel)",
   "language": "python",
   "name": "python3"
  },
  "language_info": {
   "codemirror_mode": {
    "name": "ipython",
    "version": 3
   },
   "file_extension": ".py",
   "mimetype": "text/x-python",
   "name": "python",
   "nbconvert_exporter": "python",
   "pygments_lexer": "ipython3",
   "version": "3.8.10"
  },
  "papermill": {
   "default_parameters": {},
   "duration": 608.024875,
   "end_time": "2022-03-13T19:28:25.473281",
   "environment_variables": {},
   "exception": null,
   "input_path": "/mnt/wd500GB/CSC500/csc500-main/csc500-notebooks/templates/tl_ptn_template.ipynb",
   "output_path": "trial.ipynb",
   "parameters": {
    "parameters": {
     "BEST_MODEL_PATH": "./best_model.pth",
     "NUM_LOGS_PER_EPOCH": 10,
     "criteria_for_best": "target_loss",
     "dataset_seed": 1337,
     "datasets": [
      {
       "domain_prefix": "CORES_",
       "domains": [
        1,
        2,
        3,
        4,
        5
       ],
       "episode_transforms": [],
       "labels": [
        "1-10.",
        "1-11.",
        "1-15.",
        "1-16.",
        "1-17.",
        "1-18.",
        "1-19.",
        "10-4.",
        "10-7.",
        "11-1.",
        "11-14.",
        "11-17.",
        "11-20.",
        "11-7.",
        "13-20.",
        "13-8.",
        "14-10.",
        "14-11.",
        "14-14.",
        "14-7.",
        "15-1.",
        "15-20.",
        "16-1.",
        "16-16.",
        "17-10.",
        "17-11.",
        "17-2.",
        "19-1.",
        "19-16.",
        "19-19.",
        "19-20.",
        "19-3.",
        "2-10.",
        "2-11.",
        "2-17.",
        "2-18.",
        "2-20.",
        "2-3.",
        "2-4.",
        "2-5.",
        "2-6.",
        "2-7.",
        "2-8.",
        "3-13.",
        "3-18.",
        "3-3.",
        "4-1.",
        "4-10.",
        "4-11.",
        "4-19.",
        "5-5.",
        "6-15.",
        "7-10.",
        "7-14.",
        "8-18.",
        "8-20.",
        "8-3.",
        "8-8."
       ],
       "num_examples_per_domain_per_label": 100,
       "pickle_path": "/mnt/wd500GB/CSC500/csc500-main/datasets/cores.stratified_ds.2022A.pkl",
       "source_or_target_dataset": "source",
       "x_transforms": [
        "unit_mag"
       ]
      },
      {
       "domain_prefix": "ORACLE.run1_",
       "domains": [
        32,
        38,
        8,
        44,
        14,
        50,
        20,
        26
       ],
       "episode_transforms": [],
       "labels": [
        "3123D52",
        "3123D65",
        "3123D79",
        "3123D80",
        "3123D54",
        "3123D70",
        "3123D7B",
        "3123D89",
        "3123D58",
        "3123D76",
        "3123D7D",
        "3123EFE",
        "3123D64",
        "3123D78",
        "3123D7E",
        "3124E4A"
       ],
       "num_examples_per_domain_per_label": 10000,
       "pickle_path": "/mnt/wd500GB/CSC500/csc500-main/datasets/oracle.Run1_10kExamples_stratified_ds.2022A.pkl",
       "source_or_target_dataset": "target",
       "x_transforms": [
        "unit_mag"
       ]
      }
     ],
     "device": "cuda",
     "experiment_name": "tl_1_cores-oracle.run1",
     "lr": 0.001,
     "n_epoch": 50,
     "n_query": 2,
     "n_shot": 3,
     "n_way": 16,
     "patience": 3,
     "seed": 1337,
     "test_k_factor": 2,
     "torch_default_dtype": "torch.float32",
     "train_k_factor": 3,
     "val_k_factor": 2,
     "x_net": [
      {
       "class": "nnReshape",
       "kargs": {
        "shape": [
         -1,
         1,
         2,
         256
        ]
       }
      },
      {
       "class": "Conv2d",
       "kargs": {
        "bias": false,
        "in_channels": 1,
        "kernel_size": [
         1,
         7
        ],
        "out_channels": 256,
        "padding": [
         0,
         3
        ]
       }
      },
      {
       "class": "ReLU",
       "kargs": {
        "inplace": true
       }
      },
      {
       "class": "BatchNorm2d",
       "kargs": {
        "num_features": 256
       }
      },
      {
       "class": "Conv2d",
       "kargs": {
        "bias": true,
        "in_channels": 256,
        "kernel_size": [
         2,
         7
        ],
        "out_channels": 80,
        "padding": [
         0,
         3
        ]
       }
      },
      {
       "class": "ReLU",
       "kargs": {
        "inplace": true
       }
      },
      {
       "class": "BatchNorm2d",
       "kargs": {
        "num_features": 80
       }
      },
      {
       "class": "Flatten",
       "kargs": {}
      },
      {
       "class": "Linear",
       "kargs": {
        "in_features": 20480,
        "out_features": 256
       }
      },
      {
       "class": "ReLU",
       "kargs": {
        "inplace": true
       }
      },
      {
       "class": "BatchNorm1d",
       "kargs": {
        "num_features": 256
       }
      },
      {
       "class": "Linear",
       "kargs": {
        "in_features": 256,
        "out_features": 256
       }
      }
     ]
    }
   },
   "start_time": "2022-03-13T19:18:17.448406",
   "version": "2.3.4"
  }
 },
 "nbformat": 4,
 "nbformat_minor": 5
}