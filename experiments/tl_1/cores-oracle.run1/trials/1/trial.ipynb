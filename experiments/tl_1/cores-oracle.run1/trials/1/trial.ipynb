{
 "cells": [
  {
   "cell_type": "markdown",
   "id": "9fea5f46",
   "metadata": {
    "papermill": {
     "duration": 0.017474,
     "end_time": "2022-03-07T08:44:48.243797",
     "exception": false,
     "start_time": "2022-03-07T08:44:48.226323",
     "status": "completed"
    },
    "tags": []
   },
   "source": [
    "# Transfer Learning Template"
   ]
  },
  {
   "cell_type": "code",
   "execution_count": 1,
   "id": "0902182a",
   "metadata": {
    "execution": {
     "iopub.execute_input": "2022-03-07T08:44:48.285067Z",
     "iopub.status.busy": "2022-03-07T08:44:48.284558Z",
     "iopub.status.idle": "2022-03-07T08:44:49.016433Z",
     "shell.execute_reply": "2022-03-07T08:44:49.016812Z"
    },
    "papermill": {
     "duration": 0.760664,
     "end_time": "2022-03-07T08:44:49.016986",
     "exception": false,
     "start_time": "2022-03-07T08:44:48.256322",
     "status": "completed"
    },
    "tags": []
   },
   "outputs": [],
   "source": [
    "%load_ext autoreload\n",
    "%autoreload 2\n",
    "%matplotlib inline\n",
    "\n",
    "    \n",
    "import os, json, sys, time, random\n",
    "import numpy as np\n",
    "import torch\n",
    "from torch.optim import Adam\n",
    "from  easydict import EasyDict\n",
    "import matplotlib.pyplot as plt\n",
    "\n",
    "from steves_models.steves_ptn import Steves_Prototypical_Network\n",
    "\n",
    "from steves_utils.lazy_iterable_wrapper import Lazy_Iterable_Wrapper\n",
    "from steves_utils.iterable_aggregator import Iterable_Aggregator\n",
    "from steves_utils.ptn_train_eval_test_jig import  PTN_Train_Eval_Test_Jig\n",
    "from steves_utils.torch_sequential_builder import build_sequential\n",
    "from steves_utils.torch_utils import get_dataset_metrics, ptn_confusion_by_domain_over_dataloader\n",
    "from steves_utils.utils_v2 import (per_domain_accuracy_from_confusion, get_datasets_base_path)\n",
    "from steves_utils.PTN.utils import independent_accuracy_assesment\n",
    "\n",
    "from torch.utils.data import DataLoader\n",
    "\n",
    "from steves_utils.stratified_dataset.episodic_accessor import Episodic_Accessor_Factory\n",
    "\n",
    "from steves_utils.ptn_do_report import (\n",
    "    get_loss_curve,\n",
    "    get_results_table,\n",
    "    get_parameters_table,\n",
    "    get_domain_accuracies,\n",
    ")\n",
    "\n",
    "from steves_utils.transforms import get_chained_transform"
   ]
  },
  {
   "cell_type": "markdown",
   "id": "41c840b4",
   "metadata": {
    "papermill": {
     "duration": 0.012572,
     "end_time": "2022-03-07T08:44:49.046944",
     "exception": false,
     "start_time": "2022-03-07T08:44:49.034372",
     "status": "completed"
    },
    "tags": []
   },
   "source": [
    "# Allowed Parameters\n",
    "These are allowed parameters, not defaults\n",
    "Each of these values need to be present in the injected parameters (the notebook will raise an exception if they are not present)\n",
    "\n",
    "Papermill uses the cell tag \"parameters\" to inject the real parameters below this cell.\n",
    "Enable tags to see what I mean"
   ]
  },
  {
   "cell_type": "code",
   "execution_count": 2,
   "id": "fd44eb83",
   "metadata": {
    "execution": {
     "iopub.execute_input": "2022-03-07T08:44:49.073464Z",
     "iopub.status.busy": "2022-03-07T08:44:49.073204Z",
     "iopub.status.idle": "2022-03-07T08:44:49.087373Z",
     "shell.execute_reply": "2022-03-07T08:44:49.087748Z"
    },
    "papermill": {
     "duration": 0.028636,
     "end_time": "2022-03-07T08:44:49.087854",
     "exception": false,
     "start_time": "2022-03-07T08:44:49.059218",
     "status": "completed"
    },
    "tags": []
   },
   "outputs": [],
   "source": [
    "required_parameters = {\n",
    "    \"experiment_name\",\n",
    "    \"lr\",\n",
    "    \"device\",\n",
    "    \"seed\",\n",
    "    \"dataset_seed\",\n",
    "    \"n_shot\",\n",
    "    \"n_query\",\n",
    "    \"n_way\",\n",
    "    \"train_k_factor\",\n",
    "    \"val_k_factor\",\n",
    "    \"test_k_factor\",\n",
    "    \"n_epoch\",\n",
    "    \"patience\",\n",
    "    \"criteria_for_best\",\n",
    "    \"x_net\",\n",
    "    \"datasets\",\n",
    "    \"torch_default_dtype\",\n",
    "    \"NUM_LOGS_PER_EPOCH\",\n",
    "    \"BEST_MODEL_PATH\",\n",
    "}"
   ]
  },
  {
   "cell_type": "code",
   "execution_count": 3,
   "id": "fa3f0049",
   "metadata": {
    "execution": {
     "iopub.execute_input": "2022-03-07T08:44:49.128574Z",
     "iopub.status.busy": "2022-03-07T08:44:49.125312Z",
     "iopub.status.idle": "2022-03-07T08:44:49.141612Z",
     "shell.execute_reply": "2022-03-07T08:44:49.141196Z"
    },
    "papermill": {
     "duration": 0.035724,
     "end_time": "2022-03-07T08:44:49.141701",
     "exception": false,
     "start_time": "2022-03-07T08:44:49.105977",
     "status": "completed"
    },
    "tags": [
     "parameters"
    ]
   },
   "outputs": [],
   "source": [
    "from steves_utils.CORES.utils import (\n",
    "    ALL_NODES,\n",
    "    ALL_NODES_MINIMUM_1000_EXAMPLES,\n",
    "    ALL_DAYS\n",
    ")\n",
    "\n",
    "from steves_utils.ORACLE.utils_v2 import (\n",
    "    ALL_DISTANCES_FEET_NARROWED,\n",
    "    ALL_RUNS,\n",
    "    ALL_SERIAL_NUMBERS,\n",
    ")\n",
    "\n",
    "standalone_parameters = {}\n",
    "standalone_parameters[\"experiment_name\"] = \"STANDALONE PTN\"\n",
    "standalone_parameters[\"lr\"] = 0.001\n",
    "standalone_parameters[\"device\"] = \"cuda\"\n",
    "\n",
    "standalone_parameters[\"seed\"] = 1337\n",
    "standalone_parameters[\"dataset_seed\"] = 1337\n",
    "\n",
    "standalone_parameters[\"n_way\"] = 8\n",
    "standalone_parameters[\"n_shot\"] = 3\n",
    "standalone_parameters[\"n_query\"]  = 2\n",
    "standalone_parameters[\"train_k_factor\"] = 1\n",
    "standalone_parameters[\"val_k_factor\"] = 2\n",
    "standalone_parameters[\"test_k_factor\"] = 2\n",
    "\n",
    "\n",
    "standalone_parameters[\"n_epoch\"] = 50\n",
    "\n",
    "standalone_parameters[\"patience\"] = 10\n",
    "standalone_parameters[\"criteria_for_best\"] = \"source_loss\"\n",
    "\n",
    "standalone_parameters[\"datasets\"] = [\n",
    "    {\n",
    "        \"labels\": ALL_SERIAL_NUMBERS,\n",
    "        \"domains\": ALL_DISTANCES_FEET_NARROWED,\n",
    "        \"num_examples_per_domain_per_label\": 100,\n",
    "        \"pickle_path\": os.path.join(get_datasets_base_path(), \"oracle.Run1_framed_2000Examples_stratified_ds.2022A.pkl\"),\n",
    "        \"source_or_target_dataset\": \"source\",\n",
    "        \"x_transforms\": [\"unit_mag\", \"minus_two\"],\n",
    "        \"episode_transforms\": [],\n",
    "        \"domain_prefix\": \"ORACLE_\"\n",
    "    },\n",
    "    {\n",
    "        \"labels\": ALL_NODES,\n",
    "        \"domains\": ALL_DAYS,\n",
    "        \"num_examples_per_domain_per_label\": 100,\n",
    "        \"pickle_path\": os.path.join(get_datasets_base_path(), \"cores.stratified_ds.2022A.pkl\"),\n",
    "        \"source_or_target_dataset\": \"target\",\n",
    "        \"x_transforms\": [\"unit_power\", \"times_zero\"],\n",
    "        \"episode_transforms\": [],\n",
    "        \"domain_prefix\": \"CORES_\"\n",
    "    }   \n",
    "]\n",
    "\n",
    "standalone_parameters[\"torch_default_dtype\"] = \"torch.float32\" \n",
    "\n",
    "\n",
    "\n",
    "standalone_parameters[\"x_net\"] =     [\n",
    "    {\"class\": \"nnReshape\", \"kargs\": {\"shape\":[-1, 1, 2, 256]}},\n",
    "    {\"class\": \"Conv2d\", \"kargs\": { \"in_channels\":1, \"out_channels\":256, \"kernel_size\":(1,7), \"bias\":False, \"padding\":(0,3), },},\n",
    "    {\"class\": \"ReLU\", \"kargs\": {\"inplace\": True}},\n",
    "    {\"class\": \"BatchNorm2d\", \"kargs\": {\"num_features\":256}},\n",
    "\n",
    "    {\"class\": \"Conv2d\", \"kargs\": { \"in_channels\":256, \"out_channels\":80, \"kernel_size\":(2,7), \"bias\":True, \"padding\":(0,3), },},\n",
    "    {\"class\": \"ReLU\", \"kargs\": {\"inplace\": True}},\n",
    "    {\"class\": \"BatchNorm2d\", \"kargs\": {\"num_features\":80}},\n",
    "    {\"class\": \"Flatten\", \"kargs\": {}},\n",
    "\n",
    "    {\"class\": \"Linear\", \"kargs\": {\"in_features\": 80*256, \"out_features\": 256}}, # 80 units per IQ pair\n",
    "    {\"class\": \"ReLU\", \"kargs\": {\"inplace\": True}},\n",
    "    {\"class\": \"BatchNorm1d\", \"kargs\": {\"num_features\":256}},\n",
    "\n",
    "    {\"class\": \"Linear\", \"kargs\": {\"in_features\": 256, \"out_features\": 256}},\n",
    "]\n",
    "\n",
    "# Parameters relevant to results\n",
    "# These parameters will basically never need to change\n",
    "standalone_parameters[\"NUM_LOGS_PER_EPOCH\"] = 10\n",
    "standalone_parameters[\"BEST_MODEL_PATH\"] = \"./best_model.pth\"\n",
    "\n",
    "\n",
    "\n",
    "\n"
   ]
  },
  {
   "cell_type": "code",
   "execution_count": 4,
   "id": "de9dddb0",
   "metadata": {
    "execution": {
     "iopub.execute_input": "2022-03-07T08:44:49.181715Z",
     "iopub.status.busy": "2022-03-07T08:44:49.181377Z",
     "iopub.status.idle": "2022-03-07T08:44:49.192716Z",
     "shell.execute_reply": "2022-03-07T08:44:49.193078Z"
    },
    "papermill": {
     "duration": 0.034125,
     "end_time": "2022-03-07T08:44:49.193185",
     "exception": false,
     "start_time": "2022-03-07T08:44:49.159060",
     "status": "completed"
    },
    "tags": [
     "injected-parameters"
    ]
   },
   "outputs": [],
   "source": [
    "# Parameters\n",
    "parameters = {\n",
    "    \"experiment_name\": \"tl_1_cores-oracle.run1\",\n",
    "    \"device\": \"cuda\",\n",
    "    \"lr\": 0.001,\n",
    "    \"seed\": 1337,\n",
    "    \"dataset_seed\": 1337,\n",
    "    \"n_shot\": 3,\n",
    "    \"n_query\": 2,\n",
    "    \"train_k_factor\": 3,\n",
    "    \"val_k_factor\": 2,\n",
    "    \"test_k_factor\": 2,\n",
    "    \"torch_default_dtype\": \"torch.float32\",\n",
    "    \"n_epoch\": 50,\n",
    "    \"patience\": 3,\n",
    "    \"criteria_for_best\": \"target_loss\",\n",
    "    \"x_net\": [\n",
    "        {\"class\": \"nnReshape\", \"kargs\": {\"shape\": [-1, 1, 2, 256]}},\n",
    "        {\n",
    "            \"class\": \"Conv2d\",\n",
    "            \"kargs\": {\n",
    "                \"in_channels\": 1,\n",
    "                \"out_channels\": 256,\n",
    "                \"kernel_size\": [1, 7],\n",
    "                \"bias\": False,\n",
    "                \"padding\": [0, 3],\n",
    "            },\n",
    "        },\n",
    "        {\"class\": \"ReLU\", \"kargs\": {\"inplace\": True}},\n",
    "        {\"class\": \"BatchNorm2d\", \"kargs\": {\"num_features\": 256}},\n",
    "        {\n",
    "            \"class\": \"Conv2d\",\n",
    "            \"kargs\": {\n",
    "                \"in_channels\": 256,\n",
    "                \"out_channels\": 80,\n",
    "                \"kernel_size\": [2, 7],\n",
    "                \"bias\": True,\n",
    "                \"padding\": [0, 3],\n",
    "            },\n",
    "        },\n",
    "        {\"class\": \"ReLU\", \"kargs\": {\"inplace\": True}},\n",
    "        {\"class\": \"BatchNorm2d\", \"kargs\": {\"num_features\": 80}},\n",
    "        {\"class\": \"Flatten\", \"kargs\": {}},\n",
    "        {\"class\": \"Linear\", \"kargs\": {\"in_features\": 20480, \"out_features\": 256}},\n",
    "        {\"class\": \"ReLU\", \"kargs\": {\"inplace\": True}},\n",
    "        {\"class\": \"BatchNorm1d\", \"kargs\": {\"num_features\": 256}},\n",
    "        {\"class\": \"Linear\", \"kargs\": {\"in_features\": 256, \"out_features\": 256}},\n",
    "    ],\n",
    "    \"NUM_LOGS_PER_EPOCH\": 10,\n",
    "    \"BEST_MODEL_PATH\": \"./best_model.pth\",\n",
    "    \"n_way\": 16,\n",
    "    \"datasets\": [\n",
    "        {\n",
    "            \"labels\": [\n",
    "                \"1-10.\",\n",
    "                \"1-11.\",\n",
    "                \"1-15.\",\n",
    "                \"1-16.\",\n",
    "                \"1-17.\",\n",
    "                \"1-18.\",\n",
    "                \"1-19.\",\n",
    "                \"10-4.\",\n",
    "                \"10-7.\",\n",
    "                \"11-1.\",\n",
    "                \"11-14.\",\n",
    "                \"11-17.\",\n",
    "                \"11-20.\",\n",
    "                \"11-7.\",\n",
    "                \"13-20.\",\n",
    "                \"13-8.\",\n",
    "                \"14-10.\",\n",
    "                \"14-11.\",\n",
    "                \"14-14.\",\n",
    "                \"14-7.\",\n",
    "                \"15-1.\",\n",
    "                \"15-20.\",\n",
    "                \"16-1.\",\n",
    "                \"16-16.\",\n",
    "                \"17-10.\",\n",
    "                \"17-11.\",\n",
    "                \"17-2.\",\n",
    "                \"19-1.\",\n",
    "                \"19-16.\",\n",
    "                \"19-19.\",\n",
    "                \"19-20.\",\n",
    "                \"19-3.\",\n",
    "                \"2-10.\",\n",
    "                \"2-11.\",\n",
    "                \"2-17.\",\n",
    "                \"2-18.\",\n",
    "                \"2-20.\",\n",
    "                \"2-3.\",\n",
    "                \"2-4.\",\n",
    "                \"2-5.\",\n",
    "                \"2-6.\",\n",
    "                \"2-7.\",\n",
    "                \"2-8.\",\n",
    "                \"3-13.\",\n",
    "                \"3-18.\",\n",
    "                \"3-3.\",\n",
    "                \"4-1.\",\n",
    "                \"4-10.\",\n",
    "                \"4-11.\",\n",
    "                \"4-19.\",\n",
    "                \"5-5.\",\n",
    "                \"6-15.\",\n",
    "                \"7-10.\",\n",
    "                \"7-14.\",\n",
    "                \"8-18.\",\n",
    "                \"8-20.\",\n",
    "                \"8-3.\",\n",
    "                \"8-8.\",\n",
    "            ],\n",
    "            \"domains\": [1, 2, 3, 4, 5],\n",
    "            \"num_examples_per_domain_per_label\": 100,\n",
    "            \"pickle_path\": \"/mnt/wd500GB/CSC500/csc500-main/datasets/cores.stratified_ds.2022A.pkl\",\n",
    "            \"source_or_target_dataset\": \"source\",\n",
    "            \"x_transforms\": [\"unit_mag\"],\n",
    "            \"episode_transforms\": [],\n",
    "            \"domain_prefix\": \"CORES_\",\n",
    "        },\n",
    "        {\n",
    "            \"labels\": [\n",
    "                \"3123D52\",\n",
    "                \"3123D65\",\n",
    "                \"3123D79\",\n",
    "                \"3123D80\",\n",
    "                \"3123D54\",\n",
    "                \"3123D70\",\n",
    "                \"3123D7B\",\n",
    "                \"3123D89\",\n",
    "                \"3123D58\",\n",
    "                \"3123D76\",\n",
    "                \"3123D7D\",\n",
    "                \"3123EFE\",\n",
    "                \"3123D64\",\n",
    "                \"3123D78\",\n",
    "                \"3123D7E\",\n",
    "                \"3124E4A\",\n",
    "            ],\n",
    "            \"domains\": [32, 38, 8, 44, 14, 50, 20, 26],\n",
    "            \"num_examples_per_domain_per_label\": 2000,\n",
    "            \"pickle_path\": \"/mnt/wd500GB/CSC500/csc500-main/datasets/oracle.Run1_framed_2000Examples_stratified_ds.2022A.pkl\",\n",
    "            \"source_or_target_dataset\": \"target\",\n",
    "            \"x_transforms\": [\"unit_mag\"],\n",
    "            \"episode_transforms\": [],\n",
    "            \"domain_prefix\": \"ORACLE.run1_\",\n",
    "        },\n",
    "    ],\n",
    "}\n"
   ]
  },
  {
   "cell_type": "code",
   "execution_count": 5,
   "id": "8fa1cc33",
   "metadata": {
    "execution": {
     "iopub.execute_input": "2022-03-07T08:44:49.227679Z",
     "iopub.status.busy": "2022-03-07T08:44:49.227388Z",
     "iopub.status.idle": "2022-03-07T08:44:49.240619Z",
     "shell.execute_reply": "2022-03-07T08:44:49.240976Z"
    },
    "papermill": {
     "duration": 0.030499,
     "end_time": "2022-03-07T08:44:49.241090",
     "exception": false,
     "start_time": "2022-03-07T08:44:49.210591",
     "status": "completed"
    },
    "tags": []
   },
   "outputs": [],
   "source": [
    "# Set this to True if you want to run this template directly\n",
    "STANDALONE = False\n",
    "if STANDALONE:\n",
    "    print(\"parameters not injected, running with standalone_parameters\")\n",
    "    parameters = standalone_parameters\n",
    "\n",
    "if not 'parameters' in locals() and not 'parameters' in globals():\n",
    "    raise Exception(\"Parameter injection failed\")\n",
    "\n",
    "#Use an easy dict for all the parameters\n",
    "p = EasyDict(parameters)\n",
    "\n",
    "supplied_keys = set(p.keys())\n",
    "\n",
    "if  supplied_keys != required_parameters:\n",
    "    print(\"Parameters are incorrect\")\n",
    "    if len(supplied_keys - required_parameters)>0: print(\"Shouldn't have:\", str(supplied_keys - required_parameters))\n",
    "    if len(required_parameters - supplied_keys)>0: print(\"Need to have:\", str(required_parameters - supplied_keys))\n",
    "    raise RuntimeError(\"Parameters are incorrect\")\n",
    "\n"
   ]
  },
  {
   "cell_type": "code",
   "execution_count": 6,
   "id": "3a028d58",
   "metadata": {
    "execution": {
     "iopub.execute_input": "2022-03-07T08:44:49.272948Z",
     "iopub.status.busy": "2022-03-07T08:44:49.272696Z",
     "iopub.status.idle": "2022-03-07T08:44:49.281978Z",
     "shell.execute_reply": "2022-03-07T08:44:49.281586Z"
    },
    "papermill": {
     "duration": 0.02343,
     "end_time": "2022-03-07T08:44:49.282067",
     "exception": false,
     "start_time": "2022-03-07T08:44:49.258637",
     "status": "completed"
    },
    "tags": []
   },
   "outputs": [],
   "source": [
    "###################################\n",
    "# Set the RNGs and make it all deterministic\n",
    "###################################\n",
    "np.random.seed(p.seed)\n",
    "random.seed(p.seed)\n",
    "torch.manual_seed(p.seed)\n",
    "\n",
    "torch.use_deterministic_algorithms(True) "
   ]
  },
  {
   "cell_type": "code",
   "execution_count": 7,
   "id": "b691acf6",
   "metadata": {
    "execution": {
     "iopub.execute_input": "2022-03-07T08:44:49.313512Z",
     "iopub.status.busy": "2022-03-07T08:44:49.312804Z",
     "iopub.status.idle": "2022-03-07T08:44:49.326034Z",
     "shell.execute_reply": "2022-03-07T08:44:49.325725Z"
    },
    "papermill": {
     "duration": 0.027337,
     "end_time": "2022-03-07T08:44:49.326105",
     "exception": false,
     "start_time": "2022-03-07T08:44:49.298768",
     "status": "completed"
    },
    "tags": []
   },
   "outputs": [],
   "source": [
    "###########################################\n",
    "# The stratified datasets honor this\n",
    "###########################################\n",
    "torch.set_default_dtype(eval(p.torch_default_dtype))"
   ]
  },
  {
   "cell_type": "code",
   "execution_count": 8,
   "id": "b5fba671",
   "metadata": {
    "execution": {
     "iopub.execute_input": "2022-03-07T08:44:49.357682Z",
     "iopub.status.busy": "2022-03-07T08:44:49.357430Z",
     "iopub.status.idle": "2022-03-07T08:44:49.397690Z",
     "shell.execute_reply": "2022-03-07T08:44:49.397295Z"
    },
    "papermill": {
     "duration": 0.055058,
     "end_time": "2022-03-07T08:44:49.397778",
     "exception": false,
     "start_time": "2022-03-07T08:44:49.342720",
     "status": "completed"
    },
    "tags": []
   },
   "outputs": [],
   "source": [
    "###################################\n",
    "# Build the network(s)\n",
    "# Note: It's critical to do this AFTER setting the RNG\n",
    "###################################\n",
    "x_net = build_sequential(p.x_net)"
   ]
  },
  {
   "cell_type": "code",
   "execution_count": 9,
   "id": "5d7e61cc",
   "metadata": {
    "execution": {
     "iopub.execute_input": "2022-03-07T08:44:49.430103Z",
     "iopub.status.busy": "2022-03-07T08:44:49.429853Z",
     "iopub.status.idle": "2022-03-07T08:44:49.442473Z",
     "shell.execute_reply": "2022-03-07T08:44:49.442668Z"
    },
    "papermill": {
     "duration": 0.027782,
     "end_time": "2022-03-07T08:44:49.442734",
     "exception": false,
     "start_time": "2022-03-07T08:44:49.414952",
     "status": "completed"
    },
    "tags": []
   },
   "outputs": [],
   "source": [
    "start_time_secs = time.time()"
   ]
  },
  {
   "cell_type": "code",
   "execution_count": 10,
   "id": "c6b67dfd",
   "metadata": {
    "execution": {
     "iopub.execute_input": "2022-03-07T08:44:49.470561Z",
     "iopub.status.busy": "2022-03-07T08:44:49.470309Z",
     "iopub.status.idle": "2022-03-07T08:44:49.482256Z",
     "shell.execute_reply": "2022-03-07T08:44:49.482464Z"
    },
    "papermill": {
     "duration": 0.027116,
     "end_time": "2022-03-07T08:44:49.482521",
     "exception": false,
     "start_time": "2022-03-07T08:44:49.455405",
     "status": "completed"
    },
    "tags": []
   },
   "outputs": [],
   "source": [
    "p.domains_source = []\n",
    "p.domains_target = []\n",
    "\n",
    "\n",
    "train_original_source = []\n",
    "val_original_source   = []\n",
    "test_original_source  = []\n",
    "\n",
    "train_original_target = []\n",
    "val_original_target   = []\n",
    "test_original_target  = []"
   ]
  },
  {
   "cell_type": "code",
   "execution_count": 11,
   "id": "e3d9c3d3",
   "metadata": {
    "execution": {
     "iopub.execute_input": "2022-03-07T08:44:49.510392Z",
     "iopub.status.busy": "2022-03-07T08:44:49.510139Z",
     "iopub.status.idle": "2022-03-07T08:44:49.520420Z",
     "shell.execute_reply": "2022-03-07T08:44:49.520631Z"
    },
    "papermill": {
     "duration": 0.02531,
     "end_time": "2022-03-07T08:44:49.520688",
     "exception": false,
     "start_time": "2022-03-07T08:44:49.495378",
     "status": "completed"
    },
    "tags": []
   },
   "outputs": [],
   "source": [
    "# global_x_transform_func = lambda x: normalize(x.to(torch.get_default_dtype()), \"unit_power\") # unit_power, unit_mag\n",
    "# global_x_transform_func = lambda x: normalize(x, \"unit_power\") # unit_power, unit_mag"
   ]
  },
  {
   "cell_type": "code",
   "execution_count": 12,
   "id": "acb78fd2",
   "metadata": {
    "execution": {
     "iopub.execute_input": "2022-03-07T08:44:49.553885Z",
     "iopub.status.busy": "2022-03-07T08:44:49.553616Z",
     "iopub.status.idle": "2022-03-07T08:44:49.565863Z",
     "shell.execute_reply": "2022-03-07T08:44:49.565468Z"
    },
    "papermill": {
     "duration": 0.031965,
     "end_time": "2022-03-07T08:44:49.565952",
     "exception": false,
     "start_time": "2022-03-07T08:44:49.533987",
     "status": "completed"
    },
    "tags": []
   },
   "outputs": [],
   "source": [
    "def add_dataset(\n",
    "    labels,\n",
    "    domains,\n",
    "    pickle_path,\n",
    "    x_transforms,\n",
    "    episode_transforms,\n",
    "    domain_prefix,\n",
    "    num_examples_per_domain_per_label,\n",
    "    source_or_target_dataset:str,\n",
    "    iterator_seed=p.seed,\n",
    "    dataset_seed=p.dataset_seed,\n",
    "    n_shot=p.n_shot,\n",
    "    n_way=p.n_way,\n",
    "    n_query=p.n_query,\n",
    "    train_val_test_k_factors=(p.train_k_factor,p.val_k_factor,p.test_k_factor),\n",
    "):\n",
    "   \n",
    "    if x_transforms == []: x_transform = None\n",
    "    else: x_transform = get_chained_transform(x_transforms)\n",
    "    \n",
    "    if episode_transforms == []: episode_transform = None\n",
    "    else: raise Exception(\"episode_transforms not implemented\")\n",
    "    \n",
    "    episode_transform = lambda tup, _prefix=domain_prefix: (_prefix + str(tup[0]), tup[1])\n",
    "\n",
    "\n",
    "    eaf = Episodic_Accessor_Factory(\n",
    "        labels=labels,\n",
    "        domains=domains,\n",
    "        num_examples_per_domain_per_label=num_examples_per_domain_per_label,\n",
    "        iterator_seed=iterator_seed,\n",
    "        dataset_seed=dataset_seed,\n",
    "        n_shot=n_shot,\n",
    "        n_way=n_way,\n",
    "        n_query=n_query,\n",
    "        train_val_test_k_factors=train_val_test_k_factors,\n",
    "        pickle_path=pickle_path,\n",
    "        x_transform_func=x_transform,\n",
    "    )\n",
    "\n",
    "    train, val, test = eaf.get_train(), eaf.get_val(), eaf.get_test()\n",
    "    train = Lazy_Iterable_Wrapper(train, episode_transform)\n",
    "    val = Lazy_Iterable_Wrapper(val, episode_transform)\n",
    "    test = Lazy_Iterable_Wrapper(test, episode_transform)\n",
    "\n",
    "    if source_or_target_dataset==\"source\":\n",
    "        train_original_source.append(train)\n",
    "        val_original_source.append(val)\n",
    "        test_original_source.append(test)\n",
    "\n",
    "        p.domains_source.extend(\n",
    "            [domain_prefix + str(u) for u in domains]\n",
    "        )\n",
    "    elif source_or_target_dataset==\"target\":\n",
    "        train_original_target.append(train)\n",
    "        val_original_target.append(val)\n",
    "        test_original_target.append(test)\n",
    "        p.domains_target.extend(\n",
    "            [domain_prefix + str(u) for u in domains]\n",
    "        )\n",
    "    else:\n",
    "        raise Exception(f\"invalid source_or_target_dataset: {source_or_target_dataset}\")\n",
    "    "
   ]
  },
  {
   "cell_type": "code",
   "execution_count": 13,
   "id": "fe266617",
   "metadata": {
    "execution": {
     "iopub.execute_input": "2022-03-07T08:44:49.598030Z",
     "iopub.status.busy": "2022-03-07T08:44:49.597781Z",
     "iopub.status.idle": "2022-03-07T08:45:07.366399Z",
     "shell.execute_reply": "2022-03-07T08:45:07.366787Z"
    },
    "papermill": {
     "duration": 17.783506,
     "end_time": "2022-03-07T08:45:07.366915",
     "exception": false,
     "start_time": "2022-03-07T08:44:49.583409",
     "status": "completed"
    },
    "tags": []
   },
   "outputs": [],
   "source": [
    "for ds in p.datasets:\n",
    "    add_dataset(**ds)"
   ]
  },
  {
   "cell_type": "code",
   "execution_count": 14,
   "id": "b90d65ac",
   "metadata": {
    "execution": {
     "iopub.execute_input": "2022-03-07T08:45:07.399254Z",
     "iopub.status.busy": "2022-03-07T08:45:07.398993Z",
     "iopub.status.idle": "2022-03-07T08:45:07.410554Z",
     "shell.execute_reply": "2022-03-07T08:45:07.410162Z"
    },
    "papermill": {
     "duration": 0.0267,
     "end_time": "2022-03-07T08:45:07.410645",
     "exception": false,
     "start_time": "2022-03-07T08:45:07.383945",
     "status": "completed"
    },
    "tags": []
   },
   "outputs": [],
   "source": [
    "# from steves_utils.CORES.utils import (\n",
    "#     ALL_NODES,\n",
    "#     ALL_NODES_MINIMUM_1000_EXAMPLES,\n",
    "#     ALL_DAYS\n",
    "# )\n",
    "\n",
    "# add_dataset(\n",
    "#     labels=ALL_NODES,\n",
    "#     domains = ALL_DAYS,\n",
    "#     num_examples_per_domain_per_label=100,\n",
    "#     pickle_path=os.path.join(get_datasets_base_path(), \"cores.stratified_ds.2022A.pkl\"),\n",
    "#     source_or_target_dataset=\"target\",\n",
    "#     x_transform_func=global_x_transform_func,\n",
    "#     domain_modifier=lambda u: f\"cores_{u}\"\n",
    "# )"
   ]
  },
  {
   "cell_type": "code",
   "execution_count": 15,
   "id": "76db484d",
   "metadata": {
    "execution": {
     "iopub.execute_input": "2022-03-07T08:45:07.442695Z",
     "iopub.status.busy": "2022-03-07T08:45:07.442441Z",
     "iopub.status.idle": "2022-03-07T08:45:07.454510Z",
     "shell.execute_reply": "2022-03-07T08:45:07.454156Z"
    },
    "papermill": {
     "duration": 0.027005,
     "end_time": "2022-03-07T08:45:07.454581",
     "exception": false,
     "start_time": "2022-03-07T08:45:07.427576",
     "status": "completed"
    },
    "tags": []
   },
   "outputs": [],
   "source": [
    "# from steves_utils.ORACLE.utils_v2 import (\n",
    "#     ALL_DISTANCES_FEET,\n",
    "#     ALL_RUNS,\n",
    "#     ALL_SERIAL_NUMBERS,\n",
    "# )\n",
    "\n",
    "\n",
    "# add_dataset(\n",
    "#     labels=ALL_SERIAL_NUMBERS,\n",
    "#     domains = list(set(ALL_DISTANCES_FEET) - {2,62}),\n",
    "#     num_examples_per_domain_per_label=100,\n",
    "#     pickle_path=os.path.join(get_datasets_base_path(), \"oracle.Run2_framed_2000Examples_stratified_ds.2022A.pkl\"),\n",
    "#     source_or_target_dataset=\"source\",\n",
    "#     x_transform_func=global_x_transform_func,\n",
    "#     domain_modifier=lambda u: f\"oracle1_{u}\"\n",
    "# )\n"
   ]
  },
  {
   "cell_type": "code",
   "execution_count": 16,
   "id": "97dea9d2",
   "metadata": {
    "execution": {
     "iopub.execute_input": "2022-03-07T08:45:07.488465Z",
     "iopub.status.busy": "2022-03-07T08:45:07.488213Z",
     "iopub.status.idle": "2022-03-07T08:45:07.496177Z",
     "shell.execute_reply": "2022-03-07T08:45:07.495931Z"
    },
    "papermill": {
     "duration": 0.022846,
     "end_time": "2022-03-07T08:45:07.496226",
     "exception": false,
     "start_time": "2022-03-07T08:45:07.473380",
     "status": "completed"
    },
    "tags": []
   },
   "outputs": [],
   "source": [
    "# from steves_utils.ORACLE.utils_v2 import (\n",
    "#     ALL_DISTANCES_FEET,\n",
    "#     ALL_RUNS,\n",
    "#     ALL_SERIAL_NUMBERS,\n",
    "# )\n",
    "\n",
    "\n",
    "# add_dataset(\n",
    "#     labels=ALL_SERIAL_NUMBERS,\n",
    "#     domains = list(set(ALL_DISTANCES_FEET) - {2,62,56}),\n",
    "#     num_examples_per_domain_per_label=100,\n",
    "#     pickle_path=os.path.join(get_datasets_base_path(), \"oracle.Run2_framed_2000Examples_stratified_ds.2022A.pkl\"),\n",
    "#     source_or_target_dataset=\"source\",\n",
    "#     x_transform_func=global_x_transform_func,\n",
    "#     domain_modifier=lambda u: f\"oracle2_{u}\"\n",
    "# )"
   ]
  },
  {
   "cell_type": "code",
   "execution_count": 17,
   "id": "6f289866",
   "metadata": {
    "execution": {
     "iopub.execute_input": "2022-03-07T08:45:07.527087Z",
     "iopub.status.busy": "2022-03-07T08:45:07.526821Z",
     "iopub.status.idle": "2022-03-07T08:45:07.534337Z",
     "shell.execute_reply": "2022-03-07T08:45:07.534543Z"
    },
    "papermill": {
     "duration": 0.022688,
     "end_time": "2022-03-07T08:45:07.534600",
     "exception": false,
     "start_time": "2022-03-07T08:45:07.511912",
     "status": "completed"
    },
    "tags": []
   },
   "outputs": [],
   "source": [
    "# add_dataset(\n",
    "#     labels=list(range(19)),\n",
    "#     domains = [0,1,2],\n",
    "#     num_examples_per_domain_per_label=100,\n",
    "#     pickle_path=os.path.join(get_datasets_base_path(), \"metehan.stratified_ds.2022A.pkl\"),\n",
    "#     source_or_target_dataset=\"target\",\n",
    "#     x_transform_func=global_x_transform_func,\n",
    "#     domain_modifier=lambda u: f\"met_{u}\"\n",
    "# )"
   ]
  },
  {
   "cell_type": "code",
   "execution_count": 18,
   "id": "86a863c3",
   "metadata": {
    "execution": {
     "iopub.execute_input": "2022-03-07T08:45:07.568764Z",
     "iopub.status.busy": "2022-03-07T08:45:07.568512Z",
     "iopub.status.idle": "2022-03-07T08:45:07.579824Z",
     "shell.execute_reply": "2022-03-07T08:45:07.579462Z"
    },
    "papermill": {
     "duration": 0.026609,
     "end_time": "2022-03-07T08:45:07.579913",
     "exception": false,
     "start_time": "2022-03-07T08:45:07.553304",
     "status": "completed"
    },
    "tags": []
   },
   "outputs": [],
   "source": [
    "# # from steves_utils.wisig.utils import (\n",
    "# #     ALL_NODES_MINIMUM_100_EXAMPLES,\n",
    "# #     ALL_NODES_MINIMUM_500_EXAMPLES,\n",
    "# #     ALL_NODES_MINIMUM_1000_EXAMPLES,\n",
    "# #     ALL_DAYS\n",
    "# # )\n",
    "\n",
    "# import steves_utils.wisig.utils as wisig\n",
    "\n",
    "\n",
    "# add_dataset(\n",
    "#     labels=wisig.ALL_NODES_MINIMUM_100_EXAMPLES,\n",
    "#     domains = wisig.ALL_DAYS,\n",
    "#     num_examples_per_domain_per_label=100,\n",
    "#     pickle_path=os.path.join(get_datasets_base_path(), \"wisig.node3-19.stratified_ds.2022A.pkl\"),\n",
    "#     source_or_target_dataset=\"target\",\n",
    "#     x_transform_func=global_x_transform_func,\n",
    "#     domain_modifier=lambda u: f\"wisig_{u}\"\n",
    "# )"
   ]
  },
  {
   "cell_type": "code",
   "execution_count": 19,
   "id": "fd5442bc",
   "metadata": {
    "execution": {
     "iopub.execute_input": "2022-03-07T08:45:07.616696Z",
     "iopub.status.busy": "2022-03-07T08:45:07.616431Z",
     "iopub.status.idle": "2022-03-07T08:45:07.628683Z",
     "shell.execute_reply": "2022-03-07T08:45:07.628296Z"
    },
    "papermill": {
     "duration": 0.030302,
     "end_time": "2022-03-07T08:45:07.628774",
     "exception": false,
     "start_time": "2022-03-07T08:45:07.598472",
     "status": "completed"
    },
    "tags": []
   },
   "outputs": [],
   "source": [
    "###################################\n",
    "# Build the dataset\n",
    "###################################\n",
    "train_original_source = Iterable_Aggregator(train_original_source, p.seed)\n",
    "val_original_source = Iterable_Aggregator(val_original_source, p.seed)\n",
    "test_original_source = Iterable_Aggregator(test_original_source, p.seed)\n",
    "\n",
    "\n",
    "train_original_target = Iterable_Aggregator(train_original_target, p.seed)\n",
    "val_original_target = Iterable_Aggregator(val_original_target, p.seed)\n",
    "test_original_target = Iterable_Aggregator(test_original_target, p.seed)\n",
    "\n",
    "# For CNN We only use X and Y. And we only train on the source.\n",
    "# Properly form the data using a transform lambda and Lazy_Iterable_Wrapper. Finally wrap them in a dataloader\n",
    "\n",
    "transform_lambda = lambda ex: ex[1] # Original is (<domain>, <episode>) so we strip down to episode only\n",
    "\n",
    "train_processed_source = Lazy_Iterable_Wrapper(train_original_source, transform_lambda)\n",
    "val_processed_source   = Lazy_Iterable_Wrapper(val_original_source, transform_lambda)\n",
    "test_processed_source  = Lazy_Iterable_Wrapper(test_original_source, transform_lambda)\n",
    "\n",
    "train_processed_target = Lazy_Iterable_Wrapper(train_original_target, transform_lambda)\n",
    "val_processed_target   = Lazy_Iterable_Wrapper(val_original_target, transform_lambda)\n",
    "test_processed_target  = Lazy_Iterable_Wrapper(test_original_target, transform_lambda)\n",
    "\n",
    "datasets = EasyDict({\n",
    "    \"source\": {\n",
    "        \"original\": {\"train\":train_original_source, \"val\":val_original_source, \"test\":test_original_source},\n",
    "        \"processed\": {\"train\":train_processed_source, \"val\":val_processed_source, \"test\":test_processed_source}\n",
    "    },\n",
    "    \"target\": {\n",
    "        \"original\": {\"train\":train_original_target, \"val\":val_original_target, \"test\":test_original_target},\n",
    "        \"processed\": {\"train\":train_processed_target, \"val\":val_processed_target, \"test\":test_processed_target}\n",
    "    },\n",
    "})"
   ]
  },
  {
   "cell_type": "code",
   "execution_count": 20,
   "id": "5b3c01fc",
   "metadata": {
    "execution": {
     "iopub.execute_input": "2022-03-07T08:45:07.663969Z",
     "iopub.status.busy": "2022-03-07T08:45:07.663715Z",
     "iopub.status.idle": "2022-03-07T08:45:11.938127Z",
     "shell.execute_reply": "2022-03-07T08:45:11.937883Z"
    },
    "papermill": {
     "duration": 4.290999,
     "end_time": "2022-03-07T08:45:11.938194",
     "exception": false,
     "start_time": "2022-03-07T08:45:07.647195",
     "status": "completed"
    },
    "tags": []
   },
   "outputs": [
    {
     "name": "stdout",
     "output_type": "stream",
     "text": [
      "{'CORES_2', 'CORES_1', 'CORES_4', 'CORES_3', 'CORES_5'}\n"
     ]
    },
    {
     "name": "stdout",
     "output_type": "stream",
     "text": [
      "{'ORACLE.run1_32', 'ORACLE.run1_26', 'ORACLE.run1_50', 'ORACLE.run1_38', 'ORACLE.run1_44', 'ORACLE.run1_14', 'ORACLE.run1_20', 'ORACLE.run1_8'}\n"
     ]
    },
    {
     "name": "stdout",
     "output_type": "stream",
     "text": [
      "tensor([[[-0.2550, -0.3799,  0.3632,  ..., -0.6208, -0.8556,  0.2497],\n",
      "         [ 0.1345, -0.7386, -0.7940,  ..., -0.6894, -0.2770, -0.5698]],\n",
      "\n",
      "        [[ 0.4430,  1.0156, -0.1955,  ...,  0.2590,  0.4821,  0.1132],\n",
      "         [-0.4251, -0.0220,  0.9325,  ..., -0.9724, -0.1254,  0.6702]],\n",
      "\n",
      "        [[-0.6166, -0.2444,  1.0532,  ..., -0.9567, -0.1748,  0.6923],\n",
      "         [-0.3531, -0.9428, -0.0130,  ...,  0.1052, -0.4514, -0.1931]],\n",
      "\n",
      "        ...,\n",
      "\n",
      "        [[ 0.7903,  0.9733,  0.5259,  ..., -1.6561, -1.8929, -0.5186],\n",
      "         [ 0.5637,  0.5448, -0.5825,  ..., -1.1026,  0.3123,  0.6813]],\n",
      "\n",
      "        [[ 0.4220,  0.4236, -0.1857,  ..., -0.0890, -0.4589, -0.0399],\n",
      "         [ 0.1611,  0.0568, -0.3392,  ..., -0.1212,  0.0875, -0.6661]],\n",
      "\n",
      "        [[-0.1698,  0.1437,  0.3134,  ...,  0.4930,  0.4701, -0.4701],\n",
      "         [ 0.3771,  0.4375,  0.4277,  ...,  0.6693,  0.0849, -0.0653]]])\n"
     ]
    }
   ],
   "source": [
    "from steves_utils.transforms import get_average_magnitude, get_average_power\n",
    "\n",
    "print(set([u for u,_ in val_original_source]))\n",
    "print(set([u for u,_ in val_original_target]))\n",
    "\n",
    "s_x, s_y, q_x, q_y, _ = next(iter(train_processed_source))\n",
    "print(s_x)\n",
    "\n",
    "# for ds in [\n",
    "#     train_processed_source,\n",
    "#     val_processed_source,\n",
    "#     test_processed_source,\n",
    "#     train_processed_target,\n",
    "#     val_processed_target,\n",
    "#     test_processed_target\n",
    "# ]:\n",
    "#     for s_x, s_y, q_x, q_y, _ in ds:\n",
    "#         for X in (s_x, q_x):\n",
    "#             for x in X:\n",
    "#                 assert np.isclose(get_average_magnitude(x.numpy()), 1.0)\n",
    "#                 assert np.isclose(get_average_power(x.numpy()), 1.0)\n",
    "                "
   ]
  },
  {
   "cell_type": "code",
   "execution_count": 21,
   "id": "bbdacba1",
   "metadata": {
    "execution": {
     "iopub.execute_input": "2022-03-07T08:45:11.970761Z",
     "iopub.status.busy": "2022-03-07T08:45:11.970338Z",
     "iopub.status.idle": "2022-03-07T08:45:12.024554Z",
     "shell.execute_reply": "2022-03-07T08:45:12.024309Z"
    },
    "papermill": {
     "duration": 0.071529,
     "end_time": "2022-03-07T08:45:12.024619",
     "exception": false,
     "start_time": "2022-03-07T08:45:11.953090",
     "status": "completed"
    },
    "tags": []
   },
   "outputs": [
    {
     "name": "stdout",
     "output_type": "stream",
     "text": [
      "(2, 256)\n"
     ]
    }
   ],
   "source": [
    "###################################\n",
    "# Build the model\n",
    "###################################\n",
    "model = Steves_Prototypical_Network(x_net, device=p.device, x_shape=(2,256))\n",
    "optimizer = Adam(params=model.parameters(), lr=p.lr)"
   ]
  },
  {
   "cell_type": "code",
   "execution_count": 22,
   "id": "22b39ac5",
   "metadata": {
    "execution": {
     "iopub.execute_input": "2022-03-07T08:45:12.056664Z",
     "iopub.status.busy": "2022-03-07T08:45:12.056259Z",
     "iopub.status.idle": "2022-03-07T08:49:12.002124Z",
     "shell.execute_reply": "2022-03-07T08:49:12.001703Z"
    },
    "papermill": {
     "duration": 239.962592,
     "end_time": "2022-03-07T08:49:12.002235",
     "exception": false,
     "start_time": "2022-03-07T08:45:12.039643",
     "status": "completed"
    },
    "tags": []
   },
   "outputs": [
    {
     "name": "stdout",
     "output_type": "stream",
     "text": [
      "epoch: 1, [batch: 1 / 735], examples_per_second: 304.6824, train_label_loss: 2.6484, \n"
     ]
    },
    {
     "name": "stdout",
     "output_type": "stream",
     "text": [
      "epoch: 1, [batch: 74 / 735], examples_per_second: 3111.2687, train_label_loss: 0.1959, \n"
     ]
    },
    {
     "name": "stdout",
     "output_type": "stream",
     "text": [
      "epoch: 1, [batch: 147 / 735], examples_per_second: 3148.8821, train_label_loss: 0.2308, \n"
     ]
    },
    {
     "name": "stdout",
     "output_type": "stream",
     "text": [
      "epoch: 1, [batch: 221 / 735], examples_per_second: 3153.3705, train_label_loss: 0.0421, \n"
     ]
    },
    {
     "name": "stdout",
     "output_type": "stream",
     "text": [
      "epoch: 1, [batch: 294 / 735], examples_per_second: 3131.7052, train_label_loss: 0.0218, \n"
     ]
    },
    {
     "name": "stdout",
     "output_type": "stream",
     "text": [
      "epoch: 1, [batch: 368 / 735], examples_per_second: 3159.2684, train_label_loss: 0.3835, \n"
     ]
    },
    {
     "name": "stdout",
     "output_type": "stream",
     "text": [
      "epoch: 1, [batch: 441 / 735], examples_per_second: 3160.9247, train_label_loss: 0.0069, \n"
     ]
    },
    {
     "name": "stdout",
     "output_type": "stream",
     "text": [
      "epoch: 1, [batch: 514 / 735], examples_per_second: 3163.3781, train_label_loss: 0.0177, \n"
     ]
    },
    {
     "name": "stdout",
     "output_type": "stream",
     "text": [
      "epoch: 1, [batch: 588 / 735], examples_per_second: 3148.3954, train_label_loss: 0.0045, \n"
     ]
    },
    {
     "name": "stdout",
     "output_type": "stream",
     "text": [
      "epoch: 1, [batch: 661 / 735], examples_per_second: 3176.1932, train_label_loss: 0.0231, \n"
     ]
    },
    {
     "name": "stdout",
     "output_type": "stream",
     "text": [
      "=============================================================\n",
      "epoch: 1, source_val_acc_label: 0.9931, target_val_acc_label: 0.2236, source_val_label_loss: 0.0266, target_val_label_loss: 2.4331, \n",
      "=============================================================\n"
     ]
    },
    {
     "name": "stdout",
     "output_type": "stream",
     "text": [
      "New best\n"
     ]
    },
    {
     "name": "stdout",
     "output_type": "stream",
     "text": [
      "epoch: 2, [batch: 1 / 734], examples_per_second: 16.0284, train_label_loss: 0.0208, \n"
     ]
    },
    {
     "name": "stdout",
     "output_type": "stream",
     "text": [
      "epoch: 2, [batch: 74 / 734], examples_per_second: 3156.3457, train_label_loss: 0.0118, \n"
     ]
    },
    {
     "name": "stdout",
     "output_type": "stream",
     "text": [
      "epoch: 2, [batch: 147 / 734], examples_per_second: 3152.2683, train_label_loss: 0.0017, \n"
     ]
    },
    {
     "name": "stdout",
     "output_type": "stream",
     "text": [
      "epoch: 2, [batch: 220 / 734], examples_per_second: 3147.4324, train_label_loss: 0.0134, \n"
     ]
    },
    {
     "name": "stdout",
     "output_type": "stream",
     "text": [
      "epoch: 2, [batch: 294 / 734], examples_per_second: 3134.6412, train_label_loss: 0.0219, \n"
     ]
    },
    {
     "name": "stdout",
     "output_type": "stream",
     "text": [
      "epoch: 2, [batch: 367 / 734], examples_per_second: 3178.1957, train_label_loss: 0.3095, \n"
     ]
    },
    {
     "name": "stdout",
     "output_type": "stream",
     "text": [
      "epoch: 2, [batch: 440 / 734], examples_per_second: 3171.4878, train_label_loss: 0.0240, \n"
     ]
    },
    {
     "name": "stdout",
     "output_type": "stream",
     "text": [
      "epoch: 2, [batch: 514 / 734], examples_per_second: 3133.9615, train_label_loss: 0.0075, \n"
     ]
    },
    {
     "name": "stdout",
     "output_type": "stream",
     "text": [
      "epoch: 2, [batch: 587 / 734], examples_per_second: 3159.4765, train_label_loss: 0.0001, \n"
     ]
    },
    {
     "name": "stdout",
     "output_type": "stream",
     "text": [
      "epoch: 2, [batch: 660 / 734], examples_per_second: 3160.3769, train_label_loss: 0.0209, \n"
     ]
    },
    {
     "name": "stdout",
     "output_type": "stream",
     "text": [
      "=============================================================\n",
      "epoch: 2, source_val_acc_label: 0.9906, target_val_acc_label: 0.2217, source_val_label_loss: 0.0399, target_val_label_loss: 2.6070, \n",
      "=============================================================\n"
     ]
    },
    {
     "name": "stdout",
     "output_type": "stream",
     "text": [
      "epoch: 3, [batch: 1 / 734], examples_per_second: 15.9319, train_label_loss: 0.0047, \n"
     ]
    },
    {
     "name": "stdout",
     "output_type": "stream",
     "text": [
      "epoch: 3, [batch: 74 / 734], examples_per_second: 3221.8999, train_label_loss: 0.0028, \n"
     ]
    },
    {
     "name": "stdout",
     "output_type": "stream",
     "text": [
      "epoch: 3, [batch: 147 / 734], examples_per_second: 3199.1269, train_label_loss: 0.0140, \n"
     ]
    },
    {
     "name": "stdout",
     "output_type": "stream",
     "text": [
      "epoch: 3, [batch: 220 / 734], examples_per_second: 3159.9317, train_label_loss: 0.0032, \n"
     ]
    },
    {
     "name": "stdout",
     "output_type": "stream",
     "text": [
      "epoch: 3, [batch: 294 / 734], examples_per_second: 3163.0885, train_label_loss: 0.0020, \n"
     ]
    },
    {
     "name": "stdout",
     "output_type": "stream",
     "text": [
      "epoch: 3, [batch: 367 / 734], examples_per_second: 3157.3600, train_label_loss: 0.0001, \n"
     ]
    },
    {
     "name": "stdout",
     "output_type": "stream",
     "text": [
      "epoch: 3, [batch: 440 / 734], examples_per_second: 3160.0198, train_label_loss: 0.0369, \n"
     ]
    },
    {
     "name": "stdout",
     "output_type": "stream",
     "text": [
      "epoch: 3, [batch: 514 / 734], examples_per_second: 3157.4971, train_label_loss: 0.0072, \n"
     ]
    },
    {
     "name": "stdout",
     "output_type": "stream",
     "text": [
      "epoch: 3, [batch: 587 / 734], examples_per_second: 3168.9103, train_label_loss: 0.1493, \n"
     ]
    },
    {
     "name": "stdout",
     "output_type": "stream",
     "text": [
      "epoch: 3, [batch: 660 / 734], examples_per_second: 3172.9330, train_label_loss: 0.3373, \n"
     ]
    },
    {
     "name": "stdout",
     "output_type": "stream",
     "text": [
      "=============================================================\n",
      "epoch: 3, source_val_acc_label: 0.9888, target_val_acc_label: 0.2657, source_val_label_loss: 0.0506, target_val_label_loss: 2.5097, \n",
      "=============================================================\n"
     ]
    },
    {
     "name": "stdout",
     "output_type": "stream",
     "text": [
      "epoch: 4, [batch: 1 / 734], examples_per_second: 15.9753, train_label_loss: 0.0010, \n"
     ]
    },
    {
     "name": "stdout",
     "output_type": "stream",
     "text": [
      "epoch: 4, [batch: 74 / 734], examples_per_second: 3156.0244, train_label_loss: 0.0722, \n"
     ]
    },
    {
     "name": "stdout",
     "output_type": "stream",
     "text": [
      "epoch: 4, [batch: 147 / 734], examples_per_second: 3163.2016, train_label_loss: 0.0005, \n"
     ]
    },
    {
     "name": "stdout",
     "output_type": "stream",
     "text": [
      "epoch: 4, [batch: 220 / 734], examples_per_second: 3156.0736, train_label_loss: 0.1038, \n"
     ]
    },
    {
     "name": "stdout",
     "output_type": "stream",
     "text": [
      "epoch: 4, [batch: 294 / 734], examples_per_second: 3130.8709, train_label_loss: 0.0257, \n"
     ]
    },
    {
     "name": "stdout",
     "output_type": "stream",
     "text": [
      "epoch: 4, [batch: 367 / 734], examples_per_second: 3146.1582, train_label_loss: 0.0005, \n"
     ]
    },
    {
     "name": "stdout",
     "output_type": "stream",
     "text": [
      "epoch: 4, [batch: 440 / 734], examples_per_second: 3138.0406, train_label_loss: 0.0000, \n"
     ]
    },
    {
     "name": "stdout",
     "output_type": "stream",
     "text": [
      "epoch: 4, [batch: 514 / 734], examples_per_second: 3131.9948, train_label_loss: 0.0001, \n"
     ]
    },
    {
     "name": "stdout",
     "output_type": "stream",
     "text": [
      "epoch: 4, [batch: 587 / 734], examples_per_second: 3149.9864, train_label_loss: 0.0015, \n"
     ]
    },
    {
     "name": "stdout",
     "output_type": "stream",
     "text": [
      "epoch: 4, [batch: 660 / 734], examples_per_second: 3175.7711, train_label_loss: 0.0804, \n"
     ]
    },
    {
     "name": "stdout",
     "output_type": "stream",
     "text": [
      "=============================================================\n",
      "epoch: 4, source_val_acc_label: 0.9969, target_val_acc_label: 0.3152, source_val_label_loss: 0.0144, target_val_label_loss: 2.4884, \n",
      "=============================================================\n"
     ]
    },
    {
     "name": "stdout",
     "output_type": "stream",
     "text": [
      "epoch: 5, [batch: 1 / 737], examples_per_second: 16.0507, train_label_loss: 0.0000, \n"
     ]
    },
    {
     "name": "stdout",
     "output_type": "stream",
     "text": [
      "epoch: 5, [batch: 74 / 737], examples_per_second: 3152.6695, train_label_loss: 0.0000, \n"
     ]
    },
    {
     "name": "stdout",
     "output_type": "stream",
     "text": [
      "epoch: 5, [batch: 148 / 737], examples_per_second: 3155.2302, train_label_loss: 0.0000, \n"
     ]
    },
    {
     "name": "stdout",
     "output_type": "stream",
     "text": [
      "epoch: 5, [batch: 221 / 737], examples_per_second: 3188.6859, train_label_loss: 0.0000, \n"
     ]
    },
    {
     "name": "stdout",
     "output_type": "stream",
     "text": [
      "epoch: 5, [batch: 295 / 737], examples_per_second: 3181.3189, train_label_loss: 0.0001, \n"
     ]
    },
    {
     "name": "stdout",
     "output_type": "stream",
     "text": [
      "epoch: 5, [batch: 369 / 737], examples_per_second: 3170.4504, train_label_loss: 0.0014, \n"
     ]
    },
    {
     "name": "stdout",
     "output_type": "stream",
     "text": [
      "epoch: 5, [batch: 442 / 737], examples_per_second: 3149.9018, train_label_loss: 0.0000, \n"
     ]
    },
    {
     "name": "stdout",
     "output_type": "stream",
     "text": [
      "epoch: 5, [batch: 516 / 737], examples_per_second: 3146.7571, train_label_loss: 0.0060, \n"
     ]
    },
    {
     "name": "stdout",
     "output_type": "stream",
     "text": [
      "epoch: 5, [batch: 589 / 737], examples_per_second: 3185.3366, train_label_loss: 0.0000, \n"
     ]
    },
    {
     "name": "stdout",
     "output_type": "stream",
     "text": [
      "epoch: 5, [batch: 663 / 737], examples_per_second: 3146.0968, train_label_loss: 0.0001, \n"
     ]
    },
    {
     "name": "stdout",
     "output_type": "stream",
     "text": [
      "=============================================================\n",
      "epoch: 5, source_val_acc_label: 0.9878, target_val_acc_label: 0.3203, source_val_label_loss: 0.0492, target_val_label_loss: 2.0690, \n",
      "=============================================================\n"
     ]
    },
    {
     "name": "stdout",
     "output_type": "stream",
     "text": [
      "New best\n"
     ]
    },
    {
     "name": "stdout",
     "output_type": "stream",
     "text": [
      "epoch: 6, [batch: 1 / 733], examples_per_second: 15.9260, train_label_loss: 0.0600, \n"
     ]
    },
    {
     "name": "stdout",
     "output_type": "stream",
     "text": [
      "epoch: 6, [batch: 74 / 733], examples_per_second: 3172.7662, train_label_loss: 0.0000, \n"
     ]
    },
    {
     "name": "stdout",
     "output_type": "stream",
     "text": [
      "epoch: 6, [batch: 147 / 733], examples_per_second: 3159.7984, train_label_loss: 0.0012, \n"
     ]
    },
    {
     "name": "stdout",
     "output_type": "stream",
     "text": [
      "epoch: 6, [batch: 220 / 733], examples_per_second: 3166.4856, train_label_loss: 0.0000, \n"
     ]
    },
    {
     "name": "stdout",
     "output_type": "stream",
     "text": [
      "epoch: 6, [batch: 293 / 733], examples_per_second: 3163.8140, train_label_loss: 0.0098, \n"
     ]
    },
    {
     "name": "stdout",
     "output_type": "stream",
     "text": [
      "epoch: 6, [batch: 367 / 733], examples_per_second: 3171.4024, train_label_loss: 0.0000, \n"
     ]
    },
    {
     "name": "stdout",
     "output_type": "stream",
     "text": [
      "epoch: 6, [batch: 440 / 733], examples_per_second: 3211.7196, train_label_loss: 0.0010, \n"
     ]
    },
    {
     "name": "stdout",
     "output_type": "stream",
     "text": [
      "epoch: 6, [batch: 513 / 733], examples_per_second: 3174.8158, train_label_loss: 0.0001, \n"
     ]
    },
    {
     "name": "stdout",
     "output_type": "stream",
     "text": [
      "epoch: 6, [batch: 586 / 733], examples_per_second: 3163.7535, train_label_loss: 0.0087, \n"
     ]
    },
    {
     "name": "stdout",
     "output_type": "stream",
     "text": [
      "epoch: 6, [batch: 659 / 733], examples_per_second: 3178.7628, train_label_loss: 0.0000, \n"
     ]
    },
    {
     "name": "stdout",
     "output_type": "stream",
     "text": [
      "=============================================================\n",
      "epoch: 6, source_val_acc_label: 0.9962, target_val_acc_label: 0.2623, source_val_label_loss: 0.0224, target_val_label_loss: 2.5732, \n",
      "=============================================================\n"
     ]
    },
    {
     "name": "stdout",
     "output_type": "stream",
     "text": [
      "epoch: 7, [batch: 1 / 732], examples_per_second: 16.0726, train_label_loss: 0.0001, \n"
     ]
    },
    {
     "name": "stdout",
     "output_type": "stream",
     "text": [
      "epoch: 7, [batch: 74 / 732], examples_per_second: 3141.4409, train_label_loss: 0.0000, \n"
     ]
    },
    {
     "name": "stdout",
     "output_type": "stream",
     "text": [
      "epoch: 7, [batch: 147 / 732], examples_per_second: 3167.4003, train_label_loss: 0.6974, \n"
     ]
    },
    {
     "name": "stdout",
     "output_type": "stream",
     "text": [
      "epoch: 7, [batch: 220 / 732], examples_per_second: 3160.5743, train_label_loss: 0.0000, \n"
     ]
    },
    {
     "name": "stdout",
     "output_type": "stream",
     "text": [
      "epoch: 7, [batch: 293 / 732], examples_per_second: 3158.1143, train_label_loss: 0.0004, \n"
     ]
    },
    {
     "name": "stdout",
     "output_type": "stream",
     "text": [
      "epoch: 7, [batch: 366 / 732], examples_per_second: 3172.1458, train_label_loss: 0.0000, \n"
     ]
    },
    {
     "name": "stdout",
     "output_type": "stream",
     "text": [
      "epoch: 7, [batch: 439 / 732], examples_per_second: 3174.3138, train_label_loss: 0.0000, \n"
     ]
    },
    {
     "name": "stdout",
     "output_type": "stream",
     "text": [
      "epoch: 7, [batch: 512 / 732], examples_per_second: 3175.9445, train_label_loss: 0.0000, \n"
     ]
    },
    {
     "name": "stdout",
     "output_type": "stream",
     "text": [
      "epoch: 7, [batch: 585 / 732], examples_per_second: 3164.2178, train_label_loss: 0.0006, \n"
     ]
    },
    {
     "name": "stdout",
     "output_type": "stream",
     "text": [
      "epoch: 7, [batch: 658 / 732], examples_per_second: 3171.2238, train_label_loss: 0.0000, \n"
     ]
    },
    {
     "name": "stdout",
     "output_type": "stream",
     "text": [
      "=============================================================\n",
      "epoch: 7, source_val_acc_label: 0.9944, target_val_acc_label: 0.2814, source_val_label_loss: 0.0320, target_val_label_loss: 2.8773, \n",
      "=============================================================\n"
     ]
    },
    {
     "name": "stdout",
     "output_type": "stream",
     "text": [
      "epoch: 8, [batch: 1 / 737], examples_per_second: 16.1457, train_label_loss: 0.0000, \n"
     ]
    },
    {
     "name": "stdout",
     "output_type": "stream",
     "text": [
      "epoch: 8, [batch: 74 / 737], examples_per_second: 3166.2261, train_label_loss: 0.0006, \n"
     ]
    },
    {
     "name": "stdout",
     "output_type": "stream",
     "text": [
      "epoch: 8, [batch: 148 / 737], examples_per_second: 3135.7690, train_label_loss: 0.0000, \n"
     ]
    },
    {
     "name": "stdout",
     "output_type": "stream",
     "text": [
      "epoch: 8, [batch: 221 / 737], examples_per_second: 3159.6945, train_label_loss: 0.0000, \n"
     ]
    },
    {
     "name": "stdout",
     "output_type": "stream",
     "text": [
      "epoch: 8, [batch: 295 / 737], examples_per_second: 3154.4333, train_label_loss: 0.0000, \n"
     ]
    },
    {
     "name": "stdout",
     "output_type": "stream",
     "text": [
      "epoch: 8, [batch: 369 / 737], examples_per_second: 3176.7774, train_label_loss: 0.0000, \n"
     ]
    },
    {
     "name": "stdout",
     "output_type": "stream",
     "text": [
      "epoch: 8, [batch: 442 / 737], examples_per_second: 3190.6654, train_label_loss: 0.1599, \n"
     ]
    },
    {
     "name": "stdout",
     "output_type": "stream",
     "text": [
      "epoch: 8, [batch: 516 / 737], examples_per_second: 3158.6977, train_label_loss: 0.0000, \n"
     ]
    },
    {
     "name": "stdout",
     "output_type": "stream",
     "text": [
      "epoch: 8, [batch: 589 / 737], examples_per_second: 3181.8791, train_label_loss: 0.0019, \n"
     ]
    },
    {
     "name": "stdout",
     "output_type": "stream",
     "text": [
      "epoch: 8, [batch: 663 / 737], examples_per_second: 3217.6729, train_label_loss: 0.0003, \n"
     ]
    },
    {
     "name": "stdout",
     "output_type": "stream",
     "text": [
      "=============================================================\n",
      "epoch: 8, source_val_acc_label: 0.9962, target_val_acc_label: 0.2767, source_val_label_loss: 0.0266, target_val_label_loss: 3.0061, \n",
      "=============================================================\n"
     ]
    },
    {
     "name": "stdout",
     "output_type": "stream",
     "text": [
      "epoch: 9, [batch: 1 / 731], examples_per_second: 16.0359, train_label_loss: 0.0000, \n"
     ]
    },
    {
     "name": "stdout",
     "output_type": "stream",
     "text": [
      "epoch: 9, [batch: 74 / 731], examples_per_second: 3151.3757, train_label_loss: 0.0003, \n"
     ]
    },
    {
     "name": "stdout",
     "output_type": "stream",
     "text": [
      "epoch: 9, [batch: 147 / 731], examples_per_second: 3181.5696, train_label_loss: 0.0965, \n"
     ]
    },
    {
     "name": "stdout",
     "output_type": "stream",
     "text": [
      "epoch: 9, [batch: 220 / 731], examples_per_second: 3155.7247, train_label_loss: 0.0002, \n"
     ]
    },
    {
     "name": "stdout",
     "output_type": "stream",
     "text": [
      "epoch: 9, [batch: 293 / 731], examples_per_second: 3131.1803, train_label_loss: 0.0000, \n"
     ]
    },
    {
     "name": "stdout",
     "output_type": "stream",
     "text": [
      "epoch: 9, [batch: 366 / 731], examples_per_second: 3174.7256, train_label_loss: 0.0000, \n"
     ]
    },
    {
     "name": "stdout",
     "output_type": "stream",
     "text": [
      "epoch: 9, [batch: 439 / 731], examples_per_second: 3163.9321, train_label_loss: 0.0000, \n"
     ]
    },
    {
     "name": "stdout",
     "output_type": "stream",
     "text": [
      "epoch: 9, [batch: 512 / 731], examples_per_second: 3150.5249, train_label_loss: 0.0250, \n"
     ]
    },
    {
     "name": "stdout",
     "output_type": "stream",
     "text": [
      "epoch: 9, [batch: 585 / 731], examples_per_second: 3156.8912, train_label_loss: 0.0000, \n"
     ]
    },
    {
     "name": "stdout",
     "output_type": "stream",
     "text": [
      "epoch: 9, [batch: 658 / 731], examples_per_second: 3163.7727, train_label_loss: 0.0000, \n"
     ]
    },
    {
     "name": "stdout",
     "output_type": "stream",
     "text": [
      "=============================================================\n",
      "epoch: 9, source_val_acc_label: 0.9981, target_val_acc_label: 0.2358, source_val_label_loss: 0.0114, target_val_label_loss: 3.7801, \n",
      "=============================================================\n"
     ]
    },
    {
     "name": "stdout",
     "output_type": "stream",
     "text": [
      "Patience (3) exhausted\n"
     ]
    }
   ],
   "source": [
    "###################################\n",
    "# train\n",
    "###################################\n",
    "jig = PTN_Train_Eval_Test_Jig(model, p.BEST_MODEL_PATH, p.device)\n",
    "\n",
    "jig.train(\n",
    "    train_iterable=datasets.source.processed.train,\n",
    "    source_val_iterable=datasets.source.processed.val,\n",
    "    target_val_iterable=datasets.target.processed.val,\n",
    "    num_epochs=p.n_epoch,\n",
    "    num_logs_per_epoch=p.NUM_LOGS_PER_EPOCH,\n",
    "    patience=p.patience,\n",
    "    optimizer=optimizer,\n",
    "    criteria_for_best=p.criteria_for_best,\n",
    ")"
   ]
  },
  {
   "cell_type": "code",
   "execution_count": 23,
   "id": "31e8fabf",
   "metadata": {
    "execution": {
     "iopub.execute_input": "2022-03-07T08:49:12.073601Z",
     "iopub.status.busy": "2022-03-07T08:49:12.073323Z",
     "iopub.status.idle": "2022-03-07T08:49:12.089285Z",
     "shell.execute_reply": "2022-03-07T08:49:12.089679Z"
    },
    "papermill": {
     "duration": 0.050854,
     "end_time": "2022-03-07T08:49:12.089819",
     "exception": false,
     "start_time": "2022-03-07T08:49:12.038965",
     "status": "completed"
    },
    "tags": []
   },
   "outputs": [],
   "source": [
    "total_experiment_time_secs = time.time() - start_time_secs"
   ]
  },
  {
   "cell_type": "code",
   "execution_count": 24,
   "id": "87b9595b",
   "metadata": {
    "execution": {
     "iopub.execute_input": "2022-03-07T08:49:12.164598Z",
     "iopub.status.busy": "2022-03-07T08:49:12.160307Z",
     "iopub.status.idle": "2022-03-07T08:50:07.335232Z",
     "shell.execute_reply": "2022-03-07T08:50:07.334798Z"
    },
    "papermill": {
     "duration": 55.208899,
     "end_time": "2022-03-07T08:50:07.335346",
     "exception": false,
     "start_time": "2022-03-07T08:49:12.126447",
     "status": "completed"
    },
    "tags": []
   },
   "outputs": [],
   "source": [
    "###################################\n",
    "# Evaluate the model\n",
    "###################################\n",
    "source_test_label_accuracy, source_test_label_loss = jig.test(datasets.source.processed.test)\n",
    "target_test_label_accuracy, target_test_label_loss = jig.test(datasets.target.processed.test)\n",
    "\n",
    "source_val_label_accuracy, source_val_label_loss = jig.test(datasets.source.processed.val)\n",
    "target_val_label_accuracy, target_val_label_loss = jig.test(datasets.target.processed.val)\n",
    "\n",
    "history = jig.get_history()\n",
    "\n",
    "total_epochs_trained = len(history[\"epoch_indices\"])\n",
    "\n",
    "val_dl = Iterable_Aggregator((datasets.source.original.val,datasets.target.original.val))\n",
    "\n",
    "confusion = ptn_confusion_by_domain_over_dataloader(model, p.device, val_dl)\n",
    "per_domain_accuracy = per_domain_accuracy_from_confusion(confusion)\n",
    "\n",
    "# Add a key to per_domain_accuracy for if it was a source domain\n",
    "for domain, accuracy in per_domain_accuracy.items():\n",
    "    per_domain_accuracy[domain] = {\n",
    "        \"accuracy\": accuracy,\n",
    "        \"source?\": domain in p.domains_source\n",
    "    }\n",
    "\n",
    "# Do an independent accuracy assesment JUST TO BE SURE!\n",
    "# _source_test_label_accuracy = independent_accuracy_assesment(model, datasets.source.processed.test, p.device)\n",
    "# _target_test_label_accuracy = independent_accuracy_assesment(model, datasets.target.processed.test, p.device)\n",
    "# _source_val_label_accuracy = independent_accuracy_assesment(model, datasets.source.processed.val, p.device)\n",
    "# _target_val_label_accuracy = independent_accuracy_assesment(model, datasets.target.processed.val, p.device)\n",
    "\n",
    "# assert(_source_test_label_accuracy == source_test_label_accuracy)\n",
    "# assert(_target_test_label_accuracy == target_test_label_accuracy)\n",
    "# assert(_source_val_label_accuracy == source_val_label_accuracy)\n",
    "# assert(_target_val_label_accuracy == target_val_label_accuracy)\n",
    "\n",
    "experiment = {\n",
    "    \"experiment_name\": p.experiment_name,\n",
    "    \"parameters\": dict(p),\n",
    "    \"results\": {\n",
    "        \"source_test_label_accuracy\": source_test_label_accuracy,\n",
    "        \"source_test_label_loss\": source_test_label_loss,\n",
    "        \"target_test_label_accuracy\": target_test_label_accuracy,\n",
    "        \"target_test_label_loss\": target_test_label_loss,\n",
    "        \"source_val_label_accuracy\": source_val_label_accuracy,\n",
    "        \"source_val_label_loss\": source_val_label_loss,\n",
    "        \"target_val_label_accuracy\": target_val_label_accuracy,\n",
    "        \"target_val_label_loss\": target_val_label_loss,\n",
    "        \"total_epochs_trained\": total_epochs_trained,\n",
    "        \"total_experiment_time_secs\": total_experiment_time_secs,\n",
    "        \"confusion\": confusion,\n",
    "        \"per_domain_accuracy\": per_domain_accuracy,\n",
    "    },\n",
    "    \"history\": history,\n",
    "    \"dataset_metrics\": get_dataset_metrics(datasets, \"ptn\"),\n",
    "}"
   ]
  },
  {
   "cell_type": "code",
   "execution_count": 25,
   "id": "54a21829",
   "metadata": {
    "execution": {
     "iopub.execute_input": "2022-03-07T08:50:07.406200Z",
     "iopub.status.busy": "2022-03-07T08:50:07.405935Z",
     "iopub.status.idle": "2022-03-07T08:50:07.590930Z",
     "shell.execute_reply": "2022-03-07T08:50:07.590434Z"
    },
    "papermill": {
     "duration": 0.219308,
     "end_time": "2022-03-07T08:50:07.591026",
     "exception": false,
     "start_time": "2022-03-07T08:50:07.371718",
     "status": "completed"
    },
    "tags": []
   },
   "outputs": [
    {
     "data": {
      "image/png": "[encoded data removed]",
      "text/plain": [
       "<Figure size 1080x504 with 1 Axes>"
      ]
     },
     "metadata": {
      "needs_background": "light"
     },
     "output_type": "display_data"
    }
   ],
   "source": [
    "ax = get_loss_curve(experiment)\n",
    "plt.show()"
   ]
  },
  {
   "cell_type": "code",
   "execution_count": 26,
   "id": "fd8a0f60",
   "metadata": {
    "execution": {
     "iopub.execute_input": "2022-03-07T08:50:07.663293Z",
     "iopub.status.busy": "2022-03-07T08:50:07.663023Z",
     "iopub.status.idle": "2022-03-07T08:50:07.840282Z",
     "shell.execute_reply": "2022-03-07T08:50:07.839774Z"
    },
    "papermill": {
     "duration": 0.212812,
     "end_time": "2022-03-07T08:50:07.840385",
     "exception": false,
     "start_time": "2022-03-07T08:50:07.627573",
     "status": "completed"
    },
    "tags": []
   },
   "outputs": [
    {
     "data": {
      "text/plain": [
       "<matplotlib.axes._subplots.AxesSubplot at 0x7f5ff2170e50>"
      ]
     },
     "execution_count": 26,
     "metadata": {},
     "output_type": "execute_result"
    },
    {
     "data": {
      "image/png": "[encoded data removed]",
      "text/plain": [
       "<Figure size 1080x504 with 1 Axes>"
      ]
     },
     "metadata": {
      "needs_background": "light"
     },
     "output_type": "display_data"
    }
   ],
   "source": [
    "get_results_table(experiment)"
   ]
  },
  {
   "cell_type": "code",
   "execution_count": 27,
   "id": "cf8dc689",
   "metadata": {
    "execution": {
     "iopub.execute_input": "2022-03-07T08:50:07.916036Z",
     "iopub.status.busy": "2022-03-07T08:50:07.915773Z",
     "iopub.status.idle": "2022-03-07T08:50:08.121726Z",
     "shell.execute_reply": "2022-03-07T08:50:08.121460Z"
    },
    "papermill": {
     "duration": 0.242871,
     "end_time": "2022-03-07T08:50:08.121783",
     "exception": false,
     "start_time": "2022-03-07T08:50:07.878912",
     "status": "completed"
    },
    "tags": []
   },
   "outputs": [
    {
     "data": {
      "text/plain": [
       "<matplotlib.axes._subplots.AxesSubplot at 0x7f5ff0c55850>"
      ]
     },
     "execution_count": 27,
     "metadata": {},
     "output_type": "execute_result"
    },
    {
     "data": {
      "image/png": "[encoded data removed]",
      "text/plain": [
       "<Figure size 1080x504 with 1 Axes>"
      ]
     },
     "metadata": {
      "needs_background": "light"
     },
     "output_type": "display_data"
    }
   ],
   "source": [
    "get_domain_accuracies(experiment)"
   ]
  },
  {
   "cell_type": "code",
   "execution_count": 28,
   "id": "a74ae082",
   "metadata": {
    "execution": {
     "iopub.execute_input": "2022-03-07T08:50:08.195560Z",
     "iopub.status.busy": "2022-03-07T08:50:08.195294Z",
     "iopub.status.idle": "2022-03-07T08:50:08.209358Z",
     "shell.execute_reply": "2022-03-07T08:50:08.208983Z"
    },
    "papermill": {
     "duration": 0.052438,
     "end_time": "2022-03-07T08:50:08.209453",
     "exception": false,
     "start_time": "2022-03-07T08:50:08.157015",
     "status": "completed"
    },
    "tags": []
   },
   "outputs": [
    {
     "name": "stdout",
     "output_type": "stream",
     "text": [
      "Source Test Label Accuracy: 0.9875 Target Test Label Accuracy: 0.32867838541666666\n",
      "Source Val Label Accuracy: 0.9878125 Target Val Label Accuracy: 0.3203125\n"
     ]
    }
   ],
   "source": [
    "print(\"Source Test Label Accuracy:\", experiment[\"results\"][\"source_test_label_accuracy\"], \"Target Test Label Accuracy:\", experiment[\"results\"][\"target_test_label_accuracy\"])\n",
    "print(\"Source Val Label Accuracy:\", experiment[\"results\"][\"source_val_label_accuracy\"], \"Target Val Label Accuracy:\", experiment[\"results\"][\"target_val_label_accuracy\"])"
   ]
  },
  {
   "cell_type": "code",
   "execution_count": 29,
   "id": "dacca602",
   "metadata": {
    "execution": {
     "iopub.execute_input": "2022-03-07T08:50:08.289918Z",
     "iopub.status.busy": "2022-03-07T08:50:08.289660Z",
     "iopub.status.idle": "2022-03-07T08:50:08.304682Z",
     "shell.execute_reply": "2022-03-07T08:50:08.304303Z"
    },
    "papermill": {
     "duration": 0.054497,
     "end_time": "2022-03-07T08:50:08.304779",
     "exception": false,
     "start_time": "2022-03-07T08:50:08.250282",
     "status": "completed"
    },
    "tags": [
     "experiment_json"
    ]
   },
   "outputs": [
    {
     "data": {
      "text/plain": [
       "'{\"experiment_name\": \"tl_1_cores-oracle.run1\", \"parameters\": {\"experiment_name\": \"tl_1_cores-oracle.run1\", \"device\": \"cuda\", \"lr\": 0.001, \"seed\": 1337, \"dataset_seed\": 1337, \"n_shot\": 3, \"n_query\": 2, \"train_k_factor\": 3, \"val_k_factor\": 2, \"test_k_factor\": 2, \"torch_default_dtype\": \"torch.float32\", \"n_epoch\": 50, \"patience\": 3, \"criteria_for_best\": \"target_loss\", \"x_net\": [{\"class\": \"nnReshape\", \"kargs\": {\"shape\": [-1, 1, 2, 256]}}, {\"class\": \"Conv2d\", \"kargs\": {\"in_channels\": 1, \"out_channels\": 256, \"kernel_size\": [1, 7], \"bias\": false, \"padding\": [0, 3]}}, {\"class\": \"ReLU\", \"kargs\": {\"inplace\": true}}, {\"class\": \"BatchNorm2d\", \"kargs\": {\"num_features\": 256}}, {\"class\": \"Conv2d\", \"kargs\": {\"in_channels\": 256, \"out_channels\": 80, \"kernel_size\": [2, 7], \"bias\": true, \"padding\": [0, 3]}}, {\"class\": \"ReLU\", \"kargs\": {\"inplace\": true}}, {\"class\": \"BatchNorm2d\", \"kargs\": {\"num_features\": 80}}, {\"class\": \"Flatten\", \"kargs\": {}}, {\"class\": \"Linear\", \"kargs\": {\"in_features\": 20480, \"out_features\": 256}}, {\"class\": \"ReLU\", \"kargs\": {\"inplace\": true}}, {\"class\": \"BatchNorm1d\", \"kargs\": {\"num_features\": 256}}, {\"class\": \"Linear\", \"kargs\": {\"in_features\": 256, \"out_features\": 256}}], \"NUM_LOGS_PER_EPOCH\": 10, \"BEST_MODEL_PATH\": \"./best_model.pth\", \"n_way\": 16, \"datasets\": [{\"labels\": [\"1-10.\", \"1-11.\", \"1-15.\", \"1-16.\", \"1-17.\", \"1-18.\", \"1-19.\", \"10-4.\", \"10-7.\", \"11-1.\", \"11-14.\", \"11-17.\", \"11-20.\", \"11-7.\", \"13-20.\", \"13-8.\", \"14-10.\", \"14-11.\", \"14-14.\", \"14-7.\", \"15-1.\", \"15-20.\", \"16-1.\", \"16-16.\", \"17-10.\", \"17-11.\", \"17-2.\", \"19-1.\", \"19-16.\", \"19-19.\", \"19-20.\", \"19-3.\", \"2-10.\", \"2-11.\", \"2-17.\", \"2-18.\", \"2-20.\", \"2-3.\", \"2-4.\", \"2-5.\", \"2-6.\", \"2-7.\", \"2-8.\", \"3-13.\", \"3-18.\", \"3-3.\", \"4-1.\", \"4-10.\", \"4-11.\", \"4-19.\", \"5-5.\", \"6-15.\", \"7-10.\", \"7-14.\", \"8-18.\", \"8-20.\", \"8-3.\", \"8-8.\"], \"domains\": [1, 2, 3, 4, 5], \"num_examples_per_domain_per_label\": 100, \"pickle_path\": \"/mnt/wd500GB/CSC500/csc500-main/datasets/cores.stratified_ds.2022A.pkl\", \"source_or_target_dataset\": \"source\", \"x_transforms\": [\"unit_mag\"], \"episode_transforms\": [], \"domain_prefix\": \"CORES_\"}, {\"labels\": [\"3123D52\", \"3123D65\", \"3123D79\", \"3123D80\", \"3123D54\", \"3123D70\", \"3123D7B\", \"3123D89\", \"3123D58\", \"3123D76\", \"3123D7D\", \"3123EFE\", \"3123D64\", \"3123D78\", \"3123D7E\", \"3124E4A\"], \"domains\": [32, 38, 8, 44, 14, 50, 20, 26], \"num_examples_per_domain_per_label\": 2000, \"pickle_path\": \"/mnt/wd500GB/CSC500/csc500-main/datasets/oracle.Run1_framed_2000Examples_stratified_ds.2022A.pkl\", \"source_or_target_dataset\": \"target\", \"x_transforms\": [\"unit_mag\"], \"episode_transforms\": [], \"domain_prefix\": \"ORACLE.run1_\"}], \"domains_source\": [\"CORES_1\", \"CORES_2\", \"CORES_3\", \"CORES_4\", \"CORES_5\"], \"domains_target\": [\"ORACLE.run1_32\", \"ORACLE.run1_38\", \"ORACLE.run1_8\", \"ORACLE.run1_44\", \"ORACLE.run1_14\", \"ORACLE.run1_50\", \"ORACLE.run1_20\", \"ORACLE.run1_26\"]}, \"results\": {\"source_test_label_accuracy\": 0.9875, \"source_test_label_loss\": 0.046711552888154984, \"target_test_label_accuracy\": 0.32867838541666666, \"target_test_label_loss\": 2.0377914905548096, \"source_val_label_accuracy\": 0.9878125, \"source_val_label_loss\": 0.0491606742143631, \"target_val_label_accuracy\": 0.3203125, \"target_val_label_loss\": 2.0690150260925293, \"total_epochs_trained\": 9, \"total_experiment_time_secs\": 262.64607214927673, \"confusion\": {\"CORES_3\": {\"43\": {\"43\": 12}, \"9\": {\"9\": 12}, \"6\": {\"6\": 10}, \"3\": {\"3\": 12}, \"16\": {\"16\": 12}, \"51\": {\"51\": 12}, \"31\": {\"31\": 12}, \"46\": {\"46\": 9, \"21\": 1}, \"19\": {\"19\": 8}, \"8\": {\"8\": 12}, \"18\": {\"18\": 12}, \"37\": {\"37\": 12}, \"24\": {\"24\": 11, \"10\": 1}, \"10\": {\"10\": 12}, \"44\": {\"44\": 10}, \"14\": {\"14\": 12}, \"38\": {\"38\": 10}, \"53\": {\"53\": 10, \"20\": 2}, \"20\": {\"20\": 12}, \"32\": {\"32\": 12}, \"36\": {\"36\": 10}, \"33\": {\"33\": 12}, \"56\": {\"56\": 12}, \"23\": {\"23\": 12}, \"54\": {\"54\": 10}, \"34\": {\"34\": 12}, \"13\": {\"13\": 12}, \"2\": {\"2\": 11, \"33\": 1}, \"55\": {\"55\": 10}, \"21\": {\"21\": 10}, \"49\": {\"49\": 10}, \"25\": {\"25\": 12}, \"5\": {\"5\": 12}, \"50\": {\"21\": 1, \"50\": 7}, \"40\": {\"40\": 12}, \"57\": {\"57\": 8}, \"22\": {\"22\": 10}, \"1\": {\"1\": 10}, \"17\": {\"17\": 12}, \"41\": {\"41\": 12}, \"4\": {\"4\": 10}, \"7\": {\"7\": 10}, \"26\": {\"26\": 10}, \"29\": {\"29\": 11, \"9\": 1}, \"52\": {\"52\": 12}, \"15\": {\"15\": 12}, \"35\": {\"35\": 12}, \"42\": {\"42\": 12}, \"30\": {\"30\": 10}, \"27\": {\"27\": 8}, \"45\": {\"45\": 10}, \"0\": {\"0\": 12}, \"28\": {\"28\": 12}, \"47\": {\"47\": 12}, \"11\": {\"11\": 10}, \"39\": {\"39\": 10}, \"48\": {\"48\": 12}, \"12\": {\"12\": 8}}, \"CORES_4\": {\"35\": {\"35\": 10}, \"25\": {\"25\": 12}, \"24\": {\"24\": 10}, \"48\": {\"48\": 12}, \"51\": {\"51\": 12}, \"13\": {\"13\": 12}, \"14\": {\"14\": 8}, \"32\": {\"32\": 12}, \"30\": {\"30\": 11, \"21\": 1}, \"34\": {\"34\": 10}, \"9\": {\"9\": 12}, \"1\": {\"1\": 12}, \"0\": {\"0\": 12}, \"38\": {\"38\": 12}, \"22\": {\"22\": 8}, \"40\": {\"40\": 12}, \"39\": {\"39\": 12}, \"46\": {\"46\": 10, \"5\": 1, \"3\": 1}, \"36\": {\"36\": 12}, \"50\": {\"50\": 11, \"31\": 1}, \"49\": {\"49\": 12}, \"17\": {\"17\": 12}, \"45\": {\"45\": 12}, \"6\": {\"6\": 12}, \"8\": {\"8\": 12}, \"5\": {\"5\": 9, \"46\": 1}, \"33\": {\"33\": 12}, \"31\": {\"31\": 12}, \"37\": {\"37\": 10}, \"47\": {\"47\": 7, \"5\": 1}, \"15\": {\"15\": 10}, \"7\": {\"7\": 12}, \"20\": {\"20\": 12}, \"4\": {\"4\": 10, \"9\": 1, \"26\": 1}, \"54\": {\"54\": 12}, \"44\": {\"19\": 1, \"44\": 11}, \"3\": {\"3\": 11, \"53\": 1}, \"11\": {\"11\": 10}, \"27\": {\"27\": 10}, \"19\": {\"19\": 12}, \"55\": {\"55\": 11, \"19\": 1}, \"16\": {\"16\": 12}, \"2\": {\"2\": 10}, \"52\": {\"52\": 10}, \"42\": {\"42\": 10}, \"26\": {\"26\": 12}, \"10\": {\"10\": 12}, \"53\": {\"53\": 10}, \"28\": {\"28\": 12}, \"21\": {\"21\": 10}, \"57\": {\"57\": 10}, \"23\": {\"23\": 8}, \"43\": {\"43\": 10}, \"12\": {\"12\": 12}, \"41\": {\"41\": 12}, \"56\": {\"56\": 8}, \"18\": {\"18\": 9, \"23\": 1}, \"29\": {\"29\": 8}}, \"CORES_5\": {\"47\": {\"47\": 10}, \"53\": {\"53\": 12}, \"29\": {\"29\": 12}, \"52\": {\"52\": 12}, \"55\": {\"55\": 12}, \"17\": {\"17\": 12}, \"42\": {\"42\": 12}, \"33\": {\"33\": 10}, \"11\": {\"11\": 12}, \"19\": {\"19\": 8}, \"1\": {\"1\": 12}, \"44\": {\"44\": 12}, \"49\": {\"49\": 12}, \"4\": {\"4\": 12}, \"6\": {\"6\": 11, \"50\": 1}, \"39\": {\"39\": 12}, \"13\": {\"13\": 12}, \"5\": {\"5\": 10}, \"16\": {\"16\": 10}, \"25\": {\"25\": 12}, \"45\": {\"45\": 11, \"4\": 1}, \"7\": {\"7\": 10}, \"22\": {\"22\": 12}, \"40\": {\"40\": 12}, \"38\": {\"38\": 12}, \"35\": {\"35\": 8}, \"56\": {\"56\": 12}, \"50\": {\"50\": 10}, \"0\": {\"0\": 12}, \"10\": {\"10\": 12}, \"27\": {\"27\": 12}, \"20\": {\"20\": 10}, \"36\": {\"36\": 8}, \"34\": {\"34\": 12}, \"30\": {\"30\": 12}, \"2\": {\"2\": 10}, \"15\": {\"15\": 10, \"11\": 2}, \"18\": {\"18\": 12}, \"32\": {\"32\": 12}, \"31\": {\"31\": 12}, \"57\": {\"57\": 12}, \"48\": {\"48\": 8}, \"28\": {\"28\": 10}, \"14\": {\"14\": 12}, \"3\": {\"3\": 11, \"47\": 1}, \"8\": {\"8\": 12}, \"9\": {\"9\": 12}, \"21\": {\"21\": 10}, \"41\": {\"41\": 12}, \"24\": {\"24\": 12}, \"46\": {\"46\": 10}, \"43\": {\"43\": 10}, \"54\": {\"54\": 10}, \"23\": {\"23\": 10}, \"37\": {\"37\": 10}, \"12\": {\"12\": 10}, \"26\": {\"26\": 10}, \"51\": {\"51\": 6}}, \"CORES_1\": {\"46\": {\"46\": 12}, \"16\": {\"16\": 12}, \"26\": {\"26\": 12}, \"10\": {\"10\": 10, \"22\": 1, \"24\": 1}, \"9\": {\"9\": 10}, \"28\": {\"28\": 12}, \"51\": {\"51\": 12}, \"1\": {\"1\": 10, \"57\": 1, \"56\": 1}, \"55\": {\"55\": 12}, \"27\": {\"27\": 10}, \"22\": {\"22\": 11, \"11\": 1}, \"52\": {\"52\": 12}, \"3\": {\"3\": 12}, \"33\": {\"33\": 8}, \"47\": {\"47\": 12}, \"42\": {\"42\": 12}, \"12\": {\"12\": 4}, \"23\": {\"23\": 12}, \"49\": {\"49\": 10}, \"7\": {\"7\": 12}, \"4\": {\"4\": 12}, \"50\": {\"50\": 12}, \"19\": {\"19\": 12}, \"11\": {\"11\": 11, \"22\": 1}, \"31\": {\"31\": 10}, \"41\": {\"41\": 12}, \"56\": {\"56\": 10}, \"0\": {\"0\": 12}, \"57\": {\"57\": 11, \"1\": 1}, \"53\": {\"53\": 12}, \"43\": {\"43\": 12}, \"37\": {\"37\": 12}, \"2\": {\"2\": 8}, \"6\": {\"6\": 12}, \"18\": {\"18\": 12}, \"38\": {\"38\": 12}, \"15\": {\"15\": 12}, \"36\": {\"36\": 12}, \"39\": {\"39\": 8}, \"44\": {\"44\": 12}, \"8\": {\"8\": 12}, \"17\": {\"17\": 10}, \"5\": {\"5\": 12}, \"13\": {\"13\": 10}, \"40\": {\"40\": 10}, \"29\": {\"29\": 12}, \"48\": {\"48\": 12}, \"32\": {\"32\": 12}, \"30\": {\"30\": 12}, \"35\": {\"35\": 12}, \"25\": {\"25\": 12}, \"14\": {\"14\": 12}, \"54\": {\"54\": 10}, \"20\": {\"20\": 8}, \"21\": {\"21\": 10}, \"45\": {\"45\": 8}, \"24\": {\"24\": 8}, \"34\": {\"34\": 8}}, \"CORES_2\": {\"14\": {\"14\": 11, \"31\": 1}, \"22\": {\"22\": 12}, \"9\": {\"9\": 12}, \"47\": {\"47\": 12}, \"13\": {\"13\": 11, \"24\": 1}, \"8\": {\"8\": 12}, \"7\": {\"7\": 12}, \"49\": {\"49\": 12}, \"20\": {\"20\": 12}, \"16\": {\"16\": 12}, \"34\": {\"34\": 12}, \"56\": {\"56\": 12}, \"38\": {\"38\": 10}, \"4\": {\"4\": 12}, \"43\": {\"43\": 10}, \"26\": {\"26\": 9, \"27\": 1}, \"35\": {\"35\": 12}, \"31\": {\"31\": 12}, \"1\": {\"1\": 11, \"42\": 1}, \"39\": {\"39\": 12}, \"5\": {\"5\": 12}, \"24\": {\"24\": 12}, \"54\": {\"54\": 10}, \"23\": {\"23\": 12}, \"51\": {\"51\": 12}, \"27\": {\"27\": 10}, \"15\": {\"15\": 12}, \"0\": {\"0\": 12}, \"19\": {\"19\": 10}, \"18\": {\"18\": 8}, \"30\": {\"30\": 12}, \"55\": {\"55\": 10}, \"57\": {\"57\": 12}, \"2\": {\"2\": 10, \"23\": 2}, \"12\": {\"12\": 8}, \"41\": {\"41\": 12}, \"42\": {\"42\": 12}, \"48\": {\"48\": 12}, \"37\": {\"37\": 12}, \"6\": {\"6\": 10}, \"11\": {\"11\": 10}, \"45\": {\"45\": 8}, \"21\": {\"21\": 12}, \"46\": {\"46\": 8, \"11\": 1, \"15\": 1}, \"25\": {\"25\": 12}, \"36\": {\"36\": 10}, \"53\": {\"53\": 12}, \"28\": {\"28\": 12}, \"40\": {\"40\": 10}, \"33\": {\"33\": 10}, \"44\": {\"44\": 10}, \"3\": {\"3\": 12}, \"17\": {\"17\": 12}, \"32\": {\"32\": 10}, \"10\": {\"10\": 10}, \"52\": {\"52\": 10}, \"50\": {\"50\": 8}, \"29\": {\"29\": 6}}, \"ORACLE.run1_14\": {\"15\": {\"15\": 86, \"5\": 21, \"7\": 110, \"1\": 15, \"2\": 1, \"6\": 2, \"4\": 4, \"8\": 1}, \"3\": {\"6\": 19, \"13\": 26, \"14\": 24, \"2\": 24, \"1\": 13, \"10\": 18, \"5\": 10, \"4\": 24, \"3\": 52, \"0\": 23, \"8\": 6, \"11\": 1}, \"6\": {\"13\": 46, \"11\": 2, \"5\": 14, \"2\": 35, \"6\": 55, \"14\": 43, \"0\": 6, \"4\": 14, \"3\": 16, \"10\": 8, \"1\": 1}, \"1\": {\"2\": 17, \"15\": 20, \"1\": 75, \"4\": 30, \"5\": 61, \"8\": 19, \"3\": 8, \"7\": 8, \"6\": 1, \"13\": 1}, \"8\": {\"8\": 141, \"1\": 26, \"4\": 25, \"5\": 14, \"3\": 20, \"0\": 10, \"2\": 2, \"7\": 1, \"10\": 1}, \"10\": {\"6\": 8, \"11\": 37, \"0\": 57, \"10\": 69, \"14\": 29, \"4\": 3, \"9\": 15, \"3\": 8, \"13\": 10, \"12\": 3, \"2\": 1}, \"9\": {\"9\": 111, \"11\": 43, \"0\": 31, \"13\": 2, \"12\": 35, \"3\": 2, \"10\": 13, \"8\": 3}, \"13\": {\"13\": 31, \"0\": 19, \"3\": 35, \"6\": 34, \"8\": 1, \"4\": 13, \"14\": 41, \"5\": 9, \"10\": 14, \"2\": 29, \"1\": 6, \"9\": 4, \"11\": 2, \"15\": 1, \"7\": 1}, \"12\": {\"9\": 43, \"12\": 174, \"11\": 21, \"0\": 1, \"10\": 1}, \"5\": {\"5\": 52, \"2\": 19, \"6\": 4, \"1\": 58, \"3\": 17, \"4\": 49, \"7\": 11, \"15\": 13, \"14\": 5, \"8\": 4, \"13\": 7, \"0\": 1}, \"0\": {\"10\": 48, \"13\": 17, \"11\": 32, \"3\": 29, \"0\": 60, \"4\": 7, \"12\": 2, \"14\": 15, \"9\": 16, \"1\": 1, \"6\": 5, \"2\": 3, \"5\": 1, \"8\": 4}, \"2\": {\"14\": 26, \"4\": 24, \"2\": 52, \"1\": 10, \"5\": 39, \"6\": 18, \"13\": 28, \"15\": 3, \"0\": 8, \"10\": 7, \"7\": 3, \"3\": 22}, \"11\": {\"10\": 42, \"9\": 41, \"11\": 97, \"14\": 4, \"12\": 27, \"0\": 26, \"6\": 1, \"13\": 2}, \"14\": {\"13\": 41, \"10\": 25, \"0\": 15, \"2\": 23, \"6\": 47, \"14\": 55, \"3\": 22, \"5\": 2, \"4\": 5, \"11\": 5}, \"7\": {\"2\": 1, \"15\": 108, \"5\": 11, \"1\": 23, \"7\": 96, \"4\": 1}, \"4\": {\"1\": 41, \"5\": 51, \"4\": 40, \"14\": 6, \"3\": 35, \"15\": 1, \"2\": 29, \"13\": 11, \"0\": 9, \"6\": 6, \"9\": 1, \"8\": 9, \"10\": 1}}, \"ORACLE.run1_20\": {\"3\": {\"0\": 18, \"5\": 26, \"4\": 10, \"6\": 12, \"3\": 18, \"1\": 16, \"13\": 12, \"10\": 9, \"9\": 23, \"14\": 8, \"12\": 24, \"8\": 17, \"15\": 15, \"7\": 13, \"2\": 19}, \"15\": {\"9\": 26, \"15\": 38, \"4\": 5, \"7\": 11, \"2\": 19, \"0\": 28, \"3\": 15, \"13\": 19, \"1\": 20, \"5\": 27, \"8\": 6, \"14\": 3, \"12\": 20, \"10\": 1, \"6\": 2}, \"8\": {\"4\": 29, \"8\": 29, \"15\": 9, \"3\": 21, \"6\": 15, \"9\": 18, \"14\": 22, \"10\": 24, \"12\": 13, \"0\": 5, \"1\": 6, \"2\": 14, \"7\": 19, \"5\": 13, \"13\": 3}, \"4\": {\"14\": 24, \"4\": 42, \"15\": 11, \"0\": 17, \"9\": 6, \"12\": 20, \"5\": 22, \"8\": 20, \"10\": 25, \"1\": 16, \"7\": 5, \"3\": 24, \"2\": 3, \"6\": 5}, \"14\": {\"2\": 11, \"5\": 6, \"13\": 3, \"10\": 37, \"4\": 23, \"6\": 42, \"0\": 2, \"7\": 7, \"14\": 54, \"8\": 30, \"3\": 14, \"1\": 2, \"9\": 7, \"12\": 2}, \"0\": {\"5\": 33, \"15\": 26, \"10\": 4, \"1\": 26, \"2\": 18, \"9\": 17, \"12\": 17, \"13\": 10, \"8\": 8, \"0\": 21, \"3\": 24, \"7\": 14, \"4\": 19, \"14\": 1, \"6\": 2}, \"7\": {\"5\": 14, \"1\": 9, \"3\": 16, \"6\": 23, \"13\": 31, \"9\": 23, \"14\": 9, \"7\": 22, \"15\": 11, \"2\": 32, \"11\": 3, \"12\": 15, \"0\": 5, \"4\": 9, \"8\": 15, \"10\": 3}, \"6\": {\"2\": 15, \"13\": 19, \"6\": 74, \"12\": 6, \"8\": 18, \"9\": 16, \"14\": 26, \"7\": 28, \"11\": 8, \"0\": 3, \"10\": 13, \"4\": 3, \"15\": 2, \"3\": 6, \"5\": 2, \"1\": 1}, \"10\": {\"14\": 48, \"4\": 34, \"8\": 29, \"2\": 7, \"10\": 45, \"0\": 8, \"6\": 8, \"12\": 11, \"7\": 11, \"3\": 10, \"5\": 13, \"1\": 6, \"9\": 3, \"15\": 5, \"13\": 2}, \"5\": {\"3\": 23, \"0\": 36, \"4\": 17, \"5\": 34, \"12\": 20, \"14\": 3, \"10\": 12, \"1\": 29, \"15\": 18, \"7\": 6, \"8\": 13, \"9\": 12, \"13\": 9, \"2\": 5, \"6\": 3}, \"2\": {\"13\": 31, \"3\": 19, \"7\": 21, \"1\": 16, \"6\": 18, \"14\": 2, \"2\": 31, \"9\": 22, \"15\": 21, \"12\": 17, \"8\": 11, \"0\": 9, \"11\": 4, \"5\": 9, \"4\": 7, \"10\": 2}, \"12\": {\"8\": 18, \"1\": 24, \"15\": 20, \"3\": 21, \"9\": 19, \"10\": 4, \"2\": 19, \"0\": 21, \"5\": 18, \"12\": 23, \"7\": 19, \"4\": 11, \"14\": 7, \"6\": 5, \"13\": 11}, \"9\": {\"12\": 15, \"9\": 18, \"15\": 24, \"6\": 13, \"14\": 4, \"7\": 26, \"13\": 34, \"2\": 25, \"1\": 18, \"3\": 17, \"10\": 4, \"4\": 8, \"5\": 13, \"0\": 12, \"8\": 8, \"11\": 1}, \"1\": {\"13\": 10, \"9\": 12, \"7\": 6, \"15\": 26, \"5\": 30, \"1\": 33, \"3\": 18, \"12\": 34, \"4\": 11, \"8\": 7, \"0\": 36, \"2\": 12, \"6\": 2, \"14\": 2, \"10\": 1}, \"11\": {\"11\": 205, \"13\": 18, \"6\": 7, \"2\": 4, \"7\": 3, \"14\": 1, \"9\": 2}, \"13\": {\"2\": 29, \"6\": 14, \"9\": 29, \"13\": 51, \"15\": 16, \"11\": 14, \"7\": 29, \"1\": 18, \"0\": 9, \"5\": 8, \"12\": 12, \"4\": 2, \"3\": 3, \"8\": 5, \"10\": 1}}, \"ORACLE.run1_38\": {\"5\": {\"10\": 9, \"13\": 7, \"0\": 30, \"5\": 41, \"8\": 32, \"1\": 37, \"7\": 31, \"6\": 24, \"9\": 5, \"15\": 20, \"3\": 4}, \"8\": {\"0\": 34, \"13\": 13, \"8\": 42, \"7\": 43, \"1\": 15, \"15\": 42, \"6\": 5, \"10\": 15, \"5\": 30, \"12\": 1}, \"11\": {\"11\": 109, \"14\": 97, \"12\": 11, \"10\": 5, \"4\": 8, \"2\": 8, \"13\": 2}, \"1\": {\"0\": 22, \"1\": 108, \"15\": 29, \"6\": 12, \"5\": 31, \"8\": 13, \"13\": 17, \"9\": 5, \"7\": 3}, \"10\": {\"13\": 29, \"7\": 11, \"8\": 19, \"10\": 83, \"12\": 17, \"4\": 4, \"0\": 5, \"2\": 21, \"15\": 28, \"11\": 7, \"5\": 4, \"14\": 10, \"1\": 2}, \"15\": {\"10\": 25, \"1\": 27, \"8\": 26, \"15\": 70, \"13\": 51, \"0\": 9, \"9\": 1, \"6\": 2, \"7\": 3, \"5\": 14, \"2\": 12}, \"3\": {\"9\": 67, \"5\": 4, \"3\": 102, \"6\": 52, \"0\": 4, \"1\": 4, \"7\": 6, \"8\": 1}, \"7\": {\"6\": 8, \"8\": 45, \"7\": 69, \"5\": 44, \"0\": 43, \"15\": 15, \"9\": 2, \"12\": 1, \"10\": 7, \"1\": 4, \"13\": 2}, \"4\": {\"12\": 88, \"4\": 130, \"14\": 4, \"7\": 1, \"10\": 11, \"11\": 5, \"15\": 1}, \"14\": {\"11\": 56, \"2\": 27, \"14\": 115, \"12\": 28, \"4\": 4, \"10\": 9, \"13\": 1}, \"9\": {\"9\": 91, \"3\": 59, \"6\": 69, \"5\": 8, \"0\": 7, \"1\": 6}, \"12\": {\"4\": 60, \"12\": 117, \"10\": 22, \"14\": 23, \"11\": 10, \"2\": 7, \"13\": 1}, \"6\": {\"9\": 83, \"6\": 102, \"5\": 12, \"3\": 24, \"1\": 15, \"0\": 2, \"7\": 1, \"8\": 1}, \"2\": {\"13\": 19, \"2\": 131, \"10\": 35, \"11\": 13, \"14\": 27, \"1\": 2, \"15\": 10, \"12\": 3}, \"0\": {\"10\": 9, \"0\": 42, \"8\": 38, \"7\": 35, \"9\": 8, \"1\": 21, \"5\": 38, \"6\": 21, \"13\": 10, \"14\": 1, \"3\": 5, \"15\": 11, \"2\": 1}, \"13\": {\"13\": 82, \"1\": 29, \"2\": 18, \"15\": 51, \"10\": 22, \"8\": 19, \"5\": 8, \"0\": 6, \"14\": 2, \"7\": 2, \"3\": 1}}, \"ORACLE.run1_8\": {\"9\": {\"9\": 195, \"5\": 11, \"4\": 2, \"10\": 11, \"0\": 8, \"14\": 11, \"13\": 1, \"7\": 1}, \"10\": {\"1\": 20, \"10\": 45, \"4\": 31, \"13\": 21, \"14\": 41, \"5\": 22, \"0\": 7, \"6\": 25, \"7\": 7, \"15\": 4, \"11\": 14, \"8\": 2, \"9\": 1}, \"13\": {\"4\": 27, \"1\": 7, \"0\": 33, \"13\": 35, \"7\": 22, \"6\": 31, \"2\": 3, \"15\": 6, \"8\": 3, \"10\": 25, \"5\": 7, \"14\": 33, \"12\": 3, \"3\": 3, \"11\": 2}, \"0\": {\"4\": 23, \"7\": 48, \"2\": 17, \"13\": 33, \"0\": 52, \"10\": 14, \"3\": 6, \"14\": 20, \"6\": 18, \"15\": 3, \"12\": 4, \"5\": 1, \"8\": 1}, \"1\": {\"14\": 17, \"5\": 49, \"1\": 70, \"11\": 59, \"4\": 7, \"10\": 12, \"8\": 17, \"13\": 5, \"6\": 1, \"7\": 1, \"15\": 1, \"12\": 1}, \"15\": {\"15\": 59, \"6\": 20, \"4\": 16, \"7\": 20, \"2\": 7, \"14\": 5, \"12\": 53, \"8\": 31, \"13\": 10, \"3\": 9, \"1\": 3, \"0\": 5, \"11\": 2}, \"5\": {\"11\": 42, \"5\": 69, \"1\": 62, \"8\": 2, \"14\": 20, \"4\": 8, \"13\": 3, \"10\": 21, \"6\": 2, \"9\": 9, \"7\": 1, \"0\": 1}, \"3\": {\"0\": 9, \"15\": 21, \"2\": 66, \"12\": 24, \"3\": 80, \"7\": 26, \"6\": 3, \"8\": 3, \"4\": 2, \"14\": 1, \"13\": 4, \"10\": 1}, \"6\": {\"0\": 25, \"10\": 18, \"13\": 36, \"5\": 3, \"12\": 12, \"4\": 26, \"7\": 31, \"6\": 30, \"1\": 3, \"14\": 20, \"15\": 15, \"3\": 4, \"8\": 12, \"11\": 3, \"2\": 2}, \"11\": {\"14\": 17, \"1\": 68, \"13\": 2, \"8\": 12, \"11\": 70, \"15\": 5, \"4\": 13, \"5\": 44, \"10\": 8, \"6\": 1}, \"8\": {\"12\": 19, \"8\": 69, \"15\": 35, \"10\": 10, \"4\": 14, \"11\": 18, \"1\": 20, \"5\": 4, \"6\": 18, \"7\": 5, \"2\": 1, \"13\": 9, \"14\": 15, \"0\": 2, \"3\": 1}, \"4\": {\"10\": 32, \"14\": 26, \"13\": 36, \"0\": 18, \"7\": 23, \"8\": 12, \"1\": 7, \"5\": 9, \"4\": 31, \"6\": 25, \"11\": 8, \"3\": 1, \"15\": 9, \"12\": 3}, \"12\": {\"7\": 19, \"12\": 62, \"8\": 29, \"6\": 12, \"15\": 46, \"4\": 6, \"3\": 40, \"14\": 4, \"2\": 13, \"0\": 2, \"13\": 5, \"11\": 1, \"10\": 1}, \"14\": {\"8\": 8, \"6\": 13, \"1\": 14, \"0\": 7, \"10\": 31, \"14\": 47, \"5\": 27, \"4\": 39, \"13\": 32, \"3\": 1, \"15\": 5, \"7\": 6, \"11\": 9, \"12\": 1}, \"2\": {\"3\": 78, \"7\": 27, \"0\": 17, \"12\": 12, \"2\": 84, \"13\": 3, \"6\": 9, \"4\": 3, \"15\": 7}, \"7\": {\"12\": 15, \"7\": 52, \"13\": 25, \"10\": 9, \"0\": 30, \"6\": 34, \"15\": 11, \"4\": 18, \"2\": 16, \"14\": 8, \"8\": 10, \"3\": 12}}, \"ORACLE.run1_50\": {\"7\": {\"7\": 47, \"10\": 38, \"5\": 42, \"13\": 50, \"8\": 32, \"0\": 6, \"4\": 8, \"3\": 5, \"1\": 2, \"6\": 10}, \"3\": {\"3\": 207, \"8\": 28, \"10\": 1, \"7\": 3, \"13\": 1}, \"8\": {\"8\": 128, \"10\": 47, \"13\": 11, \"3\": 22, \"7\": 26, \"0\": 1, \"5\": 5}, \"2\": {\"2\": 149, \"9\": 1, \"0\": 41, \"11\": 8, \"14\": 10, \"1\": 13, \"15\": 3, \"4\": 4, \"10\": 3, \"6\": 8}, \"14\": {\"11\": 49, \"15\": 8, \"2\": 10, \"9\": 50, \"14\": 98, \"12\": 21, \"4\": 2, \"1\": 2}, \"4\": {\"15\": 31, \"1\": 44, \"2\": 3, \"4\": 45, \"5\": 27, \"0\": 14, \"7\": 11, \"6\": 37, \"13\": 14, \"10\": 6, \"11\": 6, \"3\": 1, \"8\": 1}, \"6\": {\"14\": 1, \"15\": 27, \"5\": 28, \"4\": 42, \"6\": 43, \"2\": 5, \"1\": 34, \"13\": 14, \"0\": 23, \"7\": 12, \"10\": 11}, \"15\": {\"15\": 67, \"1\": 49, \"6\": 26, \"14\": 5, \"11\": 29, \"2\": 7, \"4\": 43, \"13\": 2, \"0\": 6, \"5\": 3, \"9\": 2, \"10\": 1}, \"10\": {\"8\": 30, \"10\": 74, \"6\": 2, \"0\": 26, \"13\": 31, \"7\": 34, \"5\": 36, \"2\": 2, \"4\": 4, \"1\": 1}, \"11\": {\"1\": 8, \"9\": 44, \"11\": 87, \"2\": 7, \"15\": 28, \"6\": 3, \"14\": 51, \"4\": 7, \"0\": 1, \"12\": 4}, \"13\": {\"7\": 51, \"0\": 8, \"13\": 48, \"5\": 43, \"6\": 30, \"4\": 17, \"10\": 31, \"8\": 8, \"1\": 2, \"15\": 2}, \"9\": {\"9\": 78, \"11\": 52, \"15\": 5, \"12\": 54, \"14\": 47, \"1\": 2, \"2\": 1, \"6\": 1}, \"0\": {\"2\": 42, \"0\": 87, \"6\": 20, \"4\": 11, \"1\": 28, \"7\": 4, \"10\": 24, \"15\": 6, \"5\": 4, \"13\": 14}, \"1\": {\"4\": 43, \"1\": 56, \"6\": 36, \"14\": 4, \"15\": 46, \"0\": 14, \"2\": 15, \"11\": 9, \"5\": 5, \"13\": 10, \"10\": 2}, \"12\": {\"11\": 6, \"12\": 138, \"14\": 35, \"9\": 61}, \"5\": {\"13\": 38, \"2\": 2, \"7\": 53, \"10\": 17, \"5\": 37, \"8\": 11, \"6\": 25, \"4\": 25, \"1\": 14, \"0\": 6, \"15\": 10, \"3\": 2}}, \"ORACLE.run1_32\": {\"8\": {\"4\": 27, \"5\": 27, \"8\": 51, \"3\": 13, \"13\": 39, \"15\": 14, \"0\": 41, \"7\": 8, \"2\": 15, \"11\": 1, \"14\": 4}, \"14\": {\"11\": 64, \"7\": 33, \"8\": 5, \"14\": 64, \"4\": 13, \"2\": 13, \"3\": 13, \"0\": 11, \"5\": 17, \"13\": 7}, \"2\": {\"0\": 40, \"5\": 15, \"4\": 51, \"2\": 69, \"14\": 5, \"7\": 25, \"13\": 15, \"8\": 11, \"9\": 5, \"11\": 4}, \"0\": {\"13\": 21, \"5\": 20, \"0\": 56, \"4\": 40, \"9\": 6, \"2\": 38, \"7\": 16, \"8\": 31, \"11\": 3, \"14\": 5, \"3\": 2, \"15\": 2}, \"1\": {\"1\": 184, \"10\": 56}, \"10\": {\"10\": 178, \"1\": 61, \"6\": 1}, \"11\": {\"11\": 110, \"4\": 6, \"7\": 32, \"3\": 10, \"14\": 61, \"5\": 17, \"2\": 2, \"13\": 2}, \"5\": {\"14\": 16, \"3\": 23, \"11\": 22, \"13\": 24, \"5\": 31, \"4\": 26, \"7\": 42, \"0\": 15, \"2\": 16, \"8\": 25}, \"15\": {\"15\": 197, \"8\": 27, \"3\": 3, \"4\": 1, \"0\": 4, \"9\": 2, \"5\": 2, \"13\": 4}, \"3\": {\"7\": 16, \"3\": 96, \"13\": 39, \"11\": 23, \"4\": 4, \"14\": 14, \"5\": 30, \"0\": 3, \"8\": 12, \"15\": 3}, \"12\": {\"12\": 207, \"6\": 24, \"9\": 8, \"10\": 1}, \"7\": {\"14\": 42, \"5\": 36, \"11\": 44, \"13\": 17, \"0\": 9, \"7\": 38, \"2\": 19, \"4\": 25, \"3\": 6, \"8\": 4}, \"13\": {\"13\": 59, \"14\": 8, \"8\": 41, \"7\": 7, \"4\": 28, \"5\": 28, \"3\": 32, \"0\": 20, \"11\": 8, \"2\": 8, \"15\": 1}, \"6\": {\"6\": 215, \"12\": 25}, \"4\": {\"8\": 31, \"0\": 42, \"2\": 36, \"13\": 25, \"5\": 28, \"4\": 40, \"14\": 9, \"7\": 24, \"3\": 2, \"11\": 3}, \"9\": {\"9\": 216, \"6\": 2, \"12\": 11, \"2\": 3, \"8\": 1, \"0\": 6, \"15\": 1}}, \"ORACLE.run1_26\": {\"4\": {\"4\": 40, \"0\": 28, \"10\": 27, \"14\": 31, \"15\": 12, \"6\": 9, \"2\": 4, \"9\": 2, \"8\": 19, \"7\": 18, \"13\": 2, \"1\": 35, \"5\": 1, \"12\": 3, \"3\": 9}, \"12\": {\"12\": 145, \"11\": 60, \"14\": 6, \"10\": 7, \"1\": 4, \"6\": 7, \"8\": 3, \"9\": 1, \"0\": 3, \"4\": 4}, \"10\": {\"4\": 28, \"14\": 22, \"5\": 3, \"15\": 9, \"1\": 34, \"0\": 32, \"13\": 3, \"8\": 28, \"7\": 19, \"9\": 10, \"6\": 19, \"10\": 18, \"3\": 4, \"11\": 1, \"2\": 6, \"12\": 4}, \"0\": {\"14\": 24, \"4\": 30, \"10\": 27, \"8\": 24, \"15\": 13, \"0\": 31, \"7\": 19, \"1\": 31, \"6\": 16, \"9\": 9, \"5\": 2, \"2\": 5, \"3\": 4, \"12\": 4, \"11\": 1}, \"13\": {\"5\": 36, \"3\": 23, \"13\": 53, \"4\": 2, \"7\": 10, \"15\": 28, \"11\": 4, \"9\": 36, \"2\": 17, \"10\": 6, \"0\": 5, \"6\": 12, \"8\": 6, \"1\": 1, \"14\": 1}, \"9\": {\"5\": 23, \"15\": 31, \"6\": 25, \"7\": 11, \"13\": 37, \"0\": 10, \"9\": 40, \"2\": 17, \"8\": 14, \"4\": 5, \"1\": 2, \"10\": 9, \"11\": 2, \"3\": 12, \"14\": 1, \"12\": 1}, \"3\": {\"8\": 9, \"3\": 54, \"7\": 31, \"15\": 27, \"4\": 7, \"6\": 5, \"5\": 18, \"2\": 55, \"1\": 6, \"13\": 10, \"9\": 14, \"0\": 1, \"10\": 2, \"14\": 1}, \"2\": {\"15\": 31, \"3\": 45, \"2\": 47, \"7\": 30, \"8\": 8, \"1\": 3, \"6\": 5, \"9\": 18, \"0\": 3, \"5\": 26, \"13\": 16, \"14\": 2, \"10\": 4, \"4\": 2}, \"5\": {\"13\": 40, \"7\": 11, \"2\": 42, \"6\": 9, \"5\": 36, \"3\": 29, \"15\": 28, \"9\": 31, \"8\": 7, \"4\": 2, \"10\": 4, \"1\": 1}, \"14\": {\"14\": 41, \"0\": 33, \"4\": 35, \"1\": 38, \"6\": 17, \"8\": 27, \"10\": 19, \"15\": 9, \"7\": 10, \"3\": 1, \"9\": 6, \"12\": 2, \"5\": 1, \"2\": 1}, \"8\": {\"14\": 24, \"0\": 30, \"1\": 20, \"9\": 10, \"8\": 26, \"4\": 29, \"2\": 9, \"10\": 18, \"7\": 16, \"3\": 10, \"5\": 9, \"6\": 21, \"15\": 15, \"11\": 1, \"13\": 2}, \"7\": {\"6\": 15, \"0\": 14, \"1\": 11, \"13\": 3, \"3\": 31, \"15\": 22, \"2\": 32, \"10\": 12, \"8\": 26, \"4\": 15, \"5\": 6, \"7\": 33, \"14\": 4, \"9\": 16}, \"6\": {\"11\": 8, \"15\": 28, \"5\": 6, \"6\": 43, \"14\": 16, \"4\": 16, \"7\": 8, \"2\": 7, \"9\": 12, \"0\": 20, \"8\": 27, \"10\": 21, \"1\": 14, \"13\": 5, \"3\": 5, \"12\": 4}, \"11\": {\"11\": 147, \"12\": 55, \"10\": 10, \"0\": 1, \"6\": 10, \"9\": 7, \"8\": 2, \"13\": 3, \"14\": 1, \"5\": 1, \"1\": 2, \"15\": 1}, \"15\": {\"8\": 22, \"5\": 26, \"2\": 25, \"10\": 15, \"6\": 15, \"3\": 18, \"4\": 7, \"15\": 28, \"7\": 20, \"9\": 24, \"13\": 28, \"1\": 6, \"14\": 3, \"0\": 3}, \"1\": {\"1\": 40, \"14\": 42, \"4\": 27, \"10\": 27, \"0\": 28, \"7\": 12, \"6\": 14, \"15\": 6, \"8\": 25, \"5\": 1, \"2\": 2, \"12\": 5, \"3\": 3, \"9\": 8}}, \"ORACLE.run1_44\": {\"12\": {\"12\": 91, \"3\": 35, \"1\": 54, \"10\": 51, \"2\": 8, \"7\": 1}, \"7\": {\"7\": 82, \"2\": 58, \"9\": 51, \"13\": 7, \"10\": 7, \"3\": 9, \"6\": 17, \"1\": 7, \"11\": 2}, \"5\": {\"5\": 123, \"8\": 28, \"0\": 44, \"14\": 28, \"15\": 7, \"13\": 1, \"4\": 9}, \"15\": {\"0\": 39, \"14\": 42, \"5\": 10, \"8\": 31, \"15\": 93, \"4\": 24, \"9\": 1}, \"8\": {\"0\": 72, \"8\": 75, \"4\": 5, \"15\": 45, \"5\": 36, \"14\": 7}, \"2\": {\"1\": 13, \"2\": 98, \"10\": 35, \"3\": 14, \"6\": 3, \"12\": 7, \"7\": 49, \"9\": 18, \"13\": 3}, \"13\": {\"6\": 61, \"9\": 42, \"11\": 35, \"13\": 75, \"4\": 10, \"5\": 2, \"14\": 8, \"7\": 6, \"2\": 1}, \"4\": {\"4\": 69, \"5\": 17, \"14\": 72, \"13\": 9, \"9\": 16, \"15\": 24, \"6\": 1, \"0\": 14, \"7\": 4, \"11\": 7, \"8\": 7}, \"0\": {\"0\": 79, \"8\": 64, \"15\": 37, \"5\": 33, \"14\": 23, \"4\": 4}, \"6\": {\"7\": 29, \"9\": 38, \"13\": 51, \"6\": 92, \"11\": 24, \"2\": 3, \"4\": 3}, \"9\": {\"9\": 77, \"2\": 16, \"11\": 3, \"6\": 43, \"7\": 58, \"13\": 29, \"14\": 2, \"4\": 9, \"15\": 1, \"3\": 2}, \"11\": {\"6\": 35, \"11\": 125, \"9\": 8, \"4\": 12, \"13\": 52, \"5\": 5, \"14\": 3}, \"10\": {\"12\": 60, \"2\": 31, \"10\": 64, \"3\": 31, \"7\": 9, \"1\": 43, \"9\": 2}, \"14\": {\"5\": 26, \"14\": 66, \"4\": 56, \"8\": 11, \"15\": 43, \"0\": 25, \"6\": 1, \"11\": 2, \"9\": 6, \"13\": 4}, \"1\": {\"1\": 55, \"12\": 58, \"10\": 46, \"3\": 50, \"2\": 25, \"9\": 1, \"7\": 5}, \"3\": {\"12\": 50, \"2\": 17, \"3\": 86, \"1\": 64, \"7\": 7, \"9\": 2, \"10\": 14}}}, \"per_domain_accuracy\": {\"CORES_3\": {\"accuracy\": 0.9890625, \"source?\": true}, \"CORES_4\": {\"accuracy\": 0.98125, \"source?\": true}, \"CORES_5\": {\"accuracy\": 0.9921875, \"source?\": true}, \"CORES_1\": {\"accuracy\": 0.9890625, \"source?\": true}, \"CORES_2\": {\"accuracy\": 0.9875, \"source?\": true}, \"ORACLE.run1_14\": {\"accuracy\": 0.32447916666666665, \"source?\": false}, \"ORACLE.run1_20\": {\"accuracy\": 0.1921875, \"source?\": false}, \"ORACLE.run1_38\": {\"accuracy\": 0.3734375, \"source?\": false}, \"ORACLE.run1_8\": {\"accuracy\": 0.2734375, \"source?\": false}, \"ORACLE.run1_50\": {\"accuracy\": 0.36171875, \"source?\": false}, \"ORACLE.run1_32\": {\"accuracy\": 0.47161458333333334, \"source?\": false}, \"ORACLE.run1_26\": {\"accuracy\": 0.2140625, \"source?\": false}, \"ORACLE.run1_44\": {\"accuracy\": 0.3515625, \"source?\": false}}}, \"history\": {\"epoch_indices\": [1, 2, 3, 4, 5, 6, 7, 8, 9], \"train_label_loss\": [0.14587991611994836, 0.05383295168942766, 0.03555347735279799, 0.034534445864097804, 0.03450696303302484, 0.02960665695624439, 0.011826464571117702, 0.020043968207272365, 0.021365907709162565], \"source_val_label_loss\": [0.02664971724152565, 0.03986513987183571, 0.05058829486370087, 0.014403936453163624, 0.0491606742143631, 0.022420885041356087, 0.031966350972652435, 0.026625940576195717, 0.0113753080368042], \"target_val_label_loss\": [2.4331064224243164, 2.6069509983062744, 2.5097155570983887, 2.488424777984619, 2.0690150260925293, 2.5732171535491943, 2.87733793258667, 3.0061089992523193, 3.7801342010498047], \"source_val_acc_label\": [0.993125, 0.990625, 0.98875, 0.996875, 0.9878125, 0.99625, 0.994375, 0.99625, 0.998125], \"target_val_acc_label\": [0.22356770833333334, 0.22171223958333333, 0.26572265625, 0.31520182291666665, 0.3203125, 0.26227213541666666, 0.2814453125, 0.2767252604166667, 0.23577473958333334]}, \"dataset_metrics\": {\"source\": {\"train\": {\"n_unique_x\": 20298, \"n_unique_y\": 58, \"n_batch/episode\": 734}, \"val\": {\"n_unique_x\": 4332, \"n_unique_y\": 58, \"n_batch/episode\": 100}, \"test\": {\"n_unique_x\": 4332, \"n_unique_y\": 58, \"n_batch/episode\": 100}}, \"target\": {\"train\": {\"n_unique_x\": 179200, \"n_unique_y\": 16, \"n_batch/episode\": 6720}, \"val\": {\"n_unique_x\": 38400, \"n_unique_y\": 16, \"n_batch/episode\": 960}, \"test\": {\"n_unique_x\": 38400, \"n_unique_y\": 16, \"n_batch/episode\": 960}}}}'"
      ]
     },
     "execution_count": 29,
     "metadata": {},
     "output_type": "execute_result"
    }
   ],
   "source": [
    "json.dumps(experiment)"
   ]
  }
 ],
 "metadata": {
  "celltoolbar": "Tags",
  "kernelspec": {
   "display_name": "Python 3 (ipykernel)",
   "language": "python",
   "name": "python3"
  },
  "language_info": {
   "codemirror_mode": {
    "name": "ipython",
    "version": 3
   },
   "file_extension": ".py",
   "mimetype": "text/x-python",
   "name": "python",
   "nbconvert_exporter": "python",
   "pygments_lexer": "ipython3",
   "version": "3.8.10"
  },
  "papermill": {
   "default_parameters": {},
   "duration": 321.631998,
   "end_time": "2022-03-07T08:50:09.253769",
   "environment_variables": {},
   "exception": null,
   "input_path": "/mnt/wd500GB/CSC500/csc500-main/csc500-notebooks/templates/tl_ptn_template.ipynb",
   "output_path": "trial.ipynb",
   "parameters": {
    "parameters": {
     "BEST_MODEL_PATH": "./best_model.pth",
     "NUM_LOGS_PER_EPOCH": 10,
     "criteria_for_best": "target_loss",
     "dataset_seed": 1337,
     "datasets": [
      {
       "domain_prefix": "CORES_",
       "domains": [
        1,
        2,
        3,
        4,
        5
       ],
       "episode_transforms": [],
       "labels": [
        "1-10.",
        "1-11.",
        "1-15.",
        "1-16.",
        "1-17.",
        "1-18.",
        "1-19.",
        "10-4.",
        "10-7.",
        "11-1.",
        "11-14.",
        "11-17.",
        "11-20.",
        "11-7.",
        "13-20.",
        "13-8.",
        "14-10.",
        "14-11.",
        "14-14.",
        "14-7.",
        "15-1.",
        "15-20.",
        "16-1.",
        "16-16.",
        "17-10.",
        "17-11.",
        "17-2.",
        "19-1.",
        "19-16.",
        "19-19.",
        "19-20.",
        "19-3.",
        "2-10.",
        "2-11.",
        "2-17.",
        "2-18.",
        "2-20.",
        "2-3.",
        "2-4.",
        "2-5.",
        "2-6.",
        "2-7.",
        "2-8.",
        "3-13.",
        "3-18.",
        "3-3.",
        "4-1.",
        "4-10.",
        "4-11.",
        "4-19.",
        "5-5.",
        "6-15.",
        "7-10.",
        "7-14.",
        "8-18.",
        "8-20.",
        "8-3.",
        "8-8."
       ],
       "num_examples_per_domain_per_label": 100,
       "pickle_path": "/mnt/wd500GB/CSC500/csc500-main/datasets/cores.stratified_ds.2022A.pkl",
       "source_or_target_dataset": "source",
       "x_transforms": [
        "unit_mag"
       ]
      },
      {
       "domain_prefix": "ORACLE.run1_",
       "domains": [
        32,
        38,
        8,
        44,
        14,
        50,
        20,
        26
       ],
       "episode_transforms": [],
       "labels": [
        "3123D52",
        "3123D65",
        "3123D79",
        "3123D80",
        "3123D54",
        "3123D70",
        "3123D7B",
        "3123D89",
        "3123D58",
        "3123D76",
        "3123D7D",
        "3123EFE",
        "3123D64",
        "3123D78",
        "3123D7E",
        "3124E4A"
       ],
       "num_examples_per_domain_per_label": 2000,
       "pickle_path": "/mnt/wd500GB/CSC500/csc500-main/datasets/oracle.Run1_framed_2000Examples_stratified_ds.2022A.pkl",
       "source_or_target_dataset": "target",
       "x_transforms": [
        "unit_mag"
       ]
      }
     ],
     "device": "cuda",
     "experiment_name": "tl_1_cores-oracle.run1",
     "lr": 0.001,
     "n_epoch": 50,
     "n_query": 2,
     "n_shot": 3,
     "n_way": 16,
     "patience": 3,
     "seed": 1337,
     "test_k_factor": 2,
     "torch_default_dtype": "torch.float32",
     "train_k_factor": 3,
     "val_k_factor": 2,
     "x_net": [
      {
       "class": "nnReshape",
       "kargs": {
        "shape": [
         -1,
         1,
         2,
         256
        ]
       }
      },
      {
       "class": "Conv2d",
       "kargs": {
        "bias": false,
        "in_channels": 1,
        "kernel_size": [
         1,
         7
        ],
        "out_channels": 256,
        "padding": [
         0,
         3
        ]
       }
      },
      {
       "class": "ReLU",
       "kargs": {
        "inplace": true
       }
      },
      {
       "class": "BatchNorm2d",
       "kargs": {
        "num_features": 256
       }
      },
      {
       "class": "Conv2d",
       "kargs": {
        "bias": true,
        "in_channels": 256,
        "kernel_size": [
         2,
         7
        ],
        "out_channels": 80,
        "padding": [
         0,
         3
        ]
       }
      },
      {
       "class": "ReLU",
       "kargs": {
        "inplace": true
       }
      },
      {
       "class": "BatchNorm2d",
       "kargs": {
        "num_features": 80
       }
      },
      {
       "class": "Flatten",
       "kargs": {}
      },
      {
       "class": "Linear",
       "kargs": {
        "in_features": 20480,
        "out_features": 256
       }
      },
      {
       "class": "ReLU",
       "kargs": {
        "inplace": true
       }
      },
      {
       "class": "BatchNorm1d",
       "kargs": {
        "num_features": 256
       }
      },
      {
       "class": "Linear",
       "kargs": {
        "in_features": 256,
        "out_features": 256
       }
      }
     ]
    }
   },
   "start_time": "2022-03-07T08:44:47.621771",
   "version": "2.3.4"
  }
 },
 "nbformat": 4,
 "nbformat_minor": 5
}