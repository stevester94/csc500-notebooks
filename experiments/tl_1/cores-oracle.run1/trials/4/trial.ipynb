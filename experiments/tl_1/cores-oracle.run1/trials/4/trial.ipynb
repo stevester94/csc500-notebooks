{
 "cells": [
  {
   "cell_type": "markdown",
   "id": "9fea5f46",
   "metadata": {
    "papermill": {
     "duration": 0.017533,
     "end_time": "2022-03-07T09:29:25.134456",
     "exception": false,
     "start_time": "2022-03-07T09:29:25.116923",
     "status": "completed"
    },
    "tags": []
   },
   "source": [
    "# Transfer Learning Template"
   ]
  },
  {
   "cell_type": "code",
   "execution_count": 1,
   "id": "0902182a",
   "metadata": {
    "execution": {
     "iopub.execute_input": "2022-03-07T09:29:25.173851Z",
     "iopub.status.busy": "2022-03-07T09:29:25.173335Z",
     "iopub.status.idle": "2022-03-07T09:29:25.915283Z",
     "shell.execute_reply": "2022-03-07T09:29:25.914769Z"
    },
    "papermill": {
     "duration": 0.768767,
     "end_time": "2022-03-07T09:29:25.915404",
     "exception": false,
     "start_time": "2022-03-07T09:29:25.146637",
     "status": "completed"
    },
    "tags": []
   },
   "outputs": [],
   "source": [
    "%load_ext autoreload\n",
    "%autoreload 2\n",
    "%matplotlib inline\n",
    "\n",
    "    \n",
    "import os, json, sys, time, random\n",
    "import numpy as np\n",
    "import torch\n",
    "from torch.optim import Adam\n",
    "from  easydict import EasyDict\n",
    "import matplotlib.pyplot as plt\n",
    "\n",
    "from steves_models.steves_ptn import Steves_Prototypical_Network\n",
    "\n",
    "from steves_utils.lazy_iterable_wrapper import Lazy_Iterable_Wrapper\n",
    "from steves_utils.iterable_aggregator import Iterable_Aggregator\n",
    "from steves_utils.ptn_train_eval_test_jig import  PTN_Train_Eval_Test_Jig\n",
    "from steves_utils.torch_sequential_builder import build_sequential\n",
    "from steves_utils.torch_utils import get_dataset_metrics, ptn_confusion_by_domain_over_dataloader\n",
    "from steves_utils.utils_v2 import (per_domain_accuracy_from_confusion, get_datasets_base_path)\n",
    "from steves_utils.PTN.utils import independent_accuracy_assesment\n",
    "\n",
    "from torch.utils.data import DataLoader\n",
    "\n",
    "from steves_utils.stratified_dataset.episodic_accessor import Episodic_Accessor_Factory\n",
    "\n",
    "from steves_utils.ptn_do_report import (\n",
    "    get_loss_curve,\n",
    "    get_results_table,\n",
    "    get_parameters_table,\n",
    "    get_domain_accuracies,\n",
    ")\n",
    "\n",
    "from steves_utils.transforms import get_chained_transform"
   ]
  },
  {
   "cell_type": "markdown",
   "id": "41c840b4",
   "metadata": {
    "papermill": {
     "duration": 0.012366,
     "end_time": "2022-03-07T09:29:25.944252",
     "exception": false,
     "start_time": "2022-03-07T09:29:25.931886",
     "status": "completed"
    },
    "tags": []
   },
   "source": [
    "# Allowed Parameters\n",
    "These are allowed parameters, not defaults\n",
    "Each of these values need to be present in the injected parameters (the notebook will raise an exception if they are not present)\n",
    "\n",
    "Papermill uses the cell tag \"parameters\" to inject the real parameters below this cell.\n",
    "Enable tags to see what I mean"
   ]
  },
  {
   "cell_type": "code",
   "execution_count": 2,
   "id": "fd44eb83",
   "metadata": {
    "execution": {
     "iopub.execute_input": "2022-03-07T09:29:25.972308Z",
     "iopub.status.busy": "2022-03-07T09:29:25.972049Z",
     "iopub.status.idle": "2022-03-07T09:29:25.984159Z",
     "shell.execute_reply": "2022-03-07T09:29:25.984373Z"
    },
    "papermill": {
     "duration": 0.027984,
     "end_time": "2022-03-07T09:29:25.984496",
     "exception": false,
     "start_time": "2022-03-07T09:29:25.956512",
     "status": "completed"
    },
    "tags": []
   },
   "outputs": [],
   "source": [
    "required_parameters = {\n",
    "    \"experiment_name\",\n",
    "    \"lr\",\n",
    "    \"device\",\n",
    "    \"seed\",\n",
    "    \"dataset_seed\",\n",
    "    \"n_shot\",\n",
    "    \"n_query\",\n",
    "    \"n_way\",\n",
    "    \"train_k_factor\",\n",
    "    \"val_k_factor\",\n",
    "    \"test_k_factor\",\n",
    "    \"n_epoch\",\n",
    "    \"patience\",\n",
    "    \"criteria_for_best\",\n",
    "    \"x_net\",\n",
    "    \"datasets\",\n",
    "    \"torch_default_dtype\",\n",
    "    \"NUM_LOGS_PER_EPOCH\",\n",
    "    \"BEST_MODEL_PATH\",\n",
    "}"
   ]
  },
  {
   "cell_type": "code",
   "execution_count": 3,
   "id": "fa3f0049",
   "metadata": {
    "execution": {
     "iopub.execute_input": "2022-03-07T09:29:26.025461Z",
     "iopub.status.busy": "2022-03-07T09:29:26.024874Z",
     "iopub.status.idle": "2022-03-07T09:29:26.038351Z",
     "shell.execute_reply": "2022-03-07T09:29:26.037942Z"
    },
    "papermill": {
     "duration": 0.036007,
     "end_time": "2022-03-07T09:29:26.038456",
     "exception": false,
     "start_time": "2022-03-07T09:29:26.002449",
     "status": "completed"
    },
    "tags": [
     "parameters"
    ]
   },
   "outputs": [],
   "source": [
    "from steves_utils.CORES.utils import (\n",
    "    ALL_NODES,\n",
    "    ALL_NODES_MINIMUM_1000_EXAMPLES,\n",
    "    ALL_DAYS\n",
    ")\n",
    "\n",
    "from steves_utils.ORACLE.utils_v2 import (\n",
    "    ALL_DISTANCES_FEET_NARROWED,\n",
    "    ALL_RUNS,\n",
    "    ALL_SERIAL_NUMBERS,\n",
    ")\n",
    "\n",
    "standalone_parameters = {}\n",
    "standalone_parameters[\"experiment_name\"] = \"STANDALONE PTN\"\n",
    "standalone_parameters[\"lr\"] = 0.001\n",
    "standalone_parameters[\"device\"] = \"cuda\"\n",
    "\n",
    "standalone_parameters[\"seed\"] = 1337\n",
    "standalone_parameters[\"dataset_seed\"] = 1337\n",
    "\n",
    "standalone_parameters[\"n_way\"] = 8\n",
    "standalone_parameters[\"n_shot\"] = 3\n",
    "standalone_parameters[\"n_query\"]  = 2\n",
    "standalone_parameters[\"train_k_factor\"] = 1\n",
    "standalone_parameters[\"val_k_factor\"] = 2\n",
    "standalone_parameters[\"test_k_factor\"] = 2\n",
    "\n",
    "\n",
    "standalone_parameters[\"n_epoch\"] = 50\n",
    "\n",
    "standalone_parameters[\"patience\"] = 10\n",
    "standalone_parameters[\"criteria_for_best\"] = \"source_loss\"\n",
    "\n",
    "standalone_parameters[\"datasets\"] = [\n",
    "    {\n",
    "        \"labels\": ALL_SERIAL_NUMBERS,\n",
    "        \"domains\": ALL_DISTANCES_FEET_NARROWED,\n",
    "        \"num_examples_per_domain_per_label\": 100,\n",
    "        \"pickle_path\": os.path.join(get_datasets_base_path(), \"oracle.Run1_framed_2000Examples_stratified_ds.2022A.pkl\"),\n",
    "        \"source_or_target_dataset\": \"source\",\n",
    "        \"x_transforms\": [\"unit_mag\", \"minus_two\"],\n",
    "        \"episode_transforms\": [],\n",
    "        \"domain_prefix\": \"ORACLE_\"\n",
    "    },\n",
    "    {\n",
    "        \"labels\": ALL_NODES,\n",
    "        \"domains\": ALL_DAYS,\n",
    "        \"num_examples_per_domain_per_label\": 100,\n",
    "        \"pickle_path\": os.path.join(get_datasets_base_path(), \"cores.stratified_ds.2022A.pkl\"),\n",
    "        \"source_or_target_dataset\": \"target\",\n",
    "        \"x_transforms\": [\"unit_power\", \"times_zero\"],\n",
    "        \"episode_transforms\": [],\n",
    "        \"domain_prefix\": \"CORES_\"\n",
    "    }   \n",
    "]\n",
    "\n",
    "standalone_parameters[\"torch_default_dtype\"] = \"torch.float32\" \n",
    "\n",
    "\n",
    "\n",
    "standalone_parameters[\"x_net\"] =     [\n",
    "    {\"class\": \"nnReshape\", \"kargs\": {\"shape\":[-1, 1, 2, 256]}},\n",
    "    {\"class\": \"Conv2d\", \"kargs\": { \"in_channels\":1, \"out_channels\":256, \"kernel_size\":(1,7), \"bias\":False, \"padding\":(0,3), },},\n",
    "    {\"class\": \"ReLU\", \"kargs\": {\"inplace\": True}},\n",
    "    {\"class\": \"BatchNorm2d\", \"kargs\": {\"num_features\":256}},\n",
    "\n",
    "    {\"class\": \"Conv2d\", \"kargs\": { \"in_channels\":256, \"out_channels\":80, \"kernel_size\":(2,7), \"bias\":True, \"padding\":(0,3), },},\n",
    "    {\"class\": \"ReLU\", \"kargs\": {\"inplace\": True}},\n",
    "    {\"class\": \"BatchNorm2d\", \"kargs\": {\"num_features\":80}},\n",
    "    {\"class\": \"Flatten\", \"kargs\": {}},\n",
    "\n",
    "    {\"class\": \"Linear\", \"kargs\": {\"in_features\": 80*256, \"out_features\": 256}}, # 80 units per IQ pair\n",
    "    {\"class\": \"ReLU\", \"kargs\": {\"inplace\": True}},\n",
    "    {\"class\": \"BatchNorm1d\", \"kargs\": {\"num_features\":256}},\n",
    "\n",
    "    {\"class\": \"Linear\", \"kargs\": {\"in_features\": 256, \"out_features\": 256}},\n",
    "]\n",
    "\n",
    "# Parameters relevant to results\n",
    "# These parameters will basically never need to change\n",
    "standalone_parameters[\"NUM_LOGS_PER_EPOCH\"] = 10\n",
    "standalone_parameters[\"BEST_MODEL_PATH\"] = \"./best_model.pth\"\n",
    "\n",
    "\n",
    "\n",
    "\n"
   ]
  },
  {
   "cell_type": "code",
   "execution_count": 4,
   "id": "4a0e03a3",
   "metadata": {
    "execution": {
     "iopub.execute_input": "2022-03-07T09:29:26.078033Z",
     "iopub.status.busy": "2022-03-07T09:29:26.077726Z",
     "iopub.status.idle": "2022-03-07T09:29:26.088686Z",
     "shell.execute_reply": "2022-03-07T09:29:26.089067Z"
    },
    "papermill": {
     "duration": 0.033662,
     "end_time": "2022-03-07T09:29:26.089193",
     "exception": false,
     "start_time": "2022-03-07T09:29:26.055531",
     "status": "completed"
    },
    "tags": [
     "injected-parameters"
    ]
   },
   "outputs": [],
   "source": [
    "# Parameters\n",
    "parameters = {\n",
    "    \"experiment_name\": \"tl_1_cores-oracle.run1\",\n",
    "    \"device\": \"cuda\",\n",
    "    \"lr\": 0.001,\n",
    "    \"seed\": 1337,\n",
    "    \"dataset_seed\": 1337,\n",
    "    \"n_shot\": 3,\n",
    "    \"n_query\": 2,\n",
    "    \"train_k_factor\": 3,\n",
    "    \"val_k_factor\": 2,\n",
    "    \"test_k_factor\": 2,\n",
    "    \"torch_default_dtype\": \"torch.float32\",\n",
    "    \"n_epoch\": 50,\n",
    "    \"patience\": 3,\n",
    "    \"criteria_for_best\": \"target_loss\",\n",
    "    \"x_net\": [\n",
    "        {\"class\": \"nnReshape\", \"kargs\": {\"shape\": [-1, 1, 2, 256]}},\n",
    "        {\n",
    "            \"class\": \"Conv2d\",\n",
    "            \"kargs\": {\n",
    "                \"in_channels\": 1,\n",
    "                \"out_channels\": 256,\n",
    "                \"kernel_size\": [1, 7],\n",
    "                \"bias\": False,\n",
    "                \"padding\": [0, 3],\n",
    "            },\n",
    "        },\n",
    "        {\"class\": \"ReLU\", \"kargs\": {\"inplace\": True}},\n",
    "        {\"class\": \"BatchNorm2d\", \"kargs\": {\"num_features\": 256}},\n",
    "        {\n",
    "            \"class\": \"Conv2d\",\n",
    "            \"kargs\": {\n",
    "                \"in_channels\": 256,\n",
    "                \"out_channels\": 80,\n",
    "                \"kernel_size\": [2, 7],\n",
    "                \"bias\": True,\n",
    "                \"padding\": [0, 3],\n",
    "            },\n",
    "        },\n",
    "        {\"class\": \"ReLU\", \"kargs\": {\"inplace\": True}},\n",
    "        {\"class\": \"BatchNorm2d\", \"kargs\": {\"num_features\": 80}},\n",
    "        {\"class\": \"Flatten\", \"kargs\": {}},\n",
    "        {\"class\": \"Linear\", \"kargs\": {\"in_features\": 20480, \"out_features\": 256}},\n",
    "        {\"class\": \"ReLU\", \"kargs\": {\"inplace\": True}},\n",
    "        {\"class\": \"BatchNorm1d\", \"kargs\": {\"num_features\": 256}},\n",
    "        {\"class\": \"Linear\", \"kargs\": {\"in_features\": 256, \"out_features\": 256}},\n",
    "    ],\n",
    "    \"NUM_LOGS_PER_EPOCH\": 10,\n",
    "    \"BEST_MODEL_PATH\": \"./best_model.pth\",\n",
    "    \"n_way\": 16,\n",
    "    \"datasets\": [\n",
    "        {\n",
    "            \"labels\": [\n",
    "                \"1-10.\",\n",
    "                \"1-11.\",\n",
    "                \"1-15.\",\n",
    "                \"1-16.\",\n",
    "                \"1-17.\",\n",
    "                \"1-18.\",\n",
    "                \"1-19.\",\n",
    "                \"10-4.\",\n",
    "                \"10-7.\",\n",
    "                \"11-1.\",\n",
    "                \"11-14.\",\n",
    "                \"11-17.\",\n",
    "                \"11-20.\",\n",
    "                \"11-7.\",\n",
    "                \"13-20.\",\n",
    "                \"13-8.\",\n",
    "                \"14-10.\",\n",
    "                \"14-11.\",\n",
    "                \"14-14.\",\n",
    "                \"14-7.\",\n",
    "                \"15-1.\",\n",
    "                \"15-20.\",\n",
    "                \"16-1.\",\n",
    "                \"16-16.\",\n",
    "                \"17-10.\",\n",
    "                \"17-11.\",\n",
    "                \"17-2.\",\n",
    "                \"19-1.\",\n",
    "                \"19-16.\",\n",
    "                \"19-19.\",\n",
    "                \"19-20.\",\n",
    "                \"19-3.\",\n",
    "                \"2-10.\",\n",
    "                \"2-11.\",\n",
    "                \"2-17.\",\n",
    "                \"2-18.\",\n",
    "                \"2-20.\",\n",
    "                \"2-3.\",\n",
    "                \"2-4.\",\n",
    "                \"2-5.\",\n",
    "                \"2-6.\",\n",
    "                \"2-7.\",\n",
    "                \"2-8.\",\n",
    "                \"3-13.\",\n",
    "                \"3-18.\",\n",
    "                \"3-3.\",\n",
    "                \"4-1.\",\n",
    "                \"4-10.\",\n",
    "                \"4-11.\",\n",
    "                \"4-19.\",\n",
    "                \"5-5.\",\n",
    "                \"6-15.\",\n",
    "                \"7-10.\",\n",
    "                \"7-14.\",\n",
    "                \"8-18.\",\n",
    "                \"8-20.\",\n",
    "                \"8-3.\",\n",
    "                \"8-8.\",\n",
    "            ],\n",
    "            \"domains\": [1, 2, 3, 4, 5],\n",
    "            \"num_examples_per_domain_per_label\": 100,\n",
    "            \"pickle_path\": \"/mnt/wd500GB/CSC500/csc500-main/datasets/cores.stratified_ds.2022A.pkl\",\n",
    "            \"source_or_target_dataset\": \"target\",\n",
    "            \"x_transforms\": [\"unit_mag\"],\n",
    "            \"episode_transforms\": [],\n",
    "            \"domain_prefix\": \"CORES_\",\n",
    "        },\n",
    "        {\n",
    "            \"labels\": [\n",
    "                \"3123D52\",\n",
    "                \"3123D65\",\n",
    "                \"3123D79\",\n",
    "                \"3123D80\",\n",
    "                \"3123D54\",\n",
    "                \"3123D70\",\n",
    "                \"3123D7B\",\n",
    "                \"3123D89\",\n",
    "                \"3123D58\",\n",
    "                \"3123D76\",\n",
    "                \"3123D7D\",\n",
    "                \"3123EFE\",\n",
    "                \"3123D64\",\n",
    "                \"3123D78\",\n",
    "                \"3123D7E\",\n",
    "                \"3124E4A\",\n",
    "            ],\n",
    "            \"domains\": [32, 38, 8, 44, 14, 50, 20, 26],\n",
    "            \"num_examples_per_domain_per_label\": 2000,\n",
    "            \"pickle_path\": \"/mnt/wd500GB/CSC500/csc500-main/datasets/oracle.Run1_framed_2000Examples_stratified_ds.2022A.pkl\",\n",
    "            \"source_or_target_dataset\": \"source\",\n",
    "            \"x_transforms\": [\"unit_mag\"],\n",
    "            \"episode_transforms\": [],\n",
    "            \"domain_prefix\": \"ORACLE.run1_\",\n",
    "        },\n",
    "    ],\n",
    "}\n"
   ]
  },
  {
   "cell_type": "code",
   "execution_count": 5,
   "id": "8fa1cc33",
   "metadata": {
    "execution": {
     "iopub.execute_input": "2022-03-07T09:29:26.122965Z",
     "iopub.status.busy": "2022-03-07T09:29:26.122686Z",
     "iopub.status.idle": "2022-03-07T09:29:26.131986Z",
     "shell.execute_reply": "2022-03-07T09:29:26.131614Z"
    },
    "papermill": {
     "duration": 0.024912,
     "end_time": "2022-03-07T09:29:26.132062",
     "exception": false,
     "start_time": "2022-03-07T09:29:26.107150",
     "status": "completed"
    },
    "tags": []
   },
   "outputs": [],
   "source": [
    "# Set this to True if you want to run this template directly\n",
    "STANDALONE = False\n",
    "if STANDALONE:\n",
    "    print(\"parameters not injected, running with standalone_parameters\")\n",
    "    parameters = standalone_parameters\n",
    "\n",
    "if not 'parameters' in locals() and not 'parameters' in globals():\n",
    "    raise Exception(\"Parameter injection failed\")\n",
    "\n",
    "#Use an easy dict for all the parameters\n",
    "p = EasyDict(parameters)\n",
    "\n",
    "supplied_keys = set(p.keys())\n",
    "\n",
    "if  supplied_keys != required_parameters:\n",
    "    print(\"Parameters are incorrect\")\n",
    "    if len(supplied_keys - required_parameters)>0: print(\"Shouldn't have:\", str(supplied_keys - required_parameters))\n",
    "    if len(required_parameters - supplied_keys)>0: print(\"Need to have:\", str(required_parameters - supplied_keys))\n",
    "    raise RuntimeError(\"Parameters are incorrect\")\n",
    "\n"
   ]
  },
  {
   "cell_type": "code",
   "execution_count": 6,
   "id": "3a028d58",
   "metadata": {
    "execution": {
     "iopub.execute_input": "2022-03-07T09:29:26.165140Z",
     "iopub.status.busy": "2022-03-07T09:29:26.164883Z",
     "iopub.status.idle": "2022-03-07T09:29:26.174258Z",
     "shell.execute_reply": "2022-03-07T09:29:26.174036Z"
    },
    "papermill": {
     "duration": 0.023795,
     "end_time": "2022-03-07T09:29:26.174314",
     "exception": false,
     "start_time": "2022-03-07T09:29:26.150519",
     "status": "completed"
    },
    "tags": []
   },
   "outputs": [],
   "source": [
    "###################################\n",
    "# Set the RNGs and make it all deterministic\n",
    "###################################\n",
    "np.random.seed(p.seed)\n",
    "random.seed(p.seed)\n",
    "torch.manual_seed(p.seed)\n",
    "\n",
    "torch.use_deterministic_algorithms(True) "
   ]
  },
  {
   "cell_type": "code",
   "execution_count": 7,
   "id": "b691acf6",
   "metadata": {
    "execution": {
     "iopub.execute_input": "2022-03-07T09:29:26.208737Z",
     "iopub.status.busy": "2022-03-07T09:29:26.208491Z",
     "iopub.status.idle": "2022-03-07T09:29:26.219287Z",
     "shell.execute_reply": "2022-03-07T09:29:26.219023Z"
    },
    "papermill": {
     "duration": 0.026361,
     "end_time": "2022-03-07T09:29:26.219343",
     "exception": false,
     "start_time": "2022-03-07T09:29:26.192982",
     "status": "completed"
    },
    "tags": []
   },
   "outputs": [],
   "source": [
    "###########################################\n",
    "# The stratified datasets honor this\n",
    "###########################################\n",
    "torch.set_default_dtype(eval(p.torch_default_dtype))"
   ]
  },
  {
   "cell_type": "code",
   "execution_count": 8,
   "id": "b5fba671",
   "metadata": {
    "execution": {
     "iopub.execute_input": "2022-03-07T09:29:26.253405Z",
     "iopub.status.busy": "2022-03-07T09:29:26.253156Z",
     "iopub.status.idle": "2022-03-07T09:29:26.293611Z",
     "shell.execute_reply": "2022-03-07T09:29:26.293096Z"
    },
    "papermill": {
     "duration": 0.055595,
     "end_time": "2022-03-07T09:29:26.293719",
     "exception": false,
     "start_time": "2022-03-07T09:29:26.238124",
     "status": "completed"
    },
    "tags": []
   },
   "outputs": [],
   "source": [
    "###################################\n",
    "# Build the network(s)\n",
    "# Note: It's critical to do this AFTER setting the RNG\n",
    "###################################\n",
    "x_net = build_sequential(p.x_net)"
   ]
  },
  {
   "cell_type": "code",
   "execution_count": 9,
   "id": "5d7e61cc",
   "metadata": {
    "execution": {
     "iopub.execute_input": "2022-03-07T09:29:26.325445Z",
     "iopub.status.busy": "2022-03-07T09:29:26.325192Z",
     "iopub.status.idle": "2022-03-07T09:29:26.339104Z",
     "shell.execute_reply": "2022-03-07T09:29:26.338594Z"
    },
    "papermill": {
     "duration": 0.029322,
     "end_time": "2022-03-07T09:29:26.339204",
     "exception": false,
     "start_time": "2022-03-07T09:29:26.309882",
     "status": "completed"
    },
    "tags": []
   },
   "outputs": [],
   "source": [
    "start_time_secs = time.time()"
   ]
  },
  {
   "cell_type": "code",
   "execution_count": 10,
   "id": "c6b67dfd",
   "metadata": {
    "execution": {
     "iopub.execute_input": "2022-03-07T09:29:26.370681Z",
     "iopub.status.busy": "2022-03-07T09:29:26.370432Z",
     "iopub.status.idle": "2022-03-07T09:29:26.379628Z",
     "shell.execute_reply": "2022-03-07T09:29:26.379258Z"
    },
    "papermill": {
     "duration": 0.023661,
     "end_time": "2022-03-07T09:29:26.379705",
     "exception": false,
     "start_time": "2022-03-07T09:29:26.356044",
     "status": "completed"
    },
    "tags": []
   },
   "outputs": [],
   "source": [
    "p.domains_source = []\n",
    "p.domains_target = []\n",
    "\n",
    "\n",
    "train_original_source = []\n",
    "val_original_source   = []\n",
    "test_original_source  = []\n",
    "\n",
    "train_original_target = []\n",
    "val_original_target   = []\n",
    "test_original_target  = []"
   ]
  },
  {
   "cell_type": "code",
   "execution_count": 11,
   "id": "e3d9c3d3",
   "metadata": {
    "execution": {
     "iopub.execute_input": "2022-03-07T09:29:26.413308Z",
     "iopub.status.busy": "2022-03-07T09:29:26.413043Z",
     "iopub.status.idle": "2022-03-07T09:29:26.426428Z",
     "shell.execute_reply": "2022-03-07T09:29:26.426842Z"
    },
    "papermill": {
     "duration": 0.028726,
     "end_time": "2022-03-07T09:29:26.426968",
     "exception": false,
     "start_time": "2022-03-07T09:29:26.398242",
     "status": "completed"
    },
    "tags": []
   },
   "outputs": [],
   "source": [
    "# global_x_transform_func = lambda x: normalize(x.to(torch.get_default_dtype()), \"unit_power\") # unit_power, unit_mag\n",
    "# global_x_transform_func = lambda x: normalize(x, \"unit_power\") # unit_power, unit_mag"
   ]
  },
  {
   "cell_type": "code",
   "execution_count": 12,
   "id": "acb78fd2",
   "metadata": {
    "execution": {
     "iopub.execute_input": "2022-03-07T09:29:26.461892Z",
     "iopub.status.busy": "2022-03-07T09:29:26.456069Z",
     "iopub.status.idle": "2022-03-07T09:29:26.474172Z",
     "shell.execute_reply": "2022-03-07T09:29:26.474482Z"
    },
    "papermill": {
     "duration": 0.032545,
     "end_time": "2022-03-07T09:29:26.474576",
     "exception": false,
     "start_time": "2022-03-07T09:29:26.442031",
     "status": "completed"
    },
    "tags": []
   },
   "outputs": [],
   "source": [
    "def add_dataset(\n",
    "    labels,\n",
    "    domains,\n",
    "    pickle_path,\n",
    "    x_transforms,\n",
    "    episode_transforms,\n",
    "    domain_prefix,\n",
    "    num_examples_per_domain_per_label,\n",
    "    source_or_target_dataset:str,\n",
    "    iterator_seed=p.seed,\n",
    "    dataset_seed=p.dataset_seed,\n",
    "    n_shot=p.n_shot,\n",
    "    n_way=p.n_way,\n",
    "    n_query=p.n_query,\n",
    "    train_val_test_k_factors=(p.train_k_factor,p.val_k_factor,p.test_k_factor),\n",
    "):\n",
    "   \n",
    "    if x_transforms == []: x_transform = None\n",
    "    else: x_transform = get_chained_transform(x_transforms)\n",
    "    \n",
    "    if episode_transforms == []: episode_transform = None\n",
    "    else: raise Exception(\"episode_transforms not implemented\")\n",
    "    \n",
    "    episode_transform = lambda tup, _prefix=domain_prefix: (_prefix + str(tup[0]), tup[1])\n",
    "\n",
    "\n",
    "    eaf = Episodic_Accessor_Factory(\n",
    "        labels=labels,\n",
    "        domains=domains,\n",
    "        num_examples_per_domain_per_label=num_examples_per_domain_per_label,\n",
    "        iterator_seed=iterator_seed,\n",
    "        dataset_seed=dataset_seed,\n",
    "        n_shot=n_shot,\n",
    "        n_way=n_way,\n",
    "        n_query=n_query,\n",
    "        train_val_test_k_factors=train_val_test_k_factors,\n",
    "        pickle_path=pickle_path,\n",
    "        x_transform_func=x_transform,\n",
    "    )\n",
    "\n",
    "    train, val, test = eaf.get_train(), eaf.get_val(), eaf.get_test()\n",
    "    train = Lazy_Iterable_Wrapper(train, episode_transform)\n",
    "    val = Lazy_Iterable_Wrapper(val, episode_transform)\n",
    "    test = Lazy_Iterable_Wrapper(test, episode_transform)\n",
    "\n",
    "    if source_or_target_dataset==\"source\":\n",
    "        train_original_source.append(train)\n",
    "        val_original_source.append(val)\n",
    "        test_original_source.append(test)\n",
    "\n",
    "        p.domains_source.extend(\n",
    "            [domain_prefix + str(u) for u in domains]\n",
    "        )\n",
    "    elif source_or_target_dataset==\"target\":\n",
    "        train_original_target.append(train)\n",
    "        val_original_target.append(val)\n",
    "        test_original_target.append(test)\n",
    "        p.domains_target.extend(\n",
    "            [domain_prefix + str(u) for u in domains]\n",
    "        )\n",
    "    else:\n",
    "        raise Exception(f\"invalid source_or_target_dataset: {source_or_target_dataset}\")\n",
    "    "
   ]
  },
  {
   "cell_type": "code",
   "execution_count": 13,
   "id": "fe266617",
   "metadata": {
    "execution": {
     "iopub.execute_input": "2022-03-07T09:29:26.510455Z",
     "iopub.status.busy": "2022-03-07T09:29:26.509968Z",
     "iopub.status.idle": "2022-03-07T09:29:44.553771Z",
     "shell.execute_reply": "2022-03-07T09:29:44.553295Z"
    },
    "papermill": {
     "duration": 18.059597,
     "end_time": "2022-03-07T09:29:44.553872",
     "exception": false,
     "start_time": "2022-03-07T09:29:26.494275",
     "status": "completed"
    },
    "tags": []
   },
   "outputs": [],
   "source": [
    "for ds in p.datasets:\n",
    "    add_dataset(**ds)"
   ]
  },
  {
   "cell_type": "code",
   "execution_count": 14,
   "id": "b90d65ac",
   "metadata": {
    "execution": {
     "iopub.execute_input": "2022-03-07T09:29:44.589875Z",
     "iopub.status.busy": "2022-03-07T09:29:44.589609Z",
     "iopub.status.idle": "2022-03-07T09:29:44.602379Z",
     "shell.execute_reply": "2022-03-07T09:29:44.602759Z"
    },
    "papermill": {
     "duration": 0.02955,
     "end_time": "2022-03-07T09:29:44.602864",
     "exception": false,
     "start_time": "2022-03-07T09:29:44.573314",
     "status": "completed"
    },
    "tags": []
   },
   "outputs": [],
   "source": [
    "# from steves_utils.CORES.utils import (\n",
    "#     ALL_NODES,\n",
    "#     ALL_NODES_MINIMUM_1000_EXAMPLES,\n",
    "#     ALL_DAYS\n",
    "# )\n",
    "\n",
    "# add_dataset(\n",
    "#     labels=ALL_NODES,\n",
    "#     domains = ALL_DAYS,\n",
    "#     num_examples_per_domain_per_label=100,\n",
    "#     pickle_path=os.path.join(get_datasets_base_path(), \"cores.stratified_ds.2022A.pkl\"),\n",
    "#     source_or_target_dataset=\"target\",\n",
    "#     x_transform_func=global_x_transform_func,\n",
    "#     domain_modifier=lambda u: f\"cores_{u}\"\n",
    "# )"
   ]
  },
  {
   "cell_type": "code",
   "execution_count": 15,
   "id": "76db484d",
   "metadata": {
    "execution": {
     "iopub.execute_input": "2022-03-07T09:29:44.636492Z",
     "iopub.status.busy": "2022-03-07T09:29:44.636240Z",
     "iopub.status.idle": "2022-03-07T09:29:44.644375Z",
     "shell.execute_reply": "2022-03-07T09:29:44.644127Z"
    },
    "papermill": {
     "duration": 0.022806,
     "end_time": "2022-03-07T09:29:44.644425",
     "exception": false,
     "start_time": "2022-03-07T09:29:44.621619",
     "status": "completed"
    },
    "tags": []
   },
   "outputs": [],
   "source": [
    "# from steves_utils.ORACLE.utils_v2 import (\n",
    "#     ALL_DISTANCES_FEET,\n",
    "#     ALL_RUNS,\n",
    "#     ALL_SERIAL_NUMBERS,\n",
    "# )\n",
    "\n",
    "\n",
    "# add_dataset(\n",
    "#     labels=ALL_SERIAL_NUMBERS,\n",
    "#     domains = list(set(ALL_DISTANCES_FEET) - {2,62}),\n",
    "#     num_examples_per_domain_per_label=100,\n",
    "#     pickle_path=os.path.join(get_datasets_base_path(), \"oracle.Run2_framed_2000Examples_stratified_ds.2022A.pkl\"),\n",
    "#     source_or_target_dataset=\"source\",\n",
    "#     x_transform_func=global_x_transform_func,\n",
    "#     domain_modifier=lambda u: f\"oracle1_{u}\"\n",
    "# )\n"
   ]
  },
  {
   "cell_type": "code",
   "execution_count": 16,
   "id": "97dea9d2",
   "metadata": {
    "execution": {
     "iopub.execute_input": "2022-03-07T09:29:44.673514Z",
     "iopub.status.busy": "2022-03-07T09:29:44.673261Z",
     "iopub.status.idle": "2022-03-07T09:29:44.685949Z",
     "shell.execute_reply": "2022-03-07T09:29:44.685560Z"
    },
    "papermill": {
     "duration": 0.028448,
     "end_time": "2022-03-07T09:29:44.686039",
     "exception": false,
     "start_time": "2022-03-07T09:29:44.657591",
     "status": "completed"
    },
    "tags": []
   },
   "outputs": [],
   "source": [
    "# from steves_utils.ORACLE.utils_v2 import (\n",
    "#     ALL_DISTANCES_FEET,\n",
    "#     ALL_RUNS,\n",
    "#     ALL_SERIAL_NUMBERS,\n",
    "# )\n",
    "\n",
    "\n",
    "# add_dataset(\n",
    "#     labels=ALL_SERIAL_NUMBERS,\n",
    "#     domains = list(set(ALL_DISTANCES_FEET) - {2,62,56}),\n",
    "#     num_examples_per_domain_per_label=100,\n",
    "#     pickle_path=os.path.join(get_datasets_base_path(), \"oracle.Run2_framed_2000Examples_stratified_ds.2022A.pkl\"),\n",
    "#     source_or_target_dataset=\"source\",\n",
    "#     x_transform_func=global_x_transform_func,\n",
    "#     domain_modifier=lambda u: f\"oracle2_{u}\"\n",
    "# )"
   ]
  },
  {
   "cell_type": "code",
   "execution_count": 17,
   "id": "6f289866",
   "metadata": {
    "execution": {
     "iopub.execute_input": "2022-03-07T09:29:44.719746Z",
     "iopub.status.busy": "2022-03-07T09:29:44.719491Z",
     "iopub.status.idle": "2022-03-07T09:29:44.731332Z",
     "shell.execute_reply": "2022-03-07T09:29:44.730941Z"
    },
    "papermill": {
     "duration": 0.0277,
     "end_time": "2022-03-07T09:29:44.731422",
     "exception": false,
     "start_time": "2022-03-07T09:29:44.703722",
     "status": "completed"
    },
    "tags": []
   },
   "outputs": [],
   "source": [
    "# add_dataset(\n",
    "#     labels=list(range(19)),\n",
    "#     domains = [0,1,2],\n",
    "#     num_examples_per_domain_per_label=100,\n",
    "#     pickle_path=os.path.join(get_datasets_base_path(), \"metehan.stratified_ds.2022A.pkl\"),\n",
    "#     source_or_target_dataset=\"target\",\n",
    "#     x_transform_func=global_x_transform_func,\n",
    "#     domain_modifier=lambda u: f\"met_{u}\"\n",
    "# )"
   ]
  },
  {
   "cell_type": "code",
   "execution_count": 18,
   "id": "86a863c3",
   "metadata": {
    "execution": {
     "iopub.execute_input": "2022-03-07T09:29:44.761666Z",
     "iopub.status.busy": "2022-03-07T09:29:44.761412Z",
     "iopub.status.idle": "2022-03-07T09:29:44.769973Z",
     "shell.execute_reply": "2022-03-07T09:29:44.769666Z"
    },
    "papermill": {
     "duration": 0.023497,
     "end_time": "2022-03-07T09:29:44.770043",
     "exception": false,
     "start_time": "2022-03-07T09:29:44.746546",
     "status": "completed"
    },
    "tags": []
   },
   "outputs": [],
   "source": [
    "# # from steves_utils.wisig.utils import (\n",
    "# #     ALL_NODES_MINIMUM_100_EXAMPLES,\n",
    "# #     ALL_NODES_MINIMUM_500_EXAMPLES,\n",
    "# #     ALL_NODES_MINIMUM_1000_EXAMPLES,\n",
    "# #     ALL_DAYS\n",
    "# # )\n",
    "\n",
    "# import steves_utils.wisig.utils as wisig\n",
    "\n",
    "\n",
    "# add_dataset(\n",
    "#     labels=wisig.ALL_NODES_MINIMUM_100_EXAMPLES,\n",
    "#     domains = wisig.ALL_DAYS,\n",
    "#     num_examples_per_domain_per_label=100,\n",
    "#     pickle_path=os.path.join(get_datasets_base_path(), \"wisig.node3-19.stratified_ds.2022A.pkl\"),\n",
    "#     source_or_target_dataset=\"target\",\n",
    "#     x_transform_func=global_x_transform_func,\n",
    "#     domain_modifier=lambda u: f\"wisig_{u}\"\n",
    "# )"
   ]
  },
  {
   "cell_type": "code",
   "execution_count": 19,
   "id": "fd5442bc",
   "metadata": {
    "execution": {
     "iopub.execute_input": "2022-03-07T09:29:44.805209Z",
     "iopub.status.busy": "2022-03-07T09:29:44.804733Z",
     "iopub.status.idle": "2022-03-07T09:29:44.817122Z",
     "shell.execute_reply": "2022-03-07T09:29:44.816669Z"
    },
    "papermill": {
     "duration": 0.030753,
     "end_time": "2022-03-07T09:29:44.817211",
     "exception": false,
     "start_time": "2022-03-07T09:29:44.786458",
     "status": "completed"
    },
    "tags": []
   },
   "outputs": [],
   "source": [
    "###################################\n",
    "# Build the dataset\n",
    "###################################\n",
    "train_original_source = Iterable_Aggregator(train_original_source, p.seed)\n",
    "val_original_source = Iterable_Aggregator(val_original_source, p.seed)\n",
    "test_original_source = Iterable_Aggregator(test_original_source, p.seed)\n",
    "\n",
    "\n",
    "train_original_target = Iterable_Aggregator(train_original_target, p.seed)\n",
    "val_original_target = Iterable_Aggregator(val_original_target, p.seed)\n",
    "test_original_target = Iterable_Aggregator(test_original_target, p.seed)\n",
    "\n",
    "# For CNN We only use X and Y. And we only train on the source.\n",
    "# Properly form the data using a transform lambda and Lazy_Iterable_Wrapper. Finally wrap them in a dataloader\n",
    "\n",
    "transform_lambda = lambda ex: ex[1] # Original is (<domain>, <episode>) so we strip down to episode only\n",
    "\n",
    "train_processed_source = Lazy_Iterable_Wrapper(train_original_source, transform_lambda)\n",
    "val_processed_source   = Lazy_Iterable_Wrapper(val_original_source, transform_lambda)\n",
    "test_processed_source  = Lazy_Iterable_Wrapper(test_original_source, transform_lambda)\n",
    "\n",
    "train_processed_target = Lazy_Iterable_Wrapper(train_original_target, transform_lambda)\n",
    "val_processed_target   = Lazy_Iterable_Wrapper(val_original_target, transform_lambda)\n",
    "test_processed_target  = Lazy_Iterable_Wrapper(test_original_target, transform_lambda)\n",
    "\n",
    "datasets = EasyDict({\n",
    "    \"source\": {\n",
    "        \"original\": {\"train\":train_original_source, \"val\":val_original_source, \"test\":test_original_source},\n",
    "        \"processed\": {\"train\":train_processed_source, \"val\":val_processed_source, \"test\":test_processed_source}\n",
    "    },\n",
    "    \"target\": {\n",
    "        \"original\": {\"train\":train_original_target, \"val\":val_original_target, \"test\":test_original_target},\n",
    "        \"processed\": {\"train\":train_processed_target, \"val\":val_processed_target, \"test\":test_processed_target}\n",
    "    },\n",
    "})"
   ]
  },
  {
   "cell_type": "code",
   "execution_count": 20,
   "id": "5b3c01fc",
   "metadata": {
    "execution": {
     "iopub.execute_input": "2022-03-07T09:29:44.851731Z",
     "iopub.status.busy": "2022-03-07T09:29:44.851477Z",
     "iopub.status.idle": "2022-03-07T09:29:49.190847Z",
     "shell.execute_reply": "2022-03-07T09:29:49.191203Z"
    },
    "papermill": {
     "duration": 4.35584,
     "end_time": "2022-03-07T09:29:49.191307",
     "exception": false,
     "start_time": "2022-03-07T09:29:44.835467",
     "status": "completed"
    },
    "tags": []
   },
   "outputs": [
    {
     "name": "stdout",
     "output_type": "stream",
     "text": [
      "{'ORACLE.run1_20', 'ORACLE.run1_8', 'ORACLE.run1_38', 'ORACLE.run1_14', 'ORACLE.run1_32', 'ORACLE.run1_26', 'ORACLE.run1_50', 'ORACLE.run1_44'}\n"
     ]
    },
    {
     "name": "stdout",
     "output_type": "stream",
     "text": [
      "{'CORES_2', 'CORES_5', 'CORES_3', 'CORES_1', 'CORES_4'}\n"
     ]
    },
    {
     "name": "stdout",
     "output_type": "stream",
     "text": [
      "tensor([[[-0.0955,  1.1942, -0.1146,  ..., -0.9840, -0.2675, -0.5732],\n",
      "         [-0.6592, -0.3057,  1.0891,  ...,  0.2484, -1.4617, -0.4872]],\n",
      "\n",
      "        [[-0.4662,  0.7090,  0.5730,  ..., -1.3014, -1.2237, -0.1165],\n",
      "         [-1.1752, -0.3302,  1.1558,  ...,  0.4273, -0.1554,  1.2626]],\n",
      "\n",
      "        [[ 0.6763, -0.3671, -0.7922,  ...,  0.8212,  1.4202,  0.3381],\n",
      "         [ 0.8598,  0.7053, -0.9178,  ..., -0.7826,  0.4831, -1.1980]],\n",
      "\n",
      "        ...,\n",
      "\n",
      "        [[ 1.0255, -0.2498, -1.2227,  ...,  0.6639,  1.0255, -0.6771],\n",
      "         [ 0.5785,  0.7428, -0.3878,  ..., -1.0123, -0.6376, -1.1701]],\n",
      "\n",
      "        [[ 0.0260, -1.0137,  0.2924,  ...,  0.9227,  0.4808,  1.0981],\n",
      "         [ 0.8122,  0.4354, -1.1631,  ..., -0.1235,  1.2996, -0.2339]],\n",
      "\n",
      "        [[ 0.4980,  0.3408, -0.7471,  ..., -0.4718,  1.2779,  1.0616],\n",
      "         [-0.4260,  1.1468, -0.0328,  ..., -1.1141, -0.0590, -0.2556]]])\n"
     ]
    }
   ],
   "source": [
    "from steves_utils.transforms import get_average_magnitude, get_average_power\n",
    "\n",
    "print(set([u for u,_ in val_original_source]))\n",
    "print(set([u for u,_ in val_original_target]))\n",
    "\n",
    "s_x, s_y, q_x, q_y, _ = next(iter(train_processed_source))\n",
    "print(s_x)\n",
    "\n",
    "# for ds in [\n",
    "#     train_processed_source,\n",
    "#     val_processed_source,\n",
    "#     test_processed_source,\n",
    "#     train_processed_target,\n",
    "#     val_processed_target,\n",
    "#     test_processed_target\n",
    "# ]:\n",
    "#     for s_x, s_y, q_x, q_y, _ in ds:\n",
    "#         for X in (s_x, q_x):\n",
    "#             for x in X:\n",
    "#                 assert np.isclose(get_average_magnitude(x.numpy()), 1.0)\n",
    "#                 assert np.isclose(get_average_power(x.numpy()), 1.0)\n",
    "                "
   ]
  },
  {
   "cell_type": "code",
   "execution_count": 21,
   "id": "bbdacba1",
   "metadata": {
    "execution": {
     "iopub.execute_input": "2022-03-07T09:29:49.228201Z",
     "iopub.status.busy": "2022-03-07T09:29:49.227936Z",
     "iopub.status.idle": "2022-03-07T09:29:49.282114Z",
     "shell.execute_reply": "2022-03-07T09:29:49.282469Z"
    },
    "papermill": {
     "duration": 0.07179,
     "end_time": "2022-03-07T09:29:49.282585",
     "exception": false,
     "start_time": "2022-03-07T09:29:49.210795",
     "status": "completed"
    },
    "tags": []
   },
   "outputs": [
    {
     "name": "stdout",
     "output_type": "stream",
     "text": [
      "(2, 256)\n"
     ]
    }
   ],
   "source": [
    "###################################\n",
    "# Build the model\n",
    "###################################\n",
    "model = Steves_Prototypical_Network(x_net, device=p.device, x_shape=(2,256))\n",
    "optimizer = Adam(params=model.parameters(), lr=p.lr)"
   ]
  },
  {
   "cell_type": "code",
   "execution_count": 22,
   "id": "22b39ac5",
   "metadata": {
    "execution": {
     "iopub.execute_input": "2022-03-07T09:29:49.320092Z",
     "iopub.status.busy": "2022-03-07T09:29:49.319840Z",
     "iopub.status.idle": "2022-03-07T09:47:52.080972Z",
     "shell.execute_reply": "2022-03-07T09:47:52.080739Z"
    },
    "papermill": {
     "duration": 1082.778394,
     "end_time": "2022-03-07T09:47:52.081032",
     "exception": false,
     "start_time": "2022-03-07T09:29:49.302638",
     "status": "completed"
    },
    "tags": []
   },
   "outputs": [
    {
     "name": "stdout",
     "output_type": "stream",
     "text": [
      "epoch: 1, [batch: 1 / 6720], examples_per_second: 50.3343, train_label_loss: 3.1652, \n"
     ]
    },
    {
     "name": "stdout",
     "output_type": "stream",
     "text": [
      "epoch: 1, [batch: 672 / 6720], examples_per_second: 3160.7431, train_label_loss: 0.9541, \n"
     ]
    },
    {
     "name": "stdout",
     "output_type": "stream",
     "text": [
      "epoch: 1, [batch: 1344 / 6720], examples_per_second: 3153.8970, train_label_loss: 0.7430, \n"
     ]
    },
    {
     "name": "stdout",
     "output_type": "stream",
     "text": [
      "epoch: 1, [batch: 2016 / 6720], examples_per_second: 3154.8701, train_label_loss: 0.7685, \n"
     ]
    },
    {
     "name": "stdout",
     "output_type": "stream",
     "text": [
      "epoch: 1, [batch: 2688 / 6720], examples_per_second: 3142.7166, train_label_loss: 0.6421, \n"
     ]
    },
    {
     "name": "stdout",
     "output_type": "stream",
     "text": [
      "epoch: 1, [batch: 3360 / 6720], examples_per_second: 3162.0105, train_label_loss: 0.8939, \n"
     ]
    },
    {
     "name": "stdout",
     "output_type": "stream",
     "text": [
      "epoch: 1, [batch: 4032 / 6720], examples_per_second: 3149.6995, train_label_loss: 0.6359, \n"
     ]
    },
    {
     "name": "stdout",
     "output_type": "stream",
     "text": [
      "epoch: 1, [batch: 4704 / 6720], examples_per_second: 3145.9801, train_label_loss: 0.3113, \n"
     ]
    },
    {
     "name": "stdout",
     "output_type": "stream",
     "text": [
      "epoch: 1, [batch: 5376 / 6720], examples_per_second: 3141.1470, train_label_loss: 0.6749, \n"
     ]
    },
    {
     "name": "stdout",
     "output_type": "stream",
     "text": [
      "epoch: 1, [batch: 6048 / 6720], examples_per_second: 3146.3266, train_label_loss: 0.4541, \n"
     ]
    },
    {
     "name": "stdout",
     "output_type": "stream",
     "text": [
      "=============================================================\n",
      "epoch: 1, source_val_acc_label: 0.6745, target_val_acc_label: 0.7944, source_val_label_loss: 87.5992, target_val_label_loss: 1003.6512, \n",
      "=============================================================\n"
     ]
    },
    {
     "name": "stdout",
     "output_type": "stream",
     "text": [
      "New best\n"
     ]
    },
    {
     "name": "stdout",
     "output_type": "stream",
     "text": [
      "epoch: 2, [batch: 1 / 6720], examples_per_second: 5.7232, train_label_loss: 55.2248, \n"
     ]
    },
    {
     "name": "stdout",
     "output_type": "stream",
     "text": [
      "epoch: 2, [batch: 672 / 6720], examples_per_second: 3173.8466, train_label_loss: 0.6441, \n"
     ]
    },
    {
     "name": "stdout",
     "output_type": "stream",
     "text": [
      "epoch: 2, [batch: 1344 / 6720], examples_per_second: 3175.0062, train_label_loss: 0.4356, \n"
     ]
    },
    {
     "name": "stdout",
     "output_type": "stream",
     "text": [
      "epoch: 2, [batch: 2016 / 6720], examples_per_second: 3168.8241, train_label_loss: 1.1574, \n"
     ]
    },
    {
     "name": "stdout",
     "output_type": "stream",
     "text": [
      "epoch: 2, [batch: 2688 / 6720], examples_per_second: 3165.3636, train_label_loss: 0.9294, \n"
     ]
    },
    {
     "name": "stdout",
     "output_type": "stream",
     "text": [
      "epoch: 2, [batch: 3360 / 6720], examples_per_second: 3176.8177, train_label_loss: 0.6799, \n"
     ]
    },
    {
     "name": "stdout",
     "output_type": "stream",
     "text": [
      "epoch: 2, [batch: 4032 / 6720], examples_per_second: 3184.4505, train_label_loss: 1.0008, \n"
     ]
    },
    {
     "name": "stdout",
     "output_type": "stream",
     "text": [
      "epoch: 2, [batch: 4704 / 6720], examples_per_second: 3173.1294, train_label_loss: 0.6151, \n"
     ]
    },
    {
     "name": "stdout",
     "output_type": "stream",
     "text": [
      "epoch: 2, [batch: 5376 / 6720], examples_per_second: 3161.8371, train_label_loss: 0.6484, \n"
     ]
    },
    {
     "name": "stdout",
     "output_type": "stream",
     "text": [
      "epoch: 2, [batch: 6048 / 6720], examples_per_second: 3178.4037, train_label_loss: 0.3558, \n"
     ]
    },
    {
     "name": "stdout",
     "output_type": "stream",
     "text": [
      "=============================================================\n",
      "epoch: 2, source_val_acc_label: 0.8015, target_val_acc_label: 0.8016, source_val_label_loss: 0.5597, target_val_label_loss: 15.4576, \n",
      "=============================================================\n"
     ]
    },
    {
     "name": "stdout",
     "output_type": "stream",
     "text": [
      "New best\n"
     ]
    },
    {
     "name": "stdout",
     "output_type": "stream",
     "text": [
      "epoch: 3, [batch: 1 / 6720], examples_per_second: 5.7565, train_label_loss: 0.6047, \n"
     ]
    },
    {
     "name": "stdout",
     "output_type": "stream",
     "text": [
      "epoch: 3, [batch: 672 / 6720], examples_per_second: 3163.0139, train_label_loss: 0.1939, \n"
     ]
    },
    {
     "name": "stdout",
     "output_type": "stream",
     "text": [
      "epoch: 3, [batch: 1344 / 6720], examples_per_second: 3174.6892, train_label_loss: 0.4842, \n"
     ]
    },
    {
     "name": "stdout",
     "output_type": "stream",
     "text": [
      "epoch: 3, [batch: 2016 / 6720], examples_per_second: 3171.6169, train_label_loss: 0.3004, \n"
     ]
    },
    {
     "name": "stdout",
     "output_type": "stream",
     "text": [
      "epoch: 3, [batch: 2688 / 6720], examples_per_second: 3164.9059, train_label_loss: 0.4707, \n"
     ]
    },
    {
     "name": "stdout",
     "output_type": "stream",
     "text": [
      "epoch: 3, [batch: 3360 / 6720], examples_per_second: 3168.8782, train_label_loss: 0.9479, \n"
     ]
    },
    {
     "name": "stdout",
     "output_type": "stream",
     "text": [
      "epoch: 3, [batch: 4032 / 6720], examples_per_second: 3171.7374, train_label_loss: 0.5969, \n"
     ]
    },
    {
     "name": "stdout",
     "output_type": "stream",
     "text": [
      "epoch: 3, [batch: 4704 / 6720], examples_per_second: 3167.6081, train_label_loss: 0.3012, \n"
     ]
    },
    {
     "name": "stdout",
     "output_type": "stream",
     "text": [
      "epoch: 3, [batch: 5376 / 6720], examples_per_second: 3179.1776, train_label_loss: 0.4030, \n"
     ]
    },
    {
     "name": "stdout",
     "output_type": "stream",
     "text": [
      "epoch: 3, [batch: 6048 / 6720], examples_per_second: 3174.6521, train_label_loss: 0.1991, \n"
     ]
    },
    {
     "name": "stdout",
     "output_type": "stream",
     "text": [
      "=============================================================\n",
      "epoch: 3, source_val_acc_label: 0.7953, target_val_acc_label: 0.7594, source_val_label_loss: 0.5639, target_val_label_loss: 21.0904, \n",
      "=============================================================\n"
     ]
    },
    {
     "name": "stdout",
     "output_type": "stream",
     "text": [
      "epoch: 4, [batch: 1 / 6720], examples_per_second: 5.7986, train_label_loss: 0.5853, \n"
     ]
    },
    {
     "name": "stdout",
     "output_type": "stream",
     "text": [
      "epoch: 4, [batch: 672 / 6720], examples_per_second: 3158.3438, train_label_loss: 0.2291, \n"
     ]
    },
    {
     "name": "stdout",
     "output_type": "stream",
     "text": [
      "epoch: 4, [batch: 1344 / 6720], examples_per_second: 3177.1249, train_label_loss: 0.8816, \n"
     ]
    },
    {
     "name": "stdout",
     "output_type": "stream",
     "text": [
      "epoch: 4, [batch: 2016 / 6720], examples_per_second: 3153.2239, train_label_loss: 0.6926, \n"
     ]
    },
    {
     "name": "stdout",
     "output_type": "stream",
     "text": [
      "epoch: 4, [batch: 2688 / 6720], examples_per_second: 3168.5501, train_label_loss: 0.7066, \n"
     ]
    },
    {
     "name": "stdout",
     "output_type": "stream",
     "text": [
      "epoch: 4, [batch: 3360 / 6720], examples_per_second: 3182.7073, train_label_loss: 0.3329, \n"
     ]
    },
    {
     "name": "stdout",
     "output_type": "stream",
     "text": [
      "epoch: 4, [batch: 4032 / 6720], examples_per_second: 3177.2240, train_label_loss: 0.9037, \n"
     ]
    },
    {
     "name": "stdout",
     "output_type": "stream",
     "text": [
      "epoch: 4, [batch: 4704 / 6720], examples_per_second: 3151.9711, train_label_loss: 0.4718, \n"
     ]
    },
    {
     "name": "stdout",
     "output_type": "stream",
     "text": [
      "epoch: 4, [batch: 5376 / 6720], examples_per_second: 3188.3179, train_label_loss: 0.2951, \n"
     ]
    },
    {
     "name": "stdout",
     "output_type": "stream",
     "text": [
      "epoch: 4, [batch: 6048 / 6720], examples_per_second: 3188.2128, train_label_loss: 0.3856, \n"
     ]
    },
    {
     "name": "stdout",
     "output_type": "stream",
     "text": [
      "=============================================================\n",
      "epoch: 4, source_val_acc_label: 0.8258, target_val_acc_label: 0.8116, source_val_label_loss: 0.4940, target_val_label_loss: 44.8726, \n",
      "=============================================================\n"
     ]
    },
    {
     "name": "stdout",
     "output_type": "stream",
     "text": [
      "epoch: 5, [batch: 1 / 6720], examples_per_second: 5.7671, train_label_loss: 0.0720, \n"
     ]
    },
    {
     "name": "stdout",
     "output_type": "stream",
     "text": [
      "epoch: 5, [batch: 672 / 6720], examples_per_second: 3162.3039, train_label_loss: 0.2429, \n"
     ]
    },
    {
     "name": "stdout",
     "output_type": "stream",
     "text": [
      "epoch: 5, [batch: 1344 / 6720], examples_per_second: 3173.5227, train_label_loss: 0.7525, \n"
     ]
    },
    {
     "name": "stdout",
     "output_type": "stream",
     "text": [
      "epoch: 5, [batch: 2016 / 6720], examples_per_second: 3166.6973, train_label_loss: 0.6525, \n"
     ]
    },
    {
     "name": "stdout",
     "output_type": "stream",
     "text": [
      "epoch: 5, [batch: 2688 / 6720], examples_per_second: 3162.7605, train_label_loss: 0.3844, \n"
     ]
    },
    {
     "name": "stdout",
     "output_type": "stream",
     "text": [
      "epoch: 5, [batch: 3360 / 6720], examples_per_second: 3177.4160, train_label_loss: 0.1032, \n"
     ]
    },
    {
     "name": "stdout",
     "output_type": "stream",
     "text": [
      "epoch: 5, [batch: 4032 / 6720], examples_per_second: 3179.6821, train_label_loss: 0.3424, \n"
     ]
    },
    {
     "name": "stdout",
     "output_type": "stream",
     "text": [
      "epoch: 5, [batch: 4704 / 6720], examples_per_second: 3173.8296, train_label_loss: 0.2120, \n"
     ]
    },
    {
     "name": "stdout",
     "output_type": "stream",
     "text": [
      "epoch: 5, [batch: 5376 / 6720], examples_per_second: 3179.6000, train_label_loss: 0.5806, \n"
     ]
    },
    {
     "name": "stdout",
     "output_type": "stream",
     "text": [
      "epoch: 5, [batch: 6048 / 6720], examples_per_second: 3187.8955, train_label_loss: 0.3415, \n"
     ]
    },
    {
     "name": "stdout",
     "output_type": "stream",
     "text": [
      "=============================================================\n",
      "epoch: 5, source_val_acc_label: 0.8532, target_val_acc_label: 0.8156, source_val_label_loss: 0.4197, target_val_label_loss: 44.0111, \n",
      "=============================================================\n"
     ]
    },
    {
     "name": "stdout",
     "output_type": "stream",
     "text": [
      "epoch: 6, [batch: 1 / 6720], examples_per_second: 5.7693, train_label_loss: 0.2954, \n"
     ]
    },
    {
     "name": "stdout",
     "output_type": "stream",
     "text": [
      "epoch: 6, [batch: 672 / 6720], examples_per_second: 3175.2750, train_label_loss: 0.5328, \n"
     ]
    },
    {
     "name": "stdout",
     "output_type": "stream",
     "text": [
      "epoch: 6, [batch: 1344 / 6720], examples_per_second: 3165.6685, train_label_loss: 0.4303, \n"
     ]
    },
    {
     "name": "stdout",
     "output_type": "stream",
     "text": [
      "epoch: 6, [batch: 2016 / 6720], examples_per_second: 3160.5648, train_label_loss: 0.1275, \n"
     ]
    },
    {
     "name": "stdout",
     "output_type": "stream",
     "text": [
      "epoch: 6, [batch: 2688 / 6720], examples_per_second: 3148.7376, train_label_loss: 0.2553, \n"
     ]
    },
    {
     "name": "stdout",
     "output_type": "stream",
     "text": [
      "epoch: 6, [batch: 3360 / 6720], examples_per_second: 3174.5095, train_label_loss: 0.1324, \n"
     ]
    },
    {
     "name": "stdout",
     "output_type": "stream",
     "text": [
      "epoch: 6, [batch: 4032 / 6720], examples_per_second: 3180.4805, train_label_loss: 0.5922, \n"
     ]
    },
    {
     "name": "stdout",
     "output_type": "stream",
     "text": [
      "epoch: 6, [batch: 4704 / 6720], examples_per_second: 3154.2744, train_label_loss: 0.4337, \n"
     ]
    },
    {
     "name": "stdout",
     "output_type": "stream",
     "text": [
      "epoch: 6, [batch: 5376 / 6720], examples_per_second: 3167.1512, train_label_loss: 0.4437, \n"
     ]
    },
    {
     "name": "stdout",
     "output_type": "stream",
     "text": [
      "epoch: 6, [batch: 6048 / 6720], examples_per_second: 3178.8854, train_label_loss: 0.1166, \n"
     ]
    },
    {
     "name": "stdout",
     "output_type": "stream",
     "text": [
      "=============================================================\n",
      "epoch: 6, source_val_acc_label: 0.8730, target_val_acc_label: 0.8144, source_val_label_loss: 0.3732, target_val_label_loss: 36.7815, \n",
      "=============================================================\n"
     ]
    },
    {
     "name": "stdout",
     "output_type": "stream",
     "text": [
      "Patience (3) exhausted\n"
     ]
    }
   ],
   "source": [
    "###################################\n",
    "# train\n",
    "###################################\n",
    "jig = PTN_Train_Eval_Test_Jig(model, p.BEST_MODEL_PATH, p.device)\n",
    "\n",
    "jig.train(\n",
    "    train_iterable=datasets.source.processed.train,\n",
    "    source_val_iterable=datasets.source.processed.val,\n",
    "    target_val_iterable=datasets.target.processed.val,\n",
    "    num_epochs=p.n_epoch,\n",
    "    num_logs_per_epoch=p.NUM_LOGS_PER_EPOCH,\n",
    "    patience=p.patience,\n",
    "    optimizer=optimizer,\n",
    "    criteria_for_best=p.criteria_for_best,\n",
    ")"
   ]
  },
  {
   "cell_type": "code",
   "execution_count": 23,
   "id": "31e8fabf",
   "metadata": {
    "execution": {
     "iopub.execute_input": "2022-03-07T09:47:52.137552Z",
     "iopub.status.busy": "2022-03-07T09:47:52.137211Z",
     "iopub.status.idle": "2022-03-07T09:47:52.154026Z",
     "shell.execute_reply": "2022-03-07T09:47:52.154400Z"
    },
    "papermill": {
     "duration": 0.046976,
     "end_time": "2022-03-07T09:47:52.154508",
     "exception": false,
     "start_time": "2022-03-07T09:47:52.107532",
     "status": "completed"
    },
    "tags": []
   },
   "outputs": [],
   "source": [
    "total_experiment_time_secs = time.time() - start_time_secs"
   ]
  },
  {
   "cell_type": "code",
   "execution_count": 24,
   "id": "87b9595b",
   "metadata": {
    "execution": {
     "iopub.execute_input": "2022-03-07T09:47:52.217220Z",
     "iopub.status.busy": "2022-03-07T09:47:52.216951Z",
     "iopub.status.idle": "2022-03-07T09:48:47.415170Z",
     "shell.execute_reply": "2022-03-07T09:48:47.415556Z"
    },
    "papermill": {
     "duration": 55.230645,
     "end_time": "2022-03-07T09:48:47.415694",
     "exception": false,
     "start_time": "2022-03-07T09:47:52.185049",
     "status": "completed"
    },
    "tags": []
   },
   "outputs": [],
   "source": [
    "###################################\n",
    "# Evaluate the model\n",
    "###################################\n",
    "source_test_label_accuracy, source_test_label_loss = jig.test(datasets.source.processed.test)\n",
    "target_test_label_accuracy, target_test_label_loss = jig.test(datasets.target.processed.test)\n",
    "\n",
    "source_val_label_accuracy, source_val_label_loss = jig.test(datasets.source.processed.val)\n",
    "target_val_label_accuracy, target_val_label_loss = jig.test(datasets.target.processed.val)\n",
    "\n",
    "history = jig.get_history()\n",
    "\n",
    "total_epochs_trained = len(history[\"epoch_indices\"])\n",
    "\n",
    "val_dl = Iterable_Aggregator((datasets.source.original.val,datasets.target.original.val))\n",
    "\n",
    "confusion = ptn_confusion_by_domain_over_dataloader(model, p.device, val_dl)\n",
    "per_domain_accuracy = per_domain_accuracy_from_confusion(confusion)\n",
    "\n",
    "# Add a key to per_domain_accuracy for if it was a source domain\n",
    "for domain, accuracy in per_domain_accuracy.items():\n",
    "    per_domain_accuracy[domain] = {\n",
    "        \"accuracy\": accuracy,\n",
    "        \"source?\": domain in p.domains_source\n",
    "    }\n",
    "\n",
    "# Do an independent accuracy assesment JUST TO BE SURE!\n",
    "# _source_test_label_accuracy = independent_accuracy_assesment(model, datasets.source.processed.test, p.device)\n",
    "# _target_test_label_accuracy = independent_accuracy_assesment(model, datasets.target.processed.test, p.device)\n",
    "# _source_val_label_accuracy = independent_accuracy_assesment(model, datasets.source.processed.val, p.device)\n",
    "# _target_val_label_accuracy = independent_accuracy_assesment(model, datasets.target.processed.val, p.device)\n",
    "\n",
    "# assert(_source_test_label_accuracy == source_test_label_accuracy)\n",
    "# assert(_target_test_label_accuracy == target_test_label_accuracy)\n",
    "# assert(_source_val_label_accuracy == source_val_label_accuracy)\n",
    "# assert(_target_val_label_accuracy == target_val_label_accuracy)\n",
    "\n",
    "experiment = {\n",
    "    \"experiment_name\": p.experiment_name,\n",
    "    \"parameters\": dict(p),\n",
    "    \"results\": {\n",
    "        \"source_test_label_accuracy\": source_test_label_accuracy,\n",
    "        \"source_test_label_loss\": source_test_label_loss,\n",
    "        \"target_test_label_accuracy\": target_test_label_accuracy,\n",
    "        \"target_test_label_loss\": target_test_label_loss,\n",
    "        \"source_val_label_accuracy\": source_val_label_accuracy,\n",
    "        \"source_val_label_loss\": source_val_label_loss,\n",
    "        \"target_val_label_accuracy\": target_val_label_accuracy,\n",
    "        \"target_val_label_loss\": target_val_label_loss,\n",
    "        \"total_epochs_trained\": total_epochs_trained,\n",
    "        \"total_experiment_time_secs\": total_experiment_time_secs,\n",
    "        \"confusion\": confusion,\n",
    "        \"per_domain_accuracy\": per_domain_accuracy,\n",
    "    },\n",
    "    \"history\": history,\n",
    "    \"dataset_metrics\": get_dataset_metrics(datasets, \"ptn\"),\n",
    "}"
   ]
  },
  {
   "cell_type": "code",
   "execution_count": 25,
   "id": "54a21829",
   "metadata": {
    "execution": {
     "iopub.execute_input": "2022-03-07T09:48:47.477261Z",
     "iopub.status.busy": "2022-03-07T09:48:47.477006Z",
     "iopub.status.idle": "2022-03-07T09:48:47.648910Z",
     "shell.execute_reply": "2022-03-07T09:48:47.648643Z"
    },
    "papermill": {
     "duration": 0.201273,
     "end_time": "2022-03-07T09:48:47.648966",
     "exception": false,
     "start_time": "2022-03-07T09:48:47.447693",
     "status": "completed"
    },
    "tags": []
   },
   "outputs": [
    {
     "data": {
      "image/png": "[encoded data removed]",
      "text/plain": [
       "<Figure size 1080x504 with 1 Axes>"
      ]
     },
     "metadata": {
      "needs_background": "light"
     },
     "output_type": "display_data"
    }
   ],
   "source": [
    "ax = get_loss_curve(experiment)\n",
    "plt.show()"
   ]
  },
  {
   "cell_type": "code",
   "execution_count": 26,
   "id": "fd8a0f60",
   "metadata": {
    "execution": {
     "iopub.execute_input": "2022-03-07T09:48:47.706221Z",
     "iopub.status.busy": "2022-03-07T09:48:47.705970Z",
     "iopub.status.idle": "2022-03-07T09:48:47.880120Z",
     "shell.execute_reply": "2022-03-07T09:48:47.880334Z"
    },
    "papermill": {
     "duration": 0.203525,
     "end_time": "2022-03-07T09:48:47.880404",
     "exception": false,
     "start_time": "2022-03-07T09:48:47.676879",
     "status": "completed"
    },
    "tags": []
   },
   "outputs": [
    {
     "data": {
      "text/plain": [
       "<matplotlib.axes._subplots.AxesSubplot at 0x7f61cbfd1610>"
      ]
     },
     "execution_count": 26,
     "metadata": {},
     "output_type": "execute_result"
    },
    {
     "data": {
      "image/png": "[encoded data removed]",
      "text/plain": [
       "<Figure size 1080x504 with 1 Axes>"
      ]
     },
     "metadata": {
      "needs_background": "light"
     },
     "output_type": "display_data"
    }
   ],
   "source": [
    "get_results_table(experiment)"
   ]
  },
  {
   "cell_type": "code",
   "execution_count": 27,
   "id": "cf8dc689",
   "metadata": {
    "execution": {
     "iopub.execute_input": "2022-03-07T09:48:47.947801Z",
     "iopub.status.busy": "2022-03-07T09:48:47.947548Z",
     "iopub.status.idle": "2022-03-07T09:48:48.156113Z",
     "shell.execute_reply": "2022-03-07T09:48:48.155659Z"
    },
    "papermill": {
     "duration": 0.239368,
     "end_time": "2022-03-07T09:48:48.156213",
     "exception": false,
     "start_time": "2022-03-07T09:48:47.916845",
     "status": "completed"
    },
    "tags": []
   },
   "outputs": [
    {
     "data": {
      "text/plain": [
       "<matplotlib.axes._subplots.AxesSubplot at 0x7f61caba92b0>"
      ]
     },
     "execution_count": 27,
     "metadata": {},
     "output_type": "execute_result"
    },
    {
     "data": {
      "image/png": "[encoded data removed]",
      "text/plain": [
       "<Figure size 1080x504 with 1 Axes>"
      ]
     },
     "metadata": {
      "needs_background": "light"
     },
     "output_type": "display_data"
    }
   ],
   "source": [
    "get_domain_accuracies(experiment)"
   ]
  },
  {
   "cell_type": "code",
   "execution_count": 28,
   "id": "a74ae082",
   "metadata": {
    "execution": {
     "iopub.execute_input": "2022-03-07T09:48:48.220916Z",
     "iopub.status.busy": "2022-03-07T09:48:48.220661Z",
     "iopub.status.idle": "2022-03-07T09:48:48.230692Z",
     "shell.execute_reply": "2022-03-07T09:48:48.230907Z"
    },
    "papermill": {
     "duration": 0.041467,
     "end_time": "2022-03-07T09:48:48.230967",
     "exception": false,
     "start_time": "2022-03-07T09:48:48.189500",
     "status": "completed"
    },
    "tags": []
   },
   "outputs": [
    {
     "name": "stdout",
     "output_type": "stream",
     "text": [
      "Source Test Label Accuracy: 0.80478515625 Target Test Label Accuracy: 0.7953125\n",
      "Source Val Label Accuracy: 0.80146484375 Target Val Label Accuracy: 0.8015625\n"
     ]
    }
   ],
   "source": [
    "print(\"Source Test Label Accuracy:\", experiment[\"results\"][\"source_test_label_accuracy\"], \"Target Test Label Accuracy:\", experiment[\"results\"][\"target_test_label_accuracy\"])\n",
    "print(\"Source Val Label Accuracy:\", experiment[\"results\"][\"source_val_label_accuracy\"], \"Target Val Label Accuracy:\", experiment[\"results\"][\"target_val_label_accuracy\"])"
   ]
  },
  {
   "cell_type": "code",
   "execution_count": 29,
   "id": "dacca602",
   "metadata": {
    "execution": {
     "iopub.execute_input": "2022-03-07T09:48:48.295600Z",
     "iopub.status.busy": "2022-03-07T09:48:48.295350Z",
     "iopub.status.idle": "2022-03-07T09:48:48.309803Z",
     "shell.execute_reply": "2022-03-07T09:48:48.310178Z"
    },
    "papermill": {
     "duration": 0.046316,
     "end_time": "2022-03-07T09:48:48.310287",
     "exception": false,
     "start_time": "2022-03-07T09:48:48.263971",
     "status": "completed"
    },
    "tags": [
     "experiment_json"
    ]
   },
   "outputs": [
    {
     "data": {
      "text/plain": [
       "'{\"experiment_name\": \"tl_1_cores-oracle.run1\", \"parameters\": {\"experiment_name\": \"tl_1_cores-oracle.run1\", \"device\": \"cuda\", \"lr\": 0.001, \"seed\": 1337, \"dataset_seed\": 1337, \"n_shot\": 3, \"n_query\": 2, \"train_k_factor\": 3, \"val_k_factor\": 2, \"test_k_factor\": 2, \"torch_default_dtype\": \"torch.float32\", \"n_epoch\": 50, \"patience\": 3, \"criteria_for_best\": \"target_loss\", \"x_net\": [{\"class\": \"nnReshape\", \"kargs\": {\"shape\": [-1, 1, 2, 256]}}, {\"class\": \"Conv2d\", \"kargs\": {\"in_channels\": 1, \"out_channels\": 256, \"kernel_size\": [1, 7], \"bias\": false, \"padding\": [0, 3]}}, {\"class\": \"ReLU\", \"kargs\": {\"inplace\": true}}, {\"class\": \"BatchNorm2d\", \"kargs\": {\"num_features\": 256}}, {\"class\": \"Conv2d\", \"kargs\": {\"in_channels\": 256, \"out_channels\": 80, \"kernel_size\": [2, 7], \"bias\": true, \"padding\": [0, 3]}}, {\"class\": \"ReLU\", \"kargs\": {\"inplace\": true}}, {\"class\": \"BatchNorm2d\", \"kargs\": {\"num_features\": 80}}, {\"class\": \"Flatten\", \"kargs\": {}}, {\"class\": \"Linear\", \"kargs\": {\"in_features\": 20480, \"out_features\": 256}}, {\"class\": \"ReLU\", \"kargs\": {\"inplace\": true}}, {\"class\": \"BatchNorm1d\", \"kargs\": {\"num_features\": 256}}, {\"class\": \"Linear\", \"kargs\": {\"in_features\": 256, \"out_features\": 256}}], \"NUM_LOGS_PER_EPOCH\": 10, \"BEST_MODEL_PATH\": \"./best_model.pth\", \"n_way\": 16, \"datasets\": [{\"labels\": [\"1-10.\", \"1-11.\", \"1-15.\", \"1-16.\", \"1-17.\", \"1-18.\", \"1-19.\", \"10-4.\", \"10-7.\", \"11-1.\", \"11-14.\", \"11-17.\", \"11-20.\", \"11-7.\", \"13-20.\", \"13-8.\", \"14-10.\", \"14-11.\", \"14-14.\", \"14-7.\", \"15-1.\", \"15-20.\", \"16-1.\", \"16-16.\", \"17-10.\", \"17-11.\", \"17-2.\", \"19-1.\", \"19-16.\", \"19-19.\", \"19-20.\", \"19-3.\", \"2-10.\", \"2-11.\", \"2-17.\", \"2-18.\", \"2-20.\", \"2-3.\", \"2-4.\", \"2-5.\", \"2-6.\", \"2-7.\", \"2-8.\", \"3-13.\", \"3-18.\", \"3-3.\", \"4-1.\", \"4-10.\", \"4-11.\", \"4-19.\", \"5-5.\", \"6-15.\", \"7-10.\", \"7-14.\", \"8-18.\", \"8-20.\", \"8-3.\", \"8-8.\"], \"domains\": [1, 2, 3, 4, 5], \"num_examples_per_domain_per_label\": 100, \"pickle_path\": \"/mnt/wd500GB/CSC500/csc500-main/datasets/cores.stratified_ds.2022A.pkl\", \"source_or_target_dataset\": \"target\", \"x_transforms\": [\"unit_mag\"], \"episode_transforms\": [], \"domain_prefix\": \"CORES_\"}, {\"labels\": [\"3123D52\", \"3123D65\", \"3123D79\", \"3123D80\", \"3123D54\", \"3123D70\", \"3123D7B\", \"3123D89\", \"3123D58\", \"3123D76\", \"3123D7D\", \"3123EFE\", \"3123D64\", \"3123D78\", \"3123D7E\", \"3124E4A\"], \"domains\": [32, 38, 8, 44, 14, 50, 20, 26], \"num_examples_per_domain_per_label\": 2000, \"pickle_path\": \"/mnt/wd500GB/CSC500/csc500-main/datasets/oracle.Run1_framed_2000Examples_stratified_ds.2022A.pkl\", \"source_or_target_dataset\": \"source\", \"x_transforms\": [\"unit_mag\"], \"episode_transforms\": [], \"domain_prefix\": \"ORACLE.run1_\"}], \"domains_source\": [\"ORACLE.run1_32\", \"ORACLE.run1_38\", \"ORACLE.run1_8\", \"ORACLE.run1_44\", \"ORACLE.run1_14\", \"ORACLE.run1_50\", \"ORACLE.run1_20\", \"ORACLE.run1_26\"], \"domains_target\": [\"CORES_1\", \"CORES_2\", \"CORES_3\", \"CORES_4\", \"CORES_5\"]}, \"results\": {\"source_test_label_accuracy\": 0.80478515625, \"source_test_label_loss\": 0.5582818388938904, \"target_test_label_accuracy\": 0.7953125, \"target_test_label_loss\": 17.100656509399414, \"source_val_label_accuracy\": 0.80146484375, \"source_val_label_loss\": 0.5597346425056458, \"target_val_label_accuracy\": 0.8015625, \"target_val_label_loss\": 15.45760440826416, \"total_epochs_trained\": 6, \"total_experiment_time_secs\": 1105.8148550987244, \"confusion\": {\"ORACLE.run1_14\": {\"15\": {\"15\": 240}, \"3\": {\"3\": 237, \"14\": 1, \"5\": 1, \"2\": 1}, \"6\": {\"6\": 183, \"13\": 55, \"2\": 2}, \"1\": {\"1\": 228, \"5\": 12}, \"8\": {\"8\": 240}, \"10\": {\"10\": 240}, \"9\": {\"9\": 240}, \"13\": {\"14\": 50, \"13\": 92, \"5\": 4, \"6\": 69, \"2\": 25}, \"12\": {\"12\": 240}, \"5\": {\"5\": 176, \"4\": 27, \"1\": 23, \"3\": 4, \"2\": 10}, \"0\": {\"0\": 236, \"10\": 2, \"3\": 2}, \"2\": {\"2\": 129, \"6\": 19, \"3\": 7, \"5\": 28, \"14\": 47, \"13\": 8, \"15\": 2}, \"11\": {\"11\": 227, \"9\": 12, \"0\": 1}, \"14\": {\"14\": 210, \"2\": 16, \"13\": 11, \"3\": 2, \"6\": 1}, \"7\": {\"7\": 240}, \"4\": {\"4\": 225, \"5\": 15}}, \"ORACLE.run1_20\": {\"3\": {\"3\": 139, \"9\": 36, \"1\": 3, \"12\": 43, \"10\": 1, \"7\": 4, \"2\": 11, \"4\": 3}, \"15\": {\"5\": 18, \"15\": 186, \"1\": 10, \"0\": 19, \"13\": 3, \"12\": 3, \"2\": 1}, \"8\": {\"8\": 222, \"4\": 13, \"7\": 5}, \"4\": {\"4\": 223, \"8\": 12, \"12\": 2, \"3\": 3}, \"14\": {\"6\": 12, \"14\": 226, \"8\": 1, \"10\": 1}, \"0\": {\"5\": 53, \"15\": 20, \"0\": 166, \"8\": 1}, \"7\": {\"7\": 213, \"3\": 2, \"9\": 3, \"2\": 21, \"8\": 1}, \"6\": {\"6\": 230, \"14\": 10}, \"10\": {\"10\": 240}, \"5\": {\"5\": 183, \"15\": 15, \"0\": 35, \"1\": 6, \"12\": 1}, \"2\": {\"2\": 154, \"9\": 53, \"1\": 4, \"13\": 6, \"12\": 6, \"3\": 8, \"7\": 9}, \"12\": {\"1\": 40, \"3\": 34, \"12\": 152, \"2\": 9, \"9\": 4, \"5\": 1}, \"9\": {\"9\": 175, \"2\": 35, \"3\": 23, \"12\": 6, \"7\": 1}, \"1\": {\"1\": 183, \"5\": 10, \"12\": 40, \"15\": 6, \"2\": 1}, \"11\": {\"11\": 240}, \"13\": {\"13\": 237, \"15\": 1, \"2\": 2}}, \"ORACLE.run1_38\": {\"5\": {\"8\": 44, \"7\": 29, \"5\": 114, \"0\": 8, \"15\": 16, \"1\": 3, \"6\": 19, \"3\": 2, \"13\": 1, \"9\": 2, \"10\": 2}, \"8\": {\"8\": 177, \"7\": 7, \"0\": 25, \"15\": 8, \"5\": 14, \"10\": 9}, \"11\": {\"11\": 178, \"14\": 57, \"4\": 3, \"0\": 1, \"10\": 1}, \"1\": {\"1\": 229, \"15\": 9, \"5\": 2}, \"10\": {\"10\": 201, \"8\": 14, \"7\": 3, \"13\": 11, \"5\": 2, \"15\": 4, \"14\": 1, \"11\": 2, \"0\": 2}, \"15\": {\"15\": 158, \"8\": 3, \"13\": 59, \"1\": 17, \"10\": 1, \"5\": 2}, \"3\": {\"3\": 223, \"9\": 10, \"0\": 1, \"6\": 3, \"7\": 3}, \"7\": {\"7\": 215, \"0\": 15, \"5\": 6, \"8\": 4}, \"4\": {\"4\": 236, \"12\": 4}, \"14\": {\"14\": 207, \"2\": 14, \"11\": 19}, \"9\": {\"9\": 166, \"6\": 71, \"3\": 3}, \"12\": {\"12\": 239, \"4\": 1}, \"6\": {\"6\": 208, \"9\": 29, \"3\": 2, \"5\": 1}, \"2\": {\"2\": 220, \"14\": 13, \"13\": 6, \"15\": 1}, \"0\": {\"8\": 73, \"0\": 117, \"7\": 23, \"3\": 12, \"10\": 4, \"15\": 1, \"12\": 1, \"9\": 1, \"13\": 1, \"5\": 4, \"1\": 1, \"6\": 1, \"11\": 1}, \"13\": {\"13\": 153, \"15\": 66, \"10\": 6, \"2\": 5, \"8\": 5, \"0\": 1, \"1\": 3, \"5\": 1}}, \"ORACLE.run1_8\": {\"9\": {\"9\": 240}, \"10\": {\"10\": 199, \"14\": 25, \"13\": 13, \"4\": 3}, \"13\": {\"13\": 101, \"4\": 35, \"0\": 60, \"6\": 13, \"14\": 6, \"10\": 25}, \"0\": {\"13\": 55, \"0\": 162, \"7\": 8, \"4\": 6, \"6\": 5, \"10\": 3, \"14\": 1}, \"1\": {\"1\": 235, \"11\": 4, \"14\": 1}, \"15\": {\"15\": 203, \"12\": 36, \"8\": 1}, \"5\": {\"5\": 218, \"1\": 6, \"10\": 10, \"14\": 6}, \"3\": {\"3\": 238, \"12\": 2}, \"6\": {\"6\": 185, \"7\": 38, \"0\": 1, \"4\": 13, \"13\": 3}, \"11\": {\"11\": 234, \"1\": 4, \"5\": 2}, \"8\": {\"8\": 239, \"15\": 1}, \"4\": {\"4\": 181, \"6\": 14, \"14\": 7, \"13\": 34, \"10\": 3, \"0\": 1}, \"12\": {\"12\": 143, \"15\": 75, \"3\": 17, \"8\": 4, \"2\": 1}, \"14\": {\"14\": 170, \"10\": 36, \"4\": 21, \"1\": 10, \"13\": 3}, \"2\": {\"15\": 4, \"2\": 220, \"3\": 8, \"7\": 6, \"12\": 2}, \"7\": {\"7\": 193, \"0\": 4, \"6\": 43}}, \"ORACLE.run1_50\": {\"7\": {\"7\": 179, \"13\": 49, \"10\": 9, \"6\": 1, \"5\": 2}, \"3\": {\"3\": 238, \"8\": 2}, \"8\": {\"8\": 236, \"10\": 4}, \"2\": {\"2\": 227, \"0\": 13}, \"14\": {\"14\": 240}, \"4\": {\"15\": 36, \"1\": 52, \"4\": 110, \"5\": 32, \"13\": 6, \"6\": 4}, \"6\": {\"6\": 220, \"15\": 2, \"7\": 1, \"1\": 5, \"13\": 10, \"5\": 1, \"4\": 1}, \"15\": {\"1\": 32, \"15\": 188, \"4\": 16, \"11\": 4}, \"10\": {\"10\": 232, \"13\": 4, \"8\": 2, \"0\": 2}, \"11\": {\"11\": 229, \"14\": 3, \"15\": 3, \"12\": 4, \"9\": 1}, \"13\": {\"13\": 180, \"7\": 30, \"5\": 15, \"6\": 12, \"10\": 2, \"0\": 1}, \"9\": {\"9\": 221, \"12\": 7, \"11\": 12}, \"0\": {\"0\": 214, \"2\": 21, \"10\": 5}, \"1\": {\"4\": 26, \"1\": 164, \"15\": 32, \"6\": 13, \"5\": 4, \"0\": 1}, \"12\": {\"12\": 237, \"9\": 3}, \"5\": {\"5\": 130, \"4\": 34, \"7\": 18, \"13\": 35, \"1\": 21, \"6\": 2}}, \"ORACLE.run1_32\": {\"8\": {\"8\": 214, \"5\": 3, \"13\": 7, \"3\": 3, \"0\": 13}, \"14\": {\"14\": 120, \"11\": 85, \"0\": 18, \"8\": 2, \"7\": 11, \"5\": 2, \"3\": 2}, \"2\": {\"2\": 202, \"4\": 38}, \"0\": {\"0\": 210, \"13\": 4, \"14\": 8, \"8\": 16, \"5\": 1, \"7\": 1}, \"1\": {\"1\": 239, \"10\": 1}, \"10\": {\"10\": 240}, \"11\": {\"11\": 176, \"14\": 57, \"5\": 2, \"7\": 4, \"3\": 1}, \"5\": {\"5\": 83, \"11\": 12, \"7\": 38, \"3\": 14, \"13\": 65, \"4\": 20, \"0\": 1, \"8\": 4, \"2\": 1, \"14\": 2}, \"15\": {\"15\": 240}, \"3\": {\"3\": 233, \"13\": 3, \"5\": 2, \"8\": 1, \"14\": 1}, \"12\": {\"12\": 240}, \"7\": {\"7\": 159, \"5\": 24, \"11\": 5, \"4\": 35, \"14\": 2, \"13\": 11, \"0\": 3, \"8\": 1}, \"13\": {\"13\": 125, \"5\": 69, \"7\": 19, \"8\": 7, \"3\": 9, \"11\": 1, \"4\": 9, \"14\": 1}, \"6\": {\"6\": 240}, \"4\": {\"4\": 199, \"5\": 5, \"2\": 21, \"7\": 15}, \"9\": {\"9\": 240}}, \"ORACLE.run1_26\": {\"4\": {\"4\": 139, \"14\": 56, \"0\": 9, \"7\": 7, \"8\": 19, \"1\": 7, \"10\": 3}, \"12\": {\"12\": 240}, \"10\": {\"14\": 12, \"0\": 60, \"10\": 127, \"8\": 34, \"4\": 2, \"6\": 1, \"9\": 4}, \"0\": {\"0\": 96, \"10\": 53, \"8\": 33, \"14\": 34, \"6\": 2, \"4\": 18, \"7\": 1, \"2\": 1, \"9\": 1, \"15\": 1}, \"13\": {\"13\": 164, \"5\": 46, \"15\": 18, \"2\": 3, \"9\": 9}, \"9\": {\"9\": 132, \"15\": 86, \"6\": 20, \"8\": 1, \"0\": 1}, \"3\": {\"3\": 182, \"2\": 43, \"7\": 15}, \"2\": {\"5\": 28, \"7\": 37, \"2\": 94, \"3\": 71, \"8\": 3, \"9\": 1, \"15\": 5, \"13\": 1}, \"5\": {\"2\": 7, \"5\": 192, \"13\": 27, \"8\": 3, \"15\": 7, \"7\": 1, \"9\": 3}, \"14\": {\"4\": 73, \"1\": 14, \"14\": 110, \"10\": 12, \"0\": 25, \"8\": 6}, \"8\": {\"8\": 133, \"7\": 21, \"0\": 15, \"9\": 5, \"10\": 35, \"4\": 14, \"5\": 1, \"14\": 9, \"15\": 5, \"2\": 2}, \"7\": {\"7\": 171, \"2\": 26, \"3\": 17, \"8\": 13, \"4\": 11, \"0\": 2}, \"6\": {\"6\": 213, \"9\": 20, \"15\": 7}, \"11\": {\"11\": 240}, \"15\": {\"15\": 128, \"9\": 78, \"5\": 7, \"13\": 6, \"2\": 2, \"8\": 11, \"0\": 3, \"10\": 2, \"6\": 3}, \"1\": {\"1\": 206, \"14\": 16, \"4\": 15, \"10\": 2, \"7\": 1}}, \"ORACLE.run1_44\": {\"12\": {\"12\": 179, \"1\": 45, \"10\": 16}, \"7\": {\"7\": 168, \"2\": 35, \"9\": 32, \"6\": 5}, \"5\": {\"5\": 209, \"14\": 8, \"8\": 3, \"0\": 16, \"15\": 4}, \"15\": {\"15\": 205, \"14\": 10, \"5\": 5, \"0\": 14, \"8\": 6}, \"8\": {\"0\": 69, \"8\": 160, \"5\": 1, \"15\": 10}, \"2\": {\"2\": 190, \"7\": 32, \"10\": 6, \"1\": 10, \"3\": 1, \"12\": 1}, \"13\": {\"13\": 164, \"6\": 39, \"9\": 31, \"7\": 4, \"4\": 1, \"11\": 1}, \"4\": {\"4\": 181, \"14\": 59}, \"0\": {\"0\": 158, \"8\": 66, \"5\": 11, \"15\": 5}, \"6\": {\"9\": 22, \"6\": 182, \"13\": 31, \"7\": 5}, \"9\": {\"13\": 32, \"9\": 156, \"7\": 40, \"6\": 11, \"2\": 1}, \"11\": {\"11\": 230, \"13\": 7, \"6\": 3}, \"10\": {\"1\": 10, \"10\": 183, \"12\": 33, \"2\": 14}, \"14\": {\"14\": 149, \"4\": 72, \"15\": 15, \"5\": 4}, \"1\": {\"3\": 15, \"1\": 152, \"10\": 12, \"12\": 53, \"2\": 8}, \"3\": {\"3\": 229, \"1\": 9, \"12\": 1, \"2\": 1}}, \"CORES_3\": {\"43\": {\"43\": 9, \"10\": 2, \"56\": 1}, \"9\": {\"9\": 12}, \"6\": {\"6\": 4, \"30\": 1, \"20\": 1, \"27\": 1, \"33\": 2, \"48\": 1}, \"3\": {\"3\": 9, \"52\": 1, \"30\": 2}, \"16\": {\"16\": 10, \"23\": 2}, \"51\": {\"51\": 12}, \"31\": {\"31\": 11, \"22\": 1}, \"46\": {\"46\": 6, \"33\": 2, \"3\": 2}, \"19\": {\"19\": 8}, \"8\": {\"8\": 12}, \"18\": {\"18\": 11, \"3\": 1}, \"37\": {\"37\": 10, \"5\": 2}, \"24\": {\"24\": 10, \"10\": 1, \"43\": 1}, \"10\": {\"10\": 11, \"56\": 1}, \"44\": {\"44\": 10}, \"14\": {\"10\": 1, \"16\": 1, \"5\": 1, \"56\": 1, \"57\": 2, \"24\": 1, \"23\": 3, \"14\": 1, \"34\": 1}, \"38\": {\"38\": 9, \"54\": 1}, \"53\": {\"53\": 11, \"20\": 1}, \"20\": {\"20\": 10, \"51\": 1, \"36\": 1}, \"32\": {\"32\": 12}, \"36\": {\"36\": 10}, \"33\": {\"33\": 10, \"6\": 1, \"48\": 1}, \"56\": {\"56\": 6, \"10\": 3, \"43\": 2, \"35\": 1}, \"23\": {\"23\": 9, \"57\": 2, \"16\": 1}, \"54\": {\"54\": 9, \"36\": 1}, \"34\": {\"34\": 9, \"1\": 3}, \"13\": {\"13\": 7, \"0\": 4, \"37\": 1}, \"2\": {\"2\": 12}, \"55\": {\"34\": 2, \"55\": 6, \"29\": 1, \"3\": 1}, \"21\": {\"21\": 8, \"27\": 1, \"36\": 1}, \"49\": {\"49\": 8, \"31\": 1, \"0\": 1}, \"25\": {\"46\": 1, \"25\": 6, \"41\": 1, \"33\": 1, \"30\": 2, \"48\": 1}, \"5\": {\"5\": 8, \"7\": 2, \"29\": 1, \"39\": 1}, \"50\": {\"46\": 1, \"50\": 7}, \"40\": {\"40\": 11, \"36\": 1}, \"57\": {\"57\": 7, \"15\": 1}, \"22\": {\"22\": 3, \"0\": 2, \"13\": 1, \"11\": 1, \"7\": 1, \"31\": 1, \"5\": 1}, \"1\": {\"1\": 8, \"34\": 2}, \"17\": {\"17\": 11, \"53\": 1}, \"41\": {\"41\": 5, \"33\": 1, \"42\": 3, \"48\": 1, \"30\": 2}, \"4\": {\"4\": 10}, \"7\": {\"7\": 6, \"15\": 1, \"34\": 1, \"16\": 2}, \"26\": {\"18\": 2, \"26\": 8}, \"29\": {\"29\": 12}, \"52\": {\"52\": 10, \"3\": 1, \"30\": 1}, \"15\": {\"15\": 11, \"7\": 1}, \"35\": {\"35\": 12}, \"42\": {\"42\": 7, \"9\": 2, \"41\": 2, \"19\": 1}, \"30\": {\"30\": 9, \"48\": 1}, \"27\": {\"27\": 8}, \"45\": {\"45\": 10}, \"0\": {\"31\": 2, \"0\": 9, \"13\": 1}, \"28\": {\"28\": 8, \"13\": 2, \"35\": 1, \"37\": 1}, \"47\": {\"47\": 11, \"34\": 1}, \"11\": {\"15\": 1, \"11\": 9}, \"39\": {\"39\": 7, \"5\": 1, \"37\": 2}, \"48\": {\"41\": 2, \"48\": 10}, \"12\": {\"12\": 8}}, \"CORES_4\": {\"35\": {\"35\": 9, \"14\": 1}, \"25\": {\"25\": 11, \"40\": 1}, \"24\": {\"0\": 1, \"24\": 9}, \"48\": {\"48\": 12}, \"51\": {\"51\": 9, \"6\": 2, \"20\": 1}, \"13\": {\"13\": 12}, \"14\": {\"1\": 1, \"22\": 1, \"49\": 1, \"14\": 2, \"13\": 1, \"2\": 2}, \"32\": {\"32\": 11, \"46\": 1}, \"30\": {\"30\": 9, \"21\": 3}, \"34\": {\"40\": 1, \"34\": 8, \"26\": 1}, \"9\": {\"9\": 12}, \"1\": {\"1\": 8, \"57\": 1, \"15\": 1, \"7\": 1, \"16\": 1}, \"0\": {\"0\": 9, \"43\": 3}, \"38\": {\"38\": 12}, \"22\": {\"22\": 4, \"46\": 2, \"41\": 2}, \"40\": {\"40\": 12}, \"39\": {\"39\": 8, \"5\": 2, \"29\": 1, \"37\": 1}, \"46\": {\"46\": 8, \"39\": 1, \"57\": 2, \"32\": 1}, \"36\": {\"36\": 12}, \"50\": {\"50\": 10, \"8\": 1, \"9\": 1}, \"49\": {\"49\": 11, \"1\": 1}, \"17\": {\"17\": 10, \"50\": 1, \"27\": 1}, \"45\": {\"45\": 12}, \"6\": {\"36\": 2, \"6\": 2, \"9\": 2, \"48\": 1, \"53\": 1, \"20\": 1, \"51\": 1, \"4\": 1, \"34\": 1}, \"8\": {\"8\": 12}, \"5\": {\"5\": 7, \"39\": 1, \"40\": 1, \"42\": 1}, \"33\": {\"33\": 9, \"3\": 1, \"40\": 2}, \"31\": {\"31\": 12}, \"37\": {\"37\": 9, \"57\": 1}, \"47\": {\"47\": 8}, \"15\": {\"15\": 7, \"7\": 1, \"49\": 2}, \"7\": {\"7\": 10, \"57\": 2}, \"20\": {\"20\": 11, \"48\": 1}, \"4\": {\"4\": 9, \"19\": 1, \"9\": 1, \"26\": 1}, \"54\": {\"33\": 2, \"54\": 10}, \"44\": {\"44\": 9, \"19\": 1, \"33\": 2}, \"3\": {\"3\": 12}, \"11\": {\"46\": 2, \"41\": 1, \"11\": 3, \"15\": 2, \"37\": 2}, \"27\": {\"27\": 8, \"50\": 1, \"17\": 1}, \"19\": {\"44\": 1, \"19\": 11}, \"55\": {\"55\": 7, \"19\": 1, \"33\": 1, \"36\": 1, \"4\": 1, \"34\": 1}, \"16\": {\"16\": 11, \"11\": 1}, \"2\": {\"2\": 4, \"10\": 1, \"43\": 1, \"24\": 2, \"35\": 2}, \"52\": {\"52\": 3, \"42\": 3, \"23\": 2, \"5\": 2}, \"42\": {\"52\": 3, \"42\": 6, \"34\": 1}, \"26\": {\"26\": 12}, \"10\": {\"10\": 9, \"43\": 2, \"0\": 1}, \"53\": {\"51\": 1, \"53\": 8, \"8\": 1}, \"28\": {\"28\": 10, \"48\": 1, \"25\": 1}, \"21\": {\"21\": 10}, \"57\": {\"46\": 1, \"57\": 7, \"7\": 1, \"37\": 1}, \"23\": {\"52\": 2, \"29\": 4, \"23\": 2}, \"43\": {\"43\": 7, \"0\": 2, \"24\": 1}, \"12\": {\"12\": 12}, \"41\": {\"41\": 11, \"5\": 1}, \"56\": {\"41\": 2, \"43\": 1, \"56\": 4, \"10\": 1}, \"18\": {\"18\": 10}, \"29\": {\"29\": 8}}, \"CORES_5\": {\"47\": {\"33\": 1, \"52\": 4, \"47\": 3, \"23\": 2}, \"53\": {\"53\": 11, \"1\": 1}, \"29\": {\"29\": 11, \"28\": 1}, \"52\": {\"52\": 11, \"39\": 1}, \"55\": {\"55\": 9, \"45\": 1, \"6\": 2}, \"17\": {\"17\": 9, \"30\": 2, \"6\": 1}, \"42\": {\"42\": 11, \"57\": 1}, \"33\": {\"33\": 10}, \"11\": {\"11\": 12}, \"19\": {\"19\": 8}, \"1\": {\"53\": 1, \"1\": 8, \"8\": 3}, \"44\": {\"44\": 10, \"39\": 2}, \"49\": {\"49\": 6, \"44\": 3, \"41\": 1, \"39\": 1, \"34\": 1}, \"4\": {\"4\": 9, \"26\": 1, \"17\": 2}, \"6\": {\"17\": 2, \"6\": 5, \"9\": 1, \"4\": 1, \"30\": 1, \"20\": 1, \"26\": 1}, \"39\": {\"49\": 1, \"39\": 11}, \"13\": {\"13\": 11, \"0\": 1}, \"5\": {\"5\": 9, \"50\": 1}, \"16\": {\"16\": 7, \"11\": 1, \"37\": 2}, \"25\": {\"25\": 6, \"5\": 2, \"18\": 3, \"50\": 1}, \"45\": {\"45\": 8, \"17\": 1, \"30\": 1, \"7\": 1, \"6\": 1}, \"7\": {\"7\": 10}, \"22\": {\"22\": 11, \"29\": 1}, \"40\": {\"40\": 9, \"14\": 1, \"44\": 2}, \"38\": {\"38\": 11, \"7\": 1}, \"35\": {\"35\": 8}, \"56\": {\"36\": 1, \"56\": 8, \"43\": 1, \"14\": 1, \"3\": 1}, \"50\": {\"50\": 10}, \"0\": {\"0\": 11, \"13\": 1}, \"10\": {\"10\": 12}, \"27\": {\"27\": 11, \"8\": 1}, \"20\": {\"20\": 10}, \"36\": {\"36\": 6, \"14\": 2}, \"34\": {\"34\": 12}, \"30\": {\"30\": 12}, \"2\": {\"2\": 9, \"52\": 1}, \"15\": {\"28\": 3, \"16\": 2, \"15\": 3, \"22\": 1, \"37\": 1, \"43\": 2}, \"18\": {\"18\": 12}, \"32\": {\"32\": 12}, \"31\": {\"31\": 8, \"15\": 3, \"56\": 1}, \"57\": {\"57\": 9, \"3\": 2, \"42\": 1}, \"48\": {\"48\": 8}, \"28\": {\"28\": 8, \"37\": 2}, \"14\": {\"28\": 1, \"5\": 1, \"14\": 1, \"41\": 3, \"23\": 2, \"43\": 3, \"25\": 1}, \"3\": {\"3\": 9, \"57\": 2, \"42\": 1}, \"8\": {\"8\": 7, \"20\": 2, \"1\": 3}, \"9\": {\"9\": 10, \"32\": 2}, \"21\": {\"21\": 10}, \"41\": {\"41\": 10, \"18\": 1, \"33\": 1}, \"24\": {\"24\": 8, \"0\": 2, \"31\": 2}, \"46\": {\"29\": 2, \"46\": 8}, \"43\": {\"43\": 10}, \"54\": {\"54\": 6, \"40\": 3, \"21\": 1}, \"23\": {\"23\": 8, \"41\": 1, \"49\": 1}, \"37\": {\"28\": 1, \"37\": 8, \"29\": 1}, \"12\": {\"12\": 9, \"38\": 1}, \"26\": {\"26\": 10}, \"51\": {\"51\": 6}}, \"CORES_1\": {\"46\": {\"46\": 10, \"2\": 1, \"6\": 1}, \"16\": {\"16\": 11, \"3\": 1}, \"26\": {\"1\": 2, \"26\": 5, \"37\": 2, \"57\": 2, \"19\": 1}, \"10\": {\"22\": 1, \"10\": 9, \"21\": 1, \"39\": 1}, \"9\": {\"9\": 10}, \"28\": {\"28\": 9, \"38\": 2, \"52\": 1}, \"51\": {\"9\": 1, \"51\": 11}, \"1\": {\"1\": 4, \"42\": 1, \"56\": 2, \"57\": 2, \"19\": 2, \"45\": 1}, \"55\": {\"55\": 12}, \"27\": {\"27\": 9, \"43\": 1}, \"22\": {\"22\": 8, \"15\": 1, \"11\": 1, \"21\": 2}, \"52\": {\"52\": 8, \"38\": 1, \"36\": 1, \"28\": 2}, \"3\": {\"3\": 10, \"16\": 1, \"54\": 1}, \"33\": {\"33\": 7, \"47\": 1}, \"47\": {\"47\": 11, \"35\": 1}, \"42\": {\"42\": 11, \"56\": 1}, \"12\": {\"12\": 4}, \"23\": {\"31\": 2, \"23\": 8, \"35\": 1, \"15\": 1}, \"49\": {\"49\": 9, \"28\": 1}, \"7\": {\"7\": 12}, \"4\": {\"4\": 12}, \"50\": {\"50\": 12}, \"19\": {\"19\": 10, \"42\": 1, \"29\": 1}, \"11\": {\"23\": 1, \"11\": 10, \"15\": 1}, \"31\": {\"31\": 8, \"0\": 2}, \"41\": {\"41\": 10, \"51\": 2}, \"56\": {\"56\": 8, \"37\": 1, \"26\": 1}, \"0\": {\"0\": 9, \"10\": 1, \"21\": 2}, \"57\": {\"56\": 1, \"42\": 1, \"57\": 8, \"45\": 1, \"19\": 1}, \"53\": {\"53\": 10, \"14\": 2}, \"43\": {\"43\": 11, \"27\": 1}, \"37\": {\"37\": 11, \"16\": 1}, \"2\": {\"46\": 1, \"2\": 7}, \"6\": {\"6\": 6, \"2\": 1, \"17\": 3, \"48\": 2}, \"18\": {\"18\": 11, \"25\": 1}, \"38\": {\"38\": 7, \"36\": 1, \"47\": 1, \"28\": 2, \"33\": 1}, \"15\": {\"11\": 3, \"23\": 1, \"28\": 1, \"15\": 4, \"35\": 1, \"0\": 1, \"52\": 1}, \"36\": {\"36\": 11, \"28\": 1}, \"39\": {\"39\": 8}, \"44\": {\"44\": 8, \"47\": 3, \"49\": 1}, \"8\": {\"8\": 8, \"41\": 2, \"53\": 1, \"14\": 1}, \"17\": {\"17\": 10}, \"5\": {\"5\": 12}, \"13\": {\"13\": 10}, \"40\": {\"7\": 1, \"40\": 9}, \"29\": {\"1\": 1, \"29\": 7, \"25\": 1, \"19\": 1, \"42\": 1, \"45\": 1}, \"48\": {\"48\": 11, \"46\": 1}, \"32\": {\"32\": 6, \"38\": 1, \"54\": 1, \"35\": 2, \"44\": 1, \"36\": 1}, \"30\": {\"30\": 12}, \"35\": {\"32\": 2, \"35\": 5, \"44\": 3, \"47\": 2}, \"25\": {\"25\": 12}, \"14\": {\"14\": 4, \"51\": 3, \"41\": 4, \"12\": 1}, \"54\": {\"54\": 9, \"47\": 1}, \"20\": {\"20\": 8}, \"21\": {\"21\": 8, \"0\": 2}, \"45\": {\"45\": 7, \"1\": 1}, \"24\": {\"24\": 8}, \"34\": {\"34\": 6, \"49\": 1, \"0\": 1}}, \"CORES_2\": {\"14\": {\"47\": 1, \"43\": 1, \"14\": 4, \"24\": 1, \"57\": 1, \"28\": 2, \"23\": 1, \"10\": 1}, \"22\": {\"22\": 8, \"5\": 1, \"31\": 1, \"11\": 1, \"0\": 1}, \"9\": {\"9\": 9, \"40\": 1, \"6\": 2}, \"47\": {\"47\": 11, \"14\": 1}, \"13\": {\"13\": 9, \"22\": 1, \"31\": 1, \"39\": 1}, \"8\": {\"8\": 10, \"27\": 1, \"53\": 1}, \"7\": {\"7\": 8, \"49\": 1, \"42\": 1, \"33\": 1, \"41\": 1}, \"49\": {\"49\": 12}, \"20\": {\"20\": 12}, \"16\": {\"16\": 12}, \"34\": {\"34\": 9, \"41\": 1, \"3\": 2}, \"56\": {\"56\": 9, \"14\": 1, \"22\": 1, \"10\": 1}, \"38\": {\"13\": 1, \"38\": 3, \"5\": 1, \"31\": 2, \"16\": 2, \"28\": 1}, \"4\": {\"4\": 11, \"35\": 1}, \"43\": {\"43\": 8, \"14\": 1, \"24\": 1}, \"26\": {\"26\": 10}, \"35\": {\"35\": 12}, \"31\": {\"31\": 12}, \"1\": {\"1\": 9, \"42\": 1, \"7\": 2}, \"39\": {\"38\": 1, \"13\": 2, \"0\": 2, \"37\": 1, \"39\": 5, \"28\": 1}, \"5\": {\"38\": 1, \"31\": 1, \"5\": 6, \"28\": 1, \"37\": 2, \"39\": 1}, \"24\": {\"24\": 10, \"14\": 2}, \"54\": {\"54\": 10}, \"23\": {\"15\": 2, \"23\": 8, \"47\": 1, \"52\": 1}, \"51\": {\"51\": 11, \"32\": 1}, \"27\": {\"27\": 10}, \"15\": {\"15\": 11, \"14\": 1}, \"0\": {\"0\": 9, \"5\": 1, \"31\": 2}, \"19\": {\"19\": 9, \"40\": 1}, \"18\": {\"18\": 6, \"30\": 1, \"2\": 1}, \"30\": {\"18\": 3, \"30\": 9}, \"55\": {\"34\": 2, \"3\": 1, \"55\": 6, \"19\": 1}, \"57\": {\"57\": 11, \"14\": 1}, \"2\": {\"18\": 1, \"2\": 11}, \"12\": {\"12\": 8}, \"41\": {\"41\": 10, \"42\": 1, \"48\": 1}, \"42\": {\"42\": 10, \"7\": 1, \"30\": 1}, \"48\": {\"48\": 12}, \"37\": {\"37\": 11, \"11\": 1}, \"6\": {\"9\": 1, \"6\": 7, \"35\": 1, \"50\": 1}, \"11\": {\"11\": 9, \"39\": 1}, \"45\": {\"45\": 8}, \"21\": {\"21\": 12}, \"46\": {\"46\": 5, \"3\": 4, \"25\": 1}, \"25\": {\"25\": 10, \"36\": 1, \"50\": 1}, \"36\": {\"36\": 10}, \"53\": {\"53\": 9, \"8\": 2, \"27\": 1}, \"28\": {\"28\": 9, \"0\": 1, \"38\": 2}, \"40\": {\"19\": 3, \"40\": 6, \"9\": 1}, \"33\": {\"33\": 10}, \"44\": {\"44\": 9, \"33\": 1}, \"3\": {\"3\": 4, \"48\": 2, \"30\": 2, \"25\": 3, \"46\": 1}, \"17\": {\"17\": 12}, \"32\": {\"32\": 9, \"17\": 1}, \"10\": {\"10\": 8, \"14\": 2}, \"52\": {\"30\": 3, \"52\": 7}, \"50\": {\"6\": 1, \"50\": 6, \"17\": 1}, \"29\": {\"29\": 5, \"33\": 1}}}, \"per_domain_accuracy\": {\"ORACLE.run1_14\": {\"accuracy\": 0.8809895833333333, \"source?\": true}, \"ORACLE.run1_20\": {\"accuracy\": 0.8252604166666667, \"source?\": true}, \"ORACLE.run1_38\": {\"accuracy\": 0.7919270833333333, \"source?\": true}, \"ORACLE.run1_8\": {\"accuracy\": 0.8231770833333333, \"source?\": true}, \"ORACLE.run1_50\": {\"accuracy\": 0.8450520833333334, \"source?\": true}, \"ORACLE.run1_32\": {\"accuracy\": 0.8229166666666666, \"source?\": true}, \"ORACLE.run1_26\": {\"accuracy\": 0.6684895833333333, \"source?\": true}, \"ORACLE.run1_44\": {\"accuracy\": 0.75390625, \"source?\": true}, \"CORES_3\": {\"accuracy\": 0.8015625, \"source?\": false}, \"CORES_4\": {\"accuracy\": 0.796875, \"source?\": false}, \"CORES_5\": {\"accuracy\": 0.8046875, \"source?\": false}, \"CORES_1\": {\"accuracy\": 0.7984375, \"source?\": false}, \"CORES_2\": {\"accuracy\": 0.80625, \"source?\": false}}}, \"history\": {\"epoch_indices\": [1, 2, 3, 4, 5, 6], \"train_label_loss\": [0.7745762394364214, 1.555972225703521, 0.5242566464197201, 0.4498082406630385, 0.4008278450013937, 0.3763983699698223], \"source_val_label_loss\": [87.59919738769531, 0.5597346425056458, 0.5639032125473022, 0.4939727485179901, 0.4197053909301758, 0.37322455644607544], \"target_val_label_loss\": [1003.6512451171875, 15.45760440826416, 21.090421676635742, 44.87262725830078, 44.01111602783203, 36.781494140625], \"source_val_acc_label\": [0.67451171875, 0.80146484375, 0.7953450520833333, 0.8258463541666666, 0.85322265625, 0.8729817708333333], \"target_val_acc_label\": [0.794375, 0.8015625, 0.759375, 0.8115625, 0.815625, 0.814375]}, \"dataset_metrics\": {\"source\": {\"train\": {\"n_unique_x\": 179200, \"n_unique_y\": 16, \"n_batch/episode\": 6720}, \"val\": {\"n_unique_x\": 38400, \"n_unique_y\": 16, \"n_batch/episode\": 960}, \"test\": {\"n_unique_x\": 38400, \"n_unique_y\": 16, \"n_batch/episode\": 960}}, \"target\": {\"train\": {\"n_unique_x\": 20300, \"n_unique_y\": 58, \"n_batch/episode\": 733}, \"val\": {\"n_unique_x\": 4332, \"n_unique_y\": 58, \"n_batch/episode\": 100}, \"test\": {\"n_unique_x\": 4332, \"n_unique_y\": 58, \"n_batch/episode\": 100}}}}'"
      ]
     },
     "execution_count": 29,
     "metadata": {},
     "output_type": "execute_result"
    }
   ],
   "source": [
    "json.dumps(experiment)"
   ]
  }
 ],
 "metadata": {
  "celltoolbar": "Tags",
  "kernelspec": {
   "display_name": "Python 3 (ipykernel)",
   "language": "python",
   "name": "python3"
  },
  "language_info": {
   "codemirror_mode": {
    "name": "ipython",
    "version": 3
   },
   "file_extension": ".py",
   "mimetype": "text/x-python",
   "name": "python",
   "nbconvert_exporter": "python",
   "pygments_lexer": "ipython3",
   "version": "3.8.10"
  },
  "papermill": {
   "default_parameters": {},
   "duration": 1164.872913,
   "end_time": "2022-03-07T09:48:49.253629",
   "environment_variables": {},
   "exception": null,
   "input_path": "/mnt/wd500GB/CSC500/csc500-main/csc500-notebooks/templates/tl_ptn_template.ipynb",
   "output_path": "trial.ipynb",
   "parameters": {
    "parameters": {
     "BEST_MODEL_PATH": "./best_model.pth",
     "NUM_LOGS_PER_EPOCH": 10,
     "criteria_for_best": "target_loss",
     "dataset_seed": 1337,
     "datasets": [
      {
       "domain_prefix": "CORES_",
       "domains": [
        1,
        2,
        3,
        4,
        5
       ],
       "episode_transforms": [],
       "labels": [
        "1-10.",
        "1-11.",
        "1-15.",
        "1-16.",
        "1-17.",
        "1-18.",
        "1-19.",
        "10-4.",
        "10-7.",
        "11-1.",
        "11-14.",
        "11-17.",
        "11-20.",
        "11-7.",
        "13-20.",
        "13-8.",
        "14-10.",
        "14-11.",
        "14-14.",
        "14-7.",
        "15-1.",
        "15-20.",
        "16-1.",
        "16-16.",
        "17-10.",
        "17-11.",
        "17-2.",
        "19-1.",
        "19-16.",
        "19-19.",
        "19-20.",
        "19-3.",
        "2-10.",
        "2-11.",
        "2-17.",
        "2-18.",
        "2-20.",
        "2-3.",
        "2-4.",
        "2-5.",
        "2-6.",
        "2-7.",
        "2-8.",
        "3-13.",
        "3-18.",
        "3-3.",
        "4-1.",
        "4-10.",
        "4-11.",
        "4-19.",
        "5-5.",
        "6-15.",
        "7-10.",
        "7-14.",
        "8-18.",
        "8-20.",
        "8-3.",
        "8-8."
       ],
       "num_examples_per_domain_per_label": 100,
       "pickle_path": "/mnt/wd500GB/CSC500/csc500-main/datasets/cores.stratified_ds.2022A.pkl",
       "source_or_target_dataset": "target",
       "x_transforms": [
        "unit_mag"
       ]
      },
      {
       "domain_prefix": "ORACLE.run1_",
       "domains": [
        32,
        38,
        8,
        44,
        14,
        50,
        20,
        26
       ],
       "episode_transforms": [],
       "labels": [
        "3123D52",
        "3123D65",
        "3123D79",
        "3123D80",
        "3123D54",
        "3123D70",
        "3123D7B",
        "3123D89",
        "3123D58",
        "3123D76",
        "3123D7D",
        "3123EFE",
        "3123D64",
        "3123D78",
        "3123D7E",
        "3124E4A"
       ],
       "num_examples_per_domain_per_label": 2000,
       "pickle_path": "/mnt/wd500GB/CSC500/csc500-main/datasets/oracle.Run1_framed_2000Examples_stratified_ds.2022A.pkl",
       "source_or_target_dataset": "source",
       "x_transforms": [
        "unit_mag"
       ]
      }
     ],
     "device": "cuda",
     "experiment_name": "tl_1_cores-oracle.run1",
     "lr": 0.001,
     "n_epoch": 50,
     "n_query": 2,
     "n_shot": 3,
     "n_way": 16,
     "patience": 3,
     "seed": 1337,
     "test_k_factor": 2,
     "torch_default_dtype": "torch.float32",
     "train_k_factor": 3,
     "val_k_factor": 2,
     "x_net": [
      {
       "class": "nnReshape",
       "kargs": {
        "shape": [
         -1,
         1,
         2,
         256
        ]
       }
      },
      {
       "class": "Conv2d",
       "kargs": {
        "bias": false,
        "in_channels": 1,
        "kernel_size": [
         1,
         7
        ],
        "out_channels": 256,
        "padding": [
         0,
         3
        ]
       }
      },
      {
       "class": "ReLU",
       "kargs": {
        "inplace": true
       }
      },
      {
       "class": "BatchNorm2d",
       "kargs": {
        "num_features": 256
       }
      },
      {
       "class": "Conv2d",
       "kargs": {
        "bias": true,
        "in_channels": 256,
        "kernel_size": [
         2,
         7
        ],
        "out_channels": 80,
        "padding": [
         0,
         3
        ]
       }
      },
      {
       "class": "ReLU",
       "kargs": {
        "inplace": true
       }
      },
      {
       "class": "BatchNorm2d",
       "kargs": {
        "num_features": 80
       }
      },
      {
       "class": "Flatten",
       "kargs": {}
      },
      {
       "class": "Linear",
       "kargs": {
        "in_features": 20480,
        "out_features": 256
       }
      },
      {
       "class": "ReLU",
       "kargs": {
        "inplace": true
       }
      },
      {
       "class": "BatchNorm1d",
       "kargs": {
        "num_features": 256
       }
      },
      {
       "class": "Linear",
       "kargs": {
        "in_features": 256,
        "out_features": 256
       }
      }
     ]
    }
   },
   "start_time": "2022-03-07T09:29:24.380716",
   "version": "2.3.4"
  }
 },
 "nbformat": 4,
 "nbformat_minor": 5
}