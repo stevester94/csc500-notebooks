{
 "cells": [
  {
   "cell_type": "markdown",
   "id": "9fea5f46",
   "metadata": {
    "papermill": {
     "duration": 0.018363,
     "end_time": "2022-03-13T22:32:05.302527",
     "exception": false,
     "start_time": "2022-03-13T22:32:05.284164",
     "status": "completed"
    },
    "tags": []
   },
   "source": [
    "# Transfer Learning Template"
   ]
  },
  {
   "cell_type": "code",
   "execution_count": 1,
   "id": "0902182a",
   "metadata": {
    "execution": {
     "iopub.execute_input": "2022-03-13T22:32:05.340458Z",
     "iopub.status.busy": "2022-03-13T22:32:05.340190Z",
     "iopub.status.idle": "2022-03-13T22:32:06.259847Z",
     "shell.execute_reply": "2022-03-13T22:32:06.260076Z"
    },
    "papermill": {
     "duration": 0.944999,
     "end_time": "2022-03-13T22:32:06.260193",
     "exception": false,
     "start_time": "2022-03-13T22:32:05.315194",
     "status": "completed"
    },
    "tags": []
   },
   "outputs": [],
   "source": [
    "%load_ext autoreload\n",
    "%autoreload 2\n",
    "%matplotlib inline\n",
    "\n",
    "    \n",
    "import os, json, sys, time, random\n",
    "import numpy as np\n",
    "import torch\n",
    "from torch.optim import Adam\n",
    "from  easydict import EasyDict\n",
    "import matplotlib.pyplot as plt\n",
    "\n",
    "from steves_models.steves_ptn import Steves_Prototypical_Network\n",
    "\n",
    "from steves_utils.lazy_iterable_wrapper import Lazy_Iterable_Wrapper\n",
    "from steves_utils.iterable_aggregator import Iterable_Aggregator\n",
    "from steves_utils.ptn_train_eval_test_jig import  PTN_Train_Eval_Test_Jig\n",
    "from steves_utils.torch_sequential_builder import build_sequential\n",
    "from steves_utils.torch_utils import get_dataset_metrics, ptn_confusion_by_domain_over_dataloader\n",
    "from steves_utils.utils_v2 import (per_domain_accuracy_from_confusion, get_datasets_base_path)\n",
    "from steves_utils.PTN.utils import independent_accuracy_assesment\n",
    "\n",
    "from torch.utils.data import DataLoader\n",
    "\n",
    "from steves_utils.stratified_dataset.episodic_accessor import Episodic_Accessor_Factory\n",
    "\n",
    "from steves_utils.ptn_do_report import (\n",
    "    get_loss_curve,\n",
    "    get_results_table,\n",
    "    get_parameters_table,\n",
    "    get_domain_accuracies,\n",
    ")\n",
    "\n",
    "from steves_utils.transforms import get_chained_transform"
   ]
  },
  {
   "cell_type": "markdown",
   "id": "41c840b4",
   "metadata": {
    "papermill": {
     "duration": 0.012554,
     "end_time": "2022-03-13T22:32:06.290378",
     "exception": false,
     "start_time": "2022-03-13T22:32:06.277824",
     "status": "completed"
    },
    "tags": []
   },
   "source": [
    "# Allowed Parameters\n",
    "These are allowed parameters, not defaults\n",
    "Each of these values need to be present in the injected parameters (the notebook will raise an exception if they are not present)\n",
    "\n",
    "Papermill uses the cell tag \"parameters\" to inject the real parameters below this cell.\n",
    "Enable tags to see what I mean"
   ]
  },
  {
   "cell_type": "code",
   "execution_count": 2,
   "id": "fd44eb83",
   "metadata": {
    "execution": {
     "iopub.execute_input": "2022-03-13T22:32:06.318988Z",
     "iopub.status.busy": "2022-03-13T22:32:06.317196Z",
     "iopub.status.idle": "2022-03-13T22:32:06.333897Z",
     "shell.execute_reply": "2022-03-13T22:32:06.333636Z"
    },
    "papermill": {
     "duration": 0.030917,
     "end_time": "2022-03-13T22:32:06.333952",
     "exception": false,
     "start_time": "2022-03-13T22:32:06.303035",
     "status": "completed"
    },
    "tags": []
   },
   "outputs": [],
   "source": [
    "required_parameters = {\n",
    "    \"experiment_name\",\n",
    "    \"lr\",\n",
    "    \"device\",\n",
    "    \"seed\",\n",
    "    \"dataset_seed\",\n",
    "    \"n_shot\",\n",
    "    \"n_query\",\n",
    "    \"n_way\",\n",
    "    \"train_k_factor\",\n",
    "    \"val_k_factor\",\n",
    "    \"test_k_factor\",\n",
    "    \"n_epoch\",\n",
    "    \"patience\",\n",
    "    \"criteria_for_best\",\n",
    "    \"x_net\",\n",
    "    \"datasets\",\n",
    "    \"torch_default_dtype\",\n",
    "    \"NUM_LOGS_PER_EPOCH\",\n",
    "    \"BEST_MODEL_PATH\",\n",
    "}"
   ]
  },
  {
   "cell_type": "code",
   "execution_count": 3,
   "id": "fa3f0049",
   "metadata": {
    "execution": {
     "iopub.execute_input": "2022-03-13T22:32:06.368789Z",
     "iopub.status.busy": "2022-03-13T22:32:06.366172Z",
     "iopub.status.idle": "2022-03-13T22:32:06.382406Z",
     "shell.execute_reply": "2022-03-13T22:32:06.382613Z"
    },
    "papermill": {
     "duration": 0.035777,
     "end_time": "2022-03-13T22:32:06.382681",
     "exception": false,
     "start_time": "2022-03-13T22:32:06.346904",
     "status": "completed"
    },
    "tags": [
     "parameters"
    ]
   },
   "outputs": [],
   "source": [
    "from steves_utils.CORES.utils import (\n",
    "    ALL_NODES,\n",
    "    ALL_NODES_MINIMUM_1000_EXAMPLES,\n",
    "    ALL_DAYS\n",
    ")\n",
    "\n",
    "from steves_utils.ORACLE.utils_v2 import (\n",
    "    ALL_DISTANCES_FEET_NARROWED,\n",
    "    ALL_RUNS,\n",
    "    ALL_SERIAL_NUMBERS,\n",
    ")\n",
    "\n",
    "standalone_parameters = {}\n",
    "standalone_parameters[\"experiment_name\"] = \"STANDALONE PTN\"\n",
    "standalone_parameters[\"lr\"] = 0.001\n",
    "standalone_parameters[\"device\"] = \"cuda\"\n",
    "\n",
    "standalone_parameters[\"seed\"] = 1337\n",
    "standalone_parameters[\"dataset_seed\"] = 1337\n",
    "\n",
    "standalone_parameters[\"n_way\"] = 8\n",
    "standalone_parameters[\"n_shot\"] = 3\n",
    "standalone_parameters[\"n_query\"]  = 2\n",
    "standalone_parameters[\"train_k_factor\"] = 1\n",
    "standalone_parameters[\"val_k_factor\"] = 2\n",
    "standalone_parameters[\"test_k_factor\"] = 2\n",
    "\n",
    "\n",
    "standalone_parameters[\"n_epoch\"] = 50\n",
    "\n",
    "standalone_parameters[\"patience\"] = 10\n",
    "standalone_parameters[\"criteria_for_best\"] = \"source_loss\"\n",
    "\n",
    "standalone_parameters[\"datasets\"] = [\n",
    "    {\n",
    "        \"labels\": ALL_SERIAL_NUMBERS,\n",
    "        \"domains\": ALL_DISTANCES_FEET_NARROWED,\n",
    "        \"num_examples_per_domain_per_label\": 100,\n",
    "        \"pickle_path\": os.path.join(get_datasets_base_path(), \"oracle.Run1_framed_2000Examples_stratified_ds.2022A.pkl\"),\n",
    "        \"source_or_target_dataset\": \"source\",\n",
    "        \"x_transforms\": [\"unit_mag\", \"minus_two\"],\n",
    "        \"episode_transforms\": [],\n",
    "        \"domain_prefix\": \"ORACLE_\"\n",
    "    },\n",
    "    {\n",
    "        \"labels\": ALL_NODES,\n",
    "        \"domains\": ALL_DAYS,\n",
    "        \"num_examples_per_domain_per_label\": 100,\n",
    "        \"pickle_path\": os.path.join(get_datasets_base_path(), \"cores.stratified_ds.2022A.pkl\"),\n",
    "        \"source_or_target_dataset\": \"target\",\n",
    "        \"x_transforms\": [\"unit_power\", \"times_zero\"],\n",
    "        \"episode_transforms\": [],\n",
    "        \"domain_prefix\": \"CORES_\"\n",
    "    }   \n",
    "]\n",
    "\n",
    "standalone_parameters[\"torch_default_dtype\"] = \"torch.float32\" \n",
    "\n",
    "\n",
    "\n",
    "standalone_parameters[\"x_net\"] =     [\n",
    "    {\"class\": \"nnReshape\", \"kargs\": {\"shape\":[-1, 1, 2, 256]}},\n",
    "    {\"class\": \"Conv2d\", \"kargs\": { \"in_channels\":1, \"out_channels\":256, \"kernel_size\":(1,7), \"bias\":False, \"padding\":(0,3), },},\n",
    "    {\"class\": \"ReLU\", \"kargs\": {\"inplace\": True}},\n",
    "    {\"class\": \"BatchNorm2d\", \"kargs\": {\"num_features\":256}},\n",
    "\n",
    "    {\"class\": \"Conv2d\", \"kargs\": { \"in_channels\":256, \"out_channels\":80, \"kernel_size\":(2,7), \"bias\":True, \"padding\":(0,3), },},\n",
    "    {\"class\": \"ReLU\", \"kargs\": {\"inplace\": True}},\n",
    "    {\"class\": \"BatchNorm2d\", \"kargs\": {\"num_features\":80}},\n",
    "    {\"class\": \"Flatten\", \"kargs\": {}},\n",
    "\n",
    "    {\"class\": \"Linear\", \"kargs\": {\"in_features\": 80*256, \"out_features\": 256}}, # 80 units per IQ pair\n",
    "    {\"class\": \"ReLU\", \"kargs\": {\"inplace\": True}},\n",
    "    {\"class\": \"BatchNorm1d\", \"kargs\": {\"num_features\":256}},\n",
    "\n",
    "    {\"class\": \"Linear\", \"kargs\": {\"in_features\": 256, \"out_features\": 256}},\n",
    "]\n",
    "\n",
    "# Parameters relevant to results\n",
    "# These parameters will basically never need to change\n",
    "standalone_parameters[\"NUM_LOGS_PER_EPOCH\"] = 10\n",
    "standalone_parameters[\"BEST_MODEL_PATH\"] = \"./best_model.pth\"\n",
    "\n",
    "\n",
    "\n",
    "\n"
   ]
  },
  {
   "cell_type": "code",
   "execution_count": 4,
   "id": "c5966d66",
   "metadata": {
    "execution": {
     "iopub.execute_input": "2022-03-13T22:32:06.415199Z",
     "iopub.status.busy": "2022-03-13T22:32:06.409746Z",
     "iopub.status.idle": "2022-03-13T22:32:06.431844Z",
     "shell.execute_reply": "2022-03-13T22:32:06.431587Z"
    },
    "papermill": {
     "duration": 0.036361,
     "end_time": "2022-03-13T22:32:06.431899",
     "exception": false,
     "start_time": "2022-03-13T22:32:06.395538",
     "status": "completed"
    },
    "tags": [
     "injected-parameters"
    ]
   },
   "outputs": [],
   "source": [
    "# Parameters\n",
    "parameters = {\n",
    "    \"experiment_name\": \"tl_1_cores-oracle.run1\",\n",
    "    \"device\": \"cuda\",\n",
    "    \"lr\": 0.001,\n",
    "    \"seed\": 1337,\n",
    "    \"dataset_seed\": 1337,\n",
    "    \"n_shot\": 3,\n",
    "    \"n_query\": 2,\n",
    "    \"train_k_factor\": 3,\n",
    "    \"val_k_factor\": 2,\n",
    "    \"test_k_factor\": 2,\n",
    "    \"torch_default_dtype\": \"torch.float32\",\n",
    "    \"n_epoch\": 50,\n",
    "    \"patience\": 3,\n",
    "    \"criteria_for_best\": \"target_loss\",\n",
    "    \"x_net\": [\n",
    "        {\"class\": \"nnReshape\", \"kargs\": {\"shape\": [-1, 1, 2, 256]}},\n",
    "        {\n",
    "            \"class\": \"Conv2d\",\n",
    "            \"kargs\": {\n",
    "                \"in_channels\": 1,\n",
    "                \"out_channels\": 256,\n",
    "                \"kernel_size\": [1, 7],\n",
    "                \"bias\": False,\n",
    "                \"padding\": [0, 3],\n",
    "            },\n",
    "        },\n",
    "        {\"class\": \"ReLU\", \"kargs\": {\"inplace\": True}},\n",
    "        {\"class\": \"BatchNorm2d\", \"kargs\": {\"num_features\": 256}},\n",
    "        {\n",
    "            \"class\": \"Conv2d\",\n",
    "            \"kargs\": {\n",
    "                \"in_channels\": 256,\n",
    "                \"out_channels\": 80,\n",
    "                \"kernel_size\": [2, 7],\n",
    "                \"bias\": True,\n",
    "                \"padding\": [0, 3],\n",
    "            },\n",
    "        },\n",
    "        {\"class\": \"ReLU\", \"kargs\": {\"inplace\": True}},\n",
    "        {\"class\": \"BatchNorm2d\", \"kargs\": {\"num_features\": 80}},\n",
    "        {\"class\": \"Flatten\", \"kargs\": {}},\n",
    "        {\"class\": \"Linear\", \"kargs\": {\"in_features\": 20480, \"out_features\": 256}},\n",
    "        {\"class\": \"ReLU\", \"kargs\": {\"inplace\": True}},\n",
    "        {\"class\": \"BatchNorm1d\", \"kargs\": {\"num_features\": 256}},\n",
    "        {\"class\": \"Linear\", \"kargs\": {\"in_features\": 256, \"out_features\": 256}},\n",
    "    ],\n",
    "    \"NUM_LOGS_PER_EPOCH\": 10,\n",
    "    \"BEST_MODEL_PATH\": \"./best_model.pth\",\n",
    "    \"n_way\": 16,\n",
    "    \"datasets\": [\n",
    "        {\n",
    "            \"labels\": [\n",
    "                \"1-10.\",\n",
    "                \"1-11.\",\n",
    "                \"1-15.\",\n",
    "                \"1-16.\",\n",
    "                \"1-17.\",\n",
    "                \"1-18.\",\n",
    "                \"1-19.\",\n",
    "                \"10-4.\",\n",
    "                \"10-7.\",\n",
    "                \"11-1.\",\n",
    "                \"11-14.\",\n",
    "                \"11-17.\",\n",
    "                \"11-20.\",\n",
    "                \"11-7.\",\n",
    "                \"13-20.\",\n",
    "                \"13-8.\",\n",
    "                \"14-10.\",\n",
    "                \"14-11.\",\n",
    "                \"14-14.\",\n",
    "                \"14-7.\",\n",
    "                \"15-1.\",\n",
    "                \"15-20.\",\n",
    "                \"16-1.\",\n",
    "                \"16-16.\",\n",
    "                \"17-10.\",\n",
    "                \"17-11.\",\n",
    "                \"17-2.\",\n",
    "                \"19-1.\",\n",
    "                \"19-16.\",\n",
    "                \"19-19.\",\n",
    "                \"19-20.\",\n",
    "                \"19-3.\",\n",
    "                \"2-10.\",\n",
    "                \"2-11.\",\n",
    "                \"2-17.\",\n",
    "                \"2-18.\",\n",
    "                \"2-20.\",\n",
    "                \"2-3.\",\n",
    "                \"2-4.\",\n",
    "                \"2-5.\",\n",
    "                \"2-6.\",\n",
    "                \"2-7.\",\n",
    "                \"2-8.\",\n",
    "                \"3-13.\",\n",
    "                \"3-18.\",\n",
    "                \"3-3.\",\n",
    "                \"4-1.\",\n",
    "                \"4-10.\",\n",
    "                \"4-11.\",\n",
    "                \"4-19.\",\n",
    "                \"5-5.\",\n",
    "                \"6-15.\",\n",
    "                \"7-10.\",\n",
    "                \"7-14.\",\n",
    "                \"8-18.\",\n",
    "                \"8-20.\",\n",
    "                \"8-3.\",\n",
    "                \"8-8.\",\n",
    "            ],\n",
    "            \"domains\": [1, 2, 3, 4, 5],\n",
    "            \"num_examples_per_domain_per_label\": 100,\n",
    "            \"pickle_path\": \"/mnt/wd500GB/CSC500/csc500-main/datasets/cores.stratified_ds.2022A.pkl\",\n",
    "            \"source_or_target_dataset\": \"target\",\n",
    "            \"x_transforms\": [\"unit_mag\"],\n",
    "            \"episode_transforms\": [],\n",
    "            \"domain_prefix\": \"CORES_\",\n",
    "        },\n",
    "        {\n",
    "            \"labels\": [\n",
    "                \"3123D52\",\n",
    "                \"3123D65\",\n",
    "                \"3123D79\",\n",
    "                \"3123D80\",\n",
    "                \"3123D54\",\n",
    "                \"3123D70\",\n",
    "                \"3123D7B\",\n",
    "                \"3123D89\",\n",
    "                \"3123D58\",\n",
    "                \"3123D76\",\n",
    "                \"3123D7D\",\n",
    "                \"3123EFE\",\n",
    "                \"3123D64\",\n",
    "                \"3123D78\",\n",
    "                \"3123D7E\",\n",
    "                \"3124E4A\",\n",
    "            ],\n",
    "            \"domains\": [32, 38, 8, 44, 14, 50, 20, 26],\n",
    "            \"num_examples_per_domain_per_label\": 10000,\n",
    "            \"pickle_path\": \"/mnt/wd500GB/CSC500/csc500-main/datasets/oracle.Run1_10kExamples_stratified_ds.2022A.pkl\",\n",
    "            \"source_or_target_dataset\": \"source\",\n",
    "            \"x_transforms\": [\"unit_mag\"],\n",
    "            \"episode_transforms\": [],\n",
    "            \"domain_prefix\": \"ORACLE.run1_\",\n",
    "        },\n",
    "    ],\n",
    "}\n"
   ]
  },
  {
   "cell_type": "code",
   "execution_count": 5,
   "id": "8fa1cc33",
   "metadata": {
    "execution": {
     "iopub.execute_input": "2022-03-13T22:32:06.461448Z",
     "iopub.status.busy": "2022-03-13T22:32:06.460970Z",
     "iopub.status.idle": "2022-03-13T22:32:06.472782Z",
     "shell.execute_reply": "2022-03-13T22:32:06.472529Z"
    },
    "papermill": {
     "duration": 0.027089,
     "end_time": "2022-03-13T22:32:06.472838",
     "exception": false,
     "start_time": "2022-03-13T22:32:06.445749",
     "status": "completed"
    },
    "tags": []
   },
   "outputs": [],
   "source": [
    "# Set this to True if you want to run this template directly\n",
    "STANDALONE = False\n",
    "if STANDALONE:\n",
    "    print(\"parameters not injected, running with standalone_parameters\")\n",
    "    parameters = standalone_parameters\n",
    "\n",
    "if not 'parameters' in locals() and not 'parameters' in globals():\n",
    "    raise Exception(\"Parameter injection failed\")\n",
    "\n",
    "#Use an easy dict for all the parameters\n",
    "p = EasyDict(parameters)\n",
    "\n",
    "supplied_keys = set(p.keys())\n",
    "\n",
    "if  supplied_keys != required_parameters:\n",
    "    print(\"Parameters are incorrect\")\n",
    "    if len(supplied_keys - required_parameters)>0: print(\"Shouldn't have:\", str(supplied_keys - required_parameters))\n",
    "    if len(required_parameters - supplied_keys)>0: print(\"Need to have:\", str(required_parameters - supplied_keys))\n",
    "    raise RuntimeError(\"Parameters are incorrect\")\n",
    "\n"
   ]
  },
  {
   "cell_type": "code",
   "execution_count": 6,
   "id": "3a028d58",
   "metadata": {
    "execution": {
     "iopub.execute_input": "2022-03-13T22:32:06.503049Z",
     "iopub.status.busy": "2022-03-13T22:32:06.501303Z",
     "iopub.status.idle": "2022-03-13T22:32:06.516113Z",
     "shell.execute_reply": "2022-03-13T22:32:06.515860Z"
    },
    "papermill": {
     "duration": 0.030276,
     "end_time": "2022-03-13T22:32:06.516168",
     "exception": false,
     "start_time": "2022-03-13T22:32:06.485892",
     "status": "completed"
    },
    "tags": []
   },
   "outputs": [],
   "source": [
    "###################################\n",
    "# Set the RNGs and make it all deterministic\n",
    "###################################\n",
    "np.random.seed(p.seed)\n",
    "random.seed(p.seed)\n",
    "torch.manual_seed(p.seed)\n",
    "\n",
    "torch.use_deterministic_algorithms(True) "
   ]
  },
  {
   "cell_type": "code",
   "execution_count": 7,
   "id": "b691acf6",
   "metadata": {
    "execution": {
     "iopub.execute_input": "2022-03-13T22:32:06.552021Z",
     "iopub.status.busy": "2022-03-13T22:32:06.545168Z",
     "iopub.status.idle": "2022-03-13T22:32:06.559233Z",
     "shell.execute_reply": "2022-03-13T22:32:06.558985Z"
    },
    "papermill": {
     "duration": 0.029984,
     "end_time": "2022-03-13T22:32:06.559288",
     "exception": false,
     "start_time": "2022-03-13T22:32:06.529304",
     "status": "completed"
    },
    "tags": []
   },
   "outputs": [],
   "source": [
    "###########################################\n",
    "# The stratified datasets honor this\n",
    "###########################################\n",
    "torch.set_default_dtype(eval(p.torch_default_dtype))"
   ]
  },
  {
   "cell_type": "code",
   "execution_count": 8,
   "id": "b5fba671",
   "metadata": {
    "execution": {
     "iopub.execute_input": "2022-03-13T22:32:06.587002Z",
     "iopub.status.busy": "2022-03-13T22:32:06.586753Z",
     "iopub.status.idle": "2022-03-13T22:32:06.622948Z",
     "shell.execute_reply": "2022-03-13T22:32:06.622705Z"
    },
    "papermill": {
     "duration": 0.050729,
     "end_time": "2022-03-13T22:32:06.623012",
     "exception": false,
     "start_time": "2022-03-13T22:32:06.572283",
     "status": "completed"
    },
    "tags": []
   },
   "outputs": [],
   "source": [
    "###################################\n",
    "# Build the network(s)\n",
    "# Note: It's critical to do this AFTER setting the RNG\n",
    "###################################\n",
    "x_net = build_sequential(p.x_net)"
   ]
  },
  {
   "cell_type": "code",
   "execution_count": 9,
   "id": "5d7e61cc",
   "metadata": {
    "execution": {
     "iopub.execute_input": "2022-03-13T22:32:06.651381Z",
     "iopub.status.busy": "2022-03-13T22:32:06.651132Z",
     "iopub.status.idle": "2022-03-13T22:32:06.662236Z",
     "shell.execute_reply": "2022-03-13T22:32:06.661986Z"
    },
    "papermill": {
     "duration": 0.025921,
     "end_time": "2022-03-13T22:32:06.662290",
     "exception": false,
     "start_time": "2022-03-13T22:32:06.636369",
     "status": "completed"
    },
    "tags": []
   },
   "outputs": [],
   "source": [
    "start_time_secs = time.time()"
   ]
  },
  {
   "cell_type": "code",
   "execution_count": 10,
   "id": "c6b67dfd",
   "metadata": {
    "execution": {
     "iopub.execute_input": "2022-03-13T22:32:06.695799Z",
     "iopub.status.busy": "2022-03-13T22:32:06.691403Z",
     "iopub.status.idle": "2022-03-13T22:32:06.706478Z",
     "shell.execute_reply": "2022-03-13T22:32:06.706268Z"
    },
    "papermill": {
     "duration": 0.031102,
     "end_time": "2022-03-13T22:32:06.706533",
     "exception": false,
     "start_time": "2022-03-13T22:32:06.675431",
     "status": "completed"
    },
    "tags": []
   },
   "outputs": [],
   "source": [
    "p.domains_source = []\n",
    "p.domains_target = []\n",
    "\n",
    "\n",
    "train_original_source = []\n",
    "val_original_source   = []\n",
    "test_original_source  = []\n",
    "\n",
    "train_original_target = []\n",
    "val_original_target   = []\n",
    "test_original_target  = []"
   ]
  },
  {
   "cell_type": "code",
   "execution_count": 11,
   "id": "e3d9c3d3",
   "metadata": {
    "execution": {
     "iopub.execute_input": "2022-03-13T22:32:06.735597Z",
     "iopub.status.busy": "2022-03-13T22:32:06.735257Z",
     "iopub.status.idle": "2022-03-13T22:32:06.749589Z",
     "shell.execute_reply": "2022-03-13T22:32:06.749339Z"
    },
    "papermill": {
     "duration": 0.02969,
     "end_time": "2022-03-13T22:32:06.749643",
     "exception": false,
     "start_time": "2022-03-13T22:32:06.719953",
     "status": "completed"
    },
    "tags": []
   },
   "outputs": [],
   "source": [
    "# global_x_transform_func = lambda x: normalize(x.to(torch.get_default_dtype()), \"unit_power\") # unit_power, unit_mag\n",
    "# global_x_transform_func = lambda x: normalize(x, \"unit_power\") # unit_power, unit_mag"
   ]
  },
  {
   "cell_type": "code",
   "execution_count": 12,
   "id": "acb78fd2",
   "metadata": {
    "execution": {
     "iopub.execute_input": "2022-03-13T22:32:06.783827Z",
     "iopub.status.busy": "2022-03-13T22:32:06.783567Z",
     "iopub.status.idle": "2022-03-13T22:32:06.795311Z",
     "shell.execute_reply": "2022-03-13T22:32:06.795089Z"
    },
    "papermill": {
     "duration": 0.032434,
     "end_time": "2022-03-13T22:32:06.795366",
     "exception": false,
     "start_time": "2022-03-13T22:32:06.762932",
     "status": "completed"
    },
    "tags": []
   },
   "outputs": [],
   "source": [
    "def add_dataset(\n",
    "    labels,\n",
    "    domains,\n",
    "    pickle_path,\n",
    "    x_transforms,\n",
    "    episode_transforms,\n",
    "    domain_prefix,\n",
    "    num_examples_per_domain_per_label,\n",
    "    source_or_target_dataset:str,\n",
    "    iterator_seed=p.seed,\n",
    "    dataset_seed=p.dataset_seed,\n",
    "    n_shot=p.n_shot,\n",
    "    n_way=p.n_way,\n",
    "    n_query=p.n_query,\n",
    "    train_val_test_k_factors=(p.train_k_factor,p.val_k_factor,p.test_k_factor),\n",
    "):\n",
    "   \n",
    "    if x_transforms == []: x_transform = None\n",
    "    else: x_transform = get_chained_transform(x_transforms)\n",
    "    \n",
    "    if episode_transforms == []: episode_transform = None\n",
    "    else: raise Exception(\"episode_transforms not implemented\")\n",
    "    \n",
    "    episode_transform = lambda tup, _prefix=domain_prefix: (_prefix + str(tup[0]), tup[1])\n",
    "\n",
    "\n",
    "    eaf = Episodic_Accessor_Factory(\n",
    "        labels=labels,\n",
    "        domains=domains,\n",
    "        num_examples_per_domain_per_label=num_examples_per_domain_per_label,\n",
    "        iterator_seed=iterator_seed,\n",
    "        dataset_seed=dataset_seed,\n",
    "        n_shot=n_shot,\n",
    "        n_way=n_way,\n",
    "        n_query=n_query,\n",
    "        train_val_test_k_factors=train_val_test_k_factors,\n",
    "        pickle_path=pickle_path,\n",
    "        x_transform_func=x_transform,\n",
    "    )\n",
    "\n",
    "    train, val, test = eaf.get_train(), eaf.get_val(), eaf.get_test()\n",
    "    train = Lazy_Iterable_Wrapper(train, episode_transform)\n",
    "    val = Lazy_Iterable_Wrapper(val, episode_transform)\n",
    "    test = Lazy_Iterable_Wrapper(test, episode_transform)\n",
    "\n",
    "    if source_or_target_dataset==\"source\":\n",
    "        train_original_source.append(train)\n",
    "        val_original_source.append(val)\n",
    "        test_original_source.append(test)\n",
    "\n",
    "        p.domains_source.extend(\n",
    "            [domain_prefix + str(u) for u in domains]\n",
    "        )\n",
    "    elif source_or_target_dataset==\"target\":\n",
    "        train_original_target.append(train)\n",
    "        val_original_target.append(val)\n",
    "        test_original_target.append(test)\n",
    "        p.domains_target.extend(\n",
    "            [domain_prefix + str(u) for u in domains]\n",
    "        )\n",
    "    else:\n",
    "        raise Exception(f\"invalid source_or_target_dataset: {source_or_target_dataset}\")\n",
    "    "
   ]
  },
  {
   "cell_type": "code",
   "execution_count": 13,
   "id": "fe266617",
   "metadata": {
    "execution": {
     "iopub.execute_input": "2022-03-13T22:32:06.836667Z",
     "iopub.status.busy": "2022-03-13T22:32:06.836420Z",
     "iopub.status.idle": "2022-03-13T22:33:25.367918Z",
     "shell.execute_reply": "2022-03-13T22:33:25.367467Z"
    },
    "papermill": {
     "duration": 78.556123,
     "end_time": "2022-03-13T22:33:25.368027",
     "exception": false,
     "start_time": "2022-03-13T22:32:06.811904",
     "status": "completed"
    },
    "tags": []
   },
   "outputs": [],
   "source": [
    "for ds in p.datasets:\n",
    "    add_dataset(**ds)"
   ]
  },
  {
   "cell_type": "code",
   "execution_count": 14,
   "id": "b90d65ac",
   "metadata": {
    "execution": {
     "iopub.execute_input": "2022-03-13T22:33:25.401305Z",
     "iopub.status.busy": "2022-03-13T22:33:25.401048Z",
     "iopub.status.idle": "2022-03-13T22:33:25.415670Z",
     "shell.execute_reply": "2022-03-13T22:33:25.415165Z"
    },
    "papermill": {
     "duration": 0.03042,
     "end_time": "2022-03-13T22:33:25.415771",
     "exception": false,
     "start_time": "2022-03-13T22:33:25.385351",
     "status": "completed"
    },
    "tags": []
   },
   "outputs": [],
   "source": [
    "# from steves_utils.CORES.utils import (\n",
    "#     ALL_NODES,\n",
    "#     ALL_NODES_MINIMUM_1000_EXAMPLES,\n",
    "#     ALL_DAYS\n",
    "# )\n",
    "\n",
    "# add_dataset(\n",
    "#     labels=ALL_NODES,\n",
    "#     domains = ALL_DAYS,\n",
    "#     num_examples_per_domain_per_label=100,\n",
    "#     pickle_path=os.path.join(get_datasets_base_path(), \"cores.stratified_ds.2022A.pkl\"),\n",
    "#     source_or_target_dataset=\"target\",\n",
    "#     x_transform_func=global_x_transform_func,\n",
    "#     domain_modifier=lambda u: f\"cores_{u}\"\n",
    "# )"
   ]
  },
  {
   "cell_type": "code",
   "execution_count": 15,
   "id": "76db484d",
   "metadata": {
    "execution": {
     "iopub.execute_input": "2022-03-13T22:33:25.450750Z",
     "iopub.status.busy": "2022-03-13T22:33:25.450498Z",
     "iopub.status.idle": "2022-03-13T22:33:25.465992Z",
     "shell.execute_reply": "2022-03-13T22:33:25.465518Z"
    },
    "papermill": {
     "duration": 0.030866,
     "end_time": "2022-03-13T22:33:25.466090",
     "exception": false,
     "start_time": "2022-03-13T22:33:25.435224",
     "status": "completed"
    },
    "tags": []
   },
   "outputs": [],
   "source": [
    "# from steves_utils.ORACLE.utils_v2 import (\n",
    "#     ALL_DISTANCES_FEET,\n",
    "#     ALL_RUNS,\n",
    "#     ALL_SERIAL_NUMBERS,\n",
    "# )\n",
    "\n",
    "\n",
    "# add_dataset(\n",
    "#     labels=ALL_SERIAL_NUMBERS,\n",
    "#     domains = list(set(ALL_DISTANCES_FEET) - {2,62}),\n",
    "#     num_examples_per_domain_per_label=100,\n",
    "#     pickle_path=os.path.join(get_datasets_base_path(), \"oracle.Run2_framed_2000Examples_stratified_ds.2022A.pkl\"),\n",
    "#     source_or_target_dataset=\"source\",\n",
    "#     x_transform_func=global_x_transform_func,\n",
    "#     domain_modifier=lambda u: f\"oracle1_{u}\"\n",
    "# )\n"
   ]
  },
  {
   "cell_type": "code",
   "execution_count": 16,
   "id": "97dea9d2",
   "metadata": {
    "execution": {
     "iopub.execute_input": "2022-03-13T22:33:25.505647Z",
     "iopub.status.busy": "2022-03-13T22:33:25.500266Z",
     "iopub.status.idle": "2022-03-13T22:33:25.515379Z",
     "shell.execute_reply": "2022-03-13T22:33:25.514989Z"
    },
    "papermill": {
     "duration": 0.030405,
     "end_time": "2022-03-13T22:33:25.515487",
     "exception": false,
     "start_time": "2022-03-13T22:33:25.485082",
     "status": "completed"
    },
    "tags": []
   },
   "outputs": [],
   "source": [
    "# from steves_utils.ORACLE.utils_v2 import (\n",
    "#     ALL_DISTANCES_FEET,\n",
    "#     ALL_RUNS,\n",
    "#     ALL_SERIAL_NUMBERS,\n",
    "# )\n",
    "\n",
    "\n",
    "# add_dataset(\n",
    "#     labels=ALL_SERIAL_NUMBERS,\n",
    "#     domains = list(set(ALL_DISTANCES_FEET) - {2,62,56}),\n",
    "#     num_examples_per_domain_per_label=100,\n",
    "#     pickle_path=os.path.join(get_datasets_base_path(), \"oracle.Run2_framed_2000Examples_stratified_ds.2022A.pkl\"),\n",
    "#     source_or_target_dataset=\"source\",\n",
    "#     x_transform_func=global_x_transform_func,\n",
    "#     domain_modifier=lambda u: f\"oracle2_{u}\"\n",
    "# )"
   ]
  },
  {
   "cell_type": "code",
   "execution_count": 17,
   "id": "6f289866",
   "metadata": {
    "execution": {
     "iopub.execute_input": "2022-03-13T22:33:25.552700Z",
     "iopub.status.busy": "2022-03-13T22:33:25.548607Z",
     "iopub.status.idle": "2022-03-13T22:33:25.561670Z",
     "shell.execute_reply": "2022-03-13T22:33:25.561253Z"
    },
    "papermill": {
     "duration": 0.028473,
     "end_time": "2022-03-13T22:33:25.561766",
     "exception": false,
     "start_time": "2022-03-13T22:33:25.533293",
     "status": "completed"
    },
    "tags": []
   },
   "outputs": [],
   "source": [
    "# add_dataset(\n",
    "#     labels=list(range(19)),\n",
    "#     domains = [0,1,2],\n",
    "#     num_examples_per_domain_per_label=100,\n",
    "#     pickle_path=os.path.join(get_datasets_base_path(), \"metehan.stratified_ds.2022A.pkl\"),\n",
    "#     source_or_target_dataset=\"target\",\n",
    "#     x_transform_func=global_x_transform_func,\n",
    "#     domain_modifier=lambda u: f\"met_{u}\"\n",
    "# )"
   ]
  },
  {
   "cell_type": "code",
   "execution_count": 18,
   "id": "86a863c3",
   "metadata": {
    "execution": {
     "iopub.execute_input": "2022-03-13T22:33:25.596649Z",
     "iopub.status.busy": "2022-03-13T22:33:25.596225Z",
     "iopub.status.idle": "2022-03-13T22:33:25.611031Z",
     "shell.execute_reply": "2022-03-13T22:33:25.610614Z"
    },
    "papermill": {
     "duration": 0.030381,
     "end_time": "2022-03-13T22:33:25.611126",
     "exception": false,
     "start_time": "2022-03-13T22:33:25.580745",
     "status": "completed"
    },
    "tags": []
   },
   "outputs": [],
   "source": [
    "# # from steves_utils.wisig.utils import (\n",
    "# #     ALL_NODES_MINIMUM_100_EXAMPLES,\n",
    "# #     ALL_NODES_MINIMUM_500_EXAMPLES,\n",
    "# #     ALL_NODES_MINIMUM_1000_EXAMPLES,\n",
    "# #     ALL_DAYS\n",
    "# # )\n",
    "\n",
    "# import steves_utils.wisig.utils as wisig\n",
    "\n",
    "\n",
    "# add_dataset(\n",
    "#     labels=wisig.ALL_NODES_MINIMUM_100_EXAMPLES,\n",
    "#     domains = wisig.ALL_DAYS,\n",
    "#     num_examples_per_domain_per_label=100,\n",
    "#     pickle_path=os.path.join(get_datasets_base_path(), \"wisig.node3-19.stratified_ds.2022A.pkl\"),\n",
    "#     source_or_target_dataset=\"target\",\n",
    "#     x_transform_func=global_x_transform_func,\n",
    "#     domain_modifier=lambda u: f\"wisig_{u}\"\n",
    "# )"
   ]
  },
  {
   "cell_type": "code",
   "execution_count": 19,
   "id": "fd5442bc",
   "metadata": {
    "execution": {
     "iopub.execute_input": "2022-03-13T22:33:25.647832Z",
     "iopub.status.busy": "2022-03-13T22:33:25.646056Z",
     "iopub.status.idle": "2022-03-13T22:33:25.661256Z",
     "shell.execute_reply": "2022-03-13T22:33:25.660819Z"
    },
    "papermill": {
     "duration": 0.034052,
     "end_time": "2022-03-13T22:33:25.661359",
     "exception": false,
     "start_time": "2022-03-13T22:33:25.627307",
     "status": "completed"
    },
    "tags": []
   },
   "outputs": [],
   "source": [
    "###################################\n",
    "# Build the dataset\n",
    "###################################\n",
    "train_original_source = Iterable_Aggregator(train_original_source, p.seed)\n",
    "val_original_source = Iterable_Aggregator(val_original_source, p.seed)\n",
    "test_original_source = Iterable_Aggregator(test_original_source, p.seed)\n",
    "\n",
    "\n",
    "train_original_target = Iterable_Aggregator(train_original_target, p.seed)\n",
    "val_original_target = Iterable_Aggregator(val_original_target, p.seed)\n",
    "test_original_target = Iterable_Aggregator(test_original_target, p.seed)\n",
    "\n",
    "# For CNN We only use X and Y. And we only train on the source.\n",
    "# Properly form the data using a transform lambda and Lazy_Iterable_Wrapper. Finally wrap them in a dataloader\n",
    "\n",
    "transform_lambda = lambda ex: ex[1] # Original is (<domain>, <episode>) so we strip down to episode only\n",
    "\n",
    "train_processed_source = Lazy_Iterable_Wrapper(train_original_source, transform_lambda)\n",
    "val_processed_source   = Lazy_Iterable_Wrapper(val_original_source, transform_lambda)\n",
    "test_processed_source  = Lazy_Iterable_Wrapper(test_original_source, transform_lambda)\n",
    "\n",
    "train_processed_target = Lazy_Iterable_Wrapper(train_original_target, transform_lambda)\n",
    "val_processed_target   = Lazy_Iterable_Wrapper(val_original_target, transform_lambda)\n",
    "test_processed_target  = Lazy_Iterable_Wrapper(test_original_target, transform_lambda)\n",
    "\n",
    "datasets = EasyDict({\n",
    "    \"source\": {\n",
    "        \"original\": {\"train\":train_original_source, \"val\":val_original_source, \"test\":test_original_source},\n",
    "        \"processed\": {\"train\":train_processed_source, \"val\":val_processed_source, \"test\":test_processed_source}\n",
    "    },\n",
    "    \"target\": {\n",
    "        \"original\": {\"train\":train_original_target, \"val\":val_original_target, \"test\":test_original_target},\n",
    "        \"processed\": {\"train\":train_processed_target, \"val\":val_processed_target, \"test\":test_processed_target}\n",
    "    },\n",
    "})"
   ]
  },
  {
   "cell_type": "code",
   "execution_count": 20,
   "id": "5b3c01fc",
   "metadata": {
    "execution": {
     "iopub.execute_input": "2022-03-13T22:33:25.700776Z",
     "iopub.status.busy": "2022-03-13T22:33:25.698831Z",
     "iopub.status.idle": "2022-03-13T22:33:39.163962Z",
     "shell.execute_reply": "2022-03-13T22:33:39.164277Z"
    },
    "papermill": {
     "duration": 13.483202,
     "end_time": "2022-03-13T22:33:39.164377",
     "exception": false,
     "start_time": "2022-03-13T22:33:25.681175",
     "status": "completed"
    },
    "tags": []
   },
   "outputs": [
    {
     "name": "stdout",
     "output_type": "stream",
     "text": [
      "{'ORACLE.run1_26', 'ORACLE.run1_20', 'ORACLE.run1_38', 'ORACLE.run1_44', 'ORACLE.run1_32', 'ORACLE.run1_14', 'ORACLE.run1_8', 'ORACLE.run1_50'}\n"
     ]
    },
    {
     "name": "stdout",
     "output_type": "stream",
     "text": [
      "{'CORES_5', 'CORES_2', 'CORES_1', 'CORES_3', 'CORES_4'}\n"
     ]
    },
    {
     "name": "stdout",
     "output_type": "stream",
     "text": [
      "tensor([[[-0.0219, -0.3946,  0.4055,  ..., -0.3726, -0.3178,  0.6357],\n",
      "         [-0.6685,  0.2630, -0.1425,  ...,  0.0767, -1.0960,  0.1534]],\n",
      "\n",
      "        [[ 0.4965, -0.7904, -1.5302,  ...,  0.4864,  0.0608, -0.3445],\n",
      "         [-0.1520, -0.4459, -1.5808,  ..., -0.5168,  0.3344, -0.5675]],\n",
      "\n",
      "        [[-0.9659, -0.5089,  0.1142,  ...,  0.1350,  1.5786,  1.2151],\n",
      "         [-0.2181,  0.3739, -0.4154,  ..., -1.6721,  0.0000, -0.0312]],\n",
      "\n",
      "        ...,\n",
      "\n",
      "        [[-0.0140,  0.7067, -0.0840,  ..., -0.9517, -1.5324,  0.9866],\n",
      "         [ 1.3435, -0.9656, -0.5948,  ..., -0.1539,  0.2309, -1.0426]],\n",
      "\n",
      "        [[-0.9809, -1.5211, -1.8267,  ..., -0.9454,  0.6113,  0.2203],\n",
      "         [ 1.2581,  0.0355,  1.2581,  ..., -0.3554,  0.8174, -0.2132]],\n",
      "\n",
      "        [[ 1.4691, -0.7845, -0.6632,  ..., -0.8915, -0.4422, -0.0071],\n",
      "         [-0.5206,  1.0983,  0.0071,  ...,  1.6973,  0.2496,  1.1839]]])\n"
     ]
    }
   ],
   "source": [
    "from steves_utils.transforms import get_average_magnitude, get_average_power\n",
    "\n",
    "print(set([u for u,_ in val_original_source]))\n",
    "print(set([u for u,_ in val_original_target]))\n",
    "\n",
    "s_x, s_y, q_x, q_y, _ = next(iter(train_processed_source))\n",
    "print(s_x)\n",
    "\n",
    "# for ds in [\n",
    "#     train_processed_source,\n",
    "#     val_processed_source,\n",
    "#     test_processed_source,\n",
    "#     train_processed_target,\n",
    "#     val_processed_target,\n",
    "#     test_processed_target\n",
    "# ]:\n",
    "#     for s_x, s_y, q_x, q_y, _ in ds:\n",
    "#         for X in (s_x, q_x):\n",
    "#             for x in X:\n",
    "#                 assert np.isclose(get_average_magnitude(x.numpy()), 1.0)\n",
    "#                 assert np.isclose(get_average_power(x.numpy()), 1.0)\n",
    "                "
   ]
  },
  {
   "cell_type": "code",
   "execution_count": 21,
   "id": "bbdacba1",
   "metadata": {
    "execution": {
     "iopub.execute_input": "2022-03-13T22:33:39.206007Z",
     "iopub.status.busy": "2022-03-13T22:33:39.199569Z",
     "iopub.status.idle": "2022-03-13T22:33:39.258085Z",
     "shell.execute_reply": "2022-03-13T22:33:39.257594Z"
    },
    "papermill": {
     "duration": 0.078181,
     "end_time": "2022-03-13T22:33:39.258190",
     "exception": false,
     "start_time": "2022-03-13T22:33:39.180009",
     "status": "completed"
    },
    "tags": []
   },
   "outputs": [
    {
     "name": "stdout",
     "output_type": "stream",
     "text": [
      "(2, 256)\n"
     ]
    }
   ],
   "source": [
    "###################################\n",
    "# Build the model\n",
    "###################################\n",
    "model = Steves_Prototypical_Network(x_net, device=p.device, x_shape=(2,256))\n",
    "optimizer = Adam(params=model.parameters(), lr=p.lr)"
   ]
  },
  {
   "cell_type": "code",
   "execution_count": 22,
   "id": "22b39ac5",
   "metadata": {
    "execution": {
     "iopub.execute_input": "2022-03-13T22:33:39.296794Z",
     "iopub.status.busy": "2022-03-13T22:33:39.296540Z",
     "iopub.status.idle": "2022-03-14T00:03:22.114632Z",
     "shell.execute_reply": "2022-03-14T00:03:22.114398Z"
    },
    "papermill": {
     "duration": 5382.834969,
     "end_time": "2022-03-14T00:03:22.114690",
     "exception": false,
     "start_time": "2022-03-13T22:33:39.279721",
     "status": "completed"
    },
    "tags": []
   },
   "outputs": [
    {
     "name": "stdout",
     "output_type": "stream",
     "text": [
      "epoch: 1, [batch: 1 / 33600], examples_per_second: 10.0926, train_label_loss: 2.8242, \n"
     ]
    },
    {
     "name": "stdout",
     "output_type": "stream",
     "text": [
      "epoch: 1, [batch: 3360 / 33600], examples_per_second: 3155.8077, train_label_loss: 0.9980, \n"
     ]
    },
    {
     "name": "stdout",
     "output_type": "stream",
     "text": [
      "epoch: 1, [batch: 6720 / 33600], examples_per_second: 3151.9126, train_label_loss: 1.6168, \n"
     ]
    },
    {
     "name": "stdout",
     "output_type": "stream",
     "text": [
      "epoch: 1, [batch: 10080 / 33600], examples_per_second: 3143.7028, train_label_loss: 0.7598, \n"
     ]
    },
    {
     "name": "stdout",
     "output_type": "stream",
     "text": [
      "epoch: 1, [batch: 13440 / 33600], examples_per_second: 3142.2220, train_label_loss: 0.8059, \n"
     ]
    },
    {
     "name": "stdout",
     "output_type": "stream",
     "text": [
      "epoch: 1, [batch: 16800 / 33600], examples_per_second: 3157.0916, train_label_loss: 0.7692, \n"
     ]
    },
    {
     "name": "stdout",
     "output_type": "stream",
     "text": [
      "epoch: 1, [batch: 20160 / 33600], examples_per_second: 3157.5151, train_label_loss: 0.7086, \n"
     ]
    },
    {
     "name": "stdout",
     "output_type": "stream",
     "text": [
      "epoch: 1, [batch: 23520 / 33600], examples_per_second: 3135.7886, train_label_loss: 0.6452, \n"
     ]
    },
    {
     "name": "stdout",
     "output_type": "stream",
     "text": [
      "epoch: 1, [batch: 26880 / 33600], examples_per_second: 3156.9263, train_label_loss: 0.7721, \n"
     ]
    },
    {
     "name": "stdout",
     "output_type": "stream",
     "text": [
      "epoch: 1, [batch: 30240 / 33600], examples_per_second: 3151.8265, train_label_loss: 1.1704, \n"
     ]
    },
    {
     "name": "stdout",
     "output_type": "stream",
     "text": [
      "=============================================================\n",
      "epoch: 1, source_val_acc_label: 0.6546, target_val_acc_label: 0.9587, source_val_label_loss: 0.9439, target_val_label_loss: 0.2411, \n",
      "=============================================================\n"
     ]
    },
    {
     "name": "stdout",
     "output_type": "stream",
     "text": [
      "New best\n"
     ]
    },
    {
     "name": "stdout",
     "output_type": "stream",
     "text": [
      "epoch: 2, [batch: 1 / 33600], examples_per_second: 1.1835, train_label_loss: 1.0351, \n"
     ]
    },
    {
     "name": "stdout",
     "output_type": "stream",
     "text": [
      "epoch: 2, [batch: 3360 / 33600], examples_per_second: 3177.3537, train_label_loss: 0.7130, \n"
     ]
    },
    {
     "name": "stdout",
     "output_type": "stream",
     "text": [
      "epoch: 2, [batch: 6720 / 33600], examples_per_second: 3172.4227, train_label_loss: 0.9656, \n"
     ]
    },
    {
     "name": "stdout",
     "output_type": "stream",
     "text": [
      "epoch: 2, [batch: 10080 / 33600], examples_per_second: 3178.7071, train_label_loss: 0.5155, \n"
     ]
    },
    {
     "name": "stdout",
     "output_type": "stream",
     "text": [
      "epoch: 2, [batch: 13440 / 33600], examples_per_second: 3165.9092, train_label_loss: 0.5436, \n"
     ]
    },
    {
     "name": "stdout",
     "output_type": "stream",
     "text": [
      "epoch: 2, [batch: 16800 / 33600], examples_per_second: 3185.0933, train_label_loss: 1.0209, \n"
     ]
    },
    {
     "name": "stdout",
     "output_type": "stream",
     "text": [
      "epoch: 2, [batch: 20160 / 33600], examples_per_second: 3181.5397, train_label_loss: 1.1457, \n"
     ]
    },
    {
     "name": "stdout",
     "output_type": "stream",
     "text": [
      "epoch: 2, [batch: 23520 / 33600], examples_per_second: 3168.6122, train_label_loss: 0.4718, \n"
     ]
    },
    {
     "name": "stdout",
     "output_type": "stream",
     "text": [
      "epoch: 2, [batch: 26880 / 33600], examples_per_second: 3182.2969, train_label_loss: 0.2240, \n"
     ]
    },
    {
     "name": "stdout",
     "output_type": "stream",
     "text": [
      "epoch: 2, [batch: 30240 / 33600], examples_per_second: 3180.8898, train_label_loss: 0.8199, \n"
     ]
    },
    {
     "name": "stdout",
     "output_type": "stream",
     "text": [
      "=============================================================\n",
      "epoch: 2, source_val_acc_label: 0.7047, target_val_acc_label: 0.9666, source_val_label_loss: 0.7972, target_val_label_loss: 0.2163, \n",
      "=============================================================\n"
     ]
    },
    {
     "name": "stdout",
     "output_type": "stream",
     "text": [
      "New best\n"
     ]
    },
    {
     "name": "stdout",
     "output_type": "stream",
     "text": [
      "epoch: 3, [batch: 1 / 33600], examples_per_second: 1.1892, train_label_loss: 0.3797, \n"
     ]
    },
    {
     "name": "stdout",
     "output_type": "stream",
     "text": [
      "epoch: 3, [batch: 3360 / 33600], examples_per_second: 3169.2901, train_label_loss: 0.5259, \n"
     ]
    },
    {
     "name": "stdout",
     "output_type": "stream",
     "text": [
      "epoch: 3, [batch: 6720 / 33600], examples_per_second: 3179.4188, train_label_loss: 0.6886, \n"
     ]
    },
    {
     "name": "stdout",
     "output_type": "stream",
     "text": [
      "epoch: 3, [batch: 10080 / 33600], examples_per_second: 3178.8359, train_label_loss: 0.3369, \n"
     ]
    },
    {
     "name": "stdout",
     "output_type": "stream",
     "text": [
      "epoch: 3, [batch: 13440 / 33600], examples_per_second: 3169.2971, train_label_loss: 0.5781, \n"
     ]
    },
    {
     "name": "stdout",
     "output_type": "stream",
     "text": [
      "epoch: 3, [batch: 16800 / 33600], examples_per_second: 3184.4763, train_label_loss: 0.8837, \n"
     ]
    },
    {
     "name": "stdout",
     "output_type": "stream",
     "text": [
      "epoch: 3, [batch: 20160 / 33600], examples_per_second: 3187.3264, train_label_loss: 1.0724, \n"
     ]
    },
    {
     "name": "stdout",
     "output_type": "stream",
     "text": [
      "epoch: 3, [batch: 23520 / 33600], examples_per_second: 3171.0744, train_label_loss: 0.7567, \n"
     ]
    },
    {
     "name": "stdout",
     "output_type": "stream",
     "text": [
      "epoch: 3, [batch: 26880 / 33600], examples_per_second: 3177.5916, train_label_loss: 0.4032, \n"
     ]
    },
    {
     "name": "stdout",
     "output_type": "stream",
     "text": [
      "epoch: 3, [batch: 30240 / 33600], examples_per_second: 3191.2422, train_label_loss: 0.5920, \n"
     ]
    },
    {
     "name": "stdout",
     "output_type": "stream",
     "text": [
      "=============================================================\n",
      "epoch: 3, source_val_acc_label: 0.7287, target_val_acc_label: 0.9747, source_val_label_loss: 0.7506, target_val_label_loss: 0.2235, \n",
      "=============================================================\n"
     ]
    },
    {
     "name": "stdout",
     "output_type": "stream",
     "text": [
      "epoch: 4, [batch: 1 / 33600], examples_per_second: 1.1884, train_label_loss: 0.4826, \n"
     ]
    },
    {
     "name": "stdout",
     "output_type": "stream",
     "text": [
      "epoch: 4, [batch: 3360 / 33600], examples_per_second: 3169.8113, train_label_loss: 0.5515, \n"
     ]
    },
    {
     "name": "stdout",
     "output_type": "stream",
     "text": [
      "epoch: 4, [batch: 6720 / 33600], examples_per_second: 3181.6715, train_label_loss: 1.1393, \n"
     ]
    },
    {
     "name": "stdout",
     "output_type": "stream",
     "text": [
      "epoch: 4, [batch: 10080 / 33600], examples_per_second: 3182.3074, train_label_loss: 0.6062, \n"
     ]
    },
    {
     "name": "stdout",
     "output_type": "stream",
     "text": [
      "epoch: 4, [batch: 13440 / 33600], examples_per_second: 3176.5664, train_label_loss: 0.3490, \n"
     ]
    },
    {
     "name": "stdout",
     "output_type": "stream",
     "text": [
      "epoch: 4, [batch: 16800 / 33600], examples_per_second: 3179.3630, train_label_loss: 0.6807, \n"
     ]
    },
    {
     "name": "stdout",
     "output_type": "stream",
     "text": [
      "epoch: 4, [batch: 20160 / 33600], examples_per_second: 3188.1608, train_label_loss: 0.5981, \n"
     ]
    },
    {
     "name": "stdout",
     "output_type": "stream",
     "text": [
      "epoch: 4, [batch: 23520 / 33600], examples_per_second: 3173.7630, train_label_loss: 0.3549, \n"
     ]
    },
    {
     "name": "stdout",
     "output_type": "stream",
     "text": [
      "epoch: 4, [batch: 26880 / 33600], examples_per_second: 3180.4131, train_label_loss: 0.6068, \n"
     ]
    },
    {
     "name": "stdout",
     "output_type": "stream",
     "text": [
      "epoch: 4, [batch: 30240 / 33600], examples_per_second: 3183.3935, train_label_loss: 0.4219, \n"
     ]
    },
    {
     "name": "stdout",
     "output_type": "stream",
     "text": [
      "=============================================================\n",
      "epoch: 4, source_val_acc_label: 0.7400, target_val_acc_label: 0.9744, source_val_label_loss: 0.7272, target_val_label_loss: 0.2335, \n",
      "=============================================================\n"
     ]
    },
    {
     "name": "stdout",
     "output_type": "stream",
     "text": [
      "epoch: 5, [batch: 1 / 33600], examples_per_second: 1.1878, train_label_loss: 0.8055, \n"
     ]
    },
    {
     "name": "stdout",
     "output_type": "stream",
     "text": [
      "epoch: 5, [batch: 3360 / 33600], examples_per_second: 3170.4298, train_label_loss: 0.4695, \n"
     ]
    },
    {
     "name": "stdout",
     "output_type": "stream",
     "text": [
      "epoch: 5, [batch: 6720 / 33600], examples_per_second: 3166.1625, train_label_loss: 0.2439, \n"
     ]
    },
    {
     "name": "stdout",
     "output_type": "stream",
     "text": [
      "epoch: 5, [batch: 10080 / 33600], examples_per_second: 3180.6182, train_label_loss: 0.5063, \n"
     ]
    },
    {
     "name": "stdout",
     "output_type": "stream",
     "text": [
      "epoch: 5, [batch: 13440 / 33600], examples_per_second: 3169.6798, train_label_loss: 0.7458, \n"
     ]
    },
    {
     "name": "stdout",
     "output_type": "stream",
     "text": [
      "epoch: 5, [batch: 16800 / 33600], examples_per_second: 3179.3940, train_label_loss: 0.5570, \n"
     ]
    },
    {
     "name": "stdout",
     "output_type": "stream",
     "text": [
      "epoch: 5, [batch: 20160 / 33600], examples_per_second: 3182.3186, train_label_loss: 0.7355, \n"
     ]
    },
    {
     "name": "stdout",
     "output_type": "stream",
     "text": [
      "epoch: 5, [batch: 23520 / 33600], examples_per_second: 3164.1034, train_label_loss: 0.3218, \n"
     ]
    },
    {
     "name": "stdout",
     "output_type": "stream",
     "text": [
      "epoch: 5, [batch: 26880 / 33600], examples_per_second: 3179.4242, train_label_loss: 0.2430, \n"
     ]
    },
    {
     "name": "stdout",
     "output_type": "stream",
     "text": [
      "epoch: 5, [batch: 30240 / 33600], examples_per_second: 3176.1734, train_label_loss: 0.6768, \n"
     ]
    },
    {
     "name": "stdout",
     "output_type": "stream",
     "text": [
      "=============================================================\n",
      "epoch: 5, source_val_acc_label: 0.7386, target_val_acc_label: 0.9691, source_val_label_loss: 0.7340, target_val_label_loss: 0.2497, \n",
      "=============================================================\n"
     ]
    },
    {
     "name": "stdout",
     "output_type": "stream",
     "text": [
      "epoch: 6, [batch: 1 / 33600], examples_per_second: 1.1898, train_label_loss: 0.4256, \n"
     ]
    },
    {
     "name": "stdout",
     "output_type": "stream",
     "text": [
      "epoch: 6, [batch: 3360 / 33600], examples_per_second: 3172.0375, train_label_loss: 0.7511, \n"
     ]
    },
    {
     "name": "stdout",
     "output_type": "stream",
     "text": [
      "epoch: 6, [batch: 6720 / 33600], examples_per_second: 3178.5039, train_label_loss: 0.4106, \n"
     ]
    },
    {
     "name": "stdout",
     "output_type": "stream",
     "text": [
      "epoch: 6, [batch: 10080 / 33600], examples_per_second: 3175.3703, train_label_loss: 0.4560, \n"
     ]
    },
    {
     "name": "stdout",
     "output_type": "stream",
     "text": [
      "epoch: 6, [batch: 13440 / 33600], examples_per_second: 3166.3498, train_label_loss: 0.2890, \n"
     ]
    },
    {
     "name": "stdout",
     "output_type": "stream",
     "text": [
      "epoch: 6, [batch: 16800 / 33600], examples_per_second: 3172.2787, train_label_loss: 0.2770, \n"
     ]
    },
    {
     "name": "stdout",
     "output_type": "stream",
     "text": [
      "epoch: 6, [batch: 20160 / 33600], examples_per_second: 3187.0388, train_label_loss: 0.5180, \n"
     ]
    },
    {
     "name": "stdout",
     "output_type": "stream",
     "text": [
      "epoch: 6, [batch: 23520 / 33600], examples_per_second: 3167.4882, train_label_loss: 0.4162, \n"
     ]
    },
    {
     "name": "stdout",
     "output_type": "stream",
     "text": [
      "epoch: 6, [batch: 26880 / 33600], examples_per_second: 3186.4874, train_label_loss: 0.7245, \n"
     ]
    },
    {
     "name": "stdout",
     "output_type": "stream",
     "text": [
      "epoch: 6, [batch: 30240 / 33600], examples_per_second: 3183.5905, train_label_loss: 0.3097, \n"
     ]
    },
    {
     "name": "stdout",
     "output_type": "stream",
     "text": [
      "=============================================================\n",
      "epoch: 6, source_val_acc_label: 0.7399, target_val_acc_label: 0.9747, source_val_label_loss: 0.7320, target_val_label_loss: 0.2347, \n",
      "=============================================================\n"
     ]
    },
    {
     "name": "stdout",
     "output_type": "stream",
     "text": [
      "Patience (3) exhausted\n"
     ]
    }
   ],
   "source": [
    "###################################\n",
    "# train\n",
    "###################################\n",
    "jig = PTN_Train_Eval_Test_Jig(model, p.BEST_MODEL_PATH, p.device)\n",
    "\n",
    "jig.train(\n",
    "    train_iterable=datasets.source.processed.train,\n",
    "    source_val_iterable=datasets.source.processed.val,\n",
    "    target_val_iterable=datasets.target.processed.val,\n",
    "    num_epochs=p.n_epoch,\n",
    "    num_logs_per_epoch=p.NUM_LOGS_PER_EPOCH,\n",
    "    patience=p.patience,\n",
    "    optimizer=optimizer,\n",
    "    criteria_for_best=p.criteria_for_best,\n",
    ")"
   ]
  },
  {
   "cell_type": "code",
   "execution_count": 23,
   "id": "31e8fabf",
   "metadata": {
    "execution": {
     "iopub.execute_input": "2022-03-14T00:03:22.171512Z",
     "iopub.status.busy": "2022-03-14T00:03:22.171114Z",
     "iopub.status.idle": "2022-03-14T00:03:22.190004Z",
     "shell.execute_reply": "2022-03-14T00:03:22.189538Z"
    },
    "papermill": {
     "duration": 0.048522,
     "end_time": "2022-03-14T00:03:22.190094",
     "exception": false,
     "start_time": "2022-03-14T00:03:22.141572",
     "status": "completed"
    },
    "tags": []
   },
   "outputs": [],
   "source": [
    "total_experiment_time_secs = time.time() - start_time_secs"
   ]
  },
  {
   "cell_type": "code",
   "execution_count": 24,
   "id": "87b9595b",
   "metadata": {
    "execution": {
     "iopub.execute_input": "2022-03-14T00:03:22.252159Z",
     "iopub.status.busy": "2022-03-14T00:03:22.247913Z",
     "iopub.status.idle": "2022-03-14T00:07:28.541523Z",
     "shell.execute_reply": "2022-03-14T00:07:28.541939Z"
    },
    "papermill": {
     "duration": 246.322483,
     "end_time": "2022-03-14T00:07:28.542071",
     "exception": false,
     "start_time": "2022-03-14T00:03:22.219588",
     "status": "completed"
    },
    "tags": []
   },
   "outputs": [],
   "source": [
    "###################################\n",
    "# Evaluate the model\n",
    "###################################\n",
    "source_test_label_accuracy, source_test_label_loss = jig.test(datasets.source.processed.test)\n",
    "target_test_label_accuracy, target_test_label_loss = jig.test(datasets.target.processed.test)\n",
    "\n",
    "source_val_label_accuracy, source_val_label_loss = jig.test(datasets.source.processed.val)\n",
    "target_val_label_accuracy, target_val_label_loss = jig.test(datasets.target.processed.val)\n",
    "\n",
    "history = jig.get_history()\n",
    "\n",
    "total_epochs_trained = len(history[\"epoch_indices\"])\n",
    "\n",
    "val_dl = Iterable_Aggregator((datasets.source.original.val,datasets.target.original.val))\n",
    "\n",
    "confusion = ptn_confusion_by_domain_over_dataloader(model, p.device, val_dl)\n",
    "per_domain_accuracy = per_domain_accuracy_from_confusion(confusion)\n",
    "\n",
    "# Add a key to per_domain_accuracy for if it was a source domain\n",
    "for domain, accuracy in per_domain_accuracy.items():\n",
    "    per_domain_accuracy[domain] = {\n",
    "        \"accuracy\": accuracy,\n",
    "        \"source?\": domain in p.domains_source\n",
    "    }\n",
    "\n",
    "# Do an independent accuracy assesment JUST TO BE SURE!\n",
    "# _source_test_label_accuracy = independent_accuracy_assesment(model, datasets.source.processed.test, p.device)\n",
    "# _target_test_label_accuracy = independent_accuracy_assesment(model, datasets.target.processed.test, p.device)\n",
    "# _source_val_label_accuracy = independent_accuracy_assesment(model, datasets.source.processed.val, p.device)\n",
    "# _target_val_label_accuracy = independent_accuracy_assesment(model, datasets.target.processed.val, p.device)\n",
    "\n",
    "# assert(_source_test_label_accuracy == source_test_label_accuracy)\n",
    "# assert(_target_test_label_accuracy == target_test_label_accuracy)\n",
    "# assert(_source_val_label_accuracy == source_val_label_accuracy)\n",
    "# assert(_target_val_label_accuracy == target_val_label_accuracy)\n",
    "\n",
    "experiment = {\n",
    "    \"experiment_name\": p.experiment_name,\n",
    "    \"parameters\": dict(p),\n",
    "    \"results\": {\n",
    "        \"source_test_label_accuracy\": source_test_label_accuracy,\n",
    "        \"source_test_label_loss\": source_test_label_loss,\n",
    "        \"target_test_label_accuracy\": target_test_label_accuracy,\n",
    "        \"target_test_label_loss\": target_test_label_loss,\n",
    "        \"source_val_label_accuracy\": source_val_label_accuracy,\n",
    "        \"source_val_label_loss\": source_val_label_loss,\n",
    "        \"target_val_label_accuracy\": target_val_label_accuracy,\n",
    "        \"target_val_label_loss\": target_val_label_loss,\n",
    "        \"total_epochs_trained\": total_epochs_trained,\n",
    "        \"total_experiment_time_secs\": total_experiment_time_secs,\n",
    "        \"confusion\": confusion,\n",
    "        \"per_domain_accuracy\": per_domain_accuracy,\n",
    "    },\n",
    "    \"history\": history,\n",
    "    \"dataset_metrics\": get_dataset_metrics(datasets, \"ptn\"),\n",
    "}"
   ]
  },
  {
   "cell_type": "code",
   "execution_count": 25,
   "id": "54a21829",
   "metadata": {
    "execution": {
     "iopub.execute_input": "2022-03-14T00:07:28.603473Z",
     "iopub.status.busy": "2022-03-14T00:07:28.602746Z",
     "iopub.status.idle": "2022-03-14T00:07:28.787439Z",
     "shell.execute_reply": "2022-03-14T00:07:28.787845Z"
    },
    "papermill": {
     "duration": 0.213699,
     "end_time": "2022-03-14T00:07:28.787973",
     "exception": false,
     "start_time": "2022-03-14T00:07:28.574274",
     "status": "completed"
    },
    "tags": []
   },
   "outputs": [
    {
     "data": {
      "image/png": "[encoded data removed]",
      "text/plain": [
       "<Figure size 1080x504 with 1 Axes>"
      ]
     },
     "metadata": {
      "needs_background": "light"
     },
     "output_type": "display_data"
    }
   ],
   "source": [
    "ax = get_loss_curve(experiment)\n",
    "plt.show()"
   ]
  },
  {
   "cell_type": "code",
   "execution_count": 26,
   "id": "fd8a0f60",
   "metadata": {
    "execution": {
     "iopub.execute_input": "2022-03-14T00:07:28.853226Z",
     "iopub.status.busy": "2022-03-14T00:07:28.851026Z",
     "iopub.status.idle": "2022-03-14T00:07:29.030819Z",
     "shell.execute_reply": "2022-03-14T00:07:29.030553Z"
    },
    "papermill": {
     "duration": 0.209459,
     "end_time": "2022-03-14T00:07:29.030879",
     "exception": false,
     "start_time": "2022-03-14T00:07:28.821420",
     "status": "completed"
    },
    "tags": []
   },
   "outputs": [
    {
     "data": {
      "text/plain": [
       "<matplotlib.axes._subplots.AxesSubplot at 0x7ff46bb50850>"
      ]
     },
     "execution_count": 26,
     "metadata": {},
     "output_type": "execute_result"
    },
    {
     "data": {
      "image/png": "[encoded data removed]",
      "text/plain": [
       "<Figure size 1080x504 with 1 Axes>"
      ]
     },
     "metadata": {
      "needs_background": "light"
     },
     "output_type": "display_data"
    }
   ],
   "source": [
    "get_results_table(experiment)"
   ]
  },
  {
   "cell_type": "code",
   "execution_count": 27,
   "id": "cf8dc689",
   "metadata": {
    "execution": {
     "iopub.execute_input": "2022-03-14T00:07:29.095809Z",
     "iopub.status.busy": "2022-03-14T00:07:29.095557Z",
     "iopub.status.idle": "2022-03-14T00:07:29.295977Z",
     "shell.execute_reply": "2022-03-14T00:07:29.295486Z"
    },
    "papermill": {
     "duration": 0.231108,
     "end_time": "2022-03-14T00:07:29.296083",
     "exception": false,
     "start_time": "2022-03-14T00:07:29.064975",
     "status": "completed"
    },
    "tags": []
   },
   "outputs": [
    {
     "data": {
      "text/plain": [
       "<matplotlib.axes._subplots.AxesSubplot at 0x7ff46bb25880>"
      ]
     },
     "execution_count": 27,
     "metadata": {},
     "output_type": "execute_result"
    },
    {
     "data": {
      "image/png": "[encoded data removed]",
      "text/plain": [
       "<Figure size 1080x504 with 1 Axes>"
      ]
     },
     "metadata": {
      "needs_background": "light"
     },
     "output_type": "display_data"
    }
   ],
   "source": [
    "get_domain_accuracies(experiment)"
   ]
  },
  {
   "cell_type": "code",
   "execution_count": 28,
   "id": "a74ae082",
   "metadata": {
    "execution": {
     "iopub.execute_input": "2022-03-14T00:07:29.361489Z",
     "iopub.status.busy": "2022-03-14T00:07:29.361237Z",
     "iopub.status.idle": "2022-03-14T00:07:29.373842Z",
     "shell.execute_reply": "2022-03-14T00:07:29.373363Z"
    },
    "papermill": {
     "duration": 0.044027,
     "end_time": "2022-03-14T00:07:29.373943",
     "exception": false,
     "start_time": "2022-03-14T00:07:29.329916",
     "status": "completed"
    },
    "tags": []
   },
   "outputs": [
    {
     "name": "stdout",
     "output_type": "stream",
     "text": [
      "Source Test Label Accuracy: 0.7030989583333334 Target Test Label Accuracy: 0.9671875\n",
      "Source Val Label Accuracy: 0.7046614583333334 Target Val Label Accuracy: 0.9665625\n"
     ]
    }
   ],
   "source": [
    "print(\"Source Test Label Accuracy:\", experiment[\"results\"][\"source_test_label_accuracy\"], \"Target Test Label Accuracy:\", experiment[\"results\"][\"target_test_label_accuracy\"])\n",
    "print(\"Source Val Label Accuracy:\", experiment[\"results\"][\"source_val_label_accuracy\"], \"Target Val Label Accuracy:\", experiment[\"results\"][\"target_val_label_accuracy\"])"
   ]
  },
  {
   "cell_type": "code",
   "execution_count": 29,
   "id": "dacca602",
   "metadata": {
    "execution": {
     "iopub.execute_input": "2022-03-14T00:07:29.448494Z",
     "iopub.status.busy": "2022-03-14T00:07:29.445362Z",
     "iopub.status.idle": "2022-03-14T00:07:29.456240Z",
     "shell.execute_reply": "2022-03-14T00:07:29.456634Z"
    },
    "papermill": {
     "duration": 0.047731,
     "end_time": "2022-03-14T00:07:29.456756",
     "exception": false,
     "start_time": "2022-03-14T00:07:29.409025",
     "status": "completed"
    },
    "tags": [
     "experiment_json"
    ]
   },
   "outputs": [
    {
     "data": {
      "text/plain": [
       "'{\"experiment_name\": \"tl_1_cores-oracle.run1\", \"parameters\": {\"experiment_name\": \"tl_1_cores-oracle.run1\", \"device\": \"cuda\", \"lr\": 0.001, \"seed\": 1337, \"dataset_seed\": 1337, \"n_shot\": 3, \"n_query\": 2, \"train_k_factor\": 3, \"val_k_factor\": 2, \"test_k_factor\": 2, \"torch_default_dtype\": \"torch.float32\", \"n_epoch\": 50, \"patience\": 3, \"criteria_for_best\": \"target_loss\", \"x_net\": [{\"class\": \"nnReshape\", \"kargs\": {\"shape\": [-1, 1, 2, 256]}}, {\"class\": \"Conv2d\", \"kargs\": {\"in_channels\": 1, \"out_channels\": 256, \"kernel_size\": [1, 7], \"bias\": false, \"padding\": [0, 3]}}, {\"class\": \"ReLU\", \"kargs\": {\"inplace\": true}}, {\"class\": \"BatchNorm2d\", \"kargs\": {\"num_features\": 256}}, {\"class\": \"Conv2d\", \"kargs\": {\"in_channels\": 256, \"out_channels\": 80, \"kernel_size\": [2, 7], \"bias\": true, \"padding\": [0, 3]}}, {\"class\": \"ReLU\", \"kargs\": {\"inplace\": true}}, {\"class\": \"BatchNorm2d\", \"kargs\": {\"num_features\": 80}}, {\"class\": \"Flatten\", \"kargs\": {}}, {\"class\": \"Linear\", \"kargs\": {\"in_features\": 20480, \"out_features\": 256}}, {\"class\": \"ReLU\", \"kargs\": {\"inplace\": true}}, {\"class\": \"BatchNorm1d\", \"kargs\": {\"num_features\": 256}}, {\"class\": \"Linear\", \"kargs\": {\"in_features\": 256, \"out_features\": 256}}], \"NUM_LOGS_PER_EPOCH\": 10, \"BEST_MODEL_PATH\": \"./best_model.pth\", \"n_way\": 16, \"datasets\": [{\"labels\": [\"1-10.\", \"1-11.\", \"1-15.\", \"1-16.\", \"1-17.\", \"1-18.\", \"1-19.\", \"10-4.\", \"10-7.\", \"11-1.\", \"11-14.\", \"11-17.\", \"11-20.\", \"11-7.\", \"13-20.\", \"13-8.\", \"14-10.\", \"14-11.\", \"14-14.\", \"14-7.\", \"15-1.\", \"15-20.\", \"16-1.\", \"16-16.\", \"17-10.\", \"17-11.\", \"17-2.\", \"19-1.\", \"19-16.\", \"19-19.\", \"19-20.\", \"19-3.\", \"2-10.\", \"2-11.\", \"2-17.\", \"2-18.\", \"2-20.\", \"2-3.\", \"2-4.\", \"2-5.\", \"2-6.\", \"2-7.\", \"2-8.\", \"3-13.\", \"3-18.\", \"3-3.\", \"4-1.\", \"4-10.\", \"4-11.\", \"4-19.\", \"5-5.\", \"6-15.\", \"7-10.\", \"7-14.\", \"8-18.\", \"8-20.\", \"8-3.\", \"8-8.\"], \"domains\": [1, 2, 3, 4, 5], \"num_examples_per_domain_per_label\": 100, \"pickle_path\": \"/mnt/wd500GB/CSC500/csc500-main/datasets/cores.stratified_ds.2022A.pkl\", \"source_or_target_dataset\": \"target\", \"x_transforms\": [\"unit_mag\"], \"episode_transforms\": [], \"domain_prefix\": \"CORES_\"}, {\"labels\": [\"3123D52\", \"3123D65\", \"3123D79\", \"3123D80\", \"3123D54\", \"3123D70\", \"3123D7B\", \"3123D89\", \"3123D58\", \"3123D76\", \"3123D7D\", \"3123EFE\", \"3123D64\", \"3123D78\", \"3123D7E\", \"3124E4A\"], \"domains\": [32, 38, 8, 44, 14, 50, 20, 26], \"num_examples_per_domain_per_label\": 10000, \"pickle_path\": \"/mnt/wd500GB/CSC500/csc500-main/datasets/oracle.Run1_10kExamples_stratified_ds.2022A.pkl\", \"source_or_target_dataset\": \"source\", \"x_transforms\": [\"unit_mag\"], \"episode_transforms\": [], \"domain_prefix\": \"ORACLE.run1_\"}], \"domains_source\": [\"ORACLE.run1_32\", \"ORACLE.run1_38\", \"ORACLE.run1_8\", \"ORACLE.run1_44\", \"ORACLE.run1_14\", \"ORACLE.run1_50\", \"ORACLE.run1_20\", \"ORACLE.run1_26\"], \"domains_target\": [\"CORES_1\", \"CORES_2\", \"CORES_3\", \"CORES_4\", \"CORES_5\"]}, \"results\": {\"source_test_label_accuracy\": 0.7030989583333334, \"source_test_label_loss\": 0.7983428835868835, \"target_test_label_accuracy\": 0.9671875, \"target_test_label_loss\": 0.30823591351509094, \"source_val_label_accuracy\": 0.7046614583333334, \"source_val_label_loss\": 0.7971685528755188, \"target_val_label_accuracy\": 0.9665625, \"target_val_label_loss\": 0.21628789603710175, \"total_epochs_trained\": 6, \"total_experiment_time_secs\": 5475.527241706848, \"confusion\": {\"ORACLE.run1_14\": {\"15\": {\"15\": 1161, \"7\": 38, \"5\": 1}, \"3\": {\"3\": 1023, \"14\": 47, \"4\": 109, \"2\": 12, \"0\": 3, \"1\": 1, \"13\": 2, \"5\": 2, \"10\": 1}, \"6\": {\"13\": 430, \"6\": 646, \"2\": 63, \"14\": 59, \"5\": 1, \"4\": 1}, \"1\": {\"1\": 1078, \"5\": 111, \"4\": 10, \"7\": 1}, \"8\": {\"8\": 1199, \"0\": 1}, \"10\": {\"10\": 1138, \"0\": 61, \"3\": 1}, \"9\": {\"9\": 1193, \"12\": 3, \"11\": 4}, \"13\": {\"6\": 453, \"14\": 203, \"2\": 132, \"13\": 392, \"5\": 15, \"4\": 4, \"10\": 1}, \"12\": {\"12\": 1195, \"9\": 5}, \"5\": {\"4\": 202, \"2\": 47, \"5\": 786, \"1\": 144, \"7\": 3, \"3\": 14, \"14\": 1, \"15\": 3}, \"0\": {\"0\": 1038, \"10\": 108, \"11\": 35, \"3\": 19}, \"2\": {\"14\": 180, \"13\": 78, \"2\": 551, \"4\": 108, \"15\": 27, \"5\": 141, \"6\": 54, \"3\": 58, \"1\": 3}, \"11\": {\"9\": 40, \"11\": 1100, \"0\": 51, \"10\": 9}, \"14\": {\"14\": 951, \"13\": 96, \"6\": 53, \"3\": 18, \"2\": 81, \"10\": 1}, \"7\": {\"7\": 1173, \"1\": 4, \"15\": 21, \"5\": 2}, \"4\": {\"2\": 60, \"4\": 868, \"3\": 109, \"5\": 148, \"14\": 7, \"1\": 8}}, \"ORACLE.run1_20\": {\"3\": {\"12\": 255, \"3\": 451, \"1\": 22, \"9\": 202, \"2\": 79, \"7\": 37, \"5\": 44, \"4\": 80, \"8\": 15, \"0\": 10, \"15\": 5}, \"15\": {\"5\": 111, \"15\": 688, \"1\": 194, \"0\": 107, \"13\": 58, \"12\": 32, \"9\": 4, \"2\": 5, \"3\": 1}, \"8\": {\"8\": 867, \"4\": 143, \"7\": 83, \"10\": 37, \"3\": 18, \"14\": 37, \"6\": 10, \"2\": 2, \"9\": 3}, \"4\": {\"4\": 936, \"3\": 77, \"10\": 27, \"5\": 1, \"8\": 135, \"12\": 14, \"0\": 2, \"7\": 5, \"9\": 3}, \"14\": {\"14\": 930, \"6\": 140, \"10\": 100, \"8\": 27, \"7\": 3}, \"0\": {\"12\": 43, \"5\": 310, \"0\": 616, \"3\": 21, \"15\": 108, \"1\": 66, \"7\": 6, \"2\": 14, \"9\": 5, \"4\": 6, \"13\": 5}, \"7\": {\"7\": 841, \"8\": 89, \"2\": 150, \"3\": 44, \"6\": 14, \"4\": 10, \"9\": 39, \"11\": 2, \"0\": 1, \"10\": 2, \"14\": 1, \"13\": 2, \"12\": 5}, \"6\": {\"6\": 1032, \"14\": 145, \"7\": 10, \"8\": 12, \"10\": 1}, \"10\": {\"10\": 1009, \"4\": 32, \"14\": 124, \"8\": 33, \"6\": 2}, \"5\": {\"12\": 141, \"1\": 202, \"5\": 431, \"0\": 253, \"15\": 117, \"3\": 37, \"9\": 5, \"2\": 5, \"13\": 6, \"4\": 3}, \"2\": {\"7\": 158, \"9\": 285, \"2\": 536, \"3\": 82, \"12\": 56, \"13\": 58, \"1\": 11, \"15\": 5, \"0\": 3, \"8\": 2, \"5\": 4}, \"12\": {\"3\": 228, \"2\": 52, \"12\": 452, \"1\": 154, \"15\": 27, \"9\": 125, \"5\": 115, \"0\": 32, \"4\": 13, \"13\": 2}, \"9\": {\"3\": 218, \"9\": 478, \"5\": 3, \"2\": 286, \"7\": 54, \"12\": 123, \"1\": 14, \"8\": 5, \"13\": 10, \"4\": 7, \"15\": 1, \"0\": 1}, \"1\": {\"1\": 480, \"12\": 160, \"5\": 228, \"15\": 226, \"7\": 1, \"0\": 54, \"9\": 16, \"3\": 22, \"13\": 7, \"2\": 6}, \"11\": {\"11\": 1198, \"7\": 2}, \"13\": {\"13\": 1092, \"15\": 26, \"2\": 61, \"9\": 7, \"1\": 3, \"5\": 3, \"12\": 3, \"7\": 2, \"0\": 3}}, \"ORACLE.run1_38\": {\"5\": {\"5\": 498, \"8\": 328, \"0\": 108, \"15\": 44, \"9\": 31, \"6\": 50, \"13\": 7, \"7\": 97, \"3\": 27, \"1\": 8, \"10\": 2}, \"8\": {\"8\": 726, \"0\": 171, \"15\": 24, \"5\": 244, \"7\": 15, \"10\": 12, \"13\": 7, \"1\": 1}, \"11\": {\"14\": 214, \"11\": 967, \"10\": 8, \"2\": 4, \"13\": 1, \"12\": 3, \"4\": 3}, \"1\": {\"1\": 1152, \"5\": 2, \"15\": 44, \"8\": 1, \"6\": 1}, \"10\": {\"10\": 972, \"8\": 37, \"12\": 21, \"13\": 119, \"7\": 4, \"0\": 13, \"15\": 8, \"14\": 9, \"4\": 5, \"2\": 3, \"11\": 9}, \"15\": {\"13\": 186, \"15\": 875, \"1\": 79, \"5\": 19, \"0\": 1, \"8\": 33, \"2\": 4, \"10\": 3}, \"3\": {\"0\": 10, \"3\": 1030, \"9\": 88, \"7\": 52, \"5\": 11, \"6\": 9}, \"7\": {\"0\": 234, \"7\": 880, \"5\": 45, \"3\": 12, \"8\": 24, \"10\": 2, \"9\": 2, \"4\": 1}, \"4\": {\"4\": 1151, \"12\": 44, \"10\": 4, \"0\": 1}, \"14\": {\"14\": 1019, \"11\": 98, \"2\": 71, \"10\": 9, \"12\": 1, \"13\": 2}, \"9\": {\"9\": 722, \"6\": 398, \"3\": 61, \"5\": 19}, \"12\": {\"12\": 1150, \"10\": 8, \"4\": 42}, \"6\": {\"6\": 983, \"9\": 207, \"5\": 9, \"8\": 1}, \"2\": {\"2\": 1090, \"14\": 85, \"13\": 23, \"10\": 1, \"11\": 1}, \"0\": {\"8\": 305, \"0\": 392, \"7\": 277, \"3\": 75, \"5\": 110, \"10\": 23, \"12\": 7, \"9\": 3, \"4\": 5, \"15\": 2, \"6\": 1}, \"13\": {\"13\": 754, \"15\": 256, \"10\": 130, \"2\": 32, \"8\": 18, \"1\": 4, \"14\": 3, \"5\": 2, \"0\": 1}}, \"ORACLE.run1_8\": {\"9\": {\"9\": 1200}, \"10\": {\"14\": 261, \"10\": 727, \"13\": 95, \"4\": 44, \"5\": 52, \"1\": 13, \"0\": 8}, \"13\": {\"4\": 214, \"13\": 380, \"14\": 107, \"0\": 311, \"10\": 132, \"6\": 44, \"7\": 11, \"1\": 1}, \"0\": {\"7\": 87, \"0\": 714, \"6\": 86, \"4\": 60, \"13\": 244, \"10\": 5, \"14\": 4}, \"1\": {\"1\": 803, \"11\": 305, \"14\": 58, \"5\": 19, \"10\": 12, \"4\": 3}, \"15\": {\"15\": 856, \"12\": 273, \"8\": 55, \"3\": 8, \"2\": 7, \"7\": 1}, \"5\": {\"5\": 1050, \"14\": 19, \"10\": 66, \"11\": 5, \"1\": 59, \"13\": 1}, \"3\": {\"3\": 1002, \"12\": 82, \"2\": 111, \"15\": 5}, \"6\": {\"8\": 8, \"6\": 674, \"7\": 292, \"0\": 65, \"4\": 118, \"13\": 38, \"14\": 5}, \"11\": {\"14\": 17, \"11\": 742, \"1\": 401, \"5\": 26, \"10\": 2, \"6\": 1, \"4\": 4, \"8\": 7}, \"8\": {\"8\": 1135, \"15\": 46, \"6\": 7, \"7\": 5, \"12\": 5, \"11\": 2}, \"4\": {\"4\": 575, \"14\": 186, \"0\": 72, \"10\": 30, \"6\": 110, \"13\": 220, \"7\": 5, \"1\": 1, \"11\": 1}, \"12\": {\"12\": 598, \"15\": 371, \"3\": 184, \"8\": 28, \"2\": 19}, \"14\": {\"14\": 559, \"10\": 229, \"4\": 216, \"5\": 6, \"13\": 116, \"1\": 51, \"11\": 9, \"6\": 9, \"0\": 4, \"7\": 1}, \"2\": {\"2\": 966, \"3\": 162, \"15\": 42, \"12\": 12, \"7\": 18}, \"7\": {\"7\": 853, \"0\": 45, \"6\": 287, \"8\": 2, \"4\": 11, \"13\": 1, \"15\": 1}}, \"ORACLE.run1_50\": {\"7\": {\"7\": 699, \"5\": 172, \"13\": 296, \"10\": 29, \"6\": 1, \"4\": 3}, \"3\": {\"3\": 1165, \"8\": 35}, \"8\": {\"10\": 34, \"8\": 1148, \"3\": 18}, \"2\": {\"2\": 1111, \"0\": 89}, \"14\": {\"14\": 1185, \"12\": 11, \"11\": 4}, \"4\": {\"4\": 570, \"5\": 145, \"15\": 164, \"1\": 186, \"6\": 90, \"13\": 20, \"7\": 24, \"11\": 1}, \"6\": {\"13\": 82, \"6\": 839, \"1\": 94, \"5\": 47, \"4\": 114, \"15\": 13, \"0\": 2, \"7\": 8, \"2\": 1}, \"15\": {\"15\": 879, \"1\": 213, \"11\": 16, \"4\": 83, \"6\": 9}, \"10\": {\"10\": 1102, \"8\": 29, \"7\": 25, \"0\": 24, \"13\": 20}, \"11\": {\"11\": 1080, \"9\": 79, \"12\": 5, \"15\": 24, \"14\": 9, \"1\": 3}, \"13\": {\"7\": 217, \"13\": 723, \"5\": 157, \"6\": 68, \"4\": 9, \"0\": 5, \"10\": 21}, \"9\": {\"9\": 938, \"12\": 86, \"11\": 173, \"14\": 1, \"15\": 2}, \"0\": {\"0\": 1022, \"2\": 105, \"10\": 67, \"13\": 4, \"1\": 1, \"7\": 1}, \"1\": {\"1\": 748, \"15\": 231, \"4\": 116, \"6\": 98, \"5\": 7}, \"12\": {\"12\": 1065, \"9\": 84, \"14\": 43, \"11\": 8}, \"5\": {\"1\": 40, \"5\": 471, \"13\": 180, \"10\": 11, \"7\": 249, \"4\": 157, \"6\": 92}}, \"ORACLE.run1_32\": {\"8\": {\"13\": 74, \"8\": 881, \"5\": 115, \"0\": 109, \"7\": 5, \"4\": 5, \"3\": 7, \"14\": 4}, \"14\": {\"0\": 45, \"14\": 468, \"11\": 346, \"13\": 52, \"7\": 220, \"5\": 26, \"4\": 17, \"8\": 10, \"2\": 5, \"3\": 11}, \"2\": {\"4\": 196, \"2\": 960, \"0\": 28, \"14\": 1, \"7\": 12, \"5\": 1, \"13\": 2}, \"0\": {\"0\": 887, \"5\": 25, \"8\": 97, \"14\": 18, \"4\": 77, \"13\": 15, \"7\": 42, \"2\": 39}, \"1\": {\"1\": 1181, \"10\": 19}, \"10\": {\"10\": 1193, \"1\": 7}, \"11\": {\"11\": 918, \"14\": 218, \"3\": 12, \"7\": 26, \"13\": 19, \"5\": 7}, \"5\": {\"13\": 355, \"14\": 28, \"5\": 337, \"8\": 85, \"3\": 51, \"11\": 17, \"7\": 141, \"4\": 127, \"0\": 48, \"2\": 11}, \"15\": {\"15\": 1195, \"8\": 5}, \"3\": {\"3\": 1114, \"5\": 10, \"13\": 43, \"11\": 20, \"7\": 1, \"8\": 7, \"14\": 5}, \"12\": {\"12\": 1200}, \"7\": {\"7\": 537, \"14\": 157, \"5\": 120, \"13\": 116, \"4\": 173, \"2\": 12, \"0\": 26, \"8\": 9, \"11\": 46, \"3\": 4}, \"13\": {\"8\": 50, \"13\": 411, \"7\": 139, \"5\": 378, \"3\": 71, \"4\": 64, \"0\": 23, \"14\": 46, \"11\": 18}, \"6\": {\"6\": 1200}, \"4\": {\"4\": 703, \"2\": 185, \"7\": 139, \"13\": 39, \"8\": 7, \"5\": 79, \"14\": 5, \"0\": 43}, \"9\": {\"9\": 1197, \"12\": 3}}, \"ORACLE.run1_26\": {\"4\": {\"9\": 3, \"8\": 106, \"0\": 169, \"4\": 463, \"14\": 216, \"1\": 96, \"7\": 76, \"10\": 68, \"2\": 1, \"3\": 2}, \"12\": {\"12\": 1195, \"11\": 5}, \"10\": {\"0\": 234, \"10\": 498, \"8\": 146, \"6\": 70, \"4\": 82, \"14\": 111, \"1\": 30, \"9\": 18, \"15\": 7, \"5\": 1, \"7\": 3}, \"0\": {\"6\": 29, \"10\": 298, \"0\": 320, \"14\": 200, \"1\": 30, \"8\": 112, \"7\": 24, \"4\": 175, \"15\": 3, \"9\": 7, \"2\": 1, \"3\": 1}, \"13\": {\"13\": 849, \"5\": 193, \"15\": 86, \"2\": 19, \"6\": 20, \"9\": 33}, \"9\": {\"9\": 447, \"15\": 339, \"8\": 121, \"13\": 27, \"6\": 157, \"0\": 15, \"2\": 15, \"5\": 49, \"10\": 13, \"4\": 7, \"7\": 9, \"3\": 1}, \"3\": {\"2\": 274, \"3\": 758, \"7\": 162, \"4\": 4, \"8\": 1, \"15\": 1}, \"2\": {\"3\": 394, \"7\": 135, \"2\": 425, \"5\": 118, \"15\": 59, \"8\": 33, \"9\": 16, \"13\": 12, \"4\": 5, \"1\": 2, \"0\": 1}, \"5\": {\"5\": 701, \"2\": 53, \"13\": 144, \"7\": 10, \"15\": 174, \"8\": 40, \"9\": 72, \"6\": 5, \"10\": 1}, \"14\": {\"8\": 30, \"14\": 403, \"0\": 168, \"1\": 228, \"4\": 247, \"10\": 105, \"7\": 18, \"6\": 1}, \"8\": {\"6\": 39, \"0\": 95, \"8\": 446, \"15\": 72, \"10\": 162, \"4\": 115, \"7\": 88, \"9\": 100, \"1\": 8, \"2\": 21, \"14\": 30, \"5\": 20, \"3\": 4}, \"7\": {\"8\": 55, \"7\": 635, \"4\": 118, \"2\": 137, \"14\": 18, \"9\": 6, \"3\": 179, \"15\": 14, \"0\": 22, \"1\": 5, \"5\": 9, \"10\": 2}, \"6\": {\"6\": 880, \"10\": 77, \"9\": 155, \"13\": 9, \"8\": 27, \"15\": 24, \"0\": 24, \"14\": 1, \"5\": 3}, \"11\": {\"11\": 1188, \"12\": 12}, \"15\": {\"8\": 104, \"6\": 40, \"9\": 307, \"5\": 171, \"15\": 443, \"13\": 61, \"2\": 30, \"4\": 3, \"10\": 11, \"7\": 22, \"0\": 4, \"3\": 4}, \"1\": {\"14\": 245, \"1\": 749, \"4\": 103, \"7\": 9, \"10\": 41, \"8\": 9, \"0\": 43, \"3\": 1}}, \"ORACLE.run1_44\": {\"12\": {\"10\": 71, \"12\": 947, \"1\": 171, \"3\": 11}, \"7\": {\"7\": 802, \"2\": 155, \"9\": 205, \"6\": 30, \"1\": 5, \"13\": 1, \"3\": 2}, \"5\": {\"5\": 1016, \"14\": 29, \"0\": 105, \"15\": 38, \"8\": 11, \"4\": 1}, \"15\": {\"15\": 972, \"14\": 85, \"5\": 44, \"0\": 73, \"8\": 16, \"4\": 10}, \"8\": {\"8\": 724, \"0\": 424, \"15\": 37, \"5\": 15}, \"2\": {\"2\": 923, \"3\": 2, \"7\": 154, \"10\": 80, \"1\": 37, \"6\": 1, \"9\": 3}, \"13\": {\"13\": 778, \"11\": 46, \"9\": 144, \"6\": 222, \"7\": 6, \"4\": 4}, \"4\": {\"4\": 888, \"14\": 301, \"15\": 9, \"13\": 2}, \"0\": {\"0\": 773, \"5\": 67, \"8\": 310, \"15\": 50}, \"6\": {\"6\": 847, \"13\": 196, \"11\": 9, \"9\": 116, \"7\": 31, \"2\": 1}, \"9\": {\"13\": 140, \"9\": 683, \"7\": 264, \"6\": 105, \"2\": 8}, \"11\": {\"11\": 1133, \"13\": 48, \"6\": 19}, \"10\": {\"10\": 925, \"2\": 91, \"12\": 90, \"1\": 94}, \"14\": {\"14\": 761, \"4\": 340, \"15\": 65, \"5\": 34}, \"1\": {\"10\": 99, \"1\": 720, \"12\": 209, \"3\": 119, \"2\": 50, \"7\": 3}, \"3\": {\"3\": 1093, \"12\": 4, \"1\": 98, \"2\": 5}}, \"CORES_3\": {\"43\": {\"43\": 12}, \"9\": {\"9\": 12}, \"6\": {\"6\": 10}, \"3\": {\"3\": 12}, \"16\": {\"16\": 12}, \"51\": {\"51\": 12}, \"31\": {\"31\": 12}, \"46\": {\"46\": 9, \"8\": 1}, \"19\": {\"19\": 8}, \"8\": {\"8\": 12}, \"18\": {\"18\": 12}, \"37\": {\"37\": 12}, \"24\": {\"24\": 12}, \"10\": {\"10\": 12}, \"44\": {\"44\": 10}, \"14\": {\"14\": 7, \"22\": 1, \"35\": 1, \"29\": 2, \"1\": 1}, \"38\": {\"38\": 10}, \"53\": {\"53\": 12}, \"20\": {\"20\": 12}, \"32\": {\"32\": 12}, \"36\": {\"36\": 10}, \"33\": {\"33\": 12}, \"56\": {\"56\": 12}, \"23\": {\"23\": 12}, \"54\": {\"54\": 10}, \"34\": {\"34\": 12}, \"13\": {\"13\": 12}, \"2\": {\"2\": 12}, \"55\": {\"55\": 10}, \"21\": {\"21\": 10}, \"49\": {\"49\": 10}, \"25\": {\"25\": 12}, \"5\": {\"5\": 12}, \"50\": {\"50\": 8}, \"40\": {\"40\": 12}, \"57\": {\"57\": 7, \"1\": 1}, \"22\": {\"22\": 10}, \"1\": {\"1\": 8, \"34\": 2}, \"17\": {\"17\": 12}, \"41\": {\"41\": 12}, \"4\": {\"4\": 10}, \"7\": {\"7\": 10}, \"26\": {\"26\": 10}, \"29\": {\"29\": 12}, \"52\": {\"52\": 12}, \"15\": {\"15\": 12}, \"35\": {\"35\": 11, \"34\": 1}, \"42\": {\"42\": 12}, \"30\": {\"30\": 10}, \"27\": {\"27\": 8}, \"45\": {\"45\": 10}, \"0\": {\"0\": 12}, \"28\": {\"28\": 12}, \"47\": {\"47\": 12}, \"11\": {\"11\": 10}, \"39\": {\"39\": 10}, \"48\": {\"48\": 12}, \"12\": {\"12\": 8}}, \"CORES_4\": {\"35\": {\"35\": 10}, \"25\": {\"25\": 12}, \"24\": {\"24\": 10}, \"48\": {\"48\": 12}, \"51\": {\"51\": 12}, \"13\": {\"13\": 12}, \"14\": {\"14\": 6, \"56\": 2}, \"32\": {\"32\": 12}, \"30\": {\"30\": 11, \"21\": 1}, \"34\": {\"34\": 10}, \"9\": {\"9\": 12}, \"1\": {\"1\": 12}, \"0\": {\"32\": 2, \"0\": 9, \"7\": 1}, \"38\": {\"38\": 12}, \"22\": {\"22\": 8}, \"40\": {\"40\": 12}, \"39\": {\"39\": 12}, \"46\": {\"46\": 9, \"32\": 2, \"39\": 1}, \"36\": {\"36\": 12}, \"50\": {\"50\": 11, \"21\": 1}, \"49\": {\"49\": 12}, \"17\": {\"17\": 12}, \"45\": {\"45\": 12}, \"6\": {\"6\": 11, \"51\": 1}, \"8\": {\"8\": 12}, \"5\": {\"5\": 10}, \"33\": {\"33\": 10, \"55\": 1, \"28\": 1}, \"31\": {\"31\": 12}, \"37\": {\"37\": 10}, \"47\": {\"47\": 8}, \"15\": {\"15\": 10}, \"7\": {\"7\": 12}, \"20\": {\"20\": 12}, \"4\": {\"4\": 12}, \"54\": {\"54\": 12}, \"44\": {\"44\": 12}, \"3\": {\"25\": 1, \"3\": 10, \"21\": 1}, \"11\": {\"11\": 9, \"15\": 1}, \"27\": {\"27\": 10}, \"19\": {\"19\": 12}, \"55\": {\"55\": 12}, \"16\": {\"16\": 12}, \"2\": {\"2\": 10}, \"52\": {\"52\": 10}, \"42\": {\"42\": 9, \"34\": 1}, \"26\": {\"26\": 12}, \"10\": {\"10\": 12}, \"53\": {\"53\": 10}, \"28\": {\"28\": 12}, \"21\": {\"21\": 10}, \"57\": {\"57\": 10}, \"23\": {\"23\": 8}, \"43\": {\"43\": 10}, \"12\": {\"12\": 12}, \"41\": {\"41\": 12}, \"56\": {\"56\": 8}, \"18\": {\"18\": 10}, \"29\": {\"29\": 8}}, \"CORES_5\": {\"47\": {\"47\": 10}, \"53\": {\"53\": 12}, \"29\": {\"29\": 10, \"40\": 2}, \"52\": {\"52\": 12}, \"55\": {\"55\": 12}, \"17\": {\"17\": 11, \"30\": 1}, \"42\": {\"42\": 12}, \"33\": {\"33\": 10}, \"11\": {\"11\": 12}, \"19\": {\"19\": 8}, \"1\": {\"1\": 12}, \"44\": {\"44\": 11, \"19\": 1}, \"49\": {\"49\": 12}, \"4\": {\"4\": 12}, \"6\": {\"6\": 11, \"26\": 1}, \"39\": {\"39\": 12}, \"13\": {\"13\": 12}, \"5\": {\"5\": 10}, \"16\": {\"16\": 10}, \"25\": {\"25\": 12}, \"45\": {\"45\": 10, \"32\": 1, \"27\": 1}, \"7\": {\"7\": 10}, \"22\": {\"22\": 12}, \"40\": {\"40\": 7, \"34\": 2, \"44\": 1, \"29\": 2}, \"38\": {\"38\": 12}, \"35\": {\"35\": 8}, \"56\": {\"56\": 12}, \"50\": {\"50\": 6, \"21\": 3, \"7\": 1}, \"0\": {\"0\": 12}, \"10\": {\"10\": 12}, \"27\": {\"27\": 12}, \"20\": {\"20\": 10}, \"36\": {\"36\": 8}, \"34\": {\"34\": 12}, \"30\": {\"30\": 12}, \"2\": {\"2\": 9, \"56\": 1}, \"15\": {\"15\": 12}, \"18\": {\"18\": 12}, \"32\": {\"32\": 11, \"27\": 1}, \"31\": {\"31\": 12}, \"57\": {\"57\": 12}, \"48\": {\"48\": 7, \"9\": 1}, \"28\": {\"28\": 10}, \"14\": {\"3\": 1, \"28\": 3, \"14\": 3, \"36\": 2, \"29\": 2, \"46\": 1}, \"3\": {\"42\": 2, \"3\": 9, \"2\": 1}, \"8\": {\"8\": 12}, \"9\": {\"9\": 12}, \"21\": {\"21\": 9, \"50\": 1}, \"41\": {\"41\": 11, \"48\": 1}, \"24\": {\"24\": 12}, \"46\": {\"46\": 10}, \"43\": {\"43\": 10}, \"54\": {\"54\": 10}, \"23\": {\"23\": 10}, \"37\": {\"37\": 10}, \"12\": {\"12\": 9, \"7\": 1}, \"26\": {\"26\": 10}, \"51\": {\"51\": 6}}, \"CORES_1\": {\"46\": {\"46\": 12}, \"16\": {\"16\": 12}, \"26\": {\"26\": 12}, \"10\": {\"10\": 11, \"22\": 1}, \"9\": {\"9\": 10}, \"28\": {\"28\": 12}, \"51\": {\"51\": 11, \"41\": 1}, \"1\": {\"1\": 12}, \"55\": {\"55\": 12}, \"27\": {\"27\": 10}, \"22\": {\"10\": 2, \"22\": 8, \"24\": 1, \"21\": 1}, \"52\": {\"52\": 10, \"28\": 1, \"11\": 1}, \"3\": {\"3\": 12}, \"33\": {\"33\": 8}, \"47\": {\"47\": 12}, \"42\": {\"42\": 12}, \"12\": {\"12\": 4}, \"23\": {\"23\": 12}, \"49\": {\"49\": 10}, \"7\": {\"7\": 12}, \"4\": {\"4\": 12}, \"50\": {\"50\": 12}, \"19\": {\"19\": 11, \"57\": 1}, \"11\": {\"11\": 12}, \"31\": {\"31\": 10}, \"41\": {\"41\": 12}, \"56\": {\"56\": 8, \"44\": 1, \"29\": 1}, \"0\": {\"0\": 12}, \"57\": {\"57\": 12}, \"53\": {\"53\": 12}, \"43\": {\"43\": 12}, \"37\": {\"37\": 12}, \"2\": {\"2\": 8}, \"6\": {\"2\": 1, \"6\": 11}, \"18\": {\"18\": 12}, \"38\": {\"38\": 11, \"39\": 1}, \"15\": {\"15\": 12}, \"36\": {\"36\": 12}, \"39\": {\"39\": 8}, \"44\": {\"44\": 8, \"56\": 1, \"35\": 3}, \"8\": {\"8\": 12}, \"17\": {\"17\": 10}, \"5\": {\"5\": 12}, \"13\": {\"13\": 10}, \"40\": {\"40\": 10}, \"29\": {\"29\": 12}, \"48\": {\"48\": 12}, \"32\": {\"32\": 12}, \"30\": {\"7\": 1, \"30\": 11}, \"35\": {\"35\": 12}, \"25\": {\"25\": 12}, \"14\": {\"8\": 1, \"53\": 1, \"51\": 2, \"25\": 2, \"18\": 2, \"30\": 1, \"7\": 1, \"41\": 2}, \"54\": {\"54\": 10}, \"20\": {\"20\": 8}, \"21\": {\"21\": 10}, \"45\": {\"45\": 6, \"7\": 1, \"54\": 1}, \"24\": {\"24\": 6, \"22\": 2}, \"34\": {\"34\": 8}}, \"CORES_2\": {\"14\": {\"14\": 9, \"22\": 2, \"42\": 1}, \"22\": {\"22\": 12}, \"9\": {\"9\": 12}, \"47\": {\"47\": 12}, \"13\": {\"13\": 12}, \"8\": {\"8\": 12}, \"7\": {\"7\": 12}, \"49\": {\"49\": 12}, \"20\": {\"20\": 12}, \"16\": {\"16\": 12}, \"34\": {\"34\": 12}, \"56\": {\"56\": 12}, \"38\": {\"38\": 10}, \"4\": {\"9\": 1, \"4\": 11}, \"43\": {\"43\": 10}, \"26\": {\"26\": 10}, \"35\": {\"35\": 12}, \"31\": {\"31\": 12}, \"1\": {\"1\": 12}, \"39\": {\"39\": 12}, \"5\": {\"5\": 9, \"42\": 1, \"0\": 1, \"47\": 1}, \"24\": {\"24\": 12}, \"54\": {\"54\": 10}, \"23\": {\"23\": 12}, \"51\": {\"51\": 12}, \"27\": {\"27\": 10}, \"15\": {\"15\": 12}, \"0\": {\"0\": 12}, \"19\": {\"19\": 10}, \"18\": {\"18\": 8}, \"30\": {\"18\": 2, \"30\": 10}, \"55\": {\"55\": 10}, \"57\": {\"57\": 12}, \"2\": {\"2\": 12}, \"12\": {\"12\": 8}, \"41\": {\"41\": 12}, \"42\": {\"42\": 12}, \"48\": {\"48\": 12}, \"37\": {\"37\": 12}, \"6\": {\"6\": 10}, \"11\": {\"11\": 10}, \"45\": {\"45\": 8}, \"21\": {\"21\": 12}, \"46\": {\"46\": 9, \"25\": 1}, \"25\": {\"25\": 12}, \"36\": {\"36\": 10}, \"53\": {\"53\": 12}, \"28\": {\"28\": 12}, \"40\": {\"40\": 9, \"19\": 1}, \"33\": {\"33\": 10}, \"44\": {\"44\": 10}, \"3\": {\"3\": 12}, \"17\": {\"17\": 12}, \"32\": {\"32\": 10}, \"10\": {\"10\": 10}, \"52\": {\"52\": 10}, \"50\": {\"50\": 7, \"25\": 1}, \"29\": {\"29\": 6}}}, \"per_domain_accuracy\": {\"ORACLE.run1_14\": {\"accuracy\": 0.806875, \"source?\": true}, \"ORACLE.run1_20\": {\"accuracy\": 0.6269270833333334, \"source?\": true}, \"ORACLE.run1_38\": {\"accuracy\": 0.74796875, \"source?\": true}, \"ORACLE.run1_8\": {\"accuracy\": 0.6684375, \"source?\": true}, \"ORACLE.run1_50\": {\"accuracy\": 0.76796875, \"source?\": true}, \"ORACLE.run1_32\": {\"accuracy\": 0.7490625, \"source?\": true}, \"ORACLE.run1_26\": {\"accuracy\": 0.5416666666666666, \"source?\": true}, \"ORACLE.run1_44\": {\"accuracy\": 0.7283854166666667, \"source?\": true}, \"CORES_3\": {\"accuracy\": 0.984375, \"source?\": false}, \"CORES_4\": {\"accuracy\": 0.9734375, \"source?\": false}, \"CORES_5\": {\"accuracy\": 0.946875, \"source?\": false}, \"CORES_1\": {\"accuracy\": 0.946875, \"source?\": false}, \"CORES_2\": {\"accuracy\": 0.98125, \"source?\": false}}}, \"history\": {\"epoch_indices\": [1, 2, 3, 4, 5, 6], \"train_label_loss\": [1.0360006235633046, 0.7892515189262728, 0.6805977052567704, 0.6079875639573272, 0.5463392887253403, 0.49922564965894534], \"source_val_label_loss\": [0.9439341425895691, 0.7971685528755188, 0.7506276965141296, 0.727213442325592, 0.7339739203453064, 0.7320178151130676], \"target_val_label_loss\": [0.24114932119846344, 0.21628789603710175, 0.22352036833763123, 0.23350827395915985, 0.24971269071102142, 0.2347487360239029], \"source_val_acc_label\": [0.65458984375, 0.7046614583333334, 0.7286979166666666, 0.73998046875, 0.7385677083333333, 0.73990234375], \"target_val_acc_label\": [0.95875, 0.9665625, 0.9746875, 0.974375, 0.9690625, 0.9746875]}, \"dataset_metrics\": {\"source\": {\"train\": {\"n_unique_x\": 896000, \"n_unique_y\": 16, \"n_batch/episode\": 33600}, \"val\": {\"n_unique_x\": 192000, \"n_unique_y\": 16, \"n_batch/episode\": 4800}, \"test\": {\"n_unique_x\": 192000, \"n_unique_y\": 16, \"n_batch/episode\": 4800}}, \"target\": {\"train\": {\"n_unique_x\": 20300, \"n_unique_y\": 58, \"n_batch/episode\": 733}, \"val\": {\"n_unique_x\": 4332, \"n_unique_y\": 58, \"n_batch/episode\": 100}, \"test\": {\"n_unique_x\": 4332, \"n_unique_y\": 58, \"n_batch/episode\": 100}}}}'"
      ]
     },
     "execution_count": 29,
     "metadata": {},
     "output_type": "execute_result"
    }
   ],
   "source": [
    "json.dumps(experiment)"
   ]
  }
 ],
 "metadata": {
  "celltoolbar": "Tags",
  "kernelspec": {
   "display_name": "Python 3 (ipykernel)",
   "language": "python",
   "name": "python3"
  },
  "language_info": {
   "codemirror_mode": {
    "name": "ipython",
    "version": 3
   },
   "file_extension": ".py",
   "mimetype": "text/x-python",
   "name": "python",
   "nbconvert_exporter": "python",
   "pygments_lexer": "ipython3",
   "version": "3.8.10"
  },
  "papermill": {
   "default_parameters": {},
   "duration": 5727.214196,
   "end_time": "2022-03-14T00:07:31.810690",
   "environment_variables": {},
   "exception": null,
   "input_path": "/mnt/wd500GB/CSC500/csc500-main/csc500-notebooks/templates/tl_ptn_template.ipynb",
   "output_path": "trial.ipynb",
   "parameters": {
    "parameters": {
     "BEST_MODEL_PATH": "./best_model.pth",
     "NUM_LOGS_PER_EPOCH": 10,
     "criteria_for_best": "target_loss",
     "dataset_seed": 1337,
     "datasets": [
      {
       "domain_prefix": "CORES_",
       "domains": [
        1,
        2,
        3,
        4,
        5
       ],
       "episode_transforms": [],
       "labels": [
        "1-10.",
        "1-11.",
        "1-15.",
        "1-16.",
        "1-17.",
        "1-18.",
        "1-19.",
        "10-4.",
        "10-7.",
        "11-1.",
        "11-14.",
        "11-17.",
        "11-20.",
        "11-7.",
        "13-20.",
        "13-8.",
        "14-10.",
        "14-11.",
        "14-14.",
        "14-7.",
        "15-1.",
        "15-20.",
        "16-1.",
        "16-16.",
        "17-10.",
        "17-11.",
        "17-2.",
        "19-1.",
        "19-16.",
        "19-19.",
        "19-20.",
        "19-3.",
        "2-10.",
        "2-11.",
        "2-17.",
        "2-18.",
        "2-20.",
        "2-3.",
        "2-4.",
        "2-5.",
        "2-6.",
        "2-7.",
        "2-8.",
        "3-13.",
        "3-18.",
        "3-3.",
        "4-1.",
        "4-10.",
        "4-11.",
        "4-19.",
        "5-5.",
        "6-15.",
        "7-10.",
        "7-14.",
        "8-18.",
        "8-20.",
        "8-3.",
        "8-8."
       ],
       "num_examples_per_domain_per_label": 100,
       "pickle_path": "/mnt/wd500GB/CSC500/csc500-main/datasets/cores.stratified_ds.2022A.pkl",
       "source_or_target_dataset": "target",
       "x_transforms": [
        "unit_mag"
       ]
      },
      {
       "domain_prefix": "ORACLE.run1_",
       "domains": [
        32,
        38,
        8,
        44,
        14,
        50,
        20,
        26
       ],
       "episode_transforms": [],
       "labels": [
        "3123D52",
        "3123D65",
        "3123D79",
        "3123D80",
        "3123D54",
        "3123D70",
        "3123D7B",
        "3123D89",
        "3123D58",
        "3123D76",
        "3123D7D",
        "3123EFE",
        "3123D64",
        "3123D78",
        "3123D7E",
        "3124E4A"
       ],
       "num_examples_per_domain_per_label": 10000,
       "pickle_path": "/mnt/wd500GB/CSC500/csc500-main/datasets/oracle.Run1_10kExamples_stratified_ds.2022A.pkl",
       "source_or_target_dataset": "source",
       "x_transforms": [
        "unit_mag"
       ]
      }
     ],
     "device": "cuda",
     "experiment_name": "tl_1_cores-oracle.run1",
     "lr": 0.001,
     "n_epoch": 50,
     "n_query": 2,
     "n_shot": 3,
     "n_way": 16,
     "patience": 3,
     "seed": 1337,
     "test_k_factor": 2,
     "torch_default_dtype": "torch.float32",
     "train_k_factor": 3,
     "val_k_factor": 2,
     "x_net": [
      {
       "class": "nnReshape",
       "kargs": {
        "shape": [
         -1,
         1,
         2,
         256
        ]
       }
      },
      {
       "class": "Conv2d",
       "kargs": {
        "bias": false,
        "in_channels": 1,
        "kernel_size": [
         1,
         7
        ],
        "out_channels": 256,
        "padding": [
         0,
         3
        ]
       }
      },
      {
       "class": "ReLU",
       "kargs": {
        "inplace": true
       }
      },
      {
       "class": "BatchNorm2d",
       "kargs": {
        "num_features": 256
       }
      },
      {
       "class": "Conv2d",
       "kargs": {
        "bias": true,
        "in_channels": 256,
        "kernel_size": [
         2,
         7
        ],
        "out_channels": 80,
        "padding": [
         0,
         3
        ]
       }
      },
      {
       "class": "ReLU",
       "kargs": {
        "inplace": true
       }
      },
      {
       "class": "BatchNorm2d",
       "kargs": {
        "num_features": 80
       }
      },
      {
       "class": "Flatten",
       "kargs": {}
      },
      {
       "class": "Linear",
       "kargs": {
        "in_features": 20480,
        "out_features": 256
       }
      },
      {
       "class": "ReLU",
       "kargs": {
        "inplace": true
       }
      },
      {
       "class": "BatchNorm1d",
       "kargs": {
        "num_features": 256
       }
      },
      {
       "class": "Linear",
       "kargs": {
        "in_features": 256,
        "out_features": 256
       }
      }
     ]
    }
   },
   "start_time": "2022-03-13T22:32:04.596494",
   "version": "2.3.4"
  }
 },
 "nbformat": 4,
 "nbformat_minor": 5
}