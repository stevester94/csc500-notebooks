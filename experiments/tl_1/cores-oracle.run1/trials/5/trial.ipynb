{
 "cells": [
  {
   "cell_type": "markdown",
   "id": "9fea5f46",
   "metadata": {
    "papermill": {
     "duration": 0.016533,
     "end_time": "2022-03-14T00:07:32.683906",
     "exception": false,
     "start_time": "2022-03-14T00:07:32.667373",
     "status": "completed"
    },
    "tags": []
   },
   "source": [
    "# Transfer Learning Template"
   ]
  },
  {
   "cell_type": "code",
   "execution_count": 1,
   "id": "0902182a",
   "metadata": {
    "execution": {
     "iopub.execute_input": "2022-03-14T00:07:32.720869Z",
     "iopub.status.busy": "2022-03-14T00:07:32.715574Z",
     "iopub.status.idle": "2022-03-14T00:07:33.605323Z",
     "shell.execute_reply": "2022-03-14T00:07:33.605533Z"
    },
    "papermill": {
     "duration": 0.909292,
     "end_time": "2022-03-14T00:07:33.605625",
     "exception": false,
     "start_time": "2022-03-14T00:07:32.696333",
     "status": "completed"
    },
    "tags": []
   },
   "outputs": [],
   "source": [
    "%load_ext autoreload\n",
    "%autoreload 2\n",
    "%matplotlib inline\n",
    "\n",
    "    \n",
    "import os, json, sys, time, random\n",
    "import numpy as np\n",
    "import torch\n",
    "from torch.optim import Adam\n",
    "from  easydict import EasyDict\n",
    "import matplotlib.pyplot as plt\n",
    "\n",
    "from steves_models.steves_ptn import Steves_Prototypical_Network\n",
    "\n",
    "from steves_utils.lazy_iterable_wrapper import Lazy_Iterable_Wrapper\n",
    "from steves_utils.iterable_aggregator import Iterable_Aggregator\n",
    "from steves_utils.ptn_train_eval_test_jig import  PTN_Train_Eval_Test_Jig\n",
    "from steves_utils.torch_sequential_builder import build_sequential\n",
    "from steves_utils.torch_utils import get_dataset_metrics, ptn_confusion_by_domain_over_dataloader\n",
    "from steves_utils.utils_v2 import (per_domain_accuracy_from_confusion, get_datasets_base_path)\n",
    "from steves_utils.PTN.utils import independent_accuracy_assesment\n",
    "\n",
    "from torch.utils.data import DataLoader\n",
    "\n",
    "from steves_utils.stratified_dataset.episodic_accessor import Episodic_Accessor_Factory\n",
    "\n",
    "from steves_utils.ptn_do_report import (\n",
    "    get_loss_curve,\n",
    "    get_results_table,\n",
    "    get_parameters_table,\n",
    "    get_domain_accuracies,\n",
    ")\n",
    "\n",
    "from steves_utils.transforms import get_chained_transform"
   ]
  },
  {
   "cell_type": "markdown",
   "id": "41c840b4",
   "metadata": {
    "papermill": {
     "duration": 0.017395,
     "end_time": "2022-03-14T00:07:33.641238",
     "exception": false,
     "start_time": "2022-03-14T00:07:33.623843",
     "status": "completed"
    },
    "tags": []
   },
   "source": [
    "# Allowed Parameters\n",
    "These are allowed parameters, not defaults\n",
    "Each of these values need to be present in the injected parameters (the notebook will raise an exception if they are not present)\n",
    "\n",
    "Papermill uses the cell tag \"parameters\" to inject the real parameters below this cell.\n",
    "Enable tags to see what I mean"
   ]
  },
  {
   "cell_type": "code",
   "execution_count": 2,
   "id": "fd44eb83",
   "metadata": {
    "execution": {
     "iopub.execute_input": "2022-03-14T00:07:33.670435Z",
     "iopub.status.busy": "2022-03-14T00:07:33.669451Z",
     "iopub.status.idle": "2022-03-14T00:07:33.681523Z",
     "shell.execute_reply": "2022-03-14T00:07:33.681024Z"
    },
    "papermill": {
     "duration": 0.026423,
     "end_time": "2022-03-14T00:07:33.681621",
     "exception": false,
     "start_time": "2022-03-14T00:07:33.655198",
     "status": "completed"
    },
    "tags": []
   },
   "outputs": [],
   "source": [
    "required_parameters = {\n",
    "    \"experiment_name\",\n",
    "    \"lr\",\n",
    "    \"device\",\n",
    "    \"seed\",\n",
    "    \"dataset_seed\",\n",
    "    \"n_shot\",\n",
    "    \"n_query\",\n",
    "    \"n_way\",\n",
    "    \"train_k_factor\",\n",
    "    \"val_k_factor\",\n",
    "    \"test_k_factor\",\n",
    "    \"n_epoch\",\n",
    "    \"patience\",\n",
    "    \"criteria_for_best\",\n",
    "    \"x_net\",\n",
    "    \"datasets\",\n",
    "    \"torch_default_dtype\",\n",
    "    \"NUM_LOGS_PER_EPOCH\",\n",
    "    \"BEST_MODEL_PATH\",\n",
    "}"
   ]
  },
  {
   "cell_type": "code",
   "execution_count": 3,
   "id": "fa3f0049",
   "metadata": {
    "execution": {
     "iopub.execute_input": "2022-03-14T00:07:33.717669Z",
     "iopub.status.busy": "2022-03-14T00:07:33.716829Z",
     "iopub.status.idle": "2022-03-14T00:07:33.728817Z",
     "shell.execute_reply": "2022-03-14T00:07:33.728603Z"
    },
    "papermill": {
     "duration": 0.02968,
     "end_time": "2022-03-14T00:07:33.728871",
     "exception": false,
     "start_time": "2022-03-14T00:07:33.699191",
     "status": "completed"
    },
    "tags": [
     "parameters"
    ]
   },
   "outputs": [],
   "source": [
    "from steves_utils.CORES.utils import (\n",
    "    ALL_NODES,\n",
    "    ALL_NODES_MINIMUM_1000_EXAMPLES,\n",
    "    ALL_DAYS\n",
    ")\n",
    "\n",
    "from steves_utils.ORACLE.utils_v2 import (\n",
    "    ALL_DISTANCES_FEET_NARROWED,\n",
    "    ALL_RUNS,\n",
    "    ALL_SERIAL_NUMBERS,\n",
    ")\n",
    "\n",
    "standalone_parameters = {}\n",
    "standalone_parameters[\"experiment_name\"] = \"STANDALONE PTN\"\n",
    "standalone_parameters[\"lr\"] = 0.001\n",
    "standalone_parameters[\"device\"] = \"cuda\"\n",
    "\n",
    "standalone_parameters[\"seed\"] = 1337\n",
    "standalone_parameters[\"dataset_seed\"] = 1337\n",
    "\n",
    "standalone_parameters[\"n_way\"] = 8\n",
    "standalone_parameters[\"n_shot\"] = 3\n",
    "standalone_parameters[\"n_query\"]  = 2\n",
    "standalone_parameters[\"train_k_factor\"] = 1\n",
    "standalone_parameters[\"val_k_factor\"] = 2\n",
    "standalone_parameters[\"test_k_factor\"] = 2\n",
    "\n",
    "\n",
    "standalone_parameters[\"n_epoch\"] = 50\n",
    "\n",
    "standalone_parameters[\"patience\"] = 10\n",
    "standalone_parameters[\"criteria_for_best\"] = \"source_loss\"\n",
    "\n",
    "standalone_parameters[\"datasets\"] = [\n",
    "    {\n",
    "        \"labels\": ALL_SERIAL_NUMBERS,\n",
    "        \"domains\": ALL_DISTANCES_FEET_NARROWED,\n",
    "        \"num_examples_per_domain_per_label\": 100,\n",
    "        \"pickle_path\": os.path.join(get_datasets_base_path(), \"oracle.Run1_framed_2000Examples_stratified_ds.2022A.pkl\"),\n",
    "        \"source_or_target_dataset\": \"source\",\n",
    "        \"x_transforms\": [\"unit_mag\", \"minus_two\"],\n",
    "        \"episode_transforms\": [],\n",
    "        \"domain_prefix\": \"ORACLE_\"\n",
    "    },\n",
    "    {\n",
    "        \"labels\": ALL_NODES,\n",
    "        \"domains\": ALL_DAYS,\n",
    "        \"num_examples_per_domain_per_label\": 100,\n",
    "        \"pickle_path\": os.path.join(get_datasets_base_path(), \"cores.stratified_ds.2022A.pkl\"),\n",
    "        \"source_or_target_dataset\": \"target\",\n",
    "        \"x_transforms\": [\"unit_power\", \"times_zero\"],\n",
    "        \"episode_transforms\": [],\n",
    "        \"domain_prefix\": \"CORES_\"\n",
    "    }   \n",
    "]\n",
    "\n",
    "standalone_parameters[\"torch_default_dtype\"] = \"torch.float32\" \n",
    "\n",
    "\n",
    "\n",
    "standalone_parameters[\"x_net\"] =     [\n",
    "    {\"class\": \"nnReshape\", \"kargs\": {\"shape\":[-1, 1, 2, 256]}},\n",
    "    {\"class\": \"Conv2d\", \"kargs\": { \"in_channels\":1, \"out_channels\":256, \"kernel_size\":(1,7), \"bias\":False, \"padding\":(0,3), },},\n",
    "    {\"class\": \"ReLU\", \"kargs\": {\"inplace\": True}},\n",
    "    {\"class\": \"BatchNorm2d\", \"kargs\": {\"num_features\":256}},\n",
    "\n",
    "    {\"class\": \"Conv2d\", \"kargs\": { \"in_channels\":256, \"out_channels\":80, \"kernel_size\":(2,7), \"bias\":True, \"padding\":(0,3), },},\n",
    "    {\"class\": \"ReLU\", \"kargs\": {\"inplace\": True}},\n",
    "    {\"class\": \"BatchNorm2d\", \"kargs\": {\"num_features\":80}},\n",
    "    {\"class\": \"Flatten\", \"kargs\": {}},\n",
    "\n",
    "    {\"class\": \"Linear\", \"kargs\": {\"in_features\": 80*256, \"out_features\": 256}}, # 80 units per IQ pair\n",
    "    {\"class\": \"ReLU\", \"kargs\": {\"inplace\": True}},\n",
    "    {\"class\": \"BatchNorm1d\", \"kargs\": {\"num_features\":256}},\n",
    "\n",
    "    {\"class\": \"Linear\", \"kargs\": {\"in_features\": 256, \"out_features\": 256}},\n",
    "]\n",
    "\n",
    "# Parameters relevant to results\n",
    "# These parameters will basically never need to change\n",
    "standalone_parameters[\"NUM_LOGS_PER_EPOCH\"] = 10\n",
    "standalone_parameters[\"BEST_MODEL_PATH\"] = \"./best_model.pth\"\n",
    "\n",
    "\n",
    "\n",
    "\n"
   ]
  },
  {
   "cell_type": "code",
   "execution_count": 4,
   "id": "fa5b1b13",
   "metadata": {
    "execution": {
     "iopub.execute_input": "2022-03-14T00:07:33.760421Z",
     "iopub.status.busy": "2022-03-14T00:07:33.760127Z",
     "iopub.status.idle": "2022-03-14T00:07:33.771724Z",
     "shell.execute_reply": "2022-03-14T00:07:33.771478Z"
    },
    "papermill": {
     "duration": 0.030046,
     "end_time": "2022-03-14T00:07:33.771773",
     "exception": false,
     "start_time": "2022-03-14T00:07:33.741727",
     "status": "completed"
    },
    "tags": [
     "injected-parameters"
    ]
   },
   "outputs": [],
   "source": [
    "# Parameters\n",
    "parameters = {\n",
    "    \"experiment_name\": \"tl_1_cores-oracle.run1\",\n",
    "    \"device\": \"cuda\",\n",
    "    \"lr\": 0.001,\n",
    "    \"seed\": 1337,\n",
    "    \"dataset_seed\": 1337,\n",
    "    \"n_shot\": 3,\n",
    "    \"n_query\": 2,\n",
    "    \"train_k_factor\": 3,\n",
    "    \"val_k_factor\": 2,\n",
    "    \"test_k_factor\": 2,\n",
    "    \"torch_default_dtype\": \"torch.float32\",\n",
    "    \"n_epoch\": 50,\n",
    "    \"patience\": 3,\n",
    "    \"criteria_for_best\": \"target_loss\",\n",
    "    \"x_net\": [\n",
    "        {\"class\": \"nnReshape\", \"kargs\": {\"shape\": [-1, 1, 2, 256]}},\n",
    "        {\n",
    "            \"class\": \"Conv2d\",\n",
    "            \"kargs\": {\n",
    "                \"in_channels\": 1,\n",
    "                \"out_channels\": 256,\n",
    "                \"kernel_size\": [1, 7],\n",
    "                \"bias\": False,\n",
    "                \"padding\": [0, 3],\n",
    "            },\n",
    "        },\n",
    "        {\"class\": \"ReLU\", \"kargs\": {\"inplace\": True}},\n",
    "        {\"class\": \"BatchNorm2d\", \"kargs\": {\"num_features\": 256}},\n",
    "        {\n",
    "            \"class\": \"Conv2d\",\n",
    "            \"kargs\": {\n",
    "                \"in_channels\": 256,\n",
    "                \"out_channels\": 80,\n",
    "                \"kernel_size\": [2, 7],\n",
    "                \"bias\": True,\n",
    "                \"padding\": [0, 3],\n",
    "            },\n",
    "        },\n",
    "        {\"class\": \"ReLU\", \"kargs\": {\"inplace\": True}},\n",
    "        {\"class\": \"BatchNorm2d\", \"kargs\": {\"num_features\": 80}},\n",
    "        {\"class\": \"Flatten\", \"kargs\": {}},\n",
    "        {\"class\": \"Linear\", \"kargs\": {\"in_features\": 20480, \"out_features\": 256}},\n",
    "        {\"class\": \"ReLU\", \"kargs\": {\"inplace\": True}},\n",
    "        {\"class\": \"BatchNorm1d\", \"kargs\": {\"num_features\": 256}},\n",
    "        {\"class\": \"Linear\", \"kargs\": {\"in_features\": 256, \"out_features\": 256}},\n",
    "    ],\n",
    "    \"NUM_LOGS_PER_EPOCH\": 10,\n",
    "    \"BEST_MODEL_PATH\": \"./best_model.pth\",\n",
    "    \"n_way\": 16,\n",
    "    \"datasets\": [\n",
    "        {\n",
    "            \"labels\": [\n",
    "                \"1-10.\",\n",
    "                \"1-11.\",\n",
    "                \"1-15.\",\n",
    "                \"1-16.\",\n",
    "                \"1-17.\",\n",
    "                \"1-18.\",\n",
    "                \"1-19.\",\n",
    "                \"10-4.\",\n",
    "                \"10-7.\",\n",
    "                \"11-1.\",\n",
    "                \"11-14.\",\n",
    "                \"11-17.\",\n",
    "                \"11-20.\",\n",
    "                \"11-7.\",\n",
    "                \"13-20.\",\n",
    "                \"13-8.\",\n",
    "                \"14-10.\",\n",
    "                \"14-11.\",\n",
    "                \"14-14.\",\n",
    "                \"14-7.\",\n",
    "                \"15-1.\",\n",
    "                \"15-20.\",\n",
    "                \"16-1.\",\n",
    "                \"16-16.\",\n",
    "                \"17-10.\",\n",
    "                \"17-11.\",\n",
    "                \"17-2.\",\n",
    "                \"19-1.\",\n",
    "                \"19-16.\",\n",
    "                \"19-19.\",\n",
    "                \"19-20.\",\n",
    "                \"19-3.\",\n",
    "                \"2-10.\",\n",
    "                \"2-11.\",\n",
    "                \"2-17.\",\n",
    "                \"2-18.\",\n",
    "                \"2-20.\",\n",
    "                \"2-3.\",\n",
    "                \"2-4.\",\n",
    "                \"2-5.\",\n",
    "                \"2-6.\",\n",
    "                \"2-7.\",\n",
    "                \"2-8.\",\n",
    "                \"3-13.\",\n",
    "                \"3-18.\",\n",
    "                \"3-3.\",\n",
    "                \"4-1.\",\n",
    "                \"4-10.\",\n",
    "                \"4-11.\",\n",
    "                \"4-19.\",\n",
    "                \"5-5.\",\n",
    "                \"6-15.\",\n",
    "                \"7-10.\",\n",
    "                \"7-14.\",\n",
    "                \"8-18.\",\n",
    "                \"8-20.\",\n",
    "                \"8-3.\",\n",
    "                \"8-8.\",\n",
    "            ],\n",
    "            \"domains\": [1, 2, 3, 4, 5],\n",
    "            \"num_examples_per_domain_per_label\": 100,\n",
    "            \"pickle_path\": \"/mnt/wd500GB/CSC500/csc500-main/datasets/cores.stratified_ds.2022A.pkl\",\n",
    "            \"source_or_target_dataset\": \"target\",\n",
    "            \"x_transforms\": [],\n",
    "            \"episode_transforms\": [],\n",
    "            \"domain_prefix\": \"CORES_\",\n",
    "        },\n",
    "        {\n",
    "            \"labels\": [\n",
    "                \"3123D52\",\n",
    "                \"3123D65\",\n",
    "                \"3123D79\",\n",
    "                \"3123D80\",\n",
    "                \"3123D54\",\n",
    "                \"3123D70\",\n",
    "                \"3123D7B\",\n",
    "                \"3123D89\",\n",
    "                \"3123D58\",\n",
    "                \"3123D76\",\n",
    "                \"3123D7D\",\n",
    "                \"3123EFE\",\n",
    "                \"3123D64\",\n",
    "                \"3123D78\",\n",
    "                \"3123D7E\",\n",
    "                \"3124E4A\",\n",
    "            ],\n",
    "            \"domains\": [32, 38, 8, 44, 14, 50, 20, 26],\n",
    "            \"num_examples_per_domain_per_label\": 10000,\n",
    "            \"pickle_path\": \"/mnt/wd500GB/CSC500/csc500-main/datasets/oracle.Run1_10kExamples_stratified_ds.2022A.pkl\",\n",
    "            \"source_or_target_dataset\": \"source\",\n",
    "            \"x_transforms\": [],\n",
    "            \"episode_transforms\": [],\n",
    "            \"domain_prefix\": \"ORACLE.run1_\",\n",
    "        },\n",
    "    ],\n",
    "}\n"
   ]
  },
  {
   "cell_type": "code",
   "execution_count": 5,
   "id": "8fa1cc33",
   "metadata": {
    "execution": {
     "iopub.execute_input": "2022-03-14T00:07:33.799968Z",
     "iopub.status.busy": "2022-03-14T00:07:33.799717Z",
     "iopub.status.idle": "2022-03-14T00:07:33.810345Z",
     "shell.execute_reply": "2022-03-14T00:07:33.810125Z"
    },
    "papermill": {
     "duration": 0.025871,
     "end_time": "2022-03-14T00:07:33.810393",
     "exception": false,
     "start_time": "2022-03-14T00:07:33.784522",
     "status": "completed"
    },
    "tags": []
   },
   "outputs": [],
   "source": [
    "# Set this to True if you want to run this template directly\n",
    "STANDALONE = False\n",
    "if STANDALONE:\n",
    "    print(\"parameters not injected, running with standalone_parameters\")\n",
    "    parameters = standalone_parameters\n",
    "\n",
    "if not 'parameters' in locals() and not 'parameters' in globals():\n",
    "    raise Exception(\"Parameter injection failed\")\n",
    "\n",
    "#Use an easy dict for all the parameters\n",
    "p = EasyDict(parameters)\n",
    "\n",
    "supplied_keys = set(p.keys())\n",
    "\n",
    "if  supplied_keys != required_parameters:\n",
    "    print(\"Parameters are incorrect\")\n",
    "    if len(supplied_keys - required_parameters)>0: print(\"Shouldn't have:\", str(supplied_keys - required_parameters))\n",
    "    if len(required_parameters - supplied_keys)>0: print(\"Need to have:\", str(required_parameters - supplied_keys))\n",
    "    raise RuntimeError(\"Parameters are incorrect\")\n",
    "\n"
   ]
  },
  {
   "cell_type": "code",
   "execution_count": 6,
   "id": "3a028d58",
   "metadata": {
    "execution": {
     "iopub.execute_input": "2022-03-14T00:07:33.837975Z",
     "iopub.status.busy": "2022-03-14T00:07:33.837730Z",
     "iopub.status.idle": "2022-03-14T00:07:33.848395Z",
     "shell.execute_reply": "2022-03-14T00:07:33.848009Z"
    },
    "papermill": {
     "duration": 0.02532,
     "end_time": "2022-03-14T00:07:33.848482",
     "exception": false,
     "start_time": "2022-03-14T00:07:33.823162",
     "status": "completed"
    },
    "tags": []
   },
   "outputs": [],
   "source": [
    "###################################\n",
    "# Set the RNGs and make it all deterministic\n",
    "###################################\n",
    "np.random.seed(p.seed)\n",
    "random.seed(p.seed)\n",
    "torch.manual_seed(p.seed)\n",
    "\n",
    "torch.use_deterministic_algorithms(True) "
   ]
  },
  {
   "cell_type": "code",
   "execution_count": 7,
   "id": "b691acf6",
   "metadata": {
    "execution": {
     "iopub.execute_input": "2022-03-14T00:07:33.880862Z",
     "iopub.status.busy": "2022-03-14T00:07:33.880384Z",
     "iopub.status.idle": "2022-03-14T00:07:33.890811Z",
     "shell.execute_reply": "2022-03-14T00:07:33.890567Z"
    },
    "papermill": {
     "duration": 0.02432,
     "end_time": "2022-03-14T00:07:33.890859",
     "exception": false,
     "start_time": "2022-03-14T00:07:33.866539",
     "status": "completed"
    },
    "tags": []
   },
   "outputs": [],
   "source": [
    "###########################################\n",
    "# The stratified datasets honor this\n",
    "###########################################\n",
    "torch.set_default_dtype(eval(p.torch_default_dtype))"
   ]
  },
  {
   "cell_type": "code",
   "execution_count": 8,
   "id": "b5fba671",
   "metadata": {
    "execution": {
     "iopub.execute_input": "2022-03-14T00:07:33.921135Z",
     "iopub.status.busy": "2022-03-14T00:07:33.920891Z",
     "iopub.status.idle": "2022-03-14T00:07:33.956279Z",
     "shell.execute_reply": "2022-03-14T00:07:33.955889Z"
    },
    "papermill": {
     "duration": 0.050141,
     "end_time": "2022-03-14T00:07:33.956365",
     "exception": false,
     "start_time": "2022-03-14T00:07:33.906224",
     "status": "completed"
    },
    "tags": []
   },
   "outputs": [],
   "source": [
    "###################################\n",
    "# Build the network(s)\n",
    "# Note: It's critical to do this AFTER setting the RNG\n",
    "###################################\n",
    "x_net = build_sequential(p.x_net)"
   ]
  },
  {
   "cell_type": "code",
   "execution_count": 9,
   "id": "5d7e61cc",
   "metadata": {
    "execution": {
     "iopub.execute_input": "2022-03-14T00:07:33.989590Z",
     "iopub.status.busy": "2022-03-14T00:07:33.989346Z",
     "iopub.status.idle": "2022-03-14T00:07:34.000152Z",
     "shell.execute_reply": "2022-03-14T00:07:34.000523Z"
    },
    "papermill": {
     "duration": 0.026147,
     "end_time": "2022-03-14T00:07:34.000625",
     "exception": false,
     "start_time": "2022-03-14T00:07:33.974478",
     "status": "completed"
    },
    "tags": []
   },
   "outputs": [],
   "source": [
    "start_time_secs = time.time()"
   ]
  },
  {
   "cell_type": "code",
   "execution_count": 10,
   "id": "c6b67dfd",
   "metadata": {
    "execution": {
     "iopub.execute_input": "2022-03-14T00:07:34.034257Z",
     "iopub.status.busy": "2022-03-14T00:07:34.034012Z",
     "iopub.status.idle": "2022-03-14T00:07:34.044213Z",
     "shell.execute_reply": "2022-03-14T00:07:34.043830Z"
    },
    "papermill": {
     "duration": 0.025321,
     "end_time": "2022-03-14T00:07:34.044298",
     "exception": false,
     "start_time": "2022-03-14T00:07:34.018977",
     "status": "completed"
    },
    "tags": []
   },
   "outputs": [],
   "source": [
    "p.domains_source = []\n",
    "p.domains_target = []\n",
    "\n",
    "\n",
    "train_original_source = []\n",
    "val_original_source   = []\n",
    "test_original_source  = []\n",
    "\n",
    "train_original_target = []\n",
    "val_original_target   = []\n",
    "test_original_target  = []"
   ]
  },
  {
   "cell_type": "code",
   "execution_count": 11,
   "id": "e3d9c3d3",
   "metadata": {
    "execution": {
     "iopub.execute_input": "2022-03-14T00:07:34.077737Z",
     "iopub.status.busy": "2022-03-14T00:07:34.077485Z",
     "iopub.status.idle": "2022-03-14T00:07:34.087515Z",
     "shell.execute_reply": "2022-03-14T00:07:34.087293Z"
    },
    "papermill": {
     "duration": 0.024799,
     "end_time": "2022-03-14T00:07:34.087592",
     "exception": false,
     "start_time": "2022-03-14T00:07:34.062793",
     "status": "completed"
    },
    "tags": []
   },
   "outputs": [],
   "source": [
    "# global_x_transform_func = lambda x: normalize(x.to(torch.get_default_dtype()), \"unit_power\") # unit_power, unit_mag\n",
    "# global_x_transform_func = lambda x: normalize(x, \"unit_power\") # unit_power, unit_mag"
   ]
  },
  {
   "cell_type": "code",
   "execution_count": 12,
   "id": "acb78fd2",
   "metadata": {
    "execution": {
     "iopub.execute_input": "2022-03-14T00:07:34.122600Z",
     "iopub.status.busy": "2022-03-14T00:07:34.122318Z",
     "iopub.status.idle": "2022-03-14T00:07:34.133563Z",
     "shell.execute_reply": "2022-03-14T00:07:34.133179Z"
    },
    "papermill": {
     "duration": 0.028761,
     "end_time": "2022-03-14T00:07:34.133650",
     "exception": false,
     "start_time": "2022-03-14T00:07:34.104889",
     "status": "completed"
    },
    "tags": []
   },
   "outputs": [],
   "source": [
    "def add_dataset(\n",
    "    labels,\n",
    "    domains,\n",
    "    pickle_path,\n",
    "    x_transforms,\n",
    "    episode_transforms,\n",
    "    domain_prefix,\n",
    "    num_examples_per_domain_per_label,\n",
    "    source_or_target_dataset:str,\n",
    "    iterator_seed=p.seed,\n",
    "    dataset_seed=p.dataset_seed,\n",
    "    n_shot=p.n_shot,\n",
    "    n_way=p.n_way,\n",
    "    n_query=p.n_query,\n",
    "    train_val_test_k_factors=(p.train_k_factor,p.val_k_factor,p.test_k_factor),\n",
    "):\n",
    "   \n",
    "    if x_transforms == []: x_transform = None\n",
    "    else: x_transform = get_chained_transform(x_transforms)\n",
    "    \n",
    "    if episode_transforms == []: episode_transform = None\n",
    "    else: raise Exception(\"episode_transforms not implemented\")\n",
    "    \n",
    "    episode_transform = lambda tup, _prefix=domain_prefix: (_prefix + str(tup[0]), tup[1])\n",
    "\n",
    "\n",
    "    eaf = Episodic_Accessor_Factory(\n",
    "        labels=labels,\n",
    "        domains=domains,\n",
    "        num_examples_per_domain_per_label=num_examples_per_domain_per_label,\n",
    "        iterator_seed=iterator_seed,\n",
    "        dataset_seed=dataset_seed,\n",
    "        n_shot=n_shot,\n",
    "        n_way=n_way,\n",
    "        n_query=n_query,\n",
    "        train_val_test_k_factors=train_val_test_k_factors,\n",
    "        pickle_path=pickle_path,\n",
    "        x_transform_func=x_transform,\n",
    "    )\n",
    "\n",
    "    train, val, test = eaf.get_train(), eaf.get_val(), eaf.get_test()\n",
    "    train = Lazy_Iterable_Wrapper(train, episode_transform)\n",
    "    val = Lazy_Iterable_Wrapper(val, episode_transform)\n",
    "    test = Lazy_Iterable_Wrapper(test, episode_transform)\n",
    "\n",
    "    if source_or_target_dataset==\"source\":\n",
    "        train_original_source.append(train)\n",
    "        val_original_source.append(val)\n",
    "        test_original_source.append(test)\n",
    "\n",
    "        p.domains_source.extend(\n",
    "            [domain_prefix + str(u) for u in domains]\n",
    "        )\n",
    "    elif source_or_target_dataset==\"target\":\n",
    "        train_original_target.append(train)\n",
    "        val_original_target.append(val)\n",
    "        test_original_target.append(test)\n",
    "        p.domains_target.extend(\n",
    "            [domain_prefix + str(u) for u in domains]\n",
    "        )\n",
    "    else:\n",
    "        raise Exception(f\"invalid source_or_target_dataset: {source_or_target_dataset}\")\n",
    "    "
   ]
  },
  {
   "cell_type": "code",
   "execution_count": 13,
   "id": "fe266617",
   "metadata": {
    "execution": {
     "iopub.execute_input": "2022-03-14T00:07:34.167182Z",
     "iopub.status.busy": "2022-03-14T00:07:34.166938Z",
     "iopub.status.idle": "2022-03-14T00:07:39.718908Z",
     "shell.execute_reply": "2022-03-14T00:07:39.718443Z"
    },
    "papermill": {
     "duration": 5.567159,
     "end_time": "2022-03-14T00:07:39.718999",
     "exception": false,
     "start_time": "2022-03-14T00:07:34.151840",
     "status": "completed"
    },
    "tags": []
   },
   "outputs": [],
   "source": [
    "for ds in p.datasets:\n",
    "    add_dataset(**ds)"
   ]
  },
  {
   "cell_type": "code",
   "execution_count": 14,
   "id": "b90d65ac",
   "metadata": {
    "execution": {
     "iopub.execute_input": "2022-03-14T00:07:39.752166Z",
     "iopub.status.busy": "2022-03-14T00:07:39.751911Z",
     "iopub.status.idle": "2022-03-14T00:07:39.768072Z",
     "shell.execute_reply": "2022-03-14T00:07:39.767727Z"
    },
    "papermill": {
     "duration": 0.031714,
     "end_time": "2022-03-14T00:07:39.768140",
     "exception": false,
     "start_time": "2022-03-14T00:07:39.736426",
     "status": "completed"
    },
    "tags": []
   },
   "outputs": [],
   "source": [
    "# from steves_utils.CORES.utils import (\n",
    "#     ALL_NODES,\n",
    "#     ALL_NODES_MINIMUM_1000_EXAMPLES,\n",
    "#     ALL_DAYS\n",
    "# )\n",
    "\n",
    "# add_dataset(\n",
    "#     labels=ALL_NODES,\n",
    "#     domains = ALL_DAYS,\n",
    "#     num_examples_per_domain_per_label=100,\n",
    "#     pickle_path=os.path.join(get_datasets_base_path(), \"cores.stratified_ds.2022A.pkl\"),\n",
    "#     source_or_target_dataset=\"target\",\n",
    "#     x_transform_func=global_x_transform_func,\n",
    "#     domain_modifier=lambda u: f\"cores_{u}\"\n",
    "# )"
   ]
  },
  {
   "cell_type": "code",
   "execution_count": 15,
   "id": "76db484d",
   "metadata": {
    "execution": {
     "iopub.execute_input": "2022-03-14T00:07:39.801165Z",
     "iopub.status.busy": "2022-03-14T00:07:39.800919Z",
     "iopub.status.idle": "2022-03-14T00:07:39.815588Z",
     "shell.execute_reply": "2022-03-14T00:07:39.815196Z"
    },
    "papermill": {
     "duration": 0.03065,
     "end_time": "2022-03-14T00:07:39.815681",
     "exception": false,
     "start_time": "2022-03-14T00:07:39.785031",
     "status": "completed"
    },
    "tags": []
   },
   "outputs": [],
   "source": [
    "# from steves_utils.ORACLE.utils_v2 import (\n",
    "#     ALL_DISTANCES_FEET,\n",
    "#     ALL_RUNS,\n",
    "#     ALL_SERIAL_NUMBERS,\n",
    "# )\n",
    "\n",
    "\n",
    "# add_dataset(\n",
    "#     labels=ALL_SERIAL_NUMBERS,\n",
    "#     domains = list(set(ALL_DISTANCES_FEET) - {2,62}),\n",
    "#     num_examples_per_domain_per_label=100,\n",
    "#     pickle_path=os.path.join(get_datasets_base_path(), \"oracle.Run2_framed_2000Examples_stratified_ds.2022A.pkl\"),\n",
    "#     source_or_target_dataset=\"source\",\n",
    "#     x_transform_func=global_x_transform_func,\n",
    "#     domain_modifier=lambda u: f\"oracle1_{u}\"\n",
    "# )\n"
   ]
  },
  {
   "cell_type": "code",
   "execution_count": 16,
   "id": "97dea9d2",
   "metadata": {
    "execution": {
     "iopub.execute_input": "2022-03-14T00:07:39.848774Z",
     "iopub.status.busy": "2022-03-14T00:07:39.848521Z",
     "iopub.status.idle": "2022-03-14T00:07:39.863950Z",
     "shell.execute_reply": "2022-03-14T00:07:39.863562Z"
    },
    "papermill": {
     "duration": 0.031121,
     "end_time": "2022-03-14T00:07:39.864038",
     "exception": false,
     "start_time": "2022-03-14T00:07:39.832917",
     "status": "completed"
    },
    "tags": []
   },
   "outputs": [],
   "source": [
    "# from steves_utils.ORACLE.utils_v2 import (\n",
    "#     ALL_DISTANCES_FEET,\n",
    "#     ALL_RUNS,\n",
    "#     ALL_SERIAL_NUMBERS,\n",
    "# )\n",
    "\n",
    "\n",
    "# add_dataset(\n",
    "#     labels=ALL_SERIAL_NUMBERS,\n",
    "#     domains = list(set(ALL_DISTANCES_FEET) - {2,62,56}),\n",
    "#     num_examples_per_domain_per_label=100,\n",
    "#     pickle_path=os.path.join(get_datasets_base_path(), \"oracle.Run2_framed_2000Examples_stratified_ds.2022A.pkl\"),\n",
    "#     source_or_target_dataset=\"source\",\n",
    "#     x_transform_func=global_x_transform_func,\n",
    "#     domain_modifier=lambda u: f\"oracle2_{u}\"\n",
    "# )"
   ]
  },
  {
   "cell_type": "code",
   "execution_count": 17,
   "id": "6f289866",
   "metadata": {
    "execution": {
     "iopub.execute_input": "2022-03-14T00:07:39.898881Z",
     "iopub.status.busy": "2022-03-14T00:07:39.898636Z",
     "iopub.status.idle": "2022-03-14T00:07:39.911862Z",
     "shell.execute_reply": "2022-03-14T00:07:39.911511Z"
    },
    "papermill": {
     "duration": 0.028774,
     "end_time": "2022-03-14T00:07:39.911931",
     "exception": false,
     "start_time": "2022-03-14T00:07:39.883157",
     "status": "completed"
    },
    "tags": []
   },
   "outputs": [],
   "source": [
    "# add_dataset(\n",
    "#     labels=list(range(19)),\n",
    "#     domains = [0,1,2],\n",
    "#     num_examples_per_domain_per_label=100,\n",
    "#     pickle_path=os.path.join(get_datasets_base_path(), \"metehan.stratified_ds.2022A.pkl\"),\n",
    "#     source_or_target_dataset=\"target\",\n",
    "#     x_transform_func=global_x_transform_func,\n",
    "#     domain_modifier=lambda u: f\"met_{u}\"\n",
    "# )"
   ]
  },
  {
   "cell_type": "code",
   "execution_count": 18,
   "id": "86a863c3",
   "metadata": {
    "execution": {
     "iopub.execute_input": "2022-03-14T00:07:39.946769Z",
     "iopub.status.busy": "2022-03-14T00:07:39.946519Z",
     "iopub.status.idle": "2022-03-14T00:07:39.961003Z",
     "shell.execute_reply": "2022-03-14T00:07:39.960563Z"
    },
    "papermill": {
     "duration": 0.02997,
     "end_time": "2022-03-14T00:07:39.961091",
     "exception": false,
     "start_time": "2022-03-14T00:07:39.931121",
     "status": "completed"
    },
    "tags": []
   },
   "outputs": [],
   "source": [
    "# # from steves_utils.wisig.utils import (\n",
    "# #     ALL_NODES_MINIMUM_100_EXAMPLES,\n",
    "# #     ALL_NODES_MINIMUM_500_EXAMPLES,\n",
    "# #     ALL_NODES_MINIMUM_1000_EXAMPLES,\n",
    "# #     ALL_DAYS\n",
    "# # )\n",
    "\n",
    "# import steves_utils.wisig.utils as wisig\n",
    "\n",
    "\n",
    "# add_dataset(\n",
    "#     labels=wisig.ALL_NODES_MINIMUM_100_EXAMPLES,\n",
    "#     domains = wisig.ALL_DAYS,\n",
    "#     num_examples_per_domain_per_label=100,\n",
    "#     pickle_path=os.path.join(get_datasets_base_path(), \"wisig.node3-19.stratified_ds.2022A.pkl\"),\n",
    "#     source_or_target_dataset=\"target\",\n",
    "#     x_transform_func=global_x_transform_func,\n",
    "#     domain_modifier=lambda u: f\"wisig_{u}\"\n",
    "# )"
   ]
  },
  {
   "cell_type": "code",
   "execution_count": 19,
   "id": "fd5442bc",
   "metadata": {
    "execution": {
     "iopub.execute_input": "2022-03-14T00:07:39.996863Z",
     "iopub.status.busy": "2022-03-14T00:07:39.996497Z",
     "iopub.status.idle": "2022-03-14T00:07:40.007834Z",
     "shell.execute_reply": "2022-03-14T00:07:40.007528Z"
    },
    "papermill": {
     "duration": 0.028071,
     "end_time": "2022-03-14T00:07:40.007902",
     "exception": false,
     "start_time": "2022-03-14T00:07:39.979831",
     "status": "completed"
    },
    "tags": []
   },
   "outputs": [],
   "source": [
    "###################################\n",
    "# Build the dataset\n",
    "###################################\n",
    "train_original_source = Iterable_Aggregator(train_original_source, p.seed)\n",
    "val_original_source = Iterable_Aggregator(val_original_source, p.seed)\n",
    "test_original_source = Iterable_Aggregator(test_original_source, p.seed)\n",
    "\n",
    "\n",
    "train_original_target = Iterable_Aggregator(train_original_target, p.seed)\n",
    "val_original_target = Iterable_Aggregator(val_original_target, p.seed)\n",
    "test_original_target = Iterable_Aggregator(test_original_target, p.seed)\n",
    "\n",
    "# For CNN We only use X and Y. And we only train on the source.\n",
    "# Properly form the data using a transform lambda and Lazy_Iterable_Wrapper. Finally wrap them in a dataloader\n",
    "\n",
    "transform_lambda = lambda ex: ex[1] # Original is (<domain>, <episode>) so we strip down to episode only\n",
    "\n",
    "train_processed_source = Lazy_Iterable_Wrapper(train_original_source, transform_lambda)\n",
    "val_processed_source   = Lazy_Iterable_Wrapper(val_original_source, transform_lambda)\n",
    "test_processed_source  = Lazy_Iterable_Wrapper(test_original_source, transform_lambda)\n",
    "\n",
    "train_processed_target = Lazy_Iterable_Wrapper(train_original_target, transform_lambda)\n",
    "val_processed_target   = Lazy_Iterable_Wrapper(val_original_target, transform_lambda)\n",
    "test_processed_target  = Lazy_Iterable_Wrapper(test_original_target, transform_lambda)\n",
    "\n",
    "datasets = EasyDict({\n",
    "    \"source\": {\n",
    "        \"original\": {\"train\":train_original_source, \"val\":val_original_source, \"test\":test_original_source},\n",
    "        \"processed\": {\"train\":train_processed_source, \"val\":val_processed_source, \"test\":test_processed_source}\n",
    "    },\n",
    "    \"target\": {\n",
    "        \"original\": {\"train\":train_original_target, \"val\":val_original_target, \"test\":test_original_target},\n",
    "        \"processed\": {\"train\":train_processed_target, \"val\":val_processed_target, \"test\":test_processed_target}\n",
    "    },\n",
    "})"
   ]
  },
  {
   "cell_type": "code",
   "execution_count": 20,
   "id": "5b3c01fc",
   "metadata": {
    "execution": {
     "iopub.execute_input": "2022-03-14T00:07:40.044234Z",
     "iopub.status.busy": "2022-03-14T00:07:40.043986Z",
     "iopub.status.idle": "2022-03-14T00:07:53.715555Z",
     "shell.execute_reply": "2022-03-14T00:07:53.715902Z"
    },
    "papermill": {
     "duration": 13.688746,
     "end_time": "2022-03-14T00:07:53.716002",
     "exception": false,
     "start_time": "2022-03-14T00:07:40.027256",
     "status": "completed"
    },
    "tags": []
   },
   "outputs": [
    {
     "name": "stdout",
     "output_type": "stream",
     "text": [
      "{'ORACLE.run1_20', 'ORACLE.run1_38', 'ORACLE.run1_8', 'ORACLE.run1_50', 'ORACLE.run1_44', 'ORACLE.run1_14', 'ORACLE.run1_32', 'ORACLE.run1_26'}\n"
     ]
    },
    {
     "name": "stdout",
     "output_type": "stream",
     "text": [
      "{'CORES_2', 'CORES_5', 'CORES_4', 'CORES_1', 'CORES_3'}\n"
     ]
    },
    {
     "name": "stdout",
     "output_type": "stream",
     "text": [
      "tensor([[[-6.1037e-05, -1.0987e-03,  1.1292e-03,  ..., -1.0376e-03,\n",
      "          -8.8504e-04,  1.7701e-03],\n",
      "         [-1.8616e-03,  7.3244e-04, -3.9674e-04,  ...,  2.1363e-04,\n",
      "          -3.0519e-03,  4.2726e-04]],\n",
      "\n",
      "        [[ 1.4954e-03, -2.3804e-03, -4.6083e-03,  ...,  1.4649e-03,\n",
      "           1.8311e-04, -1.0376e-03],\n",
      "         [-4.5778e-04, -1.3428e-03, -4.7609e-03,  ..., -1.5564e-03,\n",
      "           1.0071e-03, -1.7090e-03]],\n",
      "\n",
      "        [[-2.8382e-03, -1.4954e-03,  3.3570e-04,  ...,  3.9674e-04,\n",
      "           4.6388e-03,  3.5707e-03],\n",
      "         [-6.4089e-04,  1.0987e-03, -1.2207e-03,  ..., -4.9135e-03,\n",
      "           0.0000e+00, -9.1556e-05]],\n",
      "\n",
      "        ...,\n",
      "\n",
      "        [[-6.1037e-05,  3.0824e-03, -3.6622e-04,  ..., -4.1505e-03,\n",
      "          -6.6836e-03,  4.3031e-03],\n",
      "         [ 5.8596e-03, -4.2116e-03, -2.5941e-03,  ..., -6.7141e-04,\n",
      "           1.0071e-03, -4.5473e-03]],\n",
      "\n",
      "        [[-4.2116e-03, -6.5310e-03, -7.8433e-03,  ..., -4.0590e-03,\n",
      "           2.6246e-03,  9.4607e-04],\n",
      "         [ 5.4018e-03,  1.5259e-04,  5.4018e-03,  ..., -1.5259e-03,\n",
      "           3.5096e-03, -9.1556e-04]],\n",
      "\n",
      "        [[ 6.2868e-03, -3.3570e-03, -2.8382e-03,  ..., -3.8148e-03,\n",
      "          -1.8921e-03, -3.0519e-05],\n",
      "         [-2.2279e-03,  4.6999e-03,  3.0519e-05,  ...,  7.2634e-03,\n",
      "           1.0681e-03,  5.0661e-03]]])\n"
     ]
    }
   ],
   "source": [
    "from steves_utils.transforms import get_average_magnitude, get_average_power\n",
    "\n",
    "print(set([u for u,_ in val_original_source]))\n",
    "print(set([u for u,_ in val_original_target]))\n",
    "\n",
    "s_x, s_y, q_x, q_y, _ = next(iter(train_processed_source))\n",
    "print(s_x)\n",
    "\n",
    "# for ds in [\n",
    "#     train_processed_source,\n",
    "#     val_processed_source,\n",
    "#     test_processed_source,\n",
    "#     train_processed_target,\n",
    "#     val_processed_target,\n",
    "#     test_processed_target\n",
    "# ]:\n",
    "#     for s_x, s_y, q_x, q_y, _ in ds:\n",
    "#         for X in (s_x, q_x):\n",
    "#             for x in X:\n",
    "#                 assert np.isclose(get_average_magnitude(x.numpy()), 1.0)\n",
    "#                 assert np.isclose(get_average_power(x.numpy()), 1.0)\n",
    "                "
   ]
  },
  {
   "cell_type": "code",
   "execution_count": 21,
   "id": "bbdacba1",
   "metadata": {
    "execution": {
     "iopub.execute_input": "2022-03-14T00:07:53.750816Z",
     "iopub.status.busy": "2022-03-14T00:07:53.750423Z",
     "iopub.status.idle": "2022-03-14T00:07:53.807484Z",
     "shell.execute_reply": "2022-03-14T00:07:53.807913Z"
    },
    "papermill": {
     "duration": 0.07493,
     "end_time": "2022-03-14T00:07:53.808032",
     "exception": false,
     "start_time": "2022-03-14T00:07:53.733102",
     "status": "completed"
    },
    "tags": []
   },
   "outputs": [
    {
     "name": "stdout",
     "output_type": "stream",
     "text": [
      "(2, 256)\n"
     ]
    }
   ],
   "source": [
    "###################################\n",
    "# Build the model\n",
    "###################################\n",
    "model = Steves_Prototypical_Network(x_net, device=p.device, x_shape=(2,256))\n",
    "optimizer = Adam(params=model.parameters(), lr=p.lr)"
   ]
  },
  {
   "cell_type": "code",
   "execution_count": 22,
   "id": "22b39ac5",
   "metadata": {
    "execution": {
     "iopub.execute_input": "2022-03-14T00:07:53.846685Z",
     "iopub.status.busy": "2022-03-14T00:07:53.846434Z",
     "iopub.status.idle": "2022-03-14T01:22:37.685703Z",
     "shell.execute_reply": "2022-03-14T01:22:37.685464Z"
    },
    "papermill": {
     "duration": 4483.856559,
     "end_time": "2022-03-14T01:22:37.685762",
     "exception": false,
     "start_time": "2022-03-14T00:07:53.829203",
     "status": "completed"
    },
    "tags": []
   },
   "outputs": [
    {
     "name": "stdout",
     "output_type": "stream",
     "text": [
      "epoch: 1, [batch: 1 / 33600], examples_per_second: 9.8745, train_label_loss: 2.4283, \n"
     ]
    },
    {
     "name": "stdout",
     "output_type": "stream",
     "text": [
      "epoch: 1, [batch: 3360 / 33600], examples_per_second: 3165.0979, train_label_loss: 1.0673, \n"
     ]
    },
    {
     "name": "stdout",
     "output_type": "stream",
     "text": [
      "epoch: 1, [batch: 6720 / 33600], examples_per_second: 3163.4483, train_label_loss: 0.8903, \n"
     ]
    },
    {
     "name": "stdout",
     "output_type": "stream",
     "text": [
      "epoch: 1, [batch: 10080 / 33600], examples_per_second: 3156.5158, train_label_loss: 0.4152, \n"
     ]
    },
    {
     "name": "stdout",
     "output_type": "stream",
     "text": [
      "epoch: 1, [batch: 13440 / 33600], examples_per_second: 3140.3576, train_label_loss: 0.5033, \n"
     ]
    },
    {
     "name": "stdout",
     "output_type": "stream",
     "text": [
      "epoch: 1, [batch: 16800 / 33600], examples_per_second: 3152.2927, train_label_loss: 0.3068, \n"
     ]
    },
    {
     "name": "stdout",
     "output_type": "stream",
     "text": [
      "epoch: 1, [batch: 20160 / 33600], examples_per_second: 3149.5218, train_label_loss: 0.3657, \n"
     ]
    },
    {
     "name": "stdout",
     "output_type": "stream",
     "text": [
      "epoch: 1, [batch: 23520 / 33600], examples_per_second: 3148.2504, train_label_loss: 0.2881, \n"
     ]
    },
    {
     "name": "stdout",
     "output_type": "stream",
     "text": [
      "epoch: 1, [batch: 26880 / 33600], examples_per_second: 3151.6825, train_label_loss: 0.5665, \n"
     ]
    },
    {
     "name": "stdout",
     "output_type": "stream",
     "text": [
      "epoch: 1, [batch: 30240 / 33600], examples_per_second: 3160.0763, train_label_loss: 0.7332, \n"
     ]
    },
    {
     "name": "stdout",
     "output_type": "stream",
     "text": [
      "=============================================================\n",
      "epoch: 1, source_val_acc_label: 0.6676, target_val_acc_label: 0.7616, source_val_label_loss: 14.0273, target_val_label_loss: 184.2875, \n",
      "=============================================================\n"
     ]
    },
    {
     "name": "stdout",
     "output_type": "stream",
     "text": [
      "New best\n"
     ]
    },
    {
     "name": "stdout",
     "output_type": "stream",
     "text": [
      "epoch: 2, [batch: 1 / 33600], examples_per_second: 1.1813, train_label_loss: 0.5319, \n"
     ]
    },
    {
     "name": "stdout",
     "output_type": "stream",
     "text": [
      "epoch: 2, [batch: 3360 / 33600], examples_per_second: 3183.8806, train_label_loss: 0.3503, \n"
     ]
    },
    {
     "name": "stdout",
     "output_type": "stream",
     "text": [
      "epoch: 2, [batch: 6720 / 33600], examples_per_second: 3185.4105, train_label_loss: 0.6040, \n"
     ]
    },
    {
     "name": "stdout",
     "output_type": "stream",
     "text": [
      "epoch: 2, [batch: 10080 / 33600], examples_per_second: 3188.5384, train_label_loss: 0.2808, \n"
     ]
    },
    {
     "name": "stdout",
     "output_type": "stream",
     "text": [
      "epoch: 2, [batch: 13440 / 33600], examples_per_second: 3172.6387, train_label_loss: 0.2234, \n"
     ]
    },
    {
     "name": "stdout",
     "output_type": "stream",
     "text": [
      "epoch: 2, [batch: 16800 / 33600], examples_per_second: 3190.3156, train_label_loss: 0.7678, \n"
     ]
    },
    {
     "name": "stdout",
     "output_type": "stream",
     "text": [
      "epoch: 2, [batch: 20160 / 33600], examples_per_second: 3188.4832, train_label_loss: 0.7354, \n"
     ]
    },
    {
     "name": "stdout",
     "output_type": "stream",
     "text": [
      "epoch: 2, [batch: 23520 / 33600], examples_per_second: 3180.3835, train_label_loss: 0.3471, \n"
     ]
    },
    {
     "name": "stdout",
     "output_type": "stream",
     "text": [
      "epoch: 2, [batch: 26880 / 33600], examples_per_second: 3184.3106, train_label_loss: 0.3195, \n"
     ]
    },
    {
     "name": "stdout",
     "output_type": "stream",
     "text": [
      "epoch: 2, [batch: 30240 / 33600], examples_per_second: 3190.3725, train_label_loss: 0.2870, \n"
     ]
    },
    {
     "name": "stdout",
     "output_type": "stream",
     "text": [
      "=============================================================\n",
      "epoch: 2, source_val_acc_label: 0.8586, target_val_acc_label: 0.8469, source_val_label_loss: 0.4106, target_val_label_loss: 920.2595, \n",
      "=============================================================\n"
     ]
    },
    {
     "name": "stdout",
     "output_type": "stream",
     "text": [
      "epoch: 3, [batch: 1 / 33600], examples_per_second: 1.1916, train_label_loss: 0.6207, \n"
     ]
    },
    {
     "name": "stdout",
     "output_type": "stream",
     "text": [
      "epoch: 3, [batch: 3360 / 33600], examples_per_second: 3178.4021, train_label_loss: 0.4236, \n"
     ]
    },
    {
     "name": "stdout",
     "output_type": "stream",
     "text": [
      "epoch: 3, [batch: 6720 / 33600], examples_per_second: 3190.7842, train_label_loss: 0.2337, \n"
     ]
    },
    {
     "name": "stdout",
     "output_type": "stream",
     "text": [
      "epoch: 3, [batch: 10080 / 33600], examples_per_second: 3199.1940, train_label_loss: 0.3744, \n"
     ]
    },
    {
     "name": "stdout",
     "output_type": "stream",
     "text": [
      "epoch: 3, [batch: 13440 / 33600], examples_per_second: 3174.4978, train_label_loss: 0.3448, \n"
     ]
    },
    {
     "name": "stdout",
     "output_type": "stream",
     "text": [
      "epoch: 3, [batch: 16800 / 33600], examples_per_second: 3185.0164, train_label_loss: 0.3447, \n"
     ]
    },
    {
     "name": "stdout",
     "output_type": "stream",
     "text": [
      "epoch: 3, [batch: 20160 / 33600], examples_per_second: 3186.8235, train_label_loss: 0.4493, \n"
     ]
    },
    {
     "name": "stdout",
     "output_type": "stream",
     "text": [
      "epoch: 3, [batch: 23520 / 33600], examples_per_second: 3159.9631, train_label_loss: 0.5563, \n"
     ]
    },
    {
     "name": "stdout",
     "output_type": "stream",
     "text": [
      "epoch: 3, [batch: 26880 / 33600], examples_per_second: 3185.2317, train_label_loss: 0.1162, \n"
     ]
    },
    {
     "name": "stdout",
     "output_type": "stream",
     "text": [
      "epoch: 3, [batch: 30240 / 33600], examples_per_second: 3185.7477, train_label_loss: 0.3912, \n"
     ]
    },
    {
     "name": "stdout",
     "output_type": "stream",
     "text": [
      "=============================================================\n",
      "epoch: 3, source_val_acc_label: 0.8688, target_val_acc_label: 0.8416, source_val_label_loss: 0.3713, target_val_label_loss: 1743.2975, \n",
      "=============================================================\n"
     ]
    },
    {
     "name": "stdout",
     "output_type": "stream",
     "text": [
      "epoch: 4, [batch: 1 / 33600], examples_per_second: 1.1860, train_label_loss: 0.1823, \n"
     ]
    },
    {
     "name": "stdout",
     "output_type": "stream",
     "text": [
      "epoch: 4, [batch: 3360 / 33600], examples_per_second: 3173.9394, train_label_loss: 0.3047, \n"
     ]
    },
    {
     "name": "stdout",
     "output_type": "stream",
     "text": [
      "epoch: 4, [batch: 6720 / 33600], examples_per_second: 3182.3789, train_label_loss: 0.4231, \n"
     ]
    },
    {
     "name": "stdout",
     "output_type": "stream",
     "text": [
      "epoch: 4, [batch: 10080 / 33600], examples_per_second: 3189.1490, train_label_loss: 0.2242, \n"
     ]
    },
    {
     "name": "stdout",
     "output_type": "stream",
     "text": [
      "epoch: 4, [batch: 13440 / 33600], examples_per_second: 3166.8095, train_label_loss: 0.2069, \n"
     ]
    },
    {
     "name": "stdout",
     "output_type": "stream",
     "text": [
      "epoch: 4, [batch: 16800 / 33600], examples_per_second: 3184.8327, train_label_loss: 0.2600, \n"
     ]
    },
    {
     "name": "stdout",
     "output_type": "stream",
     "text": [
      "epoch: 4, [batch: 20160 / 33600], examples_per_second: 3182.1658, train_label_loss: 0.0834, \n"
     ]
    },
    {
     "name": "stdout",
     "output_type": "stream",
     "text": [
      "epoch: 4, [batch: 23520 / 33600], examples_per_second: 3160.2964, train_label_loss: 0.1252, \n"
     ]
    },
    {
     "name": "stdout",
     "output_type": "stream",
     "text": [
      "epoch: 4, [batch: 26880 / 33600], examples_per_second: 3179.5552, train_label_loss: 0.2126, \n"
     ]
    },
    {
     "name": "stdout",
     "output_type": "stream",
     "text": [
      "epoch: 4, [batch: 30240 / 33600], examples_per_second: 3183.0846, train_label_loss: 0.3738, \n"
     ]
    },
    {
     "name": "stdout",
     "output_type": "stream",
     "text": [
      "=============================================================\n",
      "epoch: 4, source_val_acc_label: 0.8785, target_val_acc_label: 0.8097, source_val_label_loss: 0.3371, target_val_label_loss: 3784.4792, \n",
      "=============================================================\n"
     ]
    },
    {
     "name": "stdout",
     "output_type": "stream",
     "text": [
      "epoch: 5, [batch: 1 / 33600], examples_per_second: 1.1818, train_label_loss: 0.3567, \n"
     ]
    },
    {
     "name": "stdout",
     "output_type": "stream",
     "text": [
      "epoch: 5, [batch: 3360 / 33600], examples_per_second: 3180.5300, train_label_loss: 0.2224, \n"
     ]
    },
    {
     "name": "stdout",
     "output_type": "stream",
     "text": [
      "epoch: 5, [batch: 6720 / 33600], examples_per_second: 3164.7269, train_label_loss: 0.1491, \n"
     ]
    },
    {
     "name": "stdout",
     "output_type": "stream",
     "text": [
      "epoch: 5, [batch: 10080 / 33600], examples_per_second: 3181.4021, train_label_loss: 0.1216, \n"
     ]
    },
    {
     "name": "stdout",
     "output_type": "stream",
     "text": [
      "epoch: 5, [batch: 13440 / 33600], examples_per_second: 3171.5322, train_label_loss: 0.3844, \n"
     ]
    },
    {
     "name": "stdout",
     "output_type": "stream",
     "text": [
      "epoch: 5, [batch: 16800 / 33600], examples_per_second: 3183.8440, train_label_loss: 0.4786, \n"
     ]
    },
    {
     "name": "stdout",
     "output_type": "stream",
     "text": [
      "epoch: 5, [batch: 20160 / 33600], examples_per_second: 3183.6059, train_label_loss: 0.1659, \n"
     ]
    },
    {
     "name": "stdout",
     "output_type": "stream",
     "text": [
      "epoch: 5, [batch: 23520 / 33600], examples_per_second: 3166.9495, train_label_loss: 0.2930, \n"
     ]
    },
    {
     "name": "stdout",
     "output_type": "stream",
     "text": [
      "epoch: 5, [batch: 26880 / 33600], examples_per_second: 3186.6986, train_label_loss: 0.2161, \n"
     ]
    },
    {
     "name": "stdout",
     "output_type": "stream",
     "text": [
      "epoch: 5, [batch: 30240 / 33600], examples_per_second: 3178.1718, train_label_loss: 0.1556, \n"
     ]
    },
    {
     "name": "stdout",
     "output_type": "stream",
     "text": [
      "=============================================================\n",
      "epoch: 5, source_val_acc_label: 0.8815, target_val_acc_label: 0.7756, source_val_label_loss: 0.3269, target_val_label_loss: 6316.6772, \n",
      "=============================================================\n"
     ]
    },
    {
     "name": "stdout",
     "output_type": "stream",
     "text": [
      "Patience (3) exhausted\n"
     ]
    }
   ],
   "source": [
    "###################################\n",
    "# train\n",
    "###################################\n",
    "jig = PTN_Train_Eval_Test_Jig(model, p.BEST_MODEL_PATH, p.device)\n",
    "\n",
    "jig.train(\n",
    "    train_iterable=datasets.source.processed.train,\n",
    "    source_val_iterable=datasets.source.processed.val,\n",
    "    target_val_iterable=datasets.target.processed.val,\n",
    "    num_epochs=p.n_epoch,\n",
    "    num_logs_per_epoch=p.NUM_LOGS_PER_EPOCH,\n",
    "    patience=p.patience,\n",
    "    optimizer=optimizer,\n",
    "    criteria_for_best=p.criteria_for_best,\n",
    ")"
   ]
  },
  {
   "cell_type": "code",
   "execution_count": 23,
   "id": "31e8fabf",
   "metadata": {
    "execution": {
     "iopub.execute_input": "2022-03-14T01:22:37.738240Z",
     "iopub.status.busy": "2022-03-14T01:22:37.737987Z",
     "iopub.status.idle": "2022-03-14T01:22:37.754357Z",
     "shell.execute_reply": "2022-03-14T01:22:37.754760Z"
    },
    "papermill": {
     "duration": 0.044275,
     "end_time": "2022-03-14T01:22:37.754892",
     "exception": false,
     "start_time": "2022-03-14T01:22:37.710617",
     "status": "completed"
    },
    "tags": []
   },
   "outputs": [],
   "source": [
    "total_experiment_time_secs = time.time() - start_time_secs"
   ]
  },
  {
   "cell_type": "code",
   "execution_count": 24,
   "id": "87b9595b",
   "metadata": {
    "execution": {
     "iopub.execute_input": "2022-03-14T01:22:37.814707Z",
     "iopub.status.busy": "2022-03-14T01:22:37.810235Z",
     "iopub.status.idle": "2022-03-14T01:26:44.722393Z",
     "shell.execute_reply": "2022-03-14T01:26:44.722778Z"
    },
    "papermill": {
     "duration": 246.938998,
     "end_time": "2022-03-14T01:26:44.722912",
     "exception": false,
     "start_time": "2022-03-14T01:22:37.783914",
     "status": "completed"
    },
    "tags": []
   },
   "outputs": [],
   "source": [
    "###################################\n",
    "# Evaluate the model\n",
    "###################################\n",
    "source_test_label_accuracy, source_test_label_loss = jig.test(datasets.source.processed.test)\n",
    "target_test_label_accuracy, target_test_label_loss = jig.test(datasets.target.processed.test)\n",
    "\n",
    "source_val_label_accuracy, source_val_label_loss = jig.test(datasets.source.processed.val)\n",
    "target_val_label_accuracy, target_val_label_loss = jig.test(datasets.target.processed.val)\n",
    "\n",
    "history = jig.get_history()\n",
    "\n",
    "total_epochs_trained = len(history[\"epoch_indices\"])\n",
    "\n",
    "val_dl = Iterable_Aggregator((datasets.source.original.val,datasets.target.original.val))\n",
    "\n",
    "confusion = ptn_confusion_by_domain_over_dataloader(model, p.device, val_dl)\n",
    "per_domain_accuracy = per_domain_accuracy_from_confusion(confusion)\n",
    "\n",
    "# Add a key to per_domain_accuracy for if it was a source domain\n",
    "for domain, accuracy in per_domain_accuracy.items():\n",
    "    per_domain_accuracy[domain] = {\n",
    "        \"accuracy\": accuracy,\n",
    "        \"source?\": domain in p.domains_source\n",
    "    }\n",
    "\n",
    "# Do an independent accuracy assesment JUST TO BE SURE!\n",
    "# _source_test_label_accuracy = independent_accuracy_assesment(model, datasets.source.processed.test, p.device)\n",
    "# _target_test_label_accuracy = independent_accuracy_assesment(model, datasets.target.processed.test, p.device)\n",
    "# _source_val_label_accuracy = independent_accuracy_assesment(model, datasets.source.processed.val, p.device)\n",
    "# _target_val_label_accuracy = independent_accuracy_assesment(model, datasets.target.processed.val, p.device)\n",
    "\n",
    "# assert(_source_test_label_accuracy == source_test_label_accuracy)\n",
    "# assert(_target_test_label_accuracy == target_test_label_accuracy)\n",
    "# assert(_source_val_label_accuracy == source_val_label_accuracy)\n",
    "# assert(_target_val_label_accuracy == target_val_label_accuracy)\n",
    "\n",
    "experiment = {\n",
    "    \"experiment_name\": p.experiment_name,\n",
    "    \"parameters\": dict(p),\n",
    "    \"results\": {\n",
    "        \"source_test_label_accuracy\": source_test_label_accuracy,\n",
    "        \"source_test_label_loss\": source_test_label_loss,\n",
    "        \"target_test_label_accuracy\": target_test_label_accuracy,\n",
    "        \"target_test_label_loss\": target_test_label_loss,\n",
    "        \"source_val_label_accuracy\": source_val_label_accuracy,\n",
    "        \"source_val_label_loss\": source_val_label_loss,\n",
    "        \"target_val_label_accuracy\": target_val_label_accuracy,\n",
    "        \"target_val_label_loss\": target_val_label_loss,\n",
    "        \"total_epochs_trained\": total_epochs_trained,\n",
    "        \"total_experiment_time_secs\": total_experiment_time_secs,\n",
    "        \"confusion\": confusion,\n",
    "        \"per_domain_accuracy\": per_domain_accuracy,\n",
    "    },\n",
    "    \"history\": history,\n",
    "    \"dataset_metrics\": get_dataset_metrics(datasets, \"ptn\"),\n",
    "}"
   ]
  },
  {
   "cell_type": "code",
   "execution_count": 25,
   "id": "54a21829",
   "metadata": {
    "execution": {
     "iopub.execute_input": "2022-03-14T01:26:44.782340Z",
     "iopub.status.busy": "2022-03-14T01:26:44.782084Z",
     "iopub.status.idle": "2022-03-14T01:26:44.962925Z",
     "shell.execute_reply": "2022-03-14T01:26:44.962484Z"
    },
    "papermill": {
     "duration": 0.208254,
     "end_time": "2022-03-14T01:26:44.963018",
     "exception": false,
     "start_time": "2022-03-14T01:26:44.754764",
     "status": "completed"
    },
    "tags": []
   },
   "outputs": [
    {
     "data": {
      "image/png": "[encoded data removed]",
      "text/plain": [
       "<Figure size 1080x504 with 1 Axes>"
      ]
     },
     "metadata": {
      "needs_background": "light"
     },
     "output_type": "display_data"
    }
   ],
   "source": [
    "ax = get_loss_curve(experiment)\n",
    "plt.show()"
   ]
  },
  {
   "cell_type": "code",
   "execution_count": 26,
   "id": "fd8a0f60",
   "metadata": {
    "execution": {
     "iopub.execute_input": "2022-03-14T01:26:45.021427Z",
     "iopub.status.busy": "2022-03-14T01:26:45.021174Z",
     "iopub.status.idle": "2022-03-14T01:26:45.199362Z",
     "shell.execute_reply": "2022-03-14T01:26:45.199601Z"
    },
    "papermill": {
     "duration": 0.206623,
     "end_time": "2022-03-14T01:26:45.199661",
     "exception": false,
     "start_time": "2022-03-14T01:26:44.993038",
     "status": "completed"
    },
    "tags": []
   },
   "outputs": [
    {
     "data": {
      "text/plain": [
       "<matplotlib.axes._subplots.AxesSubplot at 0x7f381f473160>"
      ]
     },
     "execution_count": 26,
     "metadata": {},
     "output_type": "execute_result"
    },
    {
     "data": {
      "image/png": "[encoded data removed]",
      "text/plain": [
       "<Figure size 1080x504 with 1 Axes>"
      ]
     },
     "metadata": {
      "needs_background": "light"
     },
     "output_type": "display_data"
    }
   ],
   "source": [
    "get_results_table(experiment)"
   ]
  },
  {
   "cell_type": "code",
   "execution_count": 27,
   "id": "cf8dc689",
   "metadata": {
    "execution": {
     "iopub.execute_input": "2022-03-14T01:26:45.255654Z",
     "iopub.status.busy": "2022-03-14T01:26:45.255385Z",
     "iopub.status.idle": "2022-03-14T01:26:45.455550Z",
     "shell.execute_reply": "2022-03-14T01:26:45.455075Z"
    },
    "papermill": {
     "duration": 0.228802,
     "end_time": "2022-03-14T01:26:45.455641",
     "exception": false,
     "start_time": "2022-03-14T01:26:45.226839",
     "status": "completed"
    },
    "tags": []
   },
   "outputs": [
    {
     "data": {
      "text/plain": [
       "<matplotlib.axes._subplots.AxesSubplot at 0x7f38c13faf40>"
      ]
     },
     "execution_count": 27,
     "metadata": {},
     "output_type": "execute_result"
    },
    {
     "data": {
      "image/png": "[encoded data removed]",
      "text/plain": [
       "<Figure size 1080x504 with 1 Axes>"
      ]
     },
     "metadata": {
      "needs_background": "light"
     },
     "output_type": "display_data"
    }
   ],
   "source": [
    "get_domain_accuracies(experiment)"
   ]
  },
  {
   "cell_type": "code",
   "execution_count": 28,
   "id": "a74ae082",
   "metadata": {
    "execution": {
     "iopub.execute_input": "2022-03-14T01:26:45.517246Z",
     "iopub.status.busy": "2022-03-14T01:26:45.516991Z",
     "iopub.status.idle": "2022-03-14T01:26:45.529513Z",
     "shell.execute_reply": "2022-03-14T01:26:45.529069Z"
    },
    "papermill": {
     "duration": 0.04228,
     "end_time": "2022-03-14T01:26:45.529602",
     "exception": false,
     "start_time": "2022-03-14T01:26:45.487322",
     "status": "completed"
    },
    "tags": []
   },
   "outputs": [
    {
     "name": "stdout",
     "output_type": "stream",
     "text": [
      "Source Test Label Accuracy: 0.666640625 Target Test Label Accuracy: 0.77125\n",
      "Source Val Label Accuracy: 0.66763671875 Target Val Label Accuracy: 0.7615625\n"
     ]
    }
   ],
   "source": [
    "print(\"Source Test Label Accuracy:\", experiment[\"results\"][\"source_test_label_accuracy\"], \"Target Test Label Accuracy:\", experiment[\"results\"][\"target_test_label_accuracy\"])\n",
    "print(\"Source Val Label Accuracy:\", experiment[\"results\"][\"source_val_label_accuracy\"], \"Target Val Label Accuracy:\", experiment[\"results\"][\"target_val_label_accuracy\"])"
   ]
  },
  {
   "cell_type": "code",
   "execution_count": 29,
   "id": "dacca602",
   "metadata": {
    "execution": {
     "iopub.execute_input": "2022-03-14T01:26:45.592155Z",
     "iopub.status.busy": "2022-03-14T01:26:45.591908Z",
     "iopub.status.idle": "2022-03-14T01:26:45.603625Z",
     "shell.execute_reply": "2022-03-14T01:26:45.603279Z"
    },
    "papermill": {
     "duration": 0.041388,
     "end_time": "2022-03-14T01:26:45.603696",
     "exception": false,
     "start_time": "2022-03-14T01:26:45.562308",
     "status": "completed"
    },
    "tags": [
     "experiment_json"
    ]
   },
   "outputs": [
    {
     "data": {
      "text/plain": [
       "'{\"experiment_name\": \"tl_1_cores-oracle.run1\", \"parameters\": {\"experiment_name\": \"tl_1_cores-oracle.run1\", \"device\": \"cuda\", \"lr\": 0.001, \"seed\": 1337, \"dataset_seed\": 1337, \"n_shot\": 3, \"n_query\": 2, \"train_k_factor\": 3, \"val_k_factor\": 2, \"test_k_factor\": 2, \"torch_default_dtype\": \"torch.float32\", \"n_epoch\": 50, \"patience\": 3, \"criteria_for_best\": \"target_loss\", \"x_net\": [{\"class\": \"nnReshape\", \"kargs\": {\"shape\": [-1, 1, 2, 256]}}, {\"class\": \"Conv2d\", \"kargs\": {\"in_channels\": 1, \"out_channels\": 256, \"kernel_size\": [1, 7], \"bias\": false, \"padding\": [0, 3]}}, {\"class\": \"ReLU\", \"kargs\": {\"inplace\": true}}, {\"class\": \"BatchNorm2d\", \"kargs\": {\"num_features\": 256}}, {\"class\": \"Conv2d\", \"kargs\": {\"in_channels\": 256, \"out_channels\": 80, \"kernel_size\": [2, 7], \"bias\": true, \"padding\": [0, 3]}}, {\"class\": \"ReLU\", \"kargs\": {\"inplace\": true}}, {\"class\": \"BatchNorm2d\", \"kargs\": {\"num_features\": 80}}, {\"class\": \"Flatten\", \"kargs\": {}}, {\"class\": \"Linear\", \"kargs\": {\"in_features\": 20480, \"out_features\": 256}}, {\"class\": \"ReLU\", \"kargs\": {\"inplace\": true}}, {\"class\": \"BatchNorm1d\", \"kargs\": {\"num_features\": 256}}, {\"class\": \"Linear\", \"kargs\": {\"in_features\": 256, \"out_features\": 256}}], \"NUM_LOGS_PER_EPOCH\": 10, \"BEST_MODEL_PATH\": \"./best_model.pth\", \"n_way\": 16, \"datasets\": [{\"labels\": [\"1-10.\", \"1-11.\", \"1-15.\", \"1-16.\", \"1-17.\", \"1-18.\", \"1-19.\", \"10-4.\", \"10-7.\", \"11-1.\", \"11-14.\", \"11-17.\", \"11-20.\", \"11-7.\", \"13-20.\", \"13-8.\", \"14-10.\", \"14-11.\", \"14-14.\", \"14-7.\", \"15-1.\", \"15-20.\", \"16-1.\", \"16-16.\", \"17-10.\", \"17-11.\", \"17-2.\", \"19-1.\", \"19-16.\", \"19-19.\", \"19-20.\", \"19-3.\", \"2-10.\", \"2-11.\", \"2-17.\", \"2-18.\", \"2-20.\", \"2-3.\", \"2-4.\", \"2-5.\", \"2-6.\", \"2-7.\", \"2-8.\", \"3-13.\", \"3-18.\", \"3-3.\", \"4-1.\", \"4-10.\", \"4-11.\", \"4-19.\", \"5-5.\", \"6-15.\", \"7-10.\", \"7-14.\", \"8-18.\", \"8-20.\", \"8-3.\", \"8-8.\"], \"domains\": [1, 2, 3, 4, 5], \"num_examples_per_domain_per_label\": 100, \"pickle_path\": \"/mnt/wd500GB/CSC500/csc500-main/datasets/cores.stratified_ds.2022A.pkl\", \"source_or_target_dataset\": \"target\", \"x_transforms\": [], \"episode_transforms\": [], \"domain_prefix\": \"CORES_\"}, {\"labels\": [\"3123D52\", \"3123D65\", \"3123D79\", \"3123D80\", \"3123D54\", \"3123D70\", \"3123D7B\", \"3123D89\", \"3123D58\", \"3123D76\", \"3123D7D\", \"3123EFE\", \"3123D64\", \"3123D78\", \"3123D7E\", \"3124E4A\"], \"domains\": [32, 38, 8, 44, 14, 50, 20, 26], \"num_examples_per_domain_per_label\": 10000, \"pickle_path\": \"/mnt/wd500GB/CSC500/csc500-main/datasets/oracle.Run1_10kExamples_stratified_ds.2022A.pkl\", \"source_or_target_dataset\": \"source\", \"x_transforms\": [], \"episode_transforms\": [], \"domain_prefix\": \"ORACLE.run1_\"}], \"domains_source\": [\"ORACLE.run1_32\", \"ORACLE.run1_38\", \"ORACLE.run1_8\", \"ORACLE.run1_44\", \"ORACLE.run1_14\", \"ORACLE.run1_50\", \"ORACLE.run1_20\", \"ORACLE.run1_26\"], \"domains_target\": [\"CORES_1\", \"CORES_2\", \"CORES_3\", \"CORES_4\", \"CORES_5\"]}, \"results\": {\"source_test_label_accuracy\": 0.666640625, \"source_test_label_loss\": 13.511224746704102, \"target_test_label_accuracy\": 0.77125, \"target_test_label_loss\": 168.5720672607422, \"source_val_label_accuracy\": 0.66763671875, \"source_val_label_loss\": 14.027276992797852, \"target_val_label_accuracy\": 0.7615625, \"target_val_label_loss\": 184.28753662109375, \"total_epochs_trained\": 5, \"total_experiment_time_secs\": 4503.753968954086, \"confusion\": {\"ORACLE.run1_14\": {\"15\": {\"15\": 1200}, \"3\": {\"3\": 1159, \"0\": 11, \"13\": 3, \"14\": 12, \"6\": 12, \"2\": 3}, \"6\": {\"6\": 743, \"13\": 255, \"3\": 39, \"14\": 128, \"2\": 32, \"7\": 3}, \"1\": {\"1\": 809, \"4\": 24, \"9\": 182, \"10\": 178, \"2\": 2, \"7\": 2, \"5\": 3}, \"8\": {\"8\": 1105, \"0\": 90, \"5\": 3, \"2\": 1, \"4\": 1}, \"10\": {\"10\": 1095, \"4\": 88, \"1\": 11, \"9\": 6}, \"9\": {\"10\": 113, \"9\": 976, \"1\": 111}, \"13\": {\"14\": 253, \"6\": 403, \"15\": 123, \"13\": 210, \"5\": 82, \"3\": 15, \"2\": 100, \"4\": 14}, \"12\": {\"12\": 1200}, \"5\": {\"5\": 942, \"2\": 212, \"13\": 5, \"14\": 9, \"7\": 17, \"4\": 7, \"8\": 5, \"0\": 3}, \"0\": {\"8\": 287, \"3\": 284, \"0\": 582, \"14\": 26, \"2\": 6, \"4\": 13, \"5\": 2}, \"2\": {\"2\": 253, \"5\": 396, \"14\": 115, \"13\": 64, \"4\": 126, \"6\": 94, \"7\": 79, \"3\": 70, \"8\": 2, \"0\": 1}, \"11\": {\"11\": 1116, \"1\": 81, \"7\": 1, \"5\": 1, \"9\": 1}, \"14\": {\"14\": 917, \"13\": 105, \"2\": 79, \"3\": 45, \"5\": 24, \"6\": 27, \"0\": 2, \"7\": 1}, \"7\": {\"7\": 1140, \"2\": 37, \"5\": 22, \"13\": 1}, \"4\": {\"4\": 1135, \"5\": 18, \"10\": 27, \"2\": 19, \"1\": 1}}, \"ORACLE.run1_20\": {\"3\": {\"5\": 190, \"0\": 130, \"1\": 121, \"8\": 166, \"3\": 210, \"9\": 122, \"15\": 15, \"14\": 78, \"7\": 69, \"6\": 43, \"12\": 18, \"2\": 13, \"4\": 13, \"13\": 5, \"11\": 4, \"10\": 3}, \"15\": {\"9\": 101, \"15\": 165, \"1\": 109, \"3\": 42, \"0\": 7, \"12\": 156, \"13\": 116, \"2\": 129, \"6\": 36, \"10\": 46, \"5\": 78, \"4\": 101, \"7\": 95, \"8\": 17, \"14\": 2}, \"8\": {\"0\": 249, \"8\": 289, \"3\": 188, \"9\": 49, \"6\": 31, \"14\": 193, \"5\": 85, \"15\": 3, \"4\": 13, \"11\": 27, \"7\": 32, \"2\": 9, \"1\": 27, \"12\": 5}, \"4\": {\"10\": 173, \"6\": 67, \"2\": 140, \"12\": 135, \"13\": 121, \"15\": 99, \"4\": 196, \"9\": 53, \"7\": 80, \"5\": 41, \"1\": 57, \"0\": 4, \"3\": 23, \"8\": 9, \"14\": 2}, \"14\": {\"0\": 105, \"8\": 252, \"6\": 77, \"14\": 269, \"7\": 55, \"9\": 88, \"3\": 139, \"1\": 47, \"11\": 22, \"5\": 79, \"4\": 12, \"2\": 24, \"15\": 7, \"13\": 4, \"12\": 18, \"10\": 2}, \"0\": {\"0\": 1009, \"11\": 97, \"1\": 3, \"8\": 44, \"3\": 20, \"5\": 8, \"14\": 13, \"9\": 5, \"2\": 1}, \"7\": {\"10\": 53, \"7\": 170, \"9\": 135, \"2\": 142, \"4\": 94, \"6\": 123, \"3\": 52, \"5\": 84, \"1\": 88, \"12\": 95, \"15\": 71, \"13\": 55, \"8\": 21, \"14\": 7, \"0\": 10}, \"6\": {\"9\": 119, \"7\": 174, \"10\": 89, \"15\": 30, \"13\": 77, \"2\": 122, \"6\": 234, \"1\": 40, \"3\": 32, \"4\": 133, \"8\": 12, \"12\": 72, \"5\": 41, \"14\": 21, \"0\": 2, \"11\": 2}, \"10\": {\"10\": 619, \"15\": 28, \"13\": 240, \"4\": 117, \"2\": 78, \"7\": 22, \"12\": 55, \"1\": 5, \"6\": 31, \"9\": 4, \"5\": 1}, \"5\": {\"8\": 134, \"7\": 71, \"9\": 141, \"6\": 26, \"5\": 205, \"1\": 168, \"15\": 34, \"14\": 53, \"3\": 200, \"0\": 88, \"2\": 34, \"12\": 28, \"13\": 4, \"4\": 10, \"10\": 4}, \"2\": {\"7\": 118, \"12\": 136, \"13\": 127, \"10\": 103, \"6\": 79, \"1\": 69, \"2\": 160, \"4\": 117, \"5\": 41, \"9\": 82, \"15\": 128, \"0\": 6, \"3\": 23, \"8\": 10, \"14\": 1}, \"12\": {\"2\": 172, \"12\": 158, \"13\": 103, \"10\": 91, \"4\": 123, \"1\": 91, \"15\": 155, \"5\": 47, \"7\": 100, \"9\": 73, \"6\": 41, \"0\": 6, \"3\": 23, \"8\": 12, \"14\": 5}, \"9\": {\"12\": 64, \"1\": 163, \"5\": 148, \"3\": 138, \"9\": 175, \"2\": 67, \"0\": 33, \"14\": 35, \"15\": 52, \"6\": 75, \"13\": 14, \"8\": 75, \"7\": 106, \"10\": 9, \"4\": 46}, \"1\": {\"7\": 96, \"1\": 203, \"3\": 156, \"0\": 49, \"9\": 154, \"5\": 184, \"2\": 61, \"8\": 86, \"15\": 53, \"6\": 37, \"4\": 34, \"12\": 38, \"14\": 30, \"13\": 10, \"10\": 8, \"11\": 1}, \"11\": {\"11\": 1173, \"0\": 18, \"14\": 3, \"8\": 6}, \"13\": {\"9\": 19, \"4\": 123, \"13\": 291, \"10\": 259, \"15\": 112, \"2\": 139, \"5\": 9, \"12\": 152, \"7\": 39, \"1\": 26, \"6\": 27, \"11\": 1, \"3\": 3}}, \"ORACLE.run1_38\": {\"5\": {\"7\": 107, \"5\": 471, \"8\": 388, \"15\": 80, \"2\": 5, \"12\": 32, \"9\": 116, \"14\": 1}, \"8\": {\"7\": 166, \"8\": 430, \"5\": 355, \"15\": 68, \"12\": 103, \"9\": 51, \"2\": 24, \"14\": 3}, \"11\": {\"11\": 740, \"3\": 324, \"10\": 105, \"0\": 30, \"4\": 1}, \"1\": {\"1\": 1183, \"6\": 17}, \"10\": {\"13\": 66, \"10\": 964, \"0\": 142, \"4\": 27, \"3\": 1}, \"15\": {\"15\": 973, \"8\": 42, \"12\": 23, \"5\": 75, \"1\": 84, \"6\": 3}, \"3\": {\"0\": 194, \"3\": 373, \"10\": 385, \"11\": 245, \"4\": 3}, \"7\": {\"7\": 1156, \"9\": 12, \"5\": 6, \"8\": 11, \"0\": 11, \"4\": 2, \"13\": 2}, \"4\": {\"4\": 1161, \"10\": 25, \"13\": 3, \"0\": 9, \"7\": 1, \"14\": 1}, \"14\": {\"14\": 920, \"13\": 34, \"2\": 244, \"8\": 1, \"4\": 1}, \"9\": {\"9\": 1080, \"5\": 59, \"8\": 26, \"7\": 35}, \"12\": {\"12\": 1182, \"8\": 12, \"15\": 1, \"5\": 5}, \"6\": {\"6\": 1190, \"1\": 10}, \"2\": {\"2\": 1003, \"14\": 194, \"8\": 1, \"13\": 2}, \"0\": {\"13\": 223, \"0\": 527, \"7\": 108, \"10\": 322, \"8\": 3, \"4\": 11, \"3\": 5, \"9\": 1}, \"13\": {\"13\": 1014, \"0\": 62, \"10\": 94, \"4\": 7, \"14\": 9, \"7\": 6, \"2\": 8}}, \"ORACLE.run1_8\": {\"9\": {\"9\": 1200}, \"10\": {\"10\": 209, \"13\": 214, \"6\": 127, \"8\": 27, \"1\": 137, \"5\": 221, \"7\": 152, \"11\": 68, \"4\": 23, \"15\": 6, \"12\": 16}, \"13\": {\"1\": 96, \"13\": 266, \"11\": 32, \"10\": 203, \"7\": 186, \"5\": 247, \"4\": 12, \"12\": 41, \"6\": 97, \"2\": 1, \"8\": 16, \"15\": 3}, \"0\": {\"0\": 1148, \"14\": 45, \"4\": 6, \"8\": 1}, \"1\": {\"11\": 133, \"10\": 141, \"8\": 61, \"6\": 162, \"7\": 139, \"5\": 159, \"4\": 65, \"1\": 164, \"13\": 159, \"14\": 9, \"12\": 8}, \"15\": {\"12\": 334, \"15\": 445, \"2\": 391, \"3\": 26, \"10\": 2, \"5\": 2}, \"5\": {\"7\": 71, \"5\": 287, \"14\": 7, \"11\": 47, \"13\": 219, \"12\": 105, \"1\": 107, \"10\": 209, \"15\": 14, \"6\": 65, \"8\": 34, \"4\": 27, \"2\": 8}, \"3\": {\"3\": 1199, \"2\": 1}, \"6\": {\"5\": 73, \"8\": 123, \"1\": 159, \"10\": 128, \"13\": 96, \"6\": 234, \"7\": 147, \"4\": 100, \"11\": 125, \"14\": 14, \"15\": 1}, \"11\": {\"8\": 153, \"1\": 147, \"11\": 196, \"7\": 100, \"10\": 107, \"4\": 170, \"6\": 136, \"13\": 40, \"5\": 77, \"14\": 74}, \"8\": {\"8\": 310, \"14\": 218, \"10\": 33, \"4\": 257, \"1\": 76, \"11\": 136, \"7\": 46, \"5\": 11, \"6\": 102, \"12\": 1, \"13\": 10}, \"4\": {\"8\": 238, \"4\": 317, \"5\": 21, \"10\": 32, \"7\": 35, \"14\": 222, \"11\": 161, \"6\": 97, \"1\": 66, \"13\": 11}, \"12\": {\"12\": 558, \"15\": 384, \"2\": 206, \"5\": 27, \"3\": 9, \"13\": 13, \"10\": 3}, \"14\": {\"4\": 208, \"14\": 661, \"8\": 196, \"1\": 14, \"11\": 59, \"0\": 25, \"6\": 15, \"13\": 2, \"10\": 12, \"5\": 6, \"7\": 2}, \"2\": {\"15\": 252, \"2\": 554, \"12\": 140, \"3\": 248, \"5\": 3, \"13\": 3}, \"7\": {\"11\": 82, \"5\": 105, \"10\": 176, \"1\": 143, \"6\": 190, \"7\": 239, \"13\": 170, \"4\": 38, \"8\": 52, \"14\": 3, \"12\": 1, \"15\": 1}}, \"ORACLE.run1_50\": {\"7\": {\"7\": 1001, \"4\": 106, \"5\": 93}, \"3\": {\"3\": 1197, \"5\": 1, \"13\": 2}, \"8\": {\"8\": 1146, \"13\": 2, \"10\": 52}, \"2\": {\"2\": 1093, \"0\": 107}, \"14\": {\"14\": 1198, \"2\": 2}, \"4\": {\"4\": 939, \"7\": 185, \"5\": 53, \"15\": 16, \"6\": 6, \"9\": 1}, \"6\": {\"6\": 883, \"5\": 162, \"15\": 155}, \"15\": {\"15\": 949, \"9\": 24, \"11\": 28, \"6\": 173, \"4\": 5, \"5\": 21}, \"10\": {\"10\": 1083, \"0\": 43, \"8\": 74}, \"11\": {\"12\": 40, \"11\": 1102, \"15\": 30, \"9\": 28}, \"13\": {\"13\": 1182, \"1\": 17, \"11\": 1}, \"9\": {\"9\": 969, \"12\": 141, \"15\": 25, \"11\": 61, \"4\": 4}, \"0\": {\"0\": 1053, \"2\": 109, \"10\": 38}, \"1\": {\"1\": 1015, \"13\": 145, \"10\": 26, \"0\": 3, \"14\": 1, \"11\": 6, \"8\": 3, \"5\": 1}, \"12\": {\"9\": 112, \"12\": 1025, \"11\": 63}, \"5\": {\"6\": 246, \"7\": 297, \"5\": 486, \"13\": 48, \"4\": 64, \"11\": 26, \"15\": 29, \"3\": 1, \"1\": 3}}, \"ORACLE.run1_32\": {\"8\": {\"8\": 711, \"5\": 125, \"0\": 201, \"14\": 68, \"2\": 27, \"7\": 43, \"4\": 21, \"15\": 3, \"13\": 1}, \"14\": {\"5\": 53, \"14\": 640, \"7\": 296, \"2\": 47, \"0\": 82, \"8\": 65, \"4\": 16, \"3\": 1}, \"2\": {\"4\": 225, \"2\": 966, \"14\": 8, \"8\": 1}, \"0\": {\"0\": 769, \"5\": 94, \"8\": 129, \"7\": 136, \"14\": 67, \"2\": 5}, \"1\": {\"1\": 1200}, \"10\": {\"10\": 1200}, \"11\": {\"11\": 1192, \"13\": 8}, \"5\": {\"5\": 660, \"8\": 99, \"7\": 242, \"14\": 78, \"0\": 99, \"15\": 21, \"2\": 1}, \"15\": {\"15\": 1165, \"8\": 22, \"5\": 11, \"7\": 1, \"0\": 1}, \"3\": {\"3\": 1104, \"13\": 95, \"14\": 1}, \"12\": {\"12\": 1200}, \"7\": {\"5\": 244, \"0\": 108, \"7\": 698, \"14\": 126, \"8\": 24}, \"13\": {\"3\": 131, \"13\": 814, \"4\": 178, \"11\": 74, \"2\": 3}, \"6\": {\"6\": 1200}, \"4\": {\"4\": 930, \"2\": 220, \"14\": 2, \"13\": 45, \"3\": 2, \"8\": 1}, \"9\": {\"9\": 1155, \"12\": 38, \"4\": 5, \"2\": 2}}, \"ORACLE.run1_26\": {\"4\": {\"4\": 1199, \"13\": 1}, \"12\": {\"12\": 1200}, \"10\": {\"10\": 737, \"14\": 229, \"6\": 73, \"0\": 82, \"15\": 70, \"5\": 4, \"1\": 5}, \"0\": {\"8\": 12, \"14\": 113, \"0\": 837, \"10\": 197, \"9\": 5, \"2\": 18, \"6\": 4, \"15\": 9, \"5\": 2, \"7\": 1, \"1\": 2}, \"13\": {\"4\": 73, \"13\": 952, \"3\": 33, \"7\": 12, \"2\": 34, \"9\": 90, \"8\": 6}, \"9\": {\"9\": 591, \"8\": 322, \"13\": 130, \"2\": 86, \"7\": 39, \"3\": 28, \"0\": 4}, \"3\": {\"3\": 1109, \"7\": 76, \"13\": 6, \"8\": 1, \"2\": 4, \"9\": 4}, \"2\": {\"2\": 700, \"0\": 65, \"8\": 109, \"3\": 51, \"7\": 203, \"9\": 65, \"13\": 5, \"15\": 2}, \"5\": {\"5\": 849, \"15\": 252, \"6\": 92, \"1\": 4, \"14\": 2, \"10\": 1}, \"14\": {\"14\": 765, \"1\": 77, \"10\": 266, \"0\": 50, \"15\": 19, \"6\": 18, \"5\": 5}, \"8\": {\"8\": 762, \"9\": 182, \"7\": 173, \"2\": 79, \"0\": 3, \"13\": 1}, \"7\": {\"9\": 52, \"7\": 868, \"8\": 139, \"2\": 100, \"3\": 41}, \"6\": {\"6\": 1000, \"5\": 71, \"15\": 85, \"14\": 10, \"10\": 29, \"1\": 5}, \"11\": {\"11\": 1198, \"6\": 2}, \"15\": {\"15\": 598, \"10\": 65, \"5\": 361, \"6\": 135, \"14\": 22, \"1\": 12, \"0\": 7}, \"1\": {\"1\": 966, \"14\": 182, \"10\": 17, \"6\": 21, \"15\": 7, \"5\": 7}}, \"ORACLE.run1_44\": {\"12\": {\"12\": 1117, \"3\": 83}, \"7\": {\"7\": 931, \"9\": 206, \"10\": 54, \"6\": 6, \"2\": 2, \"13\": 1}, \"5\": {\"14\": 151, \"5\": 826, \"15\": 167, \"8\": 20, \"4\": 35, \"0\": 1}, \"15\": {\"15\": 806, \"8\": 123, \"4\": 22, \"5\": 104, \"14\": 139, \"0\": 6}, \"8\": {\"8\": 757, \"0\": 303, \"15\": 112, \"5\": 28}, \"2\": {\"2\": 1079, \"7\": 2, \"1\": 113, \"10\": 6}, \"13\": {\"13\": 849, \"6\": 325, \"9\": 24, \"11\": 2}, \"4\": {\"4\": 584, \"14\": 320, \"7\": 26, \"5\": 35, \"9\": 106, \"15\": 119, \"6\": 7, \"13\": 3}, \"0\": {\"0\": 1020, \"8\": 178, \"15\": 2}, \"6\": {\"13\": 204, \"6\": 918, \"9\": 73, \"7\": 3, \"11\": 2}, \"9\": {\"9\": 383, \"13\": 141, \"6\": 167, \"14\": 12, \"2\": 67, \"7\": 378, \"4\": 45, \"10\": 6, \"11\": 1}, \"11\": {\"13\": 499, \"11\": 659, \"6\": 39, \"9\": 3}, \"10\": {\"10\": 1015, \"7\": 105, \"2\": 50, \"1\": 20, \"9\": 6, \"6\": 4}, \"14\": {\"14\": 735, \"4\": 300, \"5\": 99, \"15\": 66}, \"1\": {\"1\": 1026, \"2\": 173, \"10\": 1}, \"3\": {\"12\": 74, \"3\": 1126}}, \"CORES_3\": {\"43\": {\"24\": 2, \"43\": 8, \"49\": 1, \"26\": 1}, \"9\": {\"9\": 11, \"41\": 1}, \"6\": {\"6\": 9, \"45\": 1}, \"3\": {\"3\": 11, \"12\": 1}, \"16\": {\"16\": 11, \"11\": 1}, \"51\": {\"51\": 11, \"2\": 1}, \"31\": {\"31\": 10, \"37\": 1, \"49\": 1}, \"46\": {\"46\": 9, \"22\": 1}, \"19\": {\"19\": 8}, \"8\": {\"14\": 1, \"8\": 8, \"33\": 2, \"27\": 1}, \"18\": {\"18\": 12}, \"37\": {\"37\": 7, \"24\": 1, \"54\": 1, \"43\": 1, \"36\": 1, \"42\": 1}, \"24\": {\"43\": 3, \"24\": 5, \"54\": 1, \"31\": 2, \"49\": 1}, \"10\": {\"10\": 8, \"15\": 1, \"28\": 3}, \"44\": {\"44\": 10}, \"14\": {\"14\": 9, \"8\": 1, \"7\": 1, \"33\": 1}, \"38\": {\"32\": 1, \"38\": 6, \"13\": 1, \"2\": 1, \"7\": 1}, \"53\": {\"53\": 11, \"23\": 1}, \"20\": {\"20\": 12}, \"32\": {\"32\": 10, \"7\": 2}, \"36\": {\"36\": 10}, \"33\": {\"8\": 2, \"33\": 10}, \"56\": {\"56\": 8, \"40\": 1, \"0\": 1, \"30\": 2}, \"23\": {\"23\": 12}, \"54\": {\"54\": 10}, \"34\": {\"34\": 7, \"49\": 2, \"55\": 1, \"37\": 2}, \"13\": {\"38\": 1, \"13\": 10, \"14\": 1}, \"2\": {\"2\": 7, \"32\": 1, \"35\": 1, \"51\": 1, \"13\": 2}, \"55\": {\"34\": 2, \"55\": 7, \"35\": 1}, \"21\": {\"21\": 9, \"22\": 1}, \"49\": {\"43\": 1, \"2\": 1, \"49\": 3, \"31\": 2, \"36\": 1, \"51\": 1, \"17\": 1}, \"25\": {\"25\": 12}, \"5\": {\"5\": 12}, \"50\": {\"50\": 4, \"5\": 1, \"3\": 1, \"12\": 2}, \"40\": {\"40\": 12}, \"57\": {\"57\": 4, \"29\": 1, \"33\": 1, \"27\": 2}, \"22\": {\"40\": 2, \"22\": 7, \"0\": 1}, \"1\": {\"1\": 9, \"4\": 1}, \"17\": {\"17\": 8, \"51\": 2, \"2\": 1, \"35\": 1}, \"41\": {\"4\": 1, \"1\": 1, \"41\": 7, \"48\": 2, \"27\": 1}, \"4\": {\"4\": 8, \"48\": 1, \"1\": 1}, \"7\": {\"17\": 1, \"14\": 1, \"36\": 1, \"32\": 1, \"9\": 1, \"7\": 2, \"13\": 1, \"38\": 2}, \"26\": {\"54\": 1, \"26\": 8, \"43\": 1}, \"29\": {\"57\": 2, \"29\": 5, \"27\": 1, \"8\": 2, \"41\": 1, \"9\": 1}, \"52\": {\"52\": 6, \"20\": 1, \"47\": 3, \"48\": 1, \"41\": 1}, \"15\": {\"15\": 11, \"11\": 1}, \"35\": {\"49\": 3, \"35\": 4, \"17\": 4, \"37\": 1}, \"42\": {\"42\": 11, \"55\": 1}, \"30\": {\"30\": 7, \"0\": 1, \"56\": 2}, \"27\": {\"27\": 7, \"8\": 1}, \"45\": {\"45\": 9, \"6\": 1}, \"0\": {\"0\": 10, \"30\": 1, \"40\": 1}, \"28\": {\"28\": 11, \"10\": 1}, \"47\": {\"52\": 4, \"20\": 1, \"47\": 6, \"4\": 1}, \"11\": {\"15\": 2, \"10\": 2, \"16\": 3, \"11\": 3}, \"39\": {\"33\": 2, \"39\": 5, \"32\": 1, \"13\": 2}, \"48\": {\"48\": 7, \"47\": 1, \"1\": 2, \"41\": 1, \"20\": 1}, \"12\": {\"12\": 7, \"3\": 1}}, \"CORES_4\": {\"35\": {\"51\": 1, \"24\": 3, \"35\": 1, \"31\": 1, \"37\": 2, \"38\": 1, \"32\": 1}, \"25\": {\"25\": 10, \"28\": 1, \"11\": 1}, \"24\": {\"24\": 7, \"43\": 1, \"31\": 2}, \"48\": {\"1\": 1, \"48\": 9, \"9\": 1, \"47\": 1}, \"51\": {\"51\": 12}, \"13\": {\"13\": 11, \"27\": 1}, \"14\": {\"1\": 1, \"0\": 1, \"14\": 3, \"37\": 1, \"2\": 1, \"57\": 1}, \"32\": {\"35\": 2, \"32\": 3, \"24\": 2, \"31\": 1, \"41\": 2, \"38\": 2}, \"30\": {\"30\": 11, \"46\": 1}, \"34\": {\"34\": 4, \"24\": 1, \"31\": 1, \"19\": 1, \"42\": 1, \"10\": 1, \"32\": 1}, \"9\": {\"9\": 7, \"48\": 4, \"47\": 1}, \"1\": {\"48\": 1, \"1\": 8, \"47\": 2, \"20\": 1}, \"0\": {\"0\": 12}, \"38\": {\"51\": 4, \"7\": 1, \"35\": 1, \"39\": 2, \"49\": 1, \"33\": 1, \"38\": 2}, \"22\": {\"22\": 8}, \"40\": {\"40\": 12}, \"39\": {\"14\": 1, \"36\": 2, \"39\": 8, \"2\": 1}, \"46\": {\"46\": 12}, \"36\": {\"36\": 12}, \"50\": {\"50\": 12}, \"49\": {\"36\": 5, \"54\": 1, \"49\": 3, \"23\": 1, \"43\": 1, \"37\": 1}, \"17\": {\"32\": 1, \"49\": 1, \"38\": 2, \"17\": 7, \"33\": 1}, \"45\": {\"45\": 12}, \"6\": {\"6\": 12}, \"8\": {\"8\": 12}, \"5\": {\"5\": 9, \"3\": 1}, \"33\": {\"38\": 1, \"17\": 2, \"33\": 7, \"39\": 1, \"7\": 1}, \"31\": {\"31\": 8, \"41\": 1, \"19\": 2, \"32\": 1}, \"37\": {\"35\": 2, \"38\": 3, \"7\": 1, \"33\": 1, \"57\": 1, \"37\": 1, \"55\": 1}, \"47\": {\"47\": 3, \"1\": 1, \"48\": 2, \"20\": 1, \"29\": 1}, \"15\": {\"15\": 9, \"11\": 1}, \"7\": {\"35\": 1, \"32\": 1, \"55\": 4, \"36\": 3, \"7\": 1, \"2\": 2}, \"20\": {\"20\": 10, \"47\": 1, \"48\": 1}, \"4\": {\"4\": 9, \"48\": 2, \"9\": 1}, \"54\": {\"54\": 12}, \"44\": {\"44\": 12}, \"3\": {\"3\": 9, \"45\": 1, \"5\": 2}, \"11\": {\"11\": 6, \"10\": 2, \"15\": 2}, \"27\": {\"27\": 10}, \"19\": {\"54\": 1, \"31\": 1, \"19\": 8, \"24\": 2}, \"55\": {\"54\": 1, \"38\": 1, \"7\": 1, \"55\": 8, \"35\": 1}, \"16\": {\"16\": 11, \"11\": 1}, \"2\": {\"8\": 1, \"2\": 7, \"27\": 2}, \"52\": {\"9\": 1, \"52\": 7, \"20\": 1, \"48\": 1}, \"42\": {\"42\": 7, \"26\": 1, \"41\": 2}, \"26\": {\"26\": 9, \"28\": 1, \"53\": 1, \"41\": 1}, \"10\": {\"10\": 11, \"26\": 1}, \"53\": {\"53\": 9, \"19\": 1}, \"28\": {\"28\": 11, \"16\": 1}, \"21\": {\"21\": 10}, \"57\": {\"57\": 8, \"9\": 1, \"29\": 1}, \"23\": {\"23\": 4, \"43\": 1, \"31\": 3}, \"43\": {\"43\": 6, \"41\": 1, \"49\": 1, \"54\": 1, \"31\": 1}, \"12\": {\"12\": 12}, \"41\": {\"43\": 2, \"55\": 2, \"41\": 7, \"33\": 1}, \"56\": {\"56\": 8}, \"18\": {\"18\": 10}, \"29\": {\"1\": 1, \"29\": 7}}, \"CORES_5\": {\"47\": {\"47\": 7, \"52\": 1, \"1\": 1, \"20\": 1}, \"53\": {\"53\": 11, \"31\": 1}, \"29\": {\"29\": 11, \"48\": 1}, \"52\": {\"1\": 4, \"52\": 5, \"47\": 1, \"21\": 2}, \"55\": {\"55\": 11, \"54\": 1}, \"17\": {\"17\": 10, \"38\": 1, \"43\": 1}, \"42\": {\"53\": 2, \"31\": 2, \"42\": 8}, \"33\": {\"33\": 8, \"54\": 1, \"49\": 1}, \"11\": {\"11\": 11, \"16\": 1}, \"19\": {\"19\": 8}, \"1\": {\"52\": 3, \"1\": 9}, \"44\": {\"44\": 10, \"5\": 2}, \"49\": {\"33\": 2, \"49\": 10}, \"4\": {\"4\": 12}, \"6\": {\"6\": 10, \"50\": 2}, \"39\": {\"39\": 4, \"27\": 1, \"7\": 2, \"32\": 1, \"14\": 2, \"2\": 2}, \"13\": {\"13\": 10, \"8\": 2}, \"5\": {\"44\": 1, \"5\": 9}, \"16\": {\"16\": 7, \"11\": 2, \"25\": 1}, \"25\": {\"25\": 8, \"16\": 4}, \"45\": {\"45\": 12}, \"7\": {\"7\": 8, \"14\": 2}, \"22\": {\"4\": 3, \"22\": 7, \"0\": 1, \"30\": 1}, \"40\": {\"40\": 11, \"4\": 1}, \"38\": {\"38\": 4, \"29\": 1, \"49\": 1, \"8\": 2, \"17\": 2, \"27\": 1, \"55\": 1}, \"35\": {\"35\": 2, \"38\": 1, \"36\": 3, \"32\": 1, \"24\": 1}, \"56\": {\"0\": 3, \"56\": 7, \"30\": 1, \"9\": 1}, \"50\": {\"50\": 8, \"6\": 2}, \"0\": {\"30\": 2, \"0\": 9, \"46\": 1}, \"10\": {\"10\": 12}, \"27\": {\"27\": 12}, \"20\": {\"20\": 9, \"47\": 1}, \"36\": {\"36\": 6, \"32\": 2}, \"34\": {\"34\": 11, \"33\": 1}, \"30\": {\"30\": 10, \"0\": 2}, \"2\": {\"32\": 2, \"2\": 5, \"37\": 1, \"35\": 1, \"36\": 1}, \"15\": {\"15\": 12}, \"18\": {\"18\": 12}, \"32\": {\"32\": 10, \"41\": 1, \"38\": 1}, \"31\": {\"31\": 8, \"26\": 1, \"15\": 1, \"53\": 2}, \"57\": {\"57\": 12}, \"48\": {\"48\": 7, \"57\": 1}, \"28\": {\"28\": 10}, \"14\": {\"7\": 2, \"14\": 3, \"8\": 2, \"13\": 2, \"29\": 1, \"39\": 2}, \"3\": {\"3\": 9, \"44\": 2, \"40\": 1}, \"8\": {\"8\": 10, \"7\": 1, \"27\": 1}, \"9\": {\"9\": 12}, \"21\": {\"21\": 9, \"52\": 1}, \"41\": {\"35\": 1, \"41\": 3, \"43\": 1, \"13\": 1, \"37\": 2, \"39\": 1, \"49\": 1, \"38\": 1, \"8\": 1}, \"24\": {\"24\": 10, \"19\": 1, \"23\": 1}, \"46\": {\"9\": 1, \"46\": 8, \"0\": 1}, \"43\": {\"43\": 8, \"17\": 2}, \"54\": {\"54\": 8, \"34\": 1, \"55\": 1}, \"23\": {\"23\": 8, \"31\": 1, \"24\": 1}, \"37\": {\"37\": 3, \"14\": 1, \"43\": 1, \"2\": 1, \"51\": 1, \"8\": 1, \"49\": 1, \"41\": 1}, \"12\": {\"12\": 10}, \"26\": {\"31\": 1, \"28\": 1, \"26\": 5, \"24\": 1, \"55\": 1, \"43\": 1}, \"51\": {\"51\": 3, \"38\": 2, \"43\": 1}}, \"CORES_1\": {\"46\": {\"46\": 9, \"6\": 2, \"50\": 1}, \"16\": {\"16\": 11, \"11\": 1}, \"26\": {\"28\": 2, \"53\": 2, \"23\": 2, \"26\": 5, \"15\": 1}, \"10\": {\"10\": 12}, \"9\": {\"9\": 10}, \"28\": {\"28\": 12}, \"51\": {\"51\": 10, \"32\": 1, \"43\": 1}, \"1\": {\"1\": 11, \"8\": 1}, \"55\": {\"51\": 2, \"55\": 4, \"49\": 1, \"32\": 1, \"37\": 1, \"43\": 1, \"39\": 2}, \"27\": {\"27\": 6, \"47\": 2, \"29\": 2}, \"22\": {\"22\": 11, \"52\": 1}, \"52\": {\"52\": 10, \"22\": 1, \"57\": 1}, \"3\": {\"3\": 12}, \"33\": {\"33\": 6, \"31\": 1, \"17\": 1}, \"47\": {\"47\": 9, \"27\": 1, \"14\": 1, \"30\": 1}, \"42\": {\"33\": 2, \"42\": 8, \"17\": 2}, \"12\": {\"12\": 4}, \"23\": {\"23\": 9, \"53\": 1, \"34\": 1, \"19\": 1}, \"49\": {\"49\": 7, \"43\": 1, \"39\": 2}, \"7\": {\"7\": 8, \"43\": 2, \"32\": 2}, \"4\": {\"4\": 12}, \"50\": {\"50\": 12}, \"19\": {\"23\": 1, \"19\": 11}, \"11\": {\"11\": 11, \"16\": 1}, \"31\": {\"33\": 1, \"31\": 4, \"17\": 2, \"37\": 3}, \"41\": {\"49\": 2, \"38\": 2, \"41\": 5, \"17\": 1, \"36\": 1, \"8\": 1}, \"56\": {\"56\": 10}, \"0\": {\"0\": 12}, \"57\": {\"57\": 11, \"13\": 1}, \"53\": {\"26\": 1, \"53\": 9, \"23\": 1, \"28\": 1}, \"43\": {\"43\": 8, \"49\": 4}, \"37\": {\"43\": 2, \"17\": 1, \"37\": 6, \"41\": 1, \"55\": 1, \"49\": 1}, \"2\": {\"2\": 8}, \"6\": {\"6\": 12}, \"18\": {\"18\": 12}, \"38\": {\"38\": 3, \"37\": 1, \"7\": 1, \"43\": 2, \"51\": 2, \"39\": 2, \"9\": 1}, \"15\": {\"15\": 12}, \"36\": {\"36\": 12}, \"39\": {\"36\": 2, \"38\": 1, \"17\": 2, \"42\": 2, \"9\": 1}, \"44\": {\"44\": 12}, \"8\": {\"8\": 7, \"47\": 1, \"48\": 1, \"29\": 2, \"2\": 1}, \"17\": {\"17\": 6, \"37\": 2, \"31\": 1, \"33\": 1}, \"5\": {\"5\": 12}, \"13\": {\"13\": 9, \"30\": 1}, \"40\": {\"40\": 10}, \"29\": {\"27\": 1, \"29\": 9, \"8\": 1, \"2\": 1}, \"48\": {\"48\": 10, \"8\": 1, \"2\": 1}, \"32\": {\"32\": 7, \"7\": 4, \"51\": 1}, \"30\": {\"30\": 9, \"21\": 2, \"14\": 1}, \"35\": {\"35\": 6, \"53\": 1, \"54\": 4, \"26\": 1}, \"25\": {\"25\": 11, \"16\": 1}, \"14\": {\"14\": 5, \"8\": 2, \"29\": 2, \"47\": 1, \"30\": 1, \"27\": 1}, \"54\": {\"54\": 10}, \"20\": {\"20\": 7, \"22\": 1}, \"21\": {\"21\": 8, \"30\": 2}, \"45\": {\"45\": 7, \"44\": 1}, \"24\": {\"24\": 8}, \"34\": {\"34\": 6, \"53\": 1, \"28\": 1}}, \"CORES_2\": {\"14\": {\"14\": 9, \"27\": 2, \"41\": 1}, \"22\": {\"22\": 12}, \"9\": {\"9\": 9, \"8\": 1, \"1\": 2}, \"47\": {\"56\": 2, \"47\": 8, \"4\": 1, \"30\": 1}, \"13\": {\"13\": 12}, \"8\": {\"14\": 1, \"8\": 10, \"57\": 1}, \"7\": {\"7\": 7, \"43\": 1, \"54\": 1, \"39\": 1, \"17\": 2}, \"49\": {\"49\": 7, \"26\": 1, \"42\": 2, \"7\": 1, \"34\": 1}, \"20\": {\"20\": 8, \"1\": 2, \"56\": 1, \"9\": 1}, \"16\": {\"16\": 12}, \"34\": {\"34\": 4, \"16\": 1, \"11\": 1, \"53\": 1, \"10\": 2, \"15\": 1, \"28\": 1, \"49\": 1}, \"56\": {\"56\": 5, \"47\": 2, \"22\": 1, \"30\": 1, \"0\": 1, \"52\": 2}, \"38\": {\"13\": 3, \"38\": 4, \"2\": 1, \"27\": 2}, \"4\": {\"4\": 11, \"47\": 1}, \"43\": {\"43\": 6, \"24\": 3, \"54\": 1}, \"26\": {\"43\": 1, \"26\": 3, \"53\": 2, \"34\": 3, \"49\": 1}, \"35\": {\"31\": 2, \"55\": 2, \"23\": 2, \"35\": 1, \"42\": 1, \"51\": 3, \"7\": 1}, \"31\": {\"31\": 8, \"54\": 1, \"42\": 2, \"17\": 1}, \"1\": {\"1\": 8, \"47\": 1, \"4\": 1, \"48\": 1, \"22\": 1}, \"39\": {\"31\": 1, \"39\": 8, \"7\": 1, \"42\": 1, \"37\": 1}, \"5\": {\"5\": 10, \"44\": 1, \"50\": 1}, \"24\": {\"54\": 3, \"24\": 8, \"43\": 1}, \"54\": {\"54\": 10}, \"23\": {\"24\": 2, \"23\": 9, \"26\": 1}, \"51\": {\"51\": 11, \"36\": 1}, \"27\": {\"27\": 8, \"14\": 2}, \"15\": {\"15\": 10, \"11\": 2}, \"0\": {\"0\": 12}, \"19\": {\"19\": 10}, \"18\": {\"18\": 8}, \"30\": {\"30\": 9, \"0\": 2, \"48\": 1}, \"55\": {\"55\": 8, \"35\": 2}, \"57\": {\"57\": 9, \"9\": 3}, \"2\": {\"2\": 10, \"32\": 1, \"38\": 1}, \"12\": {\"12\": 8}, \"41\": {\"41\": 5, \"48\": 1, \"9\": 1, \"33\": 1, \"13\": 4}, \"42\": {\"42\": 6, \"26\": 3, \"24\": 1, \"39\": 1, \"31\": 1}, \"48\": {\"1\": 4, \"48\": 7, \"52\": 1}, \"37\": {\"37\": 7, \"39\": 3, \"51\": 1, \"43\": 1}, \"6\": {\"6\": 10}, \"11\": {\"11\": 8, \"15\": 2}, \"45\": {\"45\": 8}, \"21\": {\"21\": 12}, \"46\": {\"46\": 9, \"50\": 1}, \"25\": {\"25\": 9, \"11\": 1, \"10\": 1, \"16\": 1}, \"36\": {\"36\": 10}, \"53\": {\"53\": 11, \"23\": 1}, \"28\": {\"28\": 11, \"10\": 1}, \"40\": {\"40\": 10}, \"33\": {\"41\": 3, \"33\": 5, \"36\": 1, \"38\": 1}, \"44\": {\"44\": 9, \"5\": 1}, \"3\": {\"3\": 12}, \"17\": {\"17\": 8, \"35\": 1, \"55\": 1, \"7\": 1, \"37\": 1}, \"32\": {\"32\": 9, \"36\": 1}, \"10\": {\"10\": 9, \"28\": 1}, \"52\": {\"52\": 9, \"30\": 1}, \"50\": {\"50\": 6, \"46\": 1, \"5\": 1}, \"29\": {\"29\": 3, \"57\": 2, \"33\": 1}}}, \"per_domain_accuracy\": {\"ORACLE.run1_14\": {\"accuracy\": 0.7594791666666667, \"source?\": true}, \"ORACLE.run1_20\": {\"accuracy\": 0.2878125, \"source?\": true}, \"ORACLE.run1_38\": {\"accuracy\": 0.74828125, \"source?\": true}, \"ORACLE.run1_8\": {\"accuracy\": 0.41598958333333336, \"source?\": true}, \"ORACLE.run1_50\": {\"accuracy\": 0.8500520833333334, \"source?\": true}, \"ORACLE.run1_32\": {\"accuracy\": 0.8127083333333334, \"source?\": true}, \"ORACLE.run1_26\": {\"accuracy\": 0.74640625, \"source?\": true}, \"ORACLE.run1_44\": {\"accuracy\": 0.7203645833333333, \"source?\": true}, \"CORES_3\": {\"accuracy\": 0.7515625, \"source?\": false}, \"CORES_4\": {\"accuracy\": 0.74375, \"source?\": false}, \"CORES_5\": {\"accuracy\": 0.76875, \"source?\": false}, \"CORES_1\": {\"accuracy\": 0.7859375, \"source?\": false}, \"CORES_2\": {\"accuracy\": 0.7578125, \"source?\": false}}}, \"history\": {\"epoch_indices\": [1, 2, 3, 4, 5], \"train_label_loss\": [0.6234532849308813, 0.4190028062305369, 0.33559418394352264, 0.29574868340372285, 0.2665179631293895], \"source_val_label_loss\": [14.027276992797852, 0.41062411665916443, 0.3713253140449524, 0.337140828371048, 0.3269253671169281], \"target_val_label_loss\": [184.28753662109375, 920.2594604492188, 1743.2974853515625, 3784.479248046875, 6316.67724609375], \"source_val_acc_label\": [0.66763671875, 0.8585546875, 0.8688151041666666, 0.87849609375, 0.8815234375], \"target_val_acc_label\": [0.7615625, 0.846875, 0.8415625, 0.8096875, 0.775625]}, \"dataset_metrics\": {\"source\": {\"train\": {\"n_unique_x\": 896000, \"n_unique_y\": 16, \"n_batch/episode\": 33600}, \"val\": {\"n_unique_x\": 192000, \"n_unique_y\": 16, \"n_batch/episode\": 4800}, \"test\": {\"n_unique_x\": 192000, \"n_unique_y\": 16, \"n_batch/episode\": 4800}}, \"target\": {\"train\": {\"n_unique_x\": 20300, \"n_unique_y\": 58, \"n_batch/episode\": 733}, \"val\": {\"n_unique_x\": 4332, \"n_unique_y\": 58, \"n_batch/episode\": 100}, \"test\": {\"n_unique_x\": 4332, \"n_unique_y\": 58, \"n_batch/episode\": 100}}}}'"
      ]
     },
     "execution_count": 29,
     "metadata": {},
     "output_type": "execute_result"
    }
   ],
   "source": [
    "json.dumps(experiment)"
   ]
  }
 ],
 "metadata": {
  "celltoolbar": "Tags",
  "kernelspec": {
   "display_name": "Python 3 (ipykernel)",
   "language": "python",
   "name": "python3"
  },
  "language_info": {
   "codemirror_mode": {
    "name": "ipython",
    "version": 3
   },
   "file_extension": ".py",
   "mimetype": "text/x-python",
   "name": "python",
   "nbconvert_exporter": "python",
   "pygments_lexer": "ipython3",
   "version": "3.8.10"
  },
  "papermill": {
   "default_parameters": {},
   "duration": 4755.013945,
   "end_time": "2022-03-14T01:26:46.949312",
   "environment_variables": {},
   "exception": null,
   "input_path": "/mnt/wd500GB/CSC500/csc500-main/csc500-notebooks/templates/tl_ptn_template.ipynb",
   "output_path": "trial.ipynb",
   "parameters": {
    "parameters": {
     "BEST_MODEL_PATH": "./best_model.pth",
     "NUM_LOGS_PER_EPOCH": 10,
     "criteria_for_best": "target_loss",
     "dataset_seed": 1337,
     "datasets": [
      {
       "domain_prefix": "CORES_",
       "domains": [
        1,
        2,
        3,
        4,
        5
       ],
       "episode_transforms": [],
       "labels": [
        "1-10.",
        "1-11.",
        "1-15.",
        "1-16.",
        "1-17.",
        "1-18.",
        "1-19.",
        "10-4.",
        "10-7.",
        "11-1.",
        "11-14.",
        "11-17.",
        "11-20.",
        "11-7.",
        "13-20.",
        "13-8.",
        "14-10.",
        "14-11.",
        "14-14.",
        "14-7.",
        "15-1.",
        "15-20.",
        "16-1.",
        "16-16.",
        "17-10.",
        "17-11.",
        "17-2.",
        "19-1.",
        "19-16.",
        "19-19.",
        "19-20.",
        "19-3.",
        "2-10.",
        "2-11.",
        "2-17.",
        "2-18.",
        "2-20.",
        "2-3.",
        "2-4.",
        "2-5.",
        "2-6.",
        "2-7.",
        "2-8.",
        "3-13.",
        "3-18.",
        "3-3.",
        "4-1.",
        "4-10.",
        "4-11.",
        "4-19.",
        "5-5.",
        "6-15.",
        "7-10.",
        "7-14.",
        "8-18.",
        "8-20.",
        "8-3.",
        "8-8."
       ],
       "num_examples_per_domain_per_label": 100,
       "pickle_path": "/mnt/wd500GB/CSC500/csc500-main/datasets/cores.stratified_ds.2022A.pkl",
       "source_or_target_dataset": "target",
       "x_transforms": []
      },
      {
       "domain_prefix": "ORACLE.run1_",
       "domains": [
        32,
        38,
        8,
        44,
        14,
        50,
        20,
        26
       ],
       "episode_transforms": [],
       "labels": [
        "3123D52",
        "3123D65",
        "3123D79",
        "3123D80",
        "3123D54",
        "3123D70",
        "3123D7B",
        "3123D89",
        "3123D58",
        "3123D76",
        "3123D7D",
        "3123EFE",
        "3123D64",
        "3123D78",
        "3123D7E",
        "3124E4A"
       ],
       "num_examples_per_domain_per_label": 10000,
       "pickle_path": "/mnt/wd500GB/CSC500/csc500-main/datasets/oracle.Run1_10kExamples_stratified_ds.2022A.pkl",
       "source_or_target_dataset": "source",
       "x_transforms": []
      }
     ],
     "device": "cuda",
     "experiment_name": "tl_1_cores-oracle.run1",
     "lr": 0.001,
     "n_epoch": 50,
     "n_query": 2,
     "n_shot": 3,
     "n_way": 16,
     "patience": 3,
     "seed": 1337,
     "test_k_factor": 2,
     "torch_default_dtype": "torch.float32",
     "train_k_factor": 3,
     "val_k_factor": 2,
     "x_net": [
      {
       "class": "nnReshape",
       "kargs": {
        "shape": [
         -1,
         1,
         2,
         256
        ]
       }
      },
      {
       "class": "Conv2d",
       "kargs": {
        "bias": false,
        "in_channels": 1,
        "kernel_size": [
         1,
         7
        ],
        "out_channels": 256,
        "padding": [
         0,
         3
        ]
       }
      },
      {
       "class": "ReLU",
       "kargs": {
        "inplace": true
       }
      },
      {
       "class": "BatchNorm2d",
       "kargs": {
        "num_features": 256
       }
      },
      {
       "class": "Conv2d",
       "kargs": {
        "bias": true,
        "in_channels": 256,
        "kernel_size": [
         2,
         7
        ],
        "out_channels": 80,
        "padding": [
         0,
         3
        ]
       }
      },
      {
       "class": "ReLU",
       "kargs": {
        "inplace": true
       }
      },
      {
       "class": "BatchNorm2d",
       "kargs": {
        "num_features": 80
       }
      },
      {
       "class": "Flatten",
       "kargs": {}
      },
      {
       "class": "Linear",
       "kargs": {
        "in_features": 20480,
        "out_features": 256
       }
      },
      {
       "class": "ReLU",
       "kargs": {
        "inplace": true
       }
      },
      {
       "class": "BatchNorm1d",
       "kargs": {
        "num_features": 256
       }
      },
      {
       "class": "Linear",
       "kargs": {
        "in_features": 256,
        "out_features": 256
       }
      }
     ]
    }
   },
   "start_time": "2022-03-14T00:07:31.935367",
   "version": "2.3.4"
  }
 },
 "nbformat": 4,
 "nbformat_minor": 5
}