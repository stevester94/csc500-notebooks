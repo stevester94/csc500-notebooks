{
 "cells": [
  {
   "cell_type": "markdown",
   "id": "9fea5f46",
   "metadata": {
    "papermill": {
     "duration": 0.016807,
     "end_time": "2022-03-07T09:48:49.977234",
     "exception": false,
     "start_time": "2022-03-07T09:48:49.960427",
     "status": "completed"
    },
    "tags": []
   },
   "source": [
    "# Transfer Learning Template"
   ]
  },
  {
   "cell_type": "code",
   "execution_count": 1,
   "id": "0902182a",
   "metadata": {
    "execution": {
     "iopub.execute_input": "2022-03-07T09:48:50.014128Z",
     "iopub.status.busy": "2022-03-07T09:48:50.013855Z",
     "iopub.status.idle": "2022-03-07T09:48:50.772367Z",
     "shell.execute_reply": "2022-03-07T09:48:50.772006Z"
    },
    "papermill": {
     "duration": 0.782617,
     "end_time": "2022-03-07T09:48:50.772442",
     "exception": false,
     "start_time": "2022-03-07T09:48:49.989825",
     "status": "completed"
    },
    "tags": []
   },
   "outputs": [],
   "source": [
    "%load_ext autoreload\n",
    "%autoreload 2\n",
    "%matplotlib inline\n",
    "\n",
    "    \n",
    "import os, json, sys, time, random\n",
    "import numpy as np\n",
    "import torch\n",
    "from torch.optim import Adam\n",
    "from  easydict import EasyDict\n",
    "import matplotlib.pyplot as plt\n",
    "\n",
    "from steves_models.steves_ptn import Steves_Prototypical_Network\n",
    "\n",
    "from steves_utils.lazy_iterable_wrapper import Lazy_Iterable_Wrapper\n",
    "from steves_utils.iterable_aggregator import Iterable_Aggregator\n",
    "from steves_utils.ptn_train_eval_test_jig import  PTN_Train_Eval_Test_Jig\n",
    "from steves_utils.torch_sequential_builder import build_sequential\n",
    "from steves_utils.torch_utils import get_dataset_metrics, ptn_confusion_by_domain_over_dataloader\n",
    "from steves_utils.utils_v2 import (per_domain_accuracy_from_confusion, get_datasets_base_path)\n",
    "from steves_utils.PTN.utils import independent_accuracy_assesment\n",
    "\n",
    "from torch.utils.data import DataLoader\n",
    "\n",
    "from steves_utils.stratified_dataset.episodic_accessor import Episodic_Accessor_Factory\n",
    "\n",
    "from steves_utils.ptn_do_report import (\n",
    "    get_loss_curve,\n",
    "    get_results_table,\n",
    "    get_parameters_table,\n",
    "    get_domain_accuracies,\n",
    ")\n",
    "\n",
    "from steves_utils.transforms import get_chained_transform"
   ]
  },
  {
   "cell_type": "markdown",
   "id": "41c840b4",
   "metadata": {
    "papermill": {
     "duration": 0.012622,
     "end_time": "2022-03-07T09:48:50.800714",
     "exception": false,
     "start_time": "2022-03-07T09:48:50.788092",
     "status": "completed"
    },
    "tags": []
   },
   "source": [
    "# Allowed Parameters\n",
    "These are allowed parameters, not defaults\n",
    "Each of these values need to be present in the injected parameters (the notebook will raise an exception if they are not present)\n",
    "\n",
    "Papermill uses the cell tag \"parameters\" to inject the real parameters below this cell.\n",
    "Enable tags to see what I mean"
   ]
  },
  {
   "cell_type": "code",
   "execution_count": 2,
   "id": "fd44eb83",
   "metadata": {
    "execution": {
     "iopub.execute_input": "2022-03-07T09:48:50.828680Z",
     "iopub.status.busy": "2022-03-07T09:48:50.828252Z",
     "iopub.status.idle": "2022-03-07T09:48:50.837458Z",
     "shell.execute_reply": "2022-03-07T09:48:50.837674Z"
    },
    "papermill": {
     "duration": 0.024505,
     "end_time": "2022-03-07T09:48:50.837751",
     "exception": false,
     "start_time": "2022-03-07T09:48:50.813246",
     "status": "completed"
    },
    "tags": []
   },
   "outputs": [],
   "source": [
    "required_parameters = {\n",
    "    \"experiment_name\",\n",
    "    \"lr\",\n",
    "    \"device\",\n",
    "    \"seed\",\n",
    "    \"dataset_seed\",\n",
    "    \"n_shot\",\n",
    "    \"n_query\",\n",
    "    \"n_way\",\n",
    "    \"train_k_factor\",\n",
    "    \"val_k_factor\",\n",
    "    \"test_k_factor\",\n",
    "    \"n_epoch\",\n",
    "    \"patience\",\n",
    "    \"criteria_for_best\",\n",
    "    \"x_net\",\n",
    "    \"datasets\",\n",
    "    \"torch_default_dtype\",\n",
    "    \"NUM_LOGS_PER_EPOCH\",\n",
    "    \"BEST_MODEL_PATH\",\n",
    "}"
   ]
  },
  {
   "cell_type": "code",
   "execution_count": 3,
   "id": "fa3f0049",
   "metadata": {
    "execution": {
     "iopub.execute_input": "2022-03-07T09:48:50.872275Z",
     "iopub.status.busy": "2022-03-07T09:48:50.871813Z",
     "iopub.status.idle": "2022-03-07T09:48:50.884943Z",
     "shell.execute_reply": "2022-03-07T09:48:50.884656Z"
    },
    "papermill": {
     "duration": 0.032581,
     "end_time": "2022-03-07T09:48:50.885009",
     "exception": false,
     "start_time": "2022-03-07T09:48:50.852428",
     "status": "completed"
    },
    "tags": [
     "parameters"
    ]
   },
   "outputs": [],
   "source": [
    "from steves_utils.CORES.utils import (\n",
    "    ALL_NODES,\n",
    "    ALL_NODES_MINIMUM_1000_EXAMPLES,\n",
    "    ALL_DAYS\n",
    ")\n",
    "\n",
    "from steves_utils.ORACLE.utils_v2 import (\n",
    "    ALL_DISTANCES_FEET_NARROWED,\n",
    "    ALL_RUNS,\n",
    "    ALL_SERIAL_NUMBERS,\n",
    ")\n",
    "\n",
    "standalone_parameters = {}\n",
    "standalone_parameters[\"experiment_name\"] = \"STANDALONE PTN\"\n",
    "standalone_parameters[\"lr\"] = 0.001\n",
    "standalone_parameters[\"device\"] = \"cuda\"\n",
    "\n",
    "standalone_parameters[\"seed\"] = 1337\n",
    "standalone_parameters[\"dataset_seed\"] = 1337\n",
    "\n",
    "standalone_parameters[\"n_way\"] = 8\n",
    "standalone_parameters[\"n_shot\"] = 3\n",
    "standalone_parameters[\"n_query\"]  = 2\n",
    "standalone_parameters[\"train_k_factor\"] = 1\n",
    "standalone_parameters[\"val_k_factor\"] = 2\n",
    "standalone_parameters[\"test_k_factor\"] = 2\n",
    "\n",
    "\n",
    "standalone_parameters[\"n_epoch\"] = 50\n",
    "\n",
    "standalone_parameters[\"patience\"] = 10\n",
    "standalone_parameters[\"criteria_for_best\"] = \"source_loss\"\n",
    "\n",
    "standalone_parameters[\"datasets\"] = [\n",
    "    {\n",
    "        \"labels\": ALL_SERIAL_NUMBERS,\n",
    "        \"domains\": ALL_DISTANCES_FEET_NARROWED,\n",
    "        \"num_examples_per_domain_per_label\": 100,\n",
    "        \"pickle_path\": os.path.join(get_datasets_base_path(), \"oracle.Run1_framed_2000Examples_stratified_ds.2022A.pkl\"),\n",
    "        \"source_or_target_dataset\": \"source\",\n",
    "        \"x_transforms\": [\"unit_mag\", \"minus_two\"],\n",
    "        \"episode_transforms\": [],\n",
    "        \"domain_prefix\": \"ORACLE_\"\n",
    "    },\n",
    "    {\n",
    "        \"labels\": ALL_NODES,\n",
    "        \"domains\": ALL_DAYS,\n",
    "        \"num_examples_per_domain_per_label\": 100,\n",
    "        \"pickle_path\": os.path.join(get_datasets_base_path(), \"cores.stratified_ds.2022A.pkl\"),\n",
    "        \"source_or_target_dataset\": \"target\",\n",
    "        \"x_transforms\": [\"unit_power\", \"times_zero\"],\n",
    "        \"episode_transforms\": [],\n",
    "        \"domain_prefix\": \"CORES_\"\n",
    "    }   \n",
    "]\n",
    "\n",
    "standalone_parameters[\"torch_default_dtype\"] = \"torch.float32\" \n",
    "\n",
    "\n",
    "\n",
    "standalone_parameters[\"x_net\"] =     [\n",
    "    {\"class\": \"nnReshape\", \"kargs\": {\"shape\":[-1, 1, 2, 256]}},\n",
    "    {\"class\": \"Conv2d\", \"kargs\": { \"in_channels\":1, \"out_channels\":256, \"kernel_size\":(1,7), \"bias\":False, \"padding\":(0,3), },},\n",
    "    {\"class\": \"ReLU\", \"kargs\": {\"inplace\": True}},\n",
    "    {\"class\": \"BatchNorm2d\", \"kargs\": {\"num_features\":256}},\n",
    "\n",
    "    {\"class\": \"Conv2d\", \"kargs\": { \"in_channels\":256, \"out_channels\":80, \"kernel_size\":(2,7), \"bias\":True, \"padding\":(0,3), },},\n",
    "    {\"class\": \"ReLU\", \"kargs\": {\"inplace\": True}},\n",
    "    {\"class\": \"BatchNorm2d\", \"kargs\": {\"num_features\":80}},\n",
    "    {\"class\": \"Flatten\", \"kargs\": {}},\n",
    "\n",
    "    {\"class\": \"Linear\", \"kargs\": {\"in_features\": 80*256, \"out_features\": 256}}, # 80 units per IQ pair\n",
    "    {\"class\": \"ReLU\", \"kargs\": {\"inplace\": True}},\n",
    "    {\"class\": \"BatchNorm1d\", \"kargs\": {\"num_features\":256}},\n",
    "\n",
    "    {\"class\": \"Linear\", \"kargs\": {\"in_features\": 256, \"out_features\": 256}},\n",
    "]\n",
    "\n",
    "# Parameters relevant to results\n",
    "# These parameters will basically never need to change\n",
    "standalone_parameters[\"NUM_LOGS_PER_EPOCH\"] = 10\n",
    "standalone_parameters[\"BEST_MODEL_PATH\"] = \"./best_model.pth\"\n",
    "\n",
    "\n",
    "\n",
    "\n"
   ]
  },
  {
   "cell_type": "code",
   "execution_count": 4,
   "id": "f582a780",
   "metadata": {
    "execution": {
     "iopub.execute_input": "2022-03-07T09:48:50.920635Z",
     "iopub.status.busy": "2022-03-07T09:48:50.915404Z",
     "iopub.status.idle": "2022-03-07T09:48:50.934673Z",
     "shell.execute_reply": "2022-03-07T09:48:50.934416Z"
    },
    "papermill": {
     "duration": 0.033809,
     "end_time": "2022-03-07T09:48:50.934737",
     "exception": false,
     "start_time": "2022-03-07T09:48:50.900928",
     "status": "completed"
    },
    "tags": [
     "injected-parameters"
    ]
   },
   "outputs": [],
   "source": [
    "# Parameters\n",
    "parameters = {\n",
    "    \"experiment_name\": \"tl_1_cores-oracle.run1\",\n",
    "    \"device\": \"cuda\",\n",
    "    \"lr\": 0.001,\n",
    "    \"seed\": 1337,\n",
    "    \"dataset_seed\": 1337,\n",
    "    \"n_shot\": 3,\n",
    "    \"n_query\": 2,\n",
    "    \"train_k_factor\": 3,\n",
    "    \"val_k_factor\": 2,\n",
    "    \"test_k_factor\": 2,\n",
    "    \"torch_default_dtype\": \"torch.float32\",\n",
    "    \"n_epoch\": 50,\n",
    "    \"patience\": 3,\n",
    "    \"criteria_for_best\": \"target_loss\",\n",
    "    \"x_net\": [\n",
    "        {\"class\": \"nnReshape\", \"kargs\": {\"shape\": [-1, 1, 2, 256]}},\n",
    "        {\n",
    "            \"class\": \"Conv2d\",\n",
    "            \"kargs\": {\n",
    "                \"in_channels\": 1,\n",
    "                \"out_channels\": 256,\n",
    "                \"kernel_size\": [1, 7],\n",
    "                \"bias\": False,\n",
    "                \"padding\": [0, 3],\n",
    "            },\n",
    "        },\n",
    "        {\"class\": \"ReLU\", \"kargs\": {\"inplace\": True}},\n",
    "        {\"class\": \"BatchNorm2d\", \"kargs\": {\"num_features\": 256}},\n",
    "        {\n",
    "            \"class\": \"Conv2d\",\n",
    "            \"kargs\": {\n",
    "                \"in_channels\": 256,\n",
    "                \"out_channels\": 80,\n",
    "                \"kernel_size\": [2, 7],\n",
    "                \"bias\": True,\n",
    "                \"padding\": [0, 3],\n",
    "            },\n",
    "        },\n",
    "        {\"class\": \"ReLU\", \"kargs\": {\"inplace\": True}},\n",
    "        {\"class\": \"BatchNorm2d\", \"kargs\": {\"num_features\": 80}},\n",
    "        {\"class\": \"Flatten\", \"kargs\": {}},\n",
    "        {\"class\": \"Linear\", \"kargs\": {\"in_features\": 20480, \"out_features\": 256}},\n",
    "        {\"class\": \"ReLU\", \"kargs\": {\"inplace\": True}},\n",
    "        {\"class\": \"BatchNorm1d\", \"kargs\": {\"num_features\": 256}},\n",
    "        {\"class\": \"Linear\", \"kargs\": {\"in_features\": 256, \"out_features\": 256}},\n",
    "    ],\n",
    "    \"NUM_LOGS_PER_EPOCH\": 10,\n",
    "    \"BEST_MODEL_PATH\": \"./best_model.pth\",\n",
    "    \"n_way\": 16,\n",
    "    \"datasets\": [\n",
    "        {\n",
    "            \"labels\": [\n",
    "                \"1-10.\",\n",
    "                \"1-11.\",\n",
    "                \"1-15.\",\n",
    "                \"1-16.\",\n",
    "                \"1-17.\",\n",
    "                \"1-18.\",\n",
    "                \"1-19.\",\n",
    "                \"10-4.\",\n",
    "                \"10-7.\",\n",
    "                \"11-1.\",\n",
    "                \"11-14.\",\n",
    "                \"11-17.\",\n",
    "                \"11-20.\",\n",
    "                \"11-7.\",\n",
    "                \"13-20.\",\n",
    "                \"13-8.\",\n",
    "                \"14-10.\",\n",
    "                \"14-11.\",\n",
    "                \"14-14.\",\n",
    "                \"14-7.\",\n",
    "                \"15-1.\",\n",
    "                \"15-20.\",\n",
    "                \"16-1.\",\n",
    "                \"16-16.\",\n",
    "                \"17-10.\",\n",
    "                \"17-11.\",\n",
    "                \"17-2.\",\n",
    "                \"19-1.\",\n",
    "                \"19-16.\",\n",
    "                \"19-19.\",\n",
    "                \"19-20.\",\n",
    "                \"19-3.\",\n",
    "                \"2-10.\",\n",
    "                \"2-11.\",\n",
    "                \"2-17.\",\n",
    "                \"2-18.\",\n",
    "                \"2-20.\",\n",
    "                \"2-3.\",\n",
    "                \"2-4.\",\n",
    "                \"2-5.\",\n",
    "                \"2-6.\",\n",
    "                \"2-7.\",\n",
    "                \"2-8.\",\n",
    "                \"3-13.\",\n",
    "                \"3-18.\",\n",
    "                \"3-3.\",\n",
    "                \"4-1.\",\n",
    "                \"4-10.\",\n",
    "                \"4-11.\",\n",
    "                \"4-19.\",\n",
    "                \"5-5.\",\n",
    "                \"6-15.\",\n",
    "                \"7-10.\",\n",
    "                \"7-14.\",\n",
    "                \"8-18.\",\n",
    "                \"8-20.\",\n",
    "                \"8-3.\",\n",
    "                \"8-8.\",\n",
    "            ],\n",
    "            \"domains\": [1, 2, 3, 4, 5],\n",
    "            \"num_examples_per_domain_per_label\": 100,\n",
    "            \"pickle_path\": \"/mnt/wd500GB/CSC500/csc500-main/datasets/cores.stratified_ds.2022A.pkl\",\n",
    "            \"source_or_target_dataset\": \"target\",\n",
    "            \"x_transforms\": [],\n",
    "            \"episode_transforms\": [],\n",
    "            \"domain_prefix\": \"CORES_\",\n",
    "        },\n",
    "        {\n",
    "            \"labels\": [\n",
    "                \"3123D52\",\n",
    "                \"3123D65\",\n",
    "                \"3123D79\",\n",
    "                \"3123D80\",\n",
    "                \"3123D54\",\n",
    "                \"3123D70\",\n",
    "                \"3123D7B\",\n",
    "                \"3123D89\",\n",
    "                \"3123D58\",\n",
    "                \"3123D76\",\n",
    "                \"3123D7D\",\n",
    "                \"3123EFE\",\n",
    "                \"3123D64\",\n",
    "                \"3123D78\",\n",
    "                \"3123D7E\",\n",
    "                \"3124E4A\",\n",
    "            ],\n",
    "            \"domains\": [32, 38, 8, 44, 14, 50, 20, 26],\n",
    "            \"num_examples_per_domain_per_label\": 2000,\n",
    "            \"pickle_path\": \"/mnt/wd500GB/CSC500/csc500-main/datasets/oracle.Run1_framed_2000Examples_stratified_ds.2022A.pkl\",\n",
    "            \"source_or_target_dataset\": \"source\",\n",
    "            \"x_transforms\": [],\n",
    "            \"episode_transforms\": [],\n",
    "            \"domain_prefix\": \"ORACLE.run1_\",\n",
    "        },\n",
    "    ],\n",
    "}\n"
   ]
  },
  {
   "cell_type": "code",
   "execution_count": 5,
   "id": "8fa1cc33",
   "metadata": {
    "execution": {
     "iopub.execute_input": "2022-03-07T09:48:50.963102Z",
     "iopub.status.busy": "2022-03-07T09:48:50.962843Z",
     "iopub.status.idle": "2022-03-07T09:48:50.972032Z",
     "shell.execute_reply": "2022-03-07T09:48:50.971809Z"
    },
    "papermill": {
     "duration": 0.024662,
     "end_time": "2022-03-07T09:48:50.972082",
     "exception": false,
     "start_time": "2022-03-07T09:48:50.947420",
     "status": "completed"
    },
    "tags": []
   },
   "outputs": [],
   "source": [
    "# Set this to True if you want to run this template directly\n",
    "STANDALONE = False\n",
    "if STANDALONE:\n",
    "    print(\"parameters not injected, running with standalone_parameters\")\n",
    "    parameters = standalone_parameters\n",
    "\n",
    "if not 'parameters' in locals() and not 'parameters' in globals():\n",
    "    raise Exception(\"Parameter injection failed\")\n",
    "\n",
    "#Use an easy dict for all the parameters\n",
    "p = EasyDict(parameters)\n",
    "\n",
    "supplied_keys = set(p.keys())\n",
    "\n",
    "if  supplied_keys != required_parameters:\n",
    "    print(\"Parameters are incorrect\")\n",
    "    if len(supplied_keys - required_parameters)>0: print(\"Shouldn't have:\", str(supplied_keys - required_parameters))\n",
    "    if len(required_parameters - supplied_keys)>0: print(\"Need to have:\", str(required_parameters - supplied_keys))\n",
    "    raise RuntimeError(\"Parameters are incorrect\")\n",
    "\n"
   ]
  },
  {
   "cell_type": "code",
   "execution_count": 6,
   "id": "3a028d58",
   "metadata": {
    "execution": {
     "iopub.execute_input": "2022-03-07T09:48:50.999354Z",
     "iopub.status.busy": "2022-03-07T09:48:50.999100Z",
     "iopub.status.idle": "2022-03-07T09:48:51.007801Z",
     "shell.execute_reply": "2022-03-07T09:48:51.007527Z"
    },
    "papermill": {
     "duration": 0.023207,
     "end_time": "2022-03-07T09:48:51.007892",
     "exception": false,
     "start_time": "2022-03-07T09:48:50.984685",
     "status": "completed"
    },
    "tags": []
   },
   "outputs": [],
   "source": [
    "###################################\n",
    "# Set the RNGs and make it all deterministic\n",
    "###################################\n",
    "np.random.seed(p.seed)\n",
    "random.seed(p.seed)\n",
    "torch.manual_seed(p.seed)\n",
    "\n",
    "torch.use_deterministic_algorithms(True) "
   ]
  },
  {
   "cell_type": "code",
   "execution_count": 7,
   "id": "b691acf6",
   "metadata": {
    "execution": {
     "iopub.execute_input": "2022-03-07T09:48:51.048403Z",
     "iopub.status.busy": "2022-03-07T09:48:51.038435Z",
     "iopub.status.idle": "2022-03-07T09:48:51.051931Z",
     "shell.execute_reply": "2022-03-07T09:48:51.052306Z"
    },
    "papermill": {
     "duration": 0.028011,
     "end_time": "2022-03-07T09:48:51.052419",
     "exception": false,
     "start_time": "2022-03-07T09:48:51.024408",
     "status": "completed"
    },
    "tags": []
   },
   "outputs": [],
   "source": [
    "###########################################\n",
    "# The stratified datasets honor this\n",
    "###########################################\n",
    "torch.set_default_dtype(eval(p.torch_default_dtype))"
   ]
  },
  {
   "cell_type": "code",
   "execution_count": 8,
   "id": "b5fba671",
   "metadata": {
    "execution": {
     "iopub.execute_input": "2022-03-07T09:48:51.087355Z",
     "iopub.status.busy": "2022-03-07T09:48:51.085247Z",
     "iopub.status.idle": "2022-03-07T09:48:51.123001Z",
     "shell.execute_reply": "2022-03-07T09:48:51.122603Z"
    },
    "papermill": {
     "duration": 0.052025,
     "end_time": "2022-03-07T09:48:51.123090",
     "exception": false,
     "start_time": "2022-03-07T09:48:51.071065",
     "status": "completed"
    },
    "tags": []
   },
   "outputs": [],
   "source": [
    "###################################\n",
    "# Build the network(s)\n",
    "# Note: It's critical to do this AFTER setting the RNG\n",
    "###################################\n",
    "x_net = build_sequential(p.x_net)"
   ]
  },
  {
   "cell_type": "code",
   "execution_count": 9,
   "id": "5d7e61cc",
   "metadata": {
    "execution": {
     "iopub.execute_input": "2022-03-07T09:48:51.155250Z",
     "iopub.status.busy": "2022-03-07T09:48:51.154808Z",
     "iopub.status.idle": "2022-03-07T09:48:51.167932Z",
     "shell.execute_reply": "2022-03-07T09:48:51.167482Z"
    },
    "papermill": {
     "duration": 0.027981,
     "end_time": "2022-03-07T09:48:51.168021",
     "exception": false,
     "start_time": "2022-03-07T09:48:51.140040",
     "status": "completed"
    },
    "tags": []
   },
   "outputs": [],
   "source": [
    "start_time_secs = time.time()"
   ]
  },
  {
   "cell_type": "code",
   "execution_count": 10,
   "id": "c6b67dfd",
   "metadata": {
    "execution": {
     "iopub.execute_input": "2022-03-07T09:48:51.203958Z",
     "iopub.status.busy": "2022-03-07T09:48:51.203708Z",
     "iopub.status.idle": "2022-03-07T09:48:51.213075Z",
     "shell.execute_reply": "2022-03-07T09:48:51.212827Z"
    },
    "papermill": {
     "duration": 0.02723,
     "end_time": "2022-03-07T09:48:51.213124",
     "exception": false,
     "start_time": "2022-03-07T09:48:51.185894",
     "status": "completed"
    },
    "tags": []
   },
   "outputs": [],
   "source": [
    "p.domains_source = []\n",
    "p.domains_target = []\n",
    "\n",
    "\n",
    "train_original_source = []\n",
    "val_original_source   = []\n",
    "test_original_source  = []\n",
    "\n",
    "train_original_target = []\n",
    "val_original_target   = []\n",
    "test_original_target  = []"
   ]
  },
  {
   "cell_type": "code",
   "execution_count": 11,
   "id": "e3d9c3d3",
   "metadata": {
    "execution": {
     "iopub.execute_input": "2022-03-07T09:48:51.245841Z",
     "iopub.status.busy": "2022-03-07T09:48:51.245590Z",
     "iopub.status.idle": "2022-03-07T09:48:51.258284Z",
     "shell.execute_reply": "2022-03-07T09:48:51.257765Z"
    },
    "papermill": {
     "duration": 0.027686,
     "end_time": "2022-03-07T09:48:51.258389",
     "exception": false,
     "start_time": "2022-03-07T09:48:51.230703",
     "status": "completed"
    },
    "tags": []
   },
   "outputs": [],
   "source": [
    "# global_x_transform_func = lambda x: normalize(x.to(torch.get_default_dtype()), \"unit_power\") # unit_power, unit_mag\n",
    "# global_x_transform_func = lambda x: normalize(x, \"unit_power\") # unit_power, unit_mag"
   ]
  },
  {
   "cell_type": "code",
   "execution_count": 12,
   "id": "acb78fd2",
   "metadata": {
    "execution": {
     "iopub.execute_input": "2022-03-07T09:48:51.303319Z",
     "iopub.status.busy": "2022-03-07T09:48:51.302943Z",
     "iopub.status.idle": "2022-03-07T09:48:51.306502Z",
     "shell.execute_reply": "2022-03-07T09:48:51.306150Z"
    },
    "papermill": {
     "duration": 0.032486,
     "end_time": "2022-03-07T09:48:51.306572",
     "exception": false,
     "start_time": "2022-03-07T09:48:51.274086",
     "status": "completed"
    },
    "tags": []
   },
   "outputs": [],
   "source": [
    "def add_dataset(\n",
    "    labels,\n",
    "    domains,\n",
    "    pickle_path,\n",
    "    x_transforms,\n",
    "    episode_transforms,\n",
    "    domain_prefix,\n",
    "    num_examples_per_domain_per_label,\n",
    "    source_or_target_dataset:str,\n",
    "    iterator_seed=p.seed,\n",
    "    dataset_seed=p.dataset_seed,\n",
    "    n_shot=p.n_shot,\n",
    "    n_way=p.n_way,\n",
    "    n_query=p.n_query,\n",
    "    train_val_test_k_factors=(p.train_k_factor,p.val_k_factor,p.test_k_factor),\n",
    "):\n",
    "   \n",
    "    if x_transforms == []: x_transform = None\n",
    "    else: x_transform = get_chained_transform(x_transforms)\n",
    "    \n",
    "    if episode_transforms == []: episode_transform = None\n",
    "    else: raise Exception(\"episode_transforms not implemented\")\n",
    "    \n",
    "    episode_transform = lambda tup, _prefix=domain_prefix: (_prefix + str(tup[0]), tup[1])\n",
    "\n",
    "\n",
    "    eaf = Episodic_Accessor_Factory(\n",
    "        labels=labels,\n",
    "        domains=domains,\n",
    "        num_examples_per_domain_per_label=num_examples_per_domain_per_label,\n",
    "        iterator_seed=iterator_seed,\n",
    "        dataset_seed=dataset_seed,\n",
    "        n_shot=n_shot,\n",
    "        n_way=n_way,\n",
    "        n_query=n_query,\n",
    "        train_val_test_k_factors=train_val_test_k_factors,\n",
    "        pickle_path=pickle_path,\n",
    "        x_transform_func=x_transform,\n",
    "    )\n",
    "\n",
    "    train, val, test = eaf.get_train(), eaf.get_val(), eaf.get_test()\n",
    "    train = Lazy_Iterable_Wrapper(train, episode_transform)\n",
    "    val = Lazy_Iterable_Wrapper(val, episode_transform)\n",
    "    test = Lazy_Iterable_Wrapper(test, episode_transform)\n",
    "\n",
    "    if source_or_target_dataset==\"source\":\n",
    "        train_original_source.append(train)\n",
    "        val_original_source.append(val)\n",
    "        test_original_source.append(test)\n",
    "\n",
    "        p.domains_source.extend(\n",
    "            [domain_prefix + str(u) for u in domains]\n",
    "        )\n",
    "    elif source_or_target_dataset==\"target\":\n",
    "        train_original_target.append(train)\n",
    "        val_original_target.append(val)\n",
    "        test_original_target.append(test)\n",
    "        p.domains_target.extend(\n",
    "            [domain_prefix + str(u) for u in domains]\n",
    "        )\n",
    "    else:\n",
    "        raise Exception(f\"invalid source_or_target_dataset: {source_or_target_dataset}\")\n",
    "    "
   ]
  },
  {
   "cell_type": "code",
   "execution_count": 13,
   "id": "fe266617",
   "metadata": {
    "execution": {
     "iopub.execute_input": "2022-03-07T09:48:51.336945Z",
     "iopub.status.busy": "2022-03-07T09:48:51.336694Z",
     "iopub.status.idle": "2022-03-07T09:48:52.928974Z",
     "shell.execute_reply": "2022-03-07T09:48:52.928524Z"
    },
    "papermill": {
     "duration": 1.606786,
     "end_time": "2022-03-07T09:48:52.929078",
     "exception": false,
     "start_time": "2022-03-07T09:48:51.322292",
     "status": "completed"
    },
    "tags": []
   },
   "outputs": [],
   "source": [
    "for ds in p.datasets:\n",
    "    add_dataset(**ds)"
   ]
  },
  {
   "cell_type": "code",
   "execution_count": 14,
   "id": "b90d65ac",
   "metadata": {
    "execution": {
     "iopub.execute_input": "2022-03-07T09:48:52.967640Z",
     "iopub.status.busy": "2022-03-07T09:48:52.967272Z",
     "iopub.status.idle": "2022-03-07T09:48:52.982144Z",
     "shell.execute_reply": "2022-03-07T09:48:52.981698Z"
    },
    "papermill": {
     "duration": 0.030137,
     "end_time": "2022-03-07T09:48:52.982234",
     "exception": false,
     "start_time": "2022-03-07T09:48:52.952097",
     "status": "completed"
    },
    "tags": []
   },
   "outputs": [],
   "source": [
    "# from steves_utils.CORES.utils import (\n",
    "#     ALL_NODES,\n",
    "#     ALL_NODES_MINIMUM_1000_EXAMPLES,\n",
    "#     ALL_DAYS\n",
    "# )\n",
    "\n",
    "# add_dataset(\n",
    "#     labels=ALL_NODES,\n",
    "#     domains = ALL_DAYS,\n",
    "#     num_examples_per_domain_per_label=100,\n",
    "#     pickle_path=os.path.join(get_datasets_base_path(), \"cores.stratified_ds.2022A.pkl\"),\n",
    "#     source_or_target_dataset=\"target\",\n",
    "#     x_transform_func=global_x_transform_func,\n",
    "#     domain_modifier=lambda u: f\"cores_{u}\"\n",
    "# )"
   ]
  },
  {
   "cell_type": "code",
   "execution_count": 15,
   "id": "76db484d",
   "metadata": {
    "execution": {
     "iopub.execute_input": "2022-03-07T09:48:53.015235Z",
     "iopub.status.busy": "2022-03-07T09:48:53.014973Z",
     "iopub.status.idle": "2022-03-07T09:48:53.022671Z",
     "shell.execute_reply": "2022-03-07T09:48:53.022418Z"
    },
    "papermill": {
     "duration": 0.023124,
     "end_time": "2022-03-07T09:48:53.022727",
     "exception": false,
     "start_time": "2022-03-07T09:48:52.999603",
     "status": "completed"
    },
    "tags": []
   },
   "outputs": [],
   "source": [
    "# from steves_utils.ORACLE.utils_v2 import (\n",
    "#     ALL_DISTANCES_FEET,\n",
    "#     ALL_RUNS,\n",
    "#     ALL_SERIAL_NUMBERS,\n",
    "# )\n",
    "\n",
    "\n",
    "# add_dataset(\n",
    "#     labels=ALL_SERIAL_NUMBERS,\n",
    "#     domains = list(set(ALL_DISTANCES_FEET) - {2,62}),\n",
    "#     num_examples_per_domain_per_label=100,\n",
    "#     pickle_path=os.path.join(get_datasets_base_path(), \"oracle.Run2_framed_2000Examples_stratified_ds.2022A.pkl\"),\n",
    "#     source_or_target_dataset=\"source\",\n",
    "#     x_transform_func=global_x_transform_func,\n",
    "#     domain_modifier=lambda u: f\"oracle1_{u}\"\n",
    "# )\n"
   ]
  },
  {
   "cell_type": "code",
   "execution_count": 16,
   "id": "97dea9d2",
   "metadata": {
    "execution": {
     "iopub.execute_input": "2022-03-07T09:48:53.061980Z",
     "iopub.status.busy": "2022-03-07T09:48:53.053835Z",
     "iopub.status.idle": "2022-03-07T09:48:53.065989Z",
     "shell.execute_reply": "2022-03-07T09:48:53.065743Z"
    },
    "papermill": {
     "duration": 0.027641,
     "end_time": "2022-03-07T09:48:53.066038",
     "exception": false,
     "start_time": "2022-03-07T09:48:53.038397",
     "status": "completed"
    },
    "tags": []
   },
   "outputs": [],
   "source": [
    "# from steves_utils.ORACLE.utils_v2 import (\n",
    "#     ALL_DISTANCES_FEET,\n",
    "#     ALL_RUNS,\n",
    "#     ALL_SERIAL_NUMBERS,\n",
    "# )\n",
    "\n",
    "\n",
    "# add_dataset(\n",
    "#     labels=ALL_SERIAL_NUMBERS,\n",
    "#     domains = list(set(ALL_DISTANCES_FEET) - {2,62,56}),\n",
    "#     num_examples_per_domain_per_label=100,\n",
    "#     pickle_path=os.path.join(get_datasets_base_path(), \"oracle.Run2_framed_2000Examples_stratified_ds.2022A.pkl\"),\n",
    "#     source_or_target_dataset=\"source\",\n",
    "#     x_transform_func=global_x_transform_func,\n",
    "#     domain_modifier=lambda u: f\"oracle2_{u}\"\n",
    "# )"
   ]
  },
  {
   "cell_type": "code",
   "execution_count": 17,
   "id": "6f289866",
   "metadata": {
    "execution": {
     "iopub.execute_input": "2022-03-07T09:48:53.107514Z",
     "iopub.status.busy": "2022-03-07T09:48:53.099066Z",
     "iopub.status.idle": "2022-03-07T09:48:53.111919Z",
     "shell.execute_reply": "2022-03-07T09:48:53.111609Z"
    },
    "papermill": {
     "duration": 0.028237,
     "end_time": "2022-03-07T09:48:53.112001",
     "exception": false,
     "start_time": "2022-03-07T09:48:53.083764",
     "status": "completed"
    },
    "tags": []
   },
   "outputs": [],
   "source": [
    "# add_dataset(\n",
    "#     labels=list(range(19)),\n",
    "#     domains = [0,1,2],\n",
    "#     num_examples_per_domain_per_label=100,\n",
    "#     pickle_path=os.path.join(get_datasets_base_path(), \"metehan.stratified_ds.2022A.pkl\"),\n",
    "#     source_or_target_dataset=\"target\",\n",
    "#     x_transform_func=global_x_transform_func,\n",
    "#     domain_modifier=lambda u: f\"met_{u}\"\n",
    "# )"
   ]
  },
  {
   "cell_type": "code",
   "execution_count": 18,
   "id": "86a863c3",
   "metadata": {
    "execution": {
     "iopub.execute_input": "2022-03-07T09:48:53.144683Z",
     "iopub.status.busy": "2022-03-07T09:48:53.144411Z",
     "iopub.status.idle": "2022-03-07T09:48:53.152467Z",
     "shell.execute_reply": "2022-03-07T09:48:53.152262Z"
    },
    "papermill": {
     "duration": 0.022978,
     "end_time": "2022-03-07T09:48:53.152518",
     "exception": false,
     "start_time": "2022-03-07T09:48:53.129540",
     "status": "completed"
    },
    "tags": []
   },
   "outputs": [],
   "source": [
    "# # from steves_utils.wisig.utils import (\n",
    "# #     ALL_NODES_MINIMUM_100_EXAMPLES,\n",
    "# #     ALL_NODES_MINIMUM_500_EXAMPLES,\n",
    "# #     ALL_NODES_MINIMUM_1000_EXAMPLES,\n",
    "# #     ALL_DAYS\n",
    "# # )\n",
    "\n",
    "# import steves_utils.wisig.utils as wisig\n",
    "\n",
    "\n",
    "# add_dataset(\n",
    "#     labels=wisig.ALL_NODES_MINIMUM_100_EXAMPLES,\n",
    "#     domains = wisig.ALL_DAYS,\n",
    "#     num_examples_per_domain_per_label=100,\n",
    "#     pickle_path=os.path.join(get_datasets_base_path(), \"wisig.node3-19.stratified_ds.2022A.pkl\"),\n",
    "#     source_or_target_dataset=\"target\",\n",
    "#     x_transform_func=global_x_transform_func,\n",
    "#     domain_modifier=lambda u: f\"wisig_{u}\"\n",
    "# )"
   ]
  },
  {
   "cell_type": "code",
   "execution_count": 19,
   "id": "fd5442bc",
   "metadata": {
    "execution": {
     "iopub.execute_input": "2022-03-07T09:48:53.201228Z",
     "iopub.status.busy": "2022-03-07T09:48:53.188891Z",
     "iopub.status.idle": "2022-03-07T09:48:53.202879Z",
     "shell.execute_reply": "2022-03-07T09:48:53.202336Z"
    },
    "papermill": {
     "duration": 0.03202,
     "end_time": "2022-03-07T09:48:53.202981",
     "exception": false,
     "start_time": "2022-03-07T09:48:53.170961",
     "status": "completed"
    },
    "tags": []
   },
   "outputs": [],
   "source": [
    "###################################\n",
    "# Build the dataset\n",
    "###################################\n",
    "train_original_source = Iterable_Aggregator(train_original_source, p.seed)\n",
    "val_original_source = Iterable_Aggregator(val_original_source, p.seed)\n",
    "test_original_source = Iterable_Aggregator(test_original_source, p.seed)\n",
    "\n",
    "\n",
    "train_original_target = Iterable_Aggregator(train_original_target, p.seed)\n",
    "val_original_target = Iterable_Aggregator(val_original_target, p.seed)\n",
    "test_original_target = Iterable_Aggregator(test_original_target, p.seed)\n",
    "\n",
    "# For CNN We only use X and Y. And we only train on the source.\n",
    "# Properly form the data using a transform lambda and Lazy_Iterable_Wrapper. Finally wrap them in a dataloader\n",
    "\n",
    "transform_lambda = lambda ex: ex[1] # Original is (<domain>, <episode>) so we strip down to episode only\n",
    "\n",
    "train_processed_source = Lazy_Iterable_Wrapper(train_original_source, transform_lambda)\n",
    "val_processed_source   = Lazy_Iterable_Wrapper(val_original_source, transform_lambda)\n",
    "test_processed_source  = Lazy_Iterable_Wrapper(test_original_source, transform_lambda)\n",
    "\n",
    "train_processed_target = Lazy_Iterable_Wrapper(train_original_target, transform_lambda)\n",
    "val_processed_target   = Lazy_Iterable_Wrapper(val_original_target, transform_lambda)\n",
    "test_processed_target  = Lazy_Iterable_Wrapper(test_original_target, transform_lambda)\n",
    "\n",
    "datasets = EasyDict({\n",
    "    \"source\": {\n",
    "        \"original\": {\"train\":train_original_source, \"val\":val_original_source, \"test\":test_original_source},\n",
    "        \"processed\": {\"train\":train_processed_source, \"val\":val_processed_source, \"test\":test_processed_source}\n",
    "    },\n",
    "    \"target\": {\n",
    "        \"original\": {\"train\":train_original_target, \"val\":val_original_target, \"test\":test_original_target},\n",
    "        \"processed\": {\"train\":train_processed_target, \"val\":val_processed_target, \"test\":test_processed_target}\n",
    "    },\n",
    "})"
   ]
  },
  {
   "cell_type": "code",
   "execution_count": 20,
   "id": "5b3c01fc",
   "metadata": {
    "execution": {
     "iopub.execute_input": "2022-03-07T09:48:53.236705Z",
     "iopub.status.busy": "2022-03-07T09:48:53.236445Z",
     "iopub.status.idle": "2022-03-07T09:48:57.512782Z",
     "shell.execute_reply": "2022-03-07T09:48:57.513049Z"
    },
    "papermill": {
     "duration": 4.292578,
     "end_time": "2022-03-07T09:48:57.513181",
     "exception": false,
     "start_time": "2022-03-07T09:48:53.220603",
     "status": "completed"
    },
    "tags": []
   },
   "outputs": [
    {
     "name": "stdout",
     "output_type": "stream",
     "text": [
      "{'ORACLE.run1_14', 'ORACLE.run1_50', 'ORACLE.run1_26', 'ORACLE.run1_38', 'ORACLE.run1_44', 'ORACLE.run1_8', 'ORACLE.run1_20', 'ORACLE.run1_32'}\n"
     ]
    },
    {
     "name": "stdout",
     "output_type": "stream",
     "text": [
      "{'CORES_2', 'CORES_1', 'CORES_4', 'CORES_3', 'CORES_5'}\n"
     ]
    },
    {
     "name": "stdout",
     "output_type": "stream",
     "text": [
      "tensor([[[-0.0003,  0.0038, -0.0004,  ..., -0.0031, -0.0009, -0.0018],\n",
      "         [-0.0021, -0.0010,  0.0035,  ...,  0.0008, -0.0047, -0.0016]],\n",
      "\n",
      "        [[-0.0015,  0.0022,  0.0018,  ..., -0.0041, -0.0038, -0.0004],\n",
      "         [-0.0037, -0.0010,  0.0036,  ...,  0.0013, -0.0005,  0.0040]],\n",
      "\n",
      "        [[ 0.0021, -0.0012, -0.0025,  ...,  0.0026,  0.0045,  0.0011],\n",
      "         [ 0.0027,  0.0022, -0.0029,  ..., -0.0025,  0.0015, -0.0038]],\n",
      "\n",
      "        ...,\n",
      "\n",
      "        [[ 0.0048, -0.0012, -0.0057,  ...,  0.0031,  0.0048, -0.0031],\n",
      "         [ 0.0027,  0.0034, -0.0018,  ..., -0.0047, -0.0030, -0.0054]],\n",
      "\n",
      "        [[ 0.0001, -0.0048,  0.0014,  ...,  0.0043,  0.0023,  0.0052],\n",
      "         [ 0.0038,  0.0020, -0.0055,  ..., -0.0006,  0.0061, -0.0011]],\n",
      "\n",
      "        [[ 0.0023,  0.0016, -0.0035,  ..., -0.0022,  0.0060,  0.0049],\n",
      "         [-0.0020,  0.0053, -0.0002,  ..., -0.0052, -0.0003, -0.0012]]])\n"
     ]
    }
   ],
   "source": [
    "from steves_utils.transforms import get_average_magnitude, get_average_power\n",
    "\n",
    "print(set([u for u,_ in val_original_source]))\n",
    "print(set([u for u,_ in val_original_target]))\n",
    "\n",
    "s_x, s_y, q_x, q_y, _ = next(iter(train_processed_source))\n",
    "print(s_x)\n",
    "\n",
    "# for ds in [\n",
    "#     train_processed_source,\n",
    "#     val_processed_source,\n",
    "#     test_processed_source,\n",
    "#     train_processed_target,\n",
    "#     val_processed_target,\n",
    "#     test_processed_target\n",
    "# ]:\n",
    "#     for s_x, s_y, q_x, q_y, _ in ds:\n",
    "#         for X in (s_x, q_x):\n",
    "#             for x in X:\n",
    "#                 assert np.isclose(get_average_magnitude(x.numpy()), 1.0)\n",
    "#                 assert np.isclose(get_average_power(x.numpy()), 1.0)\n",
    "                "
   ]
  },
  {
   "cell_type": "code",
   "execution_count": 21,
   "id": "bbdacba1",
   "metadata": {
    "execution": {
     "iopub.execute_input": "2022-03-07T09:48:57.550979Z",
     "iopub.status.busy": "2022-03-07T09:48:57.550715Z",
     "iopub.status.idle": "2022-03-07T09:48:57.608246Z",
     "shell.execute_reply": "2022-03-07T09:48:57.608634Z"
    },
    "papermill": {
     "duration": 0.075687,
     "end_time": "2022-03-07T09:48:57.608771",
     "exception": false,
     "start_time": "2022-03-07T09:48:57.533084",
     "status": "completed"
    },
    "tags": []
   },
   "outputs": [
    {
     "name": "stdout",
     "output_type": "stream",
     "text": [
      "(2, 256)\n"
     ]
    }
   ],
   "source": [
    "###################################\n",
    "# Build the model\n",
    "###################################\n",
    "model = Steves_Prototypical_Network(x_net, device=p.device, x_shape=(2,256))\n",
    "optimizer = Adam(params=model.parameters(), lr=p.lr)"
   ]
  },
  {
   "cell_type": "code",
   "execution_count": 22,
   "id": "22b39ac5",
   "metadata": {
    "execution": {
     "iopub.execute_input": "2022-03-07T09:48:57.647482Z",
     "iopub.status.busy": "2022-03-07T09:48:57.647125Z",
     "iopub.status.idle": "2022-03-07T10:12:58.342940Z",
     "shell.execute_reply": "2022-03-07T10:12:58.342708Z"
    },
    "papermill": {
     "duration": 1440.714305,
     "end_time": "2022-03-07T10:12:58.342998",
     "exception": false,
     "start_time": "2022-03-07T09:48:57.628693",
     "status": "completed"
    },
    "tags": []
   },
   "outputs": [
    {
     "name": "stdout",
     "output_type": "stream",
     "text": [
      "epoch: 1, [batch: 1 / 6720], examples_per_second: 51.2838, train_label_loss: 2.8346, \n"
     ]
    },
    {
     "name": "stdout",
     "output_type": "stream",
     "text": [
      "epoch: 1, [batch: 672 / 6720], examples_per_second: 3147.7977, train_label_loss: 0.5444, \n"
     ]
    },
    {
     "name": "stdout",
     "output_type": "stream",
     "text": [
      "epoch: 1, [batch: 1344 / 6720], examples_per_second: 3166.0587, train_label_loss: 0.4341, \n"
     ]
    },
    {
     "name": "stdout",
     "output_type": "stream",
     "text": [
      "epoch: 1, [batch: 2016 / 6720], examples_per_second: 3164.7893, train_label_loss: 0.1687, \n"
     ]
    },
    {
     "name": "stdout",
     "output_type": "stream",
     "text": [
      "epoch: 1, [batch: 2688 / 6720], examples_per_second: 3140.3087, train_label_loss: 0.1348, \n"
     ]
    },
    {
     "name": "stdout",
     "output_type": "stream",
     "text": [
      "epoch: 1, [batch: 3360 / 6720], examples_per_second: 3155.3404, train_label_loss: 0.1124, \n"
     ]
    },
    {
     "name": "stdout",
     "output_type": "stream",
     "text": [
      "epoch: 1, [batch: 4032 / 6720], examples_per_second: 3142.6082, train_label_loss: 0.2020, \n"
     ]
    },
    {
     "name": "stdout",
     "output_type": "stream",
     "text": [
      "epoch: 1, [batch: 4704 / 6720], examples_per_second: 3131.8355, train_label_loss: 0.4013, \n"
     ]
    },
    {
     "name": "stdout",
     "output_type": "stream",
     "text": [
      "epoch: 1, [batch: 5376 / 6720], examples_per_second: 3146.1713, train_label_loss: 0.2122, \n"
     ]
    },
    {
     "name": "stdout",
     "output_type": "stream",
     "text": [
      "epoch: 1, [batch: 6048 / 6720], examples_per_second: 3149.5717, train_label_loss: 0.0872, \n"
     ]
    },
    {
     "name": "stdout",
     "output_type": "stream",
     "text": [
      "=============================================================\n",
      "epoch: 1, source_val_acc_label: 0.5492, target_val_acc_label: 0.8328, source_val_label_loss: 379.4673, target_val_label_loss: 45775.0273, \n",
      "=============================================================\n"
     ]
    },
    {
     "name": "stdout",
     "output_type": "stream",
     "text": [
      "New best\n"
     ]
    },
    {
     "name": "stdout",
     "output_type": "stream",
     "text": [
      "epoch: 2, [batch: 1 / 6720], examples_per_second: 5.7688, train_label_loss: 513.2294, \n"
     ]
    },
    {
     "name": "stdout",
     "output_type": "stream",
     "text": [
      "epoch: 2, [batch: 672 / 6720], examples_per_second: 3181.6131, train_label_loss: 4.6665, \n"
     ]
    },
    {
     "name": "stdout",
     "output_type": "stream",
     "text": [
      "epoch: 2, [batch: 1344 / 6720], examples_per_second: 3184.5499, train_label_loss: 2.7224, \n"
     ]
    },
    {
     "name": "stdout",
     "output_type": "stream",
     "text": [
      "epoch: 2, [batch: 2016 / 6720], examples_per_second: 3190.1680, train_label_loss: 5.6063, \n"
     ]
    },
    {
     "name": "stdout",
     "output_type": "stream",
     "text": [
      "epoch: 2, [batch: 2688 / 6720], examples_per_second: 3171.9655, train_label_loss: 0.8135, \n"
     ]
    },
    {
     "name": "stdout",
     "output_type": "stream",
     "text": [
      "epoch: 2, [batch: 3360 / 6720], examples_per_second: 3183.8202, train_label_loss: 0.1679, \n"
     ]
    },
    {
     "name": "stdout",
     "output_type": "stream",
     "text": [
      "epoch: 2, [batch: 4032 / 6720], examples_per_second: 3196.5486, train_label_loss: 0.2177, \n"
     ]
    },
    {
     "name": "stdout",
     "output_type": "stream",
     "text": [
      "epoch: 2, [batch: 4704 / 6720], examples_per_second: 3181.4635, train_label_loss: 0.0639, \n"
     ]
    },
    {
     "name": "stdout",
     "output_type": "stream",
     "text": [
      "epoch: 2, [batch: 5376 / 6720], examples_per_second: 3183.9833, train_label_loss: 0.1386, \n"
     ]
    },
    {
     "name": "stdout",
     "output_type": "stream",
     "text": [
      "epoch: 2, [batch: 6048 / 6720], examples_per_second: 3190.6397, train_label_loss: 0.1846, \n"
     ]
    },
    {
     "name": "stdout",
     "output_type": "stream",
     "text": [
      "=============================================================\n",
      "epoch: 2, source_val_acc_label: 0.9059, target_val_acc_label: 0.7738, source_val_label_loss: 0.2663, target_val_label_loss: 7744.5444, \n",
      "=============================================================\n"
     ]
    },
    {
     "name": "stdout",
     "output_type": "stream",
     "text": [
      "New best\n"
     ]
    },
    {
     "name": "stdout",
     "output_type": "stream",
     "text": [
      "epoch: 3, [batch: 1 / 6720], examples_per_second: 5.7818, train_label_loss: 0.1299, \n"
     ]
    },
    {
     "name": "stdout",
     "output_type": "stream",
     "text": [
      "epoch: 3, [batch: 672 / 6720], examples_per_second: 3162.0217, train_label_loss: 0.2052, \n"
     ]
    },
    {
     "name": "stdout",
     "output_type": "stream",
     "text": [
      "epoch: 3, [batch: 1344 / 6720], examples_per_second: 3170.7949, train_label_loss: 0.1212, \n"
     ]
    },
    {
     "name": "stdout",
     "output_type": "stream",
     "text": [
      "epoch: 3, [batch: 2016 / 6720], examples_per_second: 3162.1181, train_label_loss: 0.1739, \n"
     ]
    },
    {
     "name": "stdout",
     "output_type": "stream",
     "text": [
      "epoch: 3, [batch: 2688 / 6720], examples_per_second: 3154.2705, train_label_loss: 0.1212, \n"
     ]
    },
    {
     "name": "stdout",
     "output_type": "stream",
     "text": [
      "epoch: 3, [batch: 3360 / 6720], examples_per_second: 3168.4959, train_label_loss: 0.2406, \n"
     ]
    },
    {
     "name": "stdout",
     "output_type": "stream",
     "text": [
      "epoch: 3, [batch: 4032 / 6720], examples_per_second: 3175.5508, train_label_loss: 0.1635, \n"
     ]
    },
    {
     "name": "stdout",
     "output_type": "stream",
     "text": [
      "epoch: 3, [batch: 4704 / 6720], examples_per_second: 3186.3263, train_label_loss: 0.2317, \n"
     ]
    },
    {
     "name": "stdout",
     "output_type": "stream",
     "text": [
      "epoch: 3, [batch: 5376 / 6720], examples_per_second: 3193.0915, train_label_loss: 0.1119, \n"
     ]
    },
    {
     "name": "stdout",
     "output_type": "stream",
     "text": [
      "epoch: 3, [batch: 6048 / 6720], examples_per_second: 3173.6308, train_label_loss: 0.0387, \n"
     ]
    },
    {
     "name": "stdout",
     "output_type": "stream",
     "text": [
      "=============================================================\n",
      "epoch: 3, source_val_acc_label: 0.9025, target_val_acc_label: 0.7913, source_val_label_loss: 0.2929, target_val_label_loss: 6975.7529, \n",
      "=============================================================\n"
     ]
    },
    {
     "name": "stdout",
     "output_type": "stream",
     "text": [
      "New best\n"
     ]
    },
    {
     "name": "stdout",
     "output_type": "stream",
     "text": [
      "epoch: 4, [batch: 1 / 6720], examples_per_second: 5.7448, train_label_loss: 0.1683, \n"
     ]
    },
    {
     "name": "stdout",
     "output_type": "stream",
     "text": [
      "epoch: 4, [batch: 672 / 6720], examples_per_second: 3168.2855, train_label_loss: 0.2073, \n"
     ]
    },
    {
     "name": "stdout",
     "output_type": "stream",
     "text": [
      "epoch: 4, [batch: 1344 / 6720], examples_per_second: 3172.3981, train_label_loss: 0.3825, \n"
     ]
    },
    {
     "name": "stdout",
     "output_type": "stream",
     "text": [
      "epoch: 4, [batch: 2016 / 6720], examples_per_second: 3180.2016, train_label_loss: 0.1045, \n"
     ]
    },
    {
     "name": "stdout",
     "output_type": "stream",
     "text": [
      "epoch: 4, [batch: 2688 / 6720], examples_per_second: 3169.1475, train_label_loss: 0.3289, \n"
     ]
    },
    {
     "name": "stdout",
     "output_type": "stream",
     "text": [
      "epoch: 4, [batch: 3360 / 6720], examples_per_second: 3184.5801, train_label_loss: 0.2160, \n"
     ]
    },
    {
     "name": "stdout",
     "output_type": "stream",
     "text": [
      "epoch: 4, [batch: 4032 / 6720], examples_per_second: 3186.1584, train_label_loss: 0.2565, \n"
     ]
    },
    {
     "name": "stdout",
     "output_type": "stream",
     "text": [
      "epoch: 4, [batch: 4704 / 6720], examples_per_second: 3168.9008, train_label_loss: 0.3799, \n"
     ]
    },
    {
     "name": "stdout",
     "output_type": "stream",
     "text": [
      "epoch: 4, [batch: 5376 / 6720], examples_per_second: 3170.1644, train_label_loss: 0.0841, \n"
     ]
    },
    {
     "name": "stdout",
     "output_type": "stream",
     "text": [
      "epoch: 4, [batch: 6048 / 6720], examples_per_second: 3180.4921, train_label_loss: 0.1002, \n"
     ]
    },
    {
     "name": "stdout",
     "output_type": "stream",
     "text": [
      "=============================================================\n",
      "epoch: 4, source_val_acc_label: 0.9175, target_val_acc_label: 0.8397, source_val_label_loss: 0.2420, target_val_label_loss: 4676.4126, \n",
      "=============================================================\n"
     ]
    },
    {
     "name": "stdout",
     "output_type": "stream",
     "text": [
      "New best\n"
     ]
    },
    {
     "name": "stdout",
     "output_type": "stream",
     "text": [
      "epoch: 5, [batch: 1 / 6720], examples_per_second: 5.7567, train_label_loss: 0.1281, \n"
     ]
    },
    {
     "name": "stdout",
     "output_type": "stream",
     "text": [
      "epoch: 5, [batch: 672 / 6720], examples_per_second: 3163.4991, train_label_loss: 0.1445, \n"
     ]
    },
    {
     "name": "stdout",
     "output_type": "stream",
     "text": [
      "epoch: 5, [batch: 1344 / 6720], examples_per_second: 3170.6303, train_label_loss: 0.4706, \n"
     ]
    },
    {
     "name": "stdout",
     "output_type": "stream",
     "text": [
      "epoch: 5, [batch: 2016 / 6720], examples_per_second: 3181.4143, train_label_loss: 0.3086, \n"
     ]
    },
    {
     "name": "stdout",
     "output_type": "stream",
     "text": [
      "epoch: 5, [batch: 2688 / 6720], examples_per_second: 3174.7489, train_label_loss: 0.1197, \n"
     ]
    },
    {
     "name": "stdout",
     "output_type": "stream",
     "text": [
      "epoch: 5, [batch: 3360 / 6720], examples_per_second: 3183.8073, train_label_loss: 0.2680, \n"
     ]
    },
    {
     "name": "stdout",
     "output_type": "stream",
     "text": [
      "epoch: 5, [batch: 4032 / 6720], examples_per_second: 3190.3612, train_label_loss: 0.2134, \n"
     ]
    },
    {
     "name": "stdout",
     "output_type": "stream",
     "text": [
      "epoch: 5, [batch: 4704 / 6720], examples_per_second: 3174.5478, train_label_loss: 0.1466, \n"
     ]
    },
    {
     "name": "stdout",
     "output_type": "stream",
     "text": [
      "epoch: 5, [batch: 5376 / 6720], examples_per_second: 3181.7752, train_label_loss: 0.0897, \n"
     ]
    },
    {
     "name": "stdout",
     "output_type": "stream",
     "text": [
      "epoch: 5, [batch: 6048 / 6720], examples_per_second: 3178.6530, train_label_loss: 0.2875, \n"
     ]
    },
    {
     "name": "stdout",
     "output_type": "stream",
     "text": [
      "=============================================================\n",
      "epoch: 5, source_val_acc_label: 0.9229, target_val_acc_label: 0.8006, source_val_label_loss: 0.2191, target_val_label_loss: 11385.9785, \n",
      "=============================================================\n"
     ]
    },
    {
     "name": "stdout",
     "output_type": "stream",
     "text": [
      "epoch: 6, [batch: 1 / 6720], examples_per_second: 5.8086, train_label_loss: 0.2442, \n"
     ]
    },
    {
     "name": "stdout",
     "output_type": "stream",
     "text": [
      "epoch: 6, [batch: 672 / 6720], examples_per_second: 3167.3222, train_label_loss: 0.2368, \n"
     ]
    },
    {
     "name": "stdout",
     "output_type": "stream",
     "text": [
      "epoch: 6, [batch: 1344 / 6720], examples_per_second: 3178.6601, train_label_loss: 0.0841, \n"
     ]
    },
    {
     "name": "stdout",
     "output_type": "stream",
     "text": [
      "epoch: 6, [batch: 2016 / 6720], examples_per_second: 3195.5738, train_label_loss: 0.1591, \n"
     ]
    },
    {
     "name": "stdout",
     "output_type": "stream",
     "text": [
      "epoch: 6, [batch: 2688 / 6720], examples_per_second: 3188.5353, train_label_loss: 0.1930, \n"
     ]
    },
    {
     "name": "stdout",
     "output_type": "stream",
     "text": [
      "epoch: 6, [batch: 3360 / 6720], examples_per_second: 3181.3833, train_label_loss: 0.0646, \n"
     ]
    },
    {
     "name": "stdout",
     "output_type": "stream",
     "text": [
      "epoch: 6, [batch: 4032 / 6720], examples_per_second: 3188.1664, train_label_loss: 0.0866, \n"
     ]
    },
    {
     "name": "stdout",
     "output_type": "stream",
     "text": [
      "epoch: 6, [batch: 4704 / 6720], examples_per_second: 3170.0828, train_label_loss: 0.5220, \n"
     ]
    },
    {
     "name": "stdout",
     "output_type": "stream",
     "text": [
      "epoch: 6, [batch: 5376 / 6720], examples_per_second: 3174.9858, train_label_loss: 0.3436, \n"
     ]
    },
    {
     "name": "stdout",
     "output_type": "stream",
     "text": [
      "epoch: 6, [batch: 6048 / 6720], examples_per_second: 3175.0289, train_label_loss: 0.0875, \n"
     ]
    },
    {
     "name": "stdout",
     "output_type": "stream",
     "text": [
      "=============================================================\n",
      "epoch: 6, source_val_acc_label: 0.9337, target_val_acc_label: 0.8187, source_val_label_loss: 0.1950, target_val_label_loss: 11702.7461, \n",
      "=============================================================\n"
     ]
    },
    {
     "name": "stdout",
     "output_type": "stream",
     "text": [
      "epoch: 7, [batch: 1 / 6720], examples_per_second: 5.7591, train_label_loss: 0.0294, \n"
     ]
    },
    {
     "name": "stdout",
     "output_type": "stream",
     "text": [
      "epoch: 7, [batch: 672 / 6720], examples_per_second: 3180.7906, train_label_loss: 0.2806, \n"
     ]
    },
    {
     "name": "stdout",
     "output_type": "stream",
     "text": [
      "epoch: 7, [batch: 1344 / 6720], examples_per_second: 3179.9811, train_label_loss: 0.0588, \n"
     ]
    },
    {
     "name": "stdout",
     "output_type": "stream",
     "text": [
      "epoch: 7, [batch: 2016 / 6720], examples_per_second: 3167.6315, train_label_loss: 0.0390, \n"
     ]
    },
    {
     "name": "stdout",
     "output_type": "stream",
     "text": [
      "epoch: 7, [batch: 2688 / 6720], examples_per_second: 3159.1299, train_label_loss: 0.3709, \n"
     ]
    },
    {
     "name": "stdout",
     "output_type": "stream",
     "text": [
      "epoch: 7, [batch: 3360 / 6720], examples_per_second: 3174.3145, train_label_loss: 0.4477, \n"
     ]
    },
    {
     "name": "stdout",
     "output_type": "stream",
     "text": [
      "epoch: 7, [batch: 4032 / 6720], examples_per_second: 3178.6865, train_label_loss: 0.0841, \n"
     ]
    },
    {
     "name": "stdout",
     "output_type": "stream",
     "text": [
      "epoch: 7, [batch: 4704 / 6720], examples_per_second: 3171.0993, train_label_loss: 0.3163, \n"
     ]
    },
    {
     "name": "stdout",
     "output_type": "stream",
     "text": [
      "epoch: 7, [batch: 5376 / 6720], examples_per_second: 3179.6956, train_label_loss: 0.1851, \n"
     ]
    },
    {
     "name": "stdout",
     "output_type": "stream",
     "text": [
      "epoch: 7, [batch: 6048 / 6720], examples_per_second: 3184.7952, train_label_loss: 0.1243, \n"
     ]
    },
    {
     "name": "stdout",
     "output_type": "stream",
     "text": [
      "=============================================================\n",
      "epoch: 7, source_val_acc_label: 0.9299, target_val_acc_label: 0.7925, source_val_label_loss: 0.1964, target_val_label_loss: 6994.2544, \n",
      "=============================================================\n"
     ]
    },
    {
     "name": "stdout",
     "output_type": "stream",
     "text": [
      "epoch: 8, [batch: 1 / 6720], examples_per_second: 5.7924, train_label_loss: 0.1848, \n"
     ]
    },
    {
     "name": "stdout",
     "output_type": "stream",
     "text": [
      "epoch: 8, [batch: 672 / 6720], examples_per_second: 3177.7806, train_label_loss: 0.4676, \n"
     ]
    },
    {
     "name": "stdout",
     "output_type": "stream",
     "text": [
      "epoch: 8, [batch: 1344 / 6720], examples_per_second: 3178.6845, train_label_loss: 0.0847, \n"
     ]
    },
    {
     "name": "stdout",
     "output_type": "stream",
     "text": [
      "epoch: 8, [batch: 2016 / 6720], examples_per_second: 3192.9739, train_label_loss: 0.1150, \n"
     ]
    },
    {
     "name": "stdout",
     "output_type": "stream",
     "text": [
      "epoch: 8, [batch: 2688 / 6720], examples_per_second: 3173.7290, train_label_loss: 0.0757, \n"
     ]
    },
    {
     "name": "stdout",
     "output_type": "stream",
     "text": [
      "epoch: 8, [batch: 3360 / 6720], examples_per_second: 3185.2106, train_label_loss: 0.1374, \n"
     ]
    },
    {
     "name": "stdout",
     "output_type": "stream",
     "text": [
      "epoch: 8, [batch: 4032 / 6720], examples_per_second: 3188.6804, train_label_loss: 0.3080, \n"
     ]
    },
    {
     "name": "stdout",
     "output_type": "stream",
     "text": [
      "epoch: 8, [batch: 4704 / 6720], examples_per_second: 3174.5019, train_label_loss: 0.2080, \n"
     ]
    },
    {
     "name": "stdout",
     "output_type": "stream",
     "text": [
      "epoch: 8, [batch: 5376 / 6720], examples_per_second: 3174.9961, train_label_loss: 0.2727, \n"
     ]
    },
    {
     "name": "stdout",
     "output_type": "stream",
     "text": [
      "epoch: 8, [batch: 6048 / 6720], examples_per_second: 3182.1404, train_label_loss: 0.2428, \n"
     ]
    },
    {
     "name": "stdout",
     "output_type": "stream",
     "text": [
      "=============================================================\n",
      "epoch: 8, source_val_acc_label: 0.9349, target_val_acc_label: 0.8066, source_val_label_loss: 0.1865, target_val_label_loss: 8814.8037, \n",
      "=============================================================\n"
     ]
    },
    {
     "name": "stdout",
     "output_type": "stream",
     "text": [
      "Patience (3) exhausted\n"
     ]
    }
   ],
   "source": [
    "###################################\n",
    "# train\n",
    "###################################\n",
    "jig = PTN_Train_Eval_Test_Jig(model, p.BEST_MODEL_PATH, p.device)\n",
    "\n",
    "jig.train(\n",
    "    train_iterable=datasets.source.processed.train,\n",
    "    source_val_iterable=datasets.source.processed.val,\n",
    "    target_val_iterable=datasets.target.processed.val,\n",
    "    num_epochs=p.n_epoch,\n",
    "    num_logs_per_epoch=p.NUM_LOGS_PER_EPOCH,\n",
    "    patience=p.patience,\n",
    "    optimizer=optimizer,\n",
    "    criteria_for_best=p.criteria_for_best,\n",
    ")"
   ]
  },
  {
   "cell_type": "code",
   "execution_count": 23,
   "id": "31e8fabf",
   "metadata": {
    "execution": {
     "iopub.execute_input": "2022-03-07T10:12:58.407858Z",
     "iopub.status.busy": "2022-03-07T10:12:58.405587Z",
     "iopub.status.idle": "2022-03-07T10:12:58.421952Z",
     "shell.execute_reply": "2022-03-07T10:12:58.422384Z"
    },
    "papermill": {
     "duration": 0.049331,
     "end_time": "2022-03-07T10:12:58.422507",
     "exception": false,
     "start_time": "2022-03-07T10:12:58.373176",
     "status": "completed"
    },
    "tags": []
   },
   "outputs": [],
   "source": [
    "total_experiment_time_secs = time.time() - start_time_secs"
   ]
  },
  {
   "cell_type": "code",
   "execution_count": 24,
   "id": "87b9595b",
   "metadata": {
    "execution": {
     "iopub.execute_input": "2022-03-07T10:12:58.497719Z",
     "iopub.status.busy": "2022-03-07T10:12:58.493109Z",
     "iopub.status.idle": "2022-03-07T10:13:53.221629Z",
     "shell.execute_reply": "2022-03-07T10:13:53.222086Z"
    },
    "papermill": {
     "duration": 54.765186,
     "end_time": "2022-03-07T10:13:53.222231",
     "exception": false,
     "start_time": "2022-03-07T10:12:58.457045",
     "status": "completed"
    },
    "tags": []
   },
   "outputs": [],
   "source": [
    "###################################\n",
    "# Evaluate the model\n",
    "###################################\n",
    "source_test_label_accuracy, source_test_label_loss = jig.test(datasets.source.processed.test)\n",
    "target_test_label_accuracy, target_test_label_loss = jig.test(datasets.target.processed.test)\n",
    "\n",
    "source_val_label_accuracy, source_val_label_loss = jig.test(datasets.source.processed.val)\n",
    "target_val_label_accuracy, target_val_label_loss = jig.test(datasets.target.processed.val)\n",
    "\n",
    "history = jig.get_history()\n",
    "\n",
    "total_epochs_trained = len(history[\"epoch_indices\"])\n",
    "\n",
    "val_dl = Iterable_Aggregator((datasets.source.original.val,datasets.target.original.val))\n",
    "\n",
    "confusion = ptn_confusion_by_domain_over_dataloader(model, p.device, val_dl)\n",
    "per_domain_accuracy = per_domain_accuracy_from_confusion(confusion)\n",
    "\n",
    "# Add a key to per_domain_accuracy for if it was a source domain\n",
    "for domain, accuracy in per_domain_accuracy.items():\n",
    "    per_domain_accuracy[domain] = {\n",
    "        \"accuracy\": accuracy,\n",
    "        \"source?\": domain in p.domains_source\n",
    "    }\n",
    "\n",
    "# Do an independent accuracy assesment JUST TO BE SURE!\n",
    "# _source_test_label_accuracy = independent_accuracy_assesment(model, datasets.source.processed.test, p.device)\n",
    "# _target_test_label_accuracy = independent_accuracy_assesment(model, datasets.target.processed.test, p.device)\n",
    "# _source_val_label_accuracy = independent_accuracy_assesment(model, datasets.source.processed.val, p.device)\n",
    "# _target_val_label_accuracy = independent_accuracy_assesment(model, datasets.target.processed.val, p.device)\n",
    "\n",
    "# assert(_source_test_label_accuracy == source_test_label_accuracy)\n",
    "# assert(_target_test_label_accuracy == target_test_label_accuracy)\n",
    "# assert(_source_val_label_accuracy == source_val_label_accuracy)\n",
    "# assert(_target_val_label_accuracy == target_val_label_accuracy)\n",
    "\n",
    "experiment = {\n",
    "    \"experiment_name\": p.experiment_name,\n",
    "    \"parameters\": dict(p),\n",
    "    \"results\": {\n",
    "        \"source_test_label_accuracy\": source_test_label_accuracy,\n",
    "        \"source_test_label_loss\": source_test_label_loss,\n",
    "        \"target_test_label_accuracy\": target_test_label_accuracy,\n",
    "        \"target_test_label_loss\": target_test_label_loss,\n",
    "        \"source_val_label_accuracy\": source_val_label_accuracy,\n",
    "        \"source_val_label_loss\": source_val_label_loss,\n",
    "        \"target_val_label_accuracy\": target_val_label_accuracy,\n",
    "        \"target_val_label_loss\": target_val_label_loss,\n",
    "        \"total_epochs_trained\": total_epochs_trained,\n",
    "        \"total_experiment_time_secs\": total_experiment_time_secs,\n",
    "        \"confusion\": confusion,\n",
    "        \"per_domain_accuracy\": per_domain_accuracy,\n",
    "    },\n",
    "    \"history\": history,\n",
    "    \"dataset_metrics\": get_dataset_metrics(datasets, \"ptn\"),\n",
    "}"
   ]
  },
  {
   "cell_type": "code",
   "execution_count": 25,
   "id": "54a21829",
   "metadata": {
    "execution": {
     "iopub.execute_input": "2022-03-07T10:13:53.291118Z",
     "iopub.status.busy": "2022-03-07T10:13:53.290855Z",
     "iopub.status.idle": "2022-03-07T10:13:53.469365Z",
     "shell.execute_reply": "2022-03-07T10:13:53.469744Z"
    },
    "papermill": {
     "duration": 0.212215,
     "end_time": "2022-03-07T10:13:53.469869",
     "exception": false,
     "start_time": "2022-03-07T10:13:53.257654",
     "status": "completed"
    },
    "tags": []
   },
   "outputs": [
    {
     "data": {
      "image/png": "[encoded data removed]",
      "text/plain": [
       "<Figure size 1080x504 with 1 Axes>"
      ]
     },
     "metadata": {
      "needs_background": "light"
     },
     "output_type": "display_data"
    }
   ],
   "source": [
    "ax = get_loss_curve(experiment)\n",
    "plt.show()"
   ]
  },
  {
   "cell_type": "code",
   "execution_count": 26,
   "id": "fd8a0f60",
   "metadata": {
    "execution": {
     "iopub.execute_input": "2022-03-07T10:13:53.542099Z",
     "iopub.status.busy": "2022-03-07T10:13:53.541298Z",
     "iopub.status.idle": "2022-03-07T10:13:53.719626Z",
     "shell.execute_reply": "2022-03-07T10:13:53.719169Z"
    },
    "papermill": {
     "duration": 0.212159,
     "end_time": "2022-03-07T10:13:53.719726",
     "exception": false,
     "start_time": "2022-03-07T10:13:53.507567",
     "status": "completed"
    },
    "tags": []
   },
   "outputs": [
    {
     "data": {
      "text/plain": [
       "<matplotlib.axes._subplots.AxesSubplot at 0x7f6a90698ac0>"
      ]
     },
     "execution_count": 26,
     "metadata": {},
     "output_type": "execute_result"
    },
    {
     "data": {
      "image/png": "[encoded data removed]",
      "text/plain": [
       "<Figure size 1080x504 with 1 Axes>"
      ]
     },
     "metadata": {
      "needs_background": "light"
     },
     "output_type": "display_data"
    }
   ],
   "source": [
    "get_results_table(experiment)"
   ]
  },
  {
   "cell_type": "code",
   "execution_count": 27,
   "id": "cf8dc689",
   "metadata": {
    "execution": {
     "iopub.execute_input": "2022-03-07T10:13:53.793568Z",
     "iopub.status.busy": "2022-03-07T10:13:53.793013Z",
     "iopub.status.idle": "2022-03-07T10:13:53.995971Z",
     "shell.execute_reply": "2022-03-07T10:13:53.995516Z"
    },
    "papermill": {
     "duration": 0.238815,
     "end_time": "2022-03-07T10:13:53.996066",
     "exception": false,
     "start_time": "2022-03-07T10:13:53.757251",
     "status": "completed"
    },
    "tags": []
   },
   "outputs": [
    {
     "data": {
      "text/plain": [
       "<matplotlib.axes._subplots.AxesSubplot at 0x7f6a905d74c0>"
      ]
     },
     "execution_count": 27,
     "metadata": {},
     "output_type": "execute_result"
    },
    {
     "data": {
      "image/png": "[encoded data removed]",
      "text/plain": [
       "<Figure size 1080x504 with 1 Axes>"
      ]
     },
     "metadata": {
      "needs_background": "light"
     },
     "output_type": "display_data"
    }
   ],
   "source": [
    "get_domain_accuracies(experiment)"
   ]
  },
  {
   "cell_type": "code",
   "execution_count": 28,
   "id": "a74ae082",
   "metadata": {
    "execution": {
     "iopub.execute_input": "2022-03-07T10:13:54.071198Z",
     "iopub.status.busy": "2022-03-07T10:13:54.070943Z",
     "iopub.status.idle": "2022-03-07T10:13:54.085414Z",
     "shell.execute_reply": "2022-03-07T10:13:54.085061Z"
    },
    "papermill": {
     "duration": 0.050817,
     "end_time": "2022-03-07T10:13:54.085487",
     "exception": false,
     "start_time": "2022-03-07T10:13:54.034670",
     "status": "completed"
    },
    "tags": []
   },
   "outputs": [
    {
     "name": "stdout",
     "output_type": "stream",
     "text": [
      "Source Test Label Accuracy: 0.9200520833333333 Target Test Label Accuracy: 0.8509375\n",
      "Source Val Label Accuracy: 0.9175455729166667 Target Val Label Accuracy: 0.8396875\n"
     ]
    }
   ],
   "source": [
    "print(\"Source Test Label Accuracy:\", experiment[\"results\"][\"source_test_label_accuracy\"], \"Target Test Label Accuracy:\", experiment[\"results\"][\"target_test_label_accuracy\"])\n",
    "print(\"Source Val Label Accuracy:\", experiment[\"results\"][\"source_val_label_accuracy\"], \"Target Val Label Accuracy:\", experiment[\"results\"][\"target_val_label_accuracy\"])"
   ]
  },
  {
   "cell_type": "code",
   "execution_count": 29,
   "id": "dacca602",
   "metadata": {
    "execution": {
     "iopub.execute_input": "2022-03-07T10:13:54.158846Z",
     "iopub.status.busy": "2022-03-07T10:13:54.158581Z",
     "iopub.status.idle": "2022-03-07T10:13:54.173224Z",
     "shell.execute_reply": "2022-03-07T10:13:54.172826Z"
    },
    "papermill": {
     "duration": 0.050452,
     "end_time": "2022-03-07T10:13:54.173320",
     "exception": false,
     "start_time": "2022-03-07T10:13:54.122868",
     "status": "completed"
    },
    "tags": [
     "experiment_json"
    ]
   },
   "outputs": [
    {
     "data": {
      "text/plain": [
       "'{\"experiment_name\": \"tl_1_cores-oracle.run1\", \"parameters\": {\"experiment_name\": \"tl_1_cores-oracle.run1\", \"device\": \"cuda\", \"lr\": 0.001, \"seed\": 1337, \"dataset_seed\": 1337, \"n_shot\": 3, \"n_query\": 2, \"train_k_factor\": 3, \"val_k_factor\": 2, \"test_k_factor\": 2, \"torch_default_dtype\": \"torch.float32\", \"n_epoch\": 50, \"patience\": 3, \"criteria_for_best\": \"target_loss\", \"x_net\": [{\"class\": \"nnReshape\", \"kargs\": {\"shape\": [-1, 1, 2, 256]}}, {\"class\": \"Conv2d\", \"kargs\": {\"in_channels\": 1, \"out_channels\": 256, \"kernel_size\": [1, 7], \"bias\": false, \"padding\": [0, 3]}}, {\"class\": \"ReLU\", \"kargs\": {\"inplace\": true}}, {\"class\": \"BatchNorm2d\", \"kargs\": {\"num_features\": 256}}, {\"class\": \"Conv2d\", \"kargs\": {\"in_channels\": 256, \"out_channels\": 80, \"kernel_size\": [2, 7], \"bias\": true, \"padding\": [0, 3]}}, {\"class\": \"ReLU\", \"kargs\": {\"inplace\": true}}, {\"class\": \"BatchNorm2d\", \"kargs\": {\"num_features\": 80}}, {\"class\": \"Flatten\", \"kargs\": {}}, {\"class\": \"Linear\", \"kargs\": {\"in_features\": 20480, \"out_features\": 256}}, {\"class\": \"ReLU\", \"kargs\": {\"inplace\": true}}, {\"class\": \"BatchNorm1d\", \"kargs\": {\"num_features\": 256}}, {\"class\": \"Linear\", \"kargs\": {\"in_features\": 256, \"out_features\": 256}}], \"NUM_LOGS_PER_EPOCH\": 10, \"BEST_MODEL_PATH\": \"./best_model.pth\", \"n_way\": 16, \"datasets\": [{\"labels\": [\"1-10.\", \"1-11.\", \"1-15.\", \"1-16.\", \"1-17.\", \"1-18.\", \"1-19.\", \"10-4.\", \"10-7.\", \"11-1.\", \"11-14.\", \"11-17.\", \"11-20.\", \"11-7.\", \"13-20.\", \"13-8.\", \"14-10.\", \"14-11.\", \"14-14.\", \"14-7.\", \"15-1.\", \"15-20.\", \"16-1.\", \"16-16.\", \"17-10.\", \"17-11.\", \"17-2.\", \"19-1.\", \"19-16.\", \"19-19.\", \"19-20.\", \"19-3.\", \"2-10.\", \"2-11.\", \"2-17.\", \"2-18.\", \"2-20.\", \"2-3.\", \"2-4.\", \"2-5.\", \"2-6.\", \"2-7.\", \"2-8.\", \"3-13.\", \"3-18.\", \"3-3.\", \"4-1.\", \"4-10.\", \"4-11.\", \"4-19.\", \"5-5.\", \"6-15.\", \"7-10.\", \"7-14.\", \"8-18.\", \"8-20.\", \"8-3.\", \"8-8.\"], \"domains\": [1, 2, 3, 4, 5], \"num_examples_per_domain_per_label\": 100, \"pickle_path\": \"/mnt/wd500GB/CSC500/csc500-main/datasets/cores.stratified_ds.2022A.pkl\", \"source_or_target_dataset\": \"target\", \"x_transforms\": [], \"episode_transforms\": [], \"domain_prefix\": \"CORES_\"}, {\"labels\": [\"3123D52\", \"3123D65\", \"3123D79\", \"3123D80\", \"3123D54\", \"3123D70\", \"3123D7B\", \"3123D89\", \"3123D58\", \"3123D76\", \"3123D7D\", \"3123EFE\", \"3123D64\", \"3123D78\", \"3123D7E\", \"3124E4A\"], \"domains\": [32, 38, 8, 44, 14, 50, 20, 26], \"num_examples_per_domain_per_label\": 2000, \"pickle_path\": \"/mnt/wd500GB/CSC500/csc500-main/datasets/oracle.Run1_framed_2000Examples_stratified_ds.2022A.pkl\", \"source_or_target_dataset\": \"source\", \"x_transforms\": [], \"episode_transforms\": [], \"domain_prefix\": \"ORACLE.run1_\"}], \"domains_source\": [\"ORACLE.run1_32\", \"ORACLE.run1_38\", \"ORACLE.run1_8\", \"ORACLE.run1_44\", \"ORACLE.run1_14\", \"ORACLE.run1_50\", \"ORACLE.run1_20\", \"ORACLE.run1_26\"], \"domains_target\": [\"CORES_1\", \"CORES_2\", \"CORES_3\", \"CORES_4\", \"CORES_5\"]}, \"results\": {\"source_test_label_accuracy\": 0.9200520833333333, \"source_test_label_loss\": 0.2617962062358856, \"target_test_label_accuracy\": 0.8509375, \"target_test_label_loss\": 4254.01708984375, \"source_val_label_accuracy\": 0.9175455729166667, \"source_val_label_loss\": 0.2419649064540863, \"target_val_label_accuracy\": 0.8396875, \"target_val_label_loss\": 4676.41259765625, \"total_epochs_trained\": 8, \"total_experiment_time_secs\": 1447.253671169281, \"confusion\": {\"ORACLE.run1_14\": {\"15\": {\"15\": 240}, \"3\": {\"3\": 240}, \"6\": {\"6\": 179, \"13\": 53, \"14\": 7, \"2\": 1}, \"1\": {\"1\": 240}, \"8\": {\"8\": 240}, \"10\": {\"10\": 240}, \"9\": {\"9\": 240}, \"13\": {\"14\": 30, \"13\": 106, \"15\": 17, \"6\": 80, \"2\": 7}, \"12\": {\"12\": 240}, \"5\": {\"5\": 213, \"4\": 18, \"3\": 1, \"2\": 8}, \"0\": {\"0\": 237, \"3\": 3}, \"2\": {\"2\": 168, \"6\": 7, \"5\": 29, \"14\": 31, \"13\": 4, \"3\": 1}, \"11\": {\"11\": 240}, \"14\": {\"14\": 226, \"2\": 6, \"6\": 1, \"13\": 4, \"3\": 3}, \"7\": {\"7\": 240}, \"4\": {\"4\": 238, \"5\": 2}}, \"ORACLE.run1_20\": {\"3\": {\"3\": 200, \"1\": 6, \"9\": 30, \"5\": 4}, \"15\": {\"12\": 4, \"15\": 211, \"1\": 20, \"2\": 4, \"5\": 1}, \"8\": {\"8\": 237, \"14\": 2, \"7\": 1}, \"4\": {\"4\": 237, \"12\": 2, \"10\": 1}, \"14\": {\"14\": 238, \"8\": 1, \"6\": 1}, \"0\": {\"0\": 233, \"5\": 6, \"8\": 1}, \"7\": {\"7\": 229, \"9\": 2, \"3\": 3, \"2\": 6}, \"6\": {\"6\": 240}, \"10\": {\"10\": 240}, \"5\": {\"5\": 226, \"1\": 7, \"15\": 2, \"3\": 5}, \"2\": {\"2\": 202, \"12\": 22, \"15\": 1, \"9\": 8, \"7\": 6, \"13\": 1}, \"12\": {\"12\": 224, \"2\": 10, \"15\": 4, \"1\": 2}, \"9\": {\"9\": 208, \"2\": 7, \"3\": 20, \"7\": 4, \"1\": 1}, \"1\": {\"1\": 222, \"5\": 9, \"9\": 2, \"15\": 7}, \"11\": {\"11\": 240}, \"13\": {\"13\": 237, \"2\": 3}}, \"ORACLE.run1_38\": {\"5\": {\"8\": 74, \"5\": 132, \"7\": 19, \"15\": 3, \"9\": 9, \"0\": 2, \"13\": 1}, \"8\": {\"8\": 190, \"5\": 44, \"0\": 1, \"7\": 3, \"15\": 2}, \"11\": {\"11\": 234, \"10\": 2, \"4\": 1, \"3\": 3}, \"1\": {\"1\": 240}, \"10\": {\"10\": 230, \"13\": 10}, \"15\": {\"15\": 238, \"5\": 2}, \"3\": {\"3\": 240}, \"7\": {\"7\": 237, \"5\": 3}, \"4\": {\"4\": 240}, \"14\": {\"14\": 232, \"2\": 8}, \"9\": {\"9\": 238, \"5\": 2}, \"12\": {\"12\": 240}, \"6\": {\"6\": 240}, \"2\": {\"2\": 230, \"14\": 9, \"13\": 1}, \"0\": {\"0\": 187, \"8\": 5, \"7\": 9, \"3\": 14, \"10\": 15, \"13\": 8, \"5\": 2}, \"13\": {\"13\": 233, \"10\": 6, \"2\": 1}}, \"ORACLE.run1_8\": {\"9\": {\"9\": 240}, \"10\": {\"10\": 227, \"13\": 13}, \"13\": {\"13\": 204, \"6\": 6, \"10\": 19, \"7\": 11}, \"0\": {\"0\": 240}, \"1\": {\"1\": 235, \"5\": 3, \"11\": 2}, \"15\": {\"15\": 231, \"12\": 9}, \"5\": {\"5\": 216, \"1\": 11, \"10\": 13}, \"3\": {\"3\": 240}, \"6\": {\"6\": 217, \"7\": 21, \"13\": 1, \"4\": 1}, \"11\": {\"11\": 215, \"1\": 23, \"14\": 1, \"5\": 1}, \"8\": {\"8\": 240}, \"4\": {\"4\": 240}, \"12\": {\"12\": 188, \"15\": 50, \"2\": 2}, \"14\": {\"14\": 239, \"4\": 1}, \"2\": {\"2\": 211, \"3\": 23, \"15\": 5, \"12\": 1}, \"7\": {\"7\": 222, \"6\": 17, \"13\": 1}}, \"ORACLE.run1_50\": {\"7\": {\"7\": 234, \"5\": 6}, \"3\": {\"3\": 240}, \"8\": {\"8\": 240}, \"2\": {\"2\": 236, \"0\": 4}, \"14\": {\"14\": 240}, \"4\": {\"4\": 210, \"5\": 18, \"15\": 7, \"6\": 1, \"7\": 4}, \"6\": {\"6\": 230, \"15\": 4, \"5\": 6}, \"15\": {\"15\": 232, \"6\": 2, \"11\": 4, \"4\": 2}, \"10\": {\"10\": 239, \"8\": 1}, \"11\": {\"11\": 232, \"12\": 4, \"9\": 4}, \"13\": {\"13\": 240}, \"9\": {\"9\": 218, \"12\": 9, \"11\": 13}, \"0\": {\"0\": 225, \"10\": 5, \"2\": 10}, \"1\": {\"1\": 239, \"13\": 1}, \"12\": {\"12\": 236, \"9\": 4}, \"5\": {\"5\": 137, \"4\": 18, \"7\": 52, \"6\": 21, \"13\": 5, \"15\": 5, \"1\": 2}}, \"ORACLE.run1_32\": {\"8\": {\"8\": 218, \"0\": 18, \"14\": 1, \"4\": 1, \"5\": 2}, \"14\": {\"14\": 203, \"7\": 18, \"0\": 13, \"5\": 4, \"8\": 2}, \"2\": {\"2\": 216, \"4\": 24}, \"0\": {\"0\": 204, \"14\": 11, \"5\": 7, \"8\": 14, \"7\": 4}, \"1\": {\"1\": 240}, \"10\": {\"10\": 240}, \"11\": {\"11\": 240}, \"5\": {\"5\": 158, \"7\": 65, \"14\": 2, \"8\": 9, \"0\": 6}, \"15\": {\"15\": 240}, \"3\": {\"3\": 238, \"13\": 2}, \"12\": {\"12\": 240}, \"7\": {\"5\": 30, \"7\": 198, \"14\": 7, \"0\": 5}, \"13\": {\"13\": 208, \"3\": 19, \"4\": 13}, \"6\": {\"6\": 240}, \"4\": {\"4\": 223, \"2\": 16, \"13\": 1}, \"9\": {\"9\": 240}}, \"ORACLE.run1_26\": {\"4\": {\"4\": 240}, \"12\": {\"12\": 240}, \"10\": {\"14\": 27, \"10\": 182, \"6\": 5, \"0\": 25, \"15\": 1}, \"0\": {\"0\": 166, \"10\": 45, \"14\": 23, \"8\": 6}, \"13\": {\"13\": 224, \"3\": 1, \"2\": 11, \"9\": 4}, \"9\": {\"9\": 222, \"13\": 2, \"8\": 12, \"2\": 2, \"7\": 1, \"0\": 1}, \"3\": {\"3\": 218, \"7\": 14, \"2\": 8}, \"2\": {\"2\": 160, \"3\": 33, \"8\": 11, \"7\": 28, \"9\": 5, \"13\": 2, \"15\": 1}, \"5\": {\"5\": 236, \"15\": 4}, \"14\": {\"14\": 187, \"10\": 30, \"0\": 19, \"1\": 3, \"4\": 1}, \"8\": {\"7\": 34, \"8\": 196, \"9\": 6, \"2\": 1, \"0\": 2, \"13\": 1}, \"7\": {\"7\": 195, \"8\": 20, \"3\": 13, \"2\": 10, \"9\": 2}, \"6\": {\"6\": 227, \"10\": 3, \"15\": 10}, \"11\": {\"11\": 240}, \"15\": {\"15\": 211, \"10\": 3, \"5\": 13, \"6\": 13}, \"1\": {\"1\": 211, \"5\": 1, \"14\": 25, \"10\": 2, \"0\": 1}}, \"ORACLE.run1_44\": {\"12\": {\"12\": 235, \"3\": 5}, \"7\": {\"7\": 215, \"9\": 25}, \"5\": {\"5\": 223, \"14\": 6, \"15\": 11}, \"15\": {\"15\": 226, \"14\": 5, \"8\": 5, \"5\": 3, \"0\": 1}, \"8\": {\"0\": 57, \"8\": 175, \"15\": 6, \"5\": 2}, \"2\": {\"2\": 231, \"10\": 3, \"1\": 6}, \"13\": {\"13\": 199, \"6\": 31, \"9\": 10}, \"4\": {\"4\": 172, \"14\": 67, \"5\": 1}, \"0\": {\"0\": 204, \"8\": 35, \"15\": 1}, \"6\": {\"6\": 203, \"9\": 16, \"13\": 21}, \"9\": {\"9\": 137, \"7\": 58, \"6\": 20, \"13\": 24, \"4\": 1}, \"11\": {\"11\": 240}, \"10\": {\"10\": 218, \"1\": 10, \"2\": 11, \"7\": 1}, \"14\": {\"4\": 62, \"14\": 169, \"15\": 6, \"5\": 3}, \"1\": {\"1\": 235, \"2\": 5}, \"3\": {\"3\": 239, \"12\": 1}}, \"CORES_3\": {\"43\": {\"43\": 12}, \"9\": {\"9\": 12}, \"6\": {\"6\": 8, \"3\": 2}, \"3\": {\"44\": 1, \"3\": 5, \"50\": 4, \"6\": 1, \"12\": 1}, \"16\": {\"16\": 12}, \"51\": {\"51\": 12}, \"31\": {\"31\": 10, \"49\": 2}, \"46\": {\"46\": 7, \"3\": 1, \"44\": 1, \"40\": 1}, \"19\": {\"19\": 8}, \"8\": {\"8\": 10, \"27\": 1, \"48\": 1}, \"18\": {\"18\": 12}, \"37\": {\"37\": 11, \"39\": 1}, \"24\": {\"43\": 3, \"24\": 9}, \"10\": {\"10\": 12}, \"44\": {\"44\": 6, \"46\": 1, \"45\": 2, \"50\": 1}, \"14\": {\"14\": 8, \"57\": 1, \"29\": 2, \"48\": 1}, \"38\": {\"38\": 10}, \"53\": {\"53\": 12}, \"20\": {\"20\": 12}, \"32\": {\"32\": 12}, \"36\": {\"36\": 10}, \"33\": {\"33\": 12}, \"56\": {\"56\": 10, \"46\": 1, \"22\": 1}, \"23\": {\"23\": 12}, \"54\": {\"54\": 10}, \"34\": {\"55\": 1, \"34\": 6, \"42\": 2, \"43\": 1, \"37\": 2}, \"13\": {\"13\": 12}, \"2\": {\"38\": 2, \"2\": 9, \"26\": 1}, \"55\": {\"34\": 1, \"55\": 8, \"42\": 1}, \"21\": {\"40\": 1, \"21\": 8, \"0\": 1}, \"49\": {\"49\": 6, \"13\": 2, \"7\": 1, \"35\": 1}, \"25\": {\"25\": 10, \"53\": 1, \"16\": 1}, \"5\": {\"5\": 9, \"40\": 2, \"44\": 1}, \"50\": {\"50\": 6, \"3\": 1, \"44\": 1}, \"40\": {\"40\": 5, \"46\": 1, \"5\": 3, \"3\": 2, \"56\": 1}, \"57\": {\"57\": 7, \"1\": 1}, \"22\": {\"22\": 8, \"56\": 1, \"0\": 1}, \"1\": {\"1\": 8, \"4\": 1, \"9\": 1}, \"17\": {\"17\": 12}, \"41\": {\"1\": 2, \"39\": 3, \"48\": 3, \"41\": 4}, \"4\": {\"4\": 6, \"48\": 1, \"1\": 3}, \"7\": {\"37\": 3, \"49\": 1, \"7\": 4, \"35\": 2}, \"26\": {\"26\": 10}, \"29\": {\"29\": 8, \"27\": 1, \"4\": 1, \"9\": 2}, \"52\": {\"52\": 10, \"29\": 1, \"47\": 1}, \"15\": {\"15\": 11, \"16\": 1}, \"35\": {\"24\": 1, \"35\": 8, \"34\": 1, \"7\": 2}, \"42\": {\"42\": 9, \"31\": 1, \"55\": 1, \"34\": 1}, \"30\": {\"30\": 10}, \"27\": {\"27\": 7, \"41\": 1}, \"45\": {\"6\": 3, \"21\": 1, \"45\": 4, \"50\": 2}, \"0\": {\"0\": 7, \"5\": 1, \"22\": 4}, \"28\": {\"28\": 12}, \"47\": {\"47\": 12}, \"11\": {\"15\": 1, \"11\": 8, \"16\": 1}, \"39\": {\"39\": 9, \"14\": 1}, \"48\": {\"48\": 8, \"41\": 2, \"39\": 1, \"4\": 1}, \"12\": {\"12\": 6, \"44\": 1, \"50\": 1}}, \"CORES_4\": {\"35\": {\"38\": 2, \"35\": 3, \"32\": 3, \"37\": 2}, \"25\": {\"25\": 11, \"15\": 1}, \"24\": {\"24\": 9, \"32\": 1}, \"48\": {\"48\": 9, \"9\": 3}, \"51\": {\"51\": 12}, \"13\": {\"13\": 12}, \"14\": {\"1\": 1, \"0\": 1, \"14\": 4, \"38\": 1, \"2\": 1}, \"32\": {\"32\": 6, \"24\": 1, \"38\": 1, \"7\": 2, \"35\": 1, \"37\": 1}, \"30\": {\"30\": 7, \"21\": 3, \"5\": 1, \"44\": 1}, \"34\": {\"34\": 5, \"32\": 1, \"19\": 2, \"26\": 1, \"53\": 1}, \"9\": {\"9\": 12}, \"1\": {\"1\": 11, \"57\": 1}, \"0\": {\"22\": 1, \"0\": 11}, \"38\": {\"14\": 2, \"38\": 7, \"35\": 1, \"39\": 2}, \"22\": {\"40\": 1, \"30\": 1, \"22\": 3, \"44\": 1, \"46\": 2}, \"40\": {\"40\": 7, \"30\": 1, \"50\": 1, \"21\": 1, \"5\": 1, \"44\": 1}, \"39\": {\"39\": 12}, \"46\": {\"46\": 6, \"30\": 1, \"44\": 2, \"22\": 1, \"21\": 1, \"5\": 1}, \"36\": {\"36\": 12}, \"50\": {\"6\": 2, \"50\": 8, \"40\": 1, \"5\": 1}, \"49\": {\"35\": 2, \"57\": 1, \"49\": 2, \"7\": 4, \"43\": 1, \"38\": 1, \"37\": 1}, \"17\": {\"17\": 12}, \"45\": {\"45\": 11, \"50\": 1}, \"6\": {\"50\": 3, \"5\": 1, \"6\": 5, \"45\": 1, \"12\": 1, \"30\": 1}, \"8\": {\"8\": 11, \"9\": 1}, \"5\": {\"30\": 2, \"3\": 2, \"5\": 5, \"50\": 1}, \"33\": {\"33\": 12}, \"31\": {\"31\": 9, \"23\": 2, \"53\": 1}, \"37\": {\"38\": 2, \"37\": 5, \"57\": 1, \"35\": 2}, \"47\": {\"47\": 7, \"1\": 1}, \"15\": {\"15\": 10}, \"7\": {\"38\": 1, \"32\": 1, \"7\": 4, \"49\": 2, \"39\": 1, \"43\": 1, \"2\": 2}, \"20\": {\"20\": 12}, \"4\": {\"4\": 11, \"2\": 1}, \"54\": {\"54\": 12}, \"44\": {\"3\": 2, \"44\": 6, \"40\": 1, \"5\": 1, \"30\": 2}, \"3\": {\"3\": 12}, \"11\": {\"11\": 8, \"15\": 2}, \"27\": {\"27\": 10}, \"19\": {\"19\": 11, \"54\": 1}, \"55\": {\"55\": 8, \"54\": 2, \"42\": 2}, \"16\": {\"16\": 12}, \"2\": {\"2\": 9, \"14\": 1}, \"52\": {\"52\": 10}, \"42\": {\"42\": 9, \"54\": 1}, \"26\": {\"26\": 11, \"42\": 1}, \"10\": {\"10\": 12}, \"53\": {\"53\": 10}, \"28\": {\"28\": 10, \"53\": 1, \"25\": 1}, \"21\": {\"21\": 10}, \"57\": {\"1\": 1, \"57\": 7, \"9\": 1, \"52\": 1}, \"23\": {\"23\": 7, \"43\": 1}, \"43\": {\"43\": 9, \"24\": 1}, \"12\": {\"12\": 8, \"3\": 1, \"44\": 1, \"50\": 1, \"0\": 1}, \"41\": {\"41\": 11, \"33\": 1}, \"56\": {\"44\": 1, \"56\": 7}, \"18\": {\"18\": 10}, \"29\": {\"1\": 1, \"29\": 6, \"57\": 1}}, \"CORES_5\": {\"47\": {\"47\": 8, \"52\": 2}, \"53\": {\"53\": 12}, \"29\": {\"29\": 11, \"1\": 1}, \"52\": {\"52\": 10, \"47\": 1, \"57\": 1}, \"55\": {\"55\": 11, \"53\": 1}, \"17\": {\"17\": 12}, \"42\": {\"42\": 11, \"31\": 1}, \"33\": {\"33\": 10}, \"11\": {\"11\": 11, \"15\": 1}, \"19\": {\"19\": 8}, \"1\": {\"1\": 12}, \"44\": {\"44\": 9, \"5\": 1, \"22\": 1, \"40\": 1}, \"49\": {\"49\": 12}, \"4\": {\"4\": 10, \"44\": 1, \"22\": 1}, \"6\": {\"6\": 10, \"50\": 2}, \"39\": {\"39\": 7, \"36\": 1, \"14\": 2, \"43\": 2}, \"13\": {\"13\": 12}, \"5\": {\"5\": 8, \"40\": 2}, \"16\": {\"16\": 10}, \"25\": {\"25\": 10, \"16\": 2}, \"45\": {\"45\": 10, \"3\": 1, \"6\": 1}, \"7\": {\"7\": 10}, \"22\": {\"22\": 11, \"56\": 1}, \"40\": {\"40\": 3, \"3\": 3, \"46\": 1, \"44\": 4, \"4\": 1}, \"38\": {\"38\": 6, \"32\": 2, \"8\": 1, \"17\": 1, \"7\": 1, \"51\": 1}, \"35\": {\"35\": 6, \"14\": 1, \"24\": 1}, \"56\": {\"56\": 12}, \"50\": {\"50\": 7, \"40\": 1, \"6\": 1, \"5\": 1}, \"0\": {\"0\": 12}, \"10\": {\"10\": 12}, \"27\": {\"27\": 12}, \"20\": {\"20\": 10}, \"36\": {\"36\": 8}, \"34\": {\"34\": 12}, \"30\": {\"30\": 11, \"4\": 1}, \"2\": {\"2\": 7, \"32\": 1, \"43\": 2}, \"15\": {\"15\": 12}, \"18\": {\"18\": 12}, \"32\": {\"32\": 11, \"41\": 1}, \"31\": {\"31\": 10, \"23\": 1, \"42\": 1}, \"57\": {\"57\": 12}, \"48\": {\"48\": 6, \"32\": 1, \"8\": 1}, \"28\": {\"28\": 10}, \"14\": {\"39\": 3, \"57\": 1, \"8\": 1, \"48\": 2, \"13\": 2, \"29\": 1, \"37\": 1, \"14\": 1}, \"3\": {\"5\": 2, \"44\": 3, \"3\": 3, \"50\": 1, \"40\": 2, \"4\": 1}, \"8\": {\"8\": 12}, \"9\": {\"9\": 12}, \"21\": {\"21\": 10}, \"41\": {\"41\": 7, \"13\": 1, \"32\": 2, \"57\": 1, \"29\": 1}, \"24\": {\"24\": 12}, \"46\": {\"46\": 8, \"0\": 2}, \"43\": {\"43\": 10}, \"54\": {\"54\": 10}, \"23\": {\"23\": 10}, \"37\": {\"37\": 8, \"13\": 2}, \"12\": {\"12\": 10}, \"26\": {\"26\": 9, \"55\": 1}, \"51\": {\"51\": 6}}, \"CORES_1\": {\"46\": {\"46\": 3, \"50\": 4, \"56\": 2, \"6\": 1, \"40\": 1, \"3\": 1}, \"16\": {\"16\": 12}, \"26\": {\"26\": 10, \"23\": 1, \"15\": 1}, \"10\": {\"10\": 11, \"28\": 1}, \"9\": {\"9\": 10}, \"28\": {\"28\": 12}, \"51\": {\"51\": 11, \"41\": 1}, \"1\": {\"1\": 11, \"36\": 1}, \"55\": {\"9\": 3, \"55\": 8, \"37\": 1}, \"27\": {\"52\": 1, \"27\": 9}, \"22\": {\"22\": 11, \"20\": 1}, \"52\": {\"52\": 12}, \"3\": {\"3\": 12}, \"33\": {\"33\": 8}, \"47\": {\"47\": 11, \"52\": 1}, \"42\": {\"42\": 12}, \"12\": {\"12\": 4}, \"23\": {\"23\": 12}, \"49\": {\"49\": 8, \"43\": 2}, \"7\": {\"7\": 12}, \"4\": {\"56\": 1, \"46\": 2, \"4\": 5, \"30\": 1, \"40\": 2, \"44\": 1}, \"50\": {\"50\": 10, \"5\": 2}, \"19\": {\"19\": 10, \"26\": 2}, \"11\": {\"11\": 12}, \"31\": {\"31\": 10}, \"41\": {\"7\": 2, \"41\": 7, \"36\": 1, \"8\": 1, \"51\": 1}, \"56\": {\"56\": 9, \"44\": 1}, \"0\": {\"0\": 11, \"20\": 1}, \"57\": {\"52\": 2, \"57\": 9, \"30\": 1}, \"53\": {\"53\": 12}, \"43\": {\"43\": 10, \"49\": 2}, \"37\": {\"37\": 12}, \"2\": {\"2\": 8}, \"6\": {\"56\": 1, \"6\": 7, \"40\": 2, \"44\": 1, \"46\": 1}, \"18\": {\"18\": 12}, \"38\": {\"38\": 9, \"43\": 2, \"9\": 1}, \"15\": {\"15\": 12}, \"36\": {\"36\": 12}, \"39\": {\"36\": 1, \"39\": 5, \"38\": 2}, \"44\": {\"44\": 10, \"3\": 2}, \"8\": {\"8\": 12}, \"17\": {\"17\": 10}, \"5\": {\"5\": 12}, \"13\": {\"13\": 10}, \"40\": {\"40\": 7, \"6\": 1, \"44\": 1, \"3\": 1}, \"29\": {\"30\": 2, \"29\": 9, \"8\": 1}, \"48\": {\"48\": 11, \"2\": 1}, \"32\": {\"32\": 11, \"43\": 1}, \"30\": {\"30\": 11, \"14\": 1}, \"35\": {\"35\": 10, \"23\": 1, \"19\": 1}, \"25\": {\"25\": 12}, \"14\": {\"14\": 6, \"8\": 4, \"29\": 1, \"30\": 1}, \"54\": {\"54\": 10}, \"20\": {\"20\": 8}, \"21\": {\"21\": 10}, \"45\": {\"45\": 6, \"44\": 1, \"56\": 1}, \"24\": {\"24\": 8}, \"34\": {\"34\": 7, \"23\": 1}}, \"CORES_2\": {\"14\": {\"14\": 9, \"13\": 1, \"27\": 1, \"1\": 1}, \"22\": {\"22\": 9, \"0\": 3}, \"9\": {\"9\": 9, \"48\": 2, \"13\": 1}, \"47\": {\"47\": 12}, \"13\": {\"13\": 12}, \"8\": {\"8\": 11, \"9\": 1}, \"7\": {\"7\": 9, \"34\": 1, \"54\": 1, \"39\": 1}, \"49\": {\"49\": 9, \"37\": 1, \"42\": 1, \"39\": 1}, \"20\": {\"20\": 11, \"8\": 1}, \"16\": {\"16\": 11, \"15\": 1}, \"34\": {\"34\": 8, \"25\": 1, \"16\": 3}, \"56\": {\"56\": 11, \"47\": 1}, \"38\": {\"38\": 10}, \"4\": {\"4\": 9, \"2\": 1, \"57\": 1, \"13\": 1}, \"43\": {\"43\": 9, \"24\": 1}, \"26\": {\"34\": 1, \"26\": 7, \"53\": 2}, \"35\": {\"35\": 9, \"23\": 2, \"32\": 1}, \"31\": {\"31\": 12}, \"1\": {\"1\": 8, \"47\": 1, \"9\": 1, \"48\": 1, \"22\": 1}, \"39\": {\"39\": 10, \"37\": 2}, \"5\": {\"5\": 10, \"46\": 2}, \"24\": {\"24\": 12}, \"54\": {\"54\": 10}, \"23\": {\"23\": 11, \"49\": 1}, \"51\": {\"51\": 12}, \"27\": {\"27\": 10}, \"15\": {\"15\": 9, \"11\": 2, \"16\": 1}, \"0\": {\"0\": 10, \"5\": 1, \"44\": 1}, \"19\": {\"19\": 10}, \"18\": {\"18\": 8}, \"30\": {\"30\": 12}, \"55\": {\"55\": 9, \"39\": 1}, \"57\": {\"57\": 12}, \"2\": {\"2\": 10, \"33\": 2}, \"12\": {\"12\": 7, \"44\": 1}, \"41\": {\"41\": 9, \"47\": 1, \"9\": 1, \"2\": 1}, \"42\": {\"42\": 10, \"34\": 1, \"49\": 1}, \"48\": {\"48\": 10, \"29\": 1, \"4\": 1}, \"37\": {\"37\": 9, \"41\": 1, \"33\": 1, \"13\": 1}, \"6\": {\"6\": 6, \"45\": 2, \"50\": 1, \"3\": 1}, \"11\": {\"11\": 10}, \"45\": {\"6\": 2, \"45\": 5, \"46\": 1}, \"21\": {\"21\": 11, \"5\": 1}, \"46\": {\"46\": 6, \"5\": 2, \"6\": 1, \"44\": 1}, \"25\": {\"25\": 9, \"53\": 1, \"16\": 1, \"15\": 1}, \"36\": {\"36\": 10}, \"53\": {\"53\": 12}, \"28\": {\"28\": 12}, \"40\": {\"44\": 2, \"40\": 4, \"50\": 3, \"5\": 1}, \"33\": {\"48\": 3, \"33\": 5, \"2\": 1, \"29\": 1}, \"44\": {\"3\": 1, \"44\": 9}, \"3\": {\"3\": 9, \"6\": 1, \"46\": 1, \"44\": 1}, \"17\": {\"17\": 12}, \"32\": {\"32\": 9, \"36\": 1}, \"10\": {\"10\": 10}, \"52\": {\"52\": 10}, \"50\": {\"5\": 2, \"50\": 5, \"6\": 1}, \"29\": {\"29\": 4, \"57\": 2}}}, \"per_domain_accuracy\": {\"ORACLE.run1_14\": {\"accuracy\": 0.9184895833333333, \"source?\": true}, \"ORACLE.run1_20\": {\"accuracy\": 0.94375, \"source?\": true}, \"ORACLE.run1_38\": {\"accuracy\": 0.9325520833333333, \"source?\": true}, \"ORACLE.run1_8\": {\"accuracy\": 0.9388020833333334, \"source?\": true}, \"ORACLE.run1_50\": {\"accuracy\": 0.9447916666666667, \"source?\": true}, \"ORACLE.run1_32\": {\"accuracy\": 0.9234375, \"source?\": true}, \"ORACLE.run1_26\": {\"accuracy\": 0.8736979166666666, \"source?\": true}, \"ORACLE.run1_44\": {\"accuracy\": 0.86484375, \"source?\": true}, \"CORES_3\": {\"accuracy\": 0.8140625, \"source?\": false}, \"CORES_4\": {\"accuracy\": 0.79375, \"source?\": false}, \"CORES_5\": {\"accuracy\": 0.865625, \"source?\": false}, \"CORES_1\": {\"accuracy\": 0.8765625, \"source?\": false}, \"CORES_2\": {\"accuracy\": 0.8484375, \"source?\": false}}}, \"history\": {\"epoch_indices\": [1, 2, 3, 4, 5, 6, 7, 8], \"train_label_loss\": [0.35167435903221345, 12.906409667315398, 0.22748152705976932, 0.43926947197711946, 0.23584926998716713, 0.20211207524684835, 0.19766675669345118, 0.18552777064940615], \"source_val_label_loss\": [379.46734619140625, 0.2662706673145294, 0.2929399609565735, 0.2419649064540863, 0.21906717121601105, 0.19501018524169922, 0.19641871750354767, 0.18648576736450195], \"target_val_label_loss\": [45775.02734375, 7744.54443359375, 6975.7529296875, 4676.41259765625, 11385.978515625, 11702.74609375, 6994.25439453125, 8814.8037109375], \"source_val_acc_label\": [0.54921875, 0.905859375, 0.9025065104166666, 0.9175455729166667, 0.92294921875, 0.93369140625, 0.9299479166666667, 0.93486328125], \"target_val_acc_label\": [0.8328125, 0.77375, 0.79125, 0.8396875, 0.800625, 0.81875, 0.7925, 0.8065625]}, \"dataset_metrics\": {\"source\": {\"train\": {\"n_unique_x\": 179200, \"n_unique_y\": 16, \"n_batch/episode\": 6720}, \"val\": {\"n_unique_x\": 38400, \"n_unique_y\": 16, \"n_batch/episode\": 960}, \"test\": {\"n_unique_x\": 38400, \"n_unique_y\": 16, \"n_batch/episode\": 960}}, \"target\": {\"train\": {\"n_unique_x\": 20300, \"n_unique_y\": 58, \"n_batch/episode\": 733}, \"val\": {\"n_unique_x\": 4332, \"n_unique_y\": 58, \"n_batch/episode\": 100}, \"test\": {\"n_unique_x\": 4332, \"n_unique_y\": 58, \"n_batch/episode\": 100}}}}'"
      ]
     },
     "execution_count": 29,
     "metadata": {},
     "output_type": "execute_result"
    }
   ],
   "source": [
    "json.dumps(experiment)"
   ]
  }
 ],
 "metadata": {
  "celltoolbar": "Tags",
  "kernelspec": {
   "display_name": "Python 3 (ipykernel)",
   "language": "python",
   "name": "python3"
  },
  "language_info": {
   "codemirror_mode": {
    "name": "ipython",
    "version": 3
   },
   "file_extension": ".py",
   "mimetype": "text/x-python",
   "name": "python",
   "nbconvert_exporter": "python",
   "pygments_lexer": "ipython3",
   "version": "3.8.10"
  },
  "papermill": {
   "default_parameters": {},
   "duration": 1505.462371,
   "end_time": "2022-03-07T10:13:54.819572",
   "environment_variables": {},
   "exception": null,
   "input_path": "/mnt/wd500GB/CSC500/csc500-main/csc500-notebooks/templates/tl_ptn_template.ipynb",
   "output_path": "trial.ipynb",
   "parameters": {
    "parameters": {
     "BEST_MODEL_PATH": "./best_model.pth",
     "NUM_LOGS_PER_EPOCH": 10,
     "criteria_for_best": "target_loss",
     "dataset_seed": 1337,
     "datasets": [
      {
       "domain_prefix": "CORES_",
       "domains": [
        1,
        2,
        3,
        4,
        5
       ],
       "episode_transforms": [],
       "labels": [
        "1-10.",
        "1-11.",
        "1-15.",
        "1-16.",
        "1-17.",
        "1-18.",
        "1-19.",
        "10-4.",
        "10-7.",
        "11-1.",
        "11-14.",
        "11-17.",
        "11-20.",
        "11-7.",
        "13-20.",
        "13-8.",
        "14-10.",
        "14-11.",
        "14-14.",
        "14-7.",
        "15-1.",
        "15-20.",
        "16-1.",
        "16-16.",
        "17-10.",
        "17-11.",
        "17-2.",
        "19-1.",
        "19-16.",
        "19-19.",
        "19-20.",
        "19-3.",
        "2-10.",
        "2-11.",
        "2-17.",
        "2-18.",
        "2-20.",
        "2-3.",
        "2-4.",
        "2-5.",
        "2-6.",
        "2-7.",
        "2-8.",
        "3-13.",
        "3-18.",
        "3-3.",
        "4-1.",
        "4-10.",
        "4-11.",
        "4-19.",
        "5-5.",
        "6-15.",
        "7-10.",
        "7-14.",
        "8-18.",
        "8-20.",
        "8-3.",
        "8-8."
       ],
       "num_examples_per_domain_per_label": 100,
       "pickle_path": "/mnt/wd500GB/CSC500/csc500-main/datasets/cores.stratified_ds.2022A.pkl",
       "source_or_target_dataset": "target",
       "x_transforms": []
      },
      {
       "domain_prefix": "ORACLE.run1_",
       "domains": [
        32,
        38,
        8,
        44,
        14,
        50,
        20,
        26
       ],
       "episode_transforms": [],
       "labels": [
        "3123D52",
        "3123D65",
        "3123D79",
        "3123D80",
        "3123D54",
        "3123D70",
        "3123D7B",
        "3123D89",
        "3123D58",
        "3123D76",
        "3123D7D",
        "3123EFE",
        "3123D64",
        "3123D78",
        "3123D7E",
        "3124E4A"
       ],
       "num_examples_per_domain_per_label": 2000,
       "pickle_path": "/mnt/wd500GB/CSC500/csc500-main/datasets/oracle.Run1_framed_2000Examples_stratified_ds.2022A.pkl",
       "source_or_target_dataset": "source",
       "x_transforms": []
      }
     ],
     "device": "cuda",
     "experiment_name": "tl_1_cores-oracle.run1",
     "lr": 0.001,
     "n_epoch": 50,
     "n_query": 2,
     "n_shot": 3,
     "n_way": 16,
     "patience": 3,
     "seed": 1337,
     "test_k_factor": 2,
     "torch_default_dtype": "torch.float32",
     "train_k_factor": 3,
     "val_k_factor": 2,
     "x_net": [
      {
       "class": "nnReshape",
       "kargs": {
        "shape": [
         -1,
         1,
         2,
         256
        ]
       }
      },
      {
       "class": "Conv2d",
       "kargs": {
        "bias": false,
        "in_channels": 1,
        "kernel_size": [
         1,
         7
        ],
        "out_channels": 256,
        "padding": [
         0,
         3
        ]
       }
      },
      {
       "class": "ReLU",
       "kargs": {
        "inplace": true
       }
      },
      {
       "class": "BatchNorm2d",
       "kargs": {
        "num_features": 256
       }
      },
      {
       "class": "Conv2d",
       "kargs": {
        "bias": true,
        "in_channels": 256,
        "kernel_size": [
         2,
         7
        ],
        "out_channels": 80,
        "padding": [
         0,
         3
        ]
       }
      },
      {
       "class": "ReLU",
       "kargs": {
        "inplace": true
       }
      },
      {
       "class": "BatchNorm2d",
       "kargs": {
        "num_features": 80
       }
      },
      {
       "class": "Flatten",
       "kargs": {}
      },
      {
       "class": "Linear",
       "kargs": {
        "in_features": 20480,
        "out_features": 256
       }
      },
      {
       "class": "ReLU",
       "kargs": {
        "inplace": true
       }
      },
      {
       "class": "BatchNorm1d",
       "kargs": {
        "num_features": 256
       }
      },
      {
       "class": "Linear",
       "kargs": {
        "in_features": 256,
        "out_features": 256
       }
      }
     ]
    }
   },
   "start_time": "2022-03-07T09:48:49.357201",
   "version": "2.3.4"
  }
 },
 "nbformat": 4,
 "nbformat_minor": 5
}