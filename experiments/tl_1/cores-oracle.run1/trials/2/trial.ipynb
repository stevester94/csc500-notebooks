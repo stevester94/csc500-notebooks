{
 "cells": [
  {
   "cell_type": "markdown",
   "id": "9fea5f46",
   "metadata": {
    "papermill": {
     "duration": 0.018234,
     "end_time": "2022-03-13T19:28:26.126399",
     "exception": false,
     "start_time": "2022-03-13T19:28:26.108165",
     "status": "completed"
    },
    "tags": []
   },
   "source": [
    "# Transfer Learning Template"
   ]
  },
  {
   "cell_type": "code",
   "execution_count": 1,
   "id": "0902182a",
   "metadata": {
    "execution": {
     "iopub.execute_input": "2022-03-13T19:28:26.158215Z",
     "iopub.status.busy": "2022-03-13T19:28:26.157909Z",
     "iopub.status.idle": "2022-03-13T19:28:27.054076Z",
     "shell.execute_reply": "2022-03-13T19:28:27.053813Z"
    },
    "papermill": {
     "duration": 0.915323,
     "end_time": "2022-03-13T19:28:27.054131",
     "exception": false,
     "start_time": "2022-03-13T19:28:26.138808",
     "status": "completed"
    },
    "tags": []
   },
   "outputs": [],
   "source": [
    "%load_ext autoreload\n",
    "%autoreload 2\n",
    "%matplotlib inline\n",
    "\n",
    "    \n",
    "import os, json, sys, time, random\n",
    "import numpy as np\n",
    "import torch\n",
    "from torch.optim import Adam\n",
    "from  easydict import EasyDict\n",
    "import matplotlib.pyplot as plt\n",
    "\n",
    "from steves_models.steves_ptn import Steves_Prototypical_Network\n",
    "\n",
    "from steves_utils.lazy_iterable_wrapper import Lazy_Iterable_Wrapper\n",
    "from steves_utils.iterable_aggregator import Iterable_Aggregator\n",
    "from steves_utils.ptn_train_eval_test_jig import  PTN_Train_Eval_Test_Jig\n",
    "from steves_utils.torch_sequential_builder import build_sequential\n",
    "from steves_utils.torch_utils import get_dataset_metrics, ptn_confusion_by_domain_over_dataloader\n",
    "from steves_utils.utils_v2 import (per_domain_accuracy_from_confusion, get_datasets_base_path)\n",
    "from steves_utils.PTN.utils import independent_accuracy_assesment\n",
    "\n",
    "from torch.utils.data import DataLoader\n",
    "\n",
    "from steves_utils.stratified_dataset.episodic_accessor import Episodic_Accessor_Factory\n",
    "\n",
    "from steves_utils.ptn_do_report import (\n",
    "    get_loss_curve,\n",
    "    get_results_table,\n",
    "    get_parameters_table,\n",
    "    get_domain_accuracies,\n",
    ")\n",
    "\n",
    "from steves_utils.transforms import get_chained_transform"
   ]
  },
  {
   "cell_type": "markdown",
   "id": "41c840b4",
   "metadata": {
    "papermill": {
     "duration": 0.013011,
     "end_time": "2022-03-13T19:28:27.080451",
     "exception": false,
     "start_time": "2022-03-13T19:28:27.067440",
     "status": "completed"
    },
    "tags": []
   },
   "source": [
    "# Allowed Parameters\n",
    "These are allowed parameters, not defaults\n",
    "Each of these values need to be present in the injected parameters (the notebook will raise an exception if they are not present)\n",
    "\n",
    "Papermill uses the cell tag \"parameters\" to inject the real parameters below this cell.\n",
    "Enable tags to see what I mean"
   ]
  },
  {
   "cell_type": "code",
   "execution_count": 2,
   "id": "fd44eb83",
   "metadata": {
    "execution": {
     "iopub.execute_input": "2022-03-13T19:28:27.109691Z",
     "iopub.status.busy": "2022-03-13T19:28:27.109423Z",
     "iopub.status.idle": "2022-03-13T19:28:27.125161Z",
     "shell.execute_reply": "2022-03-13T19:28:27.124783Z"
    },
    "papermill": {
     "duration": 0.031835,
     "end_time": "2022-03-13T19:28:27.125252",
     "exception": false,
     "start_time": "2022-03-13T19:28:27.093417",
     "status": "completed"
    },
    "tags": []
   },
   "outputs": [],
   "source": [
    "required_parameters = {\n",
    "    \"experiment_name\",\n",
    "    \"lr\",\n",
    "    \"device\",\n",
    "    \"seed\",\n",
    "    \"dataset_seed\",\n",
    "    \"n_shot\",\n",
    "    \"n_query\",\n",
    "    \"n_way\",\n",
    "    \"train_k_factor\",\n",
    "    \"val_k_factor\",\n",
    "    \"test_k_factor\",\n",
    "    \"n_epoch\",\n",
    "    \"patience\",\n",
    "    \"criteria_for_best\",\n",
    "    \"x_net\",\n",
    "    \"datasets\",\n",
    "    \"torch_default_dtype\",\n",
    "    \"NUM_LOGS_PER_EPOCH\",\n",
    "    \"BEST_MODEL_PATH\",\n",
    "}"
   ]
  },
  {
   "cell_type": "code",
   "execution_count": 3,
   "id": "fa3f0049",
   "metadata": {
    "execution": {
     "iopub.execute_input": "2022-03-13T19:28:27.164708Z",
     "iopub.status.busy": "2022-03-13T19:28:27.156460Z",
     "iopub.status.idle": "2022-03-13T19:28:27.176416Z",
     "shell.execute_reply": "2022-03-13T19:28:27.176019Z"
    },
    "papermill": {
     "duration": 0.033889,
     "end_time": "2022-03-13T19:28:27.176504",
     "exception": false,
     "start_time": "2022-03-13T19:28:27.142615",
     "status": "completed"
    },
    "tags": [
     "parameters"
    ]
   },
   "outputs": [],
   "source": [
    "from steves_utils.CORES.utils import (\n",
    "    ALL_NODES,\n",
    "    ALL_NODES_MINIMUM_1000_EXAMPLES,\n",
    "    ALL_DAYS\n",
    ")\n",
    "\n",
    "from steves_utils.ORACLE.utils_v2 import (\n",
    "    ALL_DISTANCES_FEET_NARROWED,\n",
    "    ALL_RUNS,\n",
    "    ALL_SERIAL_NUMBERS,\n",
    ")\n",
    "\n",
    "standalone_parameters = {}\n",
    "standalone_parameters[\"experiment_name\"] = \"STANDALONE PTN\"\n",
    "standalone_parameters[\"lr\"] = 0.001\n",
    "standalone_parameters[\"device\"] = \"cuda\"\n",
    "\n",
    "standalone_parameters[\"seed\"] = 1337\n",
    "standalone_parameters[\"dataset_seed\"] = 1337\n",
    "\n",
    "standalone_parameters[\"n_way\"] = 8\n",
    "standalone_parameters[\"n_shot\"] = 3\n",
    "standalone_parameters[\"n_query\"]  = 2\n",
    "standalone_parameters[\"train_k_factor\"] = 1\n",
    "standalone_parameters[\"val_k_factor\"] = 2\n",
    "standalone_parameters[\"test_k_factor\"] = 2\n",
    "\n",
    "\n",
    "standalone_parameters[\"n_epoch\"] = 50\n",
    "\n",
    "standalone_parameters[\"patience\"] = 10\n",
    "standalone_parameters[\"criteria_for_best\"] = \"source_loss\"\n",
    "\n",
    "standalone_parameters[\"datasets\"] = [\n",
    "    {\n",
    "        \"labels\": ALL_SERIAL_NUMBERS,\n",
    "        \"domains\": ALL_DISTANCES_FEET_NARROWED,\n",
    "        \"num_examples_per_domain_per_label\": 100,\n",
    "        \"pickle_path\": os.path.join(get_datasets_base_path(), \"oracle.Run1_framed_2000Examples_stratified_ds.2022A.pkl\"),\n",
    "        \"source_or_target_dataset\": \"source\",\n",
    "        \"x_transforms\": [\"unit_mag\", \"minus_two\"],\n",
    "        \"episode_transforms\": [],\n",
    "        \"domain_prefix\": \"ORACLE_\"\n",
    "    },\n",
    "    {\n",
    "        \"labels\": ALL_NODES,\n",
    "        \"domains\": ALL_DAYS,\n",
    "        \"num_examples_per_domain_per_label\": 100,\n",
    "        \"pickle_path\": os.path.join(get_datasets_base_path(), \"cores.stratified_ds.2022A.pkl\"),\n",
    "        \"source_or_target_dataset\": \"target\",\n",
    "        \"x_transforms\": [\"unit_power\", \"times_zero\"],\n",
    "        \"episode_transforms\": [],\n",
    "        \"domain_prefix\": \"CORES_\"\n",
    "    }   \n",
    "]\n",
    "\n",
    "standalone_parameters[\"torch_default_dtype\"] = \"torch.float32\" \n",
    "\n",
    "\n",
    "\n",
    "standalone_parameters[\"x_net\"] =     [\n",
    "    {\"class\": \"nnReshape\", \"kargs\": {\"shape\":[-1, 1, 2, 256]}},\n",
    "    {\"class\": \"Conv2d\", \"kargs\": { \"in_channels\":1, \"out_channels\":256, \"kernel_size\":(1,7), \"bias\":False, \"padding\":(0,3), },},\n",
    "    {\"class\": \"ReLU\", \"kargs\": {\"inplace\": True}},\n",
    "    {\"class\": \"BatchNorm2d\", \"kargs\": {\"num_features\":256}},\n",
    "\n",
    "    {\"class\": \"Conv2d\", \"kargs\": { \"in_channels\":256, \"out_channels\":80, \"kernel_size\":(2,7), \"bias\":True, \"padding\":(0,3), },},\n",
    "    {\"class\": \"ReLU\", \"kargs\": {\"inplace\": True}},\n",
    "    {\"class\": \"BatchNorm2d\", \"kargs\": {\"num_features\":80}},\n",
    "    {\"class\": \"Flatten\", \"kargs\": {}},\n",
    "\n",
    "    {\"class\": \"Linear\", \"kargs\": {\"in_features\": 80*256, \"out_features\": 256}}, # 80 units per IQ pair\n",
    "    {\"class\": \"ReLU\", \"kargs\": {\"inplace\": True}},\n",
    "    {\"class\": \"BatchNorm1d\", \"kargs\": {\"num_features\":256}},\n",
    "\n",
    "    {\"class\": \"Linear\", \"kargs\": {\"in_features\": 256, \"out_features\": 256}},\n",
    "]\n",
    "\n",
    "# Parameters relevant to results\n",
    "# These parameters will basically never need to change\n",
    "standalone_parameters[\"NUM_LOGS_PER_EPOCH\"] = 10\n",
    "standalone_parameters[\"BEST_MODEL_PATH\"] = \"./best_model.pth\"\n",
    "\n",
    "\n",
    "\n",
    "\n"
   ]
  },
  {
   "cell_type": "code",
   "execution_count": 4,
   "id": "7353ccbd",
   "metadata": {
    "execution": {
     "iopub.execute_input": "2022-03-13T19:28:27.213671Z",
     "iopub.status.busy": "2022-03-13T19:28:27.208232Z",
     "iopub.status.idle": "2022-03-13T19:28:27.228452Z",
     "shell.execute_reply": "2022-03-13T19:28:27.228142Z"
    },
    "papermill": {
     "duration": 0.034175,
     "end_time": "2022-03-13T19:28:27.228522",
     "exception": false,
     "start_time": "2022-03-13T19:28:27.194347",
     "status": "completed"
    },
    "tags": [
     "injected-parameters"
    ]
   },
   "outputs": [],
   "source": [
    "# Parameters\n",
    "parameters = {\n",
    "    \"experiment_name\": \"tl_1_cores-oracle.run1\",\n",
    "    \"device\": \"cuda\",\n",
    "    \"lr\": 0.001,\n",
    "    \"seed\": 1337,\n",
    "    \"dataset_seed\": 1337,\n",
    "    \"n_shot\": 3,\n",
    "    \"n_query\": 2,\n",
    "    \"train_k_factor\": 3,\n",
    "    \"val_k_factor\": 2,\n",
    "    \"test_k_factor\": 2,\n",
    "    \"torch_default_dtype\": \"torch.float32\",\n",
    "    \"n_epoch\": 50,\n",
    "    \"patience\": 3,\n",
    "    \"criteria_for_best\": \"target_loss\",\n",
    "    \"x_net\": [\n",
    "        {\"class\": \"nnReshape\", \"kargs\": {\"shape\": [-1, 1, 2, 256]}},\n",
    "        {\n",
    "            \"class\": \"Conv2d\",\n",
    "            \"kargs\": {\n",
    "                \"in_channels\": 1,\n",
    "                \"out_channels\": 256,\n",
    "                \"kernel_size\": [1, 7],\n",
    "                \"bias\": False,\n",
    "                \"padding\": [0, 3],\n",
    "            },\n",
    "        },\n",
    "        {\"class\": \"ReLU\", \"kargs\": {\"inplace\": True}},\n",
    "        {\"class\": \"BatchNorm2d\", \"kargs\": {\"num_features\": 256}},\n",
    "        {\n",
    "            \"class\": \"Conv2d\",\n",
    "            \"kargs\": {\n",
    "                \"in_channels\": 256,\n",
    "                \"out_channels\": 80,\n",
    "                \"kernel_size\": [2, 7],\n",
    "                \"bias\": True,\n",
    "                \"padding\": [0, 3],\n",
    "            },\n",
    "        },\n",
    "        {\"class\": \"ReLU\", \"kargs\": {\"inplace\": True}},\n",
    "        {\"class\": \"BatchNorm2d\", \"kargs\": {\"num_features\": 80}},\n",
    "        {\"class\": \"Flatten\", \"kargs\": {}},\n",
    "        {\"class\": \"Linear\", \"kargs\": {\"in_features\": 20480, \"out_features\": 256}},\n",
    "        {\"class\": \"ReLU\", \"kargs\": {\"inplace\": True}},\n",
    "        {\"class\": \"BatchNorm1d\", \"kargs\": {\"num_features\": 256}},\n",
    "        {\"class\": \"Linear\", \"kargs\": {\"in_features\": 256, \"out_features\": 256}},\n",
    "    ],\n",
    "    \"NUM_LOGS_PER_EPOCH\": 10,\n",
    "    \"BEST_MODEL_PATH\": \"./best_model.pth\",\n",
    "    \"n_way\": 16,\n",
    "    \"datasets\": [\n",
    "        {\n",
    "            \"labels\": [\n",
    "                \"1-10.\",\n",
    "                \"1-11.\",\n",
    "                \"1-15.\",\n",
    "                \"1-16.\",\n",
    "                \"1-17.\",\n",
    "                \"1-18.\",\n",
    "                \"1-19.\",\n",
    "                \"10-4.\",\n",
    "                \"10-7.\",\n",
    "                \"11-1.\",\n",
    "                \"11-14.\",\n",
    "                \"11-17.\",\n",
    "                \"11-20.\",\n",
    "                \"11-7.\",\n",
    "                \"13-20.\",\n",
    "                \"13-8.\",\n",
    "                \"14-10.\",\n",
    "                \"14-11.\",\n",
    "                \"14-14.\",\n",
    "                \"14-7.\",\n",
    "                \"15-1.\",\n",
    "                \"15-20.\",\n",
    "                \"16-1.\",\n",
    "                \"16-16.\",\n",
    "                \"17-10.\",\n",
    "                \"17-11.\",\n",
    "                \"17-2.\",\n",
    "                \"19-1.\",\n",
    "                \"19-16.\",\n",
    "                \"19-19.\",\n",
    "                \"19-20.\",\n",
    "                \"19-3.\",\n",
    "                \"2-10.\",\n",
    "                \"2-11.\",\n",
    "                \"2-17.\",\n",
    "                \"2-18.\",\n",
    "                \"2-20.\",\n",
    "                \"2-3.\",\n",
    "                \"2-4.\",\n",
    "                \"2-5.\",\n",
    "                \"2-6.\",\n",
    "                \"2-7.\",\n",
    "                \"2-8.\",\n",
    "                \"3-13.\",\n",
    "                \"3-18.\",\n",
    "                \"3-3.\",\n",
    "                \"4-1.\",\n",
    "                \"4-10.\",\n",
    "                \"4-11.\",\n",
    "                \"4-19.\",\n",
    "                \"5-5.\",\n",
    "                \"6-15.\",\n",
    "                \"7-10.\",\n",
    "                \"7-14.\",\n",
    "                \"8-18.\",\n",
    "                \"8-20.\",\n",
    "                \"8-3.\",\n",
    "                \"8-8.\",\n",
    "            ],\n",
    "            \"domains\": [1, 2, 3, 4, 5],\n",
    "            \"num_examples_per_domain_per_label\": 100,\n",
    "            \"pickle_path\": \"/mnt/wd500GB/CSC500/csc500-main/datasets/cores.stratified_ds.2022A.pkl\",\n",
    "            \"source_or_target_dataset\": \"source\",\n",
    "            \"x_transforms\": [],\n",
    "            \"episode_transforms\": [],\n",
    "            \"domain_prefix\": \"CORES_\",\n",
    "        },\n",
    "        {\n",
    "            \"labels\": [\n",
    "                \"3123D52\",\n",
    "                \"3123D65\",\n",
    "                \"3123D79\",\n",
    "                \"3123D80\",\n",
    "                \"3123D54\",\n",
    "                \"3123D70\",\n",
    "                \"3123D7B\",\n",
    "                \"3123D89\",\n",
    "                \"3123D58\",\n",
    "                \"3123D76\",\n",
    "                \"3123D7D\",\n",
    "                \"3123EFE\",\n",
    "                \"3123D64\",\n",
    "                \"3123D78\",\n",
    "                \"3123D7E\",\n",
    "                \"3124E4A\",\n",
    "            ],\n",
    "            \"domains\": [32, 38, 8, 44, 14, 50, 20, 26],\n",
    "            \"num_examples_per_domain_per_label\": 10000,\n",
    "            \"pickle_path\": \"/mnt/wd500GB/CSC500/csc500-main/datasets/oracle.Run1_10kExamples_stratified_ds.2022A.pkl\",\n",
    "            \"source_or_target_dataset\": \"target\",\n",
    "            \"x_transforms\": [],\n",
    "            \"episode_transforms\": [],\n",
    "            \"domain_prefix\": \"ORACLE.run1_\",\n",
    "        },\n",
    "    ],\n",
    "}\n"
   ]
  },
  {
   "cell_type": "code",
   "execution_count": 5,
   "id": "8fa1cc33",
   "metadata": {
    "execution": {
     "iopub.execute_input": "2022-03-13T19:28:27.263105Z",
     "iopub.status.busy": "2022-03-13T19:28:27.262549Z",
     "iopub.status.idle": "2022-03-13T19:28:27.276089Z",
     "shell.execute_reply": "2022-03-13T19:28:27.275637Z"
    },
    "papermill": {
     "duration": 0.030226,
     "end_time": "2022-03-13T19:28:27.276177",
     "exception": false,
     "start_time": "2022-03-13T19:28:27.245951",
     "status": "completed"
    },
    "tags": []
   },
   "outputs": [],
   "source": [
    "# Set this to True if you want to run this template directly\n",
    "STANDALONE = False\n",
    "if STANDALONE:\n",
    "    print(\"parameters not injected, running with standalone_parameters\")\n",
    "    parameters = standalone_parameters\n",
    "\n",
    "if not 'parameters' in locals() and not 'parameters' in globals():\n",
    "    raise Exception(\"Parameter injection failed\")\n",
    "\n",
    "#Use an easy dict for all the parameters\n",
    "p = EasyDict(parameters)\n",
    "\n",
    "supplied_keys = set(p.keys())\n",
    "\n",
    "if  supplied_keys != required_parameters:\n",
    "    print(\"Parameters are incorrect\")\n",
    "    if len(supplied_keys - required_parameters)>0: print(\"Shouldn't have:\", str(supplied_keys - required_parameters))\n",
    "    if len(required_parameters - supplied_keys)>0: print(\"Need to have:\", str(required_parameters - supplied_keys))\n",
    "    raise RuntimeError(\"Parameters are incorrect\")\n",
    "\n"
   ]
  },
  {
   "cell_type": "code",
   "execution_count": 6,
   "id": "3a028d58",
   "metadata": {
    "execution": {
     "iopub.execute_input": "2022-03-13T19:28:27.307935Z",
     "iopub.status.busy": "2022-03-13T19:28:27.307550Z",
     "iopub.status.idle": "2022-03-13T19:28:27.322727Z",
     "shell.execute_reply": "2022-03-13T19:28:27.322418Z"
    },
    "papermill": {
     "duration": 0.030119,
     "end_time": "2022-03-13T19:28:27.322796",
     "exception": false,
     "start_time": "2022-03-13T19:28:27.292677",
     "status": "completed"
    },
    "tags": []
   },
   "outputs": [],
   "source": [
    "###################################\n",
    "# Set the RNGs and make it all deterministic\n",
    "###################################\n",
    "np.random.seed(p.seed)\n",
    "random.seed(p.seed)\n",
    "torch.manual_seed(p.seed)\n",
    "\n",
    "torch.use_deterministic_algorithms(True) "
   ]
  },
  {
   "cell_type": "code",
   "execution_count": 7,
   "id": "b691acf6",
   "metadata": {
    "execution": {
     "iopub.execute_input": "2022-03-13T19:28:27.353854Z",
     "iopub.status.busy": "2022-03-13T19:28:27.353215Z",
     "iopub.status.idle": "2022-03-13T19:28:27.368361Z",
     "shell.execute_reply": "2022-03-13T19:28:27.367908Z"
    },
    "papermill": {
     "duration": 0.028897,
     "end_time": "2022-03-13T19:28:27.368450",
     "exception": false,
     "start_time": "2022-03-13T19:28:27.339553",
     "status": "completed"
    },
    "tags": []
   },
   "outputs": [],
   "source": [
    "###########################################\n",
    "# The stratified datasets honor this\n",
    "###########################################\n",
    "torch.set_default_dtype(eval(p.torch_default_dtype))"
   ]
  },
  {
   "cell_type": "code",
   "execution_count": 8,
   "id": "b5fba671",
   "metadata": {
    "execution": {
     "iopub.execute_input": "2022-03-13T19:28:27.398089Z",
     "iopub.status.busy": "2022-03-13T19:28:27.397765Z",
     "iopub.status.idle": "2022-03-13T19:28:27.439044Z",
     "shell.execute_reply": "2022-03-13T19:28:27.438593Z"
    },
    "papermill": {
     "duration": 0.056129,
     "end_time": "2022-03-13T19:28:27.439132",
     "exception": false,
     "start_time": "2022-03-13T19:28:27.383003",
     "status": "completed"
    },
    "tags": []
   },
   "outputs": [],
   "source": [
    "###################################\n",
    "# Build the network(s)\n",
    "# Note: It's critical to do this AFTER setting the RNG\n",
    "###################################\n",
    "x_net = build_sequential(p.x_net)"
   ]
  },
  {
   "cell_type": "code",
   "execution_count": 9,
   "id": "5d7e61cc",
   "metadata": {
    "execution": {
     "iopub.execute_input": "2022-03-13T19:28:27.472432Z",
     "iopub.status.busy": "2022-03-13T19:28:27.472165Z",
     "iopub.status.idle": "2022-03-13T19:28:27.482983Z",
     "shell.execute_reply": "2022-03-13T19:28:27.482764Z"
    },
    "papermill": {
     "duration": 0.025281,
     "end_time": "2022-03-13T19:28:27.483031",
     "exception": false,
     "start_time": "2022-03-13T19:28:27.457750",
     "status": "completed"
    },
    "tags": []
   },
   "outputs": [],
   "source": [
    "start_time_secs = time.time()"
   ]
  },
  {
   "cell_type": "code",
   "execution_count": 10,
   "id": "c6b67dfd",
   "metadata": {
    "execution": {
     "iopub.execute_input": "2022-03-13T19:28:27.515970Z",
     "iopub.status.busy": "2022-03-13T19:28:27.515036Z",
     "iopub.status.idle": "2022-03-13T19:28:27.530173Z",
     "shell.execute_reply": "2022-03-13T19:28:27.529721Z"
    },
    "papermill": {
     "duration": 0.030604,
     "end_time": "2022-03-13T19:28:27.530261",
     "exception": false,
     "start_time": "2022-03-13T19:28:27.499657",
     "status": "completed"
    },
    "tags": []
   },
   "outputs": [],
   "source": [
    "p.domains_source = []\n",
    "p.domains_target = []\n",
    "\n",
    "\n",
    "train_original_source = []\n",
    "val_original_source   = []\n",
    "test_original_source  = []\n",
    "\n",
    "train_original_target = []\n",
    "val_original_target   = []\n",
    "test_original_target  = []"
   ]
  },
  {
   "cell_type": "code",
   "execution_count": 11,
   "id": "e3d9c3d3",
   "metadata": {
    "execution": {
     "iopub.execute_input": "2022-03-13T19:28:27.563273Z",
     "iopub.status.busy": "2022-03-13T19:28:27.562587Z",
     "iopub.status.idle": "2022-03-13T19:28:27.577188Z",
     "shell.execute_reply": "2022-03-13T19:28:27.576777Z"
    },
    "papermill": {
     "duration": 0.029667,
     "end_time": "2022-03-13T19:28:27.577274",
     "exception": false,
     "start_time": "2022-03-13T19:28:27.547607",
     "status": "completed"
    },
    "tags": []
   },
   "outputs": [],
   "source": [
    "# global_x_transform_func = lambda x: normalize(x.to(torch.get_default_dtype()), \"unit_power\") # unit_power, unit_mag\n",
    "# global_x_transform_func = lambda x: normalize(x, \"unit_power\") # unit_power, unit_mag"
   ]
  },
  {
   "cell_type": "code",
   "execution_count": 12,
   "id": "acb78fd2",
   "metadata": {
    "execution": {
     "iopub.execute_input": "2022-03-13T19:28:27.618807Z",
     "iopub.status.busy": "2022-03-13T19:28:27.614225Z",
     "iopub.status.idle": "2022-03-13T19:28:27.627268Z",
     "shell.execute_reply": "2022-03-13T19:28:27.626854Z"
    },
    "papermill": {
     "duration": 0.032167,
     "end_time": "2022-03-13T19:28:27.627355",
     "exception": false,
     "start_time": "2022-03-13T19:28:27.595188",
     "status": "completed"
    },
    "tags": []
   },
   "outputs": [],
   "source": [
    "def add_dataset(\n",
    "    labels,\n",
    "    domains,\n",
    "    pickle_path,\n",
    "    x_transforms,\n",
    "    episode_transforms,\n",
    "    domain_prefix,\n",
    "    num_examples_per_domain_per_label,\n",
    "    source_or_target_dataset:str,\n",
    "    iterator_seed=p.seed,\n",
    "    dataset_seed=p.dataset_seed,\n",
    "    n_shot=p.n_shot,\n",
    "    n_way=p.n_way,\n",
    "    n_query=p.n_query,\n",
    "    train_val_test_k_factors=(p.train_k_factor,p.val_k_factor,p.test_k_factor),\n",
    "):\n",
    "   \n",
    "    if x_transforms == []: x_transform = None\n",
    "    else: x_transform = get_chained_transform(x_transforms)\n",
    "    \n",
    "    if episode_transforms == []: episode_transform = None\n",
    "    else: raise Exception(\"episode_transforms not implemented\")\n",
    "    \n",
    "    episode_transform = lambda tup, _prefix=domain_prefix: (_prefix + str(tup[0]), tup[1])\n",
    "\n",
    "\n",
    "    eaf = Episodic_Accessor_Factory(\n",
    "        labels=labels,\n",
    "        domains=domains,\n",
    "        num_examples_per_domain_per_label=num_examples_per_domain_per_label,\n",
    "        iterator_seed=iterator_seed,\n",
    "        dataset_seed=dataset_seed,\n",
    "        n_shot=n_shot,\n",
    "        n_way=n_way,\n",
    "        n_query=n_query,\n",
    "        train_val_test_k_factors=train_val_test_k_factors,\n",
    "        pickle_path=pickle_path,\n",
    "        x_transform_func=x_transform,\n",
    "    )\n",
    "\n",
    "    train, val, test = eaf.get_train(), eaf.get_val(), eaf.get_test()\n",
    "    train = Lazy_Iterable_Wrapper(train, episode_transform)\n",
    "    val = Lazy_Iterable_Wrapper(val, episode_transform)\n",
    "    test = Lazy_Iterable_Wrapper(test, episode_transform)\n",
    "\n",
    "    if source_or_target_dataset==\"source\":\n",
    "        train_original_source.append(train)\n",
    "        val_original_source.append(val)\n",
    "        test_original_source.append(test)\n",
    "\n",
    "        p.domains_source.extend(\n",
    "            [domain_prefix + str(u) for u in domains]\n",
    "        )\n",
    "    elif source_or_target_dataset==\"target\":\n",
    "        train_original_target.append(train)\n",
    "        val_original_target.append(val)\n",
    "        test_original_target.append(test)\n",
    "        p.domains_target.extend(\n",
    "            [domain_prefix + str(u) for u in domains]\n",
    "        )\n",
    "    else:\n",
    "        raise Exception(f\"invalid source_or_target_dataset: {source_or_target_dataset}\")\n",
    "    "
   ]
  },
  {
   "cell_type": "code",
   "execution_count": 13,
   "id": "fe266617",
   "metadata": {
    "execution": {
     "iopub.execute_input": "2022-03-13T19:28:27.667502Z",
     "iopub.status.busy": "2022-03-13T19:28:27.659037Z",
     "iopub.status.idle": "2022-03-13T19:28:33.126971Z",
     "shell.execute_reply": "2022-03-13T19:28:33.126521Z"
    },
    "papermill": {
     "duration": 5.482785,
     "end_time": "2022-03-13T19:28:33.127063",
     "exception": false,
     "start_time": "2022-03-13T19:28:27.644278",
     "status": "completed"
    },
    "tags": []
   },
   "outputs": [],
   "source": [
    "for ds in p.datasets:\n",
    "    add_dataset(**ds)"
   ]
  },
  {
   "cell_type": "code",
   "execution_count": 14,
   "id": "b90d65ac",
   "metadata": {
    "execution": {
     "iopub.execute_input": "2022-03-13T19:28:33.166172Z",
     "iopub.status.busy": "2022-03-13T19:28:33.165888Z",
     "iopub.status.idle": "2022-03-13T19:28:33.176387Z",
     "shell.execute_reply": "2022-03-13T19:28:33.176617Z"
    },
    "papermill": {
     "duration": 0.025613,
     "end_time": "2022-03-13T19:28:33.176725",
     "exception": false,
     "start_time": "2022-03-13T19:28:33.151112",
     "status": "completed"
    },
    "tags": []
   },
   "outputs": [],
   "source": [
    "# from steves_utils.CORES.utils import (\n",
    "#     ALL_NODES,\n",
    "#     ALL_NODES_MINIMUM_1000_EXAMPLES,\n",
    "#     ALL_DAYS\n",
    "# )\n",
    "\n",
    "# add_dataset(\n",
    "#     labels=ALL_NODES,\n",
    "#     domains = ALL_DAYS,\n",
    "#     num_examples_per_domain_per_label=100,\n",
    "#     pickle_path=os.path.join(get_datasets_base_path(), \"cores.stratified_ds.2022A.pkl\"),\n",
    "#     source_or_target_dataset=\"target\",\n",
    "#     x_transform_func=global_x_transform_func,\n",
    "#     domain_modifier=lambda u: f\"cores_{u}\"\n",
    "# )"
   ]
  },
  {
   "cell_type": "code",
   "execution_count": 15,
   "id": "76db484d",
   "metadata": {
    "execution": {
     "iopub.execute_input": "2022-03-13T19:28:33.212452Z",
     "iopub.status.busy": "2022-03-13T19:28:33.210131Z",
     "iopub.status.idle": "2022-03-13T19:28:33.224684Z",
     "shell.execute_reply": "2022-03-13T19:28:33.225055Z"
    },
    "papermill": {
     "duration": 0.029831,
     "end_time": "2022-03-13T19:28:33.225157",
     "exception": false,
     "start_time": "2022-03-13T19:28:33.195326",
     "status": "completed"
    },
    "tags": []
   },
   "outputs": [],
   "source": [
    "# from steves_utils.ORACLE.utils_v2 import (\n",
    "#     ALL_DISTANCES_FEET,\n",
    "#     ALL_RUNS,\n",
    "#     ALL_SERIAL_NUMBERS,\n",
    "# )\n",
    "\n",
    "\n",
    "# add_dataset(\n",
    "#     labels=ALL_SERIAL_NUMBERS,\n",
    "#     domains = list(set(ALL_DISTANCES_FEET) - {2,62}),\n",
    "#     num_examples_per_domain_per_label=100,\n",
    "#     pickle_path=os.path.join(get_datasets_base_path(), \"oracle.Run2_framed_2000Examples_stratified_ds.2022A.pkl\"),\n",
    "#     source_or_target_dataset=\"source\",\n",
    "#     x_transform_func=global_x_transform_func,\n",
    "#     domain_modifier=lambda u: f\"oracle1_{u}\"\n",
    "# )\n"
   ]
  },
  {
   "cell_type": "code",
   "execution_count": 16,
   "id": "97dea9d2",
   "metadata": {
    "execution": {
     "iopub.execute_input": "2022-03-13T19:28:33.264254Z",
     "iopub.status.busy": "2022-03-13T19:28:33.258336Z",
     "iopub.status.idle": "2022-03-13T19:28:33.273564Z",
     "shell.execute_reply": "2022-03-13T19:28:33.273048Z"
    },
    "papermill": {
     "duration": 0.030395,
     "end_time": "2022-03-13T19:28:33.273667",
     "exception": false,
     "start_time": "2022-03-13T19:28:33.243272",
     "status": "completed"
    },
    "tags": []
   },
   "outputs": [],
   "source": [
    "# from steves_utils.ORACLE.utils_v2 import (\n",
    "#     ALL_DISTANCES_FEET,\n",
    "#     ALL_RUNS,\n",
    "#     ALL_SERIAL_NUMBERS,\n",
    "# )\n",
    "\n",
    "\n",
    "# add_dataset(\n",
    "#     labels=ALL_SERIAL_NUMBERS,\n",
    "#     domains = list(set(ALL_DISTANCES_FEET) - {2,62,56}),\n",
    "#     num_examples_per_domain_per_label=100,\n",
    "#     pickle_path=os.path.join(get_datasets_base_path(), \"oracle.Run2_framed_2000Examples_stratified_ds.2022A.pkl\"),\n",
    "#     source_or_target_dataset=\"source\",\n",
    "#     x_transform_func=global_x_transform_func,\n",
    "#     domain_modifier=lambda u: f\"oracle2_{u}\"\n",
    "# )"
   ]
  },
  {
   "cell_type": "code",
   "execution_count": 17,
   "id": "6f289866",
   "metadata": {
    "execution": {
     "iopub.execute_input": "2022-03-13T19:28:33.307242Z",
     "iopub.status.busy": "2022-03-13T19:28:33.306749Z",
     "iopub.status.idle": "2022-03-13T19:28:33.316552Z",
     "shell.execute_reply": "2022-03-13T19:28:33.316086Z"
    },
    "papermill": {
     "duration": 0.02479,
     "end_time": "2022-03-13T19:28:33.316643",
     "exception": false,
     "start_time": "2022-03-13T19:28:33.291853",
     "status": "completed"
    },
    "tags": []
   },
   "outputs": [],
   "source": [
    "# add_dataset(\n",
    "#     labels=list(range(19)),\n",
    "#     domains = [0,1,2],\n",
    "#     num_examples_per_domain_per_label=100,\n",
    "#     pickle_path=os.path.join(get_datasets_base_path(), \"metehan.stratified_ds.2022A.pkl\"),\n",
    "#     source_or_target_dataset=\"target\",\n",
    "#     x_transform_func=global_x_transform_func,\n",
    "#     domain_modifier=lambda u: f\"met_{u}\"\n",
    "# )"
   ]
  },
  {
   "cell_type": "code",
   "execution_count": 18,
   "id": "86a863c3",
   "metadata": {
    "execution": {
     "iopub.execute_input": "2022-03-13T19:28:33.359514Z",
     "iopub.status.busy": "2022-03-13T19:28:33.358804Z",
     "iopub.status.idle": "2022-03-13T19:28:33.364546Z",
     "shell.execute_reply": "2022-03-13T19:28:33.364082Z"
    },
    "papermill": {
     "duration": 0.02935,
     "end_time": "2022-03-13T19:28:33.364650",
     "exception": false,
     "start_time": "2022-03-13T19:28:33.335300",
     "status": "completed"
    },
    "tags": []
   },
   "outputs": [],
   "source": [
    "# # from steves_utils.wisig.utils import (\n",
    "# #     ALL_NODES_MINIMUM_100_EXAMPLES,\n",
    "# #     ALL_NODES_MINIMUM_500_EXAMPLES,\n",
    "# #     ALL_NODES_MINIMUM_1000_EXAMPLES,\n",
    "# #     ALL_DAYS\n",
    "# # )\n",
    "\n",
    "# import steves_utils.wisig.utils as wisig\n",
    "\n",
    "\n",
    "# add_dataset(\n",
    "#     labels=wisig.ALL_NODES_MINIMUM_100_EXAMPLES,\n",
    "#     domains = wisig.ALL_DAYS,\n",
    "#     num_examples_per_domain_per_label=100,\n",
    "#     pickle_path=os.path.join(get_datasets_base_path(), \"wisig.node3-19.stratified_ds.2022A.pkl\"),\n",
    "#     source_or_target_dataset=\"target\",\n",
    "#     x_transform_func=global_x_transform_func,\n",
    "#     domain_modifier=lambda u: f\"wisig_{u}\"\n",
    "# )"
   ]
  },
  {
   "cell_type": "code",
   "execution_count": 19,
   "id": "fd5442bc",
   "metadata": {
    "execution": {
     "iopub.execute_input": "2022-03-13T19:28:33.408699Z",
     "iopub.status.busy": "2022-03-13T19:28:33.407906Z",
     "iopub.status.idle": "2022-03-13T19:28:33.414832Z",
     "shell.execute_reply": "2022-03-13T19:28:33.415233Z"
    },
    "papermill": {
     "duration": 0.031341,
     "end_time": "2022-03-13T19:28:33.415354",
     "exception": false,
     "start_time": "2022-03-13T19:28:33.384013",
     "status": "completed"
    },
    "tags": []
   },
   "outputs": [],
   "source": [
    "###################################\n",
    "# Build the dataset\n",
    "###################################\n",
    "train_original_source = Iterable_Aggregator(train_original_source, p.seed)\n",
    "val_original_source = Iterable_Aggregator(val_original_source, p.seed)\n",
    "test_original_source = Iterable_Aggregator(test_original_source, p.seed)\n",
    "\n",
    "\n",
    "train_original_target = Iterable_Aggregator(train_original_target, p.seed)\n",
    "val_original_target = Iterable_Aggregator(val_original_target, p.seed)\n",
    "test_original_target = Iterable_Aggregator(test_original_target, p.seed)\n",
    "\n",
    "# For CNN We only use X and Y. And we only train on the source.\n",
    "# Properly form the data using a transform lambda and Lazy_Iterable_Wrapper. Finally wrap them in a dataloader\n",
    "\n",
    "transform_lambda = lambda ex: ex[1] # Original is (<domain>, <episode>) so we strip down to episode only\n",
    "\n",
    "train_processed_source = Lazy_Iterable_Wrapper(train_original_source, transform_lambda)\n",
    "val_processed_source   = Lazy_Iterable_Wrapper(val_original_source, transform_lambda)\n",
    "test_processed_source  = Lazy_Iterable_Wrapper(test_original_source, transform_lambda)\n",
    "\n",
    "train_processed_target = Lazy_Iterable_Wrapper(train_original_target, transform_lambda)\n",
    "val_processed_target   = Lazy_Iterable_Wrapper(val_original_target, transform_lambda)\n",
    "test_processed_target  = Lazy_Iterable_Wrapper(test_original_target, transform_lambda)\n",
    "\n",
    "datasets = EasyDict({\n",
    "    \"source\": {\n",
    "        \"original\": {\"train\":train_original_source, \"val\":val_original_source, \"test\":test_original_source},\n",
    "        \"processed\": {\"train\":train_processed_source, \"val\":val_processed_source, \"test\":test_processed_source}\n",
    "    },\n",
    "    \"target\": {\n",
    "        \"original\": {\"train\":train_original_target, \"val\":val_original_target, \"test\":test_original_target},\n",
    "        \"processed\": {\"train\":train_processed_target, \"val\":val_processed_target, \"test\":test_processed_target}\n",
    "    },\n",
    "})"
   ]
  },
  {
   "cell_type": "code",
   "execution_count": 20,
   "id": "5b3c01fc",
   "metadata": {
    "execution": {
     "iopub.execute_input": "2022-03-13T19:28:33.453095Z",
     "iopub.status.busy": "2022-03-13T19:28:33.452846Z",
     "iopub.status.idle": "2022-03-13T19:28:46.458309Z",
     "shell.execute_reply": "2022-03-13T19:28:46.458714Z"
    },
    "papermill": {
     "duration": 13.025718,
     "end_time": "2022-03-13T19:28:46.458841",
     "exception": false,
     "start_time": "2022-03-13T19:28:33.433123",
     "status": "completed"
    },
    "tags": []
   },
   "outputs": [
    {
     "name": "stdout",
     "output_type": "stream",
     "text": [
      "{'CORES_4', 'CORES_2', 'CORES_3', 'CORES_1', 'CORES_5'}\n"
     ]
    },
    {
     "name": "stdout",
     "output_type": "stream",
     "text": [
      "{'ORACLE.run1_44', 'ORACLE.run1_8', 'ORACLE.run1_32', 'ORACLE.run1_38', 'ORACLE.run1_50', 'ORACLE.run1_26', 'ORACLE.run1_20', 'ORACLE.run1_14'}\n"
     ]
    },
    {
     "name": "stdout",
     "output_type": "stream",
     "text": [
      "tensor([[[-0.0089, -0.0132,  0.0126,  ..., -0.0215, -0.0297,  0.0087],\n",
      "         [ 0.0047, -0.0256, -0.0276,  ..., -0.0239, -0.0096, -0.0198]],\n",
      "\n",
      "        [[ 0.0166,  0.0381, -0.0073,  ...,  0.0097,  0.0181,  0.0042],\n",
      "         [-0.0159, -0.0008,  0.0349,  ..., -0.0364, -0.0047,  0.0251]],\n",
      "\n",
      "        [[-0.0216, -0.0086,  0.0370,  ..., -0.0336, -0.0061,  0.0243],\n",
      "         [-0.0124, -0.0331, -0.0005,  ...,  0.0037, -0.0158, -0.0068]],\n",
      "\n",
      "        ...,\n",
      "\n",
      "        [[ 0.0166,  0.0204,  0.0110,  ..., -0.0348, -0.0398, -0.0109],\n",
      "         [ 0.0118,  0.0114, -0.0122,  ..., -0.0232,  0.0066,  0.0143]],\n",
      "\n",
      "        [[ 0.0084,  0.0084, -0.0037,  ..., -0.0018, -0.0091, -0.0008],\n",
      "         [ 0.0032,  0.0011, -0.0067,  ..., -0.0024,  0.0017, -0.0132]],\n",
      "\n",
      "        [[-0.0032,  0.0027,  0.0059,  ...,  0.0092,  0.0088, -0.0088],\n",
      "         [ 0.0070,  0.0082,  0.0080,  ...,  0.0125,  0.0016, -0.0012]]])\n"
     ]
    }
   ],
   "source": [
    "from steves_utils.transforms import get_average_magnitude, get_average_power\n",
    "\n",
    "print(set([u for u,_ in val_original_source]))\n",
    "print(set([u for u,_ in val_original_target]))\n",
    "\n",
    "s_x, s_y, q_x, q_y, _ = next(iter(train_processed_source))\n",
    "print(s_x)\n",
    "\n",
    "# for ds in [\n",
    "#     train_processed_source,\n",
    "#     val_processed_source,\n",
    "#     test_processed_source,\n",
    "#     train_processed_target,\n",
    "#     val_processed_target,\n",
    "#     test_processed_target\n",
    "# ]:\n",
    "#     for s_x, s_y, q_x, q_y, _ in ds:\n",
    "#         for X in (s_x, q_x):\n",
    "#             for x in X:\n",
    "#                 assert np.isclose(get_average_magnitude(x.numpy()), 1.0)\n",
    "#                 assert np.isclose(get_average_power(x.numpy()), 1.0)\n",
    "                "
   ]
  },
  {
   "cell_type": "code",
   "execution_count": 21,
   "id": "bbdacba1",
   "metadata": {
    "execution": {
     "iopub.execute_input": "2022-03-13T19:28:46.495614Z",
     "iopub.status.busy": "2022-03-13T19:28:46.495357Z",
     "iopub.status.idle": "2022-03-13T19:28:46.556543Z",
     "shell.execute_reply": "2022-03-13T19:28:46.556290Z"
    },
    "papermill": {
     "duration": 0.078569,
     "end_time": "2022-03-13T19:28:46.556595",
     "exception": false,
     "start_time": "2022-03-13T19:28:46.478026",
     "status": "completed"
    },
    "tags": []
   },
   "outputs": [
    {
     "name": "stdout",
     "output_type": "stream",
     "text": [
      "(2, 256)\n"
     ]
    }
   ],
   "source": [
    "###################################\n",
    "# Build the model\n",
    "###################################\n",
    "model = Steves_Prototypical_Network(x_net, device=p.device, x_shape=(2,256))\n",
    "optimizer = Adam(params=model.parameters(), lr=p.lr)"
   ]
  },
  {
   "cell_type": "code",
   "execution_count": 22,
   "id": "22b39ac5",
   "metadata": {
    "execution": {
     "iopub.execute_input": "2022-03-13T19:28:46.588655Z",
     "iopub.status.busy": "2022-03-13T19:28:46.588351Z",
     "iopub.status.idle": "2022-03-13T19:37:35.410024Z",
     "shell.execute_reply": "2022-03-13T19:37:35.409795Z"
    },
    "papermill": {
     "duration": 528.838958,
     "end_time": "2022-03-13T19:37:35.410079",
     "exception": false,
     "start_time": "2022-03-13T19:28:46.571121",
     "status": "completed"
    },
    "tags": []
   },
   "outputs": [
    {
     "name": "stdout",
     "output_type": "stream",
     "text": [
      "epoch: 1, [batch: 1 / 735], examples_per_second: 335.6104, train_label_loss: 1.8477, \n"
     ]
    },
    {
     "name": "stdout",
     "output_type": "stream",
     "text": [
      "epoch: 1, [batch: 74 / 735], examples_per_second: 3139.5356, train_label_loss: 0.2139, \n"
     ]
    },
    {
     "name": "stdout",
     "output_type": "stream",
     "text": [
      "epoch: 1, [batch: 147 / 735], examples_per_second: 3170.3060, train_label_loss: 0.4924, \n"
     ]
    },
    {
     "name": "stdout",
     "output_type": "stream",
     "text": [
      "epoch: 1, [batch: 221 / 735], examples_per_second: 3147.5317, train_label_loss: 0.1504, \n"
     ]
    },
    {
     "name": "stdout",
     "output_type": "stream",
     "text": [
      "epoch: 1, [batch: 294 / 735], examples_per_second: 3167.2442, train_label_loss: 0.0364, \n"
     ]
    },
    {
     "name": "stdout",
     "output_type": "stream",
     "text": [
      "epoch: 1, [batch: 368 / 735], examples_per_second: 3169.6276, train_label_loss: 0.1841, \n"
     ]
    },
    {
     "name": "stdout",
     "output_type": "stream",
     "text": [
      "epoch: 1, [batch: 441 / 735], examples_per_second: 3171.1380, train_label_loss: 0.0042, \n"
     ]
    },
    {
     "name": "stdout",
     "output_type": "stream",
     "text": [
      "epoch: 1, [batch: 514 / 735], examples_per_second: 3181.1750, train_label_loss: 0.0163, \n"
     ]
    },
    {
     "name": "stdout",
     "output_type": "stream",
     "text": [
      "epoch: 1, [batch: 588 / 735], examples_per_second: 3184.2412, train_label_loss: 0.0198, \n"
     ]
    },
    {
     "name": "stdout",
     "output_type": "stream",
     "text": [
      "epoch: 1, [batch: 661 / 735], examples_per_second: 3214.3196, train_label_loss: 0.0003, \n"
     ]
    },
    {
     "name": "stdout",
     "output_type": "stream",
     "text": [
      "=============================================================\n",
      "epoch: 1, source_val_acc_label: 0.9788, target_val_acc_label: 0.4267, source_val_label_loss: 0.0695, target_val_label_loss: 2.0011, \n",
      "=============================================================\n"
     ]
    },
    {
     "name": "stdout",
     "output_type": "stream",
     "text": [
      "New best\n"
     ]
    },
    {
     "name": "stdout",
     "output_type": "stream",
     "text": [
      "epoch: 2, [batch: 1 / 734], examples_per_second: 4.4423, train_label_loss: 0.0598, \n"
     ]
    },
    {
     "name": "stdout",
     "output_type": "stream",
     "text": [
      "epoch: 2, [batch: 74 / 734], examples_per_second: 3200.5953, train_label_loss: 0.1399, \n"
     ]
    },
    {
     "name": "stdout",
     "output_type": "stream",
     "text": [
      "epoch: 2, [batch: 147 / 734], examples_per_second: 3192.4074, train_label_loss: 0.0210, \n"
     ]
    },
    {
     "name": "stdout",
     "output_type": "stream",
     "text": [
      "epoch: 2, [batch: 220 / 734], examples_per_second: 3202.3473, train_label_loss: 0.1357, \n"
     ]
    },
    {
     "name": "stdout",
     "output_type": "stream",
     "text": [
      "epoch: 2, [batch: 294 / 734], examples_per_second: 3196.5706, train_label_loss: 0.0000, \n"
     ]
    },
    {
     "name": "stdout",
     "output_type": "stream",
     "text": [
      "epoch: 2, [batch: 367 / 734], examples_per_second: 3191.7564, train_label_loss: 0.1347, \n"
     ]
    },
    {
     "name": "stdout",
     "output_type": "stream",
     "text": [
      "epoch: 2, [batch: 440 / 734], examples_per_second: 3215.6214, train_label_loss: 0.0038, \n"
     ]
    },
    {
     "name": "stdout",
     "output_type": "stream",
     "text": [
      "epoch: 2, [batch: 514 / 734], examples_per_second: 3164.4434, train_label_loss: 0.1263, \n"
     ]
    },
    {
     "name": "stdout",
     "output_type": "stream",
     "text": [
      "epoch: 2, [batch: 587 / 734], examples_per_second: 3183.1866, train_label_loss: 0.0146, \n"
     ]
    },
    {
     "name": "stdout",
     "output_type": "stream",
     "text": [
      "epoch: 2, [batch: 660 / 734], examples_per_second: 3196.6052, train_label_loss: 0.0088, \n"
     ]
    },
    {
     "name": "stdout",
     "output_type": "stream",
     "text": [
      "=============================================================\n",
      "epoch: 2, source_val_acc_label: 0.9903, target_val_acc_label: 0.4048, source_val_label_loss: 0.0309, target_val_label_loss: 1.8823, \n",
      "=============================================================\n"
     ]
    },
    {
     "name": "stdout",
     "output_type": "stream",
     "text": [
      "New best\n"
     ]
    },
    {
     "name": "stdout",
     "output_type": "stream",
     "text": [
      "epoch: 3, [batch: 1 / 734], examples_per_second: 4.4181, train_label_loss: 0.0007, \n"
     ]
    },
    {
     "name": "stdout",
     "output_type": "stream",
     "text": [
      "epoch: 3, [batch: 74 / 734], examples_per_second: 3151.5488, train_label_loss: 0.0012, \n"
     ]
    },
    {
     "name": "stdout",
     "output_type": "stream",
     "text": [
      "epoch: 3, [batch: 147 / 734], examples_per_second: 3157.5138, train_label_loss: 0.0564, \n"
     ]
    },
    {
     "name": "stdout",
     "output_type": "stream",
     "text": [
      "epoch: 3, [batch: 220 / 734], examples_per_second: 3169.7522, train_label_loss: 0.0791, \n"
     ]
    },
    {
     "name": "stdout",
     "output_type": "stream",
     "text": [
      "epoch: 3, [batch: 294 / 734], examples_per_second: 3174.9775, train_label_loss: 0.0191, \n"
     ]
    },
    {
     "name": "stdout",
     "output_type": "stream",
     "text": [
      "epoch: 3, [batch: 367 / 734], examples_per_second: 3171.6681, train_label_loss: 0.0134, \n"
     ]
    },
    {
     "name": "stdout",
     "output_type": "stream",
     "text": [
      "epoch: 3, [batch: 440 / 734], examples_per_second: 3177.5484, train_label_loss: 0.0008, \n"
     ]
    },
    {
     "name": "stdout",
     "output_type": "stream",
     "text": [
      "epoch: 3, [batch: 514 / 734], examples_per_second: 3166.0711, train_label_loss: 0.0115, \n"
     ]
    },
    {
     "name": "stdout",
     "output_type": "stream",
     "text": [
      "epoch: 3, [batch: 587 / 734], examples_per_second: 3149.5117, train_label_loss: 0.0033, \n"
     ]
    },
    {
     "name": "stdout",
     "output_type": "stream",
     "text": [
      "epoch: 3, [batch: 660 / 734], examples_per_second: 3156.5067, train_label_loss: 0.0044, \n"
     ]
    },
    {
     "name": "stdout",
     "output_type": "stream",
     "text": [
      "=============================================================\n",
      "epoch: 3, source_val_acc_label: 0.9928, target_val_acc_label: 0.3872, source_val_label_loss: 0.0257, target_val_label_loss: 1.7827, \n",
      "=============================================================\n"
     ]
    },
    {
     "name": "stdout",
     "output_type": "stream",
     "text": [
      "New best\n"
     ]
    },
    {
     "name": "stdout",
     "output_type": "stream",
     "text": [
      "epoch: 4, [batch: 1 / 734], examples_per_second: 4.4037, train_label_loss: 0.0000, \n"
     ]
    },
    {
     "name": "stdout",
     "output_type": "stream",
     "text": [
      "epoch: 4, [batch: 74 / 734], examples_per_second: 3150.8531, train_label_loss: 0.0127, \n"
     ]
    },
    {
     "name": "stdout",
     "output_type": "stream",
     "text": [
      "epoch: 4, [batch: 147 / 734], examples_per_second: 3203.7035, train_label_loss: 0.0009, \n"
     ]
    },
    {
     "name": "stdout",
     "output_type": "stream",
     "text": [
      "epoch: 4, [batch: 220 / 734], examples_per_second: 3178.3466, train_label_loss: 0.0475, \n"
     ]
    },
    {
     "name": "stdout",
     "output_type": "stream",
     "text": [
      "epoch: 4, [batch: 294 / 734], examples_per_second: 3163.6080, train_label_loss: 0.0529, \n"
     ]
    },
    {
     "name": "stdout",
     "output_type": "stream",
     "text": [
      "epoch: 4, [batch: 367 / 734], examples_per_second: 3207.9542, train_label_loss: 0.0035, \n"
     ]
    },
    {
     "name": "stdout",
     "output_type": "stream",
     "text": [
      "epoch: 4, [batch: 440 / 734], examples_per_second: 3187.2859, train_label_loss: 0.0001, \n"
     ]
    },
    {
     "name": "stdout",
     "output_type": "stream",
     "text": [
      "epoch: 4, [batch: 514 / 734], examples_per_second: 3159.2720, train_label_loss: 0.0000, \n"
     ]
    },
    {
     "name": "stdout",
     "output_type": "stream",
     "text": [
      "epoch: 4, [batch: 587 / 734], examples_per_second: 3171.7132, train_label_loss: 0.0028, \n"
     ]
    },
    {
     "name": "stdout",
     "output_type": "stream",
     "text": [
      "epoch: 4, [batch: 660 / 734], examples_per_second: 3191.3455, train_label_loss: 0.0197, \n"
     ]
    },
    {
     "name": "stdout",
     "output_type": "stream",
     "text": [
      "=============================================================\n",
      "epoch: 4, source_val_acc_label: 0.9978, target_val_acc_label: 0.3540, source_val_label_loss: 0.0098, target_val_label_loss: 1.9248, \n",
      "=============================================================\n"
     ]
    },
    {
     "name": "stdout",
     "output_type": "stream",
     "text": [
      "epoch: 5, [batch: 1 / 737], examples_per_second: 4.4012, train_label_loss: 0.0000, \n"
     ]
    },
    {
     "name": "stdout",
     "output_type": "stream",
     "text": [
      "epoch: 5, [batch: 74 / 737], examples_per_second: 3145.4831, train_label_loss: 0.0014, \n"
     ]
    },
    {
     "name": "stdout",
     "output_type": "stream",
     "text": [
      "epoch: 5, [batch: 148 / 737], examples_per_second: 3168.0678, train_label_loss: 0.0011, \n"
     ]
    },
    {
     "name": "stdout",
     "output_type": "stream",
     "text": [
      "epoch: 5, [batch: 221 / 737], examples_per_second: 3174.9964, train_label_loss: 0.0004, \n"
     ]
    },
    {
     "name": "stdout",
     "output_type": "stream",
     "text": [
      "epoch: 5, [batch: 295 / 737], examples_per_second: 3167.6022, train_label_loss: 0.0066, \n"
     ]
    },
    {
     "name": "stdout",
     "output_type": "stream",
     "text": [
      "epoch: 5, [batch: 369 / 737], examples_per_second: 3168.2113, train_label_loss: 0.0001, \n"
     ]
    },
    {
     "name": "stdout",
     "output_type": "stream",
     "text": [
      "epoch: 5, [batch: 442 / 737], examples_per_second: 3167.4609, train_label_loss: 0.0000, \n"
     ]
    },
    {
     "name": "stdout",
     "output_type": "stream",
     "text": [
      "epoch: 5, [batch: 516 / 737], examples_per_second: 3176.1390, train_label_loss: 0.0030, \n"
     ]
    },
    {
     "name": "stdout",
     "output_type": "stream",
     "text": [
      "epoch: 5, [batch: 589 / 737], examples_per_second: 3185.7488, train_label_loss: 0.1690, \n"
     ]
    },
    {
     "name": "stdout",
     "output_type": "stream",
     "text": [
      "epoch: 5, [batch: 663 / 737], examples_per_second: 3175.2617, train_label_loss: 0.0097, \n"
     ]
    },
    {
     "name": "stdout",
     "output_type": "stream",
     "text": [
      "=============================================================\n",
      "epoch: 5, source_val_acc_label: 0.9959, target_val_acc_label: 0.3369, source_val_label_loss: 0.0147, target_val_label_loss: 1.9214, \n",
      "=============================================================\n"
     ]
    },
    {
     "name": "stdout",
     "output_type": "stream",
     "text": [
      "epoch: 6, [batch: 1 / 733], examples_per_second: 4.4025, train_label_loss: 0.0000, \n"
     ]
    },
    {
     "name": "stdout",
     "output_type": "stream",
     "text": [
      "epoch: 6, [batch: 74 / 733], examples_per_second: 3134.5562, train_label_loss: 0.0003, \n"
     ]
    },
    {
     "name": "stdout",
     "output_type": "stream",
     "text": [
      "epoch: 6, [batch: 147 / 733], examples_per_second: 3159.5486, train_label_loss: 0.0006, \n"
     ]
    },
    {
     "name": "stdout",
     "output_type": "stream",
     "text": [
      "epoch: 6, [batch: 220 / 733], examples_per_second: 3168.5512, train_label_loss: 0.0000, \n"
     ]
    },
    {
     "name": "stdout",
     "output_type": "stream",
     "text": [
      "epoch: 6, [batch: 293 / 733], examples_per_second: 3157.6294, train_label_loss: 0.0038, \n"
     ]
    },
    {
     "name": "stdout",
     "output_type": "stream",
     "text": [
      "epoch: 6, [batch: 367 / 733], examples_per_second: 3201.5297, train_label_loss: 0.0000, \n"
     ]
    },
    {
     "name": "stdout",
     "output_type": "stream",
     "text": [
      "epoch: 6, [batch: 440 / 733], examples_per_second: 3229.3018, train_label_loss: 0.0018, \n"
     ]
    },
    {
     "name": "stdout",
     "output_type": "stream",
     "text": [
      "epoch: 6, [batch: 513 / 733], examples_per_second: 3184.1917, train_label_loss: 0.0000, \n"
     ]
    },
    {
     "name": "stdout",
     "output_type": "stream",
     "text": [
      "epoch: 6, [batch: 586 / 733], examples_per_second: 3190.8201, train_label_loss: 0.0210, \n"
     ]
    },
    {
     "name": "stdout",
     "output_type": "stream",
     "text": [
      "epoch: 6, [batch: 659 / 733], examples_per_second: 3172.3754, train_label_loss: 0.0741, \n"
     ]
    },
    {
     "name": "stdout",
     "output_type": "stream",
     "text": [
      "=============================================================\n",
      "epoch: 6, source_val_acc_label: 0.9956, target_val_acc_label: 0.3884, source_val_label_loss: 0.0161, target_val_label_loss: 1.6653, \n",
      "=============================================================\n"
     ]
    },
    {
     "name": "stdout",
     "output_type": "stream",
     "text": [
      "New best\n"
     ]
    },
    {
     "name": "stdout",
     "output_type": "stream",
     "text": [
      "epoch: 7, [batch: 1 / 732], examples_per_second: 4.4129, train_label_loss: 0.0000, \n"
     ]
    },
    {
     "name": "stdout",
     "output_type": "stream",
     "text": [
      "epoch: 7, [batch: 74 / 732], examples_per_second: 3161.1237, train_label_loss: 0.0014, \n"
     ]
    },
    {
     "name": "stdout",
     "output_type": "stream",
     "text": [
      "epoch: 7, [batch: 147 / 732], examples_per_second: 3184.5899, train_label_loss: 0.0080, \n"
     ]
    },
    {
     "name": "stdout",
     "output_type": "stream",
     "text": [
      "epoch: 7, [batch: 220 / 732], examples_per_second: 3130.2632, train_label_loss: 0.0000, \n"
     ]
    },
    {
     "name": "stdout",
     "output_type": "stream",
     "text": [
      "epoch: 7, [batch: 293 / 732], examples_per_second: 3173.5817, train_label_loss: 0.0001, \n"
     ]
    },
    {
     "name": "stdout",
     "output_type": "stream",
     "text": [
      "epoch: 7, [batch: 366 / 732], examples_per_second: 3177.5537, train_label_loss: 0.0011, \n"
     ]
    },
    {
     "name": "stdout",
     "output_type": "stream",
     "text": [
      "epoch: 7, [batch: 439 / 732], examples_per_second: 3164.5481, train_label_loss: 0.0983, \n"
     ]
    },
    {
     "name": "stdout",
     "output_type": "stream",
     "text": [
      "epoch: 7, [batch: 512 / 732], examples_per_second: 3167.1083, train_label_loss: 0.0000, \n"
     ]
    },
    {
     "name": "stdout",
     "output_type": "stream",
     "text": [
      "epoch: 7, [batch: 585 / 732], examples_per_second: 3182.1205, train_label_loss: 0.0002, \n"
     ]
    },
    {
     "name": "stdout",
     "output_type": "stream",
     "text": [
      "epoch: 7, [batch: 658 / 732], examples_per_second: 3172.7029, train_label_loss: 0.0023, \n"
     ]
    },
    {
     "name": "stdout",
     "output_type": "stream",
     "text": [
      "=============================================================\n",
      "epoch: 7, source_val_acc_label: 0.9944, target_val_acc_label: 0.3544, source_val_label_loss: 0.0244, target_val_label_loss: 1.7782, \n",
      "=============================================================\n"
     ]
    },
    {
     "name": "stdout",
     "output_type": "stream",
     "text": [
      "epoch: 8, [batch: 1 / 737], examples_per_second: 4.4154, train_label_loss: 0.0001, \n"
     ]
    },
    {
     "name": "stdout",
     "output_type": "stream",
     "text": [
      "epoch: 8, [batch: 74 / 737], examples_per_second: 3150.2173, train_label_loss: 0.0005, \n"
     ]
    },
    {
     "name": "stdout",
     "output_type": "stream",
     "text": [
      "epoch: 8, [batch: 148 / 737], examples_per_second: 3155.5097, train_label_loss: 0.0000, \n"
     ]
    },
    {
     "name": "stdout",
     "output_type": "stream",
     "text": [
      "epoch: 8, [batch: 221 / 737], examples_per_second: 3170.5317, train_label_loss: 0.0000, \n"
     ]
    },
    {
     "name": "stdout",
     "output_type": "stream",
     "text": [
      "epoch: 8, [batch: 295 / 737], examples_per_second: 3144.3980, train_label_loss: 0.0000, \n"
     ]
    },
    {
     "name": "stdout",
     "output_type": "stream",
     "text": [
      "epoch: 8, [batch: 369 / 737], examples_per_second: 3167.8391, train_label_loss: 0.1016, \n"
     ]
    },
    {
     "name": "stdout",
     "output_type": "stream",
     "text": [
      "epoch: 8, [batch: 442 / 737], examples_per_second: 3154.6575, train_label_loss: 0.1100, \n"
     ]
    },
    {
     "name": "stdout",
     "output_type": "stream",
     "text": [
      "epoch: 8, [batch: 516 / 737], examples_per_second: 3144.6027, train_label_loss: 0.0002, \n"
     ]
    },
    {
     "name": "stdout",
     "output_type": "stream",
     "text": [
      "epoch: 8, [batch: 589 / 737], examples_per_second: 3171.9843, train_label_loss: 0.0001, \n"
     ]
    },
    {
     "name": "stdout",
     "output_type": "stream",
     "text": [
      "epoch: 8, [batch: 663 / 737], examples_per_second: 3171.9850, train_label_loss: 0.0000, \n"
     ]
    },
    {
     "name": "stdout",
     "output_type": "stream",
     "text": [
      "=============================================================\n",
      "epoch: 8, source_val_acc_label: 0.9947, target_val_acc_label: 0.3496, source_val_label_loss: 0.0115, target_val_label_loss: 1.8281, \n",
      "=============================================================\n"
     ]
    },
    {
     "name": "stdout",
     "output_type": "stream",
     "text": [
      "epoch: 9, [batch: 1 / 731], examples_per_second: 4.4151, train_label_loss: 0.0000, \n"
     ]
    },
    {
     "name": "stdout",
     "output_type": "stream",
     "text": [
      "epoch: 9, [batch: 74 / 731], examples_per_second: 3133.8612, train_label_loss: 0.0004, \n"
     ]
    },
    {
     "name": "stdout",
     "output_type": "stream",
     "text": [
      "epoch: 9, [batch: 147 / 731], examples_per_second: 3210.3364, train_label_loss: 0.0000, \n"
     ]
    },
    {
     "name": "stdout",
     "output_type": "stream",
     "text": [
      "epoch: 9, [batch: 220 / 731], examples_per_second: 3217.0856, train_label_loss: 0.0000, \n"
     ]
    },
    {
     "name": "stdout",
     "output_type": "stream",
     "text": [
      "epoch: 9, [batch: 293 / 731], examples_per_second: 3195.1741, train_label_loss: 0.0002, \n"
     ]
    },
    {
     "name": "stdout",
     "output_type": "stream",
     "text": [
      "epoch: 9, [batch: 366 / 731], examples_per_second: 3178.5268, train_label_loss: 0.0001, \n"
     ]
    },
    {
     "name": "stdout",
     "output_type": "stream",
     "text": [
      "epoch: 9, [batch: 439 / 731], examples_per_second: 3160.3260, train_label_loss: 0.0107, \n"
     ]
    },
    {
     "name": "stdout",
     "output_type": "stream",
     "text": [
      "epoch: 9, [batch: 512 / 731], examples_per_second: 3197.8956, train_label_loss: 0.0000, \n"
     ]
    },
    {
     "name": "stdout",
     "output_type": "stream",
     "text": [
      "epoch: 9, [batch: 585 / 731], examples_per_second: 3180.4315, train_label_loss: 0.0000, \n"
     ]
    },
    {
     "name": "stdout",
     "output_type": "stream",
     "text": [
      "epoch: 9, [batch: 658 / 731], examples_per_second: 3184.0688, train_label_loss: 0.0000, \n"
     ]
    },
    {
     "name": "stdout",
     "output_type": "stream",
     "text": [
      "=============================================================\n",
      "epoch: 9, source_val_acc_label: 0.9953, target_val_acc_label: 0.3392, source_val_label_loss: 0.0225, target_val_label_loss: 1.7976, \n",
      "=============================================================\n"
     ]
    },
    {
     "name": "stdout",
     "output_type": "stream",
     "text": [
      "epoch: 10, [batch: 1 / 734], examples_per_second: 4.3827, train_label_loss: 0.0004, \n"
     ]
    },
    {
     "name": "stdout",
     "output_type": "stream",
     "text": [
      "epoch: 10, [batch: 74 / 734], examples_per_second: 3134.3171, train_label_loss: 0.0007, \n"
     ]
    },
    {
     "name": "stdout",
     "output_type": "stream",
     "text": [
      "epoch: 10, [batch: 147 / 734], examples_per_second: 3175.3438, train_label_loss: 0.0002, \n"
     ]
    },
    {
     "name": "stdout",
     "output_type": "stream",
     "text": [
      "epoch: 10, [batch: 220 / 734], examples_per_second: 3166.9781, train_label_loss: 0.0132, \n"
     ]
    },
    {
     "name": "stdout",
     "output_type": "stream",
     "text": [
      "epoch: 10, [batch: 294 / 734], examples_per_second: 3162.8488, train_label_loss: 0.0000, \n"
     ]
    },
    {
     "name": "stdout",
     "output_type": "stream",
     "text": [
      "epoch: 10, [batch: 367 / 734], examples_per_second: 3152.9629, train_label_loss: 0.0001, \n"
     ]
    },
    {
     "name": "stdout",
     "output_type": "stream",
     "text": [
      "epoch: 10, [batch: 440 / 734], examples_per_second: 3156.5173, train_label_loss: 0.1223, \n"
     ]
    },
    {
     "name": "stdout",
     "output_type": "stream",
     "text": [
      "epoch: 10, [batch: 514 / 734], examples_per_second: 3144.0460, train_label_loss: 0.0000, \n"
     ]
    },
    {
     "name": "stdout",
     "output_type": "stream",
     "text": [
      "epoch: 10, [batch: 587 / 734], examples_per_second: 3210.1723, train_label_loss: 0.0000, \n"
     ]
    },
    {
     "name": "stdout",
     "output_type": "stream",
     "text": [
      "epoch: 10, [batch: 660 / 734], examples_per_second: 3222.2042, train_label_loss: 0.0000, \n"
     ]
    },
    {
     "name": "stdout",
     "output_type": "stream",
     "text": [
      "=============================================================\n",
      "epoch: 10, source_val_acc_label: 0.9962, target_val_acc_label: 0.3611, source_val_label_loss: 0.0124, target_val_label_loss: 1.7670, \n",
      "=============================================================\n"
     ]
    },
    {
     "name": "stdout",
     "output_type": "stream",
     "text": [
      "Patience (3) exhausted\n"
     ]
    }
   ],
   "source": [
    "###################################\n",
    "# train\n",
    "###################################\n",
    "jig = PTN_Train_Eval_Test_Jig(model, p.BEST_MODEL_PATH, p.device)\n",
    "\n",
    "jig.train(\n",
    "    train_iterable=datasets.source.processed.train,\n",
    "    source_val_iterable=datasets.source.processed.val,\n",
    "    target_val_iterable=datasets.target.processed.val,\n",
    "    num_epochs=p.n_epoch,\n",
    "    num_logs_per_epoch=p.NUM_LOGS_PER_EPOCH,\n",
    "    patience=p.patience,\n",
    "    optimizer=optimizer,\n",
    "    criteria_for_best=p.criteria_for_best,\n",
    ")"
   ]
  },
  {
   "cell_type": "code",
   "execution_count": 23,
   "id": "31e8fabf",
   "metadata": {
    "execution": {
     "iopub.execute_input": "2022-03-13T19:37:35.482237Z",
     "iopub.status.busy": "2022-03-13T19:37:35.481747Z",
     "iopub.status.idle": "2022-03-13T19:37:35.498986Z",
     "shell.execute_reply": "2022-03-13T19:37:35.498527Z"
    },
    "papermill": {
     "duration": 0.054875,
     "end_time": "2022-03-13T19:37:35.499076",
     "exception": false,
     "start_time": "2022-03-13T19:37:35.444201",
     "status": "completed"
    },
    "tags": []
   },
   "outputs": [],
   "source": [
    "total_experiment_time_secs = time.time() - start_time_secs"
   ]
  },
  {
   "cell_type": "code",
   "execution_count": 24,
   "id": "87b9595b",
   "metadata": {
    "execution": {
     "iopub.execute_input": "2022-03-13T19:37:35.579128Z",
     "iopub.status.busy": "2022-03-13T19:37:35.578832Z",
     "iopub.status.idle": "2022-03-13T19:41:42.665710Z",
     "shell.execute_reply": "2022-03-13T19:41:42.666112Z"
    },
    "papermill": {
     "duration": 247.128718,
     "end_time": "2022-03-13T19:41:42.666243",
     "exception": false,
     "start_time": "2022-03-13T19:37:35.537525",
     "status": "completed"
    },
    "tags": []
   },
   "outputs": [],
   "source": [
    "###################################\n",
    "# Evaluate the model\n",
    "###################################\n",
    "source_test_label_accuracy, source_test_label_loss = jig.test(datasets.source.processed.test)\n",
    "target_test_label_accuracy, target_test_label_loss = jig.test(datasets.target.processed.test)\n",
    "\n",
    "source_val_label_accuracy, source_val_label_loss = jig.test(datasets.source.processed.val)\n",
    "target_val_label_accuracy, target_val_label_loss = jig.test(datasets.target.processed.val)\n",
    "\n",
    "history = jig.get_history()\n",
    "\n",
    "total_epochs_trained = len(history[\"epoch_indices\"])\n",
    "\n",
    "val_dl = Iterable_Aggregator((datasets.source.original.val,datasets.target.original.val))\n",
    "\n",
    "confusion = ptn_confusion_by_domain_over_dataloader(model, p.device, val_dl)\n",
    "per_domain_accuracy = per_domain_accuracy_from_confusion(confusion)\n",
    "\n",
    "# Add a key to per_domain_accuracy for if it was a source domain\n",
    "for domain, accuracy in per_domain_accuracy.items():\n",
    "    per_domain_accuracy[domain] = {\n",
    "        \"accuracy\": accuracy,\n",
    "        \"source?\": domain in p.domains_source\n",
    "    }\n",
    "\n",
    "# Do an independent accuracy assesment JUST TO BE SURE!\n",
    "# _source_test_label_accuracy = independent_accuracy_assesment(model, datasets.source.processed.test, p.device)\n",
    "# _target_test_label_accuracy = independent_accuracy_assesment(model, datasets.target.processed.test, p.device)\n",
    "# _source_val_label_accuracy = independent_accuracy_assesment(model, datasets.source.processed.val, p.device)\n",
    "# _target_val_label_accuracy = independent_accuracy_assesment(model, datasets.target.processed.val, p.device)\n",
    "\n",
    "# assert(_source_test_label_accuracy == source_test_label_accuracy)\n",
    "# assert(_target_test_label_accuracy == target_test_label_accuracy)\n",
    "# assert(_source_val_label_accuracy == source_val_label_accuracy)\n",
    "# assert(_target_val_label_accuracy == target_val_label_accuracy)\n",
    "\n",
    "experiment = {\n",
    "    \"experiment_name\": p.experiment_name,\n",
    "    \"parameters\": dict(p),\n",
    "    \"results\": {\n",
    "        \"source_test_label_accuracy\": source_test_label_accuracy,\n",
    "        \"source_test_label_loss\": source_test_label_loss,\n",
    "        \"target_test_label_accuracy\": target_test_label_accuracy,\n",
    "        \"target_test_label_loss\": target_test_label_loss,\n",
    "        \"source_val_label_accuracy\": source_val_label_accuracy,\n",
    "        \"source_val_label_loss\": source_val_label_loss,\n",
    "        \"target_val_label_accuracy\": target_val_label_accuracy,\n",
    "        \"target_val_label_loss\": target_val_label_loss,\n",
    "        \"total_epochs_trained\": total_epochs_trained,\n",
    "        \"total_experiment_time_secs\": total_experiment_time_secs,\n",
    "        \"confusion\": confusion,\n",
    "        \"per_domain_accuracy\": per_domain_accuracy,\n",
    "    },\n",
    "    \"history\": history,\n",
    "    \"dataset_metrics\": get_dataset_metrics(datasets, \"ptn\"),\n",
    "}"
   ]
  },
  {
   "cell_type": "code",
   "execution_count": 25,
   "id": "54a21829",
   "metadata": {
    "execution": {
     "iopub.execute_input": "2022-03-13T19:41:42.743288Z",
     "iopub.status.busy": "2022-03-13T19:41:42.743035Z",
     "iopub.status.idle": "2022-03-13T19:41:42.930175Z",
     "shell.execute_reply": "2022-03-13T19:41:42.929719Z"
    },
    "papermill": {
     "duration": 0.223395,
     "end_time": "2022-03-13T19:41:42.930265",
     "exception": false,
     "start_time": "2022-03-13T19:41:42.706870",
     "status": "completed"
    },
    "tags": []
   },
   "outputs": [
    {
     "data": {
      "image/png": "[encoded data removed]",
      "text/plain": [
       "<Figure size 1080x504 with 1 Axes>"
      ]
     },
     "metadata": {
      "needs_background": "light"
     },
     "output_type": "display_data"
    }
   ],
   "source": [
    "ax = get_loss_curve(experiment)\n",
    "plt.show()"
   ]
  },
  {
   "cell_type": "code",
   "execution_count": 26,
   "id": "fd8a0f60",
   "metadata": {
    "execution": {
     "iopub.execute_input": "2022-03-13T19:41:43.007669Z",
     "iopub.status.busy": "2022-03-13T19:41:43.007405Z",
     "iopub.status.idle": "2022-03-13T19:41:43.184902Z",
     "shell.execute_reply": "2022-03-13T19:41:43.185112Z"
    },
    "papermill": {
     "duration": 0.215324,
     "end_time": "2022-03-13T19:41:43.185173",
     "exception": false,
     "start_time": "2022-03-13T19:41:42.969849",
     "status": "completed"
    },
    "tags": []
   },
   "outputs": [
    {
     "data": {
      "text/plain": [
       "<matplotlib.axes._subplots.AxesSubplot at 0x7feb9d24b7c0>"
      ]
     },
     "execution_count": 26,
     "metadata": {},
     "output_type": "execute_result"
    },
    {
     "data": {
      "image/png": "[encoded data removed]",
      "text/plain": [
       "<Figure size 1080x504 with 1 Axes>"
      ]
     },
     "metadata": {
      "needs_background": "light"
     },
     "output_type": "display_data"
    }
   ],
   "source": [
    "get_results_table(experiment)"
   ]
  },
  {
   "cell_type": "code",
   "execution_count": 27,
   "id": "cf8dc689",
   "metadata": {
    "execution": {
     "iopub.execute_input": "2022-03-13T19:41:43.261302Z",
     "iopub.status.busy": "2022-03-13T19:41:43.261056Z",
     "iopub.status.idle": "2022-03-13T19:41:43.466415Z",
     "shell.execute_reply": "2022-03-13T19:41:43.465997Z"
    },
    "papermill": {
     "duration": 0.244071,
     "end_time": "2022-03-13T19:41:43.466508",
     "exception": false,
     "start_time": "2022-03-13T19:41:43.222437",
     "status": "completed"
    },
    "tags": []
   },
   "outputs": [
    {
     "data": {
      "text/plain": [
       "<matplotlib.axes._subplots.AxesSubplot at 0x7feb9c895a60>"
      ]
     },
     "execution_count": 27,
     "metadata": {},
     "output_type": "execute_result"
    },
    {
     "data": {
      "image/png": "[encoded data removed]",
      "text/plain": [
       "<Figure size 1080x504 with 1 Axes>"
      ]
     },
     "metadata": {
      "needs_background": "light"
     },
     "output_type": "display_data"
    }
   ],
   "source": [
    "get_domain_accuracies(experiment)"
   ]
  },
  {
   "cell_type": "code",
   "execution_count": 28,
   "id": "a74ae082",
   "metadata": {
    "execution": {
     "iopub.execute_input": "2022-03-13T19:41:43.550570Z",
     "iopub.status.busy": "2022-03-13T19:41:43.550313Z",
     "iopub.status.idle": "2022-03-13T19:41:43.567076Z",
     "shell.execute_reply": "2022-03-13T19:41:43.566622Z"
    },
    "papermill": {
     "duration": 0.056798,
     "end_time": "2022-03-13T19:41:43.567168",
     "exception": false,
     "start_time": "2022-03-13T19:41:43.510370",
     "status": "completed"
    },
    "tags": []
   },
   "outputs": [
    {
     "name": "stdout",
     "output_type": "stream",
     "text": [
      "Source Test Label Accuracy: 0.996875 Target Test Label Accuracy: 0.38608723958333335\n",
      "Source Val Label Accuracy: 0.995625 Target Val Label Accuracy: 0.38837890625\n"
     ]
    }
   ],
   "source": [
    "print(\"Source Test Label Accuracy:\", experiment[\"results\"][\"source_test_label_accuracy\"], \"Target Test Label Accuracy:\", experiment[\"results\"][\"target_test_label_accuracy\"])\n",
    "print(\"Source Val Label Accuracy:\", experiment[\"results\"][\"source_val_label_accuracy\"], \"Target Val Label Accuracy:\", experiment[\"results\"][\"target_val_label_accuracy\"])"
   ]
  },
  {
   "cell_type": "code",
   "execution_count": 29,
   "id": "dacca602",
   "metadata": {
    "execution": {
     "iopub.execute_input": "2022-03-13T19:41:43.648811Z",
     "iopub.status.busy": "2022-03-13T19:41:43.648562Z",
     "iopub.status.idle": "2022-03-13T19:41:43.659955Z",
     "shell.execute_reply": "2022-03-13T19:41:43.660159Z"
    },
    "papermill": {
     "duration": 0.051123,
     "end_time": "2022-03-13T19:41:43.660216",
     "exception": false,
     "start_time": "2022-03-13T19:41:43.609093",
     "status": "completed"
    },
    "tags": [
     "experiment_json"
    ]
   },
   "outputs": [
    {
     "data": {
      "text/plain": [
       "'{\"experiment_name\": \"tl_1_cores-oracle.run1\", \"parameters\": {\"experiment_name\": \"tl_1_cores-oracle.run1\", \"device\": \"cuda\", \"lr\": 0.001, \"seed\": 1337, \"dataset_seed\": 1337, \"n_shot\": 3, \"n_query\": 2, \"train_k_factor\": 3, \"val_k_factor\": 2, \"test_k_factor\": 2, \"torch_default_dtype\": \"torch.float32\", \"n_epoch\": 50, \"patience\": 3, \"criteria_for_best\": \"target_loss\", \"x_net\": [{\"class\": \"nnReshape\", \"kargs\": {\"shape\": [-1, 1, 2, 256]}}, {\"class\": \"Conv2d\", \"kargs\": {\"in_channels\": 1, \"out_channels\": 256, \"kernel_size\": [1, 7], \"bias\": false, \"padding\": [0, 3]}}, {\"class\": \"ReLU\", \"kargs\": {\"inplace\": true}}, {\"class\": \"BatchNorm2d\", \"kargs\": {\"num_features\": 256}}, {\"class\": \"Conv2d\", \"kargs\": {\"in_channels\": 256, \"out_channels\": 80, \"kernel_size\": [2, 7], \"bias\": true, \"padding\": [0, 3]}}, {\"class\": \"ReLU\", \"kargs\": {\"inplace\": true}}, {\"class\": \"BatchNorm2d\", \"kargs\": {\"num_features\": 80}}, {\"class\": \"Flatten\", \"kargs\": {}}, {\"class\": \"Linear\", \"kargs\": {\"in_features\": 20480, \"out_features\": 256}}, {\"class\": \"ReLU\", \"kargs\": {\"inplace\": true}}, {\"class\": \"BatchNorm1d\", \"kargs\": {\"num_features\": 256}}, {\"class\": \"Linear\", \"kargs\": {\"in_features\": 256, \"out_features\": 256}}], \"NUM_LOGS_PER_EPOCH\": 10, \"BEST_MODEL_PATH\": \"./best_model.pth\", \"n_way\": 16, \"datasets\": [{\"labels\": [\"1-10.\", \"1-11.\", \"1-15.\", \"1-16.\", \"1-17.\", \"1-18.\", \"1-19.\", \"10-4.\", \"10-7.\", \"11-1.\", \"11-14.\", \"11-17.\", \"11-20.\", \"11-7.\", \"13-20.\", \"13-8.\", \"14-10.\", \"14-11.\", \"14-14.\", \"14-7.\", \"15-1.\", \"15-20.\", \"16-1.\", \"16-16.\", \"17-10.\", \"17-11.\", \"17-2.\", \"19-1.\", \"19-16.\", \"19-19.\", \"19-20.\", \"19-3.\", \"2-10.\", \"2-11.\", \"2-17.\", \"2-18.\", \"2-20.\", \"2-3.\", \"2-4.\", \"2-5.\", \"2-6.\", \"2-7.\", \"2-8.\", \"3-13.\", \"3-18.\", \"3-3.\", \"4-1.\", \"4-10.\", \"4-11.\", \"4-19.\", \"5-5.\", \"6-15.\", \"7-10.\", \"7-14.\", \"8-18.\", \"8-20.\", \"8-3.\", \"8-8.\"], \"domains\": [1, 2, 3, 4, 5], \"num_examples_per_domain_per_label\": 100, \"pickle_path\": \"/mnt/wd500GB/CSC500/csc500-main/datasets/cores.stratified_ds.2022A.pkl\", \"source_or_target_dataset\": \"source\", \"x_transforms\": [], \"episode_transforms\": [], \"domain_prefix\": \"CORES_\"}, {\"labels\": [\"3123D52\", \"3123D65\", \"3123D79\", \"3123D80\", \"3123D54\", \"3123D70\", \"3123D7B\", \"3123D89\", \"3123D58\", \"3123D76\", \"3123D7D\", \"3123EFE\", \"3123D64\", \"3123D78\", \"3123D7E\", \"3124E4A\"], \"domains\": [32, 38, 8, 44, 14, 50, 20, 26], \"num_examples_per_domain_per_label\": 10000, \"pickle_path\": \"/mnt/wd500GB/CSC500/csc500-main/datasets/oracle.Run1_10kExamples_stratified_ds.2022A.pkl\", \"source_or_target_dataset\": \"target\", \"x_transforms\": [], \"episode_transforms\": [], \"domain_prefix\": \"ORACLE.run1_\"}], \"domains_source\": [\"CORES_1\", \"CORES_2\", \"CORES_3\", \"CORES_4\", \"CORES_5\"], \"domains_target\": [\"ORACLE.run1_32\", \"ORACLE.run1_38\", \"ORACLE.run1_8\", \"ORACLE.run1_44\", \"ORACLE.run1_14\", \"ORACLE.run1_50\", \"ORACLE.run1_20\", \"ORACLE.run1_26\"]}, \"results\": {\"source_test_label_accuracy\": 0.996875, \"source_test_label_loss\": 0.007816285826265812, \"target_test_label_accuracy\": 0.38608723958333335, \"target_test_label_loss\": 1.669316053390503, \"source_val_label_accuracy\": 0.995625, \"source_val_label_loss\": 0.016052495688199997, \"target_val_label_accuracy\": 0.38837890625, \"target_val_label_loss\": 1.665295124053955, \"total_epochs_trained\": 10, \"total_experiment_time_secs\": 548.0152039527893, \"confusion\": {\"CORES_3\": {\"43\": {\"43\": 12}, \"9\": {\"9\": 12}, \"6\": {\"6\": 10}, \"3\": {\"3\": 12}, \"16\": {\"16\": 12}, \"51\": {\"51\": 12}, \"31\": {\"31\": 12}, \"46\": {\"46\": 10}, \"19\": {\"19\": 8}, \"8\": {\"8\": 12}, \"18\": {\"18\": 12}, \"37\": {\"37\": 12}, \"24\": {\"24\": 12}, \"10\": {\"10\": 12}, \"44\": {\"44\": 10}, \"14\": {\"14\": 12}, \"38\": {\"38\": 10}, \"53\": {\"53\": 12}, \"20\": {\"20\": 12}, \"32\": {\"32\": 12}, \"36\": {\"36\": 10}, \"33\": {\"33\": 12}, \"56\": {\"56\": 12}, \"23\": {\"23\": 12}, \"54\": {\"54\": 10}, \"34\": {\"34\": 12}, \"13\": {\"13\": 12}, \"2\": {\"2\": 12}, \"55\": {\"55\": 10}, \"21\": {\"21\": 10}, \"49\": {\"49\": 10}, \"25\": {\"25\": 12}, \"5\": {\"5\": 12}, \"50\": {\"50\": 8}, \"40\": {\"40\": 12}, \"57\": {\"57\": 8}, \"22\": {\"22\": 10}, \"1\": {\"1\": 10}, \"17\": {\"17\": 12}, \"41\": {\"41\": 12}, \"4\": {\"4\": 10}, \"7\": {\"7\": 10}, \"26\": {\"26\": 10}, \"29\": {\"29\": 12}, \"52\": {\"52\": 12}, \"15\": {\"15\": 12}, \"35\": {\"35\": 12}, \"42\": {\"42\": 12}, \"30\": {\"30\": 10}, \"27\": {\"27\": 8}, \"45\": {\"45\": 10}, \"0\": {\"0\": 12}, \"28\": {\"28\": 12}, \"47\": {\"47\": 12}, \"11\": {\"11\": 10}, \"39\": {\"39\": 10}, \"48\": {\"41\": 1, \"48\": 11}, \"12\": {\"12\": 8}}, \"CORES_4\": {\"35\": {\"35\": 10}, \"25\": {\"25\": 12}, \"24\": {\"24\": 10}, \"48\": {\"48\": 12}, \"51\": {\"51\": 12}, \"13\": {\"13\": 12}, \"14\": {\"14\": 7, \"0\": 1}, \"32\": {\"32\": 12}, \"30\": {\"30\": 12}, \"34\": {\"34\": 10}, \"9\": {\"9\": 12}, \"1\": {\"1\": 12}, \"0\": {\"0\": 12}, \"38\": {\"38\": 12}, \"22\": {\"22\": 8}, \"40\": {\"40\": 12}, \"39\": {\"39\": 12}, \"46\": {\"46\": 12}, \"36\": {\"36\": 12}, \"50\": {\"50\": 11, \"5\": 1}, \"49\": {\"49\": 12}, \"17\": {\"17\": 12}, \"45\": {\"45\": 12}, \"6\": {\"6\": 12}, \"8\": {\"8\": 12}, \"5\": {\"5\": 10}, \"33\": {\"33\": 12}, \"31\": {\"31\": 12}, \"37\": {\"37\": 10}, \"47\": {\"47\": 8}, \"15\": {\"15\": 10}, \"7\": {\"7\": 12}, \"20\": {\"20\": 12}, \"4\": {\"4\": 12}, \"54\": {\"54\": 12}, \"44\": {\"44\": 12}, \"3\": {\"3\": 12}, \"11\": {\"11\": 9, \"15\": 1}, \"27\": {\"27\": 10}, \"19\": {\"19\": 12}, \"55\": {\"55\": 12}, \"16\": {\"16\": 12}, \"2\": {\"2\": 10}, \"52\": {\"52\": 10}, \"42\": {\"42\": 10}, \"26\": {\"26\": 12}, \"10\": {\"10\": 12}, \"53\": {\"53\": 10}, \"28\": {\"28\": 11, \"17\": 1}, \"21\": {\"21\": 10}, \"57\": {\"57\": 10}, \"23\": {\"23\": 8}, \"43\": {\"43\": 10}, \"12\": {\"12\": 12}, \"41\": {\"41\": 12}, \"56\": {\"56\": 8}, \"18\": {\"18\": 10}, \"29\": {\"29\": 8}}, \"CORES_5\": {\"47\": {\"47\": 10}, \"53\": {\"53\": 12}, \"29\": {\"29\": 12}, \"52\": {\"52\": 12}, \"55\": {\"55\": 12}, \"17\": {\"17\": 12}, \"42\": {\"42\": 12}, \"33\": {\"33\": 10}, \"11\": {\"11\": 12}, \"19\": {\"19\": 8}, \"1\": {\"1\": 12}, \"44\": {\"44\": 12}, \"49\": {\"49\": 12}, \"4\": {\"4\": 12}, \"6\": {\"6\": 12}, \"39\": {\"39\": 12}, \"13\": {\"13\": 12}, \"5\": {\"5\": 10}, \"16\": {\"16\": 10}, \"25\": {\"25\": 12}, \"45\": {\"45\": 12}, \"7\": {\"7\": 10}, \"22\": {\"22\": 11, \"56\": 1}, \"40\": {\"40\": 12}, \"38\": {\"38\": 11, \"48\": 1}, \"35\": {\"35\": 8}, \"56\": {\"56\": 12}, \"50\": {\"50\": 9, \"6\": 1}, \"0\": {\"0\": 12}, \"10\": {\"10\": 12}, \"27\": {\"27\": 12}, \"20\": {\"20\": 10}, \"36\": {\"36\": 8}, \"34\": {\"34\": 12}, \"30\": {\"30\": 12}, \"2\": {\"2\": 10}, \"15\": {\"15\": 12}, \"18\": {\"18\": 12}, \"32\": {\"32\": 12}, \"31\": {\"31\": 12}, \"57\": {\"57\": 12}, \"48\": {\"48\": 8}, \"28\": {\"28\": 10}, \"14\": {\"14\": 9, \"49\": 1, \"29\": 2}, \"3\": {\"3\": 12}, \"8\": {\"8\": 12}, \"9\": {\"9\": 12}, \"21\": {\"21\": 10}, \"41\": {\"41\": 12}, \"24\": {\"24\": 12}, \"46\": {\"46\": 10}, \"43\": {\"43\": 10}, \"54\": {\"54\": 10}, \"23\": {\"23\": 10}, \"37\": {\"37\": 10}, \"12\": {\"12\": 10}, \"26\": {\"26\": 10}, \"51\": {\"51\": 6}}, \"CORES_1\": {\"46\": {\"46\": 12}, \"16\": {\"16\": 12}, \"26\": {\"26\": 12}, \"10\": {\"10\": 12}, \"9\": {\"9\": 10}, \"28\": {\"28\": 12}, \"51\": {\"51\": 12}, \"1\": {\"1\": 12}, \"55\": {\"55\": 12}, \"27\": {\"27\": 10}, \"22\": {\"22\": 12}, \"52\": {\"52\": 12}, \"3\": {\"3\": 12}, \"33\": {\"33\": 8}, \"47\": {\"47\": 12}, \"42\": {\"42\": 12}, \"12\": {\"12\": 4}, \"23\": {\"23\": 12}, \"49\": {\"49\": 10}, \"7\": {\"7\": 12}, \"4\": {\"4\": 12}, \"50\": {\"50\": 12}, \"19\": {\"19\": 12}, \"11\": {\"11\": 12}, \"31\": {\"31\": 10}, \"41\": {\"41\": 11, \"8\": 1}, \"56\": {\"56\": 10}, \"0\": {\"0\": 12}, \"57\": {\"57\": 12}, \"53\": {\"53\": 12}, \"43\": {\"43\": 12}, \"37\": {\"37\": 12}, \"2\": {\"2\": 8}, \"6\": {\"6\": 12}, \"18\": {\"18\": 12}, \"38\": {\"38\": 12}, \"15\": {\"15\": 12}, \"36\": {\"36\": 12}, \"39\": {\"39\": 8}, \"44\": {\"44\": 12}, \"8\": {\"8\": 12}, \"17\": {\"17\": 10}, \"5\": {\"5\": 12}, \"13\": {\"13\": 10}, \"40\": {\"40\": 10}, \"29\": {\"29\": 12}, \"48\": {\"48\": 12}, \"32\": {\"32\": 12}, \"30\": {\"30\": 12}, \"35\": {\"35\": 12}, \"25\": {\"25\": 12}, \"14\": {\"14\": 11, \"30\": 1}, \"54\": {\"54\": 10}, \"20\": {\"20\": 8}, \"21\": {\"21\": 10}, \"45\": {\"45\": 8}, \"24\": {\"24\": 8}, \"34\": {\"34\": 8}}, \"CORES_2\": {\"14\": {\"14\": 12}, \"22\": {\"22\": 12}, \"9\": {\"9\": 12}, \"47\": {\"47\": 12}, \"13\": {\"13\": 12}, \"8\": {\"8\": 12}, \"7\": {\"7\": 12}, \"49\": {\"49\": 12}, \"20\": {\"20\": 12}, \"16\": {\"16\": 12}, \"34\": {\"34\": 12}, \"56\": {\"56\": 12}, \"38\": {\"38\": 10}, \"4\": {\"4\": 12}, \"43\": {\"43\": 10}, \"26\": {\"26\": 10}, \"35\": {\"35\": 12}, \"31\": {\"31\": 12}, \"1\": {\"1\": 12}, \"39\": {\"39\": 12}, \"5\": {\"5\": 12}, \"24\": {\"24\": 12}, \"54\": {\"54\": 10}, \"23\": {\"23\": 12}, \"51\": {\"51\": 12}, \"27\": {\"27\": 10}, \"15\": {\"15\": 12}, \"0\": {\"0\": 12}, \"19\": {\"19\": 10}, \"18\": {\"18\": 8}, \"30\": {\"30\": 12}, \"55\": {\"55\": 10}, \"57\": {\"57\": 12}, \"2\": {\"2\": 12}, \"12\": {\"12\": 8}, \"41\": {\"41\": 12}, \"42\": {\"42\": 12}, \"48\": {\"48\": 12}, \"37\": {\"37\": 12}, \"6\": {\"6\": 10}, \"11\": {\"11\": 10}, \"45\": {\"45\": 8}, \"21\": {\"21\": 12}, \"46\": {\"46\": 10}, \"25\": {\"25\": 12}, \"36\": {\"36\": 10}, \"53\": {\"53\": 12}, \"28\": {\"28\": 12}, \"40\": {\"40\": 10}, \"33\": {\"33\": 10}, \"44\": {\"44\": 10}, \"3\": {\"3\": 12}, \"17\": {\"17\": 12}, \"32\": {\"32\": 10}, \"10\": {\"10\": 10}, \"52\": {\"52\": 10}, \"50\": {\"50\": 8}, \"29\": {\"29\": 5, \"23\": 1}}, \"ORACLE.run1_14\": {\"15\": {\"15\": 1200}, \"3\": {\"6\": 270, \"3\": 339, \"14\": 123, \"13\": 167, \"2\": 47, \"7\": 133, \"0\": 98, \"5\": 14, \"8\": 9}, \"6\": {\"6\": 419, \"14\": 92, \"13\": 238, \"3\": 258, \"7\": 53, \"0\": 63, \"2\": 58, \"8\": 4, \"5\": 14, \"15\": 1}, \"1\": {\"1\": 521, \"10\": 125, \"9\": 547, \"4\": 7}, \"8\": {\"12\": 182, \"8\": 394, \"4\": 53, \"5\": 220, \"0\": 67, \"13\": 14, \"6\": 2, \"2\": 64, \"7\": 158, \"14\": 36, \"3\": 8, \"10\": 2}, \"10\": {\"10\": 666, \"9\": 144, \"4\": 233, \"1\": 81, \"12\": 60, \"5\": 5, \"0\": 4, \"2\": 4, \"8\": 2, \"13\": 1}, \"9\": {\"9\": 502, \"1\": 530, \"4\": 22, \"10\": 145, \"12\": 1}, \"13\": {\"14\": 103, \"6\": 283, \"15\": 110, \"3\": 142, \"7\": 38, \"4\": 30, \"0\": 79, \"2\": 83, \"5\": 78, \"13\": 172, \"12\": 60, \"8\": 22}, \"12\": {\"4\": 307, \"5\": 153, \"8\": 160, \"12\": 392, \"0\": 41, \"10\": 30, \"2\": 85, \"13\": 7, \"7\": 7, \"14\": 17, \"1\": 1}, \"5\": {\"2\": 178, \"4\": 34, \"0\": 132, \"14\": 93, \"12\": 174, \"7\": 78, \"5\": 239, \"8\": 216, \"13\": 41, \"3\": 11, \"6\": 3, \"10\": 1}, \"0\": {\"12\": 80, \"5\": 120, \"14\": 176, \"13\": 84, \"3\": 135, \"7\": 125, \"0\": 144, \"10\": 1, \"8\": 69, \"6\": 86, \"4\": 37, \"2\": 143}, \"2\": {\"2\": 167, \"14\": 110, \"5\": 151, \"6\": 81, \"7\": 63, \"12\": 145, \"3\": 100, \"0\": 132, \"13\": 92, \"4\": 85, \"8\": 61, \"10\": 13}, \"11\": {\"11\": 1187, \"1\": 7, \"9\": 6}, \"14\": {\"2\": 169, \"14\": 297, \"6\": 106, \"13\": 116, \"7\": 110, \"5\": 75, \"3\": 134, \"0\": 162, \"8\": 25, \"4\": 1, \"12\": 5}, \"7\": {\"5\": 86, \"8\": 146, \"7\": 366, \"3\": 162, \"0\": 147, \"13\": 58, \"14\": 105, \"6\": 46, \"2\": 76, \"12\": 8}, \"4\": {\"10\": 255, \"4\": 489, \"2\": 39, \"5\": 49, \"8\": 45, \"12\": 290, \"1\": 5, \"9\": 20, \"0\": 6, \"14\": 1, \"13\": 1}}, \"ORACLE.run1_20\": {\"3\": {\"9\": 131, \"5\": 173, \"8\": 159, \"7\": 68, \"12\": 22, \"1\": 105, \"3\": 174, \"10\": 2, \"14\": 147, \"0\": 55, \"15\": 28, \"6\": 83, \"4\": 19, \"2\": 27, \"11\": 5, \"13\": 2}, \"15\": {\"12\": 133, \"2\": 107, \"4\": 110, \"1\": 88, \"15\": 140, \"13\": 180, \"5\": 47, \"7\": 104, \"6\": 105, \"9\": 77, \"3\": 27, \"10\": 61, \"8\": 8, \"14\": 13}, \"8\": {\"0\": 148, \"8\": 306, \"3\": 163, \"14\": 265, \"1\": 64, \"9\": 53, \"6\": 25, \"5\": 113, \"11\": 30, \"7\": 21, \"15\": 8, \"12\": 2, \"4\": 2}, \"4\": {\"13\": 107, \"4\": 198, \"10\": 166, \"7\": 64, \"15\": 124, \"12\": 155, \"6\": 104, \"5\": 19, \"8\": 5, \"2\": 123, \"9\": 53, \"3\": 26, \"1\": 43, \"14\": 13}, \"14\": {\"14\": 301, \"8\": 268, \"9\": 64, \"15\": 4, \"0\": 92, \"3\": 163, \"12\": 7, \"5\": 143, \"1\": 78, \"6\": 29, \"7\": 31, \"11\": 9, \"2\": 5, \"4\": 6}, \"0\": {\"11\": 370, \"14\": 94, \"8\": 149, \"0\": 511, \"5\": 20, \"3\": 40, \"1\": 8, \"15\": 2, \"9\": 6}, \"7\": {\"7\": 126, \"9\": 116, \"13\": 59, \"5\": 89, \"2\": 116, \"15\": 129, \"6\": 121, \"1\": 108, \"3\": 62, \"12\": 115, \"8\": 20, \"10\": 18, \"4\": 83, \"14\": 37, \"0\": 1}, \"6\": {\"3\": 56, \"12\": 109, \"15\": 119, \"2\": 104, \"13\": 48, \"1\": 116, \"7\": 108, \"8\": 31, \"14\": 49, \"6\": 159, \"9\": 103, \"4\": 102, \"5\": 75, \"10\": 21}, \"10\": {\"13\": 207, \"15\": 55, \"10\": 555, \"4\": 178, \"6\": 23, \"12\": 82, \"7\": 22, \"2\": 59, \"3\": 3, \"9\": 12, \"1\": 2, \"5\": 2}, \"5\": {\"14\": 134, \"8\": 133, \"7\": 77, \"5\": 160, \"3\": 171, \"15\": 49, \"12\": 40, \"6\": 72, \"2\": 37, \"1\": 146, \"4\": 13, \"9\": 137, \"0\": 22, \"13\": 7, \"11\": 1, \"10\": 1}, \"2\": {\"3\": 41, \"12\": 134, \"4\": 107, \"6\": 111, \"2\": 139, \"10\": 57, \"7\": 98, \"13\": 148, \"15\": 158, \"9\": 79, \"5\": 36, \"1\": 70, \"8\": 8, \"14\": 14}, \"12\": {\"12\": 149, \"3\": 19, \"15\": 124, \"4\": 138, \"7\": 119, \"6\": 97, \"5\": 30, \"13\": 165, \"9\": 62, \"2\": 132, \"1\": 68, \"10\": 84, \"14\": 7, \"8\": 6}, \"9\": {\"9\": 131, \"3\": 127, \"6\": 82, \"5\": 125, \"8\": 68, \"7\": 110, \"1\": 158, \"2\": 91, \"12\": 71, \"10\": 4, \"4\": 53, \"14\": 70, \"13\": 21, \"15\": 84, \"0\": 5}, \"1\": {\"6\": 108, \"1\": 167, \"5\": 132, \"7\": 117, \"3\": 119, \"14\": 71, \"15\": 72, \"12\": 61, \"2\": 82, \"13\": 25, \"9\": 148, \"8\": 65, \"10\": 1, \"0\": 6, \"4\": 26}, \"11\": {\"11\": 809, \"0\": 360, \"8\": 21, \"14\": 8, \"3\": 2}, \"13\": {\"12\": 140, \"9\": 21, \"13\": 363, \"1\": 26, \"10\": 177, \"15\": 133, \"4\": 109, \"6\": 47, \"7\": 41, \"2\": 130, \"8\": 2, \"5\": 4, \"3\": 7}}, \"ORACLE.run1_38\": {\"5\": {\"7\": 53, \"5\": 347, \"9\": 182, \"15\": 157, \"12\": 108, \"8\": 243, \"2\": 89, \"14\": 18, \"13\": 1, \"4\": 1, \"0\": 1}, \"8\": {\"14\": 43, \"9\": 146, \"8\": 247, \"12\": 159, \"7\": 91, \"5\": 257, \"2\": 128, \"15\": 126, \"13\": 2, \"0\": 1}, \"11\": {\"11\": 1194, \"3\": 6}, \"1\": {\"1\": 585, \"6\": 606, \"15\": 9}, \"10\": {\"10\": 757, \"0\": 243, \"4\": 103, \"13\": 63, \"3\": 34}, \"15\": {\"15\": 859, \"8\": 64, \"12\": 45, \"5\": 114, \"1\": 62, \"6\": 52, \"9\": 4}, \"3\": {\"3\": 1180, \"11\": 19, \"0\": 1}, \"7\": {\"14\": 310, \"2\": 342, \"7\": 413, \"13\": 50, \"9\": 36, \"8\": 20, \"0\": 20, \"4\": 3, \"5\": 6}, \"4\": {\"4\": 919, \"10\": 124, \"0\": 95, \"13\": 44, \"14\": 18}, \"14\": {\"7\": 323, \"4\": 31, \"14\": 504, \"5\": 4, \"2\": 179, \"13\": 71, \"9\": 11, \"0\": 57, \"8\": 19, \"12\": 1}, \"9\": {\"9\": 641, \"8\": 184, \"7\": 55, \"5\": 169, \"2\": 136, \"14\": 10, \"15\": 1, \"12\": 4}, \"12\": {\"12\": 915, \"8\": 133, \"5\": 112, \"15\": 24, \"2\": 7, \"7\": 3, \"9\": 4, \"14\": 2}, \"6\": {\"6\": 595, \"1\": 594, \"15\": 11}, \"2\": {\"9\": 120, \"14\": 199, \"5\": 30, \"2\": 435, \"7\": 329, \"8\": 60, \"13\": 19, \"0\": 8}, \"0\": {\"13\": 307, \"7\": 62, \"0\": 275, \"10\": 324, \"2\": 29, \"4\": 78, \"3\": 55, \"14\": 65, \"9\": 3, \"8\": 2}, \"13\": {\"13\": 650, \"14\": 60, \"10\": 75, \"4\": 55, \"0\": 287, \"2\": 20, \"7\": 53}}, \"ORACLE.run1_8\": {\"9\": {\"3\": 352, \"9\": 844, \"2\": 4}, \"10\": {\"1\": 138, \"11\": 77, \"4\": 25, \"10\": 188, \"6\": 156, \"5\": 195, \"13\": 204, \"7\": 189, \"8\": 28}, \"13\": {\"6\": 97, \"13\": 318, \"11\": 21, \"10\": 231, \"5\": 253, \"7\": 181, \"1\": 85, \"8\": 5, \"12\": 4, \"15\": 1, \"4\": 4}, \"0\": {\"0\": 1194, \"14\": 6}, \"1\": {\"11\": 162, \"10\": 133, \"1\": 202, \"6\": 152, \"7\": 142, \"5\": 125, \"8\": 120, \"4\": 64, \"13\": 96, \"14\": 3, \"12\": 1}, \"15\": {\"15\": 534, \"12\": 397, \"2\": 262, \"3\": 7}, \"5\": {\"11\": 62, \"13\": 270, \"14\": 10, \"10\": 172, \"6\": 100, \"5\": 234, \"4\": 48, \"12\": 19, \"7\": 136, \"1\": 107, \"8\": 41, \"15\": 1}, \"3\": {\"3\": 861, \"2\": 59, \"9\": 279, \"15\": 1}, \"6\": {\"5\": 86, \"4\": 76, \"10\": 159, \"7\": 173, \"11\": 130, \"1\": 164, \"8\": 106, \"6\": 235, \"13\": 71}, \"11\": {\"4\": 171, \"1\": 169, \"13\": 38, \"11\": 222, \"8\": 200, \"7\": 72, \"6\": 126, \"5\": 53, \"10\": 79, \"14\": 70}, \"8\": {\"4\": 266, \"8\": 300, \"14\": 128, \"10\": 24, \"1\": 102, \"11\": 240, \"5\": 23, \"6\": 75, \"7\": 36, \"13\": 6}, \"4\": {\"4\": 430, \"14\": 182, \"8\": 267, \"1\": 56, \"10\": 28, \"11\": 139, \"7\": 22, \"6\": 61, \"5\": 14, \"13\": 1}, \"12\": {\"15\": 432, \"12\": 659, \"2\": 108, \"3\": 1}, \"14\": {\"8\": 119, \"14\": 798, \"4\": 210, \"11\": 46, \"1\": 11, \"6\": 11, \"0\": 2, \"7\": 2, \"10\": 1}, \"2\": {\"12\": 151, \"15\": 286, \"2\": 555, \"3\": 185, \"9\": 21, \"5\": 1, \"10\": 1}, \"7\": {\"11\": 82, \"6\": 171, \"7\": 215, \"5\": 181, \"13\": 171, \"1\": 143, \"10\": 195, \"8\": 22, \"4\": 20}}, \"ORACLE.run1_50\": {\"7\": {\"4\": 462, \"7\": 597, \"5\": 123, \"6\": 4, \"9\": 7, \"15\": 7}, \"3\": {\"6\": 193, \"3\": 310, \"11\": 239, \"15\": 161, \"5\": 70, \"12\": 94, \"9\": 97, \"13\": 32, \"4\": 2, \"1\": 2}, \"8\": {\"8\": 605, \"1\": 361, \"13\": 46, \"10\": 187, \"0\": 1}, \"2\": {\"2\": 475, \"10\": 23, \"14\": 448, \"0\": 254}, \"14\": {\"0\": 267, \"2\": 469, \"14\": 438, \"10\": 25, \"8\": 1}, \"4\": {\"7\": 523, \"4\": 515, \"5\": 113, \"15\": 20, \"6\": 17, \"9\": 12}, \"6\": {\"6\": 280, \"12\": 61, \"5\": 142, \"9\": 186, \"11\": 59, \"3\": 168, \"15\": 286, \"4\": 9, \"7\": 8, \"13\": 1}, \"15\": {\"9\": 180, \"3\": 137, \"6\": 314, \"15\": 272, \"11\": 39, \"5\": 186, \"12\": 52, \"7\": 14, \"4\": 6}, \"10\": {\"8\": 222, \"10\": 738, \"1\": 42, \"2\": 15, \"14\": 21, \"0\": 161, \"13\": 1}, \"11\": {\"12\": 208, \"11\": 496, \"13\": 105, \"5\": 14, \"15\": 55, \"9\": 44, \"3\": 237, \"6\": 37, \"1\": 4}, \"13\": {\"11\": 119, \"13\": 740, \"1\": 262, \"8\": 24, \"12\": 19, \"3\": 32, \"6\": 1, \"5\": 3}, \"9\": {\"11\": 68, \"9\": 311, \"7\": 8, \"3\": 110, \"6\": 219, \"15\": 194, \"12\": 164, \"5\": 120, \"13\": 1, \"4\": 5}, \"0\": {\"0\": 525, \"14\": 254, \"10\": 186, \"2\": 229, \"8\": 6}, \"1\": {\"8\": 319, \"1\": 490, \"13\": 325, \"10\": 48, \"3\": 2, \"11\": 10, \"0\": 4, \"2\": 1, \"12\": 1}, \"12\": {\"9\": 156, \"12\": 584, \"11\": 242, \"3\": 85, \"5\": 17, \"15\": 43, \"6\": 62, \"13\": 11}, \"5\": {\"15\": 154, \"6\": 96, \"7\": 220, \"12\": 29, \"4\": 192, \"3\": 60, \"5\": 279, \"11\": 81, \"13\": 22, \"9\": 65, \"1\": 2}}, \"ORACLE.run1_32\": {\"8\": {\"13\": 1, \"14\": 196, \"0\": 227, \"8\": 346, \"5\": 133, \"15\": 48, \"2\": 39, \"7\": 130, \"1\": 67, \"4\": 11, \"3\": 2}, \"14\": {\"5\": 88, \"2\": 108, \"14\": 365, \"8\": 153, \"15\": 7, \"7\": 199, \"0\": 215, \"4\": 24, \"1\": 39, \"13\": 1, \"3\": 1}, \"2\": {\"2\": 465, \"14\": 69, \"3\": 98, \"1\": 204, \"4\": 275, \"8\": 33, \"13\": 41, \"0\": 15}, \"0\": {\"14\": 235, \"0\": 276, \"8\": 218, \"15\": 41, \"7\": 224, \"5\": 186, \"1\": 7, \"2\": 11, \"3\": 1, \"4\": 1}, \"1\": {\"4\": 159, \"13\": 51, \"2\": 201, \"1\": 500, \"3\": 169, \"14\": 31, \"8\": 69, \"0\": 14, \"9\": 3, \"7\": 1, \"5\": 2}, \"10\": {\"10\": 953, \"6\": 54, \"12\": 188, \"11\": 5}, \"11\": {\"9\": 315, \"11\": 709, \"12\": 131, \"13\": 40, \"3\": 5}, \"5\": {\"15\": 206, \"14\": 92, \"5\": 379, \"0\": 156, \"7\": 248, \"8\": 109, \"1\": 4, \"2\": 6}, \"15\": {\"15\": 906, \"5\": 164, \"0\": 39, \"8\": 48, \"7\": 38, \"14\": 5}, \"3\": {\"3\": 337, \"13\": 291, \"4\": 236, \"1\": 171, \"2\": 99, \"9\": 58, \"14\": 2, \"11\": 5, \"8\": 1}, \"12\": {\"12\": 800, \"9\": 116, \"10\": 113, \"11\": 168, \"13\": 2, \"3\": 1}, \"7\": {\"5\": 271, \"14\": 209, \"7\": 314, \"0\": 240, \"15\": 53, \"8\": 112, \"2\": 1}, \"13\": {\"4\": 159, \"9\": 202, \"13\": 397, \"1\": 70, \"3\": 268, \"11\": 42, \"2\": 60, \"12\": 1, \"14\": 1}, \"6\": {\"6\": 1126, \"10\": 74}, \"4\": {\"3\": 241, \"13\": 161, \"1\": 174, \"4\": 333, \"2\": 255, \"8\": 9, \"9\": 11, \"14\": 15, \"11\": 1}, \"9\": {\"11\": 254, \"3\": 106, \"13\": 263, \"12\": 144, \"9\": 341, \"10\": 22, \"4\": 50, \"2\": 11, \"1\": 9}}, \"ORACLE.run1_26\": {\"4\": {\"4\": 947, \"3\": 76, \"13\": 141, \"12\": 27, \"9\": 4, \"7\": 5}, \"12\": {\"9\": 185, \"3\": 236, \"8\": 130, \"12\": 231, \"7\": 188, \"2\": 93, \"13\": 115, \"4\": 17, \"0\": 5}, \"10\": {\"14\": 264, \"10\": 257, \"5\": 72, \"1\": 82, \"0\": 226, \"6\": 115, \"8\": 7, \"15\": 144, \"11\": 18, \"2\": 14, \"7\": 1}, \"0\": {\"0\": 420, \"14\": 198, \"2\": 123, \"8\": 63, \"6\": 39, \"15\": 73, \"10\": 207, \"9\": 12, \"5\": 21, \"1\": 16, \"7\": 21, \"12\": 2, \"3\": 1, \"11\": 4}, \"13\": {\"4\": 194, \"13\": 426, \"3\": 226, \"12\": 127, \"9\": 111, \"7\": 40, \"8\": 37, \"2\": 31, \"0\": 6, \"15\": 1, \"10\": 1}, \"9\": {\"13\": 144, \"9\": 184, \"12\": 170, \"8\": 143, \"7\": 154, \"2\": 190, \"3\": 159, \"0\": 41, \"15\": 2, \"4\": 9, \"14\": 1, \"10\": 3}, \"3\": {\"13\": 256, \"3\": 303, \"8\": 68, \"2\": 54, \"12\": 198, \"7\": 126, \"9\": 159, \"0\": 3, \"4\": 33}, \"2\": {\"0\": 154, \"2\": 298, \"8\": 206, \"12\": 96, \"7\": 164, \"3\": 41, \"9\": 160, \"4\": 1, \"10\": 31, \"14\": 12, \"13\": 28, \"6\": 4, \"15\": 5}, \"5\": {\"15\": 208, \"5\": 285, \"6\": 172, \"10\": 81, \"0\": 28, \"11\": 210, \"1\": 122, \"14\": 94}, \"14\": {\"6\": 126, \"10\": 249, \"14\": 271, \"1\": 112, \"5\": 69, \"15\": 133, \"0\": 202, \"11\": 26, \"2\": 6, \"9\": 2, \"8\": 4}, \"8\": {\"7\": 246, \"9\": 130, \"2\": 209, \"8\": 291, \"12\": 146, \"0\": 85, \"13\": 26, \"14\": 12, \"3\": 46, \"10\": 6, \"15\": 2, \"6\": 1}, \"7\": {\"13\": 55, \"12\": 175, \"9\": 163, \"8\": 257, \"3\": 126, \"7\": 210, \"2\": 167, \"14\": 1, \"0\": 38, \"10\": 6, \"4\": 2}, \"6\": {\"15\": 189, \"5\": 194, \"11\": 132, \"6\": 189, \"1\": 209, \"14\": 139, \"10\": 114, \"0\": 32, \"2\": 2}, \"11\": {\"1\": 186, \"11\": 496, \"14\": 23, \"15\": 109, \"5\": 223, \"6\": 141, \"10\": 16, \"0\": 6}, \"15\": {\"1\": 116, \"0\": 91, \"6\": 193, \"10\": 141, \"15\": 227, \"11\": 103, \"14\": 143, \"5\": 178, \"2\": 7, \"8\": 1}, \"1\": {\"1\": 423, \"6\": 179, \"15\": 94, \"14\": 88, \"10\": 82, \"0\": 20, \"5\": 122, \"11\": 192}}, \"ORACLE.run1_44\": {\"12\": {\"3\": 548, \"12\": 632, \"0\": 19, \"8\": 1}, \"7\": {\"4\": 178, \"7\": 390, \"9\": 225, \"5\": 77, \"10\": 226, \"6\": 27, \"14\": 69, \"15\": 4, \"13\": 3, \"2\": 1}, \"5\": {\"4\": 148, \"10\": 142, \"14\": 235, \"9\": 51, \"2\": 124, \"5\": 235, \"7\": 98, \"15\": 117, \"1\": 31, \"8\": 19}, \"15\": {\"14\": 132, \"8\": 172, \"2\": 154, \"4\": 56, \"15\": 354, \"10\": 27, \"5\": 130, \"1\": 140, \"0\": 28, \"7\": 6, \"9\": 1}, \"8\": {\"1\": 270, \"0\": 270, \"15\": 163, \"8\": 355, \"4\": 6, \"14\": 22, \"2\": 83, \"3\": 9, \"5\": 15, \"12\": 4, \"10\": 3}, \"2\": {\"5\": 100, \"2\": 595, \"7\": 4, \"14\": 80, \"1\": 160, \"15\": 138, \"8\": 53, \"4\": 41, \"10\": 22, \"9\": 5, \"0\": 2}, \"13\": {\"13\": 736, \"6\": 389, \"9\": 49, \"11\": 14, \"10\": 4, \"4\": 3, \"7\": 5}, \"4\": {\"4\": 163, \"10\": 163, \"15\": 87, \"5\": 106, \"7\": 226, \"9\": 165, \"6\": 30, \"2\": 113, \"8\": 13, \"14\": 99, \"1\": 29, \"13\": 6}, \"0\": {\"0\": 740, \"12\": 14, \"1\": 168, \"3\": 29, \"8\": 227, \"15\": 11, \"2\": 11}, \"6\": {\"6\": 650, \"13\": 409, \"9\": 122, \"4\": 4, \"10\": 7, \"7\": 8}, \"9\": {\"13\": 146, \"9\": 221, \"7\": 183, \"5\": 78, \"6\": 190, \"2\": 31, \"4\": 135, \"14\": 80, \"10\": 124, \"15\": 11, \"8\": 1}, \"11\": {\"11\": 1196, \"6\": 1, \"13\": 3}, \"10\": {\"7\": 281, \"4\": 178, \"5\": 124, \"14\": 149, \"1\": 14, \"10\": 248, \"9\": 132, \"15\": 24, \"2\": 31, \"6\": 15, \"13\": 3, \"8\": 1}, \"14\": {\"5\": 259, \"4\": 171, \"14\": 311, \"7\": 80, \"10\": 158, \"2\": 66, \"9\": 39, \"15\": 106, \"1\": 7, \"8\": 3}, \"1\": {\"2\": 219, \"0\": 140, \"4\": 8, \"8\": 271, \"5\": 17, \"1\": 385, \"15\": 150, \"10\": 2, \"14\": 8}, \"3\": {\"12\": 546, \"3\": 597, \"0\": 52, \"1\": 2, \"8\": 3}}}, \"per_domain_accuracy\": {\"CORES_3\": {\"accuracy\": 0.9984375, \"source?\": true}, \"CORES_4\": {\"accuracy\": 0.99375, \"source?\": true}, \"CORES_5\": {\"accuracy\": 0.990625, \"source?\": true}, \"CORES_1\": {\"accuracy\": 0.996875, \"source?\": true}, \"CORES_2\": {\"accuracy\": 0.9984375, \"source?\": true}, \"ORACLE.run1_14\": {\"accuracy\": 0.3903125, \"source?\": false}, \"ORACLE.run1_20\": {\"accuracy\": 0.22854166666666667, \"source?\": false}, \"ORACLE.run1_38\": {\"accuracy\": 0.5477083333333334, \"source?\": false}, \"ORACLE.run1_8\": {\"accuracy\": 0.40567708333333335, \"source?\": false}, \"ORACLE.run1_50\": {\"accuracy\": 0.39869791666666665, \"source?\": false}, \"ORACLE.run1_32\": {\"accuracy\": 0.44515625, \"source?\": false}, \"ORACLE.run1_26\": {\"accuracy\": 0.2842708333333333, \"source?\": false}, \"ORACLE.run1_44\": {\"accuracy\": 0.4066666666666667, \"source?\": false}}}, \"history\": {\"epoch_indices\": [1, 2, 3, 4, 5, 6, 7, 8, 9, 10], \"train_label_loss\": [0.17528646926591204, 0.046632191299585866, 0.02620679495369201, 0.03006424919366237, 0.013173755254918332, 0.02440096110559202, 0.01979959093892426, 0.024275166159995448, 0.017212695466858635, 0.006999190374267496], \"source_val_label_loss\": [0.06951212882995605, 0.030887173488736153, 0.02571626380085945, 0.009810520336031914, 0.014652789570391178, 0.016052495688199997, 0.024389734491705894, 0.011453424580395222, 0.022527631372213364, 0.012419220991432667], \"target_val_label_loss\": [2.0011205673217773, 1.882263422012329, 1.7826966047286987, 1.924808382987976, 1.9214290380477905, 1.665295124053955, 1.778232455253601, 1.8280861377716064, 1.797610878944397, 1.7669804096221924], \"source_val_acc_label\": [0.97875, 0.9903125, 0.9928125, 0.9978125, 0.9959375, 0.995625, 0.994375, 0.9946875, 0.9953125, 0.99625], \"target_val_acc_label\": [0.4267447916666667, 0.40481119791666664, 0.38721354166666666, 0.35401041666666666, 0.3369010416666667, 0.38837890625, 0.3543619791666667, 0.3495963541666667, 0.3391927083333333, 0.36108072916666667]}, \"dataset_metrics\": {\"source\": {\"train\": {\"n_unique_x\": 20296, \"n_unique_y\": 58, \"n_batch/episode\": 731}, \"val\": {\"n_unique_x\": 4332, \"n_unique_y\": 58, \"n_batch/episode\": 100}, \"test\": {\"n_unique_x\": 4332, \"n_unique_y\": 58, \"n_batch/episode\": 100}}, \"target\": {\"train\": {\"n_unique_x\": 896000, \"n_unique_y\": 16, \"n_batch/episode\": 33600}, \"val\": {\"n_unique_x\": 192000, \"n_unique_y\": 16, \"n_batch/episode\": 4800}, \"test\": {\"n_unique_x\": 192000, \"n_unique_y\": 16, \"n_batch/episode\": 4800}}}}'"
      ]
     },
     "execution_count": 29,
     "metadata": {},
     "output_type": "execute_result"
    }
   ],
   "source": [
    "json.dumps(experiment)"
   ]
  }
 ],
 "metadata": {
  "celltoolbar": "Tags",
  "kernelspec": {
   "display_name": "Python 3 (ipykernel)",
   "language": "python",
   "name": "python3"
  },
  "language_info": {
   "codemirror_mode": {
    "name": "ipython",
    "version": 3
   },
   "file_extension": ".py",
   "mimetype": "text/x-python",
   "name": "python",
   "nbconvert_exporter": "python",
   "pygments_lexer": "ipython3",
   "version": "3.8.10"
  },
  "papermill": {
   "default_parameters": {},
   "duration": 799.440633,
   "end_time": "2022-03-13T19:41:45.010205",
   "environment_variables": {},
   "exception": null,
   "input_path": "/mnt/wd500GB/CSC500/csc500-main/csc500-notebooks/templates/tl_ptn_template.ipynb",
   "output_path": "trial.ipynb",
   "parameters": {
    "parameters": {
     "BEST_MODEL_PATH": "./best_model.pth",
     "NUM_LOGS_PER_EPOCH": 10,
     "criteria_for_best": "target_loss",
     "dataset_seed": 1337,
     "datasets": [
      {
       "domain_prefix": "CORES_",
       "domains": [
        1,
        2,
        3,
        4,
        5
       ],
       "episode_transforms": [],
       "labels": [
        "1-10.",
        "1-11.",
        "1-15.",
        "1-16.",
        "1-17.",
        "1-18.",
        "1-19.",
        "10-4.",
        "10-7.",
        "11-1.",
        "11-14.",
        "11-17.",
        "11-20.",
        "11-7.",
        "13-20.",
        "13-8.",
        "14-10.",
        "14-11.",
        "14-14.",
        "14-7.",
        "15-1.",
        "15-20.",
        "16-1.",
        "16-16.",
        "17-10.",
        "17-11.",
        "17-2.",
        "19-1.",
        "19-16.",
        "19-19.",
        "19-20.",
        "19-3.",
        "2-10.",
        "2-11.",
        "2-17.",
        "2-18.",
        "2-20.",
        "2-3.",
        "2-4.",
        "2-5.",
        "2-6.",
        "2-7.",
        "2-8.",
        "3-13.",
        "3-18.",
        "3-3.",
        "4-1.",
        "4-10.",
        "4-11.",
        "4-19.",
        "5-5.",
        "6-15.",
        "7-10.",
        "7-14.",
        "8-18.",
        "8-20.",
        "8-3.",
        "8-8."
       ],
       "num_examples_per_domain_per_label": 100,
       "pickle_path": "/mnt/wd500GB/CSC500/csc500-main/datasets/cores.stratified_ds.2022A.pkl",
       "source_or_target_dataset": "source",
       "x_transforms": []
      },
      {
       "domain_prefix": "ORACLE.run1_",
       "domains": [
        32,
        38,
        8,
        44,
        14,
        50,
        20,
        26
       ],
       "episode_transforms": [],
       "labels": [
        "3123D52",
        "3123D65",
        "3123D79",
        "3123D80",
        "3123D54",
        "3123D70",
        "3123D7B",
        "3123D89",
        "3123D58",
        "3123D76",
        "3123D7D",
        "3123EFE",
        "3123D64",
        "3123D78",
        "3123D7E",
        "3124E4A"
       ],
       "num_examples_per_domain_per_label": 10000,
       "pickle_path": "/mnt/wd500GB/CSC500/csc500-main/datasets/oracle.Run1_10kExamples_stratified_ds.2022A.pkl",
       "source_or_target_dataset": "target",
       "x_transforms": []
      }
     ],
     "device": "cuda",
     "experiment_name": "tl_1_cores-oracle.run1",
     "lr": 0.001,
     "n_epoch": 50,
     "n_query": 2,
     "n_shot": 3,
     "n_way": 16,
     "patience": 3,
     "seed": 1337,
     "test_k_factor": 2,
     "torch_default_dtype": "torch.float32",
     "train_k_factor": 3,
     "val_k_factor": 2,
     "x_net": [
      {
       "class": "nnReshape",
       "kargs": {
        "shape": [
         -1,
         1,
         2,
         256
        ]
       }
      },
      {
       "class": "Conv2d",
       "kargs": {
        "bias": false,
        "in_channels": 1,
        "kernel_size": [
         1,
         7
        ],
        "out_channels": 256,
        "padding": [
         0,
         3
        ]
       }
      },
      {
       "class": "ReLU",
       "kargs": {
        "inplace": true
       }
      },
      {
       "class": "BatchNorm2d",
       "kargs": {
        "num_features": 256
       }
      },
      {
       "class": "Conv2d",
       "kargs": {
        "bias": true,
        "in_channels": 256,
        "kernel_size": [
         2,
         7
        ],
        "out_channels": 80,
        "padding": [
         0,
         3
        ]
       }
      },
      {
       "class": "ReLU",
       "kargs": {
        "inplace": true
       }
      },
      {
       "class": "BatchNorm2d",
       "kargs": {
        "num_features": 80
       }
      },
      {
       "class": "Flatten",
       "kargs": {}
      },
      {
       "class": "Linear",
       "kargs": {
        "in_features": 20480,
        "out_features": 256
       }
      },
      {
       "class": "ReLU",
       "kargs": {
        "inplace": true
       }
      },
      {
       "class": "BatchNorm1d",
       "kargs": {
        "num_features": 256
       }
      },
      {
       "class": "Linear",
       "kargs": {
        "in_features": 256,
        "out_features": 256
       }
      }
     ]
    }
   },
   "start_time": "2022-03-13T19:28:25.569572",
   "version": "2.3.4"
  }
 },
 "nbformat": 4,
 "nbformat_minor": 5
}