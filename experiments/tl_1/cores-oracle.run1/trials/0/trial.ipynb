{
 "cells": [
  {
   "cell_type": "markdown",
   "id": "9fea5f46",
   "metadata": {
    "papermill": {
     "duration": 0.021903,
     "end_time": "2022-03-13T19:08:06.248599",
     "exception": false,
     "start_time": "2022-03-13T19:08:06.226696",
     "status": "completed"
    },
    "tags": []
   },
   "source": [
    "# Transfer Learning Template"
   ]
  },
  {
   "cell_type": "code",
   "execution_count": 1,
   "id": "0902182a",
   "metadata": {
    "execution": {
     "iopub.execute_input": "2022-03-13T19:08:06.288729Z",
     "iopub.status.busy": "2022-03-13T19:08:06.288206Z",
     "iopub.status.idle": "2022-03-13T19:08:08.394223Z",
     "shell.execute_reply": "2022-03-13T19:08:08.393723Z"
    },
    "papermill": {
     "duration": 2.13322,
     "end_time": "2022-03-13T19:08:08.394343",
     "exception": false,
     "start_time": "2022-03-13T19:08:06.261123",
     "status": "completed"
    },
    "tags": []
   },
   "outputs": [],
   "source": [
    "%load_ext autoreload\n",
    "%autoreload 2\n",
    "%matplotlib inline\n",
    "\n",
    "    \n",
    "import os, json, sys, time, random\n",
    "import numpy as np\n",
    "import torch\n",
    "from torch.optim import Adam\n",
    "from  easydict import EasyDict\n",
    "import matplotlib.pyplot as plt\n",
    "\n",
    "from steves_models.steves_ptn import Steves_Prototypical_Network\n",
    "\n",
    "from steves_utils.lazy_iterable_wrapper import Lazy_Iterable_Wrapper\n",
    "from steves_utils.iterable_aggregator import Iterable_Aggregator\n",
    "from steves_utils.ptn_train_eval_test_jig import  PTN_Train_Eval_Test_Jig\n",
    "from steves_utils.torch_sequential_builder import build_sequential\n",
    "from steves_utils.torch_utils import get_dataset_metrics, ptn_confusion_by_domain_over_dataloader\n",
    "from steves_utils.utils_v2 import (per_domain_accuracy_from_confusion, get_datasets_base_path)\n",
    "from steves_utils.PTN.utils import independent_accuracy_assesment\n",
    "\n",
    "from torch.utils.data import DataLoader\n",
    "\n",
    "from steves_utils.stratified_dataset.episodic_accessor import Episodic_Accessor_Factory\n",
    "\n",
    "from steves_utils.ptn_do_report import (\n",
    "    get_loss_curve,\n",
    "    get_results_table,\n",
    "    get_parameters_table,\n",
    "    get_domain_accuracies,\n",
    ")\n",
    "\n",
    "from steves_utils.transforms import get_chained_transform"
   ]
  },
  {
   "cell_type": "markdown",
   "id": "41c840b4",
   "metadata": {
    "papermill": {
     "duration": 0.012201,
     "end_time": "2022-03-13T19:08:08.425978",
     "exception": false,
     "start_time": "2022-03-13T19:08:08.413777",
     "status": "completed"
    },
    "tags": []
   },
   "source": [
    "# Allowed Parameters\n",
    "These are allowed parameters, not defaults\n",
    "Each of these values need to be present in the injected parameters (the notebook will raise an exception if they are not present)\n",
    "\n",
    "Papermill uses the cell tag \"parameters\" to inject the real parameters below this cell.\n",
    "Enable tags to see what I mean"
   ]
  },
  {
   "cell_type": "code",
   "execution_count": 2,
   "id": "fd44eb83",
   "metadata": {
    "execution": {
     "iopub.execute_input": "2022-03-13T19:08:08.453972Z",
     "iopub.status.busy": "2022-03-13T19:08:08.453668Z",
     "iopub.status.idle": "2022-03-13T19:08:08.470358Z",
     "shell.execute_reply": "2022-03-13T19:08:08.469933Z"
    },
    "papermill": {
     "duration": 0.032204,
     "end_time": "2022-03-13T19:08:08.470458",
     "exception": false,
     "start_time": "2022-03-13T19:08:08.438254",
     "status": "completed"
    },
    "tags": []
   },
   "outputs": [],
   "source": [
    "required_parameters = {\n",
    "    \"experiment_name\",\n",
    "    \"lr\",\n",
    "    \"device\",\n",
    "    \"seed\",\n",
    "    \"dataset_seed\",\n",
    "    \"n_shot\",\n",
    "    \"n_query\",\n",
    "    \"n_way\",\n",
    "    \"train_k_factor\",\n",
    "    \"val_k_factor\",\n",
    "    \"test_k_factor\",\n",
    "    \"n_epoch\",\n",
    "    \"patience\",\n",
    "    \"criteria_for_best\",\n",
    "    \"x_net\",\n",
    "    \"datasets\",\n",
    "    \"torch_default_dtype\",\n",
    "    \"NUM_LOGS_PER_EPOCH\",\n",
    "    \"BEST_MODEL_PATH\",\n",
    "}"
   ]
  },
  {
   "cell_type": "code",
   "execution_count": 3,
   "id": "fa3f0049",
   "metadata": {
    "execution": {
     "iopub.execute_input": "2022-03-13T19:08:08.514217Z",
     "iopub.status.busy": "2022-03-13T19:08:08.513369Z",
     "iopub.status.idle": "2022-03-13T19:08:08.526894Z",
     "shell.execute_reply": "2022-03-13T19:08:08.527117Z"
    },
    "papermill": {
     "duration": 0.03608,
     "end_time": "2022-03-13T19:08:08.527190",
     "exception": false,
     "start_time": "2022-03-13T19:08:08.491110",
     "status": "completed"
    },
    "tags": [
     "parameters"
    ]
   },
   "outputs": [],
   "source": [
    "from steves_utils.CORES.utils import (\n",
    "    ALL_NODES,\n",
    "    ALL_NODES_MINIMUM_1000_EXAMPLES,\n",
    "    ALL_DAYS\n",
    ")\n",
    "\n",
    "from steves_utils.ORACLE.utils_v2 import (\n",
    "    ALL_DISTANCES_FEET_NARROWED,\n",
    "    ALL_RUNS,\n",
    "    ALL_SERIAL_NUMBERS,\n",
    ")\n",
    "\n",
    "standalone_parameters = {}\n",
    "standalone_parameters[\"experiment_name\"] = \"STANDALONE PTN\"\n",
    "standalone_parameters[\"lr\"] = 0.001\n",
    "standalone_parameters[\"device\"] = \"cuda\"\n",
    "\n",
    "standalone_parameters[\"seed\"] = 1337\n",
    "standalone_parameters[\"dataset_seed\"] = 1337\n",
    "\n",
    "standalone_parameters[\"n_way\"] = 8\n",
    "standalone_parameters[\"n_shot\"] = 3\n",
    "standalone_parameters[\"n_query\"]  = 2\n",
    "standalone_parameters[\"train_k_factor\"] = 1\n",
    "standalone_parameters[\"val_k_factor\"] = 2\n",
    "standalone_parameters[\"test_k_factor\"] = 2\n",
    "\n",
    "\n",
    "standalone_parameters[\"n_epoch\"] = 50\n",
    "\n",
    "standalone_parameters[\"patience\"] = 10\n",
    "standalone_parameters[\"criteria_for_best\"] = \"source_loss\"\n",
    "\n",
    "standalone_parameters[\"datasets\"] = [\n",
    "    {\n",
    "        \"labels\": ALL_SERIAL_NUMBERS,\n",
    "        \"domains\": ALL_DISTANCES_FEET_NARROWED,\n",
    "        \"num_examples_per_domain_per_label\": 100,\n",
    "        \"pickle_path\": os.path.join(get_datasets_base_path(), \"oracle.Run1_framed_2000Examples_stratified_ds.2022A.pkl\"),\n",
    "        \"source_or_target_dataset\": \"source\",\n",
    "        \"x_transforms\": [\"unit_mag\", \"minus_two\"],\n",
    "        \"episode_transforms\": [],\n",
    "        \"domain_prefix\": \"ORACLE_\"\n",
    "    },\n",
    "    {\n",
    "        \"labels\": ALL_NODES,\n",
    "        \"domains\": ALL_DAYS,\n",
    "        \"num_examples_per_domain_per_label\": 100,\n",
    "        \"pickle_path\": os.path.join(get_datasets_base_path(), \"cores.stratified_ds.2022A.pkl\"),\n",
    "        \"source_or_target_dataset\": \"target\",\n",
    "        \"x_transforms\": [\"unit_power\", \"times_zero\"],\n",
    "        \"episode_transforms\": [],\n",
    "        \"domain_prefix\": \"CORES_\"\n",
    "    }   \n",
    "]\n",
    "\n",
    "standalone_parameters[\"torch_default_dtype\"] = \"torch.float32\" \n",
    "\n",
    "\n",
    "\n",
    "standalone_parameters[\"x_net\"] =     [\n",
    "    {\"class\": \"nnReshape\", \"kargs\": {\"shape\":[-1, 1, 2, 256]}},\n",
    "    {\"class\": \"Conv2d\", \"kargs\": { \"in_channels\":1, \"out_channels\":256, \"kernel_size\":(1,7), \"bias\":False, \"padding\":(0,3), },},\n",
    "    {\"class\": \"ReLU\", \"kargs\": {\"inplace\": True}},\n",
    "    {\"class\": \"BatchNorm2d\", \"kargs\": {\"num_features\":256}},\n",
    "\n",
    "    {\"class\": \"Conv2d\", \"kargs\": { \"in_channels\":256, \"out_channels\":80, \"kernel_size\":(2,7), \"bias\":True, \"padding\":(0,3), },},\n",
    "    {\"class\": \"ReLU\", \"kargs\": {\"inplace\": True}},\n",
    "    {\"class\": \"BatchNorm2d\", \"kargs\": {\"num_features\":80}},\n",
    "    {\"class\": \"Flatten\", \"kargs\": {}},\n",
    "\n",
    "    {\"class\": \"Linear\", \"kargs\": {\"in_features\": 80*256, \"out_features\": 256}}, # 80 units per IQ pair\n",
    "    {\"class\": \"ReLU\", \"kargs\": {\"inplace\": True}},\n",
    "    {\"class\": \"BatchNorm1d\", \"kargs\": {\"num_features\":256}},\n",
    "\n",
    "    {\"class\": \"Linear\", \"kargs\": {\"in_features\": 256, \"out_features\": 256}},\n",
    "]\n",
    "\n",
    "# Parameters relevant to results\n",
    "# These parameters will basically never need to change\n",
    "standalone_parameters[\"NUM_LOGS_PER_EPOCH\"] = 10\n",
    "standalone_parameters[\"BEST_MODEL_PATH\"] = \"./best_model.pth\"\n",
    "\n",
    "\n",
    "\n",
    "\n"
   ]
  },
  {
   "cell_type": "code",
   "execution_count": 4,
   "id": "623656db",
   "metadata": {
    "execution": {
     "iopub.execute_input": "2022-03-13T19:08:08.559606Z",
     "iopub.status.busy": "2022-03-13T19:08:08.559142Z",
     "iopub.status.idle": "2022-03-13T19:08:08.572392Z",
     "shell.execute_reply": "2022-03-13T19:08:08.572615Z"
    },
    "papermill": {
     "duration": 0.032462,
     "end_time": "2022-03-13T19:08:08.572692",
     "exception": false,
     "start_time": "2022-03-13T19:08:08.540230",
     "status": "completed"
    },
    "tags": [
     "injected-parameters"
    ]
   },
   "outputs": [],
   "source": [
    "# Parameters\n",
    "parameters = {\n",
    "    \"experiment_name\": \"tl_1_cores-oracle.run1\",\n",
    "    \"device\": \"cuda\",\n",
    "    \"lr\": 0.001,\n",
    "    \"seed\": 1337,\n",
    "    \"dataset_seed\": 1337,\n",
    "    \"n_shot\": 3,\n",
    "    \"n_query\": 2,\n",
    "    \"train_k_factor\": 3,\n",
    "    \"val_k_factor\": 2,\n",
    "    \"test_k_factor\": 2,\n",
    "    \"torch_default_dtype\": \"torch.float32\",\n",
    "    \"n_epoch\": 50,\n",
    "    \"patience\": 3,\n",
    "    \"criteria_for_best\": \"target_loss\",\n",
    "    \"x_net\": [\n",
    "        {\"class\": \"nnReshape\", \"kargs\": {\"shape\": [-1, 1, 2, 256]}},\n",
    "        {\n",
    "            \"class\": \"Conv2d\",\n",
    "            \"kargs\": {\n",
    "                \"in_channels\": 1,\n",
    "                \"out_channels\": 256,\n",
    "                \"kernel_size\": [1, 7],\n",
    "                \"bias\": False,\n",
    "                \"padding\": [0, 3],\n",
    "            },\n",
    "        },\n",
    "        {\"class\": \"ReLU\", \"kargs\": {\"inplace\": True}},\n",
    "        {\"class\": \"BatchNorm2d\", \"kargs\": {\"num_features\": 256}},\n",
    "        {\n",
    "            \"class\": \"Conv2d\",\n",
    "            \"kargs\": {\n",
    "                \"in_channels\": 256,\n",
    "                \"out_channels\": 80,\n",
    "                \"kernel_size\": [2, 7],\n",
    "                \"bias\": True,\n",
    "                \"padding\": [0, 3],\n",
    "            },\n",
    "        },\n",
    "        {\"class\": \"ReLU\", \"kargs\": {\"inplace\": True}},\n",
    "        {\"class\": \"BatchNorm2d\", \"kargs\": {\"num_features\": 80}},\n",
    "        {\"class\": \"Flatten\", \"kargs\": {}},\n",
    "        {\"class\": \"Linear\", \"kargs\": {\"in_features\": 20480, \"out_features\": 256}},\n",
    "        {\"class\": \"ReLU\", \"kargs\": {\"inplace\": True}},\n",
    "        {\"class\": \"BatchNorm1d\", \"kargs\": {\"num_features\": 256}},\n",
    "        {\"class\": \"Linear\", \"kargs\": {\"in_features\": 256, \"out_features\": 256}},\n",
    "    ],\n",
    "    \"NUM_LOGS_PER_EPOCH\": 10,\n",
    "    \"BEST_MODEL_PATH\": \"./best_model.pth\",\n",
    "    \"n_way\": 16,\n",
    "    \"datasets\": [\n",
    "        {\n",
    "            \"labels\": [\n",
    "                \"1-10.\",\n",
    "                \"1-11.\",\n",
    "                \"1-15.\",\n",
    "                \"1-16.\",\n",
    "                \"1-17.\",\n",
    "                \"1-18.\",\n",
    "                \"1-19.\",\n",
    "                \"10-4.\",\n",
    "                \"10-7.\",\n",
    "                \"11-1.\",\n",
    "                \"11-14.\",\n",
    "                \"11-17.\",\n",
    "                \"11-20.\",\n",
    "                \"11-7.\",\n",
    "                \"13-20.\",\n",
    "                \"13-8.\",\n",
    "                \"14-10.\",\n",
    "                \"14-11.\",\n",
    "                \"14-14.\",\n",
    "                \"14-7.\",\n",
    "                \"15-1.\",\n",
    "                \"15-20.\",\n",
    "                \"16-1.\",\n",
    "                \"16-16.\",\n",
    "                \"17-10.\",\n",
    "                \"17-11.\",\n",
    "                \"17-2.\",\n",
    "                \"19-1.\",\n",
    "                \"19-16.\",\n",
    "                \"19-19.\",\n",
    "                \"19-20.\",\n",
    "                \"19-3.\",\n",
    "                \"2-10.\",\n",
    "                \"2-11.\",\n",
    "                \"2-17.\",\n",
    "                \"2-18.\",\n",
    "                \"2-20.\",\n",
    "                \"2-3.\",\n",
    "                \"2-4.\",\n",
    "                \"2-5.\",\n",
    "                \"2-6.\",\n",
    "                \"2-7.\",\n",
    "                \"2-8.\",\n",
    "                \"3-13.\",\n",
    "                \"3-18.\",\n",
    "                \"3-3.\",\n",
    "                \"4-1.\",\n",
    "                \"4-10.\",\n",
    "                \"4-11.\",\n",
    "                \"4-19.\",\n",
    "                \"5-5.\",\n",
    "                \"6-15.\",\n",
    "                \"7-10.\",\n",
    "                \"7-14.\",\n",
    "                \"8-18.\",\n",
    "                \"8-20.\",\n",
    "                \"8-3.\",\n",
    "                \"8-8.\",\n",
    "            ],\n",
    "            \"domains\": [1, 2, 3, 4, 5],\n",
    "            \"num_examples_per_domain_per_label\": 100,\n",
    "            \"pickle_path\": \"/mnt/wd500GB/CSC500/csc500-main/datasets/cores.stratified_ds.2022A.pkl\",\n",
    "            \"source_or_target_dataset\": \"source\",\n",
    "            \"x_transforms\": [\"unit_power\"],\n",
    "            \"episode_transforms\": [],\n",
    "            \"domain_prefix\": \"CORES_\",\n",
    "        },\n",
    "        {\n",
    "            \"labels\": [\n",
    "                \"3123D52\",\n",
    "                \"3123D65\",\n",
    "                \"3123D79\",\n",
    "                \"3123D80\",\n",
    "                \"3123D54\",\n",
    "                \"3123D70\",\n",
    "                \"3123D7B\",\n",
    "                \"3123D89\",\n",
    "                \"3123D58\",\n",
    "                \"3123D76\",\n",
    "                \"3123D7D\",\n",
    "                \"3123EFE\",\n",
    "                \"3123D64\",\n",
    "                \"3123D78\",\n",
    "                \"3123D7E\",\n",
    "                \"3124E4A\",\n",
    "            ],\n",
    "            \"domains\": [32, 38, 8, 44, 14, 50, 20, 26],\n",
    "            \"num_examples_per_domain_per_label\": 10000,\n",
    "            \"pickle_path\": \"/mnt/wd500GB/CSC500/csc500-main/datasets/oracle.Run1_10kExamples_stratified_ds.2022A.pkl\",\n",
    "            \"source_or_target_dataset\": \"target\",\n",
    "            \"x_transforms\": [\"unit_power\"],\n",
    "            \"episode_transforms\": [],\n",
    "            \"domain_prefix\": \"ORACLE.run1_\",\n",
    "        },\n",
    "    ],\n",
    "}\n"
   ]
  },
  {
   "cell_type": "code",
   "execution_count": 5,
   "id": "8fa1cc33",
   "metadata": {
    "execution": {
     "iopub.execute_input": "2022-03-13T19:08:08.603320Z",
     "iopub.status.busy": "2022-03-13T19:08:08.602915Z",
     "iopub.status.idle": "2022-03-13T19:08:08.614426Z",
     "shell.execute_reply": "2022-03-13T19:08:08.614160Z"
    },
    "papermill": {
     "duration": 0.026615,
     "end_time": "2022-03-13T19:08:08.614484",
     "exception": false,
     "start_time": "2022-03-13T19:08:08.587869",
     "status": "completed"
    },
    "tags": []
   },
   "outputs": [],
   "source": [
    "# Set this to True if you want to run this template directly\n",
    "STANDALONE = False\n",
    "if STANDALONE:\n",
    "    print(\"parameters not injected, running with standalone_parameters\")\n",
    "    parameters = standalone_parameters\n",
    "\n",
    "if not 'parameters' in locals() and not 'parameters' in globals():\n",
    "    raise Exception(\"Parameter injection failed\")\n",
    "\n",
    "#Use an easy dict for all the parameters\n",
    "p = EasyDict(parameters)\n",
    "\n",
    "supplied_keys = set(p.keys())\n",
    "\n",
    "if  supplied_keys != required_parameters:\n",
    "    print(\"Parameters are incorrect\")\n",
    "    if len(supplied_keys - required_parameters)>0: print(\"Shouldn't have:\", str(supplied_keys - required_parameters))\n",
    "    if len(required_parameters - supplied_keys)>0: print(\"Need to have:\", str(required_parameters - supplied_keys))\n",
    "    raise RuntimeError(\"Parameters are incorrect\")\n",
    "\n"
   ]
  },
  {
   "cell_type": "code",
   "execution_count": 6,
   "id": "3a028d58",
   "metadata": {
    "execution": {
     "iopub.execute_input": "2022-03-13T19:08:08.643550Z",
     "iopub.status.busy": "2022-03-13T19:08:08.643144Z",
     "iopub.status.idle": "2022-03-13T19:08:08.655391Z",
     "shell.execute_reply": "2022-03-13T19:08:08.655625Z"
    },
    "papermill": {
     "duration": 0.026953,
     "end_time": "2022-03-13T19:08:08.655695",
     "exception": false,
     "start_time": "2022-03-13T19:08:08.628742",
     "status": "completed"
    },
    "tags": []
   },
   "outputs": [],
   "source": [
    "###################################\n",
    "# Set the RNGs and make it all deterministic\n",
    "###################################\n",
    "np.random.seed(p.seed)\n",
    "random.seed(p.seed)\n",
    "torch.manual_seed(p.seed)\n",
    "\n",
    "torch.use_deterministic_algorithms(True) "
   ]
  },
  {
   "cell_type": "code",
   "execution_count": 7,
   "id": "b691acf6",
   "metadata": {
    "execution": {
     "iopub.execute_input": "2022-03-13T19:08:08.687560Z",
     "iopub.status.busy": "2022-03-13T19:08:08.687148Z",
     "iopub.status.idle": "2022-03-13T19:08:08.698086Z",
     "shell.execute_reply": "2022-03-13T19:08:08.698302Z"
    },
    "papermill": {
     "duration": 0.026944,
     "end_time": "2022-03-13T19:08:08.698376",
     "exception": false,
     "start_time": "2022-03-13T19:08:08.671432",
     "status": "completed"
    },
    "tags": []
   },
   "outputs": [],
   "source": [
    "###########################################\n",
    "# The stratified datasets honor this\n",
    "###########################################\n",
    "torch.set_default_dtype(eval(p.torch_default_dtype))"
   ]
  },
  {
   "cell_type": "code",
   "execution_count": 8,
   "id": "b5fba671",
   "metadata": {
    "execution": {
     "iopub.execute_input": "2022-03-13T19:08:08.726942Z",
     "iopub.status.busy": "2022-03-13T19:08:08.726680Z",
     "iopub.status.idle": "2022-03-13T19:08:08.765659Z",
     "shell.execute_reply": "2022-03-13T19:08:08.766083Z"
    },
    "papermill": {
     "duration": 0.054537,
     "end_time": "2022-03-13T19:08:08.766217",
     "exception": false,
     "start_time": "2022-03-13T19:08:08.711680",
     "status": "completed"
    },
    "tags": []
   },
   "outputs": [],
   "source": [
    "###################################\n",
    "# Build the network(s)\n",
    "# Note: It's critical to do this AFTER setting the RNG\n",
    "###################################\n",
    "x_net = build_sequential(p.x_net)"
   ]
  },
  {
   "cell_type": "code",
   "execution_count": 9,
   "id": "5d7e61cc",
   "metadata": {
    "execution": {
     "iopub.execute_input": "2022-03-13T19:08:08.799004Z",
     "iopub.status.busy": "2022-03-13T19:08:08.798608Z",
     "iopub.status.idle": "2022-03-13T19:08:08.809840Z",
     "shell.execute_reply": "2022-03-13T19:08:08.809567Z"
    },
    "papermill": {
     "duration": 0.026951,
     "end_time": "2022-03-13T19:08:08.809902",
     "exception": false,
     "start_time": "2022-03-13T19:08:08.782951",
     "status": "completed"
    },
    "tags": []
   },
   "outputs": [],
   "source": [
    "start_time_secs = time.time()"
   ]
  },
  {
   "cell_type": "code",
   "execution_count": 10,
   "id": "c6b67dfd",
   "metadata": {
    "execution": {
     "iopub.execute_input": "2022-03-13T19:08:08.838320Z",
     "iopub.status.busy": "2022-03-13T19:08:08.837920Z",
     "iopub.status.idle": "2022-03-13T19:08:08.848615Z",
     "shell.execute_reply": "2022-03-13T19:08:08.848830Z"
    },
    "papermill": {
     "duration": 0.02597,
     "end_time": "2022-03-13T19:08:08.848903",
     "exception": false,
     "start_time": "2022-03-13T19:08:08.822933",
     "status": "completed"
    },
    "tags": []
   },
   "outputs": [],
   "source": [
    "p.domains_source = []\n",
    "p.domains_target = []\n",
    "\n",
    "\n",
    "train_original_source = []\n",
    "val_original_source   = []\n",
    "test_original_source  = []\n",
    "\n",
    "train_original_target = []\n",
    "val_original_target   = []\n",
    "test_original_target  = []"
   ]
  },
  {
   "cell_type": "code",
   "execution_count": 11,
   "id": "e3d9c3d3",
   "metadata": {
    "execution": {
     "iopub.execute_input": "2022-03-13T19:08:08.878428Z",
     "iopub.status.busy": "2022-03-13T19:08:08.878024Z",
     "iopub.status.idle": "2022-03-13T19:08:08.888354Z",
     "shell.execute_reply": "2022-03-13T19:08:08.888572Z"
    },
    "papermill": {
     "duration": 0.024897,
     "end_time": "2022-03-13T19:08:08.888639",
     "exception": false,
     "start_time": "2022-03-13T19:08:08.863742",
     "status": "completed"
    },
    "tags": []
   },
   "outputs": [],
   "source": [
    "# global_x_transform_func = lambda x: normalize(x.to(torch.get_default_dtype()), \"unit_power\") # unit_power, unit_mag\n",
    "# global_x_transform_func = lambda x: normalize(x, \"unit_power\") # unit_power, unit_mag"
   ]
  },
  {
   "cell_type": "code",
   "execution_count": 12,
   "id": "acb78fd2",
   "metadata": {
    "execution": {
     "iopub.execute_input": "2022-03-13T19:08:08.921114Z",
     "iopub.status.busy": "2022-03-13T19:08:08.920705Z",
     "iopub.status.idle": "2022-03-13T19:08:08.932237Z",
     "shell.execute_reply": "2022-03-13T19:08:08.931963Z"
    },
    "papermill": {
     "duration": 0.029209,
     "end_time": "2022-03-13T19:08:08.932297",
     "exception": false,
     "start_time": "2022-03-13T19:08:08.903088",
     "status": "completed"
    },
    "tags": []
   },
   "outputs": [],
   "source": [
    "def add_dataset(\n",
    "    labels,\n",
    "    domains,\n",
    "    pickle_path,\n",
    "    x_transforms,\n",
    "    episode_transforms,\n",
    "    domain_prefix,\n",
    "    num_examples_per_domain_per_label,\n",
    "    source_or_target_dataset:str,\n",
    "    iterator_seed=p.seed,\n",
    "    dataset_seed=p.dataset_seed,\n",
    "    n_shot=p.n_shot,\n",
    "    n_way=p.n_way,\n",
    "    n_query=p.n_query,\n",
    "    train_val_test_k_factors=(p.train_k_factor,p.val_k_factor,p.test_k_factor),\n",
    "):\n",
    "   \n",
    "    if x_transforms == []: x_transform = None\n",
    "    else: x_transform = get_chained_transform(x_transforms)\n",
    "    \n",
    "    if episode_transforms == []: episode_transform = None\n",
    "    else: raise Exception(\"episode_transforms not implemented\")\n",
    "    \n",
    "    episode_transform = lambda tup, _prefix=domain_prefix: (_prefix + str(tup[0]), tup[1])\n",
    "\n",
    "\n",
    "    eaf = Episodic_Accessor_Factory(\n",
    "        labels=labels,\n",
    "        domains=domains,\n",
    "        num_examples_per_domain_per_label=num_examples_per_domain_per_label,\n",
    "        iterator_seed=iterator_seed,\n",
    "        dataset_seed=dataset_seed,\n",
    "        n_shot=n_shot,\n",
    "        n_way=n_way,\n",
    "        n_query=n_query,\n",
    "        train_val_test_k_factors=train_val_test_k_factors,\n",
    "        pickle_path=pickle_path,\n",
    "        x_transform_func=x_transform,\n",
    "    )\n",
    "\n",
    "    train, val, test = eaf.get_train(), eaf.get_val(), eaf.get_test()\n",
    "    train = Lazy_Iterable_Wrapper(train, episode_transform)\n",
    "    val = Lazy_Iterable_Wrapper(val, episode_transform)\n",
    "    test = Lazy_Iterable_Wrapper(test, episode_transform)\n",
    "\n",
    "    if source_or_target_dataset==\"source\":\n",
    "        train_original_source.append(train)\n",
    "        val_original_source.append(val)\n",
    "        test_original_source.append(test)\n",
    "\n",
    "        p.domains_source.extend(\n",
    "            [domain_prefix + str(u) for u in domains]\n",
    "        )\n",
    "    elif source_or_target_dataset==\"target\":\n",
    "        train_original_target.append(train)\n",
    "        val_original_target.append(val)\n",
    "        test_original_target.append(test)\n",
    "        p.domains_target.extend(\n",
    "            [domain_prefix + str(u) for u in domains]\n",
    "        )\n",
    "    else:\n",
    "        raise Exception(f\"invalid source_or_target_dataset: {source_or_target_dataset}\")\n",
    "    "
   ]
  },
  {
   "cell_type": "code",
   "execution_count": 13,
   "id": "fe266617",
   "metadata": {
    "execution": {
     "iopub.execute_input": "2022-03-13T19:08:08.961195Z",
     "iopub.status.busy": "2022-03-13T19:08:08.960799Z",
     "iopub.status.idle": "2022-03-13T19:09:39.627125Z",
     "shell.execute_reply": "2022-03-13T19:09:39.626658Z"
    },
    "papermill": {
     "duration": 90.681321,
     "end_time": "2022-03-13T19:09:39.627240",
     "exception": false,
     "start_time": "2022-03-13T19:08:08.945919",
     "status": "completed"
    },
    "tags": []
   },
   "outputs": [],
   "source": [
    "for ds in p.datasets:\n",
    "    add_dataset(**ds)"
   ]
  },
  {
   "cell_type": "code",
   "execution_count": 14,
   "id": "b90d65ac",
   "metadata": {
    "execution": {
     "iopub.execute_input": "2022-03-13T19:09:39.662660Z",
     "iopub.status.busy": "2022-03-13T19:09:39.662149Z",
     "iopub.status.idle": "2022-03-13T19:09:39.677218Z",
     "shell.execute_reply": "2022-03-13T19:09:39.677612Z"
    },
    "papermill": {
     "duration": 0.030849,
     "end_time": "2022-03-13T19:09:39.677730",
     "exception": false,
     "start_time": "2022-03-13T19:09:39.646881",
     "status": "completed"
    },
    "tags": []
   },
   "outputs": [],
   "source": [
    "# from steves_utils.CORES.utils import (\n",
    "#     ALL_NODES,\n",
    "#     ALL_NODES_MINIMUM_1000_EXAMPLES,\n",
    "#     ALL_DAYS\n",
    "# )\n",
    "\n",
    "# add_dataset(\n",
    "#     labels=ALL_NODES,\n",
    "#     domains = ALL_DAYS,\n",
    "#     num_examples_per_domain_per_label=100,\n",
    "#     pickle_path=os.path.join(get_datasets_base_path(), \"cores.stratified_ds.2022A.pkl\"),\n",
    "#     source_or_target_dataset=\"target\",\n",
    "#     x_transform_func=global_x_transform_func,\n",
    "#     domain_modifier=lambda u: f\"cores_{u}\"\n",
    "# )"
   ]
  },
  {
   "cell_type": "code",
   "execution_count": 15,
   "id": "76db484d",
   "metadata": {
    "execution": {
     "iopub.execute_input": "2022-03-13T19:09:39.711557Z",
     "iopub.status.busy": "2022-03-13T19:09:39.711152Z",
     "iopub.status.idle": "2022-03-13T19:09:39.721557Z",
     "shell.execute_reply": "2022-03-13T19:09:39.721228Z"
    },
    "papermill": {
     "duration": 0.02536,
     "end_time": "2022-03-13T19:09:39.721635",
     "exception": false,
     "start_time": "2022-03-13T19:09:39.696275",
     "status": "completed"
    },
    "tags": []
   },
   "outputs": [],
   "source": [
    "# from steves_utils.ORACLE.utils_v2 import (\n",
    "#     ALL_DISTANCES_FEET,\n",
    "#     ALL_RUNS,\n",
    "#     ALL_SERIAL_NUMBERS,\n",
    "# )\n",
    "\n",
    "\n",
    "# add_dataset(\n",
    "#     labels=ALL_SERIAL_NUMBERS,\n",
    "#     domains = list(set(ALL_DISTANCES_FEET) - {2,62}),\n",
    "#     num_examples_per_domain_per_label=100,\n",
    "#     pickle_path=os.path.join(get_datasets_base_path(), \"oracle.Run2_framed_2000Examples_stratified_ds.2022A.pkl\"),\n",
    "#     source_or_target_dataset=\"source\",\n",
    "#     x_transform_func=global_x_transform_func,\n",
    "#     domain_modifier=lambda u: f\"oracle1_{u}\"\n",
    "# )\n"
   ]
  },
  {
   "cell_type": "code",
   "execution_count": 16,
   "id": "97dea9d2",
   "metadata": {
    "execution": {
     "iopub.execute_input": "2022-03-13T19:09:39.755200Z",
     "iopub.status.busy": "2022-03-13T19:09:39.754922Z",
     "iopub.status.idle": "2022-03-13T19:09:39.770394Z",
     "shell.execute_reply": "2022-03-13T19:09:39.769906Z"
    },
    "papermill": {
     "duration": 0.030136,
     "end_time": "2022-03-13T19:09:39.770493",
     "exception": false,
     "start_time": "2022-03-13T19:09:39.740357",
     "status": "completed"
    },
    "tags": []
   },
   "outputs": [],
   "source": [
    "# from steves_utils.ORACLE.utils_v2 import (\n",
    "#     ALL_DISTANCES_FEET,\n",
    "#     ALL_RUNS,\n",
    "#     ALL_SERIAL_NUMBERS,\n",
    "# )\n",
    "\n",
    "\n",
    "# add_dataset(\n",
    "#     labels=ALL_SERIAL_NUMBERS,\n",
    "#     domains = list(set(ALL_DISTANCES_FEET) - {2,62,56}),\n",
    "#     num_examples_per_domain_per_label=100,\n",
    "#     pickle_path=os.path.join(get_datasets_base_path(), \"oracle.Run2_framed_2000Examples_stratified_ds.2022A.pkl\"),\n",
    "#     source_or_target_dataset=\"source\",\n",
    "#     x_transform_func=global_x_transform_func,\n",
    "#     domain_modifier=lambda u: f\"oracle2_{u}\"\n",
    "# )"
   ]
  },
  {
   "cell_type": "code",
   "execution_count": 17,
   "id": "6f289866",
   "metadata": {
    "execution": {
     "iopub.execute_input": "2022-03-13T19:09:39.804829Z",
     "iopub.status.busy": "2022-03-13T19:09:39.804566Z",
     "iopub.status.idle": "2022-03-13T19:09:39.820929Z",
     "shell.execute_reply": "2022-03-13T19:09:39.820477Z"
    },
    "papermill": {
     "duration": 0.031454,
     "end_time": "2022-03-13T19:09:39.821028",
     "exception": false,
     "start_time": "2022-03-13T19:09:39.789574",
     "status": "completed"
    },
    "tags": []
   },
   "outputs": [],
   "source": [
    "# add_dataset(\n",
    "#     labels=list(range(19)),\n",
    "#     domains = [0,1,2],\n",
    "#     num_examples_per_domain_per_label=100,\n",
    "#     pickle_path=os.path.join(get_datasets_base_path(), \"metehan.stratified_ds.2022A.pkl\"),\n",
    "#     source_or_target_dataset=\"target\",\n",
    "#     x_transform_func=global_x_transform_func,\n",
    "#     domain_modifier=lambda u: f\"met_{u}\"\n",
    "# )"
   ]
  },
  {
   "cell_type": "code",
   "execution_count": 18,
   "id": "86a863c3",
   "metadata": {
    "execution": {
     "iopub.execute_input": "2022-03-13T19:09:39.855179Z",
     "iopub.status.busy": "2022-03-13T19:09:39.854910Z",
     "iopub.status.idle": "2022-03-13T19:09:39.868536Z",
     "shell.execute_reply": "2022-03-13T19:09:39.868915Z"
    },
    "papermill": {
     "duration": 0.029116,
     "end_time": "2022-03-13T19:09:39.869035",
     "exception": false,
     "start_time": "2022-03-13T19:09:39.839919",
     "status": "completed"
    },
    "tags": []
   },
   "outputs": [],
   "source": [
    "# # from steves_utils.wisig.utils import (\n",
    "# #     ALL_NODES_MINIMUM_100_EXAMPLES,\n",
    "# #     ALL_NODES_MINIMUM_500_EXAMPLES,\n",
    "# #     ALL_NODES_MINIMUM_1000_EXAMPLES,\n",
    "# #     ALL_DAYS\n",
    "# # )\n",
    "\n",
    "# import steves_utils.wisig.utils as wisig\n",
    "\n",
    "\n",
    "# add_dataset(\n",
    "#     labels=wisig.ALL_NODES_MINIMUM_100_EXAMPLES,\n",
    "#     domains = wisig.ALL_DAYS,\n",
    "#     num_examples_per_domain_per_label=100,\n",
    "#     pickle_path=os.path.join(get_datasets_base_path(), \"wisig.node3-19.stratified_ds.2022A.pkl\"),\n",
    "#     source_or_target_dataset=\"target\",\n",
    "#     x_transform_func=global_x_transform_func,\n",
    "#     domain_modifier=lambda u: f\"wisig_{u}\"\n",
    "# )"
   ]
  },
  {
   "cell_type": "code",
   "execution_count": 19,
   "id": "fd5442bc",
   "metadata": {
    "execution": {
     "iopub.execute_input": "2022-03-13T19:09:39.906621Z",
     "iopub.status.busy": "2022-03-13T19:09:39.902963Z",
     "iopub.status.idle": "2022-03-13T19:09:39.922352Z",
     "shell.execute_reply": "2022-03-13T19:09:39.921921Z"
    },
    "papermill": {
     "duration": 0.03408,
     "end_time": "2022-03-13T19:09:39.922455",
     "exception": false,
     "start_time": "2022-03-13T19:09:39.888375",
     "status": "completed"
    },
    "tags": []
   },
   "outputs": [],
   "source": [
    "###################################\n",
    "# Build the dataset\n",
    "###################################\n",
    "train_original_source = Iterable_Aggregator(train_original_source, p.seed)\n",
    "val_original_source = Iterable_Aggregator(val_original_source, p.seed)\n",
    "test_original_source = Iterable_Aggregator(test_original_source, p.seed)\n",
    "\n",
    "\n",
    "train_original_target = Iterable_Aggregator(train_original_target, p.seed)\n",
    "val_original_target = Iterable_Aggregator(val_original_target, p.seed)\n",
    "test_original_target = Iterable_Aggregator(test_original_target, p.seed)\n",
    "\n",
    "# For CNN We only use X and Y. And we only train on the source.\n",
    "# Properly form the data using a transform lambda and Lazy_Iterable_Wrapper. Finally wrap them in a dataloader\n",
    "\n",
    "transform_lambda = lambda ex: ex[1] # Original is (<domain>, <episode>) so we strip down to episode only\n",
    "\n",
    "train_processed_source = Lazy_Iterable_Wrapper(train_original_source, transform_lambda)\n",
    "val_processed_source   = Lazy_Iterable_Wrapper(val_original_source, transform_lambda)\n",
    "test_processed_source  = Lazy_Iterable_Wrapper(test_original_source, transform_lambda)\n",
    "\n",
    "train_processed_target = Lazy_Iterable_Wrapper(train_original_target, transform_lambda)\n",
    "val_processed_target   = Lazy_Iterable_Wrapper(val_original_target, transform_lambda)\n",
    "test_processed_target  = Lazy_Iterable_Wrapper(test_original_target, transform_lambda)\n",
    "\n",
    "datasets = EasyDict({\n",
    "    \"source\": {\n",
    "        \"original\": {\"train\":train_original_source, \"val\":val_original_source, \"test\":test_original_source},\n",
    "        \"processed\": {\"train\":train_processed_source, \"val\":val_processed_source, \"test\":test_processed_source}\n",
    "    },\n",
    "    \"target\": {\n",
    "        \"original\": {\"train\":train_original_target, \"val\":val_original_target, \"test\":test_original_target},\n",
    "        \"processed\": {\"train\":train_processed_target, \"val\":val_processed_target, \"test\":test_processed_target}\n",
    "    },\n",
    "})"
   ]
  },
  {
   "cell_type": "code",
   "execution_count": 20,
   "id": "5b3c01fc",
   "metadata": {
    "execution": {
     "iopub.execute_input": "2022-03-13T19:09:39.956881Z",
     "iopub.status.busy": "2022-03-13T19:09:39.956112Z",
     "iopub.status.idle": "2022-03-13T19:09:54.415556Z",
     "shell.execute_reply": "2022-03-13T19:09:54.415775Z"
    },
    "papermill": {
     "duration": 14.475068,
     "end_time": "2022-03-13T19:09:54.415853",
     "exception": false,
     "start_time": "2022-03-13T19:09:39.940785",
     "status": "completed"
    },
    "tags": []
   },
   "outputs": [
    {
     "name": "stdout",
     "output_type": "stream",
     "text": [
      "{'CORES_3', 'CORES_5', 'CORES_2', 'CORES_4', 'CORES_1'}\n"
     ]
    },
    {
     "name": "stdout",
     "output_type": "stream",
     "text": [
      "{'ORACLE.run1_38', 'ORACLE.run1_26', 'ORACLE.run1_14', 'ORACLE.run1_50', 'ORACLE.run1_20', 'ORACLE.run1_8', 'ORACLE.run1_44', 'ORACLE.run1_32'}\n"
     ]
    },
    {
     "name": "stdout",
     "output_type": "stream",
     "text": [
      "tensor([[[-0.2320, -0.3457,  0.3305,  ..., -0.5649, -0.7785,  0.2272],\n",
      "         [ 0.1224, -0.6721, -0.7225,  ..., -0.6273, -0.2520, -0.5185]],\n",
      "\n",
      "        [[ 0.4082,  0.9356, -0.1801,  ...,  0.2386,  0.4442,  0.1043],\n",
      "         [-0.3917, -0.0203,  0.8591,  ..., -0.8959, -0.1155,  0.6175]],\n",
      "\n",
      "        [[-0.5665, -0.2245,  0.9676,  ..., -0.8789, -0.1606,  0.6360],\n",
      "         [-0.3244, -0.8661, -0.0120,  ...,  0.0967, -0.4147, -0.1774]],\n",
      "\n",
      "        ...,\n",
      "\n",
      "        [[ 0.7252,  0.8932,  0.4826,  ..., -1.5197, -1.7370, -0.4759],\n",
      "         [ 0.5172,  0.4999, -0.5346,  ..., -1.0118,  0.2866,  0.6252]],\n",
      "\n",
      "        [[ 0.3537,  0.3550, -0.1556,  ..., -0.0746, -0.3846, -0.0334],\n",
      "         [ 0.1351,  0.0476, -0.2843,  ..., -0.1016,  0.0733, -0.5583]],\n",
      "\n",
      "        [[-0.1442,  0.1220,  0.2662,  ...,  0.4187,  0.3993, -0.3993],\n",
      "         [ 0.3202,  0.3715,  0.3632,  ...,  0.5684,  0.0721, -0.0555]]])\n"
     ]
    }
   ],
   "source": [
    "from steves_utils.transforms import get_average_magnitude, get_average_power\n",
    "\n",
    "print(set([u for u,_ in val_original_source]))\n",
    "print(set([u for u,_ in val_original_target]))\n",
    "\n",
    "s_x, s_y, q_x, q_y, _ = next(iter(train_processed_source))\n",
    "print(s_x)\n",
    "\n",
    "# for ds in [\n",
    "#     train_processed_source,\n",
    "#     val_processed_source,\n",
    "#     test_processed_source,\n",
    "#     train_processed_target,\n",
    "#     val_processed_target,\n",
    "#     test_processed_target\n",
    "# ]:\n",
    "#     for s_x, s_y, q_x, q_y, _ in ds:\n",
    "#         for X in (s_x, q_x):\n",
    "#             for x in X:\n",
    "#                 assert np.isclose(get_average_magnitude(x.numpy()), 1.0)\n",
    "#                 assert np.isclose(get_average_power(x.numpy()), 1.0)\n",
    "                "
   ]
  },
  {
   "cell_type": "code",
   "execution_count": 21,
   "id": "bbdacba1",
   "metadata": {
    "execution": {
     "iopub.execute_input": "2022-03-13T19:09:54.449712Z",
     "iopub.status.busy": "2022-03-13T19:09:54.449448Z",
     "iopub.status.idle": "2022-03-13T19:09:54.531524Z",
     "shell.execute_reply": "2022-03-13T19:09:54.531916Z"
    },
    "papermill": {
     "duration": 0.100135,
     "end_time": "2022-03-13T19:09:54.532050",
     "exception": false,
     "start_time": "2022-03-13T19:09:54.431915",
     "status": "completed"
    },
    "tags": []
   },
   "outputs": [
    {
     "name": "stdout",
     "output_type": "stream",
     "text": [
      "(2, 256)\n"
     ]
    }
   ],
   "source": [
    "###################################\n",
    "# Build the model\n",
    "###################################\n",
    "model = Steves_Prototypical_Network(x_net, device=p.device, x_shape=(2,256))\n",
    "optimizer = Adam(params=model.parameters(), lr=p.lr)"
   ]
  },
  {
   "cell_type": "code",
   "execution_count": 22,
   "id": "22b39ac5",
   "metadata": {
    "execution": {
     "iopub.execute_input": "2022-03-13T19:09:54.570175Z",
     "iopub.status.busy": "2022-03-13T19:09:54.569912Z",
     "iopub.status.idle": "2022-03-13T19:14:11.663334Z",
     "shell.execute_reply": "2022-03-13T19:14:11.663103Z"
    },
    "papermill": {
     "duration": 257.110661,
     "end_time": "2022-03-13T19:14:11.663392",
     "exception": false,
     "start_time": "2022-03-13T19:09:54.552731",
     "status": "completed"
    },
    "tags": []
   },
   "outputs": [
    {
     "name": "stdout",
     "output_type": "stream",
     "text": [
      "epoch: 1, [batch: 1 / 735], examples_per_second: 287.5721, train_label_loss: 2.6574, \n"
     ]
    },
    {
     "name": "stdout",
     "output_type": "stream",
     "text": [
      "epoch: 1, [batch: 74 / 735], examples_per_second: 3207.5140, train_label_loss: 0.3959, \n"
     ]
    },
    {
     "name": "stdout",
     "output_type": "stream",
     "text": [
      "epoch: 1, [batch: 147 / 735], examples_per_second: 3308.3165, train_label_loss: 0.1216, \n"
     ]
    },
    {
     "name": "stdout",
     "output_type": "stream",
     "text": [
      "epoch: 1, [batch: 221 / 735], examples_per_second: 3266.1785, train_label_loss: 0.0242, \n"
     ]
    },
    {
     "name": "stdout",
     "output_type": "stream",
     "text": [
      "epoch: 1, [batch: 294 / 735], examples_per_second: 3283.9181, train_label_loss: 0.0090, \n"
     ]
    },
    {
     "name": "stdout",
     "output_type": "stream",
     "text": [
      "epoch: 1, [batch: 368 / 735], examples_per_second: 3257.6251, train_label_loss: 0.1730, \n"
     ]
    },
    {
     "name": "stdout",
     "output_type": "stream",
     "text": [
      "epoch: 1, [batch: 441 / 735], examples_per_second: 3291.8598, train_label_loss: 0.0020, \n"
     ]
    },
    {
     "name": "stdout",
     "output_type": "stream",
     "text": [
      "epoch: 1, [batch: 514 / 735], examples_per_second: 3264.1124, train_label_loss: 0.0354, \n"
     ]
    },
    {
     "name": "stdout",
     "output_type": "stream",
     "text": [
      "epoch: 1, [batch: 588 / 735], examples_per_second: 3324.8514, train_label_loss: 0.0453, \n"
     ]
    },
    {
     "name": "stdout",
     "output_type": "stream",
     "text": [
      "epoch: 1, [batch: 661 / 735], examples_per_second: 3351.1854, train_label_loss: 0.0053, \n"
     ]
    },
    {
     "name": "stdout",
     "output_type": "stream",
     "text": [
      "=============================================================\n",
      "epoch: 1, source_val_acc_label: 0.9894, target_val_acc_label: 0.1225, source_val_label_loss: 0.0333, target_val_label_loss: 2.7916, \n",
      "=============================================================\n"
     ]
    },
    {
     "name": "stdout",
     "output_type": "stream",
     "text": [
      "New best\n"
     ]
    },
    {
     "name": "stdout",
     "output_type": "stream",
     "text": [
      "epoch: 2, [batch: 1 / 734], examples_per_second: 4.5574, train_label_loss: 0.0712, \n"
     ]
    },
    {
     "name": "stdout",
     "output_type": "stream",
     "text": [
      "epoch: 2, [batch: 74 / 734], examples_per_second: 3239.1921, train_label_loss: 0.0038, \n"
     ]
    },
    {
     "name": "stdout",
     "output_type": "stream",
     "text": [
      "epoch: 2, [batch: 147 / 734], examples_per_second: 3251.4981, train_label_loss: 0.0005, \n"
     ]
    },
    {
     "name": "stdout",
     "output_type": "stream",
     "text": [
      "epoch: 2, [batch: 220 / 734], examples_per_second: 3285.3879, train_label_loss: 0.0192, \n"
     ]
    },
    {
     "name": "stdout",
     "output_type": "stream",
     "text": [
      "epoch: 2, [batch: 294 / 734], examples_per_second: 3288.6141, train_label_loss: 0.0491, \n"
     ]
    },
    {
     "name": "stdout",
     "output_type": "stream",
     "text": [
      "epoch: 2, [batch: 367 / 734], examples_per_second: 3295.9202, train_label_loss: 0.3773, \n"
     ]
    },
    {
     "name": "stdout",
     "output_type": "stream",
     "text": [
      "epoch: 2, [batch: 440 / 734], examples_per_second: 3275.3554, train_label_loss: 0.0192, \n"
     ]
    },
    {
     "name": "stdout",
     "output_type": "stream",
     "text": [
      "epoch: 2, [batch: 514 / 734], examples_per_second: 3278.5475, train_label_loss: 0.0582, \n"
     ]
    },
    {
     "name": "stdout",
     "output_type": "stream",
     "text": [
      "epoch: 2, [batch: 587 / 734], examples_per_second: 3317.6758, train_label_loss: 0.0000, \n"
     ]
    },
    {
     "name": "stdout",
     "output_type": "stream",
     "text": [
      "epoch: 2, [batch: 660 / 734], examples_per_second: 3345.2018, train_label_loss: 0.0015, \n"
     ]
    },
    {
     "name": "stdout",
     "output_type": "stream",
     "text": [
      "=============================================================\n",
      "epoch: 2, source_val_acc_label: 0.9928, target_val_acc_label: 0.1272, source_val_label_loss: 0.0211, target_val_label_loss: 3.2184, \n",
      "=============================================================\n"
     ]
    },
    {
     "name": "stdout",
     "output_type": "stream",
     "text": [
      "epoch: 3, [batch: 1 / 734], examples_per_second: 4.5172, train_label_loss: 0.0020, \n"
     ]
    },
    {
     "name": "stdout",
     "output_type": "stream",
     "text": [
      "epoch: 3, [batch: 74 / 734], examples_per_second: 3231.8745, train_label_loss: 0.0014, \n"
     ]
    },
    {
     "name": "stdout",
     "output_type": "stream",
     "text": [
      "epoch: 3, [batch: 147 / 734], examples_per_second: 3284.5143, train_label_loss: 0.0067, \n"
     ]
    },
    {
     "name": "stdout",
     "output_type": "stream",
     "text": [
      "epoch: 3, [batch: 220 / 734], examples_per_second: 3254.0475, train_label_loss: 0.0044, \n"
     ]
    },
    {
     "name": "stdout",
     "output_type": "stream",
     "text": [
      "epoch: 3, [batch: 294 / 734], examples_per_second: 3258.8128, train_label_loss: 0.0293, \n"
     ]
    },
    {
     "name": "stdout",
     "output_type": "stream",
     "text": [
      "epoch: 3, [batch: 367 / 734], examples_per_second: 3299.0005, train_label_loss: 0.0006, \n"
     ]
    },
    {
     "name": "stdout",
     "output_type": "stream",
     "text": [
      "epoch: 3, [batch: 440 / 734], examples_per_second: 3275.5639, train_label_loss: 0.0000, \n"
     ]
    },
    {
     "name": "stdout",
     "output_type": "stream",
     "text": [
      "epoch: 3, [batch: 514 / 734], examples_per_second: 3282.8153, train_label_loss: 0.0002, \n"
     ]
    },
    {
     "name": "stdout",
     "output_type": "stream",
     "text": [
      "epoch: 3, [batch: 587 / 734], examples_per_second: 3302.0905, train_label_loss: 0.0649, \n"
     ]
    },
    {
     "name": "stdout",
     "output_type": "stream",
     "text": [
      "epoch: 3, [batch: 660 / 734], examples_per_second: 3293.1955, train_label_loss: 0.0062, \n"
     ]
    },
    {
     "name": "stdout",
     "output_type": "stream",
     "text": [
      "=============================================================\n",
      "epoch: 3, source_val_acc_label: 0.9959, target_val_acc_label: 0.1483, source_val_label_loss: 0.0202, target_val_label_loss: 3.3786, \n",
      "=============================================================\n"
     ]
    },
    {
     "name": "stdout",
     "output_type": "stream",
     "text": [
      "epoch: 4, [batch: 1 / 734], examples_per_second: 4.5180, train_label_loss: 0.0003, \n"
     ]
    },
    {
     "name": "stdout",
     "output_type": "stream",
     "text": [
      "epoch: 4, [batch: 74 / 734], examples_per_second: 3242.9291, train_label_loss: 0.0003, \n"
     ]
    },
    {
     "name": "stdout",
     "output_type": "stream",
     "text": [
      "epoch: 4, [batch: 147 / 734], examples_per_second: 3272.0297, train_label_loss: 0.0007, \n"
     ]
    },
    {
     "name": "stdout",
     "output_type": "stream",
     "text": [
      "epoch: 4, [batch: 220 / 734], examples_per_second: 3327.4001, train_label_loss: 0.0022, \n"
     ]
    },
    {
     "name": "stdout",
     "output_type": "stream",
     "text": [
      "epoch: 4, [batch: 294 / 734], examples_per_second: 3262.5903, train_label_loss: 0.1567, \n"
     ]
    },
    {
     "name": "stdout",
     "output_type": "stream",
     "text": [
      "epoch: 4, [batch: 367 / 734], examples_per_second: 3276.7658, train_label_loss: 0.0000, \n"
     ]
    },
    {
     "name": "stdout",
     "output_type": "stream",
     "text": [
      "epoch: 4, [batch: 440 / 734], examples_per_second: 3306.3851, train_label_loss: 0.0000, \n"
     ]
    },
    {
     "name": "stdout",
     "output_type": "stream",
     "text": [
      "epoch: 4, [batch: 514 / 734], examples_per_second: 3287.3367, train_label_loss: 0.0000, \n"
     ]
    },
    {
     "name": "stdout",
     "output_type": "stream",
     "text": [
      "epoch: 4, [batch: 587 / 734], examples_per_second: 3266.1202, train_label_loss: 0.0001, \n"
     ]
    },
    {
     "name": "stdout",
     "output_type": "stream",
     "text": [
      "epoch: 4, [batch: 660 / 734], examples_per_second: 3283.8375, train_label_loss: 0.0002, \n"
     ]
    },
    {
     "name": "stdout",
     "output_type": "stream",
     "text": [
      "=============================================================\n",
      "epoch: 4, source_val_acc_label: 0.9925, target_val_acc_label: 0.1487, source_val_label_loss: 0.0292, target_val_label_loss: 3.8147, \n",
      "=============================================================\n"
     ]
    },
    {
     "name": "stdout",
     "output_type": "stream",
     "text": [
      "epoch: 5, [batch: 1 / 737], examples_per_second: 4.5124, train_label_loss: 0.0000, \n"
     ]
    },
    {
     "name": "stdout",
     "output_type": "stream",
     "text": [
      "epoch: 5, [batch: 74 / 737], examples_per_second: 3284.3126, train_label_loss: 0.0135, \n"
     ]
    },
    {
     "name": "stdout",
     "output_type": "stream",
     "text": [
      "epoch: 5, [batch: 148 / 737], examples_per_second: 3290.9726, train_label_loss: 0.0000, \n"
     ]
    },
    {
     "name": "stdout",
     "output_type": "stream",
     "text": [
      "epoch: 5, [batch: 221 / 737], examples_per_second: 3304.1920, train_label_loss: 0.1509, \n"
     ]
    },
    {
     "name": "stdout",
     "output_type": "stream",
     "text": [
      "epoch: 5, [batch: 295 / 737], examples_per_second: 3248.7431, train_label_loss: 0.0544, \n"
     ]
    },
    {
     "name": "stdout",
     "output_type": "stream",
     "text": [
      "epoch: 5, [batch: 369 / 737], examples_per_second: 3277.5526, train_label_loss: 0.0289, \n"
     ]
    },
    {
     "name": "stdout",
     "output_type": "stream",
     "text": [
      "epoch: 5, [batch: 442 / 737], examples_per_second: 3282.1321, train_label_loss: 0.0217, \n"
     ]
    },
    {
     "name": "stdout",
     "output_type": "stream",
     "text": [
      "epoch: 5, [batch: 516 / 737], examples_per_second: 3279.9793, train_label_loss: 0.0916, \n"
     ]
    },
    {
     "name": "stdout",
     "output_type": "stream",
     "text": [
      "epoch: 5, [batch: 589 / 737], examples_per_second: 3304.6761, train_label_loss: 0.0907, \n"
     ]
    },
    {
     "name": "stdout",
     "output_type": "stream",
     "text": [
      "epoch: 5, [batch: 663 / 737], examples_per_second: 3303.1455, train_label_loss: 0.1346, \n"
     ]
    },
    {
     "name": "stdout",
     "output_type": "stream",
     "text": [
      "=============================================================\n",
      "epoch: 5, source_val_acc_label: 0.9894, target_val_acc_label: 0.1425, source_val_label_loss: 0.0346, target_val_label_loss: 4.4100, \n",
      "=============================================================\n"
     ]
    },
    {
     "name": "stdout",
     "output_type": "stream",
     "text": [
      "Patience (3) exhausted\n"
     ]
    }
   ],
   "source": [
    "###################################\n",
    "# train\n",
    "###################################\n",
    "jig = PTN_Train_Eval_Test_Jig(model, p.BEST_MODEL_PATH, p.device)\n",
    "\n",
    "jig.train(\n",
    "    train_iterable=datasets.source.processed.train,\n",
    "    source_val_iterable=datasets.source.processed.val,\n",
    "    target_val_iterable=datasets.target.processed.val,\n",
    "    num_epochs=p.n_epoch,\n",
    "    num_logs_per_epoch=p.NUM_LOGS_PER_EPOCH,\n",
    "    patience=p.patience,\n",
    "    optimizer=optimizer,\n",
    "    criteria_for_best=p.criteria_for_best,\n",
    ")"
   ]
  },
  {
   "cell_type": "code",
   "execution_count": 23,
   "id": "31e8fabf",
   "metadata": {
    "execution": {
     "iopub.execute_input": "2022-03-13T19:14:11.720619Z",
     "iopub.status.busy": "2022-03-13T19:14:11.714599Z",
     "iopub.status.idle": "2022-03-13T19:14:11.731868Z",
     "shell.execute_reply": "2022-03-13T19:14:11.731361Z"
    },
    "papermill": {
     "duration": 0.044266,
     "end_time": "2022-03-13T19:14:11.731971",
     "exception": false,
     "start_time": "2022-03-13T19:14:11.687705",
     "status": "completed"
    },
    "tags": []
   },
   "outputs": [],
   "source": [
    "total_experiment_time_secs = time.time() - start_time_secs"
   ]
  },
  {
   "cell_type": "code",
   "execution_count": 24,
   "id": "87b9595b",
   "metadata": {
    "execution": {
     "iopub.execute_input": "2022-03-13T19:14:11.793047Z",
     "iopub.status.busy": "2022-03-13T19:14:11.792774Z",
     "iopub.status.idle": "2022-03-13T19:18:13.912172Z",
     "shell.execute_reply": "2022-03-13T19:18:13.911725Z"
    },
    "papermill": {
     "duration": 242.149741,
     "end_time": "2022-03-13T19:18:13.912278",
     "exception": false,
     "start_time": "2022-03-13T19:14:11.762537",
     "status": "completed"
    },
    "tags": []
   },
   "outputs": [],
   "source": [
    "###################################\n",
    "# Evaluate the model\n",
    "###################################\n",
    "source_test_label_accuracy, source_test_label_loss = jig.test(datasets.source.processed.test)\n",
    "target_test_label_accuracy, target_test_label_loss = jig.test(datasets.target.processed.test)\n",
    "\n",
    "source_val_label_accuracy, source_val_label_loss = jig.test(datasets.source.processed.val)\n",
    "target_val_label_accuracy, target_val_label_loss = jig.test(datasets.target.processed.val)\n",
    "\n",
    "history = jig.get_history()\n",
    "\n",
    "total_epochs_trained = len(history[\"epoch_indices\"])\n",
    "\n",
    "val_dl = Iterable_Aggregator((datasets.source.original.val,datasets.target.original.val))\n",
    "\n",
    "confusion = ptn_confusion_by_domain_over_dataloader(model, p.device, val_dl)\n",
    "per_domain_accuracy = per_domain_accuracy_from_confusion(confusion)\n",
    "\n",
    "# Add a key to per_domain_accuracy for if it was a source domain\n",
    "for domain, accuracy in per_domain_accuracy.items():\n",
    "    per_domain_accuracy[domain] = {\n",
    "        \"accuracy\": accuracy,\n",
    "        \"source?\": domain in p.domains_source\n",
    "    }\n",
    "\n",
    "# Do an independent accuracy assesment JUST TO BE SURE!\n",
    "# _source_test_label_accuracy = independent_accuracy_assesment(model, datasets.source.processed.test, p.device)\n",
    "# _target_test_label_accuracy = independent_accuracy_assesment(model, datasets.target.processed.test, p.device)\n",
    "# _source_val_label_accuracy = independent_accuracy_assesment(model, datasets.source.processed.val, p.device)\n",
    "# _target_val_label_accuracy = independent_accuracy_assesment(model, datasets.target.processed.val, p.device)\n",
    "\n",
    "# assert(_source_test_label_accuracy == source_test_label_accuracy)\n",
    "# assert(_target_test_label_accuracy == target_test_label_accuracy)\n",
    "# assert(_source_val_label_accuracy == source_val_label_accuracy)\n",
    "# assert(_target_val_label_accuracy == target_val_label_accuracy)\n",
    "\n",
    "experiment = {\n",
    "    \"experiment_name\": p.experiment_name,\n",
    "    \"parameters\": dict(p),\n",
    "    \"results\": {\n",
    "        \"source_test_label_accuracy\": source_test_label_accuracy,\n",
    "        \"source_test_label_loss\": source_test_label_loss,\n",
    "        \"target_test_label_accuracy\": target_test_label_accuracy,\n",
    "        \"target_test_label_loss\": target_test_label_loss,\n",
    "        \"source_val_label_accuracy\": source_val_label_accuracy,\n",
    "        \"source_val_label_loss\": source_val_label_loss,\n",
    "        \"target_val_label_accuracy\": target_val_label_accuracy,\n",
    "        \"target_val_label_loss\": target_val_label_loss,\n",
    "        \"total_epochs_trained\": total_epochs_trained,\n",
    "        \"total_experiment_time_secs\": total_experiment_time_secs,\n",
    "        \"confusion\": confusion,\n",
    "        \"per_domain_accuracy\": per_domain_accuracy,\n",
    "    },\n",
    "    \"history\": history,\n",
    "    \"dataset_metrics\": get_dataset_metrics(datasets, \"ptn\"),\n",
    "}"
   ]
  },
  {
   "cell_type": "code",
   "execution_count": 25,
   "id": "54a21829",
   "metadata": {
    "execution": {
     "iopub.execute_input": "2022-03-13T19:18:13.966832Z",
     "iopub.status.busy": "2022-03-13T19:18:13.966575Z",
     "iopub.status.idle": "2022-03-13T19:18:14.149127Z",
     "shell.execute_reply": "2022-03-13T19:18:14.148865Z"
    },
    "papermill": {
     "duration": 0.209141,
     "end_time": "2022-03-13T19:18:14.149178",
     "exception": false,
     "start_time": "2022-03-13T19:18:13.940037",
     "status": "completed"
    },
    "tags": []
   },
   "outputs": [
    {
     "data": {
      "image/png": "[encoded data removed]",
      "text/plain": [
       "<Figure size 1080x504 with 1 Axes>"
      ]
     },
     "metadata": {
      "needs_background": "light"
     },
     "output_type": "display_data"
    }
   ],
   "source": [
    "ax = get_loss_curve(experiment)\n",
    "plt.show()"
   ]
  },
  {
   "cell_type": "code",
   "execution_count": 26,
   "id": "fd8a0f60",
   "metadata": {
    "execution": {
     "iopub.execute_input": "2022-03-13T19:18:14.204153Z",
     "iopub.status.busy": "2022-03-13T19:18:14.202055Z",
     "iopub.status.idle": "2022-03-13T19:18:14.382823Z",
     "shell.execute_reply": "2022-03-13T19:18:14.383247Z"
    },
    "papermill": {
     "duration": 0.209054,
     "end_time": "2022-03-13T19:18:14.383366",
     "exception": false,
     "start_time": "2022-03-13T19:18:14.174312",
     "status": "completed"
    },
    "tags": []
   },
   "outputs": [
    {
     "data": {
      "text/plain": [
       "<matplotlib.axes._subplots.AxesSubplot at 0x7f546d67e640>"
      ]
     },
     "execution_count": 26,
     "metadata": {},
     "output_type": "execute_result"
    },
    {
     "data": {
      "image/png": "[encoded data removed]",
      "text/plain": [
       "<Figure size 1080x504 with 1 Axes>"
      ]
     },
     "metadata": {
      "needs_background": "light"
     },
     "output_type": "display_data"
    }
   ],
   "source": [
    "get_results_table(experiment)"
   ]
  },
  {
   "cell_type": "code",
   "execution_count": 27,
   "id": "cf8dc689",
   "metadata": {
    "execution": {
     "iopub.execute_input": "2022-03-13T19:18:14.442615Z",
     "iopub.status.busy": "2022-03-13T19:18:14.442360Z",
     "iopub.status.idle": "2022-03-13T19:18:14.656265Z",
     "shell.execute_reply": "2022-03-13T19:18:14.655777Z"
    },
    "papermill": {
     "duration": 0.242575,
     "end_time": "2022-03-13T19:18:14.656360",
     "exception": false,
     "start_time": "2022-03-13T19:18:14.413785",
     "status": "completed"
    },
    "tags": []
   },
   "outputs": [
    {
     "data": {
      "text/plain": [
       "<matplotlib.axes._subplots.AxesSubplot at 0x7f546cbfbc40>"
      ]
     },
     "execution_count": 27,
     "metadata": {},
     "output_type": "execute_result"
    },
    {
     "data": {
      "image/png": "[encoded data removed]",
      "text/plain": [
       "<Figure size 1080x504 with 1 Axes>"
      ]
     },
     "metadata": {
      "needs_background": "light"
     },
     "output_type": "display_data"
    }
   ],
   "source": [
    "get_domain_accuracies(experiment)"
   ]
  },
  {
   "cell_type": "code",
   "execution_count": 28,
   "id": "a74ae082",
   "metadata": {
    "execution": {
     "iopub.execute_input": "2022-03-13T19:18:14.719973Z",
     "iopub.status.busy": "2022-03-13T19:18:14.719678Z",
     "iopub.status.idle": "2022-03-13T19:18:14.735947Z",
     "shell.execute_reply": "2022-03-13T19:18:14.735426Z"
    },
    "papermill": {
     "duration": 0.045623,
     "end_time": "2022-03-13T19:18:14.736049",
     "exception": false,
     "start_time": "2022-03-13T19:18:14.690426",
     "status": "completed"
    },
    "tags": []
   },
   "outputs": [
    {
     "name": "stdout",
     "output_type": "stream",
     "text": [
      "Source Test Label Accuracy: 0.98875 Target Test Label Accuracy: 0.12223958333333333\n",
      "Source Val Label Accuracy: 0.989375 Target Val Label Accuracy: 0.12252604166666667\n"
     ]
    }
   ],
   "source": [
    "print(\"Source Test Label Accuracy:\", experiment[\"results\"][\"source_test_label_accuracy\"], \"Target Test Label Accuracy:\", experiment[\"results\"][\"target_test_label_accuracy\"])\n",
    "print(\"Source Val Label Accuracy:\", experiment[\"results\"][\"source_val_label_accuracy\"], \"Target Val Label Accuracy:\", experiment[\"results\"][\"target_val_label_accuracy\"])"
   ]
  },
  {
   "cell_type": "code",
   "execution_count": 29,
   "id": "dacca602",
   "metadata": {
    "execution": {
     "iopub.execute_input": "2022-03-13T19:18:14.796656Z",
     "iopub.status.busy": "2022-03-13T19:18:14.796394Z",
     "iopub.status.idle": "2022-03-13T19:18:14.812977Z",
     "shell.execute_reply": "2022-03-13T19:18:14.813415Z"
    },
    "papermill": {
     "duration": 0.045866,
     "end_time": "2022-03-13T19:18:14.813535",
     "exception": false,
     "start_time": "2022-03-13T19:18:14.767669",
     "status": "completed"
    },
    "tags": [
     "experiment_json"
    ]
   },
   "outputs": [
    {
     "data": {
      "text/plain": [
       "'{\"experiment_name\": \"tl_1_cores-oracle.run1\", \"parameters\": {\"experiment_name\": \"tl_1_cores-oracle.run1\", \"device\": \"cuda\", \"lr\": 0.001, \"seed\": 1337, \"dataset_seed\": 1337, \"n_shot\": 3, \"n_query\": 2, \"train_k_factor\": 3, \"val_k_factor\": 2, \"test_k_factor\": 2, \"torch_default_dtype\": \"torch.float32\", \"n_epoch\": 50, \"patience\": 3, \"criteria_for_best\": \"target_loss\", \"x_net\": [{\"class\": \"nnReshape\", \"kargs\": {\"shape\": [-1, 1, 2, 256]}}, {\"class\": \"Conv2d\", \"kargs\": {\"in_channels\": 1, \"out_channels\": 256, \"kernel_size\": [1, 7], \"bias\": false, \"padding\": [0, 3]}}, {\"class\": \"ReLU\", \"kargs\": {\"inplace\": true}}, {\"class\": \"BatchNorm2d\", \"kargs\": {\"num_features\": 256}}, {\"class\": \"Conv2d\", \"kargs\": {\"in_channels\": 256, \"out_channels\": 80, \"kernel_size\": [2, 7], \"bias\": true, \"padding\": [0, 3]}}, {\"class\": \"ReLU\", \"kargs\": {\"inplace\": true}}, {\"class\": \"BatchNorm2d\", \"kargs\": {\"num_features\": 80}}, {\"class\": \"Flatten\", \"kargs\": {}}, {\"class\": \"Linear\", \"kargs\": {\"in_features\": 20480, \"out_features\": 256}}, {\"class\": \"ReLU\", \"kargs\": {\"inplace\": true}}, {\"class\": \"BatchNorm1d\", \"kargs\": {\"num_features\": 256}}, {\"class\": \"Linear\", \"kargs\": {\"in_features\": 256, \"out_features\": 256}}], \"NUM_LOGS_PER_EPOCH\": 10, \"BEST_MODEL_PATH\": \"./best_model.pth\", \"n_way\": 16, \"datasets\": [{\"labels\": [\"1-10.\", \"1-11.\", \"1-15.\", \"1-16.\", \"1-17.\", \"1-18.\", \"1-19.\", \"10-4.\", \"10-7.\", \"11-1.\", \"11-14.\", \"11-17.\", \"11-20.\", \"11-7.\", \"13-20.\", \"13-8.\", \"14-10.\", \"14-11.\", \"14-14.\", \"14-7.\", \"15-1.\", \"15-20.\", \"16-1.\", \"16-16.\", \"17-10.\", \"17-11.\", \"17-2.\", \"19-1.\", \"19-16.\", \"19-19.\", \"19-20.\", \"19-3.\", \"2-10.\", \"2-11.\", \"2-17.\", \"2-18.\", \"2-20.\", \"2-3.\", \"2-4.\", \"2-5.\", \"2-6.\", \"2-7.\", \"2-8.\", \"3-13.\", \"3-18.\", \"3-3.\", \"4-1.\", \"4-10.\", \"4-11.\", \"4-19.\", \"5-5.\", \"6-15.\", \"7-10.\", \"7-14.\", \"8-18.\", \"8-20.\", \"8-3.\", \"8-8.\"], \"domains\": [1, 2, 3, 4, 5], \"num_examples_per_domain_per_label\": 100, \"pickle_path\": \"/mnt/wd500GB/CSC500/csc500-main/datasets/cores.stratified_ds.2022A.pkl\", \"source_or_target_dataset\": \"source\", \"x_transforms\": [\"unit_power\"], \"episode_transforms\": [], \"domain_prefix\": \"CORES_\"}, {\"labels\": [\"3123D52\", \"3123D65\", \"3123D79\", \"3123D80\", \"3123D54\", \"3123D70\", \"3123D7B\", \"3123D89\", \"3123D58\", \"3123D76\", \"3123D7D\", \"3123EFE\", \"3123D64\", \"3123D78\", \"3123D7E\", \"3124E4A\"], \"domains\": [32, 38, 8, 44, 14, 50, 20, 26], \"num_examples_per_domain_per_label\": 10000, \"pickle_path\": \"/mnt/wd500GB/CSC500/csc500-main/datasets/oracle.Run1_10kExamples_stratified_ds.2022A.pkl\", \"source_or_target_dataset\": \"target\", \"x_transforms\": [\"unit_power\"], \"episode_transforms\": [], \"domain_prefix\": \"ORACLE.run1_\"}], \"domains_source\": [\"CORES_1\", \"CORES_2\", \"CORES_3\", \"CORES_4\", \"CORES_5\"], \"domains_target\": [\"ORACLE.run1_32\", \"ORACLE.run1_38\", \"ORACLE.run1_8\", \"ORACLE.run1_44\", \"ORACLE.run1_14\", \"ORACLE.run1_50\", \"ORACLE.run1_20\", \"ORACLE.run1_26\"]}, \"results\": {\"source_test_label_accuracy\": 0.98875, \"source_test_label_loss\": 0.03384053334593773, \"target_test_label_accuracy\": 0.12223958333333333, \"target_test_label_loss\": 2.788564920425415, \"source_val_label_accuracy\": 0.989375, \"source_val_label_loss\": 0.03328460082411766, \"target_val_label_accuracy\": 0.12252604166666667, \"target_val_label_loss\": 2.7916271686553955, \"total_epochs_trained\": 5, \"total_experiment_time_secs\": 362.92169880867004, \"confusion\": {\"CORES_3\": {\"43\": {\"43\": 12}, \"9\": {\"9\": 12}, \"6\": {\"6\": 10}, \"3\": {\"3\": 12}, \"16\": {\"16\": 12}, \"51\": {\"51\": 12}, \"31\": {\"31\": 12}, \"46\": {\"46\": 10}, \"19\": {\"19\": 8}, \"8\": {\"8\": 12}, \"18\": {\"18\": 10, \"46\": 1, \"30\": 1}, \"37\": {\"37\": 12}, \"24\": {\"24\": 12}, \"10\": {\"10\": 12}, \"44\": {\"44\": 10}, \"14\": {\"14\": 12}, \"38\": {\"38\": 10}, \"53\": {\"53\": 12}, \"20\": {\"20\": 12}, \"32\": {\"32\": 12}, \"36\": {\"36\": 10}, \"33\": {\"33\": 12}, \"56\": {\"56\": 12}, \"23\": {\"23\": 12}, \"54\": {\"54\": 10}, \"34\": {\"34\": 12}, \"13\": {\"13\": 12}, \"2\": {\"2\": 12}, \"55\": {\"55\": 10}, \"21\": {\"21\": 10}, \"49\": {\"49\": 10}, \"25\": {\"25\": 12}, \"5\": {\"5\": 12}, \"50\": {\"46\": 1, \"50\": 7}, \"40\": {\"40\": 11, \"44\": 1}, \"57\": {\"57\": 8}, \"22\": {\"22\": 10}, \"1\": {\"1\": 10}, \"17\": {\"17\": 12}, \"41\": {\"41\": 12}, \"4\": {\"4\": 10}, \"7\": {\"7\": 10}, \"26\": {\"26\": 10}, \"29\": {\"29\": 12}, \"52\": {\"52\": 12}, \"15\": {\"15\": 12}, \"35\": {\"35\": 12}, \"42\": {\"42\": 12}, \"30\": {\"30\": 10}, \"27\": {\"27\": 8}, \"45\": {\"45\": 10}, \"0\": {\"0\": 12}, \"28\": {\"28\": 12}, \"47\": {\"47\": 9, \"15\": 2, \"7\": 1}, \"11\": {\"11\": 10}, \"39\": {\"39\": 10}, \"48\": {\"48\": 12}, \"12\": {\"12\": 8}}, \"CORES_4\": {\"35\": {\"35\": 10}, \"25\": {\"25\": 11, \"54\": 1}, \"24\": {\"24\": 10}, \"48\": {\"48\": 12}, \"51\": {\"51\": 12}, \"13\": {\"13\": 12}, \"14\": {\"14\": 8}, \"32\": {\"32\": 12}, \"30\": {\"30\": 11, \"21\": 1}, \"34\": {\"34\": 10}, \"9\": {\"9\": 12}, \"1\": {\"1\": 12}, \"0\": {\"0\": 12}, \"38\": {\"38\": 12}, \"22\": {\"22\": 8}, \"40\": {\"40\": 12}, \"39\": {\"39\": 12}, \"46\": {\"46\": 11, \"31\": 1}, \"36\": {\"36\": 12}, \"50\": {\"50\": 11, \"20\": 1}, \"49\": {\"49\": 12}, \"17\": {\"17\": 12}, \"45\": {\"45\": 12}, \"6\": {\"6\": 12}, \"8\": {\"8\": 12}, \"5\": {\"5\": 9, \"46\": 1}, \"33\": {\"33\": 12}, \"31\": {\"31\": 12}, \"37\": {\"37\": 10}, \"47\": {\"47\": 8}, \"15\": {\"15\": 10}, \"7\": {\"7\": 12}, \"20\": {\"20\": 12}, \"4\": {\"4\": 12}, \"54\": {\"54\": 12}, \"44\": {\"44\": 12}, \"3\": {\"3\": 12}, \"11\": {\"11\": 10}, \"27\": {\"27\": 10}, \"19\": {\"19\": 12}, \"55\": {\"55\": 12}, \"16\": {\"16\": 12}, \"2\": {\"2\": 10}, \"52\": {\"52\": 10}, \"42\": {\"42\": 10}, \"26\": {\"26\": 12}, \"10\": {\"10\": 12}, \"53\": {\"53\": 10}, \"28\": {\"28\": 12}, \"21\": {\"21\": 10}, \"57\": {\"57\": 10}, \"23\": {\"23\": 8}, \"43\": {\"43\": 10}, \"12\": {\"12\": 12}, \"41\": {\"41\": 12}, \"56\": {\"56\": 8}, \"18\": {\"18\": 9, \"3\": 1}, \"29\": {\"29\": 8}}, \"CORES_5\": {\"47\": {\"47\": 7, \"49\": 1, \"52\": 2}, \"53\": {\"53\": 12}, \"29\": {\"29\": 12}, \"52\": {\"52\": 12}, \"55\": {\"55\": 12}, \"17\": {\"17\": 12}, \"42\": {\"42\": 12}, \"33\": {\"33\": 10}, \"11\": {\"11\": 12}, \"19\": {\"19\": 8}, \"1\": {\"1\": 12}, \"44\": {\"44\": 12}, \"49\": {\"49\": 12}, \"4\": {\"4\": 12}, \"6\": {\"6\": 11, \"45\": 1}, \"39\": {\"39\": 12}, \"13\": {\"13\": 12}, \"5\": {\"5\": 10}, \"16\": {\"16\": 10}, \"25\": {\"25\": 12}, \"45\": {\"45\": 12}, \"7\": {\"7\": 10}, \"22\": {\"22\": 11, \"56\": 1}, \"40\": {\"40\": 12}, \"38\": {\"38\": 12}, \"35\": {\"35\": 8}, \"56\": {\"56\": 12}, \"50\": {\"50\": 10}, \"0\": {\"0\": 12}, \"10\": {\"10\": 12}, \"27\": {\"27\": 12}, \"20\": {\"20\": 10}, \"36\": {\"36\": 8}, \"34\": {\"34\": 12}, \"30\": {\"30\": 12}, \"2\": {\"2\": 10}, \"15\": {\"15\": 12}, \"18\": {\"18\": 11, \"21\": 1}, \"32\": {\"32\": 12}, \"31\": {\"31\": 12}, \"57\": {\"57\": 12}, \"48\": {\"48\": 8}, \"28\": {\"28\": 10}, \"14\": {\"14\": 12}, \"3\": {\"3\": 12}, \"8\": {\"8\": 12}, \"9\": {\"9\": 12}, \"21\": {\"21\": 10}, \"41\": {\"41\": 12}, \"24\": {\"24\": 12}, \"46\": {\"46\": 9, \"16\": 1}, \"43\": {\"43\": 10}, \"54\": {\"54\": 10}, \"23\": {\"23\": 10}, \"37\": {\"37\": 10}, \"12\": {\"12\": 10}, \"26\": {\"26\": 10}, \"51\": {\"51\": 6}}, \"CORES_1\": {\"46\": {\"46\": 12}, \"16\": {\"16\": 12}, \"26\": {\"26\": 12}, \"10\": {\"10\": 12}, \"9\": {\"9\": 10}, \"28\": {\"28\": 12}, \"51\": {\"51\": 12}, \"1\": {\"1\": 11, \"57\": 1}, \"55\": {\"55\": 12}, \"27\": {\"27\": 10}, \"22\": {\"22\": 12}, \"52\": {\"52\": 12}, \"3\": {\"3\": 12}, \"33\": {\"33\": 8}, \"47\": {\"47\": 12}, \"42\": {\"42\": 12}, \"12\": {\"12\": 4}, \"23\": {\"23\": 12}, \"49\": {\"49\": 10}, \"7\": {\"7\": 12}, \"4\": {\"4\": 12}, \"50\": {\"50\": 12}, \"19\": {\"19\": 12}, \"11\": {\"11\": 12}, \"31\": {\"31\": 10}, \"41\": {\"41\": 12}, \"56\": {\"56\": 10}, \"0\": {\"0\": 11, \"38\": 1}, \"57\": {\"57\": 11, \"1\": 1}, \"53\": {\"53\": 12}, \"43\": {\"43\": 12}, \"37\": {\"37\": 12}, \"2\": {\"2\": 8}, \"6\": {\"6\": 10, \"5\": 2}, \"18\": {\"18\": 12}, \"38\": {\"38\": 12}, \"15\": {\"15\": 12}, \"36\": {\"36\": 12}, \"39\": {\"39\": 8}, \"44\": {\"44\": 12}, \"8\": {\"8\": 12}, \"17\": {\"17\": 10}, \"5\": {\"5\": 12}, \"13\": {\"13\": 10}, \"40\": {\"40\": 10}, \"29\": {\"29\": 12}, \"48\": {\"48\": 12}, \"32\": {\"32\": 12}, \"30\": {\"30\": 12}, \"35\": {\"35\": 12}, \"25\": {\"25\": 12}, \"14\": {\"14\": 11, \"30\": 1}, \"54\": {\"54\": 10}, \"20\": {\"20\": 8}, \"21\": {\"21\": 10}, \"45\": {\"45\": 8}, \"24\": {\"24\": 6, \"22\": 2}, \"34\": {\"34\": 8}}, \"CORES_2\": {\"14\": {\"14\": 12}, \"22\": {\"22\": 12}, \"9\": {\"9\": 11, \"35\": 1}, \"47\": {\"47\": 12}, \"13\": {\"13\": 12}, \"8\": {\"8\": 12}, \"7\": {\"7\": 11, \"47\": 1}, \"49\": {\"49\": 12}, \"20\": {\"20\": 12}, \"16\": {\"16\": 12}, \"34\": {\"34\": 12}, \"56\": {\"56\": 10, \"22\": 2}, \"38\": {\"38\": 10}, \"4\": {\"4\": 12}, \"43\": {\"43\": 10}, \"26\": {\"26\": 10}, \"35\": {\"35\": 12}, \"31\": {\"31\": 12}, \"1\": {\"1\": 12}, \"39\": {\"39\": 12}, \"5\": {\"5\": 12}, \"24\": {\"24\": 12}, \"54\": {\"54\": 10}, \"23\": {\"23\": 12}, \"51\": {\"51\": 12}, \"27\": {\"27\": 10}, \"15\": {\"15\": 12}, \"0\": {\"0\": 12}, \"19\": {\"19\": 10}, \"18\": {\"18\": 8}, \"30\": {\"30\": 12}, \"55\": {\"55\": 10}, \"57\": {\"57\": 12}, \"2\": {\"2\": 12}, \"12\": {\"12\": 8}, \"41\": {\"41\": 12}, \"42\": {\"42\": 12}, \"48\": {\"48\": 12}, \"37\": {\"37\": 12}, \"6\": {\"6\": 10}, \"11\": {\"11\": 10}, \"45\": {\"45\": 8}, \"21\": {\"21\": 12}, \"46\": {\"46\": 9, \"7\": 1}, \"25\": {\"25\": 12}, \"36\": {\"36\": 10}, \"53\": {\"53\": 12}, \"28\": {\"28\": 12}, \"40\": {\"40\": 10}, \"33\": {\"33\": 10}, \"44\": {\"44\": 10}, \"3\": {\"3\": 12}, \"17\": {\"17\": 12}, \"32\": {\"32\": 10}, \"10\": {\"10\": 10}, \"52\": {\"52\": 9, \"7\": 1}, \"50\": {\"50\": 8}, \"29\": {\"29\": 6}}, \"ORACLE.run1_14\": {\"15\": {\"7\": 130, \"5\": 102, \"4\": 93, \"12\": 29, \"0\": 46, \"8\": 105, \"3\": 73, \"1\": 121, \"14\": 49, \"10\": 54, \"15\": 134, \"2\": 56, \"13\": 44, \"11\": 47, \"9\": 67, \"6\": 50}, \"3\": {\"2\": 103, \"8\": 42, \"1\": 75, \"14\": 94, \"0\": 81, \"13\": 102, \"10\": 73, \"6\": 71, \"9\": 58, \"4\": 72, \"5\": 76, \"11\": 60, \"15\": 72, \"12\": 59, \"3\": 86, \"7\": 76}, \"6\": {\"7\": 33, \"2\": 90, \"1\": 33, \"13\": 155, \"9\": 43, \"6\": 143, \"14\": 139, \"5\": 59, \"4\": 75, \"8\": 13, \"10\": 112, \"12\": 23, \"11\": 87, \"3\": 77, \"0\": 76, \"15\": 42}, \"1\": {\"13\": 31, \"10\": 38, \"1\": 126, \"4\": 85, \"12\": 60, \"3\": 81, \"2\": 48, \"0\": 50, \"8\": 131, \"9\": 88, \"5\": 95, \"7\": 135, \"15\": 115, \"6\": 35, \"11\": 43, \"14\": 39}, \"8\": {\"8\": 333, \"10\": 13, \"13\": 15, \"5\": 64, \"12\": 95, \"4\": 64, \"0\": 56, \"1\": 112, \"7\": 141, \"9\": 99, \"11\": 30, \"6\": 15, \"15\": 105, \"3\": 38, \"2\": 10, \"14\": 10}, \"10\": {\"10\": 125, \"11\": 106, \"14\": 130, \"1\": 47, \"6\": 95, \"5\": 57, \"9\": 58, \"3\": 85, \"13\": 121, \"2\": 73, \"8\": 21, \"0\": 78, \"12\": 47, \"15\": 49, \"4\": 71, \"7\": 37}, \"9\": {\"6\": 36, \"1\": 76, \"11\": 89, \"13\": 36, \"5\": 68, \"2\": 61, \"15\": 63, \"0\": 59, \"8\": 125, \"14\": 41, \"7\": 67, \"10\": 64, \"3\": 67, \"9\": 143, \"12\": 129, \"4\": 76}, \"13\": {\"8\": 16, \"13\": 147, \"4\": 62, \"15\": 58, \"10\": 112, \"0\": 68, \"3\": 79, \"9\": 39, \"2\": 104, \"11\": 85, \"14\": 128, \"12\": 32, \"6\": 151, \"5\": 60, \"1\": 32, \"7\": 27}, \"12\": {\"7\": 69, \"12\": 138, \"11\": 93, \"4\": 53, \"5\": 62, \"9\": 153, \"10\": 81, \"2\": 35, \"3\": 67, \"13\": 48, \"8\": 137, \"1\": 80, \"0\": 72, \"14\": 41, \"15\": 45, \"6\": 26}, \"5\": {\"3\": 71, \"10\": 58, \"13\": 62, \"14\": 55, \"4\": 77, \"5\": 101, \"6\": 56, \"0\": 65, \"1\": 97, \"15\": 102, \"9\": 75, \"7\": 89, \"8\": 81, \"2\": 90, \"12\": 59, \"11\": 62}, \"0\": {\"8\": 43, \"0\": 99, \"4\": 61, \"2\": 81, \"11\": 88, \"10\": 100, \"12\": 84, \"1\": 64, \"3\": 80, \"13\": 88, \"15\": 66, \"5\": 65, \"14\": 87, \"9\": 72, \"6\": 65, \"7\": 57}, \"2\": {\"4\": 73, \"2\": 97, \"0\": 100, \"13\": 115, \"6\": 113, \"10\": 99, \"14\": 100, \"9\": 54, \"11\": 74, \"8\": 20, \"7\": 67, \"5\": 69, \"15\": 66, \"12\": 28, \"1\": 47, \"3\": 78}, \"11\": {\"10\": 103, \"14\": 110, \"4\": 67, \"11\": 118, \"0\": 85, \"2\": 105, \"8\": 29, \"1\": 44, \"12\": 52, \"6\": 86, \"5\": 69, \"3\": 71, \"13\": 103, \"15\": 32, \"7\": 31, \"9\": 95}, \"14\": {\"14\": 154, \"15\": 41, \"2\": 115, \"10\": 93, \"6\": 134, \"0\": 72, \"5\": 60, \"7\": 25, \"13\": 132, \"4\": 69, \"12\": 31, \"9\": 51, \"11\": 96, \"3\": 82, \"1\": 31, \"8\": 14}, \"7\": {\"13\": 16, \"8\": 188, \"1\": 131, \"12\": 62, \"15\": 123, \"4\": 85, \"5\": 95, \"14\": 30, \"3\": 63, \"7\": 150, \"11\": 41, \"9\": 66, \"2\": 44, \"0\": 41, \"6\": 29, \"10\": 36}, \"4\": {\"0\": 74, \"2\": 67, \"10\": 72, \"13\": 55, \"7\": 97, \"1\": 87, \"6\": 66, \"5\": 101, \"9\": 65, \"4\": 79, \"14\": 67, \"3\": 67, \"15\": 106, \"8\": 75, \"12\": 52, \"11\": 70}}, \"ORACLE.run1_20\": {\"3\": {\"9\": 74, \"4\": 87, \"0\": 78, \"1\": 62, \"11\": 68, \"6\": 90, \"13\": 78, \"10\": 72, \"3\": 66, \"2\": 84, \"12\": 63, \"7\": 91, \"5\": 61, \"15\": 74, \"14\": 73, \"8\": 79}, \"15\": {\"11\": 111, \"5\": 78, \"2\": 102, \"12\": 86, \"1\": 67, \"15\": 97, \"9\": 83, \"8\": 68, \"13\": 106, \"6\": 54, \"14\": 53, \"10\": 42, \"7\": 55, \"0\": 80, \"4\": 49, \"3\": 69}, \"8\": {\"10\": 100, \"14\": 73, \"8\": 104, \"1\": 73, \"12\": 69, \"9\": 72, \"6\": 95, \"13\": 56, \"5\": 77, \"3\": 78, \"0\": 75, \"7\": 60, \"4\": 103, \"15\": 54, \"2\": 67, \"11\": 44}, \"4\": {\"4\": 93, \"5\": 85, \"8\": 83, \"15\": 51, \"9\": 52, \"12\": 71, \"6\": 103, \"0\": 55, \"10\": 108, \"13\": 39, \"3\": 78, \"11\": 44, \"14\": 122, \"7\": 76, \"1\": 63, \"2\": 77}, \"14\": {\"13\": 42, \"12\": 72, \"14\": 128, \"6\": 102, \"4\": 124, \"9\": 41, \"10\": 140, \"1\": 60, \"8\": 96, \"0\": 70, \"3\": 73, \"7\": 70, \"5\": 62, \"15\": 41, \"2\": 51, \"11\": 28}, \"0\": {\"8\": 77, \"13\": 83, \"10\": 78, \"14\": 55, \"6\": 67, \"11\": 75, \"3\": 52, \"2\": 77, \"5\": 83, \"15\": 85, \"12\": 95, \"4\": 77, \"0\": 77, \"1\": 60, \"9\": 82, \"7\": 77}, \"7\": {\"11\": 77, \"9\": 77, \"8\": 84, \"2\": 85, \"6\": 73, \"14\": 76, \"3\": 69, \"15\": 70, \"1\": 72, \"7\": 82, \"10\": 71, \"13\": 86, \"4\": 67, \"5\": 73, \"0\": 64, \"12\": 74}, \"6\": {\"11\": 40, \"7\": 73, \"12\": 79, \"5\": 60, \"9\": 71, \"13\": 53, \"1\": 68, \"3\": 82, \"10\": 110, \"6\": 73, \"8\": 97, \"14\": 105, \"15\": 70, \"0\": 64, \"4\": 89, \"2\": 66}, \"10\": {\"4\": 92, \"14\": 143, \"6\": 85, \"5\": 81, \"12\": 76, \"10\": 146, \"0\": 56, \"7\": 79, \"8\": 93, \"15\": 50, \"3\": 75, \"2\": 54, \"13\": 35, \"11\": 29, \"9\": 65, \"1\": 41}, \"5\": {\"10\": 83, \"8\": 71, \"6\": 73, \"4\": 72, \"15\": 88, \"5\": 72, \"12\": 80, \"13\": 64, \"11\": 77, \"0\": 77, \"3\": 77, \"9\": 63, \"1\": 68, \"2\": 82, \"14\": 71, \"7\": 82}, \"2\": {\"5\": 68, \"6\": 58, \"8\": 55, \"10\": 66, \"9\": 77, \"15\": 84, \"12\": 75, \"7\": 76, \"13\": 91, \"3\": 81, \"0\": 91, \"2\": 79, \"11\": 104, \"14\": 62, \"4\": 59, \"1\": 74}, \"12\": {\"0\": 92, \"14\": 56, \"12\": 61, \"4\": 66, \"10\": 71, \"2\": 80, \"3\": 88, \"1\": 76, \"9\": 73, \"6\": 68, \"13\": 89, \"15\": 83, \"7\": 81, \"5\": 66, \"11\": 77, \"8\": 73}, \"9\": {\"0\": 71, \"4\": 66, \"12\": 80, \"11\": 98, \"1\": 84, \"3\": 77, \"2\": 90, \"10\": 58, \"14\": 62, \"6\": 65, \"15\": 76, \"7\": 81, \"8\": 55, \"9\": 87, \"5\": 70, \"13\": 80}, \"1\": {\"0\": 78, \"1\": 81, \"5\": 75, \"7\": 80, \"11\": 94, \"4\": 60, \"9\": 66, \"12\": 85, \"8\": 67, \"14\": 46, \"2\": 87, \"10\": 74, \"6\": 64, \"15\": 79, \"13\": 85, \"3\": 79}, \"11\": {\"0\": 83, \"11\": 209, \"1\": 99, \"12\": 73, \"6\": 50, \"8\": 36, \"13\": 140, \"4\": 30, \"14\": 23, \"2\": 88, \"9\": 88, \"7\": 85, \"5\": 43, \"3\": 54, \"15\": 81, \"10\": 18}, \"13\": {\"5\": 55, \"11\": 154, \"9\": 75, \"2\": 88, \"1\": 78, \"10\": 35, \"6\": 55, \"12\": 99, \"7\": 89, \"15\": 80, \"13\": 118, \"4\": 54, \"0\": 67, \"14\": 43, \"3\": 59, \"8\": 51}}, \"ORACLE.run1_38\": {\"5\": {\"5\": 128, \"0\": 86, \"6\": 105, \"7\": 88, \"8\": 103, \"9\": 96, \"10\": 68, \"2\": 69, \"3\": 102, \"11\": 20, \"13\": 89, \"15\": 95, \"14\": 26, \"1\": 102, \"12\": 13, \"4\": 10}, \"8\": {\"15\": 105, \"14\": 50, \"1\": 55, \"0\": 123, \"7\": 106, \"5\": 107, \"10\": 95, \"9\": 61, \"11\": 34, \"2\": 80, \"8\": 111, \"13\": 95, \"6\": 70, \"3\": 69, \"4\": 11, \"12\": 28}, \"11\": {\"14\": 184, \"4\": 218, \"11\": 233, \"8\": 34, \"10\": 90, \"5\": 25, \"0\": 39, \"2\": 51, \"12\": 227, \"13\": 10, \"7\": 61, \"15\": 12, \"1\": 9, \"3\": 5, \"6\": 2}, \"1\": {\"0\": 43, \"1\": 193, \"3\": 130, \"13\": 92, \"6\": 184, \"2\": 48, \"9\": 203, \"15\": 89, \"11\": 4, \"7\": 23, \"14\": 16, \"10\": 19, \"5\": 105, \"8\": 49, \"12\": 2}, \"10\": {\"10\": 120, \"5\": 81, \"1\": 29, \"12\": 110, \"8\": 91, \"7\": 126, \"15\": 73, \"11\": 80, \"2\": 118, \"4\": 59, \"0\": 100, \"13\": 58, \"14\": 108, \"3\": 23, \"6\": 18, \"9\": 6}, \"15\": {\"5\": 99, \"9\": 74, \"10\": 77, \"2\": 102, \"0\": 85, \"14\": 57, \"13\": 109, \"15\": 90, \"4\": 4, \"8\": 94, \"3\": 91, \"6\": 94, \"1\": 103, \"7\": 75, \"12\": 21, \"11\": 25}, \"3\": {\"9\": 177, \"6\": 183, \"5\": 125, \"3\": 161, \"15\": 78, \"1\": 126, \"7\": 47, \"12\": 4, \"13\": 85, \"10\": 18, \"0\": 76, \"2\": 38, \"8\": 67, \"14\": 13, \"4\": 1, \"11\": 1}, \"7\": {\"15\": 86, \"0\": 121, \"1\": 42, \"7\": 140, \"10\": 112, \"4\": 31, \"14\": 66, \"5\": 79, \"12\": 82, \"9\": 34, \"3\": 53, \"8\": 106, \"13\": 65, \"2\": 66, \"6\": 48, \"11\": 69}, \"4\": {\"12\": 261, \"11\": 170, \"4\": 537, \"14\": 98, \"7\": 37, \"0\": 19, \"13\": 6, \"8\": 13, \"2\": 11, \"10\": 43, \"5\": 4, \"1\": 1}, \"14\": {\"14\": 172, \"1\": 11, \"11\": 179, \"10\": 135, \"12\": 177, \"4\": 110, \"2\": 84, \"7\": 78, \"0\": 63, \"8\": 60, \"15\": 43, \"13\": 41, \"5\": 35, \"6\": 6, \"3\": 4, \"9\": 2}, \"9\": {\"10\": 15, \"1\": 183, \"6\": 210, \"13\": 67, \"5\": 90, \"3\": 179, \"9\": 236, \"15\": 61, \"8\": 63, \"0\": 45, \"7\": 18, \"11\": 3, \"2\": 24, \"14\": 6}, \"12\": {\"14\": 134, \"4\": 321, \"0\": 36, \"12\": 271, \"7\": 72, \"11\": 206, \"10\": 79, \"2\": 23, \"13\": 6, \"8\": 28, \"5\": 13, \"15\": 11}, \"6\": {\"9\": 214, \"10\": 30, \"15\": 71, \"0\": 57, \"6\": 191, \"1\": 158, \"2\": 49, \"14\": 10, \"8\": 57, \"5\": 99, \"3\": 152, \"13\": 75, \"7\": 34, \"11\": 2, \"12\": 1}, \"2\": {\"5\": 108, \"14\": 78, \"15\": 114, \"11\": 61, \"1\": 69, \"13\": 121, \"2\": 133, \"0\": 80, \"3\": 32, \"12\": 37, \"7\": 72, \"8\": 91, \"10\": 85, \"6\": 57, \"9\": 41, \"4\": 21}, \"0\": {\"5\": 93, \"8\": 103, \"3\": 72, \"2\": 77, \"10\": 88, \"11\": 59, \"0\": 98, \"9\": 57, \"7\": 133, \"6\": 51, \"15\": 96, \"1\": 67, \"4\": 22, \"13\": 87, \"14\": 48, \"12\": 49}, \"13\": {\"5\": 112, \"7\": 66, \"1\": 104, \"3\": 85, \"2\": 97, \"8\": 100, \"13\": 100, \"6\": 113, \"14\": 34, \"9\": 104, \"12\": 12, \"15\": 104, \"11\": 30, \"10\": 52, \"0\": 84, \"4\": 3}}, \"ORACLE.run1_8\": {\"9\": {\"11\": 28, \"10\": 73, \"0\": 120, \"9\": 453, \"13\": 90, \"5\": 43, \"2\": 73, \"14\": 63, \"7\": 60, \"15\": 10, \"3\": 46, \"8\": 12, \"6\": 58, \"4\": 53, \"12\": 7, \"1\": 11}, \"10\": {\"8\": 66, \"4\": 67, \"0\": 87, \"12\": 54, \"1\": 61, \"15\": 67, \"7\": 66, \"9\": 80, \"14\": 77, \"2\": 90, \"10\": 74, \"6\": 87, \"11\": 76, \"3\": 70, \"13\": 98, \"5\": 80}, \"13\": {\"15\": 67, \"13\": 89, \"0\": 101, \"1\": 58, \"7\": 97, \"3\": 79, \"8\": 52, \"14\": 83, \"4\": 80, \"10\": 78, \"9\": 74, \"12\": 49, \"5\": 63, \"2\": 105, \"6\": 65, \"11\": 60}, \"0\": {\"9\": 100, \"3\": 86, \"12\": 47, \"10\": 83, \"1\": 42, \"2\": 102, \"4\": 72, \"11\": 56, \"6\": 70, \"5\": 69, \"14\": 91, \"0\": 111, \"13\": 88, \"7\": 72, \"15\": 74, \"8\": 37}, \"1\": {\"0\": 54, \"6\": 67, \"11\": 135, \"10\": 56, \"7\": 66, \"1\": 110, \"15\": 89, \"13\": 58, \"8\": 98, \"2\": 48, \"3\": 66, \"12\": 100, \"5\": 78, \"14\": 84, \"4\": 68, \"9\": 23}, \"15\": {\"6\": 77, \"1\": 98, \"15\": 118, \"3\": 83, \"7\": 79, \"8\": 125, \"12\": 104, \"4\": 70, \"5\": 57, \"0\": 60, \"11\": 84, \"2\": 48, \"14\": 63, \"13\": 64, \"10\": 57, \"9\": 13}, \"5\": {\"13\": 87, \"11\": 96, \"1\": 85, \"8\": 80, \"4\": 64, \"9\": 47, \"6\": 72, \"10\": 72, \"7\": 60, \"0\": 96, \"5\": 82, \"3\": 78, \"2\": 63, \"12\": 63, \"14\": 78, \"15\": 77}, \"3\": {\"13\": 76, \"6\": 92, \"8\": 80, \"2\": 97, \"12\": 103, \"15\": 91, \"10\": 65, \"11\": 61, \"5\": 49, \"4\": 60, \"3\": 94, \"14\": 81, \"1\": 55, \"9\": 30, \"0\": 82, \"7\": 84}, \"6\": {\"5\": 52, \"13\": 84, \"8\": 71, \"9\": 47, \"1\": 75, \"0\": 102, \"2\": 85, \"3\": 73, \"7\": 90, \"6\": 92, \"11\": 62, \"14\": 85, \"15\": 70, \"4\": 71, \"12\": 67, \"10\": 74}, \"11\": {\"4\": 70, \"10\": 61, \"8\": 117, \"2\": 52, \"3\": 67, \"11\": 116, \"5\": 91, \"13\": 65, \"6\": 63, \"14\": 62, \"7\": 57, \"1\": 112, \"15\": 102, \"12\": 103, \"0\": 47, \"9\": 15}, \"8\": {\"5\": 81, \"6\": 67, \"8\": 116, \"4\": 55, \"12\": 107, \"1\": 108, \"11\": 112, \"15\": 110, \"3\": 75, \"10\": 70, \"13\": 60, \"14\": 62, \"2\": 60, \"7\": 63, \"9\": 15, \"0\": 39}, \"4\": {\"4\": 85, \"12\": 76, \"14\": 75, \"11\": 56, \"9\": 61, \"5\": 65, \"10\": 88, \"2\": 79, \"7\": 79, \"1\": 79, \"0\": 78, \"13\": 93, \"8\": 62, \"3\": 78, \"15\": 65, \"6\": 81}, \"12\": {\"6\": 72, \"4\": 66, \"11\": 108, \"3\": 83, \"8\": 110, \"10\": 57, \"15\": 115, \"5\": 56, \"2\": 65, \"7\": 79, \"14\": 59, \"1\": 91, \"0\": 54, \"12\": 121, \"13\": 47, \"9\": 17}, \"14\": {\"10\": 85, \"15\": 70, \"8\": 73, \"0\": 87, \"4\": 79, \"9\": 54, \"6\": 87, \"1\": 63, \"2\": 65, \"13\": 90, \"5\": 87, \"14\": 71, \"11\": 70, \"7\": 81, \"3\": 64, \"12\": 74}, \"2\": {\"10\": 73, \"0\": 104, \"6\": 103, \"8\": 46, \"15\": 61, \"11\": 35, \"2\": 108, \"1\": 48, \"12\": 61, \"9\": 74, \"13\": 70, \"5\": 60, \"14\": 92, \"4\": 83, \"7\": 94, \"3\": 88}, \"7\": {\"2\": 89, \"0\": 98, \"10\": 68, \"14\": 90, \"11\": 66, \"15\": 74, \"1\": 63, \"6\": 84, \"4\": 85, \"7\": 87, \"3\": 86, \"8\": 61, \"12\": 56, \"5\": 59, \"13\": 87, \"9\": 47}}, \"ORACLE.run1_50\": {\"7\": {\"5\": 158, \"0\": 48, \"3\": 116, \"7\": 140, \"6\": 77, \"15\": 91, \"9\": 49, \"10\": 69, \"1\": 72, \"14\": 22, \"13\": 95, \"4\": 101, \"8\": 61, \"11\": 59, \"2\": 35, \"12\": 7}, \"3\": {\"3\": 208, \"6\": 74, \"13\": 98, \"8\": 96, \"14\": 28, \"4\": 78, \"7\": 123, \"5\": 123, \"0\": 45, \"1\": 61, \"15\": 58, \"9\": 24, \"10\": 106, \"11\": 40, \"2\": 30, \"12\": 8}, \"8\": {\"13\": 62, \"5\": 78, \"1\": 66, \"10\": 117, \"2\": 93, \"3\": 109, \"9\": 45, \"0\": 88, \"7\": 78, \"14\": 60, \"4\": 63, \"15\": 51, \"6\": 64, \"8\": 142, \"12\": 38, \"11\": 46}, \"2\": {\"4\": 30, \"14\": 150, \"12\": 214, \"15\": 29, \"11\": 42, \"0\": 124, \"2\": 242, \"10\": 56, \"6\": 32, \"5\": 21, \"3\": 20, \"8\": 74, \"1\": 41, \"9\": 94, \"13\": 15, \"7\": 16}, \"14\": {\"14\": 180, \"11\": 78, \"15\": 40, \"0\": 110, \"2\": 160, \"12\": 196, \"10\": 47, \"8\": 54, \"4\": 31, \"6\": 42, \"13\": 29, \"1\": 59, \"7\": 27, \"9\": 122, \"5\": 17, \"3\": 8}, \"4\": {\"15\": 114, \"11\": 102, \"5\": 131, \"0\": 51, \"10\": 68, \"9\": 53, \"8\": 45, \"7\": 93, \"6\": 93, \"12\": 21, \"1\": 88, \"4\": 99, \"13\": 104, \"2\": 32, \"14\": 32, \"3\": 74}, \"6\": {\"7\": 102, \"10\": 63, \"0\": 68, \"1\": 99, \"2\": 44, \"5\": 122, \"13\": 110, \"6\": 90, \"4\": 110, \"14\": 46, \"15\": 98, \"11\": 68, \"3\": 57, \"8\": 48, \"12\": 15, \"9\": 60}, \"15\": {\"14\": 35, \"13\": 92, \"5\": 108, \"1\": 108, \"15\": 105, \"2\": 28, \"6\": 110, \"11\": 89, \"0\": 40, \"4\": 124, \"12\": 43, \"3\": 47, \"10\": 67, \"8\": 48, \"9\": 67, \"7\": 89}, \"10\": {\"2\": 67, \"8\": 112, \"10\": 96, \"0\": 89, \"14\": 63, \"13\": 76, \"9\": 53, \"7\": 79, \"11\": 77, \"6\": 96, \"5\": 68, \"12\": 47, \"1\": 61, \"15\": 58, \"3\": 79, \"4\": 79}, \"11\": {\"5\": 65, \"3\": 34, \"1\": 78, \"10\": 50, \"0\": 76, \"14\": 103, \"15\": 101, \"11\": 109, \"13\": 76, \"9\": 116, \"2\": 51, \"7\": 65, \"12\": 79, \"6\": 75, \"8\": 45, \"4\": 77}, \"13\": {\"6\": 87, \"11\": 52, \"7\": 122, \"14\": 31, \"5\": 110, \"4\": 124, \"9\": 51, \"12\": 23, \"15\": 97, \"10\": 89, \"3\": 78, \"0\": 50, \"13\": 112, \"1\": 90, \"8\": 58, \"2\": 26}, \"9\": {\"11\": 124, \"2\": 103, \"13\": 46, \"1\": 89, \"14\": 126, \"6\": 61, \"0\": 83, \"9\": 146, \"4\": 63, \"15\": 89, \"5\": 45, \"12\": 118, \"10\": 36, \"8\": 25, \"7\": 34, \"3\": 12}, \"0\": {\"0\": 112, \"10\": 81, \"2\": 134, \"8\": 91, \"14\": 118, \"5\": 49, \"4\": 57, \"11\": 62, \"3\": 44, \"6\": 58, \"9\": 95, \"13\": 45, \"7\": 40, \"12\": 106, \"1\": 62, \"15\": 46}, \"1\": {\"11\": 84, \"14\": 61, \"6\": 105, \"2\": 50, \"15\": 101, \"4\": 111, \"7\": 64, \"9\": 93, \"13\": 77, \"3\": 48, \"8\": 56, \"5\": 91, \"10\": 63, \"1\": 97, \"0\": 58, \"12\": 41}, \"12\": {\"9\": 107, \"12\": 308, \"2\": 227, \"0\": 88, \"1\": 41, \"14\": 210, \"5\": 14, \"10\": 36, \"4\": 16, \"11\": 56, \"15\": 22, \"6\": 19, \"8\": 29, \"13\": 13, \"7\": 8, \"3\": 6}, \"5\": {\"1\": 92, \"7\": 125, \"15\": 100, \"5\": 142, \"4\": 110, \"10\": 66, \"3\": 86, \"2\": 32, \"6\": 111, \"14\": 24, \"8\": 60, \"11\": 58, \"0\": 39, \"9\": 38, \"13\": 100, \"12\": 17}}, \"ORACLE.run1_32\": {\"8\": {\"3\": 144, \"4\": 73, \"8\": 173, \"14\": 48, \"9\": 73, \"15\": 117, \"0\": 86, \"1\": 11, \"5\": 87, \"10\": 24, \"13\": 110, \"6\": 11, \"7\": 69, \"11\": 61, \"12\": 60, \"2\": 53}, \"14\": {\"3\": 63, \"14\": 178, \"2\": 120, \"7\": 128, \"11\": 170, \"6\": 54, \"12\": 24, \"13\": 63, \"4\": 109, \"8\": 44, \"0\": 91, \"15\": 5, \"5\": 78, \"9\": 64, \"10\": 5, \"1\": 4}, \"2\": {\"7\": 114, \"6\": 88, \"2\": 132, \"8\": 61, \"13\": 86, \"14\": 118, \"1\": 12, \"4\": 106, \"0\": 94, \"10\": 10, \"11\": 112, \"3\": 44, \"9\": 67, \"5\": 106, \"15\": 3, \"12\": 47}, \"0\": {\"5\": 86, \"0\": 92, \"9\": 77, \"11\": 107, \"15\": 31, \"14\": 109, \"4\": 86, \"1\": 21, \"10\": 20, \"7\": 94, \"13\": 87, \"8\": 111, \"12\": 61, \"3\": 79, \"2\": 102, \"6\": 37}, \"1\": {\"1\": 319, \"12\": 146, \"14\": 9, \"8\": 27, \"9\": 87, \"6\": 104, \"15\": 45, \"10\": 312, \"0\": 30, \"13\": 21, \"11\": 5, \"3\": 17, \"7\": 10, \"4\": 20, \"2\": 21, \"5\": 27}, \"10\": {\"9\": 62, \"13\": 32, \"1\": 272, \"12\": 181, \"2\": 24, \"8\": 40, \"15\": 121, \"10\": 303, \"0\": 24, \"3\": 29, \"7\": 7, \"5\": 28, \"6\": 54, \"14\": 9, \"11\": 3, \"4\": 11}, \"11\": {\"3\": 69, \"0\": 89, \"2\": 126, \"11\": 175, \"6\": 39, \"13\": 75, \"14\": 156, \"5\": 93, \"7\": 139, \"12\": 25, \"4\": 98, \"8\": 51, \"9\": 50, \"15\": 5, \"10\": 6, \"1\": 4}, \"5\": {\"4\": 104, \"9\": 70, \"14\": 100, \"0\": 84, \"11\": 83, \"8\": 113, \"2\": 88, \"13\": 125, \"12\": 38, \"15\": 36, \"6\": 35, \"3\": 103, \"5\": 96, \"7\": 98, \"10\": 14, \"1\": 13}, \"15\": {\"15\": 663, \"3\": 106, \"0\": 30, \"10\": 84, \"13\": 57, \"8\": 106, \"12\": 59, \"5\": 28, \"1\": 24, \"14\": 2, \"9\": 20, \"4\": 8, \"7\": 3, \"6\": 1, \"11\": 3, \"2\": 6}, \"3\": {\"2\": 56, \"13\": 141, \"7\": 53, \"15\": 97, \"3\": 170, \"5\": 106, \"4\": 83, \"14\": 44, \"9\": 44, \"8\": 177, \"0\": 74, \"6\": 6, \"11\": 70, \"1\": 7, \"12\": 61, \"10\": 11}, \"12\": {\"8\": 89, \"9\": 126, \"12\": 157, \"15\": 92, \"5\": 32, \"13\": 65, \"2\": 41, \"10\": 144, \"1\": 113, \"4\": 64, \"14\": 28, \"6\": 83, \"0\": 52, \"3\": 58, \"7\": 35, \"11\": 21}, \"7\": {\"3\": 51, \"4\": 107, \"9\": 73, \"7\": 119, \"5\": 93, \"2\": 129, \"13\": 77, \"12\": 27, \"11\": 157, \"0\": 103, \"8\": 64, \"14\": 131, \"6\": 46, \"10\": 9, \"15\": 5, \"1\": 9}, \"13\": {\"0\": 90, \"9\": 70, \"8\": 153, \"4\": 92, \"14\": 78, \"5\": 86, \"13\": 130, \"3\": 134, \"11\": 62, \"15\": 53, \"2\": 73, \"12\": 53, \"7\": 79, \"6\": 14, \"10\": 21, \"1\": 12}, \"6\": {\"9\": 140, \"12\": 87, \"7\": 72, \"1\": 69, \"15\": 5, \"6\": 297, \"14\": 69, \"4\": 77, \"5\": 42, \"8\": 34, \"10\": 65, \"13\": 25, \"0\": 41, \"11\": 61, \"2\": 100, \"3\": 16}, \"4\": {\"7\": 94, \"12\": 51, \"2\": 135, \"4\": 108, \"0\": 100, \"11\": 108, \"8\": 81, \"15\": 16, \"6\": 45, \"14\": 95, \"1\": 14, \"5\": 87, \"3\": 85, \"13\": 99, \"9\": 68, \"10\": 14}, \"9\": {\"8\": 70, \"11\": 65, \"5\": 89, \"2\": 77, \"12\": 90, \"0\": 83, \"3\": 64, \"7\": 87, \"13\": 67, \"1\": 55, \"9\": 121, \"6\": 103, \"15\": 34, \"14\": 73, \"4\": 78, \"10\": 44}}, \"ORACLE.run1_26\": {\"4\": {\"0\": 106, \"12\": 52, \"5\": 38, \"13\": 50, \"4\": 120, \"3\": 59, \"8\": 94, \"14\": 108, \"7\": 87, \"11\": 21, \"15\": 51, \"2\": 66, \"6\": 85, \"1\": 132, \"10\": 90, \"9\": 41}, \"12\": {\"5\": 78, \"15\": 76, \"0\": 80, \"13\": 78, \"8\": 72, \"12\": 99, \"9\": 100, \"11\": 93, \"1\": 88, \"4\": 74, \"3\": 56, \"6\": 70, \"10\": 60, \"2\": 58, \"7\": 62, \"14\": 56}, \"10\": {\"2\": 62, \"13\": 43, \"9\": 71, \"7\": 81, \"10\": 92, \"11\": 36, \"14\": 105, \"4\": 107, \"12\": 66, \"15\": 57, \"1\": 116, \"3\": 62, \"0\": 97, \"8\": 88, \"5\": 42, \"6\": 75}, \"0\": {\"9\": 68, \"8\": 82, \"5\": 48, \"6\": 62, \"10\": 99, \"13\": 42, \"3\": 62, \"14\": 116, \"0\": 112, \"2\": 51, \"1\": 112, \"7\": 98, \"4\": 122, \"12\": 60, \"15\": 47, \"11\": 19}, \"13\": {\"4\": 26, \"1\": 26, \"11\": 176, \"9\": 97, \"13\": 174, \"5\": 135, \"6\": 69, \"8\": 53, \"3\": 67, \"15\": 87, \"0\": 28, \"10\": 27, \"7\": 48, \"2\": 94, \"12\": 61, \"14\": 32}, \"9\": {\"7\": 56, \"12\": 60, \"3\": 85, \"14\": 51, \"15\": 88, \"10\": 57, \"0\": 49, \"2\": 84, \"8\": 93, \"9\": 98, \"6\": 69, \"5\": 114, \"11\": 100, \"4\": 57, \"1\": 44, \"13\": 95}, \"3\": {\"13\": 87, \"11\": 58, \"4\": 67, \"7\": 85, \"10\": 95, \"0\": 72, \"12\": 71, \"2\": 76, \"5\": 69, \"8\": 68, \"3\": 82, \"1\": 61, \"14\": 56, \"15\": 66, \"6\": 85, \"9\": 102}, \"2\": {\"3\": 95, \"11\": 89, \"12\": 59, \"4\": 66, \"10\": 61, \"1\": 66, \"0\": 61, \"2\": 97, \"9\": 77, \"15\": 92, \"6\": 81, \"7\": 60, \"13\": 104, \"5\": 83, \"8\": 64, \"14\": 45}, \"5\": {\"5\": 116, \"15\": 111, \"10\": 36, \"9\": 106, \"13\": 142, \"14\": 46, \"4\": 35, \"7\": 65, \"8\": 53, \"12\": 63, \"6\": 79, \"1\": 36, \"0\": 36, \"11\": 113, \"3\": 78, \"2\": 85}, \"14\": {\"4\": 107, \"10\": 105, \"12\": 51, \"0\": 134, \"2\": 57, \"14\": 110, \"7\": 77, \"8\": 89, \"1\": 139, \"6\": 72, \"3\": 65, \"13\": 28, \"15\": 71, \"5\": 28, \"11\": 24, \"9\": 43}, \"8\": {\"10\": 97, \"7\": 80, \"6\": 75, \"12\": 63, \"8\": 85, \"14\": 70, \"0\": 104, \"9\": 71, \"2\": 71, \"11\": 46, \"15\": 85, \"4\": 76, \"13\": 65, \"5\": 69, \"1\": 73, \"3\": 70}, \"7\": {\"12\": 71, \"9\": 83, \"2\": 85, \"15\": 62, \"8\": 98, \"3\": 80, \"0\": 72, \"1\": 99, \"4\": 81, \"6\": 77, \"14\": 68, \"5\": 55, \"10\": 82, \"7\": 80, \"13\": 64, \"11\": 43}, \"6\": {\"7\": 65, \"10\": 87, \"6\": 89, \"15\": 85, \"11\": 83, \"13\": 82, \"12\": 65, \"9\": 73, \"1\": 78, \"8\": 71, \"0\": 70, \"5\": 70, \"4\": 72, \"3\": 55, \"2\": 83, \"14\": 72}, \"11\": {\"5\": 148, \"12\": 83, \"11\": 227, \"9\": 106, \"2\": 59, \"8\": 39, \"13\": 156, \"14\": 20, \"15\": 83, \"6\": 66, \"7\": 55, \"3\": 45, \"4\": 25, \"0\": 31, \"1\": 25, \"10\": 32}, \"15\": {\"3\": 84, \"5\": 98, \"7\": 78, \"12\": 68, \"11\": 88, \"8\": 68, \"13\": 108, \"6\": 72, \"2\": 85, \"0\": 65, \"10\": 56, \"1\": 48, \"9\": 88, \"15\": 93, \"14\": 50, \"4\": 51}, \"1\": {\"10\": 109, \"0\": 111, \"4\": 129, \"5\": 35, \"8\": 82, \"11\": 23, \"3\": 84, \"9\": 55, \"12\": 63, \"14\": 123, \"1\": 111, \"6\": 60, \"15\": 55, \"2\": 61, \"7\": 66, \"13\": 33}}, \"ORACLE.run1_44\": {\"12\": {\"3\": 170, \"1\": 158, \"2\": 79, \"8\": 39, \"10\": 112, \"4\": 66, \"0\": 43, \"13\": 32, \"7\": 70, \"12\": 173, \"15\": 62, \"14\": 54, \"6\": 24, \"5\": 39, \"9\": 71, \"11\": 8}, \"7\": {\"4\": 69, \"3\": 67, \"5\": 37, \"7\": 117, \"2\": 114, \"11\": 88, \"1\": 63, \"10\": 108, \"13\": 107, \"14\": 51, \"12\": 74, \"9\": 122, \"6\": 130, \"8\": 9, \"0\": 24, \"15\": 20}, \"5\": {\"1\": 45, \"11\": 37, \"14\": 125, \"0\": 110, \"3\": 74, \"4\": 119, \"5\": 132, \"6\": 41, \"10\": 46, \"7\": 51, \"9\": 74, \"12\": 49, \"15\": 106, \"2\": 48, \"8\": 90, \"13\": 53}, \"15\": {\"1\": 44, \"10\": 26, \"0\": 174, \"15\": 196, \"14\": 105, \"3\": 98, \"2\": 29, \"8\": 196, \"5\": 112, \"4\": 97, \"12\": 58, \"7\": 23, \"6\": 3, \"9\": 20, \"13\": 15, \"11\": 4}, \"8\": {\"8\": 283, \"0\": 219, \"15\": 232, \"3\": 100, \"2\": 9, \"14\": 70, \"5\": 93, \"4\": 62, \"12\": 44, \"1\": 29, \"9\": 13, \"10\": 17, \"7\": 14, \"6\": 5, \"13\": 6, \"11\": 4}, \"2\": {\"2\": 125, \"7\": 124, \"11\": 80, \"14\": 59, \"9\": 112, \"6\": 102, \"4\": 60, \"1\": 91, \"10\": 111, \"13\": 108, \"5\": 37, \"3\": 56, \"8\": 8, \"12\": 94, \"15\": 22, \"0\": 11}, \"13\": {\"12\": 24, \"7\": 113, \"5\": 35, \"9\": 124, \"2\": 112, \"13\": 166, \"14\": 32, \"6\": 168, \"11\": 214, \"4\": 67, \"10\": 62, \"3\": 19, \"1\": 36, \"0\": 12, \"15\": 12, \"8\": 4}, \"4\": {\"4\": 127, \"5\": 109, \"6\": 39, \"14\": 111, \"12\": 72, \"3\": 90, \"7\": 70, \"15\": 75, \"2\": 66, \"10\": 52, \"0\": 63, \"9\": 104, \"8\": 59, \"13\": 73, \"11\": 27, \"1\": 63}, \"0\": {\"8\": 212, \"4\": 96, \"7\": 20, \"0\": 190, \"5\": 122, \"15\": 195, \"10\": 20, \"9\": 32, \"3\": 86, \"12\": 40, \"14\": 97, \"1\": 48, \"11\": 8, \"13\": 14, \"2\": 12, \"6\": 8}, \"6\": {\"13\": 176, \"9\": 115, \"6\": 229, \"7\": 107, \"10\": 53, \"3\": 14, \"11\": 266, \"2\": 106, \"1\": 23, \"5\": 20, \"14\": 21, \"4\": 41, \"12\": 20, \"0\": 5, \"8\": 1, \"15\": 3}, \"9\": {\"3\": 38, \"7\": 107, \"8\": 12, \"6\": 109, \"9\": 129, \"13\": 132, \"0\": 19, \"10\": 98, \"5\": 65, \"1\": 63, \"4\": 77, \"11\": 102, \"12\": 52, \"2\": 111, \"14\": 65, \"15\": 21}, \"11\": {\"11\": 409, \"6\": 250, \"13\": 191, \"9\": 85, \"2\": 81, \"10\": 35, \"14\": 11, \"4\": 30, \"7\": 61, \"5\": 15, \"1\": 14, \"8\": 1, \"12\": 13, \"15\": 2, \"3\": 2}, \"10\": {\"0\": 22, \"10\": 146, \"7\": 108, \"11\": 50, \"5\": 38, \"3\": 90, \"4\": 52, \"15\": 28, \"1\": 130, \"13\": 77, \"9\": 79, \"2\": 113, \"6\": 75, \"12\": 128, \"14\": 52, \"8\": 12}, \"14\": {\"2\": 60, \"9\": 66, \"11\": 27, \"4\": 113, \"14\": 112, \"3\": 78, \"12\": 85, \"5\": 121, \"7\": 48, \"15\": 114, \"0\": 93, \"8\": 73, \"13\": 48, \"1\": 62, \"6\": 38, \"10\": 62}, \"1\": {\"9\": 66, \"3\": 148, \"4\": 73, \"12\": 151, \"15\": 46, \"10\": 118, \"0\": 45, \"1\": 143, \"7\": 81, \"5\": 54, \"6\": 36, \"14\": 70, \"2\": 85, \"8\": 47, \"11\": 9, \"13\": 28}, \"3\": {\"1\": 125, \"3\": 210, \"2\": 44, \"10\": 75, \"6\": 20, \"7\": 52, \"12\": 168, \"14\": 83, \"4\": 68, \"9\": 33, \"0\": 66, \"15\": 115, \"8\": 69, \"5\": 52, \"13\": 15, \"11\": 5}}}, \"per_domain_accuracy\": {\"CORES_3\": {\"accuracy\": 0.9890625, \"source?\": true}, \"CORES_4\": {\"accuracy\": 0.990625, \"source?\": true}, \"CORES_5\": {\"accuracy\": 0.9890625, \"source?\": true}, \"CORES_1\": {\"accuracy\": 0.9875, \"source?\": true}, \"CORES_2\": {\"accuracy\": 0.990625, \"source?\": true}, \"ORACLE.run1_14\": {\"accuracy\": 0.11317708333333333, \"source?\": false}, \"ORACLE.run1_20\": {\"accuracy\": 0.08192708333333333, \"source?\": false}, \"ORACLE.run1_38\": {\"accuracy\": 0.15177083333333333, \"source?\": false}, \"ORACLE.run1_8\": {\"accuracy\": 0.10036458333333333, \"source?\": false}, \"ORACLE.run1_50\": {\"accuracy\": 0.12125, \"source?\": false}, \"ORACLE.run1_32\": {\"accuracy\": 0.16838541666666668, \"source?\": false}, \"ORACLE.run1_26\": {\"accuracy\": 0.09296875, \"source?\": false}, \"ORACLE.run1_44\": {\"accuracy\": 0.15036458333333333, \"source?\": false}}}, \"history\": {\"epoch_indices\": [1, 2, 3, 4, 5], \"train_label_loss\": [0.1461673113902297, 0.04185059932338518, 0.03809132139022944, 0.029137313421199528, 0.029985054282769603], \"source_val_label_loss\": [0.03328460082411766, 0.02112811990082264, 0.020166685804724693, 0.029232148081064224, 0.03455608710646629], \"target_val_label_loss\": [2.7916271686553955, 3.2183969020843506, 3.3785789012908936, 3.81467866897583, 4.410030841827393], \"source_val_acc_label\": [0.989375, 0.9928125, 0.9959375, 0.9925, 0.989375], \"target_val_acc_label\": [0.12252604166666667, 0.12718098958333332, 0.1483203125, 0.14874348958333333, 0.14248046875]}, \"dataset_metrics\": {\"source\": {\"train\": {\"n_unique_x\": 20300, \"n_unique_y\": 58, \"n_batch/episode\": 733}, \"val\": {\"n_unique_x\": 4332, \"n_unique_y\": 58, \"n_batch/episode\": 100}, \"test\": {\"n_unique_x\": 4332, \"n_unique_y\": 58, \"n_batch/episode\": 100}}, \"target\": {\"train\": {\"n_unique_x\": 896000, \"n_unique_y\": 16, \"n_batch/episode\": 33600}, \"val\": {\"n_unique_x\": 192000, \"n_unique_y\": 16, \"n_batch/episode\": 4800}, \"test\": {\"n_unique_x\": 192000, \"n_unique_y\": 16, \"n_batch/episode\": 4800}}}}'"
      ]
     },
     "execution_count": 29,
     "metadata": {},
     "output_type": "execute_result"
    }
   ],
   "source": [
    "json.dumps(experiment)"
   ]
  }
 ],
 "metadata": {
  "celltoolbar": "Tags",
  "kernelspec": {
   "display_name": "Python 3 (ipykernel)",
   "language": "python",
   "name": "python3"
  },
  "language_info": {
   "codemirror_mode": {
    "name": "ipython",
    "version": 3
   },
   "file_extension": ".py",
   "mimetype": "text/x-python",
   "name": "python",
   "nbconvert_exporter": "python",
   "pygments_lexer": "ipython3",
   "version": "3.8.10"
  },
  "papermill": {
   "default_parameters": {},
   "duration": 612.068322,
   "end_time": "2022-03-13T19:18:17.350662",
   "environment_variables": {},
   "exception": null,
   "input_path": "/mnt/wd500GB/CSC500/csc500-main/csc500-notebooks/templates/tl_ptn_template.ipynb",
   "output_path": "trial.ipynb",
   "parameters": {
    "parameters": {
     "BEST_MODEL_PATH": "./best_model.pth",
     "NUM_LOGS_PER_EPOCH": 10,
     "criteria_for_best": "target_loss",
     "dataset_seed": 1337,
     "datasets": [
      {
       "domain_prefix": "CORES_",
       "domains": [
        1,
        2,
        3,
        4,
        5
       ],
       "episode_transforms": [],
       "labels": [
        "1-10.",
        "1-11.",
        "1-15.",
        "1-16.",
        "1-17.",
        "1-18.",
        "1-19.",
        "10-4.",
        "10-7.",
        "11-1.",
        "11-14.",
        "11-17.",
        "11-20.",
        "11-7.",
        "13-20.",
        "13-8.",
        "14-10.",
        "14-11.",
        "14-14.",
        "14-7.",
        "15-1.",
        "15-20.",
        "16-1.",
        "16-16.",
        "17-10.",
        "17-11.",
        "17-2.",
        "19-1.",
        "19-16.",
        "19-19.",
        "19-20.",
        "19-3.",
        "2-10.",
        "2-11.",
        "2-17.",
        "2-18.",
        "2-20.",
        "2-3.",
        "2-4.",
        "2-5.",
        "2-6.",
        "2-7.",
        "2-8.",
        "3-13.",
        "3-18.",
        "3-3.",
        "4-1.",
        "4-10.",
        "4-11.",
        "4-19.",
        "5-5.",
        "6-15.",
        "7-10.",
        "7-14.",
        "8-18.",
        "8-20.",
        "8-3.",
        "8-8."
       ],
       "num_examples_per_domain_per_label": 100,
       "pickle_path": "/mnt/wd500GB/CSC500/csc500-main/datasets/cores.stratified_ds.2022A.pkl",
       "source_or_target_dataset": "source",
       "x_transforms": [
        "unit_power"
       ]
      },
      {
       "domain_prefix": "ORACLE.run1_",
       "domains": [
        32,
        38,
        8,
        44,
        14,
        50,
        20,
        26
       ],
       "episode_transforms": [],
       "labels": [
        "3123D52",
        "3123D65",
        "3123D79",
        "3123D80",
        "3123D54",
        "3123D70",
        "3123D7B",
        "3123D89",
        "3123D58",
        "3123D76",
        "3123D7D",
        "3123EFE",
        "3123D64",
        "3123D78",
        "3123D7E",
        "3124E4A"
       ],
       "num_examples_per_domain_per_label": 10000,
       "pickle_path": "/mnt/wd500GB/CSC500/csc500-main/datasets/oracle.Run1_10kExamples_stratified_ds.2022A.pkl",
       "source_or_target_dataset": "target",
       "x_transforms": [
        "unit_power"
       ]
      }
     ],
     "device": "cuda",
     "experiment_name": "tl_1_cores-oracle.run1",
     "lr": 0.001,
     "n_epoch": 50,
     "n_query": 2,
     "n_shot": 3,
     "n_way": 16,
     "patience": 3,
     "seed": 1337,
     "test_k_factor": 2,
     "torch_default_dtype": "torch.float32",
     "train_k_factor": 3,
     "val_k_factor": 2,
     "x_net": [
      {
       "class": "nnReshape",
       "kargs": {
        "shape": [
         -1,
         1,
         2,
         256
        ]
       }
      },
      {
       "class": "Conv2d",
       "kargs": {
        "bias": false,
        "in_channels": 1,
        "kernel_size": [
         1,
         7
        ],
        "out_channels": 256,
        "padding": [
         0,
         3
        ]
       }
      },
      {
       "class": "ReLU",
       "kargs": {
        "inplace": true
       }
      },
      {
       "class": "BatchNorm2d",
       "kargs": {
        "num_features": 256
       }
      },
      {
       "class": "Conv2d",
       "kargs": {
        "bias": true,
        "in_channels": 256,
        "kernel_size": [
         2,
         7
        ],
        "out_channels": 80,
        "padding": [
         0,
         3
        ]
       }
      },
      {
       "class": "ReLU",
       "kargs": {
        "inplace": true
       }
      },
      {
       "class": "BatchNorm2d",
       "kargs": {
        "num_features": 80
       }
      },
      {
       "class": "Flatten",
       "kargs": {}
      },
      {
       "class": "Linear",
       "kargs": {
        "in_features": 20480,
        "out_features": 256
       }
      },
      {
       "class": "ReLU",
       "kargs": {
        "inplace": true
       }
      },
      {
       "class": "BatchNorm1d",
       "kargs": {
        "num_features": 256
       }
      },
      {
       "class": "Linear",
       "kargs": {
        "in_features": 256,
        "out_features": 256
       }
      }
     ]
    }
   },
   "start_time": "2022-03-13T19:08:05.282340",
   "version": "2.3.4"
  }
 },
 "nbformat": 4,
 "nbformat_minor": 5
}