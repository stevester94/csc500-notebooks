{
 "cells": [
  {
   "cell_type": "markdown",
   "id": "9fea5f46",
   "metadata": {
    "papermill": {
     "duration": 0.015605,
     "end_time": "2022-03-07T06:52:39.956835",
     "exception": false,
     "start_time": "2022-03-07T06:52:39.941230",
     "status": "completed"
    },
    "tags": []
   },
   "source": [
    "# Transfer Learning Template"
   ]
  },
  {
   "cell_type": "code",
   "execution_count": 1,
   "id": "0902182a",
   "metadata": {
    "execution": {
     "iopub.execute_input": "2022-03-07T06:52:39.994241Z",
     "iopub.status.busy": "2022-03-07T06:52:39.988722Z",
     "iopub.status.idle": "2022-03-07T06:52:40.728677Z",
     "shell.execute_reply": "2022-03-07T06:52:40.728335Z"
    },
    "papermill": {
     "duration": 0.759322,
     "end_time": "2022-03-07T06:52:40.728748",
     "exception": false,
     "start_time": "2022-03-07T06:52:39.969426",
     "status": "completed"
    },
    "tags": []
   },
   "outputs": [],
   "source": [
    "%load_ext autoreload\n",
    "%autoreload 2\n",
    "%matplotlib inline\n",
    "\n",
    "    \n",
    "import os, json, sys, time, random\n",
    "import numpy as np\n",
    "import torch\n",
    "from torch.optim import Adam\n",
    "from  easydict import EasyDict\n",
    "import matplotlib.pyplot as plt\n",
    "\n",
    "from steves_models.steves_ptn import Steves_Prototypical_Network\n",
    "\n",
    "from steves_utils.lazy_iterable_wrapper import Lazy_Iterable_Wrapper\n",
    "from steves_utils.iterable_aggregator import Iterable_Aggregator\n",
    "from steves_utils.ptn_train_eval_test_jig import  PTN_Train_Eval_Test_Jig\n",
    "from steves_utils.torch_sequential_builder import build_sequential\n",
    "from steves_utils.torch_utils import get_dataset_metrics, ptn_confusion_by_domain_over_dataloader\n",
    "from steves_utils.utils_v2 import (per_domain_accuracy_from_confusion, get_datasets_base_path)\n",
    "from steves_utils.PTN.utils import independent_accuracy_assesment\n",
    "\n",
    "from torch.utils.data import DataLoader\n",
    "\n",
    "from steves_utils.stratified_dataset.episodic_accessor import Episodic_Accessor_Factory\n",
    "\n",
    "from steves_utils.ptn_do_report import (\n",
    "    get_loss_curve,\n",
    "    get_results_table,\n",
    "    get_parameters_table,\n",
    "    get_domain_accuracies,\n",
    ")\n",
    "\n",
    "from steves_utils.transforms import get_chained_transform"
   ]
  },
  {
   "cell_type": "markdown",
   "id": "41c840b4",
   "metadata": {
    "papermill": {
     "duration": 0.012467,
     "end_time": "2022-03-07T06:52:40.754722",
     "exception": false,
     "start_time": "2022-03-07T06:52:40.742255",
     "status": "completed"
    },
    "tags": []
   },
   "source": [
    "# Allowed Parameters\n",
    "These are allowed parameters, not defaults\n",
    "Each of these values need to be present in the injected parameters (the notebook will raise an exception if they are not present)\n",
    "\n",
    "Papermill uses the cell tag \"parameters\" to inject the real parameters below this cell.\n",
    "Enable tags to see what I mean"
   ]
  },
  {
   "cell_type": "code",
   "execution_count": 2,
   "id": "fd44eb83",
   "metadata": {
    "execution": {
     "iopub.execute_input": "2022-03-07T06:52:40.782417Z",
     "iopub.status.busy": "2022-03-07T06:52:40.782029Z",
     "iopub.status.idle": "2022-03-07T06:52:40.791971Z",
     "shell.execute_reply": "2022-03-07T06:52:40.791695Z"
    },
    "papermill": {
     "duration": 0.024594,
     "end_time": "2022-03-07T06:52:40.792031",
     "exception": false,
     "start_time": "2022-03-07T06:52:40.767437",
     "status": "completed"
    },
    "tags": []
   },
   "outputs": [],
   "source": [
    "required_parameters = {\n",
    "    \"experiment_name\",\n",
    "    \"lr\",\n",
    "    \"device\",\n",
    "    \"seed\",\n",
    "    \"dataset_seed\",\n",
    "    \"n_shot\",\n",
    "    \"n_query\",\n",
    "    \"n_way\",\n",
    "    \"train_k_factor\",\n",
    "    \"val_k_factor\",\n",
    "    \"test_k_factor\",\n",
    "    \"n_epoch\",\n",
    "    \"patience\",\n",
    "    \"criteria_for_best\",\n",
    "    \"x_net\",\n",
    "    \"datasets\",\n",
    "    \"torch_default_dtype\",\n",
    "    \"NUM_LOGS_PER_EPOCH\",\n",
    "    \"BEST_MODEL_PATH\",\n",
    "}"
   ]
  },
  {
   "cell_type": "code",
   "execution_count": 3,
   "id": "fa3f0049",
   "metadata": {
    "execution": {
     "iopub.execute_input": "2022-03-07T06:52:40.826534Z",
     "iopub.status.busy": "2022-03-07T06:52:40.826083Z",
     "iopub.status.idle": "2022-03-07T06:52:40.840519Z",
     "shell.execute_reply": "2022-03-07T06:52:40.840235Z"
    },
    "papermill": {
     "duration": 0.033263,
     "end_time": "2022-03-07T06:52:40.840584",
     "exception": false,
     "start_time": "2022-03-07T06:52:40.807321",
     "status": "completed"
    },
    "tags": [
     "parameters"
    ]
   },
   "outputs": [],
   "source": [
    "from steves_utils.CORES.utils import (\n",
    "    ALL_NODES,\n",
    "    ALL_NODES_MINIMUM_1000_EXAMPLES,\n",
    "    ALL_DAYS\n",
    ")\n",
    "\n",
    "from steves_utils.ORACLE.utils_v2 import (\n",
    "    ALL_DISTANCES_FEET_NARROWED,\n",
    "    ALL_RUNS,\n",
    "    ALL_SERIAL_NUMBERS,\n",
    ")\n",
    "\n",
    "standalone_parameters = {}\n",
    "standalone_parameters[\"experiment_name\"] = \"STANDALONE PTN\"\n",
    "standalone_parameters[\"lr\"] = 0.001\n",
    "standalone_parameters[\"device\"] = \"cuda\"\n",
    "\n",
    "standalone_parameters[\"seed\"] = 1337\n",
    "standalone_parameters[\"dataset_seed\"] = 1337\n",
    "\n",
    "standalone_parameters[\"n_way\"] = 8\n",
    "standalone_parameters[\"n_shot\"] = 3\n",
    "standalone_parameters[\"n_query\"]  = 2\n",
    "standalone_parameters[\"train_k_factor\"] = 1\n",
    "standalone_parameters[\"val_k_factor\"] = 2\n",
    "standalone_parameters[\"test_k_factor\"] = 2\n",
    "\n",
    "\n",
    "standalone_parameters[\"n_epoch\"] = 50\n",
    "\n",
    "standalone_parameters[\"patience\"] = 10\n",
    "standalone_parameters[\"criteria_for_best\"] = \"source_loss\"\n",
    "\n",
    "standalone_parameters[\"datasets\"] = [\n",
    "    {\n",
    "        \"labels\": ALL_SERIAL_NUMBERS,\n",
    "        \"domains\": ALL_DISTANCES_FEET_NARROWED,\n",
    "        \"num_examples_per_domain_per_label\": 100,\n",
    "        \"pickle_path\": os.path.join(get_datasets_base_path(), \"oracle.Run1_framed_2000Examples_stratified_ds.2022A.pkl\"),\n",
    "        \"source_or_target_dataset\": \"source\",\n",
    "        \"x_transforms\": [\"unit_mag\", \"minus_two\"],\n",
    "        \"episode_transforms\": [],\n",
    "        \"domain_prefix\": \"ORACLE_\"\n",
    "    },\n",
    "    {\n",
    "        \"labels\": ALL_NODES,\n",
    "        \"domains\": ALL_DAYS,\n",
    "        \"num_examples_per_domain_per_label\": 100,\n",
    "        \"pickle_path\": os.path.join(get_datasets_base_path(), \"cores.stratified_ds.2022A.pkl\"),\n",
    "        \"source_or_target_dataset\": \"target\",\n",
    "        \"x_transforms\": [\"unit_power\", \"times_zero\"],\n",
    "        \"episode_transforms\": [],\n",
    "        \"domain_prefix\": \"CORES_\"\n",
    "    }   \n",
    "]\n",
    "\n",
    "standalone_parameters[\"torch_default_dtype\"] = \"torch.float32\" \n",
    "\n",
    "\n",
    "\n",
    "standalone_parameters[\"x_net\"] =     [\n",
    "    {\"class\": \"nnReshape\", \"kargs\": {\"shape\":[-1, 1, 2, 256]}},\n",
    "    {\"class\": \"Conv2d\", \"kargs\": { \"in_channels\":1, \"out_channels\":256, \"kernel_size\":(1,7), \"bias\":False, \"padding\":(0,3), },},\n",
    "    {\"class\": \"ReLU\", \"kargs\": {\"inplace\": True}},\n",
    "    {\"class\": \"BatchNorm2d\", \"kargs\": {\"num_features\":256}},\n",
    "\n",
    "    {\"class\": \"Conv2d\", \"kargs\": { \"in_channels\":256, \"out_channels\":80, \"kernel_size\":(2,7), \"bias\":True, \"padding\":(0,3), },},\n",
    "    {\"class\": \"ReLU\", \"kargs\": {\"inplace\": True}},\n",
    "    {\"class\": \"BatchNorm2d\", \"kargs\": {\"num_features\":80}},\n",
    "    {\"class\": \"Flatten\", \"kargs\": {}},\n",
    "\n",
    "    {\"class\": \"Linear\", \"kargs\": {\"in_features\": 80*256, \"out_features\": 256}}, # 80 units per IQ pair\n",
    "    {\"class\": \"ReLU\", \"kargs\": {\"inplace\": True}},\n",
    "    {\"class\": \"BatchNorm1d\", \"kargs\": {\"num_features\":256}},\n",
    "\n",
    "    {\"class\": \"Linear\", \"kargs\": {\"in_features\": 256, \"out_features\": 256}},\n",
    "]\n",
    "\n",
    "# Parameters relevant to results\n",
    "# These parameters will basically never need to change\n",
    "standalone_parameters[\"NUM_LOGS_PER_EPOCH\"] = 10\n",
    "standalone_parameters[\"BEST_MODEL_PATH\"] = \"./best_model.pth\"\n",
    "\n",
    "\n",
    "\n",
    "\n"
   ]
  },
  {
   "cell_type": "code",
   "execution_count": 4,
   "id": "b077e068",
   "metadata": {
    "execution": {
     "iopub.execute_input": "2022-03-07T06:52:40.879626Z",
     "iopub.status.busy": "2022-03-07T06:52:40.879303Z",
     "iopub.status.idle": "2022-03-07T06:52:40.896061Z",
     "shell.execute_reply": "2022-03-07T06:52:40.895832Z"
    },
    "papermill": {
     "duration": 0.0397,
     "end_time": "2022-03-07T06:52:40.896119",
     "exception": false,
     "start_time": "2022-03-07T06:52:40.856419",
     "status": "completed"
    },
    "tags": [
     "injected-parameters"
    ]
   },
   "outputs": [],
   "source": [
    "# Parameters\n",
    "parameters = {\n",
    "    \"experiment_name\": \"tl_1_wisig-oracle.run1\",\n",
    "    \"device\": \"cuda\",\n",
    "    \"lr\": 0.001,\n",
    "    \"seed\": 1337,\n",
    "    \"dataset_seed\": 1337,\n",
    "    \"n_shot\": 3,\n",
    "    \"n_query\": 2,\n",
    "    \"train_k_factor\": 3,\n",
    "    \"val_k_factor\": 2,\n",
    "    \"test_k_factor\": 2,\n",
    "    \"torch_default_dtype\": \"torch.float32\",\n",
    "    \"n_epoch\": 50,\n",
    "    \"patience\": 3,\n",
    "    \"criteria_for_best\": \"target_loss\",\n",
    "    \"x_net\": [\n",
    "        {\"class\": \"nnReshape\", \"kargs\": {\"shape\": [-1, 1, 2, 256]}},\n",
    "        {\n",
    "            \"class\": \"Conv2d\",\n",
    "            \"kargs\": {\n",
    "                \"in_channels\": 1,\n",
    "                \"out_channels\": 256,\n",
    "                \"kernel_size\": [1, 7],\n",
    "                \"bias\": False,\n",
    "                \"padding\": [0, 3],\n",
    "            },\n",
    "        },\n",
    "        {\"class\": \"ReLU\", \"kargs\": {\"inplace\": True}},\n",
    "        {\"class\": \"BatchNorm2d\", \"kargs\": {\"num_features\": 256}},\n",
    "        {\n",
    "            \"class\": \"Conv2d\",\n",
    "            \"kargs\": {\n",
    "                \"in_channels\": 256,\n",
    "                \"out_channels\": 80,\n",
    "                \"kernel_size\": [2, 7],\n",
    "                \"bias\": True,\n",
    "                \"padding\": [0, 3],\n",
    "            },\n",
    "        },\n",
    "        {\"class\": \"ReLU\", \"kargs\": {\"inplace\": True}},\n",
    "        {\"class\": \"BatchNorm2d\", \"kargs\": {\"num_features\": 80}},\n",
    "        {\"class\": \"Flatten\", \"kargs\": {}},\n",
    "        {\"class\": \"Linear\", \"kargs\": {\"in_features\": 20480, \"out_features\": 256}},\n",
    "        {\"class\": \"ReLU\", \"kargs\": {\"inplace\": True}},\n",
    "        {\"class\": \"BatchNorm1d\", \"kargs\": {\"num_features\": 256}},\n",
    "        {\"class\": \"Linear\", \"kargs\": {\"in_features\": 256, \"out_features\": 256}},\n",
    "    ],\n",
    "    \"NUM_LOGS_PER_EPOCH\": 10,\n",
    "    \"BEST_MODEL_PATH\": \"./best_model.pth\",\n",
    "    \"n_way\": 16,\n",
    "    \"datasets\": [\n",
    "        {\n",
    "            \"labels\": [\n",
    "                \"1-10\",\n",
    "                \"1-12\",\n",
    "                \"1-14\",\n",
    "                \"1-16\",\n",
    "                \"1-18\",\n",
    "                \"1-19\",\n",
    "                \"1-8\",\n",
    "                \"10-11\",\n",
    "                \"10-17\",\n",
    "                \"10-4\",\n",
    "                \"10-7\",\n",
    "                \"11-1\",\n",
    "                \"11-10\",\n",
    "                \"11-19\",\n",
    "                \"11-20\",\n",
    "                \"11-4\",\n",
    "                \"11-7\",\n",
    "                \"12-19\",\n",
    "                \"12-20\",\n",
    "                \"12-7\",\n",
    "                \"13-14\",\n",
    "                \"13-18\",\n",
    "                \"13-19\",\n",
    "                \"13-20\",\n",
    "                \"13-3\",\n",
    "                \"13-7\",\n",
    "                \"14-10\",\n",
    "                \"14-11\",\n",
    "                \"14-12\",\n",
    "                \"14-13\",\n",
    "                \"14-14\",\n",
    "                \"14-19\",\n",
    "                \"14-20\",\n",
    "                \"14-7\",\n",
    "                \"14-8\",\n",
    "                \"14-9\",\n",
    "                \"15-1\",\n",
    "                \"15-19\",\n",
    "                \"15-6\",\n",
    "                \"16-1\",\n",
    "                \"16-16\",\n",
    "                \"16-19\",\n",
    "                \"16-20\",\n",
    "                \"17-10\",\n",
    "                \"17-11\",\n",
    "                \"18-1\",\n",
    "                \"18-10\",\n",
    "                \"18-11\",\n",
    "                \"18-12\",\n",
    "                \"18-13\",\n",
    "                \"18-14\",\n",
    "                \"18-15\",\n",
    "                \"18-16\",\n",
    "                \"18-17\",\n",
    "                \"18-19\",\n",
    "                \"18-2\",\n",
    "                \"18-20\",\n",
    "                \"18-4\",\n",
    "                \"18-5\",\n",
    "                \"18-7\",\n",
    "                \"18-8\",\n",
    "                \"18-9\",\n",
    "                \"19-1\",\n",
    "                \"19-10\",\n",
    "                \"19-11\",\n",
    "                \"19-12\",\n",
    "                \"19-13\",\n",
    "                \"19-14\",\n",
    "                \"19-15\",\n",
    "                \"19-19\",\n",
    "                \"19-2\",\n",
    "                \"19-20\",\n",
    "                \"19-3\",\n",
    "                \"19-4\",\n",
    "                \"19-6\",\n",
    "                \"19-7\",\n",
    "                \"19-8\",\n",
    "                \"19-9\",\n",
    "                \"2-1\",\n",
    "                \"2-13\",\n",
    "                \"2-15\",\n",
    "                \"2-3\",\n",
    "                \"2-4\",\n",
    "                \"2-5\",\n",
    "                \"2-6\",\n",
    "                \"2-7\",\n",
    "                \"2-8\",\n",
    "                \"20-1\",\n",
    "                \"20-12\",\n",
    "                \"20-14\",\n",
    "                \"20-15\",\n",
    "                \"20-16\",\n",
    "                \"20-18\",\n",
    "                \"20-19\",\n",
    "                \"20-20\",\n",
    "                \"20-3\",\n",
    "                \"20-4\",\n",
    "                \"20-5\",\n",
    "                \"20-7\",\n",
    "                \"20-8\",\n",
    "                \"3-1\",\n",
    "                \"3-13\",\n",
    "                \"3-18\",\n",
    "                \"3-2\",\n",
    "                \"3-8\",\n",
    "                \"4-1\",\n",
    "                \"4-10\",\n",
    "                \"4-11\",\n",
    "                \"5-1\",\n",
    "                \"5-5\",\n",
    "                \"6-1\",\n",
    "                \"6-15\",\n",
    "                \"6-6\",\n",
    "                \"7-10\",\n",
    "                \"7-11\",\n",
    "                \"7-12\",\n",
    "                \"7-13\",\n",
    "                \"7-14\",\n",
    "                \"7-7\",\n",
    "                \"7-8\",\n",
    "                \"7-9\",\n",
    "                \"8-1\",\n",
    "                \"8-13\",\n",
    "                \"8-14\",\n",
    "                \"8-18\",\n",
    "                \"8-20\",\n",
    "                \"8-3\",\n",
    "                \"8-8\",\n",
    "                \"9-1\",\n",
    "                \"9-7\",\n",
    "            ],\n",
    "            \"domains\": [1, 2, 3, 4],\n",
    "            \"num_examples_per_domain_per_label\": 100,\n",
    "            \"pickle_path\": \"/mnt/wd500GB/CSC500/csc500-main/datasets/wisig.node3-19.stratified_ds.2022A.pkl\",\n",
    "            \"source_or_target_dataset\": \"source\",\n",
    "            \"x_transforms\": [],\n",
    "            \"episode_transforms\": [],\n",
    "            \"domain_prefix\": \"Wisig_\",\n",
    "        },\n",
    "        {\n",
    "            \"labels\": [\n",
    "                \"3123D52\",\n",
    "                \"3123D65\",\n",
    "                \"3123D79\",\n",
    "                \"3123D80\",\n",
    "                \"3123D54\",\n",
    "                \"3123D70\",\n",
    "                \"3123D7B\",\n",
    "                \"3123D89\",\n",
    "                \"3123D58\",\n",
    "                \"3123D76\",\n",
    "                \"3123D7D\",\n",
    "                \"3123EFE\",\n",
    "                \"3123D64\",\n",
    "                \"3123D78\",\n",
    "                \"3123D7E\",\n",
    "                \"3124E4A\",\n",
    "            ],\n",
    "            \"domains\": [32, 38, 8, 44, 14, 50, 20, 26],\n",
    "            \"num_examples_per_domain_per_label\": 2000,\n",
    "            \"pickle_path\": \"/mnt/wd500GB/CSC500/csc500-main/datasets/oracle.Run1_framed_2000Examples_stratified_ds.2022A.pkl\",\n",
    "            \"source_or_target_dataset\": \"target\",\n",
    "            \"x_transforms\": [],\n",
    "            \"episode_transforms\": [],\n",
    "            \"domain_prefix\": \"ORACLE.run1\",\n",
    "        },\n",
    "    ],\n",
    "}\n"
   ]
  },
  {
   "cell_type": "code",
   "execution_count": 5,
   "id": "8fa1cc33",
   "metadata": {
    "execution": {
     "iopub.execute_input": "2022-03-07T06:52:40.926045Z",
     "iopub.status.busy": "2022-03-07T06:52:40.925778Z",
     "iopub.status.idle": "2022-03-07T06:52:40.940161Z",
     "shell.execute_reply": "2022-03-07T06:52:40.939680Z"
    },
    "papermill": {
     "duration": 0.031225,
     "end_time": "2022-03-07T06:52:40.940261",
     "exception": false,
     "start_time": "2022-03-07T06:52:40.909036",
     "status": "completed"
    },
    "tags": []
   },
   "outputs": [],
   "source": [
    "# Set this to True if you want to run this template directly\n",
    "STANDALONE = False\n",
    "if STANDALONE:\n",
    "    print(\"parameters not injected, running with standalone_parameters\")\n",
    "    parameters = standalone_parameters\n",
    "\n",
    "if not 'parameters' in locals() and not 'parameters' in globals():\n",
    "    raise Exception(\"Parameter injection failed\")\n",
    "\n",
    "#Use an easy dict for all the parameters\n",
    "p = EasyDict(parameters)\n",
    "\n",
    "supplied_keys = set(p.keys())\n",
    "\n",
    "if  supplied_keys != required_parameters:\n",
    "    print(\"Parameters are incorrect\")\n",
    "    if len(supplied_keys - required_parameters)>0: print(\"Shouldn't have:\", str(supplied_keys - required_parameters))\n",
    "    if len(required_parameters - supplied_keys)>0: print(\"Need to have:\", str(required_parameters - supplied_keys))\n",
    "    raise RuntimeError(\"Parameters are incorrect\")\n",
    "\n"
   ]
  },
  {
   "cell_type": "code",
   "execution_count": 6,
   "id": "3a028d58",
   "metadata": {
    "execution": {
     "iopub.execute_input": "2022-03-07T06:52:40.973813Z",
     "iopub.status.busy": "2022-03-07T06:52:40.973543Z",
     "iopub.status.idle": "2022-03-07T06:52:40.985498Z",
     "shell.execute_reply": "2022-03-07T06:52:40.985008Z"
    },
    "papermill": {
     "duration": 0.026812,
     "end_time": "2022-03-07T06:52:40.985599",
     "exception": false,
     "start_time": "2022-03-07T06:52:40.958787",
     "status": "completed"
    },
    "tags": []
   },
   "outputs": [],
   "source": [
    "###################################\n",
    "# Set the RNGs and make it all deterministic\n",
    "###################################\n",
    "np.random.seed(p.seed)\n",
    "random.seed(p.seed)\n",
    "torch.manual_seed(p.seed)\n",
    "\n",
    "torch.use_deterministic_algorithms(True) "
   ]
  },
  {
   "cell_type": "code",
   "execution_count": 7,
   "id": "b691acf6",
   "metadata": {
    "execution": {
     "iopub.execute_input": "2022-03-07T06:52:41.018661Z",
     "iopub.status.busy": "2022-03-07T06:52:41.018403Z",
     "iopub.status.idle": "2022-03-07T06:52:41.030857Z",
     "shell.execute_reply": "2022-03-07T06:52:41.030466Z"
    },
    "papermill": {
     "duration": 0.027695,
     "end_time": "2022-03-07T06:52:41.030935",
     "exception": false,
     "start_time": "2022-03-07T06:52:41.003240",
     "status": "completed"
    },
    "tags": []
   },
   "outputs": [],
   "source": [
    "###########################################\n",
    "# The stratified datasets honor this\n",
    "###########################################\n",
    "torch.set_default_dtype(eval(p.torch_default_dtype))"
   ]
  },
  {
   "cell_type": "code",
   "execution_count": 8,
   "id": "b5fba671",
   "metadata": {
    "execution": {
     "iopub.execute_input": "2022-03-07T06:52:41.064784Z",
     "iopub.status.busy": "2022-03-07T06:52:41.064526Z",
     "iopub.status.idle": "2022-03-07T06:52:41.100105Z",
     "shell.execute_reply": "2022-03-07T06:52:41.099589Z"
    },
    "papermill": {
     "duration": 0.050305,
     "end_time": "2022-03-07T06:52:41.100214",
     "exception": false,
     "start_time": "2022-03-07T06:52:41.049909",
     "status": "completed"
    },
    "tags": []
   },
   "outputs": [],
   "source": [
    "###################################\n",
    "# Build the network(s)\n",
    "# Note: It's critical to do this AFTER setting the RNG\n",
    "###################################\n",
    "x_net = build_sequential(p.x_net)"
   ]
  },
  {
   "cell_type": "code",
   "execution_count": 9,
   "id": "5d7e61cc",
   "metadata": {
    "execution": {
     "iopub.execute_input": "2022-03-07T06:52:41.135135Z",
     "iopub.status.busy": "2022-03-07T06:52:41.134868Z",
     "iopub.status.idle": "2022-03-07T06:52:41.147980Z",
     "shell.execute_reply": "2022-03-07T06:52:41.147587Z"
    },
    "papermill": {
     "duration": 0.028856,
     "end_time": "2022-03-07T06:52:41.148083",
     "exception": false,
     "start_time": "2022-03-07T06:52:41.119227",
     "status": "completed"
    },
    "tags": []
   },
   "outputs": [],
   "source": [
    "start_time_secs = time.time()"
   ]
  },
  {
   "cell_type": "code",
   "execution_count": 10,
   "id": "c6b67dfd",
   "metadata": {
    "execution": {
     "iopub.execute_input": "2022-03-07T06:52:41.181257Z",
     "iopub.status.busy": "2022-03-07T06:52:41.180754Z",
     "iopub.status.idle": "2022-03-07T06:52:41.194849Z",
     "shell.execute_reply": "2022-03-07T06:52:41.194599Z"
    },
    "papermill": {
     "duration": 0.030184,
     "end_time": "2022-03-07T06:52:41.194906",
     "exception": false,
     "start_time": "2022-03-07T06:52:41.164722",
     "status": "completed"
    },
    "tags": []
   },
   "outputs": [],
   "source": [
    "p.domains_source = []\n",
    "p.domains_target = []\n",
    "\n",
    "\n",
    "train_original_source = []\n",
    "val_original_source   = []\n",
    "test_original_source  = []\n",
    "\n",
    "train_original_target = []\n",
    "val_original_target   = []\n",
    "test_original_target  = []"
   ]
  },
  {
   "cell_type": "code",
   "execution_count": 11,
   "id": "e3d9c3d3",
   "metadata": {
    "execution": {
     "iopub.execute_input": "2022-03-07T06:52:41.232865Z",
     "iopub.status.busy": "2022-03-07T06:52:41.228456Z",
     "iopub.status.idle": "2022-03-07T06:52:41.240076Z",
     "shell.execute_reply": "2022-03-07T06:52:41.240481Z"
    },
    "papermill": {
     "duration": 0.027276,
     "end_time": "2022-03-07T06:52:41.240604",
     "exception": false,
     "start_time": "2022-03-07T06:52:41.213328",
     "status": "completed"
    },
    "tags": []
   },
   "outputs": [],
   "source": [
    "# global_x_transform_func = lambda x: normalize(x.to(torch.get_default_dtype()), \"unit_power\") # unit_power, unit_mag\n",
    "# global_x_transform_func = lambda x: normalize(x, \"unit_power\") # unit_power, unit_mag"
   ]
  },
  {
   "cell_type": "code",
   "execution_count": 12,
   "id": "acb78fd2",
   "metadata": {
    "execution": {
     "iopub.execute_input": "2022-03-07T06:52:41.280637Z",
     "iopub.status.busy": "2022-03-07T06:52:41.280178Z",
     "iopub.status.idle": "2022-03-07T06:52:41.292636Z",
     "shell.execute_reply": "2022-03-07T06:52:41.292206Z"
    },
    "papermill": {
     "duration": 0.03315,
     "end_time": "2022-03-07T06:52:41.292737",
     "exception": false,
     "start_time": "2022-03-07T06:52:41.259587",
     "status": "completed"
    },
    "tags": []
   },
   "outputs": [],
   "source": [
    "def add_dataset(\n",
    "    labels,\n",
    "    domains,\n",
    "    pickle_path,\n",
    "    x_transforms,\n",
    "    episode_transforms,\n",
    "    domain_prefix,\n",
    "    num_examples_per_domain_per_label,\n",
    "    source_or_target_dataset:str,\n",
    "    iterator_seed=p.seed,\n",
    "    dataset_seed=p.dataset_seed,\n",
    "    n_shot=p.n_shot,\n",
    "    n_way=p.n_way,\n",
    "    n_query=p.n_query,\n",
    "    train_val_test_k_factors=(p.train_k_factor,p.val_k_factor,p.test_k_factor),\n",
    "):\n",
    "   \n",
    "    if x_transforms == []: x_transform = None\n",
    "    else: x_transform = get_chained_transform(x_transforms)\n",
    "    \n",
    "    if episode_transforms == []: episode_transform = None\n",
    "    else: raise Exception(\"episode_transforms not implemented\")\n",
    "    \n",
    "    episode_transform = lambda tup, _prefix=domain_prefix: (_prefix + str(tup[0]), tup[1])\n",
    "\n",
    "\n",
    "    eaf = Episodic_Accessor_Factory(\n",
    "        labels=labels,\n",
    "        domains=domains,\n",
    "        num_examples_per_domain_per_label=num_examples_per_domain_per_label,\n",
    "        iterator_seed=iterator_seed,\n",
    "        dataset_seed=dataset_seed,\n",
    "        n_shot=n_shot,\n",
    "        n_way=n_way,\n",
    "        n_query=n_query,\n",
    "        train_val_test_k_factors=train_val_test_k_factors,\n",
    "        pickle_path=pickle_path,\n",
    "        x_transform_func=x_transform,\n",
    "    )\n",
    "\n",
    "    train, val, test = eaf.get_train(), eaf.get_val(), eaf.get_test()\n",
    "    train = Lazy_Iterable_Wrapper(train, episode_transform)\n",
    "    val = Lazy_Iterable_Wrapper(val, episode_transform)\n",
    "    test = Lazy_Iterable_Wrapper(test, episode_transform)\n",
    "\n",
    "    if source_or_target_dataset==\"source\":\n",
    "        train_original_source.append(train)\n",
    "        val_original_source.append(val)\n",
    "        test_original_source.append(test)\n",
    "\n",
    "        p.domains_source.extend(\n",
    "            [domain_prefix + str(u) for u in domains]\n",
    "        )\n",
    "    elif source_or_target_dataset==\"target\":\n",
    "        train_original_target.append(train)\n",
    "        val_original_target.append(val)\n",
    "        test_original_target.append(test)\n",
    "        p.domains_target.extend(\n",
    "            [domain_prefix + str(u) for u in domains]\n",
    "        )\n",
    "    else:\n",
    "        raise Exception(f\"invalid source_or_target_dataset: {source_or_target_dataset}\")\n",
    "    "
   ]
  },
  {
   "cell_type": "code",
   "execution_count": 13,
   "id": "fe266617",
   "metadata": {
    "execution": {
     "iopub.execute_input": "2022-03-07T06:52:41.327804Z",
     "iopub.status.busy": "2022-03-07T06:52:41.327281Z",
     "iopub.status.idle": "2022-03-07T06:52:43.021007Z",
     "shell.execute_reply": "2022-03-07T06:52:43.020473Z"
    },
    "papermill": {
     "duration": 1.709397,
     "end_time": "2022-03-07T06:52:43.021117",
     "exception": false,
     "start_time": "2022-03-07T06:52:41.311720",
     "status": "completed"
    },
    "tags": []
   },
   "outputs": [],
   "source": [
    "for ds in p.datasets:\n",
    "    add_dataset(**ds)"
   ]
  },
  {
   "cell_type": "code",
   "execution_count": 14,
   "id": "b90d65ac",
   "metadata": {
    "execution": {
     "iopub.execute_input": "2022-03-07T06:52:43.055038Z",
     "iopub.status.busy": "2022-03-07T06:52:43.054042Z",
     "iopub.status.idle": "2022-03-07T06:52:43.067109Z",
     "shell.execute_reply": "2022-03-07T06:52:43.066736Z"
    },
    "papermill": {
     "duration": 0.029029,
     "end_time": "2022-03-07T06:52:43.067188",
     "exception": false,
     "start_time": "2022-03-07T06:52:43.038159",
     "status": "completed"
    },
    "tags": []
   },
   "outputs": [],
   "source": [
    "# from steves_utils.CORES.utils import (\n",
    "#     ALL_NODES,\n",
    "#     ALL_NODES_MINIMUM_1000_EXAMPLES,\n",
    "#     ALL_DAYS\n",
    "# )\n",
    "\n",
    "# add_dataset(\n",
    "#     labels=ALL_NODES,\n",
    "#     domains = ALL_DAYS,\n",
    "#     num_examples_per_domain_per_label=100,\n",
    "#     pickle_path=os.path.join(get_datasets_base_path(), \"cores.stratified_ds.2022A.pkl\"),\n",
    "#     source_or_target_dataset=\"target\",\n",
    "#     x_transform_func=global_x_transform_func,\n",
    "#     domain_modifier=lambda u: f\"cores_{u}\"\n",
    "# )"
   ]
  },
  {
   "cell_type": "code",
   "execution_count": 15,
   "id": "76db484d",
   "metadata": {
    "execution": {
     "iopub.execute_input": "2022-03-07T06:52:43.101799Z",
     "iopub.status.busy": "2022-03-07T06:52:43.101484Z",
     "iopub.status.idle": "2022-03-07T06:52:43.115236Z",
     "shell.execute_reply": "2022-03-07T06:52:43.114861Z"
    },
    "papermill": {
     "duration": 0.029136,
     "end_time": "2022-03-07T06:52:43.115335",
     "exception": false,
     "start_time": "2022-03-07T06:52:43.086199",
     "status": "completed"
    },
    "tags": []
   },
   "outputs": [],
   "source": [
    "# from steves_utils.ORACLE.utils_v2 import (\n",
    "#     ALL_DISTANCES_FEET,\n",
    "#     ALL_RUNS,\n",
    "#     ALL_SERIAL_NUMBERS,\n",
    "# )\n",
    "\n",
    "\n",
    "# add_dataset(\n",
    "#     labels=ALL_SERIAL_NUMBERS,\n",
    "#     domains = list(set(ALL_DISTANCES_FEET) - {2,62}),\n",
    "#     num_examples_per_domain_per_label=100,\n",
    "#     pickle_path=os.path.join(get_datasets_base_path(), \"oracle.Run2_framed_2000Examples_stratified_ds.2022A.pkl\"),\n",
    "#     source_or_target_dataset=\"source\",\n",
    "#     x_transform_func=global_x_transform_func,\n",
    "#     domain_modifier=lambda u: f\"oracle1_{u}\"\n",
    "# )\n"
   ]
  },
  {
   "cell_type": "code",
   "execution_count": 16,
   "id": "97dea9d2",
   "metadata": {
    "execution": {
     "iopub.execute_input": "2022-03-07T06:52:43.151084Z",
     "iopub.status.busy": "2022-03-07T06:52:43.150826Z",
     "iopub.status.idle": "2022-03-07T06:52:43.162398Z",
     "shell.execute_reply": "2022-03-07T06:52:43.162788Z"
    },
    "papermill": {
     "duration": 0.028001,
     "end_time": "2022-03-07T06:52:43.162911",
     "exception": false,
     "start_time": "2022-03-07T06:52:43.134910",
     "status": "completed"
    },
    "tags": []
   },
   "outputs": [],
   "source": [
    "# from steves_utils.ORACLE.utils_v2 import (\n",
    "#     ALL_DISTANCES_FEET,\n",
    "#     ALL_RUNS,\n",
    "#     ALL_SERIAL_NUMBERS,\n",
    "# )\n",
    "\n",
    "\n",
    "# add_dataset(\n",
    "#     labels=ALL_SERIAL_NUMBERS,\n",
    "#     domains = list(set(ALL_DISTANCES_FEET) - {2,62,56}),\n",
    "#     num_examples_per_domain_per_label=100,\n",
    "#     pickle_path=os.path.join(get_datasets_base_path(), \"oracle.Run2_framed_2000Examples_stratified_ds.2022A.pkl\"),\n",
    "#     source_or_target_dataset=\"source\",\n",
    "#     x_transform_func=global_x_transform_func,\n",
    "#     domain_modifier=lambda u: f\"oracle2_{u}\"\n",
    "# )"
   ]
  },
  {
   "cell_type": "code",
   "execution_count": 17,
   "id": "6f289866",
   "metadata": {
    "execution": {
     "iopub.execute_input": "2022-03-07T06:52:43.195611Z",
     "iopub.status.busy": "2022-03-07T06:52:43.195347Z",
     "iopub.status.idle": "2022-03-07T06:52:43.208679Z",
     "shell.execute_reply": "2022-03-07T06:52:43.208276Z"
    },
    "papermill": {
     "duration": 0.029839,
     "end_time": "2022-03-07T06:52:43.208783",
     "exception": false,
     "start_time": "2022-03-07T06:52:43.178944",
     "status": "completed"
    },
    "tags": []
   },
   "outputs": [],
   "source": [
    "# add_dataset(\n",
    "#     labels=list(range(19)),\n",
    "#     domains = [0,1,2],\n",
    "#     num_examples_per_domain_per_label=100,\n",
    "#     pickle_path=os.path.join(get_datasets_base_path(), \"metehan.stratified_ds.2022A.pkl\"),\n",
    "#     source_or_target_dataset=\"target\",\n",
    "#     x_transform_func=global_x_transform_func,\n",
    "#     domain_modifier=lambda u: f\"met_{u}\"\n",
    "# )"
   ]
  },
  {
   "cell_type": "code",
   "execution_count": 18,
   "id": "86a863c3",
   "metadata": {
    "execution": {
     "iopub.execute_input": "2022-03-07T06:52:43.244481Z",
     "iopub.status.busy": "2022-03-07T06:52:43.243267Z",
     "iopub.status.idle": "2022-03-07T06:52:43.257159Z",
     "shell.execute_reply": "2022-03-07T06:52:43.256756Z"
    },
    "papermill": {
     "duration": 0.029051,
     "end_time": "2022-03-07T06:52:43.257260",
     "exception": false,
     "start_time": "2022-03-07T06:52:43.228209",
     "status": "completed"
    },
    "tags": []
   },
   "outputs": [],
   "source": [
    "# # from steves_utils.wisig.utils import (\n",
    "# #     ALL_NODES_MINIMUM_100_EXAMPLES,\n",
    "# #     ALL_NODES_MINIMUM_500_EXAMPLES,\n",
    "# #     ALL_NODES_MINIMUM_1000_EXAMPLES,\n",
    "# #     ALL_DAYS\n",
    "# # )\n",
    "\n",
    "# import steves_utils.wisig.utils as wisig\n",
    "\n",
    "\n",
    "# add_dataset(\n",
    "#     labels=wisig.ALL_NODES_MINIMUM_100_EXAMPLES,\n",
    "#     domains = wisig.ALL_DAYS,\n",
    "#     num_examples_per_domain_per_label=100,\n",
    "#     pickle_path=os.path.join(get_datasets_base_path(), \"wisig.node3-19.stratified_ds.2022A.pkl\"),\n",
    "#     source_or_target_dataset=\"target\",\n",
    "#     x_transform_func=global_x_transform_func,\n",
    "#     domain_modifier=lambda u: f\"wisig_{u}\"\n",
    "# )"
   ]
  },
  {
   "cell_type": "code",
   "execution_count": 19,
   "id": "fd5442bc",
   "metadata": {
    "execution": {
     "iopub.execute_input": "2022-03-07T06:52:43.291239Z",
     "iopub.status.busy": "2022-03-07T06:52:43.290978Z",
     "iopub.status.idle": "2022-03-07T06:52:43.301076Z",
     "shell.execute_reply": "2022-03-07T06:52:43.300754Z"
    },
    "papermill": {
     "duration": 0.027165,
     "end_time": "2022-03-07T06:52:43.301154",
     "exception": false,
     "start_time": "2022-03-07T06:52:43.273989",
     "status": "completed"
    },
    "tags": []
   },
   "outputs": [],
   "source": [
    "###################################\n",
    "# Build the dataset\n",
    "###################################\n",
    "train_original_source = Iterable_Aggregator(train_original_source, p.seed)\n",
    "val_original_source = Iterable_Aggregator(val_original_source, p.seed)\n",
    "test_original_source = Iterable_Aggregator(test_original_source, p.seed)\n",
    "\n",
    "\n",
    "train_original_target = Iterable_Aggregator(train_original_target, p.seed)\n",
    "val_original_target = Iterable_Aggregator(val_original_target, p.seed)\n",
    "test_original_target = Iterable_Aggregator(test_original_target, p.seed)\n",
    "\n",
    "# For CNN We only use X and Y. And we only train on the source.\n",
    "# Properly form the data using a transform lambda and Lazy_Iterable_Wrapper. Finally wrap them in a dataloader\n",
    "\n",
    "transform_lambda = lambda ex: ex[1] # Original is (<domain>, <episode>) so we strip down to episode only\n",
    "\n",
    "train_processed_source = Lazy_Iterable_Wrapper(train_original_source, transform_lambda)\n",
    "val_processed_source   = Lazy_Iterable_Wrapper(val_original_source, transform_lambda)\n",
    "test_processed_source  = Lazy_Iterable_Wrapper(test_original_source, transform_lambda)\n",
    "\n",
    "train_processed_target = Lazy_Iterable_Wrapper(train_original_target, transform_lambda)\n",
    "val_processed_target   = Lazy_Iterable_Wrapper(val_original_target, transform_lambda)\n",
    "test_processed_target  = Lazy_Iterable_Wrapper(test_original_target, transform_lambda)\n",
    "\n",
    "datasets = EasyDict({\n",
    "    \"source\": {\n",
    "        \"original\": {\"train\":train_original_source, \"val\":val_original_source, \"test\":test_original_source},\n",
    "        \"processed\": {\"train\":train_processed_source, \"val\":val_processed_source, \"test\":test_processed_source}\n",
    "    },\n",
    "    \"target\": {\n",
    "        \"original\": {\"train\":train_original_target, \"val\":val_original_target, \"test\":test_original_target},\n",
    "        \"processed\": {\"train\":train_processed_target, \"val\":val_processed_target, \"test\":test_processed_target}\n",
    "    },\n",
    "})"
   ]
  },
  {
   "cell_type": "code",
   "execution_count": 20,
   "id": "5b3c01fc",
   "metadata": {
    "execution": {
     "iopub.execute_input": "2022-03-07T06:52:43.337826Z",
     "iopub.status.busy": "2022-03-07T06:52:43.337521Z",
     "iopub.status.idle": "2022-03-07T06:52:47.869930Z",
     "shell.execute_reply": "2022-03-07T06:52:47.869586Z"
    },
    "papermill": {
     "duration": 4.549834,
     "end_time": "2022-03-07T06:52:47.870016",
     "exception": false,
     "start_time": "2022-03-07T06:52:43.320182",
     "status": "completed"
    },
    "tags": []
   },
   "outputs": [
    {
     "name": "stdout",
     "output_type": "stream",
     "text": [
      "{'Wisig_1', 'Wisig_2', 'Wisig_4', 'Wisig_3'}\n"
     ]
    },
    {
     "name": "stdout",
     "output_type": "stream",
     "text": [
      "{'ORACLE.run150', 'ORACLE.run18', 'ORACLE.run114', 'ORACLE.run126', 'ORACLE.run132', 'ORACLE.run144', 'ORACLE.run138', 'ORACLE.run120'}\n"
     ]
    },
    {
     "name": "stdout",
     "output_type": "stream",
     "text": [
      "tensor([[[-1.6785e-02, -7.4770e-03, -3.0519e-04,  ..., -1.6144e-02,\n",
      "           0.0000e+00,  1.0071e-02],\n",
      "         [ 6.6530e-03,  6.1037e-05, -1.7701e-03,  ..., -1.4893e-02,\n",
      "           0.0000e+00, -1.5259e-04]],\n",
      "\n",
      "        [[-9.8270e-03,  2.0142e-02,  8.0264e-03,  ..., -8.6062e-03,\n",
      "          -7.4770e-03, -1.0010e-02],\n",
      "         [-2.2370e-02,  1.5259e-03,  2.0234e-02,  ...,  1.2696e-02,\n",
      "           1.8616e-03, -1.0987e-02]],\n",
      "\n",
      "        [[-1.2391e-02,  4.7304e-03,  7.0498e-03,  ...,  7.6296e-03,\n",
      "           4.0895e-03,  4.7914e-03],\n",
      "         [-6.4089e-03, -6.8972e-03, -1.1261e-02,  ...,  9.1556e-05,\n",
      "          -1.0376e-02, -1.9959e-02]],\n",
      "\n",
      "        ...,\n",
      "\n",
      "        [[ 2.3499e-02, -2.8504e-02, -1.1200e-02,  ...,  3.3570e-04,\n",
      "           3.2960e-03,  2.2858e-02],\n",
      "         [ 2.2645e-02,  1.3855e-02, -1.8281e-02,  ...,  2.3530e-02,\n",
      "          -1.4466e-02, -1.5259e-03]],\n",
      "\n",
      "        [[-8.3926e-03,  9.9185e-03, -1.8281e-02,  ..., -1.1780e-02,\n",
      "          -2.5880e-02, -1.8860e-02],\n",
      "         [-6.2258e-03, -4.4557e-03, -7.1413e-03,  ...,  3.3052e-02,\n",
      "           8.5757e-03, -4.9013e-02]],\n",
      "\n",
      "        [[ 5.6764e-03,  2.7009e-02, -3.8301e-02,  ...,  3.9399e-02,\n",
      "           4.6388e-03, -4.6388e-03],\n",
      "         [-3.4455e-02,  1.2085e-02,  2.0661e-02,  ...,  7.3244e-04,\n",
      "           7.5686e-03, -1.6175e-02]]])\n"
     ]
    }
   ],
   "source": [
    "from steves_utils.transforms import get_average_magnitude, get_average_power\n",
    "\n",
    "print(set([u for u,_ in val_original_source]))\n",
    "print(set([u for u,_ in val_original_target]))\n",
    "\n",
    "s_x, s_y, q_x, q_y, _ = next(iter(train_processed_source))\n",
    "print(s_x)\n",
    "\n",
    "# for ds in [\n",
    "#     train_processed_source,\n",
    "#     val_processed_source,\n",
    "#     test_processed_source,\n",
    "#     train_processed_target,\n",
    "#     val_processed_target,\n",
    "#     test_processed_target\n",
    "# ]:\n",
    "#     for s_x, s_y, q_x, q_y, _ in ds:\n",
    "#         for X in (s_x, q_x):\n",
    "#             for x in X:\n",
    "#                 assert np.isclose(get_average_magnitude(x.numpy()), 1.0)\n",
    "#                 assert np.isclose(get_average_power(x.numpy()), 1.0)\n",
    "                "
   ]
  },
  {
   "cell_type": "code",
   "execution_count": 21,
   "id": "bbdacba1",
   "metadata": {
    "execution": {
     "iopub.execute_input": "2022-03-07T06:52:47.901948Z",
     "iopub.status.busy": "2022-03-07T06:52:47.901689Z",
     "iopub.status.idle": "2022-03-07T06:52:47.957623Z",
     "shell.execute_reply": "2022-03-07T06:52:47.958028Z"
    },
    "papermill": {
     "duration": 0.073097,
     "end_time": "2022-03-07T06:52:47.958159",
     "exception": false,
     "start_time": "2022-03-07T06:52:47.885062",
     "status": "completed"
    },
    "tags": []
   },
   "outputs": [
    {
     "name": "stdout",
     "output_type": "stream",
     "text": [
      "(2, 256)\n"
     ]
    }
   ],
   "source": [
    "###################################\n",
    "# Build the model\n",
    "###################################\n",
    "model = Steves_Prototypical_Network(x_net, device=p.device, x_shape=(2,256))\n",
    "optimizer = Adam(params=model.parameters(), lr=p.lr)"
   ]
  },
  {
   "cell_type": "code",
   "execution_count": 22,
   "id": "22b39ac5",
   "metadata": {
    "execution": {
     "iopub.execute_input": "2022-03-07T06:52:47.995735Z",
     "iopub.status.busy": "2022-03-07T06:52:47.995477Z",
     "iopub.status.idle": "2022-03-07T07:03:32.766235Z",
     "shell.execute_reply": "2022-03-07T07:03:32.766003Z"
    },
    "papermill": {
     "duration": 644.788761,
     "end_time": "2022-03-07T07:03:32.766292",
     "exception": false,
     "start_time": "2022-03-07T06:52:47.977531",
     "status": "completed"
    },
    "tags": []
   },
   "outputs": [
    {
     "name": "stdout",
     "output_type": "stream",
     "text": [
      "epoch: 1, [batch: 1 / 1347], examples_per_second: 197.4723, train_label_loss: 1.7882, \n"
     ]
    },
    {
     "name": "stdout",
     "output_type": "stream",
     "text": [
      "epoch: 1, [batch: 135 / 1347], examples_per_second: 3134.8339, train_label_loss: 0.5071, \n"
     ]
    },
    {
     "name": "stdout",
     "output_type": "stream",
     "text": [
      "epoch: 1, [batch: 270 / 1347], examples_per_second: 3125.9861, train_label_loss: 0.2211, \n"
     ]
    },
    {
     "name": "stdout",
     "output_type": "stream",
     "text": [
      "epoch: 1, [batch: 404 / 1347], examples_per_second: 3138.9152, train_label_loss: 0.1046, \n"
     ]
    },
    {
     "name": "stdout",
     "output_type": "stream",
     "text": [
      "epoch: 1, [batch: 539 / 1347], examples_per_second: 3141.1345, train_label_loss: 0.5847, \n"
     ]
    },
    {
     "name": "stdout",
     "output_type": "stream",
     "text": [
      "epoch: 1, [batch: 674 / 1347], examples_per_second: 3157.3314, train_label_loss: 0.2257, \n"
     ]
    },
    {
     "name": "stdout",
     "output_type": "stream",
     "text": [
      "epoch: 1, [batch: 808 / 1347], examples_per_second: 3155.1520, train_label_loss: 0.3917, \n"
     ]
    },
    {
     "name": "stdout",
     "output_type": "stream",
     "text": [
      "epoch: 1, [batch: 943 / 1347], examples_per_second: 3147.8854, train_label_loss: 0.0575, \n"
     ]
    },
    {
     "name": "stdout",
     "output_type": "stream",
     "text": [
      "epoch: 1, [batch: 1077 / 1347], examples_per_second: 3149.0859, train_label_loss: 0.0481, \n"
     ]
    },
    {
     "name": "stdout",
     "output_type": "stream",
     "text": [
      "epoch: 1, [batch: 1212 / 1347], examples_per_second: 3154.6948, train_label_loss: 0.2048, \n"
     ]
    },
    {
     "name": "stdout",
     "output_type": "stream",
     "text": [
      "=============================================================\n",
      "epoch: 1, source_val_acc_label: 0.9440, target_val_acc_label: 0.4982, source_val_label_loss: 0.2532, target_val_label_loss: 2.5350, \n",
      "=============================================================\n"
     ]
    },
    {
     "name": "stdout",
     "output_type": "stream",
     "text": [
      "New best\n"
     ]
    },
    {
     "name": "stdout",
     "output_type": "stream",
     "text": [
      "epoch: 2, [batch: 1 / 1346], examples_per_second: 12.8957, train_label_loss: 0.0379, \n"
     ]
    },
    {
     "name": "stdout",
     "output_type": "stream",
     "text": [
      "epoch: 2, [batch: 135 / 1346], examples_per_second: 3164.2954, train_label_loss: 0.1323, \n"
     ]
    },
    {
     "name": "stdout",
     "output_type": "stream",
     "text": [
      "epoch: 2, [batch: 270 / 1346], examples_per_second: 3163.8067, train_label_loss: 0.1830, \n"
     ]
    },
    {
     "name": "stdout",
     "output_type": "stream",
     "text": [
      "epoch: 2, [batch: 404 / 1346], examples_per_second: 3169.7406, train_label_loss: 0.0134, \n"
     ]
    },
    {
     "name": "stdout",
     "output_type": "stream",
     "text": [
      "epoch: 2, [batch: 539 / 1346], examples_per_second: 3150.8755, train_label_loss: 0.1688, \n"
     ]
    },
    {
     "name": "stdout",
     "output_type": "stream",
     "text": [
      "epoch: 2, [batch: 673 / 1346], examples_per_second: 3161.2640, train_label_loss: 0.0233, \n"
     ]
    },
    {
     "name": "stdout",
     "output_type": "stream",
     "text": [
      "epoch: 2, [batch: 808 / 1346], examples_per_second: 3146.4803, train_label_loss: 0.0731, \n"
     ]
    },
    {
     "name": "stdout",
     "output_type": "stream",
     "text": [
      "epoch: 2, [batch: 942 / 1346], examples_per_second: 3143.5072, train_label_loss: 0.0836, \n"
     ]
    },
    {
     "name": "stdout",
     "output_type": "stream",
     "text": [
      "epoch: 2, [batch: 1077 / 1346], examples_per_second: 3152.9289, train_label_loss: 0.0541, \n"
     ]
    },
    {
     "name": "stdout",
     "output_type": "stream",
     "text": [
      "epoch: 2, [batch: 1211 / 1346], examples_per_second: 3174.2699, train_label_loss: 0.2221, \n"
     ]
    },
    {
     "name": "stdout",
     "output_type": "stream",
     "text": [
      "=============================================================\n",
      "epoch: 2, source_val_acc_label: 0.9580, target_val_acc_label: 0.3969, source_val_label_loss: 0.2466, target_val_label_loss: 2.4944, \n",
      "=============================================================\n"
     ]
    },
    {
     "name": "stdout",
     "output_type": "stream",
     "text": [
      "New best\n"
     ]
    },
    {
     "name": "stdout",
     "output_type": "stream",
     "text": [
      "epoch: 3, [batch: 1 / 1347], examples_per_second: 12.8595, train_label_loss: 0.3927, \n"
     ]
    },
    {
     "name": "stdout",
     "output_type": "stream",
     "text": [
      "epoch: 3, [batch: 135 / 1347], examples_per_second: 3167.8881, train_label_loss: 0.3714, \n"
     ]
    },
    {
     "name": "stdout",
     "output_type": "stream",
     "text": [
      "epoch: 3, [batch: 270 / 1347], examples_per_second: 3172.0658, train_label_loss: 0.2835, \n"
     ]
    },
    {
     "name": "stdout",
     "output_type": "stream",
     "text": [
      "epoch: 3, [batch: 404 / 1347], examples_per_second: 3164.3046, train_label_loss: 0.4011, \n"
     ]
    },
    {
     "name": "stdout",
     "output_type": "stream",
     "text": [
      "epoch: 3, [batch: 539 / 1347], examples_per_second: 3162.2812, train_label_loss: 0.0781, \n"
     ]
    },
    {
     "name": "stdout",
     "output_type": "stream",
     "text": [
      "epoch: 3, [batch: 674 / 1347], examples_per_second: 3190.4544, train_label_loss: 0.0074, \n"
     ]
    },
    {
     "name": "stdout",
     "output_type": "stream",
     "text": [
      "epoch: 3, [batch: 808 / 1347], examples_per_second: 3166.8595, train_label_loss: 0.1051, \n"
     ]
    },
    {
     "name": "stdout",
     "output_type": "stream",
     "text": [
      "epoch: 3, [batch: 943 / 1347], examples_per_second: 3171.1749, train_label_loss: 0.0784, \n"
     ]
    },
    {
     "name": "stdout",
     "output_type": "stream",
     "text": [
      "epoch: 3, [batch: 1077 / 1347], examples_per_second: 3173.5594, train_label_loss: 0.0072, \n"
     ]
    },
    {
     "name": "stdout",
     "output_type": "stream",
     "text": [
      "epoch: 3, [batch: 1212 / 1347], examples_per_second: 3188.6375, train_label_loss: 0.1963, \n"
     ]
    },
    {
     "name": "stdout",
     "output_type": "stream",
     "text": [
      "=============================================================\n",
      "epoch: 3, source_val_acc_label: 0.9663, target_val_acc_label: 0.4395, source_val_label_loss: 0.1570, target_val_label_loss: 2.4573, \n",
      "=============================================================\n"
     ]
    },
    {
     "name": "stdout",
     "output_type": "stream",
     "text": [
      "New best\n"
     ]
    },
    {
     "name": "stdout",
     "output_type": "stream",
     "text": [
      "epoch: 4, [batch: 1 / 1346], examples_per_second: 12.7953, train_label_loss: 0.0201, \n"
     ]
    },
    {
     "name": "stdout",
     "output_type": "stream",
     "text": [
      "epoch: 4, [batch: 135 / 1346], examples_per_second: 3154.9291, train_label_loss: 0.0280, \n"
     ]
    },
    {
     "name": "stdout",
     "output_type": "stream",
     "text": [
      "epoch: 4, [batch: 270 / 1346], examples_per_second: 3167.2134, train_label_loss: 0.2067, \n"
     ]
    },
    {
     "name": "stdout",
     "output_type": "stream",
     "text": [
      "epoch: 4, [batch: 404 / 1346], examples_per_second: 3188.6330, train_label_loss: 0.0279, \n"
     ]
    },
    {
     "name": "stdout",
     "output_type": "stream",
     "text": [
      "epoch: 4, [batch: 539 / 1346], examples_per_second: 3159.8629, train_label_loss: 0.3371, \n"
     ]
    },
    {
     "name": "stdout",
     "output_type": "stream",
     "text": [
      "epoch: 4, [batch: 673 / 1346], examples_per_second: 3160.8353, train_label_loss: 0.0167, \n"
     ]
    },
    {
     "name": "stdout",
     "output_type": "stream",
     "text": [
      "epoch: 4, [batch: 808 / 1346], examples_per_second: 3181.1581, train_label_loss: 0.0117, \n"
     ]
    },
    {
     "name": "stdout",
     "output_type": "stream",
     "text": [
      "epoch: 4, [batch: 942 / 1346], examples_per_second: 3171.2119, train_label_loss: 0.0871, \n"
     ]
    },
    {
     "name": "stdout",
     "output_type": "stream",
     "text": [
      "epoch: 4, [batch: 1077 / 1346], examples_per_second: 3174.7777, train_label_loss: 0.2145, \n"
     ]
    },
    {
     "name": "stdout",
     "output_type": "stream",
     "text": [
      "epoch: 4, [batch: 1211 / 1346], examples_per_second: 3175.4105, train_label_loss: 0.4113, \n"
     ]
    },
    {
     "name": "stdout",
     "output_type": "stream",
     "text": [
      "=============================================================\n",
      "epoch: 4, source_val_acc_label: 0.9645, target_val_acc_label: 0.4948, source_val_label_loss: 0.1762, target_val_label_loss: 2.3875, \n",
      "=============================================================\n"
     ]
    },
    {
     "name": "stdout",
     "output_type": "stream",
     "text": [
      "New best\n"
     ]
    },
    {
     "name": "stdout",
     "output_type": "stream",
     "text": [
      "epoch: 5, [batch: 1 / 1346], examples_per_second: 12.8923, train_label_loss: 0.1795, \n"
     ]
    },
    {
     "name": "stdout",
     "output_type": "stream",
     "text": [
      "epoch: 5, [batch: 135 / 1346], examples_per_second: 3149.6313, train_label_loss: 0.2289, \n"
     ]
    },
    {
     "name": "stdout",
     "output_type": "stream",
     "text": [
      "epoch: 5, [batch: 270 / 1346], examples_per_second: 3145.3680, train_label_loss: 0.0194, \n"
     ]
    },
    {
     "name": "stdout",
     "output_type": "stream",
     "text": [
      "epoch: 5, [batch: 404 / 1346], examples_per_second: 3163.2062, train_label_loss: 0.1609, \n"
     ]
    },
    {
     "name": "stdout",
     "output_type": "stream",
     "text": [
      "epoch: 5, [batch: 539 / 1346], examples_per_second: 3144.7577, train_label_loss: 0.0590, \n"
     ]
    },
    {
     "name": "stdout",
     "output_type": "stream",
     "text": [
      "epoch: 5, [batch: 673 / 1346], examples_per_second: 3153.9202, train_label_loss: 0.1987, \n"
     ]
    },
    {
     "name": "stdout",
     "output_type": "stream",
     "text": [
      "epoch: 5, [batch: 808 / 1346], examples_per_second: 3151.3034, train_label_loss: 0.0327, \n"
     ]
    },
    {
     "name": "stdout",
     "output_type": "stream",
     "text": [
      "epoch: 5, [batch: 942 / 1346], examples_per_second: 3146.0378, train_label_loss: 0.0056, \n"
     ]
    },
    {
     "name": "stdout",
     "output_type": "stream",
     "text": [
      "epoch: 5, [batch: 1077 / 1346], examples_per_second: 3134.9460, train_label_loss: 0.0077, \n"
     ]
    },
    {
     "name": "stdout",
     "output_type": "stream",
     "text": [
      "epoch: 5, [batch: 1211 / 1346], examples_per_second: 3148.8667, train_label_loss: 0.2272, \n"
     ]
    },
    {
     "name": "stdout",
     "output_type": "stream",
     "text": [
      "=============================================================\n",
      "epoch: 5, source_val_acc_label: 0.9642, target_val_acc_label: 0.3485, source_val_label_loss: 0.1888, target_val_label_loss: 2.4436, \n",
      "=============================================================\n"
     ]
    },
    {
     "name": "stdout",
     "output_type": "stream",
     "text": [
      "epoch: 6, [batch: 1 / 1346], examples_per_second: 12.9766, train_label_loss: 0.3551, \n"
     ]
    },
    {
     "name": "stdout",
     "output_type": "stream",
     "text": [
      "epoch: 6, [batch: 135 / 1346], examples_per_second: 3164.3233, train_label_loss: 0.1215, \n"
     ]
    },
    {
     "name": "stdout",
     "output_type": "stream",
     "text": [
      "epoch: 6, [batch: 270 / 1346], examples_per_second: 3174.0956, train_label_loss: 0.0285, \n"
     ]
    },
    {
     "name": "stdout",
     "output_type": "stream",
     "text": [
      "epoch: 6, [batch: 404 / 1346], examples_per_second: 3163.2616, train_label_loss: 0.0930, \n"
     ]
    },
    {
     "name": "stdout",
     "output_type": "stream",
     "text": [
      "epoch: 6, [batch: 539 / 1346], examples_per_second: 3150.0512, train_label_loss: 0.0447, \n"
     ]
    },
    {
     "name": "stdout",
     "output_type": "stream",
     "text": [
      "epoch: 6, [batch: 673 / 1346], examples_per_second: 3175.7859, train_label_loss: 0.0327, \n"
     ]
    },
    {
     "name": "stdout",
     "output_type": "stream",
     "text": [
      "epoch: 6, [batch: 808 / 1346], examples_per_second: 3188.5635, train_label_loss: 0.0108, \n"
     ]
    },
    {
     "name": "stdout",
     "output_type": "stream",
     "text": [
      "epoch: 6, [batch: 942 / 1346], examples_per_second: 3153.4997, train_label_loss: 0.1243, \n"
     ]
    },
    {
     "name": "stdout",
     "output_type": "stream",
     "text": [
      "epoch: 6, [batch: 1077 / 1346], examples_per_second: 3183.5038, train_label_loss: 0.1853, \n"
     ]
    },
    {
     "name": "stdout",
     "output_type": "stream",
     "text": [
      "epoch: 6, [batch: 1211 / 1346], examples_per_second: 3192.5802, train_label_loss: 0.2940, \n"
     ]
    },
    {
     "name": "stdout",
     "output_type": "stream",
     "text": [
      "=============================================================\n",
      "epoch: 6, source_val_acc_label: 0.9670, target_val_acc_label: 0.3210, source_val_label_loss: 0.1639, target_val_label_loss: 2.3826, \n",
      "=============================================================\n"
     ]
    },
    {
     "name": "stdout",
     "output_type": "stream",
     "text": [
      "New best\n"
     ]
    },
    {
     "name": "stdout",
     "output_type": "stream",
     "text": [
      "epoch: 7, [batch: 1 / 1344], examples_per_second: 12.9478, train_label_loss: 0.1071, \n"
     ]
    },
    {
     "name": "stdout",
     "output_type": "stream",
     "text": [
      "epoch: 7, [batch: 135 / 1344], examples_per_second: 3156.1719, train_label_loss: 0.0130, \n"
     ]
    },
    {
     "name": "stdout",
     "output_type": "stream",
     "text": [
      "epoch: 7, [batch: 269 / 1344], examples_per_second: 3155.6348, train_label_loss: 0.0865, \n"
     ]
    },
    {
     "name": "stdout",
     "output_type": "stream",
     "text": [
      "epoch: 7, [batch: 403 / 1344], examples_per_second: 3143.5283, train_label_loss: 0.0169, \n"
     ]
    },
    {
     "name": "stdout",
     "output_type": "stream",
     "text": [
      "epoch: 7, [batch: 538 / 1344], examples_per_second: 3149.8891, train_label_loss: 0.1597, \n"
     ]
    },
    {
     "name": "stdout",
     "output_type": "stream",
     "text": [
      "epoch: 7, [batch: 672 / 1344], examples_per_second: 3162.5056, train_label_loss: 0.1579, \n"
     ]
    },
    {
     "name": "stdout",
     "output_type": "stream",
     "text": [
      "epoch: 7, [batch: 806 / 1344], examples_per_second: 3147.5827, train_label_loss: 0.1079, \n"
     ]
    },
    {
     "name": "stdout",
     "output_type": "stream",
     "text": [
      "epoch: 7, [batch: 941 / 1344], examples_per_second: 3157.4665, train_label_loss: 0.0061, \n"
     ]
    },
    {
     "name": "stdout",
     "output_type": "stream",
     "text": [
      "epoch: 7, [batch: 1075 / 1344], examples_per_second: 3165.3409, train_label_loss: 0.1217, \n"
     ]
    },
    {
     "name": "stdout",
     "output_type": "stream",
     "text": [
      "epoch: 7, [batch: 1209 / 1344], examples_per_second: 3156.1775, train_label_loss: 0.0083, \n"
     ]
    },
    {
     "name": "stdout",
     "output_type": "stream",
     "text": [
      "=============================================================\n",
      "epoch: 7, source_val_acc_label: 0.9663, target_val_acc_label: 0.3704, source_val_label_loss: 0.1605, target_val_label_loss: 2.3729, \n",
      "=============================================================\n"
     ]
    },
    {
     "name": "stdout",
     "output_type": "stream",
     "text": [
      "New best\n"
     ]
    },
    {
     "name": "stdout",
     "output_type": "stream",
     "text": [
      "epoch: 8, [batch: 1 / 1347], examples_per_second: 12.8185, train_label_loss: 0.1612, \n"
     ]
    },
    {
     "name": "stdout",
     "output_type": "stream",
     "text": [
      "epoch: 8, [batch: 135 / 1347], examples_per_second: 3166.9941, train_label_loss: 0.0517, \n"
     ]
    },
    {
     "name": "stdout",
     "output_type": "stream",
     "text": [
      "epoch: 8, [batch: 270 / 1347], examples_per_second: 3171.5923, train_label_loss: 0.0345, \n"
     ]
    },
    {
     "name": "stdout",
     "output_type": "stream",
     "text": [
      "epoch: 8, [batch: 404 / 1347], examples_per_second: 3168.4503, train_label_loss: 0.0850, \n"
     ]
    },
    {
     "name": "stdout",
     "output_type": "stream",
     "text": [
      "epoch: 8, [batch: 539 / 1347], examples_per_second: 3165.7731, train_label_loss: 0.0053, \n"
     ]
    },
    {
     "name": "stdout",
     "output_type": "stream",
     "text": [
      "epoch: 8, [batch: 674 / 1347], examples_per_second: 3171.1061, train_label_loss: 0.2848, \n"
     ]
    },
    {
     "name": "stdout",
     "output_type": "stream",
     "text": [
      "epoch: 8, [batch: 808 / 1347], examples_per_second: 3178.4482, train_label_loss: 0.2467, \n"
     ]
    },
    {
     "name": "stdout",
     "output_type": "stream",
     "text": [
      "epoch: 8, [batch: 943 / 1347], examples_per_second: 3142.7801, train_label_loss: 0.0055, \n"
     ]
    },
    {
     "name": "stdout",
     "output_type": "stream",
     "text": [
      "epoch: 8, [batch: 1077 / 1347], examples_per_second: 3154.7265, train_label_loss: 0.0127, \n"
     ]
    },
    {
     "name": "stdout",
     "output_type": "stream",
     "text": [
      "epoch: 8, [batch: 1212 / 1347], examples_per_second: 3156.3524, train_label_loss: 0.0180, \n"
     ]
    },
    {
     "name": "stdout",
     "output_type": "stream",
     "text": [
      "=============================================================\n",
      "epoch: 8, source_val_acc_label: 0.9688, target_val_acc_label: 0.2920, source_val_label_loss: 0.1488, target_val_label_loss: 2.4526, \n",
      "=============================================================\n"
     ]
    },
    {
     "name": "stdout",
     "output_type": "stream",
     "text": [
      "epoch: 9, [batch: 1 / 1345], examples_per_second: 12.8830, train_label_loss: 0.0099, \n"
     ]
    },
    {
     "name": "stdout",
     "output_type": "stream",
     "text": [
      "epoch: 9, [batch: 135 / 1345], examples_per_second: 3176.8165, train_label_loss: 0.0010, \n"
     ]
    },
    {
     "name": "stdout",
     "output_type": "stream",
     "text": [
      "epoch: 9, [batch: 269 / 1345], examples_per_second: 3169.9020, train_label_loss: 0.0041, \n"
     ]
    },
    {
     "name": "stdout",
     "output_type": "stream",
     "text": [
      "epoch: 9, [batch: 404 / 1345], examples_per_second: 3172.3606, train_label_loss: 0.1781, \n"
     ]
    },
    {
     "name": "stdout",
     "output_type": "stream",
     "text": [
      "epoch: 9, [batch: 538 / 1345], examples_per_second: 3159.7937, train_label_loss: 0.0059, \n"
     ]
    },
    {
     "name": "stdout",
     "output_type": "stream",
     "text": [
      "epoch: 9, [batch: 673 / 1345], examples_per_second: 3175.1731, train_label_loss: 0.1171, \n"
     ]
    },
    {
     "name": "stdout",
     "output_type": "stream",
     "text": [
      "epoch: 9, [batch: 807 / 1345], examples_per_second: 3182.8266, train_label_loss: 0.1382, \n"
     ]
    },
    {
     "name": "stdout",
     "output_type": "stream",
     "text": [
      "epoch: 9, [batch: 941 / 1345], examples_per_second: 3161.5947, train_label_loss: 0.0083, \n"
     ]
    },
    {
     "name": "stdout",
     "output_type": "stream",
     "text": [
      "epoch: 9, [batch: 1076 / 1345], examples_per_second: 3158.8572, train_label_loss: 0.0118, \n"
     ]
    },
    {
     "name": "stdout",
     "output_type": "stream",
     "text": [
      "epoch: 9, [batch: 1210 / 1345], examples_per_second: 3181.5371, train_label_loss: 0.0280, \n"
     ]
    },
    {
     "name": "stdout",
     "output_type": "stream",
     "text": [
      "=============================================================\n",
      "epoch: 9, source_val_acc_label: 0.9681, target_val_acc_label: 0.3314, source_val_label_loss: 0.1518, target_val_label_loss: 2.3359, \n",
      "=============================================================\n"
     ]
    },
    {
     "name": "stdout",
     "output_type": "stream",
     "text": [
      "New best\n"
     ]
    },
    {
     "name": "stdout",
     "output_type": "stream",
     "text": [
      "epoch: 10, [batch: 1 / 1343], examples_per_second: 12.8590, train_label_loss: 0.0173, \n"
     ]
    },
    {
     "name": "stdout",
     "output_type": "stream",
     "text": [
      "epoch: 10, [batch: 135 / 1343], examples_per_second: 3163.8361, train_label_loss: 0.1371, \n"
     ]
    },
    {
     "name": "stdout",
     "output_type": "stream",
     "text": [
      "epoch: 10, [batch: 269 / 1343], examples_per_second: 3148.3821, train_label_loss: 0.0310, \n"
     ]
    },
    {
     "name": "stdout",
     "output_type": "stream",
     "text": [
      "epoch: 10, [batch: 403 / 1343], examples_per_second: 3163.3268, train_label_loss: 0.0205, \n"
     ]
    },
    {
     "name": "stdout",
     "output_type": "stream",
     "text": [
      "epoch: 10, [batch: 537 / 1343], examples_per_second: 3147.1932, train_label_loss: 0.0595, \n"
     ]
    },
    {
     "name": "stdout",
     "output_type": "stream",
     "text": [
      "epoch: 10, [batch: 672 / 1343], examples_per_second: 3172.3109, train_label_loss: 0.0058, \n"
     ]
    },
    {
     "name": "stdout",
     "output_type": "stream",
     "text": [
      "epoch: 10, [batch: 806 / 1343], examples_per_second: 3226.4979, train_label_loss: 0.1754, \n"
     ]
    },
    {
     "name": "stdout",
     "output_type": "stream",
     "text": [
      "epoch: 10, [batch: 940 / 1343], examples_per_second: 3157.3665, train_label_loss: 0.0722, \n"
     ]
    },
    {
     "name": "stdout",
     "output_type": "stream",
     "text": [
      "epoch: 10, [batch: 1074 / 1343], examples_per_second: 3198.1410, train_label_loss: 0.0386, \n"
     ]
    },
    {
     "name": "stdout",
     "output_type": "stream",
     "text": [
      "epoch: 10, [batch: 1208 / 1343], examples_per_second: 3151.5210, train_label_loss: 0.1004, \n"
     ]
    },
    {
     "name": "stdout",
     "output_type": "stream",
     "text": [
      "=============================================================\n",
      "epoch: 10, source_val_acc_label: 0.9699, target_val_acc_label: 0.2746, source_val_label_loss: 0.1419, target_val_label_loss: 2.4216, \n",
      "=============================================================\n"
     ]
    },
    {
     "name": "stdout",
     "output_type": "stream",
     "text": [
      "epoch: 11, [batch: 1 / 1344], examples_per_second: 12.9504, train_label_loss: 0.0257, \n"
     ]
    },
    {
     "name": "stdout",
     "output_type": "stream",
     "text": [
      "epoch: 11, [batch: 135 / 1344], examples_per_second: 3154.5165, train_label_loss: 0.1673, \n"
     ]
    },
    {
     "name": "stdout",
     "output_type": "stream",
     "text": [
      "epoch: 11, [batch: 269 / 1344], examples_per_second: 3194.3368, train_label_loss: 0.0170, \n"
     ]
    },
    {
     "name": "stdout",
     "output_type": "stream",
     "text": [
      "epoch: 11, [batch: 403 / 1344], examples_per_second: 3184.6628, train_label_loss: 0.1536, \n"
     ]
    },
    {
     "name": "stdout",
     "output_type": "stream",
     "text": [
      "epoch: 11, [batch: 538 / 1344], examples_per_second: 3153.2860, train_label_loss: 0.0038, \n"
     ]
    },
    {
     "name": "stdout",
     "output_type": "stream",
     "text": [
      "epoch: 11, [batch: 672 / 1344], examples_per_second: 3162.6595, train_label_loss: 0.0930, \n"
     ]
    },
    {
     "name": "stdout",
     "output_type": "stream",
     "text": [
      "epoch: 11, [batch: 806 / 1344], examples_per_second: 3170.3005, train_label_loss: 0.3076, \n"
     ]
    },
    {
     "name": "stdout",
     "output_type": "stream",
     "text": [
      "epoch: 11, [batch: 941 / 1344], examples_per_second: 3175.0865, train_label_loss: 0.0132, \n"
     ]
    },
    {
     "name": "stdout",
     "output_type": "stream",
     "text": [
      "epoch: 11, [batch: 1075 / 1344], examples_per_second: 3165.4293, train_label_loss: 0.0042, \n"
     ]
    },
    {
     "name": "stdout",
     "output_type": "stream",
     "text": [
      "epoch: 11, [batch: 1209 / 1344], examples_per_second: 3176.3780, train_label_loss: 0.0588, \n"
     ]
    },
    {
     "name": "stdout",
     "output_type": "stream",
     "text": [
      "=============================================================\n",
      "epoch: 11, source_val_acc_label: 0.9704, target_val_acc_label: 0.2811, source_val_label_loss: 0.1448, target_val_label_loss: 2.3100, \n",
      "=============================================================\n"
     ]
    },
    {
     "name": "stdout",
     "output_type": "stream",
     "text": [
      "New best\n"
     ]
    },
    {
     "name": "stdout",
     "output_type": "stream",
     "text": [
      "epoch: 12, [batch: 1 / 1347], examples_per_second: 12.7836, train_label_loss: 0.0028, \n"
     ]
    },
    {
     "name": "stdout",
     "output_type": "stream",
     "text": [
      "epoch: 12, [batch: 135 / 1347], examples_per_second: 3147.1753, train_label_loss: 0.0047, \n"
     ]
    },
    {
     "name": "stdout",
     "output_type": "stream",
     "text": [
      "epoch: 12, [batch: 270 / 1347], examples_per_second: 3167.8114, train_label_loss: 0.1416, \n"
     ]
    },
    {
     "name": "stdout",
     "output_type": "stream",
     "text": [
      "epoch: 12, [batch: 404 / 1347], examples_per_second: 3169.3029, train_label_loss: 0.0028, \n"
     ]
    },
    {
     "name": "stdout",
     "output_type": "stream",
     "text": [
      "epoch: 12, [batch: 539 / 1347], examples_per_second: 3144.2122, train_label_loss: 0.0230, \n"
     ]
    },
    {
     "name": "stdout",
     "output_type": "stream",
     "text": [
      "epoch: 12, [batch: 674 / 1347], examples_per_second: 3156.9026, train_label_loss: 0.0240, \n"
     ]
    },
    {
     "name": "stdout",
     "output_type": "stream",
     "text": [
      "epoch: 12, [batch: 808 / 1347], examples_per_second: 3177.6905, train_label_loss: 0.0025, \n"
     ]
    },
    {
     "name": "stdout",
     "output_type": "stream",
     "text": [
      "epoch: 12, [batch: 943 / 1347], examples_per_second: 3183.1251, train_label_loss: 0.1108, \n"
     ]
    },
    {
     "name": "stdout",
     "output_type": "stream",
     "text": [
      "epoch: 12, [batch: 1077 / 1347], examples_per_second: 3187.5353, train_label_loss: 0.1305, \n"
     ]
    },
    {
     "name": "stdout",
     "output_type": "stream",
     "text": [
      "epoch: 12, [batch: 1212 / 1347], examples_per_second: 3173.7340, train_label_loss: 0.0547, \n"
     ]
    },
    {
     "name": "stdout",
     "output_type": "stream",
     "text": [
      "=============================================================\n",
      "epoch: 12, source_val_acc_label: 0.9701, target_val_acc_label: 0.2606, source_val_label_loss: 0.1503, target_val_label_loss: 2.3403, \n",
      "=============================================================\n"
     ]
    },
    {
     "name": "stdout",
     "output_type": "stream",
     "text": [
      "epoch: 13, [batch: 1 / 1345], examples_per_second: 12.9970, train_label_loss: 0.0080, \n"
     ]
    },
    {
     "name": "stdout",
     "output_type": "stream",
     "text": [
      "epoch: 13, [batch: 135 / 1345], examples_per_second: 3141.5365, train_label_loss: 0.1465, \n"
     ]
    },
    {
     "name": "stdout",
     "output_type": "stream",
     "text": [
      "epoch: 13, [batch: 269 / 1345], examples_per_second: 3178.8482, train_label_loss: 0.0011, \n"
     ]
    },
    {
     "name": "stdout",
     "output_type": "stream",
     "text": [
      "epoch: 13, [batch: 404 / 1345], examples_per_second: 3177.6305, train_label_loss: 0.0032, \n"
     ]
    },
    {
     "name": "stdout",
     "output_type": "stream",
     "text": [
      "epoch: 13, [batch: 538 / 1345], examples_per_second: 3183.4657, train_label_loss: 0.0042, \n"
     ]
    },
    {
     "name": "stdout",
     "output_type": "stream",
     "text": [
      "epoch: 13, [batch: 673 / 1345], examples_per_second: 3165.4149, train_label_loss: 0.1841, \n"
     ]
    },
    {
     "name": "stdout",
     "output_type": "stream",
     "text": [
      "epoch: 13, [batch: 807 / 1345], examples_per_second: 3157.4102, train_label_loss: 0.1789, \n"
     ]
    },
    {
     "name": "stdout",
     "output_type": "stream",
     "text": [
      "epoch: 13, [batch: 941 / 1345], examples_per_second: 3144.0860, train_label_loss: 0.0134, \n"
     ]
    },
    {
     "name": "stdout",
     "output_type": "stream",
     "text": [
      "epoch: 13, [batch: 1076 / 1345], examples_per_second: 3176.5380, train_label_loss: 0.1702, \n"
     ]
    },
    {
     "name": "stdout",
     "output_type": "stream",
     "text": [
      "epoch: 13, [batch: 1210 / 1345], examples_per_second: 3199.8341, train_label_loss: 0.0032, \n"
     ]
    },
    {
     "name": "stdout",
     "output_type": "stream",
     "text": [
      "=============================================================\n",
      "epoch: 13, source_val_acc_label: 0.9696, target_val_acc_label: 0.2536, source_val_label_loss: 0.1466, target_val_label_loss: 2.3373, \n",
      "=============================================================\n"
     ]
    },
    {
     "name": "stdout",
     "output_type": "stream",
     "text": [
      "epoch: 14, [batch: 1 / 1344], examples_per_second: 12.8956, train_label_loss: 0.4449, \n"
     ]
    },
    {
     "name": "stdout",
     "output_type": "stream",
     "text": [
      "epoch: 14, [batch: 135 / 1344], examples_per_second: 3168.3616, train_label_loss: 0.0055, \n"
     ]
    },
    {
     "name": "stdout",
     "output_type": "stream",
     "text": [
      "epoch: 14, [batch: 269 / 1344], examples_per_second: 3172.9095, train_label_loss: 0.0261, \n"
     ]
    },
    {
     "name": "stdout",
     "output_type": "stream",
     "text": [
      "epoch: 14, [batch: 403 / 1344], examples_per_second: 3182.9875, train_label_loss: 0.4022, \n"
     ]
    },
    {
     "name": "stdout",
     "output_type": "stream",
     "text": [
      "epoch: 14, [batch: 538 / 1344], examples_per_second: 3156.3821, train_label_loss: 0.0807, \n"
     ]
    },
    {
     "name": "stdout",
     "output_type": "stream",
     "text": [
      "epoch: 14, [batch: 672 / 1344], examples_per_second: 3195.7142, train_label_loss: 0.0652, \n"
     ]
    },
    {
     "name": "stdout",
     "output_type": "stream",
     "text": [
      "epoch: 14, [batch: 806 / 1344], examples_per_second: 3186.1554, train_label_loss: 0.0296, \n"
     ]
    },
    {
     "name": "stdout",
     "output_type": "stream",
     "text": [
      "epoch: 14, [batch: 941 / 1344], examples_per_second: 3177.2309, train_label_loss: 0.0926, \n"
     ]
    },
    {
     "name": "stdout",
     "output_type": "stream",
     "text": [
      "epoch: 14, [batch: 1075 / 1344], examples_per_second: 3166.6138, train_label_loss: 0.0031, \n"
     ]
    },
    {
     "name": "stdout",
     "output_type": "stream",
     "text": [
      "epoch: 14, [batch: 1209 / 1344], examples_per_second: 3164.4912, train_label_loss: 0.0059, \n"
     ]
    },
    {
     "name": "stdout",
     "output_type": "stream",
     "text": [
      "=============================================================\n",
      "epoch: 14, source_val_acc_label: 0.9709, target_val_acc_label: 0.2364, source_val_label_loss: 0.1627, target_val_label_loss: 2.3760, \n",
      "=============================================================\n"
     ]
    },
    {
     "name": "stdout",
     "output_type": "stream",
     "text": [
      "epoch: 15, [batch: 1 / 1345], examples_per_second: 12.9304, train_label_loss: 0.0034, \n"
     ]
    },
    {
     "name": "stdout",
     "output_type": "stream",
     "text": [
      "epoch: 15, [batch: 135 / 1345], examples_per_second: 3166.7028, train_label_loss: 0.0631, \n"
     ]
    },
    {
     "name": "stdout",
     "output_type": "stream",
     "text": [
      "epoch: 15, [batch: 269 / 1345], examples_per_second: 3168.6007, train_label_loss: 0.0028, \n"
     ]
    },
    {
     "name": "stdout",
     "output_type": "stream",
     "text": [
      "epoch: 15, [batch: 404 / 1345], examples_per_second: 3164.3995, train_label_loss: 0.0051, \n"
     ]
    },
    {
     "name": "stdout",
     "output_type": "stream",
     "text": [
      "epoch: 15, [batch: 538 / 1345], examples_per_second: 3159.2058, train_label_loss: 0.0247, \n"
     ]
    },
    {
     "name": "stdout",
     "output_type": "stream",
     "text": [
      "epoch: 15, [batch: 673 / 1345], examples_per_second: 3176.5507, train_label_loss: 0.0966, \n"
     ]
    },
    {
     "name": "stdout",
     "output_type": "stream",
     "text": [
      "epoch: 15, [batch: 807 / 1345], examples_per_second: 3181.2365, train_label_loss: 0.0010, \n"
     ]
    },
    {
     "name": "stdout",
     "output_type": "stream",
     "text": [
      "epoch: 15, [batch: 941 / 1345], examples_per_second: 3155.3303, train_label_loss: 0.0600, \n"
     ]
    },
    {
     "name": "stdout",
     "output_type": "stream",
     "text": [
      "epoch: 15, [batch: 1076 / 1345], examples_per_second: 3173.1553, train_label_loss: 0.1502, \n"
     ]
    },
    {
     "name": "stdout",
     "output_type": "stream",
     "text": [
      "epoch: 15, [batch: 1210 / 1345], examples_per_second: 3168.2812, train_label_loss: 0.1680, \n"
     ]
    },
    {
     "name": "stdout",
     "output_type": "stream",
     "text": [
      "=============================================================\n",
      "epoch: 15, source_val_acc_label: 0.9688, target_val_acc_label: 0.2230, source_val_label_loss: 0.1759, target_val_label_loss: 2.4167, \n",
      "=============================================================\n"
     ]
    },
    {
     "name": "stdout",
     "output_type": "stream",
     "text": [
      "Patience (3) exhausted\n"
     ]
    }
   ],
   "source": [
    "###################################\n",
    "# train\n",
    "###################################\n",
    "jig = PTN_Train_Eval_Test_Jig(model, p.BEST_MODEL_PATH, p.device)\n",
    "\n",
    "jig.train(\n",
    "    train_iterable=datasets.source.processed.train,\n",
    "    source_val_iterable=datasets.source.processed.val,\n",
    "    target_val_iterable=datasets.target.processed.val,\n",
    "    num_epochs=p.n_epoch,\n",
    "    num_logs_per_epoch=p.NUM_LOGS_PER_EPOCH,\n",
    "    patience=p.patience,\n",
    "    optimizer=optimizer,\n",
    "    criteria_for_best=p.criteria_for_best,\n",
    ")"
   ]
  },
  {
   "cell_type": "code",
   "execution_count": 23,
   "id": "31e8fabf",
   "metadata": {
    "execution": {
     "iopub.execute_input": "2022-03-07T07:03:32.884980Z",
     "iopub.status.busy": "2022-03-07T07:03:32.884714Z",
     "iopub.status.idle": "2022-03-07T07:03:32.902273Z",
     "shell.execute_reply": "2022-03-07T07:03:32.901879Z"
    },
    "papermill": {
     "duration": 0.065862,
     "end_time": "2022-03-07T07:03:32.902367",
     "exception": false,
     "start_time": "2022-03-07T07:03:32.836505",
     "status": "completed"
    },
    "tags": []
   },
   "outputs": [],
   "source": [
    "total_experiment_time_secs = time.time() - start_time_secs"
   ]
  },
  {
   "cell_type": "code",
   "execution_count": 24,
   "id": "87b9595b",
   "metadata": {
    "execution": {
     "iopub.execute_input": "2022-03-07T07:03:33.002756Z",
     "iopub.status.busy": "2022-03-07T07:03:33.002449Z",
     "iopub.status.idle": "2022-03-07T07:04:32.562056Z",
     "shell.execute_reply": "2022-03-07T07:04:32.561643Z"
    },
    "papermill": {
     "duration": 59.610437,
     "end_time": "2022-03-07T07:04:32.562167",
     "exception": false,
     "start_time": "2022-03-07T07:03:32.951730",
     "status": "completed"
    },
    "tags": []
   },
   "outputs": [],
   "source": [
    "###################################\n",
    "# Evaluate the model\n",
    "###################################\n",
    "source_test_label_accuracy, source_test_label_loss = jig.test(datasets.source.processed.test)\n",
    "target_test_label_accuracy, target_test_label_loss = jig.test(datasets.target.processed.test)\n",
    "\n",
    "source_val_label_accuracy, source_val_label_loss = jig.test(datasets.source.processed.val)\n",
    "target_val_label_accuracy, target_val_label_loss = jig.test(datasets.target.processed.val)\n",
    "\n",
    "history = jig.get_history()\n",
    "\n",
    "total_epochs_trained = len(history[\"epoch_indices\"])\n",
    "\n",
    "val_dl = Iterable_Aggregator((datasets.source.original.val,datasets.target.original.val))\n",
    "\n",
    "confusion = ptn_confusion_by_domain_over_dataloader(model, p.device, val_dl)\n",
    "per_domain_accuracy = per_domain_accuracy_from_confusion(confusion)\n",
    "\n",
    "# Add a key to per_domain_accuracy for if it was a source domain\n",
    "for domain, accuracy in per_domain_accuracy.items():\n",
    "    per_domain_accuracy[domain] = {\n",
    "        \"accuracy\": accuracy,\n",
    "        \"source?\": domain in p.domains_source\n",
    "    }\n",
    "\n",
    "# Do an independent accuracy assesment JUST TO BE SURE!\n",
    "# _source_test_label_accuracy = independent_accuracy_assesment(model, datasets.source.processed.test, p.device)\n",
    "# _target_test_label_accuracy = independent_accuracy_assesment(model, datasets.target.processed.test, p.device)\n",
    "# _source_val_label_accuracy = independent_accuracy_assesment(model, datasets.source.processed.val, p.device)\n",
    "# _target_val_label_accuracy = independent_accuracy_assesment(model, datasets.target.processed.val, p.device)\n",
    "\n",
    "# assert(_source_test_label_accuracy == source_test_label_accuracy)\n",
    "# assert(_target_test_label_accuracy == target_test_label_accuracy)\n",
    "# assert(_source_val_label_accuracy == source_val_label_accuracy)\n",
    "# assert(_target_val_label_accuracy == target_val_label_accuracy)\n",
    "\n",
    "experiment = {\n",
    "    \"experiment_name\": p.experiment_name,\n",
    "    \"parameters\": dict(p),\n",
    "    \"results\": {\n",
    "        \"source_test_label_accuracy\": source_test_label_accuracy,\n",
    "        \"source_test_label_loss\": source_test_label_loss,\n",
    "        \"target_test_label_accuracy\": target_test_label_accuracy,\n",
    "        \"target_test_label_loss\": target_test_label_loss,\n",
    "        \"source_val_label_accuracy\": source_val_label_accuracy,\n",
    "        \"source_val_label_loss\": source_val_label_loss,\n",
    "        \"target_val_label_accuracy\": target_val_label_accuracy,\n",
    "        \"target_val_label_loss\": target_val_label_loss,\n",
    "        \"total_epochs_trained\": total_epochs_trained,\n",
    "        \"total_experiment_time_secs\": total_experiment_time_secs,\n",
    "        \"confusion\": confusion,\n",
    "        \"per_domain_accuracy\": per_domain_accuracy,\n",
    "    },\n",
    "    \"history\": history,\n",
    "    \"dataset_metrics\": get_dataset_metrics(datasets, \"ptn\"),\n",
    "}"
   ]
  },
  {
   "cell_type": "code",
   "execution_count": 25,
   "id": "54a21829",
   "metadata": {
    "execution": {
     "iopub.execute_input": "2022-03-07T07:04:32.658814Z",
     "iopub.status.busy": "2022-03-07T07:04:32.658554Z",
     "iopub.status.idle": "2022-03-07T07:04:32.841043Z",
     "shell.execute_reply": "2022-03-07T07:04:32.840572Z"
    },
    "papermill": {
     "duration": 0.229114,
     "end_time": "2022-03-07T07:04:32.841139",
     "exception": false,
     "start_time": "2022-03-07T07:04:32.612025",
     "status": "completed"
    },
    "tags": []
   },
   "outputs": [
    {
     "data": {
      "image/png": "[encoded data removed]",
      "text/plain": [
       "<Figure size 1080x504 with 1 Axes>"
      ]
     },
     "metadata": {
      "needs_background": "light"
     },
     "output_type": "display_data"
    }
   ],
   "source": [
    "ax = get_loss_curve(experiment)\n",
    "plt.show()"
   ]
  },
  {
   "cell_type": "code",
   "execution_count": 26,
   "id": "fd8a0f60",
   "metadata": {
    "execution": {
     "iopub.execute_input": "2022-03-07T07:04:32.939260Z",
     "iopub.status.busy": "2022-03-07T07:04:32.939000Z",
     "iopub.status.idle": "2022-03-07T07:04:33.122315Z",
     "shell.execute_reply": "2022-03-07T07:04:33.122600Z"
    },
    "papermill": {
     "duration": 0.232355,
     "end_time": "2022-03-07T07:04:33.122682",
     "exception": false,
     "start_time": "2022-03-07T07:04:32.890327",
     "status": "completed"
    },
    "tags": []
   },
   "outputs": [
    {
     "data": {
      "text/plain": [
       "<matplotlib.axes._subplots.AxesSubplot at 0x7fd6b4282b80>"
      ]
     },
     "execution_count": 26,
     "metadata": {},
     "output_type": "execute_result"
    },
    {
     "data": {
      "image/png": "[encoded data removed]",
      "text/plain": [
       "<Figure size 1080x504 with 1 Axes>"
      ]
     },
     "metadata": {
      "needs_background": "light"
     },
     "output_type": "display_data"
    }
   ],
   "source": [
    "get_results_table(experiment)"
   ]
  },
  {
   "cell_type": "code",
   "execution_count": 27,
   "id": "cf8dc689",
   "metadata": {
    "execution": {
     "iopub.execute_input": "2022-03-07T07:04:33.231479Z",
     "iopub.status.busy": "2022-03-07T07:04:33.230822Z",
     "iopub.status.idle": "2022-03-07T07:04:33.426515Z",
     "shell.execute_reply": "2022-03-07T07:04:33.426027Z"
    },
    "papermill": {
     "duration": 0.244833,
     "end_time": "2022-03-07T07:04:33.426616",
     "exception": false,
     "start_time": "2022-03-07T07:04:33.181783",
     "status": "completed"
    },
    "tags": []
   },
   "outputs": [
    {
     "data": {
      "text/plain": [
       "<matplotlib.axes._subplots.AxesSubplot at 0x7fd6b438d3d0>"
      ]
     },
     "execution_count": 27,
     "metadata": {},
     "output_type": "execute_result"
    },
    {
     "data": {
      "image/png": "[encoded data removed]",
      "text/plain": [
       "<Figure size 1080x504 with 1 Axes>"
      ]
     },
     "metadata": {
      "needs_background": "light"
     },
     "output_type": "display_data"
    }
   ],
   "source": [
    "get_domain_accuracies(experiment)"
   ]
  },
  {
   "cell_type": "code",
   "execution_count": 28,
   "id": "a74ae082",
   "metadata": {
    "execution": {
     "iopub.execute_input": "2022-03-07T07:04:33.531358Z",
     "iopub.status.busy": "2022-03-07T07:04:33.531096Z",
     "iopub.status.idle": "2022-03-07T07:04:33.544608Z",
     "shell.execute_reply": "2022-03-07T07:04:33.544817Z"
    },
    "papermill": {
     "duration": 0.064594,
     "end_time": "2022-03-07T07:04:33.544880",
     "exception": false,
     "start_time": "2022-03-07T07:04:33.480286",
     "status": "completed"
    },
    "tags": []
   },
   "outputs": [
    {
     "name": "stdout",
     "output_type": "stream",
     "text": [
      "Source Test Label Accuracy: 0.9646809895833334 Target Test Label Accuracy: 0.2860026041666667\n",
      "Source Val Label Accuracy: 0.9703776041666666 Target Val Label Accuracy: 0.2811197916666667\n"
     ]
    }
   ],
   "source": [
    "print(\"Source Test Label Accuracy:\", experiment[\"results\"][\"source_test_label_accuracy\"], \"Target Test Label Accuracy:\", experiment[\"results\"][\"target_test_label_accuracy\"])\n",
    "print(\"Source Val Label Accuracy:\", experiment[\"results\"][\"source_val_label_accuracy\"], \"Target Val Label Accuracy:\", experiment[\"results\"][\"target_val_label_accuracy\"])"
   ]
  },
  {
   "cell_type": "code",
   "execution_count": 29,
   "id": "dacca602",
   "metadata": {
    "execution": {
     "iopub.execute_input": "2022-03-07T07:04:33.643699Z",
     "iopub.status.busy": "2022-03-07T07:04:33.643444Z",
     "iopub.status.idle": "2022-03-07T07:04:33.657742Z",
     "shell.execute_reply": "2022-03-07T07:04:33.658133Z"
    },
    "papermill": {
     "duration": 0.064989,
     "end_time": "2022-03-07T07:04:33.658245",
     "exception": false,
     "start_time": "2022-03-07T07:04:33.593256",
     "status": "completed"
    },
    "tags": [
     "experiment_json"
    ]
   },
   "outputs": [
    {
     "data": {
      "text/plain": [
       "'{\"experiment_name\": \"tl_1_wisig-oracle.run1\", \"parameters\": {\"experiment_name\": \"tl_1_wisig-oracle.run1\", \"device\": \"cuda\", \"lr\": 0.001, \"seed\": 1337, \"dataset_seed\": 1337, \"n_shot\": 3, \"n_query\": 2, \"train_k_factor\": 3, \"val_k_factor\": 2, \"test_k_factor\": 2, \"torch_default_dtype\": \"torch.float32\", \"n_epoch\": 50, \"patience\": 3, \"criteria_for_best\": \"target_loss\", \"x_net\": [{\"class\": \"nnReshape\", \"kargs\": {\"shape\": [-1, 1, 2, 256]}}, {\"class\": \"Conv2d\", \"kargs\": {\"in_channels\": 1, \"out_channels\": 256, \"kernel_size\": [1, 7], \"bias\": false, \"padding\": [0, 3]}}, {\"class\": \"ReLU\", \"kargs\": {\"inplace\": true}}, {\"class\": \"BatchNorm2d\", \"kargs\": {\"num_features\": 256}}, {\"class\": \"Conv2d\", \"kargs\": {\"in_channels\": 256, \"out_channels\": 80, \"kernel_size\": [2, 7], \"bias\": true, \"padding\": [0, 3]}}, {\"class\": \"ReLU\", \"kargs\": {\"inplace\": true}}, {\"class\": \"BatchNorm2d\", \"kargs\": {\"num_features\": 80}}, {\"class\": \"Flatten\", \"kargs\": {}}, {\"class\": \"Linear\", \"kargs\": {\"in_features\": 20480, \"out_features\": 256}}, {\"class\": \"ReLU\", \"kargs\": {\"inplace\": true}}, {\"class\": \"BatchNorm1d\", \"kargs\": {\"num_features\": 256}}, {\"class\": \"Linear\", \"kargs\": {\"in_features\": 256, \"out_features\": 256}}], \"NUM_LOGS_PER_EPOCH\": 10, \"BEST_MODEL_PATH\": \"./best_model.pth\", \"n_way\": 16, \"datasets\": [{\"labels\": [\"1-10\", \"1-12\", \"1-14\", \"1-16\", \"1-18\", \"1-19\", \"1-8\", \"10-11\", \"10-17\", \"10-4\", \"10-7\", \"11-1\", \"11-10\", \"11-19\", \"11-20\", \"11-4\", \"11-7\", \"12-19\", \"12-20\", \"12-7\", \"13-14\", \"13-18\", \"13-19\", \"13-20\", \"13-3\", \"13-7\", \"14-10\", \"14-11\", \"14-12\", \"14-13\", \"14-14\", \"14-19\", \"14-20\", \"14-7\", \"14-8\", \"14-9\", \"15-1\", \"15-19\", \"15-6\", \"16-1\", \"16-16\", \"16-19\", \"16-20\", \"17-10\", \"17-11\", \"18-1\", \"18-10\", \"18-11\", \"18-12\", \"18-13\", \"18-14\", \"18-15\", \"18-16\", \"18-17\", \"18-19\", \"18-2\", \"18-20\", \"18-4\", \"18-5\", \"18-7\", \"18-8\", \"18-9\", \"19-1\", \"19-10\", \"19-11\", \"19-12\", \"19-13\", \"19-14\", \"19-15\", \"19-19\", \"19-2\", \"19-20\", \"19-3\", \"19-4\", \"19-6\", \"19-7\", \"19-8\", \"19-9\", \"2-1\", \"2-13\", \"2-15\", \"2-3\", \"2-4\", \"2-5\", \"2-6\", \"2-7\", \"2-8\", \"20-1\", \"20-12\", \"20-14\", \"20-15\", \"20-16\", \"20-18\", \"20-19\", \"20-20\", \"20-3\", \"20-4\", \"20-5\", \"20-7\", \"20-8\", \"3-1\", \"3-13\", \"3-18\", \"3-2\", \"3-8\", \"4-1\", \"4-10\", \"4-11\", \"5-1\", \"5-5\", \"6-1\", \"6-15\", \"6-6\", \"7-10\", \"7-11\", \"7-12\", \"7-13\", \"7-14\", \"7-7\", \"7-8\", \"7-9\", \"8-1\", \"8-13\", \"8-14\", \"8-18\", \"8-20\", \"8-3\", \"8-8\", \"9-1\", \"9-7\"], \"domains\": [1, 2, 3, 4], \"num_examples_per_domain_per_label\": 100, \"pickle_path\": \"/mnt/wd500GB/CSC500/csc500-main/datasets/wisig.node3-19.stratified_ds.2022A.pkl\", \"source_or_target_dataset\": \"source\", \"x_transforms\": [], \"episode_transforms\": [], \"domain_prefix\": \"Wisig_\"}, {\"labels\": [\"3123D52\", \"3123D65\", \"3123D79\", \"3123D80\", \"3123D54\", \"3123D70\", \"3123D7B\", \"3123D89\", \"3123D58\", \"3123D76\", \"3123D7D\", \"3123EFE\", \"3123D64\", \"3123D78\", \"3123D7E\", \"3124E4A\"], \"domains\": [32, 38, 8, 44, 14, 50, 20, 26], \"num_examples_per_domain_per_label\": 2000, \"pickle_path\": \"/mnt/wd500GB/CSC500/csc500-main/datasets/oracle.Run1_framed_2000Examples_stratified_ds.2022A.pkl\", \"source_or_target_dataset\": \"target\", \"x_transforms\": [], \"episode_transforms\": [], \"domain_prefix\": \"ORACLE.run1\"}], \"domains_source\": [\"Wisig_1\", \"Wisig_2\", \"Wisig_3\", \"Wisig_4\"], \"domains_target\": [\"ORACLE.run132\", \"ORACLE.run138\", \"ORACLE.run18\", \"ORACLE.run144\", \"ORACLE.run114\", \"ORACLE.run150\", \"ORACLE.run120\", \"ORACLE.run126\"]}, \"results\": {\"source_test_label_accuracy\": 0.9646809895833334, \"source_test_label_loss\": 0.1589975208044052, \"target_test_label_accuracy\": 0.2860026041666667, \"target_test_label_loss\": 2.3073644638061523, \"source_val_label_accuracy\": 0.9703776041666666, \"source_val_label_loss\": 0.14479389786720276, \"target_val_label_accuracy\": 0.2811197916666667, \"target_val_label_loss\": 2.3099794387817383, \"total_epochs_trained\": 15, \"total_experiment_time_secs\": 651.7537293434143, \"confusion\": {\"Wisig_3\": {\"109\": {\"109\": 12}, \"127\": {\"127\": 12}, \"14\": {\"14\": 12}, \"7\": {\"7\": 12}, \"129\": {\"129\": 12}, \"57\": {\"57\": 12}, \"84\": {\"84\": 12}, \"114\": {\"114\": 12}, \"44\": {\"44\": 12}, \"21\": {\"21\": 12}, \"46\": {\"46\": 12}, \"100\": {\"100\": 12}, \"63\": {\"63\": 8, \"35\": 1, \"89\": 1, \"59\": 1, \"34\": 1}, \"24\": {\"24\": 10, \"21\": 1, \"118\": 1}, \"107\": {\"107\": 12}, \"35\": {\"7\": 1, \"35\": 8, \"95\": 1}, \"81\": {\"81\": 12}, \"64\": {\"64\": 12}, \"59\": {\"34\": 1, \"59\": 11}, \"33\": {\"33\": 12}, \"34\": {\"34\": 12}, \"36\": {\"36\": 12}, \"79\": {\"79\": 12}, \"80\": {\"80\": 11, \"87\": 1}, \"77\": {\"77\": 12}, \"22\": {\"22\": 11, \"48\": 1}, \"124\": {\"124\": 12}, \"2\": {\"2\": 12}, \"87\": {\"87\": 12}, \"105\": {\"105\": 12}, \"95\": {\"95\": 12}, \"43\": {\"43\": 11, \"118\": 1}, \"56\": {\"56\": 10}, \"18\": {\"18\": 12}, \"85\": {\"85\": 12}, \"113\": {\"113\": 12}, \"97\": {\"97\": 12}, \"86\": {\"86\": 12}, \"128\": {\"128\": 12}, \"123\": {\"123\": 12}, \"8\": {\"8\": 12}, \"110\": {\"110\": 12}, \"126\": {\"43\": 1, \"113\": 1, \"126\": 8, \"39\": 2}, \"101\": {\"101\": 12}, \"115\": {\"115\": 12}, \"49\": {\"49\": 12}, \"45\": {\"45\": 12}, \"78\": {\"78\": 11, \"13\": 1}, \"65\": {\"65\": 9, \"24\": 1}, \"54\": {\"54\": 12}, \"31\": {\"31\": 10}, \"42\": {\"42\": 11, \"78\": 1}, \"68\": {\"68\": 12}, \"15\": {\"15\": 12}, \"69\": {\"69\": 12}, \"17\": {\"17\": 10}, \"73\": {\"73\": 12}, \"121\": {\"121\": 12}, \"102\": {\"102\": 12}, \"48\": {\"48\": 12}, \"23\": {\"23\": 11, \"71\": 1}, \"108\": {\"108\": 12}, \"53\": {\"53\": 12}, \"94\": {\"94\": 10}, \"41\": {\"41\": 12}, \"58\": {\"58\": 12}, \"29\": {\"29\": 12}, \"116\": {\"116\": 11, \"92\": 1}, \"60\": {\"60\": 12}, \"104\": {\"104\": 12}, \"106\": {\"106\": 12}, \"66\": {\"66\": 12}, \"47\": {\"47\": 12}, \"40\": {\"40\": 12}, \"82\": {\"82\": 11, \"112\": 1}, \"13\": {\"13\": 9, \"87\": 1, \"26\": 1, \"100\": 1}, \"19\": {\"19\": 12}, \"72\": {\"72\": 12}, \"9\": {\"9\": 12}, \"67\": {\"67\": 12}, \"11\": {\"11\": 12}, \"125\": {\"125\": 12}, \"76\": {\"76\": 8}, \"83\": {\"83\": 12}, \"74\": {\"74\": 11, \"18\": 1}, \"20\": {\"20\": 12}, \"119\": {\"119\": 12}, \"1\": {\"1\": 12}, \"16\": {\"16\": 12}, \"25\": {\"25\": 11, \"37\": 1}, \"90\": {\"90\": 8}, \"39\": {\"39\": 12}, \"28\": {\"28\": 12}, \"55\": {\"55\": 12}, \"117\": {\"117\": 10, \"50\": 1, \"14\": 1}, \"112\": {\"112\": 12}, \"38\": {\"38\": 12}, \"37\": {\"37\": 12}, \"120\": {\"120\": 12}, \"122\": {\"122\": 11, \"87\": 1}, \"50\": {\"50\": 12}, \"10\": {\"10\": 12}, \"5\": {\"5\": 12}, \"51\": {\"51\": 12}, \"3\": {\"3\": 11, \"70\": 1}, \"98\": {\"98\": 12}, \"70\": {\"70\": 12}, \"96\": {\"96\": 12}, \"12\": {\"12\": 12}, \"99\": {\"99\": 12}, \"52\": {\"52\": 12}, \"71\": {\"71\": 11, \"52\": 1}, \"89\": {\"89\": 12}, \"0\": {\"0\": 12}, \"4\": {\"4\": 9, \"127\": 1, \"118\": 1, \"71\": 1}, \"93\": {\"93\": 12}, \"6\": {\"6\": 9, \"58\": 1}, \"75\": {\"75\": 12}, \"62\": {\"62\": 12}, \"103\": {\"103\": 12}, \"30\": {\"30\": 12}, \"91\": {\"91\": 12}, \"27\": {\"27\": 12}, \"26\": {\"26\": 12}, \"61\": {\"61\": 12}, \"118\": {\"118\": 12}, \"92\": {\"92\": 12}, \"111\": {\"111\": 12}, \"32\": {\"32\": 12}, \"88\": {\"88\": 10}}, \"Wisig_4\": {\"28\": {\"28\": 12}, \"4\": {\"4\": 12}, \"72\": {\"72\": 12}, \"111\": {\"111\": 12}, \"108\": {\"108\": 12}, \"43\": {\"43\": 10}, \"96\": {\"96\": 12}, \"89\": {\"89\": 12}, \"31\": {\"31\": 12}, \"45\": {\"45\": 12}, \"2\": {\"2\": 12}, \"114\": {\"114\": 12}, \"11\": {\"11\": 12}, \"12\": {\"12\": 12}, \"14\": {\"14\": 11, \"72\": 1}, \"90\": {\"90\": 12}, \"10\": {\"10\": 11, \"24\": 1}, \"63\": {\"64\": 1, \"63\": 10, \"95\": 1}, \"85\": {\"85\": 11, \"4\": 1}, \"64\": {\"64\": 12}, \"82\": {\"82\": 10, \"115\": 1, \"63\": 1}, \"58\": {\"58\": 12}, \"3\": {\"3\": 12}, \"54\": {\"54\": 12}, \"121\": {\"121\": 12}, \"42\": {\"42\": 12}, \"98\": {\"98\": 12}, \"123\": {\"123\": 12}, \"91\": {\"91\": 11, \"85\": 1}, \"66\": {\"66\": 12}, \"102\": {\"102\": 12}, \"122\": {\"122\": 10, \"88\": 1, \"51\": 1}, \"1\": {\"1\": 12}, \"15\": {\"15\": 12}, \"97\": {\"108\": 1, \"97\": 10, \"91\": 1}, \"75\": {\"75\": 12}, \"95\": {\"95\": 12}, \"57\": {\"57\": 12}, \"68\": {\"68\": 12}, \"125\": {\"125\": 12}, \"62\": {\"62\": 10}, \"27\": {\"27\": 11, \"21\": 1}, \"120\": {\"120\": 11, \"103\": 1}, \"26\": {\"26\": 12}, \"55\": {\"55\": 12}, \"71\": {\"71\": 11, \"122\": 1}, \"22\": {\"22\": 12}, \"99\": {\"99\": 11, \"21\": 1}, \"84\": {\"84\": 10, \"23\": 1, \"43\": 1}, \"37\": {\"37\": 12}, \"83\": {\"83\": 12}, \"46\": {\"46\": 12}, \"35\": {\"35\": 12}, \"13\": {\"13\": 12}, \"53\": {\"53\": 10, \"1\": 1, \"21\": 1}, \"127\": {\"127\": 12}, \"69\": {\"53\": 1, \"69\": 10, \"1\": 1}, \"48\": {\"48\": 11, \"46\": 1}, \"16\": {\"16\": 12}, \"0\": {\"0\": 11, \"23\": 1}, \"8\": {\"8\": 10, \"53\": 1, \"100\": 1}, \"9\": {\"9\": 12}, \"115\": {\"115\": 11, \"9\": 1}, \"70\": {\"70\": 11, \"9\": 1}, \"119\": {\"119\": 12}, \"59\": {\"59\": 12}, \"52\": {\"52\": 12}, \"60\": {\"60\": 11, \"99\": 1}, \"44\": {\"44\": 11, \"38\": 1}, \"51\": {\"51\": 11, \"68\": 1}, \"6\": {\"6\": 12}, \"73\": {\"73\": 12}, \"78\": {\"78\": 12}, \"92\": {\"92\": 12}, \"20\": {\"20\": 11, \"5\": 1}, \"17\": {\"17\": 12}, \"74\": {\"74\": 12}, \"19\": {\"19\": 12}, \"50\": {\"50\": 12}, \"34\": {\"34\": 10, \"81\": 1, \"85\": 1}, \"104\": {\"104\": 8}, \"33\": {\"33\": 11, \"51\": 1}, \"5\": {\"5\": 12}, \"7\": {\"7\": 11, \"23\": 1}, \"29\": {\"29\": 12}, \"25\": {\"25\": 12}, \"124\": {\"124\": 12}, \"117\": {\"117\": 10, \"59\": 1, \"41\": 1}, \"88\": {\"88\": 10, \"71\": 2}, \"61\": {\"61\": 11, \"88\": 1}, \"86\": {\"86\": 12}, \"116\": {\"116\": 12}, \"24\": {\"24\": 12}, \"128\": {\"128\": 11, \"21\": 1}, \"101\": {\"101\": 12}, \"65\": {\"65\": 9, \"37\": 1}, \"36\": {\"36\": 12}, \"21\": {\"21\": 11, \"51\": 1}, \"106\": {\"106\": 12}, \"118\": {\"118\": 10, \"88\": 2}, \"113\": {\"113\": 9, \"26\": 1, \"114\": 1, \"16\": 1}, \"40\": {\"40\": 12}, \"93\": {\"93\": 7, \"110\": 1}, \"94\": {\"94\": 10, \"36\": 2}, \"103\": {\"103\": 8, \"77\": 2, \"5\": 1, \"120\": 1}, \"110\": {\"110\": 12}, \"56\": {\"56\": 12}, \"39\": {\"39\": 12}, \"109\": {\"109\": 12}, \"67\": {\"67\": 11, \"88\": 1}, \"129\": {\"129\": 12}, \"30\": {\"30\": 12}, \"126\": {\"126\": 10, \"5\": 1, \"108\": 1}, \"87\": {\"21\": 1, \"87\": 11}, \"112\": {\"112\": 12}, \"100\": {\"100\": 11, \"60\": 1}, \"79\": {\"79\": 10}, \"81\": {\"81\": 10, \"121\": 1, \"4\": 1}, \"76\": {\"76\": 10}, \"47\": {\"47\": 11, \"100\": 1}, \"77\": {\"77\": 12}, \"23\": {\"103\": 1, \"72\": 1, \"23\": 6, \"125\": 1, \"106\": 1, \"120\": 1, \"21\": 1}, \"18\": {\"18\": 12}, \"49\": {\"49\": 12}, \"41\": {\"41\": 10, \"125\": 1, \"80\": 1}, \"32\": {\"32\": 12}, \"107\": {\"107\": 10}, \"80\": {\"80\": 12}, \"105\": {\"105\": 9, \"16\": 1}, \"38\": {\"38\": 10}}, \"Wisig_1\": {\"108\": {\"108\": 10}, \"40\": {\"40\": 12}, \"68\": {\"68\": 12}, \"23\": {\"23\": 12}, \"26\": {\"70\": 1, \"26\": 11}, \"64\": {\"64\": 12}, \"22\": {\"22\": 12}, \"3\": {\"3\": 12}, \"4\": {\"4\": 11, \"78\": 1}, \"70\": {\"70\": 12}, \"57\": {\"57\": 12}, \"79\": {\"79\": 12}, \"9\": {\"9\": 12}, \"89\": {\"89\": 12}, \"110\": {\"110\": 12}, \"102\": {\"102\": 12}, \"31\": {\"31\": 12}, \"58\": {\"58\": 12}, \"47\": {\"47\": 12}, \"24\": {\"24\": 12}, \"19\": {\"19\": 12}, \"11\": {\"11\": 12}, \"52\": {\"52\": 12}, \"17\": {\"17\": 12}, \"25\": {\"25\": 12}, \"69\": {\"69\": 12}, \"96\": {\"96\": 12}, \"109\": {\"109\": 12}, \"115\": {\"115\": 12}, \"83\": {\"83\": 11, \"13\": 1}, \"84\": {\"84\": 12}, \"119\": {\"119\": 10}, \"122\": {\"122\": 10}, \"99\": {\"99\": 12}, \"1\": {\"1\": 12}, \"74\": {\"74\": 10, \"85\": 1, \"34\": 1}, \"85\": {\"85\": 12}, \"127\": {\"127\": 12}, \"111\": {\"111\": 12}, \"53\": {\"53\": 12}, \"88\": {\"88\": 12}, \"65\": {\"65\": 8, \"103\": 1, \"119\": 1}, \"7\": {\"7\": 12}, \"16\": {\"16\": 11, \"45\": 1}, \"128\": {\"128\": 12}, \"34\": {\"34\": 12}, \"129\": {\"129\": 12}, \"43\": {\"43\": 12}, \"92\": {\"92\": 12}, \"28\": {\"28\": 12}, \"27\": {\"27\": 12}, \"114\": {\"114\": 12}, \"73\": {\"73\": 12}, \"0\": {\"0\": 12}, \"104\": {\"104\": 12}, \"118\": {\"118\": 12}, \"41\": {\"41\": 12}, \"49\": {\"49\": 11, \"72\": 1}, \"14\": {\"14\": 12}, \"46\": {\"46\": 11, \"55\": 1}, \"33\": {\"33\": 12}, \"76\": {\"76\": 12}, \"125\": {\"125\": 12}, \"86\": {\"86\": 10}, \"66\": {\"66\": 11, \"96\": 1}, \"5\": {\"5\": 12}, \"117\": {\"117\": 12}, \"75\": {\"75\": 12}, \"61\": {\"61\": 12}, \"50\": {\"50\": 11, \"12\": 1}, \"67\": {\"67\": 10}, \"18\": {\"18\": 12}, \"98\": {\"98\": 12}, \"55\": {\"55\": 10}, \"32\": {\"32\": 12}, \"120\": {\"120\": 12}, \"97\": {\"97\": 12}, \"126\": {\"126\": 12}, \"45\": {\"45\": 12}, \"78\": {\"78\": 10}, \"100\": {\"100\": 12}, \"107\": {\"107\": 12}, \"93\": {\"93\": 12}, \"77\": {\"77\": 12}, \"63\": {\"63\": 12}, \"112\": {\"112\": 12}, \"113\": {\"113\": 12}, \"103\": {\"103\": 9, \"9\": 1}, \"71\": {\"71\": 12}, \"30\": {\"30\": 12}, \"90\": {\"90\": 12}, \"37\": {\"103\": 1, \"37\": 11}, \"60\": {\"60\": 11, \"70\": 1}, \"15\": {\"15\": 12}, \"39\": {\"39\": 12}, \"72\": {\"72\": 12}, \"54\": {\"54\": 12}, \"35\": {\"35\": 12}, \"2\": {\"2\": 12}, \"94\": {\"15\": 1, \"94\": 10, \"60\": 1}, \"42\": {\"42\": 12}, \"81\": {\"81\": 12}, \"8\": {\"8\": 12}, \"87\": {\"87\": 12}, \"6\": {\"6\": 12}, \"36\": {\"36\": 12}, \"91\": {\"91\": 12}, \"56\": {\"56\": 12}, \"80\": {\"80\": 11, \"56\": 1}, \"124\": {\"124\": 10}, \"44\": {\"44\": 12}, \"13\": {\"13\": 12}, \"10\": {\"10\": 10, \"78\": 1, \"95\": 1}, \"59\": {\"59\": 12}, \"95\": {\"95\": 12}, \"105\": {\"105\": 11, \"45\": 1}, \"101\": {\"101\": 12}, \"20\": {\"20\": 12}, \"48\": {\"48\": 12}, \"106\": {\"106\": 12}, \"51\": {\"51\": 12}, \"21\": {\"21\": 10, \"78\": 1, \"70\": 1}, \"123\": {\"123\": 12}, \"121\": {\"121\": 12}, \"38\": {\"38\": 12}, \"62\": {\"62\": 12}, \"29\": {\"29\": 12}, \"82\": {\"82\": 12}, \"116\": {\"116\": 12}, \"12\": {\"12\": 8}}, \"Wisig_2\": {\"91\": {\"91\": 12}, \"12\": {\"12\": 9, \"97\": 1, \"68\": 1, \"0\": 1}, \"101\": {\"101\": 10}, \"121\": {\"121\": 11, \"72\": 1}, \"118\": {\"118\": 12}, \"10\": {\"10\": 12}, \"117\": {\"117\": 12}, \"110\": {\"110\": 11, \"121\": 1}, \"97\": {\"97\": 10, \"91\": 1, \"37\": 1}, \"28\": {\"17\": 1, \"28\": 8, \"25\": 1, \"63\": 1, \"55\": 1}, \"88\": {\"88\": 12}, \"17\": {\"17\": 12}, \"126\": {\"126\": 12}, \"33\": {\"33\": 12}, \"86\": {\"86\": 12}, \"106\": {\"106\": 12}, \"54\": {\"54\": 12}, \"125\": {\"125\": 12}, \"83\": {\"83\": 12}, \"98\": {\"98\": 12}, \"11\": {\"11\": 11, \"71\": 1}, \"32\": {\"32\": 12}, \"42\": {\"42\": 12}, \"103\": {\"103\": 12}, \"87\": {\"87\": 12}, \"61\": {\"4\": 1, \"61\": 10, \"17\": 1}, \"13\": {\"13\": 12}, \"4\": {\"4\": 12}, \"15\": {\"15\": 10}, \"120\": {\"120\": 12}, \"80\": {\"80\": 12}, \"72\": {\"72\": 10}, \"64\": {\"64\": 12}, \"81\": {\"81\": 12}, \"102\": {\"102\": 12}, \"76\": {\"76\": 12}, \"49\": {\"49\": 9, \"67\": 1}, \"129\": {\"129\": 12}, \"89\": {\"89\": 12}, \"52\": {\"52\": 12}, \"35\": {\"35\": 12}, \"53\": {\"53\": 11, \"57\": 1}, \"112\": {\"112\": 12}, \"105\": {\"105\": 12}, \"100\": {\"100\": 12}, \"9\": {\"9\": 12}, \"82\": {\"82\": 12}, \"51\": {\"51\": 12}, \"21\": {\"21\": 11, \"78\": 1}, \"92\": {\"92\": 11, \"84\": 1}, \"69\": {\"69\": 12}, \"77\": {\"77\": 12}, \"50\": {\"50\": 11, \"46\": 1}, \"36\": {\"36\": 12}, \"16\": {\"16\": 10, \"41\": 1, \"114\": 1}, \"8\": {\"18\": 1, \"8\": 10, \"120\": 1}, \"127\": {\"127\": 12}, \"46\": {\"46\": 10}, \"84\": {\"84\": 12}, \"18\": {\"18\": 12}, \"123\": {\"123\": 10}, \"56\": {\"56\": 12}, \"26\": {\"26\": 12}, \"14\": {\"71\": 2, \"14\": 9, \"43\": 1}, \"109\": {\"109\": 10, \"78\": 2}, \"66\": {\"66\": 12}, \"24\": {\"24\": 11, \"11\": 1}, \"71\": {\"75\": 1, \"71\": 11}, \"65\": {\"65\": 10, \"92\": 1, \"47\": 1}, \"75\": {\"75\": 11, \"67\": 1}, \"111\": {\"111\": 12}, \"30\": {\"30\": 11, \"59\": 1}, \"85\": {\"85\": 12}, \"113\": {\"113\": 9, \"54\": 1}, \"45\": {\"45\": 12}, \"29\": {\"29\": 11, \"25\": 1}, \"20\": {\"20\": 11, \"49\": 1}, \"25\": {\"25\": 12}, \"0\": {\"0\": 12}, \"68\": {\"68\": 12}, \"119\": {\"119\": 12}, \"90\": {\"90\": 12}, \"38\": {\"38\": 12}, \"99\": {\"99\": 12}, \"1\": {\"1\": 12}, \"67\": {\"67\": 10, \"109\": 1, \"29\": 1}, \"63\": {\"63\": 12}, \"34\": {\"34\": 12}, \"108\": {\"108\": 12}, \"40\": {\"40\": 12}, \"47\": {\"47\": 11, \"59\": 1}, \"37\": {\"37\": 12}, \"78\": {\"78\": 12}, \"96\": {\"96\": 12}, \"43\": {\"43\": 11, \"98\": 1}, \"5\": {\"5\": 10}, \"124\": {\"124\": 12}, \"44\": {\"44\": 12}, \"41\": {\"41\": 11, \"47\": 1}, \"116\": {\"116\": 12}, \"19\": {\"19\": 11, \"82\": 1}, \"115\": {\"115\": 12}, \"95\": {\"95\": 11, \"46\": 1}, \"3\": {\"3\": 10}, \"59\": {\"59\": 12}, \"55\": {\"55\": 12}, \"70\": {\"70\": 12}, \"6\": {\"6\": 12}, \"2\": {\"2\": 12}, \"48\": {\"48\": 12}, \"23\": {\"23\": 12}, \"7\": {\"7\": 12}, \"122\": {\"122\": 12}, \"57\": {\"57\": 10, \"41\": 1, \"59\": 1}, \"39\": {\"39\": 9, \"53\": 1}, \"79\": {\"79\": 12}, \"27\": {\"27\": 10}, \"74\": {\"74\": 10, \"66\": 1, \"65\": 1}, \"73\": {\"73\": 12}, \"62\": {\"62\": 12}, \"107\": {\"107\": 12}, \"128\": {\"128\": 12}, \"60\": {\"60\": 12}, \"114\": {\"114\": 12}, \"22\": {\"22\": 12}, \"93\": {\"93\": 12}, \"94\": {\"94\": 11, \"68\": 1}, \"31\": {\"31\": 10}, \"104\": {\"104\": 12}, \"58\": {\"58\": 12}}, \"ORACLE.run114\": {\"15\": {\"15\": 239, \"13\": 1}, \"3\": {\"2\": 14, \"14\": 25, \"6\": 38, \"7\": 41, \"3\": 42, \"0\": 30, \"13\": 24, \"8\": 17, \"12\": 2, \"4\": 1, \"5\": 6}, \"6\": {\"3\": 41, \"14\": 32, \"6\": 53, \"13\": 52, \"0\": 18, \"7\": 28, \"5\": 5, \"2\": 7, \"8\": 2, \"12\": 2}, \"1\": {\"9\": 91, \"10\": 39, \"1\": 100, \"4\": 9, \"12\": 1}, \"8\": {\"8\": 64, \"12\": 39, \"13\": 11, \"4\": 7, \"7\": 30, \"2\": 22, \"0\": 19, \"14\": 18, \"5\": 20, \"3\": 8, \"6\": 2}, \"10\": {\"9\": 37, \"4\": 67, \"10\": 80, \"1\": 27, \"12\": 16, \"5\": 3, \"2\": 7, \"0\": 2, \"14\": 1}, \"9\": {\"10\": 52, \"9\": 86, \"4\": 20, \"1\": 79, \"12\": 2, \"2\": 1}, \"13\": {\"14\": 19, \"12\": 6, \"5\": 21, \"8\": 10, \"4\": 7, \"3\": 22, \"15\": 19, \"6\": 44, \"0\": 27, \"7\": 11, \"2\": 16, \"13\": 36, \"9\": 1, \"10\": 1}, \"12\": {\"0\": 27, \"4\": 23, \"2\": 25, \"14\": 10, \"12\": 48, \"10\": 4, \"5\": 37, \"8\": 42, \"7\": 11, \"9\": 3, \"6\": 3, \"13\": 5, \"3\": 2}, \"5\": {\"0\": 23, \"5\": 42, \"12\": 33, \"2\": 37, \"4\": 19, \"7\": 15, \"13\": 5, \"14\": 19, \"8\": 30, \"3\": 8, \"6\": 8, \"10\": 1}, \"0\": {\"2\": 26, \"13\": 15, \"12\": 14, \"4\": 11, \"8\": 19, \"14\": 31, \"5\": 27, \"3\": 22, \"0\": 30, \"7\": 20, \"6\": 23, \"10\": 2}, \"2\": {\"14\": 28, \"13\": 17, \"10\": 7, \"12\": 21, \"7\": 19, \"0\": 33, \"5\": 29, \"2\": 19, \"6\": 16, \"8\": 15, \"4\": 17, \"3\": 18, \"9\": 1}, \"11\": {\"11\": 236, \"1\": 3, \"9\": 1}, \"14\": {\"14\": 56, \"12\": 7, \"13\": 23, \"3\": 21, \"0\": 33, \"5\": 25, \"2\": 17, \"7\": 22, \"8\": 12, \"6\": 23, \"4\": 1}, \"7\": {\"2\": 12, \"6\": 20, \"13\": 18, \"12\": 13, \"3\": 39, \"8\": 40, \"14\": 18, \"7\": 41, \"0\": 30, \"5\": 9}, \"4\": {\"10\": 37, \"12\": 39, \"5\": 25, \"4\": 68, \"14\": 8, \"9\": 19, \"0\": 6, \"2\": 19, \"8\": 10, \"13\": 2, \"1\": 7}}, \"ORACLE.run120\": {\"3\": {\"5\": 23, \"14\": 33, \"3\": 34, \"1\": 28, \"8\": 20, \"9\": 39, \"7\": 10, \"11\": 2, \"15\": 12, \"0\": 6, \"2\": 12, \"13\": 4, \"6\": 9, \"4\": 2, \"12\": 6}, \"15\": {\"15\": 28, \"9\": 16, \"13\": 23, \"7\": 21, \"6\": 30, \"3\": 8, \"2\": 26, \"1\": 25, \"12\": 21, \"8\": 7, \"10\": 2, \"4\": 15, \"14\": 5, \"5\": 13}, \"8\": {\"3\": 44, \"8\": 37, \"2\": 9, \"15\": 7, \"5\": 26, \"14\": 41, \"0\": 17, \"12\": 4, \"1\": 19, \"7\": 14, \"11\": 6, \"9\": 13, \"6\": 1, \"13\": 2}, \"4\": {\"6\": 24, \"13\": 32, \"10\": 24, \"12\": 31, \"15\": 22, \"1\": 5, \"14\": 6, \"9\": 20, \"3\": 4, \"4\": 30, \"2\": 17, \"7\": 17, \"5\": 6, \"8\": 2}, \"14\": {\"1\": 23, \"5\": 19, \"14\": 39, \"6\": 9, \"9\": 18, \"8\": 43, \"3\": 33, \"2\": 11, \"7\": 15, \"15\": 15, \"13\": 2, \"4\": 5, \"0\": 3, \"12\": 5}, \"0\": {\"5\": 20, \"14\": 23, \"11\": 65, \"0\": 74, \"3\": 20, \"9\": 4, \"8\": 27, \"1\": 4, \"12\": 1, \"6\": 2}, \"7\": {\"6\": 26, \"2\": 26, \"15\": 20, \"9\": 20, \"13\": 14, \"5\": 16, \"3\": 17, \"12\": 22, \"4\": 14, \"7\": 28, \"8\": 7, \"1\": 14, \"10\": 3, \"14\": 12, \"0\": 1}, \"6\": {\"12\": 17, \"13\": 21, \"15\": 24, \"2\": 24, \"6\": 28, \"14\": 18, \"1\": 15, \"7\": 19, \"9\": 21, \"3\": 10, \"5\": 12, \"4\": 21, \"8\": 5, \"10\": 4, \"0\": 1}, \"10\": {\"13\": 34, \"15\": 14, \"10\": 73, \"6\": 28, \"9\": 4, \"2\": 24, \"4\": 31, \"5\": 1, \"12\": 16, \"7\": 11, \"1\": 2, \"3\": 1, \"14\": 1}, \"5\": {\"6\": 16, \"7\": 19, \"15\": 13, \"5\": 27, \"8\": 31, \"1\": 26, \"14\": 24, \"9\": 19, \"12\": 9, \"3\": 32, \"2\": 14, \"13\": 5, \"0\": 3, \"4\": 2}, \"2\": {\"13\": 37, \"12\": 30, \"15\": 28, \"9\": 18, \"10\": 6, \"6\": 17, \"14\": 4, \"3\": 8, \"7\": 16, \"4\": 16, \"2\": 20, \"5\": 11, \"1\": 23, \"8\": 6}, \"12\": {\"12\": 31, \"13\": 36, \"15\": 25, \"1\": 18, \"10\": 8, \"2\": 29, \"14\": 11, \"3\": 11, \"7\": 20, \"9\": 12, \"8\": 3, \"6\": 21, \"4\": 10, \"5\": 5}, \"9\": {\"6\": 21, \"5\": 19, \"15\": 29, \"7\": 16, \"1\": 25, \"0\": 3, \"14\": 22, \"12\": 12, \"2\": 18, \"8\": 15, \"9\": 22, \"13\": 7, \"3\": 23, \"4\": 7, \"10\": 1}, \"1\": {\"5\": 17, \"15\": 24, \"12\": 16, \"1\": 22, \"7\": 15, \"3\": 27, \"14\": 20, \"2\": 16, \"4\": 6, \"13\": 12, \"8\": 24, \"6\": 11, \"9\": 27, \"0\": 3}, \"11\": {\"11\": 118, \"0\": 93, \"1\": 3, \"8\": 14, \"9\": 1, \"14\": 8, \"3\": 2, \"5\": 1}, \"13\": {\"2\": 20, \"10\": 15, \"15\": 26, \"9\": 16, \"13\": 54, \"6\": 18, \"7\": 19, \"4\": 24, \"8\": 2, \"1\": 9, \"14\": 1, \"3\": 5, \"12\": 28, \"5\": 3}}, \"ORACLE.run138\": {\"5\": {\"5\": 55, \"15\": 31, \"12\": 29, \"8\": 46, \"9\": 32, \"14\": 11, \"2\": 20, \"7\": 14, \"6\": 2}, \"8\": {\"14\": 18, \"5\": 43, \"15\": 30, \"9\": 39, \"8\": 35, \"12\": 34, \"2\": 17, \"7\": 19, \"4\": 3, \"6\": 1, \"0\": 1}, \"11\": {\"11\": 195, \"3\": 45}, \"1\": {\"6\": 118, \"1\": 100, \"15\": 21, \"5\": 1}, \"10\": {\"13\": 47, \"0\": 53, \"10\": 85, \"3\": 15, \"4\": 35, \"11\": 2, \"2\": 1, \"7\": 2}, \"15\": {\"12\": 41, \"1\": 22, \"15\": 97, \"5\": 31, \"8\": 21, \"6\": 25, \"9\": 3}, \"3\": {\"3\": 164, \"11\": 64, \"0\": 3, \"10\": 9}, \"7\": {\"2\": 46, \"13\": 14, \"14\": 43, \"7\": 48, \"8\": 21, \"4\": 26, \"9\": 22, \"5\": 12, \"0\": 5, \"12\": 1, \"10\": 2}, \"4\": {\"13\": 28, \"11\": 1, \"4\": 108, \"10\": 26, \"0\": 35, \"2\": 8, \"7\": 9, \"9\": 1, \"14\": 24}, \"14\": {\"13\": 18, \"7\": 34, \"2\": 44, \"14\": 62, \"9\": 16, \"5\": 11, \"4\": 32, \"8\": 9, \"12\": 4, \"10\": 2, \"0\": 8}, \"9\": {\"9\": 86, \"8\": 38, \"14\": 14, \"2\": 43, \"5\": 31, \"7\": 21, \"15\": 5, \"0\": 1, \"13\": 1}, \"12\": {\"8\": 45, \"12\": 117, \"5\": 37, \"7\": 6, \"15\": 17, \"14\": 9, \"2\": 2, \"9\": 6, \"4\": 1}, \"6\": {\"1\": 105, \"6\": 108, \"15\": 27}, \"2\": {\"14\": 53, \"7\": 45, \"13\": 11, \"2\": 50, \"4\": 6, \"9\": 38, \"8\": 15, \"5\": 14, \"0\": 5, \"12\": 3}, \"0\": {\"13\": 55, \"14\": 8, \"0\": 40, \"7\": 18, \"2\": 19, \"4\": 30, \"3\": 10, \"10\": 51, \"11\": 3, \"9\": 4, \"8\": 1, \"5\": 1}, \"13\": {\"13\": 70, \"7\": 15, \"0\": 55, \"14\": 13, \"2\": 19, \"10\": 33, \"4\": 23, \"8\": 2, \"9\": 8, \"5\": 2}}, \"ORACLE.run18\": {\"9\": {\"2\": 8, \"9\": 160, \"3\": 72}, \"10\": {\"13\": 44, \"1\": 27, \"6\": 28, \"5\": 36, \"7\": 39, \"10\": 43, \"11\": 12, \"4\": 3, \"12\": 2, \"8\": 5, \"14\": 1}, \"13\": {\"7\": 37, \"5\": 52, \"13\": 53, \"10\": 47, \"6\": 25, \"1\": 18, \"11\": 7, \"4\": 1}, \"0\": {\"0\": 230, \"14\": 10}, \"1\": {\"11\": 22, \"6\": 33, \"1\": 37, \"7\": 31, \"5\": 30, \"14\": 4, \"8\": 19, \"13\": 23, \"4\": 23, \"10\": 18}, \"15\": {\"15\": 102, \"12\": 79, \"2\": 52, \"5\": 1, \"3\": 6}, \"5\": {\"7\": 41, \"5\": 49, \"12\": 4, \"6\": 29, \"13\": 47, \"10\": 40, \"8\": 5, \"11\": 6, \"4\": 7, \"1\": 10, \"15\": 2}, \"3\": {\"2\": 32, \"3\": 157, \"9\": 49, \"12\": 2}, \"6\": {\"6\": 48, \"1\": 43, \"11\": 29, \"10\": 16, \"5\": 31, \"4\": 17, \"7\": 32, \"13\": 12, \"8\": 12}, \"11\": {\"13\": 7, \"1\": 29, \"11\": 37, \"4\": 35, \"8\": 39, \"10\": 19, \"6\": 25, \"5\": 13, \"7\": 24, \"14\": 12}, \"8\": {\"8\": 44, \"14\": 38, \"1\": 23, \"11\": 51, \"6\": 17, \"4\": 56, \"10\": 5, \"13\": 1, \"5\": 3, \"7\": 2}, \"4\": {\"4\": 61, \"1\": 24, \"6\": 29, \"5\": 4, \"14\": 24, \"8\": 37, \"11\": 43, \"10\": 5, \"7\": 12, \"13\": 1}, \"12\": {\"15\": 82, \"12\": 119, \"2\": 29, \"3\": 4, \"10\": 3, \"5\": 3}, \"14\": {\"14\": 113, \"1\": 7, \"11\": 22, \"4\": 46, \"8\": 47, \"6\": 3, \"7\": 1, \"10\": 1}, \"2\": {\"3\": 50, \"12\": 36, \"15\": 53, \"2\": 94, \"9\": 7}, \"7\": {\"1\": 36, \"6\": 37, \"10\": 41, \"13\": 30, \"5\": 29, \"11\": 12, \"7\": 44, \"4\": 9, \"8\": 2}}, \"ORACLE.run150\": {\"7\": {\"7\": 79, \"5\": 36, \"4\": 88, \"9\": 8, \"15\": 16, \"6\": 9, \"12\": 2, \"3\": 2}, \"3\": {\"3\": 41, \"12\": 27, \"11\": 28, \"9\": 26, \"6\": 34, \"15\": 33, \"5\": 27, \"4\": 8, \"7\": 7, \"13\": 9}, \"8\": {\"8\": 75, \"10\": 46, \"13\": 35, \"1\": 69, \"0\": 10, \"2\": 2, \"14\": 2, \"3\": 1}, \"2\": {\"2\": 80, \"14\": 80, \"0\": 59, \"10\": 19, \"8\": 2}, \"14\": {\"0\": 51, \"14\": 91, \"2\": 73, \"10\": 22, \"1\": 2, \"13\": 1}, \"4\": {\"5\": 35, \"7\": 87, \"4\": 87, \"12\": 2, \"9\": 6, \"15\": 13, \"6\": 10}, \"6\": {\"5\": 30, \"6\": 30, \"4\": 14, \"11\": 34, \"15\": 35, \"9\": 29, \"3\": 33, \"13\": 4, \"7\": 9, \"12\": 21, \"1\": 1}, \"15\": {\"3\": 34, \"11\": 15, \"6\": 39, \"5\": 34, \"15\": 37, \"9\": 38, \"12\": 20, \"4\": 11, \"8\": 2, \"7\": 9, \"13\": 1}, \"10\": {\"8\": 43, \"10\": 74, \"13\": 13, \"0\": 40, \"14\": 14, \"2\": 30, \"1\": 26}, \"11\": {\"12\": 36, \"13\": 20, \"6\": 28, \"11\": 49, \"15\": 22, \"9\": 30, \"3\": 36, \"5\": 14, \"7\": 1, \"8\": 2, \"1\": 2}, \"13\": {\"11\": 39, \"13\": 68, \"6\": 14, \"1\": 39, \"15\": 8, \"8\": 24, \"5\": 8, \"3\": 22, \"9\": 6, \"12\": 5, \"10\": 7}, \"9\": {\"13\": 4, \"11\": 32, \"9\": 46, \"5\": 21, \"6\": 36, \"3\": 20, \"12\": 42, \"15\": 26, \"4\": 5, \"7\": 8}, \"0\": {\"14\": 49, \"0\": 76, \"2\": 54, \"10\": 40, \"13\": 2, \"8\": 13, \"1\": 6}, \"1\": {\"8\": 52, \"1\": 70, \"13\": 58, \"10\": 29, \"0\": 5, \"5\": 3, \"11\": 10, \"2\": 5, \"15\": 2, \"3\": 3, \"6\": 1, \"14\": 1, \"12\": 1}, \"12\": {\"11\": 39, \"13\": 4, \"9\": 44, \"15\": 23, \"5\": 14, \"12\": 58, \"6\": 30, \"3\": 23, \"7\": 3, \"4\": 1, \"1\": 1}, \"5\": {\"4\": 38, \"7\": 46, \"15\": 31, \"6\": 23, \"9\": 25, \"13\": 7, \"5\": 30, \"3\": 13, \"12\": 13, \"11\": 12, \"10\": 2}}, \"ORACLE.run132\": {\"8\": {\"1\": 14, \"4\": 6, \"0\": 42, \"8\": 48, \"2\": 17, \"14\": 28, \"7\": 32, \"15\": 25, \"5\": 24, \"3\": 4}, \"14\": {\"7\": 33, \"14\": 51, \"5\": 22, \"1\": 19, \"0\": 44, \"8\": 33, \"2\": 25, \"3\": 3, \"4\": 5, \"15\": 5}, \"2\": {\"0\": 6, \"2\": 66, \"1\": 44, \"4\": 58, \"14\": 17, \"8\": 10, \"7\": 4, \"3\": 15, \"9\": 4, \"13\": 13, \"15\": 1, \"11\": 1, \"5\": 1}, \"0\": {\"15\": 29, \"14\": 53, \"0\": 32, \"7\": 41, \"8\": 44, \"4\": 3, \"1\": 6, \"5\": 25, \"2\": 7}, \"1\": {\"0\": 8, \"13\": 17, \"1\": 61, \"2\": 44, \"3\": 21, \"8\": 14, \"14\": 14, \"4\": 36, \"15\": 5, \"9\": 12, \"7\": 5, \"5\": 3}, \"10\": {\"10\": 109, \"9\": 12, \"6\": 42, \"11\": 16, \"12\": 60, \"13\": 1}, \"11\": {\"3\": 15, \"12\": 40, \"11\": 83, \"9\": 66, \"4\": 8, \"13\": 23, \"10\": 5}, \"5\": {\"5\": 48, \"0\": 32, \"8\": 26, \"15\": 39, \"7\": 57, \"14\": 30, \"2\": 5, \"1\": 2, \"3\": 1}, \"15\": {\"15\": 132, \"14\": 8, \"8\": 26, \"0\": 15, \"5\": 42, \"7\": 17}, \"3\": {\"3\": 50, \"13\": 50, \"8\": 6, \"2\": 27, \"1\": 28, \"4\": 46, \"11\": 17, \"9\": 11, \"0\": 1, \"15\": 1, \"14\": 3}, \"12\": {\"12\": 88, \"13\": 13, \"6\": 15, \"9\": 36, \"11\": 49, \"10\": 38, \"3\": 1}, \"7\": {\"14\": 46, \"0\": 42, \"8\": 28, \"7\": 52, \"5\": 49, \"15\": 12, \"2\": 11}, \"13\": {\"13\": 58, \"3\": 41, \"1\": 20, \"11\": 29, \"9\": 34, \"4\": 33, \"2\": 21, \"8\": 1, \"12\": 1, \"0\": 2}, \"6\": {\"6\": 172, \"10\": 59, \"12\": 8, \"9\": 1}, \"4\": {\"8\": 8, \"4\": 53, \"3\": 36, \"13\": 37, \"14\": 6, \"1\": 45, \"2\": 42, \"9\": 4, \"0\": 5, \"11\": 3, \"5\": 1}, \"9\": {\"10\": 10, \"13\": 37, \"11\": 56, \"12\": 30, \"9\": 43, \"3\": 32, \"4\": 17, \"2\": 8, \"6\": 2, \"1\": 5}}, \"ORACLE.run126\": {\"4\": {\"4\": 124, \"3\": 31, \"13\": 43, \"12\": 11, \"7\": 11, \"2\": 6, \"9\": 8, \"8\": 6}, \"12\": {\"13\": 31, \"0\": 12, \"12\": 36, \"3\": 32, \"7\": 29, \"2\": 34, \"9\": 25, \"8\": 32, \"4\": 4, \"14\": 2, \"10\": 2, \"15\": 1}, \"10\": {\"6\": 21, \"1\": 22, \"15\": 25, \"7\": 3, \"14\": 47, \"10\": 33, \"5\": 20, \"2\": 14, \"11\": 8, \"0\": 35, \"8\": 8, \"9\": 2, \"12\": 2}, \"0\": {\"1\": 13, \"12\": 17, \"10\": 25, \"0\": 39, \"14\": 37, \"8\": 19, \"9\": 11, \"2\": 32, \"6\": 9, \"5\": 10, \"15\": 16, \"11\": 3, \"7\": 6, \"3\": 3}, \"13\": {\"8\": 19, \"3\": 49, \"7\": 26, \"12\": 25, \"9\": 22, \"13\": 55, \"10\": 1, \"2\": 12, \"4\": 26, \"0\": 2, \"14\": 1, \"15\": 1, \"5\": 1}, \"9\": {\"12\": 39, \"3\": 27, \"13\": 31, \"2\": 19, \"9\": 29, \"8\": 35, \"0\": 11, \"7\": 31, \"1\": 2, \"10\": 8, \"14\": 5, \"4\": 1, \"6\": 2}, \"3\": {\"12\": 39, \"3\": 37, \"7\": 34, \"4\": 14, \"8\": 28, \"13\": 43, \"2\": 16, \"9\": 28, \"0\": 1}, \"2\": {\"12\": 26, \"0\": 32, \"15\": 6, \"9\": 25, \"10\": 10, \"7\": 27, \"14\": 13, \"5\": 2, \"8\": 33, \"2\": 35, \"13\": 12, \"4\": 1, \"3\": 12, \"6\": 5, \"1\": 1}, \"5\": {\"6\": 35, \"14\": 27, \"15\": 37, \"1\": 37, \"10\": 22, \"5\": 47, \"11\": 26, \"0\": 9}, \"14\": {\"1\": 25, \"6\": 26, \"0\": 34, \"14\": 36, \"12\": 7, \"5\": 19, \"10\": 40, \"15\": 27, \"2\": 13, \"9\": 6, \"8\": 3, \"11\": 2, \"13\": 1, \"7\": 1}, \"8\": {\"8\": 32, \"12\": 33, \"10\": 7, \"9\": 28, \"7\": 34, \"0\": 26, \"5\": 2, \"3\": 22, \"13\": 22, \"2\": 28, \"14\": 4, \"15\": 1, \"4\": 1}, \"7\": {\"12\": 32, \"9\": 40, \"8\": 36, \"7\": 38, \"1\": 1, \"3\": 25, \"2\": 18, \"0\": 10, \"13\": 32, \"10\": 3, \"6\": 1, \"15\": 1, \"14\": 2, \"4\": 1}, \"6\": {\"6\": 38, \"5\": 37, \"1\": 30, \"14\": 28, \"11\": 26, \"15\": 36, \"10\": 19, \"0\": 18, \"12\": 2, \"2\": 3, \"7\": 1, \"8\": 1, \"3\": 1}, \"11\": {\"6\": 43, \"1\": 42, \"15\": 22, \"14\": 9, \"5\": 42, \"11\": 71, \"10\": 9, \"9\": 1, \"0\": 1}, \"15\": {\"6\": 34, \"5\": 35, \"10\": 33, \"0\": 25, \"14\": 30, \"15\": 25, \"1\": 23, \"8\": 2, \"11\": 18, \"2\": 8, \"3\": 1, \"9\": 2, \"12\": 4}, \"1\": {\"1\": 41, \"6\": 50, \"10\": 19, \"5\": 35, \"14\": 28, \"11\": 24, \"15\": 27, \"0\": 12, \"2\": 3, \"12\": 1}}, \"ORACLE.run144\": {\"12\": {\"12\": 101, \"3\": 119, \"0\": 13, \"1\": 5, \"8\": 2}, \"7\": {\"4\": 25, \"7\": 37, \"10\": 43, \"9\": 38, \"8\": 2, \"6\": 21, \"14\": 29, \"5\": 19, \"13\": 11, \"2\": 5, \"15\": 8, \"1\": 2}, \"5\": {\"2\": 9, \"15\": 21, \"7\": 26, \"8\": 20, \"10\": 38, \"4\": 24, \"5\": 36, \"1\": 10, \"14\": 27, \"0\": 3, \"9\": 21, \"6\": 5}, \"15\": {\"1\": 23, \"2\": 18, \"14\": 31, \"8\": 42, \"7\": 12, \"4\": 18, \"15\": 35, \"10\": 13, \"5\": 26, \"0\": 12, \"9\": 10}, \"8\": {\"0\": 42, \"8\": 48, \"15\": 30, \"1\": 45, \"5\": 16, \"10\": 6, \"2\": 24, \"3\": 3, \"14\": 12, \"4\": 10, \"12\": 2, \"7\": 2}, \"2\": {\"2\": 59, \"5\": 18, \"8\": 32, \"1\": 33, \"4\": 8, \"14\": 27, \"15\": 30, \"0\": 13, \"10\": 9, \"9\": 7, \"7\": 4}, \"13\": {\"13\": 91, \"6\": 77, \"9\": 28, \"11\": 18, \"10\": 8, \"4\": 5, \"7\": 11, \"5\": 2}, \"4\": {\"13\": 9, \"5\": 35, \"9\": 33, \"10\": 30, \"4\": 28, \"7\": 23, \"2\": 13, \"14\": 23, \"8\": 10, \"6\": 13, \"15\": 13, \"1\": 9, \"0\": 1}, \"0\": {\"1\": 50, \"0\": 80, \"3\": 14, \"8\": 38, \"14\": 1, \"15\": 13, \"2\": 27, \"12\": 14, \"4\": 1, \"10\": 2}, \"6\": {\"6\": 91, \"13\": 76, \"9\": 34, \"7\": 11, \"4\": 9, \"5\": 4, \"10\": 9, \"14\": 3, \"11\": 3}, \"9\": {\"10\": 43, \"4\": 29, \"7\": 30, \"6\": 41, \"9\": 31, \"13\": 22, \"8\": 3, \"15\": 14, \"5\": 10, \"2\": 2, \"1\": 2, \"0\": 2, \"14\": 8, \"11\": 3}, \"11\": {\"11\": 213, \"13\": 24, \"6\": 3}, \"10\": {\"13\": 6, \"10\": 31, \"2\": 8, \"9\": 32, \"4\": 33, \"7\": 48, \"5\": 28, \"15\": 4, \"14\": 28, \"8\": 6, \"1\": 7, \"6\": 9}, \"14\": {\"5\": 30, \"4\": 28, \"9\": 24, \"14\": 31, \"10\": 38, \"8\": 13, \"6\": 3, \"15\": 23, \"1\": 5, \"7\": 25, \"0\": 5, \"2\": 12, \"13\": 3}, \"1\": {\"2\": 51, \"15\": 29, \"1\": 56, \"8\": 41, \"5\": 13, \"0\": 35, \"4\": 4, \"14\": 7, \"9\": 1, \"12\": 2, \"3\": 1}, \"3\": {\"3\": 99, \"0\": 22, \"12\": 103, \"2\": 3, \"1\": 9, \"8\": 4}}}, \"per_domain_accuracy\": {\"Wisig_3\": {\"accuracy\": 0.9765625, \"source?\": true}, \"Wisig_4\": {\"accuracy\": 0.9524739583333334, \"source?\": true}, \"Wisig_1\": {\"accuracy\": 0.9850260416666666, \"source?\": true}, \"Wisig_2\": {\"accuracy\": 0.9674479166666666, \"source?\": true}, \"ORACLE.run114\": {\"accuracy\": 0.3229166666666667, \"source?\": false}, \"ORACLE.run120\": {\"accuracy\": 0.17317708333333334, \"source?\": false}, \"ORACLE.run138\": {\"accuracy\": 0.3697916666666667, \"source?\": false}, \"ORACLE.run18\": {\"accuracy\": 0.36223958333333334, \"source?\": false}, \"ORACLE.run150\": {\"accuracy\": 0.25807291666666665, \"source?\": false}, \"ORACLE.run132\": {\"accuracy\": 0.2984375, \"source?\": false}, \"ORACLE.run126\": {\"accuracy\": 0.18645833333333334, \"source?\": false}, \"ORACLE.run144\": {\"accuracy\": 0.27786458333333336, \"source?\": false}}}, \"history\": {\"epoch_indices\": [1, 2, 3, 4, 5, 6, 7, 8, 9, 10, 11, 12, 13, 14, 15], \"train_label_loss\": [0.3791029372901753, 0.22547386631052693, 0.1845459064790936, 0.15660798187726724, 0.14739602918752723, 0.13314050723336976, 0.12082445072108039, 0.11316805771465946, 0.09890585019176161, 0.0964984970637058, 0.08516012603403007, 0.07709860300486468, 0.07000241979447472, 0.0597945071023538, 0.054564775919046626], \"source_val_label_loss\": [0.25317853689193726, 0.24658040702342987, 0.15704989433288574, 0.17621074616909027, 0.1888071745634079, 0.16387273371219635, 0.16051816940307617, 0.1487971693277359, 0.1518431007862091, 0.1419205665588379, 0.14479389786720276, 0.15030185878276825, 0.14659959077835083, 0.16265994310379028, 0.17591309547424316], \"target_val_label_loss\": [2.5350325107574463, 2.49438738822937, 2.457310914993286, 2.3875010013580322, 2.443575859069824, 2.382587194442749, 2.3729045391082764, 2.452624559402466, 2.335925340652466, 2.4216248989105225, 2.3099794387817383, 2.3402974605560303, 2.337294578552246, 2.3759641647338867, 2.4166512489318848], \"source_val_acc_label\": [0.9440104166666666, 0.9580078125, 0.96630859375, 0.9645182291666666, 0.9641927083333334, 0.9669596354166666, 0.96630859375, 0.96875, 0.9680989583333334, 0.9698893229166666, 0.9703776041666666, 0.9700520833333334, 0.9695638020833334, 0.9708658854166666, 0.96875], \"target_val_acc_label\": [0.4982096354166667, 0.396875, 0.43951822916666666, 0.4947916666666667, 0.3484700520833333, 0.32099609375, 0.37041015625, 0.29202473958333336, 0.3314127604166667, 0.27464192708333335, 0.2811197916666667, 0.2606119791666667, 0.25364583333333335, 0.23636067708333333, 0.22298177083333334]}, \"dataset_metrics\": {\"source\": {\"train\": {\"n_unique_x\": 36400, \"n_unique_y\": 130, \"n_batch/episode\": 1347}, \"val\": {\"n_unique_x\": 7800, \"n_unique_y\": 130, \"n_batch/episode\": 192}, \"test\": {\"n_unique_x\": 7800, \"n_unique_y\": 130, \"n_batch/episode\": 192}}, \"target\": {\"train\": {\"n_unique_x\": 179200, \"n_unique_y\": 16, \"n_batch/episode\": 6720}, \"val\": {\"n_unique_x\": 38400, \"n_unique_y\": 16, \"n_batch/episode\": 960}, \"test\": {\"n_unique_x\": 38400, \"n_unique_y\": 16, \"n_batch/episode\": 960}}}}'"
      ]
     },
     "execution_count": 29,
     "metadata": {},
     "output_type": "execute_result"
    }
   ],
   "source": [
    "json.dumps(experiment)"
   ]
  }
 ],
 "metadata": {
  "celltoolbar": "Tags",
  "kernelspec": {
   "display_name": "Python 3 (ipykernel)",
   "language": "python",
   "name": "python3"
  },
  "language_info": {
   "codemirror_mode": {
    "name": "ipython",
    "version": 3
   },
   "file_extension": ".py",
   "mimetype": "text/x-python",
   "name": "python",
   "nbconvert_exporter": "python",
   "pygments_lexer": "ipython3",
   "version": "3.8.10"
  },
  "papermill": {
   "default_parameters": {},
   "duration": 715.241299,
   "end_time": "2022-03-07T07:04:34.417545",
   "environment_variables": {},
   "exception": null,
   "input_path": "/mnt/wd500GB/CSC500/csc500-main/csc500-notebooks/templates/tl_ptn_template.ipynb",
   "output_path": "trial.ipynb",
   "parameters": {
    "parameters": {
     "BEST_MODEL_PATH": "./best_model.pth",
     "NUM_LOGS_PER_EPOCH": 10,
     "criteria_for_best": "target_loss",
     "dataset_seed": 1337,
     "datasets": [
      {
       "domain_prefix": "Wisig_",
       "domains": [
        1,
        2,
        3,
        4
       ],
       "episode_transforms": [],
       "labels": [
        "1-10",
        "1-12",
        "1-14",
        "1-16",
        "1-18",
        "1-19",
        "1-8",
        "10-11",
        "10-17",
        "10-4",
        "10-7",
        "11-1",
        "11-10",
        "11-19",
        "11-20",
        "11-4",
        "11-7",
        "12-19",
        "12-20",
        "12-7",
        "13-14",
        "13-18",
        "13-19",
        "13-20",
        "13-3",
        "13-7",
        "14-10",
        "14-11",
        "14-12",
        "14-13",
        "14-14",
        "14-19",
        "14-20",
        "14-7",
        "14-8",
        "14-9",
        "15-1",
        "15-19",
        "15-6",
        "16-1",
        "16-16",
        "16-19",
        "16-20",
        "17-10",
        "17-11",
        "18-1",
        "18-10",
        "18-11",
        "18-12",
        "18-13",
        "18-14",
        "18-15",
        "18-16",
        "18-17",
        "18-19",
        "18-2",
        "18-20",
        "18-4",
        "18-5",
        "18-7",
        "18-8",
        "18-9",
        "19-1",
        "19-10",
        "19-11",
        "19-12",
        "19-13",
        "19-14",
        "19-15",
        "19-19",
        "19-2",
        "19-20",
        "19-3",
        "19-4",
        "19-6",
        "19-7",
        "19-8",
        "19-9",
        "2-1",
        "2-13",
        "2-15",
        "2-3",
        "2-4",
        "2-5",
        "2-6",
        "2-7",
        "2-8",
        "20-1",
        "20-12",
        "20-14",
        "20-15",
        "20-16",
        "20-18",
        "20-19",
        "20-20",
        "20-3",
        "20-4",
        "20-5",
        "20-7",
        "20-8",
        "3-1",
        "3-13",
        "3-18",
        "3-2",
        "3-8",
        "4-1",
        "4-10",
        "4-11",
        "5-1",
        "5-5",
        "6-1",
        "6-15",
        "6-6",
        "7-10",
        "7-11",
        "7-12",
        "7-13",
        "7-14",
        "7-7",
        "7-8",
        "7-9",
        "8-1",
        "8-13",
        "8-14",
        "8-18",
        "8-20",
        "8-3",
        "8-8",
        "9-1",
        "9-7"
       ],
       "num_examples_per_domain_per_label": 100,
       "pickle_path": "/mnt/wd500GB/CSC500/csc500-main/datasets/wisig.node3-19.stratified_ds.2022A.pkl",
       "source_or_target_dataset": "source",
       "x_transforms": []
      },
      {
       "domain_prefix": "ORACLE.run1",
       "domains": [
        32,
        38,
        8,
        44,
        14,
        50,
        20,
        26
       ],
       "episode_transforms": [],
       "labels": [
        "3123D52",
        "3123D65",
        "3123D79",
        "3123D80",
        "3123D54",
        "3123D70",
        "3123D7B",
        "3123D89",
        "3123D58",
        "3123D76",
        "3123D7D",
        "3123EFE",
        "3123D64",
        "3123D78",
        "3123D7E",
        "3124E4A"
       ],
       "num_examples_per_domain_per_label": 2000,
       "pickle_path": "/mnt/wd500GB/CSC500/csc500-main/datasets/oracle.Run1_framed_2000Examples_stratified_ds.2022A.pkl",
       "source_or_target_dataset": "target",
       "x_transforms": []
      }
     ],
     "device": "cuda",
     "experiment_name": "tl_1_wisig-oracle.run1",
     "lr": 0.001,
     "n_epoch": 50,
     "n_query": 2,
     "n_shot": 3,
     "n_way": 16,
     "patience": 3,
     "seed": 1337,
     "test_k_factor": 2,
     "torch_default_dtype": "torch.float32",
     "train_k_factor": 3,
     "val_k_factor": 2,
     "x_net": [
      {
       "class": "nnReshape",
       "kargs": {
        "shape": [
         -1,
         1,
         2,
         256
        ]
       }
      },
      {
       "class": "Conv2d",
       "kargs": {
        "bias": false,
        "in_channels": 1,
        "kernel_size": [
         1,
         7
        ],
        "out_channels": 256,
        "padding": [
         0,
         3
        ]
       }
      },
      {
       "class": "ReLU",
       "kargs": {
        "inplace": true
       }
      },
      {
       "class": "BatchNorm2d",
       "kargs": {
        "num_features": 256
       }
      },
      {
       "class": "Conv2d",
       "kargs": {
        "bias": true,
        "in_channels": 256,
        "kernel_size": [
         2,
         7
        ],
        "out_channels": 80,
        "padding": [
         0,
         3
        ]
       }
      },
      {
       "class": "ReLU",
       "kargs": {
        "inplace": true
       }
      },
      {
       "class": "BatchNorm2d",
       "kargs": {
        "num_features": 80
       }
      },
      {
       "class": "Flatten",
       "kargs": {}
      },
      {
       "class": "Linear",
       "kargs": {
        "in_features": 20480,
        "out_features": 256
       }
      },
      {
       "class": "ReLU",
       "kargs": {
        "inplace": true
       }
      },
      {
       "class": "BatchNorm1d",
       "kargs": {
        "num_features": 256
       }
      },
      {
       "class": "Linear",
       "kargs": {
        "in_features": 256,
        "out_features": 256
       }
      }
     ]
    }
   },
   "start_time": "2022-03-07T06:52:39.176246",
   "version": "2.3.4"
  }
 },
 "nbformat": 4,
 "nbformat_minor": 5
}