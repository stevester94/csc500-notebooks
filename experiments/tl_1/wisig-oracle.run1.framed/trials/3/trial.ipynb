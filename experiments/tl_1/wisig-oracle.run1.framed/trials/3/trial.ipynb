{
 "cells": [
  {
   "cell_type": "markdown",
   "id": "9fea5f46",
   "metadata": {
    "papermill": {
     "duration": 0.018252,
     "end_time": "2022-03-07T07:04:35.226177",
     "exception": false,
     "start_time": "2022-03-07T07:04:35.207925",
     "status": "completed"
    },
    "tags": []
   },
   "source": [
    "# Transfer Learning Template"
   ]
  },
  {
   "cell_type": "code",
   "execution_count": 1,
   "id": "0902182a",
   "metadata": {
    "execution": {
     "iopub.execute_input": "2022-03-07T07:04:35.263598Z",
     "iopub.status.busy": "2022-03-07T07:04:35.257956Z",
     "iopub.status.idle": "2022-03-07T07:04:36.019859Z",
     "shell.execute_reply": "2022-03-07T07:04:36.019550Z"
    },
    "papermill": {
     "duration": 0.781179,
     "end_time": "2022-03-07T07:04:36.019930",
     "exception": false,
     "start_time": "2022-03-07T07:04:35.238751",
     "status": "completed"
    },
    "tags": []
   },
   "outputs": [],
   "source": [
    "%load_ext autoreload\n",
    "%autoreload 2\n",
    "%matplotlib inline\n",
    "\n",
    "    \n",
    "import os, json, sys, time, random\n",
    "import numpy as np\n",
    "import torch\n",
    "from torch.optim import Adam\n",
    "from  easydict import EasyDict\n",
    "import matplotlib.pyplot as plt\n",
    "\n",
    "from steves_models.steves_ptn import Steves_Prototypical_Network\n",
    "\n",
    "from steves_utils.lazy_iterable_wrapper import Lazy_Iterable_Wrapper\n",
    "from steves_utils.iterable_aggregator import Iterable_Aggregator\n",
    "from steves_utils.ptn_train_eval_test_jig import  PTN_Train_Eval_Test_Jig\n",
    "from steves_utils.torch_sequential_builder import build_sequential\n",
    "from steves_utils.torch_utils import get_dataset_metrics, ptn_confusion_by_domain_over_dataloader\n",
    "from steves_utils.utils_v2 import (per_domain_accuracy_from_confusion, get_datasets_base_path)\n",
    "from steves_utils.PTN.utils import independent_accuracy_assesment\n",
    "\n",
    "from torch.utils.data import DataLoader\n",
    "\n",
    "from steves_utils.stratified_dataset.episodic_accessor import Episodic_Accessor_Factory\n",
    "\n",
    "from steves_utils.ptn_do_report import (\n",
    "    get_loss_curve,\n",
    "    get_results_table,\n",
    "    get_parameters_table,\n",
    "    get_domain_accuracies,\n",
    ")\n",
    "\n",
    "from steves_utils.transforms import get_chained_transform"
   ]
  },
  {
   "cell_type": "markdown",
   "id": "41c840b4",
   "metadata": {
    "papermill": {
     "duration": 0.013121,
     "end_time": "2022-03-07T07:04:36.049175",
     "exception": false,
     "start_time": "2022-03-07T07:04:36.036054",
     "status": "completed"
    },
    "tags": []
   },
   "source": [
    "# Allowed Parameters\n",
    "These are allowed parameters, not defaults\n",
    "Each of these values need to be present in the injected parameters (the notebook will raise an exception if they are not present)\n",
    "\n",
    "Papermill uses the cell tag \"parameters\" to inject the real parameters below this cell.\n",
    "Enable tags to see what I mean"
   ]
  },
  {
   "cell_type": "code",
   "execution_count": 2,
   "id": "fd44eb83",
   "metadata": {
    "execution": {
     "iopub.execute_input": "2022-03-07T07:04:36.078340Z",
     "iopub.status.busy": "2022-03-07T07:04:36.077920Z",
     "iopub.status.idle": "2022-03-07T07:04:36.087863Z",
     "shell.execute_reply": "2022-03-07T07:04:36.088096Z"
    },
    "papermill": {
     "duration": 0.025763,
     "end_time": "2022-03-07T07:04:36.088169",
     "exception": false,
     "start_time": "2022-03-07T07:04:36.062406",
     "status": "completed"
    },
    "tags": []
   },
   "outputs": [],
   "source": [
    "required_parameters = {\n",
    "    \"experiment_name\",\n",
    "    \"lr\",\n",
    "    \"device\",\n",
    "    \"seed\",\n",
    "    \"dataset_seed\",\n",
    "    \"n_shot\",\n",
    "    \"n_query\",\n",
    "    \"n_way\",\n",
    "    \"train_k_factor\",\n",
    "    \"val_k_factor\",\n",
    "    \"test_k_factor\",\n",
    "    \"n_epoch\",\n",
    "    \"patience\",\n",
    "    \"criteria_for_best\",\n",
    "    \"x_net\",\n",
    "    \"datasets\",\n",
    "    \"torch_default_dtype\",\n",
    "    \"NUM_LOGS_PER_EPOCH\",\n",
    "    \"BEST_MODEL_PATH\",\n",
    "}"
   ]
  },
  {
   "cell_type": "code",
   "execution_count": 3,
   "id": "fa3f0049",
   "metadata": {
    "execution": {
     "iopub.execute_input": "2022-03-07T07:04:36.122948Z",
     "iopub.status.busy": "2022-03-07T07:04:36.122637Z",
     "iopub.status.idle": "2022-03-07T07:04:36.140147Z",
     "shell.execute_reply": "2022-03-07T07:04:36.139909Z"
    },
    "papermill": {
     "duration": 0.036264,
     "end_time": "2022-03-07T07:04:36.140213",
     "exception": false,
     "start_time": "2022-03-07T07:04:36.103949",
     "status": "completed"
    },
    "tags": [
     "parameters"
    ]
   },
   "outputs": [],
   "source": [
    "from steves_utils.CORES.utils import (\n",
    "    ALL_NODES,\n",
    "    ALL_NODES_MINIMUM_1000_EXAMPLES,\n",
    "    ALL_DAYS\n",
    ")\n",
    "\n",
    "from steves_utils.ORACLE.utils_v2 import (\n",
    "    ALL_DISTANCES_FEET_NARROWED,\n",
    "    ALL_RUNS,\n",
    "    ALL_SERIAL_NUMBERS,\n",
    ")\n",
    "\n",
    "standalone_parameters = {}\n",
    "standalone_parameters[\"experiment_name\"] = \"STANDALONE PTN\"\n",
    "standalone_parameters[\"lr\"] = 0.001\n",
    "standalone_parameters[\"device\"] = \"cuda\"\n",
    "\n",
    "standalone_parameters[\"seed\"] = 1337\n",
    "standalone_parameters[\"dataset_seed\"] = 1337\n",
    "\n",
    "standalone_parameters[\"n_way\"] = 8\n",
    "standalone_parameters[\"n_shot\"] = 3\n",
    "standalone_parameters[\"n_query\"]  = 2\n",
    "standalone_parameters[\"train_k_factor\"] = 1\n",
    "standalone_parameters[\"val_k_factor\"] = 2\n",
    "standalone_parameters[\"test_k_factor\"] = 2\n",
    "\n",
    "\n",
    "standalone_parameters[\"n_epoch\"] = 50\n",
    "\n",
    "standalone_parameters[\"patience\"] = 10\n",
    "standalone_parameters[\"criteria_for_best\"] = \"source_loss\"\n",
    "\n",
    "standalone_parameters[\"datasets\"] = [\n",
    "    {\n",
    "        \"labels\": ALL_SERIAL_NUMBERS,\n",
    "        \"domains\": ALL_DISTANCES_FEET_NARROWED,\n",
    "        \"num_examples_per_domain_per_label\": 100,\n",
    "        \"pickle_path\": os.path.join(get_datasets_base_path(), \"oracle.Run1_framed_2000Examples_stratified_ds.2022A.pkl\"),\n",
    "        \"source_or_target_dataset\": \"source\",\n",
    "        \"x_transforms\": [\"unit_mag\", \"minus_two\"],\n",
    "        \"episode_transforms\": [],\n",
    "        \"domain_prefix\": \"ORACLE_\"\n",
    "    },\n",
    "    {\n",
    "        \"labels\": ALL_NODES,\n",
    "        \"domains\": ALL_DAYS,\n",
    "        \"num_examples_per_domain_per_label\": 100,\n",
    "        \"pickle_path\": os.path.join(get_datasets_base_path(), \"cores.stratified_ds.2022A.pkl\"),\n",
    "        \"source_or_target_dataset\": \"target\",\n",
    "        \"x_transforms\": [\"unit_power\", \"times_zero\"],\n",
    "        \"episode_transforms\": [],\n",
    "        \"domain_prefix\": \"CORES_\"\n",
    "    }   \n",
    "]\n",
    "\n",
    "standalone_parameters[\"torch_default_dtype\"] = \"torch.float32\" \n",
    "\n",
    "\n",
    "\n",
    "standalone_parameters[\"x_net\"] =     [\n",
    "    {\"class\": \"nnReshape\", \"kargs\": {\"shape\":[-1, 1, 2, 256]}},\n",
    "    {\"class\": \"Conv2d\", \"kargs\": { \"in_channels\":1, \"out_channels\":256, \"kernel_size\":(1,7), \"bias\":False, \"padding\":(0,3), },},\n",
    "    {\"class\": \"ReLU\", \"kargs\": {\"inplace\": True}},\n",
    "    {\"class\": \"BatchNorm2d\", \"kargs\": {\"num_features\":256}},\n",
    "\n",
    "    {\"class\": \"Conv2d\", \"kargs\": { \"in_channels\":256, \"out_channels\":80, \"kernel_size\":(2,7), \"bias\":True, \"padding\":(0,3), },},\n",
    "    {\"class\": \"ReLU\", \"kargs\": {\"inplace\": True}},\n",
    "    {\"class\": \"BatchNorm2d\", \"kargs\": {\"num_features\":80}},\n",
    "    {\"class\": \"Flatten\", \"kargs\": {}},\n",
    "\n",
    "    {\"class\": \"Linear\", \"kargs\": {\"in_features\": 80*256, \"out_features\": 256}}, # 80 units per IQ pair\n",
    "    {\"class\": \"ReLU\", \"kargs\": {\"inplace\": True}},\n",
    "    {\"class\": \"BatchNorm1d\", \"kargs\": {\"num_features\":256}},\n",
    "\n",
    "    {\"class\": \"Linear\", \"kargs\": {\"in_features\": 256, \"out_features\": 256}},\n",
    "]\n",
    "\n",
    "# Parameters relevant to results\n",
    "# These parameters will basically never need to change\n",
    "standalone_parameters[\"NUM_LOGS_PER_EPOCH\"] = 10\n",
    "standalone_parameters[\"BEST_MODEL_PATH\"] = \"./best_model.pth\"\n",
    "\n",
    "\n",
    "\n",
    "\n"
   ]
  },
  {
   "cell_type": "code",
   "execution_count": 4,
   "id": "131ac460",
   "metadata": {
    "execution": {
     "iopub.execute_input": "2022-03-07T07:04:36.178775Z",
     "iopub.status.busy": "2022-03-07T07:04:36.168262Z",
     "iopub.status.idle": "2022-03-07T07:04:36.189001Z",
     "shell.execute_reply": "2022-03-07T07:04:36.189372Z"
    },
    "papermill": {
     "duration": 0.036064,
     "end_time": "2022-03-07T07:04:36.189499",
     "exception": false,
     "start_time": "2022-03-07T07:04:36.153435",
     "status": "completed"
    },
    "tags": [
     "injected-parameters"
    ]
   },
   "outputs": [],
   "source": [
    "# Parameters\n",
    "parameters = {\n",
    "    \"experiment_name\": \"tl_1_wisig-oracle.run1\",\n",
    "    \"device\": \"cuda\",\n",
    "    \"lr\": 0.001,\n",
    "    \"seed\": 1337,\n",
    "    \"dataset_seed\": 1337,\n",
    "    \"n_shot\": 3,\n",
    "    \"n_query\": 2,\n",
    "    \"train_k_factor\": 3,\n",
    "    \"val_k_factor\": 2,\n",
    "    \"test_k_factor\": 2,\n",
    "    \"torch_default_dtype\": \"torch.float32\",\n",
    "    \"n_epoch\": 50,\n",
    "    \"patience\": 3,\n",
    "    \"criteria_for_best\": \"target_loss\",\n",
    "    \"x_net\": [\n",
    "        {\"class\": \"nnReshape\", \"kargs\": {\"shape\": [-1, 1, 2, 256]}},\n",
    "        {\n",
    "            \"class\": \"Conv2d\",\n",
    "            \"kargs\": {\n",
    "                \"in_channels\": 1,\n",
    "                \"out_channels\": 256,\n",
    "                \"kernel_size\": [1, 7],\n",
    "                \"bias\": False,\n",
    "                \"padding\": [0, 3],\n",
    "            },\n",
    "        },\n",
    "        {\"class\": \"ReLU\", \"kargs\": {\"inplace\": True}},\n",
    "        {\"class\": \"BatchNorm2d\", \"kargs\": {\"num_features\": 256}},\n",
    "        {\n",
    "            \"class\": \"Conv2d\",\n",
    "            \"kargs\": {\n",
    "                \"in_channels\": 256,\n",
    "                \"out_channels\": 80,\n",
    "                \"kernel_size\": [2, 7],\n",
    "                \"bias\": True,\n",
    "                \"padding\": [0, 3],\n",
    "            },\n",
    "        },\n",
    "        {\"class\": \"ReLU\", \"kargs\": {\"inplace\": True}},\n",
    "        {\"class\": \"BatchNorm2d\", \"kargs\": {\"num_features\": 80}},\n",
    "        {\"class\": \"Flatten\", \"kargs\": {}},\n",
    "        {\"class\": \"Linear\", \"kargs\": {\"in_features\": 20480, \"out_features\": 256}},\n",
    "        {\"class\": \"ReLU\", \"kargs\": {\"inplace\": True}},\n",
    "        {\"class\": \"BatchNorm1d\", \"kargs\": {\"num_features\": 256}},\n",
    "        {\"class\": \"Linear\", \"kargs\": {\"in_features\": 256, \"out_features\": 256}},\n",
    "    ],\n",
    "    \"NUM_LOGS_PER_EPOCH\": 10,\n",
    "    \"BEST_MODEL_PATH\": \"./best_model.pth\",\n",
    "    \"n_way\": 16,\n",
    "    \"datasets\": [\n",
    "        {\n",
    "            \"labels\": [\n",
    "                \"1-10\",\n",
    "                \"1-12\",\n",
    "                \"1-14\",\n",
    "                \"1-16\",\n",
    "                \"1-18\",\n",
    "                \"1-19\",\n",
    "                \"1-8\",\n",
    "                \"10-11\",\n",
    "                \"10-17\",\n",
    "                \"10-4\",\n",
    "                \"10-7\",\n",
    "                \"11-1\",\n",
    "                \"11-10\",\n",
    "                \"11-19\",\n",
    "                \"11-20\",\n",
    "                \"11-4\",\n",
    "                \"11-7\",\n",
    "                \"12-19\",\n",
    "                \"12-20\",\n",
    "                \"12-7\",\n",
    "                \"13-14\",\n",
    "                \"13-18\",\n",
    "                \"13-19\",\n",
    "                \"13-20\",\n",
    "                \"13-3\",\n",
    "                \"13-7\",\n",
    "                \"14-10\",\n",
    "                \"14-11\",\n",
    "                \"14-12\",\n",
    "                \"14-13\",\n",
    "                \"14-14\",\n",
    "                \"14-19\",\n",
    "                \"14-20\",\n",
    "                \"14-7\",\n",
    "                \"14-8\",\n",
    "                \"14-9\",\n",
    "                \"15-1\",\n",
    "                \"15-19\",\n",
    "                \"15-6\",\n",
    "                \"16-1\",\n",
    "                \"16-16\",\n",
    "                \"16-19\",\n",
    "                \"16-20\",\n",
    "                \"17-10\",\n",
    "                \"17-11\",\n",
    "                \"18-1\",\n",
    "                \"18-10\",\n",
    "                \"18-11\",\n",
    "                \"18-12\",\n",
    "                \"18-13\",\n",
    "                \"18-14\",\n",
    "                \"18-15\",\n",
    "                \"18-16\",\n",
    "                \"18-17\",\n",
    "                \"18-19\",\n",
    "                \"18-2\",\n",
    "                \"18-20\",\n",
    "                \"18-4\",\n",
    "                \"18-5\",\n",
    "                \"18-7\",\n",
    "                \"18-8\",\n",
    "                \"18-9\",\n",
    "                \"19-1\",\n",
    "                \"19-10\",\n",
    "                \"19-11\",\n",
    "                \"19-12\",\n",
    "                \"19-13\",\n",
    "                \"19-14\",\n",
    "                \"19-15\",\n",
    "                \"19-19\",\n",
    "                \"19-2\",\n",
    "                \"19-20\",\n",
    "                \"19-3\",\n",
    "                \"19-4\",\n",
    "                \"19-6\",\n",
    "                \"19-7\",\n",
    "                \"19-8\",\n",
    "                \"19-9\",\n",
    "                \"2-1\",\n",
    "                \"2-13\",\n",
    "                \"2-15\",\n",
    "                \"2-3\",\n",
    "                \"2-4\",\n",
    "                \"2-5\",\n",
    "                \"2-6\",\n",
    "                \"2-7\",\n",
    "                \"2-8\",\n",
    "                \"20-1\",\n",
    "                \"20-12\",\n",
    "                \"20-14\",\n",
    "                \"20-15\",\n",
    "                \"20-16\",\n",
    "                \"20-18\",\n",
    "                \"20-19\",\n",
    "                \"20-20\",\n",
    "                \"20-3\",\n",
    "                \"20-4\",\n",
    "                \"20-5\",\n",
    "                \"20-7\",\n",
    "                \"20-8\",\n",
    "                \"3-1\",\n",
    "                \"3-13\",\n",
    "                \"3-18\",\n",
    "                \"3-2\",\n",
    "                \"3-8\",\n",
    "                \"4-1\",\n",
    "                \"4-10\",\n",
    "                \"4-11\",\n",
    "                \"5-1\",\n",
    "                \"5-5\",\n",
    "                \"6-1\",\n",
    "                \"6-15\",\n",
    "                \"6-6\",\n",
    "                \"7-10\",\n",
    "                \"7-11\",\n",
    "                \"7-12\",\n",
    "                \"7-13\",\n",
    "                \"7-14\",\n",
    "                \"7-7\",\n",
    "                \"7-8\",\n",
    "                \"7-9\",\n",
    "                \"8-1\",\n",
    "                \"8-13\",\n",
    "                \"8-14\",\n",
    "                \"8-18\",\n",
    "                \"8-20\",\n",
    "                \"8-3\",\n",
    "                \"8-8\",\n",
    "                \"9-1\",\n",
    "                \"9-7\",\n",
    "            ],\n",
    "            \"domains\": [1, 2, 3, 4],\n",
    "            \"num_examples_per_domain_per_label\": 100,\n",
    "            \"pickle_path\": \"/mnt/wd500GB/CSC500/csc500-main/datasets/wisig.node3-19.stratified_ds.2022A.pkl\",\n",
    "            \"source_or_target_dataset\": \"target\",\n",
    "            \"x_transforms\": [\"unit_power\"],\n",
    "            \"episode_transforms\": [],\n",
    "            \"domain_prefix\": \"Wisig_\",\n",
    "        },\n",
    "        {\n",
    "            \"labels\": [\n",
    "                \"3123D52\",\n",
    "                \"3123D65\",\n",
    "                \"3123D79\",\n",
    "                \"3123D80\",\n",
    "                \"3123D54\",\n",
    "                \"3123D70\",\n",
    "                \"3123D7B\",\n",
    "                \"3123D89\",\n",
    "                \"3123D58\",\n",
    "                \"3123D76\",\n",
    "                \"3123D7D\",\n",
    "                \"3123EFE\",\n",
    "                \"3123D64\",\n",
    "                \"3123D78\",\n",
    "                \"3123D7E\",\n",
    "                \"3124E4A\",\n",
    "            ],\n",
    "            \"domains\": [32, 38, 8, 44, 14, 50, 20, 26],\n",
    "            \"num_examples_per_domain_per_label\": 2000,\n",
    "            \"pickle_path\": \"/mnt/wd500GB/CSC500/csc500-main/datasets/oracle.Run1_framed_2000Examples_stratified_ds.2022A.pkl\",\n",
    "            \"source_or_target_dataset\": \"source\",\n",
    "            \"x_transforms\": [\"unit_power\"],\n",
    "            \"episode_transforms\": [],\n",
    "            \"domain_prefix\": \"ORACLE.run1\",\n",
    "        },\n",
    "    ],\n",
    "}\n"
   ]
  },
  {
   "cell_type": "code",
   "execution_count": 5,
   "id": "8fa1cc33",
   "metadata": {
    "execution": {
     "iopub.execute_input": "2022-03-07T07:04:36.225239Z",
     "iopub.status.busy": "2022-03-07T07:04:36.224978Z",
     "iopub.status.idle": "2022-03-07T07:04:36.237600Z",
     "shell.execute_reply": "2022-03-07T07:04:36.237975Z"
    },
    "papermill": {
     "duration": 0.029673,
     "end_time": "2022-03-07T07:04:36.238097",
     "exception": false,
     "start_time": "2022-03-07T07:04:36.208424",
     "status": "completed"
    },
    "tags": []
   },
   "outputs": [],
   "source": [
    "# Set this to True if you want to run this template directly\n",
    "STANDALONE = False\n",
    "if STANDALONE:\n",
    "    print(\"parameters not injected, running with standalone_parameters\")\n",
    "    parameters = standalone_parameters\n",
    "\n",
    "if not 'parameters' in locals() and not 'parameters' in globals():\n",
    "    raise Exception(\"Parameter injection failed\")\n",
    "\n",
    "#Use an easy dict for all the parameters\n",
    "p = EasyDict(parameters)\n",
    "\n",
    "supplied_keys = set(p.keys())\n",
    "\n",
    "if  supplied_keys != required_parameters:\n",
    "    print(\"Parameters are incorrect\")\n",
    "    if len(supplied_keys - required_parameters)>0: print(\"Shouldn't have:\", str(supplied_keys - required_parameters))\n",
    "    if len(required_parameters - supplied_keys)>0: print(\"Need to have:\", str(required_parameters - supplied_keys))\n",
    "    raise RuntimeError(\"Parameters are incorrect\")\n",
    "\n"
   ]
  },
  {
   "cell_type": "code",
   "execution_count": 6,
   "id": "3a028d58",
   "metadata": {
    "execution": {
     "iopub.execute_input": "2022-03-07T07:04:36.271638Z",
     "iopub.status.busy": "2022-03-07T07:04:36.270524Z",
     "iopub.status.idle": "2022-03-07T07:04:36.284863Z",
     "shell.execute_reply": "2022-03-07T07:04:36.285239Z"
    },
    "papermill": {
     "duration": 0.028961,
     "end_time": "2022-03-07T07:04:36.285359",
     "exception": false,
     "start_time": "2022-03-07T07:04:36.256398",
     "status": "completed"
    },
    "tags": []
   },
   "outputs": [],
   "source": [
    "###################################\n",
    "# Set the RNGs and make it all deterministic\n",
    "###################################\n",
    "np.random.seed(p.seed)\n",
    "random.seed(p.seed)\n",
    "torch.manual_seed(p.seed)\n",
    "\n",
    "torch.use_deterministic_algorithms(True) "
   ]
  },
  {
   "cell_type": "code",
   "execution_count": 7,
   "id": "b691acf6",
   "metadata": {
    "execution": {
     "iopub.execute_input": "2022-03-07T07:04:36.318136Z",
     "iopub.status.busy": "2022-03-07T07:04:36.317878Z",
     "iopub.status.idle": "2022-03-07T07:04:36.330831Z",
     "shell.execute_reply": "2022-03-07T07:04:36.331202Z"
    },
    "papermill": {
     "duration": 0.028404,
     "end_time": "2022-03-07T07:04:36.331322",
     "exception": false,
     "start_time": "2022-03-07T07:04:36.302918",
     "status": "completed"
    },
    "tags": []
   },
   "outputs": [],
   "source": [
    "###########################################\n",
    "# The stratified datasets honor this\n",
    "###########################################\n",
    "torch.set_default_dtype(eval(p.torch_default_dtype))"
   ]
  },
  {
   "cell_type": "code",
   "execution_count": 8,
   "id": "b5fba671",
   "metadata": {
    "execution": {
     "iopub.execute_input": "2022-03-07T07:04:36.361264Z",
     "iopub.status.busy": "2022-03-07T07:04:36.361004Z",
     "iopub.status.idle": "2022-03-07T07:04:36.400701Z",
     "shell.execute_reply": "2022-03-07T07:04:36.400255Z"
    },
    "papermill": {
     "duration": 0.054641,
     "end_time": "2022-03-07T07:04:36.400809",
     "exception": false,
     "start_time": "2022-03-07T07:04:36.346168",
     "status": "completed"
    },
    "tags": []
   },
   "outputs": [],
   "source": [
    "###################################\n",
    "# Build the network(s)\n",
    "# Note: It's critical to do this AFTER setting the RNG\n",
    "###################################\n",
    "x_net = build_sequential(p.x_net)"
   ]
  },
  {
   "cell_type": "code",
   "execution_count": 9,
   "id": "5d7e61cc",
   "metadata": {
    "execution": {
     "iopub.execute_input": "2022-03-07T07:04:36.433724Z",
     "iopub.status.busy": "2022-03-07T07:04:36.433465Z",
     "iopub.status.idle": "2022-03-07T07:04:36.445390Z",
     "shell.execute_reply": "2022-03-07T07:04:36.445680Z"
    },
    "papermill": {
     "duration": 0.028085,
     "end_time": "2022-03-07T07:04:36.445778",
     "exception": false,
     "start_time": "2022-03-07T07:04:36.417693",
     "status": "completed"
    },
    "tags": []
   },
   "outputs": [],
   "source": [
    "start_time_secs = time.time()"
   ]
  },
  {
   "cell_type": "code",
   "execution_count": 10,
   "id": "c6b67dfd",
   "metadata": {
    "execution": {
     "iopub.execute_input": "2022-03-07T07:04:36.480293Z",
     "iopub.status.busy": "2022-03-07T07:04:36.480032Z",
     "iopub.status.idle": "2022-03-07T07:04:36.493041Z",
     "shell.execute_reply": "2022-03-07T07:04:36.492628Z"
    },
    "papermill": {
     "duration": 0.028607,
     "end_time": "2022-03-07T07:04:36.493140",
     "exception": false,
     "start_time": "2022-03-07T07:04:36.464533",
     "status": "completed"
    },
    "tags": []
   },
   "outputs": [],
   "source": [
    "p.domains_source = []\n",
    "p.domains_target = []\n",
    "\n",
    "\n",
    "train_original_source = []\n",
    "val_original_source   = []\n",
    "test_original_source  = []\n",
    "\n",
    "train_original_target = []\n",
    "val_original_target   = []\n",
    "test_original_target  = []"
   ]
  },
  {
   "cell_type": "code",
   "execution_count": 11,
   "id": "e3d9c3d3",
   "metadata": {
    "execution": {
     "iopub.execute_input": "2022-03-07T07:04:36.524631Z",
     "iopub.status.busy": "2022-03-07T07:04:36.524376Z",
     "iopub.status.idle": "2022-03-07T07:04:36.538733Z",
     "shell.execute_reply": "2022-03-07T07:04:36.538295Z"
    },
    "papermill": {
     "duration": 0.029444,
     "end_time": "2022-03-07T07:04:36.538832",
     "exception": false,
     "start_time": "2022-03-07T07:04:36.509388",
     "status": "completed"
    },
    "tags": []
   },
   "outputs": [],
   "source": [
    "# global_x_transform_func = lambda x: normalize(x.to(torch.get_default_dtype()), \"unit_power\") # unit_power, unit_mag\n",
    "# global_x_transform_func = lambda x: normalize(x, \"unit_power\") # unit_power, unit_mag"
   ]
  },
  {
   "cell_type": "code",
   "execution_count": 12,
   "id": "acb78fd2",
   "metadata": {
    "execution": {
     "iopub.execute_input": "2022-03-07T07:04:36.576247Z",
     "iopub.status.busy": "2022-03-07T07:04:36.575981Z",
     "iopub.status.idle": "2022-03-07T07:04:36.585960Z",
     "shell.execute_reply": "2022-03-07T07:04:36.585583Z"
    },
    "papermill": {
     "duration": 0.027747,
     "end_time": "2022-03-07T07:04:36.586038",
     "exception": false,
     "start_time": "2022-03-07T07:04:36.558291",
     "status": "completed"
    },
    "tags": []
   },
   "outputs": [],
   "source": [
    "def add_dataset(\n",
    "    labels,\n",
    "    domains,\n",
    "    pickle_path,\n",
    "    x_transforms,\n",
    "    episode_transforms,\n",
    "    domain_prefix,\n",
    "    num_examples_per_domain_per_label,\n",
    "    source_or_target_dataset:str,\n",
    "    iterator_seed=p.seed,\n",
    "    dataset_seed=p.dataset_seed,\n",
    "    n_shot=p.n_shot,\n",
    "    n_way=p.n_way,\n",
    "    n_query=p.n_query,\n",
    "    train_val_test_k_factors=(p.train_k_factor,p.val_k_factor,p.test_k_factor),\n",
    "):\n",
    "   \n",
    "    if x_transforms == []: x_transform = None\n",
    "    else: x_transform = get_chained_transform(x_transforms)\n",
    "    \n",
    "    if episode_transforms == []: episode_transform = None\n",
    "    else: raise Exception(\"episode_transforms not implemented\")\n",
    "    \n",
    "    episode_transform = lambda tup, _prefix=domain_prefix: (_prefix + str(tup[0]), tup[1])\n",
    "\n",
    "\n",
    "    eaf = Episodic_Accessor_Factory(\n",
    "        labels=labels,\n",
    "        domains=domains,\n",
    "        num_examples_per_domain_per_label=num_examples_per_domain_per_label,\n",
    "        iterator_seed=iterator_seed,\n",
    "        dataset_seed=dataset_seed,\n",
    "        n_shot=n_shot,\n",
    "        n_way=n_way,\n",
    "        n_query=n_query,\n",
    "        train_val_test_k_factors=train_val_test_k_factors,\n",
    "        pickle_path=pickle_path,\n",
    "        x_transform_func=x_transform,\n",
    "    )\n",
    "\n",
    "    train, val, test = eaf.get_train(), eaf.get_val(), eaf.get_test()\n",
    "    train = Lazy_Iterable_Wrapper(train, episode_transform)\n",
    "    val = Lazy_Iterable_Wrapper(val, episode_transform)\n",
    "    test = Lazy_Iterable_Wrapper(test, episode_transform)\n",
    "\n",
    "    if source_or_target_dataset==\"source\":\n",
    "        train_original_source.append(train)\n",
    "        val_original_source.append(val)\n",
    "        test_original_source.append(test)\n",
    "\n",
    "        p.domains_source.extend(\n",
    "            [domain_prefix + str(u) for u in domains]\n",
    "        )\n",
    "    elif source_or_target_dataset==\"target\":\n",
    "        train_original_target.append(train)\n",
    "        val_original_target.append(val)\n",
    "        test_original_target.append(test)\n",
    "        p.domains_target.extend(\n",
    "            [domain_prefix + str(u) for u in domains]\n",
    "        )\n",
    "    else:\n",
    "        raise Exception(f\"invalid source_or_target_dataset: {source_or_target_dataset}\")\n",
    "    "
   ]
  },
  {
   "cell_type": "code",
   "execution_count": 13,
   "id": "fe266617",
   "metadata": {
    "execution": {
     "iopub.execute_input": "2022-03-07T07:04:36.618693Z",
     "iopub.status.busy": "2022-03-07T07:04:36.618405Z",
     "iopub.status.idle": "2022-03-07T07:04:56.070212Z",
     "shell.execute_reply": "2022-03-07T07:04:56.070622Z"
    },
    "papermill": {
     "duration": 19.467134,
     "end_time": "2022-03-07T07:04:56.070783",
     "exception": false,
     "start_time": "2022-03-07T07:04:36.603649",
     "status": "completed"
    },
    "tags": []
   },
   "outputs": [],
   "source": [
    "for ds in p.datasets:\n",
    "    add_dataset(**ds)"
   ]
  },
  {
   "cell_type": "code",
   "execution_count": 14,
   "id": "b90d65ac",
   "metadata": {
    "execution": {
     "iopub.execute_input": "2022-03-07T07:04:56.104813Z",
     "iopub.status.busy": "2022-03-07T07:04:56.104550Z",
     "iopub.status.idle": "2022-03-07T07:04:56.117493Z",
     "shell.execute_reply": "2022-03-07T07:04:56.117002Z"
    },
    "papermill": {
     "duration": 0.028618,
     "end_time": "2022-03-07T07:04:56.117593",
     "exception": false,
     "start_time": "2022-03-07T07:04:56.088975",
     "status": "completed"
    },
    "tags": []
   },
   "outputs": [],
   "source": [
    "# from steves_utils.CORES.utils import (\n",
    "#     ALL_NODES,\n",
    "#     ALL_NODES_MINIMUM_1000_EXAMPLES,\n",
    "#     ALL_DAYS\n",
    "# )\n",
    "\n",
    "# add_dataset(\n",
    "#     labels=ALL_NODES,\n",
    "#     domains = ALL_DAYS,\n",
    "#     num_examples_per_domain_per_label=100,\n",
    "#     pickle_path=os.path.join(get_datasets_base_path(), \"cores.stratified_ds.2022A.pkl\"),\n",
    "#     source_or_target_dataset=\"target\",\n",
    "#     x_transform_func=global_x_transform_func,\n",
    "#     domain_modifier=lambda u: f\"cores_{u}\"\n",
    "# )"
   ]
  },
  {
   "cell_type": "code",
   "execution_count": 15,
   "id": "76db484d",
   "metadata": {
    "execution": {
     "iopub.execute_input": "2022-03-07T07:04:56.151766Z",
     "iopub.status.busy": "2022-03-07T07:04:56.151500Z",
     "iopub.status.idle": "2022-03-07T07:04:56.162551Z",
     "shell.execute_reply": "2022-03-07T07:04:56.162067Z"
    },
    "papermill": {
     "duration": 0.026697,
     "end_time": "2022-03-07T07:04:56.162650",
     "exception": false,
     "start_time": "2022-03-07T07:04:56.135953",
     "status": "completed"
    },
    "tags": []
   },
   "outputs": [],
   "source": [
    "# from steves_utils.ORACLE.utils_v2 import (\n",
    "#     ALL_DISTANCES_FEET,\n",
    "#     ALL_RUNS,\n",
    "#     ALL_SERIAL_NUMBERS,\n",
    "# )\n",
    "\n",
    "\n",
    "# add_dataset(\n",
    "#     labels=ALL_SERIAL_NUMBERS,\n",
    "#     domains = list(set(ALL_DISTANCES_FEET) - {2,62}),\n",
    "#     num_examples_per_domain_per_label=100,\n",
    "#     pickle_path=os.path.join(get_datasets_base_path(), \"oracle.Run2_framed_2000Examples_stratified_ds.2022A.pkl\"),\n",
    "#     source_or_target_dataset=\"source\",\n",
    "#     x_transform_func=global_x_transform_func,\n",
    "#     domain_modifier=lambda u: f\"oracle1_{u}\"\n",
    "# )\n"
   ]
  },
  {
   "cell_type": "code",
   "execution_count": 16,
   "id": "97dea9d2",
   "metadata": {
    "execution": {
     "iopub.execute_input": "2022-03-07T07:04:56.193834Z",
     "iopub.status.busy": "2022-03-07T07:04:56.193572Z",
     "iopub.status.idle": "2022-03-07T07:04:56.202476Z",
     "shell.execute_reply": "2022-03-07T07:04:56.202153Z"
    },
    "papermill": {
     "duration": 0.023998,
     "end_time": "2022-03-07T07:04:56.202552",
     "exception": false,
     "start_time": "2022-03-07T07:04:56.178554",
     "status": "completed"
    },
    "tags": []
   },
   "outputs": [],
   "source": [
    "# from steves_utils.ORACLE.utils_v2 import (\n",
    "#     ALL_DISTANCES_FEET,\n",
    "#     ALL_RUNS,\n",
    "#     ALL_SERIAL_NUMBERS,\n",
    "# )\n",
    "\n",
    "\n",
    "# add_dataset(\n",
    "#     labels=ALL_SERIAL_NUMBERS,\n",
    "#     domains = list(set(ALL_DISTANCES_FEET) - {2,62,56}),\n",
    "#     num_examples_per_domain_per_label=100,\n",
    "#     pickle_path=os.path.join(get_datasets_base_path(), \"oracle.Run2_framed_2000Examples_stratified_ds.2022A.pkl\"),\n",
    "#     source_or_target_dataset=\"source\",\n",
    "#     x_transform_func=global_x_transform_func,\n",
    "#     domain_modifier=lambda u: f\"oracle2_{u}\"\n",
    "# )"
   ]
  },
  {
   "cell_type": "code",
   "execution_count": 17,
   "id": "6f289866",
   "metadata": {
    "execution": {
     "iopub.execute_input": "2022-03-07T07:04:56.235050Z",
     "iopub.status.busy": "2022-03-07T07:04:56.234793Z",
     "iopub.status.idle": "2022-03-07T07:04:56.244018Z",
     "shell.execute_reply": "2022-03-07T07:04:56.243699Z"
    },
    "papermill": {
     "duration": 0.024403,
     "end_time": "2022-03-07T07:04:56.244093",
     "exception": false,
     "start_time": "2022-03-07T07:04:56.219690",
     "status": "completed"
    },
    "tags": []
   },
   "outputs": [],
   "source": [
    "# add_dataset(\n",
    "#     labels=list(range(19)),\n",
    "#     domains = [0,1,2],\n",
    "#     num_examples_per_domain_per_label=100,\n",
    "#     pickle_path=os.path.join(get_datasets_base_path(), \"metehan.stratified_ds.2022A.pkl\"),\n",
    "#     source_or_target_dataset=\"target\",\n",
    "#     x_transform_func=global_x_transform_func,\n",
    "#     domain_modifier=lambda u: f\"met_{u}\"\n",
    "# )"
   ]
  },
  {
   "cell_type": "code",
   "execution_count": 18,
   "id": "86a863c3",
   "metadata": {
    "execution": {
     "iopub.execute_input": "2022-03-07T07:04:56.278892Z",
     "iopub.status.busy": "2022-03-07T07:04:56.278613Z",
     "iopub.status.idle": "2022-03-07T07:04:56.287290Z",
     "shell.execute_reply": "2022-03-07T07:04:56.287068Z"
    },
    "papermill": {
     "duration": 0.023873,
     "end_time": "2022-03-07T07:04:56.287344",
     "exception": false,
     "start_time": "2022-03-07T07:04:56.263471",
     "status": "completed"
    },
    "tags": []
   },
   "outputs": [],
   "source": [
    "# # from steves_utils.wisig.utils import (\n",
    "# #     ALL_NODES_MINIMUM_100_EXAMPLES,\n",
    "# #     ALL_NODES_MINIMUM_500_EXAMPLES,\n",
    "# #     ALL_NODES_MINIMUM_1000_EXAMPLES,\n",
    "# #     ALL_DAYS\n",
    "# # )\n",
    "\n",
    "# import steves_utils.wisig.utils as wisig\n",
    "\n",
    "\n",
    "# add_dataset(\n",
    "#     labels=wisig.ALL_NODES_MINIMUM_100_EXAMPLES,\n",
    "#     domains = wisig.ALL_DAYS,\n",
    "#     num_examples_per_domain_per_label=100,\n",
    "#     pickle_path=os.path.join(get_datasets_base_path(), \"wisig.node3-19.stratified_ds.2022A.pkl\"),\n",
    "#     source_or_target_dataset=\"target\",\n",
    "#     x_transform_func=global_x_transform_func,\n",
    "#     domain_modifier=lambda u: f\"wisig_{u}\"\n",
    "# )"
   ]
  },
  {
   "cell_type": "code",
   "execution_count": 19,
   "id": "fd5442bc",
   "metadata": {
    "execution": {
     "iopub.execute_input": "2022-03-07T07:04:56.321156Z",
     "iopub.status.busy": "2022-03-07T07:04:56.320876Z",
     "iopub.status.idle": "2022-03-07T07:04:56.330355Z",
     "shell.execute_reply": "2022-03-07T07:04:56.330564Z"
    },
    "papermill": {
     "duration": 0.026477,
     "end_time": "2022-03-07T07:04:56.330633",
     "exception": false,
     "start_time": "2022-03-07T07:04:56.304156",
     "status": "completed"
    },
    "tags": []
   },
   "outputs": [],
   "source": [
    "###################################\n",
    "# Build the dataset\n",
    "###################################\n",
    "train_original_source = Iterable_Aggregator(train_original_source, p.seed)\n",
    "val_original_source = Iterable_Aggregator(val_original_source, p.seed)\n",
    "test_original_source = Iterable_Aggregator(test_original_source, p.seed)\n",
    "\n",
    "\n",
    "train_original_target = Iterable_Aggregator(train_original_target, p.seed)\n",
    "val_original_target = Iterable_Aggregator(val_original_target, p.seed)\n",
    "test_original_target = Iterable_Aggregator(test_original_target, p.seed)\n",
    "\n",
    "# For CNN We only use X and Y. And we only train on the source.\n",
    "# Properly form the data using a transform lambda and Lazy_Iterable_Wrapper. Finally wrap them in a dataloader\n",
    "\n",
    "transform_lambda = lambda ex: ex[1] # Original is (<domain>, <episode>) so we strip down to episode only\n",
    "\n",
    "train_processed_source = Lazy_Iterable_Wrapper(train_original_source, transform_lambda)\n",
    "val_processed_source   = Lazy_Iterable_Wrapper(val_original_source, transform_lambda)\n",
    "test_processed_source  = Lazy_Iterable_Wrapper(test_original_source, transform_lambda)\n",
    "\n",
    "train_processed_target = Lazy_Iterable_Wrapper(train_original_target, transform_lambda)\n",
    "val_processed_target   = Lazy_Iterable_Wrapper(val_original_target, transform_lambda)\n",
    "test_processed_target  = Lazy_Iterable_Wrapper(test_original_target, transform_lambda)\n",
    "\n",
    "datasets = EasyDict({\n",
    "    \"source\": {\n",
    "        \"original\": {\"train\":train_original_source, \"val\":val_original_source, \"test\":test_original_source},\n",
    "        \"processed\": {\"train\":train_processed_source, \"val\":val_processed_source, \"test\":test_processed_source}\n",
    "    },\n",
    "    \"target\": {\n",
    "        \"original\": {\"train\":train_original_target, \"val\":val_original_target, \"test\":test_original_target},\n",
    "        \"processed\": {\"train\":train_processed_target, \"val\":val_processed_target, \"test\":test_processed_target}\n",
    "    },\n",
    "})"
   ]
  },
  {
   "cell_type": "code",
   "execution_count": 20,
   "id": "5b3c01fc",
   "metadata": {
    "execution": {
     "iopub.execute_input": "2022-03-07T07:04:56.365850Z",
     "iopub.status.busy": "2022-03-07T07:04:56.365580Z",
     "iopub.status.idle": "2022-03-07T07:05:00.952415Z",
     "shell.execute_reply": "2022-03-07T07:05:00.952942Z"
    },
    "papermill": {
     "duration": 4.604577,
     "end_time": "2022-03-07T07:05:00.953092",
     "exception": false,
     "start_time": "2022-03-07T07:04:56.348515",
     "status": "completed"
    },
    "tags": []
   },
   "outputs": [
    {
     "name": "stdout",
     "output_type": "stream",
     "text": [
      "{'ORACLE.run114', 'ORACLE.run138', 'ORACLE.run126', 'ORACLE.run150', 'ORACLE.run120', 'ORACLE.run18', 'ORACLE.run144', 'ORACLE.run132'}\n"
     ]
    },
    {
     "name": "stdout",
     "output_type": "stream",
     "text": [
      "{'Wisig_1', 'Wisig_2', 'Wisig_4', 'Wisig_3'}\n"
     ]
    },
    {
     "name": "stdout",
     "output_type": "stream",
     "text": [
      "tensor([[[-0.0924,  1.1552, -0.1109,  ..., -0.9518, -0.2588, -0.5545],\n",
      "         [-0.6376, -0.2957,  1.0535,  ...,  0.2403, -1.4139, -0.4713]],\n",
      "\n",
      "        [[-0.4449,  0.6767,  0.5469,  ..., -1.2421, -1.1679, -0.1112],\n",
      "         [-1.1216, -0.3152,  1.1030,  ...,  0.4078, -0.1483,  1.2050]],\n",
      "\n",
      "        [[ 0.6507, -0.3532, -0.7623,  ...,  0.7901,  1.3665,  0.3254],\n",
      "         [ 0.8273,  0.6786, -0.8831,  ..., -0.7530,  0.4648, -1.1527]],\n",
      "\n",
      "        ...,\n",
      "\n",
      "        [[ 0.9828, -0.2394, -1.1718,  ...,  0.6363,  0.9828, -0.6489],\n",
      "         [ 0.5544,  0.7119, -0.3717,  ..., -0.9702, -0.6111, -1.1214]],\n",
      "\n",
      "        [[ 0.0252, -0.9847,  0.2840,  ...,  0.8963,  0.4671,  1.0667],\n",
      "         [ 0.7890,  0.4229, -1.1298,  ..., -0.1199,  1.2624, -0.2272]],\n",
      "\n",
      "        [[ 0.4796,  0.3281, -0.7194,  ..., -0.4544,  1.2306,  1.0223],\n",
      "         [-0.4102,  1.1043, -0.0316,  ..., -1.0728, -0.0568, -0.2461]]])\n"
     ]
    }
   ],
   "source": [
    "from steves_utils.transforms import get_average_magnitude, get_average_power\n",
    "\n",
    "print(set([u for u,_ in val_original_source]))\n",
    "print(set([u for u,_ in val_original_target]))\n",
    "\n",
    "s_x, s_y, q_x, q_y, _ = next(iter(train_processed_source))\n",
    "print(s_x)\n",
    "\n",
    "# for ds in [\n",
    "#     train_processed_source,\n",
    "#     val_processed_source,\n",
    "#     test_processed_source,\n",
    "#     train_processed_target,\n",
    "#     val_processed_target,\n",
    "#     test_processed_target\n",
    "# ]:\n",
    "#     for s_x, s_y, q_x, q_y, _ in ds:\n",
    "#         for X in (s_x, q_x):\n",
    "#             for x in X:\n",
    "#                 assert np.isclose(get_average_magnitude(x.numpy()), 1.0)\n",
    "#                 assert np.isclose(get_average_power(x.numpy()), 1.0)\n",
    "                "
   ]
  },
  {
   "cell_type": "code",
   "execution_count": 21,
   "id": "bbdacba1",
   "metadata": {
    "execution": {
     "iopub.execute_input": "2022-03-07T07:05:00.992846Z",
     "iopub.status.busy": "2022-03-07T07:05:00.992582Z",
     "iopub.status.idle": "2022-03-07T07:05:01.049652Z",
     "shell.execute_reply": "2022-03-07T07:05:01.049199Z"
    },
    "papermill": {
     "duration": 0.075505,
     "end_time": "2022-03-07T07:05:01.049760",
     "exception": false,
     "start_time": "2022-03-07T07:05:00.974255",
     "status": "completed"
    },
    "tags": []
   },
   "outputs": [
    {
     "name": "stdout",
     "output_type": "stream",
     "text": [
      "(2, 256)\n"
     ]
    }
   ],
   "source": [
    "###################################\n",
    "# Build the model\n",
    "###################################\n",
    "model = Steves_Prototypical_Network(x_net, device=p.device, x_shape=(2,256))\n",
    "optimizer = Adam(params=model.parameters(), lr=p.lr)"
   ]
  },
  {
   "cell_type": "code",
   "execution_count": 22,
   "id": "22b39ac5",
   "metadata": {
    "execution": {
     "iopub.execute_input": "2022-03-07T07:05:01.087581Z",
     "iopub.status.busy": "2022-03-07T07:05:01.087323Z",
     "iopub.status.idle": "2022-03-07T07:23:12.086415Z",
     "shell.execute_reply": "2022-03-07T07:23:12.086185Z"
    },
    "papermill": {
     "duration": 1091.017215,
     "end_time": "2022-03-07T07:23:12.086473",
     "exception": false,
     "start_time": "2022-03-07T07:05:01.069258",
     "status": "completed"
    },
    "tags": []
   },
   "outputs": [
    {
     "name": "stdout",
     "output_type": "stream",
     "text": [
      "epoch: 1, [batch: 1 / 6720], examples_per_second: 50.4075, train_label_loss: 3.1675, \n"
     ]
    },
    {
     "name": "stdout",
     "output_type": "stream",
     "text": [
      "epoch: 1, [batch: 672 / 6720], examples_per_second: 3147.7934, train_label_loss: 1.4065, \n"
     ]
    },
    {
     "name": "stdout",
     "output_type": "stream",
     "text": [
      "epoch: 1, [batch: 1344 / 6720], examples_per_second: 3143.1063, train_label_loss: 0.7499, \n"
     ]
    },
    {
     "name": "stdout",
     "output_type": "stream",
     "text": [
      "epoch: 1, [batch: 2016 / 6720], examples_per_second: 3144.0768, train_label_loss: 0.7491, \n"
     ]
    },
    {
     "name": "stdout",
     "output_type": "stream",
     "text": [
      "epoch: 1, [batch: 2688 / 6720], examples_per_second: 3117.2023, train_label_loss: 0.9575, \n"
     ]
    },
    {
     "name": "stdout",
     "output_type": "stream",
     "text": [
      "epoch: 1, [batch: 3360 / 6720], examples_per_second: 3127.8767, train_label_loss: 0.8728, \n"
     ]
    },
    {
     "name": "stdout",
     "output_type": "stream",
     "text": [
      "epoch: 1, [batch: 4032 / 6720], examples_per_second: 3140.5189, train_label_loss: 0.7361, \n"
     ]
    },
    {
     "name": "stdout",
     "output_type": "stream",
     "text": [
      "epoch: 1, [batch: 4704 / 6720], examples_per_second: 3136.9673, train_label_loss: 0.4696, \n"
     ]
    },
    {
     "name": "stdout",
     "output_type": "stream",
     "text": [
      "epoch: 1, [batch: 5376 / 6720], examples_per_second: 3143.6488, train_label_loss: 0.8406, \n"
     ]
    },
    {
     "name": "stdout",
     "output_type": "stream",
     "text": [
      "epoch: 1, [batch: 6048 / 6720], examples_per_second: 3146.3289, train_label_loss: 0.5711, \n"
     ]
    },
    {
     "name": "stdout",
     "output_type": "stream",
     "text": [
      "=============================================================\n",
      "epoch: 1, source_val_acc_label: 0.6142, target_val_acc_label: 0.5513, source_val_label_loss: 24.2043, target_val_label_loss: 797.8840, \n",
      "=============================================================\n"
     ]
    },
    {
     "name": "stdout",
     "output_type": "stream",
     "text": [
      "New best\n"
     ]
    },
    {
     "name": "stdout",
     "output_type": "stream",
     "text": [
      "epoch: 2, [batch: 1 / 6720], examples_per_second: 5.6074, train_label_loss: 20.7856, \n"
     ]
    },
    {
     "name": "stdout",
     "output_type": "stream",
     "text": [
      "epoch: 2, [batch: 672 / 6720], examples_per_second: 3151.5686, train_label_loss: 0.4383, \n"
     ]
    },
    {
     "name": "stdout",
     "output_type": "stream",
     "text": [
      "epoch: 2, [batch: 1344 / 6720], examples_per_second: 3161.3386, train_label_loss: 0.3769, \n"
     ]
    },
    {
     "name": "stdout",
     "output_type": "stream",
     "text": [
      "epoch: 2, [batch: 2016 / 6720], examples_per_second: 3154.8721, train_label_loss: 1.0877, \n"
     ]
    },
    {
     "name": "stdout",
     "output_type": "stream",
     "text": [
      "epoch: 2, [batch: 2688 / 6720], examples_per_second: 3151.2757, train_label_loss: 0.8993, \n"
     ]
    },
    {
     "name": "stdout",
     "output_type": "stream",
     "text": [
      "epoch: 2, [batch: 3360 / 6720], examples_per_second: 3160.1492, train_label_loss: 0.4903, \n"
     ]
    },
    {
     "name": "stdout",
     "output_type": "stream",
     "text": [
      "epoch: 2, [batch: 4032 / 6720], examples_per_second: 3163.2456, train_label_loss: 1.0150, \n"
     ]
    },
    {
     "name": "stdout",
     "output_type": "stream",
     "text": [
      "epoch: 2, [batch: 4704 / 6720], examples_per_second: 3142.1836, train_label_loss: 0.6799, \n"
     ]
    },
    {
     "name": "stdout",
     "output_type": "stream",
     "text": [
      "epoch: 2, [batch: 5376 / 6720], examples_per_second: 3160.9687, train_label_loss: 0.6678, \n"
     ]
    },
    {
     "name": "stdout",
     "output_type": "stream",
     "text": [
      "epoch: 2, [batch: 6048 / 6720], examples_per_second: 3155.0045, train_label_loss: 0.3942, \n"
     ]
    },
    {
     "name": "stdout",
     "output_type": "stream",
     "text": [
      "=============================================================\n",
      "epoch: 2, source_val_acc_label: 0.7860, target_val_acc_label: 0.5876, source_val_label_loss: 0.5960, target_val_label_loss: 86.5792, \n",
      "=============================================================\n"
     ]
    },
    {
     "name": "stdout",
     "output_type": "stream",
     "text": [
      "New best\n"
     ]
    },
    {
     "name": "stdout",
     "output_type": "stream",
     "text": [
      "epoch: 3, [batch: 1 / 6720], examples_per_second: 5.6330, train_label_loss: 0.7477, \n"
     ]
    },
    {
     "name": "stdout",
     "output_type": "stream",
     "text": [
      "epoch: 3, [batch: 672 / 6720], examples_per_second: 3156.4071, train_label_loss: 0.3352, \n"
     ]
    },
    {
     "name": "stdout",
     "output_type": "stream",
     "text": [
      "epoch: 3, [batch: 1344 / 6720], examples_per_second: 3157.1213, train_label_loss: 0.4804, \n"
     ]
    },
    {
     "name": "stdout",
     "output_type": "stream",
     "text": [
      "epoch: 3, [batch: 2016 / 6720], examples_per_second: 3169.6020, train_label_loss: 0.2625, \n"
     ]
    },
    {
     "name": "stdout",
     "output_type": "stream",
     "text": [
      "epoch: 3, [batch: 2688 / 6720], examples_per_second: 3144.9969, train_label_loss: 0.4495, \n"
     ]
    },
    {
     "name": "stdout",
     "output_type": "stream",
     "text": [
      "epoch: 3, [batch: 3360 / 6720], examples_per_second: 3164.5929, train_label_loss: 0.9016, \n"
     ]
    },
    {
     "name": "stdout",
     "output_type": "stream",
     "text": [
      "epoch: 3, [batch: 4032 / 6720], examples_per_second: 3157.6079, train_label_loss: 0.7243, \n"
     ]
    },
    {
     "name": "stdout",
     "output_type": "stream",
     "text": [
      "epoch: 3, [batch: 4704 / 6720], examples_per_second: 3134.7330, train_label_loss: 0.3175, \n"
     ]
    },
    {
     "name": "stdout",
     "output_type": "stream",
     "text": [
      "epoch: 3, [batch: 5376 / 6720], examples_per_second: 3153.1822, train_label_loss: 0.4237, \n"
     ]
    },
    {
     "name": "stdout",
     "output_type": "stream",
     "text": [
      "epoch: 3, [batch: 6048 / 6720], examples_per_second: 3164.7770, train_label_loss: 0.1610, \n"
     ]
    },
    {
     "name": "stdout",
     "output_type": "stream",
     "text": [
      "=============================================================\n",
      "epoch: 3, source_val_acc_label: 0.8012, target_val_acc_label: 0.5970, source_val_label_loss: 0.5360, target_val_label_loss: 141.3764, \n",
      "=============================================================\n"
     ]
    },
    {
     "name": "stdout",
     "output_type": "stream",
     "text": [
      "epoch: 4, [batch: 1 / 6720], examples_per_second: 5.6222, train_label_loss: 0.4782, \n"
     ]
    },
    {
     "name": "stdout",
     "output_type": "stream",
     "text": [
      "epoch: 4, [batch: 672 / 6720], examples_per_second: 3145.1036, train_label_loss: 0.1952, \n"
     ]
    },
    {
     "name": "stdout",
     "output_type": "stream",
     "text": [
      "epoch: 4, [batch: 1344 / 6720], examples_per_second: 3164.8480, train_label_loss: 0.8422, \n"
     ]
    },
    {
     "name": "stdout",
     "output_type": "stream",
     "text": [
      "epoch: 4, [batch: 2016 / 6720], examples_per_second: 3159.0022, train_label_loss: 0.5839, \n"
     ]
    },
    {
     "name": "stdout",
     "output_type": "stream",
     "text": [
      "epoch: 4, [batch: 2688 / 6720], examples_per_second: 3151.4968, train_label_loss: 0.6447, \n"
     ]
    },
    {
     "name": "stdout",
     "output_type": "stream",
     "text": [
      "epoch: 4, [batch: 3360 / 6720], examples_per_second: 3169.4526, train_label_loss: 0.3687, \n"
     ]
    },
    {
     "name": "stdout",
     "output_type": "stream",
     "text": [
      "epoch: 4, [batch: 4032 / 6720], examples_per_second: 3166.6361, train_label_loss: 0.8057, \n"
     ]
    },
    {
     "name": "stdout",
     "output_type": "stream",
     "text": [
      "epoch: 4, [batch: 4704 / 6720], examples_per_second: 3161.6136, train_label_loss: 0.5208, \n"
     ]
    },
    {
     "name": "stdout",
     "output_type": "stream",
     "text": [
      "epoch: 4, [batch: 5376 / 6720], examples_per_second: 3170.2410, train_label_loss: 0.2590, \n"
     ]
    },
    {
     "name": "stdout",
     "output_type": "stream",
     "text": [
      "epoch: 4, [batch: 6048 / 6720], examples_per_second: 3156.2486, train_label_loss: 0.3403, \n"
     ]
    },
    {
     "name": "stdout",
     "output_type": "stream",
     "text": [
      "=============================================================\n",
      "epoch: 4, source_val_acc_label: 0.8319, target_val_acc_label: 0.6076, source_val_label_loss: 0.4810, target_val_label_loss: 148.0611, \n",
      "=============================================================\n"
     ]
    },
    {
     "name": "stdout",
     "output_type": "stream",
     "text": [
      "epoch: 5, [batch: 1 / 6720], examples_per_second: 5.6313, train_label_loss: 0.0865, \n"
     ]
    },
    {
     "name": "stdout",
     "output_type": "stream",
     "text": [
      "epoch: 5, [batch: 672 / 6720], examples_per_second: 3149.7324, train_label_loss: 0.2582, \n"
     ]
    },
    {
     "name": "stdout",
     "output_type": "stream",
     "text": [
      "epoch: 5, [batch: 1344 / 6720], examples_per_second: 3162.1177, train_label_loss: 0.7896, \n"
     ]
    },
    {
     "name": "stdout",
     "output_type": "stream",
     "text": [
      "epoch: 5, [batch: 2016 / 6720], examples_per_second: 3170.0000, train_label_loss: 0.6884, \n"
     ]
    },
    {
     "name": "stdout",
     "output_type": "stream",
     "text": [
      "epoch: 5, [batch: 2688 / 6720], examples_per_second: 3148.8351, train_label_loss: 0.3847, \n"
     ]
    },
    {
     "name": "stdout",
     "output_type": "stream",
     "text": [
      "epoch: 5, [batch: 3360 / 6720], examples_per_second: 3158.1438, train_label_loss: 0.1306, \n"
     ]
    },
    {
     "name": "stdout",
     "output_type": "stream",
     "text": [
      "epoch: 5, [batch: 4032 / 6720], examples_per_second: 3164.0480, train_label_loss: 0.4501, \n"
     ]
    },
    {
     "name": "stdout",
     "output_type": "stream",
     "text": [
      "epoch: 5, [batch: 4704 / 6720], examples_per_second: 3154.3298, train_label_loss: 0.2112, \n"
     ]
    },
    {
     "name": "stdout",
     "output_type": "stream",
     "text": [
      "epoch: 5, [batch: 5376 / 6720], examples_per_second: 3151.8885, train_label_loss: 0.5343, \n"
     ]
    },
    {
     "name": "stdout",
     "output_type": "stream",
     "text": [
      "epoch: 5, [batch: 6048 / 6720], examples_per_second: 3161.3918, train_label_loss: 0.3523, \n"
     ]
    },
    {
     "name": "stdout",
     "output_type": "stream",
     "text": [
      "=============================================================\n",
      "epoch: 5, source_val_acc_label: 0.8476, target_val_acc_label: 0.6016, source_val_label_loss: 0.4313, target_val_label_loss: 132.2246, \n",
      "=============================================================\n"
     ]
    },
    {
     "name": "stdout",
     "output_type": "stream",
     "text": [
      "epoch: 6, [batch: 1 / 6720], examples_per_second: 5.6233, train_label_loss: 0.3434, \n"
     ]
    },
    {
     "name": "stdout",
     "output_type": "stream",
     "text": [
      "epoch: 6, [batch: 672 / 6720], examples_per_second: 3148.5135, train_label_loss: 0.5088, \n"
     ]
    },
    {
     "name": "stdout",
     "output_type": "stream",
     "text": [
      "epoch: 6, [batch: 1344 / 6720], examples_per_second: 3160.9613, train_label_loss: 0.4333, \n"
     ]
    },
    {
     "name": "stdout",
     "output_type": "stream",
     "text": [
      "epoch: 6, [batch: 2016 / 6720], examples_per_second: 3163.4757, train_label_loss: 0.3748, \n"
     ]
    },
    {
     "name": "stdout",
     "output_type": "stream",
     "text": [
      "epoch: 6, [batch: 2688 / 6720], examples_per_second: 3155.5628, train_label_loss: 0.2833, \n"
     ]
    },
    {
     "name": "stdout",
     "output_type": "stream",
     "text": [
      "epoch: 6, [batch: 3360 / 6720], examples_per_second: 3167.0947, train_label_loss: 0.1162, \n"
     ]
    },
    {
     "name": "stdout",
     "output_type": "stream",
     "text": [
      "epoch: 6, [batch: 4032 / 6720], examples_per_second: 3160.8239, train_label_loss: 0.4465, \n"
     ]
    },
    {
     "name": "stdout",
     "output_type": "stream",
     "text": [
      "epoch: 6, [batch: 4704 / 6720], examples_per_second: 3146.6457, train_label_loss: 0.3257, \n"
     ]
    },
    {
     "name": "stdout",
     "output_type": "stream",
     "text": [
      "epoch: 6, [batch: 5376 / 6720], examples_per_second: 3146.2985, train_label_loss: 0.4000, \n"
     ]
    },
    {
     "name": "stdout",
     "output_type": "stream",
     "text": [
      "epoch: 6, [batch: 6048 / 6720], examples_per_second: 3146.8181, train_label_loss: 0.1514, \n"
     ]
    },
    {
     "name": "stdout",
     "output_type": "stream",
     "text": [
      "=============================================================\n",
      "epoch: 6, source_val_acc_label: 0.8700, target_val_acc_label: 0.6185, source_val_label_loss: 0.3782, target_val_label_loss: 98.8003, \n",
      "=============================================================\n"
     ]
    },
    {
     "name": "stdout",
     "output_type": "stream",
     "text": [
      "Patience (3) exhausted\n"
     ]
    }
   ],
   "source": [
    "###################################\n",
    "# train\n",
    "###################################\n",
    "jig = PTN_Train_Eval_Test_Jig(model, p.BEST_MODEL_PATH, p.device)\n",
    "\n",
    "jig.train(\n",
    "    train_iterable=datasets.source.processed.train,\n",
    "    source_val_iterable=datasets.source.processed.val,\n",
    "    target_val_iterable=datasets.target.processed.val,\n",
    "    num_epochs=p.n_epoch,\n",
    "    num_logs_per_epoch=p.NUM_LOGS_PER_EPOCH,\n",
    "    patience=p.patience,\n",
    "    optimizer=optimizer,\n",
    "    criteria_for_best=p.criteria_for_best,\n",
    ")"
   ]
  },
  {
   "cell_type": "code",
   "execution_count": 23,
   "id": "31e8fabf",
   "metadata": {
    "execution": {
     "iopub.execute_input": "2022-03-07T07:23:12.143455Z",
     "iopub.status.busy": "2022-03-07T07:23:12.142566Z",
     "iopub.status.idle": "2022-03-07T07:23:12.159510Z",
     "shell.execute_reply": "2022-03-07T07:23:12.159051Z"
    },
    "papermill": {
     "duration": 0.046702,
     "end_time": "2022-03-07T07:23:12.159616",
     "exception": false,
     "start_time": "2022-03-07T07:23:12.112914",
     "status": "completed"
    },
    "tags": []
   },
   "outputs": [],
   "source": [
    "total_experiment_time_secs = time.time() - start_time_secs"
   ]
  },
  {
   "cell_type": "code",
   "execution_count": 24,
   "id": "87b9595b",
   "metadata": {
    "execution": {
     "iopub.execute_input": "2022-03-07T07:23:12.222459Z",
     "iopub.status.busy": "2022-03-07T07:23:12.222184Z",
     "iopub.status.idle": "2022-03-07T07:24:11.687893Z",
     "shell.execute_reply": "2022-03-07T07:24:11.688298Z"
    },
    "papermill": {
     "duration": 59.496304,
     "end_time": "2022-03-07T07:24:11.688441",
     "exception": false,
     "start_time": "2022-03-07T07:23:12.192137",
     "status": "completed"
    },
    "tags": []
   },
   "outputs": [],
   "source": [
    "###################################\n",
    "# Evaluate the model\n",
    "###################################\n",
    "source_test_label_accuracy, source_test_label_loss = jig.test(datasets.source.processed.test)\n",
    "target_test_label_accuracy, target_test_label_loss = jig.test(datasets.target.processed.test)\n",
    "\n",
    "source_val_label_accuracy, source_val_label_loss = jig.test(datasets.source.processed.val)\n",
    "target_val_label_accuracy, target_val_label_loss = jig.test(datasets.target.processed.val)\n",
    "\n",
    "history = jig.get_history()\n",
    "\n",
    "total_epochs_trained = len(history[\"epoch_indices\"])\n",
    "\n",
    "val_dl = Iterable_Aggregator((datasets.source.original.val,datasets.target.original.val))\n",
    "\n",
    "confusion = ptn_confusion_by_domain_over_dataloader(model, p.device, val_dl)\n",
    "per_domain_accuracy = per_domain_accuracy_from_confusion(confusion)\n",
    "\n",
    "# Add a key to per_domain_accuracy for if it was a source domain\n",
    "for domain, accuracy in per_domain_accuracy.items():\n",
    "    per_domain_accuracy[domain] = {\n",
    "        \"accuracy\": accuracy,\n",
    "        \"source?\": domain in p.domains_source\n",
    "    }\n",
    "\n",
    "# Do an independent accuracy assesment JUST TO BE SURE!\n",
    "# _source_test_label_accuracy = independent_accuracy_assesment(model, datasets.source.processed.test, p.device)\n",
    "# _target_test_label_accuracy = independent_accuracy_assesment(model, datasets.target.processed.test, p.device)\n",
    "# _source_val_label_accuracy = independent_accuracy_assesment(model, datasets.source.processed.val, p.device)\n",
    "# _target_val_label_accuracy = independent_accuracy_assesment(model, datasets.target.processed.val, p.device)\n",
    "\n",
    "# assert(_source_test_label_accuracy == source_test_label_accuracy)\n",
    "# assert(_target_test_label_accuracy == target_test_label_accuracy)\n",
    "# assert(_source_val_label_accuracy == source_val_label_accuracy)\n",
    "# assert(_target_val_label_accuracy == target_val_label_accuracy)\n",
    "\n",
    "experiment = {\n",
    "    \"experiment_name\": p.experiment_name,\n",
    "    \"parameters\": dict(p),\n",
    "    \"results\": {\n",
    "        \"source_test_label_accuracy\": source_test_label_accuracy,\n",
    "        \"source_test_label_loss\": source_test_label_loss,\n",
    "        \"target_test_label_accuracy\": target_test_label_accuracy,\n",
    "        \"target_test_label_loss\": target_test_label_loss,\n",
    "        \"source_val_label_accuracy\": source_val_label_accuracy,\n",
    "        \"source_val_label_loss\": source_val_label_loss,\n",
    "        \"target_val_label_accuracy\": target_val_label_accuracy,\n",
    "        \"target_val_label_loss\": target_val_label_loss,\n",
    "        \"total_epochs_trained\": total_epochs_trained,\n",
    "        \"total_experiment_time_secs\": total_experiment_time_secs,\n",
    "        \"confusion\": confusion,\n",
    "        \"per_domain_accuracy\": per_domain_accuracy,\n",
    "    },\n",
    "    \"history\": history,\n",
    "    \"dataset_metrics\": get_dataset_metrics(datasets, \"ptn\"),\n",
    "}"
   ]
  },
  {
   "cell_type": "code",
   "execution_count": 25,
   "id": "54a21829",
   "metadata": {
    "execution": {
     "iopub.execute_input": "2022-03-07T07:24:11.750033Z",
     "iopub.status.busy": "2022-03-07T07:24:11.749772Z",
     "iopub.status.idle": "2022-03-07T07:24:11.925806Z",
     "shell.execute_reply": "2022-03-07T07:24:11.925348Z"
    },
    "papermill": {
     "duration": 0.205027,
     "end_time": "2022-03-07T07:24:11.925901",
     "exception": false,
     "start_time": "2022-03-07T07:24:11.720874",
     "status": "completed"
    },
    "tags": []
   },
   "outputs": [
    {
     "data": {
      "image/png": "[encoded data removed]",
      "text/plain": [
       "<Figure size 1080x504 with 1 Axes>"
      ]
     },
     "metadata": {
      "needs_background": "light"
     },
     "output_type": "display_data"
    }
   ],
   "source": [
    "ax = get_loss_curve(experiment)\n",
    "plt.show()"
   ]
  },
  {
   "cell_type": "code",
   "execution_count": 26,
   "id": "fd8a0f60",
   "metadata": {
    "execution": {
     "iopub.execute_input": "2022-03-07T07:24:11.987457Z",
     "iopub.status.busy": "2022-03-07T07:24:11.987204Z",
     "iopub.status.idle": "2022-03-07T07:24:12.165220Z",
     "shell.execute_reply": "2022-03-07T07:24:12.165633Z"
    },
    "papermill": {
     "duration": 0.208297,
     "end_time": "2022-03-07T07:24:12.165758",
     "exception": false,
     "start_time": "2022-03-07T07:24:11.957461",
     "status": "completed"
    },
    "tags": []
   },
   "outputs": [
    {
     "data": {
      "text/plain": [
       "<matplotlib.axes._subplots.AxesSubplot at 0x7f200a9c4640>"
      ]
     },
     "execution_count": 26,
     "metadata": {},
     "output_type": "execute_result"
    },
    {
     "data": {
      "image/png": "[encoded data removed]",
      "text/plain": [
       "<Figure size 1080x504 with 1 Axes>"
      ]
     },
     "metadata": {
      "needs_background": "light"
     },
     "output_type": "display_data"
    }
   ],
   "source": [
    "get_results_table(experiment)"
   ]
  },
  {
   "cell_type": "code",
   "execution_count": 27,
   "id": "cf8dc689",
   "metadata": {
    "execution": {
     "iopub.execute_input": "2022-03-07T07:24:12.232661Z",
     "iopub.status.busy": "2022-03-07T07:24:12.232408Z",
     "iopub.status.idle": "2022-03-07T07:24:12.430445Z",
     "shell.execute_reply": "2022-03-07T07:24:12.430029Z"
    },
    "papermill": {
     "duration": 0.22861,
     "end_time": "2022-03-07T07:24:12.430549",
     "exception": false,
     "start_time": "2022-03-07T07:24:12.201939",
     "status": "completed"
    },
    "tags": []
   },
   "outputs": [
    {
     "data": {
      "text/plain": [
       "<matplotlib.axes._subplots.AxesSubplot at 0x7f200a15f160>"
      ]
     },
     "execution_count": 27,
     "metadata": {},
     "output_type": "execute_result"
    },
    {
     "data": {
      "image/png": "[encoded data removed]",
      "text/plain": [
       "<Figure size 1080x504 with 1 Axes>"
      ]
     },
     "metadata": {
      "needs_background": "light"
     },
     "output_type": "display_data"
    }
   ],
   "source": [
    "get_domain_accuracies(experiment)"
   ]
  },
  {
   "cell_type": "code",
   "execution_count": 28,
   "id": "a74ae082",
   "metadata": {
    "execution": {
     "iopub.execute_input": "2022-03-07T07:24:12.498712Z",
     "iopub.status.busy": "2022-03-07T07:24:12.498454Z",
     "iopub.status.idle": "2022-03-07T07:24:12.512623Z",
     "shell.execute_reply": "2022-03-07T07:24:12.512271Z"
    },
    "papermill": {
     "duration": 0.04602,
     "end_time": "2022-03-07T07:24:12.512696",
     "exception": false,
     "start_time": "2022-03-07T07:24:12.466676",
     "status": "completed"
    },
    "tags": []
   },
   "outputs": [
    {
     "name": "stdout",
     "output_type": "stream",
     "text": [
      "Source Test Label Accuracy: 0.7921549479166666 Target Test Label Accuracy: 0.599609375\n",
      "Source Val Label Accuracy: 0.7860026041666667 Target Val Label Accuracy: 0.5875651041666666\n"
     ]
    }
   ],
   "source": [
    "print(\"Source Test Label Accuracy:\", experiment[\"results\"][\"source_test_label_accuracy\"], \"Target Test Label Accuracy:\", experiment[\"results\"][\"target_test_label_accuracy\"])\n",
    "print(\"Source Val Label Accuracy:\", experiment[\"results\"][\"source_val_label_accuracy\"], \"Target Val Label Accuracy:\", experiment[\"results\"][\"target_val_label_accuracy\"])"
   ]
  },
  {
   "cell_type": "code",
   "execution_count": 29,
   "id": "dacca602",
   "metadata": {
    "execution": {
     "iopub.execute_input": "2022-03-07T07:24:12.580533Z",
     "iopub.status.busy": "2022-03-07T07:24:12.580273Z",
     "iopub.status.idle": "2022-03-07T07:24:12.594781Z",
     "shell.execute_reply": "2022-03-07T07:24:12.595158Z"
    },
    "papermill": {
     "duration": 0.048191,
     "end_time": "2022-03-07T07:24:12.595270",
     "exception": false,
     "start_time": "2022-03-07T07:24:12.547079",
     "status": "completed"
    },
    "tags": [
     "experiment_json"
    ]
   },
   "outputs": [
    {
     "data": {
      "text/plain": [
       "'{\"experiment_name\": \"tl_1_wisig-oracle.run1\", \"parameters\": {\"experiment_name\": \"tl_1_wisig-oracle.run1\", \"device\": \"cuda\", \"lr\": 0.001, \"seed\": 1337, \"dataset_seed\": 1337, \"n_shot\": 3, \"n_query\": 2, \"train_k_factor\": 3, \"val_k_factor\": 2, \"test_k_factor\": 2, \"torch_default_dtype\": \"torch.float32\", \"n_epoch\": 50, \"patience\": 3, \"criteria_for_best\": \"target_loss\", \"x_net\": [{\"class\": \"nnReshape\", \"kargs\": {\"shape\": [-1, 1, 2, 256]}}, {\"class\": \"Conv2d\", \"kargs\": {\"in_channels\": 1, \"out_channels\": 256, \"kernel_size\": [1, 7], \"bias\": false, \"padding\": [0, 3]}}, {\"class\": \"ReLU\", \"kargs\": {\"inplace\": true}}, {\"class\": \"BatchNorm2d\", \"kargs\": {\"num_features\": 256}}, {\"class\": \"Conv2d\", \"kargs\": {\"in_channels\": 256, \"out_channels\": 80, \"kernel_size\": [2, 7], \"bias\": true, \"padding\": [0, 3]}}, {\"class\": \"ReLU\", \"kargs\": {\"inplace\": true}}, {\"class\": \"BatchNorm2d\", \"kargs\": {\"num_features\": 80}}, {\"class\": \"Flatten\", \"kargs\": {}}, {\"class\": \"Linear\", \"kargs\": {\"in_features\": 20480, \"out_features\": 256}}, {\"class\": \"ReLU\", \"kargs\": {\"inplace\": true}}, {\"class\": \"BatchNorm1d\", \"kargs\": {\"num_features\": 256}}, {\"class\": \"Linear\", \"kargs\": {\"in_features\": 256, \"out_features\": 256}}], \"NUM_LOGS_PER_EPOCH\": 10, \"BEST_MODEL_PATH\": \"./best_model.pth\", \"n_way\": 16, \"datasets\": [{\"labels\": [\"1-10\", \"1-12\", \"1-14\", \"1-16\", \"1-18\", \"1-19\", \"1-8\", \"10-11\", \"10-17\", \"10-4\", \"10-7\", \"11-1\", \"11-10\", \"11-19\", \"11-20\", \"11-4\", \"11-7\", \"12-19\", \"12-20\", \"12-7\", \"13-14\", \"13-18\", \"13-19\", \"13-20\", \"13-3\", \"13-7\", \"14-10\", \"14-11\", \"14-12\", \"14-13\", \"14-14\", \"14-19\", \"14-20\", \"14-7\", \"14-8\", \"14-9\", \"15-1\", \"15-19\", \"15-6\", \"16-1\", \"16-16\", \"16-19\", \"16-20\", \"17-10\", \"17-11\", \"18-1\", \"18-10\", \"18-11\", \"18-12\", \"18-13\", \"18-14\", \"18-15\", \"18-16\", \"18-17\", \"18-19\", \"18-2\", \"18-20\", \"18-4\", \"18-5\", \"18-7\", \"18-8\", \"18-9\", \"19-1\", \"19-10\", \"19-11\", \"19-12\", \"19-13\", \"19-14\", \"19-15\", \"19-19\", \"19-2\", \"19-20\", \"19-3\", \"19-4\", \"19-6\", \"19-7\", \"19-8\", \"19-9\", \"2-1\", \"2-13\", \"2-15\", \"2-3\", \"2-4\", \"2-5\", \"2-6\", \"2-7\", \"2-8\", \"20-1\", \"20-12\", \"20-14\", \"20-15\", \"20-16\", \"20-18\", \"20-19\", \"20-20\", \"20-3\", \"20-4\", \"20-5\", \"20-7\", \"20-8\", \"3-1\", \"3-13\", \"3-18\", \"3-2\", \"3-8\", \"4-1\", \"4-10\", \"4-11\", \"5-1\", \"5-5\", \"6-1\", \"6-15\", \"6-6\", \"7-10\", \"7-11\", \"7-12\", \"7-13\", \"7-14\", \"7-7\", \"7-8\", \"7-9\", \"8-1\", \"8-13\", \"8-14\", \"8-18\", \"8-20\", \"8-3\", \"8-8\", \"9-1\", \"9-7\"], \"domains\": [1, 2, 3, 4], \"num_examples_per_domain_per_label\": 100, \"pickle_path\": \"/mnt/wd500GB/CSC500/csc500-main/datasets/wisig.node3-19.stratified_ds.2022A.pkl\", \"source_or_target_dataset\": \"target\", \"x_transforms\": [\"unit_power\"], \"episode_transforms\": [], \"domain_prefix\": \"Wisig_\"}, {\"labels\": [\"3123D52\", \"3123D65\", \"3123D79\", \"3123D80\", \"3123D54\", \"3123D70\", \"3123D7B\", \"3123D89\", \"3123D58\", \"3123D76\", \"3123D7D\", \"3123EFE\", \"3123D64\", \"3123D78\", \"3123D7E\", \"3124E4A\"], \"domains\": [32, 38, 8, 44, 14, 50, 20, 26], \"num_examples_per_domain_per_label\": 2000, \"pickle_path\": \"/mnt/wd500GB/CSC500/csc500-main/datasets/oracle.Run1_framed_2000Examples_stratified_ds.2022A.pkl\", \"source_or_target_dataset\": \"source\", \"x_transforms\": [\"unit_power\"], \"episode_transforms\": [], \"domain_prefix\": \"ORACLE.run1\"}], \"domains_source\": [\"ORACLE.run132\", \"ORACLE.run138\", \"ORACLE.run18\", \"ORACLE.run144\", \"ORACLE.run114\", \"ORACLE.run150\", \"ORACLE.run120\", \"ORACLE.run126\"], \"domains_target\": [\"Wisig_1\", \"Wisig_2\", \"Wisig_3\", \"Wisig_4\"]}, \"results\": {\"source_test_label_accuracy\": 0.7921549479166666, \"source_test_label_loss\": 0.5932468175888062, \"target_test_label_accuracy\": 0.599609375, \"target_test_label_loss\": 91.74127197265625, \"source_val_label_accuracy\": 0.7860026041666667, \"source_val_label_loss\": 0.5960138440132141, \"target_val_label_accuracy\": 0.5875651041666666, \"target_val_label_loss\": 86.57923889160156, \"total_epochs_trained\": 6, \"total_experiment_time_secs\": 1115.7133309841156, \"confusion\": {\"ORACLE.run114\": {\"15\": {\"15\": 240}, \"3\": {\"3\": 232, \"2\": 4, \"14\": 2, \"5\": 1, \"4\": 1}, \"6\": {\"6\": 176, \"13\": 62, \"2\": 2}, \"1\": {\"1\": 228, \"5\": 11, \"4\": 1}, \"8\": {\"8\": 240}, \"10\": {\"10\": 240}, \"9\": {\"9\": 240}, \"13\": {\"14\": 39, \"13\": 106, \"2\": 16, \"6\": 75, \"4\": 1, \"5\": 3}, \"12\": {\"12\": 239, \"9\": 1}, \"5\": {\"5\": 168, \"4\": 40, \"1\": 23, \"3\": 5, \"2\": 4}, \"0\": {\"0\": 235, \"10\": 1, \"3\": 4}, \"2\": {\"2\": 128, \"6\": 19, \"3\": 12, \"5\": 30, \"14\": 44, \"13\": 5, \"15\": 1, \"4\": 1}, \"11\": {\"11\": 232, \"9\": 7, \"0\": 1}, \"14\": {\"14\": 209, \"2\": 19, \"13\": 8, \"3\": 4}, \"7\": {\"7\": 240}, \"4\": {\"4\": 223, \"5\": 16, \"3\": 1}}, \"ORACLE.run120\": {\"3\": {\"3\": 145, \"1\": 5, \"12\": 48, \"9\": 24, \"2\": 13, \"10\": 1, \"7\": 3, \"4\": 1}, \"15\": {\"5\": 28, \"13\": 10, \"15\": 169, \"0\": 22, \"12\": 2, \"1\": 8, \"2\": 1}, \"8\": {\"8\": 221, \"4\": 18, \"7\": 1}, \"4\": {\"4\": 217, \"8\": 16, \"12\": 2, \"3\": 4, \"14\": 1}, \"14\": {\"14\": 213, \"6\": 22, \"10\": 4, \"8\": 1}, \"0\": {\"5\": 50, \"15\": 18, \"0\": 171, \"1\": 1}, \"7\": {\"7\": 210, \"3\": 3, \"2\": 20, \"9\": 5, \"12\": 1, \"8\": 1}, \"6\": {\"6\": 225, \"14\": 15}, \"10\": {\"10\": 240}, \"5\": {\"5\": 183, \"0\": 28, \"15\": 15, \"1\": 8, \"12\": 5, \"7\": 1}, \"2\": {\"2\": 147, \"9\": 52, \"1\": 5, \"15\": 1, \"12\": 12, \"7\": 15, \"3\": 5, \"13\": 3}, \"12\": {\"12\": 132, \"3\": 35, \"2\": 12, \"1\": 46, \"5\": 7, \"9\": 8}, \"9\": {\"9\": 153, \"2\": 41, \"12\": 14, \"3\": 26, \"7\": 4, \"1\": 2}, \"1\": {\"1\": 160, \"12\": 52, \"5\": 18, \"15\": 7, \"2\": 2, \"3\": 1}, \"11\": {\"11\": 240}, \"13\": {\"13\": 235, \"15\": 2, \"2\": 2, \"1\": 1}}, \"ORACLE.run138\": {\"5\": {\"8\": 48, \"5\": 119, \"7\": 29, \"0\": 6, \"1\": 4, \"15\": 10, \"6\": 18, \"9\": 3, \"13\": 1, \"10\": 2}, \"8\": {\"8\": 167, \"7\": 8, \"0\": 28, \"15\": 8, \"5\": 19, \"10\": 10}, \"11\": {\"11\": 144, \"14\": 84, \"10\": 6, \"4\": 3, \"2\": 2, \"0\": 1}, \"1\": {\"1\": 230, \"15\": 8, \"5\": 2}, \"10\": {\"10\": 195, \"8\": 14, \"7\": 6, \"13\": 13, \"5\": 3, \"15\": 4, \"14\": 1, \"2\": 1, \"11\": 1, \"0\": 2}, \"15\": {\"15\": 155, \"8\": 6, \"13\": 59, \"1\": 17, \"10\": 1, \"5\": 2}, \"3\": {\"3\": 223, \"9\": 8, \"6\": 3, \"7\": 3, \"0\": 1, \"8\": 1, \"5\": 1}, \"7\": {\"7\": 213, \"0\": 10, \"5\": 7, \"8\": 10}, \"4\": {\"4\": 239, \"12\": 1}, \"14\": {\"14\": 190, \"11\": 38, \"2\": 12}, \"9\": {\"9\": 184, \"6\": 53, \"3\": 3}, \"12\": {\"12\": 239, \"4\": 1}, \"6\": {\"6\": 212, \"9\": 26, \"3\": 1, \"5\": 1}, \"2\": {\"2\": 222, \"14\": 13, \"13\": 4, \"15\": 1}, \"0\": {\"8\": 72, \"0\": 116, \"7\": 19, \"3\": 12, \"9\": 1, \"11\": 2, \"5\": 6, \"15\": 1, \"10\": 4, \"12\": 1, \"6\": 2, \"13\": 2, \"1\": 1, \"4\": 1}, \"13\": {\"13\": 161, \"15\": 60, \"2\": 4, \"8\": 4, \"10\": 6, \"1\": 3, \"5\": 1, \"14\": 1}}, \"ORACLE.run18\": {\"9\": {\"9\": 240}, \"10\": {\"10\": 172, \"13\": 20, \"14\": 38, \"4\": 9, \"5\": 1}, \"13\": {\"13\": 98, \"14\": 8, \"0\": 57, \"6\": 17, \"4\": 32, \"10\": 28}, \"0\": {\"13\": 55, \"0\": 151, \"7\": 17, \"4\": 6, \"6\": 5, \"10\": 5, \"14\": 1}, \"1\": {\"1\": 228, \"11\": 9, \"5\": 1, \"14\": 2}, \"15\": {\"15\": 190, \"12\": 41, \"8\": 9}, \"5\": {\"5\": 211, \"1\": 9, \"10\": 9, \"14\": 11}, \"3\": {\"3\": 235, \"2\": 4, \"12\": 1}, \"6\": {\"6\": 171, \"7\": 45, \"0\": 3, \"4\": 16, \"13\": 5}, \"11\": {\"11\": 222, \"5\": 3, \"1\": 15}, \"8\": {\"8\": 232, \"15\": 8}, \"4\": {\"4\": 159, \"6\": 25, \"13\": 24, \"14\": 23, \"10\": 7, \"0\": 2}, \"12\": {\"12\": 133, \"15\": 79, \"8\": 5, \"3\": 21, \"2\": 2}, \"14\": {\"14\": 150, \"10\": 44, \"1\": 15, \"4\": 25, \"13\": 5, \"5\": 1}, \"2\": {\"15\": 3, \"2\": 215, \"3\": 13, \"7\": 7, \"12\": 2}, \"7\": {\"7\": 174, \"6\": 61, \"13\": 2, \"4\": 2, \"0\": 1}}, \"ORACLE.run150\": {\"7\": {\"7\": 182, \"13\": 43, \"5\": 5, \"10\": 10}, \"3\": {\"3\": 235, \"8\": 5}, \"8\": {\"8\": 235, \"10\": 5}, \"2\": {\"2\": 224, \"0\": 16}, \"14\": {\"14\": 239, \"11\": 1}, \"4\": {\"15\": 31, \"4\": 114, \"1\": 56, \"5\": 31, \"13\": 5, \"6\": 2, \"7\": 1}, \"6\": {\"6\": 207, \"13\": 18, \"1\": 8, \"7\": 1, \"15\": 2, \"4\": 2, \"5\": 2}, \"15\": {\"15\": 174, \"1\": 39, \"6\": 1, \"4\": 20, \"11\": 5, \"5\": 1}, \"10\": {\"10\": 228, \"13\": 4, \"0\": 3, \"7\": 2, \"8\": 3}, \"11\": {\"11\": 234, \"15\": 3, \"12\": 3}, \"13\": {\"7\": 29, \"13\": 172, \"5\": 20, \"6\": 14, \"10\": 4, \"0\": 1}, \"9\": {\"9\": 220, \"12\": 7, \"11\": 13}, \"0\": {\"2\": 28, \"10\": 11, \"0\": 201}, \"1\": {\"4\": 31, \"1\": 158, \"15\": 33, \"6\": 13, \"0\": 1, \"5\": 3, \"11\": 1}, \"12\": {\"12\": 234, \"9\": 3, \"14\": 2, \"11\": 1}, \"5\": {\"5\": 116, \"4\": 38, \"7\": 15, \"13\": 48, \"1\": 22, \"6\": 1}}, \"ORACLE.run132\": {\"8\": {\"8\": 206, \"0\": 16, \"5\": 3, \"13\": 11, \"3\": 4}, \"14\": {\"11\": 85, \"14\": 120, \"7\": 19, \"0\": 13, \"3\": 2, \"5\": 1}, \"2\": {\"2\": 199, \"4\": 39, \"7\": 2}, \"0\": {\"0\": 204, \"13\": 5, \"14\": 9, \"8\": 19, \"7\": 2, \"5\": 1}, \"1\": {\"1\": 237, \"10\": 3}, \"10\": {\"10\": 240}, \"11\": {\"11\": 182, \"14\": 55, \"7\": 3}, \"5\": {\"5\": 91, \"11\": 7, \"7\": 41, \"3\": 14, \"13\": 52, \"4\": 27, \"0\": 1, \"8\": 3, \"2\": 1, \"14\": 3}, \"15\": {\"15\": 240}, \"3\": {\"3\": 234, \"13\": 5, \"5\": 1}, \"12\": {\"12\": 240}, \"7\": {\"7\": 176, \"5\": 22, \"11\": 4, \"4\": 25, \"0\": 2, \"13\": 7, \"8\": 1, \"2\": 2, \"14\": 1}, \"13\": {\"13\": 144, \"8\": 8, \"5\": 52, \"7\": 10, \"0\": 2, \"3\": 8, \"11\": 2, \"4\": 13, \"14\": 1}, \"6\": {\"6\": 240}, \"4\": {\"4\": 182, \"5\": 6, \"2\": 37, \"7\": 14, \"13\": 1}, \"9\": {\"9\": 239, \"12\": 1}}, \"ORACLE.run126\": {\"4\": {\"14\": 61, \"4\": 136, \"0\": 16, \"7\": 11, \"1\": 6, \"8\": 8, \"10\": 2}, \"12\": {\"12\": 240}, \"10\": {\"0\": 72, \"10\": 120, \"15\": 2, \"8\": 27, \"14\": 8, \"4\": 5, \"6\": 2, \"9\": 4}, \"0\": {\"0\": 84, \"10\": 69, \"14\": 27, \"8\": 34, \"4\": 18, \"6\": 2, \"7\": 4, \"2\": 1, \"9\": 1}, \"13\": {\"13\": 155, \"15\": 22, \"5\": 51, \"2\": 4, \"9\": 8}, \"9\": {\"9\": 143, \"6\": 23, \"15\": 69, \"10\": 2, \"13\": 2, \"8\": 1}, \"3\": {\"3\": 184, \"2\": 36, \"1\": 1, \"7\": 18, \"8\": 1}, \"2\": {\"2\": 105, \"7\": 32, \"3\": 67, \"8\": 6, \"5\": 23, \"9\": 1, \"15\": 5, \"4\": 1}, \"5\": {\"2\": 11, \"5\": 192, \"13\": 23, \"9\": 4, \"8\": 2, \"15\": 5, \"7\": 2, \"3\": 1}, \"14\": {\"4\": 72, \"1\": 11, \"14\": 106, \"10\": 17, \"0\": 26, \"8\": 6, \"7\": 1, \"6\": 1}, \"8\": {\"8\": 127, \"7\": 24, \"0\": 21, \"4\": 13, \"9\": 3, \"10\": 37, \"14\": 7, \"5\": 1, \"15\": 7}, \"7\": {\"7\": 165, \"8\": 14, \"2\": 24, \"15\": 1, \"3\": 20, \"4\": 14, \"14\": 1, \"10\": 1}, \"6\": {\"6\": 212, \"9\": 18, \"15\": 8, \"10\": 2}, \"11\": {\"11\": 240}, \"15\": {\"15\": 139, \"6\": 3, \"9\": 57, \"5\": 6, \"8\": 15, \"13\": 14, \"2\": 3, \"10\": 3}, \"1\": {\"1\": 205, \"14\": 16, \"4\": 16, \"10\": 2, \"7\": 1}}, \"ORACLE.run144\": {\"12\": {\"12\": 176, \"1\": 43, \"10\": 20, \"3\": 1}, \"7\": {\"7\": 167, \"2\": 29, \"9\": 37, \"13\": 2, \"6\": 5}, \"5\": {\"5\": 198, \"14\": 7, \"0\": 23, \"15\": 8, \"8\": 4}, \"15\": {\"15\": 213, \"14\": 10, \"0\": 14, \"5\": 2, \"8\": 1}, \"8\": {\"0\": 86, \"8\": 144, \"5\": 1, \"15\": 9}, \"2\": {\"2\": 192, \"7\": 32, \"10\": 4, \"1\": 9, \"3\": 2, \"12\": 1}, \"13\": {\"13\": 155, \"6\": 43, \"9\": 34, \"7\": 5, \"4\": 1, \"11\": 2}, \"4\": {\"4\": 173, \"14\": 67}, \"0\": {\"0\": 151, \"8\": 69, \"5\": 15, \"15\": 5}, \"6\": {\"9\": 21, \"6\": 186, \"13\": 30, \"7\": 3}, \"9\": {\"13\": 33, \"9\": 147, \"7\": 44, \"6\": 14, \"3\": 1, \"2\": 1}, \"11\": {\"11\": 225, \"13\": 10, \"6\": 5}, \"10\": {\"1\": 14, \"10\": 181, \"12\": 34, \"2\": 11}, \"14\": {\"14\": 147, \"4\": 76, \"15\": 13, \"0\": 1, \"5\": 3}, \"1\": {\"3\": 17, \"1\": 138, \"10\": 15, \"12\": 63, \"2\": 7}, \"3\": {\"3\": 226, \"1\": 12, \"12\": 1, \"2\": 1}}, \"Wisig_3\": {\"109\": {\"109\": 5, \"33\": 3, \"89\": 1, \"26\": 1, \"29\": 1, \"119\": 1}, \"127\": {\"127\": 10, \"124\": 2}, \"14\": {\"14\": 6, \"107\": 1, \"45\": 2, \"20\": 2, \"115\": 1}, \"7\": {\"35\": 2, \"7\": 5, \"111\": 2, \"59\": 1, \"72\": 1, \"95\": 1}, \"129\": {\"129\": 5, \"20\": 1, \"11\": 1, \"1\": 1, \"40\": 2, \"29\": 1, \"82\": 1}, \"57\": {\"57\": 12}, \"84\": {\"44\": 2, \"84\": 5, \"29\": 1, \"0\": 1, \"34\": 1, \"49\": 1, \"82\": 1}, \"114\": {\"114\": 8, \"50\": 1, \"40\": 1, \"1\": 2}, \"44\": {\"44\": 7, \"109\": 1, \"100\": 1, \"102\": 1, \"29\": 1, \"80\": 1}, \"21\": {\"63\": 2, \"21\": 5, \"39\": 1, \"117\": 2, \"81\": 2}, \"46\": {\"46\": 10, \"5\": 1, \"85\": 1}, \"100\": {\"100\": 7, \"62\": 4, \"76\": 1}, \"63\": {\"63\": 5, \"24\": 1, \"113\": 2, \"27\": 1, \"83\": 1, \"2\": 1, \"54\": 1}, \"24\": {\"7\": 1, \"21\": 1, \"54\": 1, \"101\": 1, \"106\": 2, \"68\": 2, \"41\": 1, \"24\": 1, \"65\": 1, \"104\": 1}, \"107\": {\"107\": 11, \"100\": 1}, \"35\": {\"107\": 1, \"35\": 5, \"10\": 2, \"95\": 1, \"114\": 1}, \"81\": {\"81\": 12}, \"64\": {\"64\": 10, \"120\": 2}, \"59\": {\"59\": 6, \"97\": 1, \"36\": 1, \"7\": 1, \"101\": 1, \"10\": 1, \"111\": 1}, \"33\": {\"33\": 10, \"116\": 2}, \"34\": {\"34\": 4, \"94\": 2, \"60\": 2, \"68\": 1, \"97\": 1, \"6\": 2}, \"36\": {\"36\": 3, \"34\": 1, \"106\": 2, \"58\": 2, \"52\": 1, \"25\": 1, \"24\": 1, \"95\": 1}, \"79\": {\"79\": 10, \"20\": 2}, \"80\": {\"80\": 10, \"31\": 1, \"96\": 1}, \"77\": {\"124\": 1, \"77\": 7, \"47\": 1, \"127\": 1, \"41\": 1, \"8\": 1}, \"22\": {\"22\": 7, \"60\": 1, \"46\": 2, \"66\": 2}, \"124\": {\"124\": 9, \"128\": 2, \"127\": 1}, \"2\": {\"2\": 11, \"117\": 1}, \"87\": {\"79\": 2, \"87\": 6, \"73\": 1, \"49\": 1, \"50\": 1, \"107\": 1}, \"105\": {\"105\": 10, \"99\": 1, \"86\": 1}, \"95\": {\"95\": 6, \"59\": 1, \"48\": 2, \"7\": 1, \"65\": 1, \"10\": 1}, \"43\": {\"43\": 9, \"102\": 1, \"80\": 2}, \"56\": {\"56\": 7, \"128\": 1, \"9\": 1, \"124\": 1}, \"18\": {\"18\": 9, \"81\": 1, \"63\": 2}, \"85\": {\"46\": 2, \"85\": 9, \"112\": 1}, \"113\": {\"123\": 2, \"113\": 9, \"96\": 1}, \"97\": {\"59\": 1, \"97\": 8, \"94\": 1, \"7\": 2}, \"86\": {\"86\": 6, \"128\": 1, \"5\": 2, \"71\": 1, \"49\": 1, \"85\": 1}, \"128\": {\"110\": 2, \"128\": 2, \"122\": 1, \"115\": 1, \"86\": 1, \"1\": 2, \"4\": 1, \"32\": 1, \"28\": 1}, \"123\": {\"123\": 5, \"113\": 1, \"121\": 2, \"67\": 2, \"81\": 1, \"63\": 1}, \"8\": {\"8\": 5, \"128\": 1, \"9\": 3, \"83\": 1, \"4\": 2}, \"110\": {\"110\": 10, \"62\": 1, \"14\": 1}, \"126\": {\"18\": 1, \"21\": 3, \"117\": 2, \"126\": 2, \"61\": 4}, \"101\": {\"68\": 2, \"72\": 3, \"101\": 5, \"94\": 1, \"73\": 1}, \"115\": {\"115\": 12}, \"49\": {\"84\": 1, \"44\": 1, \"108\": 1, \"49\": 4, \"98\": 2, \"12\": 1, \"76\": 1, \"91\": 1}, \"45\": {\"45\": 11, \"87\": 1}, \"78\": {\"14\": 1, \"43\": 1, \"121\": 2, \"13\": 1, \"19\": 1, \"28\": 1, \"50\": 1, \"92\": 1, \"78\": 1, \"53\": 2}, \"65\": {\"65\": 6, \"30\": 2, \"95\": 1, \"81\": 1}, \"54\": {\"54\": 12}, \"31\": {\"31\": 6, \"69\": 1, \"90\": 2, \"11\": 1}, \"42\": {\"114\": 1, \"42\": 1, \"108\": 1, \"36\": 1, \"48\": 1, \"22\": 1, \"30\": 1, \"57\": 1, \"73\": 1, \"103\": 1, \"101\": 2}, \"68\": {\"68\": 11, \"72\": 1}, \"15\": {\"15\": 11, \"94\": 1}, \"69\": {\"69\": 12}, \"17\": {\"121\": 1, \"41\": 1, \"123\": 1, \"104\": 1, \"108\": 1, \"18\": 1, \"3\": 2, \"39\": 1, \"124\": 1}, \"73\": {\"73\": 12}, \"121\": {\"121\": 10, \"64\": 2}, \"102\": {\"102\": 12}, \"48\": {\"102\": 2, \"48\": 5, \"73\": 1, \"77\": 1, \"27\": 1, \"33\": 2}, \"23\": {\"121\": 2, \"55\": 2, \"128\": 1, \"113\": 1, \"104\": 1, \"9\": 1, \"61\": 2, \"4\": 2}, \"108\": {\"108\": 3, \"57\": 5, \"74\": 2, \"5\": 2}, \"53\": {\"53\": 6, \"69\": 1, \"60\": 1, \"76\": 2, \"107\": 2}, \"94\": {\"15\": 1, \"34\": 1, \"101\": 1, \"94\": 3, \"25\": 2, \"97\": 2}, \"41\": {\"41\": 8, \"8\": 2, \"74\": 1, \"86\": 1}, \"58\": {\"58\": 11, \"34\": 1}, \"29\": {\"29\": 6, \"89\": 1, \"20\": 1, \"82\": 2, \"44\": 2}, \"116\": {\"116\": 7, \"44\": 2, \"89\": 1, \"31\": 2}, \"60\": {\"60\": 5, \"20\": 1, \"53\": 2, \"28\": 1, \"32\": 1, \"62\": 1, \"76\": 1}, \"104\": {\"104\": 8, \"9\": 3, \"56\": 1}, \"106\": {\"106\": 10, \"58\": 1, \"101\": 1}, \"66\": {\"66\": 11, \"112\": 1}, \"47\": {\"47\": 10, \"127\": 1, \"56\": 1}, \"40\": {\"40\": 6, \"60\": 1, \"129\": 2, \"114\": 1, \"50\": 2}, \"82\": {\"82\": 10, \"29\": 1, \"115\": 1}, \"13\": {\"11\": 3, \"113\": 2, \"13\": 1, \"90\": 2, \"118\": 1, \"81\": 1, \"16\": 1, \"120\": 1}, \"19\": {\"9\": 1, \"19\": 2, \"115\": 2, \"62\": 1, \"20\": 1, \"28\": 1, \"49\": 2, \"87\": 1, \"127\": 1}, \"72\": {\"68\": 4, \"72\": 6, \"95\": 2}, \"9\": {\"9\": 7, \"104\": 3, \"124\": 2}, \"67\": {\"67\": 11, \"117\": 1}, \"11\": {\"11\": 6, \"76\": 1, \"102\": 1, \"119\": 1, \"16\": 1, \"88\": 1, \"116\": 1}, \"125\": {\"101\": 1, \"125\": 9, \"6\": 1, \"0\": 1}, \"76\": {\"78\": 1, \"76\": 5, \"100\": 1, \"53\": 1}, \"83\": {\"83\": 5, \"66\": 1, \"71\": 2, \"47\": 2, \"4\": 1, \"3\": 1}, \"74\": {\"74\": 8, \"54\": 1, \"105\": 1, \"9\": 2}, \"20\": {\"20\": 8, \"79\": 3, \"29\": 1}, \"119\": {\"119\": 10, \"93\": 1, \"92\": 1}, \"1\": {\"129\": 2, \"28\": 1, \"1\": 8, \"114\": 1}, \"16\": {\"11\": 2, \"48\": 1, \"16\": 8, \"100\": 1}, \"25\": {\"25\": 11, \"16\": 1}, \"90\": {\"79\": 2, \"90\": 2, \"31\": 3, \"20\": 1}, \"39\": {\"43\": 1, \"39\": 8, \"67\": 2, \"61\": 1}, \"28\": {\"28\": 10, \"50\": 2}, \"55\": {\"55\": 11, \"4\": 1}, \"117\": {\"117\": 9, \"88\": 1, \"123\": 1, \"2\": 1}, \"112\": {\"112\": 5, \"74\": 3, \"86\": 1, \"55\": 2, \"66\": 1}, \"38\": {\"38\": 7, \"112\": 1, \"105\": 2, \"55\": 2}, \"37\": {\"25\": 2, \"37\": 6, \"6\": 2, \"106\": 1, \"51\": 1}, \"120\": {\"120\": 11, \"118\": 1}, \"122\": {\"122\": 3, \"50\": 1, \"29\": 2, \"110\": 1, \"14\": 1, \"108\": 2, \"57\": 2}, \"50\": {\"50\": 8, \"110\": 1, \"114\": 1, \"1\": 2}, \"10\": {\"51\": 2, \"34\": 1, \"15\": 1, \"4\": 1, \"111\": 1, \"59\": 1, \"47\": 1, \"6\": 2, \"36\": 1, \"66\": 1}, \"5\": {\"5\": 7, \"71\": 1, \"46\": 1, \"85\": 3}, \"51\": {\"51\": 8, \"15\": 1, \"106\": 3}, \"3\": {\"49\": 1, \"39\": 1, \"3\": 7, \"103\": 1, \"47\": 1, \"64\": 1}, \"98\": {\"98\": 4, \"3\": 1, \"83\": 2, \"41\": 1, \"47\": 2, \"52\": 1, \"60\": 1}, \"70\": {\"20\": 1, \"3\": 1, \"89\": 2, \"99\": 1, \"70\": 1, \"79\": 1, \"128\": 1, \"100\": 1, \"76\": 1, \"112\": 1, \"14\": 1}, \"96\": {\"96\": 8, \"2\": 2, \"119\": 1, \"113\": 1}, \"12\": {\"12\": 6, \"98\": 1, \"52\": 2, \"30\": 1, \"56\": 1, \"124\": 1}, \"99\": {\"128\": 1, \"38\": 1, \"9\": 2, \"99\": 5, \"5\": 2, \"74\": 1}, \"52\": {\"12\": 1, \"9\": 1, \"72\": 1, \"52\": 4, \"71\": 1, \"83\": 1, \"47\": 1, \"98\": 1, \"3\": 1}, \"71\": {\"71\": 5, \"95\": 1, \"112\": 1, \"2\": 1, \"66\": 2, \"3\": 2}, \"89\": {\"89\": 10, \"31\": 1, \"69\": 1}, \"0\": {\"12\": 2, \"0\": 7, \"68\": 1, \"111\": 2}, \"4\": {\"4\": 7, \"85\": 2, \"10\": 1, \"24\": 1, \"73\": 1}, \"93\": {\"93\": 12}, \"6\": {\"6\": 3, \"75\": 1, \"27\": 1, \"111\": 1, \"37\": 2, \"25\": 1, \"34\": 1}, \"75\": {\"75\": 12}, \"62\": {\"62\": 11, \"84\": 1}, \"103\": {\"103\": 10, \"88\": 2}, \"30\": {\"56\": 1, \"72\": 1, \"36\": 1, \"30\": 1, \"3\": 2, \"91\": 2, \"77\": 1, \"97\": 1, \"105\": 2}, \"91\": {\"91\": 6, \"56\": 1, \"83\": 1, \"104\": 1, \"30\": 1, \"77\": 1, \"41\": 1}, \"27\": {\"30\": 1, \"56\": 1, \"52\": 1, \"51\": 1, \"47\": 2, \"27\": 1, \"6\": 2, \"24\": 1, \"48\": 1, \"106\": 1}, \"26\": {\"26\": 12}, \"61\": {\"61\": 10, \"117\": 1, \"39\": 1}, \"118\": {\"93\": 2, \"118\": 8, \"92\": 1, \"26\": 1}, \"92\": {\"118\": 2, \"119\": 1, \"92\": 6, \"64\": 1, \"120\": 2}, \"111\": {\"111\": 10, \"59\": 2}, \"32\": {\"32\": 3, \"84\": 1, \"1\": 1, \"88\": 2, \"87\": 1, \"128\": 3, \"44\": 1}, \"88\": {\"50\": 1, \"117\": 3, \"32\": 1, \"118\": 1, \"39\": 1, \"61\": 1, \"81\": 1, \"109\": 1}}, \"Wisig_4\": {\"28\": {\"28\": 8, \"72\": 1, \"14\": 1, \"83\": 1, \"32\": 1}, \"4\": {\"4\": 10, \"98\": 1, \"17\": 1}, \"72\": {\"31\": 1, \"28\": 1, \"72\": 8, \"46\": 1, \"115\": 1}, \"111\": {\"111\": 9, \"4\": 1, \"101\": 1, \"12\": 1}, \"108\": {\"108\": 4, \"43\": 1, \"102\": 1, \"122\": 1, \"110\": 1, \"74\": 1, \"64\": 1, \"32\": 1, \"93\": 1}, \"43\": {\"43\": 4, \"72\": 1, \"115\": 1, \"79\": 1, \"22\": 1, \"11\": 1, \"99\": 1}, \"96\": {\"90\": 2, \"96\": 9, \"117\": 1}, \"89\": {\"89\": 10, \"1\": 1, \"119\": 1}, \"31\": {\"72\": 1, \"28\": 1, \"31\": 10}, \"45\": {\"45\": 11, \"43\": 1}, \"2\": {\"2\": 12}, \"114\": {\"89\": 1, \"114\": 4, \"40\": 2, \"19\": 1, \"112\": 2, \"1\": 2}, \"11\": {\"45\": 1, \"43\": 2, \"11\": 6, \"69\": 1, \"119\": 2}, \"12\": {\"12\": 9, \"55\": 1, \"103\": 1, \"111\": 1}, \"14\": {\"14\": 10, \"28\": 1, \"3\": 1}, \"90\": {\"96\": 1, \"90\": 7, \"84\": 2, \"66\": 1, \"38\": 1}, \"10\": {\"82\": 1, \"54\": 1, \"124\": 1, \"10\": 4, \"37\": 1, \"6\": 2, \"76\": 1, \"104\": 1}, \"63\": {\"3\": 1, \"63\": 10, \"72\": 1}, \"85\": {\"85\": 7, \"63\": 1, \"86\": 1, \"17\": 1, \"1\": 2}, \"64\": {\"64\": 11, \"14\": 1}, \"82\": {\"82\": 10, \"16\": 1, \"63\": 1}, \"58\": {\"58\": 11, \"6\": 1}, \"3\": {\"3\": 10, \"50\": 1, \"100\": 1}, \"54\": {\"54\": 12}, \"121\": {\"121\": 5, \"123\": 3, \"67\": 2, \"2\": 2}, \"42\": {\"98\": 1, \"85\": 1, \"68\": 1, \"5\": 1, \"31\": 1, \"56\": 1, \"72\": 1, \"37\": 1, \"95\": 1, \"28\": 1, \"64\": 1, \"41\": 1}, \"98\": {\"98\": 5, \"85\": 1, \"17\": 2, \"37\": 2, \"41\": 2}, \"123\": {\"63\": 2, \"123\": 8, \"16\": 1, \"81\": 1}, \"91\": {\"12\": 1, \"54\": 1, \"91\": 5, \"37\": 1, \"103\": 1, \"101\": 1, \"1\": 2}, \"66\": {\"66\": 9, \"90\": 1, \"44\": 2}, \"102\": {\"102\": 10, \"74\": 2}, \"122\": {\"62\": 2, \"110\": 1, \"118\": 1, \"92\": 3, \"122\": 3, \"39\": 1, \"99\": 1}, \"1\": {\"1\": 6, \"82\": 1, \"124\": 1, \"114\": 3, \"87\": 1}, \"15\": {\"125\": 1, \"75\": 1, \"9\": 2, \"15\": 4, \"25\": 2, \"6\": 1, \"58\": 1}, \"97\": {\"82\": 1, \"68\": 1, \"54\": 2, \"9\": 1, \"97\": 3, \"83\": 1, \"52\": 1, \"47\": 1, \"95\": 1}, \"75\": {\"75\": 12}, \"95\": {\"95\": 11, \"85\": 1}, \"57\": {\"102\": 2, \"57\": 8, \"48\": 2}, \"68\": {\"68\": 11, \"9\": 1}, \"125\": {\"125\": 10, \"68\": 1, \"30\": 1}, \"62\": {\"62\": 9, \"28\": 1}, \"27\": {\"120\": 3, \"55\": 1, \"21\": 1, \"41\": 1, \"100\": 1, \"27\": 1, \"103\": 1, \"124\": 1, \"113\": 1, \"37\": 1}, \"120\": {\"120\": 9, \"103\": 1, \"64\": 2}, \"26\": {\"26\": 8, \"117\": 2, \"61\": 1, \"65\": 1}, \"55\": {\"55\": 8, \"37\": 2, \"89\": 1, \"86\": 1}, \"71\": {\"120\": 3, \"71\": 4, \"83\": 1, \"26\": 1, \"124\": 1, \"72\": 1, \"42\": 1}, \"22\": {\"83\": 1, \"22\": 10, \"43\": 1}, \"99\": {\"99\": 8, \"14\": 1, \"28\": 1, \"21\": 1, \"33\": 1}, \"84\": {\"13\": 1, \"84\": 4, \"77\": 1, \"90\": 3, \"34\": 1, \"96\": 2}, \"37\": {\"37\": 11, \"95\": 1}, \"83\": {\"120\": 1, \"83\": 5, \"40\": 1, \"14\": 1, \"115\": 1, \"28\": 3}, \"46\": {\"120\": 1, \"46\": 6, \"119\": 1, \"40\": 1, \"83\": 2, \"32\": 1}, \"35\": {\"35\": 10, \"117\": 2}, \"13\": {\"84\": 2, \"13\": 10}, \"53\": {\"8\": 1, \"0\": 1, \"127\": 1, \"53\": 3, \"117\": 1, \"101\": 2, \"65\": 1, \"49\": 2}, \"127\": {\"53\": 3, \"9\": 1, \"52\": 2, \"68\": 1, \"101\": 3, \"127\": 1, \"111\": 1}, \"69\": {\"16\": 1, \"69\": 10, \"78\": 1}, \"48\": {\"16\": 1, \"48\": 3, \"44\": 2, \"121\": 2, \"2\": 1, \"90\": 2, \"34\": 1}, \"16\": {\"16\": 12}, \"0\": {\"9\": 1, \"82\": 1, \"104\": 2, \"77\": 1, \"85\": 1, \"34\": 1, \"55\": 1, \"129\": 1, \"4\": 1, \"37\": 2}, \"8\": {\"82\": 1, \"16\": 1, \"8\": 4, \"0\": 1, \"41\": 2, \"53\": 1, \"37\": 1, \"18\": 1}, \"9\": {\"53\": 1, \"9\": 4, \"98\": 1, \"106\": 1, \"55\": 1, \"77\": 2, \"12\": 1, \"91\": 1}, \"115\": {\"115\": 7, \"46\": 1, \"32\": 1, \"83\": 1, \"72\": 1, \"64\": 1}, \"70\": {\"120\": 1, \"115\": 1, \"74\": 1, \"50\": 1, \"76\": 1, \"112\": 1, \"82\": 1, \"72\": 1, \"70\": 2, \"33\": 1, \"118\": 1}, \"119\": {\"119\": 8, \"31\": 1, \"46\": 1, \"76\": 2}, \"59\": {\"59\": 9, \"6\": 1, \"47\": 2}, \"52\": {\"95\": 2, \"124\": 2, \"1\": 2, \"52\": 4, \"85\": 2}, \"60\": {\"120\": 1, \"60\": 4, \"128\": 1, \"66\": 1, \"99\": 1, \"19\": 2, \"89\": 2}, \"44\": {\"44\": 6, \"74\": 4, \"123\": 1, \"48\": 1}, \"51\": {\"15\": 1, \"44\": 1, \"111\": 2, \"47\": 1, \"101\": 1, \"9\": 1, \"25\": 1, \"68\": 1, \"51\": 1, \"6\": 1, \"49\": 1}, \"6\": {\"15\": 1, \"68\": 1, \"6\": 6, \"34\": 1, \"58\": 2, \"10\": 1}, \"73\": {\"69\": 2, \"5\": 2, \"73\": 6, \"129\": 1, \"108\": 1}, \"78\": {\"19\": 1, \"63\": 1, \"128\": 2, \"76\": 1, \"110\": 1, \"114\": 1, \"32\": 1, \"73\": 1, \"87\": 1, \"70\": 2}, \"92\": {\"92\": 10, \"67\": 1, \"66\": 1}, \"20\": {\"20\": 6, \"78\": 1, \"102\": 1, \"5\": 1, \"67\": 2, \"116\": 1}, \"17\": {\"17\": 9, \"70\": 1, \"124\": 2}, \"74\": {\"74\": 8, \"73\": 1, \"92\": 2, \"45\": 1}, \"19\": {\"70\": 1, \"92\": 1, \"90\": 1, \"93\": 1, \"110\": 1, \"71\": 1, \"13\": 2, \"96\": 2, \"112\": 1, \"66\": 1}, \"50\": {\"50\": 5, \"3\": 2, \"76\": 3, \"107\": 2}, \"34\": {\"70\": 1, \"17\": 1, \"34\": 4, \"6\": 2, \"25\": 1, \"89\": 1, \"10\": 2}, \"104\": {\"104\": 6, \"70\": 1, \"56\": 1}, \"33\": {\"5\": 2, \"118\": 2, \"31\": 2, \"33\": 3, \"62\": 1, \"39\": 1, \"45\": 1}, \"5\": {\"5\": 5, \"33\": 1, \"116\": 1, \"20\": 1, \"62\": 1, \"74\": 1, \"108\": 1, \"73\": 1}, \"7\": {\"7\": 5, \"128\": 1, \"129\": 1, \"56\": 3, \"42\": 1, \"98\": 1}, \"29\": {\"29\": 12}, \"25\": {\"75\": 3, \"25\": 9}, \"124\": {\"42\": 1, \"71\": 1, \"89\": 2, \"124\": 6, \"112\": 1, \"85\": 1}, \"117\": {\"61\": 2, \"117\": 8, \"26\": 2}, \"88\": {\"61\": 1, \"35\": 1, \"1\": 1, \"117\": 1, \"103\": 1, \"26\": 2, \"47\": 1, \"67\": 1, \"119\": 1, \"89\": 1, \"113\": 1}, \"61\": {\"117\": 4, \"61\": 6, \"26\": 1, \"18\": 1}, \"86\": {\"86\": 8, \"41\": 1, \"95\": 1, \"56\": 1, \"37\": 1}, \"116\": {\"116\": 7, \"20\": 2, \"38\": 1, \"79\": 1, \"108\": 1}, \"24\": {\"10\": 2, \"36\": 3, \"17\": 1, \"6\": 2, \"54\": 2, \"128\": 1, \"25\": 1}, \"128\": {\"124\": 2, \"128\": 4, \"21\": 1, \"100\": 1, \"112\": 1, \"40\": 2, \"82\": 1}, \"101\": {\"127\": 2, \"101\": 5, \"56\": 1, \"27\": 2, \"12\": 2}, \"65\": {\"65\": 9, \"73\": 1}, \"36\": {\"10\": 1, \"101\": 2, \"36\": 8, \"51\": 1}, \"21\": {\"21\": 6, \"65\": 3, \"81\": 1, \"51\": 1, \"63\": 1}, \"106\": {\"37\": 1, \"55\": 1, \"77\": 1, \"106\": 9}, \"118\": {\"33\": 1, \"118\": 4, \"26\": 1, \"122\": 1, \"100\": 1, \"79\": 1, \"110\": 1, \"65\": 1, \"11\": 1}, \"113\": {\"117\": 1, \"26\": 2, \"113\": 5, \"30\": 1, \"81\": 2, \"123\": 1}, \"40\": {\"83\": 1, \"40\": 7, \"120\": 1, \"46\": 1, \"87\": 2}, \"93\": {\"93\": 6, \"90\": 1, \"109\": 1}, \"94\": {\"94\": 7, \"34\": 1, \"36\": 1, \"6\": 2, \"58\": 1}, \"103\": {\"8\": 2, \"86\": 2, \"77\": 1, \"103\": 1, \"5\": 1, \"101\": 1, \"65\": 1, \"52\": 1, \"54\": 1, \"129\": 1}, \"110\": {\"110\": 7, \"122\": 1, \"93\": 1, \"108\": 1, \"60\": 1, \"118\": 1}, \"56\": {\"56\": 11, \"17\": 1}, \"39\": {\"39\": 9, \"67\": 1, \"18\": 1, \"113\": 1}, \"109\": {\"2\": 1, \"109\": 5, \"121\": 1, \"116\": 1, \"88\": 2, \"93\": 2}, \"67\": {\"92\": 2, \"121\": 2, \"115\": 1, \"39\": 2, \"19\": 1, \"88\": 1, \"18\": 1, \"73\": 1, \"81\": 1}, \"129\": {\"74\": 1, \"114\": 1, \"112\": 2, \"129\": 3, \"20\": 1, \"49\": 1, \"4\": 1, \"93\": 1, \"11\": 1}, \"30\": {\"51\": 1, \"17\": 1, \"30\": 5, \"125\": 1, \"47\": 1, \"9\": 1, \"15\": 2}, \"126\": {\"126\": 8, \"61\": 1, \"113\": 2, \"108\": 1}, \"87\": {\"21\": 1, \"87\": 3, \"32\": 2, \"119\": 1, \"71\": 1, \"3\": 1, \"73\": 1, \"1\": 1, \"76\": 1}, \"112\": {\"112\": 10, \"105\": 1, \"114\": 1}, \"100\": {\"112\": 2, \"100\": 7, \"107\": 1, \"28\": 1, \"46\": 1}, \"79\": {\"79\": 9, \"118\": 1}, \"81\": {\"81\": 9, \"39\": 1, \"61\": 1, \"123\": 1}, \"76\": {\"87\": 5, \"76\": 4, \"32\": 1}, \"47\": {\"47\": 9, \"113\": 1, \"59\": 2}, \"77\": {\"77\": 6, \"86\": 1, \"68\": 1, \"103\": 1, \"95\": 1, \"98\": 2}, \"23\": {\"103\": 1, \"86\": 1, \"41\": 2, \"123\": 1, \"77\": 2, \"121\": 1, \"23\": 1, \"81\": 1, \"65\": 1, \"49\": 1}, \"18\": {\"18\": 12}, \"49\": {\"84\": 2, \"41\": 2, \"20\": 1, \"103\": 1, \"49\": 3, \"102\": 1, \"86\": 1, \"17\": 1}, \"41\": {\"86\": 1, \"41\": 7, \"47\": 1, \"12\": 1, \"56\": 1, \"4\": 1}, \"32\": {\"87\": 2, \"32\": 2, \"129\": 1, \"76\": 1, \"46\": 2, \"45\": 1, \"114\": 1, \"14\": 2}, \"107\": {\"107\": 9, \"87\": 1}, \"80\": {\"80\": 7, \"38\": 1, \"18\": 1, \"121\": 2, \"44\": 1}, \"105\": {\"105\": 6, \"87\": 1, \"112\": 1, \"113\": 1, \"3\": 1}, \"38\": {\"38\": 9, \"90\": 1}}, \"Wisig_1\": {\"108\": {\"57\": 2, \"108\": 3, \"74\": 1, \"44\": 2, \"35\": 1, \"79\": 1}, \"40\": {\"40\": 6, \"5\": 4, \"105\": 2}, \"68\": {\"68\": 8, \"34\": 2, \"91\": 2}, \"23\": {\"68\": 1, \"22\": 2, \"65\": 1, \"89\": 1, \"86\": 1, \"33\": 1, \"55\": 1, \"69\": 1, \"11\": 1, \"74\": 2}, \"26\": {\"79\": 1, \"26\": 9, \"100\": 2}, \"64\": {\"22\": 1, \"64\": 10, \"62\": 1}, \"22\": {\"22\": 8, \"76\": 1, \"19\": 2, \"79\": 1}, \"3\": {\"102\": 2, \"3\": 5, \"109\": 1, \"100\": 2, \"2\": 2}, \"4\": {\"108\": 2, \"4\": 8, \"35\": 1, \"113\": 1}, \"70\": {\"22\": 1, \"108\": 1, \"77\": 1, \"34\": 1, \"70\": 2, \"54\": 1, \"80\": 1, \"5\": 1, \"45\": 1, \"29\": 2}, \"57\": {\"57\": 12}, \"79\": {\"79\": 10, \"128\": 1, \"22\": 1}, \"9\": {\"108\": 2, \"34\": 2, \"9\": 4, \"47\": 1, \"128\": 1, \"103\": 2}, \"89\": {\"108\": 1, \"23\": 1, \"89\": 7, \"93\": 1, \"107\": 1, \"29\": 1}, \"110\": {\"110\": 5, \"88\": 2, \"127\": 2, \"34\": 2, \"97\": 1}, \"102\": {\"102\": 10, \"69\": 2}, \"31\": {\"31\": 12}, \"58\": {\"58\": 11, \"10\": 1}, \"47\": {\"83\": 1, \"47\": 9, \"72\": 1, \"54\": 1}, \"24\": {\"24\": 2, \"47\": 1, \"17\": 2, \"93\": 1, \"101\": 1, \"89\": 1, \"103\": 2, \"83\": 1, \"86\": 1}, \"19\": {\"19\": 7, \"73\": 1, \"1\": 1, \"80\": 1, \"22\": 1, \"126\": 1}, \"11\": {\"11\": 10, \"66\": 1, \"67\": 1}, \"52\": {\"52\": 10, \"10\": 1, \"0\": 1}, \"17\": {\"17\": 12}, \"25\": {\"25\": 8, \"11\": 1, \"1\": 1, \"66\": 2}, \"69\": {\"69\": 10, \"102\": 2}, \"96\": {\"96\": 8, \"11\": 1, \"90\": 1, \"66\": 1, \"61\": 1}, \"109\": {\"25\": 1, \"69\": 1, \"3\": 1, \"50\": 3, \"66\": 2, \"82\": 1, \"109\": 1, \"62\": 1, \"99\": 1}, \"115\": {\"115\": 9, \"25\": 1, \"76\": 1, \"96\": 1}, \"83\": {\"83\": 5, \"42\": 1, \"5\": 1, \"56\": 1, \"4\": 1, \"7\": 1, \"86\": 1, \"103\": 1}, \"84\": {\"84\": 11, \"120\": 1}, \"119\": {\"119\": 6, \"118\": 2, \"99\": 1, \"2\": 1}, \"122\": {\"122\": 6, \"84\": 1, \"70\": 1, \"120\": 1, \"104\": 1}, \"99\": {\"99\": 6, \"65\": 1, \"66\": 1, \"11\": 1, \"90\": 1, \"116\": 2}, \"1\": {\"1\": 11, \"81\": 1}, \"74\": {\"74\": 10, \"89\": 1, \"48\": 1}, \"85\": {\"85\": 5, \"127\": 1, \"58\": 1, \"32\": 3, \"37\": 1, \"56\": 1}, \"127\": {\"127\": 12}, \"111\": {\"127\": 1, \"111\": 11}, \"53\": {\"127\": 2, \"53\": 9, \"0\": 1}, \"88\": {\"89\": 3, \"36\": 4, \"3\": 2, \"98\": 1, \"108\": 1, \"92\": 1}, \"65\": {\"119\": 3, \"63\": 2, \"64\": 1, \"118\": 1, \"95\": 2, \"104\": 1}, \"7\": {\"7\": 11, \"80\": 1}, \"16\": {\"16\": 9, \"95\": 1, \"18\": 2}, \"128\": {\"41\": 1, \"104\": 1, \"61\": 3, \"5\": 1, \"79\": 2, \"25\": 1, \"1\": 1, \"19\": 1, \"126\": 1}, \"34\": {\"17\": 2, \"43\": 1, \"24\": 1, \"122\": 2, \"44\": 1, \"0\": 1, \"29\": 1, \"79\": 1, \"49\": 1, \"8\": 1}, \"129\": {\"118\": 1, \"128\": 1, \"33\": 2, \"103\": 2, \"61\": 1, \"20\": 1, \"54\": 2, \"129\": 1, \"117\": 1}, \"43\": {\"43\": 10, \"79\": 1, \"28\": 1}, \"92\": {\"92\": 12}, \"28\": {\"28\": 9, \"38\": 1, \"44\": 1, \"43\": 1}, \"27\": {\"27\": 5, \"92\": 1, \"32\": 1, \"30\": 2, \"71\": 1, \"49\": 1, \"52\": 1}, \"114\": {\"114\": 11, \"73\": 1}, \"73\": {\"114\": 2, \"73\": 10}, \"0\": {\"53\": 3, \"34\": 1, \"0\": 3, \"71\": 1, \"125\": 1, \"12\": 1, \"52\": 2}, \"104\": {\"104\": 8, \"22\": 1, \"1\": 3}, \"118\": {\"118\": 10, \"39\": 2}, \"41\": {\"41\": 11, \"35\": 1}, \"49\": {\"5\": 1, \"86\": 1, \"49\": 3, \"72\": 1, \"56\": 1, \"93\": 1, \"8\": 1, \"127\": 1, \"52\": 1, \"54\": 1}, \"14\": {\"14\": 10, \"104\": 2}, \"46\": {\"33\": 1, \"14\": 1, \"73\": 1, \"58\": 1, \"46\": 2, \"51\": 1, \"85\": 1, \"105\": 1, \"57\": 1, \"83\": 1, \"1\": 1}, \"33\": {\"33\": 12}, \"76\": {\"76\": 9, \"122\": 1, \"64\": 1, \"115\": 1}, \"125\": {\"125\": 7, \"51\": 2, \"0\": 2, \"75\": 1}, \"86\": {\"5\": 1, \"86\": 5, \"70\": 2, \"103\": 2}, \"66\": {\"66\": 6, \"11\": 2, \"61\": 2, \"33\": 1, \"15\": 1}, \"5\": {\"5\": 9, \"105\": 1, \"40\": 1, \"31\": 1}, \"117\": {\"117\": 12}, \"75\": {\"75\": 8, \"111\": 1, \"94\": 1, \"32\": 1, \"53\": 1}, \"61\": {\"61\": 9, \"109\": 1, \"45\": 1, \"64\": 1}, \"50\": {\"109\": 2, \"50\": 6, \"20\": 1, \"100\": 2, \"11\": 1}, \"67\": {\"67\": 8, \"82\": 1, \"62\": 1}, \"18\": {\"18\": 10, \"13\": 1, \"16\": 1}, \"98\": {\"98\": 5, \"17\": 1, \"101\": 2, \"107\": 2, \"54\": 1, \"83\": 1}, \"55\": {\"31\": 2, \"55\": 6, \"23\": 1, \"41\": 1}, \"32\": {\"32\": 7, \"56\": 1, \"27\": 2, \"85\": 2}, \"120\": {\"120\": 11, \"96\": 1}, \"97\": {\"55\": 1, \"32\": 1, \"97\": 5, \"49\": 2, \"110\": 1, \"88\": 1, \"91\": 1}, \"126\": {\"76\": 2, \"126\": 5, \"122\": 1, \"84\": 1, \"19\": 2, \"73\": 1}, \"45\": {\"76\": 1, \"50\": 1, \"45\": 4, \"115\": 1, \"20\": 2, \"67\": 1, \"22\": 2}, \"78\": {\"70\": 2, \"43\": 3, \"80\": 1, \"113\": 1, \"79\": 2, \"78\": 1}, \"100\": {\"100\": 10, \"23\": 2}, \"107\": {\"107\": 10, \"17\": 1, \"89\": 1}, \"93\": {\"107\": 3, \"98\": 1, \"48\": 1, \"24\": 1, \"38\": 2, \"9\": 1, \"93\": 2, \"55\": 1}, \"77\": {\"77\": 9, \"29\": 1, \"40\": 1, \"128\": 1}, \"63\": {\"63\": 11, \"123\": 1}, \"112\": {\"112\": 8, \"97\": 1, \"59\": 1, \"10\": 2}, \"113\": {\"113\": 12}, \"103\": {\"86\": 3, \"103\": 4, \"47\": 2, \"98\": 1}, \"71\": {\"71\": 8, \"37\": 3, \"27\": 1}, \"30\": {\"71\": 1, \"92\": 1, \"30\": 3, \"59\": 1, \"93\": 1, \"27\": 1, \"12\": 1, \"36\": 1, \"4\": 2}, \"90\": {\"90\": 7, \"21\": 1, \"99\": 2, \"66\": 2}, \"37\": {\"92\": 1, \"37\": 6, \"112\": 1, \"15\": 2, \"94\": 1, \"27\": 1}, \"60\": {\"118\": 2, \"103\": 1, \"49\": 1, \"60\": 3, \"117\": 1, \"74\": 1, \"100\": 1, \"7\": 2}, \"15\": {\"92\": 1, \"71\": 1, \"6\": 2, \"94\": 1, \"112\": 1, \"37\": 2, \"15\": 3, \"56\": 1}, \"39\": {\"117\": 2, \"39\": 8, \"95\": 2}, \"72\": {\"72\": 11, \"9\": 1}, \"54\": {\"86\": 1, \"54\": 10, \"93\": 1}, \"35\": {\"35\": 6, \"41\": 1, \"72\": 1, \"47\": 2, \"17\": 1, \"107\": 1}, \"2\": {\"96\": 1, \"63\": 1, \"121\": 2, \"123\": 2, \"26\": 2, \"2\": 4}, \"94\": {\"53\": 2, \"71\": 2, \"56\": 2, \"6\": 3, \"75\": 1, \"13\": 1, \"94\": 1}, \"42\": {\"39\": 1, \"74\": 1, \"72\": 1, \"100\": 2, \"42\": 2, \"69\": 2, \"40\": 1, \"109\": 1, \"34\": 1}, \"81\": {\"81\": 9, \"129\": 1, \"120\": 1, \"82\": 1}, \"8\": {\"8\": 11, \"44\": 1}, \"87\": {\"74\": 1, \"87\": 4, \"42\": 1, \"38\": 3, \"28\": 2, \"129\": 1}, \"6\": {\"6\": 3, \"0\": 1, \"127\": 1, \"111\": 1, \"94\": 2, \"53\": 2, \"37\": 1, \"27\": 1}, \"36\": {\"6\": 2, \"36\": 8, \"37\": 1, \"94\": 1}, \"91\": {\"49\": 1, \"91\": 10, \"106\": 1}, \"56\": {\"6\": 1, \"56\": 9, \"112\": 1, \"53\": 1}, \"80\": {\"19\": 1, \"87\": 1, \"128\": 4, \"80\": 5, \"10\": 1}, \"124\": {\"124\": 4, \"44\": 1, \"42\": 1, \"1\": 1, \"114\": 1, \"14\": 1, \"122\": 1}, \"44\": {\"44\": 12}, \"13\": {\"13\": 12}, \"10\": {\"58\": 3, \"88\": 2, \"29\": 2, \"21\": 1, \"23\": 1, \"49\": 1, \"10\": 1, \"13\": 1}, \"59\": {\"59\": 8, \"30\": 1, \"123\": 2, \"58\": 1}, \"95\": {\"95\": 12}, \"105\": {\"105\": 5, \"77\": 1, \"5\": 2, \"15\": 1, \"40\": 1, \"54\": 2}, \"101\": {\"101\": 8, \"89\": 1, \"47\": 2, \"106\": 1}, \"20\": {\"20\": 10, \"81\": 1, \"82\": 1}, \"48\": {\"47\": 1, \"72\": 1, \"48\": 8, \"123\": 1, \"108\": 1}, \"106\": {\"47\": 1, \"106\": 7, \"103\": 1, \"98\": 1, \"91\": 1, \"107\": 1}, \"51\": {\"51\": 10, \"125\": 1, \"88\": 1}, \"21\": {\"72\": 1, \"28\": 1, \"117\": 1, \"38\": 1, \"51\": 1, \"69\": 2, \"10\": 1, \"100\": 2, \"74\": 1, \"101\": 1}, \"123\": {\"123\": 11, \"63\": 1}, \"121\": {\"121\": 12}, \"38\": {\"38\": 10, \"8\": 2}, \"62\": {\"62\": 12}, \"29\": {\"29\": 11, \"77\": 1}, \"82\": {\"21\": 1, \"82\": 9, \"90\": 2}, \"116\": {\"116\": 11, \"50\": 1}, \"12\": {\"125\": 2, \"12\": 2, \"111\": 2, \"0\": 2}}, \"Wisig_2\": {\"91\": {\"10\": 3, \"91\": 2, \"0\": 2, \"29\": 2, \"77\": 1, \"128\": 2}, \"12\": {\"12\": 1, \"86\": 1, \"29\": 1, \"110\": 1, \"68\": 2, \"99\": 1, \"17\": 1, \"54\": 1, \"98\": 2, \"104\": 1}, \"101\": {\"106\": 1, \"101\": 5, \"91\": 1, \"79\": 2, \"94\": 1}, \"121\": {\"117\": 4, \"120\": 1, \"72\": 1, \"121\": 5, \"81\": 1}, \"118\": {\"88\": 1, \"118\": 4, \"83\": 3, \"84\": 1, \"46\": 3}, \"10\": {\"28\": 2, \"10\": 3, \"110\": 3, \"54\": 1, \"19\": 1, \"23\": 2}, \"117\": {\"117\": 11, \"121\": 1}, \"110\": {\"110\": 9, \"97\": 1, \"37\": 2}, \"97\": {\"101\": 1, \"88\": 1, \"125\": 2, \"51\": 2, \"6\": 1, \"94\": 1, \"63\": 1, \"97\": 2, \"25\": 1}, \"28\": {\"121\": 1, \"28\": 3, \"40\": 2, \"5\": 1, \"106\": 1, \"97\": 1, \"22\": 1, \"3\": 1, \"25\": 1}, \"88\": {\"121\": 1, \"88\": 1, \"18\": 2, \"109\": 2, \"90\": 1, \"119\": 1, \"20\": 1, \"61\": 1, \"31\": 1, \"118\": 1}, \"17\": {\"86\": 2, \"112\": 1, \"54\": 1, \"108\": 2, \"102\": 1, \"4\": 1, \"17\": 2, \"41\": 2}, \"126\": {\"88\": 1, \"33\": 1, \"67\": 1, \"126\": 5, \"48\": 1, \"129\": 1, \"46\": 2}, \"33\": {\"118\": 1, \"33\": 9, \"44\": 2}, \"86\": {\"86\": 11, \"8\": 1}, \"106\": {\"106\": 8, \"125\": 2, \"97\": 2}, \"54\": {\"54\": 9, \"32\": 1, \"17\": 1, \"56\": 1}, \"125\": {\"125\": 6, \"51\": 2, \"77\": 2, \"0\": 2}, \"83\": {\"87\": 1, \"83\": 10, \"45\": 1}, \"98\": {\"98\": 4, \"4\": 3, \"110\": 1, \"37\": 2, \"54\": 2}, \"11\": {\"11\": 3, \"5\": 2, \"32\": 1, \"112\": 1, \"114\": 1, \"49\": 1, \"117\": 1, \"40\": 1, \"105\": 1}, \"32\": {\"11\": 1, \"32\": 3, \"95\": 1, \"41\": 1, \"55\": 2, \"62\": 2, \"123\": 2}, \"42\": {\"87\": 1, \"32\": 1, \"44\": 4, \"42\": 1, \"70\": 1, \"50\": 1, \"82\": 1, \"80\": 1, \"84\": 1}, \"103\": {\"103\": 9, \"35\": 1, \"111\": 2}, \"87\": {\"83\": 2, \"84\": 2, \"87\": 4, \"48\": 1, \"69\": 1, \"100\": 1, \"90\": 1}, \"61\": {\"13\": 1, \"11\": 1, \"61\": 6, \"129\": 1, \"17\": 1, \"22\": 2}, \"13\": {\"13\": 7, \"16\": 1, \"26\": 2, \"72\": 1, \"57\": 1}, \"4\": {\"4\": 11, \"32\": 1}, \"15\": {\"15\": 4, \"36\": 2, \"75\": 1, \"58\": 2, \"27\": 1}, \"120\": {\"120\": 12}, \"80\": {\"80\": 12}, \"72\": {\"102\": 2, \"72\": 6, \"70\": 2}, \"64\": {\"129\": 1, \"64\": 9, \"61\": 1, \"66\": 1}, \"81\": {\"72\": 1, \"81\": 11}, \"102\": {\"102\": 11, \"90\": 1}, \"76\": {\"76\": 9, \"14\": 1, \"50\": 1, \"73\": 1}, \"49\": {\"110\": 1, \"129\": 1, \"107\": 1, \"68\": 1, \"41\": 1, \"108\": 1, \"12\": 1, \"66\": 1, \"61\": 1, \"21\": 1}, \"129\": {\"110\": 4, \"61\": 3, \"50\": 1, \"129\": 1, \"1\": 1, \"112\": 2}, \"89\": {\"89\": 10, \"116\": 1, \"119\": 1}, \"52\": {\"110\": 2, \"74\": 1, \"107\": 1, \"114\": 2, \"34\": 2, \"112\": 1, \"52\": 2, \"122\": 1}, \"35\": {\"35\": 9, \"79\": 1, \"101\": 1, \"24\": 1}, \"53\": {\"53\": 4, \"129\": 1, \"37\": 1, \"79\": 1, \"61\": 2, \"47\": 1, \"108\": 1, \"58\": 1}, \"112\": {\"112\": 5, \"105\": 1, \"64\": 1, \"41\": 1, \"78\": 1, \"3\": 1, \"37\": 1, \"66\": 1}, \"105\": {\"105\": 9, \"122\": 1, \"115\": 1, \"71\": 1}, \"100\": {\"100\": 9, \"69\": 1, \"96\": 1, \"118\": 1}, \"9\": {\"9\": 11, \"58\": 1}, \"82\": {\"92\": 1, \"82\": 8, \"126\": 1, \"63\": 2}, \"51\": {\"51\": 8, \"97\": 2, \"125\": 2}, \"21\": {\"100\": 2, \"21\": 7, \"117\": 1, \"118\": 2}, \"92\": {\"82\": 2, \"45\": 2, \"92\": 5, \"117\": 1, \"33\": 2}, \"69\": {\"69\": 10, \"109\": 1, \"90\": 1}, \"77\": {\"77\": 10, \"30\": 1, \"79\": 1}, \"50\": {\"50\": 6, \"82\": 1, \"73\": 1, \"14\": 1, \"28\": 1, \"129\": 2}, \"36\": {\"36\": 3, \"35\": 1, \"111\": 1, \"0\": 1, \"9\": 3, \"75\": 2, \"79\": 1}, \"16\": {\"16\": 9, \"88\": 1, \"20\": 1, \"120\": 1}, \"8\": {\"18\": 1, \"8\": 6, \"107\": 1, \"114\": 1, \"86\": 1, \"120\": 1, \"64\": 1}, \"127\": {\"127\": 8, \"59\": 1, \"7\": 3}, \"46\": {\"82\": 1, \"46\": 8, \"31\": 1}, \"84\": {\"46\": 2, \"84\": 6, \"83\": 2, \"92\": 1, \"31\": 1}, \"18\": {\"18\": 10, \"65\": 1, \"2\": 1}, \"123\": {\"123\": 8, \"62\": 1, \"43\": 1}, \"56\": {\"71\": 2, \"56\": 5, \"108\": 2, \"122\": 2, \"15\": 1}, \"26\": {\"26\": 10, \"81\": 2}, \"14\": {\"65\": 1, \"14\": 4, \"3\": 2, \"62\": 1, \"129\": 2, \"43\": 1, \"2\": 1}, \"109\": {\"88\": 2, \"109\": 2, \"119\": 1, \"69\": 1, \"90\": 1, \"93\": 2, \"120\": 1, \"100\": 2}, \"66\": {\"66\": 10, \"47\": 1, \"85\": 1}, \"24\": {\"71\": 2, \"75\": 1, \"110\": 1, \"43\": 1, \"11\": 2, \"6\": 1, \"122\": 1, \"47\": 1, \"124\": 1, \"105\": 1}, \"71\": {\"65\": 1, \"71\": 3, \"112\": 2, \"105\": 3, \"40\": 2, \"5\": 1}, \"65\": {\"65\": 9, \"75\": 1, \"51\": 1, \"20\": 1}, \"75\": {\"75\": 10, \"30\": 1, \"21\": 1}, \"111\": {\"111\": 11, \"35\": 1}, \"30\": {\"30\": 2, \"51\": 1, \"127\": 1, \"77\": 2, \"106\": 2, \"6\": 1, \"97\": 1, \"57\": 1, \"128\": 1}, \"85\": {\"85\": 8, \"38\": 1, \"115\": 1, \"19\": 1, \"66\": 1}, \"113\": {\"113\": 7, \"118\": 2, \"52\": 1}, \"45\": {\"45\": 8, \"1\": 2, \"92\": 2}, \"29\": {\"29\": 7, \"128\": 1, \"7\": 1, \"12\": 2, \"20\": 1}, \"20\": {\"20\": 9, \"117\": 1, \"16\": 1, \"65\": 1}, \"25\": {\"25\": 7, \"106\": 2, \"6\": 1, \"75\": 2}, \"0\": {\"0\": 6, \"12\": 2, \"111\": 2, \"91\": 1, \"98\": 1}, \"68\": {\"68\": 11, \"12\": 1}, \"119\": {\"119\": 8, \"116\": 2, \"87\": 1, \"89\": 1}, \"90\": {\"90\": 8, \"102\": 3, \"119\": 1}, \"38\": {\"38\": 11, \"60\": 1}, \"99\": {\"99\": 11, \"121\": 1}, \"1\": {\"1\": 8, \"70\": 2, \"80\": 1, \"14\": 1}, \"67\": {\"1\": 2, \"90\": 1, \"67\": 6, \"51\": 1, \"42\": 1, \"75\": 1}, \"63\": {\"63\": 12}, \"34\": {\"34\": 4, \"66\": 1, \"128\": 1, \"122\": 1, \"124\": 3, \"112\": 1, \"52\": 1}, \"108\": {\"28\": 1, \"4\": 1, \"108\": 5, \"19\": 2, \"129\": 1, \"49\": 1, \"11\": 1}, \"40\": {\"40\": 7, \"28\": 1, \"5\": 1, \"114\": 1, \"61\": 2}, \"47\": {\"78\": 2, \"34\": 1, \"47\": 7, \"129\": 2}, \"37\": {\"37\": 12}, \"78\": {\"20\": 1, \"96\": 1, \"3\": 1, \"78\": 1, \"47\": 1, \"48\": 1, \"50\": 1, \"102\": 1, \"122\": 1, \"100\": 1, \"16\": 1, \"22\": 1}, \"96\": {\"90\": 2, \"100\": 1, \"96\": 8, \"109\": 1}, \"43\": {\"78\": 1, \"21\": 1, \"44\": 2, \"67\": 1, \"43\": 1, \"62\": 2, \"42\": 2, \"14\": 1, \"73\": 1}, \"5\": {\"5\": 7, \"114\": 1, \"107\": 1, \"40\": 1}, \"124\": {\"124\": 10, \"122\": 1, \"11\": 1}, \"44\": {\"44\": 12}, \"41\": {\"124\": 2, \"41\": 7, \"17\": 1, \"54\": 1, \"65\": 1}, \"116\": {\"116\": 8, \"119\": 2, \"96\": 1, \"33\": 1}, \"19\": {\"43\": 1, \"64\": 1, \"19\": 6, \"105\": 1, \"47\": 1, \"1\": 1, \"38\": 1}, \"115\": {\"78\": 2, \"95\": 1, \"22\": 1, \"129\": 1, \"115\": 2, \"110\": 2, \"11\": 1, \"105\": 2}, \"95\": {\"95\": 8, \"2\": 1, \"122\": 1, \"10\": 2}, \"3\": {\"112\": 2, \"22\": 2, \"3\": 4, \"107\": 1, \"10\": 1}, \"59\": {\"127\": 2, \"59\": 4, \"104\": 1, \"128\": 3, \"98\": 1, \"7\": 1}, \"55\": {\"19\": 2, \"55\": 6, \"84\": 1, \"47\": 1, \"1\": 2}, \"70\": {\"38\": 1, \"48\": 1, \"1\": 3, \"72\": 1, \"93\": 1, \"19\": 1, \"70\": 1, \"55\": 1, \"33\": 2}, \"6\": {\"6\": 9, \"25\": 2, \"75\": 1}, \"2\": {\"2\": 12}, \"48\": {\"48\": 8, \"81\": 1, \"93\": 1, \"31\": 1, \"26\": 1}, \"23\": {\"117\": 1, \"108\": 1, \"107\": 1, \"39\": 1, \"121\": 1, \"95\": 1, \"65\": 1, \"42\": 1, \"26\": 2, \"23\": 2}, \"7\": {\"41\": 2, \"7\": 4, \"68\": 1, \"29\": 3, \"127\": 2}, \"122\": {\"122\": 5, \"40\": 3, \"95\": 1, \"107\": 2, \"32\": 1}, \"57\": {\"57\": 8, \"117\": 1, \"72\": 1, \"13\": 1, \"18\": 1}, \"39\": {\"39\": 3, \"48\": 1, \"113\": 1, \"18\": 1, \"57\": 2, \"88\": 2}, \"79\": {\"79\": 7, \"56\": 1, \"77\": 1, \"0\": 1, \"101\": 2}, \"27\": {\"27\": 6, \"58\": 2, \"68\": 1, \"71\": 1}, \"74\": {\"74\": 4, \"79\": 1, \"56\": 1, \"128\": 1, \"29\": 1, \"91\": 1, \"120\": 1, \"51\": 1, \"59\": 1}, \"73\": {\"73\": 11, \"14\": 1}, \"62\": {\"62\": 12}, \"107\": {\"107\": 10, \"37\": 1, \"40\": 1}, \"128\": {\"53\": 2, \"73\": 1, \"94\": 1, \"128\": 2, \"59\": 1, \"123\": 1, \"14\": 1, \"40\": 1, \"33\": 2}, \"60\": {\"73\": 2, \"83\": 2, \"60\": 4, \"38\": 2, \"123\": 2}, \"114\": {\"114\": 11, \"86\": 1}, \"22\": {\"22\": 12}, \"93\": {\"93\": 9, \"72\": 2, \"48\": 1}, \"94\": {\"94\": 6, \"59\": 1, \"97\": 1, \"51\": 1, \"6\": 1, \"20\": 1, \"101\": 1}, \"31\": {\"89\": 2, \"31\": 7, \"46\": 1}, \"104\": {\"104\": 12}, \"58\": {\"58\": 12}}}, \"per_domain_accuracy\": {\"ORACLE.run114\": {\"accuracy\": 0.8791666666666667, \"source?\": true}, \"ORACLE.run120\": {\"accuracy\": 0.7971354166666667, \"source?\": true}, \"ORACLE.run138\": {\"accuracy\": 0.78359375, \"source?\": true}, \"ORACLE.run18\": {\"accuracy\": 0.7763020833333333, \"source?\": true}, \"ORACLE.run150\": {\"accuracy\": 0.8263020833333333, \"source?\": true}, \"ORACLE.run132\": {\"accuracy\": 0.8265625, \"source?\": true}, \"ORACLE.run126\": {\"accuracy\": 0.66484375, \"source?\": true}, \"ORACLE.run144\": {\"accuracy\": 0.7341145833333333, \"source?\": true}, \"Wisig_3\": {\"accuracy\": 0.5944010416666666, \"source?\": false}, \"Wisig_4\": {\"accuracy\": 0.55859375, \"source?\": false}, \"Wisig_1\": {\"accuracy\": 0.6184895833333334, \"source?\": false}, \"Wisig_2\": {\"accuracy\": 0.5787760416666666, \"source?\": false}}}, \"history\": {\"epoch_indices\": [1, 2, 3, 4, 5, 6], \"train_label_loss\": [0.868300052894102, 0.7003802836883725, 0.49535598502815925, 0.41980215195494347, 0.40028572618639807, 0.3831269210499678], \"source_val_label_loss\": [24.204261779785156, 0.5960138440132141, 0.5359607934951782, 0.48099222779273987, 0.43125420808792114, 0.37818723917007446], \"target_val_label_loss\": [797.8839721679688, 86.57923889160156, 141.37635803222656, 148.06106567382812, 132.224609375, 98.80028533935547], \"source_val_acc_label\": [0.61416015625, 0.7860026041666667, 0.8012044270833333, 0.8318684895833334, 0.8476236979166667, 0.8699544270833334], \"target_val_acc_label\": [0.55126953125, 0.5875651041666666, 0.5970052083333334, 0.6075846354166666, 0.6015625, 0.6184895833333334]}, \"dataset_metrics\": {\"source\": {\"train\": {\"n_unique_x\": 179200, \"n_unique_y\": 16, \"n_batch/episode\": 6720}, \"val\": {\"n_unique_x\": 38400, \"n_unique_y\": 16, \"n_batch/episode\": 960}, \"test\": {\"n_unique_x\": 38400, \"n_unique_y\": 16, \"n_batch/episode\": 960}}, \"target\": {\"train\": {\"n_unique_x\": 36400, \"n_unique_y\": 130, \"n_batch/episode\": 1347}, \"val\": {\"n_unique_x\": 7800, \"n_unique_y\": 130, \"n_batch/episode\": 192}, \"test\": {\"n_unique_x\": 7800, \"n_unique_y\": 130, \"n_batch/episode\": 192}}}}'"
      ]
     },
     "execution_count": 29,
     "metadata": {},
     "output_type": "execute_result"
    }
   ],
   "source": [
    "json.dumps(experiment)"
   ]
  }
 ],
 "metadata": {
  "celltoolbar": "Tags",
  "kernelspec": {
   "display_name": "Python 3 (ipykernel)",
   "language": "python",
   "name": "python3"
  },
  "language_info": {
   "codemirror_mode": {
    "name": "ipython",
    "version": 3
   },
   "file_extension": ".py",
   "mimetype": "text/x-python",
   "name": "python",
   "nbconvert_exporter": "python",
   "pygments_lexer": "ipython3",
   "version": "3.8.10"
  },
  "papermill": {
   "default_parameters": {},
   "duration": 1178.97043,
   "end_time": "2022-03-07T07:24:13.536450",
   "environment_variables": {},
   "exception": null,
   "input_path": "/mnt/wd500GB/CSC500/csc500-main/csc500-notebooks/templates/tl_ptn_template.ipynb",
   "output_path": "trial.ipynb",
   "parameters": {
    "parameters": {
     "BEST_MODEL_PATH": "./best_model.pth",
     "NUM_LOGS_PER_EPOCH": 10,
     "criteria_for_best": "target_loss",
     "dataset_seed": 1337,
     "datasets": [
      {
       "domain_prefix": "Wisig_",
       "domains": [
        1,
        2,
        3,
        4
       ],
       "episode_transforms": [],
       "labels": [
        "1-10",
        "1-12",
        "1-14",
        "1-16",
        "1-18",
        "1-19",
        "1-8",
        "10-11",
        "10-17",
        "10-4",
        "10-7",
        "11-1",
        "11-10",
        "11-19",
        "11-20",
        "11-4",
        "11-7",
        "12-19",
        "12-20",
        "12-7",
        "13-14",
        "13-18",
        "13-19",
        "13-20",
        "13-3",
        "13-7",
        "14-10",
        "14-11",
        "14-12",
        "14-13",
        "14-14",
        "14-19",
        "14-20",
        "14-7",
        "14-8",
        "14-9",
        "15-1",
        "15-19",
        "15-6",
        "16-1",
        "16-16",
        "16-19",
        "16-20",
        "17-10",
        "17-11",
        "18-1",
        "18-10",
        "18-11",
        "18-12",
        "18-13",
        "18-14",
        "18-15",
        "18-16",
        "18-17",
        "18-19",
        "18-2",
        "18-20",
        "18-4",
        "18-5",
        "18-7",
        "18-8",
        "18-9",
        "19-1",
        "19-10",
        "19-11",
        "19-12",
        "19-13",
        "19-14",
        "19-15",
        "19-19",
        "19-2",
        "19-20",
        "19-3",
        "19-4",
        "19-6",
        "19-7",
        "19-8",
        "19-9",
        "2-1",
        "2-13",
        "2-15",
        "2-3",
        "2-4",
        "2-5",
        "2-6",
        "2-7",
        "2-8",
        "20-1",
        "20-12",
        "20-14",
        "20-15",
        "20-16",
        "20-18",
        "20-19",
        "20-20",
        "20-3",
        "20-4",
        "20-5",
        "20-7",
        "20-8",
        "3-1",
        "3-13",
        "3-18",
        "3-2",
        "3-8",
        "4-1",
        "4-10",
        "4-11",
        "5-1",
        "5-5",
        "6-1",
        "6-15",
        "6-6",
        "7-10",
        "7-11",
        "7-12",
        "7-13",
        "7-14",
        "7-7",
        "7-8",
        "7-9",
        "8-1",
        "8-13",
        "8-14",
        "8-18",
        "8-20",
        "8-3",
        "8-8",
        "9-1",
        "9-7"
       ],
       "num_examples_per_domain_per_label": 100,
       "pickle_path": "/mnt/wd500GB/CSC500/csc500-main/datasets/wisig.node3-19.stratified_ds.2022A.pkl",
       "source_or_target_dataset": "target",
       "x_transforms": [
        "unit_power"
       ]
      },
      {
       "domain_prefix": "ORACLE.run1",
       "domains": [
        32,
        38,
        8,
        44,
        14,
        50,
        20,
        26
       ],
       "episode_transforms": [],
       "labels": [
        "3123D52",
        "3123D65",
        "3123D79",
        "3123D80",
        "3123D54",
        "3123D70",
        "3123D7B",
        "3123D89",
        "3123D58",
        "3123D76",
        "3123D7D",
        "3123EFE",
        "3123D64",
        "3123D78",
        "3123D7E",
        "3124E4A"
       ],
       "num_examples_per_domain_per_label": 2000,
       "pickle_path": "/mnt/wd500GB/CSC500/csc500-main/datasets/oracle.Run1_framed_2000Examples_stratified_ds.2022A.pkl",
       "source_or_target_dataset": "source",
       "x_transforms": [
        "unit_power"
       ]
      }
     ],
     "device": "cuda",
     "experiment_name": "tl_1_wisig-oracle.run1",
     "lr": 0.001,
     "n_epoch": 50,
     "n_query": 2,
     "n_shot": 3,
     "n_way": 16,
     "patience": 3,
     "seed": 1337,
     "test_k_factor": 2,
     "torch_default_dtype": "torch.float32",
     "train_k_factor": 3,
     "val_k_factor": 2,
     "x_net": [
      {
       "class": "nnReshape",
       "kargs": {
        "shape": [
         -1,
         1,
         2,
         256
        ]
       }
      },
      {
       "class": "Conv2d",
       "kargs": {
        "bias": false,
        "in_channels": 1,
        "kernel_size": [
         1,
         7
        ],
        "out_channels": 256,
        "padding": [
         0,
         3
        ]
       }
      },
      {
       "class": "ReLU",
       "kargs": {
        "inplace": true
       }
      },
      {
       "class": "BatchNorm2d",
       "kargs": {
        "num_features": 256
       }
      },
      {
       "class": "Conv2d",
       "kargs": {
        "bias": true,
        "in_channels": 256,
        "kernel_size": [
         2,
         7
        ],
        "out_channels": 80,
        "padding": [
         0,
         3
        ]
       }
      },
      {
       "class": "ReLU",
       "kargs": {
        "inplace": true
       }
      },
      {
       "class": "BatchNorm2d",
       "kargs": {
        "num_features": 80
       }
      },
      {
       "class": "Flatten",
       "kargs": {}
      },
      {
       "class": "Linear",
       "kargs": {
        "in_features": 20480,
        "out_features": 256
       }
      },
      {
       "class": "ReLU",
       "kargs": {
        "inplace": true
       }
      },
      {
       "class": "BatchNorm1d",
       "kargs": {
        "num_features": 256
       }
      },
      {
       "class": "Linear",
       "kargs": {
        "in_features": 256,
        "out_features": 256
       }
      }
     ]
    }
   },
   "start_time": "2022-03-07T07:04:34.566020",
   "version": "2.3.4"
  }
 },
 "nbformat": 4,
 "nbformat_minor": 5
}