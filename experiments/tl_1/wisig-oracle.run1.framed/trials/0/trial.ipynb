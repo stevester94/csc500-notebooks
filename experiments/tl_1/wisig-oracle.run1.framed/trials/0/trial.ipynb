{
 "cells": [
  {
   "cell_type": "markdown",
   "id": "9fea5f46",
   "metadata": {
    "papermill": {
     "duration": 0.018353,
     "end_time": "2022-03-07T06:41:07.089776",
     "exception": false,
     "start_time": "2022-03-07T06:41:07.071423",
     "status": "completed"
    },
    "tags": []
   },
   "source": [
    "# Transfer Learning Template"
   ]
  },
  {
   "cell_type": "code",
   "execution_count": 1,
   "id": "0902182a",
   "metadata": {
    "execution": {
     "iopub.execute_input": "2022-03-07T06:41:07.130115Z",
     "iopub.status.busy": "2022-03-07T06:41:07.129594Z",
     "iopub.status.idle": "2022-03-07T06:41:07.863432Z",
     "shell.execute_reply": "2022-03-07T06:41:07.862891Z"
    },
    "papermill": {
     "duration": 0.761293,
     "end_time": "2022-03-07T06:41:07.863557",
     "exception": false,
     "start_time": "2022-03-07T06:41:07.102264",
     "status": "completed"
    },
    "tags": []
   },
   "outputs": [],
   "source": [
    "%load_ext autoreload\n",
    "%autoreload 2\n",
    "%matplotlib inline\n",
    "\n",
    "    \n",
    "import os, json, sys, time, random\n",
    "import numpy as np\n",
    "import torch\n",
    "from torch.optim import Adam\n",
    "from  easydict import EasyDict\n",
    "import matplotlib.pyplot as plt\n",
    "\n",
    "from steves_models.steves_ptn import Steves_Prototypical_Network\n",
    "\n",
    "from steves_utils.lazy_iterable_wrapper import Lazy_Iterable_Wrapper\n",
    "from steves_utils.iterable_aggregator import Iterable_Aggregator\n",
    "from steves_utils.ptn_train_eval_test_jig import  PTN_Train_Eval_Test_Jig\n",
    "from steves_utils.torch_sequential_builder import build_sequential\n",
    "from steves_utils.torch_utils import get_dataset_metrics, ptn_confusion_by_domain_over_dataloader\n",
    "from steves_utils.utils_v2 import (per_domain_accuracy_from_confusion, get_datasets_base_path)\n",
    "from steves_utils.PTN.utils import independent_accuracy_assesment\n",
    "\n",
    "from torch.utils.data import DataLoader\n",
    "\n",
    "from steves_utils.stratified_dataset.episodic_accessor import Episodic_Accessor_Factory\n",
    "\n",
    "from steves_utils.ptn_do_report import (\n",
    "    get_loss_curve,\n",
    "    get_results_table,\n",
    "    get_parameters_table,\n",
    "    get_domain_accuracies,\n",
    ")\n",
    "\n",
    "from steves_utils.transforms import get_chained_transform"
   ]
  },
  {
   "cell_type": "markdown",
   "id": "41c840b4",
   "metadata": {
    "papermill": {
     "duration": 0.012417,
     "end_time": "2022-03-07T06:41:07.892799",
     "exception": false,
     "start_time": "2022-03-07T06:41:07.880382",
     "status": "completed"
    },
    "tags": []
   },
   "source": [
    "# Allowed Parameters\n",
    "These are allowed parameters, not defaults\n",
    "Each of these values need to be present in the injected parameters (the notebook will raise an exception if they are not present)\n",
    "\n",
    "Papermill uses the cell tag \"parameters\" to inject the real parameters below this cell.\n",
    "Enable tags to see what I mean"
   ]
  },
  {
   "cell_type": "code",
   "execution_count": 2,
   "id": "fd44eb83",
   "metadata": {
    "execution": {
     "iopub.execute_input": "2022-03-07T06:41:07.921559Z",
     "iopub.status.busy": "2022-03-07T06:41:07.921297Z",
     "iopub.status.idle": "2022-03-07T06:41:07.936226Z",
     "shell.execute_reply": "2022-03-07T06:41:07.935799Z"
    },
    "papermill": {
     "duration": 0.031027,
     "end_time": "2022-03-07T06:41:07.936326",
     "exception": false,
     "start_time": "2022-03-07T06:41:07.905299",
     "status": "completed"
    },
    "tags": []
   },
   "outputs": [],
   "source": [
    "required_parameters = {\n",
    "    \"experiment_name\",\n",
    "    \"lr\",\n",
    "    \"device\",\n",
    "    \"seed\",\n",
    "    \"dataset_seed\",\n",
    "    \"n_shot\",\n",
    "    \"n_query\",\n",
    "    \"n_way\",\n",
    "    \"train_k_factor\",\n",
    "    \"val_k_factor\",\n",
    "    \"test_k_factor\",\n",
    "    \"n_epoch\",\n",
    "    \"patience\",\n",
    "    \"criteria_for_best\",\n",
    "    \"x_net\",\n",
    "    \"datasets\",\n",
    "    \"torch_default_dtype\",\n",
    "    \"NUM_LOGS_PER_EPOCH\",\n",
    "    \"BEST_MODEL_PATH\",\n",
    "}"
   ]
  },
  {
   "cell_type": "code",
   "execution_count": 3,
   "id": "fa3f0049",
   "metadata": {
    "execution": {
     "iopub.execute_input": "2022-03-07T06:41:07.980379Z",
     "iopub.status.busy": "2022-03-07T06:41:07.979322Z",
     "iopub.status.idle": "2022-03-07T06:41:07.991201Z",
     "shell.execute_reply": "2022-03-07T06:41:07.990783Z"
    },
    "papermill": {
     "duration": 0.037047,
     "end_time": "2022-03-07T06:41:07.991310",
     "exception": false,
     "start_time": "2022-03-07T06:41:07.954263",
     "status": "completed"
    },
    "tags": [
     "parameters"
    ]
   },
   "outputs": [],
   "source": [
    "from steves_utils.CORES.utils import (\n",
    "    ALL_NODES,\n",
    "    ALL_NODES_MINIMUM_1000_EXAMPLES,\n",
    "    ALL_DAYS\n",
    ")\n",
    "\n",
    "from steves_utils.ORACLE.utils_v2 import (\n",
    "    ALL_DISTANCES_FEET_NARROWED,\n",
    "    ALL_RUNS,\n",
    "    ALL_SERIAL_NUMBERS,\n",
    ")\n",
    "\n",
    "standalone_parameters = {}\n",
    "standalone_parameters[\"experiment_name\"] = \"STANDALONE PTN\"\n",
    "standalone_parameters[\"lr\"] = 0.001\n",
    "standalone_parameters[\"device\"] = \"cuda\"\n",
    "\n",
    "standalone_parameters[\"seed\"] = 1337\n",
    "standalone_parameters[\"dataset_seed\"] = 1337\n",
    "\n",
    "standalone_parameters[\"n_way\"] = 8\n",
    "standalone_parameters[\"n_shot\"] = 3\n",
    "standalone_parameters[\"n_query\"]  = 2\n",
    "standalone_parameters[\"train_k_factor\"] = 1\n",
    "standalone_parameters[\"val_k_factor\"] = 2\n",
    "standalone_parameters[\"test_k_factor\"] = 2\n",
    "\n",
    "\n",
    "standalone_parameters[\"n_epoch\"] = 50\n",
    "\n",
    "standalone_parameters[\"patience\"] = 10\n",
    "standalone_parameters[\"criteria_for_best\"] = \"source_loss\"\n",
    "\n",
    "standalone_parameters[\"datasets\"] = [\n",
    "    {\n",
    "        \"labels\": ALL_SERIAL_NUMBERS,\n",
    "        \"domains\": ALL_DISTANCES_FEET_NARROWED,\n",
    "        \"num_examples_per_domain_per_label\": 100,\n",
    "        \"pickle_path\": os.path.join(get_datasets_base_path(), \"oracle.Run1_framed_2000Examples_stratified_ds.2022A.pkl\"),\n",
    "        \"source_or_target_dataset\": \"source\",\n",
    "        \"x_transforms\": [\"unit_mag\", \"minus_two\"],\n",
    "        \"episode_transforms\": [],\n",
    "        \"domain_prefix\": \"ORACLE_\"\n",
    "    },\n",
    "    {\n",
    "        \"labels\": ALL_NODES,\n",
    "        \"domains\": ALL_DAYS,\n",
    "        \"num_examples_per_domain_per_label\": 100,\n",
    "        \"pickle_path\": os.path.join(get_datasets_base_path(), \"cores.stratified_ds.2022A.pkl\"),\n",
    "        \"source_or_target_dataset\": \"target\",\n",
    "        \"x_transforms\": [\"unit_power\", \"times_zero\"],\n",
    "        \"episode_transforms\": [],\n",
    "        \"domain_prefix\": \"CORES_\"\n",
    "    }   \n",
    "]\n",
    "\n",
    "standalone_parameters[\"torch_default_dtype\"] = \"torch.float32\" \n",
    "\n",
    "\n",
    "\n",
    "standalone_parameters[\"x_net\"] =     [\n",
    "    {\"class\": \"nnReshape\", \"kargs\": {\"shape\":[-1, 1, 2, 256]}},\n",
    "    {\"class\": \"Conv2d\", \"kargs\": { \"in_channels\":1, \"out_channels\":256, \"kernel_size\":(1,7), \"bias\":False, \"padding\":(0,3), },},\n",
    "    {\"class\": \"ReLU\", \"kargs\": {\"inplace\": True}},\n",
    "    {\"class\": \"BatchNorm2d\", \"kargs\": {\"num_features\":256}},\n",
    "\n",
    "    {\"class\": \"Conv2d\", \"kargs\": { \"in_channels\":256, \"out_channels\":80, \"kernel_size\":(2,7), \"bias\":True, \"padding\":(0,3), },},\n",
    "    {\"class\": \"ReLU\", \"kargs\": {\"inplace\": True}},\n",
    "    {\"class\": \"BatchNorm2d\", \"kargs\": {\"num_features\":80}},\n",
    "    {\"class\": \"Flatten\", \"kargs\": {}},\n",
    "\n",
    "    {\"class\": \"Linear\", \"kargs\": {\"in_features\": 80*256, \"out_features\": 256}}, # 80 units per IQ pair\n",
    "    {\"class\": \"ReLU\", \"kargs\": {\"inplace\": True}},\n",
    "    {\"class\": \"BatchNorm1d\", \"kargs\": {\"num_features\":256}},\n",
    "\n",
    "    {\"class\": \"Linear\", \"kargs\": {\"in_features\": 256, \"out_features\": 256}},\n",
    "]\n",
    "\n",
    "# Parameters relevant to results\n",
    "# These parameters will basically never need to change\n",
    "standalone_parameters[\"NUM_LOGS_PER_EPOCH\"] = 10\n",
    "standalone_parameters[\"BEST_MODEL_PATH\"] = \"./best_model.pth\"\n",
    "\n",
    "\n",
    "\n",
    "\n"
   ]
  },
  {
   "cell_type": "code",
   "execution_count": 4,
   "id": "d0601efd",
   "metadata": {
    "execution": {
     "iopub.execute_input": "2022-03-07T06:41:08.028511Z",
     "iopub.status.busy": "2022-03-07T06:41:08.028200Z",
     "iopub.status.idle": "2022-03-07T06:41:08.039535Z",
     "shell.execute_reply": "2022-03-07T06:41:08.039274Z"
    },
    "papermill": {
     "duration": 0.031342,
     "end_time": "2022-03-07T06:41:08.039592",
     "exception": false,
     "start_time": "2022-03-07T06:41:08.008250",
     "status": "completed"
    },
    "tags": [
     "injected-parameters"
    ]
   },
   "outputs": [],
   "source": [
    "# Parameters\n",
    "parameters = {\n",
    "    \"experiment_name\": \"tl_1_wisig-oracle.run1\",\n",
    "    \"device\": \"cuda\",\n",
    "    \"lr\": 0.001,\n",
    "    \"seed\": 1337,\n",
    "    \"dataset_seed\": 1337,\n",
    "    \"n_shot\": 3,\n",
    "    \"n_query\": 2,\n",
    "    \"train_k_factor\": 3,\n",
    "    \"val_k_factor\": 2,\n",
    "    \"test_k_factor\": 2,\n",
    "    \"torch_default_dtype\": \"torch.float32\",\n",
    "    \"n_epoch\": 50,\n",
    "    \"patience\": 3,\n",
    "    \"criteria_for_best\": \"target_loss\",\n",
    "    \"x_net\": [\n",
    "        {\"class\": \"nnReshape\", \"kargs\": {\"shape\": [-1, 1, 2, 256]}},\n",
    "        {\n",
    "            \"class\": \"Conv2d\",\n",
    "            \"kargs\": {\n",
    "                \"in_channels\": 1,\n",
    "                \"out_channels\": 256,\n",
    "                \"kernel_size\": [1, 7],\n",
    "                \"bias\": False,\n",
    "                \"padding\": [0, 3],\n",
    "            },\n",
    "        },\n",
    "        {\"class\": \"ReLU\", \"kargs\": {\"inplace\": True}},\n",
    "        {\"class\": \"BatchNorm2d\", \"kargs\": {\"num_features\": 256}},\n",
    "        {\n",
    "            \"class\": \"Conv2d\",\n",
    "            \"kargs\": {\n",
    "                \"in_channels\": 256,\n",
    "                \"out_channels\": 80,\n",
    "                \"kernel_size\": [2, 7],\n",
    "                \"bias\": True,\n",
    "                \"padding\": [0, 3],\n",
    "            },\n",
    "        },\n",
    "        {\"class\": \"ReLU\", \"kargs\": {\"inplace\": True}},\n",
    "        {\"class\": \"BatchNorm2d\", \"kargs\": {\"num_features\": 80}},\n",
    "        {\"class\": \"Flatten\", \"kargs\": {}},\n",
    "        {\"class\": \"Linear\", \"kargs\": {\"in_features\": 20480, \"out_features\": 256}},\n",
    "        {\"class\": \"ReLU\", \"kargs\": {\"inplace\": True}},\n",
    "        {\"class\": \"BatchNorm1d\", \"kargs\": {\"num_features\": 256}},\n",
    "        {\"class\": \"Linear\", \"kargs\": {\"in_features\": 256, \"out_features\": 256}},\n",
    "    ],\n",
    "    \"NUM_LOGS_PER_EPOCH\": 10,\n",
    "    \"BEST_MODEL_PATH\": \"./best_model.pth\",\n",
    "    \"n_way\": 16,\n",
    "    \"datasets\": [\n",
    "        {\n",
    "            \"labels\": [\n",
    "                \"1-10\",\n",
    "                \"1-12\",\n",
    "                \"1-14\",\n",
    "                \"1-16\",\n",
    "                \"1-18\",\n",
    "                \"1-19\",\n",
    "                \"1-8\",\n",
    "                \"10-11\",\n",
    "                \"10-17\",\n",
    "                \"10-4\",\n",
    "                \"10-7\",\n",
    "                \"11-1\",\n",
    "                \"11-10\",\n",
    "                \"11-19\",\n",
    "                \"11-20\",\n",
    "                \"11-4\",\n",
    "                \"11-7\",\n",
    "                \"12-19\",\n",
    "                \"12-20\",\n",
    "                \"12-7\",\n",
    "                \"13-14\",\n",
    "                \"13-18\",\n",
    "                \"13-19\",\n",
    "                \"13-20\",\n",
    "                \"13-3\",\n",
    "                \"13-7\",\n",
    "                \"14-10\",\n",
    "                \"14-11\",\n",
    "                \"14-12\",\n",
    "                \"14-13\",\n",
    "                \"14-14\",\n",
    "                \"14-19\",\n",
    "                \"14-20\",\n",
    "                \"14-7\",\n",
    "                \"14-8\",\n",
    "                \"14-9\",\n",
    "                \"15-1\",\n",
    "                \"15-19\",\n",
    "                \"15-6\",\n",
    "                \"16-1\",\n",
    "                \"16-16\",\n",
    "                \"16-19\",\n",
    "                \"16-20\",\n",
    "                \"17-10\",\n",
    "                \"17-11\",\n",
    "                \"18-1\",\n",
    "                \"18-10\",\n",
    "                \"18-11\",\n",
    "                \"18-12\",\n",
    "                \"18-13\",\n",
    "                \"18-14\",\n",
    "                \"18-15\",\n",
    "                \"18-16\",\n",
    "                \"18-17\",\n",
    "                \"18-19\",\n",
    "                \"18-2\",\n",
    "                \"18-20\",\n",
    "                \"18-4\",\n",
    "                \"18-5\",\n",
    "                \"18-7\",\n",
    "                \"18-8\",\n",
    "                \"18-9\",\n",
    "                \"19-1\",\n",
    "                \"19-10\",\n",
    "                \"19-11\",\n",
    "                \"19-12\",\n",
    "                \"19-13\",\n",
    "                \"19-14\",\n",
    "                \"19-15\",\n",
    "                \"19-19\",\n",
    "                \"19-2\",\n",
    "                \"19-20\",\n",
    "                \"19-3\",\n",
    "                \"19-4\",\n",
    "                \"19-6\",\n",
    "                \"19-7\",\n",
    "                \"19-8\",\n",
    "                \"19-9\",\n",
    "                \"2-1\",\n",
    "                \"2-13\",\n",
    "                \"2-15\",\n",
    "                \"2-3\",\n",
    "                \"2-4\",\n",
    "                \"2-5\",\n",
    "                \"2-6\",\n",
    "                \"2-7\",\n",
    "                \"2-8\",\n",
    "                \"20-1\",\n",
    "                \"20-12\",\n",
    "                \"20-14\",\n",
    "                \"20-15\",\n",
    "                \"20-16\",\n",
    "                \"20-18\",\n",
    "                \"20-19\",\n",
    "                \"20-20\",\n",
    "                \"20-3\",\n",
    "                \"20-4\",\n",
    "                \"20-5\",\n",
    "                \"20-7\",\n",
    "                \"20-8\",\n",
    "                \"3-1\",\n",
    "                \"3-13\",\n",
    "                \"3-18\",\n",
    "                \"3-2\",\n",
    "                \"3-8\",\n",
    "                \"4-1\",\n",
    "                \"4-10\",\n",
    "                \"4-11\",\n",
    "                \"5-1\",\n",
    "                \"5-5\",\n",
    "                \"6-1\",\n",
    "                \"6-15\",\n",
    "                \"6-6\",\n",
    "                \"7-10\",\n",
    "                \"7-11\",\n",
    "                \"7-12\",\n",
    "                \"7-13\",\n",
    "                \"7-14\",\n",
    "                \"7-7\",\n",
    "                \"7-8\",\n",
    "                \"7-9\",\n",
    "                \"8-1\",\n",
    "                \"8-13\",\n",
    "                \"8-14\",\n",
    "                \"8-18\",\n",
    "                \"8-20\",\n",
    "                \"8-3\",\n",
    "                \"8-8\",\n",
    "                \"9-1\",\n",
    "                \"9-7\",\n",
    "            ],\n",
    "            \"domains\": [1, 2, 3, 4],\n",
    "            \"num_examples_per_domain_per_label\": 100,\n",
    "            \"pickle_path\": \"/mnt/wd500GB/CSC500/csc500-main/datasets/wisig.node3-19.stratified_ds.2022A.pkl\",\n",
    "            \"source_or_target_dataset\": \"source\",\n",
    "            \"x_transforms\": [\"unit_power\"],\n",
    "            \"episode_transforms\": [],\n",
    "            \"domain_prefix\": \"Wisig_\",\n",
    "        },\n",
    "        {\n",
    "            \"labels\": [\n",
    "                \"3123D52\",\n",
    "                \"3123D65\",\n",
    "                \"3123D79\",\n",
    "                \"3123D80\",\n",
    "                \"3123D54\",\n",
    "                \"3123D70\",\n",
    "                \"3123D7B\",\n",
    "                \"3123D89\",\n",
    "                \"3123D58\",\n",
    "                \"3123D76\",\n",
    "                \"3123D7D\",\n",
    "                \"3123EFE\",\n",
    "                \"3123D64\",\n",
    "                \"3123D78\",\n",
    "                \"3123D7E\",\n",
    "                \"3124E4A\",\n",
    "            ],\n",
    "            \"domains\": [32, 38, 8, 44, 14, 50, 20, 26],\n",
    "            \"num_examples_per_domain_per_label\": 2000,\n",
    "            \"pickle_path\": \"/mnt/wd500GB/CSC500/csc500-main/datasets/oracle.Run1_framed_2000Examples_stratified_ds.2022A.pkl\",\n",
    "            \"source_or_target_dataset\": \"target\",\n",
    "            \"x_transforms\": [\"unit_power\"],\n",
    "            \"episode_transforms\": [],\n",
    "            \"domain_prefix\": \"ORACLE.run1\",\n",
    "        },\n",
    "    ],\n",
    "}\n"
   ]
  },
  {
   "cell_type": "code",
   "execution_count": 5,
   "id": "8fa1cc33",
   "metadata": {
    "execution": {
     "iopub.execute_input": "2022-03-07T06:41:08.068567Z",
     "iopub.status.busy": "2022-03-07T06:41:08.068308Z",
     "iopub.status.idle": "2022-03-07T06:41:08.077700Z",
     "shell.execute_reply": "2022-03-07T06:41:08.077440Z"
    },
    "papermill": {
     "duration": 0.02518,
     "end_time": "2022-03-07T06:41:08.077755",
     "exception": false,
     "start_time": "2022-03-07T06:41:08.052575",
     "status": "completed"
    },
    "tags": []
   },
   "outputs": [],
   "source": [
    "# Set this to True if you want to run this template directly\n",
    "STANDALONE = False\n",
    "if STANDALONE:\n",
    "    print(\"parameters not injected, running with standalone_parameters\")\n",
    "    parameters = standalone_parameters\n",
    "\n",
    "if not 'parameters' in locals() and not 'parameters' in globals():\n",
    "    raise Exception(\"Parameter injection failed\")\n",
    "\n",
    "#Use an easy dict for all the parameters\n",
    "p = EasyDict(parameters)\n",
    "\n",
    "supplied_keys = set(p.keys())\n",
    "\n",
    "if  supplied_keys != required_parameters:\n",
    "    print(\"Parameters are incorrect\")\n",
    "    if len(supplied_keys - required_parameters)>0: print(\"Shouldn't have:\", str(supplied_keys - required_parameters))\n",
    "    if len(required_parameters - supplied_keys)>0: print(\"Need to have:\", str(required_parameters - supplied_keys))\n",
    "    raise RuntimeError(\"Parameters are incorrect\")\n",
    "\n"
   ]
  },
  {
   "cell_type": "code",
   "execution_count": 6,
   "id": "3a028d58",
   "metadata": {
    "execution": {
     "iopub.execute_input": "2022-03-07T06:41:08.105889Z",
     "iopub.status.busy": "2022-03-07T06:41:08.105638Z",
     "iopub.status.idle": "2022-03-07T06:41:08.115040Z",
     "shell.execute_reply": "2022-03-07T06:41:08.114809Z"
    },
    "papermill": {
     "duration": 0.024335,
     "end_time": "2022-03-07T06:41:08.115095",
     "exception": false,
     "start_time": "2022-03-07T06:41:08.090760",
     "status": "completed"
    },
    "tags": []
   },
   "outputs": [],
   "source": [
    "###################################\n",
    "# Set the RNGs and make it all deterministic\n",
    "###################################\n",
    "np.random.seed(p.seed)\n",
    "random.seed(p.seed)\n",
    "torch.manual_seed(p.seed)\n",
    "\n",
    "torch.use_deterministic_algorithms(True) "
   ]
  },
  {
   "cell_type": "code",
   "execution_count": 7,
   "id": "b691acf6",
   "metadata": {
    "execution": {
     "iopub.execute_input": "2022-03-07T06:41:08.145437Z",
     "iopub.status.busy": "2022-03-07T06:41:08.145185Z",
     "iopub.status.idle": "2022-03-07T06:41:08.154123Z",
     "shell.execute_reply": "2022-03-07T06:41:08.153899Z"
    },
    "papermill": {
     "duration": 0.02337,
     "end_time": "2022-03-07T06:41:08.154177",
     "exception": false,
     "start_time": "2022-03-07T06:41:08.130807",
     "status": "completed"
    },
    "tags": []
   },
   "outputs": [],
   "source": [
    "###########################################\n",
    "# The stratified datasets honor this\n",
    "###########################################\n",
    "torch.set_default_dtype(eval(p.torch_default_dtype))"
   ]
  },
  {
   "cell_type": "code",
   "execution_count": 8,
   "id": "b5fba671",
   "metadata": {
    "execution": {
     "iopub.execute_input": "2022-03-07T06:41:08.187859Z",
     "iopub.status.busy": "2022-03-07T06:41:08.187607Z",
     "iopub.status.idle": "2022-03-07T06:41:08.223780Z",
     "shell.execute_reply": "2022-03-07T06:41:08.223323Z"
    },
    "papermill": {
     "duration": 0.050646,
     "end_time": "2022-03-07T06:41:08.223889",
     "exception": false,
     "start_time": "2022-03-07T06:41:08.173243",
     "status": "completed"
    },
    "tags": []
   },
   "outputs": [],
   "source": [
    "###################################\n",
    "# Build the network(s)\n",
    "# Note: It's critical to do this AFTER setting the RNG\n",
    "###################################\n",
    "x_net = build_sequential(p.x_net)"
   ]
  },
  {
   "cell_type": "code",
   "execution_count": 9,
   "id": "5d7e61cc",
   "metadata": {
    "execution": {
     "iopub.execute_input": "2022-03-07T06:41:08.255974Z",
     "iopub.status.busy": "2022-03-07T06:41:08.255622Z",
     "iopub.status.idle": "2022-03-07T06:41:08.265762Z",
     "shell.execute_reply": "2022-03-07T06:41:08.265270Z"
    },
    "papermill": {
     "duration": 0.024901,
     "end_time": "2022-03-07T06:41:08.265861",
     "exception": false,
     "start_time": "2022-03-07T06:41:08.240960",
     "status": "completed"
    },
    "tags": []
   },
   "outputs": [],
   "source": [
    "start_time_secs = time.time()"
   ]
  },
  {
   "cell_type": "code",
   "execution_count": 10,
   "id": "c6b67dfd",
   "metadata": {
    "execution": {
     "iopub.execute_input": "2022-03-07T06:41:08.298778Z",
     "iopub.status.busy": "2022-03-07T06:41:08.298512Z",
     "iopub.status.idle": "2022-03-07T06:41:08.307793Z",
     "shell.execute_reply": "2022-03-07T06:41:08.307425Z"
    },
    "papermill": {
     "duration": 0.024342,
     "end_time": "2022-03-07T06:41:08.307868",
     "exception": false,
     "start_time": "2022-03-07T06:41:08.283526",
     "status": "completed"
    },
    "tags": []
   },
   "outputs": [],
   "source": [
    "p.domains_source = []\n",
    "p.domains_target = []\n",
    "\n",
    "\n",
    "train_original_source = []\n",
    "val_original_source   = []\n",
    "test_original_source  = []\n",
    "\n",
    "train_original_target = []\n",
    "val_original_target   = []\n",
    "test_original_target  = []"
   ]
  },
  {
   "cell_type": "code",
   "execution_count": 11,
   "id": "e3d9c3d3",
   "metadata": {
    "execution": {
     "iopub.execute_input": "2022-03-07T06:41:08.341449Z",
     "iopub.status.busy": "2022-03-07T06:41:08.341199Z",
     "iopub.status.idle": "2022-03-07T06:41:08.349957Z",
     "shell.execute_reply": "2022-03-07T06:41:08.349707Z"
    },
    "papermill": {
     "duration": 0.023342,
     "end_time": "2022-03-07T06:41:08.350011",
     "exception": false,
     "start_time": "2022-03-07T06:41:08.326669",
     "status": "completed"
    },
    "tags": []
   },
   "outputs": [],
   "source": [
    "# global_x_transform_func = lambda x: normalize(x.to(torch.get_default_dtype()), \"unit_power\") # unit_power, unit_mag\n",
    "# global_x_transform_func = lambda x: normalize(x, \"unit_power\") # unit_power, unit_mag"
   ]
  },
  {
   "cell_type": "code",
   "execution_count": 12,
   "id": "acb78fd2",
   "metadata": {
    "execution": {
     "iopub.execute_input": "2022-03-07T06:41:08.385572Z",
     "iopub.status.busy": "2022-03-07T06:41:08.385307Z",
     "iopub.status.idle": "2022-03-07T06:41:08.394863Z",
     "shell.execute_reply": "2022-03-07T06:41:08.394414Z"
    },
    "papermill": {
     "duration": 0.02816,
     "end_time": "2022-03-07T06:41:08.394973",
     "exception": false,
     "start_time": "2022-03-07T06:41:08.366813",
     "status": "completed"
    },
    "tags": []
   },
   "outputs": [],
   "source": [
    "def add_dataset(\n",
    "    labels,\n",
    "    domains,\n",
    "    pickle_path,\n",
    "    x_transforms,\n",
    "    episode_transforms,\n",
    "    domain_prefix,\n",
    "    num_examples_per_domain_per_label,\n",
    "    source_or_target_dataset:str,\n",
    "    iterator_seed=p.seed,\n",
    "    dataset_seed=p.dataset_seed,\n",
    "    n_shot=p.n_shot,\n",
    "    n_way=p.n_way,\n",
    "    n_query=p.n_query,\n",
    "    train_val_test_k_factors=(p.train_k_factor,p.val_k_factor,p.test_k_factor),\n",
    "):\n",
    "   \n",
    "    if x_transforms == []: x_transform = None\n",
    "    else: x_transform = get_chained_transform(x_transforms)\n",
    "    \n",
    "    if episode_transforms == []: episode_transform = None\n",
    "    else: raise Exception(\"episode_transforms not implemented\")\n",
    "    \n",
    "    episode_transform = lambda tup, _prefix=domain_prefix: (_prefix + str(tup[0]), tup[1])\n",
    "\n",
    "\n",
    "    eaf = Episodic_Accessor_Factory(\n",
    "        labels=labels,\n",
    "        domains=domains,\n",
    "        num_examples_per_domain_per_label=num_examples_per_domain_per_label,\n",
    "        iterator_seed=iterator_seed,\n",
    "        dataset_seed=dataset_seed,\n",
    "        n_shot=n_shot,\n",
    "        n_way=n_way,\n",
    "        n_query=n_query,\n",
    "        train_val_test_k_factors=train_val_test_k_factors,\n",
    "        pickle_path=pickle_path,\n",
    "        x_transform_func=x_transform,\n",
    "    )\n",
    "\n",
    "    train, val, test = eaf.get_train(), eaf.get_val(), eaf.get_test()\n",
    "    train = Lazy_Iterable_Wrapper(train, episode_transform)\n",
    "    val = Lazy_Iterable_Wrapper(val, episode_transform)\n",
    "    test = Lazy_Iterable_Wrapper(test, episode_transform)\n",
    "\n",
    "    if source_or_target_dataset==\"source\":\n",
    "        train_original_source.append(train)\n",
    "        val_original_source.append(val)\n",
    "        test_original_source.append(test)\n",
    "\n",
    "        p.domains_source.extend(\n",
    "            [domain_prefix + str(u) for u in domains]\n",
    "        )\n",
    "    elif source_or_target_dataset==\"target\":\n",
    "        train_original_target.append(train)\n",
    "        val_original_target.append(val)\n",
    "        test_original_target.append(test)\n",
    "        p.domains_target.extend(\n",
    "            [domain_prefix + str(u) for u in domains]\n",
    "        )\n",
    "    else:\n",
    "        raise Exception(f\"invalid source_or_target_dataset: {source_or_target_dataset}\")\n",
    "    "
   ]
  },
  {
   "cell_type": "code",
   "execution_count": 13,
   "id": "fe266617",
   "metadata": {
    "execution": {
     "iopub.execute_input": "2022-03-07T06:41:08.429529Z",
     "iopub.status.busy": "2022-03-07T06:41:08.429277Z",
     "iopub.status.idle": "2022-03-07T06:41:27.634860Z",
     "shell.execute_reply": "2022-03-07T06:41:27.634385Z"
    },
    "papermill": {
     "duration": 19.221187,
     "end_time": "2022-03-07T06:41:27.634969",
     "exception": false,
     "start_time": "2022-03-07T06:41:08.413782",
     "status": "completed"
    },
    "tags": []
   },
   "outputs": [],
   "source": [
    "for ds in p.datasets:\n",
    "    add_dataset(**ds)"
   ]
  },
  {
   "cell_type": "code",
   "execution_count": 14,
   "id": "b90d65ac",
   "metadata": {
    "execution": {
     "iopub.execute_input": "2022-03-07T06:41:27.669020Z",
     "iopub.status.busy": "2022-03-07T06:41:27.668757Z",
     "iopub.status.idle": "2022-03-07T06:41:27.683136Z",
     "shell.execute_reply": "2022-03-07T06:41:27.682660Z"
    },
    "papermill": {
     "duration": 0.030458,
     "end_time": "2022-03-07T06:41:27.683236",
     "exception": false,
     "start_time": "2022-03-07T06:41:27.652778",
     "status": "completed"
    },
    "tags": []
   },
   "outputs": [],
   "source": [
    "# from steves_utils.CORES.utils import (\n",
    "#     ALL_NODES,\n",
    "#     ALL_NODES_MINIMUM_1000_EXAMPLES,\n",
    "#     ALL_DAYS\n",
    "# )\n",
    "\n",
    "# add_dataset(\n",
    "#     labels=ALL_NODES,\n",
    "#     domains = ALL_DAYS,\n",
    "#     num_examples_per_domain_per_label=100,\n",
    "#     pickle_path=os.path.join(get_datasets_base_path(), \"cores.stratified_ds.2022A.pkl\"),\n",
    "#     source_or_target_dataset=\"target\",\n",
    "#     x_transform_func=global_x_transform_func,\n",
    "#     domain_modifier=lambda u: f\"cores_{u}\"\n",
    "# )"
   ]
  },
  {
   "cell_type": "code",
   "execution_count": 15,
   "id": "76db484d",
   "metadata": {
    "execution": {
     "iopub.execute_input": "2022-03-07T06:41:27.718591Z",
     "iopub.status.busy": "2022-03-07T06:41:27.718031Z",
     "iopub.status.idle": "2022-03-07T06:41:27.732861Z",
     "shell.execute_reply": "2022-03-07T06:41:27.732440Z"
    },
    "papermill": {
     "duration": 0.03016,
     "end_time": "2022-03-07T06:41:27.732958",
     "exception": false,
     "start_time": "2022-03-07T06:41:27.702798",
     "status": "completed"
    },
    "tags": []
   },
   "outputs": [],
   "source": [
    "# from steves_utils.ORACLE.utils_v2 import (\n",
    "#     ALL_DISTANCES_FEET,\n",
    "#     ALL_RUNS,\n",
    "#     ALL_SERIAL_NUMBERS,\n",
    "# )\n",
    "\n",
    "\n",
    "# add_dataset(\n",
    "#     labels=ALL_SERIAL_NUMBERS,\n",
    "#     domains = list(set(ALL_DISTANCES_FEET) - {2,62}),\n",
    "#     num_examples_per_domain_per_label=100,\n",
    "#     pickle_path=os.path.join(get_datasets_base_path(), \"oracle.Run2_framed_2000Examples_stratified_ds.2022A.pkl\"),\n",
    "#     source_or_target_dataset=\"source\",\n",
    "#     x_transform_func=global_x_transform_func,\n",
    "#     domain_modifier=lambda u: f\"oracle1_{u}\"\n",
    "# )\n"
   ]
  },
  {
   "cell_type": "code",
   "execution_count": 16,
   "id": "97dea9d2",
   "metadata": {
    "execution": {
     "iopub.execute_input": "2022-03-07T06:41:27.767451Z",
     "iopub.status.busy": "2022-03-07T06:41:27.767191Z",
     "iopub.status.idle": "2022-03-07T06:41:27.780577Z",
     "shell.execute_reply": "2022-03-07T06:41:27.780104Z"
    },
    "papermill": {
     "duration": 0.028897,
     "end_time": "2022-03-07T06:41:27.780675",
     "exception": false,
     "start_time": "2022-03-07T06:41:27.751778",
     "status": "completed"
    },
    "tags": []
   },
   "outputs": [],
   "source": [
    "# from steves_utils.ORACLE.utils_v2 import (\n",
    "#     ALL_DISTANCES_FEET,\n",
    "#     ALL_RUNS,\n",
    "#     ALL_SERIAL_NUMBERS,\n",
    "# )\n",
    "\n",
    "\n",
    "# add_dataset(\n",
    "#     labels=ALL_SERIAL_NUMBERS,\n",
    "#     domains = list(set(ALL_DISTANCES_FEET) - {2,62,56}),\n",
    "#     num_examples_per_domain_per_label=100,\n",
    "#     pickle_path=os.path.join(get_datasets_base_path(), \"oracle.Run2_framed_2000Examples_stratified_ds.2022A.pkl\"),\n",
    "#     source_or_target_dataset=\"source\",\n",
    "#     x_transform_func=global_x_transform_func,\n",
    "#     domain_modifier=lambda u: f\"oracle2_{u}\"\n",
    "# )"
   ]
  },
  {
   "cell_type": "code",
   "execution_count": 17,
   "id": "6f289866",
   "metadata": {
    "execution": {
     "iopub.execute_input": "2022-03-07T06:41:27.819521Z",
     "iopub.status.busy": "2022-03-07T06:41:27.814927Z",
     "iopub.status.idle": "2022-03-07T06:41:27.828153Z",
     "shell.execute_reply": "2022-03-07T06:41:27.827670Z"
    },
    "papermill": {
     "duration": 0.029126,
     "end_time": "2022-03-07T06:41:27.828251",
     "exception": false,
     "start_time": "2022-03-07T06:41:27.799125",
     "status": "completed"
    },
    "tags": []
   },
   "outputs": [],
   "source": [
    "# add_dataset(\n",
    "#     labels=list(range(19)),\n",
    "#     domains = [0,1,2],\n",
    "#     num_examples_per_domain_per_label=100,\n",
    "#     pickle_path=os.path.join(get_datasets_base_path(), \"metehan.stratified_ds.2022A.pkl\"),\n",
    "#     source_or_target_dataset=\"target\",\n",
    "#     x_transform_func=global_x_transform_func,\n",
    "#     domain_modifier=lambda u: f\"met_{u}\"\n",
    "# )"
   ]
  },
  {
   "cell_type": "code",
   "execution_count": 18,
   "id": "86a863c3",
   "metadata": {
    "execution": {
     "iopub.execute_input": "2022-03-07T06:41:27.863593Z",
     "iopub.status.busy": "2022-03-07T06:41:27.863098Z",
     "iopub.status.idle": "2022-03-07T06:41:27.876053Z",
     "shell.execute_reply": "2022-03-07T06:41:27.875734Z"
    },
    "papermill": {
     "duration": 0.029042,
     "end_time": "2022-03-07T06:41:27.876129",
     "exception": false,
     "start_time": "2022-03-07T06:41:27.847087",
     "status": "completed"
    },
    "tags": []
   },
   "outputs": [],
   "source": [
    "# # from steves_utils.wisig.utils import (\n",
    "# #     ALL_NODES_MINIMUM_100_EXAMPLES,\n",
    "# #     ALL_NODES_MINIMUM_500_EXAMPLES,\n",
    "# #     ALL_NODES_MINIMUM_1000_EXAMPLES,\n",
    "# #     ALL_DAYS\n",
    "# # )\n",
    "\n",
    "# import steves_utils.wisig.utils as wisig\n",
    "\n",
    "\n",
    "# add_dataset(\n",
    "#     labels=wisig.ALL_NODES_MINIMUM_100_EXAMPLES,\n",
    "#     domains = wisig.ALL_DAYS,\n",
    "#     num_examples_per_domain_per_label=100,\n",
    "#     pickle_path=os.path.join(get_datasets_base_path(), \"wisig.node3-19.stratified_ds.2022A.pkl\"),\n",
    "#     source_or_target_dataset=\"target\",\n",
    "#     x_transform_func=global_x_transform_func,\n",
    "#     domain_modifier=lambda u: f\"wisig_{u}\"\n",
    "# )"
   ]
  },
  {
   "cell_type": "code",
   "execution_count": 19,
   "id": "fd5442bc",
   "metadata": {
    "execution": {
     "iopub.execute_input": "2022-03-07T06:41:27.914278Z",
     "iopub.status.busy": "2022-03-07T06:41:27.914015Z",
     "iopub.status.idle": "2022-03-07T06:41:27.926331Z",
     "shell.execute_reply": "2022-03-07T06:41:27.925924Z"
    },
    "papermill": {
     "duration": 0.031791,
     "end_time": "2022-03-07T06:41:27.926433",
     "exception": false,
     "start_time": "2022-03-07T06:41:27.894642",
     "status": "completed"
    },
    "tags": []
   },
   "outputs": [],
   "source": [
    "###################################\n",
    "# Build the dataset\n",
    "###################################\n",
    "train_original_source = Iterable_Aggregator(train_original_source, p.seed)\n",
    "val_original_source = Iterable_Aggregator(val_original_source, p.seed)\n",
    "test_original_source = Iterable_Aggregator(test_original_source, p.seed)\n",
    "\n",
    "\n",
    "train_original_target = Iterable_Aggregator(train_original_target, p.seed)\n",
    "val_original_target = Iterable_Aggregator(val_original_target, p.seed)\n",
    "test_original_target = Iterable_Aggregator(test_original_target, p.seed)\n",
    "\n",
    "# For CNN We only use X and Y. And we only train on the source.\n",
    "# Properly form the data using a transform lambda and Lazy_Iterable_Wrapper. Finally wrap them in a dataloader\n",
    "\n",
    "transform_lambda = lambda ex: ex[1] # Original is (<domain>, <episode>) so we strip down to episode only\n",
    "\n",
    "train_processed_source = Lazy_Iterable_Wrapper(train_original_source, transform_lambda)\n",
    "val_processed_source   = Lazy_Iterable_Wrapper(val_original_source, transform_lambda)\n",
    "test_processed_source  = Lazy_Iterable_Wrapper(test_original_source, transform_lambda)\n",
    "\n",
    "train_processed_target = Lazy_Iterable_Wrapper(train_original_target, transform_lambda)\n",
    "val_processed_target   = Lazy_Iterable_Wrapper(val_original_target, transform_lambda)\n",
    "test_processed_target  = Lazy_Iterable_Wrapper(test_original_target, transform_lambda)\n",
    "\n",
    "datasets = EasyDict({\n",
    "    \"source\": {\n",
    "        \"original\": {\"train\":train_original_source, \"val\":val_original_source, \"test\":test_original_source},\n",
    "        \"processed\": {\"train\":train_processed_source, \"val\":val_processed_source, \"test\":test_processed_source}\n",
    "    },\n",
    "    \"target\": {\n",
    "        \"original\": {\"train\":train_original_target, \"val\":val_original_target, \"test\":test_original_target},\n",
    "        \"processed\": {\"train\":train_processed_target, \"val\":val_processed_target, \"test\":test_processed_target}\n",
    "    },\n",
    "})"
   ]
  },
  {
   "cell_type": "code",
   "execution_count": 20,
   "id": "5b3c01fc",
   "metadata": {
    "execution": {
     "iopub.execute_input": "2022-03-07T06:41:27.960475Z",
     "iopub.status.busy": "2022-03-07T06:41:27.960222Z",
     "iopub.status.idle": "2022-03-07T06:41:32.423329Z",
     "shell.execute_reply": "2022-03-07T06:41:32.422992Z"
    },
    "papermill": {
     "duration": 4.478852,
     "end_time": "2022-03-07T06:41:32.423415",
     "exception": false,
     "start_time": "2022-03-07T06:41:27.944563",
     "status": "completed"
    },
    "tags": []
   },
   "outputs": [
    {
     "name": "stdout",
     "output_type": "stream",
     "text": [
      "{'Wisig_2', 'Wisig_1', 'Wisig_3', 'Wisig_4'}\n"
     ]
    },
    {
     "name": "stdout",
     "output_type": "stream",
     "text": [
      "{'ORACLE.run150', 'ORACLE.run18', 'ORACLE.run114', 'ORACLE.run144', 'ORACLE.run120', 'ORACLE.run126', 'ORACLE.run132', 'ORACLE.run138'}\n"
     ]
    },
    {
     "name": "stdout",
     "output_type": "stream",
     "text": [
      "tensor([[[-1.1274, -0.5022, -0.0205,  ..., -1.0843,  0.0000,  0.6764],\n",
      "         [ 0.4469,  0.0041, -0.1189,  ..., -1.0003,  0.0000, -0.0102]],\n",
      "\n",
      "        [[-0.6446,  1.3212,  0.5265,  ..., -0.5645, -0.4904, -0.6566],\n",
      "         [-1.4673,  0.1001,  1.3272,  ...,  0.8328,  0.1221, -0.7207]],\n",
      "\n",
      "        [[-0.8172,  0.3120,  0.4650,  ...,  0.5032,  0.2697,  0.3160],\n",
      "         [-0.4227, -0.4549, -0.7428,  ...,  0.0060, -0.6844, -1.3164]],\n",
      "\n",
      "        ...,\n",
      "\n",
      "        [[ 0.5357, -0.6498, -0.2553,  ...,  0.0077,  0.0751,  0.5211],\n",
      "         [ 0.5162,  0.3158, -0.4167,  ...,  0.5364, -0.3298, -0.0348]],\n",
      "\n",
      "        [[-0.1846,  0.2182, -0.4022,  ..., -0.2592, -0.5694, -0.4150],\n",
      "         [-0.1370, -0.0980, -0.1571,  ...,  0.7272,  0.1887, -1.0784]],\n",
      "\n",
      "        [[ 0.1273,  0.6059, -0.8592,  ...,  0.8839,  0.1041, -0.1041],\n",
      "         [-0.7730,  0.2711,  0.4635,  ...,  0.0164,  0.1698, -0.3629]]])\n"
     ]
    }
   ],
   "source": [
    "from steves_utils.transforms import get_average_magnitude, get_average_power\n",
    "\n",
    "print(set([u for u,_ in val_original_source]))\n",
    "print(set([u for u,_ in val_original_target]))\n",
    "\n",
    "s_x, s_y, q_x, q_y, _ = next(iter(train_processed_source))\n",
    "print(s_x)\n",
    "\n",
    "# for ds in [\n",
    "#     train_processed_source,\n",
    "#     val_processed_source,\n",
    "#     test_processed_source,\n",
    "#     train_processed_target,\n",
    "#     val_processed_target,\n",
    "#     test_processed_target\n",
    "# ]:\n",
    "#     for s_x, s_y, q_x, q_y, _ in ds:\n",
    "#         for X in (s_x, q_x):\n",
    "#             for x in X:\n",
    "#                 assert np.isclose(get_average_magnitude(x.numpy()), 1.0)\n",
    "#                 assert np.isclose(get_average_power(x.numpy()), 1.0)\n",
    "                "
   ]
  },
  {
   "cell_type": "code",
   "execution_count": 21,
   "id": "bbdacba1",
   "metadata": {
    "execution": {
     "iopub.execute_input": "2022-03-07T06:41:32.458436Z",
     "iopub.status.busy": "2022-03-07T06:41:32.458169Z",
     "iopub.status.idle": "2022-03-07T06:41:32.515369Z",
     "shell.execute_reply": "2022-03-07T06:41:32.514927Z"
    },
    "papermill": {
     "duration": 0.07475,
     "end_time": "2022-03-07T06:41:32.515480",
     "exception": false,
     "start_time": "2022-03-07T06:41:32.440730",
     "status": "completed"
    },
    "tags": []
   },
   "outputs": [
    {
     "name": "stdout",
     "output_type": "stream",
     "text": [
      "(2, 256)\n"
     ]
    }
   ],
   "source": [
    "###################################\n",
    "# Build the model\n",
    "###################################\n",
    "model = Steves_Prototypical_Network(x_net, device=p.device, x_shape=(2,256))\n",
    "optimizer = Adam(params=model.parameters(), lr=p.lr)"
   ]
  },
  {
   "cell_type": "code",
   "execution_count": 22,
   "id": "22b39ac5",
   "metadata": {
    "execution": {
     "iopub.execute_input": "2022-03-07T06:41:32.553995Z",
     "iopub.status.busy": "2022-03-07T06:41:32.553726Z",
     "iopub.status.idle": "2022-03-07T06:46:33.433458Z",
     "shell.execute_reply": "2022-03-07T06:46:33.433053Z"
    },
    "papermill": {
     "duration": 300.897489,
     "end_time": "2022-03-07T06:46:33.433563",
     "exception": false,
     "start_time": "2022-03-07T06:41:32.536074",
     "status": "completed"
    },
    "tags": []
   },
   "outputs": [
    {
     "name": "stdout",
     "output_type": "stream",
     "text": [
      "epoch: 1, [batch: 1 / 1347], examples_per_second: 188.6140, train_label_loss: 2.8522, \n"
     ]
    },
    {
     "name": "stdout",
     "output_type": "stream",
     "text": [
      "epoch: 1, [batch: 135 / 1347], examples_per_second: 3138.0646, train_label_loss: 0.6449, \n"
     ]
    },
    {
     "name": "stdout",
     "output_type": "stream",
     "text": [
      "epoch: 1, [batch: 270 / 1347], examples_per_second: 3169.3564, train_label_loss: 0.1229, \n"
     ]
    },
    {
     "name": "stdout",
     "output_type": "stream",
     "text": [
      "epoch: 1, [batch: 404 / 1347], examples_per_second: 3176.2101, train_label_loss: 0.1056, \n"
     ]
    },
    {
     "name": "stdout",
     "output_type": "stream",
     "text": [
      "epoch: 1, [batch: 539 / 1347], examples_per_second: 3156.9505, train_label_loss: 0.6137, \n"
     ]
    },
    {
     "name": "stdout",
     "output_type": "stream",
     "text": [
      "epoch: 1, [batch: 674 / 1347], examples_per_second: 3173.4636, train_label_loss: 0.4266, \n"
     ]
    },
    {
     "name": "stdout",
     "output_type": "stream",
     "text": [
      "epoch: 1, [batch: 808 / 1347], examples_per_second: 3149.8453, train_label_loss: 0.7252, \n"
     ]
    },
    {
     "name": "stdout",
     "output_type": "stream",
     "text": [
      "epoch: 1, [batch: 943 / 1347], examples_per_second: 3151.4884, train_label_loss: 0.1394, \n"
     ]
    },
    {
     "name": "stdout",
     "output_type": "stream",
     "text": [
      "epoch: 1, [batch: 1077 / 1347], examples_per_second: 3164.1077, train_label_loss: 0.0125, \n"
     ]
    },
    {
     "name": "stdout",
     "output_type": "stream",
     "text": [
      "epoch: 1, [batch: 1212 / 1347], examples_per_second: 3157.6626, train_label_loss: 0.5445, \n"
     ]
    },
    {
     "name": "stdout",
     "output_type": "stream",
     "text": [
      "=============================================================\n",
      "epoch: 1, source_val_acc_label: 0.9352, target_val_acc_label: 0.1661, source_val_label_loss: 0.2725, target_val_label_loss: 2.5929, \n",
      "=============================================================\n"
     ]
    },
    {
     "name": "stdout",
     "output_type": "stream",
     "text": [
      "New best\n"
     ]
    },
    {
     "name": "stdout",
     "output_type": "stream",
     "text": [
      "epoch: 2, [batch: 1 / 1346], examples_per_second: 12.8526, train_label_loss: 0.2961, \n"
     ]
    },
    {
     "name": "stdout",
     "output_type": "stream",
     "text": [
      "epoch: 2, [batch: 135 / 1346], examples_per_second: 3175.9349, train_label_loss: 0.1488, \n"
     ]
    },
    {
     "name": "stdout",
     "output_type": "stream",
     "text": [
      "epoch: 2, [batch: 270 / 1346], examples_per_second: 3175.9262, train_label_loss: 0.1526, \n"
     ]
    },
    {
     "name": "stdout",
     "output_type": "stream",
     "text": [
      "epoch: 2, [batch: 404 / 1346], examples_per_second: 3173.3374, train_label_loss: 0.0906, \n"
     ]
    },
    {
     "name": "stdout",
     "output_type": "stream",
     "text": [
      "epoch: 2, [batch: 539 / 1346], examples_per_second: 3179.3880, train_label_loss: 0.1163, \n"
     ]
    },
    {
     "name": "stdout",
     "output_type": "stream",
     "text": [
      "epoch: 2, [batch: 673 / 1346], examples_per_second: 3190.2144, train_label_loss: 0.0735, \n"
     ]
    },
    {
     "name": "stdout",
     "output_type": "stream",
     "text": [
      "epoch: 2, [batch: 808 / 1346], examples_per_second: 3195.6791, train_label_loss: 0.6099, \n"
     ]
    },
    {
     "name": "stdout",
     "output_type": "stream",
     "text": [
      "epoch: 2, [batch: 942 / 1346], examples_per_second: 3189.0079, train_label_loss: 0.0137, \n"
     ]
    },
    {
     "name": "stdout",
     "output_type": "stream",
     "text": [
      "epoch: 2, [batch: 1077 / 1346], examples_per_second: 3190.7005, train_label_loss: 0.0453, \n"
     ]
    },
    {
     "name": "stdout",
     "output_type": "stream",
     "text": [
      "epoch: 2, [batch: 1211 / 1346], examples_per_second: 3184.1520, train_label_loss: 0.4005, \n"
     ]
    },
    {
     "name": "stdout",
     "output_type": "stream",
     "text": [
      "=============================================================\n",
      "epoch: 2, source_val_acc_label: 0.9515, target_val_acc_label: 0.1699, source_val_label_loss: 0.2252, target_val_label_loss: 2.5747, \n",
      "=============================================================\n"
     ]
    },
    {
     "name": "stdout",
     "output_type": "stream",
     "text": [
      "New best\n"
     ]
    },
    {
     "name": "stdout",
     "output_type": "stream",
     "text": [
      "epoch: 3, [batch: 1 / 1347], examples_per_second: 12.7466, train_label_loss: 0.4634, \n"
     ]
    },
    {
     "name": "stdout",
     "output_type": "stream",
     "text": [
      "epoch: 3, [batch: 135 / 1347], examples_per_second: 3139.5892, train_label_loss: 0.4126, \n"
     ]
    },
    {
     "name": "stdout",
     "output_type": "stream",
     "text": [
      "epoch: 3, [batch: 270 / 1347], examples_per_second: 3173.8361, train_label_loss: 0.2187, \n"
     ]
    },
    {
     "name": "stdout",
     "output_type": "stream",
     "text": [
      "epoch: 3, [batch: 404 / 1347], examples_per_second: 3174.1986, train_label_loss: 0.6258, \n"
     ]
    },
    {
     "name": "stdout",
     "output_type": "stream",
     "text": [
      "epoch: 3, [batch: 539 / 1347], examples_per_second: 3153.1899, train_label_loss: 0.1744, \n"
     ]
    },
    {
     "name": "stdout",
     "output_type": "stream",
     "text": [
      "epoch: 3, [batch: 674 / 1347], examples_per_second: 3179.1794, train_label_loss: 0.0229, \n"
     ]
    },
    {
     "name": "stdout",
     "output_type": "stream",
     "text": [
      "epoch: 3, [batch: 808 / 1347], examples_per_second: 3180.8339, train_label_loss: 0.0422, \n"
     ]
    },
    {
     "name": "stdout",
     "output_type": "stream",
     "text": [
      "epoch: 3, [batch: 943 / 1347], examples_per_second: 3163.2241, train_label_loss: 0.1460, \n"
     ]
    },
    {
     "name": "stdout",
     "output_type": "stream",
     "text": [
      "epoch: 3, [batch: 1077 / 1347], examples_per_second: 3175.6419, train_label_loss: 0.0096, \n"
     ]
    },
    {
     "name": "stdout",
     "output_type": "stream",
     "text": [
      "epoch: 3, [batch: 1212 / 1347], examples_per_second: 3181.4627, train_label_loss: 0.1720, \n"
     ]
    },
    {
     "name": "stdout",
     "output_type": "stream",
     "text": [
      "=============================================================\n",
      "epoch: 3, source_val_acc_label: 0.9582, target_val_acc_label: 0.1773, source_val_label_loss: 0.2014, target_val_label_loss: 2.5327, \n",
      "=============================================================\n"
     ]
    },
    {
     "name": "stdout",
     "output_type": "stream",
     "text": [
      "New best\n"
     ]
    },
    {
     "name": "stdout",
     "output_type": "stream",
     "text": [
      "epoch: 4, [batch: 1 / 1346], examples_per_second: 12.9030, train_label_loss: 0.0056, \n"
     ]
    },
    {
     "name": "stdout",
     "output_type": "stream",
     "text": [
      "epoch: 4, [batch: 135 / 1346], examples_per_second: 3148.7832, train_label_loss: 0.4499, \n"
     ]
    },
    {
     "name": "stdout",
     "output_type": "stream",
     "text": [
      "epoch: 4, [batch: 270 / 1346], examples_per_second: 3157.9460, train_label_loss: 0.1752, \n"
     ]
    },
    {
     "name": "stdout",
     "output_type": "stream",
     "text": [
      "epoch: 4, [batch: 404 / 1346], examples_per_second: 3184.4889, train_label_loss: 0.0177, \n"
     ]
    },
    {
     "name": "stdout",
     "output_type": "stream",
     "text": [
      "epoch: 4, [batch: 539 / 1346], examples_per_second: 3174.5719, train_label_loss: 0.2928, \n"
     ]
    },
    {
     "name": "stdout",
     "output_type": "stream",
     "text": [
      "epoch: 4, [batch: 673 / 1346], examples_per_second: 3159.2540, train_label_loss: 0.0395, \n"
     ]
    },
    {
     "name": "stdout",
     "output_type": "stream",
     "text": [
      "epoch: 4, [batch: 808 / 1346], examples_per_second: 3166.7674, train_label_loss: 0.0154, \n"
     ]
    },
    {
     "name": "stdout",
     "output_type": "stream",
     "text": [
      "epoch: 4, [batch: 942 / 1346], examples_per_second: 3174.9887, train_label_loss: 0.1462, \n"
     ]
    },
    {
     "name": "stdout",
     "output_type": "stream",
     "text": [
      "epoch: 4, [batch: 1077 / 1346], examples_per_second: 3181.2480, train_label_loss: 0.1475, \n"
     ]
    },
    {
     "name": "stdout",
     "output_type": "stream",
     "text": [
      "epoch: 4, [batch: 1211 / 1346], examples_per_second: 3169.9373, train_label_loss: 0.3256, \n"
     ]
    },
    {
     "name": "stdout",
     "output_type": "stream",
     "text": [
      "=============================================================\n",
      "epoch: 4, source_val_acc_label: 0.9562, target_val_acc_label: 0.1530, source_val_label_loss: 0.2111, target_val_label_loss: 2.6844, \n",
      "=============================================================\n"
     ]
    },
    {
     "name": "stdout",
     "output_type": "stream",
     "text": [
      "epoch: 5, [batch: 1 / 1346], examples_per_second: 12.8953, train_label_loss: 0.3561, \n"
     ]
    },
    {
     "name": "stdout",
     "output_type": "stream",
     "text": [
      "epoch: 5, [batch: 135 / 1346], examples_per_second: 3144.1137, train_label_loss: 0.1892, \n"
     ]
    },
    {
     "name": "stdout",
     "output_type": "stream",
     "text": [
      "epoch: 5, [batch: 270 / 1346], examples_per_second: 3180.4363, train_label_loss: 0.0246, \n"
     ]
    },
    {
     "name": "stdout",
     "output_type": "stream",
     "text": [
      "epoch: 5, [batch: 404 / 1346], examples_per_second: 3226.5442, train_label_loss: 0.2272, \n"
     ]
    },
    {
     "name": "stdout",
     "output_type": "stream",
     "text": [
      "epoch: 5, [batch: 539 / 1346], examples_per_second: 3186.4885, train_label_loss: 0.2883, \n"
     ]
    },
    {
     "name": "stdout",
     "output_type": "stream",
     "text": [
      "epoch: 5, [batch: 673 / 1346], examples_per_second: 3176.5030, train_label_loss: 0.1419, \n"
     ]
    },
    {
     "name": "stdout",
     "output_type": "stream",
     "text": [
      "epoch: 5, [batch: 808 / 1346], examples_per_second: 3169.7636, train_label_loss: 0.0550, \n"
     ]
    },
    {
     "name": "stdout",
     "output_type": "stream",
     "text": [
      "epoch: 5, [batch: 942 / 1346], examples_per_second: 3169.2185, train_label_loss: 0.0020, \n"
     ]
    },
    {
     "name": "stdout",
     "output_type": "stream",
     "text": [
      "epoch: 5, [batch: 1077 / 1346], examples_per_second: 3173.9270, train_label_loss: 0.0042, \n"
     ]
    },
    {
     "name": "stdout",
     "output_type": "stream",
     "text": [
      "epoch: 5, [batch: 1211 / 1346], examples_per_second: 3180.2024, train_label_loss: 0.1670, \n"
     ]
    },
    {
     "name": "stdout",
     "output_type": "stream",
     "text": [
      "=============================================================\n",
      "epoch: 5, source_val_acc_label: 0.9601, target_val_acc_label: 0.1369, source_val_label_loss: 0.1986, target_val_label_loss: 2.8453, \n",
      "=============================================================\n"
     ]
    },
    {
     "name": "stdout",
     "output_type": "stream",
     "text": [
      "epoch: 6, [batch: 1 / 1346], examples_per_second: 12.8371, train_label_loss: 0.0378, \n"
     ]
    },
    {
     "name": "stdout",
     "output_type": "stream",
     "text": [
      "epoch: 6, [batch: 135 / 1346], examples_per_second: 3146.0569, train_label_loss: 0.0741, \n"
     ]
    },
    {
     "name": "stdout",
     "output_type": "stream",
     "text": [
      "epoch: 6, [batch: 270 / 1346], examples_per_second: 3173.5105, train_label_loss: 0.0299, \n"
     ]
    },
    {
     "name": "stdout",
     "output_type": "stream",
     "text": [
      "epoch: 6, [batch: 404 / 1346], examples_per_second: 3162.1206, train_label_loss: 0.0128, \n"
     ]
    },
    {
     "name": "stdout",
     "output_type": "stream",
     "text": [
      "epoch: 6, [batch: 539 / 1346], examples_per_second: 3160.8207, train_label_loss: 0.0212, \n"
     ]
    },
    {
     "name": "stdout",
     "output_type": "stream",
     "text": [
      "epoch: 6, [batch: 673 / 1346], examples_per_second: 3167.4735, train_label_loss: 0.0109, \n"
     ]
    },
    {
     "name": "stdout",
     "output_type": "stream",
     "text": [
      "epoch: 6, [batch: 808 / 1346], examples_per_second: 3198.4297, train_label_loss: 0.0051, \n"
     ]
    },
    {
     "name": "stdout",
     "output_type": "stream",
     "text": [
      "epoch: 6, [batch: 942 / 1346], examples_per_second: 3150.4763, train_label_loss: 0.0699, \n"
     ]
    },
    {
     "name": "stdout",
     "output_type": "stream",
     "text": [
      "epoch: 6, [batch: 1077 / 1346], examples_per_second: 3170.2557, train_label_loss: 0.0287, \n"
     ]
    },
    {
     "name": "stdout",
     "output_type": "stream",
     "text": [
      "epoch: 6, [batch: 1211 / 1346], examples_per_second: 3163.0989, train_label_loss: 0.3098, \n"
     ]
    },
    {
     "name": "stdout",
     "output_type": "stream",
     "text": [
      "=============================================================\n",
      "epoch: 6, source_val_acc_label: 0.9642, target_val_acc_label: 0.1401, source_val_label_loss: 0.1847, target_val_label_loss: 2.9160, \n",
      "=============================================================\n"
     ]
    },
    {
     "name": "stdout",
     "output_type": "stream",
     "text": [
      "epoch: 7, [batch: 1 / 1344], examples_per_second: 12.9187, train_label_loss: 0.1031, \n"
     ]
    },
    {
     "name": "stdout",
     "output_type": "stream",
     "text": [
      "epoch: 7, [batch: 135 / 1344], examples_per_second: 3136.9329, train_label_loss: 0.0057, \n"
     ]
    },
    {
     "name": "stdout",
     "output_type": "stream",
     "text": [
      "epoch: 7, [batch: 269 / 1344], examples_per_second: 3157.7382, train_label_loss: 0.1063, \n"
     ]
    },
    {
     "name": "stdout",
     "output_type": "stream",
     "text": [
      "epoch: 7, [batch: 403 / 1344], examples_per_second: 3184.8755, train_label_loss: 0.0167, \n"
     ]
    },
    {
     "name": "stdout",
     "output_type": "stream",
     "text": [
      "epoch: 7, [batch: 538 / 1344], examples_per_second: 3169.1214, train_label_loss: 0.1426, \n"
     ]
    },
    {
     "name": "stdout",
     "output_type": "stream",
     "text": [
      "epoch: 7, [batch: 672 / 1344], examples_per_second: 3187.6318, train_label_loss: 0.0626, \n"
     ]
    },
    {
     "name": "stdout",
     "output_type": "stream",
     "text": [
      "epoch: 7, [batch: 806 / 1344], examples_per_second: 3190.8965, train_label_loss: 0.6516, \n"
     ]
    },
    {
     "name": "stdout",
     "output_type": "stream",
     "text": [
      "epoch: 7, [batch: 941 / 1344], examples_per_second: 3165.8881, train_label_loss: 0.1490, \n"
     ]
    },
    {
     "name": "stdout",
     "output_type": "stream",
     "text": [
      "epoch: 7, [batch: 1075 / 1344], examples_per_second: 3163.1877, train_label_loss: 0.2189, \n"
     ]
    },
    {
     "name": "stdout",
     "output_type": "stream",
     "text": [
      "epoch: 7, [batch: 1209 / 1344], examples_per_second: 3173.3572, train_label_loss: 0.0018, \n"
     ]
    },
    {
     "name": "stdout",
     "output_type": "stream",
     "text": [
      "=============================================================\n",
      "epoch: 7, source_val_acc_label: 0.9619, target_val_acc_label: 0.1366, source_val_label_loss: 0.1960, target_val_label_loss: 2.7953, \n",
      "=============================================================\n"
     ]
    },
    {
     "name": "stdout",
     "output_type": "stream",
     "text": [
      "Patience (3) exhausted\n"
     ]
    }
   ],
   "source": [
    "###################################\n",
    "# train\n",
    "###################################\n",
    "jig = PTN_Train_Eval_Test_Jig(model, p.BEST_MODEL_PATH, p.device)\n",
    "\n",
    "jig.train(\n",
    "    train_iterable=datasets.source.processed.train,\n",
    "    source_val_iterable=datasets.source.processed.val,\n",
    "    target_val_iterable=datasets.target.processed.val,\n",
    "    num_epochs=p.n_epoch,\n",
    "    num_logs_per_epoch=p.NUM_LOGS_PER_EPOCH,\n",
    "    patience=p.patience,\n",
    "    optimizer=optimizer,\n",
    "    criteria_for_best=p.criteria_for_best,\n",
    ")"
   ]
  },
  {
   "cell_type": "code",
   "execution_count": 23,
   "id": "31e8fabf",
   "metadata": {
    "execution": {
     "iopub.execute_input": "2022-03-07T06:46:33.496856Z",
     "iopub.status.busy": "2022-03-07T06:46:33.496349Z",
     "iopub.status.idle": "2022-03-07T06:46:33.511665Z",
     "shell.execute_reply": "2022-03-07T06:46:33.512034Z"
    },
    "papermill": {
     "duration": 0.047284,
     "end_time": "2022-03-07T06:46:33.512148",
     "exception": false,
     "start_time": "2022-03-07T06:46:33.464864",
     "status": "completed"
    },
    "tags": []
   },
   "outputs": [],
   "source": [
    "total_experiment_time_secs = time.time() - start_time_secs"
   ]
  },
  {
   "cell_type": "code",
   "execution_count": 24,
   "id": "87b9595b",
   "metadata": {
    "execution": {
     "iopub.execute_input": "2022-03-07T06:46:33.578579Z",
     "iopub.status.busy": "2022-03-07T06:46:33.578289Z",
     "iopub.status.idle": "2022-03-07T06:47:33.960419Z",
     "shell.execute_reply": "2022-03-07T06:47:33.959910Z"
    },
    "papermill": {
     "duration": 60.414944,
     "end_time": "2022-03-07T06:47:33.960537",
     "exception": false,
     "start_time": "2022-03-07T06:46:33.545593",
     "status": "completed"
    },
    "tags": []
   },
   "outputs": [],
   "source": [
    "###################################\n",
    "# Evaluate the model\n",
    "###################################\n",
    "source_test_label_accuracy, source_test_label_loss = jig.test(datasets.source.processed.test)\n",
    "target_test_label_accuracy, target_test_label_loss = jig.test(datasets.target.processed.test)\n",
    "\n",
    "source_val_label_accuracy, source_val_label_loss = jig.test(datasets.source.processed.val)\n",
    "target_val_label_accuracy, target_val_label_loss = jig.test(datasets.target.processed.val)\n",
    "\n",
    "history = jig.get_history()\n",
    "\n",
    "total_epochs_trained = len(history[\"epoch_indices\"])\n",
    "\n",
    "val_dl = Iterable_Aggregator((datasets.source.original.val,datasets.target.original.val))\n",
    "\n",
    "confusion = ptn_confusion_by_domain_over_dataloader(model, p.device, val_dl)\n",
    "per_domain_accuracy = per_domain_accuracy_from_confusion(confusion)\n",
    "\n",
    "# Add a key to per_domain_accuracy for if it was a source domain\n",
    "for domain, accuracy in per_domain_accuracy.items():\n",
    "    per_domain_accuracy[domain] = {\n",
    "        \"accuracy\": accuracy,\n",
    "        \"source?\": domain in p.domains_source\n",
    "    }\n",
    "\n",
    "# Do an independent accuracy assesment JUST TO BE SURE!\n",
    "# _source_test_label_accuracy = independent_accuracy_assesment(model, datasets.source.processed.test, p.device)\n",
    "# _target_test_label_accuracy = independent_accuracy_assesment(model, datasets.target.processed.test, p.device)\n",
    "# _source_val_label_accuracy = independent_accuracy_assesment(model, datasets.source.processed.val, p.device)\n",
    "# _target_val_label_accuracy = independent_accuracy_assesment(model, datasets.target.processed.val, p.device)\n",
    "\n",
    "# assert(_source_test_label_accuracy == source_test_label_accuracy)\n",
    "# assert(_target_test_label_accuracy == target_test_label_accuracy)\n",
    "# assert(_source_val_label_accuracy == source_val_label_accuracy)\n",
    "# assert(_target_val_label_accuracy == target_val_label_accuracy)\n",
    "\n",
    "experiment = {\n",
    "    \"experiment_name\": p.experiment_name,\n",
    "    \"parameters\": dict(p),\n",
    "    \"results\": {\n",
    "        \"source_test_label_accuracy\": source_test_label_accuracy,\n",
    "        \"source_test_label_loss\": source_test_label_loss,\n",
    "        \"target_test_label_accuracy\": target_test_label_accuracy,\n",
    "        \"target_test_label_loss\": target_test_label_loss,\n",
    "        \"source_val_label_accuracy\": source_val_label_accuracy,\n",
    "        \"source_val_label_loss\": source_val_label_loss,\n",
    "        \"target_val_label_accuracy\": target_val_label_accuracy,\n",
    "        \"target_val_label_loss\": target_val_label_loss,\n",
    "        \"total_epochs_trained\": total_epochs_trained,\n",
    "        \"total_experiment_time_secs\": total_experiment_time_secs,\n",
    "        \"confusion\": confusion,\n",
    "        \"per_domain_accuracy\": per_domain_accuracy,\n",
    "    },\n",
    "    \"history\": history,\n",
    "    \"dataset_metrics\": get_dataset_metrics(datasets, \"ptn\"),\n",
    "}"
   ]
  },
  {
   "cell_type": "code",
   "execution_count": 25,
   "id": "54a21829",
   "metadata": {
    "execution": {
     "iopub.execute_input": "2022-03-07T06:47:34.023508Z",
     "iopub.status.busy": "2022-03-07T06:47:34.023251Z",
     "iopub.status.idle": "2022-03-07T06:47:34.206792Z",
     "shell.execute_reply": "2022-03-07T06:47:34.206318Z"
    },
    "papermill": {
     "duration": 0.214232,
     "end_time": "2022-03-07T06:47:34.206885",
     "exception": false,
     "start_time": "2022-03-07T06:47:33.992653",
     "status": "completed"
    },
    "tags": []
   },
   "outputs": [
    {
     "data": {
      "image/png": "[encoded data removed]",
      "text/plain": [
       "<Figure size 1080x504 with 1 Axes>"
      ]
     },
     "metadata": {
      "needs_background": "light"
     },
     "output_type": "display_data"
    }
   ],
   "source": [
    "ax = get_loss_curve(experiment)\n",
    "plt.show()"
   ]
  },
  {
   "cell_type": "code",
   "execution_count": 26,
   "id": "fd8a0f60",
   "metadata": {
    "execution": {
     "iopub.execute_input": "2022-03-07T06:47:34.273710Z",
     "iopub.status.busy": "2022-03-07T06:47:34.269529Z",
     "iopub.status.idle": "2022-03-07T06:47:34.450382Z",
     "shell.execute_reply": "2022-03-07T06:47:34.450831Z"
    },
    "papermill": {
     "duration": 0.212861,
     "end_time": "2022-03-07T06:47:34.450954",
     "exception": false,
     "start_time": "2022-03-07T06:47:34.238093",
     "status": "completed"
    },
    "tags": []
   },
   "outputs": [
    {
     "data": {
      "text/plain": [
       "<matplotlib.axes._subplots.AxesSubplot at 0x7f5571503460>"
      ]
     },
     "execution_count": 26,
     "metadata": {},
     "output_type": "execute_result"
    },
    {
     "data": {
      "image/png": "[encoded data removed]",
      "text/plain": [
       "<Figure size 1080x504 with 1 Axes>"
      ]
     },
     "metadata": {
      "needs_background": "light"
     },
     "output_type": "display_data"
    }
   ],
   "source": [
    "get_results_table(experiment)"
   ]
  },
  {
   "cell_type": "code",
   "execution_count": 27,
   "id": "cf8dc689",
   "metadata": {
    "execution": {
     "iopub.execute_input": "2022-03-07T06:47:34.523004Z",
     "iopub.status.busy": "2022-03-07T06:47:34.522139Z",
     "iopub.status.idle": "2022-03-07T06:47:34.721375Z",
     "shell.execute_reply": "2022-03-07T06:47:34.720880Z"
    },
    "papermill": {
     "duration": 0.232332,
     "end_time": "2022-03-07T06:47:34.721479",
     "exception": false,
     "start_time": "2022-03-07T06:47:34.489147",
     "status": "completed"
    },
    "tags": []
   },
   "outputs": [
    {
     "data": {
      "text/plain": [
       "<matplotlib.axes._subplots.AxesSubplot at 0x7f556737d250>"
      ]
     },
     "execution_count": 27,
     "metadata": {},
     "output_type": "execute_result"
    },
    {
     "data": {
      "image/png": "[encoded data removed]",
      "text/plain": [
       "<Figure size 1080x504 with 1 Axes>"
      ]
     },
     "metadata": {
      "needs_background": "light"
     },
     "output_type": "display_data"
    }
   ],
   "source": [
    "get_domain_accuracies(experiment)"
   ]
  },
  {
   "cell_type": "code",
   "execution_count": 28,
   "id": "a74ae082",
   "metadata": {
    "execution": {
     "iopub.execute_input": "2022-03-07T06:47:34.803642Z",
     "iopub.status.busy": "2022-03-07T06:47:34.803014Z",
     "iopub.status.idle": "2022-03-07T06:47:34.809085Z",
     "shell.execute_reply": "2022-03-07T06:47:34.809520Z"
    },
    "papermill": {
     "duration": 0.050372,
     "end_time": "2022-03-07T06:47:34.809645",
     "exception": false,
     "start_time": "2022-03-07T06:47:34.759273",
     "status": "completed"
    },
    "tags": []
   },
   "outputs": [
    {
     "name": "stdout",
     "output_type": "stream",
     "text": [
      "Source Test Label Accuracy: 0.9453125 Target Test Label Accuracy: 0.17890625\n",
      "Source Val Label Accuracy: 0.9581705729166666 Target Val Label Accuracy: 0.17731119791666666\n"
     ]
    }
   ],
   "source": [
    "print(\"Source Test Label Accuracy:\", experiment[\"results\"][\"source_test_label_accuracy\"], \"Target Test Label Accuracy:\", experiment[\"results\"][\"target_test_label_accuracy\"])\n",
    "print(\"Source Val Label Accuracy:\", experiment[\"results\"][\"source_val_label_accuracy\"], \"Target Val Label Accuracy:\", experiment[\"results\"][\"target_val_label_accuracy\"])"
   ]
  },
  {
   "cell_type": "code",
   "execution_count": 29,
   "id": "dacca602",
   "metadata": {
    "execution": {
     "iopub.execute_input": "2022-03-07T06:47:34.884491Z",
     "iopub.status.busy": "2022-03-07T06:47:34.880117Z",
     "iopub.status.idle": "2022-03-07T06:47:34.894864Z",
     "shell.execute_reply": "2022-03-07T06:47:34.895304Z"
    },
    "papermill": {
     "duration": 0.04878,
     "end_time": "2022-03-07T06:47:34.895427",
     "exception": false,
     "start_time": "2022-03-07T06:47:34.846647",
     "status": "completed"
    },
    "tags": [
     "experiment_json"
    ]
   },
   "outputs": [
    {
     "data": {
      "text/plain": [
       "'{\"experiment_name\": \"tl_1_wisig-oracle.run1\", \"parameters\": {\"experiment_name\": \"tl_1_wisig-oracle.run1\", \"device\": \"cuda\", \"lr\": 0.001, \"seed\": 1337, \"dataset_seed\": 1337, \"n_shot\": 3, \"n_query\": 2, \"train_k_factor\": 3, \"val_k_factor\": 2, \"test_k_factor\": 2, \"torch_default_dtype\": \"torch.float32\", \"n_epoch\": 50, \"patience\": 3, \"criteria_for_best\": \"target_loss\", \"x_net\": [{\"class\": \"nnReshape\", \"kargs\": {\"shape\": [-1, 1, 2, 256]}}, {\"class\": \"Conv2d\", \"kargs\": {\"in_channels\": 1, \"out_channels\": 256, \"kernel_size\": [1, 7], \"bias\": false, \"padding\": [0, 3]}}, {\"class\": \"ReLU\", \"kargs\": {\"inplace\": true}}, {\"class\": \"BatchNorm2d\", \"kargs\": {\"num_features\": 256}}, {\"class\": \"Conv2d\", \"kargs\": {\"in_channels\": 256, \"out_channels\": 80, \"kernel_size\": [2, 7], \"bias\": true, \"padding\": [0, 3]}}, {\"class\": \"ReLU\", \"kargs\": {\"inplace\": true}}, {\"class\": \"BatchNorm2d\", \"kargs\": {\"num_features\": 80}}, {\"class\": \"Flatten\", \"kargs\": {}}, {\"class\": \"Linear\", \"kargs\": {\"in_features\": 20480, \"out_features\": 256}}, {\"class\": \"ReLU\", \"kargs\": {\"inplace\": true}}, {\"class\": \"BatchNorm1d\", \"kargs\": {\"num_features\": 256}}, {\"class\": \"Linear\", \"kargs\": {\"in_features\": 256, \"out_features\": 256}}], \"NUM_LOGS_PER_EPOCH\": 10, \"BEST_MODEL_PATH\": \"./best_model.pth\", \"n_way\": 16, \"datasets\": [{\"labels\": [\"1-10\", \"1-12\", \"1-14\", \"1-16\", \"1-18\", \"1-19\", \"1-8\", \"10-11\", \"10-17\", \"10-4\", \"10-7\", \"11-1\", \"11-10\", \"11-19\", \"11-20\", \"11-4\", \"11-7\", \"12-19\", \"12-20\", \"12-7\", \"13-14\", \"13-18\", \"13-19\", \"13-20\", \"13-3\", \"13-7\", \"14-10\", \"14-11\", \"14-12\", \"14-13\", \"14-14\", \"14-19\", \"14-20\", \"14-7\", \"14-8\", \"14-9\", \"15-1\", \"15-19\", \"15-6\", \"16-1\", \"16-16\", \"16-19\", \"16-20\", \"17-10\", \"17-11\", \"18-1\", \"18-10\", \"18-11\", \"18-12\", \"18-13\", \"18-14\", \"18-15\", \"18-16\", \"18-17\", \"18-19\", \"18-2\", \"18-20\", \"18-4\", \"18-5\", \"18-7\", \"18-8\", \"18-9\", \"19-1\", \"19-10\", \"19-11\", \"19-12\", \"19-13\", \"19-14\", \"19-15\", \"19-19\", \"19-2\", \"19-20\", \"19-3\", \"19-4\", \"19-6\", \"19-7\", \"19-8\", \"19-9\", \"2-1\", \"2-13\", \"2-15\", \"2-3\", \"2-4\", \"2-5\", \"2-6\", \"2-7\", \"2-8\", \"20-1\", \"20-12\", \"20-14\", \"20-15\", \"20-16\", \"20-18\", \"20-19\", \"20-20\", \"20-3\", \"20-4\", \"20-5\", \"20-7\", \"20-8\", \"3-1\", \"3-13\", \"3-18\", \"3-2\", \"3-8\", \"4-1\", \"4-10\", \"4-11\", \"5-1\", \"5-5\", \"6-1\", \"6-15\", \"6-6\", \"7-10\", \"7-11\", \"7-12\", \"7-13\", \"7-14\", \"7-7\", \"7-8\", \"7-9\", \"8-1\", \"8-13\", \"8-14\", \"8-18\", \"8-20\", \"8-3\", \"8-8\", \"9-1\", \"9-7\"], \"domains\": [1, 2, 3, 4], \"num_examples_per_domain_per_label\": 100, \"pickle_path\": \"/mnt/wd500GB/CSC500/csc500-main/datasets/wisig.node3-19.stratified_ds.2022A.pkl\", \"source_or_target_dataset\": \"source\", \"x_transforms\": [\"unit_power\"], \"episode_transforms\": [], \"domain_prefix\": \"Wisig_\"}, {\"labels\": [\"3123D52\", \"3123D65\", \"3123D79\", \"3123D80\", \"3123D54\", \"3123D70\", \"3123D7B\", \"3123D89\", \"3123D58\", \"3123D76\", \"3123D7D\", \"3123EFE\", \"3123D64\", \"3123D78\", \"3123D7E\", \"3124E4A\"], \"domains\": [32, 38, 8, 44, 14, 50, 20, 26], \"num_examples_per_domain_per_label\": 2000, \"pickle_path\": \"/mnt/wd500GB/CSC500/csc500-main/datasets/oracle.Run1_framed_2000Examples_stratified_ds.2022A.pkl\", \"source_or_target_dataset\": \"target\", \"x_transforms\": [\"unit_power\"], \"episode_transforms\": [], \"domain_prefix\": \"ORACLE.run1\"}], \"domains_source\": [\"Wisig_1\", \"Wisig_2\", \"Wisig_3\", \"Wisig_4\"], \"domains_target\": [\"ORACLE.run132\", \"ORACLE.run138\", \"ORACLE.run18\", \"ORACLE.run144\", \"ORACLE.run114\", \"ORACLE.run150\", \"ORACLE.run120\", \"ORACLE.run126\"]}, \"results\": {\"source_test_label_accuracy\": 0.9453125, \"source_test_label_loss\": 0.23196488618850708, \"target_test_label_accuracy\": 0.17890625, \"target_test_label_loss\": 2.5238263607025146, \"source_val_label_accuracy\": 0.9581705729166666, \"source_val_label_loss\": 0.2014189213514328, \"target_val_label_accuracy\": 0.17731119791666666, \"target_val_label_loss\": 2.532670736312866, \"total_epochs_trained\": 7, \"total_experiment_time_secs\": 325.24635100364685, \"confusion\": {\"Wisig_3\": {\"109\": {\"109\": 12}, \"127\": {\"127\": 12}, \"14\": {\"14\": 12}, \"7\": {\"7\": 12}, \"129\": {\"129\": 12}, \"57\": {\"57\": 12}, \"84\": {\"84\": 11, \"26\": 1}, \"114\": {\"114\": 12}, \"44\": {\"44\": 11, \"80\": 1}, \"21\": {\"21\": 12}, \"46\": {\"46\": 12}, \"100\": {\"100\": 12}, \"63\": {\"63\": 9, \"84\": 1, \"92\": 1, \"60\": 1}, \"24\": {\"24\": 11, \"21\": 1}, \"107\": {\"107\": 12}, \"35\": {\"109\": 1, \"35\": 8, \"95\": 1}, \"81\": {\"81\": 12}, \"64\": {\"64\": 12}, \"59\": {\"59\": 12}, \"33\": {\"33\": 12}, \"34\": {\"34\": 11, \"75\": 1}, \"36\": {\"36\": 12}, \"79\": {\"79\": 12}, \"80\": {\"80\": 11, \"87\": 1}, \"77\": {\"77\": 12}, \"22\": {\"22\": 12}, \"124\": {\"124\": 12}, \"2\": {\"2\": 12}, \"87\": {\"87\": 11, \"24\": 1}, \"105\": {\"105\": 12}, \"95\": {\"95\": 12}, \"43\": {\"43\": 12}, \"56\": {\"56\": 10}, \"18\": {\"18\": 12}, \"85\": {\"85\": 12}, \"113\": {\"113\": 12}, \"97\": {\"97\": 12}, \"86\": {\"86\": 12}, \"128\": {\"86\": 2, \"128\": 10}, \"123\": {\"123\": 12}, \"8\": {\"8\": 12}, \"110\": {\"110\": 12}, \"126\": {\"18\": 1, \"126\": 11}, \"101\": {\"101\": 12}, \"115\": {\"115\": 12}, \"49\": {\"49\": 11, \"42\": 1}, \"45\": {\"45\": 12}, \"78\": {\"78\": 9, \"40\": 2, \"13\": 1}, \"65\": {\"65\": 9, \"46\": 1}, \"54\": {\"54\": 12}, \"31\": {\"31\": 9, \"90\": 1}, \"42\": {\"42\": 11, \"114\": 1}, \"68\": {\"68\": 12}, \"15\": {\"15\": 12}, \"69\": {\"69\": 12}, \"17\": {\"17\": 8, \"104\": 1, \"67\": 1}, \"73\": {\"73\": 12}, \"121\": {\"121\": 11, \"61\": 1}, \"102\": {\"102\": 12}, \"48\": {\"48\": 9, \"28\": 1, \"37\": 1, \"22\": 1}, \"23\": {\"23\": 10, \"112\": 1, \"59\": 1}, \"108\": {\"108\": 12}, \"53\": {\"53\": 12}, \"94\": {\"94\": 10}, \"41\": {\"41\": 12}, \"58\": {\"58\": 12}, \"29\": {\"29\": 12}, \"116\": {\"116\": 12}, \"60\": {\"60\": 11, \"122\": 1}, \"104\": {\"104\": 12}, \"106\": {\"106\": 11, \"30\": 1}, \"66\": {\"66\": 12}, \"47\": {\"47\": 12}, \"40\": {\"40\": 12}, \"82\": {\"82\": 11, \"86\": 1}, \"13\": {\"13\": 10, \"5\": 1, \"40\": 1}, \"19\": {\"19\": 12}, \"72\": {\"72\": 12}, \"9\": {\"9\": 12}, \"67\": {\"67\": 12}, \"11\": {\"11\": 12}, \"125\": {\"125\": 12}, \"76\": {\"76\": 8}, \"83\": {\"83\": 12}, \"74\": {\"74\": 11, \"24\": 1}, \"20\": {\"20\": 12}, \"119\": {\"119\": 12}, \"1\": {\"1\": 12}, \"16\": {\"16\": 12}, \"25\": {\"25\": 11, \"64\": 1}, \"90\": {\"90\": 8}, \"39\": {\"39\": 12}, \"28\": {\"28\": 12}, \"55\": {\"55\": 12}, \"117\": {\"117\": 12}, \"112\": {\"112\": 12}, \"38\": {\"38\": 12}, \"37\": {\"37\": 12}, \"120\": {\"120\": 12}, \"122\": {\"122\": 12}, \"50\": {\"50\": 12}, \"10\": {\"10\": 12}, \"5\": {\"5\": 12}, \"51\": {\"51\": 12}, \"3\": {\"3\": 10, \"70\": 1, \"12\": 1}, \"98\": {\"98\": 11, \"21\": 1}, \"70\": {\"60\": 1, \"70\": 11}, \"96\": {\"96\": 12}, \"12\": {\"12\": 12}, \"99\": {\"99\": 12}, \"52\": {\"52\": 12}, \"71\": {\"71\": 10, \"112\": 1, \"61\": 1}, \"89\": {\"89\": 12}, \"0\": {\"0\": 12}, \"4\": {\"4\": 9, \"118\": 1, \"43\": 1, \"73\": 1}, \"93\": {\"93\": 12}, \"6\": {\"6\": 9, \"34\": 1}, \"75\": {\"75\": 12}, \"62\": {\"62\": 12}, \"103\": {\"103\": 12}, \"30\": {\"30\": 12}, \"91\": {\"91\": 11, \"98\": 1}, \"27\": {\"27\": 12}, \"26\": {\"26\": 12}, \"61\": {\"61\": 12}, \"118\": {\"118\": 12}, \"92\": {\"92\": 12}, \"111\": {\"111\": 12}, \"32\": {\"32\": 11, \"85\": 1}, \"88\": {\"88\": 10}}, \"Wisig_4\": {\"28\": {\"28\": 12}, \"4\": {\"4\": 11, \"86\": 1}, \"72\": {\"72\": 12}, \"111\": {\"111\": 12}, \"108\": {\"108\": 10, \"129\": 2}, \"43\": {\"43\": 10}, \"96\": {\"96\": 12}, \"89\": {\"89\": 12}, \"31\": {\"31\": 12}, \"45\": {\"45\": 12}, \"2\": {\"2\": 12}, \"114\": {\"114\": 12}, \"11\": {\"11\": 11, \"108\": 1}, \"12\": {\"12\": 12}, \"14\": {\"14\": 12}, \"90\": {\"90\": 12}, \"10\": {\"10\": 9, \"24\": 1, \"27\": 1, \"94\": 1}, \"63\": {\"42\": 1, \"63\": 10, \"80\": 1}, \"85\": {\"85\": 11, \"54\": 1}, \"64\": {\"64\": 12}, \"82\": {\"82\": 10, \"89\": 1, \"72\": 1}, \"58\": {\"58\": 12}, \"3\": {\"3\": 12}, \"54\": {\"54\": 12}, \"121\": {\"121\": 7, \"82\": 1, \"99\": 2, \"22\": 2}, \"42\": {\"42\": 12}, \"98\": {\"98\": 12}, \"123\": {\"123\": 11, \"113\": 1}, \"91\": {\"91\": 10, \"121\": 1, \"12\": 1}, \"66\": {\"66\": 12}, \"102\": {\"102\": 12}, \"122\": {\"122\": 11, \"70\": 1}, \"1\": {\"1\": 12}, \"15\": {\"15\": 12}, \"97\": {\"15\": 1, \"108\": 1, \"97\": 9, \"91\": 1}, \"75\": {\"75\": 12}, \"95\": {\"95\": 12}, \"57\": {\"57\": 12}, \"68\": {\"68\": 12}, \"125\": {\"125\": 12}, \"62\": {\"62\": 10}, \"27\": {\"27\": 10, \"21\": 1, \"54\": 1}, \"120\": {\"120\": 11, \"23\": 1}, \"26\": {\"26\": 12}, \"55\": {\"55\": 12}, \"71\": {\"71\": 11, \"26\": 1}, \"22\": {\"22\": 12}, \"99\": {\"99\": 11, \"51\": 1}, \"84\": {\"84\": 12}, \"37\": {\"37\": 12}, \"83\": {\"83\": 12}, \"46\": {\"46\": 12}, \"35\": {\"35\": 12}, \"13\": {\"13\": 12}, \"53\": {\"53\": 10, \"69\": 1, \"21\": 1}, \"127\": {\"127\": 12}, \"69\": {\"82\": 1, \"69\": 10, \"78\": 1}, \"48\": {\"48\": 11, \"60\": 1}, \"16\": {\"16\": 12}, \"0\": {\"0\": 10, \"86\": 2}, \"8\": {\"8\": 10, \"53\": 1, \"100\": 1}, \"9\": {\"9\": 12}, \"115\": {\"115\": 11, \"72\": 1}, \"70\": {\"70\": 10, \"78\": 1, \"50\": 1}, \"119\": {\"119\": 12}, \"59\": {\"59\": 12}, \"52\": {\"52\": 12}, \"60\": {\"60\": 8, \"99\": 2, \"110\": 2}, \"44\": {\"44\": 12}, \"51\": {\"51\": 9, \"95\": 1, \"48\": 2}, \"6\": {\"6\": 11, \"58\": 1}, \"73\": {\"73\": 12}, \"78\": {\"78\": 10, \"87\": 1, \"33\": 1}, \"92\": {\"92\": 12}, \"20\": {\"20\": 11, \"5\": 1}, \"17\": {\"17\": 12}, \"74\": {\"74\": 12}, \"19\": {\"19\": 12}, \"50\": {\"50\": 12}, \"34\": {\"34\": 10, \"115\": 1, \"60\": 1}, \"104\": {\"104\": 8}, \"33\": {\"33\": 10, \"105\": 1, \"51\": 1}, \"5\": {\"5\": 12}, \"7\": {\"7\": 11, \"69\": 1}, \"29\": {\"29\": 12}, \"25\": {\"25\": 12}, \"124\": {\"124\": 12}, \"117\": {\"117\": 10, \"90\": 1, \"80\": 1}, \"88\": {\"88\": 10, \"122\": 1, \"71\": 1}, \"61\": {\"61\": 11, \"88\": 1}, \"86\": {\"86\": 12}, \"116\": {\"116\": 12}, \"24\": {\"24\": 10, \"36\": 2}, \"128\": {\"128\": 9, \"28\": 1, \"78\": 1, \"20\": 1}, \"101\": {\"101\": 12}, \"65\": {\"65\": 9, \"23\": 1}, \"36\": {\"36\": 11, \"24\": 1}, \"21\": {\"21\": 10, \"50\": 1, \"51\": 1}, \"106\": {\"106\": 12}, \"118\": {\"118\": 12}, \"113\": {\"113\": 11, \"36\": 1}, \"40\": {\"40\": 12}, \"93\": {\"93\": 7, \"110\": 1}, \"94\": {\"94\": 10, \"36\": 2}, \"103\": {\"103\": 7, \"6\": 2, \"5\": 1, \"87\": 1, \"22\": 1}, \"110\": {\"110\": 12}, \"56\": {\"56\": 12}, \"39\": {\"39\": 11, \"26\": 1}, \"109\": {\"109\": 12}, \"67\": {\"67\": 11, \"71\": 1}, \"129\": {\"129\": 12}, \"30\": {\"30\": 12}, \"126\": {\"126\": 10, \"5\": 1, \"108\": 1}, \"87\": {\"51\": 1, \"87\": 11}, \"112\": {\"112\": 12}, \"100\": {\"100\": 12}, \"79\": {\"79\": 10}, \"81\": {\"81\": 11, \"12\": 1}, \"76\": {\"76\": 10}, \"47\": {\"47\": 11, \"100\": 1}, \"77\": {\"77\": 12}, \"23\": {\"23\": 10, \"9\": 1, \"78\": 1}, \"18\": {\"18\": 12}, \"49\": {\"49\": 12}, \"41\": {\"41\": 9, \"47\": 1, \"48\": 1, \"12\": 1}, \"32\": {\"32\": 12}, \"107\": {\"107\": 10}, \"80\": {\"80\": 11, \"18\": 1}, \"105\": {\"105\": 7, \"87\": 2, \"113\": 1}, \"38\": {\"38\": 10}}, \"Wisig_1\": {\"108\": {\"108\": 10}, \"40\": {\"40\": 12}, \"68\": {\"68\": 12}, \"23\": {\"23\": 12}, \"26\": {\"70\": 1, \"26\": 11}, \"64\": {\"64\": 12}, \"22\": {\"22\": 12}, \"3\": {\"3\": 12}, \"4\": {\"4\": 10, \"40\": 1, \"78\": 1}, \"70\": {\"70\": 12}, \"57\": {\"57\": 12}, \"79\": {\"79\": 12}, \"9\": {\"9\": 11, \"103\": 1}, \"89\": {\"89\": 12}, \"110\": {\"110\": 12}, \"102\": {\"102\": 12}, \"31\": {\"31\": 12}, \"58\": {\"58\": 12}, \"47\": {\"47\": 12}, \"24\": {\"24\": 11, \"97\": 1}, \"19\": {\"19\": 12}, \"11\": {\"11\": 12}, \"52\": {\"52\": 12}, \"17\": {\"17\": 12}, \"25\": {\"25\": 12}, \"69\": {\"69\": 12}, \"96\": {\"96\": 12}, \"109\": {\"109\": 11, \"126\": 1}, \"115\": {\"115\": 12}, \"83\": {\"83\": 12}, \"84\": {\"84\": 12}, \"119\": {\"119\": 10}, \"122\": {\"122\": 10}, \"99\": {\"99\": 12}, \"1\": {\"1\": 12}, \"74\": {\"74\": 10, \"127\": 1, \"68\": 1}, \"85\": {\"85\": 12}, \"127\": {\"127\": 12}, \"111\": {\"111\": 12}, \"53\": {\"53\": 12}, \"88\": {\"88\": 10, \"36\": 2}, \"65\": {\"65\": 8, \"129\": 1, \"83\": 1}, \"7\": {\"7\": 12}, \"16\": {\"16\": 11, \"105\": 1}, \"128\": {\"128\": 12}, \"34\": {\"34\": 12}, \"129\": {\"129\": 12}, \"43\": {\"43\": 12}, \"92\": {\"92\": 12}, \"28\": {\"28\": 12}, \"27\": {\"27\": 12}, \"114\": {\"114\": 12}, \"73\": {\"73\": 12}, \"0\": {\"0\": 12}, \"104\": {\"104\": 12}, \"118\": {\"118\": 12}, \"41\": {\"41\": 12}, \"49\": {\"49\": 12}, \"14\": {\"14\": 12}, \"46\": {\"22\": 1, \"46\": 9, \"76\": 1, \"12\": 1}, \"33\": {\"33\": 12}, \"76\": {\"76\": 12}, \"125\": {\"125\": 12}, \"86\": {\"86\": 10}, \"66\": {\"66\": 10, \"61\": 1, \"115\": 1}, \"5\": {\"5\": 12}, \"117\": {\"117\": 12}, \"75\": {\"75\": 12}, \"61\": {\"61\": 12}, \"50\": {\"50\": 11, \"12\": 1}, \"67\": {\"67\": 10}, \"18\": {\"18\": 12}, \"98\": {\"98\": 12}, \"55\": {\"55\": 10}, \"32\": {\"32\": 12}, \"120\": {\"120\": 12}, \"97\": {\"97\": 11, \"24\": 1}, \"126\": {\"126\": 12}, \"45\": {\"45\": 11, \"61\": 1}, \"78\": {\"78\": 9, \"43\": 1}, \"100\": {\"100\": 12}, \"107\": {\"107\": 12}, \"93\": {\"93\": 11, \"3\": 1}, \"77\": {\"77\": 12}, \"63\": {\"63\": 12}, \"112\": {\"112\": 12}, \"113\": {\"113\": 12}, \"103\": {\"103\": 10}, \"71\": {\"71\": 12}, \"30\": {\"30\": 12}, \"90\": {\"90\": 12}, \"37\": {\"103\": 1, \"37\": 11}, \"60\": {\"60\": 10, \"119\": 1, \"49\": 1}, \"15\": {\"15\": 12}, \"39\": {\"39\": 12}, \"72\": {\"72\": 12}, \"54\": {\"54\": 12}, \"35\": {\"35\": 12}, \"2\": {\"2\": 12}, \"94\": {\"94\": 11, \"83\": 1}, \"42\": {\"42\": 10, \"100\": 1, \"109\": 1}, \"81\": {\"81\": 12}, \"8\": {\"8\": 11, \"29\": 1}, \"87\": {\"87\": 12}, \"6\": {\"6\": 12}, \"36\": {\"36\": 11, \"88\": 1}, \"91\": {\"91\": 12}, \"56\": {\"56\": 12}, \"80\": {\"80\": 12}, \"124\": {\"124\": 10}, \"44\": {\"44\": 12}, \"13\": {\"13\": 12}, \"10\": {\"10\": 10, \"78\": 1, \"43\": 1}, \"59\": {\"59\": 12}, \"95\": {\"95\": 12}, \"105\": {\"105\": 11, \"66\": 1}, \"101\": {\"101\": 12}, \"20\": {\"20\": 12}, \"48\": {\"48\": 11, \"123\": 1}, \"106\": {\"106\": 12}, \"51\": {\"51\": 12}, \"21\": {\"84\": 3, \"87\": 1, \"21\": 6, \"78\": 1, \"23\": 1}, \"123\": {\"123\": 12}, \"121\": {\"121\": 11, \"26\": 1}, \"38\": {\"38\": 12}, \"62\": {\"62\": 12}, \"29\": {\"29\": 12}, \"82\": {\"82\": 12}, \"116\": {\"116\": 12}, \"12\": {\"12\": 8}}, \"Wisig_2\": {\"91\": {\"91\": 11, \"17\": 1}, \"12\": {\"12\": 11, \"4\": 1}, \"101\": {\"101\": 10}, \"121\": {\"117\": 3, \"72\": 1, \"121\": 8}, \"118\": {\"118\": 12}, \"10\": {\"10\": 12}, \"117\": {\"117\": 12}, \"110\": {\"110\": 11, \"10\": 1}, \"97\": {\"97\": 10, \"12\": 1, \"2\": 1}, \"28\": {\"17\": 1, \"28\": 8, \"124\": 1, \"22\": 1, \"33\": 1}, \"88\": {\"110\": 1, \"88\": 11}, \"17\": {\"17\": 10, \"91\": 1, \"62\": 1}, \"126\": {\"126\": 12}, \"33\": {\"33\": 12}, \"86\": {\"86\": 12}, \"106\": {\"106\": 12}, \"54\": {\"54\": 12}, \"125\": {\"125\": 12}, \"83\": {\"83\": 12}, \"98\": {\"98\": 12}, \"11\": {\"11\": 10, \"114\": 1, \"40\": 1}, \"32\": {\"106\": 1, \"32\": 11}, \"42\": {\"42\": 11, \"44\": 1}, \"103\": {\"103\": 12}, \"87\": {\"87\": 11, \"70\": 1}, \"61\": {\"118\": 1, \"61\": 10, \"102\": 1}, \"13\": {\"13\": 12}, \"4\": {\"4\": 12}, \"15\": {\"15\": 10}, \"120\": {\"120\": 12}, \"80\": {\"80\": 12}, \"72\": {\"72\": 10}, \"64\": {\"64\": 11, \"34\": 1}, \"81\": {\"81\": 12}, \"102\": {\"102\": 12}, \"76\": {\"76\": 12}, \"49\": {\"49\": 8, \"73\": 1, \"21\": 1}, \"129\": {\"129\": 12}, \"89\": {\"89\": 12}, \"52\": {\"52\": 12}, \"35\": {\"35\": 12}, \"53\": {\"53\": 10, \"40\": 1, \"87\": 1}, \"112\": {\"112\": 12}, \"105\": {\"105\": 12}, \"100\": {\"100\": 12}, \"9\": {\"9\": 12}, \"82\": {\"82\": 12}, \"51\": {\"51\": 11, \"77\": 1}, \"21\": {\"21\": 12}, \"92\": {\"92\": 11, \"84\": 1}, \"69\": {\"69\": 12}, \"77\": {\"77\": 12}, \"50\": {\"50\": 11, \"88\": 1}, \"36\": {\"36\": 12}, \"16\": {\"16\": 10, \"24\": 1, \"36\": 1}, \"8\": {\"18\": 1, \"8\": 10, \"120\": 1}, \"127\": {\"127\": 12}, \"46\": {\"46\": 10}, \"84\": {\"84\": 12}, \"18\": {\"18\": 12}, \"123\": {\"123\": 10}, \"56\": {\"56\": 11, \"15\": 1}, \"26\": {\"26\": 12}, \"14\": {\"109\": 1, \"14\": 7, \"107\": 1, \"83\": 1, \"43\": 1, \"40\": 1}, \"109\": {\"109\": 11, \"69\": 1}, \"66\": {\"66\": 12}, \"24\": {\"24\": 11, \"11\": 1}, \"71\": {\"71\": 12}, \"65\": {\"65\": 10, \"92\": 1, \"51\": 1}, \"75\": {\"75\": 11, \"21\": 1}, \"111\": {\"111\": 12}, \"30\": {\"30\": 11, \"42\": 1}, \"85\": {\"85\": 12}, \"113\": {\"113\": 9, \"21\": 1}, \"45\": {\"45\": 12}, \"29\": {\"29\": 12}, \"20\": {\"20\": 12}, \"25\": {\"25\": 12}, \"0\": {\"0\": 12}, \"68\": {\"68\": 12}, \"119\": {\"119\": 12}, \"90\": {\"90\": 12}, \"38\": {\"38\": 12}, \"99\": {\"99\": 12}, \"1\": {\"1\": 12}, \"67\": {\"67\": 9, \"109\": 2, \"61\": 1}, \"63\": {\"63\": 12}, \"34\": {\"34\": 12}, \"108\": {\"108\": 12}, \"40\": {\"40\": 12}, \"47\": {\"47\": 12}, \"37\": {\"37\": 12}, \"78\": {\"78\": 11, \"43\": 1}, \"96\": {\"96\": 12}, \"43\": {\"43\": 9, \"21\": 1, \"70\": 2}, \"5\": {\"5\": 10}, \"124\": {\"124\": 12}, \"44\": {\"44\": 12}, \"41\": {\"41\": 11, \"51\": 1}, \"116\": {\"116\": 12}, \"19\": {\"19\": 11, \"82\": 1}, \"115\": {\"115\": 11, \"7\": 1}, \"95\": {\"95\": 11, \"105\": 1}, \"3\": {\"3\": 10}, \"59\": {\"59\": 12}, \"55\": {\"55\": 11, \"22\": 1}, \"70\": {\"70\": 10, \"33\": 2}, \"6\": {\"6\": 12}, \"2\": {\"2\": 12}, \"48\": {\"48\": 12}, \"23\": {\"23\": 11, \"122\": 1}, \"7\": {\"7\": 12}, \"122\": {\"122\": 12}, \"57\": {\"57\": 10, \"108\": 1, \"59\": 1}, \"39\": {\"39\": 9, \"108\": 1}, \"79\": {\"79\": 12}, \"27\": {\"27\": 10}, \"74\": {\"74\": 9, \"17\": 1, \"36\": 1, \"51\": 1}, \"73\": {\"73\": 12}, \"62\": {\"62\": 12}, \"107\": {\"107\": 12}, \"128\": {\"128\": 12}, \"60\": {\"60\": 11, \"116\": 1}, \"114\": {\"114\": 12}, \"22\": {\"22\": 12}, \"93\": {\"93\": 12}, \"94\": {\"94\": 11, \"68\": 1}, \"31\": {\"31\": 10}, \"104\": {\"104\": 12}, \"58\": {\"58\": 12}}, \"ORACLE.run114\": {\"15\": {\"2\": 15, \"4\": 22, \"5\": 26, \"7\": 47, \"13\": 13, \"10\": 6, \"1\": 26, \"3\": 13, \"14\": 8, \"15\": 47, \"11\": 4, \"6\": 8, \"8\": 4, \"0\": 1}, \"3\": {\"13\": 13, \"4\": 28, \"15\": 12, \"1\": 17, \"3\": 30, \"5\": 27, \"0\": 21, \"2\": 19, \"9\": 3, \"14\": 14, \"11\": 22, \"6\": 10, \"10\": 13, \"8\": 2, \"12\": 1, \"7\": 8}, \"6\": {\"0\": 12, \"14\": 48, \"2\": 34, \"4\": 11, \"6\": 32, \"1\": 1, \"11\": 9, \"7\": 4, \"5\": 16, \"15\": 6, \"10\": 19, \"13\": 29, \"3\": 18, \"9\": 1}, \"1\": {\"2\": 6, \"10\": 11, \"0\": 15, \"4\": 25, \"7\": 22, \"5\": 36, \"8\": 15, \"15\": 24, \"3\": 23, \"6\": 3, \"1\": 35, \"12\": 2, \"9\": 7, \"11\": 9, \"14\": 4, \"13\": 3}, \"8\": {\"8\": 82, \"9\": 33, \"11\": 6, \"15\": 6, \"4\": 16, \"7\": 12, \"12\": 35, \"1\": 22, \"5\": 10, \"3\": 9, \"0\": 7, \"10\": 1, \"2\": 1}, \"10\": {\"6\": 11, \"4\": 21, \"9\": 10, \"1\": 9, \"14\": 15, \"15\": 4, \"11\": 27, \"13\": 13, \"3\": 29, \"7\": 5, \"5\": 12, \"2\": 23, \"10\": 33, \"0\": 21, \"12\": 6, \"8\": 1}, \"9\": {\"12\": 63, \"9\": 51, \"5\": 9, \"4\": 11, \"8\": 28, \"11\": 17, \"1\": 12, \"0\": 18, \"3\": 11, \"10\": 13, \"7\": 2, \"14\": 3, \"15\": 1, \"2\": 1}, \"13\": {\"4\": 19, \"10\": 14, \"6\": 38, \"14\": 31, \"0\": 13, \"13\": 31, \"3\": 15, \"5\": 9, \"2\": 27, \"7\": 6, \"15\": 14, \"1\": 11, \"11\": 12}, \"12\": {\"9\": 74, \"12\": 88, \"0\": 15, \"8\": 20, \"2\": 2, \"11\": 20, \"4\": 6, \"10\": 7, \"7\": 1, \"1\": 4, \"3\": 3}, \"5\": {\"0\": 17, \"10\": 25, \"4\": 30, \"2\": 23, \"15\": 18, \"7\": 19, \"13\": 5, \"6\": 9, \"5\": 24, \"1\": 25, \"3\": 22, \"11\": 7, \"14\": 10, \"9\": 4, \"8\": 2}, \"0\": {\"3\": 31, \"4\": 20, \"0\": 26, \"5\": 16, \"1\": 15, \"10\": 29, \"11\": 29, \"7\": 9, \"13\": 4, \"2\": 11, \"9\": 18, \"14\": 11, \"6\": 11, \"12\": 4, \"8\": 2, \"15\": 4}, \"2\": {\"7\": 6, \"4\": 12, \"1\": 8, \"14\": 31, \"13\": 24, \"5\": 22, \"2\": 29, \"15\": 17, \"11\": 8, \"6\": 23, \"3\": 24, \"10\": 15, \"0\": 20, \"9\": 1}, \"11\": {\"3\": 27, \"12\": 16, \"10\": 35, \"5\": 11, \"14\": 18, \"6\": 12, \"11\": 30, \"13\": 7, \"9\": 19, \"2\": 9, \"4\": 16, \"0\": 27, \"8\": 2, \"7\": 2, \"15\": 2, \"1\": 7}, \"14\": {\"4\": 15, \"2\": 28, \"6\": 35, \"3\": 15, \"13\": 25, \"14\": 43, \"15\": 10, \"0\": 20, \"5\": 9, \"10\": 19, \"11\": 10, \"7\": 8, \"1\": 3}, \"7\": {\"5\": 23, \"15\": 40, \"4\": 24, \"3\": 17, \"1\": 42, \"6\": 6, \"7\": 42, \"2\": 11, \"8\": 12, \"13\": 4, \"0\": 5, \"10\": 8, \"11\": 2, \"14\": 2, \"9\": 2}, \"4\": {\"10\": 26, \"3\": 24, \"6\": 10, \"5\": 23, \"1\": 18, \"7\": 19, \"4\": 27, \"15\": 18, \"13\": 15, \"11\": 11, \"14\": 7, \"2\": 18, \"0\": 16, \"8\": 5, \"9\": 2, \"12\": 1}}, \"ORACLE.run120\": {\"3\": {\"1\": 23, \"5\": 18, \"9\": 26, \"2\": 19, \"11\": 7, \"13\": 22, \"15\": 20, \"12\": 17, \"10\": 6, \"14\": 11, \"3\": 15, \"7\": 12, \"4\": 10, \"6\": 15, \"8\": 10, \"0\": 9}, \"15\": {\"9\": 22, \"15\": 29, \"5\": 20, \"13\": 17, \"2\": 25, \"0\": 22, \"8\": 9, \"1\": 29, \"7\": 14, \"6\": 11, \"12\": 8, \"3\": 14, \"4\": 7, \"10\": 7, \"14\": 3, \"11\": 3}, \"8\": {\"15\": 9, \"6\": 25, \"0\": 17, \"5\": 9, \"13\": 4, \"14\": 28, \"3\": 19, \"7\": 21, \"4\": 19, \"1\": 12, \"12\": 9, \"2\": 11, \"8\": 22, \"10\": 24, \"9\": 11}, \"4\": {\"2\": 13, \"10\": 23, \"3\": 18, \"0\": 16, \"1\": 7, \"14\": 21, \"9\": 22, \"7\": 14, \"4\": 23, \"8\": 22, \"12\": 18, \"15\": 10, \"6\": 14, \"5\": 17, \"13\": 2}, \"14\": {\"1\": 6, \"4\": 30, \"10\": 28, \"6\": 29, \"7\": 12, \"13\": 2, \"8\": 27, \"12\": 13, \"5\": 12, \"2\": 5, \"3\": 20, \"14\": 32, \"15\": 5, \"9\": 10, \"0\": 8, \"11\": 1}, \"0\": {\"7\": 17, \"9\": 24, \"14\": 6, \"15\": 20, \"2\": 17, \"3\": 21, \"1\": 17, \"4\": 13, \"5\": 17, \"8\": 10, \"13\": 17, \"6\": 19, \"11\": 7, \"12\": 11, \"10\": 8, \"0\": 16}, \"7\": {\"7\": 24, \"2\": 14, \"15\": 15, \"9\": 23, \"13\": 10, \"5\": 17, \"14\": 11, \"3\": 24, \"1\": 14, \"4\": 14, \"12\": 18, \"10\": 9, \"8\": 13, \"11\": 5, \"6\": 15, \"0\": 14}, \"6\": {\"0\": 14, \"1\": 7, \"10\": 23, \"14\": 34, \"3\": 15, \"6\": 21, \"12\": 15, \"15\": 6, \"4\": 16, \"9\": 15, \"8\": 21, \"11\": 9, \"7\": 15, \"2\": 11, \"13\": 2, \"5\": 16}, \"10\": {\"1\": 4, \"15\": 4, \"10\": 26, \"6\": 31, \"14\": 31, \"5\": 14, \"12\": 12, \"8\": 30, \"4\": 28, \"9\": 9, \"13\": 3, \"3\": 15, \"7\": 8, \"0\": 17, \"2\": 8}, \"5\": {\"3\": 20, \"15\": 20, \"5\": 24, \"9\": 22, \"1\": 15, \"8\": 12, \"2\": 19, \"14\": 13, \"12\": 12, \"7\": 14, \"11\": 3, \"10\": 14, \"0\": 19, \"13\": 15, \"4\": 9, \"6\": 9}, \"2\": {\"1\": 20, \"12\": 23, \"2\": 27, \"7\": 13, \"13\": 21, \"11\": 22, \"5\": 10, \"3\": 16, \"8\": 13, \"9\": 17, \"15\": 17, \"6\": 7, \"4\": 9, \"0\": 16, \"14\": 5, \"10\": 4}, \"12\": {\"8\": 21, \"13\": 20, \"15\": 14, \"10\": 8, \"11\": 3, \"1\": 23, \"2\": 21, \"12\": 23, \"9\": 20, \"7\": 19, \"6\": 10, \"0\": 18, \"14\": 5, \"3\": 17, \"5\": 12, \"4\": 6}, \"9\": {\"7\": 19, \"9\": 18, \"15\": 29, \"2\": 20, \"1\": 21, \"13\": 16, \"5\": 22, \"12\": 19, \"6\": 9, \"0\": 13, \"3\": 22, \"10\": 6, \"14\": 8, \"8\": 11, \"11\": 2, \"4\": 5}, \"1\": {\"2\": 23, \"9\": 27, \"13\": 15, \"15\": 14, \"1\": 19, \"5\": 20, \"3\": 15, \"0\": 18, \"10\": 9, \"12\": 22, \"8\": 19, \"6\": 4, \"11\": 10, \"7\": 13, \"4\": 12}, \"11\": {\"13\": 26, \"11\": 46, \"15\": 12, \"1\": 16, \"9\": 24, \"2\": 24, \"12\": 11, \"3\": 13, \"7\": 17, \"6\": 6, \"5\": 13, \"0\": 19, \"4\": 4, \"10\": 5, \"8\": 4}, \"13\": {\"2\": 18, \"3\": 19, \"5\": 23, \"9\": 24, \"11\": 24, \"13\": 27, \"1\": 26, \"15\": 20, \"7\": 10, \"0\": 20, \"12\": 20, \"6\": 3, \"4\": 3, \"14\": 2, \"8\": 1}}, \"ORACLE.run138\": {\"5\": {\"5\": 38, \"13\": 14, \"9\": 8, \"15\": 20, \"8\": 31, \"10\": 14, \"0\": 22, \"7\": 15, \"6\": 34, \"14\": 5, \"11\": 3, \"3\": 13, \"1\": 13, \"2\": 7, \"4\": 1, \"12\": 2}, \"8\": {\"6\": 16, \"0\": 21, \"15\": 24, \"5\": 32, \"8\": 32, \"2\": 12, \"9\": 7, \"10\": 22, \"13\": 13, \"3\": 17, \"7\": 20, \"1\": 8, \"11\": 2, \"14\": 8, \"12\": 5, \"4\": 1}, \"11\": {\"12\": 34, \"11\": 64, \"14\": 60, \"10\": 17, \"0\": 3, \"2\": 23, \"4\": 19, \"13\": 3, \"7\": 1, \"8\": 8, \"15\": 7, \"5\": 1}, \"1\": {\"9\": 24, \"1\": 60, \"15\": 32, \"6\": 40, \"3\": 6, \"8\": 12, \"2\": 19, \"13\": 20, \"5\": 21, \"7\": 2, \"10\": 2, \"0\": 1, \"14\": 1}, \"10\": {\"0\": 29, \"2\": 27, \"5\": 13, \"8\": 18, \"13\": 13, \"7\": 33, \"15\": 18, \"12\": 14, \"14\": 26, \"10\": 22, \"4\": 3, \"11\": 18, \"6\": 1, \"1\": 4, \"9\": 1}, \"15\": {\"13\": 24, \"5\": 26, \"12\": 2, \"2\": 31, \"0\": 14, \"15\": 42, \"8\": 23, \"1\": 24, \"9\": 9, \"10\": 15, \"6\": 9, \"7\": 5, \"3\": 8, \"14\": 6, \"11\": 2}, \"3\": {\"9\": 32, \"3\": 47, \"15\": 13, \"5\": 23, \"7\": 31, \"0\": 21, \"6\": 33, \"1\": 12, \"13\": 7, \"10\": 2, \"8\": 14, \"14\": 2, \"11\": 1, \"4\": 1, \"2\": 1}, \"7\": {\"0\": 50, \"7\": 46, \"8\": 39, \"14\": 6, \"10\": 16, \"9\": 4, \"15\": 11, \"5\": 20, \"6\": 4, \"3\": 12, \"12\": 12, \"13\": 8, \"11\": 3, \"4\": 4, \"2\": 5}, \"4\": {\"12\": 90, \"4\": 108, \"10\": 4, \"14\": 15, \"11\": 12, \"7\": 5, \"0\": 3, \"3\": 1, \"5\": 1, \"8\": 1}, \"14\": {\"10\": 40, \"0\": 12, \"11\": 57, \"2\": 16, \"14\": 52, \"12\": 24, \"15\": 8, \"13\": 3, \"4\": 14, \"7\": 9, \"8\": 4, \"5\": 1}, \"9\": {\"1\": 30, \"8\": 6, \"15\": 14, \"5\": 31, \"0\": 20, \"6\": 43, \"3\": 37, \"9\": 44, \"2\": 2, \"7\": 3, \"13\": 9, \"10\": 1}, \"12\": {\"4\": 58, \"12\": 84, \"11\": 24, \"3\": 2, \"8\": 2, \"14\": 31, \"10\": 16, \"7\": 16, \"2\": 1, \"5\": 1, \"0\": 5}, \"6\": {\"6\": 49, \"15\": 22, \"1\": 38, \"13\": 13, \"8\": 15, \"5\": 24, \"3\": 23, \"0\": 11, \"9\": 44, \"2\": 1}, \"2\": {\"10\": 24, \"8\": 17, \"2\": 52, \"11\": 14, \"15\": 33, \"13\": 33, \"5\": 7, \"1\": 12, \"7\": 7, \"14\": 27, \"6\": 2, \"0\": 8, \"12\": 4}, \"0\": {\"7\": 29, \"12\": 14, \"15\": 12, \"3\": 21, \"13\": 15, \"0\": 17, \"8\": 32, \"9\": 11, \"5\": 20, \"2\": 10, \"10\": 17, \"14\": 9, \"11\": 9, \"6\": 10, \"1\": 9, \"4\": 5}, \"13\": {\"6\": 18, \"2\": 32, \"8\": 19, \"1\": 34, \"13\": 32, \"9\": 14, \"15\": 28, \"3\": 4, \"5\": 14, \"10\": 14, \"0\": 13, \"11\": 4, \"14\": 5, \"7\": 9}}, \"ORACLE.run18\": {\"9\": {\"9\": 174, \"0\": 17, \"13\": 15, \"14\": 4, \"10\": 11, \"7\": 1, \"1\": 2, \"5\": 6, \"6\": 3, \"4\": 4, \"2\": 3}, \"10\": {\"13\": 20, \"10\": 26, \"6\": 23, \"14\": 26, \"7\": 18, \"11\": 8, \"5\": 22, \"0\": 21, \"3\": 14, \"2\": 11, \"12\": 7, \"15\": 5, \"4\": 20, \"1\": 13, \"8\": 6}, \"13\": {\"6\": 21, \"7\": 35, \"0\": 17, \"13\": 21, \"10\": 23, \"2\": 15, \"8\": 6, \"1\": 10, \"15\": 8, \"12\": 7, \"5\": 11, \"11\": 8, \"3\": 10, \"4\": 22, \"14\": 25, \"9\": 1}, \"0\": {\"3\": 19, \"7\": 27, \"2\": 19, \"13\": 33, \"10\": 16, \"6\": 18, \"14\": 24, \"5\": 16, \"0\": 31, \"12\": 2, \"4\": 18, \"9\": 7, \"11\": 2, \"1\": 4, \"15\": 3, \"8\": 1}, \"1\": {\"11\": 27, \"5\": 24, \"6\": 10, \"15\": 21, \"1\": 28, \"7\": 11, \"14\": 24, \"10\": 8, \"3\": 8, \"8\": 25, \"13\": 15, \"4\": 19, \"2\": 3, \"12\": 13, \"0\": 4}, \"15\": {\"11\": 26, \"5\": 9, \"13\": 13, \"15\": 29, \"4\": 14, \"12\": 28, \"3\": 24, \"6\": 15, \"1\": 11, \"14\": 10, \"8\": 28, \"7\": 13, \"10\": 8, \"0\": 3, \"2\": 9}, \"5\": {\"6\": 23, \"1\": 18, \"5\": 31, \"4\": 20, \"11\": 19, \"0\": 18, \"10\": 17, \"14\": 26, \"13\": 27, \"7\": 14, \"12\": 2, \"3\": 7, \"15\": 9, \"8\": 6, \"2\": 3}, \"3\": {\"4\": 20, \"12\": 19, \"11\": 3, \"15\": 19, \"10\": 13, \"3\": 32, \"8\": 20, \"13\": 10, \"5\": 5, \"14\": 15, \"0\": 9, \"7\": 20, \"2\": 34, \"1\": 9, \"6\": 12}, \"6\": {\"4\": 15, \"6\": 31, \"0\": 14, \"13\": 19, \"14\": 23, \"15\": 9, \"11\": 6, \"3\": 15, \"7\": 21, \"1\": 17, \"10\": 16, \"12\": 10, \"2\": 19, \"8\": 6, \"5\": 19}, \"11\": {\"10\": 11, \"15\": 22, \"5\": 24, \"14\": 13, \"1\": 23, \"0\": 7, \"12\": 17, \"2\": 9, \"8\": 26, \"11\": 33, \"6\": 12, \"7\": 9, \"3\": 7, \"4\": 18, \"13\": 9}, \"8\": {\"12\": 32, \"15\": 30, \"8\": 34, \"0\": 4, \"11\": 30, \"14\": 9, \"6\": 11, \"7\": 6, \"1\": 22, \"3\": 22, \"4\": 14, \"10\": 5, \"2\": 3, \"13\": 6, \"5\": 12}, \"4\": {\"1\": 19, \"10\": 18, \"6\": 21, \"14\": 17, \"2\": 20, \"7\": 22, \"13\": 26, \"5\": 17, \"15\": 7, \"0\": 16, \"4\": 22, \"3\": 12, \"12\": 7, \"11\": 8, \"8\": 8}, \"12\": {\"15\": 27, \"12\": 38, \"11\": 19, \"7\": 21, \"8\": 35, \"4\": 8, \"2\": 10, \"6\": 19, \"10\": 7, \"3\": 25, \"13\": 5, \"1\": 11, \"5\": 2, \"0\": 5, \"14\": 8}, \"14\": {\"11\": 14, \"0\": 20, \"5\": 21, \"10\": 20, \"7\": 19, \"3\": 7, \"13\": 16, \"6\": 23, \"12\": 5, \"1\": 17, \"14\": 29, \"4\": 17, \"2\": 8, \"15\": 11, \"9\": 1, \"8\": 12}, \"2\": {\"3\": 31, \"10\": 14, \"12\": 10, \"15\": 11, \"11\": 8, \"4\": 11, \"2\": 33, \"6\": 24, \"13\": 16, \"14\": 14, \"5\": 6, \"0\": 21, \"7\": 31, \"8\": 8, \"1\": 2}, \"7\": {\"12\": 6, \"7\": 27, \"13\": 26, \"4\": 20, \"14\": 18, \"2\": 20, \"8\": 10, \"6\": 20, \"3\": 20, \"15\": 5, \"0\": 22, \"5\": 12, \"11\": 6, \"10\": 18, \"1\": 10}}, \"ORACLE.run150\": {\"7\": {\"7\": 31, \"1\": 16, \"3\": 12, \"10\": 19, \"5\": 31, \"6\": 30, \"8\": 12, \"4\": 28, \"13\": 26, \"15\": 20, \"11\": 6, \"0\": 7, \"2\": 2}, \"3\": {\"3\": 95, \"10\": 27, \"8\": 42, \"7\": 21, \"4\": 2, \"5\": 16, \"6\": 5, \"0\": 6, \"13\": 21, \"14\": 1, \"1\": 3, \"15\": 1}, \"8\": {\"3\": 39, \"8\": 68, \"10\": 31, \"0\": 38, \"2\": 14, \"5\": 8, \"1\": 4, \"13\": 9, \"6\": 8, \"7\": 10, \"14\": 3, \"4\": 6, \"15\": 2}, \"2\": {\"10\": 23, \"14\": 31, \"0\": 57, \"8\": 18, \"12\": 16, \"2\": 73, \"11\": 4, \"3\": 3, \"9\": 1, \"13\": 5, \"1\": 3, \"5\": 2, \"4\": 1, \"7\": 1, \"6\": 2}, \"14\": {\"9\": 33, \"12\": 33, \"14\": 56, \"1\": 17, \"2\": 28, \"0\": 14, \"15\": 6, \"11\": 17, \"5\": 5, \"4\": 3, \"10\": 15, \"6\": 9, \"13\": 2, \"8\": 2}, \"4\": {\"11\": 16, \"6\": 29, \"4\": 36, \"13\": 26, \"10\": 13, \"7\": 29, \"5\": 27, \"15\": 24, \"8\": 5, \"12\": 4, \"14\": 5, \"1\": 19, \"9\": 5, \"3\": 1, \"0\": 1}, \"6\": {\"4\": 31, \"13\": 27, \"1\": 28, \"6\": 33, \"15\": 26, \"10\": 14, \"7\": 29, \"5\": 22, \"9\": 11, \"14\": 6, \"0\": 3, \"11\": 5, \"3\": 2, \"8\": 1, \"12\": 1, \"2\": 1}, \"15\": {\"15\": 32, \"4\": 23, \"7\": 20, \"5\": 24, \"1\": 30, \"11\": 24, \"6\": 30, \"9\": 16, \"13\": 22, \"12\": 2, \"14\": 6, \"10\": 4, \"0\": 5, \"2\": 1, \"8\": 1}, \"10\": {\"15\": 6, \"10\": 36, \"3\": 17, \"6\": 13, \"8\": 36, \"7\": 20, \"14\": 8, \"12\": 2, \"5\": 12, \"0\": 42, \"13\": 19, \"9\": 1, \"4\": 10, \"2\": 9, \"11\": 3, \"1\": 6}, \"11\": {\"4\": 11, \"13\": 10, \"1\": 24, \"9\": 41, \"11\": 38, \"2\": 7, \"6\": 16, \"15\": 27, \"10\": 5, \"7\": 7, \"5\": 13, \"12\": 22, \"14\": 16, \"0\": 3}, \"13\": {\"15\": 29, \"13\": 25, \"5\": 37, \"11\": 9, \"6\": 23, \"1\": 17, \"10\": 20, \"8\": 9, \"4\": 23, \"7\": 32, \"0\": 4, \"9\": 5, \"3\": 6, \"2\": 1}, \"9\": {\"9\": 55, \"12\": 30, \"11\": 49, \"14\": 28, \"6\": 7, \"15\": 12, \"4\": 11, \"0\": 8, \"5\": 6, \"13\": 3, \"7\": 5, \"2\": 3, \"1\": 20, \"10\": 3}, \"0\": {\"2\": 40, \"10\": 23, \"9\": 5, \"8\": 33, \"7\": 8, \"0\": 52, \"14\": 19, \"13\": 16, \"6\": 11, \"12\": 4, \"11\": 6, \"3\": 5, \"5\": 3, \"15\": 3, \"1\": 8, \"4\": 4}, \"1\": {\"0\": 9, \"1\": 31, \"7\": 15, \"5\": 19, \"15\": 25, \"4\": 25, \"6\": 31, \"13\": 11, \"9\": 16, \"11\": 25, \"2\": 4, \"14\": 12, \"10\": 10, \"8\": 3, \"12\": 3, \"3\": 1}, \"12\": {\"11\": 22, \"2\": 38, \"14\": 52, \"9\": 44, \"12\": 54, \"0\": 7, \"1\": 14, \"7\": 1, \"15\": 2, \"4\": 1, \"13\": 1, \"10\": 2, \"6\": 1, \"5\": 1}, \"5\": {\"4\": 30, \"8\": 7, \"6\": 30, \"7\": 30, \"5\": 33, \"14\": 7, \"15\": 14, \"10\": 13, \"0\": 5, \"1\": 17, \"3\": 14, \"9\": 4, \"13\": 26, \"11\": 8, \"2\": 2}}, \"ORACLE.run132\": {\"8\": {\"3\": 28, \"2\": 12, \"8\": 33, \"5\": 43, \"13\": 26, \"14\": 10, \"7\": 21, \"4\": 22, \"0\": 19, \"15\": 13, \"11\": 10, \"9\": 3}, \"14\": {\"11\": 41, \"3\": 12, \"13\": 20, \"4\": 22, \"8\": 19, \"14\": 31, \"7\": 22, \"5\": 18, \"2\": 29, \"0\": 20, \"9\": 6}, \"2\": {\"8\": 10, \"4\": 39, \"2\": 37, \"13\": 15, \"11\": 25, \"7\": 26, \"5\": 19, \"14\": 21, \"0\": 27, \"12\": 4, \"3\": 4, \"9\": 13}, \"0\": {\"7\": 26, \"9\": 12, \"0\": 24, \"14\": 17, \"13\": 14, \"2\": 27, \"4\": 28, \"8\": 24, \"11\": 21, \"5\": 31, \"15\": 3, \"3\": 11, \"12\": 2}, \"1\": {\"6\": 21, \"1\": 132, \"10\": 75, \"12\": 12}, \"10\": {\"10\": 118, \"12\": 44, \"1\": 68, \"15\": 1, \"6\": 4, \"9\": 5}, \"11\": {\"14\": 39, \"0\": 16, \"8\": 11, \"2\": 28, \"3\": 19, \"7\": 31, \"5\": 13, \"11\": 42, \"13\": 17, \"4\": 22, \"9\": 1, \"15\": 1}, \"5\": {\"0\": 23, \"7\": 22, \"8\": 33, \"13\": 24, \"5\": 27, \"3\": 24, \"11\": 26, \"4\": 18, \"2\": 16, \"15\": 5, \"14\": 18, \"12\": 1, \"9\": 3}, \"15\": {\"15\": 111, \"3\": 43, \"8\": 28, \"4\": 6, \"13\": 29, \"11\": 4, \"5\": 8, \"0\": 4, \"2\": 2, \"7\": 2, \"9\": 1, \"14\": 2}, \"3\": {\"3\": 44, \"13\": 40, \"8\": 43, \"4\": 22, \"0\": 15, \"5\": 27, \"15\": 16, \"7\": 8, \"11\": 14, \"2\": 4, \"14\": 7}, \"12\": {\"12\": 91, \"10\": 45, \"1\": 15, \"9\": 59, \"8\": 2, \"6\": 19, \"5\": 1, \"4\": 3, \"0\": 4, \"7\": 1}, \"7\": {\"4\": 27, \"14\": 25, \"11\": 34, \"3\": 10, \"7\": 31, \"5\": 23, \"2\": 20, \"13\": 18, \"0\": 21, \"9\": 13, \"8\": 17, \"15\": 1}, \"13\": {\"7\": 22, \"3\": 29, \"8\": 39, \"4\": 30, \"13\": 32, \"5\": 31, \"14\": 13, \"0\": 11, \"9\": 3, \"2\": 16, \"11\": 5, \"15\": 9}, \"6\": {\"6\": 161, \"1\": 32, \"9\": 22, \"10\": 13, \"12\": 12}, \"4\": {\"14\": 22, \"7\": 27, \"4\": 33, \"3\": 12, \"13\": 20, \"5\": 24, \"2\": 26, \"0\": 20, \"8\": 25, \"11\": 23, \"12\": 1, \"15\": 2, \"9\": 5}, \"9\": {\"10\": 5, \"8\": 10, \"6\": 7, \"2\": 24, \"7\": 10, \"9\": 65, \"0\": 19, \"12\": 63, \"4\": 12, \"11\": 6, \"13\": 4, \"1\": 3, \"14\": 8, \"3\": 1, \"5\": 3}}, \"ORACLE.run126\": {\"4\": {\"10\": 26, \"1\": 28, \"4\": 20, \"3\": 18, \"8\": 18, \"14\": 29, \"2\": 13, \"15\": 8, \"9\": 11, \"7\": 21, \"12\": 5, \"0\": 23, \"5\": 7, \"6\": 11, \"13\": 2}, \"12\": {\"5\": 15, \"12\": 54, \"11\": 22, \"13\": 11, \"3\": 10, \"6\": 18, \"15\": 18, \"0\": 18, \"9\": 16, \"10\": 17, \"2\": 5, \"8\": 14, \"1\": 7, \"7\": 6, \"14\": 8, \"4\": 1}, \"10\": {\"5\": 7, \"4\": 21, \"13\": 8, \"10\": 19, \"3\": 15, \"14\": 23, \"15\": 15, \"7\": 27, \"2\": 9, \"1\": 22, \"9\": 9, \"0\": 23, \"6\": 10, \"12\": 11, \"8\": 21}, \"0\": {\"10\": 26, \"4\": 28, \"12\": 9, \"14\": 29, \"1\": 22, \"8\": 20, \"2\": 15, \"7\": 21, \"6\": 11, \"0\": 22, \"9\": 15, \"3\": 15, \"5\": 1, \"13\": 2, \"15\": 4}, \"13\": {\"13\": 49, \"7\": 13, \"6\": 13, \"2\": 21, \"12\": 8, \"10\": 6, \"9\": 26, \"3\": 15, \"11\": 25, \"15\": 22, \"5\": 20, \"1\": 3, \"8\": 11, \"14\": 5, \"4\": 1, \"0\": 2}, \"9\": {\"13\": 23, \"12\": 6, \"3\": 22, \"15\": 21, \"6\": 19, \"14\": 8, \"8\": 19, \"7\": 16, \"0\": 9, \"5\": 24, \"2\": 15, \"9\": 29, \"10\": 9, \"1\": 9, \"4\": 9, \"11\": 2}, \"3\": {\"8\": 17, \"1\": 15, \"2\": 24, \"4\": 19, \"10\": 21, \"9\": 17, \"15\": 19, \"6\": 16, \"5\": 14, \"3\": 20, \"7\": 19, \"14\": 15, \"12\": 3, \"13\": 8, \"0\": 13}, \"2\": {\"12\": 8, \"3\": 29, \"10\": 8, \"6\": 8, \"13\": 22, \"9\": 18, \"8\": 17, \"5\": 18, \"15\": 18, \"2\": 26, \"0\": 12, \"7\": 29, \"4\": 9, \"11\": 2, \"14\": 8, \"1\": 8}, \"5\": {\"8\": 11, \"9\": 23, \"3\": 23, \"6\": 11, \"5\": 25, \"4\": 9, \"2\": 33, \"13\": 31, \"11\": 6, \"0\": 10, \"12\": 11, \"10\": 8, \"7\": 9, \"1\": 4, \"15\": 19, \"14\": 7}, \"14\": {\"4\": 24, \"14\": 28, \"10\": 27, \"1\": 28, \"3\": 17, \"2\": 11, \"0\": 25, \"9\": 9, \"8\": 15, \"5\": 3, \"6\": 13, \"7\": 29, \"15\": 10, \"12\": 1}, \"8\": {\"4\": 18, \"12\": 18, \"10\": 14, \"1\": 15, \"5\": 8, \"8\": 18, \"9\": 17, \"0\": 16, \"15\": 18, \"6\": 19, \"3\": 15, \"2\": 20, \"7\": 19, \"14\": 18, \"13\": 7}, \"7\": {\"13\": 6, \"8\": 19, \"12\": 7, \"6\": 16, \"1\": 15, \"10\": 14, \"3\": 20, \"14\": 18, \"15\": 15, \"9\": 23, \"4\": 24, \"5\": 13, \"7\": 21, \"0\": 15, \"2\": 12, \"11\": 2}, \"6\": {\"12\": 19, \"5\": 10, \"6\": 18, \"7\": 19, \"3\": 18, \"4\": 14, \"9\": 11, \"0\": 17, \"15\": 27, \"14\": 10, \"13\": 12, \"8\": 26, \"10\": 11, \"2\": 12, \"1\": 12, \"11\": 4}, \"11\": {\"12\": 34, \"9\": 14, \"11\": 94, \"13\": 40, \"6\": 8, \"15\": 12, \"5\": 20, \"0\": 2, \"1\": 1, \"10\": 4, \"8\": 4, \"7\": 2, \"2\": 3, \"14\": 1, \"3\": 1}, \"15\": {\"9\": 24, \"5\": 21, \"13\": 23, \"14\": 9, \"1\": 11, \"15\": 17, \"10\": 16, \"8\": 22, \"0\": 12, \"6\": 13, \"11\": 3, \"7\": 14, \"2\": 18, \"4\": 9, \"12\": 9, \"3\": 19}, \"1\": {\"1\": 26, \"10\": 26, \"8\": 19, \"4\": 20, \"3\": 15, \"6\": 9, \"15\": 7, \"0\": 31, \"14\": 28, \"2\": 18, \"5\": 5, \"12\": 9, \"7\": 21, \"9\": 5, \"13\": 1}}, \"ORACLE.run144\": {\"12\": {\"12\": 43, \"10\": 39, \"7\": 14, \"3\": 47, \"1\": 40, \"9\": 14, \"2\": 23, \"13\": 4, \"4\": 2, \"11\": 4, \"6\": 6, \"14\": 4}, \"7\": {\"1\": 16, \"6\": 26, \"2\": 27, \"10\": 23, \"7\": 34, \"11\": 24, \"4\": 10, \"13\": 18, \"3\": 8, \"9\": 25, \"12\": 22, \"5\": 1, \"14\": 6}, \"5\": {\"4\": 32, \"5\": 53, \"8\": 21, \"0\": 36, \"14\": 48, \"11\": 4, \"15\": 33, \"6\": 2, \"13\": 5, \"9\": 4, \"3\": 1, \"10\": 1}, \"15\": {\"15\": 43, \"0\": 46, \"3\": 8, \"4\": 21, \"14\": 31, \"8\": 52, \"5\": 34, \"9\": 2, \"7\": 1, \"12\": 2}, \"8\": {\"0\": 65, \"15\": 58, \"8\": 74, \"14\": 13, \"5\": 20, \"4\": 7, \"3\": 2, \"1\": 1}, \"2\": {\"13\": 20, \"2\": 40, \"10\": 26, \"7\": 26, \"12\": 20, \"1\": 19, \"6\": 31, \"4\": 5, \"9\": 29, \"3\": 9, \"14\": 4, \"11\": 11}, \"13\": {\"13\": 48, \"7\": 20, \"6\": 36, \"2\": 22, \"9\": 37, \"11\": 27, \"4\": 17, \"10\": 8, \"12\": 4, \"1\": 8, \"3\": 4, \"5\": 2, \"14\": 6, \"15\": 1}, \"4\": {\"7\": 16, \"6\": 6, \"0\": 16, \"9\": 22, \"4\": 45, \"3\": 17, \"1\": 6, \"15\": 22, \"14\": 31, \"5\": 24, \"8\": 4, \"12\": 6, \"11\": 7, \"13\": 11, \"2\": 5, \"10\": 2}, \"0\": {\"8\": 64, \"0\": 74, \"15\": 44, \"5\": 26, \"4\": 10, \"14\": 19, \"7\": 1, \"12\": 1, \"3\": 1}, \"6\": {\"13\": 34, \"6\": 68, \"9\": 30, \"2\": 17, \"3\": 3, \"10\": 11, \"11\": 40, \"12\": 3, \"7\": 25, \"4\": 7, \"1\": 1, \"14\": 1}, \"9\": {\"9\": 18, \"1\": 23, \"12\": 15, \"7\": 31, \"13\": 26, \"2\": 36, \"6\": 20, \"4\": 13, \"10\": 18, \"11\": 18, \"3\": 8, \"5\": 3, \"14\": 8, \"15\": 3}, \"11\": {\"11\": 58, \"13\": 49, \"1\": 2, \"9\": 24, \"6\": 57, \"2\": 13, \"7\": 14, \"10\": 6, \"12\": 4, \"4\": 9, \"5\": 2, \"14\": 1, \"3\": 1}, \"10\": {\"3\": 20, \"4\": 2, \"10\": 28, \"9\": 29, \"6\": 11, \"13\": 10, \"12\": 38, \"7\": 26, \"11\": 7, \"2\": 39, \"1\": 29, \"14\": 1}, \"14\": {\"9\": 10, \"6\": 2, \"14\": 45, \"0\": 18, \"15\": 26, \"4\": 39, \"5\": 42, \"3\": 14, \"8\": 13, \"13\": 4, \"1\": 8, \"10\": 3, \"7\": 6, \"11\": 4, \"12\": 4, \"2\": 2}, \"1\": {\"3\": 36, \"12\": 49, \"2\": 28, \"9\": 26, \"7\": 18, \"10\": 29, \"1\": 36, \"14\": 8, \"13\": 6, \"4\": 1, \"6\": 2, \"15\": 1}, \"3\": {\"1\": 51, \"9\": 11, \"3\": 44, \"10\": 32, \"12\": 32, \"2\": 21, \"7\": 12, \"6\": 2, \"4\": 11, \"14\": 12, \"13\": 3, \"0\": 1, \"15\": 5, \"5\": 3}}}, \"per_domain_accuracy\": {\"Wisig_3\": {\"accuracy\": 0.96875, \"source?\": true}, \"Wisig_4\": {\"accuracy\": 0.9375, \"source?\": true}, \"Wisig_1\": {\"accuracy\": 0.97265625, \"source?\": true}, \"Wisig_2\": {\"accuracy\": 0.9537760416666666, \"source?\": true}, \"ORACLE.run114\": {\"accuracy\": 0.16927083333333334, \"source?\": false}, \"ORACLE.run120\": {\"accuracy\": 0.10208333333333333, \"source?\": false}, \"ORACLE.run138\": {\"accuracy\": 0.20546875, \"source?\": false}, \"ORACLE.run18\": {\"accuracy\": 0.16119791666666666, \"source?\": false}, \"ORACLE.run150\": {\"accuracy\": 0.19479166666666667, \"source?\": false}, \"ORACLE.run132\": {\"accuracy\": 0.2635416666666667, \"source?\": false}, \"ORACLE.run126\": {\"accuracy\": 0.1265625, \"source?\": false}, \"ORACLE.run144\": {\"accuracy\": 0.19557291666666668, \"source?\": false}}}, \"history\": {\"epoch_indices\": [1, 2, 3, 4, 5, 6, 7], \"train_label_loss\": [0.3914276389135483, 0.2161577652737133, 0.16786991647664531, 0.1327850395718186, 0.11274312721024113, 0.09384256216072204, 0.07502036975861734], \"source_val_label_loss\": [0.2724910080432892, 0.22522807121276855, 0.2014189213514328, 0.2111409306526184, 0.19858968257904053, 0.1846994161605835, 0.1959993839263916], \"target_val_label_loss\": [2.592885971069336, 2.5746850967407227, 2.532670736312866, 2.684431791305542, 2.8452861309051514, 2.9160268306732178, 2.795264482498169], \"source_val_acc_label\": [0.9352213541666666, 0.9514973958333334, 0.9581705729166666, 0.9562174479166666, 0.9601236979166666, 0.9641927083333334, 0.9619140625], \"target_val_acc_label\": [0.16611328125, 0.169921875, 0.17731119791666666, 0.15302734375, 0.1369140625, 0.14010416666666667, 0.13658854166666667]}, \"dataset_metrics\": {\"source\": {\"train\": {\"n_unique_x\": 36400, \"n_unique_y\": 130, \"n_batch/episode\": 1347}, \"val\": {\"n_unique_x\": 7800, \"n_unique_y\": 130, \"n_batch/episode\": 192}, \"test\": {\"n_unique_x\": 7800, \"n_unique_y\": 130, \"n_batch/episode\": 192}}, \"target\": {\"train\": {\"n_unique_x\": 179200, \"n_unique_y\": 16, \"n_batch/episode\": 6720}, \"val\": {\"n_unique_x\": 38400, \"n_unique_y\": 16, \"n_batch/episode\": 960}, \"test\": {\"n_unique_x\": 38400, \"n_unique_y\": 16, \"n_batch/episode\": 960}}}}'"
      ]
     },
     "execution_count": 29,
     "metadata": {},
     "output_type": "execute_result"
    }
   ],
   "source": [
    "json.dumps(experiment)"
   ]
  }
 ],
 "metadata": {
  "celltoolbar": "Tags",
  "kernelspec": {
   "display_name": "Python 3 (ipykernel)",
   "language": "python",
   "name": "python3"
  },
  "language_info": {
   "codemirror_mode": {
    "name": "ipython",
    "version": 3
   },
   "file_extension": ".py",
   "mimetype": "text/x-python",
   "name": "python",
   "nbconvert_exporter": "python",
   "pygments_lexer": "ipython3",
   "version": "3.8.10"
  },
  "papermill": {
   "default_parameters": {},
   "duration": 389.719961,
   "end_time": "2022-03-07T06:47:35.835611",
   "environment_variables": {},
   "exception": null,
   "input_path": "/mnt/wd500GB/CSC500/csc500-main/csc500-notebooks/templates/tl_ptn_template.ipynb",
   "output_path": "trial.ipynb",
   "parameters": {
    "parameters": {
     "BEST_MODEL_PATH": "./best_model.pth",
     "NUM_LOGS_PER_EPOCH": 10,
     "criteria_for_best": "target_loss",
     "dataset_seed": 1337,
     "datasets": [
      {
       "domain_prefix": "Wisig_",
       "domains": [
        1,
        2,
        3,
        4
       ],
       "episode_transforms": [],
       "labels": [
        "1-10",
        "1-12",
        "1-14",
        "1-16",
        "1-18",
        "1-19",
        "1-8",
        "10-11",
        "10-17",
        "10-4",
        "10-7",
        "11-1",
        "11-10",
        "11-19",
        "11-20",
        "11-4",
        "11-7",
        "12-19",
        "12-20",
        "12-7",
        "13-14",
        "13-18",
        "13-19",
        "13-20",
        "13-3",
        "13-7",
        "14-10",
        "14-11",
        "14-12",
        "14-13",
        "14-14",
        "14-19",
        "14-20",
        "14-7",
        "14-8",
        "14-9",
        "15-1",
        "15-19",
        "15-6",
        "16-1",
        "16-16",
        "16-19",
        "16-20",
        "17-10",
        "17-11",
        "18-1",
        "18-10",
        "18-11",
        "18-12",
        "18-13",
        "18-14",
        "18-15",
        "18-16",
        "18-17",
        "18-19",
        "18-2",
        "18-20",
        "18-4",
        "18-5",
        "18-7",
        "18-8",
        "18-9",
        "19-1",
        "19-10",
        "19-11",
        "19-12",
        "19-13",
        "19-14",
        "19-15",
        "19-19",
        "19-2",
        "19-20",
        "19-3",
        "19-4",
        "19-6",
        "19-7",
        "19-8",
        "19-9",
        "2-1",
        "2-13",
        "2-15",
        "2-3",
        "2-4",
        "2-5",
        "2-6",
        "2-7",
        "2-8",
        "20-1",
        "20-12",
        "20-14",
        "20-15",
        "20-16",
        "20-18",
        "20-19",
        "20-20",
        "20-3",
        "20-4",
        "20-5",
        "20-7",
        "20-8",
        "3-1",
        "3-13",
        "3-18",
        "3-2",
        "3-8",
        "4-1",
        "4-10",
        "4-11",
        "5-1",
        "5-5",
        "6-1",
        "6-15",
        "6-6",
        "7-10",
        "7-11",
        "7-12",
        "7-13",
        "7-14",
        "7-7",
        "7-8",
        "7-9",
        "8-1",
        "8-13",
        "8-14",
        "8-18",
        "8-20",
        "8-3",
        "8-8",
        "9-1",
        "9-7"
       ],
       "num_examples_per_domain_per_label": 100,
       "pickle_path": "/mnt/wd500GB/CSC500/csc500-main/datasets/wisig.node3-19.stratified_ds.2022A.pkl",
       "source_or_target_dataset": "source",
       "x_transforms": [
        "unit_power"
       ]
      },
      {
       "domain_prefix": "ORACLE.run1",
       "domains": [
        32,
        38,
        8,
        44,
        14,
        50,
        20,
        26
       ],
       "episode_transforms": [],
       "labels": [
        "3123D52",
        "3123D65",
        "3123D79",
        "3123D80",
        "3123D54",
        "3123D70",
        "3123D7B",
        "3123D89",
        "3123D58",
        "3123D76",
        "3123D7D",
        "3123EFE",
        "3123D64",
        "3123D78",
        "3123D7E",
        "3124E4A"
       ],
       "num_examples_per_domain_per_label": 2000,
       "pickle_path": "/mnt/wd500GB/CSC500/csc500-main/datasets/oracle.Run1_framed_2000Examples_stratified_ds.2022A.pkl",
       "source_or_target_dataset": "target",
       "x_transforms": [
        "unit_power"
       ]
      }
     ],
     "device": "cuda",
     "experiment_name": "tl_1_wisig-oracle.run1",
     "lr": 0.001,
     "n_epoch": 50,
     "n_query": 2,
     "n_shot": 3,
     "n_way": 16,
     "patience": 3,
     "seed": 1337,
     "test_k_factor": 2,
     "torch_default_dtype": "torch.float32",
     "train_k_factor": 3,
     "val_k_factor": 2,
     "x_net": [
      {
       "class": "nnReshape",
       "kargs": {
        "shape": [
         -1,
         1,
         2,
         256
        ]
       }
      },
      {
       "class": "Conv2d",
       "kargs": {
        "bias": false,
        "in_channels": 1,
        "kernel_size": [
         1,
         7
        ],
        "out_channels": 256,
        "padding": [
         0,
         3
        ]
       }
      },
      {
       "class": "ReLU",
       "kargs": {
        "inplace": true
       }
      },
      {
       "class": "BatchNorm2d",
       "kargs": {
        "num_features": 256
       }
      },
      {
       "class": "Conv2d",
       "kargs": {
        "bias": true,
        "in_channels": 256,
        "kernel_size": [
         2,
         7
        ],
        "out_channels": 80,
        "padding": [
         0,
         3
        ]
       }
      },
      {
       "class": "ReLU",
       "kargs": {
        "inplace": true
       }
      },
      {
       "class": "BatchNorm2d",
       "kargs": {
        "num_features": 80
       }
      },
      {
       "class": "Flatten",
       "kargs": {}
      },
      {
       "class": "Linear",
       "kargs": {
        "in_features": 20480,
        "out_features": 256
       }
      },
      {
       "class": "ReLU",
       "kargs": {
        "inplace": true
       }
      },
      {
       "class": "BatchNorm1d",
       "kargs": {
        "num_features": 256
       }
      },
      {
       "class": "Linear",
       "kargs": {
        "in_features": 256,
        "out_features": 256
       }
      }
     ]
    }
   },
   "start_time": "2022-03-07T06:41:06.115650",
   "version": "2.3.4"
  }
 },
 "nbformat": 4,
 "nbformat_minor": 5
}