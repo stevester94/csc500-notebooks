{
 "cells": [
  {
   "cell_type": "markdown",
   "id": "9fea5f46",
   "metadata": {
    "papermill": {
     "duration": 0.017403,
     "end_time": "2022-03-07T07:24:14.311308",
     "exception": false,
     "start_time": "2022-03-07T07:24:14.293905",
     "status": "completed"
    },
    "tags": []
   },
   "source": [
    "# Transfer Learning Template"
   ]
  },
  {
   "cell_type": "code",
   "execution_count": 1,
   "id": "0902182a",
   "metadata": {
    "execution": {
     "iopub.execute_input": "2022-03-07T07:24:14.351770Z",
     "iopub.status.busy": "2022-03-07T07:24:14.348465Z",
     "iopub.status.idle": "2022-03-07T07:24:15.132488Z",
     "shell.execute_reply": "2022-03-07T07:24:15.131928Z"
    },
    "papermill": {
     "duration": 0.80878,
     "end_time": "2022-03-07T07:24:15.132596",
     "exception": false,
     "start_time": "2022-03-07T07:24:14.323816",
     "status": "completed"
    },
    "tags": []
   },
   "outputs": [],
   "source": [
    "%load_ext autoreload\n",
    "%autoreload 2\n",
    "%matplotlib inline\n",
    "\n",
    "    \n",
    "import os, json, sys, time, random\n",
    "import numpy as np\n",
    "import torch\n",
    "from torch.optim import Adam\n",
    "from  easydict import EasyDict\n",
    "import matplotlib.pyplot as plt\n",
    "\n",
    "from steves_models.steves_ptn import Steves_Prototypical_Network\n",
    "\n",
    "from steves_utils.lazy_iterable_wrapper import Lazy_Iterable_Wrapper\n",
    "from steves_utils.iterable_aggregator import Iterable_Aggregator\n",
    "from steves_utils.ptn_train_eval_test_jig import  PTN_Train_Eval_Test_Jig\n",
    "from steves_utils.torch_sequential_builder import build_sequential\n",
    "from steves_utils.torch_utils import get_dataset_metrics, ptn_confusion_by_domain_over_dataloader\n",
    "from steves_utils.utils_v2 import (per_domain_accuracy_from_confusion, get_datasets_base_path)\n",
    "from steves_utils.PTN.utils import independent_accuracy_assesment\n",
    "\n",
    "from torch.utils.data import DataLoader\n",
    "\n",
    "from steves_utils.stratified_dataset.episodic_accessor import Episodic_Accessor_Factory\n",
    "\n",
    "from steves_utils.ptn_do_report import (\n",
    "    get_loss_curve,\n",
    "    get_results_table,\n",
    "    get_parameters_table,\n",
    "    get_domain_accuracies,\n",
    ")\n",
    "\n",
    "from steves_utils.transforms import get_chained_transform"
   ]
  },
  {
   "cell_type": "markdown",
   "id": "41c840b4",
   "metadata": {
    "papermill": {
     "duration": 0.012277,
     "end_time": "2022-03-07T07:24:15.163008",
     "exception": false,
     "start_time": "2022-03-07T07:24:15.150731",
     "status": "completed"
    },
    "tags": []
   },
   "source": [
    "# Allowed Parameters\n",
    "These are allowed parameters, not defaults\n",
    "Each of these values need to be present in the injected parameters (the notebook will raise an exception if they are not present)\n",
    "\n",
    "Papermill uses the cell tag \"parameters\" to inject the real parameters below this cell.\n",
    "Enable tags to see what I mean"
   ]
  },
  {
   "cell_type": "code",
   "execution_count": 2,
   "id": "fd44eb83",
   "metadata": {
    "execution": {
     "iopub.execute_input": "2022-03-07T07:24:15.191956Z",
     "iopub.status.busy": "2022-03-07T07:24:15.190503Z",
     "iopub.status.idle": "2022-03-07T07:24:15.204473Z",
     "shell.execute_reply": "2022-03-07T07:24:15.204098Z"
    },
    "papermill": {
     "duration": 0.027973,
     "end_time": "2022-03-07T07:24:15.204565",
     "exception": false,
     "start_time": "2022-03-07T07:24:15.176592",
     "status": "completed"
    },
    "tags": []
   },
   "outputs": [],
   "source": [
    "required_parameters = {\n",
    "    \"experiment_name\",\n",
    "    \"lr\",\n",
    "    \"device\",\n",
    "    \"seed\",\n",
    "    \"dataset_seed\",\n",
    "    \"n_shot\",\n",
    "    \"n_query\",\n",
    "    \"n_way\",\n",
    "    \"train_k_factor\",\n",
    "    \"val_k_factor\",\n",
    "    \"test_k_factor\",\n",
    "    \"n_epoch\",\n",
    "    \"patience\",\n",
    "    \"criteria_for_best\",\n",
    "    \"x_net\",\n",
    "    \"datasets\",\n",
    "    \"torch_default_dtype\",\n",
    "    \"NUM_LOGS_PER_EPOCH\",\n",
    "    \"BEST_MODEL_PATH\",\n",
    "}"
   ]
  },
  {
   "cell_type": "code",
   "execution_count": 3,
   "id": "fa3f0049",
   "metadata": {
    "execution": {
     "iopub.execute_input": "2022-03-07T07:24:15.243879Z",
     "iopub.status.busy": "2022-03-07T07:24:15.243174Z",
     "iopub.status.idle": "2022-03-07T07:24:15.257380Z",
     "shell.execute_reply": "2022-03-07T07:24:15.256990Z"
    },
    "papermill": {
     "duration": 0.035105,
     "end_time": "2022-03-07T07:24:15.257472",
     "exception": false,
     "start_time": "2022-03-07T07:24:15.222367",
     "status": "completed"
    },
    "tags": [
     "parameters"
    ]
   },
   "outputs": [],
   "source": [
    "from steves_utils.CORES.utils import (\n",
    "    ALL_NODES,\n",
    "    ALL_NODES_MINIMUM_1000_EXAMPLES,\n",
    "    ALL_DAYS\n",
    ")\n",
    "\n",
    "from steves_utils.ORACLE.utils_v2 import (\n",
    "    ALL_DISTANCES_FEET_NARROWED,\n",
    "    ALL_RUNS,\n",
    "    ALL_SERIAL_NUMBERS,\n",
    ")\n",
    "\n",
    "standalone_parameters = {}\n",
    "standalone_parameters[\"experiment_name\"] = \"STANDALONE PTN\"\n",
    "standalone_parameters[\"lr\"] = 0.001\n",
    "standalone_parameters[\"device\"] = \"cuda\"\n",
    "\n",
    "standalone_parameters[\"seed\"] = 1337\n",
    "standalone_parameters[\"dataset_seed\"] = 1337\n",
    "\n",
    "standalone_parameters[\"n_way\"] = 8\n",
    "standalone_parameters[\"n_shot\"] = 3\n",
    "standalone_parameters[\"n_query\"]  = 2\n",
    "standalone_parameters[\"train_k_factor\"] = 1\n",
    "standalone_parameters[\"val_k_factor\"] = 2\n",
    "standalone_parameters[\"test_k_factor\"] = 2\n",
    "\n",
    "\n",
    "standalone_parameters[\"n_epoch\"] = 50\n",
    "\n",
    "standalone_parameters[\"patience\"] = 10\n",
    "standalone_parameters[\"criteria_for_best\"] = \"source_loss\"\n",
    "\n",
    "standalone_parameters[\"datasets\"] = [\n",
    "    {\n",
    "        \"labels\": ALL_SERIAL_NUMBERS,\n",
    "        \"domains\": ALL_DISTANCES_FEET_NARROWED,\n",
    "        \"num_examples_per_domain_per_label\": 100,\n",
    "        \"pickle_path\": os.path.join(get_datasets_base_path(), \"oracle.Run1_framed_2000Examples_stratified_ds.2022A.pkl\"),\n",
    "        \"source_or_target_dataset\": \"source\",\n",
    "        \"x_transforms\": [\"unit_mag\", \"minus_two\"],\n",
    "        \"episode_transforms\": [],\n",
    "        \"domain_prefix\": \"ORACLE_\"\n",
    "    },\n",
    "    {\n",
    "        \"labels\": ALL_NODES,\n",
    "        \"domains\": ALL_DAYS,\n",
    "        \"num_examples_per_domain_per_label\": 100,\n",
    "        \"pickle_path\": os.path.join(get_datasets_base_path(), \"cores.stratified_ds.2022A.pkl\"),\n",
    "        \"source_or_target_dataset\": \"target\",\n",
    "        \"x_transforms\": [\"unit_power\", \"times_zero\"],\n",
    "        \"episode_transforms\": [],\n",
    "        \"domain_prefix\": \"CORES_\"\n",
    "    }   \n",
    "]\n",
    "\n",
    "standalone_parameters[\"torch_default_dtype\"] = \"torch.float32\" \n",
    "\n",
    "\n",
    "\n",
    "standalone_parameters[\"x_net\"] =     [\n",
    "    {\"class\": \"nnReshape\", \"kargs\": {\"shape\":[-1, 1, 2, 256]}},\n",
    "    {\"class\": \"Conv2d\", \"kargs\": { \"in_channels\":1, \"out_channels\":256, \"kernel_size\":(1,7), \"bias\":False, \"padding\":(0,3), },},\n",
    "    {\"class\": \"ReLU\", \"kargs\": {\"inplace\": True}},\n",
    "    {\"class\": \"BatchNorm2d\", \"kargs\": {\"num_features\":256}},\n",
    "\n",
    "    {\"class\": \"Conv2d\", \"kargs\": { \"in_channels\":256, \"out_channels\":80, \"kernel_size\":(2,7), \"bias\":True, \"padding\":(0,3), },},\n",
    "    {\"class\": \"ReLU\", \"kargs\": {\"inplace\": True}},\n",
    "    {\"class\": \"BatchNorm2d\", \"kargs\": {\"num_features\":80}},\n",
    "    {\"class\": \"Flatten\", \"kargs\": {}},\n",
    "\n",
    "    {\"class\": \"Linear\", \"kargs\": {\"in_features\": 80*256, \"out_features\": 256}}, # 80 units per IQ pair\n",
    "    {\"class\": \"ReLU\", \"kargs\": {\"inplace\": True}},\n",
    "    {\"class\": \"BatchNorm1d\", \"kargs\": {\"num_features\":256}},\n",
    "\n",
    "    {\"class\": \"Linear\", \"kargs\": {\"in_features\": 256, \"out_features\": 256}},\n",
    "]\n",
    "\n",
    "# Parameters relevant to results\n",
    "# These parameters will basically never need to change\n",
    "standalone_parameters[\"NUM_LOGS_PER_EPOCH\"] = 10\n",
    "standalone_parameters[\"BEST_MODEL_PATH\"] = \"./best_model.pth\"\n",
    "\n",
    "\n",
    "\n",
    "\n"
   ]
  },
  {
   "cell_type": "code",
   "execution_count": 4,
   "id": "83b77441",
   "metadata": {
    "execution": {
     "iopub.execute_input": "2022-03-07T07:24:15.300193Z",
     "iopub.status.busy": "2022-03-07T07:24:15.299645Z",
     "iopub.status.idle": "2022-03-07T07:24:15.310947Z",
     "shell.execute_reply": "2022-03-07T07:24:15.310492Z"
    },
    "papermill": {
     "duration": 0.036883,
     "end_time": "2022-03-07T07:24:15.311037",
     "exception": false,
     "start_time": "2022-03-07T07:24:15.274154",
     "status": "completed"
    },
    "tags": [
     "injected-parameters"
    ]
   },
   "outputs": [],
   "source": [
    "# Parameters\n",
    "parameters = {\n",
    "    \"experiment_name\": \"tl_1_wisig-oracle.run1\",\n",
    "    \"device\": \"cuda\",\n",
    "    \"lr\": 0.001,\n",
    "    \"seed\": 1337,\n",
    "    \"dataset_seed\": 1337,\n",
    "    \"n_shot\": 3,\n",
    "    \"n_query\": 2,\n",
    "    \"train_k_factor\": 3,\n",
    "    \"val_k_factor\": 2,\n",
    "    \"test_k_factor\": 2,\n",
    "    \"torch_default_dtype\": \"torch.float32\",\n",
    "    \"n_epoch\": 50,\n",
    "    \"patience\": 3,\n",
    "    \"criteria_for_best\": \"target_loss\",\n",
    "    \"x_net\": [\n",
    "        {\"class\": \"nnReshape\", \"kargs\": {\"shape\": [-1, 1, 2, 256]}},\n",
    "        {\n",
    "            \"class\": \"Conv2d\",\n",
    "            \"kargs\": {\n",
    "                \"in_channels\": 1,\n",
    "                \"out_channels\": 256,\n",
    "                \"kernel_size\": [1, 7],\n",
    "                \"bias\": False,\n",
    "                \"padding\": [0, 3],\n",
    "            },\n",
    "        },\n",
    "        {\"class\": \"ReLU\", \"kargs\": {\"inplace\": True}},\n",
    "        {\"class\": \"BatchNorm2d\", \"kargs\": {\"num_features\": 256}},\n",
    "        {\n",
    "            \"class\": \"Conv2d\",\n",
    "            \"kargs\": {\n",
    "                \"in_channels\": 256,\n",
    "                \"out_channels\": 80,\n",
    "                \"kernel_size\": [2, 7],\n",
    "                \"bias\": True,\n",
    "                \"padding\": [0, 3],\n",
    "            },\n",
    "        },\n",
    "        {\"class\": \"ReLU\", \"kargs\": {\"inplace\": True}},\n",
    "        {\"class\": \"BatchNorm2d\", \"kargs\": {\"num_features\": 80}},\n",
    "        {\"class\": \"Flatten\", \"kargs\": {}},\n",
    "        {\"class\": \"Linear\", \"kargs\": {\"in_features\": 20480, \"out_features\": 256}},\n",
    "        {\"class\": \"ReLU\", \"kargs\": {\"inplace\": True}},\n",
    "        {\"class\": \"BatchNorm1d\", \"kargs\": {\"num_features\": 256}},\n",
    "        {\"class\": \"Linear\", \"kargs\": {\"in_features\": 256, \"out_features\": 256}},\n",
    "    ],\n",
    "    \"NUM_LOGS_PER_EPOCH\": 10,\n",
    "    \"BEST_MODEL_PATH\": \"./best_model.pth\",\n",
    "    \"n_way\": 16,\n",
    "    \"datasets\": [\n",
    "        {\n",
    "            \"labels\": [\n",
    "                \"1-10\",\n",
    "                \"1-12\",\n",
    "                \"1-14\",\n",
    "                \"1-16\",\n",
    "                \"1-18\",\n",
    "                \"1-19\",\n",
    "                \"1-8\",\n",
    "                \"10-11\",\n",
    "                \"10-17\",\n",
    "                \"10-4\",\n",
    "                \"10-7\",\n",
    "                \"11-1\",\n",
    "                \"11-10\",\n",
    "                \"11-19\",\n",
    "                \"11-20\",\n",
    "                \"11-4\",\n",
    "                \"11-7\",\n",
    "                \"12-19\",\n",
    "                \"12-20\",\n",
    "                \"12-7\",\n",
    "                \"13-14\",\n",
    "                \"13-18\",\n",
    "                \"13-19\",\n",
    "                \"13-20\",\n",
    "                \"13-3\",\n",
    "                \"13-7\",\n",
    "                \"14-10\",\n",
    "                \"14-11\",\n",
    "                \"14-12\",\n",
    "                \"14-13\",\n",
    "                \"14-14\",\n",
    "                \"14-19\",\n",
    "                \"14-20\",\n",
    "                \"14-7\",\n",
    "                \"14-8\",\n",
    "                \"14-9\",\n",
    "                \"15-1\",\n",
    "                \"15-19\",\n",
    "                \"15-6\",\n",
    "                \"16-1\",\n",
    "                \"16-16\",\n",
    "                \"16-19\",\n",
    "                \"16-20\",\n",
    "                \"17-10\",\n",
    "                \"17-11\",\n",
    "                \"18-1\",\n",
    "                \"18-10\",\n",
    "                \"18-11\",\n",
    "                \"18-12\",\n",
    "                \"18-13\",\n",
    "                \"18-14\",\n",
    "                \"18-15\",\n",
    "                \"18-16\",\n",
    "                \"18-17\",\n",
    "                \"18-19\",\n",
    "                \"18-2\",\n",
    "                \"18-20\",\n",
    "                \"18-4\",\n",
    "                \"18-5\",\n",
    "                \"18-7\",\n",
    "                \"18-8\",\n",
    "                \"18-9\",\n",
    "                \"19-1\",\n",
    "                \"19-10\",\n",
    "                \"19-11\",\n",
    "                \"19-12\",\n",
    "                \"19-13\",\n",
    "                \"19-14\",\n",
    "                \"19-15\",\n",
    "                \"19-19\",\n",
    "                \"19-2\",\n",
    "                \"19-20\",\n",
    "                \"19-3\",\n",
    "                \"19-4\",\n",
    "                \"19-6\",\n",
    "                \"19-7\",\n",
    "                \"19-8\",\n",
    "                \"19-9\",\n",
    "                \"2-1\",\n",
    "                \"2-13\",\n",
    "                \"2-15\",\n",
    "                \"2-3\",\n",
    "                \"2-4\",\n",
    "                \"2-5\",\n",
    "                \"2-6\",\n",
    "                \"2-7\",\n",
    "                \"2-8\",\n",
    "                \"20-1\",\n",
    "                \"20-12\",\n",
    "                \"20-14\",\n",
    "                \"20-15\",\n",
    "                \"20-16\",\n",
    "                \"20-18\",\n",
    "                \"20-19\",\n",
    "                \"20-20\",\n",
    "                \"20-3\",\n",
    "                \"20-4\",\n",
    "                \"20-5\",\n",
    "                \"20-7\",\n",
    "                \"20-8\",\n",
    "                \"3-1\",\n",
    "                \"3-13\",\n",
    "                \"3-18\",\n",
    "                \"3-2\",\n",
    "                \"3-8\",\n",
    "                \"4-1\",\n",
    "                \"4-10\",\n",
    "                \"4-11\",\n",
    "                \"5-1\",\n",
    "                \"5-5\",\n",
    "                \"6-1\",\n",
    "                \"6-15\",\n",
    "                \"6-6\",\n",
    "                \"7-10\",\n",
    "                \"7-11\",\n",
    "                \"7-12\",\n",
    "                \"7-13\",\n",
    "                \"7-14\",\n",
    "                \"7-7\",\n",
    "                \"7-8\",\n",
    "                \"7-9\",\n",
    "                \"8-1\",\n",
    "                \"8-13\",\n",
    "                \"8-14\",\n",
    "                \"8-18\",\n",
    "                \"8-20\",\n",
    "                \"8-3\",\n",
    "                \"8-8\",\n",
    "                \"9-1\",\n",
    "                \"9-7\",\n",
    "            ],\n",
    "            \"domains\": [1, 2, 3, 4],\n",
    "            \"num_examples_per_domain_per_label\": 100,\n",
    "            \"pickle_path\": \"/mnt/wd500GB/CSC500/csc500-main/datasets/wisig.node3-19.stratified_ds.2022A.pkl\",\n",
    "            \"source_or_target_dataset\": \"target\",\n",
    "            \"x_transforms\": [\"unit_mag\"],\n",
    "            \"episode_transforms\": [],\n",
    "            \"domain_prefix\": \"Wisig_\",\n",
    "        },\n",
    "        {\n",
    "            \"labels\": [\n",
    "                \"3123D52\",\n",
    "                \"3123D65\",\n",
    "                \"3123D79\",\n",
    "                \"3123D80\",\n",
    "                \"3123D54\",\n",
    "                \"3123D70\",\n",
    "                \"3123D7B\",\n",
    "                \"3123D89\",\n",
    "                \"3123D58\",\n",
    "                \"3123D76\",\n",
    "                \"3123D7D\",\n",
    "                \"3123EFE\",\n",
    "                \"3123D64\",\n",
    "                \"3123D78\",\n",
    "                \"3123D7E\",\n",
    "                \"3124E4A\",\n",
    "            ],\n",
    "            \"domains\": [32, 38, 8, 44, 14, 50, 20, 26],\n",
    "            \"num_examples_per_domain_per_label\": 2000,\n",
    "            \"pickle_path\": \"/mnt/wd500GB/CSC500/csc500-main/datasets/oracle.Run1_framed_2000Examples_stratified_ds.2022A.pkl\",\n",
    "            \"source_or_target_dataset\": \"source\",\n",
    "            \"x_transforms\": [\"unit_mag\"],\n",
    "            \"episode_transforms\": [],\n",
    "            \"domain_prefix\": \"ORACLE.run1\",\n",
    "        },\n",
    "    ],\n",
    "}\n"
   ]
  },
  {
   "cell_type": "code",
   "execution_count": 5,
   "id": "8fa1cc33",
   "metadata": {
    "execution": {
     "iopub.execute_input": "2022-03-07T07:24:15.352498Z",
     "iopub.status.busy": "2022-03-07T07:24:15.346014Z",
     "iopub.status.idle": "2022-03-07T07:24:15.358086Z",
     "shell.execute_reply": "2022-03-07T07:24:15.358459Z"
    },
    "papermill": {
     "duration": 0.029115,
     "end_time": "2022-03-07T07:24:15.358571",
     "exception": false,
     "start_time": "2022-03-07T07:24:15.329456",
     "status": "completed"
    },
    "tags": []
   },
   "outputs": [],
   "source": [
    "# Set this to True if you want to run this template directly\n",
    "STANDALONE = False\n",
    "if STANDALONE:\n",
    "    print(\"parameters not injected, running with standalone_parameters\")\n",
    "    parameters = standalone_parameters\n",
    "\n",
    "if not 'parameters' in locals() and not 'parameters' in globals():\n",
    "    raise Exception(\"Parameter injection failed\")\n",
    "\n",
    "#Use an easy dict for all the parameters\n",
    "p = EasyDict(parameters)\n",
    "\n",
    "supplied_keys = set(p.keys())\n",
    "\n",
    "if  supplied_keys != required_parameters:\n",
    "    print(\"Parameters are incorrect\")\n",
    "    if len(supplied_keys - required_parameters)>0: print(\"Shouldn't have:\", str(supplied_keys - required_parameters))\n",
    "    if len(required_parameters - supplied_keys)>0: print(\"Need to have:\", str(required_parameters - supplied_keys))\n",
    "    raise RuntimeError(\"Parameters are incorrect\")\n",
    "\n"
   ]
  },
  {
   "cell_type": "code",
   "execution_count": 6,
   "id": "3a028d58",
   "metadata": {
    "execution": {
     "iopub.execute_input": "2022-03-07T07:24:15.390811Z",
     "iopub.status.busy": "2022-03-07T07:24:15.390449Z",
     "iopub.status.idle": "2022-03-07T07:24:15.402381Z",
     "shell.execute_reply": "2022-03-07T07:24:15.401932Z"
    },
    "papermill": {
     "duration": 0.026771,
     "end_time": "2022-03-07T07:24:15.402470",
     "exception": false,
     "start_time": "2022-03-07T07:24:15.375699",
     "status": "completed"
    },
    "tags": []
   },
   "outputs": [],
   "source": [
    "###################################\n",
    "# Set the RNGs and make it all deterministic\n",
    "###################################\n",
    "np.random.seed(p.seed)\n",
    "random.seed(p.seed)\n",
    "torch.manual_seed(p.seed)\n",
    "\n",
    "torch.use_deterministic_algorithms(True) "
   ]
  },
  {
   "cell_type": "code",
   "execution_count": 7,
   "id": "b691acf6",
   "metadata": {
    "execution": {
     "iopub.execute_input": "2022-03-07T07:24:15.434030Z",
     "iopub.status.busy": "2022-03-07T07:24:15.433241Z",
     "iopub.status.idle": "2022-03-07T07:24:15.445365Z",
     "shell.execute_reply": "2022-03-07T07:24:15.445017Z"
    },
    "papermill": {
     "duration": 0.026063,
     "end_time": "2022-03-07T07:24:15.445434",
     "exception": false,
     "start_time": "2022-03-07T07:24:15.419371",
     "status": "completed"
    },
    "tags": []
   },
   "outputs": [],
   "source": [
    "###########################################\n",
    "# The stratified datasets honor this\n",
    "###########################################\n",
    "torch.set_default_dtype(eval(p.torch_default_dtype))"
   ]
  },
  {
   "cell_type": "code",
   "execution_count": 8,
   "id": "b5fba671",
   "metadata": {
    "execution": {
     "iopub.execute_input": "2022-03-07T07:24:15.485664Z",
     "iopub.status.busy": "2022-03-07T07:24:15.477453Z",
     "iopub.status.idle": "2022-03-07T07:24:15.520432Z",
     "shell.execute_reply": "2022-03-07T07:24:15.520028Z"
    },
    "papermill": {
     "duration": 0.057767,
     "end_time": "2022-03-07T07:24:15.520519",
     "exception": false,
     "start_time": "2022-03-07T07:24:15.462752",
     "status": "completed"
    },
    "tags": []
   },
   "outputs": [],
   "source": [
    "###################################\n",
    "# Build the network(s)\n",
    "# Note: It's critical to do this AFTER setting the RNG\n",
    "###################################\n",
    "x_net = build_sequential(p.x_net)"
   ]
  },
  {
   "cell_type": "code",
   "execution_count": 9,
   "id": "5d7e61cc",
   "metadata": {
    "execution": {
     "iopub.execute_input": "2022-03-07T07:24:15.555411Z",
     "iopub.status.busy": "2022-03-07T07:24:15.555167Z",
     "iopub.status.idle": "2022-03-07T07:24:15.564153Z",
     "shell.execute_reply": "2022-03-07T07:24:15.563905Z"
    },
    "papermill": {
     "duration": 0.02394,
     "end_time": "2022-03-07T07:24:15.564203",
     "exception": false,
     "start_time": "2022-03-07T07:24:15.540263",
     "status": "completed"
    },
    "tags": []
   },
   "outputs": [],
   "source": [
    "start_time_secs = time.time()"
   ]
  },
  {
   "cell_type": "code",
   "execution_count": 10,
   "id": "c6b67dfd",
   "metadata": {
    "execution": {
     "iopub.execute_input": "2022-03-07T07:24:15.596934Z",
     "iopub.status.busy": "2022-03-07T07:24:15.595834Z",
     "iopub.status.idle": "2022-03-07T07:24:15.603060Z",
     "shell.execute_reply": "2022-03-07T07:24:15.603269Z"
    },
    "papermill": {
     "duration": 0.023684,
     "end_time": "2022-03-07T07:24:15.603334",
     "exception": false,
     "start_time": "2022-03-07T07:24:15.579650",
     "status": "completed"
    },
    "tags": []
   },
   "outputs": [],
   "source": [
    "p.domains_source = []\n",
    "p.domains_target = []\n",
    "\n",
    "\n",
    "train_original_source = []\n",
    "val_original_source   = []\n",
    "test_original_source  = []\n",
    "\n",
    "train_original_target = []\n",
    "val_original_target   = []\n",
    "test_original_target  = []"
   ]
  },
  {
   "cell_type": "code",
   "execution_count": 11,
   "id": "e3d9c3d3",
   "metadata": {
    "execution": {
     "iopub.execute_input": "2022-03-07T07:24:15.635105Z",
     "iopub.status.busy": "2022-03-07T07:24:15.634855Z",
     "iopub.status.idle": "2022-03-07T07:24:15.643408Z",
     "shell.execute_reply": "2022-03-07T07:24:15.643097Z"
    },
    "papermill": {
     "duration": 0.023277,
     "end_time": "2022-03-07T07:24:15.643480",
     "exception": false,
     "start_time": "2022-03-07T07:24:15.620203",
     "status": "completed"
    },
    "tags": []
   },
   "outputs": [],
   "source": [
    "# global_x_transform_func = lambda x: normalize(x.to(torch.get_default_dtype()), \"unit_power\") # unit_power, unit_mag\n",
    "# global_x_transform_func = lambda x: normalize(x, \"unit_power\") # unit_power, unit_mag"
   ]
  },
  {
   "cell_type": "code",
   "execution_count": 12,
   "id": "acb78fd2",
   "metadata": {
    "execution": {
     "iopub.execute_input": "2022-03-07T07:24:15.680061Z",
     "iopub.status.busy": "2022-03-07T07:24:15.679803Z",
     "iopub.status.idle": "2022-03-07T07:24:15.688446Z",
     "shell.execute_reply": "2022-03-07T07:24:15.688196Z"
    },
    "papermill": {
     "duration": 0.026625,
     "end_time": "2022-03-07T07:24:15.688495",
     "exception": false,
     "start_time": "2022-03-07T07:24:15.661870",
     "status": "completed"
    },
    "tags": []
   },
   "outputs": [],
   "source": [
    "def add_dataset(\n",
    "    labels,\n",
    "    domains,\n",
    "    pickle_path,\n",
    "    x_transforms,\n",
    "    episode_transforms,\n",
    "    domain_prefix,\n",
    "    num_examples_per_domain_per_label,\n",
    "    source_or_target_dataset:str,\n",
    "    iterator_seed=p.seed,\n",
    "    dataset_seed=p.dataset_seed,\n",
    "    n_shot=p.n_shot,\n",
    "    n_way=p.n_way,\n",
    "    n_query=p.n_query,\n",
    "    train_val_test_k_factors=(p.train_k_factor,p.val_k_factor,p.test_k_factor),\n",
    "):\n",
    "   \n",
    "    if x_transforms == []: x_transform = None\n",
    "    else: x_transform = get_chained_transform(x_transforms)\n",
    "    \n",
    "    if episode_transforms == []: episode_transform = None\n",
    "    else: raise Exception(\"episode_transforms not implemented\")\n",
    "    \n",
    "    episode_transform = lambda tup, _prefix=domain_prefix: (_prefix + str(tup[0]), tup[1])\n",
    "\n",
    "\n",
    "    eaf = Episodic_Accessor_Factory(\n",
    "        labels=labels,\n",
    "        domains=domains,\n",
    "        num_examples_per_domain_per_label=num_examples_per_domain_per_label,\n",
    "        iterator_seed=iterator_seed,\n",
    "        dataset_seed=dataset_seed,\n",
    "        n_shot=n_shot,\n",
    "        n_way=n_way,\n",
    "        n_query=n_query,\n",
    "        train_val_test_k_factors=train_val_test_k_factors,\n",
    "        pickle_path=pickle_path,\n",
    "        x_transform_func=x_transform,\n",
    "    )\n",
    "\n",
    "    train, val, test = eaf.get_train(), eaf.get_val(), eaf.get_test()\n",
    "    train = Lazy_Iterable_Wrapper(train, episode_transform)\n",
    "    val = Lazy_Iterable_Wrapper(val, episode_transform)\n",
    "    test = Lazy_Iterable_Wrapper(test, episode_transform)\n",
    "\n",
    "    if source_or_target_dataset==\"source\":\n",
    "        train_original_source.append(train)\n",
    "        val_original_source.append(val)\n",
    "        test_original_source.append(test)\n",
    "\n",
    "        p.domains_source.extend(\n",
    "            [domain_prefix + str(u) for u in domains]\n",
    "        )\n",
    "    elif source_or_target_dataset==\"target\":\n",
    "        train_original_target.append(train)\n",
    "        val_original_target.append(val)\n",
    "        test_original_target.append(test)\n",
    "        p.domains_target.extend(\n",
    "            [domain_prefix + str(u) for u in domains]\n",
    "        )\n",
    "    else:\n",
    "        raise Exception(f\"invalid source_or_target_dataset: {source_or_target_dataset}\")\n",
    "    "
   ]
  },
  {
   "cell_type": "code",
   "execution_count": 13,
   "id": "fe266617",
   "metadata": {
    "execution": {
     "iopub.execute_input": "2022-03-07T07:24:15.719084Z",
     "iopub.status.busy": "2022-03-07T07:24:15.718837Z",
     "iopub.status.idle": "2022-03-07T07:24:34.610178Z",
     "shell.execute_reply": "2022-03-07T07:24:34.609693Z"
    },
    "papermill": {
     "duration": 18.906138,
     "end_time": "2022-03-07T07:24:34.610283",
     "exception": false,
     "start_time": "2022-03-07T07:24:15.704145",
     "status": "completed"
    },
    "tags": []
   },
   "outputs": [],
   "source": [
    "for ds in p.datasets:\n",
    "    add_dataset(**ds)"
   ]
  },
  {
   "cell_type": "code",
   "execution_count": 14,
   "id": "b90d65ac",
   "metadata": {
    "execution": {
     "iopub.execute_input": "2022-03-07T07:24:34.645878Z",
     "iopub.status.busy": "2022-03-07T07:24:34.645615Z",
     "iopub.status.idle": "2022-03-07T07:24:34.658916Z",
     "shell.execute_reply": "2022-03-07T07:24:34.658543Z"
    },
    "papermill": {
     "duration": 0.029318,
     "end_time": "2022-03-07T07:24:34.658989",
     "exception": false,
     "start_time": "2022-03-07T07:24:34.629671",
     "status": "completed"
    },
    "tags": []
   },
   "outputs": [],
   "source": [
    "# from steves_utils.CORES.utils import (\n",
    "#     ALL_NODES,\n",
    "#     ALL_NODES_MINIMUM_1000_EXAMPLES,\n",
    "#     ALL_DAYS\n",
    "# )\n",
    "\n",
    "# add_dataset(\n",
    "#     labels=ALL_NODES,\n",
    "#     domains = ALL_DAYS,\n",
    "#     num_examples_per_domain_per_label=100,\n",
    "#     pickle_path=os.path.join(get_datasets_base_path(), \"cores.stratified_ds.2022A.pkl\"),\n",
    "#     source_or_target_dataset=\"target\",\n",
    "#     x_transform_func=global_x_transform_func,\n",
    "#     domain_modifier=lambda u: f\"cores_{u}\"\n",
    "# )"
   ]
  },
  {
   "cell_type": "code",
   "execution_count": 15,
   "id": "76db484d",
   "metadata": {
    "execution": {
     "iopub.execute_input": "2022-03-07T07:24:34.693840Z",
     "iopub.status.busy": "2022-03-07T07:24:34.693588Z",
     "iopub.status.idle": "2022-03-07T07:24:34.706969Z",
     "shell.execute_reply": "2022-03-07T07:24:34.706587Z"
    },
    "papermill": {
     "duration": 0.029312,
     "end_time": "2022-03-07T07:24:34.707040",
     "exception": false,
     "start_time": "2022-03-07T07:24:34.677728",
     "status": "completed"
    },
    "tags": []
   },
   "outputs": [],
   "source": [
    "# from steves_utils.ORACLE.utils_v2 import (\n",
    "#     ALL_DISTANCES_FEET,\n",
    "#     ALL_RUNS,\n",
    "#     ALL_SERIAL_NUMBERS,\n",
    "# )\n",
    "\n",
    "\n",
    "# add_dataset(\n",
    "#     labels=ALL_SERIAL_NUMBERS,\n",
    "#     domains = list(set(ALL_DISTANCES_FEET) - {2,62}),\n",
    "#     num_examples_per_domain_per_label=100,\n",
    "#     pickle_path=os.path.join(get_datasets_base_path(), \"oracle.Run2_framed_2000Examples_stratified_ds.2022A.pkl\"),\n",
    "#     source_or_target_dataset=\"source\",\n",
    "#     x_transform_func=global_x_transform_func,\n",
    "#     domain_modifier=lambda u: f\"oracle1_{u}\"\n",
    "# )\n"
   ]
  },
  {
   "cell_type": "code",
   "execution_count": 16,
   "id": "97dea9d2",
   "metadata": {
    "execution": {
     "iopub.execute_input": "2022-03-07T07:24:34.739438Z",
     "iopub.status.busy": "2022-03-07T07:24:34.739189Z",
     "iopub.status.idle": "2022-03-07T07:24:34.749943Z",
     "shell.execute_reply": "2022-03-07T07:24:34.749500Z"
    },
    "papermill": {
     "duration": 0.02599,
     "end_time": "2022-03-07T07:24:34.750031",
     "exception": false,
     "start_time": "2022-03-07T07:24:34.724041",
     "status": "completed"
    },
    "tags": []
   },
   "outputs": [],
   "source": [
    "# from steves_utils.ORACLE.utils_v2 import (\n",
    "#     ALL_DISTANCES_FEET,\n",
    "#     ALL_RUNS,\n",
    "#     ALL_SERIAL_NUMBERS,\n",
    "# )\n",
    "\n",
    "\n",
    "# add_dataset(\n",
    "#     labels=ALL_SERIAL_NUMBERS,\n",
    "#     domains = list(set(ALL_DISTANCES_FEET) - {2,62,56}),\n",
    "#     num_examples_per_domain_per_label=100,\n",
    "#     pickle_path=os.path.join(get_datasets_base_path(), \"oracle.Run2_framed_2000Examples_stratified_ds.2022A.pkl\"),\n",
    "#     source_or_target_dataset=\"source\",\n",
    "#     x_transform_func=global_x_transform_func,\n",
    "#     domain_modifier=lambda u: f\"oracle2_{u}\"\n",
    "# )"
   ]
  },
  {
   "cell_type": "code",
   "execution_count": 17,
   "id": "6f289866",
   "metadata": {
    "execution": {
     "iopub.execute_input": "2022-03-07T07:24:34.784716Z",
     "iopub.status.busy": "2022-03-07T07:24:34.783949Z",
     "iopub.status.idle": "2022-03-07T07:24:34.794730Z",
     "shell.execute_reply": "2022-03-07T07:24:34.794204Z"
    },
    "papermill": {
     "duration": 0.02723,
     "end_time": "2022-03-07T07:24:34.794832",
     "exception": false,
     "start_time": "2022-03-07T07:24:34.767602",
     "status": "completed"
    },
    "tags": []
   },
   "outputs": [],
   "source": [
    "# add_dataset(\n",
    "#     labels=list(range(19)),\n",
    "#     domains = [0,1,2],\n",
    "#     num_examples_per_domain_per_label=100,\n",
    "#     pickle_path=os.path.join(get_datasets_base_path(), \"metehan.stratified_ds.2022A.pkl\"),\n",
    "#     source_or_target_dataset=\"target\",\n",
    "#     x_transform_func=global_x_transform_func,\n",
    "#     domain_modifier=lambda u: f\"met_{u}\"\n",
    "# )"
   ]
  },
  {
   "cell_type": "code",
   "execution_count": 18,
   "id": "86a863c3",
   "metadata": {
    "execution": {
     "iopub.execute_input": "2022-03-07T07:24:34.828186Z",
     "iopub.status.busy": "2022-03-07T07:24:34.827839Z",
     "iopub.status.idle": "2022-03-07T07:24:34.838828Z",
     "shell.execute_reply": "2022-03-07T07:24:34.838366Z"
    },
    "papermill": {
     "duration": 0.026201,
     "end_time": "2022-03-07T07:24:34.838919",
     "exception": false,
     "start_time": "2022-03-07T07:24:34.812718",
     "status": "completed"
    },
    "tags": []
   },
   "outputs": [],
   "source": [
    "# # from steves_utils.wisig.utils import (\n",
    "# #     ALL_NODES_MINIMUM_100_EXAMPLES,\n",
    "# #     ALL_NODES_MINIMUM_500_EXAMPLES,\n",
    "# #     ALL_NODES_MINIMUM_1000_EXAMPLES,\n",
    "# #     ALL_DAYS\n",
    "# # )\n",
    "\n",
    "# import steves_utils.wisig.utils as wisig\n",
    "\n",
    "\n",
    "# add_dataset(\n",
    "#     labels=wisig.ALL_NODES_MINIMUM_100_EXAMPLES,\n",
    "#     domains = wisig.ALL_DAYS,\n",
    "#     num_examples_per_domain_per_label=100,\n",
    "#     pickle_path=os.path.join(get_datasets_base_path(), \"wisig.node3-19.stratified_ds.2022A.pkl\"),\n",
    "#     source_or_target_dataset=\"target\",\n",
    "#     x_transform_func=global_x_transform_func,\n",
    "#     domain_modifier=lambda u: f\"wisig_{u}\"\n",
    "# )"
   ]
  },
  {
   "cell_type": "code",
   "execution_count": 19,
   "id": "fd5442bc",
   "metadata": {
    "execution": {
     "iopub.execute_input": "2022-03-07T07:24:34.880203Z",
     "iopub.status.busy": "2022-03-07T07:24:34.874503Z",
     "iopub.status.idle": "2022-03-07T07:24:34.887485Z",
     "shell.execute_reply": "2022-03-07T07:24:34.887038Z"
    },
    "papermill": {
     "duration": 0.031277,
     "end_time": "2022-03-07T07:24:34.887586",
     "exception": false,
     "start_time": "2022-03-07T07:24:34.856309",
     "status": "completed"
    },
    "tags": []
   },
   "outputs": [],
   "source": [
    "###################################\n",
    "# Build the dataset\n",
    "###################################\n",
    "train_original_source = Iterable_Aggregator(train_original_source, p.seed)\n",
    "val_original_source = Iterable_Aggregator(val_original_source, p.seed)\n",
    "test_original_source = Iterable_Aggregator(test_original_source, p.seed)\n",
    "\n",
    "\n",
    "train_original_target = Iterable_Aggregator(train_original_target, p.seed)\n",
    "val_original_target = Iterable_Aggregator(val_original_target, p.seed)\n",
    "test_original_target = Iterable_Aggregator(test_original_target, p.seed)\n",
    "\n",
    "# For CNN We only use X and Y. And we only train on the source.\n",
    "# Properly form the data using a transform lambda and Lazy_Iterable_Wrapper. Finally wrap them in a dataloader\n",
    "\n",
    "transform_lambda = lambda ex: ex[1] # Original is (<domain>, <episode>) so we strip down to episode only\n",
    "\n",
    "train_processed_source = Lazy_Iterable_Wrapper(train_original_source, transform_lambda)\n",
    "val_processed_source   = Lazy_Iterable_Wrapper(val_original_source, transform_lambda)\n",
    "test_processed_source  = Lazy_Iterable_Wrapper(test_original_source, transform_lambda)\n",
    "\n",
    "train_processed_target = Lazy_Iterable_Wrapper(train_original_target, transform_lambda)\n",
    "val_processed_target   = Lazy_Iterable_Wrapper(val_original_target, transform_lambda)\n",
    "test_processed_target  = Lazy_Iterable_Wrapper(test_original_target, transform_lambda)\n",
    "\n",
    "datasets = EasyDict({\n",
    "    \"source\": {\n",
    "        \"original\": {\"train\":train_original_source, \"val\":val_original_source, \"test\":test_original_source},\n",
    "        \"processed\": {\"train\":train_processed_source, \"val\":val_processed_source, \"test\":test_processed_source}\n",
    "    },\n",
    "    \"target\": {\n",
    "        \"original\": {\"train\":train_original_target, \"val\":val_original_target, \"test\":test_original_target},\n",
    "        \"processed\": {\"train\":train_processed_target, \"val\":val_processed_target, \"test\":test_processed_target}\n",
    "    },\n",
    "})"
   ]
  },
  {
   "cell_type": "code",
   "execution_count": 20,
   "id": "5b3c01fc",
   "metadata": {
    "execution": {
     "iopub.execute_input": "2022-03-07T07:24:34.923432Z",
     "iopub.status.busy": "2022-03-07T07:24:34.923183Z",
     "iopub.status.idle": "2022-03-07T07:24:39.495676Z",
     "shell.execute_reply": "2022-03-07T07:24:39.495235Z"
    },
    "papermill": {
     "duration": 4.588667,
     "end_time": "2022-03-07T07:24:39.495788",
     "exception": false,
     "start_time": "2022-03-07T07:24:34.907121",
     "status": "completed"
    },
    "tags": []
   },
   "outputs": [
    {
     "name": "stdout",
     "output_type": "stream",
     "text": [
      "{'ORACLE.run18', 'ORACLE.run126', 'ORACLE.run138', 'ORACLE.run132', 'ORACLE.run114', 'ORACLE.run120', 'ORACLE.run144', 'ORACLE.run150'}\n"
     ]
    },
    {
     "name": "stdout",
     "output_type": "stream",
     "text": [
      "{'Wisig_3', 'Wisig_2', 'Wisig_4', 'Wisig_1'}\n"
     ]
    },
    {
     "name": "stdout",
     "output_type": "stream",
     "text": [
      "tensor([[[-0.0955,  1.1942, -0.1146,  ..., -0.9840, -0.2675, -0.5732],\n",
      "         [-0.6592, -0.3057,  1.0891,  ...,  0.2484, -1.4617, -0.4872]],\n",
      "\n",
      "        [[-0.4662,  0.7090,  0.5730,  ..., -1.3014, -1.2237, -0.1165],\n",
      "         [-1.1752, -0.3302,  1.1558,  ...,  0.4273, -0.1554,  1.2626]],\n",
      "\n",
      "        [[ 0.6763, -0.3671, -0.7922,  ...,  0.8212,  1.4202,  0.3381],\n",
      "         [ 0.8598,  0.7053, -0.9178,  ..., -0.7826,  0.4831, -1.1980]],\n",
      "\n",
      "        ...,\n",
      "\n",
      "        [[ 1.0255, -0.2498, -1.2227,  ...,  0.6639,  1.0255, -0.6771],\n",
      "         [ 0.5785,  0.7428, -0.3878,  ..., -1.0123, -0.6376, -1.1701]],\n",
      "\n",
      "        [[ 0.0260, -1.0137,  0.2924,  ...,  0.9227,  0.4808,  1.0981],\n",
      "         [ 0.8122,  0.4354, -1.1631,  ..., -0.1235,  1.2996, -0.2339]],\n",
      "\n",
      "        [[ 0.4980,  0.3408, -0.7471,  ..., -0.4718,  1.2779,  1.0616],\n",
      "         [-0.4260,  1.1468, -0.0328,  ..., -1.1141, -0.0590, -0.2556]]])\n"
     ]
    }
   ],
   "source": [
    "from steves_utils.transforms import get_average_magnitude, get_average_power\n",
    "\n",
    "print(set([u for u,_ in val_original_source]))\n",
    "print(set([u for u,_ in val_original_target]))\n",
    "\n",
    "s_x, s_y, q_x, q_y, _ = next(iter(train_processed_source))\n",
    "print(s_x)\n",
    "\n",
    "# for ds in [\n",
    "#     train_processed_source,\n",
    "#     val_processed_source,\n",
    "#     test_processed_source,\n",
    "#     train_processed_target,\n",
    "#     val_processed_target,\n",
    "#     test_processed_target\n",
    "# ]:\n",
    "#     for s_x, s_y, q_x, q_y, _ in ds:\n",
    "#         for X in (s_x, q_x):\n",
    "#             for x in X:\n",
    "#                 assert np.isclose(get_average_magnitude(x.numpy()), 1.0)\n",
    "#                 assert np.isclose(get_average_power(x.numpy()), 1.0)\n",
    "                "
   ]
  },
  {
   "cell_type": "code",
   "execution_count": 21,
   "id": "bbdacba1",
   "metadata": {
    "execution": {
     "iopub.execute_input": "2022-03-07T07:24:39.534271Z",
     "iopub.status.busy": "2022-03-07T07:24:39.534000Z",
     "iopub.status.idle": "2022-03-07T07:24:39.591436Z",
     "shell.execute_reply": "2022-03-07T07:24:39.591028Z"
    },
    "papermill": {
     "duration": 0.075504,
     "end_time": "2022-03-07T07:24:39.591532",
     "exception": false,
     "start_time": "2022-03-07T07:24:39.516028",
     "status": "completed"
    },
    "tags": []
   },
   "outputs": [
    {
     "name": "stdout",
     "output_type": "stream",
     "text": [
      "(2, 256)\n"
     ]
    }
   ],
   "source": [
    "###################################\n",
    "# Build the model\n",
    "###################################\n",
    "model = Steves_Prototypical_Network(x_net, device=p.device, x_shape=(2,256))\n",
    "optimizer = Adam(params=model.parameters(), lr=p.lr)"
   ]
  },
  {
   "cell_type": "code",
   "execution_count": 22,
   "id": "22b39ac5",
   "metadata": {
    "execution": {
     "iopub.execute_input": "2022-03-07T07:24:39.630082Z",
     "iopub.status.busy": "2022-03-07T07:24:39.629812Z",
     "iopub.status.idle": "2022-03-07T07:42:53.414884Z",
     "shell.execute_reply": "2022-03-07T07:42:53.414634Z"
    },
    "papermill": {
     "duration": 1093.803436,
     "end_time": "2022-03-07T07:42:53.414943",
     "exception": false,
     "start_time": "2022-03-07T07:24:39.611507",
     "status": "completed"
    },
    "tags": []
   },
   "outputs": [
    {
     "name": "stdout",
     "output_type": "stream",
     "text": [
      "epoch: 1, [batch: 1 / 6720], examples_per_second: 47.5514, train_label_loss: 3.1652, \n"
     ]
    },
    {
     "name": "stdout",
     "output_type": "stream",
     "text": [
      "epoch: 1, [batch: 672 / 6720], examples_per_second: 3141.7710, train_label_loss: 0.9541, \n"
     ]
    },
    {
     "name": "stdout",
     "output_type": "stream",
     "text": [
      "epoch: 1, [batch: 1344 / 6720], examples_per_second: 3150.0688, train_label_loss: 0.7430, \n"
     ]
    },
    {
     "name": "stdout",
     "output_type": "stream",
     "text": [
      "epoch: 1, [batch: 2016 / 6720], examples_per_second: 3145.1817, train_label_loss: 0.7685, \n"
     ]
    },
    {
     "name": "stdout",
     "output_type": "stream",
     "text": [
      "epoch: 1, [batch: 2688 / 6720], examples_per_second: 3121.1650, train_label_loss: 0.6421, \n"
     ]
    },
    {
     "name": "stdout",
     "output_type": "stream",
     "text": [
      "epoch: 1, [batch: 3360 / 6720], examples_per_second: 3119.6467, train_label_loss: 0.8939, \n"
     ]
    },
    {
     "name": "stdout",
     "output_type": "stream",
     "text": [
      "epoch: 1, [batch: 4032 / 6720], examples_per_second: 3123.6202, train_label_loss: 0.6359, \n"
     ]
    },
    {
     "name": "stdout",
     "output_type": "stream",
     "text": [
      "epoch: 1, [batch: 4704 / 6720], examples_per_second: 3117.7859, train_label_loss: 0.3113, \n"
     ]
    },
    {
     "name": "stdout",
     "output_type": "stream",
     "text": [
      "epoch: 1, [batch: 5376 / 6720], examples_per_second: 3126.9347, train_label_loss: 0.6749, \n"
     ]
    },
    {
     "name": "stdout",
     "output_type": "stream",
     "text": [
      "epoch: 1, [batch: 6048 / 6720], examples_per_second: 3122.5694, train_label_loss: 0.4541, \n"
     ]
    },
    {
     "name": "stdout",
     "output_type": "stream",
     "text": [
      "=============================================================\n",
      "epoch: 1, source_val_acc_label: 0.6745, target_val_acc_label: 0.6457, source_val_label_loss: 87.5992, target_val_label_loss: 6462.9678, \n",
      "=============================================================\n"
     ]
    },
    {
     "name": "stdout",
     "output_type": "stream",
     "text": [
      "New best\n"
     ]
    },
    {
     "name": "stdout",
     "output_type": "stream",
     "text": [
      "epoch: 2, [batch: 1 / 6720], examples_per_second: 5.5149, train_label_loss: 55.2248, \n"
     ]
    },
    {
     "name": "stdout",
     "output_type": "stream",
     "text": [
      "epoch: 2, [batch: 672 / 6720], examples_per_second: 3152.1701, train_label_loss: 0.6441, \n"
     ]
    },
    {
     "name": "stdout",
     "output_type": "stream",
     "text": [
      "epoch: 2, [batch: 1344 / 6720], examples_per_second: 3160.8495, train_label_loss: 0.4356, \n"
     ]
    },
    {
     "name": "stdout",
     "output_type": "stream",
     "text": [
      "epoch: 2, [batch: 2016 / 6720], examples_per_second: 3151.9966, train_label_loss: 1.1574, \n"
     ]
    },
    {
     "name": "stdout",
     "output_type": "stream",
     "text": [
      "epoch: 2, [batch: 2688 / 6720], examples_per_second: 3143.3382, train_label_loss: 0.9294, \n"
     ]
    },
    {
     "name": "stdout",
     "output_type": "stream",
     "text": [
      "epoch: 2, [batch: 3360 / 6720], examples_per_second: 3164.6964, train_label_loss: 0.6799, \n"
     ]
    },
    {
     "name": "stdout",
     "output_type": "stream",
     "text": [
      "epoch: 2, [batch: 4032 / 6720], examples_per_second: 3166.9648, train_label_loss: 1.0008, \n"
     ]
    },
    {
     "name": "stdout",
     "output_type": "stream",
     "text": [
      "epoch: 2, [batch: 4704 / 6720], examples_per_second: 3140.4877, train_label_loss: 0.6151, \n"
     ]
    },
    {
     "name": "stdout",
     "output_type": "stream",
     "text": [
      "epoch: 2, [batch: 5376 / 6720], examples_per_second: 3156.1863, train_label_loss: 0.6484, \n"
     ]
    },
    {
     "name": "stdout",
     "output_type": "stream",
     "text": [
      "epoch: 2, [batch: 6048 / 6720], examples_per_second: 3159.1031, train_label_loss: 0.3558, \n"
     ]
    },
    {
     "name": "stdout",
     "output_type": "stream",
     "text": [
      "=============================================================\n",
      "epoch: 2, source_val_acc_label: 0.8015, target_val_acc_label: 0.6050, source_val_label_loss: 0.5597, target_val_label_loss: 278.5027, \n",
      "=============================================================\n"
     ]
    },
    {
     "name": "stdout",
     "output_type": "stream",
     "text": [
      "New best\n"
     ]
    },
    {
     "name": "stdout",
     "output_type": "stream",
     "text": [
      "epoch: 3, [batch: 1 / 6720], examples_per_second: 5.5511, train_label_loss: 0.6047, \n"
     ]
    },
    {
     "name": "stdout",
     "output_type": "stream",
     "text": [
      "epoch: 3, [batch: 672 / 6720], examples_per_second: 3155.2968, train_label_loss: 0.1939, \n"
     ]
    },
    {
     "name": "stdout",
     "output_type": "stream",
     "text": [
      "epoch: 3, [batch: 1344 / 6720], examples_per_second: 3156.8517, train_label_loss: 0.4842, \n"
     ]
    },
    {
     "name": "stdout",
     "output_type": "stream",
     "text": [
      "epoch: 3, [batch: 2016 / 6720], examples_per_second: 3154.0216, train_label_loss: 0.3004, \n"
     ]
    },
    {
     "name": "stdout",
     "output_type": "stream",
     "text": [
      "epoch: 3, [batch: 2688 / 6720], examples_per_second: 3144.5867, train_label_loss: 0.4707, \n"
     ]
    },
    {
     "name": "stdout",
     "output_type": "stream",
     "text": [
      "epoch: 3, [batch: 3360 / 6720], examples_per_second: 3153.6044, train_label_loss: 0.9479, \n"
     ]
    },
    {
     "name": "stdout",
     "output_type": "stream",
     "text": [
      "epoch: 3, [batch: 4032 / 6720], examples_per_second: 3166.2665, train_label_loss: 0.5969, \n"
     ]
    },
    {
     "name": "stdout",
     "output_type": "stream",
     "text": [
      "epoch: 3, [batch: 4704 / 6720], examples_per_second: 3153.5188, train_label_loss: 0.3012, \n"
     ]
    },
    {
     "name": "stdout",
     "output_type": "stream",
     "text": [
      "epoch: 3, [batch: 5376 / 6720], examples_per_second: 3167.4920, train_label_loss: 0.4030, \n"
     ]
    },
    {
     "name": "stdout",
     "output_type": "stream",
     "text": [
      "epoch: 3, [batch: 6048 / 6720], examples_per_second: 3149.7628, train_label_loss: 0.1991, \n"
     ]
    },
    {
     "name": "stdout",
     "output_type": "stream",
     "text": [
      "=============================================================\n",
      "epoch: 3, source_val_acc_label: 0.7953, target_val_acc_label: 0.5470, source_val_label_loss: 0.5639, target_val_label_loss: 363.1792, \n",
      "=============================================================\n"
     ]
    },
    {
     "name": "stdout",
     "output_type": "stream",
     "text": [
      "epoch: 4, [batch: 1 / 6720], examples_per_second: 5.5888, train_label_loss: 0.5853, \n"
     ]
    },
    {
     "name": "stdout",
     "output_type": "stream",
     "text": [
      "epoch: 4, [batch: 672 / 6720], examples_per_second: 3156.3785, train_label_loss: 0.2291, \n"
     ]
    },
    {
     "name": "stdout",
     "output_type": "stream",
     "text": [
      "epoch: 4, [batch: 1344 / 6720], examples_per_second: 3145.4329, train_label_loss: 0.8816, \n"
     ]
    },
    {
     "name": "stdout",
     "output_type": "stream",
     "text": [
      "epoch: 4, [batch: 2016 / 6720], examples_per_second: 3140.5931, train_label_loss: 0.6926, \n"
     ]
    },
    {
     "name": "stdout",
     "output_type": "stream",
     "text": [
      "epoch: 4, [batch: 2688 / 6720], examples_per_second: 3152.5859, train_label_loss: 0.7066, \n"
     ]
    },
    {
     "name": "stdout",
     "output_type": "stream",
     "text": [
      "epoch: 4, [batch: 3360 / 6720], examples_per_second: 3149.3211, train_label_loss: 0.3329, \n"
     ]
    },
    {
     "name": "stdout",
     "output_type": "stream",
     "text": [
      "epoch: 4, [batch: 4032 / 6720], examples_per_second: 3167.0289, train_label_loss: 0.9037, \n"
     ]
    },
    {
     "name": "stdout",
     "output_type": "stream",
     "text": [
      "epoch: 4, [batch: 4704 / 6720], examples_per_second: 3148.7548, train_label_loss: 0.4718, \n"
     ]
    },
    {
     "name": "stdout",
     "output_type": "stream",
     "text": [
      "epoch: 4, [batch: 5376 / 6720], examples_per_second: 3156.4600, train_label_loss: 0.2951, \n"
     ]
    },
    {
     "name": "stdout",
     "output_type": "stream",
     "text": [
      "epoch: 4, [batch: 6048 / 6720], examples_per_second: 3158.4506, train_label_loss: 0.3856, \n"
     ]
    },
    {
     "name": "stdout",
     "output_type": "stream",
     "text": [
      "=============================================================\n",
      "epoch: 4, source_val_acc_label: 0.8258, target_val_acc_label: 0.5732, source_val_label_loss: 0.4940, target_val_label_loss: 735.3840, \n",
      "=============================================================\n"
     ]
    },
    {
     "name": "stdout",
     "output_type": "stream",
     "text": [
      "epoch: 5, [batch: 1 / 6720], examples_per_second: 5.5764, train_label_loss: 0.0720, \n"
     ]
    },
    {
     "name": "stdout",
     "output_type": "stream",
     "text": [
      "epoch: 5, [batch: 672 / 6720], examples_per_second: 3142.0880, train_label_loss: 0.2429, \n"
     ]
    },
    {
     "name": "stdout",
     "output_type": "stream",
     "text": [
      "epoch: 5, [batch: 1344 / 6720], examples_per_second: 3154.4914, train_label_loss: 0.7525, \n"
     ]
    },
    {
     "name": "stdout",
     "output_type": "stream",
     "text": [
      "epoch: 5, [batch: 2016 / 6720], examples_per_second: 3151.8070, train_label_loss: 0.6525, \n"
     ]
    },
    {
     "name": "stdout",
     "output_type": "stream",
     "text": [
      "epoch: 5, [batch: 2688 / 6720], examples_per_second: 3145.8819, train_label_loss: 0.3844, \n"
     ]
    },
    {
     "name": "stdout",
     "output_type": "stream",
     "text": [
      "epoch: 5, [batch: 3360 / 6720], examples_per_second: 3159.6283, train_label_loss: 0.1032, \n"
     ]
    },
    {
     "name": "stdout",
     "output_type": "stream",
     "text": [
      "epoch: 5, [batch: 4032 / 6720], examples_per_second: 3159.0126, train_label_loss: 0.3424, \n"
     ]
    },
    {
     "name": "stdout",
     "output_type": "stream",
     "text": [
      "epoch: 5, [batch: 4704 / 6720], examples_per_second: 3137.9067, train_label_loss: 0.2120, \n"
     ]
    },
    {
     "name": "stdout",
     "output_type": "stream",
     "text": [
      "epoch: 5, [batch: 5376 / 6720], examples_per_second: 3156.5020, train_label_loss: 0.5806, \n"
     ]
    },
    {
     "name": "stdout",
     "output_type": "stream",
     "text": [
      "epoch: 5, [batch: 6048 / 6720], examples_per_second: 3155.1193, train_label_loss: 0.3415, \n"
     ]
    },
    {
     "name": "stdout",
     "output_type": "stream",
     "text": [
      "=============================================================\n",
      "epoch: 5, source_val_acc_label: 0.8532, target_val_acc_label: 0.5601, source_val_label_loss: 0.4197, target_val_label_loss: 1080.7256, \n",
      "=============================================================\n"
     ]
    },
    {
     "name": "stdout",
     "output_type": "stream",
     "text": [
      "epoch: 6, [batch: 1 / 6720], examples_per_second: 5.5957, train_label_loss: 0.2954, \n"
     ]
    },
    {
     "name": "stdout",
     "output_type": "stream",
     "text": [
      "epoch: 6, [batch: 672 / 6720], examples_per_second: 3146.2961, train_label_loss: 0.5328, \n"
     ]
    },
    {
     "name": "stdout",
     "output_type": "stream",
     "text": [
      "epoch: 6, [batch: 1344 / 6720], examples_per_second: 3156.6988, train_label_loss: 0.4303, \n"
     ]
    },
    {
     "name": "stdout",
     "output_type": "stream",
     "text": [
      "epoch: 6, [batch: 2016 / 6720], examples_per_second: 3159.0081, train_label_loss: 0.1275, \n"
     ]
    },
    {
     "name": "stdout",
     "output_type": "stream",
     "text": [
      "epoch: 6, [batch: 2688 / 6720], examples_per_second: 3148.6403, train_label_loss: 0.2553, \n"
     ]
    },
    {
     "name": "stdout",
     "output_type": "stream",
     "text": [
      "epoch: 6, [batch: 3360 / 6720], examples_per_second: 3165.7343, train_label_loss: 0.1324, \n"
     ]
    },
    {
     "name": "stdout",
     "output_type": "stream",
     "text": [
      "epoch: 6, [batch: 4032 / 6720], examples_per_second: 3167.9104, train_label_loss: 0.5922, \n"
     ]
    },
    {
     "name": "stdout",
     "output_type": "stream",
     "text": [
      "epoch: 6, [batch: 4704 / 6720], examples_per_second: 3152.6565, train_label_loss: 0.4337, \n"
     ]
    },
    {
     "name": "stdout",
     "output_type": "stream",
     "text": [
      "epoch: 6, [batch: 5376 / 6720], examples_per_second: 3152.7794, train_label_loss: 0.4437, \n"
     ]
    },
    {
     "name": "stdout",
     "output_type": "stream",
     "text": [
      "epoch: 6, [batch: 6048 / 6720], examples_per_second: 3157.7254, train_label_loss: 0.1166, \n"
     ]
    },
    {
     "name": "stdout",
     "output_type": "stream",
     "text": [
      "=============================================================\n",
      "epoch: 6, source_val_acc_label: 0.8730, target_val_acc_label: 0.5669, source_val_label_loss: 0.3732, target_val_label_loss: 997.1630, \n",
      "=============================================================\n"
     ]
    },
    {
     "name": "stdout",
     "output_type": "stream",
     "text": [
      "Patience (3) exhausted\n"
     ]
    }
   ],
   "source": [
    "###################################\n",
    "# train\n",
    "###################################\n",
    "jig = PTN_Train_Eval_Test_Jig(model, p.BEST_MODEL_PATH, p.device)\n",
    "\n",
    "jig.train(\n",
    "    train_iterable=datasets.source.processed.train,\n",
    "    source_val_iterable=datasets.source.processed.val,\n",
    "    target_val_iterable=datasets.target.processed.val,\n",
    "    num_epochs=p.n_epoch,\n",
    "    num_logs_per_epoch=p.NUM_LOGS_PER_EPOCH,\n",
    "    patience=p.patience,\n",
    "    optimizer=optimizer,\n",
    "    criteria_for_best=p.criteria_for_best,\n",
    ")"
   ]
  },
  {
   "cell_type": "code",
   "execution_count": 23,
   "id": "31e8fabf",
   "metadata": {
    "execution": {
     "iopub.execute_input": "2022-03-07T07:42:53.469890Z",
     "iopub.status.busy": "2022-03-07T07:42:53.469639Z",
     "iopub.status.idle": "2022-03-07T07:42:53.481976Z",
     "shell.execute_reply": "2022-03-07T07:42:53.481668Z"
    },
    "papermill": {
     "duration": 0.040785,
     "end_time": "2022-03-07T07:42:53.482047",
     "exception": false,
     "start_time": "2022-03-07T07:42:53.441262",
     "status": "completed"
    },
    "tags": []
   },
   "outputs": [],
   "source": [
    "total_experiment_time_secs = time.time() - start_time_secs"
   ]
  },
  {
   "cell_type": "code",
   "execution_count": 24,
   "id": "87b9595b",
   "metadata": {
    "execution": {
     "iopub.execute_input": "2022-03-07T07:42:53.543950Z",
     "iopub.status.busy": "2022-03-07T07:42:53.543680Z",
     "iopub.status.idle": "2022-03-07T07:43:53.345783Z",
     "shell.execute_reply": "2022-03-07T07:43:53.346210Z"
    },
    "papermill": {
     "duration": 59.83402,
     "end_time": "2022-03-07T07:43:53.346349",
     "exception": false,
     "start_time": "2022-03-07T07:42:53.512329",
     "status": "completed"
    },
    "tags": []
   },
   "outputs": [],
   "source": [
    "###################################\n",
    "# Evaluate the model\n",
    "###################################\n",
    "source_test_label_accuracy, source_test_label_loss = jig.test(datasets.source.processed.test)\n",
    "target_test_label_accuracy, target_test_label_loss = jig.test(datasets.target.processed.test)\n",
    "\n",
    "source_val_label_accuracy, source_val_label_loss = jig.test(datasets.source.processed.val)\n",
    "target_val_label_accuracy, target_val_label_loss = jig.test(datasets.target.processed.val)\n",
    "\n",
    "history = jig.get_history()\n",
    "\n",
    "total_epochs_trained = len(history[\"epoch_indices\"])\n",
    "\n",
    "val_dl = Iterable_Aggregator((datasets.source.original.val,datasets.target.original.val))\n",
    "\n",
    "confusion = ptn_confusion_by_domain_over_dataloader(model, p.device, val_dl)\n",
    "per_domain_accuracy = per_domain_accuracy_from_confusion(confusion)\n",
    "\n",
    "# Add a key to per_domain_accuracy for if it was a source domain\n",
    "for domain, accuracy in per_domain_accuracy.items():\n",
    "    per_domain_accuracy[domain] = {\n",
    "        \"accuracy\": accuracy,\n",
    "        \"source?\": domain in p.domains_source\n",
    "    }\n",
    "\n",
    "# Do an independent accuracy assesment JUST TO BE SURE!\n",
    "# _source_test_label_accuracy = independent_accuracy_assesment(model, datasets.source.processed.test, p.device)\n",
    "# _target_test_label_accuracy = independent_accuracy_assesment(model, datasets.target.processed.test, p.device)\n",
    "# _source_val_label_accuracy = independent_accuracy_assesment(model, datasets.source.processed.val, p.device)\n",
    "# _target_val_label_accuracy = independent_accuracy_assesment(model, datasets.target.processed.val, p.device)\n",
    "\n",
    "# assert(_source_test_label_accuracy == source_test_label_accuracy)\n",
    "# assert(_target_test_label_accuracy == target_test_label_accuracy)\n",
    "# assert(_source_val_label_accuracy == source_val_label_accuracy)\n",
    "# assert(_target_val_label_accuracy == target_val_label_accuracy)\n",
    "\n",
    "experiment = {\n",
    "    \"experiment_name\": p.experiment_name,\n",
    "    \"parameters\": dict(p),\n",
    "    \"results\": {\n",
    "        \"source_test_label_accuracy\": source_test_label_accuracy,\n",
    "        \"source_test_label_loss\": source_test_label_loss,\n",
    "        \"target_test_label_accuracy\": target_test_label_accuracy,\n",
    "        \"target_test_label_loss\": target_test_label_loss,\n",
    "        \"source_val_label_accuracy\": source_val_label_accuracy,\n",
    "        \"source_val_label_loss\": source_val_label_loss,\n",
    "        \"target_val_label_accuracy\": target_val_label_accuracy,\n",
    "        \"target_val_label_loss\": target_val_label_loss,\n",
    "        \"total_epochs_trained\": total_epochs_trained,\n",
    "        \"total_experiment_time_secs\": total_experiment_time_secs,\n",
    "        \"confusion\": confusion,\n",
    "        \"per_domain_accuracy\": per_domain_accuracy,\n",
    "    },\n",
    "    \"history\": history,\n",
    "    \"dataset_metrics\": get_dataset_metrics(datasets, \"ptn\"),\n",
    "}"
   ]
  },
  {
   "cell_type": "code",
   "execution_count": 25,
   "id": "54a21829",
   "metadata": {
    "execution": {
     "iopub.execute_input": "2022-03-07T07:43:53.407321Z",
     "iopub.status.busy": "2022-03-07T07:43:53.406548Z",
     "iopub.status.idle": "2022-03-07T07:43:53.580114Z",
     "shell.execute_reply": "2022-03-07T07:43:53.580496Z"
    },
    "papermill": {
     "duration": 0.203014,
     "end_time": "2022-03-07T07:43:53.580621",
     "exception": false,
     "start_time": "2022-03-07T07:43:53.377607",
     "status": "completed"
    },
    "tags": []
   },
   "outputs": [
    {
     "data": {
      "image/png": "[encoded data removed]",
      "text/plain": [
       "<Figure size 1080x504 with 1 Axes>"
      ]
     },
     "metadata": {
      "needs_background": "light"
     },
     "output_type": "display_data"
    }
   ],
   "source": [
    "ax = get_loss_curve(experiment)\n",
    "plt.show()"
   ]
  },
  {
   "cell_type": "code",
   "execution_count": 26,
   "id": "fd8a0f60",
   "metadata": {
    "execution": {
     "iopub.execute_input": "2022-03-07T07:43:53.641934Z",
     "iopub.status.busy": "2022-03-07T07:43:53.641683Z",
     "iopub.status.idle": "2022-03-07T07:43:53.818950Z",
     "shell.execute_reply": "2022-03-07T07:43:53.819165Z"
    },
    "papermill": {
     "duration": 0.2062,
     "end_time": "2022-03-07T07:43:53.819232",
     "exception": false,
     "start_time": "2022-03-07T07:43:53.613032",
     "status": "completed"
    },
    "tags": []
   },
   "outputs": [
    {
     "data": {
      "text/plain": [
       "<matplotlib.axes._subplots.AxesSubplot at 0x7fddbc92ae20>"
      ]
     },
     "execution_count": 26,
     "metadata": {},
     "output_type": "execute_result"
    },
    {
     "data": {
      "image/png": "[encoded data removed]",
      "text/plain": [
       "<Figure size 1080x504 with 1 Axes>"
      ]
     },
     "metadata": {
      "needs_background": "light"
     },
     "output_type": "display_data"
    }
   ],
   "source": [
    "get_results_table(experiment)"
   ]
  },
  {
   "cell_type": "code",
   "execution_count": 27,
   "id": "cf8dc689",
   "metadata": {
    "execution": {
     "iopub.execute_input": "2022-03-07T07:43:53.884251Z",
     "iopub.status.busy": "2022-03-07T07:43:53.883999Z",
     "iopub.status.idle": "2022-03-07T07:43:54.082784Z",
     "shell.execute_reply": "2022-03-07T07:43:54.082309Z"
    },
    "papermill": {
     "duration": 0.230295,
     "end_time": "2022-03-07T07:43:54.082879",
     "exception": false,
     "start_time": "2022-03-07T07:43:53.852584",
     "status": "completed"
    },
    "tags": []
   },
   "outputs": [
    {
     "data": {
      "text/plain": [
       "<matplotlib.axes._subplots.AxesSubplot at 0x7fddbc8c4970>"
      ]
     },
     "execution_count": 27,
     "metadata": {},
     "output_type": "execute_result"
    },
    {
     "data": {
      "image/png": "[encoded data removed]",
      "text/plain": [
       "<Figure size 1080x504 with 1 Axes>"
      ]
     },
     "metadata": {
      "needs_background": "light"
     },
     "output_type": "display_data"
    }
   ],
   "source": [
    "get_domain_accuracies(experiment)"
   ]
  },
  {
   "cell_type": "code",
   "execution_count": 28,
   "id": "a74ae082",
   "metadata": {
    "execution": {
     "iopub.execute_input": "2022-03-07T07:43:54.150901Z",
     "iopub.status.busy": "2022-03-07T07:43:54.150141Z",
     "iopub.status.idle": "2022-03-07T07:43:54.164864Z",
     "shell.execute_reply": "2022-03-07T07:43:54.164412Z"
    },
    "papermill": {
     "duration": 0.046857,
     "end_time": "2022-03-07T07:43:54.164955",
     "exception": false,
     "start_time": "2022-03-07T07:43:54.118098",
     "status": "completed"
    },
    "tags": []
   },
   "outputs": [
    {
     "name": "stdout",
     "output_type": "stream",
     "text": [
      "Source Test Label Accuracy: 0.80478515625 Target Test Label Accuracy: 0.599609375\n",
      "Source Val Label Accuracy: 0.80146484375 Target Val Label Accuracy: 0.60498046875\n"
     ]
    }
   ],
   "source": [
    "print(\"Source Test Label Accuracy:\", experiment[\"results\"][\"source_test_label_accuracy\"], \"Target Test Label Accuracy:\", experiment[\"results\"][\"target_test_label_accuracy\"])\n",
    "print(\"Source Val Label Accuracy:\", experiment[\"results\"][\"source_val_label_accuracy\"], \"Target Val Label Accuracy:\", experiment[\"results\"][\"target_val_label_accuracy\"])"
   ]
  },
  {
   "cell_type": "code",
   "execution_count": 29,
   "id": "dacca602",
   "metadata": {
    "execution": {
     "iopub.execute_input": "2022-03-07T07:43:54.231530Z",
     "iopub.status.busy": "2022-03-07T07:43:54.231283Z",
     "iopub.status.idle": "2022-03-07T07:43:54.246224Z",
     "shell.execute_reply": "2022-03-07T07:43:54.246602Z"
    },
    "papermill": {
     "duration": 0.047174,
     "end_time": "2022-03-07T07:43:54.246733",
     "exception": false,
     "start_time": "2022-03-07T07:43:54.199559",
     "status": "completed"
    },
    "tags": [
     "experiment_json"
    ]
   },
   "outputs": [
    {
     "data": {
      "text/plain": [
       "'{\"experiment_name\": \"tl_1_wisig-oracle.run1\", \"parameters\": {\"experiment_name\": \"tl_1_wisig-oracle.run1\", \"device\": \"cuda\", \"lr\": 0.001, \"seed\": 1337, \"dataset_seed\": 1337, \"n_shot\": 3, \"n_query\": 2, \"train_k_factor\": 3, \"val_k_factor\": 2, \"test_k_factor\": 2, \"torch_default_dtype\": \"torch.float32\", \"n_epoch\": 50, \"patience\": 3, \"criteria_for_best\": \"target_loss\", \"x_net\": [{\"class\": \"nnReshape\", \"kargs\": {\"shape\": [-1, 1, 2, 256]}}, {\"class\": \"Conv2d\", \"kargs\": {\"in_channels\": 1, \"out_channels\": 256, \"kernel_size\": [1, 7], \"bias\": false, \"padding\": [0, 3]}}, {\"class\": \"ReLU\", \"kargs\": {\"inplace\": true}}, {\"class\": \"BatchNorm2d\", \"kargs\": {\"num_features\": 256}}, {\"class\": \"Conv2d\", \"kargs\": {\"in_channels\": 256, \"out_channels\": 80, \"kernel_size\": [2, 7], \"bias\": true, \"padding\": [0, 3]}}, {\"class\": \"ReLU\", \"kargs\": {\"inplace\": true}}, {\"class\": \"BatchNorm2d\", \"kargs\": {\"num_features\": 80}}, {\"class\": \"Flatten\", \"kargs\": {}}, {\"class\": \"Linear\", \"kargs\": {\"in_features\": 20480, \"out_features\": 256}}, {\"class\": \"ReLU\", \"kargs\": {\"inplace\": true}}, {\"class\": \"BatchNorm1d\", \"kargs\": {\"num_features\": 256}}, {\"class\": \"Linear\", \"kargs\": {\"in_features\": 256, \"out_features\": 256}}], \"NUM_LOGS_PER_EPOCH\": 10, \"BEST_MODEL_PATH\": \"./best_model.pth\", \"n_way\": 16, \"datasets\": [{\"labels\": [\"1-10\", \"1-12\", \"1-14\", \"1-16\", \"1-18\", \"1-19\", \"1-8\", \"10-11\", \"10-17\", \"10-4\", \"10-7\", \"11-1\", \"11-10\", \"11-19\", \"11-20\", \"11-4\", \"11-7\", \"12-19\", \"12-20\", \"12-7\", \"13-14\", \"13-18\", \"13-19\", \"13-20\", \"13-3\", \"13-7\", \"14-10\", \"14-11\", \"14-12\", \"14-13\", \"14-14\", \"14-19\", \"14-20\", \"14-7\", \"14-8\", \"14-9\", \"15-1\", \"15-19\", \"15-6\", \"16-1\", \"16-16\", \"16-19\", \"16-20\", \"17-10\", \"17-11\", \"18-1\", \"18-10\", \"18-11\", \"18-12\", \"18-13\", \"18-14\", \"18-15\", \"18-16\", \"18-17\", \"18-19\", \"18-2\", \"18-20\", \"18-4\", \"18-5\", \"18-7\", \"18-8\", \"18-9\", \"19-1\", \"19-10\", \"19-11\", \"19-12\", \"19-13\", \"19-14\", \"19-15\", \"19-19\", \"19-2\", \"19-20\", \"19-3\", \"19-4\", \"19-6\", \"19-7\", \"19-8\", \"19-9\", \"2-1\", \"2-13\", \"2-15\", \"2-3\", \"2-4\", \"2-5\", \"2-6\", \"2-7\", \"2-8\", \"20-1\", \"20-12\", \"20-14\", \"20-15\", \"20-16\", \"20-18\", \"20-19\", \"20-20\", \"20-3\", \"20-4\", \"20-5\", \"20-7\", \"20-8\", \"3-1\", \"3-13\", \"3-18\", \"3-2\", \"3-8\", \"4-1\", \"4-10\", \"4-11\", \"5-1\", \"5-5\", \"6-1\", \"6-15\", \"6-6\", \"7-10\", \"7-11\", \"7-12\", \"7-13\", \"7-14\", \"7-7\", \"7-8\", \"7-9\", \"8-1\", \"8-13\", \"8-14\", \"8-18\", \"8-20\", \"8-3\", \"8-8\", \"9-1\", \"9-7\"], \"domains\": [1, 2, 3, 4], \"num_examples_per_domain_per_label\": 100, \"pickle_path\": \"/mnt/wd500GB/CSC500/csc500-main/datasets/wisig.node3-19.stratified_ds.2022A.pkl\", \"source_or_target_dataset\": \"target\", \"x_transforms\": [\"unit_mag\"], \"episode_transforms\": [], \"domain_prefix\": \"Wisig_\"}, {\"labels\": [\"3123D52\", \"3123D65\", \"3123D79\", \"3123D80\", \"3123D54\", \"3123D70\", \"3123D7B\", \"3123D89\", \"3123D58\", \"3123D76\", \"3123D7D\", \"3123EFE\", \"3123D64\", \"3123D78\", \"3123D7E\", \"3124E4A\"], \"domains\": [32, 38, 8, 44, 14, 50, 20, 26], \"num_examples_per_domain_per_label\": 2000, \"pickle_path\": \"/mnt/wd500GB/CSC500/csc500-main/datasets/oracle.Run1_framed_2000Examples_stratified_ds.2022A.pkl\", \"source_or_target_dataset\": \"source\", \"x_transforms\": [\"unit_mag\"], \"episode_transforms\": [], \"domain_prefix\": \"ORACLE.run1\"}], \"domains_source\": [\"ORACLE.run132\", \"ORACLE.run138\", \"ORACLE.run18\", \"ORACLE.run144\", \"ORACLE.run114\", \"ORACLE.run150\", \"ORACLE.run120\", \"ORACLE.run126\"], \"domains_target\": [\"Wisig_1\", \"Wisig_2\", \"Wisig_3\", \"Wisig_4\"]}, \"results\": {\"source_test_label_accuracy\": 0.80478515625, \"source_test_label_loss\": 0.5582818388938904, \"target_test_label_accuracy\": 0.599609375, \"target_test_label_loss\": 299.8213195800781, \"source_val_label_accuracy\": 0.80146484375, \"source_val_label_loss\": 0.5597346425056458, \"target_val_label_accuracy\": 0.60498046875, \"target_val_label_loss\": 278.502685546875, \"total_epochs_trained\": 6, \"total_experiment_time_secs\": 1117.9175188541412, \"confusion\": {\"ORACLE.run114\": {\"15\": {\"15\": 240}, \"3\": {\"3\": 237, \"14\": 1, \"5\": 1, \"2\": 1}, \"6\": {\"6\": 183, \"13\": 55, \"2\": 2}, \"1\": {\"1\": 228, \"5\": 12}, \"8\": {\"8\": 240}, \"10\": {\"10\": 240}, \"9\": {\"9\": 240}, \"13\": {\"14\": 50, \"13\": 92, \"5\": 4, \"6\": 69, \"2\": 25}, \"12\": {\"12\": 240}, \"5\": {\"5\": 176, \"4\": 27, \"1\": 23, \"3\": 4, \"2\": 10}, \"0\": {\"0\": 236, \"10\": 2, \"3\": 2}, \"2\": {\"2\": 129, \"6\": 19, \"3\": 7, \"5\": 28, \"14\": 47, \"13\": 8, \"15\": 2}, \"11\": {\"11\": 227, \"9\": 12, \"0\": 1}, \"14\": {\"14\": 210, \"2\": 16, \"13\": 11, \"3\": 2, \"6\": 1}, \"7\": {\"7\": 240}, \"4\": {\"4\": 225, \"5\": 15}}, \"ORACLE.run120\": {\"3\": {\"3\": 139, \"9\": 36, \"1\": 3, \"12\": 43, \"10\": 1, \"7\": 4, \"2\": 11, \"4\": 3}, \"15\": {\"5\": 18, \"15\": 186, \"1\": 10, \"0\": 19, \"13\": 3, \"12\": 3, \"2\": 1}, \"8\": {\"8\": 222, \"4\": 13, \"7\": 5}, \"4\": {\"4\": 223, \"8\": 12, \"12\": 2, \"3\": 3}, \"14\": {\"6\": 12, \"14\": 226, \"8\": 1, \"10\": 1}, \"0\": {\"5\": 53, \"15\": 20, \"0\": 166, \"8\": 1}, \"7\": {\"7\": 213, \"3\": 2, \"9\": 3, \"2\": 21, \"8\": 1}, \"6\": {\"6\": 230, \"14\": 10}, \"10\": {\"10\": 240}, \"5\": {\"5\": 183, \"15\": 15, \"0\": 35, \"1\": 6, \"12\": 1}, \"2\": {\"2\": 154, \"9\": 53, \"1\": 4, \"13\": 6, \"12\": 6, \"3\": 8, \"7\": 9}, \"12\": {\"1\": 40, \"3\": 34, \"12\": 152, \"2\": 9, \"9\": 4, \"5\": 1}, \"9\": {\"9\": 175, \"2\": 35, \"3\": 23, \"12\": 6, \"7\": 1}, \"1\": {\"1\": 183, \"5\": 10, \"12\": 40, \"15\": 6, \"2\": 1}, \"11\": {\"11\": 240}, \"13\": {\"13\": 237, \"15\": 1, \"2\": 2}}, \"ORACLE.run138\": {\"5\": {\"8\": 44, \"7\": 29, \"5\": 114, \"0\": 8, \"15\": 16, \"1\": 3, \"6\": 19, \"3\": 2, \"13\": 1, \"9\": 2, \"10\": 2}, \"8\": {\"8\": 177, \"7\": 7, \"0\": 25, \"15\": 8, \"5\": 14, \"10\": 9}, \"11\": {\"11\": 178, \"14\": 57, \"4\": 3, \"0\": 1, \"10\": 1}, \"1\": {\"1\": 229, \"15\": 9, \"5\": 2}, \"10\": {\"10\": 201, \"8\": 14, \"7\": 3, \"13\": 11, \"5\": 2, \"15\": 4, \"14\": 1, \"11\": 2, \"0\": 2}, \"15\": {\"15\": 158, \"8\": 3, \"13\": 59, \"1\": 17, \"10\": 1, \"5\": 2}, \"3\": {\"3\": 223, \"9\": 10, \"0\": 1, \"6\": 3, \"7\": 3}, \"7\": {\"7\": 215, \"0\": 15, \"5\": 6, \"8\": 4}, \"4\": {\"4\": 236, \"12\": 4}, \"14\": {\"14\": 207, \"2\": 14, \"11\": 19}, \"9\": {\"9\": 166, \"6\": 71, \"3\": 3}, \"12\": {\"12\": 239, \"4\": 1}, \"6\": {\"6\": 208, \"9\": 29, \"3\": 2, \"5\": 1}, \"2\": {\"2\": 220, \"14\": 13, \"13\": 6, \"15\": 1}, \"0\": {\"8\": 73, \"0\": 117, \"7\": 23, \"3\": 12, \"10\": 4, \"15\": 1, \"12\": 1, \"9\": 1, \"13\": 1, \"5\": 4, \"1\": 1, \"6\": 1, \"11\": 1}, \"13\": {\"13\": 153, \"15\": 66, \"10\": 6, \"2\": 5, \"8\": 5, \"0\": 1, \"1\": 3, \"5\": 1}}, \"ORACLE.run18\": {\"9\": {\"9\": 240}, \"10\": {\"10\": 199, \"14\": 25, \"13\": 13, \"4\": 3}, \"13\": {\"13\": 101, \"4\": 35, \"0\": 60, \"6\": 13, \"14\": 6, \"10\": 25}, \"0\": {\"13\": 55, \"0\": 162, \"7\": 8, \"4\": 6, \"6\": 5, \"10\": 3, \"14\": 1}, \"1\": {\"1\": 235, \"11\": 4, \"14\": 1}, \"15\": {\"15\": 203, \"12\": 36, \"8\": 1}, \"5\": {\"5\": 218, \"1\": 6, \"10\": 10, \"14\": 6}, \"3\": {\"3\": 238, \"12\": 2}, \"6\": {\"6\": 185, \"7\": 38, \"0\": 1, \"4\": 13, \"13\": 3}, \"11\": {\"11\": 234, \"1\": 4, \"5\": 2}, \"8\": {\"8\": 239, \"15\": 1}, \"4\": {\"4\": 181, \"6\": 14, \"14\": 7, \"13\": 34, \"10\": 3, \"0\": 1}, \"12\": {\"12\": 143, \"15\": 75, \"3\": 17, \"8\": 4, \"2\": 1}, \"14\": {\"14\": 170, \"10\": 36, \"4\": 21, \"1\": 10, \"13\": 3}, \"2\": {\"15\": 4, \"2\": 220, \"3\": 8, \"7\": 6, \"12\": 2}, \"7\": {\"7\": 193, \"0\": 4, \"6\": 43}}, \"ORACLE.run150\": {\"7\": {\"7\": 179, \"13\": 49, \"10\": 9, \"6\": 1, \"5\": 2}, \"3\": {\"3\": 238, \"8\": 2}, \"8\": {\"8\": 236, \"10\": 4}, \"2\": {\"2\": 227, \"0\": 13}, \"14\": {\"14\": 240}, \"4\": {\"15\": 36, \"1\": 52, \"4\": 110, \"5\": 32, \"13\": 6, \"6\": 4}, \"6\": {\"6\": 220, \"15\": 2, \"7\": 1, \"1\": 5, \"13\": 10, \"5\": 1, \"4\": 1}, \"15\": {\"1\": 32, \"15\": 188, \"4\": 16, \"11\": 4}, \"10\": {\"10\": 232, \"13\": 4, \"8\": 2, \"0\": 2}, \"11\": {\"11\": 229, \"14\": 3, \"15\": 3, \"12\": 4, \"9\": 1}, \"13\": {\"13\": 180, \"7\": 30, \"5\": 15, \"6\": 12, \"10\": 2, \"0\": 1}, \"9\": {\"9\": 221, \"12\": 7, \"11\": 12}, \"0\": {\"0\": 214, \"2\": 21, \"10\": 5}, \"1\": {\"4\": 26, \"1\": 164, \"15\": 32, \"6\": 13, \"5\": 4, \"0\": 1}, \"12\": {\"12\": 237, \"9\": 3}, \"5\": {\"5\": 130, \"4\": 34, \"7\": 18, \"13\": 35, \"1\": 21, \"6\": 2}}, \"ORACLE.run132\": {\"8\": {\"8\": 214, \"5\": 3, \"13\": 7, \"3\": 3, \"0\": 13}, \"14\": {\"14\": 120, \"11\": 85, \"0\": 18, \"8\": 2, \"7\": 11, \"5\": 2, \"3\": 2}, \"2\": {\"2\": 202, \"4\": 38}, \"0\": {\"0\": 210, \"13\": 4, \"14\": 8, \"8\": 16, \"5\": 1, \"7\": 1}, \"1\": {\"1\": 239, \"10\": 1}, \"10\": {\"10\": 240}, \"11\": {\"11\": 176, \"14\": 57, \"5\": 2, \"7\": 4, \"3\": 1}, \"5\": {\"5\": 83, \"11\": 12, \"7\": 38, \"3\": 14, \"13\": 65, \"4\": 20, \"0\": 1, \"8\": 4, \"2\": 1, \"14\": 2}, \"15\": {\"15\": 240}, \"3\": {\"3\": 233, \"13\": 3, \"5\": 2, \"8\": 1, \"14\": 1}, \"12\": {\"12\": 240}, \"7\": {\"7\": 159, \"5\": 24, \"11\": 5, \"4\": 35, \"14\": 2, \"13\": 11, \"0\": 3, \"8\": 1}, \"13\": {\"13\": 125, \"5\": 69, \"7\": 19, \"8\": 7, \"3\": 9, \"11\": 1, \"4\": 9, \"14\": 1}, \"6\": {\"6\": 240}, \"4\": {\"4\": 199, \"5\": 5, \"2\": 21, \"7\": 15}, \"9\": {\"9\": 240}}, \"ORACLE.run126\": {\"4\": {\"4\": 139, \"14\": 56, \"0\": 9, \"7\": 7, \"8\": 19, \"1\": 7, \"10\": 3}, \"12\": {\"12\": 240}, \"10\": {\"14\": 12, \"0\": 60, \"10\": 127, \"8\": 34, \"4\": 2, \"6\": 1, \"9\": 4}, \"0\": {\"0\": 96, \"10\": 53, \"8\": 33, \"14\": 34, \"6\": 2, \"4\": 18, \"7\": 1, \"2\": 1, \"9\": 1, \"15\": 1}, \"13\": {\"13\": 164, \"5\": 46, \"15\": 18, \"2\": 3, \"9\": 9}, \"9\": {\"9\": 132, \"15\": 86, \"6\": 20, \"8\": 1, \"0\": 1}, \"3\": {\"3\": 182, \"2\": 43, \"7\": 15}, \"2\": {\"5\": 28, \"7\": 37, \"2\": 94, \"3\": 71, \"8\": 3, \"9\": 1, \"15\": 5, \"13\": 1}, \"5\": {\"2\": 7, \"5\": 192, \"13\": 27, \"8\": 3, \"15\": 7, \"7\": 1, \"9\": 3}, \"14\": {\"4\": 73, \"1\": 14, \"14\": 110, \"10\": 12, \"0\": 25, \"8\": 6}, \"8\": {\"8\": 133, \"7\": 21, \"0\": 15, \"9\": 5, \"10\": 35, \"4\": 14, \"5\": 1, \"14\": 9, \"15\": 5, \"2\": 2}, \"7\": {\"7\": 171, \"2\": 26, \"3\": 17, \"8\": 13, \"4\": 11, \"0\": 2}, \"6\": {\"6\": 213, \"9\": 20, \"15\": 7}, \"11\": {\"11\": 240}, \"15\": {\"15\": 128, \"9\": 78, \"5\": 7, \"13\": 6, \"2\": 2, \"8\": 11, \"0\": 3, \"10\": 2, \"6\": 3}, \"1\": {\"1\": 206, \"14\": 16, \"4\": 15, \"10\": 2, \"7\": 1}}, \"ORACLE.run144\": {\"12\": {\"12\": 179, \"1\": 45, \"10\": 16}, \"7\": {\"7\": 168, \"2\": 35, \"9\": 32, \"6\": 5}, \"5\": {\"5\": 209, \"14\": 8, \"8\": 3, \"0\": 16, \"15\": 4}, \"15\": {\"15\": 205, \"14\": 10, \"5\": 5, \"0\": 14, \"8\": 6}, \"8\": {\"0\": 69, \"8\": 160, \"5\": 1, \"15\": 10}, \"2\": {\"2\": 190, \"7\": 32, \"10\": 6, \"1\": 10, \"3\": 1, \"12\": 1}, \"13\": {\"13\": 164, \"6\": 39, \"9\": 31, \"7\": 4, \"4\": 1, \"11\": 1}, \"4\": {\"4\": 181, \"14\": 59}, \"0\": {\"0\": 158, \"8\": 66, \"5\": 11, \"15\": 5}, \"6\": {\"9\": 22, \"6\": 182, \"13\": 31, \"7\": 5}, \"9\": {\"13\": 32, \"9\": 156, \"7\": 40, \"6\": 11, \"2\": 1}, \"11\": {\"11\": 230, \"13\": 7, \"6\": 3}, \"10\": {\"1\": 10, \"10\": 183, \"12\": 33, \"2\": 14}, \"14\": {\"14\": 149, \"4\": 72, \"15\": 15, \"5\": 4}, \"1\": {\"3\": 15, \"1\": 152, \"10\": 12, \"12\": 53, \"2\": 8}, \"3\": {\"3\": 229, \"1\": 9, \"12\": 1, \"2\": 1}}, \"Wisig_3\": {\"109\": {\"109\": 8, \"79\": 1, \"33\": 1, \"29\": 1, \"82\": 1}, \"127\": {\"127\": 7, \"41\": 3, \"47\": 1, \"77\": 1}, \"14\": {\"14\": 6, \"107\": 1, \"45\": 1, \"115\": 2, \"20\": 2}, \"7\": {\"24\": 2, \"7\": 5, \"0\": 2, \"35\": 1, \"101\": 1, \"58\": 1}, \"129\": {\"129\": 6, \"20\": 2, \"49\": 1, \"108\": 1, \"29\": 1, \"82\": 1}, \"57\": {\"57\": 12}, \"84\": {\"44\": 2, \"84\": 7, \"32\": 1, \"86\": 1, \"49\": 1}, \"114\": {\"114\": 8, \"50\": 1, \"40\": 1, \"1\": 2}, \"44\": {\"44\": 8, \"109\": 1, \"53\": 1, \"102\": 1, \"29\": 1}, \"21\": {\"63\": 2, \"21\": 4, \"86\": 1, \"39\": 1, \"117\": 2, \"81\": 2}, \"46\": {\"46\": 11, \"85\": 1}, \"100\": {\"100\": 5, \"107\": 2, \"53\": 2, \"76\": 1, \"62\": 1, \"16\": 1}, \"63\": {\"63\": 5, \"24\": 1, \"113\": 2, \"6\": 1, \"47\": 1, \"2\": 1, \"54\": 1}, \"24\": {\"127\": 2, \"54\": 1, \"101\": 1, \"106\": 2, \"4\": 1, \"68\": 1, \"86\": 1, \"24\": 1, \"3\": 1, \"66\": 1}, \"107\": {\"107\": 11, \"14\": 1}, \"35\": {\"84\": 1, \"24\": 1, \"10\": 1, \"111\": 1, \"65\": 1, \"95\": 1, \"35\": 3, \"11\": 1}, \"81\": {\"81\": 12}, \"64\": {\"64\": 10, \"26\": 1, \"119\": 1}, \"59\": {\"59\": 7, \"97\": 1, \"36\": 1, \"101\": 1, \"73\": 1, \"10\": 1}, \"33\": {\"80\": 1, \"33\": 9, \"69\": 1, \"116\": 1}, \"34\": {\"34\": 4, \"15\": 2, \"60\": 2, \"0\": 1, \"58\": 1, \"6\": 2}, \"36\": {\"36\": 3, \"34\": 1, \"106\": 2, \"95\": 3, \"47\": 1, \"6\": 1, \"3\": 1}, \"79\": {\"79\": 10, \"20\": 1, \"116\": 1}, \"80\": {\"80\": 10, \"31\": 1, \"102\": 1}, \"77\": {\"77\": 12}, \"22\": {\"22\": 6, \"87\": 1, \"46\": 2, \"38\": 1, \"66\": 2}, \"124\": {\"57\": 4, \"124\": 6, \"74\": 1, \"66\": 1}, \"2\": {\"2\": 10, \"96\": 2}, \"87\": {\"87\": 8, \"67\": 1, \"49\": 1, \"107\": 2}, \"105\": {\"105\": 12}, \"95\": {\"59\": 1, \"95\": 9, \"10\": 2}, \"43\": {\"43\": 10, \"79\": 1, \"102\": 1}, \"56\": {\"8\": 1, \"128\": 1, \"56\": 3, \"91\": 2, \"98\": 1, \"124\": 2}, \"18\": {\"18\": 10, \"81\": 1, \"63\": 1}, \"85\": {\"85\": 12}, \"113\": {\"113\": 9, \"13\": 1, \"96\": 2}, \"97\": {\"59\": 1, \"97\": 7, \"101\": 3, \"94\": 1}, \"86\": {\"128\": 2, \"86\": 7, \"66\": 1, \"49\": 1, \"57\": 1}, \"128\": {\"110\": 2, \"105\": 1, \"38\": 1, \"103\": 1, \"112\": 1, \"1\": 1, \"128\": 3, \"32\": 2}, \"123\": {\"123\": 5, \"18\": 1, \"67\": 2, \"81\": 3, \"63\": 1}, \"8\": {\"128\": 2, \"4\": 2, \"8\": 3, \"32\": 1, \"83\": 1, \"41\": 1, \"55\": 1, \"114\": 1}, \"110\": {\"110\": 6, \"50\": 1, \"87\": 1, \"114\": 1, \"85\": 1, \"122\": 1, \"115\": 1}, \"126\": {\"21\": 4, \"117\": 1, \"126\": 2, \"96\": 1, \"61\": 4}, \"101\": {\"65\": 2, \"125\": 1, \"68\": 1, \"101\": 3, \"94\": 1, \"97\": 1, \"59\": 2, \"27\": 1}, \"115\": {\"115\": 10, \"107\": 1, \"14\": 1}, \"49\": {\"84\": 1, \"44\": 1, \"42\": 1, \"49\": 3, \"3\": 2, \"12\": 1, \"72\": 1, \"100\": 1, \"91\": 1}, \"45\": {\"45\": 12}, \"78\": {\"14\": 1, \"43\": 1, \"121\": 1, \"123\": 1, \"17\": 1, \"40\": 1, \"28\": 2, \"92\": 1, \"78\": 1, \"76\": 2}, \"65\": {\"65\": 4, \"111\": 2, \"125\": 2, \"36\": 1, \"81\": 1}, \"54\": {\"54\": 12}, \"31\": {\"31\": 7, \"69\": 1, \"89\": 1, \"90\": 1}, \"42\": {\"114\": 1, \"42\": 3, \"73\": 2, \"3\": 1, \"22\": 1, \"91\": 1, \"129\": 1, \"88\": 1, \"77\": 1}, \"68\": {\"68\": 10, \"72\": 2}, \"15\": {\"15\": 9, \"58\": 1, \"51\": 1, \"94\": 1}, \"69\": {\"69\": 12}, \"17\": {\"102\": 1, \"77\": 1, \"11\": 1, \"104\": 1, \"42\": 1, \"18\": 1, \"12\": 1, \"5\": 1, \"39\": 1, \"124\": 1}, \"73\": {\"73\": 9, \"77\": 1, \"36\": 1, \"125\": 1}, \"121\": {\"121\": 12}, \"102\": {\"69\": 1, \"102\": 10, \"80\": 1}, \"48\": {\"121\": 1, \"102\": 1, \"48\": 3, \"37\": 1, \"27\": 3, \"65\": 1, \"119\": 1, \"117\": 1}, \"23\": {\"121\": 2, \"55\": 2, \"74\": 1, \"113\": 1, \"128\": 2, \"61\": 2, \"8\": 1, \"71\": 1}, \"108\": {\"108\": 8, \"38\": 1, \"74\": 1, \"5\": 2}, \"53\": {\"53\": 9, \"69\": 1, \"60\": 1, \"76\": 1}, \"94\": {\"15\": 1, \"73\": 1, \"101\": 1, \"94\": 3, \"25\": 2, \"97\": 2}, \"41\": {\"23\": 2, \"55\": 2, \"127\": 1, \"83\": 1, \"32\": 1, \"41\": 2, \"42\": 1, \"112\": 1, \"86\": 1}, \"58\": {\"58\": 12}, \"29\": {\"29\": 8, \"84\": 1, \"82\": 2, \"44\": 1}, \"116\": {\"116\": 7, \"82\": 1, \"44\": 2, \"31\": 2}, \"60\": {\"40\": 1, \"60\": 4, \"20\": 1, \"122\": 1, \"28\": 2, \"62\": 2, \"76\": 1}, \"104\": {\"66\": 3, \"104\": 6, \"40\": 1, \"128\": 2}, \"106\": {\"106\": 10, \"101\": 1, \"7\": 1}, \"66\": {\"66\": 11, \"74\": 1}, \"47\": {\"47\": 6, \"3\": 2, \"4\": 1, \"83\": 3}, \"40\": {\"40\": 7, \"129\": 1, \"114\": 2, \"50\": 2}, \"82\": {\"82\": 11, \"115\": 1}, \"13\": {\"11\": 2, \"13\": 2, \"90\": 2, \"26\": 1, \"81\": 1, \"120\": 1, \"63\": 1, \"113\": 2}, \"19\": {\"9\": 1, \"19\": 1, \"115\": 3, \"105\": 2, \"62\": 1, \"28\": 2, \"57\": 1, \"55\": 1}, \"72\": {\"72\": 9, \"30\": 1, \"12\": 1, \"48\": 1}, \"9\": {\"9\": 5, \"8\": 2, \"56\": 2, \"104\": 1, \"128\": 1, \"127\": 1}, \"67\": {\"67\": 11, \"117\": 1}, \"11\": {\"11\": 11, \"88\": 1}, \"125\": {\"125\": 12}, \"76\": {\"76\": 6, \"100\": 1, \"53\": 1}, \"83\": {\"83\": 6, \"74\": 1, \"71\": 1, \"41\": 1, \"47\": 1, \"114\": 1, \"56\": 1}, \"74\": {\"74\": 7, \"54\": 1, \"105\": 2, \"124\": 2}, \"20\": {\"20\": 10, \"79\": 2}, \"119\": {\"119\": 12}, \"1\": {\"1\": 10, \"50\": 1, \"115\": 1}, \"16\": {\"16\": 12}, \"25\": {\"25\": 9, \"16\": 1, \"7\": 2}, \"90\": {\"90\": 5, \"31\": 3}, \"39\": {\"2\": 1, \"21\": 1, \"39\": 10}, \"28\": {\"115\": 2, \"28\": 9, \"29\": 1}, \"55\": {\"55\": 8, \"5\": 2, \"9\": 1, \"66\": 1}, \"117\": {\"117\": 9, \"63\": 1, \"123\": 1, \"2\": 1}, \"112\": {\"104\": 1, \"74\": 4, \"105\": 1, \"71\": 1, \"112\": 2, \"103\": 2, \"5\": 1}, \"38\": {\"38\": 5, \"108\": 1, \"122\": 1, \"105\": 2, \"22\": 1, \"19\": 2}, \"37\": {\"25\": 2, \"37\": 8, \"51\": 2}, \"120\": {\"120\": 11, \"13\": 1}, \"122\": {\"110\": 2, \"50\": 1, \"122\": 3, \"29\": 2, \"14\": 1, \"108\": 2, \"90\": 1}, \"50\": {\"50\": 10, \"110\": 1, \"114\": 1}, \"10\": {\"51\": 2, \"15\": 1, \"95\": 2, \"47\": 2, \"35\": 1, \"10\": 1, \"6\": 2, \"66\": 1}, \"5\": {\"5\": 9, \"71\": 1, \"46\": 1, \"66\": 1}, \"51\": {\"51\": 11, \"75\": 1}, \"3\": {\"98\": 1, \"39\": 1, \"3\": 4, \"103\": 1, \"47\": 1, \"127\": 1, \"83\": 1, \"64\": 1, \"5\": 1}, \"98\": {\"3\": 2, \"98\": 4, \"8\": 1, \"91\": 1, \"47\": 1, \"56\": 1, \"103\": 1, \"62\": 1}, \"70\": {\"20\": 1, \"49\": 1, \"109\": 2, \"99\": 1, \"70\": 1, \"107\": 1, \"23\": 1, \"76\": 2, \"112\": 1, \"14\": 1}, \"96\": {\"96\": 8, \"2\": 2, \"119\": 1, \"113\": 1}, \"12\": {\"12\": 5, \"124\": 2, \"8\": 1, \"52\": 1, \"72\": 1, \"3\": 1, \"56\": 1}, \"99\": {\"105\": 1, \"99\": 9, \"46\": 2}, \"52\": {\"52\": 10, \"98\": 1, \"12\": 1}, \"71\": {\"71\": 7, \"124\": 1, \"19\": 1, \"2\": 1, \"66\": 2}, \"89\": {\"89\": 11, \"93\": 1}, \"0\": {\"125\": 2, \"7\": 2, \"0\": 5, \"68\": 1, \"94\": 2}, \"4\": {\"8\": 3, \"71\": 1, \"99\": 2, \"65\": 1, \"4\": 1, \"68\": 1, \"128\": 1, \"114\": 2}, \"93\": {\"93\": 12}, \"6\": {\"6\": 8, \"25\": 2}, \"75\": {\"75\": 11, \"54\": 1}, \"62\": {\"62\": 11, \"84\": 1}, \"103\": {\"103\": 11, \"85\": 1}, \"30\": {\"56\": 1, \"27\": 1, \"36\": 1, \"30\": 2, \"12\": 2, \"91\": 1, \"77\": 1, \"97\": 1, \"85\": 1, \"105\": 1}, \"91\": {\"91\": 7, \"98\": 2, \"104\": 1, \"42\": 2}, \"27\": {\"91\": 1, \"56\": 1, \"86\": 1, \"51\": 2, \"47\": 1, \"6\": 3, \"24\": 1, \"41\": 1, \"4\": 1}, \"26\": {\"26\": 12}, \"61\": {\"61\": 10, \"81\": 2}, \"118\": {\"120\": 2, \"93\": 1, \"118\": 8, \"92\": 1}, \"92\": {\"93\": 2, \"89\": 1, \"92\": 5, \"116\": 1, \"102\": 2, \"120\": 1}, \"111\": {\"111\": 9, \"78\": 1, \"59\": 1, \"0\": 1}, \"32\": {\"32\": 1, \"84\": 1, \"103\": 1, \"53\": 1, \"88\": 2, \"87\": 2, \"128\": 3, \"102\": 1}, \"88\": {\"50\": 1, \"88\": 3, \"1\": 1, \"118\": 1, \"117\": 2, \"39\": 1, \"109\": 1}}, \"Wisig_4\": {\"28\": {\"28\": 9, \"45\": 1, \"83\": 1, \"122\": 1}, \"4\": {\"89\": 1, \"4\": 3, \"82\": 1, \"95\": 1, \"1\": 1, \"103\": 1, \"56\": 1, \"17\": 1, \"23\": 2}, \"72\": {\"31\": 1, \"72\": 10, \"110\": 1}, \"111\": {\"111\": 6, \"4\": 1, \"17\": 1, \"12\": 1, \"9\": 1, \"86\": 1, \"127\": 1}, \"108\": {\"108\": 4, \"28\": 1, \"122\": 2, \"93\": 1, \"110\": 1, \"64\": 1, \"32\": 2}, \"43\": {\"43\": 5, \"14\": 1, \"115\": 1, \"79\": 1, \"22\": 1, \"99\": 1}, \"96\": {\"90\": 2, \"96\": 7, \"38\": 1, \"11\": 1, \"84\": 1}, \"89\": {\"89\": 9, \"124\": 1, \"119\": 1, \"17\": 1}, \"31\": {\"72\": 2, \"31\": 9, \"50\": 1}, \"45\": {\"45\": 12}, \"2\": {\"2\": 11, \"5\": 1}, \"114\": {\"114\": 8, \"40\": 1, \"112\": 1, \"32\": 2}, \"11\": {\"45\": 1, \"90\": 1, \"11\": 5, \"116\": 1, \"99\": 1, \"109\": 3}, \"12\": {\"12\": 8, \"55\": 2, \"101\": 1, \"111\": 1}, \"14\": {\"14\": 9, \"28\": 1, \"79\": 1, \"119\": 1}, \"90\": {\"90\": 8, \"84\": 2, \"66\": 1, \"38\": 1}, \"10\": {\"3\": 1, \"54\": 1, \"124\": 1, \"10\": 4, \"27\": 1, \"58\": 2, \"129\": 1, \"104\": 1}, \"63\": {\"64\": 1, \"63\": 10, \"70\": 1}, \"85\": {\"4\": 1, \"123\": 1, \"85\": 8, \"87\": 1, \"95\": 1}, \"64\": {\"64\": 12}, \"82\": {\"82\": 2, \"95\": 1, \"4\": 1, \"48\": 1, \"8\": 1, \"63\": 1, \"37\": 1, \"128\": 2, \"17\": 1, \"85\": 1}, \"58\": {\"58\": 11, \"94\": 1}, \"3\": {\"3\": 8, \"28\": 1, \"129\": 1, \"114\": 1, \"100\": 1}, \"54\": {\"54\": 12}, \"121\": {\"121\": 6, \"63\": 1, \"67\": 2, \"123\": 1, \"2\": 2}, \"42\": {\"98\": 2, \"82\": 1, \"73\": 1, \"31\": 1, \"42\": 3, \"72\": 1, \"37\": 1, \"28\": 1, \"129\": 1}, \"98\": {\"4\": 1, \"85\": 1, \"70\": 2, \"37\": 1, \"98\": 3, \"27\": 1, \"103\": 1, \"42\": 1, \"23\": 1}, \"123\": {\"63\": 1, \"123\": 10, \"16\": 1}, \"91\": {\"91\": 7, \"54\": 1, \"103\": 2, \"127\": 2}, \"66\": {\"66\": 8, \"102\": 1, \"90\": 1, \"44\": 2}, \"102\": {\"102\": 11, \"74\": 1}, \"122\": {\"122\": 5, \"118\": 2, \"74\": 2, \"72\": 1, \"18\": 1, \"99\": 1}, \"1\": {\"1\": 8, \"114\": 3, \"87\": 1}, \"15\": {\"15\": 5, \"9\": 2, \"6\": 1, \"25\": 2, \"91\": 1, \"58\": 1}, \"97\": {\"1\": 1, \"68\": 1, \"54\": 2, \"9\": 1, \"97\": 2, \"83\": 1, \"29\": 1, \"40\": 1, \"47\": 1, \"42\": 1}, \"75\": {\"75\": 11, \"25\": 1}, \"95\": {\"1\": 1, \"68\": 1, \"95\": 3, \"53\": 2, \"85\": 2, \"8\": 1, \"86\": 1, \"42\": 1}, \"57\": {\"102\": 2, \"57\": 8, \"109\": 1, \"48\": 1}, \"68\": {\"68\": 8, \"127\": 1, \"91\": 1, \"86\": 1, \"7\": 1}, \"125\": {\"125\": 8, \"101\": 2, \"7\": 2}, \"62\": {\"62\": 9, \"22\": 1}, \"27\": {\"120\": 2, \"37\": 1, \"21\": 1, \"27\": 3, \"100\": 1, \"105\": 1, \"124\": 1, \"115\": 1, \"126\": 1}, \"120\": {\"120\": 10, \"103\": 1, \"64\": 1}, \"26\": {\"26\": 7, \"35\": 1, \"117\": 2, \"61\": 1, \"65\": 1}, \"55\": {\"55\": 8, \"91\": 1, \"106\": 1, \"0\": 1, \"86\": 1}, \"71\": {\"120\": 2, \"71\": 5, \"26\": 1, \"124\": 2, \"42\": 2}, \"22\": {\"120\": 1, \"22\": 10, \"1\": 1}, \"99\": {\"99\": 7, \"28\": 2, \"21\": 1, \"43\": 1, \"45\": 1}, \"84\": {\"84\": 5, \"85\": 1, \"90\": 3, \"92\": 1, \"35\": 1, \"96\": 1}, \"37\": {\"37\": 12}, \"83\": {\"83\": 7, \"110\": 1, \"115\": 1, \"79\": 1, \"33\": 1, \"73\": 1}, \"46\": {\"46\": 10, \"40\": 1, \"119\": 1}, \"35\": {\"35\": 7, \"26\": 1, \"61\": 1, \"78\": 1, \"65\": 2}, \"13\": {\"13\": 12}, \"53\": {\"53\": 10, \"61\": 1, \"21\": 1}, \"127\": {\"9\": 2, \"127\": 3, \"52\": 2, \"101\": 2, \"111\": 1, \"53\": 2}, \"69\": {\"48\": 1, \"69\": 10, \"123\": 1}, \"48\": {\"48\": 5, \"113\": 2, \"121\": 2, \"2\": 2, \"85\": 1}, \"16\": {\"16\": 11, \"67\": 1}, \"0\": {\"9\": 1, \"89\": 1, \"104\": 2, \"77\": 1, \"0\": 1, \"55\": 2, \"64\": 1, \"42\": 1, \"37\": 2}, \"8\": {\"89\": 1, \"48\": 1, \"8\": 2, \"56\": 2, \"112\": 2, \"53\": 2, \"95\": 1, \"61\": 1}, \"9\": {\"9\": 7, \"53\": 1, \"106\": 2, \"77\": 1, \"12\": 1}, \"115\": {\"43\": 2, \"46\": 1, \"115\": 5, \"119\": 1, \"76\": 1, \"72\": 1, \"64\": 1}, \"70\": {\"120\": 1, \"46\": 1, \"69\": 1, \"73\": 1, \"76\": 1, \"112\": 1, \"37\": 1, \"70\": 3, \"43\": 1, \"118\": 1}, \"119\": {\"119\": 12}, \"59\": {\"59\": 9, \"47\": 2, \"15\": 1}, \"52\": {\"95\": 1, \"53\": 1, \"52\": 8, \"127\": 1, \"85\": 1}, \"60\": {\"120\": 1, \"70\": 1, \"124\": 1, \"66\": 1, \"60\": 4, \"114\": 2, \"119\": 2}, \"44\": {\"44\": 8, \"92\": 1, \"16\": 1, \"48\": 1, \"69\": 1}, \"51\": {\"6\": 1, \"44\": 1, \"111\": 2, \"47\": 1, \"56\": 1, \"9\": 1, \"25\": 1, \"68\": 1, \"51\": 1, \"36\": 1, \"53\": 1}, \"6\": {\"6\": 6, \"59\": 1, \"34\": 1, \"58\": 3, \"10\": 1}, \"73\": {\"45\": 1, \"50\": 2, \"73\": 6, \"108\": 1, \"31\": 2}, \"78\": {\"19\": 1, \"92\": 1, \"128\": 2, \"119\": 3, \"93\": 1, \"114\": 1, \"45\": 1, \"73\": 1, \"87\": 1}, \"92\": {\"92\": 10, \"44\": 1, \"16\": 1}, \"20\": {\"20\": 8, \"92\": 1, \"126\": 1, \"90\": 2}, \"17\": {\"17\": 12}, \"74\": {\"74\": 8, \"73\": 1, \"92\": 2, \"102\": 1}, \"19\": {\"17\": 1, \"74\": 1, \"31\": 3, \"93\": 1, \"122\": 1, \"71\": 1, \"96\": 1, \"79\": 1, \"112\": 1, \"84\": 1}, \"50\": {\"50\": 9, \"118\": 2, \"31\": 1}, \"34\": {\"70\": 1, \"17\": 1, \"25\": 2, \"34\": 1, \"6\": 2, \"29\": 2, \"89\": 1, \"10\": 2}, \"104\": {\"104\": 5, \"19\": 1, \"129\": 2}, \"33\": {\"33\": 5, \"73\": 1, \"118\": 2, \"109\": 1, \"31\": 1, \"39\": 1, \"69\": 1}, \"5\": {\"5\": 7, \"33\": 1, \"116\": 2, \"74\": 2}, \"7\": {\"7\": 4, \"125\": 1, \"41\": 1, \"128\": 1, \"77\": 1, \"68\": 2, \"23\": 1, \"120\": 1}, \"29\": {\"29\": 12}, \"25\": {\"25\": 10, \"29\": 1, \"58\": 1}, \"124\": {\"124\": 9, \"71\": 1, \"28\": 1, \"62\": 1}, \"117\": {\"35\": 1, \"117\": 8, \"26\": 1, \"81\": 1, \"61\": 1}, \"88\": {\"35\": 2, \"1\": 1, \"117\": 2, \"8\": 1, \"120\": 1, \"67\": 1, \"119\": 2, \"113\": 2}, \"61\": {\"61\": 10, \"26\": 1, \"81\": 1}, \"86\": {\"89\": 2, \"0\": 2, \"41\": 1, \"86\": 3, \"9\": 1, \"56\": 1, \"49\": 1, \"53\": 1}, \"116\": {\"116\": 9, \"20\": 1, \"79\": 2}, \"24\": {\"10\": 2, \"36\": 3, \"111\": 1, \"24\": 2, \"54\": 2, \"128\": 1, \"25\": 1}, \"128\": {\"124\": 2, \"27\": 1, \"21\": 1, \"100\": 1, \"112\": 1, \"40\": 2, \"128\": 4}, \"101\": {\"101\": 5, \"52\": 1, \"56\": 2, \"111\": 2, \"12\": 1, \"127\": 1}, \"65\": {\"65\": 9, \"73\": 1}, \"36\": {\"10\": 1, \"127\": 1, \"36\": 8, \"101\": 1, \"53\": 1}, \"21\": {\"61\": 2, \"21\": 8, \"81\": 1, \"63\": 1}, \"106\": {\"106\": 8, \"52\": 2, \"77\": 1, \"8\": 1}, \"118\": {\"33\": 2, \"26\": 1, \"122\": 1, \"79\": 2, \"118\": 3, \"110\": 1, \"35\": 1, \"60\": 1}, \"113\": {\"117\": 2, \"113\": 6, \"17\": 1, \"81\": 2, \"123\": 1}, \"40\": {\"19\": 1, \"40\": 9, \"87\": 2}, \"93\": {\"90\": 2, \"93\": 4, \"109\": 2}, \"94\": {\"94\": 5, \"103\": 1, \"29\": 1, \"25\": 1, \"51\": 1, \"58\": 2, \"10\": 1}, \"103\": {\"8\": 2, \"86\": 1, \"85\": 1, \"129\": 1, \"103\": 2, \"5\": 1, \"98\": 1, \"61\": 1, \"4\": 1, \"54\": 1}, \"110\": {\"118\": 1, \"122\": 1, \"110\": 7, \"72\": 1, \"64\": 1, \"60\": 1}, \"56\": {\"56\": 7, \"17\": 1, \"70\": 1, \"7\": 3}, \"39\": {\"39\": 9, \"78\": 1, \"21\": 1, \"26\": 1}, \"109\": {\"33\": 1, \"66\": 1, \"121\": 1, \"109\": 5, \"20\": 1, \"116\": 1, \"11\": 1, \"93\": 1}, \"67\": {\"74\": 2, \"121\": 2, \"110\": 1, \"39\": 2, \"66\": 1, \"14\": 1, \"63\": 1, \"83\": 1, \"81\": 1}, \"129\": {\"73\": 1, \"17\": 1, \"128\": 2, \"129\": 3, \"49\": 1, \"42\": 1, \"69\": 1, \"93\": 2}, \"30\": {\"30\": 5, \"111\": 1, \"47\": 1, \"125\": 1, \"36\": 1, \"9\": 1, \"15\": 2}, \"126\": {\"126\": 11, \"18\": 1}, \"87\": {\"21\": 1, \"87\": 4, \"115\": 1, \"107\": 1, \"71\": 1, \"3\": 1, \"73\": 1, \"1\": 1, \"76\": 1}, \"112\": {\"112\": 12}, \"100\": {\"87\": 1, \"76\": 1, \"100\": 6, \"107\": 1, \"14\": 1, \"32\": 2}, \"79\": {\"79\": 8, \"118\": 2}, \"81\": {\"81\": 9, \"121\": 1, \"67\": 1, \"61\": 1}, \"76\": {\"76\": 10}, \"47\": {\"47\": 9, \"100\": 1, \"59\": 2}, \"77\": {\"77\": 7, \"86\": 1, \"49\": 1, \"68\": 2, \"9\": 1}, \"23\": {\"103\": 1, \"49\": 1, \"41\": 1, \"123\": 2, \"77\": 2, \"23\": 1, \"121\": 1, \"4\": 1, \"21\": 1, \"53\": 1}, \"18\": {\"18\": 10, \"63\": 2}, \"49\": {\"84\": 2, \"23\": 2, \"102\": 2, \"129\": 1, \"90\": 1, \"49\": 2, \"86\": 1, \"53\": 1}, \"41\": {\"27\": 1, \"41\": 3, \"49\": 1, \"47\": 1, \"23\": 2, \"8\": 1, \"112\": 1, \"12\": 1, \"42\": 1}, \"32\": {\"87\": 2, \"76\": 2, \"129\": 1, \"32\": 4, \"45\": 1, \"1\": 1, \"14\": 1}, \"107\": {\"107\": 10}, \"80\": {\"80\": 10, \"38\": 1, \"18\": 1}, \"105\": {\"105\": 7, \"87\": 1, \"112\": 1, \"113\": 1}, \"38\": {\"38\": 9, \"90\": 1}}, \"Wisig_1\": {\"108\": {\"79\": 4, \"108\": 2, \"74\": 1, \"114\": 2, \"4\": 1}, \"40\": {\"40\": 10, \"5\": 2}, \"68\": {\"70\": 1, \"4\": 1, \"24\": 1, \"68\": 5, \"41\": 1, \"34\": 1, \"31\": 1, \"101\": 1}, \"23\": {\"3\": 1, \"22\": 3, \"1\": 1, \"88\": 1, \"89\": 1, \"33\": 1, \"56\": 1, \"69\": 1, \"30\": 1, \"127\": 1}, \"26\": {\"79\": 1, \"26\": 9, \"100\": 2}, \"64\": {\"64\": 10, \"62\": 2}, \"22\": {\"22\": 8, \"46\": 1, \"50\": 2, \"79\": 1}, \"3\": {\"102\": 2, \"3\": 7, \"109\": 1, \"66\": 2}, \"4\": {\"89\": 1, \"108\": 1, \"83\": 2, \"29\": 1, \"31\": 1, \"35\": 1, \"4\": 2, \"106\": 1, \"113\": 1, \"86\": 1}, \"70\": {\"79\": 1, \"89\": 1, \"77\": 2, \"70\": 3, \"80\": 2, \"45\": 1, \"29\": 2}, \"57\": {\"57\": 10, \"108\": 1, \"9\": 1}, \"79\": {\"79\": 8, \"62\": 1, \"38\": 2, \"22\": 1}, \"9\": {\"40\": 1, \"108\": 1, \"73\": 2, \"9\": 2, \"105\": 1, \"57\": 2, \"128\": 1, \"103\": 2}, \"89\": {\"89\": 5, \"108\": 1, \"74\": 2, \"86\": 1, \"128\": 1, \"29\": 2}, \"110\": {\"110\": 11, \"97\": 1}, \"102\": {\"102\": 9, \"116\": 1, \"69\": 2}, \"31\": {\"68\": 1, \"47\": 1, \"31\": 7, \"101\": 1, \"17\": 2}, \"58\": {\"58\": 12}, \"47\": {\"57\": 1, \"47\": 9, \"72\": 2}, \"24\": {\"68\": 1, \"47\": 1, \"73\": 2, \"44\": 1, \"93\": 1, \"89\": 2, \"103\": 3, \"31\": 1}, \"19\": {\"83\": 1, \"115\": 1, \"19\": 5, \"73\": 1, \"22\": 1, \"126\": 3}, \"11\": {\"11\": 11, \"67\": 1}, \"52\": {\"52\": 9, \"110\": 2, \"27\": 1}, \"17\": {\"57\": 1, \"17\": 5, \"24\": 1, \"73\": 1, \"107\": 1, \"48\": 1, \"106\": 1, \"5\": 1}, \"25\": {\"25\": 10, \"11\": 1, \"109\": 1}, \"69\": {\"69\": 10, \"102\": 2}, \"96\": {\"96\": 11, \"120\": 1}, \"109\": {\"25\": 2, \"11\": 1, \"67\": 1, \"3\": 1, \"50\": 2, \"66\": 1, \"82\": 2, \"109\": 1, \"99\": 1}, \"115\": {\"115\": 12}, \"83\": {\"83\": 5, \"44\": 2, \"75\": 1, \"67\": 2, \"124\": 1, \"103\": 1}, \"84\": {\"84\": 11, \"28\": 1}, \"119\": {\"119\": 9, \"13\": 1}, \"122\": {\"122\": 8, \"84\": 1, \"104\": 1}, \"99\": {\"99\": 11, \"11\": 1}, \"1\": {\"1\": 12}, \"74\": {\"74\": 10, \"23\": 1, \"68\": 1}, \"85\": {\"85\": 9, \"53\": 1, \"32\": 2}, \"127\": {\"127\": 9, \"88\": 1, \"110\": 1, \"111\": 1}, \"111\": {\"88\": 1, \"111\": 7, \"127\": 2, \"110\": 1, \"10\": 1}, \"53\": {\"53\": 4, \"27\": 2, \"94\": 3, \"0\": 1, \"32\": 2}, \"88\": {\"89\": 1, \"23\": 1, \"36\": 2, \"37\": 1, \"88\": 1, \"3\": 2, \"108\": 2, \"107\": 1, \"10\": 1}, \"65\": {\"119\": 3, \"100\": 2, \"64\": 1, \"118\": 1, \"13\": 1, \"95\": 1, \"104\": 1}, \"7\": {\"84\": 1, \"74\": 1, \"54\": 3, \"86\": 1, \"7\": 3, \"80\": 1, \"23\": 1, \"67\": 1}, \"16\": {\"119\": 1, \"16\": 8, \"18\": 3}, \"128\": {\"128\": 1, \"104\": 1, \"61\": 3, \"105\": 1, \"79\": 1, \"62\": 1, \"1\": 2, \"19\": 1, \"126\": 1}, \"34\": {\"68\": 1, \"129\": 1, \"98\": 2, \"70\": 1, \"122\": 1, \"80\": 1, \"74\": 1, \"110\": 1, \"124\": 1, \"49\": 1, \"128\": 1}, \"129\": {\"118\": 1, \"128\": 1, \"33\": 2, \"129\": 2, \"103\": 1, \"61\": 1, \"20\": 1, \"47\": 1, \"54\": 1, \"117\": 1}, \"43\": {\"43\": 7, \"83\": 2, \"54\": 1, \"38\": 1, \"28\": 1}, \"92\": {\"92\": 12}, \"28\": {\"28\": 11, \"54\": 1}, \"27\": {\"53\": 1, \"27\": 3, \"101\": 1, \"30\": 2, \"71\": 1, \"52\": 2, \"6\": 2}, \"114\": {\"114\": 12}, \"73\": {\"28\": 1, \"129\": 1, \"73\": 9, \"84\": 1}, \"0\": {\"27\": 1, \"68\": 1, \"53\": 2, \"125\": 2, \"0\": 5, \"71\": 1}, \"104\": {\"104\": 12}, \"118\": {\"118\": 9, \"2\": 1, \"39\": 2}, \"41\": {\"68\": 2, \"41\": 5, \"86\": 1, \"93\": 2, \"24\": 2}, \"49\": {\"5\": 2, \"49\": 2, \"72\": 1, \"32\": 1, \"105\": 1, \"93\": 1, \"128\": 1, \"127\": 1, \"52\": 1, \"47\": 1}, \"14\": {\"14\": 12}, \"46\": {\"33\": 1, \"104\": 1, \"76\": 1, \"85\": 2, \"46\": 2, \"51\": 1, \"22\": 2, \"1\": 1, \"62\": 1}, \"33\": {\"33\": 12}, \"76\": {\"76\": 8, \"64\": 2, \"79\": 1, \"115\": 1}, \"125\": {\"125\": 9, \"55\": 1, \"21\": 1, \"0\": 1}, \"86\": {\"40\": 1, \"86\": 5, \"72\": 2, \"103\": 2}, \"66\": {\"66\": 8, \"61\": 2, \"33\": 1, \"51\": 1}, \"5\": {\"5\": 8, \"105\": 3, \"40\": 1}, \"117\": {\"117\": 11, \"95\": 1}, \"75\": {\"75\": 9, \"111\": 1, \"56\": 1, \"88\": 1}, \"61\": {\"61\": 11, \"109\": 1}, \"50\": {\"50\": 8, \"81\": 2, \"100\": 1, \"11\": 1}, \"67\": {\"67\": 8, \"82\": 1, \"81\": 1}, \"18\": {\"18\": 10, \"13\": 1, \"16\": 1}, \"98\": {\"98\": 10, \"34\": 1, \"31\": 1}, \"55\": {\"55\": 9, \"41\": 1}, \"32\": {\"32\": 5, \"46\": 1, \"56\": 1, \"49\": 1, \"27\": 1, \"15\": 1, \"53\": 2}, \"120\": {\"120\": 11, \"38\": 1}, \"97\": {\"55\": 1, \"31\": 1, \"34\": 1, \"97\": 3, \"35\": 4, \"110\": 1, \"101\": 1}, \"126\": {\"120\": 2, \"76\": 1, \"122\": 1, \"126\": 6, \"84\": 1, \"54\": 1}, \"45\": {\"76\": 1, \"109\": 1, \"45\": 4, \"115\": 1, \"20\": 2, \"67\": 1, \"79\": 1, \"22\": 1}, \"78\": {\"122\": 2, \"43\": 2, \"54\": 2, \"80\": 1, \"113\": 1, \"79\": 1, \"78\": 1}, \"100\": {\"100\": 12}, \"107\": {\"77\": 1, \"107\": 6, \"93\": 1, \"17\": 2, \"89\": 1, \"41\": 1}, \"93\": {\"34\": 2, \"98\": 2, \"48\": 1, \"24\": 3, \"93\": 1, \"72\": 1, \"55\": 2}, \"77\": {\"77\": 9, \"57\": 1, \"9\": 2}, \"63\": {\"63\": 11, \"118\": 1}, \"112\": {\"112\": 10, \"10\": 2}, \"113\": {\"113\": 12}, \"103\": {\"86\": 2, \"103\": 8}, \"71\": {\"71\": 9, \"36\": 1, \"37\": 1, \"30\": 1}, \"30\": {\"30\": 4, \"85\": 1, \"112\": 1, \"52\": 1, \"37\": 1, \"127\": 1, \"36\": 1, \"4\": 2}, \"90\": {\"90\": 10, \"66\": 2}, \"37\": {\"92\": 1, \"85\": 1, \"37\": 9, \"59\": 1}, \"60\": {\"118\": 2, \"103\": 1, \"49\": 1, \"60\": 3, \"117\": 1, \"73\": 1, \"100\": 1, \"67\": 2}, \"15\": {\"85\": 1, \"71\": 1, \"6\": 3, \"94\": 1, \"37\": 2, \"15\": 2, \"56\": 1, \"51\": 1}, \"39\": {\"2\": 2, \"39\": 8, \"95\": 1, \"18\": 1}, \"72\": {\"72\": 12}, \"54\": {\"54\": 10, \"28\": 1, \"43\": 1}, \"35\": {\"49\": 1, \"41\": 1, \"72\": 1, \"91\": 4, \"106\": 2, \"125\": 1, \"35\": 1, \"17\": 1}, \"2\": {\"96\": 1, \"63\": 1, \"121\": 2, \"2\": 6, \"26\": 2}, \"94\": {\"0\": 2, \"88\": 1, \"94\": 5, \"6\": 2, \"4\": 1, \"30\": 1}, \"42\": {\"25\": 2, \"42\": 3, \"87\": 2, \"100\": 2, \"69\": 1, \"109\": 1, \"84\": 1}, \"81\": {\"81\": 11, \"46\": 1}, \"8\": {\"8\": 11, \"29\": 1}, \"87\": {\"74\": 1, \"87\": 5, \"8\": 2, \"40\": 2, \"70\": 1, \"129\": 1}, \"6\": {\"6\": 7, \"94\": 2, \"111\": 1, \"75\": 1, \"53\": 1}, \"36\": {\"6\": 2, \"36\": 7, \"37\": 2, \"94\": 1}, \"91\": {\"91\": 10, \"35\": 2}, \"56\": {\"6\": 1, \"56\": 7, \"10\": 1, \"75\": 1, \"58\": 1, \"53\": 1}, \"80\": {\"80\": 7, \"42\": 1, \"128\": 3, \"10\": 1}, \"124\": {\"124\": 5, \"64\": 1, \"42\": 1, \"114\": 1, \"14\": 1, \"104\": 1}, \"44\": {\"44\": 12}, \"13\": {\"13\": 9, \"26\": 1, \"95\": 2}, \"10\": {\"59\": 2, \"36\": 2, \"52\": 2, \"70\": 1, \"55\": 1, \"127\": 1, \"10\": 1, \"13\": 1, \"58\": 1}, \"59\": {\"59\": 7, \"112\": 1, \"30\": 1, \"123\": 2, \"51\": 1}, \"95\": {\"16\": 1, \"95\": 10, \"13\": 1}, \"105\": {\"57\": 1, \"105\": 5, \"5\": 1, \"112\": 1, \"40\": 2, \"47\": 2}, \"101\": {\"101\": 8, \"31\": 1, \"89\": 1, \"47\": 2}, \"20\": {\"20\": 12}, \"48\": {\"106\": 2, \"101\": 2, \"93\": 1, \"48\": 3, \"35\": 2, \"107\": 1, \"123\": 1}, \"106\": {\"106\": 6, \"101\": 2, \"98\": 1, \"4\": 2, \"57\": 1}, \"51\": {\"51\": 10, \"58\": 1, \"15\": 1}, \"21\": {\"72\": 1, \"84\": 1, \"117\": 1, \"29\": 1, \"51\": 1, \"67\": 1, \"112\": 1, \"69\": 1, \"100\": 2, \"74\": 1, \"101\": 1}, \"123\": {\"123\": 11, \"113\": 1}, \"121\": {\"121\": 12}, \"38\": {\"38\": 9, \"8\": 2, \"115\": 1}, \"62\": {\"62\": 11, \"104\": 1}, \"29\": {\"29\": 12}, \"82\": {\"102\": 1, \"82\": 9, \"90\": 2}, \"116\": {\"102\": 1, \"116\": 10, \"3\": 1}, \"12\": {\"125\": 2, \"12\": 2, \"111\": 1, \"30\": 1, \"0\": 2}}, \"Wisig_2\": {\"91\": {\"12\": 2, \"91\": 4, \"0\": 1, \"29\": 1, \"127\": 1, \"10\": 1, \"128\": 2}, \"12\": {\"12\": 3, \"17\": 2, \"110\": 2, \"68\": 2, \"99\": 1, \"41\": 1, \"4\": 1}, \"101\": {\"97\": 1, \"101\": 5, \"91\": 1, \"79\": 2, \"24\": 1}, \"121\": {\"117\": 4, \"121\": 4, \"72\": 1, \"65\": 2, \"113\": 1}, \"118\": {\"88\": 1, \"118\": 5, \"87\": 2, \"84\": 1, \"46\": 3}, \"10\": {\"110\": 4, \"86\": 1, \"125\": 2, \"77\": 1, \"68\": 1, \"95\": 1, \"23\": 1, \"25\": 1}, \"117\": {\"117\": 12}, \"110\": {\"110\": 9, \"97\": 1, \"22\": 2}, \"97\": {\"97\": 4, \"88\": 1, \"125\": 1, \"106\": 2, \"51\": 2, \"30\": 1, \"28\": 1}, \"28\": {\"121\": 1, \"28\": 4, \"42\": 1, \"25\": 2, \"76\": 1, \"97\": 1, \"14\": 1, \"70\": 1}, \"88\": {\"121\": 1, \"88\": 1, \"13\": 1, \"18\": 1, \"109\": 2, \"89\": 2, \"57\": 1, \"83\": 1, \"118\": 2}, \"17\": {\"86\": 1, \"110\": 1, \"105\": 1, \"112\": 1, \"74\": 1, \"17\": 2, \"102\": 1, \"4\": 1, \"8\": 1, \"47\": 2}, \"126\": {\"126\": 5, \"118\": 1, \"67\": 1, \"46\": 4, \"44\": 1}, \"33\": {\"118\": 1, \"33\": 11}, \"86\": {\"86\": 12}, \"106\": {\"101\": 1, \"97\": 1, \"125\": 2, \"25\": 1, \"106\": 6, \"35\": 1}, \"54\": {\"54\": 12}, \"125\": {\"125\": 10, \"77\": 1, \"0\": 1}, \"83\": {\"83\": 12}, \"98\": {\"98\": 4, \"54\": 3, \"52\": 1, \"91\": 2, \"12\": 1, \"4\": 1}, \"11\": {\"11\": 4, \"124\": 2, \"5\": 1, \"112\": 1, \"114\": 1, \"43\": 1, \"40\": 1, \"4\": 1}, \"32\": {\"87\": 1, \"11\": 1, \"95\": 2, \"55\": 1, \"47\": 1, \"62\": 2, \"123\": 2, \"122\": 1, \"32\": 1}, \"42\": {\"87\": 1, \"11\": 1, \"67\": 3, \"63\": 1, \"44\": 3, \"42\": 1, \"80\": 1, \"84\": 1}, \"103\": {\"103\": 12}, \"87\": {\"83\": 2, \"46\": 1, \"88\": 1, \"87\": 4, \"109\": 1, \"33\": 1, \"100\": 1, \"90\": 1}, \"61\": {\"13\": 1, \"11\": 1, \"50\": 1, \"61\": 6, \"99\": 1, \"22\": 1, \"105\": 1}, \"13\": {\"13\": 9, \"48\": 1, \"57\": 1, \"72\": 1}, \"4\": {\"4\": 4, \"11\": 3, \"12\": 2, \"38\": 1, \"56\": 1, \"114\": 1}, \"15\": {\"15\": 7, \"97\": 1, \"75\": 1, \"58\": 1}, \"120\": {\"120\": 10, \"26\": 2}, \"80\": {\"80\": 12}, \"72\": {\"81\": 1, \"102\": 1, \"72\": 7, \"92\": 1}, \"64\": {\"64\": 11, \"76\": 1}, \"81\": {\"72\": 1, \"81\": 11}, \"102\": {\"102\": 12}, \"76\": {\"76\": 10, \"14\": 1, \"28\": 1}, \"49\": {\"53\": 2, \"110\": 1, \"107\": 1, \"68\": 2, \"41\": 1, \"108\": 1, \"61\": 1, \"21\": 1}, \"129\": {\"110\": 4, \"50\": 1, \"61\": 3, \"129\": 3, \"85\": 1}, \"89\": {\"89\": 9, \"31\": 1, \"126\": 1, \"90\": 1}, \"52\": {\"52\": 12}, \"35\": {\"35\": 6, \"15\": 1, \"79\": 3, \"106\": 2}, \"53\": {\"53\": 6, \"40\": 1, \"79\": 1, \"114\": 1, \"61\": 1, \"108\": 1, \"58\": 1}, \"112\": {\"105\": 2, \"112\": 3, \"43\": 1, \"91\": 1, \"78\": 1, \"129\": 1, \"3\": 2, \"66\": 1}, \"105\": {\"105\": 9, \"86\": 1, \"71\": 1, \"115\": 1}, \"100\": {\"100\": 12}, \"9\": {\"9\": 11, \"58\": 1}, \"82\": {\"100\": 1, \"82\": 11}, \"51\": {\"51\": 9, \"97\": 1, \"125\": 1, \"77\": 1}, \"21\": {\"21\": 11, \"117\": 1}, \"92\": {\"82\": 2, \"118\": 2, \"63\": 2, \"92\": 3, \"117\": 1, \"33\": 2}, \"69\": {\"69\": 11, \"109\": 1}, \"77\": {\"77\": 8, \"125\": 2, \"30\": 1, \"36\": 1}, \"50\": {\"50\": 8, \"84\": 1, \"62\": 1, \"129\": 2}, \"36\": {\"35\": 1, \"103\": 1, \"75\": 3, \"111\": 1, \"36\": 2, \"0\": 1, \"9\": 3}, \"16\": {\"16\": 9, \"88\": 1, \"20\": 1, \"26\": 1}, \"8\": {\"18\": 1, \"50\": 1, \"8\": 6, \"107\": 1, \"124\": 1, \"120\": 1, \"61\": 1}, \"127\": {\"127\": 10, \"122\": 1, \"91\": 1}, \"46\": {\"82\": 1, \"46\": 7, \"67\": 1, \"31\": 1}, \"84\": {\"46\": 2, \"44\": 2, \"84\": 6, \"92\": 2}, \"18\": {\"18\": 12}, \"123\": {\"123\": 10}, \"56\": {\"71\": 2, \"56\": 3, \"17\": 2, \"3\": 2, \"52\": 1, \"122\": 1, \"27\": 1}, \"26\": {\"26\": 10, \"81\": 2}, \"14\": {\"65\": 1, \"14\": 5, \"83\": 2, \"50\": 1, \"38\": 1, \"2\": 1, \"117\": 1}, \"109\": {\"87\": 1, \"109\": 4, \"119\": 1, \"102\": 1, \"69\": 1, \"120\": 1, \"116\": 1, \"100\": 2}, \"66\": {\"66\": 10, \"47\": 2}, \"24\": {\"71\": 1, \"66\": 1, \"30\": 1, \"110\": 1, \"5\": 1, \"41\": 1, \"97\": 1, \"122\": 1, \"124\": 2, \"22\": 2}, \"71\": {\"65\": 1, \"71\": 3, \"112\": 2, \"105\": 4, \"122\": 1, \"40\": 1}, \"65\": {\"65\": 8, \"75\": 1, \"26\": 1, \"121\": 1, \"51\": 1}, \"75\": {\"36\": 2, \"75\": 6, \"15\": 2, \"6\": 1, \"21\": 1}, \"111\": {\"56\": 1, \"111\": 8, \"0\": 1, \"94\": 1, \"127\": 1}, \"30\": {\"30\": 6, \"51\": 1, \"77\": 1, \"95\": 1, \"6\": 1, \"57\": 1, \"128\": 1}, \"85\": {\"85\": 11, \"1\": 1}, \"113\": {\"113\": 5, \"21\": 2, \"76\": 1, \"121\": 2}, \"45\": {\"45\": 8, \"1\": 2, \"64\": 1, \"92\": 1}, \"29\": {\"29\": 7, \"128\": 1, \"74\": 1, \"59\": 2, \"20\": 1}, \"20\": {\"20\": 11, \"65\": 1}, \"25\": {\"25\": 10, \"97\": 2}, \"0\": {\"0\": 5, \"12\": 1, \"111\": 2, \"91\": 1, \"41\": 1, \"36\": 1, \"98\": 1}, \"68\": {\"68\": 12}, \"119\": {\"119\": 10, \"116\": 1, \"90\": 1}, \"90\": {\"90\": 10, \"102\": 1, \"119\": 1}, \"38\": {\"38\": 11, \"60\": 1}, \"99\": {\"99\": 10, \"65\": 2}, \"1\": {\"1\": 12}, \"67\": {\"1\": 2, \"69\": 1, \"67\": 6, \"51\": 1, \"93\": 1, \"75\": 1}, \"63\": {\"63\": 12}, \"34\": {\"34\": 6, \"86\": 2, \"114\": 1, \"127\": 1, \"112\": 1, \"124\": 1}, \"108\": {\"40\": 1, \"4\": 1, \"105\": 1, \"19\": 1, \"108\": 4, \"129\": 1, \"43\": 2, \"124\": 1}, \"40\": {\"40\": 9, \"5\": 1, \"61\": 2}, \"47\": {\"43\": 2, \"127\": 1, \"47\": 6, \"64\": 2, \"55\": 1}, \"37\": {\"37\": 11, \"85\": 1}, \"78\": {\"90\": 1, \"96\": 1, \"26\": 1, \"78\": 1, \"66\": 2, \"93\": 1, \"50\": 1, \"102\": 1, \"122\": 1, \"100\": 1, \"120\": 1}, \"96\": {\"102\": 1, \"90\": 1, \"96\": 9, \"109\": 1}, \"43\": {\"78\": 1, \"21\": 1, \"44\": 2, \"42\": 2, \"43\": 1, \"62\": 1, \"126\": 1, \"67\": 1, \"73\": 1, \"37\": 1}, \"5\": {\"5\": 8, \"114\": 1, \"40\": 1}, \"124\": {\"124\": 11, \"122\": 1}, \"44\": {\"44\": 12}, \"41\": {\"41\": 9, \"104\": 1, \"54\": 1, \"99\": 1}, \"116\": {\"89\": 1, \"116\": 7, \"119\": 3, \"109\": 1}, \"19\": {\"43\": 1, \"64\": 1, \"19\": 6, \"123\": 2, \"47\": 2}, \"115\": {\"124\": 3, \"22\": 1, \"122\": 1, \"115\": 2, \"129\": 1, \"110\": 1, \"40\": 1, \"105\": 2}, \"95\": {\"95\": 9, \"112\": 1, \"2\": 1, \"124\": 1}, \"3\": {\"124\": 2, \"22\": 2, \"107\": 2, \"3\": 3, \"56\": 1}, \"59\": {\"127\": 1, \"59\": 5, \"104\": 1, \"128\": 2, \"98\": 1, \"91\": 2}, \"55\": {\"19\": 1, \"55\": 9, \"38\": 1, \"84\": 1}, \"70\": {\"37\": 1, \"48\": 1, \"70\": 2, \"85\": 1, \"93\": 2, \"60\": 1, \"19\": 1, \"55\": 1, \"33\": 1, \"108\": 1}, \"6\": {\"6\": 11, \"25\": 1}, \"2\": {\"2\": 12}, \"48\": {\"48\": 11, \"81\": 1}, \"23\": {\"117\": 1, \"105\": 1, \"107\": 1, \"39\": 1, \"121\": 1, \"3\": 1, \"65\": 1, \"112\": 1, \"26\": 2, \"23\": 1, \"10\": 1}, \"7\": {\"41\": 1, \"127\": 1, \"79\": 2, \"7\": 3, \"106\": 2, \"94\": 1, \"30\": 1, \"77\": 1}, \"122\": {\"105\": 2, \"40\": 2, \"114\": 1, \"122\": 4, \"3\": 1, \"107\": 1, \"56\": 1}, \"57\": {\"57\": 8, \"117\": 1, \"72\": 1, \"13\": 1, \"18\": 1}, \"39\": {\"39\": 2, \"48\": 3, \"113\": 1, \"13\": 1, \"57\": 1, \"88\": 2}, \"79\": {\"79\": 7, \"56\": 1, \"36\": 2, \"24\": 2}, \"27\": {\"79\": 2, \"27\": 4, \"58\": 2, \"128\": 1, \"15\": 1}, \"74\": {\"74\": 5, \"79\": 1, \"56\": 1, \"59\": 1, \"29\": 1, \"91\": 1, \"26\": 1, \"51\": 1}, \"73\": {\"73\": 11, \"14\": 1}, \"62\": {\"62\": 11, \"73\": 1}, \"107\": {\"107\": 12}, \"128\": {\"62\": 4, \"128\": 2, \"29\": 1, \"74\": 1, \"14\": 1, \"40\": 1, \"33\": 2}, \"60\": {\"73\": 3, \"83\": 1, \"60\": 5, \"118\": 1, \"44\": 1, \"70\": 1}, \"114\": {\"114\": 11, \"86\": 1}, \"22\": {\"115\": 1, \"22\": 8, \"40\": 1, \"50\": 1, \"5\": 1}, \"93\": {\"83\": 2, \"93\": 8, \"72\": 1, \"109\": 1}, \"94\": {\"94\": 5, \"59\": 1, \"30\": 2, \"77\": 2, \"20\": 1, \"68\": 1}, \"31\": {\"31\": 8, \"90\": 1, \"46\": 1}, \"104\": {\"104\": 8, \"8\": 1, \"108\": 1, \"12\": 2}, \"58\": {\"58\": 12}}}, \"per_domain_accuracy\": {\"ORACLE.run114\": {\"accuracy\": 0.8809895833333333, \"source?\": true}, \"ORACLE.run120\": {\"accuracy\": 0.8252604166666667, \"source?\": true}, \"ORACLE.run138\": {\"accuracy\": 0.7919270833333333, \"source?\": true}, \"ORACLE.run18\": {\"accuracy\": 0.8231770833333333, \"source?\": true}, \"ORACLE.run150\": {\"accuracy\": 0.8450520833333334, \"source?\": true}, \"ORACLE.run132\": {\"accuracy\": 0.8229166666666666, \"source?\": true}, \"ORACLE.run126\": {\"accuracy\": 0.6684895833333333, \"source?\": true}, \"ORACLE.run144\": {\"accuracy\": 0.75390625, \"source?\": true}, \"Wisig_3\": {\"accuracy\": 0.6087239583333334, \"source?\": false}, \"Wisig_4\": {\"accuracy\": 0.5794270833333334, \"source?\": false}, \"Wisig_1\": {\"accuracy\": 0.6184895833333334, \"source?\": false}, \"Wisig_2\": {\"accuracy\": 0.61328125, \"source?\": false}}}, \"history\": {\"epoch_indices\": [1, 2, 3, 4, 5, 6], \"train_label_loss\": [0.7745762394364214, 1.555972225703521, 0.5242566464197201, 0.4498082406630385, 0.4008278450013937, 0.3763983699698223], \"source_val_label_loss\": [87.59919738769531, 0.5597346425056458, 0.5639032125473022, 0.4939727485179901, 0.4197053909301758, 0.37322455644607544], \"target_val_label_loss\": [6462.9677734375, 278.502685546875, 363.17919921875, 735.3839721679688, 1080.7255859375, 997.1629638671875], \"source_val_acc_label\": [0.67451171875, 0.80146484375, 0.7953450520833333, 0.8258463541666666, 0.85322265625, 0.8729817708333333], \"target_val_acc_label\": [0.6456705729166666, 0.60498046875, 0.5470377604166666, 0.5732421875, 0.56005859375, 0.56689453125]}, \"dataset_metrics\": {\"source\": {\"train\": {\"n_unique_x\": 179200, \"n_unique_y\": 16, \"n_batch/episode\": 6720}, \"val\": {\"n_unique_x\": 38400, \"n_unique_y\": 16, \"n_batch/episode\": 960}, \"test\": {\"n_unique_x\": 38400, \"n_unique_y\": 16, \"n_batch/episode\": 960}}, \"target\": {\"train\": {\"n_unique_x\": 36400, \"n_unique_y\": 130, \"n_batch/episode\": 1347}, \"val\": {\"n_unique_x\": 7800, \"n_unique_y\": 130, \"n_batch/episode\": 192}, \"test\": {\"n_unique_x\": 7800, \"n_unique_y\": 130, \"n_batch/episode\": 192}}}}'"
      ]
     },
     "execution_count": 29,
     "metadata": {},
     "output_type": "execute_result"
    }
   ],
   "source": [
    "json.dumps(experiment)"
   ]
  }
 ],
 "metadata": {
  "celltoolbar": "Tags",
  "kernelspec": {
   "display_name": "Python 3 (ipykernel)",
   "language": "python",
   "name": "python3"
  },
  "language_info": {
   "codemirror_mode": {
    "name": "ipython",
    "version": 3
   },
   "file_extension": ".py",
   "mimetype": "text/x-python",
   "name": "python",
   "nbconvert_exporter": "python",
   "pygments_lexer": "ipython3",
   "version": "3.8.10"
  },
  "papermill": {
   "default_parameters": {},
   "duration": 1181.545436,
   "end_time": "2022-03-07T07:43:55.188367",
   "environment_variables": {},
   "exception": null,
   "input_path": "/mnt/wd500GB/CSC500/csc500-main/csc500-notebooks/templates/tl_ptn_template.ipynb",
   "output_path": "trial.ipynb",
   "parameters": {
    "parameters": {
     "BEST_MODEL_PATH": "./best_model.pth",
     "NUM_LOGS_PER_EPOCH": 10,
     "criteria_for_best": "target_loss",
     "dataset_seed": 1337,
     "datasets": [
      {
       "domain_prefix": "Wisig_",
       "domains": [
        1,
        2,
        3,
        4
       ],
       "episode_transforms": [],
       "labels": [
        "1-10",
        "1-12",
        "1-14",
        "1-16",
        "1-18",
        "1-19",
        "1-8",
        "10-11",
        "10-17",
        "10-4",
        "10-7",
        "11-1",
        "11-10",
        "11-19",
        "11-20",
        "11-4",
        "11-7",
        "12-19",
        "12-20",
        "12-7",
        "13-14",
        "13-18",
        "13-19",
        "13-20",
        "13-3",
        "13-7",
        "14-10",
        "14-11",
        "14-12",
        "14-13",
        "14-14",
        "14-19",
        "14-20",
        "14-7",
        "14-8",
        "14-9",
        "15-1",
        "15-19",
        "15-6",
        "16-1",
        "16-16",
        "16-19",
        "16-20",
        "17-10",
        "17-11",
        "18-1",
        "18-10",
        "18-11",
        "18-12",
        "18-13",
        "18-14",
        "18-15",
        "18-16",
        "18-17",
        "18-19",
        "18-2",
        "18-20",
        "18-4",
        "18-5",
        "18-7",
        "18-8",
        "18-9",
        "19-1",
        "19-10",
        "19-11",
        "19-12",
        "19-13",
        "19-14",
        "19-15",
        "19-19",
        "19-2",
        "19-20",
        "19-3",
        "19-4",
        "19-6",
        "19-7",
        "19-8",
        "19-9",
        "2-1",
        "2-13",
        "2-15",
        "2-3",
        "2-4",
        "2-5",
        "2-6",
        "2-7",
        "2-8",
        "20-1",
        "20-12",
        "20-14",
        "20-15",
        "20-16",
        "20-18",
        "20-19",
        "20-20",
        "20-3",
        "20-4",
        "20-5",
        "20-7",
        "20-8",
        "3-1",
        "3-13",
        "3-18",
        "3-2",
        "3-8",
        "4-1",
        "4-10",
        "4-11",
        "5-1",
        "5-5",
        "6-1",
        "6-15",
        "6-6",
        "7-10",
        "7-11",
        "7-12",
        "7-13",
        "7-14",
        "7-7",
        "7-8",
        "7-9",
        "8-1",
        "8-13",
        "8-14",
        "8-18",
        "8-20",
        "8-3",
        "8-8",
        "9-1",
        "9-7"
       ],
       "num_examples_per_domain_per_label": 100,
       "pickle_path": "/mnt/wd500GB/CSC500/csc500-main/datasets/wisig.node3-19.stratified_ds.2022A.pkl",
       "source_or_target_dataset": "target",
       "x_transforms": [
        "unit_mag"
       ]
      },
      {
       "domain_prefix": "ORACLE.run1",
       "domains": [
        32,
        38,
        8,
        44,
        14,
        50,
        20,
        26
       ],
       "episode_transforms": [],
       "labels": [
        "3123D52",
        "3123D65",
        "3123D79",
        "3123D80",
        "3123D54",
        "3123D70",
        "3123D7B",
        "3123D89",
        "3123D58",
        "3123D76",
        "3123D7D",
        "3123EFE",
        "3123D64",
        "3123D78",
        "3123D7E",
        "3124E4A"
       ],
       "num_examples_per_domain_per_label": 2000,
       "pickle_path": "/mnt/wd500GB/CSC500/csc500-main/datasets/oracle.Run1_framed_2000Examples_stratified_ds.2022A.pkl",
       "source_or_target_dataset": "source",
       "x_transforms": [
        "unit_mag"
       ]
      }
     ],
     "device": "cuda",
     "experiment_name": "tl_1_wisig-oracle.run1",
     "lr": 0.001,
     "n_epoch": 50,
     "n_query": 2,
     "n_shot": 3,
     "n_way": 16,
     "patience": 3,
     "seed": 1337,
     "test_k_factor": 2,
     "torch_default_dtype": "torch.float32",
     "train_k_factor": 3,
     "val_k_factor": 2,
     "x_net": [
      {
       "class": "nnReshape",
       "kargs": {
        "shape": [
         -1,
         1,
         2,
         256
        ]
       }
      },
      {
       "class": "Conv2d",
       "kargs": {
        "bias": false,
        "in_channels": 1,
        "kernel_size": [
         1,
         7
        ],
        "out_channels": 256,
        "padding": [
         0,
         3
        ]
       }
      },
      {
       "class": "ReLU",
       "kargs": {
        "inplace": true
       }
      },
      {
       "class": "BatchNorm2d",
       "kargs": {
        "num_features": 256
       }
      },
      {
       "class": "Conv2d",
       "kargs": {
        "bias": true,
        "in_channels": 256,
        "kernel_size": [
         2,
         7
        ],
        "out_channels": 80,
        "padding": [
         0,
         3
        ]
       }
      },
      {
       "class": "ReLU",
       "kargs": {
        "inplace": true
       }
      },
      {
       "class": "BatchNorm2d",
       "kargs": {
        "num_features": 80
       }
      },
      {
       "class": "Flatten",
       "kargs": {}
      },
      {
       "class": "Linear",
       "kargs": {
        "in_features": 20480,
        "out_features": 256
       }
      },
      {
       "class": "ReLU",
       "kargs": {
        "inplace": true
       }
      },
      {
       "class": "BatchNorm1d",
       "kargs": {
        "num_features": 256
       }
      },
      {
       "class": "Linear",
       "kargs": {
        "in_features": 256,
        "out_features": 256
       }
      }
     ]
    }
   },
   "start_time": "2022-03-07T07:24:13.642931",
   "version": "2.3.4"
  }
 },
 "nbformat": 4,
 "nbformat_minor": 5
}