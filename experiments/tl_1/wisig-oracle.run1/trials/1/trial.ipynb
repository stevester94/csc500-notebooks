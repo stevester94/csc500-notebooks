{
 "cells": [
  {
   "cell_type": "markdown",
   "id": "9fea5f46",
   "metadata": {
    "papermill": {
     "duration": 0.017926,
     "end_time": "2022-03-07T06:47:36.718458",
     "exception": false,
     "start_time": "2022-03-07T06:47:36.700532",
     "status": "completed"
    },
    "tags": []
   },
   "source": [
    "# Transfer Learning Template"
   ]
  },
  {
   "cell_type": "code",
   "execution_count": 1,
   "id": "0902182a",
   "metadata": {
    "execution": {
     "iopub.execute_input": "2022-03-07T06:47:36.758206Z",
     "iopub.status.busy": "2022-03-07T06:47:36.757722Z",
     "iopub.status.idle": "2022-03-07T06:47:37.513028Z",
     "shell.execute_reply": "2022-03-07T06:47:37.512485Z"
    },
    "papermill": {
     "duration": 0.782019,
     "end_time": "2022-03-07T06:47:37.513142",
     "exception": false,
     "start_time": "2022-03-07T06:47:36.731123",
     "status": "completed"
    },
    "tags": []
   },
   "outputs": [],
   "source": [
    "%load_ext autoreload\n",
    "%autoreload 2\n",
    "%matplotlib inline\n",
    "\n",
    "    \n",
    "import os, json, sys, time, random\n",
    "import numpy as np\n",
    "import torch\n",
    "from torch.optim import Adam\n",
    "from  easydict import EasyDict\n",
    "import matplotlib.pyplot as plt\n",
    "\n",
    "from steves_models.steves_ptn import Steves_Prototypical_Network\n",
    "\n",
    "from steves_utils.lazy_iterable_wrapper import Lazy_Iterable_Wrapper\n",
    "from steves_utils.iterable_aggregator import Iterable_Aggregator\n",
    "from steves_utils.ptn_train_eval_test_jig import  PTN_Train_Eval_Test_Jig\n",
    "from steves_utils.torch_sequential_builder import build_sequential\n",
    "from steves_utils.torch_utils import get_dataset_metrics, ptn_confusion_by_domain_over_dataloader\n",
    "from steves_utils.utils_v2 import (per_domain_accuracy_from_confusion, get_datasets_base_path)\n",
    "from steves_utils.PTN.utils import independent_accuracy_assesment\n",
    "\n",
    "from torch.utils.data import DataLoader\n",
    "\n",
    "from steves_utils.stratified_dataset.episodic_accessor import Episodic_Accessor_Factory\n",
    "\n",
    "from steves_utils.ptn_do_report import (\n",
    "    get_loss_curve,\n",
    "    get_results_table,\n",
    "    get_parameters_table,\n",
    "    get_domain_accuracies,\n",
    ")\n",
    "\n",
    "from steves_utils.transforms import get_chained_transform"
   ]
  },
  {
   "cell_type": "markdown",
   "id": "41c840b4",
   "metadata": {
    "papermill": {
     "duration": 0.013197,
     "end_time": "2022-03-07T06:47:37.545227",
     "exception": false,
     "start_time": "2022-03-07T06:47:37.532030",
     "status": "completed"
    },
    "tags": []
   },
   "source": [
    "# Allowed Parameters\n",
    "These are allowed parameters, not defaults\n",
    "Each of these values need to be present in the injected parameters (the notebook will raise an exception if they are not present)\n",
    "\n",
    "Papermill uses the cell tag \"parameters\" to inject the real parameters below this cell.\n",
    "Enable tags to see what I mean"
   ]
  },
  {
   "cell_type": "code",
   "execution_count": 2,
   "id": "fd44eb83",
   "metadata": {
    "execution": {
     "iopub.execute_input": "2022-03-07T06:47:37.573561Z",
     "iopub.status.busy": "2022-03-07T06:47:37.573294Z",
     "iopub.status.idle": "2022-03-07T06:47:37.585447Z",
     "shell.execute_reply": "2022-03-07T06:47:37.585850Z"
    },
    "papermill": {
     "duration": 0.027878,
     "end_time": "2022-03-07T06:47:37.585970",
     "exception": false,
     "start_time": "2022-03-07T06:47:37.558092",
     "status": "completed"
    },
    "tags": []
   },
   "outputs": [],
   "source": [
    "required_parameters = {\n",
    "    \"experiment_name\",\n",
    "    \"lr\",\n",
    "    \"device\",\n",
    "    \"seed\",\n",
    "    \"dataset_seed\",\n",
    "    \"n_shot\",\n",
    "    \"n_query\",\n",
    "    \"n_way\",\n",
    "    \"train_k_factor\",\n",
    "    \"val_k_factor\",\n",
    "    \"test_k_factor\",\n",
    "    \"n_epoch\",\n",
    "    \"patience\",\n",
    "    \"criteria_for_best\",\n",
    "    \"x_net\",\n",
    "    \"datasets\",\n",
    "    \"torch_default_dtype\",\n",
    "    \"NUM_LOGS_PER_EPOCH\",\n",
    "    \"BEST_MODEL_PATH\",\n",
    "}"
   ]
  },
  {
   "cell_type": "code",
   "execution_count": 3,
   "id": "fa3f0049",
   "metadata": {
    "execution": {
     "iopub.execute_input": "2022-03-07T06:47:37.625384Z",
     "iopub.status.busy": "2022-03-07T06:47:37.625096Z",
     "iopub.status.idle": "2022-03-07T06:47:37.638651Z",
     "shell.execute_reply": "2022-03-07T06:47:37.638210Z"
    },
    "papermill": {
     "duration": 0.03557,
     "end_time": "2022-03-07T06:47:37.638776",
     "exception": false,
     "start_time": "2022-03-07T06:47:37.603206",
     "status": "completed"
    },
    "tags": [
     "parameters"
    ]
   },
   "outputs": [],
   "source": [
    "from steves_utils.CORES.utils import (\n",
    "    ALL_NODES,\n",
    "    ALL_NODES_MINIMUM_1000_EXAMPLES,\n",
    "    ALL_DAYS\n",
    ")\n",
    "\n",
    "from steves_utils.ORACLE.utils_v2 import (\n",
    "    ALL_DISTANCES_FEET_NARROWED,\n",
    "    ALL_RUNS,\n",
    "    ALL_SERIAL_NUMBERS,\n",
    ")\n",
    "\n",
    "standalone_parameters = {}\n",
    "standalone_parameters[\"experiment_name\"] = \"STANDALONE PTN\"\n",
    "standalone_parameters[\"lr\"] = 0.001\n",
    "standalone_parameters[\"device\"] = \"cuda\"\n",
    "\n",
    "standalone_parameters[\"seed\"] = 1337\n",
    "standalone_parameters[\"dataset_seed\"] = 1337\n",
    "\n",
    "standalone_parameters[\"n_way\"] = 8\n",
    "standalone_parameters[\"n_shot\"] = 3\n",
    "standalone_parameters[\"n_query\"]  = 2\n",
    "standalone_parameters[\"train_k_factor\"] = 1\n",
    "standalone_parameters[\"val_k_factor\"] = 2\n",
    "standalone_parameters[\"test_k_factor\"] = 2\n",
    "\n",
    "\n",
    "standalone_parameters[\"n_epoch\"] = 50\n",
    "\n",
    "standalone_parameters[\"patience\"] = 10\n",
    "standalone_parameters[\"criteria_for_best\"] = \"source_loss\"\n",
    "\n",
    "standalone_parameters[\"datasets\"] = [\n",
    "    {\n",
    "        \"labels\": ALL_SERIAL_NUMBERS,\n",
    "        \"domains\": ALL_DISTANCES_FEET_NARROWED,\n",
    "        \"num_examples_per_domain_per_label\": 100,\n",
    "        \"pickle_path\": os.path.join(get_datasets_base_path(), \"oracle.Run1_framed_2000Examples_stratified_ds.2022A.pkl\"),\n",
    "        \"source_or_target_dataset\": \"source\",\n",
    "        \"x_transforms\": [\"unit_mag\", \"minus_two\"],\n",
    "        \"episode_transforms\": [],\n",
    "        \"domain_prefix\": \"ORACLE_\"\n",
    "    },\n",
    "    {\n",
    "        \"labels\": ALL_NODES,\n",
    "        \"domains\": ALL_DAYS,\n",
    "        \"num_examples_per_domain_per_label\": 100,\n",
    "        \"pickle_path\": os.path.join(get_datasets_base_path(), \"cores.stratified_ds.2022A.pkl\"),\n",
    "        \"source_or_target_dataset\": \"target\",\n",
    "        \"x_transforms\": [\"unit_power\", \"times_zero\"],\n",
    "        \"episode_transforms\": [],\n",
    "        \"domain_prefix\": \"CORES_\"\n",
    "    }   \n",
    "]\n",
    "\n",
    "standalone_parameters[\"torch_default_dtype\"] = \"torch.float32\" \n",
    "\n",
    "\n",
    "\n",
    "standalone_parameters[\"x_net\"] =     [\n",
    "    {\"class\": \"nnReshape\", \"kargs\": {\"shape\":[-1, 1, 2, 256]}},\n",
    "    {\"class\": \"Conv2d\", \"kargs\": { \"in_channels\":1, \"out_channels\":256, \"kernel_size\":(1,7), \"bias\":False, \"padding\":(0,3), },},\n",
    "    {\"class\": \"ReLU\", \"kargs\": {\"inplace\": True}},\n",
    "    {\"class\": \"BatchNorm2d\", \"kargs\": {\"num_features\":256}},\n",
    "\n",
    "    {\"class\": \"Conv2d\", \"kargs\": { \"in_channels\":256, \"out_channels\":80, \"kernel_size\":(2,7), \"bias\":True, \"padding\":(0,3), },},\n",
    "    {\"class\": \"ReLU\", \"kargs\": {\"inplace\": True}},\n",
    "    {\"class\": \"BatchNorm2d\", \"kargs\": {\"num_features\":80}},\n",
    "    {\"class\": \"Flatten\", \"kargs\": {}},\n",
    "\n",
    "    {\"class\": \"Linear\", \"kargs\": {\"in_features\": 80*256, \"out_features\": 256}}, # 80 units per IQ pair\n",
    "    {\"class\": \"ReLU\", \"kargs\": {\"inplace\": True}},\n",
    "    {\"class\": \"BatchNorm1d\", \"kargs\": {\"num_features\":256}},\n",
    "\n",
    "    {\"class\": \"Linear\", \"kargs\": {\"in_features\": 256, \"out_features\": 256}},\n",
    "]\n",
    "\n",
    "# Parameters relevant to results\n",
    "# These parameters will basically never need to change\n",
    "standalone_parameters[\"NUM_LOGS_PER_EPOCH\"] = 10\n",
    "standalone_parameters[\"BEST_MODEL_PATH\"] = \"./best_model.pth\"\n",
    "\n",
    "\n",
    "\n",
    "\n"
   ]
  },
  {
   "cell_type": "code",
   "execution_count": 4,
   "id": "ad590f01",
   "metadata": {
    "execution": {
     "iopub.execute_input": "2022-03-07T06:47:37.682485Z",
     "iopub.status.busy": "2022-03-07T06:47:37.682163Z",
     "iopub.status.idle": "2022-03-07T06:47:37.693601Z",
     "shell.execute_reply": "2022-03-07T06:47:37.693168Z"
    },
    "papermill": {
     "duration": 0.035975,
     "end_time": "2022-03-07T06:47:37.693701",
     "exception": false,
     "start_time": "2022-03-07T06:47:37.657726",
     "status": "completed"
    },
    "tags": [
     "injected-parameters"
    ]
   },
   "outputs": [],
   "source": [
    "# Parameters\n",
    "parameters = {\n",
    "    \"experiment_name\": \"tl_1_wisig-oracle.run1\",\n",
    "    \"device\": \"cuda\",\n",
    "    \"lr\": 0.001,\n",
    "    \"seed\": 1337,\n",
    "    \"dataset_seed\": 1337,\n",
    "    \"n_shot\": 3,\n",
    "    \"n_query\": 2,\n",
    "    \"train_k_factor\": 3,\n",
    "    \"val_k_factor\": 2,\n",
    "    \"test_k_factor\": 2,\n",
    "    \"torch_default_dtype\": \"torch.float32\",\n",
    "    \"n_epoch\": 50,\n",
    "    \"patience\": 3,\n",
    "    \"criteria_for_best\": \"target_loss\",\n",
    "    \"x_net\": [\n",
    "        {\"class\": \"nnReshape\", \"kargs\": {\"shape\": [-1, 1, 2, 256]}},\n",
    "        {\n",
    "            \"class\": \"Conv2d\",\n",
    "            \"kargs\": {\n",
    "                \"in_channels\": 1,\n",
    "                \"out_channels\": 256,\n",
    "                \"kernel_size\": [1, 7],\n",
    "                \"bias\": False,\n",
    "                \"padding\": [0, 3],\n",
    "            },\n",
    "        },\n",
    "        {\"class\": \"ReLU\", \"kargs\": {\"inplace\": True}},\n",
    "        {\"class\": \"BatchNorm2d\", \"kargs\": {\"num_features\": 256}},\n",
    "        {\n",
    "            \"class\": \"Conv2d\",\n",
    "            \"kargs\": {\n",
    "                \"in_channels\": 256,\n",
    "                \"out_channels\": 80,\n",
    "                \"kernel_size\": [2, 7],\n",
    "                \"bias\": True,\n",
    "                \"padding\": [0, 3],\n",
    "            },\n",
    "        },\n",
    "        {\"class\": \"ReLU\", \"kargs\": {\"inplace\": True}},\n",
    "        {\"class\": \"BatchNorm2d\", \"kargs\": {\"num_features\": 80}},\n",
    "        {\"class\": \"Flatten\", \"kargs\": {}},\n",
    "        {\"class\": \"Linear\", \"kargs\": {\"in_features\": 20480, \"out_features\": 256}},\n",
    "        {\"class\": \"ReLU\", \"kargs\": {\"inplace\": True}},\n",
    "        {\"class\": \"BatchNorm1d\", \"kargs\": {\"num_features\": 256}},\n",
    "        {\"class\": \"Linear\", \"kargs\": {\"in_features\": 256, \"out_features\": 256}},\n",
    "    ],\n",
    "    \"NUM_LOGS_PER_EPOCH\": 10,\n",
    "    \"BEST_MODEL_PATH\": \"./best_model.pth\",\n",
    "    \"n_way\": 16,\n",
    "    \"datasets\": [\n",
    "        {\n",
    "            \"labels\": [\n",
    "                \"1-10\",\n",
    "                \"1-12\",\n",
    "                \"1-14\",\n",
    "                \"1-16\",\n",
    "                \"1-18\",\n",
    "                \"1-19\",\n",
    "                \"1-8\",\n",
    "                \"10-11\",\n",
    "                \"10-17\",\n",
    "                \"10-4\",\n",
    "                \"10-7\",\n",
    "                \"11-1\",\n",
    "                \"11-10\",\n",
    "                \"11-19\",\n",
    "                \"11-20\",\n",
    "                \"11-4\",\n",
    "                \"11-7\",\n",
    "                \"12-19\",\n",
    "                \"12-20\",\n",
    "                \"12-7\",\n",
    "                \"13-14\",\n",
    "                \"13-18\",\n",
    "                \"13-19\",\n",
    "                \"13-20\",\n",
    "                \"13-3\",\n",
    "                \"13-7\",\n",
    "                \"14-10\",\n",
    "                \"14-11\",\n",
    "                \"14-12\",\n",
    "                \"14-13\",\n",
    "                \"14-14\",\n",
    "                \"14-19\",\n",
    "                \"14-20\",\n",
    "                \"14-7\",\n",
    "                \"14-8\",\n",
    "                \"14-9\",\n",
    "                \"15-1\",\n",
    "                \"15-19\",\n",
    "                \"15-6\",\n",
    "                \"16-1\",\n",
    "                \"16-16\",\n",
    "                \"16-19\",\n",
    "                \"16-20\",\n",
    "                \"17-10\",\n",
    "                \"17-11\",\n",
    "                \"18-1\",\n",
    "                \"18-10\",\n",
    "                \"18-11\",\n",
    "                \"18-12\",\n",
    "                \"18-13\",\n",
    "                \"18-14\",\n",
    "                \"18-15\",\n",
    "                \"18-16\",\n",
    "                \"18-17\",\n",
    "                \"18-19\",\n",
    "                \"18-2\",\n",
    "                \"18-20\",\n",
    "                \"18-4\",\n",
    "                \"18-5\",\n",
    "                \"18-7\",\n",
    "                \"18-8\",\n",
    "                \"18-9\",\n",
    "                \"19-1\",\n",
    "                \"19-10\",\n",
    "                \"19-11\",\n",
    "                \"19-12\",\n",
    "                \"19-13\",\n",
    "                \"19-14\",\n",
    "                \"19-15\",\n",
    "                \"19-19\",\n",
    "                \"19-2\",\n",
    "                \"19-20\",\n",
    "                \"19-3\",\n",
    "                \"19-4\",\n",
    "                \"19-6\",\n",
    "                \"19-7\",\n",
    "                \"19-8\",\n",
    "                \"19-9\",\n",
    "                \"2-1\",\n",
    "                \"2-13\",\n",
    "                \"2-15\",\n",
    "                \"2-3\",\n",
    "                \"2-4\",\n",
    "                \"2-5\",\n",
    "                \"2-6\",\n",
    "                \"2-7\",\n",
    "                \"2-8\",\n",
    "                \"20-1\",\n",
    "                \"20-12\",\n",
    "                \"20-14\",\n",
    "                \"20-15\",\n",
    "                \"20-16\",\n",
    "                \"20-18\",\n",
    "                \"20-19\",\n",
    "                \"20-20\",\n",
    "                \"20-3\",\n",
    "                \"20-4\",\n",
    "                \"20-5\",\n",
    "                \"20-7\",\n",
    "                \"20-8\",\n",
    "                \"3-1\",\n",
    "                \"3-13\",\n",
    "                \"3-18\",\n",
    "                \"3-2\",\n",
    "                \"3-8\",\n",
    "                \"4-1\",\n",
    "                \"4-10\",\n",
    "                \"4-11\",\n",
    "                \"5-1\",\n",
    "                \"5-5\",\n",
    "                \"6-1\",\n",
    "                \"6-15\",\n",
    "                \"6-6\",\n",
    "                \"7-10\",\n",
    "                \"7-11\",\n",
    "                \"7-12\",\n",
    "                \"7-13\",\n",
    "                \"7-14\",\n",
    "                \"7-7\",\n",
    "                \"7-8\",\n",
    "                \"7-9\",\n",
    "                \"8-1\",\n",
    "                \"8-13\",\n",
    "                \"8-14\",\n",
    "                \"8-18\",\n",
    "                \"8-20\",\n",
    "                \"8-3\",\n",
    "                \"8-8\",\n",
    "                \"9-1\",\n",
    "                \"9-7\",\n",
    "            ],\n",
    "            \"domains\": [1, 2, 3, 4],\n",
    "            \"num_examples_per_domain_per_label\": 100,\n",
    "            \"pickle_path\": \"/mnt/wd500GB/CSC500/csc500-main/datasets/wisig.node3-19.stratified_ds.2022A.pkl\",\n",
    "            \"source_or_target_dataset\": \"source\",\n",
    "            \"x_transforms\": [\"unit_mag\"],\n",
    "            \"episode_transforms\": [],\n",
    "            \"domain_prefix\": \"Wisig_\",\n",
    "        },\n",
    "        {\n",
    "            \"labels\": [\n",
    "                \"3123D52\",\n",
    "                \"3123D65\",\n",
    "                \"3123D79\",\n",
    "                \"3123D80\",\n",
    "                \"3123D54\",\n",
    "                \"3123D70\",\n",
    "                \"3123D7B\",\n",
    "                \"3123D89\",\n",
    "                \"3123D58\",\n",
    "                \"3123D76\",\n",
    "                \"3123D7D\",\n",
    "                \"3123EFE\",\n",
    "                \"3123D64\",\n",
    "                \"3123D78\",\n",
    "                \"3123D7E\",\n",
    "                \"3124E4A\",\n",
    "            ],\n",
    "            \"domains\": [32, 38, 8, 44, 14, 50, 20, 26],\n",
    "            \"num_examples_per_domain_per_label\": 2000,\n",
    "            \"pickle_path\": \"/mnt/wd500GB/CSC500/csc500-main/datasets/oracle.Run1_framed_2000Examples_stratified_ds.2022A.pkl\",\n",
    "            \"source_or_target_dataset\": \"target\",\n",
    "            \"x_transforms\": [\"unit_mag\"],\n",
    "            \"episode_transforms\": [],\n",
    "            \"domain_prefix\": \"ORACLE.run1\",\n",
    "        },\n",
    "    ],\n",
    "}\n"
   ]
  },
  {
   "cell_type": "code",
   "execution_count": 5,
   "id": "8fa1cc33",
   "metadata": {
    "execution": {
     "iopub.execute_input": "2022-03-07T06:47:37.726997Z",
     "iopub.status.busy": "2022-03-07T06:47:37.726712Z",
     "iopub.status.idle": "2022-03-07T06:47:37.736519Z",
     "shell.execute_reply": "2022-03-07T06:47:37.736906Z"
    },
    "papermill": {
     "duration": 0.025766,
     "end_time": "2022-03-07T06:47:37.737033",
     "exception": false,
     "start_time": "2022-03-07T06:47:37.711267",
     "status": "completed"
    },
    "tags": []
   },
   "outputs": [],
   "source": [
    "# Set this to True if you want to run this template directly\n",
    "STANDALONE = False\n",
    "if STANDALONE:\n",
    "    print(\"parameters not injected, running with standalone_parameters\")\n",
    "    parameters = standalone_parameters\n",
    "\n",
    "if not 'parameters' in locals() and not 'parameters' in globals():\n",
    "    raise Exception(\"Parameter injection failed\")\n",
    "\n",
    "#Use an easy dict for all the parameters\n",
    "p = EasyDict(parameters)\n",
    "\n",
    "supplied_keys = set(p.keys())\n",
    "\n",
    "if  supplied_keys != required_parameters:\n",
    "    print(\"Parameters are incorrect\")\n",
    "    if len(supplied_keys - required_parameters)>0: print(\"Shouldn't have:\", str(supplied_keys - required_parameters))\n",
    "    if len(required_parameters - supplied_keys)>0: print(\"Need to have:\", str(required_parameters - supplied_keys))\n",
    "    raise RuntimeError(\"Parameters are incorrect\")\n",
    "\n"
   ]
  },
  {
   "cell_type": "code",
   "execution_count": 6,
   "id": "3a028d58",
   "metadata": {
    "execution": {
     "iopub.execute_input": "2022-03-07T06:47:37.770397Z",
     "iopub.status.busy": "2022-03-07T06:47:37.770130Z",
     "iopub.status.idle": "2022-03-07T06:47:37.783933Z",
     "shell.execute_reply": "2022-03-07T06:47:37.784318Z"
    },
    "papermill": {
     "duration": 0.029642,
     "end_time": "2022-03-07T06:47:37.784441",
     "exception": false,
     "start_time": "2022-03-07T06:47:37.754799",
     "status": "completed"
    },
    "tags": []
   },
   "outputs": [],
   "source": [
    "###################################\n",
    "# Set the RNGs and make it all deterministic\n",
    "###################################\n",
    "np.random.seed(p.seed)\n",
    "random.seed(p.seed)\n",
    "torch.manual_seed(p.seed)\n",
    "\n",
    "torch.use_deterministic_algorithms(True) "
   ]
  },
  {
   "cell_type": "code",
   "execution_count": 7,
   "id": "b691acf6",
   "metadata": {
    "execution": {
     "iopub.execute_input": "2022-03-07T06:47:37.818316Z",
     "iopub.status.busy": "2022-03-07T06:47:37.818054Z",
     "iopub.status.idle": "2022-03-07T06:47:37.831368Z",
     "shell.execute_reply": "2022-03-07T06:47:37.831698Z"
    },
    "papermill": {
     "duration": 0.02863,
     "end_time": "2022-03-07T06:47:37.831819",
     "exception": false,
     "start_time": "2022-03-07T06:47:37.803189",
     "status": "completed"
    },
    "tags": []
   },
   "outputs": [],
   "source": [
    "###########################################\n",
    "# The stratified datasets honor this\n",
    "###########################################\n",
    "torch.set_default_dtype(eval(p.torch_default_dtype))"
   ]
  },
  {
   "cell_type": "code",
   "execution_count": 8,
   "id": "b5fba671",
   "metadata": {
    "execution": {
     "iopub.execute_input": "2022-03-07T06:47:37.866040Z",
     "iopub.status.busy": "2022-03-07T06:47:37.865347Z",
     "iopub.status.idle": "2022-03-07T06:47:37.905077Z",
     "shell.execute_reply": "2022-03-07T06:47:37.905475Z"
    },
    "papermill": {
     "duration": 0.054628,
     "end_time": "2022-03-07T06:47:37.905613",
     "exception": false,
     "start_time": "2022-03-07T06:47:37.850985",
     "status": "completed"
    },
    "tags": []
   },
   "outputs": [],
   "source": [
    "###################################\n",
    "# Build the network(s)\n",
    "# Note: It's critical to do this AFTER setting the RNG\n",
    "###################################\n",
    "x_net = build_sequential(p.x_net)"
   ]
  },
  {
   "cell_type": "code",
   "execution_count": 9,
   "id": "5d7e61cc",
   "metadata": {
    "execution": {
     "iopub.execute_input": "2022-03-07T06:47:37.939626Z",
     "iopub.status.busy": "2022-03-07T06:47:37.939363Z",
     "iopub.status.idle": "2022-03-07T06:47:37.952283Z",
     "shell.execute_reply": "2022-03-07T06:47:37.952580Z"
    },
    "papermill": {
     "duration": 0.028736,
     "end_time": "2022-03-07T06:47:37.952679",
     "exception": false,
     "start_time": "2022-03-07T06:47:37.923943",
     "status": "completed"
    },
    "tags": []
   },
   "outputs": [],
   "source": [
    "start_time_secs = time.time()"
   ]
  },
  {
   "cell_type": "code",
   "execution_count": 10,
   "id": "c6b67dfd",
   "metadata": {
    "execution": {
     "iopub.execute_input": "2022-03-07T06:47:37.987769Z",
     "iopub.status.busy": "2022-03-07T06:47:37.987506Z",
     "iopub.status.idle": "2022-03-07T06:47:38.000037Z",
     "shell.execute_reply": "2022-03-07T06:47:38.000426Z"
    },
    "papermill": {
     "duration": 0.029366,
     "end_time": "2022-03-07T06:47:38.000551",
     "exception": false,
     "start_time": "2022-03-07T06:47:37.971185",
     "status": "completed"
    },
    "tags": []
   },
   "outputs": [],
   "source": [
    "p.domains_source = []\n",
    "p.domains_target = []\n",
    "\n",
    "\n",
    "train_original_source = []\n",
    "val_original_source   = []\n",
    "test_original_source  = []\n",
    "\n",
    "train_original_target = []\n",
    "val_original_target   = []\n",
    "test_original_target  = []"
   ]
  },
  {
   "cell_type": "code",
   "execution_count": 11,
   "id": "e3d9c3d3",
   "metadata": {
    "execution": {
     "iopub.execute_input": "2022-03-07T06:47:38.034289Z",
     "iopub.status.busy": "2022-03-07T06:47:38.033810Z",
     "iopub.status.idle": "2022-03-07T06:47:38.048205Z",
     "shell.execute_reply": "2022-03-07T06:47:38.047767Z"
    },
    "papermill": {
     "duration": 0.029009,
     "end_time": "2022-03-07T06:47:38.048308",
     "exception": false,
     "start_time": "2022-03-07T06:47:38.019299",
     "status": "completed"
    },
    "tags": []
   },
   "outputs": [],
   "source": [
    "# global_x_transform_func = lambda x: normalize(x.to(torch.get_default_dtype()), \"unit_power\") # unit_power, unit_mag\n",
    "# global_x_transform_func = lambda x: normalize(x, \"unit_power\") # unit_power, unit_mag"
   ]
  },
  {
   "cell_type": "code",
   "execution_count": 12,
   "id": "acb78fd2",
   "metadata": {
    "execution": {
     "iopub.execute_input": "2022-03-07T06:47:38.088419Z",
     "iopub.status.busy": "2022-03-07T06:47:38.087881Z",
     "iopub.status.idle": "2022-03-07T06:47:38.098492Z",
     "shell.execute_reply": "2022-03-07T06:47:38.098925Z"
    },
    "papermill": {
     "duration": 0.031068,
     "end_time": "2022-03-07T06:47:38.099052",
     "exception": false,
     "start_time": "2022-03-07T06:47:38.067984",
     "status": "completed"
    },
    "tags": []
   },
   "outputs": [],
   "source": [
    "def add_dataset(\n",
    "    labels,\n",
    "    domains,\n",
    "    pickle_path,\n",
    "    x_transforms,\n",
    "    episode_transforms,\n",
    "    domain_prefix,\n",
    "    num_examples_per_domain_per_label,\n",
    "    source_or_target_dataset:str,\n",
    "    iterator_seed=p.seed,\n",
    "    dataset_seed=p.dataset_seed,\n",
    "    n_shot=p.n_shot,\n",
    "    n_way=p.n_way,\n",
    "    n_query=p.n_query,\n",
    "    train_val_test_k_factors=(p.train_k_factor,p.val_k_factor,p.test_k_factor),\n",
    "):\n",
    "   \n",
    "    if x_transforms == []: x_transform = None\n",
    "    else: x_transform = get_chained_transform(x_transforms)\n",
    "    \n",
    "    if episode_transforms == []: episode_transform = None\n",
    "    else: raise Exception(\"episode_transforms not implemented\")\n",
    "    \n",
    "    episode_transform = lambda tup, _prefix=domain_prefix: (_prefix + str(tup[0]), tup[1])\n",
    "\n",
    "\n",
    "    eaf = Episodic_Accessor_Factory(\n",
    "        labels=labels,\n",
    "        domains=domains,\n",
    "        num_examples_per_domain_per_label=num_examples_per_domain_per_label,\n",
    "        iterator_seed=iterator_seed,\n",
    "        dataset_seed=dataset_seed,\n",
    "        n_shot=n_shot,\n",
    "        n_way=n_way,\n",
    "        n_query=n_query,\n",
    "        train_val_test_k_factors=train_val_test_k_factors,\n",
    "        pickle_path=pickle_path,\n",
    "        x_transform_func=x_transform,\n",
    "    )\n",
    "\n",
    "    train, val, test = eaf.get_train(), eaf.get_val(), eaf.get_test()\n",
    "    train = Lazy_Iterable_Wrapper(train, episode_transform)\n",
    "    val = Lazy_Iterable_Wrapper(val, episode_transform)\n",
    "    test = Lazy_Iterable_Wrapper(test, episode_transform)\n",
    "\n",
    "    if source_or_target_dataset==\"source\":\n",
    "        train_original_source.append(train)\n",
    "        val_original_source.append(val)\n",
    "        test_original_source.append(test)\n",
    "\n",
    "        p.domains_source.extend(\n",
    "            [domain_prefix + str(u) for u in domains]\n",
    "        )\n",
    "    elif source_or_target_dataset==\"target\":\n",
    "        train_original_target.append(train)\n",
    "        val_original_target.append(val)\n",
    "        test_original_target.append(test)\n",
    "        p.domains_target.extend(\n",
    "            [domain_prefix + str(u) for u in domains]\n",
    "        )\n",
    "    else:\n",
    "        raise Exception(f\"invalid source_or_target_dataset: {source_or_target_dataset}\")\n",
    "    "
   ]
  },
  {
   "cell_type": "code",
   "execution_count": 13,
   "id": "fe266617",
   "metadata": {
    "execution": {
     "iopub.execute_input": "2022-03-07T06:47:38.131759Z",
     "iopub.status.busy": "2022-03-07T06:47:38.131487Z",
     "iopub.status.idle": "2022-03-07T06:47:57.503267Z",
     "shell.execute_reply": "2022-03-07T06:47:57.502806Z"
    },
    "papermill": {
     "duration": 19.387096,
     "end_time": "2022-03-07T06:47:57.503375",
     "exception": false,
     "start_time": "2022-03-07T06:47:38.116279",
     "status": "completed"
    },
    "tags": []
   },
   "outputs": [],
   "source": [
    "for ds in p.datasets:\n",
    "    add_dataset(**ds)"
   ]
  },
  {
   "cell_type": "code",
   "execution_count": 14,
   "id": "b90d65ac",
   "metadata": {
    "execution": {
     "iopub.execute_input": "2022-03-07T06:47:57.536826Z",
     "iopub.status.busy": "2022-03-07T06:47:57.536552Z",
     "iopub.status.idle": "2022-03-07T06:47:57.549185Z",
     "shell.execute_reply": "2022-03-07T06:47:57.549569Z"
    },
    "papermill": {
     "duration": 0.028549,
     "end_time": "2022-03-07T06:47:57.549690",
     "exception": false,
     "start_time": "2022-03-07T06:47:57.521141",
     "status": "completed"
    },
    "tags": []
   },
   "outputs": [],
   "source": [
    "# from steves_utils.CORES.utils import (\n",
    "#     ALL_NODES,\n",
    "#     ALL_NODES_MINIMUM_1000_EXAMPLES,\n",
    "#     ALL_DAYS\n",
    "# )\n",
    "\n",
    "# add_dataset(\n",
    "#     labels=ALL_NODES,\n",
    "#     domains = ALL_DAYS,\n",
    "#     num_examples_per_domain_per_label=100,\n",
    "#     pickle_path=os.path.join(get_datasets_base_path(), \"cores.stratified_ds.2022A.pkl\"),\n",
    "#     source_or_target_dataset=\"target\",\n",
    "#     x_transform_func=global_x_transform_func,\n",
    "#     domain_modifier=lambda u: f\"cores_{u}\"\n",
    "# )"
   ]
  },
  {
   "cell_type": "code",
   "execution_count": 15,
   "id": "76db484d",
   "metadata": {
    "execution": {
     "iopub.execute_input": "2022-03-07T06:47:57.586836Z",
     "iopub.status.busy": "2022-03-07T06:47:57.586298Z",
     "iopub.status.idle": "2022-03-07T06:47:57.597188Z",
     "shell.execute_reply": "2022-03-07T06:47:57.597483Z"
    },
    "papermill": {
     "duration": 0.028972,
     "end_time": "2022-03-07T06:47:57.597576",
     "exception": false,
     "start_time": "2022-03-07T06:47:57.568604",
     "status": "completed"
    },
    "tags": []
   },
   "outputs": [],
   "source": [
    "# from steves_utils.ORACLE.utils_v2 import (\n",
    "#     ALL_DISTANCES_FEET,\n",
    "#     ALL_RUNS,\n",
    "#     ALL_SERIAL_NUMBERS,\n",
    "# )\n",
    "\n",
    "\n",
    "# add_dataset(\n",
    "#     labels=ALL_SERIAL_NUMBERS,\n",
    "#     domains = list(set(ALL_DISTANCES_FEET) - {2,62}),\n",
    "#     num_examples_per_domain_per_label=100,\n",
    "#     pickle_path=os.path.join(get_datasets_base_path(), \"oracle.Run2_framed_2000Examples_stratified_ds.2022A.pkl\"),\n",
    "#     source_or_target_dataset=\"source\",\n",
    "#     x_transform_func=global_x_transform_func,\n",
    "#     domain_modifier=lambda u: f\"oracle1_{u}\"\n",
    "# )\n"
   ]
  },
  {
   "cell_type": "code",
   "execution_count": 16,
   "id": "97dea9d2",
   "metadata": {
    "execution": {
     "iopub.execute_input": "2022-03-07T06:47:57.631782Z",
     "iopub.status.busy": "2022-03-07T06:47:57.631513Z",
     "iopub.status.idle": "2022-03-07T06:47:57.644336Z",
     "shell.execute_reply": "2022-03-07T06:47:57.643932Z"
    },
    "papermill": {
     "duration": 0.028893,
     "end_time": "2022-03-07T06:47:57.644437",
     "exception": false,
     "start_time": "2022-03-07T06:47:57.615544",
     "status": "completed"
    },
    "tags": []
   },
   "outputs": [],
   "source": [
    "# from steves_utils.ORACLE.utils_v2 import (\n",
    "#     ALL_DISTANCES_FEET,\n",
    "#     ALL_RUNS,\n",
    "#     ALL_SERIAL_NUMBERS,\n",
    "# )\n",
    "\n",
    "\n",
    "# add_dataset(\n",
    "#     labels=ALL_SERIAL_NUMBERS,\n",
    "#     domains = list(set(ALL_DISTANCES_FEET) - {2,62,56}),\n",
    "#     num_examples_per_domain_per_label=100,\n",
    "#     pickle_path=os.path.join(get_datasets_base_path(), \"oracle.Run2_framed_2000Examples_stratified_ds.2022A.pkl\"),\n",
    "#     source_or_target_dataset=\"source\",\n",
    "#     x_transform_func=global_x_transform_func,\n",
    "#     domain_modifier=lambda u: f\"oracle2_{u}\"\n",
    "# )"
   ]
  },
  {
   "cell_type": "code",
   "execution_count": 17,
   "id": "6f289866",
   "metadata": {
    "execution": {
     "iopub.execute_input": "2022-03-07T06:47:57.680800Z",
     "iopub.status.busy": "2022-03-07T06:47:57.680537Z",
     "iopub.status.idle": "2022-03-07T06:47:57.692458Z",
     "shell.execute_reply": "2022-03-07T06:47:57.692044Z"
    },
    "papermill": {
     "duration": 0.028379,
     "end_time": "2022-03-07T06:47:57.692560",
     "exception": false,
     "start_time": "2022-03-07T06:47:57.664181",
     "status": "completed"
    },
    "tags": []
   },
   "outputs": [],
   "source": [
    "# add_dataset(\n",
    "#     labels=list(range(19)),\n",
    "#     domains = [0,1,2],\n",
    "#     num_examples_per_domain_per_label=100,\n",
    "#     pickle_path=os.path.join(get_datasets_base_path(), \"metehan.stratified_ds.2022A.pkl\"),\n",
    "#     source_or_target_dataset=\"target\",\n",
    "#     x_transform_func=global_x_transform_func,\n",
    "#     domain_modifier=lambda u: f\"met_{u}\"\n",
    "# )"
   ]
  },
  {
   "cell_type": "code",
   "execution_count": 18,
   "id": "86a863c3",
   "metadata": {
    "execution": {
     "iopub.execute_input": "2022-03-07T06:47:57.729055Z",
     "iopub.status.busy": "2022-03-07T06:47:57.728785Z",
     "iopub.status.idle": "2022-03-07T06:47:57.742629Z",
     "shell.execute_reply": "2022-03-07T06:47:57.743043Z"
    },
    "papermill": {
     "duration": 0.03074,
     "end_time": "2022-03-07T06:47:57.743163",
     "exception": false,
     "start_time": "2022-03-07T06:47:57.712423",
     "status": "completed"
    },
    "tags": []
   },
   "outputs": [],
   "source": [
    "# # from steves_utils.wisig.utils import (\n",
    "# #     ALL_NODES_MINIMUM_100_EXAMPLES,\n",
    "# #     ALL_NODES_MINIMUM_500_EXAMPLES,\n",
    "# #     ALL_NODES_MINIMUM_1000_EXAMPLES,\n",
    "# #     ALL_DAYS\n",
    "# # )\n",
    "\n",
    "# import steves_utils.wisig.utils as wisig\n",
    "\n",
    "\n",
    "# add_dataset(\n",
    "#     labels=wisig.ALL_NODES_MINIMUM_100_EXAMPLES,\n",
    "#     domains = wisig.ALL_DAYS,\n",
    "#     num_examples_per_domain_per_label=100,\n",
    "#     pickle_path=os.path.join(get_datasets_base_path(), \"wisig.node3-19.stratified_ds.2022A.pkl\"),\n",
    "#     source_or_target_dataset=\"target\",\n",
    "#     x_transform_func=global_x_transform_func,\n",
    "#     domain_modifier=lambda u: f\"wisig_{u}\"\n",
    "# )"
   ]
  },
  {
   "cell_type": "code",
   "execution_count": 19,
   "id": "fd5442bc",
   "metadata": {
    "execution": {
     "iopub.execute_input": "2022-03-07T06:47:57.783656Z",
     "iopub.status.busy": "2022-03-07T06:47:57.783271Z",
     "iopub.status.idle": "2022-03-07T06:47:57.794686Z",
     "shell.execute_reply": "2022-03-07T06:47:57.794993Z"
    },
    "papermill": {
     "duration": 0.031668,
     "end_time": "2022-03-07T06:47:57.795108",
     "exception": false,
     "start_time": "2022-03-07T06:47:57.763440",
     "status": "completed"
    },
    "tags": []
   },
   "outputs": [],
   "source": [
    "###################################\n",
    "# Build the dataset\n",
    "###################################\n",
    "train_original_source = Iterable_Aggregator(train_original_source, p.seed)\n",
    "val_original_source = Iterable_Aggregator(val_original_source, p.seed)\n",
    "test_original_source = Iterable_Aggregator(test_original_source, p.seed)\n",
    "\n",
    "\n",
    "train_original_target = Iterable_Aggregator(train_original_target, p.seed)\n",
    "val_original_target = Iterable_Aggregator(val_original_target, p.seed)\n",
    "test_original_target = Iterable_Aggregator(test_original_target, p.seed)\n",
    "\n",
    "# For CNN We only use X and Y. And we only train on the source.\n",
    "# Properly form the data using a transform lambda and Lazy_Iterable_Wrapper. Finally wrap them in a dataloader\n",
    "\n",
    "transform_lambda = lambda ex: ex[1] # Original is (<domain>, <episode>) so we strip down to episode only\n",
    "\n",
    "train_processed_source = Lazy_Iterable_Wrapper(train_original_source, transform_lambda)\n",
    "val_processed_source   = Lazy_Iterable_Wrapper(val_original_source, transform_lambda)\n",
    "test_processed_source  = Lazy_Iterable_Wrapper(test_original_source, transform_lambda)\n",
    "\n",
    "train_processed_target = Lazy_Iterable_Wrapper(train_original_target, transform_lambda)\n",
    "val_processed_target   = Lazy_Iterable_Wrapper(val_original_target, transform_lambda)\n",
    "test_processed_target  = Lazy_Iterable_Wrapper(test_original_target, transform_lambda)\n",
    "\n",
    "datasets = EasyDict({\n",
    "    \"source\": {\n",
    "        \"original\": {\"train\":train_original_source, \"val\":val_original_source, \"test\":test_original_source},\n",
    "        \"processed\": {\"train\":train_processed_source, \"val\":val_processed_source, \"test\":test_processed_source}\n",
    "    },\n",
    "    \"target\": {\n",
    "        \"original\": {\"train\":train_original_target, \"val\":val_original_target, \"test\":test_original_target},\n",
    "        \"processed\": {\"train\":train_processed_target, \"val\":val_processed_target, \"test\":test_processed_target}\n",
    "    },\n",
    "})"
   ]
  },
  {
   "cell_type": "code",
   "execution_count": 20,
   "id": "5b3c01fc",
   "metadata": {
    "execution": {
     "iopub.execute_input": "2022-03-07T06:47:57.831406Z",
     "iopub.status.busy": "2022-03-07T06:47:57.831136Z",
     "iopub.status.idle": "2022-03-07T06:48:02.390951Z",
     "shell.execute_reply": "2022-03-07T06:48:02.391368Z"
    },
    "papermill": {
     "duration": 4.577892,
     "end_time": "2022-03-07T06:48:02.391499",
     "exception": false,
     "start_time": "2022-03-07T06:47:57.813607",
     "status": "completed"
    },
    "tags": []
   },
   "outputs": [
    {
     "name": "stdout",
     "output_type": "stream",
     "text": [
      "{'Wisig_2', 'Wisig_1', 'Wisig_4', 'Wisig_3'}\n"
     ]
    },
    {
     "name": "stdout",
     "output_type": "stream",
     "text": [
      "{'ORACLE.run120', 'ORACLE.run138', 'ORACLE.run18', 'ORACLE.run132', 'ORACLE.run150', 'ORACLE.run126', 'ORACLE.run114', 'ORACLE.run144'}\n"
     ]
    },
    {
     "name": "stdout",
     "output_type": "stream",
     "text": [
      "tensor([[[-1.2417, -0.5531, -0.0226,  ..., -1.1943,  0.0000,  0.7450],\n",
      "         [ 0.4922,  0.0045, -0.1309,  ..., -1.1017,  0.0000, -0.0113]],\n",
      "\n",
      "        [[-0.7227,  1.4813,  0.5903,  ..., -0.6329, -0.5499, -0.7361],\n",
      "         [-1.6451,  0.1122,  1.4880,  ...,  0.9336,  0.1369, -0.8080]],\n",
      "\n",
      "        [[-0.9096,  0.3472,  0.5175,  ...,  0.5601,  0.3002,  0.3517],\n",
      "         [-0.4705, -0.5063, -0.8267,  ...,  0.0067, -0.7617, -1.4652]],\n",
      "\n",
      "        ...,\n",
      "\n",
      "        [[ 0.5750, -0.6974, -0.2740,  ...,  0.0082,  0.0806,  0.5593],\n",
      "         [ 0.5541,  0.3390, -0.4473,  ...,  0.5757, -0.3539, -0.0373]],\n",
      "\n",
      "        [[-0.1992,  0.2354, -0.4338,  ..., -0.2796, -0.6142, -0.4476],\n",
      "         [-0.1478, -0.1057, -0.1695,  ...,  0.7844,  0.2035, -1.1632]],\n",
      "\n",
      "        [[ 0.1379,  0.6563, -0.9306,  ...,  0.9573,  0.1127, -0.1127],\n",
      "         [-0.8372,  0.2936,  0.5020,  ...,  0.0178,  0.1839, -0.3930]]])\n"
     ]
    }
   ],
   "source": [
    "from steves_utils.transforms import get_average_magnitude, get_average_power\n",
    "\n",
    "print(set([u for u,_ in val_original_source]))\n",
    "print(set([u for u,_ in val_original_target]))\n",
    "\n",
    "s_x, s_y, q_x, q_y, _ = next(iter(train_processed_source))\n",
    "print(s_x)\n",
    "\n",
    "# for ds in [\n",
    "#     train_processed_source,\n",
    "#     val_processed_source,\n",
    "#     test_processed_source,\n",
    "#     train_processed_target,\n",
    "#     val_processed_target,\n",
    "#     test_processed_target\n",
    "# ]:\n",
    "#     for s_x, s_y, q_x, q_y, _ in ds:\n",
    "#         for X in (s_x, q_x):\n",
    "#             for x in X:\n",
    "#                 assert np.isclose(get_average_magnitude(x.numpy()), 1.0)\n",
    "#                 assert np.isclose(get_average_power(x.numpy()), 1.0)\n",
    "                "
   ]
  },
  {
   "cell_type": "code",
   "execution_count": 21,
   "id": "bbdacba1",
   "metadata": {
    "execution": {
     "iopub.execute_input": "2022-03-07T06:48:02.428990Z",
     "iopub.status.busy": "2022-03-07T06:48:02.428713Z",
     "iopub.status.idle": "2022-03-07T06:48:02.485139Z",
     "shell.execute_reply": "2022-03-07T06:48:02.485525Z"
    },
    "papermill": {
     "duration": 0.075015,
     "end_time": "2022-03-07T06:48:02.485639",
     "exception": false,
     "start_time": "2022-03-07T06:48:02.410624",
     "status": "completed"
    },
    "tags": []
   },
   "outputs": [
    {
     "name": "stdout",
     "output_type": "stream",
     "text": [
      "(2, 256)\n"
     ]
    }
   ],
   "source": [
    "###################################\n",
    "# Build the model\n",
    "###################################\n",
    "model = Steves_Prototypical_Network(x_net, device=p.device, x_shape=(2,256))\n",
    "optimizer = Adam(params=model.parameters(), lr=p.lr)"
   ]
  },
  {
   "cell_type": "code",
   "execution_count": 22,
   "id": "22b39ac5",
   "metadata": {
    "execution": {
     "iopub.execute_input": "2022-03-07T06:48:02.523132Z",
     "iopub.status.busy": "2022-03-07T06:48:02.522868Z",
     "iopub.status.idle": "2022-03-07T06:51:37.659571Z",
     "shell.execute_reply": "2022-03-07T06:51:37.659164Z"
    },
    "papermill": {
     "duration": 215.154698,
     "end_time": "2022-03-07T06:51:37.659675",
     "exception": false,
     "start_time": "2022-03-07T06:48:02.504977",
     "status": "completed"
    },
    "tags": []
   },
   "outputs": [
    {
     "name": "stdout",
     "output_type": "stream",
     "text": [
      "epoch: 1, [batch: 1 / 1347], examples_per_second: 189.0055, train_label_loss: 2.8552, \n"
     ]
    },
    {
     "name": "stdout",
     "output_type": "stream",
     "text": [
      "epoch: 1, [batch: 135 / 1347], examples_per_second: 3128.5875, train_label_loss: 0.6331, \n"
     ]
    },
    {
     "name": "stdout",
     "output_type": "stream",
     "text": [
      "epoch: 1, [batch: 270 / 1347], examples_per_second: 3159.9220, train_label_loss: 0.1006, \n"
     ]
    },
    {
     "name": "stdout",
     "output_type": "stream",
     "text": [
      "epoch: 1, [batch: 404 / 1347], examples_per_second: 3157.7009, train_label_loss: 0.1035, \n"
     ]
    },
    {
     "name": "stdout",
     "output_type": "stream",
     "text": [
      "epoch: 1, [batch: 539 / 1347], examples_per_second: 3157.4685, train_label_loss: 0.7636, \n"
     ]
    },
    {
     "name": "stdout",
     "output_type": "stream",
     "text": [
      "epoch: 1, [batch: 674 / 1347], examples_per_second: 3168.0950, train_label_loss: 0.5005, \n"
     ]
    },
    {
     "name": "stdout",
     "output_type": "stream",
     "text": [
      "epoch: 1, [batch: 808 / 1347], examples_per_second: 3134.3047, train_label_loss: 0.7635, \n"
     ]
    },
    {
     "name": "stdout",
     "output_type": "stream",
     "text": [
      "epoch: 1, [batch: 943 / 1347], examples_per_second: 3143.2232, train_label_loss: 0.1535, \n"
     ]
    },
    {
     "name": "stdout",
     "output_type": "stream",
     "text": [
      "epoch: 1, [batch: 1077 / 1347], examples_per_second: 3154.3530, train_label_loss: 0.0343, \n"
     ]
    },
    {
     "name": "stdout",
     "output_type": "stream",
     "text": [
      "epoch: 1, [batch: 1212 / 1347], examples_per_second: 3205.4386, train_label_loss: 0.5521, \n"
     ]
    },
    {
     "name": "stdout",
     "output_type": "stream",
     "text": [
      "=============================================================\n",
      "epoch: 1, source_val_acc_label: 0.9351, target_val_acc_label: 0.1640, source_val_label_loss: 0.2755, target_val_label_loss: 2.5394, \n",
      "=============================================================\n"
     ]
    },
    {
     "name": "stdout",
     "output_type": "stream",
     "text": [
      "New best\n"
     ]
    },
    {
     "name": "stdout",
     "output_type": "stream",
     "text": [
      "epoch: 2, [batch: 1 / 1346], examples_per_second: 12.8513, train_label_loss: 0.2630, \n"
     ]
    },
    {
     "name": "stdout",
     "output_type": "stream",
     "text": [
      "epoch: 2, [batch: 135 / 1346], examples_per_second: 3195.9998, train_label_loss: 0.1100, \n"
     ]
    },
    {
     "name": "stdout",
     "output_type": "stream",
     "text": [
      "epoch: 2, [batch: 270 / 1346], examples_per_second: 3172.8357, train_label_loss: 0.0630, \n"
     ]
    },
    {
     "name": "stdout",
     "output_type": "stream",
     "text": [
      "epoch: 2, [batch: 404 / 1346], examples_per_second: 3143.1018, train_label_loss: 0.1080, \n"
     ]
    },
    {
     "name": "stdout",
     "output_type": "stream",
     "text": [
      "epoch: 2, [batch: 539 / 1346], examples_per_second: 3136.8642, train_label_loss: 0.0412, \n"
     ]
    },
    {
     "name": "stdout",
     "output_type": "stream",
     "text": [
      "epoch: 2, [batch: 673 / 1346], examples_per_second: 3149.9254, train_label_loss: 0.0636, \n"
     ]
    },
    {
     "name": "stdout",
     "output_type": "stream",
     "text": [
      "epoch: 2, [batch: 808 / 1346], examples_per_second: 3176.0627, train_label_loss: 0.5672, \n"
     ]
    },
    {
     "name": "stdout",
     "output_type": "stream",
     "text": [
      "epoch: 2, [batch: 942 / 1346], examples_per_second: 3160.5271, train_label_loss: 0.0080, \n"
     ]
    },
    {
     "name": "stdout",
     "output_type": "stream",
     "text": [
      "epoch: 2, [batch: 1077 / 1346], examples_per_second: 3178.0657, train_label_loss: 0.0151, \n"
     ]
    },
    {
     "name": "stdout",
     "output_type": "stream",
     "text": [
      "epoch: 2, [batch: 1211 / 1346], examples_per_second: 3178.8206, train_label_loss: 0.3915, \n"
     ]
    },
    {
     "name": "stdout",
     "output_type": "stream",
     "text": [
      "=============================================================\n",
      "epoch: 2, source_val_acc_label: 0.9499, target_val_acc_label: 0.1594, source_val_label_loss: 0.2241, target_val_label_loss: 2.5804, \n",
      "=============================================================\n"
     ]
    },
    {
     "name": "stdout",
     "output_type": "stream",
     "text": [
      "epoch: 3, [batch: 1 / 1347], examples_per_second: 12.7810, train_label_loss: 0.3503, \n"
     ]
    },
    {
     "name": "stdout",
     "output_type": "stream",
     "text": [
      "epoch: 3, [batch: 135 / 1347], examples_per_second: 3150.1725, train_label_loss: 0.3079, \n"
     ]
    },
    {
     "name": "stdout",
     "output_type": "stream",
     "text": [
      "epoch: 3, [batch: 270 / 1347], examples_per_second: 3161.2718, train_label_loss: 0.2072, \n"
     ]
    },
    {
     "name": "stdout",
     "output_type": "stream",
     "text": [
      "epoch: 3, [batch: 404 / 1347], examples_per_second: 3170.8572, train_label_loss: 0.4449, \n"
     ]
    },
    {
     "name": "stdout",
     "output_type": "stream",
     "text": [
      "epoch: 3, [batch: 539 / 1347], examples_per_second: 3164.6084, train_label_loss: 0.1589, \n"
     ]
    },
    {
     "name": "stdout",
     "output_type": "stream",
     "text": [
      "epoch: 3, [batch: 674 / 1347], examples_per_second: 3164.3433, train_label_loss: 0.0180, \n"
     ]
    },
    {
     "name": "stdout",
     "output_type": "stream",
     "text": [
      "epoch: 3, [batch: 808 / 1347], examples_per_second: 3177.2313, train_label_loss: 0.0935, \n"
     ]
    },
    {
     "name": "stdout",
     "output_type": "stream",
     "text": [
      "epoch: 3, [batch: 943 / 1347], examples_per_second: 3179.6580, train_label_loss: 0.1262, \n"
     ]
    },
    {
     "name": "stdout",
     "output_type": "stream",
     "text": [
      "epoch: 3, [batch: 1077 / 1347], examples_per_second: 3197.9556, train_label_loss: 0.0165, \n"
     ]
    },
    {
     "name": "stdout",
     "output_type": "stream",
     "text": [
      "epoch: 3, [batch: 1212 / 1347], examples_per_second: 3176.4696, train_label_loss: 0.2163, \n"
     ]
    },
    {
     "name": "stdout",
     "output_type": "stream",
     "text": [
      "=============================================================\n",
      "epoch: 3, source_val_acc_label: 0.9577, target_val_acc_label: 0.1726, source_val_label_loss: 0.2106, target_val_label_loss: 2.5434, \n",
      "=============================================================\n"
     ]
    },
    {
     "name": "stdout",
     "output_type": "stream",
     "text": [
      "epoch: 4, [batch: 1 / 1346], examples_per_second: 12.8950, train_label_loss: 0.0158, \n"
     ]
    },
    {
     "name": "stdout",
     "output_type": "stream",
     "text": [
      "epoch: 4, [batch: 135 / 1346], examples_per_second: 3150.2189, train_label_loss: 0.2164, \n"
     ]
    },
    {
     "name": "stdout",
     "output_type": "stream",
     "text": [
      "epoch: 4, [batch: 270 / 1346], examples_per_second: 3194.8826, train_label_loss: 0.0877, \n"
     ]
    },
    {
     "name": "stdout",
     "output_type": "stream",
     "text": [
      "epoch: 4, [batch: 404 / 1346], examples_per_second: 3200.8035, train_label_loss: 0.0084, \n"
     ]
    },
    {
     "name": "stdout",
     "output_type": "stream",
     "text": [
      "epoch: 4, [batch: 539 / 1346], examples_per_second: 3181.8853, train_label_loss: 0.2377, \n"
     ]
    },
    {
     "name": "stdout",
     "output_type": "stream",
     "text": [
      "epoch: 4, [batch: 673 / 1346], examples_per_second: 3163.0567, train_label_loss: 0.0231, \n"
     ]
    },
    {
     "name": "stdout",
     "output_type": "stream",
     "text": [
      "epoch: 4, [batch: 808 / 1346], examples_per_second: 3171.9857, train_label_loss: 0.0206, \n"
     ]
    },
    {
     "name": "stdout",
     "output_type": "stream",
     "text": [
      "epoch: 4, [batch: 942 / 1346], examples_per_second: 3168.6061, train_label_loss: 0.1256, \n"
     ]
    },
    {
     "name": "stdout",
     "output_type": "stream",
     "text": [
      "epoch: 4, [batch: 1077 / 1346], examples_per_second: 3166.1118, train_label_loss: 0.3240, \n"
     ]
    },
    {
     "name": "stdout",
     "output_type": "stream",
     "text": [
      "epoch: 4, [batch: 1211 / 1346], examples_per_second: 3189.1210, train_label_loss: 0.4000, \n"
     ]
    },
    {
     "name": "stdout",
     "output_type": "stream",
     "text": [
      "=============================================================\n",
      "epoch: 4, source_val_acc_label: 0.9562, target_val_acc_label: 0.1455, source_val_label_loss: 0.1907, target_val_label_loss: 2.7106, \n",
      "=============================================================\n"
     ]
    },
    {
     "name": "stdout",
     "output_type": "stream",
     "text": [
      "epoch: 5, [batch: 1 / 1346], examples_per_second: 12.8892, train_label_loss: 0.0601, \n"
     ]
    },
    {
     "name": "stdout",
     "output_type": "stream",
     "text": [
      "epoch: 5, [batch: 135 / 1346], examples_per_second: 3168.4619, train_label_loss: 0.2795, \n"
     ]
    },
    {
     "name": "stdout",
     "output_type": "stream",
     "text": [
      "epoch: 5, [batch: 270 / 1346], examples_per_second: 3173.0784, train_label_loss: 0.0024, \n"
     ]
    },
    {
     "name": "stdout",
     "output_type": "stream",
     "text": [
      "epoch: 5, [batch: 404 / 1346], examples_per_second: 3177.4786, train_label_loss: 0.0924, \n"
     ]
    },
    {
     "name": "stdout",
     "output_type": "stream",
     "text": [
      "epoch: 5, [batch: 539 / 1346], examples_per_second: 3160.9133, train_label_loss: 0.2176, \n"
     ]
    },
    {
     "name": "stdout",
     "output_type": "stream",
     "text": [
      "epoch: 5, [batch: 673 / 1346], examples_per_second: 3167.0101, train_label_loss: 0.2585, \n"
     ]
    },
    {
     "name": "stdout",
     "output_type": "stream",
     "text": [
      "epoch: 5, [batch: 808 / 1346], examples_per_second: 3162.5415, train_label_loss: 0.0191, \n"
     ]
    },
    {
     "name": "stdout",
     "output_type": "stream",
     "text": [
      "epoch: 5, [batch: 942 / 1346], examples_per_second: 3159.0354, train_label_loss: 0.0034, \n"
     ]
    },
    {
     "name": "stdout",
     "output_type": "stream",
     "text": [
      "epoch: 5, [batch: 1077 / 1346], examples_per_second: 3175.6911, train_label_loss: 0.0048, \n"
     ]
    },
    {
     "name": "stdout",
     "output_type": "stream",
     "text": [
      "epoch: 5, [batch: 1211 / 1346], examples_per_second: 3168.9192, train_label_loss: 0.0631, \n"
     ]
    },
    {
     "name": "stdout",
     "output_type": "stream",
     "text": [
      "=============================================================\n",
      "epoch: 5, source_val_acc_label: 0.9629, target_val_acc_label: 0.1405, source_val_label_loss: 0.1863, target_val_label_loss: 2.7229, \n",
      "=============================================================\n"
     ]
    },
    {
     "name": "stdout",
     "output_type": "stream",
     "text": [
      "Patience (3) exhausted\n"
     ]
    }
   ],
   "source": [
    "###################################\n",
    "# train\n",
    "###################################\n",
    "jig = PTN_Train_Eval_Test_Jig(model, p.BEST_MODEL_PATH, p.device)\n",
    "\n",
    "jig.train(\n",
    "    train_iterable=datasets.source.processed.train,\n",
    "    source_val_iterable=datasets.source.processed.val,\n",
    "    target_val_iterable=datasets.target.processed.val,\n",
    "    num_epochs=p.n_epoch,\n",
    "    num_logs_per_epoch=p.NUM_LOGS_PER_EPOCH,\n",
    "    patience=p.patience,\n",
    "    optimizer=optimizer,\n",
    "    criteria_for_best=p.criteria_for_best,\n",
    ")"
   ]
  },
  {
   "cell_type": "code",
   "execution_count": 23,
   "id": "31e8fabf",
   "metadata": {
    "execution": {
     "iopub.execute_input": "2022-03-07T06:51:37.717494Z",
     "iopub.status.busy": "2022-03-07T06:51:37.717239Z",
     "iopub.status.idle": "2022-03-07T06:51:37.732215Z",
     "shell.execute_reply": "2022-03-07T06:51:37.731838Z"
    },
    "papermill": {
     "duration": 0.04251,
     "end_time": "2022-03-07T06:51:37.732309",
     "exception": false,
     "start_time": "2022-03-07T06:51:37.689799",
     "status": "completed"
    },
    "tags": []
   },
   "outputs": [],
   "source": [
    "total_experiment_time_secs = time.time() - start_time_secs"
   ]
  },
  {
   "cell_type": "code",
   "execution_count": 24,
   "id": "87b9595b",
   "metadata": {
    "execution": {
     "iopub.execute_input": "2022-03-07T06:51:37.791489Z",
     "iopub.status.busy": "2022-03-07T06:51:37.791219Z",
     "iopub.status.idle": "2022-03-07T06:52:37.252102Z",
     "shell.execute_reply": "2022-03-07T06:52:37.251623Z"
    },
    "papermill": {
     "duration": 59.490893,
     "end_time": "2022-03-07T06:52:37.252227",
     "exception": false,
     "start_time": "2022-03-07T06:51:37.761334",
     "status": "completed"
    },
    "tags": []
   },
   "outputs": [],
   "source": [
    "###################################\n",
    "# Evaluate the model\n",
    "###################################\n",
    "source_test_label_accuracy, source_test_label_loss = jig.test(datasets.source.processed.test)\n",
    "target_test_label_accuracy, target_test_label_loss = jig.test(datasets.target.processed.test)\n",
    "\n",
    "source_val_label_accuracy, source_val_label_loss = jig.test(datasets.source.processed.val)\n",
    "target_val_label_accuracy, target_val_label_loss = jig.test(datasets.target.processed.val)\n",
    "\n",
    "history = jig.get_history()\n",
    "\n",
    "total_epochs_trained = len(history[\"epoch_indices\"])\n",
    "\n",
    "val_dl = Iterable_Aggregator((datasets.source.original.val,datasets.target.original.val))\n",
    "\n",
    "confusion = ptn_confusion_by_domain_over_dataloader(model, p.device, val_dl)\n",
    "per_domain_accuracy = per_domain_accuracy_from_confusion(confusion)\n",
    "\n",
    "# Add a key to per_domain_accuracy for if it was a source domain\n",
    "for domain, accuracy in per_domain_accuracy.items():\n",
    "    per_domain_accuracy[domain] = {\n",
    "        \"accuracy\": accuracy,\n",
    "        \"source?\": domain in p.domains_source\n",
    "    }\n",
    "\n",
    "# Do an independent accuracy assesment JUST TO BE SURE!\n",
    "# _source_test_label_accuracy = independent_accuracy_assesment(model, datasets.source.processed.test, p.device)\n",
    "# _target_test_label_accuracy = independent_accuracy_assesment(model, datasets.target.processed.test, p.device)\n",
    "# _source_val_label_accuracy = independent_accuracy_assesment(model, datasets.source.processed.val, p.device)\n",
    "# _target_val_label_accuracy = independent_accuracy_assesment(model, datasets.target.processed.val, p.device)\n",
    "\n",
    "# assert(_source_test_label_accuracy == source_test_label_accuracy)\n",
    "# assert(_target_test_label_accuracy == target_test_label_accuracy)\n",
    "# assert(_source_val_label_accuracy == source_val_label_accuracy)\n",
    "# assert(_target_val_label_accuracy == target_val_label_accuracy)\n",
    "\n",
    "experiment = {\n",
    "    \"experiment_name\": p.experiment_name,\n",
    "    \"parameters\": dict(p),\n",
    "    \"results\": {\n",
    "        \"source_test_label_accuracy\": source_test_label_accuracy,\n",
    "        \"source_test_label_loss\": source_test_label_loss,\n",
    "        \"target_test_label_accuracy\": target_test_label_accuracy,\n",
    "        \"target_test_label_loss\": target_test_label_loss,\n",
    "        \"source_val_label_accuracy\": source_val_label_accuracy,\n",
    "        \"source_val_label_loss\": source_val_label_loss,\n",
    "        \"target_val_label_accuracy\": target_val_label_accuracy,\n",
    "        \"target_val_label_loss\": target_val_label_loss,\n",
    "        \"total_epochs_trained\": total_epochs_trained,\n",
    "        \"total_experiment_time_secs\": total_experiment_time_secs,\n",
    "        \"confusion\": confusion,\n",
    "        \"per_domain_accuracy\": per_domain_accuracy,\n",
    "    },\n",
    "    \"history\": history,\n",
    "    \"dataset_metrics\": get_dataset_metrics(datasets, \"ptn\"),\n",
    "}"
   ]
  },
  {
   "cell_type": "code",
   "execution_count": 25,
   "id": "54a21829",
   "metadata": {
    "execution": {
     "iopub.execute_input": "2022-03-07T06:52:37.311878Z",
     "iopub.status.busy": "2022-03-07T06:52:37.311613Z",
     "iopub.status.idle": "2022-03-07T06:52:37.487113Z",
     "shell.execute_reply": "2022-03-07T06:52:37.486630Z"
    },
    "papermill": {
     "duration": 0.20274,
     "end_time": "2022-03-07T06:52:37.487213",
     "exception": false,
     "start_time": "2022-03-07T06:52:37.284473",
     "status": "completed"
    },
    "tags": []
   },
   "outputs": [
    {
     "data": {
      "image/png": "[encoded data removed]",
      "text/plain": [
       "<Figure size 1080x504 with 1 Axes>"
      ]
     },
     "metadata": {
      "needs_background": "light"
     },
     "output_type": "display_data"
    }
   ],
   "source": [
    "ax = get_loss_curve(experiment)\n",
    "plt.show()"
   ]
  },
  {
   "cell_type": "code",
   "execution_count": 26,
   "id": "fd8a0f60",
   "metadata": {
    "execution": {
     "iopub.execute_input": "2022-03-07T06:52:37.544781Z",
     "iopub.status.busy": "2022-03-07T06:52:37.544519Z",
     "iopub.status.idle": "2022-03-07T06:52:37.723110Z",
     "shell.execute_reply": "2022-03-07T06:52:37.722889Z"
    },
    "papermill": {
     "duration": 0.206611,
     "end_time": "2022-03-07T06:52:37.723167",
     "exception": false,
     "start_time": "2022-03-07T06:52:37.516556",
     "status": "completed"
    },
    "tags": []
   },
   "outputs": [
    {
     "data": {
      "text/plain": [
       "<matplotlib.axes._subplots.AxesSubplot at 0x7f2e7ec59ac0>"
      ]
     },
     "execution_count": 26,
     "metadata": {},
     "output_type": "execute_result"
    },
    {
     "data": {
      "image/png": "[encoded data removed]",
      "text/plain": [
       "<Figure size 1080x504 with 1 Axes>"
      ]
     },
     "metadata": {
      "needs_background": "light"
     },
     "output_type": "display_data"
    }
   ],
   "source": [
    "get_results_table(experiment)"
   ]
  },
  {
   "cell_type": "code",
   "execution_count": 27,
   "id": "cf8dc689",
   "metadata": {
    "execution": {
     "iopub.execute_input": "2022-03-07T06:52:37.779765Z",
     "iopub.status.busy": "2022-03-07T06:52:37.779472Z",
     "iopub.status.idle": "2022-03-07T06:52:37.976636Z",
     "shell.execute_reply": "2022-03-07T06:52:37.976172Z"
    },
    "papermill": {
     "duration": 0.22644,
     "end_time": "2022-03-07T06:52:37.976733",
     "exception": false,
     "start_time": "2022-03-07T06:52:37.750293",
     "status": "completed"
    },
    "tags": []
   },
   "outputs": [
    {
     "data": {
      "text/plain": [
       "<matplotlib.axes._subplots.AxesSubplot at 0x7f2f03bb0310>"
      ]
     },
     "execution_count": 27,
     "metadata": {},
     "output_type": "execute_result"
    },
    {
     "data": {
      "image/png": "[encoded data removed]",
      "text/plain": [
       "<Figure size 1080x504 with 1 Axes>"
      ]
     },
     "metadata": {
      "needs_background": "light"
     },
     "output_type": "display_data"
    }
   ],
   "source": [
    "get_domain_accuracies(experiment)"
   ]
  },
  {
   "cell_type": "code",
   "execution_count": 28,
   "id": "a74ae082",
   "metadata": {
    "execution": {
     "iopub.execute_input": "2022-03-07T06:52:38.038547Z",
     "iopub.status.busy": "2022-03-07T06:52:38.038271Z",
     "iopub.status.idle": "2022-03-07T06:52:38.052846Z",
     "shell.execute_reply": "2022-03-07T06:52:38.052388Z"
    },
    "papermill": {
     "duration": 0.045347,
     "end_time": "2022-03-07T06:52:38.052939",
     "exception": false,
     "start_time": "2022-03-07T06:52:38.007592",
     "status": "completed"
    },
    "tags": []
   },
   "outputs": [
    {
     "name": "stdout",
     "output_type": "stream",
     "text": [
      "Source Test Label Accuracy: 0.92822265625 Target Test Label Accuracy: 0.17154947916666666\n",
      "Source Val Label Accuracy: 0.93505859375 Target Val Label Accuracy: 0.16399739583333334\n"
     ]
    }
   ],
   "source": [
    "print(\"Source Test Label Accuracy:\", experiment[\"results\"][\"source_test_label_accuracy\"], \"Target Test Label Accuracy:\", experiment[\"results\"][\"target_test_label_accuracy\"])\n",
    "print(\"Source Val Label Accuracy:\", experiment[\"results\"][\"source_val_label_accuracy\"], \"Target Val Label Accuracy:\", experiment[\"results\"][\"target_val_label_accuracy\"])"
   ]
  },
  {
   "cell_type": "code",
   "execution_count": 29,
   "id": "dacca602",
   "metadata": {
    "execution": {
     "iopub.execute_input": "2022-03-07T06:52:38.119306Z",
     "iopub.status.busy": "2022-03-07T06:52:38.114845Z",
     "iopub.status.idle": "2022-03-07T06:52:38.130477Z",
     "shell.execute_reply": "2022-03-07T06:52:38.130941Z"
    },
    "papermill": {
     "duration": 0.046305,
     "end_time": "2022-03-07T06:52:38.131066",
     "exception": false,
     "start_time": "2022-03-07T06:52:38.084761",
     "status": "completed"
    },
    "tags": [
     "experiment_json"
    ]
   },
   "outputs": [
    {
     "data": {
      "text/plain": [
       "'{\"experiment_name\": \"tl_1_wisig-oracle.run1\", \"parameters\": {\"experiment_name\": \"tl_1_wisig-oracle.run1\", \"device\": \"cuda\", \"lr\": 0.001, \"seed\": 1337, \"dataset_seed\": 1337, \"n_shot\": 3, \"n_query\": 2, \"train_k_factor\": 3, \"val_k_factor\": 2, \"test_k_factor\": 2, \"torch_default_dtype\": \"torch.float32\", \"n_epoch\": 50, \"patience\": 3, \"criteria_for_best\": \"target_loss\", \"x_net\": [{\"class\": \"nnReshape\", \"kargs\": {\"shape\": [-1, 1, 2, 256]}}, {\"class\": \"Conv2d\", \"kargs\": {\"in_channels\": 1, \"out_channels\": 256, \"kernel_size\": [1, 7], \"bias\": false, \"padding\": [0, 3]}}, {\"class\": \"ReLU\", \"kargs\": {\"inplace\": true}}, {\"class\": \"BatchNorm2d\", \"kargs\": {\"num_features\": 256}}, {\"class\": \"Conv2d\", \"kargs\": {\"in_channels\": 256, \"out_channels\": 80, \"kernel_size\": [2, 7], \"bias\": true, \"padding\": [0, 3]}}, {\"class\": \"ReLU\", \"kargs\": {\"inplace\": true}}, {\"class\": \"BatchNorm2d\", \"kargs\": {\"num_features\": 80}}, {\"class\": \"Flatten\", \"kargs\": {}}, {\"class\": \"Linear\", \"kargs\": {\"in_features\": 20480, \"out_features\": 256}}, {\"class\": \"ReLU\", \"kargs\": {\"inplace\": true}}, {\"class\": \"BatchNorm1d\", \"kargs\": {\"num_features\": 256}}, {\"class\": \"Linear\", \"kargs\": {\"in_features\": 256, \"out_features\": 256}}], \"NUM_LOGS_PER_EPOCH\": 10, \"BEST_MODEL_PATH\": \"./best_model.pth\", \"n_way\": 16, \"datasets\": [{\"labels\": [\"1-10\", \"1-12\", \"1-14\", \"1-16\", \"1-18\", \"1-19\", \"1-8\", \"10-11\", \"10-17\", \"10-4\", \"10-7\", \"11-1\", \"11-10\", \"11-19\", \"11-20\", \"11-4\", \"11-7\", \"12-19\", \"12-20\", \"12-7\", \"13-14\", \"13-18\", \"13-19\", \"13-20\", \"13-3\", \"13-7\", \"14-10\", \"14-11\", \"14-12\", \"14-13\", \"14-14\", \"14-19\", \"14-20\", \"14-7\", \"14-8\", \"14-9\", \"15-1\", \"15-19\", \"15-6\", \"16-1\", \"16-16\", \"16-19\", \"16-20\", \"17-10\", \"17-11\", \"18-1\", \"18-10\", \"18-11\", \"18-12\", \"18-13\", \"18-14\", \"18-15\", \"18-16\", \"18-17\", \"18-19\", \"18-2\", \"18-20\", \"18-4\", \"18-5\", \"18-7\", \"18-8\", \"18-9\", \"19-1\", \"19-10\", \"19-11\", \"19-12\", \"19-13\", \"19-14\", \"19-15\", \"19-19\", \"19-2\", \"19-20\", \"19-3\", \"19-4\", \"19-6\", \"19-7\", \"19-8\", \"19-9\", \"2-1\", \"2-13\", \"2-15\", \"2-3\", \"2-4\", \"2-5\", \"2-6\", \"2-7\", \"2-8\", \"20-1\", \"20-12\", \"20-14\", \"20-15\", \"20-16\", \"20-18\", \"20-19\", \"20-20\", \"20-3\", \"20-4\", \"20-5\", \"20-7\", \"20-8\", \"3-1\", \"3-13\", \"3-18\", \"3-2\", \"3-8\", \"4-1\", \"4-10\", \"4-11\", \"5-1\", \"5-5\", \"6-1\", \"6-15\", \"6-6\", \"7-10\", \"7-11\", \"7-12\", \"7-13\", \"7-14\", \"7-7\", \"7-8\", \"7-9\", \"8-1\", \"8-13\", \"8-14\", \"8-18\", \"8-20\", \"8-3\", \"8-8\", \"9-1\", \"9-7\"], \"domains\": [1, 2, 3, 4], \"num_examples_per_domain_per_label\": 100, \"pickle_path\": \"/mnt/wd500GB/CSC500/csc500-main/datasets/wisig.node3-19.stratified_ds.2022A.pkl\", \"source_or_target_dataset\": \"source\", \"x_transforms\": [\"unit_mag\"], \"episode_transforms\": [], \"domain_prefix\": \"Wisig_\"}, {\"labels\": [\"3123D52\", \"3123D65\", \"3123D79\", \"3123D80\", \"3123D54\", \"3123D70\", \"3123D7B\", \"3123D89\", \"3123D58\", \"3123D76\", \"3123D7D\", \"3123EFE\", \"3123D64\", \"3123D78\", \"3123D7E\", \"3124E4A\"], \"domains\": [32, 38, 8, 44, 14, 50, 20, 26], \"num_examples_per_domain_per_label\": 2000, \"pickle_path\": \"/mnt/wd500GB/CSC500/csc500-main/datasets/oracle.Run1_framed_2000Examples_stratified_ds.2022A.pkl\", \"source_or_target_dataset\": \"target\", \"x_transforms\": [\"unit_mag\"], \"episode_transforms\": [], \"domain_prefix\": \"ORACLE.run1\"}], \"domains_source\": [\"Wisig_1\", \"Wisig_2\", \"Wisig_3\", \"Wisig_4\"], \"domains_target\": [\"ORACLE.run132\", \"ORACLE.run138\", \"ORACLE.run18\", \"ORACLE.run144\", \"ORACLE.run114\", \"ORACLE.run150\", \"ORACLE.run120\", \"ORACLE.run126\"]}, \"results\": {\"source_test_label_accuracy\": 0.92822265625, \"source_test_label_loss\": 0.30536168813705444, \"target_test_label_accuracy\": 0.17154947916666666, \"target_test_label_loss\": 2.5305726528167725, \"source_val_label_accuracy\": 0.93505859375, \"source_val_label_loss\": 0.27551373839378357, \"target_val_label_accuracy\": 0.16399739583333334, \"target_val_label_loss\": 2.5393826961517334, \"total_epochs_trained\": 5, \"total_experiment_time_secs\": 239.77925491333008, \"confusion\": {\"Wisig_3\": {\"109\": {\"109\": 12}, \"127\": {\"127\": 12}, \"14\": {\"14\": 12}, \"7\": {\"7\": 12}, \"129\": {\"129\": 12}, \"57\": {\"57\": 12}, \"84\": {\"84\": 10, \"0\": 1, \"68\": 1}, \"114\": {\"114\": 12}, \"44\": {\"44\": 11, \"80\": 1}, \"21\": {\"21\": 12}, \"46\": {\"46\": 12}, \"100\": {\"100\": 12}, \"63\": {\"63\": 8, \"100\": 1, \"47\": 1, \"43\": 1, \"60\": 1}, \"24\": {\"24\": 6, \"21\": 1, \"54\": 2, \"36\": 2, \"118\": 1}, \"107\": {\"107\": 12}, \"35\": {\"7\": 1, \"35\": 8, \"95\": 1}, \"81\": {\"81\": 12}, \"64\": {\"64\": 12}, \"59\": {\"59\": 12}, \"33\": {\"33\": 12}, \"34\": {\"34\": 11, \"75\": 1}, \"36\": {\"36\": 11, \"25\": 1}, \"79\": {\"79\": 12}, \"80\": {\"80\": 11, \"122\": 1}, \"77\": {\"77\": 12}, \"22\": {\"22\": 12}, \"124\": {\"124\": 12}, \"2\": {\"2\": 12}, \"87\": {\"87\": 11, \"17\": 1}, \"105\": {\"105\": 12}, \"95\": {\"95\": 12}, \"43\": {\"43\": 11, \"33\": 1}, \"56\": {\"56\": 9, \"86\": 1}, \"18\": {\"18\": 12}, \"85\": {\"85\": 12}, \"113\": {\"126\": 1, \"113\": 11}, \"97\": {\"97\": 11, \"51\": 1}, \"86\": {\"86\": 12}, \"128\": {\"128\": 10, \"21\": 1, \"122\": 1}, \"123\": {\"123\": 12}, \"8\": {\"8\": 12}, \"110\": {\"110\": 12}, \"126\": {\"18\": 1, \"126\": 11}, \"101\": {\"101\": 12}, \"115\": {\"14\": 1, \"115\": 11}, \"49\": {\"49\": 11, \"42\": 1}, \"45\": {\"45\": 12}, \"78\": {\"84\": 1, \"78\": 5, \"82\": 3, \"13\": 1, \"127\": 2}, \"65\": {\"65\": 10}, \"54\": {\"54\": 12}, \"31\": {\"31\": 9, \"110\": 1}, \"42\": {\"49\": 2, \"42\": 8, \"20\": 1, \"82\": 1}, \"68\": {\"68\": 12}, \"15\": {\"15\": 12}, \"69\": {\"69\": 12}, \"17\": {\"102\": 1, \"17\": 8, \"9\": 1}, \"73\": {\"73\": 12}, \"121\": {\"121\": 11, \"126\": 1}, \"102\": {\"102\": 12}, \"48\": {\"48\": 10, \"37\": 2}, \"23\": {\"23\": 5, \"128\": 1, \"70\": 2, \"67\": 2, \"8\": 1, \"59\": 1}, \"108\": {\"108\": 10, \"53\": 1, \"42\": 1}, \"53\": {\"53\": 12}, \"94\": {\"94\": 10}, \"41\": {\"41\": 12}, \"58\": {\"58\": 12}, \"29\": {\"29\": 12}, \"116\": {\"116\": 11, \"78\": 1}, \"60\": {\"60\": 10, \"70\": 1, \"5\": 1}, \"104\": {\"104\": 12}, \"106\": {\"106\": 11, \"30\": 1}, \"66\": {\"66\": 12}, \"47\": {\"47\": 12}, \"40\": {\"40\": 12}, \"82\": {\"82\": 11, \"86\": 1}, \"13\": {\"13\": 5, \"78\": 1, \"122\": 1, \"90\": 1, \"120\": 1, \"65\": 1, \"51\": 1, \"11\": 1}, \"19\": {\"19\": 12}, \"72\": {\"72\": 12}, \"9\": {\"9\": 12}, \"67\": {\"67\": 12}, \"11\": {\"11\": 12}, \"125\": {\"125\": 12}, \"76\": {\"76\": 8}, \"83\": {\"83\": 12}, \"74\": {\"74\": 11, \"24\": 1}, \"20\": {\"20\": 12}, \"119\": {\"119\": 12}, \"1\": {\"1\": 12}, \"16\": {\"16\": 12}, \"25\": {\"25\": 11, \"74\": 1}, \"90\": {\"90\": 8}, \"39\": {\"39\": 11, \"26\": 1}, \"28\": {\"28\": 12}, \"55\": {\"55\": 12}, \"117\": {\"117\": 11, \"63\": 1}, \"112\": {\"112\": 12}, \"38\": {\"38\": 12}, \"37\": {\"37\": 12}, \"120\": {\"120\": 12}, \"122\": {\"122\": 12}, \"50\": {\"50\": 12}, \"10\": {\"10\": 12}, \"5\": {\"5\": 12}, \"51\": {\"51\": 12}, \"3\": {\"3\": 10, \"70\": 1, \"122\": 1}, \"98\": {\"98\": 11, \"21\": 1}, \"70\": {\"70\": 9, \"49\": 1, \"1\": 1, \"110\": 1}, \"96\": {\"96\": 12}, \"12\": {\"12\": 12}, \"99\": {\"99\": 12}, \"52\": {\"52\": 12}, \"71\": {\"71\": 9, \"128\": 1, \"61\": 1, \"3\": 1}, \"89\": {\"89\": 12}, \"0\": {\"0\": 12}, \"4\": {\"4\": 9, \"118\": 1, \"128\": 1, \"101\": 1}, \"93\": {\"93\": 12}, \"6\": {\"6\": 9, \"58\": 1}, \"75\": {\"75\": 12}, \"62\": {\"62\": 12}, \"103\": {\"103\": 12}, \"30\": {\"30\": 12}, \"91\": {\"91\": 8, \"6\": 1, \"98\": 1, \"29\": 1, \"34\": 1}, \"27\": {\"27\": 12}, \"26\": {\"26\": 12}, \"61\": {\"61\": 12}, \"118\": {\"118\": 11, \"109\": 1}, \"92\": {\"92\": 11, \"44\": 1}, \"111\": {\"111\": 12}, \"32\": {\"32\": 12}, \"88\": {\"85\": 1, \"88\": 7, \"73\": 2}}, \"Wisig_4\": {\"28\": {\"28\": 12}, \"4\": {\"4\": 11, \"86\": 1}, \"72\": {\"72\": 12}, \"111\": {\"111\": 12}, \"108\": {\"108\": 9, \"73\": 2, \"129\": 1}, \"43\": {\"43\": 10}, \"96\": {\"96\": 11, \"117\": 1}, \"89\": {\"89\": 12}, \"31\": {\"31\": 12}, \"45\": {\"45\": 12}, \"2\": {\"2\": 11, \"121\": 1}, \"114\": {\"114\": 12}, \"11\": {\"11\": 11, \"108\": 1}, \"12\": {\"12\": 12}, \"14\": {\"14\": 11, \"96\": 1}, \"90\": {\"90\": 12}, \"10\": {\"10\": 11, \"59\": 1}, \"63\": {\"82\": 2, \"63\": 10}, \"85\": {\"85\": 11, \"10\": 1}, \"64\": {\"64\": 12}, \"82\": {\"82\": 10, \"89\": 1, \"70\": 1}, \"58\": {\"58\": 12}, \"3\": {\"3\": 12}, \"54\": {\"54\": 12}, \"121\": {\"121\": 4, \"63\": 1, \"81\": 1, \"60\": 1, \"123\": 1, \"23\": 1, \"2\": 1, \"29\": 1, \"75\": 1}, \"42\": {\"42\": 12}, \"98\": {\"98\": 12}, \"123\": {\"123\": 11, \"113\": 1}, \"91\": {\"91\": 11, \"54\": 1}, \"66\": {\"66\": 12}, \"102\": {\"102\": 12}, \"122\": {\"122\": 11, \"43\": 1}, \"1\": {\"1\": 12}, \"15\": {\"15\": 12}, \"97\": {\"125\": 1, \"97\": 9, \"5\": 1, \"15\": 1}, \"75\": {\"75\": 12}, \"95\": {\"95\": 12}, \"57\": {\"57\": 12}, \"68\": {\"68\": 12}, \"125\": {\"125\": 12}, \"62\": {\"62\": 10}, \"27\": {\"27\": 9, \"21\": 1, \"88\": 1, \"100\": 1}, \"120\": {\"120\": 11, \"103\": 1}, \"26\": {\"26\": 11, \"117\": 1}, \"55\": {\"55\": 12}, \"71\": {\"71\": 11, \"122\": 1}, \"22\": {\"22\": 12}, \"99\": {\"99\": 12}, \"84\": {\"84\": 10, \"103\": 1, \"43\": 1}, \"37\": {\"37\": 12}, \"83\": {\"83\": 12}, \"46\": {\"46\": 12}, \"35\": {\"35\": 12}, \"13\": {\"13\": 12}, \"53\": {\"53\": 10, \"86\": 1, \"21\": 1}, \"127\": {\"127\": 12}, \"69\": {\"0\": 1, \"69\": 10, \"78\": 1}, \"48\": {\"48\": 11, \"88\": 1}, \"16\": {\"16\": 12}, \"0\": {\"0\": 12}, \"8\": {\"8\": 10, \"0\": 1, \"100\": 1}, \"9\": {\"9\": 12}, \"115\": {\"115\": 10, \"8\": 1, \"110\": 1}, \"70\": {\"46\": 1, \"70\": 6, \"78\": 1, \"100\": 1, \"53\": 2, \"88\": 1}, \"119\": {\"119\": 12}, \"59\": {\"59\": 12}, \"52\": {\"52\": 12}, \"60\": {\"60\": 6, \"44\": 1, \"99\": 2, \"19\": 1, \"88\": 2}, \"44\": {\"44\": 11, \"90\": 1}, \"51\": {\"51\": 9, \"68\": 1, \"70\": 1, \"94\": 1}, \"6\": {\"59\": 3, \"6\": 7, \"34\": 1, \"58\": 1}, \"73\": {\"73\": 12}, \"78\": {\"78\": 9, \"33\": 1, \"87\": 1, \"21\": 1}, \"92\": {\"92\": 12}, \"20\": {\"20\": 11, \"23\": 1}, \"17\": {\"17\": 12}, \"74\": {\"74\": 12}, \"19\": {\"19\": 12}, \"50\": {\"50\": 12}, \"34\": {\"34\": 10, \"115\": 1, \"88\": 1}, \"104\": {\"104\": 8}, \"33\": {\"33\": 11, \"43\": 1}, \"5\": {\"5\": 12}, \"7\": {\"7\": 11, \"0\": 1}, \"29\": {\"29\": 12}, \"25\": {\"25\": 12}, \"124\": {\"124\": 12}, \"117\": {\"117\": 10, \"113\": 1, \"41\": 1}, \"88\": {\"88\": 8, \"19\": 1, \"122\": 1, \"14\": 1, \"71\": 1}, \"61\": {\"61\": 10, \"88\": 1, \"92\": 1}, \"86\": {\"86\": 12}, \"116\": {\"116\": 12}, \"24\": {\"36\": 2, \"24\": 10}, \"128\": {\"128\": 8, \"28\": 1, \"78\": 1, \"100\": 2}, \"101\": {\"101\": 12}, \"65\": {\"65\": 9, \"23\": 1}, \"36\": {\"36\": 12}, \"21\": {\"21\": 12}, \"106\": {\"27\": 1, \"106\": 11}, \"118\": {\"118\": 10, \"122\": 1, \"57\": 1}, \"113\": {\"26\": 2, \"113\": 7, \"30\": 2, \"39\": 1}, \"40\": {\"40\": 12}, \"93\": {\"93\": 7, \"23\": 1}, \"94\": {\"94\": 10, \"36\": 2}, \"103\": {\"103\": 8, \"46\": 2, \"2\": 1, \"22\": 1}, \"110\": {\"110\": 12}, \"56\": {\"56\": 12}, \"39\": {\"39\": 12}, \"109\": {\"0\": 1, \"109\": 11}, \"67\": {\"67\": 10, \"76\": 1, \"27\": 1}, \"129\": {\"129\": 12}, \"30\": {\"30\": 12}, \"126\": {\"126\": 8, \"23\": 1, \"65\": 1, \"113\": 1, \"108\": 1}, \"87\": {\"100\": 1, \"87\": 11}, \"112\": {\"112\": 12}, \"100\": {\"100\": 12}, \"79\": {\"79\": 10}, \"81\": {\"81\": 11, \"12\": 1}, \"76\": {\"76\": 10}, \"47\": {\"47\": 11, \"100\": 1}, \"77\": {\"77\": 11, \"103\": 1}, \"23\": {\"103\": 2, \"23\": 6, \"110\": 1, \"41\": 1, \"21\": 2}, \"18\": {\"18\": 12}, \"49\": {\"49\": 11, \"53\": 1}, \"41\": {\"41\": 10, \"30\": 1, \"61\": 1}, \"32\": {\"32\": 11, \"92\": 1}, \"107\": {\"107\": 10}, \"80\": {\"80\": 11, \"23\": 1}, \"105\": {\"105\": 7, \"87\": 2, \"30\": 1}, \"38\": {\"38\": 10}}, \"Wisig_1\": {\"108\": {\"108\": 9, \"70\": 1}, \"40\": {\"40\": 12}, \"68\": {\"68\": 12}, \"23\": {\"3\": 1, \"23\": 9, \"30\": 2}, \"26\": {\"70\": 1, \"26\": 11}, \"64\": {\"64\": 12}, \"22\": {\"22\": 12}, \"3\": {\"3\": 12}, \"4\": {\"4\": 11, \"30\": 1}, \"70\": {\"70\": 12}, \"57\": {\"57\": 12}, \"79\": {\"79\": 12}, \"9\": {\"9\": 12}, \"89\": {\"89\": 12}, \"110\": {\"110\": 12}, \"102\": {\"102\": 12}, \"31\": {\"31\": 12}, \"58\": {\"58\": 12}, \"47\": {\"47\": 12}, \"24\": {\"24\": 9, \"88\": 1, \"97\": 1, \"36\": 1}, \"19\": {\"19\": 12}, \"11\": {\"11\": 12}, \"52\": {\"52\": 12}, \"17\": {\"17\": 12}, \"25\": {\"25\": 12}, \"69\": {\"69\": 12}, \"96\": {\"96\": 12}, \"109\": {\"109\": 11, \"126\": 1}, \"115\": {\"115\": 12}, \"83\": {\"83\": 11, \"102\": 1}, \"84\": {\"84\": 12}, \"119\": {\"119\": 10}, \"122\": {\"122\": 10}, \"99\": {\"99\": 12}, \"1\": {\"1\": 12}, \"74\": {\"74\": 10, \"127\": 1, \"34\": 1}, \"85\": {\"85\": 12}, \"127\": {\"127\": 12}, \"111\": {\"111\": 12}, \"53\": {\"53\": 12}, \"88\": {\"88\": 12}, \"65\": {\"65\": 8, \"60\": 1, \"83\": 1}, \"7\": {\"7\": 12}, \"16\": {\"16\": 11, \"122\": 1}, \"128\": {\"128\": 9, \"20\": 1, \"49\": 1, \"2\": 1}, \"34\": {\"34\": 11, \"71\": 1}, \"129\": {\"73\": 1, \"129\": 10, \"70\": 1}, \"43\": {\"43\": 12}, \"92\": {\"92\": 12}, \"28\": {\"28\": 12}, \"27\": {\"27\": 11, \"24\": 1}, \"114\": {\"114\": 12}, \"73\": {\"73\": 12}, \"0\": {\"0\": 12}, \"104\": {\"104\": 12}, \"118\": {\"118\": 12}, \"41\": {\"41\": 12}, \"49\": {\"49\": 9, \"104\": 1, \"70\": 1, \"72\": 1}, \"14\": {\"14\": 12}, \"46\": {\"23\": 1, \"46\": 8, \"97\": 1, \"12\": 2}, \"33\": {\"33\": 12}, \"76\": {\"76\": 12}, \"125\": {\"125\": 12}, \"86\": {\"86\": 10}, \"66\": {\"66\": 9, \"61\": 2, \"108\": 1}, \"5\": {\"5\": 12}, \"117\": {\"117\": 12}, \"75\": {\"75\": 12}, \"61\": {\"61\": 12}, \"50\": {\"50\": 11, \"30\": 1}, \"67\": {\"67\": 10}, \"18\": {\"18\": 12}, \"98\": {\"98\": 12}, \"55\": {\"55\": 10}, \"32\": {\"32\": 12}, \"120\": {\"120\": 12}, \"97\": {\"97\": 10, \"88\": 1, \"24\": 1}, \"126\": {\"31\": 1, \"126\": 11}, \"45\": {\"104\": 1, \"45\": 6, \"103\": 1, \"20\": 2, \"2\": 1, \"108\": 1}, \"78\": {\"78\": 6, \"43\": 2, \"23\": 1, \"22\": 1}, \"100\": {\"100\": 12}, \"107\": {\"107\": 12}, \"93\": {\"107\": 3, \"93\": 8, \"55\": 1}, \"77\": {\"77\": 12}, \"63\": {\"63\": 12}, \"112\": {\"112\": 12}, \"113\": {\"113\": 12}, \"103\": {\"103\": 10}, \"71\": {\"71\": 11, \"30\": 1}, \"30\": {\"30\": 12}, \"90\": {\"90\": 12}, \"37\": {\"103\": 1, \"37\": 11}, \"60\": {\"60\": 9, \"65\": 1, \"63\": 1, \"35\": 1}, \"15\": {\"15\": 10, \"94\": 1, \"111\": 1}, \"39\": {\"39\": 12}, \"72\": {\"72\": 12}, \"54\": {\"54\": 12}, \"35\": {\"35\": 12}, \"2\": {\"2\": 12}, \"94\": {\"94\": 11, \"67\": 1}, \"42\": {\"42\": 11, \"109\": 1}, \"81\": {\"81\": 12}, \"8\": {\"8\": 12}, \"87\": {\"87\": 12}, \"6\": {\"6\": 12}, \"36\": {\"36\": 12}, \"91\": {\"91\": 7, \"6\": 1, \"51\": 3, \"125\": 1}, \"56\": {\"56\": 12}, \"80\": {\"80\": 11, \"70\": 1}, \"124\": {\"124\": 10}, \"44\": {\"44\": 12}, \"13\": {\"13\": 12}, \"10\": {\"10\": 10, \"23\": 1, \"43\": 1}, \"59\": {\"59\": 12}, \"95\": {\"95\": 12}, \"105\": {\"105\": 11, \"66\": 1}, \"101\": {\"101\": 12}, \"20\": {\"20\": 12}, \"48\": {\"28\": 2, \"48\": 9, \"123\": 1}, \"106\": {\"106\": 12}, \"51\": {\"51\": 11, \"75\": 1}, \"21\": {\"21\": 10, \"84\": 1, \"23\": 1}, \"123\": {\"123\": 12}, \"121\": {\"121\": 12}, \"38\": {\"38\": 12}, \"62\": {\"62\": 12}, \"29\": {\"29\": 12}, \"82\": {\"82\": 12}, \"116\": {\"116\": 12}, \"12\": {\"12\": 8}}, \"Wisig_2\": {\"91\": {\"91\": 8, \"37\": 1, \"106\": 2, \"77\": 1}, \"12\": {\"12\": 10, \"97\": 1, \"67\": 1}, \"101\": {\"101\": 10}, \"121\": {\"117\": 3, \"72\": 1, \"121\": 8}, \"118\": {\"118\": 12}, \"10\": {\"10\": 12}, \"117\": {\"117\": 11, \"121\": 1}, \"110\": {\"110\": 11, \"121\": 1}, \"97\": {\"97\": 9, \"88\": 1, \"15\": 1, \"110\": 1}, \"28\": {\"101\": 1, \"28\": 9, \"22\": 1, \"96\": 1}, \"88\": {\"88\": 8, \"16\": 2, \"47\": 2}, \"17\": {\"17\": 11, \"78\": 1}, \"126\": {\"126\": 10, \"46\": 2}, \"33\": {\"33\": 12}, \"86\": {\"86\": 12}, \"106\": {\"106\": 12}, \"54\": {\"54\": 12}, \"125\": {\"125\": 11, \"9\": 1}, \"83\": {\"83\": 12}, \"98\": {\"98\": 12}, \"11\": {\"11\": 11, \"68\": 1}, \"32\": {\"32\": 10, \"78\": 1, \"56\": 1}, \"42\": {\"42\": 10, \"112\": 1, \"126\": 1}, \"103\": {\"103\": 12}, \"87\": {\"87\": 10, \"84\": 1, \"26\": 1}, \"61\": {\"61\": 11, \"102\": 1}, \"13\": {\"13\": 12}, \"4\": {\"4\": 12}, \"15\": {\"15\": 10}, \"120\": {\"120\": 12}, \"80\": {\"80\": 12}, \"72\": {\"72\": 10}, \"64\": {\"64\": 10, \"79\": 1, \"66\": 1}, \"81\": {\"81\": 12}, \"102\": {\"102\": 12}, \"76\": {\"76\": 12}, \"49\": {\"49\": 7, \"58\": 1, \"11\": 1, \"21\": 1}, \"129\": {\"129\": 12}, \"89\": {\"89\": 12}, \"52\": {\"52\": 12}, \"35\": {\"35\": 12}, \"53\": {\"53\": 11, \"108\": 1}, \"112\": {\"112\": 7, \"44\": 2, \"11\": 1, \"25\": 2}, \"105\": {\"105\": 12}, \"100\": {\"100\": 12}, \"9\": {\"9\": 12}, \"82\": {\"82\": 12}, \"51\": {\"51\": 7, \"34\": 1, \"59\": 2, \"77\": 1, \"121\": 1}, \"21\": {\"21\": 12}, \"92\": {\"92\": 11, \"84\": 1}, \"69\": {\"69\": 12}, \"77\": {\"77\": 10, \"82\": 1, \"51\": 1}, \"50\": {\"50\": 11, \"88\": 1}, \"36\": {\"36\": 12}, \"16\": {\"16\": 10, \"11\": 1, \"0\": 1}, \"8\": {\"18\": 1, \"8\": 10, \"120\": 1}, \"127\": {\"127\": 11, \"111\": 1}, \"46\": {\"46\": 10}, \"84\": {\"84\": 12}, \"18\": {\"18\": 12}, \"123\": {\"123\": 10}, \"56\": {\"56\": 11, \"15\": 1}, \"26\": {\"26\": 12}, \"14\": {\"109\": 1, \"14\": 9, \"43\": 1, \"68\": 1}, \"109\": {\"109\": 12}, \"66\": {\"66\": 12}, \"24\": {\"24\": 11, \"43\": 1}, \"71\": {\"80\": 1, \"71\": 11}, \"65\": {\"65\": 10, \"24\": 1, \"47\": 1}, \"75\": {\"75\": 11, \"67\": 1}, \"111\": {\"111\": 12}, \"30\": {\"30\": 11, \"128\": 1}, \"85\": {\"85\": 12}, \"113\": {\"113\": 9, \"21\": 1}, \"45\": {\"45\": 12}, \"29\": {\"29\": 11, \"21\": 1}, \"20\": {\"20\": 12}, \"25\": {\"25\": 12}, \"0\": {\"0\": 12}, \"68\": {\"68\": 12}, \"119\": {\"119\": 12}, \"90\": {\"90\": 12}, \"38\": {\"38\": 12}, \"99\": {\"99\": 12}, \"1\": {\"1\": 12}, \"67\": {\"67\": 11, \"109\": 1}, \"63\": {\"63\": 12}, \"34\": {\"34\": 11, \"86\": 1}, \"108\": {\"108\": 12}, \"40\": {\"40\": 12}, \"47\": {\"47\": 11, \"51\": 1}, \"37\": {\"37\": 12}, \"78\": {\"78\": 10, \"43\": 1, \"4\": 1}, \"96\": {\"96\": 12}, \"43\": {\"43\": 10, \"21\": 1, \"33\": 1}, \"5\": {\"5\": 10}, \"124\": {\"124\": 12}, \"44\": {\"44\": 12}, \"41\": {\"41\": 11, \"51\": 1}, \"116\": {\"116\": 12}, \"19\": {\"44\": 1, \"116\": 1, \"19\": 9, \"82\": 1}, \"115\": {\"115\": 12}, \"95\": {\"95\": 11, \"70\": 1}, \"3\": {\"3\": 10}, \"59\": {\"59\": 12}, \"55\": {\"55\": 11, \"22\": 1}, \"70\": {\"70\": 11, \"33\": 1}, \"6\": {\"6\": 12}, \"2\": {\"2\": 9, \"93\": 2, \"117\": 1}, \"48\": {\"48\": 12}, \"23\": {\"23\": 9, \"122\": 1, \"107\": 1, \"82\": 1}, \"7\": {\"7\": 12}, \"122\": {\"122\": 11, \"107\": 1}, \"57\": {\"57\": 9, \"23\": 1, \"96\": 1, \"128\": 1}, \"39\": {\"39\": 9, \"53\": 1}, \"79\": {\"79\": 12}, \"27\": {\"27\": 10}, \"74\": {\"74\": 9, \"17\": 1, \"16\": 1, \"51\": 1}, \"73\": {\"73\": 12}, \"62\": {\"62\": 12}, \"107\": {\"107\": 12}, \"128\": {\"128\": 10, \"5\": 1, \"71\": 1}, \"60\": {\"60\": 11, \"83\": 1}, \"114\": {\"114\": 12}, \"22\": {\"22\": 12}, \"93\": {\"93\": 12}, \"94\": {\"94\": 11, \"68\": 1}, \"31\": {\"31\": 10}, \"104\": {\"104\": 12}, \"58\": {\"58\": 12}}, \"ORACLE.run114\": {\"15\": {\"2\": 19, \"7\": 44, \"15\": 40, \"14\": 17, \"4\": 15, \"13\": 24, \"6\": 20, \"5\": 27, \"10\": 9, \"3\": 9, \"1\": 10, \"11\": 5, \"0\": 1}, \"3\": {\"1\": 23, \"4\": 25, \"13\": 18, \"5\": 17, \"15\": 10, \"11\": 15, \"3\": 27, \"7\": 16, \"14\": 9, \"0\": 22, \"10\": 20, \"9\": 4, \"2\": 17, \"6\": 12, \"12\": 3, \"8\": 2}, \"6\": {\"3\": 10, \"5\": 23, \"10\": 14, \"2\": 27, \"4\": 15, \"1\": 5, \"13\": 43, \"15\": 21, \"11\": 7, \"14\": 29, \"7\": 15, \"6\": 29, \"0\": 2}, \"1\": {\"0\": 24, \"14\": 12, \"1\": 34, \"4\": 14, \"10\": 18, \"12\": 4, \"3\": 29, \"5\": 25, \"6\": 4, \"7\": 19, \"8\": 10, \"11\": 15, \"9\": 9, \"15\": 6, \"13\": 5, \"2\": 12}, \"8\": {\"8\": 77, \"9\": 39, \"1\": 14, \"11\": 13, \"4\": 10, \"6\": 1, \"12\": 56, \"10\": 7, \"0\": 13, \"5\": 6, \"3\": 3, \"7\": 1}, \"10\": {\"11\": 24, \"0\": 21, \"2\": 19, \"13\": 8, \"5\": 25, \"15\": 6, \"1\": 23, \"6\": 9, \"10\": 25, \"3\": 19, \"4\": 30, \"14\": 12, \"8\": 4, \"7\": 10, \"9\": 4, \"12\": 1}, \"9\": {\"12\": 63, \"9\": 64, \"11\": 16, \"8\": 52, \"5\": 2, \"1\": 10, \"0\": 16, \"10\": 9, \"3\": 4, \"7\": 1, \"4\": 3}, \"13\": {\"14\": 25, \"10\": 14, \"13\": 35, \"4\": 15, \"1\": 12, \"2\": 28, \"7\": 18, \"0\": 4, \"5\": 20, \"3\": 12, \"6\": 34, \"15\": 18, \"11\": 5}, \"12\": {\"8\": 55, \"12\": 87, \"9\": 63, \"11\": 17, \"10\": 3, \"0\": 9, \"1\": 3, \"3\": 1, \"4\": 1, \"7\": 1}, \"5\": {\"0\": 14, \"11\": 11, \"3\": 22, \"10\": 25, \"1\": 32, \"14\": 22, \"4\": 13, \"7\": 17, \"13\": 14, \"5\": 23, \"6\": 16, \"2\": 14, \"15\": 11, \"9\": 4, \"8\": 2}, \"0\": {\"9\": 9, \"11\": 28, \"3\": 18, \"4\": 24, \"5\": 18, \"10\": 22, \"0\": 32, \"1\": 23, \"14\": 17, \"2\": 8, \"12\": 4, \"6\": 4, \"7\": 18, \"8\": 9, \"15\": 3, \"13\": 3}, \"2\": {\"15\": 12, \"6\": 25, \"14\": 29, \"4\": 17, \"7\": 17, \"2\": 29, \"3\": 17, \"5\": 19, \"11\": 8, \"13\": 26, \"0\": 10, \"10\": 11, \"1\": 20}, \"11\": {\"11\": 30, \"9\": 25, \"1\": 16, \"0\": 25, \"12\": 16, \"10\": 23, \"13\": 11, \"7\": 3, \"14\": 7, \"2\": 8, \"4\": 19, \"3\": 26, \"8\": 11, \"5\": 17, \"6\": 3}, \"14\": {\"11\": 13, \"2\": 25, \"13\": 34, \"3\": 13, \"5\": 18, \"4\": 18, \"14\": 25, \"7\": 14, \"1\": 9, \"15\": 15, \"10\": 18, \"6\": 30, \"0\": 8}, \"7\": {\"2\": 21, \"11\": 4, \"15\": 28, \"13\": 15, \"4\": 17, \"0\": 12, \"1\": 30, \"3\": 15, \"7\": 28, \"5\": 29, \"10\": 14, \"6\": 10, \"8\": 3, \"14\": 14}, \"4\": {\"14\": 11, \"9\": 3, \"2\": 22, \"5\": 29, \"11\": 15, \"4\": 24, \"6\": 7, \"15\": 13, \"0\": 19, \"10\": 26, \"13\": 13, \"7\": 21, \"1\": 17, \"3\": 17, \"8\": 3}}, \"ORACLE.run120\": {\"3\": {\"9\": 25, \"4\": 5, \"14\": 14, \"13\": 15, \"3\": 17, \"1\": 17, \"2\": 19, \"15\": 12, \"11\": 19, \"12\": 16, \"8\": 12, \"0\": 16, \"7\": 10, \"10\": 11, \"6\": 15, \"5\": 17}, \"15\": {\"15\": 29, \"5\": 21, \"2\": 23, \"8\": 3, \"12\": 24, \"0\": 18, \"3\": 24, \"1\": 27, \"7\": 12, \"11\": 15, \"6\": 3, \"13\": 18, \"9\": 16, \"14\": 3, \"10\": 2, \"4\": 2}, \"8\": {\"4\": 18, \"14\": 29, \"0\": 8, \"8\": 18, \"10\": 25, \"5\": 18, \"15\": 7, \"3\": 17, \"12\": 12, \"6\": 27, \"11\": 13, \"7\": 17, \"1\": 6, \"13\": 5, \"9\": 7, \"2\": 13}, \"4\": {\"9\": 19, \"3\": 21, \"14\": 26, \"4\": 23, \"0\": 11, \"1\": 9, \"7\": 14, \"10\": 25, \"2\": 8, \"15\": 4, \"5\": 19, \"8\": 20, \"6\": 26, \"12\": 7, \"13\": 6, \"11\": 2}, \"14\": {\"14\": 41, \"4\": 24, \"12\": 6, \"3\": 12, \"6\": 29, \"15\": 5, \"10\": 35, \"8\": 31, \"2\": 5, \"5\": 14, \"9\": 7, \"7\": 17, \"0\": 5, \"1\": 3, \"11\": 5, \"13\": 1}, \"0\": {\"12\": 18, \"15\": 22, \"1\": 20, \"2\": 18, \"9\": 20, \"13\": 22, \"10\": 5, \"11\": 11, \"5\": 21, \"8\": 15, \"7\": 12, \"0\": 12, \"14\": 5, \"4\": 11, \"3\": 18, \"6\": 10}, \"7\": {\"3\": 22, \"0\": 21, \"7\": 14, \"2\": 19, \"10\": 13, \"13\": 14, \"8\": 12, \"11\": 13, \"12\": 15, \"1\": 13, \"15\": 12, \"4\": 19, \"14\": 8, \"5\": 13, \"9\": 16, \"6\": 16}, \"6\": {\"0\": 10, \"10\": 28, \"5\": 12, \"2\": 14, \"11\": 12, \"3\": 17, \"1\": 9, \"12\": 11, \"4\": 21, \"14\": 29, \"15\": 6, \"9\": 10, \"8\": 21, \"6\": 26, \"13\": 2, \"7\": 12}, \"10\": {\"14\": 35, \"0\": 11, \"10\": 27, \"1\": 6, \"8\": 28, \"5\": 12, \"2\": 11, \"7\": 12, \"6\": 29, \"4\": 28, \"9\": 6, \"3\": 13, \"12\": 10, \"15\": 2, \"11\": 9, \"13\": 1}, \"5\": {\"3\": 22, \"0\": 19, \"4\": 10, \"5\": 18, \"1\": 19, \"6\": 5, \"11\": 11, \"10\": 12, \"12\": 12, \"7\": 21, \"14\": 8, \"8\": 15, \"2\": 16, \"13\": 22, \"9\": 16, \"15\": 14}, \"2\": {\"0\": 13, \"13\": 22, \"2\": 22, \"7\": 16, \"8\": 13, \"3\": 12, \"5\": 15, \"14\": 4, \"1\": 23, \"12\": 20, \"9\": 14, \"4\": 11, \"15\": 25, \"11\": 18, \"10\": 6, \"6\": 6}, \"12\": {\"8\": 19, \"15\": 13, \"7\": 19, \"10\": 10, \"1\": 25, \"13\": 17, \"6\": 7, \"11\": 10, \"2\": 21, \"0\": 24, \"12\": 11, \"5\": 12, \"9\": 17, \"14\": 8, \"4\": 9, \"3\": 18}, \"9\": {\"3\": 15, \"15\": 24, \"11\": 21, \"7\": 17, \"9\": 16, \"5\": 21, \"1\": 16, \"0\": 13, \"14\": 3, \"12\": 19, \"6\": 9, \"2\": 20, \"13\": 20, \"10\": 7, \"8\": 7, \"4\": 12}, \"1\": {\"13\": 20, \"15\": 25, \"10\": 4, \"7\": 11, \"1\": 31, \"14\": 3, \"5\": 21, \"0\": 27, \"11\": 13, \"12\": 20, \"4\": 12, \"2\": 14, \"8\": 6, \"3\": 11, \"6\": 4, \"9\": 18}, \"11\": {\"15\": 19, \"11\": 30, \"13\": 27, \"1\": 10, \"9\": 16, \"5\": 12, \"8\": 11, \"0\": 11, \"12\": 15, \"6\": 12, \"3\": 16, \"7\": 18, \"4\": 8, \"2\": 27, \"14\": 3, \"10\": 5}, \"13\": {\"3\": 24, \"0\": 17, \"11\": 21, \"15\": 29, \"8\": 5, \"13\": 28, \"12\": 16, \"14\": 3, \"9\": 22, \"1\": 21, \"2\": 16, \"7\": 14, \"5\": 19, \"4\": 1, \"6\": 4}}, \"ORACLE.run138\": {\"5\": {\"10\": 13, \"7\": 15, \"8\": 20, \"13\": 23, \"2\": 19, \"5\": 17, \"14\": 8, \"9\": 22, \"0\": 18, \"15\": 18, \"6\": 30, \"12\": 9, \"3\": 9, \"11\": 7, \"1\": 8, \"4\": 4}, \"8\": {\"10\": 18, \"6\": 17, \"8\": 27, \"13\": 9, \"3\": 16, \"14\": 31, \"7\": 14, \"9\": 18, \"2\": 11, \"15\": 18, \"12\": 9, \"0\": 16, \"5\": 27, \"11\": 2, \"4\": 2, \"1\": 5}, \"11\": {\"11\": 56, \"7\": 11, \"13\": 6, \"12\": 31, \"14\": 56, \"0\": 13, \"10\": 15, \"5\": 8, \"2\": 12, \"8\": 12, \"4\": 8, \"15\": 7, \"6\": 2, \"9\": 2, \"3\": 1}, \"1\": {\"15\": 41, \"10\": 2, \"13\": 31, \"1\": 64, \"6\": 19, \"14\": 4, \"9\": 20, \"8\": 8, \"2\": 36, \"5\": 7, \"3\": 3, \"0\": 5}, \"10\": {\"14\": 33, \"8\": 25, \"2\": 11, \"3\": 11, \"11\": 27, \"10\": 18, \"7\": 23, \"0\": 21, \"13\": 11, \"12\": 16, \"5\": 14, \"9\": 7, \"4\": 6, \"1\": 4, \"6\": 6, \"15\": 7}, \"15\": {\"13\": 40, \"5\": 16, \"2\": 29, \"14\": 12, \"8\": 16, \"15\": 44, \"6\": 16, \"1\": 25, \"0\": 7, \"7\": 5, \"10\": 15, \"9\": 8, \"11\": 5, \"3\": 2}, \"3\": {\"9\": 17, \"3\": 59, \"8\": 24, \"5\": 15, \"7\": 24, \"10\": 13, \"0\": 41, \"15\": 5, \"4\": 9, \"1\": 4, \"2\": 1, \"14\": 6, \"6\": 11, \"12\": 7, \"11\": 2, \"13\": 2}, \"7\": {\"9\": 14, \"8\": 25, \"0\": 30, \"7\": 38, \"14\": 14, \"5\": 20, \"4\": 12, \"3\": 20, \"11\": 12, \"12\": 25, \"10\": 22, \"15\": 2, \"6\": 4, \"2\": 1, \"1\": 1}, \"4\": {\"12\": 72, \"4\": 100, \"7\": 25, \"5\": 3, \"0\": 9, \"10\": 7, \"8\": 3, \"11\": 12, \"14\": 5, \"9\": 1, \"3\": 3}, \"14\": {\"11\": 44, \"7\": 10, \"14\": 53, \"12\": 25, \"10\": 31, \"15\": 11, \"5\": 10, \"0\": 7, \"8\": 8, \"6\": 4, \"13\": 15, \"2\": 12, \"9\": 1, \"4\": 9}, \"9\": {\"9\": 35, \"8\": 23, \"0\": 16, \"15\": 18, \"2\": 9, \"7\": 12, \"13\": 21, \"6\": 33, \"5\": 22, \"3\": 24, \"10\": 7, \"14\": 3, \"1\": 13, \"11\": 3, \"4\": 1}, \"12\": {\"4\": 56, \"8\": 6, \"12\": 73, \"7\": 19, \"10\": 23, \"15\": 1, \"11\": 30, \"14\": 16, \"5\": 6, \"0\": 7, \"3\": 3}, \"6\": {\"0\": 13, \"6\": 39, \"13\": 31, \"1\": 20, \"15\": 27, \"2\": 16, \"8\": 16, \"9\": 36, \"14\": 3, \"7\": 8, \"3\": 5, \"5\": 18, \"10\": 3, \"11\": 3, \"4\": 2}, \"2\": {\"8\": 10, \"10\": 16, \"13\": 33, \"14\": 20, \"2\": 54, \"1\": 24, \"5\": 11, \"0\": 5, \"6\": 8, \"11\": 15, \"15\": 34, \"12\": 2, \"9\": 4, \"7\": 3, \"3\": 1}, \"0\": {\"7\": 40, \"8\": 27, \"2\": 9, \"3\": 20, \"14\": 16, \"9\": 13, \"10\": 20, \"11\": 8, \"5\": 20, \"0\": 21, \"13\": 8, \"6\": 12, \"4\": 7, \"12\": 9, \"15\": 7, \"1\": 3}, \"13\": {\"15\": 26, \"2\": 40, \"6\": 21, \"8\": 13, \"13\": 37, \"5\": 15, \"1\": 36, \"0\": 8, \"14\": 7, \"9\": 9, \"10\": 12, \"7\": 3, \"3\": 4, \"11\": 8, \"12\": 1}}, \"ORACLE.run18\": {\"9\": {\"9\": 180, \"0\": 13, \"7\": 1, \"4\": 10, \"10\": 14, \"14\": 7, \"5\": 8, \"13\": 5, \"6\": 2}, \"10\": {\"1\": 19, \"13\": 28, \"14\": 31, \"4\": 29, \"6\": 15, \"5\": 23, \"10\": 19, \"7\": 19, \"0\": 24, \"12\": 6, \"2\": 4, \"11\": 9, \"8\": 5, \"3\": 6, \"15\": 3}, \"13\": {\"6\": 18, \"5\": 18, \"10\": 36, \"4\": 25, \"0\": 29, \"14\": 19, \"13\": 18, \"3\": 8, \"12\": 5, \"7\": 16, \"15\": 8, \"11\": 11, \"2\": 10, \"8\": 6, \"1\": 13}, \"0\": {\"3\": 11, \"7\": 27, \"10\": 10, \"5\": 15, \"13\": 27, \"2\": 22, \"4\": 23, \"1\": 10, \"9\": 5, \"6\": 27, \"14\": 21, \"0\": 29, \"11\": 6, \"12\": 2, \"15\": 1, \"8\": 4}, \"1\": {\"11\": 21, \"7\": 14, \"5\": 23, \"15\": 22, \"6\": 16, \"0\": 9, \"12\": 11, \"1\": 25, \"10\": 13, \"4\": 10, \"2\": 8, \"8\": 19, \"14\": 23, \"13\": 19, \"3\": 7}, \"15\": {\"15\": 33, \"11\": 29, \"12\": 31, \"7\": 9, \"1\": 16, \"14\": 9, \"5\": 6, \"4\": 10, \"3\": 25, \"6\": 12, \"2\": 15, \"8\": 32, \"10\": 2, \"13\": 9, \"0\": 2}, \"5\": {\"6\": 17, \"1\": 22, \"5\": 33, \"10\": 16, \"14\": 26, \"13\": 27, \"0\": 20, \"11\": 17, \"8\": 8, \"7\": 13, \"4\": 18, \"2\": 6, \"3\": 6, \"15\": 8, \"9\": 2, \"12\": 1}, \"3\": {\"6\": 12, \"12\": 34, \"8\": 25, \"2\": 28, \"3\": 30, \"4\": 13, \"10\": 2, \"0\": 9, \"1\": 9, \"13\": 6, \"11\": 17, \"5\": 5, \"15\": 23, \"7\": 18, \"14\": 9}, \"6\": {\"6\": 18, \"11\": 14, \"10\": 24, \"5\": 28, \"4\": 21, \"15\": 12, \"13\": 22, \"1\": 16, \"7\": 13, \"0\": 10, \"14\": 22, \"12\": 8, \"2\": 13, \"3\": 11, \"8\": 8}, \"11\": {\"4\": 15, \"1\": 26, \"14\": 17, \"8\": 18, \"5\": 26, \"13\": 17, \"15\": 17, \"6\": 9, \"10\": 12, \"11\": 27, \"3\": 6, \"7\": 15, \"2\": 20, \"12\": 10, \"0\": 5}, \"8\": {\"2\": 20, \"15\": 33, \"8\": 32, \"1\": 18, \"11\": 24, \"12\": 27, \"3\": 31, \"13\": 8, \"4\": 10, \"14\": 9, \"7\": 3, \"0\": 3, \"6\": 12, \"5\": 5, \"10\": 5}, \"4\": {\"13\": 28, \"1\": 13, \"14\": 24, \"0\": 21, \"5\": 22, \"7\": 19, \"11\": 14, \"10\": 16, \"12\": 5, \"8\": 9, \"4\": 22, \"6\": 16, \"15\": 11, \"2\": 17, \"3\": 3}, \"12\": {\"15\": 29, \"12\": 47, \"8\": 39, \"11\": 22, \"3\": 23, \"5\": 2, \"1\": 17, \"13\": 3, \"14\": 6, \"0\": 4, \"2\": 19, \"4\": 7, \"7\": 12, \"6\": 10}, \"14\": {\"0\": 25, \"1\": 18, \"8\": 9, \"5\": 25, \"11\": 12, \"7\": 14, \"10\": 24, \"13\": 28, \"2\": 12, \"6\": 16, \"12\": 6, \"4\": 18, \"14\": 17, \"15\": 8, \"3\": 8}, \"2\": {\"3\": 23, \"13\": 17, \"5\": 10, \"11\": 10, \"15\": 13, \"12\": 20, \"6\": 26, \"4\": 17, \"14\": 18, \"7\": 19, \"1\": 10, \"0\": 9, \"2\": 27, \"10\": 13, \"8\": 8}, \"7\": {\"5\": 12, \"7\": 22, \"13\": 23, \"6\": 22, \"10\": 18, \"0\": 14, \"14\": 18, \"8\": 18, \"12\": 9, \"4\": 19, \"2\": 24, \"3\": 11, \"11\": 12, \"1\": 10, \"15\": 8}}, \"ORACLE.run150\": {\"7\": {\"3\": 19, \"10\": 20, \"1\": 23, \"11\": 10, \"5\": 32, \"8\": 8, \"7\": 27, \"13\": 19, \"4\": 18, \"6\": 21, \"15\": 11, \"0\": 8, \"14\": 5, \"9\": 10, \"2\": 4, \"12\": 5}, \"3\": {\"3\": 82, \"7\": 16, \"13\": 18, \"8\": 45, \"0\": 18, \"14\": 3, \"10\": 30, \"6\": 7, \"5\": 6, \"4\": 4, \"2\": 7, \"1\": 2, \"15\": 1, \"9\": 1}, \"8\": {\"3\": 50, \"10\": 42, \"0\": 35, \"9\": 1, \"8\": 60, \"2\": 29, \"14\": 8, \"6\": 3, \"7\": 3, \"4\": 1, \"13\": 5, \"1\": 2, \"12\": 1}, \"2\": {\"2\": 49, \"10\": 31, \"8\": 44, \"1\": 5, \"12\": 11, \"13\": 5, \"0\": 47, \"11\": 4, \"14\": 25, \"6\": 4, \"3\": 9, \"15\": 2, \"9\": 2, \"5\": 1, \"7\": 1}, \"14\": {\"12\": 30, \"9\": 25, \"0\": 16, \"10\": 16, \"2\": 16, \"14\": 45, \"8\": 7, \"11\": 11, \"1\": 16, \"4\": 9, \"13\": 4, \"3\": 7, \"15\": 10, \"5\": 9, \"6\": 10, \"7\": 9}, \"4\": {\"1\": 23, \"15\": 28, \"13\": 16, \"9\": 22, \"3\": 5, \"8\": 1, \"12\": 8, \"7\": 21, \"11\": 32, \"5\": 26, \"6\": 15, \"4\": 28, \"14\": 9, \"10\": 3, \"0\": 3}, \"6\": {\"5\": 26, \"15\": 25, \"1\": 26, \"14\": 13, \"13\": 17, \"3\": 8, \"6\": 28, \"2\": 2, \"9\": 16, \"4\": 22, \"12\": 9, \"10\": 9, \"11\": 19, \"7\": 17, \"0\": 2, \"8\": 1}, \"15\": {\"15\": 30, \"4\": 41, \"11\": 26, \"6\": 22, \"1\": 26, \"9\": 31, \"7\": 16, \"5\": 18, \"12\": 8, \"8\": 1, \"13\": 9, \"14\": 7, \"10\": 4, \"3\": 1}, \"10\": {\"9\": 5, \"3\": 37, \"13\": 12, \"6\": 9, \"2\": 26, \"10\": 35, \"14\": 15, \"5\": 8, \"0\": 30, \"7\": 13, \"8\": 33, \"15\": 2, \"12\": 6, \"4\": 5, \"11\": 2, \"1\": 2}, \"11\": {\"1\": 22, \"13\": 15, \"15\": 25, \"9\": 34, \"3\": 2, \"4\": 19, \"6\": 17, \"11\": 39, \"12\": 20, \"5\": 14, \"14\": 18, \"7\": 11, \"0\": 2, \"10\": 2}, \"13\": {\"12\": 9, \"13\": 28, \"5\": 29, \"14\": 13, \"3\": 15, \"1\": 23, \"9\": 8, \"15\": 15, \"4\": 17, \"6\": 25, \"7\": 25, \"0\": 7, \"11\": 8, \"10\": 10, \"8\": 7, \"2\": 1}, \"9\": {\"1\": 17, \"12\": 24, \"9\": 42, \"0\": 2, \"4\": 21, \"15\": 32, \"11\": 36, \"6\": 13, \"14\": 14, \"10\": 3, \"7\": 10, \"13\": 12, \"5\": 11, \"3\": 1, \"8\": 1, \"2\": 1}, \"0\": {\"2\": 35, \"10\": 29, \"14\": 22, \"8\": 33, \"1\": 6, \"0\": 42, \"6\": 8, \"13\": 10, \"3\": 25, \"12\": 14, \"7\": 6, \"9\": 4, \"11\": 2, \"4\": 1, \"5\": 2, \"15\": 1}, \"1\": {\"10\": 9, \"15\": 21, \"14\": 19, \"6\": 29, \"13\": 16, \"5\": 18, \"12\": 12, \"4\": 28, \"9\": 21, \"3\": 7, \"1\": 25, \"11\": 20, \"7\": 10, \"8\": 3, \"0\": 2}, \"12\": {\"9\": 24, \"13\": 10, \"14\": 36, \"12\": 49, \"4\": 15, \"7\": 11, \"6\": 12, \"15\": 6, \"1\": 9, \"2\": 12, \"8\": 5, \"0\": 15, \"10\": 11, \"11\": 18, \"3\": 5, \"5\": 2}, \"5\": {\"6\": 22, \"3\": 14, \"7\": 24, \"5\": 24, \"11\": 14, \"15\": 15, \"14\": 7, \"13\": 21, \"4\": 31, \"1\": 26, \"10\": 15, \"8\": 5, \"12\": 7, \"9\": 7, \"2\": 3, \"0\": 5}}, \"ORACLE.run132\": {\"8\": {\"2\": 4, \"4\": 14, \"3\": 31, \"13\": 37, \"11\": 18, \"15\": 15, \"7\": 21, \"0\": 20, \"5\": 33, \"14\": 16, \"8\": 30, \"9\": 1}, \"14\": {\"11\": 30, \"13\": 26, \"4\": 22, \"14\": 28, \"0\": 22, \"3\": 12, \"8\": 24, \"5\": 24, \"2\": 20, \"12\": 2, \"7\": 18, \"9\": 10, \"15\": 2}, \"2\": {\"9\": 13, \"4\": 33, \"2\": 41, \"0\": 23, \"7\": 25, \"11\": 25, \"10\": 12, \"14\": 21, \"5\": 18, \"12\": 9, \"8\": 12, \"13\": 8}, \"0\": {\"11\": 25, \"5\": 23, \"0\": 29, \"2\": 24, \"14\": 23, \"9\": 8, \"4\": 31, \"7\": 26, \"8\": 13, \"15\": 3, \"10\": 2, \"3\": 8, \"12\": 5, \"13\": 20}, \"1\": {\"1\": 138, \"6\": 36, \"12\": 15, \"10\": 47, \"9\": 4}, \"10\": {\"10\": 91, \"1\": 74, \"12\": 38, \"9\": 27, \"6\": 10}, \"11\": {\"3\": 20, \"4\": 30, \"11\": 31, \"8\": 20, \"14\": 21, \"15\": 1, \"2\": 19, \"7\": 30, \"0\": 23, \"13\": 21, \"5\": 20, \"9\": 3, \"12\": 1}, \"5\": {\"0\": 19, \"4\": 21, \"13\": 29, \"11\": 28, \"5\": 28, \"3\": 20, \"15\": 15, \"14\": 24, \"8\": 25, \"7\": 21, \"2\": 10}, \"15\": {\"3\": 81, \"15\": 84, \"5\": 17, \"8\": 24, \"13\": 14, \"4\": 7, \"11\": 7, \"14\": 1, \"0\": 2, \"7\": 2, \"2\": 1}, \"3\": {\"15\": 56, \"3\": 47, \"11\": 20, \"4\": 10, \"0\": 11, \"14\": 6, \"13\": 25, \"7\": 11, \"5\": 28, \"8\": 25, \"2\": 1}, \"12\": {\"9\": 61, \"12\": 72, \"7\": 2, \"1\": 16, \"10\": 62, \"2\": 9, \"6\": 5, \"4\": 5, \"0\": 6, \"13\": 1, \"8\": 1}, \"7\": {\"3\": 11, \"11\": 24, \"14\": 25, \"0\": 28, \"4\": 30, \"7\": 26, \"2\": 21, \"5\": 21, \"8\": 23, \"9\": 9, \"13\": 19, \"12\": 1, \"15\": 2}, \"13\": {\"7\": 25, \"15\": 18, \"3\": 29, \"8\": 34, \"4\": 17, \"14\": 22, \"13\": 25, \"11\": 22, \"2\": 12, \"5\": 22, \"0\": 13, \"9\": 1}, \"6\": {\"6\": 151, \"1\": 57, \"10\": 11, \"9\": 13, \"12\": 8}, \"4\": {\"2\": 27, \"8\": 21, \"9\": 9, \"5\": 18, \"0\": 23, \"4\": 31, \"13\": 22, \"14\": 27, \"3\": 15, \"12\": 3, \"7\": 23, \"11\": 19, \"15\": 1, \"10\": 1}, \"9\": {\"9\": 77, \"10\": 26, \"12\": 52, \"11\": 6, \"1\": 2, \"2\": 23, \"13\": 4, \"4\": 17, \"0\": 11, \"6\": 8, \"8\": 2, \"7\": 6, \"14\": 6}}, \"ORACLE.run126\": {\"4\": {\"1\": 31, \"7\": 18, \"2\": 21, \"10\": 22, \"4\": 23, \"14\": 32, \"12\": 5, \"8\": 11, \"13\": 4, \"3\": 15, \"0\": 21, \"5\": 7, \"9\": 12, \"6\": 10, \"15\": 8}, \"12\": {\"6\": 22, \"1\": 6, \"12\": 43, \"7\": 6, \"11\": 29, \"5\": 20, \"15\": 19, \"13\": 20, \"9\": 19, \"0\": 6, \"8\": 12, \"14\": 6, \"2\": 8, \"10\": 10, \"3\": 8, \"4\": 6}, \"10\": {\"3\": 15, \"7\": 21, \"14\": 23, \"9\": 12, \"8\": 23, \"15\": 12, \"2\": 16, \"1\": 20, \"5\": 10, \"4\": 15, \"6\": 19, \"13\": 7, \"0\": 18, \"10\": 18, \"12\": 11}, \"0\": {\"10\": 24, \"4\": 22, \"1\": 18, \"0\": 20, \"13\": 3, \"8\": 24, \"14\": 29, \"7\": 20, \"3\": 22, \"15\": 11, \"6\": 11, \"12\": 3, \"9\": 12, \"5\": 5, \"2\": 16}, \"13\": {\"13\": 32, \"2\": 20, \"11\": 22, \"4\": 4, \"1\": 7, \"10\": 8, \"7\": 8, \"3\": 9, \"9\": 23, \"15\": 24, \"12\": 26, \"0\": 5, \"6\": 15, \"5\": 26, \"8\": 10, \"14\": 1}, \"9\": {\"13\": 25, \"15\": 22, \"3\": 13, \"8\": 11, \"1\": 11, \"9\": 25, \"6\": 22, \"7\": 12, \"0\": 8, \"14\": 12, \"5\": 23, \"2\": 14, \"4\": 10, \"10\": 17, \"12\": 13, \"11\": 2}, \"3\": {\"8\": 20, \"5\": 14, \"9\": 15, \"2\": 22, \"4\": 22, \"1\": 23, \"10\": 18, \"13\": 7, \"3\": 23, \"6\": 11, \"14\": 24, \"0\": 19, \"15\": 6, \"12\": 3, \"7\": 13}, \"2\": {\"6\": 14, \"7\": 20, \"12\": 9, \"4\": 17, \"9\": 23, \"8\": 21, \"2\": 25, \"3\": 16, \"0\": 17, \"1\": 9, \"10\": 13, \"13\": 9, \"5\": 18, \"14\": 17, \"15\": 12}, \"5\": {\"13\": 24, \"2\": 31, \"0\": 10, \"6\": 19, \"10\": 9, \"3\": 20, \"7\": 12, \"1\": 6, \"8\": 4, \"12\": 19, \"14\": 10, \"15\": 20, \"5\": 26, \"9\": 23, \"4\": 3, \"11\": 4}, \"14\": {\"8\": 22, \"13\": 2, \"0\": 19, \"5\": 5, \"1\": 37, \"10\": 21, \"7\": 25, \"3\": 15, \"2\": 15, \"6\": 14, \"14\": 23, \"4\": 22, \"9\": 10, \"15\": 4, \"12\": 6}, \"8\": {\"15\": 10, \"7\": 14, \"2\": 17, \"12\": 18, \"9\": 17, \"1\": 14, \"4\": 20, \"5\": 11, \"6\": 19, \"8\": 26, \"0\": 16, \"13\": 10, \"14\": 16, \"10\": 12, \"3\": 19, \"11\": 1}, \"7\": {\"6\": 15, \"7\": 21, \"12\": 8, \"8\": 27, \"10\": 17, \"1\": 21, \"9\": 17, \"2\": 21, \"15\": 11, \"3\": 17, \"14\": 18, \"4\": 19, \"0\": 15, \"5\": 9, \"13\": 4}, \"6\": {\"4\": 18, \"6\": 22, \"9\": 14, \"0\": 15, \"2\": 16, \"10\": 14, \"12\": 20, \"15\": 21, \"8\": 16, \"7\": 8, \"5\": 23, \"1\": 7, \"13\": 18, \"14\": 11, \"11\": 2, \"3\": 15}, \"11\": {\"12\": 42, \"11\": 122, \"6\": 6, \"13\": 33, \"15\": 6, \"5\": 19, \"8\": 2, \"0\": 1, \"2\": 4, \"9\": 5}, \"15\": {\"12\": 21, \"6\": 22, \"5\": 24, \"1\": 10, \"10\": 17, \"3\": 13, \"4\": 12, \"7\": 12, \"13\": 26, \"0\": 11, \"15\": 15, \"2\": 15, \"8\": 20, \"14\": 5, \"9\": 16, \"11\": 1}, \"1\": {\"1\": 33, \"7\": 20, \"4\": 36, \"8\": 25, \"15\": 2, \"10\": 21, \"6\": 6, \"9\": 12, \"0\": 19, \"14\": 22, \"3\": 19, \"13\": 2, \"5\": 7, \"2\": 14, \"12\": 2}}, \"ORACLE.run144\": {\"12\": {\"7\": 21, \"12\": 36, \"6\": 13, \"3\": 27, \"2\": 25, \"1\": 40, \"9\": 25, \"4\": 3, \"13\": 19, \"10\": 18, \"11\": 12, \"14\": 1}, \"7\": {\"1\": 20, \"3\": 17, \"12\": 25, \"10\": 20, \"6\": 32, \"2\": 23, \"11\": 21, \"7\": 28, \"13\": 24, \"9\": 23, \"4\": 6, \"14\": 1}, \"5\": {\"5\": 65, \"4\": 39, \"14\": 36, \"8\": 31, \"0\": 33, \"15\": 27, \"1\": 2, \"9\": 2, \"7\": 2, \"10\": 1, \"11\": 1, \"12\": 1}, \"15\": {\"5\": 42, \"15\": 52, \"8\": 43, \"14\": 24, \"3\": 7, \"7\": 1, \"0\": 55, \"4\": 16}, \"8\": {\"5\": 25, \"0\": 76, \"8\": 87, \"15\": 40, \"4\": 3, \"14\": 6, \"3\": 2, \"9\": 1}, \"2\": {\"13\": 25, \"2\": 29, \"10\": 19, \"12\": 32, \"1\": 26, \"11\": 16, \"3\": 17, \"7\": 16, \"9\": 25, \"6\": 31, \"4\": 4}, \"13\": {\"13\": 36, \"7\": 26, \"6\": 25, \"12\": 18, \"11\": 25, \"1\": 21, \"2\": 24, \"14\": 4, \"9\": 26, \"4\": 9, \"10\": 11, \"3\": 14, \"5\": 1}, \"4\": {\"5\": 30, \"3\": 22, \"14\": 52, \"13\": 9, \"4\": 52, \"9\": 16, \"1\": 11, \"0\": 6, \"15\": 14, \"7\": 11, \"8\": 6, \"12\": 2, \"6\": 3, \"2\": 5, \"11\": 1}, \"0\": {\"8\": 66, \"15\": 54, \"5\": 31, \"4\": 13, \"14\": 13, \"0\": 63}, \"6\": {\"7\": 25, \"11\": 34, \"2\": 35, \"12\": 14, \"9\": 24, \"10\": 16, \"1\": 17, \"6\": 43, \"13\": 22, \"4\": 2, \"3\": 7, \"14\": 1}, \"9\": {\"9\": 28, \"3\": 24, \"12\": 25, \"11\": 23, \"13\": 22, \"10\": 14, \"2\": 25, \"14\": 6, \"7\": 27, \"6\": 22, \"1\": 18, \"4\": 5, \"5\": 1}, \"11\": {\"7\": 29, \"13\": 28, \"9\": 30, \"3\": 9, \"1\": 12, \"12\": 11, \"11\": 34, \"10\": 20, \"2\": 31, \"6\": 33, \"4\": 3}, \"10\": {\"1\": 28, \"10\": 27, \"12\": 37, \"6\": 20, \"2\": 33, \"3\": 18, \"7\": 28, \"11\": 21, \"13\": 12, \"9\": 15, \"14\": 1}, \"14\": {\"7\": 8, \"5\": 45, \"13\": 7, \"4\": 49, \"15\": 19, \"14\": 44, \"0\": 18, \"2\": 3, \"9\": 10, \"3\": 16, \"8\": 3, \"1\": 8, \"11\": 5, \"12\": 5}, \"1\": {\"13\": 11, \"9\": 20, \"1\": 33, \"6\": 16, \"11\": 12, \"4\": 8, \"12\": 34, \"14\": 4, \"3\": 37, \"10\": 20, \"7\": 19, \"2\": 26}, \"3\": {\"12\": 22, \"3\": 36, \"9\": 28, \"14\": 21, \"13\": 16, \"7\": 15, \"2\": 18, \"11\": 10, \"1\": 36, \"4\": 21, \"10\": 9, \"6\": 5, \"8\": 1, \"0\": 1, \"5\": 1}}}, \"per_domain_accuracy\": {\"Wisig_3\": {\"accuracy\": 0.9401041666666666, \"source?\": true}, \"Wisig_4\": {\"accuracy\": 0.916015625, \"source?\": true}, \"Wisig_1\": {\"accuracy\": 0.951171875, \"source?\": true}, \"Wisig_2\": {\"accuracy\": 0.9329427083333334, \"source?\": true}, \"ORACLE.run114\": {\"accuracy\": 0.15859375, \"source?\": false}, \"ORACLE.run120\": {\"accuracy\": 0.09453125, \"source?\": false}, \"ORACLE.run138\": {\"accuracy\": 0.19140625, \"source?\": false}, \"ORACLE.run18\": {\"accuracy\": 0.15078125, \"source?\": false}, \"ORACLE.run150\": {\"accuracy\": 0.16484375, \"source?\": false}, \"ORACLE.run132\": {\"accuracy\": 0.24192708333333332, \"source?\": false}, \"ORACLE.run126\": {\"accuracy\": 0.12942708333333333, \"source?\": false}, \"ORACLE.run144\": {\"accuracy\": 0.18046875, \"source?\": false}}}, \"history\": {\"epoch_indices\": [1, 2, 3, 4, 5], \"train_label_loss\": [0.3927464041417795, 0.2133166464087159, 0.16871156370521018, 0.13397788709194058, 0.1142645854367603], \"source_val_label_loss\": [0.27551373839378357, 0.22409436106681824, 0.21064472198486328, 0.19065535068511963, 0.1862829625606537], \"target_val_label_loss\": [2.5393826961517334, 2.5803630352020264, 2.5434045791625977, 2.710594415664673, 2.7229392528533936], \"source_val_acc_label\": [0.93505859375, 0.9498697916666666, 0.9576822916666666, 0.9562174479166666, 0.962890625], \"target_val_acc_label\": [0.16399739583333334, 0.15940755208333332, 0.17255859375, 0.14547526041666667, 0.14052734375]}, \"dataset_metrics\": {\"source\": {\"train\": {\"n_unique_x\": 36400, \"n_unique_y\": 130, \"n_batch/episode\": 1346}, \"val\": {\"n_unique_x\": 7800, \"n_unique_y\": 130, \"n_batch/episode\": 192}, \"test\": {\"n_unique_x\": 7800, \"n_unique_y\": 130, \"n_batch/episode\": 192}}, \"target\": {\"train\": {\"n_unique_x\": 179200, \"n_unique_y\": 16, \"n_batch/episode\": 6720}, \"val\": {\"n_unique_x\": 38400, \"n_unique_y\": 16, \"n_batch/episode\": 960}, \"test\": {\"n_unique_x\": 38400, \"n_unique_y\": 16, \"n_batch/episode\": 960}}}}'"
      ]
     },
     "execution_count": 29,
     "metadata": {},
     "output_type": "execute_result"
    }
   ],
   "source": [
    "json.dumps(experiment)"
   ]
  }
 ],
 "metadata": {
  "celltoolbar": "Tags",
  "kernelspec": {
   "display_name": "Python 3 (ipykernel)",
   "language": "python",
   "name": "python3"
  },
  "language_info": {
   "codemirror_mode": {
    "name": "ipython",
    "version": 3
   },
   "file_extension": ".py",
   "mimetype": "text/x-python",
   "name": "python",
   "nbconvert_exporter": "python",
   "pygments_lexer": "ipython3",
   "version": "3.8.10"
  },
  "papermill": {
   "default_parameters": {},
   "duration": 303.111218,
   "end_time": "2022-03-07T06:52:39.070306",
   "environment_variables": {},
   "exception": null,
   "input_path": "/mnt/wd500GB/CSC500/csc500-main/csc500-notebooks/templates/tl_ptn_template.ipynb",
   "output_path": "trial.ipynb",
   "parameters": {
    "parameters": {
     "BEST_MODEL_PATH": "./best_model.pth",
     "NUM_LOGS_PER_EPOCH": 10,
     "criteria_for_best": "target_loss",
     "dataset_seed": 1337,
     "datasets": [
      {
       "domain_prefix": "Wisig_",
       "domains": [
        1,
        2,
        3,
        4
       ],
       "episode_transforms": [],
       "labels": [
        "1-10",
        "1-12",
        "1-14",
        "1-16",
        "1-18",
        "1-19",
        "1-8",
        "10-11",
        "10-17",
        "10-4",
        "10-7",
        "11-1",
        "11-10",
        "11-19",
        "11-20",
        "11-4",
        "11-7",
        "12-19",
        "12-20",
        "12-7",
        "13-14",
        "13-18",
        "13-19",
        "13-20",
        "13-3",
        "13-7",
        "14-10",
        "14-11",
        "14-12",
        "14-13",
        "14-14",
        "14-19",
        "14-20",
        "14-7",
        "14-8",
        "14-9",
        "15-1",
        "15-19",
        "15-6",
        "16-1",
        "16-16",
        "16-19",
        "16-20",
        "17-10",
        "17-11",
        "18-1",
        "18-10",
        "18-11",
        "18-12",
        "18-13",
        "18-14",
        "18-15",
        "18-16",
        "18-17",
        "18-19",
        "18-2",
        "18-20",
        "18-4",
        "18-5",
        "18-7",
        "18-8",
        "18-9",
        "19-1",
        "19-10",
        "19-11",
        "19-12",
        "19-13",
        "19-14",
        "19-15",
        "19-19",
        "19-2",
        "19-20",
        "19-3",
        "19-4",
        "19-6",
        "19-7",
        "19-8",
        "19-9",
        "2-1",
        "2-13",
        "2-15",
        "2-3",
        "2-4",
        "2-5",
        "2-6",
        "2-7",
        "2-8",
        "20-1",
        "20-12",
        "20-14",
        "20-15",
        "20-16",
        "20-18",
        "20-19",
        "20-20",
        "20-3",
        "20-4",
        "20-5",
        "20-7",
        "20-8",
        "3-1",
        "3-13",
        "3-18",
        "3-2",
        "3-8",
        "4-1",
        "4-10",
        "4-11",
        "5-1",
        "5-5",
        "6-1",
        "6-15",
        "6-6",
        "7-10",
        "7-11",
        "7-12",
        "7-13",
        "7-14",
        "7-7",
        "7-8",
        "7-9",
        "8-1",
        "8-13",
        "8-14",
        "8-18",
        "8-20",
        "8-3",
        "8-8",
        "9-1",
        "9-7"
       ],
       "num_examples_per_domain_per_label": 100,
       "pickle_path": "/mnt/wd500GB/CSC500/csc500-main/datasets/wisig.node3-19.stratified_ds.2022A.pkl",
       "source_or_target_dataset": "source",
       "x_transforms": [
        "unit_mag"
       ]
      },
      {
       "domain_prefix": "ORACLE.run1",
       "domains": [
        32,
        38,
        8,
        44,
        14,
        50,
        20,
        26
       ],
       "episode_transforms": [],
       "labels": [
        "3123D52",
        "3123D65",
        "3123D79",
        "3123D80",
        "3123D54",
        "3123D70",
        "3123D7B",
        "3123D89",
        "3123D58",
        "3123D76",
        "3123D7D",
        "3123EFE",
        "3123D64",
        "3123D78",
        "3123D7E",
        "3124E4A"
       ],
       "num_examples_per_domain_per_label": 2000,
       "pickle_path": "/mnt/wd500GB/CSC500/csc500-main/datasets/oracle.Run1_framed_2000Examples_stratified_ds.2022A.pkl",
       "source_or_target_dataset": "target",
       "x_transforms": [
        "unit_mag"
       ]
      }
     ],
     "device": "cuda",
     "experiment_name": "tl_1_wisig-oracle.run1",
     "lr": 0.001,
     "n_epoch": 50,
     "n_query": 2,
     "n_shot": 3,
     "n_way": 16,
     "patience": 3,
     "seed": 1337,
     "test_k_factor": 2,
     "torch_default_dtype": "torch.float32",
     "train_k_factor": 3,
     "val_k_factor": 2,
     "x_net": [
      {
       "class": "nnReshape",
       "kargs": {
        "shape": [
         -1,
         1,
         2,
         256
        ]
       }
      },
      {
       "class": "Conv2d",
       "kargs": {
        "bias": false,
        "in_channels": 1,
        "kernel_size": [
         1,
         7
        ],
        "out_channels": 256,
        "padding": [
         0,
         3
        ]
       }
      },
      {
       "class": "ReLU",
       "kargs": {
        "inplace": true
       }
      },
      {
       "class": "BatchNorm2d",
       "kargs": {
        "num_features": 256
       }
      },
      {
       "class": "Conv2d",
       "kargs": {
        "bias": true,
        "in_channels": 256,
        "kernel_size": [
         2,
         7
        ],
        "out_channels": 80,
        "padding": [
         0,
         3
        ]
       }
      },
      {
       "class": "ReLU",
       "kargs": {
        "inplace": true
       }
      },
      {
       "class": "BatchNorm2d",
       "kargs": {
        "num_features": 80
       }
      },
      {
       "class": "Flatten",
       "kargs": {}
      },
      {
       "class": "Linear",
       "kargs": {
        "in_features": 20480,
        "out_features": 256
       }
      },
      {
       "class": "ReLU",
       "kargs": {
        "inplace": true
       }
      },
      {
       "class": "BatchNorm1d",
       "kargs": {
        "num_features": 256
       }
      },
      {
       "class": "Linear",
       "kargs": {
        "in_features": 256,
        "out_features": 256
       }
      }
     ]
    }
   },
   "start_time": "2022-03-07T06:47:35.959088",
   "version": "2.3.4"
  }
 },
 "nbformat": 4,
 "nbformat_minor": 5
}