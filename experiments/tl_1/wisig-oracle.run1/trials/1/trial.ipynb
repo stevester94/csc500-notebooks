{
 "cells": [
  {
   "cell_type": "markdown",
   "id": "9fea5f46",
   "metadata": {
    "papermill": {
     "duration": 0.017792,
     "end_time": "2022-03-10T20:55:23.205859",
     "exception": false,
     "start_time": "2022-03-10T20:55:23.188067",
     "status": "completed"
    },
    "tags": []
   },
   "source": [
    "# Transfer Learning Template"
   ]
  },
  {
   "cell_type": "code",
   "execution_count": 1,
   "id": "0902182a",
   "metadata": {
    "execution": {
     "iopub.execute_input": "2022-03-10T20:55:23.243127Z",
     "iopub.status.busy": "2022-03-10T20:55:23.242625Z",
     "iopub.status.idle": "2022-03-10T20:55:24.138717Z",
     "shell.execute_reply": "2022-03-10T20:55:24.138954Z"
    },
    "papermill": {
     "duration": 0.920799,
     "end_time": "2022-03-10T20:55:24.139044",
     "exception": false,
     "start_time": "2022-03-10T20:55:23.218245",
     "status": "completed"
    },
    "tags": []
   },
   "outputs": [],
   "source": [
    "%load_ext autoreload\n",
    "%autoreload 2\n",
    "%matplotlib inline\n",
    "\n",
    "    \n",
    "import os, json, sys, time, random\n",
    "import numpy as np\n",
    "import torch\n",
    "from torch.optim import Adam\n",
    "from  easydict import EasyDict\n",
    "import matplotlib.pyplot as plt\n",
    "\n",
    "from steves_models.steves_ptn import Steves_Prototypical_Network\n",
    "\n",
    "from steves_utils.lazy_iterable_wrapper import Lazy_Iterable_Wrapper\n",
    "from steves_utils.iterable_aggregator import Iterable_Aggregator\n",
    "from steves_utils.ptn_train_eval_test_jig import  PTN_Train_Eval_Test_Jig\n",
    "from steves_utils.torch_sequential_builder import build_sequential\n",
    "from steves_utils.torch_utils import get_dataset_metrics, ptn_confusion_by_domain_over_dataloader\n",
    "from steves_utils.utils_v2 import (per_domain_accuracy_from_confusion, get_datasets_base_path)\n",
    "from steves_utils.PTN.utils import independent_accuracy_assesment\n",
    "\n",
    "from torch.utils.data import DataLoader\n",
    "\n",
    "from steves_utils.stratified_dataset.episodic_accessor import Episodic_Accessor_Factory\n",
    "\n",
    "from steves_utils.ptn_do_report import (\n",
    "    get_loss_curve,\n",
    "    get_results_table,\n",
    "    get_parameters_table,\n",
    "    get_domain_accuracies,\n",
    ")\n",
    "\n",
    "from steves_utils.transforms import get_chained_transform"
   ]
  },
  {
   "cell_type": "markdown",
   "id": "41c840b4",
   "metadata": {
    "papermill": {
     "duration": 0.014853,
     "end_time": "2022-03-10T20:55:24.171251",
     "exception": false,
     "start_time": "2022-03-10T20:55:24.156398",
     "status": "completed"
    },
    "tags": []
   },
   "source": [
    "# Allowed Parameters\n",
    "These are allowed parameters, not defaults\n",
    "Each of these values need to be present in the injected parameters (the notebook will raise an exception if they are not present)\n",
    "\n",
    "Papermill uses the cell tag \"parameters\" to inject the real parameters below this cell.\n",
    "Enable tags to see what I mean"
   ]
  },
  {
   "cell_type": "code",
   "execution_count": 2,
   "id": "fd44eb83",
   "metadata": {
    "execution": {
     "iopub.execute_input": "2022-03-10T20:55:24.198798Z",
     "iopub.status.busy": "2022-03-10T20:55:24.198536Z",
     "iopub.status.idle": "2022-03-10T20:55:24.214387Z",
     "shell.execute_reply": "2022-03-10T20:55:24.213931Z"
    },
    "papermill": {
     "duration": 0.030904,
     "end_time": "2022-03-10T20:55:24.214477",
     "exception": false,
     "start_time": "2022-03-10T20:55:24.183573",
     "status": "completed"
    },
    "tags": []
   },
   "outputs": [],
   "source": [
    "required_parameters = {\n",
    "    \"experiment_name\",\n",
    "    \"lr\",\n",
    "    \"device\",\n",
    "    \"seed\",\n",
    "    \"dataset_seed\",\n",
    "    \"n_shot\",\n",
    "    \"n_query\",\n",
    "    \"n_way\",\n",
    "    \"train_k_factor\",\n",
    "    \"val_k_factor\",\n",
    "    \"test_k_factor\",\n",
    "    \"n_epoch\",\n",
    "    \"patience\",\n",
    "    \"criteria_for_best\",\n",
    "    \"x_net\",\n",
    "    \"datasets\",\n",
    "    \"torch_default_dtype\",\n",
    "    \"NUM_LOGS_PER_EPOCH\",\n",
    "    \"BEST_MODEL_PATH\",\n",
    "}"
   ]
  },
  {
   "cell_type": "code",
   "execution_count": 3,
   "id": "fa3f0049",
   "metadata": {
    "execution": {
     "iopub.execute_input": "2022-03-10T20:55:24.252742Z",
     "iopub.status.busy": "2022-03-10T20:55:24.252465Z",
     "iopub.status.idle": "2022-03-10T20:55:24.264325Z",
     "shell.execute_reply": "2022-03-10T20:55:24.263873Z"
    },
    "papermill": {
     "duration": 0.033401,
     "end_time": "2022-03-10T20:55:24.264414",
     "exception": false,
     "start_time": "2022-03-10T20:55:24.231013",
     "status": "completed"
    },
    "tags": [
     "parameters"
    ]
   },
   "outputs": [],
   "source": [
    "from steves_utils.CORES.utils import (\n",
    "    ALL_NODES,\n",
    "    ALL_NODES_MINIMUM_1000_EXAMPLES,\n",
    "    ALL_DAYS\n",
    ")\n",
    "\n",
    "from steves_utils.ORACLE.utils_v2 import (\n",
    "    ALL_DISTANCES_FEET_NARROWED,\n",
    "    ALL_RUNS,\n",
    "    ALL_SERIAL_NUMBERS,\n",
    ")\n",
    "\n",
    "standalone_parameters = {}\n",
    "standalone_parameters[\"experiment_name\"] = \"STANDALONE PTN\"\n",
    "standalone_parameters[\"lr\"] = 0.001\n",
    "standalone_parameters[\"device\"] = \"cuda\"\n",
    "\n",
    "standalone_parameters[\"seed\"] = 1337\n",
    "standalone_parameters[\"dataset_seed\"] = 1337\n",
    "\n",
    "standalone_parameters[\"n_way\"] = 8\n",
    "standalone_parameters[\"n_shot\"] = 3\n",
    "standalone_parameters[\"n_query\"]  = 2\n",
    "standalone_parameters[\"train_k_factor\"] = 1\n",
    "standalone_parameters[\"val_k_factor\"] = 2\n",
    "standalone_parameters[\"test_k_factor\"] = 2\n",
    "\n",
    "\n",
    "standalone_parameters[\"n_epoch\"] = 50\n",
    "\n",
    "standalone_parameters[\"patience\"] = 10\n",
    "standalone_parameters[\"criteria_for_best\"] = \"source_loss\"\n",
    "\n",
    "standalone_parameters[\"datasets\"] = [\n",
    "    {\n",
    "        \"labels\": ALL_SERIAL_NUMBERS,\n",
    "        \"domains\": ALL_DISTANCES_FEET_NARROWED,\n",
    "        \"num_examples_per_domain_per_label\": 100,\n",
    "        \"pickle_path\": os.path.join(get_datasets_base_path(), \"oracle.Run1_framed_2000Examples_stratified_ds.2022A.pkl\"),\n",
    "        \"source_or_target_dataset\": \"source\",\n",
    "        \"x_transforms\": [\"unit_mag\", \"minus_two\"],\n",
    "        \"episode_transforms\": [],\n",
    "        \"domain_prefix\": \"ORACLE_\"\n",
    "    },\n",
    "    {\n",
    "        \"labels\": ALL_NODES,\n",
    "        \"domains\": ALL_DAYS,\n",
    "        \"num_examples_per_domain_per_label\": 100,\n",
    "        \"pickle_path\": os.path.join(get_datasets_base_path(), \"cores.stratified_ds.2022A.pkl\"),\n",
    "        \"source_or_target_dataset\": \"target\",\n",
    "        \"x_transforms\": [\"unit_power\", \"times_zero\"],\n",
    "        \"episode_transforms\": [],\n",
    "        \"domain_prefix\": \"CORES_\"\n",
    "    }   \n",
    "]\n",
    "\n",
    "standalone_parameters[\"torch_default_dtype\"] = \"torch.float32\" \n",
    "\n",
    "\n",
    "\n",
    "standalone_parameters[\"x_net\"] =     [\n",
    "    {\"class\": \"nnReshape\", \"kargs\": {\"shape\":[-1, 1, 2, 256]}},\n",
    "    {\"class\": \"Conv2d\", \"kargs\": { \"in_channels\":1, \"out_channels\":256, \"kernel_size\":(1,7), \"bias\":False, \"padding\":(0,3), },},\n",
    "    {\"class\": \"ReLU\", \"kargs\": {\"inplace\": True}},\n",
    "    {\"class\": \"BatchNorm2d\", \"kargs\": {\"num_features\":256}},\n",
    "\n",
    "    {\"class\": \"Conv2d\", \"kargs\": { \"in_channels\":256, \"out_channels\":80, \"kernel_size\":(2,7), \"bias\":True, \"padding\":(0,3), },},\n",
    "    {\"class\": \"ReLU\", \"kargs\": {\"inplace\": True}},\n",
    "    {\"class\": \"BatchNorm2d\", \"kargs\": {\"num_features\":80}},\n",
    "    {\"class\": \"Flatten\", \"kargs\": {}},\n",
    "\n",
    "    {\"class\": \"Linear\", \"kargs\": {\"in_features\": 80*256, \"out_features\": 256}}, # 80 units per IQ pair\n",
    "    {\"class\": \"ReLU\", \"kargs\": {\"inplace\": True}},\n",
    "    {\"class\": \"BatchNorm1d\", \"kargs\": {\"num_features\":256}},\n",
    "\n",
    "    {\"class\": \"Linear\", \"kargs\": {\"in_features\": 256, \"out_features\": 256}},\n",
    "]\n",
    "\n",
    "# Parameters relevant to results\n",
    "# These parameters will basically never need to change\n",
    "standalone_parameters[\"NUM_LOGS_PER_EPOCH\"] = 10\n",
    "standalone_parameters[\"BEST_MODEL_PATH\"] = \"./best_model.pth\"\n",
    "\n",
    "\n",
    "\n",
    "\n"
   ]
  },
  {
   "cell_type": "code",
   "execution_count": 4,
   "id": "5407b757",
   "metadata": {
    "execution": {
     "iopub.execute_input": "2022-03-10T20:55:24.304636Z",
     "iopub.status.busy": "2022-03-10T20:55:24.301515Z",
     "iopub.status.idle": "2022-03-10T20:55:24.316910Z",
     "shell.execute_reply": "2022-03-10T20:55:24.316462Z"
    },
    "papermill": {
     "duration": 0.035009,
     "end_time": "2022-03-10T20:55:24.316997",
     "exception": false,
     "start_time": "2022-03-10T20:55:24.281988",
     "status": "completed"
    },
    "tags": [
     "injected-parameters"
    ]
   },
   "outputs": [],
   "source": [
    "# Parameters\n",
    "parameters = {\n",
    "    \"experiment_name\": \"tl_1_wisig-oracle.run1\",\n",
    "    \"device\": \"cuda\",\n",
    "    \"lr\": 0.001,\n",
    "    \"seed\": 1337,\n",
    "    \"dataset_seed\": 1337,\n",
    "    \"n_shot\": 3,\n",
    "    \"n_query\": 2,\n",
    "    \"train_k_factor\": 3,\n",
    "    \"val_k_factor\": 2,\n",
    "    \"test_k_factor\": 2,\n",
    "    \"torch_default_dtype\": \"torch.float32\",\n",
    "    \"n_epoch\": 50,\n",
    "    \"patience\": 3,\n",
    "    \"criteria_for_best\": \"target_loss\",\n",
    "    \"x_net\": [\n",
    "        {\"class\": \"nnReshape\", \"kargs\": {\"shape\": [-1, 1, 2, 256]}},\n",
    "        {\n",
    "            \"class\": \"Conv2d\",\n",
    "            \"kargs\": {\n",
    "                \"in_channels\": 1,\n",
    "                \"out_channels\": 256,\n",
    "                \"kernel_size\": [1, 7],\n",
    "                \"bias\": False,\n",
    "                \"padding\": [0, 3],\n",
    "            },\n",
    "        },\n",
    "        {\"class\": \"ReLU\", \"kargs\": {\"inplace\": True}},\n",
    "        {\"class\": \"BatchNorm2d\", \"kargs\": {\"num_features\": 256}},\n",
    "        {\n",
    "            \"class\": \"Conv2d\",\n",
    "            \"kargs\": {\n",
    "                \"in_channels\": 256,\n",
    "                \"out_channels\": 80,\n",
    "                \"kernel_size\": [2, 7],\n",
    "                \"bias\": True,\n",
    "                \"padding\": [0, 3],\n",
    "            },\n",
    "        },\n",
    "        {\"class\": \"ReLU\", \"kargs\": {\"inplace\": True}},\n",
    "        {\"class\": \"BatchNorm2d\", \"kargs\": {\"num_features\": 80}},\n",
    "        {\"class\": \"Flatten\", \"kargs\": {}},\n",
    "        {\"class\": \"Linear\", \"kargs\": {\"in_features\": 20480, \"out_features\": 256}},\n",
    "        {\"class\": \"ReLU\", \"kargs\": {\"inplace\": True}},\n",
    "        {\"class\": \"BatchNorm1d\", \"kargs\": {\"num_features\": 256}},\n",
    "        {\"class\": \"Linear\", \"kargs\": {\"in_features\": 256, \"out_features\": 256}},\n",
    "    ],\n",
    "    \"NUM_LOGS_PER_EPOCH\": 10,\n",
    "    \"BEST_MODEL_PATH\": \"./best_model.pth\",\n",
    "    \"n_way\": 16,\n",
    "    \"datasets\": [\n",
    "        {\n",
    "            \"labels\": [\n",
    "                \"1-10\",\n",
    "                \"1-12\",\n",
    "                \"1-14\",\n",
    "                \"1-16\",\n",
    "                \"1-18\",\n",
    "                \"1-19\",\n",
    "                \"1-8\",\n",
    "                \"10-11\",\n",
    "                \"10-17\",\n",
    "                \"10-4\",\n",
    "                \"10-7\",\n",
    "                \"11-1\",\n",
    "                \"11-10\",\n",
    "                \"11-19\",\n",
    "                \"11-20\",\n",
    "                \"11-4\",\n",
    "                \"11-7\",\n",
    "                \"12-19\",\n",
    "                \"12-20\",\n",
    "                \"12-7\",\n",
    "                \"13-14\",\n",
    "                \"13-18\",\n",
    "                \"13-19\",\n",
    "                \"13-20\",\n",
    "                \"13-3\",\n",
    "                \"13-7\",\n",
    "                \"14-10\",\n",
    "                \"14-11\",\n",
    "                \"14-12\",\n",
    "                \"14-13\",\n",
    "                \"14-14\",\n",
    "                \"14-19\",\n",
    "                \"14-20\",\n",
    "                \"14-7\",\n",
    "                \"14-8\",\n",
    "                \"14-9\",\n",
    "                \"15-1\",\n",
    "                \"15-19\",\n",
    "                \"15-6\",\n",
    "                \"16-1\",\n",
    "                \"16-16\",\n",
    "                \"16-19\",\n",
    "                \"16-20\",\n",
    "                \"17-10\",\n",
    "                \"17-11\",\n",
    "                \"18-1\",\n",
    "                \"18-10\",\n",
    "                \"18-11\",\n",
    "                \"18-12\",\n",
    "                \"18-13\",\n",
    "                \"18-14\",\n",
    "                \"18-15\",\n",
    "                \"18-16\",\n",
    "                \"18-17\",\n",
    "                \"18-19\",\n",
    "                \"18-2\",\n",
    "                \"18-20\",\n",
    "                \"18-4\",\n",
    "                \"18-5\",\n",
    "                \"18-7\",\n",
    "                \"18-8\",\n",
    "                \"18-9\",\n",
    "                \"19-1\",\n",
    "                \"19-10\",\n",
    "                \"19-11\",\n",
    "                \"19-12\",\n",
    "                \"19-13\",\n",
    "                \"19-14\",\n",
    "                \"19-15\",\n",
    "                \"19-19\",\n",
    "                \"19-2\",\n",
    "                \"19-20\",\n",
    "                \"19-3\",\n",
    "                \"19-4\",\n",
    "                \"19-6\",\n",
    "                \"19-7\",\n",
    "                \"19-8\",\n",
    "                \"19-9\",\n",
    "                \"2-1\",\n",
    "                \"2-13\",\n",
    "                \"2-15\",\n",
    "                \"2-3\",\n",
    "                \"2-4\",\n",
    "                \"2-5\",\n",
    "                \"2-6\",\n",
    "                \"2-7\",\n",
    "                \"2-8\",\n",
    "                \"20-1\",\n",
    "                \"20-12\",\n",
    "                \"20-14\",\n",
    "                \"20-15\",\n",
    "                \"20-16\",\n",
    "                \"20-18\",\n",
    "                \"20-19\",\n",
    "                \"20-20\",\n",
    "                \"20-3\",\n",
    "                \"20-4\",\n",
    "                \"20-5\",\n",
    "                \"20-7\",\n",
    "                \"20-8\",\n",
    "                \"3-1\",\n",
    "                \"3-13\",\n",
    "                \"3-18\",\n",
    "                \"3-2\",\n",
    "                \"3-8\",\n",
    "                \"4-1\",\n",
    "                \"4-10\",\n",
    "                \"4-11\",\n",
    "                \"5-1\",\n",
    "                \"5-5\",\n",
    "                \"6-1\",\n",
    "                \"6-15\",\n",
    "                \"6-6\",\n",
    "                \"7-10\",\n",
    "                \"7-11\",\n",
    "                \"7-12\",\n",
    "                \"7-13\",\n",
    "                \"7-14\",\n",
    "                \"7-7\",\n",
    "                \"7-8\",\n",
    "                \"7-9\",\n",
    "                \"8-1\",\n",
    "                \"8-13\",\n",
    "                \"8-14\",\n",
    "                \"8-18\",\n",
    "                \"8-20\",\n",
    "                \"8-3\",\n",
    "                \"8-8\",\n",
    "                \"9-1\",\n",
    "                \"9-7\",\n",
    "            ],\n",
    "            \"domains\": [1, 2, 3, 4],\n",
    "            \"num_examples_per_domain_per_label\": 100,\n",
    "            \"pickle_path\": \"/mnt/wd500GB/CSC500/csc500-main/datasets/wisig.node3-19.stratified_ds.2022A.pkl\",\n",
    "            \"source_or_target_dataset\": \"source\",\n",
    "            \"x_transforms\": [\"unit_mag\"],\n",
    "            \"episode_transforms\": [],\n",
    "            \"domain_prefix\": \"Wisig_\",\n",
    "        },\n",
    "        {\n",
    "            \"labels\": [\n",
    "                \"3123D52\",\n",
    "                \"3123D65\",\n",
    "                \"3123D79\",\n",
    "                \"3123D80\",\n",
    "                \"3123D54\",\n",
    "                \"3123D70\",\n",
    "                \"3123D7B\",\n",
    "                \"3123D89\",\n",
    "                \"3123D58\",\n",
    "                \"3123D76\",\n",
    "                \"3123D7D\",\n",
    "                \"3123EFE\",\n",
    "                \"3123D64\",\n",
    "                \"3123D78\",\n",
    "                \"3123D7E\",\n",
    "                \"3124E4A\",\n",
    "            ],\n",
    "            \"domains\": [32, 38, 8, 44, 14, 50, 20, 26],\n",
    "            \"num_examples_per_domain_per_label\": 10000,\n",
    "            \"pickle_path\": \"/mnt/wd500GB/CSC500/csc500-main/datasets/oracle.Run1_10kExamples_stratified_ds.2022A.pkl\",\n",
    "            \"source_or_target_dataset\": \"target\",\n",
    "            \"x_transforms\": [\"unit_mag\"],\n",
    "            \"episode_transforms\": [],\n",
    "            \"domain_prefix\": \"ORACLE.run1\",\n",
    "        },\n",
    "    ],\n",
    "}\n"
   ]
  },
  {
   "cell_type": "code",
   "execution_count": 5,
   "id": "8fa1cc33",
   "metadata": {
    "execution": {
     "iopub.execute_input": "2022-03-10T20:55:24.351323Z",
     "iopub.status.busy": "2022-03-10T20:55:24.351070Z",
     "iopub.status.idle": "2022-03-10T20:55:24.365366Z",
     "shell.execute_reply": "2022-03-10T20:55:24.364921Z"
    },
    "papermill": {
     "duration": 0.031169,
     "end_time": "2022-03-10T20:55:24.365454",
     "exception": false,
     "start_time": "2022-03-10T20:55:24.334285",
     "status": "completed"
    },
    "tags": []
   },
   "outputs": [],
   "source": [
    "# Set this to True if you want to run this template directly\n",
    "STANDALONE = False\n",
    "if STANDALONE:\n",
    "    print(\"parameters not injected, running with standalone_parameters\")\n",
    "    parameters = standalone_parameters\n",
    "\n",
    "if not 'parameters' in locals() and not 'parameters' in globals():\n",
    "    raise Exception(\"Parameter injection failed\")\n",
    "\n",
    "#Use an easy dict for all the parameters\n",
    "p = EasyDict(parameters)\n",
    "\n",
    "supplied_keys = set(p.keys())\n",
    "\n",
    "if  supplied_keys != required_parameters:\n",
    "    print(\"Parameters are incorrect\")\n",
    "    if len(supplied_keys - required_parameters)>0: print(\"Shouldn't have:\", str(supplied_keys - required_parameters))\n",
    "    if len(required_parameters - supplied_keys)>0: print(\"Need to have:\", str(required_parameters - supplied_keys))\n",
    "    raise RuntimeError(\"Parameters are incorrect\")\n",
    "\n"
   ]
  },
  {
   "cell_type": "code",
   "execution_count": 6,
   "id": "3a028d58",
   "metadata": {
    "execution": {
     "iopub.execute_input": "2022-03-10T20:55:24.397206Z",
     "iopub.status.busy": "2022-03-10T20:55:24.396957Z",
     "iopub.status.idle": "2022-03-10T20:55:24.407713Z",
     "shell.execute_reply": "2022-03-10T20:55:24.407492Z"
    },
    "papermill": {
     "duration": 0.025079,
     "end_time": "2022-03-10T20:55:24.407762",
     "exception": false,
     "start_time": "2022-03-10T20:55:24.382683",
     "status": "completed"
    },
    "tags": []
   },
   "outputs": [],
   "source": [
    "###################################\n",
    "# Set the RNGs and make it all deterministic\n",
    "###################################\n",
    "np.random.seed(p.seed)\n",
    "random.seed(p.seed)\n",
    "torch.manual_seed(p.seed)\n",
    "\n",
    "torch.use_deterministic_algorithms(True) "
   ]
  },
  {
   "cell_type": "code",
   "execution_count": 7,
   "id": "b691acf6",
   "metadata": {
    "execution": {
     "iopub.execute_input": "2022-03-10T20:55:24.438086Z",
     "iopub.status.busy": "2022-03-10T20:55:24.437838Z",
     "iopub.status.idle": "2022-03-10T20:55:24.452512Z",
     "shell.execute_reply": "2022-03-10T20:55:24.452124Z"
    },
    "papermill": {
     "duration": 0.029603,
     "end_time": "2022-03-10T20:55:24.452600",
     "exception": false,
     "start_time": "2022-03-10T20:55:24.422997",
     "status": "completed"
    },
    "tags": []
   },
   "outputs": [],
   "source": [
    "###########################################\n",
    "# The stratified datasets honor this\n",
    "###########################################\n",
    "torch.set_default_dtype(eval(p.torch_default_dtype))"
   ]
  },
  {
   "cell_type": "code",
   "execution_count": 8,
   "id": "b5fba671",
   "metadata": {
    "execution": {
     "iopub.execute_input": "2022-03-10T20:55:24.485733Z",
     "iopub.status.busy": "2022-03-10T20:55:24.485291Z",
     "iopub.status.idle": "2022-03-10T20:55:24.524156Z",
     "shell.execute_reply": "2022-03-10T20:55:24.523710Z"
    },
    "papermill": {
     "duration": 0.05393,
     "end_time": "2022-03-10T20:55:24.524244",
     "exception": false,
     "start_time": "2022-03-10T20:55:24.470314",
     "status": "completed"
    },
    "tags": []
   },
   "outputs": [],
   "source": [
    "###################################\n",
    "# Build the network(s)\n",
    "# Note: It's critical to do this AFTER setting the RNG\n",
    "###################################\n",
    "x_net = build_sequential(p.x_net)"
   ]
  },
  {
   "cell_type": "code",
   "execution_count": 9,
   "id": "5d7e61cc",
   "metadata": {
    "execution": {
     "iopub.execute_input": "2022-03-10T20:55:24.559666Z",
     "iopub.status.busy": "2022-03-10T20:55:24.559418Z",
     "iopub.status.idle": "2022-03-10T20:55:24.572786Z",
     "shell.execute_reply": "2022-03-10T20:55:24.572459Z"
    },
    "papermill": {
     "duration": 0.028554,
     "end_time": "2022-03-10T20:55:24.572854",
     "exception": false,
     "start_time": "2022-03-10T20:55:24.544300",
     "status": "completed"
    },
    "tags": []
   },
   "outputs": [],
   "source": [
    "start_time_secs = time.time()"
   ]
  },
  {
   "cell_type": "code",
   "execution_count": 10,
   "id": "c6b67dfd",
   "metadata": {
    "execution": {
     "iopub.execute_input": "2022-03-10T20:55:24.605704Z",
     "iopub.status.busy": "2022-03-10T20:55:24.605455Z",
     "iopub.status.idle": "2022-03-10T20:55:24.614999Z",
     "shell.execute_reply": "2022-03-10T20:55:24.615213Z"
    },
    "papermill": {
     "duration": 0.024925,
     "end_time": "2022-03-10T20:55:24.615270",
     "exception": false,
     "start_time": "2022-03-10T20:55:24.590345",
     "status": "completed"
    },
    "tags": []
   },
   "outputs": [],
   "source": [
    "p.domains_source = []\n",
    "p.domains_target = []\n",
    "\n",
    "\n",
    "train_original_source = []\n",
    "val_original_source   = []\n",
    "test_original_source  = []\n",
    "\n",
    "train_original_target = []\n",
    "val_original_target   = []\n",
    "test_original_target  = []"
   ]
  },
  {
   "cell_type": "code",
   "execution_count": 11,
   "id": "e3d9c3d3",
   "metadata": {
    "execution": {
     "iopub.execute_input": "2022-03-10T20:55:24.645995Z",
     "iopub.status.busy": "2022-03-10T20:55:24.645744Z",
     "iopub.status.idle": "2022-03-10T20:55:24.659585Z",
     "shell.execute_reply": "2022-03-10T20:55:24.659786Z"
    },
    "papermill": {
     "duration": 0.029067,
     "end_time": "2022-03-10T20:55:24.659842",
     "exception": false,
     "start_time": "2022-03-10T20:55:24.630775",
     "status": "completed"
    },
    "tags": []
   },
   "outputs": [],
   "source": [
    "# global_x_transform_func = lambda x: normalize(x.to(torch.get_default_dtype()), \"unit_power\") # unit_power, unit_mag\n",
    "# global_x_transform_func = lambda x: normalize(x, \"unit_power\") # unit_power, unit_mag"
   ]
  },
  {
   "cell_type": "code",
   "execution_count": 12,
   "id": "acb78fd2",
   "metadata": {
    "execution": {
     "iopub.execute_input": "2022-03-10T20:55:24.698948Z",
     "iopub.status.busy": "2022-03-10T20:55:24.698672Z",
     "iopub.status.idle": "2022-03-10T20:55:24.715290Z",
     "shell.execute_reply": "2022-03-10T20:55:24.715722Z"
    },
    "papermill": {
     "duration": 0.037412,
     "end_time": "2022-03-10T20:55:24.715839",
     "exception": false,
     "start_time": "2022-03-10T20:55:24.678427",
     "status": "completed"
    },
    "tags": []
   },
   "outputs": [],
   "source": [
    "def add_dataset(\n",
    "    labels,\n",
    "    domains,\n",
    "    pickle_path,\n",
    "    x_transforms,\n",
    "    episode_transforms,\n",
    "    domain_prefix,\n",
    "    num_examples_per_domain_per_label,\n",
    "    source_or_target_dataset:str,\n",
    "    iterator_seed=p.seed,\n",
    "    dataset_seed=p.dataset_seed,\n",
    "    n_shot=p.n_shot,\n",
    "    n_way=p.n_way,\n",
    "    n_query=p.n_query,\n",
    "    train_val_test_k_factors=(p.train_k_factor,p.val_k_factor,p.test_k_factor),\n",
    "):\n",
    "   \n",
    "    if x_transforms == []: x_transform = None\n",
    "    else: x_transform = get_chained_transform(x_transforms)\n",
    "    \n",
    "    if episode_transforms == []: episode_transform = None\n",
    "    else: raise Exception(\"episode_transforms not implemented\")\n",
    "    \n",
    "    episode_transform = lambda tup, _prefix=domain_prefix: (_prefix + str(tup[0]), tup[1])\n",
    "\n",
    "\n",
    "    eaf = Episodic_Accessor_Factory(\n",
    "        labels=labels,\n",
    "        domains=domains,\n",
    "        num_examples_per_domain_per_label=num_examples_per_domain_per_label,\n",
    "        iterator_seed=iterator_seed,\n",
    "        dataset_seed=dataset_seed,\n",
    "        n_shot=n_shot,\n",
    "        n_way=n_way,\n",
    "        n_query=n_query,\n",
    "        train_val_test_k_factors=train_val_test_k_factors,\n",
    "        pickle_path=pickle_path,\n",
    "        x_transform_func=x_transform,\n",
    "    )\n",
    "\n",
    "    train, val, test = eaf.get_train(), eaf.get_val(), eaf.get_test()\n",
    "    train = Lazy_Iterable_Wrapper(train, episode_transform)\n",
    "    val = Lazy_Iterable_Wrapper(val, episode_transform)\n",
    "    test = Lazy_Iterable_Wrapper(test, episode_transform)\n",
    "\n",
    "    if source_or_target_dataset==\"source\":\n",
    "        train_original_source.append(train)\n",
    "        val_original_source.append(val)\n",
    "        test_original_source.append(test)\n",
    "\n",
    "        p.domains_source.extend(\n",
    "            [domain_prefix + str(u) for u in domains]\n",
    "        )\n",
    "    elif source_or_target_dataset==\"target\":\n",
    "        train_original_target.append(train)\n",
    "        val_original_target.append(val)\n",
    "        test_original_target.append(test)\n",
    "        p.domains_target.extend(\n",
    "            [domain_prefix + str(u) for u in domains]\n",
    "        )\n",
    "    else:\n",
    "        raise Exception(f\"invalid source_or_target_dataset: {source_or_target_dataset}\")\n",
    "    "
   ]
  },
  {
   "cell_type": "code",
   "execution_count": 13,
   "id": "fe266617",
   "metadata": {
    "execution": {
     "iopub.execute_input": "2022-03-10T20:55:24.750274Z",
     "iopub.status.busy": "2022-03-10T20:55:24.750023Z",
     "iopub.status.idle": "2022-03-10T20:56:43.502231Z",
     "shell.execute_reply": "2022-03-10T20:56:43.501745Z"
    },
    "papermill": {
     "duration": 78.767415,
     "end_time": "2022-03-10T20:56:43.502334",
     "exception": false,
     "start_time": "2022-03-10T20:55:24.734919",
     "status": "completed"
    },
    "tags": []
   },
   "outputs": [],
   "source": [
    "for ds in p.datasets:\n",
    "    add_dataset(**ds)"
   ]
  },
  {
   "cell_type": "code",
   "execution_count": 14,
   "id": "b90d65ac",
   "metadata": {
    "execution": {
     "iopub.execute_input": "2022-03-10T20:56:43.537412Z",
     "iopub.status.busy": "2022-03-10T20:56:43.537152Z",
     "iopub.status.idle": "2022-03-10T20:56:43.552591Z",
     "shell.execute_reply": "2022-03-10T20:56:43.552197Z"
    },
    "papermill": {
     "duration": 0.0308,
     "end_time": "2022-03-10T20:56:43.552679",
     "exception": false,
     "start_time": "2022-03-10T20:56:43.521879",
     "status": "completed"
    },
    "tags": []
   },
   "outputs": [],
   "source": [
    "# from steves_utils.CORES.utils import (\n",
    "#     ALL_NODES,\n",
    "#     ALL_NODES_MINIMUM_1000_EXAMPLES,\n",
    "#     ALL_DAYS\n",
    "# )\n",
    "\n",
    "# add_dataset(\n",
    "#     labels=ALL_NODES,\n",
    "#     domains = ALL_DAYS,\n",
    "#     num_examples_per_domain_per_label=100,\n",
    "#     pickle_path=os.path.join(get_datasets_base_path(), \"cores.stratified_ds.2022A.pkl\"),\n",
    "#     source_or_target_dataset=\"target\",\n",
    "#     x_transform_func=global_x_transform_func,\n",
    "#     domain_modifier=lambda u: f\"cores_{u}\"\n",
    "# )"
   ]
  },
  {
   "cell_type": "code",
   "execution_count": 15,
   "id": "76db484d",
   "metadata": {
    "execution": {
     "iopub.execute_input": "2022-03-10T20:56:43.586507Z",
     "iopub.status.busy": "2022-03-10T20:56:43.586035Z",
     "iopub.status.idle": "2022-03-10T20:56:43.598724Z",
     "shell.execute_reply": "2022-03-10T20:56:43.598271Z"
    },
    "papermill": {
     "duration": 0.027956,
     "end_time": "2022-03-10T20:56:43.598813",
     "exception": false,
     "start_time": "2022-03-10T20:56:43.570857",
     "status": "completed"
    },
    "tags": []
   },
   "outputs": [],
   "source": [
    "# from steves_utils.ORACLE.utils_v2 import (\n",
    "#     ALL_DISTANCES_FEET,\n",
    "#     ALL_RUNS,\n",
    "#     ALL_SERIAL_NUMBERS,\n",
    "# )\n",
    "\n",
    "\n",
    "# add_dataset(\n",
    "#     labels=ALL_SERIAL_NUMBERS,\n",
    "#     domains = list(set(ALL_DISTANCES_FEET) - {2,62}),\n",
    "#     num_examples_per_domain_per_label=100,\n",
    "#     pickle_path=os.path.join(get_datasets_base_path(), \"oracle.Run2_framed_2000Examples_stratified_ds.2022A.pkl\"),\n",
    "#     source_or_target_dataset=\"source\",\n",
    "#     x_transform_func=global_x_transform_func,\n",
    "#     domain_modifier=lambda u: f\"oracle1_{u}\"\n",
    "# )\n"
   ]
  },
  {
   "cell_type": "code",
   "execution_count": 16,
   "id": "97dea9d2",
   "metadata": {
    "execution": {
     "iopub.execute_input": "2022-03-10T20:56:43.629551Z",
     "iopub.status.busy": "2022-03-10T20:56:43.629294Z",
     "iopub.status.idle": "2022-03-10T20:56:43.638762Z",
     "shell.execute_reply": "2022-03-10T20:56:43.638412Z"
    },
    "papermill": {
     "duration": 0.024651,
     "end_time": "2022-03-10T20:56:43.638839",
     "exception": false,
     "start_time": "2022-03-10T20:56:43.614188",
     "status": "completed"
    },
    "tags": []
   },
   "outputs": [],
   "source": [
    "# from steves_utils.ORACLE.utils_v2 import (\n",
    "#     ALL_DISTANCES_FEET,\n",
    "#     ALL_RUNS,\n",
    "#     ALL_SERIAL_NUMBERS,\n",
    "# )\n",
    "\n",
    "\n",
    "# add_dataset(\n",
    "#     labels=ALL_SERIAL_NUMBERS,\n",
    "#     domains = list(set(ALL_DISTANCES_FEET) - {2,62,56}),\n",
    "#     num_examples_per_domain_per_label=100,\n",
    "#     pickle_path=os.path.join(get_datasets_base_path(), \"oracle.Run2_framed_2000Examples_stratified_ds.2022A.pkl\"),\n",
    "#     source_or_target_dataset=\"source\",\n",
    "#     x_transform_func=global_x_transform_func,\n",
    "#     domain_modifier=lambda u: f\"oracle2_{u}\"\n",
    "# )"
   ]
  },
  {
   "cell_type": "code",
   "execution_count": 17,
   "id": "6f289866",
   "metadata": {
    "execution": {
     "iopub.execute_input": "2022-03-10T20:56:43.670430Z",
     "iopub.status.busy": "2022-03-10T20:56:43.670177Z",
     "iopub.status.idle": "2022-03-10T20:56:43.683835Z",
     "shell.execute_reply": "2022-03-10T20:56:43.683475Z"
    },
    "papermill": {
     "duration": 0.029034,
     "end_time": "2022-03-10T20:56:43.683936",
     "exception": false,
     "start_time": "2022-03-10T20:56:43.654902",
     "status": "completed"
    },
    "tags": []
   },
   "outputs": [],
   "source": [
    "# add_dataset(\n",
    "#     labels=list(range(19)),\n",
    "#     domains = [0,1,2],\n",
    "#     num_examples_per_domain_per_label=100,\n",
    "#     pickle_path=os.path.join(get_datasets_base_path(), \"metehan.stratified_ds.2022A.pkl\"),\n",
    "#     source_or_target_dataset=\"target\",\n",
    "#     x_transform_func=global_x_transform_func,\n",
    "#     domain_modifier=lambda u: f\"met_{u}\"\n",
    "# )"
   ]
  },
  {
   "cell_type": "code",
   "execution_count": 18,
   "id": "86a863c3",
   "metadata": {
    "execution": {
     "iopub.execute_input": "2022-03-10T20:56:43.718708Z",
     "iopub.status.busy": "2022-03-10T20:56:43.718457Z",
     "iopub.status.idle": "2022-03-10T20:56:43.727966Z",
     "shell.execute_reply": "2022-03-10T20:56:43.727576Z"
    },
    "papermill": {
     "duration": 0.024439,
     "end_time": "2022-03-10T20:56:43.728066",
     "exception": false,
     "start_time": "2022-03-10T20:56:43.703627",
     "status": "completed"
    },
    "tags": []
   },
   "outputs": [],
   "source": [
    "# # from steves_utils.wisig.utils import (\n",
    "# #     ALL_NODES_MINIMUM_100_EXAMPLES,\n",
    "# #     ALL_NODES_MINIMUM_500_EXAMPLES,\n",
    "# #     ALL_NODES_MINIMUM_1000_EXAMPLES,\n",
    "# #     ALL_DAYS\n",
    "# # )\n",
    "\n",
    "# import steves_utils.wisig.utils as wisig\n",
    "\n",
    "\n",
    "# add_dataset(\n",
    "#     labels=wisig.ALL_NODES_MINIMUM_100_EXAMPLES,\n",
    "#     domains = wisig.ALL_DAYS,\n",
    "#     num_examples_per_domain_per_label=100,\n",
    "#     pickle_path=os.path.join(get_datasets_base_path(), \"wisig.node3-19.stratified_ds.2022A.pkl\"),\n",
    "#     source_or_target_dataset=\"target\",\n",
    "#     x_transform_func=global_x_transform_func,\n",
    "#     domain_modifier=lambda u: f\"wisig_{u}\"\n",
    "# )"
   ]
  },
  {
   "cell_type": "code",
   "execution_count": 19,
   "id": "fd5442bc",
   "metadata": {
    "execution": {
     "iopub.execute_input": "2022-03-10T20:56:43.764077Z",
     "iopub.status.busy": "2022-03-10T20:56:43.763813Z",
     "iopub.status.idle": "2022-03-10T20:56:43.779377Z",
     "shell.execute_reply": "2022-03-10T20:56:43.778925Z"
    },
    "papermill": {
     "duration": 0.033918,
     "end_time": "2022-03-10T20:56:43.779476",
     "exception": false,
     "start_time": "2022-03-10T20:56:43.745558",
     "status": "completed"
    },
    "tags": []
   },
   "outputs": [],
   "source": [
    "###################################\n",
    "# Build the dataset\n",
    "###################################\n",
    "train_original_source = Iterable_Aggregator(train_original_source, p.seed)\n",
    "val_original_source = Iterable_Aggregator(val_original_source, p.seed)\n",
    "test_original_source = Iterable_Aggregator(test_original_source, p.seed)\n",
    "\n",
    "\n",
    "train_original_target = Iterable_Aggregator(train_original_target, p.seed)\n",
    "val_original_target = Iterable_Aggregator(val_original_target, p.seed)\n",
    "test_original_target = Iterable_Aggregator(test_original_target, p.seed)\n",
    "\n",
    "# For CNN We only use X and Y. And we only train on the source.\n",
    "# Properly form the data using a transform lambda and Lazy_Iterable_Wrapper. Finally wrap them in a dataloader\n",
    "\n",
    "transform_lambda = lambda ex: ex[1] # Original is (<domain>, <episode>) so we strip down to episode only\n",
    "\n",
    "train_processed_source = Lazy_Iterable_Wrapper(train_original_source, transform_lambda)\n",
    "val_processed_source   = Lazy_Iterable_Wrapper(val_original_source, transform_lambda)\n",
    "test_processed_source  = Lazy_Iterable_Wrapper(test_original_source, transform_lambda)\n",
    "\n",
    "train_processed_target = Lazy_Iterable_Wrapper(train_original_target, transform_lambda)\n",
    "val_processed_target   = Lazy_Iterable_Wrapper(val_original_target, transform_lambda)\n",
    "test_processed_target  = Lazy_Iterable_Wrapper(test_original_target, transform_lambda)\n",
    "\n",
    "datasets = EasyDict({\n",
    "    \"source\": {\n",
    "        \"original\": {\"train\":train_original_source, \"val\":val_original_source, \"test\":test_original_source},\n",
    "        \"processed\": {\"train\":train_processed_source, \"val\":val_processed_source, \"test\":test_processed_source}\n",
    "    },\n",
    "    \"target\": {\n",
    "        \"original\": {\"train\":train_original_target, \"val\":val_original_target, \"test\":test_original_target},\n",
    "        \"processed\": {\"train\":train_processed_target, \"val\":val_processed_target, \"test\":test_processed_target}\n",
    "    },\n",
    "})"
   ]
  },
  {
   "cell_type": "code",
   "execution_count": 20,
   "id": "5b3c01fc",
   "metadata": {
    "execution": {
     "iopub.execute_input": "2022-03-10T20:56:43.814588Z",
     "iopub.status.busy": "2022-03-10T20:56:43.814231Z",
     "iopub.status.idle": "2022-03-10T20:56:57.659906Z",
     "shell.execute_reply": "2022-03-10T20:56:57.660149Z"
    },
    "papermill": {
     "duration": 13.862773,
     "end_time": "2022-03-10T20:56:57.660226",
     "exception": false,
     "start_time": "2022-03-10T20:56:43.797453",
     "status": "completed"
    },
    "tags": []
   },
   "outputs": [
    {
     "name": "stdout",
     "output_type": "stream",
     "text": [
      "{'Wisig_2', 'Wisig_4', 'Wisig_1', 'Wisig_3'}\n"
     ]
    },
    {
     "name": "stdout",
     "output_type": "stream",
     "text": [
      "{'ORACLE.run120', 'ORACLE.run18', 'ORACLE.run138', 'ORACLE.run132', 'ORACLE.run144', 'ORACLE.run126', 'ORACLE.run114', 'ORACLE.run150'}\n"
     ]
    },
    {
     "name": "stdout",
     "output_type": "stream",
     "text": [
      "tensor([[[-1.2417, -0.5531, -0.0226,  ..., -1.1943,  0.0000,  0.7450],\n",
      "         [ 0.4922,  0.0045, -0.1309,  ..., -1.1017,  0.0000, -0.0113]],\n",
      "\n",
      "        [[-0.7227,  1.4813,  0.5903,  ..., -0.6329, -0.5499, -0.7361],\n",
      "         [-1.6451,  0.1122,  1.4880,  ...,  0.9336,  0.1369, -0.8080]],\n",
      "\n",
      "        [[-0.9096,  0.3472,  0.5175,  ...,  0.5601,  0.3002,  0.3517],\n",
      "         [-0.4705, -0.5063, -0.8267,  ...,  0.0067, -0.7617, -1.4652]],\n",
      "\n",
      "        ...,\n",
      "\n",
      "        [[ 0.5750, -0.6974, -0.2740,  ...,  0.0082,  0.0806,  0.5593],\n",
      "         [ 0.5541,  0.3390, -0.4473,  ...,  0.5757, -0.3539, -0.0373]],\n",
      "\n",
      "        [[-0.1992,  0.2354, -0.4338,  ..., -0.2796, -0.6142, -0.4476],\n",
      "         [-0.1478, -0.1057, -0.1695,  ...,  0.7844,  0.2035, -1.1632]],\n",
      "\n",
      "        [[ 0.1379,  0.6563, -0.9306,  ...,  0.9573,  0.1127, -0.1127],\n",
      "         [-0.8372,  0.2936,  0.5020,  ...,  0.0178,  0.1839, -0.3930]]])\n"
     ]
    }
   ],
   "source": [
    "from steves_utils.transforms import get_average_magnitude, get_average_power\n",
    "\n",
    "print(set([u for u,_ in val_original_source]))\n",
    "print(set([u for u,_ in val_original_target]))\n",
    "\n",
    "s_x, s_y, q_x, q_y, _ = next(iter(train_processed_source))\n",
    "print(s_x)\n",
    "\n",
    "# for ds in [\n",
    "#     train_processed_source,\n",
    "#     val_processed_source,\n",
    "#     test_processed_source,\n",
    "#     train_processed_target,\n",
    "#     val_processed_target,\n",
    "#     test_processed_target\n",
    "# ]:\n",
    "#     for s_x, s_y, q_x, q_y, _ in ds:\n",
    "#         for X in (s_x, q_x):\n",
    "#             for x in X:\n",
    "#                 assert np.isclose(get_average_magnitude(x.numpy()), 1.0)\n",
    "#                 assert np.isclose(get_average_power(x.numpy()), 1.0)\n",
    "                "
   ]
  },
  {
   "cell_type": "code",
   "execution_count": 21,
   "id": "bbdacba1",
   "metadata": {
    "execution": {
     "iopub.execute_input": "2022-03-10T20:56:57.699625Z",
     "iopub.status.busy": "2022-03-10T20:56:57.699359Z",
     "iopub.status.idle": "2022-03-10T20:56:57.752367Z",
     "shell.execute_reply": "2022-03-10T20:56:57.751874Z"
    },
    "papermill": {
     "duration": 0.077781,
     "end_time": "2022-03-10T20:56:57.752472",
     "exception": false,
     "start_time": "2022-03-10T20:56:57.674691",
     "status": "completed"
    },
    "tags": []
   },
   "outputs": [
    {
     "name": "stdout",
     "output_type": "stream",
     "text": [
      "(2, 256)\n"
     ]
    }
   ],
   "source": [
    "###################################\n",
    "# Build the model\n",
    "###################################\n",
    "model = Steves_Prototypical_Network(x_net, device=p.device, x_shape=(2,256))\n",
    "optimizer = Adam(params=model.parameters(), lr=p.lr)"
   ]
  },
  {
   "cell_type": "code",
   "execution_count": 22,
   "id": "22b39ac5",
   "metadata": {
    "execution": {
     "iopub.execute_input": "2022-03-10T20:56:57.790522Z",
     "iopub.status.busy": "2022-03-10T20:56:57.790258Z",
     "iopub.status.idle": "2022-03-10T21:02:46.267299Z",
     "shell.execute_reply": "2022-03-10T21:02:46.267068Z"
    },
    "papermill": {
     "duration": 348.494732,
     "end_time": "2022-03-10T21:02:46.267358",
     "exception": false,
     "start_time": "2022-03-10T20:56:57.772626",
     "status": "completed"
    },
    "tags": []
   },
   "outputs": [
    {
     "name": "stdout",
     "output_type": "stream",
     "text": [
      "epoch: 1, [batch: 1 / 1347], examples_per_second: 187.4810, train_label_loss: 2.8552, \n"
     ]
    },
    {
     "name": "stdout",
     "output_type": "stream",
     "text": [
      "epoch: 1, [batch: 135 / 1347], examples_per_second: 3147.1608, train_label_loss: 0.6331, \n"
     ]
    },
    {
     "name": "stdout",
     "output_type": "stream",
     "text": [
      "epoch: 1, [batch: 270 / 1347], examples_per_second: 3160.0117, train_label_loss: 0.1006, \n"
     ]
    },
    {
     "name": "stdout",
     "output_type": "stream",
     "text": [
      "epoch: 1, [batch: 404 / 1347], examples_per_second: 3180.3687, train_label_loss: 0.1035, \n"
     ]
    },
    {
     "name": "stdout",
     "output_type": "stream",
     "text": [
      "epoch: 1, [batch: 539 / 1347], examples_per_second: 3161.0602, train_label_loss: 0.7636, \n"
     ]
    },
    {
     "name": "stdout",
     "output_type": "stream",
     "text": [
      "epoch: 1, [batch: 674 / 1347], examples_per_second: 3180.9100, train_label_loss: 0.5005, \n"
     ]
    },
    {
     "name": "stdout",
     "output_type": "stream",
     "text": [
      "epoch: 1, [batch: 808 / 1347], examples_per_second: 3173.8596, train_label_loss: 0.7635, \n"
     ]
    },
    {
     "name": "stdout",
     "output_type": "stream",
     "text": [
      "epoch: 1, [batch: 943 / 1347], examples_per_second: 3152.2139, train_label_loss: 0.1535, \n"
     ]
    },
    {
     "name": "stdout",
     "output_type": "stream",
     "text": [
      "epoch: 1, [batch: 1077 / 1347], examples_per_second: 3184.1815, train_label_loss: 0.0343, \n"
     ]
    },
    {
     "name": "stdout",
     "output_type": "stream",
     "text": [
      "epoch: 1, [batch: 1212 / 1347], examples_per_second: 3154.5432, train_label_loss: 0.5521, \n"
     ]
    },
    {
     "name": "stdout",
     "output_type": "stream",
     "text": [
      "=============================================================\n",
      "epoch: 1, source_val_acc_label: 0.9351, target_val_acc_label: 0.1077, source_val_label_loss: 0.2755, target_val_label_loss: 2.7361, \n",
      "=============================================================\n"
     ]
    },
    {
     "name": "stdout",
     "output_type": "stream",
     "text": [
      "New best\n"
     ]
    },
    {
     "name": "stdout",
     "output_type": "stream",
     "text": [
      "epoch: 2, [batch: 1 / 1346], examples_per_second: 4.0956, train_label_loss: 0.2630, \n"
     ]
    },
    {
     "name": "stdout",
     "output_type": "stream",
     "text": [
      "epoch: 2, [batch: 135 / 1346], examples_per_second: 3190.2212, train_label_loss: 0.1100, \n"
     ]
    },
    {
     "name": "stdout",
     "output_type": "stream",
     "text": [
      "epoch: 2, [batch: 270 / 1346], examples_per_second: 3175.6782, train_label_loss: 0.0630, \n"
     ]
    },
    {
     "name": "stdout",
     "output_type": "stream",
     "text": [
      "epoch: 2, [batch: 404 / 1346], examples_per_second: 3163.4477, train_label_loss: 0.1080, \n"
     ]
    },
    {
     "name": "stdout",
     "output_type": "stream",
     "text": [
      "epoch: 2, [batch: 539 / 1346], examples_per_second: 3159.9273, train_label_loss: 0.0412, \n"
     ]
    },
    {
     "name": "stdout",
     "output_type": "stream",
     "text": [
      "epoch: 2, [batch: 673 / 1346], examples_per_second: 3197.4073, train_label_loss: 0.0636, \n"
     ]
    },
    {
     "name": "stdout",
     "output_type": "stream",
     "text": [
      "epoch: 2, [batch: 808 / 1346], examples_per_second: 3174.9822, train_label_loss: 0.5672, \n"
     ]
    },
    {
     "name": "stdout",
     "output_type": "stream",
     "text": [
      "epoch: 2, [batch: 942 / 1346], examples_per_second: 3159.7848, train_label_loss: 0.0080, \n"
     ]
    },
    {
     "name": "stdout",
     "output_type": "stream",
     "text": [
      "epoch: 2, [batch: 1077 / 1346], examples_per_second: 3171.3483, train_label_loss: 0.0151, \n"
     ]
    },
    {
     "name": "stdout",
     "output_type": "stream",
     "text": [
      "epoch: 2, [batch: 1211 / 1346], examples_per_second: 3210.7945, train_label_loss: 0.3915, \n"
     ]
    },
    {
     "name": "stdout",
     "output_type": "stream",
     "text": [
      "=============================================================\n",
      "epoch: 2, source_val_acc_label: 0.9499, target_val_acc_label: 0.0953, source_val_label_loss: 0.2241, target_val_label_loss: 2.7872, \n",
      "=============================================================\n"
     ]
    },
    {
     "name": "stdout",
     "output_type": "stream",
     "text": [
      "epoch: 3, [batch: 1 / 1347], examples_per_second: 4.1020, train_label_loss: 0.3503, \n"
     ]
    },
    {
     "name": "stdout",
     "output_type": "stream",
     "text": [
      "epoch: 3, [batch: 135 / 1347], examples_per_second: 3117.0617, train_label_loss: 0.3079, \n"
     ]
    },
    {
     "name": "stdout",
     "output_type": "stream",
     "text": [
      "epoch: 3, [batch: 270 / 1347], examples_per_second: 3160.1109, train_label_loss: 0.2072, \n"
     ]
    },
    {
     "name": "stdout",
     "output_type": "stream",
     "text": [
      "epoch: 3, [batch: 404 / 1347], examples_per_second: 3168.7870, train_label_loss: 0.4449, \n"
     ]
    },
    {
     "name": "stdout",
     "output_type": "stream",
     "text": [
      "epoch: 3, [batch: 539 / 1347], examples_per_second: 3154.8763, train_label_loss: 0.1589, \n"
     ]
    },
    {
     "name": "stdout",
     "output_type": "stream",
     "text": [
      "epoch: 3, [batch: 674 / 1347], examples_per_second: 3167.3706, train_label_loss: 0.0180, \n"
     ]
    },
    {
     "name": "stdout",
     "output_type": "stream",
     "text": [
      "epoch: 3, [batch: 808 / 1347], examples_per_second: 3169.3440, train_label_loss: 0.0935, \n"
     ]
    },
    {
     "name": "stdout",
     "output_type": "stream",
     "text": [
      "epoch: 3, [batch: 943 / 1347], examples_per_second: 3150.5586, train_label_loss: 0.1262, \n"
     ]
    },
    {
     "name": "stdout",
     "output_type": "stream",
     "text": [
      "epoch: 3, [batch: 1077 / 1347], examples_per_second: 3153.2752, train_label_loss: 0.0165, \n"
     ]
    },
    {
     "name": "stdout",
     "output_type": "stream",
     "text": [
      "epoch: 3, [batch: 1212 / 1347], examples_per_second: 3165.7923, train_label_loss: 0.2163, \n"
     ]
    },
    {
     "name": "stdout",
     "output_type": "stream",
     "text": [
      "=============================================================\n",
      "epoch: 3, source_val_acc_label: 0.9577, target_val_acc_label: 0.0994, source_val_label_loss: 0.2106, target_val_label_loss: 2.8396, \n",
      "=============================================================\n"
     ]
    },
    {
     "name": "stdout",
     "output_type": "stream",
     "text": [
      "epoch: 4, [batch: 1 / 1346], examples_per_second: 4.0857, train_label_loss: 0.0158, \n"
     ]
    },
    {
     "name": "stdout",
     "output_type": "stream",
     "text": [
      "epoch: 4, [batch: 135 / 1346], examples_per_second: 3146.5325, train_label_loss: 0.2164, \n"
     ]
    },
    {
     "name": "stdout",
     "output_type": "stream",
     "text": [
      "epoch: 4, [batch: 270 / 1346], examples_per_second: 3169.7918, train_label_loss: 0.0877, \n"
     ]
    },
    {
     "name": "stdout",
     "output_type": "stream",
     "text": [
      "epoch: 4, [batch: 404 / 1346], examples_per_second: 3171.6463, train_label_loss: 0.0084, \n"
     ]
    },
    {
     "name": "stdout",
     "output_type": "stream",
     "text": [
      "epoch: 4, [batch: 539 / 1346], examples_per_second: 3155.5967, train_label_loss: 0.2377, \n"
     ]
    },
    {
     "name": "stdout",
     "output_type": "stream",
     "text": [
      "epoch: 4, [batch: 673 / 1346], examples_per_second: 3170.1496, train_label_loss: 0.0231, \n"
     ]
    },
    {
     "name": "stdout",
     "output_type": "stream",
     "text": [
      "epoch: 4, [batch: 808 / 1346], examples_per_second: 3174.1385, train_label_loss: 0.0206, \n"
     ]
    },
    {
     "name": "stdout",
     "output_type": "stream",
     "text": [
      "epoch: 4, [batch: 942 / 1346], examples_per_second: 3163.4270, train_label_loss: 0.1256, \n"
     ]
    },
    {
     "name": "stdout",
     "output_type": "stream",
     "text": [
      "epoch: 4, [batch: 1077 / 1346], examples_per_second: 3176.7300, train_label_loss: 0.3240, \n"
     ]
    },
    {
     "name": "stdout",
     "output_type": "stream",
     "text": [
      "epoch: 4, [batch: 1211 / 1346], examples_per_second: 3178.6073, train_label_loss: 0.4000, \n"
     ]
    },
    {
     "name": "stdout",
     "output_type": "stream",
     "text": [
      "=============================================================\n",
      "epoch: 4, source_val_acc_label: 0.9562, target_val_acc_label: 0.1018, source_val_label_loss: 0.1907, target_val_label_loss: 2.7871, \n",
      "=============================================================\n"
     ]
    },
    {
     "name": "stdout",
     "output_type": "stream",
     "text": [
      "epoch: 5, [batch: 1 / 1346], examples_per_second: 4.0730, train_label_loss: 0.0601, \n"
     ]
    },
    {
     "name": "stdout",
     "output_type": "stream",
     "text": [
      "epoch: 5, [batch: 135 / 1346], examples_per_second: 3141.9845, train_label_loss: 0.2795, \n"
     ]
    },
    {
     "name": "stdout",
     "output_type": "stream",
     "text": [
      "epoch: 5, [batch: 270 / 1346], examples_per_second: 3170.7117, train_label_loss: 0.0024, \n"
     ]
    },
    {
     "name": "stdout",
     "output_type": "stream",
     "text": [
      "epoch: 5, [batch: 404 / 1346], examples_per_second: 3149.1526, train_label_loss: 0.0924, \n"
     ]
    },
    {
     "name": "stdout",
     "output_type": "stream",
     "text": [
      "epoch: 5, [batch: 539 / 1346], examples_per_second: 3157.8590, train_label_loss: 0.2176, \n"
     ]
    },
    {
     "name": "stdout",
     "output_type": "stream",
     "text": [
      "epoch: 5, [batch: 673 / 1346], examples_per_second: 3181.9324, train_label_loss: 0.2585, \n"
     ]
    },
    {
     "name": "stdout",
     "output_type": "stream",
     "text": [
      "epoch: 5, [batch: 808 / 1346], examples_per_second: 3182.2308, train_label_loss: 0.0191, \n"
     ]
    },
    {
     "name": "stdout",
     "output_type": "stream",
     "text": [
      "epoch: 5, [batch: 942 / 1346], examples_per_second: 3166.5489, train_label_loss: 0.0034, \n"
     ]
    },
    {
     "name": "stdout",
     "output_type": "stream",
     "text": [
      "epoch: 5, [batch: 1077 / 1346], examples_per_second: 3172.9990, train_label_loss: 0.0048, \n"
     ]
    },
    {
     "name": "stdout",
     "output_type": "stream",
     "text": [
      "epoch: 5, [batch: 1211 / 1346], examples_per_second: 3214.5750, train_label_loss: 0.0631, \n"
     ]
    },
    {
     "name": "stdout",
     "output_type": "stream",
     "text": [
      "=============================================================\n",
      "epoch: 5, source_val_acc_label: 0.9629, target_val_acc_label: 0.0953, source_val_label_loss: 0.1863, target_val_label_loss: 2.8509, \n",
      "=============================================================\n"
     ]
    },
    {
     "name": "stdout",
     "output_type": "stream",
     "text": [
      "Patience (3) exhausted\n"
     ]
    }
   ],
   "source": [
    "###################################\n",
    "# train\n",
    "###################################\n",
    "jig = PTN_Train_Eval_Test_Jig(model, p.BEST_MODEL_PATH, p.device)\n",
    "\n",
    "jig.train(\n",
    "    train_iterable=datasets.source.processed.train,\n",
    "    source_val_iterable=datasets.source.processed.val,\n",
    "    target_val_iterable=datasets.target.processed.val,\n",
    "    num_epochs=p.n_epoch,\n",
    "    num_logs_per_epoch=p.NUM_LOGS_PER_EPOCH,\n",
    "    patience=p.patience,\n",
    "    optimizer=optimizer,\n",
    "    criteria_for_best=p.criteria_for_best,\n",
    ")"
   ]
  },
  {
   "cell_type": "code",
   "execution_count": 23,
   "id": "31e8fabf",
   "metadata": {
    "execution": {
     "iopub.execute_input": "2022-03-10T21:02:46.329114Z",
     "iopub.status.busy": "2022-03-10T21:02:46.319655Z",
     "iopub.status.idle": "2022-03-10T21:02:46.338414Z",
     "shell.execute_reply": "2022-03-10T21:02:46.338196Z"
    },
    "papermill": {
     "duration": 0.046644,
     "end_time": "2022-03-10T21:02:46.338464",
     "exception": false,
     "start_time": "2022-03-10T21:02:46.291820",
     "status": "completed"
    },
    "tags": []
   },
   "outputs": [],
   "source": [
    "total_experiment_time_secs = time.time() - start_time_secs"
   ]
  },
  {
   "cell_type": "code",
   "execution_count": 24,
   "id": "87b9595b",
   "metadata": {
    "execution": {
     "iopub.execute_input": "2022-03-10T21:02:46.398170Z",
     "iopub.status.busy": "2022-03-10T21:02:46.392954Z",
     "iopub.status.idle": "2022-03-10T21:06:58.795794Z",
     "shell.execute_reply": "2022-03-10T21:06:58.796205Z"
    },
    "papermill": {
     "duration": 252.433473,
     "end_time": "2022-03-10T21:06:58.796345",
     "exception": false,
     "start_time": "2022-03-10T21:02:46.362872",
     "status": "completed"
    },
    "tags": []
   },
   "outputs": [],
   "source": [
    "###################################\n",
    "# Evaluate the model\n",
    "###################################\n",
    "source_test_label_accuracy, source_test_label_loss = jig.test(datasets.source.processed.test)\n",
    "target_test_label_accuracy, target_test_label_loss = jig.test(datasets.target.processed.test)\n",
    "\n",
    "source_val_label_accuracy, source_val_label_loss = jig.test(datasets.source.processed.val)\n",
    "target_val_label_accuracy, target_val_label_loss = jig.test(datasets.target.processed.val)\n",
    "\n",
    "history = jig.get_history()\n",
    "\n",
    "total_epochs_trained = len(history[\"epoch_indices\"])\n",
    "\n",
    "val_dl = Iterable_Aggregator((datasets.source.original.val,datasets.target.original.val))\n",
    "\n",
    "confusion = ptn_confusion_by_domain_over_dataloader(model, p.device, val_dl)\n",
    "per_domain_accuracy = per_domain_accuracy_from_confusion(confusion)\n",
    "\n",
    "# Add a key to per_domain_accuracy for if it was a source domain\n",
    "for domain, accuracy in per_domain_accuracy.items():\n",
    "    per_domain_accuracy[domain] = {\n",
    "        \"accuracy\": accuracy,\n",
    "        \"source?\": domain in p.domains_source\n",
    "    }\n",
    "\n",
    "# Do an independent accuracy assesment JUST TO BE SURE!\n",
    "# _source_test_label_accuracy = independent_accuracy_assesment(model, datasets.source.processed.test, p.device)\n",
    "# _target_test_label_accuracy = independent_accuracy_assesment(model, datasets.target.processed.test, p.device)\n",
    "# _source_val_label_accuracy = independent_accuracy_assesment(model, datasets.source.processed.val, p.device)\n",
    "# _target_val_label_accuracy = independent_accuracy_assesment(model, datasets.target.processed.val, p.device)\n",
    "\n",
    "# assert(_source_test_label_accuracy == source_test_label_accuracy)\n",
    "# assert(_target_test_label_accuracy == target_test_label_accuracy)\n",
    "# assert(_source_val_label_accuracy == source_val_label_accuracy)\n",
    "# assert(_target_val_label_accuracy == target_val_label_accuracy)\n",
    "\n",
    "experiment = {\n",
    "    \"experiment_name\": p.experiment_name,\n",
    "    \"parameters\": dict(p),\n",
    "    \"results\": {\n",
    "        \"source_test_label_accuracy\": source_test_label_accuracy,\n",
    "        \"source_test_label_loss\": source_test_label_loss,\n",
    "        \"target_test_label_accuracy\": target_test_label_accuracy,\n",
    "        \"target_test_label_loss\": target_test_label_loss,\n",
    "        \"source_val_label_accuracy\": source_val_label_accuracy,\n",
    "        \"source_val_label_loss\": source_val_label_loss,\n",
    "        \"target_val_label_accuracy\": target_val_label_accuracy,\n",
    "        \"target_val_label_loss\": target_val_label_loss,\n",
    "        \"total_epochs_trained\": total_epochs_trained,\n",
    "        \"total_experiment_time_secs\": total_experiment_time_secs,\n",
    "        \"confusion\": confusion,\n",
    "        \"per_domain_accuracy\": per_domain_accuracy,\n",
    "    },\n",
    "    \"history\": history,\n",
    "    \"dataset_metrics\": get_dataset_metrics(datasets, \"ptn\"),\n",
    "}"
   ]
  },
  {
   "cell_type": "code",
   "execution_count": 25,
   "id": "54a21829",
   "metadata": {
    "execution": {
     "iopub.execute_input": "2022-03-10T21:06:58.855224Z",
     "iopub.status.busy": "2022-03-10T21:06:58.853568Z",
     "iopub.status.idle": "2022-03-10T21:06:59.030728Z",
     "shell.execute_reply": "2022-03-10T21:06:59.031143Z"
    },
    "papermill": {
     "duration": 0.204706,
     "end_time": "2022-03-10T21:06:59.031257",
     "exception": false,
     "start_time": "2022-03-10T21:06:58.826551",
     "status": "completed"
    },
    "tags": []
   },
   "outputs": [
    {
     "data": {
      "image/png": "[encoded data removed]",
      "text/plain": [
       "<Figure size 1080x504 with 1 Axes>"
      ]
     },
     "metadata": {
      "needs_background": "light"
     },
     "output_type": "display_data"
    }
   ],
   "source": [
    "ax = get_loss_curve(experiment)\n",
    "plt.show()"
   ]
  },
  {
   "cell_type": "code",
   "execution_count": 26,
   "id": "fd8a0f60",
   "metadata": {
    "execution": {
     "iopub.execute_input": "2022-03-10T21:06:59.088835Z",
     "iopub.status.busy": "2022-03-10T21:06:59.088264Z",
     "iopub.status.idle": "2022-03-10T21:06:59.266437Z",
     "shell.execute_reply": "2022-03-10T21:06:59.266182Z"
    },
    "papermill": {
     "duration": 0.205824,
     "end_time": "2022-03-10T21:06:59.266489",
     "exception": false,
     "start_time": "2022-03-10T21:06:59.060665",
     "status": "completed"
    },
    "tags": []
   },
   "outputs": [
    {
     "data": {
      "text/plain": [
       "<matplotlib.axes._subplots.AxesSubplot at 0x7fbf8f49b220>"
      ]
     },
     "execution_count": 26,
     "metadata": {},
     "output_type": "execute_result"
    },
    {
     "data": {
      "image/png": "[encoded data removed]",
      "text/plain": [
       "<Figure size 1080x504 with 1 Axes>"
      ]
     },
     "metadata": {
      "needs_background": "light"
     },
     "output_type": "display_data"
    }
   ],
   "source": [
    "get_results_table(experiment)"
   ]
  },
  {
   "cell_type": "code",
   "execution_count": 27,
   "id": "cf8dc689",
   "metadata": {
    "execution": {
     "iopub.execute_input": "2022-03-10T21:06:59.326849Z",
     "iopub.status.busy": "2022-03-10T21:06:59.326581Z",
     "iopub.status.idle": "2022-03-10T21:06:59.522986Z",
     "shell.execute_reply": "2022-03-10T21:06:59.523397Z"
    },
    "papermill": {
     "duration": 0.225668,
     "end_time": "2022-03-10T21:06:59.523513",
     "exception": false,
     "start_time": "2022-03-10T21:06:59.297845",
     "status": "completed"
    },
    "tags": []
   },
   "outputs": [
    {
     "data": {
      "text/plain": [
       "<matplotlib.axes._subplots.AxesSubplot at 0x7fbf15419b80>"
      ]
     },
     "execution_count": 27,
     "metadata": {},
     "output_type": "execute_result"
    },
    {
     "data": {
      "image/png": "[encoded data removed]",
      "text/plain": [
       "<Figure size 1080x504 with 1 Axes>"
      ]
     },
     "metadata": {
      "needs_background": "light"
     },
     "output_type": "display_data"
    }
   ],
   "source": [
    "get_domain_accuracies(experiment)"
   ]
  },
  {
   "cell_type": "code",
   "execution_count": 28,
   "id": "a74ae082",
   "metadata": {
    "execution": {
     "iopub.execute_input": "2022-03-10T21:06:59.585379Z",
     "iopub.status.busy": "2022-03-10T21:06:59.585119Z",
     "iopub.status.idle": "2022-03-10T21:06:59.600520Z",
     "shell.execute_reply": "2022-03-10T21:06:59.600164Z"
    },
    "papermill": {
     "duration": 0.045682,
     "end_time": "2022-03-10T21:06:59.600592",
     "exception": false,
     "start_time": "2022-03-10T21:06:59.554910",
     "status": "completed"
    },
    "tags": []
   },
   "outputs": [
    {
     "name": "stdout",
     "output_type": "stream",
     "text": [
      "Source Test Label Accuracy: 0.92822265625 Target Test Label Accuracy: 0.10455078125\n",
      "Source Val Label Accuracy: 0.93505859375 Target Val Label Accuracy: 0.10766927083333333\n"
     ]
    }
   ],
   "source": [
    "print(\"Source Test Label Accuracy:\", experiment[\"results\"][\"source_test_label_accuracy\"], \"Target Test Label Accuracy:\", experiment[\"results\"][\"target_test_label_accuracy\"])\n",
    "print(\"Source Val Label Accuracy:\", experiment[\"results\"][\"source_val_label_accuracy\"], \"Target Val Label Accuracy:\", experiment[\"results\"][\"target_val_label_accuracy\"])"
   ]
  },
  {
   "cell_type": "code",
   "execution_count": 29,
   "id": "dacca602",
   "metadata": {
    "execution": {
     "iopub.execute_input": "2022-03-10T21:06:59.659973Z",
     "iopub.status.busy": "2022-03-10T21:06:59.659726Z",
     "iopub.status.idle": "2022-03-10T21:06:59.674075Z",
     "shell.execute_reply": "2022-03-10T21:06:59.674369Z"
    },
    "papermill": {
     "duration": 0.044229,
     "end_time": "2022-03-10T21:06:59.674451",
     "exception": false,
     "start_time": "2022-03-10T21:06:59.630222",
     "status": "completed"
    },
    "tags": [
     "experiment_json"
    ]
   },
   "outputs": [
    {
     "data": {
      "text/plain": [
       "'{\"experiment_name\": \"tl_1_wisig-oracle.run1\", \"parameters\": {\"experiment_name\": \"tl_1_wisig-oracle.run1\", \"device\": \"cuda\", \"lr\": 0.001, \"seed\": 1337, \"dataset_seed\": 1337, \"n_shot\": 3, \"n_query\": 2, \"train_k_factor\": 3, \"val_k_factor\": 2, \"test_k_factor\": 2, \"torch_default_dtype\": \"torch.float32\", \"n_epoch\": 50, \"patience\": 3, \"criteria_for_best\": \"target_loss\", \"x_net\": [{\"class\": \"nnReshape\", \"kargs\": {\"shape\": [-1, 1, 2, 256]}}, {\"class\": \"Conv2d\", \"kargs\": {\"in_channels\": 1, \"out_channels\": 256, \"kernel_size\": [1, 7], \"bias\": false, \"padding\": [0, 3]}}, {\"class\": \"ReLU\", \"kargs\": {\"inplace\": true}}, {\"class\": \"BatchNorm2d\", \"kargs\": {\"num_features\": 256}}, {\"class\": \"Conv2d\", \"kargs\": {\"in_channels\": 256, \"out_channels\": 80, \"kernel_size\": [2, 7], \"bias\": true, \"padding\": [0, 3]}}, {\"class\": \"ReLU\", \"kargs\": {\"inplace\": true}}, {\"class\": \"BatchNorm2d\", \"kargs\": {\"num_features\": 80}}, {\"class\": \"Flatten\", \"kargs\": {}}, {\"class\": \"Linear\", \"kargs\": {\"in_features\": 20480, \"out_features\": 256}}, {\"class\": \"ReLU\", \"kargs\": {\"inplace\": true}}, {\"class\": \"BatchNorm1d\", \"kargs\": {\"num_features\": 256}}, {\"class\": \"Linear\", \"kargs\": {\"in_features\": 256, \"out_features\": 256}}], \"NUM_LOGS_PER_EPOCH\": 10, \"BEST_MODEL_PATH\": \"./best_model.pth\", \"n_way\": 16, \"datasets\": [{\"labels\": [\"1-10\", \"1-12\", \"1-14\", \"1-16\", \"1-18\", \"1-19\", \"1-8\", \"10-11\", \"10-17\", \"10-4\", \"10-7\", \"11-1\", \"11-10\", \"11-19\", \"11-20\", \"11-4\", \"11-7\", \"12-19\", \"12-20\", \"12-7\", \"13-14\", \"13-18\", \"13-19\", \"13-20\", \"13-3\", \"13-7\", \"14-10\", \"14-11\", \"14-12\", \"14-13\", \"14-14\", \"14-19\", \"14-20\", \"14-7\", \"14-8\", \"14-9\", \"15-1\", \"15-19\", \"15-6\", \"16-1\", \"16-16\", \"16-19\", \"16-20\", \"17-10\", \"17-11\", \"18-1\", \"18-10\", \"18-11\", \"18-12\", \"18-13\", \"18-14\", \"18-15\", \"18-16\", \"18-17\", \"18-19\", \"18-2\", \"18-20\", \"18-4\", \"18-5\", \"18-7\", \"18-8\", \"18-9\", \"19-1\", \"19-10\", \"19-11\", \"19-12\", \"19-13\", \"19-14\", \"19-15\", \"19-19\", \"19-2\", \"19-20\", \"19-3\", \"19-4\", \"19-6\", \"19-7\", \"19-8\", \"19-9\", \"2-1\", \"2-13\", \"2-15\", \"2-3\", \"2-4\", \"2-5\", \"2-6\", \"2-7\", \"2-8\", \"20-1\", \"20-12\", \"20-14\", \"20-15\", \"20-16\", \"20-18\", \"20-19\", \"20-20\", \"20-3\", \"20-4\", \"20-5\", \"20-7\", \"20-8\", \"3-1\", \"3-13\", \"3-18\", \"3-2\", \"3-8\", \"4-1\", \"4-10\", \"4-11\", \"5-1\", \"5-5\", \"6-1\", \"6-15\", \"6-6\", \"7-10\", \"7-11\", \"7-12\", \"7-13\", \"7-14\", \"7-7\", \"7-8\", \"7-9\", \"8-1\", \"8-13\", \"8-14\", \"8-18\", \"8-20\", \"8-3\", \"8-8\", \"9-1\", \"9-7\"], \"domains\": [1, 2, 3, 4], \"num_examples_per_domain_per_label\": 100, \"pickle_path\": \"/mnt/wd500GB/CSC500/csc500-main/datasets/wisig.node3-19.stratified_ds.2022A.pkl\", \"source_or_target_dataset\": \"source\", \"x_transforms\": [\"unit_mag\"], \"episode_transforms\": [], \"domain_prefix\": \"Wisig_\"}, {\"labels\": [\"3123D52\", \"3123D65\", \"3123D79\", \"3123D80\", \"3123D54\", \"3123D70\", \"3123D7B\", \"3123D89\", \"3123D58\", \"3123D76\", \"3123D7D\", \"3123EFE\", \"3123D64\", \"3123D78\", \"3123D7E\", \"3124E4A\"], \"domains\": [32, 38, 8, 44, 14, 50, 20, 26], \"num_examples_per_domain_per_label\": 10000, \"pickle_path\": \"/mnt/wd500GB/CSC500/csc500-main/datasets/oracle.Run1_10kExamples_stratified_ds.2022A.pkl\", \"source_or_target_dataset\": \"target\", \"x_transforms\": [\"unit_mag\"], \"episode_transforms\": [], \"domain_prefix\": \"ORACLE.run1\"}], \"domains_source\": [\"Wisig_1\", \"Wisig_2\", \"Wisig_3\", \"Wisig_4\"], \"domains_target\": [\"ORACLE.run132\", \"ORACLE.run138\", \"ORACLE.run18\", \"ORACLE.run144\", \"ORACLE.run114\", \"ORACLE.run150\", \"ORACLE.run120\", \"ORACLE.run126\"]}, \"results\": {\"source_test_label_accuracy\": 0.92822265625, \"source_test_label_loss\": 0.30536168813705444, \"target_test_label_accuracy\": 0.10455078125, \"target_test_label_loss\": 2.7368831634521484, \"source_val_label_accuracy\": 0.93505859375, \"source_val_label_loss\": 0.27551373839378357, \"target_val_label_accuracy\": 0.10766927083333333, \"target_val_label_loss\": 2.7360541820526123, \"total_epochs_trained\": 5, \"total_experiment_time_secs\": 441.7659275531769, \"confusion\": {\"Wisig_3\": {\"109\": {\"109\": 12}, \"127\": {\"127\": 12}, \"14\": {\"14\": 12}, \"7\": {\"7\": 12}, \"129\": {\"129\": 12}, \"57\": {\"57\": 12}, \"84\": {\"84\": 10, \"0\": 1, \"68\": 1}, \"114\": {\"114\": 12}, \"44\": {\"44\": 11, \"80\": 1}, \"21\": {\"21\": 12}, \"46\": {\"46\": 12}, \"100\": {\"100\": 12}, \"63\": {\"63\": 8, \"100\": 1, \"47\": 1, \"43\": 1, \"60\": 1}, \"24\": {\"24\": 6, \"21\": 1, \"54\": 2, \"36\": 2, \"118\": 1}, \"107\": {\"107\": 12}, \"35\": {\"7\": 1, \"35\": 8, \"95\": 1}, \"81\": {\"81\": 12}, \"64\": {\"64\": 12}, \"59\": {\"59\": 12}, \"33\": {\"33\": 12}, \"34\": {\"34\": 11, \"75\": 1}, \"36\": {\"36\": 11, \"25\": 1}, \"79\": {\"79\": 12}, \"80\": {\"80\": 11, \"122\": 1}, \"77\": {\"77\": 12}, \"22\": {\"22\": 12}, \"124\": {\"124\": 12}, \"2\": {\"2\": 12}, \"87\": {\"87\": 11, \"17\": 1}, \"105\": {\"105\": 12}, \"95\": {\"95\": 12}, \"43\": {\"43\": 11, \"33\": 1}, \"56\": {\"56\": 9, \"86\": 1}, \"18\": {\"18\": 12}, \"85\": {\"85\": 12}, \"113\": {\"126\": 1, \"113\": 11}, \"97\": {\"97\": 11, \"51\": 1}, \"86\": {\"86\": 12}, \"128\": {\"128\": 10, \"21\": 1, \"122\": 1}, \"123\": {\"123\": 12}, \"8\": {\"8\": 12}, \"110\": {\"110\": 12}, \"126\": {\"18\": 1, \"126\": 11}, \"101\": {\"101\": 12}, \"115\": {\"14\": 1, \"115\": 11}, \"49\": {\"49\": 11, \"42\": 1}, \"45\": {\"45\": 12}, \"78\": {\"84\": 1, \"78\": 5, \"82\": 3, \"13\": 1, \"127\": 2}, \"65\": {\"65\": 10}, \"54\": {\"54\": 12}, \"31\": {\"31\": 9, \"110\": 1}, \"42\": {\"49\": 2, \"42\": 8, \"20\": 1, \"82\": 1}, \"68\": {\"68\": 12}, \"15\": {\"15\": 12}, \"69\": {\"69\": 12}, \"17\": {\"102\": 1, \"17\": 8, \"9\": 1}, \"73\": {\"73\": 12}, \"121\": {\"121\": 11, \"126\": 1}, \"102\": {\"102\": 12}, \"48\": {\"48\": 10, \"37\": 2}, \"23\": {\"23\": 5, \"128\": 1, \"70\": 2, \"67\": 2, \"8\": 1, \"59\": 1}, \"108\": {\"108\": 10, \"53\": 1, \"42\": 1}, \"53\": {\"53\": 12}, \"94\": {\"94\": 10}, \"41\": {\"41\": 12}, \"58\": {\"58\": 12}, \"29\": {\"29\": 12}, \"116\": {\"116\": 11, \"78\": 1}, \"60\": {\"60\": 10, \"70\": 1, \"5\": 1}, \"104\": {\"104\": 12}, \"106\": {\"106\": 11, \"30\": 1}, \"66\": {\"66\": 12}, \"47\": {\"47\": 12}, \"40\": {\"40\": 12}, \"82\": {\"82\": 11, \"86\": 1}, \"13\": {\"13\": 5, \"78\": 1, \"122\": 1, \"90\": 1, \"120\": 1, \"65\": 1, \"51\": 1, \"11\": 1}, \"19\": {\"19\": 12}, \"72\": {\"72\": 12}, \"9\": {\"9\": 12}, \"67\": {\"67\": 12}, \"11\": {\"11\": 12}, \"125\": {\"125\": 12}, \"76\": {\"76\": 8}, \"83\": {\"83\": 12}, \"74\": {\"74\": 11, \"24\": 1}, \"20\": {\"20\": 12}, \"119\": {\"119\": 12}, \"1\": {\"1\": 12}, \"16\": {\"16\": 12}, \"25\": {\"25\": 11, \"74\": 1}, \"90\": {\"90\": 8}, \"39\": {\"39\": 11, \"26\": 1}, \"28\": {\"28\": 12}, \"55\": {\"55\": 12}, \"117\": {\"117\": 11, \"63\": 1}, \"112\": {\"112\": 12}, \"38\": {\"38\": 12}, \"37\": {\"37\": 12}, \"120\": {\"120\": 12}, \"122\": {\"122\": 12}, \"50\": {\"50\": 12}, \"10\": {\"10\": 12}, \"5\": {\"5\": 12}, \"51\": {\"51\": 12}, \"3\": {\"3\": 10, \"70\": 1, \"122\": 1}, \"98\": {\"98\": 11, \"21\": 1}, \"70\": {\"70\": 9, \"49\": 1, \"1\": 1, \"110\": 1}, \"96\": {\"96\": 12}, \"12\": {\"12\": 12}, \"99\": {\"99\": 12}, \"52\": {\"52\": 12}, \"71\": {\"71\": 9, \"128\": 1, \"61\": 1, \"3\": 1}, \"89\": {\"89\": 12}, \"0\": {\"0\": 12}, \"4\": {\"4\": 9, \"118\": 1, \"128\": 1, \"101\": 1}, \"93\": {\"93\": 12}, \"6\": {\"6\": 9, \"58\": 1}, \"75\": {\"75\": 12}, \"62\": {\"62\": 12}, \"103\": {\"103\": 12}, \"30\": {\"30\": 12}, \"91\": {\"91\": 8, \"6\": 1, \"98\": 1, \"29\": 1, \"34\": 1}, \"27\": {\"27\": 12}, \"26\": {\"26\": 12}, \"61\": {\"61\": 12}, \"118\": {\"118\": 11, \"109\": 1}, \"92\": {\"92\": 11, \"44\": 1}, \"111\": {\"111\": 12}, \"32\": {\"32\": 12}, \"88\": {\"85\": 1, \"88\": 7, \"73\": 2}}, \"Wisig_4\": {\"28\": {\"28\": 12}, \"4\": {\"4\": 11, \"86\": 1}, \"72\": {\"72\": 12}, \"111\": {\"111\": 12}, \"108\": {\"108\": 9, \"73\": 2, \"129\": 1}, \"43\": {\"43\": 10}, \"96\": {\"96\": 11, \"117\": 1}, \"89\": {\"89\": 12}, \"31\": {\"31\": 12}, \"45\": {\"45\": 12}, \"2\": {\"2\": 11, \"121\": 1}, \"114\": {\"114\": 12}, \"11\": {\"11\": 11, \"108\": 1}, \"12\": {\"12\": 12}, \"14\": {\"14\": 11, \"96\": 1}, \"90\": {\"90\": 12}, \"10\": {\"10\": 11, \"59\": 1}, \"63\": {\"82\": 2, \"63\": 10}, \"85\": {\"85\": 11, \"10\": 1}, \"64\": {\"64\": 12}, \"82\": {\"82\": 10, \"89\": 1, \"70\": 1}, \"58\": {\"58\": 12}, \"3\": {\"3\": 12}, \"54\": {\"54\": 12}, \"121\": {\"121\": 4, \"63\": 1, \"81\": 1, \"60\": 1, \"123\": 1, \"23\": 1, \"2\": 1, \"29\": 1, \"75\": 1}, \"42\": {\"42\": 12}, \"98\": {\"98\": 12}, \"123\": {\"123\": 11, \"113\": 1}, \"91\": {\"91\": 11, \"54\": 1}, \"66\": {\"66\": 12}, \"102\": {\"102\": 12}, \"122\": {\"122\": 11, \"43\": 1}, \"1\": {\"1\": 12}, \"15\": {\"15\": 12}, \"97\": {\"125\": 1, \"97\": 9, \"5\": 1, \"15\": 1}, \"75\": {\"75\": 12}, \"95\": {\"95\": 12}, \"57\": {\"57\": 12}, \"68\": {\"68\": 12}, \"125\": {\"125\": 12}, \"62\": {\"62\": 10}, \"27\": {\"27\": 9, \"21\": 1, \"88\": 1, \"100\": 1}, \"120\": {\"120\": 11, \"103\": 1}, \"26\": {\"26\": 11, \"117\": 1}, \"55\": {\"55\": 12}, \"71\": {\"71\": 11, \"122\": 1}, \"22\": {\"22\": 12}, \"99\": {\"99\": 12}, \"84\": {\"84\": 10, \"103\": 1, \"43\": 1}, \"37\": {\"37\": 12}, \"83\": {\"83\": 12}, \"46\": {\"46\": 12}, \"35\": {\"35\": 12}, \"13\": {\"13\": 12}, \"53\": {\"53\": 10, \"86\": 1, \"21\": 1}, \"127\": {\"127\": 12}, \"69\": {\"0\": 1, \"69\": 10, \"78\": 1}, \"48\": {\"48\": 11, \"88\": 1}, \"16\": {\"16\": 12}, \"0\": {\"0\": 12}, \"8\": {\"8\": 10, \"0\": 1, \"100\": 1}, \"9\": {\"9\": 12}, \"115\": {\"115\": 10, \"8\": 1, \"110\": 1}, \"70\": {\"46\": 1, \"70\": 6, \"78\": 1, \"100\": 1, \"53\": 2, \"88\": 1}, \"119\": {\"119\": 12}, \"59\": {\"59\": 12}, \"52\": {\"52\": 12}, \"60\": {\"60\": 6, \"44\": 1, \"99\": 2, \"19\": 1, \"88\": 2}, \"44\": {\"44\": 11, \"90\": 1}, \"51\": {\"51\": 9, \"68\": 1, \"70\": 1, \"94\": 1}, \"6\": {\"59\": 3, \"6\": 7, \"34\": 1, \"58\": 1}, \"73\": {\"73\": 12}, \"78\": {\"78\": 9, \"33\": 1, \"87\": 1, \"21\": 1}, \"92\": {\"92\": 12}, \"20\": {\"20\": 11, \"23\": 1}, \"17\": {\"17\": 12}, \"74\": {\"74\": 12}, \"19\": {\"19\": 12}, \"50\": {\"50\": 12}, \"34\": {\"34\": 10, \"115\": 1, \"88\": 1}, \"104\": {\"104\": 8}, \"33\": {\"33\": 11, \"43\": 1}, \"5\": {\"5\": 12}, \"7\": {\"7\": 11, \"0\": 1}, \"29\": {\"29\": 12}, \"25\": {\"25\": 12}, \"124\": {\"124\": 12}, \"117\": {\"117\": 10, \"113\": 1, \"41\": 1}, \"88\": {\"88\": 8, \"19\": 1, \"122\": 1, \"14\": 1, \"71\": 1}, \"61\": {\"61\": 10, \"88\": 1, \"92\": 1}, \"86\": {\"86\": 12}, \"116\": {\"116\": 12}, \"24\": {\"36\": 2, \"24\": 10}, \"128\": {\"128\": 8, \"28\": 1, \"78\": 1, \"100\": 2}, \"101\": {\"101\": 12}, \"65\": {\"65\": 9, \"23\": 1}, \"36\": {\"36\": 12}, \"21\": {\"21\": 12}, \"106\": {\"27\": 1, \"106\": 11}, \"118\": {\"118\": 10, \"122\": 1, \"57\": 1}, \"113\": {\"26\": 2, \"113\": 7, \"30\": 2, \"39\": 1}, \"40\": {\"40\": 12}, \"93\": {\"93\": 7, \"23\": 1}, \"94\": {\"94\": 10, \"36\": 2}, \"103\": {\"103\": 8, \"46\": 2, \"2\": 1, \"22\": 1}, \"110\": {\"110\": 12}, \"56\": {\"56\": 12}, \"39\": {\"39\": 12}, \"109\": {\"0\": 1, \"109\": 11}, \"67\": {\"67\": 10, \"76\": 1, \"27\": 1}, \"129\": {\"129\": 12}, \"30\": {\"30\": 12}, \"126\": {\"126\": 8, \"23\": 1, \"65\": 1, \"113\": 1, \"108\": 1}, \"87\": {\"100\": 1, \"87\": 11}, \"112\": {\"112\": 12}, \"100\": {\"100\": 12}, \"79\": {\"79\": 10}, \"81\": {\"81\": 11, \"12\": 1}, \"76\": {\"76\": 10}, \"47\": {\"47\": 11, \"100\": 1}, \"77\": {\"77\": 11, \"103\": 1}, \"23\": {\"103\": 2, \"23\": 6, \"110\": 1, \"41\": 1, \"21\": 2}, \"18\": {\"18\": 12}, \"49\": {\"49\": 11, \"53\": 1}, \"41\": {\"41\": 10, \"30\": 1, \"61\": 1}, \"32\": {\"32\": 11, \"92\": 1}, \"107\": {\"107\": 10}, \"80\": {\"80\": 11, \"23\": 1}, \"105\": {\"105\": 7, \"87\": 2, \"30\": 1}, \"38\": {\"38\": 10}}, \"Wisig_1\": {\"108\": {\"108\": 9, \"70\": 1}, \"40\": {\"40\": 12}, \"68\": {\"68\": 12}, \"23\": {\"3\": 1, \"23\": 9, \"30\": 2}, \"26\": {\"70\": 1, \"26\": 11}, \"64\": {\"64\": 12}, \"22\": {\"22\": 12}, \"3\": {\"3\": 12}, \"4\": {\"4\": 11, \"30\": 1}, \"70\": {\"70\": 12}, \"57\": {\"57\": 12}, \"79\": {\"79\": 12}, \"9\": {\"9\": 12}, \"89\": {\"89\": 12}, \"110\": {\"110\": 12}, \"102\": {\"102\": 12}, \"31\": {\"31\": 12}, \"58\": {\"58\": 12}, \"47\": {\"47\": 12}, \"24\": {\"24\": 9, \"88\": 1, \"97\": 1, \"36\": 1}, \"19\": {\"19\": 12}, \"11\": {\"11\": 12}, \"52\": {\"52\": 12}, \"17\": {\"17\": 12}, \"25\": {\"25\": 12}, \"69\": {\"69\": 12}, \"96\": {\"96\": 12}, \"109\": {\"109\": 11, \"126\": 1}, \"115\": {\"115\": 12}, \"83\": {\"83\": 11, \"102\": 1}, \"84\": {\"84\": 12}, \"119\": {\"119\": 10}, \"122\": {\"122\": 10}, \"99\": {\"99\": 12}, \"1\": {\"1\": 12}, \"74\": {\"74\": 10, \"127\": 1, \"34\": 1}, \"85\": {\"85\": 12}, \"127\": {\"127\": 12}, \"111\": {\"111\": 12}, \"53\": {\"53\": 12}, \"88\": {\"88\": 12}, \"65\": {\"65\": 8, \"60\": 1, \"83\": 1}, \"7\": {\"7\": 12}, \"16\": {\"16\": 11, \"122\": 1}, \"128\": {\"128\": 9, \"20\": 1, \"49\": 1, \"2\": 1}, \"34\": {\"34\": 11, \"71\": 1}, \"129\": {\"73\": 1, \"129\": 10, \"70\": 1}, \"43\": {\"43\": 12}, \"92\": {\"92\": 12}, \"28\": {\"28\": 12}, \"27\": {\"27\": 11, \"24\": 1}, \"114\": {\"114\": 12}, \"73\": {\"73\": 12}, \"0\": {\"0\": 12}, \"104\": {\"104\": 12}, \"118\": {\"118\": 12}, \"41\": {\"41\": 12}, \"49\": {\"49\": 9, \"104\": 1, \"70\": 1, \"72\": 1}, \"14\": {\"14\": 12}, \"46\": {\"23\": 1, \"46\": 8, \"97\": 1, \"12\": 2}, \"33\": {\"33\": 12}, \"76\": {\"76\": 12}, \"125\": {\"125\": 12}, \"86\": {\"86\": 10}, \"66\": {\"66\": 9, \"61\": 2, \"108\": 1}, \"5\": {\"5\": 12}, \"117\": {\"117\": 12}, \"75\": {\"75\": 12}, \"61\": {\"61\": 12}, \"50\": {\"50\": 11, \"30\": 1}, \"67\": {\"67\": 10}, \"18\": {\"18\": 12}, \"98\": {\"98\": 12}, \"55\": {\"55\": 10}, \"32\": {\"32\": 12}, \"120\": {\"120\": 12}, \"97\": {\"97\": 10, \"88\": 1, \"24\": 1}, \"126\": {\"31\": 1, \"126\": 11}, \"45\": {\"104\": 1, \"45\": 6, \"103\": 1, \"20\": 2, \"2\": 1, \"108\": 1}, \"78\": {\"78\": 6, \"43\": 2, \"23\": 1, \"22\": 1}, \"100\": {\"100\": 12}, \"107\": {\"107\": 12}, \"93\": {\"107\": 3, \"93\": 8, \"55\": 1}, \"77\": {\"77\": 12}, \"63\": {\"63\": 12}, \"112\": {\"112\": 12}, \"113\": {\"113\": 12}, \"103\": {\"103\": 10}, \"71\": {\"71\": 11, \"30\": 1}, \"30\": {\"30\": 12}, \"90\": {\"90\": 12}, \"37\": {\"103\": 1, \"37\": 11}, \"60\": {\"60\": 9, \"65\": 1, \"63\": 1, \"35\": 1}, \"15\": {\"15\": 10, \"94\": 1, \"111\": 1}, \"39\": {\"39\": 12}, \"72\": {\"72\": 12}, \"54\": {\"54\": 12}, \"35\": {\"35\": 12}, \"2\": {\"2\": 12}, \"94\": {\"94\": 11, \"67\": 1}, \"42\": {\"42\": 11, \"109\": 1}, \"81\": {\"81\": 12}, \"8\": {\"8\": 12}, \"87\": {\"87\": 12}, \"6\": {\"6\": 12}, \"36\": {\"36\": 12}, \"91\": {\"91\": 7, \"6\": 1, \"51\": 3, \"125\": 1}, \"56\": {\"56\": 12}, \"80\": {\"80\": 11, \"70\": 1}, \"124\": {\"124\": 10}, \"44\": {\"44\": 12}, \"13\": {\"13\": 12}, \"10\": {\"10\": 10, \"23\": 1, \"43\": 1}, \"59\": {\"59\": 12}, \"95\": {\"95\": 12}, \"105\": {\"105\": 11, \"66\": 1}, \"101\": {\"101\": 12}, \"20\": {\"20\": 12}, \"48\": {\"28\": 2, \"48\": 9, \"123\": 1}, \"106\": {\"106\": 12}, \"51\": {\"51\": 11, \"75\": 1}, \"21\": {\"21\": 10, \"84\": 1, \"23\": 1}, \"123\": {\"123\": 12}, \"121\": {\"121\": 12}, \"38\": {\"38\": 12}, \"62\": {\"62\": 12}, \"29\": {\"29\": 12}, \"82\": {\"82\": 12}, \"116\": {\"116\": 12}, \"12\": {\"12\": 8}}, \"Wisig_2\": {\"91\": {\"91\": 8, \"37\": 1, \"106\": 2, \"77\": 1}, \"12\": {\"12\": 10, \"97\": 1, \"67\": 1}, \"101\": {\"101\": 10}, \"121\": {\"117\": 3, \"72\": 1, \"121\": 8}, \"118\": {\"118\": 12}, \"10\": {\"10\": 12}, \"117\": {\"117\": 11, \"121\": 1}, \"110\": {\"110\": 11, \"121\": 1}, \"97\": {\"97\": 9, \"88\": 1, \"15\": 1, \"110\": 1}, \"28\": {\"101\": 1, \"28\": 9, \"22\": 1, \"96\": 1}, \"88\": {\"88\": 8, \"16\": 2, \"47\": 2}, \"17\": {\"17\": 11, \"78\": 1}, \"126\": {\"126\": 10, \"46\": 2}, \"33\": {\"33\": 12}, \"86\": {\"86\": 12}, \"106\": {\"106\": 12}, \"54\": {\"54\": 12}, \"125\": {\"125\": 11, \"9\": 1}, \"83\": {\"83\": 12}, \"98\": {\"98\": 12}, \"11\": {\"11\": 11, \"68\": 1}, \"32\": {\"32\": 10, \"78\": 1, \"56\": 1}, \"42\": {\"42\": 10, \"112\": 1, \"126\": 1}, \"103\": {\"103\": 12}, \"87\": {\"87\": 10, \"84\": 1, \"26\": 1}, \"61\": {\"61\": 11, \"102\": 1}, \"13\": {\"13\": 12}, \"4\": {\"4\": 12}, \"15\": {\"15\": 10}, \"120\": {\"120\": 12}, \"80\": {\"80\": 12}, \"72\": {\"72\": 10}, \"64\": {\"64\": 10, \"79\": 1, \"66\": 1}, \"81\": {\"81\": 12}, \"102\": {\"102\": 12}, \"76\": {\"76\": 12}, \"49\": {\"49\": 7, \"58\": 1, \"11\": 1, \"21\": 1}, \"129\": {\"129\": 12}, \"89\": {\"89\": 12}, \"52\": {\"52\": 12}, \"35\": {\"35\": 12}, \"53\": {\"53\": 11, \"108\": 1}, \"112\": {\"112\": 7, \"44\": 2, \"11\": 1, \"25\": 2}, \"105\": {\"105\": 12}, \"100\": {\"100\": 12}, \"9\": {\"9\": 12}, \"82\": {\"82\": 12}, \"51\": {\"51\": 7, \"34\": 1, \"59\": 2, \"77\": 1, \"121\": 1}, \"21\": {\"21\": 12}, \"92\": {\"92\": 11, \"84\": 1}, \"69\": {\"69\": 12}, \"77\": {\"77\": 10, \"82\": 1, \"51\": 1}, \"50\": {\"50\": 11, \"88\": 1}, \"36\": {\"36\": 12}, \"16\": {\"16\": 10, \"11\": 1, \"0\": 1}, \"8\": {\"18\": 1, \"8\": 10, \"120\": 1}, \"127\": {\"127\": 11, \"111\": 1}, \"46\": {\"46\": 10}, \"84\": {\"84\": 12}, \"18\": {\"18\": 12}, \"123\": {\"123\": 10}, \"56\": {\"56\": 11, \"15\": 1}, \"26\": {\"26\": 12}, \"14\": {\"109\": 1, \"14\": 9, \"43\": 1, \"68\": 1}, \"109\": {\"109\": 12}, \"66\": {\"66\": 12}, \"24\": {\"24\": 11, \"43\": 1}, \"71\": {\"80\": 1, \"71\": 11}, \"65\": {\"65\": 10, \"24\": 1, \"47\": 1}, \"75\": {\"75\": 11, \"67\": 1}, \"111\": {\"111\": 12}, \"30\": {\"30\": 11, \"128\": 1}, \"85\": {\"85\": 12}, \"113\": {\"113\": 9, \"21\": 1}, \"45\": {\"45\": 12}, \"29\": {\"29\": 11, \"21\": 1}, \"20\": {\"20\": 12}, \"25\": {\"25\": 12}, \"0\": {\"0\": 12}, \"68\": {\"68\": 12}, \"119\": {\"119\": 12}, \"90\": {\"90\": 12}, \"38\": {\"38\": 12}, \"99\": {\"99\": 12}, \"1\": {\"1\": 12}, \"67\": {\"67\": 11, \"109\": 1}, \"63\": {\"63\": 12}, \"34\": {\"34\": 11, \"86\": 1}, \"108\": {\"108\": 12}, \"40\": {\"40\": 12}, \"47\": {\"47\": 11, \"51\": 1}, \"37\": {\"37\": 12}, \"78\": {\"78\": 10, \"43\": 1, \"4\": 1}, \"96\": {\"96\": 12}, \"43\": {\"43\": 10, \"21\": 1, \"33\": 1}, \"5\": {\"5\": 10}, \"124\": {\"124\": 12}, \"44\": {\"44\": 12}, \"41\": {\"41\": 11, \"51\": 1}, \"116\": {\"116\": 12}, \"19\": {\"44\": 1, \"116\": 1, \"19\": 9, \"82\": 1}, \"115\": {\"115\": 12}, \"95\": {\"95\": 11, \"70\": 1}, \"3\": {\"3\": 10}, \"59\": {\"59\": 12}, \"55\": {\"55\": 11, \"22\": 1}, \"70\": {\"70\": 11, \"33\": 1}, \"6\": {\"6\": 12}, \"2\": {\"2\": 9, \"93\": 2, \"117\": 1}, \"48\": {\"48\": 12}, \"23\": {\"23\": 9, \"122\": 1, \"107\": 1, \"82\": 1}, \"7\": {\"7\": 12}, \"122\": {\"122\": 11, \"107\": 1}, \"57\": {\"57\": 9, \"23\": 1, \"96\": 1, \"128\": 1}, \"39\": {\"39\": 9, \"53\": 1}, \"79\": {\"79\": 12}, \"27\": {\"27\": 10}, \"74\": {\"74\": 9, \"17\": 1, \"16\": 1, \"51\": 1}, \"73\": {\"73\": 12}, \"62\": {\"62\": 12}, \"107\": {\"107\": 12}, \"128\": {\"128\": 10, \"5\": 1, \"71\": 1}, \"60\": {\"60\": 11, \"83\": 1}, \"114\": {\"114\": 12}, \"22\": {\"22\": 12}, \"93\": {\"93\": 12}, \"94\": {\"94\": 11, \"68\": 1}, \"31\": {\"31\": 10}, \"104\": {\"104\": 12}, \"58\": {\"58\": 12}}, \"ORACLE.run114\": {\"15\": {\"6\": 97, \"3\": 75, \"2\": 93, \"1\": 64, \"4\": 90, \"7\": 118, \"11\": 47, \"12\": 22, \"14\": 98, \"13\": 104, \"15\": 123, \"10\": 62, \"5\": 80, \"0\": 66, \"9\": 20, \"8\": 41}, \"3\": {\"14\": 86, \"12\": 50, \"6\": 75, \"11\": 84, \"8\": 45, \"7\": 68, \"13\": 72, \"15\": 67, \"1\": 85, \"0\": 98, \"2\": 79, \"4\": 77, \"5\": 82, \"3\": 83, \"10\": 76, \"9\": 73}, \"6\": {\"0\": 72, \"1\": 55, \"5\": 75, \"6\": 130, \"11\": 56, \"13\": 124, \"7\": 81, \"10\": 87, \"3\": 70, \"14\": 107, \"4\": 77, \"8\": 27, \"15\": 84, \"2\": 107, \"12\": 18, \"9\": 30}, \"1\": {\"13\": 72, \"9\": 74, \"2\": 75, \"12\": 60, \"7\": 78, \"6\": 58, \"1\": 90, \"4\": 83, \"11\": 99, \"8\": 60, \"3\": 74, \"0\": 85, \"10\": 76, \"14\": 63, \"5\": 76, \"15\": 77}, \"8\": {\"12\": 175, \"10\": 51, \"8\": 177, \"1\": 74, \"0\": 75, \"9\": 166, \"7\": 51, \"11\": 84, \"15\": 28, \"3\": 63, \"2\": 45, \"4\": 66, \"14\": 46, \"13\": 21, \"5\": 47, \"6\": 31}, \"10\": {\"5\": 81, \"13\": 67, \"14\": 80, \"6\": 76, \"9\": 79, \"8\": 56, \"11\": 92, \"0\": 84, \"3\": 91, \"2\": 69, \"15\": 68, \"1\": 69, \"10\": 98, \"7\": 69, \"4\": 75, \"12\": 46}, \"9\": {\"9\": 156, \"12\": 187, \"1\": 66, \"3\": 82, \"6\": 26, \"5\": 49, \"4\": 43, \"14\": 41, \"11\": 111, \"7\": 42, \"2\": 40, \"10\": 84, \"8\": 136, \"13\": 27, \"0\": 76, \"15\": 34}, \"13\": {\"5\": 82, \"11\": 72, \"4\": 81, \"6\": 117, \"13\": 121, \"15\": 103, \"3\": 75, \"14\": 109, \"0\": 55, \"1\": 65, \"7\": 71, \"10\": 73, \"9\": 24, \"8\": 25, \"2\": 112, \"12\": 15}, \"12\": {\"12\": 273, \"11\": 93, \"5\": 43, \"4\": 40, \"0\": 69, \"8\": 173, \"15\": 26, \"9\": 173, \"3\": 53, \"1\": 65, \"14\": 33, \"10\": 52, \"2\": 27, \"13\": 22, \"7\": 36, \"6\": 22}, \"5\": {\"8\": 62, \"10\": 96, \"3\": 72, \"4\": 81, \"2\": 81, \"1\": 92, \"7\": 80, \"14\": 83, \"12\": 36, \"15\": 82, \"0\": 79, \"5\": 92, \"13\": 70, \"11\": 66, \"6\": 80, \"9\": 48}, \"0\": {\"9\": 73, \"6\": 59, \"12\": 75, \"14\": 91, \"15\": 57, \"11\": 96, \"1\": 80, \"3\": 85, \"2\": 83, \"0\": 85, \"13\": 64, \"8\": 62, \"4\": 72, \"10\": 86, \"5\": 74, \"7\": 58}, \"2\": {\"11\": 85, \"5\": 87, \"15\": 81, \"2\": 97, \"6\": 103, \"4\": 75, \"8\": 35, \"14\": 101, \"3\": 84, \"1\": 74, \"7\": 71, \"12\": 28, \"9\": 34, \"13\": 91, \"10\": 80, \"0\": 74}, \"11\": {\"11\": 98, \"4\": 80, \"6\": 83, \"10\": 100, \"12\": 93, \"0\": 72, \"3\": 75, \"13\": 53, \"7\": 53, \"5\": 72, \"9\": 89, \"1\": 67, \"8\": 82, \"15\": 48, \"14\": 66, \"2\": 69}, \"14\": {\"5\": 80, \"12\": 28, \"7\": 75, \"2\": 113, \"6\": 94, \"10\": 79, \"1\": 59, \"14\": 103, \"13\": 134, \"4\": 90, \"15\": 74, \"8\": 31, \"0\": 63, \"3\": 90, \"11\": 58, \"9\": 29}, \"7\": {\"13\": 84, \"0\": 86, \"1\": 83, \"2\": 74, \"5\": 84, \"15\": 92, \"6\": 80, \"11\": 64, \"8\": 52, \"12\": 30, \"9\": 43, \"4\": 92, \"14\": 67, \"3\": 98, \"7\": 102, \"10\": 69}, \"4\": {\"4\": 98, \"2\": 81, \"14\": 76, \"13\": 71, \"7\": 81, \"10\": 81, \"8\": 55, \"11\": 65, \"3\": 92, \"0\": 73, \"5\": 73, \"6\": 84, \"15\": 94, \"9\": 57, \"1\": 78, \"12\": 41}}, \"ORACLE.run120\": {\"3\": {\"12\": 76, \"14\": 90, \"5\": 71, \"6\": 81, \"9\": 79, \"1\": 75, \"7\": 93, \"10\": 67, \"13\": 78, \"8\": 68, \"4\": 56, \"3\": 77, \"15\": 78, \"11\": 71, \"2\": 67, \"0\": 73}, \"15\": {\"4\": 55, \"14\": 55, \"13\": 90, \"12\": 72, \"2\": 98, \"1\": 92, \"15\": 93, \"3\": 73, \"8\": 57, \"9\": 87, \"5\": 80, \"10\": 60, \"7\": 73, \"6\": 62, \"0\": 93, \"11\": 60}, \"8\": {\"11\": 68, \"8\": 92, \"1\": 75, \"5\": 51, \"13\": 63, \"3\": 80, \"14\": 91, \"4\": 84, \"10\": 96, \"12\": 76, \"7\": 76, \"2\": 73, \"9\": 54, \"0\": 64, \"15\": 69, \"6\": 88}, \"4\": {\"6\": 97, \"3\": 72, \"12\": 78, \"9\": 58, \"1\": 62, \"13\": 58, \"10\": 93, \"14\": 77, \"4\": 104, \"8\": 90, \"11\": 58, \"0\": 79, \"5\": 81, \"15\": 61, \"7\": 68, \"2\": 64}, \"14\": {\"8\": 94, \"2\": 72, \"5\": 61, \"0\": 48, \"14\": 121, \"10\": 109, \"9\": 53, \"6\": 101, \"13\": 59, \"7\": 77, \"11\": 52, \"12\": 63, \"3\": 76, \"1\": 67, \"4\": 94, \"15\": 53}, \"0\": {\"11\": 65, \"15\": 72, \"5\": 79, \"10\": 76, \"14\": 71, \"9\": 76, \"12\": 64, \"6\": 55, \"13\": 81, \"7\": 74, \"0\": 100, \"2\": 91, \"3\": 76, \"8\": 72, \"4\": 65, \"1\": 83}, \"7\": {\"5\": 61, \"10\": 78, \"12\": 74, \"14\": 68, \"2\": 85, \"11\": 87, \"7\": 72, \"4\": 67, \"6\": 82, \"0\": 67, \"9\": 68, \"15\": 78, \"1\": 85, \"13\": 68, \"3\": 79, \"8\": 81}, \"6\": {\"8\": 84, \"9\": 74, \"1\": 62, \"15\": 59, \"10\": 100, \"13\": 48, \"6\": 98, \"14\": 109, \"12\": 62, \"7\": 82, \"5\": 61, \"2\": 71, \"4\": 89, \"0\": 47, \"11\": 71, \"3\": 83}, \"10\": {\"1\": 65, \"14\": 106, \"11\": 52, \"10\": 100, \"15\": 61, \"12\": 68, \"9\": 63, \"2\": 70, \"8\": 115, \"4\": 76, \"6\": 113, \"13\": 50, \"3\": 76, \"0\": 58, \"7\": 70, \"5\": 57}, \"5\": {\"6\": 57, \"1\": 74, \"2\": 94, \"15\": 82, \"10\": 73, \"11\": 61, \"8\": 64, \"4\": 60, \"13\": 76, \"9\": 95, \"5\": 79, \"14\": 70, \"0\": 79, \"3\": 68, \"7\": 85, \"12\": 83}, \"2\": {\"7\": 70, \"3\": 91, \"14\": 71, \"1\": 78, \"12\": 84, \"9\": 66, \"11\": 95, \"2\": 72, \"10\": 73, \"4\": 65, \"8\": 79, \"6\": 51, \"15\": 78, \"5\": 72, \"13\": 74, \"0\": 81}, \"12\": {\"15\": 85, \"10\": 80, \"4\": 74, \"1\": 90, \"0\": 75, \"11\": 78, \"9\": 72, \"12\": 86, \"5\": 68, \"14\": 55, \"2\": 90, \"8\": 60, \"6\": 70, \"13\": 77, \"7\": 62, \"3\": 78}, \"9\": {\"15\": 73, \"10\": 73, \"0\": 83, \"2\": 71, \"3\": 75, \"11\": 74, \"6\": 65, \"8\": 91, \"7\": 64, \"12\": 71, \"4\": 56, \"1\": 80, \"9\": 79, \"14\": 80, \"13\": 98, \"5\": 67}, \"1\": {\"15\": 94, \"6\": 51, \"10\": 67, \"8\": 57, \"5\": 81, \"9\": 75, \"11\": 93, \"0\": 98, \"14\": 62, \"12\": 89, \"4\": 65, \"13\": 83, \"7\": 48, \"3\": 72, \"1\": 87, \"2\": 78}, \"11\": {\"15\": 75, \"13\": 80, \"8\": 62, \"3\": 86, \"6\": 69, \"9\": 64, \"2\": 79, \"4\": 69, \"7\": 67, \"5\": 62, \"10\": 63, \"12\": 79, \"1\": 78, \"11\": 108, \"14\": 65, \"0\": 94}, \"13\": {\"4\": 48, \"5\": 86, \"1\": 82, \"13\": 98, \"2\": 92, \"6\": 53, \"14\": 45, \"7\": 86, \"11\": 77, \"9\": 86, \"3\": 66, \"15\": 112, \"8\": 53, \"12\": 77, \"0\": 89, \"10\": 50}}, \"ORACLE.run138\": {\"5\": {\"5\": 96, \"15\": 75, \"0\": 84, \"11\": 42, \"8\": 94, \"1\": 94, \"9\": 78, \"14\": 56, \"2\": 81, \"7\": 83, \"10\": 96, \"3\": 73, \"6\": 82, \"13\": 82, \"12\": 49, \"4\": 35}, \"8\": {\"6\": 71, \"9\": 80, \"15\": 80, \"3\": 78, \"10\": 89, \"2\": 56, \"8\": 98, \"1\": 63, \"5\": 103, \"7\": 92, \"12\": 64, \"0\": 86, \"14\": 76, \"4\": 39, \"13\": 79, \"11\": 46}, \"11\": {\"12\": 99, \"5\": 56, \"8\": 62, \"13\": 76, \"14\": 157, \"11\": 164, \"10\": 104, \"1\": 48, \"6\": 40, \"4\": 66, \"15\": 78, \"0\": 59, \"2\": 86, \"7\": 72, \"3\": 9, \"9\": 24}, \"1\": {\"10\": 56, \"13\": 133, \"1\": 127, \"15\": 118, \"3\": 46, \"8\": 70, \"2\": 129, \"5\": 98, \"11\": 49, \"9\": 92, \"6\": 99, \"7\": 41, \"0\": 54, \"12\": 19, \"14\": 62, \"4\": 7}, \"10\": {\"10\": 94, \"6\": 70, \"12\": 96, \"2\": 83, \"0\": 72, \"4\": 49, \"14\": 108, \"9\": 56, \"13\": 60, \"7\": 84, \"3\": 61, \"1\": 51, \"11\": 80, \"5\": 61, \"15\": 82, \"8\": 93}, \"15\": {\"13\": 112, \"2\": 112, \"8\": 91, \"0\": 71, \"7\": 61, \"10\": 70, \"5\": 90, \"15\": 94, \"14\": 78, \"9\": 73, \"3\": 44, \"1\": 113, \"12\": 27, \"6\": 96, \"11\": 47, \"4\": 21}, \"3\": {\"6\": 95, \"9\": 120, \"8\": 72, \"2\": 40, \"7\": 102, \"15\": 62, \"10\": 54, \"0\": 112, \"12\": 49, \"5\": 103, \"13\": 62, \"3\": 175, \"4\": 40, \"14\": 38, \"11\": 29, \"1\": 47}, \"7\": {\"10\": 73, \"3\": 91, \"5\": 77, \"14\": 67, \"8\": 103, \"12\": 115, \"15\": 55, \"6\": 76, \"7\": 105, \"9\": 64, \"13\": 50, \"0\": 104, \"11\": 66, \"2\": 49, \"4\": 69, \"1\": 36}, \"4\": {\"11\": 97, \"9\": 19, \"3\": 37, \"12\": 272, \"14\": 73, \"5\": 33, \"4\": 351, \"7\": 87, \"13\": 14, \"0\": 50, \"6\": 9, \"10\": 57, \"1\": 9, \"15\": 21, \"8\": 47, \"2\": 24}, \"14\": {\"11\": 163, \"15\": 79, \"12\": 76, \"8\": 75, \"2\": 91, \"7\": 78, \"13\": 84, \"4\": 36, \"14\": 148, \"3\": 24, \"0\": 57, \"9\": 39, \"1\": 48, \"5\": 62, \"10\": 99, \"6\": 41}, \"9\": {\"5\": 101, \"2\": 63, \"10\": 65, \"15\": 80, \"6\": 122, \"11\": 37, \"3\": 109, \"9\": 115, \"1\": 93, \"8\": 83, \"7\": 76, \"0\": 80, \"13\": 95, \"12\": 22, \"4\": 16, \"14\": 43}, \"12\": {\"12\": 208, \"2\": 31, \"6\": 22, \"8\": 67, \"0\": 69, \"4\": 226, \"11\": 93, \"14\": 90, \"5\": 50, \"3\": 38, \"1\": 14, \"10\": 101, \"7\": 107, \"13\": 31, \"15\": 38, \"9\": 15}, \"6\": {\"5\": 97, \"2\": 69, \"0\": 83, \"6\": 113, \"7\": 64, \"10\": 67, \"13\": 92, \"9\": 104, \"14\": 53, \"3\": 82, \"15\": 86, \"8\": 102, \"4\": 15, \"1\": 101, \"11\": 48, \"12\": 24}, \"2\": {\"5\": 61, \"2\": 160, \"10\": 79, \"6\": 82, \"14\": 84, \"7\": 35, \"1\": 118, \"9\": 53, \"0\": 51, \"15\": 122, \"11\": 100, \"3\": 30, \"4\": 15, \"8\": 61, \"13\": 132, \"12\": 17}, \"0\": {\"6\": 98, \"3\": 85, \"7\": 93, \"9\": 88, \"10\": 94, \"4\": 65, \"12\": 70, \"11\": 59, \"5\": 95, \"1\": 41, \"15\": 60, \"8\": 80, \"14\": 66, \"0\": 98, \"2\": 41, \"13\": 67}, \"13\": {\"8\": 66, \"15\": 127, \"13\": 115, \"5\": 76, \"0\": 63, \"2\": 102, \"7\": 56, \"14\": 85, \"6\": 91, \"3\": 53, \"10\": 69, \"11\": 69, \"9\": 72, \"4\": 16, \"1\": 108, \"12\": 32}}, \"ORACLE.run18\": {\"9\": {\"9\": 550, \"1\": 32, \"10\": 105, \"13\": 80, \"5\": 75, \"2\": 23, \"14\": 62, \"8\": 17, \"6\": 38, \"4\": 64, \"7\": 37, \"11\": 35, \"15\": 9, \"3\": 12, \"0\": 57, \"12\": 4}, \"10\": {\"13\": 90, \"9\": 58, \"3\": 60, \"4\": 87, \"1\": 67, \"14\": 101, \"7\": 68, \"8\": 80, \"11\": 87, \"12\": 64, \"2\": 59, \"6\": 67, \"10\": 82, \"15\": 43, \"0\": 89, \"5\": 98}, \"13\": {\"7\": 86, \"2\": 59, \"4\": 77, \"9\": 57, \"0\": 88, \"10\": 100, \"6\": 67, \"15\": 54, \"11\": 87, \"12\": 53, \"3\": 60, \"14\": 84, \"13\": 79, \"5\": 94, \"8\": 74, \"1\": 81}, \"0\": {\"1\": 74, \"5\": 99, \"6\": 52, \"11\": 93, \"7\": 96, \"13\": 89, \"2\": 60, \"3\": 57, \"4\": 76, \"14\": 77, \"10\": 99, \"8\": 58, \"0\": 83, \"15\": 60, \"9\": 55, \"12\": 72}, \"1\": {\"13\": 73, \"0\": 72, \"4\": 72, \"14\": 78, \"15\": 93, \"6\": 73, \"1\": 87, \"3\": 69, \"12\": 98, \"11\": 97, \"7\": 75, \"10\": 87, \"2\": 50, \"5\": 71, \"8\": 77, \"9\": 28}, \"15\": {\"3\": 96, \"7\": 91, \"4\": 83, \"11\": 102, \"0\": 68, \"12\": 104, \"5\": 59, \"2\": 75, \"1\": 81, \"8\": 90, \"13\": 68, \"6\": 63, \"15\": 92, \"14\": 66, \"10\": 54, \"9\": 8}, \"5\": {\"7\": 81, \"2\": 78, \"12\": 55, \"13\": 85, \"10\": 81, \"1\": 74, \"11\": 84, \"8\": 63, \"6\": 69, \"15\": 53, \"3\": 56, \"9\": 66, \"0\": 83, \"5\": 105, \"14\": 94, \"4\": 73}, \"3\": {\"4\": 76, \"14\": 58, \"13\": 65, \"12\": 94, \"0\": 55, \"5\": 55, \"10\": 66, \"6\": 82, \"1\": 91, \"2\": 90, \"8\": 89, \"15\": 106, \"7\": 92, \"3\": 106, \"11\": 62, \"9\": 13}, \"6\": {\"3\": 73, \"5\": 75, \"4\": 58, \"7\": 84, \"12\": 81, \"2\": 85, \"13\": 69, \"14\": 81, \"9\": 37, \"11\": 79, \"8\": 90, \"15\": 71, \"10\": 83, \"6\": 75, \"1\": 92, \"0\": 67}, \"11\": {\"11\": 87, \"1\": 83, \"3\": 72, \"5\": 77, \"14\": 68, \"4\": 87, \"12\": 88, \"2\": 73, \"7\": 78, \"6\": 71, \"15\": 84, \"8\": 99, \"10\": 69, \"13\": 67, \"0\": 74, \"9\": 23}, \"8\": {\"7\": 88, \"4\": 80, \"5\": 56, \"8\": 89, \"13\": 49, \"0\": 58, \"6\": 78, \"14\": 63, \"15\": 107, \"11\": 111, \"12\": 104, \"1\": 72, \"10\": 81, \"2\": 65, \"3\": 88, \"9\": 11}, \"4\": {\"14\": 74, \"2\": 76, \"15\": 65, \"0\": 103, \"9\": 54, \"1\": 64, \"5\": 85, \"3\": 86, \"13\": 77, \"4\": 81, \"7\": 84, \"10\": 87, \"12\": 61, \"11\": 75, \"6\": 67, \"8\": 61}, \"12\": {\"12\": 100, \"11\": 93, \"6\": 75, \"8\": 111, \"4\": 63, \"7\": 73, \"1\": 81, \"3\": 113, \"13\": 52, \"14\": 68, \"0\": 52, \"15\": 116, \"2\": 94, \"10\": 60, \"5\": 46, \"9\": 3}, \"14\": {\"2\": 63, \"3\": 67, \"13\": 84, \"10\": 94, \"1\": 66, \"7\": 68, \"0\": 87, \"9\": 54, \"12\": 54, \"5\": 75, \"14\": 88, \"11\": 105, \"6\": 82, \"15\": 61, \"4\": 85, \"8\": 67}, \"2\": {\"14\": 66, \"4\": 64, \"12\": 79, \"1\": 69, \"7\": 80, \"3\": 107, \"11\": 87, \"13\": 72, \"6\": 61, \"5\": 69, \"0\": 69, \"15\": 81, \"2\": 97, \"10\": 100, \"8\": 80, \"9\": 19}, \"7\": {\"11\": 75, \"7\": 84, \"5\": 75, \"1\": 76, \"15\": 70, \"4\": 86, \"3\": 69, \"10\": 92, \"2\": 78, \"13\": 77, \"6\": 73, \"12\": 85, \"0\": 76, \"8\": 78, \"14\": 78, \"9\": 28}}, \"ORACLE.run150\": {\"7\": {\"6\": 96, \"9\": 69, \"7\": 105, \"14\": 58, \"8\": 66, \"10\": 73, \"3\": 56, \"2\": 53, \"5\": 89, \"15\": 79, \"13\": 106, \"4\": 89, \"12\": 52, \"0\": 63, \"1\": 76, \"11\": 70}, \"3\": {\"2\": 102, \"8\": 201, \"14\": 46, \"3\": 213, \"7\": 68, \"12\": 24, \"0\": 109, \"15\": 24, \"4\": 37, \"10\": 132, \"5\": 54, \"1\": 37, \"6\": 43, \"11\": 29, \"13\": 60, \"9\": 21}, \"8\": {\"7\": 60, \"2\": 143, \"13\": 66, \"8\": 176, \"5\": 59, \"1\": 33, \"0\": 124, \"12\": 32, \"3\": 170, \"11\": 25, \"10\": 128, \"14\": 60, \"4\": 40, \"6\": 40, \"9\": 11, \"15\": 33}, \"2\": {\"10\": 105, \"15\": 34, \"14\": 83, \"5\": 55, \"0\": 126, \"8\": 152, \"2\": 157, \"4\": 28, \"3\": 121, \"7\": 57, \"12\": 75, \"11\": 40, \"6\": 43, \"1\": 42, \"13\": 51, \"9\": 31}, \"14\": {\"11\": 88, \"3\": 53, \"7\": 77, \"2\": 69, \"9\": 84, \"13\": 93, \"14\": 99, \"10\": 70, \"8\": 63, \"6\": 80, \"1\": 66, \"12\": 93, \"4\": 64, \"0\": 74, \"5\": 60, \"15\": 67}, \"4\": {\"0\": 51, \"3\": 36, \"9\": 85, \"7\": 100, \"4\": 106, \"13\": 111, \"11\": 87, \"12\": 65, \"2\": 36, \"6\": 101, \"5\": 107, \"1\": 92, \"15\": 109, \"10\": 38, \"8\": 29, \"14\": 47}, \"6\": {\"11\": 87, \"7\": 89, \"1\": 84, \"13\": 73, \"9\": 86, \"6\": 102, \"2\": 49, \"14\": 79, \"0\": 63, \"4\": 102, \"5\": 96, \"3\": 48, \"8\": 45, \"12\": 57, \"15\": 85, \"10\": 55}, \"15\": {\"2\": 28, \"5\": 89, \"1\": 102, \"11\": 105, \"15\": 130, \"4\": 94, \"7\": 92, \"12\": 62, \"9\": 98, \"13\": 89, \"0\": 43, \"14\": 72, \"6\": 112, \"3\": 25, \"8\": 18, \"10\": 41}, \"10\": {\"8\": 108, \"12\": 55, \"14\": 63, \"10\": 112, \"1\": 67, \"6\": 67, \"13\": 77, \"3\": 100, \"15\": 43, \"11\": 38, \"5\": 74, \"7\": 66, \"9\": 41, \"2\": 111, \"0\": 132, \"4\": 46}, \"11\": {\"7\": 77, \"11\": 117, \"5\": 87, \"9\": 131, \"6\": 79, \"4\": 94, \"10\": 38, \"13\": 80, \"15\": 113, \"14\": 57, \"2\": 39, \"1\": 103, \"12\": 96, \"3\": 17, \"8\": 26, \"0\": 46}, \"13\": {\"9\": 59, \"0\": 61, \"14\": 63, \"2\": 64, \"11\": 81, \"3\": 52, \"15\": 89, \"10\": 76, \"7\": 83, \"4\": 79, \"13\": 109, \"5\": 93, \"8\": 44, \"12\": 51, \"1\": 102, \"6\": 94}, \"9\": {\"12\": 87, \"13\": 69, \"7\": 69, \"1\": 91, \"2\": 29, \"14\": 93, \"5\": 83, \"6\": 86, \"15\": 129, \"4\": 107, \"10\": 41, \"11\": 126, \"3\": 26, \"0\": 35, \"9\": 114, \"8\": 15}, \"0\": {\"4\": 47, \"8\": 143, \"12\": 49, \"3\": 134, \"10\": 94, \"2\": 124, \"0\": 139, \"13\": 67, \"6\": 54, \"15\": 32, \"14\": 74, \"5\": 53, \"1\": 37, \"7\": 81, \"11\": 38, \"9\": 34}, \"1\": {\"9\": 82, \"13\": 84, \"5\": 85, \"4\": 102, \"6\": 104, \"10\": 47, \"15\": 94, \"7\": 93, \"11\": 88, \"1\": 117, \"14\": 58, \"8\": 42, \"3\": 43, \"2\": 49, \"0\": 48, \"12\": 64}, \"12\": {\"5\": 69, \"4\": 67, \"11\": 85, \"15\": 76, \"9\": 86, \"2\": 79, \"13\": 83, \"3\": 39, \"12\": 116, \"10\": 50, \"1\": 69, \"6\": 68, \"14\": 117, \"0\": 82, \"8\": 48, \"7\": 66}, \"5\": {\"7\": 91, \"12\": 49, \"5\": 106, \"10\": 67, \"14\": 68, \"3\": 51, \"8\": 44, \"1\": 84, \"15\": 99, \"13\": 91, \"6\": 103, \"11\": 86, \"4\": 88, \"9\": 77, \"0\": 51, \"2\": 45}}, \"ORACLE.run132\": {\"8\": {\"13\": 119, \"4\": 109, \"7\": 92, \"0\": 108, \"3\": 104, \"5\": 113, \"10\": 9, \"15\": 96, \"2\": 76, \"9\": 45, \"8\": 118, \"11\": 89, \"14\": 82, \"12\": 28, \"1\": 8, \"6\": 4}, \"14\": {\"10\": 16, \"8\": 96, \"12\": 32, \"2\": 98, \"7\": 127, \"14\": 124, \"5\": 103, \"0\": 100, \"3\": 86, \"9\": 63, \"13\": 86, \"11\": 110, \"4\": 101, \"15\": 41, \"1\": 12, \"6\": 5}, \"2\": {\"5\": 88, \"0\": 109, \"11\": 93, \"7\": 112, \"13\": 72, \"8\": 74, \"4\": 132, \"14\": 104, \"2\": 112, \"12\": 63, \"1\": 12, \"6\": 20, \"3\": 62, \"9\": 79, \"10\": 41, \"15\": 27}, \"0\": {\"10\": 24, \"9\": 73, \"0\": 105, \"11\": 115, \"13\": 108, \"7\": 112, \"15\": 40, \"3\": 91, \"12\": 53, \"5\": 89, \"14\": 100, \"2\": 87, \"6\": 12, \"4\": 85, \"8\": 97, \"1\": 9}, \"1\": {\"1\": 326, \"12\": 133, \"6\": 316, \"9\": 88, \"10\": 251, \"11\": 4, \"4\": 7, \"13\": 6, \"14\": 11, \"15\": 2, \"0\": 9, \"2\": 23, \"5\": 8, \"3\": 7, \"8\": 4, \"7\": 5}, \"10\": {\"10\": 279, \"1\": 252, \"11\": 12, \"12\": 232, \"2\": 24, \"6\": 161, \"9\": 114, \"4\": 20, \"5\": 13, \"0\": 31, \"7\": 8, \"8\": 14, \"14\": 10, \"15\": 4, \"13\": 20, \"3\": 6}, \"11\": {\"4\": 108, \"11\": 114, \"2\": 105, \"14\": 126, \"13\": 94, \"8\": 107, \"7\": 104, \"3\": 73, \"9\": 66, \"0\": 114, \"5\": 95, \"12\": 36, \"15\": 41, \"1\": 7, \"10\": 6, \"6\": 4}, \"5\": {\"10\": 18, \"4\": 109, \"5\": 86, \"13\": 109, \"2\": 90, \"8\": 116, \"14\": 115, \"12\": 32, \"7\": 123, \"0\": 95, \"11\": 93, \"3\": 85, \"15\": 58, \"9\": 61, \"6\": 6, \"1\": 4}, \"15\": {\"15\": 314, \"10\": 14, \"2\": 38, \"3\": 180, \"11\": 69, \"7\": 49, \"8\": 128, \"13\": 105, \"0\": 59, \"14\": 50, \"4\": 67, \"9\": 15, \"5\": 97, \"12\": 13, \"1\": 1, \"6\": 1}, \"3\": {\"5\": 104, \"4\": 104, \"0\": 79, \"14\": 77, \"13\": 96, \"3\": 158, \"11\": 101, \"7\": 80, \"2\": 57, \"8\": 144, \"15\": 135, \"12\": 29, \"9\": 25, \"10\": 9, \"1\": 1, \"6\": 1}, \"12\": {\"10\": 179, \"9\": 162, \"12\": 216, \"4\": 56, \"2\": 74, \"8\": 28, \"13\": 37, \"3\": 21, \"5\": 38, \"11\": 35, \"1\": 105, \"6\": 102, \"14\": 37, \"0\": 49, \"7\": 48, \"15\": 13}, \"7\": {\"14\": 95, \"7\": 107, \"12\": 57, \"11\": 106, \"8\": 111, \"5\": 91, \"4\": 97, \"13\": 82, \"2\": 109, \"15\": 50, \"0\": 97, \"6\": 13, \"3\": 92, \"9\": 68, \"10\": 20, \"1\": 5}, \"13\": {\"9\": 58, \"7\": 79, \"12\": 44, \"11\": 104, \"15\": 80, \"3\": 115, \"8\": 111, \"14\": 82, \"5\": 107, \"13\": 120, \"0\": 94, \"1\": 3, \"10\": 20, \"4\": 104, \"2\": 74, \"6\": 5}, \"6\": {\"10\": 184, \"12\": 121, \"4\": 13, \"6\": 394, \"1\": 312, \"9\": 94, \"11\": 4, \"7\": 11, \"13\": 7, \"2\": 25, \"5\": 7, \"0\": 15, \"8\": 3, \"15\": 3, \"14\": 6, \"3\": 1}, \"4\": {\"9\": 68, \"14\": 96, \"11\": 108, \"2\": 81, \"0\": 105, \"12\": 52, \"4\": 109, \"6\": 10, \"7\": 100, \"5\": 109, \"3\": 68, \"13\": 110, \"8\": 102, \"15\": 55, \"10\": 19, \"1\": 8}, \"9\": {\"2\": 106, \"3\": 27, \"9\": 149, \"12\": 173, \"13\": 54, \"0\": 76, \"6\": 81, \"1\": 55, \"10\": 116, \"14\": 66, \"4\": 78, \"7\": 60, \"11\": 59, \"5\": 43, \"8\": 44, \"15\": 13}}, \"ORACLE.run126\": {\"4\": {\"15\": 69, \"4\": 97, \"6\": 66, \"7\": 85, \"11\": 28, \"2\": 73, \"13\": 70, \"9\": 87, \"1\": 97, \"8\": 61, \"10\": 93, \"14\": 101, \"3\": 67, \"5\": 72, \"0\": 88, \"12\": 46}, \"12\": {\"4\": 56, \"6\": 85, \"1\": 50, \"13\": 103, \"11\": 114, \"9\": 72, \"0\": 65, \"7\": 59, \"14\": 54, \"10\": 76, \"5\": 89, \"15\": 84, \"8\": 72, \"12\": 103, \"3\": 53, \"2\": 65}, \"10\": {\"3\": 70, \"6\": 71, \"10\": 98, \"9\": 72, \"12\": 72, \"7\": 85, \"14\": 100, \"4\": 68, \"15\": 76, \"8\": 84, \"11\": 30, \"1\": 105, \"2\": 75, \"5\": 62, \"13\": 58, \"0\": 74}, \"0\": {\"4\": 98, \"3\": 93, \"9\": 65, \"6\": 84, \"0\": 97, \"12\": 56, \"5\": 59, \"10\": 79, \"11\": 31, \"1\": 105, \"7\": 81, \"13\": 49, \"14\": 91, \"8\": 78, \"2\": 65, \"15\": 69}, \"13\": {\"6\": 80, \"2\": 69, \"11\": 119, \"0\": 68, \"10\": 64, \"15\": 82, \"8\": 60, \"12\": 100, \"14\": 52, \"13\": 101, \"9\": 79, \"5\": 104, \"1\": 56, \"7\": 64, \"3\": 65, \"4\": 37}, \"9\": {\"15\": 71, \"3\": 72, \"5\": 100, \"4\": 80, \"12\": 72, \"6\": 78, \"10\": 63, \"11\": 54, \"0\": 79, \"7\": 87, \"9\": 89, \"8\": 74, \"13\": 80, \"2\": 75, \"14\": 55, \"1\": 71}, \"3\": {\"13\": 59, \"5\": 74, \"3\": 68, \"9\": 80, \"7\": 81, \"12\": 66, \"4\": 71, \"10\": 82, \"15\": 77, \"2\": 99, \"1\": 74, \"0\": 87, \"14\": 90, \"6\": 71, \"11\": 32, \"8\": 89}, \"2\": {\"4\": 87, \"5\": 73, \"1\": 80, \"2\": 99, \"3\": 99, \"10\": 62, \"15\": 83, \"14\": 73, \"8\": 77, \"7\": 71, \"11\": 35, \"0\": 71, \"13\": 66, \"12\": 69, \"9\": 82, \"6\": 73}, \"5\": {\"13\": 94, \"5\": 93, \"14\": 69, \"8\": 75, \"10\": 66, \"9\": 93, \"6\": 76, \"7\": 69, \"0\": 68, \"1\": 57, \"4\": 42, \"3\": 81, \"15\": 77, \"12\": 79, \"2\": 78, \"11\": 83}, \"14\": {\"10\": 86, \"5\": 47, \"4\": 97, \"1\": 90, \"3\": 90, \"14\": 89, \"8\": 95, \"15\": 57, \"12\": 50, \"0\": 108, \"2\": 73, \"9\": 67, \"6\": 81, \"7\": 89, \"11\": 23, \"13\": 58}, \"8\": {\"5\": 68, \"4\": 86, \"14\": 83, \"2\": 80, \"11\": 47, \"0\": 80, \"9\": 71, \"3\": 67, \"12\": 63, \"10\": 75, \"8\": 69, \"13\": 68, \"7\": 79, \"6\": 86, \"1\": 94, \"15\": 84}, \"7\": {\"3\": 86, \"1\": 90, \"0\": 91, \"13\": 59, \"5\": 62, \"14\": 82, \"4\": 75, \"15\": 81, \"8\": 71, \"2\": 80, \"7\": 102, \"10\": 88, \"12\": 61, \"6\": 68, \"9\": 65, \"11\": 39}, \"6\": {\"8\": 72, \"5\": 74, \"6\": 91, \"0\": 77, \"11\": 71, \"15\": 78, \"2\": 70, \"9\": 79, \"4\": 79, \"12\": 70, \"1\": 82, \"10\": 73, \"7\": 84, \"14\": 73, \"3\": 59, \"13\": 68}, \"11\": {\"11\": 321, \"6\": 80, \"12\": 146, \"13\": 140, \"10\": 36, \"15\": 75, \"3\": 22, \"14\": 19, \"9\": 75, \"5\": 83, \"2\": 41, \"7\": 36, \"0\": 44, \"1\": 30, \"8\": 35, \"4\": 17}, \"15\": {\"14\": 100, \"11\": 75, \"5\": 86, \"2\": 78, \"6\": 79, \"15\": 77, \"7\": 68, \"0\": 74, \"1\": 65, \"13\": 72, \"12\": 88, \"3\": 61, \"8\": 76, \"4\": 74, \"9\": 62, \"10\": 65}, \"1\": {\"7\": 79, \"0\": 97, \"13\": 47, \"15\": 70, \"3\": 88, \"14\": 111, \"1\": 105, \"5\": 53, \"11\": 17, \"6\": 73, \"10\": 82, \"9\": 76, \"8\": 83, \"4\": 104, \"2\": 74, \"12\": 41}}, \"ORACLE.run144\": {\"12\": {\"13\": 88, \"9\": 106, \"7\": 104, \"1\": 122, \"10\": 107, \"14\": 50, \"11\": 73, \"12\": 135, \"6\": 79, \"3\": 113, \"2\": 110, \"5\": 26, \"15\": 20, \"4\": 54, \"0\": 10, \"8\": 3}, \"7\": {\"6\": 119, \"13\": 93, \"2\": 104, \"12\": 101, \"10\": 108, \"9\": 102, \"1\": 119, \"7\": 107, \"4\": 72, \"11\": 98, \"5\": 29, \"14\": 33, \"3\": 85, \"0\": 7, \"15\": 17, \"8\": 6}, \"5\": {\"12\": 27, \"4\": 132, \"14\": 129, \"1\": 45, \"5\": 168, \"3\": 51, \"8\": 138, \"15\": 164, \"6\": 20, \"0\": 138, \"11\": 26, \"9\": 47, \"7\": 31, \"13\": 45, \"2\": 22, \"10\": 17}, \"15\": {\"5\": 137, \"3\": 61, \"0\": 186, \"4\": 115, \"8\": 187, \"10\": 11, \"15\": 186, \"14\": 116, \"9\": 34, \"7\": 26, \"11\": 18, \"2\": 26, \"12\": 27, \"13\": 29, \"1\": 32, \"6\": 9}, \"8\": {\"0\": 244, \"5\": 145, \"8\": 315, \"4\": 88, \"15\": 198, \"3\": 21, \"14\": 95, \"1\": 16, \"12\": 13, \"2\": 10, \"9\": 14, \"6\": 6, \"13\": 11, \"7\": 10, \"11\": 12, \"10\": 2}, \"2\": {\"9\": 106, \"1\": 103, \"12\": 92, \"13\": 117, \"6\": 110, \"10\": 105, \"3\": 78, \"2\": 121, \"11\": 115, \"7\": 106, \"14\": 39, \"5\": 26, \"4\": 47, \"8\": 7, \"15\": 19, \"0\": 9}, \"13\": {\"11\": 126, \"7\": 93, \"10\": 80, \"1\": 102, \"12\": 75, \"3\": 67, \"9\": 122, \"15\": 29, \"0\": 13, \"2\": 120, \"6\": 119, \"14\": 51, \"4\": 54, \"13\": 115, \"5\": 27, \"8\": 7}, \"4\": {\"14\": 133, \"4\": 148, \"15\": 102, \"1\": 90, \"5\": 115, \"7\": 58, \"10\": 41, \"2\": 52, \"3\": 84, \"12\": 49, \"8\": 50, \"0\": 68, \"9\": 60, \"13\": 71, \"11\": 44, \"6\": 35}, \"0\": {\"5\": 171, \"10\": 14, \"8\": 255, \"15\": 192, \"14\": 101, \"0\": 220, \"3\": 36, \"1\": 19, \"4\": 99, \"7\": 21, \"2\": 10, \"11\": 8, \"9\": 19, \"12\": 15, \"13\": 13, \"6\": 7}, \"6\": {\"12\": 73, \"7\": 108, \"9\": 114, \"3\": 50, \"10\": 86, \"11\": 166, \"6\": 153, \"14\": 39, \"1\": 83, \"13\": 130, \"0\": 4, \"5\": 12, \"2\": 126, \"4\": 42, \"8\": 4, \"15\": 10}, \"9\": {\"3\": 100, \"7\": 107, \"15\": 33, \"13\": 98, \"6\": 107, \"14\": 62, \"10\": 80, \"4\": 66, \"2\": 103, \"12\": 91, \"1\": 92, \"9\": 102, \"8\": 9, \"11\": 104, \"0\": 18, \"5\": 28}, \"11\": {\"6\": 140, \"7\": 109, \"9\": 96, \"11\": 183, \"2\": 107, \"10\": 97, \"5\": 26, \"13\": 140, \"3\": 54, \"1\": 86, \"0\": 8, \"4\": 47, \"14\": 31, \"15\": 18, \"12\": 57, \"8\": 1}, \"10\": {\"7\": 116, \"9\": 118, \"2\": 122, \"6\": 105, \"3\": 92, \"10\": 127, \"4\": 51, \"12\": 103, \"1\": 102, \"11\": 88, \"15\": 15, \"14\": 29, \"13\": 95, \"0\": 10, \"5\": 21, \"8\": 6}, \"14\": {\"13\": 57, \"9\": 71, \"0\": 102, \"15\": 110, \"5\": 138, \"14\": 135, \"3\": 91, \"12\": 56, \"4\": 116, \"1\": 55, \"2\": 40, \"7\": 42, \"6\": 30, \"11\": 36, \"10\": 36, \"8\": 85}, \"1\": {\"6\": 62, \"3\": 114, \"10\": 128, \"7\": 107, \"2\": 114, \"9\": 96, \"11\": 77, \"1\": 113, \"13\": 81, \"12\": 119, \"14\": 55, \"15\": 21, \"4\": 67, \"0\": 14, \"8\": 7, \"5\": 25}, \"3\": {\"7\": 92, \"3\": 124, \"10\": 89, \"15\": 48, \"13\": 75, \"11\": 52, \"12\": 114, \"1\": 111, \"2\": 94, \"9\": 80, \"14\": 82, \"5\": 42, \"4\": 80, \"6\": 73, \"0\": 30, \"8\": 14}}}, \"per_domain_accuracy\": {\"Wisig_3\": {\"accuracy\": 0.9401041666666666, \"source?\": true}, \"Wisig_4\": {\"accuracy\": 0.916015625, \"source?\": true}, \"Wisig_1\": {\"accuracy\": 0.951171875, \"source?\": true}, \"Wisig_2\": {\"accuracy\": 0.9329427083333334, \"source?\": true}, \"ORACLE.run114\": {\"accuracy\": 0.1003125, \"source?\": false}, \"ORACLE.run120\": {\"accuracy\": 0.07635416666666667, \"source?\": false}, \"ORACLE.run138\": {\"accuracy\": 0.11776041666666667, \"source?\": false}, \"ORACLE.run18\": {\"accuracy\": 0.09817708333333333, \"source?\": false}, \"ORACLE.run150\": {\"accuracy\": 0.10510416666666667, \"source?\": false}, \"ORACLE.run132\": {\"accuracy\": 0.14744791666666668, \"source?\": false}, \"ORACLE.run126\": {\"accuracy\": 0.08848958333333333, \"source?\": false}, \"ORACLE.run144\": {\"accuracy\": 0.12770833333333334, \"source?\": false}}}, \"history\": {\"epoch_indices\": [1, 2, 3, 4, 5], \"train_label_loss\": [0.3927464041417795, 0.2133166464087159, 0.16871156370521018, 0.13397788709194058, 0.1142645854367603], \"source_val_label_loss\": [0.27551373839378357, 0.22409436106681824, 0.21064472198486328, 0.19065535068511963, 0.1862829625606537], \"target_val_label_loss\": [2.7360541820526123, 2.7872228622436523, 2.8395562171936035, 2.787060022354126, 2.8508923053741455], \"source_val_acc_label\": [0.93505859375, 0.9498697916666666, 0.9576822916666666, 0.9562174479166666, 0.962890625], \"target_val_acc_label\": [0.10766927083333333, 0.09530598958333333, 0.09940755208333334, 0.1018359375, 0.09527994791666666]}, \"dataset_metrics\": {\"source\": {\"train\": {\"n_unique_x\": 36400, \"n_unique_y\": 130, \"n_batch/episode\": 1346}, \"val\": {\"n_unique_x\": 7800, \"n_unique_y\": 130, \"n_batch/episode\": 192}, \"test\": {\"n_unique_x\": 7800, \"n_unique_y\": 130, \"n_batch/episode\": 192}}, \"target\": {\"train\": {\"n_unique_x\": 896000, \"n_unique_y\": 16, \"n_batch/episode\": 33600}, \"val\": {\"n_unique_x\": 192000, \"n_unique_y\": 16, \"n_batch/episode\": 4800}, \"test\": {\"n_unique_x\": 192000, \"n_unique_y\": 16, \"n_batch/episode\": 4800}}}}'"
      ]
     },
     "execution_count": 29,
     "metadata": {},
     "output_type": "execute_result"
    }
   ],
   "source": [
    "json.dumps(experiment)"
   ]
  }
 ],
 "metadata": {
  "celltoolbar": "Tags",
  "kernelspec": {
   "display_name": "Python 3 (ipykernel)",
   "language": "python",
   "name": "python3"
  },
  "language_info": {
   "codemirror_mode": {
    "name": "ipython",
    "version": 3
   },
   "file_extension": ".py",
   "mimetype": "text/x-python",
   "name": "python",
   "nbconvert_exporter": "python",
   "pygments_lexer": "ipython3",
   "version": "3.8.10"
  },
  "papermill": {
   "default_parameters": {},
   "duration": 699.560656,
   "end_time": "2022-03-10T21:07:02.016157",
   "environment_variables": {},
   "exception": null,
   "input_path": "/mnt/wd500GB/CSC500/csc500-main/csc500-notebooks/templates/tl_ptn_template.ipynb",
   "output_path": "trial.ipynb",
   "parameters": {
    "parameters": {
     "BEST_MODEL_PATH": "./best_model.pth",
     "NUM_LOGS_PER_EPOCH": 10,
     "criteria_for_best": "target_loss",
     "dataset_seed": 1337,
     "datasets": [
      {
       "domain_prefix": "Wisig_",
       "domains": [
        1,
        2,
        3,
        4
       ],
       "episode_transforms": [],
       "labels": [
        "1-10",
        "1-12",
        "1-14",
        "1-16",
        "1-18",
        "1-19",
        "1-8",
        "10-11",
        "10-17",
        "10-4",
        "10-7",
        "11-1",
        "11-10",
        "11-19",
        "11-20",
        "11-4",
        "11-7",
        "12-19",
        "12-20",
        "12-7",
        "13-14",
        "13-18",
        "13-19",
        "13-20",
        "13-3",
        "13-7",
        "14-10",
        "14-11",
        "14-12",
        "14-13",
        "14-14",
        "14-19",
        "14-20",
        "14-7",
        "14-8",
        "14-9",
        "15-1",
        "15-19",
        "15-6",
        "16-1",
        "16-16",
        "16-19",
        "16-20",
        "17-10",
        "17-11",
        "18-1",
        "18-10",
        "18-11",
        "18-12",
        "18-13",
        "18-14",
        "18-15",
        "18-16",
        "18-17",
        "18-19",
        "18-2",
        "18-20",
        "18-4",
        "18-5",
        "18-7",
        "18-8",
        "18-9",
        "19-1",
        "19-10",
        "19-11",
        "19-12",
        "19-13",
        "19-14",
        "19-15",
        "19-19",
        "19-2",
        "19-20",
        "19-3",
        "19-4",
        "19-6",
        "19-7",
        "19-8",
        "19-9",
        "2-1",
        "2-13",
        "2-15",
        "2-3",
        "2-4",
        "2-5",
        "2-6",
        "2-7",
        "2-8",
        "20-1",
        "20-12",
        "20-14",
        "20-15",
        "20-16",
        "20-18",
        "20-19",
        "20-20",
        "20-3",
        "20-4",
        "20-5",
        "20-7",
        "20-8",
        "3-1",
        "3-13",
        "3-18",
        "3-2",
        "3-8",
        "4-1",
        "4-10",
        "4-11",
        "5-1",
        "5-5",
        "6-1",
        "6-15",
        "6-6",
        "7-10",
        "7-11",
        "7-12",
        "7-13",
        "7-14",
        "7-7",
        "7-8",
        "7-9",
        "8-1",
        "8-13",
        "8-14",
        "8-18",
        "8-20",
        "8-3",
        "8-8",
        "9-1",
        "9-7"
       ],
       "num_examples_per_domain_per_label": 100,
       "pickle_path": "/mnt/wd500GB/CSC500/csc500-main/datasets/wisig.node3-19.stratified_ds.2022A.pkl",
       "source_or_target_dataset": "source",
       "x_transforms": [
        "unit_mag"
       ]
      },
      {
       "domain_prefix": "ORACLE.run1",
       "domains": [
        32,
        38,
        8,
        44,
        14,
        50,
        20,
        26
       ],
       "episode_transforms": [],
       "labels": [
        "3123D52",
        "3123D65",
        "3123D79",
        "3123D80",
        "3123D54",
        "3123D70",
        "3123D7B",
        "3123D89",
        "3123D58",
        "3123D76",
        "3123D7D",
        "3123EFE",
        "3123D64",
        "3123D78",
        "3123D7E",
        "3124E4A"
       ],
       "num_examples_per_domain_per_label": 10000,
       "pickle_path": "/mnt/wd500GB/CSC500/csc500-main/datasets/oracle.Run1_10kExamples_stratified_ds.2022A.pkl",
       "source_or_target_dataset": "target",
       "x_transforms": [
        "unit_mag"
       ]
      }
     ],
     "device": "cuda",
     "experiment_name": "tl_1_wisig-oracle.run1",
     "lr": 0.001,
     "n_epoch": 50,
     "n_query": 2,
     "n_shot": 3,
     "n_way": 16,
     "patience": 3,
     "seed": 1337,
     "test_k_factor": 2,
     "torch_default_dtype": "torch.float32",
     "train_k_factor": 3,
     "val_k_factor": 2,
     "x_net": [
      {
       "class": "nnReshape",
       "kargs": {
        "shape": [
         -1,
         1,
         2,
         256
        ]
       }
      },
      {
       "class": "Conv2d",
       "kargs": {
        "bias": false,
        "in_channels": 1,
        "kernel_size": [
         1,
         7
        ],
        "out_channels": 256,
        "padding": [
         0,
         3
        ]
       }
      },
      {
       "class": "ReLU",
       "kargs": {
        "inplace": true
       }
      },
      {
       "class": "BatchNorm2d",
       "kargs": {
        "num_features": 256
       }
      },
      {
       "class": "Conv2d",
       "kargs": {
        "bias": true,
        "in_channels": 256,
        "kernel_size": [
         2,
         7
        ],
        "out_channels": 80,
        "padding": [
         0,
         3
        ]
       }
      },
      {
       "class": "ReLU",
       "kargs": {
        "inplace": true
       }
      },
      {
       "class": "BatchNorm2d",
       "kargs": {
        "num_features": 80
       }
      },
      {
       "class": "Flatten",
       "kargs": {}
      },
      {
       "class": "Linear",
       "kargs": {
        "in_features": 20480,
        "out_features": 256
       }
      },
      {
       "class": "ReLU",
       "kargs": {
        "inplace": true
       }
      },
      {
       "class": "BatchNorm1d",
       "kargs": {
        "num_features": 256
       }
      },
      {
       "class": "Linear",
       "kargs": {
        "in_features": 256,
        "out_features": 256
       }
      }
     ]
    }
   },
   "start_time": "2022-03-10T20:55:22.455501",
   "version": "2.3.4"
  }
 },
 "nbformat": 4,
 "nbformat_minor": 5
}