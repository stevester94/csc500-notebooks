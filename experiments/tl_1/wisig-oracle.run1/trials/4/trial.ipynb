{
 "cells": [
  {
   "cell_type": "markdown",
   "id": "9fea5f46",
   "metadata": {
    "papermill": {
     "duration": 0.01779,
     "end_time": "2022-03-10T22:59:06.266987",
     "exception": false,
     "start_time": "2022-03-10T22:59:06.249197",
     "status": "completed"
    },
    "tags": []
   },
   "source": [
    "# Transfer Learning Template"
   ]
  },
  {
   "cell_type": "code",
   "execution_count": 1,
   "id": "0902182a",
   "metadata": {
    "execution": {
     "iopub.execute_input": "2022-03-10T22:59:06.306990Z",
     "iopub.status.busy": "2022-03-10T22:59:06.306483Z",
     "iopub.status.idle": "2022-03-10T22:59:07.194194Z",
     "shell.execute_reply": "2022-03-10T22:59:07.193897Z"
    },
    "papermill": {
     "duration": 0.914653,
     "end_time": "2022-03-10T22:59:07.194269",
     "exception": false,
     "start_time": "2022-03-10T22:59:06.279616",
     "status": "completed"
    },
    "tags": []
   },
   "outputs": [],
   "source": [
    "%load_ext autoreload\n",
    "%autoreload 2\n",
    "%matplotlib inline\n",
    "\n",
    "    \n",
    "import os, json, sys, time, random\n",
    "import numpy as np\n",
    "import torch\n",
    "from torch.optim import Adam\n",
    "from  easydict import EasyDict\n",
    "import matplotlib.pyplot as plt\n",
    "\n",
    "from steves_models.steves_ptn import Steves_Prototypical_Network\n",
    "\n",
    "from steves_utils.lazy_iterable_wrapper import Lazy_Iterable_Wrapper\n",
    "from steves_utils.iterable_aggregator import Iterable_Aggregator\n",
    "from steves_utils.ptn_train_eval_test_jig import  PTN_Train_Eval_Test_Jig\n",
    "from steves_utils.torch_sequential_builder import build_sequential\n",
    "from steves_utils.torch_utils import get_dataset_metrics, ptn_confusion_by_domain_over_dataloader\n",
    "from steves_utils.utils_v2 import (per_domain_accuracy_from_confusion, get_datasets_base_path)\n",
    "from steves_utils.PTN.utils import independent_accuracy_assesment\n",
    "\n",
    "from torch.utils.data import DataLoader\n",
    "\n",
    "from steves_utils.stratified_dataset.episodic_accessor import Episodic_Accessor_Factory\n",
    "\n",
    "from steves_utils.ptn_do_report import (\n",
    "    get_loss_curve,\n",
    "    get_results_table,\n",
    "    get_parameters_table,\n",
    "    get_domain_accuracies,\n",
    ")\n",
    "\n",
    "from steves_utils.transforms import get_chained_transform"
   ]
  },
  {
   "cell_type": "markdown",
   "id": "41c840b4",
   "metadata": {
    "papermill": {
     "duration": 0.012834,
     "end_time": "2022-03-10T22:59:07.226895",
     "exception": false,
     "start_time": "2022-03-10T22:59:07.214061",
     "status": "completed"
    },
    "tags": []
   },
   "source": [
    "# Allowed Parameters\n",
    "These are allowed parameters, not defaults\n",
    "Each of these values need to be present in the injected parameters (the notebook will raise an exception if they are not present)\n",
    "\n",
    "Papermill uses the cell tag \"parameters\" to inject the real parameters below this cell.\n",
    "Enable tags to see what I mean"
   ]
  },
  {
   "cell_type": "code",
   "execution_count": 2,
   "id": "fd44eb83",
   "metadata": {
    "execution": {
     "iopub.execute_input": "2022-03-10T22:59:07.254793Z",
     "iopub.status.busy": "2022-03-10T22:59:07.254361Z",
     "iopub.status.idle": "2022-03-10T22:59:07.266561Z",
     "shell.execute_reply": "2022-03-10T22:59:07.266319Z"
    },
    "papermill": {
     "duration": 0.026934,
     "end_time": "2022-03-10T22:59:07.266623",
     "exception": false,
     "start_time": "2022-03-10T22:59:07.239689",
     "status": "completed"
    },
    "tags": []
   },
   "outputs": [],
   "source": [
    "required_parameters = {\n",
    "    \"experiment_name\",\n",
    "    \"lr\",\n",
    "    \"device\",\n",
    "    \"seed\",\n",
    "    \"dataset_seed\",\n",
    "    \"n_shot\",\n",
    "    \"n_query\",\n",
    "    \"n_way\",\n",
    "    \"train_k_factor\",\n",
    "    \"val_k_factor\",\n",
    "    \"test_k_factor\",\n",
    "    \"n_epoch\",\n",
    "    \"patience\",\n",
    "    \"criteria_for_best\",\n",
    "    \"x_net\",\n",
    "    \"datasets\",\n",
    "    \"torch_default_dtype\",\n",
    "    \"NUM_LOGS_PER_EPOCH\",\n",
    "    \"BEST_MODEL_PATH\",\n",
    "}"
   ]
  },
  {
   "cell_type": "code",
   "execution_count": 3,
   "id": "fa3f0049",
   "metadata": {
    "execution": {
     "iopub.execute_input": "2022-03-10T22:59:07.301219Z",
     "iopub.status.busy": "2022-03-10T22:59:07.300763Z",
     "iopub.status.idle": "2022-03-10T22:59:07.313728Z",
     "shell.execute_reply": "2022-03-10T22:59:07.313448Z"
    },
    "papermill": {
     "duration": 0.031496,
     "end_time": "2022-03-10T22:59:07.313790",
     "exception": false,
     "start_time": "2022-03-10T22:59:07.282294",
     "status": "completed"
    },
    "tags": [
     "parameters"
    ]
   },
   "outputs": [],
   "source": [
    "from steves_utils.CORES.utils import (\n",
    "    ALL_NODES,\n",
    "    ALL_NODES_MINIMUM_1000_EXAMPLES,\n",
    "    ALL_DAYS\n",
    ")\n",
    "\n",
    "from steves_utils.ORACLE.utils_v2 import (\n",
    "    ALL_DISTANCES_FEET_NARROWED,\n",
    "    ALL_RUNS,\n",
    "    ALL_SERIAL_NUMBERS,\n",
    ")\n",
    "\n",
    "standalone_parameters = {}\n",
    "standalone_parameters[\"experiment_name\"] = \"STANDALONE PTN\"\n",
    "standalone_parameters[\"lr\"] = 0.001\n",
    "standalone_parameters[\"device\"] = \"cuda\"\n",
    "\n",
    "standalone_parameters[\"seed\"] = 1337\n",
    "standalone_parameters[\"dataset_seed\"] = 1337\n",
    "\n",
    "standalone_parameters[\"n_way\"] = 8\n",
    "standalone_parameters[\"n_shot\"] = 3\n",
    "standalone_parameters[\"n_query\"]  = 2\n",
    "standalone_parameters[\"train_k_factor\"] = 1\n",
    "standalone_parameters[\"val_k_factor\"] = 2\n",
    "standalone_parameters[\"test_k_factor\"] = 2\n",
    "\n",
    "\n",
    "standalone_parameters[\"n_epoch\"] = 50\n",
    "\n",
    "standalone_parameters[\"patience\"] = 10\n",
    "standalone_parameters[\"criteria_for_best\"] = \"source_loss\"\n",
    "\n",
    "standalone_parameters[\"datasets\"] = [\n",
    "    {\n",
    "        \"labels\": ALL_SERIAL_NUMBERS,\n",
    "        \"domains\": ALL_DISTANCES_FEET_NARROWED,\n",
    "        \"num_examples_per_domain_per_label\": 100,\n",
    "        \"pickle_path\": os.path.join(get_datasets_base_path(), \"oracle.Run1_framed_2000Examples_stratified_ds.2022A.pkl\"),\n",
    "        \"source_or_target_dataset\": \"source\",\n",
    "        \"x_transforms\": [\"unit_mag\", \"minus_two\"],\n",
    "        \"episode_transforms\": [],\n",
    "        \"domain_prefix\": \"ORACLE_\"\n",
    "    },\n",
    "    {\n",
    "        \"labels\": ALL_NODES,\n",
    "        \"domains\": ALL_DAYS,\n",
    "        \"num_examples_per_domain_per_label\": 100,\n",
    "        \"pickle_path\": os.path.join(get_datasets_base_path(), \"cores.stratified_ds.2022A.pkl\"),\n",
    "        \"source_or_target_dataset\": \"target\",\n",
    "        \"x_transforms\": [\"unit_power\", \"times_zero\"],\n",
    "        \"episode_transforms\": [],\n",
    "        \"domain_prefix\": \"CORES_\"\n",
    "    }   \n",
    "]\n",
    "\n",
    "standalone_parameters[\"torch_default_dtype\"] = \"torch.float32\" \n",
    "\n",
    "\n",
    "\n",
    "standalone_parameters[\"x_net\"] =     [\n",
    "    {\"class\": \"nnReshape\", \"kargs\": {\"shape\":[-1, 1, 2, 256]}},\n",
    "    {\"class\": \"Conv2d\", \"kargs\": { \"in_channels\":1, \"out_channels\":256, \"kernel_size\":(1,7), \"bias\":False, \"padding\":(0,3), },},\n",
    "    {\"class\": \"ReLU\", \"kargs\": {\"inplace\": True}},\n",
    "    {\"class\": \"BatchNorm2d\", \"kargs\": {\"num_features\":256}},\n",
    "\n",
    "    {\"class\": \"Conv2d\", \"kargs\": { \"in_channels\":256, \"out_channels\":80, \"kernel_size\":(2,7), \"bias\":True, \"padding\":(0,3), },},\n",
    "    {\"class\": \"ReLU\", \"kargs\": {\"inplace\": True}},\n",
    "    {\"class\": \"BatchNorm2d\", \"kargs\": {\"num_features\":80}},\n",
    "    {\"class\": \"Flatten\", \"kargs\": {}},\n",
    "\n",
    "    {\"class\": \"Linear\", \"kargs\": {\"in_features\": 80*256, \"out_features\": 256}}, # 80 units per IQ pair\n",
    "    {\"class\": \"ReLU\", \"kargs\": {\"inplace\": True}},\n",
    "    {\"class\": \"BatchNorm1d\", \"kargs\": {\"num_features\":256}},\n",
    "\n",
    "    {\"class\": \"Linear\", \"kargs\": {\"in_features\": 256, \"out_features\": 256}},\n",
    "]\n",
    "\n",
    "# Parameters relevant to results\n",
    "# These parameters will basically never need to change\n",
    "standalone_parameters[\"NUM_LOGS_PER_EPOCH\"] = 10\n",
    "standalone_parameters[\"BEST_MODEL_PATH\"] = \"./best_model.pth\"\n",
    "\n",
    "\n",
    "\n",
    "\n"
   ]
  },
  {
   "cell_type": "code",
   "execution_count": 4,
   "id": "8b6298a7",
   "metadata": {
    "execution": {
     "iopub.execute_input": "2022-03-10T22:59:07.347979Z",
     "iopub.status.busy": "2022-03-10T22:59:07.342698Z",
     "iopub.status.idle": "2022-03-10T22:59:07.361778Z",
     "shell.execute_reply": "2022-03-10T22:59:07.361498Z"
    },
    "papermill": {
     "duration": 0.033391,
     "end_time": "2022-03-10T22:59:07.361839",
     "exception": false,
     "start_time": "2022-03-10T22:59:07.328448",
     "status": "completed"
    },
    "tags": [
     "injected-parameters"
    ]
   },
   "outputs": [],
   "source": [
    "# Parameters\n",
    "parameters = {\n",
    "    \"experiment_name\": \"tl_1_wisig-oracle.run1\",\n",
    "    \"device\": \"cuda\",\n",
    "    \"lr\": 0.001,\n",
    "    \"seed\": 1337,\n",
    "    \"dataset_seed\": 1337,\n",
    "    \"n_shot\": 3,\n",
    "    \"n_query\": 2,\n",
    "    \"train_k_factor\": 3,\n",
    "    \"val_k_factor\": 2,\n",
    "    \"test_k_factor\": 2,\n",
    "    \"torch_default_dtype\": \"torch.float32\",\n",
    "    \"n_epoch\": 50,\n",
    "    \"patience\": 3,\n",
    "    \"criteria_for_best\": \"target_loss\",\n",
    "    \"x_net\": [\n",
    "        {\"class\": \"nnReshape\", \"kargs\": {\"shape\": [-1, 1, 2, 256]}},\n",
    "        {\n",
    "            \"class\": \"Conv2d\",\n",
    "            \"kargs\": {\n",
    "                \"in_channels\": 1,\n",
    "                \"out_channels\": 256,\n",
    "                \"kernel_size\": [1, 7],\n",
    "                \"bias\": False,\n",
    "                \"padding\": [0, 3],\n",
    "            },\n",
    "        },\n",
    "        {\"class\": \"ReLU\", \"kargs\": {\"inplace\": True}},\n",
    "        {\"class\": \"BatchNorm2d\", \"kargs\": {\"num_features\": 256}},\n",
    "        {\n",
    "            \"class\": \"Conv2d\",\n",
    "            \"kargs\": {\n",
    "                \"in_channels\": 256,\n",
    "                \"out_channels\": 80,\n",
    "                \"kernel_size\": [2, 7],\n",
    "                \"bias\": True,\n",
    "                \"padding\": [0, 3],\n",
    "            },\n",
    "        },\n",
    "        {\"class\": \"ReLU\", \"kargs\": {\"inplace\": True}},\n",
    "        {\"class\": \"BatchNorm2d\", \"kargs\": {\"num_features\": 80}},\n",
    "        {\"class\": \"Flatten\", \"kargs\": {}},\n",
    "        {\"class\": \"Linear\", \"kargs\": {\"in_features\": 20480, \"out_features\": 256}},\n",
    "        {\"class\": \"ReLU\", \"kargs\": {\"inplace\": True}},\n",
    "        {\"class\": \"BatchNorm1d\", \"kargs\": {\"num_features\": 256}},\n",
    "        {\"class\": \"Linear\", \"kargs\": {\"in_features\": 256, \"out_features\": 256}},\n",
    "    ],\n",
    "    \"NUM_LOGS_PER_EPOCH\": 10,\n",
    "    \"BEST_MODEL_PATH\": \"./best_model.pth\",\n",
    "    \"n_way\": 16,\n",
    "    \"datasets\": [\n",
    "        {\n",
    "            \"labels\": [\n",
    "                \"1-10\",\n",
    "                \"1-12\",\n",
    "                \"1-14\",\n",
    "                \"1-16\",\n",
    "                \"1-18\",\n",
    "                \"1-19\",\n",
    "                \"1-8\",\n",
    "                \"10-11\",\n",
    "                \"10-17\",\n",
    "                \"10-4\",\n",
    "                \"10-7\",\n",
    "                \"11-1\",\n",
    "                \"11-10\",\n",
    "                \"11-19\",\n",
    "                \"11-20\",\n",
    "                \"11-4\",\n",
    "                \"11-7\",\n",
    "                \"12-19\",\n",
    "                \"12-20\",\n",
    "                \"12-7\",\n",
    "                \"13-14\",\n",
    "                \"13-18\",\n",
    "                \"13-19\",\n",
    "                \"13-20\",\n",
    "                \"13-3\",\n",
    "                \"13-7\",\n",
    "                \"14-10\",\n",
    "                \"14-11\",\n",
    "                \"14-12\",\n",
    "                \"14-13\",\n",
    "                \"14-14\",\n",
    "                \"14-19\",\n",
    "                \"14-20\",\n",
    "                \"14-7\",\n",
    "                \"14-8\",\n",
    "                \"14-9\",\n",
    "                \"15-1\",\n",
    "                \"15-19\",\n",
    "                \"15-6\",\n",
    "                \"16-1\",\n",
    "                \"16-16\",\n",
    "                \"16-19\",\n",
    "                \"16-20\",\n",
    "                \"17-10\",\n",
    "                \"17-11\",\n",
    "                \"18-1\",\n",
    "                \"18-10\",\n",
    "                \"18-11\",\n",
    "                \"18-12\",\n",
    "                \"18-13\",\n",
    "                \"18-14\",\n",
    "                \"18-15\",\n",
    "                \"18-16\",\n",
    "                \"18-17\",\n",
    "                \"18-19\",\n",
    "                \"18-2\",\n",
    "                \"18-20\",\n",
    "                \"18-4\",\n",
    "                \"18-5\",\n",
    "                \"18-7\",\n",
    "                \"18-8\",\n",
    "                \"18-9\",\n",
    "                \"19-1\",\n",
    "                \"19-10\",\n",
    "                \"19-11\",\n",
    "                \"19-12\",\n",
    "                \"19-13\",\n",
    "                \"19-14\",\n",
    "                \"19-15\",\n",
    "                \"19-19\",\n",
    "                \"19-2\",\n",
    "                \"19-20\",\n",
    "                \"19-3\",\n",
    "                \"19-4\",\n",
    "                \"19-6\",\n",
    "                \"19-7\",\n",
    "                \"19-8\",\n",
    "                \"19-9\",\n",
    "                \"2-1\",\n",
    "                \"2-13\",\n",
    "                \"2-15\",\n",
    "                \"2-3\",\n",
    "                \"2-4\",\n",
    "                \"2-5\",\n",
    "                \"2-6\",\n",
    "                \"2-7\",\n",
    "                \"2-8\",\n",
    "                \"20-1\",\n",
    "                \"20-12\",\n",
    "                \"20-14\",\n",
    "                \"20-15\",\n",
    "                \"20-16\",\n",
    "                \"20-18\",\n",
    "                \"20-19\",\n",
    "                \"20-20\",\n",
    "                \"20-3\",\n",
    "                \"20-4\",\n",
    "                \"20-5\",\n",
    "                \"20-7\",\n",
    "                \"20-8\",\n",
    "                \"3-1\",\n",
    "                \"3-13\",\n",
    "                \"3-18\",\n",
    "                \"3-2\",\n",
    "                \"3-8\",\n",
    "                \"4-1\",\n",
    "                \"4-10\",\n",
    "                \"4-11\",\n",
    "                \"5-1\",\n",
    "                \"5-5\",\n",
    "                \"6-1\",\n",
    "                \"6-15\",\n",
    "                \"6-6\",\n",
    "                \"7-10\",\n",
    "                \"7-11\",\n",
    "                \"7-12\",\n",
    "                \"7-13\",\n",
    "                \"7-14\",\n",
    "                \"7-7\",\n",
    "                \"7-8\",\n",
    "                \"7-9\",\n",
    "                \"8-1\",\n",
    "                \"8-13\",\n",
    "                \"8-14\",\n",
    "                \"8-18\",\n",
    "                \"8-20\",\n",
    "                \"8-3\",\n",
    "                \"8-8\",\n",
    "                \"9-1\",\n",
    "                \"9-7\",\n",
    "            ],\n",
    "            \"domains\": [1, 2, 3, 4],\n",
    "            \"num_examples_per_domain_per_label\": 100,\n",
    "            \"pickle_path\": \"/mnt/wd500GB/CSC500/csc500-main/datasets/wisig.node3-19.stratified_ds.2022A.pkl\",\n",
    "            \"source_or_target_dataset\": \"target\",\n",
    "            \"x_transforms\": [\"unit_mag\"],\n",
    "            \"episode_transforms\": [],\n",
    "            \"domain_prefix\": \"Wisig_\",\n",
    "        },\n",
    "        {\n",
    "            \"labels\": [\n",
    "                \"3123D52\",\n",
    "                \"3123D65\",\n",
    "                \"3123D79\",\n",
    "                \"3123D80\",\n",
    "                \"3123D54\",\n",
    "                \"3123D70\",\n",
    "                \"3123D7B\",\n",
    "                \"3123D89\",\n",
    "                \"3123D58\",\n",
    "                \"3123D76\",\n",
    "                \"3123D7D\",\n",
    "                \"3123EFE\",\n",
    "                \"3123D64\",\n",
    "                \"3123D78\",\n",
    "                \"3123D7E\",\n",
    "                \"3124E4A\",\n",
    "            ],\n",
    "            \"domains\": [32, 38, 8, 44, 14, 50, 20, 26],\n",
    "            \"num_examples_per_domain_per_label\": 10000,\n",
    "            \"pickle_path\": \"/mnt/wd500GB/CSC500/csc500-main/datasets/oracle.Run1_10kExamples_stratified_ds.2022A.pkl\",\n",
    "            \"source_or_target_dataset\": \"source\",\n",
    "            \"x_transforms\": [\"unit_mag\"],\n",
    "            \"episode_transforms\": [],\n",
    "            \"domain_prefix\": \"ORACLE.run1\",\n",
    "        },\n",
    "    ],\n",
    "}\n"
   ]
  },
  {
   "cell_type": "code",
   "execution_count": 5,
   "id": "8fa1cc33",
   "metadata": {
    "execution": {
     "iopub.execute_input": "2022-03-10T22:59:07.390918Z",
     "iopub.status.busy": "2022-03-10T22:59:07.390471Z",
     "iopub.status.idle": "2022-03-10T22:59:07.402084Z",
     "shell.execute_reply": "2022-03-10T22:59:07.401807Z"
    },
    "papermill": {
     "duration": 0.027111,
     "end_time": "2022-03-10T22:59:07.402144",
     "exception": false,
     "start_time": "2022-03-10T22:59:07.375033",
     "status": "completed"
    },
    "tags": []
   },
   "outputs": [],
   "source": [
    "# Set this to True if you want to run this template directly\n",
    "STANDALONE = False\n",
    "if STANDALONE:\n",
    "    print(\"parameters not injected, running with standalone_parameters\")\n",
    "    parameters = standalone_parameters\n",
    "\n",
    "if not 'parameters' in locals() and not 'parameters' in globals():\n",
    "    raise Exception(\"Parameter injection failed\")\n",
    "\n",
    "#Use an easy dict for all the parameters\n",
    "p = EasyDict(parameters)\n",
    "\n",
    "supplied_keys = set(p.keys())\n",
    "\n",
    "if  supplied_keys != required_parameters:\n",
    "    print(\"Parameters are incorrect\")\n",
    "    if len(supplied_keys - required_parameters)>0: print(\"Shouldn't have:\", str(supplied_keys - required_parameters))\n",
    "    if len(required_parameters - supplied_keys)>0: print(\"Need to have:\", str(required_parameters - supplied_keys))\n",
    "    raise RuntimeError(\"Parameters are incorrect\")\n",
    "\n"
   ]
  },
  {
   "cell_type": "code",
   "execution_count": 6,
   "id": "3a028d58",
   "metadata": {
    "execution": {
     "iopub.execute_input": "2022-03-10T22:59:07.431855Z",
     "iopub.status.busy": "2022-03-10T22:59:07.431447Z",
     "iopub.status.idle": "2022-03-10T22:59:07.442951Z",
     "shell.execute_reply": "2022-03-10T22:59:07.442657Z"
    },
    "papermill": {
     "duration": 0.026353,
     "end_time": "2022-03-10T22:59:07.443011",
     "exception": false,
     "start_time": "2022-03-10T22:59:07.416658",
     "status": "completed"
    },
    "tags": []
   },
   "outputs": [],
   "source": [
    "###################################\n",
    "# Set the RNGs and make it all deterministic\n",
    "###################################\n",
    "np.random.seed(p.seed)\n",
    "random.seed(p.seed)\n",
    "torch.manual_seed(p.seed)\n",
    "\n",
    "torch.use_deterministic_algorithms(True) "
   ]
  },
  {
   "cell_type": "code",
   "execution_count": 7,
   "id": "b691acf6",
   "metadata": {
    "execution": {
     "iopub.execute_input": "2022-03-10T22:59:07.474132Z",
     "iopub.status.busy": "2022-03-10T22:59:07.473586Z",
     "iopub.status.idle": "2022-03-10T22:59:07.484633Z",
     "shell.execute_reply": "2022-03-10T22:59:07.484358Z"
    },
    "papermill": {
     "duration": 0.025828,
     "end_time": "2022-03-10T22:59:07.484692",
     "exception": false,
     "start_time": "2022-03-10T22:59:07.458864",
     "status": "completed"
    },
    "tags": []
   },
   "outputs": [],
   "source": [
    "###########################################\n",
    "# The stratified datasets honor this\n",
    "###########################################\n",
    "torch.set_default_dtype(eval(p.torch_default_dtype))"
   ]
  },
  {
   "cell_type": "code",
   "execution_count": 8,
   "id": "b5fba671",
   "metadata": {
    "execution": {
     "iopub.execute_input": "2022-03-10T22:59:07.514395Z",
     "iopub.status.busy": "2022-03-10T22:59:07.513988Z",
     "iopub.status.idle": "2022-03-10T22:59:07.551465Z",
     "shell.execute_reply": "2022-03-10T22:59:07.551210Z"
    },
    "papermill": {
     "duration": 0.052327,
     "end_time": "2022-03-10T22:59:07.551530",
     "exception": false,
     "start_time": "2022-03-10T22:59:07.499203",
     "status": "completed"
    },
    "tags": []
   },
   "outputs": [],
   "source": [
    "###################################\n",
    "# Build the network(s)\n",
    "# Note: It's critical to do this AFTER setting the RNG\n",
    "###################################\n",
    "x_net = build_sequential(p.x_net)"
   ]
  },
  {
   "cell_type": "code",
   "execution_count": 9,
   "id": "5d7e61cc",
   "metadata": {
    "execution": {
     "iopub.execute_input": "2022-03-10T22:59:07.580274Z",
     "iopub.status.busy": "2022-03-10T22:59:07.579873Z",
     "iopub.status.idle": "2022-03-10T22:59:07.591526Z",
     "shell.execute_reply": "2022-03-10T22:59:07.591171Z"
    },
    "papermill": {
     "duration": 0.026548,
     "end_time": "2022-03-10T22:59:07.591591",
     "exception": false,
     "start_time": "2022-03-10T22:59:07.565043",
     "status": "completed"
    },
    "tags": []
   },
   "outputs": [],
   "source": [
    "start_time_secs = time.time()"
   ]
  },
  {
   "cell_type": "code",
   "execution_count": 10,
   "id": "c6b67dfd",
   "metadata": {
    "execution": {
     "iopub.execute_input": "2022-03-10T22:59:07.622622Z",
     "iopub.status.busy": "2022-03-10T22:59:07.622217Z",
     "iopub.status.idle": "2022-03-10T22:59:07.633559Z",
     "shell.execute_reply": "2022-03-10T22:59:07.633289Z"
    },
    "papermill": {
     "duration": 0.026491,
     "end_time": "2022-03-10T22:59:07.633618",
     "exception": false,
     "start_time": "2022-03-10T22:59:07.607127",
     "status": "completed"
    },
    "tags": []
   },
   "outputs": [],
   "source": [
    "p.domains_source = []\n",
    "p.domains_target = []\n",
    "\n",
    "\n",
    "train_original_source = []\n",
    "val_original_source   = []\n",
    "test_original_source  = []\n",
    "\n",
    "train_original_target = []\n",
    "val_original_target   = []\n",
    "test_original_target  = []"
   ]
  },
  {
   "cell_type": "code",
   "execution_count": 11,
   "id": "e3d9c3d3",
   "metadata": {
    "execution": {
     "iopub.execute_input": "2022-03-10T22:59:07.663646Z",
     "iopub.status.busy": "2022-03-10T22:59:07.663240Z",
     "iopub.status.idle": "2022-03-10T22:59:07.674084Z",
     "shell.execute_reply": "2022-03-10T22:59:07.673812Z"
    },
    "papermill": {
     "duration": 0.025798,
     "end_time": "2022-03-10T22:59:07.674142",
     "exception": false,
     "start_time": "2022-03-10T22:59:07.648344",
     "status": "completed"
    },
    "tags": []
   },
   "outputs": [],
   "source": [
    "# global_x_transform_func = lambda x: normalize(x.to(torch.get_default_dtype()), \"unit_power\") # unit_power, unit_mag\n",
    "# global_x_transform_func = lambda x: normalize(x, \"unit_power\") # unit_power, unit_mag"
   ]
  },
  {
   "cell_type": "code",
   "execution_count": 12,
   "id": "acb78fd2",
   "metadata": {
    "execution": {
     "iopub.execute_input": "2022-03-10T22:59:07.707356Z",
     "iopub.status.busy": "2022-03-10T22:59:07.706784Z",
     "iopub.status.idle": "2022-03-10T22:59:07.718734Z",
     "shell.execute_reply": "2022-03-10T22:59:07.718496Z"
    },
    "papermill": {
     "duration": 0.029758,
     "end_time": "2022-03-10T22:59:07.718794",
     "exception": false,
     "start_time": "2022-03-10T22:59:07.689036",
     "status": "completed"
    },
    "tags": []
   },
   "outputs": [],
   "source": [
    "def add_dataset(\n",
    "    labels,\n",
    "    domains,\n",
    "    pickle_path,\n",
    "    x_transforms,\n",
    "    episode_transforms,\n",
    "    domain_prefix,\n",
    "    num_examples_per_domain_per_label,\n",
    "    source_or_target_dataset:str,\n",
    "    iterator_seed=p.seed,\n",
    "    dataset_seed=p.dataset_seed,\n",
    "    n_shot=p.n_shot,\n",
    "    n_way=p.n_way,\n",
    "    n_query=p.n_query,\n",
    "    train_val_test_k_factors=(p.train_k_factor,p.val_k_factor,p.test_k_factor),\n",
    "):\n",
    "   \n",
    "    if x_transforms == []: x_transform = None\n",
    "    else: x_transform = get_chained_transform(x_transforms)\n",
    "    \n",
    "    if episode_transforms == []: episode_transform = None\n",
    "    else: raise Exception(\"episode_transforms not implemented\")\n",
    "    \n",
    "    episode_transform = lambda tup, _prefix=domain_prefix: (_prefix + str(tup[0]), tup[1])\n",
    "\n",
    "\n",
    "    eaf = Episodic_Accessor_Factory(\n",
    "        labels=labels,\n",
    "        domains=domains,\n",
    "        num_examples_per_domain_per_label=num_examples_per_domain_per_label,\n",
    "        iterator_seed=iterator_seed,\n",
    "        dataset_seed=dataset_seed,\n",
    "        n_shot=n_shot,\n",
    "        n_way=n_way,\n",
    "        n_query=n_query,\n",
    "        train_val_test_k_factors=train_val_test_k_factors,\n",
    "        pickle_path=pickle_path,\n",
    "        x_transform_func=x_transform,\n",
    "    )\n",
    "\n",
    "    train, val, test = eaf.get_train(), eaf.get_val(), eaf.get_test()\n",
    "    train = Lazy_Iterable_Wrapper(train, episode_transform)\n",
    "    val = Lazy_Iterable_Wrapper(val, episode_transform)\n",
    "    test = Lazy_Iterable_Wrapper(test, episode_transform)\n",
    "\n",
    "    if source_or_target_dataset==\"source\":\n",
    "        train_original_source.append(train)\n",
    "        val_original_source.append(val)\n",
    "        test_original_source.append(test)\n",
    "\n",
    "        p.domains_source.extend(\n",
    "            [domain_prefix + str(u) for u in domains]\n",
    "        )\n",
    "    elif source_or_target_dataset==\"target\":\n",
    "        train_original_target.append(train)\n",
    "        val_original_target.append(val)\n",
    "        test_original_target.append(test)\n",
    "        p.domains_target.extend(\n",
    "            [domain_prefix + str(u) for u in domains]\n",
    "        )\n",
    "    else:\n",
    "        raise Exception(f\"invalid source_or_target_dataset: {source_or_target_dataset}\")\n",
    "    "
   ]
  },
  {
   "cell_type": "code",
   "execution_count": 13,
   "id": "fe266617",
   "metadata": {
    "execution": {
     "iopub.execute_input": "2022-03-10T22:59:07.747804Z",
     "iopub.status.busy": "2022-03-10T22:59:07.747402Z",
     "iopub.status.idle": "2022-03-10T23:00:28.953819Z",
     "shell.execute_reply": "2022-03-10T23:00:28.953356Z"
    },
    "papermill": {
     "duration": 81.221594,
     "end_time": "2022-03-10T23:00:28.953931",
     "exception": false,
     "start_time": "2022-03-10T22:59:07.732337",
     "status": "completed"
    },
    "tags": []
   },
   "outputs": [],
   "source": [
    "for ds in p.datasets:\n",
    "    add_dataset(**ds)"
   ]
  },
  {
   "cell_type": "code",
   "execution_count": 14,
   "id": "b90d65ac",
   "metadata": {
    "execution": {
     "iopub.execute_input": "2022-03-10T23:00:28.990161Z",
     "iopub.status.busy": "2022-03-10T23:00:28.989902Z",
     "iopub.status.idle": "2022-03-10T23:00:29.005571Z",
     "shell.execute_reply": "2022-03-10T23:00:29.005200Z"
    },
    "papermill": {
     "duration": 0.031038,
     "end_time": "2022-03-10T23:00:29.005650",
     "exception": false,
     "start_time": "2022-03-10T23:00:28.974612",
     "status": "completed"
    },
    "tags": []
   },
   "outputs": [],
   "source": [
    "# from steves_utils.CORES.utils import (\n",
    "#     ALL_NODES,\n",
    "#     ALL_NODES_MINIMUM_1000_EXAMPLES,\n",
    "#     ALL_DAYS\n",
    "# )\n",
    "\n",
    "# add_dataset(\n",
    "#     labels=ALL_NODES,\n",
    "#     domains = ALL_DAYS,\n",
    "#     num_examples_per_domain_per_label=100,\n",
    "#     pickle_path=os.path.join(get_datasets_base_path(), \"cores.stratified_ds.2022A.pkl\"),\n",
    "#     source_or_target_dataset=\"target\",\n",
    "#     x_transform_func=global_x_transform_func,\n",
    "#     domain_modifier=lambda u: f\"cores_{u}\"\n",
    "# )"
   ]
  },
  {
   "cell_type": "code",
   "execution_count": 15,
   "id": "76db484d",
   "metadata": {
    "execution": {
     "iopub.execute_input": "2022-03-10T23:00:29.038248Z",
     "iopub.status.busy": "2022-03-10T23:00:29.037982Z",
     "iopub.status.idle": "2022-03-10T23:00:29.053474Z",
     "shell.execute_reply": "2022-03-10T23:00:29.052988Z"
    },
    "papermill": {
     "duration": 0.030796,
     "end_time": "2022-03-10T23:00:29.053575",
     "exception": false,
     "start_time": "2022-03-10T23:00:29.022779",
     "status": "completed"
    },
    "tags": []
   },
   "outputs": [],
   "source": [
    "# from steves_utils.ORACLE.utils_v2 import (\n",
    "#     ALL_DISTANCES_FEET,\n",
    "#     ALL_RUNS,\n",
    "#     ALL_SERIAL_NUMBERS,\n",
    "# )\n",
    "\n",
    "\n",
    "# add_dataset(\n",
    "#     labels=ALL_SERIAL_NUMBERS,\n",
    "#     domains = list(set(ALL_DISTANCES_FEET) - {2,62}),\n",
    "#     num_examples_per_domain_per_label=100,\n",
    "#     pickle_path=os.path.join(get_datasets_base_path(), \"oracle.Run2_framed_2000Examples_stratified_ds.2022A.pkl\"),\n",
    "#     source_or_target_dataset=\"source\",\n",
    "#     x_transform_func=global_x_transform_func,\n",
    "#     domain_modifier=lambda u: f\"oracle1_{u}\"\n",
    "# )\n"
   ]
  },
  {
   "cell_type": "code",
   "execution_count": 16,
   "id": "97dea9d2",
   "metadata": {
    "execution": {
     "iopub.execute_input": "2022-03-10T23:00:29.089183Z",
     "iopub.status.busy": "2022-03-10T23:00:29.088933Z",
     "iopub.status.idle": "2022-03-10T23:00:29.099482Z",
     "shell.execute_reply": "2022-03-10T23:00:29.099227Z"
    },
    "papermill": {
     "duration": 0.025398,
     "end_time": "2022-03-10T23:00:29.099538",
     "exception": false,
     "start_time": "2022-03-10T23:00:29.074140",
     "status": "completed"
    },
    "tags": []
   },
   "outputs": [],
   "source": [
    "# from steves_utils.ORACLE.utils_v2 import (\n",
    "#     ALL_DISTANCES_FEET,\n",
    "#     ALL_RUNS,\n",
    "#     ALL_SERIAL_NUMBERS,\n",
    "# )\n",
    "\n",
    "\n",
    "# add_dataset(\n",
    "#     labels=ALL_SERIAL_NUMBERS,\n",
    "#     domains = list(set(ALL_DISTANCES_FEET) - {2,62,56}),\n",
    "#     num_examples_per_domain_per_label=100,\n",
    "#     pickle_path=os.path.join(get_datasets_base_path(), \"oracle.Run2_framed_2000Examples_stratified_ds.2022A.pkl\"),\n",
    "#     source_or_target_dataset=\"source\",\n",
    "#     x_transform_func=global_x_transform_func,\n",
    "#     domain_modifier=lambda u: f\"oracle2_{u}\"\n",
    "# )"
   ]
  },
  {
   "cell_type": "code",
   "execution_count": 17,
   "id": "6f289866",
   "metadata": {
    "execution": {
     "iopub.execute_input": "2022-03-10T23:00:29.131613Z",
     "iopub.status.busy": "2022-03-10T23:00:29.131364Z",
     "iopub.status.idle": "2022-03-10T23:00:29.142642Z",
     "shell.execute_reply": "2022-03-10T23:00:29.142163Z"
    },
    "papermill": {
     "duration": 0.026176,
     "end_time": "2022-03-10T23:00:29.142744",
     "exception": false,
     "start_time": "2022-03-10T23:00:29.116568",
     "status": "completed"
    },
    "tags": []
   },
   "outputs": [],
   "source": [
    "# add_dataset(\n",
    "#     labels=list(range(19)),\n",
    "#     domains = [0,1,2],\n",
    "#     num_examples_per_domain_per_label=100,\n",
    "#     pickle_path=os.path.join(get_datasets_base_path(), \"metehan.stratified_ds.2022A.pkl\"),\n",
    "#     source_or_target_dataset=\"target\",\n",
    "#     x_transform_func=global_x_transform_func,\n",
    "#     domain_modifier=lambda u: f\"met_{u}\"\n",
    "# )"
   ]
  },
  {
   "cell_type": "code",
   "execution_count": 18,
   "id": "86a863c3",
   "metadata": {
    "execution": {
     "iopub.execute_input": "2022-03-10T23:00:29.179301Z",
     "iopub.status.busy": "2022-03-10T23:00:29.174565Z",
     "iopub.status.idle": "2022-03-10T23:00:29.188081Z",
     "shell.execute_reply": "2022-03-10T23:00:29.187713Z"
    },
    "papermill": {
     "duration": 0.029289,
     "end_time": "2022-03-10T23:00:29.188158",
     "exception": false,
     "start_time": "2022-03-10T23:00:29.158869",
     "status": "completed"
    },
    "tags": []
   },
   "outputs": [],
   "source": [
    "# # from steves_utils.wisig.utils import (\n",
    "# #     ALL_NODES_MINIMUM_100_EXAMPLES,\n",
    "# #     ALL_NODES_MINIMUM_500_EXAMPLES,\n",
    "# #     ALL_NODES_MINIMUM_1000_EXAMPLES,\n",
    "# #     ALL_DAYS\n",
    "# # )\n",
    "\n",
    "# import steves_utils.wisig.utils as wisig\n",
    "\n",
    "\n",
    "# add_dataset(\n",
    "#     labels=wisig.ALL_NODES_MINIMUM_100_EXAMPLES,\n",
    "#     domains = wisig.ALL_DAYS,\n",
    "#     num_examples_per_domain_per_label=100,\n",
    "#     pickle_path=os.path.join(get_datasets_base_path(), \"wisig.node3-19.stratified_ds.2022A.pkl\"),\n",
    "#     source_or_target_dataset=\"target\",\n",
    "#     x_transform_func=global_x_transform_func,\n",
    "#     domain_modifier=lambda u: f\"wisig_{u}\"\n",
    "# )"
   ]
  },
  {
   "cell_type": "code",
   "execution_count": 19,
   "id": "fd5442bc",
   "metadata": {
    "execution": {
     "iopub.execute_input": "2022-03-10T23:00:29.226577Z",
     "iopub.status.busy": "2022-03-10T23:00:29.226247Z",
     "iopub.status.idle": "2022-03-10T23:00:29.242695Z",
     "shell.execute_reply": "2022-03-10T23:00:29.242213Z"
    },
    "papermill": {
     "duration": 0.035097,
     "end_time": "2022-03-10T23:00:29.242796",
     "exception": false,
     "start_time": "2022-03-10T23:00:29.207699",
     "status": "completed"
    },
    "tags": []
   },
   "outputs": [],
   "source": [
    "###################################\n",
    "# Build the dataset\n",
    "###################################\n",
    "train_original_source = Iterable_Aggregator(train_original_source, p.seed)\n",
    "val_original_source = Iterable_Aggregator(val_original_source, p.seed)\n",
    "test_original_source = Iterable_Aggregator(test_original_source, p.seed)\n",
    "\n",
    "\n",
    "train_original_target = Iterable_Aggregator(train_original_target, p.seed)\n",
    "val_original_target = Iterable_Aggregator(val_original_target, p.seed)\n",
    "test_original_target = Iterable_Aggregator(test_original_target, p.seed)\n",
    "\n",
    "# For CNN We only use X and Y. And we only train on the source.\n",
    "# Properly form the data using a transform lambda and Lazy_Iterable_Wrapper. Finally wrap them in a dataloader\n",
    "\n",
    "transform_lambda = lambda ex: ex[1] # Original is (<domain>, <episode>) so we strip down to episode only\n",
    "\n",
    "train_processed_source = Lazy_Iterable_Wrapper(train_original_source, transform_lambda)\n",
    "val_processed_source   = Lazy_Iterable_Wrapper(val_original_source, transform_lambda)\n",
    "test_processed_source  = Lazy_Iterable_Wrapper(test_original_source, transform_lambda)\n",
    "\n",
    "train_processed_target = Lazy_Iterable_Wrapper(train_original_target, transform_lambda)\n",
    "val_processed_target   = Lazy_Iterable_Wrapper(val_original_target, transform_lambda)\n",
    "test_processed_target  = Lazy_Iterable_Wrapper(test_original_target, transform_lambda)\n",
    "\n",
    "datasets = EasyDict({\n",
    "    \"source\": {\n",
    "        \"original\": {\"train\":train_original_source, \"val\":val_original_source, \"test\":test_original_source},\n",
    "        \"processed\": {\"train\":train_processed_source, \"val\":val_processed_source, \"test\":test_processed_source}\n",
    "    },\n",
    "    \"target\": {\n",
    "        \"original\": {\"train\":train_original_target, \"val\":val_original_target, \"test\":test_original_target},\n",
    "        \"processed\": {\"train\":train_processed_target, \"val\":val_processed_target, \"test\":test_processed_target}\n",
    "    },\n",
    "})"
   ]
  },
  {
   "cell_type": "code",
   "execution_count": 20,
   "id": "5b3c01fc",
   "metadata": {
    "execution": {
     "iopub.execute_input": "2022-03-10T23:00:29.279785Z",
     "iopub.status.busy": "2022-03-10T23:00:29.279271Z",
     "iopub.status.idle": "2022-03-10T23:00:42.966665Z",
     "shell.execute_reply": "2022-03-10T23:00:42.966992Z"
    },
    "papermill": {
     "duration": 13.704081,
     "end_time": "2022-03-10T23:00:42.967076",
     "exception": false,
     "start_time": "2022-03-10T23:00:29.262995",
     "status": "completed"
    },
    "tags": []
   },
   "outputs": [
    {
     "name": "stdout",
     "output_type": "stream",
     "text": [
      "{'ORACLE.run132', 'ORACLE.run114', 'ORACLE.run150', 'ORACLE.run18', 'ORACLE.run138', 'ORACLE.run144', 'ORACLE.run120', 'ORACLE.run126'}\n"
     ]
    },
    {
     "name": "stdout",
     "output_type": "stream",
     "text": [
      "{'Wisig_2', 'Wisig_1', 'Wisig_4', 'Wisig_3'}\n"
     ]
    },
    {
     "name": "stdout",
     "output_type": "stream",
     "text": [
      "tensor([[[-0.0219, -0.3946,  0.4055,  ..., -0.3726, -0.3178,  0.6357],\n",
      "         [-0.6685,  0.2630, -0.1425,  ...,  0.0767, -1.0960,  0.1534]],\n",
      "\n",
      "        [[ 0.4965, -0.7904, -1.5302,  ...,  0.4864,  0.0608, -0.3445],\n",
      "         [-0.1520, -0.4459, -1.5808,  ..., -0.5168,  0.3344, -0.5675]],\n",
      "\n",
      "        [[-0.9659, -0.5089,  0.1142,  ...,  0.1350,  1.5786,  1.2151],\n",
      "         [-0.2181,  0.3739, -0.4154,  ..., -1.6721,  0.0000, -0.0312]],\n",
      "\n",
      "        ...,\n",
      "\n",
      "        [[-0.0140,  0.7067, -0.0840,  ..., -0.9517, -1.5324,  0.9866],\n",
      "         [ 1.3435, -0.9656, -0.5948,  ..., -0.1539,  0.2309, -1.0426]],\n",
      "\n",
      "        [[-0.9809, -1.5211, -1.8267,  ..., -0.9454,  0.6113,  0.2203],\n",
      "         [ 1.2581,  0.0355,  1.2581,  ..., -0.3554,  0.8174, -0.2132]],\n",
      "\n",
      "        [[ 1.4691, -0.7845, -0.6632,  ..., -0.8915, -0.4422, -0.0071],\n",
      "         [-0.5206,  1.0983,  0.0071,  ...,  1.6973,  0.2496,  1.1839]]])\n"
     ]
    }
   ],
   "source": [
    "from steves_utils.transforms import get_average_magnitude, get_average_power\n",
    "\n",
    "print(set([u for u,_ in val_original_source]))\n",
    "print(set([u for u,_ in val_original_target]))\n",
    "\n",
    "s_x, s_y, q_x, q_y, _ = next(iter(train_processed_source))\n",
    "print(s_x)\n",
    "\n",
    "# for ds in [\n",
    "#     train_processed_source,\n",
    "#     val_processed_source,\n",
    "#     test_processed_source,\n",
    "#     train_processed_target,\n",
    "#     val_processed_target,\n",
    "#     test_processed_target\n",
    "# ]:\n",
    "#     for s_x, s_y, q_x, q_y, _ in ds:\n",
    "#         for X in (s_x, q_x):\n",
    "#             for x in X:\n",
    "#                 assert np.isclose(get_average_magnitude(x.numpy()), 1.0)\n",
    "#                 assert np.isclose(get_average_power(x.numpy()), 1.0)\n",
    "                "
   ]
  },
  {
   "cell_type": "code",
   "execution_count": 21,
   "id": "bbdacba1",
   "metadata": {
    "execution": {
     "iopub.execute_input": "2022-03-10T23:00:43.000171Z",
     "iopub.status.busy": "2022-03-10T23:00:42.999764Z",
     "iopub.status.idle": "2022-03-10T23:00:43.054473Z",
     "shell.execute_reply": "2022-03-10T23:00:43.054197Z"
    },
    "papermill": {
     "duration": 0.072268,
     "end_time": "2022-03-10T23:00:43.054537",
     "exception": false,
     "start_time": "2022-03-10T23:00:42.982269",
     "status": "completed"
    },
    "tags": []
   },
   "outputs": [
    {
     "name": "stdout",
     "output_type": "stream",
     "text": [
      "(2, 256)\n"
     ]
    }
   ],
   "source": [
    "###################################\n",
    "# Build the model\n",
    "###################################\n",
    "model = Steves_Prototypical_Network(x_net, device=p.device, x_shape=(2,256))\n",
    "optimizer = Adam(params=model.parameters(), lr=p.lr)"
   ]
  },
  {
   "cell_type": "code",
   "execution_count": 22,
   "id": "22b39ac5",
   "metadata": {
    "execution": {
     "iopub.execute_input": "2022-03-10T23:00:43.086568Z",
     "iopub.status.busy": "2022-03-10T23:00:43.086171Z",
     "iopub.status.idle": "2022-03-11T00:30:19.677992Z",
     "shell.execute_reply": "2022-03-11T00:30:19.677757Z"
    },
    "papermill": {
     "duration": 5376.608743,
     "end_time": "2022-03-11T00:30:19.678052",
     "exception": false,
     "start_time": "2022-03-10T23:00:43.069309",
     "status": "completed"
    },
    "tags": []
   },
   "outputs": [
    {
     "name": "stdout",
     "output_type": "stream",
     "text": [
      "epoch: 1, [batch: 1 / 33600], examples_per_second: 9.9796, train_label_loss: 2.8242, \n"
     ]
    },
    {
     "name": "stdout",
     "output_type": "stream",
     "text": [
      "epoch: 1, [batch: 3360 / 33600], examples_per_second: 3164.2430, train_label_loss: 0.9980, \n"
     ]
    },
    {
     "name": "stdout",
     "output_type": "stream",
     "text": [
      "epoch: 1, [batch: 6720 / 33600], examples_per_second: 3151.4691, train_label_loss: 1.6168, \n"
     ]
    },
    {
     "name": "stdout",
     "output_type": "stream",
     "text": [
      "epoch: 1, [batch: 10080 / 33600], examples_per_second: 3161.8378, train_label_loss: 0.7598, \n"
     ]
    },
    {
     "name": "stdout",
     "output_type": "stream",
     "text": [
      "epoch: 1, [batch: 13440 / 33600], examples_per_second: 3151.4425, train_label_loss: 0.8059, \n"
     ]
    },
    {
     "name": "stdout",
     "output_type": "stream",
     "text": [
      "epoch: 1, [batch: 16800 / 33600], examples_per_second: 3163.7419, train_label_loss: 0.7692, \n"
     ]
    },
    {
     "name": "stdout",
     "output_type": "stream",
     "text": [
      "epoch: 1, [batch: 20160 / 33600], examples_per_second: 3169.1981, train_label_loss: 0.7086, \n"
     ]
    },
    {
     "name": "stdout",
     "output_type": "stream",
     "text": [
      "epoch: 1, [batch: 23520 / 33600], examples_per_second: 3153.3055, train_label_loss: 0.6452, \n"
     ]
    },
    {
     "name": "stdout",
     "output_type": "stream",
     "text": [
      "epoch: 1, [batch: 26880 / 33600], examples_per_second: 3168.4440, train_label_loss: 0.7721, \n"
     ]
    },
    {
     "name": "stdout",
     "output_type": "stream",
     "text": [
      "epoch: 1, [batch: 30240 / 33600], examples_per_second: 3163.0513, train_label_loss: 1.1704, \n"
     ]
    },
    {
     "name": "stdout",
     "output_type": "stream",
     "text": [
      "=============================================================\n",
      "epoch: 1, source_val_acc_label: 0.6546, target_val_acc_label: 0.7059, source_val_label_loss: 0.9439, target_val_label_loss: 8.0350, \n",
      "=============================================================\n"
     ]
    },
    {
     "name": "stdout",
     "output_type": "stream",
     "text": [
      "New best\n"
     ]
    },
    {
     "name": "stdout",
     "output_type": "stream",
     "text": [
      "epoch: 2, [batch: 1 / 33600], examples_per_second: 1.1786, train_label_loss: 1.0351, \n"
     ]
    },
    {
     "name": "stdout",
     "output_type": "stream",
     "text": [
      "epoch: 2, [batch: 3360 / 33600], examples_per_second: 3181.6241, train_label_loss: 0.7130, \n"
     ]
    },
    {
     "name": "stdout",
     "output_type": "stream",
     "text": [
      "epoch: 2, [batch: 6720 / 33600], examples_per_second: 3184.0061, train_label_loss: 0.9656, \n"
     ]
    },
    {
     "name": "stdout",
     "output_type": "stream",
     "text": [
      "epoch: 2, [batch: 10080 / 33600], examples_per_second: 3186.8921, train_label_loss: 0.5155, \n"
     ]
    },
    {
     "name": "stdout",
     "output_type": "stream",
     "text": [
      "epoch: 2, [batch: 13440 / 33600], examples_per_second: 3184.7114, train_label_loss: 0.5436, \n"
     ]
    },
    {
     "name": "stdout",
     "output_type": "stream",
     "text": [
      "epoch: 2, [batch: 16800 / 33600], examples_per_second: 3189.0410, train_label_loss: 1.0209, \n"
     ]
    },
    {
     "name": "stdout",
     "output_type": "stream",
     "text": [
      "epoch: 2, [batch: 20160 / 33600], examples_per_second: 3194.1496, train_label_loss: 1.1457, \n"
     ]
    },
    {
     "name": "stdout",
     "output_type": "stream",
     "text": [
      "epoch: 2, [batch: 23520 / 33600], examples_per_second: 3173.9943, train_label_loss: 0.4718, \n"
     ]
    },
    {
     "name": "stdout",
     "output_type": "stream",
     "text": [
      "epoch: 2, [batch: 26880 / 33600], examples_per_second: 3184.4542, train_label_loss: 0.2240, \n"
     ]
    },
    {
     "name": "stdout",
     "output_type": "stream",
     "text": [
      "epoch: 2, [batch: 30240 / 33600], examples_per_second: 3196.2408, train_label_loss: 0.8199, \n"
     ]
    },
    {
     "name": "stdout",
     "output_type": "stream",
     "text": [
      "=============================================================\n",
      "epoch: 2, source_val_acc_label: 0.7047, target_val_acc_label: 0.7464, source_val_label_loss: 0.7972, target_val_label_loss: 5.7864, \n",
      "=============================================================\n"
     ]
    },
    {
     "name": "stdout",
     "output_type": "stream",
     "text": [
      "New best\n"
     ]
    },
    {
     "name": "stdout",
     "output_type": "stream",
     "text": [
      "epoch: 3, [batch: 1 / 33600], examples_per_second: 1.1759, train_label_loss: 0.3797, \n"
     ]
    },
    {
     "name": "stdout",
     "output_type": "stream",
     "text": [
      "epoch: 3, [batch: 3360 / 33600], examples_per_second: 3182.2787, train_label_loss: 0.5259, \n"
     ]
    },
    {
     "name": "stdout",
     "output_type": "stream",
     "text": [
      "epoch: 3, [batch: 6720 / 33600], examples_per_second: 3184.5786, train_label_loss: 0.6886, \n"
     ]
    },
    {
     "name": "stdout",
     "output_type": "stream",
     "text": [
      "epoch: 3, [batch: 10080 / 33600], examples_per_second: 3183.0758, train_label_loss: 0.3369, \n"
     ]
    },
    {
     "name": "stdout",
     "output_type": "stream",
     "text": [
      "epoch: 3, [batch: 13440 / 33600], examples_per_second: 3177.7619, train_label_loss: 0.5781, \n"
     ]
    },
    {
     "name": "stdout",
     "output_type": "stream",
     "text": [
      "epoch: 3, [batch: 16800 / 33600], examples_per_second: 3188.3322, train_label_loss: 0.8837, \n"
     ]
    },
    {
     "name": "stdout",
     "output_type": "stream",
     "text": [
      "epoch: 3, [batch: 20160 / 33600], examples_per_second: 3195.4809, train_label_loss: 1.0724, \n"
     ]
    },
    {
     "name": "stdout",
     "output_type": "stream",
     "text": [
      "epoch: 3, [batch: 23520 / 33600], examples_per_second: 3186.1027, train_label_loss: 0.7567, \n"
     ]
    },
    {
     "name": "stdout",
     "output_type": "stream",
     "text": [
      "epoch: 3, [batch: 26880 / 33600], examples_per_second: 3198.2729, train_label_loss: 0.4032, \n"
     ]
    },
    {
     "name": "stdout",
     "output_type": "stream",
     "text": [
      "epoch: 3, [batch: 30240 / 33600], examples_per_second: 3190.7107, train_label_loss: 0.5920, \n"
     ]
    },
    {
     "name": "stdout",
     "output_type": "stream",
     "text": [
      "=============================================================\n",
      "epoch: 3, source_val_acc_label: 0.7287, target_val_acc_label: 0.7507, source_val_label_loss: 0.7506, target_val_label_loss: 7.9276, \n",
      "=============================================================\n"
     ]
    },
    {
     "name": "stdout",
     "output_type": "stream",
     "text": [
      "epoch: 4, [batch: 1 / 33600], examples_per_second: 1.1833, train_label_loss: 0.4826, \n"
     ]
    },
    {
     "name": "stdout",
     "output_type": "stream",
     "text": [
      "epoch: 4, [batch: 3360 / 33600], examples_per_second: 3174.8850, train_label_loss: 0.5515, \n"
     ]
    },
    {
     "name": "stdout",
     "output_type": "stream",
     "text": [
      "epoch: 4, [batch: 6720 / 33600], examples_per_second: 3184.2717, train_label_loss: 1.1393, \n"
     ]
    },
    {
     "name": "stdout",
     "output_type": "stream",
     "text": [
      "epoch: 4, [batch: 10080 / 33600], examples_per_second: 3178.7337, train_label_loss: 0.6062, \n"
     ]
    },
    {
     "name": "stdout",
     "output_type": "stream",
     "text": [
      "epoch: 4, [batch: 13440 / 33600], examples_per_second: 3176.5512, train_label_loss: 0.3490, \n"
     ]
    },
    {
     "name": "stdout",
     "output_type": "stream",
     "text": [
      "epoch: 4, [batch: 16800 / 33600], examples_per_second: 3189.1858, train_label_loss: 0.6807, \n"
     ]
    },
    {
     "name": "stdout",
     "output_type": "stream",
     "text": [
      "epoch: 4, [batch: 20160 / 33600], examples_per_second: 3192.5914, train_label_loss: 0.5981, \n"
     ]
    },
    {
     "name": "stdout",
     "output_type": "stream",
     "text": [
      "epoch: 4, [batch: 23520 / 33600], examples_per_second: 3179.1888, train_label_loss: 0.3549, \n"
     ]
    },
    {
     "name": "stdout",
     "output_type": "stream",
     "text": [
      "epoch: 4, [batch: 26880 / 33600], examples_per_second: 3193.0566, train_label_loss: 0.6068, \n"
     ]
    },
    {
     "name": "stdout",
     "output_type": "stream",
     "text": [
      "epoch: 4, [batch: 30240 / 33600], examples_per_second: 3188.4962, train_label_loss: 0.4219, \n"
     ]
    },
    {
     "name": "stdout",
     "output_type": "stream",
     "text": [
      "=============================================================\n",
      "epoch: 4, source_val_acc_label: 0.7400, target_val_acc_label: 0.7793, source_val_label_loss: 0.7272, target_val_label_loss: 8.4452, \n",
      "=============================================================\n"
     ]
    },
    {
     "name": "stdout",
     "output_type": "stream",
     "text": [
      "epoch: 5, [batch: 1 / 33600], examples_per_second: 1.1815, train_label_loss: 0.8055, \n"
     ]
    },
    {
     "name": "stdout",
     "output_type": "stream",
     "text": [
      "epoch: 5, [batch: 3360 / 33600], examples_per_second: 3173.2279, train_label_loss: 0.4695, \n"
     ]
    },
    {
     "name": "stdout",
     "output_type": "stream",
     "text": [
      "epoch: 5, [batch: 6720 / 33600], examples_per_second: 3184.0939, train_label_loss: 0.2439, \n"
     ]
    },
    {
     "name": "stdout",
     "output_type": "stream",
     "text": [
      "epoch: 5, [batch: 10080 / 33600], examples_per_second: 3182.1793, train_label_loss: 0.5063, \n"
     ]
    },
    {
     "name": "stdout",
     "output_type": "stream",
     "text": [
      "epoch: 5, [batch: 13440 / 33600], examples_per_second: 3176.4338, train_label_loss: 0.7458, \n"
     ]
    },
    {
     "name": "stdout",
     "output_type": "stream",
     "text": [
      "epoch: 5, [batch: 16800 / 33600], examples_per_second: 3192.6011, train_label_loss: 0.5570, \n"
     ]
    },
    {
     "name": "stdout",
     "output_type": "stream",
     "text": [
      "epoch: 5, [batch: 20160 / 33600], examples_per_second: 3176.4604, train_label_loss: 0.7355, \n"
     ]
    },
    {
     "name": "stdout",
     "output_type": "stream",
     "text": [
      "epoch: 5, [batch: 23520 / 33600], examples_per_second: 3181.1142, train_label_loss: 0.3218, \n"
     ]
    },
    {
     "name": "stdout",
     "output_type": "stream",
     "text": [
      "epoch: 5, [batch: 26880 / 33600], examples_per_second: 3188.6198, train_label_loss: 0.2430, \n"
     ]
    },
    {
     "name": "stdout",
     "output_type": "stream",
     "text": [
      "epoch: 5, [batch: 30240 / 33600], examples_per_second: 3186.6273, train_label_loss: 0.6768, \n"
     ]
    },
    {
     "name": "stdout",
     "output_type": "stream",
     "text": [
      "=============================================================\n",
      "epoch: 5, source_val_acc_label: 0.7386, target_val_acc_label: 0.7743, source_val_label_loss: 0.7340, target_val_label_loss: 9.0733, \n",
      "=============================================================\n"
     ]
    },
    {
     "name": "stdout",
     "output_type": "stream",
     "text": [
      "epoch: 6, [batch: 1 / 33600], examples_per_second: 1.1802, train_label_loss: 0.4256, \n"
     ]
    },
    {
     "name": "stdout",
     "output_type": "stream",
     "text": [
      "epoch: 6, [batch: 3360 / 33600], examples_per_second: 3178.6084, train_label_loss: 0.7511, \n"
     ]
    },
    {
     "name": "stdout",
     "output_type": "stream",
     "text": [
      "epoch: 6, [batch: 6720 / 33600], examples_per_second: 3176.8571, train_label_loss: 0.4106, \n"
     ]
    },
    {
     "name": "stdout",
     "output_type": "stream",
     "text": [
      "epoch: 6, [batch: 10080 / 33600], examples_per_second: 3186.3629, train_label_loss: 0.4560, \n"
     ]
    },
    {
     "name": "stdout",
     "output_type": "stream",
     "text": [
      "epoch: 6, [batch: 13440 / 33600], examples_per_second: 3177.5442, train_label_loss: 0.2890, \n"
     ]
    },
    {
     "name": "stdout",
     "output_type": "stream",
     "text": [
      "epoch: 6, [batch: 16800 / 33600], examples_per_second: 3190.4944, train_label_loss: 0.2770, \n"
     ]
    },
    {
     "name": "stdout",
     "output_type": "stream",
     "text": [
      "epoch: 6, [batch: 20160 / 33600], examples_per_second: 3193.9730, train_label_loss: 0.5180, \n"
     ]
    },
    {
     "name": "stdout",
     "output_type": "stream",
     "text": [
      "epoch: 6, [batch: 23520 / 33600], examples_per_second: 3176.5817, train_label_loss: 0.4162, \n"
     ]
    },
    {
     "name": "stdout",
     "output_type": "stream",
     "text": [
      "epoch: 6, [batch: 26880 / 33600], examples_per_second: 3187.2262, train_label_loss: 0.7245, \n"
     ]
    },
    {
     "name": "stdout",
     "output_type": "stream",
     "text": [
      "epoch: 6, [batch: 30240 / 33600], examples_per_second: 3190.2096, train_label_loss: 0.3097, \n"
     ]
    },
    {
     "name": "stdout",
     "output_type": "stream",
     "text": [
      "=============================================================\n",
      "epoch: 6, source_val_acc_label: 0.7399, target_val_acc_label: 0.7826, source_val_label_loss: 0.7320, target_val_label_loss: 9.3979, \n",
      "=============================================================\n"
     ]
    },
    {
     "name": "stdout",
     "output_type": "stream",
     "text": [
      "Patience (3) exhausted\n"
     ]
    }
   ],
   "source": [
    "###################################\n",
    "# train\n",
    "###################################\n",
    "jig = PTN_Train_Eval_Test_Jig(model, p.BEST_MODEL_PATH, p.device)\n",
    "\n",
    "jig.train(\n",
    "    train_iterable=datasets.source.processed.train,\n",
    "    source_val_iterable=datasets.source.processed.val,\n",
    "    target_val_iterable=datasets.target.processed.val,\n",
    "    num_epochs=p.n_epoch,\n",
    "    num_logs_per_epoch=p.NUM_LOGS_PER_EPOCH,\n",
    "    patience=p.patience,\n",
    "    optimizer=optimizer,\n",
    "    criteria_for_best=p.criteria_for_best,\n",
    ")"
   ]
  },
  {
   "cell_type": "code",
   "execution_count": 23,
   "id": "31e8fabf",
   "metadata": {
    "execution": {
     "iopub.execute_input": "2022-03-11T00:30:19.734232Z",
     "iopub.status.busy": "2022-03-11T00:30:19.733972Z",
     "iopub.status.idle": "2022-03-11T00:30:19.752912Z",
     "shell.execute_reply": "2022-03-11T00:30:19.752520Z"
    },
    "papermill": {
     "duration": 0.048239,
     "end_time": "2022-03-11T00:30:19.753003",
     "exception": false,
     "start_time": "2022-03-11T00:30:19.704764",
     "status": "completed"
    },
    "tags": []
   },
   "outputs": [],
   "source": [
    "total_experiment_time_secs = time.time() - start_time_secs"
   ]
  },
  {
   "cell_type": "code",
   "execution_count": 24,
   "id": "87b9595b",
   "metadata": {
    "execution": {
     "iopub.execute_input": "2022-03-11T00:30:19.814804Z",
     "iopub.status.busy": "2022-03-11T00:30:19.814507Z",
     "iopub.status.idle": "2022-03-11T00:34:32.874407Z",
     "shell.execute_reply": "2022-03-11T00:34:32.873945Z"
    },
    "papermill": {
     "duration": 253.091754,
     "end_time": "2022-03-11T00:34:32.874521",
     "exception": false,
     "start_time": "2022-03-11T00:30:19.782767",
     "status": "completed"
    },
    "tags": []
   },
   "outputs": [],
   "source": [
    "###################################\n",
    "# Evaluate the model\n",
    "###################################\n",
    "source_test_label_accuracy, source_test_label_loss = jig.test(datasets.source.processed.test)\n",
    "target_test_label_accuracy, target_test_label_loss = jig.test(datasets.target.processed.test)\n",
    "\n",
    "source_val_label_accuracy, source_val_label_loss = jig.test(datasets.source.processed.val)\n",
    "target_val_label_accuracy, target_val_label_loss = jig.test(datasets.target.processed.val)\n",
    "\n",
    "history = jig.get_history()\n",
    "\n",
    "total_epochs_trained = len(history[\"epoch_indices\"])\n",
    "\n",
    "val_dl = Iterable_Aggregator((datasets.source.original.val,datasets.target.original.val))\n",
    "\n",
    "confusion = ptn_confusion_by_domain_over_dataloader(model, p.device, val_dl)\n",
    "per_domain_accuracy = per_domain_accuracy_from_confusion(confusion)\n",
    "\n",
    "# Add a key to per_domain_accuracy for if it was a source domain\n",
    "for domain, accuracy in per_domain_accuracy.items():\n",
    "    per_domain_accuracy[domain] = {\n",
    "        \"accuracy\": accuracy,\n",
    "        \"source?\": domain in p.domains_source\n",
    "    }\n",
    "\n",
    "# Do an independent accuracy assesment JUST TO BE SURE!\n",
    "# _source_test_label_accuracy = independent_accuracy_assesment(model, datasets.source.processed.test, p.device)\n",
    "# _target_test_label_accuracy = independent_accuracy_assesment(model, datasets.target.processed.test, p.device)\n",
    "# _source_val_label_accuracy = independent_accuracy_assesment(model, datasets.source.processed.val, p.device)\n",
    "# _target_val_label_accuracy = independent_accuracy_assesment(model, datasets.target.processed.val, p.device)\n",
    "\n",
    "# assert(_source_test_label_accuracy == source_test_label_accuracy)\n",
    "# assert(_target_test_label_accuracy == target_test_label_accuracy)\n",
    "# assert(_source_val_label_accuracy == source_val_label_accuracy)\n",
    "# assert(_target_val_label_accuracy == target_val_label_accuracy)\n",
    "\n",
    "experiment = {\n",
    "    \"experiment_name\": p.experiment_name,\n",
    "    \"parameters\": dict(p),\n",
    "    \"results\": {\n",
    "        \"source_test_label_accuracy\": source_test_label_accuracy,\n",
    "        \"source_test_label_loss\": source_test_label_loss,\n",
    "        \"target_test_label_accuracy\": target_test_label_accuracy,\n",
    "        \"target_test_label_loss\": target_test_label_loss,\n",
    "        \"source_val_label_accuracy\": source_val_label_accuracy,\n",
    "        \"source_val_label_loss\": source_val_label_loss,\n",
    "        \"target_val_label_accuracy\": target_val_label_accuracy,\n",
    "        \"target_val_label_loss\": target_val_label_loss,\n",
    "        \"total_epochs_trained\": total_epochs_trained,\n",
    "        \"total_experiment_time_secs\": total_experiment_time_secs,\n",
    "        \"confusion\": confusion,\n",
    "        \"per_domain_accuracy\": per_domain_accuracy,\n",
    "    },\n",
    "    \"history\": history,\n",
    "    \"dataset_metrics\": get_dataset_metrics(datasets, \"ptn\"),\n",
    "}"
   ]
  },
  {
   "cell_type": "code",
   "execution_count": 25,
   "id": "54a21829",
   "metadata": {
    "execution": {
     "iopub.execute_input": "2022-03-11T00:34:32.934674Z",
     "iopub.status.busy": "2022-03-11T00:34:32.934168Z",
     "iopub.status.idle": "2022-03-11T00:34:33.115963Z",
     "shell.execute_reply": "2022-03-11T00:34:33.115525Z"
    },
    "papermill": {
     "duration": 0.210308,
     "end_time": "2022-03-11T00:34:33.116070",
     "exception": false,
     "start_time": "2022-03-11T00:34:32.905762",
     "status": "completed"
    },
    "tags": []
   },
   "outputs": [
    {
     "data": {
      "image/png": "[encoded data removed]",
      "text/plain": [
       "<Figure size 1080x504 with 1 Axes>"
      ]
     },
     "metadata": {
      "needs_background": "light"
     },
     "output_type": "display_data"
    }
   ],
   "source": [
    "ax = get_loss_curve(experiment)\n",
    "plt.show()"
   ]
  },
  {
   "cell_type": "code",
   "execution_count": 26,
   "id": "fd8a0f60",
   "metadata": {
    "execution": {
     "iopub.execute_input": "2022-03-11T00:34:33.179167Z",
     "iopub.status.busy": "2022-03-11T00:34:33.177384Z",
     "iopub.status.idle": "2022-03-11T00:34:33.357917Z",
     "shell.execute_reply": "2022-03-11T00:34:33.358130Z"
    },
    "papermill": {
     "duration": 0.210595,
     "end_time": "2022-03-11T00:34:33.358211",
     "exception": false,
     "start_time": "2022-03-11T00:34:33.147616",
     "status": "completed"
    },
    "tags": []
   },
   "outputs": [
    {
     "data": {
      "text/plain": [
       "<matplotlib.axes._subplots.AxesSubplot at 0x7f58d0dbefa0>"
      ]
     },
     "execution_count": 26,
     "metadata": {},
     "output_type": "execute_result"
    },
    {
     "data": {
      "image/png": "[encoded data removed]",
      "text/plain": [
       "<Figure size 1080x504 with 1 Axes>"
      ]
     },
     "metadata": {
      "needs_background": "light"
     },
     "output_type": "display_data"
    }
   ],
   "source": [
    "get_results_table(experiment)"
   ]
  },
  {
   "cell_type": "code",
   "execution_count": 27,
   "id": "cf8dc689",
   "metadata": {
    "execution": {
     "iopub.execute_input": "2022-03-11T00:34:33.419152Z",
     "iopub.status.busy": "2022-03-11T00:34:33.418844Z",
     "iopub.status.idle": "2022-03-11T00:34:33.623221Z",
     "shell.execute_reply": "2022-03-11T00:34:33.622690Z"
    },
    "papermill": {
     "duration": 0.23546,
     "end_time": "2022-03-11T00:34:33.623329",
     "exception": false,
     "start_time": "2022-03-11T00:34:33.387869",
     "status": "completed"
    },
    "tags": []
   },
   "outputs": [
    {
     "data": {
      "text/plain": [
       "<matplotlib.axes._subplots.AxesSubplot at 0x7f58d0dd4d30>"
      ]
     },
     "execution_count": 27,
     "metadata": {},
     "output_type": "execute_result"
    },
    {
     "data": {
      "image/png": "[encoded data removed]",
      "text/plain": [
       "<Figure size 1080x504 with 1 Axes>"
      ]
     },
     "metadata": {
      "needs_background": "light"
     },
     "output_type": "display_data"
    }
   ],
   "source": [
    "get_domain_accuracies(experiment)"
   ]
  },
  {
   "cell_type": "code",
   "execution_count": 28,
   "id": "a74ae082",
   "metadata": {
    "execution": {
     "iopub.execute_input": "2022-03-11T00:34:33.689727Z",
     "iopub.status.busy": "2022-03-11T00:34:33.688208Z",
     "iopub.status.idle": "2022-03-11T00:34:33.706815Z",
     "shell.execute_reply": "2022-03-11T00:34:33.706336Z"
    },
    "papermill": {
     "duration": 0.04953,
     "end_time": "2022-03-11T00:34:33.706932",
     "exception": false,
     "start_time": "2022-03-11T00:34:33.657402",
     "status": "completed"
    },
    "tags": []
   },
   "outputs": [
    {
     "name": "stdout",
     "output_type": "stream",
     "text": [
      "Source Test Label Accuracy: 0.7030989583333334 Target Test Label Accuracy: 0.7431640625\n",
      "Source Val Label Accuracy: 0.7046614583333334 Target Val Label Accuracy: 0.7464192708333334\n"
     ]
    }
   ],
   "source": [
    "print(\"Source Test Label Accuracy:\", experiment[\"results\"][\"source_test_label_accuracy\"], \"Target Test Label Accuracy:\", experiment[\"results\"][\"target_test_label_accuracy\"])\n",
    "print(\"Source Val Label Accuracy:\", experiment[\"results\"][\"source_val_label_accuracy\"], \"Target Val Label Accuracy:\", experiment[\"results\"][\"target_val_label_accuracy\"])"
   ]
  },
  {
   "cell_type": "code",
   "execution_count": 29,
   "id": "dacca602",
   "metadata": {
    "execution": {
     "iopub.execute_input": "2022-03-11T00:34:33.773462Z",
     "iopub.status.busy": "2022-03-11T00:34:33.773211Z",
     "iopub.status.idle": "2022-03-11T00:34:33.786371Z",
     "shell.execute_reply": "2022-03-11T00:34:33.786772Z"
    },
    "papermill": {
     "duration": 0.045566,
     "end_time": "2022-03-11T00:34:33.786916",
     "exception": false,
     "start_time": "2022-03-11T00:34:33.741350",
     "status": "completed"
    },
    "tags": [
     "experiment_json"
    ]
   },
   "outputs": [
    {
     "data": {
      "text/plain": [
       "'{\"experiment_name\": \"tl_1_wisig-oracle.run1\", \"parameters\": {\"experiment_name\": \"tl_1_wisig-oracle.run1\", \"device\": \"cuda\", \"lr\": 0.001, \"seed\": 1337, \"dataset_seed\": 1337, \"n_shot\": 3, \"n_query\": 2, \"train_k_factor\": 3, \"val_k_factor\": 2, \"test_k_factor\": 2, \"torch_default_dtype\": \"torch.float32\", \"n_epoch\": 50, \"patience\": 3, \"criteria_for_best\": \"target_loss\", \"x_net\": [{\"class\": \"nnReshape\", \"kargs\": {\"shape\": [-1, 1, 2, 256]}}, {\"class\": \"Conv2d\", \"kargs\": {\"in_channels\": 1, \"out_channels\": 256, \"kernel_size\": [1, 7], \"bias\": false, \"padding\": [0, 3]}}, {\"class\": \"ReLU\", \"kargs\": {\"inplace\": true}}, {\"class\": \"BatchNorm2d\", \"kargs\": {\"num_features\": 256}}, {\"class\": \"Conv2d\", \"kargs\": {\"in_channels\": 256, \"out_channels\": 80, \"kernel_size\": [2, 7], \"bias\": true, \"padding\": [0, 3]}}, {\"class\": \"ReLU\", \"kargs\": {\"inplace\": true}}, {\"class\": \"BatchNorm2d\", \"kargs\": {\"num_features\": 80}}, {\"class\": \"Flatten\", \"kargs\": {}}, {\"class\": \"Linear\", \"kargs\": {\"in_features\": 20480, \"out_features\": 256}}, {\"class\": \"ReLU\", \"kargs\": {\"inplace\": true}}, {\"class\": \"BatchNorm1d\", \"kargs\": {\"num_features\": 256}}, {\"class\": \"Linear\", \"kargs\": {\"in_features\": 256, \"out_features\": 256}}], \"NUM_LOGS_PER_EPOCH\": 10, \"BEST_MODEL_PATH\": \"./best_model.pth\", \"n_way\": 16, \"datasets\": [{\"labels\": [\"1-10\", \"1-12\", \"1-14\", \"1-16\", \"1-18\", \"1-19\", \"1-8\", \"10-11\", \"10-17\", \"10-4\", \"10-7\", \"11-1\", \"11-10\", \"11-19\", \"11-20\", \"11-4\", \"11-7\", \"12-19\", \"12-20\", \"12-7\", \"13-14\", \"13-18\", \"13-19\", \"13-20\", \"13-3\", \"13-7\", \"14-10\", \"14-11\", \"14-12\", \"14-13\", \"14-14\", \"14-19\", \"14-20\", \"14-7\", \"14-8\", \"14-9\", \"15-1\", \"15-19\", \"15-6\", \"16-1\", \"16-16\", \"16-19\", \"16-20\", \"17-10\", \"17-11\", \"18-1\", \"18-10\", \"18-11\", \"18-12\", \"18-13\", \"18-14\", \"18-15\", \"18-16\", \"18-17\", \"18-19\", \"18-2\", \"18-20\", \"18-4\", \"18-5\", \"18-7\", \"18-8\", \"18-9\", \"19-1\", \"19-10\", \"19-11\", \"19-12\", \"19-13\", \"19-14\", \"19-15\", \"19-19\", \"19-2\", \"19-20\", \"19-3\", \"19-4\", \"19-6\", \"19-7\", \"19-8\", \"19-9\", \"2-1\", \"2-13\", \"2-15\", \"2-3\", \"2-4\", \"2-5\", \"2-6\", \"2-7\", \"2-8\", \"20-1\", \"20-12\", \"20-14\", \"20-15\", \"20-16\", \"20-18\", \"20-19\", \"20-20\", \"20-3\", \"20-4\", \"20-5\", \"20-7\", \"20-8\", \"3-1\", \"3-13\", \"3-18\", \"3-2\", \"3-8\", \"4-1\", \"4-10\", \"4-11\", \"5-1\", \"5-5\", \"6-1\", \"6-15\", \"6-6\", \"7-10\", \"7-11\", \"7-12\", \"7-13\", \"7-14\", \"7-7\", \"7-8\", \"7-9\", \"8-1\", \"8-13\", \"8-14\", \"8-18\", \"8-20\", \"8-3\", \"8-8\", \"9-1\", \"9-7\"], \"domains\": [1, 2, 3, 4], \"num_examples_per_domain_per_label\": 100, \"pickle_path\": \"/mnt/wd500GB/CSC500/csc500-main/datasets/wisig.node3-19.stratified_ds.2022A.pkl\", \"source_or_target_dataset\": \"target\", \"x_transforms\": [\"unit_mag\"], \"episode_transforms\": [], \"domain_prefix\": \"Wisig_\"}, {\"labels\": [\"3123D52\", \"3123D65\", \"3123D79\", \"3123D80\", \"3123D54\", \"3123D70\", \"3123D7B\", \"3123D89\", \"3123D58\", \"3123D76\", \"3123D7D\", \"3123EFE\", \"3123D64\", \"3123D78\", \"3123D7E\", \"3124E4A\"], \"domains\": [32, 38, 8, 44, 14, 50, 20, 26], \"num_examples_per_domain_per_label\": 10000, \"pickle_path\": \"/mnt/wd500GB/CSC500/csc500-main/datasets/oracle.Run1_10kExamples_stratified_ds.2022A.pkl\", \"source_or_target_dataset\": \"source\", \"x_transforms\": [\"unit_mag\"], \"episode_transforms\": [], \"domain_prefix\": \"ORACLE.run1\"}], \"domains_source\": [\"ORACLE.run132\", \"ORACLE.run138\", \"ORACLE.run18\", \"ORACLE.run144\", \"ORACLE.run114\", \"ORACLE.run150\", \"ORACLE.run120\", \"ORACLE.run126\"], \"domains_target\": [\"Wisig_1\", \"Wisig_2\", \"Wisig_3\", \"Wisig_4\"]}, \"results\": {\"source_test_label_accuracy\": 0.7030989583333334, \"source_test_label_loss\": 0.7983428835868835, \"target_test_label_accuracy\": 0.7431640625, \"target_test_label_loss\": 6.294545650482178, \"source_val_label_accuracy\": 0.7046614583333334, \"source_val_label_loss\": 0.7971685528755188, \"target_val_label_accuracy\": 0.7464192708333334, \"target_val_label_loss\": 5.786372184753418, \"total_epochs_trained\": 6, \"total_experiment_time_secs\": 5472.161211967468, \"confusion\": {\"ORACLE.run114\": {\"15\": {\"15\": 1161, \"7\": 38, \"5\": 1}, \"3\": {\"3\": 1023, \"14\": 47, \"4\": 109, \"2\": 12, \"0\": 3, \"1\": 1, \"13\": 2, \"5\": 2, \"10\": 1}, \"6\": {\"13\": 430, \"6\": 646, \"2\": 63, \"14\": 59, \"5\": 1, \"4\": 1}, \"1\": {\"1\": 1078, \"5\": 111, \"4\": 10, \"7\": 1}, \"8\": {\"8\": 1199, \"0\": 1}, \"10\": {\"10\": 1138, \"0\": 61, \"3\": 1}, \"9\": {\"9\": 1193, \"12\": 3, \"11\": 4}, \"13\": {\"6\": 453, \"14\": 203, \"2\": 132, \"13\": 392, \"5\": 15, \"4\": 4, \"10\": 1}, \"12\": {\"12\": 1195, \"9\": 5}, \"5\": {\"4\": 202, \"2\": 47, \"5\": 786, \"1\": 144, \"7\": 3, \"3\": 14, \"14\": 1, \"15\": 3}, \"0\": {\"0\": 1038, \"10\": 108, \"11\": 35, \"3\": 19}, \"2\": {\"14\": 180, \"13\": 78, \"2\": 551, \"4\": 108, \"15\": 27, \"5\": 141, \"6\": 54, \"3\": 58, \"1\": 3}, \"11\": {\"9\": 40, \"11\": 1100, \"0\": 51, \"10\": 9}, \"14\": {\"14\": 951, \"13\": 96, \"6\": 53, \"3\": 18, \"2\": 81, \"10\": 1}, \"7\": {\"7\": 1173, \"1\": 4, \"15\": 21, \"5\": 2}, \"4\": {\"2\": 60, \"4\": 868, \"3\": 109, \"5\": 148, \"14\": 7, \"1\": 8}}, \"ORACLE.run120\": {\"3\": {\"12\": 255, \"3\": 451, \"1\": 22, \"9\": 202, \"2\": 79, \"7\": 37, \"5\": 44, \"4\": 80, \"8\": 15, \"0\": 10, \"15\": 5}, \"15\": {\"5\": 111, \"15\": 688, \"1\": 194, \"0\": 107, \"13\": 58, \"12\": 32, \"9\": 4, \"2\": 5, \"3\": 1}, \"8\": {\"8\": 867, \"4\": 143, \"7\": 83, \"10\": 37, \"3\": 18, \"14\": 37, \"6\": 10, \"2\": 2, \"9\": 3}, \"4\": {\"4\": 936, \"3\": 77, \"10\": 27, \"5\": 1, \"8\": 135, \"12\": 14, \"0\": 2, \"7\": 5, \"9\": 3}, \"14\": {\"14\": 930, \"6\": 140, \"10\": 100, \"8\": 27, \"7\": 3}, \"0\": {\"12\": 43, \"5\": 310, \"0\": 616, \"3\": 21, \"15\": 108, \"1\": 66, \"7\": 6, \"2\": 14, \"9\": 5, \"4\": 6, \"13\": 5}, \"7\": {\"7\": 841, \"8\": 89, \"2\": 150, \"3\": 44, \"6\": 14, \"4\": 10, \"9\": 39, \"11\": 2, \"0\": 1, \"10\": 2, \"14\": 1, \"13\": 2, \"12\": 5}, \"6\": {\"6\": 1032, \"14\": 145, \"7\": 10, \"8\": 12, \"10\": 1}, \"10\": {\"10\": 1009, \"4\": 32, \"14\": 124, \"8\": 33, \"6\": 2}, \"5\": {\"12\": 141, \"1\": 202, \"5\": 431, \"0\": 253, \"15\": 117, \"3\": 37, \"9\": 5, \"2\": 5, \"13\": 6, \"4\": 3}, \"2\": {\"7\": 158, \"9\": 285, \"2\": 536, \"3\": 82, \"12\": 56, \"13\": 58, \"1\": 11, \"15\": 5, \"0\": 3, \"8\": 2, \"5\": 4}, \"12\": {\"3\": 228, \"2\": 52, \"12\": 452, \"1\": 154, \"15\": 27, \"9\": 125, \"5\": 115, \"0\": 32, \"4\": 13, \"13\": 2}, \"9\": {\"3\": 218, \"9\": 478, \"5\": 3, \"2\": 286, \"7\": 54, \"12\": 123, \"1\": 14, \"8\": 5, \"13\": 10, \"4\": 7, \"15\": 1, \"0\": 1}, \"1\": {\"1\": 480, \"12\": 160, \"5\": 228, \"15\": 226, \"7\": 1, \"0\": 54, \"9\": 16, \"3\": 22, \"13\": 7, \"2\": 6}, \"11\": {\"11\": 1198, \"7\": 2}, \"13\": {\"13\": 1092, \"15\": 26, \"2\": 61, \"9\": 7, \"1\": 3, \"5\": 3, \"12\": 3, \"7\": 2, \"0\": 3}}, \"ORACLE.run138\": {\"5\": {\"5\": 498, \"8\": 328, \"0\": 108, \"15\": 44, \"9\": 31, \"6\": 50, \"13\": 7, \"7\": 97, \"3\": 27, \"1\": 8, \"10\": 2}, \"8\": {\"8\": 726, \"0\": 171, \"15\": 24, \"5\": 244, \"7\": 15, \"10\": 12, \"13\": 7, \"1\": 1}, \"11\": {\"14\": 214, \"11\": 967, \"10\": 8, \"2\": 4, \"13\": 1, \"12\": 3, \"4\": 3}, \"1\": {\"1\": 1152, \"5\": 2, \"15\": 44, \"8\": 1, \"6\": 1}, \"10\": {\"10\": 972, \"8\": 37, \"12\": 21, \"13\": 119, \"7\": 4, \"0\": 13, \"15\": 8, \"14\": 9, \"4\": 5, \"2\": 3, \"11\": 9}, \"15\": {\"13\": 186, \"15\": 875, \"1\": 79, \"5\": 19, \"0\": 1, \"8\": 33, \"2\": 4, \"10\": 3}, \"3\": {\"0\": 10, \"3\": 1030, \"9\": 88, \"7\": 52, \"5\": 11, \"6\": 9}, \"7\": {\"0\": 234, \"7\": 880, \"5\": 45, \"3\": 12, \"8\": 24, \"10\": 2, \"9\": 2, \"4\": 1}, \"4\": {\"4\": 1151, \"12\": 44, \"10\": 4, \"0\": 1}, \"14\": {\"14\": 1019, \"11\": 98, \"2\": 71, \"10\": 9, \"12\": 1, \"13\": 2}, \"9\": {\"9\": 722, \"6\": 398, \"3\": 61, \"5\": 19}, \"12\": {\"12\": 1150, \"10\": 8, \"4\": 42}, \"6\": {\"6\": 983, \"9\": 207, \"5\": 9, \"8\": 1}, \"2\": {\"2\": 1090, \"14\": 85, \"13\": 23, \"10\": 1, \"11\": 1}, \"0\": {\"8\": 305, \"0\": 392, \"7\": 277, \"3\": 75, \"5\": 110, \"10\": 23, \"12\": 7, \"9\": 3, \"4\": 5, \"15\": 2, \"6\": 1}, \"13\": {\"13\": 754, \"15\": 256, \"10\": 130, \"2\": 32, \"8\": 18, \"1\": 4, \"14\": 3, \"5\": 2, \"0\": 1}}, \"ORACLE.run18\": {\"9\": {\"9\": 1200}, \"10\": {\"14\": 261, \"10\": 727, \"13\": 95, \"4\": 44, \"5\": 52, \"1\": 13, \"0\": 8}, \"13\": {\"4\": 214, \"13\": 380, \"14\": 107, \"0\": 311, \"10\": 132, \"6\": 44, \"7\": 11, \"1\": 1}, \"0\": {\"7\": 87, \"0\": 714, \"6\": 86, \"4\": 60, \"13\": 244, \"10\": 5, \"14\": 4}, \"1\": {\"1\": 803, \"11\": 305, \"14\": 58, \"5\": 19, \"10\": 12, \"4\": 3}, \"15\": {\"15\": 856, \"12\": 273, \"8\": 55, \"3\": 8, \"2\": 7, \"7\": 1}, \"5\": {\"5\": 1050, \"14\": 19, \"10\": 66, \"11\": 5, \"1\": 59, \"13\": 1}, \"3\": {\"3\": 1002, \"12\": 82, \"2\": 111, \"15\": 5}, \"6\": {\"8\": 8, \"6\": 674, \"7\": 292, \"0\": 65, \"4\": 118, \"13\": 38, \"14\": 5}, \"11\": {\"14\": 17, \"11\": 742, \"1\": 401, \"5\": 26, \"10\": 2, \"6\": 1, \"4\": 4, \"8\": 7}, \"8\": {\"8\": 1135, \"15\": 46, \"6\": 7, \"7\": 5, \"12\": 5, \"11\": 2}, \"4\": {\"4\": 575, \"14\": 186, \"0\": 72, \"10\": 30, \"6\": 110, \"13\": 220, \"7\": 5, \"1\": 1, \"11\": 1}, \"12\": {\"12\": 598, \"15\": 371, \"3\": 184, \"8\": 28, \"2\": 19}, \"14\": {\"14\": 559, \"10\": 229, \"4\": 216, \"5\": 6, \"13\": 116, \"1\": 51, \"11\": 9, \"6\": 9, \"0\": 4, \"7\": 1}, \"2\": {\"2\": 966, \"3\": 162, \"15\": 42, \"12\": 12, \"7\": 18}, \"7\": {\"7\": 853, \"0\": 45, \"6\": 287, \"8\": 2, \"4\": 11, \"13\": 1, \"15\": 1}}, \"ORACLE.run150\": {\"7\": {\"7\": 699, \"5\": 172, \"13\": 296, \"10\": 29, \"6\": 1, \"4\": 3}, \"3\": {\"3\": 1165, \"8\": 35}, \"8\": {\"10\": 34, \"8\": 1148, \"3\": 18}, \"2\": {\"2\": 1111, \"0\": 89}, \"14\": {\"14\": 1185, \"12\": 11, \"11\": 4}, \"4\": {\"4\": 570, \"5\": 145, \"15\": 164, \"1\": 186, \"6\": 90, \"13\": 20, \"7\": 24, \"11\": 1}, \"6\": {\"13\": 82, \"6\": 839, \"1\": 94, \"5\": 47, \"4\": 114, \"15\": 13, \"0\": 2, \"7\": 8, \"2\": 1}, \"15\": {\"15\": 879, \"1\": 213, \"11\": 16, \"4\": 83, \"6\": 9}, \"10\": {\"10\": 1102, \"8\": 29, \"7\": 25, \"0\": 24, \"13\": 20}, \"11\": {\"11\": 1080, \"9\": 79, \"12\": 5, \"15\": 24, \"14\": 9, \"1\": 3}, \"13\": {\"7\": 217, \"13\": 723, \"5\": 157, \"6\": 68, \"4\": 9, \"0\": 5, \"10\": 21}, \"9\": {\"9\": 938, \"12\": 86, \"11\": 173, \"14\": 1, \"15\": 2}, \"0\": {\"0\": 1022, \"2\": 105, \"10\": 67, \"13\": 4, \"1\": 1, \"7\": 1}, \"1\": {\"1\": 748, \"15\": 231, \"4\": 116, \"6\": 98, \"5\": 7}, \"12\": {\"12\": 1065, \"9\": 84, \"14\": 43, \"11\": 8}, \"5\": {\"1\": 40, \"5\": 471, \"13\": 180, \"10\": 11, \"7\": 249, \"4\": 157, \"6\": 92}}, \"ORACLE.run132\": {\"8\": {\"13\": 74, \"8\": 881, \"5\": 115, \"0\": 109, \"7\": 5, \"4\": 5, \"3\": 7, \"14\": 4}, \"14\": {\"0\": 45, \"14\": 468, \"11\": 346, \"13\": 52, \"7\": 220, \"5\": 26, \"4\": 17, \"8\": 10, \"2\": 5, \"3\": 11}, \"2\": {\"4\": 196, \"2\": 960, \"0\": 28, \"14\": 1, \"7\": 12, \"5\": 1, \"13\": 2}, \"0\": {\"0\": 887, \"5\": 25, \"8\": 97, \"14\": 18, \"4\": 77, \"13\": 15, \"7\": 42, \"2\": 39}, \"1\": {\"1\": 1181, \"10\": 19}, \"10\": {\"10\": 1193, \"1\": 7}, \"11\": {\"11\": 918, \"14\": 218, \"3\": 12, \"7\": 26, \"13\": 19, \"5\": 7}, \"5\": {\"13\": 355, \"14\": 28, \"5\": 337, \"8\": 85, \"3\": 51, \"11\": 17, \"7\": 141, \"4\": 127, \"0\": 48, \"2\": 11}, \"15\": {\"15\": 1195, \"8\": 5}, \"3\": {\"3\": 1114, \"5\": 10, \"13\": 43, \"11\": 20, \"7\": 1, \"8\": 7, \"14\": 5}, \"12\": {\"12\": 1200}, \"7\": {\"7\": 537, \"14\": 157, \"5\": 120, \"13\": 116, \"4\": 173, \"2\": 12, \"0\": 26, \"8\": 9, \"11\": 46, \"3\": 4}, \"13\": {\"8\": 50, \"13\": 411, \"7\": 139, \"5\": 378, \"3\": 71, \"4\": 64, \"0\": 23, \"14\": 46, \"11\": 18}, \"6\": {\"6\": 1200}, \"4\": {\"4\": 703, \"2\": 185, \"7\": 139, \"13\": 39, \"8\": 7, \"5\": 79, \"14\": 5, \"0\": 43}, \"9\": {\"9\": 1197, \"12\": 3}}, \"ORACLE.run126\": {\"4\": {\"9\": 3, \"8\": 106, \"0\": 169, \"4\": 463, \"14\": 216, \"1\": 96, \"7\": 76, \"10\": 68, \"2\": 1, \"3\": 2}, \"12\": {\"12\": 1195, \"11\": 5}, \"10\": {\"0\": 234, \"10\": 498, \"8\": 146, \"6\": 70, \"4\": 82, \"14\": 111, \"1\": 30, \"9\": 18, \"15\": 7, \"5\": 1, \"7\": 3}, \"0\": {\"6\": 29, \"10\": 298, \"0\": 320, \"14\": 200, \"1\": 30, \"8\": 112, \"7\": 24, \"4\": 175, \"15\": 3, \"9\": 7, \"2\": 1, \"3\": 1}, \"13\": {\"13\": 849, \"5\": 193, \"15\": 86, \"2\": 19, \"6\": 20, \"9\": 33}, \"9\": {\"9\": 447, \"15\": 339, \"8\": 121, \"13\": 27, \"6\": 157, \"0\": 15, \"2\": 15, \"5\": 49, \"10\": 13, \"4\": 7, \"7\": 9, \"3\": 1}, \"3\": {\"2\": 274, \"3\": 758, \"7\": 162, \"4\": 4, \"8\": 1, \"15\": 1}, \"2\": {\"3\": 394, \"7\": 135, \"2\": 425, \"5\": 118, \"15\": 59, \"8\": 33, \"9\": 16, \"13\": 12, \"4\": 5, \"1\": 2, \"0\": 1}, \"5\": {\"5\": 701, \"2\": 53, \"13\": 144, \"7\": 10, \"15\": 174, \"8\": 40, \"9\": 72, \"6\": 5, \"10\": 1}, \"14\": {\"8\": 30, \"14\": 403, \"0\": 168, \"1\": 228, \"4\": 247, \"10\": 105, \"7\": 18, \"6\": 1}, \"8\": {\"6\": 39, \"0\": 95, \"8\": 446, \"15\": 72, \"10\": 162, \"4\": 115, \"7\": 88, \"9\": 100, \"1\": 8, \"2\": 21, \"14\": 30, \"5\": 20, \"3\": 4}, \"7\": {\"8\": 55, \"7\": 635, \"4\": 118, \"2\": 137, \"14\": 18, \"9\": 6, \"3\": 179, \"15\": 14, \"0\": 22, \"1\": 5, \"5\": 9, \"10\": 2}, \"6\": {\"6\": 880, \"10\": 77, \"9\": 155, \"13\": 9, \"8\": 27, \"15\": 24, \"0\": 24, \"14\": 1, \"5\": 3}, \"11\": {\"11\": 1188, \"12\": 12}, \"15\": {\"8\": 104, \"6\": 40, \"9\": 307, \"5\": 171, \"15\": 443, \"13\": 61, \"2\": 30, \"4\": 3, \"10\": 11, \"7\": 22, \"0\": 4, \"3\": 4}, \"1\": {\"14\": 245, \"1\": 749, \"4\": 103, \"7\": 9, \"10\": 41, \"8\": 9, \"0\": 43, \"3\": 1}}, \"ORACLE.run144\": {\"12\": {\"10\": 71, \"12\": 947, \"1\": 171, \"3\": 11}, \"7\": {\"7\": 802, \"2\": 155, \"9\": 205, \"6\": 30, \"1\": 5, \"13\": 1, \"3\": 2}, \"5\": {\"5\": 1016, \"14\": 29, \"0\": 105, \"15\": 38, \"8\": 11, \"4\": 1}, \"15\": {\"15\": 972, \"14\": 85, \"5\": 44, \"0\": 73, \"8\": 16, \"4\": 10}, \"8\": {\"8\": 724, \"0\": 424, \"15\": 37, \"5\": 15}, \"2\": {\"2\": 923, \"3\": 2, \"7\": 154, \"10\": 80, \"1\": 37, \"6\": 1, \"9\": 3}, \"13\": {\"13\": 778, \"11\": 46, \"9\": 144, \"6\": 222, \"7\": 6, \"4\": 4}, \"4\": {\"4\": 888, \"14\": 301, \"15\": 9, \"13\": 2}, \"0\": {\"0\": 773, \"5\": 67, \"8\": 310, \"15\": 50}, \"6\": {\"6\": 847, \"13\": 196, \"11\": 9, \"9\": 116, \"7\": 31, \"2\": 1}, \"9\": {\"13\": 140, \"9\": 683, \"7\": 264, \"6\": 105, \"2\": 8}, \"11\": {\"11\": 1133, \"13\": 48, \"6\": 19}, \"10\": {\"10\": 925, \"2\": 91, \"12\": 90, \"1\": 94}, \"14\": {\"14\": 761, \"4\": 340, \"15\": 65, \"5\": 34}, \"1\": {\"10\": 99, \"1\": 720, \"12\": 209, \"3\": 119, \"2\": 50, \"7\": 3}, \"3\": {\"3\": 1093, \"12\": 4, \"1\": 98, \"2\": 5}}, \"Wisig_3\": {\"109\": {\"109\": 8, \"33\": 3, \"26\": 1}, \"127\": {\"127\": 12}, \"14\": {\"14\": 7, \"45\": 1, \"44\": 1, \"29\": 1, \"103\": 2}, \"7\": {\"7\": 12}, \"129\": {\"129\": 10, \"49\": 1, \"19\": 1}, \"57\": {\"57\": 12}, \"84\": {\"84\": 7, \"44\": 1, \"14\": 1, \"29\": 1, \"93\": 1, \"121\": 1}, \"114\": {\"114\": 12}, \"44\": {\"44\": 6, \"109\": 1, \"84\": 1, \"116\": 1, \"50\": 1, \"29\": 1, \"96\": 1}, \"21\": {\"21\": 12}, \"46\": {\"46\": 12}, \"100\": {\"100\": 6, \"14\": 1, \"107\": 2, \"28\": 1, \"65\": 2}, \"63\": {\"63\": 5, \"24\": 1, \"113\": 2, \"6\": 1, \"43\": 1, \"2\": 1, \"97\": 1}, \"24\": {\"24\": 5, \"21\": 1, \"94\": 1, \"83\": 1, \"73\": 1, \"36\": 1, \"120\": 1, \"27\": 1}, \"107\": {\"14\": 1, \"107\": 9, \"60\": 2}, \"35\": {\"57\": 1, \"35\": 8, \"11\": 1}, \"81\": {\"81\": 10, \"63\": 2}, \"64\": {\"64\": 12}, \"59\": {\"36\": 1, \"59\": 9, \"73\": 2}, \"33\": {\"33\": 12}, \"34\": {\"34\": 7, \"41\": 1, \"60\": 2, \"91\": 1, \"52\": 1}, \"36\": {\"36\": 6, \"59\": 1, \"73\": 2, \"47\": 1, \"25\": 1, \"24\": 1}, \"79\": {\"79\": 11, \"45\": 1}, \"80\": {\"80\": 9, \"113\": 1, \"44\": 1, \"117\": 1}, \"77\": {\"77\": 12}, \"22\": {\"22\": 7, \"79\": 1, \"82\": 3, \"48\": 1}, \"124\": {\"124\": 9, \"12\": 1, \"85\": 2}, \"2\": {\"64\": 1, \"2\": 5, \"117\": 2, \"92\": 2, \"43\": 2}, \"87\": {\"22\": 1, \"79\": 1, \"18\": 1, \"11\": 1, \"50\": 1, \"87\": 5, \"16\": 1, \"107\": 1}, \"105\": {\"105\": 12}, \"95\": {\"56\": 1, \"95\": 8, \"22\": 1, \"48\": 1, \"84\": 1}, \"43\": {\"43\": 11, \"118\": 1}, \"56\": {\"56\": 10}, \"18\": {\"18\": 12}, \"85\": {\"85\": 11, \"91\": 1}, \"113\": {\"113\": 12}, \"97\": {\"8\": 1, \"97\": 8, \"51\": 1, \"101\": 1, \"58\": 1}, \"86\": {\"86\": 12}, \"128\": {\"86\": 2, \"128\": 3, \"105\": 1, \"82\": 1, \"112\": 1, \"1\": 2, \"32\": 1, \"29\": 1}, \"123\": {\"123\": 9, \"18\": 1, \"121\": 1, \"26\": 1}, \"8\": {\"8\": 8, \"0\": 1, \"42\": 1, \"101\": 2}, \"110\": {\"110\": 12}, \"126\": {\"113\": 2, \"126\": 6, \"109\": 2, \"39\": 2}, \"101\": {\"101\": 11, \"25\": 1}, \"115\": {\"115\": 12}, \"49\": {\"44\": 1, \"84\": 1, \"42\": 1, \"49\": 6, \"15\": 2, \"0\": 1}, \"45\": {\"45\": 10, \"107\": 2}, \"78\": {\"78\": 6, \"13\": 1, \"40\": 1, \"50\": 1, \"28\": 1, \"76\": 2}, \"65\": {\"65\": 5, \"127\": 1, \"10\": 1, \"85\": 2, \"81\": 1}, \"54\": {\"54\": 12}, \"31\": {\"31\": 10}, \"42\": {\"49\": 2, \"42\": 1, \"106\": 2, \"15\": 1, \"97\": 2, \"129\": 1, \"75\": 1, \"88\": 1, \"78\": 1}, \"68\": {\"68\": 12}, \"15\": {\"94\": 3, \"58\": 1, \"106\": 1, \"15\": 5, \"51\": 1, \"0\": 1}, \"69\": {\"69\": 12}, \"17\": {\"102\": 1, \"34\": 1, \"123\": 1, \"9\": 1, \"108\": 1, \"80\": 1, \"5\": 2, \"116\": 1, \"56\": 1}, \"73\": {\"73\": 12}, \"121\": {\"121\": 10, \"118\": 2}, \"102\": {\"102\": 12}, \"48\": {\"69\": 2, \"48\": 3, \"56\": 1, \"127\": 2, \"22\": 1, \"119\": 1, \"116\": 1, \"86\": 1}, \"23\": {\"121\": 2, \"55\": 1, \"23\": 1, \"128\": 2, \"113\": 1, \"9\": 1, \"67\": 2, \"71\": 2}, \"108\": {\"108\": 3, \"77\": 1, \"42\": 1, \"112\": 2, \"49\": 1, \"12\": 3, \"124\": 1}, \"53\": {\"53\": 9, \"31\": 2, \"60\": 1}, \"94\": {\"94\": 10}, \"41\": {\"41\": 12}, \"58\": {\"58\": 11, \"75\": 1}, \"29\": {\"29\": 12}, \"116\": {\"116\": 5, \"44\": 2, \"92\": 1, \"33\": 2, \"31\": 2}, \"60\": {\"60\": 5, \"39\": 1, \"122\": 1, \"28\": 2, \"34\": 2, \"17\": 1}, \"104\": {\"104\": 12}, \"106\": {\"58\": 1, \"106\": 8, \"51\": 2, \"101\": 1}, \"66\": {\"66\": 12}, \"47\": {\"47\": 11, \"88\": 1}, \"40\": {\"40\": 11, \"74\": 1}, \"82\": {\"82\": 9, \"128\": 1, \"119\": 1, \"29\": 1}, \"13\": {\"123\": 1, \"67\": 1, \"113\": 1, \"13\": 2, \"90\": 2, \"26\": 1, \"120\": 2, \"11\": 2}, \"19\": {\"72\": 2, \"19\": 2, \"128\": 2, \"107\": 1, \"28\": 2, \"12\": 1, \"93\": 1, \"8\": 1}, \"72\": {\"72\": 12}, \"9\": {\"9\": 12}, \"67\": {\"67\": 12}, \"11\": {\"78\": 1, \"11\": 7, \"16\": 2, \"84\": 1, \"116\": 1}, \"125\": {\"125\": 12}, \"76\": {\"76\": 8}, \"83\": {\"83\": 12}, \"74\": {\"74\": 9, \"94\": 1, \"76\": 2}, \"20\": {\"20\": 11, \"103\": 1}, \"119\": {\"119\": 12}, \"1\": {\"1\": 10, \"32\": 2}, \"16\": {\"16\": 12}, \"25\": {\"25\": 9, \"28\": 1, \"59\": 2}, \"90\": {\"90\": 7, \"31\": 1}, \"39\": {\"39\": 9, \"67\": 1, \"33\": 2}, \"28\": {\"28\": 12}, \"55\": {\"55\": 12}, \"117\": {\"117\": 8, \"120\": 1, \"63\": 1, \"123\": 1, \"2\": 1}, \"112\": {\"112\": 8, \"128\": 2, \"8\": 2}, \"38\": {\"38\": 7, \"74\": 1, \"105\": 2, \"115\": 2}, \"37\": {\"56\": 2, \"37\": 8, \"12\": 1, \"52\": 1}, \"120\": {\"120\": 10, \"113\": 1, \"63\": 1}, \"122\": {\"55\": 1, \"110\": 1, \"122\": 3, \"29\": 2, \"23\": 1, \"107\": 2, \"57\": 2}, \"50\": {\"50\": 10, \"1\": 1, \"100\": 1}, \"10\": {\"127\": 2, \"10\": 6, \"34\": 1, \"47\": 1, \"65\": 1, \"88\": 1}, \"5\": {\"5\": 10, \"3\": 2}, \"51\": {\"51\": 8, \"72\": 2, \"101\": 1, \"35\": 1}, \"3\": {\"98\": 1, \"70\": 1, \"3\": 9, \"64\": 1}, \"98\": {\"34\": 1, \"10\": 1, \"98\": 8, \"85\": 1, \"81\": 1}, \"70\": {\"42\": 1, \"49\": 1, \"70\": 7, \"47\": 1, \"128\": 1, \"110\": 1}, \"96\": {\"96\": 10, \"2\": 2}, \"12\": {\"12\": 7, \"52\": 1, \"51\": 2, \"124\": 2}, \"99\": {\"99\": 12}, \"52\": {\"52\": 10, \"75\": 1, \"12\": 1}, \"71\": {\"71\": 6, \"61\": 2, \"22\": 1, \"66\": 1, \"3\": 2}, \"89\": {\"89\": 12}, \"0\": {\"0\": 10, \"15\": 2}, \"4\": {\"4\": 7, \"114\": 2, \"118\": 1, \"120\": 1, \"23\": 1}, \"93\": {\"93\": 12}, \"6\": {\"6\": 5, \"75\": 1, \"111\": 1, \"37\": 2, \"25\": 1}, \"75\": {\"75\": 10, \"106\": 1, \"73\": 1}, \"62\": {\"62\": 11, \"69\": 1}, \"103\": {\"103\": 12}, \"30\": {\"30\": 10, \"58\": 1, \"97\": 1}, \"91\": {\"91\": 4, \"9\": 1, \"98\": 2, \"37\": 1, \"46\": 2, \"41\": 2}, \"27\": {\"30\": 2, \"27\": 6, \"97\": 1, \"6\": 2, \"24\": 1}, \"26\": {\"26\": 10, \"123\": 1, \"121\": 1}, \"61\": {\"61\": 12}, \"118\": {\"118\": 7, \"33\": 1, \"109\": 2, \"43\": 2}, \"92\": {\"92\": 12}, \"111\": {\"111\": 12}, \"32\": {\"32\": 11, \"1\": 1}, \"88\": {\"114\": 1, \"88\": 6, \"65\": 1, \"93\": 2}}, \"Wisig_4\": {\"28\": {\"28\": 12}, \"4\": {\"4\": 11, \"71\": 1}, \"72\": {\"72\": 12}, \"111\": {\"12\": 2, \"111\": 10}, \"108\": {\"108\": 2, \"14\": 1, \"57\": 1, \"82\": 1, \"49\": 1, \"110\": 1, \"5\": 1, \"73\": 2, \"119\": 1, \"93\": 1}, \"43\": {\"43\": 6, \"31\": 1, \"82\": 1, \"102\": 1, \"89\": 1}, \"96\": {\"90\": 2, \"57\": 1, \"96\": 9}, \"89\": {\"89\": 12}, \"31\": {\"31\": 8, \"40\": 1, \"102\": 1, \"26\": 1, \"67\": 1}, \"45\": {\"90\": 1, \"45\": 11}, \"2\": {\"96\": 1, \"2\": 8, \"121\": 2, \"63\": 1}, \"114\": {\"114\": 7, \"90\": 1, \"83\": 2, \"85\": 2}, \"11\": {\"14\": 2, \"28\": 2, \"11\": 5, \"107\": 1, \"7\": 1, \"50\": 1}, \"12\": {\"111\": 1, \"12\": 9, \"91\": 1, \"29\": 1}, \"14\": {\"14\": 12}, \"90\": {\"90\": 10, \"66\": 2}, \"10\": {\"10\": 9, \"24\": 1, \"27\": 1, \"6\": 1}, \"63\": {\"3\": 1, \"63\": 9, \"26\": 1, \"82\": 1}, \"85\": {\"85\": 8, \"10\": 1, \"46\": 1, \"127\": 1, \"1\": 1}, \"64\": {\"64\": 12}, \"82\": {\"82\": 10, \"16\": 1, \"63\": 1}, \"58\": {\"58\": 11, \"15\": 1}, \"3\": {\"3\": 12}, \"54\": {\"54\": 12}, \"121\": {\"121\": 7, \"63\": 1, \"84\": 1, \"123\": 2, \"38\": 1}, \"42\": {\"58\": 2, \"75\": 3, \"73\": 1, \"119\": 1, \"42\": 1, \"37\": 1, \"106\": 1, \"46\": 1, \"129\": 1}, \"98\": {\"98\": 8, \"124\": 2, \"42\": 1, \"4\": 1}, \"123\": {\"123\": 11, \"63\": 1}, \"91\": {\"91\": 6, \"58\": 1, \"12\": 2, \"46\": 1, \"127\": 1, \"111\": 1}, \"66\": {\"66\": 10, \"90\": 2}, \"102\": {\"102\": 11, \"60\": 1}, \"122\": {\"122\": 6, \"110\": 1, \"118\": 1, \"74\": 1, \"44\": 1, \"116\": 1, \"43\": 1}, \"1\": {\"1\": 12}, \"15\": {\"15\": 9, \"9\": 2, \"59\": 1}, \"97\": {\"97\": 7, \"15\": 1, \"59\": 2, \"105\": 1, \"128\": 1}, \"75\": {\"75\": 11, \"77\": 1}, \"95\": {\"95\": 9, \"4\": 1, \"127\": 1, \"87\": 1}, \"57\": {\"66\": 1, \"102\": 1, \"57\": 8, \"48\": 2}, \"68\": {\"68\": 11, \"120\": 1}, \"125\": {\"125\": 11, \"77\": 1}, \"62\": {\"62\": 9, \"67\": 1}, \"27\": {\"27\": 9, \"21\": 1, \"101\": 1, \"126\": 1}, \"120\": {\"120\": 9, \"103\": 1, \"4\": 1, \"98\": 1}, \"26\": {\"63\": 1, \"26\": 8, \"117\": 1, \"65\": 2}, \"55\": {\"120\": 1, \"55\": 10, \"86\": 1}, \"71\": {\"120\": 4, \"71\": 5, \"88\": 1, \"42\": 1, \"95\": 1}, \"22\": {\"22\": 9, \"49\": 1, \"43\": 2}, \"99\": {\"22\": 1, \"99\": 6, \"28\": 1, \"60\": 1, \"21\": 1, \"33\": 1, \"40\": 1}, \"84\": {\"84\": 10, \"103\": 1, \"35\": 1}, \"37\": {\"37\": 12}, \"83\": {\"83\": 11, \"114\": 1}, \"46\": {\"46\": 11, \"83\": 1}, \"35\": {\"26\": 2, \"35\": 9, \"61\": 1}, \"13\": {\"13\": 12}, \"53\": {\"53\": 9, \"88\": 1, \"101\": 1, \"21\": 1}, \"127\": {\"53\": 2, \"127\": 7, \"52\": 1, \"51\": 2}, \"69\": {\"43\": 1, \"69\": 10, \"78\": 1}, \"48\": {\"48\": 5, \"44\": 2, \"121\": 2, \"67\": 2, \"10\": 1}, \"16\": {\"16\": 10, \"44\": 1, \"67\": 1}, \"0\": {\"53\": 1, \"0\": 5, \"8\": 1, \"42\": 1, \"46\": 1, \"120\": 1, \"49\": 2}, \"8\": {\"0\": 1, \"43\": 1, \"8\": 5, \"29\": 1, \"112\": 1, \"53\": 2, \"100\": 1}, \"9\": {\"9\": 8, \"70\": 2, \"106\": 2}, \"115\": {\"115\": 6, \"82\": 1, \"60\": 1, \"87\": 1, \"76\": 1, \"105\": 1, \"72\": 1}, \"70\": {\"46\": 1, \"70\": 3, \"63\": 1, \"78\": 1, \"100\": 2, \"112\": 1, \"42\": 1, \"51\": 1, \"88\": 1}, \"119\": {\"119\": 12}, \"59\": {\"59\": 10, \"6\": 1, \"58\": 1}, \"52\": {\"52\": 10, \"29\": 2}, \"60\": {\"46\": 1, \"44\": 1, \"128\": 1, \"65\": 1, \"60\": 4, \"19\": 2, \"85\": 2}, \"44\": {\"44\": 8, \"74\": 3, \"90\": 1}, \"51\": {\"51\": 4, \"70\": 1, \"111\": 2, \"101\": 1, \"47\": 1, \"12\": 1, \"68\": 2}, \"6\": {\"15\": 3, \"51\": 1, \"6\": 6, \"34\": 1, \"58\": 1}, \"73\": {\"73\": 10, \"20\": 1, \"129\": 1}, \"78\": {\"50\": 1, \"78\": 2, \"128\": 2, \"87\": 2, \"1\": 1, \"32\": 1, \"0\": 1, \"11\": 2}, \"92\": {\"92\": 11, \"13\": 1}, \"20\": {\"20\": 8, \"5\": 2, \"19\": 2}, \"17\": {\"17\": 12}, \"74\": {\"74\": 10, \"44\": 1, \"102\": 1}, \"19\": {\"70\": 1, \"20\": 1, \"93\": 2, \"110\": 1, \"29\": 1, \"3\": 2, \"96\": 2, \"112\": 1, \"90\": 1}, \"50\": {\"50\": 12}, \"34\": {\"9\": 1, \"19\": 1, \"34\": 5, \"6\": 1, \"15\": 1, \"55\": 1, \"59\": 2}, \"104\": {\"50\": 1, \"104\": 7}, \"33\": {\"33\": 9, \"102\": 2, \"51\": 1}, \"5\": {\"5\": 8, \"20\": 1, \"129\": 1, \"74\": 2}, \"7\": {\"7\": 8, \"128\": 1, \"105\": 1, \"81\": 1, \"23\": 1}, \"29\": {\"29\": 11, \"52\": 1}, \"25\": {\"25\": 12}, \"124\": {\"124\": 12}, \"117\": {\"117\": 7, \"88\": 1, \"26\": 1, \"81\": 1, \"61\": 1, \"65\": 1}, \"88\": {\"88\": 6, \"83\": 1, \"117\": 1, \"63\": 1, \"71\": 1, \"119\": 1, \"85\": 1}, \"61\": {\"61\": 8, \"88\": 1, \"18\": 1, \"117\": 2}, \"86\": {\"86\": 10, \"4\": 1, \"55\": 1}, \"116\": {\"116\": 8, \"76\": 1, \"38\": 2, \"57\": 1}, \"24\": {\"10\": 2, \"36\": 1, \"24\": 7, \"51\": 1, \"25\": 1}, \"128\": {\"124\": 2, \"128\": 1, \"21\": 1, \"49\": 2, \"5\": 1, \"55\": 1, \"86\": 1, \"95\": 1, \"91\": 1, \"99\": 1}, \"101\": {\"101\": 10, \"29\": 1, \"53\": 1}, \"65\": {\"65\": 9, \"87\": 1}, \"36\": {\"10\": 1, \"36\": 10, \"24\": 1}, \"21\": {\"21\": 12}, \"106\": {\"106\": 9, \"68\": 2, \"8\": 1}, \"118\": {\"118\": 5, \"88\": 2, \"122\": 1, \"113\": 1, \"13\": 2, \"109\": 1}, \"113\": {\"117\": 2, \"113\": 4, \"126\": 3, \"81\": 1, \"123\": 1, \"39\": 1}, \"40\": {\"40\": 11, \"69\": 1}, \"93\": {\"93\": 8}, \"94\": {\"94\": 6, \"25\": 1, \"59\": 1, \"36\": 2, \"6\": 2}, \"103\": {\"103\": 5, \"77\": 2, \"5\": 1, \"87\": 1, \"52\": 1, \"68\": 2}, \"110\": {\"110\": 10, \"109\": 2}, \"56\": {\"56\": 12}, \"39\": {\"39\": 8, \"78\": 1, \"18\": 1, \"26\": 2}, \"109\": {\"39\": 1, \"109\": 9, \"5\": 1, \"38\": 1}, \"67\": {\"92\": 2, \"121\": 2, \"115\": 1, \"81\": 2, \"107\": 1, \"2\": 1, \"71\": 1, \"63\": 1, \"40\": 1}, \"129\": {\"73\": 1, \"48\": 1, \"112\": 2, \"129\": 4, \"49\": 1, \"0\": 1, \"14\": 2}, \"30\": {\"30\": 11, \"9\": 1}, \"126\": {\"126\": 10, \"5\": 1, \"108\": 1}, \"87\": {\"21\": 1, \"87\": 7, \"107\": 1, \"50\": 1, \"3\": 1, \"40\": 1}, \"112\": {\"112\": 12}, \"100\": {\"112\": 2, \"100\": 8, \"46\": 2}, \"79\": {\"79\": 10}, \"81\": {\"81\": 9, \"121\": 2, \"61\": 1}, \"76\": {\"76\": 10}, \"47\": {\"47\": 9, \"21\": 1, \"59\": 2}, \"77\": {\"77\": 12}, \"23\": {\"103\": 1, \"46\": 1, \"23\": 1, \"108\": 1, \"106\": 2, \"110\": 1, \"68\": 1, \"120\": 1, \"0\": 1, \"21\": 1, \"53\": 1}, \"18\": {\"18\": 12}, \"49\": {\"72\": 2, \"30\": 2, \"43\": 1, \"49\": 3, \"73\": 1, \"53\": 3}, \"41\": {\"41\": 10, \"47\": 1, \"12\": 1}, \"32\": {\"115\": 1, \"32\": 5, \"76\": 1, \"116\": 1, \"79\": 1, \"72\": 2, \"33\": 1}, \"107\": {\"105\": 2, \"32\": 1, \"107\": 7}, \"80\": {\"80\": 11, \"18\": 1}, \"105\": {\"105\": 7, \"107\": 2, \"113\": 1}, \"38\": {\"38\": 10}}, \"Wisig_1\": {\"108\": {\"108\": 8, \"0\": 1, \"20\": 1}, \"40\": {\"40\": 10, \"105\": 2}, \"68\": {\"68\": 12}, \"23\": {\"9\": 1, \"22\": 1, \"7\": 2, \"53\": 1, \"49\": 1, \"33\": 1, \"112\": 1, \"11\": 2, \"127\": 2}, \"26\": {\"4\": 1, \"26\": 6, \"95\": 2, \"13\": 1, \"123\": 2}, \"64\": {\"64\": 12}, \"22\": {\"22\": 11, \"45\": 1}, \"3\": {\"102\": 2, \"3\": 8, \"90\": 2}, \"4\": {\"79\": 2, \"4\": 9, \"126\": 1}, \"70\": {\"4\": 1, \"3\": 1, \"34\": 2, \"35\": 1, \"86\": 1, \"78\": 1, \"21\": 1, \"60\": 1, \"70\": 2, \"129\": 1}, \"57\": {\"57\": 12}, \"79\": {\"79\": 12}, \"9\": {\"9\": 8, \"72\": 1, \"12\": 1, \"103\": 2}, \"89\": {\"89\": 12}, \"110\": {\"110\": 11, \"34\": 1}, \"102\": {\"102\": 11, \"33\": 1}, \"31\": {\"31\": 7, \"4\": 1, \"5\": 1, \"83\": 3}, \"58\": {\"58\": 11, \"51\": 1}, \"47\": {\"47\": 12}, \"24\": {\"24\": 11, \"30\": 1}, \"19\": {\"31\": 1, \"96\": 1, \"19\": 6, \"73\": 1, \"105\": 1, \"129\": 1, \"128\": 1}, \"11\": {\"115\": 1, \"11\": 3, \"64\": 2, \"28\": 2, \"117\": 1, \"80\": 1, \"22\": 1, \"50\": 1}, \"52\": {\"52\": 12}, \"17\": {\"17\": 12}, \"25\": {\"25\": 12}, \"69\": {\"69\": 12}, \"96\": {\"96\": 12}, \"109\": {\"109\": 8, \"3\": 1, \"50\": 1, \"104\": 2}, \"115\": {\"115\": 12}, \"83\": {\"83\": 6, \"42\": 2, \"75\": 1, \"4\": 2, \"86\": 1}, \"84\": {\"84\": 10, \"1\": 2}, \"119\": {\"119\": 10}, \"122\": {\"122\": 9, \"74\": 1}, \"99\": {\"99\": 10, \"7\": 2}, \"1\": {\"84\": 1, \"1\": 10, \"81\": 1}, \"74\": {\"74\": 10, \"84\": 1, \"129\": 1}, \"85\": {\"85\": 12}, \"127\": {\"111\": 3, \"127\": 7, \"6\": 1, \"112\": 1}, \"111\": {\"111\": 11, \"37\": 1}, \"53\": {\"53\": 12}, \"88\": {\"88\": 6, \"94\": 2, \"36\": 2, \"97\": 2}, \"65\": {\"16\": 2, \"63\": 2, \"129\": 1, \"69\": 1, \"13\": 2, \"65\": 1, \"14\": 1}, \"7\": {\"7\": 12}, \"16\": {\"16\": 8, \"10\": 1, \"123\": 1, \"18\": 2}, \"128\": {\"128\": 1, \"43\": 2, \"45\": 1, \"66\": 1, \"48\": 2, \"1\": 2, \"100\": 2, \"28\": 1}, \"34\": {\"17\": 3, \"129\": 2, \"115\": 2, \"68\": 1, \"77\": 1, \"114\": 1, \"89\": 1, \"84\": 1}, \"129\": {\"28\": 1, \"128\": 1, \"66\": 2, \"129\": 3, \"20\": 1, \"76\": 1, \"19\": 2, \"117\": 1}, \"43\": {\"43\": 9, \"74\": 1, \"57\": 1, \"78\": 1}, \"92\": {\"92\": 11, \"37\": 1}, \"28\": {\"28\": 11, \"43\": 1}, \"27\": {\"27\": 9, \"101\": 1, \"52\": 2}, \"114\": {\"114\": 12}, \"73\": {\"73\": 12}, \"0\": {\"34\": 1, \"0\": 9, \"31\": 2}, \"104\": {\"104\": 11, \"126\": 1}, \"118\": {\"118\": 8, \"63\": 2, \"117\": 1, \"16\": 1}, \"41\": {\"41\": 12}, \"49\": {\"5\": 2, \"49\": 3, \"35\": 1, \"6\": 1, \"9\": 1, \"53\": 1, \"107\": 1, \"52\": 1, \"105\": 1}, \"14\": {\"14\": 11, \"43\": 1}, \"46\": {\"66\": 1, \"46\": 3, \"40\": 1, \"97\": 1, \"125\": 2, \"105\": 1, \"85\": 1, \"41\": 2}, \"33\": {\"33\": 12}, \"76\": {\"76\": 12}, \"125\": {\"125\": 12}, \"86\": {\"86\": 8, \"4\": 2}, \"66\": {\"66\": 9, \"61\": 2, \"15\": 1}, \"5\": {\"5\": 12}, \"117\": {\"117\": 9, \"63\": 3}, \"75\": {\"75\": 12}, \"61\": {\"61\": 11, \"2\": 1}, \"50\": {\"50\": 9, \"39\": 1, \"7\": 1, \"12\": 1}, \"67\": {\"67\": 10}, \"18\": {\"18\": 11, \"117\": 1}, \"98\": {\"98\": 12}, \"55\": {\"55\": 10}, \"32\": {\"32\": 3, \"58\": 1, \"91\": 1, \"6\": 1, \"49\": 1, \"105\": 1, \"112\": 1, \"29\": 1, \"75\": 1, \"31\": 1}, \"120\": {\"120\": 12}, \"97\": {\"97\": 7, \"112\": 2, \"88\": 1, \"101\": 1, \"12\": 1}, \"126\": {\"126\": 9, \"19\": 2, \"73\": 1}, \"45\": {\"104\": 1, \"120\": 2, \"45\": 5, \"22\": 4}, \"78\": {\"122\": 2, \"74\": 2, \"80\": 1, \"21\": 1, \"22\": 1, \"11\": 1, \"43\": 1, \"78\": 1}, \"100\": {\"100\": 12}, \"107\": {\"107\": 11, \"55\": 1}, \"93\": {\"107\": 2, \"8\": 1, \"46\": 1, \"79\": 1, \"93\": 2, \"3\": 2, \"85\": 1, \"41\": 2}, \"77\": {\"77\": 12}, \"63\": {\"63\": 10, \"117\": 2}, \"112\": {\"112\": 12}, \"113\": {\"113\": 12}, \"103\": {\"71\": 2, \"127\": 1, \"103\": 5, \"98\": 2}, \"71\": {\"71\": 12}, \"30\": {\"30\": 6, \"15\": 1, \"71\": 1, \"27\": 2, \"24\": 1, \"94\": 1}, \"90\": {\"90\": 12}, \"37\": {\"15\": 1, \"37\": 9, \"110\": 1, \"77\": 1}, \"60\": {\"69\": 1, \"129\": 1, \"117\": 2, \"49\": 1, \"60\": 5, \"84\": 1, \"50\": 1}, \"15\": {\"15\": 9, \"111\": 1, \"47\": 1, \"52\": 1}, \"39\": {\"39\": 9, \"63\": 2, \"16\": 1}, \"72\": {\"72\": 12}, \"54\": {\"54\": 12}, \"35\": {\"35\": 12}, \"2\": {\"7\": 1, \"39\": 1, \"121\": 2, \"2\": 6, \"66\": 2}, \"94\": {\"6\": 3, \"15\": 1, \"94\": 3, \"44\": 1, \"75\": 1, \"91\": 1, \"109\": 1, \"36\": 1}, \"42\": {\"81\": 1, \"8\": 1, \"91\": 1, \"1\": 2, \"42\": 2, \"20\": 1, \"45\": 1, \"55\": 1, \"66\": 1, \"34\": 1}, \"81\": {\"81\": 12}, \"8\": {\"0\": 1, \"8\": 4, \"10\": 1, \"54\": 1, \"107\": 2, \"34\": 2, \"5\": 1}, \"87\": {\"114\": 2, \"25\": 2, \"38\": 2, \"40\": 2, \"87\": 2, \"14\": 1, \"85\": 1}, \"6\": {\"6\": 3, \"53\": 1, \"36\": 2, \"75\": 2, \"98\": 2, \"111\": 1, \"27\": 1}, \"36\": {\"36\": 10, \"94\": 2}, \"91\": {\"91\": 4, \"32\": 1, \"72\": 1, \"51\": 1, \"75\": 1, \"17\": 1, \"35\": 1, \"68\": 1, \"0\": 1}, \"56\": {\"56\": 12}, \"80\": {\"80\": 9, \"48\": 2, \"58\": 1}, \"124\": {\"124\": 10}, \"44\": {\"44\": 12}, \"13\": {\"13\": 12}, \"10\": {\"105\": 2, \"80\": 2, \"10\": 5, \"21\": 1, \"70\": 1, \"13\": 1}, \"59\": {\"59\": 8, \"52\": 1, \"123\": 2, \"58\": 1}, \"95\": {\"95\": 12}, \"105\": {\"105\": 9, \"15\": 1, \"54\": 2}, \"101\": {\"101\": 12}, \"20\": {\"20\": 11, \"45\": 1}, \"48\": {\"84\": 1, \"28\": 1, \"48\": 9, \"123\": 1}, \"106\": {\"75\": 1, \"111\": 1, \"106\": 7, \"103\": 1, \"91\": 2}, \"51\": {\"51\": 12}, \"21\": {\"84\": 1, \"28\": 1, \"21\": 3, \"10\": 1, \"0\": 1, \"78\": 1, \"70\": 1, \"113\": 1, \"14\": 1, \"101\": 1}, \"123\": {\"123\": 12}, \"121\": {\"121\": 11, \"13\": 1}, \"38\": {\"38\": 12}, \"62\": {\"62\": 11, \"116\": 1}, \"29\": {\"29\": 12}, \"82\": {\"82\": 12}, \"116\": {\"116\": 8, \"102\": 1, \"61\": 1, \"2\": 1, \"11\": 1}, \"12\": {\"29\": 2, \"12\": 3, \"127\": 1, \"6\": 1, \"112\": 1}}, \"Wisig_2\": {\"91\": {\"12\": 1, \"91\": 9, \"111\": 1, \"124\": 1}, \"12\": {\"12\": 9, \"67\": 1, \"8\": 2}, \"101\": {\"101\": 9, \"0\": 1}, \"121\": {\"117\": 3, \"72\": 1, \"121\": 5, \"81\": 2, \"113\": 1}, \"118\": {\"88\": 1, \"118\": 5, \"13\": 1, \"87\": 3, \"38\": 1, \"31\": 1}, \"10\": {\"126\": 2, \"105\": 2, \"10\": 4, \"110\": 2, \"3\": 2}, \"117\": {\"117\": 11, \"121\": 1}, \"110\": {\"110\": 8, \"101\": 1, \"53\": 1, \"73\": 2}, \"97\": {\"97\": 10, \"88\": 1, \"119\": 1}, \"28\": {\"126\": 1, \"28\": 5, \"5\": 1, \"106\": 1, \"103\": 1, \"37\": 2, \"23\": 1}, \"88\": {\"126\": 1, \"88\": 2, \"84\": 2, \"109\": 2, \"119\": 2, \"83\": 1, \"118\": 2}, \"17\": {\"86\": 2, \"54\": 2, \"56\": 2, \"17\": 3, \"114\": 1, \"41\": 2}, \"126\": {\"126\": 12}, \"33\": {\"33\": 12}, \"86\": {\"86\": 11, \"114\": 1}, \"106\": {\"106\": 10, \"97\": 1, \"58\": 1}, \"54\": {\"54\": 12}, \"125\": {\"125\": 12}, \"83\": {\"83\": 12}, \"98\": {\"98\": 8, \"91\": 2, \"68\": 2}, \"11\": {\"11\": 8, \"8\": 1, \"25\": 1, \"108\": 1, \"2\": 1}, \"32\": {\"11\": 1, \"32\": 5, \"19\": 2, \"29\": 1, \"3\": 1, \"123\": 1, \"40\": 1}, \"42\": {\"83\": 1, \"97\": 1, \"42\": 4, \"44\": 3, \"129\": 1, \"53\": 2}, \"103\": {\"103\": 11, \"111\": 1}, \"87\": {\"87\": 6, \"13\": 1, \"88\": 3, \"33\": 1, \"90\": 1}, \"61\": {\"118\": 1, \"32\": 1, \"61\": 7, \"121\": 1, \"105\": 2}, \"13\": {\"13\": 12}, \"4\": {\"4\": 12}, \"15\": {\"15\": 9, \"97\": 1}, \"120\": {\"120\": 12}, \"80\": {\"80\": 12}, \"72\": {\"102\": 2, \"72\": 8}, \"64\": {\"64\": 12}, \"81\": {\"81\": 12}, \"102\": {\"102\": 12}, \"76\": {\"76\": 12}, \"49\": {\"53\": 2, \"110\": 1, \"107\": 1, \"52\": 1, \"8\": 1, \"49\": 2, \"12\": 1, \"21\": 1}, \"129\": {\"129\": 11, \"112\": 1}, \"89\": {\"89\": 12}, \"52\": {\"52\": 12}, \"35\": {\"35\": 7, \"79\": 2, \"124\": 2, \"128\": 1}, \"53\": {\"53\": 7, \"79\": 1, \"29\": 2, \"128\": 1, \"108\": 1}, \"112\": {\"54\": 1, \"112\": 8, \"19\": 1, \"11\": 1, \"129\": 1}, \"105\": {\"105\": 12}, \"100\": {\"100\": 12}, \"9\": {\"9\": 12}, \"82\": {\"82\": 12}, \"51\": {\"51\": 4, \"125\": 2, \"127\": 2, \"77\": 1, \"6\": 1, \"59\": 2}, \"21\": {\"21\": 12}, \"92\": {\"92\": 9, \"45\": 2, \"84\": 1}, \"69\": {\"69\": 12}, \"77\": {\"77\": 12}, \"50\": {\"50\": 11, \"46\": 1}, \"36\": {\"36\": 7, \"24\": 1, \"0\": 1, \"9\": 3}, \"16\": {\"16\": 10, \"11\": 1, \"78\": 1}, \"8\": {\"18\": 1, \"8\": 9, \"11\": 1, \"120\": 1}, \"127\": {\"127\": 10, \"77\": 1, \"91\": 1}, \"46\": {\"46\": 10}, \"84\": {\"82\": 2, \"84\": 8, \"90\": 1, \"31\": 1}, \"18\": {\"18\": 12}, \"123\": {\"123\": 10}, \"56\": {\"66\": 2, \"56\": 5, \"28\": 1, \"85\": 2, \"107\": 1, \"15\": 1}, \"26\": {\"26\": 12}, \"14\": {\"109\": 1, \"14\": 5, \"29\": 2, \"44\": 1, \"50\": 1, \"43\": 1, \"2\": 1}, \"109\": {\"87\": 1, \"109\": 6, \"90\": 3, \"63\": 1, \"100\": 1}, \"66\": {\"66\": 12}, \"24\": {\"24\": 8, \"25\": 1, \"20\": 1, \"94\": 1, \"0\": 1}, \"71\": {\"109\": 1, \"71\": 5, \"19\": 2, \"53\": 2, \"5\": 1, \"60\": 1}, \"65\": {\"65\": 10, \"75\": 1, \"59\": 1}, \"75\": {\"75\": 9, \"77\": 2, \"21\": 1}, \"111\": {\"111\": 10, \"103\": 2}, \"30\": {\"30\": 6, \"127\": 2, \"106\": 2, \"42\": 1, \"128\": 1}, \"85\": {\"85\": 12}, \"113\": {\"65\": 1, \"113\": 5, \"90\": 2, \"21\": 1, \"121\": 1}, \"45\": {\"45\": 7, \"1\": 2, \"50\": 1, \"107\": 2}, \"29\": {\"29\": 9, \"128\": 2, \"20\": 1}, \"20\": {\"113\": 2, \"20\": 8, \"65\": 2}, \"25\": {\"25\": 10, \"97\": 2}, \"0\": {\"0\": 12}, \"68\": {\"68\": 11, \"49\": 1}, \"119\": {\"119\": 12}, \"90\": {\"90\": 12}, \"38\": {\"38\": 12}, \"99\": {\"99\": 12}, \"1\": {\"1\": 12}, \"67\": {\"1\": 2, \"67\": 7, \"51\": 1, \"55\": 1, \"106\": 1}, \"63\": {\"63\": 12}, \"34\": {\"34\": 6, \"19\": 1, \"114\": 1, \"122\": 1, \"91\": 1, \"129\": 1, \"35\": 1}, \"108\": {\"108\": 8, \"127\": 1, \"70\": 1, \"11\": 2}, \"40\": {\"40\": 11, \"61\": 1}, \"47\": {\"43\": 2, \"127\": 1, \"47\": 7, \"129\": 2}, \"37\": {\"37\": 12}, \"78\": {\"20\": 1, \"47\": 1, \"3\": 1, \"78\": 3, \"22\": 2, \"50\": 1, \"62\": 1, \"7\": 1, \"120\": 1}, \"96\": {\"96\": 12}, \"43\": {\"43\": 6, \"21\": 1, \"45\": 1, \"70\": 1, \"93\": 1, \"22\": 2}, \"5\": {\"5\": 9, \"53\": 1}, \"124\": {\"124\": 12}, \"44\": {\"44\": 12}, \"41\": {\"124\": 2, \"41\": 8, \"17\": 1, \"47\": 1}, \"116\": {\"116\": 9, \"84\": 1, \"33\": 1, \"119\": 1}, \"19\": {\"44\": 1, \"54\": 1, \"34\": 2, \"122\": 2, \"127\": 2, \"35\": 1, \"47\": 1, \"85\": 1, \"60\": 1}, \"115\": {\"32\": 2, \"7\": 1, \"115\": 7, \"110\": 2}, \"95\": {\"95\": 8, \"126\": 1, \"7\": 1, \"85\": 2}, \"3\": {\"32\": 2, \"3\": 8}, \"59\": {\"127\": 2, \"59\": 8, \"91\": 2}, \"55\": {\"55\": 11, \"33\": 1}, \"70\": {\"46\": 1, \"126\": 1, \"60\": 3, \"1\": 2, \"53\": 1, \"109\": 1, \"19\": 1, \"33\": 2}, \"6\": {\"6\": 8, \"51\": 2, \"59\": 1, \"94\": 1}, \"2\": {\"81\": 1, \"2\": 6, \"16\": 1, \"18\": 2, \"120\": 1, \"117\": 1}, \"48\": {\"48\": 12}, \"23\": {\"117\": 1, \"122\": 1, \"35\": 1, \"39\": 1, \"121\": 1, \"68\": 1, \"65\": 1, \"34\": 1, \"26\": 1, \"87\": 1, \"23\": 1, \"112\": 1}, \"7\": {\"7\": 12}, \"122\": {\"122\": 7, \"53\": 1, \"7\": 1, \"68\": 1, \"5\": 2}, \"57\": {\"57\": 10, \"42\": 1, \"71\": 1}, \"39\": {\"39\": 7, \"113\": 1, \"70\": 1, \"88\": 1}, \"79\": {\"79\": 7, \"108\": 2, \"127\": 1, \"124\": 2}, \"27\": {\"27\": 8, \"58\": 2}, \"74\": {\"74\": 8, \"108\": 1, \"115\": 1, \"78\": 1, \"8\": 1}, \"73\": {\"73\": 12}, \"62\": {\"62\": 12}, \"107\": {\"107\": 11, \"5\": 1}, \"128\": {\"73\": 1, \"7\": 1, \"8\": 2, \"59\": 1, \"14\": 1, \"115\": 3, \"128\": 1, \"33\": 2}, \"60\": {\"60\": 10, \"1\": 1, \"118\": 1}, \"114\": {\"114\": 10, \"86\": 2}, \"22\": {\"22\": 12}, \"93\": {\"93\": 12}, \"94\": {\"94\": 6, \"58\": 1, \"9\": 2, \"59\": 1, \"77\": 1, \"88\": 1}, \"31\": {\"72\": 2, \"31\": 7, \"90\": 1}, \"104\": {\"104\": 12}, \"58\": {\"58\": 12}}}, \"per_domain_accuracy\": {\"ORACLE.run114\": {\"accuracy\": 0.806875, \"source?\": true}, \"ORACLE.run120\": {\"accuracy\": 0.6269270833333334, \"source?\": true}, \"ORACLE.run138\": {\"accuracy\": 0.74796875, \"source?\": true}, \"ORACLE.run18\": {\"accuracy\": 0.6684375, \"source?\": true}, \"ORACLE.run150\": {\"accuracy\": 0.76796875, \"source?\": true}, \"ORACLE.run132\": {\"accuracy\": 0.7490625, \"source?\": true}, \"ORACLE.run126\": {\"accuracy\": 0.5416666666666666, \"source?\": true}, \"ORACLE.run144\": {\"accuracy\": 0.7283854166666667, \"source?\": true}, \"Wisig_3\": {\"accuracy\": 0.7545572916666666, \"source?\": false}, \"Wisig_4\": {\"accuracy\": 0.7141927083333334, \"source?\": false}, \"Wisig_1\": {\"accuracy\": 0.7571614583333334, \"source?\": false}, \"Wisig_2\": {\"accuracy\": 0.759765625, \"source?\": false}}}, \"history\": {\"epoch_indices\": [1, 2, 3, 4, 5, 6], \"train_label_loss\": [1.0360006235633046, 0.7892515189262728, 0.6805977052567704, 0.6079875639573272, 0.5463392887253403, 0.49922564965894534], \"source_val_label_loss\": [0.9439341425895691, 0.7971685528755188, 0.7506276965141296, 0.727213442325592, 0.7339739203453064, 0.7320178151130676], \"target_val_label_loss\": [8.03502368927002, 5.786372184753418, 7.927605628967285, 8.445154190063477, 9.073253631591797, 9.397929191589355], \"source_val_acc_label\": [0.65458984375, 0.7046614583333334, 0.7286979166666666, 0.73998046875, 0.7385677083333333, 0.73990234375], \"target_val_acc_label\": [0.7058919270833334, 0.7464192708333334, 0.7506510416666666, 0.779296875, 0.7742513020833334, 0.7825520833333334]}, \"dataset_metrics\": {\"source\": {\"train\": {\"n_unique_x\": 896000, \"n_unique_y\": 16, \"n_batch/episode\": 33600}, \"val\": {\"n_unique_x\": 192000, \"n_unique_y\": 16, \"n_batch/episode\": 4800}, \"test\": {\"n_unique_x\": 192000, \"n_unique_y\": 16, \"n_batch/episode\": 4800}}, \"target\": {\"train\": {\"n_unique_x\": 36400, \"n_unique_y\": 130, \"n_batch/episode\": 1347}, \"val\": {\"n_unique_x\": 7800, \"n_unique_y\": 130, \"n_batch/episode\": 192}, \"test\": {\"n_unique_x\": 7800, \"n_unique_y\": 130, \"n_batch/episode\": 192}}}}'"
      ]
     },
     "execution_count": 29,
     "metadata": {},
     "output_type": "execute_result"
    }
   ],
   "source": [
    "json.dumps(experiment)"
   ]
  }
 ],
 "metadata": {
  "celltoolbar": "Tags",
  "kernelspec": {
   "display_name": "Python 3 (ipykernel)",
   "language": "python",
   "name": "python3"
  },
  "language_info": {
   "codemirror_mode": {
    "name": "ipython",
    "version": 3
   },
   "file_extension": ".py",
   "mimetype": "text/x-python",
   "name": "python",
   "nbconvert_exporter": "python",
   "pygments_lexer": "ipython3",
   "version": "3.8.10"
  },
  "papermill": {
   "default_parameters": {},
   "duration": 5730.677148,
   "end_time": "2022-03-11T00:34:36.239309",
   "environment_variables": {},
   "exception": null,
   "input_path": "/mnt/wd500GB/CSC500/csc500-main/csc500-notebooks/templates/tl_ptn_template.ipynb",
   "output_path": "trial.ipynb",
   "parameters": {
    "parameters": {
     "BEST_MODEL_PATH": "./best_model.pth",
     "NUM_LOGS_PER_EPOCH": 10,
     "criteria_for_best": "target_loss",
     "dataset_seed": 1337,
     "datasets": [
      {
       "domain_prefix": "Wisig_",
       "domains": [
        1,
        2,
        3,
        4
       ],
       "episode_transforms": [],
       "labels": [
        "1-10",
        "1-12",
        "1-14",
        "1-16",
        "1-18",
        "1-19",
        "1-8",
        "10-11",
        "10-17",
        "10-4",
        "10-7",
        "11-1",
        "11-10",
        "11-19",
        "11-20",
        "11-4",
        "11-7",
        "12-19",
        "12-20",
        "12-7",
        "13-14",
        "13-18",
        "13-19",
        "13-20",
        "13-3",
        "13-7",
        "14-10",
        "14-11",
        "14-12",
        "14-13",
        "14-14",
        "14-19",
        "14-20",
        "14-7",
        "14-8",
        "14-9",
        "15-1",
        "15-19",
        "15-6",
        "16-1",
        "16-16",
        "16-19",
        "16-20",
        "17-10",
        "17-11",
        "18-1",
        "18-10",
        "18-11",
        "18-12",
        "18-13",
        "18-14",
        "18-15",
        "18-16",
        "18-17",
        "18-19",
        "18-2",
        "18-20",
        "18-4",
        "18-5",
        "18-7",
        "18-8",
        "18-9",
        "19-1",
        "19-10",
        "19-11",
        "19-12",
        "19-13",
        "19-14",
        "19-15",
        "19-19",
        "19-2",
        "19-20",
        "19-3",
        "19-4",
        "19-6",
        "19-7",
        "19-8",
        "19-9",
        "2-1",
        "2-13",
        "2-15",
        "2-3",
        "2-4",
        "2-5",
        "2-6",
        "2-7",
        "2-8",
        "20-1",
        "20-12",
        "20-14",
        "20-15",
        "20-16",
        "20-18",
        "20-19",
        "20-20",
        "20-3",
        "20-4",
        "20-5",
        "20-7",
        "20-8",
        "3-1",
        "3-13",
        "3-18",
        "3-2",
        "3-8",
        "4-1",
        "4-10",
        "4-11",
        "5-1",
        "5-5",
        "6-1",
        "6-15",
        "6-6",
        "7-10",
        "7-11",
        "7-12",
        "7-13",
        "7-14",
        "7-7",
        "7-8",
        "7-9",
        "8-1",
        "8-13",
        "8-14",
        "8-18",
        "8-20",
        "8-3",
        "8-8",
        "9-1",
        "9-7"
       ],
       "num_examples_per_domain_per_label": 100,
       "pickle_path": "/mnt/wd500GB/CSC500/csc500-main/datasets/wisig.node3-19.stratified_ds.2022A.pkl",
       "source_or_target_dataset": "target",
       "x_transforms": [
        "unit_mag"
       ]
      },
      {
       "domain_prefix": "ORACLE.run1",
       "domains": [
        32,
        38,
        8,
        44,
        14,
        50,
        20,
        26
       ],
       "episode_transforms": [],
       "labels": [
        "3123D52",
        "3123D65",
        "3123D79",
        "3123D80",
        "3123D54",
        "3123D70",
        "3123D7B",
        "3123D89",
        "3123D58",
        "3123D76",
        "3123D7D",
        "3123EFE",
        "3123D64",
        "3123D78",
        "3123D7E",
        "3124E4A"
       ],
       "num_examples_per_domain_per_label": 10000,
       "pickle_path": "/mnt/wd500GB/CSC500/csc500-main/datasets/oracle.Run1_10kExamples_stratified_ds.2022A.pkl",
       "source_or_target_dataset": "source",
       "x_transforms": [
        "unit_mag"
       ]
      }
     ],
     "device": "cuda",
     "experiment_name": "tl_1_wisig-oracle.run1",
     "lr": 0.001,
     "n_epoch": 50,
     "n_query": 2,
     "n_shot": 3,
     "n_way": 16,
     "patience": 3,
     "seed": 1337,
     "test_k_factor": 2,
     "torch_default_dtype": "torch.float32",
     "train_k_factor": 3,
     "val_k_factor": 2,
     "x_net": [
      {
       "class": "nnReshape",
       "kargs": {
        "shape": [
         -1,
         1,
         2,
         256
        ]
       }
      },
      {
       "class": "Conv2d",
       "kargs": {
        "bias": false,
        "in_channels": 1,
        "kernel_size": [
         1,
         7
        ],
        "out_channels": 256,
        "padding": [
         0,
         3
        ]
       }
      },
      {
       "class": "ReLU",
       "kargs": {
        "inplace": true
       }
      },
      {
       "class": "BatchNorm2d",
       "kargs": {
        "num_features": 256
       }
      },
      {
       "class": "Conv2d",
       "kargs": {
        "bias": true,
        "in_channels": 256,
        "kernel_size": [
         2,
         7
        ],
        "out_channels": 80,
        "padding": [
         0,
         3
        ]
       }
      },
      {
       "class": "ReLU",
       "kargs": {
        "inplace": true
       }
      },
      {
       "class": "BatchNorm2d",
       "kargs": {
        "num_features": 80
       }
      },
      {
       "class": "Flatten",
       "kargs": {}
      },
      {
       "class": "Linear",
       "kargs": {
        "in_features": 20480,
        "out_features": 256
       }
      },
      {
       "class": "ReLU",
       "kargs": {
        "inplace": true
       }
      },
      {
       "class": "BatchNorm1d",
       "kargs": {
        "num_features": 256
       }
      },
      {
       "class": "Linear",
       "kargs": {
        "in_features": 256,
        "out_features": 256
       }
      }
     ]
    }
   },
   "start_time": "2022-03-10T22:59:05.562161",
   "version": "2.3.4"
  }
 },
 "nbformat": 4,
 "nbformat_minor": 5
}