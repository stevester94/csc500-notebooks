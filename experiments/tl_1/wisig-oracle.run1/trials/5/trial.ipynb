{
 "cells": [
  {
   "cell_type": "markdown",
   "id": "9fea5f46",
   "metadata": {
    "papermill": {
     "duration": 0.019448,
     "end_time": "2022-03-11T00:34:37.018620",
     "exception": false,
     "start_time": "2022-03-11T00:34:36.999172",
     "status": "completed"
    },
    "tags": []
   },
   "source": [
    "# Transfer Learning Template"
   ]
  },
  {
   "cell_type": "code",
   "execution_count": 1,
   "id": "0902182a",
   "metadata": {
    "execution": {
     "iopub.execute_input": "2022-03-11T00:34:37.057807Z",
     "iopub.status.busy": "2022-03-11T00:34:37.049936Z",
     "iopub.status.idle": "2022-03-11T00:34:37.945341Z",
     "shell.execute_reply": "2022-03-11T00:34:37.945562Z"
    },
    "papermill": {
     "duration": 0.914717,
     "end_time": "2022-03-11T00:34:37.945689",
     "exception": false,
     "start_time": "2022-03-11T00:34:37.030972",
     "status": "completed"
    },
    "tags": []
   },
   "outputs": [],
   "source": [
    "%load_ext autoreload\n",
    "%autoreload 2\n",
    "%matplotlib inline\n",
    "\n",
    "    \n",
    "import os, json, sys, time, random\n",
    "import numpy as np\n",
    "import torch\n",
    "from torch.optim import Adam\n",
    "from  easydict import EasyDict\n",
    "import matplotlib.pyplot as plt\n",
    "\n",
    "from steves_models.steves_ptn import Steves_Prototypical_Network\n",
    "\n",
    "from steves_utils.lazy_iterable_wrapper import Lazy_Iterable_Wrapper\n",
    "from steves_utils.iterable_aggregator import Iterable_Aggregator\n",
    "from steves_utils.ptn_train_eval_test_jig import  PTN_Train_Eval_Test_Jig\n",
    "from steves_utils.torch_sequential_builder import build_sequential\n",
    "from steves_utils.torch_utils import get_dataset_metrics, ptn_confusion_by_domain_over_dataloader\n",
    "from steves_utils.utils_v2 import (per_domain_accuracy_from_confusion, get_datasets_base_path)\n",
    "from steves_utils.PTN.utils import independent_accuracy_assesment\n",
    "\n",
    "from torch.utils.data import DataLoader\n",
    "\n",
    "from steves_utils.stratified_dataset.episodic_accessor import Episodic_Accessor_Factory\n",
    "\n",
    "from steves_utils.ptn_do_report import (\n",
    "    get_loss_curve,\n",
    "    get_results_table,\n",
    "    get_parameters_table,\n",
    "    get_domain_accuracies,\n",
    ")\n",
    "\n",
    "from steves_utils.transforms import get_chained_transform"
   ]
  },
  {
   "cell_type": "markdown",
   "id": "41c840b4",
   "metadata": {
    "papermill": {
     "duration": 0.013132,
     "end_time": "2022-03-11T00:34:37.977237",
     "exception": false,
     "start_time": "2022-03-11T00:34:37.964105",
     "status": "completed"
    },
    "tags": []
   },
   "source": [
    "# Allowed Parameters\n",
    "These are allowed parameters, not defaults\n",
    "Each of these values need to be present in the injected parameters (the notebook will raise an exception if they are not present)\n",
    "\n",
    "Papermill uses the cell tag \"parameters\" to inject the real parameters below this cell.\n",
    "Enable tags to see what I mean"
   ]
  },
  {
   "cell_type": "code",
   "execution_count": 2,
   "id": "fd44eb83",
   "metadata": {
    "execution": {
     "iopub.execute_input": "2022-03-11T00:34:38.005444Z",
     "iopub.status.busy": "2022-03-11T00:34:38.005181Z",
     "iopub.status.idle": "2022-03-11T00:34:38.015477Z",
     "shell.execute_reply": "2022-03-11T00:34:38.015686Z"
    },
    "papermill": {
     "duration": 0.02541,
     "end_time": "2022-03-11T00:34:38.015744",
     "exception": false,
     "start_time": "2022-03-11T00:34:37.990334",
     "status": "completed"
    },
    "tags": []
   },
   "outputs": [],
   "source": [
    "required_parameters = {\n",
    "    \"experiment_name\",\n",
    "    \"lr\",\n",
    "    \"device\",\n",
    "    \"seed\",\n",
    "    \"dataset_seed\",\n",
    "    \"n_shot\",\n",
    "    \"n_query\",\n",
    "    \"n_way\",\n",
    "    \"train_k_factor\",\n",
    "    \"val_k_factor\",\n",
    "    \"test_k_factor\",\n",
    "    \"n_epoch\",\n",
    "    \"patience\",\n",
    "    \"criteria_for_best\",\n",
    "    \"x_net\",\n",
    "    \"datasets\",\n",
    "    \"torch_default_dtype\",\n",
    "    \"NUM_LOGS_PER_EPOCH\",\n",
    "    \"BEST_MODEL_PATH\",\n",
    "}"
   ]
  },
  {
   "cell_type": "code",
   "execution_count": 3,
   "id": "fa3f0049",
   "metadata": {
    "execution": {
     "iopub.execute_input": "2022-03-11T00:34:38.050797Z",
     "iopub.status.busy": "2022-03-11T00:34:38.050488Z",
     "iopub.status.idle": "2022-03-11T00:34:38.062822Z",
     "shell.execute_reply": "2022-03-11T00:34:38.063026Z"
    },
    "papermill": {
     "duration": 0.034104,
     "end_time": "2022-03-11T00:34:38.063089",
     "exception": false,
     "start_time": "2022-03-11T00:34:38.028985",
     "status": "completed"
    },
    "tags": [
     "parameters"
    ]
   },
   "outputs": [],
   "source": [
    "from steves_utils.CORES.utils import (\n",
    "    ALL_NODES,\n",
    "    ALL_NODES_MINIMUM_1000_EXAMPLES,\n",
    "    ALL_DAYS\n",
    ")\n",
    "\n",
    "from steves_utils.ORACLE.utils_v2 import (\n",
    "    ALL_DISTANCES_FEET_NARROWED,\n",
    "    ALL_RUNS,\n",
    "    ALL_SERIAL_NUMBERS,\n",
    ")\n",
    "\n",
    "standalone_parameters = {}\n",
    "standalone_parameters[\"experiment_name\"] = \"STANDALONE PTN\"\n",
    "standalone_parameters[\"lr\"] = 0.001\n",
    "standalone_parameters[\"device\"] = \"cuda\"\n",
    "\n",
    "standalone_parameters[\"seed\"] = 1337\n",
    "standalone_parameters[\"dataset_seed\"] = 1337\n",
    "\n",
    "standalone_parameters[\"n_way\"] = 8\n",
    "standalone_parameters[\"n_shot\"] = 3\n",
    "standalone_parameters[\"n_query\"]  = 2\n",
    "standalone_parameters[\"train_k_factor\"] = 1\n",
    "standalone_parameters[\"val_k_factor\"] = 2\n",
    "standalone_parameters[\"test_k_factor\"] = 2\n",
    "\n",
    "\n",
    "standalone_parameters[\"n_epoch\"] = 50\n",
    "\n",
    "standalone_parameters[\"patience\"] = 10\n",
    "standalone_parameters[\"criteria_for_best\"] = \"source_loss\"\n",
    "\n",
    "standalone_parameters[\"datasets\"] = [\n",
    "    {\n",
    "        \"labels\": ALL_SERIAL_NUMBERS,\n",
    "        \"domains\": ALL_DISTANCES_FEET_NARROWED,\n",
    "        \"num_examples_per_domain_per_label\": 100,\n",
    "        \"pickle_path\": os.path.join(get_datasets_base_path(), \"oracle.Run1_framed_2000Examples_stratified_ds.2022A.pkl\"),\n",
    "        \"source_or_target_dataset\": \"source\",\n",
    "        \"x_transforms\": [\"unit_mag\", \"minus_two\"],\n",
    "        \"episode_transforms\": [],\n",
    "        \"domain_prefix\": \"ORACLE_\"\n",
    "    },\n",
    "    {\n",
    "        \"labels\": ALL_NODES,\n",
    "        \"domains\": ALL_DAYS,\n",
    "        \"num_examples_per_domain_per_label\": 100,\n",
    "        \"pickle_path\": os.path.join(get_datasets_base_path(), \"cores.stratified_ds.2022A.pkl\"),\n",
    "        \"source_or_target_dataset\": \"target\",\n",
    "        \"x_transforms\": [\"unit_power\", \"times_zero\"],\n",
    "        \"episode_transforms\": [],\n",
    "        \"domain_prefix\": \"CORES_\"\n",
    "    }   \n",
    "]\n",
    "\n",
    "standalone_parameters[\"torch_default_dtype\"] = \"torch.float32\" \n",
    "\n",
    "\n",
    "\n",
    "standalone_parameters[\"x_net\"] =     [\n",
    "    {\"class\": \"nnReshape\", \"kargs\": {\"shape\":[-1, 1, 2, 256]}},\n",
    "    {\"class\": \"Conv2d\", \"kargs\": { \"in_channels\":1, \"out_channels\":256, \"kernel_size\":(1,7), \"bias\":False, \"padding\":(0,3), },},\n",
    "    {\"class\": \"ReLU\", \"kargs\": {\"inplace\": True}},\n",
    "    {\"class\": \"BatchNorm2d\", \"kargs\": {\"num_features\":256}},\n",
    "\n",
    "    {\"class\": \"Conv2d\", \"kargs\": { \"in_channels\":256, \"out_channels\":80, \"kernel_size\":(2,7), \"bias\":True, \"padding\":(0,3), },},\n",
    "    {\"class\": \"ReLU\", \"kargs\": {\"inplace\": True}},\n",
    "    {\"class\": \"BatchNorm2d\", \"kargs\": {\"num_features\":80}},\n",
    "    {\"class\": \"Flatten\", \"kargs\": {}},\n",
    "\n",
    "    {\"class\": \"Linear\", \"kargs\": {\"in_features\": 80*256, \"out_features\": 256}}, # 80 units per IQ pair\n",
    "    {\"class\": \"ReLU\", \"kargs\": {\"inplace\": True}},\n",
    "    {\"class\": \"BatchNorm1d\", \"kargs\": {\"num_features\":256}},\n",
    "\n",
    "    {\"class\": \"Linear\", \"kargs\": {\"in_features\": 256, \"out_features\": 256}},\n",
    "]\n",
    "\n",
    "# Parameters relevant to results\n",
    "# These parameters will basically never need to change\n",
    "standalone_parameters[\"NUM_LOGS_PER_EPOCH\"] = 10\n",
    "standalone_parameters[\"BEST_MODEL_PATH\"] = \"./best_model.pth\"\n",
    "\n",
    "\n",
    "\n",
    "\n"
   ]
  },
  {
   "cell_type": "code",
   "execution_count": 4,
   "id": "e4dacbf0",
   "metadata": {
    "execution": {
     "iopub.execute_input": "2022-03-11T00:34:38.099117Z",
     "iopub.status.busy": "2022-03-11T00:34:38.098772Z",
     "iopub.status.idle": "2022-03-11T00:34:38.111421Z",
     "shell.execute_reply": "2022-03-11T00:34:38.111173Z"
    },
    "papermill": {
     "duration": 0.035711,
     "end_time": "2022-03-11T00:34:38.111470",
     "exception": false,
     "start_time": "2022-03-11T00:34:38.075759",
     "status": "completed"
    },
    "tags": [
     "injected-parameters"
    ]
   },
   "outputs": [],
   "source": [
    "# Parameters\n",
    "parameters = {\n",
    "    \"experiment_name\": \"tl_1_wisig-oracle.run1\",\n",
    "    \"device\": \"cuda\",\n",
    "    \"lr\": 0.001,\n",
    "    \"seed\": 1337,\n",
    "    \"dataset_seed\": 1337,\n",
    "    \"n_shot\": 3,\n",
    "    \"n_query\": 2,\n",
    "    \"train_k_factor\": 3,\n",
    "    \"val_k_factor\": 2,\n",
    "    \"test_k_factor\": 2,\n",
    "    \"torch_default_dtype\": \"torch.float32\",\n",
    "    \"n_epoch\": 50,\n",
    "    \"patience\": 3,\n",
    "    \"criteria_for_best\": \"target_loss\",\n",
    "    \"x_net\": [\n",
    "        {\"class\": \"nnReshape\", \"kargs\": {\"shape\": [-1, 1, 2, 256]}},\n",
    "        {\n",
    "            \"class\": \"Conv2d\",\n",
    "            \"kargs\": {\n",
    "                \"in_channels\": 1,\n",
    "                \"out_channels\": 256,\n",
    "                \"kernel_size\": [1, 7],\n",
    "                \"bias\": False,\n",
    "                \"padding\": [0, 3],\n",
    "            },\n",
    "        },\n",
    "        {\"class\": \"ReLU\", \"kargs\": {\"inplace\": True}},\n",
    "        {\"class\": \"BatchNorm2d\", \"kargs\": {\"num_features\": 256}},\n",
    "        {\n",
    "            \"class\": \"Conv2d\",\n",
    "            \"kargs\": {\n",
    "                \"in_channels\": 256,\n",
    "                \"out_channels\": 80,\n",
    "                \"kernel_size\": [2, 7],\n",
    "                \"bias\": True,\n",
    "                \"padding\": [0, 3],\n",
    "            },\n",
    "        },\n",
    "        {\"class\": \"ReLU\", \"kargs\": {\"inplace\": True}},\n",
    "        {\"class\": \"BatchNorm2d\", \"kargs\": {\"num_features\": 80}},\n",
    "        {\"class\": \"Flatten\", \"kargs\": {}},\n",
    "        {\"class\": \"Linear\", \"kargs\": {\"in_features\": 20480, \"out_features\": 256}},\n",
    "        {\"class\": \"ReLU\", \"kargs\": {\"inplace\": True}},\n",
    "        {\"class\": \"BatchNorm1d\", \"kargs\": {\"num_features\": 256}},\n",
    "        {\"class\": \"Linear\", \"kargs\": {\"in_features\": 256, \"out_features\": 256}},\n",
    "    ],\n",
    "    \"NUM_LOGS_PER_EPOCH\": 10,\n",
    "    \"BEST_MODEL_PATH\": \"./best_model.pth\",\n",
    "    \"n_way\": 16,\n",
    "    \"datasets\": [\n",
    "        {\n",
    "            \"labels\": [\n",
    "                \"1-10\",\n",
    "                \"1-12\",\n",
    "                \"1-14\",\n",
    "                \"1-16\",\n",
    "                \"1-18\",\n",
    "                \"1-19\",\n",
    "                \"1-8\",\n",
    "                \"10-11\",\n",
    "                \"10-17\",\n",
    "                \"10-4\",\n",
    "                \"10-7\",\n",
    "                \"11-1\",\n",
    "                \"11-10\",\n",
    "                \"11-19\",\n",
    "                \"11-20\",\n",
    "                \"11-4\",\n",
    "                \"11-7\",\n",
    "                \"12-19\",\n",
    "                \"12-20\",\n",
    "                \"12-7\",\n",
    "                \"13-14\",\n",
    "                \"13-18\",\n",
    "                \"13-19\",\n",
    "                \"13-20\",\n",
    "                \"13-3\",\n",
    "                \"13-7\",\n",
    "                \"14-10\",\n",
    "                \"14-11\",\n",
    "                \"14-12\",\n",
    "                \"14-13\",\n",
    "                \"14-14\",\n",
    "                \"14-19\",\n",
    "                \"14-20\",\n",
    "                \"14-7\",\n",
    "                \"14-8\",\n",
    "                \"14-9\",\n",
    "                \"15-1\",\n",
    "                \"15-19\",\n",
    "                \"15-6\",\n",
    "                \"16-1\",\n",
    "                \"16-16\",\n",
    "                \"16-19\",\n",
    "                \"16-20\",\n",
    "                \"17-10\",\n",
    "                \"17-11\",\n",
    "                \"18-1\",\n",
    "                \"18-10\",\n",
    "                \"18-11\",\n",
    "                \"18-12\",\n",
    "                \"18-13\",\n",
    "                \"18-14\",\n",
    "                \"18-15\",\n",
    "                \"18-16\",\n",
    "                \"18-17\",\n",
    "                \"18-19\",\n",
    "                \"18-2\",\n",
    "                \"18-20\",\n",
    "                \"18-4\",\n",
    "                \"18-5\",\n",
    "                \"18-7\",\n",
    "                \"18-8\",\n",
    "                \"18-9\",\n",
    "                \"19-1\",\n",
    "                \"19-10\",\n",
    "                \"19-11\",\n",
    "                \"19-12\",\n",
    "                \"19-13\",\n",
    "                \"19-14\",\n",
    "                \"19-15\",\n",
    "                \"19-19\",\n",
    "                \"19-2\",\n",
    "                \"19-20\",\n",
    "                \"19-3\",\n",
    "                \"19-4\",\n",
    "                \"19-6\",\n",
    "                \"19-7\",\n",
    "                \"19-8\",\n",
    "                \"19-9\",\n",
    "                \"2-1\",\n",
    "                \"2-13\",\n",
    "                \"2-15\",\n",
    "                \"2-3\",\n",
    "                \"2-4\",\n",
    "                \"2-5\",\n",
    "                \"2-6\",\n",
    "                \"2-7\",\n",
    "                \"2-8\",\n",
    "                \"20-1\",\n",
    "                \"20-12\",\n",
    "                \"20-14\",\n",
    "                \"20-15\",\n",
    "                \"20-16\",\n",
    "                \"20-18\",\n",
    "                \"20-19\",\n",
    "                \"20-20\",\n",
    "                \"20-3\",\n",
    "                \"20-4\",\n",
    "                \"20-5\",\n",
    "                \"20-7\",\n",
    "                \"20-8\",\n",
    "                \"3-1\",\n",
    "                \"3-13\",\n",
    "                \"3-18\",\n",
    "                \"3-2\",\n",
    "                \"3-8\",\n",
    "                \"4-1\",\n",
    "                \"4-10\",\n",
    "                \"4-11\",\n",
    "                \"5-1\",\n",
    "                \"5-5\",\n",
    "                \"6-1\",\n",
    "                \"6-15\",\n",
    "                \"6-6\",\n",
    "                \"7-10\",\n",
    "                \"7-11\",\n",
    "                \"7-12\",\n",
    "                \"7-13\",\n",
    "                \"7-14\",\n",
    "                \"7-7\",\n",
    "                \"7-8\",\n",
    "                \"7-9\",\n",
    "                \"8-1\",\n",
    "                \"8-13\",\n",
    "                \"8-14\",\n",
    "                \"8-18\",\n",
    "                \"8-20\",\n",
    "                \"8-3\",\n",
    "                \"8-8\",\n",
    "                \"9-1\",\n",
    "                \"9-7\",\n",
    "            ],\n",
    "            \"domains\": [1, 2, 3, 4],\n",
    "            \"num_examples_per_domain_per_label\": 100,\n",
    "            \"pickle_path\": \"/mnt/wd500GB/CSC500/csc500-main/datasets/wisig.node3-19.stratified_ds.2022A.pkl\",\n",
    "            \"source_or_target_dataset\": \"target\",\n",
    "            \"x_transforms\": [],\n",
    "            \"episode_transforms\": [],\n",
    "            \"domain_prefix\": \"Wisig_\",\n",
    "        },\n",
    "        {\n",
    "            \"labels\": [\n",
    "                \"3123D52\",\n",
    "                \"3123D65\",\n",
    "                \"3123D79\",\n",
    "                \"3123D80\",\n",
    "                \"3123D54\",\n",
    "                \"3123D70\",\n",
    "                \"3123D7B\",\n",
    "                \"3123D89\",\n",
    "                \"3123D58\",\n",
    "                \"3123D76\",\n",
    "                \"3123D7D\",\n",
    "                \"3123EFE\",\n",
    "                \"3123D64\",\n",
    "                \"3123D78\",\n",
    "                \"3123D7E\",\n",
    "                \"3124E4A\",\n",
    "            ],\n",
    "            \"domains\": [32, 38, 8, 44, 14, 50, 20, 26],\n",
    "            \"num_examples_per_domain_per_label\": 10000,\n",
    "            \"pickle_path\": \"/mnt/wd500GB/CSC500/csc500-main/datasets/oracle.Run1_10kExamples_stratified_ds.2022A.pkl\",\n",
    "            \"source_or_target_dataset\": \"source\",\n",
    "            \"x_transforms\": [],\n",
    "            \"episode_transforms\": [],\n",
    "            \"domain_prefix\": \"ORACLE.run1\",\n",
    "        },\n",
    "    ],\n",
    "}\n"
   ]
  },
  {
   "cell_type": "code",
   "execution_count": 5,
   "id": "8fa1cc33",
   "metadata": {
    "execution": {
     "iopub.execute_input": "2022-03-11T00:34:38.140421Z",
     "iopub.status.busy": "2022-03-11T00:34:38.140162Z",
     "iopub.status.idle": "2022-03-11T00:34:38.155721Z",
     "shell.execute_reply": "2022-03-11T00:34:38.155477Z"
    },
    "papermill": {
     "duration": 0.031683,
     "end_time": "2022-03-11T00:34:38.155769",
     "exception": false,
     "start_time": "2022-03-11T00:34:38.124086",
     "status": "completed"
    },
    "tags": []
   },
   "outputs": [],
   "source": [
    "# Set this to True if you want to run this template directly\n",
    "STANDALONE = False\n",
    "if STANDALONE:\n",
    "    print(\"parameters not injected, running with standalone_parameters\")\n",
    "    parameters = standalone_parameters\n",
    "\n",
    "if not 'parameters' in locals() and not 'parameters' in globals():\n",
    "    raise Exception(\"Parameter injection failed\")\n",
    "\n",
    "#Use an easy dict for all the parameters\n",
    "p = EasyDict(parameters)\n",
    "\n",
    "supplied_keys = set(p.keys())\n",
    "\n",
    "if  supplied_keys != required_parameters:\n",
    "    print(\"Parameters are incorrect\")\n",
    "    if len(supplied_keys - required_parameters)>0: print(\"Shouldn't have:\", str(supplied_keys - required_parameters))\n",
    "    if len(required_parameters - supplied_keys)>0: print(\"Need to have:\", str(required_parameters - supplied_keys))\n",
    "    raise RuntimeError(\"Parameters are incorrect\")\n",
    "\n"
   ]
  },
  {
   "cell_type": "code",
   "execution_count": 6,
   "id": "3a028d58",
   "metadata": {
    "execution": {
     "iopub.execute_input": "2022-03-11T00:34:38.183410Z",
     "iopub.status.busy": "2022-03-11T00:34:38.183164Z",
     "iopub.status.idle": "2022-03-11T00:34:38.198959Z",
     "shell.execute_reply": "2022-03-11T00:34:38.198708Z"
    },
    "papermill": {
     "duration": 0.030627,
     "end_time": "2022-03-11T00:34:38.199012",
     "exception": false,
     "start_time": "2022-03-11T00:34:38.168385",
     "status": "completed"
    },
    "tags": []
   },
   "outputs": [],
   "source": [
    "###################################\n",
    "# Set the RNGs and make it all deterministic\n",
    "###################################\n",
    "np.random.seed(p.seed)\n",
    "random.seed(p.seed)\n",
    "torch.manual_seed(p.seed)\n",
    "\n",
    "torch.use_deterministic_algorithms(True) "
   ]
  },
  {
   "cell_type": "code",
   "execution_count": 7,
   "id": "b691acf6",
   "metadata": {
    "execution": {
     "iopub.execute_input": "2022-03-11T00:34:38.226425Z",
     "iopub.status.busy": "2022-03-11T00:34:38.226120Z",
     "iopub.status.idle": "2022-03-11T00:34:38.239296Z",
     "shell.execute_reply": "2022-03-11T00:34:38.239054Z"
    },
    "papermill": {
     "duration": 0.027488,
     "end_time": "2022-03-11T00:34:38.239344",
     "exception": false,
     "start_time": "2022-03-11T00:34:38.211856",
     "status": "completed"
    },
    "tags": []
   },
   "outputs": [],
   "source": [
    "###########################################\n",
    "# The stratified datasets honor this\n",
    "###########################################\n",
    "torch.set_default_dtype(eval(p.torch_default_dtype))"
   ]
  },
  {
   "cell_type": "code",
   "execution_count": 8,
   "id": "b5fba671",
   "metadata": {
    "execution": {
     "iopub.execute_input": "2022-03-11T00:34:38.266671Z",
     "iopub.status.busy": "2022-03-11T00:34:38.266428Z",
     "iopub.status.idle": "2022-03-11T00:34:38.306729Z",
     "shell.execute_reply": "2022-03-11T00:34:38.306502Z"
    },
    "papermill": {
     "duration": 0.054723,
     "end_time": "2022-03-11T00:34:38.306778",
     "exception": false,
     "start_time": "2022-03-11T00:34:38.252055",
     "status": "completed"
    },
    "tags": []
   },
   "outputs": [],
   "source": [
    "###################################\n",
    "# Build the network(s)\n",
    "# Note: It's critical to do this AFTER setting the RNG\n",
    "###################################\n",
    "x_net = build_sequential(p.x_net)"
   ]
  },
  {
   "cell_type": "code",
   "execution_count": 9,
   "id": "5d7e61cc",
   "metadata": {
    "execution": {
     "iopub.execute_input": "2022-03-11T00:34:38.334853Z",
     "iopub.status.busy": "2022-03-11T00:34:38.334603Z",
     "iopub.status.idle": "2022-03-11T00:34:38.348908Z",
     "shell.execute_reply": "2022-03-11T00:34:38.349108Z"
    },
    "papermill": {
     "duration": 0.029449,
     "end_time": "2022-03-11T00:34:38.349165",
     "exception": false,
     "start_time": "2022-03-11T00:34:38.319716",
     "status": "completed"
    },
    "tags": []
   },
   "outputs": [],
   "source": [
    "start_time_secs = time.time()"
   ]
  },
  {
   "cell_type": "code",
   "execution_count": 10,
   "id": "c6b67dfd",
   "metadata": {
    "execution": {
     "iopub.execute_input": "2022-03-11T00:34:38.377674Z",
     "iopub.status.busy": "2022-03-11T00:34:38.377428Z",
     "iopub.status.idle": "2022-03-11T00:34:38.391970Z",
     "shell.execute_reply": "2022-03-11T00:34:38.391560Z"
    },
    "papermill": {
     "duration": 0.029918,
     "end_time": "2022-03-11T00:34:38.392057",
     "exception": false,
     "start_time": "2022-03-11T00:34:38.362139",
     "status": "completed"
    },
    "tags": []
   },
   "outputs": [],
   "source": [
    "p.domains_source = []\n",
    "p.domains_target = []\n",
    "\n",
    "\n",
    "train_original_source = []\n",
    "val_original_source   = []\n",
    "test_original_source  = []\n",
    "\n",
    "train_original_target = []\n",
    "val_original_target   = []\n",
    "test_original_target  = []"
   ]
  },
  {
   "cell_type": "code",
   "execution_count": 11,
   "id": "e3d9c3d3",
   "metadata": {
    "execution": {
     "iopub.execute_input": "2022-03-11T00:34:38.424815Z",
     "iopub.status.busy": "2022-03-11T00:34:38.424564Z",
     "iopub.status.idle": "2022-03-11T00:34:38.434492Z",
     "shell.execute_reply": "2022-03-11T00:34:38.434248Z"
    },
    "papermill": {
     "duration": 0.024157,
     "end_time": "2022-03-11T00:34:38.434540",
     "exception": false,
     "start_time": "2022-03-11T00:34:38.410383",
     "status": "completed"
    },
    "tags": []
   },
   "outputs": [],
   "source": [
    "# global_x_transform_func = lambda x: normalize(x.to(torch.get_default_dtype()), \"unit_power\") # unit_power, unit_mag\n",
    "# global_x_transform_func = lambda x: normalize(x, \"unit_power\") # unit_power, unit_mag"
   ]
  },
  {
   "cell_type": "code",
   "execution_count": 12,
   "id": "acb78fd2",
   "metadata": {
    "execution": {
     "iopub.execute_input": "2022-03-11T00:34:38.470219Z",
     "iopub.status.busy": "2022-03-11T00:34:38.469755Z",
     "iopub.status.idle": "2022-03-11T00:34:38.481449Z",
     "shell.execute_reply": "2022-03-11T00:34:38.481005Z"
    },
    "papermill": {
     "duration": 0.031386,
     "end_time": "2022-03-11T00:34:38.481536",
     "exception": false,
     "start_time": "2022-03-11T00:34:38.450150",
     "status": "completed"
    },
    "tags": []
   },
   "outputs": [],
   "source": [
    "def add_dataset(\n",
    "    labels,\n",
    "    domains,\n",
    "    pickle_path,\n",
    "    x_transforms,\n",
    "    episode_transforms,\n",
    "    domain_prefix,\n",
    "    num_examples_per_domain_per_label,\n",
    "    source_or_target_dataset:str,\n",
    "    iterator_seed=p.seed,\n",
    "    dataset_seed=p.dataset_seed,\n",
    "    n_shot=p.n_shot,\n",
    "    n_way=p.n_way,\n",
    "    n_query=p.n_query,\n",
    "    train_val_test_k_factors=(p.train_k_factor,p.val_k_factor,p.test_k_factor),\n",
    "):\n",
    "   \n",
    "    if x_transforms == []: x_transform = None\n",
    "    else: x_transform = get_chained_transform(x_transforms)\n",
    "    \n",
    "    if episode_transforms == []: episode_transform = None\n",
    "    else: raise Exception(\"episode_transforms not implemented\")\n",
    "    \n",
    "    episode_transform = lambda tup, _prefix=domain_prefix: (_prefix + str(tup[0]), tup[1])\n",
    "\n",
    "\n",
    "    eaf = Episodic_Accessor_Factory(\n",
    "        labels=labels,\n",
    "        domains=domains,\n",
    "        num_examples_per_domain_per_label=num_examples_per_domain_per_label,\n",
    "        iterator_seed=iterator_seed,\n",
    "        dataset_seed=dataset_seed,\n",
    "        n_shot=n_shot,\n",
    "        n_way=n_way,\n",
    "        n_query=n_query,\n",
    "        train_val_test_k_factors=train_val_test_k_factors,\n",
    "        pickle_path=pickle_path,\n",
    "        x_transform_func=x_transform,\n",
    "    )\n",
    "\n",
    "    train, val, test = eaf.get_train(), eaf.get_val(), eaf.get_test()\n",
    "    train = Lazy_Iterable_Wrapper(train, episode_transform)\n",
    "    val = Lazy_Iterable_Wrapper(val, episode_transform)\n",
    "    test = Lazy_Iterable_Wrapper(test, episode_transform)\n",
    "\n",
    "    if source_or_target_dataset==\"source\":\n",
    "        train_original_source.append(train)\n",
    "        val_original_source.append(val)\n",
    "        test_original_source.append(test)\n",
    "\n",
    "        p.domains_source.extend(\n",
    "            [domain_prefix + str(u) for u in domains]\n",
    "        )\n",
    "    elif source_or_target_dataset==\"target\":\n",
    "        train_original_target.append(train)\n",
    "        val_original_target.append(val)\n",
    "        test_original_target.append(test)\n",
    "        p.domains_target.extend(\n",
    "            [domain_prefix + str(u) for u in domains]\n",
    "        )\n",
    "    else:\n",
    "        raise Exception(f\"invalid source_or_target_dataset: {source_or_target_dataset}\")\n",
    "    "
   ]
  },
  {
   "cell_type": "code",
   "execution_count": 13,
   "id": "fe266617",
   "metadata": {
    "execution": {
     "iopub.execute_input": "2022-03-11T00:34:38.514324Z",
     "iopub.status.busy": "2022-03-11T00:34:38.514081Z",
     "iopub.status.idle": "2022-03-11T00:34:44.275322Z",
     "shell.execute_reply": "2022-03-11T00:34:44.274931Z"
    },
    "papermill": {
     "duration": 5.776053,
     "end_time": "2022-03-11T00:34:44.275419",
     "exception": false,
     "start_time": "2022-03-11T00:34:38.499366",
     "status": "completed"
    },
    "tags": []
   },
   "outputs": [],
   "source": [
    "for ds in p.datasets:\n",
    "    add_dataset(**ds)"
   ]
  },
  {
   "cell_type": "code",
   "execution_count": 14,
   "id": "b90d65ac",
   "metadata": {
    "execution": {
     "iopub.execute_input": "2022-03-11T00:34:44.307502Z",
     "iopub.status.busy": "2022-03-11T00:34:44.307249Z",
     "iopub.status.idle": "2022-03-11T00:34:44.320695Z",
     "shell.execute_reply": "2022-03-11T00:34:44.320251Z"
    },
    "papermill": {
     "duration": 0.028145,
     "end_time": "2022-03-11T00:34:44.320784",
     "exception": false,
     "start_time": "2022-03-11T00:34:44.292639",
     "status": "completed"
    },
    "tags": []
   },
   "outputs": [],
   "source": [
    "# from steves_utils.CORES.utils import (\n",
    "#     ALL_NODES,\n",
    "#     ALL_NODES_MINIMUM_1000_EXAMPLES,\n",
    "#     ALL_DAYS\n",
    "# )\n",
    "\n",
    "# add_dataset(\n",
    "#     labels=ALL_NODES,\n",
    "#     domains = ALL_DAYS,\n",
    "#     num_examples_per_domain_per_label=100,\n",
    "#     pickle_path=os.path.join(get_datasets_base_path(), \"cores.stratified_ds.2022A.pkl\"),\n",
    "#     source_or_target_dataset=\"target\",\n",
    "#     x_transform_func=global_x_transform_func,\n",
    "#     domain_modifier=lambda u: f\"cores_{u}\"\n",
    "# )"
   ]
  },
  {
   "cell_type": "code",
   "execution_count": 15,
   "id": "76db484d",
   "metadata": {
    "execution": {
     "iopub.execute_input": "2022-03-11T00:34:44.354252Z",
     "iopub.status.busy": "2022-03-11T00:34:44.354004Z",
     "iopub.status.idle": "2022-03-11T00:34:44.366859Z",
     "shell.execute_reply": "2022-03-11T00:34:44.366612Z"
    },
    "papermill": {
     "duration": 0.02786,
     "end_time": "2022-03-11T00:34:44.366931",
     "exception": false,
     "start_time": "2022-03-11T00:34:44.339071",
     "status": "completed"
    },
    "tags": []
   },
   "outputs": [],
   "source": [
    "# from steves_utils.ORACLE.utils_v2 import (\n",
    "#     ALL_DISTANCES_FEET,\n",
    "#     ALL_RUNS,\n",
    "#     ALL_SERIAL_NUMBERS,\n",
    "# )\n",
    "\n",
    "\n",
    "# add_dataset(\n",
    "#     labels=ALL_SERIAL_NUMBERS,\n",
    "#     domains = list(set(ALL_DISTANCES_FEET) - {2,62}),\n",
    "#     num_examples_per_domain_per_label=100,\n",
    "#     pickle_path=os.path.join(get_datasets_base_path(), \"oracle.Run2_framed_2000Examples_stratified_ds.2022A.pkl\"),\n",
    "#     source_or_target_dataset=\"source\",\n",
    "#     x_transform_func=global_x_transform_func,\n",
    "#     domain_modifier=lambda u: f\"oracle1_{u}\"\n",
    "# )\n"
   ]
  },
  {
   "cell_type": "code",
   "execution_count": 16,
   "id": "97dea9d2",
   "metadata": {
    "execution": {
     "iopub.execute_input": "2022-03-11T00:34:44.400049Z",
     "iopub.status.busy": "2022-03-11T00:34:44.399795Z",
     "iopub.status.idle": "2022-03-11T00:34:44.411739Z",
     "shell.execute_reply": "2022-03-11T00:34:44.411393Z"
    },
    "papermill": {
     "duration": 0.027266,
     "end_time": "2022-03-11T00:34:44.411809",
     "exception": false,
     "start_time": "2022-03-11T00:34:44.384543",
     "status": "completed"
    },
    "tags": []
   },
   "outputs": [],
   "source": [
    "# from steves_utils.ORACLE.utils_v2 import (\n",
    "#     ALL_DISTANCES_FEET,\n",
    "#     ALL_RUNS,\n",
    "#     ALL_SERIAL_NUMBERS,\n",
    "# )\n",
    "\n",
    "\n",
    "# add_dataset(\n",
    "#     labels=ALL_SERIAL_NUMBERS,\n",
    "#     domains = list(set(ALL_DISTANCES_FEET) - {2,62,56}),\n",
    "#     num_examples_per_domain_per_label=100,\n",
    "#     pickle_path=os.path.join(get_datasets_base_path(), \"oracle.Run2_framed_2000Examples_stratified_ds.2022A.pkl\"),\n",
    "#     source_or_target_dataset=\"source\",\n",
    "#     x_transform_func=global_x_transform_func,\n",
    "#     domain_modifier=lambda u: f\"oracle2_{u}\"\n",
    "# )"
   ]
  },
  {
   "cell_type": "code",
   "execution_count": 17,
   "id": "6f289866",
   "metadata": {
    "execution": {
     "iopub.execute_input": "2022-03-11T00:34:44.445397Z",
     "iopub.status.busy": "2022-03-11T00:34:44.445148Z",
     "iopub.status.idle": "2022-03-11T00:34:44.458371Z",
     "shell.execute_reply": "2022-03-11T00:34:44.457927Z"
    },
    "papermill": {
     "duration": 0.028316,
     "end_time": "2022-03-11T00:34:44.458459",
     "exception": false,
     "start_time": "2022-03-11T00:34:44.430143",
     "status": "completed"
    },
    "tags": []
   },
   "outputs": [],
   "source": [
    "# add_dataset(\n",
    "#     labels=list(range(19)),\n",
    "#     domains = [0,1,2],\n",
    "#     num_examples_per_domain_per_label=100,\n",
    "#     pickle_path=os.path.join(get_datasets_base_path(), \"metehan.stratified_ds.2022A.pkl\"),\n",
    "#     source_or_target_dataset=\"target\",\n",
    "#     x_transform_func=global_x_transform_func,\n",
    "#     domain_modifier=lambda u: f\"met_{u}\"\n",
    "# )"
   ]
  },
  {
   "cell_type": "code",
   "execution_count": 18,
   "id": "86a863c3",
   "metadata": {
    "execution": {
     "iopub.execute_input": "2022-03-11T00:34:44.491661Z",
     "iopub.status.busy": "2022-03-11T00:34:44.491413Z",
     "iopub.status.idle": "2022-03-11T00:34:44.506924Z",
     "shell.execute_reply": "2022-03-11T00:34:44.506471Z"
    },
    "papermill": {
     "duration": 0.030655,
     "end_time": "2022-03-11T00:34:44.507012",
     "exception": false,
     "start_time": "2022-03-11T00:34:44.476357",
     "status": "completed"
    },
    "tags": []
   },
   "outputs": [],
   "source": [
    "# # from steves_utils.wisig.utils import (\n",
    "# #     ALL_NODES_MINIMUM_100_EXAMPLES,\n",
    "# #     ALL_NODES_MINIMUM_500_EXAMPLES,\n",
    "# #     ALL_NODES_MINIMUM_1000_EXAMPLES,\n",
    "# #     ALL_DAYS\n",
    "# # )\n",
    "\n",
    "# import steves_utils.wisig.utils as wisig\n",
    "\n",
    "\n",
    "# add_dataset(\n",
    "#     labels=wisig.ALL_NODES_MINIMUM_100_EXAMPLES,\n",
    "#     domains = wisig.ALL_DAYS,\n",
    "#     num_examples_per_domain_per_label=100,\n",
    "#     pickle_path=os.path.join(get_datasets_base_path(), \"wisig.node3-19.stratified_ds.2022A.pkl\"),\n",
    "#     source_or_target_dataset=\"target\",\n",
    "#     x_transform_func=global_x_transform_func,\n",
    "#     domain_modifier=lambda u: f\"wisig_{u}\"\n",
    "# )"
   ]
  },
  {
   "cell_type": "code",
   "execution_count": 19,
   "id": "fd5442bc",
   "metadata": {
    "execution": {
     "iopub.execute_input": "2022-03-11T00:34:44.541105Z",
     "iopub.status.busy": "2022-03-11T00:34:44.540851Z",
     "iopub.status.idle": "2022-03-11T00:34:44.551787Z",
     "shell.execute_reply": "2022-03-11T00:34:44.551440Z"
    },
    "papermill": {
     "duration": 0.027634,
     "end_time": "2022-03-11T00:34:44.551856",
     "exception": false,
     "start_time": "2022-03-11T00:34:44.524222",
     "status": "completed"
    },
    "tags": []
   },
   "outputs": [],
   "source": [
    "###################################\n",
    "# Build the dataset\n",
    "###################################\n",
    "train_original_source = Iterable_Aggregator(train_original_source, p.seed)\n",
    "val_original_source = Iterable_Aggregator(val_original_source, p.seed)\n",
    "test_original_source = Iterable_Aggregator(test_original_source, p.seed)\n",
    "\n",
    "\n",
    "train_original_target = Iterable_Aggregator(train_original_target, p.seed)\n",
    "val_original_target = Iterable_Aggregator(val_original_target, p.seed)\n",
    "test_original_target = Iterable_Aggregator(test_original_target, p.seed)\n",
    "\n",
    "# For CNN We only use X and Y. And we only train on the source.\n",
    "# Properly form the data using a transform lambda and Lazy_Iterable_Wrapper. Finally wrap them in a dataloader\n",
    "\n",
    "transform_lambda = lambda ex: ex[1] # Original is (<domain>, <episode>) so we strip down to episode only\n",
    "\n",
    "train_processed_source = Lazy_Iterable_Wrapper(train_original_source, transform_lambda)\n",
    "val_processed_source   = Lazy_Iterable_Wrapper(val_original_source, transform_lambda)\n",
    "test_processed_source  = Lazy_Iterable_Wrapper(test_original_source, transform_lambda)\n",
    "\n",
    "train_processed_target = Lazy_Iterable_Wrapper(train_original_target, transform_lambda)\n",
    "val_processed_target   = Lazy_Iterable_Wrapper(val_original_target, transform_lambda)\n",
    "test_processed_target  = Lazy_Iterable_Wrapper(test_original_target, transform_lambda)\n",
    "\n",
    "datasets = EasyDict({\n",
    "    \"source\": {\n",
    "        \"original\": {\"train\":train_original_source, \"val\":val_original_source, \"test\":test_original_source},\n",
    "        \"processed\": {\"train\":train_processed_source, \"val\":val_processed_source, \"test\":test_processed_source}\n",
    "    },\n",
    "    \"target\": {\n",
    "        \"original\": {\"train\":train_original_target, \"val\":val_original_target, \"test\":test_original_target},\n",
    "        \"processed\": {\"train\":train_processed_target, \"val\":val_processed_target, \"test\":test_processed_target}\n",
    "    },\n",
    "})"
   ]
  },
  {
   "cell_type": "code",
   "execution_count": 20,
   "id": "5b3c01fc",
   "metadata": {
    "execution": {
     "iopub.execute_input": "2022-03-11T00:34:44.587103Z",
     "iopub.status.busy": "2022-03-11T00:34:44.586816Z",
     "iopub.status.idle": "2022-03-11T00:34:58.582757Z",
     "shell.execute_reply": "2022-03-11T00:34:58.583064Z"
    },
    "papermill": {
     "duration": 14.012567,
     "end_time": "2022-03-11T00:34:58.583171",
     "exception": false,
     "start_time": "2022-03-11T00:34:44.570604",
     "status": "completed"
    },
    "tags": []
   },
   "outputs": [
    {
     "name": "stdout",
     "output_type": "stream",
     "text": [
      "{'ORACLE.run126', 'ORACLE.run120', 'ORACLE.run144', 'ORACLE.run18', 'ORACLE.run114', 'ORACLE.run138', 'ORACLE.run132', 'ORACLE.run150'}\n"
     ]
    },
    {
     "name": "stdout",
     "output_type": "stream",
     "text": [
      "{'Wisig_3', 'Wisig_2', 'Wisig_1', 'Wisig_4'}\n"
     ]
    },
    {
     "name": "stdout",
     "output_type": "stream",
     "text": [
      "tensor([[[-6.1037e-05, -1.0987e-03,  1.1292e-03,  ..., -1.0376e-03,\n",
      "          -8.8504e-04,  1.7701e-03],\n",
      "         [-1.8616e-03,  7.3244e-04, -3.9674e-04,  ...,  2.1363e-04,\n",
      "          -3.0519e-03,  4.2726e-04]],\n",
      "\n",
      "        [[ 1.4954e-03, -2.3804e-03, -4.6083e-03,  ...,  1.4649e-03,\n",
      "           1.8311e-04, -1.0376e-03],\n",
      "         [-4.5778e-04, -1.3428e-03, -4.7609e-03,  ..., -1.5564e-03,\n",
      "           1.0071e-03, -1.7090e-03]],\n",
      "\n",
      "        [[-2.8382e-03, -1.4954e-03,  3.3570e-04,  ...,  3.9674e-04,\n",
      "           4.6388e-03,  3.5707e-03],\n",
      "         [-6.4089e-04,  1.0987e-03, -1.2207e-03,  ..., -4.9135e-03,\n",
      "           0.0000e+00, -9.1556e-05]],\n",
      "\n",
      "        ...,\n",
      "\n",
      "        [[-6.1037e-05,  3.0824e-03, -3.6622e-04,  ..., -4.1505e-03,\n",
      "          -6.6836e-03,  4.3031e-03],\n",
      "         [ 5.8596e-03, -4.2116e-03, -2.5941e-03,  ..., -6.7141e-04,\n",
      "           1.0071e-03, -4.5473e-03]],\n",
      "\n",
      "        [[-4.2116e-03, -6.5310e-03, -7.8433e-03,  ..., -4.0590e-03,\n",
      "           2.6246e-03,  9.4607e-04],\n",
      "         [ 5.4018e-03,  1.5259e-04,  5.4018e-03,  ..., -1.5259e-03,\n",
      "           3.5096e-03, -9.1556e-04]],\n",
      "\n",
      "        [[ 6.2868e-03, -3.3570e-03, -2.8382e-03,  ..., -3.8148e-03,\n",
      "          -1.8921e-03, -3.0519e-05],\n",
      "         [-2.2279e-03,  4.6999e-03,  3.0519e-05,  ...,  7.2634e-03,\n",
      "           1.0681e-03,  5.0661e-03]]])\n"
     ]
    }
   ],
   "source": [
    "from steves_utils.transforms import get_average_magnitude, get_average_power\n",
    "\n",
    "print(set([u for u,_ in val_original_source]))\n",
    "print(set([u for u,_ in val_original_target]))\n",
    "\n",
    "s_x, s_y, q_x, q_y, _ = next(iter(train_processed_source))\n",
    "print(s_x)\n",
    "\n",
    "# for ds in [\n",
    "#     train_processed_source,\n",
    "#     val_processed_source,\n",
    "#     test_processed_source,\n",
    "#     train_processed_target,\n",
    "#     val_processed_target,\n",
    "#     test_processed_target\n",
    "# ]:\n",
    "#     for s_x, s_y, q_x, q_y, _ in ds:\n",
    "#         for X in (s_x, q_x):\n",
    "#             for x in X:\n",
    "#                 assert np.isclose(get_average_magnitude(x.numpy()), 1.0)\n",
    "#                 assert np.isclose(get_average_power(x.numpy()), 1.0)\n",
    "                "
   ]
  },
  {
   "cell_type": "code",
   "execution_count": 21,
   "id": "bbdacba1",
   "metadata": {
    "execution": {
     "iopub.execute_input": "2022-03-11T00:34:58.619435Z",
     "iopub.status.busy": "2022-03-11T00:34:58.619179Z",
     "iopub.status.idle": "2022-03-11T00:34:58.673627Z",
     "shell.execute_reply": "2022-03-11T00:34:58.673376Z"
    },
    "papermill": {
     "duration": 0.071449,
     "end_time": "2022-03-11T00:34:58.673680",
     "exception": false,
     "start_time": "2022-03-11T00:34:58.602231",
     "status": "completed"
    },
    "tags": []
   },
   "outputs": [
    {
     "name": "stdout",
     "output_type": "stream",
     "text": [
      "(2, 256)\n"
     ]
    }
   ],
   "source": [
    "###################################\n",
    "# Build the model\n",
    "###################################\n",
    "model = Steves_Prototypical_Network(x_net, device=p.device, x_shape=(2,256))\n",
    "optimizer = Adam(params=model.parameters(), lr=p.lr)"
   ]
  },
  {
   "cell_type": "code",
   "execution_count": 22,
   "id": "22b39ac5",
   "metadata": {
    "execution": {
     "iopub.execute_input": "2022-03-11T00:34:58.706322Z",
     "iopub.status.busy": "2022-03-11T00:34:58.706044Z",
     "iopub.status.idle": "2022-03-11T01:49:48.132321Z",
     "shell.execute_reply": "2022-03-11T01:49:48.132084Z"
    },
    "papermill": {
     "duration": 4489.443966,
     "end_time": "2022-03-11T01:49:48.132381",
     "exception": false,
     "start_time": "2022-03-11T00:34:58.688415",
     "status": "completed"
    },
    "tags": []
   },
   "outputs": [
    {
     "name": "stdout",
     "output_type": "stream",
     "text": [
      "epoch: 1, [batch: 1 / 33600], examples_per_second: 9.9337, train_label_loss: 2.4283, \n"
     ]
    },
    {
     "name": "stdout",
     "output_type": "stream",
     "text": [
      "epoch: 1, [batch: 3360 / 33600], examples_per_second: 3148.7765, train_label_loss: 1.0673, \n"
     ]
    },
    {
     "name": "stdout",
     "output_type": "stream",
     "text": [
      "epoch: 1, [batch: 6720 / 33600], examples_per_second: 3153.2295, train_label_loss: 0.8903, \n"
     ]
    },
    {
     "name": "stdout",
     "output_type": "stream",
     "text": [
      "epoch: 1, [batch: 10080 / 33600], examples_per_second: 3152.8006, train_label_loss: 0.4152, \n"
     ]
    },
    {
     "name": "stdout",
     "output_type": "stream",
     "text": [
      "epoch: 1, [batch: 13440 / 33600], examples_per_second: 3145.0490, train_label_loss: 0.5033, \n"
     ]
    },
    {
     "name": "stdout",
     "output_type": "stream",
     "text": [
      "epoch: 1, [batch: 16800 / 33600], examples_per_second: 3155.5712, train_label_loss: 0.3068, \n"
     ]
    },
    {
     "name": "stdout",
     "output_type": "stream",
     "text": [
      "epoch: 1, [batch: 20160 / 33600], examples_per_second: 3159.9662, train_label_loss: 0.3657, \n"
     ]
    },
    {
     "name": "stdout",
     "output_type": "stream",
     "text": [
      "epoch: 1, [batch: 23520 / 33600], examples_per_second: 3139.5365, train_label_loss: 0.2881, \n"
     ]
    },
    {
     "name": "stdout",
     "output_type": "stream",
     "text": [
      "epoch: 1, [batch: 26880 / 33600], examples_per_second: 3150.7906, train_label_loss: 0.5665, \n"
     ]
    },
    {
     "name": "stdout",
     "output_type": "stream",
     "text": [
      "epoch: 1, [batch: 30240 / 33600], examples_per_second: 3153.6291, train_label_loss: 0.7332, \n"
     ]
    },
    {
     "name": "stdout",
     "output_type": "stream",
     "text": [
      "=============================================================\n",
      "epoch: 1, source_val_acc_label: 0.6676, target_val_acc_label: 0.5602, source_val_label_loss: 14.0273, target_val_label_loss: 2077.2908, \n",
      "=============================================================\n"
     ]
    },
    {
     "name": "stdout",
     "output_type": "stream",
     "text": [
      "New best\n"
     ]
    },
    {
     "name": "stdout",
     "output_type": "stream",
     "text": [
      "epoch: 2, [batch: 1 / 33600], examples_per_second: 1.1746, train_label_loss: 0.5319, \n"
     ]
    },
    {
     "name": "stdout",
     "output_type": "stream",
     "text": [
      "epoch: 2, [batch: 3360 / 33600], examples_per_second: 3173.2089, train_label_loss: 0.3503, \n"
     ]
    },
    {
     "name": "stdout",
     "output_type": "stream",
     "text": [
      "epoch: 2, [batch: 6720 / 33600], examples_per_second: 3184.6165, train_label_loss: 0.6040, \n"
     ]
    },
    {
     "name": "stdout",
     "output_type": "stream",
     "text": [
      "epoch: 2, [batch: 10080 / 33600], examples_per_second: 3186.9823, train_label_loss: 0.2808, \n"
     ]
    },
    {
     "name": "stdout",
     "output_type": "stream",
     "text": [
      "epoch: 2, [batch: 13440 / 33600], examples_per_second: 3164.7495, train_label_loss: 0.2234, \n"
     ]
    },
    {
     "name": "stdout",
     "output_type": "stream",
     "text": [
      "epoch: 2, [batch: 16800 / 33600], examples_per_second: 3175.0920, train_label_loss: 0.7678, \n"
     ]
    },
    {
     "name": "stdout",
     "output_type": "stream",
     "text": [
      "epoch: 2, [batch: 20160 / 33600], examples_per_second: 3185.4294, train_label_loss: 0.7354, \n"
     ]
    },
    {
     "name": "stdout",
     "output_type": "stream",
     "text": [
      "epoch: 2, [batch: 23520 / 33600], examples_per_second: 3175.8936, train_label_loss: 0.3471, \n"
     ]
    },
    {
     "name": "stdout",
     "output_type": "stream",
     "text": [
      "epoch: 2, [batch: 26880 / 33600], examples_per_second: 3177.3926, train_label_loss: 0.3195, \n"
     ]
    },
    {
     "name": "stdout",
     "output_type": "stream",
     "text": [
      "epoch: 2, [batch: 30240 / 33600], examples_per_second: 3182.6433, train_label_loss: 0.2870, \n"
     ]
    },
    {
     "name": "stdout",
     "output_type": "stream",
     "text": [
      "=============================================================\n",
      "epoch: 2, source_val_acc_label: 0.8586, target_val_acc_label: 0.5317, source_val_label_loss: 0.4106, target_val_label_loss: 61226.3984, \n",
      "=============================================================\n"
     ]
    },
    {
     "name": "stdout",
     "output_type": "stream",
     "text": [
      "epoch: 3, [batch: 1 / 33600], examples_per_second: 1.1861, train_label_loss: 0.6207, \n"
     ]
    },
    {
     "name": "stdout",
     "output_type": "stream",
     "text": [
      "epoch: 3, [batch: 3360 / 33600], examples_per_second: 3172.0834, train_label_loss: 0.4236, \n"
     ]
    },
    {
     "name": "stdout",
     "output_type": "stream",
     "text": [
      "epoch: 3, [batch: 6720 / 33600], examples_per_second: 3180.8471, train_label_loss: 0.2337, \n"
     ]
    },
    {
     "name": "stdout",
     "output_type": "stream",
     "text": [
      "epoch: 3, [batch: 10080 / 33600], examples_per_second: 3192.2089, train_label_loss: 0.3744, \n"
     ]
    },
    {
     "name": "stdout",
     "output_type": "stream",
     "text": [
      "epoch: 3, [batch: 13440 / 33600], examples_per_second: 3178.3863, train_label_loss: 0.3448, \n"
     ]
    },
    {
     "name": "stdout",
     "output_type": "stream",
     "text": [
      "epoch: 3, [batch: 16800 / 33600], examples_per_second: 3184.6285, train_label_loss: 0.3447, \n"
     ]
    },
    {
     "name": "stdout",
     "output_type": "stream",
     "text": [
      "epoch: 3, [batch: 20160 / 33600], examples_per_second: 3180.9248, train_label_loss: 0.4493, \n"
     ]
    },
    {
     "name": "stdout",
     "output_type": "stream",
     "text": [
      "epoch: 3, [batch: 23520 / 33600], examples_per_second: 3167.8346, train_label_loss: 0.5563, \n"
     ]
    },
    {
     "name": "stdout",
     "output_type": "stream",
     "text": [
      "epoch: 3, [batch: 26880 / 33600], examples_per_second: 3182.3408, train_label_loss: 0.1162, \n"
     ]
    },
    {
     "name": "stdout",
     "output_type": "stream",
     "text": [
      "epoch: 3, [batch: 30240 / 33600], examples_per_second: 3185.4010, train_label_loss: 0.3912, \n"
     ]
    },
    {
     "name": "stdout",
     "output_type": "stream",
     "text": [
      "=============================================================\n",
      "epoch: 3, source_val_acc_label: 0.8688, target_val_acc_label: 0.4743, source_val_label_loss: 0.3713, target_val_label_loss: 109843.1172, \n",
      "=============================================================\n"
     ]
    },
    {
     "name": "stdout",
     "output_type": "stream",
     "text": [
      "epoch: 4, [batch: 1 / 33600], examples_per_second: 1.1804, train_label_loss: 0.1823, \n"
     ]
    },
    {
     "name": "stdout",
     "output_type": "stream",
     "text": [
      "epoch: 4, [batch: 3360 / 33600], examples_per_second: 3177.8231, train_label_loss: 0.3047, \n"
     ]
    },
    {
     "name": "stdout",
     "output_type": "stream",
     "text": [
      "epoch: 4, [batch: 6720 / 33600], examples_per_second: 3176.2541, train_label_loss: 0.4231, \n"
     ]
    },
    {
     "name": "stdout",
     "output_type": "stream",
     "text": [
      "epoch: 4, [batch: 10080 / 33600], examples_per_second: 3187.4955, train_label_loss: 0.2242, \n"
     ]
    },
    {
     "name": "stdout",
     "output_type": "stream",
     "text": [
      "epoch: 4, [batch: 13440 / 33600], examples_per_second: 3174.6834, train_label_loss: 0.2069, \n"
     ]
    },
    {
     "name": "stdout",
     "output_type": "stream",
     "text": [
      "epoch: 4, [batch: 16800 / 33600], examples_per_second: 3175.7329, train_label_loss: 0.2600, \n"
     ]
    },
    {
     "name": "stdout",
     "output_type": "stream",
     "text": [
      "epoch: 4, [batch: 20160 / 33600], examples_per_second: 3184.6397, train_label_loss: 0.0834, \n"
     ]
    },
    {
     "name": "stdout",
     "output_type": "stream",
     "text": [
      "epoch: 4, [batch: 23520 / 33600], examples_per_second: 3169.5548, train_label_loss: 0.1252, \n"
     ]
    },
    {
     "name": "stdout",
     "output_type": "stream",
     "text": [
      "epoch: 4, [batch: 26880 / 33600], examples_per_second: 3175.1717, train_label_loss: 0.2126, \n"
     ]
    },
    {
     "name": "stdout",
     "output_type": "stream",
     "text": [
      "epoch: 4, [batch: 30240 / 33600], examples_per_second: 3182.0520, train_label_loss: 0.3738, \n"
     ]
    },
    {
     "name": "stdout",
     "output_type": "stream",
     "text": [
      "=============================================================\n",
      "epoch: 4, source_val_acc_label: 0.8785, target_val_acc_label: 0.4546, source_val_label_loss: 0.3371, target_val_label_loss: 164753.1719, \n",
      "=============================================================\n"
     ]
    },
    {
     "name": "stdout",
     "output_type": "stream",
     "text": [
      "epoch: 5, [batch: 1 / 33600], examples_per_second: 1.1777, train_label_loss: 0.3567, \n"
     ]
    },
    {
     "name": "stdout",
     "output_type": "stream",
     "text": [
      "epoch: 5, [batch: 3360 / 33600], examples_per_second: 3168.7739, train_label_loss: 0.2224, \n"
     ]
    },
    {
     "name": "stdout",
     "output_type": "stream",
     "text": [
      "epoch: 5, [batch: 6720 / 33600], examples_per_second: 3178.0392, train_label_loss: 0.1491, \n"
     ]
    },
    {
     "name": "stdout",
     "output_type": "stream",
     "text": [
      "epoch: 5, [batch: 10080 / 33600], examples_per_second: 3190.1111, train_label_loss: 0.1216, \n"
     ]
    },
    {
     "name": "stdout",
     "output_type": "stream",
     "text": [
      "epoch: 5, [batch: 13440 / 33600], examples_per_second: 3182.2365, train_label_loss: 0.3844, \n"
     ]
    },
    {
     "name": "stdout",
     "output_type": "stream",
     "text": [
      "epoch: 5, [batch: 16800 / 33600], examples_per_second: 3186.6803, train_label_loss: 0.4786, \n"
     ]
    },
    {
     "name": "stdout",
     "output_type": "stream",
     "text": [
      "epoch: 5, [batch: 20160 / 33600], examples_per_second: 3188.5478, train_label_loss: 0.1659, \n"
     ]
    },
    {
     "name": "stdout",
     "output_type": "stream",
     "text": [
      "epoch: 5, [batch: 23520 / 33600], examples_per_second: 3161.7107, train_label_loss: 0.2930, \n"
     ]
    },
    {
     "name": "stdout",
     "output_type": "stream",
     "text": [
      "epoch: 5, [batch: 26880 / 33600], examples_per_second: 3164.3268, train_label_loss: 0.2161, \n"
     ]
    },
    {
     "name": "stdout",
     "output_type": "stream",
     "text": [
      "epoch: 5, [batch: 30240 / 33600], examples_per_second: 3182.7249, train_label_loss: 0.1556, \n"
     ]
    },
    {
     "name": "stdout",
     "output_type": "stream",
     "text": [
      "=============================================================\n",
      "epoch: 5, source_val_acc_label: 0.8815, target_val_acc_label: 0.4198, source_val_label_loss: 0.3269, target_val_label_loss: 214313.8438, \n",
      "=============================================================\n"
     ]
    },
    {
     "name": "stdout",
     "output_type": "stream",
     "text": [
      "Patience (3) exhausted\n"
     ]
    }
   ],
   "source": [
    "###################################\n",
    "# train\n",
    "###################################\n",
    "jig = PTN_Train_Eval_Test_Jig(model, p.BEST_MODEL_PATH, p.device)\n",
    "\n",
    "jig.train(\n",
    "    train_iterable=datasets.source.processed.train,\n",
    "    source_val_iterable=datasets.source.processed.val,\n",
    "    target_val_iterable=datasets.target.processed.val,\n",
    "    num_epochs=p.n_epoch,\n",
    "    num_logs_per_epoch=p.NUM_LOGS_PER_EPOCH,\n",
    "    patience=p.patience,\n",
    "    optimizer=optimizer,\n",
    "    criteria_for_best=p.criteria_for_best,\n",
    ")"
   ]
  },
  {
   "cell_type": "code",
   "execution_count": 23,
   "id": "31e8fabf",
   "metadata": {
    "execution": {
     "iopub.execute_input": "2022-03-11T01:49:48.185366Z",
     "iopub.status.busy": "2022-03-11T01:49:48.184816Z",
     "iopub.status.idle": "2022-03-11T01:49:48.199646Z",
     "shell.execute_reply": "2022-03-11T01:49:48.199252Z"
    },
    "papermill": {
     "duration": 0.042437,
     "end_time": "2022-03-11T01:49:48.199736",
     "exception": false,
     "start_time": "2022-03-11T01:49:48.157299",
     "status": "completed"
    },
    "tags": []
   },
   "outputs": [],
   "source": [
    "total_experiment_time_secs = time.time() - start_time_secs"
   ]
  },
  {
   "cell_type": "code",
   "execution_count": 24,
   "id": "87b9595b",
   "metadata": {
    "execution": {
     "iopub.execute_input": "2022-03-11T01:49:48.258340Z",
     "iopub.status.busy": "2022-03-11T01:49:48.258021Z",
     "iopub.status.idle": "2022-03-11T01:54:00.401579Z",
     "shell.execute_reply": "2022-03-11T01:54:00.401968Z"
    },
    "papermill": {
     "duration": 252.172033,
     "end_time": "2022-03-11T01:54:00.402105",
     "exception": false,
     "start_time": "2022-03-11T01:49:48.230072",
     "status": "completed"
    },
    "tags": []
   },
   "outputs": [],
   "source": [
    "###################################\n",
    "# Evaluate the model\n",
    "###################################\n",
    "source_test_label_accuracy, source_test_label_loss = jig.test(datasets.source.processed.test)\n",
    "target_test_label_accuracy, target_test_label_loss = jig.test(datasets.target.processed.test)\n",
    "\n",
    "source_val_label_accuracy, source_val_label_loss = jig.test(datasets.source.processed.val)\n",
    "target_val_label_accuracy, target_val_label_loss = jig.test(datasets.target.processed.val)\n",
    "\n",
    "history = jig.get_history()\n",
    "\n",
    "total_epochs_trained = len(history[\"epoch_indices\"])\n",
    "\n",
    "val_dl = Iterable_Aggregator((datasets.source.original.val,datasets.target.original.val))\n",
    "\n",
    "confusion = ptn_confusion_by_domain_over_dataloader(model, p.device, val_dl)\n",
    "per_domain_accuracy = per_domain_accuracy_from_confusion(confusion)\n",
    "\n",
    "# Add a key to per_domain_accuracy for if it was a source domain\n",
    "for domain, accuracy in per_domain_accuracy.items():\n",
    "    per_domain_accuracy[domain] = {\n",
    "        \"accuracy\": accuracy,\n",
    "        \"source?\": domain in p.domains_source\n",
    "    }\n",
    "\n",
    "# Do an independent accuracy assesment JUST TO BE SURE!\n",
    "# _source_test_label_accuracy = independent_accuracy_assesment(model, datasets.source.processed.test, p.device)\n",
    "# _target_test_label_accuracy = independent_accuracy_assesment(model, datasets.target.processed.test, p.device)\n",
    "# _source_val_label_accuracy = independent_accuracy_assesment(model, datasets.source.processed.val, p.device)\n",
    "# _target_val_label_accuracy = independent_accuracy_assesment(model, datasets.target.processed.val, p.device)\n",
    "\n",
    "# assert(_source_test_label_accuracy == source_test_label_accuracy)\n",
    "# assert(_target_test_label_accuracy == target_test_label_accuracy)\n",
    "# assert(_source_val_label_accuracy == source_val_label_accuracy)\n",
    "# assert(_target_val_label_accuracy == target_val_label_accuracy)\n",
    "\n",
    "experiment = {\n",
    "    \"experiment_name\": p.experiment_name,\n",
    "    \"parameters\": dict(p),\n",
    "    \"results\": {\n",
    "        \"source_test_label_accuracy\": source_test_label_accuracy,\n",
    "        \"source_test_label_loss\": source_test_label_loss,\n",
    "        \"target_test_label_accuracy\": target_test_label_accuracy,\n",
    "        \"target_test_label_loss\": target_test_label_loss,\n",
    "        \"source_val_label_accuracy\": source_val_label_accuracy,\n",
    "        \"source_val_label_loss\": source_val_label_loss,\n",
    "        \"target_val_label_accuracy\": target_val_label_accuracy,\n",
    "        \"target_val_label_loss\": target_val_label_loss,\n",
    "        \"total_epochs_trained\": total_epochs_trained,\n",
    "        \"total_experiment_time_secs\": total_experiment_time_secs,\n",
    "        \"confusion\": confusion,\n",
    "        \"per_domain_accuracy\": per_domain_accuracy,\n",
    "    },\n",
    "    \"history\": history,\n",
    "    \"dataset_metrics\": get_dataset_metrics(datasets, \"ptn\"),\n",
    "}"
   ]
  },
  {
   "cell_type": "code",
   "execution_count": 25,
   "id": "54a21829",
   "metadata": {
    "execution": {
     "iopub.execute_input": "2022-03-11T01:54:00.457540Z",
     "iopub.status.busy": "2022-03-11T01:54:00.457132Z",
     "iopub.status.idle": "2022-03-11T01:54:00.634735Z",
     "shell.execute_reply": "2022-03-11T01:54:00.634971Z"
    },
    "papermill": {
     "duration": 0.204483,
     "end_time": "2022-03-11T01:54:00.635053",
     "exception": false,
     "start_time": "2022-03-11T01:54:00.430570",
     "status": "completed"
    },
    "tags": []
   },
   "outputs": [
    {
     "data": {
      "image/png": "[encoded data removed]",
      "text/plain": [
       "<Figure size 1080x504 with 1 Axes>"
      ]
     },
     "metadata": {
      "needs_background": "light"
     },
     "output_type": "display_data"
    }
   ],
   "source": [
    "ax = get_loss_curve(experiment)\n",
    "plt.show()"
   ]
  },
  {
   "cell_type": "code",
   "execution_count": 26,
   "id": "fd8a0f60",
   "metadata": {
    "execution": {
     "iopub.execute_input": "2022-03-11T01:54:00.689111Z",
     "iopub.status.busy": "2022-03-11T01:54:00.688707Z",
     "iopub.status.idle": "2022-03-11T01:54:00.865383Z",
     "shell.execute_reply": "2022-03-11T01:54:00.865799Z"
    },
    "papermill": {
     "duration": 0.204847,
     "end_time": "2022-03-11T01:54:00.865930",
     "exception": false,
     "start_time": "2022-03-11T01:54:00.661083",
     "status": "completed"
    },
    "tags": []
   },
   "outputs": [
    {
     "data": {
      "text/plain": [
       "<matplotlib.axes._subplots.AxesSubplot at 0x7f2059d60550>"
      ]
     },
     "execution_count": 26,
     "metadata": {},
     "output_type": "execute_result"
    },
    {
     "data": {
      "image/png": "[encoded data removed]",
      "text/plain": [
       "<Figure size 1080x504 with 1 Axes>"
      ]
     },
     "metadata": {
      "needs_background": "light"
     },
     "output_type": "display_data"
    }
   ],
   "source": [
    "get_results_table(experiment)"
   ]
  },
  {
   "cell_type": "code",
   "execution_count": 27,
   "id": "cf8dc689",
   "metadata": {
    "execution": {
     "iopub.execute_input": "2022-03-11T01:54:00.926200Z",
     "iopub.status.busy": "2022-03-11T01:54:00.925944Z",
     "iopub.status.idle": "2022-03-11T01:54:01.125163Z",
     "shell.execute_reply": "2022-03-11T01:54:01.125573Z"
    },
    "papermill": {
     "duration": 0.228911,
     "end_time": "2022-03-11T01:54:01.125703",
     "exception": false,
     "start_time": "2022-03-11T01:54:00.896792",
     "status": "completed"
    },
    "tags": []
   },
   "outputs": [
    {
     "data": {
      "text/plain": [
       "<matplotlib.axes._subplots.AxesSubplot at 0x7f2061a6dd90>"
      ]
     },
     "execution_count": 27,
     "metadata": {},
     "output_type": "execute_result"
    },
    {
     "data": {
      "image/png": "[encoded data removed]",
      "text/plain": [
       "<Figure size 1080x504 with 1 Axes>"
      ]
     },
     "metadata": {
      "needs_background": "light"
     },
     "output_type": "display_data"
    }
   ],
   "source": [
    "get_domain_accuracies(experiment)"
   ]
  },
  {
   "cell_type": "code",
   "execution_count": 28,
   "id": "a74ae082",
   "metadata": {
    "execution": {
     "iopub.execute_input": "2022-03-11T01:54:01.188619Z",
     "iopub.status.busy": "2022-03-11T01:54:01.188355Z",
     "iopub.status.idle": "2022-03-11T01:54:01.200771Z",
     "shell.execute_reply": "2022-03-11T01:54:01.200551Z"
    },
    "papermill": {
     "duration": 0.042368,
     "end_time": "2022-03-11T01:54:01.200830",
     "exception": false,
     "start_time": "2022-03-11T01:54:01.158462",
     "status": "completed"
    },
    "tags": []
   },
   "outputs": [
    {
     "name": "stdout",
     "output_type": "stream",
     "text": [
      "Source Test Label Accuracy: 0.666640625 Target Test Label Accuracy: 0.5694986979166666\n",
      "Source Val Label Accuracy: 0.66763671875 Target Val Label Accuracy: 0.5602213541666666\n"
     ]
    }
   ],
   "source": [
    "print(\"Source Test Label Accuracy:\", experiment[\"results\"][\"source_test_label_accuracy\"], \"Target Test Label Accuracy:\", experiment[\"results\"][\"target_test_label_accuracy\"])\n",
    "print(\"Source Val Label Accuracy:\", experiment[\"results\"][\"source_val_label_accuracy\"], \"Target Val Label Accuracy:\", experiment[\"results\"][\"target_val_label_accuracy\"])"
   ]
  },
  {
   "cell_type": "code",
   "execution_count": 29,
   "id": "dacca602",
   "metadata": {
    "execution": {
     "iopub.execute_input": "2022-03-11T01:54:01.263728Z",
     "iopub.status.busy": "2022-03-11T01:54:01.263476Z",
     "iopub.status.idle": "2022-03-11T01:54:01.277369Z",
     "shell.execute_reply": "2022-03-11T01:54:01.277771Z"
    },
    "papermill": {
     "duration": 0.044043,
     "end_time": "2022-03-11T01:54:01.277895",
     "exception": false,
     "start_time": "2022-03-11T01:54:01.233852",
     "status": "completed"
    },
    "tags": [
     "experiment_json"
    ]
   },
   "outputs": [
    {
     "data": {
      "text/plain": [
       "'{\"experiment_name\": \"tl_1_wisig-oracle.run1\", \"parameters\": {\"experiment_name\": \"tl_1_wisig-oracle.run1\", \"device\": \"cuda\", \"lr\": 0.001, \"seed\": 1337, \"dataset_seed\": 1337, \"n_shot\": 3, \"n_query\": 2, \"train_k_factor\": 3, \"val_k_factor\": 2, \"test_k_factor\": 2, \"torch_default_dtype\": \"torch.float32\", \"n_epoch\": 50, \"patience\": 3, \"criteria_for_best\": \"target_loss\", \"x_net\": [{\"class\": \"nnReshape\", \"kargs\": {\"shape\": [-1, 1, 2, 256]}}, {\"class\": \"Conv2d\", \"kargs\": {\"in_channels\": 1, \"out_channels\": 256, \"kernel_size\": [1, 7], \"bias\": false, \"padding\": [0, 3]}}, {\"class\": \"ReLU\", \"kargs\": {\"inplace\": true}}, {\"class\": \"BatchNorm2d\", \"kargs\": {\"num_features\": 256}}, {\"class\": \"Conv2d\", \"kargs\": {\"in_channels\": 256, \"out_channels\": 80, \"kernel_size\": [2, 7], \"bias\": true, \"padding\": [0, 3]}}, {\"class\": \"ReLU\", \"kargs\": {\"inplace\": true}}, {\"class\": \"BatchNorm2d\", \"kargs\": {\"num_features\": 80}}, {\"class\": \"Flatten\", \"kargs\": {}}, {\"class\": \"Linear\", \"kargs\": {\"in_features\": 20480, \"out_features\": 256}}, {\"class\": \"ReLU\", \"kargs\": {\"inplace\": true}}, {\"class\": \"BatchNorm1d\", \"kargs\": {\"num_features\": 256}}, {\"class\": \"Linear\", \"kargs\": {\"in_features\": 256, \"out_features\": 256}}], \"NUM_LOGS_PER_EPOCH\": 10, \"BEST_MODEL_PATH\": \"./best_model.pth\", \"n_way\": 16, \"datasets\": [{\"labels\": [\"1-10\", \"1-12\", \"1-14\", \"1-16\", \"1-18\", \"1-19\", \"1-8\", \"10-11\", \"10-17\", \"10-4\", \"10-7\", \"11-1\", \"11-10\", \"11-19\", \"11-20\", \"11-4\", \"11-7\", \"12-19\", \"12-20\", \"12-7\", \"13-14\", \"13-18\", \"13-19\", \"13-20\", \"13-3\", \"13-7\", \"14-10\", \"14-11\", \"14-12\", \"14-13\", \"14-14\", \"14-19\", \"14-20\", \"14-7\", \"14-8\", \"14-9\", \"15-1\", \"15-19\", \"15-6\", \"16-1\", \"16-16\", \"16-19\", \"16-20\", \"17-10\", \"17-11\", \"18-1\", \"18-10\", \"18-11\", \"18-12\", \"18-13\", \"18-14\", \"18-15\", \"18-16\", \"18-17\", \"18-19\", \"18-2\", \"18-20\", \"18-4\", \"18-5\", \"18-7\", \"18-8\", \"18-9\", \"19-1\", \"19-10\", \"19-11\", \"19-12\", \"19-13\", \"19-14\", \"19-15\", \"19-19\", \"19-2\", \"19-20\", \"19-3\", \"19-4\", \"19-6\", \"19-7\", \"19-8\", \"19-9\", \"2-1\", \"2-13\", \"2-15\", \"2-3\", \"2-4\", \"2-5\", \"2-6\", \"2-7\", \"2-8\", \"20-1\", \"20-12\", \"20-14\", \"20-15\", \"20-16\", \"20-18\", \"20-19\", \"20-20\", \"20-3\", \"20-4\", \"20-5\", \"20-7\", \"20-8\", \"3-1\", \"3-13\", \"3-18\", \"3-2\", \"3-8\", \"4-1\", \"4-10\", \"4-11\", \"5-1\", \"5-5\", \"6-1\", \"6-15\", \"6-6\", \"7-10\", \"7-11\", \"7-12\", \"7-13\", \"7-14\", \"7-7\", \"7-8\", \"7-9\", \"8-1\", \"8-13\", \"8-14\", \"8-18\", \"8-20\", \"8-3\", \"8-8\", \"9-1\", \"9-7\"], \"domains\": [1, 2, 3, 4], \"num_examples_per_domain_per_label\": 100, \"pickle_path\": \"/mnt/wd500GB/CSC500/csc500-main/datasets/wisig.node3-19.stratified_ds.2022A.pkl\", \"source_or_target_dataset\": \"target\", \"x_transforms\": [], \"episode_transforms\": [], \"domain_prefix\": \"Wisig_\"}, {\"labels\": [\"3123D52\", \"3123D65\", \"3123D79\", \"3123D80\", \"3123D54\", \"3123D70\", \"3123D7B\", \"3123D89\", \"3123D58\", \"3123D76\", \"3123D7D\", \"3123EFE\", \"3123D64\", \"3123D78\", \"3123D7E\", \"3124E4A\"], \"domains\": [32, 38, 8, 44, 14, 50, 20, 26], \"num_examples_per_domain_per_label\": 10000, \"pickle_path\": \"/mnt/wd500GB/CSC500/csc500-main/datasets/oracle.Run1_10kExamples_stratified_ds.2022A.pkl\", \"source_or_target_dataset\": \"source\", \"x_transforms\": [], \"episode_transforms\": [], \"domain_prefix\": \"ORACLE.run1\"}], \"domains_source\": [\"ORACLE.run132\", \"ORACLE.run138\", \"ORACLE.run18\", \"ORACLE.run144\", \"ORACLE.run114\", \"ORACLE.run150\", \"ORACLE.run120\", \"ORACLE.run126\"], \"domains_target\": [\"Wisig_1\", \"Wisig_2\", \"Wisig_3\", \"Wisig_4\"]}, \"results\": {\"source_test_label_accuracy\": 0.666640625, \"source_test_label_loss\": 13.511224746704102, \"target_test_label_accuracy\": 0.5694986979166666, \"target_test_label_loss\": 2299.48486328125, \"source_val_label_accuracy\": 0.66763671875, \"source_val_label_loss\": 14.027276992797852, \"target_val_label_accuracy\": 0.5602213541666666, \"target_val_label_loss\": 2077.290771484375, \"total_epochs_trained\": 5, \"total_experiment_time_secs\": 4509.8499410152435, \"confusion\": {\"ORACLE.run114\": {\"15\": {\"15\": 1200}, \"3\": {\"3\": 1159, \"0\": 11, \"13\": 3, \"14\": 12, \"6\": 12, \"2\": 3}, \"6\": {\"6\": 743, \"13\": 255, \"3\": 39, \"14\": 128, \"2\": 32, \"7\": 3}, \"1\": {\"1\": 809, \"4\": 24, \"9\": 182, \"10\": 178, \"2\": 2, \"7\": 2, \"5\": 3}, \"8\": {\"8\": 1105, \"0\": 90, \"5\": 3, \"2\": 1, \"4\": 1}, \"10\": {\"10\": 1095, \"4\": 88, \"1\": 11, \"9\": 6}, \"9\": {\"10\": 113, \"9\": 976, \"1\": 111}, \"13\": {\"14\": 253, \"6\": 403, \"15\": 123, \"13\": 210, \"5\": 82, \"3\": 15, \"2\": 100, \"4\": 14}, \"12\": {\"12\": 1200}, \"5\": {\"5\": 942, \"2\": 212, \"13\": 5, \"14\": 9, \"7\": 17, \"4\": 7, \"8\": 5, \"0\": 3}, \"0\": {\"8\": 287, \"3\": 284, \"0\": 582, \"14\": 26, \"2\": 6, \"4\": 13, \"5\": 2}, \"2\": {\"2\": 253, \"5\": 396, \"14\": 115, \"13\": 64, \"4\": 126, \"6\": 94, \"7\": 79, \"3\": 70, \"8\": 2, \"0\": 1}, \"11\": {\"11\": 1116, \"1\": 81, \"7\": 1, \"5\": 1, \"9\": 1}, \"14\": {\"14\": 917, \"13\": 105, \"2\": 79, \"3\": 45, \"5\": 24, \"6\": 27, \"0\": 2, \"7\": 1}, \"7\": {\"7\": 1140, \"2\": 37, \"5\": 22, \"13\": 1}, \"4\": {\"4\": 1135, \"5\": 18, \"10\": 27, \"2\": 19, \"1\": 1}}, \"ORACLE.run120\": {\"3\": {\"5\": 190, \"0\": 130, \"1\": 121, \"8\": 166, \"3\": 210, \"9\": 122, \"15\": 15, \"14\": 78, \"7\": 69, \"6\": 43, \"12\": 18, \"2\": 13, \"4\": 13, \"13\": 5, \"11\": 4, \"10\": 3}, \"15\": {\"9\": 101, \"15\": 165, \"1\": 109, \"3\": 42, \"0\": 7, \"12\": 156, \"13\": 116, \"2\": 129, \"6\": 36, \"10\": 46, \"5\": 78, \"4\": 101, \"7\": 95, \"8\": 17, \"14\": 2}, \"8\": {\"0\": 249, \"8\": 289, \"3\": 188, \"9\": 49, \"6\": 31, \"14\": 193, \"5\": 85, \"15\": 3, \"4\": 13, \"11\": 27, \"7\": 32, \"2\": 9, \"1\": 27, \"12\": 5}, \"4\": {\"10\": 173, \"6\": 67, \"2\": 140, \"12\": 135, \"13\": 121, \"15\": 99, \"4\": 196, \"9\": 53, \"7\": 80, \"5\": 41, \"1\": 57, \"0\": 4, \"3\": 23, \"8\": 9, \"14\": 2}, \"14\": {\"0\": 105, \"8\": 252, \"6\": 77, \"14\": 269, \"7\": 55, \"9\": 88, \"3\": 139, \"1\": 47, \"11\": 22, \"5\": 79, \"4\": 12, \"2\": 24, \"15\": 7, \"13\": 4, \"12\": 18, \"10\": 2}, \"0\": {\"0\": 1009, \"11\": 97, \"1\": 3, \"8\": 44, \"3\": 20, \"5\": 8, \"14\": 13, \"9\": 5, \"2\": 1}, \"7\": {\"10\": 53, \"7\": 170, \"9\": 135, \"2\": 142, \"4\": 94, \"6\": 123, \"3\": 52, \"5\": 84, \"1\": 88, \"12\": 95, \"15\": 71, \"13\": 55, \"8\": 21, \"14\": 7, \"0\": 10}, \"6\": {\"9\": 119, \"7\": 174, \"10\": 89, \"15\": 30, \"13\": 77, \"2\": 122, \"6\": 234, \"1\": 40, \"3\": 32, \"4\": 133, \"8\": 12, \"12\": 72, \"5\": 41, \"14\": 21, \"0\": 2, \"11\": 2}, \"10\": {\"10\": 619, \"15\": 28, \"13\": 240, \"4\": 117, \"2\": 78, \"7\": 22, \"12\": 55, \"1\": 5, \"6\": 31, \"9\": 4, \"5\": 1}, \"5\": {\"8\": 134, \"7\": 71, \"9\": 141, \"6\": 26, \"5\": 205, \"1\": 168, \"15\": 34, \"14\": 53, \"3\": 200, \"0\": 88, \"2\": 34, \"12\": 28, \"13\": 4, \"4\": 10, \"10\": 4}, \"2\": {\"7\": 118, \"12\": 136, \"13\": 127, \"10\": 103, \"6\": 79, \"1\": 69, \"2\": 160, \"4\": 117, \"5\": 41, \"9\": 82, \"15\": 128, \"0\": 6, \"3\": 23, \"8\": 10, \"14\": 1}, \"12\": {\"2\": 172, \"12\": 158, \"13\": 103, \"10\": 91, \"4\": 123, \"1\": 91, \"15\": 155, \"5\": 47, \"7\": 100, \"9\": 73, \"6\": 41, \"0\": 6, \"3\": 23, \"8\": 12, \"14\": 5}, \"9\": {\"12\": 64, \"1\": 163, \"5\": 148, \"3\": 138, \"9\": 175, \"2\": 67, \"0\": 33, \"14\": 35, \"15\": 52, \"6\": 75, \"13\": 14, \"8\": 75, \"7\": 106, \"10\": 9, \"4\": 46}, \"1\": {\"7\": 96, \"1\": 203, \"3\": 156, \"0\": 49, \"9\": 154, \"5\": 184, \"2\": 61, \"8\": 86, \"15\": 53, \"6\": 37, \"4\": 34, \"12\": 38, \"14\": 30, \"13\": 10, \"10\": 8, \"11\": 1}, \"11\": {\"11\": 1173, \"0\": 18, \"14\": 3, \"8\": 6}, \"13\": {\"9\": 19, \"4\": 123, \"13\": 291, \"10\": 259, \"15\": 112, \"2\": 139, \"5\": 9, \"12\": 152, \"7\": 39, \"1\": 26, \"6\": 27, \"11\": 1, \"3\": 3}}, \"ORACLE.run138\": {\"5\": {\"7\": 107, \"5\": 471, \"8\": 388, \"15\": 80, \"2\": 5, \"12\": 32, \"9\": 116, \"14\": 1}, \"8\": {\"7\": 166, \"8\": 430, \"5\": 355, \"15\": 68, \"12\": 103, \"9\": 51, \"2\": 24, \"14\": 3}, \"11\": {\"11\": 740, \"3\": 324, \"10\": 105, \"0\": 30, \"4\": 1}, \"1\": {\"1\": 1183, \"6\": 17}, \"10\": {\"13\": 66, \"10\": 964, \"0\": 142, \"4\": 27, \"3\": 1}, \"15\": {\"15\": 973, \"8\": 42, \"12\": 23, \"5\": 75, \"1\": 84, \"6\": 3}, \"3\": {\"0\": 194, \"3\": 373, \"10\": 385, \"11\": 245, \"4\": 3}, \"7\": {\"7\": 1156, \"9\": 12, \"5\": 6, \"8\": 11, \"0\": 11, \"4\": 2, \"13\": 2}, \"4\": {\"4\": 1161, \"10\": 25, \"13\": 3, \"0\": 9, \"7\": 1, \"14\": 1}, \"14\": {\"14\": 920, \"13\": 34, \"2\": 244, \"8\": 1, \"4\": 1}, \"9\": {\"9\": 1080, \"5\": 59, \"8\": 26, \"7\": 35}, \"12\": {\"12\": 1182, \"8\": 12, \"15\": 1, \"5\": 5}, \"6\": {\"6\": 1190, \"1\": 10}, \"2\": {\"2\": 1003, \"14\": 194, \"8\": 1, \"13\": 2}, \"0\": {\"13\": 223, \"0\": 527, \"7\": 108, \"10\": 322, \"8\": 3, \"4\": 11, \"3\": 5, \"9\": 1}, \"13\": {\"13\": 1014, \"0\": 62, \"10\": 94, \"4\": 7, \"14\": 9, \"7\": 6, \"2\": 8}}, \"ORACLE.run18\": {\"9\": {\"9\": 1200}, \"10\": {\"10\": 209, \"13\": 214, \"6\": 127, \"8\": 27, \"1\": 137, \"5\": 221, \"7\": 152, \"11\": 68, \"4\": 23, \"15\": 6, \"12\": 16}, \"13\": {\"1\": 96, \"13\": 266, \"11\": 32, \"10\": 203, \"7\": 186, \"5\": 247, \"4\": 12, \"12\": 41, \"6\": 97, \"2\": 1, \"8\": 16, \"15\": 3}, \"0\": {\"0\": 1148, \"14\": 45, \"4\": 6, \"8\": 1}, \"1\": {\"11\": 133, \"10\": 141, \"8\": 61, \"6\": 162, \"7\": 139, \"5\": 159, \"4\": 65, \"1\": 164, \"13\": 159, \"14\": 9, \"12\": 8}, \"15\": {\"12\": 334, \"15\": 445, \"2\": 391, \"3\": 26, \"10\": 2, \"5\": 2}, \"5\": {\"7\": 71, \"5\": 287, \"14\": 7, \"11\": 47, \"13\": 219, \"12\": 105, \"1\": 107, \"10\": 209, \"15\": 14, \"6\": 65, \"8\": 34, \"4\": 27, \"2\": 8}, \"3\": {\"3\": 1199, \"2\": 1}, \"6\": {\"5\": 73, \"8\": 123, \"1\": 159, \"10\": 128, \"13\": 96, \"6\": 234, \"7\": 147, \"4\": 100, \"11\": 125, \"14\": 14, \"15\": 1}, \"11\": {\"8\": 153, \"1\": 147, \"11\": 196, \"7\": 100, \"10\": 107, \"4\": 170, \"6\": 136, \"13\": 40, \"5\": 77, \"14\": 74}, \"8\": {\"8\": 310, \"14\": 218, \"10\": 33, \"4\": 257, \"1\": 76, \"11\": 136, \"7\": 46, \"5\": 11, \"6\": 102, \"12\": 1, \"13\": 10}, \"4\": {\"8\": 238, \"4\": 317, \"5\": 21, \"10\": 32, \"7\": 35, \"14\": 222, \"11\": 161, \"6\": 97, \"1\": 66, \"13\": 11}, \"12\": {\"12\": 558, \"15\": 384, \"2\": 206, \"5\": 27, \"3\": 9, \"13\": 13, \"10\": 3}, \"14\": {\"4\": 208, \"14\": 661, \"8\": 196, \"1\": 14, \"11\": 59, \"0\": 25, \"6\": 15, \"13\": 2, \"10\": 12, \"5\": 6, \"7\": 2}, \"2\": {\"15\": 252, \"2\": 554, \"12\": 140, \"3\": 248, \"5\": 3, \"13\": 3}, \"7\": {\"11\": 82, \"5\": 105, \"10\": 176, \"1\": 143, \"6\": 190, \"7\": 239, \"13\": 170, \"4\": 38, \"8\": 52, \"14\": 3, \"12\": 1, \"15\": 1}}, \"ORACLE.run150\": {\"7\": {\"7\": 1001, \"4\": 106, \"5\": 93}, \"3\": {\"3\": 1197, \"5\": 1, \"13\": 2}, \"8\": {\"8\": 1146, \"13\": 2, \"10\": 52}, \"2\": {\"2\": 1093, \"0\": 107}, \"14\": {\"14\": 1198, \"2\": 2}, \"4\": {\"4\": 939, \"7\": 185, \"5\": 53, \"15\": 16, \"6\": 6, \"9\": 1}, \"6\": {\"6\": 883, \"5\": 162, \"15\": 155}, \"15\": {\"15\": 949, \"9\": 24, \"11\": 28, \"6\": 173, \"4\": 5, \"5\": 21}, \"10\": {\"10\": 1083, \"0\": 43, \"8\": 74}, \"11\": {\"12\": 40, \"11\": 1102, \"15\": 30, \"9\": 28}, \"13\": {\"13\": 1182, \"1\": 17, \"11\": 1}, \"9\": {\"9\": 969, \"12\": 141, \"15\": 25, \"11\": 61, \"4\": 4}, \"0\": {\"0\": 1053, \"2\": 109, \"10\": 38}, \"1\": {\"1\": 1015, \"13\": 145, \"10\": 26, \"0\": 3, \"14\": 1, \"11\": 6, \"8\": 3, \"5\": 1}, \"12\": {\"9\": 112, \"12\": 1025, \"11\": 63}, \"5\": {\"6\": 246, \"7\": 297, \"5\": 486, \"13\": 48, \"4\": 64, \"11\": 26, \"15\": 29, \"3\": 1, \"1\": 3}}, \"ORACLE.run132\": {\"8\": {\"8\": 711, \"5\": 125, \"0\": 201, \"14\": 68, \"2\": 27, \"7\": 43, \"4\": 21, \"15\": 3, \"13\": 1}, \"14\": {\"5\": 53, \"14\": 640, \"7\": 296, \"2\": 47, \"0\": 82, \"8\": 65, \"4\": 16, \"3\": 1}, \"2\": {\"4\": 225, \"2\": 966, \"14\": 8, \"8\": 1}, \"0\": {\"0\": 769, \"5\": 94, \"8\": 129, \"7\": 136, \"14\": 67, \"2\": 5}, \"1\": {\"1\": 1200}, \"10\": {\"10\": 1200}, \"11\": {\"11\": 1192, \"13\": 8}, \"5\": {\"5\": 660, \"8\": 99, \"7\": 242, \"14\": 78, \"0\": 99, \"15\": 21, \"2\": 1}, \"15\": {\"15\": 1165, \"8\": 22, \"5\": 11, \"7\": 1, \"0\": 1}, \"3\": {\"3\": 1104, \"13\": 95, \"14\": 1}, \"12\": {\"12\": 1200}, \"7\": {\"5\": 244, \"0\": 108, \"7\": 698, \"14\": 126, \"8\": 24}, \"13\": {\"3\": 131, \"13\": 814, \"4\": 178, \"11\": 74, \"2\": 3}, \"6\": {\"6\": 1200}, \"4\": {\"4\": 930, \"2\": 220, \"14\": 2, \"13\": 45, \"3\": 2, \"8\": 1}, \"9\": {\"9\": 1155, \"12\": 38, \"4\": 5, \"2\": 2}}, \"ORACLE.run126\": {\"4\": {\"4\": 1199, \"13\": 1}, \"12\": {\"12\": 1200}, \"10\": {\"10\": 737, \"14\": 229, \"6\": 73, \"0\": 82, \"15\": 70, \"5\": 4, \"1\": 5}, \"0\": {\"8\": 12, \"14\": 113, \"0\": 837, \"10\": 197, \"9\": 5, \"2\": 18, \"6\": 4, \"15\": 9, \"5\": 2, \"7\": 1, \"1\": 2}, \"13\": {\"4\": 73, \"13\": 952, \"3\": 33, \"7\": 12, \"2\": 34, \"9\": 90, \"8\": 6}, \"9\": {\"9\": 591, \"8\": 322, \"13\": 130, \"2\": 86, \"7\": 39, \"3\": 28, \"0\": 4}, \"3\": {\"3\": 1109, \"7\": 76, \"13\": 6, \"8\": 1, \"2\": 4, \"9\": 4}, \"2\": {\"2\": 700, \"0\": 65, \"8\": 109, \"3\": 51, \"7\": 203, \"9\": 65, \"13\": 5, \"15\": 2}, \"5\": {\"5\": 849, \"15\": 252, \"6\": 92, \"1\": 4, \"14\": 2, \"10\": 1}, \"14\": {\"14\": 765, \"1\": 77, \"10\": 266, \"0\": 50, \"15\": 19, \"6\": 18, \"5\": 5}, \"8\": {\"8\": 762, \"9\": 182, \"7\": 173, \"2\": 79, \"0\": 3, \"13\": 1}, \"7\": {\"9\": 52, \"7\": 868, \"8\": 139, \"2\": 100, \"3\": 41}, \"6\": {\"6\": 1000, \"5\": 71, \"15\": 85, \"14\": 10, \"10\": 29, \"1\": 5}, \"11\": {\"11\": 1198, \"6\": 2}, \"15\": {\"15\": 598, \"10\": 65, \"5\": 361, \"6\": 135, \"14\": 22, \"1\": 12, \"0\": 7}, \"1\": {\"1\": 966, \"14\": 182, \"10\": 17, \"6\": 21, \"15\": 7, \"5\": 7}}, \"ORACLE.run144\": {\"12\": {\"12\": 1117, \"3\": 83}, \"7\": {\"7\": 931, \"9\": 206, \"10\": 54, \"6\": 6, \"2\": 2, \"13\": 1}, \"5\": {\"14\": 151, \"5\": 826, \"15\": 167, \"8\": 20, \"4\": 35, \"0\": 1}, \"15\": {\"15\": 806, \"8\": 123, \"4\": 22, \"5\": 104, \"14\": 139, \"0\": 6}, \"8\": {\"8\": 757, \"0\": 303, \"15\": 112, \"5\": 28}, \"2\": {\"2\": 1079, \"7\": 2, \"1\": 113, \"10\": 6}, \"13\": {\"13\": 849, \"6\": 325, \"9\": 24, \"11\": 2}, \"4\": {\"4\": 584, \"14\": 320, \"7\": 26, \"5\": 35, \"9\": 106, \"15\": 119, \"6\": 7, \"13\": 3}, \"0\": {\"0\": 1020, \"8\": 178, \"15\": 2}, \"6\": {\"13\": 204, \"6\": 918, \"9\": 73, \"7\": 3, \"11\": 2}, \"9\": {\"9\": 383, \"13\": 141, \"6\": 167, \"14\": 12, \"2\": 67, \"7\": 378, \"4\": 45, \"10\": 6, \"11\": 1}, \"11\": {\"13\": 499, \"11\": 659, \"6\": 39, \"9\": 3}, \"10\": {\"10\": 1015, \"7\": 105, \"2\": 50, \"1\": 20, \"9\": 6, \"6\": 4}, \"14\": {\"14\": 735, \"4\": 300, \"5\": 99, \"15\": 66}, \"1\": {\"1\": 1026, \"2\": 173, \"10\": 1}, \"3\": {\"12\": 74, \"3\": 1126}}, \"Wisig_3\": {\"109\": {\"109\": 11, \"126\": 1}, \"127\": {\"84\": 1, \"127\": 11}, \"14\": {\"127\": 1, \"14\": 7, \"84\": 1, \"114\": 1, \"69\": 2}, \"7\": {\"7\": 9, \"62\": 2, \"101\": 1}, \"129\": {\"129\": 9, \"119\": 1, \"67\": 1, \"42\": 1}, \"57\": {\"46\": 2, \"57\": 6, \"102\": 1, \"73\": 1, \"86\": 1, \"121\": 1}, \"84\": {\"7\": 1, \"84\": 8, \"8\": 1, \"30\": 1, \"62\": 1}, \"114\": {\"35\": 1, \"114\": 7, \"31\": 1, \"47\": 2, \"105\": 1}, \"44\": {\"44\": 6, \"100\": 1, \"53\": 1, \"75\": 2, \"38\": 2}, \"21\": {\"24\": 4, \"21\": 6, \"97\": 2}, \"46\": {\"57\": 1, \"46\": 5, \"95\": 2, \"66\": 2, \"28\": 2}, \"100\": {\"46\": 2, \"64\": 1, \"19\": 1, \"75\": 2, \"100\": 3, \"120\": 2, \"128\": 1}, \"63\": {\"63\": 8, \"107\": 1, \"6\": 1, \"89\": 1, \"34\": 1}, \"24\": {\"24\": 10, \"21\": 1, \"10\": 1}, \"107\": {\"44\": 2, \"107\": 6, \"33\": 1, \"81\": 1, \"53\": 1, \"69\": 1}, \"35\": {\"107\": 1, \"114\": 2, \"47\": 1, \"35\": 4, \"72\": 1, \"83\": 1}, \"81\": {\"33\": 1, \"57\": 1, \"20\": 1, \"81\": 3, \"83\": 2, \"105\": 1, \"98\": 1, \"53\": 1, \"107\": 1}, \"64\": {\"64\": 7, \"120\": 1, \"125\": 1, \"102\": 1, \"65\": 1, \"52\": 1}, \"59\": {\"87\": 1, \"59\": 7, \"123\": 1, \"119\": 1, \"2\": 2}, \"33\": {\"33\": 8, \"105\": 1, \"107\": 1, \"35\": 2}, \"34\": {\"34\": 7, \"20\": 1, \"54\": 1, \"75\": 1, \"71\": 1, \"25\": 1}, \"36\": {\"109\": 1, \"36\": 6, \"24\": 2, \"39\": 1, \"10\": 2}, \"79\": {\"79\": 6, \"80\": 1, \"115\": 1, \"104\": 2, \"102\": 2}, \"80\": {\"80\": 9, \"10\": 1, \"67\": 2}, \"77\": {\"77\": 9, \"58\": 1, \"50\": 1, \"91\": 1}, \"22\": {\"79\": 1, \"80\": 1, \"67\": 1, \"22\": 5, \"125\": 1, \"119\": 2, \"48\": 1}, \"124\": {\"124\": 9, \"5\": 1, \"116\": 1, \"111\": 1}, \"2\": {\"124\": 1, \"64\": 1, \"2\": 6, \"67\": 2, \"103\": 1, \"111\": 1}, \"87\": {\"87\": 8, \"108\": 1, \"96\": 1, \"15\": 1, \"118\": 1}, \"105\": {\"33\": 1, \"105\": 9, \"72\": 1, \"114\": 1}, \"95\": {\"18\": 1, \"56\": 1, \"95\": 3, \"20\": 1, \"66\": 2, \"98\": 2, \"46\": 1, \"81\": 1}, \"43\": {\"43\": 11, \"11\": 1}, \"56\": {\"56\": 7, \"128\": 1, \"25\": 1, \"9\": 1}, \"18\": {\"18\": 12}, \"85\": {\"85\": 4, \"32\": 1, \"92\": 1, \"91\": 2, \"65\": 2, \"103\": 1, \"14\": 1}, \"113\": {\"97\": 1, \"113\": 10, \"96\": 1}, \"97\": {\"110\": 1, \"97\": 8, \"93\": 1, \"96\": 1, \"94\": 1}, \"86\": {\"86\": 9, \"59\": 3}, \"128\": {\"56\": 1, \"95\": 2, \"128\": 3, \"98\": 1, \"9\": 1, \"32\": 1, \"92\": 1, \"28\": 1, \"46\": 1}, \"123\": {\"59\": 2, \"116\": 2, \"123\": 4, \"17\": 1, \"22\": 1, \"125\": 1, \"63\": 1}, \"8\": {\"110\": 1, \"97\": 1, \"96\": 1, \"8\": 9}, \"110\": {\"113\": 3, \"110\": 7, \"0\": 2}, \"126\": {\"43\": 2, \"126\": 6, \"109\": 2, \"10\": 2}, \"101\": {\"101\": 12}, \"115\": {\"115\": 8, \"79\": 1, \"119\": 3}, \"49\": {\"84\": 2, \"106\": 1, \"49\": 6, \"60\": 1, \"15\": 1, \"0\": 1}, \"45\": {\"65\": 1, \"42\": 1, \"117\": 1, \"55\": 1, \"82\": 1, \"45\": 3, \"115\": 1, \"41\": 3}, \"78\": {\"78\": 9, \"13\": 1, \"27\": 2}, \"65\": {\"65\": 4, \"92\": 1, \"85\": 1, \"82\": 1, \"64\": 1, \"55\": 2}, \"54\": {\"114\": 1, \"44\": 1, \"83\": 1, \"54\": 3, \"33\": 2, \"99\": 2, \"34\": 2}, \"31\": {\"114\": 1, \"31\": 5, \"53\": 1, \"127\": 2, \"89\": 1}, \"42\": {\"45\": 2, \"65\": 1, \"73\": 3, \"95\": 1, \"67\": 1, \"129\": 1, \"42\": 2, \"78\": 1}, \"68\": {\"45\": 1, \"68\": 9, \"17\": 2}, \"15\": {\"94\": 2, \"15\": 6, \"96\": 1, \"118\": 1, \"0\": 2}, \"69\": {\"69\": 7, \"100\": 1, \"75\": 1, \"47\": 1, \"3\": 2}, \"17\": {\"17\": 7, \"125\": 2, \"24\": 1}, \"73\": {\"73\": 7, \"121\": 1, \"56\": 1, \"29\": 1, \"112\": 1, \"92\": 1}, \"121\": {\"57\": 1, \"73\": 1, \"121\": 8, \"91\": 1, \"85\": 1}, \"102\": {\"48\": 3, \"102\": 9}, \"48\": {\"48\": 3, \"102\": 1, \"37\": 3, \"104\": 1, \"119\": 1, \"67\": 1, \"115\": 1, \"79\": 1}, \"23\": {\"23\": 4, \"69\": 1, \"96\": 3, \"12\": 1, \"14\": 1, \"8\": 2}, \"108\": {\"108\": 10, \"11\": 1, \"36\": 1}, \"53\": {\"57\": 1, \"34\": 1, \"99\": 1, \"53\": 3, \"75\": 1, \"33\": 2, \"31\": 1, \"3\": 1, \"107\": 1}, \"94\": {\"94\": 8, \"97\": 2}, \"41\": {\"41\": 5, \"73\": 1, \"5\": 1, \"50\": 1, \"38\": 1, \"129\": 1, \"119\": 1, \"45\": 1}, \"58\": {\"121\": 1, \"58\": 2, \"19\": 1, \"103\": 1, \"95\": 1, \"65\": 1, \"82\": 1, \"55\": 2, \"50\": 2}, \"29\": {\"29\": 11, \"82\": 1}, \"116\": {\"116\": 5, \"111\": 1, \"115\": 1, \"117\": 1, \"124\": 4}, \"60\": {\"106\": 2, \"16\": 1, \"60\": 5, \"23\": 1, \"7\": 1, \"12\": 2}, \"104\": {\"104\": 5, \"67\": 3, \"123\": 1, \"117\": 1, \"79\": 1, \"55\": 1}, \"106\": {\"60\": 2, \"16\": 2, \"106\": 5, \"23\": 1, \"12\": 2}, \"66\": {\"121\": 2, \"66\": 5, \"52\": 1, \"73\": 2, \"82\": 1, \"46\": 1}, \"47\": {\"40\": 1, \"47\": 5, \"114\": 3, \"35\": 1, \"1\": 1, \"99\": 1}, \"40\": {\"40\": 7, \"14\": 1, \"72\": 1, \"54\": 1, \"100\": 1, \"44\": 1}, \"82\": {\"121\": 1, \"58\": 1, \"66\": 1, \"45\": 1, \"36\": 1, \"82\": 3, \"92\": 1, \"29\": 1, \"65\": 1, \"89\": 1}, \"13\": {\"123\": 1, \"125\": 1, \"10\": 1, \"13\": 1, \"79\": 2, \"22\": 1, \"109\": 1, \"63\": 1, \"16\": 1, \"95\": 2}, \"19\": {\"19\": 5, \"9\": 1, \"128\": 1, \"95\": 1, \"38\": 1, \"81\": 1, \"57\": 2}, \"72\": {\"72\": 6, \"20\": 2, \"51\": 1, \"95\": 2, \"35\": 1}, \"9\": {\"9\": 7, \"56\": 1, \"107\": 1, \"42\": 1, \"82\": 1, \"61\": 1}, \"67\": {\"67\": 8, \"125\": 1, \"82\": 1, \"116\": 1, \"111\": 1}, \"11\": {\"11\": 11, \"43\": 1}, \"125\": {\"125\": 12}, \"76\": {\"76\": 6, \"100\": 1, \"61\": 1}, \"83\": {\"81\": 1, \"74\": 1, \"83\": 5, \"47\": 2, \"72\": 1, \"71\": 2}, \"74\": {\"74\": 7, \"102\": 1, \"56\": 1, \"128\": 1, \"9\": 2}, \"20\": {\"81\": 1, \"40\": 1, \"34\": 2, \"75\": 1, \"20\": 1, \"105\": 2, \"128\": 2, \"14\": 1, \"69\": 1}, \"119\": {\"102\": 1, \"119\": 5, \"103\": 1, \"59\": 1, \"45\": 1, \"115\": 1, \"82\": 2}, \"1\": {\"1\": 8, \"3\": 2, \"35\": 1, \"51\": 1}, \"16\": {\"106\": 2, \"16\": 8, \"49\": 2}, \"25\": {\"25\": 2, \"90\": 1, \"56\": 1, \"48\": 1, \"83\": 2, \"114\": 2, \"38\": 2, \"34\": 1}, \"90\": {\"90\": 3, \"55\": 1, \"50\": 1, \"103\": 1, \"91\": 1, \"124\": 1}, \"39\": {\"39\": 11, \"108\": 1}, \"28\": {\"28\": 4, \"37\": 1, \"56\": 1, \"103\": 2, \"19\": 2, \"77\": 1, \"29\": 1}, \"55\": {\"117\": 2, \"55\": 6, \"90\": 1, \"52\": 1, \"41\": 2}, \"117\": {\"117\": 8, \"28\": 1, \"85\": 1, \"66\": 1, \"2\": 1}, \"112\": {\"64\": 1, \"112\": 2, \"98\": 2, \"19\": 2, \"82\": 1, \"38\": 1, \"73\": 2, \"117\": 1}, \"38\": {\"38\": 3, \"25\": 1, \"112\": 4, \"107\": 2, \"20\": 1, \"44\": 1}, \"37\": {\"104\": 2, \"29\": 1, \"2\": 1, \"37\": 4, \"50\": 1, \"68\": 1, \"5\": 2}, \"120\": {\"104\": 1, \"120\": 4, \"90\": 1, \"13\": 1, \"125\": 1, \"65\": 1, \"64\": 1, \"121\": 1, \"25\": 1}, \"122\": {\"122\": 5, \"110\": 2, \"96\": 1, \"94\": 3, \"118\": 1}, \"50\": {\"120\": 1, \"5\": 1, \"85\": 2, \"65\": 2, \"77\": 2, \"73\": 2, \"53\": 1, \"6\": 1}, \"10\": {\"10\": 8, \"11\": 1, \"36\": 1, \"39\": 1, \"109\": 1}, \"5\": {\"5\": 10, \"103\": 1, \"42\": 1}, \"51\": {\"51\": 7, \"46\": 1, \"26\": 2, \"7\": 2}, \"3\": {\"3\": 8, \"70\": 1, \"1\": 1, \"69\": 1, \"108\": 1}, \"98\": {\"95\": 3, \"98\": 6, \"32\": 1, \"56\": 1, \"81\": 1}, \"70\": {\"39\": 2, \"70\": 6, \"27\": 3, \"24\": 1}, \"96\": {\"122\": 1, \"96\": 6, \"0\": 1, \"118\": 2, \"26\": 1, \"113\": 1}, \"12\": {\"12\": 12}, \"99\": {\"99\": 3, \"105\": 1, \"20\": 2, \"47\": 2, \"114\": 1, \"1\": 1, \"34\": 1, \"74\": 1}, \"52\": {\"89\": 3, \"52\": 3, \"66\": 1, \"25\": 1, \"120\": 1, \"98\": 1, \"58\": 1, \"76\": 1}, \"71\": {\"71\": 5, \"36\": 1, \"29\": 1, \"35\": 2, \"40\": 1, \"3\": 2}, \"89\": {\"9\": 1, \"52\": 1, \"29\": 1, \"89\": 1, \"92\": 1, \"117\": 1, \"98\": 1, \"103\": 1, \"74\": 2, \"107\": 1, \"76\": 1}, \"0\": {\"8\": 4, \"118\": 2, \"0\": 5, \"110\": 1}, \"4\": {\"4\": 7, \"63\": 2, \"88\": 1, \"118\": 1, \"8\": 1}, \"93\": {\"93\": 12}, \"6\": {\"6\": 7, \"117\": 1, \"111\": 1, \"22\": 1}, \"75\": {\"9\": 2, \"107\": 2, \"1\": 1, \"53\": 1, \"69\": 2, \"75\": 1, \"35\": 1, \"54\": 1, \"18\": 1}, \"62\": {\"62\": 8, \"7\": 2, \"26\": 1, \"84\": 1}, \"103\": {\"103\": 4, \"91\": 1, \"82\": 3, \"100\": 1, \"112\": 1, \"85\": 1, \"89\": 1}, \"30\": {\"30\": 12}, \"91\": {\"91\": 4, \"103\": 1, \"41\": 2, \"128\": 1, \"5\": 2, \"45\": 1, \"57\": 1}, \"27\": {\"27\": 10, \"70\": 2}, \"26\": {\"26\": 11, \"62\": 1}, \"61\": {\"61\": 11, \"32\": 1}, \"118\": {\"118\": 9, \"0\": 2, \"87\": 1}, \"92\": {\"92\": 12}, \"111\": {\"41\": 2, \"111\": 8, \"2\": 1, \"67\": 1}, \"32\": {\"32\": 9, \"83\": 1, \"28\": 1, \"61\": 1}, \"88\": {\"88\": 9, \"78\": 1}}, \"Wisig_4\": {\"28\": {\"28\": 4, \"31\": 1, \"61\": 2, \"128\": 1, \"73\": 1, \"46\": 1, \"47\": 2}, \"4\": {\"4\": 12}, \"72\": {\"96\": 2, \"1\": 2, \"84\": 1, \"72\": 2, \"101\": 1, \"53\": 1, \"106\": 1, \"18\": 1, \"100\": 1}, \"111\": {\"111\": 7, \"50\": 1, \"116\": 1, \"64\": 1, \"117\": 1, \"59\": 1}, \"108\": {\"108\": 7, \"15\": 2, \"97\": 1, \"10\": 1, \"109\": 1}, \"43\": {\"43\": 9, \"30\": 1}, \"96\": {\"14\": 1, \"11\": 5, \"96\": 4, \"62\": 1, \"15\": 1}, \"89\": {\"31\": 1, \"89\": 5, \"53\": 2, \"61\": 1, \"25\": 2, \"51\": 1}, \"31\": {\"89\": 1, \"90\": 1, \"83\": 2, \"25\": 1, \"31\": 2, \"29\": 1, \"61\": 1, \"56\": 2, \"73\": 1}, \"45\": {\"45\": 5, \"90\": 1, \"31\": 1, \"57\": 2, \"91\": 1, \"6\": 2}, \"2\": {\"2\": 7, \"42\": 1, \"91\": 1, \"67\": 1, \"48\": 1, \"70\": 1}, \"114\": {\"114\": 8, \"1\": 1, \"105\": 1, \"35\": 2}, \"11\": {\"11\": 10, \"43\": 1, \"93\": 1}, \"12\": {\"12\": 12}, \"14\": {\"14\": 4, \"96\": 1, \"127\": 3, \"71\": 1, \"18\": 2, \"26\": 1}, \"90\": {\"90\": 10, \"77\": 2}, \"10\": {\"10\": 9, \"24\": 2, \"39\": 1}, \"63\": {\"123\": 1, \"63\": 9, \"50\": 1, \"37\": 1}, \"85\": {\"85\": 6, \"10\": 1, \"95\": 1, \"52\": 1, \"76\": 2, \"46\": 1}, \"64\": {\"42\": 3, \"64\": 1, \"2\": 1, \"103\": 1, \"117\": 1, \"68\": 1, \"128\": 1, \"56\": 2, \"75\": 1}, \"82\": {\"42\": 3, \"57\": 2, \"75\": 1, \"82\": 4, \"64\": 1, \"90\": 1}, \"58\": {\"98\": 2, \"25\": 1, \"75\": 1, \"90\": 1, \"58\": 7}, \"3\": {\"3\": 7, \"1\": 1, \"69\": 1, \"114\": 1, \"49\": 1, \"20\": 1}, \"54\": {\"54\": 6, \"9\": 2, \"2\": 1, \"124\": 1, \"100\": 1, \"83\": 1}, \"121\": {\"98\": 1, \"85\": 1, \"41\": 1, \"67\": 1, \"40\": 1, \"47\": 1, \"103\": 2, \"121\": 1, \"100\": 1, \"128\": 1, \"38\": 1}, \"42\": {\"58\": 1, \"98\": 1, \"29\": 1, \"68\": 1, \"66\": 1, \"31\": 1, \"42\": 1, \"82\": 1, \"47\": 1, \"28\": 1, \"129\": 1, \"41\": 1}, \"98\": {\"98\": 5, \"82\": 1, \"19\": 1, \"73\": 1, \"103\": 2, \"75\": 2}, \"123\": {\"123\": 8, \"67\": 1, \"59\": 1, \"125\": 2}, \"91\": {\"42\": 1, \"91\": 4, \"22\": 1, \"55\": 1, \"29\": 3, \"57\": 2}, \"66\": {\"68\": 1, \"82\": 1, \"65\": 1, \"66\": 1, \"2\": 1, \"31\": 1, \"112\": 1, \"48\": 1, \"90\": 2, \"123\": 2}, \"102\": {\"102\": 7, \"37\": 2, \"17\": 2, \"119\": 1}, \"122\": {\"15\": 1, \"122\": 6, \"110\": 1, \"36\": 2, \"8\": 1, \"11\": 1}, \"1\": {\"97\": 2, \"1\": 6, \"69\": 2, \"84\": 1, \"40\": 1}, \"15\": {\"122\": 1, \"15\": 11}, \"97\": {\"15\": 2, \"97\": 9, \"2\": 1}, \"75\": {\"75\": 6, \"98\": 1, \"73\": 1, \"58\": 2, \"41\": 1, \"120\": 1}, \"95\": {\"95\": 2, \"1\": 1, \"53\": 3, \"76\": 1, \"44\": 1, \"38\": 1, \"72\": 1, \"46\": 1, \"32\": 1}, \"57\": {\"66\": 2, \"57\": 6, \"128\": 1, \"45\": 1, \"48\": 2}, \"68\": {\"68\": 7, \"66\": 1, \"42\": 1, \"129\": 1, \"103\": 1, \"56\": 1}, \"125\": {\"125\": 11, \"86\": 1}, \"62\": {\"62\": 7, \"106\": 1, \"60\": 1, \"96\": 1}, \"27\": {\"27\": 11, \"21\": 1}, \"120\": {\"120\": 6, \"91\": 1, \"103\": 1, \"31\": 1, \"56\": 1, \"64\": 1, \"41\": 1}, \"26\": {\"26\": 11, \"60\": 1}, \"55\": {\"120\": 1, \"63\": 1, \"128\": 1, \"64\": 2, \"6\": 1, \"67\": 3, \"22\": 2, \"56\": 1}, \"71\": {\"99\": 1, \"84\": 1, \"71\": 4, \"88\": 1, \"3\": 1, \"14\": 1, \"18\": 1, \"72\": 2}, \"22\": {\"37\": 2, \"22\": 8, \"129\": 1, \"123\": 1}, \"99\": {\"35\": 2, \"14\": 1, \"52\": 1, \"84\": 1, \"81\": 1, \"21\": 1, \"99\": 2, \"107\": 1, \"44\": 1, \"85\": 1}, \"84\": {\"84\": 10, \"103\": 1, \"43\": 1}, \"37\": {\"13\": 2, \"37\": 5, \"124\": 3, \"65\": 2}, \"83\": {\"46\": 1, \"99\": 1, \"114\": 2, \"19\": 2, \"105\": 3, \"33\": 1, \"38\": 2}, \"46\": {\"120\": 1, \"46\": 3, \"53\": 1, \"95\": 2, \"6\": 2, \"28\": 1, \"47\": 1, \"65\": 1}, \"35\": {\"46\": 2, \"35\": 6, \"83\": 1, \"33\": 1, \"34\": 2}, \"13\": {\"13\": 7, \"37\": 1, \"65\": 1, \"50\": 1, \"28\": 1, \"79\": 1}, \"53\": {\"69\": 2, \"51\": 2, \"88\": 1, \"1\": 1, \"53\": 3, \"78\": 1, \"49\": 2}, \"127\": {\"16\": 2, \"127\": 8, \"49\": 2}, \"69\": {\"97\": 1, \"69\": 7, \"20\": 1, \"3\": 1, \"78\": 1, \"1\": 1}, \"48\": {\"48\": 3, \"17\": 1, \"111\": 1, \"22\": 1, \"123\": 1, \"67\": 2, \"29\": 1, \"89\": 1, \"59\": 1}, \"16\": {\"16\": 12}, \"0\": {\"8\": 4, \"23\": 1, \"0\": 4, \"15\": 1, \"87\": 2}, \"8\": {\"0\": 1, \"97\": 2, \"8\": 7, \"94\": 1, \"122\": 1}, \"9\": {\"9\": 3, \"53\": 1, \"34\": 1, \"20\": 1, \"54\": 1, \"33\": 1, \"105\": 2, \"72\": 1, \"128\": 1}, \"115\": {\"48\": 2, \"59\": 1, \"115\": 8, \"128\": 1}, \"70\": {\"70\": 7, \"17\": 1, \"36\": 2, \"39\": 2}, \"119\": {\"119\": 6, \"6\": 2, \"2\": 2, \"65\": 2}, \"59\": {\"59\": 6, \"117\": 2, \"123\": 1, \"124\": 2, \"65\": 1}, \"52\": {\"95\": 2, \"52\": 3, \"61\": 1, \"83\": 1, \"103\": 2, \"38\": 2, \"34\": 1}, \"60\": {\"60\": 7, \"99\": 1, \"127\": 1, \"101\": 1, \"62\": 1, \"118\": 1}, \"44\": {\"44\": 8, \"74\": 1, \"53\": 1, \"38\": 1, \"99\": 1}, \"51\": {\"51\": 1, \"70\": 1, \"44\": 1, \"74\": 1, \"76\": 1, \"81\": 1, \"9\": 1, \"99\": 1, \"33\": 1, \"68\": 1, \"49\": 1, \"107\": 1}, \"6\": {\"68\": 1, \"6\": 10, \"45\": 1}, \"73\": {\"73\": 6, \"75\": 1, \"48\": 1, \"55\": 2, \"81\": 1, \"53\": 1}, \"78\": {\"78\": 8, \"10\": 1, \"21\": 1, \"88\": 2}, \"92\": {\"73\": 2, \"45\": 2, \"91\": 1, \"56\": 2, \"28\": 1, \"32\": 1, \"92\": 2, \"57\": 1}, \"20\": {\"69\": 1, \"20\": 6, \"109\": 1, \"84\": 2, \"3\": 2}, \"17\": {\"104\": 3, \"17\": 7, \"80\": 1, \"102\": 1}, \"74\": {\"74\": 10, \"44\": 1, \"107\": 1}, \"19\": {\"92\": 1, \"98\": 1, \"83\": 2, \"19\": 3, \"103\": 1, \"31\": 2, \"90\": 1, \"75\": 1}, \"50\": {\"45\": 1, \"104\": 1, \"50\": 3, \"48\": 1, \"56\": 2, \"29\": 1, \"6\": 1, \"129\": 2}, \"34\": {\"20\": 2, \"34\": 4, \"76\": 1, \"119\": 1, \"35\": 1, \"84\": 1, \"65\": 1, \"46\": 1}, \"104\": {\"104\": 2, \"50\": 2, \"2\": 1, \"59\": 1, \"17\": 1, \"119\": 1}, \"33\": {\"33\": 5, \"75\": 1, \"128\": 2, \"25\": 2, \"83\": 1, \"70\": 1}, \"5\": {\"5\": 8, \"20\": 1, \"23\": 1, \"83\": 1, \"105\": 1}, \"7\": {\"7\": 7, \"49\": 2, \"96\": 2, \"0\": 1}, \"29\": {\"29\": 12}, \"25\": {\"25\": 5, \"75\": 1, \"33\": 1, \"56\": 1, \"128\": 1, \"89\": 2, \"23\": 1}, \"124\": {\"124\": 5, \"68\": 1, \"117\": 1, \"66\": 2, \"67\": 1, \"37\": 1, \"48\": 1}, \"117\": {\"117\": 9, \"88\": 1, \"22\": 1, \"108\": 1}, \"88\": {\"88\": 12}, \"61\": {\"35\": 1, \"88\": 1, \"61\": 4, \"47\": 3, \"32\": 1, \"56\": 1, \"81\": 1}, \"86\": {\"86\": 12}, \"116\": {\"124\": 2, \"129\": 3, \"116\": 4, \"79\": 1, \"111\": 2}, \"24\": {\"10\": 1, \"24\": 11}, \"128\": {\"52\": 2, \"128\": 3, \"21\": 1, \"100\": 2, \"38\": 1, \"46\": 1, \"95\": 1, \"75\": 1}, \"101\": {\"101\": 10, \"60\": 2}, \"65\": {\"65\": 9, \"50\": 1}, \"36\": {\"36\": 12}, \"21\": {\"21\": 9, \"10\": 1, \"78\": 2}, \"106\": {\"106\": 11, \"23\": 1}, \"118\": {\"118\": 7, \"88\": 2, \"110\": 1, \"11\": 2}, \"113\": {\"93\": 2, \"113\": 5, \"24\": 1, \"118\": 1, \"30\": 1, \"11\": 2}, \"40\": {\"40\": 7, \"18\": 2, \"83\": 1, \"20\": 2}, \"93\": {\"93\": 8}, \"94\": {\"94\": 7, \"122\": 1, \"36\": 2, \"109\": 1, \"11\": 1}, \"103\": {\"19\": 2, \"46\": 1, \"120\": 2, \"103\": 3, \"97\": 1, \"87\": 1, \"47\": 1, \"54\": 1}, \"110\": {\"118\": 3, \"110\": 9}, \"56\": {\"56\": 5, \"31\": 1, \"92\": 1, \"112\": 2, \"33\": 2, \"55\": 1}, \"39\": {\"109\": 1, \"39\": 9, \"70\": 2}, \"109\": {\"0\": 1, \"109\": 10, \"126\": 1}, \"67\": {\"67\": 5, \"111\": 2, \"6\": 1, \"119\": 1, \"90\": 2, \"88\": 1}, \"129\": {\"129\": 5, \"103\": 1, \"116\": 1, \"68\": 1, \"123\": 1, \"42\": 1, \"119\": 2}, \"30\": {\"30\": 10, \"109\": 1, \"43\": 1}, \"126\": {\"30\": 1, \"36\": 1, \"126\": 3, \"109\": 2, \"27\": 1, \"113\": 1, \"94\": 2, \"108\": 1}, \"87\": {\"21\": 1, \"87\": 10, \"110\": 1}, \"112\": {\"112\": 4, \"81\": 1, \"77\": 1, \"100\": 1, \"28\": 2, \"107\": 1, \"90\": 2}, \"100\": {\"47\": 1, \"76\": 1, \"100\": 3, \"81\": 1, \"20\": 2, \"3\": 1, \"18\": 1, \"46\": 1, \"107\": 1}, \"79\": {\"79\": 9, \"80\": 1}, \"81\": {\"81\": 4, \"58\": 1, \"99\": 1, \"32\": 1, \"34\": 1, \"5\": 1, \"28\": 1, \"108\": 1, \"61\": 1}, \"76\": {\"81\": 1, \"76\": 7, \"32\": 1, \"14\": 1}, \"47\": {\"112\": 3, \"21\": 1, \"47\": 6, \"56\": 2}, \"77\": {\"120\": 4, \"77\": 5, \"41\": 1, \"45\": 2}, \"23\": {\"103\": 1, \"0\": 2, \"110\": 3, \"108\": 1, \"106\": 2, \"23\": 1, \"78\": 1, \"87\": 1}, \"18\": {\"18\": 9, \"49\": 2, \"84\": 1}, \"49\": {\"49\": 8, \"18\": 1, \"20\": 1, \"3\": 2}, \"41\": {\"90\": 4, \"41\": 3, \"125\": 1, \"80\": 1, \"4\": 1, \"64\": 1, \"75\": 1}, \"32\": {\"32\": 2, \"76\": 3, \"38\": 2, \"47\": 1, \"61\": 1, \"98\": 2, \"58\": 1}, \"107\": {\"107\": 9, \"53\": 1}, \"80\": {\"80\": 11, \"77\": 1}, \"105\": {\"20\": 2, \"5\": 2, \"105\": 4, \"113\": 1, \"3\": 1}, \"38\": {\"38\": 4, \"23\": 1, \"32\": 2, \"54\": 1, \"121\": 1, \"75\": 1}}, \"Wisig_1\": {\"108\": {\"108\": 8, \"78\": 1, \"88\": 1}, \"40\": {\"9\": 1, \"40\": 6, \"76\": 3, \"127\": 1, \"44\": 1}, \"68\": {\"64\": 2, \"68\": 4, \"58\": 1, \"104\": 2, \"129\": 1, \"5\": 1, \"77\": 1}, \"23\": {\"110\": 1, \"26\": 1, \"16\": 1, \"122\": 1, \"23\": 4, \"113\": 1, \"69\": 1, \"12\": 2}, \"26\": {\"70\": 1, \"26\": 6, \"106\": 2, \"101\": 1, \"35\": 2}, \"64\": {\"22\": 1, \"64\": 9, \"129\": 1, \"66\": 1}, \"22\": {\"22\": 6, \"5\": 2, \"17\": 1, \"45\": 1, \"57\": 1, \"2\": 1}, \"3\": {\"9\": 2, \"3\": 6, \"40\": 2, \"26\": 2}, \"4\": {\"4\": 11, \"78\": 1}, \"70\": {\"70\": 10, \"78\": 2}, \"57\": {\"57\": 12}, \"79\": {\"102\": 2, \"79\": 8, \"123\": 1, \"124\": 1}, \"9\": {\"89\": 2, \"9\": 5, \"3\": 1, \"114\": 1, \"47\": 1, \"14\": 1, \"99\": 1}, \"89\": {\"3\": 3, \"64\": 1, \"53\": 1, \"99\": 1, \"49\": 3, \"107\": 1, \"38\": 1, \"89\": 1}, \"110\": {\"110\": 11, \"96\": 1}, \"102\": {\"57\": 1, \"102\": 10, \"13\": 1}, \"31\": {\"31\": 6, \"76\": 2, \"101\": 1, \"62\": 1, \"9\": 1, \"14\": 1}, \"58\": {\"58\": 8, \"68\": 1, \"104\": 1, \"41\": 2}, \"47\": {\"52\": 1, \"31\": 1, \"72\": 1, \"51\": 1, \"47\": 2, \"128\": 2, \"19\": 1, \"9\": 1, \"14\": 1, \"74\": 1}, \"24\": {\"109\": 1, \"24\": 9, \"88\": 2}, \"19\": {\"19\": 4, \"47\": 2, \"98\": 1, \"32\": 2, \"56\": 1, \"128\": 1, \"53\": 1}, \"11\": {\"11\": 12}, \"52\": {\"52\": 9, \"47\": 1, \"95\": 1, \"99\": 1}, \"17\": {\"17\": 4, \"129\": 1, \"22\": 2, \"125\": 1, \"111\": 2, \"5\": 2}, \"25\": {\"19\": 1, \"25\": 3, \"42\": 5, \"58\": 1, \"66\": 1, \"82\": 1}, \"69\": {\"69\": 9, \"60\": 1, \"18\": 1, \"84\": 1}, \"96\": {\"11\": 1, \"96\": 3, \"7\": 1, \"118\": 1, \"84\": 1, \"110\": 1, \"15\": 1, \"26\": 1, \"106\": 1, \"43\": 1}, \"109\": {\"109\": 10, \"24\": 2}, \"115\": {\"115\": 11, \"48\": 1}, \"83\": {\"83\": 2, \"19\": 1, \"42\": 1, \"81\": 1, \"91\": 1, \"4\": 1, \"104\": 2, \"52\": 2, \"103\": 1}, \"84\": {\"16\": 3, \"84\": 8, \"23\": 1}, \"119\": {\"111\": 1, \"119\": 2, \"2\": 2, \"124\": 3, \"37\": 1, \"116\": 1}, \"122\": {\"122\": 9, \"87\": 1}, \"99\": {\"1\": 1, \"89\": 1, \"99\": 5, \"107\": 1, \"51\": 1, \"52\": 2, \"31\": 1}, \"1\": {\"1\": 10, \"127\": 2}, \"74\": {\"74\": 6, \"119\": 1, \"114\": 2, \"81\": 2, \"48\": 1}, \"85\": {\"85\": 7, \"120\": 1, \"90\": 1, \"25\": 1, \"82\": 1, \"46\": 1}, \"127\": {\"127\": 10, \"105\": 2}, \"111\": {\"111\": 10, \"124\": 1, \"112\": 1}, \"53\": {\"53\": 10, \"34\": 1, \"75\": 1}, \"88\": {\"88\": 11, \"108\": 1}, \"65\": {\"119\": 1, \"65\": 5, \"37\": 1, \"13\": 1, \"124\": 1, \"116\": 1}, \"7\": {\"7\": 9, \"84\": 1, \"69\": 1, \"106\": 1}, \"16\": {\"16\": 7, \"10\": 1, \"106\": 1, \"18\": 1, \"84\": 2}, \"128\": {\"34\": 1, \"92\": 3, \"38\": 1, \"128\": 5, \"19\": 2}, \"34\": {\"34\": 1, \"114\": 2, \"75\": 1, \"19\": 1, \"3\": 1, \"76\": 3, \"81\": 1, \"49\": 2}, \"129\": {\"41\": 1, \"129\": 8, \"22\": 1, \"37\": 1, \"117\": 1}, \"43\": {\"43\": 12}, \"92\": {\"92\": 7, \"90\": 1, \"85\": 2, \"98\": 2}, \"28\": {\"28\": 4, \"17\": 1, \"91\": 2, \"82\": 2, \"22\": 1, \"125\": 1, \"61\": 1}, \"27\": {\"27\": 9, \"30\": 3}, \"114\": {\"34\": 1, \"114\": 8, \"33\": 1, \"100\": 2}, \"73\": {\"92\": 2, \"98\": 1, \"73\": 7, \"85\": 2}, \"0\": {\"0\": 12}, \"104\": {\"104\": 8, \"66\": 1, \"58\": 1, \"41\": 2}, \"118\": {\"118\": 12}, \"41\": {\"129\": 2, \"41\": 8, \"117\": 1, \"57\": 1}, \"49\": {\"49\": 9, \"72\": 2, \"34\": 1}, \"14\": {\"40\": 2, \"14\": 9, \"44\": 1}, \"46\": {\"66\": 1, \"104\": 1, \"46\": 4, \"109\": 1, \"117\": 1, \"57\": 1, \"22\": 1, \"59\": 2}, \"33\": {\"33\": 7, \"89\": 1, \"95\": 1, \"75\": 1, \"34\": 1, \"51\": 1}, \"76\": {\"76\": 7, \"49\": 1, \"34\": 2, \"3\": 1, \"72\": 1}, \"125\": {\"125\": 12}, \"86\": {\"5\": 1, \"125\": 1, \"86\": 7, \"124\": 1}, \"66\": {\"129\": 1, \"66\": 3, \"124\": 1, \"64\": 1, \"61\": 2, \"2\": 1, \"59\": 1, \"25\": 1, \"44\": 1}, \"5\": {\"129\": 1, \"5\": 5, \"124\": 2, \"112\": 3, \"111\": 1}, \"117\": {\"117\": 8, \"67\": 1, \"41\": 2, \"129\": 1}, \"75\": {\"34\": 1, \"19\": 1, \"75\": 5, \"72\": 1, \"56\": 2, \"114\": 1, \"31\": 1}, \"61\": {\"61\": 7, \"67\": 1, \"112\": 1, \"64\": 1, \"28\": 1, \"77\": 1}, \"50\": {\"19\": 2, \"32\": 2, \"50\": 2, \"20\": 1, \"27\": 1, \"100\": 1, \"90\": 1, \"74\": 1, \"73\": 1}, \"67\": {\"67\": 7, \"125\": 1, \"104\": 1, \"13\": 1}, \"18\": {\"18\": 9, \"69\": 1, \"23\": 1, \"16\": 1}, \"98\": {\"98\": 9, \"90\": 2, \"103\": 1}, \"55\": {\"55\": 6, \"45\": 2, \"5\": 2}, \"32\": {\"32\": 9, \"19\": 1, \"83\": 1, \"128\": 1}, \"120\": {\"120\": 9, \"82\": 1, \"90\": 1, \"73\": 1}, \"97\": {\"97\": 11, \"93\": 1}, \"126\": {\"126\": 9, \"97\": 1, \"30\": 2}, \"45\": {\"55\": 3, \"45\": 3, \"124\": 2, \"22\": 1, \"117\": 1, \"2\": 2}, \"78\": {\"78\": 4, \"108\": 4, \"10\": 1, \"21\": 1}, \"100\": {\"107\": 2, \"49\": 1, \"19\": 2, \"32\": 1, \"20\": 1, \"51\": 1, \"56\": 1, \"53\": 1, \"50\": 1, \"74\": 1}, \"107\": {\"107\": 8, \"100\": 1, \"99\": 1, \"74\": 1, \"95\": 1}, \"93\": {\"93\": 12}, \"77\": {\"77\": 7, \"120\": 1, \"98\": 1, \"37\": 1, \"112\": 2}, \"63\": {\"63\": 7, \"115\": 3, \"86\": 1, \"6\": 1}, \"112\": {\"65\": 2, \"124\": 1, \"61\": 1, \"116\": 2, \"55\": 2, \"129\": 2, \"2\": 1, \"112\": 1}, \"113\": {\"113\": 11, \"0\": 1}, \"103\": {\"114\": 2, \"103\": 2, \"95\": 2, \"77\": 1, \"83\": 1, \"52\": 2}, \"71\": {\"71\": 9, \"101\": 1, \"127\": 1, \"62\": 1}, \"30\": {\"30\": 8, \"126\": 3, \"11\": 1}, \"90\": {\"90\": 9, \"120\": 2, \"121\": 1}, \"37\": {\"114\": 1, \"129\": 1, \"41\": 1, \"37\": 6, \"111\": 1, \"5\": 1, \"6\": 1}, \"60\": {\"69\": 1, \"60\": 7, \"7\": 2, \"39\": 1, \"106\": 1}, \"15\": {\"15\": 10, \"8\": 1, \"36\": 1}, \"39\": {\"39\": 11, \"27\": 1}, \"72\": {\"35\": 1, \"72\": 4, \"49\": 4, \"51\": 3}, \"54\": {\"54\": 6, \"90\": 2, \"38\": 1, \"92\": 1, \"53\": 1, \"47\": 1}, \"35\": {\"35\": 12}, \"2\": {\"41\": 1, \"2\": 6, \"116\": 3, \"22\": 1, \"68\": 1}, \"94\": {\"8\": 1, \"15\": 1, \"94\": 6, \"43\": 2, \"109\": 1, \"36\": 1}, \"42\": {\"6\": 1, \"25\": 1, \"42\": 5, \"91\": 1, \"5\": 1, \"28\": 1, \"58\": 1, \"92\": 1}, \"81\": {\"74\": 1, \"81\": 4, \"105\": 1, \"51\": 2, \"50\": 2, \"83\": 2}, \"8\": {\"8\": 11, \"93\": 1}, \"87\": {\"8\": 3, \"87\": 7, \"97\": 2}, \"6\": {\"6\": 5, \"91\": 1, \"124\": 1, \"55\": 1, \"117\": 1, \"2\": 2, \"111\": 1}, \"36\": {\"36\": 8, \"94\": 3, \"15\": 1}, \"91\": {\"91\": 8, \"42\": 1, \"28\": 2, \"25\": 1}, \"56\": {\"56\": 7, \"95\": 2, \"33\": 2, \"100\": 1}, \"80\": {\"80\": 9, \"79\": 2, \"56\": 1}, \"124\": {\"124\": 4, \"5\": 3, \"6\": 1, \"65\": 2}, \"44\": {\"44\": 9, \"105\": 3}, \"13\": {\"124\": 1, \"13\": 5, \"116\": 1, \"123\": 1, \"125\": 1, \"57\": 1, \"111\": 1, \"65\": 1}, \"10\": {\"126\": 2, \"88\": 1, \"36\": 1, \"10\": 7, \"21\": 1}, \"59\": {\"59\": 6, \"123\": 2, \"82\": 1, \"42\": 1, \"45\": 1, \"55\": 1}, \"95\": {\"56\": 2, \"95\": 7, \"38\": 1, \"107\": 1, \"47\": 1}, \"105\": {\"105\": 6, \"101\": 1, \"44\": 1, \"127\": 1, \"80\": 1, \"16\": 2}, \"101\": {\"101\": 8, \"62\": 2, \"84\": 1, \"26\": 1}, \"20\": {\"50\": 1, \"20\": 8, \"75\": 2, \"34\": 1}, \"48\": {\"48\": 11, \"123\": 1}, \"106\": {\"106\": 10, \"84\": 1, \"7\": 1}, \"51\": {\"51\": 6, \"74\": 2, \"114\": 1, \"20\": 1, \"33\": 1, \"29\": 1}, \"21\": {\"11\": 2, \"21\": 10}, \"123\": {\"123\": 6, \"116\": 1, \"13\": 1, \"125\": 1, \"59\": 1, \"115\": 1, \"91\": 1}, \"121\": {\"38\": 2, \"121\": 7, \"112\": 1, \"28\": 2}, \"38\": {\"128\": 2, \"90\": 2, \"38\": 5, \"3\": 1, \"32\": 1, \"120\": 1}, \"62\": {\"62\": 11, \"101\": 1}, \"29\": {\"52\": 1, \"29\": 8, \"107\": 1, \"81\": 1, \"33\": 1}, \"82\": {\"82\": 6, \"98\": 1, \"54\": 1, \"120\": 1, \"42\": 2, \"25\": 1}, \"116\": {\"102\": 1, \"116\": 3, \"2\": 2, \"59\": 2, \"86\": 3, \"124\": 1}, \"12\": {\"12\": 4, \"35\": 2, \"60\": 2}}, \"Wisig_2\": {\"91\": {\"117\": 2, \"37\": 1, \"90\": 1, \"91\": 2, \"41\": 1, \"29\": 1, \"50\": 1, \"129\": 1, \"77\": 1, \"59\": 1}, \"12\": {\"106\": 1, \"101\": 1, \"12\": 4, \"109\": 1, \"96\": 2, \"7\": 2, \"110\": 1}, \"101\": {\"101\": 9, \"12\": 1}, \"121\": {\"28\": 2, \"110\": 1, \"120\": 1, \"55\": 1, \"68\": 1, \"64\": 2, \"90\": 1, \"92\": 1, \"73\": 1, \"121\": 1}, \"118\": {\"118\": 6, \"15\": 4, \"113\": 2}, \"10\": {\"10\": 12}, \"117\": {\"117\": 8, \"91\": 1, \"37\": 1, \"124\": 1, \"90\": 1}, \"110\": {\"110\": 8, \"106\": 1, \"16\": 2, \"97\": 1}, \"97\": {\"97\": 10, \"117\": 1, \"37\": 1}, \"28\": {\"88\": 1, \"121\": 1, \"28\": 2, \"46\": 1, \"41\": 1, \"25\": 2, \"45\": 1, \"63\": 1, \"103\": 1, \"38\": 1}, \"88\": {\"88\": 11, \"109\": 1}, \"17\": {\"86\": 1, \"117\": 1, \"125\": 2, \"115\": 1, \"79\": 1, \"78\": 1, \"102\": 3, \"17\": 2}, \"126\": {\"126\": 12}, \"33\": {\"33\": 12}, \"86\": {\"86\": 12}, \"106\": {\"12\": 2, \"106\": 9, \"7\": 1}, \"54\": {\"54\": 11, \"107\": 1}, \"125\": {\"125\": 11, \"79\": 1}, \"83\": {\"83\": 8, \"58\": 1, \"44\": 2, \"53\": 1}, \"98\": {\"98\": 7, \"90\": 2, \"57\": 1, \"19\": 2}, \"11\": {\"11\": 7, \"43\": 1, \"8\": 3, \"27\": 1}, \"32\": {\"83\": 1, \"32\": 5, \"47\": 1, \"34\": 1, \"74\": 2, \"58\": 2}, \"42\": {\"42\": 5, \"103\": 1, \"6\": 2, \"129\": 2, \"48\": 2}, \"103\": {\"103\": 4, \"13\": 1, \"82\": 1, \"41\": 1, \"124\": 1, \"73\": 1, \"90\": 1, \"111\": 2}, \"87\": {\"11\": 1, \"87\": 10, \"118\": 1}, \"61\": {\"87\": 1, \"98\": 1, \"107\": 2, \"31\": 1, \"61\": 1, \"74\": 1, \"102\": 1, \"75\": 2, \"44\": 1, \"83\": 1}, \"13\": {\"13\": 10, \"80\": 2}, \"4\": {\"4\": 12}, \"15\": {\"15\": 10}, \"120\": {\"121\": 1, \"64\": 1, \"77\": 1, \"120\": 6, \"66\": 1, \"73\": 2}, \"80\": {\"80\": 11, \"13\": 1}, \"72\": {\"35\": 3, \"1\": 2, \"3\": 1, \"72\": 4}, \"64\": {\"76\": 1, \"120\": 1, \"54\": 1, \"64\": 2, \"77\": 1, \"99\": 2, \"89\": 1, \"19\": 1, \"52\": 1, \"92\": 1}, \"81\": {\"64\": 1, \"49\": 1, \"69\": 1, \"81\": 6, \"51\": 1, \"47\": 1, \"19\": 1}, \"102\": {\"102\": 11, \"59\": 1}, \"76\": {\"76\": 5, \"65\": 1, \"56\": 1, \"45\": 1, \"120\": 2, \"64\": 1, \"111\": 1}, \"49\": {\"49\": 4, \"47\": 1, \"40\": 1, \"114\": 1, \"20\": 1, \"95\": 1, \"21\": 1}, \"129\": {\"129\": 6, \"2\": 1, \"124\": 1, \"65\": 2, \"17\": 2}, \"89\": {\"53\": 1, \"64\": 2, \"89\": 2, \"29\": 1, \"57\": 1, \"38\": 1, \"112\": 1, \"81\": 1, \"19\": 1, \"55\": 1}, \"52\": {\"98\": 2, \"82\": 2, \"52\": 2, \"107\": 2, \"38\": 1, \"92\": 2, \"76\": 1}, \"35\": {\"35\": 5, \"49\": 1, \"18\": 2, \"1\": 2, \"69\": 2}, \"53\": {\"52\": 1, \"53\": 5, \"122\": 1, \"61\": 2, \"42\": 1, \"99\": 1, \"70\": 1}, \"112\": {\"54\": 1, \"77\": 1, \"120\": 2, \"112\": 3, \"38\": 1, \"25\": 2, \"121\": 1, \"92\": 1}, \"105\": {\"105\": 11, \"7\": 1}, \"100\": {\"64\": 1, \"51\": 1, \"74\": 2, \"100\": 4, \"95\": 1, \"127\": 1, \"58\": 2}, \"9\": {\"51\": 1, \"100\": 2, \"9\": 7, \"83\": 1, \"114\": 1}, \"82\": {\"64\": 2, \"82\": 5, \"50\": 1, \"75\": 1, \"38\": 1, \"81\": 1, \"89\": 1}, \"51\": {\"9\": 1, \"51\": 6, \"56\": 1, \"19\": 1, \"127\": 1, \"100\": 1, \"47\": 1}, \"21\": {\"10\": 2, \"21\": 8, \"126\": 2}, \"92\": {\"64\": 1, \"92\": 2, \"25\": 1, \"29\": 1, \"34\": 1, \"59\": 1, \"74\": 1, \"90\": 1, \"84\": 1, \"57\": 2}, \"69\": {\"69\": 8, \"1\": 1, \"40\": 2, \"35\": 1}, \"77\": {\"92\": 1, \"17\": 1, \"120\": 1, \"77\": 4, \"46\": 1, \"38\": 1, \"123\": 1, \"85\": 2}, \"50\": {\"46\": 1, \"103\": 1, \"50\": 1, \"73\": 1, \"123\": 2, \"29\": 1, \"91\": 1, \"76\": 2, \"42\": 1, \"129\": 1}, \"36\": {\"87\": 3, \"36\": 9}, \"16\": {\"16\": 9, \"84\": 1, \"24\": 1, \"78\": 1}, \"8\": {\"35\": 1, \"8\": 8, \"43\": 1, \"11\": 1, \"9\": 1}, \"127\": {\"18\": 1, \"127\": 9, \"51\": 2}, \"46\": {\"46\": 3, \"63\": 1, \"90\": 2, \"38\": 2, \"73\": 2}, \"84\": {\"127\": 2, \"84\": 7, \"3\": 1, \"62\": 1, \"95\": 1}, \"18\": {\"35\": 1, \"18\": 8, \"84\": 3}, \"123\": {\"46\": 2, \"50\": 1, \"123\": 6, \"42\": 1}, \"56\": {\"76\": 1, \"56\": 1, \"34\": 1, \"109\": 1, \"45\": 1, \"83\": 1, \"100\": 2, \"54\": 2, \"32\": 2}, \"26\": {\"26\": 11, \"101\": 1}, \"14\": {\"109\": 1, \"14\": 4, \"3\": 2, \"69\": 2, \"43\": 1, \"1\": 1, \"27\": 1}, \"109\": {\"109\": 6, \"108\": 2, \"70\": 2, \"78\": 2}, \"66\": {\"66\": 4, \"59\": 1, \"92\": 1, \"68\": 1, \"119\": 1, \"5\": 1, \"90\": 3}, \"24\": {\"109\": 1, \"24\": 8, \"78\": 1, \"88\": 2}, \"71\": {\"14\": 3, \"71\": 1, \"75\": 2, \"95\": 2, \"18\": 2, \"72\": 2}, \"65\": {\"111\": 2, \"65\": 8, \"29\": 1, \"64\": 1}, \"75\": {\"33\": 1, \"76\": 1, \"25\": 1, \"75\": 1, \"44\": 1, \"19\": 1, \"114\": 2, \"69\": 1, \"34\": 1, \"21\": 1, \"95\": 1}, \"111\": {\"65\": 1, \"111\": 9, \"104\": 1, \"67\": 1}, \"30\": {\"30\": 12}, \"85\": {\"45\": 1, \"85\": 6, \"81\": 1, \"17\": 1, \"98\": 1, \"119\": 1, \"68\": 1}, \"113\": {\"113\": 5, \"118\": 1, \"15\": 3, \"21\": 1}, \"45\": {\"29\": 1, \"45\": 2, \"77\": 2, \"17\": 2, \"50\": 2, \"58\": 1, \"90\": 2}, \"29\": {\"29\": 9, \"120\": 1, \"25\": 2}, \"20\": {\"18\": 2, \"20\": 5, \"49\": 1, \"40\": 1, \"1\": 1, \"61\": 2}, \"25\": {\"29\": 4, \"28\": 2, \"25\": 3, \"42\": 1, \"99\": 1, \"38\": 1}, \"0\": {\"0\": 12}, \"68\": {\"81\": 1, \"85\": 1, \"68\": 5, \"73\": 1, \"52\": 1, \"90\": 1, \"58\": 1, \"45\": 1}, \"119\": {\"85\": 2, \"116\": 1, \"68\": 1, \"119\": 3, \"59\": 1, \"48\": 1, \"90\": 1, \"63\": 2}, \"90\": {\"38\": 1, \"90\": 9, \"66\": 1, \"56\": 1}, \"38\": {\"81\": 4, \"38\": 6, \"37\": 1, \"55\": 1}, \"99\": {\"81\": 2, \"19\": 3, \"34\": 1, \"61\": 2, \"99\": 3, \"33\": 1}, \"1\": {\"1\": 6, \"69\": 1, \"74\": 1, \"95\": 1, \"40\": 2, \"14\": 1}, \"67\": {\"119\": 1, \"85\": 1, \"67\": 4, \"63\": 1, \"42\": 1, \"6\": 2, \"25\": 2}, \"63\": {\"63\": 11, \"66\": 1}, \"34\": {\"109\": 1, \"56\": 1, \"47\": 2, \"53\": 1, \"128\": 1, \"34\": 3, \"75\": 1, \"44\": 1, \"52\": 1}, \"108\": {\"108\": 12}, \"40\": {\"51\": 1, \"69\": 1, \"40\": 2, \"47\": 2, \"1\": 3, \"20\": 1, \"72\": 1, \"100\": 1}, \"47\": {\"33\": 2, \"63\": 1, \"47\": 4, \"73\": 1, \"34\": 2, \"49\": 2}, \"37\": {\"111\": 2, \"2\": 2, \"37\": 6, \"103\": 2}, \"78\": {\"78\": 11, \"24\": 1}, \"96\": {\"0\": 1, \"96\": 6, \"72\": 2, \"1\": 1, \"60\": 2}, \"43\": {\"43\": 8, \"21\": 1, \"11\": 1, \"97\": 2}, \"5\": {\"42\": 1, \"5\": 8, \"37\": 1}, \"124\": {\"5\": 2, \"41\": 2, \"65\": 1, \"124\": 5, \"6\": 1, \"2\": 1}, \"44\": {\"44\": 11, \"99\": 1}, \"41\": {\"42\": 2, \"115\": 1, \"41\": 2, \"6\": 1, \"117\": 2, \"124\": 1, \"50\": 1, \"8\": 1, \"102\": 1}, \"116\": {\"116\": 4, \"119\": 1, \"124\": 1, \"41\": 2, \"2\": 1, \"22\": 1, \"37\": 2}, \"19\": {\"19\": 4, \"99\": 1, \"92\": 1, \"42\": 1, \"81\": 2, \"77\": 1, \"47\": 1, \"54\": 1}, \"115\": {\"115\": 9, \"79\": 2, \"80\": 1}, \"95\": {\"18\": 3, \"71\": 1, \"70\": 1, \"100\": 1, \"84\": 1, \"35\": 1, \"1\": 3, \"83\": 1}, \"3\": {\"18\": 2, \"3\": 7, \"72\": 1}, \"59\": {\"5\": 1, \"86\": 1, \"59\": 5, \"22\": 1, \"48\": 3, \"6\": 1}, \"55\": {\"34\": 1, \"19\": 1, \"38\": 1, \"55\": 6, \"90\": 1, \"112\": 2}, \"70\": {\"70\": 9, \"27\": 1, \"109\": 1, \"39\": 1}, \"6\": {\"37\": 1, \"6\": 7, \"116\": 2, \"124\": 1, \"111\": 1}, \"2\": {\"48\": 1, \"37\": 2, \"116\": 2, \"17\": 1, \"79\": 1, \"124\": 1, \"91\": 1, \"22\": 1, \"45\": 1, \"86\": 1}, \"48\": {\"86\": 1, \"6\": 2, \"48\": 5, \"59\": 3, \"91\": 1}, \"23\": {\"7\": 2, \"122\": 1, \"23\": 8, \"12\": 1}, \"7\": {\"7\": 11, \"60\": 1}, \"122\": {\"122\": 9, \"94\": 1, \"118\": 1, \"15\": 1}, \"57\": {\"19\": 1, \"108\": 1, \"57\": 6, \"120\": 1, \"98\": 1, \"42\": 1, \"30\": 1}, \"39\": {\"39\": 9, \"70\": 1}, \"79\": {\"79\": 11, \"125\": 1}, \"27\": {\"27\": 9, \"70\": 1}, \"74\": {\"100\": 1, \"74\": 1, \"70\": 1, \"45\": 1, \"128\": 2, \"114\": 3, \"78\": 1, \"8\": 1, \"99\": 1}, \"73\": {\"50\": 1, \"73\": 6, \"34\": 1, \"68\": 1, \"120\": 1, \"107\": 1, \"31\": 1}, \"62\": {\"62\": 11, \"105\": 1}, \"107\": {\"107\": 6, \"83\": 2, \"45\": 1, \"31\": 2, \"32\": 1}, \"128\": {\"53\": 3, \"128\": 3, \"83\": 1, \"107\": 1, \"31\": 1, \"58\": 1, \"99\": 2}, \"60\": {\"60\": 10, \"16\": 1, \"93\": 1}, \"114\": {\"114\": 6, \"40\": 1, \"49\": 2, \"31\": 1, \"74\": 1, \"9\": 1}, \"22\": {\"6\": 1, \"124\": 1, \"119\": 1, \"48\": 1, \"104\": 1, \"59\": 1, \"5\": 2, \"22\": 2, \"2\": 1, \"65\": 1}, \"93\": {\"93\": 9, \"60\": 1, \"26\": 1, \"97\": 1}, \"94\": {\"94\": 7, \"8\": 2, \"30\": 1, \"122\": 1, \"88\": 1}, \"31\": {\"61\": 2, \"31\": 4, \"32\": 1, \"107\": 3}, \"104\": {\"104\": 4, \"111\": 1, \"50\": 2, \"124\": 1, \"41\": 1, \"125\": 1, \"67\": 1, \"119\": 1}, \"58\": {\"114\": 2, \"83\": 2, \"58\": 4, \"31\": 1, \"2\": 1, \"128\": 2}}}, \"per_domain_accuracy\": {\"ORACLE.run114\": {\"accuracy\": 0.7594791666666667, \"source?\": true}, \"ORACLE.run120\": {\"accuracy\": 0.2878125, \"source?\": true}, \"ORACLE.run138\": {\"accuracy\": 0.74828125, \"source?\": true}, \"ORACLE.run18\": {\"accuracy\": 0.41598958333333336, \"source?\": true}, \"ORACLE.run150\": {\"accuracy\": 0.8500520833333334, \"source?\": true}, \"ORACLE.run132\": {\"accuracy\": 0.8127083333333334, \"source?\": true}, \"ORACLE.run126\": {\"accuracy\": 0.74640625, \"source?\": true}, \"ORACLE.run144\": {\"accuracy\": 0.7203645833333333, \"source?\": true}, \"Wisig_3\": {\"accuracy\": 0.556640625, \"source?\": false}, \"Wisig_4\": {\"accuracy\": 0.53515625, \"source?\": false}, \"Wisig_1\": {\"accuracy\": 0.607421875, \"source?\": false}, \"Wisig_2\": {\"accuracy\": 0.5416666666666666, \"source?\": false}}}, \"history\": {\"epoch_indices\": [1, 2, 3, 4, 5], \"train_label_loss\": [0.6234532849308813, 0.4190028062305369, 0.33559418394352264, 0.29574868340372285, 0.2665179631293895], \"source_val_label_loss\": [14.027276992797852, 0.41062411665916443, 0.3713253140449524, 0.337140828371048, 0.3269253671169281], \"target_val_label_loss\": [2077.290771484375, 61226.3984375, 109843.1171875, 164753.171875, 214313.84375], \"source_val_acc_label\": [0.66763671875, 0.8585546875, 0.8688151041666666, 0.87849609375, 0.8815234375], \"target_val_acc_label\": [0.5602213541666666, 0.53173828125, 0.4742838541666667, 0.45458984375, 0.4197591145833333]}, \"dataset_metrics\": {\"source\": {\"train\": {\"n_unique_x\": 896000, \"n_unique_y\": 16, \"n_batch/episode\": 33600}, \"val\": {\"n_unique_x\": 192000, \"n_unique_y\": 16, \"n_batch/episode\": 4800}, \"test\": {\"n_unique_x\": 192000, \"n_unique_y\": 16, \"n_batch/episode\": 4800}}, \"target\": {\"train\": {\"n_unique_x\": 36400, \"n_unique_y\": 130, \"n_batch/episode\": 1347}, \"val\": {\"n_unique_x\": 7800, \"n_unique_y\": 130, \"n_batch/episode\": 192}, \"test\": {\"n_unique_x\": 7800, \"n_unique_y\": 130, \"n_batch/episode\": 192}}}}'"
      ]
     },
     "execution_count": 29,
     "metadata": {},
     "output_type": "execute_result"
    }
   ],
   "source": [
    "json.dumps(experiment)"
   ]
  }
 ],
 "metadata": {
  "celltoolbar": "Tags",
  "kernelspec": {
   "display_name": "Python 3 (ipykernel)",
   "language": "python",
   "name": "python3"
  },
  "language_info": {
   "codemirror_mode": {
    "name": "ipython",
    "version": 3
   },
   "file_extension": ".py",
   "mimetype": "text/x-python",
   "name": "python",
   "nbconvert_exporter": "python",
   "pygments_lexer": "ipython3",
   "version": "3.8.10"
  },
  "papermill": {
   "default_parameters": {},
   "duration": 4766.377911,
   "end_time": "2022-03-11T01:54:02.726016",
   "environment_variables": {},
   "exception": null,
   "input_path": "/mnt/wd500GB/CSC500/csc500-main/csc500-notebooks/templates/tl_ptn_template.ipynb",
   "output_path": "trial.ipynb",
   "parameters": {
    "parameters": {
     "BEST_MODEL_PATH": "./best_model.pth",
     "NUM_LOGS_PER_EPOCH": 10,
     "criteria_for_best": "target_loss",
     "dataset_seed": 1337,
     "datasets": [
      {
       "domain_prefix": "Wisig_",
       "domains": [
        1,
        2,
        3,
        4
       ],
       "episode_transforms": [],
       "labels": [
        "1-10",
        "1-12",
        "1-14",
        "1-16",
        "1-18",
        "1-19",
        "1-8",
        "10-11",
        "10-17",
        "10-4",
        "10-7",
        "11-1",
        "11-10",
        "11-19",
        "11-20",
        "11-4",
        "11-7",
        "12-19",
        "12-20",
        "12-7",
        "13-14",
        "13-18",
        "13-19",
        "13-20",
        "13-3",
        "13-7",
        "14-10",
        "14-11",
        "14-12",
        "14-13",
        "14-14",
        "14-19",
        "14-20",
        "14-7",
        "14-8",
        "14-9",
        "15-1",
        "15-19",
        "15-6",
        "16-1",
        "16-16",
        "16-19",
        "16-20",
        "17-10",
        "17-11",
        "18-1",
        "18-10",
        "18-11",
        "18-12",
        "18-13",
        "18-14",
        "18-15",
        "18-16",
        "18-17",
        "18-19",
        "18-2",
        "18-20",
        "18-4",
        "18-5",
        "18-7",
        "18-8",
        "18-9",
        "19-1",
        "19-10",
        "19-11",
        "19-12",
        "19-13",
        "19-14",
        "19-15",
        "19-19",
        "19-2",
        "19-20",
        "19-3",
        "19-4",
        "19-6",
        "19-7",
        "19-8",
        "19-9",
        "2-1",
        "2-13",
        "2-15",
        "2-3",
        "2-4",
        "2-5",
        "2-6",
        "2-7",
        "2-8",
        "20-1",
        "20-12",
        "20-14",
        "20-15",
        "20-16",
        "20-18",
        "20-19",
        "20-20",
        "20-3",
        "20-4",
        "20-5",
        "20-7",
        "20-8",
        "3-1",
        "3-13",
        "3-18",
        "3-2",
        "3-8",
        "4-1",
        "4-10",
        "4-11",
        "5-1",
        "5-5",
        "6-1",
        "6-15",
        "6-6",
        "7-10",
        "7-11",
        "7-12",
        "7-13",
        "7-14",
        "7-7",
        "7-8",
        "7-9",
        "8-1",
        "8-13",
        "8-14",
        "8-18",
        "8-20",
        "8-3",
        "8-8",
        "9-1",
        "9-7"
       ],
       "num_examples_per_domain_per_label": 100,
       "pickle_path": "/mnt/wd500GB/CSC500/csc500-main/datasets/wisig.node3-19.stratified_ds.2022A.pkl",
       "source_or_target_dataset": "target",
       "x_transforms": []
      },
      {
       "domain_prefix": "ORACLE.run1",
       "domains": [
        32,
        38,
        8,
        44,
        14,
        50,
        20,
        26
       ],
       "episode_transforms": [],
       "labels": [
        "3123D52",
        "3123D65",
        "3123D79",
        "3123D80",
        "3123D54",
        "3123D70",
        "3123D7B",
        "3123D89",
        "3123D58",
        "3123D76",
        "3123D7D",
        "3123EFE",
        "3123D64",
        "3123D78",
        "3123D7E",
        "3124E4A"
       ],
       "num_examples_per_domain_per_label": 10000,
       "pickle_path": "/mnt/wd500GB/CSC500/csc500-main/datasets/oracle.Run1_10kExamples_stratified_ds.2022A.pkl",
       "source_or_target_dataset": "source",
       "x_transforms": []
      }
     ],
     "device": "cuda",
     "experiment_name": "tl_1_wisig-oracle.run1",
     "lr": 0.001,
     "n_epoch": 50,
     "n_query": 2,
     "n_shot": 3,
     "n_way": 16,
     "patience": 3,
     "seed": 1337,
     "test_k_factor": 2,
     "torch_default_dtype": "torch.float32",
     "train_k_factor": 3,
     "val_k_factor": 2,
     "x_net": [
      {
       "class": "nnReshape",
       "kargs": {
        "shape": [
         -1,
         1,
         2,
         256
        ]
       }
      },
      {
       "class": "Conv2d",
       "kargs": {
        "bias": false,
        "in_channels": 1,
        "kernel_size": [
         1,
         7
        ],
        "out_channels": 256,
        "padding": [
         0,
         3
        ]
       }
      },
      {
       "class": "ReLU",
       "kargs": {
        "inplace": true
       }
      },
      {
       "class": "BatchNorm2d",
       "kargs": {
        "num_features": 256
       }
      },
      {
       "class": "Conv2d",
       "kargs": {
        "bias": true,
        "in_channels": 256,
        "kernel_size": [
         2,
         7
        ],
        "out_channels": 80,
        "padding": [
         0,
         3
        ]
       }
      },
      {
       "class": "ReLU",
       "kargs": {
        "inplace": true
       }
      },
      {
       "class": "BatchNorm2d",
       "kargs": {
        "num_features": 80
       }
      },
      {
       "class": "Flatten",
       "kargs": {}
      },
      {
       "class": "Linear",
       "kargs": {
        "in_features": 20480,
        "out_features": 256
       }
      },
      {
       "class": "ReLU",
       "kargs": {
        "inplace": true
       }
      },
      {
       "class": "BatchNorm1d",
       "kargs": {
        "num_features": 256
       }
      },
      {
       "class": "Linear",
       "kargs": {
        "in_features": 256,
        "out_features": 256
       }
      }
     ]
    }
   },
   "start_time": "2022-03-11T00:34:36.348105",
   "version": "2.3.4"
  }
 },
 "nbformat": 4,
 "nbformat_minor": 5
}