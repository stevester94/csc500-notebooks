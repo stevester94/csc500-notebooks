{
 "cells": [
  {
   "cell_type": "markdown",
   "id": "9fea5f46",
   "metadata": {
    "papermill": {
     "duration": 0.018473,
     "end_time": "2022-03-07T07:43:55.930083",
     "exception": false,
     "start_time": "2022-03-07T07:43:55.911610",
     "status": "completed"
    },
    "tags": []
   },
   "source": [
    "# Transfer Learning Template"
   ]
  },
  {
   "cell_type": "code",
   "execution_count": 1,
   "id": "0902182a",
   "metadata": {
    "execution": {
     "iopub.execute_input": "2022-03-07T07:43:55.968339Z",
     "iopub.status.busy": "2022-03-07T07:43:55.968058Z",
     "iopub.status.idle": "2022-03-07T07:43:56.715667Z",
     "shell.execute_reply": "2022-03-07T07:43:56.715182Z"
    },
    "papermill": {
     "duration": 0.773013,
     "end_time": "2022-03-07T07:43:56.715782",
     "exception": false,
     "start_time": "2022-03-07T07:43:55.942769",
     "status": "completed"
    },
    "tags": []
   },
   "outputs": [],
   "source": [
    "%load_ext autoreload\n",
    "%autoreload 2\n",
    "%matplotlib inline\n",
    "\n",
    "    \n",
    "import os, json, sys, time, random\n",
    "import numpy as np\n",
    "import torch\n",
    "from torch.optim import Adam\n",
    "from  easydict import EasyDict\n",
    "import matplotlib.pyplot as plt\n",
    "\n",
    "from steves_models.steves_ptn import Steves_Prototypical_Network\n",
    "\n",
    "from steves_utils.lazy_iterable_wrapper import Lazy_Iterable_Wrapper\n",
    "from steves_utils.iterable_aggregator import Iterable_Aggregator\n",
    "from steves_utils.ptn_train_eval_test_jig import  PTN_Train_Eval_Test_Jig\n",
    "from steves_utils.torch_sequential_builder import build_sequential\n",
    "from steves_utils.torch_utils import get_dataset_metrics, ptn_confusion_by_domain_over_dataloader\n",
    "from steves_utils.utils_v2 import (per_domain_accuracy_from_confusion, get_datasets_base_path)\n",
    "from steves_utils.PTN.utils import independent_accuracy_assesment\n",
    "\n",
    "from torch.utils.data import DataLoader\n",
    "\n",
    "from steves_utils.stratified_dataset.episodic_accessor import Episodic_Accessor_Factory\n",
    "\n",
    "from steves_utils.ptn_do_report import (\n",
    "    get_loss_curve,\n",
    "    get_results_table,\n",
    "    get_parameters_table,\n",
    "    get_domain_accuracies,\n",
    ")\n",
    "\n",
    "from steves_utils.transforms import get_chained_transform"
   ]
  },
  {
   "cell_type": "markdown",
   "id": "41c840b4",
   "metadata": {
    "papermill": {
     "duration": 0.013324,
     "end_time": "2022-03-07T07:43:56.745862",
     "exception": false,
     "start_time": "2022-03-07T07:43:56.732538",
     "status": "completed"
    },
    "tags": []
   },
   "source": [
    "# Allowed Parameters\n",
    "These are allowed parameters, not defaults\n",
    "Each of these values need to be present in the injected parameters (the notebook will raise an exception if they are not present)\n",
    "\n",
    "Papermill uses the cell tag \"parameters\" to inject the real parameters below this cell.\n",
    "Enable tags to see what I mean"
   ]
  },
  {
   "cell_type": "code",
   "execution_count": 2,
   "id": "fd44eb83",
   "metadata": {
    "execution": {
     "iopub.execute_input": "2022-03-07T07:43:56.778757Z",
     "iopub.status.busy": "2022-03-07T07:43:56.775231Z",
     "iopub.status.idle": "2022-03-07T07:43:56.786160Z",
     "shell.execute_reply": "2022-03-07T07:43:56.786565Z"
    },
    "papermill": {
     "duration": 0.027542,
     "end_time": "2022-03-07T07:43:56.786690",
     "exception": false,
     "start_time": "2022-03-07T07:43:56.759148",
     "status": "completed"
    },
    "tags": []
   },
   "outputs": [],
   "source": [
    "required_parameters = {\n",
    "    \"experiment_name\",\n",
    "    \"lr\",\n",
    "    \"device\",\n",
    "    \"seed\",\n",
    "    \"dataset_seed\",\n",
    "    \"n_shot\",\n",
    "    \"n_query\",\n",
    "    \"n_way\",\n",
    "    \"train_k_factor\",\n",
    "    \"val_k_factor\",\n",
    "    \"test_k_factor\",\n",
    "    \"n_epoch\",\n",
    "    \"patience\",\n",
    "    \"criteria_for_best\",\n",
    "    \"x_net\",\n",
    "    \"datasets\",\n",
    "    \"torch_default_dtype\",\n",
    "    \"NUM_LOGS_PER_EPOCH\",\n",
    "    \"BEST_MODEL_PATH\",\n",
    "}"
   ]
  },
  {
   "cell_type": "code",
   "execution_count": 3,
   "id": "fa3f0049",
   "metadata": {
    "execution": {
     "iopub.execute_input": "2022-03-07T07:43:56.823344Z",
     "iopub.status.busy": "2022-03-07T07:43:56.817789Z",
     "iopub.status.idle": "2022-03-07T07:43:56.837843Z",
     "shell.execute_reply": "2022-03-07T07:43:56.837394Z"
    },
    "papermill": {
     "duration": 0.034111,
     "end_time": "2022-03-07T07:43:56.837933",
     "exception": false,
     "start_time": "2022-03-07T07:43:56.803822",
     "status": "completed"
    },
    "tags": [
     "parameters"
    ]
   },
   "outputs": [],
   "source": [
    "from steves_utils.CORES.utils import (\n",
    "    ALL_NODES,\n",
    "    ALL_NODES_MINIMUM_1000_EXAMPLES,\n",
    "    ALL_DAYS\n",
    ")\n",
    "\n",
    "from steves_utils.ORACLE.utils_v2 import (\n",
    "    ALL_DISTANCES_FEET_NARROWED,\n",
    "    ALL_RUNS,\n",
    "    ALL_SERIAL_NUMBERS,\n",
    ")\n",
    "\n",
    "standalone_parameters = {}\n",
    "standalone_parameters[\"experiment_name\"] = \"STANDALONE PTN\"\n",
    "standalone_parameters[\"lr\"] = 0.001\n",
    "standalone_parameters[\"device\"] = \"cuda\"\n",
    "\n",
    "standalone_parameters[\"seed\"] = 1337\n",
    "standalone_parameters[\"dataset_seed\"] = 1337\n",
    "\n",
    "standalone_parameters[\"n_way\"] = 8\n",
    "standalone_parameters[\"n_shot\"] = 3\n",
    "standalone_parameters[\"n_query\"]  = 2\n",
    "standalone_parameters[\"train_k_factor\"] = 1\n",
    "standalone_parameters[\"val_k_factor\"] = 2\n",
    "standalone_parameters[\"test_k_factor\"] = 2\n",
    "\n",
    "\n",
    "standalone_parameters[\"n_epoch\"] = 50\n",
    "\n",
    "standalone_parameters[\"patience\"] = 10\n",
    "standalone_parameters[\"criteria_for_best\"] = \"source_loss\"\n",
    "\n",
    "standalone_parameters[\"datasets\"] = [\n",
    "    {\n",
    "        \"labels\": ALL_SERIAL_NUMBERS,\n",
    "        \"domains\": ALL_DISTANCES_FEET_NARROWED,\n",
    "        \"num_examples_per_domain_per_label\": 100,\n",
    "        \"pickle_path\": os.path.join(get_datasets_base_path(), \"oracle.Run1_framed_2000Examples_stratified_ds.2022A.pkl\"),\n",
    "        \"source_or_target_dataset\": \"source\",\n",
    "        \"x_transforms\": [\"unit_mag\", \"minus_two\"],\n",
    "        \"episode_transforms\": [],\n",
    "        \"domain_prefix\": \"ORACLE_\"\n",
    "    },\n",
    "    {\n",
    "        \"labels\": ALL_NODES,\n",
    "        \"domains\": ALL_DAYS,\n",
    "        \"num_examples_per_domain_per_label\": 100,\n",
    "        \"pickle_path\": os.path.join(get_datasets_base_path(), \"cores.stratified_ds.2022A.pkl\"),\n",
    "        \"source_or_target_dataset\": \"target\",\n",
    "        \"x_transforms\": [\"unit_power\", \"times_zero\"],\n",
    "        \"episode_transforms\": [],\n",
    "        \"domain_prefix\": \"CORES_\"\n",
    "    }   \n",
    "]\n",
    "\n",
    "standalone_parameters[\"torch_default_dtype\"] = \"torch.float32\" \n",
    "\n",
    "\n",
    "\n",
    "standalone_parameters[\"x_net\"] =     [\n",
    "    {\"class\": \"nnReshape\", \"kargs\": {\"shape\":[-1, 1, 2, 256]}},\n",
    "    {\"class\": \"Conv2d\", \"kargs\": { \"in_channels\":1, \"out_channels\":256, \"kernel_size\":(1,7), \"bias\":False, \"padding\":(0,3), },},\n",
    "    {\"class\": \"ReLU\", \"kargs\": {\"inplace\": True}},\n",
    "    {\"class\": \"BatchNorm2d\", \"kargs\": {\"num_features\":256}},\n",
    "\n",
    "    {\"class\": \"Conv2d\", \"kargs\": { \"in_channels\":256, \"out_channels\":80, \"kernel_size\":(2,7), \"bias\":True, \"padding\":(0,3), },},\n",
    "    {\"class\": \"ReLU\", \"kargs\": {\"inplace\": True}},\n",
    "    {\"class\": \"BatchNorm2d\", \"kargs\": {\"num_features\":80}},\n",
    "    {\"class\": \"Flatten\", \"kargs\": {}},\n",
    "\n",
    "    {\"class\": \"Linear\", \"kargs\": {\"in_features\": 80*256, \"out_features\": 256}}, # 80 units per IQ pair\n",
    "    {\"class\": \"ReLU\", \"kargs\": {\"inplace\": True}},\n",
    "    {\"class\": \"BatchNorm1d\", \"kargs\": {\"num_features\":256}},\n",
    "\n",
    "    {\"class\": \"Linear\", \"kargs\": {\"in_features\": 256, \"out_features\": 256}},\n",
    "]\n",
    "\n",
    "# Parameters relevant to results\n",
    "# These parameters will basically never need to change\n",
    "standalone_parameters[\"NUM_LOGS_PER_EPOCH\"] = 10\n",
    "standalone_parameters[\"BEST_MODEL_PATH\"] = \"./best_model.pth\"\n",
    "\n",
    "\n",
    "\n",
    "\n"
   ]
  },
  {
   "cell_type": "code",
   "execution_count": 4,
   "id": "d024262c",
   "metadata": {
    "execution": {
     "iopub.execute_input": "2022-03-07T07:43:56.880730Z",
     "iopub.status.busy": "2022-03-07T07:43:56.880149Z",
     "iopub.status.idle": "2022-03-07T07:43:56.892056Z",
     "shell.execute_reply": "2022-03-07T07:43:56.891682Z"
    },
    "papermill": {
     "duration": 0.037294,
     "end_time": "2022-03-07T07:43:56.892134",
     "exception": false,
     "start_time": "2022-03-07T07:43:56.854840",
     "status": "completed"
    },
    "tags": [
     "injected-parameters"
    ]
   },
   "outputs": [],
   "source": [
    "# Parameters\n",
    "parameters = {\n",
    "    \"experiment_name\": \"tl_1_wisig-oracle.run1\",\n",
    "    \"device\": \"cuda\",\n",
    "    \"lr\": 0.001,\n",
    "    \"seed\": 1337,\n",
    "    \"dataset_seed\": 1337,\n",
    "    \"n_shot\": 3,\n",
    "    \"n_query\": 2,\n",
    "    \"train_k_factor\": 3,\n",
    "    \"val_k_factor\": 2,\n",
    "    \"test_k_factor\": 2,\n",
    "    \"torch_default_dtype\": \"torch.float32\",\n",
    "    \"n_epoch\": 50,\n",
    "    \"patience\": 3,\n",
    "    \"criteria_for_best\": \"target_loss\",\n",
    "    \"x_net\": [\n",
    "        {\"class\": \"nnReshape\", \"kargs\": {\"shape\": [-1, 1, 2, 256]}},\n",
    "        {\n",
    "            \"class\": \"Conv2d\",\n",
    "            \"kargs\": {\n",
    "                \"in_channels\": 1,\n",
    "                \"out_channels\": 256,\n",
    "                \"kernel_size\": [1, 7],\n",
    "                \"bias\": False,\n",
    "                \"padding\": [0, 3],\n",
    "            },\n",
    "        },\n",
    "        {\"class\": \"ReLU\", \"kargs\": {\"inplace\": True}},\n",
    "        {\"class\": \"BatchNorm2d\", \"kargs\": {\"num_features\": 256}},\n",
    "        {\n",
    "            \"class\": \"Conv2d\",\n",
    "            \"kargs\": {\n",
    "                \"in_channels\": 256,\n",
    "                \"out_channels\": 80,\n",
    "                \"kernel_size\": [2, 7],\n",
    "                \"bias\": True,\n",
    "                \"padding\": [0, 3],\n",
    "            },\n",
    "        },\n",
    "        {\"class\": \"ReLU\", \"kargs\": {\"inplace\": True}},\n",
    "        {\"class\": \"BatchNorm2d\", \"kargs\": {\"num_features\": 80}},\n",
    "        {\"class\": \"Flatten\", \"kargs\": {}},\n",
    "        {\"class\": \"Linear\", \"kargs\": {\"in_features\": 20480, \"out_features\": 256}},\n",
    "        {\"class\": \"ReLU\", \"kargs\": {\"inplace\": True}},\n",
    "        {\"class\": \"BatchNorm1d\", \"kargs\": {\"num_features\": 256}},\n",
    "        {\"class\": \"Linear\", \"kargs\": {\"in_features\": 256, \"out_features\": 256}},\n",
    "    ],\n",
    "    \"NUM_LOGS_PER_EPOCH\": 10,\n",
    "    \"BEST_MODEL_PATH\": \"./best_model.pth\",\n",
    "    \"n_way\": 16,\n",
    "    \"datasets\": [\n",
    "        {\n",
    "            \"labels\": [\n",
    "                \"1-10\",\n",
    "                \"1-12\",\n",
    "                \"1-14\",\n",
    "                \"1-16\",\n",
    "                \"1-18\",\n",
    "                \"1-19\",\n",
    "                \"1-8\",\n",
    "                \"10-11\",\n",
    "                \"10-17\",\n",
    "                \"10-4\",\n",
    "                \"10-7\",\n",
    "                \"11-1\",\n",
    "                \"11-10\",\n",
    "                \"11-19\",\n",
    "                \"11-20\",\n",
    "                \"11-4\",\n",
    "                \"11-7\",\n",
    "                \"12-19\",\n",
    "                \"12-20\",\n",
    "                \"12-7\",\n",
    "                \"13-14\",\n",
    "                \"13-18\",\n",
    "                \"13-19\",\n",
    "                \"13-20\",\n",
    "                \"13-3\",\n",
    "                \"13-7\",\n",
    "                \"14-10\",\n",
    "                \"14-11\",\n",
    "                \"14-12\",\n",
    "                \"14-13\",\n",
    "                \"14-14\",\n",
    "                \"14-19\",\n",
    "                \"14-20\",\n",
    "                \"14-7\",\n",
    "                \"14-8\",\n",
    "                \"14-9\",\n",
    "                \"15-1\",\n",
    "                \"15-19\",\n",
    "                \"15-6\",\n",
    "                \"16-1\",\n",
    "                \"16-16\",\n",
    "                \"16-19\",\n",
    "                \"16-20\",\n",
    "                \"17-10\",\n",
    "                \"17-11\",\n",
    "                \"18-1\",\n",
    "                \"18-10\",\n",
    "                \"18-11\",\n",
    "                \"18-12\",\n",
    "                \"18-13\",\n",
    "                \"18-14\",\n",
    "                \"18-15\",\n",
    "                \"18-16\",\n",
    "                \"18-17\",\n",
    "                \"18-19\",\n",
    "                \"18-2\",\n",
    "                \"18-20\",\n",
    "                \"18-4\",\n",
    "                \"18-5\",\n",
    "                \"18-7\",\n",
    "                \"18-8\",\n",
    "                \"18-9\",\n",
    "                \"19-1\",\n",
    "                \"19-10\",\n",
    "                \"19-11\",\n",
    "                \"19-12\",\n",
    "                \"19-13\",\n",
    "                \"19-14\",\n",
    "                \"19-15\",\n",
    "                \"19-19\",\n",
    "                \"19-2\",\n",
    "                \"19-20\",\n",
    "                \"19-3\",\n",
    "                \"19-4\",\n",
    "                \"19-6\",\n",
    "                \"19-7\",\n",
    "                \"19-8\",\n",
    "                \"19-9\",\n",
    "                \"2-1\",\n",
    "                \"2-13\",\n",
    "                \"2-15\",\n",
    "                \"2-3\",\n",
    "                \"2-4\",\n",
    "                \"2-5\",\n",
    "                \"2-6\",\n",
    "                \"2-7\",\n",
    "                \"2-8\",\n",
    "                \"20-1\",\n",
    "                \"20-12\",\n",
    "                \"20-14\",\n",
    "                \"20-15\",\n",
    "                \"20-16\",\n",
    "                \"20-18\",\n",
    "                \"20-19\",\n",
    "                \"20-20\",\n",
    "                \"20-3\",\n",
    "                \"20-4\",\n",
    "                \"20-5\",\n",
    "                \"20-7\",\n",
    "                \"20-8\",\n",
    "                \"3-1\",\n",
    "                \"3-13\",\n",
    "                \"3-18\",\n",
    "                \"3-2\",\n",
    "                \"3-8\",\n",
    "                \"4-1\",\n",
    "                \"4-10\",\n",
    "                \"4-11\",\n",
    "                \"5-1\",\n",
    "                \"5-5\",\n",
    "                \"6-1\",\n",
    "                \"6-15\",\n",
    "                \"6-6\",\n",
    "                \"7-10\",\n",
    "                \"7-11\",\n",
    "                \"7-12\",\n",
    "                \"7-13\",\n",
    "                \"7-14\",\n",
    "                \"7-7\",\n",
    "                \"7-8\",\n",
    "                \"7-9\",\n",
    "                \"8-1\",\n",
    "                \"8-13\",\n",
    "                \"8-14\",\n",
    "                \"8-18\",\n",
    "                \"8-20\",\n",
    "                \"8-3\",\n",
    "                \"8-8\",\n",
    "                \"9-1\",\n",
    "                \"9-7\",\n",
    "            ],\n",
    "            \"domains\": [1, 2, 3, 4],\n",
    "            \"num_examples_per_domain_per_label\": 100,\n",
    "            \"pickle_path\": \"/mnt/wd500GB/CSC500/csc500-main/datasets/wisig.node3-19.stratified_ds.2022A.pkl\",\n",
    "            \"source_or_target_dataset\": \"target\",\n",
    "            \"x_transforms\": [],\n",
    "            \"episode_transforms\": [],\n",
    "            \"domain_prefix\": \"Wisig_\",\n",
    "        },\n",
    "        {\n",
    "            \"labels\": [\n",
    "                \"3123D52\",\n",
    "                \"3123D65\",\n",
    "                \"3123D79\",\n",
    "                \"3123D80\",\n",
    "                \"3123D54\",\n",
    "                \"3123D70\",\n",
    "                \"3123D7B\",\n",
    "                \"3123D89\",\n",
    "                \"3123D58\",\n",
    "                \"3123D76\",\n",
    "                \"3123D7D\",\n",
    "                \"3123EFE\",\n",
    "                \"3123D64\",\n",
    "                \"3123D78\",\n",
    "                \"3123D7E\",\n",
    "                \"3124E4A\",\n",
    "            ],\n",
    "            \"domains\": [32, 38, 8, 44, 14, 50, 20, 26],\n",
    "            \"num_examples_per_domain_per_label\": 2000,\n",
    "            \"pickle_path\": \"/mnt/wd500GB/CSC500/csc500-main/datasets/oracle.Run1_framed_2000Examples_stratified_ds.2022A.pkl\",\n",
    "            \"source_or_target_dataset\": \"source\",\n",
    "            \"x_transforms\": [],\n",
    "            \"episode_transforms\": [],\n",
    "            \"domain_prefix\": \"ORACLE.run1\",\n",
    "        },\n",
    "    ],\n",
    "}\n"
   ]
  },
  {
   "cell_type": "code",
   "execution_count": 5,
   "id": "8fa1cc33",
   "metadata": {
    "execution": {
     "iopub.execute_input": "2022-03-07T07:43:56.927187Z",
     "iopub.status.busy": "2022-03-07T07:43:56.924851Z",
     "iopub.status.idle": "2022-03-07T07:43:56.935601Z",
     "shell.execute_reply": "2022-03-07T07:43:56.935313Z"
    },
    "papermill": {
     "duration": 0.027343,
     "end_time": "2022-03-07T07:43:56.935703",
     "exception": false,
     "start_time": "2022-03-07T07:43:56.908360",
     "status": "completed"
    },
    "tags": []
   },
   "outputs": [],
   "source": [
    "# Set this to True if you want to run this template directly\n",
    "STANDALONE = False\n",
    "if STANDALONE:\n",
    "    print(\"parameters not injected, running with standalone_parameters\")\n",
    "    parameters = standalone_parameters\n",
    "\n",
    "if not 'parameters' in locals() and not 'parameters' in globals():\n",
    "    raise Exception(\"Parameter injection failed\")\n",
    "\n",
    "#Use an easy dict for all the parameters\n",
    "p = EasyDict(parameters)\n",
    "\n",
    "supplied_keys = set(p.keys())\n",
    "\n",
    "if  supplied_keys != required_parameters:\n",
    "    print(\"Parameters are incorrect\")\n",
    "    if len(supplied_keys - required_parameters)>0: print(\"Shouldn't have:\", str(supplied_keys - required_parameters))\n",
    "    if len(required_parameters - supplied_keys)>0: print(\"Need to have:\", str(required_parameters - supplied_keys))\n",
    "    raise RuntimeError(\"Parameters are incorrect\")\n",
    "\n"
   ]
  },
  {
   "cell_type": "code",
   "execution_count": 6,
   "id": "3a028d58",
   "metadata": {
    "execution": {
     "iopub.execute_input": "2022-03-07T07:43:56.969340Z",
     "iopub.status.busy": "2022-03-07T07:43:56.968112Z",
     "iopub.status.idle": "2022-03-07T07:43:56.981212Z",
     "shell.execute_reply": "2022-03-07T07:43:56.981617Z"
    },
    "papermill": {
     "duration": 0.02771,
     "end_time": "2022-03-07T07:43:56.981739",
     "exception": false,
     "start_time": "2022-03-07T07:43:56.954029",
     "status": "completed"
    },
    "tags": []
   },
   "outputs": [],
   "source": [
    "###################################\n",
    "# Set the RNGs and make it all deterministic\n",
    "###################################\n",
    "np.random.seed(p.seed)\n",
    "random.seed(p.seed)\n",
    "torch.manual_seed(p.seed)\n",
    "\n",
    "torch.use_deterministic_algorithms(True) "
   ]
  },
  {
   "cell_type": "code",
   "execution_count": 7,
   "id": "b691acf6",
   "metadata": {
    "execution": {
     "iopub.execute_input": "2022-03-07T07:43:57.022316Z",
     "iopub.status.busy": "2022-03-07T07:43:57.015379Z",
     "iopub.status.idle": "2022-03-07T07:43:57.026626Z",
     "shell.execute_reply": "2022-03-07T07:43:57.026411Z"
    },
    "papermill": {
     "duration": 0.027486,
     "end_time": "2022-03-07T07:43:57.026685",
     "exception": false,
     "start_time": "2022-03-07T07:43:56.999199",
     "status": "completed"
    },
    "tags": []
   },
   "outputs": [],
   "source": [
    "###########################################\n",
    "# The stratified datasets honor this\n",
    "###########################################\n",
    "torch.set_default_dtype(eval(p.torch_default_dtype))"
   ]
  },
  {
   "cell_type": "code",
   "execution_count": 8,
   "id": "b5fba671",
   "metadata": {
    "execution": {
     "iopub.execute_input": "2022-03-07T07:43:57.060718Z",
     "iopub.status.busy": "2022-03-07T07:43:57.058780Z",
     "iopub.status.idle": "2022-03-07T07:43:57.097454Z",
     "shell.execute_reply": "2022-03-07T07:43:57.097011Z"
    },
    "papermill": {
     "duration": 0.053791,
     "end_time": "2022-03-07T07:43:57.097543",
     "exception": false,
     "start_time": "2022-03-07T07:43:57.043752",
     "status": "completed"
    },
    "tags": []
   },
   "outputs": [],
   "source": [
    "###################################\n",
    "# Build the network(s)\n",
    "# Note: It's critical to do this AFTER setting the RNG\n",
    "###################################\n",
    "x_net = build_sequential(p.x_net)"
   ]
  },
  {
   "cell_type": "code",
   "execution_count": 9,
   "id": "5d7e61cc",
   "metadata": {
    "execution": {
     "iopub.execute_input": "2022-03-07T07:43:57.132047Z",
     "iopub.status.busy": "2022-03-07T07:43:57.131673Z",
     "iopub.status.idle": "2022-03-07T07:43:57.144811Z",
     "shell.execute_reply": "2022-03-07T07:43:57.144363Z"
    },
    "papermill": {
     "duration": 0.029049,
     "end_time": "2022-03-07T07:43:57.144900",
     "exception": false,
     "start_time": "2022-03-07T07:43:57.115851",
     "status": "completed"
    },
    "tags": []
   },
   "outputs": [],
   "source": [
    "start_time_secs = time.time()"
   ]
  },
  {
   "cell_type": "code",
   "execution_count": 10,
   "id": "c6b67dfd",
   "metadata": {
    "execution": {
     "iopub.execute_input": "2022-03-07T07:43:57.178744Z",
     "iopub.status.busy": "2022-03-07T07:43:57.178019Z",
     "iopub.status.idle": "2022-03-07T07:43:57.191298Z",
     "shell.execute_reply": "2022-03-07T07:43:57.191084Z"
    },
    "papermill": {
     "duration": 0.028434,
     "end_time": "2022-03-07T07:43:57.191348",
     "exception": false,
     "start_time": "2022-03-07T07:43:57.162914",
     "status": "completed"
    },
    "tags": []
   },
   "outputs": [],
   "source": [
    "p.domains_source = []\n",
    "p.domains_target = []\n",
    "\n",
    "\n",
    "train_original_source = []\n",
    "val_original_source   = []\n",
    "test_original_source  = []\n",
    "\n",
    "train_original_target = []\n",
    "val_original_target   = []\n",
    "test_original_target  = []"
   ]
  },
  {
   "cell_type": "code",
   "execution_count": 11,
   "id": "e3d9c3d3",
   "metadata": {
    "execution": {
     "iopub.execute_input": "2022-03-07T07:43:57.225837Z",
     "iopub.status.busy": "2022-03-07T07:43:57.225140Z",
     "iopub.status.idle": "2022-03-07T07:43:57.238116Z",
     "shell.execute_reply": "2022-03-07T07:43:57.237768Z"
    },
    "papermill": {
     "duration": 0.027651,
     "end_time": "2022-03-07T07:43:57.238186",
     "exception": false,
     "start_time": "2022-03-07T07:43:57.210535",
     "status": "completed"
    },
    "tags": []
   },
   "outputs": [],
   "source": [
    "# global_x_transform_func = lambda x: normalize(x.to(torch.get_default_dtype()), \"unit_power\") # unit_power, unit_mag\n",
    "# global_x_transform_func = lambda x: normalize(x, \"unit_power\") # unit_power, unit_mag"
   ]
  },
  {
   "cell_type": "code",
   "execution_count": 12,
   "id": "acb78fd2",
   "metadata": {
    "execution": {
     "iopub.execute_input": "2022-03-07T07:43:57.275850Z",
     "iopub.status.busy": "2022-03-07T07:43:57.275454Z",
     "iopub.status.idle": "2022-03-07T07:43:57.286830Z",
     "shell.execute_reply": "2022-03-07T07:43:57.286378Z"
    },
    "papermill": {
     "duration": 0.031587,
     "end_time": "2022-03-07T07:43:57.286920",
     "exception": false,
     "start_time": "2022-03-07T07:43:57.255333",
     "status": "completed"
    },
    "tags": []
   },
   "outputs": [],
   "source": [
    "def add_dataset(\n",
    "    labels,\n",
    "    domains,\n",
    "    pickle_path,\n",
    "    x_transforms,\n",
    "    episode_transforms,\n",
    "    domain_prefix,\n",
    "    num_examples_per_domain_per_label,\n",
    "    source_or_target_dataset:str,\n",
    "    iterator_seed=p.seed,\n",
    "    dataset_seed=p.dataset_seed,\n",
    "    n_shot=p.n_shot,\n",
    "    n_way=p.n_way,\n",
    "    n_query=p.n_query,\n",
    "    train_val_test_k_factors=(p.train_k_factor,p.val_k_factor,p.test_k_factor),\n",
    "):\n",
    "   \n",
    "    if x_transforms == []: x_transform = None\n",
    "    else: x_transform = get_chained_transform(x_transforms)\n",
    "    \n",
    "    if episode_transforms == []: episode_transform = None\n",
    "    else: raise Exception(\"episode_transforms not implemented\")\n",
    "    \n",
    "    episode_transform = lambda tup, _prefix=domain_prefix: (_prefix + str(tup[0]), tup[1])\n",
    "\n",
    "\n",
    "    eaf = Episodic_Accessor_Factory(\n",
    "        labels=labels,\n",
    "        domains=domains,\n",
    "        num_examples_per_domain_per_label=num_examples_per_domain_per_label,\n",
    "        iterator_seed=iterator_seed,\n",
    "        dataset_seed=dataset_seed,\n",
    "        n_shot=n_shot,\n",
    "        n_way=n_way,\n",
    "        n_query=n_query,\n",
    "        train_val_test_k_factors=train_val_test_k_factors,\n",
    "        pickle_path=pickle_path,\n",
    "        x_transform_func=x_transform,\n",
    "    )\n",
    "\n",
    "    train, val, test = eaf.get_train(), eaf.get_val(), eaf.get_test()\n",
    "    train = Lazy_Iterable_Wrapper(train, episode_transform)\n",
    "    val = Lazy_Iterable_Wrapper(val, episode_transform)\n",
    "    test = Lazy_Iterable_Wrapper(test, episode_transform)\n",
    "\n",
    "    if source_or_target_dataset==\"source\":\n",
    "        train_original_source.append(train)\n",
    "        val_original_source.append(val)\n",
    "        test_original_source.append(test)\n",
    "\n",
    "        p.domains_source.extend(\n",
    "            [domain_prefix + str(u) for u in domains]\n",
    "        )\n",
    "    elif source_or_target_dataset==\"target\":\n",
    "        train_original_target.append(train)\n",
    "        val_original_target.append(val)\n",
    "        test_original_target.append(test)\n",
    "        p.domains_target.extend(\n",
    "            [domain_prefix + str(u) for u in domains]\n",
    "        )\n",
    "    else:\n",
    "        raise Exception(f\"invalid source_or_target_dataset: {source_or_target_dataset}\")\n",
    "    "
   ]
  },
  {
   "cell_type": "code",
   "execution_count": 13,
   "id": "fe266617",
   "metadata": {
    "execution": {
     "iopub.execute_input": "2022-03-07T07:43:57.323726Z",
     "iopub.status.busy": "2022-03-07T07:43:57.319037Z",
     "iopub.status.idle": "2022-03-07T07:43:58.985911Z",
     "shell.execute_reply": "2022-03-07T07:43:58.985499Z"
    },
    "papermill": {
     "duration": 1.682189,
     "end_time": "2022-03-07T07:43:58.986019",
     "exception": false,
     "start_time": "2022-03-07T07:43:57.303830",
     "status": "completed"
    },
    "tags": []
   },
   "outputs": [],
   "source": [
    "for ds in p.datasets:\n",
    "    add_dataset(**ds)"
   ]
  },
  {
   "cell_type": "code",
   "execution_count": 14,
   "id": "b90d65ac",
   "metadata": {
    "execution": {
     "iopub.execute_input": "2022-03-07T07:43:59.020650Z",
     "iopub.status.busy": "2022-03-07T07:43:59.020394Z",
     "iopub.status.idle": "2022-03-07T07:43:59.034823Z",
     "shell.execute_reply": "2022-03-07T07:43:59.034344Z"
    },
    "papermill": {
     "duration": 0.031114,
     "end_time": "2022-03-07T07:43:59.034916",
     "exception": false,
     "start_time": "2022-03-07T07:43:59.003802",
     "status": "completed"
    },
    "tags": []
   },
   "outputs": [],
   "source": [
    "# from steves_utils.CORES.utils import (\n",
    "#     ALL_NODES,\n",
    "#     ALL_NODES_MINIMUM_1000_EXAMPLES,\n",
    "#     ALL_DAYS\n",
    "# )\n",
    "\n",
    "# add_dataset(\n",
    "#     labels=ALL_NODES,\n",
    "#     domains = ALL_DAYS,\n",
    "#     num_examples_per_domain_per_label=100,\n",
    "#     pickle_path=os.path.join(get_datasets_base_path(), \"cores.stratified_ds.2022A.pkl\"),\n",
    "#     source_or_target_dataset=\"target\",\n",
    "#     x_transform_func=global_x_transform_func,\n",
    "#     domain_modifier=lambda u: f\"cores_{u}\"\n",
    "# )"
   ]
  },
  {
   "cell_type": "code",
   "execution_count": 15,
   "id": "76db484d",
   "metadata": {
    "execution": {
     "iopub.execute_input": "2022-03-07T07:43:59.075127Z",
     "iopub.status.busy": "2022-03-07T07:43:59.069746Z",
     "iopub.status.idle": "2022-03-07T07:43:59.083820Z",
     "shell.execute_reply": "2022-03-07T07:43:59.083435Z"
    },
    "papermill": {
     "duration": 0.029805,
     "end_time": "2022-03-07T07:43:59.083927",
     "exception": false,
     "start_time": "2022-03-07T07:43:59.054122",
     "status": "completed"
    },
    "tags": []
   },
   "outputs": [],
   "source": [
    "# from steves_utils.ORACLE.utils_v2 import (\n",
    "#     ALL_DISTANCES_FEET,\n",
    "#     ALL_RUNS,\n",
    "#     ALL_SERIAL_NUMBERS,\n",
    "# )\n",
    "\n",
    "\n",
    "# add_dataset(\n",
    "#     labels=ALL_SERIAL_NUMBERS,\n",
    "#     domains = list(set(ALL_DISTANCES_FEET) - {2,62}),\n",
    "#     num_examples_per_domain_per_label=100,\n",
    "#     pickle_path=os.path.join(get_datasets_base_path(), \"oracle.Run2_framed_2000Examples_stratified_ds.2022A.pkl\"),\n",
    "#     source_or_target_dataset=\"source\",\n",
    "#     x_transform_func=global_x_transform_func,\n",
    "#     domain_modifier=lambda u: f\"oracle1_{u}\"\n",
    "# )\n"
   ]
  },
  {
   "cell_type": "code",
   "execution_count": 16,
   "id": "97dea9d2",
   "metadata": {
    "execution": {
     "iopub.execute_input": "2022-03-07T07:43:59.126244Z",
     "iopub.status.busy": "2022-03-07T07:43:59.118161Z",
     "iopub.status.idle": "2022-03-07T07:43:59.131203Z",
     "shell.execute_reply": "2022-03-07T07:43:59.130843Z"
    },
    "papermill": {
     "duration": 0.027827,
     "end_time": "2022-03-07T07:43:59.131276",
     "exception": false,
     "start_time": "2022-03-07T07:43:59.103449",
     "status": "completed"
    },
    "tags": []
   },
   "outputs": [],
   "source": [
    "# from steves_utils.ORACLE.utils_v2 import (\n",
    "#     ALL_DISTANCES_FEET,\n",
    "#     ALL_RUNS,\n",
    "#     ALL_SERIAL_NUMBERS,\n",
    "# )\n",
    "\n",
    "\n",
    "# add_dataset(\n",
    "#     labels=ALL_SERIAL_NUMBERS,\n",
    "#     domains = list(set(ALL_DISTANCES_FEET) - {2,62,56}),\n",
    "#     num_examples_per_domain_per_label=100,\n",
    "#     pickle_path=os.path.join(get_datasets_base_path(), \"oracle.Run2_framed_2000Examples_stratified_ds.2022A.pkl\"),\n",
    "#     source_or_target_dataset=\"source\",\n",
    "#     x_transform_func=global_x_transform_func,\n",
    "#     domain_modifier=lambda u: f\"oracle2_{u}\"\n",
    "# )"
   ]
  },
  {
   "cell_type": "code",
   "execution_count": 17,
   "id": "6f289866",
   "metadata": {
    "execution": {
     "iopub.execute_input": "2022-03-07T07:43:59.173880Z",
     "iopub.status.busy": "2022-03-07T07:43:59.166269Z",
     "iopub.status.idle": "2022-03-07T07:43:59.178399Z",
     "shell.execute_reply": "2022-03-07T07:43:59.178043Z"
    },
    "papermill": {
     "duration": 0.027784,
     "end_time": "2022-03-07T07:43:59.178469",
     "exception": false,
     "start_time": "2022-03-07T07:43:59.150685",
     "status": "completed"
    },
    "tags": []
   },
   "outputs": [],
   "source": [
    "# add_dataset(\n",
    "#     labels=list(range(19)),\n",
    "#     domains = [0,1,2],\n",
    "#     num_examples_per_domain_per_label=100,\n",
    "#     pickle_path=os.path.join(get_datasets_base_path(), \"metehan.stratified_ds.2022A.pkl\"),\n",
    "#     source_or_target_dataset=\"target\",\n",
    "#     x_transform_func=global_x_transform_func,\n",
    "#     domain_modifier=lambda u: f\"met_{u}\"\n",
    "# )"
   ]
  },
  {
   "cell_type": "code",
   "execution_count": 18,
   "id": "86a863c3",
   "metadata": {
    "execution": {
     "iopub.execute_input": "2022-03-07T07:43:59.211384Z",
     "iopub.status.busy": "2022-03-07T07:43:59.210521Z",
     "iopub.status.idle": "2022-03-07T07:43:59.224964Z",
     "shell.execute_reply": "2022-03-07T07:43:59.224564Z"
    },
    "papermill": {
     "duration": 0.029223,
     "end_time": "2022-03-07T07:43:59.225053",
     "exception": false,
     "start_time": "2022-03-07T07:43:59.195830",
     "status": "completed"
    },
    "tags": []
   },
   "outputs": [],
   "source": [
    "# # from steves_utils.wisig.utils import (\n",
    "# #     ALL_NODES_MINIMUM_100_EXAMPLES,\n",
    "# #     ALL_NODES_MINIMUM_500_EXAMPLES,\n",
    "# #     ALL_NODES_MINIMUM_1000_EXAMPLES,\n",
    "# #     ALL_DAYS\n",
    "# # )\n",
    "\n",
    "# import steves_utils.wisig.utils as wisig\n",
    "\n",
    "\n",
    "# add_dataset(\n",
    "#     labels=wisig.ALL_NODES_MINIMUM_100_EXAMPLES,\n",
    "#     domains = wisig.ALL_DAYS,\n",
    "#     num_examples_per_domain_per_label=100,\n",
    "#     pickle_path=os.path.join(get_datasets_base_path(), \"wisig.node3-19.stratified_ds.2022A.pkl\"),\n",
    "#     source_or_target_dataset=\"target\",\n",
    "#     x_transform_func=global_x_transform_func,\n",
    "#     domain_modifier=lambda u: f\"wisig_{u}\"\n",
    "# )"
   ]
  },
  {
   "cell_type": "code",
   "execution_count": 19,
   "id": "fd5442bc",
   "metadata": {
    "execution": {
     "iopub.execute_input": "2022-03-07T07:43:59.267231Z",
     "iopub.status.busy": "2022-03-07T07:43:59.262165Z",
     "iopub.status.idle": "2022-03-07T07:43:59.274400Z",
     "shell.execute_reply": "2022-03-07T07:43:59.274842Z"
    },
    "papermill": {
     "duration": 0.031467,
     "end_time": "2022-03-07T07:43:59.274962",
     "exception": false,
     "start_time": "2022-03-07T07:43:59.243495",
     "status": "completed"
    },
    "tags": []
   },
   "outputs": [],
   "source": [
    "###################################\n",
    "# Build the dataset\n",
    "###################################\n",
    "train_original_source = Iterable_Aggregator(train_original_source, p.seed)\n",
    "val_original_source = Iterable_Aggregator(val_original_source, p.seed)\n",
    "test_original_source = Iterable_Aggregator(test_original_source, p.seed)\n",
    "\n",
    "\n",
    "train_original_target = Iterable_Aggregator(train_original_target, p.seed)\n",
    "val_original_target = Iterable_Aggregator(val_original_target, p.seed)\n",
    "test_original_target = Iterable_Aggregator(test_original_target, p.seed)\n",
    "\n",
    "# For CNN We only use X and Y. And we only train on the source.\n",
    "# Properly form the data using a transform lambda and Lazy_Iterable_Wrapper. Finally wrap them in a dataloader\n",
    "\n",
    "transform_lambda = lambda ex: ex[1] # Original is (<domain>, <episode>) so we strip down to episode only\n",
    "\n",
    "train_processed_source = Lazy_Iterable_Wrapper(train_original_source, transform_lambda)\n",
    "val_processed_source   = Lazy_Iterable_Wrapper(val_original_source, transform_lambda)\n",
    "test_processed_source  = Lazy_Iterable_Wrapper(test_original_source, transform_lambda)\n",
    "\n",
    "train_processed_target = Lazy_Iterable_Wrapper(train_original_target, transform_lambda)\n",
    "val_processed_target   = Lazy_Iterable_Wrapper(val_original_target, transform_lambda)\n",
    "test_processed_target  = Lazy_Iterable_Wrapper(test_original_target, transform_lambda)\n",
    "\n",
    "datasets = EasyDict({\n",
    "    \"source\": {\n",
    "        \"original\": {\"train\":train_original_source, \"val\":val_original_source, \"test\":test_original_source},\n",
    "        \"processed\": {\"train\":train_processed_source, \"val\":val_processed_source, \"test\":test_processed_source}\n",
    "    },\n",
    "    \"target\": {\n",
    "        \"original\": {\"train\":train_original_target, \"val\":val_original_target, \"test\":test_original_target},\n",
    "        \"processed\": {\"train\":train_processed_target, \"val\":val_processed_target, \"test\":test_processed_target}\n",
    "    },\n",
    "})"
   ]
  },
  {
   "cell_type": "code",
   "execution_count": 20,
   "id": "5b3c01fc",
   "metadata": {
    "execution": {
     "iopub.execute_input": "2022-03-07T07:43:59.315078Z",
     "iopub.status.busy": "2022-03-07T07:43:59.309849Z",
     "iopub.status.idle": "2022-03-07T07:44:03.948410Z",
     "shell.execute_reply": "2022-03-07T07:44:03.948690Z"
    },
    "papermill": {
     "duration": 4.655841,
     "end_time": "2022-03-07T07:44:03.948785",
     "exception": false,
     "start_time": "2022-03-07T07:43:59.292944",
     "status": "completed"
    },
    "tags": []
   },
   "outputs": [
    {
     "name": "stdout",
     "output_type": "stream",
     "text": [
      "{'ORACLE.run120', 'ORACLE.run18', 'ORACLE.run132', 'ORACLE.run150', 'ORACLE.run138', 'ORACLE.run126', 'ORACLE.run144', 'ORACLE.run114'}\n"
     ]
    },
    {
     "name": "stdout",
     "output_type": "stream",
     "text": [
      "{'Wisig_1', 'Wisig_3', 'Wisig_2', 'Wisig_4'}\n"
     ]
    },
    {
     "name": "stdout",
     "output_type": "stream",
     "text": [
      "tensor([[[-0.0003,  0.0038, -0.0004,  ..., -0.0031, -0.0009, -0.0018],\n",
      "         [-0.0021, -0.0010,  0.0035,  ...,  0.0008, -0.0047, -0.0016]],\n",
      "\n",
      "        [[-0.0015,  0.0022,  0.0018,  ..., -0.0041, -0.0038, -0.0004],\n",
      "         [-0.0037, -0.0010,  0.0036,  ...,  0.0013, -0.0005,  0.0040]],\n",
      "\n",
      "        [[ 0.0021, -0.0012, -0.0025,  ...,  0.0026,  0.0045,  0.0011],\n",
      "         [ 0.0027,  0.0022, -0.0029,  ..., -0.0025,  0.0015, -0.0038]],\n",
      "\n",
      "        ...,\n",
      "\n",
      "        [[ 0.0048, -0.0012, -0.0057,  ...,  0.0031,  0.0048, -0.0031],\n",
      "         [ 0.0027,  0.0034, -0.0018,  ..., -0.0047, -0.0030, -0.0054]],\n",
      "\n",
      "        [[ 0.0001, -0.0048,  0.0014,  ...,  0.0043,  0.0023,  0.0052],\n",
      "         [ 0.0038,  0.0020, -0.0055,  ..., -0.0006,  0.0061, -0.0011]],\n",
      "\n",
      "        [[ 0.0023,  0.0016, -0.0035,  ..., -0.0022,  0.0060,  0.0049],\n",
      "         [-0.0020,  0.0053, -0.0002,  ..., -0.0052, -0.0003, -0.0012]]])\n"
     ]
    }
   ],
   "source": [
    "from steves_utils.transforms import get_average_magnitude, get_average_power\n",
    "\n",
    "print(set([u for u,_ in val_original_source]))\n",
    "print(set([u for u,_ in val_original_target]))\n",
    "\n",
    "s_x, s_y, q_x, q_y, _ = next(iter(train_processed_source))\n",
    "print(s_x)\n",
    "\n",
    "# for ds in [\n",
    "#     train_processed_source,\n",
    "#     val_processed_source,\n",
    "#     test_processed_source,\n",
    "#     train_processed_target,\n",
    "#     val_processed_target,\n",
    "#     test_processed_target\n",
    "# ]:\n",
    "#     for s_x, s_y, q_x, q_y, _ in ds:\n",
    "#         for X in (s_x, q_x):\n",
    "#             for x in X:\n",
    "#                 assert np.isclose(get_average_magnitude(x.numpy()), 1.0)\n",
    "#                 assert np.isclose(get_average_power(x.numpy()), 1.0)\n",
    "                "
   ]
  },
  {
   "cell_type": "code",
   "execution_count": 21,
   "id": "bbdacba1",
   "metadata": {
    "execution": {
     "iopub.execute_input": "2022-03-07T07:44:03.986870Z",
     "iopub.status.busy": "2022-03-07T07:44:03.986577Z",
     "iopub.status.idle": "2022-03-07T07:44:04.042603Z",
     "shell.execute_reply": "2022-03-07T07:44:04.042984Z"
    },
    "papermill": {
     "duration": 0.075421,
     "end_time": "2022-03-07T07:44:04.043121",
     "exception": false,
     "start_time": "2022-03-07T07:44:03.967700",
     "status": "completed"
    },
    "tags": []
   },
   "outputs": [
    {
     "name": "stdout",
     "output_type": "stream",
     "text": [
      "(2, 256)\n"
     ]
    }
   ],
   "source": [
    "###################################\n",
    "# Build the model\n",
    "###################################\n",
    "model = Steves_Prototypical_Network(x_net, device=p.device, x_shape=(2,256))\n",
    "optimizer = Adam(params=model.parameters(), lr=p.lr)"
   ]
  },
  {
   "cell_type": "code",
   "execution_count": 22,
   "id": "22b39ac5",
   "metadata": {
    "execution": {
     "iopub.execute_input": "2022-03-07T07:44:04.082062Z",
     "iopub.status.busy": "2022-03-07T07:44:04.081796Z",
     "iopub.status.idle": "2022-03-07T08:08:09.452719Z",
     "shell.execute_reply": "2022-03-07T08:08:09.452484Z"
    },
    "papermill": {
     "duration": 1445.388187,
     "end_time": "2022-03-07T08:08:09.452780",
     "exception": false,
     "start_time": "2022-03-07T07:44:04.064593",
     "status": "completed"
    },
    "tags": []
   },
   "outputs": [
    {
     "name": "stdout",
     "output_type": "stream",
     "text": [
      "epoch: 1, [batch: 1 / 6720], examples_per_second: 48.4625, train_label_loss: 2.8346, \n"
     ]
    },
    {
     "name": "stdout",
     "output_type": "stream",
     "text": [
      "epoch: 1, [batch: 672 / 6720], examples_per_second: 3151.5856, train_label_loss: 0.5444, \n"
     ]
    },
    {
     "name": "stdout",
     "output_type": "stream",
     "text": [
      "epoch: 1, [batch: 1344 / 6720], examples_per_second: 3160.9083, train_label_loss: 0.4341, \n"
     ]
    },
    {
     "name": "stdout",
     "output_type": "stream",
     "text": [
      "epoch: 1, [batch: 2016 / 6720], examples_per_second: 3168.7921, train_label_loss: 0.1687, \n"
     ]
    },
    {
     "name": "stdout",
     "output_type": "stream",
     "text": [
      "epoch: 1, [batch: 2688 / 6720], examples_per_second: 3148.0130, train_label_loss: 0.1348, \n"
     ]
    },
    {
     "name": "stdout",
     "output_type": "stream",
     "text": [
      "epoch: 1, [batch: 3360 / 6720], examples_per_second: 3161.7030, train_label_loss: 0.1124, \n"
     ]
    },
    {
     "name": "stdout",
     "output_type": "stream",
     "text": [
      "epoch: 1, [batch: 4032 / 6720], examples_per_second: 3163.3561, train_label_loss: 0.2020, \n"
     ]
    },
    {
     "name": "stdout",
     "output_type": "stream",
     "text": [
      "epoch: 1, [batch: 4704 / 6720], examples_per_second: 3149.8737, train_label_loss: 0.4013, \n"
     ]
    },
    {
     "name": "stdout",
     "output_type": "stream",
     "text": [
      "epoch: 1, [batch: 5376 / 6720], examples_per_second: 3161.8057, train_label_loss: 0.2122, \n"
     ]
    },
    {
     "name": "stdout",
     "output_type": "stream",
     "text": [
      "epoch: 1, [batch: 6048 / 6720], examples_per_second: 3158.2848, train_label_loss: 0.0872, \n"
     ]
    },
    {
     "name": "stdout",
     "output_type": "stream",
     "text": [
      "=============================================================\n",
      "epoch: 1, source_val_acc_label: 0.5492, target_val_acc_label: 0.6828, source_val_label_loss: 379.4673, target_val_label_loss: 439670.9375, \n",
      "=============================================================\n"
     ]
    },
    {
     "name": "stdout",
     "output_type": "stream",
     "text": [
      "New best\n"
     ]
    },
    {
     "name": "stdout",
     "output_type": "stream",
     "text": [
      "epoch: 2, [batch: 1 / 6720], examples_per_second: 5.6117, train_label_loss: 513.2294, \n"
     ]
    },
    {
     "name": "stdout",
     "output_type": "stream",
     "text": [
      "epoch: 2, [batch: 672 / 6720], examples_per_second: 3175.9770, train_label_loss: 4.6665, \n"
     ]
    },
    {
     "name": "stdout",
     "output_type": "stream",
     "text": [
      "epoch: 2, [batch: 1344 / 6720], examples_per_second: 3184.4809, train_label_loss: 2.7224, \n"
     ]
    },
    {
     "name": "stdout",
     "output_type": "stream",
     "text": [
      "epoch: 2, [batch: 2016 / 6720], examples_per_second: 3192.1208, train_label_loss: 5.6063, \n"
     ]
    },
    {
     "name": "stdout",
     "output_type": "stream",
     "text": [
      "epoch: 2, [batch: 2688 / 6720], examples_per_second: 3179.2877, train_label_loss: 0.8135, \n"
     ]
    },
    {
     "name": "stdout",
     "output_type": "stream",
     "text": [
      "epoch: 2, [batch: 3360 / 6720], examples_per_second: 3197.0394, train_label_loss: 0.1679, \n"
     ]
    },
    {
     "name": "stdout",
     "output_type": "stream",
     "text": [
      "epoch: 2, [batch: 4032 / 6720], examples_per_second: 3182.8686, train_label_loss: 0.2177, \n"
     ]
    },
    {
     "name": "stdout",
     "output_type": "stream",
     "text": [
      "epoch: 2, [batch: 4704 / 6720], examples_per_second: 3164.8150, train_label_loss: 0.0639, \n"
     ]
    },
    {
     "name": "stdout",
     "output_type": "stream",
     "text": [
      "epoch: 2, [batch: 5376 / 6720], examples_per_second: 3180.2313, train_label_loss: 0.1386, \n"
     ]
    },
    {
     "name": "stdout",
     "output_type": "stream",
     "text": [
      "epoch: 2, [batch: 6048 / 6720], examples_per_second: 3182.3369, train_label_loss: 0.1846, \n"
     ]
    },
    {
     "name": "stdout",
     "output_type": "stream",
     "text": [
      "=============================================================\n",
      "epoch: 2, source_val_acc_label: 0.9059, target_val_acc_label: 0.6522, source_val_label_loss: 0.2663, target_val_label_loss: 71448.2500, \n",
      "=============================================================\n"
     ]
    },
    {
     "name": "stdout",
     "output_type": "stream",
     "text": [
      "New best\n"
     ]
    },
    {
     "name": "stdout",
     "output_type": "stream",
     "text": [
      "epoch: 3, [batch: 1 / 6720], examples_per_second: 5.6382, train_label_loss: 0.1299, \n"
     ]
    },
    {
     "name": "stdout",
     "output_type": "stream",
     "text": [
      "epoch: 3, [batch: 672 / 6720], examples_per_second: 3176.3733, train_label_loss: 0.2052, \n"
     ]
    },
    {
     "name": "stdout",
     "output_type": "stream",
     "text": [
      "epoch: 3, [batch: 1344 / 6720], examples_per_second: 3173.4588, train_label_loss: 0.1212, \n"
     ]
    },
    {
     "name": "stdout",
     "output_type": "stream",
     "text": [
      "epoch: 3, [batch: 2016 / 6720], examples_per_second: 3185.3564, train_label_loss: 0.1739, \n"
     ]
    },
    {
     "name": "stdout",
     "output_type": "stream",
     "text": [
      "epoch: 3, [batch: 2688 / 6720], examples_per_second: 3182.6219, train_label_loss: 0.1212, \n"
     ]
    },
    {
     "name": "stdout",
     "output_type": "stream",
     "text": [
      "epoch: 3, [batch: 3360 / 6720], examples_per_second: 3202.5498, train_label_loss: 0.2406, \n"
     ]
    },
    {
     "name": "stdout",
     "output_type": "stream",
     "text": [
      "epoch: 3, [batch: 4032 / 6720], examples_per_second: 3181.5364, train_label_loss: 0.1635, \n"
     ]
    },
    {
     "name": "stdout",
     "output_type": "stream",
     "text": [
      "epoch: 3, [batch: 4704 / 6720], examples_per_second: 3172.5582, train_label_loss: 0.2317, \n"
     ]
    },
    {
     "name": "stdout",
     "output_type": "stream",
     "text": [
      "epoch: 3, [batch: 5376 / 6720], examples_per_second: 3182.7503, train_label_loss: 0.1119, \n"
     ]
    },
    {
     "name": "stdout",
     "output_type": "stream",
     "text": [
      "epoch: 3, [batch: 6048 / 6720], examples_per_second: 3185.8964, train_label_loss: 0.0387, \n"
     ]
    },
    {
     "name": "stdout",
     "output_type": "stream",
     "text": [
      "=============================================================\n",
      "epoch: 3, source_val_acc_label: 0.9025, target_val_acc_label: 0.6637, source_val_label_loss: 0.2929, target_val_label_loss: 69450.7188, \n",
      "=============================================================\n"
     ]
    },
    {
     "name": "stdout",
     "output_type": "stream",
     "text": [
      "New best\n"
     ]
    },
    {
     "name": "stdout",
     "output_type": "stream",
     "text": [
      "epoch: 4, [batch: 1 / 6720], examples_per_second: 5.6480, train_label_loss: 0.1683, \n"
     ]
    },
    {
     "name": "stdout",
     "output_type": "stream",
     "text": [
      "epoch: 4, [batch: 672 / 6720], examples_per_second: 3163.0921, train_label_loss: 0.2073, \n"
     ]
    },
    {
     "name": "stdout",
     "output_type": "stream",
     "text": [
      "epoch: 4, [batch: 1344 / 6720], examples_per_second: 3183.5736, train_label_loss: 0.3825, \n"
     ]
    },
    {
     "name": "stdout",
     "output_type": "stream",
     "text": [
      "epoch: 4, [batch: 2016 / 6720], examples_per_second: 3190.7810, train_label_loss: 0.1045, \n"
     ]
    },
    {
     "name": "stdout",
     "output_type": "stream",
     "text": [
      "epoch: 4, [batch: 2688 / 6720], examples_per_second: 3177.3674, train_label_loss: 0.3289, \n"
     ]
    },
    {
     "name": "stdout",
     "output_type": "stream",
     "text": [
      "epoch: 4, [batch: 3360 / 6720], examples_per_second: 3184.4961, train_label_loss: 0.2160, \n"
     ]
    },
    {
     "name": "stdout",
     "output_type": "stream",
     "text": [
      "epoch: 4, [batch: 4032 / 6720], examples_per_second: 3187.7507, train_label_loss: 0.2565, \n"
     ]
    },
    {
     "name": "stdout",
     "output_type": "stream",
     "text": [
      "epoch: 4, [batch: 4704 / 6720], examples_per_second: 3178.4106, train_label_loss: 0.3799, \n"
     ]
    },
    {
     "name": "stdout",
     "output_type": "stream",
     "text": [
      "epoch: 4, [batch: 5376 / 6720], examples_per_second: 3173.0732, train_label_loss: 0.0841, \n"
     ]
    },
    {
     "name": "stdout",
     "output_type": "stream",
     "text": [
      "epoch: 4, [batch: 6048 / 6720], examples_per_second: 3181.0132, train_label_loss: 0.1002, \n"
     ]
    },
    {
     "name": "stdout",
     "output_type": "stream",
     "text": [
      "=============================================================\n",
      "epoch: 4, source_val_acc_label: 0.9175, target_val_acc_label: 0.7256, source_val_label_loss: 0.2420, target_val_label_loss: 60316.1211, \n",
      "=============================================================\n"
     ]
    },
    {
     "name": "stdout",
     "output_type": "stream",
     "text": [
      "New best\n"
     ]
    },
    {
     "name": "stdout",
     "output_type": "stream",
     "text": [
      "epoch: 5, [batch: 1 / 6720], examples_per_second: 5.6292, train_label_loss: 0.1281, \n"
     ]
    },
    {
     "name": "stdout",
     "output_type": "stream",
     "text": [
      "epoch: 5, [batch: 672 / 6720], examples_per_second: 3181.3750, train_label_loss: 0.1445, \n"
     ]
    },
    {
     "name": "stdout",
     "output_type": "stream",
     "text": [
      "epoch: 5, [batch: 1344 / 6720], examples_per_second: 3184.1602, train_label_loss: 0.4706, \n"
     ]
    },
    {
     "name": "stdout",
     "output_type": "stream",
     "text": [
      "epoch: 5, [batch: 2016 / 6720], examples_per_second: 3194.0867, train_label_loss: 0.3086, \n"
     ]
    },
    {
     "name": "stdout",
     "output_type": "stream",
     "text": [
      "epoch: 5, [batch: 2688 / 6720], examples_per_second: 3163.9916, train_label_loss: 0.1197, \n"
     ]
    },
    {
     "name": "stdout",
     "output_type": "stream",
     "text": [
      "epoch: 5, [batch: 3360 / 6720], examples_per_second: 3165.1929, train_label_loss: 0.2680, \n"
     ]
    },
    {
     "name": "stdout",
     "output_type": "stream",
     "text": [
      "epoch: 5, [batch: 4032 / 6720], examples_per_second: 3171.9742, train_label_loss: 0.2134, \n"
     ]
    },
    {
     "name": "stdout",
     "output_type": "stream",
     "text": [
      "epoch: 5, [batch: 4704 / 6720], examples_per_second: 3176.1790, train_label_loss: 0.1466, \n"
     ]
    },
    {
     "name": "stdout",
     "output_type": "stream",
     "text": [
      "epoch: 5, [batch: 5376 / 6720], examples_per_second: 3194.2730, train_label_loss: 0.0897, \n"
     ]
    },
    {
     "name": "stdout",
     "output_type": "stream",
     "text": [
      "epoch: 5, [batch: 6048 / 6720], examples_per_second: 3184.1628, train_label_loss: 0.2875, \n"
     ]
    },
    {
     "name": "stdout",
     "output_type": "stream",
     "text": [
      "=============================================================\n",
      "epoch: 5, source_val_acc_label: 0.9229, target_val_acc_label: 0.6963, source_val_label_loss: 0.2191, target_val_label_loss: 127855.4219, \n",
      "=============================================================\n"
     ]
    },
    {
     "name": "stdout",
     "output_type": "stream",
     "text": [
      "epoch: 6, [batch: 1 / 6720], examples_per_second: 5.6266, train_label_loss: 0.2442, \n"
     ]
    },
    {
     "name": "stdout",
     "output_type": "stream",
     "text": [
      "epoch: 6, [batch: 672 / 6720], examples_per_second: 3178.8667, train_label_loss: 0.2368, \n"
     ]
    },
    {
     "name": "stdout",
     "output_type": "stream",
     "text": [
      "epoch: 6, [batch: 1344 / 6720], examples_per_second: 3189.0266, train_label_loss: 0.0841, \n"
     ]
    },
    {
     "name": "stdout",
     "output_type": "stream",
     "text": [
      "epoch: 6, [batch: 2016 / 6720], examples_per_second: 3183.6708, train_label_loss: 0.1591, \n"
     ]
    },
    {
     "name": "stdout",
     "output_type": "stream",
     "text": [
      "epoch: 6, [batch: 2688 / 6720], examples_per_second: 3124.5244, train_label_loss: 0.1930, \n"
     ]
    },
    {
     "name": "stdout",
     "output_type": "stream",
     "text": [
      "epoch: 6, [batch: 3360 / 6720], examples_per_second: 3186.5161, train_label_loss: 0.0646, \n"
     ]
    },
    {
     "name": "stdout",
     "output_type": "stream",
     "text": [
      "epoch: 6, [batch: 4032 / 6720], examples_per_second: 3187.7144, train_label_loss: 0.0866, \n"
     ]
    },
    {
     "name": "stdout",
     "output_type": "stream",
     "text": [
      "epoch: 6, [batch: 4704 / 6720], examples_per_second: 3171.9589, train_label_loss: 0.5220, \n"
     ]
    },
    {
     "name": "stdout",
     "output_type": "stream",
     "text": [
      "epoch: 6, [batch: 5376 / 6720], examples_per_second: 3171.7303, train_label_loss: 0.3436, \n"
     ]
    },
    {
     "name": "stdout",
     "output_type": "stream",
     "text": [
      "epoch: 6, [batch: 6048 / 6720], examples_per_second: 3166.7031, train_label_loss: 0.0875, \n"
     ]
    },
    {
     "name": "stdout",
     "output_type": "stream",
     "text": [
      "=============================================================\n",
      "epoch: 6, source_val_acc_label: 0.9337, target_val_acc_label: 0.6903, source_val_label_loss: 0.1950, target_val_label_loss: 139221.6562, \n",
      "=============================================================\n"
     ]
    },
    {
     "name": "stdout",
     "output_type": "stream",
     "text": [
      "epoch: 7, [batch: 1 / 6720], examples_per_second: 5.6328, train_label_loss: 0.0294, \n"
     ]
    },
    {
     "name": "stdout",
     "output_type": "stream",
     "text": [
      "epoch: 7, [batch: 672 / 6720], examples_per_second: 3177.2779, train_label_loss: 0.2806, \n"
     ]
    },
    {
     "name": "stdout",
     "output_type": "stream",
     "text": [
      "epoch: 7, [batch: 1344 / 6720], examples_per_second: 3178.2603, train_label_loss: 0.0588, \n"
     ]
    },
    {
     "name": "stdout",
     "output_type": "stream",
     "text": [
      "epoch: 7, [batch: 2016 / 6720], examples_per_second: 3175.1052, train_label_loss: 0.0390, \n"
     ]
    },
    {
     "name": "stdout",
     "output_type": "stream",
     "text": [
      "epoch: 7, [batch: 2688 / 6720], examples_per_second: 3165.3282, train_label_loss: 0.3709, \n"
     ]
    },
    {
     "name": "stdout",
     "output_type": "stream",
     "text": [
      "epoch: 7, [batch: 3360 / 6720], examples_per_second: 3183.4150, train_label_loss: 0.4477, \n"
     ]
    },
    {
     "name": "stdout",
     "output_type": "stream",
     "text": [
      "epoch: 7, [batch: 4032 / 6720], examples_per_second: 3181.2213, train_label_loss: 0.0841, \n"
     ]
    },
    {
     "name": "stdout",
     "output_type": "stream",
     "text": [
      "epoch: 7, [batch: 4704 / 6720], examples_per_second: 3174.5681, train_label_loss: 0.3163, \n"
     ]
    },
    {
     "name": "stdout",
     "output_type": "stream",
     "text": [
      "epoch: 7, [batch: 5376 / 6720], examples_per_second: 3180.3421, train_label_loss: 0.1851, \n"
     ]
    },
    {
     "name": "stdout",
     "output_type": "stream",
     "text": [
      "epoch: 7, [batch: 6048 / 6720], examples_per_second: 3192.8248, train_label_loss: 0.1243, \n"
     ]
    },
    {
     "name": "stdout",
     "output_type": "stream",
     "text": [
      "=============================================================\n",
      "epoch: 7, source_val_acc_label: 0.9299, target_val_acc_label: 0.6799, source_val_label_loss: 0.1964, target_val_label_loss: 90737.1172, \n",
      "=============================================================\n"
     ]
    },
    {
     "name": "stdout",
     "output_type": "stream",
     "text": [
      "epoch: 8, [batch: 1 / 6720], examples_per_second: 5.6768, train_label_loss: 0.1848, \n"
     ]
    },
    {
     "name": "stdout",
     "output_type": "stream",
     "text": [
      "epoch: 8, [batch: 672 / 6720], examples_per_second: 3182.8360, train_label_loss: 0.4676, \n"
     ]
    },
    {
     "name": "stdout",
     "output_type": "stream",
     "text": [
      "epoch: 8, [batch: 1344 / 6720], examples_per_second: 3193.3886, train_label_loss: 0.0847, \n"
     ]
    },
    {
     "name": "stdout",
     "output_type": "stream",
     "text": [
      "epoch: 8, [batch: 2016 / 6720], examples_per_second: 3177.9953, train_label_loss: 0.1150, \n"
     ]
    },
    {
     "name": "stdout",
     "output_type": "stream",
     "text": [
      "epoch: 8, [batch: 2688 / 6720], examples_per_second: 3158.2357, train_label_loss: 0.0757, \n"
     ]
    },
    {
     "name": "stdout",
     "output_type": "stream",
     "text": [
      "epoch: 8, [batch: 3360 / 6720], examples_per_second: 3180.7485, train_label_loss: 0.1374, \n"
     ]
    },
    {
     "name": "stdout",
     "output_type": "stream",
     "text": [
      "epoch: 8, [batch: 4032 / 6720], examples_per_second: 3179.8847, train_label_loss: 0.3080, \n"
     ]
    },
    {
     "name": "stdout",
     "output_type": "stream",
     "text": [
      "epoch: 8, [batch: 4704 / 6720], examples_per_second: 3176.7357, train_label_loss: 0.2080, \n"
     ]
    },
    {
     "name": "stdout",
     "output_type": "stream",
     "text": [
      "epoch: 8, [batch: 5376 / 6720], examples_per_second: 3182.7379, train_label_loss: 0.2727, \n"
     ]
    },
    {
     "name": "stdout",
     "output_type": "stream",
     "text": [
      "epoch: 8, [batch: 6048 / 6720], examples_per_second: 3179.8119, train_label_loss: 0.2428, \n"
     ]
    },
    {
     "name": "stdout",
     "output_type": "stream",
     "text": [
      "=============================================================\n",
      "epoch: 8, source_val_acc_label: 0.9349, target_val_acc_label: 0.6929, source_val_label_loss: 0.1865, target_val_label_loss: 104728.2188, \n",
      "=============================================================\n"
     ]
    },
    {
     "name": "stdout",
     "output_type": "stream",
     "text": [
      "Patience (3) exhausted\n"
     ]
    }
   ],
   "source": [
    "###################################\n",
    "# train\n",
    "###################################\n",
    "jig = PTN_Train_Eval_Test_Jig(model, p.BEST_MODEL_PATH, p.device)\n",
    "\n",
    "jig.train(\n",
    "    train_iterable=datasets.source.processed.train,\n",
    "    source_val_iterable=datasets.source.processed.val,\n",
    "    target_val_iterable=datasets.target.processed.val,\n",
    "    num_epochs=p.n_epoch,\n",
    "    num_logs_per_epoch=p.NUM_LOGS_PER_EPOCH,\n",
    "    patience=p.patience,\n",
    "    optimizer=optimizer,\n",
    "    criteria_for_best=p.criteria_for_best,\n",
    ")"
   ]
  },
  {
   "cell_type": "code",
   "execution_count": 23,
   "id": "31e8fabf",
   "metadata": {
    "execution": {
     "iopub.execute_input": "2022-03-07T08:08:09.516670Z",
     "iopub.status.busy": "2022-03-07T08:08:09.516419Z",
     "iopub.status.idle": "2022-03-07T08:08:09.533204Z",
     "shell.execute_reply": "2022-03-07T08:08:09.533559Z"
    },
    "papermill": {
     "duration": 0.050424,
     "end_time": "2022-03-07T08:08:09.533670",
     "exception": false,
     "start_time": "2022-03-07T08:08:09.483246",
     "status": "completed"
    },
    "tags": []
   },
   "outputs": [],
   "source": [
    "total_experiment_time_secs = time.time() - start_time_secs"
   ]
  },
  {
   "cell_type": "code",
   "execution_count": 24,
   "id": "87b9595b",
   "metadata": {
    "execution": {
     "iopub.execute_input": "2022-03-07T08:08:09.603063Z",
     "iopub.status.busy": "2022-03-07T08:08:09.602788Z",
     "iopub.status.idle": "2022-03-07T08:09:09.283023Z",
     "shell.execute_reply": "2022-03-07T08:09:09.283422Z"
    },
    "papermill": {
     "duration": 59.714772,
     "end_time": "2022-03-07T08:09:09.283552",
     "exception": false,
     "start_time": "2022-03-07T08:08:09.568780",
     "status": "completed"
    },
    "tags": []
   },
   "outputs": [],
   "source": [
    "###################################\n",
    "# Evaluate the model\n",
    "###################################\n",
    "source_test_label_accuracy, source_test_label_loss = jig.test(datasets.source.processed.test)\n",
    "target_test_label_accuracy, target_test_label_loss = jig.test(datasets.target.processed.test)\n",
    "\n",
    "source_val_label_accuracy, source_val_label_loss = jig.test(datasets.source.processed.val)\n",
    "target_val_label_accuracy, target_val_label_loss = jig.test(datasets.target.processed.val)\n",
    "\n",
    "history = jig.get_history()\n",
    "\n",
    "total_epochs_trained = len(history[\"epoch_indices\"])\n",
    "\n",
    "val_dl = Iterable_Aggregator((datasets.source.original.val,datasets.target.original.val))\n",
    "\n",
    "confusion = ptn_confusion_by_domain_over_dataloader(model, p.device, val_dl)\n",
    "per_domain_accuracy = per_domain_accuracy_from_confusion(confusion)\n",
    "\n",
    "# Add a key to per_domain_accuracy for if it was a source domain\n",
    "for domain, accuracy in per_domain_accuracy.items():\n",
    "    per_domain_accuracy[domain] = {\n",
    "        \"accuracy\": accuracy,\n",
    "        \"source?\": domain in p.domains_source\n",
    "    }\n",
    "\n",
    "# Do an independent accuracy assesment JUST TO BE SURE!\n",
    "# _source_test_label_accuracy = independent_accuracy_assesment(model, datasets.source.processed.test, p.device)\n",
    "# _target_test_label_accuracy = independent_accuracy_assesment(model, datasets.target.processed.test, p.device)\n",
    "# _source_val_label_accuracy = independent_accuracy_assesment(model, datasets.source.processed.val, p.device)\n",
    "# _target_val_label_accuracy = independent_accuracy_assesment(model, datasets.target.processed.val, p.device)\n",
    "\n",
    "# assert(_source_test_label_accuracy == source_test_label_accuracy)\n",
    "# assert(_target_test_label_accuracy == target_test_label_accuracy)\n",
    "# assert(_source_val_label_accuracy == source_val_label_accuracy)\n",
    "# assert(_target_val_label_accuracy == target_val_label_accuracy)\n",
    "\n",
    "experiment = {\n",
    "    \"experiment_name\": p.experiment_name,\n",
    "    \"parameters\": dict(p),\n",
    "    \"results\": {\n",
    "        \"source_test_label_accuracy\": source_test_label_accuracy,\n",
    "        \"source_test_label_loss\": source_test_label_loss,\n",
    "        \"target_test_label_accuracy\": target_test_label_accuracy,\n",
    "        \"target_test_label_loss\": target_test_label_loss,\n",
    "        \"source_val_label_accuracy\": source_val_label_accuracy,\n",
    "        \"source_val_label_loss\": source_val_label_loss,\n",
    "        \"target_val_label_accuracy\": target_val_label_accuracy,\n",
    "        \"target_val_label_loss\": target_val_label_loss,\n",
    "        \"total_epochs_trained\": total_epochs_trained,\n",
    "        \"total_experiment_time_secs\": total_experiment_time_secs,\n",
    "        \"confusion\": confusion,\n",
    "        \"per_domain_accuracy\": per_domain_accuracy,\n",
    "    },\n",
    "    \"history\": history,\n",
    "    \"dataset_metrics\": get_dataset_metrics(datasets, \"ptn\"),\n",
    "}"
   ]
  },
  {
   "cell_type": "code",
   "execution_count": 25,
   "id": "54a21829",
   "metadata": {
    "execution": {
     "iopub.execute_input": "2022-03-07T08:09:09.353549Z",
     "iopub.status.busy": "2022-03-07T08:09:09.353291Z",
     "iopub.status.idle": "2022-03-07T08:09:09.530789Z",
     "shell.execute_reply": "2022-03-07T08:09:09.531227Z"
    },
    "papermill": {
     "duration": 0.211265,
     "end_time": "2022-03-07T08:09:09.531366",
     "exception": false,
     "start_time": "2022-03-07T08:09:09.320101",
     "status": "completed"
    },
    "tags": []
   },
   "outputs": [
    {
     "data": {
      "image/png": "[encoded data removed]",
      "text/plain": [
       "<Figure size 1080x504 with 1 Axes>"
      ]
     },
     "metadata": {
      "needs_background": "light"
     },
     "output_type": "display_data"
    }
   ],
   "source": [
    "ax = get_loss_curve(experiment)\n",
    "plt.show()"
   ]
  },
  {
   "cell_type": "code",
   "execution_count": 26,
   "id": "fd8a0f60",
   "metadata": {
    "execution": {
     "iopub.execute_input": "2022-03-07T08:09:09.604093Z",
     "iopub.status.busy": "2022-03-07T08:09:09.603807Z",
     "iopub.status.idle": "2022-03-07T08:09:09.783354Z",
     "shell.execute_reply": "2022-03-07T08:09:09.783583Z"
    },
    "papermill": {
     "duration": 0.214471,
     "end_time": "2022-03-07T08:09:09.783666",
     "exception": false,
     "start_time": "2022-03-07T08:09:09.569195",
     "status": "completed"
    },
    "tags": []
   },
   "outputs": [
    {
     "data": {
      "text/plain": [
       "<matplotlib.axes._subplots.AxesSubplot at 0x7faef54cdf40>"
      ]
     },
     "execution_count": 26,
     "metadata": {},
     "output_type": "execute_result"
    },
    {
     "data": {
      "image/png": "[encoded data removed]",
      "text/plain": [
       "<Figure size 1080x504 with 1 Axes>"
      ]
     },
     "metadata": {
      "needs_background": "light"
     },
     "output_type": "display_data"
    }
   ],
   "source": [
    "get_results_table(experiment)"
   ]
  },
  {
   "cell_type": "code",
   "execution_count": 27,
   "id": "cf8dc689",
   "metadata": {
    "execution": {
     "iopub.execute_input": "2022-03-07T08:09:09.856300Z",
     "iopub.status.busy": "2022-03-07T08:09:09.856029Z",
     "iopub.status.idle": "2022-03-07T08:09:10.052874Z",
     "shell.execute_reply": "2022-03-07T08:09:10.053302Z"
    },
    "papermill": {
     "duration": 0.232822,
     "end_time": "2022-03-07T08:09:10.053441",
     "exception": false,
     "start_time": "2022-03-07T08:09:09.820619",
     "status": "completed"
    },
    "tags": []
   },
   "outputs": [
    {
     "data": {
      "text/plain": [
       "<matplotlib.axes._subplots.AxesSubplot at 0x7faef4515430>"
      ]
     },
     "execution_count": 27,
     "metadata": {},
     "output_type": "execute_result"
    },
    {
     "data": {
      "image/png": "[encoded data removed]",
      "text/plain": [
       "<Figure size 1080x504 with 1 Axes>"
      ]
     },
     "metadata": {
      "needs_background": "light"
     },
     "output_type": "display_data"
    }
   ],
   "source": [
    "get_domain_accuracies(experiment)"
   ]
  },
  {
   "cell_type": "code",
   "execution_count": 28,
   "id": "a74ae082",
   "metadata": {
    "execution": {
     "iopub.execute_input": "2022-03-07T08:09:10.130280Z",
     "iopub.status.busy": "2022-03-07T08:09:10.130004Z",
     "iopub.status.idle": "2022-03-07T08:09:10.144830Z",
     "shell.execute_reply": "2022-03-07T08:09:10.145241Z"
    },
    "papermill": {
     "duration": 0.051153,
     "end_time": "2022-03-07T08:09:10.145370",
     "exception": false,
     "start_time": "2022-03-07T08:09:10.094217",
     "status": "completed"
    },
    "tags": []
   },
   "outputs": [
    {
     "name": "stdout",
     "output_type": "stream",
     "text": [
      "Source Test Label Accuracy: 0.9200520833333333 Target Test Label Accuracy: 0.7252604166666666\n",
      "Source Val Label Accuracy: 0.9175455729166667 Target Val Label Accuracy: 0.7255859375\n"
     ]
    }
   ],
   "source": [
    "print(\"Source Test Label Accuracy:\", experiment[\"results\"][\"source_test_label_accuracy\"], \"Target Test Label Accuracy:\", experiment[\"results\"][\"target_test_label_accuracy\"])\n",
    "print(\"Source Val Label Accuracy:\", experiment[\"results\"][\"source_val_label_accuracy\"], \"Target Val Label Accuracy:\", experiment[\"results\"][\"target_val_label_accuracy\"])"
   ]
  },
  {
   "cell_type": "code",
   "execution_count": 29,
   "id": "dacca602",
   "metadata": {
    "execution": {
     "iopub.execute_input": "2022-03-07T08:09:10.220467Z",
     "iopub.status.busy": "2022-03-07T08:09:10.220201Z",
     "iopub.status.idle": "2022-03-07T08:09:10.236959Z",
     "shell.execute_reply": "2022-03-07T08:09:10.237353Z"
    },
    "papermill": {
     "duration": 0.053394,
     "end_time": "2022-03-07T08:09:10.237481",
     "exception": false,
     "start_time": "2022-03-07T08:09:10.184087",
     "status": "completed"
    },
    "tags": [
     "experiment_json"
    ]
   },
   "outputs": [
    {
     "data": {
      "text/plain": [
       "'{\"experiment_name\": \"tl_1_wisig-oracle.run1\", \"parameters\": {\"experiment_name\": \"tl_1_wisig-oracle.run1\", \"device\": \"cuda\", \"lr\": 0.001, \"seed\": 1337, \"dataset_seed\": 1337, \"n_shot\": 3, \"n_query\": 2, \"train_k_factor\": 3, \"val_k_factor\": 2, \"test_k_factor\": 2, \"torch_default_dtype\": \"torch.float32\", \"n_epoch\": 50, \"patience\": 3, \"criteria_for_best\": \"target_loss\", \"x_net\": [{\"class\": \"nnReshape\", \"kargs\": {\"shape\": [-1, 1, 2, 256]}}, {\"class\": \"Conv2d\", \"kargs\": {\"in_channels\": 1, \"out_channels\": 256, \"kernel_size\": [1, 7], \"bias\": false, \"padding\": [0, 3]}}, {\"class\": \"ReLU\", \"kargs\": {\"inplace\": true}}, {\"class\": \"BatchNorm2d\", \"kargs\": {\"num_features\": 256}}, {\"class\": \"Conv2d\", \"kargs\": {\"in_channels\": 256, \"out_channels\": 80, \"kernel_size\": [2, 7], \"bias\": true, \"padding\": [0, 3]}}, {\"class\": \"ReLU\", \"kargs\": {\"inplace\": true}}, {\"class\": \"BatchNorm2d\", \"kargs\": {\"num_features\": 80}}, {\"class\": \"Flatten\", \"kargs\": {}}, {\"class\": \"Linear\", \"kargs\": {\"in_features\": 20480, \"out_features\": 256}}, {\"class\": \"ReLU\", \"kargs\": {\"inplace\": true}}, {\"class\": \"BatchNorm1d\", \"kargs\": {\"num_features\": 256}}, {\"class\": \"Linear\", \"kargs\": {\"in_features\": 256, \"out_features\": 256}}], \"NUM_LOGS_PER_EPOCH\": 10, \"BEST_MODEL_PATH\": \"./best_model.pth\", \"n_way\": 16, \"datasets\": [{\"labels\": [\"1-10\", \"1-12\", \"1-14\", \"1-16\", \"1-18\", \"1-19\", \"1-8\", \"10-11\", \"10-17\", \"10-4\", \"10-7\", \"11-1\", \"11-10\", \"11-19\", \"11-20\", \"11-4\", \"11-7\", \"12-19\", \"12-20\", \"12-7\", \"13-14\", \"13-18\", \"13-19\", \"13-20\", \"13-3\", \"13-7\", \"14-10\", \"14-11\", \"14-12\", \"14-13\", \"14-14\", \"14-19\", \"14-20\", \"14-7\", \"14-8\", \"14-9\", \"15-1\", \"15-19\", \"15-6\", \"16-1\", \"16-16\", \"16-19\", \"16-20\", \"17-10\", \"17-11\", \"18-1\", \"18-10\", \"18-11\", \"18-12\", \"18-13\", \"18-14\", \"18-15\", \"18-16\", \"18-17\", \"18-19\", \"18-2\", \"18-20\", \"18-4\", \"18-5\", \"18-7\", \"18-8\", \"18-9\", \"19-1\", \"19-10\", \"19-11\", \"19-12\", \"19-13\", \"19-14\", \"19-15\", \"19-19\", \"19-2\", \"19-20\", \"19-3\", \"19-4\", \"19-6\", \"19-7\", \"19-8\", \"19-9\", \"2-1\", \"2-13\", \"2-15\", \"2-3\", \"2-4\", \"2-5\", \"2-6\", \"2-7\", \"2-8\", \"20-1\", \"20-12\", \"20-14\", \"20-15\", \"20-16\", \"20-18\", \"20-19\", \"20-20\", \"20-3\", \"20-4\", \"20-5\", \"20-7\", \"20-8\", \"3-1\", \"3-13\", \"3-18\", \"3-2\", \"3-8\", \"4-1\", \"4-10\", \"4-11\", \"5-1\", \"5-5\", \"6-1\", \"6-15\", \"6-6\", \"7-10\", \"7-11\", \"7-12\", \"7-13\", \"7-14\", \"7-7\", \"7-8\", \"7-9\", \"8-1\", \"8-13\", \"8-14\", \"8-18\", \"8-20\", \"8-3\", \"8-8\", \"9-1\", \"9-7\"], \"domains\": [1, 2, 3, 4], \"num_examples_per_domain_per_label\": 100, \"pickle_path\": \"/mnt/wd500GB/CSC500/csc500-main/datasets/wisig.node3-19.stratified_ds.2022A.pkl\", \"source_or_target_dataset\": \"target\", \"x_transforms\": [], \"episode_transforms\": [], \"domain_prefix\": \"Wisig_\"}, {\"labels\": [\"3123D52\", \"3123D65\", \"3123D79\", \"3123D80\", \"3123D54\", \"3123D70\", \"3123D7B\", \"3123D89\", \"3123D58\", \"3123D76\", \"3123D7D\", \"3123EFE\", \"3123D64\", \"3123D78\", \"3123D7E\", \"3124E4A\"], \"domains\": [32, 38, 8, 44, 14, 50, 20, 26], \"num_examples_per_domain_per_label\": 2000, \"pickle_path\": \"/mnt/wd500GB/CSC500/csc500-main/datasets/oracle.Run1_framed_2000Examples_stratified_ds.2022A.pkl\", \"source_or_target_dataset\": \"source\", \"x_transforms\": [], \"episode_transforms\": [], \"domain_prefix\": \"ORACLE.run1\"}], \"domains_source\": [\"ORACLE.run132\", \"ORACLE.run138\", \"ORACLE.run18\", \"ORACLE.run144\", \"ORACLE.run114\", \"ORACLE.run150\", \"ORACLE.run120\", \"ORACLE.run126\"], \"domains_target\": [\"Wisig_1\", \"Wisig_2\", \"Wisig_3\", \"Wisig_4\"]}, \"results\": {\"source_test_label_accuracy\": 0.9200520833333333, \"source_test_label_loss\": 0.2617962062358856, \"target_test_label_accuracy\": 0.7252604166666666, \"target_test_label_loss\": 65306.5234375, \"source_val_label_accuracy\": 0.9175455729166667, \"source_val_label_loss\": 0.2419649064540863, \"target_val_label_accuracy\": 0.7255859375, \"target_val_label_loss\": 60316.12109375, \"total_epochs_trained\": 8, \"total_experiment_time_secs\": 1452.3887565135956, \"confusion\": {\"ORACLE.run114\": {\"15\": {\"15\": 240}, \"3\": {\"3\": 240}, \"6\": {\"6\": 179, \"13\": 53, \"14\": 7, \"2\": 1}, \"1\": {\"1\": 240}, \"8\": {\"8\": 240}, \"10\": {\"10\": 240}, \"9\": {\"9\": 240}, \"13\": {\"14\": 30, \"13\": 106, \"15\": 17, \"6\": 80, \"2\": 7}, \"12\": {\"12\": 240}, \"5\": {\"5\": 213, \"4\": 18, \"3\": 1, \"2\": 8}, \"0\": {\"0\": 237, \"3\": 3}, \"2\": {\"2\": 168, \"6\": 7, \"5\": 29, \"14\": 31, \"13\": 4, \"3\": 1}, \"11\": {\"11\": 240}, \"14\": {\"14\": 226, \"2\": 6, \"6\": 1, \"13\": 4, \"3\": 3}, \"7\": {\"7\": 240}, \"4\": {\"4\": 238, \"5\": 2}}, \"ORACLE.run120\": {\"3\": {\"3\": 200, \"1\": 6, \"9\": 30, \"5\": 4}, \"15\": {\"12\": 4, \"15\": 211, \"1\": 20, \"2\": 4, \"5\": 1}, \"8\": {\"8\": 237, \"14\": 2, \"7\": 1}, \"4\": {\"4\": 237, \"12\": 2, \"10\": 1}, \"14\": {\"14\": 238, \"8\": 1, \"6\": 1}, \"0\": {\"0\": 233, \"5\": 6, \"8\": 1}, \"7\": {\"7\": 229, \"9\": 2, \"3\": 3, \"2\": 6}, \"6\": {\"6\": 240}, \"10\": {\"10\": 240}, \"5\": {\"5\": 226, \"1\": 7, \"15\": 2, \"3\": 5}, \"2\": {\"2\": 202, \"12\": 22, \"15\": 1, \"9\": 8, \"7\": 6, \"13\": 1}, \"12\": {\"12\": 224, \"2\": 10, \"15\": 4, \"1\": 2}, \"9\": {\"9\": 208, \"2\": 7, \"3\": 20, \"7\": 4, \"1\": 1}, \"1\": {\"1\": 222, \"5\": 9, \"9\": 2, \"15\": 7}, \"11\": {\"11\": 240}, \"13\": {\"13\": 237, \"2\": 3}}, \"ORACLE.run138\": {\"5\": {\"8\": 74, \"5\": 132, \"7\": 19, \"15\": 3, \"9\": 9, \"0\": 2, \"13\": 1}, \"8\": {\"8\": 190, \"5\": 44, \"0\": 1, \"7\": 3, \"15\": 2}, \"11\": {\"11\": 234, \"10\": 2, \"4\": 1, \"3\": 3}, \"1\": {\"1\": 240}, \"10\": {\"10\": 230, \"13\": 10}, \"15\": {\"15\": 238, \"5\": 2}, \"3\": {\"3\": 240}, \"7\": {\"7\": 237, \"5\": 3}, \"4\": {\"4\": 240}, \"14\": {\"14\": 232, \"2\": 8}, \"9\": {\"9\": 238, \"5\": 2}, \"12\": {\"12\": 240}, \"6\": {\"6\": 240}, \"2\": {\"2\": 230, \"14\": 9, \"13\": 1}, \"0\": {\"0\": 187, \"8\": 5, \"7\": 9, \"3\": 14, \"10\": 15, \"13\": 8, \"5\": 2}, \"13\": {\"13\": 233, \"10\": 6, \"2\": 1}}, \"ORACLE.run18\": {\"9\": {\"9\": 240}, \"10\": {\"10\": 227, \"13\": 13}, \"13\": {\"13\": 204, \"6\": 6, \"10\": 19, \"7\": 11}, \"0\": {\"0\": 240}, \"1\": {\"1\": 235, \"5\": 3, \"11\": 2}, \"15\": {\"15\": 231, \"12\": 9}, \"5\": {\"5\": 216, \"1\": 11, \"10\": 13}, \"3\": {\"3\": 240}, \"6\": {\"6\": 217, \"7\": 21, \"13\": 1, \"4\": 1}, \"11\": {\"11\": 215, \"1\": 23, \"14\": 1, \"5\": 1}, \"8\": {\"8\": 240}, \"4\": {\"4\": 240}, \"12\": {\"12\": 188, \"15\": 50, \"2\": 2}, \"14\": {\"14\": 239, \"4\": 1}, \"2\": {\"2\": 211, \"3\": 23, \"15\": 5, \"12\": 1}, \"7\": {\"7\": 222, \"6\": 17, \"13\": 1}}, \"ORACLE.run150\": {\"7\": {\"7\": 234, \"5\": 6}, \"3\": {\"3\": 240}, \"8\": {\"8\": 240}, \"2\": {\"2\": 236, \"0\": 4}, \"14\": {\"14\": 240}, \"4\": {\"4\": 210, \"5\": 18, \"15\": 7, \"6\": 1, \"7\": 4}, \"6\": {\"6\": 230, \"15\": 4, \"5\": 6}, \"15\": {\"15\": 232, \"6\": 2, \"11\": 4, \"4\": 2}, \"10\": {\"10\": 239, \"8\": 1}, \"11\": {\"11\": 232, \"12\": 4, \"9\": 4}, \"13\": {\"13\": 240}, \"9\": {\"9\": 218, \"12\": 9, \"11\": 13}, \"0\": {\"0\": 225, \"10\": 5, \"2\": 10}, \"1\": {\"1\": 239, \"13\": 1}, \"12\": {\"12\": 236, \"9\": 4}, \"5\": {\"5\": 137, \"4\": 18, \"7\": 52, \"6\": 21, \"13\": 5, \"15\": 5, \"1\": 2}}, \"ORACLE.run132\": {\"8\": {\"8\": 218, \"0\": 18, \"14\": 1, \"4\": 1, \"5\": 2}, \"14\": {\"14\": 203, \"7\": 18, \"0\": 13, \"5\": 4, \"8\": 2}, \"2\": {\"2\": 216, \"4\": 24}, \"0\": {\"0\": 204, \"14\": 11, \"5\": 7, \"8\": 14, \"7\": 4}, \"1\": {\"1\": 240}, \"10\": {\"10\": 240}, \"11\": {\"11\": 240}, \"5\": {\"5\": 158, \"7\": 65, \"14\": 2, \"8\": 9, \"0\": 6}, \"15\": {\"15\": 240}, \"3\": {\"3\": 238, \"13\": 2}, \"12\": {\"12\": 240}, \"7\": {\"5\": 30, \"7\": 198, \"14\": 7, \"0\": 5}, \"13\": {\"13\": 208, \"3\": 19, \"4\": 13}, \"6\": {\"6\": 240}, \"4\": {\"4\": 223, \"2\": 16, \"13\": 1}, \"9\": {\"9\": 240}}, \"ORACLE.run126\": {\"4\": {\"4\": 240}, \"12\": {\"12\": 240}, \"10\": {\"14\": 27, \"10\": 182, \"6\": 5, \"0\": 25, \"15\": 1}, \"0\": {\"0\": 166, \"10\": 45, \"14\": 23, \"8\": 6}, \"13\": {\"13\": 224, \"3\": 1, \"2\": 11, \"9\": 4}, \"9\": {\"9\": 222, \"13\": 2, \"8\": 12, \"2\": 2, \"7\": 1, \"0\": 1}, \"3\": {\"3\": 218, \"7\": 14, \"2\": 8}, \"2\": {\"2\": 160, \"3\": 33, \"8\": 11, \"7\": 28, \"9\": 5, \"13\": 2, \"15\": 1}, \"5\": {\"5\": 236, \"15\": 4}, \"14\": {\"14\": 187, \"10\": 30, \"0\": 19, \"1\": 3, \"4\": 1}, \"8\": {\"7\": 34, \"8\": 196, \"9\": 6, \"2\": 1, \"0\": 2, \"13\": 1}, \"7\": {\"7\": 195, \"8\": 20, \"3\": 13, \"2\": 10, \"9\": 2}, \"6\": {\"6\": 227, \"10\": 3, \"15\": 10}, \"11\": {\"11\": 240}, \"15\": {\"15\": 211, \"10\": 3, \"5\": 13, \"6\": 13}, \"1\": {\"1\": 211, \"5\": 1, \"14\": 25, \"10\": 2, \"0\": 1}}, \"ORACLE.run144\": {\"12\": {\"12\": 235, \"3\": 5}, \"7\": {\"7\": 215, \"9\": 25}, \"5\": {\"5\": 223, \"14\": 6, \"15\": 11}, \"15\": {\"15\": 226, \"14\": 5, \"8\": 5, \"5\": 3, \"0\": 1}, \"8\": {\"0\": 57, \"8\": 175, \"15\": 6, \"5\": 2}, \"2\": {\"2\": 231, \"10\": 3, \"1\": 6}, \"13\": {\"13\": 199, \"6\": 31, \"9\": 10}, \"4\": {\"4\": 172, \"14\": 67, \"5\": 1}, \"0\": {\"0\": 204, \"8\": 35, \"15\": 1}, \"6\": {\"6\": 203, \"9\": 16, \"13\": 21}, \"9\": {\"9\": 137, \"7\": 58, \"6\": 20, \"13\": 24, \"4\": 1}, \"11\": {\"11\": 240}, \"10\": {\"10\": 218, \"1\": 10, \"2\": 11, \"7\": 1}, \"14\": {\"4\": 62, \"14\": 169, \"15\": 6, \"5\": 3}, \"1\": {\"1\": 235, \"2\": 5}, \"3\": {\"3\": 239, \"12\": 1}}, \"Wisig_3\": {\"109\": {\"21\": 1, \"109\": 11}, \"127\": {\"127\": 12}, \"14\": {\"14\": 8, \"84\": 2, \"93\": 2}, \"7\": {\"7\": 12}, \"129\": {\"129\": 11, \"42\": 1}, \"57\": {\"114\": 1, \"57\": 4, \"34\": 2, \"48\": 1, \"86\": 1, \"19\": 1, \"74\": 1, \"56\": 1}, \"84\": {\"84\": 8, \"93\": 1, \"0\": 1, \"30\": 1, \"49\": 1}, \"114\": {\"35\": 1, \"114\": 8, \"49\": 1, \"105\": 1, \"83\": 1}, \"44\": {\"44\": 8, \"14\": 1, \"28\": 3}, \"21\": {\"21\": 12}, \"46\": {\"46\": 9, \"85\": 2, \"55\": 1}, \"100\": {\"100\": 3, \"19\": 2, \"28\": 3, \"76\": 1, \"85\": 2, \"128\": 1}, \"63\": {\"63\": 8, \"35\": 1, \"6\": 1, \"2\": 1, \"54\": 1}, \"24\": {\"24\": 10, \"109\": 1, \"10\": 1}, \"107\": {\"107\": 8, \"14\": 1, \"100\": 1, \"1\": 1, \"3\": 1}, \"35\": {\"14\": 1, \"127\": 1, \"35\": 4, \"72\": 2, \"75\": 1, \"114\": 1}, \"81\": {\"81\": 10, \"61\": 2}, \"64\": {\"64\": 11, \"102\": 1}, \"59\": {\"87\": 1, \"59\": 11}, \"33\": {\"33\": 12}, \"34\": {\"34\": 7, \"20\": 2, \"54\": 2, \"75\": 1}, \"36\": {\"36\": 10, \"24\": 1, \"10\": 1}, \"79\": {\"79\": 8, \"80\": 1, \"120\": 2, \"48\": 1}, \"80\": {\"80\": 10, \"10\": 1, \"67\": 1}, \"77\": {\"77\": 7, \"73\": 1, \"66\": 1, \"91\": 2, \"42\": 1}, \"22\": {\"79\": 2, \"42\": 1, \"22\": 5, \"29\": 1, \"129\": 1, \"48\": 2}, \"124\": {\"77\": 1, \"124\": 10, \"85\": 1}, \"2\": {\"2\": 10, \"80\": 2}, \"87\": {\"87\": 10, \"11\": 1, \"110\": 1}, \"105\": {\"105\": 12}, \"95\": {\"126\": 2, \"34\": 1, \"3\": 2, \"95\": 6, \"107\": 1}, \"43\": {\"43\": 10, \"118\": 1, \"11\": 1}, \"56\": {\"56\": 7, \"83\": 2, \"57\": 1}, \"18\": {\"18\": 12}, \"85\": {\"46\": 3, \"85\": 4, \"98\": 1, \"111\": 1, \"50\": 1, \"66\": 1, \"73\": 1}, \"113\": {\"43\": 2, \"113\": 8, \"122\": 1, \"11\": 1}, \"97\": {\"97\": 11, \"94\": 1}, \"86\": {\"86\": 12}, \"128\": {\"46\": 2, \"128\": 6, \"53\": 1, \"95\": 1, \"100\": 1, \"28\": 1}, \"123\": {\"123\": 10, \"116\": 1, \"63\": 1}, \"8\": {\"8\": 10, \"97\": 1, \"0\": 1}, \"110\": {\"110\": 10, \"43\": 1, \"122\": 1}, \"126\": {\"113\": 1, \"43\": 1, \"108\": 1, \"126\": 4, \"96\": 2, \"122\": 1, \"36\": 2}, \"101\": {\"101\": 12}, \"115\": {\"45\": 1, \"115\": 10, \"112\": 1}, \"49\": {\"114\": 1, \"84\": 1, \"106\": 1, \"49\": 4, \"60\": 1, \"12\": 2, \"127\": 1, \"0\": 1}, \"45\": {\"45\": 11, \"115\": 1}, \"78\": {\"78\": 11, \"70\": 1}, \"65\": {\"65\": 4, \"32\": 2, \"85\": 2, \"55\": 1, \"81\": 1}, \"54\": {\"54\": 12}, \"31\": {\"14\": 1, \"31\": 7, \"127\": 1, \"116\": 1}, \"42\": {\"115\": 1, \"65\": 1, \"1\": 1, \"73\": 1, \"95\": 1, \"22\": 1, \"41\": 1, \"129\": 1, \"66\": 1, \"5\": 1, \"78\": 1, \"77\": 1}, \"68\": {\"68\": 12}, \"15\": {\"15\": 11, \"94\": 1}, \"69\": {\"69\": 12}, \"17\": {\"17\": 2, \"48\": 1, \"123\": 1, \"104\": 1, \"129\": 1, \"11\": 1, \"5\": 2, \"59\": 1}, \"73\": {\"73\": 7, \"77\": 1, \"56\": 1, \"112\": 1, \"85\": 1, \"38\": 1}, \"121\": {\"121\": 11, \"92\": 1}, \"102\": {\"102\": 12}, \"48\": {\"102\": 1, \"48\": 4, \"64\": 1, \"104\": 1, \"50\": 2, \"22\": 1, \"117\": 1, \"112\": 1}, \"23\": {\"23\": 4, \"43\": 2, \"122\": 1, \"15\": 1, \"87\": 1, \"44\": 1, \"8\": 2}, \"108\": {\"108\": 11, \"36\": 1}, \"53\": {\"31\": 1, \"53\": 8, \"32\": 1, \"3\": 2}, \"94\": {\"94\": 8, \"97\": 2}, \"41\": {\"73\": 1, \"41\": 7, \"55\": 2, \"85\": 1, \"91\": 1}, \"58\": {\"47\": 1, \"58\": 9, \"25\": 2}, \"29\": {\"29\": 7, \"82\": 1, \"120\": 2, \"92\": 2}, \"116\": {\"116\": 11, \"117\": 1}, \"60\": {\"60\": 5, \"15\": 1, \"16\": 1, \"12\": 1, \"122\": 1, \"43\": 1, \"35\": 1, \"62\": 1}, \"104\": {\"104\": 7, \"68\": 2, \"91\": 2, \"55\": 1}, \"106\": {\"106\": 12}, \"66\": {\"66\": 9, \"83\": 2, \"65\": 1}, \"47\": {\"47\": 6, \"99\": 3, \"35\": 2, \"114\": 1}, \"40\": {\"40\": 9, \"105\": 1, \"38\": 1, \"71\": 1}, \"82\": {\"82\": 7, \"29\": 2, \"45\": 1, \"36\": 1, \"89\": 1}, \"13\": {\"123\": 3, \"10\": 1, \"13\": 6, \"109\": 1, \"16\": 1}, \"19\": {\"19\": 8, \"128\": 1, \"103\": 1, \"32\": 1, \"55\": 1}, \"72\": {\"72\": 8, \"99\": 1, \"95\": 1, \"47\": 1, \"35\": 1}, \"9\": {\"9\": 11, \"77\": 1}, \"67\": {\"123\": 2, \"67\": 9, \"64\": 1}, \"11\": {\"11\": 11, \"36\": 1}, \"125\": {\"125\": 12}, \"76\": {\"9\": 1, \"76\": 4, \"53\": 1, \"107\": 2}, \"83\": {\"66\": 2, \"71\": 1, \"83\": 4, \"98\": 1, \"91\": 1, \"114\": 1, \"47\": 2}, \"74\": {\"74\": 9, \"66\": 1, \"9\": 1, \"76\": 1}, \"20\": {\"20\": 4, \"34\": 2, \"99\": 1, \"105\": 2, \"32\": 2, \"75\": 1}, \"119\": {\"119\": 8, \"115\": 1, \"22\": 1, \"48\": 2}, \"1\": {\"1\": 9, \"75\": 1, \"3\": 1, \"9\": 1}, \"16\": {\"16\": 12}, \"25\": {\"25\": 7, \"55\": 1, \"37\": 1, \"64\": 1, \"38\": 2}, \"90\": {\"28\": 2, \"90\": 5, \"120\": 1}, \"39\": {\"39\": 9, \"70\": 1, \"78\": 1, \"108\": 1}, \"28\": {\"28\": 7, \"74\": 1, \"100\": 1, \"19\": 2, \"50\": 1}, \"55\": {\"55\": 10, \"41\": 1, \"52\": 1}, \"117\": {\"117\": 10, \"92\": 1, \"42\": 1}, \"112\": {\"112\": 4, \"124\": 2, \"103\": 3, \"45\": 1, \"19\": 1, \"115\": 1}, \"38\": {\"38\": 9, \"105\": 2, \"54\": 1}, \"37\": {\"104\": 2, \"52\": 3, \"37\": 5, \"77\": 1, \"46\": 1}, \"120\": {\"117\": 1, \"120\": 5, \"90\": 1, \"13\": 2, \"65\": 1, \"92\": 2}, \"122\": {\"122\": 11, \"10\": 1}, \"50\": {\"55\": 1, \"5\": 1, \"50\": 7, \"100\": 2, \"33\": 1}, \"10\": {\"10\": 11, \"24\": 1}, \"5\": {\"5\": 10, \"112\": 2}, \"51\": {\"51\": 9, \"66\": 1, \"106\": 2}, \"3\": {\"3\": 8, \"39\": 1, \"1\": 1, \"51\": 1, \"108\": 1}, \"98\": {\"98\": 9, \"83\": 1, \"56\": 1, \"18\": 1}, \"70\": {\"70\": 9, \"10\": 1, \"88\": 1, \"24\": 1}, \"96\": {\"113\": 3, \"96\": 7, \"93\": 1, \"23\": 1}, \"12\": {\"12\": 8, \"8\": 1, \"49\": 1, \"106\": 1, \"51\": 1}, \"99\": {\"105\": 2, \"9\": 1, \"99\": 4, \"47\": 2, \"34\": 1, \"40\": 1, \"74\": 1}, \"52\": {\"55\": 1, \"52\": 5, \"46\": 1, \"83\": 2, \"58\": 1, \"98\": 1, \"37\": 1}, \"71\": {\"71\": 8, \"36\": 1, \"120\": 1, \"3\": 2}, \"89\": {\"89\": 10, \"29\": 1, \"76\": 1}, \"0\": {\"8\": 1, \"0\": 11}, \"4\": {\"4\": 6, \"119\": 2, \"88\": 1, \"24\": 1, \"79\": 1, \"8\": 1}, \"93\": {\"93\": 11, \"87\": 1}, \"6\": {\"6\": 8, \"37\": 2}, \"75\": {\"72\": 2, \"75\": 9, \"54\": 1}, \"62\": {\"62\": 12}, \"103\": {\"103\": 7, \"19\": 1, \"53\": 2, \"85\": 1, \"98\": 1}, \"30\": {\"30\": 10, \"36\": 2}, \"91\": {\"91\": 5, \"103\": 1, \"85\": 4, \"41\": 2}, \"27\": {\"27\": 10, \"24\": 1, \"70\": 1}, \"26\": {\"26\": 11, \"69\": 1}, \"61\": {\"61\": 12}, \"118\": {\"118\": 11, \"109\": 1}, \"92\": {\"29\": 2, \"89\": 1, \"92\": 8, \"120\": 1}, \"111\": {\"111\": 12}, \"32\": {\"32\": 10, \"28\": 1, \"46\": 1}, \"88\": {\"70\": 1, \"88\": 8, \"24\": 1}}, \"Wisig_4\": {\"28\": {\"28\": 8, \"89\": 2, \"128\": 1, \"83\": 1}, \"4\": {\"4\": 12}, \"72\": {\"14\": 2, \"1\": 1, \"97\": 1, \"40\": 1, \"72\": 6, \"71\": 1}, \"111\": {\"111\": 10, \"45\": 1, \"6\": 1}, \"108\": {\"108\": 10, \"10\": 1, \"109\": 1}, \"43\": {\"43\": 8, \"15\": 2}, \"96\": {\"72\": 1, \"11\": 3, \"96\": 6, \"60\": 1, \"122\": 1}, \"89\": {\"89\": 8, \"53\": 1, \"34\": 2, \"85\": 1}, \"31\": {\"31\": 7, \"45\": 1, \"19\": 1, \"29\": 1, \"56\": 1, \"73\": 1}, \"45\": {\"45\": 11, \"31\": 1}, \"2\": {\"2\": 12}, \"114\": {\"114\": 8, \"1\": 4}, \"11\": {\"11\": 11, \"96\": 1}, \"12\": {\"12\": 10, \"101\": 2}, \"14\": {\"96\": 1, \"14\": 8, \"71\": 2, \"11\": 1}, \"90\": {\"90\": 10, \"67\": 1, \"38\": 1}, \"10\": {\"10\": 9, \"24\": 2, \"109\": 1}, \"63\": {\"121\": 1, \"63\": 10, \"42\": 1}, \"85\": {\"3\": 1, \"10\": 1, \"46\": 1, \"85\": 4, \"82\": 1, \"91\": 1, \"1\": 1, \"89\": 2}, \"64\": {\"42\": 2, \"64\": 8, \"41\": 1, \"56\": 1}, \"82\": {\"82\": 8, \"48\": 1, \"89\": 1, \"2\": 1, \"112\": 1}, \"58\": {\"58\": 10, \"25\": 1, \"6\": 1}, \"3\": {\"3\": 11, \"1\": 1}, \"54\": {\"54\": 10, \"55\": 1, \"100\": 1}, \"121\": {\"121\": 6, \"81\": 2, \"48\": 2, \"74\": 1, \"5\": 1}, \"42\": {\"91\": 1, \"58\": 1, \"29\": 1, \"42\": 3, \"56\": 1, \"95\": 1, \"47\": 1, \"92\": 1, \"129\": 1, \"41\": 1}, \"98\": {\"98\": 8, \"64\": 2, \"29\": 2}, \"123\": {\"123\": 11, \"22\": 1}, \"91\": {\"98\": 1, \"58\": 1, \"55\": 1, \"91\": 6, \"103\": 1, \"29\": 1, \"128\": 1}, \"66\": {\"66\": 8, \"2\": 1, \"90\": 2, \"38\": 1}, \"102\": {\"102\": 12}, \"122\": {\"122\": 7, \"118\": 1, \"8\": 1, \"36\": 1, \"39\": 1, \"43\": 1}, \"1\": {\"1\": 11, \"40\": 1}, \"15\": {\"15\": 9, \"8\": 1, \"0\": 1, \"30\": 1}, \"97\": {\"108\": 2, \"97\": 9, \"121\": 1}, \"75\": {\"75\": 9, \"25\": 2, \"58\": 1}, \"95\": {\"1\": 1, \"72\": 3, \"95\": 8}, \"57\": {\"57\": 11, \"128\": 1}, \"68\": {\"68\": 9, \"6\": 1, \"103\": 1, \"64\": 1}, \"125\": {\"125\": 12}, \"62\": {\"62\": 10}, \"27\": {\"27\": 8, \"10\": 1, \"21\": 1, \"101\": 1, \"97\": 1}, \"120\": {\"120\": 7, \"91\": 1, \"103\": 1, \"56\": 1, \"41\": 1, \"64\": 1}, \"26\": {\"26\": 8, \"113\": 1, \"14\": 2, \"106\": 1}, \"55\": {\"83\": 1, \"55\": 10, \"64\": 1}, \"71\": {\"99\": 2, \"71\": 5, \"14\": 3, \"88\": 1, \"72\": 1}, \"22\": {\"22\": 12}, \"99\": {\"46\": 2, \"99\": 4, \"52\": 1, \"84\": 1, \"60\": 1, \"21\": 1, \"107\": 1, \"1\": 1}, \"84\": {\"84\": 8, \"103\": 1, \"99\": 1, \"1\": 1, \"43\": 1}, \"37\": {\"37\": 11, \"64\": 1}, \"83\": {\"46\": 1, \"84\": 1, \"114\": 3, \"103\": 2, \"64\": 1, \"83\": 3, \"33\": 1}, \"46\": {\"83\": 1, \"46\": 7, \"86\": 2, \"28\": 1, \"59\": 1}, \"35\": {\"35\": 12}, \"13\": {\"13\": 9, \"63\": 1, \"65\": 2}, \"53\": {\"9\": 1, \"54\": 1, \"51\": 2, \"88\": 1, \"53\": 2, \"95\": 2, \"78\": 1, \"49\": 2}, \"127\": {\"127\": 12}, \"69\": {\"97\": 1, \"69\": 10, \"78\": 1}, \"48\": {\"48\": 5, \"129\": 2, \"123\": 1, \"2\": 2, \"66\": 1, \"85\": 1}, \"16\": {\"16\": 12}, \"0\": {\"15\": 3, \"0\": 5, \"8\": 1, \"23\": 1, \"87\": 2}, \"8\": {\"0\": 1, \"97\": 2, \"8\": 7, \"94\": 1, \"36\": 1}, \"9\": {\"9\": 4, \"34\": 2, \"54\": 1, \"105\": 2, \"106\": 1, \"75\": 1, \"25\": 1}, \"115\": {\"57\": 2, \"59\": 1, \"115\": 5, \"119\": 1, \"55\": 1, \"91\": 1, \"121\": 1}, \"70\": {\"70\": 9, \"63\": 1, \"36\": 2}, \"119\": {\"119\": 8, \"2\": 1, \"48\": 1, \"102\": 2}, \"59\": {\"59\": 7, \"45\": 1, \"124\": 2, \"111\": 1, \"6\": 1}, \"52\": {\"95\": 1, \"51\": 1, \"52\": 7, \"128\": 1, \"34\": 1, \"85\": 1}, \"60\": {\"60\": 4, \"127\": 1, \"99\": 2, \"62\": 2, \"110\": 2, \"11\": 1}, \"44\": {\"44\": 8, \"74\": 3, \"38\": 1}, \"51\": {\"51\": 2, \"70\": 1, \"114\": 2, \"76\": 2, \"9\": 1, \"100\": 1, \"68\": 1, \"127\": 1, \"53\": 1}, \"6\": {\"6\": 8, \"68\": 1, \"55\": 1, \"91\": 2}, \"73\": {\"73\": 9, \"33\": 1, \"56\": 1, \"31\": 1}, \"78\": {\"78\": 8, \"10\": 1, \"21\": 1, \"88\": 2}, \"92\": {\"92\": 10, \"28\": 1, \"18\": 1}, \"20\": {\"34\": 1, \"69\": 1, \"20\": 6, \"105\": 1, \"109\": 1, \"107\": 2}, \"17\": {\"104\": 2, \"17\": 9, \"86\": 1}, \"74\": {\"74\": 11, \"44\": 1}, \"19\": {\"45\": 1, \"92\": 1, \"19\": 10}, \"50\": {\"50\": 5, \"73\": 1, \"48\": 1, \"112\": 2, \"17\": 1, \"129\": 2}, \"34\": {\"34\": 9, \"95\": 1, \"6\": 1, \"59\": 1}, \"104\": {\"104\": 5, \"19\": 1, \"31\": 1, \"17\": 1}, \"33\": {\"33\": 7, \"71\": 1, \"31\": 2, \"114\": 1, \"39\": 1}, \"5\": {\"5\": 8, \"32\": 2, \"74\": 2}, \"7\": {\"7\": 11, \"0\": 1}, \"29\": {\"91\": 2, \"29\": 8, \"98\": 2}, \"25\": {\"25\": 10, \"75\": 1, \"29\": 1}, \"124\": {\"37\": 1, \"124\": 9, \"28\": 1, \"112\": 1}, \"117\": {\"117\": 10, \"88\": 1, \"108\": 1}, \"88\": {\"88\": 11, \"78\": 1}, \"61\": {\"61\": 8, \"88\": 1, \"32\": 1, \"81\": 2}, \"86\": {\"86\": 12}, \"116\": {\"116\": 11, \"129\": 1}, \"24\": {\"10\": 1, \"24\": 11}, \"128\": {\"52\": 2, \"33\": 1, \"21\": 1, \"107\": 2, \"28\": 1, \"5\": 1, \"95\": 1, \"77\": 1, \"128\": 1, \"91\": 1}, \"101\": {\"101\": 12}, \"65\": {\"65\": 9, \"73\": 1}, \"36\": {\"36\": 11, \"24\": 1}, \"21\": {\"21\": 12}, \"106\": {\"106\": 12}, \"118\": {\"118\": 7, \"88\": 2, \"122\": 1, \"101\": 1, \"110\": 1}, \"113\": {\"97\": 1, \"93\": 1, \"113\": 6, \"24\": 2, \"11\": 1, \"60\": 1}, \"40\": {\"1\": 1, \"40\": 10, \"99\": 1}, \"93\": {\"93\": 6, \"7\": 1, \"23\": 1}, \"94\": {\"94\": 10, \"36\": 2}, \"103\": {\"103\": 5, \"77\": 2, \"120\": 1, \"108\": 1, \"87\": 1, \"47\": 1, \"54\": 1}, \"110\": {\"110\": 8, \"87\": 1, \"93\": 1, \"62\": 1, \"118\": 1}, \"56\": {\"56\": 8, \"47\": 2, \"100\": 2}, \"39\": {\"39\": 9, \"78\": 1, \"21\": 1, \"88\": 1}, \"109\": {\"39\": 1, \"109\": 9, \"108\": 1, \"10\": 1}, \"67\": {\"104\": 2, \"67\": 4, \"55\": 1, \"19\": 1, \"2\": 1, \"27\": 1, \"63\": 1, \"73\": 1}, \"129\": {\"129\": 6, \"111\": 1, \"112\": 1, \"22\": 1, \"42\": 1, \"119\": 2}, \"30\": {\"30\": 11, \"108\": 1}, \"126\": {\"126\": 8, \"109\": 2, \"24\": 2}, \"87\": {\"21\": 1, \"87\": 10, \"0\": 1}, \"112\": {\"112\": 9, \"128\": 1, \"19\": 2}, \"100\": {\"47\": 2, \"100\": 4, \"99\": 1, \"49\": 2, \"3\": 1, \"95\": 1, \"46\": 1}, \"79\": {\"79\": 10}, \"81\": {\"81\": 9, \"67\": 1, \"121\": 1, \"108\": 1}, \"76\": {\"76\": 6, \"34\": 1, \"40\": 1, \"85\": 1, \"14\": 1}, \"47\": {\"47\": 9, \"21\": 1, \"56\": 2}, \"77\": {\"77\": 11, \"98\": 1}, \"23\": {\"103\": 1, \"0\": 3, \"110\": 2, \"108\": 1, \"106\": 2, \"23\": 1, \"78\": 1, \"87\": 1}, \"18\": {\"18\": 12}, \"49\": {\"84\": 2, \"7\": 2, \"128\": 1, \"105\": 1, \"3\": 1, \"49\": 4, \"31\": 1}, \"41\": {\"100\": 1, \"41\": 6, \"125\": 1, \"22\": 1, \"19\": 1, \"4\": 1, \"64\": 1}, \"32\": {\"85\": 1, \"76\": 2, \"20\": 2, \"5\": 1, \"32\": 3, \"46\": 1, \"77\": 1, \"33\": 1}, \"107\": {\"107\": 8, \"32\": 2}, \"80\": {\"80\": 11, \"116\": 1}, \"105\": {\"105\": 8, \"32\": 1, \"24\": 1}, \"38\": {\"18\": 2, \"38\": 7, \"5\": 1}}, \"Wisig_1\": {\"108\": {\"108\": 9, \"88\": 1}, \"40\": {\"40\": 8, \"23\": 1, \"14\": 1, \"71\": 1, \"105\": 1}, \"68\": {\"3\": 1, \"68\": 9, \"81\": 1, \"91\": 1}, \"23\": {\"110\": 1, \"26\": 1, \"74\": 1, \"122\": 1, \"23\": 5, \"69\": 1, \"12\": 2}, \"26\": {\"70\": 1, \"26\": 9, \"44\": 2}, \"64\": {\"102\": 1, \"64\": 8, \"61\": 1, \"129\": 1, \"66\": 1}, \"22\": {\"22\": 9, \"104\": 1, \"67\": 1, \"61\": 1}, \"3\": {\"3\": 11, \"33\": 1}, \"4\": {\"102\": 2, \"4\": 9, \"78\": 1}, \"70\": {\"70\": 10, \"78\": 1, \"10\": 1}, \"57\": {\"57\": 12}, \"79\": {\"79\": 12}, \"9\": {\"9\": 6, \"3\": 1, \"34\": 1, \"75\": 1, \"47\": 1, \"52\": 1, \"31\": 1}, \"89\": {\"9\": 1, \"3\": 1, \"89\": 7, \"49\": 1, \"34\": 1, \"85\": 1}, \"110\": {\"110\": 12}, \"102\": {\"102\": 11, \"129\": 1}, \"31\": {\"31\": 9, \"40\": 1, \"84\": 1, \"62\": 1}, \"58\": {\"58\": 12}, \"47\": {\"47\": 7, \"75\": 2, \"19\": 1, \"9\": 1, \"74\": 1}, \"24\": {\"24\": 7, \"109\": 2, \"30\": 1, \"88\": 2}, \"19\": {\"19\": 7, \"73\": 1, \"1\": 1, \"54\": 2, \"53\": 1}, \"11\": {\"11\": 9, \"94\": 1, \"93\": 2}, \"52\": {\"52\": 11, \"29\": 1}, \"17\": {\"17\": 10, \"111\": 2}, \"25\": {\"19\": 1, \"25\": 8, \"42\": 2, \"91\": 1}, \"69\": {\"69\": 12}, \"96\": {\"11\": 1, \"96\": 7, \"39\": 1, \"84\": 1, \"93\": 1, \"43\": 1}, \"109\": {\"109\": 11, \"24\": 1}, \"115\": {\"115\": 11, \"48\": 1}, \"83\": {\"83\": 2, \"47\": 1, \"100\": 1, \"20\": 1, \"91\": 1, \"4\": 1, \"82\": 2, \"103\": 2, \"31\": 1}, \"84\": {\"7\": 1, \"84\": 8, \"96\": 1, \"71\": 1, \"12\": 1}, \"119\": {\"119\": 8, \"2\": 2}, \"122\": {\"122\": 8, \"126\": 1, \"87\": 1}, \"99\": {\"1\": 1, \"99\": 8, \"107\": 1, \"14\": 1, \"103\": 1}, \"1\": {\"74\": 1, \"1\": 11}, \"74\": {\"74\": 7, \"111\": 1, \"9\": 1, \"81\": 1, \"129\": 1, \"23\": 1}, \"85\": {\"85\": 9, \"53\": 1, \"38\": 2}, \"127\": {\"127\": 11, \"71\": 1}, \"111\": {\"111\": 12}, \"53\": {\"53\": 9, \"114\": 1, \"31\": 1, \"98\": 1}, \"88\": {\"88\": 10, \"108\": 1, \"10\": 1}, \"65\": {\"65\": 6, \"64\": 1, \"102\": 2, \"104\": 1}, \"7\": {\"7\": 12}, \"16\": {\"16\": 10, \"10\": 1, \"18\": 1}, \"128\": {\"53\": 1, \"28\": 3, \"128\": 2, \"38\": 1, \"95\": 2, \"42\": 2, \"100\": 1}, \"34\": {\"34\": 9, \"75\": 1, \"40\": 1, \"107\": 1}, \"129\": {\"129\": 8, \"46\": 2, \"80\": 1, \"117\": 1}, \"43\": {\"43\": 12}, \"92\": {\"92\": 12}, \"28\": {\"28\": 7, \"129\": 1, \"99\": 2, \"22\": 1, \"116\": 1}, \"27\": {\"27\": 8, \"30\": 3, \"126\": 1}, \"114\": {\"114\": 12}, \"73\": {\"28\": 1, \"73\": 11}, \"0\": {\"0\": 11, \"15\": 1}, \"104\": {\"129\": 1, \"104\": 9, \"22\": 1, \"5\": 1}, \"118\": {\"118\": 12}, \"41\": {\"41\": 9, \"57\": 1, \"111\": 1, \"83\": 1}, \"49\": {\"89\": 2, \"33\": 1, \"72\": 2, \"19\": 1, \"32\": 2, \"85\": 1, \"105\": 1, \"1\": 1, \"49\": 1}, \"14\": {\"14\": 12}, \"46\": {\"66\": 1, \"22\": 1, \"46\": 5, \"109\": 1, \"54\": 1, \"17\": 1, \"57\": 2}, \"33\": {\"33\": 12}, \"76\": {\"76\": 11, \"3\": 1}, \"125\": {\"125\": 12}, \"86\": {\"104\": 1, \"86\": 7, \"4\": 1, \"124\": 1}, \"66\": {\"129\": 1, \"66\": 5, \"119\": 1, \"64\": 2, \"61\": 2, \"51\": 1}, \"5\": {\"5\": 12}, \"117\": {\"117\": 12}, \"75\": {\"75\": 8, \"72\": 1, \"83\": 1, \"51\": 1, \"32\": 1}, \"61\": {\"61\": 8, \"129\": 1, \"64\": 1, \"57\": 2}, \"50\": {\"50\": 6, \"1\": 1, \"81\": 1, \"27\": 1, \"99\": 1, \"74\": 1, \"73\": 1}, \"67\": {\"67\": 8, \"117\": 1, \"104\": 1}, \"18\": {\"18\": 12}, \"98\": {\"98\": 11, \"114\": 1}, \"55\": {\"55\": 10}, \"32\": {\"32\": 11, \"56\": 1}, \"120\": {\"120\": 12}, \"97\": {\"97\": 9, \"36\": 1, \"93\": 2}, \"126\": {\"97\": 1, \"126\": 7, \"122\": 1, \"39\": 1, \"43\": 1, \"11\": 1}, \"45\": {\"46\": 2, \"45\": 7, \"67\": 1, \"79\": 2}, \"78\": {\"78\": 8, \"10\": 1, \"21\": 1}, \"100\": {\"100\": 10, \"19\": 1, \"128\": 1}, \"107\": {\"107\": 11, \"49\": 1}, \"93\": {\"93\": 10, \"24\": 1, \"97\": 1}, \"77\": {\"77\": 11, \"91\": 1}, \"63\": {\"63\": 11, \"119\": 1}, \"112\": {\"112\": 7, \"77\": 1, \"111\": 1, \"5\": 1, \"55\": 1, \"57\": 1}, \"113\": {\"113\": 10, \"62\": 2}, \"103\": {\"92\": 2, \"103\": 5, \"47\": 1, \"52\": 2}, \"71\": {\"71\": 11, \"127\": 1}, \"30\": {\"30\": 10, \"24\": 1, \"27\": 1}, \"90\": {\"90\": 9, \"64\": 1, \"82\": 2}, \"37\": {\"71\": 1, \"37\": 8, \"112\": 1, \"77\": 1, \"6\": 1}, \"60\": {\"60\": 4, \"15\": 1, \"7\": 1, \"39\": 1, \"72\": 1, \"12\": 1, \"23\": 1, \"106\": 2}, \"15\": {\"15\": 12}, \"39\": {\"39\": 11, \"93\": 1}, \"72\": {\"72\": 6, \"49\": 1, \"75\": 4, \"9\": 1}, \"54\": {\"54\": 8, \"38\": 1, \"47\": 2, \"53\": 1}, \"35\": {\"96\": 1, \"35\": 8, \"87\": 1, \"84\": 1, \"12\": 1}, \"2\": {\"86\": 1, \"2\": 11}, \"94\": {\"15\": 2, \"94\": 9, \"109\": 1}, \"42\": {\"42\": 4, \"53\": 1, \"19\": 2, \"80\": 1, \"5\": 1, \"45\": 1, \"66\": 1, \"128\": 1}, \"81\": {\"81\": 7, \"44\": 1, \"107\": 2, \"50\": 2}, \"8\": {\"15\": 1, \"8\": 8, \"93\": 2, \"0\": 1}, \"87\": {\"87\": 10, \"110\": 1, \"97\": 1}, \"6\": {\"6\": 4, \"42\": 1, \"91\": 1, \"111\": 2, \"59\": 1, \"55\": 1, \"54\": 1, \"22\": 1}, \"36\": {\"36\": 7, \"94\": 3, \"15\": 2}, \"91\": {\"91\": 10, \"56\": 1, \"85\": 1}, \"56\": {\"72\": 1, \"56\": 9, \"51\": 2}, \"80\": {\"80\": 8, \"79\": 1, \"48\": 1, \"56\": 1, \"45\": 1}, \"124\": {\"124\": 6, \"5\": 3, \"111\": 1}, \"44\": {\"44\": 12}, \"13\": {\"119\": 1, \"13\": 7, \"102\": 2, \"123\": 1, \"79\": 1}, \"10\": {\"10\": 8, \"88\": 2, \"21\": 1, \"78\": 1}, \"59\": {\"59\": 9, \"82\": 1, \"66\": 1, \"6\": 1}, \"95\": {\"95\": 11, \"33\": 1}, \"105\": {\"105\": 8, \"112\": 1, \"35\": 1, \"15\": 1, \"16\": 1}, \"101\": {\"101\": 12}, \"20\": {\"20\": 12}, \"48\": {\"48\": 10, \"79\": 1, \"123\": 1}, \"106\": {\"106\": 12}, \"51\": {\"51\": 9, \"75\": 1, \"29\": 1, \"56\": 1}, \"21\": {\"21\": 10, \"78\": 2}, \"123\": {\"123\": 11, \"67\": 1}, \"121\": {\"121\": 10, \"116\": 2}, \"38\": {\"38\": 9, \"107\": 1, \"3\": 1, \"85\": 1}, \"62\": {\"62\": 11, \"60\": 1}, \"29\": {\"29\": 12}, \"82\": {\"82\": 9, \"28\": 2, \"25\": 1}, \"116\": {\"116\": 8, \"102\": 1, \"2\": 2, \"119\": 1}, \"12\": {\"12\": 5, \"127\": 1, \"101\": 2}}, \"Wisig_2\": {\"91\": {\"17\": 2, \"91\": 5, \"29\": 2, \"124\": 1, \"77\": 1, \"53\": 1}, \"12\": {\"106\": 1, \"110\": 2, \"12\": 8, \"109\": 1}, \"101\": {\"101\": 9, \"0\": 1}, \"121\": {\"117\": 1, \"121\": 7, \"110\": 1, \"81\": 2, \"92\": 1}, \"118\": {\"118\": 12}, \"10\": {\"88\": 2, \"10\": 6, \"24\": 2, \"70\": 2}, \"117\": {\"117\": 11, \"121\": 1}, \"110\": {\"110\": 9, \"101\": 1, \"97\": 2}, \"97\": {\"97\": 8, \"121\": 1, \"15\": 1, \"22\": 1, \"43\": 1}, \"28\": {\"88\": 1, \"28\": 3, \"41\": 1, \"103\": 3, \"50\": 1, \"76\": 1, \"55\": 1, \"25\": 1}, \"88\": {\"88\": 11, \"24\": 1}, \"17\": {\"86\": 2, \"112\": 2, \"129\": 2, \"78\": 1, \"4\": 1, \"17\": 2, \"59\": 2}, \"126\": {\"88\": 1, \"126\": 10, \"109\": 1}, \"33\": {\"33\": 12}, \"86\": {\"86\": 12}, \"106\": {\"106\": 11, \"97\": 1}, \"54\": {\"54\": 11, \"56\": 1}, \"125\": {\"125\": 12}, \"83\": {\"83\": 8, \"57\": 1, \"71\": 1, \"84\": 1, \"18\": 1}, \"98\": {\"98\": 6, \"53\": 1, \"91\": 2, \"77\": 1, \"19\": 2}, \"11\": {\"118\": 1, \"11\": 9, \"8\": 1, \"27\": 1}, \"32\": {\"32\": 7, \"34\": 2, \"114\": 1, \"3\": 2}, \"42\": {\"61\": 1, \"98\": 1, \"42\": 4, \"117\": 2, \"129\": 2, \"115\": 2}, \"103\": {\"103\": 10, \"52\": 1, \"111\": 1}, \"87\": {\"11\": 1, \"87\": 8, \"94\": 1, \"108\": 1, \"126\": 1}, \"61\": {\"87\": 1, \"83\": 1, \"61\": 5, \"107\": 1, \"53\": 1, \"31\": 1, \"65\": 1, \"1\": 1}, \"13\": {\"13\": 12}, \"4\": {\"4\": 12}, \"15\": {\"15\": 10}, \"120\": {\"120\": 9, \"81\": 1, \"116\": 1, \"99\": 1}, \"80\": {\"80\": 12}, \"72\": {\"72\": 7, \"31\": 1, \"69\": 1, \"53\": 1}, \"64\": {\"64\": 8, \"98\": 1, \"45\": 1, \"61\": 2}, \"81\": {\"81\": 8, \"89\": 1, \"99\": 1, \"19\": 1, \"121\": 1}, \"102\": {\"102\": 12}, \"76\": {\"76\": 9, \"66\": 1, \"54\": 1, \"103\": 1}, \"49\": {\"64\": 1, \"76\": 1, \"47\": 1, \"40\": 1, \"75\": 1, \"49\": 3, \"55\": 1, \"21\": 1}, \"129\": {\"129\": 10, \"42\": 2}, \"89\": {\"89\": 10, \"57\": 1, \"38\": 1}, \"52\": {\"52\": 9, \"58\": 2, \"64\": 1}, \"35\": {\"35\": 9, \"127\": 1, \"95\": 1, \"32\": 1}, \"53\": {\"53\": 4, \"98\": 1, \"128\": 1, \"122\": 1, \"61\": 2, \"66\": 1, \"33\": 1, \"70\": 1}, \"112\": {\"54\": 1, \"112\": 7, \"50\": 2, \"37\": 2}, \"105\": {\"105\": 11, \"7\": 1}, \"100\": {\"112\": 1, \"100\": 9, \"84\": 1, \"51\": 1}, \"9\": {\"9\": 11, \"58\": 1}, \"82\": {\"92\": 1, \"82\": 9, \"129\": 1, \"89\": 1}, \"51\": {\"51\": 6, \"9\": 1, \"109\": 2, \"55\": 1, \"127\": 1, \"74\": 1}, \"21\": {\"21\": 12}, \"92\": {\"82\": 1, \"17\": 1, \"29\": 2, \"34\": 1, \"59\": 1, \"92\": 3, \"31\": 1, \"84\": 1, \"57\": 1}, \"69\": {\"69\": 11, \"12\": 1}, \"77\": {\"17\": 1, \"77\": 7, \"91\": 2, \"98\": 2}, \"50\": {\"50\": 7, \"123\": 1, \"31\": 1, \"128\": 1, \"44\": 1, \"129\": 1}, \"36\": {\"36\": 12}, \"16\": {\"16\": 9, \"24\": 1, \"62\": 1, \"78\": 1}, \"8\": {\"18\": 1, \"8\": 9, \"0\": 1, \"76\": 1}, \"127\": {\"127\": 12}, \"46\": {\"46\": 9, \"67\": 1}, \"84\": {\"84\": 12}, \"18\": {\"18\": 12}, \"123\": {\"123\": 8, \"82\": 1, \"67\": 1}, \"56\": {\"56\": 6, \"1\": 2, \"3\": 1, \"58\": 1, \"107\": 2}, \"26\": {\"26\": 12}, \"14\": {\"88\": 1, \"14\": 7, \"3\": 1, \"96\": 1, \"43\": 1, \"27\": 1}, \"109\": {\"109\": 7, \"88\": 1, \"108\": 2, \"78\": 1, \"24\": 1}, \"66\": {\"66\": 4, \"76\": 1, \"55\": 2, \"68\": 1, \"86\": 1, \"53\": 1, \"64\": 2}, \"24\": {\"24\": 11, \"88\": 1}, \"71\": {\"65\": 1, \"71\": 3, \"75\": 1, \"105\": 1, \"40\": 4, \"84\": 1, \"62\": 1}, \"65\": {\"65\": 10, \"25\": 1, \"64\": 1}, \"75\": {\"56\": 1, \"75\": 7, \"25\": 1, \"54\": 1, \"34\": 1, \"21\": 1}, \"111\": {\"111\": 12}, \"30\": {\"30\": 12}, \"85\": {\"29\": 2, \"85\": 7, \"68\": 1, \"59\": 1, \"112\": 1}, \"113\": {\"113\": 8, \"21\": 1, \"72\": 1}, \"45\": {\"45\": 6, \"112\": 1, \"85\": 3, \"128\": 1, \"37\": 1}, \"29\": {\"29\": 10, \"17\": 1, \"67\": 1}, \"20\": {\"18\": 1, \"20\": 6, \"44\": 2, \"89\": 1, \"61\": 1, \"1\": 1}, \"25\": {\"25\": 10, \"103\": 1, \"28\": 1}, \"0\": {\"0\": 9, \"36\": 1, \"12\": 1, \"11\": 1}, \"68\": {\"68\": 11, \"52\": 1}, \"119\": {\"81\": 2, \"119\": 6, \"116\": 1, \"13\": 1, \"2\": 2}, \"90\": {\"38\": 1, \"90\": 10, \"37\": 1}, \"38\": {\"38\": 10, \"67\": 1, \"44\": 1}, \"99\": {\"99\": 9, \"63\": 1, \"81\": 1, \"44\": 1}, \"1\": {\"1\": 9, \"53\": 1, \"61\": 1, \"49\": 1}, \"67\": {\"85\": 2, \"67\": 7, \"28\": 1, \"5\": 1, \"25\": 1}, \"63\": {\"63\": 12}, \"34\": {\"56\": 2, \"34\": 7, \"77\": 1, \"52\": 1, \"35\": 1}, \"108\": {\"108\": 10, \"126\": 1, \"8\": 1}, \"40\": {\"40\": 7, \"62\": 1, \"49\": 2, \"14\": 2}, \"47\": {\"33\": 2, \"59\": 1, \"47\": 4, \"107\": 1, \"73\": 1, \"61\": 1, \"34\": 2}, \"37\": {\"37\": 7, \"111\": 1, \"73\": 1, \"22\": 1, \"112\": 2}, \"78\": {\"21\": 1, \"78\": 11}, \"96\": {\"96\": 8, \"72\": 2, \"1\": 1, \"60\": 1}, \"43\": {\"43\": 6, \"21\": 1, \"8\": 2, \"108\": 2, \"126\": 1}, \"5\": {\"5\": 10}, \"124\": {\"124\": 11, \"41\": 1}, \"44\": {\"44\": 11, \"33\": 1}, \"41\": {\"42\": 1, \"124\": 2, \"41\": 5, \"6\": 1, \"17\": 1, \"8\": 1, \"59\": 1}, \"116\": {\"116\": 11, \"2\": 1}, \"19\": {\"89\": 1, \"54\": 1, \"19\": 6, \"47\": 2, \"85\": 1, \"83\": 1}, \"115\": {\"65\": 2, \"115\": 6, \"2\": 2, \"80\": 2}, \"95\": {\"3\": 3, \"95\": 3, \"70\": 1, \"7\": 1, \"35\": 1, \"40\": 2, \"98\": 1}, \"3\": {\"95\": 2, \"84\": 2, \"3\": 6}, \"59\": {\"86\": 1, \"5\": 1, \"59\": 7, \"22\": 1, \"104\": 1, \"91\": 1}, \"55\": {\"55\": 9, \"37\": 1, \"84\": 1, \"89\": 1}, \"70\": {\"70\": 9, \"109\": 1, \"10\": 2}, \"6\": {\"6\": 10, \"124\": 2}, \"2\": {\"48\": 1, \"2\": 8, \"115\": 2, \"119\": 1}, \"48\": {\"48\": 9, \"2\": 1, \"119\": 1, \"115\": 1}, \"23\": {\"44\": 1, \"122\": 2, \"23\": 4, \"96\": 1, \"69\": 1, \"126\": 1, \"26\": 1, \"87\": 1}, \"7\": {\"7\": 12}, \"122\": {\"122\": 11, \"24\": 1}, \"57\": {\"57\": 7, \"108\": 1, \"83\": 2, \"30\": 1, \"92\": 1}, \"39\": {\"39\": 6, \"10\": 1, \"70\": 2, \"88\": 1}, \"79\": {\"79\": 9, \"124\": 2, \"125\": 1}, \"27\": {\"27\": 10}, \"74\": {\"74\": 4, \"70\": 1, \"1\": 1, \"14\": 1, \"128\": 1, \"62\": 1, \"78\": 1, \"8\": 1, \"47\": 1}, \"73\": {\"50\": 1, \"73\": 8, \"53\": 1, \"54\": 2}, \"62\": {\"62\": 12}, \"107\": {\"107\": 8, \"47\": 1, \"114\": 1, \"3\": 1, \"76\": 1}, \"128\": {\"128\": 5, \"53\": 2, \"9\": 3, \"33\": 2}, \"60\": {\"16\": 2, \"60\": 6, \"74\": 1, \"95\": 1, \"23\": 2}, \"114\": {\"114\": 11, \"34\": 1}, \"22\": {\"124\": 2, \"22\": 7, \"73\": 2, \"59\": 1}, \"93\": {\"93\": 11, \"43\": 1}, \"94\": {\"94\": 9, \"8\": 2, \"88\": 1}, \"31\": {\"53\": 1, \"61\": 1, \"31\": 7, \"84\": 1}, \"104\": {\"111\": 1, \"104\": 10, \"83\": 1}, \"58\": {\"58\": 9, \"9\": 2, \"68\": 1}}}, \"per_domain_accuracy\": {\"ORACLE.run114\": {\"accuracy\": 0.9184895833333333, \"source?\": true}, \"ORACLE.run120\": {\"accuracy\": 0.94375, \"source?\": true}, \"ORACLE.run138\": {\"accuracy\": 0.9325520833333333, \"source?\": true}, \"ORACLE.run18\": {\"accuracy\": 0.9388020833333334, \"source?\": true}, \"ORACLE.run150\": {\"accuracy\": 0.9447916666666667, \"source?\": true}, \"ORACLE.run132\": {\"accuracy\": 0.9234375, \"source?\": true}, \"ORACLE.run126\": {\"accuracy\": 0.8736979166666666, \"source?\": true}, \"ORACLE.run144\": {\"accuracy\": 0.86484375, \"source?\": true}, \"Wisig_3\": {\"accuracy\": 0.71875, \"source?\": false}, \"Wisig_4\": {\"accuracy\": 0.6985677083333334, \"source?\": false}, \"Wisig_1\": {\"accuracy\": 0.7662760416666666, \"source?\": false}, \"Wisig_2\": {\"accuracy\": 0.71875, \"source?\": false}}}, \"history\": {\"epoch_indices\": [1, 2, 3, 4, 5, 6, 7, 8], \"train_label_loss\": [0.35167435903221345, 12.906409667315398, 0.22748152705976932, 0.43926947197711946, 0.23584926998716713, 0.20211207524684835, 0.19766675669345118, 0.18552777064940615], \"source_val_label_loss\": [379.46734619140625, 0.2662706673145294, 0.2929399609565735, 0.2419649064540863, 0.21906717121601105, 0.19501018524169922, 0.19641871750354767, 0.18648576736450195], \"target_val_label_loss\": [439670.9375, 71448.25, 69450.71875, 60316.12109375, 127855.421875, 139221.65625, 90737.1171875, 104728.21875], \"source_val_acc_label\": [0.54921875, 0.905859375, 0.9025065104166666, 0.9175455729166667, 0.92294921875, 0.93369140625, 0.9299479166666667, 0.93486328125], \"target_val_acc_label\": [0.6827799479166666, 0.6521809895833334, 0.6637369791666666, 0.7255859375, 0.6962890625, 0.6902669270833334, 0.6798502604166666, 0.69287109375]}, \"dataset_metrics\": {\"source\": {\"train\": {\"n_unique_x\": 179200, \"n_unique_y\": 16, \"n_batch/episode\": 6720}, \"val\": {\"n_unique_x\": 38400, \"n_unique_y\": 16, \"n_batch/episode\": 960}, \"test\": {\"n_unique_x\": 38400, \"n_unique_y\": 16, \"n_batch/episode\": 960}}, \"target\": {\"train\": {\"n_unique_x\": 36400, \"n_unique_y\": 130, \"n_batch/episode\": 1347}, \"val\": {\"n_unique_x\": 7800, \"n_unique_y\": 130, \"n_batch/episode\": 192}, \"test\": {\"n_unique_x\": 7800, \"n_unique_y\": 130, \"n_batch/episode\": 192}}}}'"
      ]
     },
     "execution_count": 29,
     "metadata": {},
     "output_type": "execute_result"
    }
   ],
   "source": [
    "json.dumps(experiment)"
   ]
  }
 ],
 "metadata": {
  "celltoolbar": "Tags",
  "kernelspec": {
   "display_name": "Python 3 (ipykernel)",
   "language": "python",
   "name": "python3"
  },
  "language_info": {
   "codemirror_mode": {
    "name": "ipython",
    "version": 3
   },
   "file_extension": ".py",
   "mimetype": "text/x-python",
   "name": "python",
   "nbconvert_exporter": "python",
   "pygments_lexer": "ipython3",
   "version": "3.8.10"
  },
  "papermill": {
   "default_parameters": {},
   "duration": 1515.666093,
   "end_time": "2022-03-07T08:09:10.987546",
   "environment_variables": {},
   "exception": null,
   "input_path": "/mnt/wd500GB/CSC500/csc500-main/csc500-notebooks/templates/tl_ptn_template.ipynb",
   "output_path": "trial.ipynb",
   "parameters": {
    "parameters": {
     "BEST_MODEL_PATH": "./best_model.pth",
     "NUM_LOGS_PER_EPOCH": 10,
     "criteria_for_best": "target_loss",
     "dataset_seed": 1337,
     "datasets": [
      {
       "domain_prefix": "Wisig_",
       "domains": [
        1,
        2,
        3,
        4
       ],
       "episode_transforms": [],
       "labels": [
        "1-10",
        "1-12",
        "1-14",
        "1-16",
        "1-18",
        "1-19",
        "1-8",
        "10-11",
        "10-17",
        "10-4",
        "10-7",
        "11-1",
        "11-10",
        "11-19",
        "11-20",
        "11-4",
        "11-7",
        "12-19",
        "12-20",
        "12-7",
        "13-14",
        "13-18",
        "13-19",
        "13-20",
        "13-3",
        "13-7",
        "14-10",
        "14-11",
        "14-12",
        "14-13",
        "14-14",
        "14-19",
        "14-20",
        "14-7",
        "14-8",
        "14-9",
        "15-1",
        "15-19",
        "15-6",
        "16-1",
        "16-16",
        "16-19",
        "16-20",
        "17-10",
        "17-11",
        "18-1",
        "18-10",
        "18-11",
        "18-12",
        "18-13",
        "18-14",
        "18-15",
        "18-16",
        "18-17",
        "18-19",
        "18-2",
        "18-20",
        "18-4",
        "18-5",
        "18-7",
        "18-8",
        "18-9",
        "19-1",
        "19-10",
        "19-11",
        "19-12",
        "19-13",
        "19-14",
        "19-15",
        "19-19",
        "19-2",
        "19-20",
        "19-3",
        "19-4",
        "19-6",
        "19-7",
        "19-8",
        "19-9",
        "2-1",
        "2-13",
        "2-15",
        "2-3",
        "2-4",
        "2-5",
        "2-6",
        "2-7",
        "2-8",
        "20-1",
        "20-12",
        "20-14",
        "20-15",
        "20-16",
        "20-18",
        "20-19",
        "20-20",
        "20-3",
        "20-4",
        "20-5",
        "20-7",
        "20-8",
        "3-1",
        "3-13",
        "3-18",
        "3-2",
        "3-8",
        "4-1",
        "4-10",
        "4-11",
        "5-1",
        "5-5",
        "6-1",
        "6-15",
        "6-6",
        "7-10",
        "7-11",
        "7-12",
        "7-13",
        "7-14",
        "7-7",
        "7-8",
        "7-9",
        "8-1",
        "8-13",
        "8-14",
        "8-18",
        "8-20",
        "8-3",
        "8-8",
        "9-1",
        "9-7"
       ],
       "num_examples_per_domain_per_label": 100,
       "pickle_path": "/mnt/wd500GB/CSC500/csc500-main/datasets/wisig.node3-19.stratified_ds.2022A.pkl",
       "source_or_target_dataset": "target",
       "x_transforms": []
      },
      {
       "domain_prefix": "ORACLE.run1",
       "domains": [
        32,
        38,
        8,
        44,
        14,
        50,
        20,
        26
       ],
       "episode_transforms": [],
       "labels": [
        "3123D52",
        "3123D65",
        "3123D79",
        "3123D80",
        "3123D54",
        "3123D70",
        "3123D7B",
        "3123D89",
        "3123D58",
        "3123D76",
        "3123D7D",
        "3123EFE",
        "3123D64",
        "3123D78",
        "3123D7E",
        "3124E4A"
       ],
       "num_examples_per_domain_per_label": 2000,
       "pickle_path": "/mnt/wd500GB/CSC500/csc500-main/datasets/oracle.Run1_framed_2000Examples_stratified_ds.2022A.pkl",
       "source_or_target_dataset": "source",
       "x_transforms": []
      }
     ],
     "device": "cuda",
     "experiment_name": "tl_1_wisig-oracle.run1",
     "lr": 0.001,
     "n_epoch": 50,
     "n_query": 2,
     "n_shot": 3,
     "n_way": 16,
     "patience": 3,
     "seed": 1337,
     "test_k_factor": 2,
     "torch_default_dtype": "torch.float32",
     "train_k_factor": 3,
     "val_k_factor": 2,
     "x_net": [
      {
       "class": "nnReshape",
       "kargs": {
        "shape": [
         -1,
         1,
         2,
         256
        ]
       }
      },
      {
       "class": "Conv2d",
       "kargs": {
        "bias": false,
        "in_channels": 1,
        "kernel_size": [
         1,
         7
        ],
        "out_channels": 256,
        "padding": [
         0,
         3
        ]
       }
      },
      {
       "class": "ReLU",
       "kargs": {
        "inplace": true
       }
      },
      {
       "class": "BatchNorm2d",
       "kargs": {
        "num_features": 256
       }
      },
      {
       "class": "Conv2d",
       "kargs": {
        "bias": true,
        "in_channels": 256,
        "kernel_size": [
         2,
         7
        ],
        "out_channels": 80,
        "padding": [
         0,
         3
        ]
       }
      },
      {
       "class": "ReLU",
       "kargs": {
        "inplace": true
       }
      },
      {
       "class": "BatchNorm2d",
       "kargs": {
        "num_features": 80
       }
      },
      {
       "class": "Flatten",
       "kargs": {}
      },
      {
       "class": "Linear",
       "kargs": {
        "in_features": 20480,
        "out_features": 256
       }
      },
      {
       "class": "ReLU",
       "kargs": {
        "inplace": true
       }
      },
      {
       "class": "BatchNorm1d",
       "kargs": {
        "num_features": 256
       }
      },
      {
       "class": "Linear",
       "kargs": {
        "in_features": 256,
        "out_features": 256
       }
      }
     ]
    }
   },
   "start_time": "2022-03-07T07:43:55.321453",
   "version": "2.3.4"
  }
 },
 "nbformat": 4,
 "nbformat_minor": 5
}