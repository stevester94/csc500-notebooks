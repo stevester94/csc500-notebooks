{
 "cells": [
  {
   "cell_type": "markdown",
   "id": "9fea5f46",
   "metadata": {
    "papermill": {
     "duration": 0.018398,
     "end_time": "2022-03-10T21:07:02.881880",
     "exception": false,
     "start_time": "2022-03-10T21:07:02.863482",
     "status": "completed"
    },
    "tags": []
   },
   "source": [
    "# Transfer Learning Template"
   ]
  },
  {
   "cell_type": "code",
   "execution_count": 1,
   "id": "0902182a",
   "metadata": {
    "execution": {
     "iopub.execute_input": "2022-03-10T21:07:02.921960Z",
     "iopub.status.busy": "2022-03-10T21:07:02.921479Z",
     "iopub.status.idle": "2022-03-10T21:07:03.810509Z",
     "shell.execute_reply": "2022-03-10T21:07:03.810197Z"
    },
    "papermill": {
     "duration": 0.916072,
     "end_time": "2022-03-10T21:07:03.810577",
     "exception": false,
     "start_time": "2022-03-10T21:07:02.894505",
     "status": "completed"
    },
    "tags": []
   },
   "outputs": [],
   "source": [
    "%load_ext autoreload\n",
    "%autoreload 2\n",
    "%matplotlib inline\n",
    "\n",
    "    \n",
    "import os, json, sys, time, random\n",
    "import numpy as np\n",
    "import torch\n",
    "from torch.optim import Adam\n",
    "from  easydict import EasyDict\n",
    "import matplotlib.pyplot as plt\n",
    "\n",
    "from steves_models.steves_ptn import Steves_Prototypical_Network\n",
    "\n",
    "from steves_utils.lazy_iterable_wrapper import Lazy_Iterable_Wrapper\n",
    "from steves_utils.iterable_aggregator import Iterable_Aggregator\n",
    "from steves_utils.ptn_train_eval_test_jig import  PTN_Train_Eval_Test_Jig\n",
    "from steves_utils.torch_sequential_builder import build_sequential\n",
    "from steves_utils.torch_utils import get_dataset_metrics, ptn_confusion_by_domain_over_dataloader\n",
    "from steves_utils.utils_v2 import (per_domain_accuracy_from_confusion, get_datasets_base_path)\n",
    "from steves_utils.PTN.utils import independent_accuracy_assesment\n",
    "\n",
    "from torch.utils.data import DataLoader\n",
    "\n",
    "from steves_utils.stratified_dataset.episodic_accessor import Episodic_Accessor_Factory\n",
    "\n",
    "from steves_utils.ptn_do_report import (\n",
    "    get_loss_curve,\n",
    "    get_results_table,\n",
    "    get_parameters_table,\n",
    "    get_domain_accuracies,\n",
    ")\n",
    "\n",
    "from steves_utils.transforms import get_chained_transform"
   ]
  },
  {
   "cell_type": "markdown",
   "id": "41c840b4",
   "metadata": {
    "papermill": {
     "duration": 0.012603,
     "end_time": "2022-03-10T21:07:03.841026",
     "exception": false,
     "start_time": "2022-03-10T21:07:03.828423",
     "status": "completed"
    },
    "tags": []
   },
   "source": [
    "# Allowed Parameters\n",
    "These are allowed parameters, not defaults\n",
    "Each of these values need to be present in the injected parameters (the notebook will raise an exception if they are not present)\n",
    "\n",
    "Papermill uses the cell tag \"parameters\" to inject the real parameters below this cell.\n",
    "Enable tags to see what I mean"
   ]
  },
  {
   "cell_type": "code",
   "execution_count": 2,
   "id": "fd44eb83",
   "metadata": {
    "execution": {
     "iopub.execute_input": "2022-03-10T21:07:03.867970Z",
     "iopub.status.busy": "2022-03-10T21:07:03.867710Z",
     "iopub.status.idle": "2022-03-10T21:07:03.883626Z",
     "shell.execute_reply": "2022-03-10T21:07:03.883366Z"
    },
    "papermill": {
     "duration": 0.030137,
     "end_time": "2022-03-10T21:07:03.883681",
     "exception": false,
     "start_time": "2022-03-10T21:07:03.853544",
     "status": "completed"
    },
    "tags": []
   },
   "outputs": [],
   "source": [
    "required_parameters = {\n",
    "    \"experiment_name\",\n",
    "    \"lr\",\n",
    "    \"device\",\n",
    "    \"seed\",\n",
    "    \"dataset_seed\",\n",
    "    \"n_shot\",\n",
    "    \"n_query\",\n",
    "    \"n_way\",\n",
    "    \"train_k_factor\",\n",
    "    \"val_k_factor\",\n",
    "    \"test_k_factor\",\n",
    "    \"n_epoch\",\n",
    "    \"patience\",\n",
    "    \"criteria_for_best\",\n",
    "    \"x_net\",\n",
    "    \"datasets\",\n",
    "    \"torch_default_dtype\",\n",
    "    \"NUM_LOGS_PER_EPOCH\",\n",
    "    \"BEST_MODEL_PATH\",\n",
    "}"
   ]
  },
  {
   "cell_type": "code",
   "execution_count": 3,
   "id": "fa3f0049",
   "metadata": {
    "execution": {
     "iopub.execute_input": "2022-03-10T21:07:03.917119Z",
     "iopub.status.busy": "2022-03-10T21:07:03.916703Z",
     "iopub.status.idle": "2022-03-10T21:07:03.931422Z",
     "shell.execute_reply": "2022-03-10T21:07:03.931159Z"
    },
    "papermill": {
     "duration": 0.035201,
     "end_time": "2022-03-10T21:07:03.931480",
     "exception": false,
     "start_time": "2022-03-10T21:07:03.896279",
     "status": "completed"
    },
    "tags": [
     "parameters"
    ]
   },
   "outputs": [],
   "source": [
    "from steves_utils.CORES.utils import (\n",
    "    ALL_NODES,\n",
    "    ALL_NODES_MINIMUM_1000_EXAMPLES,\n",
    "    ALL_DAYS\n",
    ")\n",
    "\n",
    "from steves_utils.ORACLE.utils_v2 import (\n",
    "    ALL_DISTANCES_FEET_NARROWED,\n",
    "    ALL_RUNS,\n",
    "    ALL_SERIAL_NUMBERS,\n",
    ")\n",
    "\n",
    "standalone_parameters = {}\n",
    "standalone_parameters[\"experiment_name\"] = \"STANDALONE PTN\"\n",
    "standalone_parameters[\"lr\"] = 0.001\n",
    "standalone_parameters[\"device\"] = \"cuda\"\n",
    "\n",
    "standalone_parameters[\"seed\"] = 1337\n",
    "standalone_parameters[\"dataset_seed\"] = 1337\n",
    "\n",
    "standalone_parameters[\"n_way\"] = 8\n",
    "standalone_parameters[\"n_shot\"] = 3\n",
    "standalone_parameters[\"n_query\"]  = 2\n",
    "standalone_parameters[\"train_k_factor\"] = 1\n",
    "standalone_parameters[\"val_k_factor\"] = 2\n",
    "standalone_parameters[\"test_k_factor\"] = 2\n",
    "\n",
    "\n",
    "standalone_parameters[\"n_epoch\"] = 50\n",
    "\n",
    "standalone_parameters[\"patience\"] = 10\n",
    "standalone_parameters[\"criteria_for_best\"] = \"source_loss\"\n",
    "\n",
    "standalone_parameters[\"datasets\"] = [\n",
    "    {\n",
    "        \"labels\": ALL_SERIAL_NUMBERS,\n",
    "        \"domains\": ALL_DISTANCES_FEET_NARROWED,\n",
    "        \"num_examples_per_domain_per_label\": 100,\n",
    "        \"pickle_path\": os.path.join(get_datasets_base_path(), \"oracle.Run1_framed_2000Examples_stratified_ds.2022A.pkl\"),\n",
    "        \"source_or_target_dataset\": \"source\",\n",
    "        \"x_transforms\": [\"unit_mag\", \"minus_two\"],\n",
    "        \"episode_transforms\": [],\n",
    "        \"domain_prefix\": \"ORACLE_\"\n",
    "    },\n",
    "    {\n",
    "        \"labels\": ALL_NODES,\n",
    "        \"domains\": ALL_DAYS,\n",
    "        \"num_examples_per_domain_per_label\": 100,\n",
    "        \"pickle_path\": os.path.join(get_datasets_base_path(), \"cores.stratified_ds.2022A.pkl\"),\n",
    "        \"source_or_target_dataset\": \"target\",\n",
    "        \"x_transforms\": [\"unit_power\", \"times_zero\"],\n",
    "        \"episode_transforms\": [],\n",
    "        \"domain_prefix\": \"CORES_\"\n",
    "    }   \n",
    "]\n",
    "\n",
    "standalone_parameters[\"torch_default_dtype\"] = \"torch.float32\" \n",
    "\n",
    "\n",
    "\n",
    "standalone_parameters[\"x_net\"] =     [\n",
    "    {\"class\": \"nnReshape\", \"kargs\": {\"shape\":[-1, 1, 2, 256]}},\n",
    "    {\"class\": \"Conv2d\", \"kargs\": { \"in_channels\":1, \"out_channels\":256, \"kernel_size\":(1,7), \"bias\":False, \"padding\":(0,3), },},\n",
    "    {\"class\": \"ReLU\", \"kargs\": {\"inplace\": True}},\n",
    "    {\"class\": \"BatchNorm2d\", \"kargs\": {\"num_features\":256}},\n",
    "\n",
    "    {\"class\": \"Conv2d\", \"kargs\": { \"in_channels\":256, \"out_channels\":80, \"kernel_size\":(2,7), \"bias\":True, \"padding\":(0,3), },},\n",
    "    {\"class\": \"ReLU\", \"kargs\": {\"inplace\": True}},\n",
    "    {\"class\": \"BatchNorm2d\", \"kargs\": {\"num_features\":80}},\n",
    "    {\"class\": \"Flatten\", \"kargs\": {}},\n",
    "\n",
    "    {\"class\": \"Linear\", \"kargs\": {\"in_features\": 80*256, \"out_features\": 256}}, # 80 units per IQ pair\n",
    "    {\"class\": \"ReLU\", \"kargs\": {\"inplace\": True}},\n",
    "    {\"class\": \"BatchNorm1d\", \"kargs\": {\"num_features\":256}},\n",
    "\n",
    "    {\"class\": \"Linear\", \"kargs\": {\"in_features\": 256, \"out_features\": 256}},\n",
    "]\n",
    "\n",
    "# Parameters relevant to results\n",
    "# These parameters will basically never need to change\n",
    "standalone_parameters[\"NUM_LOGS_PER_EPOCH\"] = 10\n",
    "standalone_parameters[\"BEST_MODEL_PATH\"] = \"./best_model.pth\"\n",
    "\n",
    "\n",
    "\n",
    "\n"
   ]
  },
  {
   "cell_type": "code",
   "execution_count": 4,
   "id": "2d984a35",
   "metadata": {
    "execution": {
     "iopub.execute_input": "2022-03-10T21:07:03.969251Z",
     "iopub.status.busy": "2022-03-10T21:07:03.967981Z",
     "iopub.status.idle": "2022-03-10T21:07:03.980982Z",
     "shell.execute_reply": "2022-03-10T21:07:03.980752Z"
    },
    "papermill": {
     "duration": 0.036464,
     "end_time": "2022-03-10T21:07:03.981039",
     "exception": false,
     "start_time": "2022-03-10T21:07:03.944575",
     "status": "completed"
    },
    "tags": [
     "injected-parameters"
    ]
   },
   "outputs": [],
   "source": [
    "# Parameters\n",
    "parameters = {\n",
    "    \"experiment_name\": \"tl_1_wisig-oracle.run1\",\n",
    "    \"device\": \"cuda\",\n",
    "    \"lr\": 0.001,\n",
    "    \"seed\": 1337,\n",
    "    \"dataset_seed\": 1337,\n",
    "    \"n_shot\": 3,\n",
    "    \"n_query\": 2,\n",
    "    \"train_k_factor\": 3,\n",
    "    \"val_k_factor\": 2,\n",
    "    \"test_k_factor\": 2,\n",
    "    \"torch_default_dtype\": \"torch.float32\",\n",
    "    \"n_epoch\": 50,\n",
    "    \"patience\": 3,\n",
    "    \"criteria_for_best\": \"target_loss\",\n",
    "    \"x_net\": [\n",
    "        {\"class\": \"nnReshape\", \"kargs\": {\"shape\": [-1, 1, 2, 256]}},\n",
    "        {\n",
    "            \"class\": \"Conv2d\",\n",
    "            \"kargs\": {\n",
    "                \"in_channels\": 1,\n",
    "                \"out_channels\": 256,\n",
    "                \"kernel_size\": [1, 7],\n",
    "                \"bias\": False,\n",
    "                \"padding\": [0, 3],\n",
    "            },\n",
    "        },\n",
    "        {\"class\": \"ReLU\", \"kargs\": {\"inplace\": True}},\n",
    "        {\"class\": \"BatchNorm2d\", \"kargs\": {\"num_features\": 256}},\n",
    "        {\n",
    "            \"class\": \"Conv2d\",\n",
    "            \"kargs\": {\n",
    "                \"in_channels\": 256,\n",
    "                \"out_channels\": 80,\n",
    "                \"kernel_size\": [2, 7],\n",
    "                \"bias\": True,\n",
    "                \"padding\": [0, 3],\n",
    "            },\n",
    "        },\n",
    "        {\"class\": \"ReLU\", \"kargs\": {\"inplace\": True}},\n",
    "        {\"class\": \"BatchNorm2d\", \"kargs\": {\"num_features\": 80}},\n",
    "        {\"class\": \"Flatten\", \"kargs\": {}},\n",
    "        {\"class\": \"Linear\", \"kargs\": {\"in_features\": 20480, \"out_features\": 256}},\n",
    "        {\"class\": \"ReLU\", \"kargs\": {\"inplace\": True}},\n",
    "        {\"class\": \"BatchNorm1d\", \"kargs\": {\"num_features\": 256}},\n",
    "        {\"class\": \"Linear\", \"kargs\": {\"in_features\": 256, \"out_features\": 256}},\n",
    "    ],\n",
    "    \"NUM_LOGS_PER_EPOCH\": 10,\n",
    "    \"BEST_MODEL_PATH\": \"./best_model.pth\",\n",
    "    \"n_way\": 16,\n",
    "    \"datasets\": [\n",
    "        {\n",
    "            \"labels\": [\n",
    "                \"1-10\",\n",
    "                \"1-12\",\n",
    "                \"1-14\",\n",
    "                \"1-16\",\n",
    "                \"1-18\",\n",
    "                \"1-19\",\n",
    "                \"1-8\",\n",
    "                \"10-11\",\n",
    "                \"10-17\",\n",
    "                \"10-4\",\n",
    "                \"10-7\",\n",
    "                \"11-1\",\n",
    "                \"11-10\",\n",
    "                \"11-19\",\n",
    "                \"11-20\",\n",
    "                \"11-4\",\n",
    "                \"11-7\",\n",
    "                \"12-19\",\n",
    "                \"12-20\",\n",
    "                \"12-7\",\n",
    "                \"13-14\",\n",
    "                \"13-18\",\n",
    "                \"13-19\",\n",
    "                \"13-20\",\n",
    "                \"13-3\",\n",
    "                \"13-7\",\n",
    "                \"14-10\",\n",
    "                \"14-11\",\n",
    "                \"14-12\",\n",
    "                \"14-13\",\n",
    "                \"14-14\",\n",
    "                \"14-19\",\n",
    "                \"14-20\",\n",
    "                \"14-7\",\n",
    "                \"14-8\",\n",
    "                \"14-9\",\n",
    "                \"15-1\",\n",
    "                \"15-19\",\n",
    "                \"15-6\",\n",
    "                \"16-1\",\n",
    "                \"16-16\",\n",
    "                \"16-19\",\n",
    "                \"16-20\",\n",
    "                \"17-10\",\n",
    "                \"17-11\",\n",
    "                \"18-1\",\n",
    "                \"18-10\",\n",
    "                \"18-11\",\n",
    "                \"18-12\",\n",
    "                \"18-13\",\n",
    "                \"18-14\",\n",
    "                \"18-15\",\n",
    "                \"18-16\",\n",
    "                \"18-17\",\n",
    "                \"18-19\",\n",
    "                \"18-2\",\n",
    "                \"18-20\",\n",
    "                \"18-4\",\n",
    "                \"18-5\",\n",
    "                \"18-7\",\n",
    "                \"18-8\",\n",
    "                \"18-9\",\n",
    "                \"19-1\",\n",
    "                \"19-10\",\n",
    "                \"19-11\",\n",
    "                \"19-12\",\n",
    "                \"19-13\",\n",
    "                \"19-14\",\n",
    "                \"19-15\",\n",
    "                \"19-19\",\n",
    "                \"19-2\",\n",
    "                \"19-20\",\n",
    "                \"19-3\",\n",
    "                \"19-4\",\n",
    "                \"19-6\",\n",
    "                \"19-7\",\n",
    "                \"19-8\",\n",
    "                \"19-9\",\n",
    "                \"2-1\",\n",
    "                \"2-13\",\n",
    "                \"2-15\",\n",
    "                \"2-3\",\n",
    "                \"2-4\",\n",
    "                \"2-5\",\n",
    "                \"2-6\",\n",
    "                \"2-7\",\n",
    "                \"2-8\",\n",
    "                \"20-1\",\n",
    "                \"20-12\",\n",
    "                \"20-14\",\n",
    "                \"20-15\",\n",
    "                \"20-16\",\n",
    "                \"20-18\",\n",
    "                \"20-19\",\n",
    "                \"20-20\",\n",
    "                \"20-3\",\n",
    "                \"20-4\",\n",
    "                \"20-5\",\n",
    "                \"20-7\",\n",
    "                \"20-8\",\n",
    "                \"3-1\",\n",
    "                \"3-13\",\n",
    "                \"3-18\",\n",
    "                \"3-2\",\n",
    "                \"3-8\",\n",
    "                \"4-1\",\n",
    "                \"4-10\",\n",
    "                \"4-11\",\n",
    "                \"5-1\",\n",
    "                \"5-5\",\n",
    "                \"6-1\",\n",
    "                \"6-15\",\n",
    "                \"6-6\",\n",
    "                \"7-10\",\n",
    "                \"7-11\",\n",
    "                \"7-12\",\n",
    "                \"7-13\",\n",
    "                \"7-14\",\n",
    "                \"7-7\",\n",
    "                \"7-8\",\n",
    "                \"7-9\",\n",
    "                \"8-1\",\n",
    "                \"8-13\",\n",
    "                \"8-14\",\n",
    "                \"8-18\",\n",
    "                \"8-20\",\n",
    "                \"8-3\",\n",
    "                \"8-8\",\n",
    "                \"9-1\",\n",
    "                \"9-7\",\n",
    "            ],\n",
    "            \"domains\": [1, 2, 3, 4],\n",
    "            \"num_examples_per_domain_per_label\": 100,\n",
    "            \"pickle_path\": \"/mnt/wd500GB/CSC500/csc500-main/datasets/wisig.node3-19.stratified_ds.2022A.pkl\",\n",
    "            \"source_or_target_dataset\": \"source\",\n",
    "            \"x_transforms\": [],\n",
    "            \"episode_transforms\": [],\n",
    "            \"domain_prefix\": \"Wisig_\",\n",
    "        },\n",
    "        {\n",
    "            \"labels\": [\n",
    "                \"3123D52\",\n",
    "                \"3123D65\",\n",
    "                \"3123D79\",\n",
    "                \"3123D80\",\n",
    "                \"3123D54\",\n",
    "                \"3123D70\",\n",
    "                \"3123D7B\",\n",
    "                \"3123D89\",\n",
    "                \"3123D58\",\n",
    "                \"3123D76\",\n",
    "                \"3123D7D\",\n",
    "                \"3123EFE\",\n",
    "                \"3123D64\",\n",
    "                \"3123D78\",\n",
    "                \"3123D7E\",\n",
    "                \"3124E4A\",\n",
    "            ],\n",
    "            \"domains\": [32, 38, 8, 44, 14, 50, 20, 26],\n",
    "            \"num_examples_per_domain_per_label\": 10000,\n",
    "            \"pickle_path\": \"/mnt/wd500GB/CSC500/csc500-main/datasets/oracle.Run1_10kExamples_stratified_ds.2022A.pkl\",\n",
    "            \"source_or_target_dataset\": \"target\",\n",
    "            \"x_transforms\": [],\n",
    "            \"episode_transforms\": [],\n",
    "            \"domain_prefix\": \"ORACLE.run1\",\n",
    "        },\n",
    "    ],\n",
    "}\n"
   ]
  },
  {
   "cell_type": "code",
   "execution_count": 5,
   "id": "8fa1cc33",
   "metadata": {
    "execution": {
     "iopub.execute_input": "2022-03-10T21:07:04.010803Z",
     "iopub.status.busy": "2022-03-10T21:07:04.010389Z",
     "iopub.status.idle": "2022-03-10T21:07:04.025903Z",
     "shell.execute_reply": "2022-03-10T21:07:04.025645Z"
    },
    "papermill": {
     "duration": 0.031941,
     "end_time": "2022-03-10T21:07:04.025959",
     "exception": false,
     "start_time": "2022-03-10T21:07:03.994018",
     "status": "completed"
    },
    "tags": []
   },
   "outputs": [],
   "source": [
    "# Set this to True if you want to run this template directly\n",
    "STANDALONE = False\n",
    "if STANDALONE:\n",
    "    print(\"parameters not injected, running with standalone_parameters\")\n",
    "    parameters = standalone_parameters\n",
    "\n",
    "if not 'parameters' in locals() and not 'parameters' in globals():\n",
    "    raise Exception(\"Parameter injection failed\")\n",
    "\n",
    "#Use an easy dict for all the parameters\n",
    "p = EasyDict(parameters)\n",
    "\n",
    "supplied_keys = set(p.keys())\n",
    "\n",
    "if  supplied_keys != required_parameters:\n",
    "    print(\"Parameters are incorrect\")\n",
    "    if len(supplied_keys - required_parameters)>0: print(\"Shouldn't have:\", str(supplied_keys - required_parameters))\n",
    "    if len(required_parameters - supplied_keys)>0: print(\"Need to have:\", str(required_parameters - supplied_keys))\n",
    "    raise RuntimeError(\"Parameters are incorrect\")\n",
    "\n"
   ]
  },
  {
   "cell_type": "code",
   "execution_count": 6,
   "id": "3a028d58",
   "metadata": {
    "execution": {
     "iopub.execute_input": "2022-03-10T21:07:04.054599Z",
     "iopub.status.busy": "2022-03-10T21:07:04.054349Z",
     "iopub.status.idle": "2022-03-10T21:07:04.068572Z",
     "shell.execute_reply": "2022-03-10T21:07:04.068313Z"
    },
    "papermill": {
     "duration": 0.029657,
     "end_time": "2022-03-10T21:07:04.068628",
     "exception": false,
     "start_time": "2022-03-10T21:07:04.038971",
     "status": "completed"
    },
    "tags": []
   },
   "outputs": [],
   "source": [
    "###################################\n",
    "# Set the RNGs and make it all deterministic\n",
    "###################################\n",
    "np.random.seed(p.seed)\n",
    "random.seed(p.seed)\n",
    "torch.manual_seed(p.seed)\n",
    "\n",
    "torch.use_deterministic_algorithms(True) "
   ]
  },
  {
   "cell_type": "code",
   "execution_count": 7,
   "id": "b691acf6",
   "metadata": {
    "execution": {
     "iopub.execute_input": "2022-03-10T21:07:04.103516Z",
     "iopub.status.busy": "2022-03-10T21:07:04.103269Z",
     "iopub.status.idle": "2022-03-10T21:07:04.116546Z",
     "shell.execute_reply": "2022-03-10T21:07:04.116090Z"
    },
    "papermill": {
     "duration": 0.029019,
     "end_time": "2022-03-10T21:07:04.116646",
     "exception": false,
     "start_time": "2022-03-10T21:07:04.087627",
     "status": "completed"
    },
    "tags": []
   },
   "outputs": [],
   "source": [
    "###########################################\n",
    "# The stratified datasets honor this\n",
    "###########################################\n",
    "torch.set_default_dtype(eval(p.torch_default_dtype))"
   ]
  },
  {
   "cell_type": "code",
   "execution_count": 8,
   "id": "b5fba671",
   "metadata": {
    "execution": {
     "iopub.execute_input": "2022-03-10T21:07:04.151162Z",
     "iopub.status.busy": "2022-03-10T21:07:04.149592Z",
     "iopub.status.idle": "2022-03-10T21:07:04.191045Z",
     "shell.execute_reply": "2022-03-10T21:07:04.190579Z"
    },
    "papermill": {
     "duration": 0.056265,
     "end_time": "2022-03-10T21:07:04.191152",
     "exception": false,
     "start_time": "2022-03-10T21:07:04.134887",
     "status": "completed"
    },
    "tags": []
   },
   "outputs": [],
   "source": [
    "###################################\n",
    "# Build the network(s)\n",
    "# Note: It's critical to do this AFTER setting the RNG\n",
    "###################################\n",
    "x_net = build_sequential(p.x_net)"
   ]
  },
  {
   "cell_type": "code",
   "execution_count": 9,
   "id": "5d7e61cc",
   "metadata": {
    "execution": {
     "iopub.execute_input": "2022-03-10T21:07:04.225160Z",
     "iopub.status.busy": "2022-03-10T21:07:04.224913Z",
     "iopub.status.idle": "2022-03-10T21:07:04.236574Z",
     "shell.execute_reply": "2022-03-10T21:07:04.236084Z"
    },
    "papermill": {
     "duration": 0.026281,
     "end_time": "2022-03-10T21:07:04.236674",
     "exception": false,
     "start_time": "2022-03-10T21:07:04.210393",
     "status": "completed"
    },
    "tags": []
   },
   "outputs": [],
   "source": [
    "start_time_secs = time.time()"
   ]
  },
  {
   "cell_type": "code",
   "execution_count": 10,
   "id": "c6b67dfd",
   "metadata": {
    "execution": {
     "iopub.execute_input": "2022-03-10T21:07:04.275181Z",
     "iopub.status.busy": "2022-03-10T21:07:04.270259Z",
     "iopub.status.idle": "2022-03-10T21:07:04.285975Z",
     "shell.execute_reply": "2022-03-10T21:07:04.285553Z"
    },
    "papermill": {
     "duration": 0.031257,
     "end_time": "2022-03-10T21:07:04.286073",
     "exception": false,
     "start_time": "2022-03-10T21:07:04.254816",
     "status": "completed"
    },
    "tags": []
   },
   "outputs": [],
   "source": [
    "p.domains_source = []\n",
    "p.domains_target = []\n",
    "\n",
    "\n",
    "train_original_source = []\n",
    "val_original_source   = []\n",
    "test_original_source  = []\n",
    "\n",
    "train_original_target = []\n",
    "val_original_target   = []\n",
    "test_original_target  = []"
   ]
  },
  {
   "cell_type": "code",
   "execution_count": 11,
   "id": "e3d9c3d3",
   "metadata": {
    "execution": {
     "iopub.execute_input": "2022-03-10T21:07:04.323467Z",
     "iopub.status.busy": "2022-03-10T21:07:04.323192Z",
     "iopub.status.idle": "2022-03-10T21:07:04.332623Z",
     "shell.execute_reply": "2022-03-10T21:07:04.332199Z"
    },
    "papermill": {
     "duration": 0.028333,
     "end_time": "2022-03-10T21:07:04.332723",
     "exception": false,
     "start_time": "2022-03-10T21:07:04.304390",
     "status": "completed"
    },
    "tags": []
   },
   "outputs": [],
   "source": [
    "# global_x_transform_func = lambda x: normalize(x.to(torch.get_default_dtype()), \"unit_power\") # unit_power, unit_mag\n",
    "# global_x_transform_func = lambda x: normalize(x, \"unit_power\") # unit_power, unit_mag"
   ]
  },
  {
   "cell_type": "code",
   "execution_count": 12,
   "id": "acb78fd2",
   "metadata": {
    "execution": {
     "iopub.execute_input": "2022-03-10T21:07:04.371959Z",
     "iopub.status.busy": "2022-03-10T21:07:04.371079Z",
     "iopub.status.idle": "2022-03-10T21:07:04.383494Z",
     "shell.execute_reply": "2022-03-10T21:07:04.383001Z"
    },
    "papermill": {
     "duration": 0.032372,
     "end_time": "2022-03-10T21:07:04.383594",
     "exception": false,
     "start_time": "2022-03-10T21:07:04.351222",
     "status": "completed"
    },
    "tags": []
   },
   "outputs": [],
   "source": [
    "def add_dataset(\n",
    "    labels,\n",
    "    domains,\n",
    "    pickle_path,\n",
    "    x_transforms,\n",
    "    episode_transforms,\n",
    "    domain_prefix,\n",
    "    num_examples_per_domain_per_label,\n",
    "    source_or_target_dataset:str,\n",
    "    iterator_seed=p.seed,\n",
    "    dataset_seed=p.dataset_seed,\n",
    "    n_shot=p.n_shot,\n",
    "    n_way=p.n_way,\n",
    "    n_query=p.n_query,\n",
    "    train_val_test_k_factors=(p.train_k_factor,p.val_k_factor,p.test_k_factor),\n",
    "):\n",
    "   \n",
    "    if x_transforms == []: x_transform = None\n",
    "    else: x_transform = get_chained_transform(x_transforms)\n",
    "    \n",
    "    if episode_transforms == []: episode_transform = None\n",
    "    else: raise Exception(\"episode_transforms not implemented\")\n",
    "    \n",
    "    episode_transform = lambda tup, _prefix=domain_prefix: (_prefix + str(tup[0]), tup[1])\n",
    "\n",
    "\n",
    "    eaf = Episodic_Accessor_Factory(\n",
    "        labels=labels,\n",
    "        domains=domains,\n",
    "        num_examples_per_domain_per_label=num_examples_per_domain_per_label,\n",
    "        iterator_seed=iterator_seed,\n",
    "        dataset_seed=dataset_seed,\n",
    "        n_shot=n_shot,\n",
    "        n_way=n_way,\n",
    "        n_query=n_query,\n",
    "        train_val_test_k_factors=train_val_test_k_factors,\n",
    "        pickle_path=pickle_path,\n",
    "        x_transform_func=x_transform,\n",
    "    )\n",
    "\n",
    "    train, val, test = eaf.get_train(), eaf.get_val(), eaf.get_test()\n",
    "    train = Lazy_Iterable_Wrapper(train, episode_transform)\n",
    "    val = Lazy_Iterable_Wrapper(val, episode_transform)\n",
    "    test = Lazy_Iterable_Wrapper(test, episode_transform)\n",
    "\n",
    "    if source_or_target_dataset==\"source\":\n",
    "        train_original_source.append(train)\n",
    "        val_original_source.append(val)\n",
    "        test_original_source.append(test)\n",
    "\n",
    "        p.domains_source.extend(\n",
    "            [domain_prefix + str(u) for u in domains]\n",
    "        )\n",
    "    elif source_or_target_dataset==\"target\":\n",
    "        train_original_target.append(train)\n",
    "        val_original_target.append(val)\n",
    "        test_original_target.append(test)\n",
    "        p.domains_target.extend(\n",
    "            [domain_prefix + str(u) for u in domains]\n",
    "        )\n",
    "    else:\n",
    "        raise Exception(f\"invalid source_or_target_dataset: {source_or_target_dataset}\")\n",
    "    "
   ]
  },
  {
   "cell_type": "code",
   "execution_count": 13,
   "id": "fe266617",
   "metadata": {
    "execution": {
     "iopub.execute_input": "2022-03-10T21:07:04.418301Z",
     "iopub.status.busy": "2022-03-10T21:07:04.417962Z",
     "iopub.status.idle": "2022-03-10T21:07:10.175370Z",
     "shell.execute_reply": "2022-03-10T21:07:10.174904Z"
    },
    "papermill": {
     "duration": 5.772487,
     "end_time": "2022-03-10T21:07:10.175479",
     "exception": false,
     "start_time": "2022-03-10T21:07:04.402992",
     "status": "completed"
    },
    "tags": []
   },
   "outputs": [],
   "source": [
    "for ds in p.datasets:\n",
    "    add_dataset(**ds)"
   ]
  },
  {
   "cell_type": "code",
   "execution_count": 14,
   "id": "b90d65ac",
   "metadata": {
    "execution": {
     "iopub.execute_input": "2022-03-10T21:07:10.210861Z",
     "iopub.status.busy": "2022-03-10T21:07:10.210548Z",
     "iopub.status.idle": "2022-03-10T21:07:10.226313Z",
     "shell.execute_reply": "2022-03-10T21:07:10.225834Z"
    },
    "papermill": {
     "duration": 0.031253,
     "end_time": "2022-03-10T21:07:10.226415",
     "exception": false,
     "start_time": "2022-03-10T21:07:10.195162",
     "status": "completed"
    },
    "tags": []
   },
   "outputs": [],
   "source": [
    "# from steves_utils.CORES.utils import (\n",
    "#     ALL_NODES,\n",
    "#     ALL_NODES_MINIMUM_1000_EXAMPLES,\n",
    "#     ALL_DAYS\n",
    "# )\n",
    "\n",
    "# add_dataset(\n",
    "#     labels=ALL_NODES,\n",
    "#     domains = ALL_DAYS,\n",
    "#     num_examples_per_domain_per_label=100,\n",
    "#     pickle_path=os.path.join(get_datasets_base_path(), \"cores.stratified_ds.2022A.pkl\"),\n",
    "#     source_or_target_dataset=\"target\",\n",
    "#     x_transform_func=global_x_transform_func,\n",
    "#     domain_modifier=lambda u: f\"cores_{u}\"\n",
    "# )"
   ]
  },
  {
   "cell_type": "code",
   "execution_count": 15,
   "id": "76db484d",
   "metadata": {
    "execution": {
     "iopub.execute_input": "2022-03-10T21:07:10.269018Z",
     "iopub.status.busy": "2022-03-10T21:07:10.260198Z",
     "iopub.status.idle": "2022-03-10T21:07:10.275853Z",
     "shell.execute_reply": "2022-03-10T21:07:10.276237Z"
    },
    "papermill": {
     "duration": 0.031636,
     "end_time": "2022-03-10T21:07:10.276359",
     "exception": false,
     "start_time": "2022-03-10T21:07:10.244723",
     "status": "completed"
    },
    "tags": []
   },
   "outputs": [],
   "source": [
    "# from steves_utils.ORACLE.utils_v2 import (\n",
    "#     ALL_DISTANCES_FEET,\n",
    "#     ALL_RUNS,\n",
    "#     ALL_SERIAL_NUMBERS,\n",
    "# )\n",
    "\n",
    "\n",
    "# add_dataset(\n",
    "#     labels=ALL_SERIAL_NUMBERS,\n",
    "#     domains = list(set(ALL_DISTANCES_FEET) - {2,62}),\n",
    "#     num_examples_per_domain_per_label=100,\n",
    "#     pickle_path=os.path.join(get_datasets_base_path(), \"oracle.Run2_framed_2000Examples_stratified_ds.2022A.pkl\"),\n",
    "#     source_or_target_dataset=\"source\",\n",
    "#     x_transform_func=global_x_transform_func,\n",
    "#     domain_modifier=lambda u: f\"oracle1_{u}\"\n",
    "# )\n"
   ]
  },
  {
   "cell_type": "code",
   "execution_count": 16,
   "id": "97dea9d2",
   "metadata": {
    "execution": {
     "iopub.execute_input": "2022-03-10T21:07:10.311874Z",
     "iopub.status.busy": "2022-03-10T21:07:10.311611Z",
     "iopub.status.idle": "2022-03-10T21:07:10.326432Z",
     "shell.execute_reply": "2022-03-10T21:07:10.325953Z"
    },
    "papermill": {
     "duration": 0.030366,
     "end_time": "2022-03-10T21:07:10.326534",
     "exception": false,
     "start_time": "2022-03-10T21:07:10.296168",
     "status": "completed"
    },
    "tags": []
   },
   "outputs": [],
   "source": [
    "# from steves_utils.ORACLE.utils_v2 import (\n",
    "#     ALL_DISTANCES_FEET,\n",
    "#     ALL_RUNS,\n",
    "#     ALL_SERIAL_NUMBERS,\n",
    "# )\n",
    "\n",
    "\n",
    "# add_dataset(\n",
    "#     labels=ALL_SERIAL_NUMBERS,\n",
    "#     domains = list(set(ALL_DISTANCES_FEET) - {2,62,56}),\n",
    "#     num_examples_per_domain_per_label=100,\n",
    "#     pickle_path=os.path.join(get_datasets_base_path(), \"oracle.Run2_framed_2000Examples_stratified_ds.2022A.pkl\"),\n",
    "#     source_or_target_dataset=\"source\",\n",
    "#     x_transform_func=global_x_transform_func,\n",
    "#     domain_modifier=lambda u: f\"oracle2_{u}\"\n",
    "# )"
   ]
  },
  {
   "cell_type": "code",
   "execution_count": 17,
   "id": "6f289866",
   "metadata": {
    "execution": {
     "iopub.execute_input": "2022-03-10T21:07:10.361414Z",
     "iopub.status.busy": "2022-03-10T21:07:10.361155Z",
     "iopub.status.idle": "2022-03-10T21:07:10.374884Z",
     "shell.execute_reply": "2022-03-10T21:07:10.374389Z"
    },
    "papermill": {
     "duration": 0.030274,
     "end_time": "2022-03-10T21:07:10.374986",
     "exception": false,
     "start_time": "2022-03-10T21:07:10.344712",
     "status": "completed"
    },
    "tags": []
   },
   "outputs": [],
   "source": [
    "# add_dataset(\n",
    "#     labels=list(range(19)),\n",
    "#     domains = [0,1,2],\n",
    "#     num_examples_per_domain_per_label=100,\n",
    "#     pickle_path=os.path.join(get_datasets_base_path(), \"metehan.stratified_ds.2022A.pkl\"),\n",
    "#     source_or_target_dataset=\"target\",\n",
    "#     x_transform_func=global_x_transform_func,\n",
    "#     domain_modifier=lambda u: f\"met_{u}\"\n",
    "# )"
   ]
  },
  {
   "cell_type": "code",
   "execution_count": 18,
   "id": "86a863c3",
   "metadata": {
    "execution": {
     "iopub.execute_input": "2022-03-10T21:07:10.410751Z",
     "iopub.status.busy": "2022-03-10T21:07:10.410492Z",
     "iopub.status.idle": "2022-03-10T21:07:10.421198Z",
     "shell.execute_reply": "2022-03-10T21:07:10.420940Z"
    },
    "papermill": {
     "duration": 0.025679,
     "end_time": "2022-03-10T21:07:10.421253",
     "exception": false,
     "start_time": "2022-03-10T21:07:10.395574",
     "status": "completed"
    },
    "tags": []
   },
   "outputs": [],
   "source": [
    "# # from steves_utils.wisig.utils import (\n",
    "# #     ALL_NODES_MINIMUM_100_EXAMPLES,\n",
    "# #     ALL_NODES_MINIMUM_500_EXAMPLES,\n",
    "# #     ALL_NODES_MINIMUM_1000_EXAMPLES,\n",
    "# #     ALL_DAYS\n",
    "# # )\n",
    "\n",
    "# import steves_utils.wisig.utils as wisig\n",
    "\n",
    "\n",
    "# add_dataset(\n",
    "#     labels=wisig.ALL_NODES_MINIMUM_100_EXAMPLES,\n",
    "#     domains = wisig.ALL_DAYS,\n",
    "#     num_examples_per_domain_per_label=100,\n",
    "#     pickle_path=os.path.join(get_datasets_base_path(), \"wisig.node3-19.stratified_ds.2022A.pkl\"),\n",
    "#     source_or_target_dataset=\"target\",\n",
    "#     x_transform_func=global_x_transform_func,\n",
    "#     domain_modifier=lambda u: f\"wisig_{u}\"\n",
    "# )"
   ]
  },
  {
   "cell_type": "code",
   "execution_count": 19,
   "id": "fd5442bc",
   "metadata": {
    "execution": {
     "iopub.execute_input": "2022-03-10T21:07:10.464792Z",
     "iopub.status.busy": "2022-03-10T21:07:10.459170Z",
     "iopub.status.idle": "2022-03-10T21:07:10.471085Z",
     "shell.execute_reply": "2022-03-10T21:07:10.471487Z"
    },
    "papermill": {
     "duration": 0.033626,
     "end_time": "2022-03-10T21:07:10.471608",
     "exception": false,
     "start_time": "2022-03-10T21:07:10.437982",
     "status": "completed"
    },
    "tags": []
   },
   "outputs": [],
   "source": [
    "###################################\n",
    "# Build the dataset\n",
    "###################################\n",
    "train_original_source = Iterable_Aggregator(train_original_source, p.seed)\n",
    "val_original_source = Iterable_Aggregator(val_original_source, p.seed)\n",
    "test_original_source = Iterable_Aggregator(test_original_source, p.seed)\n",
    "\n",
    "\n",
    "train_original_target = Iterable_Aggregator(train_original_target, p.seed)\n",
    "val_original_target = Iterable_Aggregator(val_original_target, p.seed)\n",
    "test_original_target = Iterable_Aggregator(test_original_target, p.seed)\n",
    "\n",
    "# For CNN We only use X and Y. And we only train on the source.\n",
    "# Properly form the data using a transform lambda and Lazy_Iterable_Wrapper. Finally wrap them in a dataloader\n",
    "\n",
    "transform_lambda = lambda ex: ex[1] # Original is (<domain>, <episode>) so we strip down to episode only\n",
    "\n",
    "train_processed_source = Lazy_Iterable_Wrapper(train_original_source, transform_lambda)\n",
    "val_processed_source   = Lazy_Iterable_Wrapper(val_original_source, transform_lambda)\n",
    "test_processed_source  = Lazy_Iterable_Wrapper(test_original_source, transform_lambda)\n",
    "\n",
    "train_processed_target = Lazy_Iterable_Wrapper(train_original_target, transform_lambda)\n",
    "val_processed_target   = Lazy_Iterable_Wrapper(val_original_target, transform_lambda)\n",
    "test_processed_target  = Lazy_Iterable_Wrapper(test_original_target, transform_lambda)\n",
    "\n",
    "datasets = EasyDict({\n",
    "    \"source\": {\n",
    "        \"original\": {\"train\":train_original_source, \"val\":val_original_source, \"test\":test_original_source},\n",
    "        \"processed\": {\"train\":train_processed_source, \"val\":val_processed_source, \"test\":test_processed_source}\n",
    "    },\n",
    "    \"target\": {\n",
    "        \"original\": {\"train\":train_original_target, \"val\":val_original_target, \"test\":test_original_target},\n",
    "        \"processed\": {\"train\":train_processed_target, \"val\":val_processed_target, \"test\":test_processed_target}\n",
    "    },\n",
    "})"
   ]
  },
  {
   "cell_type": "code",
   "execution_count": 20,
   "id": "5b3c01fc",
   "metadata": {
    "execution": {
     "iopub.execute_input": "2022-03-10T21:07:10.505533Z",
     "iopub.status.busy": "2022-03-10T21:07:10.505275Z",
     "iopub.status.idle": "2022-03-10T21:07:23.779624Z",
     "shell.execute_reply": "2022-03-10T21:07:23.779926Z"
    },
    "papermill": {
     "duration": 13.290646,
     "end_time": "2022-03-10T21:07:23.780011",
     "exception": false,
     "start_time": "2022-03-10T21:07:10.489365",
     "status": "completed"
    },
    "tags": []
   },
   "outputs": [
    {
     "name": "stdout",
     "output_type": "stream",
     "text": [
      "{'Wisig_4', 'Wisig_2', 'Wisig_1', 'Wisig_3'}\n"
     ]
    },
    {
     "name": "stdout",
     "output_type": "stream",
     "text": [
      "{'ORACLE.run150', 'ORACLE.run126', 'ORACLE.run132', 'ORACLE.run138', 'ORACLE.run18', 'ORACLE.run144', 'ORACLE.run114', 'ORACLE.run120'}\n"
     ]
    },
    {
     "name": "stdout",
     "output_type": "stream",
     "text": [
      "tensor([[[-1.6785e-02, -7.4770e-03, -3.0519e-04,  ..., -1.6144e-02,\n",
      "           0.0000e+00,  1.0071e-02],\n",
      "         [ 6.6530e-03,  6.1037e-05, -1.7701e-03,  ..., -1.4893e-02,\n",
      "           0.0000e+00, -1.5259e-04]],\n",
      "\n",
      "        [[-9.8270e-03,  2.0142e-02,  8.0264e-03,  ..., -8.6062e-03,\n",
      "          -7.4770e-03, -1.0010e-02],\n",
      "         [-2.2370e-02,  1.5259e-03,  2.0234e-02,  ...,  1.2696e-02,\n",
      "           1.8616e-03, -1.0987e-02]],\n",
      "\n",
      "        [[-1.2391e-02,  4.7304e-03,  7.0498e-03,  ...,  7.6296e-03,\n",
      "           4.0895e-03,  4.7914e-03],\n",
      "         [-6.4089e-03, -6.8972e-03, -1.1261e-02,  ...,  9.1556e-05,\n",
      "          -1.0376e-02, -1.9959e-02]],\n",
      "\n",
      "        ...,\n",
      "\n",
      "        [[ 2.3499e-02, -2.8504e-02, -1.1200e-02,  ...,  3.3570e-04,\n",
      "           3.2960e-03,  2.2858e-02],\n",
      "         [ 2.2645e-02,  1.3855e-02, -1.8281e-02,  ...,  2.3530e-02,\n",
      "          -1.4466e-02, -1.5259e-03]],\n",
      "\n",
      "        [[-8.3926e-03,  9.9185e-03, -1.8281e-02,  ..., -1.1780e-02,\n",
      "          -2.5880e-02, -1.8860e-02],\n",
      "         [-6.2258e-03, -4.4557e-03, -7.1413e-03,  ...,  3.3052e-02,\n",
      "           8.5757e-03, -4.9013e-02]],\n",
      "\n",
      "        [[ 5.6764e-03,  2.7009e-02, -3.8301e-02,  ...,  3.9399e-02,\n",
      "           4.6388e-03, -4.6388e-03],\n",
      "         [-3.4455e-02,  1.2085e-02,  2.0661e-02,  ...,  7.3244e-04,\n",
      "           7.5686e-03, -1.6175e-02]]])\n"
     ]
    }
   ],
   "source": [
    "from steves_utils.transforms import get_average_magnitude, get_average_power\n",
    "\n",
    "print(set([u for u,_ in val_original_source]))\n",
    "print(set([u for u,_ in val_original_target]))\n",
    "\n",
    "s_x, s_y, q_x, q_y, _ = next(iter(train_processed_source))\n",
    "print(s_x)\n",
    "\n",
    "# for ds in [\n",
    "#     train_processed_source,\n",
    "#     val_processed_source,\n",
    "#     test_processed_source,\n",
    "#     train_processed_target,\n",
    "#     val_processed_target,\n",
    "#     test_processed_target\n",
    "# ]:\n",
    "#     for s_x, s_y, q_x, q_y, _ in ds:\n",
    "#         for X in (s_x, q_x):\n",
    "#             for x in X:\n",
    "#                 assert np.isclose(get_average_magnitude(x.numpy()), 1.0)\n",
    "#                 assert np.isclose(get_average_power(x.numpy()), 1.0)\n",
    "                "
   ]
  },
  {
   "cell_type": "code",
   "execution_count": 21,
   "id": "bbdacba1",
   "metadata": {
    "execution": {
     "iopub.execute_input": "2022-03-10T21:07:23.814332Z",
     "iopub.status.busy": "2022-03-10T21:07:23.814055Z",
     "iopub.status.idle": "2022-03-10T21:07:23.875329Z",
     "shell.execute_reply": "2022-03-10T21:07:23.874806Z"
    },
    "papermill": {
     "duration": 0.078719,
     "end_time": "2022-03-10T21:07:23.875437",
     "exception": false,
     "start_time": "2022-03-10T21:07:23.796718",
     "status": "completed"
    },
    "tags": []
   },
   "outputs": [
    {
     "name": "stdout",
     "output_type": "stream",
     "text": [
      "(2, 256)\n"
     ]
    }
   ],
   "source": [
    "###################################\n",
    "# Build the model\n",
    "###################################\n",
    "model = Steves_Prototypical_Network(x_net, device=p.device, x_shape=(2,256))\n",
    "optimizer = Adam(params=model.parameters(), lr=p.lr)"
   ]
  },
  {
   "cell_type": "code",
   "execution_count": 22,
   "id": "22b39ac5",
   "metadata": {
    "execution": {
     "iopub.execute_input": "2022-03-10T21:07:23.915746Z",
     "iopub.status.busy": "2022-03-10T21:07:23.915487Z",
     "iopub.status.idle": "2022-03-10T21:18:57.078438Z",
     "shell.execute_reply": "2022-03-10T21:18:57.078209Z"
    },
    "papermill": {
     "duration": 693.182617,
     "end_time": "2022-03-10T21:18:57.078496",
     "exception": false,
     "start_time": "2022-03-10T21:07:23.895879",
     "status": "completed"
    },
    "tags": []
   },
   "outputs": [
    {
     "name": "stdout",
     "output_type": "stream",
     "text": [
      "epoch: 1, [batch: 1 / 1347], examples_per_second: 196.9015, train_label_loss: 1.7882, \n"
     ]
    },
    {
     "name": "stdout",
     "output_type": "stream",
     "text": [
      "epoch: 1, [batch: 135 / 1347], examples_per_second: 3145.5283, train_label_loss: 0.5071, \n"
     ]
    },
    {
     "name": "stdout",
     "output_type": "stream",
     "text": [
      "epoch: 1, [batch: 270 / 1347], examples_per_second: 3171.2264, train_label_loss: 0.2211, \n"
     ]
    },
    {
     "name": "stdout",
     "output_type": "stream",
     "text": [
      "epoch: 1, [batch: 404 / 1347], examples_per_second: 3154.9532, train_label_loss: 0.1046, \n"
     ]
    },
    {
     "name": "stdout",
     "output_type": "stream",
     "text": [
      "epoch: 1, [batch: 539 / 1347], examples_per_second: 3137.3135, train_label_loss: 0.5847, \n"
     ]
    },
    {
     "name": "stdout",
     "output_type": "stream",
     "text": [
      "epoch: 1, [batch: 674 / 1347], examples_per_second: 3162.6888, train_label_loss: 0.2257, \n"
     ]
    },
    {
     "name": "stdout",
     "output_type": "stream",
     "text": [
      "epoch: 1, [batch: 808 / 1347], examples_per_second: 3178.2611, train_label_loss: 0.3917, \n"
     ]
    },
    {
     "name": "stdout",
     "output_type": "stream",
     "text": [
      "epoch: 1, [batch: 943 / 1347], examples_per_second: 3168.0172, train_label_loss: 0.0575, \n"
     ]
    },
    {
     "name": "stdout",
     "output_type": "stream",
     "text": [
      "epoch: 1, [batch: 1077 / 1347], examples_per_second: 3175.4378, train_label_loss: 0.0481, \n"
     ]
    },
    {
     "name": "stdout",
     "output_type": "stream",
     "text": [
      "epoch: 1, [batch: 1212 / 1347], examples_per_second: 3166.9233, train_label_loss: 0.2048, \n"
     ]
    },
    {
     "name": "stdout",
     "output_type": "stream",
     "text": [
      "=============================================================\n",
      "epoch: 1, source_val_acc_label: 0.9440, target_val_acc_label: 0.3415, source_val_label_loss: 0.2532, target_val_label_loss: 2.5867, \n",
      "=============================================================\n"
     ]
    },
    {
     "name": "stdout",
     "output_type": "stream",
     "text": [
      "New best\n"
     ]
    },
    {
     "name": "stdout",
     "output_type": "stream",
     "text": [
      "epoch: 2, [batch: 1 / 1346], examples_per_second: 4.1082, train_label_loss: 0.0379, \n"
     ]
    },
    {
     "name": "stdout",
     "output_type": "stream",
     "text": [
      "epoch: 2, [batch: 135 / 1346], examples_per_second: 3158.0890, train_label_loss: 0.1323, \n"
     ]
    },
    {
     "name": "stdout",
     "output_type": "stream",
     "text": [
      "epoch: 2, [batch: 270 / 1346], examples_per_second: 3201.9767, train_label_loss: 0.1830, \n"
     ]
    },
    {
     "name": "stdout",
     "output_type": "stream",
     "text": [
      "epoch: 2, [batch: 404 / 1346], examples_per_second: 3208.6652, train_label_loss: 0.0134, \n"
     ]
    },
    {
     "name": "stdout",
     "output_type": "stream",
     "text": [
      "epoch: 2, [batch: 539 / 1346], examples_per_second: 3161.5783, train_label_loss: 0.1688, \n"
     ]
    },
    {
     "name": "stdout",
     "output_type": "stream",
     "text": [
      "epoch: 2, [batch: 673 / 1346], examples_per_second: 3176.3874, train_label_loss: 0.0233, \n"
     ]
    },
    {
     "name": "stdout",
     "output_type": "stream",
     "text": [
      "epoch: 2, [batch: 808 / 1346], examples_per_second: 3185.4844, train_label_loss: 0.0731, \n"
     ]
    },
    {
     "name": "stdout",
     "output_type": "stream",
     "text": [
      "epoch: 2, [batch: 942 / 1346], examples_per_second: 3202.6954, train_label_loss: 0.0836, \n"
     ]
    },
    {
     "name": "stdout",
     "output_type": "stream",
     "text": [
      "epoch: 2, [batch: 1077 / 1346], examples_per_second: 3189.1359, train_label_loss: 0.0541, \n"
     ]
    },
    {
     "name": "stdout",
     "output_type": "stream",
     "text": [
      "epoch: 2, [batch: 1211 / 1346], examples_per_second: 3190.1302, train_label_loss: 0.2221, \n"
     ]
    },
    {
     "name": "stdout",
     "output_type": "stream",
     "text": [
      "=============================================================\n",
      "epoch: 2, source_val_acc_label: 0.9580, target_val_acc_label: 0.2845, source_val_label_loss: 0.2466, target_val_label_loss: 2.5490, \n",
      "=============================================================\n"
     ]
    },
    {
     "name": "stdout",
     "output_type": "stream",
     "text": [
      "New best\n"
     ]
    },
    {
     "name": "stdout",
     "output_type": "stream",
     "text": [
      "epoch: 3, [batch: 1 / 1347], examples_per_second: 4.1019, train_label_loss: 0.3927, \n"
     ]
    },
    {
     "name": "stdout",
     "output_type": "stream",
     "text": [
      "epoch: 3, [batch: 135 / 1347], examples_per_second: 3159.4292, train_label_loss: 0.3714, \n"
     ]
    },
    {
     "name": "stdout",
     "output_type": "stream",
     "text": [
      "epoch: 3, [batch: 270 / 1347], examples_per_second: 3175.1017, train_label_loss: 0.2835, \n"
     ]
    },
    {
     "name": "stdout",
     "output_type": "stream",
     "text": [
      "epoch: 3, [batch: 404 / 1347], examples_per_second: 3209.8765, train_label_loss: 0.4011, \n"
     ]
    },
    {
     "name": "stdout",
     "output_type": "stream",
     "text": [
      "epoch: 3, [batch: 539 / 1347], examples_per_second: 3183.7645, train_label_loss: 0.0781, \n"
     ]
    },
    {
     "name": "stdout",
     "output_type": "stream",
     "text": [
      "epoch: 3, [batch: 674 / 1347], examples_per_second: 3201.2101, train_label_loss: 0.0074, \n"
     ]
    },
    {
     "name": "stdout",
     "output_type": "stream",
     "text": [
      "epoch: 3, [batch: 808 / 1347], examples_per_second: 3180.3628, train_label_loss: 0.1051, \n"
     ]
    },
    {
     "name": "stdout",
     "output_type": "stream",
     "text": [
      "epoch: 3, [batch: 943 / 1347], examples_per_second: 3164.4537, train_label_loss: 0.0784, \n"
     ]
    },
    {
     "name": "stdout",
     "output_type": "stream",
     "text": [
      "epoch: 3, [batch: 1077 / 1347], examples_per_second: 3184.5965, train_label_loss: 0.0072, \n"
     ]
    },
    {
     "name": "stdout",
     "output_type": "stream",
     "text": [
      "epoch: 3, [batch: 1212 / 1347], examples_per_second: 3181.6296, train_label_loss: 0.1963, \n"
     ]
    },
    {
     "name": "stdout",
     "output_type": "stream",
     "text": [
      "=============================================================\n",
      "epoch: 3, source_val_acc_label: 0.9663, target_val_acc_label: 0.2937, source_val_label_loss: 0.1570, target_val_label_loss: 2.5265, \n",
      "=============================================================\n"
     ]
    },
    {
     "name": "stdout",
     "output_type": "stream",
     "text": [
      "New best\n"
     ]
    },
    {
     "name": "stdout",
     "output_type": "stream",
     "text": [
      "epoch: 4, [batch: 1 / 1346], examples_per_second: 4.1220, train_label_loss: 0.0201, \n"
     ]
    },
    {
     "name": "stdout",
     "output_type": "stream",
     "text": [
      "epoch: 4, [batch: 135 / 1346], examples_per_second: 3168.9592, train_label_loss: 0.0280, \n"
     ]
    },
    {
     "name": "stdout",
     "output_type": "stream",
     "text": [
      "epoch: 4, [batch: 270 / 1346], examples_per_second: 3185.9724, train_label_loss: 0.2067, \n"
     ]
    },
    {
     "name": "stdout",
     "output_type": "stream",
     "text": [
      "epoch: 4, [batch: 404 / 1346], examples_per_second: 3197.9886, train_label_loss: 0.0279, \n"
     ]
    },
    {
     "name": "stdout",
     "output_type": "stream",
     "text": [
      "epoch: 4, [batch: 539 / 1346], examples_per_second: 3197.8469, train_label_loss: 0.3371, \n"
     ]
    },
    {
     "name": "stdout",
     "output_type": "stream",
     "text": [
      "epoch: 4, [batch: 673 / 1346], examples_per_second: 3178.0477, train_label_loss: 0.0167, \n"
     ]
    },
    {
     "name": "stdout",
     "output_type": "stream",
     "text": [
      "epoch: 4, [batch: 808 / 1346], examples_per_second: 3167.4457, train_label_loss: 0.0117, \n"
     ]
    },
    {
     "name": "stdout",
     "output_type": "stream",
     "text": [
      "epoch: 4, [batch: 942 / 1346], examples_per_second: 3155.8769, train_label_loss: 0.0871, \n"
     ]
    },
    {
     "name": "stdout",
     "output_type": "stream",
     "text": [
      "epoch: 4, [batch: 1077 / 1346], examples_per_second: 3182.7223, train_label_loss: 0.2145, \n"
     ]
    },
    {
     "name": "stdout",
     "output_type": "stream",
     "text": [
      "epoch: 4, [batch: 1211 / 1346], examples_per_second: 3172.0323, train_label_loss: 0.4113, \n"
     ]
    },
    {
     "name": "stdout",
     "output_type": "stream",
     "text": [
      "=============================================================\n",
      "epoch: 4, source_val_acc_label: 0.9645, target_val_acc_label: 0.2899, source_val_label_loss: 0.1762, target_val_label_loss: 2.4910, \n",
      "=============================================================\n"
     ]
    },
    {
     "name": "stdout",
     "output_type": "stream",
     "text": [
      "New best\n"
     ]
    },
    {
     "name": "stdout",
     "output_type": "stream",
     "text": [
      "epoch: 5, [batch: 1 / 1346], examples_per_second: 4.1074, train_label_loss: 0.1795, \n"
     ]
    },
    {
     "name": "stdout",
     "output_type": "stream",
     "text": [
      "epoch: 5, [batch: 135 / 1346], examples_per_second: 3144.4488, train_label_loss: 0.2289, \n"
     ]
    },
    {
     "name": "stdout",
     "output_type": "stream",
     "text": [
      "epoch: 5, [batch: 270 / 1346], examples_per_second: 3159.0238, train_label_loss: 0.0194, \n"
     ]
    },
    {
     "name": "stdout",
     "output_type": "stream",
     "text": [
      "epoch: 5, [batch: 404 / 1346], examples_per_second: 3183.6285, train_label_loss: 0.1609, \n"
     ]
    },
    {
     "name": "stdout",
     "output_type": "stream",
     "text": [
      "epoch: 5, [batch: 539 / 1346], examples_per_second: 3177.9770, train_label_loss: 0.0590, \n"
     ]
    },
    {
     "name": "stdout",
     "output_type": "stream",
     "text": [
      "epoch: 5, [batch: 673 / 1346], examples_per_second: 3202.5287, train_label_loss: 0.1987, \n"
     ]
    },
    {
     "name": "stdout",
     "output_type": "stream",
     "text": [
      "epoch: 5, [batch: 808 / 1346], examples_per_second: 3192.9594, train_label_loss: 0.0327, \n"
     ]
    },
    {
     "name": "stdout",
     "output_type": "stream",
     "text": [
      "epoch: 5, [batch: 942 / 1346], examples_per_second: 3207.7592, train_label_loss: 0.0056, \n"
     ]
    },
    {
     "name": "stdout",
     "output_type": "stream",
     "text": [
      "epoch: 5, [batch: 1077 / 1346], examples_per_second: 3199.8221, train_label_loss: 0.0077, \n"
     ]
    },
    {
     "name": "stdout",
     "output_type": "stream",
     "text": [
      "epoch: 5, [batch: 1211 / 1346], examples_per_second: 3199.1618, train_label_loss: 0.2272, \n"
     ]
    },
    {
     "name": "stdout",
     "output_type": "stream",
     "text": [
      "=============================================================\n",
      "epoch: 5, source_val_acc_label: 0.9642, target_val_acc_label: 0.2489, source_val_label_loss: 0.1888, target_val_label_loss: 2.5112, \n",
      "=============================================================\n"
     ]
    },
    {
     "name": "stdout",
     "output_type": "stream",
     "text": [
      "epoch: 6, [batch: 1 / 1346], examples_per_second: 4.1483, train_label_loss: 0.3551, \n"
     ]
    },
    {
     "name": "stdout",
     "output_type": "stream",
     "text": [
      "epoch: 6, [batch: 135 / 1346], examples_per_second: 3136.0599, train_label_loss: 0.1215, \n"
     ]
    },
    {
     "name": "stdout",
     "output_type": "stream",
     "text": [
      "epoch: 6, [batch: 270 / 1346], examples_per_second: 3176.0275, train_label_loss: 0.0285, \n"
     ]
    },
    {
     "name": "stdout",
     "output_type": "stream",
     "text": [
      "epoch: 6, [batch: 404 / 1346], examples_per_second: 3203.3891, train_label_loss: 0.0930, \n"
     ]
    },
    {
     "name": "stdout",
     "output_type": "stream",
     "text": [
      "epoch: 6, [batch: 539 / 1346], examples_per_second: 3180.9658, train_label_loss: 0.0447, \n"
     ]
    },
    {
     "name": "stdout",
     "output_type": "stream",
     "text": [
      "epoch: 6, [batch: 673 / 1346], examples_per_second: 3180.4366, train_label_loss: 0.0327, \n"
     ]
    },
    {
     "name": "stdout",
     "output_type": "stream",
     "text": [
      "epoch: 6, [batch: 808 / 1346], examples_per_second: 3182.4003, train_label_loss: 0.0108, \n"
     ]
    },
    {
     "name": "stdout",
     "output_type": "stream",
     "text": [
      "epoch: 6, [batch: 942 / 1346], examples_per_second: 3158.7513, train_label_loss: 0.1243, \n"
     ]
    },
    {
     "name": "stdout",
     "output_type": "stream",
     "text": [
      "epoch: 6, [batch: 1077 / 1346], examples_per_second: 3166.0835, train_label_loss: 0.1853, \n"
     ]
    },
    {
     "name": "stdout",
     "output_type": "stream",
     "text": [
      "epoch: 6, [batch: 1211 / 1346], examples_per_second: 3168.4866, train_label_loss: 0.2940, \n"
     ]
    },
    {
     "name": "stdout",
     "output_type": "stream",
     "text": [
      "=============================================================\n",
      "epoch: 6, source_val_acc_label: 0.9670, target_val_acc_label: 0.2291, source_val_label_loss: 0.1639, target_val_label_loss: 2.4656, \n",
      "=============================================================\n"
     ]
    },
    {
     "name": "stdout",
     "output_type": "stream",
     "text": [
      "New best\n"
     ]
    },
    {
     "name": "stdout",
     "output_type": "stream",
     "text": [
      "epoch: 7, [batch: 1 / 1344], examples_per_second: 4.1016, train_label_loss: 0.1071, \n"
     ]
    },
    {
     "name": "stdout",
     "output_type": "stream",
     "text": [
      "epoch: 7, [batch: 135 / 1344], examples_per_second: 3155.7570, train_label_loss: 0.0130, \n"
     ]
    },
    {
     "name": "stdout",
     "output_type": "stream",
     "text": [
      "epoch: 7, [batch: 269 / 1344], examples_per_second: 3177.4458, train_label_loss: 0.0865, \n"
     ]
    },
    {
     "name": "stdout",
     "output_type": "stream",
     "text": [
      "epoch: 7, [batch: 403 / 1344], examples_per_second: 3164.4449, train_label_loss: 0.0169, \n"
     ]
    },
    {
     "name": "stdout",
     "output_type": "stream",
     "text": [
      "epoch: 7, [batch: 538 / 1344], examples_per_second: 3147.2789, train_label_loss: 0.1597, \n"
     ]
    },
    {
     "name": "stdout",
     "output_type": "stream",
     "text": [
      "epoch: 7, [batch: 672 / 1344], examples_per_second: 3154.0062, train_label_loss: 0.1579, \n"
     ]
    },
    {
     "name": "stdout",
     "output_type": "stream",
     "text": [
      "epoch: 7, [batch: 806 / 1344], examples_per_second: 3162.8462, train_label_loss: 0.1079, \n"
     ]
    },
    {
     "name": "stdout",
     "output_type": "stream",
     "text": [
      "epoch: 7, [batch: 941 / 1344], examples_per_second: 3154.5087, train_label_loss: 0.0061, \n"
     ]
    },
    {
     "name": "stdout",
     "output_type": "stream",
     "text": [
      "epoch: 7, [batch: 1075 / 1344], examples_per_second: 3162.0628, train_label_loss: 0.1217, \n"
     ]
    },
    {
     "name": "stdout",
     "output_type": "stream",
     "text": [
      "epoch: 7, [batch: 1209 / 1344], examples_per_second: 3161.5123, train_label_loss: 0.0083, \n"
     ]
    },
    {
     "name": "stdout",
     "output_type": "stream",
     "text": [
      "=============================================================\n",
      "epoch: 7, source_val_acc_label: 0.9663, target_val_acc_label: 0.2337, source_val_label_loss: 0.1605, target_val_label_loss: 2.4860, \n",
      "=============================================================\n"
     ]
    },
    {
     "name": "stdout",
     "output_type": "stream",
     "text": [
      "epoch: 8, [batch: 1 / 1347], examples_per_second: 4.1078, train_label_loss: 0.1612, \n"
     ]
    },
    {
     "name": "stdout",
     "output_type": "stream",
     "text": [
      "epoch: 8, [batch: 135 / 1347], examples_per_second: 3161.1246, train_label_loss: 0.0517, \n"
     ]
    },
    {
     "name": "stdout",
     "output_type": "stream",
     "text": [
      "epoch: 8, [batch: 270 / 1347], examples_per_second: 3179.0999, train_label_loss: 0.0345, \n"
     ]
    },
    {
     "name": "stdout",
     "output_type": "stream",
     "text": [
      "epoch: 8, [batch: 404 / 1347], examples_per_second: 3195.1377, train_label_loss: 0.0850, \n"
     ]
    },
    {
     "name": "stdout",
     "output_type": "stream",
     "text": [
      "epoch: 8, [batch: 539 / 1347], examples_per_second: 3209.3589, train_label_loss: 0.0053, \n"
     ]
    },
    {
     "name": "stdout",
     "output_type": "stream",
     "text": [
      "epoch: 8, [batch: 674 / 1347], examples_per_second: 3177.9524, train_label_loss: 0.2848, \n"
     ]
    },
    {
     "name": "stdout",
     "output_type": "stream",
     "text": [
      "epoch: 8, [batch: 808 / 1347], examples_per_second: 3174.3248, train_label_loss: 0.2467, \n"
     ]
    },
    {
     "name": "stdout",
     "output_type": "stream",
     "text": [
      "epoch: 8, [batch: 943 / 1347], examples_per_second: 3165.2366, train_label_loss: 0.0055, \n"
     ]
    },
    {
     "name": "stdout",
     "output_type": "stream",
     "text": [
      "epoch: 8, [batch: 1077 / 1347], examples_per_second: 3175.5831, train_label_loss: 0.0127, \n"
     ]
    },
    {
     "name": "stdout",
     "output_type": "stream",
     "text": [
      "epoch: 8, [batch: 1212 / 1347], examples_per_second: 3189.5394, train_label_loss: 0.0180, \n"
     ]
    },
    {
     "name": "stdout",
     "output_type": "stream",
     "text": [
      "=============================================================\n",
      "epoch: 8, source_val_acc_label: 0.9688, target_val_acc_label: 0.1985, source_val_label_loss: 0.1488, target_val_label_loss: 2.5556, \n",
      "=============================================================\n"
     ]
    },
    {
     "name": "stdout",
     "output_type": "stream",
     "text": [
      "epoch: 9, [batch: 1 / 1345], examples_per_second: 4.1236, train_label_loss: 0.0099, \n"
     ]
    },
    {
     "name": "stdout",
     "output_type": "stream",
     "text": [
      "epoch: 9, [batch: 135 / 1345], examples_per_second: 3172.7127, train_label_loss: 0.0010, \n"
     ]
    },
    {
     "name": "stdout",
     "output_type": "stream",
     "text": [
      "epoch: 9, [batch: 269 / 1345], examples_per_second: 3184.1698, train_label_loss: 0.0041, \n"
     ]
    },
    {
     "name": "stdout",
     "output_type": "stream",
     "text": [
      "epoch: 9, [batch: 404 / 1345], examples_per_second: 3185.1141, train_label_loss: 0.1781, \n"
     ]
    },
    {
     "name": "stdout",
     "output_type": "stream",
     "text": [
      "epoch: 9, [batch: 538 / 1345], examples_per_second: 3173.0846, train_label_loss: 0.0059, \n"
     ]
    },
    {
     "name": "stdout",
     "output_type": "stream",
     "text": [
      "epoch: 9, [batch: 673 / 1345], examples_per_second: 3182.8835, train_label_loss: 0.1171, \n"
     ]
    },
    {
     "name": "stdout",
     "output_type": "stream",
     "text": [
      "epoch: 9, [batch: 807 / 1345], examples_per_second: 3180.1109, train_label_loss: 0.1382, \n"
     ]
    },
    {
     "name": "stdout",
     "output_type": "stream",
     "text": [
      "epoch: 9, [batch: 941 / 1345], examples_per_second: 3187.0283, train_label_loss: 0.0083, \n"
     ]
    },
    {
     "name": "stdout",
     "output_type": "stream",
     "text": [
      "epoch: 9, [batch: 1076 / 1345], examples_per_second: 3196.2011, train_label_loss: 0.0118, \n"
     ]
    },
    {
     "name": "stdout",
     "output_type": "stream",
     "text": [
      "epoch: 9, [batch: 1210 / 1345], examples_per_second: 3197.0031, train_label_loss: 0.0280, \n"
     ]
    },
    {
     "name": "stdout",
     "output_type": "stream",
     "text": [
      "=============================================================\n",
      "epoch: 9, source_val_acc_label: 0.9681, target_val_acc_label: 0.2143, source_val_label_loss: 0.1518, target_val_label_loss: 2.4715, \n",
      "=============================================================\n"
     ]
    },
    {
     "name": "stdout",
     "output_type": "stream",
     "text": [
      "epoch: 10, [batch: 1 / 1343], examples_per_second: 4.1467, train_label_loss: 0.0173, \n"
     ]
    },
    {
     "name": "stdout",
     "output_type": "stream",
     "text": [
      "epoch: 10, [batch: 135 / 1343], examples_per_second: 3154.8273, train_label_loss: 0.1371, \n"
     ]
    },
    {
     "name": "stdout",
     "output_type": "stream",
     "text": [
      "epoch: 10, [batch: 269 / 1343], examples_per_second: 3179.3151, train_label_loss: 0.0310, \n"
     ]
    },
    {
     "name": "stdout",
     "output_type": "stream",
     "text": [
      "epoch: 10, [batch: 403 / 1343], examples_per_second: 3207.2638, train_label_loss: 0.0205, \n"
     ]
    },
    {
     "name": "stdout",
     "output_type": "stream",
     "text": [
      "epoch: 10, [batch: 537 / 1343], examples_per_second: 3197.9572, train_label_loss: 0.0595, \n"
     ]
    },
    {
     "name": "stdout",
     "output_type": "stream",
     "text": [
      "epoch: 10, [batch: 672 / 1343], examples_per_second: 3168.7767, train_label_loss: 0.0058, \n"
     ]
    },
    {
     "name": "stdout",
     "output_type": "stream",
     "text": [
      "epoch: 10, [batch: 806 / 1343], examples_per_second: 3193.4316, train_label_loss: 0.1754, \n"
     ]
    },
    {
     "name": "stdout",
     "output_type": "stream",
     "text": [
      "epoch: 10, [batch: 940 / 1343], examples_per_second: 3157.0145, train_label_loss: 0.0722, \n"
     ]
    },
    {
     "name": "stdout",
     "output_type": "stream",
     "text": [
      "epoch: 10, [batch: 1074 / 1343], examples_per_second: 3163.7789, train_label_loss: 0.0386, \n"
     ]
    },
    {
     "name": "stdout",
     "output_type": "stream",
     "text": [
      "epoch: 10, [batch: 1208 / 1343], examples_per_second: 3205.0016, train_label_loss: 0.1004, \n"
     ]
    },
    {
     "name": "stdout",
     "output_type": "stream",
     "text": [
      "=============================================================\n",
      "epoch: 10, source_val_acc_label: 0.9699, target_val_acc_label: 0.1947, source_val_label_loss: 0.1419, target_val_label_loss: 2.5136, \n",
      "=============================================================\n"
     ]
    },
    {
     "name": "stdout",
     "output_type": "stream",
     "text": [
      "Patience (3) exhausted\n"
     ]
    }
   ],
   "source": [
    "###################################\n",
    "# train\n",
    "###################################\n",
    "jig = PTN_Train_Eval_Test_Jig(model, p.BEST_MODEL_PATH, p.device)\n",
    "\n",
    "jig.train(\n",
    "    train_iterable=datasets.source.processed.train,\n",
    "    source_val_iterable=datasets.source.processed.val,\n",
    "    target_val_iterable=datasets.target.processed.val,\n",
    "    num_epochs=p.n_epoch,\n",
    "    num_logs_per_epoch=p.NUM_LOGS_PER_EPOCH,\n",
    "    patience=p.patience,\n",
    "    optimizer=optimizer,\n",
    "    criteria_for_best=p.criteria_for_best,\n",
    ")"
   ]
  },
  {
   "cell_type": "code",
   "execution_count": 23,
   "id": "31e8fabf",
   "metadata": {
    "execution": {
     "iopub.execute_input": "2022-03-10T21:18:57.151487Z",
     "iopub.status.busy": "2022-03-10T21:18:57.151235Z",
     "iopub.status.idle": "2022-03-10T21:18:57.169706Z",
     "shell.execute_reply": "2022-03-10T21:18:57.169246Z"
    },
    "papermill": {
     "duration": 0.056523,
     "end_time": "2022-03-10T21:18:57.169796",
     "exception": false,
     "start_time": "2022-03-10T21:18:57.113273",
     "status": "completed"
    },
    "tags": []
   },
   "outputs": [],
   "source": [
    "total_experiment_time_secs = time.time() - start_time_secs"
   ]
  },
  {
   "cell_type": "code",
   "execution_count": 24,
   "id": "87b9595b",
   "metadata": {
    "execution": {
     "iopub.execute_input": "2022-03-10T21:18:57.249850Z",
     "iopub.status.busy": "2022-03-10T21:18:57.249555Z",
     "iopub.status.idle": "2022-03-10T21:23:09.282970Z",
     "shell.execute_reply": "2022-03-10T21:23:09.282543Z"
    },
    "papermill": {
     "duration": 252.074073,
     "end_time": "2022-03-10T21:23:09.283084",
     "exception": false,
     "start_time": "2022-03-10T21:18:57.209011",
     "status": "completed"
    },
    "tags": []
   },
   "outputs": [],
   "source": [
    "###################################\n",
    "# Evaluate the model\n",
    "###################################\n",
    "source_test_label_accuracy, source_test_label_loss = jig.test(datasets.source.processed.test)\n",
    "target_test_label_accuracy, target_test_label_loss = jig.test(datasets.target.processed.test)\n",
    "\n",
    "source_val_label_accuracy, source_val_label_loss = jig.test(datasets.source.processed.val)\n",
    "target_val_label_accuracy, target_val_label_loss = jig.test(datasets.target.processed.val)\n",
    "\n",
    "history = jig.get_history()\n",
    "\n",
    "total_epochs_trained = len(history[\"epoch_indices\"])\n",
    "\n",
    "val_dl = Iterable_Aggregator((datasets.source.original.val,datasets.target.original.val))\n",
    "\n",
    "confusion = ptn_confusion_by_domain_over_dataloader(model, p.device, val_dl)\n",
    "per_domain_accuracy = per_domain_accuracy_from_confusion(confusion)\n",
    "\n",
    "# Add a key to per_domain_accuracy for if it was a source domain\n",
    "for domain, accuracy in per_domain_accuracy.items():\n",
    "    per_domain_accuracy[domain] = {\n",
    "        \"accuracy\": accuracy,\n",
    "        \"source?\": domain in p.domains_source\n",
    "    }\n",
    "\n",
    "# Do an independent accuracy assesment JUST TO BE SURE!\n",
    "# _source_test_label_accuracy = independent_accuracy_assesment(model, datasets.source.processed.test, p.device)\n",
    "# _target_test_label_accuracy = independent_accuracy_assesment(model, datasets.target.processed.test, p.device)\n",
    "# _source_val_label_accuracy = independent_accuracy_assesment(model, datasets.source.processed.val, p.device)\n",
    "# _target_val_label_accuracy = independent_accuracy_assesment(model, datasets.target.processed.val, p.device)\n",
    "\n",
    "# assert(_source_test_label_accuracy == source_test_label_accuracy)\n",
    "# assert(_target_test_label_accuracy == target_test_label_accuracy)\n",
    "# assert(_source_val_label_accuracy == source_val_label_accuracy)\n",
    "# assert(_target_val_label_accuracy == target_val_label_accuracy)\n",
    "\n",
    "experiment = {\n",
    "    \"experiment_name\": p.experiment_name,\n",
    "    \"parameters\": dict(p),\n",
    "    \"results\": {\n",
    "        \"source_test_label_accuracy\": source_test_label_accuracy,\n",
    "        \"source_test_label_loss\": source_test_label_loss,\n",
    "        \"target_test_label_accuracy\": target_test_label_accuracy,\n",
    "        \"target_test_label_loss\": target_test_label_loss,\n",
    "        \"source_val_label_accuracy\": source_val_label_accuracy,\n",
    "        \"source_val_label_loss\": source_val_label_loss,\n",
    "        \"target_val_label_accuracy\": target_val_label_accuracy,\n",
    "        \"target_val_label_loss\": target_val_label_loss,\n",
    "        \"total_epochs_trained\": total_epochs_trained,\n",
    "        \"total_experiment_time_secs\": total_experiment_time_secs,\n",
    "        \"confusion\": confusion,\n",
    "        \"per_domain_accuracy\": per_domain_accuracy,\n",
    "    },\n",
    "    \"history\": history,\n",
    "    \"dataset_metrics\": get_dataset_metrics(datasets, \"ptn\"),\n",
    "}"
   ]
  },
  {
   "cell_type": "code",
   "execution_count": 25,
   "id": "54a21829",
   "metadata": {
    "execution": {
     "iopub.execute_input": "2022-03-10T21:23:09.366154Z",
     "iopub.status.busy": "2022-03-10T21:23:09.360774Z",
     "iopub.status.idle": "2022-03-10T21:23:09.544276Z",
     "shell.execute_reply": "2022-03-10T21:23:09.543816Z"
    },
    "papermill": {
     "duration": 0.22124,
     "end_time": "2022-03-10T21:23:09.544370",
     "exception": false,
     "start_time": "2022-03-10T21:23:09.323130",
     "status": "completed"
    },
    "tags": []
   },
   "outputs": [
    {
     "data": {
      "image/png": "[encoded data removed]",
      "text/plain": [
       "<Figure size 1080x504 with 1 Axes>"
      ]
     },
     "metadata": {
      "needs_background": "light"
     },
     "output_type": "display_data"
    }
   ],
   "source": [
    "ax = get_loss_curve(experiment)\n",
    "plt.show()"
   ]
  },
  {
   "cell_type": "code",
   "execution_count": 26,
   "id": "fd8a0f60",
   "metadata": {
    "execution": {
     "iopub.execute_input": "2022-03-10T21:23:09.630347Z",
     "iopub.status.busy": "2022-03-10T21:23:09.622388Z",
     "iopub.status.idle": "2022-03-10T21:23:09.802200Z",
     "shell.execute_reply": "2022-03-10T21:23:09.802413Z"
    },
    "papermill": {
     "duration": 0.218466,
     "end_time": "2022-03-10T21:23:09.802477",
     "exception": false,
     "start_time": "2022-03-10T21:23:09.584011",
     "status": "completed"
    },
    "tags": []
   },
   "outputs": [
    {
     "data": {
      "text/plain": [
       "<matplotlib.axes._subplots.AxesSubplot at 0x7f702b49dd60>"
      ]
     },
     "execution_count": 26,
     "metadata": {},
     "output_type": "execute_result"
    },
    {
     "data": {
      "image/png": "[encoded data removed]",
      "text/plain": [
       "<Figure size 1080x504 with 1 Axes>"
      ]
     },
     "metadata": {
      "needs_background": "light"
     },
     "output_type": "display_data"
    }
   ],
   "source": [
    "get_results_table(experiment)"
   ]
  },
  {
   "cell_type": "code",
   "execution_count": 27,
   "id": "cf8dc689",
   "metadata": {
    "execution": {
     "iopub.execute_input": "2022-03-10T21:23:09.879998Z",
     "iopub.status.busy": "2022-03-10T21:23:09.879570Z",
     "iopub.status.idle": "2022-03-10T21:23:10.080184Z",
     "shell.execute_reply": "2022-03-10T21:23:10.079701Z"
    },
    "papermill": {
     "duration": 0.240114,
     "end_time": "2022-03-10T21:23:10.080288",
     "exception": false,
     "start_time": "2022-03-10T21:23:09.840174",
     "status": "completed"
    },
    "tags": []
   },
   "outputs": [
    {
     "data": {
      "text/plain": [
       "<matplotlib.axes._subplots.AxesSubplot at 0x7f702b499d00>"
      ]
     },
     "execution_count": 27,
     "metadata": {},
     "output_type": "execute_result"
    },
    {
     "data": {
      "image/png": "[encoded data removed]",
      "text/plain": [
       "<Figure size 1080x504 with 1 Axes>"
      ]
     },
     "metadata": {
      "needs_background": "light"
     },
     "output_type": "display_data"
    }
   ],
   "source": [
    "get_domain_accuracies(experiment)"
   ]
  },
  {
   "cell_type": "code",
   "execution_count": 28,
   "id": "a74ae082",
   "metadata": {
    "execution": {
     "iopub.execute_input": "2022-03-10T21:23:10.165111Z",
     "iopub.status.busy": "2022-03-10T21:23:10.164797Z",
     "iopub.status.idle": "2022-03-10T21:23:10.180631Z",
     "shell.execute_reply": "2022-03-10T21:23:10.180178Z"
    },
    "papermill": {
     "duration": 0.057052,
     "end_time": "2022-03-10T21:23:10.180726",
     "exception": false,
     "start_time": "2022-03-10T21:23:10.123674",
     "status": "completed"
    },
    "tags": []
   },
   "outputs": [
    {
     "name": "stdout",
     "output_type": "stream",
     "text": [
      "Source Test Label Accuracy: 0.9637044270833334 Target Test Label Accuracy: 0.2290625\n",
      "Source Val Label Accuracy: 0.9669596354166666 Target Val Label Accuracy: 0.22912760416666667\n"
     ]
    }
   ],
   "source": [
    "print(\"Source Test Label Accuracy:\", experiment[\"results\"][\"source_test_label_accuracy\"], \"Target Test Label Accuracy:\", experiment[\"results\"][\"target_test_label_accuracy\"])\n",
    "print(\"Source Val Label Accuracy:\", experiment[\"results\"][\"source_val_label_accuracy\"], \"Target Val Label Accuracy:\", experiment[\"results\"][\"target_val_label_accuracy\"])"
   ]
  },
  {
   "cell_type": "code",
   "execution_count": 29,
   "id": "dacca602",
   "metadata": {
    "execution": {
     "iopub.execute_input": "2022-03-10T21:23:10.274441Z",
     "iopub.status.busy": "2022-03-10T21:23:10.265069Z",
     "iopub.status.idle": "2022-03-10T21:23:10.282664Z",
     "shell.execute_reply": "2022-03-10T21:23:10.283110Z"
    },
    "papermill": {
     "duration": 0.05896,
     "end_time": "2022-03-10T21:23:10.283233",
     "exception": false,
     "start_time": "2022-03-10T21:23:10.224273",
     "status": "completed"
    },
    "tags": [
     "experiment_json"
    ]
   },
   "outputs": [
    {
     "data": {
      "text/plain": [
       "'{\"experiment_name\": \"tl_1_wisig-oracle.run1\", \"parameters\": {\"experiment_name\": \"tl_1_wisig-oracle.run1\", \"device\": \"cuda\", \"lr\": 0.001, \"seed\": 1337, \"dataset_seed\": 1337, \"n_shot\": 3, \"n_query\": 2, \"train_k_factor\": 3, \"val_k_factor\": 2, \"test_k_factor\": 2, \"torch_default_dtype\": \"torch.float32\", \"n_epoch\": 50, \"patience\": 3, \"criteria_for_best\": \"target_loss\", \"x_net\": [{\"class\": \"nnReshape\", \"kargs\": {\"shape\": [-1, 1, 2, 256]}}, {\"class\": \"Conv2d\", \"kargs\": {\"in_channels\": 1, \"out_channels\": 256, \"kernel_size\": [1, 7], \"bias\": false, \"padding\": [0, 3]}}, {\"class\": \"ReLU\", \"kargs\": {\"inplace\": true}}, {\"class\": \"BatchNorm2d\", \"kargs\": {\"num_features\": 256}}, {\"class\": \"Conv2d\", \"kargs\": {\"in_channels\": 256, \"out_channels\": 80, \"kernel_size\": [2, 7], \"bias\": true, \"padding\": [0, 3]}}, {\"class\": \"ReLU\", \"kargs\": {\"inplace\": true}}, {\"class\": \"BatchNorm2d\", \"kargs\": {\"num_features\": 80}}, {\"class\": \"Flatten\", \"kargs\": {}}, {\"class\": \"Linear\", \"kargs\": {\"in_features\": 20480, \"out_features\": 256}}, {\"class\": \"ReLU\", \"kargs\": {\"inplace\": true}}, {\"class\": \"BatchNorm1d\", \"kargs\": {\"num_features\": 256}}, {\"class\": \"Linear\", \"kargs\": {\"in_features\": 256, \"out_features\": 256}}], \"NUM_LOGS_PER_EPOCH\": 10, \"BEST_MODEL_PATH\": \"./best_model.pth\", \"n_way\": 16, \"datasets\": [{\"labels\": [\"1-10\", \"1-12\", \"1-14\", \"1-16\", \"1-18\", \"1-19\", \"1-8\", \"10-11\", \"10-17\", \"10-4\", \"10-7\", \"11-1\", \"11-10\", \"11-19\", \"11-20\", \"11-4\", \"11-7\", \"12-19\", \"12-20\", \"12-7\", \"13-14\", \"13-18\", \"13-19\", \"13-20\", \"13-3\", \"13-7\", \"14-10\", \"14-11\", \"14-12\", \"14-13\", \"14-14\", \"14-19\", \"14-20\", \"14-7\", \"14-8\", \"14-9\", \"15-1\", \"15-19\", \"15-6\", \"16-1\", \"16-16\", \"16-19\", \"16-20\", \"17-10\", \"17-11\", \"18-1\", \"18-10\", \"18-11\", \"18-12\", \"18-13\", \"18-14\", \"18-15\", \"18-16\", \"18-17\", \"18-19\", \"18-2\", \"18-20\", \"18-4\", \"18-5\", \"18-7\", \"18-8\", \"18-9\", \"19-1\", \"19-10\", \"19-11\", \"19-12\", \"19-13\", \"19-14\", \"19-15\", \"19-19\", \"19-2\", \"19-20\", \"19-3\", \"19-4\", \"19-6\", \"19-7\", \"19-8\", \"19-9\", \"2-1\", \"2-13\", \"2-15\", \"2-3\", \"2-4\", \"2-5\", \"2-6\", \"2-7\", \"2-8\", \"20-1\", \"20-12\", \"20-14\", \"20-15\", \"20-16\", \"20-18\", \"20-19\", \"20-20\", \"20-3\", \"20-4\", \"20-5\", \"20-7\", \"20-8\", \"3-1\", \"3-13\", \"3-18\", \"3-2\", \"3-8\", \"4-1\", \"4-10\", \"4-11\", \"5-1\", \"5-5\", \"6-1\", \"6-15\", \"6-6\", \"7-10\", \"7-11\", \"7-12\", \"7-13\", \"7-14\", \"7-7\", \"7-8\", \"7-9\", \"8-1\", \"8-13\", \"8-14\", \"8-18\", \"8-20\", \"8-3\", \"8-8\", \"9-1\", \"9-7\"], \"domains\": [1, 2, 3, 4], \"num_examples_per_domain_per_label\": 100, \"pickle_path\": \"/mnt/wd500GB/CSC500/csc500-main/datasets/wisig.node3-19.stratified_ds.2022A.pkl\", \"source_or_target_dataset\": \"source\", \"x_transforms\": [], \"episode_transforms\": [], \"domain_prefix\": \"Wisig_\"}, {\"labels\": [\"3123D52\", \"3123D65\", \"3123D79\", \"3123D80\", \"3123D54\", \"3123D70\", \"3123D7B\", \"3123D89\", \"3123D58\", \"3123D76\", \"3123D7D\", \"3123EFE\", \"3123D64\", \"3123D78\", \"3123D7E\", \"3124E4A\"], \"domains\": [32, 38, 8, 44, 14, 50, 20, 26], \"num_examples_per_domain_per_label\": 10000, \"pickle_path\": \"/mnt/wd500GB/CSC500/csc500-main/datasets/oracle.Run1_10kExamples_stratified_ds.2022A.pkl\", \"source_or_target_dataset\": \"target\", \"x_transforms\": [], \"episode_transforms\": [], \"domain_prefix\": \"ORACLE.run1\"}], \"domains_source\": [\"Wisig_1\", \"Wisig_2\", \"Wisig_3\", \"Wisig_4\"], \"domains_target\": [\"ORACLE.run132\", \"ORACLE.run138\", \"ORACLE.run18\", \"ORACLE.run144\", \"ORACLE.run114\", \"ORACLE.run150\", \"ORACLE.run120\", \"ORACLE.run126\"]}, \"results\": {\"source_test_label_accuracy\": 0.9637044270833334, \"source_test_label_loss\": 0.16657112538814545, \"target_test_label_accuracy\": 0.2290625, \"target_test_label_loss\": 2.4670944213867188, \"source_val_label_accuracy\": 0.9669596354166666, \"source_val_label_loss\": 0.16387273371219635, \"target_val_label_accuracy\": 0.22912760416666667, \"target_val_label_loss\": 2.465550661087036, \"total_epochs_trained\": 10, \"total_experiment_time_secs\": 712.9330790042877, \"confusion\": {\"Wisig_3\": {\"109\": {\"109\": 12}, \"127\": {\"127\": 12}, \"14\": {\"14\": 12}, \"7\": {\"7\": 12}, \"129\": {\"129\": 12}, \"57\": {\"57\": 12}, \"84\": {\"84\": 10, \"0\": 2}, \"114\": {\"114\": 12}, \"44\": {\"44\": 12}, \"21\": {\"21\": 12}, \"46\": {\"46\": 12}, \"100\": {\"100\": 12}, \"63\": {\"63\": 8, \"21\": 1, \"50\": 1, \"10\": 1, \"55\": 1}, \"24\": {\"24\": 7, \"21\": 1, \"36\": 1, \"128\": 1, \"27\": 1, \"88\": 1}, \"107\": {\"107\": 12}, \"35\": {\"109\": 1, \"35\": 8, \"13\": 1}, \"81\": {\"81\": 12}, \"64\": {\"64\": 12}, \"59\": {\"2\": 1, \"59\": 11}, \"33\": {\"33\": 12}, \"34\": {\"34\": 12}, \"36\": {\"36\": 12}, \"79\": {\"79\": 12}, \"80\": {\"80\": 11, \"10\": 1}, \"77\": {\"77\": 12}, \"22\": {\"22\": 12}, \"124\": {\"124\": 12}, \"2\": {\"2\": 12}, \"87\": {\"87\": 11, \"1\": 1}, \"105\": {\"105\": 12}, \"95\": {\"95\": 12}, \"43\": {\"43\": 12}, \"56\": {\"56\": 10}, \"18\": {\"18\": 12}, \"85\": {\"85\": 12}, \"113\": {\"113\": 12}, \"97\": {\"97\": 12}, \"86\": {\"86\": 12}, \"128\": {\"128\": 12}, \"123\": {\"123\": 12}, \"8\": {\"8\": 12}, \"110\": {\"110\": 12}, \"126\": {\"126\": 12}, \"101\": {\"101\": 12}, \"115\": {\"115\": 12}, \"49\": {\"49\": 12}, \"45\": {\"45\": 12}, \"78\": {\"78\": 10, \"121\": 1, \"13\": 1}, \"65\": {\"65\": 9, \"81\": 1}, \"54\": {\"54\": 12}, \"31\": {\"31\": 10}, \"42\": {\"42\": 11, \"101\": 1}, \"68\": {\"68\": 12}, \"15\": {\"15\": 12}, \"69\": {\"69\": 12}, \"17\": {\"102\": 1, \"17\": 8, \"24\": 1}, \"73\": {\"73\": 12}, \"121\": {\"121\": 12}, \"102\": {\"102\": 12}, \"48\": {\"48\": 12}, \"23\": {\"23\": 10, \"122\": 1, \"8\": 1}, \"108\": {\"108\": 12}, \"53\": {\"53\": 12}, \"94\": {\"94\": 10}, \"41\": {\"41\": 12}, \"58\": {\"58\": 12}, \"29\": {\"29\": 12}, \"116\": {\"116\": 10, \"65\": 1, \"78\": 1}, \"60\": {\"60\": 12}, \"104\": {\"104\": 12}, \"106\": {\"106\": 12}, \"66\": {\"66\": 12}, \"47\": {\"47\": 12}, \"40\": {\"40\": 12}, \"82\": {\"82\": 11, \"115\": 1}, \"13\": {\"76\": 2, \"41\": 1, \"13\": 7, \"81\": 1, \"65\": 1}, \"19\": {\"19\": 12}, \"72\": {\"72\": 12}, \"9\": {\"9\": 12}, \"67\": {\"67\": 12}, \"11\": {\"11\": 12}, \"125\": {\"125\": 12}, \"76\": {\"76\": 8}, \"83\": {\"83\": 12}, \"74\": {\"74\": 11, \"119\": 1}, \"20\": {\"20\": 12}, \"119\": {\"119\": 12}, \"1\": {\"1\": 12}, \"16\": {\"16\": 12}, \"25\": {\"25\": 11, \"37\": 1}, \"90\": {\"90\": 8}, \"39\": {\"39\": 12}, \"28\": {\"28\": 12}, \"55\": {\"55\": 12}, \"117\": {\"117\": 11, \"14\": 1}, \"112\": {\"112\": 12}, \"38\": {\"38\": 12}, \"37\": {\"37\": 12}, \"120\": {\"120\": 11, \"13\": 1}, \"122\": {\"122\": 11, \"0\": 1}, \"50\": {\"50\": 12}, \"10\": {\"10\": 12}, \"5\": {\"5\": 12}, \"51\": {\"51\": 12}, \"3\": {\"3\": 11, \"70\": 1}, \"98\": {\"98\": 11, \"21\": 1}, \"70\": {\"70\": 11, \"96\": 1}, \"96\": {\"96\": 12}, \"12\": {\"12\": 12}, \"99\": {\"99\": 11, \"105\": 1}, \"52\": {\"52\": 12}, \"71\": {\"71\": 11, \"61\": 1}, \"89\": {\"89\": 12}, \"0\": {\"0\": 12}, \"4\": {\"4\": 9, \"3\": 1, \"32\": 1, \"101\": 1}, \"93\": {\"93\": 12}, \"6\": {\"6\": 9, \"58\": 1}, \"75\": {\"75\": 12}, \"62\": {\"62\": 12}, \"103\": {\"103\": 12}, \"30\": {\"30\": 12}, \"91\": {\"91\": 12}, \"27\": {\"27\": 11, \"24\": 1}, \"26\": {\"26\": 12}, \"61\": {\"61\": 12}, \"118\": {\"118\": 12}, \"92\": {\"92\": 12}, \"111\": {\"111\": 12}, \"32\": {\"32\": 12}, \"88\": {\"88\": 10}}, \"Wisig_4\": {\"28\": {\"28\": 12}, \"4\": {\"4\": 12}, \"72\": {\"72\": 12}, \"111\": {\"111\": 12}, \"108\": {\"108\": 11, \"10\": 1}, \"43\": {\"43\": 10}, \"96\": {\"96\": 12}, \"89\": {\"89\": 12}, \"31\": {\"31\": 12}, \"45\": {\"45\": 12}, \"2\": {\"2\": 11, \"63\": 1}, \"114\": {\"114\": 12}, \"11\": {\"11\": 12}, \"12\": {\"12\": 12}, \"14\": {\"14\": 12}, \"90\": {\"90\": 12}, \"10\": {\"10\": 9, \"24\": 1, \"27\": 1, \"108\": 1}, \"63\": {\"82\": 2, \"63\": 10}, \"85\": {\"85\": 11, \"12\": 1}, \"64\": {\"64\": 12}, \"82\": {\"82\": 10, \"115\": 1, \"80\": 1}, \"58\": {\"58\": 12}, \"3\": {\"3\": 12}, \"54\": {\"54\": 12}, \"121\": {\"121\": 11, \"5\": 1}, \"42\": {\"42\": 12}, \"98\": {\"98\": 12}, \"123\": {\"123\": 12}, \"91\": {\"91\": 11, \"3\": 1}, \"66\": {\"66\": 12}, \"102\": {\"102\": 12}, \"122\": {\"122\": 10, \"110\": 1, \"51\": 1}, \"1\": {\"1\": 12}, \"15\": {\"15\": 12}, \"97\": {\"108\": 1, \"97\": 10, \"121\": 1}, \"75\": {\"75\": 12}, \"95\": {\"95\": 12}, \"57\": {\"57\": 12}, \"68\": {\"68\": 12}, \"125\": {\"125\": 12}, \"62\": {\"62\": 10}, \"27\": {\"27\": 10, \"21\": 1, \"126\": 1}, \"120\": {\"120\": 11, \"103\": 1}, \"26\": {\"26\": 12}, \"55\": {\"55\": 12}, \"71\": {\"71\": 11, \"88\": 1}, \"22\": {\"22\": 12}, \"99\": {\"99\": 10, \"101\": 1, \"21\": 1}, \"84\": {\"84\": 10, \"103\": 1, \"13\": 1}, \"37\": {\"37\": 12}, \"83\": {\"83\": 12}, \"46\": {\"46\": 12}, \"35\": {\"35\": 12}, \"13\": {\"13\": 12}, \"53\": {\"53\": 10, \"88\": 1, \"21\": 1}, \"127\": {\"127\": 12}, \"69\": {\"115\": 1, \"69\": 10, \"92\": 1}, \"48\": {\"48\": 11, \"59\": 1}, \"16\": {\"16\": 12}, \"0\": {\"0\": 11, \"87\": 1}, \"8\": {\"8\": 10, \"115\": 1, \"100\": 1}, \"9\": {\"9\": 12}, \"115\": {\"115\": 11, \"128\": 1}, \"70\": {\"70\": 11, \"17\": 1}, \"119\": {\"119\": 12}, \"59\": {\"59\": 12}, \"52\": {\"52\": 12}, \"60\": {\"60\": 12}, \"44\": {\"44\": 12}, \"51\": {\"51\": 10, \"59\": 1, \"56\": 1}, \"6\": {\"6\": 12}, \"73\": {\"73\": 12}, \"78\": {\"78\": 12}, \"92\": {\"92\": 12}, \"20\": {\"20\": 11, \"5\": 1}, \"17\": {\"17\": 12}, \"74\": {\"74\": 12}, \"19\": {\"19\": 12}, \"50\": {\"50\": 12}, \"34\": {\"34\": 10, \"78\": 1, \"59\": 1}, \"104\": {\"104\": 8}, \"33\": {\"33\": 11, \"51\": 1}, \"5\": {\"5\": 12}, \"7\": {\"7\": 11, \"23\": 1}, \"29\": {\"29\": 12}, \"25\": {\"25\": 12}, \"124\": {\"124\": 12}, \"117\": {\"117\": 10, \"59\": 1, \"61\": 1}, \"88\": {\"88\": 10, \"71\": 2}, \"61\": {\"61\": 11, \"88\": 1}, \"86\": {\"86\": 12}, \"116\": {\"116\": 12}, \"24\": {\"24\": 12}, \"128\": {\"128\": 10, \"21\": 1, \"77\": 1}, \"101\": {\"101\": 12}, \"65\": {\"65\": 9, \"23\": 1}, \"36\": {\"36\": 12}, \"21\": {\"21\": 11, \"51\": 1}, \"106\": {\"106\": 12}, \"118\": {\"118\": 10, \"88\": 2}, \"113\": {\"113\": 10, \"3\": 2}, \"40\": {\"40\": 12}, \"93\": {\"93\": 7, \"23\": 1}, \"94\": {\"94\": 10, \"36\": 2}, \"103\": {\"103\": 7, \"6\": 1, \"46\": 1, \"108\": 1, \"87\": 1, \"22\": 1}, \"110\": {\"110\": 12}, \"56\": {\"56\": 12}, \"39\": {\"39\": 12}, \"109\": {\"109\": 12}, \"67\": {\"67\": 11, \"88\": 1}, \"129\": {\"129\": 12}, \"30\": {\"30\": 12}, \"126\": {\"126\": 10, \"23\": 1, \"108\": 1}, \"87\": {\"21\": 1, \"87\": 11}, \"112\": {\"112\": 12}, \"100\": {\"100\": 12}, \"79\": {\"79\": 10}, \"81\": {\"81\": 11, \"61\": 1}, \"76\": {\"76\": 10}, \"47\": {\"47\": 11, \"21\": 1}, \"77\": {\"77\": 12}, \"23\": {\"103\": 1, \"0\": 1, \"23\": 5, \"106\": 2, \"120\": 1, \"21\": 1, \"78\": 1}, \"18\": {\"18\": 12}, \"49\": {\"49\": 12}, \"41\": {\"41\": 10, \"47\": 1, \"80\": 1}, \"32\": {\"32\": 11, \"92\": 1}, \"107\": {\"107\": 10}, \"80\": {\"80\": 12}, \"105\": {\"105\": 9, \"113\": 1}, \"38\": {\"38\": 10}}, \"Wisig_1\": {\"108\": {\"108\": 10}, \"40\": {\"40\": 12}, \"68\": {\"68\": 12}, \"23\": {\"23\": 12}, \"26\": {\"70\": 1, \"26\": 11}, \"64\": {\"64\": 12}, \"22\": {\"22\": 12}, \"3\": {\"3\": 12}, \"4\": {\"4\": 11, \"113\": 1}, \"70\": {\"70\": 11, \"21\": 1}, \"57\": {\"57\": 12}, \"79\": {\"79\": 12}, \"9\": {\"9\": 12}, \"89\": {\"89\": 12}, \"110\": {\"110\": 12}, \"102\": {\"102\": 12}, \"31\": {\"31\": 12}, \"58\": {\"58\": 12}, \"47\": {\"47\": 12}, \"24\": {\"24\": 11, \"88\": 1}, \"19\": {\"19\": 12}, \"11\": {\"11\": 12}, \"52\": {\"52\": 12}, \"17\": {\"17\": 12}, \"25\": {\"25\": 12}, \"69\": {\"69\": 12}, \"96\": {\"96\": 12}, \"109\": {\"109\": 12}, \"115\": {\"115\": 12}, \"83\": {\"83\": 11, \"4\": 1}, \"84\": {\"84\": 12}, \"119\": {\"119\": 10}, \"122\": {\"122\": 10}, \"99\": {\"99\": 12}, \"1\": {\"1\": 12}, \"74\": {\"74\": 10, \"65\": 1, \"61\": 1}, \"85\": {\"85\": 12}, \"127\": {\"127\": 12}, \"111\": {\"111\": 12}, \"53\": {\"53\": 12}, \"88\": {\"88\": 10, \"108\": 2}, \"65\": {\"65\": 8, \"103\": 2}, \"7\": {\"7\": 12}, \"16\": {\"16\": 11, \"95\": 1}, \"128\": {\"128\": 12}, \"34\": {\"34\": 12}, \"129\": {\"129\": 12}, \"43\": {\"43\": 12}, \"92\": {\"92\": 12}, \"28\": {\"28\": 12}, \"27\": {\"27\": 12}, \"114\": {\"114\": 12}, \"73\": {\"73\": 12}, \"0\": {\"0\": 12}, \"104\": {\"104\": 12}, \"118\": {\"118\": 12}, \"41\": {\"41\": 12}, \"49\": {\"49\": 11, \"72\": 1}, \"14\": {\"14\": 12}, \"46\": {\"86\": 1, \"46\": 9, \"109\": 1, \"17\": 1}, \"33\": {\"33\": 12}, \"76\": {\"76\": 12}, \"125\": {\"125\": 12}, \"86\": {\"86\": 10}, \"66\": {\"66\": 11, \"115\": 1}, \"5\": {\"5\": 12}, \"117\": {\"117\": 12}, \"75\": {\"75\": 12}, \"61\": {\"61\": 12}, \"50\": {\"50\": 11, \"12\": 1}, \"67\": {\"67\": 10}, \"18\": {\"18\": 12}, \"98\": {\"98\": 12}, \"55\": {\"55\": 10}, \"32\": {\"32\": 12}, \"120\": {\"120\": 12}, \"97\": {\"97\": 12}, \"126\": {\"126\": 12}, \"45\": {\"45\": 12}, \"78\": {\"78\": 9, \"21\": 1}, \"100\": {\"100\": 12}, \"107\": {\"107\": 12}, \"93\": {\"93\": 12}, \"77\": {\"77\": 12}, \"63\": {\"63\": 12}, \"112\": {\"112\": 12}, \"113\": {\"113\": 12}, \"103\": {\"103\": 10}, \"71\": {\"71\": 12}, \"30\": {\"30\": 12}, \"90\": {\"90\": 12}, \"37\": {\"103\": 1, \"37\": 11}, \"60\": {\"60\": 11, \"70\": 1}, \"15\": {\"15\": 12}, \"39\": {\"39\": 12}, \"72\": {\"72\": 12}, \"54\": {\"54\": 12}, \"35\": {\"35\": 12}, \"2\": {\"2\": 12}, \"94\": {\"94\": 11, \"83\": 1}, \"42\": {\"42\": 12}, \"81\": {\"81\": 12}, \"8\": {\"8\": 12}, \"87\": {\"87\": 12}, \"6\": {\"6\": 12}, \"36\": {\"36\": 12}, \"91\": {\"91\": 11, \"42\": 1}, \"56\": {\"56\": 12}, \"80\": {\"80\": 11, \"23\": 1}, \"124\": {\"124\": 10}, \"44\": {\"44\": 12}, \"13\": {\"13\": 12}, \"10\": {\"10\": 10, \"21\": 1, \"95\": 1}, \"59\": {\"59\": 12}, \"95\": {\"95\": 12}, \"105\": {\"105\": 11, \"45\": 1}, \"101\": {\"101\": 12}, \"20\": {\"20\": 12}, \"48\": {\"48\": 11, \"123\": 1}, \"106\": {\"106\": 12}, \"51\": {\"51\": 12}, \"21\": {\"21\": 11, \"70\": 1}, \"123\": {\"123\": 12}, \"121\": {\"121\": 12}, \"38\": {\"38\": 12}, \"62\": {\"62\": 12}, \"29\": {\"29\": 12}, \"82\": {\"82\": 12}, \"116\": {\"116\": 12}, \"12\": {\"12\": 8}}, \"Wisig_2\": {\"91\": {\"91\": 12}, \"12\": {\"12\": 9, \"97\": 1, \"126\": 1, \"0\": 1}, \"101\": {\"101\": 10}, \"121\": {\"121\": 11, \"72\": 1}, \"118\": {\"118\": 12}, \"10\": {\"10\": 12}, \"117\": {\"117\": 12}, \"110\": {\"110\": 11, \"97\": 1}, \"97\": {\"97\": 10, \"121\": 1, \"43\": 1}, \"28\": {\"17\": 1, \"28\": 9, \"116\": 1, \"55\": 1}, \"88\": {\"88\": 12}, \"17\": {\"17\": 12}, \"126\": {\"126\": 12}, \"33\": {\"33\": 12}, \"86\": {\"86\": 12}, \"106\": {\"106\": 12}, \"54\": {\"54\": 12}, \"125\": {\"125\": 12}, \"83\": {\"83\": 12}, \"98\": {\"98\": 12}, \"11\": {\"11\": 11, \"71\": 1}, \"32\": {\"32\": 12}, \"42\": {\"42\": 12}, \"103\": {\"103\": 12}, \"87\": {\"87\": 12}, \"61\": {\"118\": 1, \"61\": 10, \"102\": 1}, \"13\": {\"13\": 12}, \"4\": {\"4\": 12}, \"15\": {\"15\": 10}, \"120\": {\"120\": 12}, \"80\": {\"80\": 12}, \"72\": {\"72\": 10}, \"64\": {\"64\": 12}, \"81\": {\"81\": 12}, \"102\": {\"102\": 12}, \"76\": {\"76\": 12}, \"49\": {\"49\": 9, \"21\": 1}, \"129\": {\"129\": 12}, \"89\": {\"89\": 12}, \"52\": {\"52\": 12}, \"35\": {\"35\": 12}, \"53\": {\"53\": 12}, \"112\": {\"112\": 12}, \"105\": {\"105\": 12}, \"100\": {\"100\": 12}, \"9\": {\"9\": 12}, \"82\": {\"82\": 12}, \"51\": {\"51\": 12}, \"21\": {\"21\": 12}, \"92\": {\"92\": 11, \"84\": 1}, \"69\": {\"69\": 12}, \"77\": {\"77\": 12}, \"50\": {\"50\": 11, \"13\": 1}, \"36\": {\"36\": 12}, \"16\": {\"16\": 11, \"28\": 1}, \"8\": {\"13\": 1, \"8\": 10, \"120\": 1}, \"127\": {\"127\": 12}, \"46\": {\"46\": 10}, \"84\": {\"84\": 12}, \"18\": {\"18\": 12}, \"123\": {\"123\": 10}, \"56\": {\"56\": 12}, \"26\": {\"26\": 12}, \"14\": {\"71\": 2, \"14\": 9, \"110\": 1}, \"109\": {\"109\": 12}, \"66\": {\"66\": 12}, \"24\": {\"24\": 11, \"28\": 1}, \"71\": {\"71\": 12}, \"65\": {\"65\": 10, \"20\": 1, \"102\": 1}, \"75\": {\"75\": 11, \"21\": 1}, \"111\": {\"111\": 12}, \"30\": {\"30\": 11, \"59\": 1}, \"85\": {\"85\": 12}, \"113\": {\"113\": 9, \"21\": 1}, \"45\": {\"45\": 12}, \"29\": {\"29\": 11, \"25\": 1}, \"20\": {\"20\": 12}, \"25\": {\"25\": 12}, \"0\": {\"0\": 12}, \"68\": {\"68\": 12}, \"119\": {\"119\": 12}, \"90\": {\"90\": 12}, \"38\": {\"38\": 12}, \"99\": {\"99\": 12}, \"1\": {\"1\": 12}, \"67\": {\"67\": 9, \"109\": 1, \"104\": 1, \"61\": 1}, \"63\": {\"63\": 12}, \"34\": {\"34\": 12}, \"108\": {\"108\": 12}, \"40\": {\"40\": 12}, \"47\": {\"47\": 11, \"59\": 1}, \"37\": {\"37\": 12}, \"78\": {\"78\": 12}, \"96\": {\"96\": 12}, \"43\": {\"43\": 11, \"21\": 1}, \"5\": {\"5\": 10}, \"124\": {\"124\": 12}, \"44\": {\"44\": 12}, \"41\": {\"41\": 11, \"47\": 1}, \"116\": {\"116\": 12}, \"19\": {\"19\": 10, \"45\": 1, \"82\": 1}, \"115\": {\"115\": 11, \"116\": 1}, \"95\": {\"95\": 11, \"126\": 1}, \"3\": {\"3\": 10}, \"59\": {\"59\": 12}, \"55\": {\"55\": 12}, \"70\": {\"70\": 12}, \"6\": {\"6\": 12}, \"2\": {\"2\": 12}, \"48\": {\"48\": 12}, \"23\": {\"23\": 11, \"122\": 1}, \"7\": {\"7\": 12}, \"122\": {\"122\": 12}, \"57\": {\"57\": 10, \"23\": 1, \"59\": 1}, \"39\": {\"39\": 9, \"53\": 1}, \"79\": {\"79\": 12}, \"27\": {\"27\": 10}, \"74\": {\"74\": 9, \"17\": 1, \"16\": 1, \"51\": 1}, \"73\": {\"73\": 12}, \"62\": {\"62\": 12}, \"107\": {\"107\": 12}, \"128\": {\"128\": 12}, \"60\": {\"60\": 11, \"122\": 1}, \"114\": {\"114\": 12}, \"22\": {\"22\": 12}, \"93\": {\"93\": 12}, \"94\": {\"94\": 11, \"88\": 1}, \"31\": {\"31\": 10}, \"104\": {\"104\": 12}, \"58\": {\"58\": 12}}, \"ORACLE.run114\": {\"15\": {\"15\": 1115, \"6\": 33, \"13\": 44, \"3\": 6, \"14\": 2}, \"3\": {\"2\": 98, \"6\": 173, \"13\": 167, \"14\": 125, \"10\": 9, \"0\": 116, \"3\": 177, \"15\": 32, \"12\": 32, \"5\": 73, \"7\": 120, \"8\": 45, \"4\": 31, \"9\": 1, \"1\": 1}, \"6\": {\"7\": 76, \"13\": 231, \"6\": 274, \"3\": 153, \"15\": 110, \"4\": 4, \"14\": 122, \"2\": 73, \"5\": 45, \"0\": 82, \"12\": 12, \"8\": 15, \"10\": 3}, \"1\": {\"1\": 431, \"9\": 394, \"11\": 34, \"12\": 52, \"8\": 29, \"5\": 17, \"4\": 74, \"10\": 135, \"2\": 12, \"0\": 5, \"7\": 11, \"14\": 2, \"3\": 1, \"13\": 2, \"6\": 1}, \"8\": {\"12\": 160, \"5\": 132, \"0\": 77, \"7\": 106, \"2\": 86, \"8\": 174, \"3\": 69, \"4\": 121, \"1\": 44, \"14\": 62, \"10\": 55, \"9\": 48, \"6\": 28, \"13\": 38}, \"10\": {\"12\": 121, \"1\": 146, \"9\": 171, \"4\": 197, \"10\": 244, \"14\": 30, \"8\": 71, \"5\": 58, \"0\": 38, \"3\": 16, \"6\": 7, \"13\": 18, \"2\": 51, \"7\": 31, \"11\": 1}, \"9\": {\"9\": 352, \"1\": 413, \"2\": 19, \"12\": 54, \"10\": 165, \"4\": 87, \"8\": 31, \"5\": 30, \"11\": 29, \"14\": 4, \"0\": 4, \"3\": 3, \"7\": 6, \"13\": 2, \"6\": 1}, \"13\": {\"13\": 192, \"3\": 111, \"15\": 175, \"0\": 87, \"6\": 222, \"4\": 24, \"7\": 69, \"14\": 123, \"2\": 65, \"1\": 2, \"12\": 38, \"5\": 45, \"9\": 5, \"8\": 28, \"10\": 14}, \"12\": {\"8\": 123, \"4\": 172, \"5\": 125, \"10\": 111, \"0\": 75, \"2\": 94, \"12\": 138, \"6\": 26, \"7\": 72, \"1\": 54, \"3\": 46, \"14\": 55, \"9\": 72, \"13\": 37}, \"5\": {\"12\": 125, \"14\": 86, \"7\": 106, \"4\": 93, \"5\": 147, \"8\": 111, \"3\": 90, \"2\": 105, \"13\": 62, \"1\": 26, \"0\": 104, \"6\": 46, \"10\": 79, \"9\": 18, \"15\": 2}, \"0\": {\"2\": 124, \"6\": 107, \"5\": 106, \"13\": 97, \"10\": 42, \"8\": 91, \"7\": 103, \"0\": 125, \"3\": 118, \"4\": 71, \"12\": 65, \"14\": 128, \"9\": 7, \"15\": 10, \"1\": 6}, \"2\": {\"2\": 106, \"5\": 127, \"12\": 102, \"0\": 102, \"15\": 18, \"8\": 82, \"6\": 104, \"14\": 117, \"7\": 85, \"13\": 88, \"1\": 13, \"10\": 56, \"3\": 84, \"4\": 100, \"9\": 16}, \"11\": {\"11\": 1029, \"9\": 80, \"4\": 2, \"10\": 3, \"1\": 86}, \"14\": {\"5\": 101, \"2\": 125, \"13\": 152, \"12\": 54, \"8\": 44, \"6\": 172, \"7\": 75, \"0\": 121, \"14\": 132, \"4\": 42, \"10\": 24, \"3\": 140, \"15\": 13, \"1\": 2, \"9\": 3}, \"7\": {\"6\": 108, \"4\": 65, \"3\": 139, \"2\": 105, \"14\": 104, \"8\": 109, \"7\": 161, \"12\": 78, \"5\": 103, \"13\": 93, \"0\": 102, \"15\": 7, \"10\": 18, \"9\": 7, \"1\": 1}, \"4\": {\"1\": 95, \"4\": 177, \"2\": 64, \"9\": 99, \"10\": 174, \"7\": 41, \"14\": 58, \"3\": 37, \"12\": 149, \"5\": 96, \"13\": 24, \"8\": 102, \"0\": 60, \"6\": 24}}, \"ORACLE.run120\": {\"3\": {\"3\": 99, \"5\": 83, \"7\": 89, \"15\": 72, \"14\": 94, \"4\": 56, \"0\": 112, \"10\": 45, \"8\": 94, \"1\": 74, \"11\": 88, \"12\": 56, \"6\": 56, \"2\": 62, \"9\": 79, \"13\": 41}, \"15\": {\"1\": 64, \"3\": 50, \"12\": 111, \"15\": 92, \"6\": 68, \"0\": 19, \"10\": 94, \"8\": 32, \"13\": 150, \"5\": 78, \"2\": 102, \"11\": 35, \"9\": 93, \"14\": 48, \"7\": 80, \"4\": 84}, \"8\": {\"4\": 57, \"5\": 91, \"8\": 131, \"14\": 127, \"11\": 127, \"12\": 37, \"0\": 160, \"1\": 69, \"7\": 60, \"3\": 91, \"6\": 61, \"15\": 44, \"2\": 32, \"9\": 68, \"10\": 24, \"13\": 21}, \"4\": {\"12\": 98, \"3\": 52, \"10\": 110, \"2\": 98, \"4\": 106, \"13\": 77, \"15\": 97, \"14\": 69, \"11\": 28, \"8\": 56, \"7\": 88, \"0\": 38, \"6\": 87, \"1\": 68, \"9\": 76, \"5\": 52}, \"14\": {\"14\": 160, \"15\": 36, \"6\": 72, \"7\": 62, \"0\": 143, \"3\": 89, \"1\": 77, \"8\": 124, \"5\": 87, \"4\": 48, \"11\": 90, \"10\": 32, \"2\": 40, \"9\": 62, \"13\": 31, \"12\": 47}, \"0\": {\"4\": 17, \"8\": 133, \"5\": 61, \"6\": 35, \"14\": 129, \"0\": 279, \"1\": 35, \"11\": 282, \"3\": 94, \"13\": 6, \"9\": 40, \"12\": 20, \"15\": 18, \"7\": 29, \"10\": 5, \"2\": 17}, \"7\": {\"12\": 96, \"9\": 79, \"0\": 54, \"1\": 72, \"14\": 55, \"8\": 67, \"7\": 87, \"13\": 99, \"3\": 61, \"5\": 76, \"4\": 87, \"15\": 79, \"2\": 101, \"10\": 79, \"11\": 36, \"6\": 72}, \"6\": {\"5\": 85, \"9\": 75, \"14\": 84, \"4\": 77, \"3\": 75, \"8\": 81, \"12\": 80, \"1\": 85, \"0\": 63, \"13\": 87, \"15\": 82, \"10\": 82, \"2\": 68, \"11\": 37, \"6\": 63, \"7\": 76}, \"10\": {\"12\": 86, \"15\": 94, \"14\": 36, \"10\": 184, \"1\": 49, \"13\": 170, \"5\": 50, \"2\": 98, \"11\": 10, \"4\": 144, \"7\": 72, \"3\": 43, \"8\": 30, \"9\": 47, \"6\": 74, \"0\": 13}, \"5\": {\"14\": 104, \"4\": 71, \"5\": 90, \"1\": 70, \"3\": 81, \"13\": 47, \"8\": 103, \"12\": 77, \"7\": 73, \"11\": 55, \"9\": 78, \"15\": 79, \"6\": 74, \"0\": 76, \"2\": 78, \"10\": 44}, \"2\": {\"7\": 86, \"6\": 93, \"13\": 126, \"2\": 98, \"12\": 92, \"1\": 72, \"3\": 58, \"5\": 62, \"4\": 74, \"15\": 92, \"11\": 23, \"8\": 51, \"14\": 57, \"9\": 81, \"10\": 101, \"0\": 34}, \"12\": {\"4\": 87, \"7\": 96, \"1\": 70, \"12\": 81, \"13\": 144, \"10\": 105, \"15\": 96, \"2\": 97, \"0\": 32, \"9\": 78, \"11\": 24, \"3\": 54, \"14\": 55, \"6\": 75, \"5\": 64, \"8\": 42}, \"9\": {\"12\": 62, \"15\": 83, \"2\": 81, \"10\": 50, \"11\": 60, \"4\": 70, \"5\": 78, \"14\": 76, \"0\": 60, \"7\": 70, \"9\": 92, \"13\": 91, \"8\": 74, \"3\": 81, \"1\": 89, \"6\": 83}, \"1\": {\"1\": 78, \"12\": 80, \"8\": 76, \"5\": 72, \"13\": 74, \"14\": 84, \"15\": 85, \"6\": 80, \"9\": 76, \"4\": 70, \"3\": 71, \"2\": 85, \"0\": 81, \"10\": 63, \"7\": 84, \"11\": 41}, \"11\": {\"5\": 44, \"0\": 299, \"2\": 14, \"11\": 383, \"3\": 72, \"8\": 142, \"14\": 83, \"9\": 47, \"7\": 22, \"6\": 21, \"12\": 16, \"15\": 15, \"4\": 6, \"1\": 32, \"10\": 3, \"13\": 1}, \"13\": {\"12\": 106, \"1\": 52, \"4\": 85, \"3\": 40, \"10\": 128, \"6\": 59, \"9\": 50, \"15\": 107, \"13\": 234, \"2\": 144, \"14\": 19, \"7\": 81, \"5\": 50, \"8\": 28, \"0\": 14, \"11\": 3}}, \"ORACLE.run138\": {\"5\": {\"7\": 92, \"15\": 206, \"8\": 221, \"9\": 193, \"5\": 206, \"6\": 13, \"14\": 37, \"1\": 12, \"2\": 86, \"12\": 90, \"4\": 6, \"0\": 5, \"13\": 27, \"10\": 6}, \"8\": {\"9\": 139, \"15\": 177, \"12\": 116, \"5\": 219, \"6\": 14, \"2\": 116, \"8\": 174, \"4\": 10, \"0\": 29, \"7\": 97, \"10\": 5, \"14\": 59, \"13\": 39, \"1\": 6}, \"11\": {\"11\": 1037, \"3\": 158, \"0\": 2, \"10\": 2, \"4\": 1}, \"1\": {\"1\": 531, \"6\": 525, \"15\": 132, \"9\": 2, \"8\": 3, \"12\": 2, \"5\": 5}, \"10\": {\"2\": 20, \"3\": 169, \"14\": 61, \"13\": 138, \"0\": 233, \"4\": 207, \"10\": 320, \"11\": 16, \"7\": 35, \"5\": 1}, \"15\": {\"15\": 530, \"8\": 104, \"5\": 172, \"7\": 8, \"6\": 133, \"9\": 66, \"2\": 15, \"1\": 109, \"12\": 63}, \"3\": {\"10\": 130, \"3\": 780, \"11\": 194, \"13\": 14, \"0\": 64, \"4\": 15, \"7\": 2, \"14\": 1}, \"7\": {\"2\": 237, \"13\": 127, \"7\": 202, \"5\": 72, \"14\": 171, \"4\": 32, \"9\": 81, \"10\": 37, \"8\": 85, \"0\": 104, \"12\": 50, \"15\": 1, \"3\": 1}, \"4\": {\"10\": 267, \"4\": 486, \"14\": 114, \"0\": 139, \"3\": 62, \"13\": 58, \"11\": 26, \"12\": 5, \"7\": 23, \"2\": 19, \"8\": 1}, \"14\": {\"4\": 109, \"10\": 80, \"7\": 208, \"14\": 239, \"3\": 9, \"13\": 111, \"9\": 33, \"8\": 60, \"0\": 126, \"2\": 142, \"12\": 51, \"5\": 30, \"15\": 2}, \"9\": {\"15\": 70, \"8\": 201, \"9\": 332, \"7\": 94, \"2\": 125, \"13\": 34, \"5\": 231, \"12\": 52, \"0\": 16, \"14\": 30, \"6\": 4, \"3\": 1, \"10\": 5, \"4\": 3, \"1\": 2}, \"12\": {\"12\": 437, \"9\": 43, \"8\": 183, \"0\": 9, \"5\": 152, \"7\": 104, \"4\": 8, \"14\": 92, \"15\": 60, \"2\": 94, \"13\": 14, \"6\": 2, \"10\": 2}, \"6\": {\"1\": 527, \"6\": 504, \"15\": 144, \"8\": 9, \"5\": 12, \"12\": 4}, \"2\": {\"5\": 93, \"2\": 194, \"8\": 134, \"14\": 155, \"10\": 23, \"7\": 190, \"15\": 4, \"9\": 145, \"13\": 115, \"4\": 22, \"12\": 56, \"0\": 68, \"3\": 1}, \"0\": {\"14\": 89, \"4\": 110, \"2\": 84, \"13\": 198, \"10\": 240, \"7\": 109, \"0\": 219, \"9\": 24, \"3\": 101, \"5\": 5, \"11\": 11, \"8\": 10}, \"13\": {\"14\": 127, \"13\": 252, \"4\": 68, \"2\": 114, \"7\": 141, \"9\": 42, \"10\": 161, \"0\": 230, \"3\": 22, \"8\": 24, \"5\": 18, \"12\": 1}}, \"ORACLE.run18\": {\"9\": {\"9\": 539, \"3\": 383, \"2\": 173, \"15\": 69, \"12\": 36}, \"10\": {\"4\": 97, \"5\": 133, \"8\": 92, \"7\": 143, \"12\": 45, \"3\": 1, \"10\": 116, \"6\": 131, \"11\": 96, \"1\": 116, \"13\": 131, \"14\": 64, \"2\": 11, \"15\": 22, \"0\": 2}, \"13\": {\"12\": 55, \"1\": 94, \"13\": 164, \"5\": 157, \"10\": 148, \"6\": 126, \"7\": 159, \"4\": 65, \"11\": 96, \"8\": 68, \"14\": 41, \"2\": 10, \"15\": 17}, \"0\": {\"0\": 1021, \"14\": 118, \"4\": 29, \"11\": 7, \"8\": 16, \"13\": 2, \"1\": 2, \"10\": 1, \"6\": 3, \"5\": 1}, \"1\": {\"13\": 105, \"4\": 99, \"10\": 124, \"14\": 71, \"7\": 113, \"5\": 134, \"6\": 104, \"8\": 101, \"1\": 127, \"11\": 142, \"15\": 21, \"12\": 47, \"2\": 10, \"0\": 2}, \"15\": {\"2\": 307, \"5\": 21, \"15\": 293, \"12\": 321, \"3\": 131, \"9\": 64, \"10\": 14, \"1\": 7, \"13\": 21, \"7\": 16, \"6\": 2, \"11\": 3}, \"5\": {\"10\": 142, \"13\": 141, \"11\": 86, \"8\": 77, \"1\": 114, \"12\": 80, \"5\": 140, \"7\": 132, \"14\": 53, \"6\": 105, \"2\": 17, \"15\": 35, \"4\": 75, \"3\": 1, \"0\": 2}, \"3\": {\"2\": 176, \"3\": 482, \"9\": 395, \"12\": 48, \"15\": 99}, \"6\": {\"5\": 118, \"1\": 105, \"8\": 97, \"10\": 114, \"7\": 115, \"12\": 27, \"4\": 132, \"11\": 113, \"14\": 103, \"6\": 132, \"13\": 126, \"15\": 14, \"0\": 1, \"2\": 3}, \"11\": {\"11\": 130, \"8\": 122, \"10\": 97, \"5\": 102, \"15\": 13, \"6\": 110, \"14\": 137, \"13\": 96, \"4\": 111, \"1\": 146, \"7\": 104, \"12\": 22, \"2\": 6, \"0\": 4}, \"8\": {\"7\": 86, \"8\": 158, \"4\": 161, \"1\": 128, \"10\": 85, \"5\": 91, \"11\": 126, \"14\": 172, \"6\": 102, \"13\": 62, \"15\": 9, \"12\": 10, \"2\": 1, \"0\": 9}, \"4\": {\"8\": 130, \"4\": 206, \"0\": 17, \"6\": 96, \"14\": 217, \"13\": 66, \"11\": 118, \"10\": 72, \"1\": 90, \"7\": 103, \"15\": 3, \"5\": 75, \"2\": 2, \"12\": 5}, \"12\": {\"15\": 300, \"2\": 227, \"12\": 408, \"10\": 26, \"9\": 38, \"6\": 8, \"3\": 81, \"13\": 33, \"11\": 3, \"5\": 40, \"1\": 13, \"7\": 21, \"8\": 2}, \"14\": {\"4\": 206, \"14\": 325, \"6\": 77, \"0\": 74, \"1\": 59, \"8\": 153, \"5\": 42, \"13\": 36, \"11\": 105, \"7\": 55, \"10\": 54, \"12\": 12, \"15\": 2}, \"2\": {\"5\": 19, \"2\": 332, \"12\": 235, \"15\": 243, \"9\": 135, \"3\": 207, \"10\": 7, \"7\": 6, \"13\": 11, \"1\": 1, \"11\": 4}, \"7\": {\"13\": 125, \"5\": 139, \"11\": 96, \"6\": 120, \"10\": 140, \"7\": 153, \"12\": 30, \"8\": 69, \"1\": 137, \"14\": 67, \"4\": 101, \"2\": 8, \"15\": 15}}, \"ORACLE.run150\": {\"7\": {\"7\": 396, \"4\": 400, \"3\": 27, \"5\": 175, \"15\": 67, \"9\": 57, \"6\": 56, \"11\": 11, \"12\": 10, \"13\": 1}, \"3\": {\"12\": 78, \"6\": 152, \"15\": 140, \"11\": 133, \"5\": 118, \"4\": 66, \"9\": 123, \"13\": 98, \"3\": 167, \"7\": 55, \"1\": 53, \"8\": 14, \"10\": 3}, \"8\": {\"10\": 241, \"3\": 10, \"8\": 314, \"1\": 235, \"2\": 46, \"11\": 40, \"0\": 82, \"9\": 19, \"13\": 108, \"12\": 42, \"15\": 9, \"6\": 9, \"14\": 37, \"5\": 7, \"7\": 1}, \"2\": {\"14\": 390, \"0\": 281, \"10\": 105, \"2\": 359, \"8\": 45, \"1\": 16, \"11\": 1, \"13\": 2, \"12\": 1}, \"14\": {\"2\": 392, \"0\": 271, \"10\": 95, \"14\": 366, \"8\": 50, \"1\": 20, \"13\": 6}, \"4\": {\"7\": 369, \"4\": 375, \"5\": 198, \"15\": 77, \"12\": 5, \"3\": 41, \"11\": 10, \"9\": 56, \"6\": 64, \"1\": 1, \"13\": 4}, \"6\": {\"9\": 149, \"1\": 31, \"6\": 149, \"3\": 166, \"12\": 97, \"5\": 138, \"4\": 74, \"7\": 96, \"13\": 54, \"15\": 138, \"11\": 103, \"8\": 5}, \"15\": {\"3\": 134, \"15\": 186, \"5\": 160, \"6\": 170, \"7\": 90, \"13\": 48, \"11\": 112, \"9\": 125, \"4\": 94, \"1\": 16, \"12\": 62, \"10\": 1, \"8\": 2}, \"10\": {\"8\": 235, \"1\": 163, \"10\": 294, \"14\": 112, \"2\": 100, \"13\": 60, \"0\": 183, \"11\": 19, \"12\": 16, \"9\": 7, \"3\": 4, \"15\": 3, \"6\": 2, \"5\": 2}, \"11\": {\"5\": 54, \"6\": 100, \"13\": 162, \"15\": 105, \"3\": 131, \"7\": 18, \"12\": 158, \"11\": 205, \"9\": 116, \"8\": 30, \"1\": 87, \"0\": 3, \"4\": 19, \"10\": 10, \"2\": 1, \"14\": 1}, \"13\": {\"13\": 224, \"8\": 130, \"11\": 152, \"5\": 38, \"12\": 81, \"6\": 61, \"3\": 113, \"10\": 54, \"1\": 223, \"15\": 45, \"9\": 54, \"4\": 9, \"7\": 11, \"14\": 1, \"0\": 4}, \"9\": {\"3\": 128, \"6\": 126, \"9\": 183, \"11\": 129, \"15\": 135, \"8\": 12, \"5\": 120, \"12\": 182, \"4\": 72, \"13\": 46, \"7\": 43, \"1\": 23, \"10\": 1}, \"0\": {\"10\": 176, \"0\": 319, \"1\": 49, \"14\": 250, \"2\": 277, \"8\": 108, \"13\": 12, \"11\": 6, \"12\": 3}, \"1\": {\"8\": 234, \"1\": 271, \"13\": 222, \"10\": 135, \"12\": 63, \"6\": 30, \"9\": 30, \"14\": 12, \"0\": 36, \"11\": 84, \"3\": 47, \"15\": 18, \"2\": 12, \"5\": 4, \"7\": 1, \"4\": 1}, \"12\": {\"13\": 94, \"11\": 184, \"1\": 108, \"3\": 89, \"9\": 142, \"12\": 288, \"8\": 54, \"15\": 81, \"6\": 73, \"7\": 20, \"10\": 11, \"0\": 1, \"5\": 44, \"4\": 11}, \"5\": {\"12\": 53, \"15\": 139, \"7\": 212, \"4\": 222, \"6\": 122, \"9\": 94, \"3\": 78, \"5\": 166, \"11\": 62, \"13\": 30, \"1\": 17, \"8\": 4, \"10\": 1}}, \"ORACLE.run132\": {\"8\": {\"13\": 28, \"8\": 170, \"14\": 127, \"7\": 142, \"0\": 161, \"5\": 177, \"4\": 61, \"15\": 132, \"2\": 69, \"1\": 82, \"9\": 3, \"3\": 48}, \"14\": {\"5\": 130, \"14\": 163, \"8\": 133, \"13\": 37, \"2\": 134, \"7\": 163, \"3\": 47, \"1\": 74, \"0\": 162, \"4\": 96, \"15\": 43, \"9\": 14, \"11\": 3, \"12\": 1}, \"2\": {\"3\": 145, \"2\": 213, \"4\": 189, \"5\": 29, \"14\": 102, \"7\": 50, \"1\": 100, \"9\": 65, \"15\": 10, \"11\": 30, \"0\": 61, \"13\": 129, \"8\": 67, \"12\": 8, \"10\": 2}, \"0\": {\"4\": 44, \"8\": 169, \"3\": 41, \"14\": 157, \"0\": 170, \"7\": 189, \"15\": 108, \"2\": 66, \"5\": 172, \"1\": 66, \"9\": 5, \"13\": 13}, \"1\": {\"3\": 149, \"4\": 135, \"5\": 33, \"1\": 177, \"0\": 75, \"2\": 131, \"13\": 126, \"15\": 35, \"14\": 92, \"8\": 96, \"9\": 52, \"7\": 65, \"11\": 21, \"12\": 10, \"10\": 3}, \"10\": {\"12\": 289, \"6\": 165, \"13\": 44, \"11\": 118, \"10\": 450, \"9\": 111, \"3\": 12, \"4\": 4, \"2\": 1, \"1\": 4, \"8\": 1, \"0\": 1}, \"11\": {\"12\": 223, \"9\": 240, \"10\": 120, \"11\": 300, \"6\": 25, \"2\": 49, \"13\": 96, \"4\": 51, \"8\": 2, \"1\": 24, \"3\": 59, \"14\": 6, \"7\": 3, \"0\": 1, \"5\": 1}, \"5\": {\"15\": 213, \"5\": 259, \"14\": 123, \"0\": 179, \"8\": 146, \"7\": 177, \"13\": 8, \"4\": 25, \"2\": 31, \"1\": 28, \"9\": 4, \"3\": 7}, \"15\": {\"15\": 765, \"5\": 162, \"7\": 64, \"8\": 81, \"0\": 89, \"14\": 20, \"1\": 12, \"2\": 3, \"13\": 1, \"4\": 1, \"3\": 2}, \"3\": {\"2\": 136, \"3\": 178, \"4\": 151, \"8\": 58, \"1\": 137, \"13\": 196, \"7\": 40, \"15\": 9, \"14\": 56, \"9\": 95, \"11\": 64, \"5\": 13, \"0\": 41, \"12\": 20, \"10\": 6}, \"12\": {\"10\": 265, \"3\": 29, \"11\": 194, \"4\": 16, \"12\": 316, \"9\": 189, \"1\": 15, \"6\": 56, \"13\": 95, \"2\": 17, \"14\": 5, \"8\": 2, \"7\": 1}, \"7\": {\"14\": 173, \"5\": 195, \"8\": 165, \"0\": 193, \"3\": 20, \"4\": 50, \"7\": 210, \"1\": 53, \"2\": 51, \"15\": 79, \"13\": 10, \"11\": 1}, \"13\": {\"4\": 140, \"10\": 16, \"3\": 176, \"12\": 78, \"11\": 102, \"9\": 154, \"7\": 15, \"13\": 207, \"0\": 27, \"2\": 116, \"1\": 102, \"14\": 35, \"8\": 20, \"5\": 11, \"15\": 1}, \"6\": {\"6\": 917, \"12\": 62, \"10\": 175, \"11\": 25, \"9\": 19, \"4\": 1, \"1\": 1}, \"4\": {\"8\": 47, \"3\": 165, \"2\": 178, \"7\": 50, \"4\": 177, \"11\": 57, \"14\": 71, \"1\": 122, \"13\": 153, \"0\": 47, \"5\": 20, \"12\": 17, \"15\": 9, \"9\": 83, \"10\": 4}, \"9\": {\"10\": 100, \"9\": 210, \"13\": 142, \"12\": 202, \"11\": 204, \"3\": 90, \"4\": 85, \"6\": 26, \"2\": 63, \"1\": 41, \"8\": 11, \"14\": 15, \"7\": 5, \"0\": 6}}, \"ORACLE.run126\": {\"4\": {\"2\": 46, \"4\": 458, \"3\": 131, \"8\": 64, \"13\": 248, \"12\": 94, \"14\": 7, \"7\": 62, \"9\": 63, \"0\": 8, \"10\": 13, \"6\": 1, \"15\": 1, \"5\": 2, \"11\": 1, \"1\": 1}, \"12\": {\"2\": 115, \"9\": 139, \"12\": 145, \"3\": 139, \"5\": 27, \"8\": 116, \"13\": 100, \"4\": 95, \"0\": 54, \"7\": 127, \"10\": 40, \"6\": 26, \"14\": 23, \"15\": 27, \"1\": 18, \"11\": 9}, \"10\": {\"12\": 31, \"6\": 98, \"1\": 140, \"0\": 134, \"14\": 139, \"10\": 124, \"9\": 36, \"3\": 19, \"7\": 40, \"5\": 108, \"2\": 66, \"15\": 113, \"11\": 85, \"8\": 62, \"13\": 5}, \"0\": {\"2\": 79, \"11\": 64, \"15\": 104, \"1\": 81, \"0\": 125, \"10\": 135, \"14\": 111, \"8\": 87, \"13\": 17, \"3\": 31, \"6\": 99, \"9\": 55, \"7\": 83, \"5\": 78, \"12\": 42, \"4\": 9}, \"13\": {\"4\": 263, \"8\": 74, \"13\": 253, \"12\": 113, \"2\": 85, \"9\": 100, \"10\": 13, \"3\": 144, \"7\": 82, \"1\": 5, \"15\": 12, \"14\": 11, \"0\": 25, \"6\": 10, \"5\": 8, \"11\": 2}, \"9\": {\"6\": 24, \"13\": 123, \"9\": 124, \"14\": 28, \"12\": 113, \"3\": 146, \"5\": 26, \"10\": 54, \"4\": 79, \"0\": 59, \"2\": 132, \"8\": 119, \"11\": 18, \"1\": 14, \"15\": 33, \"7\": 108}, \"3\": {\"12\": 130, \"7\": 118, \"14\": 10, \"3\": 160, \"8\": 105, \"0\": 54, \"13\": 163, \"6\": 15, \"4\": 157, \"9\": 126, \"2\": 102, \"10\": 22, \"15\": 22, \"1\": 5, \"11\": 3, \"5\": 8}, \"2\": {\"8\": 121, \"9\": 124, \"2\": 130, \"14\": 45, \"12\": 117, \"10\": 58, \"0\": 93, \"3\": 103, \"6\": 36, \"15\": 50, \"5\": 39, \"13\": 70, \"7\": 118, \"4\": 42, \"11\": 26, \"1\": 28}, \"5\": {\"6\": 151, \"10\": 103, \"15\": 117, \"1\": 142, \"0\": 92, \"11\": 179, \"8\": 40, \"5\": 143, \"2\": 44, \"14\": 107, \"7\": 29, \"9\": 26, \"12\": 12, \"3\": 10, \"4\": 2, \"13\": 3}, \"14\": {\"6\": 114, \"14\": 146, \"0\": 105, \"9\": 15, \"10\": 139, \"7\": 35, \"5\": 100, \"8\": 42, \"1\": 167, \"2\": 58, \"11\": 114, \"15\": 123, \"12\": 26, \"4\": 1, \"3\": 13, \"13\": 2}, \"8\": {\"3\": 120, \"8\": 122, \"2\": 119, \"9\": 99, \"13\": 94, \"7\": 131, \"14\": 34, \"0\": 87, \"12\": 144, \"4\": 70, \"1\": 29, \"15\": 41, \"11\": 18, \"5\": 27, \"10\": 50, \"6\": 15}, \"7\": {\"7\": 135, \"5\": 24, \"3\": 127, \"9\": 133, \"0\": 76, \"14\": 34, \"12\": 131, \"13\": 96, \"8\": 127, \"10\": 50, \"15\": 31, \"4\": 69, \"6\": 20, \"2\": 125, \"11\": 8, \"1\": 14}, \"6\": {\"10\": 127, \"15\": 133, \"8\": 31, \"11\": 149, \"14\": 136, \"0\": 92, \"6\": 148, \"1\": 151, \"7\": 25, \"2\": 37, \"12\": 10, \"3\": 10, \"5\": 125, \"9\": 19, \"13\": 7}, \"11\": {\"10\": 89, \"1\": 204, \"6\": 157, \"11\": 221, \"5\": 176, \"0\": 68, \"14\": 105, \"15\": 115, \"2\": 22, \"8\": 17, \"4\": 1, \"7\": 5, \"9\": 9, \"12\": 8, \"3\": 3}, \"15\": {\"7\": 37, \"15\": 127, \"10\": 109, \"14\": 120, \"11\": 127, \"0\": 104, \"5\": 141, \"2\": 59, \"9\": 31, \"1\": 140, \"6\": 109, \"3\": 15, \"12\": 22, \"8\": 49, \"4\": 3, \"13\": 7}, \"1\": {\"10\": 116, \"6\": 159, \"15\": 98, \"5\": 136, \"11\": 162, \"1\": 264, \"14\": 136, \"0\": 63, \"2\": 23, \"8\": 19, \"3\": 3, \"12\": 4, \"9\": 6, \"13\": 1, \"7\": 10}}, \"ORACLE.run144\": {\"12\": {\"3\": 428, \"12\": 462, \"14\": 3, \"8\": 63, \"0\": 168, \"1\": 45, \"2\": 10, \"15\": 13, \"5\": 5, \"4\": 2, \"10\": 1}, \"7\": {\"4\": 138, \"15\": 46, \"2\": 66, \"9\": 176, \"7\": 178, \"10\": 183, \"14\": 102, \"6\": 95, \"5\": 110, \"13\": 74, \"1\": 19, \"11\": 5, \"8\": 8}, \"5\": {\"7\": 99, \"9\": 99, \"13\": 19, \"14\": 156, \"4\": 125, \"8\": 69, \"2\": 104, \"1\": 75, \"10\": 110, \"5\": 142, \"6\": 35, \"15\": 129, \"0\": 32, \"3\": 2, \"12\": 4}, \"15\": {\"10\": 55, \"1\": 143, \"8\": 166, \"15\": 199, \"2\": 90, \"5\": 105, \"0\": 127, \"4\": 85, \"3\": 26, \"7\": 46, \"14\": 97, \"12\": 21, \"9\": 30, \"6\": 6, \"13\": 4}, \"8\": {\"12\": 94, \"10\": 19, \"1\": 168, \"14\": 58, \"15\": 145, \"8\": 223, \"3\": 84, \"0\": 252, \"7\": 11, \"5\": 31, \"4\": 27, \"2\": 78, \"9\": 8, \"6\": 1, \"13\": 1}, \"2\": {\"5\": 143, \"8\": 81, \"7\": 75, \"14\": 115, \"9\": 56, \"4\": 101, \"15\": 131, \"2\": 200, \"1\": 115, \"0\": 83, \"6\": 11, \"10\": 71, \"13\": 11, \"3\": 1, \"12\": 6}, \"13\": {\"13\": 452, \"6\": 347, \"11\": 135, \"7\": 66, \"4\": 24, \"9\": 128, \"14\": 9, \"10\": 27, \"5\": 11, \"2\": 1}, \"4\": {\"7\": 133, \"15\": 98, \"9\": 107, \"8\": 37, \"5\": 119, \"10\": 159, \"6\": 73, \"1\": 48, \"4\": 136, \"2\": 82, \"14\": 133, \"13\": 52, \"0\": 20, \"11\": 1, \"12\": 2}, \"0\": {\"2\": 64, \"12\": 141, \"8\": 223, \"15\": 95, \"0\": 283, \"3\": 163, \"1\": 151, \"5\": 28, \"7\": 5, \"4\": 11, \"10\": 7, \"14\": 23, \"9\": 5, \"6\": 1}, \"6\": {\"6\": 368, \"4\": 35, \"11\": 75, \"13\": 407, \"9\": 140, \"10\": 58, \"7\": 89, \"5\": 12, \"14\": 13, \"2\": 3}, \"9\": {\"13\": 162, \"7\": 148, \"10\": 119, \"4\": 113, \"6\": 199, \"5\": 82, \"2\": 45, \"14\": 69, \"9\": 171, \"11\": 26, \"15\": 36, \"8\": 13, \"1\": 15, \"0\": 2}, \"11\": {\"11\": 1067, \"13\": 93, \"6\": 39, \"9\": 1}, \"10\": {\"4\": 127, \"2\": 83, \"7\": 159, \"14\": 138, \"10\": 175, \"1\": 30, \"9\": 148, \"13\": 47, \"15\": 52, \"5\": 126, \"8\": 8, \"6\": 87, \"3\": 3, \"0\": 12, \"11\": 4, \"12\": 1}, \"14\": {\"2\": 115, \"15\": 113, \"7\": 105, \"8\": 50, \"14\": 146, \"5\": 141, \"4\": 149, \"1\": 87, \"10\": 127, \"0\": 26, \"9\": 80, \"13\": 22, \"6\": 38, \"12\": 1}, \"1\": {\"1\": 193, \"9\": 18, \"14\": 75, \"4\": 44, \"10\": 35, \"2\": 153, \"12\": 37, \"8\": 172, \"0\": 182, \"5\": 68, \"15\": 165, \"6\": 2, \"7\": 24, \"3\": 29, \"13\": 3}, \"3\": {\"1\": 46, \"12\": 452, \"3\": 430, \"15\": 25, \"4\": 2, \"0\": 147, \"8\": 83, \"2\": 8, \"14\": 3, \"5\": 4}}}, \"per_domain_accuracy\": {\"Wisig_3\": {\"accuracy\": 0.9694010416666666, \"source?\": true}, \"Wisig_4\": {\"accuracy\": 0.9485677083333334, \"source?\": true}, \"Wisig_1\": {\"accuracy\": 0.9811197916666666, \"source?\": true}, \"Wisig_2\": {\"accuracy\": 0.96875, \"source?\": true}, \"ORACLE.run114\": {\"accuracy\": 0.2590625, \"source?\": false}, \"ORACLE.run120\": {\"accuracy\": 0.11755208333333333, \"source?\": false}, \"ORACLE.run138\": {\"accuracy\": 0.33557291666666667, \"source?\": false}, \"ORACLE.run18\": {\"accuracy\": 0.24614583333333334, \"source?\": false}, \"ORACLE.run150\": {\"accuracy\": 0.22197916666666667, \"source?\": false}, \"ORACLE.run132\": {\"accuracy\": 0.25427083333333333, \"source?\": false}, \"ORACLE.run126\": {\"accuracy\": 0.14713541666666666, \"source?\": false}, \"ORACLE.run144\": {\"accuracy\": 0.2513020833333333, \"source?\": false}}}, \"history\": {\"epoch_indices\": [1, 2, 3, 4, 5, 6, 7, 8, 9, 10], \"train_label_loss\": [0.3791029372901753, 0.22547386631052693, 0.1845459064790936, 0.15660798187726724, 0.14739602918752723, 0.13314050723336976, 0.12082445072108039, 0.11316805771465946, 0.09890585019176161, 0.0964984970637058], \"source_val_label_loss\": [0.25317853689193726, 0.24658040702342987, 0.15704989433288574, 0.17621074616909027, 0.1888071745634079, 0.16387273371219635, 0.16051816940307617, 0.1487971693277359, 0.1518431007862091, 0.1419205665588379], \"target_val_label_loss\": [2.5866849422454834, 2.5490174293518066, 2.526451349258423, 2.4910223484039307, 2.511213541030884, 2.465550661087036, 2.486032724380493, 2.555619716644287, 2.471543550491333, 2.513576030731201], \"source_val_acc_label\": [0.9440104166666666, 0.9580078125, 0.96630859375, 0.9645182291666666, 0.9641927083333334, 0.9669596354166666, 0.96630859375, 0.96875, 0.9680989583333334, 0.9698893229166666], \"target_val_acc_label\": [0.3415169270833333, 0.28454427083333333, 0.29368489583333335, 0.28992838541666666, 0.24885416666666665, 0.22912760416666667, 0.23374348958333332, 0.19849609375, 0.21426432291666667, 0.19474609375]}, \"dataset_metrics\": {\"source\": {\"train\": {\"n_unique_x\": 36400, \"n_unique_y\": 130, \"n_batch/episode\": 1344}, \"val\": {\"n_unique_x\": 7800, \"n_unique_y\": 130, \"n_batch/episode\": 192}, \"test\": {\"n_unique_x\": 7800, \"n_unique_y\": 130, \"n_batch/episode\": 192}}, \"target\": {\"train\": {\"n_unique_x\": 896000, \"n_unique_y\": 16, \"n_batch/episode\": 33600}, \"val\": {\"n_unique_x\": 192000, \"n_unique_y\": 16, \"n_batch/episode\": 4800}, \"test\": {\"n_unique_x\": 192000, \"n_unique_y\": 16, \"n_batch/episode\": 4800}}}}'"
      ]
     },
     "execution_count": 29,
     "metadata": {},
     "output_type": "execute_result"
    }
   ],
   "source": [
    "json.dumps(experiment)"
   ]
  }
 ],
 "metadata": {
  "celltoolbar": "Tags",
  "kernelspec": {
   "display_name": "Python 3 (ipykernel)",
   "language": "python",
   "name": "python3"
  },
  "language_info": {
   "codemirror_mode": {
    "name": "ipython",
    "version": 3
   },
   "file_extension": ".py",
   "mimetype": "text/x-python",
   "name": "python",
   "nbconvert_exporter": "python",
   "pygments_lexer": "ipython3",
   "version": "3.8.10"
  },
  "papermill": {
   "default_parameters": {},
   "duration": 969.516087,
   "end_time": "2022-03-10T21:23:11.634882",
   "environment_variables": {},
   "exception": null,
   "input_path": "/mnt/wd500GB/CSC500/csc500-main/csc500-notebooks/templates/tl_ptn_template.ipynb",
   "output_path": "trial.ipynb",
   "parameters": {
    "parameters": {
     "BEST_MODEL_PATH": "./best_model.pth",
     "NUM_LOGS_PER_EPOCH": 10,
     "criteria_for_best": "target_loss",
     "dataset_seed": 1337,
     "datasets": [
      {
       "domain_prefix": "Wisig_",
       "domains": [
        1,
        2,
        3,
        4
       ],
       "episode_transforms": [],
       "labels": [
        "1-10",
        "1-12",
        "1-14",
        "1-16",
        "1-18",
        "1-19",
        "1-8",
        "10-11",
        "10-17",
        "10-4",
        "10-7",
        "11-1",
        "11-10",
        "11-19",
        "11-20",
        "11-4",
        "11-7",
        "12-19",
        "12-20",
        "12-7",
        "13-14",
        "13-18",
        "13-19",
        "13-20",
        "13-3",
        "13-7",
        "14-10",
        "14-11",
        "14-12",
        "14-13",
        "14-14",
        "14-19",
        "14-20",
        "14-7",
        "14-8",
        "14-9",
        "15-1",
        "15-19",
        "15-6",
        "16-1",
        "16-16",
        "16-19",
        "16-20",
        "17-10",
        "17-11",
        "18-1",
        "18-10",
        "18-11",
        "18-12",
        "18-13",
        "18-14",
        "18-15",
        "18-16",
        "18-17",
        "18-19",
        "18-2",
        "18-20",
        "18-4",
        "18-5",
        "18-7",
        "18-8",
        "18-9",
        "19-1",
        "19-10",
        "19-11",
        "19-12",
        "19-13",
        "19-14",
        "19-15",
        "19-19",
        "19-2",
        "19-20",
        "19-3",
        "19-4",
        "19-6",
        "19-7",
        "19-8",
        "19-9",
        "2-1",
        "2-13",
        "2-15",
        "2-3",
        "2-4",
        "2-5",
        "2-6",
        "2-7",
        "2-8",
        "20-1",
        "20-12",
        "20-14",
        "20-15",
        "20-16",
        "20-18",
        "20-19",
        "20-20",
        "20-3",
        "20-4",
        "20-5",
        "20-7",
        "20-8",
        "3-1",
        "3-13",
        "3-18",
        "3-2",
        "3-8",
        "4-1",
        "4-10",
        "4-11",
        "5-1",
        "5-5",
        "6-1",
        "6-15",
        "6-6",
        "7-10",
        "7-11",
        "7-12",
        "7-13",
        "7-14",
        "7-7",
        "7-8",
        "7-9",
        "8-1",
        "8-13",
        "8-14",
        "8-18",
        "8-20",
        "8-3",
        "8-8",
        "9-1",
        "9-7"
       ],
       "num_examples_per_domain_per_label": 100,
       "pickle_path": "/mnt/wd500GB/CSC500/csc500-main/datasets/wisig.node3-19.stratified_ds.2022A.pkl",
       "source_or_target_dataset": "source",
       "x_transforms": []
      },
      {
       "domain_prefix": "ORACLE.run1",
       "domains": [
        32,
        38,
        8,
        44,
        14,
        50,
        20,
        26
       ],
       "episode_transforms": [],
       "labels": [
        "3123D52",
        "3123D65",
        "3123D79",
        "3123D80",
        "3123D54",
        "3123D70",
        "3123D7B",
        "3123D89",
        "3123D58",
        "3123D76",
        "3123D7D",
        "3123EFE",
        "3123D64",
        "3123D78",
        "3123D7E",
        "3124E4A"
       ],
       "num_examples_per_domain_per_label": 10000,
       "pickle_path": "/mnt/wd500GB/CSC500/csc500-main/datasets/oracle.Run1_10kExamples_stratified_ds.2022A.pkl",
       "source_or_target_dataset": "target",
       "x_transforms": []
      }
     ],
     "device": "cuda",
     "experiment_name": "tl_1_wisig-oracle.run1",
     "lr": 0.001,
     "n_epoch": 50,
     "n_query": 2,
     "n_shot": 3,
     "n_way": 16,
     "patience": 3,
     "seed": 1337,
     "test_k_factor": 2,
     "torch_default_dtype": "torch.float32",
     "train_k_factor": 3,
     "val_k_factor": 2,
     "x_net": [
      {
       "class": "nnReshape",
       "kargs": {
        "shape": [
         -1,
         1,
         2,
         256
        ]
       }
      },
      {
       "class": "Conv2d",
       "kargs": {
        "bias": false,
        "in_channels": 1,
        "kernel_size": [
         1,
         7
        ],
        "out_channels": 256,
        "padding": [
         0,
         3
        ]
       }
      },
      {
       "class": "ReLU",
       "kargs": {
        "inplace": true
       }
      },
      {
       "class": "BatchNorm2d",
       "kargs": {
        "num_features": 256
       }
      },
      {
       "class": "Conv2d",
       "kargs": {
        "bias": true,
        "in_channels": 256,
        "kernel_size": [
         2,
         7
        ],
        "out_channels": 80,
        "padding": [
         0,
         3
        ]
       }
      },
      {
       "class": "ReLU",
       "kargs": {
        "inplace": true
       }
      },
      {
       "class": "BatchNorm2d",
       "kargs": {
        "num_features": 80
       }
      },
      {
       "class": "Flatten",
       "kargs": {}
      },
      {
       "class": "Linear",
       "kargs": {
        "in_features": 20480,
        "out_features": 256
       }
      },
      {
       "class": "ReLU",
       "kargs": {
        "inplace": true
       }
      },
      {
       "class": "BatchNorm1d",
       "kargs": {
        "num_features": 256
       }
      },
      {
       "class": "Linear",
       "kargs": {
        "in_features": 256,
        "out_features": 256
       }
      }
     ]
    }
   },
   "start_time": "2022-03-10T21:07:02.118795",
   "version": "2.3.4"
  }
 },
 "nbformat": 4,
 "nbformat_minor": 5
}