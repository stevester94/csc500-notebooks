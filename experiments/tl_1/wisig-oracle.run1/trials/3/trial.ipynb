{
 "cells": [
  {
   "cell_type": "markdown",
   "id": "9fea5f46",
   "metadata": {
    "papermill": {
     "duration": 0.017837,
     "end_time": "2022-03-10T21:23:12.310711",
     "exception": false,
     "start_time": "2022-03-10T21:23:12.292874",
     "status": "completed"
    },
    "tags": []
   },
   "source": [
    "# Transfer Learning Template"
   ]
  },
  {
   "cell_type": "code",
   "execution_count": 1,
   "id": "0902182a",
   "metadata": {
    "execution": {
     "iopub.execute_input": "2022-03-10T21:23:12.350176Z",
     "iopub.status.busy": "2022-03-10T21:23:12.337779Z",
     "iopub.status.idle": "2022-03-10T21:23:13.241190Z",
     "shell.execute_reply": "2022-03-10T21:23:13.240897Z"
    },
    "papermill": {
     "duration": 0.917802,
     "end_time": "2022-03-10T21:23:13.241261",
     "exception": false,
     "start_time": "2022-03-10T21:23:12.323459",
     "status": "completed"
    },
    "tags": []
   },
   "outputs": [],
   "source": [
    "%load_ext autoreload\n",
    "%autoreload 2\n",
    "%matplotlib inline\n",
    "\n",
    "    \n",
    "import os, json, sys, time, random\n",
    "import numpy as np\n",
    "import torch\n",
    "from torch.optim import Adam\n",
    "from  easydict import EasyDict\n",
    "import matplotlib.pyplot as plt\n",
    "\n",
    "from steves_models.steves_ptn import Steves_Prototypical_Network\n",
    "\n",
    "from steves_utils.lazy_iterable_wrapper import Lazy_Iterable_Wrapper\n",
    "from steves_utils.iterable_aggregator import Iterable_Aggregator\n",
    "from steves_utils.ptn_train_eval_test_jig import  PTN_Train_Eval_Test_Jig\n",
    "from steves_utils.torch_sequential_builder import build_sequential\n",
    "from steves_utils.torch_utils import get_dataset_metrics, ptn_confusion_by_domain_over_dataloader\n",
    "from steves_utils.utils_v2 import (per_domain_accuracy_from_confusion, get_datasets_base_path)\n",
    "from steves_utils.PTN.utils import independent_accuracy_assesment\n",
    "\n",
    "from torch.utils.data import DataLoader\n",
    "\n",
    "from steves_utils.stratified_dataset.episodic_accessor import Episodic_Accessor_Factory\n",
    "\n",
    "from steves_utils.ptn_do_report import (\n",
    "    get_loss_curve,\n",
    "    get_results_table,\n",
    "    get_parameters_table,\n",
    "    get_domain_accuracies,\n",
    ")\n",
    "\n",
    "from steves_utils.transforms import get_chained_transform"
   ]
  },
  {
   "cell_type": "markdown",
   "id": "41c840b4",
   "metadata": {
    "papermill": {
     "duration": 0.01324,
     "end_time": "2022-03-10T21:23:13.268251",
     "exception": false,
     "start_time": "2022-03-10T21:23:13.255011",
     "status": "completed"
    },
    "tags": []
   },
   "source": [
    "# Allowed Parameters\n",
    "These are allowed parameters, not defaults\n",
    "Each of these values need to be present in the injected parameters (the notebook will raise an exception if they are not present)\n",
    "\n",
    "Papermill uses the cell tag \"parameters\" to inject the real parameters below this cell.\n",
    "Enable tags to see what I mean"
   ]
  },
  {
   "cell_type": "code",
   "execution_count": 2,
   "id": "fd44eb83",
   "metadata": {
    "execution": {
     "iopub.execute_input": "2022-03-10T21:23:13.298198Z",
     "iopub.status.busy": "2022-03-10T21:23:13.297927Z",
     "iopub.status.idle": "2022-03-10T21:23:13.313036Z",
     "shell.execute_reply": "2022-03-10T21:23:13.313251Z"
    },
    "papermill": {
     "duration": 0.031697,
     "end_time": "2022-03-10T21:23:13.313323",
     "exception": false,
     "start_time": "2022-03-10T21:23:13.281626",
     "status": "completed"
    },
    "tags": []
   },
   "outputs": [],
   "source": [
    "required_parameters = {\n",
    "    \"experiment_name\",\n",
    "    \"lr\",\n",
    "    \"device\",\n",
    "    \"seed\",\n",
    "    \"dataset_seed\",\n",
    "    \"n_shot\",\n",
    "    \"n_query\",\n",
    "    \"n_way\",\n",
    "    \"train_k_factor\",\n",
    "    \"val_k_factor\",\n",
    "    \"test_k_factor\",\n",
    "    \"n_epoch\",\n",
    "    \"patience\",\n",
    "    \"criteria_for_best\",\n",
    "    \"x_net\",\n",
    "    \"datasets\",\n",
    "    \"torch_default_dtype\",\n",
    "    \"NUM_LOGS_PER_EPOCH\",\n",
    "    \"BEST_MODEL_PATH\",\n",
    "}"
   ]
  },
  {
   "cell_type": "code",
   "execution_count": 3,
   "id": "fa3f0049",
   "metadata": {
    "execution": {
     "iopub.execute_input": "2022-03-10T21:23:13.346001Z",
     "iopub.status.busy": "2022-03-10T21:23:13.341496Z",
     "iopub.status.idle": "2022-03-10T21:23:13.358066Z",
     "shell.execute_reply": "2022-03-10T21:23:13.358287Z"
    },
    "papermill": {
     "duration": 0.03142,
     "end_time": "2022-03-10T21:23:13.358359",
     "exception": false,
     "start_time": "2022-03-10T21:23:13.326939",
     "status": "completed"
    },
    "tags": [
     "parameters"
    ]
   },
   "outputs": [],
   "source": [
    "from steves_utils.CORES.utils import (\n",
    "    ALL_NODES,\n",
    "    ALL_NODES_MINIMUM_1000_EXAMPLES,\n",
    "    ALL_DAYS\n",
    ")\n",
    "\n",
    "from steves_utils.ORACLE.utils_v2 import (\n",
    "    ALL_DISTANCES_FEET_NARROWED,\n",
    "    ALL_RUNS,\n",
    "    ALL_SERIAL_NUMBERS,\n",
    ")\n",
    "\n",
    "standalone_parameters = {}\n",
    "standalone_parameters[\"experiment_name\"] = \"STANDALONE PTN\"\n",
    "standalone_parameters[\"lr\"] = 0.001\n",
    "standalone_parameters[\"device\"] = \"cuda\"\n",
    "\n",
    "standalone_parameters[\"seed\"] = 1337\n",
    "standalone_parameters[\"dataset_seed\"] = 1337\n",
    "\n",
    "standalone_parameters[\"n_way\"] = 8\n",
    "standalone_parameters[\"n_shot\"] = 3\n",
    "standalone_parameters[\"n_query\"]  = 2\n",
    "standalone_parameters[\"train_k_factor\"] = 1\n",
    "standalone_parameters[\"val_k_factor\"] = 2\n",
    "standalone_parameters[\"test_k_factor\"] = 2\n",
    "\n",
    "\n",
    "standalone_parameters[\"n_epoch\"] = 50\n",
    "\n",
    "standalone_parameters[\"patience\"] = 10\n",
    "standalone_parameters[\"criteria_for_best\"] = \"source_loss\"\n",
    "\n",
    "standalone_parameters[\"datasets\"] = [\n",
    "    {\n",
    "        \"labels\": ALL_SERIAL_NUMBERS,\n",
    "        \"domains\": ALL_DISTANCES_FEET_NARROWED,\n",
    "        \"num_examples_per_domain_per_label\": 100,\n",
    "        \"pickle_path\": os.path.join(get_datasets_base_path(), \"oracle.Run1_framed_2000Examples_stratified_ds.2022A.pkl\"),\n",
    "        \"source_or_target_dataset\": \"source\",\n",
    "        \"x_transforms\": [\"unit_mag\", \"minus_two\"],\n",
    "        \"episode_transforms\": [],\n",
    "        \"domain_prefix\": \"ORACLE_\"\n",
    "    },\n",
    "    {\n",
    "        \"labels\": ALL_NODES,\n",
    "        \"domains\": ALL_DAYS,\n",
    "        \"num_examples_per_domain_per_label\": 100,\n",
    "        \"pickle_path\": os.path.join(get_datasets_base_path(), \"cores.stratified_ds.2022A.pkl\"),\n",
    "        \"source_or_target_dataset\": \"target\",\n",
    "        \"x_transforms\": [\"unit_power\", \"times_zero\"],\n",
    "        \"episode_transforms\": [],\n",
    "        \"domain_prefix\": \"CORES_\"\n",
    "    }   \n",
    "]\n",
    "\n",
    "standalone_parameters[\"torch_default_dtype\"] = \"torch.float32\" \n",
    "\n",
    "\n",
    "\n",
    "standalone_parameters[\"x_net\"] =     [\n",
    "    {\"class\": \"nnReshape\", \"kargs\": {\"shape\":[-1, 1, 2, 256]}},\n",
    "    {\"class\": \"Conv2d\", \"kargs\": { \"in_channels\":1, \"out_channels\":256, \"kernel_size\":(1,7), \"bias\":False, \"padding\":(0,3), },},\n",
    "    {\"class\": \"ReLU\", \"kargs\": {\"inplace\": True}},\n",
    "    {\"class\": \"BatchNorm2d\", \"kargs\": {\"num_features\":256}},\n",
    "\n",
    "    {\"class\": \"Conv2d\", \"kargs\": { \"in_channels\":256, \"out_channels\":80, \"kernel_size\":(2,7), \"bias\":True, \"padding\":(0,3), },},\n",
    "    {\"class\": \"ReLU\", \"kargs\": {\"inplace\": True}},\n",
    "    {\"class\": \"BatchNorm2d\", \"kargs\": {\"num_features\":80}},\n",
    "    {\"class\": \"Flatten\", \"kargs\": {}},\n",
    "\n",
    "    {\"class\": \"Linear\", \"kargs\": {\"in_features\": 80*256, \"out_features\": 256}}, # 80 units per IQ pair\n",
    "    {\"class\": \"ReLU\", \"kargs\": {\"inplace\": True}},\n",
    "    {\"class\": \"BatchNorm1d\", \"kargs\": {\"num_features\":256}},\n",
    "\n",
    "    {\"class\": \"Linear\", \"kargs\": {\"in_features\": 256, \"out_features\": 256}},\n",
    "]\n",
    "\n",
    "# Parameters relevant to results\n",
    "# These parameters will basically never need to change\n",
    "standalone_parameters[\"NUM_LOGS_PER_EPOCH\"] = 10\n",
    "standalone_parameters[\"BEST_MODEL_PATH\"] = \"./best_model.pth\"\n",
    "\n",
    "\n",
    "\n",
    "\n"
   ]
  },
  {
   "cell_type": "code",
   "execution_count": 4,
   "id": "677c584a",
   "metadata": {
    "execution": {
     "iopub.execute_input": "2022-03-10T21:23:13.393375Z",
     "iopub.status.busy": "2022-03-10T21:23:13.387538Z",
     "iopub.status.idle": "2022-03-10T21:23:13.406341Z",
     "shell.execute_reply": "2022-03-10T21:23:13.405849Z"
    },
    "papermill": {
     "duration": 0.034286,
     "end_time": "2022-03-10T21:23:13.406442",
     "exception": false,
     "start_time": "2022-03-10T21:23:13.372156",
     "status": "completed"
    },
    "tags": [
     "injected-parameters"
    ]
   },
   "outputs": [],
   "source": [
    "# Parameters\n",
    "parameters = {\n",
    "    \"experiment_name\": \"tl_1_wisig-oracle.run1\",\n",
    "    \"device\": \"cuda\",\n",
    "    \"lr\": 0.001,\n",
    "    \"seed\": 1337,\n",
    "    \"dataset_seed\": 1337,\n",
    "    \"n_shot\": 3,\n",
    "    \"n_query\": 2,\n",
    "    \"train_k_factor\": 3,\n",
    "    \"val_k_factor\": 2,\n",
    "    \"test_k_factor\": 2,\n",
    "    \"torch_default_dtype\": \"torch.float32\",\n",
    "    \"n_epoch\": 50,\n",
    "    \"patience\": 3,\n",
    "    \"criteria_for_best\": \"target_loss\",\n",
    "    \"x_net\": [\n",
    "        {\"class\": \"nnReshape\", \"kargs\": {\"shape\": [-1, 1, 2, 256]}},\n",
    "        {\n",
    "            \"class\": \"Conv2d\",\n",
    "            \"kargs\": {\n",
    "                \"in_channels\": 1,\n",
    "                \"out_channels\": 256,\n",
    "                \"kernel_size\": [1, 7],\n",
    "                \"bias\": False,\n",
    "                \"padding\": [0, 3],\n",
    "            },\n",
    "        },\n",
    "        {\"class\": \"ReLU\", \"kargs\": {\"inplace\": True}},\n",
    "        {\"class\": \"BatchNorm2d\", \"kargs\": {\"num_features\": 256}},\n",
    "        {\n",
    "            \"class\": \"Conv2d\",\n",
    "            \"kargs\": {\n",
    "                \"in_channels\": 256,\n",
    "                \"out_channels\": 80,\n",
    "                \"kernel_size\": [2, 7],\n",
    "                \"bias\": True,\n",
    "                \"padding\": [0, 3],\n",
    "            },\n",
    "        },\n",
    "        {\"class\": \"ReLU\", \"kargs\": {\"inplace\": True}},\n",
    "        {\"class\": \"BatchNorm2d\", \"kargs\": {\"num_features\": 80}},\n",
    "        {\"class\": \"Flatten\", \"kargs\": {}},\n",
    "        {\"class\": \"Linear\", \"kargs\": {\"in_features\": 20480, \"out_features\": 256}},\n",
    "        {\"class\": \"ReLU\", \"kargs\": {\"inplace\": True}},\n",
    "        {\"class\": \"BatchNorm1d\", \"kargs\": {\"num_features\": 256}},\n",
    "        {\"class\": \"Linear\", \"kargs\": {\"in_features\": 256, \"out_features\": 256}},\n",
    "    ],\n",
    "    \"NUM_LOGS_PER_EPOCH\": 10,\n",
    "    \"BEST_MODEL_PATH\": \"./best_model.pth\",\n",
    "    \"n_way\": 16,\n",
    "    \"datasets\": [\n",
    "        {\n",
    "            \"labels\": [\n",
    "                \"1-10\",\n",
    "                \"1-12\",\n",
    "                \"1-14\",\n",
    "                \"1-16\",\n",
    "                \"1-18\",\n",
    "                \"1-19\",\n",
    "                \"1-8\",\n",
    "                \"10-11\",\n",
    "                \"10-17\",\n",
    "                \"10-4\",\n",
    "                \"10-7\",\n",
    "                \"11-1\",\n",
    "                \"11-10\",\n",
    "                \"11-19\",\n",
    "                \"11-20\",\n",
    "                \"11-4\",\n",
    "                \"11-7\",\n",
    "                \"12-19\",\n",
    "                \"12-20\",\n",
    "                \"12-7\",\n",
    "                \"13-14\",\n",
    "                \"13-18\",\n",
    "                \"13-19\",\n",
    "                \"13-20\",\n",
    "                \"13-3\",\n",
    "                \"13-7\",\n",
    "                \"14-10\",\n",
    "                \"14-11\",\n",
    "                \"14-12\",\n",
    "                \"14-13\",\n",
    "                \"14-14\",\n",
    "                \"14-19\",\n",
    "                \"14-20\",\n",
    "                \"14-7\",\n",
    "                \"14-8\",\n",
    "                \"14-9\",\n",
    "                \"15-1\",\n",
    "                \"15-19\",\n",
    "                \"15-6\",\n",
    "                \"16-1\",\n",
    "                \"16-16\",\n",
    "                \"16-19\",\n",
    "                \"16-20\",\n",
    "                \"17-10\",\n",
    "                \"17-11\",\n",
    "                \"18-1\",\n",
    "                \"18-10\",\n",
    "                \"18-11\",\n",
    "                \"18-12\",\n",
    "                \"18-13\",\n",
    "                \"18-14\",\n",
    "                \"18-15\",\n",
    "                \"18-16\",\n",
    "                \"18-17\",\n",
    "                \"18-19\",\n",
    "                \"18-2\",\n",
    "                \"18-20\",\n",
    "                \"18-4\",\n",
    "                \"18-5\",\n",
    "                \"18-7\",\n",
    "                \"18-8\",\n",
    "                \"18-9\",\n",
    "                \"19-1\",\n",
    "                \"19-10\",\n",
    "                \"19-11\",\n",
    "                \"19-12\",\n",
    "                \"19-13\",\n",
    "                \"19-14\",\n",
    "                \"19-15\",\n",
    "                \"19-19\",\n",
    "                \"19-2\",\n",
    "                \"19-20\",\n",
    "                \"19-3\",\n",
    "                \"19-4\",\n",
    "                \"19-6\",\n",
    "                \"19-7\",\n",
    "                \"19-8\",\n",
    "                \"19-9\",\n",
    "                \"2-1\",\n",
    "                \"2-13\",\n",
    "                \"2-15\",\n",
    "                \"2-3\",\n",
    "                \"2-4\",\n",
    "                \"2-5\",\n",
    "                \"2-6\",\n",
    "                \"2-7\",\n",
    "                \"2-8\",\n",
    "                \"20-1\",\n",
    "                \"20-12\",\n",
    "                \"20-14\",\n",
    "                \"20-15\",\n",
    "                \"20-16\",\n",
    "                \"20-18\",\n",
    "                \"20-19\",\n",
    "                \"20-20\",\n",
    "                \"20-3\",\n",
    "                \"20-4\",\n",
    "                \"20-5\",\n",
    "                \"20-7\",\n",
    "                \"20-8\",\n",
    "                \"3-1\",\n",
    "                \"3-13\",\n",
    "                \"3-18\",\n",
    "                \"3-2\",\n",
    "                \"3-8\",\n",
    "                \"4-1\",\n",
    "                \"4-10\",\n",
    "                \"4-11\",\n",
    "                \"5-1\",\n",
    "                \"5-5\",\n",
    "                \"6-1\",\n",
    "                \"6-15\",\n",
    "                \"6-6\",\n",
    "                \"7-10\",\n",
    "                \"7-11\",\n",
    "                \"7-12\",\n",
    "                \"7-13\",\n",
    "                \"7-14\",\n",
    "                \"7-7\",\n",
    "                \"7-8\",\n",
    "                \"7-9\",\n",
    "                \"8-1\",\n",
    "                \"8-13\",\n",
    "                \"8-14\",\n",
    "                \"8-18\",\n",
    "                \"8-20\",\n",
    "                \"8-3\",\n",
    "                \"8-8\",\n",
    "                \"9-1\",\n",
    "                \"9-7\",\n",
    "            ],\n",
    "            \"domains\": [1, 2, 3, 4],\n",
    "            \"num_examples_per_domain_per_label\": 100,\n",
    "            \"pickle_path\": \"/mnt/wd500GB/CSC500/csc500-main/datasets/wisig.node3-19.stratified_ds.2022A.pkl\",\n",
    "            \"source_or_target_dataset\": \"target\",\n",
    "            \"x_transforms\": [\"unit_power\"],\n",
    "            \"episode_transforms\": [],\n",
    "            \"domain_prefix\": \"Wisig_\",\n",
    "        },\n",
    "        {\n",
    "            \"labels\": [\n",
    "                \"3123D52\",\n",
    "                \"3123D65\",\n",
    "                \"3123D79\",\n",
    "                \"3123D80\",\n",
    "                \"3123D54\",\n",
    "                \"3123D70\",\n",
    "                \"3123D7B\",\n",
    "                \"3123D89\",\n",
    "                \"3123D58\",\n",
    "                \"3123D76\",\n",
    "                \"3123D7D\",\n",
    "                \"3123EFE\",\n",
    "                \"3123D64\",\n",
    "                \"3123D78\",\n",
    "                \"3123D7E\",\n",
    "                \"3124E4A\",\n",
    "            ],\n",
    "            \"domains\": [32, 38, 8, 44, 14, 50, 20, 26],\n",
    "            \"num_examples_per_domain_per_label\": 10000,\n",
    "            \"pickle_path\": \"/mnt/wd500GB/CSC500/csc500-main/datasets/oracle.Run1_10kExamples_stratified_ds.2022A.pkl\",\n",
    "            \"source_or_target_dataset\": \"source\",\n",
    "            \"x_transforms\": [\"unit_power\"],\n",
    "            \"episode_transforms\": [],\n",
    "            \"domain_prefix\": \"ORACLE.run1\",\n",
    "        },\n",
    "    ],\n",
    "}\n"
   ]
  },
  {
   "cell_type": "code",
   "execution_count": 5,
   "id": "8fa1cc33",
   "metadata": {
    "execution": {
     "iopub.execute_input": "2022-03-10T21:23:13.439719Z",
     "iopub.status.busy": "2022-03-10T21:23:13.439449Z",
     "iopub.status.idle": "2022-03-10T21:23:13.450956Z",
     "shell.execute_reply": "2022-03-10T21:23:13.451356Z"
    },
    "papermill": {
     "duration": 0.02739,
     "end_time": "2022-03-10T21:23:13.451478",
     "exception": false,
     "start_time": "2022-03-10T21:23:13.424088",
     "status": "completed"
    },
    "tags": []
   },
   "outputs": [],
   "source": [
    "# Set this to True if you want to run this template directly\n",
    "STANDALONE = False\n",
    "if STANDALONE:\n",
    "    print(\"parameters not injected, running with standalone_parameters\")\n",
    "    parameters = standalone_parameters\n",
    "\n",
    "if not 'parameters' in locals() and not 'parameters' in globals():\n",
    "    raise Exception(\"Parameter injection failed\")\n",
    "\n",
    "#Use an easy dict for all the parameters\n",
    "p = EasyDict(parameters)\n",
    "\n",
    "supplied_keys = set(p.keys())\n",
    "\n",
    "if  supplied_keys != required_parameters:\n",
    "    print(\"Parameters are incorrect\")\n",
    "    if len(supplied_keys - required_parameters)>0: print(\"Shouldn't have:\", str(supplied_keys - required_parameters))\n",
    "    if len(required_parameters - supplied_keys)>0: print(\"Need to have:\", str(required_parameters - supplied_keys))\n",
    "    raise RuntimeError(\"Parameters are incorrect\")\n",
    "\n"
   ]
  },
  {
   "cell_type": "code",
   "execution_count": 6,
   "id": "3a028d58",
   "metadata": {
    "execution": {
     "iopub.execute_input": "2022-03-10T21:23:13.483746Z",
     "iopub.status.busy": "2022-03-10T21:23:13.483479Z",
     "iopub.status.idle": "2022-03-10T21:23:13.494563Z",
     "shell.execute_reply": "2022-03-10T21:23:13.494876Z"
    },
    "papermill": {
     "duration": 0.026333,
     "end_time": "2022-03-10T21:23:13.494971",
     "exception": false,
     "start_time": "2022-03-10T21:23:13.468638",
     "status": "completed"
    },
    "tags": []
   },
   "outputs": [],
   "source": [
    "###################################\n",
    "# Set the RNGs and make it all deterministic\n",
    "###################################\n",
    "np.random.seed(p.seed)\n",
    "random.seed(p.seed)\n",
    "torch.manual_seed(p.seed)\n",
    "\n",
    "torch.use_deterministic_algorithms(True) "
   ]
  },
  {
   "cell_type": "code",
   "execution_count": 7,
   "id": "b691acf6",
   "metadata": {
    "execution": {
     "iopub.execute_input": "2022-03-10T21:23:13.535289Z",
     "iopub.status.busy": "2022-03-10T21:23:13.531266Z",
     "iopub.status.idle": "2022-03-10T21:23:13.540973Z",
     "shell.execute_reply": "2022-03-10T21:23:13.540749Z"
    },
    "papermill": {
     "duration": 0.026387,
     "end_time": "2022-03-10T21:23:13.541028",
     "exception": false,
     "start_time": "2022-03-10T21:23:13.514641",
     "status": "completed"
    },
    "tags": []
   },
   "outputs": [],
   "source": [
    "###########################################\n",
    "# The stratified datasets honor this\n",
    "###########################################\n",
    "torch.set_default_dtype(eval(p.torch_default_dtype))"
   ]
  },
  {
   "cell_type": "code",
   "execution_count": 8,
   "id": "b5fba671",
   "metadata": {
    "execution": {
     "iopub.execute_input": "2022-03-10T21:23:13.575498Z",
     "iopub.status.busy": "2022-03-10T21:23:13.572105Z",
     "iopub.status.idle": "2022-03-10T21:23:13.609714Z",
     "shell.execute_reply": "2022-03-10T21:23:13.610127Z"
    },
    "papermill": {
     "duration": 0.052927,
     "end_time": "2022-03-10T21:23:13.610261",
     "exception": false,
     "start_time": "2022-03-10T21:23:13.557334",
     "status": "completed"
    },
    "tags": []
   },
   "outputs": [],
   "source": [
    "###################################\n",
    "# Build the network(s)\n",
    "# Note: It's critical to do this AFTER setting the RNG\n",
    "###################################\n",
    "x_net = build_sequential(p.x_net)"
   ]
  },
  {
   "cell_type": "code",
   "execution_count": 9,
   "id": "5d7e61cc",
   "metadata": {
    "execution": {
     "iopub.execute_input": "2022-03-10T21:23:13.645572Z",
     "iopub.status.busy": "2022-03-10T21:23:13.645051Z",
     "iopub.status.idle": "2022-03-10T21:23:13.656306Z",
     "shell.execute_reply": "2022-03-10T21:23:13.655879Z"
    },
    "papermill": {
     "duration": 0.026318,
     "end_time": "2022-03-10T21:23:13.656407",
     "exception": false,
     "start_time": "2022-03-10T21:23:13.630089",
     "status": "completed"
    },
    "tags": []
   },
   "outputs": [],
   "source": [
    "start_time_secs = time.time()"
   ]
  },
  {
   "cell_type": "code",
   "execution_count": 10,
   "id": "c6b67dfd",
   "metadata": {
    "execution": {
     "iopub.execute_input": "2022-03-10T21:23:13.690344Z",
     "iopub.status.busy": "2022-03-10T21:23:13.690082Z",
     "iopub.status.idle": "2022-03-10T21:23:13.700797Z",
     "shell.execute_reply": "2022-03-10T21:23:13.700475Z"
    },
    "papermill": {
     "duration": 0.025908,
     "end_time": "2022-03-10T21:23:13.700874",
     "exception": false,
     "start_time": "2022-03-10T21:23:13.674966",
     "status": "completed"
    },
    "tags": []
   },
   "outputs": [],
   "source": [
    "p.domains_source = []\n",
    "p.domains_target = []\n",
    "\n",
    "\n",
    "train_original_source = []\n",
    "val_original_source   = []\n",
    "test_original_source  = []\n",
    "\n",
    "train_original_target = []\n",
    "val_original_target   = []\n",
    "test_original_target  = []"
   ]
  },
  {
   "cell_type": "code",
   "execution_count": 11,
   "id": "e3d9c3d3",
   "metadata": {
    "execution": {
     "iopub.execute_input": "2022-03-10T21:23:13.735185Z",
     "iopub.status.busy": "2022-03-10T21:23:13.734489Z",
     "iopub.status.idle": "2022-03-10T21:23:13.744871Z",
     "shell.execute_reply": "2022-03-10T21:23:13.745079Z"
    },
    "papermill": {
     "duration": 0.025598,
     "end_time": "2022-03-10T21:23:13.745146",
     "exception": false,
     "start_time": "2022-03-10T21:23:13.719548",
     "status": "completed"
    },
    "tags": []
   },
   "outputs": [],
   "source": [
    "# global_x_transform_func = lambda x: normalize(x.to(torch.get_default_dtype()), \"unit_power\") # unit_power, unit_mag\n",
    "# global_x_transform_func = lambda x: normalize(x, \"unit_power\") # unit_power, unit_mag"
   ]
  },
  {
   "cell_type": "code",
   "execution_count": 12,
   "id": "acb78fd2",
   "metadata": {
    "execution": {
     "iopub.execute_input": "2022-03-10T21:23:13.784976Z",
     "iopub.status.busy": "2022-03-10T21:23:13.784444Z",
     "iopub.status.idle": "2022-03-10T21:23:13.791316Z",
     "shell.execute_reply": "2022-03-10T21:23:13.791713Z"
    },
    "papermill": {
     "duration": 0.030255,
     "end_time": "2022-03-10T21:23:13.791842",
     "exception": false,
     "start_time": "2022-03-10T21:23:13.761587",
     "status": "completed"
    },
    "tags": []
   },
   "outputs": [],
   "source": [
    "def add_dataset(\n",
    "    labels,\n",
    "    domains,\n",
    "    pickle_path,\n",
    "    x_transforms,\n",
    "    episode_transforms,\n",
    "    domain_prefix,\n",
    "    num_examples_per_domain_per_label,\n",
    "    source_or_target_dataset:str,\n",
    "    iterator_seed=p.seed,\n",
    "    dataset_seed=p.dataset_seed,\n",
    "    n_shot=p.n_shot,\n",
    "    n_way=p.n_way,\n",
    "    n_query=p.n_query,\n",
    "    train_val_test_k_factors=(p.train_k_factor,p.val_k_factor,p.test_k_factor),\n",
    "):\n",
    "   \n",
    "    if x_transforms == []: x_transform = None\n",
    "    else: x_transform = get_chained_transform(x_transforms)\n",
    "    \n",
    "    if episode_transforms == []: episode_transform = None\n",
    "    else: raise Exception(\"episode_transforms not implemented\")\n",
    "    \n",
    "    episode_transform = lambda tup, _prefix=domain_prefix: (_prefix + str(tup[0]), tup[1])\n",
    "\n",
    "\n",
    "    eaf = Episodic_Accessor_Factory(\n",
    "        labels=labels,\n",
    "        domains=domains,\n",
    "        num_examples_per_domain_per_label=num_examples_per_domain_per_label,\n",
    "        iterator_seed=iterator_seed,\n",
    "        dataset_seed=dataset_seed,\n",
    "        n_shot=n_shot,\n",
    "        n_way=n_way,\n",
    "        n_query=n_query,\n",
    "        train_val_test_k_factors=train_val_test_k_factors,\n",
    "        pickle_path=pickle_path,\n",
    "        x_transform_func=x_transform,\n",
    "    )\n",
    "\n",
    "    train, val, test = eaf.get_train(), eaf.get_val(), eaf.get_test()\n",
    "    train = Lazy_Iterable_Wrapper(train, episode_transform)\n",
    "    val = Lazy_Iterable_Wrapper(val, episode_transform)\n",
    "    test = Lazy_Iterable_Wrapper(test, episode_transform)\n",
    "\n",
    "    if source_or_target_dataset==\"source\":\n",
    "        train_original_source.append(train)\n",
    "        val_original_source.append(val)\n",
    "        test_original_source.append(test)\n",
    "\n",
    "        p.domains_source.extend(\n",
    "            [domain_prefix + str(u) for u in domains]\n",
    "        )\n",
    "    elif source_or_target_dataset==\"target\":\n",
    "        train_original_target.append(train)\n",
    "        val_original_target.append(val)\n",
    "        test_original_target.append(test)\n",
    "        p.domains_target.extend(\n",
    "            [domain_prefix + str(u) for u in domains]\n",
    "        )\n",
    "    else:\n",
    "        raise Exception(f\"invalid source_or_target_dataset: {source_or_target_dataset}\")\n",
    "    "
   ]
  },
  {
   "cell_type": "code",
   "execution_count": 13,
   "id": "fe266617",
   "metadata": {
    "execution": {
     "iopub.execute_input": "2022-03-10T21:23:13.829228Z",
     "iopub.status.busy": "2022-03-10T21:23:13.826419Z",
     "iopub.status.idle": "2022-03-10T21:24:36.399398Z",
     "shell.execute_reply": "2022-03-10T21:24:36.398954Z"
    },
    "papermill": {
     "duration": 82.588732,
     "end_time": "2022-03-10T21:24:36.399512",
     "exception": false,
     "start_time": "2022-03-10T21:23:13.810780",
     "status": "completed"
    },
    "tags": []
   },
   "outputs": [],
   "source": [
    "for ds in p.datasets:\n",
    "    add_dataset(**ds)"
   ]
  },
  {
   "cell_type": "code",
   "execution_count": 14,
   "id": "b90d65ac",
   "metadata": {
    "execution": {
     "iopub.execute_input": "2022-03-10T21:24:36.435874Z",
     "iopub.status.busy": "2022-03-10T21:24:36.435249Z",
     "iopub.status.idle": "2022-03-10T21:24:36.448928Z",
     "shell.execute_reply": "2022-03-10T21:24:36.448558Z"
    },
    "papermill": {
     "duration": 0.03165,
     "end_time": "2022-03-10T21:24:36.449015",
     "exception": false,
     "start_time": "2022-03-10T21:24:36.417365",
     "status": "completed"
    },
    "tags": []
   },
   "outputs": [],
   "source": [
    "# from steves_utils.CORES.utils import (\n",
    "#     ALL_NODES,\n",
    "#     ALL_NODES_MINIMUM_1000_EXAMPLES,\n",
    "#     ALL_DAYS\n",
    "# )\n",
    "\n",
    "# add_dataset(\n",
    "#     labels=ALL_NODES,\n",
    "#     domains = ALL_DAYS,\n",
    "#     num_examples_per_domain_per_label=100,\n",
    "#     pickle_path=os.path.join(get_datasets_base_path(), \"cores.stratified_ds.2022A.pkl\"),\n",
    "#     source_or_target_dataset=\"target\",\n",
    "#     x_transform_func=global_x_transform_func,\n",
    "#     domain_modifier=lambda u: f\"cores_{u}\"\n",
    "# )"
   ]
  },
  {
   "cell_type": "code",
   "execution_count": 15,
   "id": "76db484d",
   "metadata": {
    "execution": {
     "iopub.execute_input": "2022-03-10T21:24:36.483829Z",
     "iopub.status.busy": "2022-03-10T21:24:36.483569Z",
     "iopub.status.idle": "2022-03-10T21:24:36.494809Z",
     "shell.execute_reply": "2022-03-10T21:24:36.494325Z"
    },
    "papermill": {
     "duration": 0.026732,
     "end_time": "2022-03-10T21:24:36.494920",
     "exception": false,
     "start_time": "2022-03-10T21:24:36.468188",
     "status": "completed"
    },
    "tags": []
   },
   "outputs": [],
   "source": [
    "# from steves_utils.ORACLE.utils_v2 import (\n",
    "#     ALL_DISTANCES_FEET,\n",
    "#     ALL_RUNS,\n",
    "#     ALL_SERIAL_NUMBERS,\n",
    "# )\n",
    "\n",
    "\n",
    "# add_dataset(\n",
    "#     labels=ALL_SERIAL_NUMBERS,\n",
    "#     domains = list(set(ALL_DISTANCES_FEET) - {2,62}),\n",
    "#     num_examples_per_domain_per_label=100,\n",
    "#     pickle_path=os.path.join(get_datasets_base_path(), \"oracle.Run2_framed_2000Examples_stratified_ds.2022A.pkl\"),\n",
    "#     source_or_target_dataset=\"source\",\n",
    "#     x_transform_func=global_x_transform_func,\n",
    "#     domain_modifier=lambda u: f\"oracle1_{u}\"\n",
    "# )\n"
   ]
  },
  {
   "cell_type": "code",
   "execution_count": 16,
   "id": "97dea9d2",
   "metadata": {
    "execution": {
     "iopub.execute_input": "2022-03-10T21:24:36.531730Z",
     "iopub.status.busy": "2022-03-10T21:24:36.528633Z",
     "iopub.status.idle": "2022-03-10T21:24:36.542755Z",
     "shell.execute_reply": "2022-03-10T21:24:36.542385Z"
    },
    "papermill": {
     "duration": 0.030044,
     "end_time": "2022-03-10T21:24:36.542840",
     "exception": false,
     "start_time": "2022-03-10T21:24:36.512796",
     "status": "completed"
    },
    "tags": []
   },
   "outputs": [],
   "source": [
    "# from steves_utils.ORACLE.utils_v2 import (\n",
    "#     ALL_DISTANCES_FEET,\n",
    "#     ALL_RUNS,\n",
    "#     ALL_SERIAL_NUMBERS,\n",
    "# )\n",
    "\n",
    "\n",
    "# add_dataset(\n",
    "#     labels=ALL_SERIAL_NUMBERS,\n",
    "#     domains = list(set(ALL_DISTANCES_FEET) - {2,62,56}),\n",
    "#     num_examples_per_domain_per_label=100,\n",
    "#     pickle_path=os.path.join(get_datasets_base_path(), \"oracle.Run2_framed_2000Examples_stratified_ds.2022A.pkl\"),\n",
    "#     source_or_target_dataset=\"source\",\n",
    "#     x_transform_func=global_x_transform_func,\n",
    "#     domain_modifier=lambda u: f\"oracle2_{u}\"\n",
    "# )"
   ]
  },
  {
   "cell_type": "code",
   "execution_count": 17,
   "id": "6f289866",
   "metadata": {
    "execution": {
     "iopub.execute_input": "2022-03-10T21:24:36.579235Z",
     "iopub.status.busy": "2022-03-10T21:24:36.576658Z",
     "iopub.status.idle": "2022-03-10T21:24:36.590690Z",
     "shell.execute_reply": "2022-03-10T21:24:36.591087Z"
    },
    "papermill": {
     "duration": 0.030434,
     "end_time": "2022-03-10T21:24:36.591210",
     "exception": false,
     "start_time": "2022-03-10T21:24:36.560776",
     "status": "completed"
    },
    "tags": []
   },
   "outputs": [],
   "source": [
    "# add_dataset(\n",
    "#     labels=list(range(19)),\n",
    "#     domains = [0,1,2],\n",
    "#     num_examples_per_domain_per_label=100,\n",
    "#     pickle_path=os.path.join(get_datasets_base_path(), \"metehan.stratified_ds.2022A.pkl\"),\n",
    "#     source_or_target_dataset=\"target\",\n",
    "#     x_transform_func=global_x_transform_func,\n",
    "#     domain_modifier=lambda u: f\"met_{u}\"\n",
    "# )"
   ]
  },
  {
   "cell_type": "code",
   "execution_count": 18,
   "id": "86a863c3",
   "metadata": {
    "execution": {
     "iopub.execute_input": "2022-03-10T21:24:36.632689Z",
     "iopub.status.busy": "2022-03-10T21:24:36.632324Z",
     "iopub.status.idle": "2022-03-10T21:24:36.641948Z",
     "shell.execute_reply": "2022-03-10T21:24:36.641647Z"
    },
    "papermill": {
     "duration": 0.031143,
     "end_time": "2022-03-10T21:24:36.642026",
     "exception": false,
     "start_time": "2022-03-10T21:24:36.610883",
     "status": "completed"
    },
    "tags": []
   },
   "outputs": [],
   "source": [
    "# # from steves_utils.wisig.utils import (\n",
    "# #     ALL_NODES_MINIMUM_100_EXAMPLES,\n",
    "# #     ALL_NODES_MINIMUM_500_EXAMPLES,\n",
    "# #     ALL_NODES_MINIMUM_1000_EXAMPLES,\n",
    "# #     ALL_DAYS\n",
    "# # )\n",
    "\n",
    "# import steves_utils.wisig.utils as wisig\n",
    "\n",
    "\n",
    "# add_dataset(\n",
    "#     labels=wisig.ALL_NODES_MINIMUM_100_EXAMPLES,\n",
    "#     domains = wisig.ALL_DAYS,\n",
    "#     num_examples_per_domain_per_label=100,\n",
    "#     pickle_path=os.path.join(get_datasets_base_path(), \"wisig.node3-19.stratified_ds.2022A.pkl\"),\n",
    "#     source_or_target_dataset=\"target\",\n",
    "#     x_transform_func=global_x_transform_func,\n",
    "#     domain_modifier=lambda u: f\"wisig_{u}\"\n",
    "# )"
   ]
  },
  {
   "cell_type": "code",
   "execution_count": 19,
   "id": "fd5442bc",
   "metadata": {
    "execution": {
     "iopub.execute_input": "2022-03-10T21:24:36.679494Z",
     "iopub.status.busy": "2022-03-10T21:24:36.679211Z",
     "iopub.status.idle": "2022-03-10T21:24:36.691440Z",
     "shell.execute_reply": "2022-03-10T21:24:36.691841Z"
    },
    "papermill": {
     "duration": 0.031541,
     "end_time": "2022-03-10T21:24:36.691961",
     "exception": false,
     "start_time": "2022-03-10T21:24:36.660420",
     "status": "completed"
    },
    "tags": []
   },
   "outputs": [],
   "source": [
    "###################################\n",
    "# Build the dataset\n",
    "###################################\n",
    "train_original_source = Iterable_Aggregator(train_original_source, p.seed)\n",
    "val_original_source = Iterable_Aggregator(val_original_source, p.seed)\n",
    "test_original_source = Iterable_Aggregator(test_original_source, p.seed)\n",
    "\n",
    "\n",
    "train_original_target = Iterable_Aggregator(train_original_target, p.seed)\n",
    "val_original_target = Iterable_Aggregator(val_original_target, p.seed)\n",
    "test_original_target = Iterable_Aggregator(test_original_target, p.seed)\n",
    "\n",
    "# For CNN We only use X and Y. And we only train on the source.\n",
    "# Properly form the data using a transform lambda and Lazy_Iterable_Wrapper. Finally wrap them in a dataloader\n",
    "\n",
    "transform_lambda = lambda ex: ex[1] # Original is (<domain>, <episode>) so we strip down to episode only\n",
    "\n",
    "train_processed_source = Lazy_Iterable_Wrapper(train_original_source, transform_lambda)\n",
    "val_processed_source   = Lazy_Iterable_Wrapper(val_original_source, transform_lambda)\n",
    "test_processed_source  = Lazy_Iterable_Wrapper(test_original_source, transform_lambda)\n",
    "\n",
    "train_processed_target = Lazy_Iterable_Wrapper(train_original_target, transform_lambda)\n",
    "val_processed_target   = Lazy_Iterable_Wrapper(val_original_target, transform_lambda)\n",
    "test_processed_target  = Lazy_Iterable_Wrapper(test_original_target, transform_lambda)\n",
    "\n",
    "datasets = EasyDict({\n",
    "    \"source\": {\n",
    "        \"original\": {\"train\":train_original_source, \"val\":val_original_source, \"test\":test_original_source},\n",
    "        \"processed\": {\"train\":train_processed_source, \"val\":val_processed_source, \"test\":test_processed_source}\n",
    "    },\n",
    "    \"target\": {\n",
    "        \"original\": {\"train\":train_original_target, \"val\":val_original_target, \"test\":test_original_target},\n",
    "        \"processed\": {\"train\":train_processed_target, \"val\":val_processed_target, \"test\":test_processed_target}\n",
    "    },\n",
    "})"
   ]
  },
  {
   "cell_type": "code",
   "execution_count": 20,
   "id": "5b3c01fc",
   "metadata": {
    "execution": {
     "iopub.execute_input": "2022-03-10T21:24:36.732029Z",
     "iopub.status.busy": "2022-03-10T21:24:36.728451Z",
     "iopub.status.idle": "2022-03-10T21:24:50.589900Z",
     "shell.execute_reply": "2022-03-10T21:24:50.590207Z"
    },
    "papermill": {
     "duration": 13.878854,
     "end_time": "2022-03-10T21:24:50.590317",
     "exception": false,
     "start_time": "2022-03-10T21:24:36.711463",
     "status": "completed"
    },
    "tags": []
   },
   "outputs": [
    {
     "name": "stdout",
     "output_type": "stream",
     "text": [
      "{'ORACLE.run132', 'ORACLE.run138', 'ORACLE.run114', 'ORACLE.run126', 'ORACLE.run150', 'ORACLE.run120', 'ORACLE.run18', 'ORACLE.run144'}\n"
     ]
    },
    {
     "name": "stdout",
     "output_type": "stream",
     "text": [
      "{'Wisig_2', 'Wisig_4', 'Wisig_1', 'Wisig_3'}\n"
     ]
    },
    {
     "name": "stdout",
     "output_type": "stream",
     "text": [
      "tensor([[[-0.0194, -0.3495,  0.3592,  ..., -0.3301, -0.2816,  0.5631],\n",
      "         [-0.5922,  0.2330, -0.1262,  ...,  0.0680, -0.9709,  0.1359]],\n",
      "\n",
      "        [[ 0.4488, -0.7145, -1.3832,  ...,  0.4397,  0.0550, -0.3114],\n",
      "         [-0.1374, -0.4030, -1.4290,  ..., -0.4672,  0.3023, -0.5130]],\n",
      "\n",
      "        [[-0.8545, -0.4502,  0.1011,  ...,  0.1194,  1.3966,  1.0750],\n",
      "         [-0.1930,  0.3308, -0.3675,  ..., -1.4793,  0.0000, -0.0276]],\n",
      "\n",
      "        ...,\n",
      "\n",
      "        [[-0.0124,  0.6262, -0.0744,  ..., -0.8432, -1.3578,  0.8742],\n",
      "         [ 1.1904, -0.8556, -0.5270,  ..., -0.1364,  0.2046, -0.9238]],\n",
      "\n",
      "        [[-0.8808, -1.3658, -1.6402,  ..., -0.8488,  0.5489,  0.1979],\n",
      "         [ 1.1297,  0.0319,  1.1297,  ..., -0.3191,  0.7340, -0.1915]],\n",
      "\n",
      "        [[ 1.2980, -0.6931, -0.5860,  ..., -0.7876, -0.3907, -0.0063],\n",
      "         [-0.4600,  0.9704,  0.0063,  ...,  1.4997,  0.2205,  1.0460]]])\n"
     ]
    }
   ],
   "source": [
    "from steves_utils.transforms import get_average_magnitude, get_average_power\n",
    "\n",
    "print(set([u for u,_ in val_original_source]))\n",
    "print(set([u for u,_ in val_original_target]))\n",
    "\n",
    "s_x, s_y, q_x, q_y, _ = next(iter(train_processed_source))\n",
    "print(s_x)\n",
    "\n",
    "# for ds in [\n",
    "#     train_processed_source,\n",
    "#     val_processed_source,\n",
    "#     test_processed_source,\n",
    "#     train_processed_target,\n",
    "#     val_processed_target,\n",
    "#     test_processed_target\n",
    "# ]:\n",
    "#     for s_x, s_y, q_x, q_y, _ in ds:\n",
    "#         for X in (s_x, q_x):\n",
    "#             for x in X:\n",
    "#                 assert np.isclose(get_average_magnitude(x.numpy()), 1.0)\n",
    "#                 assert np.isclose(get_average_power(x.numpy()), 1.0)\n",
    "                "
   ]
  },
  {
   "cell_type": "code",
   "execution_count": 21,
   "id": "bbdacba1",
   "metadata": {
    "execution": {
     "iopub.execute_input": "2022-03-10T21:24:50.624289Z",
     "iopub.status.busy": "2022-03-10T21:24:50.623796Z",
     "iopub.status.idle": "2022-03-10T21:24:50.678857Z",
     "shell.execute_reply": "2022-03-10T21:24:50.678483Z"
    },
    "papermill": {
     "duration": 0.073345,
     "end_time": "2022-03-10T21:24:50.678938",
     "exception": false,
     "start_time": "2022-03-10T21:24:50.605593",
     "status": "completed"
    },
    "tags": []
   },
   "outputs": [
    {
     "name": "stdout",
     "output_type": "stream",
     "text": [
      "(2, 256)\n"
     ]
    }
   ],
   "source": [
    "###################################\n",
    "# Build the model\n",
    "###################################\n",
    "model = Steves_Prototypical_Network(x_net, device=p.device, x_shape=(2,256))\n",
    "optimizer = Adam(params=model.parameters(), lr=p.lr)"
   ]
  },
  {
   "cell_type": "code",
   "execution_count": 22,
   "id": "22b39ac5",
   "metadata": {
    "execution": {
     "iopub.execute_input": "2022-03-10T21:24:50.714032Z",
     "iopub.status.busy": "2022-03-10T21:24:50.713777Z",
     "iopub.status.idle": "2022-03-10T22:54:49.278078Z",
     "shell.execute_reply": "2022-03-10T22:54:49.277848Z"
    },
    "papermill": {
     "duration": 5398.581692,
     "end_time": "2022-03-10T22:54:49.278137",
     "exception": false,
     "start_time": "2022-03-10T21:24:50.696445",
     "status": "completed"
    },
    "tags": []
   },
   "outputs": [
    {
     "name": "stdout",
     "output_type": "stream",
     "text": [
      "epoch: 1, [batch: 1 / 33600], examples_per_second: 9.9762, train_label_loss: 2.8207, \n"
     ]
    },
    {
     "name": "stdout",
     "output_type": "stream",
     "text": [
      "epoch: 1, [batch: 3360 / 33600], examples_per_second: 3155.8124, train_label_loss: 0.9020, \n"
     ]
    },
    {
     "name": "stdout",
     "output_type": "stream",
     "text": [
      "epoch: 1, [batch: 6720 / 33600], examples_per_second: 3154.3555, train_label_loss: 1.7548, \n"
     ]
    },
    {
     "name": "stdout",
     "output_type": "stream",
     "text": [
      "epoch: 1, [batch: 10080 / 33600], examples_per_second: 3155.7239, train_label_loss: 0.7537, \n"
     ]
    },
    {
     "name": "stdout",
     "output_type": "stream",
     "text": [
      "epoch: 1, [batch: 13440 / 33600], examples_per_second: 3132.7226, train_label_loss: 0.8750, \n"
     ]
    },
    {
     "name": "stdout",
     "output_type": "stream",
     "text": [
      "epoch: 1, [batch: 16800 / 33600], examples_per_second: 3151.7535, train_label_loss: 0.8404, \n"
     ]
    },
    {
     "name": "stdout",
     "output_type": "stream",
     "text": [
      "epoch: 1, [batch: 20160 / 33600], examples_per_second: 3141.7425, train_label_loss: 0.6710, \n"
     ]
    },
    {
     "name": "stdout",
     "output_type": "stream",
     "text": [
      "epoch: 1, [batch: 23520 / 33600], examples_per_second: 3142.4771, train_label_loss: 0.6100, \n"
     ]
    },
    {
     "name": "stdout",
     "output_type": "stream",
     "text": [
      "epoch: 1, [batch: 26880 / 33600], examples_per_second: 3149.2657, train_label_loss: 0.7537, \n"
     ]
    },
    {
     "name": "stdout",
     "output_type": "stream",
     "text": [
      "epoch: 1, [batch: 30240 / 33600], examples_per_second: 3137.3587, train_label_loss: 1.1139, \n"
     ]
    },
    {
     "name": "stdout",
     "output_type": "stream",
     "text": [
      "=============================================================\n",
      "epoch: 1, source_val_acc_label: 0.6216, target_val_acc_label: 0.3599, source_val_label_loss: 38.2709, target_val_label_loss: 2813.9009, \n",
      "=============================================================\n"
     ]
    },
    {
     "name": "stdout",
     "output_type": "stream",
     "text": [
      "New best\n"
     ]
    },
    {
     "name": "stdout",
     "output_type": "stream",
     "text": [
      "epoch: 2, [batch: 1 / 33600], examples_per_second: 1.1707, train_label_loss: 68.3596, \n"
     ]
    },
    {
     "name": "stdout",
     "output_type": "stream",
     "text": [
      "epoch: 2, [batch: 3360 / 33600], examples_per_second: 3158.7352, train_label_loss: 0.7270, \n"
     ]
    },
    {
     "name": "stdout",
     "output_type": "stream",
     "text": [
      "epoch: 2, [batch: 6720 / 33600], examples_per_second: 3167.2549, train_label_loss: 1.1783, \n"
     ]
    },
    {
     "name": "stdout",
     "output_type": "stream",
     "text": [
      "epoch: 2, [batch: 10080 / 33600], examples_per_second: 3172.2981, train_label_loss: 0.4736, \n"
     ]
    },
    {
     "name": "stdout",
     "output_type": "stream",
     "text": [
      "epoch: 2, [batch: 13440 / 33600], examples_per_second: 3165.8924, train_label_loss: 0.6046, \n"
     ]
    },
    {
     "name": "stdout",
     "output_type": "stream",
     "text": [
      "epoch: 2, [batch: 16800 / 33600], examples_per_second: 3177.0495, train_label_loss: 1.2934, \n"
     ]
    },
    {
     "name": "stdout",
     "output_type": "stream",
     "text": [
      "epoch: 2, [batch: 20160 / 33600], examples_per_second: 3169.6325, train_label_loss: 1.2036, \n"
     ]
    },
    {
     "name": "stdout",
     "output_type": "stream",
     "text": [
      "epoch: 2, [batch: 23520 / 33600], examples_per_second: 3179.1965, train_label_loss: 0.4483, \n"
     ]
    },
    {
     "name": "stdout",
     "output_type": "stream",
     "text": [
      "epoch: 2, [batch: 26880 / 33600], examples_per_second: 3179.0837, train_label_loss: 0.3051, \n"
     ]
    },
    {
     "name": "stdout",
     "output_type": "stream",
     "text": [
      "epoch: 2, [batch: 30240 / 33600], examples_per_second: 3176.7612, train_label_loss: 0.9233, \n"
     ]
    },
    {
     "name": "stdout",
     "output_type": "stream",
     "text": [
      "=============================================================\n",
      "epoch: 2, source_val_acc_label: 0.6966, target_val_acc_label: 0.2380, source_val_label_loss: 0.8193, target_val_label_loss: 1790.9384, \n",
      "=============================================================\n"
     ]
    },
    {
     "name": "stdout",
     "output_type": "stream",
     "text": [
      "New best\n"
     ]
    },
    {
     "name": "stdout",
     "output_type": "stream",
     "text": [
      "epoch: 3, [batch: 1 / 33600], examples_per_second: 1.1775, train_label_loss: 0.4583, \n"
     ]
    },
    {
     "name": "stdout",
     "output_type": "stream",
     "text": [
      "epoch: 3, [batch: 3360 / 33600], examples_per_second: 3163.2498, train_label_loss: 0.6029, \n"
     ]
    },
    {
     "name": "stdout",
     "output_type": "stream",
     "text": [
      "epoch: 3, [batch: 6720 / 33600], examples_per_second: 3172.8578, train_label_loss: 0.5682, \n"
     ]
    },
    {
     "name": "stdout",
     "output_type": "stream",
     "text": [
      "epoch: 3, [batch: 10080 / 33600], examples_per_second: 3176.2971, train_label_loss: 0.5556, \n"
     ]
    },
    {
     "name": "stdout",
     "output_type": "stream",
     "text": [
      "epoch: 3, [batch: 13440 / 33600], examples_per_second: 3165.4600, train_label_loss: 0.4691, \n"
     ]
    },
    {
     "name": "stdout",
     "output_type": "stream",
     "text": [
      "epoch: 3, [batch: 16800 / 33600], examples_per_second: 3176.1093, train_label_loss: 0.9782, \n"
     ]
    },
    {
     "name": "stdout",
     "output_type": "stream",
     "text": [
      "epoch: 3, [batch: 20160 / 33600], examples_per_second: 3163.2239, train_label_loss: 1.1638, \n"
     ]
    },
    {
     "name": "stdout",
     "output_type": "stream",
     "text": [
      "epoch: 3, [batch: 23520 / 33600], examples_per_second: 3163.1258, train_label_loss: 0.8473, \n"
     ]
    },
    {
     "name": "stdout",
     "output_type": "stream",
     "text": [
      "epoch: 3, [batch: 26880 / 33600], examples_per_second: 3171.3088, train_label_loss: 0.2871, \n"
     ]
    },
    {
     "name": "stdout",
     "output_type": "stream",
     "text": [
      "epoch: 3, [batch: 30240 / 33600], examples_per_second: 3176.0854, train_label_loss: 0.7365, \n"
     ]
    },
    {
     "name": "stdout",
     "output_type": "stream",
     "text": [
      "=============================================================\n",
      "epoch: 3, source_val_acc_label: 0.7301, target_val_acc_label: 0.2480, source_val_label_loss: 0.7306, target_val_label_loss: 1940.1987, \n",
      "=============================================================\n"
     ]
    },
    {
     "name": "stdout",
     "output_type": "stream",
     "text": [
      "epoch: 4, [batch: 1 / 33600], examples_per_second: 1.1833, train_label_loss: 0.4856, \n"
     ]
    },
    {
     "name": "stdout",
     "output_type": "stream",
     "text": [
      "epoch: 4, [batch: 3360 / 33600], examples_per_second: 3155.6736, train_label_loss: 0.6709, \n"
     ]
    },
    {
     "name": "stdout",
     "output_type": "stream",
     "text": [
      "epoch: 4, [batch: 6720 / 33600], examples_per_second: 3172.6273, train_label_loss: 1.1661, \n"
     ]
    },
    {
     "name": "stdout",
     "output_type": "stream",
     "text": [
      "epoch: 4, [batch: 10080 / 33600], examples_per_second: 3177.5524, train_label_loss: 0.5583, \n"
     ]
    },
    {
     "name": "stdout",
     "output_type": "stream",
     "text": [
      "epoch: 4, [batch: 13440 / 33600], examples_per_second: 3168.9944, train_label_loss: 0.4969, \n"
     ]
    },
    {
     "name": "stdout",
     "output_type": "stream",
     "text": [
      "epoch: 4, [batch: 16800 / 33600], examples_per_second: 3180.4330, train_label_loss: 0.5682, \n"
     ]
    },
    {
     "name": "stdout",
     "output_type": "stream",
     "text": [
      "epoch: 4, [batch: 20160 / 33600], examples_per_second: 3178.7185, train_label_loss: 0.5014, \n"
     ]
    },
    {
     "name": "stdout",
     "output_type": "stream",
     "text": [
      "epoch: 4, [batch: 23520 / 33600], examples_per_second: 3163.1040, train_label_loss: 0.3536, \n"
     ]
    },
    {
     "name": "stdout",
     "output_type": "stream",
     "text": [
      "epoch: 4, [batch: 26880 / 33600], examples_per_second: 3181.6035, train_label_loss: 0.6050, \n"
     ]
    },
    {
     "name": "stdout",
     "output_type": "stream",
     "text": [
      "epoch: 4, [batch: 30240 / 33600], examples_per_second: 3179.5767, train_label_loss: 0.4058, \n"
     ]
    },
    {
     "name": "stdout",
     "output_type": "stream",
     "text": [
      "=============================================================\n",
      "epoch: 4, source_val_acc_label: 0.7429, target_val_acc_label: 0.2594, source_val_label_loss: 0.7141, target_val_label_loss: 2269.4255, \n",
      "=============================================================\n"
     ]
    },
    {
     "name": "stdout",
     "output_type": "stream",
     "text": [
      "epoch: 5, [batch: 1 / 33600], examples_per_second: 1.1813, train_label_loss: 0.9501, \n"
     ]
    },
    {
     "name": "stdout",
     "output_type": "stream",
     "text": [
      "epoch: 5, [batch: 3360 / 33600], examples_per_second: 3156.8335, train_label_loss: 0.4917, \n"
     ]
    },
    {
     "name": "stdout",
     "output_type": "stream",
     "text": [
      "epoch: 5, [batch: 6720 / 33600], examples_per_second: 3161.7168, train_label_loss: 0.2839, \n"
     ]
    },
    {
     "name": "stdout",
     "output_type": "stream",
     "text": [
      "epoch: 5, [batch: 10080 / 33600], examples_per_second: 3172.5053, train_label_loss: 0.6913, \n"
     ]
    },
    {
     "name": "stdout",
     "output_type": "stream",
     "text": [
      "epoch: 5, [batch: 13440 / 33600], examples_per_second: 3164.0233, train_label_loss: 0.7825, \n"
     ]
    },
    {
     "name": "stdout",
     "output_type": "stream",
     "text": [
      "epoch: 5, [batch: 16800 / 33600], examples_per_second: 3167.3827, train_label_loss: 0.7378, \n"
     ]
    },
    {
     "name": "stdout",
     "output_type": "stream",
     "text": [
      "epoch: 5, [batch: 20160 / 33600], examples_per_second: 3170.4453, train_label_loss: 0.7197, \n"
     ]
    },
    {
     "name": "stdout",
     "output_type": "stream",
     "text": [
      "epoch: 5, [batch: 23520 / 33600], examples_per_second: 3162.7709, train_label_loss: 0.4097, \n"
     ]
    },
    {
     "name": "stdout",
     "output_type": "stream",
     "text": [
      "epoch: 5, [batch: 26880 / 33600], examples_per_second: 3172.1352, train_label_loss: 0.3275, \n"
     ]
    },
    {
     "name": "stdout",
     "output_type": "stream",
     "text": [
      "epoch: 5, [batch: 30240 / 33600], examples_per_second: 3176.9770, train_label_loss: 0.7501, \n"
     ]
    },
    {
     "name": "stdout",
     "output_type": "stream",
     "text": [
      "=============================================================\n",
      "epoch: 5, source_val_acc_label: 0.7402, target_val_acc_label: 0.2712, source_val_label_loss: 0.7207, target_val_label_loss: 2266.6541, \n",
      "=============================================================\n"
     ]
    },
    {
     "name": "stdout",
     "output_type": "stream",
     "text": [
      "epoch: 6, [batch: 1 / 33600], examples_per_second: 1.1819, train_label_loss: 0.5713, \n"
     ]
    },
    {
     "name": "stdout",
     "output_type": "stream",
     "text": [
      "epoch: 6, [batch: 3360 / 33600], examples_per_second: 3166.5829, train_label_loss: 0.8131, \n"
     ]
    },
    {
     "name": "stdout",
     "output_type": "stream",
     "text": [
      "epoch: 6, [batch: 6720 / 33600], examples_per_second: 3173.5234, train_label_loss: 0.4622, \n"
     ]
    },
    {
     "name": "stdout",
     "output_type": "stream",
     "text": [
      "epoch: 6, [batch: 10080 / 33600], examples_per_second: 3176.1723, train_label_loss: 0.5783, \n"
     ]
    },
    {
     "name": "stdout",
     "output_type": "stream",
     "text": [
      "epoch: 6, [batch: 13440 / 33600], examples_per_second: 3155.0102, train_label_loss: 0.4597, \n"
     ]
    },
    {
     "name": "stdout",
     "output_type": "stream",
     "text": [
      "epoch: 6, [batch: 16800 / 33600], examples_per_second: 3175.5298, train_label_loss: 0.3414, \n"
     ]
    },
    {
     "name": "stdout",
     "output_type": "stream",
     "text": [
      "epoch: 6, [batch: 20160 / 33600], examples_per_second: 3175.5575, train_label_loss: 0.5383, \n"
     ]
    },
    {
     "name": "stdout",
     "output_type": "stream",
     "text": [
      "epoch: 6, [batch: 23520 / 33600], examples_per_second: 3167.7165, train_label_loss: 0.3381, \n"
     ]
    },
    {
     "name": "stdout",
     "output_type": "stream",
     "text": [
      "epoch: 6, [batch: 26880 / 33600], examples_per_second: 3162.0110, train_label_loss: 0.3962, \n"
     ]
    },
    {
     "name": "stdout",
     "output_type": "stream",
     "text": [
      "epoch: 6, [batch: 30240 / 33600], examples_per_second: 3161.2565, train_label_loss: 0.5285, \n"
     ]
    },
    {
     "name": "stdout",
     "output_type": "stream",
     "text": [
      "=============================================================\n",
      "epoch: 6, source_val_acc_label: 0.7413, target_val_acc_label: 0.2868, source_val_label_loss: 0.7213, target_val_label_loss: 2135.2612, \n",
      "=============================================================\n"
     ]
    },
    {
     "name": "stdout",
     "output_type": "stream",
     "text": [
      "Patience (3) exhausted\n"
     ]
    }
   ],
   "source": [
    "###################################\n",
    "# train\n",
    "###################################\n",
    "jig = PTN_Train_Eval_Test_Jig(model, p.BEST_MODEL_PATH, p.device)\n",
    "\n",
    "jig.train(\n",
    "    train_iterable=datasets.source.processed.train,\n",
    "    source_val_iterable=datasets.source.processed.val,\n",
    "    target_val_iterable=datasets.target.processed.val,\n",
    "    num_epochs=p.n_epoch,\n",
    "    num_logs_per_epoch=p.NUM_LOGS_PER_EPOCH,\n",
    "    patience=p.patience,\n",
    "    optimizer=optimizer,\n",
    "    criteria_for_best=p.criteria_for_best,\n",
    ")"
   ]
  },
  {
   "cell_type": "code",
   "execution_count": 23,
   "id": "31e8fabf",
   "metadata": {
    "execution": {
     "iopub.execute_input": "2022-03-10T22:54:49.333909Z",
     "iopub.status.busy": "2022-03-10T22:54:49.333656Z",
     "iopub.status.idle": "2022-03-10T22:54:49.353368Z",
     "shell.execute_reply": "2022-03-10T22:54:49.352924Z"
    },
    "papermill": {
     "duration": 0.048737,
     "end_time": "2022-03-10T22:54:49.353478",
     "exception": false,
     "start_time": "2022-03-10T22:54:49.304741",
     "status": "completed"
    },
    "tags": []
   },
   "outputs": [],
   "source": [
    "total_experiment_time_secs = time.time() - start_time_secs"
   ]
  },
  {
   "cell_type": "code",
   "execution_count": 24,
   "id": "87b9595b",
   "metadata": {
    "execution": {
     "iopub.execute_input": "2022-03-10T22:54:49.417163Z",
     "iopub.status.busy": "2022-03-10T22:54:49.416895Z",
     "iopub.status.idle": "2022-03-10T22:59:01.982955Z",
     "shell.execute_reply": "2022-03-10T22:59:01.983354Z"
    },
    "papermill": {
     "duration": 252.598368,
     "end_time": "2022-03-10T22:59:01.983485",
     "exception": false,
     "start_time": "2022-03-10T22:54:49.385117",
     "status": "completed"
    },
    "tags": []
   },
   "outputs": [],
   "source": [
    "###################################\n",
    "# Evaluate the model\n",
    "###################################\n",
    "source_test_label_accuracy, source_test_label_loss = jig.test(datasets.source.processed.test)\n",
    "target_test_label_accuracy, target_test_label_loss = jig.test(datasets.target.processed.test)\n",
    "\n",
    "source_val_label_accuracy, source_val_label_loss = jig.test(datasets.source.processed.val)\n",
    "target_val_label_accuracy, target_val_label_loss = jig.test(datasets.target.processed.val)\n",
    "\n",
    "history = jig.get_history()\n",
    "\n",
    "total_epochs_trained = len(history[\"epoch_indices\"])\n",
    "\n",
    "val_dl = Iterable_Aggregator((datasets.source.original.val,datasets.target.original.val))\n",
    "\n",
    "confusion = ptn_confusion_by_domain_over_dataloader(model, p.device, val_dl)\n",
    "per_domain_accuracy = per_domain_accuracy_from_confusion(confusion)\n",
    "\n",
    "# Add a key to per_domain_accuracy for if it was a source domain\n",
    "for domain, accuracy in per_domain_accuracy.items():\n",
    "    per_domain_accuracy[domain] = {\n",
    "        \"accuracy\": accuracy,\n",
    "        \"source?\": domain in p.domains_source\n",
    "    }\n",
    "\n",
    "# Do an independent accuracy assesment JUST TO BE SURE!\n",
    "# _source_test_label_accuracy = independent_accuracy_assesment(model, datasets.source.processed.test, p.device)\n",
    "# _target_test_label_accuracy = independent_accuracy_assesment(model, datasets.target.processed.test, p.device)\n",
    "# _source_val_label_accuracy = independent_accuracy_assesment(model, datasets.source.processed.val, p.device)\n",
    "# _target_val_label_accuracy = independent_accuracy_assesment(model, datasets.target.processed.val, p.device)\n",
    "\n",
    "# assert(_source_test_label_accuracy == source_test_label_accuracy)\n",
    "# assert(_target_test_label_accuracy == target_test_label_accuracy)\n",
    "# assert(_source_val_label_accuracy == source_val_label_accuracy)\n",
    "# assert(_target_val_label_accuracy == target_val_label_accuracy)\n",
    "\n",
    "experiment = {\n",
    "    \"experiment_name\": p.experiment_name,\n",
    "    \"parameters\": dict(p),\n",
    "    \"results\": {\n",
    "        \"source_test_label_accuracy\": source_test_label_accuracy,\n",
    "        \"source_test_label_loss\": source_test_label_loss,\n",
    "        \"target_test_label_accuracy\": target_test_label_accuracy,\n",
    "        \"target_test_label_loss\": target_test_label_loss,\n",
    "        \"source_val_label_accuracy\": source_val_label_accuracy,\n",
    "        \"source_val_label_loss\": source_val_label_loss,\n",
    "        \"target_val_label_accuracy\": target_val_label_accuracy,\n",
    "        \"target_val_label_loss\": target_val_label_loss,\n",
    "        \"total_epochs_trained\": total_epochs_trained,\n",
    "        \"total_experiment_time_secs\": total_experiment_time_secs,\n",
    "        \"confusion\": confusion,\n",
    "        \"per_domain_accuracy\": per_domain_accuracy,\n",
    "    },\n",
    "    \"history\": history,\n",
    "    \"dataset_metrics\": get_dataset_metrics(datasets, \"ptn\"),\n",
    "}"
   ]
  },
  {
   "cell_type": "code",
   "execution_count": 25,
   "id": "54a21829",
   "metadata": {
    "execution": {
     "iopub.execute_input": "2022-03-10T22:59:02.040947Z",
     "iopub.status.busy": "2022-03-10T22:59:02.040695Z",
     "iopub.status.idle": "2022-03-10T22:59:02.224463Z",
     "shell.execute_reply": "2022-03-10T22:59:02.224006Z"
    },
    "papermill": {
     "duration": 0.212344,
     "end_time": "2022-03-10T22:59:02.224556",
     "exception": false,
     "start_time": "2022-03-10T22:59:02.012212",
     "status": "completed"
    },
    "tags": []
   },
   "outputs": [
    {
     "data": {
      "image/png": "[encoded data removed]",
      "text/plain": [
       "<Figure size 1080x504 with 1 Axes>"
      ]
     },
     "metadata": {
      "needs_background": "light"
     },
     "output_type": "display_data"
    }
   ],
   "source": [
    "ax = get_loss_curve(experiment)\n",
    "plt.show()"
   ]
  },
  {
   "cell_type": "code",
   "execution_count": 26,
   "id": "fd8a0f60",
   "metadata": {
    "execution": {
     "iopub.execute_input": "2022-03-10T22:59:02.284052Z",
     "iopub.status.busy": "2022-03-10T22:59:02.283802Z",
     "iopub.status.idle": "2022-03-10T22:59:02.459021Z",
     "shell.execute_reply": "2022-03-10T22:59:02.459256Z"
    },
    "papermill": {
     "duration": 0.204436,
     "end_time": "2022-03-10T22:59:02.459339",
     "exception": false,
     "start_time": "2022-03-10T22:59:02.254903",
     "status": "completed"
    },
    "tags": []
   },
   "outputs": [
    {
     "data": {
      "text/plain": [
       "<matplotlib.axes._subplots.AxesSubplot at 0x7f2fa6b6e6d0>"
      ]
     },
     "execution_count": 26,
     "metadata": {},
     "output_type": "execute_result"
    },
    {
     "data": {
      "image/png": "[encoded data removed]",
      "text/plain": [
       "<Figure size 1080x504 with 1 Axes>"
      ]
     },
     "metadata": {
      "needs_background": "light"
     },
     "output_type": "display_data"
    }
   ],
   "source": [
    "get_results_table(experiment)"
   ]
  },
  {
   "cell_type": "code",
   "execution_count": 27,
   "id": "cf8dc689",
   "metadata": {
    "execution": {
     "iopub.execute_input": "2022-03-10T22:59:02.521326Z",
     "iopub.status.busy": "2022-03-10T22:59:02.520910Z",
     "iopub.status.idle": "2022-03-10T22:59:02.717415Z",
     "shell.execute_reply": "2022-03-10T22:59:02.716915Z"
    },
    "papermill": {
     "duration": 0.22756,
     "end_time": "2022-03-10T22:59:02.717521",
     "exception": false,
     "start_time": "2022-03-10T22:59:02.489961",
     "status": "completed"
    },
    "tags": []
   },
   "outputs": [
    {
     "data": {
      "text/plain": [
       "<matplotlib.axes._subplots.AxesSubplot at 0x7f2fa6d2f190>"
      ]
     },
     "execution_count": 27,
     "metadata": {},
     "output_type": "execute_result"
    },
    {
     "data": {
      "image/png": "[encoded data removed]",
      "text/plain": [
       "<Figure size 1080x504 with 1 Axes>"
      ]
     },
     "metadata": {
      "needs_background": "light"
     },
     "output_type": "display_data"
    }
   ],
   "source": [
    "get_domain_accuracies(experiment)"
   ]
  },
  {
   "cell_type": "code",
   "execution_count": 28,
   "id": "a74ae082",
   "metadata": {
    "execution": {
     "iopub.execute_input": "2022-03-10T22:59:02.784847Z",
     "iopub.status.busy": "2022-03-10T22:59:02.784584Z",
     "iopub.status.idle": "2022-03-10T22:59:02.797278Z",
     "shell.execute_reply": "2022-03-10T22:59:02.796790Z"
    },
    "papermill": {
     "duration": 0.044661,
     "end_time": "2022-03-10T22:59:02.797383",
     "exception": false,
     "start_time": "2022-03-10T22:59:02.752722",
     "status": "completed"
    },
    "tags": []
   },
   "outputs": [
    {
     "name": "stdout",
     "output_type": "stream",
     "text": [
      "Source Test Label Accuracy: 0.6967578125 Target Test Label Accuracy: 0.23893229166666666\n",
      "Source Val Label Accuracy: 0.6965690104166666 Target Val Label Accuracy: 0.23795572916666666\n"
     ]
    }
   ],
   "source": [
    "print(\"Source Test Label Accuracy:\", experiment[\"results\"][\"source_test_label_accuracy\"], \"Target Test Label Accuracy:\", experiment[\"results\"][\"target_test_label_accuracy\"])\n",
    "print(\"Source Val Label Accuracy:\", experiment[\"results\"][\"source_val_label_accuracy\"], \"Target Val Label Accuracy:\", experiment[\"results\"][\"target_val_label_accuracy\"])"
   ]
  },
  {
   "cell_type": "code",
   "execution_count": 29,
   "id": "dacca602",
   "metadata": {
    "execution": {
     "iopub.execute_input": "2022-03-10T22:59:02.864973Z",
     "iopub.status.busy": "2022-03-10T22:59:02.864694Z",
     "iopub.status.idle": "2022-03-10T22:59:02.880328Z",
     "shell.execute_reply": "2022-03-10T22:59:02.880732Z"
    },
    "papermill": {
     "duration": 0.048073,
     "end_time": "2022-03-10T22:59:02.880858",
     "exception": false,
     "start_time": "2022-03-10T22:59:02.832785",
     "status": "completed"
    },
    "tags": [
     "experiment_json"
    ]
   },
   "outputs": [
    {
     "data": {
      "text/plain": [
       "'{\"experiment_name\": \"tl_1_wisig-oracle.run1\", \"parameters\": {\"experiment_name\": \"tl_1_wisig-oracle.run1\", \"device\": \"cuda\", \"lr\": 0.001, \"seed\": 1337, \"dataset_seed\": 1337, \"n_shot\": 3, \"n_query\": 2, \"train_k_factor\": 3, \"val_k_factor\": 2, \"test_k_factor\": 2, \"torch_default_dtype\": \"torch.float32\", \"n_epoch\": 50, \"patience\": 3, \"criteria_for_best\": \"target_loss\", \"x_net\": [{\"class\": \"nnReshape\", \"kargs\": {\"shape\": [-1, 1, 2, 256]}}, {\"class\": \"Conv2d\", \"kargs\": {\"in_channels\": 1, \"out_channels\": 256, \"kernel_size\": [1, 7], \"bias\": false, \"padding\": [0, 3]}}, {\"class\": \"ReLU\", \"kargs\": {\"inplace\": true}}, {\"class\": \"BatchNorm2d\", \"kargs\": {\"num_features\": 256}}, {\"class\": \"Conv2d\", \"kargs\": {\"in_channels\": 256, \"out_channels\": 80, \"kernel_size\": [2, 7], \"bias\": true, \"padding\": [0, 3]}}, {\"class\": \"ReLU\", \"kargs\": {\"inplace\": true}}, {\"class\": \"BatchNorm2d\", \"kargs\": {\"num_features\": 80}}, {\"class\": \"Flatten\", \"kargs\": {}}, {\"class\": \"Linear\", \"kargs\": {\"in_features\": 20480, \"out_features\": 256}}, {\"class\": \"ReLU\", \"kargs\": {\"inplace\": true}}, {\"class\": \"BatchNorm1d\", \"kargs\": {\"num_features\": 256}}, {\"class\": \"Linear\", \"kargs\": {\"in_features\": 256, \"out_features\": 256}}], \"NUM_LOGS_PER_EPOCH\": 10, \"BEST_MODEL_PATH\": \"./best_model.pth\", \"n_way\": 16, \"datasets\": [{\"labels\": [\"1-10\", \"1-12\", \"1-14\", \"1-16\", \"1-18\", \"1-19\", \"1-8\", \"10-11\", \"10-17\", \"10-4\", \"10-7\", \"11-1\", \"11-10\", \"11-19\", \"11-20\", \"11-4\", \"11-7\", \"12-19\", \"12-20\", \"12-7\", \"13-14\", \"13-18\", \"13-19\", \"13-20\", \"13-3\", \"13-7\", \"14-10\", \"14-11\", \"14-12\", \"14-13\", \"14-14\", \"14-19\", \"14-20\", \"14-7\", \"14-8\", \"14-9\", \"15-1\", \"15-19\", \"15-6\", \"16-1\", \"16-16\", \"16-19\", \"16-20\", \"17-10\", \"17-11\", \"18-1\", \"18-10\", \"18-11\", \"18-12\", \"18-13\", \"18-14\", \"18-15\", \"18-16\", \"18-17\", \"18-19\", \"18-2\", \"18-20\", \"18-4\", \"18-5\", \"18-7\", \"18-8\", \"18-9\", \"19-1\", \"19-10\", \"19-11\", \"19-12\", \"19-13\", \"19-14\", \"19-15\", \"19-19\", \"19-2\", \"19-20\", \"19-3\", \"19-4\", \"19-6\", \"19-7\", \"19-8\", \"19-9\", \"2-1\", \"2-13\", \"2-15\", \"2-3\", \"2-4\", \"2-5\", \"2-6\", \"2-7\", \"2-8\", \"20-1\", \"20-12\", \"20-14\", \"20-15\", \"20-16\", \"20-18\", \"20-19\", \"20-20\", \"20-3\", \"20-4\", \"20-5\", \"20-7\", \"20-8\", \"3-1\", \"3-13\", \"3-18\", \"3-2\", \"3-8\", \"4-1\", \"4-10\", \"4-11\", \"5-1\", \"5-5\", \"6-1\", \"6-15\", \"6-6\", \"7-10\", \"7-11\", \"7-12\", \"7-13\", \"7-14\", \"7-7\", \"7-8\", \"7-9\", \"8-1\", \"8-13\", \"8-14\", \"8-18\", \"8-20\", \"8-3\", \"8-8\", \"9-1\", \"9-7\"], \"domains\": [1, 2, 3, 4], \"num_examples_per_domain_per_label\": 100, \"pickle_path\": \"/mnt/wd500GB/CSC500/csc500-main/datasets/wisig.node3-19.stratified_ds.2022A.pkl\", \"source_or_target_dataset\": \"target\", \"x_transforms\": [\"unit_power\"], \"episode_transforms\": [], \"domain_prefix\": \"Wisig_\"}, {\"labels\": [\"3123D52\", \"3123D65\", \"3123D79\", \"3123D80\", \"3123D54\", \"3123D70\", \"3123D7B\", \"3123D89\", \"3123D58\", \"3123D76\", \"3123D7D\", \"3123EFE\", \"3123D64\", \"3123D78\", \"3123D7E\", \"3124E4A\"], \"domains\": [32, 38, 8, 44, 14, 50, 20, 26], \"num_examples_per_domain_per_label\": 10000, \"pickle_path\": \"/mnt/wd500GB/CSC500/csc500-main/datasets/oracle.Run1_10kExamples_stratified_ds.2022A.pkl\", \"source_or_target_dataset\": \"source\", \"x_transforms\": [\"unit_power\"], \"episode_transforms\": [], \"domain_prefix\": \"ORACLE.run1\"}], \"domains_source\": [\"ORACLE.run132\", \"ORACLE.run138\", \"ORACLE.run18\", \"ORACLE.run144\", \"ORACLE.run114\", \"ORACLE.run150\", \"ORACLE.run120\", \"ORACLE.run126\"], \"domains_target\": [\"Wisig_1\", \"Wisig_2\", \"Wisig_3\", \"Wisig_4\"]}, \"results\": {\"source_test_label_accuracy\": 0.6967578125, \"source_test_label_loss\": 0.8208579421043396, \"target_test_label_accuracy\": 0.23893229166666666, \"target_test_label_loss\": 2000.8134765625, \"source_val_label_accuracy\": 0.6965690104166666, \"source_val_label_loss\": 0.8192992806434631, \"target_val_label_accuracy\": 0.23795572916666666, \"target_val_label_loss\": 1790.9383544921875, \"total_epochs_trained\": 6, \"total_experiment_time_secs\": 5495.696286916733, \"confusion\": {\"ORACLE.run114\": {\"15\": {\"15\": 1152, \"7\": 45, \"2\": 2, \"5\": 1}, \"3\": {\"3\": 1016, \"4\": 129, \"14\": 37, \"0\": 3, \"13\": 1, \"2\": 9, \"6\": 1, \"5\": 2, \"1\": 1, \"10\": 1}, \"6\": {\"13\": 452, \"6\": 605, \"14\": 76, \"2\": 63, \"4\": 4}, \"1\": {\"1\": 1063, \"5\": 127, \"4\": 9, \"7\": 1}, \"8\": {\"8\": 1200}, \"10\": {\"10\": 1075, \"0\": 124, \"3\": 1}, \"9\": {\"9\": 1189, \"11\": 5, \"12\": 6}, \"13\": {\"13\": 360, \"14\": 229, \"2\": 127, \"6\": 457, \"5\": 18, \"4\": 8, \"10\": 1}, \"12\": {\"12\": 1197, \"9\": 3}, \"5\": {\"4\": 219, \"5\": 738, \"2\": 52, \"1\": 166, \"3\": 12, \"7\": 8, \"14\": 1, \"15\": 4}, \"0\": {\"0\": 988, \"10\": 160, \"11\": 29, \"3\": 21, \"14\": 2}, \"2\": {\"14\": 183, \"13\": 85, \"2\": 528, \"6\": 63, \"4\": 138, \"15\": 24, \"3\": 44, \"5\": 132, \"1\": 2, \"7\": 1}, \"11\": {\"11\": 1100, \"9\": 40, \"0\": 49, \"10\": 11}, \"14\": {\"14\": 922, \"13\": 116, \"2\": 77, \"6\": 56, \"3\": 22, \"4\": 2, \"10\": 4, \"0\": 1}, \"7\": {\"7\": 1170, \"15\": 21, \"1\": 8, \"5\": 1}, \"4\": {\"4\": 835, \"3\": 103, \"5\": 167, \"2\": 70, \"14\": 5, \"1\": 18, \"13\": 1, \"6\": 1}}, \"ORACLE.run120\": {\"3\": {\"1\": 23, \"12\": 241, \"2\": 86, \"3\": 450, \"9\": 202, \"4\": 95, \"5\": 44, \"0\": 16, \"7\": 21, \"8\": 16, \"10\": 4, \"15\": 1, \"13\": 1}, \"15\": {\"13\": 47, \"15\": 655, \"1\": 232, \"0\": 113, \"5\": 98, \"12\": 38, \"3\": 2, \"9\": 12, \"2\": 3}, \"8\": {\"8\": 833, \"10\": 63, \"4\": 153, \"7\": 82, \"3\": 22, \"14\": 24, \"6\": 6, \"2\": 8, \"12\": 2, \"9\": 7}, \"4\": {\"4\": 890, \"5\": 10, \"10\": 24, \"3\": 89, \"8\": 157, \"0\": 5, \"12\": 11, \"2\": 2, \"9\": 7, \"7\": 5}, \"14\": {\"14\": 904, \"6\": 135, \"10\": 137, \"8\": 22, \"4\": 1, \"7\": 1}, \"0\": {\"0\": 532, \"3\": 30, \"4\": 8, \"12\": 67, \"1\": 102, \"5\": 288, \"15\": 151, \"13\": 4, \"2\": 7, \"9\": 9, \"7\": 1, \"8\": 1}, \"7\": {\"7\": 825, \"6\": 7, \"12\": 3, \"8\": 95, \"2\": 159, \"10\": 6, \"3\": 28, \"9\": 61, \"4\": 9, \"13\": 2, \"14\": 4, \"11\": 1}, \"6\": {\"6\": 1031, \"14\": 156, \"8\": 4, \"10\": 2, \"7\": 7}, \"10\": {\"4\": 22, \"10\": 956, \"14\": 153, \"7\": 1, \"6\": 3, \"8\": 65}, \"5\": {\"12\": 153, \"15\": 84, \"5\": 395, \"1\": 228, \"0\": 299, \"3\": 28, \"9\": 7, \"4\": 3, \"13\": 3}, \"2\": {\"7\": 174, \"9\": 311, \"2\": 508, \"12\": 48, \"13\": 54, \"0\": 4, \"3\": 83, \"15\": 2, \"1\": 6, \"8\": 5, \"5\": 3, \"4\": 2}, \"12\": {\"9\": 117, \"5\": 126, \"2\": 51, \"3\": 216, \"15\": 22, \"12\": 445, \"1\": 164, \"0\": 40, \"13\": 4, \"4\": 12, \"7\": 2, \"8\": 1}, \"9\": {\"3\": 208, \"2\": 312, \"9\": 475, \"12\": 96, \"7\": 68, \"1\": 13, \"13\": 18, \"4\": 5, \"8\": 4, \"0\": 1}, \"1\": {\"1\": 453, \"12\": 161, \"5\": 268, \"15\": 181, \"0\": 96, \"9\": 18, \"2\": 5, \"3\": 15, \"13\": 3}, \"11\": {\"11\": 1199, \"6\": 1}, \"13\": {\"13\": 1077, \"2\": 65, \"15\": 24, \"9\": 19, \"0\": 2, \"1\": 5, \"12\": 7, \"7\": 1}}, \"ORACLE.run138\": {\"5\": {\"8\": 339, \"5\": 481, \"15\": 35, \"7\": 93, \"9\": 37, \"6\": 54, \"13\": 6, \"0\": 119, \"3\": 27, \"10\": 4, \"1\": 5}, \"8\": {\"8\": 740, \"0\": 171, \"15\": 26, \"5\": 227, \"7\": 17, \"1\": 1, \"6\": 1, \"13\": 5, \"10\": 12}, \"11\": {\"14\": 155, \"11\": 1026, \"10\": 11, \"2\": 5, \"12\": 2, \"4\": 1}, \"1\": {\"1\": 1148, \"15\": 49, \"5\": 3}, \"10\": {\"10\": 930, \"8\": 38, \"13\": 130, \"0\": 24, \"12\": 37, \"7\": 5, \"14\": 14, \"15\": 7, \"11\": 8, \"4\": 4, \"2\": 2, \"5\": 1}, \"15\": {\"15\": 933, \"13\": 137, \"5\": 20, \"1\": 67, \"8\": 33, \"2\": 6, \"10\": 4}, \"3\": {\"0\": 11, \"3\": 1021, \"9\": 108, \"7\": 50, \"5\": 5, \"6\": 5}, \"7\": {\"0\": 277, \"7\": 847, \"5\": 33, \"8\": 20, \"3\": 20, \"9\": 2, \"6\": 1}, \"4\": {\"4\": 1154, \"12\": 43, \"10\": 3}, \"14\": {\"14\": 1000, \"2\": 97, \"11\": 82, \"13\": 2, \"10\": 14, \"12\": 5}, \"9\": {\"9\": 768, \"6\": 342, \"3\": 76, \"5\": 12, \"0\": 1, \"7\": 1}, \"12\": {\"4\": 61, \"10\": 11, \"12\": 1127, \"14\": 1}, \"6\": {\"6\": 972, \"9\": 217, \"5\": 9, \"3\": 1, \"8\": 1}, \"2\": {\"2\": 1102, \"14\": 72, \"13\": 21, \"11\": 3, \"10\": 1, \"15\": 1}, \"0\": {\"8\": 312, \"0\": 340, \"3\": 77, \"5\": 128, \"7\": 299, \"10\": 30, \"6\": 5, \"4\": 1, \"12\": 4, \"13\": 2, \"9\": 1, \"15\": 1}, \"13\": {\"10\": 103, \"13\": 814, \"15\": 235, \"8\": 15, \"2\": 27, \"1\": 3, \"5\": 3}}, \"ORACLE.run18\": {\"9\": {\"9\": 1200}, \"10\": {\"10\": 762, \"13\": 72, \"14\": 289, \"4\": 36, \"11\": 2, \"5\": 28, \"1\": 9, \"0\": 2}, \"13\": {\"4\": 207, \"13\": 387, \"14\": 125, \"0\": 302, \"10\": 116, \"6\": 51, \"1\": 3, \"7\": 9}, \"0\": {\"7\": 107, \"13\": 245, \"4\": 55, \"0\": 696, \"10\": 9, \"6\": 84, \"14\": 4}, \"1\": {\"1\": 739, \"11\": 375, \"10\": 14, \"14\": 44, \"5\": 25, \"4\": 2, \"13\": 1}, \"15\": {\"15\": 867, \"12\": 262, \"8\": 56, \"7\": 2, \"3\": 6, \"2\": 7}, \"5\": {\"5\": 1044, \"14\": 10, \"1\": 69, \"10\": 63, \"11\": 14}, \"3\": {\"3\": 975, \"12\": 90, \"2\": 130, \"15\": 5}, \"6\": {\"8\": 11, \"6\": 695, \"7\": 270, \"4\": 115, \"0\": 72, \"13\": 31, \"14\": 5, \"10\": 1}, \"11\": {\"1\": 457, \"11\": 663, \"8\": 9, \"5\": 37, \"14\": 25, \"10\": 3, \"4\": 5, \"6\": 1}, \"8\": {\"8\": 1149, \"15\": 42, \"6\": 2, \"12\": 3, \"7\": 4}, \"4\": {\"4\": 595, \"13\": 237, \"0\": 55, \"14\": 158, \"6\": 121, \"10\": 32, \"1\": 1, \"7\": 1}, \"12\": {\"3\": 182, \"12\": 581, \"15\": 385, \"8\": 28, \"2\": 23, \"7\": 1}, \"14\": {\"14\": 542, \"10\": 244, \"1\": 47, \"4\": 225, \"13\": 115, \"11\": 11, \"6\": 5, \"0\": 9, \"5\": 2}, \"2\": {\"2\": 932, \"3\": 172, \"15\": 54, \"7\": 21, \"12\": 20, \"8\": 1}, \"7\": {\"7\": 853, \"6\": 281, \"0\": 50, \"15\": 2, \"2\": 3, \"8\": 5, \"4\": 4, \"13\": 2}}, \"ORACLE.run150\": {\"7\": {\"7\": 689, \"10\": 34, \"13\": 283, \"5\": 192, \"4\": 2}, \"3\": {\"3\": 1178, \"8\": 22}, \"8\": {\"8\": 1169, \"10\": 23, \"3\": 8}, \"2\": {\"2\": 1106, \"0\": 92, \"6\": 1, \"13\": 1}, \"14\": {\"14\": 1179, \"12\": 14, \"11\": 7}, \"4\": {\"4\": 567, \"1\": 157, \"5\": 124, \"15\": 191, \"6\": 113, \"13\": 20, \"7\": 27, \"11\": 1}, \"6\": {\"13\": 76, \"6\": 849, \"5\": 59, \"1\": 100, \"7\": 5, \"4\": 103, \"15\": 6, \"0\": 2}, \"15\": {\"15\": 864, \"1\": 223, \"4\": 86, \"11\": 20, \"6\": 7}, \"10\": {\"10\": 1118, \"0\": 25, \"7\": 24, \"13\": 24, \"8\": 8, \"5\": 1}, \"11\": {\"11\": 1076, \"9\": 92, \"15\": 20, \"14\": 7, \"1\": 2, \"12\": 3}, \"13\": {\"13\": 746, \"7\": 194, \"10\": 18, \"5\": 148, \"6\": 84, \"0\": 4, \"4\": 6}, \"9\": {\"9\": 952, \"11\": 152, \"12\": 96}, \"0\": {\"0\": 1032, \"2\": 102, \"10\": 55, \"13\": 8, \"7\": 1, \"5\": 1, \"6\": 1}, \"1\": {\"1\": 720, \"15\": 258, \"4\": 89, \"6\": 125, \"13\": 2, \"2\": 1, \"11\": 1, \"5\": 4}, \"12\": {\"14\": 26, \"12\": 1073, \"9\": 94, \"11\": 7}, \"5\": {\"1\": 35, \"5\": 374, \"13\": 178, \"7\": 307, \"4\": 151, \"6\": 147, \"10\": 8}}, \"ORACLE.run132\": {\"8\": {\"13\": 76, \"8\": 848, \"5\": 147, \"0\": 101, \"7\": 8, \"4\": 5, \"3\": 7, \"14\": 7, \"15\": 1}, \"14\": {\"7\": 255, \"14\": 431, \"11\": 351, \"5\": 48, \"13\": 48, \"4\": 14, \"8\": 10, \"0\": 21, \"3\": 13, \"2\": 9}, \"2\": {\"4\": 186, \"2\": 963, \"0\": 35, \"7\": 13, \"14\": 1, \"13\": 1, \"5\": 1}, \"0\": {\"0\": 831, \"8\": 106, \"5\": 54, \"14\": 17, \"2\": 40, \"4\": 95, \"7\": 44, \"13\": 13}, \"1\": {\"1\": 1187, \"10\": 13}, \"10\": {\"10\": 1194, \"1\": 6}, \"11\": {\"11\": 931, \"14\": 202, \"13\": 18, \"3\": 14, \"7\": 28, \"5\": 7}, \"5\": {\"13\": 305, \"7\": 125, \"5\": 337, \"8\": 113, \"3\": 62, \"0\": 65, \"14\": 41, \"4\": 118, \"11\": 19, \"2\": 15}, \"15\": {\"15\": 1188, \"8\": 9, \"3\": 3}, \"3\": {\"3\": 1130, \"13\": 27, \"11\": 21, \"14\": 6, \"5\": 11, \"8\": 5}, \"12\": {\"12\": 1200}, \"7\": {\"7\": 507, \"4\": 166, \"14\": 193, \"11\": 52, \"13\": 111, \"5\": 116, \"2\": 8, \"0\": 35, \"8\": 9, \"3\": 3}, \"13\": {\"8\": 39, \"13\": 468, \"4\": 73, \"5\": 346, \"14\": 41, \"3\": 79, \"7\": 118, \"0\": 16, \"11\": 19, \"2\": 1}, \"6\": {\"6\": 1200}, \"4\": {\"4\": 703, \"2\": 191, \"13\": 38, \"7\": 116, \"0\": 81, \"5\": 58, \"14\": 9, \"8\": 4}, \"9\": {\"9\": 1196, \"12\": 4}}, \"ORACLE.run126\": {\"4\": {\"8\": 126, \"7\": 79, \"4\": 425, \"0\": 175, \"1\": 108, \"14\": 222, \"10\": 60, \"9\": 4, \"15\": 1}, \"12\": {\"12\": 1196, \"11\": 4}, \"10\": {\"0\": 243, \"8\": 125, \"10\": 495, \"6\": 93, \"1\": 21, \"9\": 16, \"4\": 80, \"14\": 117, \"15\": 6, \"7\": 4}, \"0\": {\"10\": 281, \"0\": 281, \"14\": 211, \"4\": 193, \"1\": 50, \"8\": 118, \"7\": 16, \"6\": 32, \"9\": 14, \"2\": 1, \"15\": 3}, \"13\": {\"13\": 805, \"9\": 57, \"5\": 198, \"6\": 22, \"15\": 88, \"2\": 27, \"3\": 3}, \"9\": {\"15\": 280, \"9\": 472, \"6\": 166, \"8\": 125, \"13\": 40, \"0\": 10, \"2\": 10, \"5\": 54, \"4\": 7, \"10\": 29, \"7\": 7}, \"3\": {\"3\": 750, \"7\": 158, \"2\": 287, \"5\": 3, \"8\": 1, \"4\": 1}, \"2\": {\"3\": 405, \"7\": 155, \"2\": 421, \"5\": 85, \"15\": 77, \"10\": 1, \"8\": 19, \"13\": 11, \"9\": 18, \"4\": 6, \"0\": 2}, \"5\": {\"5\": 678, \"9\": 71, \"13\": 142, \"2\": 57, \"15\": 200, \"8\": 33, \"10\": 2, \"3\": 4, \"0\": 1, \"7\": 4, \"6\": 5, \"4\": 3}, \"14\": {\"4\": 241, \"14\": 382, \"0\": 201, \"1\": 232, \"10\": 95, \"7\": 15, \"8\": 34}, \"8\": {\"10\": 150, \"6\": 45, \"8\": 434, \"4\": 124, \"15\": 70, \"7\": 74, \"0\": 110, \"9\": 122, \"14\": 38, \"2\": 10, \"5\": 12, \"1\": 6, \"3\": 4, \"13\": 1}, \"7\": {\"7\": 653, \"4\": 104, \"2\": 142, \"0\": 14, \"8\": 67, \"3\": 171, \"9\": 6, \"14\": 13, \"15\": 16, \"1\": 9, \"10\": 2, \"5\": 3}, \"6\": {\"6\": 871, \"10\": 92, \"9\": 147, \"0\": 17, \"8\": 39, \"13\": 7, \"15\": 22, \"4\": 2, \"5\": 2, \"14\": 1}, \"11\": {\"11\": 1181, \"12\": 19}, \"15\": {\"9\": 310, \"6\": 39, \"13\": 79, \"8\": 104, \"15\": 405, \"5\": 195, \"2\": 29, \"7\": 19, \"0\": 4, \"4\": 5, \"3\": 2, \"10\": 6, \"14\": 3}, \"1\": {\"14\": 264, \"1\": 686, \"4\": 110, \"0\": 59, \"10\": 44, \"8\": 6, \"7\": 29, \"3\": 2}}, \"ORACLE.run144\": {\"12\": {\"10\": 80, \"12\": 969, \"1\": 140, \"3\": 11}, \"7\": {\"7\": 819, \"2\": 154, \"9\": 194, \"6\": 30, \"13\": 1, \"3\": 1, \"1\": 1}, \"5\": {\"5\": 1039, \"14\": 22, \"15\": 35, \"0\": 88, \"8\": 14, \"4\": 2}, \"15\": {\"15\": 958, \"14\": 96, \"5\": 38, \"0\": 76, \"8\": 21, \"4\": 11}, \"8\": {\"8\": 727, \"0\": 424, \"5\": 17, \"15\": 32}, \"2\": {\"2\": 928, \"1\": 43, \"7\": 155, \"10\": 66, \"6\": 1, \"3\": 6, \"9\": 1}, \"13\": {\"13\": 773, \"11\": 64, \"9\": 132, \"6\": 220, \"7\": 3, \"4\": 7, \"14\": 1}, \"4\": {\"4\": 849, \"14\": 339, \"15\": 12}, \"0\": {\"0\": 765, \"5\": 69, \"8\": 298, \"15\": 68}, \"6\": {\"9\": 119, \"13\": 188, \"6\": 844, \"11\": 19, \"7\": 29, \"2\": 1}, \"9\": {\"13\": 136, \"9\": 685, \"7\": 255, \"6\": 115, \"2\": 7, \"11\": 1, \"4\": 1}, \"11\": {\"11\": 1123, \"13\": 54, \"6\": 23}, \"10\": {\"10\": 939, \"2\": 87, \"1\": 102, \"12\": 72}, \"14\": {\"14\": 743, \"15\": 63, \"4\": 361, \"5\": 33}, \"1\": {\"10\": 94, \"1\": 759, \"12\": 191, \"3\": 98, \"2\": 58}, \"3\": {\"3\": 1083, \"12\": 8, \"1\": 101, \"2\": 6, \"7\": 2}}, \"Wisig_3\": {\"109\": {\"84\": 1, \"44\": 1, \"64\": 1, \"2\": 1, \"96\": 1, \"110\": 1, \"29\": 1, \"118\": 1, \"119\": 1, \"109\": 2, \"95\": 1}, \"127\": {\"100\": 2, \"107\": 1, \"41\": 3, \"5\": 1, \"32\": 1, \"4\": 1, \"37\": 1, \"9\": 1, \"127\": 1}, \"14\": {\"100\": 1, \"35\": 1, \"31\": 1, \"45\": 1, \"104\": 1, \"14\": 2, \"5\": 1, \"103\": 1, \"99\": 1, \"115\": 1, \"79\": 1}, \"7\": {\"35\": 1, \"129\": 1, \"22\": 1, \"7\": 2, \"62\": 1, \"32\": 1, \"38\": 1, \"40\": 1, \"27\": 1, \"11\": 1, \"98\": 1}, \"129\": {\"107\": 2, \"83\": 1, \"129\": 1, \"11\": 1, \"108\": 1, \"127\": 1, \"103\": 1, \"41\": 1, \"40\": 1, \"78\": 1, \"9\": 1}, \"57\": {\"24\": 1, \"114\": 1, \"22\": 1, \"77\": 1, \"31\": 1, \"34\": 1, \"87\": 1, \"49\": 1, \"42\": 1, \"40\": 1, \"0\": 1, \"90\": 1}, \"84\": {\"84\": 3, \"44\": 1, \"49\": 2, \"78\": 1, \"29\": 1, \"26\": 1, \"121\": 1, \"11\": 2}, \"114\": {\"24\": 2, \"114\": 4, \"45\": 1, \"30\": 2, \"129\": 1, \"47\": 1, \"51\": 1}, \"44\": {\"84\": 1, \"109\": 1, \"78\": 2, \"28\": 2, \"44\": 3, \"45\": 1, \"43\": 1, \"80\": 1}, \"21\": {\"84\": 2, \"21\": 5, \"126\": 1, \"70\": 2, \"60\": 2}, \"46\": {\"107\": 2, \"35\": 1, \"46\": 2, \"86\": 1, \"68\": 4, \"0\": 1, \"128\": 1}, \"100\": {\"114\": 1, \"57\": 1, \"91\": 1, \"100\": 2, \"3\": 1, \"77\": 1, \"127\": 1, \"85\": 1, \"0\": 1, \"128\": 2}, \"63\": {\"63\": 3, \"107\": 1, \"23\": 2, \"117\": 1, \"27\": 1, \"120\": 2, \"58\": 1, \"18\": 1}, \"24\": {\"84\": 3, \"21\": 1, \"94\": 1, \"24\": 1, \"129\": 1, \"106\": 1, \"120\": 1, \"43\": 1, \"70\": 2}, \"107\": {\"107\": 2, \"7\": 1, \"90\": 2, \"105\": 1, \"9\": 1, \"128\": 1, \"95\": 2, \"3\": 1, \"37\": 1}, \"35\": {\"14\": 1, \"107\": 1, \"10\": 1, \"35\": 1, \"66\": 1, \"65\": 1, \"32\": 1, \"128\": 1, \"7\": 1, \"4\": 1}, \"81\": {\"81\": 5, \"2\": 1, \"121\": 1, \"18\": 2, \"61\": 1, \"120\": 1, \"63\": 1}, \"64\": {\"64\": 2, \"87\": 1, \"38\": 1, \"33\": 1, \"118\": 2, \"43\": 1, \"119\": 2, \"76\": 1, \"17\": 1}, \"59\": {\"77\": 1, \"59\": 6, \"19\": 1, \"124\": 1, \"111\": 1, \"15\": 1, \"94\": 1}, \"33\": {\"22\": 1, \"33\": 2, \"43\": 1, \"21\": 1, \"62\": 2, \"119\": 1, \"64\": 1, \"110\": 1, \"70\": 1, \"36\": 1}, \"34\": {\"59\": 1, \"34\": 3, \"15\": 1, \"94\": 1, \"22\": 1, \"10\": 1, \"99\": 1, \"5\": 1, \"75\": 1, \"98\": 1}, \"36\": {\"87\": 1, \"34\": 1, \"73\": 1, \"106\": 1, \"58\": 1, \"59\": 1, \"44\": 1, \"52\": 1, \"25\": 1, \"3\": 1, \"66\": 1, \"84\": 1}, \"79\": {\"79\": 2, \"22\": 1, \"28\": 1, \"90\": 1, \"9\": 2, \"1\": 2, \"32\": 1, \"74\": 1, \"27\": 1}, \"80\": {\"87\": 3, \"108\": 1, \"17\": 1, \"80\": 3, \"45\": 1, \"43\": 2, \"39\": 1}, \"77\": {\"124\": 1, \"34\": 2, \"15\": 1, \"40\": 2, \"37\": 1, \"77\": 1, \"99\": 1, \"57\": 1, \"129\": 1, \"8\": 1}, \"22\": {\"79\": 1, \"77\": 1, \"60\": 1, \"22\": 3, \"82\": 3, \"28\": 1, \"74\": 2}, \"124\": {\"59\": 1, \"87\": 1, \"128\": 2, \"124\": 2, \"5\": 1, \"75\": 1, \"9\": 1, \"111\": 1, \"0\": 1, \"12\": 1}, \"2\": {\"64\": 1, \"2\": 2, \"23\": 2, \"39\": 1, \"120\": 1, \"118\": 1, \"80\": 1, \"92\": 1, \"25\": 1, \"43\": 1}, \"87\": {\"22\": 1, \"87\": 6, \"18\": 1, \"80\": 1, \"16\": 2, \"19\": 1}, \"105\": {\"77\": 1, \"34\": 1, \"112\": 1, \"99\": 1, \"107\": 1, \"105\": 2, \"38\": 2, \"57\": 1, \"114\": 2}, \"95\": {\"95\": 3, \"22\": 3, \"10\": 1, \"36\": 2, \"7\": 1, \"83\": 1, \"84\": 1}, \"43\": {\"21\": 3, \"78\": 1, \"44\": 1, \"43\": 6, \"64\": 1}, \"56\": {\"95\": 1, \"128\": 1, \"73\": 1, \"74\": 1, \"30\": 1, \"27\": 1, \"111\": 1, \"103\": 1, \"90\": 1, \"15\": 1}, \"18\": {\"18\": 8, \"121\": 2, \"67\": 1, \"123\": 1}, \"85\": {\"46\": 1, \"56\": 1, \"8\": 1, \"41\": 1, \"27\": 1, \"99\": 2, \"68\": 1, \"0\": 1, \"85\": 1, \"66\": 2}, \"113\": {\"43\": 2, \"80\": 1, \"113\": 3, \"96\": 2, \"102\": 1, \"18\": 1, \"44\": 1, \"11\": 1}, \"97\": {\"95\": 1, \"86\": 1, \"101\": 1, \"42\": 1, \"5\": 1, \"97\": 4, \"77\": 2, \"60\": 1}, \"86\": {\"8\": 1, \"128\": 1, \"86\": 2, \"46\": 2, \"124\": 1, \"12\": 1, \"105\": 1, \"99\": 1, \"112\": 2}, \"128\": {\"110\": 1, \"95\": 1, \"128\": 2, \"53\": 1, \"82\": 1, \"124\": 1, \"79\": 2, \"1\": 1, \"43\": 1, \"75\": 1}, \"123\": {\"113\": 1, \"18\": 1, \"121\": 2, \"123\": 1, \"67\": 1, \"118\": 2, \"69\": 1, \"117\": 1, \"62\": 1, \"63\": 1}, \"8\": {\"59\": 2, \"46\": 1, \"5\": 1, \"9\": 2, \"32\": 1, \"111\": 1, \"125\": 2, \"1\": 1, \"44\": 1}, \"110\": {\"21\": 2, \"87\": 2, \"12\": 1, \"8\": 1, \"62\": 1, \"114\": 1, \"45\": 2, \"110\": 1, \"70\": 1}, \"126\": {\"126\": 10, \"26\": 1, \"2\": 1}, \"101\": {\"101\": 1, \"65\": 1, \"104\": 1, \"68\": 1, \"94\": 3, \"20\": 1, \"8\": 2, \"106\": 1, \"4\": 1}, \"115\": {\"78\": 1, \"114\": 1, \"90\": 1, \"107\": 1, \"128\": 2, \"38\": 1, \"112\": 1, \"82\": 1, \"1\": 1, \"110\": 1, \"74\": 1}, \"49\": {\"78\": 1, \"44\": 1, \"108\": 1, \"11\": 1, \"15\": 2, \"12\": 1, \"105\": 1, \"49\": 1, \"28\": 1, \"1\": 1, \"91\": 1}, \"45\": {\"78\": 1, \"44\": 1, \"28\": 1, \"115\": 2, \"51\": 1, \"22\": 1, \"8\": 1, \"99\": 1, \"97\": 1, \"45\": 1, \"122\": 1}, \"78\": {\"78\": 7, \"13\": 1, \"49\": 2, \"88\": 2}, \"65\": {\"97\": 1, \"49\": 1, \"4\": 1, \"3\": 2, \"30\": 1, \"125\": 1, \"66\": 1, \"65\": 1, \"81\": 1}, \"54\": {\"68\": 1, \"54\": 3, \"94\": 1, \"25\": 2, \"41\": 2, \"85\": 1, \"75\": 2}, \"31\": {\"84\": 2, \"31\": 3, \"108\": 1, \"87\": 2, \"88\": 1, \"90\": 1}, \"42\": {\"84\": 1, \"97\": 2, \"108\": 1, \"106\": 1, \"15\": 1, \"22\": 1, \"41\": 1, \"85\": 1, \"93\": 1, \"119\": 1, \"94\": 1}, \"68\": {\"68\": 8, \"58\": 1, \"0\": 1, \"54\": 1, \"37\": 1}, \"15\": {\"31\": 2, \"15\": 4, \"106\": 2, \"78\": 1, \"9\": 1, \"43\": 1, \"124\": 1}, \"69\": {\"77\": 1, \"48\": 1, \"62\": 1, \"118\": 1, \"116\": 2, \"69\": 1, \"26\": 1, \"93\": 2, \"76\": 1, \"17\": 1}, \"17\": {\"69\": 1, \"57\": 1, \"76\": 1, \"40\": 1, \"73\": 1, \"16\": 1, \"5\": 1, \"37\": 1, \"39\": 1, \"56\": 1}, \"73\": {\"41\": 1, \"94\": 1, \"106\": 1, \"73\": 4, \"25\": 1, \"19\": 1, \"75\": 1, \"59\": 2}, \"121\": {\"23\": 1, \"102\": 1, \"121\": 6, \"18\": 1, \"69\": 1, \"92\": 1, \"120\": 1}, \"102\": {\"31\": 2, \"102\": 3, \"1\": 1, \"116\": 1, \"113\": 1, \"118\": 1, \"79\": 1, \"60\": 2}, \"48\": {\"108\": 1, \"69\": 1, \"64\": 2, \"112\": 1, \"3\": 1, \"20\": 1, \"100\": 1, \"77\": 1, \"65\": 1, \"48\": 1, \"74\": 1}, \"23\": {\"23\": 2, \"121\": 1, \"90\": 1, \"107\": 1, \"60\": 1, \"128\": 1, \"79\": 1, \"61\": 1, \"2\": 1, \"7\": 1, \"44\": 1}, \"108\": {\"31\": 2, \"73\": 1, \"108\": 1, \"106\": 1, \"38\": 1, \"112\": 1, \"19\": 1, \"57\": 1, \"107\": 1, \"52\": 1, \"111\": 1}, \"53\": {\"53\": 2, \"31\": 1, \"38\": 1, \"98\": 1, \"51\": 1, \"30\": 1, \"10\": 1, \"50\": 1, \"88\": 1, \"95\": 1, \"55\": 1}, \"94\": {\"94\": 5, \"15\": 1, \"54\": 1, \"25\": 2, \"12\": 1}, \"41\": {\"94\": 1, \"15\": 1, \"41\": 5, \"111\": 1, \"8\": 1, \"55\": 1, \"125\": 1, \"57\": 1}, \"58\": {\"77\": 1, \"47\": 1, \"125\": 1, \"68\": 1, \"19\": 1, \"59\": 1, \"95\": 1, \"35\": 1, \"98\": 1, \"97\": 1, \"25\": 1, \"10\": 1}, \"29\": {\"14\": 1, \"77\": 1, \"96\": 1, \"71\": 1, \"32\": 1, \"62\": 1, \"22\": 1, \"38\": 1, \"9\": 1, \"1\": 1, \"28\": 2}, \"116\": {\"82\": 1, \"116\": 2, \"28\": 1, \"102\": 1, \"118\": 2, \"70\": 2, \"76\": 1, \"31\": 2}, \"60\": {\"40\": 1, \"29\": 1, \"60\": 2, \"39\": 1, \"99\": 1, \"112\": 1, \"43\": 2, \"55\": 2, \"122\": 1}, \"104\": {\"47\": 2, \"19\": 1, \"68\": 1, \"38\": 2, \"128\": 1, \"91\": 1, \"65\": 1, \"22\": 1, \"55\": 1, \"84\": 1}, \"106\": {\"15\": 1, \"106\": 8, \"53\": 1, \"72\": 1, \"52\": 1}, \"66\": {\"66\": 5, \"58\": 1, \"94\": 1, \"86\": 1, \"52\": 1, \"5\": 1, \"103\": 1, \"72\": 1}, \"47\": {\"66\": 2, \"27\": 2, \"10\": 1, \"88\": 1, \"52\": 1, \"45\": 1, \"114\": 2, \"103\": 1, \"98\": 1}, \"40\": {\"40\": 2, \"77\": 1, \"11\": 2, \"83\": 1, \"129\": 1, \"74\": 1, \"62\": 1, \"110\": 1, \"71\": 1, \"44\": 1}, \"82\": {\"40\": 1, \"78\": 1, \"82\": 5, \"1\": 2, \"109\": 1, \"11\": 1, \"84\": 1}, \"13\": {\"76\": 2, \"87\": 1, \"13\": 1, \"90\": 1, \"93\": 1, \"118\": 1, \"29\": 1, \"16\": 1, \"63\": 1, \"113\": 2}, \"19\": {\"11\": 1, \"19\": 1, \"30\": 1, \"128\": 1, \"37\": 1, \"62\": 1, \"29\": 1, \"38\": 1, \"86\": 1, \"72\": 1, \"112\": 1, \"41\": 1}, \"72\": {\"125\": 2, \"6\": 2, \"72\": 6, \"52\": 1, \"106\": 1}, \"9\": {\"9\": 2, \"104\": 1, \"5\": 1, \"8\": 1, \"20\": 2, \"91\": 1, \"94\": 2, \"74\": 1, \"127\": 1}, \"67\": {\"67\": 9, \"39\": 1, \"23\": 1, \"89\": 1}, \"11\": {\"78\": 1, \"40\": 1, \"24\": 2, \"80\": 2, \"51\": 2, \"84\": 1, \"11\": 1, \"88\": 1, \"74\": 1}, \"125\": {\"68\": 1, \"101\": 1, \"0\": 2, \"75\": 1, \"125\": 4, \"73\": 1, \"85\": 1, \"25\": 1}, \"76\": {\"76\": 3, \"11\": 1, \"100\": 1, \"53\": 1, \"69\": 1, \"51\": 1}, \"83\": {\"83\": 4, \"74\": 1, \"71\": 1, \"29\": 2, \"4\": 1, \"51\": 1, \"10\": 1, \"50\": 1}, \"74\": {\"83\": 1, \"94\": 1, \"104\": 1, \"38\": 1, \"53\": 2, \"74\": 2, \"42\": 1, \"91\": 1, \"115\": 1, \"11\": 1}, \"20\": {\"66\": 1, \"11\": 1, \"20\": 3, \"34\": 1, \"30\": 1, \"22\": 1, \"38\": 1, \"68\": 1, \"5\": 1, \"93\": 1}, \"119\": {\"129\": 1, \"119\": 1, \"128\": 1, \"36\": 1, \"114\": 1, \"70\": 1, \"93\": 2, \"115\": 1, \"1\": 1, \"95\": 1, \"64\": 1}, \"1\": {\"108\": 2, \"1\": 4, \"30\": 1, \"3\": 1, \"16\": 1, \"79\": 1, \"82\": 1, \"8\": 1}, \"16\": {\"17\": 1, \"1\": 1, \"16\": 1, \"108\": 1, \"22\": 2, \"79\": 1, \"96\": 1, \"30\": 1, \"49\": 1, \"62\": 1, \"100\": 1}, \"25\": {\"54\": 1, \"25\": 4, \"73\": 1, \"38\": 1, \"52\": 1, \"125\": 1, \"59\": 2, \"58\": 1}, \"90\": {\"28\": 1, \"90\": 1, \"127\": 1, \"87\": 1, \"103\": 1, \"79\": 1, \"31\": 1, \"108\": 1}, \"39\": {\"21\": 2, \"39\": 2, \"67\": 2, \"45\": 1, \"71\": 2, \"116\": 1, \"17\": 1, \"31\": 1}, \"28\": {\"43\": 1, \"107\": 1, \"28\": 6, \"38\": 1, \"22\": 1, \"35\": 1, \"29\": 1}, \"55\": {\"55\": 3, \"127\": 2, \"8\": 1, \"5\": 1, \"38\": 2, \"98\": 1, \"95\": 2}, \"117\": {\"117\": 10, \"120\": 1, \"2\": 1}, \"112\": {\"73\": 1, \"112\": 1, \"128\": 1, \"12\": 1, \"95\": 1, \"124\": 2, \"19\": 1, \"38\": 1, \"20\": 1, \"115\": 1, \"74\": 1}, \"38\": {\"104\": 1, \"74\": 2, \"53\": 1, \"107\": 1, \"37\": 1, \"22\": 1, \"19\": 1, \"127\": 1, \"38\": 2, \"44\": 1}, \"37\": {\"56\": 1, \"104\": 1, \"37\": 4, \"25\": 1, \"107\": 1, \"125\": 1, \"128\": 1, \"68\": 1, \"52\": 1}, \"120\": {\"64\": 1, \"120\": 7, \"13\": 1, \"65\": 1, \"63\": 1, \"102\": 1}, \"122\": {\"55\": 1, \"87\": 1, \"96\": 4, \"45\": 1, \"44\": 1, \"5\": 2, \"31\": 2}, \"50\": {\"127\": 2, \"122\": 1, \"114\": 1, \"50\": 3, \"32\": 1, \"100\": 1, \"4\": 1, \"3\": 2}, \"10\": {\"127\": 2, \"10\": 2, \"48\": 1, \"88\": 1, \"47\": 1, \"111\": 1, \"11\": 1, \"58\": 1, \"66\": 1, \"84\": 1}, \"5\": {\"127\": 2, \"55\": 1, \"8\": 1, \"22\": 1, \"97\": 1, \"5\": 3, \"99\": 1, \"103\": 1, \"12\": 1}, \"51\": {\"51\": 4, \"82\": 1, \"86\": 1, \"28\": 1, \"79\": 1, \"16\": 1, \"95\": 1, \"3\": 1, \"122\": 1}, \"3\": {\"98\": 1, \"70\": 1, \"30\": 1, \"53\": 1, \"32\": 1, \"3\": 2, \"50\": 1, \"95\": 1, \"36\": 1, \"17\": 1, \"5\": 1}, \"98\": {\"15\": 2, \"128\": 1, \"98\": 2, \"7\": 1, \"8\": 1, \"83\": 1, \"95\": 1, \"56\": 1, \"103\": 1, \"60\": 1}, \"70\": {\"22\": 1, \"20\": 1, \"110\": 2, \"114\": 1, \"70\": 2, \"16\": 1, \"128\": 1, \"49\": 2, \"79\": 1}, \"96\": {\"74\": 1, \"96\": 2, \"110\": 2, \"93\": 2, \"16\": 1, \"70\": 1, \"45\": 1, \"60\": 1, \"43\": 1}, \"12\": {\"12\": 6, \"124\": 1, \"8\": 1, \"125\": 1, \"105\": 1, \"5\": 1, \"56\": 1}, \"99\": {\"12\": 1, \"98\": 1, \"99\": 2, \"27\": 1, \"114\": 1, \"85\": 1, \"86\": 1, \"5\": 1, \"77\": 1, \"45\": 1, \"14\": 1}, \"52\": {\"0\": 1, \"52\": 1, \"68\": 1, \"66\": 1, \"37\": 1, \"94\": 1, \"47\": 1, \"36\": 1, \"58\": 1, \"75\": 1, \"106\": 2}, \"71\": {\"8\": 2, \"61\": 1, \"128\": 1, \"71\": 1, \"81\": 1, \"95\": 1, \"104\": 1, \"44\": 1, \"7\": 1, \"3\": 2}, \"89\": {\"89\": 8, \"92\": 1, \"62\": 2, \"67\": 1}, \"0\": {\"71\": 1, \"70\": 1, \"111\": 3, \"91\": 1, \"125\": 3, \"99\": 1, \"54\": 1, \"0\": 1}, \"4\": {\"5\": 1, \"12\": 1, \"114\": 1, \"85\": 1, \"65\": 1, \"35\": 1, \"121\": 1, \"24\": 1, \"23\": 1, \"71\": 1, \"4\": 2}, \"93\": {\"90\": 1, \"93\": 3, \"96\": 1, \"29\": 2, \"84\": 1, \"115\": 1, \"74\": 2, \"88\": 1}, \"6\": {\"6\": 1, \"72\": 1, \"27\": 1, \"85\": 1, \"125\": 2, \"37\": 2, \"58\": 2}, \"75\": {\"75\": 8, \"125\": 1, \"106\": 1, \"12\": 1, \"68\": 1}, \"62\": {\"79\": 2, \"32\": 1, \"83\": 1, \"62\": 4, \"69\": 1, \"11\": 1, \"10\": 1, \"60\": 1}, \"103\": {\"20\": 2, \"9\": 1, \"95\": 1, \"36\": 1, \"100\": 1, \"53\": 1, \"55\": 1, \"19\": 1, \"103\": 1, \"10\": 1, \"111\": 1}, \"30\": {\"93\": 1, \"56\": 1, \"59\": 1, \"82\": 1, \"28\": 2, \"49\": 1, \"1\": 1, \"74\": 1, \"41\": 1, \"30\": 1, \"62\": 1}, \"91\": {\"9\": 1, \"99\": 2, \"98\": 1, \"8\": 1, \"37\": 1, \"75\": 1, \"51\": 1, \"91\": 1, \"34\": 1, \"85\": 1, \"41\": 1}, \"27\": {\"93\": 2, \"82\": 1, \"52\": 1, \"70\": 2, \"27\": 1, \"37\": 2, \"41\": 1, \"51\": 1, \"101\": 1}, \"26\": {\"39\": 2, \"26\": 7, \"64\": 1, \"109\": 1, \"69\": 1}, \"61\": {\"61\": 12}, \"118\": {\"96\": 1, \"29\": 3, \"62\": 1, \"69\": 1, \"116\": 1, \"92\": 1, \"19\": 2, \"43\": 1, \"102\": 1}, \"92\": {\"29\": 1, \"2\": 1, \"92\": 3, \"50\": 1, \"88\": 1, \"69\": 1, \"118\": 1, \"79\": 1, \"119\": 1, \"25\": 1}, \"111\": {\"111\": 2, \"7\": 1, \"27\": 1, \"6\": 1, \"4\": 1, \"127\": 1, \"59\": 1, \"124\": 2, \"56\": 1, \"94\": 1}, \"32\": {\"7\": 1, \"29\": 2, \"51\": 1, \"12\": 1, \"10\": 1, \"127\": 1, \"86\": 1, \"105\": 1, \"79\": 2, \"68\": 1}, \"88\": {\"70\": 1, \"88\": 6, \"1\": 1, \"84\": 2}}, \"Wisig_4\": {\"28\": {\"89\": 1, \"4\": 1, \"53\": 2, \"28\": 2, \"36\": 1, \"83\": 1, \"128\": 1, \"73\": 1, \"46\": 1, \"106\": 1}, \"4\": {\"14\": 1, \"4\": 2, \"12\": 1, \"91\": 1, \"97\": 1, \"52\": 2, \"73\": 1, \"56\": 1, \"42\": 1, \"41\": 1}, \"72\": {\"43\": 1, \"72\": 7, \"0\": 1, \"49\": 1, \"110\": 2}, \"111\": {\"12\": 1, \"111\": 3, \"36\": 1, \"41\": 1, \"125\": 1, \"9\": 2, \"56\": 1, \"58\": 1, \"59\": 1}, \"108\": {\"43\": 1, \"72\": 2, \"4\": 1, \"40\": 1, \"22\": 1, \"27\": 1, \"5\": 1, \"108\": 1, \"73\": 1, \"93\": 2}, \"43\": {\"43\": 7, \"89\": 2, \"22\": 1}, \"96\": {\"43\": 1, \"11\": 1, \"57\": 1, \"3\": 1, \"13\": 2, \"96\": 2, \"62\": 1, \"83\": 1, \"81\": 1, \"39\": 1}, \"89\": {\"89\": 5, \"28\": 1, \"0\": 1, \"3\": 1, \"86\": 1, \"79\": 1, \"85\": 1, \"50\": 1}, \"31\": {\"2\": 1, \"31\": 4, \"90\": 1, \"45\": 1, \"102\": 2, \"50\": 1, \"56\": 1, \"67\": 1}, \"45\": {\"11\": 1, \"89\": 1, \"104\": 2, \"90\": 1, \"114\": 3, \"45\": 1, \"58\": 1, \"74\": 1, \"51\": 1}, \"2\": {\"96\": 3, \"13\": 1, \"2\": 4, \"39\": 2, \"121\": 1, \"80\": 1}, \"114\": {\"4\": 1, \"114\": 1, \"93\": 1, \"83\": 1, \"50\": 1, \"111\": 1, \"79\": 2, \"17\": 1, \"34\": 1, \"125\": 1, \"98\": 1}, \"11\": {\"43\": 3, \"64\": 1, \"42\": 1, \"89\": 1, \"116\": 1, \"70\": 1, \"11\": 1, \"10\": 1, \"93\": 1, \"104\": 1}, \"12\": {\"4\": 1, \"12\": 2, \"91\": 3, \"46\": 1, \"83\": 1, \"105\": 1, \"111\": 2, \"56\": 1}, \"14\": {\"89\": 2, \"101\": 3, \"99\": 1, \"19\": 1, \"14\": 1, \"56\": 2, \"93\": 1, \"11\": 1}, \"90\": {\"43\": 1, \"72\": 1, \"90\": 3, \"19\": 1, \"86\": 1, \"66\": 1, \"62\": 1, \"105\": 1, \"44\": 1, \"82\": 1}, \"10\": {\"64\": 1, \"4\": 1, \"66\": 1, \"128\": 1, \"9\": 1, \"21\": 1, \"46\": 1, \"59\": 1, \"10\": 2, \"93\": 2}, \"63\": {\"82\": 1, \"121\": 1, \"63\": 5, \"84\": 1, \"92\": 1, \"16\": 1, \"67\": 1, \"74\": 1}, \"85\": {\"82\": 1, \"64\": 1, \"86\": 2, \"85\": 1, \"115\": 1, \"114\": 2, \"15\": 1, \"111\": 1, \"89\": 1, \"119\": 1}, \"64\": {\"64\": 2, \"128\": 2, \"88\": 1, \"83\": 1, \"115\": 1, \"95\": 1, \"108\": 2, \"116\": 1, \"0\": 1}, \"82\": {\"11\": 1, \"4\": 1, \"72\": 1, \"82\": 2, \"16\": 1, \"0\": 1, \"63\": 1, \"74\": 1, \"95\": 1, \"17\": 1, \"112\": 1}, \"58\": {\"91\": 1, \"11\": 2, \"66\": 1, \"25\": 1, \"99\": 2, \"86\": 1, \"58\": 1, \"88\": 1, \"93\": 2}, \"3\": {\"91\": 1, \"3\": 1, \"28\": 1, \"11\": 1, \"17\": 1, \"24\": 1, \"71\": 2, \"30\": 2, \"100\": 1, \"127\": 1}, \"54\": {\"54\": 8, \"106\": 1, \"68\": 1, \"127\": 1, \"15\": 1}, \"121\": {\"63\": 2, \"81\": 1, \"67\": 1, \"123\": 2, \"121\": 4, \"80\": 1, \"115\": 1}, \"42\": {\"3\": 1, \"91\": 1, \"42\": 3, \"37\": 1, \"33\": 1, \"56\": 1, \"72\": 1, \"95\": 1, \"46\": 1, \"4\": 1}, \"98\": {\"85\": 1, \"82\": 1, \"34\": 2, \"42\": 2, \"103\": 1, \"98\": 1, \"41\": 1, \"129\": 1, \"114\": 2}, \"123\": {\"123\": 7, \"63\": 1, \"16\": 1, \"109\": 1, \"49\": 1, \"92\": 1}, \"91\": {\"91\": 2, \"12\": 1, \"120\": 1, \"73\": 1, \"68\": 1, \"29\": 1, \"83\": 1, \"20\": 1, \"25\": 1, \"15\": 1, \"58\": 1}, \"66\": {\"66\": 4, \"14\": 1, \"36\": 1, \"119\": 1, \"20\": 1, \"90\": 1, \"110\": 1, \"1\": 1, \"78\": 1}, \"102\": {\"122\": 1, \"4\": 1, \"102\": 2, \"119\": 1, \"107\": 1, \"87\": 1, \"23\": 1, \"89\": 1, \"45\": 1, \"109\": 1, \"60\": 1}, \"122\": {\"4\": 1, \"72\": 3, \"88\": 2, \"74\": 2, \"40\": 1, \"99\": 1, \"122\": 1, \"43\": 1}, \"1\": {\"4\": 1, \"72\": 1, \"3\": 1, \"116\": 1, \"93\": 1, \"88\": 1, \"22\": 1, \"118\": 1, \"1\": 3, \"114\": 1}, \"15\": {\"97\": 1, \"95\": 1, \"0\": 1, \"43\": 1, \"52\": 1, \"119\": 1, \"55\": 3, \"15\": 1, \"111\": 1, \"1\": 1}, \"97\": {\"72\": 3, \"54\": 1, \"43\": 1, \"52\": 1, \"114\": 1, \"83\": 1, \"29\": 1, \"5\": 1, \"55\": 1, \"42\": 1}, \"75\": {\"75\": 8, \"29\": 1, \"8\": 1, \"41\": 2}, \"95\": {\"15\": 1, \"4\": 1, \"53\": 2, \"115\": 1, \"110\": 1, \"95\": 2, \"37\": 1, \"86\": 1, \"47\": 1, \"46\": 1}, \"57\": {\"62\": 2, \"82\": 1, \"69\": 2, \"57\": 1, \"116\": 1, \"63\": 1, \"92\": 1, \"45\": 1, \"109\": 1, \"119\": 1}, \"68\": {\"125\": 1, \"97\": 1, \"46\": 2, \"29\": 1, \"91\": 1, \"103\": 1, \"129\": 1, \"68\": 3, \"75\": 1}, \"125\": {\"68\": 1, \"125\": 5, \"94\": 1, \"47\": 1, \"75\": 1, \"77\": 2, \"25\": 1}, \"62\": {\"4\": 1, \"82\": 2, \"62\": 2, \"83\": 1, \"60\": 1, \"112\": 2, \"38\": 1}, \"27\": {\"22\": 2, \"10\": 1, \"21\": 1, \"86\": 1, \"99\": 1, \"5\": 2, \"27\": 1, \"88\": 2, \"127\": 1}, \"120\": {\"83\": 1, \"99\": 1, \"120\": 1, \"68\": 1, \"0\": 1, \"46\": 1, \"115\": 1, \"7\": 2, \"105\": 1, \"30\": 1, \"41\": 1}, \"26\": {\"26\": 8, \"117\": 1, \"118\": 1, \"31\": 1, \"61\": 1}, \"55\": {\"46\": 2, \"120\": 1, \"55\": 3, \"9\": 1, \"32\": 1, \"95\": 1, \"30\": 1, \"89\": 1, \"12\": 1}, \"71\": {\"120\": 2, \"83\": 1, \"124\": 1, \"73\": 1, \"94\": 1, \"88\": 1, \"52\": 2, \"47\": 1, \"101\": 1, \"95\": 1}, \"22\": {\"99\": 1, \"22\": 3, \"93\": 1, \"76\": 1, \"5\": 1, \"112\": 2, \"105\": 1, \"118\": 1, \"0\": 1}, \"99\": {\"22\": 2, \"101\": 1, \"60\": 1, \"27\": 2, \"21\": 1, \"40\": 1, \"11\": 1, \"43\": 1, \"44\": 1, \"15\": 1}, \"84\": {\"22\": 1, \"84\": 1, \"18\": 1, \"23\": 1, \"99\": 2, \"20\": 1, \"90\": 1, \"92\": 1, \"35\": 1, \"96\": 2}, \"37\": {\"91\": 2, \"120\": 1, \"42\": 2, \"128\": 1, \"10\": 1, \"100\": 1, \"101\": 1, \"37\": 1, \"49\": 1, \"86\": 1}, \"83\": {\"83\": 6, \"52\": 1, \"94\": 2, \"108\": 1, \"28\": 1, \"55\": 1}, \"46\": {\"27\": 2, \"68\": 1, \"46\": 4, \"6\": 1, \"55\": 1, \"52\": 1, \"47\": 1, \"106\": 1}, \"35\": {\"35\": 7, \"117\": 2, \"26\": 1, \"65\": 2}, \"13\": {\"13\": 5, \"22\": 1, \"23\": 1, \"84\": 2, \"3\": 1, \"122\": 2}, \"53\": {\"82\": 1, \"89\": 2, \"120\": 2, \"88\": 1, \"28\": 1, \"95\": 1, \"42\": 1, \"0\": 1, \"49\": 2}, \"127\": {\"53\": 2, \"9\": 1, \"46\": 2, \"124\": 1, \"14\": 1, \"127\": 2, \"15\": 1, \"58\": 1, \"6\": 1}, \"69\": {\"43\": 1, \"0\": 1, \"50\": 1, \"92\": 1, \"69\": 3, \"88\": 1, \"7\": 1, \"78\": 1, \"45\": 1, \"1\": 1}, \"48\": {\"57\": 2, \"0\": 1, \"126\": 1, \"113\": 1, \"123\": 1, \"23\": 1, \"90\": 1, \"67\": 1, \"66\": 2, \"46\": 1}, \"16\": {\"57\": 1, \"16\": 4, \"92\": 1, \"123\": 3, \"67\": 2, \"63\": 1}, \"0\": {\"115\": 1, \"89\": 1, \"33\": 2, \"24\": 1, \"0\": 2, \"55\": 1, \"79\": 1, \"116\": 2, \"87\": 1}, \"8\": {\"0\": 1, \"43\": 1, \"110\": 1, \"103\": 1, \"104\": 1, \"75\": 1, \"19\": 1, \"21\": 1, \"53\": 1, \"36\": 1, \"46\": 1, \"72\": 1}, \"9\": {\"9\": 2, \"15\": 1, \"19\": 1, \"34\": 1, \"106\": 2, \"112\": 1, \"68\": 2, \"91\": 1, \"25\": 1}, \"115\": {\"115\": 3, \"82\": 1, \"127\": 1, \"60\": 1, \"85\": 1, \"98\": 1, \"14\": 1, \"56\": 1, \"72\": 1, \"86\": 1}, \"70\": {\"119\": 1, \"70\": 1, \"9\": 1, \"78\": 1, \"21\": 1, \"118\": 1, \"72\": 2, \"100\": 1, \"43\": 1, \"11\": 1, \"10\": 1}, \"119\": {\"115\": 1, \"60\": 1, \"66\": 1, \"119\": 3, \"93\": 2, \"118\": 2, \"70\": 1, \"88\": 1}, \"59\": {\"6\": 2, \"59\": 9, \"25\": 1}, \"52\": {\"53\": 1, \"46\": 1, \"124\": 2, \"36\": 1, \"59\": 1, \"114\": 2, \"29\": 1, \"52\": 1, \"83\": 1, \"15\": 1}, \"60\": {\"53\": 1, \"44\": 1, \"14\": 1, \"66\": 1, \"99\": 1, \"27\": 1, \"83\": 1, \"79\": 1, \"89\": 1, \"118\": 1, \"10\": 1, \"11\": 1}, \"44\": {\"60\": 2, \"74\": 1, \"44\": 4, \"72\": 2, \"82\": 1, \"38\": 1, \"87\": 1}, \"51\": {\"70\": 2, \"36\": 3, \"56\": 1, \"47\": 1, \"111\": 1, \"40\": 1, \"68\": 1, \"107\": 1, \"6\": 1}, \"6\": {\"46\": 1, \"95\": 1, \"86\": 1, \"6\": 6, \"59\": 2, \"58\": 1}, \"73\": {\"104\": 1, \"50\": 1, \"73\": 3, \"33\": 1, \"114\": 1, \"129\": 1, \"28\": 2, \"87\": 1, \"53\": 1}, \"78\": {\"78\": 3, \"33\": 2, \"119\": 1, \"110\": 1, \"1\": 1, \"0\": 2, \"88\": 1, \"70\": 1}, \"92\": {\"50\": 2, \"16\": 1, \"33\": 1, \"92\": 1, \"123\": 1, \"13\": 3, \"118\": 1, \"1\": 1, \"45\": 1}, \"20\": {\"98\": 1, \"78\": 1, \"20\": 3, \"77\": 1, \"5\": 1, \"112\": 1, \"19\": 1, \"101\": 1, \"14\": 1, \"128\": 1}, \"17\": {\"104\": 1, \"98\": 1, \"36\": 1, \"17\": 1, \"111\": 1, \"73\": 2, \"114\": 1, \"85\": 1, \"116\": 1, \"51\": 2}, \"74\": {\"70\": 1, \"50\": 1, \"17\": 1, \"74\": 2, \"44\": 1, \"3\": 1, \"105\": 1, \"27\": 1, \"72\": 1, \"53\": 1, \"102\": 1}, \"19\": {\"34\": 1, \"78\": 1, \"93\": 2, \"88\": 1, \"29\": 1, \"87\": 2, \"60\": 1, \"33\": 1, \"41\": 1, \"66\": 1}, \"50\": {\"50\": 2, \"78\": 1, \"44\": 2, \"112\": 1, \"87\": 1, \"3\": 1, \"74\": 2, \"93\": 2}, \"34\": {\"70\": 1, \"34\": 1, \"36\": 2, \"6\": 1, \"95\": 1, \"114\": 1, \"52\": 1, \"25\": 1, \"15\": 1, \"59\": 2}, \"104\": {\"50\": 1, \"73\": 1, \"104\": 3, \"42\": 1, \"17\": 2}, \"33\": {\"7\": 1, \"42\": 1, \"33\": 3, \"27\": 1, \"66\": 1, \"60\": 1, \"112\": 1, \"70\": 1, \"43\": 1, \"78\": 1}, \"5\": {\"7\": 2, \"5\": 7, \"62\": 1, \"74\": 1, \"40\": 1}, \"7\": {\"73\": 2, \"22\": 1, \"93\": 1, \"43\": 2, \"7\": 1, \"14\": 1, \"70\": 2, \"81\": 1, \"64\": 1}, \"29\": {\"29\": 4, \"124\": 2, \"71\": 1, \"34\": 2, \"25\": 1, \"12\": 1, \"52\": 1}, \"25\": {\"75\": 2, \"29\": 1, \"25\": 4, \"59\": 2, \"111\": 2, \"125\": 1}, \"124\": {\"68\": 1, \"91\": 1, \"89\": 1, \"124\": 3, \"28\": 1, \"128\": 1, \"27\": 2, \"100\": 1, \"127\": 1}, \"117\": {\"57\": 1, \"117\": 4, \"93\": 1, \"26\": 2, \"81\": 1, \"108\": 1, \"65\": 2}, \"88\": {\"88\": 6, \"93\": 2, \"117\": 1, \"18\": 1, \"11\": 2}, \"61\": {\"117\": 1, \"88\": 1, \"61\": 5, \"65\": 4, \"81\": 1}, \"86\": {\"86\": 4, \"46\": 2, \"100\": 1, \"95\": 2, \"111\": 1, \"73\": 1, \"37\": 1}, \"116\": {\"116\": 4, \"76\": 1, \"106\": 1, \"87\": 1, \"5\": 1, \"99\": 1, \"21\": 1, \"80\": 1, \"73\": 1}, \"24\": {\"28\": 1, \"52\": 1, \"51\": 1, \"44\": 1, \"46\": 1, \"120\": 1, \"103\": 1, \"105\": 1, \"21\": 1, \"91\": 1, \"36\": 1, \"6\": 1}, \"128\": {\"28\": 1, \"128\": 1, \"27\": 1, \"21\": 1, \"129\": 1, \"77\": 1, \"83\": 2, \"68\": 1, \"86\": 1, \"25\": 1, \"40\": 1}, \"101\": {\"60\": 1, \"128\": 1, \"30\": 1, \"70\": 1, \"27\": 3, \"12\": 1, \"29\": 1, \"127\": 1, \"53\": 2}, \"65\": {\"61\": 4, \"65\": 4, \"49\": 1, \"35\": 1}, \"36\": {\"124\": 1, \"66\": 1, \"59\": 2, \"30\": 1, \"129\": 1, \"9\": 2, \"72\": 1, \"95\": 1, \"74\": 1, \"36\": 1}, \"21\": {\"21\": 8, \"66\": 1, \"63\": 1, \"0\": 2}, \"106\": {\"27\": 1, \"37\": 1, \"76\": 1, \"106\": 4, \"79\": 1, \"4\": 2, \"68\": 1, \"46\": 1}, \"118\": {\"33\": 1, \"118\": 1, \"88\": 2, \"19\": 1, \"21\": 2, \"43\": 1, \"1\": 1, \"57\": 1, \"11\": 1, \"119\": 1}, \"113\": {\"45\": 1, \"90\": 1, \"113\": 4, \"118\": 1, \"101\": 1, \"16\": 1, \"121\": 1, \"109\": 1, \"39\": 1}, \"40\": {\"52\": 1, \"97\": 1, \"72\": 1, \"40\": 4, \"93\": 1, \"5\": 1, \"83\": 1, \"51\": 1, \"44\": 1}, \"93\": {\"93\": 3, \"88\": 1, \"115\": 1, \"110\": 1, \"40\": 1, \"11\": 1}, \"94\": {\"29\": 1, \"88\": 1, \"56\": 1, \"34\": 1, \"125\": 2, \"24\": 1, \"74\": 1, \"6\": 1, \"58\": 1, \"93\": 1, \"94\": 1}, \"103\": {\"103\": 2, \"14\": 1, \"46\": 2, \"77\": 1, \"5\": 1, \"83\": 1, \"87\": 1, \"52\": 1, \"30\": 1, \"68\": 1}, \"110\": {\"88\": 2, \"110\": 4, \"87\": 1, \"93\": 2, \"64\": 1, \"44\": 1, \"60\": 1}, \"56\": {\"42\": 1, \"56\": 3, \"36\": 1, \"34\": 1, \"14\": 1, \"27\": 1, \"100\": 2, \"64\": 1, \"12\": 1}, \"39\": {\"31\": 1, \"66\": 1, \"67\": 1, \"39\": 2, \"102\": 1, \"18\": 1, \"90\": 2, \"7\": 1, \"96\": 1, \"26\": 1}, \"109\": {\"33\": 1, \"109\": 3, \"93\": 1, \"123\": 1, \"5\": 1, \"23\": 1, \"88\": 2, \"113\": 1, \"104\": 1}, \"67\": {\"74\": 2, \"81\": 2, \"67\": 3, \"85\": 1, \"112\": 1, \"2\": 1, \"88\": 1, \"83\": 1}, \"129\": {\"24\": 2, \"3\": 1, \"49\": 1, \"112\": 1, \"41\": 1, \"20\": 1, \"30\": 1, \"4\": 1, \"129\": 1, \"58\": 1, \"32\": 1}, \"30\": {\"36\": 1, \"44\": 1, \"47\": 2, \"40\": 1, \"125\": 1, \"9\": 1, \"22\": 1, \"54\": 2, \"25\": 2}, \"126\": {\"126\": 4, \"23\": 1, \"38\": 1, \"20\": 2, \"45\": 1, \"50\": 1, \"26\": 1, \"108\": 1}, \"87\": {\"21\": 1, \"70\": 1, \"110\": 2, \"5\": 1, \"107\": 1, \"87\": 3, \"0\": 1, \"49\": 1, \"44\": 1}, \"112\": {\"70\": 1, \"100\": 1, \"103\": 1, \"105\": 1, \"87\": 1, \"107\": 1, \"112\": 1, \"22\": 1, \"62\": 1, \"8\": 1, \"17\": 1, \"34\": 1}, \"100\": {\"101\": 2, \"27\": 1, \"94\": 1, \"129\": 1, \"128\": 1, \"127\": 1, \"37\": 1, \"42\": 1, \"28\": 1, \"70\": 1, \"56\": 1}, \"79\": {\"118\": 2, \"56\": 1, \"112\": 2, \"105\": 1, \"114\": 1, \"101\": 2, \"89\": 1}, \"81\": {\"81\": 5, \"113\": 1, \"121\": 1, \"39\": 1, \"108\": 1, \"117\": 1, \"123\": 1, \"23\": 1}, \"76\": {\"118\": 2, \"76\": 2, \"85\": 1, \"41\": 1, \"127\": 1, \"111\": 1, \"11\": 1, \"58\": 1}, \"47\": {\"47\": 7, \"21\": 1, \"125\": 1, \"22\": 1, \"59\": 1, \"27\": 1}, \"77\": {\"46\": 1, \"6\": 1, \"103\": 4, \"106\": 1, \"41\": 1, \"75\": 1, \"68\": 1, \"114\": 1, \"125\": 1}, \"23\": {\"84\": 1, \"86\": 1, \"49\": 2, \"93\": 1, \"76\": 2, \"38\": 1, \"77\": 1, \"116\": 1, \"4\": 1, \"0\": 1}, \"18\": {\"18\": 9, \"126\": 1, \"63\": 2}, \"49\": {\"49\": 3, \"0\": 2, \"22\": 1, \"41\": 1, \"43\": 1, \"77\": 1, \"37\": 1, \"50\": 1, \"36\": 1}, \"41\": {\"41\": 3, \"125\": 1, \"47\": 1, \"106\": 1, \"20\": 1, \"112\": 2, \"111\": 1, \"55\": 1, \"4\": 1}, \"32\": {\"115\": 1, \"76\": 1, \"41\": 1, \"106\": 1, \"32\": 2, \"47\": 1, \"97\": 2, \"69\": 1, \"94\": 1, \"104\": 1}, \"107\": {\"103\": 1, \"105\": 1, \"32\": 1, \"47\": 1, \"19\": 1, \"62\": 1, \"7\": 1, \"51\": 1, \"53\": 1, \"74\": 1}, \"80\": {\"43\": 1, \"102\": 1, \"5\": 4, \"126\": 1, \"121\": 1, \"2\": 1, \"72\": 1, \"117\": 1, \"108\": 1}, \"105\": {\"20\": 1, \"105\": 2, \"32\": 1, \"79\": 1, \"83\": 2, \"98\": 1, \"113\": 1, \"24\": 1}, \"38\": {\"5\": 1, \"23\": 2, \"38\": 1, \"80\": 1, \"128\": 1, \"96\": 1, \"64\": 1, \"90\": 1, \"110\": 1}}, \"Wisig_1\": {\"108\": {\"70\": 2, \"108\": 2, \"55\": 1, \"116\": 1, \"98\": 1, \"44\": 1, \"11\": 2}, \"40\": {\"79\": 1, \"57\": 1, \"23\": 1, \"14\": 1, \"85\": 1, \"46\": 1, \"40\": 2, \"22\": 1, \"114\": 1, \"110\": 1, \"44\": 1}, \"68\": {\"68\": 6, \"52\": 1, \"53\": 1, \"34\": 1, \"19\": 1, \"101\": 1, \"12\": 1}, \"23\": {\"22\": 1, \"64\": 1, \"1\": 2, \"5\": 1, \"23\": 2, \"10\": 1, \"7\": 1, \"79\": 1, \"11\": 1, \"127\": 1}, \"26\": {\"70\": 1, \"102\": 1, \"95\": 2, \"26\": 6, \"123\": 1, \"62\": 1}, \"64\": {\"64\": 1, \"23\": 1, \"85\": 2, \"11\": 2, \"41\": 1, \"71\": 1, \"61\": 1, \"93\": 1, \"2\": 1, \"43\": 1}, \"22\": {\"4\": 1, \"79\": 1, \"22\": 1, \"40\": 3, \"34\": 2, \"85\": 1, \"49\": 1, \"94\": 2}, \"3\": {\"64\": 1, \"79\": 1, \"109\": 2, \"97\": 1, \"122\": 1, \"33\": 1, \"34\": 1, \"24\": 1, \"93\": 1, \"40\": 2}, \"4\": {\"110\": 1, \"108\": 1, \"75\": 1, \"4\": 2, \"29\": 1, \"31\": 1, \"114\": 1, \"94\": 1, \"104\": 1, \"126\": 1, \"77\": 1}, \"70\": {\"70\": 2, \"64\": 1, \"34\": 1, \"115\": 1, \"35\": 2, \"21\": 2, \"11\": 1, \"60\": 1, \"97\": 1}, \"57\": {\"23\": 1, \"4\": 1, \"25\": 1, \"17\": 2, \"126\": 1, \"103\": 1, \"9\": 1, \"105\": 1, \"106\": 1, \"57\": 1, \"128\": 1}, \"79\": {\"57\": 1, \"4\": 1, \"79\": 3, \"48\": 1, \"124\": 1, \"114\": 1, \"61\": 1, \"41\": 1, \"22\": 1, \"11\": 1}, \"9\": {\"68\": 1, \"89\": 1, \"73\": 1, \"17\": 1, \"94\": 1, \"53\": 2, \"46\": 1, \"12\": 1, \"128\": 1, \"31\": 1, \"9\": 1}, \"89\": {\"108\": 1, \"9\": 1, \"85\": 2, \"89\": 2, \"92\": 2, \"120\": 1, \"101\": 1, \"88\": 1, \"107\": 1}, \"110\": {\"68\": 2, \"124\": 3, \"94\": 1, \"110\": 3, \"29\": 1, \"93\": 1, \"97\": 1}, \"102\": {\"70\": 1, \"64\": 1, \"82\": 1, \"102\": 2, \"116\": 2, \"69\": 2, \"27\": 1, \"90\": 1, \"74\": 1}, \"31\": {\"109\": 2, \"96\": 1, \"40\": 1, \"126\": 3, \"30\": 1, \"8\": 1, \"1\": 1, \"99\": 2}, \"58\": {\"52\": 1, \"68\": 1, \"58\": 4, \"32\": 1, \"126\": 1, \"70\": 1, \"72\": 1, \"51\": 1, \"57\": 1}, \"47\": {\"11\": 1, \"96\": 1, \"91\": 1, \"51\": 1, \"36\": 2, \"33\": 1, \"15\": 1, \"77\": 1, \"57\": 1, \"74\": 1, \"14\": 1}, \"24\": {\"96\": 1, \"11\": 1, \"109\": 4, \"24\": 3, \"120\": 1, \"124\": 1, \"104\": 1}, \"19\": {\"68\": 1, \"11\": 1, \"34\": 2, \"87\": 1, \"35\": 1, \"19\": 1, \"22\": 1, \"47\": 1, \"32\": 1, \"100\": 1, \"31\": 1}, \"11\": {\"11\": 4, \"44\": 2, \"35\": 2, \"90\": 1, \"80\": 1, \"126\": 2}, \"52\": {\"68\": 1, \"52\": 9, \"59\": 1, \"36\": 1}, \"17\": {\"68\": 1, \"47\": 1, \"17\": 3, \"92\": 1, \"73\": 1, \"75\": 1, \"20\": 1, \"57\": 1, \"19\": 1, \"32\": 1}, \"25\": {\"57\": 1, \"31\": 1, \"87\": 3, \"114\": 1, \"58\": 1, \"29\": 1, \"97\": 1, \"48\": 1, \"34\": 1, \"1\": 1}, \"69\": {\"69\": 4, \"11\": 1, \"60\": 1, \"30\": 1, \"78\": 1, \"87\": 1, \"39\": 1, \"21\": 1, \"1\": 1}, \"96\": {\"96\": 2, \"11\": 1, \"60\": 1, \"35\": 2, \"2\": 1, \"64\": 1, \"44\": 2, \"41\": 1, \"61\": 1}, \"109\": {\"11\": 2, \"109\": 10}, \"115\": {\"31\": 2, \"115\": 3, \"34\": 1, \"122\": 1, \"25\": 1, \"97\": 1, \"38\": 1, \"100\": 1, \"114\": 1}, \"83\": {\"17\": 2, \"20\": 1, \"83\": 2, \"14\": 1, \"81\": 1, \"106\": 1, \"24\": 2, \"9\": 1, \"98\": 1}, \"84\": {\"1\": 1, \"85\": 1, \"35\": 1, \"47\": 1, \"37\": 1, \"60\": 1, \"34\": 1, \"107\": 1, \"31\": 2, \"74\": 1, \"111\": 1}, \"119\": {\"1\": 1, \"119\": 4, \"39\": 1, \"88\": 1, \"2\": 1, \"104\": 1, \"122\": 1}, \"122\": {\"99\": 1, \"85\": 1, \"70\": 1, \"122\": 2, \"126\": 1, \"109\": 2, \"104\": 2}, \"99\": {\"23\": 1, \"99\": 3, \"44\": 1, \"93\": 2, \"90\": 2, \"109\": 1, \"24\": 2}, \"1\": {\"23\": 1, \"7\": 1, \"87\": 1, \"100\": 1, \"42\": 1, \"1\": 4, \"82\": 1, \"109\": 2}, \"74\": {\"1\": 1, \"7\": 1, \"9\": 1, \"0\": 1, \"74\": 2, \"76\": 1, \"61\": 1, \"23\": 2, \"90\": 1, \"47\": 1}, \"85\": {\"85\": 3, \"111\": 1, \"46\": 2, \"15\": 1, \"91\": 1, \"20\": 1, \"73\": 1, \"14\": 1, \"32\": 1}, \"127\": {\"89\": 4, \"103\": 2, \"127\": 2, \"38\": 1, \"110\": 1, \"71\": 1, \"37\": 1}, \"111\": {\"53\": 1, \"88\": 1, \"106\": 2, \"6\": 2, \"5\": 1, \"111\": 3, \"107\": 1, \"127\": 1}, \"53\": {\"89\": 1, \"111\": 1, \"92\": 1, \"17\": 2, \"6\": 1, \"9\": 1, \"53\": 1, \"49\": 1, \"68\": 1, \"98\": 2}, \"88\": {\"7\": 2, \"71\": 2, \"103\": 1, \"77\": 1, \"110\": 1, \"89\": 1, \"116\": 2, \"1\": 1, \"127\": 1}, \"65\": {\"65\": 2, \"16\": 1, \"3\": 2, \"85\": 1, \"118\": 1, \"95\": 1, \"116\": 1, \"24\": 1}, \"7\": {\"7\": 2, \"1\": 1, \"70\": 2, \"35\": 1, \"44\": 2, \"21\": 1, \"90\": 2, \"109\": 1}, \"16\": {\"65\": 2, \"16\": 3, \"10\": 1, \"48\": 1, \"95\": 1, \"118\": 1, \"18\": 3}, \"128\": {\"34\": 1, \"28\": 1, \"66\": 1, \"111\": 1, \"79\": 2, \"1\": 1, \"25\": 1, \"21\": 1, \"126\": 1, \"43\": 1, \"61\": 1}, \"34\": {\"34\": 3, \"129\": 1, \"9\": 1, \"70\": 1, \"100\": 1, \"68\": 1, \"15\": 1, \"114\": 1, \"127\": 1, \"84\": 1}, \"129\": {\"41\": 1, \"17\": 1, \"76\": 1, \"23\": 1, \"90\": 1, \"71\": 1, \"34\": 1, \"8\": 1, \"54\": 1, \"47\": 1, \"97\": 1, \"14\": 1}, \"43\": {\"28\": 3, \"43\": 2, \"116\": 1, \"0\": 1, \"108\": 1, \"96\": 1, \"10\": 1, \"57\": 1, \"64\": 1}, \"92\": {\"92\": 3, \"17\": 1, \"125\": 1, \"15\": 1, \"88\": 2, \"85\": 2, \"37\": 1, \"98\": 1}, \"28\": {\"28\": 4, \"41\": 1, \"96\": 1, \"93\": 1, \"8\": 1, \"19\": 1, \"114\": 1, \"3\": 1, \"43\": 1}, \"27\": {\"28\": 1, \"53\": 1, \"101\": 1, \"44\": 1, \"30\": 1, \"52\": 1, \"61\": 1, \"68\": 1, \"27\": 1, \"33\": 1, \"37\": 2}, \"114\": {\"53\": 1, \"28\": 2, \"103\": 1, \"85\": 1, \"87\": 2, \"114\": 1, \"77\": 1, \"20\": 1, \"56\": 1, \"4\": 1}, \"73\": {\"41\": 1, \"128\": 1, \"22\": 1, \"73\": 4, \"126\": 1, \"120\": 2, \"86\": 1, \"30\": 1}, \"0\": {\"92\": 1, \"41\": 1, \"6\": 1, \"9\": 1, \"43\": 1, \"55\": 1, \"71\": 1, \"81\": 1, \"57\": 2, \"103\": 2}, \"104\": {\"104\": 2, \"28\": 1, \"89\": 1, \"49\": 1, \"46\": 1, \"126\": 1, \"4\": 1, \"81\": 1, \"103\": 1, \"24\": 1, \"122\": 1}, \"118\": {\"118\": 9, \"60\": 1, \"2\": 2}, \"41\": {\"41\": 2, \"28\": 1, \"54\": 1, \"35\": 1, \"110\": 1, \"94\": 1, \"70\": 1, \"38\": 1, \"17\": 1, \"103\": 1, \"83\": 1}, \"49\": {\"46\": 1, \"89\": 1, \"72\": 1, \"86\": 1, \"97\": 1, \"91\": 1, \"85\": 1, \"22\": 1, \"42\": 1, \"127\": 1, \"49\": 1, \"15\": 1}, \"14\": {\"40\": 1, \"49\": 1, \"83\": 1, \"43\": 1, \"120\": 1, \"79\": 1, \"85\": 1, \"129\": 1, \"47\": 1, \"14\": 1, \"9\": 1, \"103\": 1}, \"46\": {\"125\": 2, \"22\": 2, \"104\": 1, \"58\": 1, \"93\": 1, \"51\": 1, \"91\": 1, \"85\": 1, \"0\": 1, \"103\": 1}, \"33\": {\"33\": 5, \"82\": 2, \"114\": 1, \"76\": 1, \"109\": 1, \"27\": 2}, \"76\": {\"33\": 1, \"49\": 1, \"46\": 1, \"50\": 1, \"3\": 1, \"122\": 2, \"74\": 1, \"81\": 1, \"76\": 2, \"66\": 1}, \"125\": {\"125\": 6, \"51\": 3, \"75\": 1, \"101\": 2}, \"86\": {\"49\": 1, \"86\": 3, \"85\": 1, \"15\": 1, \"4\": 1, \"77\": 1, \"98\": 2}, \"66\": {\"76\": 1, \"129\": 1, \"44\": 3, \"66\": 2, \"61\": 1, \"2\": 1, \"82\": 1, \"109\": 1, \"48\": 1}, \"5\": {\"23\": 2, \"104\": 1, \"5\": 1, \"81\": 1, \"20\": 1, \"111\": 1, \"79\": 1, \"110\": 1, \"55\": 1, \"8\": 1, \"84\": 1}, \"117\": {\"18\": 1, \"117\": 8, \"63\": 3}, \"75\": {\"9\": 2, \"106\": 1, \"35\": 1, \"56\": 2, \"125\": 1, \"75\": 1, \"72\": 1, \"6\": 1, \"53\": 1, \"68\": 1}, \"61\": {\"61\": 3, \"19\": 1, \"128\": 2, \"126\": 1, \"80\": 1, \"74\": 1, \"79\": 1, \"57\": 1, \"43\": 1}, \"50\": {\"50\": 5, \"61\": 1, \"105\": 1, \"124\": 1, \"60\": 2, \"54\": 1, \"62\": 1}, \"67\": {\"109\": 1, \"50\": 1, \"0\": 1, \"67\": 2, \"97\": 1, \"11\": 1, \"45\": 1, \"82\": 1, \"1\": 1}, \"18\": {\"18\": 3, \"13\": 2, \"33\": 2, \"95\": 1, \"69\": 2, \"126\": 2}, \"98\": {\"75\": 2, \"36\": 1, \"103\": 1, \"29\": 1, \"54\": 2, \"98\": 4, \"9\": 1}, \"55\": {\"46\": 1, \"85\": 1, \"107\": 1, \"55\": 3, \"71\": 1, \"40\": 1, \"6\": 1, \"72\": 1}, \"32\": {\"46\": 1, \"58\": 1, \"91\": 1, \"72\": 1, \"81\": 2, \"54\": 2, \"112\": 2, \"75\": 1, \"128\": 1}, \"120\": {\"55\": 1, \"126\": 1, \"120\": 1, \"45\": 1, \"79\": 1, \"30\": 2, \"38\": 1, \"89\": 1, \"41\": 1, \"106\": 1, \"73\": 1}, \"97\": {\"31\": 2, \"107\": 2, \"35\": 1, \"100\": 1, \"24\": 1, \"2\": 1, \"48\": 1, \"25\": 1, \"32\": 1, \"14\": 1}, \"126\": {\"109\": 2, \"115\": 1, \"122\": 1, \"126\": 4, \"30\": 1, \"128\": 1, \"21\": 1, \"43\": 1}, \"45\": {\"31\": 2, \"103\": 1, \"122\": 1, \"66\": 1, \"111\": 1, \"55\": 1, \"19\": 1, \"45\": 1, \"80\": 1, \"11\": 2}, \"78\": {\"34\": 1, \"93\": 1, \"108\": 1, \"74\": 1, \"7\": 1, \"21\": 1, \"11\": 3, \"64\": 1}, \"100\": {\"34\": 1, \"115\": 1, \"100\": 2, \"35\": 1, \"5\": 1, \"42\": 1, \"44\": 2, \"126\": 1, \"81\": 1, \"23\": 1}, \"107\": {\"107\": 3, \"77\": 1, \"46\": 1, \"51\": 2, \"55\": 1, \"17\": 1, \"125\": 1, \"25\": 1, \"127\": 1}, \"93\": {\"107\": 1, \"34\": 1, \"38\": 1, \"54\": 1, \"14\": 1, \"44\": 1, \"24\": 2, \"22\": 1, \"93\": 1, \"41\": 1, \"75\": 1}, \"77\": {\"77\": 2, \"112\": 1, \"59\": 1, \"56\": 1, \"47\": 1, \"106\": 1, \"15\": 1, \"111\": 1, \"128\": 1, \"101\": 1, \"71\": 1}, \"63\": {\"63\": 5, \"3\": 1, \"117\": 2, \"39\": 1, \"118\": 1, \"115\": 1, \"38\": 1}, \"112\": {\"112\": 2, \"34\": 1, \"6\": 2, \"59\": 1, \"58\": 2, \"32\": 2, \"77\": 1, \"101\": 1}, \"113\": {\"113\": 12}, \"103\": {\"103\": 2, \"56\": 1, \"58\": 1, \"101\": 1, \"106\": 1, \"36\": 1, \"59\": 1, \"52\": 2}, \"71\": {\"129\": 2, \"37\": 2, \"71\": 5, \"59\": 1, \"127\": 2}, \"30\": {\"30\": 3, \"103\": 1, \"126\": 2, \"37\": 2, \"24\": 1, \"23\": 1, \"83\": 1, \"11\": 1}, \"90\": {\"90\": 2, \"85\": 1, \"33\": 1, \"8\": 1, \"93\": 2, \"82\": 1, \"2\": 1, \"64\": 1, \"74\": 1, \"54\": 1}, \"37\": {\"85\": 1, \"37\": 5, \"124\": 1, \"71\": 1, \"29\": 1, \"77\": 1, \"22\": 1, \"98\": 1}, \"60\": {\"69\": 1, \"129\": 1, \"39\": 1, \"60\": 2, \"84\": 1, \"30\": 1, \"41\": 1, \"11\": 1, \"23\": 1, \"94\": 1, \"104\": 1}, \"15\": {\"64\": 1, \"114\": 1, \"87\": 1, \"0\": 1, \"5\": 1, \"15\": 1, \"79\": 1, \"77\": 1, \"54\": 1, \"27\": 1, \"4\": 1, \"51\": 1}, \"39\": {\"96\": 2, \"39\": 7, \"87\": 1, \"95\": 1, \"93\": 1}, \"72\": {\"72\": 6, \"51\": 2, \"53\": 2, \"94\": 1, \"6\": 1}, \"54\": {\"60\": 2, \"12\": 1, \"98\": 2, \"107\": 1, \"51\": 1, \"54\": 3, \"22\": 1, \"14\": 1}, \"35\": {\"41\": 1, \"49\": 1, \"97\": 1, \"35\": 4, \"96\": 1, \"116\": 1, \"25\": 1, \"91\": 1, \"108\": 1}, \"2\": {\"60\": 1, \"2\": 6, \"126\": 1, \"59\": 1, \"90\": 1, \"26\": 1, \"77\": 1}, \"94\": {\"53\": 1, \"8\": 1, \"124\": 1, \"44\": 1, \"56\": 1, \"83\": 1, \"72\": 1, \"75\": 1, \"6\": 1, \"37\": 1, \"13\": 1, \"81\": 1}, \"42\": {\"87\": 2, \"91\": 1, \"100\": 1, \"44\": 1, \"39\": 1, \"19\": 2, \"29\": 2, \"8\": 1, \"1\": 1}, \"81\": {\"87\": 1, \"42\": 1, \"27\": 1, \"81\": 3, \"93\": 1, \"20\": 1, \"73\": 1, \"100\": 1, \"1\": 1, \"104\": 1}, \"8\": {\"87\": 1, \"8\": 1, \"21\": 1, \"29\": 1, \"54\": 1, \"38\": 1, \"81\": 1, \"0\": 1, \"1\": 1, \"128\": 1, \"19\": 1, \"5\": 1}, \"87\": {\"8\": 3, \"100\": 2, \"10\": 1, \"22\": 1, \"19\": 1, \"87\": 1, \"25\": 1, \"70\": 1, \"115\": 1}, \"6\": {\"53\": 1, \"6\": 2, \"36\": 1, \"32\": 1, \"127\": 1, \"111\": 1, \"94\": 1, \"59\": 1, \"37\": 3}, \"36\": {\"87\": 1, \"91\": 1, \"71\": 1, \"37\": 1, \"106\": 2, \"77\": 1, \"111\": 1, \"7\": 1, \"83\": 1, \"36\": 2}, \"91\": {\"32\": 1, \"1\": 1, \"91\": 2, \"75\": 1, \"83\": 2, \"125\": 1, \"25\": 1, \"4\": 1, \"57\": 1, \"128\": 1}, \"56\": {\"49\": 2, \"91\": 1, \"58\": 3, \"56\": 5, \"46\": 1}, \"80\": {\"87\": 1, \"100\": 1, \"105\": 1, \"80\": 2, \"79\": 1, \"61\": 1, \"20\": 1, \"7\": 1, \"5\": 1, \"93\": 1, \"75\": 1}, \"124\": {\"71\": 1, \"37\": 2, \"83\": 2, \"6\": 1, \"5\": 1, \"124\": 1, \"9\": 2}, \"44\": {\"99\": 1, \"124\": 1, \"44\": 3, \"27\": 1, \"79\": 1, \"61\": 2, \"3\": 2, \"48\": 1}, \"13\": {\"13\": 7, \"102\": 1, \"123\": 1, \"95\": 2, \"65\": 1}, \"10\": {\"122\": 1, \"103\": 1, \"80\": 2, \"21\": 3, \"113\": 1, \"1\": 1, \"34\": 1, \"13\": 1, \"96\": 1}, \"59\": {\"59\": 6, \"52\": 2, \"123\": 2, \"51\": 1, \"72\": 1}, \"95\": {\"120\": 1, \"122\": 1, \"95\": 6, \"117\": 1, \"93\": 2, \"65\": 1}, \"105\": {\"45\": 1, \"57\": 1, \"7\": 1, \"5\": 1, \"111\": 1, \"127\": 1, \"40\": 1, \"114\": 1, \"105\": 1, \"85\": 1, \"54\": 1, \"49\": 1}, \"101\": {\"101\": 5, \"106\": 2, \"37\": 2, \"89\": 1, \"112\": 1, \"12\": 1}, \"20\": {\"27\": 1, \"20\": 5, \"111\": 1, \"5\": 1, \"14\": 1, \"4\": 1, \"98\": 1, \"116\": 1}, \"48\": {\"96\": 2, \"79\": 1, \"48\": 1, \"93\": 1, \"120\": 1, \"76\": 1, \"20\": 1, \"97\": 1, \"82\": 1, \"123\": 1, \"108\": 1}, \"106\": {\"47\": 2, \"75\": 2, \"106\": 2, \"56\": 1, \"107\": 1, \"58\": 1, \"101\": 2, \"83\": 1}, \"51\": {\"111\": 1, \"72\": 2, \"125\": 2, \"107\": 1, \"51\": 3, \"98\": 1, \"91\": 1, \"56\": 1}, \"21\": {\"96\": 2, \"21\": 6, \"55\": 1, \"113\": 1, \"90\": 1, \"47\": 1}, \"123\": {\"16\": 1, \"11\": 1, \"59\": 3, \"13\": 1, \"123\": 4, \"63\": 2}, \"121\": {\"121\": 8, \"45\": 1, \"13\": 3}, \"38\": {\"66\": 1, \"80\": 1, \"38\": 1, \"8\": 1, \"12\": 1, \"93\": 1, \"96\": 1, \"2\": 1, \"97\": 1, \"115\": 1, \"106\": 1, \"43\": 1}, \"62\": {\"62\": 4, \"128\": 1, \"10\": 1, \"82\": 1, \"109\": 3, \"64\": 1, \"11\": 1}, \"29\": {\"29\": 3, \"8\": 1, \"54\": 1, \"107\": 1, \"31\": 1, \"79\": 1, \"110\": 1, \"42\": 1, \"32\": 1, \"129\": 1}, \"82\": {\"10\": 1, \"21\": 1, \"82\": 3, \"27\": 1, \"48\": 2, \"109\": 1, \"122\": 1, \"1\": 1, \"30\": 1}, \"116\": {\"43\": 2, \"102\": 1, \"126\": 2, \"116\": 3, \"88\": 1, \"11\": 1, \"104\": 2}, \"12\": {\"51\": 1, \"107\": 2, \"125\": 1, \"37\": 2, \"112\": 1, \"12\": 1}}, \"Wisig_2\": {\"91\": {\"101\": 2, \"0\": 2, \"124\": 2, \"29\": 2, \"75\": 1, \"34\": 1, \"30\": 1, \"91\": 1}, \"12\": {\"28\": 1, \"88\": 1, \"75\": 1, \"29\": 2, \"4\": 1, \"119\": 1, \"116\": 1, \"50\": 1, \"77\": 1, \"55\": 1, \"12\": 1}, \"101\": {\"106\": 1, \"86\": 1, \"0\": 1, \"101\": 3, \"125\": 1, \"79\": 1, \"94\": 1, \"104\": 1}, \"121\": {\"117\": 3, \"64\": 1, \"121\": 2, \"23\": 2, \"65\": 2, \"31\": 1, \"72\": 1}, \"118\": {\"10\": 3, \"13\": 1, \"87\": 1, \"45\": 1, \"24\": 1, \"48\": 1, \"3\": 1, \"118\": 1, \"46\": 1, \"76\": 1}, \"10\": {\"126\": 2, \"105\": 2, \"118\": 1, \"29\": 1, \"16\": 1, \"115\": 1, \"60\": 2, \"10\": 1, \"23\": 1}, \"117\": {\"117\": 11, \"121\": 1}, \"110\": {\"12\": 1, \"126\": 1, \"98\": 2, \"29\": 2, \"91\": 2, \"55\": 2, \"22\": 1, \"97\": 1}, \"97\": {\"28\": 1, \"118\": 1, \"15\": 1, \"98\": 1, \"105\": 1, \"97\": 1, \"122\": 1, \"7\": 1, \"116\": 1, \"22\": 1, \"55\": 1, \"29\": 1}, \"28\": {\"126\": 1, \"28\": 2, \"40\": 2, \"41\": 1, \"8\": 1, \"0\": 1, \"17\": 1, \"73\": 1, \"10\": 1, \"25\": 1}, \"88\": {\"126\": 2, \"88\": 6, \"109\": 2, \"119\": 1, \"22\": 1}, \"17\": {\"86\": 2, \"77\": 1, \"112\": 1, \"56\": 1, \"76\": 1, \"78\": 1, \"7\": 1, \"12\": 1, \"0\": 1, \"59\": 1, \"8\": 1}, \"126\": {\"126\": 5, \"119\": 1, \"38\": 1, \"70\": 1, \"46\": 1, \"44\": 1, \"118\": 2}, \"33\": {\"10\": 1, \"126\": 1, \"80\": 1, \"33\": 3, \"21\": 1, \"116\": 1, \"93\": 1, \"60\": 1, \"44\": 1, \"87\": 1}, \"86\": {\"86\": 6, \"101\": 1, \"34\": 1, \"41\": 1, \"114\": 2, \"74\": 1}, \"106\": {\"101\": 2, \"97\": 1, \"54\": 1, \"103\": 2, \"106\": 4, \"32\": 1, \"58\": 1}, \"54\": {\"54\": 2, \"9\": 2, \"125\": 1, \"77\": 2, \"17\": 1, \"19\": 1, \"25\": 1, \"73\": 1, \"52\": 1}, \"125\": {\"103\": 1, \"125\": 4, \"9\": 2, \"51\": 3, \"34\": 2}, \"83\": {\"83\": 2, \"87\": 1, \"76\": 1, \"60\": 2, \"3\": 1, \"105\": 2, \"80\": 2, \"38\": 1}, \"98\": {\"11\": 2, \"42\": 1, \"49\": 2, \"47\": 1, \"0\": 1, \"12\": 1, \"77\": 1, \"98\": 1, \"19\": 1, \"68\": 1}, \"11\": {\"118\": 1, \"97\": 1, \"8\": 1, \"44\": 1, \"11\": 2, \"41\": 1, \"114\": 1, \"126\": 1, \"80\": 3}, \"32\": {\"54\": 1, \"4\": 1, \"115\": 1, \"38\": 1, \"19\": 1, \"34\": 1, \"29\": 1, \"106\": 1, \"3\": 1, \"35\": 1, \"100\": 1, \"5\": 1}, \"42\": {\"11\": 1, \"83\": 1, \"8\": 1, \"41\": 1, \"122\": 2, \"109\": 1, \"108\": 1, \"34\": 2, \"128\": 1, \"42\": 1}, \"103\": {\"106\": 1, \"98\": 1, \"103\": 4, \"41\": 1, \"124\": 1, \"66\": 1, \"52\": 1, \"111\": 2}, \"87\": {\"87\": 4, \"84\": 1, \"88\": 3, \"119\": 2, \"70\": 1, \"118\": 1}, \"61\": {\"87\": 1, \"32\": 1, \"73\": 1, \"62\": 1, \"61\": 5, \"17\": 1, \"80\": 1, \"105\": 1}, \"13\": {\"13\": 6, \"89\": 2, \"7\": 1, \"77\": 1, \"39\": 2}, \"4\": {\"11\": 2, \"42\": 1, \"12\": 1, \"68\": 1, \"80\": 1, \"4\": 2, \"32\": 1, \"62\": 1, \"98\": 1, \"77\": 1}, \"15\": {\"97\": 1, \"42\": 1, \"36\": 1, \"103\": 1, \"15\": 2, \"19\": 1, \"35\": 1, \"58\": 1, \"56\": 1}, \"120\": {\"89\": 1, \"121\": 1, \"99\": 1, \"13\": 1, \"120\": 6, \"72\": 1, \"2\": 1}, \"80\": {\"64\": 2, \"33\": 1, \"66\": 1, \"46\": 1, \"40\": 1, \"1\": 1, \"80\": 3, \"22\": 1, \"53\": 1}, \"72\": {\"81\": 1, \"72\": 4, \"60\": 1, \"83\": 1, \"96\": 1, \"13\": 1, \"40\": 1}, \"64\": {\"64\": 3, \"10\": 1, \"112\": 2, \"44\": 1, \"129\": 1, \"1\": 2, \"84\": 2}, \"81\": {\"81\": 7, \"121\": 1, \"69\": 1, \"48\": 1, \"93\": 2}, \"102\": {\"64\": 1, \"89\": 1, \"102\": 3, \"46\": 1, \"96\": 1, \"33\": 1, \"62\": 2, \"93\": 1, \"16\": 1}, \"76\": {\"80\": 1, \"76\": 3, \"24\": 1, \"33\": 1, \"60\": 2, \"12\": 1, \"116\": 1, \"66\": 1, \"46\": 1}, \"49\": {\"98\": 1, \"80\": 1, \"47\": 1, \"114\": 1, \"41\": 1, \"108\": 1, \"94\": 1, \"49\": 1, \"40\": 1, \"21\": 1}, \"129\": {\"110\": 1, \"49\": 1, \"107\": 1, \"50\": 1, \"17\": 2, \"124\": 1, \"79\": 1, \"129\": 2, \"34\": 1, \"47\": 1}, \"89\": {\"89\": 7, \"72\": 1, \"13\": 1, \"61\": 1, \"69\": 1, \"50\": 1}, \"52\": {\"52\": 4, \"79\": 1, \"114\": 1, \"58\": 1, \"34\": 1, \"103\": 2, \"54\": 1, \"111\": 1}, \"35\": {\"53\": 1, \"98\": 1, \"15\": 1, \"46\": 1, \"27\": 1, \"73\": 1, \"64\": 2, \"58\": 1, \"35\": 3}, \"53\": {\"76\": 1, \"49\": 1, \"128\": 1, \"16\": 1, \"29\": 1, \"104\": 1, \"12\": 1, \"55\": 1, \"115\": 1, \"91\": 1, \"35\": 1, \"87\": 1}, \"112\": {\"97\": 2, \"19\": 1, \"112\": 3, \"3\": 1, \"34\": 1, \"44\": 2, \"84\": 1, \"66\": 1}, \"105\": {\"54\": 1, \"105\": 3, \"86\": 1, \"84\": 1, \"42\": 1, \"80\": 2, \"0\": 1, \"91\": 1, \"53\": 1}, \"100\": {\"112\": 2, \"50\": 2, \"100\": 2, \"84\": 1, \"109\": 1, \"35\": 2, \"56\": 1, \"122\": 1}, \"9\": {\"125\": 1, \"9\": 8, \"94\": 1, \"54\": 1, \"6\": 1}, \"82\": {\"97\": 1, \"82\": 1, \"123\": 1, \"46\": 1, \"100\": 1, \"62\": 1, \"108\": 1, \"43\": 1, \"112\": 1, \"38\": 1, \"64\": 1, \"95\": 1}, \"51\": {\"9\": 2, \"51\": 2, \"125\": 1, \"34\": 1, \"32\": 1, \"77\": 1, \"6\": 2, \"8\": 1, \"41\": 1}, \"21\": {\"64\": 2, \"21\": 8, \"118\": 2}, \"92\": {\"69\": 1, \"82\": 1, \"20\": 2, \"5\": 1, \"55\": 1, \"92\": 1, \"7\": 1, \"45\": 1, \"117\": 1, \"39\": 1, \"108\": 1}, \"69\": {\"10\": 2, \"64\": 1, \"90\": 1, \"99\": 1, \"63\": 2, \"69\": 1, \"89\": 2, \"39\": 1, \"13\": 1}, \"77\": {\"54\": 2, \"112\": 1, \"64\": 1, \"86\": 1, \"77\": 2, \"108\": 2, \"36\": 1, \"34\": 1, \"7\": 1}, \"50\": {\"123\": 1, \"13\": 1, \"27\": 1, \"62\": 2, \"59\": 1, \"7\": 2, \"116\": 1, \"50\": 1, \"129\": 1, \"34\": 1}, \"36\": {\"15\": 1, \"46\": 1, \"111\": 1, \"88\": 1, \"36\": 2, \"12\": 1, \"28\": 1, \"34\": 1, \"75\": 1, \"5\": 1, \"9\": 1}, \"16\": {\"82\": 1, \"88\": 1, \"11\": 1, \"44\": 1, \"60\": 1, \"16\": 2, \"10\": 1, \"115\": 1, \"78\": 2, \"67\": 1}, \"8\": {\"18\": 1, \"50\": 1, \"124\": 2, \"107\": 1, \"83\": 1, \"82\": 1, \"114\": 1, \"116\": 1, \"120\": 1, \"61\": 1, \"129\": 1}, \"127\": {\"103\": 1, \"15\": 1, \"86\": 2, \"19\": 1, \"127\": 1, \"77\": 1, \"51\": 1, \"97\": 1, \"24\": 1, \"36\": 1, \"91\": 1}, \"46\": {\"50\": 2, \"109\": 1, \"56\": 1, \"105\": 1, \"46\": 4, \"3\": 1}, \"84\": {\"46\": 1, \"123\": 1, \"44\": 2, \"100\": 1, \"55\": 1, \"84\": 3, \"85\": 1, \"10\": 1, \"64\": 1}, \"18\": {\"18\": 6, \"13\": 1, \"113\": 1, \"26\": 1, \"65\": 1, \"2\": 1, \"57\": 1}, \"123\": {\"46\": 3, \"128\": 1, \"22\": 1, \"108\": 1, \"43\": 1, \"3\": 1, \"60\": 1, \"32\": 1}, \"56\": {\"56\": 2, \"14\": 1, \"28\": 1, \"34\": 1, \"115\": 1, \"129\": 1, \"15\": 2, \"73\": 1, \"107\": 1, \"32\": 1}, \"26\": {\"26\": 5, \"18\": 1, \"99\": 1, \"93\": 2, \"66\": 1, \"13\": 1, \"48\": 1}, \"14\": {\"65\": 1, \"66\": 1, \"83\": 1, \"104\": 1, \"128\": 1, \"14\": 2, \"129\": 1, \"112\": 1, \"43\": 1, \"68\": 1, \"2\": 1}, \"109\": {\"33\": 1, \"109\": 3, \"119\": 1, \"69\": 1, \"46\": 2, \"116\": 2, \"78\": 2}, \"66\": {\"24\": 1, \"111\": 1, \"66\": 3, \"47\": 1, \"114\": 1, \"58\": 1, \"86\": 1, \"5\": 1, \"94\": 1, \"85\": 1}, \"24\": {\"88\": 3, \"109\": 1, \"75\": 1, \"118\": 1, \"44\": 1, \"20\": 1, \"94\": 1, \"78\": 1, \"1\": 2}, \"71\": {\"109\": 1, \"66\": 1, \"45\": 1, \"77\": 1, \"37\": 1, \"86\": 1, \"58\": 1, \"71\": 1, \"59\": 1, \"115\": 1, \"32\": 1, \"60\": 1}, \"65\": {\"65\": 6, \"113\": 1, \"12\": 1, \"18\": 1, \"23\": 1, \"81\": 1, \"129\": 1}, \"75\": {\"111\": 2, \"75\": 3, \"25\": 1, \"15\": 1, \"77\": 1, \"124\": 1, \"79\": 1, \"21\": 1, \"106\": 1}, \"111\": {\"75\": 1, \"111\": 6, \"91\": 1, \"101\": 1, \"114\": 1, \"127\": 1, \"30\": 1}, \"30\": {\"30\": 2, \"34\": 1, \"127\": 1, \"37\": 1, \"105\": 1, \"106\": 2, \"97\": 1, \"51\": 1, \"84\": 1, \"128\": 1}, \"85\": {\"12\": 1, \"85\": 5, \"4\": 1, \"115\": 2, \"19\": 1, \"66\": 1, \"112\": 1}, \"113\": {\"113\": 6, \"56\": 1, \"106\": 1, \"72\": 1, \"121\": 1}, \"45\": {\"10\": 1, \"24\": 1, \"116\": 1, \"45\": 4, \"129\": 1, \"0\": 1, \"76\": 1, \"115\": 1, \"84\": 1}, \"29\": {\"12\": 2, \"29\": 3, \"104\": 1, \"128\": 1, \"4\": 1, \"98\": 1, \"77\": 1, \"20\": 1, \"49\": 1}, \"20\": {\"20\": 8, \"102\": 3, \"67\": 1}, \"25\": {\"25\": 5, \"30\": 1, \"106\": 1, \"8\": 1, \"29\": 1, \"75\": 1, \"54\": 1, \"37\": 1}, \"0\": {\"36\": 1, \"4\": 1, \"101\": 2, \"0\": 5, \"54\": 1, \"9\": 1, \"11\": 1}, \"68\": {\"68\": 4, \"0\": 1, \"95\": 1, \"107\": 1, \"66\": 1, \"12\": 2, \"14\": 1, \"86\": 1}, \"119\": {\"38\": 1, \"126\": 1, \"84\": 2, \"78\": 1, \"49\": 1, \"119\": 4, \"88\": 1, \"93\": 1}, \"90\": {\"1\": 2, \"56\": 1, \"90\": 1, \"33\": 2, \"89\": 1, \"47\": 1, \"76\": 1, \"84\": 1, \"3\": 2}, \"38\": {\"4\": 1, \"85\": 1, \"78\": 1, \"3\": 1, \"46\": 2, \"129\": 1, \"112\": 1, \"10\": 1, \"60\": 2, \"33\": 1}, \"99\": {\"81\": 2, \"43\": 1, \"13\": 2, \"26\": 2, \"93\": 1, \"121\": 1, \"99\": 1, \"96\": 1, \"72\": 1}, \"1\": {\"1\": 2, \"70\": 2, \"83\": 1, \"61\": 3, \"64\": 2, \"80\": 2}, \"67\": {\"85\": 2, \"109\": 1, \"51\": 1, \"41\": 1, \"28\": 1, \"104\": 2, \"7\": 2, \"95\": 1, \"75\": 1}, \"63\": {\"63\": 6, \"69\": 1, \"32\": 1, \"23\": 1, \"96\": 1, \"116\": 1, \"97\": 1}, \"34\": {\"4\": 2, \"34\": 4, \"5\": 1, \"114\": 1, \"91\": 1, \"52\": 1, \"101\": 1, \"47\": 1}, \"108\": {\"109\": 2, \"4\": 1, \"105\": 1, \"44\": 1, \"129\": 1, \"70\": 3, \"126\": 2, \"77\": 1}, \"40\": {\"109\": 1, \"80\": 1, \"40\": 1, \"53\": 1, \"27\": 1, \"66\": 1, \"61\": 1, \"55\": 1, \"115\": 2, \"32\": 1, \"56\": 1}, \"47\": {\"0\": 1, \"37\": 1, \"66\": 2, \"27\": 1, \"107\": 1, \"47\": 1, \"59\": 1, \"34\": 1, \"19\": 1, \"12\": 1, \"110\": 1}, \"37\": {\"0\": 1, \"91\": 1, \"105\": 1, \"37\": 2, \"60\": 1, \"16\": 1, \"28\": 1, \"103\": 1, \"25\": 1, \"76\": 1, \"64\": 1}, \"78\": {\"98\": 1, \"21\": 2, \"78\": 4, \"119\": 2, \"62\": 1, \"120\": 1, \"16\": 1}, \"96\": {\"90\": 1, \"21\": 1, \"27\": 1, \"62\": 1, \"83\": 1, \"72\": 1, \"96\": 1, \"50\": 1, \"63\": 1, \"64\": 1, \"33\": 1, \"60\": 1}, \"43\": {\"33\": 1, \"98\": 1, \"44\": 4, \"126\": 2, \"109\": 2, \"93\": 1, \"97\": 1}, \"5\": {\"42\": 1, \"67\": 1, \"59\": 1, \"5\": 3, \"34\": 1, \"53\": 1, \"66\": 1, \"22\": 1}, \"124\": {\"106\": 1, \"124\": 1, \"0\": 2, \"119\": 1, \"68\": 1, \"43\": 1, \"75\": 2, \"79\": 1, \"24\": 1, \"19\": 1}, \"44\": {\"44\": 9, \"112\": 1, \"108\": 1, \"22\": 1}, \"41\": {\"106\": 2, \"95\": 1, \"0\": 1, \"41\": 2, \"25\": 1, \"49\": 1, \"86\": 1, \"54\": 1, \"102\": 1, \"8\": 1}, \"116\": {\"45\": 2, \"44\": 2, \"62\": 1, \"60\": 1, \"100\": 1, \"84\": 1, \"116\": 1, \"93\": 1, \"37\": 1, \"96\": 1}, \"19\": {\"44\": 1, \"19\": 3, \"32\": 1, \"34\": 1, \"127\": 1, \"77\": 2, \"1\": 1, \"10\": 1, \"95\": 1}, \"115\": {\"38\": 1, \"91\": 2, \"124\": 3, \"108\": 1, \"115\": 2, \"71\": 1, \"40\": 1, \"59\": 1}, \"95\": {\"32\": 1, \"38\": 1, \"71\": 1, \"70\": 1, \"95\": 1, \"84\": 1, \"64\": 1, \"47\": 1, \"61\": 1, \"55\": 1, \"85\": 1, \"68\": 1}, \"3\": {\"112\": 1, \"0\": 1, \"119\": 1, \"22\": 1, \"83\": 2, \"10\": 1, \"25\": 1, \"3\": 1, \"123\": 1}, \"59\": {\"86\": 1, \"34\": 1, \"59\": 4, \"3\": 1, \"123\": 1, \"7\": 1, \"85\": 1, \"91\": 2}, \"55\": {\"32\": 1, \"59\": 1, \"55\": 1, \"46\": 1, \"22\": 1, \"95\": 1, \"110\": 1, \"47\": 1, \"61\": 1, \"1\": 1, \"3\": 1, \"44\": 1}, \"70\": {\"70\": 4, \"60\": 1, \"61\": 1, \"109\": 2, \"44\": 1, \"38\": 1, \"87\": 1, \"108\": 1}, \"6\": {\"86\": 1, \"6\": 10, \"41\": 1}, \"2\": {\"48\": 1, \"2\": 9, \"34\": 1, \"18\": 1}, \"48\": {\"38\": 1, \"105\": 1, \"78\": 1, \"48\": 3, \"13\": 1, \"12\": 1, \"84\": 1, \"57\": 1, \"10\": 1, \"118\": 1}, \"23\": {\"57\": 1, \"122\": 1, \"50\": 1, \"23\": 2, \"121\": 1, \"68\": 1, \"112\": 2, \"13\": 2, \"37\": 1}, \"7\": {\"105\": 1, \"19\": 1, \"7\": 4, \"5\": 1, \"22\": 1, \"115\": 1, \"4\": 1, \"122\": 1, \"119\": 1}, \"122\": {\"19\": 2, \"16\": 2, \"68\": 1, \"22\": 1, \"78\": 1, \"24\": 1, \"88\": 2, \"100\": 1, \"60\": 1}, \"57\": {\"63\": 1, \"44\": 1, \"89\": 1, \"61\": 1, \"96\": 1, \"57\": 3, \"13\": 1, \"18\": 1, \"84\": 1, \"72\": 1}, \"39\": {\"62\": 1, \"39\": 2, \"22\": 2, \"48\": 1, \"10\": 1, \"70\": 2, \"88\": 1}, \"79\": {\"79\": 4, \"52\": 1, \"114\": 3, \"129\": 1, \"56\": 1, \"75\": 1, \"124\": 1}, \"27\": {\"27\": 1, \"61\": 2, \"114\": 1, \"73\": 1, \"52\": 1, \"80\": 1, \"14\": 1, \"15\": 1, \"60\": 1}, \"74\": {\"73\": 1, \"107\": 1, \"74\": 2, \"115\": 1, \"123\": 1, \"14\": 1, \"7\": 2, \"78\": 1, \"64\": 1, \"129\": 1}, \"73\": {\"107\": 3, \"34\": 1, \"53\": 1, \"27\": 2, \"22\": 2, \"73\": 1, \"32\": 1, \"15\": 1}, \"62\": {\"62\": 5, \"16\": 1, \"60\": 1, \"123\": 1, \"126\": 1, \"49\": 1, \"84\": 1, \"83\": 1}, \"107\": {\"79\": 1, \"62\": 1, \"47\": 1, \"66\": 2, \"83\": 1, \"107\": 2, \"52\": 1, \"73\": 1, \"122\": 1, \"15\": 1}, \"128\": {\"128\": 1, \"60\": 1, \"107\": 1, \"58\": 1, \"104\": 1, \"22\": 1, \"68\": 1, \"1\": 1, \"115\": 1, \"30\": 1, \"33\": 1, \"108\": 1}, \"60\": {\"60\": 2, \"62\": 1, \"70\": 1, \"93\": 1, \"61\": 2, \"10\": 2, \"3\": 1, \"123\": 2}, \"114\": {\"114\": 3, \"79\": 1, \"61\": 1, \"104\": 1, \"52\": 1, \"40\": 1, \"75\": 1, \"124\": 1, \"4\": 1, \"106\": 1}, \"22\": {\"122\": 1, \"22\": 5, \"119\": 1, \"123\": 2, \"37\": 2, \"44\": 1}, \"93\": {\"70\": 2, \"76\": 1, \"93\": 3, \"119\": 1, \"108\": 1, \"109\": 1, \"102\": 2, \"63\": 1}, \"94\": {\"61\": 1, \"27\": 1, \"107\": 1, \"58\": 1, \"14\": 1, \"94\": 1, \"6\": 1, \"51\": 1, \"77\": 1, \"59\": 1, \"88\": 1, \"53\": 1}, \"31\": {\"114\": 2, \"39\": 2, \"31\": 3, \"102\": 1, \"7\": 1, \"92\": 1}, \"104\": {\"114\": 1, \"61\": 1, \"3\": 1, \"58\": 1, \"94\": 2, \"49\": 1, \"108\": 1, \"127\": 1, \"19\": 1, \"110\": 1, \"68\": 1}, \"58\": {\"40\": 1, \"52\": 1, \"9\": 2, \"3\": 2, \"104\": 1, \"86\": 1, \"58\": 1, \"111\": 2, \"106\": 1}}}, \"per_domain_accuracy\": {\"ORACLE.run114\": {\"accuracy\": 0.7884375, \"source?\": true}, \"ORACLE.run120\": {\"accuracy\": 0.605625, \"source?\": true}, \"ORACLE.run138\": {\"accuracy\": 0.75015625, \"source?\": true}, \"ORACLE.run18\": {\"accuracy\": 0.6604166666666667, \"source?\": true}, \"ORACLE.run150\": {\"accuracy\": 0.7652083333333334, \"source?\": true}, \"ORACLE.run132\": {\"accuracy\": 0.7455208333333333, \"source?\": true}, \"ORACLE.run126\": {\"accuracy\": 0.5278645833333333, \"source?\": true}, \"ORACLE.run144\": {\"accuracy\": 0.7293229166666667, \"source?\": true}, \"Wisig_3\": {\"accuracy\": 0.24088541666666666, \"source?\": false}, \"Wisig_4\": {\"accuracy\": 0.22916666666666666, \"source?\": false}, \"Wisig_1\": {\"accuracy\": 0.236328125, \"source?\": false}, \"Wisig_2\": {\"accuracy\": 0.24544270833333334, \"source?\": false}}}, \"history\": {\"epoch_indices\": [1, 2, 3, 4, 5, 6], \"train_label_loss\": [1.035368621344013, 0.8978212289383546, 0.7201880371787895, 0.6274853551425483, 0.5772836564726285, 0.534029511070389], \"source_val_label_loss\": [38.27094650268555, 0.8192992806434631, 0.7305553555488586, 0.7140739560127258, 0.7206615805625916, 0.7213422060012817], \"target_val_label_loss\": [2813.90087890625, 1790.9383544921875, 1940.19873046875, 2269.425537109375, 2266.654052734375, 2135.26123046875], \"source_val_acc_label\": [0.6216341145833333, 0.6965690104166666, 0.7301041666666667, 0.7428971354166667, 0.7401953125, 0.7412890625], \"target_val_acc_label\": [0.35986328125, 0.23795572916666666, 0.248046875, 0.2594401041666667, 0.2711588541666667, 0.2867838541666667]}, \"dataset_metrics\": {\"source\": {\"train\": {\"n_unique_x\": 896000, \"n_unique_y\": 16, \"n_batch/episode\": 33600}, \"val\": {\"n_unique_x\": 192000, \"n_unique_y\": 16, \"n_batch/episode\": 4800}, \"test\": {\"n_unique_x\": 192000, \"n_unique_y\": 16, \"n_batch/episode\": 4800}}, \"target\": {\"train\": {\"n_unique_x\": 36400, \"n_unique_y\": 130, \"n_batch/episode\": 1347}, \"val\": {\"n_unique_x\": 7800, \"n_unique_y\": 130, \"n_batch/episode\": 192}, \"test\": {\"n_unique_x\": 7800, \"n_unique_y\": 130, \"n_batch/episode\": 192}}}}'"
      ]
     },
     "execution_count": 29,
     "metadata": {},
     "output_type": "execute_result"
    }
   ],
   "source": [
    "json.dumps(experiment)"
   ]
  }
 ],
 "metadata": {
  "celltoolbar": "Tags",
  "kernelspec": {
   "display_name": "Python 3 (ipykernel)",
   "language": "python",
   "name": "python3"
  },
  "language_info": {
   "codemirror_mode": {
    "name": "ipython",
    "version": 3
   },
   "file_extension": ".py",
   "mimetype": "text/x-python",
   "name": "python",
   "nbconvert_exporter": "python",
   "pygments_lexer": "ipython3",
   "version": "3.8.10"
  },
  "papermill": {
   "default_parameters": {},
   "duration": 5753.664216,
   "end_time": "2022-03-10T22:59:05.425351",
   "environment_variables": {},
   "exception": null,
   "input_path": "/mnt/wd500GB/CSC500/csc500-main/csc500-notebooks/templates/tl_ptn_template.ipynb",
   "output_path": "trial.ipynb",
   "parameters": {
    "parameters": {
     "BEST_MODEL_PATH": "./best_model.pth",
     "NUM_LOGS_PER_EPOCH": 10,
     "criteria_for_best": "target_loss",
     "dataset_seed": 1337,
     "datasets": [
      {
       "domain_prefix": "Wisig_",
       "domains": [
        1,
        2,
        3,
        4
       ],
       "episode_transforms": [],
       "labels": [
        "1-10",
        "1-12",
        "1-14",
        "1-16",
        "1-18",
        "1-19",
        "1-8",
        "10-11",
        "10-17",
        "10-4",
        "10-7",
        "11-1",
        "11-10",
        "11-19",
        "11-20",
        "11-4",
        "11-7",
        "12-19",
        "12-20",
        "12-7",
        "13-14",
        "13-18",
        "13-19",
        "13-20",
        "13-3",
        "13-7",
        "14-10",
        "14-11",
        "14-12",
        "14-13",
        "14-14",
        "14-19",
        "14-20",
        "14-7",
        "14-8",
        "14-9",
        "15-1",
        "15-19",
        "15-6",
        "16-1",
        "16-16",
        "16-19",
        "16-20",
        "17-10",
        "17-11",
        "18-1",
        "18-10",
        "18-11",
        "18-12",
        "18-13",
        "18-14",
        "18-15",
        "18-16",
        "18-17",
        "18-19",
        "18-2",
        "18-20",
        "18-4",
        "18-5",
        "18-7",
        "18-8",
        "18-9",
        "19-1",
        "19-10",
        "19-11",
        "19-12",
        "19-13",
        "19-14",
        "19-15",
        "19-19",
        "19-2",
        "19-20",
        "19-3",
        "19-4",
        "19-6",
        "19-7",
        "19-8",
        "19-9",
        "2-1",
        "2-13",
        "2-15",
        "2-3",
        "2-4",
        "2-5",
        "2-6",
        "2-7",
        "2-8",
        "20-1",
        "20-12",
        "20-14",
        "20-15",
        "20-16",
        "20-18",
        "20-19",
        "20-20",
        "20-3",
        "20-4",
        "20-5",
        "20-7",
        "20-8",
        "3-1",
        "3-13",
        "3-18",
        "3-2",
        "3-8",
        "4-1",
        "4-10",
        "4-11",
        "5-1",
        "5-5",
        "6-1",
        "6-15",
        "6-6",
        "7-10",
        "7-11",
        "7-12",
        "7-13",
        "7-14",
        "7-7",
        "7-8",
        "7-9",
        "8-1",
        "8-13",
        "8-14",
        "8-18",
        "8-20",
        "8-3",
        "8-8",
        "9-1",
        "9-7"
       ],
       "num_examples_per_domain_per_label": 100,
       "pickle_path": "/mnt/wd500GB/CSC500/csc500-main/datasets/wisig.node3-19.stratified_ds.2022A.pkl",
       "source_or_target_dataset": "target",
       "x_transforms": [
        "unit_power"
       ]
      },
      {
       "domain_prefix": "ORACLE.run1",
       "domains": [
        32,
        38,
        8,
        44,
        14,
        50,
        20,
        26
       ],
       "episode_transforms": [],
       "labels": [
        "3123D52",
        "3123D65",
        "3123D79",
        "3123D80",
        "3123D54",
        "3123D70",
        "3123D7B",
        "3123D89",
        "3123D58",
        "3123D76",
        "3123D7D",
        "3123EFE",
        "3123D64",
        "3123D78",
        "3123D7E",
        "3124E4A"
       ],
       "num_examples_per_domain_per_label": 10000,
       "pickle_path": "/mnt/wd500GB/CSC500/csc500-main/datasets/oracle.Run1_10kExamples_stratified_ds.2022A.pkl",
       "source_or_target_dataset": "source",
       "x_transforms": [
        "unit_power"
       ]
      }
     ],
     "device": "cuda",
     "experiment_name": "tl_1_wisig-oracle.run1",
     "lr": 0.001,
     "n_epoch": 50,
     "n_query": 2,
     "n_shot": 3,
     "n_way": 16,
     "patience": 3,
     "seed": 1337,
     "test_k_factor": 2,
     "torch_default_dtype": "torch.float32",
     "train_k_factor": 3,
     "val_k_factor": 2,
     "x_net": [
      {
       "class": "nnReshape",
       "kargs": {
        "shape": [
         -1,
         1,
         2,
         256
        ]
       }
      },
      {
       "class": "Conv2d",
       "kargs": {
        "bias": false,
        "in_channels": 1,
        "kernel_size": [
         1,
         7
        ],
        "out_channels": 256,
        "padding": [
         0,
         3
        ]
       }
      },
      {
       "class": "ReLU",
       "kargs": {
        "inplace": true
       }
      },
      {
       "class": "BatchNorm2d",
       "kargs": {
        "num_features": 256
       }
      },
      {
       "class": "Conv2d",
       "kargs": {
        "bias": true,
        "in_channels": 256,
        "kernel_size": [
         2,
         7
        ],
        "out_channels": 80,
        "padding": [
         0,
         3
        ]
       }
      },
      {
       "class": "ReLU",
       "kargs": {
        "inplace": true
       }
      },
      {
       "class": "BatchNorm2d",
       "kargs": {
        "num_features": 80
       }
      },
      {
       "class": "Flatten",
       "kargs": {}
      },
      {
       "class": "Linear",
       "kargs": {
        "in_features": 20480,
        "out_features": 256
       }
      },
      {
       "class": "ReLU",
       "kargs": {
        "inplace": true
       }
      },
      {
       "class": "BatchNorm1d",
       "kargs": {
        "num_features": 256
       }
      },
      {
       "class": "Linear",
       "kargs": {
        "in_features": 256,
        "out_features": 256
       }
      }
     ]
    }
   },
   "start_time": "2022-03-10T21:23:11.761135",
   "version": "2.3.4"
  }
 },
 "nbformat": 4,
 "nbformat_minor": 5
}