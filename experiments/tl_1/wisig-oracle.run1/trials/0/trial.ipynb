{
 "cells": [
  {
   "cell_type": "markdown",
   "id": "9fea5f46",
   "metadata": {
    "papermill": {
     "duration": 0.018987,
     "end_time": "2022-03-10T20:41:21.118574",
     "exception": false,
     "start_time": "2022-03-10T20:41:21.099587",
     "status": "completed"
    },
    "tags": []
   },
   "source": [
    "# Transfer Learning Template"
   ]
  },
  {
   "cell_type": "code",
   "execution_count": 1,
   "id": "0902182a",
   "metadata": {
    "execution": {
     "iopub.execute_input": "2022-03-10T20:41:21.158584Z",
     "iopub.status.busy": "2022-03-10T20:41:21.145685Z",
     "iopub.status.idle": "2022-03-10T20:41:22.043962Z",
     "shell.execute_reply": "2022-03-10T20:41:22.044192Z"
    },
    "papermill": {
     "duration": 0.913113,
     "end_time": "2022-03-10T20:41:22.044325",
     "exception": false,
     "start_time": "2022-03-10T20:41:21.131212",
     "status": "completed"
    },
    "tags": []
   },
   "outputs": [],
   "source": [
    "%load_ext autoreload\n",
    "%autoreload 2\n",
    "%matplotlib inline\n",
    "\n",
    "    \n",
    "import os, json, sys, time, random\n",
    "import numpy as np\n",
    "import torch\n",
    "from torch.optim import Adam\n",
    "from  easydict import EasyDict\n",
    "import matplotlib.pyplot as plt\n",
    "\n",
    "from steves_models.steves_ptn import Steves_Prototypical_Network\n",
    "\n",
    "from steves_utils.lazy_iterable_wrapper import Lazy_Iterable_Wrapper\n",
    "from steves_utils.iterable_aggregator import Iterable_Aggregator\n",
    "from steves_utils.ptn_train_eval_test_jig import  PTN_Train_Eval_Test_Jig\n",
    "from steves_utils.torch_sequential_builder import build_sequential\n",
    "from steves_utils.torch_utils import get_dataset_metrics, ptn_confusion_by_domain_over_dataloader\n",
    "from steves_utils.utils_v2 import (per_domain_accuracy_from_confusion, get_datasets_base_path)\n",
    "from steves_utils.PTN.utils import independent_accuracy_assesment\n",
    "\n",
    "from torch.utils.data import DataLoader\n",
    "\n",
    "from steves_utils.stratified_dataset.episodic_accessor import Episodic_Accessor_Factory\n",
    "\n",
    "from steves_utils.ptn_do_report import (\n",
    "    get_loss_curve,\n",
    "    get_results_table,\n",
    "    get_parameters_table,\n",
    "    get_domain_accuracies,\n",
    ")\n",
    "\n",
    "from steves_utils.transforms import get_chained_transform"
   ]
  },
  {
   "cell_type": "markdown",
   "id": "41c840b4",
   "metadata": {
    "papermill": {
     "duration": 0.012452,
     "end_time": "2022-03-10T20:41:22.074628",
     "exception": false,
     "start_time": "2022-03-10T20:41:22.062176",
     "status": "completed"
    },
    "tags": []
   },
   "source": [
    "# Allowed Parameters\n",
    "These are allowed parameters, not defaults\n",
    "Each of these values need to be present in the injected parameters (the notebook will raise an exception if they are not present)\n",
    "\n",
    "Papermill uses the cell tag \"parameters\" to inject the real parameters below this cell.\n",
    "Enable tags to see what I mean"
   ]
  },
  {
   "cell_type": "code",
   "execution_count": 2,
   "id": "fd44eb83",
   "metadata": {
    "execution": {
     "iopub.execute_input": "2022-03-10T20:41:22.101379Z",
     "iopub.status.busy": "2022-03-10T20:41:22.101119Z",
     "iopub.status.idle": "2022-03-10T20:41:22.112655Z",
     "shell.execute_reply": "2022-03-10T20:41:22.112866Z"
    },
    "papermill": {
     "duration": 0.025887,
     "end_time": "2022-03-10T20:41:22.112937",
     "exception": false,
     "start_time": "2022-03-10T20:41:22.087050",
     "status": "completed"
    },
    "tags": []
   },
   "outputs": [],
   "source": [
    "required_parameters = {\n",
    "    \"experiment_name\",\n",
    "    \"lr\",\n",
    "    \"device\",\n",
    "    \"seed\",\n",
    "    \"dataset_seed\",\n",
    "    \"n_shot\",\n",
    "    \"n_query\",\n",
    "    \"n_way\",\n",
    "    \"train_k_factor\",\n",
    "    \"val_k_factor\",\n",
    "    \"test_k_factor\",\n",
    "    \"n_epoch\",\n",
    "    \"patience\",\n",
    "    \"criteria_for_best\",\n",
    "    \"x_net\",\n",
    "    \"datasets\",\n",
    "    \"torch_default_dtype\",\n",
    "    \"NUM_LOGS_PER_EPOCH\",\n",
    "    \"BEST_MODEL_PATH\",\n",
    "}"
   ]
  },
  {
   "cell_type": "code",
   "execution_count": 3,
   "id": "fa3f0049",
   "metadata": {
    "execution": {
     "iopub.execute_input": "2022-03-10T20:41:22.147937Z",
     "iopub.status.busy": "2022-03-10T20:41:22.147659Z",
     "iopub.status.idle": "2022-03-10T20:41:22.161810Z",
     "shell.execute_reply": "2022-03-10T20:41:22.162212Z"
    },
    "papermill": {
     "duration": 0.03662,
     "end_time": "2022-03-10T20:41:22.162338",
     "exception": false,
     "start_time": "2022-03-10T20:41:22.125718",
     "status": "completed"
    },
    "tags": [
     "parameters"
    ]
   },
   "outputs": [],
   "source": [
    "from steves_utils.CORES.utils import (\n",
    "    ALL_NODES,\n",
    "    ALL_NODES_MINIMUM_1000_EXAMPLES,\n",
    "    ALL_DAYS\n",
    ")\n",
    "\n",
    "from steves_utils.ORACLE.utils_v2 import (\n",
    "    ALL_DISTANCES_FEET_NARROWED,\n",
    "    ALL_RUNS,\n",
    "    ALL_SERIAL_NUMBERS,\n",
    ")\n",
    "\n",
    "standalone_parameters = {}\n",
    "standalone_parameters[\"experiment_name\"] = \"STANDALONE PTN\"\n",
    "standalone_parameters[\"lr\"] = 0.001\n",
    "standalone_parameters[\"device\"] = \"cuda\"\n",
    "\n",
    "standalone_parameters[\"seed\"] = 1337\n",
    "standalone_parameters[\"dataset_seed\"] = 1337\n",
    "\n",
    "standalone_parameters[\"n_way\"] = 8\n",
    "standalone_parameters[\"n_shot\"] = 3\n",
    "standalone_parameters[\"n_query\"]  = 2\n",
    "standalone_parameters[\"train_k_factor\"] = 1\n",
    "standalone_parameters[\"val_k_factor\"] = 2\n",
    "standalone_parameters[\"test_k_factor\"] = 2\n",
    "\n",
    "\n",
    "standalone_parameters[\"n_epoch\"] = 50\n",
    "\n",
    "standalone_parameters[\"patience\"] = 10\n",
    "standalone_parameters[\"criteria_for_best\"] = \"source_loss\"\n",
    "\n",
    "standalone_parameters[\"datasets\"] = [\n",
    "    {\n",
    "        \"labels\": ALL_SERIAL_NUMBERS,\n",
    "        \"domains\": ALL_DISTANCES_FEET_NARROWED,\n",
    "        \"num_examples_per_domain_per_label\": 100,\n",
    "        \"pickle_path\": os.path.join(get_datasets_base_path(), \"oracle.Run1_framed_2000Examples_stratified_ds.2022A.pkl\"),\n",
    "        \"source_or_target_dataset\": \"source\",\n",
    "        \"x_transforms\": [\"unit_mag\", \"minus_two\"],\n",
    "        \"episode_transforms\": [],\n",
    "        \"domain_prefix\": \"ORACLE_\"\n",
    "    },\n",
    "    {\n",
    "        \"labels\": ALL_NODES,\n",
    "        \"domains\": ALL_DAYS,\n",
    "        \"num_examples_per_domain_per_label\": 100,\n",
    "        \"pickle_path\": os.path.join(get_datasets_base_path(), \"cores.stratified_ds.2022A.pkl\"),\n",
    "        \"source_or_target_dataset\": \"target\",\n",
    "        \"x_transforms\": [\"unit_power\", \"times_zero\"],\n",
    "        \"episode_transforms\": [],\n",
    "        \"domain_prefix\": \"CORES_\"\n",
    "    }   \n",
    "]\n",
    "\n",
    "standalone_parameters[\"torch_default_dtype\"] = \"torch.float32\" \n",
    "\n",
    "\n",
    "\n",
    "standalone_parameters[\"x_net\"] =     [\n",
    "    {\"class\": \"nnReshape\", \"kargs\": {\"shape\":[-1, 1, 2, 256]}},\n",
    "    {\"class\": \"Conv2d\", \"kargs\": { \"in_channels\":1, \"out_channels\":256, \"kernel_size\":(1,7), \"bias\":False, \"padding\":(0,3), },},\n",
    "    {\"class\": \"ReLU\", \"kargs\": {\"inplace\": True}},\n",
    "    {\"class\": \"BatchNorm2d\", \"kargs\": {\"num_features\":256}},\n",
    "\n",
    "    {\"class\": \"Conv2d\", \"kargs\": { \"in_channels\":256, \"out_channels\":80, \"kernel_size\":(2,7), \"bias\":True, \"padding\":(0,3), },},\n",
    "    {\"class\": \"ReLU\", \"kargs\": {\"inplace\": True}},\n",
    "    {\"class\": \"BatchNorm2d\", \"kargs\": {\"num_features\":80}},\n",
    "    {\"class\": \"Flatten\", \"kargs\": {}},\n",
    "\n",
    "    {\"class\": \"Linear\", \"kargs\": {\"in_features\": 80*256, \"out_features\": 256}}, # 80 units per IQ pair\n",
    "    {\"class\": \"ReLU\", \"kargs\": {\"inplace\": True}},\n",
    "    {\"class\": \"BatchNorm1d\", \"kargs\": {\"num_features\":256}},\n",
    "\n",
    "    {\"class\": \"Linear\", \"kargs\": {\"in_features\": 256, \"out_features\": 256}},\n",
    "]\n",
    "\n",
    "# Parameters relevant to results\n",
    "# These parameters will basically never need to change\n",
    "standalone_parameters[\"NUM_LOGS_PER_EPOCH\"] = 10\n",
    "standalone_parameters[\"BEST_MODEL_PATH\"] = \"./best_model.pth\"\n",
    "\n",
    "\n",
    "\n",
    "\n"
   ]
  },
  {
   "cell_type": "code",
   "execution_count": 4,
   "id": "f8449de4",
   "metadata": {
    "execution": {
     "iopub.execute_input": "2022-03-10T20:41:22.205224Z",
     "iopub.status.busy": "2022-03-10T20:41:22.204781Z",
     "iopub.status.idle": "2022-03-10T20:41:22.217902Z",
     "shell.execute_reply": "2022-03-10T20:41:22.217467Z"
    },
    "papermill": {
     "duration": 0.038427,
     "end_time": "2022-03-10T20:41:22.218004",
     "exception": false,
     "start_time": "2022-03-10T20:41:22.179577",
     "status": "completed"
    },
    "tags": [
     "injected-parameters"
    ]
   },
   "outputs": [],
   "source": [
    "# Parameters\n",
    "parameters = {\n",
    "    \"experiment_name\": \"tl_1_wisig-oracle.run1\",\n",
    "    \"device\": \"cuda\",\n",
    "    \"lr\": 0.001,\n",
    "    \"seed\": 1337,\n",
    "    \"dataset_seed\": 1337,\n",
    "    \"n_shot\": 3,\n",
    "    \"n_query\": 2,\n",
    "    \"train_k_factor\": 3,\n",
    "    \"val_k_factor\": 2,\n",
    "    \"test_k_factor\": 2,\n",
    "    \"torch_default_dtype\": \"torch.float32\",\n",
    "    \"n_epoch\": 50,\n",
    "    \"patience\": 3,\n",
    "    \"criteria_for_best\": \"target_loss\",\n",
    "    \"x_net\": [\n",
    "        {\"class\": \"nnReshape\", \"kargs\": {\"shape\": [-1, 1, 2, 256]}},\n",
    "        {\n",
    "            \"class\": \"Conv2d\",\n",
    "            \"kargs\": {\n",
    "                \"in_channels\": 1,\n",
    "                \"out_channels\": 256,\n",
    "                \"kernel_size\": [1, 7],\n",
    "                \"bias\": False,\n",
    "                \"padding\": [0, 3],\n",
    "            },\n",
    "        },\n",
    "        {\"class\": \"ReLU\", \"kargs\": {\"inplace\": True}},\n",
    "        {\"class\": \"BatchNorm2d\", \"kargs\": {\"num_features\": 256}},\n",
    "        {\n",
    "            \"class\": \"Conv2d\",\n",
    "            \"kargs\": {\n",
    "                \"in_channels\": 256,\n",
    "                \"out_channels\": 80,\n",
    "                \"kernel_size\": [2, 7],\n",
    "                \"bias\": True,\n",
    "                \"padding\": [0, 3],\n",
    "            },\n",
    "        },\n",
    "        {\"class\": \"ReLU\", \"kargs\": {\"inplace\": True}},\n",
    "        {\"class\": \"BatchNorm2d\", \"kargs\": {\"num_features\": 80}},\n",
    "        {\"class\": \"Flatten\", \"kargs\": {}},\n",
    "        {\"class\": \"Linear\", \"kargs\": {\"in_features\": 20480, \"out_features\": 256}},\n",
    "        {\"class\": \"ReLU\", \"kargs\": {\"inplace\": True}},\n",
    "        {\"class\": \"BatchNorm1d\", \"kargs\": {\"num_features\": 256}},\n",
    "        {\"class\": \"Linear\", \"kargs\": {\"in_features\": 256, \"out_features\": 256}},\n",
    "    ],\n",
    "    \"NUM_LOGS_PER_EPOCH\": 10,\n",
    "    \"BEST_MODEL_PATH\": \"./best_model.pth\",\n",
    "    \"n_way\": 16,\n",
    "    \"datasets\": [\n",
    "        {\n",
    "            \"labels\": [\n",
    "                \"1-10\",\n",
    "                \"1-12\",\n",
    "                \"1-14\",\n",
    "                \"1-16\",\n",
    "                \"1-18\",\n",
    "                \"1-19\",\n",
    "                \"1-8\",\n",
    "                \"10-11\",\n",
    "                \"10-17\",\n",
    "                \"10-4\",\n",
    "                \"10-7\",\n",
    "                \"11-1\",\n",
    "                \"11-10\",\n",
    "                \"11-19\",\n",
    "                \"11-20\",\n",
    "                \"11-4\",\n",
    "                \"11-7\",\n",
    "                \"12-19\",\n",
    "                \"12-20\",\n",
    "                \"12-7\",\n",
    "                \"13-14\",\n",
    "                \"13-18\",\n",
    "                \"13-19\",\n",
    "                \"13-20\",\n",
    "                \"13-3\",\n",
    "                \"13-7\",\n",
    "                \"14-10\",\n",
    "                \"14-11\",\n",
    "                \"14-12\",\n",
    "                \"14-13\",\n",
    "                \"14-14\",\n",
    "                \"14-19\",\n",
    "                \"14-20\",\n",
    "                \"14-7\",\n",
    "                \"14-8\",\n",
    "                \"14-9\",\n",
    "                \"15-1\",\n",
    "                \"15-19\",\n",
    "                \"15-6\",\n",
    "                \"16-1\",\n",
    "                \"16-16\",\n",
    "                \"16-19\",\n",
    "                \"16-20\",\n",
    "                \"17-10\",\n",
    "                \"17-11\",\n",
    "                \"18-1\",\n",
    "                \"18-10\",\n",
    "                \"18-11\",\n",
    "                \"18-12\",\n",
    "                \"18-13\",\n",
    "                \"18-14\",\n",
    "                \"18-15\",\n",
    "                \"18-16\",\n",
    "                \"18-17\",\n",
    "                \"18-19\",\n",
    "                \"18-2\",\n",
    "                \"18-20\",\n",
    "                \"18-4\",\n",
    "                \"18-5\",\n",
    "                \"18-7\",\n",
    "                \"18-8\",\n",
    "                \"18-9\",\n",
    "                \"19-1\",\n",
    "                \"19-10\",\n",
    "                \"19-11\",\n",
    "                \"19-12\",\n",
    "                \"19-13\",\n",
    "                \"19-14\",\n",
    "                \"19-15\",\n",
    "                \"19-19\",\n",
    "                \"19-2\",\n",
    "                \"19-20\",\n",
    "                \"19-3\",\n",
    "                \"19-4\",\n",
    "                \"19-6\",\n",
    "                \"19-7\",\n",
    "                \"19-8\",\n",
    "                \"19-9\",\n",
    "                \"2-1\",\n",
    "                \"2-13\",\n",
    "                \"2-15\",\n",
    "                \"2-3\",\n",
    "                \"2-4\",\n",
    "                \"2-5\",\n",
    "                \"2-6\",\n",
    "                \"2-7\",\n",
    "                \"2-8\",\n",
    "                \"20-1\",\n",
    "                \"20-12\",\n",
    "                \"20-14\",\n",
    "                \"20-15\",\n",
    "                \"20-16\",\n",
    "                \"20-18\",\n",
    "                \"20-19\",\n",
    "                \"20-20\",\n",
    "                \"20-3\",\n",
    "                \"20-4\",\n",
    "                \"20-5\",\n",
    "                \"20-7\",\n",
    "                \"20-8\",\n",
    "                \"3-1\",\n",
    "                \"3-13\",\n",
    "                \"3-18\",\n",
    "                \"3-2\",\n",
    "                \"3-8\",\n",
    "                \"4-1\",\n",
    "                \"4-10\",\n",
    "                \"4-11\",\n",
    "                \"5-1\",\n",
    "                \"5-5\",\n",
    "                \"6-1\",\n",
    "                \"6-15\",\n",
    "                \"6-6\",\n",
    "                \"7-10\",\n",
    "                \"7-11\",\n",
    "                \"7-12\",\n",
    "                \"7-13\",\n",
    "                \"7-14\",\n",
    "                \"7-7\",\n",
    "                \"7-8\",\n",
    "                \"7-9\",\n",
    "                \"8-1\",\n",
    "                \"8-13\",\n",
    "                \"8-14\",\n",
    "                \"8-18\",\n",
    "                \"8-20\",\n",
    "                \"8-3\",\n",
    "                \"8-8\",\n",
    "                \"9-1\",\n",
    "                \"9-7\",\n",
    "            ],\n",
    "            \"domains\": [1, 2, 3, 4],\n",
    "            \"num_examples_per_domain_per_label\": 100,\n",
    "            \"pickle_path\": \"/mnt/wd500GB/CSC500/csc500-main/datasets/wisig.node3-19.stratified_ds.2022A.pkl\",\n",
    "            \"source_or_target_dataset\": \"source\",\n",
    "            \"x_transforms\": [\"unit_power\"],\n",
    "            \"episode_transforms\": [],\n",
    "            \"domain_prefix\": \"Wisig_\",\n",
    "        },\n",
    "        {\n",
    "            \"labels\": [\n",
    "                \"3123D52\",\n",
    "                \"3123D65\",\n",
    "                \"3123D79\",\n",
    "                \"3123D80\",\n",
    "                \"3123D54\",\n",
    "                \"3123D70\",\n",
    "                \"3123D7B\",\n",
    "                \"3123D89\",\n",
    "                \"3123D58\",\n",
    "                \"3123D76\",\n",
    "                \"3123D7D\",\n",
    "                \"3123EFE\",\n",
    "                \"3123D64\",\n",
    "                \"3123D78\",\n",
    "                \"3123D7E\",\n",
    "                \"3124E4A\",\n",
    "            ],\n",
    "            \"domains\": [32, 38, 8, 44, 14, 50, 20, 26],\n",
    "            \"num_examples_per_domain_per_label\": 10000,\n",
    "            \"pickle_path\": \"/mnt/wd500GB/CSC500/csc500-main/datasets/oracle.Run1_10kExamples_stratified_ds.2022A.pkl\",\n",
    "            \"source_or_target_dataset\": \"target\",\n",
    "            \"x_transforms\": [\"unit_power\"],\n",
    "            \"episode_transforms\": [],\n",
    "            \"domain_prefix\": \"ORACLE.run1\",\n",
    "        },\n",
    "    ],\n",
    "}\n"
   ]
  },
  {
   "cell_type": "code",
   "execution_count": 5,
   "id": "8fa1cc33",
   "metadata": {
    "execution": {
     "iopub.execute_input": "2022-03-10T20:41:22.251700Z",
     "iopub.status.busy": "2022-03-10T20:41:22.251441Z",
     "iopub.status.idle": "2022-03-10T20:41:22.266784Z",
     "shell.execute_reply": "2022-03-10T20:41:22.266331Z"
    },
    "papermill": {
     "duration": 0.031406,
     "end_time": "2022-03-10T20:41:22.266895",
     "exception": false,
     "start_time": "2022-03-10T20:41:22.235489",
     "status": "completed"
    },
    "tags": []
   },
   "outputs": [],
   "source": [
    "# Set this to True if you want to run this template directly\n",
    "STANDALONE = False\n",
    "if STANDALONE:\n",
    "    print(\"parameters not injected, running with standalone_parameters\")\n",
    "    parameters = standalone_parameters\n",
    "\n",
    "if not 'parameters' in locals() and not 'parameters' in globals():\n",
    "    raise Exception(\"Parameter injection failed\")\n",
    "\n",
    "#Use an easy dict for all the parameters\n",
    "p = EasyDict(parameters)\n",
    "\n",
    "supplied_keys = set(p.keys())\n",
    "\n",
    "if  supplied_keys != required_parameters:\n",
    "    print(\"Parameters are incorrect\")\n",
    "    if len(supplied_keys - required_parameters)>0: print(\"Shouldn't have:\", str(supplied_keys - required_parameters))\n",
    "    if len(required_parameters - supplied_keys)>0: print(\"Need to have:\", str(required_parameters - supplied_keys))\n",
    "    raise RuntimeError(\"Parameters are incorrect\")\n",
    "\n"
   ]
  },
  {
   "cell_type": "code",
   "execution_count": 6,
   "id": "3a028d58",
   "metadata": {
    "execution": {
     "iopub.execute_input": "2022-03-10T20:41:22.297262Z",
     "iopub.status.busy": "2022-03-10T20:41:22.297013Z",
     "iopub.status.idle": "2022-03-10T20:41:22.313387Z",
     "shell.execute_reply": "2022-03-10T20:41:22.312965Z"
    },
    "papermill": {
     "duration": 0.031415,
     "end_time": "2022-03-10T20:41:22.313487",
     "exception": false,
     "start_time": "2022-03-10T20:41:22.282072",
     "status": "completed"
    },
    "tags": []
   },
   "outputs": [],
   "source": [
    "###################################\n",
    "# Set the RNGs and make it all deterministic\n",
    "###################################\n",
    "np.random.seed(p.seed)\n",
    "random.seed(p.seed)\n",
    "torch.manual_seed(p.seed)\n",
    "\n",
    "torch.use_deterministic_algorithms(True) "
   ]
  },
  {
   "cell_type": "code",
   "execution_count": 7,
   "id": "b691acf6",
   "metadata": {
    "execution": {
     "iopub.execute_input": "2022-03-10T20:41:22.344083Z",
     "iopub.status.busy": "2022-03-10T20:41:22.343288Z",
     "iopub.status.idle": "2022-03-10T20:41:22.359016Z",
     "shell.execute_reply": "2022-03-10T20:41:22.358628Z"
    },
    "papermill": {
     "duration": 0.029784,
     "end_time": "2022-03-10T20:41:22.359094",
     "exception": false,
     "start_time": "2022-03-10T20:41:22.329310",
     "status": "completed"
    },
    "tags": []
   },
   "outputs": [],
   "source": [
    "###########################################\n",
    "# The stratified datasets honor this\n",
    "###########################################\n",
    "torch.set_default_dtype(eval(p.torch_default_dtype))"
   ]
  },
  {
   "cell_type": "code",
   "execution_count": 8,
   "id": "b5fba671",
   "metadata": {
    "execution": {
     "iopub.execute_input": "2022-03-10T20:41:22.392855Z",
     "iopub.status.busy": "2022-03-10T20:41:22.392606Z",
     "iopub.status.idle": "2022-03-10T20:41:22.429254Z",
     "shell.execute_reply": "2022-03-10T20:41:22.428746Z"
    },
    "papermill": {
     "duration": 0.0514,
     "end_time": "2022-03-10T20:41:22.429362",
     "exception": false,
     "start_time": "2022-03-10T20:41:22.377962",
     "status": "completed"
    },
    "tags": []
   },
   "outputs": [],
   "source": [
    "###################################\n",
    "# Build the network(s)\n",
    "# Note: It's critical to do this AFTER setting the RNG\n",
    "###################################\n",
    "x_net = build_sequential(p.x_net)"
   ]
  },
  {
   "cell_type": "code",
   "execution_count": 9,
   "id": "5d7e61cc",
   "metadata": {
    "execution": {
     "iopub.execute_input": "2022-03-10T20:41:22.464670Z",
     "iopub.status.busy": "2022-03-10T20:41:22.464422Z",
     "iopub.status.idle": "2022-03-10T20:41:22.475860Z",
     "shell.execute_reply": "2022-03-10T20:41:22.475635Z"
    },
    "papermill": {
     "duration": 0.026124,
     "end_time": "2022-03-10T20:41:22.475915",
     "exception": false,
     "start_time": "2022-03-10T20:41:22.449791",
     "status": "completed"
    },
    "tags": []
   },
   "outputs": [],
   "source": [
    "start_time_secs = time.time()"
   ]
  },
  {
   "cell_type": "code",
   "execution_count": 10,
   "id": "c6b67dfd",
   "metadata": {
    "execution": {
     "iopub.execute_input": "2022-03-10T20:41:22.510184Z",
     "iopub.status.busy": "2022-03-10T20:41:22.509937Z",
     "iopub.status.idle": "2022-03-10T20:41:22.525844Z",
     "shell.execute_reply": "2022-03-10T20:41:22.525355Z"
    },
    "papermill": {
     "duration": 0.031303,
     "end_time": "2022-03-10T20:41:22.525943",
     "exception": false,
     "start_time": "2022-03-10T20:41:22.494640",
     "status": "completed"
    },
    "tags": []
   },
   "outputs": [],
   "source": [
    "p.domains_source = []\n",
    "p.domains_target = []\n",
    "\n",
    "\n",
    "train_original_source = []\n",
    "val_original_source   = []\n",
    "test_original_source  = []\n",
    "\n",
    "train_original_target = []\n",
    "val_original_target   = []\n",
    "test_original_target  = []"
   ]
  },
  {
   "cell_type": "code",
   "execution_count": 11,
   "id": "e3d9c3d3",
   "metadata": {
    "execution": {
     "iopub.execute_input": "2022-03-10T20:41:22.559170Z",
     "iopub.status.busy": "2022-03-10T20:41:22.558920Z",
     "iopub.status.idle": "2022-03-10T20:41:22.569372Z",
     "shell.execute_reply": "2022-03-10T20:41:22.568946Z"
    },
    "papermill": {
     "duration": 0.025453,
     "end_time": "2022-03-10T20:41:22.569469",
     "exception": false,
     "start_time": "2022-03-10T20:41:22.544016",
     "status": "completed"
    },
    "tags": []
   },
   "outputs": [],
   "source": [
    "# global_x_transform_func = lambda x: normalize(x.to(torch.get_default_dtype()), \"unit_power\") # unit_power, unit_mag\n",
    "# global_x_transform_func = lambda x: normalize(x, \"unit_power\") # unit_power, unit_mag"
   ]
  },
  {
   "cell_type": "code",
   "execution_count": 12,
   "id": "acb78fd2",
   "metadata": {
    "execution": {
     "iopub.execute_input": "2022-03-10T20:41:22.606485Z",
     "iopub.status.busy": "2022-03-10T20:41:22.606225Z",
     "iopub.status.idle": "2022-03-10T20:41:22.620698Z",
     "shell.execute_reply": "2022-03-10T20:41:22.620269Z"
    },
    "papermill": {
     "duration": 0.034771,
     "end_time": "2022-03-10T20:41:22.620800",
     "exception": false,
     "start_time": "2022-03-10T20:41:22.586029",
     "status": "completed"
    },
    "tags": []
   },
   "outputs": [],
   "source": [
    "def add_dataset(\n",
    "    labels,\n",
    "    domains,\n",
    "    pickle_path,\n",
    "    x_transforms,\n",
    "    episode_transforms,\n",
    "    domain_prefix,\n",
    "    num_examples_per_domain_per_label,\n",
    "    source_or_target_dataset:str,\n",
    "    iterator_seed=p.seed,\n",
    "    dataset_seed=p.dataset_seed,\n",
    "    n_shot=p.n_shot,\n",
    "    n_way=p.n_way,\n",
    "    n_query=p.n_query,\n",
    "    train_val_test_k_factors=(p.train_k_factor,p.val_k_factor,p.test_k_factor),\n",
    "):\n",
    "   \n",
    "    if x_transforms == []: x_transform = None\n",
    "    else: x_transform = get_chained_transform(x_transforms)\n",
    "    \n",
    "    if episode_transforms == []: episode_transform = None\n",
    "    else: raise Exception(\"episode_transforms not implemented\")\n",
    "    \n",
    "    episode_transform = lambda tup, _prefix=domain_prefix: (_prefix + str(tup[0]), tup[1])\n",
    "\n",
    "\n",
    "    eaf = Episodic_Accessor_Factory(\n",
    "        labels=labels,\n",
    "        domains=domains,\n",
    "        num_examples_per_domain_per_label=num_examples_per_domain_per_label,\n",
    "        iterator_seed=iterator_seed,\n",
    "        dataset_seed=dataset_seed,\n",
    "        n_shot=n_shot,\n",
    "        n_way=n_way,\n",
    "        n_query=n_query,\n",
    "        train_val_test_k_factors=train_val_test_k_factors,\n",
    "        pickle_path=pickle_path,\n",
    "        x_transform_func=x_transform,\n",
    "    )\n",
    "\n",
    "    train, val, test = eaf.get_train(), eaf.get_val(), eaf.get_test()\n",
    "    train = Lazy_Iterable_Wrapper(train, episode_transform)\n",
    "    val = Lazy_Iterable_Wrapper(val, episode_transform)\n",
    "    test = Lazy_Iterable_Wrapper(test, episode_transform)\n",
    "\n",
    "    if source_or_target_dataset==\"source\":\n",
    "        train_original_source.append(train)\n",
    "        val_original_source.append(val)\n",
    "        test_original_source.append(test)\n",
    "\n",
    "        p.domains_source.extend(\n",
    "            [domain_prefix + str(u) for u in domains]\n",
    "        )\n",
    "    elif source_or_target_dataset==\"target\":\n",
    "        train_original_target.append(train)\n",
    "        val_original_target.append(val)\n",
    "        test_original_target.append(test)\n",
    "        p.domains_target.extend(\n",
    "            [domain_prefix + str(u) for u in domains]\n",
    "        )\n",
    "    else:\n",
    "        raise Exception(f\"invalid source_or_target_dataset: {source_or_target_dataset}\")\n",
    "    "
   ]
  },
  {
   "cell_type": "code",
   "execution_count": 13,
   "id": "fe266617",
   "metadata": {
    "execution": {
     "iopub.execute_input": "2022-03-10T20:41:22.654720Z",
     "iopub.status.busy": "2022-03-10T20:41:22.654471Z",
     "iopub.status.idle": "2022-03-10T20:42:46.103982Z",
     "shell.execute_reply": "2022-03-10T20:42:46.103541Z"
    },
    "papermill": {
     "duration": 83.464671,
     "end_time": "2022-03-10T20:42:46.104096",
     "exception": false,
     "start_time": "2022-03-10T20:41:22.639425",
     "status": "completed"
    },
    "tags": []
   },
   "outputs": [],
   "source": [
    "for ds in p.datasets:\n",
    "    add_dataset(**ds)"
   ]
  },
  {
   "cell_type": "code",
   "execution_count": 14,
   "id": "b90d65ac",
   "metadata": {
    "execution": {
     "iopub.execute_input": "2022-03-10T20:42:46.139561Z",
     "iopub.status.busy": "2022-03-10T20:42:46.139297Z",
     "iopub.status.idle": "2022-03-10T20:42:46.153737Z",
     "shell.execute_reply": "2022-03-10T20:42:46.154052Z"
    },
    "papermill": {
     "duration": 0.030897,
     "end_time": "2022-03-10T20:42:46.154150",
     "exception": false,
     "start_time": "2022-03-10T20:42:46.123253",
     "status": "completed"
    },
    "tags": []
   },
   "outputs": [],
   "source": [
    "# from steves_utils.CORES.utils import (\n",
    "#     ALL_NODES,\n",
    "#     ALL_NODES_MINIMUM_1000_EXAMPLES,\n",
    "#     ALL_DAYS\n",
    "# )\n",
    "\n",
    "# add_dataset(\n",
    "#     labels=ALL_NODES,\n",
    "#     domains = ALL_DAYS,\n",
    "#     num_examples_per_domain_per_label=100,\n",
    "#     pickle_path=os.path.join(get_datasets_base_path(), \"cores.stratified_ds.2022A.pkl\"),\n",
    "#     source_or_target_dataset=\"target\",\n",
    "#     x_transform_func=global_x_transform_func,\n",
    "#     domain_modifier=lambda u: f\"cores_{u}\"\n",
    "# )"
   ]
  },
  {
   "cell_type": "code",
   "execution_count": 15,
   "id": "76db484d",
   "metadata": {
    "execution": {
     "iopub.execute_input": "2022-03-10T20:42:46.189518Z",
     "iopub.status.busy": "2022-03-10T20:42:46.189251Z",
     "iopub.status.idle": "2022-03-10T20:42:46.204775Z",
     "shell.execute_reply": "2022-03-10T20:42:46.204353Z"
    },
    "papermill": {
     "duration": 0.031096,
     "end_time": "2022-03-10T20:42:46.204875",
     "exception": false,
     "start_time": "2022-03-10T20:42:46.173779",
     "status": "completed"
    },
    "tags": []
   },
   "outputs": [],
   "source": [
    "# from steves_utils.ORACLE.utils_v2 import (\n",
    "#     ALL_DISTANCES_FEET,\n",
    "#     ALL_RUNS,\n",
    "#     ALL_SERIAL_NUMBERS,\n",
    "# )\n",
    "\n",
    "\n",
    "# add_dataset(\n",
    "#     labels=ALL_SERIAL_NUMBERS,\n",
    "#     domains = list(set(ALL_DISTANCES_FEET) - {2,62}),\n",
    "#     num_examples_per_domain_per_label=100,\n",
    "#     pickle_path=os.path.join(get_datasets_base_path(), \"oracle.Run2_framed_2000Examples_stratified_ds.2022A.pkl\"),\n",
    "#     source_or_target_dataset=\"source\",\n",
    "#     x_transform_func=global_x_transform_func,\n",
    "#     domain_modifier=lambda u: f\"oracle1_{u}\"\n",
    "# )\n"
   ]
  },
  {
   "cell_type": "code",
   "execution_count": 16,
   "id": "97dea9d2",
   "metadata": {
    "execution": {
     "iopub.execute_input": "2022-03-10T20:42:46.239241Z",
     "iopub.status.busy": "2022-03-10T20:42:46.238967Z",
     "iopub.status.idle": "2022-03-10T20:42:46.254935Z",
     "shell.execute_reply": "2022-03-10T20:42:46.255338Z"
    },
    "papermill": {
     "duration": 0.032064,
     "end_time": "2022-03-10T20:42:46.255464",
     "exception": false,
     "start_time": "2022-03-10T20:42:46.223400",
     "status": "completed"
    },
    "tags": []
   },
   "outputs": [],
   "source": [
    "# from steves_utils.ORACLE.utils_v2 import (\n",
    "#     ALL_DISTANCES_FEET,\n",
    "#     ALL_RUNS,\n",
    "#     ALL_SERIAL_NUMBERS,\n",
    "# )\n",
    "\n",
    "\n",
    "# add_dataset(\n",
    "#     labels=ALL_SERIAL_NUMBERS,\n",
    "#     domains = list(set(ALL_DISTANCES_FEET) - {2,62,56}),\n",
    "#     num_examples_per_domain_per_label=100,\n",
    "#     pickle_path=os.path.join(get_datasets_base_path(), \"oracle.Run2_framed_2000Examples_stratified_ds.2022A.pkl\"),\n",
    "#     source_or_target_dataset=\"source\",\n",
    "#     x_transform_func=global_x_transform_func,\n",
    "#     domain_modifier=lambda u: f\"oracle2_{u}\"\n",
    "# )"
   ]
  },
  {
   "cell_type": "code",
   "execution_count": 17,
   "id": "6f289866",
   "metadata": {
    "execution": {
     "iopub.execute_input": "2022-03-10T20:42:46.289815Z",
     "iopub.status.busy": "2022-03-10T20:42:46.289548Z",
     "iopub.status.idle": "2022-03-10T20:42:46.299952Z",
     "shell.execute_reply": "2022-03-10T20:42:46.300258Z"
    },
    "papermill": {
     "duration": 0.025484,
     "end_time": "2022-03-10T20:42:46.300349",
     "exception": false,
     "start_time": "2022-03-10T20:42:46.274865",
     "status": "completed"
    },
    "tags": []
   },
   "outputs": [],
   "source": [
    "# add_dataset(\n",
    "#     labels=list(range(19)),\n",
    "#     domains = [0,1,2],\n",
    "#     num_examples_per_domain_per_label=100,\n",
    "#     pickle_path=os.path.join(get_datasets_base_path(), \"metehan.stratified_ds.2022A.pkl\"),\n",
    "#     source_or_target_dataset=\"target\",\n",
    "#     x_transform_func=global_x_transform_func,\n",
    "#     domain_modifier=lambda u: f\"met_{u}\"\n",
    "# )"
   ]
  },
  {
   "cell_type": "code",
   "execution_count": 18,
   "id": "86a863c3",
   "metadata": {
    "execution": {
     "iopub.execute_input": "2022-03-10T20:42:46.334685Z",
     "iopub.status.busy": "2022-03-10T20:42:46.334397Z",
     "iopub.status.idle": "2022-03-10T20:42:46.347754Z",
     "shell.execute_reply": "2022-03-10T20:42:46.347971Z"
    },
    "papermill": {
     "duration": 0.028759,
     "end_time": "2022-03-10T20:42:46.348039",
     "exception": false,
     "start_time": "2022-03-10T20:42:46.319280",
     "status": "completed"
    },
    "tags": []
   },
   "outputs": [],
   "source": [
    "# # from steves_utils.wisig.utils import (\n",
    "# #     ALL_NODES_MINIMUM_100_EXAMPLES,\n",
    "# #     ALL_NODES_MINIMUM_500_EXAMPLES,\n",
    "# #     ALL_NODES_MINIMUM_1000_EXAMPLES,\n",
    "# #     ALL_DAYS\n",
    "# # )\n",
    "\n",
    "# import steves_utils.wisig.utils as wisig\n",
    "\n",
    "\n",
    "# add_dataset(\n",
    "#     labels=wisig.ALL_NODES_MINIMUM_100_EXAMPLES,\n",
    "#     domains = wisig.ALL_DAYS,\n",
    "#     num_examples_per_domain_per_label=100,\n",
    "#     pickle_path=os.path.join(get_datasets_base_path(), \"wisig.node3-19.stratified_ds.2022A.pkl\"),\n",
    "#     source_or_target_dataset=\"target\",\n",
    "#     x_transform_func=global_x_transform_func,\n",
    "#     domain_modifier=lambda u: f\"wisig_{u}\"\n",
    "# )"
   ]
  },
  {
   "cell_type": "code",
   "execution_count": 19,
   "id": "fd5442bc",
   "metadata": {
    "execution": {
     "iopub.execute_input": "2022-03-10T20:42:46.385835Z",
     "iopub.status.busy": "2022-03-10T20:42:46.385533Z",
     "iopub.status.idle": "2022-03-10T20:42:46.400946Z",
     "shell.execute_reply": "2022-03-10T20:42:46.400520Z"
    },
    "papermill": {
     "duration": 0.033259,
     "end_time": "2022-03-10T20:42:46.401049",
     "exception": false,
     "start_time": "2022-03-10T20:42:46.367790",
     "status": "completed"
    },
    "tags": []
   },
   "outputs": [],
   "source": [
    "###################################\n",
    "# Build the dataset\n",
    "###################################\n",
    "train_original_source = Iterable_Aggregator(train_original_source, p.seed)\n",
    "val_original_source = Iterable_Aggregator(val_original_source, p.seed)\n",
    "test_original_source = Iterable_Aggregator(test_original_source, p.seed)\n",
    "\n",
    "\n",
    "train_original_target = Iterable_Aggregator(train_original_target, p.seed)\n",
    "val_original_target = Iterable_Aggregator(val_original_target, p.seed)\n",
    "test_original_target = Iterable_Aggregator(test_original_target, p.seed)\n",
    "\n",
    "# For CNN We only use X and Y. And we only train on the source.\n",
    "# Properly form the data using a transform lambda and Lazy_Iterable_Wrapper. Finally wrap them in a dataloader\n",
    "\n",
    "transform_lambda = lambda ex: ex[1] # Original is (<domain>, <episode>) so we strip down to episode only\n",
    "\n",
    "train_processed_source = Lazy_Iterable_Wrapper(train_original_source, transform_lambda)\n",
    "val_processed_source   = Lazy_Iterable_Wrapper(val_original_source, transform_lambda)\n",
    "test_processed_source  = Lazy_Iterable_Wrapper(test_original_source, transform_lambda)\n",
    "\n",
    "train_processed_target = Lazy_Iterable_Wrapper(train_original_target, transform_lambda)\n",
    "val_processed_target   = Lazy_Iterable_Wrapper(val_original_target, transform_lambda)\n",
    "test_processed_target  = Lazy_Iterable_Wrapper(test_original_target, transform_lambda)\n",
    "\n",
    "datasets = EasyDict({\n",
    "    \"source\": {\n",
    "        \"original\": {\"train\":train_original_source, \"val\":val_original_source, \"test\":test_original_source},\n",
    "        \"processed\": {\"train\":train_processed_source, \"val\":val_processed_source, \"test\":test_processed_source}\n",
    "    },\n",
    "    \"target\": {\n",
    "        \"original\": {\"train\":train_original_target, \"val\":val_original_target, \"test\":test_original_target},\n",
    "        \"processed\": {\"train\":train_processed_target, \"val\":val_processed_target, \"test\":test_processed_target}\n",
    "    },\n",
    "})"
   ]
  },
  {
   "cell_type": "code",
   "execution_count": 20,
   "id": "5b3c01fc",
   "metadata": {
    "execution": {
     "iopub.execute_input": "2022-03-10T20:42:46.436465Z",
     "iopub.status.busy": "2022-03-10T20:42:46.436196Z",
     "iopub.status.idle": "2022-03-10T20:42:59.880180Z",
     "shell.execute_reply": "2022-03-10T20:42:59.880591Z"
    },
    "papermill": {
     "duration": 13.460787,
     "end_time": "2022-03-10T20:42:59.880724",
     "exception": false,
     "start_time": "2022-03-10T20:42:46.419937",
     "status": "completed"
    },
    "tags": []
   },
   "outputs": [
    {
     "name": "stdout",
     "output_type": "stream",
     "text": [
      "{'Wisig_1', 'Wisig_3', 'Wisig_4', 'Wisig_2'}\n"
     ]
    },
    {
     "name": "stdout",
     "output_type": "stream",
     "text": [
      "{'ORACLE.run18', 'ORACLE.run150', 'ORACLE.run114', 'ORACLE.run120', 'ORACLE.run144', 'ORACLE.run138', 'ORACLE.run132', 'ORACLE.run126'}\n"
     ]
    },
    {
     "name": "stdout",
     "output_type": "stream",
     "text": [
      "tensor([[[-1.1274, -0.5022, -0.0205,  ..., -1.0843,  0.0000,  0.6764],\n",
      "         [ 0.4469,  0.0041, -0.1189,  ..., -1.0003,  0.0000, -0.0102]],\n",
      "\n",
      "        [[-0.6446,  1.3212,  0.5265,  ..., -0.5645, -0.4904, -0.6566],\n",
      "         [-1.4673,  0.1001,  1.3272,  ...,  0.8328,  0.1221, -0.7207]],\n",
      "\n",
      "        [[-0.8172,  0.3120,  0.4650,  ...,  0.5032,  0.2697,  0.3160],\n",
      "         [-0.4227, -0.4549, -0.7428,  ...,  0.0060, -0.6844, -1.3164]],\n",
      "\n",
      "        ...,\n",
      "\n",
      "        [[ 0.5357, -0.6498, -0.2553,  ...,  0.0077,  0.0751,  0.5211],\n",
      "         [ 0.5162,  0.3158, -0.4167,  ...,  0.5364, -0.3298, -0.0348]],\n",
      "\n",
      "        [[-0.1846,  0.2182, -0.4022,  ..., -0.2592, -0.5694, -0.4150],\n",
      "         [-0.1370, -0.0980, -0.1571,  ...,  0.7272,  0.1887, -1.0784]],\n",
      "\n",
      "        [[ 0.1273,  0.6059, -0.8592,  ...,  0.8839,  0.1041, -0.1041],\n",
      "         [-0.7730,  0.2711,  0.4635,  ...,  0.0164,  0.1698, -0.3629]]])\n"
     ]
    }
   ],
   "source": [
    "from steves_utils.transforms import get_average_magnitude, get_average_power\n",
    "\n",
    "print(set([u for u,_ in val_original_source]))\n",
    "print(set([u for u,_ in val_original_target]))\n",
    "\n",
    "s_x, s_y, q_x, q_y, _ = next(iter(train_processed_source))\n",
    "print(s_x)\n",
    "\n",
    "# for ds in [\n",
    "#     train_processed_source,\n",
    "#     val_processed_source,\n",
    "#     test_processed_source,\n",
    "#     train_processed_target,\n",
    "#     val_processed_target,\n",
    "#     test_processed_target\n",
    "# ]:\n",
    "#     for s_x, s_y, q_x, q_y, _ in ds:\n",
    "#         for X in (s_x, q_x):\n",
    "#             for x in X:\n",
    "#                 assert np.isclose(get_average_magnitude(x.numpy()), 1.0)\n",
    "#                 assert np.isclose(get_average_power(x.numpy()), 1.0)\n",
    "                "
   ]
  },
  {
   "cell_type": "code",
   "execution_count": 21,
   "id": "bbdacba1",
   "metadata": {
    "execution": {
     "iopub.execute_input": "2022-03-10T20:42:59.914932Z",
     "iopub.status.busy": "2022-03-10T20:42:59.914527Z",
     "iopub.status.idle": "2022-03-10T20:42:59.974684Z",
     "shell.execute_reply": "2022-03-10T20:42:59.975085Z"
    },
    "papermill": {
     "duration": 0.078313,
     "end_time": "2022-03-10T20:42:59.975196",
     "exception": false,
     "start_time": "2022-03-10T20:42:59.896883",
     "status": "completed"
    },
    "tags": []
   },
   "outputs": [
    {
     "name": "stdout",
     "output_type": "stream",
     "text": [
      "(2, 256)\n"
     ]
    }
   ],
   "source": [
    "###################################\n",
    "# Build the model\n",
    "###################################\n",
    "model = Steves_Prototypical_Network(x_net, device=p.device, x_shape=(2,256))\n",
    "optimizer = Adam(params=model.parameters(), lr=p.lr)"
   ]
  },
  {
   "cell_type": "code",
   "execution_count": 22,
   "id": "22b39ac5",
   "metadata": {
    "execution": {
     "iopub.execute_input": "2022-03-10T20:43:00.012827Z",
     "iopub.status.busy": "2022-03-10T20:43:00.012566Z",
     "iopub.status.idle": "2022-03-10T20:51:07.086078Z",
     "shell.execute_reply": "2022-03-10T20:51:07.085847Z"
    },
    "papermill": {
     "duration": 487.091054,
     "end_time": "2022-03-10T20:51:07.086135",
     "exception": false,
     "start_time": "2022-03-10T20:42:59.995081",
     "status": "completed"
    },
    "tags": []
   },
   "outputs": [
    {
     "name": "stdout",
     "output_type": "stream",
     "text": [
      "epoch: 1, [batch: 1 / 1347], examples_per_second: 188.6089, train_label_loss: 2.8522, \n"
     ]
    },
    {
     "name": "stdout",
     "output_type": "stream",
     "text": [
      "epoch: 1, [batch: 135 / 1347], examples_per_second: 3140.2178, train_label_loss: 0.6449, \n"
     ]
    },
    {
     "name": "stdout",
     "output_type": "stream",
     "text": [
      "epoch: 1, [batch: 270 / 1347], examples_per_second: 3159.8858, train_label_loss: 0.1229, \n"
     ]
    },
    {
     "name": "stdout",
     "output_type": "stream",
     "text": [
      "epoch: 1, [batch: 404 / 1347], examples_per_second: 3159.4038, train_label_loss: 0.1056, \n"
     ]
    },
    {
     "name": "stdout",
     "output_type": "stream",
     "text": [
      "epoch: 1, [batch: 539 / 1347], examples_per_second: 3136.6500, train_label_loss: 0.6137, \n"
     ]
    },
    {
     "name": "stdout",
     "output_type": "stream",
     "text": [
      "epoch: 1, [batch: 674 / 1347], examples_per_second: 3156.6355, train_label_loss: 0.4266, \n"
     ]
    },
    {
     "name": "stdout",
     "output_type": "stream",
     "text": [
      "epoch: 1, [batch: 808 / 1347], examples_per_second: 3174.5968, train_label_loss: 0.7252, \n"
     ]
    },
    {
     "name": "stdout",
     "output_type": "stream",
     "text": [
      "epoch: 1, [batch: 943 / 1347], examples_per_second: 3171.7955, train_label_loss: 0.1394, \n"
     ]
    },
    {
     "name": "stdout",
     "output_type": "stream",
     "text": [
      "epoch: 1, [batch: 1077 / 1347], examples_per_second: 3175.2739, train_label_loss: 0.0125, \n"
     ]
    },
    {
     "name": "stdout",
     "output_type": "stream",
     "text": [
      "epoch: 1, [batch: 1212 / 1347], examples_per_second: 3161.3843, train_label_loss: 0.5445, \n"
     ]
    },
    {
     "name": "stdout",
     "output_type": "stream",
     "text": [
      "=============================================================\n",
      "epoch: 1, source_val_acc_label: 0.9352, target_val_acc_label: 0.1010, source_val_label_loss: 0.2725, target_val_label_loss: 2.7665, \n",
      "=============================================================\n"
     ]
    },
    {
     "name": "stdout",
     "output_type": "stream",
     "text": [
      "New best\n"
     ]
    },
    {
     "name": "stdout",
     "output_type": "stream",
     "text": [
      "epoch: 2, [batch: 1 / 1346], examples_per_second: 4.1322, train_label_loss: 0.2961, \n"
     ]
    },
    {
     "name": "stdout",
     "output_type": "stream",
     "text": [
      "epoch: 2, [batch: 135 / 1346], examples_per_second: 3134.7918, train_label_loss: 0.1488, \n"
     ]
    },
    {
     "name": "stdout",
     "output_type": "stream",
     "text": [
      "epoch: 2, [batch: 270 / 1346], examples_per_second: 3147.8832, train_label_loss: 0.1526, \n"
     ]
    },
    {
     "name": "stdout",
     "output_type": "stream",
     "text": [
      "epoch: 2, [batch: 404 / 1346], examples_per_second: 3143.3426, train_label_loss: 0.0906, \n"
     ]
    },
    {
     "name": "stdout",
     "output_type": "stream",
     "text": [
      "epoch: 2, [batch: 539 / 1346], examples_per_second: 3160.9784, train_label_loss: 0.1163, \n"
     ]
    },
    {
     "name": "stdout",
     "output_type": "stream",
     "text": [
      "epoch: 2, [batch: 673 / 1346], examples_per_second: 3191.1579, train_label_loss: 0.0735, \n"
     ]
    },
    {
     "name": "stdout",
     "output_type": "stream",
     "text": [
      "epoch: 2, [batch: 808 / 1346], examples_per_second: 3184.6018, train_label_loss: 0.6099, \n"
     ]
    },
    {
     "name": "stdout",
     "output_type": "stream",
     "text": [
      "epoch: 2, [batch: 942 / 1346], examples_per_second: 3161.6926, train_label_loss: 0.0137, \n"
     ]
    },
    {
     "name": "stdout",
     "output_type": "stream",
     "text": [
      "epoch: 2, [batch: 1077 / 1346], examples_per_second: 3181.3840, train_label_loss: 0.0453, \n"
     ]
    },
    {
     "name": "stdout",
     "output_type": "stream",
     "text": [
      "epoch: 2, [batch: 1211 / 1346], examples_per_second: 3196.1586, train_label_loss: 0.4005, \n"
     ]
    },
    {
     "name": "stdout",
     "output_type": "stream",
     "text": [
      "=============================================================\n",
      "epoch: 2, source_val_acc_label: 0.9515, target_val_acc_label: 0.0929, source_val_label_loss: 0.2252, target_val_label_loss: 2.7892, \n",
      "=============================================================\n"
     ]
    },
    {
     "name": "stdout",
     "output_type": "stream",
     "text": [
      "epoch: 3, [batch: 1 / 1347], examples_per_second: 4.1126, train_label_loss: 0.4634, \n"
     ]
    },
    {
     "name": "stdout",
     "output_type": "stream",
     "text": [
      "epoch: 3, [batch: 135 / 1347], examples_per_second: 3128.1260, train_label_loss: 0.4126, \n"
     ]
    },
    {
     "name": "stdout",
     "output_type": "stream",
     "text": [
      "epoch: 3, [batch: 270 / 1347], examples_per_second: 3148.8738, train_label_loss: 0.2187, \n"
     ]
    },
    {
     "name": "stdout",
     "output_type": "stream",
     "text": [
      "epoch: 3, [batch: 404 / 1347], examples_per_second: 3180.7408, train_label_loss: 0.6258, \n"
     ]
    },
    {
     "name": "stdout",
     "output_type": "stream",
     "text": [
      "epoch: 3, [batch: 539 / 1347], examples_per_second: 3163.8392, train_label_loss: 0.1744, \n"
     ]
    },
    {
     "name": "stdout",
     "output_type": "stream",
     "text": [
      "epoch: 3, [batch: 674 / 1347], examples_per_second: 3169.0407, train_label_loss: 0.0229, \n"
     ]
    },
    {
     "name": "stdout",
     "output_type": "stream",
     "text": [
      "epoch: 3, [batch: 808 / 1347], examples_per_second: 3191.2505, train_label_loss: 0.0422, \n"
     ]
    },
    {
     "name": "stdout",
     "output_type": "stream",
     "text": [
      "epoch: 3, [batch: 943 / 1347], examples_per_second: 3176.0745, train_label_loss: 0.1460, \n"
     ]
    },
    {
     "name": "stdout",
     "output_type": "stream",
     "text": [
      "epoch: 3, [batch: 1077 / 1347], examples_per_second: 3187.4076, train_label_loss: 0.0096, \n"
     ]
    },
    {
     "name": "stdout",
     "output_type": "stream",
     "text": [
      "epoch: 3, [batch: 1212 / 1347], examples_per_second: 3178.4865, train_label_loss: 0.1720, \n"
     ]
    },
    {
     "name": "stdout",
     "output_type": "stream",
     "text": [
      "=============================================================\n",
      "epoch: 3, source_val_acc_label: 0.9582, target_val_acc_label: 0.1037, source_val_label_loss: 0.2014, target_val_label_loss: 2.7604, \n",
      "=============================================================\n"
     ]
    },
    {
     "name": "stdout",
     "output_type": "stream",
     "text": [
      "New best\n"
     ]
    },
    {
     "name": "stdout",
     "output_type": "stream",
     "text": [
      "epoch: 4, [batch: 1 / 1346], examples_per_second: 4.0966, train_label_loss: 0.0056, \n"
     ]
    },
    {
     "name": "stdout",
     "output_type": "stream",
     "text": [
      "epoch: 4, [batch: 135 / 1346], examples_per_second: 3117.7205, train_label_loss: 0.4499, \n"
     ]
    },
    {
     "name": "stdout",
     "output_type": "stream",
     "text": [
      "epoch: 4, [batch: 270 / 1346], examples_per_second: 3143.5690, train_label_loss: 0.1752, \n"
     ]
    },
    {
     "name": "stdout",
     "output_type": "stream",
     "text": [
      "epoch: 4, [batch: 404 / 1346], examples_per_second: 3156.0563, train_label_loss: 0.0177, \n"
     ]
    },
    {
     "name": "stdout",
     "output_type": "stream",
     "text": [
      "epoch: 4, [batch: 539 / 1346], examples_per_second: 3149.1260, train_label_loss: 0.2928, \n"
     ]
    },
    {
     "name": "stdout",
     "output_type": "stream",
     "text": [
      "epoch: 4, [batch: 673 / 1346], examples_per_second: 3175.9759, train_label_loss: 0.0395, \n"
     ]
    },
    {
     "name": "stdout",
     "output_type": "stream",
     "text": [
      "epoch: 4, [batch: 808 / 1346], examples_per_second: 3175.2287, train_label_loss: 0.0154, \n"
     ]
    },
    {
     "name": "stdout",
     "output_type": "stream",
     "text": [
      "epoch: 4, [batch: 942 / 1346], examples_per_second: 3155.8062, train_label_loss: 0.1462, \n"
     ]
    },
    {
     "name": "stdout",
     "output_type": "stream",
     "text": [
      "epoch: 4, [batch: 1077 / 1346], examples_per_second: 3147.0246, train_label_loss: 0.1475, \n"
     ]
    },
    {
     "name": "stdout",
     "output_type": "stream",
     "text": [
      "epoch: 4, [batch: 1211 / 1346], examples_per_second: 3174.8587, train_label_loss: 0.3256, \n"
     ]
    },
    {
     "name": "stdout",
     "output_type": "stream",
     "text": [
      "=============================================================\n",
      "epoch: 4, source_val_acc_label: 0.9562, target_val_acc_label: 0.0975, source_val_label_loss: 0.2111, target_val_label_loss: 2.7991, \n",
      "=============================================================\n"
     ]
    },
    {
     "name": "stdout",
     "output_type": "stream",
     "text": [
      "epoch: 5, [batch: 1 / 1346], examples_per_second: 4.0988, train_label_loss: 0.3561, \n"
     ]
    },
    {
     "name": "stdout",
     "output_type": "stream",
     "text": [
      "epoch: 5, [batch: 135 / 1346], examples_per_second: 3128.7131, train_label_loss: 0.1892, \n"
     ]
    },
    {
     "name": "stdout",
     "output_type": "stream",
     "text": [
      "epoch: 5, [batch: 270 / 1346], examples_per_second: 3147.1285, train_label_loss: 0.0246, \n"
     ]
    },
    {
     "name": "stdout",
     "output_type": "stream",
     "text": [
      "epoch: 5, [batch: 404 / 1346], examples_per_second: 3153.0412, train_label_loss: 0.2272, \n"
     ]
    },
    {
     "name": "stdout",
     "output_type": "stream",
     "text": [
      "epoch: 5, [batch: 539 / 1346], examples_per_second: 3142.9589, train_label_loss: 0.2883, \n"
     ]
    },
    {
     "name": "stdout",
     "output_type": "stream",
     "text": [
      "epoch: 5, [batch: 673 / 1346], examples_per_second: 3194.9383, train_label_loss: 0.1419, \n"
     ]
    },
    {
     "name": "stdout",
     "output_type": "stream",
     "text": [
      "epoch: 5, [batch: 808 / 1346], examples_per_second: 3167.0519, train_label_loss: 0.0550, \n"
     ]
    },
    {
     "name": "stdout",
     "output_type": "stream",
     "text": [
      "epoch: 5, [batch: 942 / 1346], examples_per_second: 3172.8070, train_label_loss: 0.0020, \n"
     ]
    },
    {
     "name": "stdout",
     "output_type": "stream",
     "text": [
      "epoch: 5, [batch: 1077 / 1346], examples_per_second: 3191.2869, train_label_loss: 0.0042, \n"
     ]
    },
    {
     "name": "stdout",
     "output_type": "stream",
     "text": [
      "epoch: 5, [batch: 1211 / 1346], examples_per_second: 3210.3488, train_label_loss: 0.1670, \n"
     ]
    },
    {
     "name": "stdout",
     "output_type": "stream",
     "text": [
      "=============================================================\n",
      "epoch: 5, source_val_acc_label: 0.9601, target_val_acc_label: 0.0963, source_val_label_loss: 0.1986, target_val_label_loss: 2.8322, \n",
      "=============================================================\n"
     ]
    },
    {
     "name": "stdout",
     "output_type": "stream",
     "text": [
      "epoch: 6, [batch: 1 / 1346], examples_per_second: 4.1223, train_label_loss: 0.0378, \n"
     ]
    },
    {
     "name": "stdout",
     "output_type": "stream",
     "text": [
      "epoch: 6, [batch: 135 / 1346], examples_per_second: 3100.3548, train_label_loss: 0.0741, \n"
     ]
    },
    {
     "name": "stdout",
     "output_type": "stream",
     "text": [
      "epoch: 6, [batch: 270 / 1346], examples_per_second: 3131.1068, train_label_loss: 0.0299, \n"
     ]
    },
    {
     "name": "stdout",
     "output_type": "stream",
     "text": [
      "epoch: 6, [batch: 404 / 1346], examples_per_second: 3145.4283, train_label_loss: 0.0128, \n"
     ]
    },
    {
     "name": "stdout",
     "output_type": "stream",
     "text": [
      "epoch: 6, [batch: 539 / 1346], examples_per_second: 3157.2612, train_label_loss: 0.0212, \n"
     ]
    },
    {
     "name": "stdout",
     "output_type": "stream",
     "text": [
      "epoch: 6, [batch: 673 / 1346], examples_per_second: 3184.2918, train_label_loss: 0.0109, \n"
     ]
    },
    {
     "name": "stdout",
     "output_type": "stream",
     "text": [
      "epoch: 6, [batch: 808 / 1346], examples_per_second: 3185.6022, train_label_loss: 0.0051, \n"
     ]
    },
    {
     "name": "stdout",
     "output_type": "stream",
     "text": [
      "epoch: 6, [batch: 942 / 1346], examples_per_second: 3190.9065, train_label_loss: 0.0699, \n"
     ]
    },
    {
     "name": "stdout",
     "output_type": "stream",
     "text": [
      "epoch: 6, [batch: 1077 / 1346], examples_per_second: 3174.2397, train_label_loss: 0.0287, \n"
     ]
    },
    {
     "name": "stdout",
     "output_type": "stream",
     "text": [
      "epoch: 6, [batch: 1211 / 1346], examples_per_second: 3186.3839, train_label_loss: 0.3098, \n"
     ]
    },
    {
     "name": "stdout",
     "output_type": "stream",
     "text": [
      "=============================================================\n",
      "epoch: 6, source_val_acc_label: 0.9642, target_val_acc_label: 0.0984, source_val_label_loss: 0.1847, target_val_label_loss: 2.8453, \n",
      "=============================================================\n"
     ]
    },
    {
     "name": "stdout",
     "output_type": "stream",
     "text": [
      "epoch: 7, [batch: 1 / 1344], examples_per_second: 4.1015, train_label_loss: 0.1031, \n"
     ]
    },
    {
     "name": "stdout",
     "output_type": "stream",
     "text": [
      "epoch: 7, [batch: 135 / 1344], examples_per_second: 3132.4015, train_label_loss: 0.0057, \n"
     ]
    },
    {
     "name": "stdout",
     "output_type": "stream",
     "text": [
      "epoch: 7, [batch: 269 / 1344], examples_per_second: 3130.2132, train_label_loss: 0.1063, \n"
     ]
    },
    {
     "name": "stdout",
     "output_type": "stream",
     "text": [
      "epoch: 7, [batch: 403 / 1344], examples_per_second: 3155.3380, train_label_loss: 0.0167, \n"
     ]
    },
    {
     "name": "stdout",
     "output_type": "stream",
     "text": [
      "epoch: 7, [batch: 538 / 1344], examples_per_second: 3124.6156, train_label_loss: 0.1426, \n"
     ]
    },
    {
     "name": "stdout",
     "output_type": "stream",
     "text": [
      "epoch: 7, [batch: 672 / 1344], examples_per_second: 3177.6272, train_label_loss: 0.0626, \n"
     ]
    },
    {
     "name": "stdout",
     "output_type": "stream",
     "text": [
      "epoch: 7, [batch: 806 / 1344], examples_per_second: 3177.6039, train_label_loss: 0.6516, \n"
     ]
    },
    {
     "name": "stdout",
     "output_type": "stream",
     "text": [
      "epoch: 7, [batch: 941 / 1344], examples_per_second: 3166.5445, train_label_loss: 0.1490, \n"
     ]
    },
    {
     "name": "stdout",
     "output_type": "stream",
     "text": [
      "epoch: 7, [batch: 1075 / 1344], examples_per_second: 3202.6783, train_label_loss: 0.2189, \n"
     ]
    },
    {
     "name": "stdout",
     "output_type": "stream",
     "text": [
      "epoch: 7, [batch: 1209 / 1344], examples_per_second: 3179.3654, train_label_loss: 0.0018, \n"
     ]
    },
    {
     "name": "stdout",
     "output_type": "stream",
     "text": [
      "=============================================================\n",
      "epoch: 7, source_val_acc_label: 0.9619, target_val_acc_label: 0.0896, source_val_label_loss: 0.1960, target_val_label_loss: 2.8768, \n",
      "=============================================================\n"
     ]
    },
    {
     "name": "stdout",
     "output_type": "stream",
     "text": [
      "Patience (3) exhausted\n"
     ]
    }
   ],
   "source": [
    "###################################\n",
    "# train\n",
    "###################################\n",
    "jig = PTN_Train_Eval_Test_Jig(model, p.BEST_MODEL_PATH, p.device)\n",
    "\n",
    "jig.train(\n",
    "    train_iterable=datasets.source.processed.train,\n",
    "    source_val_iterable=datasets.source.processed.val,\n",
    "    target_val_iterable=datasets.target.processed.val,\n",
    "    num_epochs=p.n_epoch,\n",
    "    num_logs_per_epoch=p.NUM_LOGS_PER_EPOCH,\n",
    "    patience=p.patience,\n",
    "    optimizer=optimizer,\n",
    "    criteria_for_best=p.criteria_for_best,\n",
    ")"
   ]
  },
  {
   "cell_type": "code",
   "execution_count": 23,
   "id": "31e8fabf",
   "metadata": {
    "execution": {
     "iopub.execute_input": "2022-03-10T20:51:07.147521Z",
     "iopub.status.busy": "2022-03-10T20:51:07.147237Z",
     "iopub.status.idle": "2022-03-10T20:51:07.166755Z",
     "shell.execute_reply": "2022-03-10T20:51:07.166379Z"
    },
    "papermill": {
     "duration": 0.051576,
     "end_time": "2022-03-10T20:51:07.166846",
     "exception": false,
     "start_time": "2022-03-10T20:51:07.115270",
     "status": "completed"
    },
    "tags": []
   },
   "outputs": [],
   "source": [
    "total_experiment_time_secs = time.time() - start_time_secs"
   ]
  },
  {
   "cell_type": "code",
   "execution_count": 24,
   "id": "87b9595b",
   "metadata": {
    "execution": {
     "iopub.execute_input": "2022-03-10T20:51:07.233392Z",
     "iopub.status.busy": "2022-03-10T20:51:07.233050Z",
     "iopub.status.idle": "2022-03-10T20:55:18.866355Z",
     "shell.execute_reply": "2022-03-10T20:55:18.865893Z"
    },
    "papermill": {
     "duration": 251.667178,
     "end_time": "2022-03-10T20:55:18.866467",
     "exception": false,
     "start_time": "2022-03-10T20:51:07.199289",
     "status": "completed"
    },
    "tags": []
   },
   "outputs": [],
   "source": [
    "###################################\n",
    "# Evaluate the model\n",
    "###################################\n",
    "source_test_label_accuracy, source_test_label_loss = jig.test(datasets.source.processed.test)\n",
    "target_test_label_accuracy, target_test_label_loss = jig.test(datasets.target.processed.test)\n",
    "\n",
    "source_val_label_accuracy, source_val_label_loss = jig.test(datasets.source.processed.val)\n",
    "target_val_label_accuracy, target_val_label_loss = jig.test(datasets.target.processed.val)\n",
    "\n",
    "history = jig.get_history()\n",
    "\n",
    "total_epochs_trained = len(history[\"epoch_indices\"])\n",
    "\n",
    "val_dl = Iterable_Aggregator((datasets.source.original.val,datasets.target.original.val))\n",
    "\n",
    "confusion = ptn_confusion_by_domain_over_dataloader(model, p.device, val_dl)\n",
    "per_domain_accuracy = per_domain_accuracy_from_confusion(confusion)\n",
    "\n",
    "# Add a key to per_domain_accuracy for if it was a source domain\n",
    "for domain, accuracy in per_domain_accuracy.items():\n",
    "    per_domain_accuracy[domain] = {\n",
    "        \"accuracy\": accuracy,\n",
    "        \"source?\": domain in p.domains_source\n",
    "    }\n",
    "\n",
    "# Do an independent accuracy assesment JUST TO BE SURE!\n",
    "# _source_test_label_accuracy = independent_accuracy_assesment(model, datasets.source.processed.test, p.device)\n",
    "# _target_test_label_accuracy = independent_accuracy_assesment(model, datasets.target.processed.test, p.device)\n",
    "# _source_val_label_accuracy = independent_accuracy_assesment(model, datasets.source.processed.val, p.device)\n",
    "# _target_val_label_accuracy = independent_accuracy_assesment(model, datasets.target.processed.val, p.device)\n",
    "\n",
    "# assert(_source_test_label_accuracy == source_test_label_accuracy)\n",
    "# assert(_target_test_label_accuracy == target_test_label_accuracy)\n",
    "# assert(_source_val_label_accuracy == source_val_label_accuracy)\n",
    "# assert(_target_val_label_accuracy == target_val_label_accuracy)\n",
    "\n",
    "experiment = {\n",
    "    \"experiment_name\": p.experiment_name,\n",
    "    \"parameters\": dict(p),\n",
    "    \"results\": {\n",
    "        \"source_test_label_accuracy\": source_test_label_accuracy,\n",
    "        \"source_test_label_loss\": source_test_label_loss,\n",
    "        \"target_test_label_accuracy\": target_test_label_accuracy,\n",
    "        \"target_test_label_loss\": target_test_label_loss,\n",
    "        \"source_val_label_accuracy\": source_val_label_accuracy,\n",
    "        \"source_val_label_loss\": source_val_label_loss,\n",
    "        \"target_val_label_accuracy\": target_val_label_accuracy,\n",
    "        \"target_val_label_loss\": target_val_label_loss,\n",
    "        \"total_epochs_trained\": total_epochs_trained,\n",
    "        \"total_experiment_time_secs\": total_experiment_time_secs,\n",
    "        \"confusion\": confusion,\n",
    "        \"per_domain_accuracy\": per_domain_accuracy,\n",
    "    },\n",
    "    \"history\": history,\n",
    "    \"dataset_metrics\": get_dataset_metrics(datasets, \"ptn\"),\n",
    "}"
   ]
  },
  {
   "cell_type": "code",
   "execution_count": 25,
   "id": "54a21829",
   "metadata": {
    "execution": {
     "iopub.execute_input": "2022-03-10T20:55:18.939108Z",
     "iopub.status.busy": "2022-03-10T20:55:18.934392Z",
     "iopub.status.idle": "2022-03-10T20:55:19.119277Z",
     "shell.execute_reply": "2022-03-10T20:55:19.119696Z"
    },
    "papermill": {
     "duration": 0.216613,
     "end_time": "2022-03-10T20:55:19.119826",
     "exception": false,
     "start_time": "2022-03-10T20:55:18.903213",
     "status": "completed"
    },
    "tags": []
   },
   "outputs": [
    {
     "data": {
      "image/png": "[encoded data removed]",
      "text/plain": [
       "<Figure size 1080x504 with 1 Axes>"
      ]
     },
     "metadata": {
      "needs_background": "light"
     },
     "output_type": "display_data"
    }
   ],
   "source": [
    "ax = get_loss_curve(experiment)\n",
    "plt.show()"
   ]
  },
  {
   "cell_type": "code",
   "execution_count": 26,
   "id": "fd8a0f60",
   "metadata": {
    "execution": {
     "iopub.execute_input": "2022-03-10T20:55:19.186725Z",
     "iopub.status.busy": "2022-03-10T20:55:19.186468Z",
     "iopub.status.idle": "2022-03-10T20:55:19.365701Z",
     "shell.execute_reply": "2022-03-10T20:55:19.365252Z"
    },
    "papermill": {
     "duration": 0.211503,
     "end_time": "2022-03-10T20:55:19.365808",
     "exception": false,
     "start_time": "2022-03-10T20:55:19.154305",
     "status": "completed"
    },
    "tags": []
   },
   "outputs": [
    {
     "data": {
      "text/plain": [
       "<matplotlib.axes._subplots.AxesSubplot at 0x7fb89a187400>"
      ]
     },
     "execution_count": 26,
     "metadata": {},
     "output_type": "execute_result"
    },
    {
     "data": {
      "image/png": "[encoded data removed]",
      "text/plain": [
       "<Figure size 1080x504 with 1 Axes>"
      ]
     },
     "metadata": {
      "needs_background": "light"
     },
     "output_type": "display_data"
    }
   ],
   "source": [
    "get_results_table(experiment)"
   ]
  },
  {
   "cell_type": "code",
   "execution_count": 27,
   "id": "cf8dc689",
   "metadata": {
    "execution": {
     "iopub.execute_input": "2022-03-10T20:55:19.435225Z",
     "iopub.status.busy": "2022-03-10T20:55:19.434800Z",
     "iopub.status.idle": "2022-03-10T20:55:19.633077Z",
     "shell.execute_reply": "2022-03-10T20:55:19.632653Z"
    },
    "papermill": {
     "duration": 0.230881,
     "end_time": "2022-03-10T20:55:19.633185",
     "exception": false,
     "start_time": "2022-03-10T20:55:19.402304",
     "status": "completed"
    },
    "tags": []
   },
   "outputs": [
    {
     "data": {
      "text/plain": [
       "<matplotlib.axes._subplots.AxesSubplot at 0x7fb8096737c0>"
      ]
     },
     "execution_count": 27,
     "metadata": {},
     "output_type": "execute_result"
    },
    {
     "data": {
      "image/png": "[encoded data removed]",
      "text/plain": [
       "<Figure size 1080x504 with 1 Axes>"
      ]
     },
     "metadata": {
      "needs_background": "light"
     },
     "output_type": "display_data"
    }
   ],
   "source": [
    "get_domain_accuracies(experiment)"
   ]
  },
  {
   "cell_type": "code",
   "execution_count": 28,
   "id": "a74ae082",
   "metadata": {
    "execution": {
     "iopub.execute_input": "2022-03-10T20:55:19.701707Z",
     "iopub.status.busy": "2022-03-10T20:55:19.701385Z",
     "iopub.status.idle": "2022-03-10T20:55:19.718819Z",
     "shell.execute_reply": "2022-03-10T20:55:19.718324Z"
    },
    "papermill": {
     "duration": 0.051235,
     "end_time": "2022-03-10T20:55:19.718937",
     "exception": false,
     "start_time": "2022-03-10T20:55:19.667702",
     "status": "completed"
    },
    "tags": []
   },
   "outputs": [
    {
     "name": "stdout",
     "output_type": "stream",
     "text": [
      "Source Test Label Accuracy: 0.9453125 Target Test Label Accuracy: 0.10329427083333333\n",
      "Source Val Label Accuracy: 0.9581705729166666 Target Val Label Accuracy: 0.10374348958333333\n"
     ]
    }
   ],
   "source": [
    "print(\"Source Test Label Accuracy:\", experiment[\"results\"][\"source_test_label_accuracy\"], \"Target Test Label Accuracy:\", experiment[\"results\"][\"target_test_label_accuracy\"])\n",
    "print(\"Source Val Label Accuracy:\", experiment[\"results\"][\"source_val_label_accuracy\"], \"Target Val Label Accuracy:\", experiment[\"results\"][\"target_val_label_accuracy\"])"
   ]
  },
  {
   "cell_type": "code",
   "execution_count": 29,
   "id": "dacca602",
   "metadata": {
    "execution": {
     "iopub.execute_input": "2022-03-10T20:55:19.788203Z",
     "iopub.status.busy": "2022-03-10T20:55:19.787938Z",
     "iopub.status.idle": "2022-03-10T20:55:19.801413Z",
     "shell.execute_reply": "2022-03-10T20:55:19.800977Z"
    },
    "papermill": {
     "duration": 0.046717,
     "end_time": "2022-03-10T20:55:19.801516",
     "exception": false,
     "start_time": "2022-03-10T20:55:19.754799",
     "status": "completed"
    },
    "tags": [
     "experiment_json"
    ]
   },
   "outputs": [
    {
     "data": {
      "text/plain": [
       "'{\"experiment_name\": \"tl_1_wisig-oracle.run1\", \"parameters\": {\"experiment_name\": \"tl_1_wisig-oracle.run1\", \"device\": \"cuda\", \"lr\": 0.001, \"seed\": 1337, \"dataset_seed\": 1337, \"n_shot\": 3, \"n_query\": 2, \"train_k_factor\": 3, \"val_k_factor\": 2, \"test_k_factor\": 2, \"torch_default_dtype\": \"torch.float32\", \"n_epoch\": 50, \"patience\": 3, \"criteria_for_best\": \"target_loss\", \"x_net\": [{\"class\": \"nnReshape\", \"kargs\": {\"shape\": [-1, 1, 2, 256]}}, {\"class\": \"Conv2d\", \"kargs\": {\"in_channels\": 1, \"out_channels\": 256, \"kernel_size\": [1, 7], \"bias\": false, \"padding\": [0, 3]}}, {\"class\": \"ReLU\", \"kargs\": {\"inplace\": true}}, {\"class\": \"BatchNorm2d\", \"kargs\": {\"num_features\": 256}}, {\"class\": \"Conv2d\", \"kargs\": {\"in_channels\": 256, \"out_channels\": 80, \"kernel_size\": [2, 7], \"bias\": true, \"padding\": [0, 3]}}, {\"class\": \"ReLU\", \"kargs\": {\"inplace\": true}}, {\"class\": \"BatchNorm2d\", \"kargs\": {\"num_features\": 80}}, {\"class\": \"Flatten\", \"kargs\": {}}, {\"class\": \"Linear\", \"kargs\": {\"in_features\": 20480, \"out_features\": 256}}, {\"class\": \"ReLU\", \"kargs\": {\"inplace\": true}}, {\"class\": \"BatchNorm1d\", \"kargs\": {\"num_features\": 256}}, {\"class\": \"Linear\", \"kargs\": {\"in_features\": 256, \"out_features\": 256}}], \"NUM_LOGS_PER_EPOCH\": 10, \"BEST_MODEL_PATH\": \"./best_model.pth\", \"n_way\": 16, \"datasets\": [{\"labels\": [\"1-10\", \"1-12\", \"1-14\", \"1-16\", \"1-18\", \"1-19\", \"1-8\", \"10-11\", \"10-17\", \"10-4\", \"10-7\", \"11-1\", \"11-10\", \"11-19\", \"11-20\", \"11-4\", \"11-7\", \"12-19\", \"12-20\", \"12-7\", \"13-14\", \"13-18\", \"13-19\", \"13-20\", \"13-3\", \"13-7\", \"14-10\", \"14-11\", \"14-12\", \"14-13\", \"14-14\", \"14-19\", \"14-20\", \"14-7\", \"14-8\", \"14-9\", \"15-1\", \"15-19\", \"15-6\", \"16-1\", \"16-16\", \"16-19\", \"16-20\", \"17-10\", \"17-11\", \"18-1\", \"18-10\", \"18-11\", \"18-12\", \"18-13\", \"18-14\", \"18-15\", \"18-16\", \"18-17\", \"18-19\", \"18-2\", \"18-20\", \"18-4\", \"18-5\", \"18-7\", \"18-8\", \"18-9\", \"19-1\", \"19-10\", \"19-11\", \"19-12\", \"19-13\", \"19-14\", \"19-15\", \"19-19\", \"19-2\", \"19-20\", \"19-3\", \"19-4\", \"19-6\", \"19-7\", \"19-8\", \"19-9\", \"2-1\", \"2-13\", \"2-15\", \"2-3\", \"2-4\", \"2-5\", \"2-6\", \"2-7\", \"2-8\", \"20-1\", \"20-12\", \"20-14\", \"20-15\", \"20-16\", \"20-18\", \"20-19\", \"20-20\", \"20-3\", \"20-4\", \"20-5\", \"20-7\", \"20-8\", \"3-1\", \"3-13\", \"3-18\", \"3-2\", \"3-8\", \"4-1\", \"4-10\", \"4-11\", \"5-1\", \"5-5\", \"6-1\", \"6-15\", \"6-6\", \"7-10\", \"7-11\", \"7-12\", \"7-13\", \"7-14\", \"7-7\", \"7-8\", \"7-9\", \"8-1\", \"8-13\", \"8-14\", \"8-18\", \"8-20\", \"8-3\", \"8-8\", \"9-1\", \"9-7\"], \"domains\": [1, 2, 3, 4], \"num_examples_per_domain_per_label\": 100, \"pickle_path\": \"/mnt/wd500GB/CSC500/csc500-main/datasets/wisig.node3-19.stratified_ds.2022A.pkl\", \"source_or_target_dataset\": \"source\", \"x_transforms\": [\"unit_power\"], \"episode_transforms\": [], \"domain_prefix\": \"Wisig_\"}, {\"labels\": [\"3123D52\", \"3123D65\", \"3123D79\", \"3123D80\", \"3123D54\", \"3123D70\", \"3123D7B\", \"3123D89\", \"3123D58\", \"3123D76\", \"3123D7D\", \"3123EFE\", \"3123D64\", \"3123D78\", \"3123D7E\", \"3124E4A\"], \"domains\": [32, 38, 8, 44, 14, 50, 20, 26], \"num_examples_per_domain_per_label\": 10000, \"pickle_path\": \"/mnt/wd500GB/CSC500/csc500-main/datasets/oracle.Run1_10kExamples_stratified_ds.2022A.pkl\", \"source_or_target_dataset\": \"target\", \"x_transforms\": [\"unit_power\"], \"episode_transforms\": [], \"domain_prefix\": \"ORACLE.run1\"}], \"domains_source\": [\"Wisig_1\", \"Wisig_2\", \"Wisig_3\", \"Wisig_4\"], \"domains_target\": [\"ORACLE.run132\", \"ORACLE.run138\", \"ORACLE.run18\", \"ORACLE.run144\", \"ORACLE.run114\", \"ORACLE.run150\", \"ORACLE.run120\", \"ORACLE.run126\"]}, \"results\": {\"source_test_label_accuracy\": 0.9453125, \"source_test_label_loss\": 0.23196488618850708, \"target_test_label_accuracy\": 0.10329427083333333, \"target_test_label_loss\": 2.7610843181610107, \"source_val_label_accuracy\": 0.9581705729166666, \"source_val_label_loss\": 0.2014189213514328, \"target_val_label_accuracy\": 0.10374348958333333, \"target_val_label_loss\": 2.7603676319122314, \"total_epochs_trained\": 7, \"total_experiment_time_secs\": 584.691083908081, \"confusion\": {\"Wisig_3\": {\"109\": {\"109\": 12}, \"127\": {\"127\": 12}, \"14\": {\"14\": 12}, \"7\": {\"7\": 12}, \"129\": {\"129\": 12}, \"57\": {\"57\": 12}, \"84\": {\"84\": 11, \"26\": 1}, \"114\": {\"114\": 12}, \"44\": {\"44\": 11, \"80\": 1}, \"21\": {\"21\": 12}, \"46\": {\"46\": 12}, \"100\": {\"100\": 12}, \"63\": {\"63\": 9, \"84\": 1, \"92\": 1, \"60\": 1}, \"24\": {\"24\": 11, \"21\": 1}, \"107\": {\"107\": 12}, \"35\": {\"109\": 1, \"35\": 8, \"95\": 1}, \"81\": {\"81\": 12}, \"64\": {\"64\": 12}, \"59\": {\"59\": 12}, \"33\": {\"33\": 12}, \"34\": {\"34\": 11, \"75\": 1}, \"36\": {\"36\": 12}, \"79\": {\"79\": 12}, \"80\": {\"80\": 11, \"87\": 1}, \"77\": {\"77\": 12}, \"22\": {\"22\": 12}, \"124\": {\"124\": 12}, \"2\": {\"2\": 12}, \"87\": {\"87\": 11, \"24\": 1}, \"105\": {\"105\": 12}, \"95\": {\"95\": 12}, \"43\": {\"43\": 12}, \"56\": {\"56\": 10}, \"18\": {\"18\": 12}, \"85\": {\"85\": 12}, \"113\": {\"113\": 12}, \"97\": {\"97\": 12}, \"86\": {\"86\": 12}, \"128\": {\"86\": 2, \"128\": 10}, \"123\": {\"123\": 12}, \"8\": {\"8\": 12}, \"110\": {\"110\": 12}, \"126\": {\"18\": 1, \"126\": 11}, \"101\": {\"101\": 12}, \"115\": {\"115\": 12}, \"49\": {\"49\": 11, \"42\": 1}, \"45\": {\"45\": 12}, \"78\": {\"78\": 9, \"40\": 2, \"13\": 1}, \"65\": {\"65\": 9, \"46\": 1}, \"54\": {\"54\": 12}, \"31\": {\"31\": 9, \"90\": 1}, \"42\": {\"42\": 11, \"114\": 1}, \"68\": {\"68\": 12}, \"15\": {\"15\": 12}, \"69\": {\"69\": 12}, \"17\": {\"17\": 8, \"104\": 1, \"67\": 1}, \"73\": {\"73\": 12}, \"121\": {\"121\": 11, \"61\": 1}, \"102\": {\"102\": 12}, \"48\": {\"48\": 9, \"28\": 1, \"37\": 1, \"22\": 1}, \"23\": {\"23\": 10, \"112\": 1, \"59\": 1}, \"108\": {\"108\": 12}, \"53\": {\"53\": 12}, \"94\": {\"94\": 10}, \"41\": {\"41\": 12}, \"58\": {\"58\": 12}, \"29\": {\"29\": 12}, \"116\": {\"116\": 12}, \"60\": {\"60\": 11, \"122\": 1}, \"104\": {\"104\": 12}, \"106\": {\"106\": 11, \"30\": 1}, \"66\": {\"66\": 12}, \"47\": {\"47\": 12}, \"40\": {\"40\": 12}, \"82\": {\"82\": 11, \"86\": 1}, \"13\": {\"13\": 10, \"5\": 1, \"40\": 1}, \"19\": {\"19\": 12}, \"72\": {\"72\": 12}, \"9\": {\"9\": 12}, \"67\": {\"67\": 12}, \"11\": {\"11\": 12}, \"125\": {\"125\": 12}, \"76\": {\"76\": 8}, \"83\": {\"83\": 12}, \"74\": {\"74\": 11, \"24\": 1}, \"20\": {\"20\": 12}, \"119\": {\"119\": 12}, \"1\": {\"1\": 12}, \"16\": {\"16\": 12}, \"25\": {\"25\": 11, \"64\": 1}, \"90\": {\"90\": 8}, \"39\": {\"39\": 12}, \"28\": {\"28\": 12}, \"55\": {\"55\": 12}, \"117\": {\"117\": 12}, \"112\": {\"112\": 12}, \"38\": {\"38\": 12}, \"37\": {\"37\": 12}, \"120\": {\"120\": 12}, \"122\": {\"122\": 12}, \"50\": {\"50\": 12}, \"10\": {\"10\": 12}, \"5\": {\"5\": 12}, \"51\": {\"51\": 12}, \"3\": {\"3\": 10, \"70\": 1, \"12\": 1}, \"98\": {\"98\": 11, \"21\": 1}, \"70\": {\"60\": 1, \"70\": 11}, \"96\": {\"96\": 12}, \"12\": {\"12\": 12}, \"99\": {\"99\": 12}, \"52\": {\"52\": 12}, \"71\": {\"71\": 10, \"112\": 1, \"61\": 1}, \"89\": {\"89\": 12}, \"0\": {\"0\": 12}, \"4\": {\"4\": 9, \"118\": 1, \"43\": 1, \"73\": 1}, \"93\": {\"93\": 12}, \"6\": {\"6\": 9, \"34\": 1}, \"75\": {\"75\": 12}, \"62\": {\"62\": 12}, \"103\": {\"103\": 12}, \"30\": {\"30\": 12}, \"91\": {\"91\": 11, \"98\": 1}, \"27\": {\"27\": 12}, \"26\": {\"26\": 12}, \"61\": {\"61\": 12}, \"118\": {\"118\": 12}, \"92\": {\"92\": 12}, \"111\": {\"111\": 12}, \"32\": {\"32\": 11, \"85\": 1}, \"88\": {\"88\": 10}}, \"Wisig_4\": {\"28\": {\"28\": 12}, \"4\": {\"4\": 11, \"86\": 1}, \"72\": {\"72\": 12}, \"111\": {\"111\": 12}, \"108\": {\"108\": 10, \"129\": 2}, \"43\": {\"43\": 10}, \"96\": {\"96\": 12}, \"89\": {\"89\": 12}, \"31\": {\"31\": 12}, \"45\": {\"45\": 12}, \"2\": {\"2\": 12}, \"114\": {\"114\": 12}, \"11\": {\"11\": 11, \"108\": 1}, \"12\": {\"12\": 12}, \"14\": {\"14\": 12}, \"90\": {\"90\": 12}, \"10\": {\"10\": 9, \"24\": 1, \"27\": 1, \"94\": 1}, \"63\": {\"42\": 1, \"63\": 10, \"80\": 1}, \"85\": {\"85\": 11, \"54\": 1}, \"64\": {\"64\": 12}, \"82\": {\"82\": 10, \"89\": 1, \"72\": 1}, \"58\": {\"58\": 12}, \"3\": {\"3\": 12}, \"54\": {\"54\": 12}, \"121\": {\"121\": 7, \"82\": 1, \"99\": 2, \"22\": 2}, \"42\": {\"42\": 12}, \"98\": {\"98\": 12}, \"123\": {\"123\": 11, \"113\": 1}, \"91\": {\"91\": 10, \"121\": 1, \"12\": 1}, \"66\": {\"66\": 12}, \"102\": {\"102\": 12}, \"122\": {\"122\": 11, \"70\": 1}, \"1\": {\"1\": 12}, \"15\": {\"15\": 12}, \"97\": {\"15\": 1, \"108\": 1, \"97\": 9, \"91\": 1}, \"75\": {\"75\": 12}, \"95\": {\"95\": 12}, \"57\": {\"57\": 12}, \"68\": {\"68\": 12}, \"125\": {\"125\": 12}, \"62\": {\"62\": 10}, \"27\": {\"27\": 10, \"21\": 1, \"54\": 1}, \"120\": {\"120\": 11, \"23\": 1}, \"26\": {\"26\": 12}, \"55\": {\"55\": 12}, \"71\": {\"71\": 11, \"26\": 1}, \"22\": {\"22\": 12}, \"99\": {\"99\": 11, \"51\": 1}, \"84\": {\"84\": 12}, \"37\": {\"37\": 12}, \"83\": {\"83\": 12}, \"46\": {\"46\": 12}, \"35\": {\"35\": 12}, \"13\": {\"13\": 12}, \"53\": {\"53\": 10, \"69\": 1, \"21\": 1}, \"127\": {\"127\": 12}, \"69\": {\"82\": 1, \"69\": 10, \"78\": 1}, \"48\": {\"48\": 11, \"60\": 1}, \"16\": {\"16\": 12}, \"0\": {\"0\": 10, \"86\": 2}, \"8\": {\"8\": 10, \"53\": 1, \"100\": 1}, \"9\": {\"9\": 12}, \"115\": {\"115\": 11, \"72\": 1}, \"70\": {\"70\": 10, \"78\": 1, \"50\": 1}, \"119\": {\"119\": 12}, \"59\": {\"59\": 12}, \"52\": {\"52\": 12}, \"60\": {\"60\": 8, \"99\": 2, \"110\": 2}, \"44\": {\"44\": 12}, \"51\": {\"51\": 9, \"95\": 1, \"48\": 2}, \"6\": {\"6\": 11, \"58\": 1}, \"73\": {\"73\": 12}, \"78\": {\"78\": 10, \"87\": 1, \"33\": 1}, \"92\": {\"92\": 12}, \"20\": {\"20\": 11, \"5\": 1}, \"17\": {\"17\": 12}, \"74\": {\"74\": 12}, \"19\": {\"19\": 12}, \"50\": {\"50\": 12}, \"34\": {\"34\": 10, \"115\": 1, \"60\": 1}, \"104\": {\"104\": 8}, \"33\": {\"33\": 10, \"105\": 1, \"51\": 1}, \"5\": {\"5\": 12}, \"7\": {\"7\": 11, \"69\": 1}, \"29\": {\"29\": 12}, \"25\": {\"25\": 12}, \"124\": {\"124\": 12}, \"117\": {\"117\": 10, \"90\": 1, \"80\": 1}, \"88\": {\"88\": 10, \"122\": 1, \"71\": 1}, \"61\": {\"61\": 11, \"88\": 1}, \"86\": {\"86\": 12}, \"116\": {\"116\": 12}, \"24\": {\"24\": 10, \"36\": 2}, \"128\": {\"128\": 9, \"28\": 1, \"78\": 1, \"20\": 1}, \"101\": {\"101\": 12}, \"65\": {\"65\": 9, \"23\": 1}, \"36\": {\"36\": 11, \"24\": 1}, \"21\": {\"21\": 10, \"50\": 1, \"51\": 1}, \"106\": {\"106\": 12}, \"118\": {\"118\": 12}, \"113\": {\"113\": 11, \"36\": 1}, \"40\": {\"40\": 12}, \"93\": {\"93\": 7, \"110\": 1}, \"94\": {\"94\": 10, \"36\": 2}, \"103\": {\"103\": 7, \"6\": 2, \"5\": 1, \"87\": 1, \"22\": 1}, \"110\": {\"110\": 12}, \"56\": {\"56\": 12}, \"39\": {\"39\": 11, \"26\": 1}, \"109\": {\"109\": 12}, \"67\": {\"67\": 11, \"71\": 1}, \"129\": {\"129\": 12}, \"30\": {\"30\": 12}, \"126\": {\"126\": 10, \"5\": 1, \"108\": 1}, \"87\": {\"51\": 1, \"87\": 11}, \"112\": {\"112\": 12}, \"100\": {\"100\": 12}, \"79\": {\"79\": 10}, \"81\": {\"81\": 11, \"12\": 1}, \"76\": {\"76\": 10}, \"47\": {\"47\": 11, \"100\": 1}, \"77\": {\"77\": 12}, \"23\": {\"23\": 10, \"9\": 1, \"78\": 1}, \"18\": {\"18\": 12}, \"49\": {\"49\": 12}, \"41\": {\"41\": 9, \"47\": 1, \"48\": 1, \"12\": 1}, \"32\": {\"32\": 12}, \"107\": {\"107\": 10}, \"80\": {\"80\": 11, \"18\": 1}, \"105\": {\"105\": 7, \"87\": 2, \"113\": 1}, \"38\": {\"38\": 10}}, \"Wisig_1\": {\"108\": {\"108\": 10}, \"40\": {\"40\": 12}, \"68\": {\"68\": 12}, \"23\": {\"23\": 12}, \"26\": {\"70\": 1, \"26\": 11}, \"64\": {\"64\": 12}, \"22\": {\"22\": 12}, \"3\": {\"3\": 12}, \"4\": {\"4\": 10, \"40\": 1, \"78\": 1}, \"70\": {\"70\": 12}, \"57\": {\"57\": 12}, \"79\": {\"79\": 12}, \"9\": {\"9\": 11, \"103\": 1}, \"89\": {\"89\": 12}, \"110\": {\"110\": 12}, \"102\": {\"102\": 12}, \"31\": {\"31\": 12}, \"58\": {\"58\": 12}, \"47\": {\"47\": 12}, \"24\": {\"24\": 11, \"97\": 1}, \"19\": {\"19\": 12}, \"11\": {\"11\": 12}, \"52\": {\"52\": 12}, \"17\": {\"17\": 12}, \"25\": {\"25\": 12}, \"69\": {\"69\": 12}, \"96\": {\"96\": 12}, \"109\": {\"109\": 11, \"126\": 1}, \"115\": {\"115\": 12}, \"83\": {\"83\": 12}, \"84\": {\"84\": 12}, \"119\": {\"119\": 10}, \"122\": {\"122\": 10}, \"99\": {\"99\": 12}, \"1\": {\"1\": 12}, \"74\": {\"74\": 10, \"127\": 1, \"68\": 1}, \"85\": {\"85\": 12}, \"127\": {\"127\": 12}, \"111\": {\"111\": 12}, \"53\": {\"53\": 12}, \"88\": {\"88\": 10, \"36\": 2}, \"65\": {\"65\": 8, \"129\": 1, \"83\": 1}, \"7\": {\"7\": 12}, \"16\": {\"16\": 11, \"105\": 1}, \"128\": {\"128\": 12}, \"34\": {\"34\": 12}, \"129\": {\"129\": 12}, \"43\": {\"43\": 12}, \"92\": {\"92\": 12}, \"28\": {\"28\": 12}, \"27\": {\"27\": 12}, \"114\": {\"114\": 12}, \"73\": {\"73\": 12}, \"0\": {\"0\": 12}, \"104\": {\"104\": 12}, \"118\": {\"118\": 12}, \"41\": {\"41\": 12}, \"49\": {\"49\": 12}, \"14\": {\"14\": 12}, \"46\": {\"22\": 1, \"46\": 9, \"76\": 1, \"12\": 1}, \"33\": {\"33\": 12}, \"76\": {\"76\": 12}, \"125\": {\"125\": 12}, \"86\": {\"86\": 10}, \"66\": {\"66\": 10, \"61\": 1, \"115\": 1}, \"5\": {\"5\": 12}, \"117\": {\"117\": 12}, \"75\": {\"75\": 12}, \"61\": {\"61\": 12}, \"50\": {\"50\": 11, \"12\": 1}, \"67\": {\"67\": 10}, \"18\": {\"18\": 12}, \"98\": {\"98\": 12}, \"55\": {\"55\": 10}, \"32\": {\"32\": 12}, \"120\": {\"120\": 12}, \"97\": {\"97\": 11, \"24\": 1}, \"126\": {\"126\": 12}, \"45\": {\"45\": 11, \"61\": 1}, \"78\": {\"78\": 9, \"43\": 1}, \"100\": {\"100\": 12}, \"107\": {\"107\": 12}, \"93\": {\"93\": 11, \"3\": 1}, \"77\": {\"77\": 12}, \"63\": {\"63\": 12}, \"112\": {\"112\": 12}, \"113\": {\"113\": 12}, \"103\": {\"103\": 10}, \"71\": {\"71\": 12}, \"30\": {\"30\": 12}, \"90\": {\"90\": 12}, \"37\": {\"103\": 1, \"37\": 11}, \"60\": {\"60\": 10, \"119\": 1, \"49\": 1}, \"15\": {\"15\": 12}, \"39\": {\"39\": 12}, \"72\": {\"72\": 12}, \"54\": {\"54\": 12}, \"35\": {\"35\": 12}, \"2\": {\"2\": 12}, \"94\": {\"94\": 11, \"83\": 1}, \"42\": {\"42\": 10, \"100\": 1, \"109\": 1}, \"81\": {\"81\": 12}, \"8\": {\"8\": 11, \"29\": 1}, \"87\": {\"87\": 12}, \"6\": {\"6\": 12}, \"36\": {\"36\": 11, \"88\": 1}, \"91\": {\"91\": 12}, \"56\": {\"56\": 12}, \"80\": {\"80\": 12}, \"124\": {\"124\": 10}, \"44\": {\"44\": 12}, \"13\": {\"13\": 12}, \"10\": {\"10\": 10, \"78\": 1, \"43\": 1}, \"59\": {\"59\": 12}, \"95\": {\"95\": 12}, \"105\": {\"105\": 11, \"66\": 1}, \"101\": {\"101\": 12}, \"20\": {\"20\": 12}, \"48\": {\"48\": 11, \"123\": 1}, \"106\": {\"106\": 12}, \"51\": {\"51\": 12}, \"21\": {\"84\": 3, \"87\": 1, \"21\": 6, \"78\": 1, \"23\": 1}, \"123\": {\"123\": 12}, \"121\": {\"121\": 11, \"26\": 1}, \"38\": {\"38\": 12}, \"62\": {\"62\": 12}, \"29\": {\"29\": 12}, \"82\": {\"82\": 12}, \"116\": {\"116\": 12}, \"12\": {\"12\": 8}}, \"Wisig_2\": {\"91\": {\"91\": 11, \"17\": 1}, \"12\": {\"12\": 11, \"4\": 1}, \"101\": {\"101\": 10}, \"121\": {\"117\": 3, \"72\": 1, \"121\": 8}, \"118\": {\"118\": 12}, \"10\": {\"10\": 12}, \"117\": {\"117\": 12}, \"110\": {\"110\": 11, \"10\": 1}, \"97\": {\"97\": 10, \"12\": 1, \"2\": 1}, \"28\": {\"17\": 1, \"28\": 8, \"124\": 1, \"22\": 1, \"33\": 1}, \"88\": {\"110\": 1, \"88\": 11}, \"17\": {\"17\": 10, \"91\": 1, \"62\": 1}, \"126\": {\"126\": 12}, \"33\": {\"33\": 12}, \"86\": {\"86\": 12}, \"106\": {\"106\": 12}, \"54\": {\"54\": 12}, \"125\": {\"125\": 12}, \"83\": {\"83\": 12}, \"98\": {\"98\": 12}, \"11\": {\"11\": 10, \"114\": 1, \"40\": 1}, \"32\": {\"106\": 1, \"32\": 11}, \"42\": {\"42\": 11, \"44\": 1}, \"103\": {\"103\": 12}, \"87\": {\"87\": 11, \"70\": 1}, \"61\": {\"118\": 1, \"61\": 10, \"102\": 1}, \"13\": {\"13\": 12}, \"4\": {\"4\": 12}, \"15\": {\"15\": 10}, \"120\": {\"120\": 12}, \"80\": {\"80\": 12}, \"72\": {\"72\": 10}, \"64\": {\"64\": 11, \"34\": 1}, \"81\": {\"81\": 12}, \"102\": {\"102\": 12}, \"76\": {\"76\": 12}, \"49\": {\"49\": 8, \"73\": 1, \"21\": 1}, \"129\": {\"129\": 12}, \"89\": {\"89\": 12}, \"52\": {\"52\": 12}, \"35\": {\"35\": 12}, \"53\": {\"53\": 10, \"40\": 1, \"87\": 1}, \"112\": {\"112\": 12}, \"105\": {\"105\": 12}, \"100\": {\"100\": 12}, \"9\": {\"9\": 12}, \"82\": {\"82\": 12}, \"51\": {\"51\": 11, \"77\": 1}, \"21\": {\"21\": 12}, \"92\": {\"92\": 11, \"84\": 1}, \"69\": {\"69\": 12}, \"77\": {\"77\": 12}, \"50\": {\"50\": 11, \"88\": 1}, \"36\": {\"36\": 12}, \"16\": {\"16\": 10, \"24\": 1, \"36\": 1}, \"8\": {\"18\": 1, \"8\": 10, \"120\": 1}, \"127\": {\"127\": 12}, \"46\": {\"46\": 10}, \"84\": {\"84\": 12}, \"18\": {\"18\": 12}, \"123\": {\"123\": 10}, \"56\": {\"56\": 11, \"15\": 1}, \"26\": {\"26\": 12}, \"14\": {\"109\": 1, \"14\": 7, \"107\": 1, \"83\": 1, \"43\": 1, \"40\": 1}, \"109\": {\"109\": 11, \"69\": 1}, \"66\": {\"66\": 12}, \"24\": {\"24\": 11, \"11\": 1}, \"71\": {\"71\": 12}, \"65\": {\"65\": 10, \"92\": 1, \"51\": 1}, \"75\": {\"75\": 11, \"21\": 1}, \"111\": {\"111\": 12}, \"30\": {\"30\": 11, \"42\": 1}, \"85\": {\"85\": 12}, \"113\": {\"113\": 9, \"21\": 1}, \"45\": {\"45\": 12}, \"29\": {\"29\": 12}, \"20\": {\"20\": 12}, \"25\": {\"25\": 12}, \"0\": {\"0\": 12}, \"68\": {\"68\": 12}, \"119\": {\"119\": 12}, \"90\": {\"90\": 12}, \"38\": {\"38\": 12}, \"99\": {\"99\": 12}, \"1\": {\"1\": 12}, \"67\": {\"67\": 9, \"109\": 2, \"61\": 1}, \"63\": {\"63\": 12}, \"34\": {\"34\": 12}, \"108\": {\"108\": 12}, \"40\": {\"40\": 12}, \"47\": {\"47\": 12}, \"37\": {\"37\": 12}, \"78\": {\"78\": 11, \"43\": 1}, \"96\": {\"96\": 12}, \"43\": {\"43\": 9, \"21\": 1, \"70\": 2}, \"5\": {\"5\": 10}, \"124\": {\"124\": 12}, \"44\": {\"44\": 12}, \"41\": {\"41\": 11, \"51\": 1}, \"116\": {\"116\": 12}, \"19\": {\"19\": 11, \"82\": 1}, \"115\": {\"115\": 11, \"7\": 1}, \"95\": {\"95\": 11, \"105\": 1}, \"3\": {\"3\": 10}, \"59\": {\"59\": 12}, \"55\": {\"55\": 11, \"22\": 1}, \"70\": {\"70\": 10, \"33\": 2}, \"6\": {\"6\": 12}, \"2\": {\"2\": 12}, \"48\": {\"48\": 12}, \"23\": {\"23\": 11, \"122\": 1}, \"7\": {\"7\": 12}, \"122\": {\"122\": 12}, \"57\": {\"57\": 10, \"108\": 1, \"59\": 1}, \"39\": {\"39\": 9, \"108\": 1}, \"79\": {\"79\": 12}, \"27\": {\"27\": 10}, \"74\": {\"74\": 9, \"17\": 1, \"36\": 1, \"51\": 1}, \"73\": {\"73\": 12}, \"62\": {\"62\": 12}, \"107\": {\"107\": 12}, \"128\": {\"128\": 12}, \"60\": {\"60\": 11, \"116\": 1}, \"114\": {\"114\": 12}, \"22\": {\"22\": 12}, \"93\": {\"93\": 12}, \"94\": {\"94\": 11, \"68\": 1}, \"31\": {\"31\": 10}, \"104\": {\"104\": 12}, \"58\": {\"58\": 12}}, \"ORACLE.run114\": {\"15\": {\"12\": 25, \"1\": 94, \"13\": 93, \"14\": 83, \"4\": 88, \"8\": 44, \"5\": 111, \"15\": 127, \"3\": 63, \"11\": 45, \"10\": 75, \"7\": 111, \"6\": 74, \"2\": 82, \"0\": 57, \"9\": 28}, \"3\": {\"6\": 88, \"14\": 89, \"0\": 90, \"7\": 67, \"8\": 57, \"13\": 67, \"11\": 83, \"12\": 47, \"3\": 91, \"15\": 64, \"10\": 89, \"2\": 78, \"5\": 91, \"4\": 69, \"1\": 69, \"9\": 61}, \"6\": {\"12\": 24, \"6\": 131, \"10\": 95, \"11\": 68, \"14\": 114, \"0\": 69, \"7\": 61, \"13\": 113, \"5\": 84, \"15\": 75, \"9\": 29, \"4\": 68, \"3\": 78, \"2\": 115, \"8\": 15, \"1\": 61}, \"1\": {\"6\": 58, \"10\": 89, \"13\": 56, \"7\": 102, \"4\": 82, \"11\": 73, \"5\": 79, \"9\": 79, \"14\": 50, \"8\": 82, \"0\": 78, \"15\": 69, \"12\": 52, \"1\": 98, \"3\": 104, \"2\": 49}, \"8\": {\"8\": 185, \"5\": 61, \"3\": 54, \"1\": 77, \"12\": 159, \"7\": 80, \"9\": 148, \"4\": 56, \"15\": 45, \"6\": 34, \"11\": 84, \"0\": 62, \"14\": 30, \"10\": 57, \"13\": 30, \"2\": 38}, \"10\": {\"5\": 85, \"0\": 94, \"1\": 49, \"15\": 57, \"8\": 47, \"6\": 79, \"12\": 66, \"14\": 78, \"7\": 66, \"4\": 81, \"10\": 101, \"13\": 83, \"2\": 65, \"11\": 98, \"9\": 75, \"3\": 76}, \"9\": {\"5\": 69, \"0\": 87, \"10\": 70, \"6\": 35, \"7\": 46, \"11\": 94, \"9\": 173, \"8\": 124, \"15\": 39, \"12\": 154, \"1\": 84, \"3\": 58, \"2\": 41, \"4\": 49, \"13\": 30, \"14\": 47}, \"13\": {\"5\": 83, \"8\": 23, \"0\": 57, \"10\": 74, \"1\": 56, \"4\": 88, \"15\": 93, \"6\": 105, \"3\": 72, \"7\": 80, \"14\": 114, \"11\": 90, \"13\": 117, \"2\": 103, \"12\": 20, \"9\": 25}, \"12\": {\"12\": 194, \"7\": 41, \"11\": 94, \"8\": 130, \"6\": 35, \"9\": 193, \"3\": 69, \"14\": 43, \"4\": 50, \"0\": 84, \"1\": 72, \"5\": 43, \"13\": 26, \"2\": 43, \"15\": 31, \"10\": 52}, \"5\": {\"11\": 71, \"14\": 85, \"13\": 79, \"15\": 90, \"2\": 70, \"1\": 84, \"6\": 85, \"5\": 89, \"7\": 93, \"10\": 81, \"0\": 67, \"4\": 88, \"12\": 36, \"9\": 58, \"3\": 72, \"8\": 52}, \"0\": {\"11\": 86, \"3\": 66, \"1\": 76, \"6\": 74, \"13\": 63, \"2\": 84, \"7\": 66, \"9\": 84, \"15\": 68, \"0\": 79, \"10\": 81, \"12\": 72, \"4\": 67, \"14\": 83, \"8\": 63, \"5\": 88}, \"2\": {\"7\": 87, \"5\": 88, \"2\": 101, \"15\": 68, \"10\": 78, \"13\": 99, \"6\": 97, \"14\": 117, \"11\": 71, \"4\": 75, \"3\": 81, \"0\": 78, \"1\": 57, \"9\": 45, \"8\": 32, \"12\": 26}, \"11\": {\"11\": 98, \"5\": 72, \"6\": 81, \"9\": 76, \"0\": 101, \"4\": 70, \"7\": 55, \"12\": 74, \"14\": 77, \"2\": 58, \"15\": 73, \"1\": 55, \"8\": 58, \"10\": 108, \"3\": 87, \"13\": 57}, \"14\": {\"5\": 87, \"6\": 112, \"2\": 105, \"14\": 122, \"11\": 69, \"10\": 86, \"8\": 19, \"4\": 79, \"15\": 71, \"3\": 89, \"13\": 106, \"12\": 24, \"0\": 76, \"1\": 56, \"9\": 40, \"7\": 59}, \"7\": {\"0\": 64, \"8\": 65, \"1\": 88, \"3\": 71, \"5\": 96, \"6\": 81, \"11\": 58, \"13\": 76, \"7\": 128, \"12\": 29, \"15\": 105, \"2\": 60, \"9\": 52, \"4\": 92, \"10\": 72, \"14\": 63}, \"4\": {\"2\": 87, \"5\": 74, \"14\": 78, \"1\": 77, \"7\": 78, \"11\": 95, \"6\": 73, \"10\": 83, \"4\": 85, \"15\": 76, \"9\": 47, \"3\": 92, \"0\": 69, \"13\": 71, \"12\": 56, \"8\": 59}}, \"ORACLE.run120\": {\"3\": {\"9\": 80, \"3\": 75, \"1\": 71, \"11\": 57, \"10\": 73, \"0\": 82, \"15\": 71, \"13\": 72, \"5\": 75, \"14\": 74, \"2\": 82, \"4\": 75, \"6\": 73, \"12\": 77, \"7\": 81, \"8\": 82}, \"15\": {\"2\": 84, \"9\": 94, \"6\": 63, \"14\": 52, \"13\": 88, \"4\": 67, \"12\": 88, \"11\": 82, \"3\": 67, \"15\": 65, \"1\": 87, \"5\": 91, \"8\": 78, \"10\": 47, \"7\": 73, \"0\": 74}, \"8\": {\"9\": 69, \"7\": 84, \"6\": 91, \"0\": 69, \"13\": 70, \"12\": 70, \"8\": 83, \"14\": 96, \"4\": 84, \"1\": 76, \"5\": 63, \"10\": 85, \"15\": 59, \"11\": 61, \"3\": 68, \"2\": 72}, \"4\": {\"1\": 78, \"11\": 50, \"14\": 96, \"15\": 53, \"12\": 88, \"3\": 80, \"10\": 87, \"8\": 95, \"5\": 70, \"13\": 60, \"7\": 78, \"2\": 59, \"4\": 84, \"0\": 78, \"6\": 79, \"9\": 65}, \"14\": {\"10\": 91, \"2\": 63, \"8\": 99, \"0\": 58, \"13\": 50, \"3\": 77, \"9\": 58, \"5\": 76, \"1\": 58, \"14\": 97, \"6\": 118, \"7\": 88, \"4\": 84, \"15\": 44, \"11\": 68, \"12\": 71}, \"0\": {\"11\": 65, \"1\": 63, \"12\": 78, \"10\": 65, \"0\": 73, \"9\": 78, \"8\": 86, \"15\": 76, \"13\": 75, \"4\": 75, \"2\": 78, \"5\": 86, \"14\": 64, \"6\": 73, \"7\": 76, \"3\": 89}, \"7\": {\"4\": 59, \"7\": 79, \"12\": 88, \"2\": 87, \"10\": 78, \"0\": 77, \"13\": 62, \"6\": 87, \"15\": 65, \"1\": 68, \"5\": 67, \"3\": 74, \"9\": 57, \"8\": 93, \"14\": 73, \"11\": 86}, \"6\": {\"7\": 81, \"11\": 58, \"13\": 47, \"0\": 57, \"10\": 98, \"14\": 102, \"1\": 59, \"9\": 74, \"6\": 86, \"8\": 98, \"15\": 55, \"3\": 74, \"5\": 86, \"4\": 76, \"12\": 74, \"2\": 75}, \"10\": {\"8\": 95, \"9\": 82, \"10\": 111, \"14\": 104, \"7\": 72, \"3\": 71, \"0\": 47, \"15\": 62, \"6\": 108, \"1\": 63, \"2\": 56, \"11\": 48, \"4\": 96, \"12\": 68, \"13\": 52, \"5\": 65}, \"5\": {\"1\": 80, \"5\": 92, \"11\": 78, \"12\": 76, \"14\": 71, \"15\": 81, \"13\": 81, \"0\": 74, \"2\": 81, \"8\": 62, \"9\": 78, \"6\": 73, \"4\": 71, \"7\": 74, \"10\": 58, \"3\": 70}, \"2\": {\"6\": 75, \"8\": 81, \"4\": 54, \"3\": 80, \"5\": 82, \"15\": 96, \"1\": 97, \"9\": 83, \"7\": 74, \"14\": 55, \"0\": 71, \"2\": 64, \"13\": 73, \"12\": 73, \"10\": 58, \"11\": 84}, \"12\": {\"12\": 87, \"1\": 65, \"0\": 84, \"4\": 67, \"5\": 88, \"10\": 69, \"13\": 85, \"15\": 74, \"2\": 66, \"9\": 90, \"3\": 82, \"11\": 76, \"7\": 87, \"6\": 73, \"8\": 62, \"14\": 45}, \"9\": {\"11\": 59, \"0\": 106, \"4\": 71, \"6\": 66, \"13\": 89, \"1\": 82, \"3\": 73, \"9\": 70, \"7\": 77, \"10\": 60, \"15\": 78, \"2\": 80, \"14\": 63, \"8\": 69, \"12\": 83, \"5\": 74}, \"1\": {\"12\": 77, \"3\": 85, \"4\": 79, \"5\": 68, \"1\": 74, \"7\": 73, \"15\": 91, \"0\": 78, \"9\": 89, \"13\": 88, \"14\": 55, \"11\": 80, \"2\": 85, \"6\": 62, \"10\": 57, \"8\": 59}, \"11\": {\"12\": 70, \"8\": 73, \"1\": 95, \"5\": 62, \"9\": 78, \"2\": 98, \"6\": 76, \"4\": 72, \"11\": 98, \"13\": 97, \"15\": 84, \"7\": 84, \"14\": 47, \"0\": 64, \"3\": 55, \"10\": 47}, \"13\": {\"5\": 78, \"7\": 81, \"3\": 73, \"2\": 84, \"9\": 63, \"1\": 94, \"12\": 94, \"15\": 81, \"4\": 70, \"11\": 97, \"0\": 88, \"14\": 61, \"10\": 39, \"6\": 45, \"13\": 91, \"8\": 61}}, \"ORACLE.run138\": {\"5\": {\"14\": 62, \"11\": 51, \"6\": 87, \"0\": 84, \"13\": 90, \"8\": 106, \"15\": 84, \"12\": 50, \"2\": 61, \"10\": 70, \"1\": 67, \"5\": 107, \"7\": 63, \"3\": 98, \"4\": 24, \"9\": 96}, \"8\": {\"10\": 82, \"3\": 76, \"6\": 77, \"1\": 71, \"5\": 91, \"11\": 52, \"15\": 79, \"0\": 92, \"13\": 76, \"9\": 90, \"7\": 72, \"12\": 50, \"8\": 98, \"2\": 74, \"14\": 82, \"4\": 38}, \"11\": {\"0\": 58, \"2\": 74, \"8\": 76, \"13\": 55, \"1\": 31, \"7\": 77, \"12\": 110, \"9\": 25, \"3\": 29, \"4\": 88, \"10\": 90, \"11\": 147, \"14\": 177, \"15\": 67, \"5\": 71, \"6\": 25}, \"1\": {\"9\": 111, \"0\": 42, \"15\": 118, \"6\": 109, \"8\": 76, \"2\": 104, \"3\": 62, \"14\": 54, \"13\": 122, \"1\": 168, \"5\": 79, \"4\": 6, \"7\": 33, \"10\": 50, \"11\": 51, \"12\": 15}, \"10\": {\"10\": 93, \"1\": 51, \"5\": 62, \"8\": 79, \"4\": 62, \"11\": 100, \"14\": 99, \"7\": 83, \"13\": 77, \"15\": 62, \"9\": 64, \"2\": 72, \"6\": 58, \"0\": 87, \"12\": 94, \"3\": 57}, \"15\": {\"14\": 77, \"1\": 120, \"2\": 122, \"7\": 62, \"10\": 73, \"6\": 99, \"13\": 80, \"8\": 84, \"5\": 88, \"9\": 61, \"0\": 68, \"15\": 105, \"3\": 56, \"11\": 63, \"4\": 14, \"12\": 28}, \"3\": {\"14\": 38, \"10\": 60, \"3\": 154, \"8\": 98, \"9\": 120, \"7\": 115, \"0\": 103, \"6\": 110, \"13\": 46, \"5\": 109, \"11\": 30, \"12\": 45, \"4\": 33, \"15\": 58, \"2\": 35, \"1\": 46}, \"7\": {\"5\": 82, \"12\": 95, \"7\": 125, \"10\": 80, \"0\": 86, \"3\": 109, \"6\": 84, \"8\": 96, \"9\": 49, \"14\": 64, \"2\": 46, \"13\": 54, \"1\": 48, \"4\": 75, \"15\": 61, \"11\": 46}, \"4\": {\"4\": 318, \"11\": 87, \"12\": 227, \"7\": 97, \"8\": 51, \"14\": 90, \"10\": 87, \"3\": 39, \"0\": 71, \"13\": 16, \"15\": 20, \"1\": 5, \"6\": 13, \"5\": 44, \"9\": 15, \"2\": 20}, \"14\": {\"12\": 86, \"2\": 92, \"4\": 59, \"7\": 67, \"8\": 74, \"3\": 40, \"13\": 66, \"10\": 108, \"5\": 72, \"0\": 56, \"11\": 124, \"15\": 71, \"1\": 51, \"14\": 147, \"6\": 54, \"9\": 33}, \"9\": {\"0\": 76, \"14\": 34, \"9\": 141, \"10\": 61, \"13\": 90, \"8\": 80, \"2\": 48, \"4\": 22, \"6\": 128, \"5\": 100, \"1\": 110, \"7\": 67, \"3\": 116, \"15\": 81, \"11\": 26, \"12\": 20}, \"12\": {\"12\": 197, \"11\": 117, \"3\": 44, \"4\": 205, \"8\": 73, \"5\": 37, \"14\": 78, \"10\": 92, \"7\": 93, \"6\": 31, \"15\": 33, \"13\": 38, \"0\": 92, \"2\": 37, \"9\": 18, \"1\": 15}, \"6\": {\"5\": 83, \"6\": 145, \"3\": 108, \"1\": 111, \"0\": 73, \"14\": 56, \"9\": 121, \"7\": 61, \"8\": 80, \"13\": 78, \"12\": 26, \"15\": 74, \"11\": 38, \"2\": 79, \"10\": 53, \"4\": 14}, \"2\": {\"9\": 69, \"2\": 138, \"6\": 92, \"1\": 108, \"11\": 86, \"5\": 54, \"15\": 111, \"14\": 91, \"7\": 44, \"10\": 88, \"13\": 93, \"3\": 35, \"8\": 79, \"4\": 19, \"12\": 42, \"0\": 51}, \"0\": {\"14\": 70, \"5\": 93, \"2\": 35, \"1\": 45, \"3\": 102, \"11\": 67, \"15\": 57, \"12\": 83, \"7\": 104, \"0\": 95, \"9\": 71, \"6\": 75, \"8\": 108, \"10\": 78, \"4\": 48, \"13\": 69}, \"13\": {\"9\": 82, \"10\": 64, \"13\": 90, \"5\": 99, \"2\": 120, \"3\": 58, \"15\": 104, \"0\": 78, \"1\": 90, \"7\": 61, \"12\": 26, \"8\": 84, \"4\": 20, \"14\": 73, \"6\": 91, \"11\": 60}}, \"ORACLE.run18\": {\"9\": {\"0\": 96, \"12\": 20, \"9\": 366, \"1\": 38, \"15\": 13, \"13\": 98, \"11\": 52, \"7\": 56, \"5\": 92, \"14\": 74, \"10\": 94, \"6\": 50, \"3\": 24, \"4\": 63, \"2\": 43, \"8\": 21}, \"10\": {\"2\": 74, \"0\": 79, \"4\": 88, \"6\": 88, \"12\": 60, \"1\": 86, \"15\": 59, \"8\": 68, \"11\": 86, \"5\": 69, \"10\": 87, \"7\": 77, \"3\": 62, \"14\": 81, \"13\": 75, \"9\": 61}, \"13\": {\"15\": 59, \"6\": 79, \"0\": 92, \"11\": 73, \"13\": 72, \"8\": 75, \"4\": 96, \"7\": 82, \"14\": 86, \"1\": 65, \"10\": 73, \"5\": 94, \"3\": 76, \"9\": 52, \"12\": 55, \"2\": 71}, \"0\": {\"0\": 91, \"3\": 75, \"1\": 70, \"2\": 73, \"11\": 90, \"10\": 93, \"9\": 63, \"12\": 56, \"14\": 67, \"6\": 81, \"8\": 65, \"13\": 74, \"15\": 56, \"5\": 77, \"4\": 68, \"7\": 101}, \"1\": {\"15\": 82, \"12\": 87, \"4\": 65, \"13\": 76, \"3\": 72, \"5\": 81, \"6\": 77, \"1\": 80, \"8\": 84, \"14\": 91, \"0\": 79, \"2\": 64, \"11\": 89, \"7\": 69, \"10\": 81, \"9\": 23}, \"15\": {\"11\": 75, \"12\": 94, \"6\": 73, \"8\": 127, \"2\": 96, \"7\": 82, \"1\": 82, \"5\": 57, \"15\": 88, \"3\": 85, \"13\": 58, \"4\": 71, \"14\": 62, \"10\": 72, \"0\": 68, \"9\": 10}, \"5\": {\"4\": 83, \"0\": 87, \"13\": 82, \"10\": 91, \"1\": 86, \"14\": 86, \"7\": 85, \"5\": 81, \"8\": 66, \"11\": 79, \"12\": 68, \"6\": 68, \"9\": 64, \"2\": 70, \"15\": 56, \"3\": 48}, \"3\": {\"4\": 82, \"14\": 69, \"13\": 59, \"11\": 75, \"2\": 103, \"5\": 54, \"6\": 64, \"12\": 96, \"1\": 59, \"10\": 51, \"3\": 122, \"15\": 93, \"7\": 97, \"8\": 98, \"0\": 67, \"9\": 11}, \"6\": {\"13\": 86, \"0\": 88, \"5\": 72, \"4\": 92, \"14\": 75, \"6\": 77, \"9\": 29, \"7\": 81, \"8\": 91, \"1\": 72, \"2\": 88, \"15\": 74, \"10\": 71, \"11\": 69, \"12\": 72, \"3\": 63}, \"11\": {\"14\": 71, \"8\": 94, \"11\": 119, \"4\": 76, \"10\": 71, \"2\": 76, \"13\": 57, \"6\": 67, \"5\": 94, \"12\": 88, \"15\": 94, \"1\": 64, \"3\": 80, \"7\": 66, \"0\": 67, \"9\": 16}, \"8\": {\"14\": 79, \"4\": 67, \"11\": 100, \"3\": 103, \"6\": 80, \"8\": 91, \"13\": 60, \"0\": 53, \"10\": 53, \"7\": 69, \"1\": 83, \"5\": 76, \"15\": 99, \"12\": 97, \"2\": 80, \"9\": 10}, \"4\": {\"8\": 75, \"6\": 81, \"4\": 81, \"12\": 65, \"15\": 70, \"7\": 76, \"0\": 88, \"3\": 81, \"11\": 68, \"2\": 81, \"5\": 85, \"14\": 83, \"1\": 67, \"10\": 74, \"13\": 77, \"9\": 48}, \"12\": {\"6\": 75, \"0\": 49, \"10\": 55, \"11\": 100, \"3\": 126, \"15\": 99, \"12\": 114, \"7\": 73, \"1\": 80, \"14\": 68, \"8\": 86, \"2\": 83, \"13\": 55, \"5\": 61, \"4\": 68, \"9\": 8}, \"14\": {\"10\": 71, \"12\": 62, \"13\": 84, \"6\": 79, \"0\": 79, \"14\": 89, \"4\": 93, \"7\": 79, \"1\": 86, \"15\": 60, \"5\": 86, \"9\": 53, \"11\": 72, \"8\": 77, \"3\": 55, \"2\": 75}, \"2\": {\"12\": 94, \"3\": 119, \"14\": 80, \"8\": 77, \"0\": 76, \"2\": 66, \"1\": 73, \"11\": 63, \"6\": 76, \"5\": 67, \"4\": 56, \"13\": 81, \"10\": 74, \"15\": 94, \"7\": 79, \"9\": 25}, \"7\": {\"11\": 62, \"2\": 75, \"14\": 69, \"3\": 85, \"5\": 56, \"8\": 80, \"1\": 79, \"0\": 102, \"7\": 86, \"12\": 75, \"10\": 83, \"6\": 98, \"9\": 36, \"15\": 60, \"13\": 75, \"4\": 79}}, \"ORACLE.run150\": {\"7\": {\"3\": 75, \"4\": 81, \"15\": 98, \"13\": 102, \"14\": 67, \"7\": 98, \"2\": 41, \"8\": 62, \"9\": 53, \"5\": 87, \"1\": 75, \"11\": 69, \"10\": 91, \"12\": 39, \"6\": 99, \"0\": 63}, \"3\": {\"3\": 188, \"12\": 33, \"9\": 18, \"5\": 69, \"4\": 55, \"8\": 145, \"7\": 92, \"1\": 56, \"10\": 130, \"15\": 38, \"2\": 67, \"6\": 59, \"14\": 52, \"11\": 38, \"0\": 86, \"13\": 74}, \"8\": {\"4\": 49, \"3\": 134, \"13\": 73, \"12\": 38, \"10\": 131, \"0\": 118, \"5\": 61, \"8\": 176, \"14\": 64, \"2\": 100, \"7\": 77, \"6\": 62, \"1\": 46, \"15\": 25, \"9\": 24, \"11\": 22}, \"2\": {\"4\": 45, \"11\": 55, \"9\": 58, \"1\": 49, \"5\": 56, \"0\": 129, \"2\": 140, \"8\": 124, \"12\": 84, \"15\": 36, \"13\": 50, \"14\": 97, \"6\": 66, \"3\": 59, \"7\": 47, \"10\": 105}, \"14\": {\"3\": 37, \"1\": 71, \"7\": 69, \"13\": 59, \"14\": 119, \"11\": 78, \"2\": 103, \"12\": 123, \"9\": 89, \"8\": 58, \"4\": 67, \"5\": 60, \"15\": 70, \"6\": 63, \"0\": 76, \"10\": 58}, \"4\": {\"13\": 88, \"9\": 87, \"1\": 104, \"5\": 94, \"15\": 109, \"4\": 97, \"2\": 42, \"7\": 74, \"0\": 45, \"3\": 60, \"12\": 58, \"11\": 82, \"14\": 60, \"8\": 35, \"10\": 70, \"6\": 95}, \"6\": {\"5\": 86, \"15\": 98, \"6\": 95, \"14\": 72, \"9\": 76, \"4\": 94, \"1\": 105, \"13\": 76, \"7\": 83, \"12\": 71, \"3\": 48, \"2\": 40, \"10\": 73, \"11\": 85, \"0\": 52, \"8\": 46}, \"15\": {\"13\": 71, \"12\": 73, \"14\": 62, \"15\": 126, \"10\": 62, \"6\": 118, \"1\": 112, \"9\": 95, \"5\": 82, \"4\": 90, \"0\": 41, \"11\": 111, \"3\": 37, \"7\": 80, \"2\": 19, \"8\": 21}, \"10\": {\"7\": 79, \"12\": 49, \"15\": 50, \"9\": 60, \"2\": 89, \"13\": 76, \"8\": 102, \"14\": 70, \"6\": 74, \"3\": 93, \"10\": 118, \"0\": 91, \"11\": 40, \"4\": 76, \"1\": 56, \"5\": 77}, \"11\": {\"15\": 110, \"9\": 101, \"7\": 81, \"4\": 93, \"10\": 43, \"1\": 89, \"12\": 86, \"11\": 110, \"5\": 108, \"3\": 31, \"13\": 70, \"8\": 20, \"14\": 84, \"6\": 93, \"0\": 43, \"2\": 38}, \"13\": {\"3\": 71, \"9\": 63, \"10\": 82, \"1\": 82, \"13\": 95, \"5\": 107, \"4\": 88, \"14\": 65, \"8\": 54, \"15\": 76, \"12\": 61, \"0\": 71, \"7\": 88, \"6\": 80, \"2\": 46, \"11\": 71}, \"9\": {\"11\": 118, \"12\": 95, \"13\": 60, \"14\": 97, \"3\": 27, \"1\": 84, \"7\": 68, \"0\": 54, \"10\": 52, \"6\": 80, \"9\": 135, \"15\": 98, \"4\": 93, \"5\": 73, \"8\": 19, \"2\": 47}, \"0\": {\"0\": 120, \"10\": 87, \"14\": 81, \"9\": 56, \"4\": 47, \"2\": 134, \"13\": 78, \"6\": 63, \"7\": 66, \"5\": 45, \"8\": 117, \"12\": 58, \"1\": 64, \"11\": 48, \"15\": 39, \"3\": 97}, \"1\": {\"4\": 85, \"7\": 85, \"11\": 91, \"6\": 97, \"2\": 46, \"10\": 70, \"9\": 80, \"15\": 93, \"13\": 79, \"3\": 48, \"5\": 100, \"12\": 74, \"0\": 48, \"1\": 94, \"8\": 40, \"14\": 70}, \"12\": {\"6\": 76, \"12\": 159, \"1\": 71, \"4\": 63, \"11\": 96, \"14\": 113, \"2\": 98, \"13\": 53, \"8\": 44, \"5\": 55, \"0\": 63, \"10\": 68, \"7\": 43, \"9\": 98, \"15\": 68, \"3\": 32}, \"5\": {\"15\": 104, \"12\": 36, \"5\": 113, \"0\": 53, \"3\": 58, \"7\": 79, \"10\": 73, \"1\": 91, \"8\": 51, \"4\": 94, \"11\": 71, \"6\": 116, \"9\": 72, \"14\": 61, \"2\": 35, \"13\": 93}}, \"ORACLE.run132\": {\"8\": {\"3\": 104, \"11\": 93, \"5\": 103, \"4\": 94, \"9\": 59, \"2\": 72, \"13\": 115, \"14\": 85, \"0\": 98, \"15\": 88, \"8\": 113, \"7\": 93, \"1\": 14, \"12\": 40, \"10\": 23, \"6\": 6}, \"14\": {\"0\": 112, \"3\": 73, \"2\": 109, \"12\": 34, \"13\": 99, \"5\": 110, \"9\": 59, \"11\": 125, \"14\": 127, \"15\": 47, \"7\": 96, \"8\": 70, \"4\": 111, \"6\": 12, \"10\": 11, \"1\": 5}, \"2\": {\"5\": 85, \"0\": 97, \"13\": 60, \"2\": 119, \"15\": 29, \"12\": 57, \"8\": 84, \"14\": 117, \"9\": 80, \"4\": 113, \"11\": 110, \"3\": 65, \"6\": 26, \"7\": 98, \"10\": 41, \"1\": 19}, \"0\": {\"12\": 53, \"14\": 100, \"2\": 93, \"0\": 108, \"4\": 100, \"10\": 31, \"9\": 77, \"13\": 88, \"8\": 84, \"7\": 94, \"5\": 106, \"15\": 46, \"3\": 81, \"6\": 17, \"11\": 108, \"1\": 14}, \"1\": {\"12\": 152, \"10\": 274, \"1\": 327, \"9\": 74, \"13\": 11, \"3\": 12, \"6\": 234, \"0\": 10, \"8\": 11, \"11\": 7, \"2\": 24, \"5\": 10, \"14\": 14, \"4\": 21, \"7\": 11, \"15\": 8}, \"10\": {\"9\": 110, \"10\": 280, \"11\": 16, \"12\": 171, \"2\": 35, \"6\": 132, \"0\": 41, \"5\": 20, \"1\": 258, \"4\": 38, \"7\": 18, \"14\": 16, \"3\": 9, \"13\": 23, \"8\": 19, \"15\": 14}, \"11\": {\"7\": 104, \"13\": 91, \"0\": 109, \"11\": 126, \"5\": 112, \"2\": 113, \"12\": 47, \"8\": 76, \"3\": 92, \"14\": 105, \"4\": 107, \"9\": 46, \"6\": 16, \"15\": 43, \"10\": 10, \"1\": 3}, \"5\": {\"9\": 53, \"15\": 80, \"0\": 94, \"14\": 92, \"8\": 114, \"13\": 103, \"5\": 109, \"11\": 84, \"3\": 100, \"7\": 94, \"4\": 112, \"2\": 106, \"12\": 26, \"10\": 20, \"1\": 4, \"6\": 9}, \"15\": {\"15\": 292, \"7\": 53, \"13\": 121, \"5\": 90, \"9\": 18, \"3\": 166, \"0\": 77, \"14\": 54, \"11\": 56, \"8\": 136, \"4\": 54, \"2\": 43, \"10\": 6, \"12\": 29, \"1\": 4, \"6\": 1}, \"3\": {\"4\": 86, \"13\": 136, \"15\": 128, \"14\": 73, \"8\": 115, \"2\": 53, \"3\": 156, \"5\": 105, \"11\": 99, \"10\": 16, \"7\": 85, \"0\": 89, \"12\": 26, \"9\": 25, \"6\": 4, \"1\": 4}, \"12\": {\"6\": 102, \"9\": 132, \"14\": 36, \"10\": 159, \"12\": 190, \"1\": 120, \"11\": 37, \"2\": 72, \"7\": 58, \"0\": 56, \"8\": 43, \"13\": 47, \"5\": 34, \"4\": 70, \"3\": 27, \"15\": 17}, \"7\": {\"4\": 98, \"15\": 35, \"14\": 106, \"11\": 116, \"0\": 104, \"3\": 91, \"5\": 91, \"7\": 96, \"12\": 51, \"8\": 86, \"6\": 19, \"9\": 77, \"2\": 112, \"13\": 88, \"10\": 20, \"1\": 10}, \"13\": {\"9\": 44, \"7\": 82, \"14\": 92, \"4\": 87, \"5\": 100, \"15\": 102, \"8\": 113, \"13\": 100, \"3\": 122, \"11\": 87, \"10\": 26, \"0\": 114, \"2\": 76, \"12\": 39, \"1\": 9, \"6\": 7}, \"6\": {\"9\": 115, \"12\": 129, \"10\": 155, \"1\": 228, \"2\": 50, \"6\": 371, \"0\": 34, \"4\": 27, \"14\": 20, \"11\": 7, \"3\": 7, \"5\": 12, \"7\": 28, \"13\": 9, \"8\": 8}, \"4\": {\"11\": 107, \"0\": 103, \"9\": 80, \"14\": 102, \"7\": 97, \"4\": 98, \"5\": 85, \"3\": 80, \"10\": 17, \"12\": 54, \"13\": 103, \"8\": 107, \"2\": 100, \"15\": 44, \"1\": 13, \"6\": 10}, \"9\": {\"8\": 66, \"7\": 72, \"1\": 61, \"12\": 137, \"5\": 57, \"0\": 72, \"6\": 107, \"9\": 125, \"11\": 70, \"3\": 35, \"10\": 97, \"14\": 62, \"2\": 103, \"4\": 67, \"15\": 16, \"13\": 53}}, \"ORACLE.run126\": {\"4\": {\"3\": 76, \"0\": 108, \"7\": 95, \"11\": 38, \"1\": 101, \"4\": 88, \"9\": 64, \"13\": 57, \"10\": 78, \"5\": 58, \"2\": 69, \"8\": 71, \"12\": 49, \"14\": 89, \"15\": 91, \"6\": 68}, \"12\": {\"14\": 71, \"7\": 79, \"11\": 91, \"6\": 74, \"5\": 88, \"12\": 105, \"8\": 64, \"9\": 60, \"10\": 74, \"4\": 60, \"13\": 88, \"15\": 88, \"3\": 69, \"0\": 71, \"1\": 53, \"2\": 65}, \"10\": {\"7\": 84, \"14\": 67, \"10\": 93, \"13\": 66, \"5\": 62, \"1\": 84, \"0\": 81, \"12\": 76, \"3\": 90, \"9\": 80, \"4\": 87, \"2\": 75, \"8\": 94, \"15\": 60, \"11\": 26, \"6\": 75}, \"0\": {\"4\": 100, \"3\": 95, \"11\": 39, \"12\": 56, \"5\": 58, \"9\": 79, \"0\": 83, \"10\": 88, \"15\": 57, \"7\": 93, \"8\": 94, \"2\": 74, \"6\": 72, \"14\": 88, \"1\": 85, \"13\": 39}, \"13\": {\"11\": 113, \"15\": 87, \"5\": 83, \"10\": 76, \"3\": 93, \"1\": 66, \"8\": 62, \"0\": 57, \"13\": 94, \"6\": 54, \"14\": 44, \"9\": 80, \"7\": 74, \"12\": 99, \"2\": 75, \"4\": 43}, \"9\": {\"14\": 68, \"15\": 74, \"12\": 74, \"1\": 66, \"0\": 72, \"3\": 76, \"5\": 100, \"4\": 68, \"10\": 77, \"6\": 82, \"8\": 85, \"9\": 86, \"11\": 61, \"7\": 73, \"2\": 70, \"13\": 68}, \"3\": {\"10\": 75, \"12\": 59, \"6\": 77, \"8\": 89, \"1\": 80, \"5\": 80, \"9\": 66, \"7\": 84, \"14\": 98, \"15\": 92, \"13\": 47, \"4\": 85, \"3\": 74, \"2\": 77, \"0\": 88, \"11\": 29}, \"2\": {\"4\": 78, \"0\": 70, \"5\": 82, \"7\": 79, \"2\": 73, \"10\": 75, \"8\": 81, \"9\": 70, \"14\": 75, \"6\": 86, \"13\": 69, \"11\": 53, \"15\": 85, \"1\": 79, \"12\": 63, \"3\": 82}, \"5\": {\"13\": 84, \"11\": 84, \"5\": 104, \"14\": 59, \"12\": 84, \"0\": 47, \"4\": 64, \"7\": 63, \"9\": 78, \"15\": 94, \"8\": 75, \"6\": 71, \"3\": 96, \"1\": 51, \"10\": 66, \"2\": 80}, \"14\": {\"15\": 62, \"12\": 72, \"1\": 100, \"0\": 87, \"10\": 108, \"11\": 20, \"13\": 56, \"14\": 91, \"7\": 99, \"2\": 67, \"4\": 87, \"9\": 66, \"3\": 92, \"5\": 52, \"8\": 79, \"6\": 62}, \"8\": {\"6\": 71, \"0\": 89, \"12\": 58, \"3\": 98, \"2\": 62, \"15\": 70, \"14\": 96, \"5\": 69, \"10\": 86, \"4\": 79, \"1\": 85, \"11\": 41, \"7\": 64, \"13\": 65, \"8\": 93, \"9\": 74}, \"7\": {\"3\": 88, \"14\": 83, \"15\": 70, \"4\": 80, \"6\": 68, \"0\": 88, \"5\": 73, \"7\": 69, \"10\": 98, \"1\": 82, \"12\": 55, \"8\": 96, \"13\": 64, \"2\": 81, \"9\": 74, \"11\": 31}, \"6\": {\"5\": 73, \"10\": 77, \"1\": 77, \"7\": 76, \"15\": 79, \"2\": 77, \"14\": 77, \"11\": 72, \"13\": 77, \"4\": 65, \"9\": 83, \"0\": 70, \"12\": 77, \"8\": 83, \"6\": 72, \"3\": 65}, \"11\": {\"6\": 67, \"5\": 100, \"11\": 266, \"1\": 27, \"2\": 56, \"14\": 30, \"13\": 129, \"15\": 83, \"12\": 115, \"7\": 36, \"8\": 58, \"10\": 43, \"0\": 39, \"4\": 41, \"3\": 39, \"9\": 71}, \"15\": {\"15\": 85, \"11\": 74, \"3\": 76, \"10\": 83, \"13\": 62, \"5\": 79, \"2\": 98, \"14\": 62, \"6\": 58, \"7\": 81, \"9\": 74, \"12\": 65, \"1\": 77, \"0\": 69, \"4\": 79, \"8\": 78}, \"1\": {\"9\": 72, \"4\": 93, \"5\": 66, \"0\": 98, \"8\": 83, \"15\": 69, \"1\": 112, \"12\": 40, \"14\": 88, \"7\": 80, \"2\": 82, \"10\": 105, \"3\": 73, \"6\": 77, \"11\": 26, \"13\": 36}}, \"ORACLE.run144\": {\"12\": {\"1\": 117, \"10\": 113, \"14\": 59, \"7\": 94, \"12\": 132, \"5\": 37, \"13\": 97, \"11\": 71, \"9\": 94, \"3\": 129, \"4\": 47, \"2\": 88, \"6\": 71, \"0\": 19, \"15\": 23, \"8\": 9}, \"7\": {\"10\": 112, \"7\": 110, \"14\": 45, \"12\": 110, \"13\": 100, \"1\": 105, \"6\": 110, \"9\": 95, \"15\": 23, \"3\": 76, \"2\": 94, \"11\": 118, \"5\": 28, \"4\": 56, \"8\": 6, \"0\": 12}, \"5\": {\"4\": 117, \"9\": 41, \"0\": 141, \"5\": 165, \"14\": 142, \"3\": 53, \"7\": 38, \"8\": 138, \"2\": 37, \"15\": 124, \"11\": 31, \"12\": 38, \"1\": 39, \"13\": 48, \"10\": 24, \"6\": 24}, \"15\": {\"3\": 60, \"5\": 125, \"15\": 166, \"7\": 25, \"4\": 116, \"8\": 177, \"0\": 192, \"13\": 23, \"14\": 125, \"12\": 48, \"1\": 56, \"2\": 18, \"9\": 30, \"6\": 16, \"11\": 15, \"10\": 8}, \"8\": {\"8\": 263, \"0\": 243, \"15\": 184, \"3\": 48, \"4\": 80, \"14\": 124, \"5\": 126, \"13\": 18, \"1\": 23, \"7\": 17, \"2\": 10, \"9\": 20, \"10\": 7, \"12\": 23, \"11\": 8, \"6\": 6}, \"2\": {\"2\": 115, \"1\": 94, \"14\": 33, \"6\": 91, \"12\": 118, \"10\": 103, \"11\": 119, \"3\": 87, \"7\": 109, \"8\": 6, \"13\": 114, \"9\": 106, \"5\": 31, \"0\": 13, \"4\": 48, \"15\": 13}, \"13\": {\"7\": 109, \"9\": 117, \"14\": 62, \"2\": 100, \"6\": 115, \"13\": 128, \"4\": 56, \"3\": 54, \"0\": 19, \"1\": 87, \"11\": 134, \"12\": 75, \"10\": 81, \"5\": 32, \"15\": 21, \"8\": 10}, \"4\": {\"4\": 124, \"10\": 38, \"15\": 98, \"7\": 59, \"6\": 65, \"2\": 36, \"13\": 53, \"0\": 83, \"5\": 105, \"14\": 131, \"3\": 80, \"8\": 61, \"12\": 67, \"1\": 71, \"9\": 81, \"11\": 48}, \"0\": {\"5\": 151, \"15\": 189, \"4\": 102, \"14\": 131, \"8\": 209, \"2\": 17, \"0\": 215, \"7\": 19, \"3\": 53, \"1\": 25, \"9\": 12, \"11\": 7, \"10\": 6, \"12\": 32, \"13\": 24, \"6\": 8}, \"6\": {\"9\": 97, \"11\": 172, \"7\": 107, \"13\": 141, \"10\": 95, \"3\": 46, \"1\": 64, \"4\": 37, \"6\": 166, \"2\": 105, \"12\": 89, \"5\": 25, \"0\": 6, \"14\": 35, \"8\": 5, \"15\": 10}, \"9\": {\"12\": 99, \"4\": 67, \"15\": 24, \"8\": 6, \"7\": 98, \"10\": 90, \"2\": 98, \"3\": 82, \"6\": 97, \"1\": 89, \"13\": 113, \"14\": 58, \"9\": 116, \"11\": 115, \"5\": 38, \"0\": 10}, \"11\": {\"10\": 86, \"11\": 200, \"3\": 51, \"6\": 141, \"13\": 151, \"2\": 94, \"5\": 22, \"9\": 116, \"1\": 77, \"14\": 32, \"12\": 64, \"7\": 97, \"8\": 6, \"4\": 45, \"15\": 8, \"0\": 10}, \"10\": {\"9\": 100, \"13\": 92, \"6\": 95, \"14\": 26, \"12\": 112, \"11\": 106, \"2\": 94, \"3\": 110, \"7\": 107, \"10\": 141, \"1\": 110, \"4\": 48, \"0\": 12, \"15\": 19, \"5\": 21, \"8\": 7}, \"14\": {\"9\": 67, \"3\": 78, \"8\": 77, \"4\": 135, \"14\": 130, \"2\": 46, \"0\": 111, \"5\": 132, \"11\": 40, \"12\": 52, \"13\": 48, \"15\": 101, \"6\": 34, \"1\": 68, \"7\": 47, \"10\": 34}, \"1\": {\"3\": 113, \"4\": 69, \"10\": 113, \"14\": 54, \"7\": 105, \"2\": 95, \"12\": 139, \"6\": 83, \"1\": 119, \"9\": 84, \"15\": 28, \"11\": 79, \"13\": 58, \"5\": 28, \"8\": 10, \"0\": 23}, \"3\": {\"12\": 121, \"4\": 89, \"1\": 115, \"15\": 44, \"7\": 86, \"10\": 83, \"13\": 82, \"2\": 84, \"14\": 82, \"0\": 39, \"9\": 78, \"3\": 111, \"5\": 59, \"6\": 51, \"11\": 56, \"8\": 20}}}, \"per_domain_accuracy\": {\"Wisig_3\": {\"accuracy\": 0.96875, \"source?\": true}, \"Wisig_4\": {\"accuracy\": 0.9375, \"source?\": true}, \"Wisig_1\": {\"accuracy\": 0.97265625, \"source?\": true}, \"Wisig_2\": {\"accuracy\": 0.9537760416666666, \"source?\": true}, \"ORACLE.run114\": {\"accuracy\": 0.09994791666666666, \"source?\": false}, \"ORACLE.run120\": {\"accuracy\": 0.06921875, \"source?\": false}, \"ORACLE.run138\": {\"accuracy\": 0.118125, \"source?\": false}, \"ORACLE.run18\": {\"accuracy\": 0.0890625, \"source?\": false}, \"ORACLE.run150\": {\"accuracy\": 0.10328125, \"source?\": false}, \"ORACLE.run132\": {\"accuracy\": 0.14255208333333333, \"source?\": false}, \"ORACLE.run126\": {\"accuracy\": 0.08270833333333333, \"source?\": false}, \"ORACLE.run144\": {\"accuracy\": 0.12505208333333334, \"source?\": false}}}, \"history\": {\"epoch_indices\": [1, 2, 3, 4, 5, 6, 7], \"train_label_loss\": [0.3914276389135483, 0.2161577652737133, 0.16786991647664531, 0.1327850395718186, 0.11274312721024113, 0.09384256216072204, 0.07502036975861734], \"source_val_label_loss\": [0.2724910080432892, 0.22522807121276855, 0.2014189213514328, 0.2111409306526184, 0.19858968257904053, 0.1846994161605835, 0.1959993839263916], \"target_val_label_loss\": [2.7664990425109863, 2.7891719341278076, 2.7603676319122314, 2.7990682125091553, 2.8322174549102783, 2.845273017883301, 2.876758575439453], \"source_val_acc_label\": [0.9352213541666666, 0.9514973958333334, 0.9581705729166666, 0.9562174479166666, 0.9601236979166666, 0.9641927083333334, 0.9619140625], \"target_val_acc_label\": [0.10098958333333333, 0.09292317708333334, 0.10374348958333333, 0.09747395833333333, 0.09625651041666666, 0.098359375, 0.08963541666666666]}, \"dataset_metrics\": {\"source\": {\"train\": {\"n_unique_x\": 36400, \"n_unique_y\": 130, \"n_batch/episode\": 1347}, \"val\": {\"n_unique_x\": 7800, \"n_unique_y\": 130, \"n_batch/episode\": 192}, \"test\": {\"n_unique_x\": 7800, \"n_unique_y\": 130, \"n_batch/episode\": 192}}, \"target\": {\"train\": {\"n_unique_x\": 896000, \"n_unique_y\": 16, \"n_batch/episode\": 33600}, \"val\": {\"n_unique_x\": 192000, \"n_unique_y\": 16, \"n_batch/episode\": 4800}, \"test\": {\"n_unique_x\": 192000, \"n_unique_y\": 16, \"n_batch/episode\": 4800}}}}'"
      ]
     },
     "execution_count": 29,
     "metadata": {},
     "output_type": "execute_result"
    }
   ],
   "source": [
    "json.dumps(experiment)"
   ]
  }
 ],
 "metadata": {
  "celltoolbar": "Tags",
  "kernelspec": {
   "display_name": "Python 3 (ipykernel)",
   "language": "python",
   "name": "python3"
  },
  "language_info": {
   "codemirror_mode": {
    "name": "ipython",
    "version": 3
   },
   "file_extension": ".py",
   "mimetype": "text/x-python",
   "name": "python",
   "nbconvert_exporter": "python",
   "pygments_lexer": "ipython3",
   "version": "3.8.10"
  },
  "papermill": {
   "default_parameters": {},
   "duration": 841.984286,
   "end_time": "2022-03-10T20:55:22.344296",
   "environment_variables": {},
   "exception": null,
   "input_path": "/mnt/wd500GB/CSC500/csc500-main/csc500-notebooks/templates/tl_ptn_template.ipynb",
   "output_path": "trial.ipynb",
   "parameters": {
    "parameters": {
     "BEST_MODEL_PATH": "./best_model.pth",
     "NUM_LOGS_PER_EPOCH": 10,
     "criteria_for_best": "target_loss",
     "dataset_seed": 1337,
     "datasets": [
      {
       "domain_prefix": "Wisig_",
       "domains": [
        1,
        2,
        3,
        4
       ],
       "episode_transforms": [],
       "labels": [
        "1-10",
        "1-12",
        "1-14",
        "1-16",
        "1-18",
        "1-19",
        "1-8",
        "10-11",
        "10-17",
        "10-4",
        "10-7",
        "11-1",
        "11-10",
        "11-19",
        "11-20",
        "11-4",
        "11-7",
        "12-19",
        "12-20",
        "12-7",
        "13-14",
        "13-18",
        "13-19",
        "13-20",
        "13-3",
        "13-7",
        "14-10",
        "14-11",
        "14-12",
        "14-13",
        "14-14",
        "14-19",
        "14-20",
        "14-7",
        "14-8",
        "14-9",
        "15-1",
        "15-19",
        "15-6",
        "16-1",
        "16-16",
        "16-19",
        "16-20",
        "17-10",
        "17-11",
        "18-1",
        "18-10",
        "18-11",
        "18-12",
        "18-13",
        "18-14",
        "18-15",
        "18-16",
        "18-17",
        "18-19",
        "18-2",
        "18-20",
        "18-4",
        "18-5",
        "18-7",
        "18-8",
        "18-9",
        "19-1",
        "19-10",
        "19-11",
        "19-12",
        "19-13",
        "19-14",
        "19-15",
        "19-19",
        "19-2",
        "19-20",
        "19-3",
        "19-4",
        "19-6",
        "19-7",
        "19-8",
        "19-9",
        "2-1",
        "2-13",
        "2-15",
        "2-3",
        "2-4",
        "2-5",
        "2-6",
        "2-7",
        "2-8",
        "20-1",
        "20-12",
        "20-14",
        "20-15",
        "20-16",
        "20-18",
        "20-19",
        "20-20",
        "20-3",
        "20-4",
        "20-5",
        "20-7",
        "20-8",
        "3-1",
        "3-13",
        "3-18",
        "3-2",
        "3-8",
        "4-1",
        "4-10",
        "4-11",
        "5-1",
        "5-5",
        "6-1",
        "6-15",
        "6-6",
        "7-10",
        "7-11",
        "7-12",
        "7-13",
        "7-14",
        "7-7",
        "7-8",
        "7-9",
        "8-1",
        "8-13",
        "8-14",
        "8-18",
        "8-20",
        "8-3",
        "8-8",
        "9-1",
        "9-7"
       ],
       "num_examples_per_domain_per_label": 100,
       "pickle_path": "/mnt/wd500GB/CSC500/csc500-main/datasets/wisig.node3-19.stratified_ds.2022A.pkl",
       "source_or_target_dataset": "source",
       "x_transforms": [
        "unit_power"
       ]
      },
      {
       "domain_prefix": "ORACLE.run1",
       "domains": [
        32,
        38,
        8,
        44,
        14,
        50,
        20,
        26
       ],
       "episode_transforms": [],
       "labels": [
        "3123D52",
        "3123D65",
        "3123D79",
        "3123D80",
        "3123D54",
        "3123D70",
        "3123D7B",
        "3123D89",
        "3123D58",
        "3123D76",
        "3123D7D",
        "3123EFE",
        "3123D64",
        "3123D78",
        "3123D7E",
        "3124E4A"
       ],
       "num_examples_per_domain_per_label": 10000,
       "pickle_path": "/mnt/wd500GB/CSC500/csc500-main/datasets/oracle.Run1_10kExamples_stratified_ds.2022A.pkl",
       "source_or_target_dataset": "target",
       "x_transforms": [
        "unit_power"
       ]
      }
     ],
     "device": "cuda",
     "experiment_name": "tl_1_wisig-oracle.run1",
     "lr": 0.001,
     "n_epoch": 50,
     "n_query": 2,
     "n_shot": 3,
     "n_way": 16,
     "patience": 3,
     "seed": 1337,
     "test_k_factor": 2,
     "torch_default_dtype": "torch.float32",
     "train_k_factor": 3,
     "val_k_factor": 2,
     "x_net": [
      {
       "class": "nnReshape",
       "kargs": {
        "shape": [
         -1,
         1,
         2,
         256
        ]
       }
      },
      {
       "class": "Conv2d",
       "kargs": {
        "bias": false,
        "in_channels": 1,
        "kernel_size": [
         1,
         7
        ],
        "out_channels": 256,
        "padding": [
         0,
         3
        ]
       }
      },
      {
       "class": "ReLU",
       "kargs": {
        "inplace": true
       }
      },
      {
       "class": "BatchNorm2d",
       "kargs": {
        "num_features": 256
       }
      },
      {
       "class": "Conv2d",
       "kargs": {
        "bias": true,
        "in_channels": 256,
        "kernel_size": [
         2,
         7
        ],
        "out_channels": 80,
        "padding": [
         0,
         3
        ]
       }
      },
      {
       "class": "ReLU",
       "kargs": {
        "inplace": true
       }
      },
      {
       "class": "BatchNorm2d",
       "kargs": {
        "num_features": 80
       }
      },
      {
       "class": "Flatten",
       "kargs": {}
      },
      {
       "class": "Linear",
       "kargs": {
        "in_features": 20480,
        "out_features": 256
       }
      },
      {
       "class": "ReLU",
       "kargs": {
        "inplace": true
       }
      },
      {
       "class": "BatchNorm1d",
       "kargs": {
        "num_features": 256
       }
      },
      {
       "class": "Linear",
       "kargs": {
        "in_features": 256,
        "out_features": 256
       }
      }
     ]
    }
   },
   "start_time": "2022-03-10T20:41:20.360010",
   "version": "2.3.4"
  }
 },
 "nbformat": 4,
 "nbformat_minor": 5
}