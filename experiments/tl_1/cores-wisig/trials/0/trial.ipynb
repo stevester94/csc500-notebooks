{
 "cells": [
  {
   "cell_type": "markdown",
   "id": "9fea5f46",
   "metadata": {
    "papermill": {
     "duration": 0.019114,
     "end_time": "2022-03-07T08:09:12.430237",
     "exception": false,
     "start_time": "2022-03-07T08:09:12.411123",
     "status": "completed"
    },
    "tags": []
   },
   "source": [
    "# Transfer Learning Template"
   ]
  },
  {
   "cell_type": "code",
   "execution_count": 1,
   "id": "0902182a",
   "metadata": {
    "execution": {
     "iopub.execute_input": "2022-03-07T08:09:12.470744Z",
     "iopub.status.busy": "2022-03-07T08:09:12.470453Z",
     "iopub.status.idle": "2022-03-07T08:09:13.232533Z",
     "shell.execute_reply": "2022-03-07T08:09:13.231986Z"
    },
    "papermill": {
     "duration": 0.789528,
     "end_time": "2022-03-07T08:09:13.232651",
     "exception": false,
     "start_time": "2022-03-07T08:09:12.443123",
     "status": "completed"
    },
    "tags": []
   },
   "outputs": [],
   "source": [
    "%load_ext autoreload\n",
    "%autoreload 2\n",
    "%matplotlib inline\n",
    "\n",
    "    \n",
    "import os, json, sys, time, random\n",
    "import numpy as np\n",
    "import torch\n",
    "from torch.optim import Adam\n",
    "from  easydict import EasyDict\n",
    "import matplotlib.pyplot as plt\n",
    "\n",
    "from steves_models.steves_ptn import Steves_Prototypical_Network\n",
    "\n",
    "from steves_utils.lazy_iterable_wrapper import Lazy_Iterable_Wrapper\n",
    "from steves_utils.iterable_aggregator import Iterable_Aggregator\n",
    "from steves_utils.ptn_train_eval_test_jig import  PTN_Train_Eval_Test_Jig\n",
    "from steves_utils.torch_sequential_builder import build_sequential\n",
    "from steves_utils.torch_utils import get_dataset_metrics, ptn_confusion_by_domain_over_dataloader\n",
    "from steves_utils.utils_v2 import (per_domain_accuracy_from_confusion, get_datasets_base_path)\n",
    "from steves_utils.PTN.utils import independent_accuracy_assesment\n",
    "\n",
    "from torch.utils.data import DataLoader\n",
    "\n",
    "from steves_utils.stratified_dataset.episodic_accessor import Episodic_Accessor_Factory\n",
    "\n",
    "from steves_utils.ptn_do_report import (\n",
    "    get_loss_curve,\n",
    "    get_results_table,\n",
    "    get_parameters_table,\n",
    "    get_domain_accuracies,\n",
    ")\n",
    "\n",
    "from steves_utils.transforms import get_chained_transform"
   ]
  },
  {
   "cell_type": "markdown",
   "id": "41c840b4",
   "metadata": {
    "papermill": {
     "duration": 0.012661,
     "end_time": "2022-03-07T08:09:13.261944",
     "exception": false,
     "start_time": "2022-03-07T08:09:13.249283",
     "status": "completed"
    },
    "tags": []
   },
   "source": [
    "# Allowed Parameters\n",
    "These are allowed parameters, not defaults\n",
    "Each of these values need to be present in the injected parameters (the notebook will raise an exception if they are not present)\n",
    "\n",
    "Papermill uses the cell tag \"parameters\" to inject the real parameters below this cell.\n",
    "Enable tags to see what I mean"
   ]
  },
  {
   "cell_type": "code",
   "execution_count": 2,
   "id": "fd44eb83",
   "metadata": {
    "execution": {
     "iopub.execute_input": "2022-03-07T08:09:13.290507Z",
     "iopub.status.busy": "2022-03-07T08:09:13.290243Z",
     "iopub.status.idle": "2022-03-07T08:09:13.303612Z",
     "shell.execute_reply": "2022-03-07T08:09:13.304017Z"
    },
    "papermill": {
     "duration": 0.029505,
     "end_time": "2022-03-07T08:09:13.304136",
     "exception": false,
     "start_time": "2022-03-07T08:09:13.274631",
     "status": "completed"
    },
    "tags": []
   },
   "outputs": [],
   "source": [
    "required_parameters = {\n",
    "    \"experiment_name\",\n",
    "    \"lr\",\n",
    "    \"device\",\n",
    "    \"seed\",\n",
    "    \"dataset_seed\",\n",
    "    \"n_shot\",\n",
    "    \"n_query\",\n",
    "    \"n_way\",\n",
    "    \"train_k_factor\",\n",
    "    \"val_k_factor\",\n",
    "    \"test_k_factor\",\n",
    "    \"n_epoch\",\n",
    "    \"patience\",\n",
    "    \"criteria_for_best\",\n",
    "    \"x_net\",\n",
    "    \"datasets\",\n",
    "    \"torch_default_dtype\",\n",
    "    \"NUM_LOGS_PER_EPOCH\",\n",
    "    \"BEST_MODEL_PATH\",\n",
    "}"
   ]
  },
  {
   "cell_type": "code",
   "execution_count": 3,
   "id": "fa3f0049",
   "metadata": {
    "execution": {
     "iopub.execute_input": "2022-03-07T08:09:13.346620Z",
     "iopub.status.busy": "2022-03-07T08:09:13.346126Z",
     "iopub.status.idle": "2022-03-07T08:09:13.362513Z",
     "shell.execute_reply": "2022-03-07T08:09:13.362272Z"
    },
    "papermill": {
     "duration": 0.03957,
     "end_time": "2022-03-07T08:09:13.362574",
     "exception": false,
     "start_time": "2022-03-07T08:09:13.323004",
     "status": "completed"
    },
    "tags": [
     "parameters"
    ]
   },
   "outputs": [],
   "source": [
    "from steves_utils.CORES.utils import (\n",
    "    ALL_NODES,\n",
    "    ALL_NODES_MINIMUM_1000_EXAMPLES,\n",
    "    ALL_DAYS\n",
    ")\n",
    "\n",
    "from steves_utils.ORACLE.utils_v2 import (\n",
    "    ALL_DISTANCES_FEET_NARROWED,\n",
    "    ALL_RUNS,\n",
    "    ALL_SERIAL_NUMBERS,\n",
    ")\n",
    "\n",
    "standalone_parameters = {}\n",
    "standalone_parameters[\"experiment_name\"] = \"STANDALONE PTN\"\n",
    "standalone_parameters[\"lr\"] = 0.001\n",
    "standalone_parameters[\"device\"] = \"cuda\"\n",
    "\n",
    "standalone_parameters[\"seed\"] = 1337\n",
    "standalone_parameters[\"dataset_seed\"] = 1337\n",
    "\n",
    "standalone_parameters[\"n_way\"] = 8\n",
    "standalone_parameters[\"n_shot\"] = 3\n",
    "standalone_parameters[\"n_query\"]  = 2\n",
    "standalone_parameters[\"train_k_factor\"] = 1\n",
    "standalone_parameters[\"val_k_factor\"] = 2\n",
    "standalone_parameters[\"test_k_factor\"] = 2\n",
    "\n",
    "\n",
    "standalone_parameters[\"n_epoch\"] = 50\n",
    "\n",
    "standalone_parameters[\"patience\"] = 10\n",
    "standalone_parameters[\"criteria_for_best\"] = \"source_loss\"\n",
    "\n",
    "standalone_parameters[\"datasets\"] = [\n",
    "    {\n",
    "        \"labels\": ALL_SERIAL_NUMBERS,\n",
    "        \"domains\": ALL_DISTANCES_FEET_NARROWED,\n",
    "        \"num_examples_per_domain_per_label\": 100,\n",
    "        \"pickle_path\": os.path.join(get_datasets_base_path(), \"oracle.Run1_framed_2000Examples_stratified_ds.2022A.pkl\"),\n",
    "        \"source_or_target_dataset\": \"source\",\n",
    "        \"x_transforms\": [\"unit_mag\", \"minus_two\"],\n",
    "        \"episode_transforms\": [],\n",
    "        \"domain_prefix\": \"ORACLE_\"\n",
    "    },\n",
    "    {\n",
    "        \"labels\": ALL_NODES,\n",
    "        \"domains\": ALL_DAYS,\n",
    "        \"num_examples_per_domain_per_label\": 100,\n",
    "        \"pickle_path\": os.path.join(get_datasets_base_path(), \"cores.stratified_ds.2022A.pkl\"),\n",
    "        \"source_or_target_dataset\": \"target\",\n",
    "        \"x_transforms\": [\"unit_power\", \"times_zero\"],\n",
    "        \"episode_transforms\": [],\n",
    "        \"domain_prefix\": \"CORES_\"\n",
    "    }   \n",
    "]\n",
    "\n",
    "standalone_parameters[\"torch_default_dtype\"] = \"torch.float32\" \n",
    "\n",
    "\n",
    "\n",
    "standalone_parameters[\"x_net\"] =     [\n",
    "    {\"class\": \"nnReshape\", \"kargs\": {\"shape\":[-1, 1, 2, 256]}},\n",
    "    {\"class\": \"Conv2d\", \"kargs\": { \"in_channels\":1, \"out_channels\":256, \"kernel_size\":(1,7), \"bias\":False, \"padding\":(0,3), },},\n",
    "    {\"class\": \"ReLU\", \"kargs\": {\"inplace\": True}},\n",
    "    {\"class\": \"BatchNorm2d\", \"kargs\": {\"num_features\":256}},\n",
    "\n",
    "    {\"class\": \"Conv2d\", \"kargs\": { \"in_channels\":256, \"out_channels\":80, \"kernel_size\":(2,7), \"bias\":True, \"padding\":(0,3), },},\n",
    "    {\"class\": \"ReLU\", \"kargs\": {\"inplace\": True}},\n",
    "    {\"class\": \"BatchNorm2d\", \"kargs\": {\"num_features\":80}},\n",
    "    {\"class\": \"Flatten\", \"kargs\": {}},\n",
    "\n",
    "    {\"class\": \"Linear\", \"kargs\": {\"in_features\": 80*256, \"out_features\": 256}}, # 80 units per IQ pair\n",
    "    {\"class\": \"ReLU\", \"kargs\": {\"inplace\": True}},\n",
    "    {\"class\": \"BatchNorm1d\", \"kargs\": {\"num_features\":256}},\n",
    "\n",
    "    {\"class\": \"Linear\", \"kargs\": {\"in_features\": 256, \"out_features\": 256}},\n",
    "]\n",
    "\n",
    "# Parameters relevant to results\n",
    "# These parameters will basically never need to change\n",
    "standalone_parameters[\"NUM_LOGS_PER_EPOCH\"] = 10\n",
    "standalone_parameters[\"BEST_MODEL_PATH\"] = \"./best_model.pth\"\n",
    "\n",
    "\n",
    "\n",
    "\n"
   ]
  },
  {
   "cell_type": "code",
   "execution_count": 4,
   "id": "ad45360a",
   "metadata": {
    "execution": {
     "iopub.execute_input": "2022-03-07T08:09:13.397365Z",
     "iopub.status.busy": "2022-03-07T08:09:13.397045Z",
     "iopub.status.idle": "2022-03-07T08:09:13.413068Z",
     "shell.execute_reply": "2022-03-07T08:09:13.412806Z"
    },
    "papermill": {
     "duration": 0.03725,
     "end_time": "2022-03-07T08:09:13.413125",
     "exception": false,
     "start_time": "2022-03-07T08:09:13.375875",
     "status": "completed"
    },
    "tags": [
     "injected-parameters"
    ]
   },
   "outputs": [],
   "source": [
    "# Parameters\n",
    "parameters = {\n",
    "    \"experiment_name\": \"tl_1_cores-wisig\",\n",
    "    \"device\": \"cuda\",\n",
    "    \"lr\": 0.001,\n",
    "    \"seed\": 1337,\n",
    "    \"dataset_seed\": 1337,\n",
    "    \"n_shot\": 3,\n",
    "    \"n_query\": 2,\n",
    "    \"train_k_factor\": 3,\n",
    "    \"val_k_factor\": 2,\n",
    "    \"test_k_factor\": 2,\n",
    "    \"torch_default_dtype\": \"torch.float32\",\n",
    "    \"n_epoch\": 3,\n",
    "    \"patience\": 3,\n",
    "    \"criteria_for_best\": \"target_loss\",\n",
    "    \"x_net\": [\n",
    "        {\"class\": \"nnReshape\", \"kargs\": {\"shape\": [-1, 1, 2, 256]}},\n",
    "        {\n",
    "            \"class\": \"Conv2d\",\n",
    "            \"kargs\": {\n",
    "                \"in_channels\": 1,\n",
    "                \"out_channels\": 256,\n",
    "                \"kernel_size\": [1, 7],\n",
    "                \"bias\": False,\n",
    "                \"padding\": [0, 3],\n",
    "            },\n",
    "        },\n",
    "        {\"class\": \"ReLU\", \"kargs\": {\"inplace\": True}},\n",
    "        {\"class\": \"BatchNorm2d\", \"kargs\": {\"num_features\": 256}},\n",
    "        {\n",
    "            \"class\": \"Conv2d\",\n",
    "            \"kargs\": {\n",
    "                \"in_channels\": 256,\n",
    "                \"out_channels\": 80,\n",
    "                \"kernel_size\": [2, 7],\n",
    "                \"bias\": True,\n",
    "                \"padding\": [0, 3],\n",
    "            },\n",
    "        },\n",
    "        {\"class\": \"ReLU\", \"kargs\": {\"inplace\": True}},\n",
    "        {\"class\": \"BatchNorm2d\", \"kargs\": {\"num_features\": 80}},\n",
    "        {\"class\": \"Flatten\", \"kargs\": {}},\n",
    "        {\"class\": \"Linear\", \"kargs\": {\"in_features\": 20480, \"out_features\": 256}},\n",
    "        {\"class\": \"ReLU\", \"kargs\": {\"inplace\": True}},\n",
    "        {\"class\": \"BatchNorm1d\", \"kargs\": {\"num_features\": 256}},\n",
    "        {\"class\": \"Linear\", \"kargs\": {\"in_features\": 256, \"out_features\": 256}},\n",
    "    ],\n",
    "    \"NUM_LOGS_PER_EPOCH\": 10,\n",
    "    \"BEST_MODEL_PATH\": \"./best_model.pth\",\n",
    "    \"n_way\": 58,\n",
    "    \"datasets\": [\n",
    "        {\n",
    "            \"labels\": [\n",
    "                \"1-10.\",\n",
    "                \"1-11.\",\n",
    "                \"1-15.\",\n",
    "                \"1-16.\",\n",
    "                \"1-17.\",\n",
    "                \"1-18.\",\n",
    "                \"1-19.\",\n",
    "                \"10-4.\",\n",
    "                \"10-7.\",\n",
    "                \"11-1.\",\n",
    "                \"11-14.\",\n",
    "                \"11-17.\",\n",
    "                \"11-20.\",\n",
    "                \"11-7.\",\n",
    "                \"13-20.\",\n",
    "                \"13-8.\",\n",
    "                \"14-10.\",\n",
    "                \"14-11.\",\n",
    "                \"14-14.\",\n",
    "                \"14-7.\",\n",
    "                \"15-1.\",\n",
    "                \"15-20.\",\n",
    "                \"16-1.\",\n",
    "                \"16-16.\",\n",
    "                \"17-10.\",\n",
    "                \"17-11.\",\n",
    "                \"17-2.\",\n",
    "                \"19-1.\",\n",
    "                \"19-16.\",\n",
    "                \"19-19.\",\n",
    "                \"19-20.\",\n",
    "                \"19-3.\",\n",
    "                \"2-10.\",\n",
    "                \"2-11.\",\n",
    "                \"2-17.\",\n",
    "                \"2-18.\",\n",
    "                \"2-20.\",\n",
    "                \"2-3.\",\n",
    "                \"2-4.\",\n",
    "                \"2-5.\",\n",
    "                \"2-6.\",\n",
    "                \"2-7.\",\n",
    "                \"2-8.\",\n",
    "                \"3-13.\",\n",
    "                \"3-18.\",\n",
    "                \"3-3.\",\n",
    "                \"4-1.\",\n",
    "                \"4-10.\",\n",
    "                \"4-11.\",\n",
    "                \"4-19.\",\n",
    "                \"5-5.\",\n",
    "                \"6-15.\",\n",
    "                \"7-10.\",\n",
    "                \"7-14.\",\n",
    "                \"8-18.\",\n",
    "                \"8-20.\",\n",
    "                \"8-3.\",\n",
    "                \"8-8.\",\n",
    "            ],\n",
    "            \"domains\": [1, 2, 3, 4, 5],\n",
    "            \"num_examples_per_domain_per_label\": 100,\n",
    "            \"pickle_path\": \"/mnt/wd500GB/CSC500/csc500-main/datasets/cores.stratified_ds.2022A.pkl\",\n",
    "            \"source_or_target_dataset\": \"source\",\n",
    "            \"x_transforms\": [\"unit_power\"],\n",
    "            \"episode_transforms\": [],\n",
    "            \"domain_prefix\": \"CORES_\",\n",
    "        },\n",
    "        {\n",
    "            \"labels\": [\n",
    "                \"1-10\",\n",
    "                \"1-12\",\n",
    "                \"1-14\",\n",
    "                \"1-16\",\n",
    "                \"1-18\",\n",
    "                \"1-19\",\n",
    "                \"1-8\",\n",
    "                \"10-11\",\n",
    "                \"10-17\",\n",
    "                \"10-4\",\n",
    "                \"10-7\",\n",
    "                \"11-1\",\n",
    "                \"11-10\",\n",
    "                \"11-19\",\n",
    "                \"11-20\",\n",
    "                \"11-4\",\n",
    "                \"11-7\",\n",
    "                \"12-19\",\n",
    "                \"12-20\",\n",
    "                \"12-7\",\n",
    "                \"13-14\",\n",
    "                \"13-18\",\n",
    "                \"13-19\",\n",
    "                \"13-20\",\n",
    "                \"13-3\",\n",
    "                \"13-7\",\n",
    "                \"14-10\",\n",
    "                \"14-11\",\n",
    "                \"14-12\",\n",
    "                \"14-13\",\n",
    "                \"14-14\",\n",
    "                \"14-19\",\n",
    "                \"14-20\",\n",
    "                \"14-7\",\n",
    "                \"14-8\",\n",
    "                \"14-9\",\n",
    "                \"15-1\",\n",
    "                \"15-19\",\n",
    "                \"15-6\",\n",
    "                \"16-1\",\n",
    "                \"16-16\",\n",
    "                \"16-19\",\n",
    "                \"16-20\",\n",
    "                \"17-10\",\n",
    "                \"17-11\",\n",
    "                \"18-1\",\n",
    "                \"18-10\",\n",
    "                \"18-11\",\n",
    "                \"18-12\",\n",
    "                \"18-13\",\n",
    "                \"18-14\",\n",
    "                \"18-15\",\n",
    "                \"18-16\",\n",
    "                \"18-17\",\n",
    "                \"18-19\",\n",
    "                \"18-2\",\n",
    "                \"18-20\",\n",
    "                \"18-4\",\n",
    "                \"18-5\",\n",
    "                \"18-7\",\n",
    "                \"18-8\",\n",
    "                \"18-9\",\n",
    "                \"19-1\",\n",
    "                \"19-10\",\n",
    "                \"19-11\",\n",
    "                \"19-12\",\n",
    "                \"19-13\",\n",
    "                \"19-14\",\n",
    "                \"19-15\",\n",
    "                \"19-19\",\n",
    "                \"19-2\",\n",
    "                \"19-20\",\n",
    "                \"19-3\",\n",
    "                \"19-4\",\n",
    "                \"19-6\",\n",
    "                \"19-7\",\n",
    "                \"19-8\",\n",
    "                \"19-9\",\n",
    "                \"2-1\",\n",
    "                \"2-13\",\n",
    "                \"2-15\",\n",
    "                \"2-3\",\n",
    "                \"2-4\",\n",
    "                \"2-5\",\n",
    "                \"2-6\",\n",
    "                \"2-7\",\n",
    "                \"2-8\",\n",
    "                \"20-1\",\n",
    "                \"20-12\",\n",
    "                \"20-14\",\n",
    "                \"20-15\",\n",
    "                \"20-16\",\n",
    "                \"20-18\",\n",
    "                \"20-19\",\n",
    "                \"20-20\",\n",
    "                \"20-3\",\n",
    "                \"20-4\",\n",
    "                \"20-5\",\n",
    "                \"20-7\",\n",
    "                \"20-8\",\n",
    "                \"3-1\",\n",
    "                \"3-13\",\n",
    "                \"3-18\",\n",
    "                \"3-2\",\n",
    "                \"3-8\",\n",
    "                \"4-1\",\n",
    "                \"4-10\",\n",
    "                \"4-11\",\n",
    "                \"5-1\",\n",
    "                \"5-5\",\n",
    "                \"6-1\",\n",
    "                \"6-15\",\n",
    "                \"6-6\",\n",
    "                \"7-10\",\n",
    "                \"7-11\",\n",
    "                \"7-12\",\n",
    "                \"7-13\",\n",
    "                \"7-14\",\n",
    "                \"7-7\",\n",
    "                \"7-8\",\n",
    "                \"7-9\",\n",
    "                \"8-1\",\n",
    "                \"8-13\",\n",
    "                \"8-14\",\n",
    "                \"8-18\",\n",
    "                \"8-20\",\n",
    "                \"8-3\",\n",
    "                \"8-8\",\n",
    "                \"9-1\",\n",
    "                \"9-7\",\n",
    "            ],\n",
    "            \"domains\": [1, 2, 3, 4],\n",
    "            \"num_examples_per_domain_per_label\": 100,\n",
    "            \"pickle_path\": \"/mnt/wd500GB/CSC500/csc500-main/datasets/wisig.node3-19.stratified_ds.2022A.pkl\",\n",
    "            \"source_or_target_dataset\": \"target\",\n",
    "            \"x_transforms\": [\"unit_power\"],\n",
    "            \"episode_transforms\": [],\n",
    "            \"domain_prefix\": \"Wisig_\",\n",
    "        },\n",
    "    ],\n",
    "}\n"
   ]
  },
  {
   "cell_type": "code",
   "execution_count": 5,
   "id": "8fa1cc33",
   "metadata": {
    "execution": {
     "iopub.execute_input": "2022-03-07T08:09:13.441590Z",
     "iopub.status.busy": "2022-03-07T08:09:13.441321Z",
     "iopub.status.idle": "2022-03-07T08:09:13.455257Z",
     "shell.execute_reply": "2022-03-07T08:09:13.455031Z"
    },
    "papermill": {
     "duration": 0.029064,
     "end_time": "2022-03-07T08:09:13.455313",
     "exception": false,
     "start_time": "2022-03-07T08:09:13.426249",
     "status": "completed"
    },
    "tags": []
   },
   "outputs": [],
   "source": [
    "# Set this to True if you want to run this template directly\n",
    "STANDALONE = False\n",
    "if STANDALONE:\n",
    "    print(\"parameters not injected, running with standalone_parameters\")\n",
    "    parameters = standalone_parameters\n",
    "\n",
    "if not 'parameters' in locals() and not 'parameters' in globals():\n",
    "    raise Exception(\"Parameter injection failed\")\n",
    "\n",
    "#Use an easy dict for all the parameters\n",
    "p = EasyDict(parameters)\n",
    "\n",
    "supplied_keys = set(p.keys())\n",
    "\n",
    "if  supplied_keys != required_parameters:\n",
    "    print(\"Parameters are incorrect\")\n",
    "    if len(supplied_keys - required_parameters)>0: print(\"Shouldn't have:\", str(supplied_keys - required_parameters))\n",
    "    if len(required_parameters - supplied_keys)>0: print(\"Need to have:\", str(required_parameters - supplied_keys))\n",
    "    raise RuntimeError(\"Parameters are incorrect\")\n",
    "\n"
   ]
  },
  {
   "cell_type": "code",
   "execution_count": 6,
   "id": "3a028d58",
   "metadata": {
    "execution": {
     "iopub.execute_input": "2022-03-07T08:09:13.484162Z",
     "iopub.status.busy": "2022-03-07T08:09:13.483897Z",
     "iopub.status.idle": "2022-03-07T08:09:13.496332Z",
     "shell.execute_reply": "2022-03-07T08:09:13.496634Z"
    },
    "papermill": {
     "duration": 0.028425,
     "end_time": "2022-03-07T08:09:13.496735",
     "exception": false,
     "start_time": "2022-03-07T08:09:13.468310",
     "status": "completed"
    },
    "tags": []
   },
   "outputs": [],
   "source": [
    "###################################\n",
    "# Set the RNGs and make it all deterministic\n",
    "###################################\n",
    "np.random.seed(p.seed)\n",
    "random.seed(p.seed)\n",
    "torch.manual_seed(p.seed)\n",
    "\n",
    "torch.use_deterministic_algorithms(True) "
   ]
  },
  {
   "cell_type": "code",
   "execution_count": 7,
   "id": "b691acf6",
   "metadata": {
    "execution": {
     "iopub.execute_input": "2022-03-07T08:09:13.530395Z",
     "iopub.status.busy": "2022-03-07T08:09:13.529816Z",
     "iopub.status.idle": "2022-03-07T08:09:13.544326Z",
     "shell.execute_reply": "2022-03-07T08:09:13.543886Z"
    },
    "papermill": {
     "duration": 0.029615,
     "end_time": "2022-03-07T08:09:13.544429",
     "exception": false,
     "start_time": "2022-03-07T08:09:13.514814",
     "status": "completed"
    },
    "tags": []
   },
   "outputs": [],
   "source": [
    "###########################################\n",
    "# The stratified datasets honor this\n",
    "###########################################\n",
    "torch.set_default_dtype(eval(p.torch_default_dtype))"
   ]
  },
  {
   "cell_type": "code",
   "execution_count": 8,
   "id": "b5fba671",
   "metadata": {
    "execution": {
     "iopub.execute_input": "2022-03-07T08:09:13.578235Z",
     "iopub.status.busy": "2022-03-07T08:09:13.577421Z",
     "iopub.status.idle": "2022-03-07T08:09:13.617419Z",
     "shell.execute_reply": "2022-03-07T08:09:13.616959Z"
    },
    "papermill": {
     "duration": 0.054343,
     "end_time": "2022-03-07T08:09:13.617530",
     "exception": false,
     "start_time": "2022-03-07T08:09:13.563187",
     "status": "completed"
    },
    "tags": []
   },
   "outputs": [],
   "source": [
    "###################################\n",
    "# Build the network(s)\n",
    "# Note: It's critical to do this AFTER setting the RNG\n",
    "###################################\n",
    "x_net = build_sequential(p.x_net)"
   ]
  },
  {
   "cell_type": "code",
   "execution_count": 9,
   "id": "5d7e61cc",
   "metadata": {
    "execution": {
     "iopub.execute_input": "2022-03-07T08:09:13.652998Z",
     "iopub.status.busy": "2022-03-07T08:09:13.652739Z",
     "iopub.status.idle": "2022-03-07T08:09:13.666927Z",
     "shell.execute_reply": "2022-03-07T08:09:13.666456Z"
    },
    "papermill": {
     "duration": 0.029623,
     "end_time": "2022-03-07T08:09:13.667032",
     "exception": false,
     "start_time": "2022-03-07T08:09:13.637409",
     "status": "completed"
    },
    "tags": []
   },
   "outputs": [],
   "source": [
    "start_time_secs = time.time()"
   ]
  },
  {
   "cell_type": "code",
   "execution_count": 10,
   "id": "c6b67dfd",
   "metadata": {
    "execution": {
     "iopub.execute_input": "2022-03-07T08:09:13.700455Z",
     "iopub.status.busy": "2022-03-07T08:09:13.700186Z",
     "iopub.status.idle": "2022-03-07T08:09:13.710854Z",
     "shell.execute_reply": "2022-03-07T08:09:13.711187Z"
    },
    "papermill": {
     "duration": 0.026992,
     "end_time": "2022-03-07T08:09:13.711306",
     "exception": false,
     "start_time": "2022-03-07T08:09:13.684314",
     "status": "completed"
    },
    "tags": []
   },
   "outputs": [],
   "source": [
    "p.domains_source = []\n",
    "p.domains_target = []\n",
    "\n",
    "\n",
    "train_original_source = []\n",
    "val_original_source   = []\n",
    "test_original_source  = []\n",
    "\n",
    "train_original_target = []\n",
    "val_original_target   = []\n",
    "test_original_target  = []"
   ]
  },
  {
   "cell_type": "code",
   "execution_count": 11,
   "id": "e3d9c3d3",
   "metadata": {
    "execution": {
     "iopub.execute_input": "2022-03-07T08:09:13.746749Z",
     "iopub.status.busy": "2022-03-07T08:09:13.746227Z",
     "iopub.status.idle": "2022-03-07T08:09:13.759936Z",
     "shell.execute_reply": "2022-03-07T08:09:13.759503Z"
    },
    "papermill": {
     "duration": 0.028895,
     "end_time": "2022-03-07T08:09:13.760039",
     "exception": false,
     "start_time": "2022-03-07T08:09:13.731144",
     "status": "completed"
    },
    "tags": []
   },
   "outputs": [],
   "source": [
    "# global_x_transform_func = lambda x: normalize(x.to(torch.get_default_dtype()), \"unit_power\") # unit_power, unit_mag\n",
    "# global_x_transform_func = lambda x: normalize(x, \"unit_power\") # unit_power, unit_mag"
   ]
  },
  {
   "cell_type": "code",
   "execution_count": 12,
   "id": "acb78fd2",
   "metadata": {
    "execution": {
     "iopub.execute_input": "2022-03-07T08:09:13.801960Z",
     "iopub.status.busy": "2022-03-07T08:09:13.801580Z",
     "iopub.status.idle": "2022-03-07T08:09:13.812139Z",
     "shell.execute_reply": "2022-03-07T08:09:13.812518Z"
    },
    "papermill": {
     "duration": 0.031962,
     "end_time": "2022-03-07T08:09:13.812639",
     "exception": false,
     "start_time": "2022-03-07T08:09:13.780677",
     "status": "completed"
    },
    "tags": []
   },
   "outputs": [],
   "source": [
    "def add_dataset(\n",
    "    labels,\n",
    "    domains,\n",
    "    pickle_path,\n",
    "    x_transforms,\n",
    "    episode_transforms,\n",
    "    domain_prefix,\n",
    "    num_examples_per_domain_per_label,\n",
    "    source_or_target_dataset:str,\n",
    "    iterator_seed=p.seed,\n",
    "    dataset_seed=p.dataset_seed,\n",
    "    n_shot=p.n_shot,\n",
    "    n_way=p.n_way,\n",
    "    n_query=p.n_query,\n",
    "    train_val_test_k_factors=(p.train_k_factor,p.val_k_factor,p.test_k_factor),\n",
    "):\n",
    "   \n",
    "    if x_transforms == []: x_transform = None\n",
    "    else: x_transform = get_chained_transform(x_transforms)\n",
    "    \n",
    "    if episode_transforms == []: episode_transform = None\n",
    "    else: raise Exception(\"episode_transforms not implemented\")\n",
    "    \n",
    "    episode_transform = lambda tup, _prefix=domain_prefix: (_prefix + str(tup[0]), tup[1])\n",
    "\n",
    "\n",
    "    eaf = Episodic_Accessor_Factory(\n",
    "        labels=labels,\n",
    "        domains=domains,\n",
    "        num_examples_per_domain_per_label=num_examples_per_domain_per_label,\n",
    "        iterator_seed=iterator_seed,\n",
    "        dataset_seed=dataset_seed,\n",
    "        n_shot=n_shot,\n",
    "        n_way=n_way,\n",
    "        n_query=n_query,\n",
    "        train_val_test_k_factors=train_val_test_k_factors,\n",
    "        pickle_path=pickle_path,\n",
    "        x_transform_func=x_transform,\n",
    "    )\n",
    "\n",
    "    train, val, test = eaf.get_train(), eaf.get_val(), eaf.get_test()\n",
    "    train = Lazy_Iterable_Wrapper(train, episode_transform)\n",
    "    val = Lazy_Iterable_Wrapper(val, episode_transform)\n",
    "    test = Lazy_Iterable_Wrapper(test, episode_transform)\n",
    "\n",
    "    if source_or_target_dataset==\"source\":\n",
    "        train_original_source.append(train)\n",
    "        val_original_source.append(val)\n",
    "        test_original_source.append(test)\n",
    "\n",
    "        p.domains_source.extend(\n",
    "            [domain_prefix + str(u) for u in domains]\n",
    "        )\n",
    "    elif source_or_target_dataset==\"target\":\n",
    "        train_original_target.append(train)\n",
    "        val_original_target.append(val)\n",
    "        test_original_target.append(test)\n",
    "        p.domains_target.extend(\n",
    "            [domain_prefix + str(u) for u in domains]\n",
    "        )\n",
    "    else:\n",
    "        raise Exception(f\"invalid source_or_target_dataset: {source_or_target_dataset}\")\n",
    "    "
   ]
  },
  {
   "cell_type": "code",
   "execution_count": 13,
   "id": "fe266617",
   "metadata": {
    "execution": {
     "iopub.execute_input": "2022-03-07T08:09:13.846989Z",
     "iopub.status.busy": "2022-03-07T08:09:13.846242Z",
     "iopub.status.idle": "2022-03-07T08:09:19.354346Z",
     "shell.execute_reply": "2022-03-07T08:09:19.353890Z"
    },
    "papermill": {
     "duration": 5.522851,
     "end_time": "2022-03-07T08:09:19.354455",
     "exception": false,
     "start_time": "2022-03-07T08:09:13.831604",
     "status": "completed"
    },
    "tags": []
   },
   "outputs": [],
   "source": [
    "for ds in p.datasets:\n",
    "    add_dataset(**ds)"
   ]
  },
  {
   "cell_type": "code",
   "execution_count": 14,
   "id": "b90d65ac",
   "metadata": {
    "execution": {
     "iopub.execute_input": "2022-03-07T08:09:19.390538Z",
     "iopub.status.busy": "2022-03-07T08:09:19.390266Z",
     "iopub.status.idle": "2022-03-07T08:09:19.405791Z",
     "shell.execute_reply": "2022-03-07T08:09:19.406109Z"
    },
    "papermill": {
     "duration": 0.031471,
     "end_time": "2022-03-07T08:09:19.406204",
     "exception": false,
     "start_time": "2022-03-07T08:09:19.374733",
     "status": "completed"
    },
    "tags": []
   },
   "outputs": [],
   "source": [
    "# from steves_utils.CORES.utils import (\n",
    "#     ALL_NODES,\n",
    "#     ALL_NODES_MINIMUM_1000_EXAMPLES,\n",
    "#     ALL_DAYS\n",
    "# )\n",
    "\n",
    "# add_dataset(\n",
    "#     labels=ALL_NODES,\n",
    "#     domains = ALL_DAYS,\n",
    "#     num_examples_per_domain_per_label=100,\n",
    "#     pickle_path=os.path.join(get_datasets_base_path(), \"cores.stratified_ds.2022A.pkl\"),\n",
    "#     source_or_target_dataset=\"target\",\n",
    "#     x_transform_func=global_x_transform_func,\n",
    "#     domain_modifier=lambda u: f\"cores_{u}\"\n",
    "# )"
   ]
  },
  {
   "cell_type": "code",
   "execution_count": 15,
   "id": "76db484d",
   "metadata": {
    "execution": {
     "iopub.execute_input": "2022-03-07T08:09:19.439437Z",
     "iopub.status.busy": "2022-03-07T08:09:19.439178Z",
     "iopub.status.idle": "2022-03-07T08:09:19.453323Z",
     "shell.execute_reply": "2022-03-07T08:09:19.453093Z"
    },
    "papermill": {
     "duration": 0.029566,
     "end_time": "2022-03-07T08:09:19.453377",
     "exception": false,
     "start_time": "2022-03-07T08:09:19.423811",
     "status": "completed"
    },
    "tags": []
   },
   "outputs": [],
   "source": [
    "# from steves_utils.ORACLE.utils_v2 import (\n",
    "#     ALL_DISTANCES_FEET,\n",
    "#     ALL_RUNS,\n",
    "#     ALL_SERIAL_NUMBERS,\n",
    "# )\n",
    "\n",
    "\n",
    "# add_dataset(\n",
    "#     labels=ALL_SERIAL_NUMBERS,\n",
    "#     domains = list(set(ALL_DISTANCES_FEET) - {2,62}),\n",
    "#     num_examples_per_domain_per_label=100,\n",
    "#     pickle_path=os.path.join(get_datasets_base_path(), \"oracle.Run2_framed_2000Examples_stratified_ds.2022A.pkl\"),\n",
    "#     source_or_target_dataset=\"source\",\n",
    "#     x_transform_func=global_x_transform_func,\n",
    "#     domain_modifier=lambda u: f\"oracle1_{u}\"\n",
    "# )\n"
   ]
  },
  {
   "cell_type": "code",
   "execution_count": 16,
   "id": "97dea9d2",
   "metadata": {
    "execution": {
     "iopub.execute_input": "2022-03-07T08:09:19.482866Z",
     "iopub.status.busy": "2022-03-07T08:09:19.482584Z",
     "iopub.status.idle": "2022-03-07T08:09:19.495302Z",
     "shell.execute_reply": "2022-03-07T08:09:19.495075Z"
    },
    "papermill": {
     "duration": 0.028371,
     "end_time": "2022-03-07T08:09:19.495358",
     "exception": false,
     "start_time": "2022-03-07T08:09:19.466987",
     "status": "completed"
    },
    "tags": []
   },
   "outputs": [],
   "source": [
    "# from steves_utils.ORACLE.utils_v2 import (\n",
    "#     ALL_DISTANCES_FEET,\n",
    "#     ALL_RUNS,\n",
    "#     ALL_SERIAL_NUMBERS,\n",
    "# )\n",
    "\n",
    "\n",
    "# add_dataset(\n",
    "#     labels=ALL_SERIAL_NUMBERS,\n",
    "#     domains = list(set(ALL_DISTANCES_FEET) - {2,62,56}),\n",
    "#     num_examples_per_domain_per_label=100,\n",
    "#     pickle_path=os.path.join(get_datasets_base_path(), \"oracle.Run2_framed_2000Examples_stratified_ds.2022A.pkl\"),\n",
    "#     source_or_target_dataset=\"source\",\n",
    "#     x_transform_func=global_x_transform_func,\n",
    "#     domain_modifier=lambda u: f\"oracle2_{u}\"\n",
    "# )"
   ]
  },
  {
   "cell_type": "code",
   "execution_count": 17,
   "id": "6f289866",
   "metadata": {
    "execution": {
     "iopub.execute_input": "2022-03-07T08:09:19.525398Z",
     "iopub.status.busy": "2022-03-07T08:09:19.525135Z",
     "iopub.status.idle": "2022-03-07T08:09:19.537941Z",
     "shell.execute_reply": "2022-03-07T08:09:19.537719Z"
    },
    "papermill": {
     "duration": 0.028535,
     "end_time": "2022-03-07T08:09:19.537996",
     "exception": false,
     "start_time": "2022-03-07T08:09:19.509461",
     "status": "completed"
    },
    "tags": []
   },
   "outputs": [],
   "source": [
    "# add_dataset(\n",
    "#     labels=list(range(19)),\n",
    "#     domains = [0,1,2],\n",
    "#     num_examples_per_domain_per_label=100,\n",
    "#     pickle_path=os.path.join(get_datasets_base_path(), \"metehan.stratified_ds.2022A.pkl\"),\n",
    "#     source_or_target_dataset=\"target\",\n",
    "#     x_transform_func=global_x_transform_func,\n",
    "#     domain_modifier=lambda u: f\"met_{u}\"\n",
    "# )"
   ]
  },
  {
   "cell_type": "code",
   "execution_count": 18,
   "id": "86a863c3",
   "metadata": {
    "execution": {
     "iopub.execute_input": "2022-03-07T08:09:19.568275Z",
     "iopub.status.busy": "2022-03-07T08:09:19.568010Z",
     "iopub.status.idle": "2022-03-07T08:09:19.582529Z",
     "shell.execute_reply": "2022-03-07T08:09:19.582211Z"
    },
    "papermill": {
     "duration": 0.030558,
     "end_time": "2022-03-07T08:09:19.582604",
     "exception": false,
     "start_time": "2022-03-07T08:09:19.552046",
     "status": "completed"
    },
    "tags": []
   },
   "outputs": [],
   "source": [
    "# # from steves_utils.wisig.utils import (\n",
    "# #     ALL_NODES_MINIMUM_100_EXAMPLES,\n",
    "# #     ALL_NODES_MINIMUM_500_EXAMPLES,\n",
    "# #     ALL_NODES_MINIMUM_1000_EXAMPLES,\n",
    "# #     ALL_DAYS\n",
    "# # )\n",
    "\n",
    "# import steves_utils.wisig.utils as wisig\n",
    "\n",
    "\n",
    "# add_dataset(\n",
    "#     labels=wisig.ALL_NODES_MINIMUM_100_EXAMPLES,\n",
    "#     domains = wisig.ALL_DAYS,\n",
    "#     num_examples_per_domain_per_label=100,\n",
    "#     pickle_path=os.path.join(get_datasets_base_path(), \"wisig.node3-19.stratified_ds.2022A.pkl\"),\n",
    "#     source_or_target_dataset=\"target\",\n",
    "#     x_transform_func=global_x_transform_func,\n",
    "#     domain_modifier=lambda u: f\"wisig_{u}\"\n",
    "# )"
   ]
  },
  {
   "cell_type": "code",
   "execution_count": 19,
   "id": "fd5442bc",
   "metadata": {
    "execution": {
     "iopub.execute_input": "2022-03-07T08:09:19.622341Z",
     "iopub.status.busy": "2022-03-07T08:09:19.622050Z",
     "iopub.status.idle": "2022-03-07T08:09:19.634581Z",
     "shell.execute_reply": "2022-03-07T08:09:19.634159Z"
    },
    "papermill": {
     "duration": 0.031666,
     "end_time": "2022-03-07T08:09:19.634681",
     "exception": false,
     "start_time": "2022-03-07T08:09:19.603015",
     "status": "completed"
    },
    "tags": []
   },
   "outputs": [],
   "source": [
    "###################################\n",
    "# Build the dataset\n",
    "###################################\n",
    "train_original_source = Iterable_Aggregator(train_original_source, p.seed)\n",
    "val_original_source = Iterable_Aggregator(val_original_source, p.seed)\n",
    "test_original_source = Iterable_Aggregator(test_original_source, p.seed)\n",
    "\n",
    "\n",
    "train_original_target = Iterable_Aggregator(train_original_target, p.seed)\n",
    "val_original_target = Iterable_Aggregator(val_original_target, p.seed)\n",
    "test_original_target = Iterable_Aggregator(test_original_target, p.seed)\n",
    "\n",
    "# For CNN We only use X and Y. And we only train on the source.\n",
    "# Properly form the data using a transform lambda and Lazy_Iterable_Wrapper. Finally wrap them in a dataloader\n",
    "\n",
    "transform_lambda = lambda ex: ex[1] # Original is (<domain>, <episode>) so we strip down to episode only\n",
    "\n",
    "train_processed_source = Lazy_Iterable_Wrapper(train_original_source, transform_lambda)\n",
    "val_processed_source   = Lazy_Iterable_Wrapper(val_original_source, transform_lambda)\n",
    "test_processed_source  = Lazy_Iterable_Wrapper(test_original_source, transform_lambda)\n",
    "\n",
    "train_processed_target = Lazy_Iterable_Wrapper(train_original_target, transform_lambda)\n",
    "val_processed_target   = Lazy_Iterable_Wrapper(val_original_target, transform_lambda)\n",
    "test_processed_target  = Lazy_Iterable_Wrapper(test_original_target, transform_lambda)\n",
    "\n",
    "datasets = EasyDict({\n",
    "    \"source\": {\n",
    "        \"original\": {\"train\":train_original_source, \"val\":val_original_source, \"test\":test_original_source},\n",
    "        \"processed\": {\"train\":train_processed_source, \"val\":val_processed_source, \"test\":test_processed_source}\n",
    "    },\n",
    "    \"target\": {\n",
    "        \"original\": {\"train\":train_original_target, \"val\":val_original_target, \"test\":test_original_target},\n",
    "        \"processed\": {\"train\":train_processed_target, \"val\":val_processed_target, \"test\":test_processed_target}\n",
    "    },\n",
    "})"
   ]
  },
  {
   "cell_type": "code",
   "execution_count": 20,
   "id": "5b3c01fc",
   "metadata": {
    "execution": {
     "iopub.execute_input": "2022-03-07T08:09:19.672216Z",
     "iopub.status.busy": "2022-03-07T08:09:19.671956Z",
     "iopub.status.idle": "2022-03-07T08:09:21.694826Z",
     "shell.execute_reply": "2022-03-07T08:09:21.694568Z"
    },
    "papermill": {
     "duration": 2.039964,
     "end_time": "2022-03-07T08:09:21.694890",
     "exception": false,
     "start_time": "2022-03-07T08:09:19.654926",
     "status": "completed"
    },
    "tags": []
   },
   "outputs": [
    {
     "name": "stdout",
     "output_type": "stream",
     "text": [
      "{'CORES_5', 'CORES_1', 'CORES_4', 'CORES_3', 'CORES_2'}\n"
     ]
    },
    {
     "name": "stdout",
     "output_type": "stream",
     "text": [
      "{'Wisig_2', 'Wisig_3', 'Wisig_4', 'Wisig_1'}\n"
     ]
    },
    {
     "name": "stdout",
     "output_type": "stream",
     "text": [
      "tensor([[[ 0.1215, -0.1711, -0.1785,  ..., -0.8925, -1.5108, -0.4858],\n",
      "         [ 0.2337,  0.0570, -0.3975,  ..., -0.7858,  0.7103,  0.5539]],\n",
      "\n",
      "        [[ 0.2050, -0.0629, -0.2122,  ...,  0.6655,  1.3975, -0.1529],\n",
      "         [-0.1475,  0.3831,  0.0054,  ...,  1.1421,  0.5522, -0.1169]],\n",
      "\n",
      "        [[ 0.1132, -0.1205, -0.2703,  ..., -0.9040, -1.4574, -0.5114],\n",
      "         [ 0.1735,  0.1315, -0.3762,  ..., -0.8091,  0.7287,  0.6922]],\n",
      "\n",
      "        ...,\n",
      "\n",
      "        [[ 1.1097,  1.1350,  1.2235,  ..., -0.0221, -0.1328, -0.4679],\n",
      "         [ 0.0980, -0.6228, -0.1106,  ..., -0.2055,  0.4394,  0.0537]],\n",
      "\n",
      "        [[-0.1463,  0.9066,  0.2990,  ..., -0.4867,  0.5599,  0.0191],\n",
      "         [-0.7921,  0.1686,  0.9448,  ..., -0.4263,  0.6203,  0.7762]],\n",
      "\n",
      "        [[ 0.4548,  0.0248, -0.8477,  ..., -0.5012, -0.8230, -0.8570],\n",
      "         [ 0.0804,  0.6807, -0.0062,  ..., -0.5353,  0.0712,  0.2785]]])\n"
     ]
    }
   ],
   "source": [
    "from steves_utils.transforms import get_average_magnitude, get_average_power\n",
    "\n",
    "print(set([u for u,_ in val_original_source]))\n",
    "print(set([u for u,_ in val_original_target]))\n",
    "\n",
    "s_x, s_y, q_x, q_y, _ = next(iter(train_processed_source))\n",
    "print(s_x)\n",
    "\n",
    "# for ds in [\n",
    "#     train_processed_source,\n",
    "#     val_processed_source,\n",
    "#     test_processed_source,\n",
    "#     train_processed_target,\n",
    "#     val_processed_target,\n",
    "#     test_processed_target\n",
    "# ]:\n",
    "#     for s_x, s_y, q_x, q_y, _ in ds:\n",
    "#         for X in (s_x, q_x):\n",
    "#             for x in X:\n",
    "#                 assert np.isclose(get_average_magnitude(x.numpy()), 1.0)\n",
    "#                 assert np.isclose(get_average_power(x.numpy()), 1.0)\n",
    "                "
   ]
  },
  {
   "cell_type": "code",
   "execution_count": 21,
   "id": "bbdacba1",
   "metadata": {
    "execution": {
     "iopub.execute_input": "2022-03-07T08:09:21.729723Z",
     "iopub.status.busy": "2022-03-07T08:09:21.729308Z",
     "iopub.status.idle": "2022-03-07T08:09:21.783913Z",
     "shell.execute_reply": "2022-03-07T08:09:21.784140Z"
    },
    "papermill": {
     "duration": 0.072486,
     "end_time": "2022-03-07T08:09:21.784220",
     "exception": false,
     "start_time": "2022-03-07T08:09:21.711734",
     "status": "completed"
    },
    "tags": []
   },
   "outputs": [
    {
     "name": "stdout",
     "output_type": "stream",
     "text": [
      "(2, 256)\n"
     ]
    }
   ],
   "source": [
    "###################################\n",
    "# Build the model\n",
    "###################################\n",
    "model = Steves_Prototypical_Network(x_net, device=p.device, x_shape=(2,256))\n",
    "optimizer = Adam(params=model.parameters(), lr=p.lr)"
   ]
  },
  {
   "cell_type": "code",
   "execution_count": 22,
   "id": "22b39ac5",
   "metadata": {
    "execution": {
     "iopub.execute_input": "2022-03-07T08:09:21.819838Z",
     "iopub.status.busy": "2022-03-07T08:09:21.819426Z",
     "iopub.status.idle": "2022-03-07T08:10:15.592770Z",
     "shell.execute_reply": "2022-03-07T08:10:15.592322Z"
    },
    "papermill": {
     "duration": 53.791375,
     "end_time": "2022-03-07T08:10:15.592885",
     "exception": false,
     "start_time": "2022-03-07T08:09:21.801510",
     "status": "completed"
    },
    "tags": []
   },
   "outputs": [
    {
     "name": "stdout",
     "output_type": "stream",
     "text": [
      "epoch: 1, [batch: 1 / 210], examples_per_second: 979.6694, train_label_loss: 3.8544, \n"
     ]
    },
    {
     "name": "stdout",
     "output_type": "stream",
     "text": [
      "epoch: 1, [batch: 21 / 210], examples_per_second: 3802.4533, train_label_loss: 0.3352, \n"
     ]
    },
    {
     "name": "stdout",
     "output_type": "stream",
     "text": [
      "epoch: 1, [batch: 42 / 210], examples_per_second: 3853.4159, train_label_loss: 0.2136, \n"
     ]
    },
    {
     "name": "stdout",
     "output_type": "stream",
     "text": [
      "epoch: 1, [batch: 63 / 210], examples_per_second: 3844.3437, train_label_loss: 0.0914, \n"
     ]
    },
    {
     "name": "stdout",
     "output_type": "stream",
     "text": [
      "epoch: 1, [batch: 84 / 210], examples_per_second: 3861.8653, train_label_loss: 0.1117, \n"
     ]
    },
    {
     "name": "stdout",
     "output_type": "stream",
     "text": [
      "epoch: 1, [batch: 105 / 210], examples_per_second: 3861.7111, train_label_loss: 0.0130, \n"
     ]
    },
    {
     "name": "stdout",
     "output_type": "stream",
     "text": [
      "epoch: 1, [batch: 126 / 210], examples_per_second: 3863.6457, train_label_loss: 0.0735, \n"
     ]
    },
    {
     "name": "stdout",
     "output_type": "stream",
     "text": [
      "epoch: 1, [batch: 147 / 210], examples_per_second: 3845.5360, train_label_loss: 0.0344, \n"
     ]
    },
    {
     "name": "stdout",
     "output_type": "stream",
     "text": [
      "epoch: 1, [batch: 168 / 210], examples_per_second: 3863.8538, train_label_loss: 0.0254, \n"
     ]
    },
    {
     "name": "stdout",
     "output_type": "stream",
     "text": [
      "epoch: 1, [batch: 189 / 210], examples_per_second: 3862.4539, train_label_loss: 0.0420, \n"
     ]
    },
    {
     "name": "stdout",
     "output_type": "stream",
     "text": [
      "=============================================================\n",
      "epoch: 1, source_val_acc_label: 0.9917, target_val_acc_label: 0.6904, source_val_label_loss: 0.0253, target_val_label_loss: 2.8112, \n",
      "=============================================================\n"
     ]
    },
    {
     "name": "stdout",
     "output_type": "stream",
     "text": [
      "New best\n"
     ]
    },
    {
     "name": "stdout",
     "output_type": "stream",
     "text": [
      "epoch: 2, [batch: 1 / 210], examples_per_second: 148.6868, train_label_loss: 0.0088, \n"
     ]
    },
    {
     "name": "stdout",
     "output_type": "stream",
     "text": [
      "epoch: 2, [batch: 21 / 210], examples_per_second: 3901.7995, train_label_loss: 0.0061, \n"
     ]
    },
    {
     "name": "stdout",
     "output_type": "stream",
     "text": [
      "epoch: 2, [batch: 42 / 210], examples_per_second: 3931.9814, train_label_loss: 0.0030, \n"
     ]
    },
    {
     "name": "stdout",
     "output_type": "stream",
     "text": [
      "epoch: 2, [batch: 63 / 210], examples_per_second: 3916.8718, train_label_loss: 0.0512, \n"
     ]
    },
    {
     "name": "stdout",
     "output_type": "stream",
     "text": [
      "epoch: 2, [batch: 84 / 210], examples_per_second: 3929.0892, train_label_loss: 0.0025, \n"
     ]
    },
    {
     "name": "stdout",
     "output_type": "stream",
     "text": [
      "epoch: 2, [batch: 105 / 210], examples_per_second: 3928.2106, train_label_loss: 0.0511, \n"
     ]
    },
    {
     "name": "stdout",
     "output_type": "stream",
     "text": [
      "epoch: 2, [batch: 126 / 210], examples_per_second: 3932.8108, train_label_loss: 0.0258, \n"
     ]
    },
    {
     "name": "stdout",
     "output_type": "stream",
     "text": [
      "epoch: 2, [batch: 147 / 210], examples_per_second: 3916.6916, train_label_loss: 0.0082, \n"
     ]
    },
    {
     "name": "stdout",
     "output_type": "stream",
     "text": [
      "epoch: 2, [batch: 168 / 210], examples_per_second: 3940.7020, train_label_loss: 0.0483, \n"
     ]
    },
    {
     "name": "stdout",
     "output_type": "stream",
     "text": [
      "epoch: 2, [batch: 189 / 210], examples_per_second: 3933.7902, train_label_loss: 0.0027, \n"
     ]
    },
    {
     "name": "stdout",
     "output_type": "stream",
     "text": [
      "=============================================================\n",
      "epoch: 2, source_val_acc_label: 0.9813, target_val_acc_label: 0.6643, source_val_label_loss: 0.0687, target_val_label_loss: 4.3670, \n",
      "=============================================================\n"
     ]
    },
    {
     "name": "stdout",
     "output_type": "stream",
     "text": [
      "epoch: 3, [batch: 1 / 210], examples_per_second: 147.6879, train_label_loss: 0.0023, \n"
     ]
    },
    {
     "name": "stdout",
     "output_type": "stream",
     "text": [
      "epoch: 3, [batch: 21 / 210], examples_per_second: 3872.5203, train_label_loss: 0.0056, \n"
     ]
    },
    {
     "name": "stdout",
     "output_type": "stream",
     "text": [
      "epoch: 3, [batch: 42 / 210], examples_per_second: 3891.7982, train_label_loss: 0.1092, \n"
     ]
    },
    {
     "name": "stdout",
     "output_type": "stream",
     "text": [
      "epoch: 3, [batch: 63 / 210], examples_per_second: 3885.9196, train_label_loss: 0.0035, \n"
     ]
    },
    {
     "name": "stdout",
     "output_type": "stream",
     "text": [
      "epoch: 3, [batch: 84 / 210], examples_per_second: 3902.0322, train_label_loss: 0.0174, \n"
     ]
    },
    {
     "name": "stdout",
     "output_type": "stream",
     "text": [
      "epoch: 3, [batch: 105 / 210], examples_per_second: 3904.8931, train_label_loss: 0.0498, \n"
     ]
    },
    {
     "name": "stdout",
     "output_type": "stream",
     "text": [
      "epoch: 3, [batch: 126 / 210], examples_per_second: 3909.5148, train_label_loss: 0.0427, \n"
     ]
    },
    {
     "name": "stdout",
     "output_type": "stream",
     "text": [
      "epoch: 3, [batch: 147 / 210], examples_per_second: 3890.0574, train_label_loss: 0.0031, \n"
     ]
    },
    {
     "name": "stdout",
     "output_type": "stream",
     "text": [
      "epoch: 3, [batch: 168 / 210], examples_per_second: 3910.2294, train_label_loss: 0.0015, \n"
     ]
    },
    {
     "name": "stdout",
     "output_type": "stream",
     "text": [
      "epoch: 3, [batch: 189 / 210], examples_per_second: 3904.7367, train_label_loss: 0.0022, \n"
     ]
    },
    {
     "name": "stdout",
     "output_type": "stream",
     "text": [
      "=============================================================\n",
      "epoch: 3, source_val_acc_label: 0.9874, target_val_acc_label: 0.6789, source_val_label_loss: 0.0628, target_val_label_loss: 6.3792, \n",
      "=============================================================\n"
     ]
    }
   ],
   "source": [
    "###################################\n",
    "# train\n",
    "###################################\n",
    "jig = PTN_Train_Eval_Test_Jig(model, p.BEST_MODEL_PATH, p.device)\n",
    "\n",
    "jig.train(\n",
    "    train_iterable=datasets.source.processed.train,\n",
    "    source_val_iterable=datasets.source.processed.val,\n",
    "    target_val_iterable=datasets.target.processed.val,\n",
    "    num_epochs=p.n_epoch,\n",
    "    num_logs_per_epoch=p.NUM_LOGS_PER_EPOCH,\n",
    "    patience=p.patience,\n",
    "    optimizer=optimizer,\n",
    "    criteria_for_best=p.criteria_for_best,\n",
    ")"
   ]
  },
  {
   "cell_type": "code",
   "execution_count": 23,
   "id": "31e8fabf",
   "metadata": {
    "execution": {
     "iopub.execute_input": "2022-03-07T08:10:15.642921Z",
     "iopub.status.busy": "2022-03-07T08:10:15.642641Z",
     "iopub.status.idle": "2022-03-07T08:10:15.660032Z",
     "shell.execute_reply": "2022-03-07T08:10:15.659538Z"
    },
    "papermill": {
     "duration": 0.040848,
     "end_time": "2022-03-07T08:10:15.660140",
     "exception": false,
     "start_time": "2022-03-07T08:10:15.619292",
     "status": "completed"
    },
    "tags": []
   },
   "outputs": [],
   "source": [
    "total_experiment_time_secs = time.time() - start_time_secs"
   ]
  },
  {
   "cell_type": "code",
   "execution_count": 24,
   "id": "87b9595b",
   "metadata": {
    "execution": {
     "iopub.execute_input": "2022-03-07T08:10:15.713911Z",
     "iopub.status.busy": "2022-03-07T08:10:15.713633Z",
     "iopub.status.idle": "2022-03-07T08:10:26.275432Z",
     "shell.execute_reply": "2022-03-07T08:10:26.275177Z"
    },
    "papermill": {
     "duration": 10.58818,
     "end_time": "2022-03-07T08:10:26.275497",
     "exception": false,
     "start_time": "2022-03-07T08:10:15.687317",
     "status": "completed"
    },
    "tags": []
   },
   "outputs": [],
   "source": [
    "###################################\n",
    "# Evaluate the model\n",
    "###################################\n",
    "source_test_label_accuracy, source_test_label_loss = jig.test(datasets.source.processed.test)\n",
    "target_test_label_accuracy, target_test_label_loss = jig.test(datasets.target.processed.test)\n",
    "\n",
    "source_val_label_accuracy, source_val_label_loss = jig.test(datasets.source.processed.val)\n",
    "target_val_label_accuracy, target_val_label_loss = jig.test(datasets.target.processed.val)\n",
    "\n",
    "history = jig.get_history()\n",
    "\n",
    "total_epochs_trained = len(history[\"epoch_indices\"])\n",
    "\n",
    "val_dl = Iterable_Aggregator((datasets.source.original.val,datasets.target.original.val))\n",
    "\n",
    "confusion = ptn_confusion_by_domain_over_dataloader(model, p.device, val_dl)\n",
    "per_domain_accuracy = per_domain_accuracy_from_confusion(confusion)\n",
    "\n",
    "# Add a key to per_domain_accuracy for if it was a source domain\n",
    "for domain, accuracy in per_domain_accuracy.items():\n",
    "    per_domain_accuracy[domain] = {\n",
    "        \"accuracy\": accuracy,\n",
    "        \"source?\": domain in p.domains_source\n",
    "    }\n",
    "\n",
    "# Do an independent accuracy assesment JUST TO BE SURE!\n",
    "# _source_test_label_accuracy = independent_accuracy_assesment(model, datasets.source.processed.test, p.device)\n",
    "# _target_test_label_accuracy = independent_accuracy_assesment(model, datasets.target.processed.test, p.device)\n",
    "# _source_val_label_accuracy = independent_accuracy_assesment(model, datasets.source.processed.val, p.device)\n",
    "# _target_val_label_accuracy = independent_accuracy_assesment(model, datasets.target.processed.val, p.device)\n",
    "\n",
    "# assert(_source_test_label_accuracy == source_test_label_accuracy)\n",
    "# assert(_target_test_label_accuracy == target_test_label_accuracy)\n",
    "# assert(_source_val_label_accuracy == source_val_label_accuracy)\n",
    "# assert(_target_val_label_accuracy == target_val_label_accuracy)\n",
    "\n",
    "experiment = {\n",
    "    \"experiment_name\": p.experiment_name,\n",
    "    \"parameters\": dict(p),\n",
    "    \"results\": {\n",
    "        \"source_test_label_accuracy\": source_test_label_accuracy,\n",
    "        \"source_test_label_loss\": source_test_label_loss,\n",
    "        \"target_test_label_accuracy\": target_test_label_accuracy,\n",
    "        \"target_test_label_loss\": target_test_label_loss,\n",
    "        \"source_val_label_accuracy\": source_val_label_accuracy,\n",
    "        \"source_val_label_loss\": source_val_label_loss,\n",
    "        \"target_val_label_accuracy\": target_val_label_accuracy,\n",
    "        \"target_val_label_loss\": target_val_label_loss,\n",
    "        \"total_epochs_trained\": total_epochs_trained,\n",
    "        \"total_experiment_time_secs\": total_experiment_time_secs,\n",
    "        \"confusion\": confusion,\n",
    "        \"per_domain_accuracy\": per_domain_accuracy,\n",
    "    },\n",
    "    \"history\": history,\n",
    "    \"dataset_metrics\": get_dataset_metrics(datasets, \"ptn\"),\n",
    "}"
   ]
  },
  {
   "cell_type": "code",
   "execution_count": 25,
   "id": "54a21829",
   "metadata": {
    "execution": {
     "iopub.execute_input": "2022-03-07T08:10:26.321347Z",
     "iopub.status.busy": "2022-03-07T08:10:26.320726Z",
     "iopub.status.idle": "2022-03-07T08:10:26.493995Z",
     "shell.execute_reply": "2022-03-07T08:10:26.493534Z"
    },
    "papermill": {
     "duration": 0.19732,
     "end_time": "2022-03-07T08:10:26.494088",
     "exception": false,
     "start_time": "2022-03-07T08:10:26.296768",
     "status": "completed"
    },
    "tags": []
   },
   "outputs": [
    {
     "data": {
      "image/png": "[encoded data removed]",
      "text/plain": [
       "<Figure size 1080x504 with 1 Axes>"
      ]
     },
     "metadata": {
      "needs_background": "light"
     },
     "output_type": "display_data"
    }
   ],
   "source": [
    "ax = get_loss_curve(experiment)\n",
    "plt.show()"
   ]
  },
  {
   "cell_type": "code",
   "execution_count": 26,
   "id": "fd8a0f60",
   "metadata": {
    "execution": {
     "iopub.execute_input": "2022-03-07T08:10:26.543941Z",
     "iopub.status.busy": "2022-03-07T08:10:26.543167Z",
     "iopub.status.idle": "2022-03-07T08:10:26.720948Z",
     "shell.execute_reply": "2022-03-07T08:10:26.720520Z"
    },
    "papermill": {
     "duration": 0.20103,
     "end_time": "2022-03-07T08:10:26.721046",
     "exception": false,
     "start_time": "2022-03-07T08:10:26.520016",
     "status": "completed"
    },
    "tags": []
   },
   "outputs": [
    {
     "data": {
      "text/plain": [
       "<matplotlib.axes._subplots.AxesSubplot at 0x7fa9083f2b20>"
      ]
     },
     "execution_count": 26,
     "metadata": {},
     "output_type": "execute_result"
    },
    {
     "data": {
      "image/png": "[encoded data removed]",
      "text/plain": [
       "<Figure size 1080x504 with 1 Axes>"
      ]
     },
     "metadata": {
      "needs_background": "light"
     },
     "output_type": "display_data"
    }
   ],
   "source": [
    "get_results_table(experiment)"
   ]
  },
  {
   "cell_type": "code",
   "execution_count": 27,
   "id": "cf8dc689",
   "metadata": {
    "execution": {
     "iopub.execute_input": "2022-03-07T08:10:26.776240Z",
     "iopub.status.busy": "2022-03-07T08:10:26.775909Z",
     "iopub.status.idle": "2022-03-07T08:10:26.958182Z",
     "shell.execute_reply": "2022-03-07T08:10:26.957796Z"
    },
    "papermill": {
     "duration": 0.208409,
     "end_time": "2022-03-07T08:10:26.958273",
     "exception": false,
     "start_time": "2022-03-07T08:10:26.749864",
     "status": "completed"
    },
    "tags": []
   },
   "outputs": [
    {
     "data": {
      "text/plain": [
       "<matplotlib.axes._subplots.AxesSubplot at 0x7fa908426d00>"
      ]
     },
     "execution_count": 27,
     "metadata": {},
     "output_type": "execute_result"
    },
    {
     "data": {
      "image/png": "[encoded data removed]",
      "text/plain": [
       "<Figure size 1080x504 with 1 Axes>"
      ]
     },
     "metadata": {
      "needs_background": "light"
     },
     "output_type": "display_data"
    }
   ],
   "source": [
    "get_domain_accuracies(experiment)"
   ]
  },
  {
   "cell_type": "code",
   "execution_count": 28,
   "id": "a74ae082",
   "metadata": {
    "execution": {
     "iopub.execute_input": "2022-03-07T08:10:27.014911Z",
     "iopub.status.busy": "2022-03-07T08:10:27.014391Z",
     "iopub.status.idle": "2022-03-07T08:10:27.028609Z",
     "shell.execute_reply": "2022-03-07T08:10:27.028180Z"
    },
    "papermill": {
     "duration": 0.040506,
     "end_time": "2022-03-07T08:10:27.028700",
     "exception": false,
     "start_time": "2022-03-07T08:10:26.988194",
     "status": "completed"
    },
    "tags": []
   },
   "outputs": [
    {
     "name": "stdout",
     "output_type": "stream",
     "text": [
      "Source Test Label Accuracy: 0.992816091954023 Target Test Label Accuracy: 0.6812140804597702\n",
      "Source Val Label Accuracy: 0.9916666666666667 Target Val Label Accuracy: 0.6903735632183908\n"
     ]
    }
   ],
   "source": [
    "print(\"Source Test Label Accuracy:\", experiment[\"results\"][\"source_test_label_accuracy\"], \"Target Test Label Accuracy:\", experiment[\"results\"][\"target_test_label_accuracy\"])\n",
    "print(\"Source Val Label Accuracy:\", experiment[\"results\"][\"source_val_label_accuracy\"], \"Target Val Label Accuracy:\", experiment[\"results\"][\"target_val_label_accuracy\"])"
   ]
  },
  {
   "cell_type": "code",
   "execution_count": 29,
   "id": "dacca602",
   "metadata": {
    "execution": {
     "iopub.execute_input": "2022-03-07T08:10:27.090786Z",
     "iopub.status.busy": "2022-03-07T08:10:27.083438Z",
     "iopub.status.idle": "2022-03-07T08:10:27.098368Z",
     "shell.execute_reply": "2022-03-07T08:10:27.098831Z"
    },
    "papermill": {
     "duration": 0.04153,
     "end_time": "2022-03-07T08:10:27.098953",
     "exception": false,
     "start_time": "2022-03-07T08:10:27.057423",
     "status": "completed"
    },
    "tags": [
     "experiment_json"
    ]
   },
   "outputs": [
    {
     "data": {
      "text/plain": [
       "'{\"experiment_name\": \"tl_1_cores-wisig\", \"parameters\": {\"experiment_name\": \"tl_1_cores-wisig\", \"device\": \"cuda\", \"lr\": 0.001, \"seed\": 1337, \"dataset_seed\": 1337, \"n_shot\": 3, \"n_query\": 2, \"train_k_factor\": 3, \"val_k_factor\": 2, \"test_k_factor\": 2, \"torch_default_dtype\": \"torch.float32\", \"n_epoch\": 3, \"patience\": 3, \"criteria_for_best\": \"target_loss\", \"x_net\": [{\"class\": \"nnReshape\", \"kargs\": {\"shape\": [-1, 1, 2, 256]}}, {\"class\": \"Conv2d\", \"kargs\": {\"in_channels\": 1, \"out_channels\": 256, \"kernel_size\": [1, 7], \"bias\": false, \"padding\": [0, 3]}}, {\"class\": \"ReLU\", \"kargs\": {\"inplace\": true}}, {\"class\": \"BatchNorm2d\", \"kargs\": {\"num_features\": 256}}, {\"class\": \"Conv2d\", \"kargs\": {\"in_channels\": 256, \"out_channels\": 80, \"kernel_size\": [2, 7], \"bias\": true, \"padding\": [0, 3]}}, {\"class\": \"ReLU\", \"kargs\": {\"inplace\": true}}, {\"class\": \"BatchNorm2d\", \"kargs\": {\"num_features\": 80}}, {\"class\": \"Flatten\", \"kargs\": {}}, {\"class\": \"Linear\", \"kargs\": {\"in_features\": 20480, \"out_features\": 256}}, {\"class\": \"ReLU\", \"kargs\": {\"inplace\": true}}, {\"class\": \"BatchNorm1d\", \"kargs\": {\"num_features\": 256}}, {\"class\": \"Linear\", \"kargs\": {\"in_features\": 256, \"out_features\": 256}}], \"NUM_LOGS_PER_EPOCH\": 10, \"BEST_MODEL_PATH\": \"./best_model.pth\", \"n_way\": 58, \"datasets\": [{\"labels\": [\"1-10.\", \"1-11.\", \"1-15.\", \"1-16.\", \"1-17.\", \"1-18.\", \"1-19.\", \"10-4.\", \"10-7.\", \"11-1.\", \"11-14.\", \"11-17.\", \"11-20.\", \"11-7.\", \"13-20.\", \"13-8.\", \"14-10.\", \"14-11.\", \"14-14.\", \"14-7.\", \"15-1.\", \"15-20.\", \"16-1.\", \"16-16.\", \"17-10.\", \"17-11.\", \"17-2.\", \"19-1.\", \"19-16.\", \"19-19.\", \"19-20.\", \"19-3.\", \"2-10.\", \"2-11.\", \"2-17.\", \"2-18.\", \"2-20.\", \"2-3.\", \"2-4.\", \"2-5.\", \"2-6.\", \"2-7.\", \"2-8.\", \"3-13.\", \"3-18.\", \"3-3.\", \"4-1.\", \"4-10.\", \"4-11.\", \"4-19.\", \"5-5.\", \"6-15.\", \"7-10.\", \"7-14.\", \"8-18.\", \"8-20.\", \"8-3.\", \"8-8.\"], \"domains\": [1, 2, 3, 4, 5], \"num_examples_per_domain_per_label\": 100, \"pickle_path\": \"/mnt/wd500GB/CSC500/csc500-main/datasets/cores.stratified_ds.2022A.pkl\", \"source_or_target_dataset\": \"source\", \"x_transforms\": [\"unit_power\"], \"episode_transforms\": [], \"domain_prefix\": \"CORES_\"}, {\"labels\": [\"1-10\", \"1-12\", \"1-14\", \"1-16\", \"1-18\", \"1-19\", \"1-8\", \"10-11\", \"10-17\", \"10-4\", \"10-7\", \"11-1\", \"11-10\", \"11-19\", \"11-20\", \"11-4\", \"11-7\", \"12-19\", \"12-20\", \"12-7\", \"13-14\", \"13-18\", \"13-19\", \"13-20\", \"13-3\", \"13-7\", \"14-10\", \"14-11\", \"14-12\", \"14-13\", \"14-14\", \"14-19\", \"14-20\", \"14-7\", \"14-8\", \"14-9\", \"15-1\", \"15-19\", \"15-6\", \"16-1\", \"16-16\", \"16-19\", \"16-20\", \"17-10\", \"17-11\", \"18-1\", \"18-10\", \"18-11\", \"18-12\", \"18-13\", \"18-14\", \"18-15\", \"18-16\", \"18-17\", \"18-19\", \"18-2\", \"18-20\", \"18-4\", \"18-5\", \"18-7\", \"18-8\", \"18-9\", \"19-1\", \"19-10\", \"19-11\", \"19-12\", \"19-13\", \"19-14\", \"19-15\", \"19-19\", \"19-2\", \"19-20\", \"19-3\", \"19-4\", \"19-6\", \"19-7\", \"19-8\", \"19-9\", \"2-1\", \"2-13\", \"2-15\", \"2-3\", \"2-4\", \"2-5\", \"2-6\", \"2-7\", \"2-8\", \"20-1\", \"20-12\", \"20-14\", \"20-15\", \"20-16\", \"20-18\", \"20-19\", \"20-20\", \"20-3\", \"20-4\", \"20-5\", \"20-7\", \"20-8\", \"3-1\", \"3-13\", \"3-18\", \"3-2\", \"3-8\", \"4-1\", \"4-10\", \"4-11\", \"5-1\", \"5-5\", \"6-1\", \"6-15\", \"6-6\", \"7-10\", \"7-11\", \"7-12\", \"7-13\", \"7-14\", \"7-7\", \"7-8\", \"7-9\", \"8-1\", \"8-13\", \"8-14\", \"8-18\", \"8-20\", \"8-3\", \"8-8\", \"9-1\", \"9-7\"], \"domains\": [1, 2, 3, 4], \"num_examples_per_domain_per_label\": 100, \"pickle_path\": \"/mnt/wd500GB/CSC500/csc500-main/datasets/wisig.node3-19.stratified_ds.2022A.pkl\", \"source_or_target_dataset\": \"target\", \"x_transforms\": [\"unit_power\"], \"episode_transforms\": [], \"domain_prefix\": \"Wisig_\"}], \"domains_source\": [\"CORES_1\", \"CORES_2\", \"CORES_3\", \"CORES_4\", \"CORES_5\"], \"domains_target\": [\"Wisig_1\", \"Wisig_2\", \"Wisig_3\", \"Wisig_4\"]}, \"results\": {\"source_test_label_accuracy\": 0.992816091954023, \"source_test_label_loss\": 0.028390657156705856, \"target_test_label_accuracy\": 0.6812140804597702, \"target_test_label_loss\": 2.858860969543457, \"source_val_label_accuracy\": 0.9916666666666667, \"source_val_label_loss\": 0.025280527770519257, \"target_val_label_accuracy\": 0.6903735632183908, \"target_val_label_loss\": 2.8111629486083984, \"total_epochs_trained\": 3, \"total_experiment_time_secs\": 61.99276781082153, \"confusion\": {\"CORES_3\": {\"1\": {\"1\": 12}, \"28\": {\"28\": 12}, \"21\": {\"21\": 11, \"50\": 1}, \"27\": {\"27\": 12}, \"20\": {\"20\": 12}, \"16\": {\"16\": 12}, \"48\": {\"48\": 12}, \"42\": {\"42\": 12}, \"45\": {\"45\": 12}, \"41\": {\"41\": 12}, \"13\": {\"13\": 12}, \"50\": {\"50\": 11, \"3\": 1}, \"32\": {\"32\": 12}, \"51\": {\"51\": 12}, \"30\": {\"30\": 12}, \"38\": {\"38\": 12}, \"7\": {\"7\": 12}, \"22\": {\"22\": 12}, \"37\": {\"37\": 12}, \"33\": {\"33\": 12}, \"6\": {\"6\": 12}, \"14\": {\"14\": 12}, \"40\": {\"40\": 12}, \"55\": {\"55\": 12}, \"2\": {\"2\": 12}, \"39\": {\"39\": 12}, \"56\": {\"56\": 12}, \"17\": {\"17\": 12}, \"10\": {\"10\": 12}, \"9\": {\"9\": 12}, \"31\": {\"31\": 12}, \"12\": {\"12\": 12}, \"25\": {\"25\": 12}, \"0\": {\"0\": 12}, \"47\": {\"47\": 12}, \"44\": {\"44\": 12}, \"23\": {\"23\": 12}, \"15\": {\"15\": 12}, \"8\": {\"8\": 12}, \"54\": {\"54\": 12}, \"52\": {\"52\": 12}, \"29\": {\"29\": 12}, \"5\": {\"5\": 12}, \"34\": {\"34\": 12}, \"35\": {\"35\": 12}, \"26\": {\"26\": 12}, \"57\": {\"57\": 12}, \"53\": {\"53\": 12}, \"36\": {\"36\": 12}, \"18\": {\"18\": 12}, \"49\": {\"49\": 12}, \"3\": {\"3\": 12}, \"4\": {\"4\": 12}, \"24\": {\"24\": 12}, \"11\": {\"11\": 12}, \"19\": {\"19\": 12}, \"43\": {\"43\": 12}, \"46\": {\"46\": 11, \"15\": 1}}, \"CORES_4\": {\"9\": {\"9\": 12}, \"4\": {\"4\": 12}, \"20\": {\"20\": 12}, \"26\": {\"26\": 12}, \"19\": {\"19\": 12}, \"35\": {\"35\": 12}, \"14\": {\"14\": 12}, \"10\": {\"10\": 12}, \"1\": {\"1\": 12}, \"3\": {\"3\": 8, \"53\": 1, \"6\": 2, \"50\": 1}, \"29\": {\"29\": 12}, \"47\": {\"47\": 12}, \"50\": {\"3\": 2, \"50\": 10}, \"51\": {\"51\": 12}, \"55\": {\"55\": 10, \"31\": 2}, \"27\": {\"27\": 12}, \"31\": {\"31\": 12}, \"30\": {\"30\": 10, \"50\": 2}, \"37\": {\"37\": 12}, \"36\": {\"36\": 12}, \"48\": {\"48\": 12}, \"46\": {\"46\": 12}, \"25\": {\"25\": 12}, \"53\": {\"53\": 12}, \"0\": {\"0\": 12}, \"8\": {\"8\": 12}, \"15\": {\"15\": 12}, \"22\": {\"22\": 12}, \"45\": {\"45\": 12}, \"43\": {\"43\": 12}, \"12\": {\"12\": 12}, \"24\": {\"24\": 12}, \"11\": {\"11\": 12}, \"44\": {\"44\": 12}, \"5\": {\"5\": 12}, \"6\": {\"6\": 12}, \"49\": {\"49\": 12}, \"2\": {\"2\": 12}, \"18\": {\"18\": 12}, \"54\": {\"54\": 12}, \"41\": {\"41\": 12}, \"38\": {\"38\": 12}, \"34\": {\"34\": 12}, \"21\": {\"21\": 12}, \"57\": {\"57\": 12}, \"33\": {\"33\": 12}, \"17\": {\"17\": 12}, \"40\": {\"40\": 12}, \"28\": {\"28\": 12}, \"16\": {\"16\": 12}, \"56\": {\"56\": 12}, \"39\": {\"39\": 12}, \"13\": {\"13\": 12}, \"23\": {\"23\": 12}, \"7\": {\"7\": 12}, \"52\": {\"52\": 12}, \"42\": {\"42\": 10, \"33\": 2}, \"32\": {\"32\": 12}}, \"CORES_2\": {\"16\": {\"16\": 12}, \"31\": {\"31\": 12}, \"29\": {\"29\": 12}, \"54\": {\"54\": 12}, \"52\": {\"46\": 1, \"52\": 11}, \"27\": {\"27\": 12}, \"37\": {\"37\": 12}, \"12\": {\"12\": 12}, \"0\": {\"0\": 12}, \"43\": {\"43\": 12}, \"21\": {\"21\": 12}, \"47\": {\"47\": 12}, \"56\": {\"56\": 12}, \"26\": {\"26\": 12}, \"28\": {\"28\": 12}, \"48\": {\"48\": 12}, \"40\": {\"40\": 12}, \"5\": {\"5\": 12}, \"17\": {\"17\": 12}, \"9\": {\"9\": 12}, \"30\": {\"30\": 12}, \"24\": {\"24\": 12}, \"32\": {\"32\": 12}, \"39\": {\"39\": 12}, \"8\": {\"8\": 12}, \"13\": {\"13\": 12}, \"23\": {\"23\": 12}, \"35\": {\"35\": 12}, \"4\": {\"4\": 12}, \"19\": {\"19\": 12}, \"25\": {\"25\": 12}, \"14\": {\"14\": 12}, \"34\": {\"34\": 11, \"2\": 1}, \"45\": {\"45\": 12}, \"2\": {\"2\": 12}, \"41\": {\"41\": 12}, \"6\": {\"6\": 12}, \"7\": {\"7\": 12}, \"55\": {\"55\": 12}, \"22\": {\"22\": 12}, \"3\": {\"3\": 12}, \"15\": {\"15\": 12}, \"53\": {\"53\": 12}, \"42\": {\"42\": 12}, \"51\": {\"51\": 12}, \"38\": {\"38\": 12}, \"1\": {\"1\": 12}, \"10\": {\"10\": 12}, \"49\": {\"49\": 12}, \"36\": {\"36\": 12}, \"11\": {\"11\": 12}, \"46\": {\"46\": 12}, \"44\": {\"44\": 12}, \"57\": {\"57\": 12}, \"33\": {\"33\": 12}, \"18\": {\"18\": 12}, \"50\": {\"50\": 12}, \"20\": {\"20\": 12}}, \"CORES_1\": {\"32\": {\"32\": 12}, \"53\": {\"53\": 12}, \"27\": {\"27\": 12}, \"2\": {\"2\": 12}, \"37\": {\"37\": 12}, \"34\": {\"34\": 12}, \"0\": {\"0\": 12}, \"25\": {\"25\": 12}, \"54\": {\"54\": 12}, \"6\": {\"6\": 12}, \"11\": {\"11\": 12}, \"36\": {\"36\": 12}, \"28\": {\"28\": 12}, \"18\": {\"18\": 12}, \"16\": {\"16\": 12}, \"33\": {\"33\": 12}, \"3\": {\"3\": 11, \"32\": 1}, \"5\": {\"5\": 12}, \"29\": {\"29\": 12}, \"14\": {\"14\": 12}, \"38\": {\"38\": 12}, \"7\": {\"7\": 12}, \"9\": {\"9\": 12}, \"24\": {\"24\": 11, \"22\": 1}, \"12\": {\"12\": 12}, \"49\": {\"49\": 12}, \"46\": {\"46\": 12}, \"55\": {\"55\": 12}, \"1\": {\"1\": 11, \"57\": 1}, \"31\": {\"31\": 12}, \"8\": {\"8\": 12}, \"10\": {\"10\": 12}, \"22\": {\"22\": 12}, \"43\": {\"43\": 12}, \"51\": {\"51\": 12}, \"35\": {\"35\": 12}, \"13\": {\"13\": 12}, \"50\": {\"50\": 12}, \"15\": {\"15\": 12}, \"30\": {\"30\": 12}, \"47\": {\"47\": 12}, \"26\": {\"26\": 12}, \"20\": {\"20\": 12}, \"52\": {\"52\": 12}, \"57\": {\"57\": 12}, \"39\": {\"39\": 12}, \"23\": {\"23\": 12}, \"21\": {\"21\": 12}, \"42\": {\"42\": 12}, \"45\": {\"45\": 12}, \"48\": {\"48\": 12}, \"40\": {\"40\": 12}, \"17\": {\"17\": 12}, \"4\": {\"4\": 12}, \"19\": {\"19\": 12}, \"41\": {\"41\": 12}, \"44\": {\"44\": 12}, \"56\": {\"56\": 12}}, \"CORES_5\": {\"19\": {\"19\": 12}, \"34\": {\"34\": 12}, \"20\": {\"20\": 12}, \"14\": {\"14\": 12}, \"0\": {\"0\": 12}, \"2\": {\"2\": 12}, \"27\": {\"27\": 12}, \"15\": {\"15\": 12}, \"57\": {\"57\": 12}, \"55\": {\"55\": 10, \"6\": 1, \"45\": 1}, \"26\": {\"26\": 12}, \"51\": {\"51\": 12}, \"54\": {\"54\": 12}, \"47\": {\"47\": 12}, \"24\": {\"24\": 12}, \"12\": {\"12\": 12}, \"32\": {\"32\": 12}, \"18\": {\"18\": 12}, \"4\": {\"4\": 12}, \"3\": {\"3\": 10, \"46\": 2}, \"43\": {\"43\": 12}, \"40\": {\"40\": 12}, \"31\": {\"31\": 12}, \"1\": {\"1\": 12}, \"30\": {\"30\": 12}, \"29\": {\"29\": 12}, \"25\": {\"25\": 12}, \"33\": {\"33\": 12}, \"6\": {\"6\": 12}, \"48\": {\"17\": 2, \"48\": 10}, \"21\": {\"21\": 12}, \"36\": {\"36\": 12}, \"46\": {\"46\": 12}, \"13\": {\"13\": 12}, \"10\": {\"10\": 12}, \"45\": {\"45\": 9, \"26\": 2, \"6\": 1}, \"35\": {\"35\": 12}, \"53\": {\"53\": 12}, \"16\": {\"16\": 12}, \"23\": {\"23\": 12}, \"11\": {\"11\": 12}, \"17\": {\"17\": 12}, \"37\": {\"37\": 12}, \"9\": {\"9\": 12}, \"28\": {\"28\": 12}, \"39\": {\"39\": 12}, \"52\": {\"52\": 12}, \"42\": {\"42\": 12}, \"5\": {\"5\": 12}, \"50\": {\"50\": 12}, \"7\": {\"7\": 12}, \"41\": {\"41\": 12}, \"22\": {\"22\": 12}, \"49\": {\"49\": 12}, \"44\": {\"44\": 12}, \"56\": {\"56\": 12}, \"38\": {\"38\": 12}, \"8\": {\"8\": 12}}, \"Wisig_3\": {\"36\": {\"27\": 3, \"54\": 2, \"25\": 1, \"36\": 2}, \"123\": {\"123\": 11, \"113\": 1}, \"53\": {\"53\": 12}, \"24\": {\"24\": 4, \"27\": 3, \"106\": 1, \"112\": 1, \"54\": 2, \"108\": 1}, \"8\": {\"8\": 10, \"108\": 1, \"85\": 1}, \"49\": {\"53\": 4, \"88\": 1, \"49\": 1, \"73\": 2, \"20\": 2, \"47\": 1, \"8\": 1}, \"74\": {\"74\": 8, \"62\": 1, \"9\": 1}, \"93\": {\"93\": 11, \"21\": 1}, \"104\": {\"104\": 10}, \"122\": {\"78\": 1, \"103\": 2, \"128\": 1, \"122\": 2, \"40\": 2, \"28\": 2}, \"78\": {\"90\": 1, \"30\": 1, \"78\": 2, \"21\": 2, \"122\": 1, \"115\": 1, \"40\": 2, \"43\": 1, \"87\": 1}, \"21\": {\"21\": 9, \"13\": 1, \"123\": 1, \"39\": 1}, \"22\": {\"22\": 7, \"50\": 3, \"9\": 1, \"74\": 1}, \"27\": {\"27\": 5, \"112\": 2, \"54\": 4, \"36\": 1}, \"124\": {\"98\": 1, \"124\": 6, \"23\": 1, \"47\": 1, \"46\": 1}, \"35\": {\"35\": 9, \"22\": 1}, \"37\": {\"37\": 5, \"21\": 1}, \"45\": {\"45\": 12}, \"55\": {\"55\": 12}, \"110\": {\"110\": 4, \"19\": 2, \"129\": 2, \"46\": 1, \"70\": 1}, \"2\": {\"2\": 5, \"23\": 2, \"18\": 3, \"117\": 1, \"93\": 1}, \"23\": {\"110\": 1, \"127\": 1, \"23\": 1, \"39\": 2, \"126\": 2, \"8\": 1, \"63\": 2, \"77\": 1, \"123\": 1}, \"29\": {\"29\": 9, \"129\": 2, \"80\": 1}, \"90\": {\"90\": 12}, \"127\": {\"127\": 12}, \"13\": {\"117\": 1, \"14\": 3, \"33\": 1, \"26\": 1, \"84\": 1, \"121\": 1, \"81\": 1, \"43\": 1, \"118\": 1, \"13\": 1}, \"48\": {\"2\": 1, \"23\": 1, \"113\": 2, \"17\": 1, \"48\": 2, \"7\": 2, \"102\": 1, \"65\": 1, \"10\": 1}, \"105\": {\"105\": 8}, \"50\": {\"50\": 10}, \"52\": {\"52\": 11, \"73\": 1}, \"9\": {\"9\": 12}, \"94\": {\"97\": 4, \"94\": 3, \"15\": 2, \"59\": 1}, \"14\": {\"14\": 8, \"81\": 1, \"82\": 1, \"45\": 1, \"48\": 1}, \"98\": {\"110\": 1, \"98\": 10, \"3\": 1}, \"64\": {\"64\": 11, \"93\": 1}, \"97\": {\"97\": 9, \"59\": 2, \"73\": 1}, \"117\": {\"117\": 9, \"2\": 1}, \"85\": {\"85\": 7, \"8\": 1, \"42\": 1, \"114\": 1}, \"44\": {\"44\": 7, \"92\": 1, \"117\": 1, \"11\": 1, \"64\": 1, \"23\": 1}, \"80\": {\"80\": 9, \"64\": 1, \"29\": 1, \"122\": 1}, \"16\": {\"16\": 11, \"17\": 1}, \"103\": {\"103\": 10, \"110\": 1, \"3\": 1}, \"40\": {\"40\": 9, \"48\": 1, \"66\": 1, \"17\": 1}, \"30\": {\"30\": 9, \"12\": 1, \"97\": 1, \"8\": 1}, \"6\": {\"6\": 9, \"68\": 1, \"51\": 1, \"125\": 1}, \"108\": {\"49\": 2, \"108\": 6, \"8\": 1, \"112\": 2, \"88\": 1}, \"33\": {\"33\": 11, \"102\": 1}, \"96\": {\"96\": 12}, \"79\": {\"79\": 10}, \"109\": {\"109\": 6, \"118\": 2}, \"81\": {\"81\": 12}, \"88\": {\"70\": 1, \"96\": 2, \"112\": 1, \"49\": 1, \"88\": 2, \"108\": 2, \"20\": 1}, \"41\": {\"41\": 10, \"56\": 1, \"4\": 1}, \"70\": {\"70\": 5, \"23\": 2, \"47\": 1, \"85\": 1, \"49\": 1, \"5\": 1, \"30\": 1}, \"76\": {\"76\": 12}, \"5\": {\"5\": 12}, \"0\": {\"0\": 11, \"68\": 1}, \"4\": {\"105\": 4, \"99\": 2, \"4\": 4}, \"86\": {\"105\": 2, \"86\": 6, \"41\": 1, \"4\": 1}, \"69\": {\"69\": 11, \"89\": 1}, \"26\": {\"26\": 8}, \"120\": {\"120\": 8}, \"84\": {\"32\": 2, \"84\": 2, \"87\": 1, \"30\": 1}, \"12\": {\"12\": 8, \"98\": 2}, \"32\": {\"84\": 1, \"50\": 2, \"14\": 2, \"32\": 2, \"45\": 1, \"107\": 1, \"87\": 1, \"55\": 1, \"40\": 1}, \"89\": {\"89\": 12}, \"129\": {\"80\": 1, \"1\": 3, \"20\": 2, \"46\": 2, \"31\": 1, \"129\": 1, \"29\": 2}, \"125\": {\"125\": 11, \"106\": 1}, \"116\": {\"82\": 1, \"116\": 4, \"33\": 2, \"92\": 1}, \"19\": {\"110\": 1, \"46\": 3, \"129\": 2, \"103\": 1, \"114\": 1, \"19\": 2, \"1\": 2}, \"71\": {\"71\": 6, \"121\": 1, \"19\": 1, \"3\": 1, \"114\": 1}, \"72\": {\"72\": 10}, \"100\": {\"84\": 1, \"110\": 1, \"33\": 1, \"100\": 5, \"44\": 2, \"87\": 1, \"107\": 1}, \"20\": {\"20\": 10}, \"65\": {\"0\": 2, \"65\": 6, \"9\": 1, \"81\": 1}, \"121\": {\"121\": 7, \"39\": 1, \"117\": 1, \"123\": 1}, \"34\": {\"6\": 3, \"14\": 1, \"115\": 1, \"34\": 1, \"111\": 1, \"75\": 1, \"58\": 1, \"32\": 1, \"68\": 1, \"91\": 1}, \"119\": {\"119\": 10}, \"75\": {\"75\": 12}, \"1\": {\"19\": 2, \"1\": 7, \"114\": 1, \"110\": 1, \"129\": 1}, \"113\": {\"113\": 9, \"39\": 1}, \"39\": {\"63\": 1, \"113\": 2, \"39\": 4, \"13\": 1, \"126\": 1, \"117\": 1, \"81\": 1, \"123\": 1}, \"82\": {\"82\": 9, \"14\": 1, \"84\": 1, \"45\": 1}, \"67\": {\"67\": 6}, \"63\": {\"63\": 4, \"18\": 2, \"67\": 1, \"121\": 1, \"81\": 1, \"39\": 1}, \"31\": {\"31\": 11, \"20\": 1}, \"38\": {\"38\": 9, \"94\": 2, \"104\": 1}, \"17\": {\"116\": 1, \"39\": 1, \"9\": 2, \"17\": 2, \"93\": 1, \"11\": 1, \"64\": 1, \"2\": 2, \"126\": 1}, \"106\": {\"106\": 8}, \"91\": {\"56\": 1, \"91\": 9, \"111\": 1, \"99\": 1}, \"56\": {\"34\": 1, \"105\": 1, \"41\": 5, \"4\": 1, \"56\": 2}, \"46\": {\"71\": 2, \"110\": 2, \"46\": 5, \"114\": 3}, \"128\": {\"19\": 1, \"128\": 4, \"103\": 2, \"3\": 1, \"77\": 1, \"91\": 1}, \"66\": {\"66\": 11, \"22\": 1}, \"10\": {\"95\": 2, \"10\": 7, \"35\": 1, \"7\": 1, \"37\": 1}, \"62\": {\"62\": 9, \"50\": 1}, \"112\": {\"112\": 10, \"6\": 1, \"75\": 1}, \"47\": {\"47\": 12}, \"107\": {\"107\": 10, \"87\": 1, \"48\": 1}, \"28\": {\"28\": 8}, \"95\": {\"95\": 12}, \"18\": {\"18\": 8, \"117\": 2}, \"114\": {\"19\": 3, \"114\": 4, \"1\": 3, \"110\": 1, \"129\": 1}, \"102\": {\"102\": 12}, \"68\": {\"68\": 11, \"101\": 1}, \"126\": {\"81\": 1, \"18\": 1, \"126\": 6}, \"111\": {\"111\": 12}, \"3\": {\"3\": 9, \"21\": 1}, \"83\": {\"83\": 8}, \"59\": {\"59\": 8, \"97\": 3, \"30\": 1}, \"54\": {\"54\": 12}, \"115\": {\"115\": 8, \"107\": 1, \"14\": 1}, \"57\": {\"57\": 10}, \"92\": {\"92\": 8}, \"73\": {\"73\": 10}, \"58\": {\"58\": 10, \"0\": 2}, \"61\": {\"61\": 10}, \"60\": {\"60\": 2, \"114\": 1, \"29\": 2, \"110\": 2, \"20\": 1}, \"99\": {\"99\": 9, \"41\": 1}, \"25\": {\"25\": 7, \"109\": 1, \"54\": 1, \"94\": 1}, \"87\": {\"100\": 2, \"87\": 6, \"13\": 1, \"92\": 1}, \"7\": {\"7\": 10}, \"101\": {\"101\": 7, \"0\": 1}, \"51\": {\"101\": 1, \"51\": 8, \"72\": 1}, \"15\": {\"15\": 7, \"97\": 1, \"94\": 1, \"59\": 1}, \"43\": {\"102\": 1, \"11\": 1, \"43\": 6}, \"118\": {\"45\": 1, \"43\": 1, \"69\": 1, \"118\": 3}, \"42\": {\"73\": 3, \"42\": 3, \"52\": 1, \"112\": 1}, \"11\": {\"11\": 5, \"63\": 1, \"17\": 1, \"116\": 1}, \"77\": {\"128\": 1, \"77\": 7}}, \"Wisig_2\": {\"37\": {\"37\": 8, \"64\": 1, \"74\": 2, \"78\": 1}, \"101\": {\"101\": 10, \"91\": 1, \"30\": 1}, \"83\": {\"83\": 11, \"119\": 1}, \"95\": {\"95\": 8, \"105\": 2}, \"122\": {\"98\": 1, \"70\": 1, \"122\": 6, \"115\": 1, \"110\": 1, \"4\": 1, \"34\": 1}, \"18\": {\"18\": 12}, \"9\": {\"9\": 12}, \"57\": {\"57\": 5, \"72\": 2, \"116\": 1}, \"93\": {\"83\": 1, \"93\": 11}, \"64\": {\"64\": 12}, \"70\": {\"96\": 2, \"93\": 1, \"60\": 2, \"87\": 2, \"43\": 2, \"16\": 1, \"33\": 2}, \"36\": {\"36\": 6, \"27\": 1, \"24\": 1}, \"109\": {\"72\": 1, \"90\": 1, \"109\": 4, \"39\": 2, \"102\": 1, \"31\": 2, \"69\": 1}, \"92\": {\"64\": 2, \"89\": 2, \"88\": 1, \"92\": 5}, \"28\": {\"37\": 2, \"29\": 2, \"14\": 1, \"66\": 1, \"28\": 2, \"109\": 2}, \"39\": {\"72\": 1, \"39\": 4, \"109\": 3, \"20\": 1, \"2\": 1, \"117\": 1, \"102\": 1}, \"47\": {\"42\": 1, \"47\": 8, \"11\": 1, \"99\": 1, \"3\": 1}, \"127\": {\"127\": 9, \"77\": 1}, \"6\": {\"6\": 9, \"58\": 1, \"15\": 2}, \"13\": {\"39\": 2, \"13\": 6, \"96\": 1, \"118\": 1, \"57\": 2}, \"14\": {\"70\": 1, \"37\": 2, \"21\": 1, \"14\": 5, \"87\": 1, \"43\": 1, \"16\": 1}, \"110\": {\"110\": 5, \"122\": 1, \"9\": 1, \"115\": 2, \"107\": 3}, \"62\": {\"62\": 10}, \"59\": {\"59\": 6, \"12\": 2, \"77\": 1, \"52\": 1}, \"10\": {\"10\": 2, \"74\": 1, \"7\": 3, \"50\": 1, \"61\": 1}, \"41\": {\"59\": 1, \"41\": 6, \"57\": 1, \"97\": 1, \"12\": 1, \"127\": 1, \"34\": 1}, \"25\": {\"25\": 8, \"27\": 2, \"15\": 2}, \"45\": {\"84\": 1, \"72\": 1, \"45\": 7, \"20\": 1}, \"1\": {\"1\": 6, \"73\": 3, \"19\": 1}, \"61\": {\"61\": 8, \"42\": 1, \"109\": 1}, \"3\": {\"5\": 1, \"3\": 7, \"71\": 3, \"20\": 1}, \"35\": {\"35\": 9, \"76\": 1, \"79\": 2}, \"126\": {\"126\": 8, \"42\": 1, \"46\": 3}, \"90\": {\"90\": 11, \"33\": 1}, \"58\": {\"58\": 9, \"15\": 1, \"51\": 2}, \"74\": {\"74\": 5, \"104\": 2, \"27\": 1, \"35\": 1, \"17\": 1, \"32\": 2}, \"27\": {\"27\": 7, \"36\": 2, \"24\": 1}, \"60\": {\"123\": 1, \"83\": 1, \"60\": 2, \"70\": 3, \"110\": 1, \"43\": 1, \"109\": 1}, \"123\": {\"123\": 8}, \"50\": {\"50\": 10, \"78\": 1, \"32\": 1}, \"84\": {\"42\": 1, \"84\": 8, \"45\": 2, \"33\": 1}, \"128\": {\"101\": 3, \"128\": 2, \"19\": 1, \"73\": 1, \"97\": 3, \"3\": 2}, \"72\": {\"72\": 6, \"13\": 2, \"57\": 1, \"16\": 1, \"26\": 2}, \"96\": {\"96\": 11, \"88\": 1}, \"119\": {\"119\": 10}, \"56\": {\"58\": 1, \"56\": 4, \"4\": 1, \"15\": 2, \"54\": 1, \"34\": 1}, \"98\": {\"123\": 1, \"98\": 10, \"25\": 1}, \"87\": {\"87\": 4, \"93\": 1, \"90\": 1, \"1\": 1, \"100\": 1}, \"40\": {\"40\": 11, \"95\": 1}, \"114\": {\"114\": 11, \"5\": 1}, \"55\": {\"55\": 7, \"62\": 1}, \"8\": {\"57\": 1, \"123\": 1, \"8\": 3, \"23\": 1, \"98\": 4, \"110\": 2}, \"79\": {\"79\": 10}, \"112\": {\"112\": 4, \"42\": 1, \"71\": 1, \"108\": 4, \"122\": 1, \"3\": 1}, \"21\": {\"21\": 12}, \"42\": {\"98\": 1, \"126\": 1, \"42\": 5, \"112\": 1, \"11\": 1, \"44\": 1, \"49\": 1, \"46\": 1}, \"5\": {\"5\": 6, \"3\": 1, \"114\": 2, \"71\": 2, \"112\": 1}, \"22\": {\"62\": 1, \"22\": 11}, \"73\": {\"73\": 12}, \"69\": {\"109\": 1, \"69\": 10, \"82\": 1}, \"108\": {\"108\": 8}, \"118\": {\"118\": 7, \"80\": 1, \"102\": 2, \"21\": 1, \"14\": 1}, \"4\": {\"4\": 10, \"91\": 1, \"54\": 1}, \"49\": {\"49\": 4, \"53\": 2, \"11\": 2, \"112\": 1, \"25\": 1, \"128\": 2}, \"99\": {\"99\": 12}, \"66\": {\"66\": 10}, \"116\": {\"116\": 8, \"102\": 1, \"84\": 1}, \"67\": {\"80\": 4, \"118\": 1, \"37\": 1, \"102\": 1, \"67\": 2, \"64\": 2, \"99\": 1}, \"15\": {\"15\": 9, \"94\": 2, \"9\": 1}, \"63\": {\"63\": 8}, \"26\": {\"26\": 10}, \"24\": {\"25\": 1, \"108\": 1, \"24\": 5, \"94\": 2, \"49\": 1, \"12\": 1, \"126\": 1}, \"103\": {\"103\": 10}, \"38\": {\"38\": 10}, \"71\": {\"71\": 7, \"21\": 2, \"128\": 2, \"39\": 1}, \"75\": {\"75\": 6, \"21\": 1, \"6\": 1, \"9\": 2}, \"44\": {\"44\": 12}, \"104\": {\"104\": 12}, \"23\": {\"99\": 3, \"114\": 1, \"21\": 1, \"11\": 1, \"113\": 2, \"29\": 1, \"110\": 1, \"121\": 2}, \"105\": {\"105\": 9, \"104\": 1, \"32\": 1, \"35\": 1}, \"30\": {\"79\": 1, \"30\": 5, \"52\": 1, \"75\": 2, \"103\": 1, \"58\": 1, \"20\": 1}, \"120\": {\"120\": 12}, \"113\": {\"113\": 7, \"93\": 1, \"117\": 2, \"88\": 1, \"65\": 1}, \"53\": {\"112\": 3, \"129\": 2, \"53\": 5, \"88\": 1, \"94\": 1}, \"91\": {\"103\": 3, \"127\": 1, \"68\": 2, \"77\": 1, \"59\": 1, \"111\": 1, \"52\": 1}, \"89\": {\"89\": 10, \"31\": 1, \"69\": 1}, \"117\": {\"117\": 9, \"2\": 3}, \"82\": {\"82\": 8, \"102\": 1, \"45\": 1}, \"20\": {\"20\": 9, \"99\": 1, \"100\": 2}, \"34\": {\"66\": 1, \"56\": 1, \"29\": 1, \"12\": 1, \"111\": 1, \"37\": 1, \"34\": 3, \"52\": 1}, \"7\": {\"7\": 9, \"35\": 1}, \"80\": {\"80\": 10, \"37\": 1, \"118\": 1}, \"115\": {\"122\": 2, \"31\": 1, \"115\": 3, \"99\": 1, \"107\": 1, \"34\": 1, \"97\": 1}, \"76\": {\"76\": 10}, \"102\": {\"102\": 12}, \"19\": {\"129\": 1, \"8\": 1, \"19\": 3, \"3\": 3, \"32\": 1, \"11\": 1}, \"97\": {\"58\": 2, \"97\": 5, \"111\": 1, \"9\": 1, \"52\": 1}, \"121\": {\"65\": 5, \"121\": 4, \"120\": 1}, \"68\": {\"68\": 10}, \"12\": {\"128\": 2, \"49\": 1, \"12\": 5, \"122\": 1, \"59\": 1, \"41\": 1, \"29\": 1}, \"29\": {\"127\": 1, \"97\": 1, \"29\": 8, \"91\": 1, \"121\": 1}, \"31\": {\"31\": 11, \"92\": 1}, \"65\": {\"65\": 8, \"121\": 2}, \"33\": {\"33\": 10}, \"106\": {\"106\": 10}, \"17\": {\"17\": 6, \"95\": 1, \"21\": 2, \"100\": 1, \"88\": 1, \"4\": 1}, \"85\": {\"28\": 1, \"85\": 7, \"73\": 2}, \"51\": {\"51\": 6, \"20\": 1, \"75\": 1, \"101\": 1, \"15\": 1}, \"129\": {\"129\": 3, \"8\": 1, \"47\": 1, \"71\": 1}, \"78\": {\"78\": 2, \"67\": 1, \"107\": 3, \"16\": 3, \"45\": 1, \"87\": 1, \"96\": 1}, \"111\": {\"111\": 10, \"52\": 1, \"29\": 1}, \"100\": {\"100\": 12}, \"125\": {\"125\": 7, \"15\": 1}, \"52\": {\"52\": 8}, \"88\": {\"113\": 1, \"100\": 1, \"60\": 1, \"88\": 4, \"87\": 2, \"83\": 1}, \"94\": {\"94\": 5, \"15\": 2, \"24\": 2, \"25\": 1}, \"43\": {\"43\": 3, \"110\": 2, \"78\": 2, \"70\": 1, \"33\": 2}, \"77\": {\"77\": 7, \"29\": 1, \"91\": 1, \"51\": 1}, \"86\": {\"86\": 10}, \"107\": {\"107\": 8, \"115\": 1, \"37\": 1}, \"2\": {\"2\": 2, \"48\": 1, \"81\": 1, \"88\": 3, \"99\": 1, \"39\": 2}, \"81\": {\"81\": 5, \"2\": 1}, \"32\": {\"32\": 4, \"110\": 2, \"70\": 1, \"126\": 1}, \"48\": {\"48\": 7, \"100\": 1}, \"0\": {\"0\": 6, \"101\": 2}, \"16\": {\"16\": 6, \"116\": 1, \"96\": 1, \"93\": 1, \"1\": 1}, \"11\": {\"11\": 7, \"121\": 1, \"21\": 1, \"108\": 1}, \"124\": {\"124\": 5, \"28\": 1, \"19\": 1, \"128\": 1}, \"46\": {\"46\": 8}, \"54\": {\"54\": 4}}, \"Wisig_1\": {\"110\": {\"110\": 9, \"58\": 2, \"56\": 1}, \"27\": {\"97\": 2, \"27\": 3, \"15\": 1}, \"106\": {\"106\": 9, \"68\": 1, \"86\": 1, \"101\": 1}, \"13\": {\"13\": 8}, \"120\": {\"120\": 11, \"76\": 1}, \"25\": {\"25\": 11, \"42\": 1}, \"47\": {\"47\": 12}, \"8\": {\"8\": 9, \"129\": 1, \"59\": 1, \"43\": 1}, \"124\": {\"8\": 1, \"124\": 6, \"114\": 1, \"115\": 2, \"42\": 1, \"9\": 1}, \"55\": {\"55\": 9, \"40\": 1}, \"63\": {\"63\": 11, \"123\": 1}, \"58\": {\"58\": 8, \"32\": 1, \"110\": 1}, \"105\": {\"41\": 1, \"105\": 8, \"40\": 2, \"15\": 1}, \"59\": {\"6\": 4, \"125\": 2, \"59\": 5, \"121\": 1}, \"12\": {\"12\": 7, \"109\": 1, \"68\": 1, \"71\": 1}, \"98\": {\"98\": 12}, \"96\": {\"96\": 11, \"99\": 1}, \"30\": {\"30\": 8, \"71\": 1, \"6\": 1, \"70\": 1, \"52\": 1}, \"53\": {\"12\": 1, \"53\": 11}, \"82\": {\"82\": 8}, \"33\": {\"33\": 11, \"102\": 1}, \"0\": {\"0\": 9, \"85\": 3}, \"122\": {\"122\": 9, \"80\": 2, \"40\": 1}, \"28\": {\"28\": 12}, \"17\": {\"17\": 12}, \"121\": {\"121\": 9, \"113\": 1, \"63\": 1, \"39\": 1}, \"104\": {\"104\": 8, \"1\": 3, \"73\": 1}, \"71\": {\"71\": 9, \"30\": 2, \"52\": 1}, \"20\": {\"25\": 1, \"20\": 10, \"11\": 1}, \"41\": {\"55\": 4, \"41\": 7, \"93\": 1}, \"7\": {\"7\": 12}, \"83\": {\"8\": 1, \"83\": 4, \"34\": 2, \"94\": 1, \"54\": 1, \"88\": 1, \"21\": 1, \"84\": 1}, \"9\": {\"9\": 5, \"31\": 3, \"125\": 1, \"103\": 3}, \"118\": {\"118\": 12}, \"111\": {\"71\": 1, \"111\": 9}, \"23\": {\"104\": 3, \"83\": 1, \"77\": 3, \"87\": 1, \"98\": 1, \"3\": 1, \"93\": 1, \"23\": 1}, \"65\": {\"28\": 2, \"16\": 1, \"39\": 3, \"48\": 1, \"76\": 1, \"65\": 2}, \"95\": {\"117\": 1, \"95\": 10, \"16\": 1}, \"38\": {\"38\": 8, \"62\": 2}, \"50\": {\"50\": 9, \"120\": 1, \"62\": 1, \"117\": 1}, \"3\": {\"3\": 9, \"36\": 1, \"23\": 1, \"15\": 1}, \"31\": {\"31\": 11, \"103\": 1}, \"48\": {\"48\": 8, \"28\": 1, \"123\": 1}, \"81\": {\"81\": 12}, \"99\": {\"99\": 12}, \"85\": {\"85\": 11, \"0\": 1}, \"11\": {\"11\": 5, \"82\": 2, \"90\": 1, \"20\": 1, \"45\": 1}, \"126\": {\"126\": 11, \"96\": 1}, \"80\": {\"80\": 6, \"122\": 4}, \"46\": {\"46\": 3, \"8\": 1, \"27\": 1, \"124\": 1, \"115\": 1, \"71\": 1, \"53\": 1, \"54\": 1}, \"45\": {\"33\": 1, \"11\": 2, \"45\": 2, \"73\": 1, \"20\": 1, \"1\": 1, \"104\": 1, \"109\": 1}, \"18\": {\"18\": 12}, \"84\": {\"84\": 10, \"8\": 1, \"114\": 1}, \"24\": {\"24\": 5, \"108\": 3, \"88\": 3, \"97\": 1}, \"21\": {\"23\": 2, \"20\": 1, \"21\": 2, \"6\": 1, \"44\": 1, \"63\": 1, \"18\": 1, \"39\": 1, \"64\": 1, \"30\": 1}, \"117\": {\"117\": 5, \"26\": 1}, \"6\": {\"98\": 1, \"71\": 3, \"125\": 1, \"6\": 5, \"75\": 1, \"127\": 1}, \"97\": {\"24\": 2, \"27\": 2, \"15\": 1, \"88\": 2, \"108\": 2, \"97\": 3}, \"86\": {\"86\": 8, \"72\": 2, \"29\": 1, \"101\": 1}, \"56\": {\"56\": 11, \"58\": 1}, \"92\": {\"92\": 12}, \"40\": {\"40\": 11, \"107\": 1}, \"108\": {\"97\": 1, \"108\": 4, \"49\": 1, \"79\": 1, \"47\": 2, \"31\": 1, \"12\": 1, \"70\": 1}, \"73\": {\"1\": 2, \"73\": 6}, \"1\": {\"73\": 1, \"1\": 7, \"31\": 1, \"25\": 1, \"128\": 2}, \"129\": {\"44\": 1, \"86\": 2, \"129\": 1, \"18\": 1, \"100\": 2, \"119\": 1, \"19\": 1, \"5\": 1, \"84\": 1, \"128\": 1}, \"127\": {\"127\": 9, \"112\": 1}, \"14\": {\"14\": 6}, \"42\": {\"77\": 3, \"83\": 1, \"99\": 1, \"42\": 1, \"34\": 1, \"23\": 1}, \"67\": {\"50\": 1, \"67\": 8, \"17\": 1}, \"74\": {\"74\": 9, \"77\": 1}, \"61\": {\"61\": 8}, \"36\": {\"36\": 10}, \"32\": {\"32\": 9, \"58\": 1}, \"77\": {\"77\": 12}, \"107\": {\"107\": 12}, \"44\": {\"44\": 12}, \"51\": {\"51\": 12}, \"2\": {\"18\": 2, \"119\": 3, \"2\": 3, \"115\": 1, \"82\": 1}, \"52\": {\"52\": 7, \"6\": 1}, \"125\": {\"125\": 10, \"59\": 1, \"15\": 1}, \"37\": {\"0\": 2, \"37\": 7, \"15\": 1}, \"35\": {\"35\": 9, \"28\": 1, \"41\": 2}, \"116\": {\"116\": 4}, \"15\": {\"125\": 1, \"52\": 1, \"88\": 2, \"15\": 5, \"94\": 1}, \"70\": {\"70\": 6, \"86\": 2, \"109\": 1, \"104\": 1, \"5\": 1, \"89\": 1}, \"109\": {\"109\": 5, \"96\": 1, \"64\": 1, \"25\": 1}, \"76\": {\"76\": 12}, \"72\": {\"72\": 10, \"29\": 1, \"86\": 1}, \"114\": {\"114\": 6}, \"49\": {\"30\": 1, \"111\": 2, \"49\": 1, \"6\": 1, \"103\": 1, \"71\": 3, \"9\": 1, \"52\": 1, \"31\": 1}, \"69\": {\"69\": 12}, \"54\": {\"54\": 6, \"114\": 2, \"8\": 1, \"46\": 1}, \"113\": {\"113\": 9, \"123\": 1}, \"19\": {\"1\": 3, \"129\": 1, \"115\": 1, \"19\": 4, \"60\": 1}, \"29\": {\"29\": 12}, \"75\": {\"75\": 11, \"32\": 1}, \"57\": {\"57\": 8}, \"5\": {\"5\": 12}, \"87\": {\"17\": 1, \"84\": 1, \"87\": 4, \"66\": 1, \"78\": 1, \"21\": 1, \"2\": 1, \"43\": 2}, \"94\": {\"94\": 8, \"21\": 1, \"125\": 2, \"59\": 1}, \"88\": {\"27\": 2, \"97\": 2, \"36\": 1, \"108\": 2, \"24\": 3, \"88\": 1, \"125\": 1}, \"79\": {\"79\": 12}, \"64\": {\"64\": 10}, \"123\": {\"123\": 9, \"63\": 1}, \"66\": {\"66\": 8, \"64\": 1, \"20\": 1, \"21\": 2}, \"101\": {\"101\": 12}, \"112\": {\"112\": 8}, \"91\": {\"6\": 2, \"91\": 7, \"98\": 1}, \"93\": {\"34\": 3, \"55\": 4, \"60\": 1, \"4\": 2, \"43\": 1, \"107\": 1}, \"89\": {\"124\": 1, \"89\": 7, \"54\": 1, \"46\": 1}, \"68\": {\"68\": 10}, \"100\": {\"100\": 12}, \"78\": {\"43\": 4, \"18\": 1, \"78\": 2, \"90\": 1, \"113\": 1, \"105\": 1}, \"62\": {\"62\": 12}, \"119\": {\"119\": 10}, \"4\": {\"93\": 2, \"4\": 4, \"55\": 1, \"107\": 3, \"40\": 1, \"105\": 1}, \"128\": {\"1\": 2, \"101\": 1, \"128\": 4, \"115\": 1, \"86\": 1, \"49\": 1}, \"43\": {\"60\": 1, \"43\": 2, \"76\": 2, \"78\": 3, \"40\": 1, \"87\": 1}, \"90\": {\"90\": 5, \"61\": 1}, \"60\": {\"60\": 1, \"125\": 1, \"123\": 1, \"87\": 1, \"22\": 1, \"122\": 2, \"83\": 1, \"42\": 1, \"77\": 1}, \"34\": {\"98\": 1, \"89\": 2, \"60\": 1, \"106\": 1, \"34\": 2, \"122\": 2, \"80\": 1, \"49\": 1, \"84\": 1}, \"39\": {\"39\": 8, \"13\": 2, \"60\": 1, \"16\": 1}, \"103\": {\"103\": 8, \"31\": 2}, \"102\": {\"102\": 6}, \"16\": {\"16\": 9, \"118\": 1}, \"115\": {\"115\": 10}, \"22\": {\"22\": 3, \"60\": 1}, \"26\": {\"26\": 4, \"118\": 2}, \"10\": {\"10\": 6, \"109\": 1, \"18\": 1}}, \"Wisig_4\": {\"109\": {\"109\": 9, \"96\": 2, \"116\": 1}, \"45\": {\"45\": 10}, \"11\": {\"11\": 11, \"108\": 1}, \"23\": {\"40\": 1, \"23\": 2, \"113\": 1, \"88\": 1, \"67\": 1, \"41\": 1, \"52\": 1, \"123\": 1, \"126\": 1}, \"2\": {\"35\": 2, \"48\": 1, \"2\": 2, \"117\": 3, \"113\": 1, \"90\": 1, \"26\": 2}, \"25\": {\"25\": 12}, \"7\": {\"126\": 1, \"7\": 9, \"87\": 1, \"4\": 1}, \"55\": {\"55\": 12}, \"124\": {\"114\": 2, \"124\": 8}, \"101\": {\"101\": 11, \"86\": 1}, \"115\": {\"115\": 4, \"107\": 5, \"43\": 1, \"14\": 1, \"1\": 1}, \"121\": {\"65\": 1, \"2\": 2, \"121\": 2, \"113\": 1, \"96\": 2}, \"46\": {\"46\": 7, \"50\": 2, \"108\": 1, \"3\": 2}, \"72\": {\"72\": 11, \"70\": 1}, \"83\": {\"83\": 12}, \"12\": {\"12\": 10, \"53\": 1, \"106\": 1}, \"79\": {\"79\": 10}, \"20\": {\"20\": 4, \"60\": 1, \"93\": 5, \"100\": 1, \"78\": 1}, \"43\": {\"43\": 5, \"115\": 2, \"38\": 1, \"99\": 1, \"110\": 2, \"78\": 1}, \"35\": {\"35\": 8, \"61\": 1, \"117\": 2, \"26\": 1}, \"86\": {\"86\": 7, \"127\": 1}, \"3\": {\"129\": 1, \"3\": 10, \"1\": 1}, \"116\": {\"28\": 2, \"116\": 5, \"66\": 1, \"84\": 2, \"102\": 1, \"33\": 1}, \"53\": {\"53\": 7, \"12\": 1, \"49\": 2, \"52\": 1, \"97\": 1}, \"111\": {\"111\": 9, \"30\": 1}, \"40\": {\"115\": 1, \"40\": 6, \"107\": 1}, \"19\": {\"73\": 1, \"20\": 1, \"19\": 5, \"11\": 1, \"93\": 2, \"44\": 1, \"41\": 1}, \"71\": {\"114\": 4, \"71\": 3, \"100\": 1, \"3\": 2, \"1\": 2}, \"21\": {\"21\": 5, \"126\": 1}, \"82\": {\"82\": 6, \"55\": 2, \"17\": 2}, \"65\": {\"65\": 9, \"87\": 1, \"22\": 1, \"18\": 1}, \"110\": {\"72\": 1, \"43\": 2, \"110\": 2, \"60\": 1, \"38\": 1, \"44\": 1, \"78\": 1, \"50\": 1}, \"119\": {\"119\": 12}, \"64\": {\"64\": 10}, \"126\": {\"126\": 5, \"65\": 1, \"63\": 2, \"113\": 1, \"123\": 1}, \"129\": {\"73\": 3, \"129\": 3, \"19\": 1, \"71\": 2, \"108\": 1, \"60\": 1, \"8\": 1}, \"103\": {\"21\": 1, \"34\": 2, \"75\": 2, \"103\": 2, \"122\": 1, \"68\": 1, \"123\": 1, \"91\": 1, \"51\": 1}, \"34\": {\"115\": 1, \"47\": 3, \"107\": 1, \"87\": 1, \"75\": 2, \"91\": 1, \"120\": 1}, \"42\": {\"83\": 4, \"8\": 1, \"27\": 1, \"112\": 1, \"42\": 1}, \"114\": {\"114\": 9, \"124\": 1, \"50\": 1, \"46\": 1}, \"38\": {\"38\": 12}, \"99\": {\"99\": 8, \"33\": 2, \"43\": 1, \"123\": 1}, \"47\": {\"47\": 7, \"6\": 1, \"75\": 1, \"20\": 1, \"58\": 2}, \"61\": {\"35\": 1, \"61\": 9, \"26\": 2}, \"9\": {\"9\": 9, \"24\": 1, \"27\": 1, \"65\": 1}, \"73\": {\"73\": 12}, \"48\": {\"25\": 1, \"48\": 6, \"49\": 1, \"67\": 2, \"71\": 1, \"121\": 1}, \"18\": {\"18\": 12}, \"16\": {\"16\": 11, \"96\": 1}, \"87\": {\"87\": 5, \"4\": 1, \"78\": 1, \"67\": 1, \"88\": 1, \"107\": 1}, \"60\": {\"20\": 1, \"72\": 2, \"124\": 1, \"60\": 3, \"100\": 1, \"90\": 1, \"116\": 1, \"71\": 1, \"48\": 1}, \"51\": {\"25\": 1, \"21\": 1, \"12\": 1, \"47\": 1, \"106\": 3, \"65\": 1, \"75\": 2, \"94\": 1, \"58\": 1}, \"4\": {\"4\": 8, \"86\": 1, \"95\": 2, \"77\": 1}, \"85\": {\"85\": 7, \"23\": 1, \"98\": 1, \"8\": 1, \"52\": 2}, \"28\": {\"28\": 12}, \"27\": {\"9\": 3, \"23\": 2, \"11\": 1, \"97\": 1, \"27\": 2, \"88\": 1, \"42\": 1, \"59\": 1}, \"97\": {\"25\": 1, \"97\": 4, \"10\": 1, \"14\": 1, \"27\": 3, \"54\": 1, \"94\": 1}, \"6\": {\"6\": 7, \"54\": 1, \"59\": 1, \"41\": 2, \"68\": 1}, \"76\": {\"76\": 9, \"22\": 1}, \"105\": {\"105\": 8, \"87\": 2, \"37\": 1, \"98\": 1}, \"37\": {\"37\": 9, \"89\": 1, \"115\": 1, \"120\": 1}, \"98\": {\"98\": 9, \"90\": 1, \"8\": 2}, \"96\": {\"113\": 1, \"84\": 3, \"96\": 7, \"116\": 1}, \"32\": {\"32\": 6, \"76\": 1, \"22\": 1, \"17\": 1, \"14\": 2, \"31\": 1}, \"15\": {\"15\": 6, \"59\": 1, \"6\": 1, \"30\": 1, \"53\": 1}, \"56\": {\"56\": 6, \"55\": 1, \"4\": 1}, \"90\": {\"90\": 8, \"110\": 1, \"99\": 2, \"43\": 1}, \"91\": {\"91\": 6, \"41\": 2, \"68\": 1, \"77\": 1, \"58\": 1, \"51\": 1}, \"52\": {\"52\": 8, \"98\": 2, \"8\": 1, \"41\": 1}, \"78\": {\"72\": 1, \"126\": 1, \"128\": 2, \"88\": 1, \"87\": 3, \"98\": 1, \"81\": 1, \"113\": 1, \"43\": 1}, \"84\": {\"84\": 4, \"96\": 2, \"16\": 1, \"102\": 3, \"63\": 1, \"109\": 1}, \"1\": {\"1\": 11, \"50\": 1}, \"122\": {\"40\": 1, \"45\": 1, \"107\": 2, \"122\": 4, \"119\": 1, \"14\": 1, \"126\": 1, \"43\": 1}, \"66\": {\"66\": 8}, \"127\": {\"119\": 1, \"127\": 4, \"101\": 1}, \"80\": {\"80\": 9, \"93\": 2, \"20\": 1}, \"113\": {\"119\": 1, \"39\": 2, \"63\": 2, \"113\": 1, \"121\": 1, \"80\": 1, \"2\": 1, \"48\": 1, \"123\": 1, \"96\": 1}, \"31\": {\"31\": 9, \"118\": 2, \"76\": 1}, \"88\": {\"126\": 2, \"119\": 1, \"88\": 3, \"49\": 1, \"80\": 2, \"23\": 1, \"27\": 1, \"8\": 1}, \"62\": {\"62\": 12}, \"22\": {\"22\": 11, \"32\": 1}, \"49\": {\"49\": 2, \"98\": 3, \"73\": 2, \"5\": 2, \"52\": 1, \"80\": 1, \"79\": 1}, \"54\": {\"54\": 12}, \"63\": {\"22\": 1, \"63\": 7, \"113\": 2}, \"39\": {\"126\": 2, \"39\": 5, \"81\": 3, \"117\": 1, \"61\": 1}, \"95\": {\"95\": 10, \"77\": 1, \"4\": 1}, \"58\": {\"58\": 8}, \"81\": {\"81\": 9, \"21\": 1}, \"10\": {\"6\": 5, \"75\": 2, \"10\": 4, \"98\": 1}, \"93\": {\"93\": 8, \"108\": 1, \"60\": 1, \"88\": 1, \"5\": 1}, \"41\": {\"41\": 6, \"30\": 1, \"52\": 3}, \"68\": {\"68\": 10, \"77\": 1, \"111\": 1}, \"75\": {\"75\": 12}, \"14\": {\"14\": 10, \"87\": 1, \"122\": 1}, \"59\": {\"59\": 8, \"125\": 1, \"24\": 1}, \"69\": {\"69\": 9, \"126\": 1}, \"29\": {\"29\": 8}, \"107\": {\"115\": 2, \"107\": 9, \"14\": 1}, \"117\": {\"117\": 9, \"88\": 1}, \"100\": {\"100\": 9, \"46\": 1, \"1\": 1, \"20\": 1}, \"33\": {\"33\": 6, \"110\": 1, \"102\": 1, \"44\": 1, \"43\": 1}, \"106\": {\"106\": 4, \"30\": 1, \"41\": 1, \"53\": 1, \"12\": 3}, \"30\": {\"15\": 1, \"111\": 1, \"30\": 7, \"51\": 1, \"52\": 2}, \"36\": {\"97\": 2, \"36\": 8, \"24\": 1, \"94\": 1}, \"0\": {\"77\": 2, \"23\": 1, \"29\": 2, \"0\": 3, \"101\": 2}, \"92\": {\"92\": 11, \"31\": 1}, \"67\": {\"67\": 7, \"117\": 1, \"80\": 1, \"118\": 1, \"76\": 1, \"83\": 1}, \"77\": {\"77\": 12}, \"89\": {\"89\": 7, \"7\": 1}, \"44\": {\"44\": 9, \"80\": 1}, \"8\": {\"8\": 2, \"10\": 2, \"98\": 3, \"123\": 1}, \"102\": {\"102\": 10}, \"50\": {\"50\": 8, \"114\": 1, \"1\": 1}, \"57\": {\"57\": 8, \"88\": 1, \"123\": 1}, \"128\": {\"128\": 4, \"88\": 1, \"105\": 1, \"71\": 1, \"85\": 1}, \"108\": {\"11\": 2, \"108\": 3, \"78\": 1, \"80\": 1, \"60\": 1, \"5\": 1, \"88\": 1}, \"120\": {\"120\": 6, \"14\": 2}, \"17\": {\"17\": 7, \"104\": 1}, \"94\": {\"54\": 2, \"117\": 1, \"94\": 3, \"97\": 1, \"21\": 1}, \"70\": {\"43\": 1, \"20\": 1, \"27\": 1, \"3\": 1, \"88\": 1, \"49\": 1, \"83\": 2, \"129\": 1, \"70\": 1}, \"13\": {\"57\": 3, \"13\": 7}, \"112\": {\"112\": 10}, \"5\": {\"5\": 7, \"93\": 2, \"123\": 1}, \"24\": {\"36\": 4}, \"118\": {\"118\": 5, \"109\": 1, \"69\": 2}, \"26\": {\"117\": 1, \"26\": 4, \"65\": 1, \"81\": 2}, \"74\": {\"78\": 1, \"74\": 7}, \"125\": {\"59\": 3, \"125\": 2, \"106\": 1}, \"104\": {\"104\": 6}, \"123\": {\"123\": 5, \"71\": 1}}}, \"per_domain_accuracy\": {\"CORES_3\": {\"accuracy\": 0.9956896551724138, \"source?\": true}, \"CORES_4\": {\"accuracy\": 0.9827586206896551, \"source?\": true}, \"CORES_2\": {\"accuracy\": 0.9971264367816092, \"source?\": true}, \"CORES_1\": {\"accuracy\": 0.9956896551724138, \"source?\": true}, \"CORES_5\": {\"accuracy\": 0.9870689655172413, \"source?\": true}, \"Wisig_3\": {\"accuracy\": 0.7147988505747126, \"source?\": false}, \"Wisig_2\": {\"accuracy\": 0.6760057471264368, \"source?\": false}, \"Wisig_1\": {\"accuracy\": 0.7234195402298851, \"source?\": false}, \"Wisig_4\": {\"accuracy\": 0.6472701149425287, \"source?\": false}}}, \"history\": {\"epoch_indices\": [1, 2, 3], \"train_label_loss\": [0.23076029591528432, 0.02327344928053208, 0.06760179092989779], \"source_val_label_loss\": [0.025280527770519257, 0.06870502233505249, 0.0628320574760437], \"target_val_label_loss\": [2.8111629486083984, 4.367048740386963, 6.37915563583374], \"source_val_acc_label\": [0.9916666666666667, 0.9813218390804598, 0.9873563218390805], \"target_val_acc_label\": [0.6903735632183908, 0.6643318965517241, 0.6788793103448276]}, \"dataset_metrics\": {\"source\": {\"train\": {\"n_unique_x\": 20300, \"n_unique_y\": 58, \"n_batch/episode\": 210}, \"val\": {\"n_unique_x\": 4350, \"n_unique_y\": 58, \"n_batch/episode\": 30}, \"test\": {\"n_unique_x\": 4350, \"n_unique_y\": 58, \"n_batch/episode\": 30}}, \"target\": {\"train\": {\"n_unique_x\": 36393, \"n_unique_y\": 130, \"n_batch/episode\": 356}, \"val\": {\"n_unique_x\": 7693, \"n_unique_y\": 130, \"n_batch/episode\": 48}, \"test\": {\"n_unique_x\": 7693, \"n_unique_y\": 130, \"n_batch/episode\": 48}}}}'"
      ]
     },
     "execution_count": 29,
     "metadata": {},
     "output_type": "execute_result"
    }
   ],
   "source": [
    "json.dumps(experiment)"
   ]
  }
 ],
 "metadata": {
  "celltoolbar": "Tags",
  "kernelspec": {
   "display_name": "Python 3 (ipykernel)",
   "language": "python",
   "name": "python3"
  },
  "language_info": {
   "codemirror_mode": {
    "name": "ipython",
    "version": 3
   },
   "file_extension": ".py",
   "mimetype": "text/x-python",
   "name": "python",
   "nbconvert_exporter": "python",
   "pygments_lexer": "ipython3",
   "version": "3.8.10"
  },
  "papermill": {
   "default_parameters": {},
   "duration": 76.293454,
   "end_time": "2022-03-07T08:10:27.732593",
   "environment_variables": {},
   "exception": null,
   "input_path": "/mnt/wd500GB/CSC500/csc500-main/csc500-notebooks/templates/tl_ptn_template.ipynb",
   "output_path": "trial.ipynb",
   "parameters": {
    "parameters": {
     "BEST_MODEL_PATH": "./best_model.pth",
     "NUM_LOGS_PER_EPOCH": 10,
     "criteria_for_best": "target_loss",
     "dataset_seed": 1337,
     "datasets": [
      {
       "domain_prefix": "CORES_",
       "domains": [
        1,
        2,
        3,
        4,
        5
       ],
       "episode_transforms": [],
       "labels": [
        "1-10.",
        "1-11.",
        "1-15.",
        "1-16.",
        "1-17.",
        "1-18.",
        "1-19.",
        "10-4.",
        "10-7.",
        "11-1.",
        "11-14.",
        "11-17.",
        "11-20.",
        "11-7.",
        "13-20.",
        "13-8.",
        "14-10.",
        "14-11.",
        "14-14.",
        "14-7.",
        "15-1.",
        "15-20.",
        "16-1.",
        "16-16.",
        "17-10.",
        "17-11.",
        "17-2.",
        "19-1.",
        "19-16.",
        "19-19.",
        "19-20.",
        "19-3.",
        "2-10.",
        "2-11.",
        "2-17.",
        "2-18.",
        "2-20.",
        "2-3.",
        "2-4.",
        "2-5.",
        "2-6.",
        "2-7.",
        "2-8.",
        "3-13.",
        "3-18.",
        "3-3.",
        "4-1.",
        "4-10.",
        "4-11.",
        "4-19.",
        "5-5.",
        "6-15.",
        "7-10.",
        "7-14.",
        "8-18.",
        "8-20.",
        "8-3.",
        "8-8."
       ],
       "num_examples_per_domain_per_label": 100,
       "pickle_path": "/mnt/wd500GB/CSC500/csc500-main/datasets/cores.stratified_ds.2022A.pkl",
       "source_or_target_dataset": "source",
       "x_transforms": [
        "unit_power"
       ]
      },
      {
       "domain_prefix": "Wisig_",
       "domains": [
        1,
        2,
        3,
        4
       ],
       "episode_transforms": [],
       "labels": [
        "1-10",
        "1-12",
        "1-14",
        "1-16",
        "1-18",
        "1-19",
        "1-8",
        "10-11",
        "10-17",
        "10-4",
        "10-7",
        "11-1",
        "11-10",
        "11-19",
        "11-20",
        "11-4",
        "11-7",
        "12-19",
        "12-20",
        "12-7",
        "13-14",
        "13-18",
        "13-19",
        "13-20",
        "13-3",
        "13-7",
        "14-10",
        "14-11",
        "14-12",
        "14-13",
        "14-14",
        "14-19",
        "14-20",
        "14-7",
        "14-8",
        "14-9",
        "15-1",
        "15-19",
        "15-6",
        "16-1",
        "16-16",
        "16-19",
        "16-20",
        "17-10",
        "17-11",
        "18-1",
        "18-10",
        "18-11",
        "18-12",
        "18-13",
        "18-14",
        "18-15",
        "18-16",
        "18-17",
        "18-19",
        "18-2",
        "18-20",
        "18-4",
        "18-5",
        "18-7",
        "18-8",
        "18-9",
        "19-1",
        "19-10",
        "19-11",
        "19-12",
        "19-13",
        "19-14",
        "19-15",
        "19-19",
        "19-2",
        "19-20",
        "19-3",
        "19-4",
        "19-6",
        "19-7",
        "19-8",
        "19-9",
        "2-1",
        "2-13",
        "2-15",
        "2-3",
        "2-4",
        "2-5",
        "2-6",
        "2-7",
        "2-8",
        "20-1",
        "20-12",
        "20-14",
        "20-15",
        "20-16",
        "20-18",
        "20-19",
        "20-20",
        "20-3",
        "20-4",
        "20-5",
        "20-7",
        "20-8",
        "3-1",
        "3-13",
        "3-18",
        "3-2",
        "3-8",
        "4-1",
        "4-10",
        "4-11",
        "5-1",
        "5-5",
        "6-1",
        "6-15",
        "6-6",
        "7-10",
        "7-11",
        "7-12",
        "7-13",
        "7-14",
        "7-7",
        "7-8",
        "7-9",
        "8-1",
        "8-13",
        "8-14",
        "8-18",
        "8-20",
        "8-3",
        "8-8",
        "9-1",
        "9-7"
       ],
       "num_examples_per_domain_per_label": 100,
       "pickle_path": "/mnt/wd500GB/CSC500/csc500-main/datasets/wisig.node3-19.stratified_ds.2022A.pkl",
       "source_or_target_dataset": "target",
       "x_transforms": [
        "unit_power"
       ]
      }
     ],
     "device": "cuda",
     "experiment_name": "tl_1_cores-wisig",
     "lr": 0.001,
     "n_epoch": 3,
     "n_query": 2,
     "n_shot": 3,
     "n_way": 58,
     "patience": 3,
     "seed": 1337,
     "test_k_factor": 2,
     "torch_default_dtype": "torch.float32",
     "train_k_factor": 3,
     "val_k_factor": 2,
     "x_net": [
      {
       "class": "nnReshape",
       "kargs": {
        "shape": [
         -1,
         1,
         2,
         256
        ]
       }
      },
      {
       "class": "Conv2d",
       "kargs": {
        "bias": false,
        "in_channels": 1,
        "kernel_size": [
         1,
         7
        ],
        "out_channels": 256,
        "padding": [
         0,
         3
        ]
       }
      },
      {
       "class": "ReLU",
       "kargs": {
        "inplace": true
       }
      },
      {
       "class": "BatchNorm2d",
       "kargs": {
        "num_features": 256
       }
      },
      {
       "class": "Conv2d",
       "kargs": {
        "bias": true,
        "in_channels": 256,
        "kernel_size": [
         2,
         7
        ],
        "out_channels": 80,
        "padding": [
         0,
         3
        ]
       }
      },
      {
       "class": "ReLU",
       "kargs": {
        "inplace": true
       }
      },
      {
       "class": "BatchNorm2d",
       "kargs": {
        "num_features": 80
       }
      },
      {
       "class": "Flatten",
       "kargs": {}
      },
      {
       "class": "Linear",
       "kargs": {
        "in_features": 20480,
        "out_features": 256
       }
      },
      {
       "class": "ReLU",
       "kargs": {
        "inplace": true
       }
      },
      {
       "class": "BatchNorm1d",
       "kargs": {
        "num_features": 256
       }
      },
      {
       "class": "Linear",
       "kargs": {
        "in_features": 256,
        "out_features": 256
       }
      }
     ]
    }
   },
   "start_time": "2022-03-07T08:09:11.439139",
   "version": "2.3.4"
  }
 },
 "nbformat": 4,
 "nbformat_minor": 5
}