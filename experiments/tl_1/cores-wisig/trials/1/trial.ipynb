{
 "cells": [
  {
   "cell_type": "markdown",
   "id": "9fea5f46",
   "metadata": {
    "papermill": {
     "duration": 0.017302,
     "end_time": "2022-03-07T08:10:28.610979",
     "exception": false,
     "start_time": "2022-03-07T08:10:28.593677",
     "status": "completed"
    },
    "tags": []
   },
   "source": [
    "# Transfer Learning Template"
   ]
  },
  {
   "cell_type": "code",
   "execution_count": 1,
   "id": "0902182a",
   "metadata": {
    "execution": {
     "iopub.execute_input": "2022-03-07T08:10:28.650646Z",
     "iopub.status.busy": "2022-03-07T08:10:28.650259Z",
     "iopub.status.idle": "2022-03-07T08:10:29.381686Z",
     "shell.execute_reply": "2022-03-07T08:10:29.381341Z"
    },
    "papermill": {
     "duration": 0.758043,
     "end_time": "2022-03-07T08:10:29.381759",
     "exception": false,
     "start_time": "2022-03-07T08:10:28.623716",
     "status": "completed"
    },
    "tags": []
   },
   "outputs": [],
   "source": [
    "%load_ext autoreload\n",
    "%autoreload 2\n",
    "%matplotlib inline\n",
    "\n",
    "    \n",
    "import os, json, sys, time, random\n",
    "import numpy as np\n",
    "import torch\n",
    "from torch.optim import Adam\n",
    "from  easydict import EasyDict\n",
    "import matplotlib.pyplot as plt\n",
    "\n",
    "from steves_models.steves_ptn import Steves_Prototypical_Network\n",
    "\n",
    "from steves_utils.lazy_iterable_wrapper import Lazy_Iterable_Wrapper\n",
    "from steves_utils.iterable_aggregator import Iterable_Aggregator\n",
    "from steves_utils.ptn_train_eval_test_jig import  PTN_Train_Eval_Test_Jig\n",
    "from steves_utils.torch_sequential_builder import build_sequential\n",
    "from steves_utils.torch_utils import get_dataset_metrics, ptn_confusion_by_domain_over_dataloader\n",
    "from steves_utils.utils_v2 import (per_domain_accuracy_from_confusion, get_datasets_base_path)\n",
    "from steves_utils.PTN.utils import independent_accuracy_assesment\n",
    "\n",
    "from torch.utils.data import DataLoader\n",
    "\n",
    "from steves_utils.stratified_dataset.episodic_accessor import Episodic_Accessor_Factory\n",
    "\n",
    "from steves_utils.ptn_do_report import (\n",
    "    get_loss_curve,\n",
    "    get_results_table,\n",
    "    get_parameters_table,\n",
    "    get_domain_accuracies,\n",
    ")\n",
    "\n",
    "from steves_utils.transforms import get_chained_transform"
   ]
  },
  {
   "cell_type": "markdown",
   "id": "41c840b4",
   "metadata": {
    "papermill": {
     "duration": 0.012657,
     "end_time": "2022-03-07T08:10:29.407857",
     "exception": false,
     "start_time": "2022-03-07T08:10:29.395200",
     "status": "completed"
    },
    "tags": []
   },
   "source": [
    "# Allowed Parameters\n",
    "These are allowed parameters, not defaults\n",
    "Each of these values need to be present in the injected parameters (the notebook will raise an exception if they are not present)\n",
    "\n",
    "Papermill uses the cell tag \"parameters\" to inject the real parameters below this cell.\n",
    "Enable tags to see what I mean"
   ]
  },
  {
   "cell_type": "code",
   "execution_count": 2,
   "id": "fd44eb83",
   "metadata": {
    "execution": {
     "iopub.execute_input": "2022-03-07T08:10:29.435676Z",
     "iopub.status.busy": "2022-03-07T08:10:29.435396Z",
     "iopub.status.idle": "2022-03-07T08:10:29.450627Z",
     "shell.execute_reply": "2022-03-07T08:10:29.450139Z"
    },
    "papermill": {
     "duration": 0.030184,
     "end_time": "2022-03-07T08:10:29.450747",
     "exception": false,
     "start_time": "2022-03-07T08:10:29.420563",
     "status": "completed"
    },
    "tags": []
   },
   "outputs": [],
   "source": [
    "required_parameters = {\n",
    "    \"experiment_name\",\n",
    "    \"lr\",\n",
    "    \"device\",\n",
    "    \"seed\",\n",
    "    \"dataset_seed\",\n",
    "    \"n_shot\",\n",
    "    \"n_query\",\n",
    "    \"n_way\",\n",
    "    \"train_k_factor\",\n",
    "    \"val_k_factor\",\n",
    "    \"test_k_factor\",\n",
    "    \"n_epoch\",\n",
    "    \"patience\",\n",
    "    \"criteria_for_best\",\n",
    "    \"x_net\",\n",
    "    \"datasets\",\n",
    "    \"torch_default_dtype\",\n",
    "    \"NUM_LOGS_PER_EPOCH\",\n",
    "    \"BEST_MODEL_PATH\",\n",
    "}"
   ]
  },
  {
   "cell_type": "code",
   "execution_count": 3,
   "id": "fa3f0049",
   "metadata": {
    "execution": {
     "iopub.execute_input": "2022-03-07T08:10:29.492637Z",
     "iopub.status.busy": "2022-03-07T08:10:29.492346Z",
     "iopub.status.idle": "2022-03-07T08:10:29.507159Z",
     "shell.execute_reply": "2022-03-07T08:10:29.506656Z"
    },
    "papermill": {
     "duration": 0.037123,
     "end_time": "2022-03-07T08:10:29.507263",
     "exception": false,
     "start_time": "2022-03-07T08:10:29.470140",
     "status": "completed"
    },
    "tags": [
     "parameters"
    ]
   },
   "outputs": [],
   "source": [
    "from steves_utils.CORES.utils import (\n",
    "    ALL_NODES,\n",
    "    ALL_NODES_MINIMUM_1000_EXAMPLES,\n",
    "    ALL_DAYS\n",
    ")\n",
    "\n",
    "from steves_utils.ORACLE.utils_v2 import (\n",
    "    ALL_DISTANCES_FEET_NARROWED,\n",
    "    ALL_RUNS,\n",
    "    ALL_SERIAL_NUMBERS,\n",
    ")\n",
    "\n",
    "standalone_parameters = {}\n",
    "standalone_parameters[\"experiment_name\"] = \"STANDALONE PTN\"\n",
    "standalone_parameters[\"lr\"] = 0.001\n",
    "standalone_parameters[\"device\"] = \"cuda\"\n",
    "\n",
    "standalone_parameters[\"seed\"] = 1337\n",
    "standalone_parameters[\"dataset_seed\"] = 1337\n",
    "\n",
    "standalone_parameters[\"n_way\"] = 8\n",
    "standalone_parameters[\"n_shot\"] = 3\n",
    "standalone_parameters[\"n_query\"]  = 2\n",
    "standalone_parameters[\"train_k_factor\"] = 1\n",
    "standalone_parameters[\"val_k_factor\"] = 2\n",
    "standalone_parameters[\"test_k_factor\"] = 2\n",
    "\n",
    "\n",
    "standalone_parameters[\"n_epoch\"] = 50\n",
    "\n",
    "standalone_parameters[\"patience\"] = 10\n",
    "standalone_parameters[\"criteria_for_best\"] = \"source_loss\"\n",
    "\n",
    "standalone_parameters[\"datasets\"] = [\n",
    "    {\n",
    "        \"labels\": ALL_SERIAL_NUMBERS,\n",
    "        \"domains\": ALL_DISTANCES_FEET_NARROWED,\n",
    "        \"num_examples_per_domain_per_label\": 100,\n",
    "        \"pickle_path\": os.path.join(get_datasets_base_path(), \"oracle.Run1_framed_2000Examples_stratified_ds.2022A.pkl\"),\n",
    "        \"source_or_target_dataset\": \"source\",\n",
    "        \"x_transforms\": [\"unit_mag\", \"minus_two\"],\n",
    "        \"episode_transforms\": [],\n",
    "        \"domain_prefix\": \"ORACLE_\"\n",
    "    },\n",
    "    {\n",
    "        \"labels\": ALL_NODES,\n",
    "        \"domains\": ALL_DAYS,\n",
    "        \"num_examples_per_domain_per_label\": 100,\n",
    "        \"pickle_path\": os.path.join(get_datasets_base_path(), \"cores.stratified_ds.2022A.pkl\"),\n",
    "        \"source_or_target_dataset\": \"target\",\n",
    "        \"x_transforms\": [\"unit_power\", \"times_zero\"],\n",
    "        \"episode_transforms\": [],\n",
    "        \"domain_prefix\": \"CORES_\"\n",
    "    }   \n",
    "]\n",
    "\n",
    "standalone_parameters[\"torch_default_dtype\"] = \"torch.float32\" \n",
    "\n",
    "\n",
    "\n",
    "standalone_parameters[\"x_net\"] =     [\n",
    "    {\"class\": \"nnReshape\", \"kargs\": {\"shape\":[-1, 1, 2, 256]}},\n",
    "    {\"class\": \"Conv2d\", \"kargs\": { \"in_channels\":1, \"out_channels\":256, \"kernel_size\":(1,7), \"bias\":False, \"padding\":(0,3), },},\n",
    "    {\"class\": \"ReLU\", \"kargs\": {\"inplace\": True}},\n",
    "    {\"class\": \"BatchNorm2d\", \"kargs\": {\"num_features\":256}},\n",
    "\n",
    "    {\"class\": \"Conv2d\", \"kargs\": { \"in_channels\":256, \"out_channels\":80, \"kernel_size\":(2,7), \"bias\":True, \"padding\":(0,3), },},\n",
    "    {\"class\": \"ReLU\", \"kargs\": {\"inplace\": True}},\n",
    "    {\"class\": \"BatchNorm2d\", \"kargs\": {\"num_features\":80}},\n",
    "    {\"class\": \"Flatten\", \"kargs\": {}},\n",
    "\n",
    "    {\"class\": \"Linear\", \"kargs\": {\"in_features\": 80*256, \"out_features\": 256}}, # 80 units per IQ pair\n",
    "    {\"class\": \"ReLU\", \"kargs\": {\"inplace\": True}},\n",
    "    {\"class\": \"BatchNorm1d\", \"kargs\": {\"num_features\":256}},\n",
    "\n",
    "    {\"class\": \"Linear\", \"kargs\": {\"in_features\": 256, \"out_features\": 256}},\n",
    "]\n",
    "\n",
    "# Parameters relevant to results\n",
    "# These parameters will basically never need to change\n",
    "standalone_parameters[\"NUM_LOGS_PER_EPOCH\"] = 10\n",
    "standalone_parameters[\"BEST_MODEL_PATH\"] = \"./best_model.pth\"\n",
    "\n",
    "\n",
    "\n",
    "\n"
   ]
  },
  {
   "cell_type": "code",
   "execution_count": 4,
   "id": "337db8a8",
   "metadata": {
    "execution": {
     "iopub.execute_input": "2022-03-07T08:10:29.552267Z",
     "iopub.status.busy": "2022-03-07T08:10:29.551577Z",
     "iopub.status.idle": "2022-03-07T08:10:29.564707Z",
     "shell.execute_reply": "2022-03-07T08:10:29.564328Z"
    },
    "papermill": {
     "duration": 0.038532,
     "end_time": "2022-03-07T08:10:29.564785",
     "exception": false,
     "start_time": "2022-03-07T08:10:29.526253",
     "status": "completed"
    },
    "tags": [
     "injected-parameters"
    ]
   },
   "outputs": [],
   "source": [
    "# Parameters\n",
    "parameters = {\n",
    "    \"experiment_name\": \"tl_1_cores-wisig\",\n",
    "    \"device\": \"cuda\",\n",
    "    \"lr\": 0.001,\n",
    "    \"seed\": 1337,\n",
    "    \"dataset_seed\": 1337,\n",
    "    \"n_shot\": 3,\n",
    "    \"n_query\": 2,\n",
    "    \"train_k_factor\": 3,\n",
    "    \"val_k_factor\": 2,\n",
    "    \"test_k_factor\": 2,\n",
    "    \"torch_default_dtype\": \"torch.float32\",\n",
    "    \"n_epoch\": 3,\n",
    "    \"patience\": 3,\n",
    "    \"criteria_for_best\": \"target_loss\",\n",
    "    \"x_net\": [\n",
    "        {\"class\": \"nnReshape\", \"kargs\": {\"shape\": [-1, 1, 2, 256]}},\n",
    "        {\n",
    "            \"class\": \"Conv2d\",\n",
    "            \"kargs\": {\n",
    "                \"in_channels\": 1,\n",
    "                \"out_channels\": 256,\n",
    "                \"kernel_size\": [1, 7],\n",
    "                \"bias\": False,\n",
    "                \"padding\": [0, 3],\n",
    "            },\n",
    "        },\n",
    "        {\"class\": \"ReLU\", \"kargs\": {\"inplace\": True}},\n",
    "        {\"class\": \"BatchNorm2d\", \"kargs\": {\"num_features\": 256}},\n",
    "        {\n",
    "            \"class\": \"Conv2d\",\n",
    "            \"kargs\": {\n",
    "                \"in_channels\": 256,\n",
    "                \"out_channels\": 80,\n",
    "                \"kernel_size\": [2, 7],\n",
    "                \"bias\": True,\n",
    "                \"padding\": [0, 3],\n",
    "            },\n",
    "        },\n",
    "        {\"class\": \"ReLU\", \"kargs\": {\"inplace\": True}},\n",
    "        {\"class\": \"BatchNorm2d\", \"kargs\": {\"num_features\": 80}},\n",
    "        {\"class\": \"Flatten\", \"kargs\": {}},\n",
    "        {\"class\": \"Linear\", \"kargs\": {\"in_features\": 20480, \"out_features\": 256}},\n",
    "        {\"class\": \"ReLU\", \"kargs\": {\"inplace\": True}},\n",
    "        {\"class\": \"BatchNorm1d\", \"kargs\": {\"num_features\": 256}},\n",
    "        {\"class\": \"Linear\", \"kargs\": {\"in_features\": 256, \"out_features\": 256}},\n",
    "    ],\n",
    "    \"NUM_LOGS_PER_EPOCH\": 10,\n",
    "    \"BEST_MODEL_PATH\": \"./best_model.pth\",\n",
    "    \"n_way\": 58,\n",
    "    \"datasets\": [\n",
    "        {\n",
    "            \"labels\": [\n",
    "                \"1-10.\",\n",
    "                \"1-11.\",\n",
    "                \"1-15.\",\n",
    "                \"1-16.\",\n",
    "                \"1-17.\",\n",
    "                \"1-18.\",\n",
    "                \"1-19.\",\n",
    "                \"10-4.\",\n",
    "                \"10-7.\",\n",
    "                \"11-1.\",\n",
    "                \"11-14.\",\n",
    "                \"11-17.\",\n",
    "                \"11-20.\",\n",
    "                \"11-7.\",\n",
    "                \"13-20.\",\n",
    "                \"13-8.\",\n",
    "                \"14-10.\",\n",
    "                \"14-11.\",\n",
    "                \"14-14.\",\n",
    "                \"14-7.\",\n",
    "                \"15-1.\",\n",
    "                \"15-20.\",\n",
    "                \"16-1.\",\n",
    "                \"16-16.\",\n",
    "                \"17-10.\",\n",
    "                \"17-11.\",\n",
    "                \"17-2.\",\n",
    "                \"19-1.\",\n",
    "                \"19-16.\",\n",
    "                \"19-19.\",\n",
    "                \"19-20.\",\n",
    "                \"19-3.\",\n",
    "                \"2-10.\",\n",
    "                \"2-11.\",\n",
    "                \"2-17.\",\n",
    "                \"2-18.\",\n",
    "                \"2-20.\",\n",
    "                \"2-3.\",\n",
    "                \"2-4.\",\n",
    "                \"2-5.\",\n",
    "                \"2-6.\",\n",
    "                \"2-7.\",\n",
    "                \"2-8.\",\n",
    "                \"3-13.\",\n",
    "                \"3-18.\",\n",
    "                \"3-3.\",\n",
    "                \"4-1.\",\n",
    "                \"4-10.\",\n",
    "                \"4-11.\",\n",
    "                \"4-19.\",\n",
    "                \"5-5.\",\n",
    "                \"6-15.\",\n",
    "                \"7-10.\",\n",
    "                \"7-14.\",\n",
    "                \"8-18.\",\n",
    "                \"8-20.\",\n",
    "                \"8-3.\",\n",
    "                \"8-8.\",\n",
    "            ],\n",
    "            \"domains\": [1, 2, 3, 4, 5],\n",
    "            \"num_examples_per_domain_per_label\": 100,\n",
    "            \"pickle_path\": \"/mnt/wd500GB/CSC500/csc500-main/datasets/cores.stratified_ds.2022A.pkl\",\n",
    "            \"source_or_target_dataset\": \"source\",\n",
    "            \"x_transforms\": [\"unit_mag\"],\n",
    "            \"episode_transforms\": [],\n",
    "            \"domain_prefix\": \"CORES_\",\n",
    "        },\n",
    "        {\n",
    "            \"labels\": [\n",
    "                \"1-10\",\n",
    "                \"1-12\",\n",
    "                \"1-14\",\n",
    "                \"1-16\",\n",
    "                \"1-18\",\n",
    "                \"1-19\",\n",
    "                \"1-8\",\n",
    "                \"10-11\",\n",
    "                \"10-17\",\n",
    "                \"10-4\",\n",
    "                \"10-7\",\n",
    "                \"11-1\",\n",
    "                \"11-10\",\n",
    "                \"11-19\",\n",
    "                \"11-20\",\n",
    "                \"11-4\",\n",
    "                \"11-7\",\n",
    "                \"12-19\",\n",
    "                \"12-20\",\n",
    "                \"12-7\",\n",
    "                \"13-14\",\n",
    "                \"13-18\",\n",
    "                \"13-19\",\n",
    "                \"13-20\",\n",
    "                \"13-3\",\n",
    "                \"13-7\",\n",
    "                \"14-10\",\n",
    "                \"14-11\",\n",
    "                \"14-12\",\n",
    "                \"14-13\",\n",
    "                \"14-14\",\n",
    "                \"14-19\",\n",
    "                \"14-20\",\n",
    "                \"14-7\",\n",
    "                \"14-8\",\n",
    "                \"14-9\",\n",
    "                \"15-1\",\n",
    "                \"15-19\",\n",
    "                \"15-6\",\n",
    "                \"16-1\",\n",
    "                \"16-16\",\n",
    "                \"16-19\",\n",
    "                \"16-20\",\n",
    "                \"17-10\",\n",
    "                \"17-11\",\n",
    "                \"18-1\",\n",
    "                \"18-10\",\n",
    "                \"18-11\",\n",
    "                \"18-12\",\n",
    "                \"18-13\",\n",
    "                \"18-14\",\n",
    "                \"18-15\",\n",
    "                \"18-16\",\n",
    "                \"18-17\",\n",
    "                \"18-19\",\n",
    "                \"18-2\",\n",
    "                \"18-20\",\n",
    "                \"18-4\",\n",
    "                \"18-5\",\n",
    "                \"18-7\",\n",
    "                \"18-8\",\n",
    "                \"18-9\",\n",
    "                \"19-1\",\n",
    "                \"19-10\",\n",
    "                \"19-11\",\n",
    "                \"19-12\",\n",
    "                \"19-13\",\n",
    "                \"19-14\",\n",
    "                \"19-15\",\n",
    "                \"19-19\",\n",
    "                \"19-2\",\n",
    "                \"19-20\",\n",
    "                \"19-3\",\n",
    "                \"19-4\",\n",
    "                \"19-6\",\n",
    "                \"19-7\",\n",
    "                \"19-8\",\n",
    "                \"19-9\",\n",
    "                \"2-1\",\n",
    "                \"2-13\",\n",
    "                \"2-15\",\n",
    "                \"2-3\",\n",
    "                \"2-4\",\n",
    "                \"2-5\",\n",
    "                \"2-6\",\n",
    "                \"2-7\",\n",
    "                \"2-8\",\n",
    "                \"20-1\",\n",
    "                \"20-12\",\n",
    "                \"20-14\",\n",
    "                \"20-15\",\n",
    "                \"20-16\",\n",
    "                \"20-18\",\n",
    "                \"20-19\",\n",
    "                \"20-20\",\n",
    "                \"20-3\",\n",
    "                \"20-4\",\n",
    "                \"20-5\",\n",
    "                \"20-7\",\n",
    "                \"20-8\",\n",
    "                \"3-1\",\n",
    "                \"3-13\",\n",
    "                \"3-18\",\n",
    "                \"3-2\",\n",
    "                \"3-8\",\n",
    "                \"4-1\",\n",
    "                \"4-10\",\n",
    "                \"4-11\",\n",
    "                \"5-1\",\n",
    "                \"5-5\",\n",
    "                \"6-1\",\n",
    "                \"6-15\",\n",
    "                \"6-6\",\n",
    "                \"7-10\",\n",
    "                \"7-11\",\n",
    "                \"7-12\",\n",
    "                \"7-13\",\n",
    "                \"7-14\",\n",
    "                \"7-7\",\n",
    "                \"7-8\",\n",
    "                \"7-9\",\n",
    "                \"8-1\",\n",
    "                \"8-13\",\n",
    "                \"8-14\",\n",
    "                \"8-18\",\n",
    "                \"8-20\",\n",
    "                \"8-3\",\n",
    "                \"8-8\",\n",
    "                \"9-1\",\n",
    "                \"9-7\",\n",
    "            ],\n",
    "            \"domains\": [1, 2, 3, 4],\n",
    "            \"num_examples_per_domain_per_label\": 100,\n",
    "            \"pickle_path\": \"/mnt/wd500GB/CSC500/csc500-main/datasets/wisig.node3-19.stratified_ds.2022A.pkl\",\n",
    "            \"source_or_target_dataset\": \"target\",\n",
    "            \"x_transforms\": [\"unit_mag\"],\n",
    "            \"episode_transforms\": [],\n",
    "            \"domain_prefix\": \"Wisig_\",\n",
    "        },\n",
    "    ],\n",
    "}\n"
   ]
  },
  {
   "cell_type": "code",
   "execution_count": 5,
   "id": "8fa1cc33",
   "metadata": {
    "execution": {
     "iopub.execute_input": "2022-03-07T08:10:29.598977Z",
     "iopub.status.busy": "2022-03-07T08:10:29.598688Z",
     "iopub.status.idle": "2022-03-07T08:10:29.608104Z",
     "shell.execute_reply": "2022-03-07T08:10:29.607842Z"
    },
    "papermill": {
     "duration": 0.024715,
     "end_time": "2022-03-07T08:10:29.608158",
     "exception": false,
     "start_time": "2022-03-07T08:10:29.583443",
     "status": "completed"
    },
    "tags": []
   },
   "outputs": [],
   "source": [
    "# Set this to True if you want to run this template directly\n",
    "STANDALONE = False\n",
    "if STANDALONE:\n",
    "    print(\"parameters not injected, running with standalone_parameters\")\n",
    "    parameters = standalone_parameters\n",
    "\n",
    "if not 'parameters' in locals() and not 'parameters' in globals():\n",
    "    raise Exception(\"Parameter injection failed\")\n",
    "\n",
    "#Use an easy dict for all the parameters\n",
    "p = EasyDict(parameters)\n",
    "\n",
    "supplied_keys = set(p.keys())\n",
    "\n",
    "if  supplied_keys != required_parameters:\n",
    "    print(\"Parameters are incorrect\")\n",
    "    if len(supplied_keys - required_parameters)>0: print(\"Shouldn't have:\", str(supplied_keys - required_parameters))\n",
    "    if len(required_parameters - supplied_keys)>0: print(\"Need to have:\", str(required_parameters - supplied_keys))\n",
    "    raise RuntimeError(\"Parameters are incorrect\")\n",
    "\n"
   ]
  },
  {
   "cell_type": "code",
   "execution_count": 6,
   "id": "3a028d58",
   "metadata": {
    "execution": {
     "iopub.execute_input": "2022-03-07T08:10:29.639158Z",
     "iopub.status.busy": "2022-03-07T08:10:29.638893Z",
     "iopub.status.idle": "2022-03-07T08:10:29.648087Z",
     "shell.execute_reply": "2022-03-07T08:10:29.647850Z"
    },
    "papermill": {
     "duration": 0.024021,
     "end_time": "2022-03-07T08:10:29.648142",
     "exception": false,
     "start_time": "2022-03-07T08:10:29.624121",
     "status": "completed"
    },
    "tags": []
   },
   "outputs": [],
   "source": [
    "###################################\n",
    "# Set the RNGs and make it all deterministic\n",
    "###################################\n",
    "np.random.seed(p.seed)\n",
    "random.seed(p.seed)\n",
    "torch.manual_seed(p.seed)\n",
    "\n",
    "torch.use_deterministic_algorithms(True) "
   ]
  },
  {
   "cell_type": "code",
   "execution_count": 7,
   "id": "b691acf6",
   "metadata": {
    "execution": {
     "iopub.execute_input": "2022-03-07T08:10:29.680125Z",
     "iopub.status.busy": "2022-03-07T08:10:29.679573Z",
     "iopub.status.idle": "2022-03-07T08:10:29.693815Z",
     "shell.execute_reply": "2022-03-07T08:10:29.694125Z"
    },
    "papermill": {
     "duration": 0.029042,
     "end_time": "2022-03-07T08:10:29.694217",
     "exception": false,
     "start_time": "2022-03-07T08:10:29.665175",
     "status": "completed"
    },
    "tags": []
   },
   "outputs": [],
   "source": [
    "###########################################\n",
    "# The stratified datasets honor this\n",
    "###########################################\n",
    "torch.set_default_dtype(eval(p.torch_default_dtype))"
   ]
  },
  {
   "cell_type": "code",
   "execution_count": 8,
   "id": "b5fba671",
   "metadata": {
    "execution": {
     "iopub.execute_input": "2022-03-07T08:10:29.725436Z",
     "iopub.status.busy": "2022-03-07T08:10:29.725169Z",
     "iopub.status.idle": "2022-03-07T08:10:29.765626Z",
     "shell.execute_reply": "2022-03-07T08:10:29.765114Z"
    },
    "papermill": {
     "duration": 0.056052,
     "end_time": "2022-03-07T08:10:29.765742",
     "exception": false,
     "start_time": "2022-03-07T08:10:29.709690",
     "status": "completed"
    },
    "tags": []
   },
   "outputs": [],
   "source": [
    "###################################\n",
    "# Build the network(s)\n",
    "# Note: It's critical to do this AFTER setting the RNG\n",
    "###################################\n",
    "x_net = build_sequential(p.x_net)"
   ]
  },
  {
   "cell_type": "code",
   "execution_count": 9,
   "id": "5d7e61cc",
   "metadata": {
    "execution": {
     "iopub.execute_input": "2022-03-07T08:10:29.800919Z",
     "iopub.status.busy": "2022-03-07T08:10:29.800657Z",
     "iopub.status.idle": "2022-03-07T08:10:29.809876Z",
     "shell.execute_reply": "2022-03-07T08:10:29.809653Z"
    },
    "papermill": {
     "duration": 0.023919,
     "end_time": "2022-03-07T08:10:29.809931",
     "exception": false,
     "start_time": "2022-03-07T08:10:29.786012",
     "status": "completed"
    },
    "tags": []
   },
   "outputs": [],
   "source": [
    "start_time_secs = time.time()"
   ]
  },
  {
   "cell_type": "code",
   "execution_count": 10,
   "id": "c6b67dfd",
   "metadata": {
    "execution": {
     "iopub.execute_input": "2022-03-07T08:10:29.841686Z",
     "iopub.status.busy": "2022-03-07T08:10:29.841435Z",
     "iopub.status.idle": "2022-03-07T08:10:29.853027Z",
     "shell.execute_reply": "2022-03-07T08:10:29.853330Z"
    },
    "papermill": {
     "duration": 0.027312,
     "end_time": "2022-03-07T08:10:29.853421",
     "exception": false,
     "start_time": "2022-03-07T08:10:29.826109",
     "status": "completed"
    },
    "tags": []
   },
   "outputs": [],
   "source": [
    "p.domains_source = []\n",
    "p.domains_target = []\n",
    "\n",
    "\n",
    "train_original_source = []\n",
    "val_original_source   = []\n",
    "test_original_source  = []\n",
    "\n",
    "train_original_target = []\n",
    "val_original_target   = []\n",
    "test_original_target  = []"
   ]
  },
  {
   "cell_type": "code",
   "execution_count": 11,
   "id": "e3d9c3d3",
   "metadata": {
    "execution": {
     "iopub.execute_input": "2022-03-07T08:10:29.886752Z",
     "iopub.status.busy": "2022-03-07T08:10:29.886472Z",
     "iopub.status.idle": "2022-03-07T08:10:29.901782Z",
     "shell.execute_reply": "2022-03-07T08:10:29.902182Z"
    },
    "papermill": {
     "duration": 0.03071,
     "end_time": "2022-03-07T08:10:29.902302",
     "exception": false,
     "start_time": "2022-03-07T08:10:29.871592",
     "status": "completed"
    },
    "tags": []
   },
   "outputs": [],
   "source": [
    "# global_x_transform_func = lambda x: normalize(x.to(torch.get_default_dtype()), \"unit_power\") # unit_power, unit_mag\n",
    "# global_x_transform_func = lambda x: normalize(x, \"unit_power\") # unit_power, unit_mag"
   ]
  },
  {
   "cell_type": "code",
   "execution_count": 12,
   "id": "acb78fd2",
   "metadata": {
    "execution": {
     "iopub.execute_input": "2022-03-07T08:10:29.940504Z",
     "iopub.status.busy": "2022-03-07T08:10:29.934733Z",
     "iopub.status.idle": "2022-03-07T08:10:29.950058Z",
     "shell.execute_reply": "2022-03-07T08:10:29.950461Z"
    },
    "papermill": {
     "duration": 0.0303,
     "end_time": "2022-03-07T08:10:29.950580",
     "exception": false,
     "start_time": "2022-03-07T08:10:29.920280",
     "status": "completed"
    },
    "tags": []
   },
   "outputs": [],
   "source": [
    "def add_dataset(\n",
    "    labels,\n",
    "    domains,\n",
    "    pickle_path,\n",
    "    x_transforms,\n",
    "    episode_transforms,\n",
    "    domain_prefix,\n",
    "    num_examples_per_domain_per_label,\n",
    "    source_or_target_dataset:str,\n",
    "    iterator_seed=p.seed,\n",
    "    dataset_seed=p.dataset_seed,\n",
    "    n_shot=p.n_shot,\n",
    "    n_way=p.n_way,\n",
    "    n_query=p.n_query,\n",
    "    train_val_test_k_factors=(p.train_k_factor,p.val_k_factor,p.test_k_factor),\n",
    "):\n",
    "   \n",
    "    if x_transforms == []: x_transform = None\n",
    "    else: x_transform = get_chained_transform(x_transforms)\n",
    "    \n",
    "    if episode_transforms == []: episode_transform = None\n",
    "    else: raise Exception(\"episode_transforms not implemented\")\n",
    "    \n",
    "    episode_transform = lambda tup, _prefix=domain_prefix: (_prefix + str(tup[0]), tup[1])\n",
    "\n",
    "\n",
    "    eaf = Episodic_Accessor_Factory(\n",
    "        labels=labels,\n",
    "        domains=domains,\n",
    "        num_examples_per_domain_per_label=num_examples_per_domain_per_label,\n",
    "        iterator_seed=iterator_seed,\n",
    "        dataset_seed=dataset_seed,\n",
    "        n_shot=n_shot,\n",
    "        n_way=n_way,\n",
    "        n_query=n_query,\n",
    "        train_val_test_k_factors=train_val_test_k_factors,\n",
    "        pickle_path=pickle_path,\n",
    "        x_transform_func=x_transform,\n",
    "    )\n",
    "\n",
    "    train, val, test = eaf.get_train(), eaf.get_val(), eaf.get_test()\n",
    "    train = Lazy_Iterable_Wrapper(train, episode_transform)\n",
    "    val = Lazy_Iterable_Wrapper(val, episode_transform)\n",
    "    test = Lazy_Iterable_Wrapper(test, episode_transform)\n",
    "\n",
    "    if source_or_target_dataset==\"source\":\n",
    "        train_original_source.append(train)\n",
    "        val_original_source.append(val)\n",
    "        test_original_source.append(test)\n",
    "\n",
    "        p.domains_source.extend(\n",
    "            [domain_prefix + str(u) for u in domains]\n",
    "        )\n",
    "    elif source_or_target_dataset==\"target\":\n",
    "        train_original_target.append(train)\n",
    "        val_original_target.append(val)\n",
    "        test_original_target.append(test)\n",
    "        p.domains_target.extend(\n",
    "            [domain_prefix + str(u) for u in domains]\n",
    "        )\n",
    "    else:\n",
    "        raise Exception(f\"invalid source_or_target_dataset: {source_or_target_dataset}\")\n",
    "    "
   ]
  },
  {
   "cell_type": "code",
   "execution_count": 13,
   "id": "fe266617",
   "metadata": {
    "execution": {
     "iopub.execute_input": "2022-03-07T08:10:29.985418Z",
     "iopub.status.busy": "2022-03-07T08:10:29.985164Z",
     "iopub.status.idle": "2022-03-07T08:10:35.636606Z",
     "shell.execute_reply": "2022-03-07T08:10:35.636140Z"
    },
    "papermill": {
     "duration": 5.666642,
     "end_time": "2022-03-07T08:10:35.636715",
     "exception": false,
     "start_time": "2022-03-07T08:10:29.970073",
     "status": "completed"
    },
    "tags": []
   },
   "outputs": [],
   "source": [
    "for ds in p.datasets:\n",
    "    add_dataset(**ds)"
   ]
  },
  {
   "cell_type": "code",
   "execution_count": 14,
   "id": "b90d65ac",
   "metadata": {
    "execution": {
     "iopub.execute_input": "2022-03-07T08:10:35.672983Z",
     "iopub.status.busy": "2022-03-07T08:10:35.672727Z",
     "iopub.status.idle": "2022-03-07T08:10:35.685903Z",
     "shell.execute_reply": "2022-03-07T08:10:35.685424Z"
    },
    "papermill": {
     "duration": 0.028671,
     "end_time": "2022-03-07T08:10:35.686001",
     "exception": false,
     "start_time": "2022-03-07T08:10:35.657330",
     "status": "completed"
    },
    "tags": []
   },
   "outputs": [],
   "source": [
    "# from steves_utils.CORES.utils import (\n",
    "#     ALL_NODES,\n",
    "#     ALL_NODES_MINIMUM_1000_EXAMPLES,\n",
    "#     ALL_DAYS\n",
    "# )\n",
    "\n",
    "# add_dataset(\n",
    "#     labels=ALL_NODES,\n",
    "#     domains = ALL_DAYS,\n",
    "#     num_examples_per_domain_per_label=100,\n",
    "#     pickle_path=os.path.join(get_datasets_base_path(), \"cores.stratified_ds.2022A.pkl\"),\n",
    "#     source_or_target_dataset=\"target\",\n",
    "#     x_transform_func=global_x_transform_func,\n",
    "#     domain_modifier=lambda u: f\"cores_{u}\"\n",
    "# )"
   ]
  },
  {
   "cell_type": "code",
   "execution_count": 15,
   "id": "76db484d",
   "metadata": {
    "execution": {
     "iopub.execute_input": "2022-03-07T08:10:35.721577Z",
     "iopub.status.busy": "2022-03-07T08:10:35.721323Z",
     "iopub.status.idle": "2022-03-07T08:10:35.736320Z",
     "shell.execute_reply": "2022-03-07T08:10:35.735904Z"
    },
    "papermill": {
     "duration": 0.030249,
     "end_time": "2022-03-07T08:10:35.736417",
     "exception": false,
     "start_time": "2022-03-07T08:10:35.706168",
     "status": "completed"
    },
    "tags": []
   },
   "outputs": [],
   "source": [
    "# from steves_utils.ORACLE.utils_v2 import (\n",
    "#     ALL_DISTANCES_FEET,\n",
    "#     ALL_RUNS,\n",
    "#     ALL_SERIAL_NUMBERS,\n",
    "# )\n",
    "\n",
    "\n",
    "# add_dataset(\n",
    "#     labels=ALL_SERIAL_NUMBERS,\n",
    "#     domains = list(set(ALL_DISTANCES_FEET) - {2,62}),\n",
    "#     num_examples_per_domain_per_label=100,\n",
    "#     pickle_path=os.path.join(get_datasets_base_path(), \"oracle.Run2_framed_2000Examples_stratified_ds.2022A.pkl\"),\n",
    "#     source_or_target_dataset=\"source\",\n",
    "#     x_transform_func=global_x_transform_func,\n",
    "#     domain_modifier=lambda u: f\"oracle1_{u}\"\n",
    "# )\n"
   ]
  },
  {
   "cell_type": "code",
   "execution_count": 16,
   "id": "97dea9d2",
   "metadata": {
    "execution": {
     "iopub.execute_input": "2022-03-07T08:10:35.770912Z",
     "iopub.status.busy": "2022-03-07T08:10:35.770622Z",
     "iopub.status.idle": "2022-03-07T08:10:35.783357Z",
     "shell.execute_reply": "2022-03-07T08:10:35.783106Z"
    },
    "papermill": {
     "duration": 0.027994,
     "end_time": "2022-03-07T08:10:35.783411",
     "exception": false,
     "start_time": "2022-03-07T08:10:35.755417",
     "status": "completed"
    },
    "tags": []
   },
   "outputs": [],
   "source": [
    "# from steves_utils.ORACLE.utils_v2 import (\n",
    "#     ALL_DISTANCES_FEET,\n",
    "#     ALL_RUNS,\n",
    "#     ALL_SERIAL_NUMBERS,\n",
    "# )\n",
    "\n",
    "\n",
    "# add_dataset(\n",
    "#     labels=ALL_SERIAL_NUMBERS,\n",
    "#     domains = list(set(ALL_DISTANCES_FEET) - {2,62,56}),\n",
    "#     num_examples_per_domain_per_label=100,\n",
    "#     pickle_path=os.path.join(get_datasets_base_path(), \"oracle.Run2_framed_2000Examples_stratified_ds.2022A.pkl\"),\n",
    "#     source_or_target_dataset=\"source\",\n",
    "#     x_transform_func=global_x_transform_func,\n",
    "#     domain_modifier=lambda u: f\"oracle2_{u}\"\n",
    "# )"
   ]
  },
  {
   "cell_type": "code",
   "execution_count": 17,
   "id": "6f289866",
   "metadata": {
    "execution": {
     "iopub.execute_input": "2022-03-07T08:10:35.818259Z",
     "iopub.status.busy": "2022-03-07T08:10:35.818000Z",
     "iopub.status.idle": "2022-03-07T08:10:35.830877Z",
     "shell.execute_reply": "2022-03-07T08:10:35.831097Z"
    },
    "papermill": {
     "duration": 0.028057,
     "end_time": "2022-03-07T08:10:35.831162",
     "exception": false,
     "start_time": "2022-03-07T08:10:35.803105",
     "status": "completed"
    },
    "tags": []
   },
   "outputs": [],
   "source": [
    "# add_dataset(\n",
    "#     labels=list(range(19)),\n",
    "#     domains = [0,1,2],\n",
    "#     num_examples_per_domain_per_label=100,\n",
    "#     pickle_path=os.path.join(get_datasets_base_path(), \"metehan.stratified_ds.2022A.pkl\"),\n",
    "#     source_or_target_dataset=\"target\",\n",
    "#     x_transform_func=global_x_transform_func,\n",
    "#     domain_modifier=lambda u: f\"met_{u}\"\n",
    "# )"
   ]
  },
  {
   "cell_type": "code",
   "execution_count": 18,
   "id": "86a863c3",
   "metadata": {
    "execution": {
     "iopub.execute_input": "2022-03-07T08:10:35.862377Z",
     "iopub.status.busy": "2022-03-07T08:10:35.862111Z",
     "iopub.status.idle": "2022-03-07T08:10:35.870733Z",
     "shell.execute_reply": "2022-03-07T08:10:35.870492Z"
    },
    "papermill": {
     "duration": 0.023859,
     "end_time": "2022-03-07T08:10:35.870794",
     "exception": false,
     "start_time": "2022-03-07T08:10:35.846935",
     "status": "completed"
    },
    "tags": []
   },
   "outputs": [],
   "source": [
    "# # from steves_utils.wisig.utils import (\n",
    "# #     ALL_NODES_MINIMUM_100_EXAMPLES,\n",
    "# #     ALL_NODES_MINIMUM_500_EXAMPLES,\n",
    "# #     ALL_NODES_MINIMUM_1000_EXAMPLES,\n",
    "# #     ALL_DAYS\n",
    "# # )\n",
    "\n",
    "# import steves_utils.wisig.utils as wisig\n",
    "\n",
    "\n",
    "# add_dataset(\n",
    "#     labels=wisig.ALL_NODES_MINIMUM_100_EXAMPLES,\n",
    "#     domains = wisig.ALL_DAYS,\n",
    "#     num_examples_per_domain_per_label=100,\n",
    "#     pickle_path=os.path.join(get_datasets_base_path(), \"wisig.node3-19.stratified_ds.2022A.pkl\"),\n",
    "#     source_or_target_dataset=\"target\",\n",
    "#     x_transform_func=global_x_transform_func,\n",
    "#     domain_modifier=lambda u: f\"wisig_{u}\"\n",
    "# )"
   ]
  },
  {
   "cell_type": "code",
   "execution_count": 19,
   "id": "fd5442bc",
   "metadata": {
    "execution": {
     "iopub.execute_input": "2022-03-07T08:10:35.906805Z",
     "iopub.status.busy": "2022-03-07T08:10:35.906483Z",
     "iopub.status.idle": "2022-03-07T08:10:35.920440Z",
     "shell.execute_reply": "2022-03-07T08:10:35.920824Z"
    },
    "papermill": {
     "duration": 0.033274,
     "end_time": "2022-03-07T08:10:35.920948",
     "exception": false,
     "start_time": "2022-03-07T08:10:35.887674",
     "status": "completed"
    },
    "tags": []
   },
   "outputs": [],
   "source": [
    "###################################\n",
    "# Build the dataset\n",
    "###################################\n",
    "train_original_source = Iterable_Aggregator(train_original_source, p.seed)\n",
    "val_original_source = Iterable_Aggregator(val_original_source, p.seed)\n",
    "test_original_source = Iterable_Aggregator(test_original_source, p.seed)\n",
    "\n",
    "\n",
    "train_original_target = Iterable_Aggregator(train_original_target, p.seed)\n",
    "val_original_target = Iterable_Aggregator(val_original_target, p.seed)\n",
    "test_original_target = Iterable_Aggregator(test_original_target, p.seed)\n",
    "\n",
    "# For CNN We only use X and Y. And we only train on the source.\n",
    "# Properly form the data using a transform lambda and Lazy_Iterable_Wrapper. Finally wrap them in a dataloader\n",
    "\n",
    "transform_lambda = lambda ex: ex[1] # Original is (<domain>, <episode>) so we strip down to episode only\n",
    "\n",
    "train_processed_source = Lazy_Iterable_Wrapper(train_original_source, transform_lambda)\n",
    "val_processed_source   = Lazy_Iterable_Wrapper(val_original_source, transform_lambda)\n",
    "test_processed_source  = Lazy_Iterable_Wrapper(test_original_source, transform_lambda)\n",
    "\n",
    "train_processed_target = Lazy_Iterable_Wrapper(train_original_target, transform_lambda)\n",
    "val_processed_target   = Lazy_Iterable_Wrapper(val_original_target, transform_lambda)\n",
    "test_processed_target  = Lazy_Iterable_Wrapper(test_original_target, transform_lambda)\n",
    "\n",
    "datasets = EasyDict({\n",
    "    \"source\": {\n",
    "        \"original\": {\"train\":train_original_source, \"val\":val_original_source, \"test\":test_original_source},\n",
    "        \"processed\": {\"train\":train_processed_source, \"val\":val_processed_source, \"test\":test_processed_source}\n",
    "    },\n",
    "    \"target\": {\n",
    "        \"original\": {\"train\":train_original_target, \"val\":val_original_target, \"test\":test_original_target},\n",
    "        \"processed\": {\"train\":train_processed_target, \"val\":val_processed_target, \"test\":test_processed_target}\n",
    "    },\n",
    "})"
   ]
  },
  {
   "cell_type": "code",
   "execution_count": 20,
   "id": "5b3c01fc",
   "metadata": {
    "execution": {
     "iopub.execute_input": "2022-03-07T08:10:35.957472Z",
     "iopub.status.busy": "2022-03-07T08:10:35.957214Z",
     "iopub.status.idle": "2022-03-07T08:10:38.027089Z",
     "shell.execute_reply": "2022-03-07T08:10:38.026609Z"
    },
    "papermill": {
     "duration": 2.086197,
     "end_time": "2022-03-07T08:10:38.027199",
     "exception": false,
     "start_time": "2022-03-07T08:10:35.941002",
     "status": "completed"
    },
    "tags": []
   },
   "outputs": [
    {
     "name": "stdout",
     "output_type": "stream",
     "text": [
      "{'CORES_1', 'CORES_3', 'CORES_2', 'CORES_4', 'CORES_5'}\n"
     ]
    },
    {
     "name": "stdout",
     "output_type": "stream",
     "text": [
      "{'Wisig_4', 'Wisig_1', 'Wisig_3', 'Wisig_2'}\n"
     ]
    },
    {
     "name": "stdout",
     "output_type": "stream",
     "text": [
      "tensor([[[ 0.1312, -0.1848, -0.1928,  ..., -0.9639, -1.6317, -0.5247],\n",
      "         [ 0.2524,  0.0616, -0.4293,  ..., -0.8486,  0.7671,  0.5982]],\n",
      "\n",
      "        [[ 0.2253, -0.0692, -0.2332,  ...,  0.7312,  1.5355, -0.1680],\n",
      "         [-0.1620,  0.4209,  0.0059,  ...,  1.2549,  0.6067, -0.1285]],\n",
      "\n",
      "        [[ 0.1226, -0.1305, -0.2927,  ..., -0.9789, -1.5782, -0.5537],\n",
      "         [ 0.1879,  0.1424, -0.4074,  ..., -0.8761,  0.7891,  0.7495]],\n",
      "\n",
      "        ...,\n",
      "\n",
      "        [[ 1.2091,  1.2366,  1.3331,  ..., -0.0241, -0.1447, -0.5098],\n",
      "         [ 0.1068, -0.6786, -0.1206,  ..., -0.2239,  0.4788,  0.0586]],\n",
      "\n",
      "        [[-0.1593,  0.9870,  0.3255,  ..., -0.5298,  0.6095,  0.0208],\n",
      "         [-0.8623,  0.1835,  1.0285,  ..., -0.4640,  0.6753,  0.8450]],\n",
      "\n",
      "        [[ 0.4958,  0.0270, -0.9242,  ..., -0.5464, -0.8972, -0.9343],\n",
      "         [ 0.0877,  0.7420, -0.0067,  ..., -0.5835,  0.0776,  0.3036]]])\n"
     ]
    }
   ],
   "source": [
    "from steves_utils.transforms import get_average_magnitude, get_average_power\n",
    "\n",
    "print(set([u for u,_ in val_original_source]))\n",
    "print(set([u for u,_ in val_original_target]))\n",
    "\n",
    "s_x, s_y, q_x, q_y, _ = next(iter(train_processed_source))\n",
    "print(s_x)\n",
    "\n",
    "# for ds in [\n",
    "#     train_processed_source,\n",
    "#     val_processed_source,\n",
    "#     test_processed_source,\n",
    "#     train_processed_target,\n",
    "#     val_processed_target,\n",
    "#     test_processed_target\n",
    "# ]:\n",
    "#     for s_x, s_y, q_x, q_y, _ in ds:\n",
    "#         for X in (s_x, q_x):\n",
    "#             for x in X:\n",
    "#                 assert np.isclose(get_average_magnitude(x.numpy()), 1.0)\n",
    "#                 assert np.isclose(get_average_power(x.numpy()), 1.0)\n",
    "                "
   ]
  },
  {
   "cell_type": "code",
   "execution_count": 21,
   "id": "bbdacba1",
   "metadata": {
    "execution": {
     "iopub.execute_input": "2022-03-07T08:10:38.062750Z",
     "iopub.status.busy": "2022-03-07T08:10:38.062468Z",
     "iopub.status.idle": "2022-03-07T08:10:38.120890Z",
     "shell.execute_reply": "2022-03-07T08:10:38.121298Z"
    },
    "papermill": {
     "duration": 0.076214,
     "end_time": "2022-03-07T08:10:38.121429",
     "exception": false,
     "start_time": "2022-03-07T08:10:38.045215",
     "status": "completed"
    },
    "tags": []
   },
   "outputs": [
    {
     "name": "stdout",
     "output_type": "stream",
     "text": [
      "(2, 256)\n"
     ]
    }
   ],
   "source": [
    "###################################\n",
    "# Build the model\n",
    "###################################\n",
    "model = Steves_Prototypical_Network(x_net, device=p.device, x_shape=(2,256))\n",
    "optimizer = Adam(params=model.parameters(), lr=p.lr)"
   ]
  },
  {
   "cell_type": "code",
   "execution_count": 22,
   "id": "22b39ac5",
   "metadata": {
    "execution": {
     "iopub.execute_input": "2022-03-07T08:10:38.159937Z",
     "iopub.status.busy": "2022-03-07T08:10:38.159677Z",
     "iopub.status.idle": "2022-03-07T08:11:31.980536Z",
     "shell.execute_reply": "2022-03-07T08:11:31.980933Z"
    },
    "papermill": {
     "duration": 53.839892,
     "end_time": "2022-03-07T08:11:31.981069",
     "exception": false,
     "start_time": "2022-03-07T08:10:38.141177",
     "status": "completed"
    },
    "tags": []
   },
   "outputs": [
    {
     "name": "stdout",
     "output_type": "stream",
     "text": [
      "epoch: 1, [batch: 1 / 210], examples_per_second: 992.7582, train_label_loss: 3.8517, \n"
     ]
    },
    {
     "name": "stdout",
     "output_type": "stream",
     "text": [
      "epoch: 1, [batch: 21 / 210], examples_per_second: 3809.7230, train_label_loss: 0.3504, \n"
     ]
    },
    {
     "name": "stdout",
     "output_type": "stream",
     "text": [
      "epoch: 1, [batch: 42 / 210], examples_per_second: 3834.5674, train_label_loss: 0.1829, \n"
     ]
    },
    {
     "name": "stdout",
     "output_type": "stream",
     "text": [
      "epoch: 1, [batch: 63 / 210], examples_per_second: 3812.4647, train_label_loss: 0.1122, \n"
     ]
    },
    {
     "name": "stdout",
     "output_type": "stream",
     "text": [
      "epoch: 1, [batch: 84 / 210], examples_per_second: 3836.6196, train_label_loss: 0.0758, \n"
     ]
    },
    {
     "name": "stdout",
     "output_type": "stream",
     "text": [
      "epoch: 1, [batch: 105 / 210], examples_per_second: 3829.5159, train_label_loss: 0.0294, \n"
     ]
    },
    {
     "name": "stdout",
     "output_type": "stream",
     "text": [
      "epoch: 1, [batch: 126 / 210], examples_per_second: 3832.9874, train_label_loss: 0.0940, \n"
     ]
    },
    {
     "name": "stdout",
     "output_type": "stream",
     "text": [
      "epoch: 1, [batch: 147 / 210], examples_per_second: 3818.2480, train_label_loss: 0.0376, \n"
     ]
    },
    {
     "name": "stdout",
     "output_type": "stream",
     "text": [
      "epoch: 1, [batch: 168 / 210], examples_per_second: 3832.6153, train_label_loss: 0.0229, \n"
     ]
    },
    {
     "name": "stdout",
     "output_type": "stream",
     "text": [
      "epoch: 1, [batch: 189 / 210], examples_per_second: 3835.7467, train_label_loss: 0.0266, \n"
     ]
    },
    {
     "name": "stdout",
     "output_type": "stream",
     "text": [
      "=============================================================\n",
      "epoch: 1, source_val_acc_label: 0.9928, target_val_acc_label: 0.7008, source_val_label_loss: 0.0260, target_val_label_loss: 2.6422, \n",
      "=============================================================\n"
     ]
    },
    {
     "name": "stdout",
     "output_type": "stream",
     "text": [
      "New best\n"
     ]
    },
    {
     "name": "stdout",
     "output_type": "stream",
     "text": [
      "epoch: 2, [batch: 1 / 210], examples_per_second: 148.7036, train_label_loss: 0.0091, \n"
     ]
    },
    {
     "name": "stdout",
     "output_type": "stream",
     "text": [
      "epoch: 2, [batch: 21 / 210], examples_per_second: 3911.9722, train_label_loss: 0.0028, \n"
     ]
    },
    {
     "name": "stdout",
     "output_type": "stream",
     "text": [
      "epoch: 2, [batch: 42 / 210], examples_per_second: 3914.4132, train_label_loss: 0.0104, \n"
     ]
    },
    {
     "name": "stdout",
     "output_type": "stream",
     "text": [
      "epoch: 2, [batch: 63 / 210], examples_per_second: 3890.8005, train_label_loss: 0.0451, \n"
     ]
    },
    {
     "name": "stdout",
     "output_type": "stream",
     "text": [
      "epoch: 2, [batch: 84 / 210], examples_per_second: 3918.5458, train_label_loss: 0.0414, \n"
     ]
    },
    {
     "name": "stdout",
     "output_type": "stream",
     "text": [
      "epoch: 2, [batch: 105 / 210], examples_per_second: 3919.7587, train_label_loss: 0.0399, \n"
     ]
    },
    {
     "name": "stdout",
     "output_type": "stream",
     "text": [
      "epoch: 2, [batch: 126 / 210], examples_per_second: 3918.9204, train_label_loss: 0.0936, \n"
     ]
    },
    {
     "name": "stdout",
     "output_type": "stream",
     "text": [
      "epoch: 2, [batch: 147 / 210], examples_per_second: 3903.2993, train_label_loss: 0.0842, \n"
     ]
    },
    {
     "name": "stdout",
     "output_type": "stream",
     "text": [
      "epoch: 2, [batch: 168 / 210], examples_per_second: 3919.0334, train_label_loss: 0.0048, \n"
     ]
    },
    {
     "name": "stdout",
     "output_type": "stream",
     "text": [
      "epoch: 2, [batch: 189 / 210], examples_per_second: 3912.7942, train_label_loss: 0.0070, \n"
     ]
    },
    {
     "name": "stdout",
     "output_type": "stream",
     "text": [
      "=============================================================\n",
      "epoch: 2, source_val_acc_label: 0.9813, target_val_acc_label: 0.6859, source_val_label_loss: 0.0607, target_val_label_loss: 4.2283, \n",
      "=============================================================\n"
     ]
    },
    {
     "name": "stdout",
     "output_type": "stream",
     "text": [
      "epoch: 3, [batch: 1 / 210], examples_per_second: 148.2742, train_label_loss: 0.0022, \n"
     ]
    },
    {
     "name": "stdout",
     "output_type": "stream",
     "text": [
      "epoch: 3, [batch: 21 / 210], examples_per_second: 3914.3900, train_label_loss: 0.0221, \n"
     ]
    },
    {
     "name": "stdout",
     "output_type": "stream",
     "text": [
      "epoch: 3, [batch: 42 / 210], examples_per_second: 3915.8276, train_label_loss: 0.0169, \n"
     ]
    },
    {
     "name": "stdout",
     "output_type": "stream",
     "text": [
      "epoch: 3, [batch: 63 / 210], examples_per_second: 3895.3271, train_label_loss: 0.0201, \n"
     ]
    },
    {
     "name": "stdout",
     "output_type": "stream",
     "text": [
      "epoch: 3, [batch: 84 / 210], examples_per_second: 3915.2466, train_label_loss: 0.2895, \n"
     ]
    },
    {
     "name": "stdout",
     "output_type": "stream",
     "text": [
      "epoch: 3, [batch: 105 / 210], examples_per_second: 3914.7743, train_label_loss: 0.0880, \n"
     ]
    },
    {
     "name": "stdout",
     "output_type": "stream",
     "text": [
      "epoch: 3, [batch: 126 / 210], examples_per_second: 3921.3576, train_label_loss: 0.0007, \n"
     ]
    },
    {
     "name": "stdout",
     "output_type": "stream",
     "text": [
      "epoch: 3, [batch: 147 / 210], examples_per_second: 3896.7646, train_label_loss: 0.0786, \n"
     ]
    },
    {
     "name": "stdout",
     "output_type": "stream",
     "text": [
      "epoch: 3, [batch: 168 / 210], examples_per_second: 3916.8796, train_label_loss: 0.0070, \n"
     ]
    },
    {
     "name": "stdout",
     "output_type": "stream",
     "text": [
      "epoch: 3, [batch: 189 / 210], examples_per_second: 3913.2720, train_label_loss: 0.0115, \n"
     ]
    },
    {
     "name": "stdout",
     "output_type": "stream",
     "text": [
      "=============================================================\n",
      "epoch: 3, source_val_acc_label: 0.9899, target_val_acc_label: 0.6882, source_val_label_loss: 0.0524, target_val_label_loss: 4.9307, \n",
      "=============================================================\n"
     ]
    }
   ],
   "source": [
    "###################################\n",
    "# train\n",
    "###################################\n",
    "jig = PTN_Train_Eval_Test_Jig(model, p.BEST_MODEL_PATH, p.device)\n",
    "\n",
    "jig.train(\n",
    "    train_iterable=datasets.source.processed.train,\n",
    "    source_val_iterable=datasets.source.processed.val,\n",
    "    target_val_iterable=datasets.target.processed.val,\n",
    "    num_epochs=p.n_epoch,\n",
    "    num_logs_per_epoch=p.NUM_LOGS_PER_EPOCH,\n",
    "    patience=p.patience,\n",
    "    optimizer=optimizer,\n",
    "    criteria_for_best=p.criteria_for_best,\n",
    ")"
   ]
  },
  {
   "cell_type": "code",
   "execution_count": 23,
   "id": "31e8fabf",
   "metadata": {
    "execution": {
     "iopub.execute_input": "2022-03-07T08:11:32.030911Z",
     "iopub.status.busy": "2022-03-07T08:11:32.030608Z",
     "iopub.status.idle": "2022-03-07T08:11:32.047661Z",
     "shell.execute_reply": "2022-03-07T08:11:32.048074Z"
    },
    "papermill": {
     "duration": 0.041214,
     "end_time": "2022-03-07T08:11:32.048206",
     "exception": false,
     "start_time": "2022-03-07T08:11:32.006992",
     "status": "completed"
    },
    "tags": []
   },
   "outputs": [],
   "source": [
    "total_experiment_time_secs = time.time() - start_time_secs"
   ]
  },
  {
   "cell_type": "code",
   "execution_count": 24,
   "id": "87b9595b",
   "metadata": {
    "execution": {
     "iopub.execute_input": "2022-03-07T08:11:32.099730Z",
     "iopub.status.busy": "2022-03-07T08:11:32.099413Z",
     "iopub.status.idle": "2022-03-07T08:11:42.661753Z",
     "shell.execute_reply": "2022-03-07T08:11:42.661493Z"
    },
    "papermill": {
     "duration": 10.58897,
     "end_time": "2022-03-07T08:11:42.661818",
     "exception": false,
     "start_time": "2022-03-07T08:11:32.072848",
     "status": "completed"
    },
    "tags": []
   },
   "outputs": [],
   "source": [
    "###################################\n",
    "# Evaluate the model\n",
    "###################################\n",
    "source_test_label_accuracy, source_test_label_loss = jig.test(datasets.source.processed.test)\n",
    "target_test_label_accuracy, target_test_label_loss = jig.test(datasets.target.processed.test)\n",
    "\n",
    "source_val_label_accuracy, source_val_label_loss = jig.test(datasets.source.processed.val)\n",
    "target_val_label_accuracy, target_val_label_loss = jig.test(datasets.target.processed.val)\n",
    "\n",
    "history = jig.get_history()\n",
    "\n",
    "total_epochs_trained = len(history[\"epoch_indices\"])\n",
    "\n",
    "val_dl = Iterable_Aggregator((datasets.source.original.val,datasets.target.original.val))\n",
    "\n",
    "confusion = ptn_confusion_by_domain_over_dataloader(model, p.device, val_dl)\n",
    "per_domain_accuracy = per_domain_accuracy_from_confusion(confusion)\n",
    "\n",
    "# Add a key to per_domain_accuracy for if it was a source domain\n",
    "for domain, accuracy in per_domain_accuracy.items():\n",
    "    per_domain_accuracy[domain] = {\n",
    "        \"accuracy\": accuracy,\n",
    "        \"source?\": domain in p.domains_source\n",
    "    }\n",
    "\n",
    "# Do an independent accuracy assesment JUST TO BE SURE!\n",
    "# _source_test_label_accuracy = independent_accuracy_assesment(model, datasets.source.processed.test, p.device)\n",
    "# _target_test_label_accuracy = independent_accuracy_assesment(model, datasets.target.processed.test, p.device)\n",
    "# _source_val_label_accuracy = independent_accuracy_assesment(model, datasets.source.processed.val, p.device)\n",
    "# _target_val_label_accuracy = independent_accuracy_assesment(model, datasets.target.processed.val, p.device)\n",
    "\n",
    "# assert(_source_test_label_accuracy == source_test_label_accuracy)\n",
    "# assert(_target_test_label_accuracy == target_test_label_accuracy)\n",
    "# assert(_source_val_label_accuracy == source_val_label_accuracy)\n",
    "# assert(_target_val_label_accuracy == target_val_label_accuracy)\n",
    "\n",
    "experiment = {\n",
    "    \"experiment_name\": p.experiment_name,\n",
    "    \"parameters\": dict(p),\n",
    "    \"results\": {\n",
    "        \"source_test_label_accuracy\": source_test_label_accuracy,\n",
    "        \"source_test_label_loss\": source_test_label_loss,\n",
    "        \"target_test_label_accuracy\": target_test_label_accuracy,\n",
    "        \"target_test_label_loss\": target_test_label_loss,\n",
    "        \"source_val_label_accuracy\": source_val_label_accuracy,\n",
    "        \"source_val_label_loss\": source_val_label_loss,\n",
    "        \"target_val_label_accuracy\": target_val_label_accuracy,\n",
    "        \"target_val_label_loss\": target_val_label_loss,\n",
    "        \"total_epochs_trained\": total_epochs_trained,\n",
    "        \"total_experiment_time_secs\": total_experiment_time_secs,\n",
    "        \"confusion\": confusion,\n",
    "        \"per_domain_accuracy\": per_domain_accuracy,\n",
    "    },\n",
    "    \"history\": history,\n",
    "    \"dataset_metrics\": get_dataset_metrics(datasets, \"ptn\"),\n",
    "}"
   ]
  },
  {
   "cell_type": "code",
   "execution_count": 25,
   "id": "54a21829",
   "metadata": {
    "execution": {
     "iopub.execute_input": "2022-03-07T08:11:42.706468Z",
     "iopub.status.busy": "2022-03-07T08:11:42.706197Z",
     "iopub.status.idle": "2022-03-07T08:11:42.878409Z",
     "shell.execute_reply": "2022-03-07T08:11:42.878865Z"
    },
    "papermill": {
     "duration": 0.195378,
     "end_time": "2022-03-07T08:11:42.879003",
     "exception": false,
     "start_time": "2022-03-07T08:11:42.683625",
     "status": "completed"
    },
    "tags": []
   },
   "outputs": [
    {
     "data": {
      "image/png": "[encoded data removed]",
      "text/plain": [
       "<Figure size 1080x504 with 1 Axes>"
      ]
     },
     "metadata": {
      "needs_background": "light"
     },
     "output_type": "display_data"
    }
   ],
   "source": [
    "ax = get_loss_curve(experiment)\n",
    "plt.show()"
   ]
  },
  {
   "cell_type": "code",
   "execution_count": 26,
   "id": "fd8a0f60",
   "metadata": {
    "execution": {
     "iopub.execute_input": "2022-03-07T08:11:42.930515Z",
     "iopub.status.busy": "2022-03-07T08:11:42.930247Z",
     "iopub.status.idle": "2022-03-07T08:11:43.109793Z",
     "shell.execute_reply": "2022-03-07T08:11:43.109471Z"
    },
    "papermill": {
     "duration": 0.204292,
     "end_time": "2022-03-07T08:11:43.109872",
     "exception": false,
     "start_time": "2022-03-07T08:11:42.905580",
     "status": "completed"
    },
    "tags": []
   },
   "outputs": [
    {
     "data": {
      "text/plain": [
       "<matplotlib.axes._subplots.AxesSubplot at 0x7f5394b762e0>"
      ]
     },
     "execution_count": 26,
     "metadata": {},
     "output_type": "execute_result"
    },
    {
     "data": {
      "image/png": "[encoded data removed]",
      "text/plain": [
       "<Figure size 1080x504 with 1 Axes>"
      ]
     },
     "metadata": {
      "needs_background": "light"
     },
     "output_type": "display_data"
    }
   ],
   "source": [
    "get_results_table(experiment)"
   ]
  },
  {
   "cell_type": "code",
   "execution_count": 27,
   "id": "cf8dc689",
   "metadata": {
    "execution": {
     "iopub.execute_input": "2022-03-07T08:11:43.161133Z",
     "iopub.status.busy": "2022-03-07T08:11:43.160875Z",
     "iopub.status.idle": "2022-03-07T08:11:43.340686Z",
     "shell.execute_reply": "2022-03-07T08:11:43.341102Z"
    },
    "papermill": {
     "duration": 0.205107,
     "end_time": "2022-03-07T08:11:43.341233",
     "exception": false,
     "start_time": "2022-03-07T08:11:43.136126",
     "status": "completed"
    },
    "tags": []
   },
   "outputs": [
    {
     "data": {
      "text/plain": [
       "<matplotlib.axes._subplots.AxesSubplot at 0x7f5394b92eb0>"
      ]
     },
     "execution_count": 27,
     "metadata": {},
     "output_type": "execute_result"
    },
    {
     "data": {
      "image/png": "[encoded data removed]",
      "text/plain": [
       "<Figure size 1080x504 with 1 Axes>"
      ]
     },
     "metadata": {
      "needs_background": "light"
     },
     "output_type": "display_data"
    }
   ],
   "source": [
    "get_domain_accuracies(experiment)"
   ]
  },
  {
   "cell_type": "code",
   "execution_count": 28,
   "id": "a74ae082",
   "metadata": {
    "execution": {
     "iopub.execute_input": "2022-03-07T08:11:43.396336Z",
     "iopub.status.busy": "2022-03-07T08:11:43.394947Z",
     "iopub.status.idle": "2022-03-07T08:11:43.411176Z",
     "shell.execute_reply": "2022-03-07T08:11:43.411576Z"
    },
    "papermill": {
     "duration": 0.041493,
     "end_time": "2022-03-07T08:11:43.411699",
     "exception": false,
     "start_time": "2022-03-07T08:11:43.370206",
     "status": "completed"
    },
    "tags": []
   },
   "outputs": [
    {
     "name": "stdout",
     "output_type": "stream",
     "text": [
      "Source Test Label Accuracy: 0.9916666666666667 Target Test Label Accuracy: 0.6939655172413793\n",
      "Source Val Label Accuracy: 0.992816091954023 Target Val Label Accuracy: 0.7007902298850575\n"
     ]
    }
   ],
   "source": [
    "print(\"Source Test Label Accuracy:\", experiment[\"results\"][\"source_test_label_accuracy\"], \"Target Test Label Accuracy:\", experiment[\"results\"][\"target_test_label_accuracy\"])\n",
    "print(\"Source Val Label Accuracy:\", experiment[\"results\"][\"source_val_label_accuracy\"], \"Target Val Label Accuracy:\", experiment[\"results\"][\"target_val_label_accuracy\"])"
   ]
  },
  {
   "cell_type": "code",
   "execution_count": 29,
   "id": "dacca602",
   "metadata": {
    "execution": {
     "iopub.execute_input": "2022-03-07T08:11:43.467126Z",
     "iopub.status.busy": "2022-03-07T08:11:43.466870Z",
     "iopub.status.idle": "2022-03-07T08:11:43.483533Z",
     "shell.execute_reply": "2022-03-07T08:11:43.483743Z"
    },
    "papermill": {
     "duration": 0.042574,
     "end_time": "2022-03-07T08:11:43.483817",
     "exception": false,
     "start_time": "2022-03-07T08:11:43.441243",
     "status": "completed"
    },
    "tags": [
     "experiment_json"
    ]
   },
   "outputs": [
    {
     "data": {
      "text/plain": [
       "'{\"experiment_name\": \"tl_1_cores-wisig\", \"parameters\": {\"experiment_name\": \"tl_1_cores-wisig\", \"device\": \"cuda\", \"lr\": 0.001, \"seed\": 1337, \"dataset_seed\": 1337, \"n_shot\": 3, \"n_query\": 2, \"train_k_factor\": 3, \"val_k_factor\": 2, \"test_k_factor\": 2, \"torch_default_dtype\": \"torch.float32\", \"n_epoch\": 3, \"patience\": 3, \"criteria_for_best\": \"target_loss\", \"x_net\": [{\"class\": \"nnReshape\", \"kargs\": {\"shape\": [-1, 1, 2, 256]}}, {\"class\": \"Conv2d\", \"kargs\": {\"in_channels\": 1, \"out_channels\": 256, \"kernel_size\": [1, 7], \"bias\": false, \"padding\": [0, 3]}}, {\"class\": \"ReLU\", \"kargs\": {\"inplace\": true}}, {\"class\": \"BatchNorm2d\", \"kargs\": {\"num_features\": 256}}, {\"class\": \"Conv2d\", \"kargs\": {\"in_channels\": 256, \"out_channels\": 80, \"kernel_size\": [2, 7], \"bias\": true, \"padding\": [0, 3]}}, {\"class\": \"ReLU\", \"kargs\": {\"inplace\": true}}, {\"class\": \"BatchNorm2d\", \"kargs\": {\"num_features\": 80}}, {\"class\": \"Flatten\", \"kargs\": {}}, {\"class\": \"Linear\", \"kargs\": {\"in_features\": 20480, \"out_features\": 256}}, {\"class\": \"ReLU\", \"kargs\": {\"inplace\": true}}, {\"class\": \"BatchNorm1d\", \"kargs\": {\"num_features\": 256}}, {\"class\": \"Linear\", \"kargs\": {\"in_features\": 256, \"out_features\": 256}}], \"NUM_LOGS_PER_EPOCH\": 10, \"BEST_MODEL_PATH\": \"./best_model.pth\", \"n_way\": 58, \"datasets\": [{\"labels\": [\"1-10.\", \"1-11.\", \"1-15.\", \"1-16.\", \"1-17.\", \"1-18.\", \"1-19.\", \"10-4.\", \"10-7.\", \"11-1.\", \"11-14.\", \"11-17.\", \"11-20.\", \"11-7.\", \"13-20.\", \"13-8.\", \"14-10.\", \"14-11.\", \"14-14.\", \"14-7.\", \"15-1.\", \"15-20.\", \"16-1.\", \"16-16.\", \"17-10.\", \"17-11.\", \"17-2.\", \"19-1.\", \"19-16.\", \"19-19.\", \"19-20.\", \"19-3.\", \"2-10.\", \"2-11.\", \"2-17.\", \"2-18.\", \"2-20.\", \"2-3.\", \"2-4.\", \"2-5.\", \"2-6.\", \"2-7.\", \"2-8.\", \"3-13.\", \"3-18.\", \"3-3.\", \"4-1.\", \"4-10.\", \"4-11.\", \"4-19.\", \"5-5.\", \"6-15.\", \"7-10.\", \"7-14.\", \"8-18.\", \"8-20.\", \"8-3.\", \"8-8.\"], \"domains\": [1, 2, 3, 4, 5], \"num_examples_per_domain_per_label\": 100, \"pickle_path\": \"/mnt/wd500GB/CSC500/csc500-main/datasets/cores.stratified_ds.2022A.pkl\", \"source_or_target_dataset\": \"source\", \"x_transforms\": [\"unit_mag\"], \"episode_transforms\": [], \"domain_prefix\": \"CORES_\"}, {\"labels\": [\"1-10\", \"1-12\", \"1-14\", \"1-16\", \"1-18\", \"1-19\", \"1-8\", \"10-11\", \"10-17\", \"10-4\", \"10-7\", \"11-1\", \"11-10\", \"11-19\", \"11-20\", \"11-4\", \"11-7\", \"12-19\", \"12-20\", \"12-7\", \"13-14\", \"13-18\", \"13-19\", \"13-20\", \"13-3\", \"13-7\", \"14-10\", \"14-11\", \"14-12\", \"14-13\", \"14-14\", \"14-19\", \"14-20\", \"14-7\", \"14-8\", \"14-9\", \"15-1\", \"15-19\", \"15-6\", \"16-1\", \"16-16\", \"16-19\", \"16-20\", \"17-10\", \"17-11\", \"18-1\", \"18-10\", \"18-11\", \"18-12\", \"18-13\", \"18-14\", \"18-15\", \"18-16\", \"18-17\", \"18-19\", \"18-2\", \"18-20\", \"18-4\", \"18-5\", \"18-7\", \"18-8\", \"18-9\", \"19-1\", \"19-10\", \"19-11\", \"19-12\", \"19-13\", \"19-14\", \"19-15\", \"19-19\", \"19-2\", \"19-20\", \"19-3\", \"19-4\", \"19-6\", \"19-7\", \"19-8\", \"19-9\", \"2-1\", \"2-13\", \"2-15\", \"2-3\", \"2-4\", \"2-5\", \"2-6\", \"2-7\", \"2-8\", \"20-1\", \"20-12\", \"20-14\", \"20-15\", \"20-16\", \"20-18\", \"20-19\", \"20-20\", \"20-3\", \"20-4\", \"20-5\", \"20-7\", \"20-8\", \"3-1\", \"3-13\", \"3-18\", \"3-2\", \"3-8\", \"4-1\", \"4-10\", \"4-11\", \"5-1\", \"5-5\", \"6-1\", \"6-15\", \"6-6\", \"7-10\", \"7-11\", \"7-12\", \"7-13\", \"7-14\", \"7-7\", \"7-8\", \"7-9\", \"8-1\", \"8-13\", \"8-14\", \"8-18\", \"8-20\", \"8-3\", \"8-8\", \"9-1\", \"9-7\"], \"domains\": [1, 2, 3, 4], \"num_examples_per_domain_per_label\": 100, \"pickle_path\": \"/mnt/wd500GB/CSC500/csc500-main/datasets/wisig.node3-19.stratified_ds.2022A.pkl\", \"source_or_target_dataset\": \"target\", \"x_transforms\": [\"unit_mag\"], \"episode_transforms\": [], \"domain_prefix\": \"Wisig_\"}], \"domains_source\": [\"CORES_1\", \"CORES_2\", \"CORES_3\", \"CORES_4\", \"CORES_5\"], \"domains_target\": [\"Wisig_1\", \"Wisig_2\", \"Wisig_3\", \"Wisig_4\"]}, \"results\": {\"source_test_label_accuracy\": 0.9916666666666667, \"source_test_label_loss\": 0.03217373788356781, \"target_test_label_accuracy\": 0.6939655172413793, \"target_test_label_loss\": 2.7064692974090576, \"source_val_label_accuracy\": 0.992816091954023, \"source_val_label_loss\": 0.026023777201771736, \"target_val_label_accuracy\": 0.7007902298850575, \"target_val_label_loss\": 2.6421799659729004, \"total_epochs_trained\": 3, \"total_experiment_time_secs\": 62.237303495407104, \"confusion\": {\"CORES_3\": {\"1\": {\"1\": 12}, \"28\": {\"28\": 12}, \"21\": {\"21\": 11, \"50\": 1}, \"27\": {\"27\": 12}, \"20\": {\"20\": 12}, \"16\": {\"16\": 12}, \"48\": {\"48\": 12}, \"42\": {\"42\": 12}, \"45\": {\"45\": 12}, \"41\": {\"41\": 12}, \"13\": {\"13\": 12}, \"50\": {\"50\": 11, \"3\": 1}, \"32\": {\"32\": 12}, \"51\": {\"51\": 12}, \"30\": {\"30\": 12}, \"38\": {\"38\": 12}, \"7\": {\"7\": 12}, \"22\": {\"22\": 12}, \"37\": {\"37\": 12}, \"33\": {\"33\": 12}, \"6\": {\"6\": 12}, \"14\": {\"14\": 12}, \"40\": {\"40\": 12}, \"55\": {\"55\": 12}, \"2\": {\"2\": 12}, \"39\": {\"39\": 12}, \"56\": {\"56\": 12}, \"17\": {\"17\": 12}, \"10\": {\"10\": 12}, \"9\": {\"9\": 12}, \"31\": {\"31\": 12}, \"12\": {\"12\": 12}, \"25\": {\"25\": 12}, \"0\": {\"0\": 12}, \"47\": {\"47\": 12}, \"44\": {\"44\": 12}, \"23\": {\"23\": 12}, \"15\": {\"15\": 12}, \"8\": {\"8\": 12}, \"54\": {\"54\": 12}, \"52\": {\"52\": 12}, \"29\": {\"29\": 12}, \"5\": {\"5\": 12}, \"34\": {\"34\": 12}, \"35\": {\"35\": 12}, \"26\": {\"26\": 12}, \"57\": {\"57\": 12}, \"53\": {\"53\": 12}, \"36\": {\"36\": 12}, \"18\": {\"18\": 12}, \"49\": {\"49\": 12}, \"3\": {\"3\": 12}, \"4\": {\"4\": 12}, \"24\": {\"24\": 12}, \"11\": {\"11\": 12}, \"19\": {\"19\": 12}, \"43\": {\"43\": 12}, \"46\": {\"46\": 11, \"47\": 1}}, \"CORES_4\": {\"9\": {\"9\": 12}, \"4\": {\"4\": 11, \"9\": 1}, \"20\": {\"20\": 12}, \"26\": {\"26\": 12}, \"19\": {\"19\": 12}, \"35\": {\"35\": 12}, \"14\": {\"14\": 11, \"38\": 1}, \"10\": {\"10\": 12}, \"1\": {\"1\": 12}, \"3\": {\"3\": 12}, \"29\": {\"29\": 12}, \"47\": {\"47\": 12}, \"50\": {\"3\": 3, \"50\": 9}, \"51\": {\"51\": 12}, \"55\": {\"55\": 10, \"31\": 2}, \"27\": {\"27\": 12}, \"31\": {\"31\": 12}, \"30\": {\"30\": 11, \"50\": 1}, \"37\": {\"37\": 12}, \"36\": {\"36\": 12}, \"48\": {\"48\": 12}, \"46\": {\"46\": 11, \"7\": 1}, \"25\": {\"25\": 12}, \"53\": {\"53\": 12}, \"0\": {\"0\": 12}, \"8\": {\"8\": 12}, \"15\": {\"15\": 12}, \"22\": {\"22\": 12}, \"45\": {\"45\": 12}, \"43\": {\"43\": 12}, \"12\": {\"12\": 12}, \"24\": {\"24\": 12}, \"11\": {\"11\": 12}, \"44\": {\"44\": 12}, \"5\": {\"5\": 12}, \"6\": {\"6\": 12}, \"49\": {\"49\": 12}, \"2\": {\"2\": 12}, \"18\": {\"18\": 12}, \"54\": {\"54\": 12}, \"41\": {\"41\": 12}, \"38\": {\"38\": 12}, \"34\": {\"34\": 12}, \"21\": {\"21\": 12}, \"57\": {\"57\": 12}, \"33\": {\"33\": 12}, \"17\": {\"17\": 12}, \"40\": {\"40\": 12}, \"28\": {\"28\": 12}, \"16\": {\"16\": 12}, \"56\": {\"56\": 12}, \"39\": {\"39\": 12}, \"13\": {\"13\": 12}, \"23\": {\"23\": 12}, \"7\": {\"7\": 12}, \"52\": {\"52\": 12}, \"42\": {\"42\": 12}, \"32\": {\"32\": 12}}, \"CORES_2\": {\"16\": {\"16\": 12}, \"31\": {\"31\": 12}, \"29\": {\"29\": 12}, \"54\": {\"54\": 12}, \"52\": {\"52\": 12}, \"27\": {\"27\": 12}, \"37\": {\"37\": 12}, \"12\": {\"12\": 12}, \"0\": {\"0\": 12}, \"43\": {\"43\": 12}, \"21\": {\"21\": 12}, \"47\": {\"47\": 12}, \"56\": {\"56\": 12}, \"26\": {\"26\": 12}, \"28\": {\"28\": 12}, \"48\": {\"48\": 12}, \"40\": {\"40\": 12}, \"5\": {\"5\": 12}, \"17\": {\"17\": 12}, \"9\": {\"9\": 11, \"4\": 1}, \"30\": {\"30\": 12}, \"24\": {\"24\": 12}, \"32\": {\"32\": 12}, \"39\": {\"39\": 12}, \"8\": {\"8\": 12}, \"13\": {\"13\": 12}, \"23\": {\"23\": 12}, \"35\": {\"35\": 12}, \"4\": {\"4\": 12}, \"19\": {\"19\": 12}, \"25\": {\"25\": 12}, \"14\": {\"14\": 12}, \"34\": {\"34\": 11, \"2\": 1}, \"45\": {\"45\": 12}, \"2\": {\"2\": 11, \"3\": 1}, \"41\": {\"41\": 12}, \"6\": {\"6\": 12}, \"7\": {\"7\": 12}, \"55\": {\"55\": 12}, \"22\": {\"22\": 12}, \"3\": {\"3\": 12}, \"15\": {\"15\": 12}, \"53\": {\"53\": 12}, \"42\": {\"42\": 12}, \"51\": {\"51\": 12}, \"38\": {\"38\": 12}, \"1\": {\"1\": 12}, \"10\": {\"10\": 12}, \"49\": {\"49\": 12}, \"36\": {\"36\": 12}, \"11\": {\"11\": 12}, \"46\": {\"46\": 12}, \"44\": {\"44\": 12}, \"57\": {\"57\": 12}, \"33\": {\"33\": 12}, \"18\": {\"18\": 12}, \"50\": {\"50\": 12}, \"20\": {\"20\": 12}}, \"CORES_1\": {\"32\": {\"32\": 12}, \"53\": {\"53\": 12}, \"27\": {\"27\": 12}, \"2\": {\"2\": 12}, \"37\": {\"37\": 12}, \"34\": {\"34\": 12}, \"0\": {\"0\": 12}, \"25\": {\"25\": 12}, \"54\": {\"54\": 12}, \"6\": {\"6\": 12}, \"11\": {\"11\": 12}, \"36\": {\"36\": 12}, \"28\": {\"28\": 12}, \"18\": {\"18\": 12}, \"16\": {\"16\": 12}, \"33\": {\"33\": 12}, \"3\": {\"3\": 12}, \"5\": {\"5\": 12}, \"29\": {\"29\": 12}, \"14\": {\"14\": 12}, \"38\": {\"38\": 12}, \"7\": {\"7\": 12}, \"9\": {\"9\": 12}, \"24\": {\"24\": 12}, \"12\": {\"12\": 12}, \"49\": {\"49\": 12}, \"46\": {\"46\": 12}, \"55\": {\"55\": 12}, \"1\": {\"1\": 12}, \"31\": {\"31\": 12}, \"8\": {\"8\": 12}, \"10\": {\"10\": 12}, \"22\": {\"22\": 12}, \"43\": {\"43\": 12}, \"51\": {\"51\": 12}, \"35\": {\"35\": 12}, \"13\": {\"13\": 12}, \"50\": {\"50\": 11, \"48\": 1}, \"15\": {\"15\": 11, \"21\": 1}, \"30\": {\"30\": 12}, \"47\": {\"47\": 12}, \"26\": {\"26\": 12}, \"20\": {\"20\": 12}, \"52\": {\"52\": 12}, \"57\": {\"57\": 12}, \"39\": {\"39\": 12}, \"23\": {\"23\": 12}, \"21\": {\"21\": 12}, \"42\": {\"42\": 12}, \"45\": {\"45\": 12}, \"48\": {\"48\": 12}, \"40\": {\"40\": 12}, \"17\": {\"17\": 12}, \"4\": {\"4\": 12}, \"19\": {\"19\": 12}, \"41\": {\"41\": 12}, \"44\": {\"44\": 12}, \"56\": {\"56\": 12}}, \"CORES_5\": {\"19\": {\"19\": 12}, \"34\": {\"34\": 12}, \"20\": {\"20\": 12}, \"14\": {\"14\": 12}, \"0\": {\"0\": 12}, \"2\": {\"2\": 12}, \"27\": {\"27\": 12}, \"15\": {\"15\": 9, \"11\": 3}, \"57\": {\"57\": 12}, \"55\": {\"55\": 10, \"45\": 2}, \"26\": {\"26\": 12}, \"51\": {\"51\": 12}, \"54\": {\"54\": 12}, \"47\": {\"47\": 12}, \"24\": {\"24\": 12}, \"12\": {\"12\": 12}, \"32\": {\"32\": 12}, \"18\": {\"18\": 12}, \"4\": {\"4\": 12}, \"3\": {\"3\": 11, \"46\": 1}, \"43\": {\"43\": 12}, \"40\": {\"40\": 12}, \"31\": {\"31\": 12}, \"1\": {\"1\": 12}, \"30\": {\"30\": 12}, \"29\": {\"29\": 12}, \"25\": {\"25\": 12}, \"33\": {\"33\": 12}, \"6\": {\"6\": 12}, \"48\": {\"48\": 12}, \"21\": {\"21\": 12}, \"36\": {\"36\": 12}, \"46\": {\"46\": 11, \"3\": 1}, \"13\": {\"13\": 12}, \"10\": {\"10\": 12}, \"45\": {\"45\": 12}, \"35\": {\"35\": 12}, \"53\": {\"53\": 12}, \"16\": {\"16\": 12}, \"23\": {\"23\": 12}, \"11\": {\"15\": 1, \"11\": 11}, \"17\": {\"17\": 12}, \"37\": {\"37\": 12}, \"9\": {\"9\": 12}, \"28\": {\"28\": 12}, \"39\": {\"39\": 12}, \"52\": {\"52\": 12}, \"42\": {\"42\": 12}, \"5\": {\"5\": 12}, \"50\": {\"50\": 12}, \"7\": {\"7\": 12}, \"41\": {\"41\": 12}, \"22\": {\"22\": 12}, \"49\": {\"49\": 12}, \"44\": {\"44\": 12}, \"56\": {\"56\": 12}, \"38\": {\"38\": 12}, \"8\": {\"8\": 12}}, \"Wisig_3\": {\"36\": {\"36\": 5, \"27\": 1, \"25\": 1, \"54\": 1}, \"123\": {\"123\": 12}, \"53\": {\"53\": 12}, \"24\": {\"24\": 3, \"36\": 1, \"106\": 1, \"27\": 3, \"54\": 2, \"15\": 1, \"108\": 1}, \"8\": {\"8\": 7, \"73\": 2, \"108\": 1, \"12\": 1, \"85\": 1}, \"49\": {\"53\": 1, \"70\": 1, \"49\": 4, \"73\": 2, \"20\": 2, \"52\": 1, \"8\": 1}, \"74\": {\"74\": 8, \"9\": 2}, \"93\": {\"93\": 12}, \"104\": {\"104\": 9, \"38\": 1}, \"122\": {\"40\": 1, \"103\": 2, \"128\": 1, \"122\": 2, \"105\": 2, \"28\": 2}, \"78\": {\"16\": 1, \"4\": 1, \"78\": 2, \"21\": 2, \"122\": 1, \"115\": 1, \"87\": 3, \"43\": 1}, \"21\": {\"21\": 9, \"13\": 2, \"39\": 1}, \"22\": {\"22\": 5, \"50\": 2, \"9\": 2, \"57\": 2, \"74\": 1}, \"27\": {\"36\": 4, \"27\": 5, \"54\": 3}, \"124\": {\"52\": 1, \"124\": 5, \"23\": 1, \"46\": 2, \"77\": 1}, \"35\": {\"35\": 9, \"74\": 1}, \"37\": {\"37\": 5, \"21\": 1}, \"45\": {\"45\": 12}, \"55\": {\"55\": 12}, \"110\": {\"110\": 6, \"19\": 1, \"71\": 1, \"129\": 1, \"70\": 1}, \"2\": {\"2\": 4, \"93\": 2, \"23\": 2, \"18\": 1, \"118\": 1, \"117\": 1, \"26\": 1}, \"23\": {\"110\": 1, \"127\": 1, \"23\": 1, \"39\": 2, \"126\": 2, \"19\": 1, \"63\": 2, \"47\": 1, \"123\": 1}, \"29\": {\"29\": 10, \"129\": 2}, \"90\": {\"90\": 12}, \"127\": {\"127\": 11, \"77\": 1}, \"13\": {\"117\": 2, \"13\": 1, \"33\": 1, \"26\": 1, \"84\": 2, \"121\": 1, \"14\": 2, \"39\": 1, \"81\": 1}, \"48\": {\"2\": 1, \"23\": 1, \"121\": 1, \"119\": 2, \"48\": 2, \"7\": 1, \"11\": 1, \"95\": 1, \"10\": 2}, \"105\": {\"105\": 8}, \"50\": {\"50\": 10}, \"52\": {\"52\": 10, \"8\": 1, \"73\": 1}, \"9\": {\"9\": 12}, \"94\": {\"97\": 3, \"94\": 5, \"59\": 1, \"15\": 1}, \"14\": {\"14\": 8, \"81\": 1, \"82\": 1, \"45\": 1, \"107\": 1}, \"98\": {\"90\": 1, \"98\": 10, \"47\": 1}, \"64\": {\"64\": 11, \"93\": 1}, \"97\": {\"94\": 3, \"59\": 2, \"97\": 6, \"73\": 1}, \"117\": {\"117\": 8, \"118\": 1, \"2\": 1}, \"85\": {\"85\": 8, \"8\": 1, \"52\": 1}, \"44\": {\"44\": 7, \"92\": 1, \"81\": 1, \"43\": 1, \"64\": 1, \"29\": 1}, \"80\": {\"80\": 9, \"20\": 1, \"29\": 1, \"122\": 1}, \"16\": {\"16\": 11, \"17\": 1}, \"103\": {\"103\": 12}, \"40\": {\"40\": 8, \"50\": 1, \"66\": 1, \"17\": 2}, \"30\": {\"30\": 7, \"8\": 2, \"12\": 1, \"97\": 1, \"94\": 1}, \"6\": {\"6\": 10, \"75\": 2}, \"108\": {\"49\": 2, \"108\": 7, \"8\": 1, \"88\": 1, \"112\": 1}, \"33\": {\"33\": 12}, \"96\": {\"96\": 12}, \"79\": {\"79\": 10}, \"109\": {\"109\": 6, \"118\": 2}, \"81\": {\"117\": 1, \"81\": 11}, \"88\": {\"70\": 1, \"88\": 3, \"112\": 1, \"49\": 1, \"108\": 2, \"96\": 1, \"20\": 1}, \"41\": {\"41\": 9, \"34\": 1, \"4\": 1, \"66\": 1}, \"70\": {\"70\": 3, \"88\": 1, \"128\": 1, \"23\": 1, \"47\": 1, \"8\": 1, \"49\": 1, \"11\": 1, \"5\": 1, \"19\": 1}, \"76\": {\"76\": 11, \"62\": 1}, \"5\": {\"5\": 11, \"8\": 1}, \"0\": {\"0\": 12}, \"4\": {\"105\": 4, \"99\": 2, \"4\": 2, \"68\": 2}, \"86\": {\"105\": 2, \"86\": 6, \"41\": 1, \"4\": 1}, \"69\": {\"69\": 12}, \"26\": {\"26\": 8}, \"120\": {\"120\": 8}, \"84\": {\"84\": 4, \"87\": 1, \"28\": 1}, \"12\": {\"12\": 8, \"98\": 2}, \"32\": {\"45\": 4, \"50\": 3, \"82\": 1, \"32\": 2, \"84\": 1, \"55\": 1}, \"89\": {\"89\": 12}, \"129\": {\"29\": 2, \"1\": 2, \"20\": 3, \"114\": 1, \"129\": 2, \"31\": 1, \"110\": 1}, \"125\": {\"125\": 10, \"106\": 2}, \"116\": {\"82\": 1, \"116\": 5, \"33\": 2}, \"19\": {\"19\": 3, \"124\": 1, \"46\": 2, \"110\": 1, \"103\": 1, \"114\": 1, \"44\": 2, \"129\": 1}, \"71\": {\"71\": 6, \"121\": 1, \"5\": 1, \"3\": 1, \"114\": 1}, \"72\": {\"72\": 10}, \"100\": {\"84\": 1, \"122\": 1, \"100\": 7, \"63\": 1, \"107\": 1, \"78\": 1}, \"20\": {\"20\": 10}, \"65\": {\"55\": 2, \"65\": 6, \"9\": 1, \"81\": 1}, \"121\": {\"121\": 7, \"17\": 1, \"117\": 1, \"18\": 1}, \"34\": {\"6\": 3, \"40\": 1, \"115\": 1, \"34\": 2, \"75\": 2, \"32\": 1, \"51\": 2}, \"119\": {\"119\": 10}, \"75\": {\"75\": 12}, \"1\": {\"1\": 9, \"114\": 1, \"110\": 1, \"129\": 1}, \"113\": {\"113\": 8, \"121\": 1, \"63\": 1}, \"39\": {\"63\": 1, \"113\": 1, \"39\": 5, \"13\": 1, \"126\": 1, \"117\": 1, \"81\": 1, \"123\": 1}, \"82\": {\"82\": 10, \"45\": 2}, \"67\": {\"67\": 6}, \"63\": {\"63\": 4, \"126\": 1, \"18\": 3, \"81\": 2}, \"31\": {\"31\": 12}, \"38\": {\"38\": 9, \"125\": 2, \"104\": 1}, \"17\": {\"100\": 1, \"39\": 1, \"9\": 2, \"17\": 2, \"93\": 1, \"43\": 1, \"2\": 3, \"126\": 1}, \"106\": {\"106\": 8}, \"91\": {\"56\": 1, \"91\": 5, \"41\": 1, \"111\": 2, \"127\": 1, \"99\": 1, \"101\": 1}, \"56\": {\"86\": 1, \"105\": 1, \"41\": 5, \"4\": 1, \"56\": 2}, \"46\": {\"46\": 8, \"1\": 1, \"114\": 3}, \"128\": {\"1\": 2, \"128\": 2, \"111\": 1, \"4\": 1, \"107\": 1, \"103\": 1, \"77\": 1, \"91\": 1}, \"66\": {\"66\": 10, \"48\": 1, \"22\": 1}, \"10\": {\"95\": 3, \"10\": 7, \"9\": 1, \"7\": 1}, \"62\": {\"62\": 8, \"50\": 2}, \"112\": {\"112\": 10, \"6\": 1, \"75\": 1}, \"47\": {\"47\": 12}, \"107\": {\"107\": 9, \"45\": 1, \"87\": 2}, \"28\": {\"28\": 8}, \"95\": {\"95\": 12}, \"18\": {\"18\": 10}, \"114\": {\"19\": 3, \"114\": 4, \"1\": 3, \"110\": 1, \"129\": 1}, \"102\": {\"102\": 12}, \"68\": {\"68\": 10, \"86\": 2}, \"126\": {\"81\": 1, \"18\": 1, \"126\": 6}, \"111\": {\"111\": 12}, \"3\": {\"3\": 9, \"21\": 1}, \"83\": {\"83\": 8}, \"59\": {\"59\": 9, \"97\": 1, \"15\": 1, \"94\": 1}, \"54\": {\"54\": 12}, \"115\": {\"115\": 10}, \"57\": {\"57\": 9, \"22\": 1}, \"92\": {\"92\": 8}, \"73\": {\"73\": 10}, \"58\": {\"58\": 12}, \"61\": {\"61\": 10}, \"60\": {\"60\": 3, \"31\": 1, \"29\": 2, \"110\": 2}, \"99\": {\"99\": 10}, \"25\": {\"25\": 7, \"109\": 1, \"54\": 2}, \"87\": {\"84\": 1, \"100\": 2, \"87\": 4, \"107\": 1, \"13\": 1, \"92\": 1}, \"7\": {\"7\": 10}, \"101\": {\"101\": 8}, \"51\": {\"101\": 1, \"51\": 8, \"72\": 1}, \"15\": {\"15\": 4, \"97\": 2, \"125\": 2, \"59\": 2}, \"43\": {\"102\": 1, \"43\": 7}, \"118\": {\"102\": 2, \"109\": 1, \"118\": 3}, \"42\": {\"8\": 1, \"73\": 2, \"42\": 3, \"52\": 1, \"112\": 1}, \"11\": {\"11\": 7, \"63\": 1}, \"77\": {\"77\": 8}}, \"Wisig_2\": {\"37\": {\"37\": 9, \"64\": 1, \"74\": 2}, \"101\": {\"101\": 10, \"77\": 1, \"41\": 1}, \"83\": {\"83\": 12}, \"95\": {\"95\": 8, \"105\": 2}, \"122\": {\"3\": 1, \"70\": 1, \"122\": 4, \"115\": 2, \"110\": 2, \"107\": 1, \"34\": 1}, \"18\": {\"18\": 12}, \"9\": {\"9\": 11, \"6\": 1}, \"57\": {\"57\": 4, \"26\": 2, \"72\": 1, \"88\": 1}, \"93\": {\"93\": 12}, \"64\": {\"64\": 10, \"89\": 2}, \"70\": {\"45\": 1, \"93\": 1, \"60\": 2, \"57\": 1, \"110\": 2, \"88\": 1, \"96\": 1, \"87\": 1, \"33\": 2}, \"36\": {\"36\": 6, \"27\": 1, \"24\": 1}, \"109\": {\"72\": 1, \"39\": 3, \"109\": 4, \"102\": 3, \"90\": 1}, \"92\": {\"64\": 2, \"89\": 1, \"76\": 2, \"117\": 1, \"92\": 4}, \"28\": {\"37\": 1, \"109\": 1, \"29\": 2, \"95\": 1, \"45\": 1, \"28\": 2, \"80\": 1, \"86\": 1}, \"39\": {\"39\": 5, \"109\": 3, \"20\": 1, \"31\": 1, \"88\": 2}, \"47\": {\"21\": 1, \"47\": 8, \"97\": 1, \"99\": 1, \"60\": 1}, \"127\": {\"127\": 9, \"111\": 1}, \"6\": {\"6\": 10, \"15\": 2}, \"13\": {\"13\": 7, \"45\": 1, \"96\": 1, \"118\": 1, \"57\": 2}, \"14\": {\"84\": 2, \"21\": 1, \"43\": 1, \"14\": 5, \"87\": 1, \"78\": 1, \"16\": 1}, \"110\": {\"122\": 2, \"9\": 1, \"110\": 6, \"107\": 3}, \"62\": {\"62\": 10}, \"59\": {\"59\": 5, \"111\": 3, \"124\": 1, \"52\": 1}, \"10\": {\"10\": 2, \"74\": 1, \"7\": 3, \"50\": 1, \"61\": 1}, \"41\": {\"59\": 1, \"41\": 6, \"57\": 1, \"97\": 1, \"12\": 1, \"111\": 1, \"34\": 1}, \"25\": {\"25\": 10, \"27\": 2}, \"45\": {\"37\": 1, \"72\": 1, \"45\": 7, \"20\": 1}, \"1\": {\"1\": 9, \"73\": 1}, \"61\": {\"61\": 8, \"21\": 1, \"109\": 1}, \"3\": {\"3\": 8, \"71\": 3, \"20\": 1}, \"35\": {\"35\": 9, \"76\": 1, \"7\": 2}, \"126\": {\"42\": 4, \"126\": 6, \"108\": 1, \"46\": 1}, \"90\": {\"90\": 12}, \"58\": {\"58\": 10, \"15\": 1, \"51\": 1}, \"74\": {\"74\": 5, \"104\": 2, \"106\": 1, \"35\": 1, \"76\": 1, \"32\": 2}, \"27\": {\"27\": 7, \"36\": 2, \"24\": 1}, \"60\": {\"123\": 1, \"83\": 1, \"60\": 2, \"70\": 3, \"23\": 2, \"34\": 1}, \"123\": {\"123\": 8}, \"50\": {\"50\": 10, \"78\": 1, \"32\": 1}, \"84\": {\"21\": 1, \"84\": 8, \"33\": 3}, \"128\": {\"101\": 2, \"128\": 1, \"127\": 1, \"19\": 1, \"85\": 1, \"97\": 3, \"47\": 1, \"111\": 1, \"114\": 1}, \"72\": {\"72\": 5, \"13\": 4, \"57\": 1, \"26\": 1, \"39\": 1}, \"96\": {\"96\": 10, \"78\": 1, \"87\": 1}, \"119\": {\"119\": 10}, \"56\": {\"101\": 1, \"56\": 5, \"4\": 1, \"125\": 1, \"86\": 1, \"15\": 1}, \"98\": {\"123\": 1, \"98\": 9, \"25\": 2}, \"87\": {\"87\": 4, \"93\": 1, \"1\": 2, \"73\": 1}, \"40\": {\"40\": 11, \"95\": 1}, \"114\": {\"114\": 12}, \"55\": {\"55\": 6, \"62\": 2}, \"8\": {\"18\": 1, \"123\": 1, \"8\": 5, \"23\": 2, \"19\": 1, \"85\": 1, \"115\": 1}, \"79\": {\"79\": 9, \"7\": 1}, \"112\": {\"112\": 4, \"108\": 5, \"71\": 1, \"98\": 1, \"49\": 1}, \"21\": {\"21\": 12}, \"42\": {\"98\": 1, \"126\": 1, \"42\": 6, \"112\": 1, \"128\": 1, \"44\": 1, \"49\": 1}, \"5\": {\"5\": 11, \"71\": 1}, \"22\": {\"61\": 1, \"22\": 11}, \"73\": {\"73\": 12}, \"69\": {\"69\": 11, \"82\": 1}, \"108\": {\"108\": 8}, \"118\": {\"118\": 5, \"80\": 3, \"102\": 2, \"31\": 1, \"21\": 1}, \"4\": {\"4\": 9, \"91\": 1, \"107\": 1, \"56\": 1}, \"49\": {\"49\": 3, \"53\": 1, \"112\": 2, \"11\": 3, \"98\": 1, \"52\": 1, \"128\": 1}, \"99\": {\"99\": 12}, \"66\": {\"66\": 10}, \"116\": {\"116\": 8, \"102\": 1, \"1\": 1}, \"67\": {\"80\": 1, \"37\": 3, \"67\": 5, \"31\": 2, \"99\": 1}, \"15\": {\"15\": 7, \"9\": 1, \"125\": 3, \"75\": 1}, \"63\": {\"63\": 8}, \"26\": {\"26\": 10}, \"24\": {\"25\": 1, \"108\": 1, \"24\": 4, \"94\": 1, \"49\": 2, \"12\": 1, \"36\": 1, \"42\": 1}, \"103\": {\"103\": 10}, \"38\": {\"38\": 10}, \"71\": {\"71\": 6, \"21\": 2, \"112\": 1, \"3\": 1, \"128\": 1, \"39\": 1}, \"75\": {\"75\": 5, \"58\": 1, \"21\": 1, \"6\": 1, \"9\": 2}, \"44\": {\"44\": 12}, \"104\": {\"104\": 12}, \"23\": {\"99\": 3, \"122\": 1, \"117\": 1, \"11\": 1, \"113\": 1, \"20\": 1, \"52\": 1, \"110\": 1, \"72\": 1, \"121\": 1}, \"105\": {\"105\": 12}, \"30\": {\"30\": 5, \"77\": 1, \"6\": 3, \"68\": 2, \"20\": 1}, \"120\": {\"120\": 12}, \"113\": {\"113\": 7, \"53\": 1, \"117\": 2, \"88\": 1, \"65\": 1}, \"53\": {\"112\": 2, \"129\": 2, \"53\": 6, \"88\": 1, \"94\": 1}, \"91\": {\"56\": 3, \"127\": 1, \"111\": 4, \"103\": 2}, \"89\": {\"89\": 12}, \"117\": {\"117\": 9, \"2\": 3}, \"82\": {\"82\": 8, \"102\": 1, \"45\": 1}, \"20\": {\"20\": 9, \"99\": 1, \"100\": 2}, \"34\": {\"66\": 1, \"56\": 1, \"29\": 1, \"111\": 2, \"77\": 1, \"17\": 1, \"86\": 1, \"80\": 1, \"34\": 1}, \"7\": {\"7\": 9, \"35\": 1}, \"80\": {\"80\": 10, \"14\": 2}, \"115\": {\"115\": 6, \"31\": 1, \"88\": 1, \"127\": 1, \"97\": 1}, \"76\": {\"76\": 10}, \"102\": {\"102\": 12}, \"19\": {\"129\": 1, \"8\": 1, \"19\": 3, \"3\": 4, \"50\": 1}, \"97\": {\"51\": 1, \"58\": 1, \"97\": 5, \"29\": 1, \"9\": 1, \"98\": 1}, \"121\": {\"65\": 2, \"121\": 5, \"120\": 1, \"26\": 2}, \"68\": {\"68\": 10}, \"12\": {\"128\": 2, \"49\": 1, \"91\": 1, \"12\": 5, \"41\": 2, \"52\": 1}, \"29\": {\"97\": 2, \"29\": 9, \"121\": 1}, \"31\": {\"31\": 9, \"102\": 1, \"118\": 1, \"67\": 1}, \"65\": {\"65\": 8, \"113\": 2}, \"33\": {\"33\": 10}, \"106\": {\"106\": 10}, \"17\": {\"17\": 6, \"67\": 1, \"21\": 2, \"16\": 1, \"88\": 1, \"40\": 1}, \"85\": {\"85\": 7, \"19\": 1, \"73\": 2}, \"51\": {\"51\": 6, \"57\": 1, \"75\": 1, \"15\": 2}, \"129\": {\"129\": 4, \"8\": 1, \"71\": 1}, \"78\": {\"78\": 2, \"67\": 1, \"107\": 3, \"16\": 3, \"43\": 1, \"87\": 1, \"96\": 1}, \"111\": {\"111\": 10, \"91\": 1, \"29\": 1}, \"100\": {\"100\": 12}, \"125\": {\"125\": 7, \"15\": 1}, \"52\": {\"52\": 7, \"59\": 1}, \"88\": {\"88\": 4, \"100\": 1, \"60\": 1, \"43\": 1, \"87\": 1, \"21\": 1, \"93\": 1}, \"94\": {\"94\": 5, \"11\": 1, \"97\": 1, \"24\": 2, \"15\": 1}, \"43\": {\"43\": 3, \"110\": 2, \"78\": 2, \"70\": 1, \"33\": 2}, \"77\": {\"77\": 7, \"91\": 1, \"29\": 1, \"34\": 1}, \"86\": {\"86\": 10}, \"107\": {\"107\": 8, \"115\": 1, \"61\": 1}, \"2\": {\"2\": 3, \"48\": 1, \"81\": 1, \"96\": 1, \"99\": 1, \"88\": 1, \"39\": 2}, \"81\": {\"81\": 6}, \"32\": {\"32\": 3, \"43\": 1, \"50\": 1, \"70\": 1, \"21\": 1, \"23\": 1}, \"48\": {\"48\": 8}, \"0\": {\"0\": 7, \"101\": 1}, \"16\": {\"16\": 8, \"93\": 2}, \"11\": {\"11\": 5, \"114\": 1, \"121\": 1, \"21\": 1, \"128\": 1, \"108\": 1}, \"124\": {\"124\": 5, \"28\": 1, \"19\": 1, \"8\": 1}, \"46\": {\"46\": 8}, \"54\": {\"54\": 3, \"56\": 1}}, \"Wisig_1\": {\"110\": {\"110\": 10, \"56\": 1, \"58\": 1}, \"27\": {\"97\": 1, \"47\": 1, \"27\": 2, \"15\": 1, \"88\": 1}, \"106\": {\"106\": 12}, \"13\": {\"13\": 8}, \"120\": {\"120\": 12}, \"25\": {\"25\": 12}, \"47\": {\"47\": 12}, \"8\": {\"81\": 4, \"8\": 6, \"129\": 1, \"61\": 1}, \"124\": {\"124\": 9, \"46\": 1, \"54\": 1, \"9\": 1}, \"55\": {\"55\": 9, \"41\": 1}, \"63\": {\"63\": 11, \"123\": 1}, \"58\": {\"58\": 9, \"110\": 1}, \"105\": {\"122\": 1, \"105\": 8, \"40\": 2, \"15\": 1}, \"59\": {\"6\": 3, \"51\": 1, \"125\": 1, \"59\": 5, \"113\": 1, \"71\": 1}, \"12\": {\"12\": 7, \"109\": 1, \"68\": 2}, \"98\": {\"98\": 12}, \"96\": {\"96\": 11, \"99\": 1}, \"30\": {\"30\": 7, \"52\": 1, \"94\": 1, \"51\": 1, \"6\": 1, \"70\": 1}, \"53\": {\"12\": 1, \"53\": 11}, \"82\": {\"82\": 8}, \"33\": {\"33\": 10, \"102\": 2}, \"0\": {\"0\": 8, \"85\": 4}, \"122\": {\"122\": 10, \"14\": 1, \"40\": 1}, \"28\": {\"28\": 12}, \"17\": {\"17\": 12}, \"121\": {\"121\": 8, \"113\": 2, \"18\": 1, \"39\": 1}, \"104\": {\"104\": 8, \"73\": 3, \"23\": 1}, \"71\": {\"71\": 9, \"53\": 1, \"52\": 1, \"6\": 1}, \"20\": {\"20\": 11, \"129\": 1}, \"41\": {\"41\": 10, \"93\": 2}, \"7\": {\"7\": 12}, \"83\": {\"8\": 1, \"83\": 7, \"94\": 1, \"34\": 2, \"88\": 1}, \"9\": {\"9\": 7, \"125\": 1, \"103\": 3, \"31\": 1}, \"118\": {\"118\": 12}, \"111\": {\"111\": 9, \"30\": 1}, \"23\": {\"104\": 3, \"8\": 2, \"77\": 3, \"7\": 1, \"96\": 1, \"93\": 1, \"23\": 1}, \"65\": {\"28\": 2, \"39\": 4, \"76\": 2, \"65\": 2}, \"95\": {\"118\": 1, \"95\": 11}, \"38\": {\"38\": 10}, \"50\": {\"50\": 9, \"76\": 1, \"69\": 1, \"117\": 1}, \"3\": {\"3\": 8, \"45\": 1, \"88\": 1, \"23\": 1, \"15\": 1}, \"31\": {\"31\": 12}, \"48\": {\"48\": 9, \"123\": 1}, \"81\": {\"81\": 12}, \"99\": {\"99\": 12}, \"85\": {\"85\": 12}, \"11\": {\"11\": 6, \"20\": 2, \"2\": 1, \"82\": 1}, \"126\": {\"96\": 2, \"126\": 10}, \"80\": {\"80\": 6, \"122\": 3, \"50\": 1}, \"46\": {\"46\": 4, \"8\": 1, \"27\": 1, \"124\": 1, \"94\": 1, \"53\": 1, \"54\": 1}, \"45\": {\"82\": 1, \"11\": 2, \"115\": 1, \"45\": 1, \"73\": 2, \"20\": 1, \"109\": 2}, \"18\": {\"18\": 12}, \"84\": {\"84\": 11, \"8\": 1}, \"24\": {\"24\": 3, \"126\": 1, \"108\": 4, \"88\": 3, \"97\": 1}, \"21\": {\"23\": 2, \"90\": 1, \"21\": 2, \"6\": 1, \"44\": 1, \"113\": 1, \"63\": 1, \"39\": 1, \"60\": 1, \"30\": 1}, \"117\": {\"117\": 6}, \"6\": {\"111\": 1, \"71\": 1, \"125\": 2, \"6\": 7, \"75\": 1}, \"97\": {\"24\": 2, \"27\": 2, \"97\": 4, \"36\": 2, \"108\": 2}, \"86\": {\"86\": 10, \"72\": 1, \"101\": 1}, \"56\": {\"56\": 11, \"58\": 1}, \"92\": {\"92\": 12}, \"40\": {\"40\": 12}, \"108\": {\"97\": 1, \"108\": 3, \"96\": 1, \"49\": 1, \"79\": 1, \"47\": 3, \"31\": 1, \"12\": 1}, \"73\": {\"73\": 8}, \"1\": {\"1\": 10, \"128\": 2}, \"129\": {\"44\": 1, \"86\": 1, \"129\": 1, \"18\": 1, \"100\": 3, \"19\": 1, \"5\": 1, \"84\": 3}, \"127\": {\"127\": 10}, \"14\": {\"14\": 6}, \"42\": {\"80\": 1, \"77\": 2, \"83\": 1, \"99\": 1, \"42\": 1, \"34\": 1, \"23\": 1}, \"67\": {\"67\": 9, \"84\": 1}, \"74\": {\"74\": 9, \"35\": 1}, \"61\": {\"61\": 8}, \"36\": {\"36\": 10}, \"32\": {\"32\": 7, \"58\": 3}, \"77\": {\"77\": 12}, \"107\": {\"107\": 12}, \"44\": {\"44\": 12}, \"51\": {\"51\": 11, \"6\": 1}, \"2\": {\"18\": 2, \"119\": 3, \"2\": 3, \"46\": 1, \"82\": 1}, \"52\": {\"52\": 7, \"6\": 1}, \"125\": {\"125\": 10, \"59\": 1, \"15\": 1}, \"37\": {\"32\": 2, \"37\": 7, \"6\": 1}, \"35\": {\"35\": 10, \"41\": 2}, \"116\": {\"116\": 4}, \"15\": {\"111\": 2, \"88\": 2, \"15\": 4, \"94\": 1, \"49\": 1}, \"70\": {\"70\": 3, \"86\": 3, \"29\": 1, \"109\": 1, \"25\": 1, \"5\": 1, \"89\": 1, \"34\": 1}, \"109\": {\"23\": 1, \"25\": 3, \"109\": 3, \"20\": 1}, \"76\": {\"76\": 12}, \"72\": {\"72\": 11, \"29\": 1}, \"114\": {\"114\": 6}, \"49\": {\"30\": 1, \"111\": 2, \"49\": 1, \"98\": 1, \"103\": 1, \"71\": 1, \"91\": 2, \"9\": 1, \"52\": 1, \"31\": 1}, \"69\": {\"69\": 12}, \"54\": {\"54\": 7, \"46\": 2, \"124\": 1}, \"113\": {\"113\": 10}, \"19\": {\"19\": 5, \"1\": 4, \"114\": 1}, \"29\": {\"29\": 12}, \"75\": {\"75\": 12}, \"57\": {\"57\": 8}, \"5\": {\"5\": 12}, \"87\": {\"84\": 1, \"17\": 1, \"87\": 4, \"66\": 1, \"22\": 1, \"64\": 1, \"39\": 1, \"8\": 1, \"43\": 1}, \"94\": {\"94\": 8, \"21\": 1, \"125\": 2, \"15\": 1}, \"88\": {\"27\": 2, \"97\": 3, \"36\": 1, \"108\": 1, \"126\": 1, \"24\": 3, \"125\": 1}, \"79\": {\"79\": 12}, \"64\": {\"64\": 10}, \"123\": {\"123\": 8, \"63\": 2}, \"66\": {\"66\": 8, \"22\": 1, \"64\": 1, \"20\": 1, \"21\": 1}, \"101\": {\"101\": 11, \"30\": 1}, \"112\": {\"112\": 7, \"75\": 1}, \"91\": {\"6\": 3, \"41\": 1, \"112\": 1, \"91\": 2, \"127\": 2, \"34\": 1}, \"93\": {\"72\": 1, \"34\": 2, \"55\": 2, \"83\": 1, \"93\": 3, \"105\": 1, \"43\": 1, \"110\": 1}, \"89\": {\"124\": 1, \"89\": 8, \"9\": 1}, \"68\": {\"68\": 9, \"127\": 1}, \"100\": {\"100\": 12}, \"78\": {\"43\": 3, \"87\": 1, \"18\": 1, \"78\": 2, \"61\": 1, \"113\": 1, \"105\": 1}, \"62\": {\"62\": 12}, \"119\": {\"119\": 10}, \"4\": {\"93\": 3, \"4\": 5, \"55\": 1, \"107\": 3}, \"128\": {\"1\": 2, \"101\": 1, \"128\": 3, \"103\": 1, \"86\": 1, \"49\": 1, \"129\": 1}, \"43\": {\"60\": 1, \"43\": 5, \"22\": 2, \"7\": 2}, \"90\": {\"90\": 5, \"61\": 1}, \"60\": {\"34\": 1, \"125\": 1, \"100\": 1, \"87\": 1, \"22\": 1, \"78\": 1, \"83\": 2, \"122\": 1, \"41\": 1}, \"34\": {\"98\": 1, \"89\": 1, \"60\": 1, \"106\": 1, \"101\": 1, \"41\": 1, \"122\": 2, \"87\": 1, \"80\": 1, \"49\": 1, \"34\": 1}, \"39\": {\"39\": 10, \"13\": 1, \"16\": 1}, \"103\": {\"103\": 8, \"47\": 1, \"89\": 1}, \"102\": {\"102\": 5, \"33\": 1}, \"16\": {\"16\": 9, \"118\": 1}, \"115\": {\"115\": 9, \"128\": 1}, \"22\": {\"22\": 4}, \"26\": {\"26\": 4, \"95\": 2}, \"10\": {\"10\": 5, \"39\": 1, \"121\": 1, \"0\": 1}}, \"Wisig_4\": {\"109\": {\"109\": 10, \"96\": 2}, \"45\": {\"45\": 10}, \"11\": {\"11\": 11, \"108\": 1}, \"23\": {\"40\": 1, \"23\": 2, \"113\": 1, \"88\": 1, \"67\": 1, \"41\": 1, \"52\": 1, \"123\": 1, \"126\": 1}, \"2\": {\"35\": 1, \"48\": 1, \"2\": 2, \"117\": 4, \"113\": 1, \"57\": 1, \"81\": 1, \"16\": 1}, \"25\": {\"25\": 12}, \"7\": {\"23\": 1, \"87\": 1, \"7\": 8, \"0\": 1, \"4\": 1}, \"55\": {\"55\": 12}, \"124\": {\"72\": 1, \"28\": 1, \"124\": 8}, \"101\": {\"101\": 11, \"86\": 1}, \"115\": {\"115\": 2, \"87\": 2, \"105\": 1, \"43\": 1, \"14\": 1, \"72\": 1, \"1\": 2, \"120\": 1, \"107\": 1}, \"121\": {\"65\": 1, \"2\": 2, \"121\": 2, \"113\": 1, \"96\": 2}, \"46\": {\"114\": 1, \"46\": 9, \"50\": 1, \"73\": 1}, \"72\": {\"72\": 11, \"110\": 1}, \"83\": {\"79\": 1, \"83\": 11}, \"12\": {\"12\": 10, \"41\": 1, \"30\": 1}, \"79\": {\"79\": 10}, \"20\": {\"20\": 5, \"129\": 2, \"108\": 2, \"93\": 2, \"78\": 1}, \"43\": {\"43\": 1, \"72\": 1, \"90\": 3, \"105\": 1, \"1\": 1, \"99\": 2, \"110\": 2, \"78\": 1}, \"35\": {\"35\": 8, \"61\": 1, \"92\": 1, \"117\": 1, \"26\": 1}, \"86\": {\"86\": 4, \"95\": 2, \"127\": 1, \"29\": 1}, \"3\": {\"3\": 12}, \"116\": {\"28\": 4, \"84\": 3, \"116\": 3, \"102\": 1, \"33\": 1}, \"53\": {\"53\": 8, \"49\": 2, \"52\": 1, \"97\": 1}, \"111\": {\"111\": 9, \"30\": 1}, \"40\": {\"40\": 7, \"107\": 1}, \"19\": {\"73\": 1, \"20\": 1, \"19\": 6, \"5\": 1, \"93\": 1, \"44\": 1, \"41\": 1}, \"71\": {\"114\": 4, \"71\": 4, \"3\": 2, \"1\": 2}, \"21\": {\"21\": 6}, \"82\": {\"82\": 6, \"55\": 2, \"17\": 2}, \"65\": {\"65\": 10, \"87\": 1, \"22\": 1}, \"110\": {\"72\": 2, \"43\": 3, \"110\": 1, \"60\": 1, \"38\": 1, \"74\": 1, \"78\": 1}, \"119\": {\"119\": 12}, \"64\": {\"64\": 9, \"45\": 1}, \"126\": {\"126\": 3, \"65\": 1, \"39\": 2, \"63\": 2, \"113\": 1, \"123\": 1}, \"129\": {\"73\": 2, \"114\": 1, \"46\": 3, \"129\": 3, \"71\": 1, \"60\": 1, \"8\": 1}, \"103\": {\"21\": 1, \"34\": 1, \"75\": 2, \"103\": 4, \"43\": 1, \"68\": 1, \"123\": 1, \"51\": 1}, \"34\": {\"115\": 1, \"47\": 2, \"107\": 1, \"34\": 1, \"87\": 1, \"75\": 2, \"91\": 1, \"120\": 1}, \"42\": {\"83\": 3, \"112\": 2, \"8\": 1, \"27\": 1, \"52\": 1}, \"114\": {\"114\": 10, \"46\": 2}, \"38\": {\"38\": 9, \"90\": 3}, \"99\": {\"99\": 8, \"110\": 1, \"33\": 2, \"126\": 1}, \"47\": {\"47\": 8, \"75\": 1, \"20\": 1, \"58\": 2}, \"61\": {\"35\": 1, \"61\": 11}, \"9\": {\"9\": 9, \"24\": 1, \"112\": 1, \"65\": 1}, \"73\": {\"73\": 12}, \"48\": {\"25\": 1, \"48\": 6, \"49\": 1, \"67\": 2, \"123\": 2}, \"18\": {\"18\": 12}, \"16\": {\"16\": 12}, \"87\": {\"87\": 6, \"4\": 1, \"78\": 1, \"67\": 1, \"88\": 1}, \"60\": {\"20\": 1, \"129\": 2, \"124\": 1, \"60\": 4, \"100\": 1, \"116\": 1, \"72\": 1, \"48\": 1}, \"51\": {\"25\": 1, \"21\": 1, \"12\": 1, \"47\": 1, \"106\": 2, \"65\": 1, \"75\": 2, \"59\": 1, \"94\": 1, \"58\": 1}, \"4\": {\"4\": 7, \"86\": 1, \"95\": 4}, \"85\": {\"85\": 8, \"98\": 1, \"52\": 3}, \"28\": {\"28\": 12}, \"27\": {\"9\": 1, \"23\": 2, \"11\": 1, \"97\": 1, \"27\": 2, \"108\": 1, \"59\": 2, \"53\": 2}, \"97\": {\"25\": 1, \"97\": 2, \"10\": 1, \"36\": 2, \"14\": 1, \"27\": 3, \"54\": 1, \"112\": 1}, \"6\": {\"6\": 10, \"15\": 1, \"30\": 1}, \"76\": {\"76\": 10}, \"105\": {\"105\": 8, \"87\": 2, \"40\": 1, \"100\": 1}, \"37\": {\"37\": 10, \"89\": 1, \"120\": 1}, \"98\": {\"98\": 9, \"90\": 1, \"8\": 2}, \"96\": {\"84\": 3, \"96\": 8, \"116\": 1}, \"32\": {\"45\": 1, \"32\": 5, \"120\": 2, \"17\": 1, \"115\": 1, \"14\": 1, \"69\": 1}, \"15\": {\"6\": 3, \"59\": 1, \"15\": 2, \"30\": 1, \"53\": 1, \"94\": 1, \"25\": 1}, \"56\": {\"56\": 7, \"55\": 1}, \"90\": {\"90\": 7, \"38\": 2, \"99\": 2, \"43\": 1}, \"91\": {\"51\": 2, \"6\": 1, \"4\": 1, \"68\": 1, \"77\": 1, \"91\": 5, \"58\": 1}, \"52\": {\"52\": 12}, \"78\": {\"72\": 1, \"126\": 1, \"128\": 2, \"88\": 1, \"87\": 2, \"100\": 1, \"20\": 1, \"99\": 1, \"113\": 1, \"43\": 1}, \"84\": {\"122\": 2, \"84\": 4, \"16\": 1, \"102\": 3, \"109\": 1, \"96\": 1}, \"1\": {\"1\": 11, \"50\": 1}, \"122\": {\"40\": 1, \"122\": 5, \"107\": 2, \"71\": 1, \"14\": 1, \"39\": 1, \"43\": 1}, \"66\": {\"66\": 8}, \"127\": {\"119\": 1, \"127\": 3, \"34\": 1, \"101\": 1}, \"80\": {\"80\": 8, \"93\": 3, \"20\": 1}, \"113\": {\"119\": 1, \"39\": 1, \"63\": 2, \"113\": 3, \"2\": 1, \"48\": 1, \"123\": 1, \"126\": 1, \"99\": 1}, \"31\": {\"31\": 9, \"118\": 2, \"76\": 1}, \"88\": {\"126\": 2, \"119\": 1, \"88\": 3, \"49\": 1, \"67\": 2, \"23\": 1, \"27\": 1, \"8\": 1}, \"62\": {\"62\": 12}, \"22\": {\"22\": 11, \"32\": 1}, \"49\": {\"49\": 2, \"98\": 3, \"73\": 2, \"5\": 2, \"52\": 1, \"79\": 2}, \"54\": {\"54\": 11, \"36\": 1}, \"63\": {\"22\": 1, \"63\": 7, \"113\": 2}, \"39\": {\"39\": 7, \"81\": 3, \"117\": 1, \"126\": 1}, \"95\": {\"95\": 10, \"77\": 1, \"4\": 1}, \"58\": {\"58\": 8}, \"81\": {\"81\": 9, \"21\": 1}, \"10\": {\"6\": 4, \"75\": 2, \"10\": 3, \"30\": 1, \"58\": 1, \"100\": 1}, \"93\": {\"93\": 10, \"108\": 1, \"5\": 1}, \"41\": {\"41\": 6, \"30\": 1, \"52\": 3}, \"68\": {\"68\": 10, \"30\": 1, \"77\": 1}, \"75\": {\"75\": 12}, \"14\": {\"14\": 9, \"87\": 1, \"122\": 2}, \"59\": {\"59\": 7, \"30\": 1, \"125\": 1, \"24\": 1}, \"69\": {\"69\": 8, \"126\": 1, \"118\": 1}, \"29\": {\"29\": 8}, \"107\": {\"115\": 2, \"107\": 10}, \"117\": {\"117\": 9, \"88\": 1}, \"100\": {\"100\": 8, \"128\": 1, \"3\": 1, \"123\": 1, \"98\": 1}, \"33\": {\"33\": 6, \"110\": 1, \"102\": 1, \"44\": 1, \"43\": 1}, \"106\": {\"106\": 7, \"30\": 1, \"70\": 1, \"12\": 1}, \"30\": {\"15\": 2, \"30\": 6, \"94\": 1, \"10\": 1, \"52\": 2}, \"36\": {\"97\": 2, \"27\": 1, \"36\": 7, \"54\": 1, \"24\": 1}, \"0\": {\"55\": 1, \"23\": 1, \"29\": 2, \"0\": 2, \"56\": 1, \"87\": 1, \"101\": 2}, \"92\": {\"92\": 12}, \"67\": {\"67\": 8, \"80\": 1, \"118\": 1, \"31\": 1, \"128\": 1}, \"77\": {\"77\": 12}, \"89\": {\"89\": 5, \"7\": 1, \"22\": 1, \"17\": 1}, \"44\": {\"44\": 9, \"80\": 1}, \"8\": {\"8\": 4, \"98\": 2, \"123\": 1, \"100\": 1}, \"102\": {\"102\": 10}, \"50\": {\"50\": 10}, \"57\": {\"57\": 8, \"117\": 1, \"123\": 1}, \"128\": {\"1\": 1, \"117\": 1, \"105\": 1, \"128\": 1, \"71\": 2, \"50\": 1, \"43\": 1}, \"108\": {\"11\": 1, \"49\": 1, \"108\": 3, \"88\": 2, \"20\": 1, \"60\": 1, \"5\": 1}, \"120\": {\"120\": 6, \"14\": 2}, \"17\": {\"17\": 8}, \"94\": {\"54\": 2, \"117\": 1, \"94\": 3, \"97\": 1, \"21\": 1}, \"70\": {\"66\": 1, \"20\": 1, \"27\": 3, \"53\": 1, \"49\": 1, \"108\": 2, \"129\": 1}, \"13\": {\"13\": 10}, \"112\": {\"112\": 10}, \"5\": {\"5\": 9, \"123\": 1}, \"24\": {\"36\": 4}, \"118\": {\"118\": 5, \"109\": 1, \"69\": 2}, \"26\": {\"26\": 8}, \"74\": {\"78\": 1, \"74\": 7}, \"125\": {\"125\": 5, \"59\": 1}, \"104\": {\"104\": 6}, \"123\": {\"123\": 5, \"71\": 1}}}, \"per_domain_accuracy\": {\"CORES_3\": {\"accuracy\": 0.9956896551724138, \"source?\": true}, \"CORES_4\": {\"accuracy\": 0.9870689655172413, \"source?\": true}, \"CORES_2\": {\"accuracy\": 0.9956896551724138, \"source?\": true}, \"CORES_1\": {\"accuracy\": 0.9971264367816092, \"source?\": true}, \"CORES_5\": {\"accuracy\": 0.9885057471264368, \"source?\": true}, \"Wisig_3\": {\"accuracy\": 0.7205459770114943, \"source?\": false}, \"Wisig_2\": {\"accuracy\": 0.6853448275862069, \"source?\": false}, \"Wisig_1\": {\"accuracy\": 0.7385057471264368, \"source?\": false}, \"Wisig_4\": {\"accuracy\": 0.6587643678160919, \"source?\": false}}}, \"history\": {\"epoch_indices\": [1, 2, 3], \"train_label_loss\": [0.22937827861003046, 0.02571297545773199, 0.04929376444266555], \"source_val_label_loss\": [0.026023777201771736, 0.06072085723280907, 0.05237983912229538], \"target_val_label_loss\": [2.6421799659729004, 4.228266716003418, 4.930721282958984], \"source_val_acc_label\": [0.992816091954023, 0.9813218390804598, 0.9899425287356322], \"target_val_acc_label\": [0.7007902298850575, 0.6858836206896551, 0.6882183908045977]}, \"dataset_metrics\": {\"source\": {\"train\": {\"n_unique_x\": 20300, \"n_unique_y\": 58, \"n_batch/episode\": 210}, \"val\": {\"n_unique_x\": 4350, \"n_unique_y\": 58, \"n_batch/episode\": 30}, \"test\": {\"n_unique_x\": 4350, \"n_unique_y\": 58, \"n_batch/episode\": 30}}, \"target\": {\"train\": {\"n_unique_x\": 36393, \"n_unique_y\": 130, \"n_batch/episode\": 356}, \"val\": {\"n_unique_x\": 7693, \"n_unique_y\": 130, \"n_batch/episode\": 48}, \"test\": {\"n_unique_x\": 7693, \"n_unique_y\": 130, \"n_batch/episode\": 48}}}}'"
      ]
     },
     "execution_count": 29,
     "metadata": {},
     "output_type": "execute_result"
    }
   ],
   "source": [
    "json.dumps(experiment)"
   ]
  }
 ],
 "metadata": {
  "celltoolbar": "Tags",
  "kernelspec": {
   "display_name": "Python 3 (ipykernel)",
   "language": "python",
   "name": "python3"
  },
  "language_info": {
   "codemirror_mode": {
    "name": "ipython",
    "version": 3
   },
   "file_extension": ".py",
   "mimetype": "text/x-python",
   "name": "python",
   "nbconvert_exporter": "python",
   "pygments_lexer": "ipython3",
   "version": "3.8.10"
  },
  "papermill": {
   "default_parameters": {},
   "duration": 76.280804,
   "end_time": "2022-03-07T08:11:44.114561",
   "environment_variables": {},
   "exception": null,
   "input_path": "/mnt/wd500GB/CSC500/csc500-main/csc500-notebooks/templates/tl_ptn_template.ipynb",
   "output_path": "trial.ipynb",
   "parameters": {
    "parameters": {
     "BEST_MODEL_PATH": "./best_model.pth",
     "NUM_LOGS_PER_EPOCH": 10,
     "criteria_for_best": "target_loss",
     "dataset_seed": 1337,
     "datasets": [
      {
       "domain_prefix": "CORES_",
       "domains": [
        1,
        2,
        3,
        4,
        5
       ],
       "episode_transforms": [],
       "labels": [
        "1-10.",
        "1-11.",
        "1-15.",
        "1-16.",
        "1-17.",
        "1-18.",
        "1-19.",
        "10-4.",
        "10-7.",
        "11-1.",
        "11-14.",
        "11-17.",
        "11-20.",
        "11-7.",
        "13-20.",
        "13-8.",
        "14-10.",
        "14-11.",
        "14-14.",
        "14-7.",
        "15-1.",
        "15-20.",
        "16-1.",
        "16-16.",
        "17-10.",
        "17-11.",
        "17-2.",
        "19-1.",
        "19-16.",
        "19-19.",
        "19-20.",
        "19-3.",
        "2-10.",
        "2-11.",
        "2-17.",
        "2-18.",
        "2-20.",
        "2-3.",
        "2-4.",
        "2-5.",
        "2-6.",
        "2-7.",
        "2-8.",
        "3-13.",
        "3-18.",
        "3-3.",
        "4-1.",
        "4-10.",
        "4-11.",
        "4-19.",
        "5-5.",
        "6-15.",
        "7-10.",
        "7-14.",
        "8-18.",
        "8-20.",
        "8-3.",
        "8-8."
       ],
       "num_examples_per_domain_per_label": 100,
       "pickle_path": "/mnt/wd500GB/CSC500/csc500-main/datasets/cores.stratified_ds.2022A.pkl",
       "source_or_target_dataset": "source",
       "x_transforms": [
        "unit_mag"
       ]
      },
      {
       "domain_prefix": "Wisig_",
       "domains": [
        1,
        2,
        3,
        4
       ],
       "episode_transforms": [],
       "labels": [
        "1-10",
        "1-12",
        "1-14",
        "1-16",
        "1-18",
        "1-19",
        "1-8",
        "10-11",
        "10-17",
        "10-4",
        "10-7",
        "11-1",
        "11-10",
        "11-19",
        "11-20",
        "11-4",
        "11-7",
        "12-19",
        "12-20",
        "12-7",
        "13-14",
        "13-18",
        "13-19",
        "13-20",
        "13-3",
        "13-7",
        "14-10",
        "14-11",
        "14-12",
        "14-13",
        "14-14",
        "14-19",
        "14-20",
        "14-7",
        "14-8",
        "14-9",
        "15-1",
        "15-19",
        "15-6",
        "16-1",
        "16-16",
        "16-19",
        "16-20",
        "17-10",
        "17-11",
        "18-1",
        "18-10",
        "18-11",
        "18-12",
        "18-13",
        "18-14",
        "18-15",
        "18-16",
        "18-17",
        "18-19",
        "18-2",
        "18-20",
        "18-4",
        "18-5",
        "18-7",
        "18-8",
        "18-9",
        "19-1",
        "19-10",
        "19-11",
        "19-12",
        "19-13",
        "19-14",
        "19-15",
        "19-19",
        "19-2",
        "19-20",
        "19-3",
        "19-4",
        "19-6",
        "19-7",
        "19-8",
        "19-9",
        "2-1",
        "2-13",
        "2-15",
        "2-3",
        "2-4",
        "2-5",
        "2-6",
        "2-7",
        "2-8",
        "20-1",
        "20-12",
        "20-14",
        "20-15",
        "20-16",
        "20-18",
        "20-19",
        "20-20",
        "20-3",
        "20-4",
        "20-5",
        "20-7",
        "20-8",
        "3-1",
        "3-13",
        "3-18",
        "3-2",
        "3-8",
        "4-1",
        "4-10",
        "4-11",
        "5-1",
        "5-5",
        "6-1",
        "6-15",
        "6-6",
        "7-10",
        "7-11",
        "7-12",
        "7-13",
        "7-14",
        "7-7",
        "7-8",
        "7-9",
        "8-1",
        "8-13",
        "8-14",
        "8-18",
        "8-20",
        "8-3",
        "8-8",
        "9-1",
        "9-7"
       ],
       "num_examples_per_domain_per_label": 100,
       "pickle_path": "/mnt/wd500GB/CSC500/csc500-main/datasets/wisig.node3-19.stratified_ds.2022A.pkl",
       "source_or_target_dataset": "target",
       "x_transforms": [
        "unit_mag"
       ]
      }
     ],
     "device": "cuda",
     "experiment_name": "tl_1_cores-wisig",
     "lr": 0.001,
     "n_epoch": 3,
     "n_query": 2,
     "n_shot": 3,
     "n_way": 58,
     "patience": 3,
     "seed": 1337,
     "test_k_factor": 2,
     "torch_default_dtype": "torch.float32",
     "train_k_factor": 3,
     "val_k_factor": 2,
     "x_net": [
      {
       "class": "nnReshape",
       "kargs": {
        "shape": [
         -1,
         1,
         2,
         256
        ]
       }
      },
      {
       "class": "Conv2d",
       "kargs": {
        "bias": false,
        "in_channels": 1,
        "kernel_size": [
         1,
         7
        ],
        "out_channels": 256,
        "padding": [
         0,
         3
        ]
       }
      },
      {
       "class": "ReLU",
       "kargs": {
        "inplace": true
       }
      },
      {
       "class": "BatchNorm2d",
       "kargs": {
        "num_features": 256
       }
      },
      {
       "class": "Conv2d",
       "kargs": {
        "bias": true,
        "in_channels": 256,
        "kernel_size": [
         2,
         7
        ],
        "out_channels": 80,
        "padding": [
         0,
         3
        ]
       }
      },
      {
       "class": "ReLU",
       "kargs": {
        "inplace": true
       }
      },
      {
       "class": "BatchNorm2d",
       "kargs": {
        "num_features": 80
       }
      },
      {
       "class": "Flatten",
       "kargs": {}
      },
      {
       "class": "Linear",
       "kargs": {
        "in_features": 20480,
        "out_features": 256
       }
      },
      {
       "class": "ReLU",
       "kargs": {
        "inplace": true
       }
      },
      {
       "class": "BatchNorm1d",
       "kargs": {
        "num_features": 256
       }
      },
      {
       "class": "Linear",
       "kargs": {
        "in_features": 256,
        "out_features": 256
       }
      }
     ]
    }
   },
   "start_time": "2022-03-07T08:10:27.833757",
   "version": "2.3.4"
  }
 },
 "nbformat": 4,
 "nbformat_minor": 5
}