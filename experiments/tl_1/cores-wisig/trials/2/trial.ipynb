{
 "cells": [
  {
   "cell_type": "markdown",
   "id": "9fea5f46",
   "metadata": {
    "papermill": {
     "duration": 0.016392,
     "end_time": "2022-03-07T08:11:44.764046",
     "exception": false,
     "start_time": "2022-03-07T08:11:44.747654",
     "status": "completed"
    },
    "tags": []
   },
   "source": [
    "# Transfer Learning Template"
   ]
  },
  {
   "cell_type": "code",
   "execution_count": 1,
   "id": "0902182a",
   "metadata": {
    "execution": {
     "iopub.execute_input": "2022-03-07T08:11:44.801937Z",
     "iopub.status.busy": "2022-03-07T08:11:44.801451Z",
     "iopub.status.idle": "2022-03-07T08:11:45.533455Z",
     "shell.execute_reply": "2022-03-07T08:11:45.533868Z"
    },
    "papermill": {
     "duration": 0.757289,
     "end_time": "2022-03-07T08:11:45.534058",
     "exception": false,
     "start_time": "2022-03-07T08:11:44.776769",
     "status": "completed"
    },
    "tags": []
   },
   "outputs": [],
   "source": [
    "%load_ext autoreload\n",
    "%autoreload 2\n",
    "%matplotlib inline\n",
    "\n",
    "    \n",
    "import os, json, sys, time, random\n",
    "import numpy as np\n",
    "import torch\n",
    "from torch.optim import Adam\n",
    "from  easydict import EasyDict\n",
    "import matplotlib.pyplot as plt\n",
    "\n",
    "from steves_models.steves_ptn import Steves_Prototypical_Network\n",
    "\n",
    "from steves_utils.lazy_iterable_wrapper import Lazy_Iterable_Wrapper\n",
    "from steves_utils.iterable_aggregator import Iterable_Aggregator\n",
    "from steves_utils.ptn_train_eval_test_jig import  PTN_Train_Eval_Test_Jig\n",
    "from steves_utils.torch_sequential_builder import build_sequential\n",
    "from steves_utils.torch_utils import get_dataset_metrics, ptn_confusion_by_domain_over_dataloader\n",
    "from steves_utils.utils_v2 import (per_domain_accuracy_from_confusion, get_datasets_base_path)\n",
    "from steves_utils.PTN.utils import independent_accuracy_assesment\n",
    "\n",
    "from torch.utils.data import DataLoader\n",
    "\n",
    "from steves_utils.stratified_dataset.episodic_accessor import Episodic_Accessor_Factory\n",
    "\n",
    "from steves_utils.ptn_do_report import (\n",
    "    get_loss_curve,\n",
    "    get_results_table,\n",
    "    get_parameters_table,\n",
    "    get_domain_accuracies,\n",
    ")\n",
    "\n",
    "from steves_utils.transforms import get_chained_transform"
   ]
  },
  {
   "cell_type": "markdown",
   "id": "41c840b4",
   "metadata": {
    "papermill": {
     "duration": 0.012414,
     "end_time": "2022-03-07T08:11:45.564000",
     "exception": false,
     "start_time": "2022-03-07T08:11:45.551586",
     "status": "completed"
    },
    "tags": []
   },
   "source": [
    "# Allowed Parameters\n",
    "These are allowed parameters, not defaults\n",
    "Each of these values need to be present in the injected parameters (the notebook will raise an exception if they are not present)\n",
    "\n",
    "Papermill uses the cell tag \"parameters\" to inject the real parameters below this cell.\n",
    "Enable tags to see what I mean"
   ]
  },
  {
   "cell_type": "code",
   "execution_count": 2,
   "id": "fd44eb83",
   "metadata": {
    "execution": {
     "iopub.execute_input": "2022-03-07T08:11:45.592020Z",
     "iopub.status.busy": "2022-03-07T08:11:45.591764Z",
     "iopub.status.idle": "2022-03-07T08:11:45.604892Z",
     "shell.execute_reply": "2022-03-07T08:11:45.604491Z"
    },
    "papermill": {
     "duration": 0.028395,
     "end_time": "2022-03-07T08:11:45.604995",
     "exception": false,
     "start_time": "2022-03-07T08:11:45.576600",
     "status": "completed"
    },
    "tags": []
   },
   "outputs": [],
   "source": [
    "required_parameters = {\n",
    "    \"experiment_name\",\n",
    "    \"lr\",\n",
    "    \"device\",\n",
    "    \"seed\",\n",
    "    \"dataset_seed\",\n",
    "    \"n_shot\",\n",
    "    \"n_query\",\n",
    "    \"n_way\",\n",
    "    \"train_k_factor\",\n",
    "    \"val_k_factor\",\n",
    "    \"test_k_factor\",\n",
    "    \"n_epoch\",\n",
    "    \"patience\",\n",
    "    \"criteria_for_best\",\n",
    "    \"x_net\",\n",
    "    \"datasets\",\n",
    "    \"torch_default_dtype\",\n",
    "    \"NUM_LOGS_PER_EPOCH\",\n",
    "    \"BEST_MODEL_PATH\",\n",
    "}"
   ]
  },
  {
   "cell_type": "code",
   "execution_count": 3,
   "id": "fa3f0049",
   "metadata": {
    "execution": {
     "iopub.execute_input": "2022-03-07T08:11:45.646751Z",
     "iopub.status.busy": "2022-03-07T08:11:45.646312Z",
     "iopub.status.idle": "2022-03-07T08:11:45.662365Z",
     "shell.execute_reply": "2022-03-07T08:11:45.662571Z"
    },
    "papermill": {
     "duration": 0.039581,
     "end_time": "2022-03-07T08:11:45.662650",
     "exception": false,
     "start_time": "2022-03-07T08:11:45.623069",
     "status": "completed"
    },
    "tags": [
     "parameters"
    ]
   },
   "outputs": [],
   "source": [
    "from steves_utils.CORES.utils import (\n",
    "    ALL_NODES,\n",
    "    ALL_NODES_MINIMUM_1000_EXAMPLES,\n",
    "    ALL_DAYS\n",
    ")\n",
    "\n",
    "from steves_utils.ORACLE.utils_v2 import (\n",
    "    ALL_DISTANCES_FEET_NARROWED,\n",
    "    ALL_RUNS,\n",
    "    ALL_SERIAL_NUMBERS,\n",
    ")\n",
    "\n",
    "standalone_parameters = {}\n",
    "standalone_parameters[\"experiment_name\"] = \"STANDALONE PTN\"\n",
    "standalone_parameters[\"lr\"] = 0.001\n",
    "standalone_parameters[\"device\"] = \"cuda\"\n",
    "\n",
    "standalone_parameters[\"seed\"] = 1337\n",
    "standalone_parameters[\"dataset_seed\"] = 1337\n",
    "\n",
    "standalone_parameters[\"n_way\"] = 8\n",
    "standalone_parameters[\"n_shot\"] = 3\n",
    "standalone_parameters[\"n_query\"]  = 2\n",
    "standalone_parameters[\"train_k_factor\"] = 1\n",
    "standalone_parameters[\"val_k_factor\"] = 2\n",
    "standalone_parameters[\"test_k_factor\"] = 2\n",
    "\n",
    "\n",
    "standalone_parameters[\"n_epoch\"] = 50\n",
    "\n",
    "standalone_parameters[\"patience\"] = 10\n",
    "standalone_parameters[\"criteria_for_best\"] = \"source_loss\"\n",
    "\n",
    "standalone_parameters[\"datasets\"] = [\n",
    "    {\n",
    "        \"labels\": ALL_SERIAL_NUMBERS,\n",
    "        \"domains\": ALL_DISTANCES_FEET_NARROWED,\n",
    "        \"num_examples_per_domain_per_label\": 100,\n",
    "        \"pickle_path\": os.path.join(get_datasets_base_path(), \"oracle.Run1_framed_2000Examples_stratified_ds.2022A.pkl\"),\n",
    "        \"source_or_target_dataset\": \"source\",\n",
    "        \"x_transforms\": [\"unit_mag\", \"minus_two\"],\n",
    "        \"episode_transforms\": [],\n",
    "        \"domain_prefix\": \"ORACLE_\"\n",
    "    },\n",
    "    {\n",
    "        \"labels\": ALL_NODES,\n",
    "        \"domains\": ALL_DAYS,\n",
    "        \"num_examples_per_domain_per_label\": 100,\n",
    "        \"pickle_path\": os.path.join(get_datasets_base_path(), \"cores.stratified_ds.2022A.pkl\"),\n",
    "        \"source_or_target_dataset\": \"target\",\n",
    "        \"x_transforms\": [\"unit_power\", \"times_zero\"],\n",
    "        \"episode_transforms\": [],\n",
    "        \"domain_prefix\": \"CORES_\"\n",
    "    }   \n",
    "]\n",
    "\n",
    "standalone_parameters[\"torch_default_dtype\"] = \"torch.float32\" \n",
    "\n",
    "\n",
    "\n",
    "standalone_parameters[\"x_net\"] =     [\n",
    "    {\"class\": \"nnReshape\", \"kargs\": {\"shape\":[-1, 1, 2, 256]}},\n",
    "    {\"class\": \"Conv2d\", \"kargs\": { \"in_channels\":1, \"out_channels\":256, \"kernel_size\":(1,7), \"bias\":False, \"padding\":(0,3), },},\n",
    "    {\"class\": \"ReLU\", \"kargs\": {\"inplace\": True}},\n",
    "    {\"class\": \"BatchNorm2d\", \"kargs\": {\"num_features\":256}},\n",
    "\n",
    "    {\"class\": \"Conv2d\", \"kargs\": { \"in_channels\":256, \"out_channels\":80, \"kernel_size\":(2,7), \"bias\":True, \"padding\":(0,3), },},\n",
    "    {\"class\": \"ReLU\", \"kargs\": {\"inplace\": True}},\n",
    "    {\"class\": \"BatchNorm2d\", \"kargs\": {\"num_features\":80}},\n",
    "    {\"class\": \"Flatten\", \"kargs\": {}},\n",
    "\n",
    "    {\"class\": \"Linear\", \"kargs\": {\"in_features\": 80*256, \"out_features\": 256}}, # 80 units per IQ pair\n",
    "    {\"class\": \"ReLU\", \"kargs\": {\"inplace\": True}},\n",
    "    {\"class\": \"BatchNorm1d\", \"kargs\": {\"num_features\":256}},\n",
    "\n",
    "    {\"class\": \"Linear\", \"kargs\": {\"in_features\": 256, \"out_features\": 256}},\n",
    "]\n",
    "\n",
    "# Parameters relevant to results\n",
    "# These parameters will basically never need to change\n",
    "standalone_parameters[\"NUM_LOGS_PER_EPOCH\"] = 10\n",
    "standalone_parameters[\"BEST_MODEL_PATH\"] = \"./best_model.pth\"\n",
    "\n",
    "\n",
    "\n",
    "\n"
   ]
  },
  {
   "cell_type": "code",
   "execution_count": 4,
   "id": "4f5d28cb",
   "metadata": {
    "execution": {
     "iopub.execute_input": "2022-03-07T08:11:45.697447Z",
     "iopub.status.busy": "2022-03-07T08:11:45.690051Z",
     "iopub.status.idle": "2022-03-07T08:11:45.708364Z",
     "shell.execute_reply": "2022-03-07T08:11:45.708571Z"
    },
    "papermill": {
     "duration": 0.032843,
     "end_time": "2022-03-07T08:11:45.708646",
     "exception": false,
     "start_time": "2022-03-07T08:11:45.675803",
     "status": "completed"
    },
    "tags": [
     "injected-parameters"
    ]
   },
   "outputs": [],
   "source": [
    "# Parameters\n",
    "parameters = {\n",
    "    \"experiment_name\": \"tl_1_cores-wisig\",\n",
    "    \"device\": \"cuda\",\n",
    "    \"lr\": 0.001,\n",
    "    \"seed\": 1337,\n",
    "    \"dataset_seed\": 1337,\n",
    "    \"n_shot\": 3,\n",
    "    \"n_query\": 2,\n",
    "    \"train_k_factor\": 3,\n",
    "    \"val_k_factor\": 2,\n",
    "    \"test_k_factor\": 2,\n",
    "    \"torch_default_dtype\": \"torch.float32\",\n",
    "    \"n_epoch\": 3,\n",
    "    \"patience\": 3,\n",
    "    \"criteria_for_best\": \"target_loss\",\n",
    "    \"x_net\": [\n",
    "        {\"class\": \"nnReshape\", \"kargs\": {\"shape\": [-1, 1, 2, 256]}},\n",
    "        {\n",
    "            \"class\": \"Conv2d\",\n",
    "            \"kargs\": {\n",
    "                \"in_channels\": 1,\n",
    "                \"out_channels\": 256,\n",
    "                \"kernel_size\": [1, 7],\n",
    "                \"bias\": False,\n",
    "                \"padding\": [0, 3],\n",
    "            },\n",
    "        },\n",
    "        {\"class\": \"ReLU\", \"kargs\": {\"inplace\": True}},\n",
    "        {\"class\": \"BatchNorm2d\", \"kargs\": {\"num_features\": 256}},\n",
    "        {\n",
    "            \"class\": \"Conv2d\",\n",
    "            \"kargs\": {\n",
    "                \"in_channels\": 256,\n",
    "                \"out_channels\": 80,\n",
    "                \"kernel_size\": [2, 7],\n",
    "                \"bias\": True,\n",
    "                \"padding\": [0, 3],\n",
    "            },\n",
    "        },\n",
    "        {\"class\": \"ReLU\", \"kargs\": {\"inplace\": True}},\n",
    "        {\"class\": \"BatchNorm2d\", \"kargs\": {\"num_features\": 80}},\n",
    "        {\"class\": \"Flatten\", \"kargs\": {}},\n",
    "        {\"class\": \"Linear\", \"kargs\": {\"in_features\": 20480, \"out_features\": 256}},\n",
    "        {\"class\": \"ReLU\", \"kargs\": {\"inplace\": True}},\n",
    "        {\"class\": \"BatchNorm1d\", \"kargs\": {\"num_features\": 256}},\n",
    "        {\"class\": \"Linear\", \"kargs\": {\"in_features\": 256, \"out_features\": 256}},\n",
    "    ],\n",
    "    \"NUM_LOGS_PER_EPOCH\": 10,\n",
    "    \"BEST_MODEL_PATH\": \"./best_model.pth\",\n",
    "    \"n_way\": 58,\n",
    "    \"datasets\": [\n",
    "        {\n",
    "            \"labels\": [\n",
    "                \"1-10.\",\n",
    "                \"1-11.\",\n",
    "                \"1-15.\",\n",
    "                \"1-16.\",\n",
    "                \"1-17.\",\n",
    "                \"1-18.\",\n",
    "                \"1-19.\",\n",
    "                \"10-4.\",\n",
    "                \"10-7.\",\n",
    "                \"11-1.\",\n",
    "                \"11-14.\",\n",
    "                \"11-17.\",\n",
    "                \"11-20.\",\n",
    "                \"11-7.\",\n",
    "                \"13-20.\",\n",
    "                \"13-8.\",\n",
    "                \"14-10.\",\n",
    "                \"14-11.\",\n",
    "                \"14-14.\",\n",
    "                \"14-7.\",\n",
    "                \"15-1.\",\n",
    "                \"15-20.\",\n",
    "                \"16-1.\",\n",
    "                \"16-16.\",\n",
    "                \"17-10.\",\n",
    "                \"17-11.\",\n",
    "                \"17-2.\",\n",
    "                \"19-1.\",\n",
    "                \"19-16.\",\n",
    "                \"19-19.\",\n",
    "                \"19-20.\",\n",
    "                \"19-3.\",\n",
    "                \"2-10.\",\n",
    "                \"2-11.\",\n",
    "                \"2-17.\",\n",
    "                \"2-18.\",\n",
    "                \"2-20.\",\n",
    "                \"2-3.\",\n",
    "                \"2-4.\",\n",
    "                \"2-5.\",\n",
    "                \"2-6.\",\n",
    "                \"2-7.\",\n",
    "                \"2-8.\",\n",
    "                \"3-13.\",\n",
    "                \"3-18.\",\n",
    "                \"3-3.\",\n",
    "                \"4-1.\",\n",
    "                \"4-10.\",\n",
    "                \"4-11.\",\n",
    "                \"4-19.\",\n",
    "                \"5-5.\",\n",
    "                \"6-15.\",\n",
    "                \"7-10.\",\n",
    "                \"7-14.\",\n",
    "                \"8-18.\",\n",
    "                \"8-20.\",\n",
    "                \"8-3.\",\n",
    "                \"8-8.\",\n",
    "            ],\n",
    "            \"domains\": [1, 2, 3, 4, 5],\n",
    "            \"num_examples_per_domain_per_label\": 100,\n",
    "            \"pickle_path\": \"/mnt/wd500GB/CSC500/csc500-main/datasets/cores.stratified_ds.2022A.pkl\",\n",
    "            \"source_or_target_dataset\": \"source\",\n",
    "            \"x_transforms\": [],\n",
    "            \"episode_transforms\": [],\n",
    "            \"domain_prefix\": \"CORES_\",\n",
    "        },\n",
    "        {\n",
    "            \"labels\": [\n",
    "                \"1-10\",\n",
    "                \"1-12\",\n",
    "                \"1-14\",\n",
    "                \"1-16\",\n",
    "                \"1-18\",\n",
    "                \"1-19\",\n",
    "                \"1-8\",\n",
    "                \"10-11\",\n",
    "                \"10-17\",\n",
    "                \"10-4\",\n",
    "                \"10-7\",\n",
    "                \"11-1\",\n",
    "                \"11-10\",\n",
    "                \"11-19\",\n",
    "                \"11-20\",\n",
    "                \"11-4\",\n",
    "                \"11-7\",\n",
    "                \"12-19\",\n",
    "                \"12-20\",\n",
    "                \"12-7\",\n",
    "                \"13-14\",\n",
    "                \"13-18\",\n",
    "                \"13-19\",\n",
    "                \"13-20\",\n",
    "                \"13-3\",\n",
    "                \"13-7\",\n",
    "                \"14-10\",\n",
    "                \"14-11\",\n",
    "                \"14-12\",\n",
    "                \"14-13\",\n",
    "                \"14-14\",\n",
    "                \"14-19\",\n",
    "                \"14-20\",\n",
    "                \"14-7\",\n",
    "                \"14-8\",\n",
    "                \"14-9\",\n",
    "                \"15-1\",\n",
    "                \"15-19\",\n",
    "                \"15-6\",\n",
    "                \"16-1\",\n",
    "                \"16-16\",\n",
    "                \"16-19\",\n",
    "                \"16-20\",\n",
    "                \"17-10\",\n",
    "                \"17-11\",\n",
    "                \"18-1\",\n",
    "                \"18-10\",\n",
    "                \"18-11\",\n",
    "                \"18-12\",\n",
    "                \"18-13\",\n",
    "                \"18-14\",\n",
    "                \"18-15\",\n",
    "                \"18-16\",\n",
    "                \"18-17\",\n",
    "                \"18-19\",\n",
    "                \"18-2\",\n",
    "                \"18-20\",\n",
    "                \"18-4\",\n",
    "                \"18-5\",\n",
    "                \"18-7\",\n",
    "                \"18-8\",\n",
    "                \"18-9\",\n",
    "                \"19-1\",\n",
    "                \"19-10\",\n",
    "                \"19-11\",\n",
    "                \"19-12\",\n",
    "                \"19-13\",\n",
    "                \"19-14\",\n",
    "                \"19-15\",\n",
    "                \"19-19\",\n",
    "                \"19-2\",\n",
    "                \"19-20\",\n",
    "                \"19-3\",\n",
    "                \"19-4\",\n",
    "                \"19-6\",\n",
    "                \"19-7\",\n",
    "                \"19-8\",\n",
    "                \"19-9\",\n",
    "                \"2-1\",\n",
    "                \"2-13\",\n",
    "                \"2-15\",\n",
    "                \"2-3\",\n",
    "                \"2-4\",\n",
    "                \"2-5\",\n",
    "                \"2-6\",\n",
    "                \"2-7\",\n",
    "                \"2-8\",\n",
    "                \"20-1\",\n",
    "                \"20-12\",\n",
    "                \"20-14\",\n",
    "                \"20-15\",\n",
    "                \"20-16\",\n",
    "                \"20-18\",\n",
    "                \"20-19\",\n",
    "                \"20-20\",\n",
    "                \"20-3\",\n",
    "                \"20-4\",\n",
    "                \"20-5\",\n",
    "                \"20-7\",\n",
    "                \"20-8\",\n",
    "                \"3-1\",\n",
    "                \"3-13\",\n",
    "                \"3-18\",\n",
    "                \"3-2\",\n",
    "                \"3-8\",\n",
    "                \"4-1\",\n",
    "                \"4-10\",\n",
    "                \"4-11\",\n",
    "                \"5-1\",\n",
    "                \"5-5\",\n",
    "                \"6-1\",\n",
    "                \"6-15\",\n",
    "                \"6-6\",\n",
    "                \"7-10\",\n",
    "                \"7-11\",\n",
    "                \"7-12\",\n",
    "                \"7-13\",\n",
    "                \"7-14\",\n",
    "                \"7-7\",\n",
    "                \"7-8\",\n",
    "                \"7-9\",\n",
    "                \"8-1\",\n",
    "                \"8-13\",\n",
    "                \"8-14\",\n",
    "                \"8-18\",\n",
    "                \"8-20\",\n",
    "                \"8-3\",\n",
    "                \"8-8\",\n",
    "                \"9-1\",\n",
    "                \"9-7\",\n",
    "            ],\n",
    "            \"domains\": [1, 2, 3, 4],\n",
    "            \"num_examples_per_domain_per_label\": 100,\n",
    "            \"pickle_path\": \"/mnt/wd500GB/CSC500/csc500-main/datasets/wisig.node3-19.stratified_ds.2022A.pkl\",\n",
    "            \"source_or_target_dataset\": \"target\",\n",
    "            \"x_transforms\": [],\n",
    "            \"episode_transforms\": [],\n",
    "            \"domain_prefix\": \"Wisig_\",\n",
    "        },\n",
    "    ],\n",
    "}\n"
   ]
  },
  {
   "cell_type": "code",
   "execution_count": 5,
   "id": "8fa1cc33",
   "metadata": {
    "execution": {
     "iopub.execute_input": "2022-03-07T08:11:45.738969Z",
     "iopub.status.busy": "2022-03-07T08:11:45.738534Z",
     "iopub.status.idle": "2022-03-07T08:11:45.747969Z",
     "shell.execute_reply": "2022-03-07T08:11:45.748175Z"
    },
    "papermill": {
     "duration": 0.024835,
     "end_time": "2022-03-07T08:11:45.748245",
     "exception": false,
     "start_time": "2022-03-07T08:11:45.723410",
     "status": "completed"
    },
    "tags": []
   },
   "outputs": [],
   "source": [
    "# Set this to True if you want to run this template directly\n",
    "STANDALONE = False\n",
    "if STANDALONE:\n",
    "    print(\"parameters not injected, running with standalone_parameters\")\n",
    "    parameters = standalone_parameters\n",
    "\n",
    "if not 'parameters' in locals() and not 'parameters' in globals():\n",
    "    raise Exception(\"Parameter injection failed\")\n",
    "\n",
    "#Use an easy dict for all the parameters\n",
    "p = EasyDict(parameters)\n",
    "\n",
    "supplied_keys = set(p.keys())\n",
    "\n",
    "if  supplied_keys != required_parameters:\n",
    "    print(\"Parameters are incorrect\")\n",
    "    if len(supplied_keys - required_parameters)>0: print(\"Shouldn't have:\", str(supplied_keys - required_parameters))\n",
    "    if len(required_parameters - supplied_keys)>0: print(\"Need to have:\", str(required_parameters - supplied_keys))\n",
    "    raise RuntimeError(\"Parameters are incorrect\")\n",
    "\n"
   ]
  },
  {
   "cell_type": "code",
   "execution_count": 6,
   "id": "3a028d58",
   "metadata": {
    "execution": {
     "iopub.execute_input": "2022-03-07T08:11:45.776576Z",
     "iopub.status.busy": "2022-03-07T08:11:45.776178Z",
     "iopub.status.idle": "2022-03-07T08:11:45.785219Z",
     "shell.execute_reply": "2022-03-07T08:11:45.785434Z"
    },
    "papermill": {
     "duration": 0.024221,
     "end_time": "2022-03-07T08:11:45.785501",
     "exception": false,
     "start_time": "2022-03-07T08:11:45.761280",
     "status": "completed"
    },
    "tags": []
   },
   "outputs": [],
   "source": [
    "###################################\n",
    "# Set the RNGs and make it all deterministic\n",
    "###################################\n",
    "np.random.seed(p.seed)\n",
    "random.seed(p.seed)\n",
    "torch.manual_seed(p.seed)\n",
    "\n",
    "torch.use_deterministic_algorithms(True) "
   ]
  },
  {
   "cell_type": "code",
   "execution_count": 7,
   "id": "b691acf6",
   "metadata": {
    "execution": {
     "iopub.execute_input": "2022-03-07T08:11:45.816347Z",
     "iopub.status.busy": "2022-03-07T08:11:45.815851Z",
     "iopub.status.idle": "2022-03-07T08:11:45.825579Z",
     "shell.execute_reply": "2022-03-07T08:11:45.825965Z"
    },
    "papermill": {
     "duration": 0.024732,
     "end_time": "2022-03-07T08:11:45.826088",
     "exception": false,
     "start_time": "2022-03-07T08:11:45.801356",
     "status": "completed"
    },
    "tags": []
   },
   "outputs": [],
   "source": [
    "###########################################\n",
    "# The stratified datasets honor this\n",
    "###########################################\n",
    "torch.set_default_dtype(eval(p.torch_default_dtype))"
   ]
  },
  {
   "cell_type": "code",
   "execution_count": 8,
   "id": "b5fba671",
   "metadata": {
    "execution": {
     "iopub.execute_input": "2022-03-07T08:11:45.858923Z",
     "iopub.status.busy": "2022-03-07T08:11:45.858646Z",
     "iopub.status.idle": "2022-03-07T08:11:45.896330Z",
     "shell.execute_reply": "2022-03-07T08:11:45.895888Z"
    },
    "papermill": {
     "duration": 0.052618,
     "end_time": "2022-03-07T08:11:45.896438",
     "exception": false,
     "start_time": "2022-03-07T08:11:45.843820",
     "status": "completed"
    },
    "tags": []
   },
   "outputs": [],
   "source": [
    "###################################\n",
    "# Build the network(s)\n",
    "# Note: It's critical to do this AFTER setting the RNG\n",
    "###################################\n",
    "x_net = build_sequential(p.x_net)"
   ]
  },
  {
   "cell_type": "code",
   "execution_count": 9,
   "id": "5d7e61cc",
   "metadata": {
    "execution": {
     "iopub.execute_input": "2022-03-07T08:11:45.930855Z",
     "iopub.status.busy": "2022-03-07T08:11:45.930576Z",
     "iopub.status.idle": "2022-03-07T08:11:45.941497Z",
     "shell.execute_reply": "2022-03-07T08:11:45.941159Z"
    },
    "papermill": {
     "duration": 0.02605,
     "end_time": "2022-03-07T08:11:45.941574",
     "exception": false,
     "start_time": "2022-03-07T08:11:45.915524",
     "status": "completed"
    },
    "tags": []
   },
   "outputs": [],
   "source": [
    "start_time_secs = time.time()"
   ]
  },
  {
   "cell_type": "code",
   "execution_count": 10,
   "id": "c6b67dfd",
   "metadata": {
    "execution": {
     "iopub.execute_input": "2022-03-07T08:11:45.975011Z",
     "iopub.status.busy": "2022-03-07T08:11:45.974751Z",
     "iopub.status.idle": "2022-03-07T08:11:45.983672Z",
     "shell.execute_reply": "2022-03-07T08:11:45.983871Z"
    },
    "papermill": {
     "duration": 0.02393,
     "end_time": "2022-03-07T08:11:45.983937",
     "exception": false,
     "start_time": "2022-03-07T08:11:45.960007",
     "status": "completed"
    },
    "tags": []
   },
   "outputs": [],
   "source": [
    "p.domains_source = []\n",
    "p.domains_target = []\n",
    "\n",
    "\n",
    "train_original_source = []\n",
    "val_original_source   = []\n",
    "test_original_source  = []\n",
    "\n",
    "train_original_target = []\n",
    "val_original_target   = []\n",
    "test_original_target  = []"
   ]
  },
  {
   "cell_type": "code",
   "execution_count": 11,
   "id": "e3d9c3d3",
   "metadata": {
    "execution": {
     "iopub.execute_input": "2022-03-07T08:11:46.018160Z",
     "iopub.status.busy": "2022-03-07T08:11:46.017900Z",
     "iopub.status.idle": "2022-03-07T08:11:46.031941Z",
     "shell.execute_reply": "2022-03-07T08:11:46.031507Z"
    },
    "papermill": {
     "duration": 0.029405,
     "end_time": "2022-03-07T08:11:46.032042",
     "exception": false,
     "start_time": "2022-03-07T08:11:46.002637",
     "status": "completed"
    },
    "tags": []
   },
   "outputs": [],
   "source": [
    "# global_x_transform_func = lambda x: normalize(x.to(torch.get_default_dtype()), \"unit_power\") # unit_power, unit_mag\n",
    "# global_x_transform_func = lambda x: normalize(x, \"unit_power\") # unit_power, unit_mag"
   ]
  },
  {
   "cell_type": "code",
   "execution_count": 12,
   "id": "acb78fd2",
   "metadata": {
    "execution": {
     "iopub.execute_input": "2022-03-07T08:11:46.073004Z",
     "iopub.status.busy": "2022-03-07T08:11:46.072617Z",
     "iopub.status.idle": "2022-03-07T08:11:46.085843Z",
     "shell.execute_reply": "2022-03-07T08:11:46.085374Z"
    },
    "papermill": {
     "duration": 0.034379,
     "end_time": "2022-03-07T08:11:46.085942",
     "exception": false,
     "start_time": "2022-03-07T08:11:46.051563",
     "status": "completed"
    },
    "tags": []
   },
   "outputs": [],
   "source": [
    "def add_dataset(\n",
    "    labels,\n",
    "    domains,\n",
    "    pickle_path,\n",
    "    x_transforms,\n",
    "    episode_transforms,\n",
    "    domain_prefix,\n",
    "    num_examples_per_domain_per_label,\n",
    "    source_or_target_dataset:str,\n",
    "    iterator_seed=p.seed,\n",
    "    dataset_seed=p.dataset_seed,\n",
    "    n_shot=p.n_shot,\n",
    "    n_way=p.n_way,\n",
    "    n_query=p.n_query,\n",
    "    train_val_test_k_factors=(p.train_k_factor,p.val_k_factor,p.test_k_factor),\n",
    "):\n",
    "   \n",
    "    if x_transforms == []: x_transform = None\n",
    "    else: x_transform = get_chained_transform(x_transforms)\n",
    "    \n",
    "    if episode_transforms == []: episode_transform = None\n",
    "    else: raise Exception(\"episode_transforms not implemented\")\n",
    "    \n",
    "    episode_transform = lambda tup, _prefix=domain_prefix: (_prefix + str(tup[0]), tup[1])\n",
    "\n",
    "\n",
    "    eaf = Episodic_Accessor_Factory(\n",
    "        labels=labels,\n",
    "        domains=domains,\n",
    "        num_examples_per_domain_per_label=num_examples_per_domain_per_label,\n",
    "        iterator_seed=iterator_seed,\n",
    "        dataset_seed=dataset_seed,\n",
    "        n_shot=n_shot,\n",
    "        n_way=n_way,\n",
    "        n_query=n_query,\n",
    "        train_val_test_k_factors=train_val_test_k_factors,\n",
    "        pickle_path=pickle_path,\n",
    "        x_transform_func=x_transform,\n",
    "    )\n",
    "\n",
    "    train, val, test = eaf.get_train(), eaf.get_val(), eaf.get_test()\n",
    "    train = Lazy_Iterable_Wrapper(train, episode_transform)\n",
    "    val = Lazy_Iterable_Wrapper(val, episode_transform)\n",
    "    test = Lazy_Iterable_Wrapper(test, episode_transform)\n",
    "\n",
    "    if source_or_target_dataset==\"source\":\n",
    "        train_original_source.append(train)\n",
    "        val_original_source.append(val)\n",
    "        test_original_source.append(test)\n",
    "\n",
    "        p.domains_source.extend(\n",
    "            [domain_prefix + str(u) for u in domains]\n",
    "        )\n",
    "    elif source_or_target_dataset==\"target\":\n",
    "        train_original_target.append(train)\n",
    "        val_original_target.append(val)\n",
    "        test_original_target.append(test)\n",
    "        p.domains_target.extend(\n",
    "            [domain_prefix + str(u) for u in domains]\n",
    "        )\n",
    "    else:\n",
    "        raise Exception(f\"invalid source_or_target_dataset: {source_or_target_dataset}\")\n",
    "    "
   ]
  },
  {
   "cell_type": "code",
   "execution_count": 13,
   "id": "fe266617",
   "metadata": {
    "execution": {
     "iopub.execute_input": "2022-03-07T08:11:46.119960Z",
     "iopub.status.busy": "2022-03-07T08:11:46.119699Z",
     "iopub.status.idle": "2022-03-07T08:11:46.994468Z",
     "shell.execute_reply": "2022-03-07T08:11:46.994015Z"
    },
    "papermill": {
     "duration": 0.8898,
     "end_time": "2022-03-07T08:11:46.994578",
     "exception": false,
     "start_time": "2022-03-07T08:11:46.104778",
     "status": "completed"
    },
    "tags": []
   },
   "outputs": [],
   "source": [
    "for ds in p.datasets:\n",
    "    add_dataset(**ds)"
   ]
  },
  {
   "cell_type": "code",
   "execution_count": 14,
   "id": "b90d65ac",
   "metadata": {
    "execution": {
     "iopub.execute_input": "2022-03-07T08:11:47.028052Z",
     "iopub.status.busy": "2022-03-07T08:11:47.027784Z",
     "iopub.status.idle": "2022-03-07T08:11:47.037497Z",
     "shell.execute_reply": "2022-03-07T08:11:47.037118Z"
    },
    "papermill": {
     "duration": 0.025083,
     "end_time": "2022-03-07T08:11:47.037576",
     "exception": false,
     "start_time": "2022-03-07T08:11:47.012493",
     "status": "completed"
    },
    "tags": []
   },
   "outputs": [],
   "source": [
    "# from steves_utils.CORES.utils import (\n",
    "#     ALL_NODES,\n",
    "#     ALL_NODES_MINIMUM_1000_EXAMPLES,\n",
    "#     ALL_DAYS\n",
    "# )\n",
    "\n",
    "# add_dataset(\n",
    "#     labels=ALL_NODES,\n",
    "#     domains = ALL_DAYS,\n",
    "#     num_examples_per_domain_per_label=100,\n",
    "#     pickle_path=os.path.join(get_datasets_base_path(), \"cores.stratified_ds.2022A.pkl\"),\n",
    "#     source_or_target_dataset=\"target\",\n",
    "#     x_transform_func=global_x_transform_func,\n",
    "#     domain_modifier=lambda u: f\"cores_{u}\"\n",
    "# )"
   ]
  },
  {
   "cell_type": "code",
   "execution_count": 15,
   "id": "76db484d",
   "metadata": {
    "execution": {
     "iopub.execute_input": "2022-03-07T08:11:47.069335Z",
     "iopub.status.busy": "2022-03-07T08:11:47.069068Z",
     "iopub.status.idle": "2022-03-07T08:11:47.083430Z",
     "shell.execute_reply": "2022-03-07T08:11:47.082938Z"
    },
    "papermill": {
     "duration": 0.029896,
     "end_time": "2022-03-07T08:11:47.083528",
     "exception": false,
     "start_time": "2022-03-07T08:11:47.053632",
     "status": "completed"
    },
    "tags": []
   },
   "outputs": [],
   "source": [
    "# from steves_utils.ORACLE.utils_v2 import (\n",
    "#     ALL_DISTANCES_FEET,\n",
    "#     ALL_RUNS,\n",
    "#     ALL_SERIAL_NUMBERS,\n",
    "# )\n",
    "\n",
    "\n",
    "# add_dataset(\n",
    "#     labels=ALL_SERIAL_NUMBERS,\n",
    "#     domains = list(set(ALL_DISTANCES_FEET) - {2,62}),\n",
    "#     num_examples_per_domain_per_label=100,\n",
    "#     pickle_path=os.path.join(get_datasets_base_path(), \"oracle.Run2_framed_2000Examples_stratified_ds.2022A.pkl\"),\n",
    "#     source_or_target_dataset=\"source\",\n",
    "#     x_transform_func=global_x_transform_func,\n",
    "#     domain_modifier=lambda u: f\"oracle1_{u}\"\n",
    "# )\n"
   ]
  },
  {
   "cell_type": "code",
   "execution_count": 16,
   "id": "97dea9d2",
   "metadata": {
    "execution": {
     "iopub.execute_input": "2022-03-07T08:11:47.116607Z",
     "iopub.status.busy": "2022-03-07T08:11:47.116340Z",
     "iopub.status.idle": "2022-03-07T08:11:47.125670Z",
     "shell.execute_reply": "2022-03-07T08:11:47.125275Z"
    },
    "papermill": {
     "duration": 0.02457,
     "end_time": "2022-03-07T08:11:47.125768",
     "exception": false,
     "start_time": "2022-03-07T08:11:47.101198",
     "status": "completed"
    },
    "tags": []
   },
   "outputs": [],
   "source": [
    "# from steves_utils.ORACLE.utils_v2 import (\n",
    "#     ALL_DISTANCES_FEET,\n",
    "#     ALL_RUNS,\n",
    "#     ALL_SERIAL_NUMBERS,\n",
    "# )\n",
    "\n",
    "\n",
    "# add_dataset(\n",
    "#     labels=ALL_SERIAL_NUMBERS,\n",
    "#     domains = list(set(ALL_DISTANCES_FEET) - {2,62,56}),\n",
    "#     num_examples_per_domain_per_label=100,\n",
    "#     pickle_path=os.path.join(get_datasets_base_path(), \"oracle.Run2_framed_2000Examples_stratified_ds.2022A.pkl\"),\n",
    "#     source_or_target_dataset=\"source\",\n",
    "#     x_transform_func=global_x_transform_func,\n",
    "#     domain_modifier=lambda u: f\"oracle2_{u}\"\n",
    "# )"
   ]
  },
  {
   "cell_type": "code",
   "execution_count": 17,
   "id": "6f289866",
   "metadata": {
    "execution": {
     "iopub.execute_input": "2022-03-07T08:11:47.160407Z",
     "iopub.status.busy": "2022-03-07T08:11:47.160142Z",
     "iopub.status.idle": "2022-03-07T08:11:47.172672Z",
     "shell.execute_reply": "2022-03-07T08:11:47.172245Z"
    },
    "papermill": {
     "duration": 0.028226,
     "end_time": "2022-03-07T08:11:47.172771",
     "exception": false,
     "start_time": "2022-03-07T08:11:47.144545",
     "status": "completed"
    },
    "tags": []
   },
   "outputs": [],
   "source": [
    "# add_dataset(\n",
    "#     labels=list(range(19)),\n",
    "#     domains = [0,1,2],\n",
    "#     num_examples_per_domain_per_label=100,\n",
    "#     pickle_path=os.path.join(get_datasets_base_path(), \"metehan.stratified_ds.2022A.pkl\"),\n",
    "#     source_or_target_dataset=\"target\",\n",
    "#     x_transform_func=global_x_transform_func,\n",
    "#     domain_modifier=lambda u: f\"met_{u}\"\n",
    "# )"
   ]
  },
  {
   "cell_type": "code",
   "execution_count": 18,
   "id": "86a863c3",
   "metadata": {
    "execution": {
     "iopub.execute_input": "2022-03-07T08:11:47.208577Z",
     "iopub.status.busy": "2022-03-07T08:11:47.208317Z",
     "iopub.status.idle": "2022-03-07T08:11:47.222944Z",
     "shell.execute_reply": "2022-03-07T08:11:47.222515Z"
    },
    "papermill": {
     "duration": 0.030527,
     "end_time": "2022-03-07T08:11:47.223045",
     "exception": false,
     "start_time": "2022-03-07T08:11:47.192518",
     "status": "completed"
    },
    "tags": []
   },
   "outputs": [],
   "source": [
    "# # from steves_utils.wisig.utils import (\n",
    "# #     ALL_NODES_MINIMUM_100_EXAMPLES,\n",
    "# #     ALL_NODES_MINIMUM_500_EXAMPLES,\n",
    "# #     ALL_NODES_MINIMUM_1000_EXAMPLES,\n",
    "# #     ALL_DAYS\n",
    "# # )\n",
    "\n",
    "# import steves_utils.wisig.utils as wisig\n",
    "\n",
    "\n",
    "# add_dataset(\n",
    "#     labels=wisig.ALL_NODES_MINIMUM_100_EXAMPLES,\n",
    "#     domains = wisig.ALL_DAYS,\n",
    "#     num_examples_per_domain_per_label=100,\n",
    "#     pickle_path=os.path.join(get_datasets_base_path(), \"wisig.node3-19.stratified_ds.2022A.pkl\"),\n",
    "#     source_or_target_dataset=\"target\",\n",
    "#     x_transform_func=global_x_transform_func,\n",
    "#     domain_modifier=lambda u: f\"wisig_{u}\"\n",
    "# )"
   ]
  },
  {
   "cell_type": "code",
   "execution_count": 19,
   "id": "fd5442bc",
   "metadata": {
    "execution": {
     "iopub.execute_input": "2022-03-07T08:11:47.260185Z",
     "iopub.status.busy": "2022-03-07T08:11:47.259909Z",
     "iopub.status.idle": "2022-03-07T08:11:47.272376Z",
     "shell.execute_reply": "2022-03-07T08:11:47.272764Z"
    },
    "papermill": {
     "duration": 0.031085,
     "end_time": "2022-03-07T08:11:47.272892",
     "exception": false,
     "start_time": "2022-03-07T08:11:47.241807",
     "status": "completed"
    },
    "tags": []
   },
   "outputs": [],
   "source": [
    "###################################\n",
    "# Build the dataset\n",
    "###################################\n",
    "train_original_source = Iterable_Aggregator(train_original_source, p.seed)\n",
    "val_original_source = Iterable_Aggregator(val_original_source, p.seed)\n",
    "test_original_source = Iterable_Aggregator(test_original_source, p.seed)\n",
    "\n",
    "\n",
    "train_original_target = Iterable_Aggregator(train_original_target, p.seed)\n",
    "val_original_target = Iterable_Aggregator(val_original_target, p.seed)\n",
    "test_original_target = Iterable_Aggregator(test_original_target, p.seed)\n",
    "\n",
    "# For CNN We only use X and Y. And we only train on the source.\n",
    "# Properly form the data using a transform lambda and Lazy_Iterable_Wrapper. Finally wrap them in a dataloader\n",
    "\n",
    "transform_lambda = lambda ex: ex[1] # Original is (<domain>, <episode>) so we strip down to episode only\n",
    "\n",
    "train_processed_source = Lazy_Iterable_Wrapper(train_original_source, transform_lambda)\n",
    "val_processed_source   = Lazy_Iterable_Wrapper(val_original_source, transform_lambda)\n",
    "test_processed_source  = Lazy_Iterable_Wrapper(test_original_source, transform_lambda)\n",
    "\n",
    "train_processed_target = Lazy_Iterable_Wrapper(train_original_target, transform_lambda)\n",
    "val_processed_target   = Lazy_Iterable_Wrapper(val_original_target, transform_lambda)\n",
    "test_processed_target  = Lazy_Iterable_Wrapper(test_original_target, transform_lambda)\n",
    "\n",
    "datasets = EasyDict({\n",
    "    \"source\": {\n",
    "        \"original\": {\"train\":train_original_source, \"val\":val_original_source, \"test\":test_original_source},\n",
    "        \"processed\": {\"train\":train_processed_source, \"val\":val_processed_source, \"test\":test_processed_source}\n",
    "    },\n",
    "    \"target\": {\n",
    "        \"original\": {\"train\":train_original_target, \"val\":val_original_target, \"test\":test_original_target},\n",
    "        \"processed\": {\"train\":train_processed_target, \"val\":val_processed_target, \"test\":test_processed_target}\n",
    "    },\n",
    "})"
   ]
  },
  {
   "cell_type": "code",
   "execution_count": 20,
   "id": "5b3c01fc",
   "metadata": {
    "execution": {
     "iopub.execute_input": "2022-03-07T08:11:47.308091Z",
     "iopub.status.busy": "2022-03-07T08:11:47.307829Z",
     "iopub.status.idle": "2022-03-07T08:11:49.354479Z",
     "shell.execute_reply": "2022-03-07T08:11:49.353821Z"
    },
    "papermill": {
     "duration": 2.062579,
     "end_time": "2022-03-07T08:11:49.354649",
     "exception": false,
     "start_time": "2022-03-07T08:11:47.292070",
     "status": "completed"
    },
    "tags": []
   },
   "outputs": [
    {
     "name": "stdout",
     "output_type": "stream",
     "text": [
      "{'CORES_5', 'CORES_4', 'CORES_2', 'CORES_3', 'CORES_1'}\n"
     ]
    },
    {
     "name": "stdout",
     "output_type": "stream",
     "text": [
      "{'Wisig_3', 'Wisig_4', 'Wisig_2', 'Wisig_1'}\n"
     ]
    },
    {
     "name": "stdout",
     "output_type": "stream",
     "text": [
      "tensor([[[ 2.0142e-03, -2.8382e-03, -2.9603e-03,  ..., -1.4801e-02,\n",
      "          -2.5056e-02, -8.0568e-03],\n",
      "         [ 3.8758e-03,  9.4607e-04, -6.5920e-03,  ..., -1.3031e-02,\n",
      "           1.1780e-02,  9.1860e-03]],\n",
      "\n",
      "        [[ 3.4791e-03, -1.0681e-03, -3.6012e-03,  ...,  1.1292e-02,\n",
      "           2.3713e-02, -2.5941e-03],\n",
      "         [-2.5025e-03,  6.5004e-03,  9.1555e-05,  ...,  1.9379e-02,\n",
      "           9.3691e-03, -1.9837e-03]],\n",
      "\n",
      "        [[ 1.8921e-03, -2.0142e-03, -4.5167e-03,  ..., -1.5107e-02,\n",
      "          -2.4354e-02, -8.5451e-03],\n",
      "         [ 2.8992e-03,  2.1973e-03, -6.2868e-03,  ..., -1.3520e-02,\n",
      "           1.2177e-02,  1.1566e-02]],\n",
      "\n",
      "        ...,\n",
      "\n",
      "        [[ 1.0712e-02,  1.0956e-02,  1.1811e-02,  ..., -2.1363e-04,\n",
      "          -1.2818e-03, -4.5167e-03],\n",
      "         [ 9.4607e-04, -6.0121e-03, -1.0681e-03,  ..., -1.9837e-03,\n",
      "           4.2420e-03,  5.1881e-04]],\n",
      "\n",
      "        [[-1.4038e-03,  8.6977e-03,  2.8687e-03,  ..., -4.6693e-03,\n",
      "           5.3712e-03,  1.8311e-04],\n",
      "         [-7.5991e-03,  1.6175e-03,  9.0639e-03,  ..., -4.0895e-03,\n",
      "           5.9511e-03,  7.4465e-03]],\n",
      "\n",
      "        [[ 4.4862e-03,  2.4415e-04, -8.3620e-03,  ..., -4.9440e-03,\n",
      "          -8.1179e-03, -8.4536e-03],\n",
      "         [ 7.9348e-04,  6.7140e-03, -6.1037e-05,  ..., -5.2797e-03,\n",
      "           7.0192e-04,  2.7467e-03]]])\n"
     ]
    }
   ],
   "source": [
    "from steves_utils.transforms import get_average_magnitude, get_average_power\n",
    "\n",
    "print(set([u for u,_ in val_original_source]))\n",
    "print(set([u for u,_ in val_original_target]))\n",
    "\n",
    "s_x, s_y, q_x, q_y, _ = next(iter(train_processed_source))\n",
    "print(s_x)\n",
    "\n",
    "# for ds in [\n",
    "#     train_processed_source,\n",
    "#     val_processed_source,\n",
    "#     test_processed_source,\n",
    "#     train_processed_target,\n",
    "#     val_processed_target,\n",
    "#     test_processed_target\n",
    "# ]:\n",
    "#     for s_x, s_y, q_x, q_y, _ in ds:\n",
    "#         for X in (s_x, q_x):\n",
    "#             for x in X:\n",
    "#                 assert np.isclose(get_average_magnitude(x.numpy()), 1.0)\n",
    "#                 assert np.isclose(get_average_power(x.numpy()), 1.0)\n",
    "                "
   ]
  },
  {
   "cell_type": "code",
   "execution_count": 21,
   "id": "bbdacba1",
   "metadata": {
    "execution": {
     "iopub.execute_input": "2022-03-07T08:11:49.397571Z",
     "iopub.status.busy": "2022-03-07T08:11:49.397302Z",
     "iopub.status.idle": "2022-03-07T08:11:49.456897Z",
     "shell.execute_reply": "2022-03-07T08:11:49.457281Z"
    },
    "papermill": {
     "duration": 0.078458,
     "end_time": "2022-03-07T08:11:49.457412",
     "exception": false,
     "start_time": "2022-03-07T08:11:49.378954",
     "status": "completed"
    },
    "tags": []
   },
   "outputs": [
    {
     "name": "stdout",
     "output_type": "stream",
     "text": [
      "(2, 256)\n"
     ]
    }
   ],
   "source": [
    "###################################\n",
    "# Build the model\n",
    "###################################\n",
    "model = Steves_Prototypical_Network(x_net, device=p.device, x_shape=(2,256))\n",
    "optimizer = Adam(params=model.parameters(), lr=p.lr)"
   ]
  },
  {
   "cell_type": "code",
   "execution_count": 22,
   "id": "22b39ac5",
   "metadata": {
    "execution": {
     "iopub.execute_input": "2022-03-07T08:11:49.495071Z",
     "iopub.status.busy": "2022-03-07T08:11:49.494805Z",
     "iopub.status.idle": "2022-03-07T08:12:43.645812Z",
     "shell.execute_reply": "2022-03-07T08:12:43.646040Z"
    },
    "papermill": {
     "duration": 54.168615,
     "end_time": "2022-03-07T08:12:43.646131",
     "exception": false,
     "start_time": "2022-03-07T08:11:49.477516",
     "status": "completed"
    },
    "tags": []
   },
   "outputs": [
    {
     "name": "stdout",
     "output_type": "stream",
     "text": [
      "epoch: 1, [batch: 1 / 210], examples_per_second: 982.5221, train_label_loss: 2.8321, \n"
     ]
    },
    {
     "name": "stdout",
     "output_type": "stream",
     "text": [
      "epoch: 1, [batch: 21 / 210], examples_per_second: 3817.2954, train_label_loss: 0.8621, \n"
     ]
    },
    {
     "name": "stdout",
     "output_type": "stream",
     "text": [
      "epoch: 1, [batch: 42 / 210], examples_per_second: 3818.0705, train_label_loss: 0.5368, \n"
     ]
    },
    {
     "name": "stdout",
     "output_type": "stream",
     "text": [
      "epoch: 1, [batch: 63 / 210], examples_per_second: 3796.3414, train_label_loss: 0.1380, \n"
     ]
    },
    {
     "name": "stdout",
     "output_type": "stream",
     "text": [
      "epoch: 1, [batch: 84 / 210], examples_per_second: 3815.4117, train_label_loss: 0.2535, \n"
     ]
    },
    {
     "name": "stdout",
     "output_type": "stream",
     "text": [
      "epoch: 1, [batch: 105 / 210], examples_per_second: 3817.4707, train_label_loss: 0.1783, \n"
     ]
    },
    {
     "name": "stdout",
     "output_type": "stream",
     "text": [
      "epoch: 1, [batch: 126 / 210], examples_per_second: 3815.5302, train_label_loss: 0.1390, \n"
     ]
    },
    {
     "name": "stdout",
     "output_type": "stream",
     "text": [
      "epoch: 1, [batch: 147 / 210], examples_per_second: 3787.3639, train_label_loss: 0.0614, \n"
     ]
    },
    {
     "name": "stdout",
     "output_type": "stream",
     "text": [
      "epoch: 1, [batch: 168 / 210], examples_per_second: 3809.5762, train_label_loss: 0.2277, \n"
     ]
    },
    {
     "name": "stdout",
     "output_type": "stream",
     "text": [
      "epoch: 1, [batch: 189 / 210], examples_per_second: 3815.0977, train_label_loss: 0.0257, \n"
     ]
    },
    {
     "name": "stdout",
     "output_type": "stream",
     "text": [
      "=============================================================\n",
      "epoch: 1, source_val_acc_label: 0.9888, target_val_acc_label: 0.7231, source_val_label_loss: 0.0377, target_val_label_loss: 3.0180, \n",
      "=============================================================\n"
     ]
    },
    {
     "name": "stdout",
     "output_type": "stream",
     "text": [
      "New best\n"
     ]
    },
    {
     "name": "stdout",
     "output_type": "stream",
     "text": [
      "epoch: 2, [batch: 1 / 210], examples_per_second: 147.0399, train_label_loss: 0.0385, \n"
     ]
    },
    {
     "name": "stdout",
     "output_type": "stream",
     "text": [
      "epoch: 2, [batch: 21 / 210], examples_per_second: 3886.4006, train_label_loss: 0.0189, \n"
     ]
    },
    {
     "name": "stdout",
     "output_type": "stream",
     "text": [
      "epoch: 2, [batch: 42 / 210], examples_per_second: 3893.3844, train_label_loss: 0.1270, \n"
     ]
    },
    {
     "name": "stdout",
     "output_type": "stream",
     "text": [
      "epoch: 2, [batch: 63 / 210], examples_per_second: 3872.6044, train_label_loss: 0.1192, \n"
     ]
    },
    {
     "name": "stdout",
     "output_type": "stream",
     "text": [
      "epoch: 2, [batch: 84 / 210], examples_per_second: 3887.0508, train_label_loss: 0.0461, \n"
     ]
    },
    {
     "name": "stdout",
     "output_type": "stream",
     "text": [
      "epoch: 2, [batch: 105 / 210], examples_per_second: 3889.6226, train_label_loss: 0.0103, \n"
     ]
    },
    {
     "name": "stdout",
     "output_type": "stream",
     "text": [
      "epoch: 2, [batch: 126 / 210], examples_per_second: 3892.0111, train_label_loss: 0.0202, \n"
     ]
    },
    {
     "name": "stdout",
     "output_type": "stream",
     "text": [
      "epoch: 2, [batch: 147 / 210], examples_per_second: 3870.0738, train_label_loss: 0.0477, \n"
     ]
    },
    {
     "name": "stdout",
     "output_type": "stream",
     "text": [
      "epoch: 2, [batch: 168 / 210], examples_per_second: 3892.7999, train_label_loss: 0.0134, \n"
     ]
    },
    {
     "name": "stdout",
     "output_type": "stream",
     "text": [
      "epoch: 2, [batch: 189 / 210], examples_per_second: 3891.9263, train_label_loss: 0.0041, \n"
     ]
    },
    {
     "name": "stdout",
     "output_type": "stream",
     "text": [
      "=============================================================\n",
      "epoch: 2, source_val_acc_label: 0.9925, target_val_acc_label: 0.7561, source_val_label_loss: 0.0288, target_val_label_loss: 3.6073, \n",
      "=============================================================\n"
     ]
    },
    {
     "name": "stdout",
     "output_type": "stream",
     "text": [
      "epoch: 3, [batch: 1 / 210], examples_per_second: 148.5827, train_label_loss: 0.0100, \n"
     ]
    },
    {
     "name": "stdout",
     "output_type": "stream",
     "text": [
      "epoch: 3, [batch: 21 / 210], examples_per_second: 3886.3366, train_label_loss: 0.0018, \n"
     ]
    },
    {
     "name": "stdout",
     "output_type": "stream",
     "text": [
      "epoch: 3, [batch: 42 / 210], examples_per_second: 3886.8698, train_label_loss: 0.0125, \n"
     ]
    },
    {
     "name": "stdout",
     "output_type": "stream",
     "text": [
      "epoch: 3, [batch: 63 / 210], examples_per_second: 3875.4393, train_label_loss: 0.0166, \n"
     ]
    },
    {
     "name": "stdout",
     "output_type": "stream",
     "text": [
      "epoch: 3, [batch: 84 / 210], examples_per_second: 3885.4650, train_label_loss: 0.0272, \n"
     ]
    },
    {
     "name": "stdout",
     "output_type": "stream",
     "text": [
      "epoch: 3, [batch: 105 / 210], examples_per_second: 3887.9182, train_label_loss: 0.0749, \n"
     ]
    },
    {
     "name": "stdout",
     "output_type": "stream",
     "text": [
      "epoch: 3, [batch: 126 / 210], examples_per_second: 3890.1949, train_label_loss: 0.0008, \n"
     ]
    },
    {
     "name": "stdout",
     "output_type": "stream",
     "text": [
      "epoch: 3, [batch: 147 / 210], examples_per_second: 3873.4636, train_label_loss: 0.0039, \n"
     ]
    },
    {
     "name": "stdout",
     "output_type": "stream",
     "text": [
      "epoch: 3, [batch: 168 / 210], examples_per_second: 3890.5054, train_label_loss: 0.0036, \n"
     ]
    },
    {
     "name": "stdout",
     "output_type": "stream",
     "text": [
      "epoch: 3, [batch: 189 / 210], examples_per_second: 3884.8239, train_label_loss: 0.0202, \n"
     ]
    },
    {
     "name": "stdout",
     "output_type": "stream",
     "text": [
      "=============================================================\n",
      "epoch: 3, source_val_acc_label: 0.9853, target_val_acc_label: 0.7744, source_val_label_loss: 0.0643, target_val_label_loss: 5.7748, \n",
      "=============================================================\n"
     ]
    }
   ],
   "source": [
    "###################################\n",
    "# train\n",
    "###################################\n",
    "jig = PTN_Train_Eval_Test_Jig(model, p.BEST_MODEL_PATH, p.device)\n",
    "\n",
    "jig.train(\n",
    "    train_iterable=datasets.source.processed.train,\n",
    "    source_val_iterable=datasets.source.processed.val,\n",
    "    target_val_iterable=datasets.target.processed.val,\n",
    "    num_epochs=p.n_epoch,\n",
    "    num_logs_per_epoch=p.NUM_LOGS_PER_EPOCH,\n",
    "    patience=p.patience,\n",
    "    optimizer=optimizer,\n",
    "    criteria_for_best=p.criteria_for_best,\n",
    ")"
   ]
  },
  {
   "cell_type": "code",
   "execution_count": 23,
   "id": "31e8fabf",
   "metadata": {
    "execution": {
     "iopub.execute_input": "2022-03-07T08:12:43.692888Z",
     "iopub.status.busy": "2022-03-07T08:12:43.692604Z",
     "iopub.status.idle": "2022-03-07T08:12:43.708892Z",
     "shell.execute_reply": "2022-03-07T08:12:43.708446Z"
    },
    "papermill": {
     "duration": 0.039685,
     "end_time": "2022-03-07T08:12:43.709002",
     "exception": false,
     "start_time": "2022-03-07T08:12:43.669317",
     "status": "completed"
    },
    "tags": []
   },
   "outputs": [],
   "source": [
    "total_experiment_time_secs = time.time() - start_time_secs"
   ]
  },
  {
   "cell_type": "code",
   "execution_count": 24,
   "id": "87b9595b",
   "metadata": {
    "execution": {
     "iopub.execute_input": "2022-03-07T08:12:43.762120Z",
     "iopub.status.busy": "2022-03-07T08:12:43.761846Z",
     "iopub.status.idle": "2022-03-07T08:12:54.540574Z",
     "shell.execute_reply": "2022-03-07T08:12:54.540280Z"
    },
    "papermill": {
     "duration": 10.805093,
     "end_time": "2022-03-07T08:12:54.540643",
     "exception": false,
     "start_time": "2022-03-07T08:12:43.735550",
     "status": "completed"
    },
    "tags": []
   },
   "outputs": [],
   "source": [
    "###################################\n",
    "# Evaluate the model\n",
    "###################################\n",
    "source_test_label_accuracy, source_test_label_loss = jig.test(datasets.source.processed.test)\n",
    "target_test_label_accuracy, target_test_label_loss = jig.test(datasets.target.processed.test)\n",
    "\n",
    "source_val_label_accuracy, source_val_label_loss = jig.test(datasets.source.processed.val)\n",
    "target_val_label_accuracy, target_val_label_loss = jig.test(datasets.target.processed.val)\n",
    "\n",
    "history = jig.get_history()\n",
    "\n",
    "total_epochs_trained = len(history[\"epoch_indices\"])\n",
    "\n",
    "val_dl = Iterable_Aggregator((datasets.source.original.val,datasets.target.original.val))\n",
    "\n",
    "confusion = ptn_confusion_by_domain_over_dataloader(model, p.device, val_dl)\n",
    "per_domain_accuracy = per_domain_accuracy_from_confusion(confusion)\n",
    "\n",
    "# Add a key to per_domain_accuracy for if it was a source domain\n",
    "for domain, accuracy in per_domain_accuracy.items():\n",
    "    per_domain_accuracy[domain] = {\n",
    "        \"accuracy\": accuracy,\n",
    "        \"source?\": domain in p.domains_source\n",
    "    }\n",
    "\n",
    "# Do an independent accuracy assesment JUST TO BE SURE!\n",
    "# _source_test_label_accuracy = independent_accuracy_assesment(model, datasets.source.processed.test, p.device)\n",
    "# _target_test_label_accuracy = independent_accuracy_assesment(model, datasets.target.processed.test, p.device)\n",
    "# _source_val_label_accuracy = independent_accuracy_assesment(model, datasets.source.processed.val, p.device)\n",
    "# _target_val_label_accuracy = independent_accuracy_assesment(model, datasets.target.processed.val, p.device)\n",
    "\n",
    "# assert(_source_test_label_accuracy == source_test_label_accuracy)\n",
    "# assert(_target_test_label_accuracy == target_test_label_accuracy)\n",
    "# assert(_source_val_label_accuracy == source_val_label_accuracy)\n",
    "# assert(_target_val_label_accuracy == target_val_label_accuracy)\n",
    "\n",
    "experiment = {\n",
    "    \"experiment_name\": p.experiment_name,\n",
    "    \"parameters\": dict(p),\n",
    "    \"results\": {\n",
    "        \"source_test_label_accuracy\": source_test_label_accuracy,\n",
    "        \"source_test_label_loss\": source_test_label_loss,\n",
    "        \"target_test_label_accuracy\": target_test_label_accuracy,\n",
    "        \"target_test_label_loss\": target_test_label_loss,\n",
    "        \"source_val_label_accuracy\": source_val_label_accuracy,\n",
    "        \"source_val_label_loss\": source_val_label_loss,\n",
    "        \"target_val_label_accuracy\": target_val_label_accuracy,\n",
    "        \"target_val_label_loss\": target_val_label_loss,\n",
    "        \"total_epochs_trained\": total_epochs_trained,\n",
    "        \"total_experiment_time_secs\": total_experiment_time_secs,\n",
    "        \"confusion\": confusion,\n",
    "        \"per_domain_accuracy\": per_domain_accuracy,\n",
    "    },\n",
    "    \"history\": history,\n",
    "    \"dataset_metrics\": get_dataset_metrics(datasets, \"ptn\"),\n",
    "}"
   ]
  },
  {
   "cell_type": "code",
   "execution_count": 25,
   "id": "54a21829",
   "metadata": {
    "execution": {
     "iopub.execute_input": "2022-03-07T08:12:54.585593Z",
     "iopub.status.busy": "2022-03-07T08:12:54.585333Z",
     "iopub.status.idle": "2022-03-07T08:12:54.760479Z",
     "shell.execute_reply": "2022-03-07T08:12:54.760123Z"
    },
    "papermill": {
     "duration": 0.198396,
     "end_time": "2022-03-07T08:12:54.760551",
     "exception": false,
     "start_time": "2022-03-07T08:12:54.562155",
     "status": "completed"
    },
    "tags": []
   },
   "outputs": [
    {
     "data": {
      "image/png": "[encoded data removed]",
      "text/plain": [
       "<Figure size 1080x504 with 1 Axes>"
      ]
     },
     "metadata": {
      "needs_background": "light"
     },
     "output_type": "display_data"
    }
   ],
   "source": [
    "ax = get_loss_curve(experiment)\n",
    "plt.show()"
   ]
  },
  {
   "cell_type": "code",
   "execution_count": 26,
   "id": "fd8a0f60",
   "metadata": {
    "execution": {
     "iopub.execute_input": "2022-03-07T08:12:54.809537Z",
     "iopub.status.busy": "2022-03-07T08:12:54.809282Z",
     "iopub.status.idle": "2022-03-07T08:12:54.985040Z",
     "shell.execute_reply": "2022-03-07T08:12:54.984804Z"
    },
    "papermill": {
     "duration": 0.19952,
     "end_time": "2022-03-07T08:12:54.985092",
     "exception": false,
     "start_time": "2022-03-07T08:12:54.785572",
     "status": "completed"
    },
    "tags": []
   },
   "outputs": [
    {
     "data": {
      "text/plain": [
       "<matplotlib.axes._subplots.AxesSubplot at 0x7f8920c43df0>"
      ]
     },
     "execution_count": 26,
     "metadata": {},
     "output_type": "execute_result"
    },
    {
     "data": {
      "image/png": "[encoded data removed]",
      "text/plain": [
       "<Figure size 1080x504 with 1 Axes>"
      ]
     },
     "metadata": {
      "needs_background": "light"
     },
     "output_type": "display_data"
    }
   ],
   "source": [
    "get_results_table(experiment)"
   ]
  },
  {
   "cell_type": "code",
   "execution_count": 27,
   "id": "cf8dc689",
   "metadata": {
    "execution": {
     "iopub.execute_input": "2022-03-07T08:12:55.034391Z",
     "iopub.status.busy": "2022-03-07T08:12:55.034138Z",
     "iopub.status.idle": "2022-03-07T08:12:55.217708Z",
     "shell.execute_reply": "2022-03-07T08:12:55.218083Z"
    },
    "papermill": {
     "duration": 0.209385,
     "end_time": "2022-03-07T08:12:55.218191",
     "exception": false,
     "start_time": "2022-03-07T08:12:55.008806",
     "status": "completed"
    },
    "tags": []
   },
   "outputs": [
    {
     "data": {
      "text/plain": [
       "<matplotlib.axes._subplots.AxesSubplot at 0x7f89207ecbb0>"
      ]
     },
     "execution_count": 27,
     "metadata": {},
     "output_type": "execute_result"
    },
    {
     "data": {
      "image/png": "[encoded data removed]",
      "text/plain": [
       "<Figure size 1080x504 with 1 Axes>"
      ]
     },
     "metadata": {
      "needs_background": "light"
     },
     "output_type": "display_data"
    }
   ],
   "source": [
    "get_domain_accuracies(experiment)"
   ]
  },
  {
   "cell_type": "code",
   "execution_count": 28,
   "id": "a74ae082",
   "metadata": {
    "execution": {
     "iopub.execute_input": "2022-03-07T08:12:55.273029Z",
     "iopub.status.busy": "2022-03-07T08:12:55.272764Z",
     "iopub.status.idle": "2022-03-07T08:12:55.286217Z",
     "shell.execute_reply": "2022-03-07T08:12:55.285951Z"
    },
    "papermill": {
     "duration": 0.039762,
     "end_time": "2022-03-07T08:12:55.286272",
     "exception": false,
     "start_time": "2022-03-07T08:12:55.246510",
     "status": "completed"
    },
    "tags": []
   },
   "outputs": [
    {
     "name": "stdout",
     "output_type": "stream",
     "text": [
      "Source Test Label Accuracy: 0.9887931034482759 Target Test Label Accuracy: 0.7244971264367817\n",
      "Source Val Label Accuracy: 0.9887931034482759 Target Val Label Accuracy: 0.7230603448275862\n"
     ]
    }
   ],
   "source": [
    "print(\"Source Test Label Accuracy:\", experiment[\"results\"][\"source_test_label_accuracy\"], \"Target Test Label Accuracy:\", experiment[\"results\"][\"target_test_label_accuracy\"])\n",
    "print(\"Source Val Label Accuracy:\", experiment[\"results\"][\"source_val_label_accuracy\"], \"Target Val Label Accuracy:\", experiment[\"results\"][\"target_val_label_accuracy\"])"
   ]
  },
  {
   "cell_type": "code",
   "execution_count": 29,
   "id": "dacca602",
   "metadata": {
    "execution": {
     "iopub.execute_input": "2022-03-07T08:12:55.340397Z",
     "iopub.status.busy": "2022-03-07T08:12:55.340140Z",
     "iopub.status.idle": "2022-03-07T08:12:55.351366Z",
     "shell.execute_reply": "2022-03-07T08:12:55.351581Z"
    },
    "papermill": {
     "duration": 0.037587,
     "end_time": "2022-03-07T08:12:55.351643",
     "exception": false,
     "start_time": "2022-03-07T08:12:55.314056",
     "status": "completed"
    },
    "tags": [
     "experiment_json"
    ]
   },
   "outputs": [
    {
     "data": {
      "text/plain": [
       "'{\"experiment_name\": \"tl_1_cores-wisig\", \"parameters\": {\"experiment_name\": \"tl_1_cores-wisig\", \"device\": \"cuda\", \"lr\": 0.001, \"seed\": 1337, \"dataset_seed\": 1337, \"n_shot\": 3, \"n_query\": 2, \"train_k_factor\": 3, \"val_k_factor\": 2, \"test_k_factor\": 2, \"torch_default_dtype\": \"torch.float32\", \"n_epoch\": 3, \"patience\": 3, \"criteria_for_best\": \"target_loss\", \"x_net\": [{\"class\": \"nnReshape\", \"kargs\": {\"shape\": [-1, 1, 2, 256]}}, {\"class\": \"Conv2d\", \"kargs\": {\"in_channels\": 1, \"out_channels\": 256, \"kernel_size\": [1, 7], \"bias\": false, \"padding\": [0, 3]}}, {\"class\": \"ReLU\", \"kargs\": {\"inplace\": true}}, {\"class\": \"BatchNorm2d\", \"kargs\": {\"num_features\": 256}}, {\"class\": \"Conv2d\", \"kargs\": {\"in_channels\": 256, \"out_channels\": 80, \"kernel_size\": [2, 7], \"bias\": true, \"padding\": [0, 3]}}, {\"class\": \"ReLU\", \"kargs\": {\"inplace\": true}}, {\"class\": \"BatchNorm2d\", \"kargs\": {\"num_features\": 80}}, {\"class\": \"Flatten\", \"kargs\": {}}, {\"class\": \"Linear\", \"kargs\": {\"in_features\": 20480, \"out_features\": 256}}, {\"class\": \"ReLU\", \"kargs\": {\"inplace\": true}}, {\"class\": \"BatchNorm1d\", \"kargs\": {\"num_features\": 256}}, {\"class\": \"Linear\", \"kargs\": {\"in_features\": 256, \"out_features\": 256}}], \"NUM_LOGS_PER_EPOCH\": 10, \"BEST_MODEL_PATH\": \"./best_model.pth\", \"n_way\": 58, \"datasets\": [{\"labels\": [\"1-10.\", \"1-11.\", \"1-15.\", \"1-16.\", \"1-17.\", \"1-18.\", \"1-19.\", \"10-4.\", \"10-7.\", \"11-1.\", \"11-14.\", \"11-17.\", \"11-20.\", \"11-7.\", \"13-20.\", \"13-8.\", \"14-10.\", \"14-11.\", \"14-14.\", \"14-7.\", \"15-1.\", \"15-20.\", \"16-1.\", \"16-16.\", \"17-10.\", \"17-11.\", \"17-2.\", \"19-1.\", \"19-16.\", \"19-19.\", \"19-20.\", \"19-3.\", \"2-10.\", \"2-11.\", \"2-17.\", \"2-18.\", \"2-20.\", \"2-3.\", \"2-4.\", \"2-5.\", \"2-6.\", \"2-7.\", \"2-8.\", \"3-13.\", \"3-18.\", \"3-3.\", \"4-1.\", \"4-10.\", \"4-11.\", \"4-19.\", \"5-5.\", \"6-15.\", \"7-10.\", \"7-14.\", \"8-18.\", \"8-20.\", \"8-3.\", \"8-8.\"], \"domains\": [1, 2, 3, 4, 5], \"num_examples_per_domain_per_label\": 100, \"pickle_path\": \"/mnt/wd500GB/CSC500/csc500-main/datasets/cores.stratified_ds.2022A.pkl\", \"source_or_target_dataset\": \"source\", \"x_transforms\": [], \"episode_transforms\": [], \"domain_prefix\": \"CORES_\"}, {\"labels\": [\"1-10\", \"1-12\", \"1-14\", \"1-16\", \"1-18\", \"1-19\", \"1-8\", \"10-11\", \"10-17\", \"10-4\", \"10-7\", \"11-1\", \"11-10\", \"11-19\", \"11-20\", \"11-4\", \"11-7\", \"12-19\", \"12-20\", \"12-7\", \"13-14\", \"13-18\", \"13-19\", \"13-20\", \"13-3\", \"13-7\", \"14-10\", \"14-11\", \"14-12\", \"14-13\", \"14-14\", \"14-19\", \"14-20\", \"14-7\", \"14-8\", \"14-9\", \"15-1\", \"15-19\", \"15-6\", \"16-1\", \"16-16\", \"16-19\", \"16-20\", \"17-10\", \"17-11\", \"18-1\", \"18-10\", \"18-11\", \"18-12\", \"18-13\", \"18-14\", \"18-15\", \"18-16\", \"18-17\", \"18-19\", \"18-2\", \"18-20\", \"18-4\", \"18-5\", \"18-7\", \"18-8\", \"18-9\", \"19-1\", \"19-10\", \"19-11\", \"19-12\", \"19-13\", \"19-14\", \"19-15\", \"19-19\", \"19-2\", \"19-20\", \"19-3\", \"19-4\", \"19-6\", \"19-7\", \"19-8\", \"19-9\", \"2-1\", \"2-13\", \"2-15\", \"2-3\", \"2-4\", \"2-5\", \"2-6\", \"2-7\", \"2-8\", \"20-1\", \"20-12\", \"20-14\", \"20-15\", \"20-16\", \"20-18\", \"20-19\", \"20-20\", \"20-3\", \"20-4\", \"20-5\", \"20-7\", \"20-8\", \"3-1\", \"3-13\", \"3-18\", \"3-2\", \"3-8\", \"4-1\", \"4-10\", \"4-11\", \"5-1\", \"5-5\", \"6-1\", \"6-15\", \"6-6\", \"7-10\", \"7-11\", \"7-12\", \"7-13\", \"7-14\", \"7-7\", \"7-8\", \"7-9\", \"8-1\", \"8-13\", \"8-14\", \"8-18\", \"8-20\", \"8-3\", \"8-8\", \"9-1\", \"9-7\"], \"domains\": [1, 2, 3, 4], \"num_examples_per_domain_per_label\": 100, \"pickle_path\": \"/mnt/wd500GB/CSC500/csc500-main/datasets/wisig.node3-19.stratified_ds.2022A.pkl\", \"source_or_target_dataset\": \"target\", \"x_transforms\": [], \"episode_transforms\": [], \"domain_prefix\": \"Wisig_\"}], \"domains_source\": [\"CORES_1\", \"CORES_2\", \"CORES_3\", \"CORES_4\", \"CORES_5\"], \"domains_target\": [\"Wisig_1\", \"Wisig_2\", \"Wisig_3\", \"Wisig_4\"]}, \"results\": {\"source_test_label_accuracy\": 0.9887931034482759, \"source_test_label_loss\": 0.04407152906060219, \"target_test_label_accuracy\": 0.7244971264367817, \"target_test_label_loss\": 3.175337553024292, \"source_val_label_accuracy\": 0.9887931034482759, \"source_val_label_loss\": 0.0377376414835453, \"target_val_label_accuracy\": 0.7230603448275862, \"target_val_label_loss\": 3.018003225326538, \"total_epochs_trained\": 3, \"total_experiment_time_secs\": 57.766977310180664, \"confusion\": {\"CORES_3\": {\"1\": {\"1\": 12}, \"28\": {\"28\": 12}, \"21\": {\"21\": 12}, \"27\": {\"27\": 12}, \"20\": {\"20\": 12}, \"16\": {\"16\": 12}, \"48\": {\"48\": 12}, \"42\": {\"42\": 12}, \"45\": {\"45\": 12}, \"41\": {\"41\": 11, \"48\": 1}, \"13\": {\"13\": 12}, \"50\": {\"50\": 12}, \"32\": {\"32\": 12}, \"51\": {\"51\": 12}, \"30\": {\"30\": 12}, \"38\": {\"38\": 12}, \"7\": {\"7\": 12}, \"22\": {\"22\": 12}, \"37\": {\"37\": 12}, \"33\": {\"33\": 12}, \"6\": {\"6\": 12}, \"14\": {\"14\": 12}, \"40\": {\"40\": 12}, \"55\": {\"55\": 12}, \"2\": {\"2\": 12}, \"39\": {\"39\": 12}, \"56\": {\"56\": 12}, \"17\": {\"17\": 12}, \"10\": {\"10\": 12}, \"9\": {\"9\": 12}, \"31\": {\"31\": 12}, \"12\": {\"12\": 12}, \"25\": {\"25\": 12}, \"0\": {\"0\": 12}, \"47\": {\"47\": 12}, \"44\": {\"44\": 12}, \"23\": {\"23\": 12}, \"15\": {\"15\": 12}, \"8\": {\"8\": 12}, \"54\": {\"54\": 12}, \"52\": {\"52\": 12}, \"29\": {\"29\": 12}, \"5\": {\"5\": 12}, \"34\": {\"34\": 12}, \"35\": {\"35\": 12}, \"26\": {\"26\": 12}, \"57\": {\"57\": 12}, \"53\": {\"53\": 12}, \"36\": {\"36\": 12}, \"18\": {\"18\": 12}, \"49\": {\"49\": 12}, \"3\": {\"3\": 12}, \"4\": {\"4\": 12}, \"24\": {\"24\": 12}, \"11\": {\"11\": 12}, \"19\": {\"19\": 12}, \"43\": {\"43\": 12}, \"46\": {\"46\": 12}}, \"CORES_4\": {\"9\": {\"9\": 12}, \"4\": {\"4\": 12}, \"20\": {\"20\": 12}, \"26\": {\"26\": 12}, \"19\": {\"19\": 11, \"28\": 1}, \"35\": {\"35\": 12}, \"14\": {\"14\": 7, \"57\": 3, \"38\": 1, \"2\": 1}, \"10\": {\"10\": 12}, \"1\": {\"1\": 12}, \"3\": {\"3\": 12}, \"29\": {\"29\": 12}, \"47\": {\"47\": 12}, \"50\": {\"50\": 10, \"3\": 2}, \"51\": {\"51\": 12}, \"55\": {\"55\": 12}, \"27\": {\"27\": 12}, \"31\": {\"31\": 12}, \"30\": {\"30\": 12}, \"37\": {\"37\": 11, \"49\": 1}, \"36\": {\"36\": 12}, \"48\": {\"48\": 12}, \"46\": {\"46\": 12}, \"25\": {\"25\": 10, \"26\": 2}, \"53\": {\"53\": 12}, \"0\": {\"0\": 12}, \"8\": {\"8\": 12}, \"15\": {\"15\": 11, \"11\": 1}, \"22\": {\"22\": 12}, \"45\": {\"45\": 12}, \"43\": {\"43\": 12}, \"12\": {\"12\": 12}, \"24\": {\"24\": 12}, \"11\": {\"11\": 9, \"10\": 2, \"15\": 1}, \"44\": {\"44\": 12}, \"5\": {\"5\": 12}, \"6\": {\"6\": 12}, \"49\": {\"49\": 12}, \"2\": {\"2\": 12}, \"18\": {\"18\": 12}, \"54\": {\"54\": 12}, \"41\": {\"41\": 12}, \"38\": {\"38\": 12}, \"34\": {\"34\": 12}, \"21\": {\"21\": 12}, \"57\": {\"57\": 12}, \"33\": {\"33\": 12}, \"17\": {\"17\": 12}, \"40\": {\"40\": 12}, \"28\": {\"28\": 12}, \"16\": {\"16\": 12}, \"56\": {\"56\": 12}, \"39\": {\"39\": 12}, \"13\": {\"13\": 12}, \"23\": {\"23\": 12}, \"7\": {\"7\": 12}, \"52\": {\"52\": 12}, \"42\": {\"42\": 11, \"23\": 1}, \"32\": {\"32\": 12}}, \"CORES_2\": {\"16\": {\"16\": 12}, \"31\": {\"31\": 12}, \"29\": {\"29\": 12}, \"54\": {\"54\": 12}, \"52\": {\"52\": 12}, \"27\": {\"27\": 12}, \"37\": {\"37\": 12}, \"12\": {\"12\": 12}, \"0\": {\"0\": 12}, \"43\": {\"43\": 12}, \"21\": {\"21\": 12}, \"47\": {\"47\": 12}, \"56\": {\"56\": 12}, \"26\": {\"26\": 12}, \"28\": {\"28\": 12}, \"48\": {\"48\": 12}, \"40\": {\"40\": 12}, \"5\": {\"5\": 12}, \"17\": {\"17\": 12}, \"9\": {\"9\": 12}, \"30\": {\"30\": 12}, \"24\": {\"24\": 12}, \"32\": {\"32\": 12}, \"39\": {\"39\": 12}, \"8\": {\"8\": 12}, \"13\": {\"13\": 12}, \"23\": {\"23\": 12}, \"35\": {\"35\": 12}, \"4\": {\"4\": 12}, \"19\": {\"19\": 12}, \"25\": {\"25\": 12}, \"14\": {\"14\": 10, \"38\": 2}, \"34\": {\"34\": 12}, \"45\": {\"45\": 12}, \"2\": {\"2\": 12}, \"41\": {\"41\": 9, \"30\": 3}, \"6\": {\"6\": 12}, \"7\": {\"7\": 12}, \"55\": {\"55\": 12}, \"22\": {\"22\": 11, \"56\": 1}, \"3\": {\"3\": 12}, \"15\": {\"15\": 12}, \"53\": {\"53\": 12}, \"42\": {\"42\": 12}, \"51\": {\"51\": 12}, \"38\": {\"38\": 12}, \"1\": {\"1\": 11, \"47\": 1}, \"10\": {\"10\": 12}, \"49\": {\"49\": 12}, \"36\": {\"36\": 12}, \"11\": {\"11\": 12}, \"46\": {\"46\": 12}, \"44\": {\"44\": 12}, \"57\": {\"57\": 12}, \"33\": {\"33\": 12}, \"18\": {\"18\": 12}, \"50\": {\"50\": 11, \"3\": 1}, \"20\": {\"20\": 12}}, \"CORES_1\": {\"32\": {\"32\": 12}, \"53\": {\"53\": 12}, \"27\": {\"27\": 12}, \"2\": {\"2\": 12}, \"37\": {\"37\": 12}, \"34\": {\"34\": 12}, \"0\": {\"0\": 12}, \"25\": {\"25\": 12}, \"54\": {\"54\": 12}, \"6\": {\"6\": 10, \"46\": 2}, \"11\": {\"11\": 12}, \"36\": {\"36\": 12}, \"28\": {\"28\": 12}, \"18\": {\"18\": 12}, \"16\": {\"16\": 12}, \"33\": {\"33\": 12}, \"3\": {\"3\": 10, \"44\": 2}, \"5\": {\"5\": 12}, \"29\": {\"29\": 12}, \"14\": {\"14\": 11, \"30\": 1}, \"38\": {\"38\": 12}, \"7\": {\"7\": 12}, \"9\": {\"9\": 12}, \"24\": {\"24\": 12}, \"12\": {\"12\": 12}, \"49\": {\"49\": 12}, \"46\": {\"46\": 11, \"6\": 1}, \"55\": {\"55\": 12}, \"1\": {\"1\": 12}, \"31\": {\"31\": 12}, \"8\": {\"8\": 12}, \"10\": {\"10\": 12}, \"22\": {\"22\": 12}, \"43\": {\"43\": 12}, \"51\": {\"51\": 12}, \"35\": {\"35\": 12}, \"13\": {\"13\": 12}, \"50\": {\"50\": 12}, \"15\": {\"15\": 12}, \"30\": {\"30\": 12}, \"47\": {\"47\": 12}, \"26\": {\"26\": 12}, \"20\": {\"20\": 12}, \"52\": {\"52\": 12}, \"57\": {\"57\": 11, \"29\": 1}, \"39\": {\"39\": 12}, \"23\": {\"23\": 12}, \"21\": {\"21\": 12}, \"42\": {\"42\": 12}, \"45\": {\"45\": 12}, \"48\": {\"48\": 12}, \"40\": {\"40\": 12}, \"17\": {\"17\": 12}, \"4\": {\"4\": 12}, \"19\": {\"19\": 12}, \"41\": {\"41\": 11, \"9\": 1}, \"44\": {\"44\": 12}, \"56\": {\"56\": 12}}, \"CORES_5\": {\"19\": {\"19\": 12}, \"34\": {\"34\": 12}, \"20\": {\"20\": 12}, \"14\": {\"14\": 12}, \"0\": {\"0\": 12}, \"2\": {\"2\": 12}, \"27\": {\"27\": 12}, \"15\": {\"15\": 12}, \"57\": {\"57\": 12}, \"55\": {\"55\": 12}, \"26\": {\"26\": 12}, \"51\": {\"51\": 12}, \"54\": {\"54\": 12}, \"47\": {\"47\": 12}, \"24\": {\"24\": 12}, \"12\": {\"12\": 12}, \"32\": {\"32\": 12}, \"18\": {\"18\": 12}, \"4\": {\"4\": 12}, \"3\": {\"3\": 12}, \"43\": {\"43\": 12}, \"40\": {\"40\": 12}, \"31\": {\"31\": 12}, \"1\": {\"1\": 12}, \"30\": {\"30\": 12}, \"29\": {\"29\": 12}, \"25\": {\"25\": 12}, \"33\": {\"33\": 12}, \"6\": {\"6\": 11, \"50\": 1}, \"48\": {\"48\": 12}, \"21\": {\"21\": 12}, \"36\": {\"36\": 12}, \"46\": {\"46\": 12}, \"13\": {\"13\": 12}, \"10\": {\"10\": 12}, \"45\": {\"45\": 10, \"6\": 2}, \"35\": {\"35\": 12}, \"53\": {\"53\": 12}, \"16\": {\"16\": 12}, \"23\": {\"23\": 12}, \"11\": {\"11\": 12}, \"17\": {\"17\": 12}, \"37\": {\"37\": 11, \"36\": 1}, \"9\": {\"9\": 12}, \"28\": {\"28\": 12}, \"39\": {\"39\": 12}, \"52\": {\"52\": 12}, \"42\": {\"42\": 12}, \"5\": {\"5\": 12}, \"50\": {\"50\": 12}, \"7\": {\"7\": 12}, \"41\": {\"41\": 11, \"39\": 1}, \"22\": {\"22\": 12}, \"49\": {\"49\": 12}, \"44\": {\"44\": 11, \"3\": 1}, \"56\": {\"56\": 12}, \"38\": {\"38\": 12}, \"8\": {\"8\": 12}}, \"Wisig_3\": {\"36\": {\"27\": 3, \"36\": 5}, \"123\": {\"123\": 11, \"120\": 1}, \"53\": {\"53\": 6, \"29\": 2, \"20\": 1, \"128\": 1, \"90\": 2}, \"24\": {\"27\": 3, \"24\": 7, \"54\": 2}, \"8\": {\"8\": 11, \"49\": 1}, \"49\": {\"110\": 1, \"122\": 1, \"49\": 5, \"97\": 1, \"114\": 1, \"12\": 1, \"44\": 1, \"8\": 1}, \"74\": {\"74\": 7, \"9\": 2, \"57\": 1}, \"93\": {\"93\": 12}, \"104\": {\"48\": 1, \"104\": 5, \"82\": 1, \"115\": 1, \"45\": 1, \"68\": 1}, \"122\": {\"110\": 8, \"122\": 1, \"87\": 1}, \"78\": {\"88\": 1, \"78\": 7, \"21\": 2, \"70\": 2}, \"21\": {\"21\": 12}, \"22\": {\"22\": 8, \"63\": 1, \"120\": 1, \"116\": 1, \"115\": 1}, \"27\": {\"27\": 11, \"24\": 1}, \"124\": {\"52\": 1, \"124\": 6, \"5\": 2, \"129\": 1}, \"35\": {\"35\": 6, \"99\": 2, \"57\": 1, \"51\": 1}, \"37\": {\"37\": 5, \"21\": 1}, \"45\": {\"45\": 10, \"82\": 1, \"116\": 1}, \"55\": {\"55\": 12}, \"110\": {\"110\": 9, \"122\": 1}, \"2\": {\"2\": 6, \"117\": 3, \"61\": 1, \"102\": 1, \"121\": 1}, \"23\": {\"8\": 1, \"0\": 2, \"23\": 3, \"113\": 3, \"14\": 1, \"101\": 1, \"118\": 1}, \"29\": {\"29\": 12}, \"90\": {\"90\": 11, \"53\": 1}, \"127\": {\"127\": 12}, \"13\": {\"123\": 3, \"4\": 1, \"82\": 1, \"13\": 3, \"17\": 2, \"39\": 1, \"117\": 1}, \"48\": {\"79\": 1, \"45\": 1, \"67\": 2, \"63\": 1, \"48\": 2, \"58\": 1, \"102\": 1, \"68\": 1, \"41\": 2}, \"105\": {\"105\": 8}, \"50\": {\"45\": 1, \"55\": 1, \"50\": 5, \"82\": 2, \"32\": 1}, \"52\": {\"85\": 3, \"52\": 5, \"58\": 1, \"46\": 1, \"98\": 1, \"73\": 1}, \"9\": {\"9\": 10, \"103\": 1, \"99\": 1}, \"94\": {\"94\": 10}, \"14\": {\"14\": 7, \"13\": 1, \"107\": 3, \"40\": 1}, \"98\": {\"49\": 1, \"98\": 11}, \"64\": {\"64\": 9, \"116\": 2, \"45\": 1}, \"97\": {\"97\": 10, \"94\": 1, \"15\": 1}, \"117\": {\"2\": 2, \"117\": 6, \"76\": 1, \"121\": 1}, \"85\": {\"85\": 3, \"52\": 4, \"25\": 1, \"111\": 1, \"77\": 1}, \"44\": {\"44\": 7, \"92\": 1, \"2\": 1, \"76\": 1, \"31\": 1, \"114\": 1}, \"80\": {\"80\": 10, \"119\": 1, \"70\": 1}, \"16\": {\"16\": 8, \"96\": 2, \"93\": 2}, \"103\": {\"98\": 1, \"41\": 1, \"103\": 8, \"111\": 1, \"129\": 1}, \"40\": {\"40\": 9, \"105\": 1, \"32\": 1, \"9\": 1}, \"30\": {\"30\": 12}, \"6\": {\"6\": 12}, \"108\": {\"108\": 12}, \"33\": {\"33\": 12}, \"96\": {\"96\": 12}, \"79\": {\"79\": 9, \"80\": 1}, \"109\": {\"109\": 6, \"43\": 2}, \"81\": {\"81\": 12}, \"88\": {\"88\": 9, \"24\": 1}, \"41\": {\"98\": 1, \"41\": 7, \"68\": 1, \"58\": 1, \"103\": 1, \"19\": 1}, \"70\": {\"70\": 11, \"24\": 1}, \"76\": {\"76\": 12}, \"5\": {\"5\": 11, \"112\": 1}, \"0\": {\"0\": 12}, \"4\": {\"4\": 7, \"17\": 1, \"59\": 1, \"79\": 1}, \"86\": {\"86\": 7, \"68\": 1, \"4\": 1, \"111\": 1}, \"69\": {\"69\": 12}, \"26\": {\"26\": 8}, \"120\": {\"67\": 2, \"120\": 4, \"14\": 2}, \"84\": {\"105\": 1, \"84\": 3, \"31\": 1, \"108\": 1}, \"12\": {\"12\": 8, \"97\": 1, \"101\": 1}, \"32\": {\"31\": 1, \"55\": 3, \"33\": 1, \"32\": 2, \"107\": 1, \"82\": 1, \"9\": 2, \"40\": 1}, \"89\": {\"89\": 9, \"65\": 1, \"26\": 1, \"50\": 1}, \"129\": {\"129\": 9, \"5\": 1, \"126\": 1, \"115\": 1}, \"125\": {\"125\": 11, \"59\": 1}, \"116\": {\"82\": 1, \"116\": 4, \"115\": 2, \"45\": 1}, \"19\": {\"128\": 1, \"46\": 2, \"19\": 4, \"53\": 1, \"103\": 1, \"100\": 2, \"90\": 1}, \"71\": {\"71\": 5, \"3\": 2, \"121\": 1, \"114\": 1, \"127\": 1}, \"72\": {\"72\": 9, \"3\": 1}, \"100\": {\"32\": 2, \"100\": 5, \"1\": 1, \"107\": 2, \"19\": 1, \"31\": 1}, \"20\": {\"20\": 6, \"114\": 1, \"31\": 1, \"53\": 1, \"49\": 1}, \"65\": {\"56\": 1, \"128\": 1, \"65\": 6, \"32\": 1, \"61\": 1}, \"121\": {\"121\": 8, \"120\": 1, \"61\": 1}, \"34\": {\"75\": 4, \"34\": 3, \"28\": 1, \"44\": 1, \"84\": 1, \"94\": 2}, \"119\": {\"48\": 2, \"119\": 3, \"63\": 2, \"80\": 1, \"79\": 2}, \"75\": {\"75\": 8, \"106\": 3, \"15\": 1}, \"1\": {\"1\": 9, \"114\": 2, \"31\": 1}, \"113\": {\"113\": 10}, \"39\": {\"39\": 11, \"78\": 1}, \"82\": {\"82\": 8, \"50\": 2, \"45\": 2}, \"67\": {\"67\": 6}, \"63\": {\"63\": 8, \"17\": 2}, \"31\": {\"31\": 8, \"44\": 2, \"1\": 1, \"129\": 1}, \"38\": {\"38\": 9, \"59\": 1, \"32\": 1, \"125\": 1}, \"17\": {\"119\": 1, \"39\": 1, \"111\": 1, \"17\": 4, \"63\": 1, \"78\": 1, \"13\": 1, \"123\": 1, \"126\": 1}, \"106\": {\"106\": 7, \"47\": 1}, \"91\": {\"46\": 1, \"91\": 5, \"41\": 1, \"103\": 1, \"74\": 1, \"58\": 1, \"77\": 2}, \"56\": {\"56\": 8, \"128\": 1, \"34\": 1}, \"46\": {\"46\": 10, \"128\": 1, \"44\": 1}, \"128\": {\"32\": 1, \"128\": 7, \"66\": 1, \"107\": 1}, \"66\": {\"66\": 11, \"65\": 1}, \"10\": {\"10\": 12}, \"62\": {\"62\": 10}, \"112\": {\"112\": 9, \"30\": 1, \"111\": 1, \"94\": 1}, \"47\": {\"47\": 12}, \"107\": {\"107\": 10, \"44\": 1, \"31\": 1}, \"28\": {\"28\": 6, \"41\": 1, \"5\": 1}, \"95\": {\"95\": 12}, \"18\": {\"18\": 10}, \"114\": {\"47\": 1, \"114\": 7, \"1\": 3, \"44\": 1}, \"102\": {\"102\": 11, \"45\": 1}, \"68\": {\"68\": 9, \"86\": 2, \"77\": 1}, \"126\": {\"39\": 2, \"126\": 6}, \"111\": {\"111\": 12}, \"3\": {\"3\": 7, \"21\": 1, \"127\": 2}, \"83\": {\"54\": 2, \"83\": 5, \"25\": 1}, \"59\": {\"59\": 10, \"97\": 1, \"6\": 1}, \"54\": {\"54\": 10, \"25\": 1, \"91\": 1}, \"115\": {\"115\": 7, \"104\": 1, \"22\": 1, \"102\": 1}, \"57\": {\"57\": 7, \"74\": 1, \"107\": 2}, \"92\": {\"92\": 7, \"32\": 1}, \"73\": {\"73\": 7, \"58\": 2, \"6\": 1}, \"58\": {\"58\": 11, \"128\": 1}, \"61\": {\"61\": 9, \"121\": 1}, \"60\": {\"60\": 8}, \"99\": {\"9\": 1, \"99\": 6, \"114\": 1, \"127\": 2}, \"25\": {\"112\": 1, \"25\": 5, \"22\": 1, \"6\": 1, \"54\": 2}, \"87\": {\"87\": 8, \"78\": 1, \"122\": 1}, \"7\": {\"7\": 10}, \"101\": {\"101\": 7, \"99\": 1}, \"51\": {\"101\": 1, \"51\": 7, \"97\": 1, \"34\": 1}, \"15\": {\"15\": 9, \"97\": 1}, \"43\": {\"11\": 1, \"43\": 7}, \"118\": {\"118\": 5, \"113\": 1}, \"42\": {\"85\": 3, \"42\": 5}, \"11\": {\"11\": 7, \"43\": 1}, \"77\": {\"77\": 8}}, \"Wisig_2\": {\"37\": {\"37\": 12}, \"101\": {\"101\": 10, \"49\": 1, \"3\": 1}, \"83\": {\"83\": 11, \"44\": 1}, \"95\": {\"95\": 7, \"40\": 1, \"110\": 1, \"33\": 1}, \"122\": {\"8\": 2, \"110\": 3, \"122\": 7}, \"18\": {\"18\": 12}, \"9\": {\"9\": 11, \"58\": 1}, \"57\": {\"57\": 5, \"96\": 1, \"99\": 1, \"81\": 1}, \"93\": {\"93\": 9, \"96\": 2, \"23\": 1}, \"64\": {\"64\": 10, \"92\": 1, \"89\": 1}, \"70\": {\"39\": 3, \"70\": 5, \"109\": 1, \"88\": 1, \"78\": 1, \"20\": 1}, \"36\": {\"36\": 7, \"94\": 1}, \"109\": {\"39\": 5, \"109\": 6, \"88\": 1}, \"92\": {\"64\": 2, \"89\": 2, \"88\": 1, \"92\": 2, \"16\": 2, \"67\": 1}, \"28\": {\"83\": 1, \"28\": 3, \"90\": 1, \"19\": 1, \"103\": 1, \"66\": 3}, \"39\": {\"39\": 8, \"109\": 4}, \"47\": {\"21\": 1, \"119\": 1, \"47\": 4, \"85\": 1, \"88\": 1, \"100\": 2, \"44\": 2}, \"127\": {\"127\": 10}, \"6\": {\"6\": 11, \"59\": 1}, \"13\": {\"13\": 7, \"116\": 2, \"102\": 1, \"2\": 2}, \"14\": {\"1\": 3, \"21\": 1, \"62\": 1, \"14\": 5, \"88\": 1, \"39\": 1}, \"110\": {\"110\": 9, \"15\": 1, \"3\": 2}, \"62\": {\"62\": 10}, \"59\": {\"59\": 5, \"103\": 2, \"111\": 2, \"79\": 1}, \"10\": {\"10\": 6, \"43\": 2}, \"41\": {\"25\": 1, \"41\": 3, \"109\": 1, \"98\": 1, \"91\": 1, \"77\": 1, \"6\": 1, \"125\": 1, \"28\": 2}, \"25\": {\"25\": 5, \"41\": 2, \"77\": 3, \"6\": 2}, \"45\": {\"37\": 1, \"45\": 8, \"21\": 1}, \"1\": {\"1\": 10}, \"61\": {\"61\": 6, \"21\": 1, \"38\": 1, \"40\": 1, \"116\": 1}, \"3\": {\"3\": 9, \"71\": 2, \"21\": 1}, \"35\": {\"35\": 9, \"76\": 1, \"7\": 1, \"127\": 1}, \"126\": {\"126\": 12}, \"90\": {\"90\": 11, \"83\": 1}, \"58\": {\"58\": 8, \"41\": 1, \"112\": 1, \"34\": 1, \"77\": 1}, \"74\": {\"74\": 5, \"105\": 2, \"28\": 1, \"40\": 2, \"32\": 2}, \"27\": {\"27\": 10}, \"60\": {\"60\": 8, \"23\": 2}, \"123\": {\"123\": 8}, \"50\": {\"50\": 8, \"55\": 2, \"67\": 1, \"32\": 1}, \"84\": {\"21\": 1, \"84\": 9, \"33\": 1, \"62\": 1}, \"128\": {\"58\": 3, \"128\": 7, \"19\": 1, \"49\": 1}, \"72\": {\"18\": 2, \"109\": 1, \"72\": 6, \"16\": 1, \"26\": 2}, \"96\": {\"96\": 9, \"93\": 3}, \"119\": {\"119\": 7, \"124\": 2, \"42\": 1}, \"56\": {\"9\": 1, \"114\": 1, \"71\": 1, \"56\": 4, \"112\": 1, \"58\": 1, \"35\": 1}, \"98\": {\"70\": 1, \"98\": 9, \"77\": 2}, \"87\": {\"87\": 6, \"43\": 2}, \"40\": {\"40\": 12}, \"114\": {\"114\": 12}, \"55\": {\"55\": 7, \"50\": 1}, \"8\": {\"18\": 1, \"8\": 9, \"11\": 2}, \"79\": {\"79\": 9, \"17\": 1}, \"112\": {\"112\": 3, \"25\": 1, \"103\": 1, \"85\": 2, \"58\": 1, \"29\": 1, \"124\": 1, \"129\": 2}, \"21\": {\"21\": 12}, \"42\": {\"112\": 3, \"42\": 8, \"25\": 1}, \"5\": {\"5\": 9, \"129\": 1, \"46\": 1, \"85\": 1}, \"22\": {\"37\": 1, \"22\": 10, \"17\": 1}, \"73\": {\"73\": 10, \"114\": 1, \"19\": 1}, \"69\": {\"69\": 10, \"96\": 1, \"8\": 1}, \"108\": {\"108\": 8}, \"118\": {\"118\": 9, \"93\": 2, \"21\": 1}, \"4\": {\"4\": 8, \"79\": 1, \"115\": 1, \"59\": 1, \"6\": 1}, \"49\": {\"49\": 5, \"128\": 2, \"11\": 1, \"106\": 1, \"58\": 1, \"101\": 2}, \"99\": {\"20\": 1, \"99\": 11}, \"66\": {\"66\": 9, \"45\": 1}, \"116\": {\"116\": 7, \"67\": 1, \"45\": 2}, \"67\": {\"82\": 2, \"102\": 3, \"67\": 4, \"104\": 2, \"39\": 1}, \"15\": {\"15\": 11, \"97\": 1}, \"63\": {\"63\": 8}, \"26\": {\"26\": 10}, \"24\": {\"24\": 12}, \"103\": {\"103\": 2, \"91\": 2, \"68\": 4, \"28\": 1, \"111\": 1}, \"38\": {\"38\": 7, \"68\": 2, \"73\": 1}, \"71\": {\"71\": 6, \"117\": 1, \"101\": 1, \"21\": 1, \"3\": 2, \"39\": 1}, \"75\": {\"75\": 6, \"21\": 1, \"58\": 1, \"98\": 1, \"9\": 1}, \"44\": {\"44\": 11, \"47\": 1}, \"104\": {\"104\": 10, \"67\": 1, \"66\": 1}, \"23\": {\"113\": 4, \"122\": 1, \"81\": 1, \"11\": 2, \"18\": 1, \"0\": 1, \"20\": 1, \"99\": 1}, \"105\": {\"105\": 11, \"35\": 1}, \"30\": {\"30\": 9, \"11\": 2, \"21\": 1}, \"120\": {\"120\": 11, \"121\": 1}, \"113\": {\"113\": 10, \"109\": 1, \"88\": 1}, \"53\": {\"49\": 2, \"19\": 2, \"53\": 6, \"88\": 1, \"24\": 1}, \"91\": {\"103\": 1, \"25\": 1, \"91\": 4, \"68\": 2, \"111\": 1, \"98\": 1}, \"89\": {\"22\": 1, \"89\": 7, \"64\": 4}, \"117\": {\"117\": 6, \"120\": 4, \"2\": 2}, \"82\": {\"82\": 9, \"83\": 1}, \"20\": {\"96\": 3, \"20\": 7, \"100\": 2}, \"34\": {\"38\": 2, \"47\": 1, \"75\": 2, \"34\": 4, \"106\": 1}, \"7\": {\"7\": 10}, \"80\": {\"80\": 11, \"102\": 1}, \"115\": {\"115\": 6, \"67\": 1, \"88\": 1, \"79\": 2}, \"76\": {\"66\": 1, \"76\": 2, \"89\": 1, \"92\": 4, \"31\": 2}, \"102\": {\"102\": 12}, \"19\": {\"44\": 1, \"123\": 1, \"19\": 6, \"47\": 1, \"101\": 1}, \"97\": {\"106\": 3, \"97\": 6, \"11\": 1}, \"121\": {\"120\": 1, \"121\": 4, \"65\": 3, \"92\": 1, \"71\": 1}, \"68\": {\"68\": 9, \"38\": 1}, \"12\": {\"127\": 2, \"97\": 1, \"12\": 6, \"110\": 1, \"106\": 2}, \"29\": {\"98\": 2, \"29\": 9, \"71\": 1}, \"31\": {\"76\": 2, \"55\": 1, \"89\": 1, \"50\": 1, \"31\": 5, \"69\": 1, \"64\": 1}, \"65\": {\"65\": 8, \"117\": 2}, \"33\": {\"33\": 10}, \"106\": {\"106\": 10}, \"17\": {\"17\": 6, \"91\": 1, \"21\": 3, \"88\": 1, \"86\": 1}, \"85\": {\"123\": 1, \"85\": 6, \"73\": 1, \"53\": 1, \"46\": 1}, \"51\": {\"51\": 6, \"109\": 1, \"101\": 2, \"94\": 1}, \"129\": {\"129\": 4, \"25\": 1, \"103\": 1}, \"78\": {\"78\": 8, \"39\": 1, \"88\": 3}, \"111\": {\"111\": 12}, \"100\": {\"100\": 9, \"83\": 1, \"1\": 1, \"28\": 1}, \"125\": {\"125\": 8}, \"52\": {\"52\": 7, \"29\": 1}, \"88\": {\"88\": 7, \"70\": 1, \"78\": 2}, \"94\": {\"94\": 6, \"11\": 1, \"15\": 3}, \"43\": {\"43\": 7, \"122\": 1, \"11\": 2}, \"77\": {\"77\": 10}, \"86\": {\"86\": 9, \"124\": 1}, \"107\": {\"107\": 10}, \"2\": {\"2\": 4, \"102\": 2, \"65\": 1, \"99\": 1, \"92\": 1, \"117\": 1}, \"81\": {\"81\": 5, \"69\": 1}, \"32\": {\"32\": 4, \"71\": 1, \"14\": 1, \"21\": 1, \"107\": 1}, \"48\": {\"48\": 5, \"116\": 1, \"80\": 1, \"13\": 1}, \"0\": {\"0\": 7, \"110\": 1}, \"16\": {\"16\": 6, \"118\": 2, \"93\": 2}, \"11\": {\"11\": 8, \"88\": 1, \"21\": 1}, \"124\": {\"124\": 5, \"119\": 1, \"42\": 2}, \"46\": {\"46\": 8}, \"54\": {\"54\": 3, \"56\": 1}}, \"Wisig_1\": {\"110\": {\"110\": 11, \"23\": 1}, \"27\": {\"97\": 3, \"27\": 3}, \"106\": {\"106\": 7, \"44\": 1, \"127\": 4}, \"13\": {\"117\": 1, \"13\": 7}, \"120\": {\"120\": 10, \"76\": 1, \"38\": 1}, \"25\": {\"25\": 6, \"42\": 2, \"100\": 1, \"22\": 2, \"64\": 1}, \"47\": {\"47\": 8, \"104\": 1, \"128\": 1, \"103\": 1, \"89\": 1}, \"8\": {\"8\": 12}, \"124\": {\"104\": 2, \"124\": 7, \"59\": 1, \"46\": 1, \"83\": 1}, \"55\": {\"55\": 9, \"41\": 1}, \"63\": {\"63\": 7, \"123\": 3, \"102\": 1, \"13\": 1}, \"58\": {\"58\": 10}, \"105\": {\"23\": 1, \"105\": 8, \"40\": 2, \"79\": 1}, \"59\": {\"6\": 3, \"125\": 3, \"59\": 5, \"121\": 1}, \"12\": {\"12\": 7, \"109\": 1, \"127\": 1, \"71\": 1}, \"98\": {\"98\": 12}, \"96\": {\"96\": 12}, \"30\": {\"30\": 12}, \"53\": {\"53\": 12}, \"82\": {\"82\": 8}, \"33\": {\"33\": 12}, \"0\": {\"0\": 12}, \"122\": {\"122\": 12}, \"28\": {\"28\": 11, \"57\": 1}, \"17\": {\"17\": 7, \"46\": 1, \"111\": 2, \"86\": 1, \"5\": 1}, \"121\": {\"121\": 8, \"95\": 4}, \"104\": {\"104\": 12}, \"71\": {\"71\": 10, \"51\": 1, \"34\": 1}, \"20\": {\"99\": 1, \"20\": 10, \"1\": 1}, \"41\": {\"41\": 12}, \"7\": {\"110\": 2, \"7\": 10}, \"83\": {\"47\": 1, \"31\": 1, \"83\": 3, \"36\": 1, \"66\": 1, \"29\": 1, \"77\": 2, \"15\": 1, \"34\": 1}, \"9\": {\"9\": 4, \"31\": 2, \"49\": 3, \"94\": 1, \"29\": 2}, \"118\": {\"118\": 12}, \"111\": {\"111\": 9, \"86\": 1}, \"23\": {\"3\": 2, \"23\": 4, \"110\": 1, \"44\": 1, \"84\": 2, \"87\": 1, \"106\": 1}, \"65\": {\"28\": 2, \"102\": 1, \"65\": 5, \"42\": 2}, \"95\": {\"118\": 1, \"95\": 10, \"16\": 1}, \"38\": {\"38\": 6, \"90\": 3, \"120\": 1}, \"50\": {\"50\": 8, \"120\": 1, \"62\": 1, \"38\": 1, \"21\": 1}, \"3\": {\"3\": 9, \"79\": 2, \"1\": 1}, \"31\": {\"31\": 10, \"23\": 1, \"9\": 1}, \"48\": {\"48\": 9, \"63\": 1}, \"81\": {\"81\": 8, \"33\": 1, \"84\": 1, \"3\": 2}, \"99\": {\"99\": 9, \"20\": 1, \"96\": 2}, \"85\": {\"85\": 12}, \"11\": {\"11\": 10}, \"126\": {\"126\": 12}, \"80\": {\"80\": 9, \"129\": 1}, \"46\": {\"46\": 4, \"24\": 1, \"59\": 1, \"115\": 1, \"6\": 2, \"17\": 1}, \"45\": {\"80\": 2, \"45\": 4, \"5\": 1, \"25\": 1, \"104\": 2}, \"18\": {\"18\": 12}, \"84\": {\"84\": 10, \"122\": 1, \"14\": 1}, \"24\": {\"24\": 6, \"108\": 3, \"88\": 3}, \"21\": {\"21\": 8, \"70\": 1, \"78\": 2, \"109\": 1}, \"117\": {\"117\": 5, \"120\": 1}, \"6\": {\"58\": 2, \"6\": 6, \"86\": 2, \"112\": 2}, \"97\": {\"97\": 9, \"27\": 2, \"108\": 1}, \"86\": {\"86\": 7, \"111\": 2, \"6\": 2, \"68\": 1}, \"56\": {\"92\": 2, \"56\": 8, \"32\": 1, \"51\": 1}, \"92\": {\"92\": 12}, \"40\": {\"40\": 12}, \"108\": {\"24\": 1, \"108\": 9, \"126\": 1, \"88\": 1}, \"73\": {\"73\": 6, \"103\": 2}, \"1\": {\"1\": 11, \"3\": 1}, \"129\": {\"17\": 1, \"104\": 4, \"5\": 2, \"129\": 3, \"124\": 1, \"119\": 1}, \"127\": {\"127\": 10}, \"14\": {\"14\": 6}, \"42\": {\"61\": 2, \"42\": 3, \"64\": 1, \"66\": 2}, \"67\": {\"67\": 8, \"46\": 1, \"102\": 1}, \"74\": {\"74\": 9, \"86\": 1}, \"61\": {\"61\": 7, \"66\": 1}, \"36\": {\"36\": 9, \"94\": 1}, \"32\": {\"32\": 7, \"85\": 2, \"49\": 1}, \"77\": {\"77\": 10, \"91\": 2}, \"107\": {\"107\": 12}, \"44\": {\"44\": 12}, \"51\": {\"51\": 10, \"53\": 1, \"56\": 1}, \"2\": {\"13\": 2, \"39\": 1, \"119\": 3, \"2\": 2, \"5\": 1, \"129\": 1}, \"52\": {\"52\": 7, \"49\": 1}, \"125\": {\"125\": 10, \"59\": 2}, \"37\": {\"37\": 9, \"52\": 1}, \"35\": {\"35\": 12}, \"116\": {\"116\": 2, \"80\": 1, \"57\": 1}, \"15\": {\"15\": 8, \"94\": 2}, \"70\": {\"70\": 11, \"109\": 1}, \"109\": {\"109\": 8}, \"76\": {\"76\": 12}, \"72\": {\"72\": 10, \"34\": 1, \"29\": 1}, \"114\": {\"114\": 6}, \"49\": {\"56\": 1, \"49\": 10, \"31\": 1}, \"69\": {\"69\": 11, \"62\": 1}, \"54\": {\"54\": 5, \"103\": 1, \"128\": 1, \"89\": 1, \"91\": 2}, \"113\": {\"113\": 10}, \"19\": {\"1\": 1, \"19\": 5, \"82\": 1, \"128\": 2, \"29\": 1}, \"29\": {\"29\": 12}, \"75\": {\"75\": 8, \"71\": 3, \"32\": 1}, \"57\": {\"57\": 8}, \"5\": {\"46\": 1, \"5\": 11}, \"87\": {\"23\": 2, \"87\": 5, \"43\": 3, \"8\": 1, \"78\": 1}, \"94\": {\"94\": 9, \"21\": 1, \"71\": 1, \"36\": 1}, \"88\": {\"88\": 7, \"108\": 2, \"24\": 3}, \"79\": {\"79\": 12}, \"64\": {\"64\": 8, \"104\": 1, \"42\": 1}, \"123\": {\"123\": 7, \"63\": 1, \"121\": 1, \"65\": 1}, \"66\": {\"28\": 3, \"66\": 6, \"99\": 1, \"64\": 1, \"61\": 1}, \"101\": {\"101\": 11, \"44\": 1}, \"112\": {\"6\": 2, \"112\": 2, \"68\": 1, \"91\": 2, \"58\": 1}, \"91\": {\"98\": 2, \"91\": 7, \"58\": 1}, \"93\": {\"93\": 10, \"87\": 1, \"8\": 1}, \"89\": {\"89\": 8, \"128\": 1, \"29\": 1}, \"68\": {\"98\": 3, \"68\": 6, \"41\": 1}, \"100\": {\"20\": 1, \"100\": 7, \"99\": 2, \"128\": 2}, \"78\": {\"108\": 2, \"78\": 5, \"21\": 1, \"39\": 1, \"70\": 1}, \"62\": {\"62\": 9, \"76\": 1, \"69\": 2}, \"119\": {\"119\": 10}, \"4\": {\"86\": 1, \"4\": 6, \"115\": 5}, \"128\": {\"82\": 2, \"29\": 1, \"73\": 2, \"128\": 2, \"100\": 1, \"9\": 2}, \"43\": {\"43\": 10}, \"90\": {\"90\": 6}, \"60\": {\"84\": 1, \"94\": 1, \"11\": 1, \"7\": 2, \"60\": 1, \"122\": 2, \"76\": 1, \"35\": 1}, \"34\": {\"53\": 1, \"94\": 2, \"60\": 1, \"77\": 1, \"15\": 1, \"35\": 2, \"20\": 1, \"3\": 1, \"84\": 1, \"34\": 1}, \"39\": {\"39\": 12}, \"103\": {\"103\": 7, \"68\": 1, \"47\": 2}, \"102\": {\"102\": 5, \"2\": 1}, \"16\": {\"16\": 8, \"118\": 1, \"18\": 1}, \"115\": {\"115\": 10}, \"22\": {\"22\": 4}, \"26\": {\"26\": 4, \"118\": 1, \"18\": 1}, \"10\": {\"10\": 6, \"109\": 1, \"21\": 1}}, \"Wisig_4\": {\"109\": {\"109\": 9, \"126\": 2, \"113\": 1}, \"45\": {\"45\": 9, \"20\": 1}, \"11\": {\"60\": 3, \"11\": 7, \"93\": 2}, \"23\": {\"28\": 1, \"23\": 2, \"113\": 1, \"88\": 1, \"96\": 2, \"101\": 1, \"0\": 1, \"39\": 1}, \"2\": {\"61\": 1, \"116\": 1, \"2\": 2, \"117\": 3, \"45\": 1, \"35\": 1, \"90\": 1, \"81\": 2}, \"25\": {\"25\": 10, \"6\": 1, \"9\": 1}, \"7\": {\"21\": 1, \"101\": 1, \"7\": 8, \"87\": 2}, \"55\": {\"19\": 1, \"55\": 8, \"95\": 2, \"89\": 1}, \"124\": {\"124\": 10}, \"101\": {\"101\": 12}, \"115\": {\"116\": 1, \"86\": 1, \"4\": 5, \"115\": 2, \"74\": 1, \"37\": 1, \"102\": 1}, \"121\": {\"121\": 8}, \"46\": {\"46\": 6, \"124\": 1, \"5\": 3, \"129\": 1, \"42\": 1}, \"72\": {\"3\": 3, \"72\": 8, \"20\": 1}, \"83\": {\"83\": 10, \"49\": 1, \"19\": 1}, \"12\": {\"12\": 8, \"106\": 4}, \"79\": {\"79\": 10}, \"20\": {\"20\": 7, \"100\": 1, \"60\": 2, \"5\": 2}, \"43\": {\"43\": 9, \"0\": 1, \"110\": 2}, \"35\": {\"18\": 6, \"35\": 4, \"121\": 1, \"81\": 1}, \"86\": {\"86\": 6, \"129\": 1, \"111\": 1}, \"3\": {\"114\": 1, \"3\": 8, \"1\": 3}, \"116\": {\"48\": 3, \"115\": 1, \"45\": 3, \"116\": 1, \"50\": 1, \"104\": 1, \"57\": 1, \"129\": 1}, \"53\": {\"53\": 3, \"9\": 1, \"25\": 1, \"49\": 2, \"68\": 2, \"52\": 1, \"100\": 1, \"106\": 1}, \"111\": {\"111\": 10}, \"40\": {\"40\": 8}, \"19\": {\"73\": 1, \"28\": 1, \"19\": 7, \"5\": 1, \"46\": 1, \"52\": 1}, \"71\": {\"114\": 5, \"71\": 3, \"3\": 2, \"1\": 2}, \"21\": {\"21\": 6}, \"82\": {\"40\": 3, \"107\": 2, \"32\": 3, \"82\": 2}, \"65\": {\"65\": 10, \"28\": 1, \"22\": 1}, \"110\": {\"11\": 1, \"110\": 3, \"93\": 4, \"96\": 1, \"122\": 1}, \"119\": {\"119\": 10, \"124\": 1, \"6\": 1}, \"64\": {\"64\": 8, \"92\": 1, \"57\": 1}, \"126\": {\"126\": 9, \"21\": 1}, \"129\": {\"124\": 2, \"119\": 2, \"73\": 4, \"108\": 1, \"129\": 3}, \"103\": {\"21\": 1, \"19\": 1, \"85\": 1, \"103\": 2, \"43\": 1, \"42\": 1, \"78\": 1, \"34\": 1, \"91\": 1, \"98\": 1, \"77\": 1}, \"34\": {\"3\": 2, \"34\": 5, \"71\": 1, \"15\": 1, \"14\": 1}, \"42\": {\"119\": 2, \"124\": 1, \"42\": 3, \"112\": 2}, \"114\": {\"114\": 11, \"71\": 1}, \"38\": {\"38\": 12}, \"99\": {\"99\": 8, \"14\": 2, \"76\": 1, \"78\": 1}, \"47\": {\"47\": 8, \"75\": 1, \"21\": 1, \"58\": 1, \"77\": 1}, \"61\": {\"35\": 1, \"61\": 9, \"26\": 1, \"81\": 1}, \"9\": {\"9\": 7, \"53\": 1, \"77\": 1, \"27\": 1, \"98\": 1, \"65\": 1}, \"73\": {\"73\": 11, \"129\": 1}, \"48\": {\"6\": 1, \"48\": 6, \"91\": 1, \"63\": 1, \"13\": 3}, \"18\": {\"18\": 12}, \"16\": {\"16\": 12}, \"87\": {\"87\": 6, \"101\": 1, \"122\": 1, \"78\": 1, \"88\": 1}, \"60\": {\"11\": 2, \"3\": 2, \"72\": 1, \"60\": 5, \"93\": 1, \"49\": 1}, \"51\": {\"6\": 1, \"126\": 1, \"98\": 1, \"12\": 2, \"41\": 1, \"94\": 1, \"88\": 1, \"85\": 2, \"91\": 1, \"111\": 1}, \"4\": {\"4\": 9, \"59\": 2, \"119\": 1}, \"85\": {\"85\": 8, \"52\": 2, \"53\": 2}, \"28\": {\"28\": 11, \"90\": 1}, \"27\": {\"97\": 1, \"21\": 1, \"27\": 8, \"70\": 1, \"88\": 1}, \"97\": {\"97\": 5, \"10\": 2, \"90\": 1, \"27\": 3, \"24\": 1}, \"6\": {\"6\": 12}, \"76\": {\"76\": 8, \"89\": 1, \"107\": 1}, \"105\": {\"105\": 6, \"107\": 4, \"72\": 1, \"70\": 1}, \"37\": {\"37\": 9, \"86\": 1, \"103\": 1, \"115\": 1}, \"98\": {\"98\": 8, \"20\": 1, \"53\": 1, \"54\": 2}, \"96\": {\"84\": 5, \"96\": 5, \"122\": 1, \"60\": 1}, \"32\": {\"38\": 1, \"32\": 3, \"76\": 2, \"14\": 3, \"69\": 1, \"99\": 1, \"31\": 1}, \"15\": {\"15\": 8, \"8\": 1, \"94\": 1}, \"56\": {\"51\": 1, \"76\": 1, \"49\": 1, \"56\": 3, \"55\": 1, \"95\": 1}, \"90\": {\"90\": 10, \"120\": 1, \"38\": 1}, \"91\": {\"51\": 1, \"91\": 6, \"68\": 2, \"77\": 1, \"58\": 1, \"98\": 1}, \"52\": {\"52\": 10, \"98\": 1, \"9\": 1}, \"78\": {\"78\": 9, \"39\": 1, \"88\": 1, \"70\": 1}, \"84\": {\"40\": 2, \"69\": 4, \"84\": 5, \"60\": 1}, \"1\": {\"1\": 11, \"114\": 1}, \"122\": {\"122\": 7, \"99\": 1, \"43\": 1, \"88\": 1, \"118\": 1, \"21\": 1}, \"66\": {\"45\": 1, \"90\": 1, \"66\": 4, \"120\": 2}, \"127\": {\"78\": 1, \"127\": 3, \"7\": 1, \"12\": 1}, \"80\": {\"80\": 10, \"79\": 2}, \"113\": {\"78\": 1, \"113\": 9, \"16\": 1, \"99\": 1}, \"31\": {\"38\": 1, \"76\": 1, \"82\": 1, \"31\": 9}, \"88\": {\"78\": 2, \"88\": 8, \"108\": 2}, \"62\": {\"62\": 12}, \"22\": {\"22\": 10, \"120\": 2}, \"49\": {\"49\": 7, \"101\": 1, \"100\": 2, \"5\": 2}, \"54\": {\"54\": 9, \"47\": 1, \"34\": 1, \"59\": 1}, \"63\": {\"22\": 1, \"63\": 7, \"67\": 2}, \"39\": {\"39\": 12}, \"95\": {\"95\": 9, \"52\": 1, \"55\": 1, \"114\": 1}, \"58\": {\"58\": 6, \"77\": 2}, \"81\": {\"81\": 8, \"21\": 1, \"26\": 1}, \"10\": {\"97\": 3, \"10\": 9}, \"93\": {\"110\": 2, \"93\": 8, \"122\": 1, \"60\": 1}, \"41\": {\"47\": 1, \"91\": 3, \"41\": 2, \"77\": 2, \"97\": 2}, \"68\": {\"68\": 11, \"25\": 1}, \"75\": {\"75\": 9, \"85\": 1, \"47\": 2}, \"14\": {\"14\": 9, \"72\": 1, \"44\": 2}, \"59\": {\"59\": 8, \"6\": 1, \"24\": 1}, \"69\": {\"69\": 9, \"39\": 1}, \"29\": {\"29\": 8}, \"107\": {\"107\": 12}, \"117\": {\"117\": 8, \"63\": 1, \"88\": 1}, \"100\": {\"100\": 7, \"49\": 1, \"128\": 1, \"5\": 1, \"78\": 1, \"74\": 1}, \"33\": {\"33\": 6, \"107\": 2, \"44\": 2}, \"106\": {\"106\": 6, \"51\": 1, \"100\": 1, \"12\": 1, \"53\": 1}, \"30\": {\"30\": 10, \"94\": 2}, \"36\": {\"36\": 10, \"94\": 2}, \"0\": {\"23\": 2, \"0\": 4, \"87\": 2, \"101\": 2}, \"92\": {\"92\": 8, \"31\": 2, \"64\": 1, \"67\": 1}, \"67\": {\"67\": 7, \"117\": 1, \"13\": 1, \"57\": 2, \"108\": 1}, \"77\": {\"77\": 11, \"47\": 1}, \"89\": {\"76\": 2, \"89\": 3, \"1\": 1, \"14\": 2}, \"44\": {\"44\": 7, \"1\": 2, \"18\": 1}, \"8\": {\"8\": 7, \"39\": 1}, \"102\": {\"102\": 8, \"22\": 1, \"116\": 1}, \"50\": {\"115\": 2, \"50\": 7, \"73\": 1}, \"57\": {\"57\": 8, \"88\": 1, \"78\": 1}, \"128\": {\"95\": 1, \"88\": 1, \"128\": 1, \"100\": 2, \"114\": 1, \"46\": 1, \"85\": 1}, \"108\": {\"108\": 9, \"88\": 1}, \"120\": {\"120\": 6, \"22\": 2}, \"17\": {\"17\": 8}, \"94\": {\"30\": 1, \"88\": 1, \"94\": 3, \"8\": 1, \"34\": 1, \"21\": 1}, \"70\": {\"59\": 1, \"108\": 3, \"70\": 4, \"53\": 1, \"10\": 1}, \"13\": {\"13\": 8, \"9\": 1, \"80\": 1}, \"112\": {\"42\": 4, \"112\": 4, \"9\": 1, \"98\": 1}, \"5\": {\"5\": 8, \"109\": 1, \"46\": 1}, \"24\": {\"10\": 1, \"24\": 3}, \"118\": {\"118\": 5, \"122\": 3}, \"26\": {\"26\": 7, \"18\": 1}, \"74\": {\"74\": 4, \"38\": 3, \"20\": 1}, \"125\": {\"125\": 6}, \"104\": {\"104\": 3, \"64\": 1, \"17\": 2}, \"123\": {\"123\": 5, \"13\": 1}}}, \"per_domain_accuracy\": {\"CORES_3\": {\"accuracy\": 0.9985632183908046, \"source?\": true}, \"CORES_4\": {\"accuracy\": 0.9770114942528736, \"source?\": true}, \"CORES_2\": {\"accuracy\": 0.9885057471264368, \"source?\": true}, \"CORES_1\": {\"accuracy\": 0.9885057471264368, \"source?\": true}, \"CORES_5\": {\"accuracy\": 0.9913793103448276, \"source?\": true}, \"Wisig_3\": {\"accuracy\": 0.7471264367816092, \"source?\": false}, \"Wisig_2\": {\"accuracy\": 0.7126436781609196, \"source?\": false}, \"Wisig_1\": {\"accuracy\": 0.7622126436781609, \"source?\": false}, \"Wisig_4\": {\"accuracy\": 0.6702586206896551, \"source?\": false}}}, \"history\": {\"epoch_indices\": [1, 2, 3], \"train_label_loss\": [0.3286247249914422, 0.02837530984903597, 0.03587641481994762], \"source_val_label_loss\": [0.0377376414835453, 0.02884136512875557, 0.06425928324460983], \"target_val_label_loss\": [3.018003225326538, 3.6072936058044434, 5.774835586547852], \"source_val_acc_label\": [0.9887931034482759, 0.9925287356321839, 0.9853448275862069], \"target_val_acc_label\": [0.7230603448275862, 0.7561063218390804, 0.7744252873563219]}, \"dataset_metrics\": {\"source\": {\"train\": {\"n_unique_x\": 20300, \"n_unique_y\": 58, \"n_batch/episode\": 210}, \"val\": {\"n_unique_x\": 4350, \"n_unique_y\": 58, \"n_batch/episode\": 30}, \"test\": {\"n_unique_x\": 4350, \"n_unique_y\": 58, \"n_batch/episode\": 30}}, \"target\": {\"train\": {\"n_unique_x\": 36393, \"n_unique_y\": 130, \"n_batch/episode\": 356}, \"val\": {\"n_unique_x\": 7693, \"n_unique_y\": 130, \"n_batch/episode\": 48}, \"test\": {\"n_unique_x\": 7693, \"n_unique_y\": 130, \"n_batch/episode\": 48}}}}'"
      ]
     },
     "execution_count": 29,
     "metadata": {},
     "output_type": "execute_result"
    }
   ],
   "source": [
    "json.dumps(experiment)"
   ]
  }
 ],
 "metadata": {
  "celltoolbar": "Tags",
  "kernelspec": {
   "display_name": "Python 3 (ipykernel)",
   "language": "python",
   "name": "python3"
  },
  "language_info": {
   "codemirror_mode": {
    "name": "ipython",
    "version": 3
   },
   "file_extension": ".py",
   "mimetype": "text/x-python",
   "name": "python",
   "nbconvert_exporter": "python",
   "pygments_lexer": "ipython3",
   "version": "3.8.10"
  },
  "papermill": {
   "default_parameters": {},
   "duration": 71.671802,
   "end_time": "2022-03-07T08:12:55.885728",
   "environment_variables": {},
   "exception": null,
   "input_path": "/mnt/wd500GB/CSC500/csc500-main/csc500-notebooks/templates/tl_ptn_template.ipynb",
   "output_path": "trial.ipynb",
   "parameters": {
    "parameters": {
     "BEST_MODEL_PATH": "./best_model.pth",
     "NUM_LOGS_PER_EPOCH": 10,
     "criteria_for_best": "target_loss",
     "dataset_seed": 1337,
     "datasets": [
      {
       "domain_prefix": "CORES_",
       "domains": [
        1,
        2,
        3,
        4,
        5
       ],
       "episode_transforms": [],
       "labels": [
        "1-10.",
        "1-11.",
        "1-15.",
        "1-16.",
        "1-17.",
        "1-18.",
        "1-19.",
        "10-4.",
        "10-7.",
        "11-1.",
        "11-14.",
        "11-17.",
        "11-20.",
        "11-7.",
        "13-20.",
        "13-8.",
        "14-10.",
        "14-11.",
        "14-14.",
        "14-7.",
        "15-1.",
        "15-20.",
        "16-1.",
        "16-16.",
        "17-10.",
        "17-11.",
        "17-2.",
        "19-1.",
        "19-16.",
        "19-19.",
        "19-20.",
        "19-3.",
        "2-10.",
        "2-11.",
        "2-17.",
        "2-18.",
        "2-20.",
        "2-3.",
        "2-4.",
        "2-5.",
        "2-6.",
        "2-7.",
        "2-8.",
        "3-13.",
        "3-18.",
        "3-3.",
        "4-1.",
        "4-10.",
        "4-11.",
        "4-19.",
        "5-5.",
        "6-15.",
        "7-10.",
        "7-14.",
        "8-18.",
        "8-20.",
        "8-3.",
        "8-8."
       ],
       "num_examples_per_domain_per_label": 100,
       "pickle_path": "/mnt/wd500GB/CSC500/csc500-main/datasets/cores.stratified_ds.2022A.pkl",
       "source_or_target_dataset": "source",
       "x_transforms": []
      },
      {
       "domain_prefix": "Wisig_",
       "domains": [
        1,
        2,
        3,
        4
       ],
       "episode_transforms": [],
       "labels": [
        "1-10",
        "1-12",
        "1-14",
        "1-16",
        "1-18",
        "1-19",
        "1-8",
        "10-11",
        "10-17",
        "10-4",
        "10-7",
        "11-1",
        "11-10",
        "11-19",
        "11-20",
        "11-4",
        "11-7",
        "12-19",
        "12-20",
        "12-7",
        "13-14",
        "13-18",
        "13-19",
        "13-20",
        "13-3",
        "13-7",
        "14-10",
        "14-11",
        "14-12",
        "14-13",
        "14-14",
        "14-19",
        "14-20",
        "14-7",
        "14-8",
        "14-9",
        "15-1",
        "15-19",
        "15-6",
        "16-1",
        "16-16",
        "16-19",
        "16-20",
        "17-10",
        "17-11",
        "18-1",
        "18-10",
        "18-11",
        "18-12",
        "18-13",
        "18-14",
        "18-15",
        "18-16",
        "18-17",
        "18-19",
        "18-2",
        "18-20",
        "18-4",
        "18-5",
        "18-7",
        "18-8",
        "18-9",
        "19-1",
        "19-10",
        "19-11",
        "19-12",
        "19-13",
        "19-14",
        "19-15",
        "19-19",
        "19-2",
        "19-20",
        "19-3",
        "19-4",
        "19-6",
        "19-7",
        "19-8",
        "19-9",
        "2-1",
        "2-13",
        "2-15",
        "2-3",
        "2-4",
        "2-5",
        "2-6",
        "2-7",
        "2-8",
        "20-1",
        "20-12",
        "20-14",
        "20-15",
        "20-16",
        "20-18",
        "20-19",
        "20-20",
        "20-3",
        "20-4",
        "20-5",
        "20-7",
        "20-8",
        "3-1",
        "3-13",
        "3-18",
        "3-2",
        "3-8",
        "4-1",
        "4-10",
        "4-11",
        "5-1",
        "5-5",
        "6-1",
        "6-15",
        "6-6",
        "7-10",
        "7-11",
        "7-12",
        "7-13",
        "7-14",
        "7-7",
        "7-8",
        "7-9",
        "8-1",
        "8-13",
        "8-14",
        "8-18",
        "8-20",
        "8-3",
        "8-8",
        "9-1",
        "9-7"
       ],
       "num_examples_per_domain_per_label": 100,
       "pickle_path": "/mnt/wd500GB/CSC500/csc500-main/datasets/wisig.node3-19.stratified_ds.2022A.pkl",
       "source_or_target_dataset": "target",
       "x_transforms": []
      }
     ],
     "device": "cuda",
     "experiment_name": "tl_1_cores-wisig",
     "lr": 0.001,
     "n_epoch": 3,
     "n_query": 2,
     "n_shot": 3,
     "n_way": 58,
     "patience": 3,
     "seed": 1337,
     "test_k_factor": 2,
     "torch_default_dtype": "torch.float32",
     "train_k_factor": 3,
     "val_k_factor": 2,
     "x_net": [
      {
       "class": "nnReshape",
       "kargs": {
        "shape": [
         -1,
         1,
         2,
         256
        ]
       }
      },
      {
       "class": "Conv2d",
       "kargs": {
        "bias": false,
        "in_channels": 1,
        "kernel_size": [
         1,
         7
        ],
        "out_channels": 256,
        "padding": [
         0,
         3
        ]
       }
      },
      {
       "class": "ReLU",
       "kargs": {
        "inplace": true
       }
      },
      {
       "class": "BatchNorm2d",
       "kargs": {
        "num_features": 256
       }
      },
      {
       "class": "Conv2d",
       "kargs": {
        "bias": true,
        "in_channels": 256,
        "kernel_size": [
         2,
         7
        ],
        "out_channels": 80,
        "padding": [
         0,
         3
        ]
       }
      },
      {
       "class": "ReLU",
       "kargs": {
        "inplace": true
       }
      },
      {
       "class": "BatchNorm2d",
       "kargs": {
        "num_features": 80
       }
      },
      {
       "class": "Flatten",
       "kargs": {}
      },
      {
       "class": "Linear",
       "kargs": {
        "in_features": 20480,
        "out_features": 256
       }
      },
      {
       "class": "ReLU",
       "kargs": {
        "inplace": true
       }
      },
      {
       "class": "BatchNorm1d",
       "kargs": {
        "num_features": 256
       }
      },
      {
       "class": "Linear",
       "kargs": {
        "in_features": 256,
        "out_features": 256
       }
      }
     ]
    }
   },
   "start_time": "2022-03-07T08:11:44.213926",
   "version": "2.3.4"
  }
 },
 "nbformat": 4,
 "nbformat_minor": 5
}