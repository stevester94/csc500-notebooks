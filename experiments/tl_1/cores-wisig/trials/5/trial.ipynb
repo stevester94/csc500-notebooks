{
 "cells": [
  {
   "cell_type": "markdown",
   "id": "9fea5f46",
   "metadata": {
    "papermill": {
     "duration": 0.020716,
     "end_time": "2022-03-07T08:16:34.818032",
     "exception": false,
     "start_time": "2022-03-07T08:16:34.797316",
     "status": "completed"
    },
    "tags": []
   },
   "source": [
    "# Transfer Learning Template"
   ]
  },
  {
   "cell_type": "code",
   "execution_count": 1,
   "id": "0902182a",
   "metadata": {
    "execution": {
     "iopub.execute_input": "2022-03-07T08:16:34.858079Z",
     "iopub.status.busy": "2022-03-07T08:16:34.857738Z",
     "iopub.status.idle": "2022-03-07T08:16:35.601870Z",
     "shell.execute_reply": "2022-03-07T08:16:35.601388Z"
    },
    "papermill": {
     "duration": 0.771343,
     "end_time": "2022-03-07T08:16:35.601977",
     "exception": false,
     "start_time": "2022-03-07T08:16:34.830634",
     "status": "completed"
    },
    "tags": []
   },
   "outputs": [],
   "source": [
    "%load_ext autoreload\n",
    "%autoreload 2\n",
    "%matplotlib inline\n",
    "\n",
    "    \n",
    "import os, json, sys, time, random\n",
    "import numpy as np\n",
    "import torch\n",
    "from torch.optim import Adam\n",
    "from  easydict import EasyDict\n",
    "import matplotlib.pyplot as plt\n",
    "\n",
    "from steves_models.steves_ptn import Steves_Prototypical_Network\n",
    "\n",
    "from steves_utils.lazy_iterable_wrapper import Lazy_Iterable_Wrapper\n",
    "from steves_utils.iterable_aggregator import Iterable_Aggregator\n",
    "from steves_utils.ptn_train_eval_test_jig import  PTN_Train_Eval_Test_Jig\n",
    "from steves_utils.torch_sequential_builder import build_sequential\n",
    "from steves_utils.torch_utils import get_dataset_metrics, ptn_confusion_by_domain_over_dataloader\n",
    "from steves_utils.utils_v2 import (per_domain_accuracy_from_confusion, get_datasets_base_path)\n",
    "from steves_utils.PTN.utils import independent_accuracy_assesment\n",
    "\n",
    "from torch.utils.data import DataLoader\n",
    "\n",
    "from steves_utils.stratified_dataset.episodic_accessor import Episodic_Accessor_Factory\n",
    "\n",
    "from steves_utils.ptn_do_report import (\n",
    "    get_loss_curve,\n",
    "    get_results_table,\n",
    "    get_parameters_table,\n",
    "    get_domain_accuracies,\n",
    ")\n",
    "\n",
    "from steves_utils.transforms import get_chained_transform"
   ]
  },
  {
   "cell_type": "markdown",
   "id": "41c840b4",
   "metadata": {
    "papermill": {
     "duration": 0.012569,
     "end_time": "2022-03-07T08:16:35.631645",
     "exception": false,
     "start_time": "2022-03-07T08:16:35.619076",
     "status": "completed"
    },
    "tags": []
   },
   "source": [
    "# Allowed Parameters\n",
    "These are allowed parameters, not defaults\n",
    "Each of these values need to be present in the injected parameters (the notebook will raise an exception if they are not present)\n",
    "\n",
    "Papermill uses the cell tag \"parameters\" to inject the real parameters below this cell.\n",
    "Enable tags to see what I mean"
   ]
  },
  {
   "cell_type": "code",
   "execution_count": 2,
   "id": "fd44eb83",
   "metadata": {
    "execution": {
     "iopub.execute_input": "2022-03-07T08:16:35.659696Z",
     "iopub.status.busy": "2022-03-07T08:16:35.659324Z",
     "iopub.status.idle": "2022-03-07T08:16:35.673584Z",
     "shell.execute_reply": "2022-03-07T08:16:35.673208Z"
    },
    "papermill": {
     "duration": 0.029486,
     "end_time": "2022-03-07T08:16:35.673673",
     "exception": false,
     "start_time": "2022-03-07T08:16:35.644187",
     "status": "completed"
    },
    "tags": []
   },
   "outputs": [],
   "source": [
    "required_parameters = {\n",
    "    \"experiment_name\",\n",
    "    \"lr\",\n",
    "    \"device\",\n",
    "    \"seed\",\n",
    "    \"dataset_seed\",\n",
    "    \"n_shot\",\n",
    "    \"n_query\",\n",
    "    \"n_way\",\n",
    "    \"train_k_factor\",\n",
    "    \"val_k_factor\",\n",
    "    \"test_k_factor\",\n",
    "    \"n_epoch\",\n",
    "    \"patience\",\n",
    "    \"criteria_for_best\",\n",
    "    \"x_net\",\n",
    "    \"datasets\",\n",
    "    \"torch_default_dtype\",\n",
    "    \"NUM_LOGS_PER_EPOCH\",\n",
    "    \"BEST_MODEL_PATH\",\n",
    "}"
   ]
  },
  {
   "cell_type": "code",
   "execution_count": 3,
   "id": "fa3f0049",
   "metadata": {
    "execution": {
     "iopub.execute_input": "2022-03-07T08:16:35.710152Z",
     "iopub.status.busy": "2022-03-07T08:16:35.709869Z",
     "iopub.status.idle": "2022-03-07T08:16:35.722534Z",
     "shell.execute_reply": "2022-03-07T08:16:35.722121Z"
    },
    "papermill": {
     "duration": 0.031724,
     "end_time": "2022-03-07T08:16:35.722623",
     "exception": false,
     "start_time": "2022-03-07T08:16:35.690899",
     "status": "completed"
    },
    "tags": [
     "parameters"
    ]
   },
   "outputs": [],
   "source": [
    "from steves_utils.CORES.utils import (\n",
    "    ALL_NODES,\n",
    "    ALL_NODES_MINIMUM_1000_EXAMPLES,\n",
    "    ALL_DAYS\n",
    ")\n",
    "\n",
    "from steves_utils.ORACLE.utils_v2 import (\n",
    "    ALL_DISTANCES_FEET_NARROWED,\n",
    "    ALL_RUNS,\n",
    "    ALL_SERIAL_NUMBERS,\n",
    ")\n",
    "\n",
    "standalone_parameters = {}\n",
    "standalone_parameters[\"experiment_name\"] = \"STANDALONE PTN\"\n",
    "standalone_parameters[\"lr\"] = 0.001\n",
    "standalone_parameters[\"device\"] = \"cuda\"\n",
    "\n",
    "standalone_parameters[\"seed\"] = 1337\n",
    "standalone_parameters[\"dataset_seed\"] = 1337\n",
    "\n",
    "standalone_parameters[\"n_way\"] = 8\n",
    "standalone_parameters[\"n_shot\"] = 3\n",
    "standalone_parameters[\"n_query\"]  = 2\n",
    "standalone_parameters[\"train_k_factor\"] = 1\n",
    "standalone_parameters[\"val_k_factor\"] = 2\n",
    "standalone_parameters[\"test_k_factor\"] = 2\n",
    "\n",
    "\n",
    "standalone_parameters[\"n_epoch\"] = 50\n",
    "\n",
    "standalone_parameters[\"patience\"] = 10\n",
    "standalone_parameters[\"criteria_for_best\"] = \"source_loss\"\n",
    "\n",
    "standalone_parameters[\"datasets\"] = [\n",
    "    {\n",
    "        \"labels\": ALL_SERIAL_NUMBERS,\n",
    "        \"domains\": ALL_DISTANCES_FEET_NARROWED,\n",
    "        \"num_examples_per_domain_per_label\": 100,\n",
    "        \"pickle_path\": os.path.join(get_datasets_base_path(), \"oracle.Run1_framed_2000Examples_stratified_ds.2022A.pkl\"),\n",
    "        \"source_or_target_dataset\": \"source\",\n",
    "        \"x_transforms\": [\"unit_mag\", \"minus_two\"],\n",
    "        \"episode_transforms\": [],\n",
    "        \"domain_prefix\": \"ORACLE_\"\n",
    "    },\n",
    "    {\n",
    "        \"labels\": ALL_NODES,\n",
    "        \"domains\": ALL_DAYS,\n",
    "        \"num_examples_per_domain_per_label\": 100,\n",
    "        \"pickle_path\": os.path.join(get_datasets_base_path(), \"cores.stratified_ds.2022A.pkl\"),\n",
    "        \"source_or_target_dataset\": \"target\",\n",
    "        \"x_transforms\": [\"unit_power\", \"times_zero\"],\n",
    "        \"episode_transforms\": [],\n",
    "        \"domain_prefix\": \"CORES_\"\n",
    "    }   \n",
    "]\n",
    "\n",
    "standalone_parameters[\"torch_default_dtype\"] = \"torch.float32\" \n",
    "\n",
    "\n",
    "\n",
    "standalone_parameters[\"x_net\"] =     [\n",
    "    {\"class\": \"nnReshape\", \"kargs\": {\"shape\":[-1, 1, 2, 256]}},\n",
    "    {\"class\": \"Conv2d\", \"kargs\": { \"in_channels\":1, \"out_channels\":256, \"kernel_size\":(1,7), \"bias\":False, \"padding\":(0,3), },},\n",
    "    {\"class\": \"ReLU\", \"kargs\": {\"inplace\": True}},\n",
    "    {\"class\": \"BatchNorm2d\", \"kargs\": {\"num_features\":256}},\n",
    "\n",
    "    {\"class\": \"Conv2d\", \"kargs\": { \"in_channels\":256, \"out_channels\":80, \"kernel_size\":(2,7), \"bias\":True, \"padding\":(0,3), },},\n",
    "    {\"class\": \"ReLU\", \"kargs\": {\"inplace\": True}},\n",
    "    {\"class\": \"BatchNorm2d\", \"kargs\": {\"num_features\":80}},\n",
    "    {\"class\": \"Flatten\", \"kargs\": {}},\n",
    "\n",
    "    {\"class\": \"Linear\", \"kargs\": {\"in_features\": 80*256, \"out_features\": 256}}, # 80 units per IQ pair\n",
    "    {\"class\": \"ReLU\", \"kargs\": {\"inplace\": True}},\n",
    "    {\"class\": \"BatchNorm1d\", \"kargs\": {\"num_features\":256}},\n",
    "\n",
    "    {\"class\": \"Linear\", \"kargs\": {\"in_features\": 256, \"out_features\": 256}},\n",
    "]\n",
    "\n",
    "# Parameters relevant to results\n",
    "# These parameters will basically never need to change\n",
    "standalone_parameters[\"NUM_LOGS_PER_EPOCH\"] = 10\n",
    "standalone_parameters[\"BEST_MODEL_PATH\"] = \"./best_model.pth\"\n",
    "\n",
    "\n",
    "\n",
    "\n"
   ]
  },
  {
   "cell_type": "code",
   "execution_count": 4,
   "id": "21b65dc0",
   "metadata": {
    "execution": {
     "iopub.execute_input": "2022-03-07T08:16:35.769465Z",
     "iopub.status.busy": "2022-03-07T08:16:35.768897Z",
     "iopub.status.idle": "2022-03-07T08:16:35.779702Z",
     "shell.execute_reply": "2022-03-07T08:16:35.780112Z"
    },
    "papermill": {
     "duration": 0.038092,
     "end_time": "2022-03-07T08:16:35.780223",
     "exception": false,
     "start_time": "2022-03-07T08:16:35.742131",
     "status": "completed"
    },
    "tags": [
     "injected-parameters"
    ]
   },
   "outputs": [],
   "source": [
    "# Parameters\n",
    "parameters = {\n",
    "    \"experiment_name\": \"tl_1_cores-wisig\",\n",
    "    \"device\": \"cuda\",\n",
    "    \"lr\": 0.001,\n",
    "    \"seed\": 1337,\n",
    "    \"dataset_seed\": 1337,\n",
    "    \"n_shot\": 3,\n",
    "    \"n_query\": 2,\n",
    "    \"train_k_factor\": 3,\n",
    "    \"val_k_factor\": 2,\n",
    "    \"test_k_factor\": 2,\n",
    "    \"torch_default_dtype\": \"torch.float32\",\n",
    "    \"n_epoch\": 3,\n",
    "    \"patience\": 3,\n",
    "    \"criteria_for_best\": \"target_loss\",\n",
    "    \"x_net\": [\n",
    "        {\"class\": \"nnReshape\", \"kargs\": {\"shape\": [-1, 1, 2, 256]}},\n",
    "        {\n",
    "            \"class\": \"Conv2d\",\n",
    "            \"kargs\": {\n",
    "                \"in_channels\": 1,\n",
    "                \"out_channels\": 256,\n",
    "                \"kernel_size\": [1, 7],\n",
    "                \"bias\": False,\n",
    "                \"padding\": [0, 3],\n",
    "            },\n",
    "        },\n",
    "        {\"class\": \"ReLU\", \"kargs\": {\"inplace\": True}},\n",
    "        {\"class\": \"BatchNorm2d\", \"kargs\": {\"num_features\": 256}},\n",
    "        {\n",
    "            \"class\": \"Conv2d\",\n",
    "            \"kargs\": {\n",
    "                \"in_channels\": 256,\n",
    "                \"out_channels\": 80,\n",
    "                \"kernel_size\": [2, 7],\n",
    "                \"bias\": True,\n",
    "                \"padding\": [0, 3],\n",
    "            },\n",
    "        },\n",
    "        {\"class\": \"ReLU\", \"kargs\": {\"inplace\": True}},\n",
    "        {\"class\": \"BatchNorm2d\", \"kargs\": {\"num_features\": 80}},\n",
    "        {\"class\": \"Flatten\", \"kargs\": {}},\n",
    "        {\"class\": \"Linear\", \"kargs\": {\"in_features\": 20480, \"out_features\": 256}},\n",
    "        {\"class\": \"ReLU\", \"kargs\": {\"inplace\": True}},\n",
    "        {\"class\": \"BatchNorm1d\", \"kargs\": {\"num_features\": 256}},\n",
    "        {\"class\": \"Linear\", \"kargs\": {\"in_features\": 256, \"out_features\": 256}},\n",
    "    ],\n",
    "    \"NUM_LOGS_PER_EPOCH\": 10,\n",
    "    \"BEST_MODEL_PATH\": \"./best_model.pth\",\n",
    "    \"n_way\": 58,\n",
    "    \"datasets\": [\n",
    "        {\n",
    "            \"labels\": [\n",
    "                \"1-10.\",\n",
    "                \"1-11.\",\n",
    "                \"1-15.\",\n",
    "                \"1-16.\",\n",
    "                \"1-17.\",\n",
    "                \"1-18.\",\n",
    "                \"1-19.\",\n",
    "                \"10-4.\",\n",
    "                \"10-7.\",\n",
    "                \"11-1.\",\n",
    "                \"11-14.\",\n",
    "                \"11-17.\",\n",
    "                \"11-20.\",\n",
    "                \"11-7.\",\n",
    "                \"13-20.\",\n",
    "                \"13-8.\",\n",
    "                \"14-10.\",\n",
    "                \"14-11.\",\n",
    "                \"14-14.\",\n",
    "                \"14-7.\",\n",
    "                \"15-1.\",\n",
    "                \"15-20.\",\n",
    "                \"16-1.\",\n",
    "                \"16-16.\",\n",
    "                \"17-10.\",\n",
    "                \"17-11.\",\n",
    "                \"17-2.\",\n",
    "                \"19-1.\",\n",
    "                \"19-16.\",\n",
    "                \"19-19.\",\n",
    "                \"19-20.\",\n",
    "                \"19-3.\",\n",
    "                \"2-10.\",\n",
    "                \"2-11.\",\n",
    "                \"2-17.\",\n",
    "                \"2-18.\",\n",
    "                \"2-20.\",\n",
    "                \"2-3.\",\n",
    "                \"2-4.\",\n",
    "                \"2-5.\",\n",
    "                \"2-6.\",\n",
    "                \"2-7.\",\n",
    "                \"2-8.\",\n",
    "                \"3-13.\",\n",
    "                \"3-18.\",\n",
    "                \"3-3.\",\n",
    "                \"4-1.\",\n",
    "                \"4-10.\",\n",
    "                \"4-11.\",\n",
    "                \"4-19.\",\n",
    "                \"5-5.\",\n",
    "                \"6-15.\",\n",
    "                \"7-10.\",\n",
    "                \"7-14.\",\n",
    "                \"8-18.\",\n",
    "                \"8-20.\",\n",
    "                \"8-3.\",\n",
    "                \"8-8.\",\n",
    "            ],\n",
    "            \"domains\": [1, 2, 3, 4, 5],\n",
    "            \"num_examples_per_domain_per_label\": 100,\n",
    "            \"pickle_path\": \"/mnt/wd500GB/CSC500/csc500-main/datasets/cores.stratified_ds.2022A.pkl\",\n",
    "            \"source_or_target_dataset\": \"target\",\n",
    "            \"x_transforms\": [],\n",
    "            \"episode_transforms\": [],\n",
    "            \"domain_prefix\": \"CORES_\",\n",
    "        },\n",
    "        {\n",
    "            \"labels\": [\n",
    "                \"1-10\",\n",
    "                \"1-12\",\n",
    "                \"1-14\",\n",
    "                \"1-16\",\n",
    "                \"1-18\",\n",
    "                \"1-19\",\n",
    "                \"1-8\",\n",
    "                \"10-11\",\n",
    "                \"10-17\",\n",
    "                \"10-4\",\n",
    "                \"10-7\",\n",
    "                \"11-1\",\n",
    "                \"11-10\",\n",
    "                \"11-19\",\n",
    "                \"11-20\",\n",
    "                \"11-4\",\n",
    "                \"11-7\",\n",
    "                \"12-19\",\n",
    "                \"12-20\",\n",
    "                \"12-7\",\n",
    "                \"13-14\",\n",
    "                \"13-18\",\n",
    "                \"13-19\",\n",
    "                \"13-20\",\n",
    "                \"13-3\",\n",
    "                \"13-7\",\n",
    "                \"14-10\",\n",
    "                \"14-11\",\n",
    "                \"14-12\",\n",
    "                \"14-13\",\n",
    "                \"14-14\",\n",
    "                \"14-19\",\n",
    "                \"14-20\",\n",
    "                \"14-7\",\n",
    "                \"14-8\",\n",
    "                \"14-9\",\n",
    "                \"15-1\",\n",
    "                \"15-19\",\n",
    "                \"15-6\",\n",
    "                \"16-1\",\n",
    "                \"16-16\",\n",
    "                \"16-19\",\n",
    "                \"16-20\",\n",
    "                \"17-10\",\n",
    "                \"17-11\",\n",
    "                \"18-1\",\n",
    "                \"18-10\",\n",
    "                \"18-11\",\n",
    "                \"18-12\",\n",
    "                \"18-13\",\n",
    "                \"18-14\",\n",
    "                \"18-15\",\n",
    "                \"18-16\",\n",
    "                \"18-17\",\n",
    "                \"18-19\",\n",
    "                \"18-2\",\n",
    "                \"18-20\",\n",
    "                \"18-4\",\n",
    "                \"18-5\",\n",
    "                \"18-7\",\n",
    "                \"18-8\",\n",
    "                \"18-9\",\n",
    "                \"19-1\",\n",
    "                \"19-10\",\n",
    "                \"19-11\",\n",
    "                \"19-12\",\n",
    "                \"19-13\",\n",
    "                \"19-14\",\n",
    "                \"19-15\",\n",
    "                \"19-19\",\n",
    "                \"19-2\",\n",
    "                \"19-20\",\n",
    "                \"19-3\",\n",
    "                \"19-4\",\n",
    "                \"19-6\",\n",
    "                \"19-7\",\n",
    "                \"19-8\",\n",
    "                \"19-9\",\n",
    "                \"2-1\",\n",
    "                \"2-13\",\n",
    "                \"2-15\",\n",
    "                \"2-3\",\n",
    "                \"2-4\",\n",
    "                \"2-5\",\n",
    "                \"2-6\",\n",
    "                \"2-7\",\n",
    "                \"2-8\",\n",
    "                \"20-1\",\n",
    "                \"20-12\",\n",
    "                \"20-14\",\n",
    "                \"20-15\",\n",
    "                \"20-16\",\n",
    "                \"20-18\",\n",
    "                \"20-19\",\n",
    "                \"20-20\",\n",
    "                \"20-3\",\n",
    "                \"20-4\",\n",
    "                \"20-5\",\n",
    "                \"20-7\",\n",
    "                \"20-8\",\n",
    "                \"3-1\",\n",
    "                \"3-13\",\n",
    "                \"3-18\",\n",
    "                \"3-2\",\n",
    "                \"3-8\",\n",
    "                \"4-1\",\n",
    "                \"4-10\",\n",
    "                \"4-11\",\n",
    "                \"5-1\",\n",
    "                \"5-5\",\n",
    "                \"6-1\",\n",
    "                \"6-15\",\n",
    "                \"6-6\",\n",
    "                \"7-10\",\n",
    "                \"7-11\",\n",
    "                \"7-12\",\n",
    "                \"7-13\",\n",
    "                \"7-14\",\n",
    "                \"7-7\",\n",
    "                \"7-8\",\n",
    "                \"7-9\",\n",
    "                \"8-1\",\n",
    "                \"8-13\",\n",
    "                \"8-14\",\n",
    "                \"8-18\",\n",
    "                \"8-20\",\n",
    "                \"8-3\",\n",
    "                \"8-8\",\n",
    "                \"9-1\",\n",
    "                \"9-7\",\n",
    "            ],\n",
    "            \"domains\": [1, 2, 3, 4],\n",
    "            \"num_examples_per_domain_per_label\": 100,\n",
    "            \"pickle_path\": \"/mnt/wd500GB/CSC500/csc500-main/datasets/wisig.node3-19.stratified_ds.2022A.pkl\",\n",
    "            \"source_or_target_dataset\": \"source\",\n",
    "            \"x_transforms\": [],\n",
    "            \"episode_transforms\": [],\n",
    "            \"domain_prefix\": \"Wisig_\",\n",
    "        },\n",
    "    ],\n",
    "}\n"
   ]
  },
  {
   "cell_type": "code",
   "execution_count": 5,
   "id": "8fa1cc33",
   "metadata": {
    "execution": {
     "iopub.execute_input": "2022-03-07T08:16:35.813913Z",
     "iopub.status.busy": "2022-03-07T08:16:35.813641Z",
     "iopub.status.idle": "2022-03-07T08:16:35.823644Z",
     "shell.execute_reply": "2022-03-07T08:16:35.823954Z"
    },
    "papermill": {
     "duration": 0.026928,
     "end_time": "2022-03-07T08:16:35.824058",
     "exception": false,
     "start_time": "2022-03-07T08:16:35.797130",
     "status": "completed"
    },
    "tags": []
   },
   "outputs": [],
   "source": [
    "# Set this to True if you want to run this template directly\n",
    "STANDALONE = False\n",
    "if STANDALONE:\n",
    "    print(\"parameters not injected, running with standalone_parameters\")\n",
    "    parameters = standalone_parameters\n",
    "\n",
    "if not 'parameters' in locals() and not 'parameters' in globals():\n",
    "    raise Exception(\"Parameter injection failed\")\n",
    "\n",
    "#Use an easy dict for all the parameters\n",
    "p = EasyDict(parameters)\n",
    "\n",
    "supplied_keys = set(p.keys())\n",
    "\n",
    "if  supplied_keys != required_parameters:\n",
    "    print(\"Parameters are incorrect\")\n",
    "    if len(supplied_keys - required_parameters)>0: print(\"Shouldn't have:\", str(supplied_keys - required_parameters))\n",
    "    if len(required_parameters - supplied_keys)>0: print(\"Need to have:\", str(required_parameters - supplied_keys))\n",
    "    raise RuntimeError(\"Parameters are incorrect\")\n",
    "\n"
   ]
  },
  {
   "cell_type": "code",
   "execution_count": 6,
   "id": "3a028d58",
   "metadata": {
    "execution": {
     "iopub.execute_input": "2022-03-07T08:16:35.858071Z",
     "iopub.status.busy": "2022-03-07T08:16:35.857824Z",
     "iopub.status.idle": "2022-03-07T08:16:35.870029Z",
     "shell.execute_reply": "2022-03-07T08:16:35.869723Z"
    },
    "papermill": {
     "duration": 0.027794,
     "end_time": "2022-03-07T08:16:35.870098",
     "exception": false,
     "start_time": "2022-03-07T08:16:35.842304",
     "status": "completed"
    },
    "tags": []
   },
   "outputs": [],
   "source": [
    "###################################\n",
    "# Set the RNGs and make it all deterministic\n",
    "###################################\n",
    "np.random.seed(p.seed)\n",
    "random.seed(p.seed)\n",
    "torch.manual_seed(p.seed)\n",
    "\n",
    "torch.use_deterministic_algorithms(True) "
   ]
  },
  {
   "cell_type": "code",
   "execution_count": 7,
   "id": "b691acf6",
   "metadata": {
    "execution": {
     "iopub.execute_input": "2022-03-07T08:16:35.902843Z",
     "iopub.status.busy": "2022-03-07T08:16:35.902578Z",
     "iopub.status.idle": "2022-03-07T08:16:35.913318Z",
     "shell.execute_reply": "2022-03-07T08:16:35.913523Z"
    },
    "papermill": {
     "duration": 0.026257,
     "end_time": "2022-03-07T08:16:35.913579",
     "exception": false,
     "start_time": "2022-03-07T08:16:35.887322",
     "status": "completed"
    },
    "tags": []
   },
   "outputs": [],
   "source": [
    "###########################################\n",
    "# The stratified datasets honor this\n",
    "###########################################\n",
    "torch.set_default_dtype(eval(p.torch_default_dtype))"
   ]
  },
  {
   "cell_type": "code",
   "execution_count": 8,
   "id": "b5fba671",
   "metadata": {
    "execution": {
     "iopub.execute_input": "2022-03-07T08:16:35.946108Z",
     "iopub.status.busy": "2022-03-07T08:16:35.945840Z",
     "iopub.status.idle": "2022-03-07T08:16:35.983069Z",
     "shell.execute_reply": "2022-03-07T08:16:35.983438Z"
    },
    "papermill": {
     "duration": 0.052545,
     "end_time": "2022-03-07T08:16:35.983540",
     "exception": false,
     "start_time": "2022-03-07T08:16:35.930995",
     "status": "completed"
    },
    "tags": []
   },
   "outputs": [],
   "source": [
    "###################################\n",
    "# Build the network(s)\n",
    "# Note: It's critical to do this AFTER setting the RNG\n",
    "###################################\n",
    "x_net = build_sequential(p.x_net)"
   ]
  },
  {
   "cell_type": "code",
   "execution_count": 9,
   "id": "5d7e61cc",
   "metadata": {
    "execution": {
     "iopub.execute_input": "2022-03-07T08:16:36.015922Z",
     "iopub.status.busy": "2022-03-07T08:16:36.015676Z",
     "iopub.status.idle": "2022-03-07T08:16:36.027378Z",
     "shell.execute_reply": "2022-03-07T08:16:36.027067Z"
    },
    "papermill": {
     "duration": 0.027063,
     "end_time": "2022-03-07T08:16:36.027449",
     "exception": false,
     "start_time": "2022-03-07T08:16:36.000386",
     "status": "completed"
    },
    "tags": []
   },
   "outputs": [],
   "source": [
    "start_time_secs = time.time()"
   ]
  },
  {
   "cell_type": "code",
   "execution_count": 10,
   "id": "c6b67dfd",
   "metadata": {
    "execution": {
     "iopub.execute_input": "2022-03-07T08:16:36.061200Z",
     "iopub.status.busy": "2022-03-07T08:16:36.060953Z",
     "iopub.status.idle": "2022-03-07T08:16:36.073423Z",
     "shell.execute_reply": "2022-03-07T08:16:36.073095Z"
    },
    "papermill": {
     "duration": 0.028223,
     "end_time": "2022-03-07T08:16:36.073527",
     "exception": false,
     "start_time": "2022-03-07T08:16:36.045304",
     "status": "completed"
    },
    "tags": []
   },
   "outputs": [],
   "source": [
    "p.domains_source = []\n",
    "p.domains_target = []\n",
    "\n",
    "\n",
    "train_original_source = []\n",
    "val_original_source   = []\n",
    "test_original_source  = []\n",
    "\n",
    "train_original_target = []\n",
    "val_original_target   = []\n",
    "test_original_target  = []"
   ]
  },
  {
   "cell_type": "code",
   "execution_count": 11,
   "id": "e3d9c3d3",
   "metadata": {
    "execution": {
     "iopub.execute_input": "2022-03-07T08:16:36.107217Z",
     "iopub.status.busy": "2022-03-07T08:16:36.106973Z",
     "iopub.status.idle": "2022-03-07T08:16:36.118143Z",
     "shell.execute_reply": "2022-03-07T08:16:36.117741Z"
    },
    "papermill": {
     "duration": 0.0264,
     "end_time": "2022-03-07T08:16:36.118230",
     "exception": false,
     "start_time": "2022-03-07T08:16:36.091830",
     "status": "completed"
    },
    "tags": []
   },
   "outputs": [],
   "source": [
    "# global_x_transform_func = lambda x: normalize(x.to(torch.get_default_dtype()), \"unit_power\") # unit_power, unit_mag\n",
    "# global_x_transform_func = lambda x: normalize(x, \"unit_power\") # unit_power, unit_mag"
   ]
  },
  {
   "cell_type": "code",
   "execution_count": 12,
   "id": "acb78fd2",
   "metadata": {
    "execution": {
     "iopub.execute_input": "2022-03-07T08:16:36.154394Z",
     "iopub.status.busy": "2022-03-07T08:16:36.154138Z",
     "iopub.status.idle": "2022-03-07T08:16:36.166083Z",
     "shell.execute_reply": "2022-03-07T08:16:36.165637Z"
    },
    "papermill": {
     "duration": 0.032521,
     "end_time": "2022-03-07T08:16:36.166171",
     "exception": false,
     "start_time": "2022-03-07T08:16:36.133650",
     "status": "completed"
    },
    "tags": []
   },
   "outputs": [],
   "source": [
    "def add_dataset(\n",
    "    labels,\n",
    "    domains,\n",
    "    pickle_path,\n",
    "    x_transforms,\n",
    "    episode_transforms,\n",
    "    domain_prefix,\n",
    "    num_examples_per_domain_per_label,\n",
    "    source_or_target_dataset:str,\n",
    "    iterator_seed=p.seed,\n",
    "    dataset_seed=p.dataset_seed,\n",
    "    n_shot=p.n_shot,\n",
    "    n_way=p.n_way,\n",
    "    n_query=p.n_query,\n",
    "    train_val_test_k_factors=(p.train_k_factor,p.val_k_factor,p.test_k_factor),\n",
    "):\n",
    "   \n",
    "    if x_transforms == []: x_transform = None\n",
    "    else: x_transform = get_chained_transform(x_transforms)\n",
    "    \n",
    "    if episode_transforms == []: episode_transform = None\n",
    "    else: raise Exception(\"episode_transforms not implemented\")\n",
    "    \n",
    "    episode_transform = lambda tup, _prefix=domain_prefix: (_prefix + str(tup[0]), tup[1])\n",
    "\n",
    "\n",
    "    eaf = Episodic_Accessor_Factory(\n",
    "        labels=labels,\n",
    "        domains=domains,\n",
    "        num_examples_per_domain_per_label=num_examples_per_domain_per_label,\n",
    "        iterator_seed=iterator_seed,\n",
    "        dataset_seed=dataset_seed,\n",
    "        n_shot=n_shot,\n",
    "        n_way=n_way,\n",
    "        n_query=n_query,\n",
    "        train_val_test_k_factors=train_val_test_k_factors,\n",
    "        pickle_path=pickle_path,\n",
    "        x_transform_func=x_transform,\n",
    "    )\n",
    "\n",
    "    train, val, test = eaf.get_train(), eaf.get_val(), eaf.get_test()\n",
    "    train = Lazy_Iterable_Wrapper(train, episode_transform)\n",
    "    val = Lazy_Iterable_Wrapper(val, episode_transform)\n",
    "    test = Lazy_Iterable_Wrapper(test, episode_transform)\n",
    "\n",
    "    if source_or_target_dataset==\"source\":\n",
    "        train_original_source.append(train)\n",
    "        val_original_source.append(val)\n",
    "        test_original_source.append(test)\n",
    "\n",
    "        p.domains_source.extend(\n",
    "            [domain_prefix + str(u) for u in domains]\n",
    "        )\n",
    "    elif source_or_target_dataset==\"target\":\n",
    "        train_original_target.append(train)\n",
    "        val_original_target.append(val)\n",
    "        test_original_target.append(test)\n",
    "        p.domains_target.extend(\n",
    "            [domain_prefix + str(u) for u in domains]\n",
    "        )\n",
    "    else:\n",
    "        raise Exception(f\"invalid source_or_target_dataset: {source_or_target_dataset}\")\n",
    "    "
   ]
  },
  {
   "cell_type": "code",
   "execution_count": 13,
   "id": "fe266617",
   "metadata": {
    "execution": {
     "iopub.execute_input": "2022-03-07T08:16:36.199403Z",
     "iopub.status.busy": "2022-03-07T08:16:36.199082Z",
     "iopub.status.idle": "2022-03-07T08:16:37.080264Z",
     "shell.execute_reply": "2022-03-07T08:16:37.079816Z"
    },
    "papermill": {
     "duration": 0.896109,
     "end_time": "2022-03-07T08:16:37.080366",
     "exception": false,
     "start_time": "2022-03-07T08:16:36.184257",
     "status": "completed"
    },
    "tags": []
   },
   "outputs": [],
   "source": [
    "for ds in p.datasets:\n",
    "    add_dataset(**ds)"
   ]
  },
  {
   "cell_type": "code",
   "execution_count": 14,
   "id": "b90d65ac",
   "metadata": {
    "execution": {
     "iopub.execute_input": "2022-03-07T08:16:37.115765Z",
     "iopub.status.busy": "2022-03-07T08:16:37.115263Z",
     "iopub.status.idle": "2022-03-07T08:16:37.128062Z",
     "shell.execute_reply": "2022-03-07T08:16:37.127611Z"
    },
    "papermill": {
     "duration": 0.029084,
     "end_time": "2022-03-07T08:16:37.128154",
     "exception": false,
     "start_time": "2022-03-07T08:16:37.099070",
     "status": "completed"
    },
    "tags": []
   },
   "outputs": [],
   "source": [
    "# from steves_utils.CORES.utils import (\n",
    "#     ALL_NODES,\n",
    "#     ALL_NODES_MINIMUM_1000_EXAMPLES,\n",
    "#     ALL_DAYS\n",
    "# )\n",
    "\n",
    "# add_dataset(\n",
    "#     labels=ALL_NODES,\n",
    "#     domains = ALL_DAYS,\n",
    "#     num_examples_per_domain_per_label=100,\n",
    "#     pickle_path=os.path.join(get_datasets_base_path(), \"cores.stratified_ds.2022A.pkl\"),\n",
    "#     source_or_target_dataset=\"target\",\n",
    "#     x_transform_func=global_x_transform_func,\n",
    "#     domain_modifier=lambda u: f\"cores_{u}\"\n",
    "# )"
   ]
  },
  {
   "cell_type": "code",
   "execution_count": 15,
   "id": "76db484d",
   "metadata": {
    "execution": {
     "iopub.execute_input": "2022-03-07T08:16:37.162542Z",
     "iopub.status.busy": "2022-03-07T08:16:37.162282Z",
     "iopub.status.idle": "2022-03-07T08:16:37.173630Z",
     "shell.execute_reply": "2022-03-07T08:16:37.173240Z"
    },
    "papermill": {
     "duration": 0.027171,
     "end_time": "2022-03-07T08:16:37.173719",
     "exception": false,
     "start_time": "2022-03-07T08:16:37.146548",
     "status": "completed"
    },
    "tags": []
   },
   "outputs": [],
   "source": [
    "# from steves_utils.ORACLE.utils_v2 import (\n",
    "#     ALL_DISTANCES_FEET,\n",
    "#     ALL_RUNS,\n",
    "#     ALL_SERIAL_NUMBERS,\n",
    "# )\n",
    "\n",
    "\n",
    "# add_dataset(\n",
    "#     labels=ALL_SERIAL_NUMBERS,\n",
    "#     domains = list(set(ALL_DISTANCES_FEET) - {2,62}),\n",
    "#     num_examples_per_domain_per_label=100,\n",
    "#     pickle_path=os.path.join(get_datasets_base_path(), \"oracle.Run2_framed_2000Examples_stratified_ds.2022A.pkl\"),\n",
    "#     source_or_target_dataset=\"source\",\n",
    "#     x_transform_func=global_x_transform_func,\n",
    "#     domain_modifier=lambda u: f\"oracle1_{u}\"\n",
    "# )\n"
   ]
  },
  {
   "cell_type": "code",
   "execution_count": 16,
   "id": "97dea9d2",
   "metadata": {
    "execution": {
     "iopub.execute_input": "2022-03-07T08:16:37.207330Z",
     "iopub.status.busy": "2022-03-07T08:16:37.207079Z",
     "iopub.status.idle": "2022-03-07T08:16:37.220988Z",
     "shell.execute_reply": "2022-03-07T08:16:37.220683Z"
    },
    "papermill": {
     "duration": 0.029412,
     "end_time": "2022-03-07T08:16:37.221059",
     "exception": false,
     "start_time": "2022-03-07T08:16:37.191647",
     "status": "completed"
    },
    "tags": []
   },
   "outputs": [],
   "source": [
    "# from steves_utils.ORACLE.utils_v2 import (\n",
    "#     ALL_DISTANCES_FEET,\n",
    "#     ALL_RUNS,\n",
    "#     ALL_SERIAL_NUMBERS,\n",
    "# )\n",
    "\n",
    "\n",
    "# add_dataset(\n",
    "#     labels=ALL_SERIAL_NUMBERS,\n",
    "#     domains = list(set(ALL_DISTANCES_FEET) - {2,62,56}),\n",
    "#     num_examples_per_domain_per_label=100,\n",
    "#     pickle_path=os.path.join(get_datasets_base_path(), \"oracle.Run2_framed_2000Examples_stratified_ds.2022A.pkl\"),\n",
    "#     source_or_target_dataset=\"source\",\n",
    "#     x_transform_func=global_x_transform_func,\n",
    "#     domain_modifier=lambda u: f\"oracle2_{u}\"\n",
    "# )"
   ]
  },
  {
   "cell_type": "code",
   "execution_count": 17,
   "id": "6f289866",
   "metadata": {
    "execution": {
     "iopub.execute_input": "2022-03-07T08:16:37.264298Z",
     "iopub.status.busy": "2022-03-07T08:16:37.264042Z",
     "iopub.status.idle": "2022-03-07T08:16:37.272311Z",
     "shell.execute_reply": "2022-03-07T08:16:37.272095Z"
    },
    "papermill": {
     "duration": 0.032694,
     "end_time": "2022-03-07T08:16:37.272364",
     "exception": false,
     "start_time": "2022-03-07T08:16:37.239670",
     "status": "completed"
    },
    "tags": []
   },
   "outputs": [],
   "source": [
    "# add_dataset(\n",
    "#     labels=list(range(19)),\n",
    "#     domains = [0,1,2],\n",
    "#     num_examples_per_domain_per_label=100,\n",
    "#     pickle_path=os.path.join(get_datasets_base_path(), \"metehan.stratified_ds.2022A.pkl\"),\n",
    "#     source_or_target_dataset=\"target\",\n",
    "#     x_transform_func=global_x_transform_func,\n",
    "#     domain_modifier=lambda u: f\"met_{u}\"\n",
    "# )"
   ]
  },
  {
   "cell_type": "code",
   "execution_count": 18,
   "id": "86a863c3",
   "metadata": {
    "execution": {
     "iopub.execute_input": "2022-03-07T08:16:37.302103Z",
     "iopub.status.busy": "2022-03-07T08:16:37.301430Z",
     "iopub.status.idle": "2022-03-07T08:16:37.314618Z",
     "shell.execute_reply": "2022-03-07T08:16:37.314267Z"
    },
    "papermill": {
     "duration": 0.028376,
     "end_time": "2022-03-07T08:16:37.314688",
     "exception": false,
     "start_time": "2022-03-07T08:16:37.286312",
     "status": "completed"
    },
    "tags": []
   },
   "outputs": [],
   "source": [
    "# # from steves_utils.wisig.utils import (\n",
    "# #     ALL_NODES_MINIMUM_100_EXAMPLES,\n",
    "# #     ALL_NODES_MINIMUM_500_EXAMPLES,\n",
    "# #     ALL_NODES_MINIMUM_1000_EXAMPLES,\n",
    "# #     ALL_DAYS\n",
    "# # )\n",
    "\n",
    "# import steves_utils.wisig.utils as wisig\n",
    "\n",
    "\n",
    "# add_dataset(\n",
    "#     labels=wisig.ALL_NODES_MINIMUM_100_EXAMPLES,\n",
    "#     domains = wisig.ALL_DAYS,\n",
    "#     num_examples_per_domain_per_label=100,\n",
    "#     pickle_path=os.path.join(get_datasets_base_path(), \"wisig.node3-19.stratified_ds.2022A.pkl\"),\n",
    "#     source_or_target_dataset=\"target\",\n",
    "#     x_transform_func=global_x_transform_func,\n",
    "#     domain_modifier=lambda u: f\"wisig_{u}\"\n",
    "# )"
   ]
  },
  {
   "cell_type": "code",
   "execution_count": 19,
   "id": "fd5442bc",
   "metadata": {
    "execution": {
     "iopub.execute_input": "2022-03-07T08:16:37.351794Z",
     "iopub.status.busy": "2022-03-07T08:16:37.351529Z",
     "iopub.status.idle": "2022-03-07T08:16:37.359904Z",
     "shell.execute_reply": "2022-03-07T08:16:37.360269Z"
    },
    "papermill": {
     "duration": 0.026043,
     "end_time": "2022-03-07T08:16:37.360373",
     "exception": false,
     "start_time": "2022-03-07T08:16:37.334330",
     "status": "completed"
    },
    "tags": []
   },
   "outputs": [],
   "source": [
    "###################################\n",
    "# Build the dataset\n",
    "###################################\n",
    "train_original_source = Iterable_Aggregator(train_original_source, p.seed)\n",
    "val_original_source = Iterable_Aggregator(val_original_source, p.seed)\n",
    "test_original_source = Iterable_Aggregator(test_original_source, p.seed)\n",
    "\n",
    "\n",
    "train_original_target = Iterable_Aggregator(train_original_target, p.seed)\n",
    "val_original_target = Iterable_Aggregator(val_original_target, p.seed)\n",
    "test_original_target = Iterable_Aggregator(test_original_target, p.seed)\n",
    "\n",
    "# For CNN We only use X and Y. And we only train on the source.\n",
    "# Properly form the data using a transform lambda and Lazy_Iterable_Wrapper. Finally wrap them in a dataloader\n",
    "\n",
    "transform_lambda = lambda ex: ex[1] # Original is (<domain>, <episode>) so we strip down to episode only\n",
    "\n",
    "train_processed_source = Lazy_Iterable_Wrapper(train_original_source, transform_lambda)\n",
    "val_processed_source   = Lazy_Iterable_Wrapper(val_original_source, transform_lambda)\n",
    "test_processed_source  = Lazy_Iterable_Wrapper(test_original_source, transform_lambda)\n",
    "\n",
    "train_processed_target = Lazy_Iterable_Wrapper(train_original_target, transform_lambda)\n",
    "val_processed_target   = Lazy_Iterable_Wrapper(val_original_target, transform_lambda)\n",
    "test_processed_target  = Lazy_Iterable_Wrapper(test_original_target, transform_lambda)\n",
    "\n",
    "datasets = EasyDict({\n",
    "    \"source\": {\n",
    "        \"original\": {\"train\":train_original_source, \"val\":val_original_source, \"test\":test_original_source},\n",
    "        \"processed\": {\"train\":train_processed_source, \"val\":val_processed_source, \"test\":test_processed_source}\n",
    "    },\n",
    "    \"target\": {\n",
    "        \"original\": {\"train\":train_original_target, \"val\":val_original_target, \"test\":test_original_target},\n",
    "        \"processed\": {\"train\":train_processed_target, \"val\":val_processed_target, \"test\":test_processed_target}\n",
    "    },\n",
    "})"
   ]
  },
  {
   "cell_type": "code",
   "execution_count": 20,
   "id": "5b3c01fc",
   "metadata": {
    "execution": {
     "iopub.execute_input": "2022-03-07T08:16:37.396111Z",
     "iopub.status.busy": "2022-03-07T08:16:37.395860Z",
     "iopub.status.idle": "2022-03-07T08:16:39.443492Z",
     "shell.execute_reply": "2022-03-07T08:16:39.443979Z"
    },
    "papermill": {
     "duration": 2.064803,
     "end_time": "2022-03-07T08:16:39.444117",
     "exception": false,
     "start_time": "2022-03-07T08:16:37.379314",
     "status": "completed"
    },
    "tags": []
   },
   "outputs": [
    {
     "name": "stdout",
     "output_type": "stream",
     "text": [
      "{'Wisig_2', 'Wisig_1', 'Wisig_4', 'Wisig_3'}\n"
     ]
    },
    {
     "name": "stdout",
     "output_type": "stream",
     "text": [
      "{'CORES_4', 'CORES_3', 'CORES_5', 'CORES_1', 'CORES_2'}\n"
     ]
    },
    {
     "name": "stdout",
     "output_type": "stream",
     "text": [
      "tensor([[[ 0.0210,  0.0215,  0.0138,  ...,  0.0146,  0.0160,  0.0081],\n",
      "         [ 0.0200,  0.0190,  0.0073,  ...,  0.0239,  0.0226,  0.0130]],\n",
      "\n",
      "        [[-0.0134, -0.0245, -0.0160,  ..., -0.0129, -0.0167, -0.0062],\n",
      "         [-0.0063,  0.0005, -0.0093,  ..., -0.0009, -0.0032, -0.0099]],\n",
      "\n",
      "        [[-0.0043, -0.0036, -0.0026,  ...,  0.0110,  0.0081,  0.0111],\n",
      "         [-0.0004, -0.0033,  0.0060,  ...,  0.0013, -0.0035, -0.0037]],\n",
      "\n",
      "        ...,\n",
      "\n",
      "        [[ 0.0251,  0.0267,  0.2181,  ...,  0.0147,  0.0709,  0.1179],\n",
      "         [ 0.0049, -0.0652, -0.0124,  ..., -0.0130,  0.0218,  0.0892]],\n",
      "\n",
      "        [[-0.0028,  0.0035,  0.0080,  ...,  0.1277, -0.1034, -0.1620],\n",
      "         [ 0.0064,  0.0069,  0.0037,  ...,  0.2233,  0.2709,  0.0627]],\n",
      "\n",
      "        [[ 0.0670,  0.0985, -0.1749,  ...,  0.0159, -0.0349, -0.1887],\n",
      "         [ 0.0005,  0.1817,  0.1496,  ...,  0.0739,  0.1483,  0.1127]]])\n"
     ]
    }
   ],
   "source": [
    "from steves_utils.transforms import get_average_magnitude, get_average_power\n",
    "\n",
    "print(set([u for u,_ in val_original_source]))\n",
    "print(set([u for u,_ in val_original_target]))\n",
    "\n",
    "s_x, s_y, q_x, q_y, _ = next(iter(train_processed_source))\n",
    "print(s_x)\n",
    "\n",
    "# for ds in [\n",
    "#     train_processed_source,\n",
    "#     val_processed_source,\n",
    "#     test_processed_source,\n",
    "#     train_processed_target,\n",
    "#     val_processed_target,\n",
    "#     test_processed_target\n",
    "# ]:\n",
    "#     for s_x, s_y, q_x, q_y, _ in ds:\n",
    "#         for X in (s_x, q_x):\n",
    "#             for x in X:\n",
    "#                 assert np.isclose(get_average_magnitude(x.numpy()), 1.0)\n",
    "#                 assert np.isclose(get_average_power(x.numpy()), 1.0)\n",
    "                "
   ]
  },
  {
   "cell_type": "code",
   "execution_count": 21,
   "id": "bbdacba1",
   "metadata": {
    "execution": {
     "iopub.execute_input": "2022-03-07T08:16:39.481905Z",
     "iopub.status.busy": "2022-03-07T08:16:39.481633Z",
     "iopub.status.idle": "2022-03-07T08:16:39.535375Z",
     "shell.execute_reply": "2022-03-07T08:16:39.535751Z"
    },
    "papermill": {
     "duration": 0.072092,
     "end_time": "2022-03-07T08:16:39.535865",
     "exception": false,
     "start_time": "2022-03-07T08:16:39.463773",
     "status": "completed"
    },
    "tags": []
   },
   "outputs": [
    {
     "name": "stdout",
     "output_type": "stream",
     "text": [
      "(2, 256)\n"
     ]
    }
   ],
   "source": [
    "###################################\n",
    "# Build the model\n",
    "###################################\n",
    "model = Steves_Prototypical_Network(x_net, device=p.device, x_shape=(2,256))\n",
    "optimizer = Adam(params=model.parameters(), lr=p.lr)"
   ]
  },
  {
   "cell_type": "code",
   "execution_count": 22,
   "id": "22b39ac5",
   "metadata": {
    "execution": {
     "iopub.execute_input": "2022-03-07T08:16:39.571625Z",
     "iopub.status.busy": "2022-03-07T08:16:39.571372Z",
     "iopub.status.idle": "2022-03-07T08:18:05.695586Z",
     "shell.execute_reply": "2022-03-07T08:18:05.695083Z"
    },
    "papermill": {
     "duration": 86.141221,
     "end_time": "2022-03-07T08:18:05.695691",
     "exception": false,
     "start_time": "2022-03-07T08:16:39.554470",
     "status": "completed"
    },
    "tags": []
   },
   "outputs": [
    {
     "name": "stdout",
     "output_type": "stream",
     "text": [
      "epoch: 1, [batch: 1 / 350], examples_per_second: 703.3333, train_label_loss: 2.7679, \n"
     ]
    },
    {
     "name": "stdout",
     "output_type": "stream",
     "text": [
      "epoch: 1, [batch: 35 / 350], examples_per_second: 3834.3162, train_label_loss: 1.4404, \n"
     ]
    },
    {
     "name": "stdout",
     "output_type": "stream",
     "text": [
      "epoch: 1, [batch: 70 / 350], examples_per_second: 3849.9159, train_label_loss: 0.6833, \n"
     ]
    },
    {
     "name": "stdout",
     "output_type": "stream",
     "text": [
      "epoch: 1, [batch: 105 / 350], examples_per_second: 3852.7301, train_label_loss: 0.7534, \n"
     ]
    },
    {
     "name": "stdout",
     "output_type": "stream",
     "text": [
      "epoch: 1, [batch: 140 / 350], examples_per_second: 3835.5947, train_label_loss: 0.8925, \n"
     ]
    },
    {
     "name": "stdout",
     "output_type": "stream",
     "text": [
      "epoch: 1, [batch: 175 / 350], examples_per_second: 3848.0584, train_label_loss: 0.5023, \n"
     ]
    },
    {
     "name": "stdout",
     "output_type": "stream",
     "text": [
      "epoch: 1, [batch: 210 / 350], examples_per_second: 3843.9209, train_label_loss: 0.4795, \n"
     ]
    },
    {
     "name": "stdout",
     "output_type": "stream",
     "text": [
      "epoch: 1, [batch: 245 / 350], examples_per_second: 3829.1957, train_label_loss: 0.4907, \n"
     ]
    },
    {
     "name": "stdout",
     "output_type": "stream",
     "text": [
      "epoch: 1, [batch: 280 / 350], examples_per_second: 3843.6450, train_label_loss: 0.4040, \n"
     ]
    },
    {
     "name": "stdout",
     "output_type": "stream",
     "text": [
      "epoch: 1, [batch: 315 / 350], examples_per_second: 3854.3011, train_label_loss: 0.3341, \n"
     ]
    },
    {
     "name": "stdout",
     "output_type": "stream",
     "text": [
      "=============================================================\n",
      "epoch: 1, source_val_acc_label: 0.9186, target_val_acc_label: 0.9635, source_val_label_loss: 0.4147, target_val_label_loss: 0.3537, \n",
      "=============================================================\n"
     ]
    },
    {
     "name": "stdout",
     "output_type": "stream",
     "text": [
      "New best\n"
     ]
    },
    {
     "name": "stdout",
     "output_type": "stream",
     "text": [
      "epoch: 2, [batch: 1 / 352], examples_per_second: 109.8102, train_label_loss: 0.1690, \n"
     ]
    },
    {
     "name": "stdout",
     "output_type": "stream",
     "text": [
      "epoch: 2, [batch: 36 / 352], examples_per_second: 3933.3933, train_label_loss: 0.2832, \n"
     ]
    },
    {
     "name": "stdout",
     "output_type": "stream",
     "text": [
      "epoch: 2, [batch: 71 / 352], examples_per_second: 3930.5476, train_label_loss: 0.2751, \n"
     ]
    },
    {
     "name": "stdout",
     "output_type": "stream",
     "text": [
      "epoch: 2, [batch: 106 / 352], examples_per_second: 3919.4404, train_label_loss: 0.7668, \n"
     ]
    },
    {
     "name": "stdout",
     "output_type": "stream",
     "text": [
      "epoch: 2, [batch: 141 / 352], examples_per_second: 3905.0352, train_label_loss: 0.5633, \n"
     ]
    },
    {
     "name": "stdout",
     "output_type": "stream",
     "text": [
      "epoch: 2, [batch: 176 / 352], examples_per_second: 3924.0589, train_label_loss: 0.4317, \n"
     ]
    },
    {
     "name": "stdout",
     "output_type": "stream",
     "text": [
      "epoch: 2, [batch: 211 / 352], examples_per_second: 3910.9655, train_label_loss: 0.7231, \n"
     ]
    },
    {
     "name": "stdout",
     "output_type": "stream",
     "text": [
      "epoch: 2, [batch: 246 / 352], examples_per_second: 3903.0950, train_label_loss: 0.4227, \n"
     ]
    },
    {
     "name": "stdout",
     "output_type": "stream",
     "text": [
      "epoch: 2, [batch: 281 / 352], examples_per_second: 3930.8859, train_label_loss: 0.2184, \n"
     ]
    },
    {
     "name": "stdout",
     "output_type": "stream",
     "text": [
      "epoch: 2, [batch: 316 / 352], examples_per_second: 3926.8847, train_label_loss: 0.6800, \n"
     ]
    },
    {
     "name": "stdout",
     "output_type": "stream",
     "text": [
      "=============================================================\n",
      "epoch: 2, source_val_acc_label: 0.9395, target_val_acc_label: 0.9678, source_val_label_loss: 0.3439, target_val_label_loss: 0.2547, \n",
      "=============================================================\n"
     ]
    },
    {
     "name": "stdout",
     "output_type": "stream",
     "text": [
      "New best\n"
     ]
    },
    {
     "name": "stdout",
     "output_type": "stream",
     "text": [
      "epoch: 3, [batch: 1 / 352], examples_per_second: 110.4276, train_label_loss: 0.3573, \n"
     ]
    },
    {
     "name": "stdout",
     "output_type": "stream",
     "text": [
      "epoch: 3, [batch: 36 / 352], examples_per_second: 3925.8784, train_label_loss: 0.1471, \n"
     ]
    },
    {
     "name": "stdout",
     "output_type": "stream",
     "text": [
      "epoch: 3, [batch: 71 / 352], examples_per_second: 3933.6310, train_label_loss: 0.3806, \n"
     ]
    },
    {
     "name": "stdout",
     "output_type": "stream",
     "text": [
      "epoch: 3, [batch: 106 / 352], examples_per_second: 3934.2766, train_label_loss: 0.2528, \n"
     ]
    },
    {
     "name": "stdout",
     "output_type": "stream",
     "text": [
      "epoch: 3, [batch: 141 / 352], examples_per_second: 3913.2329, train_label_loss: 0.1840, \n"
     ]
    },
    {
     "name": "stdout",
     "output_type": "stream",
     "text": [
      "epoch: 3, [batch: 176 / 352], examples_per_second: 3934.8206, train_label_loss: 0.2386, \n"
     ]
    },
    {
     "name": "stdout",
     "output_type": "stream",
     "text": [
      "epoch: 3, [batch: 211 / 352], examples_per_second: 3926.6522, train_label_loss: 0.0972, \n"
     ]
    },
    {
     "name": "stdout",
     "output_type": "stream",
     "text": [
      "epoch: 3, [batch: 246 / 352], examples_per_second: 3917.1796, train_label_loss: 0.1640, \n"
     ]
    },
    {
     "name": "stdout",
     "output_type": "stream",
     "text": [
      "epoch: 3, [batch: 281 / 352], examples_per_second: 3933.2901, train_label_loss: 0.1712, \n"
     ]
    },
    {
     "name": "stdout",
     "output_type": "stream",
     "text": [
      "epoch: 3, [batch: 316 / 352], examples_per_second: 3933.3144, train_label_loss: 0.2599, \n"
     ]
    },
    {
     "name": "stdout",
     "output_type": "stream",
     "text": [
      "=============================================================\n",
      "epoch: 3, source_val_acc_label: 0.9547, target_val_acc_label: 0.9710, source_val_label_loss: 0.2740, target_val_label_loss: 0.2028, \n",
      "=============================================================\n"
     ]
    },
    {
     "name": "stdout",
     "output_type": "stream",
     "text": [
      "New best\n"
     ]
    }
   ],
   "source": [
    "###################################\n",
    "# train\n",
    "###################################\n",
    "jig = PTN_Train_Eval_Test_Jig(model, p.BEST_MODEL_PATH, p.device)\n",
    "\n",
    "jig.train(\n",
    "    train_iterable=datasets.source.processed.train,\n",
    "    source_val_iterable=datasets.source.processed.val,\n",
    "    target_val_iterable=datasets.target.processed.val,\n",
    "    num_epochs=p.n_epoch,\n",
    "    num_logs_per_epoch=p.NUM_LOGS_PER_EPOCH,\n",
    "    patience=p.patience,\n",
    "    optimizer=optimizer,\n",
    "    criteria_for_best=p.criteria_for_best,\n",
    ")"
   ]
  },
  {
   "cell_type": "code",
   "execution_count": 23,
   "id": "31e8fabf",
   "metadata": {
    "execution": {
     "iopub.execute_input": "2022-03-07T08:18:05.744455Z",
     "iopub.status.busy": "2022-03-07T08:18:05.744106Z",
     "iopub.status.idle": "2022-03-07T08:18:05.760799Z",
     "shell.execute_reply": "2022-03-07T08:18:05.760304Z"
    },
    "papermill": {
     "duration": 0.040264,
     "end_time": "2022-03-07T08:18:05.760906",
     "exception": false,
     "start_time": "2022-03-07T08:18:05.720642",
     "status": "completed"
    },
    "tags": []
   },
   "outputs": [],
   "source": [
    "total_experiment_time_secs = time.time() - start_time_secs"
   ]
  },
  {
   "cell_type": "code",
   "execution_count": 24,
   "id": "87b9595b",
   "metadata": {
    "execution": {
     "iopub.execute_input": "2022-03-07T08:18:05.812310Z",
     "iopub.status.busy": "2022-03-07T08:18:05.811778Z",
     "iopub.status.idle": "2022-03-07T08:18:16.514203Z",
     "shell.execute_reply": "2022-03-07T08:18:16.513774Z"
    },
    "papermill": {
     "duration": 10.727149,
     "end_time": "2022-03-07T08:18:16.514309",
     "exception": false,
     "start_time": "2022-03-07T08:18:05.787160",
     "status": "completed"
    },
    "tags": []
   },
   "outputs": [],
   "source": [
    "###################################\n",
    "# Evaluate the model\n",
    "###################################\n",
    "source_test_label_accuracy, source_test_label_loss = jig.test(datasets.source.processed.test)\n",
    "target_test_label_accuracy, target_test_label_loss = jig.test(datasets.target.processed.test)\n",
    "\n",
    "source_val_label_accuracy, source_val_label_loss = jig.test(datasets.source.processed.val)\n",
    "target_val_label_accuracy, target_val_label_loss = jig.test(datasets.target.processed.val)\n",
    "\n",
    "history = jig.get_history()\n",
    "\n",
    "total_epochs_trained = len(history[\"epoch_indices\"])\n",
    "\n",
    "val_dl = Iterable_Aggregator((datasets.source.original.val,datasets.target.original.val))\n",
    "\n",
    "confusion = ptn_confusion_by_domain_over_dataloader(model, p.device, val_dl)\n",
    "per_domain_accuracy = per_domain_accuracy_from_confusion(confusion)\n",
    "\n",
    "# Add a key to per_domain_accuracy for if it was a source domain\n",
    "for domain, accuracy in per_domain_accuracy.items():\n",
    "    per_domain_accuracy[domain] = {\n",
    "        \"accuracy\": accuracy,\n",
    "        \"source?\": domain in p.domains_source\n",
    "    }\n",
    "\n",
    "# Do an independent accuracy assesment JUST TO BE SURE!\n",
    "# _source_test_label_accuracy = independent_accuracy_assesment(model, datasets.source.processed.test, p.device)\n",
    "# _target_test_label_accuracy = independent_accuracy_assesment(model, datasets.target.processed.test, p.device)\n",
    "# _source_val_label_accuracy = independent_accuracy_assesment(model, datasets.source.processed.val, p.device)\n",
    "# _target_val_label_accuracy = independent_accuracy_assesment(model, datasets.target.processed.val, p.device)\n",
    "\n",
    "# assert(_source_test_label_accuracy == source_test_label_accuracy)\n",
    "# assert(_target_test_label_accuracy == target_test_label_accuracy)\n",
    "# assert(_source_val_label_accuracy == source_val_label_accuracy)\n",
    "# assert(_target_val_label_accuracy == target_val_label_accuracy)\n",
    "\n",
    "experiment = {\n",
    "    \"experiment_name\": p.experiment_name,\n",
    "    \"parameters\": dict(p),\n",
    "    \"results\": {\n",
    "        \"source_test_label_accuracy\": source_test_label_accuracy,\n",
    "        \"source_test_label_loss\": source_test_label_loss,\n",
    "        \"target_test_label_accuracy\": target_test_label_accuracy,\n",
    "        \"target_test_label_loss\": target_test_label_loss,\n",
    "        \"source_val_label_accuracy\": source_val_label_accuracy,\n",
    "        \"source_val_label_loss\": source_val_label_loss,\n",
    "        \"target_val_label_accuracy\": target_val_label_accuracy,\n",
    "        \"target_val_label_loss\": target_val_label_loss,\n",
    "        \"total_epochs_trained\": total_epochs_trained,\n",
    "        \"total_experiment_time_secs\": total_experiment_time_secs,\n",
    "        \"confusion\": confusion,\n",
    "        \"per_domain_accuracy\": per_domain_accuracy,\n",
    "    },\n",
    "    \"history\": history,\n",
    "    \"dataset_metrics\": get_dataset_metrics(datasets, \"ptn\"),\n",
    "}"
   ]
  },
  {
   "cell_type": "code",
   "execution_count": 25,
   "id": "54a21829",
   "metadata": {
    "execution": {
     "iopub.execute_input": "2022-03-07T08:18:16.561579Z",
     "iopub.status.busy": "2022-03-07T08:18:16.561329Z",
     "iopub.status.idle": "2022-03-07T08:18:16.740433Z",
     "shell.execute_reply": "2022-03-07T08:18:16.739976Z"
    },
    "papermill": {
     "duration": 0.202576,
     "end_time": "2022-03-07T08:18:16.740528",
     "exception": false,
     "start_time": "2022-03-07T08:18:16.537952",
     "status": "completed"
    },
    "tags": []
   },
   "outputs": [
    {
     "data": {
      "image/png": "[encoded data removed]",
      "text/plain": [
       "<Figure size 1080x504 with 1 Axes>"
      ]
     },
     "metadata": {
      "needs_background": "light"
     },
     "output_type": "display_data"
    }
   ],
   "source": [
    "ax = get_loss_curve(experiment)\n",
    "plt.show()"
   ]
  },
  {
   "cell_type": "code",
   "execution_count": 26,
   "id": "fd8a0f60",
   "metadata": {
    "execution": {
     "iopub.execute_input": "2022-03-07T08:18:16.791895Z",
     "iopub.status.busy": "2022-03-07T08:18:16.791644Z",
     "iopub.status.idle": "2022-03-07T08:18:16.968325Z",
     "shell.execute_reply": "2022-03-07T08:18:16.968736Z"
    },
    "papermill": {
     "duration": 0.201344,
     "end_time": "2022-03-07T08:18:16.968859",
     "exception": false,
     "start_time": "2022-03-07T08:18:16.767515",
     "status": "completed"
    },
    "tags": []
   },
   "outputs": [
    {
     "data": {
      "text/plain": [
       "<matplotlib.axes._subplots.AxesSubplot at 0x7f9114326b80>"
      ]
     },
     "execution_count": 26,
     "metadata": {},
     "output_type": "execute_result"
    },
    {
     "data": {
      "image/png": "[encoded data removed]",
      "text/plain": [
       "<Figure size 1080x504 with 1 Axes>"
      ]
     },
     "metadata": {
      "needs_background": "light"
     },
     "output_type": "display_data"
    }
   ],
   "source": [
    "get_results_table(experiment)"
   ]
  },
  {
   "cell_type": "code",
   "execution_count": 27,
   "id": "cf8dc689",
   "metadata": {
    "execution": {
     "iopub.execute_input": "2022-03-07T08:18:17.023647Z",
     "iopub.status.busy": "2022-03-07T08:18:17.023393Z",
     "iopub.status.idle": "2022-03-07T08:18:17.206659Z",
     "shell.execute_reply": "2022-03-07T08:18:17.206205Z"
    },
    "papermill": {
     "duration": 0.208856,
     "end_time": "2022-03-07T08:18:17.206767",
     "exception": false,
     "start_time": "2022-03-07T08:18:16.997911",
     "status": "completed"
    },
    "tags": []
   },
   "outputs": [
    {
     "data": {
      "text/plain": [
       "<matplotlib.axes._subplots.AxesSubplot at 0x7f90f488a9a0>"
      ]
     },
     "execution_count": 27,
     "metadata": {},
     "output_type": "execute_result"
    },
    {
     "data": {
      "image/png": "[encoded data removed]",
      "text/plain": [
       "<Figure size 1080x504 with 1 Axes>"
      ]
     },
     "metadata": {
      "needs_background": "light"
     },
     "output_type": "display_data"
    }
   ],
   "source": [
    "get_domain_accuracies(experiment)"
   ]
  },
  {
   "cell_type": "code",
   "execution_count": 28,
   "id": "a74ae082",
   "metadata": {
    "execution": {
     "iopub.execute_input": "2022-03-07T08:18:17.261827Z",
     "iopub.status.busy": "2022-03-07T08:18:17.261570Z",
     "iopub.status.idle": "2022-03-07T08:18:17.271996Z",
     "shell.execute_reply": "2022-03-07T08:18:17.271546Z"
    },
    "papermill": {
     "duration": 0.036977,
     "end_time": "2022-03-07T08:18:17.272087",
     "exception": false,
     "start_time": "2022-03-07T08:18:17.235110",
     "status": "completed"
    },
    "tags": []
   },
   "outputs": [
    {
     "name": "stdout",
     "output_type": "stream",
     "text": [
      "Source Test Label Accuracy: 0.9457614942528736 Target Test Label Accuracy: 0.9729885057471265\n",
      "Source Val Label Accuracy: 0.9547413793103449 Target Val Label Accuracy: 0.9709770114942529\n"
     ]
    }
   ],
   "source": [
    "print(\"Source Test Label Accuracy:\", experiment[\"results\"][\"source_test_label_accuracy\"], \"Target Test Label Accuracy:\", experiment[\"results\"][\"target_test_label_accuracy\"])\n",
    "print(\"Source Val Label Accuracy:\", experiment[\"results\"][\"source_val_label_accuracy\"], \"Target Val Label Accuracy:\", experiment[\"results\"][\"target_val_label_accuracy\"])"
   ]
  },
  {
   "cell_type": "code",
   "execution_count": 29,
   "id": "dacca602",
   "metadata": {
    "execution": {
     "iopub.execute_input": "2022-03-07T08:18:17.324645Z",
     "iopub.status.busy": "2022-03-07T08:18:17.324393Z",
     "iopub.status.idle": "2022-03-07T08:18:17.338019Z",
     "shell.execute_reply": "2022-03-07T08:18:17.337640Z"
    },
    "papermill": {
     "duration": 0.039893,
     "end_time": "2022-03-07T08:18:17.338112",
     "exception": false,
     "start_time": "2022-03-07T08:18:17.298219",
     "status": "completed"
    },
    "tags": [
     "experiment_json"
    ]
   },
   "outputs": [
    {
     "data": {
      "text/plain": [
       "'{\"experiment_name\": \"tl_1_cores-wisig\", \"parameters\": {\"experiment_name\": \"tl_1_cores-wisig\", \"device\": \"cuda\", \"lr\": 0.001, \"seed\": 1337, \"dataset_seed\": 1337, \"n_shot\": 3, \"n_query\": 2, \"train_k_factor\": 3, \"val_k_factor\": 2, \"test_k_factor\": 2, \"torch_default_dtype\": \"torch.float32\", \"n_epoch\": 3, \"patience\": 3, \"criteria_for_best\": \"target_loss\", \"x_net\": [{\"class\": \"nnReshape\", \"kargs\": {\"shape\": [-1, 1, 2, 256]}}, {\"class\": \"Conv2d\", \"kargs\": {\"in_channels\": 1, \"out_channels\": 256, \"kernel_size\": [1, 7], \"bias\": false, \"padding\": [0, 3]}}, {\"class\": \"ReLU\", \"kargs\": {\"inplace\": true}}, {\"class\": \"BatchNorm2d\", \"kargs\": {\"num_features\": 256}}, {\"class\": \"Conv2d\", \"kargs\": {\"in_channels\": 256, \"out_channels\": 80, \"kernel_size\": [2, 7], \"bias\": true, \"padding\": [0, 3]}}, {\"class\": \"ReLU\", \"kargs\": {\"inplace\": true}}, {\"class\": \"BatchNorm2d\", \"kargs\": {\"num_features\": 80}}, {\"class\": \"Flatten\", \"kargs\": {}}, {\"class\": \"Linear\", \"kargs\": {\"in_features\": 20480, \"out_features\": 256}}, {\"class\": \"ReLU\", \"kargs\": {\"inplace\": true}}, {\"class\": \"BatchNorm1d\", \"kargs\": {\"num_features\": 256}}, {\"class\": \"Linear\", \"kargs\": {\"in_features\": 256, \"out_features\": 256}}], \"NUM_LOGS_PER_EPOCH\": 10, \"BEST_MODEL_PATH\": \"./best_model.pth\", \"n_way\": 58, \"datasets\": [{\"labels\": [\"1-10.\", \"1-11.\", \"1-15.\", \"1-16.\", \"1-17.\", \"1-18.\", \"1-19.\", \"10-4.\", \"10-7.\", \"11-1.\", \"11-14.\", \"11-17.\", \"11-20.\", \"11-7.\", \"13-20.\", \"13-8.\", \"14-10.\", \"14-11.\", \"14-14.\", \"14-7.\", \"15-1.\", \"15-20.\", \"16-1.\", \"16-16.\", \"17-10.\", \"17-11.\", \"17-2.\", \"19-1.\", \"19-16.\", \"19-19.\", \"19-20.\", \"19-3.\", \"2-10.\", \"2-11.\", \"2-17.\", \"2-18.\", \"2-20.\", \"2-3.\", \"2-4.\", \"2-5.\", \"2-6.\", \"2-7.\", \"2-8.\", \"3-13.\", \"3-18.\", \"3-3.\", \"4-1.\", \"4-10.\", \"4-11.\", \"4-19.\", \"5-5.\", \"6-15.\", \"7-10.\", \"7-14.\", \"8-18.\", \"8-20.\", \"8-3.\", \"8-8.\"], \"domains\": [1, 2, 3, 4, 5], \"num_examples_per_domain_per_label\": 100, \"pickle_path\": \"/mnt/wd500GB/CSC500/csc500-main/datasets/cores.stratified_ds.2022A.pkl\", \"source_or_target_dataset\": \"target\", \"x_transforms\": [], \"episode_transforms\": [], \"domain_prefix\": \"CORES_\"}, {\"labels\": [\"1-10\", \"1-12\", \"1-14\", \"1-16\", \"1-18\", \"1-19\", \"1-8\", \"10-11\", \"10-17\", \"10-4\", \"10-7\", \"11-1\", \"11-10\", \"11-19\", \"11-20\", \"11-4\", \"11-7\", \"12-19\", \"12-20\", \"12-7\", \"13-14\", \"13-18\", \"13-19\", \"13-20\", \"13-3\", \"13-7\", \"14-10\", \"14-11\", \"14-12\", \"14-13\", \"14-14\", \"14-19\", \"14-20\", \"14-7\", \"14-8\", \"14-9\", \"15-1\", \"15-19\", \"15-6\", \"16-1\", \"16-16\", \"16-19\", \"16-20\", \"17-10\", \"17-11\", \"18-1\", \"18-10\", \"18-11\", \"18-12\", \"18-13\", \"18-14\", \"18-15\", \"18-16\", \"18-17\", \"18-19\", \"18-2\", \"18-20\", \"18-4\", \"18-5\", \"18-7\", \"18-8\", \"18-9\", \"19-1\", \"19-10\", \"19-11\", \"19-12\", \"19-13\", \"19-14\", \"19-15\", \"19-19\", \"19-2\", \"19-20\", \"19-3\", \"19-4\", \"19-6\", \"19-7\", \"19-8\", \"19-9\", \"2-1\", \"2-13\", \"2-15\", \"2-3\", \"2-4\", \"2-5\", \"2-6\", \"2-7\", \"2-8\", \"20-1\", \"20-12\", \"20-14\", \"20-15\", \"20-16\", \"20-18\", \"20-19\", \"20-20\", \"20-3\", \"20-4\", \"20-5\", \"20-7\", \"20-8\", \"3-1\", \"3-13\", \"3-18\", \"3-2\", \"3-8\", \"4-1\", \"4-10\", \"4-11\", \"5-1\", \"5-5\", \"6-1\", \"6-15\", \"6-6\", \"7-10\", \"7-11\", \"7-12\", \"7-13\", \"7-14\", \"7-7\", \"7-8\", \"7-9\", \"8-1\", \"8-13\", \"8-14\", \"8-18\", \"8-20\", \"8-3\", \"8-8\", \"9-1\", \"9-7\"], \"domains\": [1, 2, 3, 4], \"num_examples_per_domain_per_label\": 100, \"pickle_path\": \"/mnt/wd500GB/CSC500/csc500-main/datasets/wisig.node3-19.stratified_ds.2022A.pkl\", \"source_or_target_dataset\": \"source\", \"x_transforms\": [], \"episode_transforms\": [], \"domain_prefix\": \"Wisig_\"}], \"domains_source\": [\"Wisig_1\", \"Wisig_2\", \"Wisig_3\", \"Wisig_4\"], \"domains_target\": [\"CORES_1\", \"CORES_2\", \"CORES_3\", \"CORES_4\", \"CORES_5\"]}, \"results\": {\"source_test_label_accuracy\": 0.9457614942528736, \"source_test_label_loss\": 0.31407099962234497, \"target_test_label_accuracy\": 0.9729885057471265, \"target_test_label_loss\": 0.21604889631271362, \"source_val_label_accuracy\": 0.9547413793103449, \"source_val_label_loss\": 0.2739737331867218, \"target_val_label_accuracy\": 0.9709770114942529, \"target_val_label_loss\": 0.2027936428785324, \"total_epochs_trained\": 3, \"total_experiment_time_secs\": 89.73362374305725, \"confusion\": {\"Wisig_3\": {\"36\": {\"36\": 8}, \"123\": {\"123\": 12}, \"53\": {\"53\": 12}, \"24\": {\"108\": 1, \"27\": 2, \"24\": 9}, \"8\": {\"8\": 12}, \"49\": {\"49\": 12}, \"74\": {\"74\": 10}, \"93\": {\"93\": 12}, \"104\": {\"104\": 10}, \"122\": {\"122\": 10}, \"78\": {\"78\": 11, \"13\": 1}, \"21\": {\"21\": 11, \"78\": 1}, \"22\": {\"22\": 12}, \"27\": {\"27\": 12}, \"124\": {\"124\": 10}, \"35\": {\"35\": 9, \"62\": 1}, \"37\": {\"37\": 5, \"21\": 1}, \"45\": {\"45\": 12}, \"55\": {\"55\": 12}, \"110\": {\"110\": 10}, \"2\": {\"2\": 12}, \"23\": {\"122\": 1, \"23\": 10, \"110\": 1}, \"29\": {\"29\": 12}, \"90\": {\"90\": 12}, \"127\": {\"127\": 12}, \"13\": {\"13\": 11, \"39\": 1}, \"48\": {\"48\": 9, \"119\": 1, \"57\": 2}, \"105\": {\"105\": 8}, \"50\": {\"50\": 10}, \"52\": {\"52\": 12}, \"9\": {\"9\": 12}, \"94\": {\"94\": 10}, \"14\": {\"14\": 11, \"13\": 1}, \"98\": {\"44\": 1, \"98\": 11}, \"64\": {\"64\": 12}, \"97\": {\"97\": 12}, \"117\": {\"2\": 1, \"117\": 9}, \"85\": {\"85\": 10}, \"44\": {\"44\": 10, \"89\": 1, \"64\": 1}, \"80\": {\"80\": 11, \"78\": 1}, \"16\": {\"16\": 12}, \"103\": {\"103\": 12}, \"40\": {\"40\": 12}, \"30\": {\"30\": 12}, \"6\": {\"6\": 12}, \"108\": {\"108\": 12}, \"33\": {\"33\": 12}, \"96\": {\"96\": 12}, \"79\": {\"79\": 10}, \"109\": {\"109\": 8}, \"81\": {\"81\": 12}, \"88\": {\"88\": 10}, \"41\": {\"41\": 12}, \"70\": {\"70\": 11, \"17\": 1}, \"76\": {\"76\": 12}, \"5\": {\"5\": 12}, \"0\": {\"0\": 12}, \"4\": {\"4\": 10}, \"86\": {\"86\": 10}, \"69\": {\"69\": 12}, \"26\": {\"26\": 8}, \"120\": {\"120\": 8}, \"84\": {\"84\": 5, \"17\": 1}, \"12\": {\"12\": 10}, \"32\": {\"32\": 11, \"57\": 1}, \"89\": {\"89\": 12}, \"129\": {\"129\": 12}, \"125\": {\"125\": 12}, \"116\": {\"116\": 8}, \"19\": {\"19\": 12}, \"71\": {\"71\": 9, \"61\": 1}, \"72\": {\"72\": 10}, \"100\": {\"100\": 11, \"14\": 1}, \"20\": {\"20\": 10}, \"65\": {\"65\": 9, \"44\": 1}, \"121\": {\"121\": 10}, \"34\": {\"34\": 11, \"56\": 1}, \"119\": {\"119\": 10}, \"75\": {\"75\": 12}, \"1\": {\"1\": 12}, \"113\": {\"113\": 10}, \"39\": {\"39\": 12}, \"82\": {\"82\": 12}, \"67\": {\"67\": 6}, \"63\": {\"63\": 8, \"13\": 1, \"102\": 1}, \"31\": {\"31\": 12}, \"38\": {\"38\": 10, \"97\": 1, \"13\": 1}, \"17\": {\"17\": 7, \"39\": 1, \"63\": 1, \"4\": 1, \"78\": 1, \"88\": 1}, \"106\": {\"106\": 8}, \"91\": {\"91\": 12}, \"56\": {\"56\": 10}, \"46\": {\"46\": 12}, \"128\": {\"128\": 10}, \"66\": {\"66\": 12}, \"10\": {\"10\": 12}, \"62\": {\"62\": 10}, \"112\": {\"112\": 10, \"30\": 2}, \"47\": {\"47\": 12}, \"107\": {\"107\": 12}, \"28\": {\"28\": 8}, \"95\": {\"95\": 12}, \"18\": {\"18\": 10}, \"114\": {\"114\": 12}, \"102\": {\"102\": 12}, \"68\": {\"68\": 12}, \"126\": {\"39\": 2, \"126\": 6}, \"111\": {\"111\": 12}, \"3\": {\"3\": 9, \"21\": 1}, \"83\": {\"83\": 8}, \"59\": {\"59\": 11, \"97\": 1}, \"54\": {\"54\": 12}, \"115\": {\"115\": 10}, \"57\": {\"57\": 10}, \"92\": {\"92\": 8}, \"73\": {\"73\": 10}, \"58\": {\"58\": 12}, \"61\": {\"61\": 10}, \"60\": {\"60\": 8}, \"99\": {\"99\": 10}, \"25\": {\"25\": 9, \"61\": 1}, \"87\": {\"87\": 9, \"13\": 1}, \"7\": {\"7\": 10}, \"101\": {\"101\": 8}, \"51\": {\"51\": 9, \"72\": 1}, \"15\": {\"15\": 10}, \"43\": {\"43\": 8}, \"118\": {\"118\": 6}, \"42\": {\"42\": 8}, \"11\": {\"11\": 8}, \"77\": {\"77\": 8}}, \"Wisig_2\": {\"37\": {\"37\": 12}, \"101\": {\"101\": 11, \"97\": 1}, \"83\": {\"83\": 12}, \"95\": {\"95\": 10}, \"122\": {\"122\": 12}, \"18\": {\"18\": 12}, \"9\": {\"9\": 12}, \"57\": {\"57\": 8}, \"93\": {\"93\": 12}, \"64\": {\"64\": 12}, \"70\": {\"70\": 10, \"88\": 1, \"87\": 1}, \"36\": {\"36\": 8}, \"109\": {\"39\": 4, \"70\": 1, \"109\": 7}, \"92\": {\"92\": 9, \"88\": 1}, \"28\": {\"28\": 8, \"123\": 2}, \"39\": {\"39\": 9, \"24\": 1, \"109\": 2}, \"47\": {\"126\": 1, \"45\": 1, \"47\": 8, \"29\": 1, \"88\": 1}, \"127\": {\"127\": 10}, \"6\": {\"6\": 12}, \"13\": {\"13\": 12}, \"14\": {\"14\": 9, \"21\": 1, \"17\": 1, \"109\": 1}, \"110\": {\"110\": 9, \"30\": 1, \"14\": 2}, \"62\": {\"62\": 10}, \"59\": {\"59\": 10}, \"10\": {\"10\": 8}, \"41\": {\"41\": 11, \"28\": 1}, \"25\": {\"25\": 12}, \"45\": {\"45\": 9, \"21\": 1}, \"1\": {\"1\": 10}, \"61\": {\"61\": 8, \"21\": 1, \"80\": 1}, \"3\": {\"3\": 11, \"21\": 1}, \"35\": {\"35\": 11, \"62\": 1}, \"126\": {\"126\": 12}, \"90\": {\"90\": 12}, \"58\": {\"58\": 12}, \"74\": {\"74\": 11, \"57\": 1}, \"27\": {\"27\": 10}, \"60\": {\"60\": 10}, \"123\": {\"123\": 8}, \"50\": {\"50\": 11, \"103\": 1}, \"84\": {\"21\": 1, \"84\": 11}, \"128\": {\"128\": 12}, \"72\": {\"72\": 11, \"28\": 1}, \"96\": {\"96\": 12}, \"119\": {\"119\": 10}, \"56\": {\"98\": 2, \"56\": 7, \"9\": 1}, \"98\": {\"109\": 1, \"98\": 11}, \"87\": {\"87\": 8}, \"40\": {\"40\": 12}, \"114\": {\"114\": 12}, \"55\": {\"55\": 8}, \"8\": {\"57\": 1, \"8\": 11}, \"79\": {\"79\": 10}, \"112\": {\"112\": 6, \"42\": 1, \"53\": 2, \"114\": 1, \"46\": 2}, \"21\": {\"21\": 10, \"126\": 2}, \"42\": {\"42\": 12}, \"5\": {\"5\": 12}, \"22\": {\"22\": 12}, \"73\": {\"73\": 12}, \"69\": {\"69\": 12}, \"108\": {\"108\": 8}, \"118\": {\"118\": 11, \"24\": 1}, \"4\": {\"4\": 12}, \"49\": {\"49\": 11, \"114\": 1}, \"99\": {\"99\": 12}, \"66\": {\"66\": 10}, \"116\": {\"116\": 10}, \"67\": {\"67\": 11, \"24\": 1}, \"15\": {\"15\": 12}, \"63\": {\"63\": 8}, \"26\": {\"26\": 10}, \"24\": {\"24\": 12}, \"103\": {\"103\": 10}, \"38\": {\"38\": 10}, \"71\": {\"71\": 9, \"67\": 1, \"21\": 1, \"39\": 1}, \"75\": {\"75\": 9, \"126\": 1}, \"44\": {\"44\": 12}, \"104\": {\"104\": 12}, \"23\": {\"23\": 11, \"60\": 1}, \"105\": {\"105\": 12}, \"30\": {\"30\": 11, \"21\": 1}, \"120\": {\"120\": 12}, \"113\": {\"113\": 10, \"110\": 1, \"88\": 1}, \"53\": {\"53\": 10, \"88\": 1, \"24\": 1}, \"91\": {\"91\": 10}, \"89\": {\"89\": 12}, \"117\": {\"117\": 12}, \"82\": {\"82\": 10}, \"20\": {\"20\": 11, \"99\": 1}, \"34\": {\"34\": 10}, \"7\": {\"7\": 10}, \"80\": {\"80\": 12}, \"115\": {\"115\": 8, \"103\": 1, \"24\": 1}, \"76\": {\"76\": 10}, \"102\": {\"102\": 12}, \"19\": {\"19\": 9, \"32\": 1}, \"97\": {\"97\": 10}, \"121\": {\"121\": 9, \"113\": 1}, \"68\": {\"68\": 10}, \"12\": {\"12\": 10, \"97\": 1, \"0\": 1}, \"29\": {\"29\": 11, \"121\": 1}, \"31\": {\"31\": 12}, \"65\": {\"65\": 10}, \"33\": {\"33\": 10}, \"106\": {\"106\": 10}, \"17\": {\"17\": 9, \"21\": 3}, \"85\": {\"85\": 10}, \"51\": {\"51\": 9, \"28\": 1}, \"129\": {\"129\": 6}, \"78\": {\"21\": 1, \"78\": 8, \"70\": 3}, \"111\": {\"111\": 12}, \"100\": {\"100\": 12}, \"125\": {\"125\": 8}, \"52\": {\"52\": 8}, \"88\": {\"88\": 10}, \"94\": {\"94\": 10}, \"43\": {\"43\": 10}, \"77\": {\"77\": 10}, \"86\": {\"86\": 10}, \"107\": {\"107\": 10}, \"2\": {\"2\": 10}, \"81\": {\"81\": 6}, \"32\": {\"32\": 6, \"24\": 1, \"128\": 1}, \"48\": {\"48\": 8}, \"0\": {\"0\": 8}, \"16\": {\"16\": 10}, \"11\": {\"11\": 8, \"88\": 1, \"21\": 1}, \"124\": {\"124\": 8}, \"46\": {\"46\": 8}, \"54\": {\"54\": 4}}, \"Wisig_1\": {\"110\": {\"110\": 12}, \"27\": {\"27\": 5, \"97\": 1}, \"106\": {\"106\": 12}, \"13\": {\"13\": 8}, \"120\": {\"120\": 12}, \"25\": {\"25\": 12}, \"47\": {\"47\": 12}, \"8\": {\"8\": 12}, \"124\": {\"124\": 12}, \"55\": {\"55\": 10}, \"63\": {\"63\": 12}, \"58\": {\"58\": 10}, \"105\": {\"105\": 9, \"40\": 2, \"80\": 1}, \"59\": {\"59\": 11, \"12\": 1}, \"12\": {\"12\": 7, \"109\": 1, \"71\": 2}, \"98\": {\"98\": 12}, \"96\": {\"96\": 12}, \"30\": {\"30\": 12}, \"53\": {\"53\": 12}, \"82\": {\"82\": 8}, \"33\": {\"33\": 12}, \"0\": {\"0\": 12}, \"122\": {\"122\": 12}, \"28\": {\"28\": 12}, \"17\": {\"17\": 12}, \"121\": {\"121\": 12}, \"104\": {\"104\": 12}, \"71\": {\"71\": 12}, \"20\": {\"20\": 12}, \"41\": {\"41\": 12}, \"7\": {\"7\": 12}, \"83\": {\"83\": 10, \"36\": 1, \"15\": 1}, \"9\": {\"9\": 10, \"27\": 1, \"89\": 1}, \"118\": {\"118\": 12}, \"111\": {\"111\": 10}, \"23\": {\"23\": 11, \"110\": 1}, \"65\": {\"65\": 10}, \"95\": {\"95\": 12}, \"38\": {\"38\": 10}, \"50\": {\"50\": 11, \"11\": 1}, \"3\": {\"3\": 10, \"36\": 1, \"103\": 1}, \"31\": {\"31\": 12}, \"48\": {\"48\": 10}, \"81\": {\"81\": 12}, \"99\": {\"99\": 12}, \"85\": {\"85\": 12}, \"11\": {\"11\": 10}, \"126\": {\"126\": 12}, \"80\": {\"80\": 9, \"67\": 1}, \"46\": {\"46\": 7, \"88\": 1, \"6\": 1, \"86\": 1}, \"45\": {\"45\": 9, \"73\": 1}, \"18\": {\"18\": 12}, \"84\": {\"84\": 12}, \"24\": {\"24\": 12}, \"21\": {\"21\": 12}, \"117\": {\"117\": 6}, \"6\": {\"6\": 11, \"125\": 1}, \"97\": {\"126\": 2, \"97\": 10}, \"86\": {\"86\": 12}, \"56\": {\"56\": 12}, \"92\": {\"92\": 12}, \"40\": {\"40\": 12}, \"108\": {\"108\": 12}, \"73\": {\"73\": 8}, \"1\": {\"1\": 12}, \"129\": {\"129\": 12}, \"127\": {\"127\": 10}, \"14\": {\"14\": 6}, \"42\": {\"42\": 8}, \"67\": {\"67\": 9, \"13\": 1}, \"74\": {\"74\": 9, \"48\": 1}, \"61\": {\"61\": 8}, \"36\": {\"36\": 10}, \"32\": {\"32\": 10}, \"77\": {\"77\": 12}, \"107\": {\"107\": 12}, \"44\": {\"44\": 12}, \"51\": {\"51\": 12}, \"2\": {\"2\": 10}, \"52\": {\"52\": 8}, \"125\": {\"125\": 12}, \"37\": {\"37\": 9, \"101\": 1}, \"35\": {\"35\": 12}, \"116\": {\"116\": 4}, \"15\": {\"15\": 10}, \"70\": {\"70\": 11, \"109\": 1}, \"109\": {\"109\": 8}, \"76\": {\"76\": 12}, \"72\": {\"72\": 12}, \"114\": {\"114\": 6}, \"49\": {\"49\": 11, \"53\": 1}, \"69\": {\"69\": 12}, \"54\": {\"54\": 10}, \"113\": {\"113\": 10}, \"19\": {\"19\": 10}, \"29\": {\"29\": 12}, \"75\": {\"75\": 12}, \"57\": {\"57\": 8}, \"5\": {\"5\": 12}, \"87\": {\"87\": 11, \"21\": 1}, \"94\": {\"94\": 11, \"21\": 1}, \"88\": {\"88\": 10, \"24\": 2}, \"79\": {\"79\": 12}, \"64\": {\"64\": 10}, \"123\": {\"123\": 10}, \"66\": {\"66\": 12}, \"101\": {\"101\": 12}, \"112\": {\"112\": 8}, \"91\": {\"91\": 9, \"86\": 1}, \"93\": {\"93\": 12}, \"89\": {\"89\": 10}, \"68\": {\"68\": 10}, \"100\": {\"100\": 12}, \"78\": {\"78\": 9, \"4\": 1}, \"62\": {\"62\": 12}, \"119\": {\"119\": 10}, \"4\": {\"4\": 12}, \"128\": {\"128\": 10}, \"43\": {\"43\": 10}, \"90\": {\"90\": 6}, \"60\": {\"60\": 9, \"94\": 1}, \"34\": {\"34\": 12}, \"39\": {\"39\": 12}, \"103\": {\"103\": 10}, \"102\": {\"102\": 6}, \"16\": {\"16\": 10}, \"115\": {\"115\": 10}, \"22\": {\"22\": 4}, \"26\": {\"26\": 6}, \"10\": {\"10\": 6, \"78\": 1, \"4\": 1}}, \"Wisig_4\": {\"109\": {\"109\": 12}, \"45\": {\"45\": 10}, \"11\": {\"11\": 11, \"93\": 1}, \"23\": {\"103\": 1, \"60\": 1, \"110\": 1, \"23\": 2, \"88\": 1, \"11\": 2, \"71\": 1, \"78\": 1}, \"2\": {\"2\": 11, \"81\": 1}, \"25\": {\"25\": 12}, \"7\": {\"126\": 1, \"7\": 11}, \"55\": {\"55\": 12}, \"124\": {\"124\": 10}, \"101\": {\"101\": 12}, \"115\": {\"115\": 11, \"80\": 1}, \"121\": {\"121\": 7, \"109\": 1}, \"46\": {\"46\": 12}, \"72\": {\"72\": 12}, \"83\": {\"83\": 12}, \"12\": {\"12\": 12}, \"79\": {\"79\": 10}, \"20\": {\"20\": 12}, \"43\": {\"43\": 12}, \"35\": {\"35\": 12}, \"86\": {\"86\": 8}, \"3\": {\"3\": 12}, \"116\": {\"116\": 11, \"48\": 1}, \"53\": {\"53\": 11, \"112\": 1}, \"111\": {\"111\": 10}, \"40\": {\"40\": 8}, \"19\": {\"19\": 12}, \"71\": {\"71\": 12}, \"21\": {\"21\": 4, \"126\": 1, \"78\": 1}, \"82\": {\"82\": 10}, \"65\": {\"65\": 10, \"103\": 1, \"80\": 1}, \"110\": {\"110\": 10}, \"119\": {\"119\": 12}, \"64\": {\"64\": 10}, \"126\": {\"126\": 9, \"21\": 1}, \"129\": {\"129\": 12}, \"103\": {\"21\": 1, \"103\": 7, \"89\": 1, \"122\": 1, \"108\": 1, \"121\": 1}, \"34\": {\"34\": 10}, \"42\": {\"42\": 8}, \"114\": {\"114\": 12}, \"38\": {\"38\": 12}, \"99\": {\"99\": 11, \"78\": 1}, \"47\": {\"47\": 10, \"10\": 1, \"58\": 1}, \"61\": {\"35\": 1, \"61\": 11}, \"9\": {\"9\": 10, \"42\": 1, \"65\": 1}, \"73\": {\"73\": 12}, \"48\": {\"9\": 1, \"48\": 10, \"34\": 1}, \"18\": {\"18\": 12}, \"16\": {\"16\": 12}, \"87\": {\"87\": 8, \"88\": 2}, \"60\": {\"60\": 12}, \"51\": {\"45\": 1, \"126\": 1, \"51\": 7, \"88\": 1, \"98\": 1, \"22\": 1}, \"4\": {\"4\": 12}, \"85\": {\"85\": 12}, \"28\": {\"28\": 12}, \"27\": {\"27\": 9, \"21\": 1, \"108\": 1, \"88\": 1}, \"97\": {\"97\": 9, \"56\": 1, \"27\": 2}, \"6\": {\"6\": 11, \"59\": 1}, \"76\": {\"76\": 10}, \"105\": {\"105\": 11, \"11\": 1}, \"37\": {\"37\": 12}, \"98\": {\"98\": 11, \"44\": 1}, \"96\": {\"96\": 12}, \"32\": {\"32\": 11, \"64\": 1}, \"15\": {\"15\": 10}, \"56\": {\"56\": 8}, \"90\": {\"90\": 10, \"122\": 1, \"38\": 1}, \"91\": {\"91\": 12}, \"52\": {\"52\": 12}, \"78\": {\"78\": 11, \"11\": 1}, \"84\": {\"84\": 12}, \"1\": {\"1\": 12}, \"122\": {\"122\": 8, \"43\": 2, \"13\": 1, \"21\": 1}, \"66\": {\"66\": 8}, \"127\": {\"38\": 1, \"127\": 5}, \"80\": {\"80\": 12}, \"113\": {\"38\": 1, \"113\": 10, \"61\": 1}, \"31\": {\"31\": 12}, \"88\": {\"88\": 10, \"70\": 1, \"10\": 1}, \"62\": {\"62\": 12}, \"22\": {\"22\": 12}, \"49\": {\"49\": 12}, \"54\": {\"54\": 12}, \"63\": {\"80\": 1, \"63\": 9}, \"39\": {\"39\": 12}, \"95\": {\"95\": 12}, \"58\": {\"58\": 8}, \"81\": {\"81\": 9, \"88\": 1}, \"10\": {\"97\": 1, \"10\": 11}, \"93\": {\"93\": 11, \"110\": 1}, \"41\": {\"41\": 10}, \"68\": {\"68\": 12}, \"75\": {\"75\": 12}, \"14\": {\"14\": 12}, \"59\": {\"59\": 9, \"24\": 1}, \"69\": {\"69\": 9, \"33\": 1}, \"29\": {\"29\": 8}, \"107\": {\"107\": 12}, \"117\": {\"117\": 9, \"88\": 1}, \"100\": {\"100\": 11, \"108\": 1}, \"33\": {\"33\": 10}, \"106\": {\"106\": 10}, \"30\": {\"30\": 12}, \"36\": {\"36\": 12}, \"0\": {\"0\": 8, \"87\": 1, \"101\": 1}, \"92\": {\"92\": 12}, \"67\": {\"67\": 11, \"70\": 1}, \"77\": {\"77\": 12}, \"89\": {\"89\": 8}, \"44\": {\"44\": 10}, \"8\": {\"8\": 7, \"78\": 1}, \"102\": {\"102\": 10}, \"50\": {\"50\": 10}, \"57\": {\"57\": 8, \"88\": 1, \"108\": 1}, \"128\": {\"128\": 6, \"88\": 1, \"77\": 1}, \"108\": {\"108\": 9, \"70\": 1}, \"120\": {\"120\": 8}, \"17\": {\"17\": 8}, \"94\": {\"94\": 6, \"78\": 1, \"21\": 1}, \"70\": {\"13\": 1, \"70\": 5, \"10\": 2, \"108\": 2}, \"13\": {\"13\": 10}, \"112\": {\"112\": 10}, \"5\": {\"5\": 9, \"11\": 1}, \"24\": {\"24\": 3, \"97\": 1}, \"118\": {\"118\": 8}, \"26\": {\"26\": 8}, \"74\": {\"74\": 8}, \"125\": {\"59\": 2, \"125\": 4}, \"104\": {\"104\": 6}, \"123\": {\"123\": 6}}, \"CORES_3\": {\"1\": {\"1\": 12}, \"28\": {\"28\": 12}, \"21\": {\"21\": 12}, \"27\": {\"27\": 12}, \"20\": {\"20\": 12}, \"16\": {\"16\": 12}, \"48\": {\"48\": 12}, \"42\": {\"42\": 12}, \"45\": {\"45\": 12}, \"41\": {\"41\": 12}, \"13\": {\"13\": 12}, \"50\": {\"50\": 12}, \"32\": {\"32\": 12}, \"51\": {\"51\": 12}, \"30\": {\"30\": 12}, \"38\": {\"38\": 12}, \"7\": {\"7\": 12}, \"22\": {\"22\": 12}, \"37\": {\"37\": 12}, \"33\": {\"33\": 12}, \"6\": {\"6\": 12}, \"14\": {\"47\": 4, \"14\": 7, \"33\": 1}, \"40\": {\"40\": 12}, \"55\": {\"55\": 12}, \"2\": {\"2\": 12}, \"39\": {\"39\": 12}, \"56\": {\"56\": 12}, \"17\": {\"17\": 12}, \"10\": {\"10\": 12}, \"9\": {\"9\": 12}, \"31\": {\"31\": 12}, \"12\": {\"12\": 12}, \"25\": {\"25\": 12}, \"0\": {\"0\": 12}, \"47\": {\"47\": 12}, \"44\": {\"44\": 12}, \"23\": {\"23\": 12}, \"15\": {\"15\": 11, \"11\": 1}, \"8\": {\"8\": 12}, \"54\": {\"54\": 12}, \"52\": {\"52\": 12}, \"29\": {\"29\": 11, \"57\": 1}, \"5\": {\"5\": 11, \"3\": 1}, \"34\": {\"34\": 12}, \"35\": {\"35\": 12}, \"26\": {\"26\": 12}, \"57\": {\"57\": 11, \"29\": 1}, \"53\": {\"53\": 12}, \"36\": {\"36\": 12}, \"18\": {\"18\": 12}, \"49\": {\"49\": 12}, \"3\": {\"3\": 12}, \"4\": {\"4\": 12}, \"24\": {\"24\": 12}, \"11\": {\"11\": 12}, \"19\": {\"19\": 12}, \"43\": {\"43\": 12}, \"46\": {\"46\": 12}}, \"CORES_4\": {\"9\": {\"9\": 12}, \"4\": {\"4\": 12}, \"20\": {\"20\": 12}, \"26\": {\"26\": 11, \"54\": 1}, \"19\": {\"19\": 12}, \"35\": {\"35\": 12}, \"14\": {\"14\": 9, \"29\": 1, \"2\": 2}, \"10\": {\"10\": 12}, \"1\": {\"1\": 12}, \"3\": {\"3\": 10, \"6\": 2}, \"29\": {\"29\": 11, \"57\": 1}, \"47\": {\"47\": 12}, \"50\": {\"50\": 10, \"3\": 2}, \"51\": {\"51\": 12}, \"55\": {\"55\": 11, \"32\": 1}, \"27\": {\"27\": 12}, \"31\": {\"31\": 12}, \"30\": {\"30\": 12}, \"37\": {\"37\": 12}, \"36\": {\"36\": 12}, \"48\": {\"48\": 12}, \"46\": {\"46\": 11, \"3\": 1}, \"25\": {\"25\": 12}, \"53\": {\"53\": 12}, \"0\": {\"0\": 12}, \"8\": {\"8\": 11, \"27\": 1}, \"15\": {\"15\": 11, \"11\": 1}, \"22\": {\"22\": 12}, \"45\": {\"45\": 12}, \"43\": {\"43\": 12}, \"12\": {\"12\": 12}, \"24\": {\"24\": 12}, \"11\": {\"11\": 11, \"15\": 1}, \"44\": {\"44\": 12}, \"5\": {\"5\": 12}, \"6\": {\"6\": 12}, \"49\": {\"49\": 12}, \"2\": {\"2\": 12}, \"18\": {\"18\": 12}, \"54\": {\"54\": 12}, \"41\": {\"41\": 12}, \"38\": {\"38\": 12}, \"34\": {\"34\": 12}, \"21\": {\"21\": 12}, \"57\": {\"57\": 12}, \"33\": {\"33\": 12}, \"17\": {\"17\": 12}, \"40\": {\"40\": 12}, \"28\": {\"28\": 12}, \"16\": {\"16\": 12}, \"56\": {\"56\": 12}, \"39\": {\"39\": 12}, \"13\": {\"13\": 12}, \"23\": {\"23\": 12}, \"7\": {\"7\": 9, \"24\": 1, \"32\": 1, \"31\": 1}, \"52\": {\"52\": 12}, \"42\": {\"42\": 11, \"26\": 1}, \"32\": {\"32\": 12}}, \"CORES_2\": {\"16\": {\"16\": 12}, \"31\": {\"31\": 12}, \"29\": {\"29\": 12}, \"54\": {\"54\": 12}, \"52\": {\"52\": 12}, \"27\": {\"27\": 10, \"8\": 2}, \"37\": {\"37\": 12}, \"12\": {\"12\": 12}, \"0\": {\"0\": 12}, \"43\": {\"43\": 12}, \"21\": {\"21\": 12}, \"47\": {\"47\": 12}, \"56\": {\"56\": 11, \"38\": 1}, \"26\": {\"26\": 12}, \"28\": {\"28\": 12}, \"48\": {\"48\": 12}, \"40\": {\"40\": 12}, \"5\": {\"5\": 12}, \"17\": {\"17\": 12}, \"9\": {\"9\": 12}, \"30\": {\"30\": 12}, \"24\": {\"24\": 12}, \"32\": {\"32\": 12}, \"39\": {\"39\": 12}, \"8\": {\"8\": 12}, \"13\": {\"13\": 12}, \"23\": {\"23\": 12}, \"35\": {\"35\": 12}, \"4\": {\"4\": 12}, \"19\": {\"19\": 11, \"53\": 1}, \"25\": {\"25\": 12}, \"14\": {\"14\": 3, \"38\": 5, \"47\": 4}, \"34\": {\"34\": 10, \"28\": 1, \"19\": 1}, \"45\": {\"45\": 11, \"12\": 1}, \"2\": {\"2\": 12}, \"41\": {\"41\": 11, \"52\": 1}, \"6\": {\"6\": 12}, \"7\": {\"7\": 12}, \"55\": {\"55\": 12}, \"22\": {\"22\": 11, \"56\": 1}, \"3\": {\"50\": 2, \"3\": 10}, \"15\": {\"15\": 12}, \"53\": {\"53\": 12}, \"42\": {\"42\": 12}, \"51\": {\"51\": 12}, \"38\": {\"38\": 12}, \"1\": {\"1\": 11, \"52\": 1}, \"10\": {\"10\": 12}, \"49\": {\"49\": 12}, \"36\": {\"36\": 12}, \"11\": {\"11\": 12}, \"46\": {\"46\": 10, \"6\": 2}, \"44\": {\"44\": 12}, \"57\": {\"57\": 12}, \"33\": {\"33\": 12}, \"18\": {\"18\": 12}, \"50\": {\"3\": 2, \"50\": 10}, \"20\": {\"20\": 12}}, \"CORES_1\": {\"32\": {\"32\": 12}, \"53\": {\"53\": 12}, \"27\": {\"27\": 12}, \"2\": {\"2\": 12}, \"37\": {\"37\": 12}, \"34\": {\"34\": 11, \"33\": 1}, \"0\": {\"0\": 12}, \"25\": {\"25\": 12}, \"54\": {\"54\": 12}, \"6\": {\"6\": 12}, \"11\": {\"11\": 12}, \"36\": {\"36\": 12}, \"28\": {\"28\": 12}, \"18\": {\"18\": 12}, \"16\": {\"16\": 12}, \"33\": {\"33\": 12}, \"3\": {\"3\": 10, \"56\": 2}, \"5\": {\"5\": 12}, \"29\": {\"29\": 12}, \"14\": {\"14\": 3, \"2\": 3, \"30\": 6}, \"38\": {\"38\": 9, \"42\": 1, \"36\": 2}, \"7\": {\"7\": 12}, \"9\": {\"9\": 12}, \"24\": {\"24\": 12}, \"12\": {\"12\": 12}, \"49\": {\"49\": 12}, \"46\": {\"46\": 11, \"50\": 1}, \"55\": {\"55\": 12}, \"1\": {\"1\": 12}, \"31\": {\"31\": 12}, \"8\": {\"8\": 12}, \"10\": {\"10\": 12}, \"22\": {\"22\": 12}, \"43\": {\"43\": 12}, \"51\": {\"51\": 12}, \"35\": {\"35\": 12}, \"13\": {\"13\": 12}, \"50\": {\"50\": 12}, \"15\": {\"15\": 12}, \"30\": {\"30\": 12}, \"47\": {\"47\": 12}, \"26\": {\"26\": 12}, \"20\": {\"20\": 12}, \"52\": {\"52\": 12}, \"57\": {\"57\": 12}, \"39\": {\"39\": 9, \"43\": 3}, \"23\": {\"23\": 12}, \"21\": {\"21\": 12}, \"42\": {\"42\": 12}, \"45\": {\"45\": 9, \"56\": 3}, \"48\": {\"48\": 12}, \"40\": {\"40\": 12}, \"17\": {\"17\": 12}, \"4\": {\"4\": 12}, \"19\": {\"19\": 12}, \"41\": {\"41\": 11, \"8\": 1}, \"44\": {\"44\": 12}, \"56\": {\"56\": 10, \"45\": 2}}, \"CORES_5\": {\"19\": {\"19\": 12}, \"34\": {\"34\": 12}, \"20\": {\"20\": 12}, \"14\": {\"14\": 7, \"0\": 1, \"20\": 4}, \"0\": {\"0\": 12}, \"2\": {\"2\": 12}, \"27\": {\"27\": 12}, \"15\": {\"15\": 11, \"11\": 1}, \"57\": {\"57\": 12}, \"55\": {\"55\": 12}, \"26\": {\"26\": 12}, \"51\": {\"51\": 12}, \"54\": {\"54\": 12}, \"47\": {\"47\": 12}, \"24\": {\"24\": 12}, \"12\": {\"12\": 12}, \"32\": {\"32\": 12}, \"18\": {\"18\": 12}, \"4\": {\"4\": 12}, \"3\": {\"3\": 12}, \"43\": {\"43\": 12}, \"40\": {\"40\": 12}, \"31\": {\"31\": 12}, \"1\": {\"1\": 12}, \"30\": {\"30\": 12}, \"29\": {\"29\": 12}, \"25\": {\"25\": 12}, \"33\": {\"33\": 12}, \"6\": {\"6\": 10, \"45\": 2}, \"48\": {\"48\": 12}, \"21\": {\"21\": 12}, \"36\": {\"36\": 12}, \"46\": {\"46\": 12}, \"13\": {\"13\": 12}, \"10\": {\"10\": 12}, \"45\": {\"6\": 6, \"45\": 6}, \"35\": {\"35\": 11, \"31\": 1}, \"53\": {\"53\": 12}, \"16\": {\"16\": 12}, \"23\": {\"23\": 12}, \"11\": {\"11\": 11, \"15\": 1}, \"17\": {\"17\": 12}, \"37\": {\"37\": 12}, \"9\": {\"9\": 11, \"30\": 1}, \"28\": {\"28\": 12}, \"39\": {\"39\": 12}, \"52\": {\"52\": 12}, \"42\": {\"42\": 12}, \"5\": {\"5\": 12}, \"50\": {\"50\": 12}, \"7\": {\"7\": 12}, \"41\": {\"41\": 10, \"33\": 1, \"36\": 1}, \"22\": {\"22\": 11, \"56\": 1}, \"49\": {\"49\": 12}, \"44\": {\"44\": 12}, \"56\": {\"56\": 12}, \"38\": {\"38\": 8, \"7\": 4}, \"8\": {\"8\": 12}}}, \"per_domain_accuracy\": {\"Wisig_3\": {\"accuracy\": 0.9683908045977011, \"source?\": true}, \"Wisig_2\": {\"accuracy\": 0.9425287356321839, \"source?\": true}, \"Wisig_1\": {\"accuracy\": 0.9727011494252874, \"source?\": true}, \"Wisig_4\": {\"accuracy\": 0.9353448275862069, \"source?\": true}, \"CORES_3\": {\"accuracy\": 0.9870689655172413, \"source?\": false}, \"CORES_4\": {\"accuracy\": 0.9741379310344828, \"source?\": false}, \"CORES_2\": {\"accuracy\": 0.9640804597701149, \"source?\": false}, \"CORES_1\": {\"accuracy\": 0.9640804597701149, \"source?\": false}, \"CORES_5\": {\"accuracy\": 0.9655172413793104, \"source?\": false}}}, \"history\": {\"epoch_indices\": [1, 2, 3], \"train_label_loss\": [0.6948282214147704, 0.3535102763403715, 0.2757353706190109], \"source_val_label_loss\": [0.4146612882614136, 0.3438647389411926, 0.2739737331867218], \"target_val_label_loss\": [0.3536689877510071, 0.2546939253807068, 0.2027936428785324], \"source_val_acc_label\": [0.9186422413793104, 0.9394755747126436, 0.9547413793103449], \"target_val_acc_label\": [0.9635057471264368, 0.967816091954023, 0.9709770114942529]}, \"dataset_metrics\": {\"source\": {\"train\": {\"n_unique_x\": 36395, \"n_unique_y\": 130, \"n_batch/episode\": 351}, \"val\": {\"n_unique_x\": 7693, \"n_unique_y\": 130, \"n_batch/episode\": 48}, \"test\": {\"n_unique_x\": 7693, \"n_unique_y\": 130, \"n_batch/episode\": 48}}, \"target\": {\"train\": {\"n_unique_x\": 20300, \"n_unique_y\": 58, \"n_batch/episode\": 210}, \"val\": {\"n_unique_x\": 4350, \"n_unique_y\": 58, \"n_batch/episode\": 30}, \"test\": {\"n_unique_x\": 4350, \"n_unique_y\": 58, \"n_batch/episode\": 30}}}}'"
      ]
     },
     "execution_count": 29,
     "metadata": {},
     "output_type": "execute_result"
    }
   ],
   "source": [
    "json.dumps(experiment)"
   ]
  }
 ],
 "metadata": {
  "celltoolbar": "Tags",
  "kernelspec": {
   "display_name": "Python 3 (ipykernel)",
   "language": "python",
   "name": "python3"
  },
  "language_info": {
   "codemirror_mode": {
    "name": "ipython",
    "version": 3
   },
   "file_extension": ".py",
   "mimetype": "text/x-python",
   "name": "python",
   "nbconvert_exporter": "python",
   "pygments_lexer": "ipython3",
   "version": "3.8.10"
  },
  "papermill": {
   "default_parameters": {},
   "duration": 103.640239,
   "end_time": "2022-03-07T08:18:17.873811",
   "environment_variables": {},
   "exception": null,
   "input_path": "/mnt/wd500GB/CSC500/csc500-main/csc500-notebooks/templates/tl_ptn_template.ipynb",
   "output_path": "trial.ipynb",
   "parameters": {
    "parameters": {
     "BEST_MODEL_PATH": "./best_model.pth",
     "NUM_LOGS_PER_EPOCH": 10,
     "criteria_for_best": "target_loss",
     "dataset_seed": 1337,
     "datasets": [
      {
       "domain_prefix": "CORES_",
       "domains": [
        1,
        2,
        3,
        4,
        5
       ],
       "episode_transforms": [],
       "labels": [
        "1-10.",
        "1-11.",
        "1-15.",
        "1-16.",
        "1-17.",
        "1-18.",
        "1-19.",
        "10-4.",
        "10-7.",
        "11-1.",
        "11-14.",
        "11-17.",
        "11-20.",
        "11-7.",
        "13-20.",
        "13-8.",
        "14-10.",
        "14-11.",
        "14-14.",
        "14-7.",
        "15-1.",
        "15-20.",
        "16-1.",
        "16-16.",
        "17-10.",
        "17-11.",
        "17-2.",
        "19-1.",
        "19-16.",
        "19-19.",
        "19-20.",
        "19-3.",
        "2-10.",
        "2-11.",
        "2-17.",
        "2-18.",
        "2-20.",
        "2-3.",
        "2-4.",
        "2-5.",
        "2-6.",
        "2-7.",
        "2-8.",
        "3-13.",
        "3-18.",
        "3-3.",
        "4-1.",
        "4-10.",
        "4-11.",
        "4-19.",
        "5-5.",
        "6-15.",
        "7-10.",
        "7-14.",
        "8-18.",
        "8-20.",
        "8-3.",
        "8-8."
       ],
       "num_examples_per_domain_per_label": 100,
       "pickle_path": "/mnt/wd500GB/CSC500/csc500-main/datasets/cores.stratified_ds.2022A.pkl",
       "source_or_target_dataset": "target",
       "x_transforms": []
      },
      {
       "domain_prefix": "Wisig_",
       "domains": [
        1,
        2,
        3,
        4
       ],
       "episode_transforms": [],
       "labels": [
        "1-10",
        "1-12",
        "1-14",
        "1-16",
        "1-18",
        "1-19",
        "1-8",
        "10-11",
        "10-17",
        "10-4",
        "10-7",
        "11-1",
        "11-10",
        "11-19",
        "11-20",
        "11-4",
        "11-7",
        "12-19",
        "12-20",
        "12-7",
        "13-14",
        "13-18",
        "13-19",
        "13-20",
        "13-3",
        "13-7",
        "14-10",
        "14-11",
        "14-12",
        "14-13",
        "14-14",
        "14-19",
        "14-20",
        "14-7",
        "14-8",
        "14-9",
        "15-1",
        "15-19",
        "15-6",
        "16-1",
        "16-16",
        "16-19",
        "16-20",
        "17-10",
        "17-11",
        "18-1",
        "18-10",
        "18-11",
        "18-12",
        "18-13",
        "18-14",
        "18-15",
        "18-16",
        "18-17",
        "18-19",
        "18-2",
        "18-20",
        "18-4",
        "18-5",
        "18-7",
        "18-8",
        "18-9",
        "19-1",
        "19-10",
        "19-11",
        "19-12",
        "19-13",
        "19-14",
        "19-15",
        "19-19",
        "19-2",
        "19-20",
        "19-3",
        "19-4",
        "19-6",
        "19-7",
        "19-8",
        "19-9",
        "2-1",
        "2-13",
        "2-15",
        "2-3",
        "2-4",
        "2-5",
        "2-6",
        "2-7",
        "2-8",
        "20-1",
        "20-12",
        "20-14",
        "20-15",
        "20-16",
        "20-18",
        "20-19",
        "20-20",
        "20-3",
        "20-4",
        "20-5",
        "20-7",
        "20-8",
        "3-1",
        "3-13",
        "3-18",
        "3-2",
        "3-8",
        "4-1",
        "4-10",
        "4-11",
        "5-1",
        "5-5",
        "6-1",
        "6-15",
        "6-6",
        "7-10",
        "7-11",
        "7-12",
        "7-13",
        "7-14",
        "7-7",
        "7-8",
        "7-9",
        "8-1",
        "8-13",
        "8-14",
        "8-18",
        "8-20",
        "8-3",
        "8-8",
        "9-1",
        "9-7"
       ],
       "num_examples_per_domain_per_label": 100,
       "pickle_path": "/mnt/wd500GB/CSC500/csc500-main/datasets/wisig.node3-19.stratified_ds.2022A.pkl",
       "source_or_target_dataset": "source",
       "x_transforms": []
      }
     ],
     "device": "cuda",
     "experiment_name": "tl_1_cores-wisig",
     "lr": 0.001,
     "n_epoch": 3,
     "n_query": 2,
     "n_shot": 3,
     "n_way": 58,
     "patience": 3,
     "seed": 1337,
     "test_k_factor": 2,
     "torch_default_dtype": "torch.float32",
     "train_k_factor": 3,
     "val_k_factor": 2,
     "x_net": [
      {
       "class": "nnReshape",
       "kargs": {
        "shape": [
         -1,
         1,
         2,
         256
        ]
       }
      },
      {
       "class": "Conv2d",
       "kargs": {
        "bias": false,
        "in_channels": 1,
        "kernel_size": [
         1,
         7
        ],
        "out_channels": 256,
        "padding": [
         0,
         3
        ]
       }
      },
      {
       "class": "ReLU",
       "kargs": {
        "inplace": true
       }
      },
      {
       "class": "BatchNorm2d",
       "kargs": {
        "num_features": 256
       }
      },
      {
       "class": "Conv2d",
       "kargs": {
        "bias": true,
        "in_channels": 256,
        "kernel_size": [
         2,
         7
        ],
        "out_channels": 80,
        "padding": [
         0,
         3
        ]
       }
      },
      {
       "class": "ReLU",
       "kargs": {
        "inplace": true
       }
      },
      {
       "class": "BatchNorm2d",
       "kargs": {
        "num_features": 80
       }
      },
      {
       "class": "Flatten",
       "kargs": {}
      },
      {
       "class": "Linear",
       "kargs": {
        "in_features": 20480,
        "out_features": 256
       }
      },
      {
       "class": "ReLU",
       "kargs": {
        "inplace": true
       }
      },
      {
       "class": "BatchNorm1d",
       "kargs": {
        "num_features": 256
       }
      },
      {
       "class": "Linear",
       "kargs": {
        "in_features": 256,
        "out_features": 256
       }
      }
     ]
    }
   },
   "start_time": "2022-03-07T08:16:34.233572",
   "version": "2.3.4"
  }
 },
 "nbformat": 4,
 "nbformat_minor": 5
}