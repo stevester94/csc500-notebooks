{
 "cells": [
  {
   "cell_type": "markdown",
   "id": "9fea5f46",
   "metadata": {
    "papermill": {
     "duration": 0.018312,
     "end_time": "2022-03-07T08:12:56.763164",
     "exception": false,
     "start_time": "2022-03-07T08:12:56.744852",
     "status": "completed"
    },
    "tags": []
   },
   "source": [
    "# Transfer Learning Template"
   ]
  },
  {
   "cell_type": "code",
   "execution_count": 1,
   "id": "0902182a",
   "metadata": {
    "execution": {
     "iopub.execute_input": "2022-03-07T08:12:56.803163Z",
     "iopub.status.busy": "2022-03-07T08:12:56.795793Z",
     "iopub.status.idle": "2022-03-07T08:12:57.564467Z",
     "shell.execute_reply": "2022-03-07T08:12:57.563943Z"
    },
    "papermill": {
     "duration": 0.788637,
     "end_time": "2022-03-07T08:12:57.564582",
     "exception": false,
     "start_time": "2022-03-07T08:12:56.775945",
     "status": "completed"
    },
    "tags": []
   },
   "outputs": [],
   "source": [
    "%load_ext autoreload\n",
    "%autoreload 2\n",
    "%matplotlib inline\n",
    "\n",
    "    \n",
    "import os, json, sys, time, random\n",
    "import numpy as np\n",
    "import torch\n",
    "from torch.optim import Adam\n",
    "from  easydict import EasyDict\n",
    "import matplotlib.pyplot as plt\n",
    "\n",
    "from steves_models.steves_ptn import Steves_Prototypical_Network\n",
    "\n",
    "from steves_utils.lazy_iterable_wrapper import Lazy_Iterable_Wrapper\n",
    "from steves_utils.iterable_aggregator import Iterable_Aggregator\n",
    "from steves_utils.ptn_train_eval_test_jig import  PTN_Train_Eval_Test_Jig\n",
    "from steves_utils.torch_sequential_builder import build_sequential\n",
    "from steves_utils.torch_utils import get_dataset_metrics, ptn_confusion_by_domain_over_dataloader\n",
    "from steves_utils.utils_v2 import (per_domain_accuracy_from_confusion, get_datasets_base_path)\n",
    "from steves_utils.PTN.utils import independent_accuracy_assesment\n",
    "\n",
    "from torch.utils.data import DataLoader\n",
    "\n",
    "from steves_utils.stratified_dataset.episodic_accessor import Episodic_Accessor_Factory\n",
    "\n",
    "from steves_utils.ptn_do_report import (\n",
    "    get_loss_curve,\n",
    "    get_results_table,\n",
    "    get_parameters_table,\n",
    "    get_domain_accuracies,\n",
    ")\n",
    "\n",
    "from steves_utils.transforms import get_chained_transform"
   ]
  },
  {
   "cell_type": "markdown",
   "id": "41c840b4",
   "metadata": {
    "papermill": {
     "duration": 0.013281,
     "end_time": "2022-03-07T08:12:57.596756",
     "exception": false,
     "start_time": "2022-03-07T08:12:57.583475",
     "status": "completed"
    },
    "tags": []
   },
   "source": [
    "# Allowed Parameters\n",
    "These are allowed parameters, not defaults\n",
    "Each of these values need to be present in the injected parameters (the notebook will raise an exception if they are not present)\n",
    "\n",
    "Papermill uses the cell tag \"parameters\" to inject the real parameters below this cell.\n",
    "Enable tags to see what I mean"
   ]
  },
  {
   "cell_type": "code",
   "execution_count": 2,
   "id": "fd44eb83",
   "metadata": {
    "execution": {
     "iopub.execute_input": "2022-03-07T08:12:57.626918Z",
     "iopub.status.busy": "2022-03-07T08:12:57.626468Z",
     "iopub.status.idle": "2022-03-07T08:12:57.640159Z",
     "shell.execute_reply": "2022-03-07T08:12:57.639710Z"
    },
    "papermill": {
     "duration": 0.030071,
     "end_time": "2022-03-07T08:12:57.640257",
     "exception": false,
     "start_time": "2022-03-07T08:12:57.610186",
     "status": "completed"
    },
    "tags": []
   },
   "outputs": [],
   "source": [
    "required_parameters = {\n",
    "    \"experiment_name\",\n",
    "    \"lr\",\n",
    "    \"device\",\n",
    "    \"seed\",\n",
    "    \"dataset_seed\",\n",
    "    \"n_shot\",\n",
    "    \"n_query\",\n",
    "    \"n_way\",\n",
    "    \"train_k_factor\",\n",
    "    \"val_k_factor\",\n",
    "    \"test_k_factor\",\n",
    "    \"n_epoch\",\n",
    "    \"patience\",\n",
    "    \"criteria_for_best\",\n",
    "    \"x_net\",\n",
    "    \"datasets\",\n",
    "    \"torch_default_dtype\",\n",
    "    \"NUM_LOGS_PER_EPOCH\",\n",
    "    \"BEST_MODEL_PATH\",\n",
    "}"
   ]
  },
  {
   "cell_type": "code",
   "execution_count": 3,
   "id": "fa3f0049",
   "metadata": {
    "execution": {
     "iopub.execute_input": "2022-03-07T08:12:57.680674Z",
     "iopub.status.busy": "2022-03-07T08:12:57.680381Z",
     "iopub.status.idle": "2022-03-07T08:12:57.693173Z",
     "shell.execute_reply": "2022-03-07T08:12:57.692726Z"
    },
    "papermill": {
     "duration": 0.035224,
     "end_time": "2022-03-07T08:12:57.693276",
     "exception": false,
     "start_time": "2022-03-07T08:12:57.658052",
     "status": "completed"
    },
    "tags": [
     "parameters"
    ]
   },
   "outputs": [],
   "source": [
    "from steves_utils.CORES.utils import (\n",
    "    ALL_NODES,\n",
    "    ALL_NODES_MINIMUM_1000_EXAMPLES,\n",
    "    ALL_DAYS\n",
    ")\n",
    "\n",
    "from steves_utils.ORACLE.utils_v2 import (\n",
    "    ALL_DISTANCES_FEET_NARROWED,\n",
    "    ALL_RUNS,\n",
    "    ALL_SERIAL_NUMBERS,\n",
    ")\n",
    "\n",
    "standalone_parameters = {}\n",
    "standalone_parameters[\"experiment_name\"] = \"STANDALONE PTN\"\n",
    "standalone_parameters[\"lr\"] = 0.001\n",
    "standalone_parameters[\"device\"] = \"cuda\"\n",
    "\n",
    "standalone_parameters[\"seed\"] = 1337\n",
    "standalone_parameters[\"dataset_seed\"] = 1337\n",
    "\n",
    "standalone_parameters[\"n_way\"] = 8\n",
    "standalone_parameters[\"n_shot\"] = 3\n",
    "standalone_parameters[\"n_query\"]  = 2\n",
    "standalone_parameters[\"train_k_factor\"] = 1\n",
    "standalone_parameters[\"val_k_factor\"] = 2\n",
    "standalone_parameters[\"test_k_factor\"] = 2\n",
    "\n",
    "\n",
    "standalone_parameters[\"n_epoch\"] = 50\n",
    "\n",
    "standalone_parameters[\"patience\"] = 10\n",
    "standalone_parameters[\"criteria_for_best\"] = \"source_loss\"\n",
    "\n",
    "standalone_parameters[\"datasets\"] = [\n",
    "    {\n",
    "        \"labels\": ALL_SERIAL_NUMBERS,\n",
    "        \"domains\": ALL_DISTANCES_FEET_NARROWED,\n",
    "        \"num_examples_per_domain_per_label\": 100,\n",
    "        \"pickle_path\": os.path.join(get_datasets_base_path(), \"oracle.Run1_framed_2000Examples_stratified_ds.2022A.pkl\"),\n",
    "        \"source_or_target_dataset\": \"source\",\n",
    "        \"x_transforms\": [\"unit_mag\", \"minus_two\"],\n",
    "        \"episode_transforms\": [],\n",
    "        \"domain_prefix\": \"ORACLE_\"\n",
    "    },\n",
    "    {\n",
    "        \"labels\": ALL_NODES,\n",
    "        \"domains\": ALL_DAYS,\n",
    "        \"num_examples_per_domain_per_label\": 100,\n",
    "        \"pickle_path\": os.path.join(get_datasets_base_path(), \"cores.stratified_ds.2022A.pkl\"),\n",
    "        \"source_or_target_dataset\": \"target\",\n",
    "        \"x_transforms\": [\"unit_power\", \"times_zero\"],\n",
    "        \"episode_transforms\": [],\n",
    "        \"domain_prefix\": \"CORES_\"\n",
    "    }   \n",
    "]\n",
    "\n",
    "standalone_parameters[\"torch_default_dtype\"] = \"torch.float32\" \n",
    "\n",
    "\n",
    "\n",
    "standalone_parameters[\"x_net\"] =     [\n",
    "    {\"class\": \"nnReshape\", \"kargs\": {\"shape\":[-1, 1, 2, 256]}},\n",
    "    {\"class\": \"Conv2d\", \"kargs\": { \"in_channels\":1, \"out_channels\":256, \"kernel_size\":(1,7), \"bias\":False, \"padding\":(0,3), },},\n",
    "    {\"class\": \"ReLU\", \"kargs\": {\"inplace\": True}},\n",
    "    {\"class\": \"BatchNorm2d\", \"kargs\": {\"num_features\":256}},\n",
    "\n",
    "    {\"class\": \"Conv2d\", \"kargs\": { \"in_channels\":256, \"out_channels\":80, \"kernel_size\":(2,7), \"bias\":True, \"padding\":(0,3), },},\n",
    "    {\"class\": \"ReLU\", \"kargs\": {\"inplace\": True}},\n",
    "    {\"class\": \"BatchNorm2d\", \"kargs\": {\"num_features\":80}},\n",
    "    {\"class\": \"Flatten\", \"kargs\": {}},\n",
    "\n",
    "    {\"class\": \"Linear\", \"kargs\": {\"in_features\": 80*256, \"out_features\": 256}}, # 80 units per IQ pair\n",
    "    {\"class\": \"ReLU\", \"kargs\": {\"inplace\": True}},\n",
    "    {\"class\": \"BatchNorm1d\", \"kargs\": {\"num_features\":256}},\n",
    "\n",
    "    {\"class\": \"Linear\", \"kargs\": {\"in_features\": 256, \"out_features\": 256}},\n",
    "]\n",
    "\n",
    "# Parameters relevant to results\n",
    "# These parameters will basically never need to change\n",
    "standalone_parameters[\"NUM_LOGS_PER_EPOCH\"] = 10\n",
    "standalone_parameters[\"BEST_MODEL_PATH\"] = \"./best_model.pth\"\n",
    "\n",
    "\n",
    "\n",
    "\n"
   ]
  },
  {
   "cell_type": "code",
   "execution_count": 4,
   "id": "d8ca39aa",
   "metadata": {
    "execution": {
     "iopub.execute_input": "2022-03-07T08:12:57.734182Z",
     "iopub.status.busy": "2022-03-07T08:12:57.733706Z",
     "iopub.status.idle": "2022-03-07T08:12:57.745894Z",
     "shell.execute_reply": "2022-03-07T08:12:57.745469Z"
    },
    "papermill": {
     "duration": 0.036661,
     "end_time": "2022-03-07T08:12:57.745994",
     "exception": false,
     "start_time": "2022-03-07T08:12:57.709333",
     "status": "completed"
    },
    "tags": [
     "injected-parameters"
    ]
   },
   "outputs": [],
   "source": [
    "# Parameters\n",
    "parameters = {\n",
    "    \"experiment_name\": \"tl_1_cores-wisig\",\n",
    "    \"device\": \"cuda\",\n",
    "    \"lr\": 0.001,\n",
    "    \"seed\": 1337,\n",
    "    \"dataset_seed\": 1337,\n",
    "    \"n_shot\": 3,\n",
    "    \"n_query\": 2,\n",
    "    \"train_k_factor\": 3,\n",
    "    \"val_k_factor\": 2,\n",
    "    \"test_k_factor\": 2,\n",
    "    \"torch_default_dtype\": \"torch.float32\",\n",
    "    \"n_epoch\": 3,\n",
    "    \"patience\": 3,\n",
    "    \"criteria_for_best\": \"target_loss\",\n",
    "    \"x_net\": [\n",
    "        {\"class\": \"nnReshape\", \"kargs\": {\"shape\": [-1, 1, 2, 256]}},\n",
    "        {\n",
    "            \"class\": \"Conv2d\",\n",
    "            \"kargs\": {\n",
    "                \"in_channels\": 1,\n",
    "                \"out_channels\": 256,\n",
    "                \"kernel_size\": [1, 7],\n",
    "                \"bias\": False,\n",
    "                \"padding\": [0, 3],\n",
    "            },\n",
    "        },\n",
    "        {\"class\": \"ReLU\", \"kargs\": {\"inplace\": True}},\n",
    "        {\"class\": \"BatchNorm2d\", \"kargs\": {\"num_features\": 256}},\n",
    "        {\n",
    "            \"class\": \"Conv2d\",\n",
    "            \"kargs\": {\n",
    "                \"in_channels\": 256,\n",
    "                \"out_channels\": 80,\n",
    "                \"kernel_size\": [2, 7],\n",
    "                \"bias\": True,\n",
    "                \"padding\": [0, 3],\n",
    "            },\n",
    "        },\n",
    "        {\"class\": \"ReLU\", \"kargs\": {\"inplace\": True}},\n",
    "        {\"class\": \"BatchNorm2d\", \"kargs\": {\"num_features\": 80}},\n",
    "        {\"class\": \"Flatten\", \"kargs\": {}},\n",
    "        {\"class\": \"Linear\", \"kargs\": {\"in_features\": 20480, \"out_features\": 256}},\n",
    "        {\"class\": \"ReLU\", \"kargs\": {\"inplace\": True}},\n",
    "        {\"class\": \"BatchNorm1d\", \"kargs\": {\"num_features\": 256}},\n",
    "        {\"class\": \"Linear\", \"kargs\": {\"in_features\": 256, \"out_features\": 256}},\n",
    "    ],\n",
    "    \"NUM_LOGS_PER_EPOCH\": 10,\n",
    "    \"BEST_MODEL_PATH\": \"./best_model.pth\",\n",
    "    \"n_way\": 58,\n",
    "    \"datasets\": [\n",
    "        {\n",
    "            \"labels\": [\n",
    "                \"1-10.\",\n",
    "                \"1-11.\",\n",
    "                \"1-15.\",\n",
    "                \"1-16.\",\n",
    "                \"1-17.\",\n",
    "                \"1-18.\",\n",
    "                \"1-19.\",\n",
    "                \"10-4.\",\n",
    "                \"10-7.\",\n",
    "                \"11-1.\",\n",
    "                \"11-14.\",\n",
    "                \"11-17.\",\n",
    "                \"11-20.\",\n",
    "                \"11-7.\",\n",
    "                \"13-20.\",\n",
    "                \"13-8.\",\n",
    "                \"14-10.\",\n",
    "                \"14-11.\",\n",
    "                \"14-14.\",\n",
    "                \"14-7.\",\n",
    "                \"15-1.\",\n",
    "                \"15-20.\",\n",
    "                \"16-1.\",\n",
    "                \"16-16.\",\n",
    "                \"17-10.\",\n",
    "                \"17-11.\",\n",
    "                \"17-2.\",\n",
    "                \"19-1.\",\n",
    "                \"19-16.\",\n",
    "                \"19-19.\",\n",
    "                \"19-20.\",\n",
    "                \"19-3.\",\n",
    "                \"2-10.\",\n",
    "                \"2-11.\",\n",
    "                \"2-17.\",\n",
    "                \"2-18.\",\n",
    "                \"2-20.\",\n",
    "                \"2-3.\",\n",
    "                \"2-4.\",\n",
    "                \"2-5.\",\n",
    "                \"2-6.\",\n",
    "                \"2-7.\",\n",
    "                \"2-8.\",\n",
    "                \"3-13.\",\n",
    "                \"3-18.\",\n",
    "                \"3-3.\",\n",
    "                \"4-1.\",\n",
    "                \"4-10.\",\n",
    "                \"4-11.\",\n",
    "                \"4-19.\",\n",
    "                \"5-5.\",\n",
    "                \"6-15.\",\n",
    "                \"7-10.\",\n",
    "                \"7-14.\",\n",
    "                \"8-18.\",\n",
    "                \"8-20.\",\n",
    "                \"8-3.\",\n",
    "                \"8-8.\",\n",
    "            ],\n",
    "            \"domains\": [1, 2, 3, 4, 5],\n",
    "            \"num_examples_per_domain_per_label\": 100,\n",
    "            \"pickle_path\": \"/mnt/wd500GB/CSC500/csc500-main/datasets/cores.stratified_ds.2022A.pkl\",\n",
    "            \"source_or_target_dataset\": \"target\",\n",
    "            \"x_transforms\": [\"unit_power\"],\n",
    "            \"episode_transforms\": [],\n",
    "            \"domain_prefix\": \"CORES_\",\n",
    "        },\n",
    "        {\n",
    "            \"labels\": [\n",
    "                \"1-10\",\n",
    "                \"1-12\",\n",
    "                \"1-14\",\n",
    "                \"1-16\",\n",
    "                \"1-18\",\n",
    "                \"1-19\",\n",
    "                \"1-8\",\n",
    "                \"10-11\",\n",
    "                \"10-17\",\n",
    "                \"10-4\",\n",
    "                \"10-7\",\n",
    "                \"11-1\",\n",
    "                \"11-10\",\n",
    "                \"11-19\",\n",
    "                \"11-20\",\n",
    "                \"11-4\",\n",
    "                \"11-7\",\n",
    "                \"12-19\",\n",
    "                \"12-20\",\n",
    "                \"12-7\",\n",
    "                \"13-14\",\n",
    "                \"13-18\",\n",
    "                \"13-19\",\n",
    "                \"13-20\",\n",
    "                \"13-3\",\n",
    "                \"13-7\",\n",
    "                \"14-10\",\n",
    "                \"14-11\",\n",
    "                \"14-12\",\n",
    "                \"14-13\",\n",
    "                \"14-14\",\n",
    "                \"14-19\",\n",
    "                \"14-20\",\n",
    "                \"14-7\",\n",
    "                \"14-8\",\n",
    "                \"14-9\",\n",
    "                \"15-1\",\n",
    "                \"15-19\",\n",
    "                \"15-6\",\n",
    "                \"16-1\",\n",
    "                \"16-16\",\n",
    "                \"16-19\",\n",
    "                \"16-20\",\n",
    "                \"17-10\",\n",
    "                \"17-11\",\n",
    "                \"18-1\",\n",
    "                \"18-10\",\n",
    "                \"18-11\",\n",
    "                \"18-12\",\n",
    "                \"18-13\",\n",
    "                \"18-14\",\n",
    "                \"18-15\",\n",
    "                \"18-16\",\n",
    "                \"18-17\",\n",
    "                \"18-19\",\n",
    "                \"18-2\",\n",
    "                \"18-20\",\n",
    "                \"18-4\",\n",
    "                \"18-5\",\n",
    "                \"18-7\",\n",
    "                \"18-8\",\n",
    "                \"18-9\",\n",
    "                \"19-1\",\n",
    "                \"19-10\",\n",
    "                \"19-11\",\n",
    "                \"19-12\",\n",
    "                \"19-13\",\n",
    "                \"19-14\",\n",
    "                \"19-15\",\n",
    "                \"19-19\",\n",
    "                \"19-2\",\n",
    "                \"19-20\",\n",
    "                \"19-3\",\n",
    "                \"19-4\",\n",
    "                \"19-6\",\n",
    "                \"19-7\",\n",
    "                \"19-8\",\n",
    "                \"19-9\",\n",
    "                \"2-1\",\n",
    "                \"2-13\",\n",
    "                \"2-15\",\n",
    "                \"2-3\",\n",
    "                \"2-4\",\n",
    "                \"2-5\",\n",
    "                \"2-6\",\n",
    "                \"2-7\",\n",
    "                \"2-8\",\n",
    "                \"20-1\",\n",
    "                \"20-12\",\n",
    "                \"20-14\",\n",
    "                \"20-15\",\n",
    "                \"20-16\",\n",
    "                \"20-18\",\n",
    "                \"20-19\",\n",
    "                \"20-20\",\n",
    "                \"20-3\",\n",
    "                \"20-4\",\n",
    "                \"20-5\",\n",
    "                \"20-7\",\n",
    "                \"20-8\",\n",
    "                \"3-1\",\n",
    "                \"3-13\",\n",
    "                \"3-18\",\n",
    "                \"3-2\",\n",
    "                \"3-8\",\n",
    "                \"4-1\",\n",
    "                \"4-10\",\n",
    "                \"4-11\",\n",
    "                \"5-1\",\n",
    "                \"5-5\",\n",
    "                \"6-1\",\n",
    "                \"6-15\",\n",
    "                \"6-6\",\n",
    "                \"7-10\",\n",
    "                \"7-11\",\n",
    "                \"7-12\",\n",
    "                \"7-13\",\n",
    "                \"7-14\",\n",
    "                \"7-7\",\n",
    "                \"7-8\",\n",
    "                \"7-9\",\n",
    "                \"8-1\",\n",
    "                \"8-13\",\n",
    "                \"8-14\",\n",
    "                \"8-18\",\n",
    "                \"8-20\",\n",
    "                \"8-3\",\n",
    "                \"8-8\",\n",
    "                \"9-1\",\n",
    "                \"9-7\",\n",
    "            ],\n",
    "            \"domains\": [1, 2, 3, 4],\n",
    "            \"num_examples_per_domain_per_label\": 100,\n",
    "            \"pickle_path\": \"/mnt/wd500GB/CSC500/csc500-main/datasets/wisig.node3-19.stratified_ds.2022A.pkl\",\n",
    "            \"source_or_target_dataset\": \"source\",\n",
    "            \"x_transforms\": [\"unit_power\"],\n",
    "            \"episode_transforms\": [],\n",
    "            \"domain_prefix\": \"Wisig_\",\n",
    "        },\n",
    "    ],\n",
    "}\n"
   ]
  },
  {
   "cell_type": "code",
   "execution_count": 5,
   "id": "8fa1cc33",
   "metadata": {
    "execution": {
     "iopub.execute_input": "2022-03-07T08:12:57.780556Z",
     "iopub.status.busy": "2022-03-07T08:12:57.780288Z",
     "iopub.status.idle": "2022-03-07T08:12:57.790127Z",
     "shell.execute_reply": "2022-03-07T08:12:57.789906Z"
    },
    "papermill": {
     "duration": 0.026027,
     "end_time": "2022-03-07T08:12:57.790183",
     "exception": false,
     "start_time": "2022-03-07T08:12:57.764156",
     "status": "completed"
    },
    "tags": []
   },
   "outputs": [],
   "source": [
    "# Set this to True if you want to run this template directly\n",
    "STANDALONE = False\n",
    "if STANDALONE:\n",
    "    print(\"parameters not injected, running with standalone_parameters\")\n",
    "    parameters = standalone_parameters\n",
    "\n",
    "if not 'parameters' in locals() and not 'parameters' in globals():\n",
    "    raise Exception(\"Parameter injection failed\")\n",
    "\n",
    "#Use an easy dict for all the parameters\n",
    "p = EasyDict(parameters)\n",
    "\n",
    "supplied_keys = set(p.keys())\n",
    "\n",
    "if  supplied_keys != required_parameters:\n",
    "    print(\"Parameters are incorrect\")\n",
    "    if len(supplied_keys - required_parameters)>0: print(\"Shouldn't have:\", str(supplied_keys - required_parameters))\n",
    "    if len(required_parameters - supplied_keys)>0: print(\"Need to have:\", str(required_parameters - supplied_keys))\n",
    "    raise RuntimeError(\"Parameters are incorrect\")\n",
    "\n"
   ]
  },
  {
   "cell_type": "code",
   "execution_count": 6,
   "id": "3a028d58",
   "metadata": {
    "execution": {
     "iopub.execute_input": "2022-03-07T08:12:57.827498Z",
     "iopub.status.busy": "2022-03-07T08:12:57.827247Z",
     "iopub.status.idle": "2022-03-07T08:12:57.838873Z",
     "shell.execute_reply": "2022-03-07T08:12:57.838577Z"
    },
    "papermill": {
     "duration": 0.027021,
     "end_time": "2022-03-07T08:12:57.838972",
     "exception": false,
     "start_time": "2022-03-07T08:12:57.811951",
     "status": "completed"
    },
    "tags": []
   },
   "outputs": [],
   "source": [
    "###################################\n",
    "# Set the RNGs and make it all deterministic\n",
    "###################################\n",
    "np.random.seed(p.seed)\n",
    "random.seed(p.seed)\n",
    "torch.manual_seed(p.seed)\n",
    "\n",
    "torch.use_deterministic_algorithms(True) "
   ]
  },
  {
   "cell_type": "code",
   "execution_count": 7,
   "id": "b691acf6",
   "metadata": {
    "execution": {
     "iopub.execute_input": "2022-03-07T08:12:57.877062Z",
     "iopub.status.busy": "2022-03-07T08:12:57.871765Z",
     "iopub.status.idle": "2022-03-07T08:12:57.884787Z",
     "shell.execute_reply": "2022-03-07T08:12:57.885182Z"
    },
    "papermill": {
     "duration": 0.028946,
     "end_time": "2022-03-07T08:12:57.885299",
     "exception": false,
     "start_time": "2022-03-07T08:12:57.856353",
     "status": "completed"
    },
    "tags": []
   },
   "outputs": [],
   "source": [
    "###########################################\n",
    "# The stratified datasets honor this\n",
    "###########################################\n",
    "torch.set_default_dtype(eval(p.torch_default_dtype))"
   ]
  },
  {
   "cell_type": "code",
   "execution_count": 8,
   "id": "b5fba671",
   "metadata": {
    "execution": {
     "iopub.execute_input": "2022-03-07T08:12:57.918751Z",
     "iopub.status.busy": "2022-03-07T08:12:57.918473Z",
     "iopub.status.idle": "2022-03-07T08:12:57.956831Z",
     "shell.execute_reply": "2022-03-07T08:12:57.956322Z"
    },
    "papermill": {
     "duration": 0.053318,
     "end_time": "2022-03-07T08:12:57.956941",
     "exception": false,
     "start_time": "2022-03-07T08:12:57.903623",
     "status": "completed"
    },
    "tags": []
   },
   "outputs": [],
   "source": [
    "###################################\n",
    "# Build the network(s)\n",
    "# Note: It's critical to do this AFTER setting the RNG\n",
    "###################################\n",
    "x_net = build_sequential(p.x_net)"
   ]
  },
  {
   "cell_type": "code",
   "execution_count": 9,
   "id": "5d7e61cc",
   "metadata": {
    "execution": {
     "iopub.execute_input": "2022-03-07T08:12:57.995351Z",
     "iopub.status.busy": "2022-03-07T08:12:57.991096Z",
     "iopub.status.idle": "2022-03-07T08:12:58.002206Z",
     "shell.execute_reply": "2022-03-07T08:12:58.002490Z"
    },
    "papermill": {
     "duration": 0.027168,
     "end_time": "2022-03-07T08:12:58.002584",
     "exception": false,
     "start_time": "2022-03-07T08:12:57.975416",
     "status": "completed"
    },
    "tags": []
   },
   "outputs": [],
   "source": [
    "start_time_secs = time.time()"
   ]
  },
  {
   "cell_type": "code",
   "execution_count": 10,
   "id": "c6b67dfd",
   "metadata": {
    "execution": {
     "iopub.execute_input": "2022-03-07T08:12:58.035779Z",
     "iopub.status.busy": "2022-03-07T08:12:58.035523Z",
     "iopub.status.idle": "2022-03-07T08:12:58.044883Z",
     "shell.execute_reply": "2022-03-07T08:12:58.044461Z"
    },
    "papermill": {
     "duration": 0.024386,
     "end_time": "2022-03-07T08:12:58.044982",
     "exception": false,
     "start_time": "2022-03-07T08:12:58.020596",
     "status": "completed"
    },
    "tags": []
   },
   "outputs": [],
   "source": [
    "p.domains_source = []\n",
    "p.domains_target = []\n",
    "\n",
    "\n",
    "train_original_source = []\n",
    "val_original_source   = []\n",
    "test_original_source  = []\n",
    "\n",
    "train_original_target = []\n",
    "val_original_target   = []\n",
    "test_original_target  = []"
   ]
  },
  {
   "cell_type": "code",
   "execution_count": 11,
   "id": "e3d9c3d3",
   "metadata": {
    "execution": {
     "iopub.execute_input": "2022-03-07T08:12:58.077492Z",
     "iopub.status.busy": "2022-03-07T08:12:58.077239Z",
     "iopub.status.idle": "2022-03-07T08:12:58.091096Z",
     "shell.execute_reply": "2022-03-07T08:12:58.090776Z"
    },
    "papermill": {
     "duration": 0.029509,
     "end_time": "2022-03-07T08:12:58.091172",
     "exception": false,
     "start_time": "2022-03-07T08:12:58.061663",
     "status": "completed"
    },
    "tags": []
   },
   "outputs": [],
   "source": [
    "# global_x_transform_func = lambda x: normalize(x.to(torch.get_default_dtype()), \"unit_power\") # unit_power, unit_mag\n",
    "# global_x_transform_func = lambda x: normalize(x, \"unit_power\") # unit_power, unit_mag"
   ]
  },
  {
   "cell_type": "code",
   "execution_count": 12,
   "id": "acb78fd2",
   "metadata": {
    "execution": {
     "iopub.execute_input": "2022-03-07T08:12:58.132660Z",
     "iopub.status.busy": "2022-03-07T08:12:58.132288Z",
     "iopub.status.idle": "2022-03-07T08:12:58.142994Z",
     "shell.execute_reply": "2022-03-07T08:12:58.142622Z"
    },
    "papermill": {
     "duration": 0.032085,
     "end_time": "2022-03-07T08:12:58.143072",
     "exception": false,
     "start_time": "2022-03-07T08:12:58.110987",
     "status": "completed"
    },
    "tags": []
   },
   "outputs": [],
   "source": [
    "def add_dataset(\n",
    "    labels,\n",
    "    domains,\n",
    "    pickle_path,\n",
    "    x_transforms,\n",
    "    episode_transforms,\n",
    "    domain_prefix,\n",
    "    num_examples_per_domain_per_label,\n",
    "    source_or_target_dataset:str,\n",
    "    iterator_seed=p.seed,\n",
    "    dataset_seed=p.dataset_seed,\n",
    "    n_shot=p.n_shot,\n",
    "    n_way=p.n_way,\n",
    "    n_query=p.n_query,\n",
    "    train_val_test_k_factors=(p.train_k_factor,p.val_k_factor,p.test_k_factor),\n",
    "):\n",
    "   \n",
    "    if x_transforms == []: x_transform = None\n",
    "    else: x_transform = get_chained_transform(x_transforms)\n",
    "    \n",
    "    if episode_transforms == []: episode_transform = None\n",
    "    else: raise Exception(\"episode_transforms not implemented\")\n",
    "    \n",
    "    episode_transform = lambda tup, _prefix=domain_prefix: (_prefix + str(tup[0]), tup[1])\n",
    "\n",
    "\n",
    "    eaf = Episodic_Accessor_Factory(\n",
    "        labels=labels,\n",
    "        domains=domains,\n",
    "        num_examples_per_domain_per_label=num_examples_per_domain_per_label,\n",
    "        iterator_seed=iterator_seed,\n",
    "        dataset_seed=dataset_seed,\n",
    "        n_shot=n_shot,\n",
    "        n_way=n_way,\n",
    "        n_query=n_query,\n",
    "        train_val_test_k_factors=train_val_test_k_factors,\n",
    "        pickle_path=pickle_path,\n",
    "        x_transform_func=x_transform,\n",
    "    )\n",
    "\n",
    "    train, val, test = eaf.get_train(), eaf.get_val(), eaf.get_test()\n",
    "    train = Lazy_Iterable_Wrapper(train, episode_transform)\n",
    "    val = Lazy_Iterable_Wrapper(val, episode_transform)\n",
    "    test = Lazy_Iterable_Wrapper(test, episode_transform)\n",
    "\n",
    "    if source_or_target_dataset==\"source\":\n",
    "        train_original_source.append(train)\n",
    "        val_original_source.append(val)\n",
    "        test_original_source.append(test)\n",
    "\n",
    "        p.domains_source.extend(\n",
    "            [domain_prefix + str(u) for u in domains]\n",
    "        )\n",
    "    elif source_or_target_dataset==\"target\":\n",
    "        train_original_target.append(train)\n",
    "        val_original_target.append(val)\n",
    "        test_original_target.append(test)\n",
    "        p.domains_target.extend(\n",
    "            [domain_prefix + str(u) for u in domains]\n",
    "        )\n",
    "    else:\n",
    "        raise Exception(f\"invalid source_or_target_dataset: {source_or_target_dataset}\")\n",
    "    "
   ]
  },
  {
   "cell_type": "code",
   "execution_count": 13,
   "id": "fe266617",
   "metadata": {
    "execution": {
     "iopub.execute_input": "2022-03-07T08:12:58.176958Z",
     "iopub.status.busy": "2022-03-07T08:12:58.176597Z",
     "iopub.status.idle": "2022-03-07T08:13:03.764413Z",
     "shell.execute_reply": "2022-03-07T08:13:03.763979Z"
    },
    "papermill": {
     "duration": 5.603571,
     "end_time": "2022-03-07T08:13:03.764526",
     "exception": false,
     "start_time": "2022-03-07T08:12:58.160955",
     "status": "completed"
    },
    "tags": []
   },
   "outputs": [],
   "source": [
    "for ds in p.datasets:\n",
    "    add_dataset(**ds)"
   ]
  },
  {
   "cell_type": "code",
   "execution_count": 14,
   "id": "b90d65ac",
   "metadata": {
    "execution": {
     "iopub.execute_input": "2022-03-07T08:13:03.800008Z",
     "iopub.status.busy": "2022-03-07T08:13:03.799747Z",
     "iopub.status.idle": "2022-03-07T08:13:03.810148Z",
     "shell.execute_reply": "2022-03-07T08:13:03.810528Z"
    },
    "papermill": {
     "duration": 0.026613,
     "end_time": "2022-03-07T08:13:03.810649",
     "exception": false,
     "start_time": "2022-03-07T08:13:03.784036",
     "status": "completed"
    },
    "tags": []
   },
   "outputs": [],
   "source": [
    "# from steves_utils.CORES.utils import (\n",
    "#     ALL_NODES,\n",
    "#     ALL_NODES_MINIMUM_1000_EXAMPLES,\n",
    "#     ALL_DAYS\n",
    "# )\n",
    "\n",
    "# add_dataset(\n",
    "#     labels=ALL_NODES,\n",
    "#     domains = ALL_DAYS,\n",
    "#     num_examples_per_domain_per_label=100,\n",
    "#     pickle_path=os.path.join(get_datasets_base_path(), \"cores.stratified_ds.2022A.pkl\"),\n",
    "#     source_or_target_dataset=\"target\",\n",
    "#     x_transform_func=global_x_transform_func,\n",
    "#     domain_modifier=lambda u: f\"cores_{u}\"\n",
    "# )"
   ]
  },
  {
   "cell_type": "code",
   "execution_count": 15,
   "id": "76db484d",
   "metadata": {
    "execution": {
     "iopub.execute_input": "2022-03-07T08:13:03.842427Z",
     "iopub.status.busy": "2022-03-07T08:13:03.841911Z",
     "iopub.status.idle": "2022-03-07T08:13:03.855464Z",
     "shell.execute_reply": "2022-03-07T08:13:03.855836Z"
    },
    "papermill": {
     "duration": 0.029316,
     "end_time": "2022-03-07T08:13:03.855953",
     "exception": false,
     "start_time": "2022-03-07T08:13:03.826637",
     "status": "completed"
    },
    "tags": []
   },
   "outputs": [],
   "source": [
    "# from steves_utils.ORACLE.utils_v2 import (\n",
    "#     ALL_DISTANCES_FEET,\n",
    "#     ALL_RUNS,\n",
    "#     ALL_SERIAL_NUMBERS,\n",
    "# )\n",
    "\n",
    "\n",
    "# add_dataset(\n",
    "#     labels=ALL_SERIAL_NUMBERS,\n",
    "#     domains = list(set(ALL_DISTANCES_FEET) - {2,62}),\n",
    "#     num_examples_per_domain_per_label=100,\n",
    "#     pickle_path=os.path.join(get_datasets_base_path(), \"oracle.Run2_framed_2000Examples_stratified_ds.2022A.pkl\"),\n",
    "#     source_or_target_dataset=\"source\",\n",
    "#     x_transform_func=global_x_transform_func,\n",
    "#     domain_modifier=lambda u: f\"oracle1_{u}\"\n",
    "# )\n"
   ]
  },
  {
   "cell_type": "code",
   "execution_count": 16,
   "id": "97dea9d2",
   "metadata": {
    "execution": {
     "iopub.execute_input": "2022-03-07T08:13:03.891223Z",
     "iopub.status.busy": "2022-03-07T08:13:03.890555Z",
     "iopub.status.idle": "2022-03-07T08:13:03.902672Z",
     "shell.execute_reply": "2022-03-07T08:13:03.903080Z"
    },
    "papermill": {
     "duration": 0.027709,
     "end_time": "2022-03-07T08:13:03.903196",
     "exception": false,
     "start_time": "2022-03-07T08:13:03.875487",
     "status": "completed"
    },
    "tags": []
   },
   "outputs": [],
   "source": [
    "# from steves_utils.ORACLE.utils_v2 import (\n",
    "#     ALL_DISTANCES_FEET,\n",
    "#     ALL_RUNS,\n",
    "#     ALL_SERIAL_NUMBERS,\n",
    "# )\n",
    "\n",
    "\n",
    "# add_dataset(\n",
    "#     labels=ALL_SERIAL_NUMBERS,\n",
    "#     domains = list(set(ALL_DISTANCES_FEET) - {2,62,56}),\n",
    "#     num_examples_per_domain_per_label=100,\n",
    "#     pickle_path=os.path.join(get_datasets_base_path(), \"oracle.Run2_framed_2000Examples_stratified_ds.2022A.pkl\"),\n",
    "#     source_or_target_dataset=\"source\",\n",
    "#     x_transform_func=global_x_transform_func,\n",
    "#     domain_modifier=lambda u: f\"oracle2_{u}\"\n",
    "# )"
   ]
  },
  {
   "cell_type": "code",
   "execution_count": 17,
   "id": "6f289866",
   "metadata": {
    "execution": {
     "iopub.execute_input": "2022-03-07T08:13:03.937306Z",
     "iopub.status.busy": "2022-03-07T08:13:03.937048Z",
     "iopub.status.idle": "2022-03-07T08:13:03.950736Z",
     "shell.execute_reply": "2022-03-07T08:13:03.951115Z"
    },
    "papermill": {
     "duration": 0.031493,
     "end_time": "2022-03-07T08:13:03.951238",
     "exception": false,
     "start_time": "2022-03-07T08:13:03.919745",
     "status": "completed"
    },
    "tags": []
   },
   "outputs": [],
   "source": [
    "# add_dataset(\n",
    "#     labels=list(range(19)),\n",
    "#     domains = [0,1,2],\n",
    "#     num_examples_per_domain_per_label=100,\n",
    "#     pickle_path=os.path.join(get_datasets_base_path(), \"metehan.stratified_ds.2022A.pkl\"),\n",
    "#     source_or_target_dataset=\"target\",\n",
    "#     x_transform_func=global_x_transform_func,\n",
    "#     domain_modifier=lambda u: f\"met_{u}\"\n",
    "# )"
   ]
  },
  {
   "cell_type": "code",
   "execution_count": 18,
   "id": "86a863c3",
   "metadata": {
    "execution": {
     "iopub.execute_input": "2022-03-07T08:13:03.985813Z",
     "iopub.status.busy": "2022-03-07T08:13:03.985293Z",
     "iopub.status.idle": "2022-03-07T08:13:03.999564Z",
     "shell.execute_reply": "2022-03-07T08:13:03.999937Z"
    },
    "papermill": {
     "duration": 0.030145,
     "end_time": "2022-03-07T08:13:04.000055",
     "exception": false,
     "start_time": "2022-03-07T08:13:03.969910",
     "status": "completed"
    },
    "tags": []
   },
   "outputs": [],
   "source": [
    "# # from steves_utils.wisig.utils import (\n",
    "# #     ALL_NODES_MINIMUM_100_EXAMPLES,\n",
    "# #     ALL_NODES_MINIMUM_500_EXAMPLES,\n",
    "# #     ALL_NODES_MINIMUM_1000_EXAMPLES,\n",
    "# #     ALL_DAYS\n",
    "# # )\n",
    "\n",
    "# import steves_utils.wisig.utils as wisig\n",
    "\n",
    "\n",
    "# add_dataset(\n",
    "#     labels=wisig.ALL_NODES_MINIMUM_100_EXAMPLES,\n",
    "#     domains = wisig.ALL_DAYS,\n",
    "#     num_examples_per_domain_per_label=100,\n",
    "#     pickle_path=os.path.join(get_datasets_base_path(), \"wisig.node3-19.stratified_ds.2022A.pkl\"),\n",
    "#     source_or_target_dataset=\"target\",\n",
    "#     x_transform_func=global_x_transform_func,\n",
    "#     domain_modifier=lambda u: f\"wisig_{u}\"\n",
    "# )"
   ]
  },
  {
   "cell_type": "code",
   "execution_count": 19,
   "id": "fd5442bc",
   "metadata": {
    "execution": {
     "iopub.execute_input": "2022-03-07T08:13:04.036512Z",
     "iopub.status.busy": "2022-03-07T08:13:04.036249Z",
     "iopub.status.idle": "2022-03-07T08:13:04.045744Z",
     "shell.execute_reply": "2022-03-07T08:13:04.046024Z"
    },
    "papermill": {
     "duration": 0.026725,
     "end_time": "2022-03-07T08:13:04.046120",
     "exception": false,
     "start_time": "2022-03-07T08:13:04.019395",
     "status": "completed"
    },
    "tags": []
   },
   "outputs": [],
   "source": [
    "###################################\n",
    "# Build the dataset\n",
    "###################################\n",
    "train_original_source = Iterable_Aggregator(train_original_source, p.seed)\n",
    "val_original_source = Iterable_Aggregator(val_original_source, p.seed)\n",
    "test_original_source = Iterable_Aggregator(test_original_source, p.seed)\n",
    "\n",
    "\n",
    "train_original_target = Iterable_Aggregator(train_original_target, p.seed)\n",
    "val_original_target = Iterable_Aggregator(val_original_target, p.seed)\n",
    "test_original_target = Iterable_Aggregator(test_original_target, p.seed)\n",
    "\n",
    "# For CNN We only use X and Y. And we only train on the source.\n",
    "# Properly form the data using a transform lambda and Lazy_Iterable_Wrapper. Finally wrap them in a dataloader\n",
    "\n",
    "transform_lambda = lambda ex: ex[1] # Original is (<domain>, <episode>) so we strip down to episode only\n",
    "\n",
    "train_processed_source = Lazy_Iterable_Wrapper(train_original_source, transform_lambda)\n",
    "val_processed_source   = Lazy_Iterable_Wrapper(val_original_source, transform_lambda)\n",
    "test_processed_source  = Lazy_Iterable_Wrapper(test_original_source, transform_lambda)\n",
    "\n",
    "train_processed_target = Lazy_Iterable_Wrapper(train_original_target, transform_lambda)\n",
    "val_processed_target   = Lazy_Iterable_Wrapper(val_original_target, transform_lambda)\n",
    "test_processed_target  = Lazy_Iterable_Wrapper(test_original_target, transform_lambda)\n",
    "\n",
    "datasets = EasyDict({\n",
    "    \"source\": {\n",
    "        \"original\": {\"train\":train_original_source, \"val\":val_original_source, \"test\":test_original_source},\n",
    "        \"processed\": {\"train\":train_processed_source, \"val\":val_processed_source, \"test\":test_processed_source}\n",
    "    },\n",
    "    \"target\": {\n",
    "        \"original\": {\"train\":train_original_target, \"val\":val_original_target, \"test\":test_original_target},\n",
    "        \"processed\": {\"train\":train_processed_target, \"val\":val_processed_target, \"test\":test_processed_target}\n",
    "    },\n",
    "})"
   ]
  },
  {
   "cell_type": "code",
   "execution_count": 20,
   "id": "5b3c01fc",
   "metadata": {
    "execution": {
     "iopub.execute_input": "2022-03-07T08:13:04.082297Z",
     "iopub.status.busy": "2022-03-07T08:13:04.082040Z",
     "iopub.status.idle": "2022-03-07T08:13:06.114816Z",
     "shell.execute_reply": "2022-03-07T08:13:06.115264Z"
    },
    "papermill": {
     "duration": 2.05059,
     "end_time": "2022-03-07T08:13:06.115402",
     "exception": false,
     "start_time": "2022-03-07T08:13:04.064812",
     "status": "completed"
    },
    "tags": []
   },
   "outputs": [
    {
     "name": "stdout",
     "output_type": "stream",
     "text": [
      "{'Wisig_3', 'Wisig_1', 'Wisig_4', 'Wisig_2'}\n"
     ]
    },
    {
     "name": "stdout",
     "output_type": "stream",
     "text": [
      "{'CORES_2', 'CORES_4', 'CORES_5', 'CORES_3', 'CORES_1'}\n"
     ]
    },
    {
     "name": "stdout",
     "output_type": "stream",
     "text": [
      "tensor([[[ 1.3096,  1.3459,  0.8616,  ...,  0.9150,  1.0008,  0.5052],\n",
      "         [ 1.2467,  1.1895,  0.4556,  ...,  1.4907,  1.4088,  0.8121]],\n",
      "\n",
      "        [[-0.8632, -1.5735, -1.0281,  ..., -0.8319, -1.0732, -0.3963],\n",
      "         [-0.4061,  0.0314, -0.5984,  ..., -0.0569, -0.2060, -0.6357]],\n",
      "\n",
      "        [[-0.2947, -0.2446, -0.1777,  ...,  0.7567,  0.5539,  0.7588],\n",
      "         [-0.0293, -0.2237,  0.4076,  ...,  0.0857, -0.2404, -0.2508]],\n",
      "\n",
      "        ...,\n",
      "\n",
      "        [[ 0.1352,  0.1436,  1.1742,  ...,  0.0792,  0.3815,  0.6348],\n",
      "         [ 0.0261, -0.3507, -0.0667,  ..., -0.0700,  0.1171,  0.4802]],\n",
      "\n",
      "        [[-0.0159,  0.0196,  0.0448,  ...,  0.7147, -0.5786, -0.9067],\n",
      "         [ 0.0360,  0.0384,  0.0208,  ...,  1.2500,  1.5162,  0.3510]],\n",
      "\n",
      "        [[ 0.3481,  0.5119, -0.9092,  ...,  0.0828, -0.1812, -0.9809],\n",
      "         [ 0.0025,  0.9449,  0.7780,  ...,  0.3845,  0.7710,  0.5861]]])\n"
     ]
    }
   ],
   "source": [
    "from steves_utils.transforms import get_average_magnitude, get_average_power\n",
    "\n",
    "print(set([u for u,_ in val_original_source]))\n",
    "print(set([u for u,_ in val_original_target]))\n",
    "\n",
    "s_x, s_y, q_x, q_y, _ = next(iter(train_processed_source))\n",
    "print(s_x)\n",
    "\n",
    "# for ds in [\n",
    "#     train_processed_source,\n",
    "#     val_processed_source,\n",
    "#     test_processed_source,\n",
    "#     train_processed_target,\n",
    "#     val_processed_target,\n",
    "#     test_processed_target\n",
    "# ]:\n",
    "#     for s_x, s_y, q_x, q_y, _ in ds:\n",
    "#         for X in (s_x, q_x):\n",
    "#             for x in X:\n",
    "#                 assert np.isclose(get_average_magnitude(x.numpy()), 1.0)\n",
    "#                 assert np.isclose(get_average_power(x.numpy()), 1.0)\n",
    "                "
   ]
  },
  {
   "cell_type": "code",
   "execution_count": 21,
   "id": "bbdacba1",
   "metadata": {
    "execution": {
     "iopub.execute_input": "2022-03-07T08:13:06.155490Z",
     "iopub.status.busy": "2022-03-07T08:13:06.154548Z",
     "iopub.status.idle": "2022-03-07T08:13:06.211308Z",
     "shell.execute_reply": "2022-03-07T08:13:06.210846Z"
    },
    "papermill": {
     "duration": 0.076213,
     "end_time": "2022-03-07T08:13:06.211402",
     "exception": false,
     "start_time": "2022-03-07T08:13:06.135189",
     "status": "completed"
    },
    "tags": []
   },
   "outputs": [
    {
     "name": "stdout",
     "output_type": "stream",
     "text": [
      "(2, 256)\n"
     ]
    }
   ],
   "source": [
    "###################################\n",
    "# Build the model\n",
    "###################################\n",
    "model = Steves_Prototypical_Network(x_net, device=p.device, x_shape=(2,256))\n",
    "optimizer = Adam(params=model.parameters(), lr=p.lr)"
   ]
  },
  {
   "cell_type": "code",
   "execution_count": 22,
   "id": "22b39ac5",
   "metadata": {
    "execution": {
     "iopub.execute_input": "2022-03-07T08:13:06.247567Z",
     "iopub.status.busy": "2022-03-07T08:13:06.247305Z",
     "iopub.status.idle": "2022-03-07T08:14:32.993160Z",
     "shell.execute_reply": "2022-03-07T08:14:32.993529Z"
    },
    "papermill": {
     "duration": 86.763646,
     "end_time": "2022-03-07T08:14:32.993657",
     "exception": false,
     "start_time": "2022-03-07T08:13:06.230011",
     "status": "completed"
    },
    "tags": []
   },
   "outputs": [
    {
     "name": "stdout",
     "output_type": "stream",
     "text": [
      "epoch: 1, [batch: 1 / 350], examples_per_second: 706.9558, train_label_loss: 3.7634, \n"
     ]
    },
    {
     "name": "stdout",
     "output_type": "stream",
     "text": [
      "epoch: 1, [batch: 35 / 350], examples_per_second: 3792.0084, train_label_loss: 1.2829, \n"
     ]
    },
    {
     "name": "stdout",
     "output_type": "stream",
     "text": [
      "epoch: 1, [batch: 70 / 350], examples_per_second: 3815.5229, train_label_loss: 0.7973, \n"
     ]
    },
    {
     "name": "stdout",
     "output_type": "stream",
     "text": [
      "epoch: 1, [batch: 105 / 350], examples_per_second: 3813.5214, train_label_loss: 0.7232, \n"
     ]
    },
    {
     "name": "stdout",
     "output_type": "stream",
     "text": [
      "epoch: 1, [batch: 140 / 350], examples_per_second: 3791.7940, train_label_loss: 0.8845, \n"
     ]
    },
    {
     "name": "stdout",
     "output_type": "stream",
     "text": [
      "epoch: 1, [batch: 175 / 350], examples_per_second: 3810.2936, train_label_loss: 0.4710, \n"
     ]
    },
    {
     "name": "stdout",
     "output_type": "stream",
     "text": [
      "epoch: 1, [batch: 210 / 350], examples_per_second: 3809.7838, train_label_loss: 0.3787, \n"
     ]
    },
    {
     "name": "stdout",
     "output_type": "stream",
     "text": [
      "epoch: 1, [batch: 245 / 350], examples_per_second: 3797.4265, train_label_loss: 0.6024, \n"
     ]
    },
    {
     "name": "stdout",
     "output_type": "stream",
     "text": [
      "epoch: 1, [batch: 280 / 350], examples_per_second: 3809.7078, train_label_loss: 0.3652, \n"
     ]
    },
    {
     "name": "stdout",
     "output_type": "stream",
     "text": [
      "epoch: 1, [batch: 315 / 350], examples_per_second: 3808.1388, train_label_loss: 0.3016, \n"
     ]
    },
    {
     "name": "stdout",
     "output_type": "stream",
     "text": [
      "=============================================================\n",
      "epoch: 1, source_val_acc_label: 0.9206, target_val_acc_label: 0.9641, source_val_label_loss: 0.3934, target_val_label_loss: 0.2708, \n",
      "=============================================================\n"
     ]
    },
    {
     "name": "stdout",
     "output_type": "stream",
     "text": [
      "New best\n"
     ]
    },
    {
     "name": "stdout",
     "output_type": "stream",
     "text": [
      "epoch: 2, [batch: 1 / 352], examples_per_second: 109.8629, train_label_loss: 0.1397, \n"
     ]
    },
    {
     "name": "stdout",
     "output_type": "stream",
     "text": [
      "epoch: 2, [batch: 36 / 352], examples_per_second: 3887.5155, train_label_loss: 0.3551, \n"
     ]
    },
    {
     "name": "stdout",
     "output_type": "stream",
     "text": [
      "epoch: 2, [batch: 71 / 352], examples_per_second: 3896.6566, train_label_loss: 0.2637, \n"
     ]
    },
    {
     "name": "stdout",
     "output_type": "stream",
     "text": [
      "epoch: 2, [batch: 106 / 352], examples_per_second: 3897.1057, train_label_loss: 0.4335, \n"
     ]
    },
    {
     "name": "stdout",
     "output_type": "stream",
     "text": [
      "epoch: 2, [batch: 141 / 352], examples_per_second: 3878.8400, train_label_loss: 0.4967, \n"
     ]
    },
    {
     "name": "stdout",
     "output_type": "stream",
     "text": [
      "epoch: 2, [batch: 176 / 352], examples_per_second: 3896.7091, train_label_loss: 0.3474, \n"
     ]
    },
    {
     "name": "stdout",
     "output_type": "stream",
     "text": [
      "epoch: 2, [batch: 211 / 352], examples_per_second: 3899.1742, train_label_loss: 0.4790, \n"
     ]
    },
    {
     "name": "stdout",
     "output_type": "stream",
     "text": [
      "epoch: 2, [batch: 246 / 352], examples_per_second: 3879.5350, train_label_loss: 0.4211, \n"
     ]
    },
    {
     "name": "stdout",
     "output_type": "stream",
     "text": [
      "epoch: 2, [batch: 281 / 352], examples_per_second: 3896.7661, train_label_loss: 0.1752, \n"
     ]
    },
    {
     "name": "stdout",
     "output_type": "stream",
     "text": [
      "epoch: 2, [batch: 316 / 352], examples_per_second: 3895.5549, train_label_loss: 0.5364, \n"
     ]
    },
    {
     "name": "stdout",
     "output_type": "stream",
     "text": [
      "=============================================================\n",
      "epoch: 2, source_val_acc_label: 0.9386, target_val_acc_label: 0.9500, source_val_label_loss: 0.3092, target_val_label_loss: 0.2765, \n",
      "=============================================================\n"
     ]
    },
    {
     "name": "stdout",
     "output_type": "stream",
     "text": [
      "epoch: 3, [batch: 1 / 352], examples_per_second: 110.8125, train_label_loss: 0.2395, \n"
     ]
    },
    {
     "name": "stdout",
     "output_type": "stream",
     "text": [
      "epoch: 3, [batch: 36 / 352], examples_per_second: 3873.8274, train_label_loss: 0.0706, \n"
     ]
    },
    {
     "name": "stdout",
     "output_type": "stream",
     "text": [
      "epoch: 3, [batch: 71 / 352], examples_per_second: 3892.6312, train_label_loss: 0.3757, \n"
     ]
    },
    {
     "name": "stdout",
     "output_type": "stream",
     "text": [
      "epoch: 3, [batch: 106 / 352], examples_per_second: 3898.1024, train_label_loss: 0.1918, \n"
     ]
    },
    {
     "name": "stdout",
     "output_type": "stream",
     "text": [
      "epoch: 3, [batch: 141 / 352], examples_per_second: 3878.7149, train_label_loss: 0.1355, \n"
     ]
    },
    {
     "name": "stdout",
     "output_type": "stream",
     "text": [
      "epoch: 3, [batch: 176 / 352], examples_per_second: 3896.5183, train_label_loss: 0.2346, \n"
     ]
    },
    {
     "name": "stdout",
     "output_type": "stream",
     "text": [
      "epoch: 3, [batch: 211 / 352], examples_per_second: 3892.6647, train_label_loss: 0.1133, \n"
     ]
    },
    {
     "name": "stdout",
     "output_type": "stream",
     "text": [
      "epoch: 3, [batch: 246 / 352], examples_per_second: 3877.4735, train_label_loss: 0.1234, \n"
     ]
    },
    {
     "name": "stdout",
     "output_type": "stream",
     "text": [
      "epoch: 3, [batch: 281 / 352], examples_per_second: 3895.3784, train_label_loss: 0.2046, \n"
     ]
    },
    {
     "name": "stdout",
     "output_type": "stream",
     "text": [
      "epoch: 3, [batch: 316 / 352], examples_per_second: 3887.7654, train_label_loss: 0.2828, \n"
     ]
    },
    {
     "name": "stdout",
     "output_type": "stream",
     "text": [
      "=============================================================\n",
      "epoch: 3, source_val_acc_label: 0.9540, target_val_acc_label: 0.9511, source_val_label_loss: 0.2767, target_val_label_loss: 0.2597, \n",
      "=============================================================\n"
     ]
    },
    {
     "name": "stdout",
     "output_type": "stream",
     "text": [
      "New best\n"
     ]
    }
   ],
   "source": [
    "###################################\n",
    "# train\n",
    "###################################\n",
    "jig = PTN_Train_Eval_Test_Jig(model, p.BEST_MODEL_PATH, p.device)\n",
    "\n",
    "jig.train(\n",
    "    train_iterable=datasets.source.processed.train,\n",
    "    source_val_iterable=datasets.source.processed.val,\n",
    "    target_val_iterable=datasets.target.processed.val,\n",
    "    num_epochs=p.n_epoch,\n",
    "    num_logs_per_epoch=p.NUM_LOGS_PER_EPOCH,\n",
    "    patience=p.patience,\n",
    "    optimizer=optimizer,\n",
    "    criteria_for_best=p.criteria_for_best,\n",
    ")"
   ]
  },
  {
   "cell_type": "code",
   "execution_count": 23,
   "id": "31e8fabf",
   "metadata": {
    "execution": {
     "iopub.execute_input": "2022-03-07T08:14:33.043954Z",
     "iopub.status.busy": "2022-03-07T08:14:33.043690Z",
     "iopub.status.idle": "2022-03-07T08:14:33.060458Z",
     "shell.execute_reply": "2022-03-07T08:14:33.060006Z"
    },
    "papermill": {
     "duration": 0.041374,
     "end_time": "2022-03-07T08:14:33.060549",
     "exception": false,
     "start_time": "2022-03-07T08:14:33.019175",
     "status": "completed"
    },
    "tags": []
   },
   "outputs": [],
   "source": [
    "total_experiment_time_secs = time.time() - start_time_secs"
   ]
  },
  {
   "cell_type": "code",
   "execution_count": 24,
   "id": "87b9595b",
   "metadata": {
    "execution": {
     "iopub.execute_input": "2022-03-07T08:14:33.112058Z",
     "iopub.status.busy": "2022-03-07T08:14:33.111788Z",
     "iopub.status.idle": "2022-03-07T08:14:43.716577Z",
     "shell.execute_reply": "2022-03-07T08:14:43.716147Z"
    },
    "papermill": {
     "duration": 10.632123,
     "end_time": "2022-03-07T08:14:43.716690",
     "exception": false,
     "start_time": "2022-03-07T08:14:33.084567",
     "status": "completed"
    },
    "tags": []
   },
   "outputs": [],
   "source": [
    "###################################\n",
    "# Evaluate the model\n",
    "###################################\n",
    "source_test_label_accuracy, source_test_label_loss = jig.test(datasets.source.processed.test)\n",
    "target_test_label_accuracy, target_test_label_loss = jig.test(datasets.target.processed.test)\n",
    "\n",
    "source_val_label_accuracy, source_val_label_loss = jig.test(datasets.source.processed.val)\n",
    "target_val_label_accuracy, target_val_label_loss = jig.test(datasets.target.processed.val)\n",
    "\n",
    "history = jig.get_history()\n",
    "\n",
    "total_epochs_trained = len(history[\"epoch_indices\"])\n",
    "\n",
    "val_dl = Iterable_Aggregator((datasets.source.original.val,datasets.target.original.val))\n",
    "\n",
    "confusion = ptn_confusion_by_domain_over_dataloader(model, p.device, val_dl)\n",
    "per_domain_accuracy = per_domain_accuracy_from_confusion(confusion)\n",
    "\n",
    "# Add a key to per_domain_accuracy for if it was a source domain\n",
    "for domain, accuracy in per_domain_accuracy.items():\n",
    "    per_domain_accuracy[domain] = {\n",
    "        \"accuracy\": accuracy,\n",
    "        \"source?\": domain in p.domains_source\n",
    "    }\n",
    "\n",
    "# Do an independent accuracy assesment JUST TO BE SURE!\n",
    "# _source_test_label_accuracy = independent_accuracy_assesment(model, datasets.source.processed.test, p.device)\n",
    "# _target_test_label_accuracy = independent_accuracy_assesment(model, datasets.target.processed.test, p.device)\n",
    "# _source_val_label_accuracy = independent_accuracy_assesment(model, datasets.source.processed.val, p.device)\n",
    "# _target_val_label_accuracy = independent_accuracy_assesment(model, datasets.target.processed.val, p.device)\n",
    "\n",
    "# assert(_source_test_label_accuracy == source_test_label_accuracy)\n",
    "# assert(_target_test_label_accuracy == target_test_label_accuracy)\n",
    "# assert(_source_val_label_accuracy == source_val_label_accuracy)\n",
    "# assert(_target_val_label_accuracy == target_val_label_accuracy)\n",
    "\n",
    "experiment = {\n",
    "    \"experiment_name\": p.experiment_name,\n",
    "    \"parameters\": dict(p),\n",
    "    \"results\": {\n",
    "        \"source_test_label_accuracy\": source_test_label_accuracy,\n",
    "        \"source_test_label_loss\": source_test_label_loss,\n",
    "        \"target_test_label_accuracy\": target_test_label_accuracy,\n",
    "        \"target_test_label_loss\": target_test_label_loss,\n",
    "        \"source_val_label_accuracy\": source_val_label_accuracy,\n",
    "        \"source_val_label_loss\": source_val_label_loss,\n",
    "        \"target_val_label_accuracy\": target_val_label_accuracy,\n",
    "        \"target_val_label_loss\": target_val_label_loss,\n",
    "        \"total_epochs_trained\": total_epochs_trained,\n",
    "        \"total_experiment_time_secs\": total_experiment_time_secs,\n",
    "        \"confusion\": confusion,\n",
    "        \"per_domain_accuracy\": per_domain_accuracy,\n",
    "    },\n",
    "    \"history\": history,\n",
    "    \"dataset_metrics\": get_dataset_metrics(datasets, \"ptn\"),\n",
    "}"
   ]
  },
  {
   "cell_type": "code",
   "execution_count": 25,
   "id": "54a21829",
   "metadata": {
    "execution": {
     "iopub.execute_input": "2022-03-07T08:14:43.767089Z",
     "iopub.status.busy": "2022-03-07T08:14:43.766193Z",
     "iopub.status.idle": "2022-03-07T08:14:43.943968Z",
     "shell.execute_reply": "2022-03-07T08:14:43.944353Z"
    },
    "papermill": {
     "duration": 0.20076,
     "end_time": "2022-03-07T08:14:43.944467",
     "exception": false,
     "start_time": "2022-03-07T08:14:43.743707",
     "status": "completed"
    },
    "tags": []
   },
   "outputs": [
    {
     "data": {
      "image/png": "[encoded data removed]",
      "text/plain": [
       "<Figure size 1080x504 with 1 Axes>"
      ]
     },
     "metadata": {
      "needs_background": "light"
     },
     "output_type": "display_data"
    }
   ],
   "source": [
    "ax = get_loss_curve(experiment)\n",
    "plt.show()"
   ]
  },
  {
   "cell_type": "code",
   "execution_count": 26,
   "id": "fd8a0f60",
   "metadata": {
    "execution": {
     "iopub.execute_input": "2022-03-07T08:14:43.993584Z",
     "iopub.status.busy": "2022-03-07T08:14:43.993333Z",
     "iopub.status.idle": "2022-03-07T08:14:44.173265Z",
     "shell.execute_reply": "2022-03-07T08:14:44.173480Z"
    },
    "papermill": {
     "duration": 0.204164,
     "end_time": "2022-03-07T08:14:44.173549",
     "exception": false,
     "start_time": "2022-03-07T08:14:43.969385",
     "status": "completed"
    },
    "tags": []
   },
   "outputs": [
    {
     "data": {
      "text/plain": [
       "<matplotlib.axes._subplots.AxesSubplot at 0x7f1673687bb0>"
      ]
     },
     "execution_count": 26,
     "metadata": {},
     "output_type": "execute_result"
    },
    {
     "data": {
      "image/png": "[encoded data removed]",
      "text/plain": [
       "<Figure size 1080x504 with 1 Axes>"
      ]
     },
     "metadata": {
      "needs_background": "light"
     },
     "output_type": "display_data"
    }
   ],
   "source": [
    "get_results_table(experiment)"
   ]
  },
  {
   "cell_type": "code",
   "execution_count": 27,
   "id": "cf8dc689",
   "metadata": {
    "execution": {
     "iopub.execute_input": "2022-03-07T08:14:44.228404Z",
     "iopub.status.busy": "2022-03-07T08:14:44.228151Z",
     "iopub.status.idle": "2022-03-07T08:14:44.415663Z",
     "shell.execute_reply": "2022-03-07T08:14:44.415204Z"
    },
    "papermill": {
     "duration": 0.21316,
     "end_time": "2022-03-07T08:14:44.415760",
     "exception": false,
     "start_time": "2022-03-07T08:14:44.202600",
     "status": "completed"
    },
    "tags": []
   },
   "outputs": [
    {
     "data": {
      "text/plain": [
       "<matplotlib.axes._subplots.AxesSubplot at 0x7f170c8aef10>"
      ]
     },
     "execution_count": 27,
     "metadata": {},
     "output_type": "execute_result"
    },
    {
     "data": {
      "image/png": "[encoded data removed]",
      "text/plain": [
       "<Figure size 1080x504 with 1 Axes>"
      ]
     },
     "metadata": {
      "needs_background": "light"
     },
     "output_type": "display_data"
    }
   ],
   "source": [
    "get_domain_accuracies(experiment)"
   ]
  },
  {
   "cell_type": "code",
   "execution_count": 28,
   "id": "a74ae082",
   "metadata": {
    "execution": {
     "iopub.execute_input": "2022-03-07T08:14:44.470076Z",
     "iopub.status.busy": "2022-03-07T08:14:44.469818Z",
     "iopub.status.idle": "2022-03-07T08:14:44.482573Z",
     "shell.execute_reply": "2022-03-07T08:14:44.482265Z"
    },
    "papermill": {
     "duration": 0.039278,
     "end_time": "2022-03-07T08:14:44.482645",
     "exception": false,
     "start_time": "2022-03-07T08:14:44.443367",
     "status": "completed"
    },
    "tags": []
   },
   "outputs": [
    {
     "name": "stdout",
     "output_type": "stream",
     "text": [
      "Source Test Label Accuracy: 0.9418103448275862 Target Test Label Accuracy: 0.9459770114942528\n",
      "Source Val Label Accuracy: 0.9540229885057471 Target Val Label Accuracy: 0.9511494252873564\n"
     ]
    }
   ],
   "source": [
    "print(\"Source Test Label Accuracy:\", experiment[\"results\"][\"source_test_label_accuracy\"], \"Target Test Label Accuracy:\", experiment[\"results\"][\"target_test_label_accuracy\"])\n",
    "print(\"Source Val Label Accuracy:\", experiment[\"results\"][\"source_val_label_accuracy\"], \"Target Val Label Accuracy:\", experiment[\"results\"][\"target_val_label_accuracy\"])"
   ]
  },
  {
   "cell_type": "code",
   "execution_count": 29,
   "id": "dacca602",
   "metadata": {
    "execution": {
     "iopub.execute_input": "2022-03-07T08:14:44.536481Z",
     "iopub.status.busy": "2022-03-07T08:14:44.536234Z",
     "iopub.status.idle": "2022-03-07T08:14:44.548378Z",
     "shell.execute_reply": "2022-03-07T08:14:44.547988Z"
    },
    "papermill": {
     "duration": 0.037784,
     "end_time": "2022-03-07T08:14:44.548468",
     "exception": false,
     "start_time": "2022-03-07T08:14:44.510684",
     "status": "completed"
    },
    "tags": [
     "experiment_json"
    ]
   },
   "outputs": [
    {
     "data": {
      "text/plain": [
       "'{\"experiment_name\": \"tl_1_cores-wisig\", \"parameters\": {\"experiment_name\": \"tl_1_cores-wisig\", \"device\": \"cuda\", \"lr\": 0.001, \"seed\": 1337, \"dataset_seed\": 1337, \"n_shot\": 3, \"n_query\": 2, \"train_k_factor\": 3, \"val_k_factor\": 2, \"test_k_factor\": 2, \"torch_default_dtype\": \"torch.float32\", \"n_epoch\": 3, \"patience\": 3, \"criteria_for_best\": \"target_loss\", \"x_net\": [{\"class\": \"nnReshape\", \"kargs\": {\"shape\": [-1, 1, 2, 256]}}, {\"class\": \"Conv2d\", \"kargs\": {\"in_channels\": 1, \"out_channels\": 256, \"kernel_size\": [1, 7], \"bias\": false, \"padding\": [0, 3]}}, {\"class\": \"ReLU\", \"kargs\": {\"inplace\": true}}, {\"class\": \"BatchNorm2d\", \"kargs\": {\"num_features\": 256}}, {\"class\": \"Conv2d\", \"kargs\": {\"in_channels\": 256, \"out_channels\": 80, \"kernel_size\": [2, 7], \"bias\": true, \"padding\": [0, 3]}}, {\"class\": \"ReLU\", \"kargs\": {\"inplace\": true}}, {\"class\": \"BatchNorm2d\", \"kargs\": {\"num_features\": 80}}, {\"class\": \"Flatten\", \"kargs\": {}}, {\"class\": \"Linear\", \"kargs\": {\"in_features\": 20480, \"out_features\": 256}}, {\"class\": \"ReLU\", \"kargs\": {\"inplace\": true}}, {\"class\": \"BatchNorm1d\", \"kargs\": {\"num_features\": 256}}, {\"class\": \"Linear\", \"kargs\": {\"in_features\": 256, \"out_features\": 256}}], \"NUM_LOGS_PER_EPOCH\": 10, \"BEST_MODEL_PATH\": \"./best_model.pth\", \"n_way\": 58, \"datasets\": [{\"labels\": [\"1-10.\", \"1-11.\", \"1-15.\", \"1-16.\", \"1-17.\", \"1-18.\", \"1-19.\", \"10-4.\", \"10-7.\", \"11-1.\", \"11-14.\", \"11-17.\", \"11-20.\", \"11-7.\", \"13-20.\", \"13-8.\", \"14-10.\", \"14-11.\", \"14-14.\", \"14-7.\", \"15-1.\", \"15-20.\", \"16-1.\", \"16-16.\", \"17-10.\", \"17-11.\", \"17-2.\", \"19-1.\", \"19-16.\", \"19-19.\", \"19-20.\", \"19-3.\", \"2-10.\", \"2-11.\", \"2-17.\", \"2-18.\", \"2-20.\", \"2-3.\", \"2-4.\", \"2-5.\", \"2-6.\", \"2-7.\", \"2-8.\", \"3-13.\", \"3-18.\", \"3-3.\", \"4-1.\", \"4-10.\", \"4-11.\", \"4-19.\", \"5-5.\", \"6-15.\", \"7-10.\", \"7-14.\", \"8-18.\", \"8-20.\", \"8-3.\", \"8-8.\"], \"domains\": [1, 2, 3, 4, 5], \"num_examples_per_domain_per_label\": 100, \"pickle_path\": \"/mnt/wd500GB/CSC500/csc500-main/datasets/cores.stratified_ds.2022A.pkl\", \"source_or_target_dataset\": \"target\", \"x_transforms\": [\"unit_power\"], \"episode_transforms\": [], \"domain_prefix\": \"CORES_\"}, {\"labels\": [\"1-10\", \"1-12\", \"1-14\", \"1-16\", \"1-18\", \"1-19\", \"1-8\", \"10-11\", \"10-17\", \"10-4\", \"10-7\", \"11-1\", \"11-10\", \"11-19\", \"11-20\", \"11-4\", \"11-7\", \"12-19\", \"12-20\", \"12-7\", \"13-14\", \"13-18\", \"13-19\", \"13-20\", \"13-3\", \"13-7\", \"14-10\", \"14-11\", \"14-12\", \"14-13\", \"14-14\", \"14-19\", \"14-20\", \"14-7\", \"14-8\", \"14-9\", \"15-1\", \"15-19\", \"15-6\", \"16-1\", \"16-16\", \"16-19\", \"16-20\", \"17-10\", \"17-11\", \"18-1\", \"18-10\", \"18-11\", \"18-12\", \"18-13\", \"18-14\", \"18-15\", \"18-16\", \"18-17\", \"18-19\", \"18-2\", \"18-20\", \"18-4\", \"18-5\", \"18-7\", \"18-8\", \"18-9\", \"19-1\", \"19-10\", \"19-11\", \"19-12\", \"19-13\", \"19-14\", \"19-15\", \"19-19\", \"19-2\", \"19-20\", \"19-3\", \"19-4\", \"19-6\", \"19-7\", \"19-8\", \"19-9\", \"2-1\", \"2-13\", \"2-15\", \"2-3\", \"2-4\", \"2-5\", \"2-6\", \"2-7\", \"2-8\", \"20-1\", \"20-12\", \"20-14\", \"20-15\", \"20-16\", \"20-18\", \"20-19\", \"20-20\", \"20-3\", \"20-4\", \"20-5\", \"20-7\", \"20-8\", \"3-1\", \"3-13\", \"3-18\", \"3-2\", \"3-8\", \"4-1\", \"4-10\", \"4-11\", \"5-1\", \"5-5\", \"6-1\", \"6-15\", \"6-6\", \"7-10\", \"7-11\", \"7-12\", \"7-13\", \"7-14\", \"7-7\", \"7-8\", \"7-9\", \"8-1\", \"8-13\", \"8-14\", \"8-18\", \"8-20\", \"8-3\", \"8-8\", \"9-1\", \"9-7\"], \"domains\": [1, 2, 3, 4], \"num_examples_per_domain_per_label\": 100, \"pickle_path\": \"/mnt/wd500GB/CSC500/csc500-main/datasets/wisig.node3-19.stratified_ds.2022A.pkl\", \"source_or_target_dataset\": \"source\", \"x_transforms\": [\"unit_power\"], \"episode_transforms\": [], \"domain_prefix\": \"Wisig_\"}], \"domains_source\": [\"Wisig_1\", \"Wisig_2\", \"Wisig_3\", \"Wisig_4\"], \"domains_target\": [\"CORES_1\", \"CORES_2\", \"CORES_3\", \"CORES_4\", \"CORES_5\"]}, \"results\": {\"source_test_label_accuracy\": 0.9418103448275862, \"source_test_label_loss\": 0.32000842690467834, \"target_test_label_accuracy\": 0.9459770114942528, \"target_test_label_loss\": 0.27165648341178894, \"source_val_label_accuracy\": 0.9540229885057471, \"source_val_label_loss\": 0.27665528655052185, \"target_val_label_accuracy\": 0.9511494252873564, \"target_val_label_loss\": 0.2597476840019226, \"total_epochs_trained\": 3, \"total_experiment_time_secs\": 95.05751132965088, \"confusion\": {\"Wisig_3\": {\"36\": {\"36\": 7, \"27\": 1}, \"123\": {\"123\": 12}, \"53\": {\"53\": 12}, \"24\": {\"24\": 12}, \"8\": {\"8\": 10, \"108\": 2}, \"49\": {\"49\": 12}, \"74\": {\"74\": 10}, \"93\": {\"93\": 12}, \"104\": {\"104\": 10}, \"122\": {\"122\": 10}, \"78\": {\"21\": 2, \"4\": 1, \"78\": 7, \"87\": 2}, \"21\": {\"21\": 11, \"78\": 1}, \"22\": {\"22\": 12}, \"27\": {\"27\": 11, \"36\": 1}, \"124\": {\"124\": 10}, \"35\": {\"35\": 9, \"62\": 1}, \"37\": {\"37\": 5, \"21\": 1}, \"45\": {\"45\": 12}, \"55\": {\"55\": 12}, \"110\": {\"110\": 10}, \"2\": {\"2\": 12}, \"23\": {\"13\": 1, \"23\": 10, \"67\": 1}, \"29\": {\"29\": 12}, \"90\": {\"90\": 12}, \"127\": {\"127\": 12}, \"13\": {\"13\": 11, \"81\": 1}, \"48\": {\"48\": 11, \"95\": 1}, \"105\": {\"105\": 8}, \"50\": {\"50\": 10}, \"52\": {\"52\": 12}, \"9\": {\"9\": 12}, \"94\": {\"94\": 9, \"54\": 1}, \"14\": {\"14\": 11, \"13\": 1}, \"98\": {\"44\": 1, \"98\": 11}, \"64\": {\"64\": 12}, \"97\": {\"97\": 11, \"15\": 1}, \"117\": {\"117\": 10}, \"85\": {\"85\": 10}, \"44\": {\"44\": 11, \"89\": 1}, \"80\": {\"80\": 11, \"70\": 1}, \"16\": {\"16\": 12}, \"103\": {\"103\": 12}, \"40\": {\"40\": 12}, \"30\": {\"30\": 12}, \"6\": {\"6\": 12}, \"108\": {\"108\": 11, \"8\": 1}, \"33\": {\"33\": 12}, \"96\": {\"96\": 12}, \"79\": {\"79\": 10}, \"109\": {\"109\": 8}, \"81\": {\"81\": 12}, \"88\": {\"88\": 10}, \"41\": {\"41\": 12}, \"70\": {\"110\": 1, \"70\": 8, \"122\": 1, \"78\": 1, \"13\": 1}, \"76\": {\"76\": 12}, \"5\": {\"5\": 12}, \"0\": {\"0\": 12}, \"4\": {\"4\": 10}, \"86\": {\"86\": 10}, \"69\": {\"69\": 12}, \"26\": {\"26\": 8}, \"120\": {\"120\": 8}, \"84\": {\"84\": 5, \"122\": 1}, \"12\": {\"12\": 10}, \"32\": {\"32\": 12}, \"89\": {\"89\": 12}, \"129\": {\"129\": 12}, \"125\": {\"125\": 12}, \"116\": {\"116\": 8}, \"19\": {\"19\": 12}, \"71\": {\"71\": 9, \"61\": 1}, \"72\": {\"72\": 10}, \"100\": {\"100\": 12}, \"20\": {\"20\": 10}, \"65\": {\"65\": 10}, \"121\": {\"121\": 10}, \"34\": {\"34\": 10, \"6\": 1, \"120\": 1}, \"119\": {\"119\": 10}, \"75\": {\"75\": 12}, \"1\": {\"1\": 12}, \"113\": {\"113\": 10}, \"39\": {\"39\": 12}, \"82\": {\"82\": 12}, \"67\": {\"67\": 6}, \"63\": {\"63\": 10}, \"31\": {\"31\": 12}, \"38\": {\"38\": 9, \"68\": 1, \"76\": 1, \"13\": 1}, \"17\": {\"122\": 3, \"63\": 1, \"9\": 1, \"17\": 5, \"67\": 1, \"4\": 1}, \"106\": {\"106\": 8}, \"91\": {\"91\": 12}, \"56\": {\"56\": 10}, \"46\": {\"46\": 12}, \"128\": {\"128\": 10}, \"66\": {\"66\": 12}, \"10\": {\"10\": 11, \"9\": 1}, \"62\": {\"62\": 10}, \"112\": {\"112\": 10, \"32\": 1, \"25\": 1}, \"47\": {\"47\": 12}, \"107\": {\"107\": 12}, \"28\": {\"28\": 8}, \"95\": {\"95\": 12}, \"18\": {\"18\": 10}, \"114\": {\"114\": 12}, \"102\": {\"102\": 12}, \"68\": {\"68\": 12}, \"126\": {\"126\": 7, \"39\": 1}, \"111\": {\"111\": 12}, \"3\": {\"3\": 9, \"68\": 1}, \"83\": {\"83\": 8}, \"59\": {\"59\": 11, \"97\": 1}, \"54\": {\"54\": 12}, \"115\": {\"115\": 10}, \"57\": {\"57\": 10}, \"92\": {\"92\": 8}, \"73\": {\"73\": 10}, \"58\": {\"58\": 12}, \"61\": {\"61\": 10}, \"60\": {\"60\": 7, \"87\": 1}, \"99\": {\"99\": 10}, \"25\": {\"25\": 8, \"76\": 1, \"59\": 1}, \"87\": {\"87\": 9, \"13\": 1}, \"7\": {\"7\": 10}, \"101\": {\"101\": 8}, \"51\": {\"101\": 1, \"51\": 8, \"68\": 1}, \"15\": {\"15\": 10}, \"43\": {\"43\": 7, \"33\": 1}, \"118\": {\"118\": 6}, \"42\": {\"42\": 8}, \"11\": {\"11\": 8}, \"77\": {\"77\": 8}}, \"Wisig_2\": {\"37\": {\"37\": 12}, \"101\": {\"101\": 12}, \"83\": {\"83\": 12}, \"95\": {\"95\": 10}, \"122\": {\"122\": 12}, \"18\": {\"18\": 12}, \"9\": {\"9\": 12}, \"57\": {\"57\": 8}, \"93\": {\"93\": 12}, \"64\": {\"64\": 12}, \"70\": {\"70\": 12}, \"36\": {\"36\": 7, \"27\": 1}, \"109\": {\"109\": 12}, \"92\": {\"92\": 9, \"17\": 1}, \"28\": {\"28\": 10}, \"39\": {\"39\": 11, \"117\": 1}, \"47\": {\"21\": 1, \"47\": 9, \"59\": 1, \"17\": 1}, \"127\": {\"127\": 10}, \"6\": {\"6\": 12}, \"13\": {\"13\": 12}, \"14\": {\"14\": 9, \"17\": 2, \"23\": 1}, \"110\": {\"110\": 9, \"9\": 1, \"14\": 2}, \"62\": {\"62\": 10}, \"59\": {\"59\": 10}, \"10\": {\"10\": 8}, \"41\": {\"41\": 11, \"28\": 1}, \"25\": {\"25\": 12}, \"45\": {\"45\": 9, \"49\": 1}, \"1\": {\"1\": 10}, \"61\": {\"61\": 8, \"45\": 1, \"39\": 1}, \"3\": {\"3\": 10, \"71\": 1, \"61\": 1}, \"35\": {\"35\": 11, \"62\": 1}, \"126\": {\"126\": 12}, \"90\": {\"90\": 12}, \"58\": {\"58\": 11, \"103\": 1}, \"74\": {\"74\": 11, \"28\": 1}, \"27\": {\"27\": 10}, \"60\": {\"60\": 10}, \"123\": {\"123\": 8}, \"50\": {\"50\": 11, \"64\": 1}, \"84\": {\"45\": 1, \"84\": 11}, \"128\": {\"128\": 12}, \"72\": {\"72\": 11, \"97\": 1}, \"96\": {\"96\": 12}, \"119\": {\"119\": 10}, \"56\": {\"127\": 1, \"56\": 7, \"125\": 1, \"94\": 1}, \"98\": {\"14\": 1, \"98\": 11}, \"87\": {\"87\": 8}, \"40\": {\"40\": 12}, \"114\": {\"114\": 12}, \"55\": {\"55\": 8}, \"8\": {\"18\": 1, \"8\": 11}, \"79\": {\"79\": 10}, \"112\": {\"112\": 8, \"108\": 1, \"49\": 1, \"126\": 2}, \"21\": {\"21\": 9, \"81\": 1, \"78\": 1, \"51\": 1}, \"42\": {\"42\": 12}, \"5\": {\"5\": 12}, \"22\": {\"22\": 12}, \"73\": {\"73\": 12}, \"69\": {\"69\": 12}, \"108\": {\"108\": 8}, \"118\": {\"118\": 11, \"117\": 1}, \"4\": {\"4\": 12}, \"49\": {\"49\": 12}, \"99\": {\"99\": 12}, \"66\": {\"66\": 10}, \"116\": {\"116\": 10}, \"67\": {\"67\": 11, \"72\": 1}, \"15\": {\"15\": 12}, \"63\": {\"63\": 8}, \"26\": {\"26\": 10}, \"24\": {\"24\": 12}, \"103\": {\"103\": 10}, \"38\": {\"38\": 10}, \"71\": {\"71\": 7, \"21\": 2, \"3\": 2, \"84\": 1}, \"75\": {\"75\": 9, \"94\": 1}, \"44\": {\"44\": 12}, \"104\": {\"104\": 12}, \"23\": {\"23\": 8, \"122\": 1, \"103\": 1, \"128\": 1, \"20\": 1}, \"105\": {\"105\": 12}, \"30\": {\"30\": 11, \"20\": 1}, \"120\": {\"120\": 12}, \"113\": {\"113\": 11, \"23\": 1}, \"53\": {\"53\": 10, \"78\": 1, \"24\": 1}, \"91\": {\"91\": 9, \"77\": 1}, \"89\": {\"89\": 12}, \"117\": {\"117\": 12}, \"82\": {\"82\": 10}, \"20\": {\"20\": 12}, \"34\": {\"34\": 10}, \"7\": {\"7\": 10}, \"80\": {\"80\": 12}, \"115\": {\"115\": 8, \"21\": 1, \"78\": 1}, \"76\": {\"76\": 10}, \"102\": {\"102\": 12}, \"19\": {\"19\": 9, \"66\": 1}, \"97\": {\"97\": 9, \"111\": 1}, \"121\": {\"121\": 10}, \"68\": {\"68\": 10}, \"12\": {\"12\": 11, \"97\": 1}, \"29\": {\"29\": 11, \"121\": 1}, \"31\": {\"31\": 12}, \"65\": {\"65\": 10}, \"33\": {\"33\": 10}, \"106\": {\"106\": 10}, \"17\": {\"17\": 9, \"23\": 1, \"14\": 1, \"78\": 1}, \"85\": {\"85\": 10}, \"51\": {\"51\": 9, \"28\": 1}, \"129\": {\"129\": 6}, \"78\": {\"78\": 11, \"70\": 1}, \"111\": {\"111\": 12}, \"100\": {\"100\": 12}, \"125\": {\"125\": 8}, \"52\": {\"52\": 8}, \"88\": {\"88\": 10}, \"94\": {\"108\": 1, \"94\": 9}, \"43\": {\"43\": 10}, \"77\": {\"77\": 10}, \"86\": {\"86\": 10}, \"107\": {\"107\": 10}, \"2\": {\"2\": 10}, \"81\": {\"81\": 6}, \"32\": {\"32\": 6, \"113\": 1, \"52\": 1}, \"48\": {\"48\": 8}, \"0\": {\"0\": 8}, \"16\": {\"16\": 9, \"93\": 1}, \"11\": {\"11\": 8, \"95\": 1, \"21\": 1}, \"124\": {\"124\": 8}, \"46\": {\"46\": 8}, \"54\": {\"54\": 4}}, \"Wisig_1\": {\"110\": {\"110\": 12}, \"27\": {\"27\": 6}, \"106\": {\"106\": 12}, \"13\": {\"13\": 8}, \"120\": {\"120\": 12}, \"25\": {\"25\": 12}, \"47\": {\"47\": 12}, \"8\": {\"8\": 12}, \"124\": {\"124\": 12}, \"55\": {\"55\": 10}, \"63\": {\"63\": 12}, \"58\": {\"58\": 10}, \"105\": {\"105\": 9, \"40\": 2, \"69\": 1}, \"59\": {\"59\": 11, \"121\": 1}, \"12\": {\"12\": 9, \"112\": 1}, \"98\": {\"98\": 12}, \"96\": {\"96\": 12}, \"30\": {\"30\": 12}, \"53\": {\"53\": 12}, \"82\": {\"82\": 8}, \"33\": {\"33\": 12}, \"0\": {\"0\": 12}, \"122\": {\"122\": 12}, \"28\": {\"28\": 12}, \"17\": {\"17\": 12}, \"121\": {\"121\": 11, \"76\": 1}, \"104\": {\"104\": 12}, \"71\": {\"71\": 12}, \"20\": {\"20\": 12}, \"41\": {\"41\": 12}, \"7\": {\"7\": 12}, \"83\": {\"83\": 10, \"94\": 1, \"12\": 1}, \"9\": {\"9\": 11, \"88\": 1}, \"118\": {\"118\": 12}, \"111\": {\"111\": 10}, \"23\": {\"23\": 11, \"110\": 1}, \"65\": {\"65\": 10}, \"95\": {\"95\": 12}, \"38\": {\"38\": 10}, \"50\": {\"50\": 11, \"21\": 1}, \"3\": {\"3\": 10, \"36\": 1, \"103\": 1}, \"31\": {\"31\": 12}, \"48\": {\"48\": 9, \"123\": 1}, \"81\": {\"81\": 12}, \"99\": {\"99\": 12}, \"85\": {\"85\": 12}, \"11\": {\"11\": 10}, \"126\": {\"126\": 12}, \"80\": {\"80\": 9, \"67\": 1}, \"46\": {\"46\": 8, \"88\": 1, \"94\": 1}, \"45\": {\"45\": 10}, \"18\": {\"18\": 12}, \"84\": {\"84\": 12}, \"24\": {\"24\": 12}, \"21\": {\"83\": 3, \"82\": 2, \"21\": 6, \"84\": 1}, \"117\": {\"117\": 6}, \"6\": {\"6\": 12}, \"97\": {\"97\": 10, \"27\": 1, \"36\": 1}, \"86\": {\"86\": 12}, \"56\": {\"56\": 12}, \"92\": {\"92\": 12}, \"40\": {\"40\": 12}, \"108\": {\"108\": 11, \"126\": 1}, \"73\": {\"73\": 8}, \"1\": {\"1\": 12}, \"129\": {\"129\": 12}, \"127\": {\"127\": 10}, \"14\": {\"14\": 6}, \"42\": {\"42\": 8}, \"67\": {\"67\": 9, \"87\": 1}, \"74\": {\"74\": 9, \"77\": 1}, \"61\": {\"61\": 8}, \"36\": {\"36\": 10}, \"32\": {\"32\": 10}, \"77\": {\"77\": 12}, \"107\": {\"107\": 12}, \"44\": {\"44\": 12}, \"51\": {\"51\": 12}, \"2\": {\"2\": 10}, \"52\": {\"52\": 8}, \"125\": {\"125\": 12}, \"37\": {\"37\": 9, \"94\": 1}, \"35\": {\"35\": 12}, \"116\": {\"116\": 4}, \"15\": {\"15\": 10}, \"70\": {\"70\": 7, \"108\": 2, \"21\": 1, \"5\": 1, \"34\": 1}, \"109\": {\"109\": 8}, \"76\": {\"76\": 12}, \"72\": {\"72\": 12}, \"114\": {\"114\": 6}, \"49\": {\"49\": 12}, \"69\": {\"69\": 12}, \"54\": {\"54\": 10}, \"113\": {\"113\": 10}, \"19\": {\"19\": 10}, \"29\": {\"29\": 12}, \"75\": {\"75\": 12}, \"57\": {\"57\": 8}, \"5\": {\"5\": 12}, \"87\": {\"87\": 11, \"78\": 1}, \"94\": {\"94\": 11, \"78\": 1}, \"88\": {\"88\": 10, \"97\": 2}, \"79\": {\"79\": 12}, \"64\": {\"64\": 10}, \"123\": {\"123\": 10}, \"66\": {\"66\": 10, \"28\": 2}, \"101\": {\"101\": 12}, \"112\": {\"112\": 8}, \"91\": {\"91\": 10}, \"93\": {\"21\": 1, \"93\": 11}, \"89\": {\"89\": 10}, \"68\": {\"68\": 10}, \"100\": {\"100\": 12}, \"78\": {\"78\": 8, \"110\": 1, \"43\": 1}, \"62\": {\"62\": 12}, \"119\": {\"119\": 10}, \"4\": {\"4\": 12}, \"128\": {\"128\": 10}, \"43\": {\"43\": 10}, \"90\": {\"90\": 6}, \"60\": {\"60\": 8, \"94\": 1, \"23\": 1}, \"34\": {\"34\": 10, \"6\": 1, \"83\": 1}, \"39\": {\"39\": 12}, \"103\": {\"103\": 10}, \"102\": {\"102\": 6}, \"16\": {\"16\": 10}, \"115\": {\"115\": 10}, \"22\": {\"22\": 4}, \"26\": {\"26\": 6}, \"10\": {\"10\": 6, \"78\": 1, \"4\": 1}}, \"Wisig_4\": {\"109\": {\"109\": 12}, \"45\": {\"45\": 10}, \"11\": {\"11\": 12}, \"23\": {\"64\": 1, \"23\": 7, \"103\": 1, \"123\": 1}, \"2\": {\"16\": 1, \"2\": 9, \"84\": 1, \"26\": 1}, \"25\": {\"25\": 12}, \"7\": {\"21\": 1, \"7\": 11}, \"55\": {\"55\": 12}, \"124\": {\"124\": 10}, \"101\": {\"101\": 12}, \"115\": {\"115\": 11, \"48\": 1}, \"121\": {\"121\": 7, \"51\": 1}, \"46\": {\"46\": 12}, \"72\": {\"72\": 12}, \"83\": {\"83\": 12}, \"12\": {\"12\": 11, \"111\": 1}, \"79\": {\"79\": 10}, \"20\": {\"20\": 12}, \"43\": {\"43\": 10, \"84\": 1, \"78\": 1}, \"35\": {\"35\": 12}, \"86\": {\"86\": 8}, \"3\": {\"3\": 12}, \"116\": {\"116\": 12}, \"53\": {\"53\": 11, \"49\": 1}, \"111\": {\"111\": 10}, \"40\": {\"40\": 8}, \"19\": {\"19\": 12}, \"71\": {\"71\": 11, \"114\": 1}, \"21\": {\"21\": 5, \"78\": 1}, \"82\": {\"82\": 10}, \"65\": {\"65\": 10, \"64\": 1, \"80\": 1}, \"110\": {\"110\": 10}, \"119\": {\"119\": 12}, \"64\": {\"64\": 10}, \"126\": {\"126\": 9, \"14\": 1}, \"129\": {\"129\": 12}, \"103\": {\"21\": 1, \"103\": 6, \"121\": 1, \"23\": 1, \"117\": 1, \"51\": 1, \"106\": 1}, \"34\": {\"34\": 10}, \"42\": {\"42\": 8}, \"114\": {\"114\": 12}, \"38\": {\"38\": 12}, \"99\": {\"99\": 11, \"103\": 1}, \"47\": {\"47\": 11, \"115\": 1}, \"61\": {\"35\": 1, \"61\": 11}, \"9\": {\"9\": 11, \"89\": 1}, \"73\": {\"73\": 12}, \"48\": {\"97\": 1, \"48\": 10, \"115\": 1}, \"18\": {\"18\": 12}, \"16\": {\"16\": 12}, \"87\": {\"87\": 10}, \"60\": {\"60\": 11, \"43\": 1}, \"51\": {\"97\": 1, \"55\": 1, \"51\": 9, \"44\": 1}, \"4\": {\"4\": 12}, \"85\": {\"85\": 12}, \"28\": {\"28\": 12}, \"27\": {\"27\": 10, \"51\": 1, \"53\": 1}, \"97\": {\"97\": 8, \"80\": 1, \"36\": 2, \"10\": 1}, \"6\": {\"6\": 12}, \"76\": {\"76\": 10}, \"105\": {\"105\": 9, \"87\": 2, \"78\": 1}, \"37\": {\"37\": 12}, \"98\": {\"98\": 11, \"44\": 1}, \"96\": {\"96\": 12}, \"32\": {\"32\": 12}, \"15\": {\"15\": 10}, \"56\": {\"56\": 8}, \"90\": {\"90\": 10, \"89\": 1, \"22\": 1}, \"91\": {\"91\": 12}, \"52\": {\"52\": 12}, \"78\": {\"78\": 10, \"113\": 1, \"33\": 1}, \"84\": {\"84\": 12}, \"1\": {\"1\": 12}, \"122\": {\"122\": 10, \"105\": 1, \"78\": 1}, \"66\": {\"66\": 8}, \"127\": {\"105\": 1, \"127\": 5}, \"80\": {\"80\": 12}, \"113\": {\"78\": 1, \"113\": 10, \"87\": 1}, \"31\": {\"31\": 12}, \"88\": {\"88\": 10, \"70\": 1, \"108\": 1}, \"62\": {\"62\": 12}, \"22\": {\"22\": 12}, \"49\": {\"49\": 12}, \"54\": {\"54\": 12}, \"63\": {\"76\": 1, \"63\": 9}, \"39\": {\"39\": 12}, \"95\": {\"95\": 12}, \"58\": {\"58\": 8}, \"81\": {\"81\": 9, \"126\": 1}, \"10\": {\"10\": 12}, \"93\": {\"93\": 12}, \"41\": {\"41\": 10}, \"68\": {\"68\": 12}, \"75\": {\"75\": 12}, \"14\": {\"14\": 12}, \"59\": {\"59\": 8, \"6\": 1, \"51\": 1}, \"69\": {\"69\": 9, \"0\": 1}, \"29\": {\"29\": 8}, \"107\": {\"107\": 12}, \"117\": {\"117\": 9, \"23\": 1}, \"100\": {\"100\": 11, \"95\": 1}, \"33\": {\"33\": 6, \"102\": 4}, \"106\": {\"106\": 10}, \"30\": {\"30\": 12}, \"36\": {\"36\": 12}, \"0\": {\"0\": 8, \"101\": 2}, \"92\": {\"92\": 12}, \"67\": {\"67\": 11, \"27\": 1}, \"77\": {\"77\": 12}, \"89\": {\"89\": 8}, \"44\": {\"44\": 10}, \"8\": {\"8\": 7, \"0\": 1}, \"102\": {\"102\": 10}, \"50\": {\"50\": 10}, \"57\": {\"57\": 8, \"13\": 1, \"105\": 1}, \"128\": {\"128\": 7, \"23\": 1}, \"108\": {\"108\": 10}, \"120\": {\"120\": 8}, \"17\": {\"17\": 8}, \"94\": {\"94\": 5, \"67\": 1, \"36\": 1, \"21\": 1}, \"70\": {\"122\": 1, \"88\": 2, \"70\": 5, \"78\": 1, \"30\": 1}, \"13\": {\"13\": 10}, \"112\": {\"112\": 10}, \"5\": {\"5\": 9, \"35\": 1}, \"24\": {\"24\": 4}, \"118\": {\"118\": 8}, \"26\": {\"26\": 8}, \"74\": {\"74\": 8}, \"125\": {\"125\": 5, \"47\": 1}, \"104\": {\"104\": 6}, \"123\": {\"123\": 6}}, \"CORES_3\": {\"1\": {\"1\": 12}, \"28\": {\"28\": 12}, \"21\": {\"21\": 12}, \"27\": {\"27\": 12}, \"20\": {\"20\": 12}, \"16\": {\"16\": 12}, \"48\": {\"48\": 12}, \"42\": {\"42\": 12}, \"45\": {\"45\": 12}, \"41\": {\"41\": 12}, \"13\": {\"13\": 12}, \"50\": {\"50\": 12}, \"32\": {\"32\": 12}, \"51\": {\"51\": 12}, \"30\": {\"30\": 11, \"18\": 1}, \"38\": {\"38\": 12}, \"7\": {\"7\": 12}, \"22\": {\"22\": 12}, \"37\": {\"37\": 12}, \"33\": {\"33\": 12}, \"6\": {\"6\": 6, \"17\": 4, \"38\": 2}, \"14\": {\"28\": 3, \"31\": 3, \"14\": 4, \"19\": 1, \"42\": 1}, \"40\": {\"40\": 11, \"28\": 1}, \"55\": {\"55\": 11, \"42\": 1}, \"2\": {\"2\": 12}, \"39\": {\"39\": 12}, \"56\": {\"56\": 12}, \"17\": {\"17\": 12}, \"10\": {\"10\": 12}, \"9\": {\"9\": 11, \"18\": 1}, \"31\": {\"31\": 12}, \"12\": {\"12\": 12}, \"25\": {\"25\": 12}, \"0\": {\"0\": 12}, \"47\": {\"47\": 12}, \"44\": {\"44\": 12}, \"23\": {\"23\": 12}, \"15\": {\"15\": 12}, \"8\": {\"8\": 12}, \"54\": {\"54\": 12}, \"52\": {\"52\": 11, \"17\": 1}, \"29\": {\"29\": 9, \"57\": 2, \"9\": 1}, \"5\": {\"5\": 11, \"18\": 1}, \"34\": {\"34\": 12}, \"35\": {\"35\": 12}, \"26\": {\"26\": 12}, \"57\": {\"57\": 11, \"29\": 1}, \"53\": {\"53\": 12}, \"36\": {\"36\": 12}, \"18\": {\"3\": 1, \"18\": 11}, \"49\": {\"49\": 12}, \"3\": {\"3\": 8, \"36\": 1, \"32\": 1, \"18\": 1, \"29\": 1}, \"4\": {\"4\": 12}, \"24\": {\"24\": 12}, \"11\": {\"11\": 12}, \"19\": {\"19\": 12}, \"43\": {\"43\": 12}, \"46\": {\"46\": 12}}, \"CORES_4\": {\"9\": {\"9\": 12}, \"4\": {\"4\": 10, \"27\": 1, \"26\": 1}, \"20\": {\"20\": 12}, \"26\": {\"26\": 12}, \"19\": {\"19\": 12}, \"35\": {\"35\": 12}, \"14\": {\"14\": 8, \"29\": 2, \"44\": 2}, \"10\": {\"10\": 12}, \"1\": {\"1\": 12}, \"3\": {\"50\": 2, \"3\": 9, \"17\": 1}, \"29\": {\"29\": 12}, \"47\": {\"47\": 12}, \"50\": {\"17\": 2, \"3\": 2, \"50\": 8}, \"51\": {\"51\": 11, \"21\": 1}, \"55\": {\"55\": 10, \"43\": 2}, \"27\": {\"27\": 12}, \"31\": {\"31\": 12}, \"30\": {\"30\": 12}, \"37\": {\"37\": 12}, \"36\": {\"36\": 12}, \"48\": {\"48\": 12}, \"46\": {\"46\": 9, \"48\": 1, \"11\": 1, \"15\": 1}, \"25\": {\"25\": 12}, \"53\": {\"53\": 12}, \"0\": {\"0\": 12}, \"8\": {\"8\": 12}, \"15\": {\"15\": 10, \"11\": 2}, \"22\": {\"22\": 12}, \"45\": {\"45\": 10, \"8\": 2}, \"43\": {\"43\": 12}, \"12\": {\"12\": 12}, \"24\": {\"24\": 12}, \"11\": {\"11\": 12}, \"44\": {\"44\": 12}, \"5\": {\"5\": 9, \"9\": 2, \"16\": 1}, \"6\": {\"6\": 12}, \"49\": {\"49\": 12}, \"2\": {\"2\": 12}, \"18\": {\"18\": 12}, \"54\": {\"54\": 12}, \"41\": {\"41\": 12}, \"38\": {\"38\": 12}, \"34\": {\"34\": 12}, \"21\": {\"21\": 12}, \"57\": {\"29\": 1, \"57\": 11}, \"33\": {\"33\": 7, \"42\": 5}, \"17\": {\"17\": 10, \"5\": 2}, \"40\": {\"40\": 12}, \"28\": {\"34\": 1, \"28\": 11}, \"16\": {\"16\": 12}, \"56\": {\"56\": 12}, \"39\": {\"39\": 12}, \"13\": {\"13\": 12}, \"23\": {\"23\": 12}, \"7\": {\"7\": 12}, \"52\": {\"52\": 12}, \"42\": {\"42\": 11, \"33\": 1}, \"32\": {\"32\": 12}}, \"CORES_2\": {\"16\": {\"16\": 12}, \"31\": {\"31\": 12}, \"29\": {\"29\": 11, \"57\": 1}, \"54\": {\"54\": 12}, \"52\": {\"52\": 12}, \"27\": {\"27\": 11, \"8\": 1}, \"37\": {\"37\": 12}, \"12\": {\"12\": 12}, \"0\": {\"0\": 12}, \"43\": {\"43\": 11, \"5\": 1}, \"21\": {\"21\": 12}, \"47\": {\"47\": 12}, \"56\": {\"56\": 12}, \"26\": {\"26\": 12}, \"28\": {\"28\": 12}, \"48\": {\"48\": 11, \"11\": 1}, \"40\": {\"40\": 10, \"35\": 2}, \"5\": {\"5\": 12}, \"17\": {\"17\": 12}, \"9\": {\"9\": 8, \"4\": 1, \"32\": 2, \"29\": 1}, \"30\": {\"30\": 12}, \"24\": {\"24\": 12}, \"32\": {\"32\": 12}, \"39\": {\"39\": 12}, \"8\": {\"8\": 12}, \"13\": {\"13\": 12}, \"23\": {\"23\": 10, \"34\": 2}, \"35\": {\"35\": 11, \"33\": 1}, \"4\": {\"4\": 12}, \"19\": {\"19\": 12}, \"25\": {\"25\": 12}, \"14\": {\"14\": 3, \"31\": 4, \"43\": 3, \"38\": 1, \"37\": 1}, \"34\": {\"34\": 9, \"23\": 3}, \"45\": {\"45\": 11, \"17\": 1}, \"2\": {\"2\": 12}, \"41\": {\"41\": 12}, \"6\": {\"6\": 12}, \"7\": {\"7\": 12}, \"55\": {\"43\": 4, \"55\": 8}, \"22\": {\"22\": 12}, \"3\": {\"3\": 10, \"20\": 1, \"8\": 1}, \"15\": {\"15\": 12}, \"53\": {\"53\": 12}, \"42\": {\"42\": 12}, \"51\": {\"51\": 12}, \"38\": {\"38\": 12}, \"1\": {\"1\": 10, \"15\": 1, \"42\": 1}, \"10\": {\"10\": 12}, \"49\": {\"49\": 12}, \"36\": {\"36\": 12}, \"11\": {\"11\": 12}, \"46\": {\"46\": 9, \"48\": 2, \"6\": 1}, \"44\": {\"44\": 12}, \"57\": {\"57\": 11, \"29\": 1}, \"33\": {\"33\": 12}, \"18\": {\"18\": 11, \"16\": 1}, \"50\": {\"50\": 11, \"17\": 1}, \"20\": {\"20\": 12}}, \"CORES_1\": {\"32\": {\"32\": 12}, \"53\": {\"53\": 12}, \"27\": {\"27\": 12}, \"2\": {\"2\": 12}, \"37\": {\"37\": 12}, \"34\": {\"34\": 12}, \"0\": {\"0\": 12}, \"25\": {\"25\": 12}, \"54\": {\"54\": 12}, \"6\": {\"6\": 11, \"14\": 1}, \"11\": {\"11\": 12}, \"36\": {\"36\": 12}, \"28\": {\"28\": 12}, \"18\": {\"18\": 12}, \"16\": {\"16\": 12}, \"33\": {\"33\": 12}, \"3\": {\"3\": 10, \"45\": 2}, \"5\": {\"5\": 12}, \"29\": {\"29\": 9, \"19\": 3}, \"14\": {\"6\": 4, \"14\": 3, \"30\": 4, \"8\": 1}, \"38\": {\"38\": 12}, \"7\": {\"7\": 12}, \"9\": {\"9\": 12}, \"24\": {\"24\": 12}, \"12\": {\"12\": 12}, \"49\": {\"49\": 12}, \"46\": {\"46\": 12}, \"55\": {\"55\": 12}, \"1\": {\"1\": 11, \"56\": 1}, \"31\": {\"31\": 12}, \"8\": {\"8\": 11, \"14\": 1}, \"10\": {\"10\": 12}, \"22\": {\"22\": 10, \"21\": 2}, \"43\": {\"43\": 12}, \"51\": {\"51\": 12}, \"35\": {\"35\": 12}, \"13\": {\"13\": 12}, \"50\": {\"50\": 12}, \"15\": {\"15\": 12}, \"30\": {\"30\": 12}, \"47\": {\"47\": 11, \"21\": 1}, \"26\": {\"26\": 12}, \"20\": {\"20\": 12}, \"52\": {\"52\": 12}, \"57\": {\"57\": 11, \"29\": 1}, \"39\": {\"39\": 12}, \"23\": {\"23\": 12}, \"21\": {\"21\": 12}, \"42\": {\"42\": 12}, \"45\": {\"45\": 12}, \"48\": {\"48\": 12}, \"40\": {\"40\": 12}, \"17\": {\"17\": 12}, \"4\": {\"4\": 12}, \"19\": {\"19\": 8, \"29\": 4}, \"41\": {\"41\": 12}, \"44\": {\"44\": 12}, \"56\": {\"56\": 11, \"57\": 1}}, \"CORES_5\": {\"19\": {\"19\": 12}, \"34\": {\"34\": 12}, \"20\": {\"20\": 12}, \"14\": {\"14\": 7, \"43\": 1, \"11\": 1, \"49\": 3}, \"0\": {\"0\": 12}, \"2\": {\"2\": 12}, \"27\": {\"27\": 12}, \"15\": {\"15\": 12}, \"57\": {\"57\": 12}, \"55\": {\"55\": 10, \"23\": 2}, \"26\": {\"26\": 12}, \"51\": {\"51\": 12}, \"54\": {\"54\": 12}, \"47\": {\"47\": 12}, \"24\": {\"24\": 12}, \"12\": {\"12\": 12}, \"32\": {\"32\": 12}, \"18\": {\"18\": 12}, \"4\": {\"4\": 12}, \"3\": {\"3\": 11, \"46\": 1}, \"43\": {\"43\": 11, \"16\": 1}, \"40\": {\"5\": 1, \"40\": 10, \"28\": 1}, \"31\": {\"31\": 12}, \"1\": {\"1\": 11, \"48\": 1}, \"30\": {\"30\": 12}, \"29\": {\"29\": 8, \"31\": 1, \"44\": 3}, \"25\": {\"25\": 12}, \"33\": {\"33\": 12}, \"6\": {\"6\": 9, \"20\": 2, \"17\": 1}, \"48\": {\"1\": 3, \"48\": 9}, \"21\": {\"21\": 12}, \"36\": {\"36\": 12}, \"46\": {\"46\": 12}, \"13\": {\"13\": 12}, \"10\": {\"10\": 12}, \"45\": {\"45\": 8, \"53\": 1, \"17\": 2, \"4\": 1}, \"35\": {\"35\": 12}, \"53\": {\"53\": 12}, \"16\": {\"16\": 12}, \"23\": {\"23\": 12}, \"11\": {\"15\": 3, \"11\": 9}, \"17\": {\"17\": 9, \"6\": 3}, \"37\": {\"37\": 12}, \"9\": {\"9\": 11, \"30\": 1}, \"28\": {\"28\": 11, \"33\": 1}, \"39\": {\"39\": 12}, \"52\": {\"52\": 12}, \"42\": {\"42\": 12}, \"5\": {\"5\": 12}, \"50\": {\"50\": 11, \"8\": 1}, \"7\": {\"7\": 12}, \"41\": {\"41\": 12}, \"22\": {\"56\": 3, \"22\": 8, \"3\": 1}, \"49\": {\"49\": 12}, \"44\": {\"44\": 12}, \"56\": {\"56\": 12}, \"38\": {\"38\": 12}, \"8\": {\"8\": 12}}}, \"per_domain_accuracy\": {\"Wisig_3\": {\"accuracy\": 0.9612068965517241, \"source?\": true}, \"Wisig_2\": {\"accuracy\": 0.9497126436781609, \"source?\": true}, \"Wisig_1\": {\"accuracy\": 0.9647988505747126, \"source?\": true}, \"Wisig_4\": {\"accuracy\": 0.9403735632183908, \"source?\": true}, \"CORES_3\": {\"accuracy\": 0.9583333333333334, \"source?\": false}, \"CORES_4\": {\"accuracy\": 0.9482758620689655, \"source?\": false}, \"CORES_2\": {\"accuracy\": 0.9425287356321839, \"source?\": false}, \"CORES_1\": {\"accuracy\": 0.9626436781609196, \"source?\": false}, \"CORES_5\": {\"accuracy\": 0.9439655172413793, \"source?\": false}}}, \"history\": {\"epoch_indices\": [1, 2, 3], \"train_label_loss\": [0.6887566281642232, 0.3022308542752977, 0.21469992624108933], \"source_val_label_loss\": [0.3933790922164917, 0.3092077076435089, 0.27665528655052185], \"target_val_label_loss\": [0.2707696855068207, 0.27653637528419495, 0.2597476840019226], \"source_val_acc_label\": [0.920617816091954, 0.9385775862068966, 0.9540229885057471], \"target_val_acc_label\": [0.9640804597701149, 0.95, 0.9511494252873564]}, \"dataset_metrics\": {\"source\": {\"train\": {\"n_unique_x\": 36395, \"n_unique_y\": 130, \"n_batch/episode\": 351}, \"val\": {\"n_unique_x\": 7693, \"n_unique_y\": 130, \"n_batch/episode\": 48}, \"test\": {\"n_unique_x\": 7693, \"n_unique_y\": 130, \"n_batch/episode\": 48}}, \"target\": {\"train\": {\"n_unique_x\": 20300, \"n_unique_y\": 58, \"n_batch/episode\": 210}, \"val\": {\"n_unique_x\": 4350, \"n_unique_y\": 58, \"n_batch/episode\": 30}, \"test\": {\"n_unique_x\": 4350, \"n_unique_y\": 58, \"n_batch/episode\": 30}}}}'"
      ]
     },
     "execution_count": 29,
     "metadata": {},
     "output_type": "execute_result"
    }
   ],
   "source": [
    "json.dumps(experiment)"
   ]
  }
 ],
 "metadata": {
  "celltoolbar": "Tags",
  "kernelspec": {
   "display_name": "Python 3 (ipykernel)",
   "language": "python",
   "name": "python3"
  },
  "language_info": {
   "codemirror_mode": {
    "name": "ipython",
    "version": 3
   },
   "file_extension": ".py",
   "mimetype": "text/x-python",
   "name": "python",
   "nbconvert_exporter": "python",
   "pygments_lexer": "ipython3",
   "version": "3.8.10"
  },
  "papermill": {
   "default_parameters": {},
   "duration": 109.196109,
   "end_time": "2022-03-07T08:14:45.183945",
   "environment_variables": {},
   "exception": null,
   "input_path": "/mnt/wd500GB/CSC500/csc500-main/csc500-notebooks/templates/tl_ptn_template.ipynb",
   "output_path": "trial.ipynb",
   "parameters": {
    "parameters": {
     "BEST_MODEL_PATH": "./best_model.pth",
     "NUM_LOGS_PER_EPOCH": 10,
     "criteria_for_best": "target_loss",
     "dataset_seed": 1337,
     "datasets": [
      {
       "domain_prefix": "CORES_",
       "domains": [
        1,
        2,
        3,
        4,
        5
       ],
       "episode_transforms": [],
       "labels": [
        "1-10.",
        "1-11.",
        "1-15.",
        "1-16.",
        "1-17.",
        "1-18.",
        "1-19.",
        "10-4.",
        "10-7.",
        "11-1.",
        "11-14.",
        "11-17.",
        "11-20.",
        "11-7.",
        "13-20.",
        "13-8.",
        "14-10.",
        "14-11.",
        "14-14.",
        "14-7.",
        "15-1.",
        "15-20.",
        "16-1.",
        "16-16.",
        "17-10.",
        "17-11.",
        "17-2.",
        "19-1.",
        "19-16.",
        "19-19.",
        "19-20.",
        "19-3.",
        "2-10.",
        "2-11.",
        "2-17.",
        "2-18.",
        "2-20.",
        "2-3.",
        "2-4.",
        "2-5.",
        "2-6.",
        "2-7.",
        "2-8.",
        "3-13.",
        "3-18.",
        "3-3.",
        "4-1.",
        "4-10.",
        "4-11.",
        "4-19.",
        "5-5.",
        "6-15.",
        "7-10.",
        "7-14.",
        "8-18.",
        "8-20.",
        "8-3.",
        "8-8."
       ],
       "num_examples_per_domain_per_label": 100,
       "pickle_path": "/mnt/wd500GB/CSC500/csc500-main/datasets/cores.stratified_ds.2022A.pkl",
       "source_or_target_dataset": "target",
       "x_transforms": [
        "unit_power"
       ]
      },
      {
       "domain_prefix": "Wisig_",
       "domains": [
        1,
        2,
        3,
        4
       ],
       "episode_transforms": [],
       "labels": [
        "1-10",
        "1-12",
        "1-14",
        "1-16",
        "1-18",
        "1-19",
        "1-8",
        "10-11",
        "10-17",
        "10-4",
        "10-7",
        "11-1",
        "11-10",
        "11-19",
        "11-20",
        "11-4",
        "11-7",
        "12-19",
        "12-20",
        "12-7",
        "13-14",
        "13-18",
        "13-19",
        "13-20",
        "13-3",
        "13-7",
        "14-10",
        "14-11",
        "14-12",
        "14-13",
        "14-14",
        "14-19",
        "14-20",
        "14-7",
        "14-8",
        "14-9",
        "15-1",
        "15-19",
        "15-6",
        "16-1",
        "16-16",
        "16-19",
        "16-20",
        "17-10",
        "17-11",
        "18-1",
        "18-10",
        "18-11",
        "18-12",
        "18-13",
        "18-14",
        "18-15",
        "18-16",
        "18-17",
        "18-19",
        "18-2",
        "18-20",
        "18-4",
        "18-5",
        "18-7",
        "18-8",
        "18-9",
        "19-1",
        "19-10",
        "19-11",
        "19-12",
        "19-13",
        "19-14",
        "19-15",
        "19-19",
        "19-2",
        "19-20",
        "19-3",
        "19-4",
        "19-6",
        "19-7",
        "19-8",
        "19-9",
        "2-1",
        "2-13",
        "2-15",
        "2-3",
        "2-4",
        "2-5",
        "2-6",
        "2-7",
        "2-8",
        "20-1",
        "20-12",
        "20-14",
        "20-15",
        "20-16",
        "20-18",
        "20-19",
        "20-20",
        "20-3",
        "20-4",
        "20-5",
        "20-7",
        "20-8",
        "3-1",
        "3-13",
        "3-18",
        "3-2",
        "3-8",
        "4-1",
        "4-10",
        "4-11",
        "5-1",
        "5-5",
        "6-1",
        "6-15",
        "6-6",
        "7-10",
        "7-11",
        "7-12",
        "7-13",
        "7-14",
        "7-7",
        "7-8",
        "7-9",
        "8-1",
        "8-13",
        "8-14",
        "8-18",
        "8-20",
        "8-3",
        "8-8",
        "9-1",
        "9-7"
       ],
       "num_examples_per_domain_per_label": 100,
       "pickle_path": "/mnt/wd500GB/CSC500/csc500-main/datasets/wisig.node3-19.stratified_ds.2022A.pkl",
       "source_or_target_dataset": "source",
       "x_transforms": [
        "unit_power"
       ]
      }
     ],
     "device": "cuda",
     "experiment_name": "tl_1_cores-wisig",
     "lr": 0.001,
     "n_epoch": 3,
     "n_query": 2,
     "n_shot": 3,
     "n_way": 58,
     "patience": 3,
     "seed": 1337,
     "test_k_factor": 2,
     "torch_default_dtype": "torch.float32",
     "train_k_factor": 3,
     "val_k_factor": 2,
     "x_net": [
      {
       "class": "nnReshape",
       "kargs": {
        "shape": [
         -1,
         1,
         2,
         256
        ]
       }
      },
      {
       "class": "Conv2d",
       "kargs": {
        "bias": false,
        "in_channels": 1,
        "kernel_size": [
         1,
         7
        ],
        "out_channels": 256,
        "padding": [
         0,
         3
        ]
       }
      },
      {
       "class": "ReLU",
       "kargs": {
        "inplace": true
       }
      },
      {
       "class": "BatchNorm2d",
       "kargs": {
        "num_features": 256
       }
      },
      {
       "class": "Conv2d",
       "kargs": {
        "bias": true,
        "in_channels": 256,
        "kernel_size": [
         2,
         7
        ],
        "out_channels": 80,
        "padding": [
         0,
         3
        ]
       }
      },
      {
       "class": "ReLU",
       "kargs": {
        "inplace": true
       }
      },
      {
       "class": "BatchNorm2d",
       "kargs": {
        "num_features": 80
       }
      },
      {
       "class": "Flatten",
       "kargs": {}
      },
      {
       "class": "Linear",
       "kargs": {
        "in_features": 20480,
        "out_features": 256
       }
      },
      {
       "class": "ReLU",
       "kargs": {
        "inplace": true
       }
      },
      {
       "class": "BatchNorm1d",
       "kargs": {
        "num_features": 256
       }
      },
      {
       "class": "Linear",
       "kargs": {
        "in_features": 256,
        "out_features": 256
       }
      }
     ]
    }
   },
   "start_time": "2022-03-07T08:12:55.987836",
   "version": "2.3.4"
  }
 },
 "nbformat": 4,
 "nbformat_minor": 5
}