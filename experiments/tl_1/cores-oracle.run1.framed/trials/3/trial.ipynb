{
 "cells": [
  {
   "cell_type": "markdown",
   "id": "9fea5f46",
   "metadata": {
    "papermill": {
     "duration": 0.016847,
     "end_time": "2022-03-07T08:57:54.762804",
     "exception": false,
     "start_time": "2022-03-07T08:57:54.745957",
     "status": "completed"
    },
    "tags": []
   },
   "source": [
    "# Transfer Learning Template"
   ]
  },
  {
   "cell_type": "code",
   "execution_count": 1,
   "id": "0902182a",
   "metadata": {
    "execution": {
     "iopub.execute_input": "2022-03-07T08:57:54.801799Z",
     "iopub.status.busy": "2022-03-07T08:57:54.801519Z",
     "iopub.status.idle": "2022-03-07T08:57:55.536503Z",
     "shell.execute_reply": "2022-03-07T08:57:55.536886Z"
    },
    "papermill": {
     "duration": 0.761925,
     "end_time": "2022-03-07T08:57:55.537076",
     "exception": false,
     "start_time": "2022-03-07T08:57:54.775151",
     "status": "completed"
    },
    "tags": []
   },
   "outputs": [],
   "source": [
    "%load_ext autoreload\n",
    "%autoreload 2\n",
    "%matplotlib inline\n",
    "\n",
    "    \n",
    "import os, json, sys, time, random\n",
    "import numpy as np\n",
    "import torch\n",
    "from torch.optim import Adam\n",
    "from  easydict import EasyDict\n",
    "import matplotlib.pyplot as plt\n",
    "\n",
    "from steves_models.steves_ptn import Steves_Prototypical_Network\n",
    "\n",
    "from steves_utils.lazy_iterable_wrapper import Lazy_Iterable_Wrapper\n",
    "from steves_utils.iterable_aggregator import Iterable_Aggregator\n",
    "from steves_utils.ptn_train_eval_test_jig import  PTN_Train_Eval_Test_Jig\n",
    "from steves_utils.torch_sequential_builder import build_sequential\n",
    "from steves_utils.torch_utils import get_dataset_metrics, ptn_confusion_by_domain_over_dataloader\n",
    "from steves_utils.utils_v2 import (per_domain_accuracy_from_confusion, get_datasets_base_path)\n",
    "from steves_utils.PTN.utils import independent_accuracy_assesment\n",
    "\n",
    "from torch.utils.data import DataLoader\n",
    "\n",
    "from steves_utils.stratified_dataset.episodic_accessor import Episodic_Accessor_Factory\n",
    "\n",
    "from steves_utils.ptn_do_report import (\n",
    "    get_loss_curve,\n",
    "    get_results_table,\n",
    "    get_parameters_table,\n",
    "    get_domain_accuracies,\n",
    ")\n",
    "\n",
    "from steves_utils.transforms import get_chained_transform"
   ]
  },
  {
   "cell_type": "markdown",
   "id": "41c840b4",
   "metadata": {
    "papermill": {
     "duration": 0.01241,
     "end_time": "2022-03-07T08:57:55.566827",
     "exception": false,
     "start_time": "2022-03-07T08:57:55.554417",
     "status": "completed"
    },
    "tags": []
   },
   "source": [
    "# Allowed Parameters\n",
    "These are allowed parameters, not defaults\n",
    "Each of these values need to be present in the injected parameters (the notebook will raise an exception if they are not present)\n",
    "\n",
    "Papermill uses the cell tag \"parameters\" to inject the real parameters below this cell.\n",
    "Enable tags to see what I mean"
   ]
  },
  {
   "cell_type": "code",
   "execution_count": 2,
   "id": "fd44eb83",
   "metadata": {
    "execution": {
     "iopub.execute_input": "2022-03-07T08:57:55.594545Z",
     "iopub.status.busy": "2022-03-07T08:57:55.594286Z",
     "iopub.status.idle": "2022-03-07T08:57:55.605454Z",
     "shell.execute_reply": "2022-03-07T08:57:55.605829Z"
    },
    "papermill": {
     "duration": 0.026754,
     "end_time": "2022-03-07T08:57:55.605934",
     "exception": false,
     "start_time": "2022-03-07T08:57:55.579180",
     "status": "completed"
    },
    "tags": []
   },
   "outputs": [],
   "source": [
    "required_parameters = {\n",
    "    \"experiment_name\",\n",
    "    \"lr\",\n",
    "    \"device\",\n",
    "    \"seed\",\n",
    "    \"dataset_seed\",\n",
    "    \"n_shot\",\n",
    "    \"n_query\",\n",
    "    \"n_way\",\n",
    "    \"train_k_factor\",\n",
    "    \"val_k_factor\",\n",
    "    \"test_k_factor\",\n",
    "    \"n_epoch\",\n",
    "    \"patience\",\n",
    "    \"criteria_for_best\",\n",
    "    \"x_net\",\n",
    "    \"datasets\",\n",
    "    \"torch_default_dtype\",\n",
    "    \"NUM_LOGS_PER_EPOCH\",\n",
    "    \"BEST_MODEL_PATH\",\n",
    "}"
   ]
  },
  {
   "cell_type": "code",
   "execution_count": 3,
   "id": "fa3f0049",
   "metadata": {
    "execution": {
     "iopub.execute_input": "2022-03-07T08:57:55.641337Z",
     "iopub.status.busy": "2022-03-07T08:57:55.641057Z",
     "iopub.status.idle": "2022-03-07T08:57:55.653896Z",
     "shell.execute_reply": "2022-03-07T08:57:55.653506Z"
    },
    "papermill": {
     "duration": 0.031217,
     "end_time": "2022-03-07T08:57:55.653985",
     "exception": false,
     "start_time": "2022-03-07T08:57:55.622768",
     "status": "completed"
    },
    "tags": [
     "parameters"
    ]
   },
   "outputs": [],
   "source": [
    "from steves_utils.CORES.utils import (\n",
    "    ALL_NODES,\n",
    "    ALL_NODES_MINIMUM_1000_EXAMPLES,\n",
    "    ALL_DAYS\n",
    ")\n",
    "\n",
    "from steves_utils.ORACLE.utils_v2 import (\n",
    "    ALL_DISTANCES_FEET_NARROWED,\n",
    "    ALL_RUNS,\n",
    "    ALL_SERIAL_NUMBERS,\n",
    ")\n",
    "\n",
    "standalone_parameters = {}\n",
    "standalone_parameters[\"experiment_name\"] = \"STANDALONE PTN\"\n",
    "standalone_parameters[\"lr\"] = 0.001\n",
    "standalone_parameters[\"device\"] = \"cuda\"\n",
    "\n",
    "standalone_parameters[\"seed\"] = 1337\n",
    "standalone_parameters[\"dataset_seed\"] = 1337\n",
    "\n",
    "standalone_parameters[\"n_way\"] = 8\n",
    "standalone_parameters[\"n_shot\"] = 3\n",
    "standalone_parameters[\"n_query\"]  = 2\n",
    "standalone_parameters[\"train_k_factor\"] = 1\n",
    "standalone_parameters[\"val_k_factor\"] = 2\n",
    "standalone_parameters[\"test_k_factor\"] = 2\n",
    "\n",
    "\n",
    "standalone_parameters[\"n_epoch\"] = 50\n",
    "\n",
    "standalone_parameters[\"patience\"] = 10\n",
    "standalone_parameters[\"criteria_for_best\"] = \"source_loss\"\n",
    "\n",
    "standalone_parameters[\"datasets\"] = [\n",
    "    {\n",
    "        \"labels\": ALL_SERIAL_NUMBERS,\n",
    "        \"domains\": ALL_DISTANCES_FEET_NARROWED,\n",
    "        \"num_examples_per_domain_per_label\": 100,\n",
    "        \"pickle_path\": os.path.join(get_datasets_base_path(), \"oracle.Run1_framed_2000Examples_stratified_ds.2022A.pkl\"),\n",
    "        \"source_or_target_dataset\": \"source\",\n",
    "        \"x_transforms\": [\"unit_mag\", \"minus_two\"],\n",
    "        \"episode_transforms\": [],\n",
    "        \"domain_prefix\": \"ORACLE_\"\n",
    "    },\n",
    "    {\n",
    "        \"labels\": ALL_NODES,\n",
    "        \"domains\": ALL_DAYS,\n",
    "        \"num_examples_per_domain_per_label\": 100,\n",
    "        \"pickle_path\": os.path.join(get_datasets_base_path(), \"cores.stratified_ds.2022A.pkl\"),\n",
    "        \"source_or_target_dataset\": \"target\",\n",
    "        \"x_transforms\": [\"unit_power\", \"times_zero\"],\n",
    "        \"episode_transforms\": [],\n",
    "        \"domain_prefix\": \"CORES_\"\n",
    "    }   \n",
    "]\n",
    "\n",
    "standalone_parameters[\"torch_default_dtype\"] = \"torch.float32\" \n",
    "\n",
    "\n",
    "\n",
    "standalone_parameters[\"x_net\"] =     [\n",
    "    {\"class\": \"nnReshape\", \"kargs\": {\"shape\":[-1, 1, 2, 256]}},\n",
    "    {\"class\": \"Conv2d\", \"kargs\": { \"in_channels\":1, \"out_channels\":256, \"kernel_size\":(1,7), \"bias\":False, \"padding\":(0,3), },},\n",
    "    {\"class\": \"ReLU\", \"kargs\": {\"inplace\": True}},\n",
    "    {\"class\": \"BatchNorm2d\", \"kargs\": {\"num_features\":256}},\n",
    "\n",
    "    {\"class\": \"Conv2d\", \"kargs\": { \"in_channels\":256, \"out_channels\":80, \"kernel_size\":(2,7), \"bias\":True, \"padding\":(0,3), },},\n",
    "    {\"class\": \"ReLU\", \"kargs\": {\"inplace\": True}},\n",
    "    {\"class\": \"BatchNorm2d\", \"kargs\": {\"num_features\":80}},\n",
    "    {\"class\": \"Flatten\", \"kargs\": {}},\n",
    "\n",
    "    {\"class\": \"Linear\", \"kargs\": {\"in_features\": 80*256, \"out_features\": 256}}, # 80 units per IQ pair\n",
    "    {\"class\": \"ReLU\", \"kargs\": {\"inplace\": True}},\n",
    "    {\"class\": \"BatchNorm1d\", \"kargs\": {\"num_features\":256}},\n",
    "\n",
    "    {\"class\": \"Linear\", \"kargs\": {\"in_features\": 256, \"out_features\": 256}},\n",
    "]\n",
    "\n",
    "# Parameters relevant to results\n",
    "# These parameters will basically never need to change\n",
    "standalone_parameters[\"NUM_LOGS_PER_EPOCH\"] = 10\n",
    "standalone_parameters[\"BEST_MODEL_PATH\"] = \"./best_model.pth\"\n",
    "\n",
    "\n",
    "\n",
    "\n"
   ]
  },
  {
   "cell_type": "code",
   "execution_count": 4,
   "id": "9fbf1b97",
   "metadata": {
    "execution": {
     "iopub.execute_input": "2022-03-07T08:57:55.690355Z",
     "iopub.status.busy": "2022-03-07T08:57:55.690060Z",
     "iopub.status.idle": "2022-03-07T08:57:55.700805Z",
     "shell.execute_reply": "2022-03-07T08:57:55.700416Z"
    },
    "papermill": {
     "duration": 0.03174,
     "end_time": "2022-03-07T08:57:55.700894",
     "exception": false,
     "start_time": "2022-03-07T08:57:55.669154",
     "status": "completed"
    },
    "tags": [
     "injected-parameters"
    ]
   },
   "outputs": [],
   "source": [
    "# Parameters\n",
    "parameters = {\n",
    "    \"experiment_name\": \"tl_1_cores-oracle.run1\",\n",
    "    \"device\": \"cuda\",\n",
    "    \"lr\": 0.001,\n",
    "    \"seed\": 1337,\n",
    "    \"dataset_seed\": 1337,\n",
    "    \"n_shot\": 3,\n",
    "    \"n_query\": 2,\n",
    "    \"train_k_factor\": 3,\n",
    "    \"val_k_factor\": 2,\n",
    "    \"test_k_factor\": 2,\n",
    "    \"torch_default_dtype\": \"torch.float32\",\n",
    "    \"n_epoch\": 50,\n",
    "    \"patience\": 3,\n",
    "    \"criteria_for_best\": \"target_loss\",\n",
    "    \"x_net\": [\n",
    "        {\"class\": \"nnReshape\", \"kargs\": {\"shape\": [-1, 1, 2, 256]}},\n",
    "        {\n",
    "            \"class\": \"Conv2d\",\n",
    "            \"kargs\": {\n",
    "                \"in_channels\": 1,\n",
    "                \"out_channels\": 256,\n",
    "                \"kernel_size\": [1, 7],\n",
    "                \"bias\": False,\n",
    "                \"padding\": [0, 3],\n",
    "            },\n",
    "        },\n",
    "        {\"class\": \"ReLU\", \"kargs\": {\"inplace\": True}},\n",
    "        {\"class\": \"BatchNorm2d\", \"kargs\": {\"num_features\": 256}},\n",
    "        {\n",
    "            \"class\": \"Conv2d\",\n",
    "            \"kargs\": {\n",
    "                \"in_channels\": 256,\n",
    "                \"out_channels\": 80,\n",
    "                \"kernel_size\": [2, 7],\n",
    "                \"bias\": True,\n",
    "                \"padding\": [0, 3],\n",
    "            },\n",
    "        },\n",
    "        {\"class\": \"ReLU\", \"kargs\": {\"inplace\": True}},\n",
    "        {\"class\": \"BatchNorm2d\", \"kargs\": {\"num_features\": 80}},\n",
    "        {\"class\": \"Flatten\", \"kargs\": {}},\n",
    "        {\"class\": \"Linear\", \"kargs\": {\"in_features\": 20480, \"out_features\": 256}},\n",
    "        {\"class\": \"ReLU\", \"kargs\": {\"inplace\": True}},\n",
    "        {\"class\": \"BatchNorm1d\", \"kargs\": {\"num_features\": 256}},\n",
    "        {\"class\": \"Linear\", \"kargs\": {\"in_features\": 256, \"out_features\": 256}},\n",
    "    ],\n",
    "    \"NUM_LOGS_PER_EPOCH\": 10,\n",
    "    \"BEST_MODEL_PATH\": \"./best_model.pth\",\n",
    "    \"n_way\": 16,\n",
    "    \"datasets\": [\n",
    "        {\n",
    "            \"labels\": [\n",
    "                \"1-10.\",\n",
    "                \"1-11.\",\n",
    "                \"1-15.\",\n",
    "                \"1-16.\",\n",
    "                \"1-17.\",\n",
    "                \"1-18.\",\n",
    "                \"1-19.\",\n",
    "                \"10-4.\",\n",
    "                \"10-7.\",\n",
    "                \"11-1.\",\n",
    "                \"11-14.\",\n",
    "                \"11-17.\",\n",
    "                \"11-20.\",\n",
    "                \"11-7.\",\n",
    "                \"13-20.\",\n",
    "                \"13-8.\",\n",
    "                \"14-10.\",\n",
    "                \"14-11.\",\n",
    "                \"14-14.\",\n",
    "                \"14-7.\",\n",
    "                \"15-1.\",\n",
    "                \"15-20.\",\n",
    "                \"16-1.\",\n",
    "                \"16-16.\",\n",
    "                \"17-10.\",\n",
    "                \"17-11.\",\n",
    "                \"17-2.\",\n",
    "                \"19-1.\",\n",
    "                \"19-16.\",\n",
    "                \"19-19.\",\n",
    "                \"19-20.\",\n",
    "                \"19-3.\",\n",
    "                \"2-10.\",\n",
    "                \"2-11.\",\n",
    "                \"2-17.\",\n",
    "                \"2-18.\",\n",
    "                \"2-20.\",\n",
    "                \"2-3.\",\n",
    "                \"2-4.\",\n",
    "                \"2-5.\",\n",
    "                \"2-6.\",\n",
    "                \"2-7.\",\n",
    "                \"2-8.\",\n",
    "                \"3-13.\",\n",
    "                \"3-18.\",\n",
    "                \"3-3.\",\n",
    "                \"4-1.\",\n",
    "                \"4-10.\",\n",
    "                \"4-11.\",\n",
    "                \"4-19.\",\n",
    "                \"5-5.\",\n",
    "                \"6-15.\",\n",
    "                \"7-10.\",\n",
    "                \"7-14.\",\n",
    "                \"8-18.\",\n",
    "                \"8-20.\",\n",
    "                \"8-3.\",\n",
    "                \"8-8.\",\n",
    "            ],\n",
    "            \"domains\": [1, 2, 3, 4, 5],\n",
    "            \"num_examples_per_domain_per_label\": 100,\n",
    "            \"pickle_path\": \"/mnt/wd500GB/CSC500/csc500-main/datasets/cores.stratified_ds.2022A.pkl\",\n",
    "            \"source_or_target_dataset\": \"target\",\n",
    "            \"x_transforms\": [\"unit_power\"],\n",
    "            \"episode_transforms\": [],\n",
    "            \"domain_prefix\": \"CORES_\",\n",
    "        },\n",
    "        {\n",
    "            \"labels\": [\n",
    "                \"3123D52\",\n",
    "                \"3123D65\",\n",
    "                \"3123D79\",\n",
    "                \"3123D80\",\n",
    "                \"3123D54\",\n",
    "                \"3123D70\",\n",
    "                \"3123D7B\",\n",
    "                \"3123D89\",\n",
    "                \"3123D58\",\n",
    "                \"3123D76\",\n",
    "                \"3123D7D\",\n",
    "                \"3123EFE\",\n",
    "                \"3123D64\",\n",
    "                \"3123D78\",\n",
    "                \"3123D7E\",\n",
    "                \"3124E4A\",\n",
    "            ],\n",
    "            \"domains\": [32, 38, 8, 44, 14, 50, 20, 26],\n",
    "            \"num_examples_per_domain_per_label\": 2000,\n",
    "            \"pickle_path\": \"/mnt/wd500GB/CSC500/csc500-main/datasets/oracle.Run1_framed_2000Examples_stratified_ds.2022A.pkl\",\n",
    "            \"source_or_target_dataset\": \"source\",\n",
    "            \"x_transforms\": [\"unit_power\"],\n",
    "            \"episode_transforms\": [],\n",
    "            \"domain_prefix\": \"ORACLE.run1_\",\n",
    "        },\n",
    "    ],\n",
    "}\n"
   ]
  },
  {
   "cell_type": "code",
   "execution_count": 5,
   "id": "8fa1cc33",
   "metadata": {
    "execution": {
     "iopub.execute_input": "2022-03-07T08:57:55.734776Z",
     "iopub.status.busy": "2022-03-07T08:57:55.734513Z",
     "iopub.status.idle": "2022-03-07T08:57:55.747668Z",
     "shell.execute_reply": "2022-03-07T08:57:55.748038Z"
    },
    "papermill": {
     "duration": 0.029589,
     "end_time": "2022-03-07T08:57:55.748141",
     "exception": false,
     "start_time": "2022-03-07T08:57:55.718552",
     "status": "completed"
    },
    "tags": []
   },
   "outputs": [],
   "source": [
    "# Set this to True if you want to run this template directly\n",
    "STANDALONE = False\n",
    "if STANDALONE:\n",
    "    print(\"parameters not injected, running with standalone_parameters\")\n",
    "    parameters = standalone_parameters\n",
    "\n",
    "if not 'parameters' in locals() and not 'parameters' in globals():\n",
    "    raise Exception(\"Parameter injection failed\")\n",
    "\n",
    "#Use an easy dict for all the parameters\n",
    "p = EasyDict(parameters)\n",
    "\n",
    "supplied_keys = set(p.keys())\n",
    "\n",
    "if  supplied_keys != required_parameters:\n",
    "    print(\"Parameters are incorrect\")\n",
    "    if len(supplied_keys - required_parameters)>0: print(\"Shouldn't have:\", str(supplied_keys - required_parameters))\n",
    "    if len(required_parameters - supplied_keys)>0: print(\"Need to have:\", str(required_parameters - supplied_keys))\n",
    "    raise RuntimeError(\"Parameters are incorrect\")\n",
    "\n"
   ]
  },
  {
   "cell_type": "code",
   "execution_count": 6,
   "id": "3a028d58",
   "metadata": {
    "execution": {
     "iopub.execute_input": "2022-03-07T08:57:55.780987Z",
     "iopub.status.busy": "2022-03-07T08:57:55.780737Z",
     "iopub.status.idle": "2022-03-07T08:57:55.792549Z",
     "shell.execute_reply": "2022-03-07T08:57:55.792333Z"
    },
    "papermill": {
     "duration": 0.02653,
     "end_time": "2022-03-07T08:57:55.792598",
     "exception": false,
     "start_time": "2022-03-07T08:57:55.766068",
     "status": "completed"
    },
    "tags": []
   },
   "outputs": [],
   "source": [
    "###################################\n",
    "# Set the RNGs and make it all deterministic\n",
    "###################################\n",
    "np.random.seed(p.seed)\n",
    "random.seed(p.seed)\n",
    "torch.manual_seed(p.seed)\n",
    "\n",
    "torch.use_deterministic_algorithms(True) "
   ]
  },
  {
   "cell_type": "code",
   "execution_count": 7,
   "id": "b691acf6",
   "metadata": {
    "execution": {
     "iopub.execute_input": "2022-03-07T08:57:55.824436Z",
     "iopub.status.busy": "2022-03-07T08:57:55.824188Z",
     "iopub.status.idle": "2022-03-07T08:57:55.837602Z",
     "shell.execute_reply": "2022-03-07T08:57:55.837153Z"
    },
    "papermill": {
     "duration": 0.027921,
     "end_time": "2022-03-07T08:57:55.837691",
     "exception": false,
     "start_time": "2022-03-07T08:57:55.809770",
     "status": "completed"
    },
    "tags": []
   },
   "outputs": [],
   "source": [
    "###########################################\n",
    "# The stratified datasets honor this\n",
    "###########################################\n",
    "torch.set_default_dtype(eval(p.torch_default_dtype))"
   ]
  },
  {
   "cell_type": "code",
   "execution_count": 8,
   "id": "b5fba671",
   "metadata": {
    "execution": {
     "iopub.execute_input": "2022-03-07T08:57:55.869362Z",
     "iopub.status.busy": "2022-03-07T08:57:55.869112Z",
     "iopub.status.idle": "2022-03-07T08:57:55.908429Z",
     "shell.execute_reply": "2022-03-07T08:57:55.907982Z"
    },
    "papermill": {
     "duration": 0.053944,
     "end_time": "2022-03-07T08:57:55.908518",
     "exception": false,
     "start_time": "2022-03-07T08:57:55.854574",
     "status": "completed"
    },
    "tags": []
   },
   "outputs": [],
   "source": [
    "###################################\n",
    "# Build the network(s)\n",
    "# Note: It's critical to do this AFTER setting the RNG\n",
    "###################################\n",
    "x_net = build_sequential(p.x_net)"
   ]
  },
  {
   "cell_type": "code",
   "execution_count": 9,
   "id": "5d7e61cc",
   "metadata": {
    "execution": {
     "iopub.execute_input": "2022-03-07T08:57:55.941515Z",
     "iopub.status.busy": "2022-03-07T08:57:55.941265Z",
     "iopub.status.idle": "2022-03-07T08:57:55.954792Z",
     "shell.execute_reply": "2022-03-07T08:57:55.954370Z"
    },
    "papermill": {
     "duration": 0.028513,
     "end_time": "2022-03-07T08:57:55.954883",
     "exception": false,
     "start_time": "2022-03-07T08:57:55.926370",
     "status": "completed"
    },
    "tags": []
   },
   "outputs": [],
   "source": [
    "start_time_secs = time.time()"
   ]
  },
  {
   "cell_type": "code",
   "execution_count": 10,
   "id": "c6b67dfd",
   "metadata": {
    "execution": {
     "iopub.execute_input": "2022-03-07T08:57:55.988614Z",
     "iopub.status.busy": "2022-03-07T08:57:55.988360Z",
     "iopub.status.idle": "2022-03-07T08:57:56.001934Z",
     "shell.execute_reply": "2022-03-07T08:57:56.001546Z"
    },
    "papermill": {
     "duration": 0.028673,
     "end_time": "2022-03-07T08:57:56.002022",
     "exception": false,
     "start_time": "2022-03-07T08:57:55.973349",
     "status": "completed"
    },
    "tags": []
   },
   "outputs": [],
   "source": [
    "p.domains_source = []\n",
    "p.domains_target = []\n",
    "\n",
    "\n",
    "train_original_source = []\n",
    "val_original_source   = []\n",
    "test_original_source  = []\n",
    "\n",
    "train_original_target = []\n",
    "val_original_target   = []\n",
    "test_original_target  = []"
   ]
  },
  {
   "cell_type": "code",
   "execution_count": 11,
   "id": "e3d9c3d3",
   "metadata": {
    "execution": {
     "iopub.execute_input": "2022-03-07T08:57:56.033758Z",
     "iopub.status.busy": "2022-03-07T08:57:56.033464Z",
     "iopub.status.idle": "2022-03-07T08:57:56.041553Z",
     "shell.execute_reply": "2022-03-07T08:57:56.041246Z"
    },
    "papermill": {
     "duration": 0.022454,
     "end_time": "2022-03-07T08:57:56.041623",
     "exception": false,
     "start_time": "2022-03-07T08:57:56.019169",
     "status": "completed"
    },
    "tags": []
   },
   "outputs": [],
   "source": [
    "# global_x_transform_func = lambda x: normalize(x.to(torch.get_default_dtype()), \"unit_power\") # unit_power, unit_mag\n",
    "# global_x_transform_func = lambda x: normalize(x, \"unit_power\") # unit_power, unit_mag"
   ]
  },
  {
   "cell_type": "code",
   "execution_count": 12,
   "id": "acb78fd2",
   "metadata": {
    "execution": {
     "iopub.execute_input": "2022-03-07T08:57:56.077494Z",
     "iopub.status.busy": "2022-03-07T08:57:56.077205Z",
     "iopub.status.idle": "2022-03-07T08:57:56.087681Z",
     "shell.execute_reply": "2022-03-07T08:57:56.087236Z"
    },
    "papermill": {
     "duration": 0.03023,
     "end_time": "2022-03-07T08:57:56.087770",
     "exception": false,
     "start_time": "2022-03-07T08:57:56.057540",
     "status": "completed"
    },
    "tags": []
   },
   "outputs": [],
   "source": [
    "def add_dataset(\n",
    "    labels,\n",
    "    domains,\n",
    "    pickle_path,\n",
    "    x_transforms,\n",
    "    episode_transforms,\n",
    "    domain_prefix,\n",
    "    num_examples_per_domain_per_label,\n",
    "    source_or_target_dataset:str,\n",
    "    iterator_seed=p.seed,\n",
    "    dataset_seed=p.dataset_seed,\n",
    "    n_shot=p.n_shot,\n",
    "    n_way=p.n_way,\n",
    "    n_query=p.n_query,\n",
    "    train_val_test_k_factors=(p.train_k_factor,p.val_k_factor,p.test_k_factor),\n",
    "):\n",
    "   \n",
    "    if x_transforms == []: x_transform = None\n",
    "    else: x_transform = get_chained_transform(x_transforms)\n",
    "    \n",
    "    if episode_transforms == []: episode_transform = None\n",
    "    else: raise Exception(\"episode_transforms not implemented\")\n",
    "    \n",
    "    episode_transform = lambda tup, _prefix=domain_prefix: (_prefix + str(tup[0]), tup[1])\n",
    "\n",
    "\n",
    "    eaf = Episodic_Accessor_Factory(\n",
    "        labels=labels,\n",
    "        domains=domains,\n",
    "        num_examples_per_domain_per_label=num_examples_per_domain_per_label,\n",
    "        iterator_seed=iterator_seed,\n",
    "        dataset_seed=dataset_seed,\n",
    "        n_shot=n_shot,\n",
    "        n_way=n_way,\n",
    "        n_query=n_query,\n",
    "        train_val_test_k_factors=train_val_test_k_factors,\n",
    "        pickle_path=pickle_path,\n",
    "        x_transform_func=x_transform,\n",
    "    )\n",
    "\n",
    "    train, val, test = eaf.get_train(), eaf.get_val(), eaf.get_test()\n",
    "    train = Lazy_Iterable_Wrapper(train, episode_transform)\n",
    "    val = Lazy_Iterable_Wrapper(val, episode_transform)\n",
    "    test = Lazy_Iterable_Wrapper(test, episode_transform)\n",
    "\n",
    "    if source_or_target_dataset==\"source\":\n",
    "        train_original_source.append(train)\n",
    "        val_original_source.append(val)\n",
    "        test_original_source.append(test)\n",
    "\n",
    "        p.domains_source.extend(\n",
    "            [domain_prefix + str(u) for u in domains]\n",
    "        )\n",
    "    elif source_or_target_dataset==\"target\":\n",
    "        train_original_target.append(train)\n",
    "        val_original_target.append(val)\n",
    "        test_original_target.append(test)\n",
    "        p.domains_target.extend(\n",
    "            [domain_prefix + str(u) for u in domains]\n",
    "        )\n",
    "    else:\n",
    "        raise Exception(f\"invalid source_or_target_dataset: {source_or_target_dataset}\")\n",
    "    "
   ]
  },
  {
   "cell_type": "code",
   "execution_count": 13,
   "id": "fe266617",
   "metadata": {
    "execution": {
     "iopub.execute_input": "2022-03-07T08:57:56.121539Z",
     "iopub.status.busy": "2022-03-07T08:57:56.121291Z",
     "iopub.status.idle": "2022-03-07T08:58:14.307143Z",
     "shell.execute_reply": "2022-03-07T08:58:14.306679Z"
    },
    "papermill": {
     "duration": 18.201034,
     "end_time": "2022-03-07T08:58:14.307247",
     "exception": false,
     "start_time": "2022-03-07T08:57:56.106213",
     "status": "completed"
    },
    "tags": []
   },
   "outputs": [],
   "source": [
    "for ds in p.datasets:\n",
    "    add_dataset(**ds)"
   ]
  },
  {
   "cell_type": "code",
   "execution_count": 14,
   "id": "b90d65ac",
   "metadata": {
    "execution": {
     "iopub.execute_input": "2022-03-07T08:58:14.341941Z",
     "iopub.status.busy": "2022-03-07T08:58:14.341682Z",
     "iopub.status.idle": "2022-03-07T08:58:14.354153Z",
     "shell.execute_reply": "2022-03-07T08:58:14.353799Z"
    },
    "papermill": {
     "duration": 0.027761,
     "end_time": "2022-03-07T08:58:14.354224",
     "exception": false,
     "start_time": "2022-03-07T08:58:14.326463",
     "status": "completed"
    },
    "tags": []
   },
   "outputs": [],
   "source": [
    "# from steves_utils.CORES.utils import (\n",
    "#     ALL_NODES,\n",
    "#     ALL_NODES_MINIMUM_1000_EXAMPLES,\n",
    "#     ALL_DAYS\n",
    "# )\n",
    "\n",
    "# add_dataset(\n",
    "#     labels=ALL_NODES,\n",
    "#     domains = ALL_DAYS,\n",
    "#     num_examples_per_domain_per_label=100,\n",
    "#     pickle_path=os.path.join(get_datasets_base_path(), \"cores.stratified_ds.2022A.pkl\"),\n",
    "#     source_or_target_dataset=\"target\",\n",
    "#     x_transform_func=global_x_transform_func,\n",
    "#     domain_modifier=lambda u: f\"cores_{u}\"\n",
    "# )"
   ]
  },
  {
   "cell_type": "code",
   "execution_count": 15,
   "id": "76db484d",
   "metadata": {
    "execution": {
     "iopub.execute_input": "2022-03-07T08:58:14.387262Z",
     "iopub.status.busy": "2022-03-07T08:58:14.387007Z",
     "iopub.status.idle": "2022-03-07T08:58:14.395432Z",
     "shell.execute_reply": "2022-03-07T08:58:14.395081Z"
    },
    "papermill": {
     "duration": 0.022865,
     "end_time": "2022-03-07T08:58:14.395502",
     "exception": false,
     "start_time": "2022-03-07T08:58:14.372637",
     "status": "completed"
    },
    "tags": []
   },
   "outputs": [],
   "source": [
    "# from steves_utils.ORACLE.utils_v2 import (\n",
    "#     ALL_DISTANCES_FEET,\n",
    "#     ALL_RUNS,\n",
    "#     ALL_SERIAL_NUMBERS,\n",
    "# )\n",
    "\n",
    "\n",
    "# add_dataset(\n",
    "#     labels=ALL_SERIAL_NUMBERS,\n",
    "#     domains = list(set(ALL_DISTANCES_FEET) - {2,62}),\n",
    "#     num_examples_per_domain_per_label=100,\n",
    "#     pickle_path=os.path.join(get_datasets_base_path(), \"oracle.Run2_framed_2000Examples_stratified_ds.2022A.pkl\"),\n",
    "#     source_or_target_dataset=\"source\",\n",
    "#     x_transform_func=global_x_transform_func,\n",
    "#     domain_modifier=lambda u: f\"oracle1_{u}\"\n",
    "# )\n"
   ]
  },
  {
   "cell_type": "code",
   "execution_count": 16,
   "id": "97dea9d2",
   "metadata": {
    "execution": {
     "iopub.execute_input": "2022-03-07T08:58:14.428635Z",
     "iopub.status.busy": "2022-03-07T08:58:14.428357Z",
     "iopub.status.idle": "2022-03-07T08:58:14.441200Z",
     "shell.execute_reply": "2022-03-07T08:58:14.440950Z"
    },
    "papermill": {
     "duration": 0.027917,
     "end_time": "2022-03-07T08:58:14.441249",
     "exception": false,
     "start_time": "2022-03-07T08:58:14.413332",
     "status": "completed"
    },
    "tags": []
   },
   "outputs": [],
   "source": [
    "# from steves_utils.ORACLE.utils_v2 import (\n",
    "#     ALL_DISTANCES_FEET,\n",
    "#     ALL_RUNS,\n",
    "#     ALL_SERIAL_NUMBERS,\n",
    "# )\n",
    "\n",
    "\n",
    "# add_dataset(\n",
    "#     labels=ALL_SERIAL_NUMBERS,\n",
    "#     domains = list(set(ALL_DISTANCES_FEET) - {2,62,56}),\n",
    "#     num_examples_per_domain_per_label=100,\n",
    "#     pickle_path=os.path.join(get_datasets_base_path(), \"oracle.Run2_framed_2000Examples_stratified_ds.2022A.pkl\"),\n",
    "#     source_or_target_dataset=\"source\",\n",
    "#     x_transform_func=global_x_transform_func,\n",
    "#     domain_modifier=lambda u: f\"oracle2_{u}\"\n",
    "# )"
   ]
  },
  {
   "cell_type": "code",
   "execution_count": 17,
   "id": "6f289866",
   "metadata": {
    "execution": {
     "iopub.execute_input": "2022-03-07T08:58:14.472137Z",
     "iopub.status.busy": "2022-03-07T08:58:14.471884Z",
     "iopub.status.idle": "2022-03-07T08:58:14.481430Z",
     "shell.execute_reply": "2022-03-07T08:58:14.481216Z"
    },
    "papermill": {
     "duration": 0.024502,
     "end_time": "2022-03-07T08:58:14.481479",
     "exception": false,
     "start_time": "2022-03-07T08:58:14.456977",
     "status": "completed"
    },
    "tags": []
   },
   "outputs": [],
   "source": [
    "# add_dataset(\n",
    "#     labels=list(range(19)),\n",
    "#     domains = [0,1,2],\n",
    "#     num_examples_per_domain_per_label=100,\n",
    "#     pickle_path=os.path.join(get_datasets_base_path(), \"metehan.stratified_ds.2022A.pkl\"),\n",
    "#     source_or_target_dataset=\"target\",\n",
    "#     x_transform_func=global_x_transform_func,\n",
    "#     domain_modifier=lambda u: f\"met_{u}\"\n",
    "# )"
   ]
  },
  {
   "cell_type": "code",
   "execution_count": 18,
   "id": "86a863c3",
   "metadata": {
    "execution": {
     "iopub.execute_input": "2022-03-07T08:58:14.512066Z",
     "iopub.status.busy": "2022-03-07T08:58:14.511815Z",
     "iopub.status.idle": "2022-03-07T08:58:14.520052Z",
     "shell.execute_reply": "2022-03-07T08:58:14.519806Z"
    },
    "papermill": {
     "duration": 0.02299,
     "end_time": "2022-03-07T08:58:14.520102",
     "exception": false,
     "start_time": "2022-03-07T08:58:14.497112",
     "status": "completed"
    },
    "tags": []
   },
   "outputs": [],
   "source": [
    "# # from steves_utils.wisig.utils import (\n",
    "# #     ALL_NODES_MINIMUM_100_EXAMPLES,\n",
    "# #     ALL_NODES_MINIMUM_500_EXAMPLES,\n",
    "# #     ALL_NODES_MINIMUM_1000_EXAMPLES,\n",
    "# #     ALL_DAYS\n",
    "# # )\n",
    "\n",
    "# import steves_utils.wisig.utils as wisig\n",
    "\n",
    "\n",
    "# add_dataset(\n",
    "#     labels=wisig.ALL_NODES_MINIMUM_100_EXAMPLES,\n",
    "#     domains = wisig.ALL_DAYS,\n",
    "#     num_examples_per_domain_per_label=100,\n",
    "#     pickle_path=os.path.join(get_datasets_base_path(), \"wisig.node3-19.stratified_ds.2022A.pkl\"),\n",
    "#     source_or_target_dataset=\"target\",\n",
    "#     x_transform_func=global_x_transform_func,\n",
    "#     domain_modifier=lambda u: f\"wisig_{u}\"\n",
    "# )"
   ]
  },
  {
   "cell_type": "code",
   "execution_count": 19,
   "id": "fd5442bc",
   "metadata": {
    "execution": {
     "iopub.execute_input": "2022-03-07T08:58:14.552456Z",
     "iopub.status.busy": "2022-03-07T08:58:14.552183Z",
     "iopub.status.idle": "2022-03-07T08:58:14.561504Z",
     "shell.execute_reply": "2022-03-07T08:58:14.561255Z"
    },
    "papermill": {
     "duration": 0.025736,
     "end_time": "2022-03-07T08:58:14.561553",
     "exception": false,
     "start_time": "2022-03-07T08:58:14.535817",
     "status": "completed"
    },
    "tags": []
   },
   "outputs": [],
   "source": [
    "###################################\n",
    "# Build the dataset\n",
    "###################################\n",
    "train_original_source = Iterable_Aggregator(train_original_source, p.seed)\n",
    "val_original_source = Iterable_Aggregator(val_original_source, p.seed)\n",
    "test_original_source = Iterable_Aggregator(test_original_source, p.seed)\n",
    "\n",
    "\n",
    "train_original_target = Iterable_Aggregator(train_original_target, p.seed)\n",
    "val_original_target = Iterable_Aggregator(val_original_target, p.seed)\n",
    "test_original_target = Iterable_Aggregator(test_original_target, p.seed)\n",
    "\n",
    "# For CNN We only use X and Y. And we only train on the source.\n",
    "# Properly form the data using a transform lambda and Lazy_Iterable_Wrapper. Finally wrap them in a dataloader\n",
    "\n",
    "transform_lambda = lambda ex: ex[1] # Original is (<domain>, <episode>) so we strip down to episode only\n",
    "\n",
    "train_processed_source = Lazy_Iterable_Wrapper(train_original_source, transform_lambda)\n",
    "val_processed_source   = Lazy_Iterable_Wrapper(val_original_source, transform_lambda)\n",
    "test_processed_source  = Lazy_Iterable_Wrapper(test_original_source, transform_lambda)\n",
    "\n",
    "train_processed_target = Lazy_Iterable_Wrapper(train_original_target, transform_lambda)\n",
    "val_processed_target   = Lazy_Iterable_Wrapper(val_original_target, transform_lambda)\n",
    "test_processed_target  = Lazy_Iterable_Wrapper(test_original_target, transform_lambda)\n",
    "\n",
    "datasets = EasyDict({\n",
    "    \"source\": {\n",
    "        \"original\": {\"train\":train_original_source, \"val\":val_original_source, \"test\":test_original_source},\n",
    "        \"processed\": {\"train\":train_processed_source, \"val\":val_processed_source, \"test\":test_processed_source}\n",
    "    },\n",
    "    \"target\": {\n",
    "        \"original\": {\"train\":train_original_target, \"val\":val_original_target, \"test\":test_original_target},\n",
    "        \"processed\": {\"train\":train_processed_target, \"val\":val_processed_target, \"test\":test_processed_target}\n",
    "    },\n",
    "})"
   ]
  },
  {
   "cell_type": "code",
   "execution_count": 20,
   "id": "5b3c01fc",
   "metadata": {
    "execution": {
     "iopub.execute_input": "2022-03-07T08:58:14.593266Z",
     "iopub.status.busy": "2022-03-07T08:58:14.593012Z",
     "iopub.status.idle": "2022-03-07T08:58:19.025077Z",
     "shell.execute_reply": "2022-03-07T08:58:19.025613Z"
    },
    "papermill": {
     "duration": 4.448154,
     "end_time": "2022-03-07T08:58:19.025761",
     "exception": false,
     "start_time": "2022-03-07T08:58:14.577607",
     "status": "completed"
    },
    "tags": []
   },
   "outputs": [
    {
     "name": "stdout",
     "output_type": "stream",
     "text": [
      "{'ORACLE.run1_20', 'ORACLE.run1_8', 'ORACLE.run1_44', 'ORACLE.run1_14', 'ORACLE.run1_50', 'ORACLE.run1_26', 'ORACLE.run1_32', 'ORACLE.run1_38'}\n"
     ]
    },
    {
     "name": "stdout",
     "output_type": "stream",
     "text": [
      "{'CORES_2', 'CORES_4', 'CORES_5', 'CORES_3', 'CORES_1'}\n"
     ]
    },
    {
     "name": "stdout",
     "output_type": "stream",
     "text": [
      "tensor([[[-0.0924,  1.1552, -0.1109,  ..., -0.9518, -0.2588, -0.5545],\n",
      "         [-0.6376, -0.2957,  1.0535,  ...,  0.2403, -1.4139, -0.4713]],\n",
      "\n",
      "        [[-0.4449,  0.6767,  0.5469,  ..., -1.2421, -1.1679, -0.1112],\n",
      "         [-1.1216, -0.3152,  1.1030,  ...,  0.4078, -0.1483,  1.2050]],\n",
      "\n",
      "        [[ 0.6507, -0.3532, -0.7623,  ...,  0.7901,  1.3665,  0.3254],\n",
      "         [ 0.8273,  0.6786, -0.8831,  ..., -0.7530,  0.4648, -1.1527]],\n",
      "\n",
      "        ...,\n",
      "\n",
      "        [[ 0.9828, -0.2394, -1.1718,  ...,  0.6363,  0.9828, -0.6489],\n",
      "         [ 0.5544,  0.7119, -0.3717,  ..., -0.9702, -0.6111, -1.1214]],\n",
      "\n",
      "        [[ 0.0252, -0.9847,  0.2840,  ...,  0.8963,  0.4671,  1.0667],\n",
      "         [ 0.7890,  0.4229, -1.1298,  ..., -0.1199,  1.2624, -0.2272]],\n",
      "\n",
      "        [[ 0.4796,  0.3281, -0.7194,  ..., -0.4544,  1.2306,  1.0223],\n",
      "         [-0.4102,  1.1043, -0.0316,  ..., -1.0728, -0.0568, -0.2461]]])\n"
     ]
    }
   ],
   "source": [
    "from steves_utils.transforms import get_average_magnitude, get_average_power\n",
    "\n",
    "print(set([u for u,_ in val_original_source]))\n",
    "print(set([u for u,_ in val_original_target]))\n",
    "\n",
    "s_x, s_y, q_x, q_y, _ = next(iter(train_processed_source))\n",
    "print(s_x)\n",
    "\n",
    "# for ds in [\n",
    "#     train_processed_source,\n",
    "#     val_processed_source,\n",
    "#     test_processed_source,\n",
    "#     train_processed_target,\n",
    "#     val_processed_target,\n",
    "#     test_processed_target\n",
    "# ]:\n",
    "#     for s_x, s_y, q_x, q_y, _ in ds:\n",
    "#         for X in (s_x, q_x):\n",
    "#             for x in X:\n",
    "#                 assert np.isclose(get_average_magnitude(x.numpy()), 1.0)\n",
    "#                 assert np.isclose(get_average_power(x.numpy()), 1.0)\n",
    "                "
   ]
  },
  {
   "cell_type": "code",
   "execution_count": 21,
   "id": "bbdacba1",
   "metadata": {
    "execution": {
     "iopub.execute_input": "2022-03-07T08:58:19.063193Z",
     "iopub.status.busy": "2022-03-07T08:58:19.062063Z",
     "iopub.status.idle": "2022-03-07T08:58:19.121949Z",
     "shell.execute_reply": "2022-03-07T08:58:19.122331Z"
    },
    "papermill": {
     "duration": 0.076765,
     "end_time": "2022-03-07T08:58:19.122448",
     "exception": false,
     "start_time": "2022-03-07T08:58:19.045683",
     "status": "completed"
    },
    "tags": []
   },
   "outputs": [
    {
     "name": "stdout",
     "output_type": "stream",
     "text": [
      "(2, 256)\n"
     ]
    }
   ],
   "source": [
    "###################################\n",
    "# Build the model\n",
    "###################################\n",
    "model = Steves_Prototypical_Network(x_net, device=p.device, x_shape=(2,256))\n",
    "optimizer = Adam(params=model.parameters(), lr=p.lr)"
   ]
  },
  {
   "cell_type": "code",
   "execution_count": 22,
   "id": "22b39ac5",
   "metadata": {
    "execution": {
     "iopub.execute_input": "2022-03-07T08:58:19.160409Z",
     "iopub.status.busy": "2022-03-07T08:58:19.160153Z",
     "iopub.status.idle": "2022-03-07T09:28:26.750817Z",
     "shell.execute_reply": "2022-03-07T09:28:26.750577Z"
    },
    "papermill": {
     "duration": 1807.607973,
     "end_time": "2022-03-07T09:28:26.750876",
     "exception": false,
     "start_time": "2022-03-07T08:58:19.142903",
     "status": "completed"
    },
    "tags": []
   },
   "outputs": [
    {
     "name": "stdout",
     "output_type": "stream",
     "text": [
      "epoch: 1, [batch: 1 / 6720], examples_per_second: 47.7325, train_label_loss: 3.1675, \n"
     ]
    },
    {
     "name": "stdout",
     "output_type": "stream",
     "text": [
      "epoch: 1, [batch: 672 / 6720], examples_per_second: 3161.2978, train_label_loss: 1.4065, \n"
     ]
    },
    {
     "name": "stdout",
     "output_type": "stream",
     "text": [
      "epoch: 1, [batch: 1344 / 6720], examples_per_second: 3157.0920, train_label_loss: 0.7499, \n"
     ]
    },
    {
     "name": "stdout",
     "output_type": "stream",
     "text": [
      "epoch: 1, [batch: 2016 / 6720], examples_per_second: 3160.4766, train_label_loss: 0.7491, \n"
     ]
    },
    {
     "name": "stdout",
     "output_type": "stream",
     "text": [
      "epoch: 1, [batch: 2688 / 6720], examples_per_second: 3145.9734, train_label_loss: 0.9575, \n"
     ]
    },
    {
     "name": "stdout",
     "output_type": "stream",
     "text": [
      "epoch: 1, [batch: 3360 / 6720], examples_per_second: 3146.1457, train_label_loss: 0.8728, \n"
     ]
    },
    {
     "name": "stdout",
     "output_type": "stream",
     "text": [
      "epoch: 1, [batch: 4032 / 6720], examples_per_second: 3155.0401, train_label_loss: 0.7361, \n"
     ]
    },
    {
     "name": "stdout",
     "output_type": "stream",
     "text": [
      "epoch: 1, [batch: 4704 / 6720], examples_per_second: 3142.1492, train_label_loss: 0.4696, \n"
     ]
    },
    {
     "name": "stdout",
     "output_type": "stream",
     "text": [
      "epoch: 1, [batch: 5376 / 6720], examples_per_second: 3127.9338, train_label_loss: 0.8406, \n"
     ]
    },
    {
     "name": "stdout",
     "output_type": "stream",
     "text": [
      "epoch: 1, [batch: 6048 / 6720], examples_per_second: 3127.7144, train_label_loss: 0.5711, \n"
     ]
    },
    {
     "name": "stdout",
     "output_type": "stream",
     "text": [
      "=============================================================\n",
      "epoch: 1, source_val_acc_label: 0.6142, target_val_acc_label: 0.6616, source_val_label_loss: 24.2043, target_val_label_loss: 206.0451, \n",
      "=============================================================\n"
     ]
    },
    {
     "name": "stdout",
     "output_type": "stream",
     "text": [
      "New best\n"
     ]
    },
    {
     "name": "stdout",
     "output_type": "stream",
     "text": [
      "epoch: 2, [batch: 1 / 6720], examples_per_second: 5.7064, train_label_loss: 20.7856, \n"
     ]
    },
    {
     "name": "stdout",
     "output_type": "stream",
     "text": [
      "epoch: 2, [batch: 672 / 6720], examples_per_second: 3139.3764, train_label_loss: 0.4383, \n"
     ]
    },
    {
     "name": "stdout",
     "output_type": "stream",
     "text": [
      "epoch: 2, [batch: 1344 / 6720], examples_per_second: 3153.7624, train_label_loss: 0.3769, \n"
     ]
    },
    {
     "name": "stdout",
     "output_type": "stream",
     "text": [
      "epoch: 2, [batch: 2016 / 6720], examples_per_second: 3159.0003, train_label_loss: 1.0877, \n"
     ]
    },
    {
     "name": "stdout",
     "output_type": "stream",
     "text": [
      "epoch: 2, [batch: 2688 / 6720], examples_per_second: 3159.2169, train_label_loss: 0.8993, \n"
     ]
    },
    {
     "name": "stdout",
     "output_type": "stream",
     "text": [
      "epoch: 2, [batch: 3360 / 6720], examples_per_second: 3167.3321, train_label_loss: 0.4903, \n"
     ]
    },
    {
     "name": "stdout",
     "output_type": "stream",
     "text": [
      "epoch: 2, [batch: 4032 / 6720], examples_per_second: 3168.0095, train_label_loss: 1.0150, \n"
     ]
    },
    {
     "name": "stdout",
     "output_type": "stream",
     "text": [
      "epoch: 2, [batch: 4704 / 6720], examples_per_second: 3155.7217, train_label_loss: 0.6799, \n"
     ]
    },
    {
     "name": "stdout",
     "output_type": "stream",
     "text": [
      "epoch: 2, [batch: 5376 / 6720], examples_per_second: 3156.7660, train_label_loss: 0.6678, \n"
     ]
    },
    {
     "name": "stdout",
     "output_type": "stream",
     "text": [
      "epoch: 2, [batch: 6048 / 6720], examples_per_second: 3179.8653, train_label_loss: 0.3942, \n"
     ]
    },
    {
     "name": "stdout",
     "output_type": "stream",
     "text": [
      "=============================================================\n",
      "epoch: 2, source_val_acc_label: 0.7860, target_val_acc_label: 0.7994, source_val_label_loss: 0.5960, target_val_label_loss: 4.3996, \n",
      "=============================================================\n"
     ]
    },
    {
     "name": "stdout",
     "output_type": "stream",
     "text": [
      "New best\n"
     ]
    },
    {
     "name": "stdout",
     "output_type": "stream",
     "text": [
      "epoch: 3, [batch: 1 / 6720], examples_per_second: 5.7719, train_label_loss: 0.7477, \n"
     ]
    },
    {
     "name": "stdout",
     "output_type": "stream",
     "text": [
      "epoch: 3, [batch: 672 / 6720], examples_per_second: 3138.0653, train_label_loss: 0.3352, \n"
     ]
    },
    {
     "name": "stdout",
     "output_type": "stream",
     "text": [
      "epoch: 3, [batch: 1344 / 6720], examples_per_second: 3152.6552, train_label_loss: 0.4804, \n"
     ]
    },
    {
     "name": "stdout",
     "output_type": "stream",
     "text": [
      "epoch: 3, [batch: 2016 / 6720], examples_per_second: 3158.5642, train_label_loss: 0.2625, \n"
     ]
    },
    {
     "name": "stdout",
     "output_type": "stream",
     "text": [
      "epoch: 3, [batch: 2688 / 6720], examples_per_second: 3150.1662, train_label_loss: 0.4495, \n"
     ]
    },
    {
     "name": "stdout",
     "output_type": "stream",
     "text": [
      "epoch: 3, [batch: 3360 / 6720], examples_per_second: 3158.3816, train_label_loss: 0.9016, \n"
     ]
    },
    {
     "name": "stdout",
     "output_type": "stream",
     "text": [
      "epoch: 3, [batch: 4032 / 6720], examples_per_second: 3166.3907, train_label_loss: 0.7243, \n"
     ]
    },
    {
     "name": "stdout",
     "output_type": "stream",
     "text": [
      "epoch: 3, [batch: 4704 / 6720], examples_per_second: 3156.6627, train_label_loss: 0.3175, \n"
     ]
    },
    {
     "name": "stdout",
     "output_type": "stream",
     "text": [
      "epoch: 3, [batch: 5376 / 6720], examples_per_second: 3159.0969, train_label_loss: 0.4237, \n"
     ]
    },
    {
     "name": "stdout",
     "output_type": "stream",
     "text": [
      "epoch: 3, [batch: 6048 / 6720], examples_per_second: 3178.3080, train_label_loss: 0.1610, \n"
     ]
    },
    {
     "name": "stdout",
     "output_type": "stream",
     "text": [
      "=============================================================\n",
      "epoch: 3, source_val_acc_label: 0.8012, target_val_acc_label: 0.8247, source_val_label_loss: 0.5360, target_val_label_loss: 8.1393, \n",
      "=============================================================\n"
     ]
    },
    {
     "name": "stdout",
     "output_type": "stream",
     "text": [
      "epoch: 4, [batch: 1 / 6720], examples_per_second: 5.7291, train_label_loss: 0.4782, \n"
     ]
    },
    {
     "name": "stdout",
     "output_type": "stream",
     "text": [
      "epoch: 4, [batch: 672 / 6720], examples_per_second: 3160.7683, train_label_loss: 0.1952, \n"
     ]
    },
    {
     "name": "stdout",
     "output_type": "stream",
     "text": [
      "epoch: 4, [batch: 1344 / 6720], examples_per_second: 3164.6168, train_label_loss: 0.8422, \n"
     ]
    },
    {
     "name": "stdout",
     "output_type": "stream",
     "text": [
      "epoch: 4, [batch: 2016 / 6720], examples_per_second: 3170.7821, train_label_loss: 0.5839, \n"
     ]
    },
    {
     "name": "stdout",
     "output_type": "stream",
     "text": [
      "epoch: 4, [batch: 2688 / 6720], examples_per_second: 3161.8658, train_label_loss: 0.6447, \n"
     ]
    },
    {
     "name": "stdout",
     "output_type": "stream",
     "text": [
      "epoch: 4, [batch: 3360 / 6720], examples_per_second: 3176.0755, train_label_loss: 0.3687, \n"
     ]
    },
    {
     "name": "stdout",
     "output_type": "stream",
     "text": [
      "epoch: 4, [batch: 4032 / 6720], examples_per_second: 3171.3810, train_label_loss: 0.8057, \n"
     ]
    },
    {
     "name": "stdout",
     "output_type": "stream",
     "text": [
      "epoch: 4, [batch: 4704 / 6720], examples_per_second: 3176.6299, train_label_loss: 0.5208, \n"
     ]
    },
    {
     "name": "stdout",
     "output_type": "stream",
     "text": [
      "epoch: 4, [batch: 5376 / 6720], examples_per_second: 3176.4881, train_label_loss: 0.2590, \n"
     ]
    },
    {
     "name": "stdout",
     "output_type": "stream",
     "text": [
      "epoch: 4, [batch: 6048 / 6720], examples_per_second: 3175.6196, train_label_loss: 0.3403, \n"
     ]
    },
    {
     "name": "stdout",
     "output_type": "stream",
     "text": [
      "=============================================================\n",
      "epoch: 4, source_val_acc_label: 0.8319, target_val_acc_label: 0.8375, source_val_label_loss: 0.4810, target_val_label_loss: 7.6532, \n",
      "=============================================================\n"
     ]
    },
    {
     "name": "stdout",
     "output_type": "stream",
     "text": [
      "epoch: 5, [batch: 1 / 6720], examples_per_second: 5.7539, train_label_loss: 0.0865, \n"
     ]
    },
    {
     "name": "stdout",
     "output_type": "stream",
     "text": [
      "epoch: 5, [batch: 672 / 6720], examples_per_second: 3165.3526, train_label_loss: 0.2582, \n"
     ]
    },
    {
     "name": "stdout",
     "output_type": "stream",
     "text": [
      "epoch: 5, [batch: 1344 / 6720], examples_per_second: 3178.0382, train_label_loss: 0.7896, \n"
     ]
    },
    {
     "name": "stdout",
     "output_type": "stream",
     "text": [
      "epoch: 5, [batch: 2016 / 6720], examples_per_second: 3175.3166, train_label_loss: 0.6884, \n"
     ]
    },
    {
     "name": "stdout",
     "output_type": "stream",
     "text": [
      "epoch: 5, [batch: 2688 / 6720], examples_per_second: 3157.2766, train_label_loss: 0.3847, \n"
     ]
    },
    {
     "name": "stdout",
     "output_type": "stream",
     "text": [
      "epoch: 5, [batch: 3360 / 6720], examples_per_second: 3168.0214, train_label_loss: 0.1306, \n"
     ]
    },
    {
     "name": "stdout",
     "output_type": "stream",
     "text": [
      "epoch: 5, [batch: 4032 / 6720], examples_per_second: 3167.9508, train_label_loss: 0.4501, \n"
     ]
    },
    {
     "name": "stdout",
     "output_type": "stream",
     "text": [
      "epoch: 5, [batch: 4704 / 6720], examples_per_second: 3155.9929, train_label_loss: 0.2112, \n"
     ]
    },
    {
     "name": "stdout",
     "output_type": "stream",
     "text": [
      "epoch: 5, [batch: 5376 / 6720], examples_per_second: 3170.0408, train_label_loss: 0.5343, \n"
     ]
    },
    {
     "name": "stdout",
     "output_type": "stream",
     "text": [
      "epoch: 5, [batch: 6048 / 6720], examples_per_second: 3174.5690, train_label_loss: 0.3523, \n"
     ]
    },
    {
     "name": "stdout",
     "output_type": "stream",
     "text": [
      "=============================================================\n",
      "epoch: 5, source_val_acc_label: 0.8476, target_val_acc_label: 0.8378, source_val_label_loss: 0.4313, target_val_label_loss: 2.7320, \n",
      "=============================================================\n"
     ]
    },
    {
     "name": "stdout",
     "output_type": "stream",
     "text": [
      "New best\n"
     ]
    },
    {
     "name": "stdout",
     "output_type": "stream",
     "text": [
      "epoch: 6, [batch: 1 / 6720], examples_per_second: 5.7384, train_label_loss: 0.3434, \n"
     ]
    },
    {
     "name": "stdout",
     "output_type": "stream",
     "text": [
      "epoch: 6, [batch: 672 / 6720], examples_per_second: 3172.4989, train_label_loss: 0.5088, \n"
     ]
    },
    {
     "name": "stdout",
     "output_type": "stream",
     "text": [
      "epoch: 6, [batch: 1344 / 6720], examples_per_second: 3166.8297, train_label_loss: 0.4333, \n"
     ]
    },
    {
     "name": "stdout",
     "output_type": "stream",
     "text": [
      "epoch: 6, [batch: 2016 / 6720], examples_per_second: 3172.4320, train_label_loss: 0.3748, \n"
     ]
    },
    {
     "name": "stdout",
     "output_type": "stream",
     "text": [
      "epoch: 6, [batch: 2688 / 6720], examples_per_second: 3151.8123, train_label_loss: 0.2833, \n"
     ]
    },
    {
     "name": "stdout",
     "output_type": "stream",
     "text": [
      "epoch: 6, [batch: 3360 / 6720], examples_per_second: 3176.5400, train_label_loss: 0.1162, \n"
     ]
    },
    {
     "name": "stdout",
     "output_type": "stream",
     "text": [
      "epoch: 6, [batch: 4032 / 6720], examples_per_second: 3169.1495, train_label_loss: 0.4465, \n"
     ]
    },
    {
     "name": "stdout",
     "output_type": "stream",
     "text": [
      "epoch: 6, [batch: 4704 / 6720], examples_per_second: 3161.5737, train_label_loss: 0.3257, \n"
     ]
    },
    {
     "name": "stdout",
     "output_type": "stream",
     "text": [
      "epoch: 6, [batch: 5376 / 6720], examples_per_second: 3169.5718, train_label_loss: 0.4000, \n"
     ]
    },
    {
     "name": "stdout",
     "output_type": "stream",
     "text": [
      "epoch: 6, [batch: 6048 / 6720], examples_per_second: 3164.5616, train_label_loss: 0.1514, \n"
     ]
    },
    {
     "name": "stdout",
     "output_type": "stream",
     "text": [
      "=============================================================\n",
      "epoch: 6, source_val_acc_label: 0.8700, target_val_acc_label: 0.8666, source_val_label_loss: 0.3782, target_val_label_loss: 0.9846, \n",
      "=============================================================\n"
     ]
    },
    {
     "name": "stdout",
     "output_type": "stream",
     "text": [
      "New best\n"
     ]
    },
    {
     "name": "stdout",
     "output_type": "stream",
     "text": [
      "epoch: 7, [batch: 1 / 6720], examples_per_second: 5.7583, train_label_loss: 0.1028, \n"
     ]
    },
    {
     "name": "stdout",
     "output_type": "stream",
     "text": [
      "epoch: 7, [batch: 672 / 6720], examples_per_second: 3156.1411, train_label_loss: 0.5985, \n"
     ]
    },
    {
     "name": "stdout",
     "output_type": "stream",
     "text": [
      "epoch: 7, [batch: 1344 / 6720], examples_per_second: 3169.3051, train_label_loss: 0.2691, \n"
     ]
    },
    {
     "name": "stdout",
     "output_type": "stream",
     "text": [
      "epoch: 7, [batch: 2016 / 6720], examples_per_second: 3169.5686, train_label_loss: 0.3743, \n"
     ]
    },
    {
     "name": "stdout",
     "output_type": "stream",
     "text": [
      "epoch: 7, [batch: 2688 / 6720], examples_per_second: 3160.5650, train_label_loss: 0.5099, \n"
     ]
    },
    {
     "name": "stdout",
     "output_type": "stream",
     "text": [
      "epoch: 7, [batch: 3360 / 6720], examples_per_second: 3170.7514, train_label_loss: 0.8230, \n"
     ]
    },
    {
     "name": "stdout",
     "output_type": "stream",
     "text": [
      "epoch: 7, [batch: 4032 / 6720], examples_per_second: 3168.1728, train_label_loss: 0.2225, \n"
     ]
    },
    {
     "name": "stdout",
     "output_type": "stream",
     "text": [
      "epoch: 7, [batch: 4704 / 6720], examples_per_second: 3168.6375, train_label_loss: 0.3699, \n"
     ]
    },
    {
     "name": "stdout",
     "output_type": "stream",
     "text": [
      "epoch: 7, [batch: 5376 / 6720], examples_per_second: 3175.4509, train_label_loss: 0.2927, \n"
     ]
    },
    {
     "name": "stdout",
     "output_type": "stream",
     "text": [
      "epoch: 7, [batch: 6048 / 6720], examples_per_second: 3176.0892, train_label_loss: 0.2025, \n"
     ]
    },
    {
     "name": "stdout",
     "output_type": "stream",
     "text": [
      "=============================================================\n",
      "epoch: 7, source_val_acc_label: 0.8628, target_val_acc_label: 0.8359, source_val_label_loss: 0.3793, target_val_label_loss: 5.4893, \n",
      "=============================================================\n"
     ]
    },
    {
     "name": "stdout",
     "output_type": "stream",
     "text": [
      "epoch: 8, [batch: 1 / 6720], examples_per_second: 5.7327, train_label_loss: 0.4907, \n"
     ]
    },
    {
     "name": "stdout",
     "output_type": "stream",
     "text": [
      "epoch: 8, [batch: 672 / 6720], examples_per_second: 3146.9359, train_label_loss: 0.4956, \n"
     ]
    },
    {
     "name": "stdout",
     "output_type": "stream",
     "text": [
      "epoch: 8, [batch: 1344 / 6720], examples_per_second: 3169.6722, train_label_loss: 0.4457, \n"
     ]
    },
    {
     "name": "stdout",
     "output_type": "stream",
     "text": [
      "epoch: 8, [batch: 2016 / 6720], examples_per_second: 3176.8074, train_label_loss: 0.1762, \n"
     ]
    },
    {
     "name": "stdout",
     "output_type": "stream",
     "text": [
      "epoch: 8, [batch: 2688 / 6720], examples_per_second: 3149.9672, train_label_loss: 0.0821, \n"
     ]
    },
    {
     "name": "stdout",
     "output_type": "stream",
     "text": [
      "epoch: 8, [batch: 3360 / 6720], examples_per_second: 3168.7099, train_label_loss: 0.5009, \n"
     ]
    },
    {
     "name": "stdout",
     "output_type": "stream",
     "text": [
      "epoch: 8, [batch: 4032 / 6720], examples_per_second: 3181.0470, train_label_loss: 0.5427, \n"
     ]
    },
    {
     "name": "stdout",
     "output_type": "stream",
     "text": [
      "epoch: 8, [batch: 4704 / 6720], examples_per_second: 3166.5047, train_label_loss: 0.3269, \n"
     ]
    },
    {
     "name": "stdout",
     "output_type": "stream",
     "text": [
      "epoch: 8, [batch: 5376 / 6720], examples_per_second: 3175.9159, train_label_loss: 0.2919, \n"
     ]
    },
    {
     "name": "stdout",
     "output_type": "stream",
     "text": [
      "epoch: 8, [batch: 6048 / 6720], examples_per_second: 3164.2581, train_label_loss: 0.3216, \n"
     ]
    },
    {
     "name": "stdout",
     "output_type": "stream",
     "text": [
      "=============================================================\n",
      "epoch: 8, source_val_acc_label: 0.8786, target_val_acc_label: 0.8497, source_val_label_loss: 0.3451, target_val_label_loss: 1.0286, \n",
      "=============================================================\n"
     ]
    },
    {
     "name": "stdout",
     "output_type": "stream",
     "text": [
      "epoch: 9, [batch: 1 / 6720], examples_per_second: 5.7781, train_label_loss: 0.1951, \n"
     ]
    },
    {
     "name": "stdout",
     "output_type": "stream",
     "text": [
      "epoch: 9, [batch: 672 / 6720], examples_per_second: 3157.7679, train_label_loss: 0.6043, \n"
     ]
    },
    {
     "name": "stdout",
     "output_type": "stream",
     "text": [
      "epoch: 9, [batch: 1344 / 6720], examples_per_second: 3156.0662, train_label_loss: 0.5141, \n"
     ]
    },
    {
     "name": "stdout",
     "output_type": "stream",
     "text": [
      "epoch: 9, [batch: 2016 / 6720], examples_per_second: 3170.1327, train_label_loss: 0.3116, \n"
     ]
    },
    {
     "name": "stdout",
     "output_type": "stream",
     "text": [
      "epoch: 9, [batch: 2688 / 6720], examples_per_second: 3158.9531, train_label_loss: 0.2524, \n"
     ]
    },
    {
     "name": "stdout",
     "output_type": "stream",
     "text": [
      "epoch: 9, [batch: 3360 / 6720], examples_per_second: 3171.3959, train_label_loss: 0.5479, \n"
     ]
    },
    {
     "name": "stdout",
     "output_type": "stream",
     "text": [
      "epoch: 9, [batch: 4032 / 6720], examples_per_second: 3170.3002, train_label_loss: 0.4784, \n"
     ]
    },
    {
     "name": "stdout",
     "output_type": "stream",
     "text": [
      "epoch: 9, [batch: 4704 / 6720], examples_per_second: 3158.8589, train_label_loss: 0.3079, \n"
     ]
    },
    {
     "name": "stdout",
     "output_type": "stream",
     "text": [
      "epoch: 9, [batch: 5376 / 6720], examples_per_second: 3172.1399, train_label_loss: 0.3260, \n"
     ]
    },
    {
     "name": "stdout",
     "output_type": "stream",
     "text": [
      "epoch: 9, [batch: 6048 / 6720], examples_per_second: 3173.6715, train_label_loss: 0.0515, \n"
     ]
    },
    {
     "name": "stdout",
     "output_type": "stream",
     "text": [
      "=============================================================\n",
      "epoch: 9, source_val_acc_label: 0.8786, target_val_acc_label: 0.8053, source_val_label_loss: 0.3418, target_val_label_loss: 6.6004, \n",
      "=============================================================\n"
     ]
    },
    {
     "name": "stdout",
     "output_type": "stream",
     "text": [
      "epoch: 10, [batch: 1 / 6720], examples_per_second: 5.7382, train_label_loss: 0.3873, \n"
     ]
    },
    {
     "name": "stdout",
     "output_type": "stream",
     "text": [
      "epoch: 10, [batch: 672 / 6720], examples_per_second: 3162.1141, train_label_loss: 0.2373, \n"
     ]
    },
    {
     "name": "stdout",
     "output_type": "stream",
     "text": [
      "epoch: 10, [batch: 1344 / 6720], examples_per_second: 3162.6709, train_label_loss: 0.4103, \n"
     ]
    },
    {
     "name": "stdout",
     "output_type": "stream",
     "text": [
      "epoch: 10, [batch: 2016 / 6720], examples_per_second: 3157.3643, train_label_loss: 0.3029, \n"
     ]
    },
    {
     "name": "stdout",
     "output_type": "stream",
     "text": [
      "epoch: 10, [batch: 2688 / 6720], examples_per_second: 3168.8300, train_label_loss: 0.1915, \n"
     ]
    },
    {
     "name": "stdout",
     "output_type": "stream",
     "text": [
      "epoch: 10, [batch: 3360 / 6720], examples_per_second: 3171.0267, train_label_loss: 0.2338, \n"
     ]
    },
    {
     "name": "stdout",
     "output_type": "stream",
     "text": [
      "epoch: 10, [batch: 4032 / 6720], examples_per_second: 3169.3980, train_label_loss: 0.2827, \n"
     ]
    },
    {
     "name": "stdout",
     "output_type": "stream",
     "text": [
      "epoch: 10, [batch: 4704 / 6720], examples_per_second: 3169.3461, train_label_loss: 0.2631, \n"
     ]
    },
    {
     "name": "stdout",
     "output_type": "stream",
     "text": [
      "epoch: 10, [batch: 5376 / 6720], examples_per_second: 3173.5120, train_label_loss: 0.3561, \n"
     ]
    },
    {
     "name": "stdout",
     "output_type": "stream",
     "text": [
      "epoch: 10, [batch: 6048 / 6720], examples_per_second: 3170.8137, train_label_loss: 0.0543, \n"
     ]
    },
    {
     "name": "stdout",
     "output_type": "stream",
     "text": [
      "=============================================================\n",
      "epoch: 10, source_val_acc_label: 0.8915, target_val_acc_label: 0.8072, source_val_label_loss: 0.3057, target_val_label_loss: 5.5765, \n",
      "=============================================================\n"
     ]
    },
    {
     "name": "stdout",
     "output_type": "stream",
     "text": [
      "Patience (3) exhausted\n"
     ]
    }
   ],
   "source": [
    "###################################\n",
    "# train\n",
    "###################################\n",
    "jig = PTN_Train_Eval_Test_Jig(model, p.BEST_MODEL_PATH, p.device)\n",
    "\n",
    "jig.train(\n",
    "    train_iterable=datasets.source.processed.train,\n",
    "    source_val_iterable=datasets.source.processed.val,\n",
    "    target_val_iterable=datasets.target.processed.val,\n",
    "    num_epochs=p.n_epoch,\n",
    "    num_logs_per_epoch=p.NUM_LOGS_PER_EPOCH,\n",
    "    patience=p.patience,\n",
    "    optimizer=optimizer,\n",
    "    criteria_for_best=p.criteria_for_best,\n",
    ")"
   ]
  },
  {
   "cell_type": "code",
   "execution_count": 23,
   "id": "31e8fabf",
   "metadata": {
    "execution": {
     "iopub.execute_input": "2022-03-07T09:28:26.822290Z",
     "iopub.status.busy": "2022-03-07T09:28:26.822035Z",
     "iopub.status.idle": "2022-03-07T09:28:26.837400Z",
     "shell.execute_reply": "2022-03-07T09:28:26.837016Z"
    },
    "papermill": {
     "duration": 0.052462,
     "end_time": "2022-03-07T09:28:26.837493",
     "exception": false,
     "start_time": "2022-03-07T09:28:26.785031",
     "status": "completed"
    },
    "tags": []
   },
   "outputs": [],
   "source": [
    "total_experiment_time_secs = time.time() - start_time_secs"
   ]
  },
  {
   "cell_type": "code",
   "execution_count": 24,
   "id": "87b9595b",
   "metadata": {
    "execution": {
     "iopub.execute_input": "2022-03-07T09:28:26.916327Z",
     "iopub.status.busy": "2022-03-07T09:28:26.916056Z",
     "iopub.status.idle": "2022-03-07T09:29:22.331701Z",
     "shell.execute_reply": "2022-03-07T09:29:22.331260Z"
    },
    "papermill": {
     "duration": 55.455527,
     "end_time": "2022-03-07T09:29:22.331809",
     "exception": false,
     "start_time": "2022-03-07T09:28:26.876282",
     "status": "completed"
    },
    "tags": []
   },
   "outputs": [],
   "source": [
    "###################################\n",
    "# Evaluate the model\n",
    "###################################\n",
    "source_test_label_accuracy, source_test_label_loss = jig.test(datasets.source.processed.test)\n",
    "target_test_label_accuracy, target_test_label_loss = jig.test(datasets.target.processed.test)\n",
    "\n",
    "source_val_label_accuracy, source_val_label_loss = jig.test(datasets.source.processed.val)\n",
    "target_val_label_accuracy, target_val_label_loss = jig.test(datasets.target.processed.val)\n",
    "\n",
    "history = jig.get_history()\n",
    "\n",
    "total_epochs_trained = len(history[\"epoch_indices\"])\n",
    "\n",
    "val_dl = Iterable_Aggregator((datasets.source.original.val,datasets.target.original.val))\n",
    "\n",
    "confusion = ptn_confusion_by_domain_over_dataloader(model, p.device, val_dl)\n",
    "per_domain_accuracy = per_domain_accuracy_from_confusion(confusion)\n",
    "\n",
    "# Add a key to per_domain_accuracy for if it was a source domain\n",
    "for domain, accuracy in per_domain_accuracy.items():\n",
    "    per_domain_accuracy[domain] = {\n",
    "        \"accuracy\": accuracy,\n",
    "        \"source?\": domain in p.domains_source\n",
    "    }\n",
    "\n",
    "# Do an independent accuracy assesment JUST TO BE SURE!\n",
    "# _source_test_label_accuracy = independent_accuracy_assesment(model, datasets.source.processed.test, p.device)\n",
    "# _target_test_label_accuracy = independent_accuracy_assesment(model, datasets.target.processed.test, p.device)\n",
    "# _source_val_label_accuracy = independent_accuracy_assesment(model, datasets.source.processed.val, p.device)\n",
    "# _target_val_label_accuracy = independent_accuracy_assesment(model, datasets.target.processed.val, p.device)\n",
    "\n",
    "# assert(_source_test_label_accuracy == source_test_label_accuracy)\n",
    "# assert(_target_test_label_accuracy == target_test_label_accuracy)\n",
    "# assert(_source_val_label_accuracy == source_val_label_accuracy)\n",
    "# assert(_target_val_label_accuracy == target_val_label_accuracy)\n",
    "\n",
    "experiment = {\n",
    "    \"experiment_name\": p.experiment_name,\n",
    "    \"parameters\": dict(p),\n",
    "    \"results\": {\n",
    "        \"source_test_label_accuracy\": source_test_label_accuracy,\n",
    "        \"source_test_label_loss\": source_test_label_loss,\n",
    "        \"target_test_label_accuracy\": target_test_label_accuracy,\n",
    "        \"target_test_label_loss\": target_test_label_loss,\n",
    "        \"source_val_label_accuracy\": source_val_label_accuracy,\n",
    "        \"source_val_label_loss\": source_val_label_loss,\n",
    "        \"target_val_label_accuracy\": target_val_label_accuracy,\n",
    "        \"target_val_label_loss\": target_val_label_loss,\n",
    "        \"total_epochs_trained\": total_epochs_trained,\n",
    "        \"total_experiment_time_secs\": total_experiment_time_secs,\n",
    "        \"confusion\": confusion,\n",
    "        \"per_domain_accuracy\": per_domain_accuracy,\n",
    "    },\n",
    "    \"history\": history,\n",
    "    \"dataset_metrics\": get_dataset_metrics(datasets, \"ptn\"),\n",
    "}"
   ]
  },
  {
   "cell_type": "code",
   "execution_count": 25,
   "id": "54a21829",
   "metadata": {
    "execution": {
     "iopub.execute_input": "2022-03-07T09:29:22.414164Z",
     "iopub.status.busy": "2022-03-07T09:29:22.408512Z",
     "iopub.status.idle": "2022-03-07T09:29:22.573027Z",
     "shell.execute_reply": "2022-03-07T09:29:22.573268Z"
    },
    "papermill": {
     "duration": 0.201496,
     "end_time": "2022-03-07T09:29:22.573355",
     "exception": false,
     "start_time": "2022-03-07T09:29:22.371859",
     "status": "completed"
    },
    "tags": []
   },
   "outputs": [
    {
     "data": {
      "image/png": "[encoded data removed]",
      "text/plain": [
       "<Figure size 1080x504 with 1 Axes>"
      ]
     },
     "metadata": {
      "needs_background": "light"
     },
     "output_type": "display_data"
    }
   ],
   "source": [
    "ax = get_loss_curve(experiment)\n",
    "plt.show()"
   ]
  },
  {
   "cell_type": "code",
   "execution_count": 26,
   "id": "fd8a0f60",
   "metadata": {
    "execution": {
     "iopub.execute_input": "2022-03-07T09:29:22.644869Z",
     "iopub.status.busy": "2022-03-07T09:29:22.644606Z",
     "iopub.status.idle": "2022-03-07T09:29:22.833835Z",
     "shell.execute_reply": "2022-03-07T09:29:22.834270Z"
    },
    "papermill": {
     "duration": 0.226066,
     "end_time": "2022-03-07T09:29:22.834408",
     "exception": false,
     "start_time": "2022-03-07T09:29:22.608342",
     "status": "completed"
    },
    "tags": []
   },
   "outputs": [
    {
     "data": {
      "text/plain": [
       "<matplotlib.axes._subplots.AxesSubplot at 0x7f9039ce46a0>"
      ]
     },
     "execution_count": 26,
     "metadata": {},
     "output_type": "execute_result"
    },
    {
     "data": {
      "image/png": "[encoded data removed]",
      "text/plain": [
       "<Figure size 1080x504 with 1 Axes>"
      ]
     },
     "metadata": {
      "needs_background": "light"
     },
     "output_type": "display_data"
    }
   ],
   "source": [
    "get_results_table(experiment)"
   ]
  },
  {
   "cell_type": "code",
   "execution_count": 27,
   "id": "cf8dc689",
   "metadata": {
    "execution": {
     "iopub.execute_input": "2022-03-07T09:29:22.914049Z",
     "iopub.status.busy": "2022-03-07T09:29:22.913463Z",
     "iopub.status.idle": "2022-03-07T09:29:23.122427Z",
     "shell.execute_reply": "2022-03-07T09:29:23.121984Z"
    },
    "papermill": {
     "duration": 0.247063,
     "end_time": "2022-03-07T09:29:23.122535",
     "exception": false,
     "start_time": "2022-03-07T09:29:22.875472",
     "status": "completed"
    },
    "tags": []
   },
   "outputs": [
    {
     "data": {
      "text/plain": [
       "<matplotlib.axes._subplots.AxesSubplot at 0x7f903902bd60>"
      ]
     },
     "execution_count": 27,
     "metadata": {},
     "output_type": "execute_result"
    },
    {
     "data": {
      "image/png": "[encoded data removed]",
      "text/plain": [
       "<Figure size 1080x504 with 1 Axes>"
      ]
     },
     "metadata": {
      "needs_background": "light"
     },
     "output_type": "display_data"
    }
   ],
   "source": [
    "get_domain_accuracies(experiment)"
   ]
  },
  {
   "cell_type": "code",
   "execution_count": 28,
   "id": "a74ae082",
   "metadata": {
    "execution": {
     "iopub.execute_input": "2022-03-07T09:29:23.203432Z",
     "iopub.status.busy": "2022-03-07T09:29:23.202342Z",
     "iopub.status.idle": "2022-03-07T09:29:23.216837Z",
     "shell.execute_reply": "2022-03-07T09:29:23.216604Z"
    },
    "papermill": {
     "duration": 0.052976,
     "end_time": "2022-03-07T09:29:23.216896",
     "exception": false,
     "start_time": "2022-03-07T09:29:23.163920",
     "status": "completed"
    },
    "tags": []
   },
   "outputs": [
    {
     "name": "stdout",
     "output_type": "stream",
     "text": [
      "Source Test Label Accuracy: 0.8701822916666667 Target Test Label Accuracy: 0.8578125\n",
      "Source Val Label Accuracy: 0.8699544270833334 Target Val Label Accuracy: 0.8665625\n"
     ]
    }
   ],
   "source": [
    "print(\"Source Test Label Accuracy:\", experiment[\"results\"][\"source_test_label_accuracy\"], \"Target Test Label Accuracy:\", experiment[\"results\"][\"target_test_label_accuracy\"])\n",
    "print(\"Source Val Label Accuracy:\", experiment[\"results\"][\"source_val_label_accuracy\"], \"Target Val Label Accuracy:\", experiment[\"results\"][\"target_val_label_accuracy\"])"
   ]
  },
  {
   "cell_type": "code",
   "execution_count": 29,
   "id": "dacca602",
   "metadata": {
    "execution": {
     "iopub.execute_input": "2022-03-07T09:29:23.297472Z",
     "iopub.status.busy": "2022-03-07T09:29:23.296479Z",
     "iopub.status.idle": "2022-03-07T09:29:23.312844Z",
     "shell.execute_reply": "2022-03-07T09:29:23.313248Z"
    },
    "papermill": {
     "duration": 0.057317,
     "end_time": "2022-03-07T09:29:23.313372",
     "exception": false,
     "start_time": "2022-03-07T09:29:23.256055",
     "status": "completed"
    },
    "tags": [
     "experiment_json"
    ]
   },
   "outputs": [
    {
     "data": {
      "text/plain": [
       "'{\"experiment_name\": \"tl_1_cores-oracle.run1\", \"parameters\": {\"experiment_name\": \"tl_1_cores-oracle.run1\", \"device\": \"cuda\", \"lr\": 0.001, \"seed\": 1337, \"dataset_seed\": 1337, \"n_shot\": 3, \"n_query\": 2, \"train_k_factor\": 3, \"val_k_factor\": 2, \"test_k_factor\": 2, \"torch_default_dtype\": \"torch.float32\", \"n_epoch\": 50, \"patience\": 3, \"criteria_for_best\": \"target_loss\", \"x_net\": [{\"class\": \"nnReshape\", \"kargs\": {\"shape\": [-1, 1, 2, 256]}}, {\"class\": \"Conv2d\", \"kargs\": {\"in_channels\": 1, \"out_channels\": 256, \"kernel_size\": [1, 7], \"bias\": false, \"padding\": [0, 3]}}, {\"class\": \"ReLU\", \"kargs\": {\"inplace\": true}}, {\"class\": \"BatchNorm2d\", \"kargs\": {\"num_features\": 256}}, {\"class\": \"Conv2d\", \"kargs\": {\"in_channels\": 256, \"out_channels\": 80, \"kernel_size\": [2, 7], \"bias\": true, \"padding\": [0, 3]}}, {\"class\": \"ReLU\", \"kargs\": {\"inplace\": true}}, {\"class\": \"BatchNorm2d\", \"kargs\": {\"num_features\": 80}}, {\"class\": \"Flatten\", \"kargs\": {}}, {\"class\": \"Linear\", \"kargs\": {\"in_features\": 20480, \"out_features\": 256}}, {\"class\": \"ReLU\", \"kargs\": {\"inplace\": true}}, {\"class\": \"BatchNorm1d\", \"kargs\": {\"num_features\": 256}}, {\"class\": \"Linear\", \"kargs\": {\"in_features\": 256, \"out_features\": 256}}], \"NUM_LOGS_PER_EPOCH\": 10, \"BEST_MODEL_PATH\": \"./best_model.pth\", \"n_way\": 16, \"datasets\": [{\"labels\": [\"1-10.\", \"1-11.\", \"1-15.\", \"1-16.\", \"1-17.\", \"1-18.\", \"1-19.\", \"10-4.\", \"10-7.\", \"11-1.\", \"11-14.\", \"11-17.\", \"11-20.\", \"11-7.\", \"13-20.\", \"13-8.\", \"14-10.\", \"14-11.\", \"14-14.\", \"14-7.\", \"15-1.\", \"15-20.\", \"16-1.\", \"16-16.\", \"17-10.\", \"17-11.\", \"17-2.\", \"19-1.\", \"19-16.\", \"19-19.\", \"19-20.\", \"19-3.\", \"2-10.\", \"2-11.\", \"2-17.\", \"2-18.\", \"2-20.\", \"2-3.\", \"2-4.\", \"2-5.\", \"2-6.\", \"2-7.\", \"2-8.\", \"3-13.\", \"3-18.\", \"3-3.\", \"4-1.\", \"4-10.\", \"4-11.\", \"4-19.\", \"5-5.\", \"6-15.\", \"7-10.\", \"7-14.\", \"8-18.\", \"8-20.\", \"8-3.\", \"8-8.\"], \"domains\": [1, 2, 3, 4, 5], \"num_examples_per_domain_per_label\": 100, \"pickle_path\": \"/mnt/wd500GB/CSC500/csc500-main/datasets/cores.stratified_ds.2022A.pkl\", \"source_or_target_dataset\": \"target\", \"x_transforms\": [\"unit_power\"], \"episode_transforms\": [], \"domain_prefix\": \"CORES_\"}, {\"labels\": [\"3123D52\", \"3123D65\", \"3123D79\", \"3123D80\", \"3123D54\", \"3123D70\", \"3123D7B\", \"3123D89\", \"3123D58\", \"3123D76\", \"3123D7D\", \"3123EFE\", \"3123D64\", \"3123D78\", \"3123D7E\", \"3124E4A\"], \"domains\": [32, 38, 8, 44, 14, 50, 20, 26], \"num_examples_per_domain_per_label\": 2000, \"pickle_path\": \"/mnt/wd500GB/CSC500/csc500-main/datasets/oracle.Run1_framed_2000Examples_stratified_ds.2022A.pkl\", \"source_or_target_dataset\": \"source\", \"x_transforms\": [\"unit_power\"], \"episode_transforms\": [], \"domain_prefix\": \"ORACLE.run1_\"}], \"domains_source\": [\"ORACLE.run1_32\", \"ORACLE.run1_38\", \"ORACLE.run1_8\", \"ORACLE.run1_44\", \"ORACLE.run1_14\", \"ORACLE.run1_50\", \"ORACLE.run1_20\", \"ORACLE.run1_26\"], \"domains_target\": [\"CORES_1\", \"CORES_2\", \"CORES_3\", \"CORES_4\", \"CORES_5\"]}, \"results\": {\"source_test_label_accuracy\": 0.8701822916666667, \"source_test_label_loss\": 0.3833840489387512, \"target_test_label_accuracy\": 0.8578125, \"target_test_label_loss\": 1.5842151641845703, \"source_val_label_accuracy\": 0.8699544270833334, \"source_val_label_loss\": 0.37818723917007446, \"target_val_label_accuracy\": 0.8665625, \"target_val_label_loss\": 0.984589159488678, \"total_epochs_trained\": 10, \"total_experiment_time_secs\": 1830.8821370601654, \"confusion\": {\"ORACLE.run1_14\": {\"15\": {\"15\": 240}, \"3\": {\"3\": 233, \"2\": 3, \"5\": 1, \"4\": 2, \"14\": 1}, \"6\": {\"6\": 186, \"13\": 51, \"2\": 3}, \"1\": {\"1\": 230, \"5\": 10}, \"8\": {\"8\": 240}, \"10\": {\"10\": 240}, \"9\": {\"9\": 240}, \"13\": {\"13\": 141, \"2\": 14, \"6\": 69, \"5\": 2, \"14\": 13, \"7\": 1}, \"12\": {\"12\": 240}, \"5\": {\"5\": 188, \"4\": 32, \"1\": 10, \"3\": 3, \"2\": 7}, \"0\": {\"0\": 237, \"11\": 1, \"3\": 2}, \"2\": {\"2\": 145, \"3\": 11, \"14\": 47, \"6\": 12, \"13\": 6, \"5\": 19}, \"11\": {\"11\": 235, \"9\": 5}, \"14\": {\"14\": 219, \"2\": 18, \"13\": 2, \"3\": 1}, \"7\": {\"7\": 240}, \"4\": {\"4\": 234, \"5\": 5, \"3\": 1}}, \"ORACLE.run1_20\": {\"3\": {\"3\": 177, \"12\": 37, \"2\": 7, \"9\": 17, \"4\": 1, \"1\": 1}, \"15\": {\"5\": 17, \"15\": 207, \"0\": 3, \"1\": 12, \"13\": 1}, \"8\": {\"8\": 234, \"4\": 4, \"14\": 1, \"7\": 1}, \"4\": {\"4\": 238, \"8\": 2}, \"14\": {\"6\": 8, \"14\": 231, \"10\": 1}, \"0\": {\"12\": 1, \"15\": 11, \"7\": 2, \"0\": 200, \"5\": 23, \"8\": 1, \"2\": 1, \"1\": 1}, \"7\": {\"7\": 231, \"2\": 7, \"9\": 1, \"8\": 1}, \"6\": {\"6\": 235, \"14\": 5}, \"10\": {\"10\": 240}, \"5\": {\"5\": 212, \"1\": 2, \"15\": 11, \"0\": 13, \"12\": 2}, \"2\": {\"2\": 187, \"9\": 33, \"12\": 4, \"3\": 5, \"7\": 7, \"13\": 4}, \"12\": {\"12\": 164, \"3\": 30, \"2\": 6, \"1\": 32, \"9\": 8}, \"9\": {\"9\": 181, \"3\": 20, \"12\": 3, \"2\": 36}, \"1\": {\"1\": 202, \"5\": 2, \"12\": 29, \"15\": 7}, \"11\": {\"11\": 240}, \"13\": {\"13\": 238, \"15\": 1, \"2\": 1}}, \"ORACLE.run1_38\": {\"5\": {\"8\": 57, \"5\": 135, \"7\": 21, \"15\": 12, \"9\": 7, \"6\": 6, \"13\": 2}, \"8\": {\"8\": 205, \"5\": 19, \"7\": 4, \"13\": 1, \"0\": 7, \"10\": 1, \"15\": 3}, \"11\": {\"11\": 233, \"10\": 2, \"14\": 4, \"4\": 1}, \"1\": {\"1\": 235, \"15\": 5}, \"10\": {\"10\": 220, \"7\": 2, \"8\": 5, \"13\": 12, \"0\": 1}, \"15\": {\"15\": 222, \"1\": 11, \"8\": 2, \"13\": 2, \"5\": 3}, \"3\": {\"3\": 239, \"9\": 1}, \"7\": {\"7\": 221, \"5\": 5, \"8\": 8, \"0\": 6}, \"4\": {\"4\": 240}, \"14\": {\"14\": 236, \"2\": 4}, \"9\": {\"9\": 225, \"6\": 15}, \"12\": {\"12\": 239, \"4\": 1}, \"6\": {\"5\": 1, \"6\": 238, \"9\": 1}, \"2\": {\"14\": 11, \"2\": 225, \"13\": 3, \"15\": 1}, \"0\": {\"8\": 23, \"0\": 186, \"3\": 12, \"7\": 8, \"10\": 5, \"13\": 2, \"5\": 3, \"11\": 1}, \"13\": {\"13\": 219, \"15\": 6, \"10\": 8, \"8\": 3, \"5\": 1, \"2\": 3}}, \"ORACLE.run1_8\": {\"9\": {\"9\": 240}, \"10\": {\"10\": 216, \"4\": 4, \"13\": 12, \"14\": 8}, \"13\": {\"13\": 147, \"4\": 28, \"0\": 31, \"6\": 8, \"14\": 7, \"10\": 18, \"7\": 1}, \"0\": {\"0\": 222, \"7\": 4, \"13\": 14}, \"1\": {\"1\": 239, \"5\": 1}, \"15\": {\"15\": 213, \"12\": 23, \"8\": 4}, \"5\": {\"5\": 226, \"10\": 8, \"1\": 3, \"14\": 3}, \"3\": {\"3\": 237, \"2\": 3}, \"6\": {\"6\": 203, \"0\": 1, \"7\": 25, \"4\": 8, \"13\": 3}, \"11\": {\"11\": 239, \"1\": 1}, \"8\": {\"8\": 240}, \"4\": {\"4\": 203, \"13\": 22, \"14\": 11, \"6\": 3, \"0\": 1}, \"12\": {\"12\": 147, \"15\": 77, \"3\": 12, \"8\": 4}, \"14\": {\"14\": 204, \"13\": 2, \"10\": 15, \"4\": 15, \"1\": 4}, \"2\": {\"2\": 228, \"3\": 6, \"7\": 5, \"15\": 1}, \"7\": {\"7\": 215, \"6\": 24, \"0\": 1}}, \"ORACLE.run1_50\": {\"7\": {\"7\": 219, \"13\": 11, \"5\": 7, \"6\": 2, \"10\": 1}, \"3\": {\"3\": 240}, \"8\": {\"8\": 236, \"10\": 4}, \"2\": {\"2\": 231, \"0\": 9}, \"14\": {\"14\": 240}, \"4\": {\"15\": 23, \"4\": 178, \"1\": 8, \"5\": 26, \"6\": 3, \"7\": 2}, \"6\": {\"6\": 231, \"7\": 2, \"1\": 2, \"5\": 1, \"13\": 4}, \"15\": {\"15\": 209, \"4\": 9, \"1\": 16, \"6\": 2, \"11\": 4}, \"10\": {\"10\": 235, \"8\": 2, \"0\": 2, \"13\": 1}, \"11\": {\"11\": 229, \"15\": 5, \"12\": 3, \"9\": 2, \"1\": 1}, \"13\": {\"13\": 221, \"7\": 5, \"5\": 8, \"6\": 5, \"0\": 1}, \"9\": {\"9\": 225, \"12\": 7, \"11\": 8}, \"0\": {\"0\": 216, \"2\": 21, \"10\": 3}, \"1\": {\"1\": 213, \"15\": 16, \"2\": 3, \"11\": 1, \"5\": 2, \"4\": 3, \"6\": 2}, \"12\": {\"12\": 236, \"9\": 3, \"14\": 1}, \"5\": {\"5\": 141, \"4\": 33, \"7\": 16, \"13\": 32, \"1\": 17, \"15\": 1}}, \"ORACLE.run1_32\": {\"8\": {\"13\": 5, \"0\": 13, \"8\": 215, \"14\": 2, \"3\": 1, \"5\": 4}, \"14\": {\"14\": 169, \"11\": 33, \"0\": 21, \"7\": 9, \"8\": 2, \"13\": 1, \"3\": 3, \"5\": 2}, \"2\": {\"2\": 198, \"4\": 41, \"7\": 1}, \"0\": {\"0\": 211, \"8\": 21, \"14\": 6, \"5\": 1, \"13\": 1}, \"1\": {\"1\": 240}, \"10\": {\"10\": 240}, \"11\": {\"11\": 229, \"14\": 11}, \"5\": {\"5\": 151, \"7\": 48, \"3\": 11, \"8\": 2, \"13\": 14, \"4\": 11, \"2\": 1, \"14\": 2}, \"15\": {\"15\": 240}, \"3\": {\"3\": 235, \"13\": 3, \"11\": 2}, \"12\": {\"12\": 240}, \"7\": {\"7\": 178, \"5\": 32, \"4\": 17, \"2\": 5, \"13\": 5, \"0\": 1, \"14\": 2}, \"13\": {\"13\": 202, \"3\": 8, \"4\": 18, \"7\": 4, \"5\": 6, \"11\": 1, \"0\": 1}, \"6\": {\"6\": 240}, \"4\": {\"4\": 181, \"2\": 36, \"13\": 6, \"5\": 8, \"7\": 9}, \"9\": {\"9\": 240}}, \"ORACLE.run1_26\": {\"4\": {\"4\": 188, \"14\": 22, \"0\": 9, \"7\": 3, \"8\": 18}, \"12\": {\"12\": 240}, \"10\": {\"14\": 17, \"10\": 131, \"0\": 53, \"8\": 32, \"6\": 5, \"4\": 2}, \"0\": {\"0\": 100, \"14\": 37, \"10\": 58, \"8\": 29, \"4\": 13, \"6\": 2, \"15\": 1}, \"13\": {\"13\": 197, \"5\": 34, \"2\": 4, \"9\": 1, \"15\": 4}, \"9\": {\"9\": 201, \"15\": 32, \"6\": 4, \"2\": 1, \"5\": 1, \"13\": 1}, \"3\": {\"3\": 183, \"2\": 48, \"7\": 9}, \"2\": {\"5\": 28, \"3\": 77, \"2\": 109, \"7\": 18, \"15\": 5, \"13\": 2, \"4\": 1}, \"5\": {\"2\": 9, \"5\": 208, \"13\": 17, \"15\": 3, \"7\": 1, \"3\": 1, \"9\": 1}, \"14\": {\"4\": 27, \"14\": 153, \"10\": 16, \"0\": 29, \"1\": 10, \"8\": 4, \"6\": 1}, \"8\": {\"8\": 162, \"7\": 20, \"0\": 17, \"10\": 20, \"4\": 16, \"14\": 1, \"15\": 3, \"9\": 1}, \"7\": {\"7\": 198, \"8\": 9, \"2\": 18, \"3\": 7, \"4\": 7, \"15\": 1}, \"6\": {\"6\": 223, \"10\": 4, \"15\": 7, \"0\": 1, \"9\": 4, \"8\": 1}, \"11\": {\"11\": 240}, \"15\": {\"15\": 181, \"8\": 7, \"9\": 30, \"13\": 8, \"5\": 3, \"2\": 2, \"10\": 2, \"6\": 7}, \"1\": {\"1\": 215, \"14\": 19, \"8\": 1, \"4\": 4, \"7\": 1}}, \"ORACLE.run1_44\": {\"12\": {\"12\": 215, \"1\": 23, \"10\": 2}, \"7\": {\"7\": 184, \"2\": 26, \"9\": 29, \"6\": 1}, \"5\": {\"5\": 211, \"14\": 7, \"0\": 18, \"8\": 2, \"15\": 2}, \"15\": {\"15\": 205, \"4\": 1, \"5\": 6, \"0\": 14, \"14\": 6, \"8\": 8}, \"8\": {\"0\": 77, \"8\": 155, \"15\": 8}, \"2\": {\"2\": 202, \"10\": 4, \"7\": 20, \"1\": 12, \"3\": 2}, \"13\": {\"13\": 180, \"9\": 29, \"6\": 27, \"7\": 1, \"11\": 3}, \"4\": {\"14\": 68, \"4\": 171, \"15\": 1}, \"0\": {\"0\": 167, \"8\": 62, \"5\": 6, \"15\": 5}, \"6\": {\"6\": 193, \"13\": 23, \"2\": 1, \"9\": 17, \"7\": 6}, \"9\": {\"13\": 24, \"7\": 48, \"9\": 150, \"6\": 18}, \"11\": {\"11\": 234, \"13\": 6}, \"10\": {\"1\": 18, \"10\": 208, \"12\": 5, \"2\": 9}, \"14\": {\"4\": 64, \"14\": 158, \"15\": 13, \"5\": 5}, \"1\": {\"2\": 7, \"1\": 182, \"3\": 11, \"12\": 30, \"10\": 10}, \"3\": {\"3\": 230, \"1\": 9, \"12\": 1}}, \"CORES_3\": {\"43\": {\"43\": 12}, \"9\": {\"9\": 12}, \"6\": {\"3\": 1, \"6\": 4, \"33\": 3, \"44\": 1, \"29\": 1}, \"3\": {\"3\": 8, \"52\": 3, \"26\": 1}, \"16\": {\"16\": 9, \"23\": 2, \"39\": 1}, \"51\": {\"51\": 12}, \"31\": {\"31\": 12}, \"46\": {\"46\": 7, \"3\": 3}, \"19\": {\"19\": 8}, \"8\": {\"8\": 11, \"36\": 1}, \"18\": {\"18\": 11, \"30\": 1}, \"37\": {\"37\": 12}, \"24\": {\"24\": 11, \"14\": 1}, \"10\": {\"10\": 10, \"56\": 1, \"43\": 1}, \"44\": {\"44\": 10}, \"14\": {\"10\": 2, \"14\": 3, \"7\": 1, \"56\": 1, \"35\": 1, \"5\": 2, \"1\": 1, \"37\": 1}, \"38\": {\"38\": 10}, \"53\": {\"53\": 11, \"2\": 1}, \"20\": {\"20\": 6, \"53\": 3, \"2\": 2, \"36\": 1}, \"32\": {\"32\": 12}, \"36\": {\"36\": 10}, \"33\": {\"33\": 10, \"30\": 1, \"3\": 1}, \"56\": {\"56\": 6, \"10\": 4, \"43\": 2}, \"23\": {\"23\": 11, \"16\": 1}, \"54\": {\"54\": 10}, \"34\": {\"57\": 2, \"34\": 8, \"1\": 2}, \"13\": {\"13\": 12}, \"2\": {\"2\": 12}, \"55\": {\"55\": 9, \"1\": 1}, \"21\": {\"21\": 9, \"20\": 1}, \"49\": {\"49\": 10}, \"25\": {\"25\": 12}, \"5\": {\"5\": 7, \"37\": 2, \"47\": 1, \"29\": 1, \"35\": 1}, \"50\": {\"46\": 2, \"50\": 5, \"36\": 1}, \"40\": {\"40\": 11, \"44\": 1}, \"57\": {\"57\": 7, \"15\": 1}, \"22\": {\"22\": 10}, \"1\": {\"1\": 10}, \"17\": {\"17\": 12}, \"41\": {\"41\": 11, \"52\": 1}, \"4\": {\"4\": 10}, \"7\": {\"7\": 9, \"47\": 1}, \"26\": {\"26\": 8, \"41\": 1, \"57\": 1}, \"29\": {\"29\": 12}, \"52\": {\"52\": 9, \"48\": 1, \"41\": 2}, \"15\": {\"15\": 10, \"47\": 1, \"11\": 1}, \"35\": {\"35\": 12}, \"42\": {\"42\": 8, \"52\": 2, \"41\": 2}, \"30\": {\"30\": 10}, \"27\": {\"27\": 8}, \"45\": {\"45\": 8, \"21\": 1, \"38\": 1}, \"0\": {\"0\": 12}, \"28\": {\"0\": 1, \"28\": 11}, \"47\": {\"47\": 8, \"5\": 2, \"35\": 2}, \"11\": {\"35\": 2, \"15\": 1, \"11\": 7}, \"39\": {\"39\": 10}, \"48\": {\"48\": 10, \"33\": 2}, \"12\": {\"12\": 8}}, \"CORES_4\": {\"35\": {\"35\": 10}, \"25\": {\"25\": 12}, \"24\": {\"38\": 2, \"24\": 8}, \"48\": {\"48\": 9, \"3\": 2, \"26\": 1}, \"51\": {\"51\": 12}, \"13\": {\"38\": 1, \"13\": 11}, \"14\": {\"14\": 3, \"32\": 1, \"38\": 2, \"2\": 2}, \"32\": {\"32\": 10, \"46\": 2}, \"30\": {\"30\": 10, \"21\": 2}, \"34\": {\"34\": 10}, \"9\": {\"9\": 12}, \"1\": {\"1\": 12}, \"0\": {\"24\": 2, \"0\": 8, \"43\": 2}, \"38\": {\"38\": 12}, \"22\": {\"22\": 7, \"0\": 1}, \"40\": {\"40\": 12}, \"39\": {\"39\": 12}, \"46\": {\"46\": 7, \"5\": 1, \"11\": 1, \"57\": 1, \"31\": 1, \"41\": 1}, \"36\": {\"36\": 12}, \"50\": {\"50\": 10, \"6\": 1, \"3\": 1}, \"49\": {\"49\": 12}, \"17\": {\"17\": 12}, \"45\": {\"45\": 12}, \"6\": {\"6\": 10, \"51\": 1, \"4\": 1}, \"8\": {\"8\": 12}, \"5\": {\"39\": 2, \"41\": 1, \"5\": 6, \"57\": 1}, \"33\": {\"33\": 9, \"44\": 1, \"28\": 2}, \"31\": {\"31\": 12}, \"37\": {\"37\": 10}, \"47\": {\"7\": 1, \"47\": 6, \"57\": 1}, \"15\": {\"15\": 7, \"16\": 1, \"49\": 1, \"47\": 1}, \"7\": {\"7\": 10, \"1\": 1, \"32\": 1}, \"20\": {\"20\": 12}, \"4\": {\"4\": 12}, \"54\": {\"54\": 11, \"18\": 1}, \"44\": {\"19\": 2, \"44\": 10}, \"3\": {\"3\": 7, \"4\": 1, \"26\": 1, \"48\": 1, \"28\": 1, \"53\": 1}, \"11\": {\"46\": 1, \"11\": 4, \"1\": 2, \"7\": 1, \"49\": 1, \"32\": 1}, \"27\": {\"27\": 10}, \"19\": {\"44\": 1, \"19\": 11}, \"55\": {\"55\": 8, \"33\": 2, \"3\": 1, \"26\": 1}, \"16\": {\"16\": 11, \"41\": 1}, \"2\": {\"2\": 10}, \"52\": {\"52\": 3, \"7\": 1, \"23\": 1, \"5\": 2, \"41\": 2, \"35\": 1}, \"42\": {\"42\": 9, \"25\": 1}, \"26\": {\"26\": 12}, \"10\": {\"10\": 7, \"56\": 2, \"0\": 3}, \"53\": {\"53\": 9, \"25\": 1}, \"28\": {\"28\": 12}, \"21\": {\"21\": 10}, \"57\": {\"47\": 1, \"57\": 6, \"41\": 1, \"16\": 2}, \"23\": {\"52\": 2, \"18\": 2, \"54\": 1, \"39\": 1, \"23\": 2}, \"43\": {\"0\": 3, \"43\": 7}, \"12\": {\"12\": 12}, \"41\": {\"57\": 1, \"41\": 10, \"5\": 1}, \"56\": {\"56\": 7, \"10\": 1}, \"18\": {\"18\": 9, \"23\": 1}, \"29\": {\"29\": 7, \"47\": 1}}, \"CORES_5\": {\"47\": {\"47\": 6, \"52\": 2, \"34\": 1, \"16\": 1}, \"53\": {\"53\": 12}, \"29\": {\"29\": 9, \"15\": 1, \"46\": 2}, \"52\": {\"52\": 8, \"16\": 2, \"57\": 2}, \"55\": {\"55\": 11, \"45\": 1}, \"17\": {\"17\": 8, \"30\": 3, \"26\": 1}, \"42\": {\"42\": 12}, \"33\": {\"33\": 10}, \"11\": {\"11\": 9, \"36\": 1, \"29\": 2}, \"19\": {\"19\": 8}, \"1\": {\"53\": 1, \"1\": 11}, \"44\": {\"44\": 12}, \"49\": {\"49\": 12}, \"4\": {\"4\": 11, \"55\": 1}, \"6\": {\"6\": 4, \"17\": 1, \"7\": 2, \"30\": 3, \"9\": 1, \"20\": 1}, \"39\": {\"39\": 11, \"41\": 1}, \"13\": {\"13\": 12}, \"5\": {\"5\": 10}, \"16\": {\"52\": 1, \"16\": 4, \"57\": 2, \"46\": 2, \"47\": 1}, \"25\": {\"25\": 9, \"50\": 1, \"33\": 2}, \"45\": {\"45\": 10, \"48\": 1, \"20\": 1}, \"7\": {\"7\": 10}, \"22\": {\"22\": 12}, \"40\": {\"40\": 9, \"44\": 3}, \"38\": {\"38\": 12}, \"35\": {\"35\": 8}, \"56\": {\"56\": 12}, \"50\": {\"50\": 9, \"19\": 1}, \"0\": {\"0\": 12}, \"10\": {\"10\": 10, \"0\": 2}, \"27\": {\"27\": 12}, \"20\": {\"20\": 8, \"27\": 1, \"32\": 1}, \"36\": {\"36\": 5, \"49\": 1, \"16\": 2}, \"34\": {\"34\": 12}, \"30\": {\"30\": 11, \"6\": 1}, \"2\": {\"2\": 8, \"29\": 1, \"16\": 1}, \"15\": {\"29\": 1, \"15\": 9, \"43\": 2}, \"18\": {\"18\": 12}, \"32\": {\"32\": 12}, \"31\": {\"31\": 12}, \"57\": {\"57\": 12}, \"48\": {\"1\": 1, \"48\": 7}, \"28\": {\"28\": 10}, \"14\": {\"16\": 1, \"28\": 2, \"49\": 1, \"3\": 1, \"37\": 3, \"43\": 2, \"14\": 1, \"0\": 1}, \"3\": {\"3\": 10, \"11\": 1, \"15\": 1}, \"8\": {\"8\": 12}, \"9\": {\"9\": 12}, \"21\": {\"21\": 9, \"50\": 1}, \"41\": {\"41\": 11, \"21\": 1}, \"24\": {\"24\": 10, \"35\": 1, \"13\": 1}, \"46\": {\"46\": 5, \"14\": 2, \"52\": 1, \"57\": 2}, \"43\": {\"43\": 9, \"31\": 1}, \"54\": {\"54\": 10}, \"23\": {\"23\": 8, \"18\": 1, \"39\": 1}, \"37\": {\"37\": 10}, \"12\": {\"12\": 9, \"38\": 1}, \"26\": {\"26\": 10}, \"51\": {\"51\": 6}}, \"CORES_1\": {\"46\": {\"46\": 8, \"4\": 2, \"41\": 1, \"40\": 1}, \"16\": {\"16\": 8, \"37\": 4}, \"26\": {\"26\": 12}, \"10\": {\"10\": 8, \"22\": 2, \"49\": 1, \"39\": 1}, \"9\": {\"9\": 10}, \"28\": {\"28\": 11, \"11\": 1}, \"51\": {\"51\": 12}, \"1\": {\"1\": 9, \"42\": 1, \"45\": 2}, \"55\": {\"55\": 10, \"3\": 2}, \"27\": {\"22\": 2, \"27\": 6, \"43\": 1, \"24\": 1}, \"22\": {\"22\": 11, \"0\": 1}, \"52\": {\"52\": 10, \"28\": 2}, \"3\": {\"3\": 12}, \"33\": {\"33\": 8}, \"47\": {\"47\": 12}, \"42\": {\"42\": 10, \"56\": 1, \"45\": 1}, \"12\": {\"12\": 3, \"13\": 1}, \"23\": {\"11\": 1, \"49\": 1, \"23\": 9, \"15\": 1}, \"49\": {\"49\": 9, \"22\": 1}, \"7\": {\"7\": 12}, \"4\": {\"4\": 12}, \"50\": {\"50\": 12}, \"19\": {\"56\": 1, \"19\": 8, \"57\": 1, \"1\": 1, \"25\": 1}, \"11\": {\"28\": 3, \"11\": 8, \"52\": 1}, \"31\": {\"31\": 10}, \"41\": {\"41\": 12}, \"56\": {\"56\": 8, \"19\": 1, \"45\": 1}, \"0\": {\"0\": 12}, \"57\": {\"19\": 1, \"56\": 1, \"57\": 9, \"1\": 1}, \"53\": {\"9\": 3, \"53\": 9}, \"43\": {\"43\": 12}, \"37\": {\"37\": 12}, \"2\": {\"2\": 8}, \"6\": {\"6\": 9, \"40\": 1, \"48\": 2}, \"18\": {\"18\": 10, \"37\": 1, \"26\": 1}, \"38\": {\"38\": 12}, \"15\": {\"11\": 2, \"38\": 2, \"15\": 8}, \"36\": {\"36\": 12}, \"39\": {\"39\": 8}, \"44\": {\"44\": 10, \"35\": 2}, \"8\": {\"8\": 12}, \"17\": {\"17\": 10}, \"5\": {\"5\": 11, \"17\": 1}, \"13\": {\"13\": 10}, \"40\": {\"40\": 10}, \"29\": {\"29\": 12}, \"48\": {\"48\": 12}, \"32\": {\"32\": 7, \"35\": 2, \"54\": 1, \"37\": 1, \"36\": 1}, \"30\": {\"30\": 12}, \"35\": {\"35\": 12}, \"25\": {\"25\": 12}, \"14\": {\"14\": 5, \"53\": 1, \"51\": 1, \"41\": 2, \"5\": 1, \"30\": 1, \"7\": 1}, \"54\": {\"54\": 10}, \"20\": {\"20\": 8}, \"21\": {\"21\": 10}, \"45\": {\"45\": 6, \"7\": 1, \"42\": 1}, \"24\": {\"49\": 1, \"24\": 5, \"22\": 2}, \"34\": {\"34\": 8}}, \"CORES_2\": {\"14\": {\"47\": 2, \"56\": 1, \"24\": 1, \"14\": 4, \"1\": 2, \"10\": 2}, \"22\": {\"22\": 10, \"13\": 2}, \"9\": {\"9\": 12}, \"47\": {\"16\": 1, \"47\": 8, \"5\": 1, \"57\": 2}, \"13\": {\"13\": 11, \"22\": 1}, \"8\": {\"8\": 11, \"27\": 1}, \"7\": {\"7\": 10, \"47\": 1, \"1\": 1}, \"49\": {\"49\": 12}, \"20\": {\"20\": 11, \"51\": 1}, \"16\": {\"47\": 1, \"16\": 6, \"39\": 1, \"5\": 1, \"0\": 1, \"15\": 1, \"31\": 1}, \"34\": {\"34\": 12}, \"56\": {\"56\": 11, \"10\": 1}, \"38\": {\"38\": 9, \"13\": 1}, \"4\": {\"4\": 12}, \"43\": {\"43\": 8, \"56\": 1, \"24\": 1}, \"26\": {\"26\": 10}, \"35\": {\"35\": 12}, \"31\": {\"31\": 12}, \"1\": {\"1\": 8, \"42\": 2, \"15\": 1, \"7\": 1}, \"39\": {\"39\": 8, \"0\": 2, \"16\": 2}, \"5\": {\"15\": 1, \"39\": 1, \"5\": 8, \"47\": 2}, \"24\": {\"56\": 1, \"24\": 11}, \"54\": {\"54\": 10}, \"23\": {\"39\": 2, \"23\": 10}, \"51\": {\"51\": 12}, \"27\": {\"27\": 10}, \"15\": {\"15\": 11, \"1\": 1}, \"0\": {\"0\": 10, \"28\": 2}, \"19\": {\"19\": 9, \"40\": 1}, \"18\": {\"18\": 5, \"30\": 2, \"2\": 1}, \"30\": {\"18\": 3, \"30\": 8, \"23\": 1}, \"55\": {\"55\": 8, \"1\": 1, \"46\": 1}, \"57\": {\"57\": 12}, \"2\": {\"2\": 12}, \"12\": {\"12\": 7, \"17\": 1}, \"41\": {\"41\": 12}, \"42\": {\"1\": 2, \"11\": 1, \"42\": 7, \"7\": 1, \"15\": 1}, \"48\": {\"48\": 11, \"41\": 1}, \"37\": {\"37\": 12}, \"6\": {\"6\": 9, \"27\": 1}, \"11\": {\"11\": 8, \"15\": 1, \"37\": 1}, \"45\": {\"45\": 7, \"4\": 1}, \"21\": {\"21\": 11, \"19\": 1}, \"46\": {\"46\": 9, \"55\": 1}, \"25\": {\"25\": 12}, \"36\": {\"36\": 10}, \"53\": {\"53\": 10, \"17\": 1, \"36\": 1}, \"28\": {\"28\": 10, \"0\": 2}, \"40\": {\"40\": 9, \"19\": 1}, \"33\": {\"33\": 10}, \"44\": {\"44\": 10}, \"3\": {\"3\": 10, \"29\": 1, \"34\": 1}, \"17\": {\"17\": 12}, \"32\": {\"32\": 10}, \"10\": {\"10\": 8, \"13\": 1, \"14\": 1}, \"52\": {\"52\": 9, \"15\": 1}, \"50\": {\"3\": 1, \"50\": 6, \"21\": 1}, \"29\": {\"29\": 5, \"44\": 1}}}, \"per_domain_accuracy\": {\"ORACLE.run1_14\": {\"accuracy\": 0.9083333333333333, \"source?\": true}, \"ORACLE.run1_20\": {\"accuracy\": 0.88984375, \"source?\": true}, \"ORACLE.run1_38\": {\"accuracy\": 0.9161458333333333, \"source?\": true}, \"ORACLE.run1_8\": {\"accuracy\": 0.8903645833333333, \"source?\": true}, \"ORACLE.run1_50\": {\"accuracy\": 0.9114583333333334, \"source?\": true}, \"ORACLE.run1_32\": {\"accuracy\": 0.8877604166666667, \"source?\": true}, \"ORACLE.run1_26\": {\"accuracy\": 0.7627604166666667, \"source?\": true}, \"ORACLE.run1_44\": {\"accuracy\": 0.79296875, \"source?\": true}, \"CORES_3\": {\"accuracy\": 0.8640625, \"source?\": false}, \"CORES_4\": {\"accuracy\": 0.8515625, \"source?\": false}, \"CORES_5\": {\"accuracy\": 0.8671875, \"source?\": false}, \"CORES_1\": {\"accuracy\": 0.8796875, \"source?\": false}, \"CORES_2\": {\"accuracy\": 0.8703125, \"source?\": false}}}, \"history\": {\"epoch_indices\": [1, 2, 3, 4, 5, 6, 7, 8, 9, 10], \"train_label_loss\": [0.868300052894102, 0.7003802836883725, 0.49535598502815925, 0.41980215195494347, 0.40028572618639807, 0.3831269210499678, 0.34518785957188813, 0.3286690124407566, 0.30740524240425743, 0.2961211769579677], \"source_val_label_loss\": [24.204261779785156, 0.5960138440132141, 0.5359607934951782, 0.48099222779273987, 0.43125420808792114, 0.37818723917007446, 0.3793365955352783, 0.34510594606399536, 0.34181588888168335, 0.30568161606788635], \"target_val_label_loss\": [206.0450897216797, 4.399637699127197, 8.139348983764648, 7.653205394744873, 2.732011318206787, 0.984589159488678, 5.489275932312012, 1.0285834074020386, 6.600411891937256, 5.5765228271484375], \"source_val_acc_label\": [0.61416015625, 0.7860026041666667, 0.8012044270833333, 0.8318684895833334, 0.8476236979166667, 0.8699544270833334, 0.8627604166666667, 0.87861328125, 0.8786458333333333, 0.8915364583333333], \"target_val_acc_label\": [0.6615625, 0.799375, 0.8246875, 0.8375, 0.8378125, 0.8665625, 0.8359375, 0.8496875, 0.8053125, 0.8071875]}, \"dataset_metrics\": {\"source\": {\"train\": {\"n_unique_x\": 179200, \"n_unique_y\": 16, \"n_batch/episode\": 6720}, \"val\": {\"n_unique_x\": 38400, \"n_unique_y\": 16, \"n_batch/episode\": 960}, \"test\": {\"n_unique_x\": 38400, \"n_unique_y\": 16, \"n_batch/episode\": 960}}, \"target\": {\"train\": {\"n_unique_x\": 20300, \"n_unique_y\": 58, \"n_batch/episode\": 733}, \"val\": {\"n_unique_x\": 4332, \"n_unique_y\": 58, \"n_batch/episode\": 100}, \"test\": {\"n_unique_x\": 4332, \"n_unique_y\": 58, \"n_batch/episode\": 100}}}}'"
      ]
     },
     "execution_count": 29,
     "metadata": {},
     "output_type": "execute_result"
    }
   ],
   "source": [
    "json.dumps(experiment)"
   ]
  }
 ],
 "metadata": {
  "celltoolbar": "Tags",
  "kernelspec": {
   "display_name": "Python 3 (ipykernel)",
   "language": "python",
   "name": "python3"
  },
  "language_info": {
   "codemirror_mode": {
    "name": "ipython",
    "version": 3
   },
   "file_extension": ".py",
   "mimetype": "text/x-python",
   "name": "python",
   "nbconvert_exporter": "python",
   "pygments_lexer": "ipython3",
   "version": "3.8.10"
  },
  "papermill": {
   "default_parameters": {},
   "duration": 1890.254169,
   "end_time": "2022-03-07T09:29:24.265361",
   "environment_variables": {},
   "exception": null,
   "input_path": "/mnt/wd500GB/CSC500/csc500-main/csc500-notebooks/templates/tl_ptn_template.ipynb",
   "output_path": "trial.ipynb",
   "parameters": {
    "parameters": {
     "BEST_MODEL_PATH": "./best_model.pth",
     "NUM_LOGS_PER_EPOCH": 10,
     "criteria_for_best": "target_loss",
     "dataset_seed": 1337,
     "datasets": [
      {
       "domain_prefix": "CORES_",
       "domains": [
        1,
        2,
        3,
        4,
        5
       ],
       "episode_transforms": [],
       "labels": [
        "1-10.",
        "1-11.",
        "1-15.",
        "1-16.",
        "1-17.",
        "1-18.",
        "1-19.",
        "10-4.",
        "10-7.",
        "11-1.",
        "11-14.",
        "11-17.",
        "11-20.",
        "11-7.",
        "13-20.",
        "13-8.",
        "14-10.",
        "14-11.",
        "14-14.",
        "14-7.",
        "15-1.",
        "15-20.",
        "16-1.",
        "16-16.",
        "17-10.",
        "17-11.",
        "17-2.",
        "19-1.",
        "19-16.",
        "19-19.",
        "19-20.",
        "19-3.",
        "2-10.",
        "2-11.",
        "2-17.",
        "2-18.",
        "2-20.",
        "2-3.",
        "2-4.",
        "2-5.",
        "2-6.",
        "2-7.",
        "2-8.",
        "3-13.",
        "3-18.",
        "3-3.",
        "4-1.",
        "4-10.",
        "4-11.",
        "4-19.",
        "5-5.",
        "6-15.",
        "7-10.",
        "7-14.",
        "8-18.",
        "8-20.",
        "8-3.",
        "8-8."
       ],
       "num_examples_per_domain_per_label": 100,
       "pickle_path": "/mnt/wd500GB/CSC500/csc500-main/datasets/cores.stratified_ds.2022A.pkl",
       "source_or_target_dataset": "target",
       "x_transforms": [
        "unit_power"
       ]
      },
      {
       "domain_prefix": "ORACLE.run1_",
       "domains": [
        32,
        38,
        8,
        44,
        14,
        50,
        20,
        26
       ],
       "episode_transforms": [],
       "labels": [
        "3123D52",
        "3123D65",
        "3123D79",
        "3123D80",
        "3123D54",
        "3123D70",
        "3123D7B",
        "3123D89",
        "3123D58",
        "3123D76",
        "3123D7D",
        "3123EFE",
        "3123D64",
        "3123D78",
        "3123D7E",
        "3124E4A"
       ],
       "num_examples_per_domain_per_label": 2000,
       "pickle_path": "/mnt/wd500GB/CSC500/csc500-main/datasets/oracle.Run1_framed_2000Examples_stratified_ds.2022A.pkl",
       "source_or_target_dataset": "source",
       "x_transforms": [
        "unit_power"
       ]
      }
     ],
     "device": "cuda",
     "experiment_name": "tl_1_cores-oracle.run1",
     "lr": 0.001,
     "n_epoch": 50,
     "n_query": 2,
     "n_shot": 3,
     "n_way": 16,
     "patience": 3,
     "seed": 1337,
     "test_k_factor": 2,
     "torch_default_dtype": "torch.float32",
     "train_k_factor": 3,
     "val_k_factor": 2,
     "x_net": [
      {
       "class": "nnReshape",
       "kargs": {
        "shape": [
         -1,
         1,
         2,
         256
        ]
       }
      },
      {
       "class": "Conv2d",
       "kargs": {
        "bias": false,
        "in_channels": 1,
        "kernel_size": [
         1,
         7
        ],
        "out_channels": 256,
        "padding": [
         0,
         3
        ]
       }
      },
      {
       "class": "ReLU",
       "kargs": {
        "inplace": true
       }
      },
      {
       "class": "BatchNorm2d",
       "kargs": {
        "num_features": 256
       }
      },
      {
       "class": "Conv2d",
       "kargs": {
        "bias": true,
        "in_channels": 256,
        "kernel_size": [
         2,
         7
        ],
        "out_channels": 80,
        "padding": [
         0,
         3
        ]
       }
      },
      {
       "class": "ReLU",
       "kargs": {
        "inplace": true
       }
      },
      {
       "class": "BatchNorm2d",
       "kargs": {
        "num_features": 80
       }
      },
      {
       "class": "Flatten",
       "kargs": {}
      },
      {
       "class": "Linear",
       "kargs": {
        "in_features": 20480,
        "out_features": 256
       }
      },
      {
       "class": "ReLU",
       "kargs": {
        "inplace": true
       }
      },
      {
       "class": "BatchNorm1d",
       "kargs": {
        "num_features": 256
       }
      },
      {
       "class": "Linear",
       "kargs": {
        "in_features": 256,
        "out_features": 256
       }
      }
     ]
    }
   },
   "start_time": "2022-03-07T08:57:54.011192",
   "version": "2.3.4"
  }
 },
 "nbformat": 4,
 "nbformat_minor": 5
}