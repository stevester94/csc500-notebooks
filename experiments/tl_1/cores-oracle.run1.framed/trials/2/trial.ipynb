{
 "cells": [
  {
   "cell_type": "markdown",
   "id": "9fea5f46",
   "metadata": {
    "papermill": {
     "duration": 0.018314,
     "end_time": "2022-03-07T08:50:10.130538",
     "exception": false,
     "start_time": "2022-03-07T08:50:10.112224",
     "status": "completed"
    },
    "tags": []
   },
   "source": [
    "# Transfer Learning Template"
   ]
  },
  {
   "cell_type": "code",
   "execution_count": 1,
   "id": "0902182a",
   "metadata": {
    "execution": {
     "iopub.execute_input": "2022-03-07T08:50:10.165497Z",
     "iopub.status.busy": "2022-03-07T08:50:10.164733Z",
     "iopub.status.idle": "2022-03-07T08:50:10.928637Z",
     "shell.execute_reply": "2022-03-07T08:50:10.929047Z"
    },
    "papermill": {
     "duration": 0.786314,
     "end_time": "2022-03-07T08:50:10.929250",
     "exception": false,
     "start_time": "2022-03-07T08:50:10.142936",
     "status": "completed"
    },
    "tags": []
   },
   "outputs": [],
   "source": [
    "%load_ext autoreload\n",
    "%autoreload 2\n",
    "%matplotlib inline\n",
    "\n",
    "    \n",
    "import os, json, sys, time, random\n",
    "import numpy as np\n",
    "import torch\n",
    "from torch.optim import Adam\n",
    "from  easydict import EasyDict\n",
    "import matplotlib.pyplot as plt\n",
    "\n",
    "from steves_models.steves_ptn import Steves_Prototypical_Network\n",
    "\n",
    "from steves_utils.lazy_iterable_wrapper import Lazy_Iterable_Wrapper\n",
    "from steves_utils.iterable_aggregator import Iterable_Aggregator\n",
    "from steves_utils.ptn_train_eval_test_jig import  PTN_Train_Eval_Test_Jig\n",
    "from steves_utils.torch_sequential_builder import build_sequential\n",
    "from steves_utils.torch_utils import get_dataset_metrics, ptn_confusion_by_domain_over_dataloader\n",
    "from steves_utils.utils_v2 import (per_domain_accuracy_from_confusion, get_datasets_base_path)\n",
    "from steves_utils.PTN.utils import independent_accuracy_assesment\n",
    "\n",
    "from torch.utils.data import DataLoader\n",
    "\n",
    "from steves_utils.stratified_dataset.episodic_accessor import Episodic_Accessor_Factory\n",
    "\n",
    "from steves_utils.ptn_do_report import (\n",
    "    get_loss_curve,\n",
    "    get_results_table,\n",
    "    get_parameters_table,\n",
    "    get_domain_accuracies,\n",
    ")\n",
    "\n",
    "from steves_utils.transforms import get_chained_transform"
   ]
  },
  {
   "cell_type": "markdown",
   "id": "41c840b4",
   "metadata": {
    "papermill": {
     "duration": 0.012366,
     "end_time": "2022-03-07T08:50:10.959685",
     "exception": false,
     "start_time": "2022-03-07T08:50:10.947319",
     "status": "completed"
    },
    "tags": []
   },
   "source": [
    "# Allowed Parameters\n",
    "These are allowed parameters, not defaults\n",
    "Each of these values need to be present in the injected parameters (the notebook will raise an exception if they are not present)\n",
    "\n",
    "Papermill uses the cell tag \"parameters\" to inject the real parameters below this cell.\n",
    "Enable tags to see what I mean"
   ]
  },
  {
   "cell_type": "code",
   "execution_count": 2,
   "id": "fd44eb83",
   "metadata": {
    "execution": {
     "iopub.execute_input": "2022-03-07T08:50:10.987511Z",
     "iopub.status.busy": "2022-03-07T08:50:10.987011Z",
     "iopub.status.idle": "2022-03-07T08:50:11.000336Z",
     "shell.execute_reply": "2022-03-07T08:50:10.999850Z"
    },
    "papermill": {
     "duration": 0.028417,
     "end_time": "2022-03-07T08:50:11.000437",
     "exception": false,
     "start_time": "2022-03-07T08:50:10.972020",
     "status": "completed"
    },
    "tags": []
   },
   "outputs": [],
   "source": [
    "required_parameters = {\n",
    "    \"experiment_name\",\n",
    "    \"lr\",\n",
    "    \"device\",\n",
    "    \"seed\",\n",
    "    \"dataset_seed\",\n",
    "    \"n_shot\",\n",
    "    \"n_query\",\n",
    "    \"n_way\",\n",
    "    \"train_k_factor\",\n",
    "    \"val_k_factor\",\n",
    "    \"test_k_factor\",\n",
    "    \"n_epoch\",\n",
    "    \"patience\",\n",
    "    \"criteria_for_best\",\n",
    "    \"x_net\",\n",
    "    \"datasets\",\n",
    "    \"torch_default_dtype\",\n",
    "    \"NUM_LOGS_PER_EPOCH\",\n",
    "    \"BEST_MODEL_PATH\",\n",
    "}"
   ]
  },
  {
   "cell_type": "code",
   "execution_count": 3,
   "id": "fa3f0049",
   "metadata": {
    "execution": {
     "iopub.execute_input": "2022-03-07T08:50:11.039026Z",
     "iopub.status.busy": "2022-03-07T08:50:11.038733Z",
     "iopub.status.idle": "2022-03-07T08:50:11.052401Z",
     "shell.execute_reply": "2022-03-07T08:50:11.051908Z"
    },
    "papermill": {
     "duration": 0.034403,
     "end_time": "2022-03-07T08:50:11.052506",
     "exception": false,
     "start_time": "2022-03-07T08:50:11.018103",
     "status": "completed"
    },
    "tags": [
     "parameters"
    ]
   },
   "outputs": [],
   "source": [
    "from steves_utils.CORES.utils import (\n",
    "    ALL_NODES,\n",
    "    ALL_NODES_MINIMUM_1000_EXAMPLES,\n",
    "    ALL_DAYS\n",
    ")\n",
    "\n",
    "from steves_utils.ORACLE.utils_v2 import (\n",
    "    ALL_DISTANCES_FEET_NARROWED,\n",
    "    ALL_RUNS,\n",
    "    ALL_SERIAL_NUMBERS,\n",
    ")\n",
    "\n",
    "standalone_parameters = {}\n",
    "standalone_parameters[\"experiment_name\"] = \"STANDALONE PTN\"\n",
    "standalone_parameters[\"lr\"] = 0.001\n",
    "standalone_parameters[\"device\"] = \"cuda\"\n",
    "\n",
    "standalone_parameters[\"seed\"] = 1337\n",
    "standalone_parameters[\"dataset_seed\"] = 1337\n",
    "\n",
    "standalone_parameters[\"n_way\"] = 8\n",
    "standalone_parameters[\"n_shot\"] = 3\n",
    "standalone_parameters[\"n_query\"]  = 2\n",
    "standalone_parameters[\"train_k_factor\"] = 1\n",
    "standalone_parameters[\"val_k_factor\"] = 2\n",
    "standalone_parameters[\"test_k_factor\"] = 2\n",
    "\n",
    "\n",
    "standalone_parameters[\"n_epoch\"] = 50\n",
    "\n",
    "standalone_parameters[\"patience\"] = 10\n",
    "standalone_parameters[\"criteria_for_best\"] = \"source_loss\"\n",
    "\n",
    "standalone_parameters[\"datasets\"] = [\n",
    "    {\n",
    "        \"labels\": ALL_SERIAL_NUMBERS,\n",
    "        \"domains\": ALL_DISTANCES_FEET_NARROWED,\n",
    "        \"num_examples_per_domain_per_label\": 100,\n",
    "        \"pickle_path\": os.path.join(get_datasets_base_path(), \"oracle.Run1_framed_2000Examples_stratified_ds.2022A.pkl\"),\n",
    "        \"source_or_target_dataset\": \"source\",\n",
    "        \"x_transforms\": [\"unit_mag\", \"minus_two\"],\n",
    "        \"episode_transforms\": [],\n",
    "        \"domain_prefix\": \"ORACLE_\"\n",
    "    },\n",
    "    {\n",
    "        \"labels\": ALL_NODES,\n",
    "        \"domains\": ALL_DAYS,\n",
    "        \"num_examples_per_domain_per_label\": 100,\n",
    "        \"pickle_path\": os.path.join(get_datasets_base_path(), \"cores.stratified_ds.2022A.pkl\"),\n",
    "        \"source_or_target_dataset\": \"target\",\n",
    "        \"x_transforms\": [\"unit_power\", \"times_zero\"],\n",
    "        \"episode_transforms\": [],\n",
    "        \"domain_prefix\": \"CORES_\"\n",
    "    }   \n",
    "]\n",
    "\n",
    "standalone_parameters[\"torch_default_dtype\"] = \"torch.float32\" \n",
    "\n",
    "\n",
    "\n",
    "standalone_parameters[\"x_net\"] =     [\n",
    "    {\"class\": \"nnReshape\", \"kargs\": {\"shape\":[-1, 1, 2, 256]}},\n",
    "    {\"class\": \"Conv2d\", \"kargs\": { \"in_channels\":1, \"out_channels\":256, \"kernel_size\":(1,7), \"bias\":False, \"padding\":(0,3), },},\n",
    "    {\"class\": \"ReLU\", \"kargs\": {\"inplace\": True}},\n",
    "    {\"class\": \"BatchNorm2d\", \"kargs\": {\"num_features\":256}},\n",
    "\n",
    "    {\"class\": \"Conv2d\", \"kargs\": { \"in_channels\":256, \"out_channels\":80, \"kernel_size\":(2,7), \"bias\":True, \"padding\":(0,3), },},\n",
    "    {\"class\": \"ReLU\", \"kargs\": {\"inplace\": True}},\n",
    "    {\"class\": \"BatchNorm2d\", \"kargs\": {\"num_features\":80}},\n",
    "    {\"class\": \"Flatten\", \"kargs\": {}},\n",
    "\n",
    "    {\"class\": \"Linear\", \"kargs\": {\"in_features\": 80*256, \"out_features\": 256}}, # 80 units per IQ pair\n",
    "    {\"class\": \"ReLU\", \"kargs\": {\"inplace\": True}},\n",
    "    {\"class\": \"BatchNorm1d\", \"kargs\": {\"num_features\":256}},\n",
    "\n",
    "    {\"class\": \"Linear\", \"kargs\": {\"in_features\": 256, \"out_features\": 256}},\n",
    "]\n",
    "\n",
    "# Parameters relevant to results\n",
    "# These parameters will basically never need to change\n",
    "standalone_parameters[\"NUM_LOGS_PER_EPOCH\"] = 10\n",
    "standalone_parameters[\"BEST_MODEL_PATH\"] = \"./best_model.pth\"\n",
    "\n",
    "\n",
    "\n",
    "\n"
   ]
  },
  {
   "cell_type": "code",
   "execution_count": 4,
   "id": "b040288a",
   "metadata": {
    "execution": {
     "iopub.execute_input": "2022-03-07T08:50:11.093377Z",
     "iopub.status.busy": "2022-03-07T08:50:11.092804Z",
     "iopub.status.idle": "2022-03-07T08:50:11.103086Z",
     "shell.execute_reply": "2022-03-07T08:50:11.103392Z"
    },
    "papermill": {
     "duration": 0.032904,
     "end_time": "2022-03-07T08:50:11.103489",
     "exception": false,
     "start_time": "2022-03-07T08:50:11.070585",
     "status": "completed"
    },
    "tags": [
     "injected-parameters"
    ]
   },
   "outputs": [],
   "source": [
    "# Parameters\n",
    "parameters = {\n",
    "    \"experiment_name\": \"tl_1_cores-oracle.run1\",\n",
    "    \"device\": \"cuda\",\n",
    "    \"lr\": 0.001,\n",
    "    \"seed\": 1337,\n",
    "    \"dataset_seed\": 1337,\n",
    "    \"n_shot\": 3,\n",
    "    \"n_query\": 2,\n",
    "    \"train_k_factor\": 3,\n",
    "    \"val_k_factor\": 2,\n",
    "    \"test_k_factor\": 2,\n",
    "    \"torch_default_dtype\": \"torch.float32\",\n",
    "    \"n_epoch\": 50,\n",
    "    \"patience\": 3,\n",
    "    \"criteria_for_best\": \"target_loss\",\n",
    "    \"x_net\": [\n",
    "        {\"class\": \"nnReshape\", \"kargs\": {\"shape\": [-1, 1, 2, 256]}},\n",
    "        {\n",
    "            \"class\": \"Conv2d\",\n",
    "            \"kargs\": {\n",
    "                \"in_channels\": 1,\n",
    "                \"out_channels\": 256,\n",
    "                \"kernel_size\": [1, 7],\n",
    "                \"bias\": False,\n",
    "                \"padding\": [0, 3],\n",
    "            },\n",
    "        },\n",
    "        {\"class\": \"ReLU\", \"kargs\": {\"inplace\": True}},\n",
    "        {\"class\": \"BatchNorm2d\", \"kargs\": {\"num_features\": 256}},\n",
    "        {\n",
    "            \"class\": \"Conv2d\",\n",
    "            \"kargs\": {\n",
    "                \"in_channels\": 256,\n",
    "                \"out_channels\": 80,\n",
    "                \"kernel_size\": [2, 7],\n",
    "                \"bias\": True,\n",
    "                \"padding\": [0, 3],\n",
    "            },\n",
    "        },\n",
    "        {\"class\": \"ReLU\", \"kargs\": {\"inplace\": True}},\n",
    "        {\"class\": \"BatchNorm2d\", \"kargs\": {\"num_features\": 80}},\n",
    "        {\"class\": \"Flatten\", \"kargs\": {}},\n",
    "        {\"class\": \"Linear\", \"kargs\": {\"in_features\": 20480, \"out_features\": 256}},\n",
    "        {\"class\": \"ReLU\", \"kargs\": {\"inplace\": True}},\n",
    "        {\"class\": \"BatchNorm1d\", \"kargs\": {\"num_features\": 256}},\n",
    "        {\"class\": \"Linear\", \"kargs\": {\"in_features\": 256, \"out_features\": 256}},\n",
    "    ],\n",
    "    \"NUM_LOGS_PER_EPOCH\": 10,\n",
    "    \"BEST_MODEL_PATH\": \"./best_model.pth\",\n",
    "    \"n_way\": 16,\n",
    "    \"datasets\": [\n",
    "        {\n",
    "            \"labels\": [\n",
    "                \"1-10.\",\n",
    "                \"1-11.\",\n",
    "                \"1-15.\",\n",
    "                \"1-16.\",\n",
    "                \"1-17.\",\n",
    "                \"1-18.\",\n",
    "                \"1-19.\",\n",
    "                \"10-4.\",\n",
    "                \"10-7.\",\n",
    "                \"11-1.\",\n",
    "                \"11-14.\",\n",
    "                \"11-17.\",\n",
    "                \"11-20.\",\n",
    "                \"11-7.\",\n",
    "                \"13-20.\",\n",
    "                \"13-8.\",\n",
    "                \"14-10.\",\n",
    "                \"14-11.\",\n",
    "                \"14-14.\",\n",
    "                \"14-7.\",\n",
    "                \"15-1.\",\n",
    "                \"15-20.\",\n",
    "                \"16-1.\",\n",
    "                \"16-16.\",\n",
    "                \"17-10.\",\n",
    "                \"17-11.\",\n",
    "                \"17-2.\",\n",
    "                \"19-1.\",\n",
    "                \"19-16.\",\n",
    "                \"19-19.\",\n",
    "                \"19-20.\",\n",
    "                \"19-3.\",\n",
    "                \"2-10.\",\n",
    "                \"2-11.\",\n",
    "                \"2-17.\",\n",
    "                \"2-18.\",\n",
    "                \"2-20.\",\n",
    "                \"2-3.\",\n",
    "                \"2-4.\",\n",
    "                \"2-5.\",\n",
    "                \"2-6.\",\n",
    "                \"2-7.\",\n",
    "                \"2-8.\",\n",
    "                \"3-13.\",\n",
    "                \"3-18.\",\n",
    "                \"3-3.\",\n",
    "                \"4-1.\",\n",
    "                \"4-10.\",\n",
    "                \"4-11.\",\n",
    "                \"4-19.\",\n",
    "                \"5-5.\",\n",
    "                \"6-15.\",\n",
    "                \"7-10.\",\n",
    "                \"7-14.\",\n",
    "                \"8-18.\",\n",
    "                \"8-20.\",\n",
    "                \"8-3.\",\n",
    "                \"8-8.\",\n",
    "            ],\n",
    "            \"domains\": [1, 2, 3, 4, 5],\n",
    "            \"num_examples_per_domain_per_label\": 100,\n",
    "            \"pickle_path\": \"/mnt/wd500GB/CSC500/csc500-main/datasets/cores.stratified_ds.2022A.pkl\",\n",
    "            \"source_or_target_dataset\": \"source\",\n",
    "            \"x_transforms\": [],\n",
    "            \"episode_transforms\": [],\n",
    "            \"domain_prefix\": \"CORES_\",\n",
    "        },\n",
    "        {\n",
    "            \"labels\": [\n",
    "                \"3123D52\",\n",
    "                \"3123D65\",\n",
    "                \"3123D79\",\n",
    "                \"3123D80\",\n",
    "                \"3123D54\",\n",
    "                \"3123D70\",\n",
    "                \"3123D7B\",\n",
    "                \"3123D89\",\n",
    "                \"3123D58\",\n",
    "                \"3123D76\",\n",
    "                \"3123D7D\",\n",
    "                \"3123EFE\",\n",
    "                \"3123D64\",\n",
    "                \"3123D78\",\n",
    "                \"3123D7E\",\n",
    "                \"3124E4A\",\n",
    "            ],\n",
    "            \"domains\": [32, 38, 8, 44, 14, 50, 20, 26],\n",
    "            \"num_examples_per_domain_per_label\": 2000,\n",
    "            \"pickle_path\": \"/mnt/wd500GB/CSC500/csc500-main/datasets/oracle.Run1_framed_2000Examples_stratified_ds.2022A.pkl\",\n",
    "            \"source_or_target_dataset\": \"target\",\n",
    "            \"x_transforms\": [],\n",
    "            \"episode_transforms\": [],\n",
    "            \"domain_prefix\": \"ORACLE.run1_\",\n",
    "        },\n",
    "    ],\n",
    "}\n"
   ]
  },
  {
   "cell_type": "code",
   "execution_count": 5,
   "id": "8fa1cc33",
   "metadata": {
    "execution": {
     "iopub.execute_input": "2022-03-07T08:50:11.136579Z",
     "iopub.status.busy": "2022-03-07T08:50:11.136305Z",
     "iopub.status.idle": "2022-03-07T08:50:11.149463Z",
     "shell.execute_reply": "2022-03-07T08:50:11.149860Z"
    },
    "papermill": {
     "duration": 0.030897,
     "end_time": "2022-03-07T08:50:11.149988",
     "exception": false,
     "start_time": "2022-03-07T08:50:11.119091",
     "status": "completed"
    },
    "tags": []
   },
   "outputs": [],
   "source": [
    "# Set this to True if you want to run this template directly\n",
    "STANDALONE = False\n",
    "if STANDALONE:\n",
    "    print(\"parameters not injected, running with standalone_parameters\")\n",
    "    parameters = standalone_parameters\n",
    "\n",
    "if not 'parameters' in locals() and not 'parameters' in globals():\n",
    "    raise Exception(\"Parameter injection failed\")\n",
    "\n",
    "#Use an easy dict for all the parameters\n",
    "p = EasyDict(parameters)\n",
    "\n",
    "supplied_keys = set(p.keys())\n",
    "\n",
    "if  supplied_keys != required_parameters:\n",
    "    print(\"Parameters are incorrect\")\n",
    "    if len(supplied_keys - required_parameters)>0: print(\"Shouldn't have:\", str(supplied_keys - required_parameters))\n",
    "    if len(required_parameters - supplied_keys)>0: print(\"Need to have:\", str(required_parameters - supplied_keys))\n",
    "    raise RuntimeError(\"Parameters are incorrect\")\n",
    "\n"
   ]
  },
  {
   "cell_type": "code",
   "execution_count": 6,
   "id": "3a028d58",
   "metadata": {
    "execution": {
     "iopub.execute_input": "2022-03-07T08:50:11.182567Z",
     "iopub.status.busy": "2022-03-07T08:50:11.182305Z",
     "iopub.status.idle": "2022-03-07T08:50:11.191538Z",
     "shell.execute_reply": "2022-03-07T08:50:11.191752Z"
    },
    "papermill": {
     "duration": 0.023864,
     "end_time": "2022-03-07T08:50:11.191823",
     "exception": false,
     "start_time": "2022-03-07T08:50:11.167959",
     "status": "completed"
    },
    "tags": []
   },
   "outputs": [],
   "source": [
    "###################################\n",
    "# Set the RNGs and make it all deterministic\n",
    "###################################\n",
    "np.random.seed(p.seed)\n",
    "random.seed(p.seed)\n",
    "torch.manual_seed(p.seed)\n",
    "\n",
    "torch.use_deterministic_algorithms(True) "
   ]
  },
  {
   "cell_type": "code",
   "execution_count": 7,
   "id": "b691acf6",
   "metadata": {
    "execution": {
     "iopub.execute_input": "2022-03-07T08:50:11.222317Z",
     "iopub.status.busy": "2022-03-07T08:50:11.222062Z",
     "iopub.status.idle": "2022-03-07T08:50:11.231062Z",
     "shell.execute_reply": "2022-03-07T08:50:11.230833Z"
    },
    "papermill": {
     "duration": 0.023154,
     "end_time": "2022-03-07T08:50:11.231117",
     "exception": false,
     "start_time": "2022-03-07T08:50:11.207963",
     "status": "completed"
    },
    "tags": []
   },
   "outputs": [],
   "source": [
    "###########################################\n",
    "# The stratified datasets honor this\n",
    "###########################################\n",
    "torch.set_default_dtype(eval(p.torch_default_dtype))"
   ]
  },
  {
   "cell_type": "code",
   "execution_count": 8,
   "id": "b5fba671",
   "metadata": {
    "execution": {
     "iopub.execute_input": "2022-03-07T08:50:11.263531Z",
     "iopub.status.busy": "2022-03-07T08:50:11.263266Z",
     "iopub.status.idle": "2022-03-07T08:50:11.300906Z",
     "shell.execute_reply": "2022-03-07T08:50:11.300391Z"
    },
    "papermill": {
     "duration": 0.052413,
     "end_time": "2022-03-07T08:50:11.301014",
     "exception": false,
     "start_time": "2022-03-07T08:50:11.248601",
     "status": "completed"
    },
    "tags": []
   },
   "outputs": [],
   "source": [
    "###################################\n",
    "# Build the network(s)\n",
    "# Note: It's critical to do this AFTER setting the RNG\n",
    "###################################\n",
    "x_net = build_sequential(p.x_net)"
   ]
  },
  {
   "cell_type": "code",
   "execution_count": 9,
   "id": "5d7e61cc",
   "metadata": {
    "execution": {
     "iopub.execute_input": "2022-03-07T08:50:11.333884Z",
     "iopub.status.busy": "2022-03-07T08:50:11.333619Z",
     "iopub.status.idle": "2022-03-07T08:50:11.342650Z",
     "shell.execute_reply": "2022-03-07T08:50:11.342424Z"
    },
    "papermill": {
     "duration": 0.023528,
     "end_time": "2022-03-07T08:50:11.342722",
     "exception": false,
     "start_time": "2022-03-07T08:50:11.319194",
     "status": "completed"
    },
    "tags": []
   },
   "outputs": [],
   "source": [
    "start_time_secs = time.time()"
   ]
  },
  {
   "cell_type": "code",
   "execution_count": 10,
   "id": "c6b67dfd",
   "metadata": {
    "execution": {
     "iopub.execute_input": "2022-03-07T08:50:11.375444Z",
     "iopub.status.busy": "2022-03-07T08:50:11.375085Z",
     "iopub.status.idle": "2022-03-07T08:50:11.387456Z",
     "shell.execute_reply": "2022-03-07T08:50:11.387762Z"
    },
    "papermill": {
     "duration": 0.028325,
     "end_time": "2022-03-07T08:50:11.387867",
     "exception": false,
     "start_time": "2022-03-07T08:50:11.359542",
     "status": "completed"
    },
    "tags": []
   },
   "outputs": [],
   "source": [
    "p.domains_source = []\n",
    "p.domains_target = []\n",
    "\n",
    "\n",
    "train_original_source = []\n",
    "val_original_source   = []\n",
    "test_original_source  = []\n",
    "\n",
    "train_original_target = []\n",
    "val_original_target   = []\n",
    "test_original_target  = []"
   ]
  },
  {
   "cell_type": "code",
   "execution_count": 11,
   "id": "e3d9c3d3",
   "metadata": {
    "execution": {
     "iopub.execute_input": "2022-03-07T08:50:11.419983Z",
     "iopub.status.busy": "2022-03-07T08:50:11.419728Z",
     "iopub.status.idle": "2022-03-07T08:50:11.434608Z",
     "shell.execute_reply": "2022-03-07T08:50:11.434122Z"
    },
    "papermill": {
     "duration": 0.030178,
     "end_time": "2022-03-07T08:50:11.434728",
     "exception": false,
     "start_time": "2022-03-07T08:50:11.404550",
     "status": "completed"
    },
    "tags": []
   },
   "outputs": [],
   "source": [
    "# global_x_transform_func = lambda x: normalize(x.to(torch.get_default_dtype()), \"unit_power\") # unit_power, unit_mag\n",
    "# global_x_transform_func = lambda x: normalize(x, \"unit_power\") # unit_power, unit_mag"
   ]
  },
  {
   "cell_type": "code",
   "execution_count": 12,
   "id": "acb78fd2",
   "metadata": {
    "execution": {
     "iopub.execute_input": "2022-03-07T08:50:11.471650Z",
     "iopub.status.busy": "2022-03-07T08:50:11.471380Z",
     "iopub.status.idle": "2022-03-07T08:50:11.482298Z",
     "shell.execute_reply": "2022-03-07T08:50:11.482732Z"
    },
    "papermill": {
     "duration": 0.030624,
     "end_time": "2022-03-07T08:50:11.482855",
     "exception": false,
     "start_time": "2022-03-07T08:50:11.452231",
     "status": "completed"
    },
    "tags": []
   },
   "outputs": [],
   "source": [
    "def add_dataset(\n",
    "    labels,\n",
    "    domains,\n",
    "    pickle_path,\n",
    "    x_transforms,\n",
    "    episode_transforms,\n",
    "    domain_prefix,\n",
    "    num_examples_per_domain_per_label,\n",
    "    source_or_target_dataset:str,\n",
    "    iterator_seed=p.seed,\n",
    "    dataset_seed=p.dataset_seed,\n",
    "    n_shot=p.n_shot,\n",
    "    n_way=p.n_way,\n",
    "    n_query=p.n_query,\n",
    "    train_val_test_k_factors=(p.train_k_factor,p.val_k_factor,p.test_k_factor),\n",
    "):\n",
    "   \n",
    "    if x_transforms == []: x_transform = None\n",
    "    else: x_transform = get_chained_transform(x_transforms)\n",
    "    \n",
    "    if episode_transforms == []: episode_transform = None\n",
    "    else: raise Exception(\"episode_transforms not implemented\")\n",
    "    \n",
    "    episode_transform = lambda tup, _prefix=domain_prefix: (_prefix + str(tup[0]), tup[1])\n",
    "\n",
    "\n",
    "    eaf = Episodic_Accessor_Factory(\n",
    "        labels=labels,\n",
    "        domains=domains,\n",
    "        num_examples_per_domain_per_label=num_examples_per_domain_per_label,\n",
    "        iterator_seed=iterator_seed,\n",
    "        dataset_seed=dataset_seed,\n",
    "        n_shot=n_shot,\n",
    "        n_way=n_way,\n",
    "        n_query=n_query,\n",
    "        train_val_test_k_factors=train_val_test_k_factors,\n",
    "        pickle_path=pickle_path,\n",
    "        x_transform_func=x_transform,\n",
    "    )\n",
    "\n",
    "    train, val, test = eaf.get_train(), eaf.get_val(), eaf.get_test()\n",
    "    train = Lazy_Iterable_Wrapper(train, episode_transform)\n",
    "    val = Lazy_Iterable_Wrapper(val, episode_transform)\n",
    "    test = Lazy_Iterable_Wrapper(test, episode_transform)\n",
    "\n",
    "    if source_or_target_dataset==\"source\":\n",
    "        train_original_source.append(train)\n",
    "        val_original_source.append(val)\n",
    "        test_original_source.append(test)\n",
    "\n",
    "        p.domains_source.extend(\n",
    "            [domain_prefix + str(u) for u in domains]\n",
    "        )\n",
    "    elif source_or_target_dataset==\"target\":\n",
    "        train_original_target.append(train)\n",
    "        val_original_target.append(val)\n",
    "        test_original_target.append(test)\n",
    "        p.domains_target.extend(\n",
    "            [domain_prefix + str(u) for u in domains]\n",
    "        )\n",
    "    else:\n",
    "        raise Exception(f\"invalid source_or_target_dataset: {source_or_target_dataset}\")\n",
    "    "
   ]
  },
  {
   "cell_type": "code",
   "execution_count": 13,
   "id": "fe266617",
   "metadata": {
    "execution": {
     "iopub.execute_input": "2022-03-07T08:50:11.517646Z",
     "iopub.status.busy": "2022-03-07T08:50:11.517392Z",
     "iopub.status.idle": "2022-03-07T08:50:13.135479Z",
     "shell.execute_reply": "2022-03-07T08:50:13.135025Z"
    },
    "papermill": {
     "duration": 1.633462,
     "end_time": "2022-03-07T08:50:13.135591",
     "exception": false,
     "start_time": "2022-03-07T08:50:11.502129",
     "status": "completed"
    },
    "tags": []
   },
   "outputs": [],
   "source": [
    "for ds in p.datasets:\n",
    "    add_dataset(**ds)"
   ]
  },
  {
   "cell_type": "code",
   "execution_count": 14,
   "id": "b90d65ac",
   "metadata": {
    "execution": {
     "iopub.execute_input": "2022-03-07T08:50:13.169954Z",
     "iopub.status.busy": "2022-03-07T08:50:13.169694Z",
     "iopub.status.idle": "2022-03-07T08:50:13.179234Z",
     "shell.execute_reply": "2022-03-07T08:50:13.178850Z"
    },
    "papermill": {
     "duration": 0.024448,
     "end_time": "2022-03-07T08:50:13.179316",
     "exception": false,
     "start_time": "2022-03-07T08:50:13.154868",
     "status": "completed"
    },
    "tags": []
   },
   "outputs": [],
   "source": [
    "# from steves_utils.CORES.utils import (\n",
    "#     ALL_NODES,\n",
    "#     ALL_NODES_MINIMUM_1000_EXAMPLES,\n",
    "#     ALL_DAYS\n",
    "# )\n",
    "\n",
    "# add_dataset(\n",
    "#     labels=ALL_NODES,\n",
    "#     domains = ALL_DAYS,\n",
    "#     num_examples_per_domain_per_label=100,\n",
    "#     pickle_path=os.path.join(get_datasets_base_path(), \"cores.stratified_ds.2022A.pkl\"),\n",
    "#     source_or_target_dataset=\"target\",\n",
    "#     x_transform_func=global_x_transform_func,\n",
    "#     domain_modifier=lambda u: f\"cores_{u}\"\n",
    "# )"
   ]
  },
  {
   "cell_type": "code",
   "execution_count": 15,
   "id": "76db484d",
   "metadata": {
    "execution": {
     "iopub.execute_input": "2022-03-07T08:50:13.211101Z",
     "iopub.status.busy": "2022-03-07T08:50:13.210817Z",
     "iopub.status.idle": "2022-03-07T08:50:13.224275Z",
     "shell.execute_reply": "2022-03-07T08:50:13.223858Z"
    },
    "papermill": {
     "duration": 0.028767,
     "end_time": "2022-03-07T08:50:13.224373",
     "exception": false,
     "start_time": "2022-03-07T08:50:13.195606",
     "status": "completed"
    },
    "tags": []
   },
   "outputs": [],
   "source": [
    "# from steves_utils.ORACLE.utils_v2 import (\n",
    "#     ALL_DISTANCES_FEET,\n",
    "#     ALL_RUNS,\n",
    "#     ALL_SERIAL_NUMBERS,\n",
    "# )\n",
    "\n",
    "\n",
    "# add_dataset(\n",
    "#     labels=ALL_SERIAL_NUMBERS,\n",
    "#     domains = list(set(ALL_DISTANCES_FEET) - {2,62}),\n",
    "#     num_examples_per_domain_per_label=100,\n",
    "#     pickle_path=os.path.join(get_datasets_base_path(), \"oracle.Run2_framed_2000Examples_stratified_ds.2022A.pkl\"),\n",
    "#     source_or_target_dataset=\"source\",\n",
    "#     x_transform_func=global_x_transform_func,\n",
    "#     domain_modifier=lambda u: f\"oracle1_{u}\"\n",
    "# )\n"
   ]
  },
  {
   "cell_type": "code",
   "execution_count": 16,
   "id": "97dea9d2",
   "metadata": {
    "execution": {
     "iopub.execute_input": "2022-03-07T08:50:13.258940Z",
     "iopub.status.busy": "2022-03-07T08:50:13.258646Z",
     "iopub.status.idle": "2022-03-07T08:50:13.273988Z",
     "shell.execute_reply": "2022-03-07T08:50:13.273519Z"
    },
    "papermill": {
     "duration": 0.030841,
     "end_time": "2022-03-07T08:50:13.274086",
     "exception": false,
     "start_time": "2022-03-07T08:50:13.243245",
     "status": "completed"
    },
    "tags": []
   },
   "outputs": [],
   "source": [
    "# from steves_utils.ORACLE.utils_v2 import (\n",
    "#     ALL_DISTANCES_FEET,\n",
    "#     ALL_RUNS,\n",
    "#     ALL_SERIAL_NUMBERS,\n",
    "# )\n",
    "\n",
    "\n",
    "# add_dataset(\n",
    "#     labels=ALL_SERIAL_NUMBERS,\n",
    "#     domains = list(set(ALL_DISTANCES_FEET) - {2,62,56}),\n",
    "#     num_examples_per_domain_per_label=100,\n",
    "#     pickle_path=os.path.join(get_datasets_base_path(), \"oracle.Run2_framed_2000Examples_stratified_ds.2022A.pkl\"),\n",
    "#     source_or_target_dataset=\"source\",\n",
    "#     x_transform_func=global_x_transform_func,\n",
    "#     domain_modifier=lambda u: f\"oracle2_{u}\"\n",
    "# )"
   ]
  },
  {
   "cell_type": "code",
   "execution_count": 17,
   "id": "6f289866",
   "metadata": {
    "execution": {
     "iopub.execute_input": "2022-03-07T08:50:13.308436Z",
     "iopub.status.busy": "2022-03-07T08:50:13.308181Z",
     "iopub.status.idle": "2022-03-07T08:50:13.322642Z",
     "shell.execute_reply": "2022-03-07T08:50:13.322204Z"
    },
    "papermill": {
     "duration": 0.030061,
     "end_time": "2022-03-07T08:50:13.322748",
     "exception": false,
     "start_time": "2022-03-07T08:50:13.292687",
     "status": "completed"
    },
    "tags": []
   },
   "outputs": [],
   "source": [
    "# add_dataset(\n",
    "#     labels=list(range(19)),\n",
    "#     domains = [0,1,2],\n",
    "#     num_examples_per_domain_per_label=100,\n",
    "#     pickle_path=os.path.join(get_datasets_base_path(), \"metehan.stratified_ds.2022A.pkl\"),\n",
    "#     source_or_target_dataset=\"target\",\n",
    "#     x_transform_func=global_x_transform_func,\n",
    "#     domain_modifier=lambda u: f\"met_{u}\"\n",
    "# )"
   ]
  },
  {
   "cell_type": "code",
   "execution_count": 18,
   "id": "86a863c3",
   "metadata": {
    "execution": {
     "iopub.execute_input": "2022-03-07T08:50:13.355896Z",
     "iopub.status.busy": "2022-03-07T08:50:13.355637Z",
     "iopub.status.idle": "2022-03-07T08:50:13.364080Z",
     "shell.execute_reply": "2022-03-07T08:50:13.364289Z"
    },
    "papermill": {
     "duration": 0.023706,
     "end_time": "2022-03-07T08:50:13.364355",
     "exception": false,
     "start_time": "2022-03-07T08:50:13.340649",
     "status": "completed"
    },
    "tags": []
   },
   "outputs": [],
   "source": [
    "# # from steves_utils.wisig.utils import (\n",
    "# #     ALL_NODES_MINIMUM_100_EXAMPLES,\n",
    "# #     ALL_NODES_MINIMUM_500_EXAMPLES,\n",
    "# #     ALL_NODES_MINIMUM_1000_EXAMPLES,\n",
    "# #     ALL_DAYS\n",
    "# # )\n",
    "\n",
    "# import steves_utils.wisig.utils as wisig\n",
    "\n",
    "\n",
    "# add_dataset(\n",
    "#     labels=wisig.ALL_NODES_MINIMUM_100_EXAMPLES,\n",
    "#     domains = wisig.ALL_DAYS,\n",
    "#     num_examples_per_domain_per_label=100,\n",
    "#     pickle_path=os.path.join(get_datasets_base_path(), \"wisig.node3-19.stratified_ds.2022A.pkl\"),\n",
    "#     source_or_target_dataset=\"target\",\n",
    "#     x_transform_func=global_x_transform_func,\n",
    "#     domain_modifier=lambda u: f\"wisig_{u}\"\n",
    "# )"
   ]
  },
  {
   "cell_type": "code",
   "execution_count": 19,
   "id": "fd5442bc",
   "metadata": {
    "execution": {
     "iopub.execute_input": "2022-03-07T08:50:13.401173Z",
     "iopub.status.busy": "2022-03-07T08:50:13.400902Z",
     "iopub.status.idle": "2022-03-07T08:50:13.415824Z",
     "shell.execute_reply": "2022-03-07T08:50:13.415410Z"
    },
    "papermill": {
     "duration": 0.033665,
     "end_time": "2022-03-07T08:50:13.415922",
     "exception": false,
     "start_time": "2022-03-07T08:50:13.382257",
     "status": "completed"
    },
    "tags": []
   },
   "outputs": [],
   "source": [
    "###################################\n",
    "# Build the dataset\n",
    "###################################\n",
    "train_original_source = Iterable_Aggregator(train_original_source, p.seed)\n",
    "val_original_source = Iterable_Aggregator(val_original_source, p.seed)\n",
    "test_original_source = Iterable_Aggregator(test_original_source, p.seed)\n",
    "\n",
    "\n",
    "train_original_target = Iterable_Aggregator(train_original_target, p.seed)\n",
    "val_original_target = Iterable_Aggregator(val_original_target, p.seed)\n",
    "test_original_target = Iterable_Aggregator(test_original_target, p.seed)\n",
    "\n",
    "# For CNN We only use X and Y. And we only train on the source.\n",
    "# Properly form the data using a transform lambda and Lazy_Iterable_Wrapper. Finally wrap them in a dataloader\n",
    "\n",
    "transform_lambda = lambda ex: ex[1] # Original is (<domain>, <episode>) so we strip down to episode only\n",
    "\n",
    "train_processed_source = Lazy_Iterable_Wrapper(train_original_source, transform_lambda)\n",
    "val_processed_source   = Lazy_Iterable_Wrapper(val_original_source, transform_lambda)\n",
    "test_processed_source  = Lazy_Iterable_Wrapper(test_original_source, transform_lambda)\n",
    "\n",
    "train_processed_target = Lazy_Iterable_Wrapper(train_original_target, transform_lambda)\n",
    "val_processed_target   = Lazy_Iterable_Wrapper(val_original_target, transform_lambda)\n",
    "test_processed_target  = Lazy_Iterable_Wrapper(test_original_target, transform_lambda)\n",
    "\n",
    "datasets = EasyDict({\n",
    "    \"source\": {\n",
    "        \"original\": {\"train\":train_original_source, \"val\":val_original_source, \"test\":test_original_source},\n",
    "        \"processed\": {\"train\":train_processed_source, \"val\":val_processed_source, \"test\":test_processed_source}\n",
    "    },\n",
    "    \"target\": {\n",
    "        \"original\": {\"train\":train_original_target, \"val\":val_original_target, \"test\":test_original_target},\n",
    "        \"processed\": {\"train\":train_processed_target, \"val\":val_processed_target, \"test\":test_processed_target}\n",
    "    },\n",
    "})"
   ]
  },
  {
   "cell_type": "code",
   "execution_count": 20,
   "id": "5b3c01fc",
   "metadata": {
    "execution": {
     "iopub.execute_input": "2022-03-07T08:50:13.450365Z",
     "iopub.status.busy": "2022-03-07T08:50:13.450107Z",
     "iopub.status.idle": "2022-03-07T08:50:17.649585Z",
     "shell.execute_reply": "2022-03-07T08:50:17.649885Z"
    },
    "papermill": {
     "duration": 4.216693,
     "end_time": "2022-03-07T08:50:17.649967",
     "exception": false,
     "start_time": "2022-03-07T08:50:13.433274",
     "status": "completed"
    },
    "tags": []
   },
   "outputs": [
    {
     "name": "stdout",
     "output_type": "stream",
     "text": [
      "{'CORES_1', 'CORES_3', 'CORES_4', 'CORES_5', 'CORES_2'}\n"
     ]
    },
    {
     "name": "stdout",
     "output_type": "stream",
     "text": [
      "{'ORACLE.run1_50', 'ORACLE.run1_20', 'ORACLE.run1_26', 'ORACLE.run1_8', 'ORACLE.run1_44', 'ORACLE.run1_38', 'ORACLE.run1_14', 'ORACLE.run1_32'}\n"
     ]
    },
    {
     "name": "stdout",
     "output_type": "stream",
     "text": [
      "tensor([[[-0.0089, -0.0132,  0.0126,  ..., -0.0215, -0.0297,  0.0087],\n",
      "         [ 0.0047, -0.0256, -0.0276,  ..., -0.0239, -0.0096, -0.0198]],\n",
      "\n",
      "        [[ 0.0166,  0.0381, -0.0073,  ...,  0.0097,  0.0181,  0.0042],\n",
      "         [-0.0159, -0.0008,  0.0349,  ..., -0.0364, -0.0047,  0.0251]],\n",
      "\n",
      "        [[-0.0216, -0.0086,  0.0370,  ..., -0.0336, -0.0061,  0.0243],\n",
      "         [-0.0124, -0.0331, -0.0005,  ...,  0.0037, -0.0158, -0.0068]],\n",
      "\n",
      "        ...,\n",
      "\n",
      "        [[ 0.0166,  0.0204,  0.0110,  ..., -0.0348, -0.0398, -0.0109],\n",
      "         [ 0.0118,  0.0114, -0.0122,  ..., -0.0232,  0.0066,  0.0143]],\n",
      "\n",
      "        [[ 0.0084,  0.0084, -0.0037,  ..., -0.0018, -0.0091, -0.0008],\n",
      "         [ 0.0032,  0.0011, -0.0067,  ..., -0.0024,  0.0017, -0.0132]],\n",
      "\n",
      "        [[-0.0032,  0.0027,  0.0059,  ...,  0.0092,  0.0088, -0.0088],\n",
      "         [ 0.0070,  0.0082,  0.0080,  ...,  0.0125,  0.0016, -0.0012]]])\n"
     ]
    }
   ],
   "source": [
    "from steves_utils.transforms import get_average_magnitude, get_average_power\n",
    "\n",
    "print(set([u for u,_ in val_original_source]))\n",
    "print(set([u for u,_ in val_original_target]))\n",
    "\n",
    "s_x, s_y, q_x, q_y, _ = next(iter(train_processed_source))\n",
    "print(s_x)\n",
    "\n",
    "# for ds in [\n",
    "#     train_processed_source,\n",
    "#     val_processed_source,\n",
    "#     test_processed_source,\n",
    "#     train_processed_target,\n",
    "#     val_processed_target,\n",
    "#     test_processed_target\n",
    "# ]:\n",
    "#     for s_x, s_y, q_x, q_y, _ in ds:\n",
    "#         for X in (s_x, q_x):\n",
    "#             for x in X:\n",
    "#                 assert np.isclose(get_average_magnitude(x.numpy()), 1.0)\n",
    "#                 assert np.isclose(get_average_power(x.numpy()), 1.0)\n",
    "                "
   ]
  },
  {
   "cell_type": "code",
   "execution_count": 21,
   "id": "bbdacba1",
   "metadata": {
    "execution": {
     "iopub.execute_input": "2022-03-07T08:50:17.682104Z",
     "iopub.status.busy": "2022-03-07T08:50:17.681688Z",
     "iopub.status.idle": "2022-03-07T08:50:17.737934Z",
     "shell.execute_reply": "2022-03-07T08:50:17.737696Z"
    },
    "papermill": {
     "duration": 0.073406,
     "end_time": "2022-03-07T08:50:17.737997",
     "exception": false,
     "start_time": "2022-03-07T08:50:17.664591",
     "status": "completed"
    },
    "tags": []
   },
   "outputs": [
    {
     "name": "stdout",
     "output_type": "stream",
     "text": [
      "(2, 256)\n"
     ]
    }
   ],
   "source": [
    "###################################\n",
    "# Build the model\n",
    "###################################\n",
    "model = Steves_Prototypical_Network(x_net, device=p.device, x_shape=(2,256))\n",
    "optimizer = Adam(params=model.parameters(), lr=p.lr)"
   ]
  },
  {
   "cell_type": "code",
   "execution_count": 22,
   "id": "22b39ac5",
   "metadata": {
    "execution": {
     "iopub.execute_input": "2022-03-07T08:50:17.770251Z",
     "iopub.status.busy": "2022-03-07T08:50:17.769841Z",
     "iopub.status.idle": "2022-03-07T08:56:56.667633Z",
     "shell.execute_reply": "2022-03-07T08:56:56.667354Z"
    },
    "papermill": {
     "duration": 398.914685,
     "end_time": "2022-03-07T08:56:56.667697",
     "exception": false,
     "start_time": "2022-03-07T08:50:17.753012",
     "status": "completed"
    },
    "tags": []
   },
   "outputs": [
    {
     "name": "stdout",
     "output_type": "stream",
     "text": [
      "epoch: 1, [batch: 1 / 735], examples_per_second: 316.5615, train_label_loss: 1.8477, \n"
     ]
    },
    {
     "name": "stdout",
     "output_type": "stream",
     "text": [
      "epoch: 1, [batch: 74 / 735], examples_per_second: 3102.8704, train_label_loss: 0.2139, \n"
     ]
    },
    {
     "name": "stdout",
     "output_type": "stream",
     "text": [
      "epoch: 1, [batch: 147 / 735], examples_per_second: 3144.2132, train_label_loss: 0.4924, \n"
     ]
    },
    {
     "name": "stdout",
     "output_type": "stream",
     "text": [
      "epoch: 1, [batch: 221 / 735], examples_per_second: 3167.7344, train_label_loss: 0.1504, \n"
     ]
    },
    {
     "name": "stdout",
     "output_type": "stream",
     "text": [
      "epoch: 1, [batch: 294 / 735], examples_per_second: 3127.8317, train_label_loss: 0.0364, \n"
     ]
    },
    {
     "name": "stdout",
     "output_type": "stream",
     "text": [
      "epoch: 1, [batch: 368 / 735], examples_per_second: 3139.3951, train_label_loss: 0.1841, \n"
     ]
    },
    {
     "name": "stdout",
     "output_type": "stream",
     "text": [
      "epoch: 1, [batch: 441 / 735], examples_per_second: 3143.9929, train_label_loss: 0.0042, \n"
     ]
    },
    {
     "name": "stdout",
     "output_type": "stream",
     "text": [
      "epoch: 1, [batch: 514 / 735], examples_per_second: 3155.1044, train_label_loss: 0.0163, \n"
     ]
    },
    {
     "name": "stdout",
     "output_type": "stream",
     "text": [
      "epoch: 1, [batch: 588 / 735], examples_per_second: 3146.7256, train_label_loss: 0.0198, \n"
     ]
    },
    {
     "name": "stdout",
     "output_type": "stream",
     "text": [
      "epoch: 1, [batch: 661 / 735], examples_per_second: 3139.7131, train_label_loss: 0.0003, \n"
     ]
    },
    {
     "name": "stdout",
     "output_type": "stream",
     "text": [
      "=============================================================\n",
      "epoch: 1, source_val_acc_label: 0.9788, target_val_acc_label: 0.5321, source_val_label_loss: 0.0695, target_val_label_loss: 1.9121, \n",
      "=============================================================\n"
     ]
    },
    {
     "name": "stdout",
     "output_type": "stream",
     "text": [
      "New best\n"
     ]
    },
    {
     "name": "stdout",
     "output_type": "stream",
     "text": [
      "epoch: 2, [batch: 1 / 734], examples_per_second: 16.0521, train_label_loss: 0.0598, \n"
     ]
    },
    {
     "name": "stdout",
     "output_type": "stream",
     "text": [
      "epoch: 2, [batch: 74 / 734], examples_per_second: 3174.6977, train_label_loss: 0.1399, \n"
     ]
    },
    {
     "name": "stdout",
     "output_type": "stream",
     "text": [
      "epoch: 2, [batch: 147 / 734], examples_per_second: 3189.2642, train_label_loss: 0.0210, \n"
     ]
    },
    {
     "name": "stdout",
     "output_type": "stream",
     "text": [
      "epoch: 2, [batch: 220 / 734], examples_per_second: 3182.4186, train_label_loss: 0.1357, \n"
     ]
    },
    {
     "name": "stdout",
     "output_type": "stream",
     "text": [
      "epoch: 2, [batch: 294 / 734], examples_per_second: 3166.6501, train_label_loss: 0.0000, \n"
     ]
    },
    {
     "name": "stdout",
     "output_type": "stream",
     "text": [
      "epoch: 2, [batch: 367 / 734], examples_per_second: 3182.9996, train_label_loss: 0.1347, \n"
     ]
    },
    {
     "name": "stdout",
     "output_type": "stream",
     "text": [
      "epoch: 2, [batch: 440 / 734], examples_per_second: 3194.3150, train_label_loss: 0.0038, \n"
     ]
    },
    {
     "name": "stdout",
     "output_type": "stream",
     "text": [
      "epoch: 2, [batch: 514 / 734], examples_per_second: 3174.9316, train_label_loss: 0.1263, \n"
     ]
    },
    {
     "name": "stdout",
     "output_type": "stream",
     "text": [
      "epoch: 2, [batch: 587 / 734], examples_per_second: 3165.0306, train_label_loss: 0.0146, \n"
     ]
    },
    {
     "name": "stdout",
     "output_type": "stream",
     "text": [
      "epoch: 2, [batch: 660 / 734], examples_per_second: 3166.2690, train_label_loss: 0.0088, \n"
     ]
    },
    {
     "name": "stdout",
     "output_type": "stream",
     "text": [
      "=============================================================\n",
      "epoch: 2, source_val_acc_label: 0.9903, target_val_acc_label: 0.5482, source_val_label_loss: 0.0309, target_val_label_loss: 1.7238, \n",
      "=============================================================\n"
     ]
    },
    {
     "name": "stdout",
     "output_type": "stream",
     "text": [
      "New best\n"
     ]
    },
    {
     "name": "stdout",
     "output_type": "stream",
     "text": [
      "epoch: 3, [batch: 1 / 734], examples_per_second: 16.1300, train_label_loss: 0.0007, \n"
     ]
    },
    {
     "name": "stdout",
     "output_type": "stream",
     "text": [
      "epoch: 3, [batch: 74 / 734], examples_per_second: 3171.9589, train_label_loss: 0.0012, \n"
     ]
    },
    {
     "name": "stdout",
     "output_type": "stream",
     "text": [
      "epoch: 3, [batch: 147 / 734], examples_per_second: 3172.1573, train_label_loss: 0.0564, \n"
     ]
    },
    {
     "name": "stdout",
     "output_type": "stream",
     "text": [
      "epoch: 3, [batch: 220 / 734], examples_per_second: 3175.7551, train_label_loss: 0.0791, \n"
     ]
    },
    {
     "name": "stdout",
     "output_type": "stream",
     "text": [
      "epoch: 3, [batch: 294 / 734], examples_per_second: 3169.8660, train_label_loss: 0.0191, \n"
     ]
    },
    {
     "name": "stdout",
     "output_type": "stream",
     "text": [
      "epoch: 3, [batch: 367 / 734], examples_per_second: 3154.5864, train_label_loss: 0.0134, \n"
     ]
    },
    {
     "name": "stdout",
     "output_type": "stream",
     "text": [
      "epoch: 3, [batch: 440 / 734], examples_per_second: 3169.3129, train_label_loss: 0.0008, \n"
     ]
    },
    {
     "name": "stdout",
     "output_type": "stream",
     "text": [
      "epoch: 3, [batch: 514 / 734], examples_per_second: 3149.3613, train_label_loss: 0.0115, \n"
     ]
    },
    {
     "name": "stdout",
     "output_type": "stream",
     "text": [
      "epoch: 3, [batch: 587 / 734], examples_per_second: 3184.1950, train_label_loss: 0.0033, \n"
     ]
    },
    {
     "name": "stdout",
     "output_type": "stream",
     "text": [
      "epoch: 3, [batch: 660 / 734], examples_per_second: 3169.8424, train_label_loss: 0.0044, \n"
     ]
    },
    {
     "name": "stdout",
     "output_type": "stream",
     "text": [
      "=============================================================\n",
      "epoch: 3, source_val_acc_label: 0.9928, target_val_acc_label: 0.5221, source_val_label_loss: 0.0257, target_val_label_loss: 1.5623, \n",
      "=============================================================\n"
     ]
    },
    {
     "name": "stdout",
     "output_type": "stream",
     "text": [
      "New best\n"
     ]
    },
    {
     "name": "stdout",
     "output_type": "stream",
     "text": [
      "epoch: 4, [batch: 1 / 734], examples_per_second: 16.0826, train_label_loss: 0.0000, \n"
     ]
    },
    {
     "name": "stdout",
     "output_type": "stream",
     "text": [
      "epoch: 4, [batch: 74 / 734], examples_per_second: 3159.8579, train_label_loss: 0.0127, \n"
     ]
    },
    {
     "name": "stdout",
     "output_type": "stream",
     "text": [
      "epoch: 4, [batch: 147 / 734], examples_per_second: 3168.9431, train_label_loss: 0.0009, \n"
     ]
    },
    {
     "name": "stdout",
     "output_type": "stream",
     "text": [
      "epoch: 4, [batch: 220 / 734], examples_per_second: 3161.7586, train_label_loss: 0.0475, \n"
     ]
    },
    {
     "name": "stdout",
     "output_type": "stream",
     "text": [
      "epoch: 4, [batch: 294 / 734], examples_per_second: 3141.6779, train_label_loss: 0.0529, \n"
     ]
    },
    {
     "name": "stdout",
     "output_type": "stream",
     "text": [
      "epoch: 4, [batch: 367 / 734], examples_per_second: 3156.0769, train_label_loss: 0.0035, \n"
     ]
    },
    {
     "name": "stdout",
     "output_type": "stream",
     "text": [
      "epoch: 4, [batch: 440 / 734], examples_per_second: 3141.8402, train_label_loss: 0.0001, \n"
     ]
    },
    {
     "name": "stdout",
     "output_type": "stream",
     "text": [
      "epoch: 4, [batch: 514 / 734], examples_per_second: 3124.5904, train_label_loss: 0.0000, \n"
     ]
    },
    {
     "name": "stdout",
     "output_type": "stream",
     "text": [
      "epoch: 4, [batch: 587 / 734], examples_per_second: 3142.0160, train_label_loss: 0.0028, \n"
     ]
    },
    {
     "name": "stdout",
     "output_type": "stream",
     "text": [
      "epoch: 4, [batch: 660 / 734], examples_per_second: 3139.2990, train_label_loss: 0.0197, \n"
     ]
    },
    {
     "name": "stdout",
     "output_type": "stream",
     "text": [
      "=============================================================\n",
      "epoch: 4, source_val_acc_label: 0.9978, target_val_acc_label: 0.5416, source_val_label_loss: 0.0098, target_val_label_loss: 1.6563, \n",
      "=============================================================\n"
     ]
    },
    {
     "name": "stdout",
     "output_type": "stream",
     "text": [
      "epoch: 5, [batch: 1 / 737], examples_per_second: 16.2112, train_label_loss: 0.0000, \n"
     ]
    },
    {
     "name": "stdout",
     "output_type": "stream",
     "text": [
      "epoch: 5, [batch: 74 / 737], examples_per_second: 3169.2108, train_label_loss: 0.0014, \n"
     ]
    },
    {
     "name": "stdout",
     "output_type": "stream",
     "text": [
      "epoch: 5, [batch: 148 / 737], examples_per_second: 3199.2658, train_label_loss: 0.0011, \n"
     ]
    },
    {
     "name": "stdout",
     "output_type": "stream",
     "text": [
      "epoch: 5, [batch: 221 / 737], examples_per_second: 3180.4938, train_label_loss: 0.0004, \n"
     ]
    },
    {
     "name": "stdout",
     "output_type": "stream",
     "text": [
      "epoch: 5, [batch: 295 / 737], examples_per_second: 3200.2299, train_label_loss: 0.0066, \n"
     ]
    },
    {
     "name": "stdout",
     "output_type": "stream",
     "text": [
      "epoch: 5, [batch: 369 / 737], examples_per_second: 3162.7146, train_label_loss: 0.0001, \n"
     ]
    },
    {
     "name": "stdout",
     "output_type": "stream",
     "text": [
      "epoch: 5, [batch: 442 / 737], examples_per_second: 3170.1583, train_label_loss: 0.0000, \n"
     ]
    },
    {
     "name": "stdout",
     "output_type": "stream",
     "text": [
      "epoch: 5, [batch: 516 / 737], examples_per_second: 3154.1060, train_label_loss: 0.0030, \n"
     ]
    },
    {
     "name": "stdout",
     "output_type": "stream",
     "text": [
      "epoch: 5, [batch: 589 / 737], examples_per_second: 3189.2127, train_label_loss: 0.1690, \n"
     ]
    },
    {
     "name": "stdout",
     "output_type": "stream",
     "text": [
      "epoch: 5, [batch: 663 / 737], examples_per_second: 3166.8246, train_label_loss: 0.0097, \n"
     ]
    },
    {
     "name": "stdout",
     "output_type": "stream",
     "text": [
      "=============================================================\n",
      "epoch: 5, source_val_acc_label: 0.9959, target_val_acc_label: 0.4809, source_val_label_loss: 0.0147, target_val_label_loss: 1.7189, \n",
      "=============================================================\n"
     ]
    },
    {
     "name": "stdout",
     "output_type": "stream",
     "text": [
      "epoch: 6, [batch: 1 / 733], examples_per_second: 16.1456, train_label_loss: 0.0000, \n"
     ]
    },
    {
     "name": "stdout",
     "output_type": "stream",
     "text": [
      "epoch: 6, [batch: 74 / 733], examples_per_second: 3177.7005, train_label_loss: 0.0003, \n"
     ]
    },
    {
     "name": "stdout",
     "output_type": "stream",
     "text": [
      "epoch: 6, [batch: 147 / 733], examples_per_second: 3195.7319, train_label_loss: 0.0006, \n"
     ]
    },
    {
     "name": "stdout",
     "output_type": "stream",
     "text": [
      "epoch: 6, [batch: 220 / 733], examples_per_second: 3168.7873, train_label_loss: 0.0000, \n"
     ]
    },
    {
     "name": "stdout",
     "output_type": "stream",
     "text": [
      "epoch: 6, [batch: 293 / 733], examples_per_second: 3155.3540, train_label_loss: 0.0038, \n"
     ]
    },
    {
     "name": "stdout",
     "output_type": "stream",
     "text": [
      "epoch: 6, [batch: 367 / 733], examples_per_second: 3177.6222, train_label_loss: 0.0000, \n"
     ]
    },
    {
     "name": "stdout",
     "output_type": "stream",
     "text": [
      "epoch: 6, [batch: 440 / 733], examples_per_second: 3168.2307, train_label_loss: 0.0018, \n"
     ]
    },
    {
     "name": "stdout",
     "output_type": "stream",
     "text": [
      "epoch: 6, [batch: 513 / 733], examples_per_second: 3142.3682, train_label_loss: 0.0000, \n"
     ]
    },
    {
     "name": "stdout",
     "output_type": "stream",
     "text": [
      "epoch: 6, [batch: 586 / 733], examples_per_second: 3179.6780, train_label_loss: 0.0210, \n"
     ]
    },
    {
     "name": "stdout",
     "output_type": "stream",
     "text": [
      "epoch: 6, [batch: 659 / 733], examples_per_second: 3173.8137, train_label_loss: 0.0741, \n"
     ]
    },
    {
     "name": "stdout",
     "output_type": "stream",
     "text": [
      "=============================================================\n",
      "epoch: 6, source_val_acc_label: 0.9956, target_val_acc_label: 0.5627, source_val_label_loss: 0.0161, target_val_label_loss: 1.3651, \n",
      "=============================================================\n"
     ]
    },
    {
     "name": "stdout",
     "output_type": "stream",
     "text": [
      "New best\n"
     ]
    },
    {
     "name": "stdout",
     "output_type": "stream",
     "text": [
      "epoch: 7, [batch: 1 / 732], examples_per_second: 16.1204, train_label_loss: 0.0000, \n"
     ]
    },
    {
     "name": "stdout",
     "output_type": "stream",
     "text": [
      "epoch: 7, [batch: 74 / 732], examples_per_second: 3177.3015, train_label_loss: 0.0014, \n"
     ]
    },
    {
     "name": "stdout",
     "output_type": "stream",
     "text": [
      "epoch: 7, [batch: 147 / 732], examples_per_second: 3161.0413, train_label_loss: 0.0080, \n"
     ]
    },
    {
     "name": "stdout",
     "output_type": "stream",
     "text": [
      "epoch: 7, [batch: 220 / 732], examples_per_second: 3178.3008, train_label_loss: 0.0000, \n"
     ]
    },
    {
     "name": "stdout",
     "output_type": "stream",
     "text": [
      "epoch: 7, [batch: 293 / 732], examples_per_second: 3181.6679, train_label_loss: 0.0001, \n"
     ]
    },
    {
     "name": "stdout",
     "output_type": "stream",
     "text": [
      "epoch: 7, [batch: 366 / 732], examples_per_second: 3188.5049, train_label_loss: 0.0011, \n"
     ]
    },
    {
     "name": "stdout",
     "output_type": "stream",
     "text": [
      "epoch: 7, [batch: 439 / 732], examples_per_second: 3187.8032, train_label_loss: 0.0983, \n"
     ]
    },
    {
     "name": "stdout",
     "output_type": "stream",
     "text": [
      "epoch: 7, [batch: 512 / 732], examples_per_second: 3152.2074, train_label_loss: 0.0000, \n"
     ]
    },
    {
     "name": "stdout",
     "output_type": "stream",
     "text": [
      "epoch: 7, [batch: 585 / 732], examples_per_second: 3172.2641, train_label_loss: 0.0002, \n"
     ]
    },
    {
     "name": "stdout",
     "output_type": "stream",
     "text": [
      "epoch: 7, [batch: 658 / 732], examples_per_second: 3167.7255, train_label_loss: 0.0023, \n"
     ]
    },
    {
     "name": "stdout",
     "output_type": "stream",
     "text": [
      "=============================================================\n",
      "epoch: 7, source_val_acc_label: 0.9944, target_val_acc_label: 0.5512, source_val_label_loss: 0.0244, target_val_label_loss: 1.3891, \n",
      "=============================================================\n"
     ]
    },
    {
     "name": "stdout",
     "output_type": "stream",
     "text": [
      "epoch: 8, [batch: 1 / 737], examples_per_second: 16.0310, train_label_loss: 0.0001, \n"
     ]
    },
    {
     "name": "stdout",
     "output_type": "stream",
     "text": [
      "epoch: 8, [batch: 74 / 737], examples_per_second: 3168.4008, train_label_loss: 0.0005, \n"
     ]
    },
    {
     "name": "stdout",
     "output_type": "stream",
     "text": [
      "epoch: 8, [batch: 148 / 737], examples_per_second: 3164.3039, train_label_loss: 0.0000, \n"
     ]
    },
    {
     "name": "stdout",
     "output_type": "stream",
     "text": [
      "epoch: 8, [batch: 221 / 737], examples_per_second: 3173.7799, train_label_loss: 0.0000, \n"
     ]
    },
    {
     "name": "stdout",
     "output_type": "stream",
     "text": [
      "epoch: 8, [batch: 295 / 737], examples_per_second: 3161.4120, train_label_loss: 0.0000, \n"
     ]
    },
    {
     "name": "stdout",
     "output_type": "stream",
     "text": [
      "epoch: 8, [batch: 369 / 737], examples_per_second: 3156.9720, train_label_loss: 0.1016, \n"
     ]
    },
    {
     "name": "stdout",
     "output_type": "stream",
     "text": [
      "epoch: 8, [batch: 442 / 737], examples_per_second: 3146.4455, train_label_loss: 0.1100, \n"
     ]
    },
    {
     "name": "stdout",
     "output_type": "stream",
     "text": [
      "epoch: 8, [batch: 516 / 737], examples_per_second: 3152.6683, train_label_loss: 0.0002, \n"
     ]
    },
    {
     "name": "stdout",
     "output_type": "stream",
     "text": [
      "epoch: 8, [batch: 589 / 737], examples_per_second: 3170.2543, train_label_loss: 0.0001, \n"
     ]
    },
    {
     "name": "stdout",
     "output_type": "stream",
     "text": [
      "epoch: 8, [batch: 663 / 737], examples_per_second: 3170.2978, train_label_loss: 0.0000, \n"
     ]
    },
    {
     "name": "stdout",
     "output_type": "stream",
     "text": [
      "=============================================================\n",
      "epoch: 8, source_val_acc_label: 0.9947, target_val_acc_label: 0.5153, source_val_label_loss: 0.0115, target_val_label_loss: 1.4587, \n",
      "=============================================================\n"
     ]
    },
    {
     "name": "stdout",
     "output_type": "stream",
     "text": [
      "epoch: 9, [batch: 1 / 731], examples_per_second: 16.2116, train_label_loss: 0.0000, \n"
     ]
    },
    {
     "name": "stdout",
     "output_type": "stream",
     "text": [
      "epoch: 9, [batch: 74 / 731], examples_per_second: 3159.7903, train_label_loss: 0.0004, \n"
     ]
    },
    {
     "name": "stdout",
     "output_type": "stream",
     "text": [
      "epoch: 9, [batch: 147 / 731], examples_per_second: 3184.9440, train_label_loss: 0.0000, \n"
     ]
    },
    {
     "name": "stdout",
     "output_type": "stream",
     "text": [
      "epoch: 9, [batch: 220 / 731], examples_per_second: 3163.6514, train_label_loss: 0.0000, \n"
     ]
    },
    {
     "name": "stdout",
     "output_type": "stream",
     "text": [
      "epoch: 9, [batch: 293 / 731], examples_per_second: 3162.2489, train_label_loss: 0.0002, \n"
     ]
    },
    {
     "name": "stdout",
     "output_type": "stream",
     "text": [
      "epoch: 9, [batch: 366 / 731], examples_per_second: 3181.1390, train_label_loss: 0.0001, \n"
     ]
    },
    {
     "name": "stdout",
     "output_type": "stream",
     "text": [
      "epoch: 9, [batch: 439 / 731], examples_per_second: 3166.6968, train_label_loss: 0.0107, \n"
     ]
    },
    {
     "name": "stdout",
     "output_type": "stream",
     "text": [
      "epoch: 9, [batch: 512 / 731], examples_per_second: 3168.1274, train_label_loss: 0.0000, \n"
     ]
    },
    {
     "name": "stdout",
     "output_type": "stream",
     "text": [
      "epoch: 9, [batch: 585 / 731], examples_per_second: 3171.4788, train_label_loss: 0.0000, \n"
     ]
    },
    {
     "name": "stdout",
     "output_type": "stream",
     "text": [
      "epoch: 9, [batch: 658 / 731], examples_per_second: 3174.3414, train_label_loss: 0.0000, \n"
     ]
    },
    {
     "name": "stdout",
     "output_type": "stream",
     "text": [
      "=============================================================\n",
      "epoch: 9, source_val_acc_label: 0.9953, target_val_acc_label: 0.4741, source_val_label_loss: 0.0225, target_val_label_loss: 1.4745, \n",
      "=============================================================\n"
     ]
    },
    {
     "name": "stdout",
     "output_type": "stream",
     "text": [
      "epoch: 10, [batch: 1 / 734], examples_per_second: 16.0858, train_label_loss: 0.0004, \n"
     ]
    },
    {
     "name": "stdout",
     "output_type": "stream",
     "text": [
      "epoch: 10, [batch: 74 / 734], examples_per_second: 3153.7570, train_label_loss: 0.0007, \n"
     ]
    },
    {
     "name": "stdout",
     "output_type": "stream",
     "text": [
      "epoch: 10, [batch: 147 / 734], examples_per_second: 3152.8964, train_label_loss: 0.0002, \n"
     ]
    },
    {
     "name": "stdout",
     "output_type": "stream",
     "text": [
      "epoch: 10, [batch: 220 / 734], examples_per_second: 3143.7992, train_label_loss: 0.0132, \n"
     ]
    },
    {
     "name": "stdout",
     "output_type": "stream",
     "text": [
      "epoch: 10, [batch: 294 / 734], examples_per_second: 3126.8852, train_label_loss: 0.0000, \n"
     ]
    },
    {
     "name": "stdout",
     "output_type": "stream",
     "text": [
      "epoch: 10, [batch: 367 / 734], examples_per_second: 3149.2692, train_label_loss: 0.0001, \n"
     ]
    },
    {
     "name": "stdout",
     "output_type": "stream",
     "text": [
      "epoch: 10, [batch: 440 / 734], examples_per_second: 3188.2990, train_label_loss: 0.1223, \n"
     ]
    },
    {
     "name": "stdout",
     "output_type": "stream",
     "text": [
      "epoch: 10, [batch: 514 / 734], examples_per_second: 3176.5750, train_label_loss: 0.0000, \n"
     ]
    },
    {
     "name": "stdout",
     "output_type": "stream",
     "text": [
      "epoch: 10, [batch: 587 / 734], examples_per_second: 3192.6134, train_label_loss: 0.0000, \n"
     ]
    },
    {
     "name": "stdout",
     "output_type": "stream",
     "text": [
      "epoch: 10, [batch: 660 / 734], examples_per_second: 3167.2119, train_label_loss: 0.0000, \n"
     ]
    },
    {
     "name": "stdout",
     "output_type": "stream",
     "text": [
      "=============================================================\n",
      "epoch: 10, source_val_acc_label: 0.9962, target_val_acc_label: 0.5089, source_val_label_loss: 0.0124, target_val_label_loss: 1.3523, \n",
      "=============================================================\n"
     ]
    },
    {
     "name": "stdout",
     "output_type": "stream",
     "text": [
      "New best\n"
     ]
    },
    {
     "name": "stdout",
     "output_type": "stream",
     "text": [
      "epoch: 11, [batch: 1 / 731], examples_per_second: 16.0311, train_label_loss: 0.0000, \n"
     ]
    },
    {
     "name": "stdout",
     "output_type": "stream",
     "text": [
      "epoch: 11, [batch: 74 / 731], examples_per_second: 3147.0349, train_label_loss: 0.0000, \n"
     ]
    },
    {
     "name": "stdout",
     "output_type": "stream",
     "text": [
      "epoch: 11, [batch: 147 / 731], examples_per_second: 3157.0116, train_label_loss: 0.0000, \n"
     ]
    },
    {
     "name": "stdout",
     "output_type": "stream",
     "text": [
      "epoch: 11, [batch: 220 / 731], examples_per_second: 3159.6052, train_label_loss: 0.0000, \n"
     ]
    },
    {
     "name": "stdout",
     "output_type": "stream",
     "text": [
      "epoch: 11, [batch: 293 / 731], examples_per_second: 3158.4612, train_label_loss: 0.0000, \n"
     ]
    },
    {
     "name": "stdout",
     "output_type": "stream",
     "text": [
      "epoch: 11, [batch: 366 / 731], examples_per_second: 3168.7639, train_label_loss: 0.0426, \n"
     ]
    },
    {
     "name": "stdout",
     "output_type": "stream",
     "text": [
      "epoch: 11, [batch: 439 / 731], examples_per_second: 3206.2645, train_label_loss: 0.0000, \n"
     ]
    },
    {
     "name": "stdout",
     "output_type": "stream",
     "text": [
      "epoch: 11, [batch: 512 / 731], examples_per_second: 3147.6581, train_label_loss: 0.0000, \n"
     ]
    },
    {
     "name": "stdout",
     "output_type": "stream",
     "text": [
      "epoch: 11, [batch: 585 / 731], examples_per_second: 3158.5007, train_label_loss: 0.0000, \n"
     ]
    },
    {
     "name": "stdout",
     "output_type": "stream",
     "text": [
      "epoch: 11, [batch: 658 / 731], examples_per_second: 3224.6649, train_label_loss: 0.0023, \n"
     ]
    },
    {
     "name": "stdout",
     "output_type": "stream",
     "text": [
      "=============================================================\n",
      "epoch: 11, source_val_acc_label: 0.9962, target_val_acc_label: 0.5275, source_val_label_loss: 0.0144, target_val_label_loss: 1.3166, \n",
      "=============================================================\n"
     ]
    },
    {
     "name": "stdout",
     "output_type": "stream",
     "text": [
      "New best\n"
     ]
    },
    {
     "name": "stdout",
     "output_type": "stream",
     "text": [
      "epoch: 12, [batch: 1 / 737], examples_per_second: 16.0799, train_label_loss: 0.0000, \n"
     ]
    },
    {
     "name": "stdout",
     "output_type": "stream",
     "text": [
      "epoch: 12, [batch: 74 / 737], examples_per_second: 3183.4385, train_label_loss: 0.0044, \n"
     ]
    },
    {
     "name": "stdout",
     "output_type": "stream",
     "text": [
      "epoch: 12, [batch: 148 / 737], examples_per_second: 3160.5150, train_label_loss: 0.0000, \n"
     ]
    },
    {
     "name": "stdout",
     "output_type": "stream",
     "text": [
      "epoch: 12, [batch: 221 / 737], examples_per_second: 3149.4838, train_label_loss: 0.0001, \n"
     ]
    },
    {
     "name": "stdout",
     "output_type": "stream",
     "text": [
      "epoch: 12, [batch: 295 / 737], examples_per_second: 3152.9141, train_label_loss: 0.0000, \n"
     ]
    },
    {
     "name": "stdout",
     "output_type": "stream",
     "text": [
      "epoch: 12, [batch: 369 / 737], examples_per_second: 3179.1006, train_label_loss: 0.0000, \n"
     ]
    },
    {
     "name": "stdout",
     "output_type": "stream",
     "text": [
      "epoch: 12, [batch: 442 / 737], examples_per_second: 3183.3434, train_label_loss: 0.0001, \n"
     ]
    },
    {
     "name": "stdout",
     "output_type": "stream",
     "text": [
      "epoch: 12, [batch: 516 / 737], examples_per_second: 3152.1776, train_label_loss: 0.0006, \n"
     ]
    },
    {
     "name": "stdout",
     "output_type": "stream",
     "text": [
      "epoch: 12, [batch: 589 / 737], examples_per_second: 3195.2421, train_label_loss: 0.0008, \n"
     ]
    },
    {
     "name": "stdout",
     "output_type": "stream",
     "text": [
      "epoch: 12, [batch: 663 / 737], examples_per_second: 3158.7130, train_label_loss: 0.0000, \n"
     ]
    },
    {
     "name": "stdout",
     "output_type": "stream",
     "text": [
      "=============================================================\n",
      "epoch: 12, source_val_acc_label: 0.9978, target_val_acc_label: 0.4999, source_val_label_loss: 0.0143, target_val_label_loss: 1.3863, \n",
      "=============================================================\n"
     ]
    },
    {
     "name": "stdout",
     "output_type": "stream",
     "text": [
      "epoch: 13, [batch: 1 / 733], examples_per_second: 16.0885, train_label_loss: 0.0000, \n"
     ]
    },
    {
     "name": "stdout",
     "output_type": "stream",
     "text": [
      "epoch: 13, [batch: 74 / 733], examples_per_second: 3169.4413, train_label_loss: 0.0000, \n"
     ]
    },
    {
     "name": "stdout",
     "output_type": "stream",
     "text": [
      "epoch: 13, [batch: 147 / 733], examples_per_second: 3194.2612, train_label_loss: 0.0000, \n"
     ]
    },
    {
     "name": "stdout",
     "output_type": "stream",
     "text": [
      "epoch: 13, [batch: 220 / 733], examples_per_second: 3185.7915, train_label_loss: 0.0000, \n"
     ]
    },
    {
     "name": "stdout",
     "output_type": "stream",
     "text": [
      "epoch: 13, [batch: 293 / 733], examples_per_second: 3154.4852, train_label_loss: 0.0000, \n"
     ]
    },
    {
     "name": "stdout",
     "output_type": "stream",
     "text": [
      "epoch: 13, [batch: 367 / 733], examples_per_second: 3175.9416, train_label_loss: 0.0000, \n"
     ]
    },
    {
     "name": "stdout",
     "output_type": "stream",
     "text": [
      "epoch: 13, [batch: 440 / 733], examples_per_second: 3192.8427, train_label_loss: 0.0010, \n"
     ]
    },
    {
     "name": "stdout",
     "output_type": "stream",
     "text": [
      "epoch: 13, [batch: 513 / 733], examples_per_second: 3165.2924, train_label_loss: 0.0000, \n"
     ]
    },
    {
     "name": "stdout",
     "output_type": "stream",
     "text": [
      "epoch: 13, [batch: 586 / 733], examples_per_second: 3164.0801, train_label_loss: 0.0000, \n"
     ]
    },
    {
     "name": "stdout",
     "output_type": "stream",
     "text": [
      "epoch: 13, [batch: 659 / 733], examples_per_second: 3189.9536, train_label_loss: 0.0000, \n"
     ]
    },
    {
     "name": "stdout",
     "output_type": "stream",
     "text": [
      "=============================================================\n",
      "epoch: 13, source_val_acc_label: 0.9978, target_val_acc_label: 0.5094, source_val_label_loss: 0.0113, target_val_label_loss: 1.4159, \n",
      "=============================================================\n"
     ]
    },
    {
     "name": "stdout",
     "output_type": "stream",
     "text": [
      "epoch: 14, [batch: 1 / 735], examples_per_second: 16.0951, train_label_loss: 0.0000, \n"
     ]
    },
    {
     "name": "stdout",
     "output_type": "stream",
     "text": [
      "epoch: 14, [batch: 74 / 735], examples_per_second: 3167.1316, train_label_loss: 0.0000, \n"
     ]
    },
    {
     "name": "stdout",
     "output_type": "stream",
     "text": [
      "epoch: 14, [batch: 147 / 735], examples_per_second: 3176.6566, train_label_loss: 0.0000, \n"
     ]
    },
    {
     "name": "stdout",
     "output_type": "stream",
     "text": [
      "epoch: 14, [batch: 221 / 735], examples_per_second: 3170.8844, train_label_loss: 0.0000, \n"
     ]
    },
    {
     "name": "stdout",
     "output_type": "stream",
     "text": [
      "epoch: 14, [batch: 294 / 735], examples_per_second: 3158.2833, train_label_loss: 0.0000, \n"
     ]
    },
    {
     "name": "stdout",
     "output_type": "stream",
     "text": [
      "epoch: 14, [batch: 368 / 735], examples_per_second: 3177.0765, train_label_loss: 0.0000, \n"
     ]
    },
    {
     "name": "stdout",
     "output_type": "stream",
     "text": [
      "epoch: 14, [batch: 441 / 735], examples_per_second: 3162.4685, train_label_loss: 0.0000, \n"
     ]
    },
    {
     "name": "stdout",
     "output_type": "stream",
     "text": [
      "epoch: 14, [batch: 514 / 735], examples_per_second: 3148.5385, train_label_loss: 0.0000, \n"
     ]
    },
    {
     "name": "stdout",
     "output_type": "stream",
     "text": [
      "epoch: 14, [batch: 588 / 735], examples_per_second: 3157.8320, train_label_loss: 0.0000, \n"
     ]
    },
    {
     "name": "stdout",
     "output_type": "stream",
     "text": [
      "epoch: 14, [batch: 661 / 735], examples_per_second: 3174.3253, train_label_loss: 0.0000, \n"
     ]
    },
    {
     "name": "stdout",
     "output_type": "stream",
     "text": [
      "=============================================================\n",
      "epoch: 14, source_val_acc_label: 0.9962, target_val_acc_label: 0.5013, source_val_label_loss: 0.0253, target_val_label_loss: 1.3920, \n",
      "=============================================================\n"
     ]
    },
    {
     "name": "stdout",
     "output_type": "stream",
     "text": [
      "epoch: 15, [batch: 1 / 732], examples_per_second: 16.0022, train_label_loss: 0.0000, \n"
     ]
    },
    {
     "name": "stdout",
     "output_type": "stream",
     "text": [
      "epoch: 15, [batch: 74 / 732], examples_per_second: 3157.1365, train_label_loss: 0.0000, \n"
     ]
    },
    {
     "name": "stdout",
     "output_type": "stream",
     "text": [
      "epoch: 15, [batch: 147 / 732], examples_per_second: 3164.2280, train_label_loss: 0.0000, \n"
     ]
    },
    {
     "name": "stdout",
     "output_type": "stream",
     "text": [
      "epoch: 15, [batch: 220 / 732], examples_per_second: 3172.7033, train_label_loss: 0.0000, \n"
     ]
    },
    {
     "name": "stdout",
     "output_type": "stream",
     "text": [
      "epoch: 15, [batch: 293 / 732], examples_per_second: 3154.2870, train_label_loss: 0.0000, \n"
     ]
    },
    {
     "name": "stdout",
     "output_type": "stream",
     "text": [
      "epoch: 15, [batch: 366 / 732], examples_per_second: 3174.8730, train_label_loss: 0.0000, \n"
     ]
    },
    {
     "name": "stdout",
     "output_type": "stream",
     "text": [
      "epoch: 15, [batch: 439 / 732], examples_per_second: 3186.8082, train_label_loss: 0.0000, \n"
     ]
    },
    {
     "name": "stdout",
     "output_type": "stream",
     "text": [
      "epoch: 15, [batch: 512 / 732], examples_per_second: 3164.4937, train_label_loss: 0.0000, \n"
     ]
    },
    {
     "name": "stdout",
     "output_type": "stream",
     "text": [
      "epoch: 15, [batch: 585 / 732], examples_per_second: 3165.5910, train_label_loss: 0.0000, \n"
     ]
    },
    {
     "name": "stdout",
     "output_type": "stream",
     "text": [
      "epoch: 15, [batch: 658 / 732], examples_per_second: 3198.9752, train_label_loss: 0.0000, \n"
     ]
    },
    {
     "name": "stdout",
     "output_type": "stream",
     "text": [
      "=============================================================\n",
      "epoch: 15, source_val_acc_label: 0.9978, target_val_acc_label: 0.4976, source_val_label_loss: 0.0201, target_val_label_loss: 1.4310, \n",
      "=============================================================\n"
     ]
    },
    {
     "name": "stdout",
     "output_type": "stream",
     "text": [
      "Patience (3) exhausted\n"
     ]
    }
   ],
   "source": [
    "###################################\n",
    "# train\n",
    "###################################\n",
    "jig = PTN_Train_Eval_Test_Jig(model, p.BEST_MODEL_PATH, p.device)\n",
    "\n",
    "jig.train(\n",
    "    train_iterable=datasets.source.processed.train,\n",
    "    source_val_iterable=datasets.source.processed.val,\n",
    "    target_val_iterable=datasets.target.processed.val,\n",
    "    num_epochs=p.n_epoch,\n",
    "    num_logs_per_epoch=p.NUM_LOGS_PER_EPOCH,\n",
    "    patience=p.patience,\n",
    "    optimizer=optimizer,\n",
    "    criteria_for_best=p.criteria_for_best,\n",
    ")"
   ]
  },
  {
   "cell_type": "code",
   "execution_count": 23,
   "id": "31e8fabf",
   "metadata": {
    "execution": {
     "iopub.execute_input": "2022-03-07T08:56:56.758739Z",
     "iopub.status.busy": "2022-03-07T08:56:56.758331Z",
     "iopub.status.idle": "2022-03-07T08:56:56.771219Z",
     "shell.execute_reply": "2022-03-07T08:56:56.770957Z"
    },
    "papermill": {
     "duration": 0.058256,
     "end_time": "2022-03-07T08:56:56.771284",
     "exception": false,
     "start_time": "2022-03-07T08:56:56.713028",
     "status": "completed"
    },
    "tags": []
   },
   "outputs": [],
   "source": [
    "total_experiment_time_secs = time.time() - start_time_secs"
   ]
  },
  {
   "cell_type": "code",
   "execution_count": 24,
   "id": "87b9595b",
   "metadata": {
    "execution": {
     "iopub.execute_input": "2022-03-07T08:56:56.863322Z",
     "iopub.status.busy": "2022-03-07T08:56:56.862898Z",
     "iopub.status.idle": "2022-03-07T08:57:52.096656Z",
     "shell.execute_reply": "2022-03-07T08:57:52.096216Z"
    },
    "papermill": {
     "duration": 55.280879,
     "end_time": "2022-03-07T08:57:52.096763",
     "exception": false,
     "start_time": "2022-03-07T08:56:56.815884",
     "status": "completed"
    },
    "tags": []
   },
   "outputs": [],
   "source": [
    "###################################\n",
    "# Evaluate the model\n",
    "###################################\n",
    "source_test_label_accuracy, source_test_label_loss = jig.test(datasets.source.processed.test)\n",
    "target_test_label_accuracy, target_test_label_loss = jig.test(datasets.target.processed.test)\n",
    "\n",
    "source_val_label_accuracy, source_val_label_loss = jig.test(datasets.source.processed.val)\n",
    "target_val_label_accuracy, target_val_label_loss = jig.test(datasets.target.processed.val)\n",
    "\n",
    "history = jig.get_history()\n",
    "\n",
    "total_epochs_trained = len(history[\"epoch_indices\"])\n",
    "\n",
    "val_dl = Iterable_Aggregator((datasets.source.original.val,datasets.target.original.val))\n",
    "\n",
    "confusion = ptn_confusion_by_domain_over_dataloader(model, p.device, val_dl)\n",
    "per_domain_accuracy = per_domain_accuracy_from_confusion(confusion)\n",
    "\n",
    "# Add a key to per_domain_accuracy for if it was a source domain\n",
    "for domain, accuracy in per_domain_accuracy.items():\n",
    "    per_domain_accuracy[domain] = {\n",
    "        \"accuracy\": accuracy,\n",
    "        \"source?\": domain in p.domains_source\n",
    "    }\n",
    "\n",
    "# Do an independent accuracy assesment JUST TO BE SURE!\n",
    "# _source_test_label_accuracy = independent_accuracy_assesment(model, datasets.source.processed.test, p.device)\n",
    "# _target_test_label_accuracy = independent_accuracy_assesment(model, datasets.target.processed.test, p.device)\n",
    "# _source_val_label_accuracy = independent_accuracy_assesment(model, datasets.source.processed.val, p.device)\n",
    "# _target_val_label_accuracy = independent_accuracy_assesment(model, datasets.target.processed.val, p.device)\n",
    "\n",
    "# assert(_source_test_label_accuracy == source_test_label_accuracy)\n",
    "# assert(_target_test_label_accuracy == target_test_label_accuracy)\n",
    "# assert(_source_val_label_accuracy == source_val_label_accuracy)\n",
    "# assert(_target_val_label_accuracy == target_val_label_accuracy)\n",
    "\n",
    "experiment = {\n",
    "    \"experiment_name\": p.experiment_name,\n",
    "    \"parameters\": dict(p),\n",
    "    \"results\": {\n",
    "        \"source_test_label_accuracy\": source_test_label_accuracy,\n",
    "        \"source_test_label_loss\": source_test_label_loss,\n",
    "        \"target_test_label_accuracy\": target_test_label_accuracy,\n",
    "        \"target_test_label_loss\": target_test_label_loss,\n",
    "        \"source_val_label_accuracy\": source_val_label_accuracy,\n",
    "        \"source_val_label_loss\": source_val_label_loss,\n",
    "        \"target_val_label_accuracy\": target_val_label_accuracy,\n",
    "        \"target_val_label_loss\": target_val_label_loss,\n",
    "        \"total_epochs_trained\": total_epochs_trained,\n",
    "        \"total_experiment_time_secs\": total_experiment_time_secs,\n",
    "        \"confusion\": confusion,\n",
    "        \"per_domain_accuracy\": per_domain_accuracy,\n",
    "    },\n",
    "    \"history\": history,\n",
    "    \"dataset_metrics\": get_dataset_metrics(datasets, \"ptn\"),\n",
    "}"
   ]
  },
  {
   "cell_type": "code",
   "execution_count": 25,
   "id": "54a21829",
   "metadata": {
    "execution": {
     "iopub.execute_input": "2022-03-07T08:57:52.192484Z",
     "iopub.status.busy": "2022-03-07T08:57:52.192222Z",
     "iopub.status.idle": "2022-03-07T08:57:52.381476Z",
     "shell.execute_reply": "2022-03-07T08:57:52.381017Z"
    },
    "papermill": {
     "duration": 0.236446,
     "end_time": "2022-03-07T08:57:52.381570",
     "exception": false,
     "start_time": "2022-03-07T08:57:52.145124",
     "status": "completed"
    },
    "tags": []
   },
   "outputs": [
    {
     "data": {
      "image/png": "[encoded data removed]",
      "text/plain": [
       "<Figure size 1080x504 with 1 Axes>"
      ]
     },
     "metadata": {
      "needs_background": "light"
     },
     "output_type": "display_data"
    }
   ],
   "source": [
    "ax = get_loss_curve(experiment)\n",
    "plt.show()"
   ]
  },
  {
   "cell_type": "code",
   "execution_count": 26,
   "id": "fd8a0f60",
   "metadata": {
    "execution": {
     "iopub.execute_input": "2022-03-07T08:57:52.477357Z",
     "iopub.status.busy": "2022-03-07T08:57:52.477107Z",
     "iopub.status.idle": "2022-03-07T08:57:52.657299Z",
     "shell.execute_reply": "2022-03-07T08:57:52.657692Z"
    },
    "papermill": {
     "duration": 0.227326,
     "end_time": "2022-03-07T08:57:52.657822",
     "exception": false,
     "start_time": "2022-03-07T08:57:52.430496",
     "status": "completed"
    },
    "tags": []
   },
   "outputs": [
    {
     "data": {
      "text/plain": [
       "<matplotlib.axes._subplots.AxesSubplot at 0x7fc5f8579f70>"
      ]
     },
     "execution_count": 26,
     "metadata": {},
     "output_type": "execute_result"
    },
    {
     "data": {
      "image/png": "[encoded data removed]",
      "text/plain": [
       "<Figure size 1080x504 with 1 Axes>"
      ]
     },
     "metadata": {
      "needs_background": "light"
     },
     "output_type": "display_data"
    }
   ],
   "source": [
    "get_results_table(experiment)"
   ]
  },
  {
   "cell_type": "code",
   "execution_count": 27,
   "id": "cf8dc689",
   "metadata": {
    "execution": {
     "iopub.execute_input": "2022-03-07T08:57:52.757461Z",
     "iopub.status.busy": "2022-03-07T08:57:52.757203Z",
     "iopub.status.idle": "2022-03-07T08:57:52.964220Z",
     "shell.execute_reply": "2022-03-07T08:57:52.964585Z"
    },
    "papermill": {
     "duration": 0.255517,
     "end_time": "2022-03-07T08:57:52.964706",
     "exception": false,
     "start_time": "2022-03-07T08:57:52.709189",
     "status": "completed"
    },
    "tags": []
   },
   "outputs": [
    {
     "data": {
      "text/plain": [
       "<matplotlib.axes._subplots.AxesSubplot at 0x7fc5f8caad30>"
      ]
     },
     "execution_count": 27,
     "metadata": {},
     "output_type": "execute_result"
    },
    {
     "data": {
      "image/png": "[encoded data removed]",
      "text/plain": [
       "<Figure size 1080x504 with 1 Axes>"
      ]
     },
     "metadata": {
      "needs_background": "light"
     },
     "output_type": "display_data"
    }
   ],
   "source": [
    "get_domain_accuracies(experiment)"
   ]
  },
  {
   "cell_type": "code",
   "execution_count": 28,
   "id": "a74ae082",
   "metadata": {
    "execution": {
     "iopub.execute_input": "2022-03-07T08:57:53.064703Z",
     "iopub.status.busy": "2022-03-07T08:57:53.064447Z",
     "iopub.status.idle": "2022-03-07T08:57:53.078067Z",
     "shell.execute_reply": "2022-03-07T08:57:53.077666Z"
    },
    "papermill": {
     "duration": 0.063169,
     "end_time": "2022-03-07T08:57:53.078159",
     "exception": false,
     "start_time": "2022-03-07T08:57:53.014990",
     "status": "completed"
    },
    "tags": []
   },
   "outputs": [
    {
     "name": "stdout",
     "output_type": "stream",
     "text": [
      "Source Test Label Accuracy: 0.9971875 Target Test Label Accuracy: 0.5246419270833333\n",
      "Source Val Label Accuracy: 0.99625 Target Val Label Accuracy: 0.5274739583333333\n"
     ]
    }
   ],
   "source": [
    "print(\"Source Test Label Accuracy:\", experiment[\"results\"][\"source_test_label_accuracy\"], \"Target Test Label Accuracy:\", experiment[\"results\"][\"target_test_label_accuracy\"])\n",
    "print(\"Source Val Label Accuracy:\", experiment[\"results\"][\"source_val_label_accuracy\"], \"Target Val Label Accuracy:\", experiment[\"results\"][\"target_val_label_accuracy\"])"
   ]
  },
  {
   "cell_type": "code",
   "execution_count": 29,
   "id": "dacca602",
   "metadata": {
    "execution": {
     "iopub.execute_input": "2022-03-07T08:57:53.204432Z",
     "iopub.status.busy": "2022-03-07T08:57:53.204181Z",
     "iopub.status.idle": "2022-03-07T08:57:53.219106Z",
     "shell.execute_reply": "2022-03-07T08:57:53.219488Z"
    },
    "papermill": {
     "duration": 0.089168,
     "end_time": "2022-03-07T08:57:53.219598",
     "exception": false,
     "start_time": "2022-03-07T08:57:53.130430",
     "status": "completed"
    },
    "tags": [
     "experiment_json"
    ]
   },
   "outputs": [
    {
     "data": {
      "text/plain": [
       "'{\"experiment_name\": \"tl_1_cores-oracle.run1\", \"parameters\": {\"experiment_name\": \"tl_1_cores-oracle.run1\", \"device\": \"cuda\", \"lr\": 0.001, \"seed\": 1337, \"dataset_seed\": 1337, \"n_shot\": 3, \"n_query\": 2, \"train_k_factor\": 3, \"val_k_factor\": 2, \"test_k_factor\": 2, \"torch_default_dtype\": \"torch.float32\", \"n_epoch\": 50, \"patience\": 3, \"criteria_for_best\": \"target_loss\", \"x_net\": [{\"class\": \"nnReshape\", \"kargs\": {\"shape\": [-1, 1, 2, 256]}}, {\"class\": \"Conv2d\", \"kargs\": {\"in_channels\": 1, \"out_channels\": 256, \"kernel_size\": [1, 7], \"bias\": false, \"padding\": [0, 3]}}, {\"class\": \"ReLU\", \"kargs\": {\"inplace\": true}}, {\"class\": \"BatchNorm2d\", \"kargs\": {\"num_features\": 256}}, {\"class\": \"Conv2d\", \"kargs\": {\"in_channels\": 256, \"out_channels\": 80, \"kernel_size\": [2, 7], \"bias\": true, \"padding\": [0, 3]}}, {\"class\": \"ReLU\", \"kargs\": {\"inplace\": true}}, {\"class\": \"BatchNorm2d\", \"kargs\": {\"num_features\": 80}}, {\"class\": \"Flatten\", \"kargs\": {}}, {\"class\": \"Linear\", \"kargs\": {\"in_features\": 20480, \"out_features\": 256}}, {\"class\": \"ReLU\", \"kargs\": {\"inplace\": true}}, {\"class\": \"BatchNorm1d\", \"kargs\": {\"num_features\": 256}}, {\"class\": \"Linear\", \"kargs\": {\"in_features\": 256, \"out_features\": 256}}], \"NUM_LOGS_PER_EPOCH\": 10, \"BEST_MODEL_PATH\": \"./best_model.pth\", \"n_way\": 16, \"datasets\": [{\"labels\": [\"1-10.\", \"1-11.\", \"1-15.\", \"1-16.\", \"1-17.\", \"1-18.\", \"1-19.\", \"10-4.\", \"10-7.\", \"11-1.\", \"11-14.\", \"11-17.\", \"11-20.\", \"11-7.\", \"13-20.\", \"13-8.\", \"14-10.\", \"14-11.\", \"14-14.\", \"14-7.\", \"15-1.\", \"15-20.\", \"16-1.\", \"16-16.\", \"17-10.\", \"17-11.\", \"17-2.\", \"19-1.\", \"19-16.\", \"19-19.\", \"19-20.\", \"19-3.\", \"2-10.\", \"2-11.\", \"2-17.\", \"2-18.\", \"2-20.\", \"2-3.\", \"2-4.\", \"2-5.\", \"2-6.\", \"2-7.\", \"2-8.\", \"3-13.\", \"3-18.\", \"3-3.\", \"4-1.\", \"4-10.\", \"4-11.\", \"4-19.\", \"5-5.\", \"6-15.\", \"7-10.\", \"7-14.\", \"8-18.\", \"8-20.\", \"8-3.\", \"8-8.\"], \"domains\": [1, 2, 3, 4, 5], \"num_examples_per_domain_per_label\": 100, \"pickle_path\": \"/mnt/wd500GB/CSC500/csc500-main/datasets/cores.stratified_ds.2022A.pkl\", \"source_or_target_dataset\": \"source\", \"x_transforms\": [], \"episode_transforms\": [], \"domain_prefix\": \"CORES_\"}, {\"labels\": [\"3123D52\", \"3123D65\", \"3123D79\", \"3123D80\", \"3123D54\", \"3123D70\", \"3123D7B\", \"3123D89\", \"3123D58\", \"3123D76\", \"3123D7D\", \"3123EFE\", \"3123D64\", \"3123D78\", \"3123D7E\", \"3124E4A\"], \"domains\": [32, 38, 8, 44, 14, 50, 20, 26], \"num_examples_per_domain_per_label\": 2000, \"pickle_path\": \"/mnt/wd500GB/CSC500/csc500-main/datasets/oracle.Run1_framed_2000Examples_stratified_ds.2022A.pkl\", \"source_or_target_dataset\": \"target\", \"x_transforms\": [], \"episode_transforms\": [], \"domain_prefix\": \"ORACLE.run1_\"}], \"domains_source\": [\"CORES_1\", \"CORES_2\", \"CORES_3\", \"CORES_4\", \"CORES_5\"], \"domains_target\": [\"ORACLE.run1_32\", \"ORACLE.run1_38\", \"ORACLE.run1_8\", \"ORACLE.run1_44\", \"ORACLE.run1_14\", \"ORACLE.run1_50\", \"ORACLE.run1_20\", \"ORACLE.run1_26\"]}, \"results\": {\"source_test_label_accuracy\": 0.9971875, \"source_test_label_loss\": 0.012763897888362408, \"target_test_label_accuracy\": 0.5246419270833333, \"target_test_label_loss\": 1.3193376064300537, \"source_val_label_accuracy\": 0.99625, \"source_val_label_loss\": 0.014395811595022678, \"target_val_label_accuracy\": 0.5274739583333333, \"target_val_label_loss\": 1.3165963888168335, \"total_epochs_trained\": 15, \"total_experiment_time_secs\": 405.42813420295715, \"confusion\": {\"CORES_3\": {\"43\": {\"43\": 12}, \"9\": {\"9\": 12}, \"6\": {\"6\": 10}, \"3\": {\"3\": 12}, \"16\": {\"16\": 12}, \"51\": {\"51\": 12}, \"31\": {\"31\": 12}, \"46\": {\"46\": 10}, \"19\": {\"19\": 8}, \"8\": {\"8\": 12}, \"18\": {\"18\": 12}, \"37\": {\"37\": 12}, \"24\": {\"24\": 12}, \"10\": {\"10\": 12}, \"44\": {\"44\": 10}, \"14\": {\"14\": 12}, \"38\": {\"38\": 10}, \"53\": {\"53\": 12}, \"20\": {\"20\": 12}, \"32\": {\"32\": 12}, \"36\": {\"36\": 10}, \"33\": {\"33\": 12}, \"56\": {\"56\": 12}, \"23\": {\"23\": 12}, \"54\": {\"54\": 10}, \"34\": {\"34\": 12}, \"13\": {\"13\": 12}, \"2\": {\"2\": 12}, \"55\": {\"55\": 10}, \"21\": {\"21\": 10}, \"49\": {\"49\": 10}, \"25\": {\"25\": 12}, \"5\": {\"5\": 12}, \"50\": {\"50\": 8}, \"40\": {\"40\": 12}, \"57\": {\"57\": 8}, \"22\": {\"22\": 10}, \"1\": {\"1\": 10}, \"17\": {\"17\": 12}, \"41\": {\"41\": 12}, \"4\": {\"4\": 10}, \"7\": {\"7\": 10}, \"26\": {\"26\": 10}, \"29\": {\"29\": 12}, \"52\": {\"52\": 12}, \"15\": {\"15\": 12}, \"35\": {\"35\": 12}, \"42\": {\"42\": 12}, \"30\": {\"30\": 10}, \"27\": {\"27\": 8}, \"45\": {\"45\": 10}, \"0\": {\"0\": 12}, \"28\": {\"28\": 12}, \"47\": {\"47\": 12}, \"11\": {\"11\": 10}, \"39\": {\"39\": 10}, \"48\": {\"48\": 12}, \"12\": {\"12\": 8}}, \"CORES_4\": {\"35\": {\"35\": 10}, \"25\": {\"25\": 12}, \"24\": {\"24\": 10}, \"48\": {\"48\": 12}, \"51\": {\"51\": 12}, \"13\": {\"13\": 12}, \"14\": {\"14\": 7, \"0\": 1}, \"32\": {\"32\": 12}, \"30\": {\"30\": 12}, \"34\": {\"34\": 10}, \"9\": {\"9\": 12}, \"1\": {\"1\": 12}, \"0\": {\"0\": 12}, \"38\": {\"38\": 12}, \"22\": {\"22\": 8}, \"40\": {\"40\": 12}, \"39\": {\"39\": 12}, \"46\": {\"46\": 12}, \"36\": {\"36\": 12}, \"50\": {\"50\": 11, \"5\": 1}, \"49\": {\"49\": 12}, \"17\": {\"17\": 12}, \"45\": {\"45\": 12}, \"6\": {\"6\": 12}, \"8\": {\"8\": 12}, \"5\": {\"5\": 10}, \"33\": {\"33\": 12}, \"31\": {\"31\": 12}, \"37\": {\"37\": 10}, \"47\": {\"47\": 8}, \"15\": {\"15\": 10}, \"7\": {\"7\": 12}, \"20\": {\"20\": 12}, \"4\": {\"4\": 12}, \"54\": {\"54\": 12}, \"44\": {\"44\": 12}, \"3\": {\"3\": 12}, \"11\": {\"11\": 8, \"15\": 2}, \"27\": {\"27\": 10}, \"19\": {\"19\": 12}, \"55\": {\"55\": 12}, \"16\": {\"16\": 12}, \"2\": {\"2\": 10}, \"52\": {\"52\": 10}, \"42\": {\"42\": 10}, \"26\": {\"26\": 12}, \"10\": {\"10\": 12}, \"53\": {\"53\": 10}, \"28\": {\"28\": 12}, \"21\": {\"21\": 10}, \"57\": {\"57\": 10}, \"23\": {\"23\": 8}, \"43\": {\"43\": 10}, \"12\": {\"12\": 12}, \"41\": {\"41\": 12}, \"56\": {\"56\": 8}, \"18\": {\"18\": 10}, \"29\": {\"29\": 8}}, \"CORES_5\": {\"47\": {\"47\": 10}, \"53\": {\"53\": 12}, \"29\": {\"29\": 12}, \"52\": {\"52\": 12}, \"55\": {\"55\": 12}, \"17\": {\"17\": 12}, \"42\": {\"42\": 12}, \"33\": {\"33\": 10}, \"11\": {\"11\": 12}, \"19\": {\"19\": 8}, \"1\": {\"1\": 12}, \"44\": {\"44\": 12}, \"49\": {\"49\": 12}, \"4\": {\"4\": 12}, \"6\": {\"6\": 12}, \"39\": {\"39\": 12}, \"13\": {\"13\": 12}, \"5\": {\"5\": 10}, \"16\": {\"16\": 10}, \"25\": {\"25\": 12}, \"45\": {\"45\": 12}, \"7\": {\"7\": 10}, \"22\": {\"22\": 11, \"56\": 1}, \"40\": {\"40\": 12}, \"38\": {\"38\": 12}, \"35\": {\"35\": 8}, \"56\": {\"56\": 12}, \"50\": {\"50\": 10}, \"0\": {\"0\": 12}, \"10\": {\"10\": 12}, \"27\": {\"27\": 12}, \"20\": {\"20\": 10}, \"36\": {\"36\": 8}, \"34\": {\"34\": 12}, \"30\": {\"30\": 12}, \"2\": {\"2\": 10}, \"15\": {\"15\": 12}, \"18\": {\"18\": 12}, \"32\": {\"32\": 12}, \"31\": {\"31\": 12}, \"57\": {\"57\": 12}, \"48\": {\"48\": 8}, \"28\": {\"28\": 10}, \"14\": {\"14\": 11, \"23\": 1}, \"3\": {\"3\": 12}, \"8\": {\"8\": 12}, \"9\": {\"9\": 12}, \"21\": {\"21\": 10}, \"41\": {\"41\": 12}, \"24\": {\"24\": 12}, \"46\": {\"46\": 10}, \"43\": {\"43\": 10}, \"54\": {\"54\": 10}, \"23\": {\"23\": 10}, \"37\": {\"37\": 10}, \"12\": {\"12\": 10}, \"26\": {\"26\": 10}, \"51\": {\"51\": 6}}, \"CORES_1\": {\"46\": {\"46\": 12}, \"16\": {\"16\": 12}, \"26\": {\"26\": 12}, \"10\": {\"10\": 12}, \"9\": {\"9\": 10}, \"28\": {\"28\": 12}, \"51\": {\"51\": 12}, \"1\": {\"1\": 12}, \"55\": {\"55\": 11, \"36\": 1}, \"27\": {\"27\": 10}, \"22\": {\"22\": 12}, \"52\": {\"52\": 12}, \"3\": {\"3\": 12}, \"33\": {\"33\": 8}, \"47\": {\"47\": 12}, \"42\": {\"42\": 12}, \"12\": {\"12\": 4}, \"23\": {\"23\": 12}, \"49\": {\"49\": 10}, \"7\": {\"7\": 12}, \"4\": {\"4\": 12}, \"50\": {\"50\": 12}, \"19\": {\"19\": 12}, \"11\": {\"11\": 12}, \"31\": {\"31\": 10}, \"41\": {\"41\": 12}, \"56\": {\"56\": 10}, \"0\": {\"0\": 12}, \"57\": {\"57\": 12}, \"53\": {\"53\": 12}, \"43\": {\"43\": 12}, \"37\": {\"37\": 12}, \"2\": {\"2\": 8}, \"6\": {\"6\": 12}, \"18\": {\"18\": 12}, \"38\": {\"38\": 12}, \"15\": {\"15\": 12}, \"36\": {\"36\": 12}, \"39\": {\"38\": 2, \"39\": 6}, \"44\": {\"44\": 12}, \"8\": {\"8\": 12}, \"17\": {\"17\": 10}, \"5\": {\"5\": 12}, \"13\": {\"13\": 10}, \"40\": {\"40\": 10}, \"29\": {\"29\": 12}, \"48\": {\"48\": 12}, \"32\": {\"32\": 12}, \"30\": {\"30\": 12}, \"35\": {\"35\": 12}, \"25\": {\"25\": 12}, \"14\": {\"14\": 11, \"30\": 1}, \"54\": {\"54\": 10}, \"20\": {\"20\": 8}, \"21\": {\"21\": 10}, \"45\": {\"45\": 8}, \"24\": {\"24\": 8}, \"34\": {\"34\": 8}}, \"CORES_2\": {\"14\": {\"14\": 12}, \"22\": {\"22\": 12}, \"9\": {\"9\": 12}, \"47\": {\"47\": 12}, \"13\": {\"13\": 12}, \"8\": {\"8\": 12}, \"7\": {\"7\": 12}, \"49\": {\"34\": 1, \"49\": 11}, \"20\": {\"20\": 12}, \"16\": {\"16\": 12}, \"34\": {\"34\": 12}, \"56\": {\"56\": 12}, \"38\": {\"38\": 10}, \"4\": {\"4\": 12}, \"43\": {\"43\": 10}, \"26\": {\"26\": 10}, \"35\": {\"35\": 12}, \"31\": {\"31\": 12}, \"1\": {\"1\": 12}, \"39\": {\"39\": 12}, \"5\": {\"5\": 12}, \"24\": {\"24\": 12}, \"54\": {\"54\": 10}, \"23\": {\"23\": 12}, \"51\": {\"51\": 12}, \"27\": {\"27\": 10}, \"15\": {\"15\": 12}, \"0\": {\"0\": 12}, \"19\": {\"19\": 10}, \"18\": {\"18\": 8}, \"30\": {\"30\": 12}, \"55\": {\"55\": 10}, \"57\": {\"57\": 12}, \"2\": {\"2\": 12}, \"12\": {\"12\": 8}, \"41\": {\"41\": 12}, \"42\": {\"42\": 11, \"15\": 1}, \"48\": {\"48\": 12}, \"37\": {\"37\": 12}, \"6\": {\"6\": 10}, \"11\": {\"11\": 10}, \"45\": {\"45\": 8}, \"21\": {\"21\": 12}, \"46\": {\"46\": 10}, \"25\": {\"25\": 12}, \"36\": {\"36\": 10}, \"53\": {\"53\": 12}, \"28\": {\"28\": 12}, \"40\": {\"40\": 10}, \"33\": {\"33\": 10}, \"44\": {\"44\": 10}, \"3\": {\"3\": 12}, \"17\": {\"17\": 12}, \"32\": {\"32\": 10}, \"10\": {\"10\": 10}, \"52\": {\"52\": 10}, \"50\": {\"50\": 8}, \"29\": {\"29\": 6}}, \"ORACLE.run1_14\": {\"15\": {\"15\": 240}, \"3\": {\"6\": 55, \"0\": 6, \"3\": 110, \"13\": 27, \"2\": 5, \"7\": 36, \"14\": 1}, \"6\": {\"6\": 109, \"13\": 53, \"14\": 15, \"3\": 52, \"0\": 6, \"7\": 2, \"2\": 3}, \"1\": {\"9\": 99, \"1\": 138, \"10\": 3}, \"8\": {\"8\": 148, \"5\": 45, \"12\": 11, \"13\": 3, \"7\": 4, \"14\": 7, \"0\": 15, \"2\": 7}, \"10\": {\"10\": 194, \"1\": 7, \"4\": 26, \"9\": 13}, \"9\": {\"9\": 115, \"1\": 105, \"10\": 20}, \"13\": {\"13\": 35, \"4\": 10, \"2\": 21, \"5\": 25, \"6\": 57, \"15\": 20, \"0\": 13, \"14\": 17, \"12\": 24, \"3\": 18}, \"12\": {\"12\": 166, \"2\": 18, \"5\": 19, \"4\": 34, \"0\": 1, \"8\": 1, \"13\": 1}, \"5\": {\"8\": 55, \"0\": 31, \"5\": 82, \"2\": 34, \"4\": 1, \"12\": 20, \"14\": 11, \"13\": 6}, \"0\": {\"2\": 30, \"13\": 21, \"0\": 26, \"5\": 43, \"14\": 27, \"6\": 21, \"8\": 10, \"4\": 7, \"3\": 24, \"12\": 14, \"7\": 17}, \"2\": {\"4\": 4, \"5\": 34, \"7\": 11, \"12\": 50, \"3\": 16, \"6\": 17, \"2\": 46, \"13\": 17, \"8\": 6, \"0\": 17, \"14\": 22}, \"11\": {\"11\": 238, \"9\": 2}, \"14\": {\"13\": 36, \"0\": 41, \"6\": 20, \"2\": 32, \"14\": 80, \"3\": 3, \"5\": 17, \"8\": 3, \"7\": 8}, \"7\": {\"2\": 9, \"7\": 161, \"8\": 23, \"3\": 27, \"0\": 11, \"14\": 7, \"5\": 1, \"13\": 1}, \"4\": {\"4\": 178, \"12\": 49, \"10\": 12, \"2\": 1}}, \"ORACLE.run1_20\": {\"3\": {\"9\": 29, \"3\": 60, \"14\": 50, \"7\": 1, \"5\": 48, \"8\": 32, \"1\": 17, \"0\": 1, \"6\": 2}, \"15\": {\"2\": 41, \"15\": 39, \"6\": 29, \"13\": 36, \"12\": 39, \"4\": 12, \"7\": 33, \"1\": 4, \"9\": 7}, \"8\": {\"3\": 43, \"5\": 23, \"8\": 97, \"0\": 8, \"14\": 66, \"1\": 1, \"9\": 2}, \"4\": {\"15\": 13, \"4\": 121, \"12\": 37, \"7\": 3, \"6\": 12, \"13\": 43, \"2\": 11}, \"14\": {\"5\": 35, \"3\": 52, \"8\": 60, \"0\": 1, \"14\": 85, \"1\": 2, \"9\": 5}, \"0\": {\"0\": 154, \"11\": 47, \"8\": 24, \"3\": 7, \"14\": 7, \"5\": 1}, \"7\": {\"6\": 41, \"2\": 34, \"7\": 46, \"9\": 20, \"12\": 14, \"1\": 34, \"15\": 35, \"14\": 1, \"5\": 11, \"13\": 1, \"3\": 3}, \"6\": {\"6\": 66, \"7\": 44, \"15\": 38, \"2\": 35, \"5\": 4, \"12\": 18, \"1\": 12, \"9\": 13, \"3\": 1, \"13\": 2, \"4\": 6, \"14\": 1}, \"10\": {\"13\": 15, \"10\": 203, \"4\": 22}, \"5\": {\"14\": 39, \"1\": 31, \"5\": 60, \"9\": 44, \"3\": 44, \"7\": 11, \"15\": 1, \"8\": 9, \"6\": 1}, \"2\": {\"13\": 25, \"12\": 40, \"2\": 58, \"7\": 24, \"4\": 4, \"9\": 5, \"6\": 30, \"15\": 49, \"1\": 5}, \"12\": {\"12\": 61, \"15\": 29, \"13\": 52, \"6\": 20, \"2\": 52, \"4\": 16, \"7\": 10}, \"9\": {\"7\": 30, \"2\": 15, \"5\": 36, \"9\": 66, \"1\": 54, \"6\": 8, \"3\": 18, \"15\": 8, \"14\": 5}, \"1\": {\"9\": 54, \"1\": 64, \"15\": 10, \"2\": 10, \"5\": 29, \"7\": 30, \"6\": 11, \"3\": 21, \"14\": 9, \"12\": 1, \"8\": 1}, \"11\": {\"11\": 212, \"0\": 28}, \"13\": {\"13\": 136, \"4\": 34, \"12\": 39, \"15\": 13, \"2\": 10, \"7\": 2, \"10\": 5, \"6\": 1}}, \"ORACLE.run1_38\": {\"5\": {\"8\": 69, \"12\": 13, \"5\": 85, \"9\": 25, \"15\": 29, \"2\": 14, \"14\": 3, \"7\": 2}, \"8\": {\"2\": 25, \"8\": 70, \"15\": 26, \"9\": 30, \"7\": 10, \"5\": 49, \"12\": 26, \"14\": 4}, \"11\": {\"11\": 240}, \"1\": {\"6\": 101, \"1\": 139}, \"10\": {\"10\": 165, \"0\": 55, \"4\": 4, \"3\": 6, \"13\": 10}, \"15\": {\"15\": 191, \"1\": 7, \"5\": 12, \"8\": 8, \"6\": 13, \"12\": 9}, \"3\": {\"3\": 240}, \"7\": {\"2\": 83, \"7\": 96, \"14\": 57, \"9\": 1, \"5\": 1, \"8\": 2}, \"4\": {\"4\": 228, \"13\": 6, \"0\": 3, \"14\": 2, \"10\": 1}, \"14\": {\"8\": 2, \"14\": 134, \"7\": 61, \"2\": 34, \"13\": 4, \"4\": 1, \"0\": 4}, \"9\": {\"9\": 166, \"5\": 26, \"8\": 20, \"2\": 22, \"7\": 6}, \"12\": {\"12\": 228, \"5\": 7, \"8\": 4, \"15\": 1}, \"6\": {\"6\": 132, \"1\": 108}, \"2\": {\"2\": 113, \"7\": 70, \"8\": 11, \"14\": 24, \"9\": 17, \"5\": 5}, \"0\": {\"13\": 76, \"2\": 9, \"14\": 4, \"0\": 57, \"7\": 12, \"10\": 73, \"3\": 2, \"4\": 7}, \"13\": {\"13\": 171, \"0\": 61, \"4\": 2, \"7\": 3, \"10\": 2, \"14\": 1}}, \"ORACLE.run1_8\": {\"9\": {\"9\": 225, \"3\": 15}, \"10\": {\"13\": 53, \"10\": 48, \"7\": 33, \"6\": 39, \"1\": 21, \"5\": 41, \"4\": 1, \"11\": 3, \"8\": 1}, \"13\": {\"10\": 53, \"13\": 106, \"7\": 36, \"5\": 42, \"1\": 2, \"6\": 1}, \"0\": {\"0\": 240}, \"1\": {\"6\": 52, \"8\": 8, \"11\": 35, \"7\": 14, \"1\": 85, \"13\": 5, \"10\": 11, \"5\": 26, \"4\": 4}, \"15\": {\"15\": 157, \"12\": 60, \"2\": 23}, \"5\": {\"10\": 43, \"13\": 74, \"5\": 48, \"1\": 14, \"7\": 30, \"8\": 3, \"11\": 6, \"6\": 19, \"4\": 2, \"12\": 1}, \"3\": {\"3\": 234, \"9\": 6}, \"6\": {\"11\": 10, \"6\": 108, \"1\": 68, \"7\": 21, \"10\": 11, \"5\": 18, \"4\": 3, \"13\": 1}, \"11\": {\"10\": 8, \"1\": 57, \"4\": 25, \"6\": 32, \"11\": 59, \"8\": 39, \"5\": 5, \"14\": 11, \"7\": 4}, \"8\": {\"8\": 89, \"14\": 17, \"11\": 58, \"4\": 57, \"1\": 15, \"6\": 4}, \"4\": {\"4\": 132, \"11\": 40, \"8\": 55, \"14\": 11, \"1\": 2}, \"12\": {\"12\": 178, \"15\": 59, \"2\": 3}, \"14\": {\"14\": 196, \"11\": 5, \"8\": 20, \"4\": 19}, \"2\": {\"3\": 51, \"15\": 46, \"2\": 129, \"12\": 14}, \"7\": {\"1\": 9, \"7\": 94, \"5\": 42, \"6\": 33, \"10\": 53, \"13\": 8, \"11\": 1}}, \"ORACLE.run1_50\": {\"7\": {\"7\": 152, \"4\": 82, \"5\": 6}, \"3\": {\"3\": 123, \"9\": 3, \"15\": 21, \"11\": 42, \"6\": 35, \"5\": 10, \"12\": 6}, \"8\": {\"8\": 188, \"1\": 46, \"10\": 6}, \"2\": {\"2\": 104, \"14\": 101, \"0\": 35}, \"14\": {\"14\": 92, \"0\": 41, \"2\": 107}, \"4\": {\"7\": 124, \"4\": 95, \"5\": 19, \"15\": 2}, \"6\": {\"6\": 77, \"15\": 82, \"9\": 29, \"12\": 6, \"3\": 17, \"5\": 25, \"11\": 4}, \"15\": {\"15\": 91, \"9\": 29, \"5\": 37, \"3\": 21, \"6\": 55, \"12\": 6, \"11\": 1}, \"10\": {\"8\": 4, \"10\": 217, \"0\": 17, \"1\": 2}, \"11\": {\"11\": 157, \"3\": 58, \"12\": 14, \"6\": 8, \"5\": 2, \"9\": 1}, \"13\": {\"13\": 221, \"1\": 18, \"11\": 1}, \"9\": {\"6\": 30, \"9\": 104, \"5\": 18, \"12\": 40, \"15\": 39, \"3\": 6, \"11\": 3}, \"0\": {\"0\": 174, \"10\": 19, \"2\": 19, \"14\": 28}, \"1\": {\"1\": 114, \"8\": 64, \"13\": 42, \"10\": 20}, \"12\": {\"11\": 16, \"12\": 169, \"9\": 35, \"6\": 7, \"3\": 5, \"15\": 7, \"5\": 1}, \"5\": {\"5\": 74, \"9\": 18, \"4\": 20, \"7\": 49, \"3\": 12, \"11\": 21, \"15\": 26, \"6\": 14, \"13\": 6}}, \"ORACLE.run1_32\": {\"8\": {\"2\": 18, \"14\": 28, \"8\": 97, \"0\": 63, \"1\": 9, \"5\": 8, \"15\": 6, \"7\": 10, \"4\": 1}, \"14\": {\"14\": 105, \"0\": 38, \"7\": 31, \"2\": 31, \"8\": 24, \"5\": 11}, \"2\": {\"2\": 155, \"4\": 52, \"1\": 31, \"3\": 1, \"13\": 1}, \"0\": {\"7\": 44, \"0\": 80, \"14\": 43, \"8\": 55, \"5\": 15, \"15\": 2, \"2\": 1}, \"1\": {\"1\": 207, \"13\": 3, \"4\": 15, \"2\": 3, \"3\": 11, \"8\": 1}, \"10\": {\"10\": 237, \"12\": 2, \"6\": 1}, \"11\": {\"11\": 197, \"9\": 42, \"12\": 1}, \"5\": {\"7\": 59, \"5\": 100, \"14\": 22, \"0\": 24, \"8\": 12, \"15\": 23}, \"15\": {\"15\": 197, \"0\": 15, \"5\": 20, \"8\": 5, \"7\": 3}, \"3\": {\"3\": 116, \"13\": 64, \"4\": 34, \"2\": 2, \"1\": 21, \"9\": 3}, \"12\": {\"12\": 234, \"10\": 3, \"9\": 3}, \"7\": {\"0\": 36, \"7\": 107, \"5\": 61, \"14\": 27, \"8\": 5, \"15\": 4}, \"13\": {\"3\": 65, \"4\": 19, \"13\": 111, \"9\": 31, \"1\": 12, \"11\": 2}, \"6\": {\"6\": 236, \"10\": 4}, \"4\": {\"1\": 49, \"4\": 126, \"2\": 26, \"3\": 29, \"13\": 10}, \"9\": {\"12\": 42, \"11\": 35, \"9\": 91, \"13\": 55, \"3\": 16, \"1\": 1}}, \"ORACLE.run1_26\": {\"4\": {\"4\": 239, \"3\": 1}, \"12\": {\"13\": 18, \"3\": 52, \"12\": 80, \"7\": 46, \"9\": 29, \"8\": 12, \"2\": 3}, \"10\": {\"10\": 92, \"14\": 82, \"15\": 25, \"0\": 33, \"6\": 4, \"1\": 2, \"2\": 1, \"5\": 1}, \"0\": {\"0\": 128, \"10\": 35, \"2\": 35, \"14\": 32, \"9\": 2, \"7\": 1, \"6\": 2, \"8\": 3, \"15\": 2}, \"13\": {\"9\": 17, \"4\": 23, \"13\": 98, \"3\": 71, \"2\": 11, \"12\": 19, \"0\": 1}, \"9\": {\"9\": 39, \"12\": 39, \"3\": 39, \"13\": 17, \"8\": 32, \"7\": 31, \"2\": 38, \"0\": 5}, \"3\": {\"13\": 54, \"9\": 18, \"3\": 79, \"7\": 14, \"12\": 71, \"8\": 4}, \"2\": {\"0\": 45, \"2\": 78, \"7\": 25, \"12\": 9, \"8\": 55, \"9\": 23, \"10\": 2, \"3\": 2, \"13\": 1}, \"5\": {\"5\": 98, \"11\": 13, \"1\": 31, \"15\": 50, \"6\": 46, \"14\": 2}, \"14\": {\"1\": 15, \"10\": 85, \"14\": 88, \"0\": 26, \"15\": 16, \"6\": 10}, \"8\": {\"7\": 62, \"8\": 72, \"2\": 58, \"9\": 29, \"0\": 2, \"12\": 12, \"3\": 4, \"13\": 1}, \"7\": {\"7\": 75, \"12\": 27, \"8\": 45, \"2\": 24, \"9\": 40, \"3\": 19, \"13\": 10}, \"6\": {\"1\": 60, \"6\": 67, \"11\": 2, \"5\": 44, \"15\": 61, \"14\": 4, \"10\": 2}, \"11\": {\"11\": 137, \"5\": 52, \"6\": 9, \"1\": 31, \"15\": 11}, \"15\": {\"10\": 26, \"5\": 40, \"15\": 67, \"14\": 26, \"6\": 45, \"1\": 30, \"0\": 4, \"11\": 2}, \"1\": {\"1\": 116, \"14\": 17, \"11\": 19, \"15\": 19, \"6\": 38, \"5\": 21, \"10\": 9, \"0\": 1}}, \"ORACLE.run1_44\": {\"12\": {\"3\": 111, \"12\": 129}, \"7\": {\"7\": 123, \"10\": 52, \"9\": 26, \"4\": 30, \"14\": 5, \"5\": 4}, \"5\": {\"5\": 42, \"14\": 66, \"9\": 10, \"4\": 28, \"2\": 22, \"7\": 16, \"15\": 24, \"10\": 26, \"1\": 5, \"8\": 1}, \"15\": {\"5\": 34, \"15\": 97, \"1\": 29, \"4\": 8, \"8\": 25, \"2\": 29, \"14\": 12, \"10\": 6}, \"8\": {\"0\": 43, \"8\": 85, \"1\": 63, \"5\": 4, \"15\": 22, \"2\": 21, \"4\": 1, \"14\": 1}, \"2\": {\"2\": 173, \"5\": 9, \"1\": 28, \"15\": 20, \"4\": 2, \"8\": 8}, \"13\": {\"13\": 167, \"6\": 65, \"9\": 8}, \"4\": {\"4\": 32, \"6\": 1, \"7\": 50, \"5\": 17, \"8\": 3, \"9\": 39, \"14\": 17, \"10\": 34, \"1\": 1, \"2\": 26, \"15\": 20}, \"0\": {\"0\": 212, \"1\": 10, \"8\": 18}, \"6\": {\"6\": 177, \"9\": 20, \"13\": 43}, \"9\": {\"5\": 20, \"10\": 16, \"6\": 20, \"4\": 18, \"13\": 39, \"9\": 44, \"7\": 57, \"14\": 21, \"15\": 4, \"2\": 1}, \"11\": {\"11\": 240}, \"10\": {\"4\": 35, \"9\": 21, \"10\": 72, \"7\": 69, \"5\": 14, \"1\": 6, \"14\": 14, \"8\": 3, \"2\": 4, \"15\": 2}, \"14\": {\"5\": 64, \"14\": 82, \"9\": 3, \"10\": 17, \"4\": 38, \"7\": 15, \"15\": 21}, \"1\": {\"1\": 114, \"8\": 65, \"15\": 13, \"2\": 35, \"0\": 13}, \"3\": {\"3\": 137, \"12\": 102, \"0\": 1}}}, \"per_domain_accuracy\": {\"CORES_3\": {\"accuracy\": 1.0, \"source?\": true}, \"CORES_4\": {\"accuracy\": 0.99375, \"source?\": true}, \"CORES_5\": {\"accuracy\": 0.996875, \"source?\": true}, \"CORES_1\": {\"accuracy\": 0.99375, \"source?\": true}, \"CORES_2\": {\"accuracy\": 0.996875, \"source?\": true}, \"ORACLE.run1_14\": {\"accuracy\": 0.5380208333333333, \"source?\": false}, \"ORACLE.run1_20\": {\"accuracy\": 0.39791666666666664, \"source?\": false}, \"ORACLE.run1_38\": {\"accuracy\": 0.6393229166666666, \"source?\": false}, \"ORACLE.run1_8\": {\"accuracy\": 0.5541666666666667, \"source?\": false}, \"ORACLE.run1_50\": {\"accuracy\": 0.5604166666666667, \"source?\": false}, \"ORACLE.run1_32\": {\"accuracy\": 0.6239583333333333, \"source?\": false}, \"ORACLE.run1_26\": {\"accuracy\": 0.4044270833333333, \"source?\": false}, \"ORACLE.run1_44\": {\"accuracy\": 0.5015625, \"source?\": false}}}, \"history\": {\"epoch_indices\": [1, 2, 3, 4, 5, 6, 7, 8, 9, 10, 11, 12, 13, 14, 15], \"train_label_loss\": [0.17528646926591204, 0.046632191299585866, 0.02620679495369201, 0.03006424919366237, 0.013173755254918332, 0.02440096110559202, 0.01979959093892426, 0.024275166159995448, 0.017212695466858635, 0.006999190374267496, 0.01587628953346666, 0.010816910511267852, 0.006186221045117602, 0.014182581794078605, 0.010231042900777596], \"source_val_label_loss\": [0.06951212882995605, 0.030887173488736153, 0.02571626380085945, 0.009810520336031914, 0.014652789570391178, 0.016052495688199997, 0.024389734491705894, 0.011453424580395222, 0.022527631372213364, 0.012419220991432667, 0.014395811595022678, 0.014344937168061733, 0.011335544288158417, 0.02526697888970375, 0.020137611776590347], \"target_val_label_loss\": [1.912056803703308, 1.723829746246338, 1.5623316764831543, 1.6563258171081543, 1.7189304828643799, 1.365120530128479, 1.389090657234192, 1.4587154388427734, 1.4745146036148071, 1.3523064851760864, 1.3165963888168335, 1.3862577676773071, 1.4158504009246826, 1.3919761180877686, 1.4310256242752075], \"source_val_acc_label\": [0.97875, 0.9903125, 0.9928125, 0.9978125, 0.9959375, 0.995625, 0.994375, 0.9946875, 0.9953125, 0.99625, 0.99625, 0.9978125, 0.9978125, 0.99625, 0.9978125], \"target_val_acc_label\": [0.5320638020833334, 0.5482096354166667, 0.5220703125, 0.5416341145833333, 0.480859375, 0.5626953125, 0.5512369791666667, 0.5152669270833333, 0.47405598958333334, 0.5089192708333333, 0.5274739583333333, 0.4998697916666667, 0.509375, 0.5013346354166667, 0.49755859375]}, \"dataset_metrics\": {\"source\": {\"train\": {\"n_unique_x\": 20297, \"n_unique_y\": 58, \"n_batch/episode\": 733}, \"val\": {\"n_unique_x\": 4332, \"n_unique_y\": 58, \"n_batch/episode\": 100}, \"test\": {\"n_unique_x\": 4332, \"n_unique_y\": 58, \"n_batch/episode\": 100}}, \"target\": {\"train\": {\"n_unique_x\": 179200, \"n_unique_y\": 16, \"n_batch/episode\": 6720}, \"val\": {\"n_unique_x\": 38400, \"n_unique_y\": 16, \"n_batch/episode\": 960}, \"test\": {\"n_unique_x\": 38400, \"n_unique_y\": 16, \"n_batch/episode\": 960}}}}'"
      ]
     },
     "execution_count": 29,
     "metadata": {},
     "output_type": "execute_result"
    }
   ],
   "source": [
    "json.dumps(experiment)"
   ]
  }
 ],
 "metadata": {
  "celltoolbar": "Tags",
  "kernelspec": {
   "display_name": "Python 3 (ipykernel)",
   "language": "python",
   "name": "python3"
  },
  "language_info": {
   "codemirror_mode": {
    "name": "ipython",
    "version": 3
   },
   "file_extension": ".py",
   "mimetype": "text/x-python",
   "name": "python",
   "nbconvert_exporter": "python",
   "pygments_lexer": "ipython3",
   "version": "3.8.10"
  },
  "papermill": {
   "default_parameters": {},
   "duration": 464.505484,
   "end_time": "2022-03-07T08:57:53.875495",
   "environment_variables": {},
   "exception": null,
   "input_path": "/mnt/wd500GB/CSC500/csc500-main/csc500-notebooks/templates/tl_ptn_template.ipynb",
   "output_path": "trial.ipynb",
   "parameters": {
    "parameters": {
     "BEST_MODEL_PATH": "./best_model.pth",
     "NUM_LOGS_PER_EPOCH": 10,
     "criteria_for_best": "target_loss",
     "dataset_seed": 1337,
     "datasets": [
      {
       "domain_prefix": "CORES_",
       "domains": [
        1,
        2,
        3,
        4,
        5
       ],
       "episode_transforms": [],
       "labels": [
        "1-10.",
        "1-11.",
        "1-15.",
        "1-16.",
        "1-17.",
        "1-18.",
        "1-19.",
        "10-4.",
        "10-7.",
        "11-1.",
        "11-14.",
        "11-17.",
        "11-20.",
        "11-7.",
        "13-20.",
        "13-8.",
        "14-10.",
        "14-11.",
        "14-14.",
        "14-7.",
        "15-1.",
        "15-20.",
        "16-1.",
        "16-16.",
        "17-10.",
        "17-11.",
        "17-2.",
        "19-1.",
        "19-16.",
        "19-19.",
        "19-20.",
        "19-3.",
        "2-10.",
        "2-11.",
        "2-17.",
        "2-18.",
        "2-20.",
        "2-3.",
        "2-4.",
        "2-5.",
        "2-6.",
        "2-7.",
        "2-8.",
        "3-13.",
        "3-18.",
        "3-3.",
        "4-1.",
        "4-10.",
        "4-11.",
        "4-19.",
        "5-5.",
        "6-15.",
        "7-10.",
        "7-14.",
        "8-18.",
        "8-20.",
        "8-3.",
        "8-8."
       ],
       "num_examples_per_domain_per_label": 100,
       "pickle_path": "/mnt/wd500GB/CSC500/csc500-main/datasets/cores.stratified_ds.2022A.pkl",
       "source_or_target_dataset": "source",
       "x_transforms": []
      },
      {
       "domain_prefix": "ORACLE.run1_",
       "domains": [
        32,
        38,
        8,
        44,
        14,
        50,
        20,
        26
       ],
       "episode_transforms": [],
       "labels": [
        "3123D52",
        "3123D65",
        "3123D79",
        "3123D80",
        "3123D54",
        "3123D70",
        "3123D7B",
        "3123D89",
        "3123D58",
        "3123D76",
        "3123D7D",
        "3123EFE",
        "3123D64",
        "3123D78",
        "3123D7E",
        "3124E4A"
       ],
       "num_examples_per_domain_per_label": 2000,
       "pickle_path": "/mnt/wd500GB/CSC500/csc500-main/datasets/oracle.Run1_framed_2000Examples_stratified_ds.2022A.pkl",
       "source_or_target_dataset": "target",
       "x_transforms": []
      }
     ],
     "device": "cuda",
     "experiment_name": "tl_1_cores-oracle.run1",
     "lr": 0.001,
     "n_epoch": 50,
     "n_query": 2,
     "n_shot": 3,
     "n_way": 16,
     "patience": 3,
     "seed": 1337,
     "test_k_factor": 2,
     "torch_default_dtype": "torch.float32",
     "train_k_factor": 3,
     "val_k_factor": 2,
     "x_net": [
      {
       "class": "nnReshape",
       "kargs": {
        "shape": [
         -1,
         1,
         2,
         256
        ]
       }
      },
      {
       "class": "Conv2d",
       "kargs": {
        "bias": false,
        "in_channels": 1,
        "kernel_size": [
         1,
         7
        ],
        "out_channels": 256,
        "padding": [
         0,
         3
        ]
       }
      },
      {
       "class": "ReLU",
       "kargs": {
        "inplace": true
       }
      },
      {
       "class": "BatchNorm2d",
       "kargs": {
        "num_features": 256
       }
      },
      {
       "class": "Conv2d",
       "kargs": {
        "bias": true,
        "in_channels": 256,
        "kernel_size": [
         2,
         7
        ],
        "out_channels": 80,
        "padding": [
         0,
         3
        ]
       }
      },
      {
       "class": "ReLU",
       "kargs": {
        "inplace": true
       }
      },
      {
       "class": "BatchNorm2d",
       "kargs": {
        "num_features": 80
       }
      },
      {
       "class": "Flatten",
       "kargs": {}
      },
      {
       "class": "Linear",
       "kargs": {
        "in_features": 20480,
        "out_features": 256
       }
      },
      {
       "class": "ReLU",
       "kargs": {
        "inplace": true
       }
      },
      {
       "class": "BatchNorm1d",
       "kargs": {
        "num_features": 256
       }
      },
      {
       "class": "Linear",
       "kargs": {
        "in_features": 256,
        "out_features": 256
       }
      }
     ]
    }
   },
   "start_time": "2022-03-07T08:50:09.370011",
   "version": "2.3.4"
  }
 },
 "nbformat": 4,
 "nbformat_minor": 5
}