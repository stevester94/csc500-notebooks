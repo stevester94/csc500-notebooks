{
 "cells": [
  {
   "cell_type": "markdown",
   "id": "9fea5f46",
   "metadata": {
    "papermill": {
     "duration": 0.017342,
     "end_time": "2022-03-07T08:41:11.279254",
     "exception": false,
     "start_time": "2022-03-07T08:41:11.261912",
     "status": "completed"
    },
    "tags": []
   },
   "source": [
    "# Transfer Learning Template"
   ]
  },
  {
   "cell_type": "code",
   "execution_count": 1,
   "id": "0902182a",
   "metadata": {
    "execution": {
     "iopub.execute_input": "2022-03-07T08:41:11.318806Z",
     "iopub.status.busy": "2022-03-07T08:41:11.318389Z",
     "iopub.status.idle": "2022-03-07T08:41:12.052582Z",
     "shell.execute_reply": "2022-03-07T08:41:12.051969Z"
    },
    "papermill": {
     "duration": 0.76113,
     "end_time": "2022-03-07T08:41:12.052707",
     "exception": false,
     "start_time": "2022-03-07T08:41:11.291577",
     "status": "completed"
    },
    "tags": []
   },
   "outputs": [],
   "source": [
    "%load_ext autoreload\n",
    "%autoreload 2\n",
    "%matplotlib inline\n",
    "\n",
    "    \n",
    "import os, json, sys, time, random\n",
    "import numpy as np\n",
    "import torch\n",
    "from torch.optim import Adam\n",
    "from  easydict import EasyDict\n",
    "import matplotlib.pyplot as plt\n",
    "\n",
    "from steves_models.steves_ptn import Steves_Prototypical_Network\n",
    "\n",
    "from steves_utils.lazy_iterable_wrapper import Lazy_Iterable_Wrapper\n",
    "from steves_utils.iterable_aggregator import Iterable_Aggregator\n",
    "from steves_utils.ptn_train_eval_test_jig import  PTN_Train_Eval_Test_Jig\n",
    "from steves_utils.torch_sequential_builder import build_sequential\n",
    "from steves_utils.torch_utils import get_dataset_metrics, ptn_confusion_by_domain_over_dataloader\n",
    "from steves_utils.utils_v2 import (per_domain_accuracy_from_confusion, get_datasets_base_path)\n",
    "from steves_utils.PTN.utils import independent_accuracy_assesment\n",
    "\n",
    "from torch.utils.data import DataLoader\n",
    "\n",
    "from steves_utils.stratified_dataset.episodic_accessor import Episodic_Accessor_Factory\n",
    "\n",
    "from steves_utils.ptn_do_report import (\n",
    "    get_loss_curve,\n",
    "    get_results_table,\n",
    "    get_parameters_table,\n",
    "    get_domain_accuracies,\n",
    ")\n",
    "\n",
    "from steves_utils.transforms import get_chained_transform"
   ]
  },
  {
   "cell_type": "markdown",
   "id": "41c840b4",
   "metadata": {
    "papermill": {
     "duration": 0.01301,
     "end_time": "2022-03-07T08:41:12.086773",
     "exception": false,
     "start_time": "2022-03-07T08:41:12.073763",
     "status": "completed"
    },
    "tags": []
   },
   "source": [
    "# Allowed Parameters\n",
    "These are allowed parameters, not defaults\n",
    "Each of these values need to be present in the injected parameters (the notebook will raise an exception if they are not present)\n",
    "\n",
    "Papermill uses the cell tag \"parameters\" to inject the real parameters below this cell.\n",
    "Enable tags to see what I mean"
   ]
  },
  {
   "cell_type": "code",
   "execution_count": 2,
   "id": "fd44eb83",
   "metadata": {
    "execution": {
     "iopub.execute_input": "2022-03-07T08:41:12.115333Z",
     "iopub.status.busy": "2022-03-07T08:41:12.115062Z",
     "iopub.status.idle": "2022-03-07T08:41:12.128645Z",
     "shell.execute_reply": "2022-03-07T08:41:12.128273Z"
    },
    "papermill": {
     "duration": 0.02954,
     "end_time": "2022-03-07T08:41:12.128751",
     "exception": false,
     "start_time": "2022-03-07T08:41:12.099211",
     "status": "completed"
    },
    "tags": []
   },
   "outputs": [],
   "source": [
    "required_parameters = {\n",
    "    \"experiment_name\",\n",
    "    \"lr\",\n",
    "    \"device\",\n",
    "    \"seed\",\n",
    "    \"dataset_seed\",\n",
    "    \"n_shot\",\n",
    "    \"n_query\",\n",
    "    \"n_way\",\n",
    "    \"train_k_factor\",\n",
    "    \"val_k_factor\",\n",
    "    \"test_k_factor\",\n",
    "    \"n_epoch\",\n",
    "    \"patience\",\n",
    "    \"criteria_for_best\",\n",
    "    \"x_net\",\n",
    "    \"datasets\",\n",
    "    \"torch_default_dtype\",\n",
    "    \"NUM_LOGS_PER_EPOCH\",\n",
    "    \"BEST_MODEL_PATH\",\n",
    "}"
   ]
  },
  {
   "cell_type": "code",
   "execution_count": 3,
   "id": "fa3f0049",
   "metadata": {
    "execution": {
     "iopub.execute_input": "2022-03-07T08:41:12.169737Z",
     "iopub.status.busy": "2022-03-07T08:41:12.165843Z",
     "iopub.status.idle": "2022-03-07T08:41:12.183552Z",
     "shell.execute_reply": "2022-03-07T08:41:12.183045Z"
    },
    "papermill": {
     "duration": 0.037052,
     "end_time": "2022-03-07T08:41:12.183657",
     "exception": false,
     "start_time": "2022-03-07T08:41:12.146605",
     "status": "completed"
    },
    "tags": [
     "parameters"
    ]
   },
   "outputs": [],
   "source": [
    "from steves_utils.CORES.utils import (\n",
    "    ALL_NODES,\n",
    "    ALL_NODES_MINIMUM_1000_EXAMPLES,\n",
    "    ALL_DAYS\n",
    ")\n",
    "\n",
    "from steves_utils.ORACLE.utils_v2 import (\n",
    "    ALL_DISTANCES_FEET_NARROWED,\n",
    "    ALL_RUNS,\n",
    "    ALL_SERIAL_NUMBERS,\n",
    ")\n",
    "\n",
    "standalone_parameters = {}\n",
    "standalone_parameters[\"experiment_name\"] = \"STANDALONE PTN\"\n",
    "standalone_parameters[\"lr\"] = 0.001\n",
    "standalone_parameters[\"device\"] = \"cuda\"\n",
    "\n",
    "standalone_parameters[\"seed\"] = 1337\n",
    "standalone_parameters[\"dataset_seed\"] = 1337\n",
    "\n",
    "standalone_parameters[\"n_way\"] = 8\n",
    "standalone_parameters[\"n_shot\"] = 3\n",
    "standalone_parameters[\"n_query\"]  = 2\n",
    "standalone_parameters[\"train_k_factor\"] = 1\n",
    "standalone_parameters[\"val_k_factor\"] = 2\n",
    "standalone_parameters[\"test_k_factor\"] = 2\n",
    "\n",
    "\n",
    "standalone_parameters[\"n_epoch\"] = 50\n",
    "\n",
    "standalone_parameters[\"patience\"] = 10\n",
    "standalone_parameters[\"criteria_for_best\"] = \"source_loss\"\n",
    "\n",
    "standalone_parameters[\"datasets\"] = [\n",
    "    {\n",
    "        \"labels\": ALL_SERIAL_NUMBERS,\n",
    "        \"domains\": ALL_DISTANCES_FEET_NARROWED,\n",
    "        \"num_examples_per_domain_per_label\": 100,\n",
    "        \"pickle_path\": os.path.join(get_datasets_base_path(), \"oracle.Run1_framed_2000Examples_stratified_ds.2022A.pkl\"),\n",
    "        \"source_or_target_dataset\": \"source\",\n",
    "        \"x_transforms\": [\"unit_mag\", \"minus_two\"],\n",
    "        \"episode_transforms\": [],\n",
    "        \"domain_prefix\": \"ORACLE_\"\n",
    "    },\n",
    "    {\n",
    "        \"labels\": ALL_NODES,\n",
    "        \"domains\": ALL_DAYS,\n",
    "        \"num_examples_per_domain_per_label\": 100,\n",
    "        \"pickle_path\": os.path.join(get_datasets_base_path(), \"cores.stratified_ds.2022A.pkl\"),\n",
    "        \"source_or_target_dataset\": \"target\",\n",
    "        \"x_transforms\": [\"unit_power\", \"times_zero\"],\n",
    "        \"episode_transforms\": [],\n",
    "        \"domain_prefix\": \"CORES_\"\n",
    "    }   \n",
    "]\n",
    "\n",
    "standalone_parameters[\"torch_default_dtype\"] = \"torch.float32\" \n",
    "\n",
    "\n",
    "\n",
    "standalone_parameters[\"x_net\"] =     [\n",
    "    {\"class\": \"nnReshape\", \"kargs\": {\"shape\":[-1, 1, 2, 256]}},\n",
    "    {\"class\": \"Conv2d\", \"kargs\": { \"in_channels\":1, \"out_channels\":256, \"kernel_size\":(1,7), \"bias\":False, \"padding\":(0,3), },},\n",
    "    {\"class\": \"ReLU\", \"kargs\": {\"inplace\": True}},\n",
    "    {\"class\": \"BatchNorm2d\", \"kargs\": {\"num_features\":256}},\n",
    "\n",
    "    {\"class\": \"Conv2d\", \"kargs\": { \"in_channels\":256, \"out_channels\":80, \"kernel_size\":(2,7), \"bias\":True, \"padding\":(0,3), },},\n",
    "    {\"class\": \"ReLU\", \"kargs\": {\"inplace\": True}},\n",
    "    {\"class\": \"BatchNorm2d\", \"kargs\": {\"num_features\":80}},\n",
    "    {\"class\": \"Flatten\", \"kargs\": {}},\n",
    "\n",
    "    {\"class\": \"Linear\", \"kargs\": {\"in_features\": 80*256, \"out_features\": 256}}, # 80 units per IQ pair\n",
    "    {\"class\": \"ReLU\", \"kargs\": {\"inplace\": True}},\n",
    "    {\"class\": \"BatchNorm1d\", \"kargs\": {\"num_features\":256}},\n",
    "\n",
    "    {\"class\": \"Linear\", \"kargs\": {\"in_features\": 256, \"out_features\": 256}},\n",
    "]\n",
    "\n",
    "# Parameters relevant to results\n",
    "# These parameters will basically never need to change\n",
    "standalone_parameters[\"NUM_LOGS_PER_EPOCH\"] = 10\n",
    "standalone_parameters[\"BEST_MODEL_PATH\"] = \"./best_model.pth\"\n",
    "\n",
    "\n",
    "\n",
    "\n"
   ]
  },
  {
   "cell_type": "code",
   "execution_count": 4,
   "id": "7ffb2c9d",
   "metadata": {
    "execution": {
     "iopub.execute_input": "2022-03-07T08:41:12.226747Z",
     "iopub.status.busy": "2022-03-07T08:41:12.226228Z",
     "iopub.status.idle": "2022-03-07T08:41:12.241859Z",
     "shell.execute_reply": "2022-03-07T08:41:12.241323Z"
    },
    "papermill": {
     "duration": 0.039523,
     "end_time": "2022-03-07T08:41:12.241971",
     "exception": false,
     "start_time": "2022-03-07T08:41:12.202448",
     "status": "completed"
    },
    "tags": [
     "injected-parameters"
    ]
   },
   "outputs": [],
   "source": [
    "# Parameters\n",
    "parameters = {\n",
    "    \"experiment_name\": \"tl_1_cores-oracle.run1\",\n",
    "    \"device\": \"cuda\",\n",
    "    \"lr\": 0.001,\n",
    "    \"seed\": 1337,\n",
    "    \"dataset_seed\": 1337,\n",
    "    \"n_shot\": 3,\n",
    "    \"n_query\": 2,\n",
    "    \"train_k_factor\": 3,\n",
    "    \"val_k_factor\": 2,\n",
    "    \"test_k_factor\": 2,\n",
    "    \"torch_default_dtype\": \"torch.float32\",\n",
    "    \"n_epoch\": 50,\n",
    "    \"patience\": 3,\n",
    "    \"criteria_for_best\": \"target_loss\",\n",
    "    \"x_net\": [\n",
    "        {\"class\": \"nnReshape\", \"kargs\": {\"shape\": [-1, 1, 2, 256]}},\n",
    "        {\n",
    "            \"class\": \"Conv2d\",\n",
    "            \"kargs\": {\n",
    "                \"in_channels\": 1,\n",
    "                \"out_channels\": 256,\n",
    "                \"kernel_size\": [1, 7],\n",
    "                \"bias\": False,\n",
    "                \"padding\": [0, 3],\n",
    "            },\n",
    "        },\n",
    "        {\"class\": \"ReLU\", \"kargs\": {\"inplace\": True}},\n",
    "        {\"class\": \"BatchNorm2d\", \"kargs\": {\"num_features\": 256}},\n",
    "        {\n",
    "            \"class\": \"Conv2d\",\n",
    "            \"kargs\": {\n",
    "                \"in_channels\": 256,\n",
    "                \"out_channels\": 80,\n",
    "                \"kernel_size\": [2, 7],\n",
    "                \"bias\": True,\n",
    "                \"padding\": [0, 3],\n",
    "            },\n",
    "        },\n",
    "        {\"class\": \"ReLU\", \"kargs\": {\"inplace\": True}},\n",
    "        {\"class\": \"BatchNorm2d\", \"kargs\": {\"num_features\": 80}},\n",
    "        {\"class\": \"Flatten\", \"kargs\": {}},\n",
    "        {\"class\": \"Linear\", \"kargs\": {\"in_features\": 20480, \"out_features\": 256}},\n",
    "        {\"class\": \"ReLU\", \"kargs\": {\"inplace\": True}},\n",
    "        {\"class\": \"BatchNorm1d\", \"kargs\": {\"num_features\": 256}},\n",
    "        {\"class\": \"Linear\", \"kargs\": {\"in_features\": 256, \"out_features\": 256}},\n",
    "    ],\n",
    "    \"NUM_LOGS_PER_EPOCH\": 10,\n",
    "    \"BEST_MODEL_PATH\": \"./best_model.pth\",\n",
    "    \"n_way\": 16,\n",
    "    \"datasets\": [\n",
    "        {\n",
    "            \"labels\": [\n",
    "                \"1-10.\",\n",
    "                \"1-11.\",\n",
    "                \"1-15.\",\n",
    "                \"1-16.\",\n",
    "                \"1-17.\",\n",
    "                \"1-18.\",\n",
    "                \"1-19.\",\n",
    "                \"10-4.\",\n",
    "                \"10-7.\",\n",
    "                \"11-1.\",\n",
    "                \"11-14.\",\n",
    "                \"11-17.\",\n",
    "                \"11-20.\",\n",
    "                \"11-7.\",\n",
    "                \"13-20.\",\n",
    "                \"13-8.\",\n",
    "                \"14-10.\",\n",
    "                \"14-11.\",\n",
    "                \"14-14.\",\n",
    "                \"14-7.\",\n",
    "                \"15-1.\",\n",
    "                \"15-20.\",\n",
    "                \"16-1.\",\n",
    "                \"16-16.\",\n",
    "                \"17-10.\",\n",
    "                \"17-11.\",\n",
    "                \"17-2.\",\n",
    "                \"19-1.\",\n",
    "                \"19-16.\",\n",
    "                \"19-19.\",\n",
    "                \"19-20.\",\n",
    "                \"19-3.\",\n",
    "                \"2-10.\",\n",
    "                \"2-11.\",\n",
    "                \"2-17.\",\n",
    "                \"2-18.\",\n",
    "                \"2-20.\",\n",
    "                \"2-3.\",\n",
    "                \"2-4.\",\n",
    "                \"2-5.\",\n",
    "                \"2-6.\",\n",
    "                \"2-7.\",\n",
    "                \"2-8.\",\n",
    "                \"3-13.\",\n",
    "                \"3-18.\",\n",
    "                \"3-3.\",\n",
    "                \"4-1.\",\n",
    "                \"4-10.\",\n",
    "                \"4-11.\",\n",
    "                \"4-19.\",\n",
    "                \"5-5.\",\n",
    "                \"6-15.\",\n",
    "                \"7-10.\",\n",
    "                \"7-14.\",\n",
    "                \"8-18.\",\n",
    "                \"8-20.\",\n",
    "                \"8-3.\",\n",
    "                \"8-8.\",\n",
    "            ],\n",
    "            \"domains\": [1, 2, 3, 4, 5],\n",
    "            \"num_examples_per_domain_per_label\": 100,\n",
    "            \"pickle_path\": \"/mnt/wd500GB/CSC500/csc500-main/datasets/cores.stratified_ds.2022A.pkl\",\n",
    "            \"source_or_target_dataset\": \"source\",\n",
    "            \"x_transforms\": [\"unit_power\"],\n",
    "            \"episode_transforms\": [],\n",
    "            \"domain_prefix\": \"CORES_\",\n",
    "        },\n",
    "        {\n",
    "            \"labels\": [\n",
    "                \"3123D52\",\n",
    "                \"3123D65\",\n",
    "                \"3123D79\",\n",
    "                \"3123D80\",\n",
    "                \"3123D54\",\n",
    "                \"3123D70\",\n",
    "                \"3123D7B\",\n",
    "                \"3123D89\",\n",
    "                \"3123D58\",\n",
    "                \"3123D76\",\n",
    "                \"3123D7D\",\n",
    "                \"3123EFE\",\n",
    "                \"3123D64\",\n",
    "                \"3123D78\",\n",
    "                \"3123D7E\",\n",
    "                \"3124E4A\",\n",
    "            ],\n",
    "            \"domains\": [32, 38, 8, 44, 14, 50, 20, 26],\n",
    "            \"num_examples_per_domain_per_label\": 2000,\n",
    "            \"pickle_path\": \"/mnt/wd500GB/CSC500/csc500-main/datasets/oracle.Run1_framed_2000Examples_stratified_ds.2022A.pkl\",\n",
    "            \"source_or_target_dataset\": \"target\",\n",
    "            \"x_transforms\": [\"unit_power\"],\n",
    "            \"episode_transforms\": [],\n",
    "            \"domain_prefix\": \"ORACLE.run1_\",\n",
    "        },\n",
    "    ],\n",
    "}\n"
   ]
  },
  {
   "cell_type": "code",
   "execution_count": 5,
   "id": "8fa1cc33",
   "metadata": {
    "execution": {
     "iopub.execute_input": "2022-03-07T08:41:12.274605Z",
     "iopub.status.busy": "2022-03-07T08:41:12.274320Z",
     "iopub.status.idle": "2022-03-07T08:41:12.287086Z",
     "shell.execute_reply": "2022-03-07T08:41:12.286567Z"
    },
    "papermill": {
     "duration": 0.029697,
     "end_time": "2022-03-07T08:41:12.287189",
     "exception": false,
     "start_time": "2022-03-07T08:41:12.257492",
     "status": "completed"
    },
    "tags": []
   },
   "outputs": [],
   "source": [
    "# Set this to True if you want to run this template directly\n",
    "STANDALONE = False\n",
    "if STANDALONE:\n",
    "    print(\"parameters not injected, running with standalone_parameters\")\n",
    "    parameters = standalone_parameters\n",
    "\n",
    "if not 'parameters' in locals() and not 'parameters' in globals():\n",
    "    raise Exception(\"Parameter injection failed\")\n",
    "\n",
    "#Use an easy dict for all the parameters\n",
    "p = EasyDict(parameters)\n",
    "\n",
    "supplied_keys = set(p.keys())\n",
    "\n",
    "if  supplied_keys != required_parameters:\n",
    "    print(\"Parameters are incorrect\")\n",
    "    if len(supplied_keys - required_parameters)>0: print(\"Shouldn't have:\", str(supplied_keys - required_parameters))\n",
    "    if len(required_parameters - supplied_keys)>0: print(\"Need to have:\", str(required_parameters - supplied_keys))\n",
    "    raise RuntimeError(\"Parameters are incorrect\")\n",
    "\n"
   ]
  },
  {
   "cell_type": "code",
   "execution_count": 6,
   "id": "3a028d58",
   "metadata": {
    "execution": {
     "iopub.execute_input": "2022-03-07T08:41:12.327089Z",
     "iopub.status.busy": "2022-03-07T08:41:12.325619Z",
     "iopub.status.idle": "2022-03-07T08:41:12.334070Z",
     "shell.execute_reply": "2022-03-07T08:41:12.334455Z"
    },
    "papermill": {
     "duration": 0.028176,
     "end_time": "2022-03-07T08:41:12.334578",
     "exception": false,
     "start_time": "2022-03-07T08:41:12.306402",
     "status": "completed"
    },
    "tags": []
   },
   "outputs": [],
   "source": [
    "###################################\n",
    "# Set the RNGs and make it all deterministic\n",
    "###################################\n",
    "np.random.seed(p.seed)\n",
    "random.seed(p.seed)\n",
    "torch.manual_seed(p.seed)\n",
    "\n",
    "torch.use_deterministic_algorithms(True) "
   ]
  },
  {
   "cell_type": "code",
   "execution_count": 7,
   "id": "b691acf6",
   "metadata": {
    "execution": {
     "iopub.execute_input": "2022-03-07T08:41:12.371737Z",
     "iopub.status.busy": "2022-03-07T08:41:12.369178Z",
     "iopub.status.idle": "2022-03-07T08:41:12.378623Z",
     "shell.execute_reply": "2022-03-07T08:41:12.378906Z"
    },
    "papermill": {
     "duration": 0.026776,
     "end_time": "2022-03-07T08:41:12.379030",
     "exception": false,
     "start_time": "2022-03-07T08:41:12.352254",
     "status": "completed"
    },
    "tags": []
   },
   "outputs": [],
   "source": [
    "###########################################\n",
    "# The stratified datasets honor this\n",
    "###########################################\n",
    "torch.set_default_dtype(eval(p.torch_default_dtype))"
   ]
  },
  {
   "cell_type": "code",
   "execution_count": 8,
   "id": "b5fba671",
   "metadata": {
    "execution": {
     "iopub.execute_input": "2022-03-07T08:41:12.411055Z",
     "iopub.status.busy": "2022-03-07T08:41:12.410771Z",
     "iopub.status.idle": "2022-03-07T08:41:12.449314Z",
     "shell.execute_reply": "2022-03-07T08:41:12.448779Z"
    },
    "papermill": {
     "duration": 0.053277,
     "end_time": "2022-03-07T08:41:12.449427",
     "exception": false,
     "start_time": "2022-03-07T08:41:12.396150",
     "status": "completed"
    },
    "tags": []
   },
   "outputs": [],
   "source": [
    "###################################\n",
    "# Build the network(s)\n",
    "# Note: It's critical to do this AFTER setting the RNG\n",
    "###################################\n",
    "x_net = build_sequential(p.x_net)"
   ]
  },
  {
   "cell_type": "code",
   "execution_count": 9,
   "id": "5d7e61cc",
   "metadata": {
    "execution": {
     "iopub.execute_input": "2022-03-07T08:41:12.483332Z",
     "iopub.status.busy": "2022-03-07T08:41:12.483058Z",
     "iopub.status.idle": "2022-03-07T08:41:12.493131Z",
     "shell.execute_reply": "2022-03-07T08:41:12.492800Z"
    },
    "papermill": {
     "duration": 0.025521,
     "end_time": "2022-03-07T08:41:12.493209",
     "exception": false,
     "start_time": "2022-03-07T08:41:12.467688",
     "status": "completed"
    },
    "tags": []
   },
   "outputs": [],
   "source": [
    "start_time_secs = time.time()"
   ]
  },
  {
   "cell_type": "code",
   "execution_count": 10,
   "id": "c6b67dfd",
   "metadata": {
    "execution": {
     "iopub.execute_input": "2022-03-07T08:41:12.525916Z",
     "iopub.status.busy": "2022-03-07T08:41:12.525658Z",
     "iopub.status.idle": "2022-03-07T08:41:12.537550Z",
     "shell.execute_reply": "2022-03-07T08:41:12.537291Z"
    },
    "papermill": {
     "duration": 0.026491,
     "end_time": "2022-03-07T08:41:12.537605",
     "exception": false,
     "start_time": "2022-03-07T08:41:12.511114",
     "status": "completed"
    },
    "tags": []
   },
   "outputs": [],
   "source": [
    "p.domains_source = []\n",
    "p.domains_target = []\n",
    "\n",
    "\n",
    "train_original_source = []\n",
    "val_original_source   = []\n",
    "test_original_source  = []\n",
    "\n",
    "train_original_target = []\n",
    "val_original_target   = []\n",
    "test_original_target  = []"
   ]
  },
  {
   "cell_type": "code",
   "execution_count": 11,
   "id": "e3d9c3d3",
   "metadata": {
    "execution": {
     "iopub.execute_input": "2022-03-07T08:41:12.572589Z",
     "iopub.status.busy": "2022-03-07T08:41:12.570151Z",
     "iopub.status.idle": "2022-03-07T08:41:12.582363Z",
     "shell.execute_reply": "2022-03-07T08:41:12.581996Z"
    },
    "papermill": {
     "duration": 0.027683,
     "end_time": "2022-03-07T08:41:12.582439",
     "exception": false,
     "start_time": "2022-03-07T08:41:12.554756",
     "status": "completed"
    },
    "tags": []
   },
   "outputs": [],
   "source": [
    "# global_x_transform_func = lambda x: normalize(x.to(torch.get_default_dtype()), \"unit_power\") # unit_power, unit_mag\n",
    "# global_x_transform_func = lambda x: normalize(x, \"unit_power\") # unit_power, unit_mag"
   ]
  },
  {
   "cell_type": "code",
   "execution_count": 12,
   "id": "acb78fd2",
   "metadata": {
    "execution": {
     "iopub.execute_input": "2022-03-07T08:41:12.619389Z",
     "iopub.status.busy": "2022-03-07T08:41:12.619112Z",
     "iopub.status.idle": "2022-03-07T08:41:12.632023Z",
     "shell.execute_reply": "2022-03-07T08:41:12.631597Z"
    },
    "papermill": {
     "duration": 0.030594,
     "end_time": "2022-03-07T08:41:12.632124",
     "exception": false,
     "start_time": "2022-03-07T08:41:12.601530",
     "status": "completed"
    },
    "tags": []
   },
   "outputs": [],
   "source": [
    "def add_dataset(\n",
    "    labels,\n",
    "    domains,\n",
    "    pickle_path,\n",
    "    x_transforms,\n",
    "    episode_transforms,\n",
    "    domain_prefix,\n",
    "    num_examples_per_domain_per_label,\n",
    "    source_or_target_dataset:str,\n",
    "    iterator_seed=p.seed,\n",
    "    dataset_seed=p.dataset_seed,\n",
    "    n_shot=p.n_shot,\n",
    "    n_way=p.n_way,\n",
    "    n_query=p.n_query,\n",
    "    train_val_test_k_factors=(p.train_k_factor,p.val_k_factor,p.test_k_factor),\n",
    "):\n",
    "   \n",
    "    if x_transforms == []: x_transform = None\n",
    "    else: x_transform = get_chained_transform(x_transforms)\n",
    "    \n",
    "    if episode_transforms == []: episode_transform = None\n",
    "    else: raise Exception(\"episode_transforms not implemented\")\n",
    "    \n",
    "    episode_transform = lambda tup, _prefix=domain_prefix: (_prefix + str(tup[0]), tup[1])\n",
    "\n",
    "\n",
    "    eaf = Episodic_Accessor_Factory(\n",
    "        labels=labels,\n",
    "        domains=domains,\n",
    "        num_examples_per_domain_per_label=num_examples_per_domain_per_label,\n",
    "        iterator_seed=iterator_seed,\n",
    "        dataset_seed=dataset_seed,\n",
    "        n_shot=n_shot,\n",
    "        n_way=n_way,\n",
    "        n_query=n_query,\n",
    "        train_val_test_k_factors=train_val_test_k_factors,\n",
    "        pickle_path=pickle_path,\n",
    "        x_transform_func=x_transform,\n",
    "    )\n",
    "\n",
    "    train, val, test = eaf.get_train(), eaf.get_val(), eaf.get_test()\n",
    "    train = Lazy_Iterable_Wrapper(train, episode_transform)\n",
    "    val = Lazy_Iterable_Wrapper(val, episode_transform)\n",
    "    test = Lazy_Iterable_Wrapper(test, episode_transform)\n",
    "\n",
    "    if source_or_target_dataset==\"source\":\n",
    "        train_original_source.append(train)\n",
    "        val_original_source.append(val)\n",
    "        test_original_source.append(test)\n",
    "\n",
    "        p.domains_source.extend(\n",
    "            [domain_prefix + str(u) for u in domains]\n",
    "        )\n",
    "    elif source_or_target_dataset==\"target\":\n",
    "        train_original_target.append(train)\n",
    "        val_original_target.append(val)\n",
    "        test_original_target.append(test)\n",
    "        p.domains_target.extend(\n",
    "            [domain_prefix + str(u) for u in domains]\n",
    "        )\n",
    "    else:\n",
    "        raise Exception(f\"invalid source_or_target_dataset: {source_or_target_dataset}\")\n",
    "    "
   ]
  },
  {
   "cell_type": "code",
   "execution_count": 13,
   "id": "fe266617",
   "metadata": {
    "execution": {
     "iopub.execute_input": "2022-03-07T08:41:12.665434Z",
     "iopub.status.busy": "2022-03-07T08:41:12.665171Z",
     "iopub.status.idle": "2022-03-07T08:41:31.553513Z",
     "shell.execute_reply": "2022-03-07T08:41:31.552986Z"
    },
    "papermill": {
     "duration": 18.903444,
     "end_time": "2022-03-07T08:41:31.553626",
     "exception": false,
     "start_time": "2022-03-07T08:41:12.650182",
     "status": "completed"
    },
    "tags": []
   },
   "outputs": [],
   "source": [
    "for ds in p.datasets:\n",
    "    add_dataset(**ds)"
   ]
  },
  {
   "cell_type": "code",
   "execution_count": 14,
   "id": "b90d65ac",
   "metadata": {
    "execution": {
     "iopub.execute_input": "2022-03-07T08:41:31.587881Z",
     "iopub.status.busy": "2022-03-07T08:41:31.587617Z",
     "iopub.status.idle": "2022-03-07T08:41:31.599560Z",
     "shell.execute_reply": "2022-03-07T08:41:31.599067Z"
    },
    "papermill": {
     "duration": 0.027651,
     "end_time": "2022-03-07T08:41:31.599661",
     "exception": false,
     "start_time": "2022-03-07T08:41:31.572010",
     "status": "completed"
    },
    "tags": []
   },
   "outputs": [],
   "source": [
    "# from steves_utils.CORES.utils import (\n",
    "#     ALL_NODES,\n",
    "#     ALL_NODES_MINIMUM_1000_EXAMPLES,\n",
    "#     ALL_DAYS\n",
    "# )\n",
    "\n",
    "# add_dataset(\n",
    "#     labels=ALL_NODES,\n",
    "#     domains = ALL_DAYS,\n",
    "#     num_examples_per_domain_per_label=100,\n",
    "#     pickle_path=os.path.join(get_datasets_base_path(), \"cores.stratified_ds.2022A.pkl\"),\n",
    "#     source_or_target_dataset=\"target\",\n",
    "#     x_transform_func=global_x_transform_func,\n",
    "#     domain_modifier=lambda u: f\"cores_{u}\"\n",
    "# )"
   ]
  },
  {
   "cell_type": "code",
   "execution_count": 15,
   "id": "76db484d",
   "metadata": {
    "execution": {
     "iopub.execute_input": "2022-03-07T08:41:31.631993Z",
     "iopub.status.busy": "2022-03-07T08:41:31.631730Z",
     "iopub.status.idle": "2022-03-07T08:41:31.641172Z",
     "shell.execute_reply": "2022-03-07T08:41:31.640675Z"
    },
    "papermill": {
     "duration": 0.024465,
     "end_time": "2022-03-07T08:41:31.641272",
     "exception": false,
     "start_time": "2022-03-07T08:41:31.616807",
     "status": "completed"
    },
    "tags": []
   },
   "outputs": [],
   "source": [
    "# from steves_utils.ORACLE.utils_v2 import (\n",
    "#     ALL_DISTANCES_FEET,\n",
    "#     ALL_RUNS,\n",
    "#     ALL_SERIAL_NUMBERS,\n",
    "# )\n",
    "\n",
    "\n",
    "# add_dataset(\n",
    "#     labels=ALL_SERIAL_NUMBERS,\n",
    "#     domains = list(set(ALL_DISTANCES_FEET) - {2,62}),\n",
    "#     num_examples_per_domain_per_label=100,\n",
    "#     pickle_path=os.path.join(get_datasets_base_path(), \"oracle.Run2_framed_2000Examples_stratified_ds.2022A.pkl\"),\n",
    "#     source_or_target_dataset=\"source\",\n",
    "#     x_transform_func=global_x_transform_func,\n",
    "#     domain_modifier=lambda u: f\"oracle1_{u}\"\n",
    "# )\n"
   ]
  },
  {
   "cell_type": "code",
   "execution_count": 16,
   "id": "97dea9d2",
   "metadata": {
    "execution": {
     "iopub.execute_input": "2022-03-07T08:41:31.675336Z",
     "iopub.status.busy": "2022-03-07T08:41:31.675070Z",
     "iopub.status.idle": "2022-03-07T08:41:31.687846Z",
     "shell.execute_reply": "2022-03-07T08:41:31.687433Z"
    },
    "papermill": {
     "duration": 0.028545,
     "end_time": "2022-03-07T08:41:31.687949",
     "exception": false,
     "start_time": "2022-03-07T08:41:31.659404",
     "status": "completed"
    },
    "tags": []
   },
   "outputs": [],
   "source": [
    "# from steves_utils.ORACLE.utils_v2 import (\n",
    "#     ALL_DISTANCES_FEET,\n",
    "#     ALL_RUNS,\n",
    "#     ALL_SERIAL_NUMBERS,\n",
    "# )\n",
    "\n",
    "\n",
    "# add_dataset(\n",
    "#     labels=ALL_SERIAL_NUMBERS,\n",
    "#     domains = list(set(ALL_DISTANCES_FEET) - {2,62,56}),\n",
    "#     num_examples_per_domain_per_label=100,\n",
    "#     pickle_path=os.path.join(get_datasets_base_path(), \"oracle.Run2_framed_2000Examples_stratified_ds.2022A.pkl\"),\n",
    "#     source_or_target_dataset=\"source\",\n",
    "#     x_transform_func=global_x_transform_func,\n",
    "#     domain_modifier=lambda u: f\"oracle2_{u}\"\n",
    "# )"
   ]
  },
  {
   "cell_type": "code",
   "execution_count": 17,
   "id": "6f289866",
   "metadata": {
    "execution": {
     "iopub.execute_input": "2022-03-07T08:41:31.722243Z",
     "iopub.status.busy": "2022-03-07T08:41:31.721869Z",
     "iopub.status.idle": "2022-03-07T08:41:31.736050Z",
     "shell.execute_reply": "2022-03-07T08:41:31.735649Z"
    },
    "papermill": {
     "duration": 0.02948,
     "end_time": "2022-03-07T08:41:31.736152",
     "exception": false,
     "start_time": "2022-03-07T08:41:31.706672",
     "status": "completed"
    },
    "tags": []
   },
   "outputs": [],
   "source": [
    "# add_dataset(\n",
    "#     labels=list(range(19)),\n",
    "#     domains = [0,1,2],\n",
    "#     num_examples_per_domain_per_label=100,\n",
    "#     pickle_path=os.path.join(get_datasets_base_path(), \"metehan.stratified_ds.2022A.pkl\"),\n",
    "#     source_or_target_dataset=\"target\",\n",
    "#     x_transform_func=global_x_transform_func,\n",
    "#     domain_modifier=lambda u: f\"met_{u}\"\n",
    "# )"
   ]
  },
  {
   "cell_type": "code",
   "execution_count": 18,
   "id": "86a863c3",
   "metadata": {
    "execution": {
     "iopub.execute_input": "2022-03-07T08:41:31.771463Z",
     "iopub.status.busy": "2022-03-07T08:41:31.771203Z",
     "iopub.status.idle": "2022-03-07T08:41:31.783820Z",
     "shell.execute_reply": "2022-03-07T08:41:31.783331Z"
    },
    "papermill": {
     "duration": 0.028608,
     "end_time": "2022-03-07T08:41:31.783921",
     "exception": false,
     "start_time": "2022-03-07T08:41:31.755313",
     "status": "completed"
    },
    "tags": []
   },
   "outputs": [],
   "source": [
    "# # from steves_utils.wisig.utils import (\n",
    "# #     ALL_NODES_MINIMUM_100_EXAMPLES,\n",
    "# #     ALL_NODES_MINIMUM_500_EXAMPLES,\n",
    "# #     ALL_NODES_MINIMUM_1000_EXAMPLES,\n",
    "# #     ALL_DAYS\n",
    "# # )\n",
    "\n",
    "# import steves_utils.wisig.utils as wisig\n",
    "\n",
    "\n",
    "# add_dataset(\n",
    "#     labels=wisig.ALL_NODES_MINIMUM_100_EXAMPLES,\n",
    "#     domains = wisig.ALL_DAYS,\n",
    "#     num_examples_per_domain_per_label=100,\n",
    "#     pickle_path=os.path.join(get_datasets_base_path(), \"wisig.node3-19.stratified_ds.2022A.pkl\"),\n",
    "#     source_or_target_dataset=\"target\",\n",
    "#     x_transform_func=global_x_transform_func,\n",
    "#     domain_modifier=lambda u: f\"wisig_{u}\"\n",
    "# )"
   ]
  },
  {
   "cell_type": "code",
   "execution_count": 19,
   "id": "fd5442bc",
   "metadata": {
    "execution": {
     "iopub.execute_input": "2022-03-07T08:41:31.826313Z",
     "iopub.status.busy": "2022-03-07T08:41:31.822158Z",
     "iopub.status.idle": "2022-03-07T08:41:31.834152Z",
     "shell.execute_reply": "2022-03-07T08:41:31.833727Z"
    },
    "papermill": {
     "duration": 0.031354,
     "end_time": "2022-03-07T08:41:31.834252",
     "exception": false,
     "start_time": "2022-03-07T08:41:31.802898",
     "status": "completed"
    },
    "tags": []
   },
   "outputs": [],
   "source": [
    "###################################\n",
    "# Build the dataset\n",
    "###################################\n",
    "train_original_source = Iterable_Aggregator(train_original_source, p.seed)\n",
    "val_original_source = Iterable_Aggregator(val_original_source, p.seed)\n",
    "test_original_source = Iterable_Aggregator(test_original_source, p.seed)\n",
    "\n",
    "\n",
    "train_original_target = Iterable_Aggregator(train_original_target, p.seed)\n",
    "val_original_target = Iterable_Aggregator(val_original_target, p.seed)\n",
    "test_original_target = Iterable_Aggregator(test_original_target, p.seed)\n",
    "\n",
    "# For CNN We only use X and Y. And we only train on the source.\n",
    "# Properly form the data using a transform lambda and Lazy_Iterable_Wrapper. Finally wrap them in a dataloader\n",
    "\n",
    "transform_lambda = lambda ex: ex[1] # Original is (<domain>, <episode>) so we strip down to episode only\n",
    "\n",
    "train_processed_source = Lazy_Iterable_Wrapper(train_original_source, transform_lambda)\n",
    "val_processed_source   = Lazy_Iterable_Wrapper(val_original_source, transform_lambda)\n",
    "test_processed_source  = Lazy_Iterable_Wrapper(test_original_source, transform_lambda)\n",
    "\n",
    "train_processed_target = Lazy_Iterable_Wrapper(train_original_target, transform_lambda)\n",
    "val_processed_target   = Lazy_Iterable_Wrapper(val_original_target, transform_lambda)\n",
    "test_processed_target  = Lazy_Iterable_Wrapper(test_original_target, transform_lambda)\n",
    "\n",
    "datasets = EasyDict({\n",
    "    \"source\": {\n",
    "        \"original\": {\"train\":train_original_source, \"val\":val_original_source, \"test\":test_original_source},\n",
    "        \"processed\": {\"train\":train_processed_source, \"val\":val_processed_source, \"test\":test_processed_source}\n",
    "    },\n",
    "    \"target\": {\n",
    "        \"original\": {\"train\":train_original_target, \"val\":val_original_target, \"test\":test_original_target},\n",
    "        \"processed\": {\"train\":train_processed_target, \"val\":val_processed_target, \"test\":test_processed_target}\n",
    "    },\n",
    "})"
   ]
  },
  {
   "cell_type": "code",
   "execution_count": 20,
   "id": "5b3c01fc",
   "metadata": {
    "execution": {
     "iopub.execute_input": "2022-03-07T08:41:31.871824Z",
     "iopub.status.busy": "2022-03-07T08:41:31.869385Z",
     "iopub.status.idle": "2022-03-07T08:41:36.126243Z",
     "shell.execute_reply": "2022-03-07T08:41:36.126568Z"
    },
    "papermill": {
     "duration": 4.274315,
     "end_time": "2022-03-07T08:41:36.126677",
     "exception": false,
     "start_time": "2022-03-07T08:41:31.852362",
     "status": "completed"
    },
    "tags": []
   },
   "outputs": [
    {
     "name": "stdout",
     "output_type": "stream",
     "text": [
      "{'CORES_2', 'CORES_3', 'CORES_4', 'CORES_5', 'CORES_1'}\n"
     ]
    },
    {
     "name": "stdout",
     "output_type": "stream",
     "text": [
      "{'ORACLE.run1_20', 'ORACLE.run1_8', 'ORACLE.run1_14', 'ORACLE.run1_50', 'ORACLE.run1_32', 'ORACLE.run1_44', 'ORACLE.run1_38', 'ORACLE.run1_26'}\n"
     ]
    },
    {
     "name": "stdout",
     "output_type": "stream",
     "text": [
      "tensor([[[-0.2320, -0.3457,  0.3305,  ..., -0.5649, -0.7785,  0.2272],\n",
      "         [ 0.1224, -0.6721, -0.7225,  ..., -0.6273, -0.2520, -0.5185]],\n",
      "\n",
      "        [[ 0.4082,  0.9356, -0.1801,  ...,  0.2386,  0.4442,  0.1043],\n",
      "         [-0.3917, -0.0203,  0.8591,  ..., -0.8959, -0.1155,  0.6175]],\n",
      "\n",
      "        [[-0.5665, -0.2245,  0.9676,  ..., -0.8789, -0.1606,  0.6360],\n",
      "         [-0.3244, -0.8661, -0.0120,  ...,  0.0967, -0.4147, -0.1774]],\n",
      "\n",
      "        ...,\n",
      "\n",
      "        [[ 0.7252,  0.8932,  0.4826,  ..., -1.5197, -1.7370, -0.4759],\n",
      "         [ 0.5172,  0.4999, -0.5346,  ..., -1.0118,  0.2866,  0.6252]],\n",
      "\n",
      "        [[ 0.3537,  0.3550, -0.1556,  ..., -0.0746, -0.3846, -0.0334],\n",
      "         [ 0.1351,  0.0476, -0.2843,  ..., -0.1016,  0.0733, -0.5583]],\n",
      "\n",
      "        [[-0.1442,  0.1220,  0.2662,  ...,  0.4187,  0.3993, -0.3993],\n",
      "         [ 0.3202,  0.3715,  0.3632,  ...,  0.5684,  0.0721, -0.0555]]])\n"
     ]
    }
   ],
   "source": [
    "from steves_utils.transforms import get_average_magnitude, get_average_power\n",
    "\n",
    "print(set([u for u,_ in val_original_source]))\n",
    "print(set([u for u,_ in val_original_target]))\n",
    "\n",
    "s_x, s_y, q_x, q_y, _ = next(iter(train_processed_source))\n",
    "print(s_x)\n",
    "\n",
    "# for ds in [\n",
    "#     train_processed_source,\n",
    "#     val_processed_source,\n",
    "#     test_processed_source,\n",
    "#     train_processed_target,\n",
    "#     val_processed_target,\n",
    "#     test_processed_target\n",
    "# ]:\n",
    "#     for s_x, s_y, q_x, q_y, _ in ds:\n",
    "#         for X in (s_x, q_x):\n",
    "#             for x in X:\n",
    "#                 assert np.isclose(get_average_magnitude(x.numpy()), 1.0)\n",
    "#                 assert np.isclose(get_average_power(x.numpy()), 1.0)\n",
    "                "
   ]
  },
  {
   "cell_type": "code",
   "execution_count": 21,
   "id": "bbdacba1",
   "metadata": {
    "execution": {
     "iopub.execute_input": "2022-03-07T08:41:36.161650Z",
     "iopub.status.busy": "2022-03-07T08:41:36.160462Z",
     "iopub.status.idle": "2022-03-07T08:41:36.219173Z",
     "shell.execute_reply": "2022-03-07T08:41:36.218780Z"
    },
    "papermill": {
     "duration": 0.075187,
     "end_time": "2022-03-07T08:41:36.219270",
     "exception": false,
     "start_time": "2022-03-07T08:41:36.144083",
     "status": "completed"
    },
    "tags": []
   },
   "outputs": [
    {
     "name": "stdout",
     "output_type": "stream",
     "text": [
      "(2, 256)\n"
     ]
    }
   ],
   "source": [
    "###################################\n",
    "# Build the model\n",
    "###################################\n",
    "model = Steves_Prototypical_Network(x_net, device=p.device, x_shape=(2,256))\n",
    "optimizer = Adam(params=model.parameters(), lr=p.lr)"
   ]
  },
  {
   "cell_type": "code",
   "execution_count": 22,
   "id": "22b39ac5",
   "metadata": {
    "execution": {
     "iopub.execute_input": "2022-03-07T08:41:36.255696Z",
     "iopub.status.busy": "2022-03-07T08:41:36.255407Z",
     "iopub.status.idle": "2022-03-07T08:43:49.888558Z",
     "shell.execute_reply": "2022-03-07T08:43:49.888952Z"
    },
    "papermill": {
     "duration": 133.651109,
     "end_time": "2022-03-07T08:43:49.889077",
     "exception": false,
     "start_time": "2022-03-07T08:41:36.237968",
     "status": "completed"
    },
    "tags": []
   },
   "outputs": [
    {
     "name": "stdout",
     "output_type": "stream",
     "text": [
      "epoch: 1, [batch: 1 / 735], examples_per_second: 312.4639, train_label_loss: 2.6574, \n"
     ]
    },
    {
     "name": "stdout",
     "output_type": "stream",
     "text": [
      "epoch: 1, [batch: 74 / 735], examples_per_second: 3085.3974, train_label_loss: 0.3959, \n"
     ]
    },
    {
     "name": "stdout",
     "output_type": "stream",
     "text": [
      "epoch: 1, [batch: 147 / 735], examples_per_second: 3144.0603, train_label_loss: 0.1216, \n"
     ]
    },
    {
     "name": "stdout",
     "output_type": "stream",
     "text": [
      "epoch: 1, [batch: 221 / 735], examples_per_second: 3124.6404, train_label_loss: 0.0242, \n"
     ]
    },
    {
     "name": "stdout",
     "output_type": "stream",
     "text": [
      "epoch: 1, [batch: 294 / 735], examples_per_second: 3137.6125, train_label_loss: 0.0090, \n"
     ]
    },
    {
     "name": "stdout",
     "output_type": "stream",
     "text": [
      "epoch: 1, [batch: 368 / 735], examples_per_second: 3140.9101, train_label_loss: 0.1730, \n"
     ]
    },
    {
     "name": "stdout",
     "output_type": "stream",
     "text": [
      "epoch: 1, [batch: 441 / 735], examples_per_second: 3143.6959, train_label_loss: 0.0020, \n"
     ]
    },
    {
     "name": "stdout",
     "output_type": "stream",
     "text": [
      "epoch: 1, [batch: 514 / 735], examples_per_second: 3133.5649, train_label_loss: 0.0354, \n"
     ]
    },
    {
     "name": "stdout",
     "output_type": "stream",
     "text": [
      "epoch: 1, [batch: 588 / 735], examples_per_second: 3139.1034, train_label_loss: 0.0453, \n"
     ]
    },
    {
     "name": "stdout",
     "output_type": "stream",
     "text": [
      "epoch: 1, [batch: 661 / 735], examples_per_second: 3158.4270, train_label_loss: 0.0053, \n"
     ]
    },
    {
     "name": "stdout",
     "output_type": "stream",
     "text": [
      "=============================================================\n",
      "epoch: 1, source_val_acc_label: 0.9894, target_val_acc_label: 0.2158, source_val_label_loss: 0.0333, target_val_label_loss: 2.3926, \n",
      "=============================================================\n"
     ]
    },
    {
     "name": "stdout",
     "output_type": "stream",
     "text": [
      "New best\n"
     ]
    },
    {
     "name": "stdout",
     "output_type": "stream",
     "text": [
      "epoch: 2, [batch: 1 / 734], examples_per_second: 16.0304, train_label_loss: 0.0712, \n"
     ]
    },
    {
     "name": "stdout",
     "output_type": "stream",
     "text": [
      "epoch: 2, [batch: 74 / 734], examples_per_second: 3137.2713, train_label_loss: 0.0038, \n"
     ]
    },
    {
     "name": "stdout",
     "output_type": "stream",
     "text": [
      "epoch: 2, [batch: 147 / 734], examples_per_second: 3159.5690, train_label_loss: 0.0005, \n"
     ]
    },
    {
     "name": "stdout",
     "output_type": "stream",
     "text": [
      "epoch: 2, [batch: 220 / 734], examples_per_second: 3160.5788, train_label_loss: 0.0192, \n"
     ]
    },
    {
     "name": "stdout",
     "output_type": "stream",
     "text": [
      "epoch: 2, [batch: 294 / 734], examples_per_second: 3162.6756, train_label_loss: 0.0491, \n"
     ]
    },
    {
     "name": "stdout",
     "output_type": "stream",
     "text": [
      "epoch: 2, [batch: 367 / 734], examples_per_second: 3166.5723, train_label_loss: 0.3773, \n"
     ]
    },
    {
     "name": "stdout",
     "output_type": "stream",
     "text": [
      "epoch: 2, [batch: 440 / 734], examples_per_second: 3168.2688, train_label_loss: 0.0192, \n"
     ]
    },
    {
     "name": "stdout",
     "output_type": "stream",
     "text": [
      "epoch: 2, [batch: 514 / 734], examples_per_second: 3145.7110, train_label_loss: 0.0582, \n"
     ]
    },
    {
     "name": "stdout",
     "output_type": "stream",
     "text": [
      "epoch: 2, [batch: 587 / 734], examples_per_second: 3161.4860, train_label_loss: 0.0000, \n"
     ]
    },
    {
     "name": "stdout",
     "output_type": "stream",
     "text": [
      "epoch: 2, [batch: 660 / 734], examples_per_second: 3170.9963, train_label_loss: 0.0015, \n"
     ]
    },
    {
     "name": "stdout",
     "output_type": "stream",
     "text": [
      "=============================================================\n",
      "epoch: 2, source_val_acc_label: 0.9928, target_val_acc_label: 0.2171, source_val_label_loss: 0.0211, target_val_label_loss: 2.5087, \n",
      "=============================================================\n"
     ]
    },
    {
     "name": "stdout",
     "output_type": "stream",
     "text": [
      "epoch: 3, [batch: 1 / 734], examples_per_second: 16.1224, train_label_loss: 0.0020, \n"
     ]
    },
    {
     "name": "stdout",
     "output_type": "stream",
     "text": [
      "epoch: 3, [batch: 74 / 734], examples_per_second: 3113.2063, train_label_loss: 0.0014, \n"
     ]
    },
    {
     "name": "stdout",
     "output_type": "stream",
     "text": [
      "epoch: 3, [batch: 147 / 734], examples_per_second: 3151.0732, train_label_loss: 0.0067, \n"
     ]
    },
    {
     "name": "stdout",
     "output_type": "stream",
     "text": [
      "epoch: 3, [batch: 220 / 734], examples_per_second: 3154.4405, train_label_loss: 0.0044, \n"
     ]
    },
    {
     "name": "stdout",
     "output_type": "stream",
     "text": [
      "epoch: 3, [batch: 294 / 734], examples_per_second: 3157.6730, train_label_loss: 0.0293, \n"
     ]
    },
    {
     "name": "stdout",
     "output_type": "stream",
     "text": [
      "epoch: 3, [batch: 367 / 734], examples_per_second: 3163.5991, train_label_loss: 0.0006, \n"
     ]
    },
    {
     "name": "stdout",
     "output_type": "stream",
     "text": [
      "epoch: 3, [batch: 440 / 734], examples_per_second: 3163.6220, train_label_loss: 0.0000, \n"
     ]
    },
    {
     "name": "stdout",
     "output_type": "stream",
     "text": [
      "epoch: 3, [batch: 514 / 734], examples_per_second: 3146.5433, train_label_loss: 0.0002, \n"
     ]
    },
    {
     "name": "stdout",
     "output_type": "stream",
     "text": [
      "epoch: 3, [batch: 587 / 734], examples_per_second: 3177.7425, train_label_loss: 0.0649, \n"
     ]
    },
    {
     "name": "stdout",
     "output_type": "stream",
     "text": [
      "epoch: 3, [batch: 660 / 734], examples_per_second: 3155.2853, train_label_loss: 0.0062, \n"
     ]
    },
    {
     "name": "stdout",
     "output_type": "stream",
     "text": [
      "=============================================================\n",
      "epoch: 3, source_val_acc_label: 0.9959, target_val_acc_label: 0.2300, source_val_label_loss: 0.0202, target_val_label_loss: 2.6987, \n",
      "=============================================================\n"
     ]
    },
    {
     "name": "stdout",
     "output_type": "stream",
     "text": [
      "epoch: 4, [batch: 1 / 734], examples_per_second: 16.1560, train_label_loss: 0.0003, \n"
     ]
    },
    {
     "name": "stdout",
     "output_type": "stream",
     "text": [
      "epoch: 4, [batch: 74 / 734], examples_per_second: 3122.6457, train_label_loss: 0.0003, \n"
     ]
    },
    {
     "name": "stdout",
     "output_type": "stream",
     "text": [
      "epoch: 4, [batch: 147 / 734], examples_per_second: 3126.2860, train_label_loss: 0.0007, \n"
     ]
    },
    {
     "name": "stdout",
     "output_type": "stream",
     "text": [
      "epoch: 4, [batch: 220 / 734], examples_per_second: 3149.7252, train_label_loss: 0.0022, \n"
     ]
    },
    {
     "name": "stdout",
     "output_type": "stream",
     "text": [
      "epoch: 4, [batch: 294 / 734], examples_per_second: 3142.7838, train_label_loss: 0.1567, \n"
     ]
    },
    {
     "name": "stdout",
     "output_type": "stream",
     "text": [
      "epoch: 4, [batch: 367 / 734], examples_per_second: 3151.9572, train_label_loss: 0.0000, \n"
     ]
    },
    {
     "name": "stdout",
     "output_type": "stream",
     "text": [
      "epoch: 4, [batch: 440 / 734], examples_per_second: 3186.2900, train_label_loss: 0.0000, \n"
     ]
    },
    {
     "name": "stdout",
     "output_type": "stream",
     "text": [
      "epoch: 4, [batch: 514 / 734], examples_per_second: 3118.0970, train_label_loss: 0.0000, \n"
     ]
    },
    {
     "name": "stdout",
     "output_type": "stream",
     "text": [
      "epoch: 4, [batch: 587 / 734], examples_per_second: 3159.6020, train_label_loss: 0.0001, \n"
     ]
    },
    {
     "name": "stdout",
     "output_type": "stream",
     "text": [
      "epoch: 4, [batch: 660 / 734], examples_per_second: 3162.0582, train_label_loss: 0.0002, \n"
     ]
    },
    {
     "name": "stdout",
     "output_type": "stream",
     "text": [
      "=============================================================\n",
      "epoch: 4, source_val_acc_label: 0.9925, target_val_acc_label: 0.2595, source_val_label_loss: 0.0292, target_val_label_loss: 2.5725, \n",
      "=============================================================\n"
     ]
    },
    {
     "name": "stdout",
     "output_type": "stream",
     "text": [
      "epoch: 5, [batch: 1 / 737], examples_per_second: 15.9885, train_label_loss: 0.0000, \n"
     ]
    },
    {
     "name": "stdout",
     "output_type": "stream",
     "text": [
      "epoch: 5, [batch: 74 / 737], examples_per_second: 3092.8192, train_label_loss: 0.0135, \n"
     ]
    },
    {
     "name": "stdout",
     "output_type": "stream",
     "text": [
      "epoch: 5, [batch: 148 / 737], examples_per_second: 3121.2405, train_label_loss: 0.0000, \n"
     ]
    },
    {
     "name": "stdout",
     "output_type": "stream",
     "text": [
      "epoch: 5, [batch: 221 / 737], examples_per_second: 3144.8955, train_label_loss: 0.1509, \n"
     ]
    },
    {
     "name": "stdout",
     "output_type": "stream",
     "text": [
      "epoch: 5, [batch: 295 / 737], examples_per_second: 3158.1425, train_label_loss: 0.0544, \n"
     ]
    },
    {
     "name": "stdout",
     "output_type": "stream",
     "text": [
      "epoch: 5, [batch: 369 / 737], examples_per_second: 3142.8753, train_label_loss: 0.0289, \n"
     ]
    },
    {
     "name": "stdout",
     "output_type": "stream",
     "text": [
      "epoch: 5, [batch: 442 / 737], examples_per_second: 3174.2562, train_label_loss: 0.0217, \n"
     ]
    },
    {
     "name": "stdout",
     "output_type": "stream",
     "text": [
      "epoch: 5, [batch: 516 / 737], examples_per_second: 3149.8691, train_label_loss: 0.0916, \n"
     ]
    },
    {
     "name": "stdout",
     "output_type": "stream",
     "text": [
      "epoch: 5, [batch: 589 / 737], examples_per_second: 3157.9677, train_label_loss: 0.0907, \n"
     ]
    },
    {
     "name": "stdout",
     "output_type": "stream",
     "text": [
      "epoch: 5, [batch: 663 / 737], examples_per_second: 3171.5154, train_label_loss: 0.1346, \n"
     ]
    },
    {
     "name": "stdout",
     "output_type": "stream",
     "text": [
      "=============================================================\n",
      "epoch: 5, source_val_acc_label: 0.9894, target_val_acc_label: 0.2534, source_val_label_loss: 0.0346, target_val_label_loss: 2.6451, \n",
      "=============================================================\n"
     ]
    },
    {
     "name": "stdout",
     "output_type": "stream",
     "text": [
      "Patience (3) exhausted\n"
     ]
    }
   ],
   "source": [
    "###################################\n",
    "# train\n",
    "###################################\n",
    "jig = PTN_Train_Eval_Test_Jig(model, p.BEST_MODEL_PATH, p.device)\n",
    "\n",
    "jig.train(\n",
    "    train_iterable=datasets.source.processed.train,\n",
    "    source_val_iterable=datasets.source.processed.val,\n",
    "    target_val_iterable=datasets.target.processed.val,\n",
    "    num_epochs=p.n_epoch,\n",
    "    num_logs_per_epoch=p.NUM_LOGS_PER_EPOCH,\n",
    "    patience=p.patience,\n",
    "    optimizer=optimizer,\n",
    "    criteria_for_best=p.criteria_for_best,\n",
    ")"
   ]
  },
  {
   "cell_type": "code",
   "execution_count": 23,
   "id": "31e8fabf",
   "metadata": {
    "execution": {
     "iopub.execute_input": "2022-03-07T08:43:49.945756Z",
     "iopub.status.busy": "2022-03-07T08:43:49.945064Z",
     "iopub.status.idle": "2022-03-07T08:43:49.960306Z",
     "shell.execute_reply": "2022-03-07T08:43:49.959850Z"
    },
    "papermill": {
     "duration": 0.042569,
     "end_time": "2022-03-07T08:43:49.960397",
     "exception": false,
     "start_time": "2022-03-07T08:43:49.917828",
     "status": "completed"
    },
    "tags": []
   },
   "outputs": [],
   "source": [
    "total_experiment_time_secs = time.time() - start_time_secs"
   ]
  },
  {
   "cell_type": "code",
   "execution_count": 24,
   "id": "87b9595b",
   "metadata": {
    "execution": {
     "iopub.execute_input": "2022-03-07T08:43:50.019871Z",
     "iopub.status.busy": "2022-03-07T08:43:50.019339Z",
     "iopub.status.idle": "2022-03-07T08:44:45.702950Z",
     "shell.execute_reply": "2022-03-07T08:44:45.703374Z"
    },
    "papermill": {
     "duration": 55.71405,
     "end_time": "2022-03-07T08:44:45.703507",
     "exception": false,
     "start_time": "2022-03-07T08:43:49.989457",
     "status": "completed"
    },
    "tags": []
   },
   "outputs": [],
   "source": [
    "###################################\n",
    "# Evaluate the model\n",
    "###################################\n",
    "source_test_label_accuracy, source_test_label_loss = jig.test(datasets.source.processed.test)\n",
    "target_test_label_accuracy, target_test_label_loss = jig.test(datasets.target.processed.test)\n",
    "\n",
    "source_val_label_accuracy, source_val_label_loss = jig.test(datasets.source.processed.val)\n",
    "target_val_label_accuracy, target_val_label_loss = jig.test(datasets.target.processed.val)\n",
    "\n",
    "history = jig.get_history()\n",
    "\n",
    "total_epochs_trained = len(history[\"epoch_indices\"])\n",
    "\n",
    "val_dl = Iterable_Aggregator((datasets.source.original.val,datasets.target.original.val))\n",
    "\n",
    "confusion = ptn_confusion_by_domain_over_dataloader(model, p.device, val_dl)\n",
    "per_domain_accuracy = per_domain_accuracy_from_confusion(confusion)\n",
    "\n",
    "# Add a key to per_domain_accuracy for if it was a source domain\n",
    "for domain, accuracy in per_domain_accuracy.items():\n",
    "    per_domain_accuracy[domain] = {\n",
    "        \"accuracy\": accuracy,\n",
    "        \"source?\": domain in p.domains_source\n",
    "    }\n",
    "\n",
    "# Do an independent accuracy assesment JUST TO BE SURE!\n",
    "# _source_test_label_accuracy = independent_accuracy_assesment(model, datasets.source.processed.test, p.device)\n",
    "# _target_test_label_accuracy = independent_accuracy_assesment(model, datasets.target.processed.test, p.device)\n",
    "# _source_val_label_accuracy = independent_accuracy_assesment(model, datasets.source.processed.val, p.device)\n",
    "# _target_val_label_accuracy = independent_accuracy_assesment(model, datasets.target.processed.val, p.device)\n",
    "\n",
    "# assert(_source_test_label_accuracy == source_test_label_accuracy)\n",
    "# assert(_target_test_label_accuracy == target_test_label_accuracy)\n",
    "# assert(_source_val_label_accuracy == source_val_label_accuracy)\n",
    "# assert(_target_val_label_accuracy == target_val_label_accuracy)\n",
    "\n",
    "experiment = {\n",
    "    \"experiment_name\": p.experiment_name,\n",
    "    \"parameters\": dict(p),\n",
    "    \"results\": {\n",
    "        \"source_test_label_accuracy\": source_test_label_accuracy,\n",
    "        \"source_test_label_loss\": source_test_label_loss,\n",
    "        \"target_test_label_accuracy\": target_test_label_accuracy,\n",
    "        \"target_test_label_loss\": target_test_label_loss,\n",
    "        \"source_val_label_accuracy\": source_val_label_accuracy,\n",
    "        \"source_val_label_loss\": source_val_label_loss,\n",
    "        \"target_val_label_accuracy\": target_val_label_accuracy,\n",
    "        \"target_val_label_loss\": target_val_label_loss,\n",
    "        \"total_epochs_trained\": total_epochs_trained,\n",
    "        \"total_experiment_time_secs\": total_experiment_time_secs,\n",
    "        \"confusion\": confusion,\n",
    "        \"per_domain_accuracy\": per_domain_accuracy,\n",
    "    },\n",
    "    \"history\": history,\n",
    "    \"dataset_metrics\": get_dataset_metrics(datasets, \"ptn\"),\n",
    "}"
   ]
  },
  {
   "cell_type": "code",
   "execution_count": 25,
   "id": "54a21829",
   "metadata": {
    "execution": {
     "iopub.execute_input": "2022-03-07T08:44:45.758273Z",
     "iopub.status.busy": "2022-03-07T08:44:45.758014Z",
     "iopub.status.idle": "2022-03-07T08:44:45.938504Z",
     "shell.execute_reply": "2022-03-07T08:44:45.938734Z"
    },
    "papermill": {
     "duration": 0.207083,
     "end_time": "2022-03-07T08:44:45.938820",
     "exception": false,
     "start_time": "2022-03-07T08:44:45.731737",
     "status": "completed"
    },
    "tags": []
   },
   "outputs": [
    {
     "data": {
      "image/png": "[encoded data removed]",
      "text/plain": [
       "<Figure size 1080x504 with 1 Axes>"
      ]
     },
     "metadata": {
      "needs_background": "light"
     },
     "output_type": "display_data"
    }
   ],
   "source": [
    "ax = get_loss_curve(experiment)\n",
    "plt.show()"
   ]
  },
  {
   "cell_type": "code",
   "execution_count": 26,
   "id": "fd8a0f60",
   "metadata": {
    "execution": {
     "iopub.execute_input": "2022-03-07T08:44:45.992038Z",
     "iopub.status.busy": "2022-03-07T08:44:45.991030Z",
     "iopub.status.idle": "2022-03-07T08:44:46.168429Z",
     "shell.execute_reply": "2022-03-07T08:44:46.168658Z"
    },
    "papermill": {
     "duration": 0.20468,
     "end_time": "2022-03-07T08:44:46.168740",
     "exception": false,
     "start_time": "2022-03-07T08:44:45.964060",
     "status": "completed"
    },
    "tags": []
   },
   "outputs": [
    {
     "data": {
      "text/plain": [
       "<matplotlib.axes._subplots.AxesSubplot at 0x7fa52944cd00>"
      ]
     },
     "execution_count": 26,
     "metadata": {},
     "output_type": "execute_result"
    },
    {
     "data": {
      "image/png": "[encoded data removed]",
      "text/plain": [
       "<Figure size 1080x504 with 1 Axes>"
      ]
     },
     "metadata": {
      "needs_background": "light"
     },
     "output_type": "display_data"
    }
   ],
   "source": [
    "get_results_table(experiment)"
   ]
  },
  {
   "cell_type": "code",
   "execution_count": 27,
   "id": "cf8dc689",
   "metadata": {
    "execution": {
     "iopub.execute_input": "2022-03-07T08:44:46.224463Z",
     "iopub.status.busy": "2022-03-07T08:44:46.223676Z",
     "iopub.status.idle": "2022-03-07T08:44:46.429223Z",
     "shell.execute_reply": "2022-03-07T08:44:46.429642Z"
    },
    "papermill": {
     "duration": 0.233892,
     "end_time": "2022-03-07T08:44:46.429775",
     "exception": false,
     "start_time": "2022-03-07T08:44:46.195883",
     "status": "completed"
    },
    "tags": []
   },
   "outputs": [
    {
     "data": {
      "text/plain": [
       "<matplotlib.axes._subplots.AxesSubplot at 0x7fa52878c970>"
      ]
     },
     "execution_count": 27,
     "metadata": {},
     "output_type": "execute_result"
    },
    {
     "data": {
      "image/png": "[encoded data removed]",
      "text/plain": [
       "<Figure size 1080x504 with 1 Axes>"
      ]
     },
     "metadata": {
      "needs_background": "light"
     },
     "output_type": "display_data"
    }
   ],
   "source": [
    "get_domain_accuracies(experiment)"
   ]
  },
  {
   "cell_type": "code",
   "execution_count": 28,
   "id": "a74ae082",
   "metadata": {
    "execution": {
     "iopub.execute_input": "2022-03-07T08:44:46.493861Z",
     "iopub.status.busy": "2022-03-07T08:44:46.493594Z",
     "iopub.status.idle": "2022-03-07T08:44:46.506618Z",
     "shell.execute_reply": "2022-03-07T08:44:46.506386Z"
    },
    "papermill": {
     "duration": 0.042628,
     "end_time": "2022-03-07T08:44:46.506677",
     "exception": false,
     "start_time": "2022-03-07T08:44:46.464049",
     "status": "completed"
    },
    "tags": []
   },
   "outputs": [
    {
     "name": "stdout",
     "output_type": "stream",
     "text": [
      "Source Test Label Accuracy: 0.98875 Target Test Label Accuracy: 0.21559244791666668\n",
      "Source Val Label Accuracy: 0.989375 Target Val Label Accuracy: 0.2158203125\n"
     ]
    }
   ],
   "source": [
    "print(\"Source Test Label Accuracy:\", experiment[\"results\"][\"source_test_label_accuracy\"], \"Target Test Label Accuracy:\", experiment[\"results\"][\"target_test_label_accuracy\"])\n",
    "print(\"Source Val Label Accuracy:\", experiment[\"results\"][\"source_val_label_accuracy\"], \"Target Val Label Accuracy:\", experiment[\"results\"][\"target_val_label_accuracy\"])"
   ]
  },
  {
   "cell_type": "code",
   "execution_count": 29,
   "id": "dacca602",
   "metadata": {
    "execution": {
     "iopub.execute_input": "2022-03-07T08:44:46.567589Z",
     "iopub.status.busy": "2022-03-07T08:44:46.567325Z",
     "iopub.status.idle": "2022-03-07T08:44:46.584266Z",
     "shell.execute_reply": "2022-03-07T08:44:46.584671Z"
    },
    "papermill": {
     "duration": 0.046833,
     "end_time": "2022-03-07T08:44:46.584790",
     "exception": false,
     "start_time": "2022-03-07T08:44:46.537957",
     "status": "completed"
    },
    "tags": [
     "experiment_json"
    ]
   },
   "outputs": [
    {
     "data": {
      "text/plain": [
       "'{\"experiment_name\": \"tl_1_cores-oracle.run1\", \"parameters\": {\"experiment_name\": \"tl_1_cores-oracle.run1\", \"device\": \"cuda\", \"lr\": 0.001, \"seed\": 1337, \"dataset_seed\": 1337, \"n_shot\": 3, \"n_query\": 2, \"train_k_factor\": 3, \"val_k_factor\": 2, \"test_k_factor\": 2, \"torch_default_dtype\": \"torch.float32\", \"n_epoch\": 50, \"patience\": 3, \"criteria_for_best\": \"target_loss\", \"x_net\": [{\"class\": \"nnReshape\", \"kargs\": {\"shape\": [-1, 1, 2, 256]}}, {\"class\": \"Conv2d\", \"kargs\": {\"in_channels\": 1, \"out_channels\": 256, \"kernel_size\": [1, 7], \"bias\": false, \"padding\": [0, 3]}}, {\"class\": \"ReLU\", \"kargs\": {\"inplace\": true}}, {\"class\": \"BatchNorm2d\", \"kargs\": {\"num_features\": 256}}, {\"class\": \"Conv2d\", \"kargs\": {\"in_channels\": 256, \"out_channels\": 80, \"kernel_size\": [2, 7], \"bias\": true, \"padding\": [0, 3]}}, {\"class\": \"ReLU\", \"kargs\": {\"inplace\": true}}, {\"class\": \"BatchNorm2d\", \"kargs\": {\"num_features\": 80}}, {\"class\": \"Flatten\", \"kargs\": {}}, {\"class\": \"Linear\", \"kargs\": {\"in_features\": 20480, \"out_features\": 256}}, {\"class\": \"ReLU\", \"kargs\": {\"inplace\": true}}, {\"class\": \"BatchNorm1d\", \"kargs\": {\"num_features\": 256}}, {\"class\": \"Linear\", \"kargs\": {\"in_features\": 256, \"out_features\": 256}}], \"NUM_LOGS_PER_EPOCH\": 10, \"BEST_MODEL_PATH\": \"./best_model.pth\", \"n_way\": 16, \"datasets\": [{\"labels\": [\"1-10.\", \"1-11.\", \"1-15.\", \"1-16.\", \"1-17.\", \"1-18.\", \"1-19.\", \"10-4.\", \"10-7.\", \"11-1.\", \"11-14.\", \"11-17.\", \"11-20.\", \"11-7.\", \"13-20.\", \"13-8.\", \"14-10.\", \"14-11.\", \"14-14.\", \"14-7.\", \"15-1.\", \"15-20.\", \"16-1.\", \"16-16.\", \"17-10.\", \"17-11.\", \"17-2.\", \"19-1.\", \"19-16.\", \"19-19.\", \"19-20.\", \"19-3.\", \"2-10.\", \"2-11.\", \"2-17.\", \"2-18.\", \"2-20.\", \"2-3.\", \"2-4.\", \"2-5.\", \"2-6.\", \"2-7.\", \"2-8.\", \"3-13.\", \"3-18.\", \"3-3.\", \"4-1.\", \"4-10.\", \"4-11.\", \"4-19.\", \"5-5.\", \"6-15.\", \"7-10.\", \"7-14.\", \"8-18.\", \"8-20.\", \"8-3.\", \"8-8.\"], \"domains\": [1, 2, 3, 4, 5], \"num_examples_per_domain_per_label\": 100, \"pickle_path\": \"/mnt/wd500GB/CSC500/csc500-main/datasets/cores.stratified_ds.2022A.pkl\", \"source_or_target_dataset\": \"source\", \"x_transforms\": [\"unit_power\"], \"episode_transforms\": [], \"domain_prefix\": \"CORES_\"}, {\"labels\": [\"3123D52\", \"3123D65\", \"3123D79\", \"3123D80\", \"3123D54\", \"3123D70\", \"3123D7B\", \"3123D89\", \"3123D58\", \"3123D76\", \"3123D7D\", \"3123EFE\", \"3123D64\", \"3123D78\", \"3123D7E\", \"3124E4A\"], \"domains\": [32, 38, 8, 44, 14, 50, 20, 26], \"num_examples_per_domain_per_label\": 2000, \"pickle_path\": \"/mnt/wd500GB/CSC500/csc500-main/datasets/oracle.Run1_framed_2000Examples_stratified_ds.2022A.pkl\", \"source_or_target_dataset\": \"target\", \"x_transforms\": [\"unit_power\"], \"episode_transforms\": [], \"domain_prefix\": \"ORACLE.run1_\"}], \"domains_source\": [\"CORES_1\", \"CORES_2\", \"CORES_3\", \"CORES_4\", \"CORES_5\"], \"domains_target\": [\"ORACLE.run1_32\", \"ORACLE.run1_38\", \"ORACLE.run1_8\", \"ORACLE.run1_44\", \"ORACLE.run1_14\", \"ORACLE.run1_50\", \"ORACLE.run1_20\", \"ORACLE.run1_26\"]}, \"results\": {\"source_test_label_accuracy\": 0.98875, \"source_test_label_loss\": 0.03384053334593773, \"target_test_label_accuracy\": 0.21559244791666668, \"target_test_label_loss\": 2.3736701011657715, \"source_val_label_accuracy\": 0.989375, \"source_val_label_loss\": 0.03328460082411766, \"target_val_label_accuracy\": 0.2158203125, \"target_val_label_loss\": 2.392552375793457, \"total_epochs_trained\": 5, \"total_experiment_time_secs\": 157.46723771095276, \"confusion\": {\"CORES_3\": {\"43\": {\"43\": 12}, \"9\": {\"9\": 12}, \"6\": {\"6\": 10}, \"3\": {\"3\": 12}, \"16\": {\"16\": 12}, \"51\": {\"51\": 12}, \"31\": {\"31\": 12}, \"46\": {\"46\": 10}, \"19\": {\"19\": 8}, \"8\": {\"8\": 12}, \"18\": {\"18\": 10, \"46\": 1, \"30\": 1}, \"37\": {\"37\": 12}, \"24\": {\"24\": 12}, \"10\": {\"10\": 12}, \"44\": {\"44\": 10}, \"14\": {\"14\": 12}, \"38\": {\"38\": 10}, \"53\": {\"53\": 12}, \"20\": {\"20\": 12}, \"32\": {\"32\": 12}, \"36\": {\"36\": 10}, \"33\": {\"33\": 12}, \"56\": {\"56\": 12}, \"23\": {\"23\": 12}, \"54\": {\"54\": 10}, \"34\": {\"34\": 12}, \"13\": {\"13\": 12}, \"2\": {\"2\": 12}, \"55\": {\"55\": 10}, \"21\": {\"21\": 10}, \"49\": {\"49\": 10}, \"25\": {\"25\": 12}, \"5\": {\"5\": 12}, \"50\": {\"46\": 1, \"50\": 7}, \"40\": {\"40\": 11, \"44\": 1}, \"57\": {\"57\": 8}, \"22\": {\"22\": 10}, \"1\": {\"1\": 10}, \"17\": {\"17\": 12}, \"41\": {\"41\": 12}, \"4\": {\"4\": 10}, \"7\": {\"7\": 10}, \"26\": {\"26\": 10}, \"29\": {\"29\": 12}, \"52\": {\"52\": 12}, \"15\": {\"15\": 12}, \"35\": {\"35\": 12}, \"42\": {\"42\": 12}, \"30\": {\"30\": 10}, \"27\": {\"27\": 8}, \"45\": {\"45\": 10}, \"0\": {\"0\": 12}, \"28\": {\"28\": 12}, \"47\": {\"47\": 9, \"15\": 2, \"7\": 1}, \"11\": {\"11\": 10}, \"39\": {\"39\": 10}, \"48\": {\"48\": 12}, \"12\": {\"12\": 8}}, \"CORES_4\": {\"35\": {\"35\": 10}, \"25\": {\"25\": 11, \"54\": 1}, \"24\": {\"24\": 10}, \"48\": {\"48\": 12}, \"51\": {\"51\": 12}, \"13\": {\"13\": 12}, \"14\": {\"14\": 8}, \"32\": {\"32\": 12}, \"30\": {\"30\": 11, \"21\": 1}, \"34\": {\"34\": 10}, \"9\": {\"9\": 12}, \"1\": {\"1\": 12}, \"0\": {\"0\": 12}, \"38\": {\"38\": 12}, \"22\": {\"22\": 8}, \"40\": {\"40\": 12}, \"39\": {\"39\": 12}, \"46\": {\"46\": 11, \"31\": 1}, \"36\": {\"36\": 12}, \"50\": {\"50\": 11, \"20\": 1}, \"49\": {\"49\": 12}, \"17\": {\"17\": 12}, \"45\": {\"45\": 12}, \"6\": {\"6\": 12}, \"8\": {\"8\": 12}, \"5\": {\"5\": 9, \"46\": 1}, \"33\": {\"33\": 12}, \"31\": {\"31\": 12}, \"37\": {\"37\": 10}, \"47\": {\"47\": 8}, \"15\": {\"15\": 10}, \"7\": {\"7\": 12}, \"20\": {\"20\": 12}, \"4\": {\"4\": 12}, \"54\": {\"54\": 12}, \"44\": {\"44\": 12}, \"3\": {\"3\": 12}, \"11\": {\"11\": 10}, \"27\": {\"27\": 10}, \"19\": {\"19\": 12}, \"55\": {\"55\": 12}, \"16\": {\"16\": 12}, \"2\": {\"2\": 10}, \"52\": {\"52\": 10}, \"42\": {\"42\": 10}, \"26\": {\"26\": 12}, \"10\": {\"10\": 12}, \"53\": {\"53\": 10}, \"28\": {\"28\": 12}, \"21\": {\"21\": 10}, \"57\": {\"57\": 10}, \"23\": {\"23\": 8}, \"43\": {\"43\": 10}, \"12\": {\"12\": 12}, \"41\": {\"41\": 12}, \"56\": {\"56\": 8}, \"18\": {\"18\": 9, \"3\": 1}, \"29\": {\"29\": 8}}, \"CORES_5\": {\"47\": {\"47\": 7, \"49\": 1, \"52\": 2}, \"53\": {\"53\": 12}, \"29\": {\"29\": 12}, \"52\": {\"52\": 12}, \"55\": {\"55\": 12}, \"17\": {\"17\": 12}, \"42\": {\"42\": 12}, \"33\": {\"33\": 10}, \"11\": {\"11\": 12}, \"19\": {\"19\": 8}, \"1\": {\"1\": 12}, \"44\": {\"44\": 12}, \"49\": {\"49\": 12}, \"4\": {\"4\": 12}, \"6\": {\"6\": 11, \"45\": 1}, \"39\": {\"39\": 12}, \"13\": {\"13\": 12}, \"5\": {\"5\": 10}, \"16\": {\"16\": 10}, \"25\": {\"25\": 12}, \"45\": {\"45\": 12}, \"7\": {\"7\": 10}, \"22\": {\"22\": 11, \"56\": 1}, \"40\": {\"40\": 12}, \"38\": {\"38\": 12}, \"35\": {\"35\": 8}, \"56\": {\"56\": 12}, \"50\": {\"50\": 10}, \"0\": {\"0\": 12}, \"10\": {\"10\": 12}, \"27\": {\"27\": 12}, \"20\": {\"20\": 10}, \"36\": {\"36\": 8}, \"34\": {\"34\": 12}, \"30\": {\"30\": 12}, \"2\": {\"2\": 10}, \"15\": {\"15\": 12}, \"18\": {\"18\": 11, \"21\": 1}, \"32\": {\"32\": 12}, \"31\": {\"31\": 12}, \"57\": {\"57\": 12}, \"48\": {\"48\": 8}, \"28\": {\"28\": 10}, \"14\": {\"14\": 12}, \"3\": {\"3\": 12}, \"8\": {\"8\": 12}, \"9\": {\"9\": 12}, \"21\": {\"21\": 10}, \"41\": {\"41\": 12}, \"24\": {\"24\": 12}, \"46\": {\"46\": 9, \"16\": 1}, \"43\": {\"43\": 10}, \"54\": {\"54\": 10}, \"23\": {\"23\": 10}, \"37\": {\"37\": 10}, \"12\": {\"12\": 10}, \"26\": {\"26\": 10}, \"51\": {\"51\": 6}}, \"CORES_1\": {\"46\": {\"46\": 12}, \"16\": {\"16\": 12}, \"26\": {\"26\": 12}, \"10\": {\"10\": 12}, \"9\": {\"9\": 10}, \"28\": {\"28\": 12}, \"51\": {\"51\": 12}, \"1\": {\"1\": 11, \"57\": 1}, \"55\": {\"55\": 12}, \"27\": {\"27\": 10}, \"22\": {\"22\": 12}, \"52\": {\"52\": 12}, \"3\": {\"3\": 12}, \"33\": {\"33\": 8}, \"47\": {\"47\": 12}, \"42\": {\"42\": 12}, \"12\": {\"12\": 4}, \"23\": {\"23\": 12}, \"49\": {\"49\": 10}, \"7\": {\"7\": 12}, \"4\": {\"4\": 12}, \"50\": {\"50\": 12}, \"19\": {\"19\": 12}, \"11\": {\"11\": 12}, \"31\": {\"31\": 10}, \"41\": {\"41\": 12}, \"56\": {\"56\": 10}, \"0\": {\"0\": 11, \"38\": 1}, \"57\": {\"57\": 11, \"1\": 1}, \"53\": {\"53\": 12}, \"43\": {\"43\": 12}, \"37\": {\"37\": 12}, \"2\": {\"2\": 8}, \"6\": {\"6\": 10, \"5\": 2}, \"18\": {\"18\": 12}, \"38\": {\"38\": 12}, \"15\": {\"15\": 12}, \"36\": {\"36\": 12}, \"39\": {\"39\": 8}, \"44\": {\"44\": 12}, \"8\": {\"8\": 12}, \"17\": {\"17\": 10}, \"5\": {\"5\": 12}, \"13\": {\"13\": 10}, \"40\": {\"40\": 10}, \"29\": {\"29\": 12}, \"48\": {\"48\": 12}, \"32\": {\"32\": 12}, \"30\": {\"30\": 12}, \"35\": {\"35\": 12}, \"25\": {\"25\": 12}, \"14\": {\"14\": 11, \"30\": 1}, \"54\": {\"54\": 10}, \"20\": {\"20\": 8}, \"21\": {\"21\": 10}, \"45\": {\"45\": 8}, \"24\": {\"24\": 6, \"22\": 2}, \"34\": {\"34\": 8}}, \"CORES_2\": {\"14\": {\"14\": 12}, \"22\": {\"22\": 12}, \"9\": {\"9\": 11, \"35\": 1}, \"47\": {\"47\": 12}, \"13\": {\"13\": 12}, \"8\": {\"8\": 12}, \"7\": {\"7\": 11, \"47\": 1}, \"49\": {\"49\": 12}, \"20\": {\"20\": 12}, \"16\": {\"16\": 12}, \"34\": {\"34\": 12}, \"56\": {\"56\": 10, \"22\": 2}, \"38\": {\"38\": 10}, \"4\": {\"4\": 12}, \"43\": {\"43\": 10}, \"26\": {\"26\": 10}, \"35\": {\"35\": 12}, \"31\": {\"31\": 12}, \"1\": {\"1\": 12}, \"39\": {\"39\": 12}, \"5\": {\"5\": 12}, \"24\": {\"24\": 12}, \"54\": {\"54\": 10}, \"23\": {\"23\": 12}, \"51\": {\"51\": 12}, \"27\": {\"27\": 10}, \"15\": {\"15\": 12}, \"0\": {\"0\": 12}, \"19\": {\"19\": 10}, \"18\": {\"18\": 8}, \"30\": {\"30\": 12}, \"55\": {\"55\": 10}, \"57\": {\"57\": 12}, \"2\": {\"2\": 12}, \"12\": {\"12\": 8}, \"41\": {\"41\": 12}, \"42\": {\"42\": 12}, \"48\": {\"48\": 12}, \"37\": {\"37\": 12}, \"6\": {\"6\": 10}, \"11\": {\"11\": 10}, \"45\": {\"45\": 8}, \"21\": {\"21\": 12}, \"46\": {\"46\": 9, \"7\": 1}, \"25\": {\"25\": 12}, \"36\": {\"36\": 10}, \"53\": {\"53\": 12}, \"28\": {\"28\": 12}, \"40\": {\"40\": 10}, \"33\": {\"33\": 10}, \"44\": {\"44\": 10}, \"3\": {\"3\": 12}, \"17\": {\"17\": 12}, \"32\": {\"32\": 10}, \"10\": {\"10\": 10}, \"52\": {\"52\": 9, \"7\": 1}, \"50\": {\"50\": 8}, \"29\": {\"29\": 6}}, \"ORACLE.run1_14\": {\"15\": {\"9\": 2, \"7\": 70, \"5\": 24, \"4\": 28, \"15\": 59, \"8\": 8, \"1\": 34, \"13\": 5, \"3\": 4, \"0\": 3, \"6\": 1, \"14\": 1, \"2\": 1}, \"3\": {\"6\": 15, \"13\": 33, \"3\": 35, \"11\": 19, \"10\": 14, \"0\": 23, \"4\": 14, \"14\": 8, \"12\": 17, \"2\": 22, \"1\": 12, \"5\": 18, \"9\": 9, \"15\": 1}, \"6\": {\"6\": 58, \"3\": 13, \"2\": 26, \"13\": 41, \"10\": 24, \"14\": 41, \"0\": 15, \"1\": 2, \"11\": 9, \"4\": 4, \"5\": 7}, \"1\": {\"9\": 10, \"1\": 57, \"0\": 9, \"7\": 31, \"3\": 7, \"5\": 38, \"8\": 11, \"4\": 35, \"13\": 3, \"15\": 32, \"2\": 4, \"11\": 2, \"6\": 1}, \"8\": {\"8\": 136, \"7\": 43, \"15\": 14, \"12\": 4, \"5\": 6, \"1\": 19, \"9\": 14, \"4\": 4}, \"10\": {\"0\": 18, \"13\": 36, \"14\": 25, \"11\": 32, \"6\": 28, \"10\": 37, \"4\": 6, \"3\": 28, \"2\": 15, \"12\": 3, \"5\": 8, \"9\": 2, \"1\": 2}, \"9\": {\"12\": 52, \"9\": 59, \"11\": 17, \"4\": 21, \"3\": 13, \"0\": 21, \"5\": 11, \"1\": 20, \"8\": 9, \"13\": 4, \"2\": 1, \"10\": 3, \"15\": 3, \"7\": 4, \"6\": 1, \"14\": 1}, \"13\": {\"13\": 42, \"6\": 41, \"3\": 25, \"4\": 13, \"14\": 34, \"11\": 13, \"10\": 19, \"9\": 1, \"2\": 31, \"5\": 6, \"0\": 13, \"15\": 2}, \"12\": {\"9\": 64, \"5\": 6, \"3\": 6, \"4\": 10, \"12\": 77, \"11\": 26, \"0\": 19, \"8\": 14, \"13\": 3, \"1\": 8, \"7\": 1, \"10\": 4, \"15\": 1, \"6\": 1}, \"5\": {\"5\": 42, \"9\": 10, \"11\": 4, \"0\": 17, \"15\": 17, \"3\": 25, \"4\": 38, \"1\": 44, \"8\": 2, \"7\": 9, \"12\": 5, \"6\": 3, \"2\": 9, \"10\": 7, \"13\": 7, \"14\": 1}, \"0\": {\"9\": 15, \"13\": 22, \"11\": 31, \"3\": 29, \"6\": 16, \"12\": 9, \"4\": 22, \"1\": 9, \"10\": 23, \"0\": 29, \"2\": 10, \"5\": 9, \"14\": 16}, \"2\": {\"14\": 27, \"13\": 42, \"9\": 4, \"1\": 8, \"7\": 3, \"5\": 15, \"4\": 14, \"3\": 28, \"2\": 29, \"10\": 16, \"6\": 31, \"11\": 6, \"15\": 3, \"0\": 14}, \"11\": {\"0\": 35, \"6\": 13, \"11\": 38, \"12\": 18, \"13\": 25, \"4\": 2, \"3\": 22, \"14\": 15, \"2\": 11, \"10\": 33, \"5\": 3, \"9\": 23, \"1\": 2}, \"14\": {\"14\": 39, \"6\": 47, \"13\": 42, \"11\": 16, \"2\": 24, \"4\": 5, \"0\": 11, \"10\": 32, \"3\": 18, \"5\": 5, \"1\": 1}, \"7\": {\"15\": 55, \"8\": 38, \"7\": 74, \"13\": 1, \"1\": 44, \"9\": 2, \"5\": 16, \"4\": 7, \"0\": 1, \"2\": 1, \"12\": 1}, \"4\": {\"1\": 29, \"9\": 8, \"0\": 28, \"14\": 5, \"5\": 31, \"4\": 47, \"3\": 22, \"11\": 11, \"7\": 7, \"2\": 13, \"13\": 12, \"15\": 10, \"10\": 6, \"6\": 5, \"12\": 4, \"8\": 2}}, \"ORACLE.run1_20\": {\"3\": {\"13\": 11, \"12\": 23, \"4\": 15, \"7\": 13, \"9\": 24, \"6\": 15, \"10\": 5, \"15\": 16, \"8\": 15, \"5\": 19, \"1\": 16, \"0\": 10, \"14\": 20, \"3\": 18, \"2\": 20}, \"15\": {\"15\": 31, \"0\": 18, \"9\": 21, \"5\": 16, \"13\": 36, \"6\": 9, \"2\": 18, \"12\": 24, \"1\": 16, \"7\": 13, \"11\": 15, \"8\": 6, \"3\": 13, \"4\": 3, \"14\": 1}, \"8\": {\"10\": 26, \"5\": 20, \"0\": 13, \"1\": 9, \"12\": 13, \"4\": 22, \"14\": 36, \"8\": 25, \"7\": 19, \"15\": 4, \"9\": 8, \"2\": 10, \"6\": 15, \"13\": 2, \"3\": 18}, \"4\": {\"5\": 14, \"4\": 28, \"3\": 19, \"12\": 11, \"7\": 10, \"10\": 42, \"14\": 38, \"8\": 38, \"0\": 9, \"1\": 6, \"6\": 20, \"15\": 2, \"2\": 1, \"9\": 2}, \"14\": {\"12\": 8, \"4\": 40, \"0\": 4, \"6\": 24, \"8\": 32, \"3\": 15, \"10\": 47, \"14\": 47, \"2\": 3, \"5\": 8, \"1\": 4, \"7\": 6, \"9\": 1, \"15\": 1}, \"0\": {\"3\": 20, \"2\": 14, \"5\": 24, \"1\": 20, \"7\": 18, \"0\": 19, \"8\": 14, \"13\": 19, \"15\": 14, \"12\": 19, \"9\": 16, \"4\": 13, \"10\": 4, \"6\": 11, \"14\": 9, \"11\": 6}, \"7\": {\"6\": 16, \"13\": 16, \"15\": 25, \"14\": 6, \"5\": 18, \"12\": 21, \"2\": 18, \"3\": 15, \"11\": 2, \"7\": 15, \"4\": 14, \"9\": 17, \"0\": 16, \"8\": 14, \"10\": 8, \"1\": 19}, \"6\": {\"2\": 16, \"12\": 14, \"7\": 15, \"0\": 9, \"1\": 15, \"8\": 20, \"14\": 17, \"9\": 13, \"6\": 30, \"3\": 21, \"15\": 9, \"4\": 23, \"10\": 18, \"5\": 18, \"13\": 2}, \"10\": {\"0\": 2, \"10\": 62, \"4\": 42, \"8\": 36, \"7\": 2, \"6\": 20, \"3\": 12, \"14\": 51, \"12\": 6, \"5\": 4, \"1\": 3}, \"5\": {\"3\": 27, \"0\": 14, \"15\": 20, \"9\": 13, \"2\": 14, \"4\": 13, \"10\": 9, \"13\": 9, \"12\": 19, \"6\": 20, \"8\": 18, \"7\": 19, \"5\": 17, \"1\": 15, \"14\": 9, \"11\": 4}, \"2\": {\"13\": 32, \"0\": 15, \"7\": 18, \"5\": 12, \"6\": 10, \"1\": 24, \"12\": 18, \"9\": 19, \"3\": 12, \"15\": 31, \"11\": 12, \"8\": 7, \"2\": 27, \"10\": 2, \"4\": 1}, \"12\": {\"14\": 9, \"2\": 24, \"15\": 28, \"1\": 23, \"0\": 15, \"8\": 13, \"9\": 24, \"5\": 21, \"12\": 14, \"7\": 15, \"13\": 21, \"3\": 14, \"4\": 8, \"6\": 9, \"11\": 1, \"10\": 1}, \"9\": {\"7\": 15, \"2\": 29, \"4\": 9, \"15\": 28, \"9\": 17, \"5\": 18, \"13\": 24, \"10\": 1, \"0\": 17, \"12\": 24, \"6\": 13, \"1\": 20, \"8\": 9, \"3\": 8, \"11\": 6, \"14\": 2}, \"1\": {\"2\": 22, \"15\": 31, \"3\": 21, \"5\": 15, \"10\": 2, \"7\": 19, \"12\": 27, \"0\": 25, \"13\": 14, \"8\": 12, \"4\": 7, \"1\": 13, \"9\": 17, \"6\": 9, \"11\": 4, \"14\": 2}, \"11\": {\"13\": 58, \"11\": 124, \"15\": 9, \"2\": 13, \"12\": 6, \"9\": 13, \"0\": 7, \"5\": 2, \"7\": 4, \"1\": 4}, \"13\": {\"13\": 51, \"12\": 8, \"15\": 26, \"9\": 26, \"1\": 26, \"2\": 22, \"8\": 2, \"5\": 6, \"7\": 9, \"3\": 7, \"11\": 39, \"6\": 3, \"0\": 15}}, \"ORACLE.run1_38\": {\"5\": {\"13\": 29, \"8\": 30, \"15\": 22, \"5\": 40, \"7\": 17, \"0\": 20, \"6\": 26, \"2\": 14, \"9\": 7, \"10\": 5, \"1\": 23, \"14\": 4, \"3\": 3}, \"8\": {\"0\": 25, \"15\": 31, \"13\": 19, \"1\": 13, \"7\": 33, \"10\": 28, \"8\": 27, \"5\": 26, \"11\": 2, \"2\": 22, \"9\": 2, \"14\": 3, \"6\": 7, \"12\": 1, \"3\": 1}, \"11\": {\"4\": 31, \"14\": 50, \"11\": 69, \"12\": 60, \"7\": 4, \"2\": 7, \"10\": 17, \"15\": 1, \"3\": 1}, \"1\": {\"9\": 38, \"5\": 14, \"6\": 46, \"1\": 72, \"13\": 25, \"2\": 3, \"3\": 13, \"15\": 15, \"0\": 11, \"8\": 3}, \"10\": {\"2\": 27, \"15\": 14, \"0\": 13, \"7\": 45, \"10\": 53, \"14\": 37, \"8\": 17, \"11\": 10, \"5\": 5, \"1\": 1, \"12\": 8, \"13\": 7, \"4\": 2, \"6\": 1}, \"15\": {\"10\": 10, \"1\": 32, \"0\": 19, \"8\": 23, \"15\": 38, \"7\": 13, \"13\": 28, \"5\": 33, \"2\": 19, \"9\": 4, \"6\": 15, \"14\": 2, \"11\": 1, \"3\": 3}, \"3\": {\"5\": 16, \"15\": 9, \"1\": 16, \"3\": 56, \"0\": 13, \"6\": 48, \"13\": 17, \"9\": 53, \"8\": 9, \"7\": 2, \"2\": 1}, \"7\": {\"0\": 21, \"7\": 66, \"8\": 34, \"10\": 35, \"15\": 13, \"5\": 23, \"13\": 9, \"2\": 11, \"3\": 3, \"11\": 9, \"14\": 10, \"1\": 1, \"9\": 2, \"6\": 2, \"12\": 1}, \"4\": {\"4\": 139, \"14\": 8, \"12\": 79, \"10\": 2, \"11\": 12}, \"14\": {\"8\": 9, \"14\": 84, \"11\": 52, \"2\": 14, \"12\": 33, \"10\": 28, \"4\": 8, \"7\": 8, \"5\": 2, \"15\": 2}, \"9\": {\"9\": 73, \"5\": 15, \"13\": 8, \"1\": 30, \"3\": 55, \"6\": 47, \"8\": 2, \"7\": 1, \"15\": 6, \"0\": 2, \"2\": 1}, \"12\": {\"4\": 54, \"14\": 35, \"12\": 110, \"11\": 29, \"10\": 5, \"7\": 6, \"2\": 1}, \"6\": {\"6\": 58, \"15\": 13, \"9\": 51, \"1\": 38, \"3\": 40, \"5\": 18, \"8\": 2, \"13\": 12, \"7\": 1, \"0\": 6, \"2\": 1}, \"2\": {\"8\": 34, \"5\": 13, \"2\": 53, \"15\": 46, \"7\": 16, \"13\": 21, \"14\": 17, \"10\": 18, \"0\": 14, \"1\": 4, \"11\": 2, \"9\": 1, \"6\": 1}, \"0\": {\"7\": 33, \"15\": 22, \"0\": 26, \"8\": 32, \"13\": 30, \"3\": 8, \"5\": 22, \"10\": 18, \"2\": 15, \"12\": 1, \"6\": 11, \"1\": 11, \"14\": 4, \"9\": 4, \"11\": 3}, \"13\": {\"0\": 17, \"1\": 36, \"6\": 14, \"7\": 11, \"8\": 19, \"15\": 38, \"10\": 6, \"5\": 19, \"2\": 21, \"11\": 1, \"13\": 39, \"3\": 13, \"9\": 6}}, \"ORACLE.run1_8\": {\"9\": {\"9\": 178, \"0\": 37, \"2\": 9, \"10\": 2, \"13\": 6, \"7\": 3, \"6\": 2, \"5\": 1, \"4\": 2}, \"10\": {\"13\": 29, \"2\": 15, \"3\": 27, \"7\": 16, \"14\": 36, \"4\": 24, \"11\": 3, \"6\": 23, \"0\": 10, \"10\": 28, \"5\": 15, \"8\": 2, \"15\": 3, \"9\": 1, \"12\": 6, \"1\": 2}, \"13\": {\"6\": 15, \"7\": 24, \"4\": 25, \"2\": 25, \"3\": 14, \"14\": 23, \"13\": 31, \"0\": 26, \"10\": 22, \"5\": 11, \"8\": 2, \"1\": 8, \"12\": 6, \"15\": 2, \"11\": 3, \"9\": 3}, \"0\": {\"14\": 19, \"9\": 20, \"2\": 37, \"0\": 45, \"10\": 24, \"3\": 13, \"13\": 29, \"7\": 21, \"6\": 14, \"4\": 13, \"15\": 1, \"12\": 1, \"5\": 3}, \"1\": {\"5\": 24, \"1\": 43, \"13\": 4, \"15\": 26, \"10\": 5, \"8\": 44, \"12\": 11, \"11\": 56, \"14\": 10, \"4\": 6, \"6\": 5, \"7\": 3, \"3\": 3}, \"15\": {\"5\": 11, \"12\": 41, \"6\": 9, \"8\": 43, \"4\": 7, \"10\": 3, \"1\": 20, \"2\": 2, \"11\": 20, \"14\": 9, \"3\": 15, \"15\": 41, \"13\": 13, \"7\": 6}, \"5\": {\"6\": 22, \"15\": 8, \"11\": 29, \"5\": 24, \"4\": 21, \"1\": 20, \"12\": 10, \"13\": 22, \"8\": 12, \"7\": 12, \"3\": 7, \"14\": 22, \"10\": 20, \"0\": 7, \"2\": 3, \"9\": 1}, \"3\": {\"14\": 16, \"4\": 16, \"6\": 21, \"2\": 18, \"12\": 23, \"5\": 5, \"10\": 14, \"3\": 44, \"13\": 22, \"7\": 24, \"15\": 11, \"8\": 11, \"0\": 7, \"11\": 2, \"1\": 6}, \"6\": {\"8\": 7, \"0\": 12, \"3\": 23, \"13\": 31, \"4\": 16, \"5\": 17, \"15\": 9, \"7\": 16, \"6\": 23, \"10\": 19, \"14\": 28, \"1\": 11, \"2\": 10, \"12\": 14, \"11\": 4}, \"11\": {\"8\": 51, \"1\": 39, \"5\": 16, \"4\": 5, \"11\": 51, \"12\": 32, \"15\": 29, \"3\": 4, \"13\": 2, \"6\": 4, \"10\": 2, \"14\": 3, \"7\": 2}, \"8\": {\"8\": 56, \"1\": 36, \"15\": 33, \"11\": 41, \"12\": 38, \"13\": 4, \"10\": 1, \"3\": 3, \"14\": 5, \"6\": 4, \"4\": 7, \"5\": 12}, \"4\": {\"13\": 28, \"14\": 23, \"2\": 12, \"7\": 25, \"5\": 18, \"3\": 16, \"1\": 6, \"8\": 8, \"4\": 26, \"10\": 21, \"6\": 27, \"12\": 7, \"0\": 9, \"15\": 8, \"11\": 6}, \"12\": {\"15\": 44, \"12\": 39, \"1\": 19, \"10\": 2, \"11\": 19, \"8\": 44, \"4\": 13, \"2\": 1, \"5\": 5, \"6\": 15, \"13\": 6, \"7\": 8, \"3\": 18, \"14\": 7}, \"14\": {\"10\": 20, \"13\": 28, \"1\": 12, \"5\": 22, \"2\": 7, \"12\": 9, \"11\": 7, \"14\": 39, \"6\": 16, \"4\": 30, \"7\": 26, \"8\": 5, \"0\": 7, \"15\": 5, \"3\": 7}, \"2\": {\"3\": 32, \"7\": 28, \"0\": 41, \"2\": 42, \"14\": 14, \"6\": 17, \"9\": 6, \"13\": 24, \"4\": 10, \"5\": 3, \"10\": 15, \"12\": 4, \"8\": 2, \"15\": 1, \"1\": 1}, \"7\": {\"3\": 16, \"7\": 30, \"13\": 34, \"6\": 19, \"10\": 17, \"2\": 30, \"14\": 24, \"5\": 8, \"0\": 23, \"4\": 23, \"9\": 1, \"1\": 3, \"15\": 3, \"8\": 3, \"11\": 3, \"12\": 3}}, \"ORACLE.run1_50\": {\"7\": {\"4\": 25, \"15\": 20, \"3\": 23, \"9\": 4, \"13\": 35, \"7\": 30, \"1\": 13, \"5\": 38, \"6\": 25, \"10\": 16, \"0\": 2, \"11\": 3, \"8\": 6}, \"3\": {\"8\": 21, \"3\": 96, \"13\": 29, \"6\": 11, \"7\": 26, \"0\": 4, \"5\": 22, \"4\": 5, \"10\": 13, \"15\": 8, \"1\": 5}, \"8\": {\"10\": 31, \"8\": 62, \"6\": 14, \"14\": 10, \"4\": 8, \"13\": 13, \"3\": 12, \"7\": 14, \"15\": 8, \"1\": 15, \"0\": 37, \"11\": 5, \"2\": 8, \"5\": 1, \"9\": 1, \"12\": 1}, \"2\": {\"2\": 69, \"14\": 61, \"12\": 47, \"1\": 2, \"0\": 31, \"8\": 7, \"9\": 11, \"10\": 6, \"11\": 4, \"6\": 1, \"5\": 1}, \"14\": {\"12\": 33, \"6\": 3, \"11\": 16, \"14\": 51, \"9\": 36, \"0\": 26, \"8\": 7, \"10\": 8, \"2\": 50, \"15\": 6, \"1\": 4}, \"4\": {\"5\": 35, \"15\": 31, \"4\": 36, \"8\": 12, \"7\": 24, \"1\": 18, \"13\": 22, \"3\": 8, \"6\": 18, \"11\": 16, \"9\": 2, \"10\": 12, \"0\": 5, \"14\": 1}, \"6\": {\"8\": 11, \"5\": 30, \"7\": 22, \"9\": 6, \"10\": 18, \"6\": 23, \"11\": 10, \"3\": 6, \"1\": 27, \"15\": 21, \"4\": 20, \"0\": 14, \"13\": 32}, \"15\": {\"5\": 23, \"4\": 31, \"6\": 23, \"11\": 27, \"15\": 37, \"1\": 28, \"13\": 20, \"3\": 4, \"8\": 8, \"7\": 13, \"10\": 13, \"0\": 6, \"2\": 1, \"9\": 6}, \"10\": {\"15\": 15, \"2\": 7, \"13\": 24, \"1\": 23, \"10\": 35, \"8\": 33, \"6\": 18, \"9\": 6, \"0\": 33, \"4\": 8, \"5\": 7, \"11\": 10, \"3\": 6, \"14\": 4, \"7\": 11}, \"11\": {\"1\": 28, \"10\": 17, \"4\": 17, \"9\": 31, \"15\": 24, \"11\": 37, \"0\": 21, \"13\": 7, \"8\": 7, \"6\": 12, \"14\": 19, \"5\": 3, \"7\": 4, \"2\": 9, \"12\": 4}, \"13\": {\"15\": 27, \"7\": 35, \"13\": 35, \"3\": 16, \"4\": 28, \"1\": 22, \"5\": 26, \"8\": 9, \"10\": 20, \"0\": 4, \"6\": 15, \"11\": 2, \"9\": 1}, \"9\": {\"1\": 17, \"9\": 58, \"12\": 17, \"4\": 5, \"0\": 24, \"2\": 19, \"10\": 6, \"6\": 6, \"5\": 1, \"11\": 49, \"14\": 25, \"15\": 9, \"8\": 1, \"13\": 2, \"7\": 1}, \"0\": {\"9\": 13, \"11\": 13, \"14\": 34, \"0\": 42, \"2\": 40, \"8\": 25, \"10\": 24, \"6\": 8, \"15\": 8, \"7\": 2, \"3\": 1, \"4\": 4, \"12\": 8, \"1\": 14, \"13\": 3, \"5\": 1}, \"1\": {\"4\": 19, \"7\": 16, \"11\": 28, \"13\": 17, \"15\": 26, \"0\": 18, \"6\": 30, \"1\": 31, \"9\": 13, \"8\": 8, \"2\": 3, \"10\": 16, \"5\": 10, \"14\": 4, \"3\": 1}, \"12\": {\"9\": 30, \"2\": 56, \"14\": 35, \"12\": 101, \"11\": 11, \"0\": 6, \"5\": 1}, \"5\": {\"7\": 39, \"10\": 9, \"6\": 24, \"13\": 23, \"4\": 18, \"3\": 11, \"15\": 28, \"1\": 22, \"5\": 41, \"8\": 16, \"0\": 2, \"11\": 6, \"14\": 1}}, \"ORACLE.run1_32\": {\"8\": {\"4\": 24, \"8\": 48, \"13\": 32, \"5\": 19, \"3\": 41, \"9\": 7, \"15\": 22, \"0\": 26, \"2\": 7, \"11\": 1, \"12\": 7, \"7\": 4, \"14\": 2}, \"14\": {\"11\": 53, \"5\": 20, \"2\": 33, \"7\": 37, \"0\": 17, \"14\": 50, \"4\": 14, \"8\": 7, \"9\": 1, \"3\": 5, \"13\": 2, \"6\": 1}, \"2\": {\"5\": 16, \"6\": 9, \"4\": 26, \"2\": 46, \"0\": 22, \"14\": 36, \"7\": 34, \"8\": 12, \"9\": 11, \"13\": 4, \"11\": 18, \"3\": 6}, \"0\": {\"13\": 24, \"4\": 22, \"2\": 29, \"7\": 21, \"8\": 29, \"11\": 18, \"5\": 24, \"0\": 32, \"3\": 18, \"9\": 13, \"15\": 2, \"12\": 3, \"14\": 5}, \"1\": {\"1\": 120, \"9\": 7, \"12\": 36, \"10\": 72, \"6\": 4, \"15\": 1}, \"10\": {\"1\": 64, \"10\": 127, \"12\": 38, \"15\": 9, \"9\": 2}, \"11\": {\"4\": 19, \"14\": 63, \"7\": 37, \"8\": 5, \"11\": 55, \"2\": 25, \"0\": 11, \"3\": 4, \"5\": 15, \"6\": 1, \"13\": 5}, \"5\": {\"14\": 16, \"4\": 23, \"6\": 2, \"11\": 19, \"13\": 20, \"5\": 34, \"0\": 30, \"8\": 28, \"9\": 4, \"2\": 15, \"3\": 23, \"7\": 26}, \"15\": {\"15\": 192, \"13\": 2, \"8\": 17, \"3\": 14, \"10\": 4, \"0\": 3, \"12\": 6, \"5\": 2}, \"3\": {\"3\": 54, \"15\": 7, \"5\": 24, \"4\": 11, \"13\": 45, \"8\": 61, \"0\": 16, \"11\": 8, \"7\": 7, \"2\": 4, \"14\": 3}, \"12\": {\"12\": 110, \"10\": 32, \"1\": 17, \"9\": 46, \"6\": 13, \"3\": 4, \"15\": 9, \"8\": 3, \"4\": 1, \"0\": 2, \"13\": 3}, \"7\": {\"11\": 42, \"2\": 29, \"4\": 25, \"5\": 25, \"8\": 10, \"7\": 39, \"13\": 7, \"14\": 35, \"3\": 8, \"0\": 15, \"9\": 4, \"6\": 1}, \"13\": {\"13\": 43, \"3\": 31, \"5\": 24, \"8\": 44, \"4\": 31, \"9\": 7, \"15\": 5, \"14\": 6, \"0\": 21, \"11\": 8, \"12\": 5, \"7\": 7, \"2\": 8}, \"6\": {\"2\": 25, \"6\": 132, \"9\": 39, \"8\": 2, \"11\": 5, \"12\": 8, \"4\": 9, \"7\": 10, \"14\": 4, \"0\": 4, \"5\": 1, \"1\": 1}, \"4\": {\"8\": 20, \"2\": 28, \"3\": 13, \"7\": 23, \"14\": 14, \"0\": 28, \"13\": 13, \"4\": 36, \"5\": 30, \"11\": 19, \"9\": 11, \"12\": 4, \"6\": 1}, \"9\": {\"9\": 76, \"4\": 21, \"0\": 21, \"6\": 25, \"2\": 17, \"8\": 22, \"13\": 8, \"12\": 36, \"7\": 3, \"3\": 6, \"5\": 3, \"11\": 2}}, \"ORACLE.run1_26\": {\"4\": {\"8\": 24, \"14\": 49, \"4\": 30, \"10\": 20, \"7\": 16, \"1\": 38, \"2\": 4, \"0\": 27, \"6\": 11, \"12\": 5, \"3\": 9, \"15\": 5, \"9\": 2}, \"12\": {\"6\": 27, \"12\": 50, \"10\": 11, \"7\": 9, \"13\": 8, \"2\": 10, \"4\": 9, \"5\": 7, \"0\": 13, \"15\": 23, \"11\": 13, \"8\": 19, \"14\": 5, \"3\": 7, \"9\": 13, \"1\": 16}, \"10\": {\"12\": 13, \"14\": 26, \"5\": 1, \"10\": 14, \"1\": 32, \"7\": 25, \"6\": 14, \"15\": 13, \"0\": 37, \"2\": 6, \"4\": 27, \"3\": 8, \"8\": 23, \"9\": 1}, \"0\": {\"1\": 39, \"4\": 31, \"10\": 32, \"6\": 21, \"8\": 21, \"3\": 9, \"12\": 11, \"7\": 16, \"15\": 14, \"14\": 18, \"0\": 21, \"2\": 2, \"5\": 1, \"9\": 4}, \"13\": {\"13\": 62, \"2\": 20, \"11\": 42, \"9\": 31, \"7\": 3, \"5\": 36, \"6\": 5, \"15\": 19, \"3\": 17, \"12\": 4, \"8\": 1}, \"9\": {\"13\": 28, \"9\": 33, \"6\": 14, \"5\": 22, \"11\": 22, \"4\": 2, \"14\": 2, \"0\": 3, \"12\": 13, \"15\": 30, \"7\": 10, \"3\": 21, \"2\": 24, \"1\": 7, \"10\": 5, \"8\": 4}, \"3\": {\"6\": 21, \"15\": 32, \"3\": 23, \"7\": 17, \"8\": 15, \"10\": 13, \"2\": 34, \"9\": 19, \"14\": 4, \"5\": 14, \"1\": 13, \"13\": 11, \"12\": 8, \"0\": 12, \"11\": 2, \"4\": 2}, \"2\": {\"15\": 34, \"2\": 27, \"3\": 24, \"8\": 13, \"6\": 17, \"10\": 11, \"5\": 21, \"7\": 20, \"13\": 21, \"9\": 23, \"11\": 7, \"12\": 4, \"14\": 4, \"1\": 5, \"0\": 4, \"4\": 5}, \"5\": {\"5\": 36, \"9\": 28, \"3\": 13, \"13\": 48, \"11\": 32, \"15\": 18, \"2\": 32, \"7\": 4, \"8\": 5, \"12\": 8, \"6\": 13, \"10\": 1, \"0\": 2}, \"14\": {\"4\": 24, \"0\": 40, \"7\": 15, \"14\": 44, \"6\": 12, \"9\": 3, \"1\": 41, \"12\": 8, \"10\": 27, \"8\": 18, \"15\": 4, \"5\": 1, \"3\": 1, \"11\": 1, \"2\": 1}, \"8\": {\"7\": 27, \"14\": 18, \"3\": 14, \"0\": 18, \"8\": 16, \"4\": 17, \"1\": 29, \"6\": 24, \"15\": 18, \"2\": 11, \"12\": 11, \"10\": 22, \"9\": 10, \"13\": 2, \"5\": 2, \"11\": 1}, \"7\": {\"8\": 22, \"1\": 13, \"0\": 17, \"2\": 24, \"14\": 20, \"6\": 25, \"10\": 11, \"15\": 27, \"7\": 24, \"4\": 13, \"12\": 8, \"3\": 23, \"9\": 8, \"5\": 3, \"11\": 1, \"13\": 1}, \"6\": {\"7\": 16, \"6\": 30, \"5\": 5, \"2\": 15, \"14\": 10, \"4\": 11, \"9\": 23, \"12\": 20, \"0\": 15, \"11\": 11, \"10\": 15, \"13\": 7, \"3\": 12, \"15\": 20, \"8\": 19, \"1\": 11}, \"11\": {\"15\": 12, \"12\": 5, \"11\": 93, \"13\": 58, \"5\": 21, \"9\": 33, \"3\": 5, \"6\": 7, \"10\": 1, \"7\": 1, \"2\": 3, \"1\": 1}, \"15\": {\"15\": 23, \"11\": 11, \"13\": 20, \"9\": 24, \"7\": 16, \"6\": 17, \"10\": 8, \"12\": 13, \"8\": 16, \"0\": 6, \"5\": 26, \"3\": 29, \"4\": 6, \"2\": 19, \"1\": 4, \"14\": 2}, \"1\": {\"14\": 37, \"0\": 33, \"7\": 12, \"6\": 9, \"1\": 45, \"15\": 5, \"2\": 6, \"10\": 29, \"4\": 34, \"12\": 5, \"8\": 20, \"3\": 3, \"9\": 2}}, \"ORACLE.run1_44\": {\"12\": {\"10\": 41, \"14\": 2, \"7\": 6, \"3\": 51, \"1\": 47, \"12\": 63, \"8\": 3, \"2\": 12, \"9\": 5, \"15\": 5, \"0\": 2, \"4\": 2, \"5\": 1}, \"7\": {\"7\": 41, \"1\": 15, \"6\": 17, \"2\": 40, \"4\": 16, \"10\": 22, \"13\": 20, \"5\": 3, \"9\": 37, \"3\": 7, \"12\": 8, \"14\": 9, \"15\": 1, \"11\": 3, \"0\": 1}, \"5\": {\"7\": 10, \"15\": 25, \"13\": 10, \"0\": 21, \"4\": 34, \"5\": 51, \"14\": 53, \"8\": 12, \"9\": 9, \"3\": 6, \"10\": 4, \"6\": 2, \"12\": 1, \"2\": 2}, \"15\": {\"14\": 17, \"4\": 20, \"5\": 11, \"8\": 60, \"0\": 43, \"15\": 60, \"1\": 3, \"3\": 20, \"12\": 3, \"10\": 1, \"9\": 1, \"2\": 1}, \"8\": {\"0\": 68, \"8\": 76, \"5\": 8, \"3\": 6, \"14\": 13, \"15\": 57, \"4\": 9, \"1\": 1, \"7\": 1, \"9\": 1}, \"2\": {\"10\": 32, \"2\": 49, \"1\": 7, \"12\": 7, \"5\": 4, \"13\": 9, \"9\": 41, \"7\": 51, \"4\": 11, \"3\": 6, \"6\": 14, \"14\": 8, \"15\": 1}, \"13\": {\"6\": 61, \"11\": 46, \"13\": 45, \"2\": 16, \"5\": 4, \"9\": 30, \"4\": 7, \"7\": 26, \"14\": 4, \"1\": 1}, \"4\": {\"7\": 19, \"5\": 31, \"13\": 12, \"4\": 47, \"14\": 56, \"9\": 24, \"0\": 8, \"2\": 8, \"11\": 2, \"6\": 3, \"15\": 10, \"3\": 2, \"10\": 5, \"12\": 5, \"1\": 3, \"8\": 5}, \"0\": {\"8\": 76, \"0\": 60, \"15\": 53, \"14\": 18, \"9\": 1, \"3\": 6, \"1\": 3, \"4\": 11, \"5\": 11, \"10\": 1}, \"6\": {\"6\": 80, \"9\": 20, \"2\": 8, \"11\": 50, \"13\": 47, \"7\": 26, \"10\": 5, \"4\": 4}, \"9\": {\"2\": 40, \"14\": 7, \"7\": 40, \"6\": 27, \"9\": 36, \"4\": 14, \"1\": 4, \"11\": 15, \"10\": 10, \"13\": 29, \"5\": 11, \"3\": 2, \"12\": 4, \"0\": 1}, \"11\": {\"6\": 64, \"11\": 114, \"13\": 50, \"7\": 5, \"9\": 5, \"2\": 2}, \"10\": {\"1\": 22, \"10\": 58, \"2\": 41, \"12\": 38, \"9\": 19, \"7\": 26, \"3\": 21, \"13\": 4, \"4\": 5, \"14\": 4, \"6\": 2}, \"14\": {\"5\": 37, \"15\": 23, \"0\": 14, \"10\": 3, \"4\": 45, \"14\": 42, \"9\": 25, \"7\": 11, \"13\": 5, \"2\": 7, \"8\": 9, \"3\": 10, \"1\": 4, \"11\": 1, \"12\": 3, \"6\": 1}, \"1\": {\"1\": 54, \"12\": 56, \"3\": 47, \"10\": 36, \"5\": 2, \"15\": 5, \"14\": 6, \"7\": 9, \"9\": 7, \"2\": 8, \"4\": 5, \"8\": 2, \"0\": 3}, \"3\": {\"12\": 43, \"1\": 49, \"0\": 7, \"3\": 66, \"14\": 9, \"5\": 1, \"8\": 11, \"15\": 20, \"9\": 6, \"10\": 20, \"4\": 5, \"7\": 1, \"2\": 2}}}, \"per_domain_accuracy\": {\"CORES_3\": {\"accuracy\": 0.9890625, \"source?\": true}, \"CORES_4\": {\"accuracy\": 0.990625, \"source?\": true}, \"CORES_5\": {\"accuracy\": 0.9890625, \"source?\": true}, \"CORES_1\": {\"accuracy\": 0.9875, \"source?\": true}, \"CORES_2\": {\"accuracy\": 0.990625, \"source?\": true}, \"ORACLE.run1_14\": {\"accuracy\": 0.2234375, \"source?\": false}, \"ORACLE.run1_20\": {\"accuracy\": 0.14010416666666667, \"source?\": false}, \"ORACLE.run1_38\": {\"accuracy\": 0.26119791666666664, \"source?\": false}, \"ORACLE.run1_8\": {\"accuracy\": 0.19270833333333334, \"source?\": false}, \"ORACLE.run1_50\": {\"accuracy\": 0.20416666666666666, \"source?\": false}, \"ORACLE.run1_32\": {\"accuracy\": 0.3109375, \"source?\": false}, \"ORACLE.run1_26\": {\"accuracy\": 0.14869791666666668, \"source?\": false}, \"ORACLE.run1_44\": {\"accuracy\": 0.2453125, \"source?\": false}}}, \"history\": {\"epoch_indices\": [1, 2, 3, 4, 5], \"train_label_loss\": [0.1461673113902297, 0.04185059932338518, 0.03809132139022944, 0.029137313421199528, 0.029985054282769603], \"source_val_label_loss\": [0.03328460082411766, 0.02112811990082264, 0.020166685804724693, 0.029232148081064224, 0.03455608710646629], \"target_val_label_loss\": [2.392552375793457, 2.5086541175842285, 2.698650360107422, 2.572481632232666, 2.645132541656494], \"source_val_acc_label\": [0.989375, 0.9928125, 0.9959375, 0.9925, 0.989375], \"target_val_acc_label\": [0.2158203125, 0.21705729166666668, 0.23004557291666666, 0.25953776041666665, 0.25338541666666664]}, \"dataset_metrics\": {\"source\": {\"train\": {\"n_unique_x\": 20300, \"n_unique_y\": 58, \"n_batch/episode\": 733}, \"val\": {\"n_unique_x\": 4332, \"n_unique_y\": 58, \"n_batch/episode\": 100}, \"test\": {\"n_unique_x\": 4332, \"n_unique_y\": 58, \"n_batch/episode\": 100}}, \"target\": {\"train\": {\"n_unique_x\": 179200, \"n_unique_y\": 16, \"n_batch/episode\": 6720}, \"val\": {\"n_unique_x\": 38400, \"n_unique_y\": 16, \"n_batch/episode\": 960}, \"test\": {\"n_unique_x\": 38400, \"n_unique_y\": 16, \"n_batch/episode\": 960}}}}'"
      ]
     },
     "execution_count": 29,
     "metadata": {},
     "output_type": "execute_result"
    }
   ],
   "source": [
    "json.dumps(experiment)"
   ]
  }
 ],
 "metadata": {
  "celltoolbar": "Tags",
  "kernelspec": {
   "display_name": "Python 3 (ipykernel)",
   "language": "python",
   "name": "python3"
  },
  "language_info": {
   "codemirror_mode": {
    "name": "ipython",
    "version": 3
   },
   "file_extension": ".py",
   "mimetype": "text/x-python",
   "name": "python",
   "nbconvert_exporter": "python",
   "pygments_lexer": "ipython3",
   "version": "3.8.10"
  },
  "papermill": {
   "default_parameters": {},
   "duration": 217.005574,
   "end_time": "2022-03-07T08:44:47.524192",
   "environment_variables": {},
   "exception": null,
   "input_path": "/mnt/wd500GB/CSC500/csc500-main/csc500-notebooks/templates/tl_ptn_template.ipynb",
   "output_path": "trial.ipynb",
   "parameters": {
    "parameters": {
     "BEST_MODEL_PATH": "./best_model.pth",
     "NUM_LOGS_PER_EPOCH": 10,
     "criteria_for_best": "target_loss",
     "dataset_seed": 1337,
     "datasets": [
      {
       "domain_prefix": "CORES_",
       "domains": [
        1,
        2,
        3,
        4,
        5
       ],
       "episode_transforms": [],
       "labels": [
        "1-10.",
        "1-11.",
        "1-15.",
        "1-16.",
        "1-17.",
        "1-18.",
        "1-19.",
        "10-4.",
        "10-7.",
        "11-1.",
        "11-14.",
        "11-17.",
        "11-20.",
        "11-7.",
        "13-20.",
        "13-8.",
        "14-10.",
        "14-11.",
        "14-14.",
        "14-7.",
        "15-1.",
        "15-20.",
        "16-1.",
        "16-16.",
        "17-10.",
        "17-11.",
        "17-2.",
        "19-1.",
        "19-16.",
        "19-19.",
        "19-20.",
        "19-3.",
        "2-10.",
        "2-11.",
        "2-17.",
        "2-18.",
        "2-20.",
        "2-3.",
        "2-4.",
        "2-5.",
        "2-6.",
        "2-7.",
        "2-8.",
        "3-13.",
        "3-18.",
        "3-3.",
        "4-1.",
        "4-10.",
        "4-11.",
        "4-19.",
        "5-5.",
        "6-15.",
        "7-10.",
        "7-14.",
        "8-18.",
        "8-20.",
        "8-3.",
        "8-8."
       ],
       "num_examples_per_domain_per_label": 100,
       "pickle_path": "/mnt/wd500GB/CSC500/csc500-main/datasets/cores.stratified_ds.2022A.pkl",
       "source_or_target_dataset": "source",
       "x_transforms": [
        "unit_power"
       ]
      },
      {
       "domain_prefix": "ORACLE.run1_",
       "domains": [
        32,
        38,
        8,
        44,
        14,
        50,
        20,
        26
       ],
       "episode_transforms": [],
       "labels": [
        "3123D52",
        "3123D65",
        "3123D79",
        "3123D80",
        "3123D54",
        "3123D70",
        "3123D7B",
        "3123D89",
        "3123D58",
        "3123D76",
        "3123D7D",
        "3123EFE",
        "3123D64",
        "3123D78",
        "3123D7E",
        "3124E4A"
       ],
       "num_examples_per_domain_per_label": 2000,
       "pickle_path": "/mnt/wd500GB/CSC500/csc500-main/datasets/oracle.Run1_framed_2000Examples_stratified_ds.2022A.pkl",
       "source_or_target_dataset": "target",
       "x_transforms": [
        "unit_power"
       ]
      }
     ],
     "device": "cuda",
     "experiment_name": "tl_1_cores-oracle.run1",
     "lr": 0.001,
     "n_epoch": 50,
     "n_query": 2,
     "n_shot": 3,
     "n_way": 16,
     "patience": 3,
     "seed": 1337,
     "test_k_factor": 2,
     "torch_default_dtype": "torch.float32",
     "train_k_factor": 3,
     "val_k_factor": 2,
     "x_net": [
      {
       "class": "nnReshape",
       "kargs": {
        "shape": [
         -1,
         1,
         2,
         256
        ]
       }
      },
      {
       "class": "Conv2d",
       "kargs": {
        "bias": false,
        "in_channels": 1,
        "kernel_size": [
         1,
         7
        ],
        "out_channels": 256,
        "padding": [
         0,
         3
        ]
       }
      },
      {
       "class": "ReLU",
       "kargs": {
        "inplace": true
       }
      },
      {
       "class": "BatchNorm2d",
       "kargs": {
        "num_features": 256
       }
      },
      {
       "class": "Conv2d",
       "kargs": {
        "bias": true,
        "in_channels": 256,
        "kernel_size": [
         2,
         7
        ],
        "out_channels": 80,
        "padding": [
         0,
         3
        ]
       }
      },
      {
       "class": "ReLU",
       "kargs": {
        "inplace": true
       }
      },
      {
       "class": "BatchNorm2d",
       "kargs": {
        "num_features": 80
       }
      },
      {
       "class": "Flatten",
       "kargs": {}
      },
      {
       "class": "Linear",
       "kargs": {
        "in_features": 20480,
        "out_features": 256
       }
      },
      {
       "class": "ReLU",
       "kargs": {
        "inplace": true
       }
      },
      {
       "class": "BatchNorm1d",
       "kargs": {
        "num_features": 256
       }
      },
      {
       "class": "Linear",
       "kargs": {
        "in_features": 256,
        "out_features": 256
       }
      }
     ]
    }
   },
   "start_time": "2022-03-07T08:41:10.518618",
   "version": "2.3.4"
  }
 },
 "nbformat": 4,
 "nbformat_minor": 5
}