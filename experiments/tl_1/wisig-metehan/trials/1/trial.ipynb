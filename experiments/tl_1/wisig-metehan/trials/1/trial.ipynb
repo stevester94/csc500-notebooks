{
 "cells": [
  {
   "cell_type": "markdown",
   "id": "9fea5f46",
   "metadata": {
    "papermill": {
     "duration": 0.018426,
     "end_time": "2022-03-07T08:25:42.713719",
     "exception": false,
     "start_time": "2022-03-07T08:25:42.695293",
     "status": "completed"
    },
    "tags": []
   },
   "source": [
    "# Transfer Learning Template"
   ]
  },
  {
   "cell_type": "code",
   "execution_count": 1,
   "id": "0902182a",
   "metadata": {
    "execution": {
     "iopub.execute_input": "2022-03-07T08:25:42.751422Z",
     "iopub.status.busy": "2022-03-07T08:25:42.745819Z",
     "iopub.status.idle": "2022-03-07T08:25:43.512306Z",
     "shell.execute_reply": "2022-03-07T08:25:43.512004Z"
    },
    "papermill": {
     "duration": 0.786012,
     "end_time": "2022-03-07T08:25:43.512380",
     "exception": false,
     "start_time": "2022-03-07T08:25:42.726368",
     "status": "completed"
    },
    "tags": []
   },
   "outputs": [],
   "source": [
    "%load_ext autoreload\n",
    "%autoreload 2\n",
    "%matplotlib inline\n",
    "\n",
    "    \n",
    "import os, json, sys, time, random\n",
    "import numpy as np\n",
    "import torch\n",
    "from torch.optim import Adam\n",
    "from  easydict import EasyDict\n",
    "import matplotlib.pyplot as plt\n",
    "\n",
    "from steves_models.steves_ptn import Steves_Prototypical_Network\n",
    "\n",
    "from steves_utils.lazy_iterable_wrapper import Lazy_Iterable_Wrapper\n",
    "from steves_utils.iterable_aggregator import Iterable_Aggregator\n",
    "from steves_utils.ptn_train_eval_test_jig import  PTN_Train_Eval_Test_Jig\n",
    "from steves_utils.torch_sequential_builder import build_sequential\n",
    "from steves_utils.torch_utils import get_dataset_metrics, ptn_confusion_by_domain_over_dataloader\n",
    "from steves_utils.utils_v2 import (per_domain_accuracy_from_confusion, get_datasets_base_path)\n",
    "from steves_utils.PTN.utils import independent_accuracy_assesment\n",
    "\n",
    "from torch.utils.data import DataLoader\n",
    "\n",
    "from steves_utils.stratified_dataset.episodic_accessor import Episodic_Accessor_Factory\n",
    "\n",
    "from steves_utils.ptn_do_report import (\n",
    "    get_loss_curve,\n",
    "    get_results_table,\n",
    "    get_parameters_table,\n",
    "    get_domain_accuracies,\n",
    ")\n",
    "\n",
    "from steves_utils.transforms import get_chained_transform"
   ]
  },
  {
   "cell_type": "markdown",
   "id": "41c840b4",
   "metadata": {
    "papermill": {
     "duration": 0.013226,
     "end_time": "2022-03-07T08:25:43.539809",
     "exception": false,
     "start_time": "2022-03-07T08:25:43.526583",
     "status": "completed"
    },
    "tags": []
   },
   "source": [
    "# Allowed Parameters\n",
    "These are allowed parameters, not defaults\n",
    "Each of these values need to be present in the injected parameters (the notebook will raise an exception if they are not present)\n",
    "\n",
    "Papermill uses the cell tag \"parameters\" to inject the real parameters below this cell.\n",
    "Enable tags to see what I mean"
   ]
  },
  {
   "cell_type": "code",
   "execution_count": 2,
   "id": "fd44eb83",
   "metadata": {
    "execution": {
     "iopub.execute_input": "2022-03-07T08:25:43.567733Z",
     "iopub.status.busy": "2022-03-07T08:25:43.567313Z",
     "iopub.status.idle": "2022-03-07T08:25:43.577614Z",
     "shell.execute_reply": "2022-03-07T08:25:43.577091Z"
    },
    "papermill": {
     "duration": 0.025233,
     "end_time": "2022-03-07T08:25:43.577716",
     "exception": false,
     "start_time": "2022-03-07T08:25:43.552483",
     "status": "completed"
    },
    "tags": []
   },
   "outputs": [],
   "source": [
    "required_parameters = {\n",
    "    \"experiment_name\",\n",
    "    \"lr\",\n",
    "    \"device\",\n",
    "    \"seed\",\n",
    "    \"dataset_seed\",\n",
    "    \"n_shot\",\n",
    "    \"n_query\",\n",
    "    \"n_way\",\n",
    "    \"train_k_factor\",\n",
    "    \"val_k_factor\",\n",
    "    \"test_k_factor\",\n",
    "    \"n_epoch\",\n",
    "    \"patience\",\n",
    "    \"criteria_for_best\",\n",
    "    \"x_net\",\n",
    "    \"datasets\",\n",
    "    \"torch_default_dtype\",\n",
    "    \"NUM_LOGS_PER_EPOCH\",\n",
    "    \"BEST_MODEL_PATH\",\n",
    "}"
   ]
  },
  {
   "cell_type": "code",
   "execution_count": 3,
   "id": "fa3f0049",
   "metadata": {
    "execution": {
     "iopub.execute_input": "2022-03-07T08:25:43.614129Z",
     "iopub.status.busy": "2022-03-07T08:25:43.613782Z",
     "iopub.status.idle": "2022-03-07T08:25:43.626823Z",
     "shell.execute_reply": "2022-03-07T08:25:43.626439Z"
    },
    "papermill": {
     "duration": 0.031792,
     "end_time": "2022-03-07T08:25:43.626884",
     "exception": false,
     "start_time": "2022-03-07T08:25:43.595092",
     "status": "completed"
    },
    "tags": [
     "parameters"
    ]
   },
   "outputs": [],
   "source": [
    "from steves_utils.CORES.utils import (\n",
    "    ALL_NODES,\n",
    "    ALL_NODES_MINIMUM_1000_EXAMPLES,\n",
    "    ALL_DAYS\n",
    ")\n",
    "\n",
    "from steves_utils.ORACLE.utils_v2 import (\n",
    "    ALL_DISTANCES_FEET_NARROWED,\n",
    "    ALL_RUNS,\n",
    "    ALL_SERIAL_NUMBERS,\n",
    ")\n",
    "\n",
    "standalone_parameters = {}\n",
    "standalone_parameters[\"experiment_name\"] = \"STANDALONE PTN\"\n",
    "standalone_parameters[\"lr\"] = 0.001\n",
    "standalone_parameters[\"device\"] = \"cuda\"\n",
    "\n",
    "standalone_parameters[\"seed\"] = 1337\n",
    "standalone_parameters[\"dataset_seed\"] = 1337\n",
    "\n",
    "standalone_parameters[\"n_way\"] = 8\n",
    "standalone_parameters[\"n_shot\"] = 3\n",
    "standalone_parameters[\"n_query\"]  = 2\n",
    "standalone_parameters[\"train_k_factor\"] = 1\n",
    "standalone_parameters[\"val_k_factor\"] = 2\n",
    "standalone_parameters[\"test_k_factor\"] = 2\n",
    "\n",
    "\n",
    "standalone_parameters[\"n_epoch\"] = 50\n",
    "\n",
    "standalone_parameters[\"patience\"] = 10\n",
    "standalone_parameters[\"criteria_for_best\"] = \"source_loss\"\n",
    "\n",
    "standalone_parameters[\"datasets\"] = [\n",
    "    {\n",
    "        \"labels\": ALL_SERIAL_NUMBERS,\n",
    "        \"domains\": ALL_DISTANCES_FEET_NARROWED,\n",
    "        \"num_examples_per_domain_per_label\": 100,\n",
    "        \"pickle_path\": os.path.join(get_datasets_base_path(), \"oracle.Run1_framed_2000Examples_stratified_ds.2022A.pkl\"),\n",
    "        \"source_or_target_dataset\": \"source\",\n",
    "        \"x_transforms\": [\"unit_mag\", \"minus_two\"],\n",
    "        \"episode_transforms\": [],\n",
    "        \"domain_prefix\": \"ORACLE_\"\n",
    "    },\n",
    "    {\n",
    "        \"labels\": ALL_NODES,\n",
    "        \"domains\": ALL_DAYS,\n",
    "        \"num_examples_per_domain_per_label\": 100,\n",
    "        \"pickle_path\": os.path.join(get_datasets_base_path(), \"cores.stratified_ds.2022A.pkl\"),\n",
    "        \"source_or_target_dataset\": \"target\",\n",
    "        \"x_transforms\": [\"unit_power\", \"times_zero\"],\n",
    "        \"episode_transforms\": [],\n",
    "        \"domain_prefix\": \"CORES_\"\n",
    "    }   \n",
    "]\n",
    "\n",
    "standalone_parameters[\"torch_default_dtype\"] = \"torch.float32\" \n",
    "\n",
    "\n",
    "\n",
    "standalone_parameters[\"x_net\"] =     [\n",
    "    {\"class\": \"nnReshape\", \"kargs\": {\"shape\":[-1, 1, 2, 256]}},\n",
    "    {\"class\": \"Conv2d\", \"kargs\": { \"in_channels\":1, \"out_channels\":256, \"kernel_size\":(1,7), \"bias\":False, \"padding\":(0,3), },},\n",
    "    {\"class\": \"ReLU\", \"kargs\": {\"inplace\": True}},\n",
    "    {\"class\": \"BatchNorm2d\", \"kargs\": {\"num_features\":256}},\n",
    "\n",
    "    {\"class\": \"Conv2d\", \"kargs\": { \"in_channels\":256, \"out_channels\":80, \"kernel_size\":(2,7), \"bias\":True, \"padding\":(0,3), },},\n",
    "    {\"class\": \"ReLU\", \"kargs\": {\"inplace\": True}},\n",
    "    {\"class\": \"BatchNorm2d\", \"kargs\": {\"num_features\":80}},\n",
    "    {\"class\": \"Flatten\", \"kargs\": {}},\n",
    "\n",
    "    {\"class\": \"Linear\", \"kargs\": {\"in_features\": 80*256, \"out_features\": 256}}, # 80 units per IQ pair\n",
    "    {\"class\": \"ReLU\", \"kargs\": {\"inplace\": True}},\n",
    "    {\"class\": \"BatchNorm1d\", \"kargs\": {\"num_features\":256}},\n",
    "\n",
    "    {\"class\": \"Linear\", \"kargs\": {\"in_features\": 256, \"out_features\": 256}},\n",
    "]\n",
    "\n",
    "# Parameters relevant to results\n",
    "# These parameters will basically never need to change\n",
    "standalone_parameters[\"NUM_LOGS_PER_EPOCH\"] = 10\n",
    "standalone_parameters[\"BEST_MODEL_PATH\"] = \"./best_model.pth\"\n",
    "\n",
    "\n",
    "\n",
    "\n"
   ]
  },
  {
   "cell_type": "code",
   "execution_count": 4,
   "id": "5edc2de7",
   "metadata": {
    "execution": {
     "iopub.execute_input": "2022-03-07T08:25:43.660565Z",
     "iopub.status.busy": "2022-03-07T08:25:43.660237Z",
     "iopub.status.idle": "2022-03-07T08:25:43.671617Z",
     "shell.execute_reply": "2022-03-07T08:25:43.671391Z"
    },
    "papermill": {
     "duration": 0.03172,
     "end_time": "2022-03-07T08:25:43.671672",
     "exception": false,
     "start_time": "2022-03-07T08:25:43.639952",
     "status": "completed"
    },
    "tags": [
     "injected-parameters"
    ]
   },
   "outputs": [],
   "source": [
    "# Parameters\n",
    "parameters = {\n",
    "    \"experiment_name\": \"tl_1_wisig-metehan\",\n",
    "    \"device\": \"cuda\",\n",
    "    \"lr\": 0.001,\n",
    "    \"seed\": 1337,\n",
    "    \"dataset_seed\": 1337,\n",
    "    \"n_shot\": 3,\n",
    "    \"n_query\": 2,\n",
    "    \"train_k_factor\": 3,\n",
    "    \"val_k_factor\": 2,\n",
    "    \"test_k_factor\": 2,\n",
    "    \"torch_default_dtype\": \"torch.float32\",\n",
    "    \"n_epoch\": 50,\n",
    "    \"patience\": 3,\n",
    "    \"criteria_for_best\": \"target_loss\",\n",
    "    \"x_net\": [\n",
    "        {\"class\": \"nnReshape\", \"kargs\": {\"shape\": [-1, 1, 2, 256]}},\n",
    "        {\n",
    "            \"class\": \"Conv2d\",\n",
    "            \"kargs\": {\n",
    "                \"in_channels\": 1,\n",
    "                \"out_channels\": 256,\n",
    "                \"kernel_size\": [1, 7],\n",
    "                \"bias\": False,\n",
    "                \"padding\": [0, 3],\n",
    "            },\n",
    "        },\n",
    "        {\"class\": \"ReLU\", \"kargs\": {\"inplace\": True}},\n",
    "        {\"class\": \"BatchNorm2d\", \"kargs\": {\"num_features\": 256}},\n",
    "        {\n",
    "            \"class\": \"Conv2d\",\n",
    "            \"kargs\": {\n",
    "                \"in_channels\": 256,\n",
    "                \"out_channels\": 80,\n",
    "                \"kernel_size\": [2, 7],\n",
    "                \"bias\": True,\n",
    "                \"padding\": [0, 3],\n",
    "            },\n",
    "        },\n",
    "        {\"class\": \"ReLU\", \"kargs\": {\"inplace\": True}},\n",
    "        {\"class\": \"BatchNorm2d\", \"kargs\": {\"num_features\": 80}},\n",
    "        {\"class\": \"Flatten\", \"kargs\": {}},\n",
    "        {\"class\": \"Linear\", \"kargs\": {\"in_features\": 20480, \"out_features\": 256}},\n",
    "        {\"class\": \"ReLU\", \"kargs\": {\"inplace\": True}},\n",
    "        {\"class\": \"BatchNorm1d\", \"kargs\": {\"num_features\": 256}},\n",
    "        {\"class\": \"Linear\", \"kargs\": {\"in_features\": 256, \"out_features\": 256}},\n",
    "    ],\n",
    "    \"NUM_LOGS_PER_EPOCH\": 10,\n",
    "    \"BEST_MODEL_PATH\": \"./best_model.pth\",\n",
    "    \"n_way\": 19,\n",
    "    \"datasets\": [\n",
    "        {\n",
    "            \"labels\": [\n",
    "                \"1-10\",\n",
    "                \"1-12\",\n",
    "                \"1-14\",\n",
    "                \"1-16\",\n",
    "                \"1-18\",\n",
    "                \"1-19\",\n",
    "                \"1-8\",\n",
    "                \"10-11\",\n",
    "                \"10-17\",\n",
    "                \"10-4\",\n",
    "                \"10-7\",\n",
    "                \"11-1\",\n",
    "                \"11-10\",\n",
    "                \"11-19\",\n",
    "                \"11-20\",\n",
    "                \"11-4\",\n",
    "                \"11-7\",\n",
    "                \"12-19\",\n",
    "                \"12-20\",\n",
    "                \"12-7\",\n",
    "                \"13-14\",\n",
    "                \"13-18\",\n",
    "                \"13-19\",\n",
    "                \"13-20\",\n",
    "                \"13-3\",\n",
    "                \"13-7\",\n",
    "                \"14-10\",\n",
    "                \"14-11\",\n",
    "                \"14-12\",\n",
    "                \"14-13\",\n",
    "                \"14-14\",\n",
    "                \"14-19\",\n",
    "                \"14-20\",\n",
    "                \"14-7\",\n",
    "                \"14-8\",\n",
    "                \"14-9\",\n",
    "                \"15-1\",\n",
    "                \"15-19\",\n",
    "                \"15-6\",\n",
    "                \"16-1\",\n",
    "                \"16-16\",\n",
    "                \"16-19\",\n",
    "                \"16-20\",\n",
    "                \"17-10\",\n",
    "                \"17-11\",\n",
    "                \"18-1\",\n",
    "                \"18-10\",\n",
    "                \"18-11\",\n",
    "                \"18-12\",\n",
    "                \"18-13\",\n",
    "                \"18-14\",\n",
    "                \"18-15\",\n",
    "                \"18-16\",\n",
    "                \"18-17\",\n",
    "                \"18-19\",\n",
    "                \"18-2\",\n",
    "                \"18-20\",\n",
    "                \"18-4\",\n",
    "                \"18-5\",\n",
    "                \"18-7\",\n",
    "                \"18-8\",\n",
    "                \"18-9\",\n",
    "                \"19-1\",\n",
    "                \"19-10\",\n",
    "                \"19-11\",\n",
    "                \"19-12\",\n",
    "                \"19-13\",\n",
    "                \"19-14\",\n",
    "                \"19-15\",\n",
    "                \"19-19\",\n",
    "                \"19-2\",\n",
    "                \"19-20\",\n",
    "                \"19-3\",\n",
    "                \"19-4\",\n",
    "                \"19-6\",\n",
    "                \"19-7\",\n",
    "                \"19-8\",\n",
    "                \"19-9\",\n",
    "                \"2-1\",\n",
    "                \"2-13\",\n",
    "                \"2-15\",\n",
    "                \"2-3\",\n",
    "                \"2-4\",\n",
    "                \"2-5\",\n",
    "                \"2-6\",\n",
    "                \"2-7\",\n",
    "                \"2-8\",\n",
    "                \"20-1\",\n",
    "                \"20-12\",\n",
    "                \"20-14\",\n",
    "                \"20-15\",\n",
    "                \"20-16\",\n",
    "                \"20-18\",\n",
    "                \"20-19\",\n",
    "                \"20-20\",\n",
    "                \"20-3\",\n",
    "                \"20-4\",\n",
    "                \"20-5\",\n",
    "                \"20-7\",\n",
    "                \"20-8\",\n",
    "                \"3-1\",\n",
    "                \"3-13\",\n",
    "                \"3-18\",\n",
    "                \"3-2\",\n",
    "                \"3-8\",\n",
    "                \"4-1\",\n",
    "                \"4-10\",\n",
    "                \"4-11\",\n",
    "                \"5-1\",\n",
    "                \"5-5\",\n",
    "                \"6-1\",\n",
    "                \"6-15\",\n",
    "                \"6-6\",\n",
    "                \"7-10\",\n",
    "                \"7-11\",\n",
    "                \"7-12\",\n",
    "                \"7-13\",\n",
    "                \"7-14\",\n",
    "                \"7-7\",\n",
    "                \"7-8\",\n",
    "                \"7-9\",\n",
    "                \"8-1\",\n",
    "                \"8-13\",\n",
    "                \"8-14\",\n",
    "                \"8-18\",\n",
    "                \"8-20\",\n",
    "                \"8-3\",\n",
    "                \"8-8\",\n",
    "                \"9-1\",\n",
    "                \"9-7\",\n",
    "            ],\n",
    "            \"domains\": [1, 2, 3, 4],\n",
    "            \"num_examples_per_domain_per_label\": 100,\n",
    "            \"pickle_path\": \"/mnt/wd500GB/CSC500/csc500-main/datasets/wisig.node3-19.stratified_ds.2022A.pkl\",\n",
    "            \"source_or_target_dataset\": \"source\",\n",
    "            \"x_transforms\": [\"unit_mag\"],\n",
    "            \"episode_transforms\": [],\n",
    "            \"domain_prefix\": \"Wisig_\",\n",
    "        },\n",
    "        {\n",
    "            \"labels\": [\n",
    "                0,\n",
    "                1,\n",
    "                2,\n",
    "                3,\n",
    "                4,\n",
    "                5,\n",
    "                6,\n",
    "                7,\n",
    "                8,\n",
    "                9,\n",
    "                10,\n",
    "                11,\n",
    "                12,\n",
    "                13,\n",
    "                14,\n",
    "                15,\n",
    "                16,\n",
    "                17,\n",
    "                18,\n",
    "            ],\n",
    "            \"domains\": [0, 1, 2],\n",
    "            \"num_examples_per_domain_per_label\": 100,\n",
    "            \"pickle_path\": \"/mnt/wd500GB/CSC500/csc500-main/datasets/metehan.stratified_ds.2022A.pkl\",\n",
    "            \"source_or_target_dataset\": \"target\",\n",
    "            \"x_transforms\": [\"unit_mag\"],\n",
    "            \"episode_transforms\": [],\n",
    "            \"domain_prefix\": \"Metehan_\",\n",
    "        },\n",
    "    ],\n",
    "}\n"
   ]
  },
  {
   "cell_type": "code",
   "execution_count": 5,
   "id": "8fa1cc33",
   "metadata": {
    "execution": {
     "iopub.execute_input": "2022-03-07T08:25:43.700682Z",
     "iopub.status.busy": "2022-03-07T08:25:43.700412Z",
     "iopub.status.idle": "2022-03-07T08:25:43.710236Z",
     "shell.execute_reply": "2022-03-07T08:25:43.709866Z"
    },
    "papermill": {
     "duration": 0.025762,
     "end_time": "2022-03-07T08:25:43.710312",
     "exception": false,
     "start_time": "2022-03-07T08:25:43.684550",
     "status": "completed"
    },
    "tags": []
   },
   "outputs": [],
   "source": [
    "# Set this to True if you want to run this template directly\n",
    "STANDALONE = False\n",
    "if STANDALONE:\n",
    "    print(\"parameters not injected, running with standalone_parameters\")\n",
    "    parameters = standalone_parameters\n",
    "\n",
    "if not 'parameters' in locals() and not 'parameters' in globals():\n",
    "    raise Exception(\"Parameter injection failed\")\n",
    "\n",
    "#Use an easy dict for all the parameters\n",
    "p = EasyDict(parameters)\n",
    "\n",
    "supplied_keys = set(p.keys())\n",
    "\n",
    "if  supplied_keys != required_parameters:\n",
    "    print(\"Parameters are incorrect\")\n",
    "    if len(supplied_keys - required_parameters)>0: print(\"Shouldn't have:\", str(supplied_keys - required_parameters))\n",
    "    if len(required_parameters - supplied_keys)>0: print(\"Need to have:\", str(required_parameters - supplied_keys))\n",
    "    raise RuntimeError(\"Parameters are incorrect\")\n",
    "\n"
   ]
  },
  {
   "cell_type": "code",
   "execution_count": 6,
   "id": "3a028d58",
   "metadata": {
    "execution": {
     "iopub.execute_input": "2022-03-07T08:25:43.747468Z",
     "iopub.status.busy": "2022-03-07T08:25:43.746094Z",
     "iopub.status.idle": "2022-03-07T08:25:43.759914Z",
     "shell.execute_reply": "2022-03-07T08:25:43.759544Z"
    },
    "papermill": {
     "duration": 0.029595,
     "end_time": "2022-03-07T08:25:43.759990",
     "exception": false,
     "start_time": "2022-03-07T08:25:43.730395",
     "status": "completed"
    },
    "tags": []
   },
   "outputs": [],
   "source": [
    "###################################\n",
    "# Set the RNGs and make it all deterministic\n",
    "###################################\n",
    "np.random.seed(p.seed)\n",
    "random.seed(p.seed)\n",
    "torch.manual_seed(p.seed)\n",
    "\n",
    "torch.use_deterministic_algorithms(True) "
   ]
  },
  {
   "cell_type": "code",
   "execution_count": 7,
   "id": "b691acf6",
   "metadata": {
    "execution": {
     "iopub.execute_input": "2022-03-07T08:25:43.791862Z",
     "iopub.status.busy": "2022-03-07T08:25:43.791340Z",
     "iopub.status.idle": "2022-03-07T08:25:43.804457Z",
     "shell.execute_reply": "2022-03-07T08:25:43.804089Z"
    },
    "papermill": {
     "duration": 0.027953,
     "end_time": "2022-03-07T08:25:43.804535",
     "exception": false,
     "start_time": "2022-03-07T08:25:43.776582",
     "status": "completed"
    },
    "tags": []
   },
   "outputs": [],
   "source": [
    "###########################################\n",
    "# The stratified datasets honor this\n",
    "###########################################\n",
    "torch.set_default_dtype(eval(p.torch_default_dtype))"
   ]
  },
  {
   "cell_type": "code",
   "execution_count": 8,
   "id": "b5fba671",
   "metadata": {
    "execution": {
     "iopub.execute_input": "2022-03-07T08:25:43.839739Z",
     "iopub.status.busy": "2022-03-07T08:25:43.836563Z",
     "iopub.status.idle": "2022-03-07T08:25:43.874657Z",
     "shell.execute_reply": "2022-03-07T08:25:43.874204Z"
    },
    "papermill": {
     "duration": 0.053609,
     "end_time": "2022-03-07T08:25:43.874776",
     "exception": false,
     "start_time": "2022-03-07T08:25:43.821167",
     "status": "completed"
    },
    "tags": []
   },
   "outputs": [],
   "source": [
    "###################################\n",
    "# Build the network(s)\n",
    "# Note: It's critical to do this AFTER setting the RNG\n",
    "###################################\n",
    "x_net = build_sequential(p.x_net)"
   ]
  },
  {
   "cell_type": "code",
   "execution_count": 9,
   "id": "5d7e61cc",
   "metadata": {
    "execution": {
     "iopub.execute_input": "2022-03-07T08:25:43.907981Z",
     "iopub.status.busy": "2022-03-07T08:25:43.907728Z",
     "iopub.status.idle": "2022-03-07T08:25:43.917583Z",
     "shell.execute_reply": "2022-03-07T08:25:43.917100Z"
    },
    "papermill": {
     "duration": 0.02506,
     "end_time": "2022-03-07T08:25:43.917684",
     "exception": false,
     "start_time": "2022-03-07T08:25:43.892624",
     "status": "completed"
    },
    "tags": []
   },
   "outputs": [],
   "source": [
    "start_time_secs = time.time()"
   ]
  },
  {
   "cell_type": "code",
   "execution_count": 10,
   "id": "c6b67dfd",
   "metadata": {
    "execution": {
     "iopub.execute_input": "2022-03-07T08:25:43.949882Z",
     "iopub.status.busy": "2022-03-07T08:25:43.949627Z",
     "iopub.status.idle": "2022-03-07T08:25:43.961897Z",
     "shell.execute_reply": "2022-03-07T08:25:43.961409Z"
    },
    "papermill": {
     "duration": 0.028138,
     "end_time": "2022-03-07T08:25:43.961994",
     "exception": false,
     "start_time": "2022-03-07T08:25:43.933856",
     "status": "completed"
    },
    "tags": []
   },
   "outputs": [],
   "source": [
    "p.domains_source = []\n",
    "p.domains_target = []\n",
    "\n",
    "\n",
    "train_original_source = []\n",
    "val_original_source   = []\n",
    "test_original_source  = []\n",
    "\n",
    "train_original_target = []\n",
    "val_original_target   = []\n",
    "test_original_target  = []"
   ]
  },
  {
   "cell_type": "code",
   "execution_count": 11,
   "id": "e3d9c3d3",
   "metadata": {
    "execution": {
     "iopub.execute_input": "2022-03-07T08:25:43.996105Z",
     "iopub.status.busy": "2022-03-07T08:25:43.995767Z",
     "iopub.status.idle": "2022-03-07T08:25:44.008423Z",
     "shell.execute_reply": "2022-03-07T08:25:44.008004Z"
    },
    "papermill": {
     "duration": 0.027871,
     "end_time": "2022-03-07T08:25:44.008520",
     "exception": false,
     "start_time": "2022-03-07T08:25:43.980649",
     "status": "completed"
    },
    "tags": []
   },
   "outputs": [],
   "source": [
    "# global_x_transform_func = lambda x: normalize(x.to(torch.get_default_dtype()), \"unit_power\") # unit_power, unit_mag\n",
    "# global_x_transform_func = lambda x: normalize(x, \"unit_power\") # unit_power, unit_mag"
   ]
  },
  {
   "cell_type": "code",
   "execution_count": 12,
   "id": "acb78fd2",
   "metadata": {
    "execution": {
     "iopub.execute_input": "2022-03-07T08:25:44.048096Z",
     "iopub.status.busy": "2022-03-07T08:25:44.047731Z",
     "iopub.status.idle": "2022-03-07T08:25:44.058568Z",
     "shell.execute_reply": "2022-03-07T08:25:44.058101Z"
    },
    "papermill": {
     "duration": 0.031069,
     "end_time": "2022-03-07T08:25:44.058668",
     "exception": false,
     "start_time": "2022-03-07T08:25:44.027599",
     "status": "completed"
    },
    "tags": []
   },
   "outputs": [],
   "source": [
    "def add_dataset(\n",
    "    labels,\n",
    "    domains,\n",
    "    pickle_path,\n",
    "    x_transforms,\n",
    "    episode_transforms,\n",
    "    domain_prefix,\n",
    "    num_examples_per_domain_per_label,\n",
    "    source_or_target_dataset:str,\n",
    "    iterator_seed=p.seed,\n",
    "    dataset_seed=p.dataset_seed,\n",
    "    n_shot=p.n_shot,\n",
    "    n_way=p.n_way,\n",
    "    n_query=p.n_query,\n",
    "    train_val_test_k_factors=(p.train_k_factor,p.val_k_factor,p.test_k_factor),\n",
    "):\n",
    "   \n",
    "    if x_transforms == []: x_transform = None\n",
    "    else: x_transform = get_chained_transform(x_transforms)\n",
    "    \n",
    "    if episode_transforms == []: episode_transform = None\n",
    "    else: raise Exception(\"episode_transforms not implemented\")\n",
    "    \n",
    "    episode_transform = lambda tup, _prefix=domain_prefix: (_prefix + str(tup[0]), tup[1])\n",
    "\n",
    "\n",
    "    eaf = Episodic_Accessor_Factory(\n",
    "        labels=labels,\n",
    "        domains=domains,\n",
    "        num_examples_per_domain_per_label=num_examples_per_domain_per_label,\n",
    "        iterator_seed=iterator_seed,\n",
    "        dataset_seed=dataset_seed,\n",
    "        n_shot=n_shot,\n",
    "        n_way=n_way,\n",
    "        n_query=n_query,\n",
    "        train_val_test_k_factors=train_val_test_k_factors,\n",
    "        pickle_path=pickle_path,\n",
    "        x_transform_func=x_transform,\n",
    "    )\n",
    "\n",
    "    train, val, test = eaf.get_train(), eaf.get_val(), eaf.get_test()\n",
    "    train = Lazy_Iterable_Wrapper(train, episode_transform)\n",
    "    val = Lazy_Iterable_Wrapper(val, episode_transform)\n",
    "    test = Lazy_Iterable_Wrapper(test, episode_transform)\n",
    "\n",
    "    if source_or_target_dataset==\"source\":\n",
    "        train_original_source.append(train)\n",
    "        val_original_source.append(val)\n",
    "        test_original_source.append(test)\n",
    "\n",
    "        p.domains_source.extend(\n",
    "            [domain_prefix + str(u) for u in domains]\n",
    "        )\n",
    "    elif source_or_target_dataset==\"target\":\n",
    "        train_original_target.append(train)\n",
    "        val_original_target.append(val)\n",
    "        test_original_target.append(test)\n",
    "        p.domains_target.extend(\n",
    "            [domain_prefix + str(u) for u in domains]\n",
    "        )\n",
    "    else:\n",
    "        raise Exception(f\"invalid source_or_target_dataset: {source_or_target_dataset}\")\n",
    "    "
   ]
  },
  {
   "cell_type": "code",
   "execution_count": 13,
   "id": "fe266617",
   "metadata": {
    "execution": {
     "iopub.execute_input": "2022-03-07T08:25:44.093048Z",
     "iopub.status.busy": "2022-03-07T08:25:44.092240Z",
     "iopub.status.idle": "2022-03-07T08:25:48.096560Z",
     "shell.execute_reply": "2022-03-07T08:25:48.096034Z"
    },
    "papermill": {
     "duration": 4.02013,
     "end_time": "2022-03-07T08:25:48.096668",
     "exception": false,
     "start_time": "2022-03-07T08:25:44.076538",
     "status": "completed"
    },
    "tags": []
   },
   "outputs": [],
   "source": [
    "for ds in p.datasets:\n",
    "    add_dataset(**ds)"
   ]
  },
  {
   "cell_type": "code",
   "execution_count": 14,
   "id": "b90d65ac",
   "metadata": {
    "execution": {
     "iopub.execute_input": "2022-03-07T08:25:48.131828Z",
     "iopub.status.busy": "2022-03-07T08:25:48.131565Z",
     "iopub.status.idle": "2022-03-07T08:25:48.145178Z",
     "shell.execute_reply": "2022-03-07T08:25:48.144755Z"
    },
    "papermill": {
     "duration": 0.029359,
     "end_time": "2022-03-07T08:25:48.145275",
     "exception": false,
     "start_time": "2022-03-07T08:25:48.115916",
     "status": "completed"
    },
    "tags": []
   },
   "outputs": [],
   "source": [
    "# from steves_utils.CORES.utils import (\n",
    "#     ALL_NODES,\n",
    "#     ALL_NODES_MINIMUM_1000_EXAMPLES,\n",
    "#     ALL_DAYS\n",
    "# )\n",
    "\n",
    "# add_dataset(\n",
    "#     labels=ALL_NODES,\n",
    "#     domains = ALL_DAYS,\n",
    "#     num_examples_per_domain_per_label=100,\n",
    "#     pickle_path=os.path.join(get_datasets_base_path(), \"cores.stratified_ds.2022A.pkl\"),\n",
    "#     source_or_target_dataset=\"target\",\n",
    "#     x_transform_func=global_x_transform_func,\n",
    "#     domain_modifier=lambda u: f\"cores_{u}\"\n",
    "# )"
   ]
  },
  {
   "cell_type": "code",
   "execution_count": 15,
   "id": "76db484d",
   "metadata": {
    "execution": {
     "iopub.execute_input": "2022-03-07T08:25:48.180764Z",
     "iopub.status.busy": "2022-03-07T08:25:48.180071Z",
     "iopub.status.idle": "2022-03-07T08:25:48.193128Z",
     "shell.execute_reply": "2022-03-07T08:25:48.192823Z"
    },
    "papermill": {
     "duration": 0.028545,
     "end_time": "2022-03-07T08:25:48.193205",
     "exception": false,
     "start_time": "2022-03-07T08:25:48.164660",
     "status": "completed"
    },
    "tags": []
   },
   "outputs": [],
   "source": [
    "# from steves_utils.ORACLE.utils_v2 import (\n",
    "#     ALL_DISTANCES_FEET,\n",
    "#     ALL_RUNS,\n",
    "#     ALL_SERIAL_NUMBERS,\n",
    "# )\n",
    "\n",
    "\n",
    "# add_dataset(\n",
    "#     labels=ALL_SERIAL_NUMBERS,\n",
    "#     domains = list(set(ALL_DISTANCES_FEET) - {2,62}),\n",
    "#     num_examples_per_domain_per_label=100,\n",
    "#     pickle_path=os.path.join(get_datasets_base_path(), \"oracle.Run2_framed_2000Examples_stratified_ds.2022A.pkl\"),\n",
    "#     source_or_target_dataset=\"source\",\n",
    "#     x_transform_func=global_x_transform_func,\n",
    "#     domain_modifier=lambda u: f\"oracle1_{u}\"\n",
    "# )\n"
   ]
  },
  {
   "cell_type": "code",
   "execution_count": 16,
   "id": "97dea9d2",
   "metadata": {
    "execution": {
     "iopub.execute_input": "2022-03-07T08:25:48.226121Z",
     "iopub.status.busy": "2022-03-07T08:25:48.225506Z",
     "iopub.status.idle": "2022-03-07T08:25:48.235820Z",
     "shell.execute_reply": "2022-03-07T08:25:48.235433Z"
    },
    "papermill": {
     "duration": 0.025492,
     "end_time": "2022-03-07T08:25:48.235917",
     "exception": false,
     "start_time": "2022-03-07T08:25:48.210425",
     "status": "completed"
    },
    "tags": []
   },
   "outputs": [],
   "source": [
    "# from steves_utils.ORACLE.utils_v2 import (\n",
    "#     ALL_DISTANCES_FEET,\n",
    "#     ALL_RUNS,\n",
    "#     ALL_SERIAL_NUMBERS,\n",
    "# )\n",
    "\n",
    "\n",
    "# add_dataset(\n",
    "#     labels=ALL_SERIAL_NUMBERS,\n",
    "#     domains = list(set(ALL_DISTANCES_FEET) - {2,62,56}),\n",
    "#     num_examples_per_domain_per_label=100,\n",
    "#     pickle_path=os.path.join(get_datasets_base_path(), \"oracle.Run2_framed_2000Examples_stratified_ds.2022A.pkl\"),\n",
    "#     source_or_target_dataset=\"source\",\n",
    "#     x_transform_func=global_x_transform_func,\n",
    "#     domain_modifier=lambda u: f\"oracle2_{u}\"\n",
    "# )"
   ]
  },
  {
   "cell_type": "code",
   "execution_count": 17,
   "id": "6f289866",
   "metadata": {
    "execution": {
     "iopub.execute_input": "2022-03-07T08:25:48.271845Z",
     "iopub.status.busy": "2022-03-07T08:25:48.270518Z",
     "iopub.status.idle": "2022-03-07T08:25:48.284007Z",
     "shell.execute_reply": "2022-03-07T08:25:48.284218Z"
    },
    "papermill": {
     "duration": 0.028901,
     "end_time": "2022-03-07T08:25:48.284286",
     "exception": false,
     "start_time": "2022-03-07T08:25:48.255385",
     "status": "completed"
    },
    "tags": []
   },
   "outputs": [],
   "source": [
    "# add_dataset(\n",
    "#     labels=list(range(19)),\n",
    "#     domains = [0,1,2],\n",
    "#     num_examples_per_domain_per_label=100,\n",
    "#     pickle_path=os.path.join(get_datasets_base_path(), \"metehan.stratified_ds.2022A.pkl\"),\n",
    "#     source_or_target_dataset=\"target\",\n",
    "#     x_transform_func=global_x_transform_func,\n",
    "#     domain_modifier=lambda u: f\"met_{u}\"\n",
    "# )"
   ]
  },
  {
   "cell_type": "code",
   "execution_count": 18,
   "id": "86a863c3",
   "metadata": {
    "execution": {
     "iopub.execute_input": "2022-03-07T08:25:48.315911Z",
     "iopub.status.busy": "2022-03-07T08:25:48.314614Z",
     "iopub.status.idle": "2022-03-07T08:25:48.326355Z",
     "shell.execute_reply": "2022-03-07T08:25:48.326033Z"
    },
    "papermill": {
     "duration": 0.028465,
     "end_time": "2022-03-07T08:25:48.326430",
     "exception": false,
     "start_time": "2022-03-07T08:25:48.297965",
     "status": "completed"
    },
    "tags": []
   },
   "outputs": [],
   "source": [
    "# # from steves_utils.wisig.utils import (\n",
    "# #     ALL_NODES_MINIMUM_100_EXAMPLES,\n",
    "# #     ALL_NODES_MINIMUM_500_EXAMPLES,\n",
    "# #     ALL_NODES_MINIMUM_1000_EXAMPLES,\n",
    "# #     ALL_DAYS\n",
    "# # )\n",
    "\n",
    "# import steves_utils.wisig.utils as wisig\n",
    "\n",
    "\n",
    "# add_dataset(\n",
    "#     labels=wisig.ALL_NODES_MINIMUM_100_EXAMPLES,\n",
    "#     domains = wisig.ALL_DAYS,\n",
    "#     num_examples_per_domain_per_label=100,\n",
    "#     pickle_path=os.path.join(get_datasets_base_path(), \"wisig.node3-19.stratified_ds.2022A.pkl\"),\n",
    "#     source_or_target_dataset=\"target\",\n",
    "#     x_transform_func=global_x_transform_func,\n",
    "#     domain_modifier=lambda u: f\"wisig_{u}\"\n",
    "# )"
   ]
  },
  {
   "cell_type": "code",
   "execution_count": 19,
   "id": "fd5442bc",
   "metadata": {
    "execution": {
     "iopub.execute_input": "2022-03-07T08:25:48.367163Z",
     "iopub.status.busy": "2022-03-07T08:25:48.365087Z",
     "iopub.status.idle": "2022-03-07T08:25:48.378562Z",
     "shell.execute_reply": "2022-03-07T08:25:48.378077Z"
    },
    "papermill": {
     "duration": 0.032488,
     "end_time": "2022-03-07T08:25:48.378662",
     "exception": false,
     "start_time": "2022-03-07T08:25:48.346174",
     "status": "completed"
    },
    "tags": []
   },
   "outputs": [],
   "source": [
    "###################################\n",
    "# Build the dataset\n",
    "###################################\n",
    "train_original_source = Iterable_Aggregator(train_original_source, p.seed)\n",
    "val_original_source = Iterable_Aggregator(val_original_source, p.seed)\n",
    "test_original_source = Iterable_Aggregator(test_original_source, p.seed)\n",
    "\n",
    "\n",
    "train_original_target = Iterable_Aggregator(train_original_target, p.seed)\n",
    "val_original_target = Iterable_Aggregator(val_original_target, p.seed)\n",
    "test_original_target = Iterable_Aggregator(test_original_target, p.seed)\n",
    "\n",
    "# For CNN We only use X and Y. And we only train on the source.\n",
    "# Properly form the data using a transform lambda and Lazy_Iterable_Wrapper. Finally wrap them in a dataloader\n",
    "\n",
    "transform_lambda = lambda ex: ex[1] # Original is (<domain>, <episode>) so we strip down to episode only\n",
    "\n",
    "train_processed_source = Lazy_Iterable_Wrapper(train_original_source, transform_lambda)\n",
    "val_processed_source   = Lazy_Iterable_Wrapper(val_original_source, transform_lambda)\n",
    "test_processed_source  = Lazy_Iterable_Wrapper(test_original_source, transform_lambda)\n",
    "\n",
    "train_processed_target = Lazy_Iterable_Wrapper(train_original_target, transform_lambda)\n",
    "val_processed_target   = Lazy_Iterable_Wrapper(val_original_target, transform_lambda)\n",
    "test_processed_target  = Lazy_Iterable_Wrapper(test_original_target, transform_lambda)\n",
    "\n",
    "datasets = EasyDict({\n",
    "    \"source\": {\n",
    "        \"original\": {\"train\":train_original_source, \"val\":val_original_source, \"test\":test_original_source},\n",
    "        \"processed\": {\"train\":train_processed_source, \"val\":val_processed_source, \"test\":test_processed_source}\n",
    "    },\n",
    "    \"target\": {\n",
    "        \"original\": {\"train\":train_original_target, \"val\":val_original_target, \"test\":test_original_target},\n",
    "        \"processed\": {\"train\":train_processed_target, \"val\":val_processed_target, \"test\":test_processed_target}\n",
    "    },\n",
    "})"
   ]
  },
  {
   "cell_type": "code",
   "execution_count": 20,
   "id": "5b3c01fc",
   "metadata": {
    "execution": {
     "iopub.execute_input": "2022-03-07T08:25:48.414527Z",
     "iopub.status.busy": "2022-03-07T08:25:48.413977Z",
     "iopub.status.idle": "2022-03-07T08:25:50.538491Z",
     "shell.execute_reply": "2022-03-07T08:25:50.538887Z"
    },
    "papermill": {
     "duration": 2.142254,
     "end_time": "2022-03-07T08:25:50.538997",
     "exception": false,
     "start_time": "2022-03-07T08:25:48.396743",
     "status": "completed"
    },
    "tags": []
   },
   "outputs": [
    {
     "name": "stdout",
     "output_type": "stream",
     "text": [
      "{'Wisig_2', 'Wisig_1', 'Wisig_4', 'Wisig_3'}\n"
     ]
    },
    {
     "name": "stdout",
     "output_type": "stream",
     "text": [
      "{'Metehan_1', 'Metehan_0', 'Metehan_2'}\n"
     ]
    },
    {
     "name": "stdout",
     "output_type": "stream",
     "text": [
      "tensor([[[ 0.0657,  0.0591, -0.1341,  ..., -0.1918,  0.0493,  0.3547],\n",
      "         [ 0.0452, -0.0085, -0.4762,  ...,  0.6399,  0.1289, -0.2542]],\n",
      "\n",
      "        [[ 1.2026, -0.2104, -1.3825,  ...,  0.7540, -0.3066, -1.2589],\n",
      "         [ 0.3994,  1.1195, -0.0503,  ...,  0.6375,  0.9621, -0.3637]],\n",
      "\n",
      "        [[ 0.0390, -0.1923, -0.2423,  ...,  0.1582,  0.0344,  0.4824],\n",
      "         [-0.0818,  0.0413, -0.8267,  ...,  0.1785, -0.2993, -0.7380]],\n",
      "\n",
      "        ...,\n",
      "\n",
      "        [[-0.2163,  0.4422,  0.0191,  ..., -0.3633,  0.0179, -0.2390],\n",
      "         [-0.0335, -0.0096,  0.7780,  ...,  0.6023,  0.9082,  1.2022]],\n",
      "\n",
      "        [[ 0.1546, -0.1775, -0.8332,  ..., -0.5554, -0.8863, -1.1749],\n",
      "         [-0.2077,  0.5120, -0.2536,  ..., -0.3864, -0.2101, -0.3961]],\n",
      "\n",
      "        [[-0.2882, -1.1865, -1.4342,  ...,  0.1790, -0.6383, -0.5797],\n",
      "         [ 1.1190,  0.8116,  0.0236,  ...,  1.0267,  1.2766,  0.6631]]])\n"
     ]
    }
   ],
   "source": [
    "from steves_utils.transforms import get_average_magnitude, get_average_power\n",
    "\n",
    "print(set([u for u,_ in val_original_source]))\n",
    "print(set([u for u,_ in val_original_target]))\n",
    "\n",
    "s_x, s_y, q_x, q_y, _ = next(iter(train_processed_source))\n",
    "print(s_x)\n",
    "\n",
    "# for ds in [\n",
    "#     train_processed_source,\n",
    "#     val_processed_source,\n",
    "#     test_processed_source,\n",
    "#     train_processed_target,\n",
    "#     val_processed_target,\n",
    "#     test_processed_target\n",
    "# ]:\n",
    "#     for s_x, s_y, q_x, q_y, _ in ds:\n",
    "#         for X in (s_x, q_x):\n",
    "#             for x in X:\n",
    "#                 assert np.isclose(get_average_magnitude(x.numpy()), 1.0)\n",
    "#                 assert np.isclose(get_average_power(x.numpy()), 1.0)\n",
    "                "
   ]
  },
  {
   "cell_type": "code",
   "execution_count": 21,
   "id": "bbdacba1",
   "metadata": {
    "execution": {
     "iopub.execute_input": "2022-03-07T08:25:50.574531Z",
     "iopub.status.busy": "2022-03-07T08:25:50.574258Z",
     "iopub.status.idle": "2022-03-07T08:25:50.633686Z",
     "shell.execute_reply": "2022-03-07T08:25:50.633170Z"
    },
    "papermill": {
     "duration": 0.078453,
     "end_time": "2022-03-07T08:25:50.633794",
     "exception": false,
     "start_time": "2022-03-07T08:25:50.555341",
     "status": "completed"
    },
    "tags": []
   },
   "outputs": [
    {
     "name": "stdout",
     "output_type": "stream",
     "text": [
      "(2, 256)\n"
     ]
    }
   ],
   "source": [
    "###################################\n",
    "# Build the model\n",
    "###################################\n",
    "model = Steves_Prototypical_Network(x_net, device=p.device, x_shape=(2,256))\n",
    "optimizer = Adam(params=model.parameters(), lr=p.lr)"
   ]
  },
  {
   "cell_type": "code",
   "execution_count": 22,
   "id": "22b39ac5",
   "metadata": {
    "execution": {
     "iopub.execute_input": "2022-03-07T08:25:50.671791Z",
     "iopub.status.busy": "2022-03-07T08:25:50.671530Z",
     "iopub.status.idle": "2022-03-07T08:34:07.532988Z",
     "shell.execute_reply": "2022-03-07T08:34:07.533357Z"
    },
    "papermill": {
     "duration": 496.880051,
     "end_time": "2022-03-07T08:34:07.533488",
     "exception": false,
     "start_time": "2022-03-07T08:25:50.653437",
     "status": "completed"
    },
    "tags": []
   },
   "outputs": [
    {
     "name": "stdout",
     "output_type": "stream",
     "text": [
      "epoch: 1, [batch: 1 / 1128], examples_per_second: 238.9891, train_label_loss: 2.9103, \n"
     ]
    },
    {
     "name": "stdout",
     "output_type": "stream",
     "text": [
      "epoch: 1, [batch: 113 / 1128], examples_per_second: 3217.2848, train_label_loss: 0.4123, \n"
     ]
    },
    {
     "name": "stdout",
     "output_type": "stream",
     "text": [
      "epoch: 1, [batch: 226 / 1128], examples_per_second: 3227.9962, train_label_loss: 0.6998, \n"
     ]
    },
    {
     "name": "stdout",
     "output_type": "stream",
     "text": [
      "epoch: 1, [batch: 339 / 1128], examples_per_second: 3214.1660, train_label_loss: 0.5836, \n"
     ]
    },
    {
     "name": "stdout",
     "output_type": "stream",
     "text": [
      "epoch: 1, [batch: 451 / 1128], examples_per_second: 3234.5109, train_label_loss: 0.1380, \n"
     ]
    },
    {
     "name": "stdout",
     "output_type": "stream",
     "text": [
      "epoch: 1, [batch: 564 / 1128], examples_per_second: 3205.5883, train_label_loss: 0.2945, \n"
     ]
    },
    {
     "name": "stdout",
     "output_type": "stream",
     "text": [
      "epoch: 1, [batch: 677 / 1128], examples_per_second: 3220.7357, train_label_loss: 0.0706, \n"
     ]
    },
    {
     "name": "stdout",
     "output_type": "stream",
     "text": [
      "epoch: 1, [batch: 789 / 1128], examples_per_second: 3203.8284, train_label_loss: 0.1217, \n"
     ]
    },
    {
     "name": "stdout",
     "output_type": "stream",
     "text": [
      "epoch: 1, [batch: 902 / 1128], examples_per_second: 3239.8457, train_label_loss: 0.4920, \n"
     ]
    },
    {
     "name": "stdout",
     "output_type": "stream",
     "text": [
      "epoch: 1, [batch: 1015 / 1128], examples_per_second: 3217.8581, train_label_loss: 0.1947, \n"
     ]
    },
    {
     "name": "stdout",
     "output_type": "stream",
     "text": [
      "=============================================================\n",
      "epoch: 1, source_val_acc_label: 0.9314, target_val_acc_label: 0.2602, source_val_label_loss: 0.3035, target_val_label_loss: 2.7833, \n",
      "=============================================================\n"
     ]
    },
    {
     "name": "stdout",
     "output_type": "stream",
     "text": [
      "New best\n"
     ]
    },
    {
     "name": "stdout",
     "output_type": "stream",
     "text": [
      "epoch: 2, [batch: 1 / 1128], examples_per_second: 32.6662, train_label_loss: 0.0662, \n"
     ]
    },
    {
     "name": "stdout",
     "output_type": "stream",
     "text": [
      "epoch: 2, [batch: 113 / 1128], examples_per_second: 3233.1740, train_label_loss: 0.2674, \n"
     ]
    },
    {
     "name": "stdout",
     "output_type": "stream",
     "text": [
      "epoch: 2, [batch: 226 / 1128], examples_per_second: 3241.1919, train_label_loss: 0.4552, \n"
     ]
    },
    {
     "name": "stdout",
     "output_type": "stream",
     "text": [
      "epoch: 2, [batch: 339 / 1128], examples_per_second: 3250.7935, train_label_loss: 0.0706, \n"
     ]
    },
    {
     "name": "stdout",
     "output_type": "stream",
     "text": [
      "epoch: 2, [batch: 451 / 1128], examples_per_second: 3243.4199, train_label_loss: 0.1119, \n"
     ]
    },
    {
     "name": "stdout",
     "output_type": "stream",
     "text": [
      "epoch: 2, [batch: 564 / 1128], examples_per_second: 3250.2019, train_label_loss: 0.0513, \n"
     ]
    },
    {
     "name": "stdout",
     "output_type": "stream",
     "text": [
      "epoch: 2, [batch: 677 / 1128], examples_per_second: 3253.9728, train_label_loss: 0.1072, \n"
     ]
    },
    {
     "name": "stdout",
     "output_type": "stream",
     "text": [
      "epoch: 2, [batch: 789 / 1128], examples_per_second: 3241.8761, train_label_loss: 0.1552, \n"
     ]
    },
    {
     "name": "stdout",
     "output_type": "stream",
     "text": [
      "epoch: 2, [batch: 902 / 1128], examples_per_second: 3248.6268, train_label_loss: 0.0426, \n"
     ]
    },
    {
     "name": "stdout",
     "output_type": "stream",
     "text": [
      "epoch: 2, [batch: 1015 / 1128], examples_per_second: 3261.4864, train_label_loss: 0.0296, \n"
     ]
    },
    {
     "name": "stdout",
     "output_type": "stream",
     "text": [
      "=============================================================\n",
      "epoch: 2, source_val_acc_label: 0.9470, target_val_acc_label: 0.2734, source_val_label_loss: 0.2361, target_val_label_loss: 2.7356, \n",
      "=============================================================\n"
     ]
    },
    {
     "name": "stdout",
     "output_type": "stream",
     "text": [
      "New best\n"
     ]
    },
    {
     "name": "stdout",
     "output_type": "stream",
     "text": [
      "epoch: 3, [batch: 1 / 1131], examples_per_second: 32.8736, train_label_loss: 0.2015, \n"
     ]
    },
    {
     "name": "stdout",
     "output_type": "stream",
     "text": [
      "epoch: 3, [batch: 114 / 1131], examples_per_second: 3285.8151, train_label_loss: 0.0838, \n"
     ]
    },
    {
     "name": "stdout",
     "output_type": "stream",
     "text": [
      "epoch: 3, [batch: 227 / 1131], examples_per_second: 3280.5947, train_label_loss: 0.0520, \n"
     ]
    },
    {
     "name": "stdout",
     "output_type": "stream",
     "text": [
      "epoch: 3, [batch: 340 / 1131], examples_per_second: 3282.3740, train_label_loss: 0.2125, \n"
     ]
    },
    {
     "name": "stdout",
     "output_type": "stream",
     "text": [
      "epoch: 3, [batch: 453 / 1131], examples_per_second: 3221.6458, train_label_loss: 0.0885, \n"
     ]
    },
    {
     "name": "stdout",
     "output_type": "stream",
     "text": [
      "epoch: 3, [batch: 566 / 1131], examples_per_second: 3211.2948, train_label_loss: 0.0135, \n"
     ]
    },
    {
     "name": "stdout",
     "output_type": "stream",
     "text": [
      "epoch: 3, [batch: 679 / 1131], examples_per_second: 3263.8548, train_label_loss: 0.4853, \n"
     ]
    },
    {
     "name": "stdout",
     "output_type": "stream",
     "text": [
      "epoch: 3, [batch: 792 / 1131], examples_per_second: 3270.9552, train_label_loss: 0.2038, \n"
     ]
    },
    {
     "name": "stdout",
     "output_type": "stream",
     "text": [
      "epoch: 3, [batch: 905 / 1131], examples_per_second: 3278.3747, train_label_loss: 0.2128, \n"
     ]
    },
    {
     "name": "stdout",
     "output_type": "stream",
     "text": [
      "epoch: 3, [batch: 1018 / 1131], examples_per_second: 3262.0457, train_label_loss: 0.0040, \n"
     ]
    },
    {
     "name": "stdout",
     "output_type": "stream",
     "text": [
      "=============================================================\n",
      "epoch: 3, source_val_acc_label: 0.9539, target_val_acc_label: 0.2281, source_val_label_loss: 0.2098, target_val_label_loss: 2.7652, \n",
      "=============================================================\n"
     ]
    },
    {
     "name": "stdout",
     "output_type": "stream",
     "text": [
      "epoch: 4, [batch: 1 / 1128], examples_per_second: 33.1076, train_label_loss: 0.0078, \n"
     ]
    },
    {
     "name": "stdout",
     "output_type": "stream",
     "text": [
      "epoch: 4, [batch: 113 / 1128], examples_per_second: 3242.5760, train_label_loss: 0.1577, \n"
     ]
    },
    {
     "name": "stdout",
     "output_type": "stream",
     "text": [
      "epoch: 4, [batch: 226 / 1128], examples_per_second: 3252.4922, train_label_loss: 0.0331, \n"
     ]
    },
    {
     "name": "stdout",
     "output_type": "stream",
     "text": [
      "epoch: 4, [batch: 339 / 1128], examples_per_second: 3267.0671, train_label_loss: 0.3236, \n"
     ]
    },
    {
     "name": "stdout",
     "output_type": "stream",
     "text": [
      "epoch: 4, [batch: 451 / 1128], examples_per_second: 3258.6260, train_label_loss: 0.3698, \n"
     ]
    },
    {
     "name": "stdout",
     "output_type": "stream",
     "text": [
      "epoch: 4, [batch: 564 / 1128], examples_per_second: 3256.6528, train_label_loss: 0.1836, \n"
     ]
    },
    {
     "name": "stdout",
     "output_type": "stream",
     "text": [
      "epoch: 4, [batch: 677 / 1128], examples_per_second: 3232.8917, train_label_loss: 0.3091, \n"
     ]
    },
    {
     "name": "stdout",
     "output_type": "stream",
     "text": [
      "epoch: 4, [batch: 789 / 1128], examples_per_second: 3215.6286, train_label_loss: 0.0122, \n"
     ]
    },
    {
     "name": "stdout",
     "output_type": "stream",
     "text": [
      "epoch: 4, [batch: 902 / 1128], examples_per_second: 3216.5538, train_label_loss: 0.0824, \n"
     ]
    },
    {
     "name": "stdout",
     "output_type": "stream",
     "text": [
      "epoch: 4, [batch: 1015 / 1128], examples_per_second: 3227.9733, train_label_loss: 0.0689, \n"
     ]
    },
    {
     "name": "stdout",
     "output_type": "stream",
     "text": [
      "=============================================================\n",
      "epoch: 4, source_val_acc_label: 0.9533, target_val_acc_label: 0.3289, source_val_label_loss: 0.2285, target_val_label_loss: 2.5518, \n",
      "=============================================================\n"
     ]
    },
    {
     "name": "stdout",
     "output_type": "stream",
     "text": [
      "New best\n"
     ]
    },
    {
     "name": "stdout",
     "output_type": "stream",
     "text": [
      "epoch: 5, [batch: 1 / 1128], examples_per_second: 32.7445, train_label_loss: 0.0376, \n"
     ]
    },
    {
     "name": "stdout",
     "output_type": "stream",
     "text": [
      "epoch: 5, [batch: 113 / 1128], examples_per_second: 3239.3385, train_label_loss: 0.1946, \n"
     ]
    },
    {
     "name": "stdout",
     "output_type": "stream",
     "text": [
      "epoch: 5, [batch: 226 / 1128], examples_per_second: 3242.8631, train_label_loss: 0.0123, \n"
     ]
    },
    {
     "name": "stdout",
     "output_type": "stream",
     "text": [
      "epoch: 5, [batch: 339 / 1128], examples_per_second: 3250.7916, train_label_loss: 0.0246, \n"
     ]
    },
    {
     "name": "stdout",
     "output_type": "stream",
     "text": [
      "epoch: 5, [batch: 451 / 1128], examples_per_second: 3234.6708, train_label_loss: 0.1218, \n"
     ]
    },
    {
     "name": "stdout",
     "output_type": "stream",
     "text": [
      "epoch: 5, [batch: 564 / 1128], examples_per_second: 3249.3958, train_label_loss: 0.0153, \n"
     ]
    },
    {
     "name": "stdout",
     "output_type": "stream",
     "text": [
      "epoch: 5, [batch: 677 / 1128], examples_per_second: 3249.8128, train_label_loss: 0.2149, \n"
     ]
    },
    {
     "name": "stdout",
     "output_type": "stream",
     "text": [
      "epoch: 5, [batch: 789 / 1128], examples_per_second: 3248.3871, train_label_loss: 0.0719, \n"
     ]
    },
    {
     "name": "stdout",
     "output_type": "stream",
     "text": [
      "epoch: 5, [batch: 902 / 1128], examples_per_second: 3253.2804, train_label_loss: 0.0792, \n"
     ]
    },
    {
     "name": "stdout",
     "output_type": "stream",
     "text": [
      "epoch: 5, [batch: 1015 / 1128], examples_per_second: 3266.8619, train_label_loss: 0.4487, \n"
     ]
    },
    {
     "name": "stdout",
     "output_type": "stream",
     "text": [
      "=============================================================\n",
      "epoch: 5, source_val_acc_label: 0.9505, target_val_acc_label: 0.3567, source_val_label_loss: 0.2342, target_val_label_loss: 2.4136, \n",
      "=============================================================\n"
     ]
    },
    {
     "name": "stdout",
     "output_type": "stream",
     "text": [
      "New best\n"
     ]
    },
    {
     "name": "stdout",
     "output_type": "stream",
     "text": [
      "epoch: 6, [batch: 1 / 1128], examples_per_second: 32.7383, train_label_loss: 0.2444, \n"
     ]
    },
    {
     "name": "stdout",
     "output_type": "stream",
     "text": [
      "epoch: 6, [batch: 113 / 1128], examples_per_second: 3282.2413, train_label_loss: 0.2403, \n"
     ]
    },
    {
     "name": "stdout",
     "output_type": "stream",
     "text": [
      "epoch: 6, [batch: 226 / 1128], examples_per_second: 3273.2668, train_label_loss: 0.2743, \n"
     ]
    },
    {
     "name": "stdout",
     "output_type": "stream",
     "text": [
      "epoch: 6, [batch: 339 / 1128], examples_per_second: 3233.6045, train_label_loss: 0.0809, \n"
     ]
    },
    {
     "name": "stdout",
     "output_type": "stream",
     "text": [
      "epoch: 6, [batch: 451 / 1128], examples_per_second: 3221.9889, train_label_loss: 0.0118, \n"
     ]
    },
    {
     "name": "stdout",
     "output_type": "stream",
     "text": [
      "epoch: 6, [batch: 564 / 1128], examples_per_second: 3224.4494, train_label_loss: 0.0084, \n"
     ]
    },
    {
     "name": "stdout",
     "output_type": "stream",
     "text": [
      "epoch: 6, [batch: 677 / 1128], examples_per_second: 3221.1708, train_label_loss: 0.1138, \n"
     ]
    },
    {
     "name": "stdout",
     "output_type": "stream",
     "text": [
      "epoch: 6, [batch: 789 / 1128], examples_per_second: 3232.9138, train_label_loss: 0.1752, \n"
     ]
    },
    {
     "name": "stdout",
     "output_type": "stream",
     "text": [
      "epoch: 6, [batch: 902 / 1128], examples_per_second: 3240.9518, train_label_loss: 0.0624, \n"
     ]
    },
    {
     "name": "stdout",
     "output_type": "stream",
     "text": [
      "epoch: 6, [batch: 1015 / 1128], examples_per_second: 3256.8158, train_label_loss: 0.2266, \n"
     ]
    },
    {
     "name": "stdout",
     "output_type": "stream",
     "text": [
      "=============================================================\n",
      "epoch: 6, source_val_acc_label: 0.9492, target_val_acc_label: 0.3874, source_val_label_loss: 0.2422, target_val_label_loss: 2.4142, \n",
      "=============================================================\n"
     ]
    },
    {
     "name": "stdout",
     "output_type": "stream",
     "text": [
      "epoch: 7, [batch: 1 / 1129], examples_per_second: 33.1087, train_label_loss: 0.0041, \n"
     ]
    },
    {
     "name": "stdout",
     "output_type": "stream",
     "text": [
      "epoch: 7, [batch: 113 / 1129], examples_per_second: 3216.6436, train_label_loss: 0.0019, \n"
     ]
    },
    {
     "name": "stdout",
     "output_type": "stream",
     "text": [
      "epoch: 7, [batch: 226 / 1129], examples_per_second: 3233.2713, train_label_loss: 0.0098, \n"
     ]
    },
    {
     "name": "stdout",
     "output_type": "stream",
     "text": [
      "epoch: 7, [batch: 339 / 1129], examples_per_second: 3227.5788, train_label_loss: 0.0861, \n"
     ]
    },
    {
     "name": "stdout",
     "output_type": "stream",
     "text": [
      "epoch: 7, [batch: 452 / 1129], examples_per_second: 3215.9546, train_label_loss: 0.1302, \n"
     ]
    },
    {
     "name": "stdout",
     "output_type": "stream",
     "text": [
      "epoch: 7, [batch: 565 / 1129], examples_per_second: 3247.0140, train_label_loss: 0.1058, \n"
     ]
    },
    {
     "name": "stdout",
     "output_type": "stream",
     "text": [
      "epoch: 7, [batch: 677 / 1129], examples_per_second: 3249.6923, train_label_loss: 0.0051, \n"
     ]
    },
    {
     "name": "stdout",
     "output_type": "stream",
     "text": [
      "epoch: 7, [batch: 790 / 1129], examples_per_second: 3234.0181, train_label_loss: 0.0302, \n"
     ]
    },
    {
     "name": "stdout",
     "output_type": "stream",
     "text": [
      "epoch: 7, [batch: 903 / 1129], examples_per_second: 3251.5487, train_label_loss: 0.1899, \n"
     ]
    },
    {
     "name": "stdout",
     "output_type": "stream",
     "text": [
      "epoch: 7, [batch: 1016 / 1129], examples_per_second: 3248.2502, train_label_loss: 0.0797, \n"
     ]
    },
    {
     "name": "stdout",
     "output_type": "stream",
     "text": [
      "=============================================================\n",
      "epoch: 7, source_val_acc_label: 0.9548, target_val_acc_label: 0.4035, source_val_label_loss: 0.2281, target_val_label_loss: 2.3232, \n",
      "=============================================================\n"
     ]
    },
    {
     "name": "stdout",
     "output_type": "stream",
     "text": [
      "New best\n"
     ]
    },
    {
     "name": "stdout",
     "output_type": "stream",
     "text": [
      "epoch: 8, [batch: 1 / 1127], examples_per_second: 32.7493, train_label_loss: 0.0371, \n"
     ]
    },
    {
     "name": "stdout",
     "output_type": "stream",
     "text": [
      "epoch: 8, [batch: 113 / 1127], examples_per_second: 3225.2873, train_label_loss: 0.0063, \n"
     ]
    },
    {
     "name": "stdout",
     "output_type": "stream",
     "text": [
      "epoch: 8, [batch: 226 / 1127], examples_per_second: 3225.7537, train_label_loss: 0.0449, \n"
     ]
    },
    {
     "name": "stdout",
     "output_type": "stream",
     "text": [
      "epoch: 8, [batch: 338 / 1127], examples_per_second: 3230.3275, train_label_loss: 0.0529, \n"
     ]
    },
    {
     "name": "stdout",
     "output_type": "stream",
     "text": [
      "epoch: 8, [batch: 451 / 1127], examples_per_second: 3232.2101, train_label_loss: 0.0329, \n"
     ]
    },
    {
     "name": "stdout",
     "output_type": "stream",
     "text": [
      "epoch: 8, [batch: 564 / 1127], examples_per_second: 3243.2905, train_label_loss: 0.0144, \n"
     ]
    },
    {
     "name": "stdout",
     "output_type": "stream",
     "text": [
      "epoch: 8, [batch: 676 / 1127], examples_per_second: 3249.6971, train_label_loss: 0.0008, \n"
     ]
    },
    {
     "name": "stdout",
     "output_type": "stream",
     "text": [
      "epoch: 8, [batch: 789 / 1127], examples_per_second: 3251.2804, train_label_loss: 0.0214, \n"
     ]
    },
    {
     "name": "stdout",
     "output_type": "stream",
     "text": [
      "epoch: 8, [batch: 901 / 1127], examples_per_second: 3260.0307, train_label_loss: 0.0011, \n"
     ]
    },
    {
     "name": "stdout",
     "output_type": "stream",
     "text": [
      "epoch: 8, [batch: 1014 / 1127], examples_per_second: 3243.2929, train_label_loss: 0.1004, \n"
     ]
    },
    {
     "name": "stdout",
     "output_type": "stream",
     "text": [
      "=============================================================\n",
      "epoch: 8, source_val_acc_label: 0.9571, target_val_acc_label: 0.3392, source_val_label_loss: 0.2347, target_val_label_loss: 2.3195, \n",
      "=============================================================\n"
     ]
    },
    {
     "name": "stdout",
     "output_type": "stream",
     "text": [
      "New best\n"
     ]
    },
    {
     "name": "stdout",
     "output_type": "stream",
     "text": [
      "epoch: 9, [batch: 1 / 1127], examples_per_second: 32.7385, train_label_loss: 0.0008, \n"
     ]
    },
    {
     "name": "stdout",
     "output_type": "stream",
     "text": [
      "epoch: 9, [batch: 113 / 1127], examples_per_second: 3234.9137, train_label_loss: 0.0014, \n"
     ]
    },
    {
     "name": "stdout",
     "output_type": "stream",
     "text": [
      "epoch: 9, [batch: 226 / 1127], examples_per_second: 3228.2920, train_label_loss: 0.0126, \n"
     ]
    },
    {
     "name": "stdout",
     "output_type": "stream",
     "text": [
      "epoch: 9, [batch: 338 / 1127], examples_per_second: 3231.2425, train_label_loss: 0.0016, \n"
     ]
    },
    {
     "name": "stdout",
     "output_type": "stream",
     "text": [
      "epoch: 9, [batch: 451 / 1127], examples_per_second: 3205.5479, train_label_loss: 0.1699, \n"
     ]
    },
    {
     "name": "stdout",
     "output_type": "stream",
     "text": [
      "epoch: 9, [batch: 564 / 1127], examples_per_second: 3279.9891, train_label_loss: 0.0038, \n"
     ]
    },
    {
     "name": "stdout",
     "output_type": "stream",
     "text": [
      "epoch: 9, [batch: 676 / 1127], examples_per_second: 3276.5318, train_label_loss: 0.1049, \n"
     ]
    },
    {
     "name": "stdout",
     "output_type": "stream",
     "text": [
      "epoch: 9, [batch: 789 / 1127], examples_per_second: 3284.6092, train_label_loss: 0.2620, \n"
     ]
    },
    {
     "name": "stdout",
     "output_type": "stream",
     "text": [
      "epoch: 9, [batch: 901 / 1127], examples_per_second: 3255.0964, train_label_loss: 0.0965, \n"
     ]
    },
    {
     "name": "stdout",
     "output_type": "stream",
     "text": [
      "epoch: 9, [batch: 1014 / 1127], examples_per_second: 3235.1628, train_label_loss: 0.0245, \n"
     ]
    },
    {
     "name": "stdout",
     "output_type": "stream",
     "text": [
      "=============================================================\n",
      "epoch: 9, source_val_acc_label: 0.9605, target_val_acc_label: 0.2515, source_val_label_loss: 0.2188, target_val_label_loss: 2.4452, \n",
      "=============================================================\n"
     ]
    },
    {
     "name": "stdout",
     "output_type": "stream",
     "text": [
      "epoch: 10, [batch: 1 / 1129], examples_per_second: 33.0880, train_label_loss: 0.0013, \n"
     ]
    },
    {
     "name": "stdout",
     "output_type": "stream",
     "text": [
      "epoch: 10, [batch: 113 / 1129], examples_per_second: 3261.5815, train_label_loss: 0.0034, \n"
     ]
    },
    {
     "name": "stdout",
     "output_type": "stream",
     "text": [
      "epoch: 10, [batch: 226 / 1129], examples_per_second: 3264.9199, train_label_loss: 0.0611, \n"
     ]
    },
    {
     "name": "stdout",
     "output_type": "stream",
     "text": [
      "epoch: 10, [batch: 339 / 1129], examples_per_second: 3278.9976, train_label_loss: 0.0068, \n"
     ]
    },
    {
     "name": "stdout",
     "output_type": "stream",
     "text": [
      "epoch: 10, [batch: 452 / 1129], examples_per_second: 3241.4570, train_label_loss: 0.0042, \n"
     ]
    },
    {
     "name": "stdout",
     "output_type": "stream",
     "text": [
      "epoch: 10, [batch: 565 / 1129], examples_per_second: 3288.2073, train_label_loss: 0.1256, \n"
     ]
    },
    {
     "name": "stdout",
     "output_type": "stream",
     "text": [
      "epoch: 10, [batch: 677 / 1129], examples_per_second: 3254.7550, train_label_loss: 0.5528, \n"
     ]
    },
    {
     "name": "stdout",
     "output_type": "stream",
     "text": [
      "epoch: 10, [batch: 790 / 1129], examples_per_second: 3246.0915, train_label_loss: 0.0175, \n"
     ]
    },
    {
     "name": "stdout",
     "output_type": "stream",
     "text": [
      "epoch: 10, [batch: 903 / 1129], examples_per_second: 3249.4237, train_label_loss: 0.2995, \n"
     ]
    },
    {
     "name": "stdout",
     "output_type": "stream",
     "text": [
      "epoch: 10, [batch: 1016 / 1129], examples_per_second: 3247.9746, train_label_loss: 0.0713, \n"
     ]
    },
    {
     "name": "stdout",
     "output_type": "stream",
     "text": [
      "=============================================================\n",
      "epoch: 10, source_val_acc_label: 0.9610, target_val_acc_label: 0.2968, source_val_label_loss: 0.2415, target_val_label_loss: 2.2970, \n",
      "=============================================================\n"
     ]
    },
    {
     "name": "stdout",
     "output_type": "stream",
     "text": [
      "New best\n"
     ]
    },
    {
     "name": "stdout",
     "output_type": "stream",
     "text": [
      "epoch: 11, [batch: 1 / 1130], examples_per_second: 32.7305, train_label_loss: 0.0006, \n"
     ]
    },
    {
     "name": "stdout",
     "output_type": "stream",
     "text": [
      "epoch: 11, [batch: 113 / 1130], examples_per_second: 3264.7050, train_label_loss: 0.0327, \n"
     ]
    },
    {
     "name": "stdout",
     "output_type": "stream",
     "text": [
      "epoch: 11, [batch: 226 / 1130], examples_per_second: 3278.5473, train_label_loss: 0.0506, \n"
     ]
    },
    {
     "name": "stdout",
     "output_type": "stream",
     "text": [
      "epoch: 11, [batch: 339 / 1130], examples_per_second: 3282.9864, train_label_loss: 0.3372, \n"
     ]
    },
    {
     "name": "stdout",
     "output_type": "stream",
     "text": [
      "epoch: 11, [batch: 452 / 1130], examples_per_second: 3232.2683, train_label_loss: 0.0049, \n"
     ]
    },
    {
     "name": "stdout",
     "output_type": "stream",
     "text": [
      "epoch: 11, [batch: 565 / 1130], examples_per_second: 3285.0890, train_label_loss: 0.0361, \n"
     ]
    },
    {
     "name": "stdout",
     "output_type": "stream",
     "text": [
      "epoch: 11, [batch: 678 / 1130], examples_per_second: 3276.9560, train_label_loss: 0.3054, \n"
     ]
    },
    {
     "name": "stdout",
     "output_type": "stream",
     "text": [
      "epoch: 11, [batch: 791 / 1130], examples_per_second: 3262.1121, train_label_loss: 0.1963, \n"
     ]
    },
    {
     "name": "stdout",
     "output_type": "stream",
     "text": [
      "epoch: 11, [batch: 904 / 1130], examples_per_second: 3280.5595, train_label_loss: 0.0110, \n"
     ]
    },
    {
     "name": "stdout",
     "output_type": "stream",
     "text": [
      "epoch: 11, [batch: 1017 / 1130], examples_per_second: 3260.6734, train_label_loss: 0.0481, \n"
     ]
    },
    {
     "name": "stdout",
     "output_type": "stream",
     "text": [
      "=============================================================\n",
      "epoch: 11, source_val_acc_label: 0.9622, target_val_acc_label: 0.3173, source_val_label_loss: 0.2520, target_val_label_loss: 2.3214, \n",
      "=============================================================\n"
     ]
    },
    {
     "name": "stdout",
     "output_type": "stream",
     "text": [
      "epoch: 12, [batch: 1 / 1131], examples_per_second: 33.0294, train_label_loss: 0.0034, \n"
     ]
    },
    {
     "name": "stdout",
     "output_type": "stream",
     "text": [
      "epoch: 12, [batch: 114 / 1131], examples_per_second: 3231.5360, train_label_loss: 0.0034, \n"
     ]
    },
    {
     "name": "stdout",
     "output_type": "stream",
     "text": [
      "epoch: 12, [batch: 227 / 1131], examples_per_second: 3234.1610, train_label_loss: 0.0265, \n"
     ]
    },
    {
     "name": "stdout",
     "output_type": "stream",
     "text": [
      "epoch: 12, [batch: 340 / 1131], examples_per_second: 3237.1794, train_label_loss: 0.1069, \n"
     ]
    },
    {
     "name": "stdout",
     "output_type": "stream",
     "text": [
      "epoch: 12, [batch: 453 / 1131], examples_per_second: 3213.0119, train_label_loss: 0.0312, \n"
     ]
    },
    {
     "name": "stdout",
     "output_type": "stream",
     "text": [
      "epoch: 12, [batch: 566 / 1131], examples_per_second: 3246.4421, train_label_loss: 0.0094, \n"
     ]
    },
    {
     "name": "stdout",
     "output_type": "stream",
     "text": [
      "epoch: 12, [batch: 679 / 1131], examples_per_second: 3260.6132, train_label_loss: 0.0460, \n"
     ]
    },
    {
     "name": "stdout",
     "output_type": "stream",
     "text": [
      "epoch: 12, [batch: 792 / 1131], examples_per_second: 3242.1287, train_label_loss: 0.0608, \n"
     ]
    },
    {
     "name": "stdout",
     "output_type": "stream",
     "text": [
      "epoch: 12, [batch: 905 / 1131], examples_per_second: 3258.5418, train_label_loss: 0.0691, \n"
     ]
    },
    {
     "name": "stdout",
     "output_type": "stream",
     "text": [
      "epoch: 12, [batch: 1018 / 1131], examples_per_second: 3241.2414, train_label_loss: 0.0036, \n"
     ]
    },
    {
     "name": "stdout",
     "output_type": "stream",
     "text": [
      "=============================================================\n",
      "epoch: 12, source_val_acc_label: 0.9622, target_val_acc_label: 0.2281, source_val_label_loss: 0.2453, target_val_label_loss: 2.5561, \n",
      "=============================================================\n"
     ]
    },
    {
     "name": "stdout",
     "output_type": "stream",
     "text": [
      "epoch: 13, [batch: 1 / 1132], examples_per_second: 33.0750, train_label_loss: 0.0001, \n"
     ]
    },
    {
     "name": "stdout",
     "output_type": "stream",
     "text": [
      "epoch: 13, [batch: 114 / 1132], examples_per_second: 3268.9794, train_label_loss: 0.0003, \n"
     ]
    },
    {
     "name": "stdout",
     "output_type": "stream",
     "text": [
      "epoch: 13, [batch: 227 / 1132], examples_per_second: 3223.7637, train_label_loss: 0.0050, \n"
     ]
    },
    {
     "name": "stdout",
     "output_type": "stream",
     "text": [
      "epoch: 13, [batch: 340 / 1132], examples_per_second: 3212.1062, train_label_loss: 0.0188, \n"
     ]
    },
    {
     "name": "stdout",
     "output_type": "stream",
     "text": [
      "epoch: 13, [batch: 453 / 1132], examples_per_second: 3233.3340, train_label_loss: 0.0075, \n"
     ]
    },
    {
     "name": "stdout",
     "output_type": "stream",
     "text": [
      "epoch: 13, [batch: 566 / 1132], examples_per_second: 3216.4044, train_label_loss: 0.0115, \n"
     ]
    },
    {
     "name": "stdout",
     "output_type": "stream",
     "text": [
      "epoch: 13, [batch: 679 / 1132], examples_per_second: 3219.6453, train_label_loss: 0.0037, \n"
     ]
    },
    {
     "name": "stdout",
     "output_type": "stream",
     "text": [
      "epoch: 13, [batch: 792 / 1132], examples_per_second: 3215.5651, train_label_loss: 0.0029, \n"
     ]
    },
    {
     "name": "stdout",
     "output_type": "stream",
     "text": [
      "epoch: 13, [batch: 905 / 1132], examples_per_second: 3223.5343, train_label_loss: 0.0023, \n"
     ]
    },
    {
     "name": "stdout",
     "output_type": "stream",
     "text": [
      "epoch: 13, [batch: 1018 / 1132], examples_per_second: 3225.2486, train_label_loss: 0.0005, \n"
     ]
    },
    {
     "name": "stdout",
     "output_type": "stream",
     "text": [
      "=============================================================\n",
      "epoch: 13, source_val_acc_label: 0.9612, target_val_acc_label: 0.2778, source_val_label_loss: 0.2372, target_val_label_loss: 2.3563, \n",
      "=============================================================\n"
     ]
    },
    {
     "name": "stdout",
     "output_type": "stream",
     "text": [
      "epoch: 14, [batch: 1 / 1131], examples_per_second: 32.9392, train_label_loss: 0.0002, \n"
     ]
    },
    {
     "name": "stdout",
     "output_type": "stream",
     "text": [
      "epoch: 14, [batch: 114 / 1131], examples_per_second: 3239.5045, train_label_loss: 0.0023, \n"
     ]
    },
    {
     "name": "stdout",
     "output_type": "stream",
     "text": [
      "epoch: 14, [batch: 227 / 1131], examples_per_second: 3260.1658, train_label_loss: 0.0119, \n"
     ]
    },
    {
     "name": "stdout",
     "output_type": "stream",
     "text": [
      "epoch: 14, [batch: 340 / 1131], examples_per_second: 3258.5140, train_label_loss: 0.0157, \n"
     ]
    },
    {
     "name": "stdout",
     "output_type": "stream",
     "text": [
      "epoch: 14, [batch: 453 / 1131], examples_per_second: 3239.2097, train_label_loss: 0.0757, \n"
     ]
    },
    {
     "name": "stdout",
     "output_type": "stream",
     "text": [
      "epoch: 14, [batch: 566 / 1131], examples_per_second: 3257.0031, train_label_loss: 0.0001, \n"
     ]
    },
    {
     "name": "stdout",
     "output_type": "stream",
     "text": [
      "epoch: 14, [batch: 679 / 1131], examples_per_second: 3261.3680, train_label_loss: 0.0433, \n"
     ]
    },
    {
     "name": "stdout",
     "output_type": "stream",
     "text": [
      "epoch: 14, [batch: 792 / 1131], examples_per_second: 3246.2574, train_label_loss: 0.1025, \n"
     ]
    },
    {
     "name": "stdout",
     "output_type": "stream",
     "text": [
      "epoch: 14, [batch: 905 / 1131], examples_per_second: 3250.0138, train_label_loss: 0.0023, \n"
     ]
    },
    {
     "name": "stdout",
     "output_type": "stream",
     "text": [
      "epoch: 14, [batch: 1018 / 1131], examples_per_second: 3245.7162, train_label_loss: 0.0027, \n"
     ]
    },
    {
     "name": "stdout",
     "output_type": "stream",
     "text": [
      "=============================================================\n",
      "epoch: 14, source_val_acc_label: 0.9572, target_val_acc_label: 0.3114, source_val_label_loss: 0.2745, target_val_label_loss: 2.3267, \n",
      "=============================================================\n"
     ]
    },
    {
     "name": "stdout",
     "output_type": "stream",
     "text": [
      "Patience (3) exhausted\n"
     ]
    }
   ],
   "source": [
    "###################################\n",
    "# train\n",
    "###################################\n",
    "jig = PTN_Train_Eval_Test_Jig(model, p.BEST_MODEL_PATH, p.device)\n",
    "\n",
    "jig.train(\n",
    "    train_iterable=datasets.source.processed.train,\n",
    "    source_val_iterable=datasets.source.processed.val,\n",
    "    target_val_iterable=datasets.target.processed.val,\n",
    "    num_epochs=p.n_epoch,\n",
    "    num_logs_per_epoch=p.NUM_LOGS_PER_EPOCH,\n",
    "    patience=p.patience,\n",
    "    optimizer=optimizer,\n",
    "    criteria_for_best=p.criteria_for_best,\n",
    ")"
   ]
  },
  {
   "cell_type": "code",
   "execution_count": 23,
   "id": "31e8fabf",
   "metadata": {
    "execution": {
     "iopub.execute_input": "2022-03-07T08:34:07.622782Z",
     "iopub.status.busy": "2022-03-07T08:34:07.621735Z",
     "iopub.status.idle": "2022-03-07T08:34:07.639008Z",
     "shell.execute_reply": "2022-03-07T08:34:07.638621Z"
    },
    "papermill": {
     "duration": 0.061116,
     "end_time": "2022-03-07T08:34:07.639106",
     "exception": false,
     "start_time": "2022-03-07T08:34:07.577990",
     "status": "completed"
    },
    "tags": []
   },
   "outputs": [],
   "source": [
    "total_experiment_time_secs = time.time() - start_time_secs"
   ]
  },
  {
   "cell_type": "code",
   "execution_count": 24,
   "id": "87b9595b",
   "metadata": {
    "execution": {
     "iopub.execute_input": "2022-03-07T08:34:07.732622Z",
     "iopub.status.busy": "2022-03-07T08:34:07.732347Z",
     "iopub.status.idle": "2022-03-07T08:34:19.139603Z",
     "shell.execute_reply": "2022-03-07T08:34:19.139979Z"
    },
    "papermill": {
     "duration": 11.455346,
     "end_time": "2022-03-07T08:34:19.140115",
     "exception": false,
     "start_time": "2022-03-07T08:34:07.684769",
     "status": "completed"
    },
    "tags": []
   },
   "outputs": [],
   "source": [
    "###################################\n",
    "# Evaluate the model\n",
    "###################################\n",
    "source_test_label_accuracy, source_test_label_loss = jig.test(datasets.source.processed.test)\n",
    "target_test_label_accuracy, target_test_label_loss = jig.test(datasets.target.processed.test)\n",
    "\n",
    "source_val_label_accuracy, source_val_label_loss = jig.test(datasets.source.processed.val)\n",
    "target_val_label_accuracy, target_val_label_loss = jig.test(datasets.target.processed.val)\n",
    "\n",
    "history = jig.get_history()\n",
    "\n",
    "total_epochs_trained = len(history[\"epoch_indices\"])\n",
    "\n",
    "val_dl = Iterable_Aggregator((datasets.source.original.val,datasets.target.original.val))\n",
    "\n",
    "confusion = ptn_confusion_by_domain_over_dataloader(model, p.device, val_dl)\n",
    "per_domain_accuracy = per_domain_accuracy_from_confusion(confusion)\n",
    "\n",
    "# Add a key to per_domain_accuracy for if it was a source domain\n",
    "for domain, accuracy in per_domain_accuracy.items():\n",
    "    per_domain_accuracy[domain] = {\n",
    "        \"accuracy\": accuracy,\n",
    "        \"source?\": domain in p.domains_source\n",
    "    }\n",
    "\n",
    "# Do an independent accuracy assesment JUST TO BE SURE!\n",
    "# _source_test_label_accuracy = independent_accuracy_assesment(model, datasets.source.processed.test, p.device)\n",
    "# _target_test_label_accuracy = independent_accuracy_assesment(model, datasets.target.processed.test, p.device)\n",
    "# _source_val_label_accuracy = independent_accuracy_assesment(model, datasets.source.processed.val, p.device)\n",
    "# _target_val_label_accuracy = independent_accuracy_assesment(model, datasets.target.processed.val, p.device)\n",
    "\n",
    "# assert(_source_test_label_accuracy == source_test_label_accuracy)\n",
    "# assert(_target_test_label_accuracy == target_test_label_accuracy)\n",
    "# assert(_source_val_label_accuracy == source_val_label_accuracy)\n",
    "# assert(_target_val_label_accuracy == target_val_label_accuracy)\n",
    "\n",
    "experiment = {\n",
    "    \"experiment_name\": p.experiment_name,\n",
    "    \"parameters\": dict(p),\n",
    "    \"results\": {\n",
    "        \"source_test_label_accuracy\": source_test_label_accuracy,\n",
    "        \"source_test_label_loss\": source_test_label_loss,\n",
    "        \"target_test_label_accuracy\": target_test_label_accuracy,\n",
    "        \"target_test_label_loss\": target_test_label_loss,\n",
    "        \"source_val_label_accuracy\": source_val_label_accuracy,\n",
    "        \"source_val_label_loss\": source_val_label_loss,\n",
    "        \"target_val_label_accuracy\": target_val_label_accuracy,\n",
    "        \"target_val_label_loss\": target_val_label_loss,\n",
    "        \"total_epochs_trained\": total_epochs_trained,\n",
    "        \"total_experiment_time_secs\": total_experiment_time_secs,\n",
    "        \"confusion\": confusion,\n",
    "        \"per_domain_accuracy\": per_domain_accuracy,\n",
    "    },\n",
    "    \"history\": history,\n",
    "    \"dataset_metrics\": get_dataset_metrics(datasets, \"ptn\"),\n",
    "}"
   ]
  },
  {
   "cell_type": "code",
   "execution_count": 25,
   "id": "54a21829",
   "metadata": {
    "execution": {
     "iopub.execute_input": "2022-03-07T08:34:19.234560Z",
     "iopub.status.busy": "2022-03-07T08:34:19.233807Z",
     "iopub.status.idle": "2022-03-07T08:34:19.420690Z",
     "shell.execute_reply": "2022-03-07T08:34:19.420229Z"
    },
    "papermill": {
     "duration": 0.232356,
     "end_time": "2022-03-07T08:34:19.420785",
     "exception": false,
     "start_time": "2022-03-07T08:34:19.188429",
     "status": "completed"
    },
    "tags": []
   },
   "outputs": [
    {
     "data": {
      "image/png": "[encoded data removed]",
      "text/plain": [
       "<Figure size 1080x504 with 1 Axes>"
      ]
     },
     "metadata": {
      "needs_background": "light"
     },
     "output_type": "display_data"
    }
   ],
   "source": [
    "ax = get_loss_curve(experiment)\n",
    "plt.show()"
   ]
  },
  {
   "cell_type": "code",
   "execution_count": 26,
   "id": "fd8a0f60",
   "metadata": {
    "execution": {
     "iopub.execute_input": "2022-03-07T08:34:19.514474Z",
     "iopub.status.busy": "2022-03-07T08:34:19.514218Z",
     "iopub.status.idle": "2022-03-07T08:34:19.691985Z",
     "shell.execute_reply": "2022-03-07T08:34:19.691772Z"
    },
    "papermill": {
     "duration": 0.224776,
     "end_time": "2022-03-07T08:34:19.692040",
     "exception": false,
     "start_time": "2022-03-07T08:34:19.467264",
     "status": "completed"
    },
    "tags": []
   },
   "outputs": [
    {
     "data": {
      "text/plain": [
       "<matplotlib.axes._subplots.AxesSubplot at 0x7fb0ac5668b0>"
      ]
     },
     "execution_count": 26,
     "metadata": {},
     "output_type": "execute_result"
    },
    {
     "data": {
      "image/png": "[encoded data removed]",
      "text/plain": [
       "<Figure size 1080x504 with 1 Axes>"
      ]
     },
     "metadata": {
      "needs_background": "light"
     },
     "output_type": "display_data"
    }
   ],
   "source": [
    "get_results_table(experiment)"
   ]
  },
  {
   "cell_type": "code",
   "execution_count": 27,
   "id": "cf8dc689",
   "metadata": {
    "execution": {
     "iopub.execute_input": "2022-03-07T08:34:19.785348Z",
     "iopub.status.busy": "2022-03-07T08:34:19.785092Z",
     "iopub.status.idle": "2022-03-07T08:34:19.961595Z",
     "shell.execute_reply": "2022-03-07T08:34:19.961144Z"
    },
    "papermill": {
     "duration": 0.224396,
     "end_time": "2022-03-07T08:34:19.961686",
     "exception": false,
     "start_time": "2022-03-07T08:34:19.737290",
     "status": "completed"
    },
    "tags": []
   },
   "outputs": [
    {
     "data": {
      "text/plain": [
       "<matplotlib.axes._subplots.AxesSubplot at 0x7fb0ac5ba100>"
      ]
     },
     "execution_count": 27,
     "metadata": {},
     "output_type": "execute_result"
    },
    {
     "data": {
      "image/png": "[encoded data removed]",
      "text/plain": [
       "<Figure size 1080x504 with 1 Axes>"
      ]
     },
     "metadata": {
      "needs_background": "light"
     },
     "output_type": "display_data"
    }
   ],
   "source": [
    "get_domain_accuracies(experiment)"
   ]
  },
  {
   "cell_type": "code",
   "execution_count": 28,
   "id": "a74ae082",
   "metadata": {
    "execution": {
     "iopub.execute_input": "2022-03-07T08:34:20.061010Z",
     "iopub.status.busy": "2022-03-07T08:34:20.060745Z",
     "iopub.status.idle": "2022-03-07T08:34:20.074898Z",
     "shell.execute_reply": "2022-03-07T08:34:20.074486Z"
    },
    "papermill": {
     "duration": 0.063036,
     "end_time": "2022-03-07T08:34:20.074988",
     "exception": false,
     "start_time": "2022-03-07T08:34:20.011952",
     "status": "completed"
    },
    "tags": []
   },
   "outputs": [
    {
     "name": "stdout",
     "output_type": "stream",
     "text": [
      "Source Test Label Accuracy: 0.9598684210526316 Target Test Label Accuracy: 0.33771929824561403\n",
      "Source Val Label Accuracy: 0.9610197368421053 Target Val Label Accuracy: 0.29678362573099415\n"
     ]
    }
   ],
   "source": [
    "print(\"Source Test Label Accuracy:\", experiment[\"results\"][\"source_test_label_accuracy\"], \"Target Test Label Accuracy:\", experiment[\"results\"][\"target_test_label_accuracy\"])\n",
    "print(\"Source Val Label Accuracy:\", experiment[\"results\"][\"source_val_label_accuracy\"], \"Target Val Label Accuracy:\", experiment[\"results\"][\"target_val_label_accuracy\"])"
   ]
  },
  {
   "cell_type": "code",
   "execution_count": 29,
   "id": "dacca602",
   "metadata": {
    "execution": {
     "iopub.execute_input": "2022-03-07T08:34:20.171874Z",
     "iopub.status.busy": "2022-03-07T08:34:20.171613Z",
     "iopub.status.idle": "2022-03-07T08:34:20.182768Z",
     "shell.execute_reply": "2022-03-07T08:34:20.182343Z"
    },
    "papermill": {
     "duration": 0.059478,
     "end_time": "2022-03-07T08:34:20.182859",
     "exception": false,
     "start_time": "2022-03-07T08:34:20.123381",
     "status": "completed"
    },
    "tags": [
     "experiment_json"
    ]
   },
   "outputs": [
    {
     "data": {
      "text/plain": [
       "'{\"experiment_name\": \"tl_1_wisig-metehan\", \"parameters\": {\"experiment_name\": \"tl_1_wisig-metehan\", \"device\": \"cuda\", \"lr\": 0.001, \"seed\": 1337, \"dataset_seed\": 1337, \"n_shot\": 3, \"n_query\": 2, \"train_k_factor\": 3, \"val_k_factor\": 2, \"test_k_factor\": 2, \"torch_default_dtype\": \"torch.float32\", \"n_epoch\": 50, \"patience\": 3, \"criteria_for_best\": \"target_loss\", \"x_net\": [{\"class\": \"nnReshape\", \"kargs\": {\"shape\": [-1, 1, 2, 256]}}, {\"class\": \"Conv2d\", \"kargs\": {\"in_channels\": 1, \"out_channels\": 256, \"kernel_size\": [1, 7], \"bias\": false, \"padding\": [0, 3]}}, {\"class\": \"ReLU\", \"kargs\": {\"inplace\": true}}, {\"class\": \"BatchNorm2d\", \"kargs\": {\"num_features\": 256}}, {\"class\": \"Conv2d\", \"kargs\": {\"in_channels\": 256, \"out_channels\": 80, \"kernel_size\": [2, 7], \"bias\": true, \"padding\": [0, 3]}}, {\"class\": \"ReLU\", \"kargs\": {\"inplace\": true}}, {\"class\": \"BatchNorm2d\", \"kargs\": {\"num_features\": 80}}, {\"class\": \"Flatten\", \"kargs\": {}}, {\"class\": \"Linear\", \"kargs\": {\"in_features\": 20480, \"out_features\": 256}}, {\"class\": \"ReLU\", \"kargs\": {\"inplace\": true}}, {\"class\": \"BatchNorm1d\", \"kargs\": {\"num_features\": 256}}, {\"class\": \"Linear\", \"kargs\": {\"in_features\": 256, \"out_features\": 256}}], \"NUM_LOGS_PER_EPOCH\": 10, \"BEST_MODEL_PATH\": \"./best_model.pth\", \"n_way\": 19, \"datasets\": [{\"labels\": [\"1-10\", \"1-12\", \"1-14\", \"1-16\", \"1-18\", \"1-19\", \"1-8\", \"10-11\", \"10-17\", \"10-4\", \"10-7\", \"11-1\", \"11-10\", \"11-19\", \"11-20\", \"11-4\", \"11-7\", \"12-19\", \"12-20\", \"12-7\", \"13-14\", \"13-18\", \"13-19\", \"13-20\", \"13-3\", \"13-7\", \"14-10\", \"14-11\", \"14-12\", \"14-13\", \"14-14\", \"14-19\", \"14-20\", \"14-7\", \"14-8\", \"14-9\", \"15-1\", \"15-19\", \"15-6\", \"16-1\", \"16-16\", \"16-19\", \"16-20\", \"17-10\", \"17-11\", \"18-1\", \"18-10\", \"18-11\", \"18-12\", \"18-13\", \"18-14\", \"18-15\", \"18-16\", \"18-17\", \"18-19\", \"18-2\", \"18-20\", \"18-4\", \"18-5\", \"18-7\", \"18-8\", \"18-9\", \"19-1\", \"19-10\", \"19-11\", \"19-12\", \"19-13\", \"19-14\", \"19-15\", \"19-19\", \"19-2\", \"19-20\", \"19-3\", \"19-4\", \"19-6\", \"19-7\", \"19-8\", \"19-9\", \"2-1\", \"2-13\", \"2-15\", \"2-3\", \"2-4\", \"2-5\", \"2-6\", \"2-7\", \"2-8\", \"20-1\", \"20-12\", \"20-14\", \"20-15\", \"20-16\", \"20-18\", \"20-19\", \"20-20\", \"20-3\", \"20-4\", \"20-5\", \"20-7\", \"20-8\", \"3-1\", \"3-13\", \"3-18\", \"3-2\", \"3-8\", \"4-1\", \"4-10\", \"4-11\", \"5-1\", \"5-5\", \"6-1\", \"6-15\", \"6-6\", \"7-10\", \"7-11\", \"7-12\", \"7-13\", \"7-14\", \"7-7\", \"7-8\", \"7-9\", \"8-1\", \"8-13\", \"8-14\", \"8-18\", \"8-20\", \"8-3\", \"8-8\", \"9-1\", \"9-7\"], \"domains\": [1, 2, 3, 4], \"num_examples_per_domain_per_label\": 100, \"pickle_path\": \"/mnt/wd500GB/CSC500/csc500-main/datasets/wisig.node3-19.stratified_ds.2022A.pkl\", \"source_or_target_dataset\": \"source\", \"x_transforms\": [\"unit_mag\"], \"episode_transforms\": [], \"domain_prefix\": \"Wisig_\"}, {\"labels\": [0, 1, 2, 3, 4, 5, 6, 7, 8, 9, 10, 11, 12, 13, 14, 15, 16, 17, 18], \"domains\": [0, 1, 2], \"num_examples_per_domain_per_label\": 100, \"pickle_path\": \"/mnt/wd500GB/CSC500/csc500-main/datasets/metehan.stratified_ds.2022A.pkl\", \"source_or_target_dataset\": \"target\", \"x_transforms\": [\"unit_mag\"], \"episode_transforms\": [], \"domain_prefix\": \"Metehan_\"}], \"domains_source\": [\"Wisig_1\", \"Wisig_2\", \"Wisig_3\", \"Wisig_4\"], \"domains_target\": [\"Metehan_0\", \"Metehan_1\", \"Metehan_2\"]}, \"results\": {\"source_test_label_accuracy\": 0.9598684210526316, \"source_test_label_loss\": 0.23155979812145233, \"target_test_label_accuracy\": 0.33771929824561403, \"target_test_label_loss\": 2.3037192821502686, \"source_val_label_accuracy\": 0.9610197368421053, \"source_val_label_loss\": 0.24150942265987396, \"target_val_label_accuracy\": 0.29678362573099415, \"target_val_label_loss\": 2.2969553470611572, \"total_epochs_trained\": 14, \"total_experiment_time_secs\": 503.7216532230377, \"confusion\": {\"Wisig_3\": {\"45\": {\"45\": 12}, \"43\": {\"43\": 12}, \"63\": {\"63\": 10, \"13\": 1, \"60\": 1}, \"55\": {\"55\": 12}, \"24\": {\"24\": 12}, \"21\": {\"43\": 1, \"21\": 7, \"84\": 1, \"39\": 1, \"13\": 2}, \"34\": {\"34\": 12}, \"14\": {\"14\": 12}, \"111\": {\"111\": 10}, \"72\": {\"72\": 12}, \"35\": {\"35\": 12}, \"116\": {\"116\": 12}, \"82\": {\"82\": 11, \"62\": 1}, \"7\": {\"7\": 12}, \"20\": {\"20\": 12}, \"62\": {\"62\": 12}, \"104\": {\"104\": 12}, \"98\": {\"98\": 10, \"60\": 1, \"21\": 1}, \"106\": {\"106\": 12}, \"118\": {\"118\": 12}, \"32\": {\"32\": 12}, \"59\": {\"59\": 11, \"101\": 1}, \"128\": {\"128\": 12}, \"18\": {\"18\": 12}, \"31\": {\"31\": 12}, \"39\": {\"39\": 12}, \"91\": {\"91\": 12}, \"48\": {\"48\": 11, \"99\": 1}, \"61\": {\"61\": 12}, \"129\": {\"129\": 12}, \"69\": {\"69\": 12}, \"30\": {\"30\": 11, \"12\": 1}, \"29\": {\"29\": 12}, \"66\": {\"66\": 12}, \"38\": {\"38\": 12}, \"81\": {\"81\": 12}, \"25\": {\"25\": 11, \"59\": 1}, \"122\": {\"122\": 10, \"78\": 1, \"82\": 1}, \"6\": {\"6\": 12}, \"2\": {\"2\": 11, \"16\": 1}, \"33\": {\"33\": 12}, \"37\": {\"37\": 11, \"92\": 1}, \"88\": {\"88\": 12}, \"73\": {\"73\": 10}, \"101\": {\"101\": 12}, \"13\": {\"13\": 11, \"63\": 1}, \"9\": {\"9\": 12}, \"40\": {\"40\": 12}, \"22\": {\"22\": 12}, \"67\": {\"67\": 12}, \"102\": {\"102\": 12}, \"80\": {\"80\": 12}, \"114\": {\"114\": 12}, \"41\": {\"41\": 12}, \"19\": {\"19\": 12}, \"84\": {\"84\": 11, \"63\": 1}, \"107\": {\"102\": 1, \"107\": 11}, \"109\": {\"109\": 12}, \"124\": {\"124\": 12}, \"44\": {\"44\": 11, \"17\": 1}, \"103\": {\"103\": 12}, \"64\": {\"64\": 12}, \"75\": {\"75\": 12}, \"93\": {\"93\": 12}, \"10\": {\"10\": 10}, \"11\": {\"11\": 12}, \"47\": {\"47\": 12}, \"115\": {\"115\": 12}, \"1\": {\"1\": 12}, \"85\": {\"85\": 12}, \"89\": {\"89\": 12}, \"83\": {\"83\": 12}, \"60\": {\"60\": 12}, \"53\": {\"53\": 12}, \"120\": {\"120\": 12}, \"77\": {\"77\": 12}, \"92\": {\"92\": 12}, \"12\": {\"12\": 12}, \"76\": {\"76\": 12}, \"87\": {\"87\": 10}, \"105\": {\"105\": 12}, \"112\": {\"112\": 12}, \"123\": {\"123\": 12}, \"8\": {\"8\": 10}, \"126\": {\"126\": 12}, \"52\": {\"52\": 10}, \"121\": {\"121\": 12}, \"68\": {\"68\": 12}, \"74\": {\"74\": 11, \"54\": 1}, \"57\": {\"57\": 12}, \"3\": {\"3\": 11, \"43\": 1}, \"42\": {\"42\": 11, \"118\": 1}, \"95\": {\"95\": 12}, \"17\": {\"33\": 1, \"17\": 11}, \"4\": {\"4\": 11, \"82\": 1}, \"15\": {\"15\": 12}, \"16\": {\"16\": 10}, \"46\": {\"46\": 12}, \"117\": {\"117\": 12}, \"96\": {\"96\": 12}, \"70\": {\"39\": 1, \"70\": 10, \"18\": 1}, \"27\": {\"27\": 10, \"36\": 2}, \"54\": {\"54\": 12}, \"125\": {\"125\": 12}, \"51\": {\"51\": 11, \"111\": 1}, \"90\": {\"90\": 12}, \"50\": {\"50\": 10}, \"23\": {\"23\": 10}, \"110\": {\"110\": 12}, \"100\": {\"100\": 9, \"51\": 1}, \"108\": {\"108\": 12}, \"86\": {\"86\": 12}, \"78\": {\"78\": 8, \"21\": 1, \"16\": 1, \"24\": 1, \"76\": 1}, \"127\": {\"127\": 8}, \"94\": {\"94\": 12}, \"56\": {\"56\": 12}, \"119\": {\"119\": 12}, \"0\": {\"0\": 12}, \"28\": {\"28\": 12}, \"26\": {\"26\": 10}, \"71\": {\"71\": 11, \"127\": 1}, \"58\": {\"58\": 12}, \"5\": {\"5\": 10}, \"79\": {\"79\": 10}, \"113\": {\"113\": 12}, \"99\": {\"99\": 12}, \"97\": {\"97\": 8}, \"49\": {\"49\": 10}, \"65\": {\"65\": 9, \"92\": 1}, \"36\": {\"36\": 8, \"27\": 1, \"24\": 1}}, \"Wisig_1\": {\"106\": {\"106\": 12}, \"45\": {\"45\": 12}, \"98\": {\"98\": 12}, \"5\": {\"5\": 12}, \"96\": {\"96\": 12}, \"94\": {\"94\": 7, \"70\": 1}, \"4\": {\"4\": 10, \"129\": 1, \"88\": 1}, \"42\": {\"42\": 12}, \"124\": {\"124\": 10}, \"85\": {\"85\": 12}, \"116\": {\"116\": 12}, \"39\": {\"39\": 12}, \"62\": {\"62\": 12}, \"60\": {\"116\": 2, \"60\": 9, \"59\": 1}, \"104\": {\"104\": 10}, \"2\": {\"2\": 11, \"104\": 1}, \"12\": {\"12\": 10, \"81\": 1, \"50\": 1}, \"119\": {\"119\": 12}, \"80\": {\"80\": 11, \"19\": 1}, \"65\": {\"65\": 11, \"128\": 1}, \"113\": {\"113\": 12}, \"22\": {\"22\": 12}, \"32\": {\"32\": 12}, \"117\": {\"117\": 12}, \"0\": {\"0\": 12}, \"44\": {\"44\": 12}, \"83\": {\"83\": 10, \"45\": 1, \"129\": 1}, \"118\": {\"118\": 12}, \"37\": {\"37\": 10, \"96\": 1, \"108\": 1}, \"36\": {\"36\": 11, \"88\": 1}, \"72\": {\"72\": 12}, \"27\": {\"27\": 11, \"97\": 1}, \"123\": {\"123\": 12}, \"71\": {\"71\": 12}, \"28\": {\"28\": 10}, \"21\": {\"83\": 1, \"21\": 10, \"84\": 1}, \"74\": {\"74\": 11, \"85\": 1}, \"15\": {\"15\": 9, \"111\": 1}, \"53\": {\"53\": 12}, \"48\": {\"48\": 12}, \"57\": {\"57\": 12}, \"88\": {\"88\": 12}, \"126\": {\"126\": 12}, \"69\": {\"69\": 12}, \"121\": {\"121\": 12}, \"49\": {\"49\": 11, \"70\": 1}, \"59\": {\"13\": 1, \"59\": 9, \"18\": 1, \"61\": 1}, \"97\": {\"97\": 10, \"88\": 2}, \"90\": {\"90\": 12}, \"9\": {\"9\": 12}, \"13\": {\"13\": 12}, \"8\": {\"8\": 12}, \"89\": {\"89\": 12}, \"47\": {\"47\": 12}, \"125\": {\"125\": 10}, \"58\": {\"58\": 12}, \"17\": {\"17\": 12}, \"29\": {\"29\": 12}, \"35\": {\"35\": 12}, \"3\": {\"3\": 11, \"24\": 1}, \"77\": {\"77\": 12}, \"56\": {\"56\": 12}, \"109\": {\"109\": 11, \"126\": 1}, \"114\": {\"114\": 12}, \"16\": {\"16\": 10, \"22\": 2}, \"112\": {\"112\": 12}, \"105\": {\"105\": 12}, \"84\": {\"84\": 12}, \"127\": {\"127\": 12}, \"70\": {\"70\": 12}, \"52\": {\"52\": 12}, \"31\": {\"31\": 12}, \"43\": {\"43\": 12}, \"75\": {\"75\": 12}, \"40\": {\"40\": 12}, \"129\": {\"129\": 12}, \"73\": {\"73\": 12}, \"93\": {\"93\": 10}, \"20\": {\"20\": 12}, \"115\": {\"115\": 12}, \"24\": {\"24\": 12}, \"34\": {\"34\": 11, \"59\": 1}, \"78\": {\"78\": 8, \"24\": 1, \"122\": 2, \"69\": 1}, \"41\": {\"41\": 12}, \"30\": {\"30\": 12}, \"95\": {\"95\": 12}, \"19\": {\"19\": 12}, \"76\": {\"76\": 12}, \"67\": {\"67\": 10, \"34\": 1, \"87\": 1}, \"23\": {\"23\": 12}, \"99\": {\"99\": 12}, \"66\": {\"66\": 7, \"86\": 1}, \"18\": {\"18\": 12}, \"107\": {\"107\": 12}, \"108\": {\"108\": 12}, \"102\": {\"102\": 12}, \"54\": {\"54\": 12}, \"51\": {\"51\": 12}, \"79\": {\"79\": 12}, \"61\": {\"61\": 12}, \"11\": {\"11\": 12}, \"82\": {\"82\": 12}, \"92\": {\"92\": 12}, \"86\": {\"86\": 12}, \"33\": {\"33\": 12}, \"10\": {\"10\": 12}, \"110\": {\"110\": 12}, \"14\": {\"14\": 12}, \"120\": {\"120\": 12}, \"46\": {\"46\": 9, \"13\": 1, \"66\": 1, \"115\": 1}, \"1\": {\"1\": 10}, \"122\": {\"122\": 12}, \"25\": {\"25\": 12}, \"128\": {\"128\": 12}, \"100\": {\"100\": 12}, \"91\": {\"91\": 12}, \"87\": {\"87\": 10}, \"38\": {\"38\": 12}, \"68\": {\"68\": 10}, \"50\": {\"50\": 11, \"96\": 1}, \"55\": {\"55\": 10}, \"81\": {\"81\": 12}, \"101\": {\"101\": 12}, \"7\": {\"7\": 10}, \"26\": {\"26\": 8}, \"64\": {\"64\": 10}, \"63\": {\"63\": 12}, \"6\": {\"101\": 1, \"6\": 11}, \"111\": {\"111\": 12}, \"103\": {\"103\": 7, \"68\": 1}}, \"Wisig_2\": {\"89\": {\"89\": 11, \"92\": 1}, \"3\": {\"3\": 12}, \"31\": {\"31\": 12}, \"33\": {\"33\": 12}, \"8\": {\"8\": 11, \"18\": 1}, \"41\": {\"41\": 10, \"118\": 1, \"51\": 1}, \"92\": {\"92\": 10, \"110\": 1, \"94\": 1}, \"87\": {\"87\": 12}, \"17\": {\"17\": 6, \"68\": 2, \"66\": 2}, \"93\": {\"93\": 12}, \"94\": {\"94\": 12}, \"110\": {\"122\": 1, \"110\": 11}, \"18\": {\"18\": 12}, \"122\": {\"122\": 12}, \"91\": {\"91\": 12}, \"58\": {\"58\": 12}, \"68\": {\"68\": 12}, \"24\": {\"94\": 1, \"24\": 11}, \"28\": {\"28\": 9, \"94\": 1, \"42\": 1, \"24\": 1}, \"52\": {\"52\": 10}, \"23\": {\"23\": 10, \"77\": 1, \"129\": 1}, \"128\": {\"128\": 12}, \"113\": {\"113\": 11, \"70\": 1}, \"104\": {\"104\": 12}, \"72\": {\"72\": 11, \"23\": 1}, \"125\": {\"125\": 12}, \"121\": {\"121\": 10, \"70\": 1, \"78\": 1}, \"63\": {\"63\": 12}, \"70\": {\"70\": 12}, \"16\": {\"113\": 1, \"16\": 7}, \"60\": {\"60\": 12}, \"95\": {\"95\": 10, \"40\": 1, \"104\": 1}, \"50\": {\"50\": 12}, \"129\": {\"129\": 12}, \"77\": {\"77\": 11, \"111\": 1}, \"47\": {\"47\": 9, \"72\": 1, \"14\": 1, \"60\": 1}, \"13\": {\"13\": 12}, \"9\": {\"9\": 12}, \"115\": {\"115\": 8}, \"42\": {\"42\": 11, \"94\": 1}, \"48\": {\"48\": 12}, \"25\": {\"25\": 10, \"49\": 1, \"126\": 1}, \"61\": {\"61\": 9, \"87\": 1, \"22\": 1, \"84\": 1}, \"108\": {\"108\": 12}, \"54\": {\"54\": 12}, \"76\": {\"76\": 12}, \"12\": {\"12\": 11, \"78\": 1}, \"97\": {\"97\": 10}, \"11\": {\"11\": 11, \"113\": 1}, \"29\": {\"29\": 11, \"119\": 1}, \"57\": {\"57\": 11, \"5\": 1}, \"90\": {\"90\": 12}, \"26\": {\"26\": 12}, \"111\": {\"111\": 12}, \"59\": {\"59\": 12}, \"86\": {\"86\": 12}, \"126\": {\"126\": 12}, \"127\": {\"127\": 8}, \"0\": {\"0\": 11, \"101\": 1}, \"117\": {\"117\": 12}, \"118\": {\"118\": 11, \"18\": 1}, \"32\": {\"32\": 12}, \"37\": {\"37\": 12}, \"96\": {\"96\": 12}, \"44\": {\"44\": 12}, \"10\": {\"10\": 12}, \"4\": {\"4\": 12}, \"20\": {\"20\": 12}, \"21\": {\"21\": 8, \"118\": 1, \"51\": 1}, \"79\": {\"79\": 9, \"30\": 1}, \"99\": {\"99\": 12}, \"105\": {\"105\": 12}, \"112\": {\"112\": 9, \"5\": 2, \"83\": 1}, \"102\": {\"102\": 6}, \"14\": {\"14\": 10, \"78\": 1, \"31\": 1}, \"81\": {\"81\": 12}, \"65\": {\"65\": 11, \"110\": 1}, \"22\": {\"22\": 12}, \"64\": {\"64\": 11, \"76\": 1}, \"1\": {\"1\": 12}, \"83\": {\"83\": 12}, \"2\": {\"2\": 12}, \"78\": {\"78\": 11, \"84\": 1}, \"107\": {\"107\": 12}, \"103\": {\"103\": 12}, \"88\": {\"88\": 12}, \"80\": {\"80\": 12}, \"109\": {\"109\": 11, \"126\": 1}, \"30\": {\"30\": 11, \"75\": 1}, \"119\": {\"119\": 12}, \"106\": {\"106\": 12}, \"35\": {\"35\": 11, \"43\": 1}, \"73\": {\"73\": 12}, \"6\": {\"6\": 12}, \"46\": {\"46\": 12}, \"75\": {\"75\": 11, \"110\": 1}, \"39\": {\"39\": 11, \"72\": 1}, \"5\": {\"5\": 12}, \"7\": {\"7\": 12}, \"124\": {\"124\": 12}, \"69\": {\"69\": 12}, \"71\": {\"71\": 9, \"118\": 1, \"24\": 1, \"84\": 1}, \"74\": {\"74\": 8, \"95\": 1, \"10\": 1}, \"53\": {\"53\": 9, \"49\": 1, \"39\": 1, \"60\": 1}, \"51\": {\"51\": 11, \"62\": 1}, \"38\": {\"38\": 12}, \"62\": {\"62\": 12}, \"27\": {\"27\": 12}, \"19\": {\"19\": 11, \"13\": 1}, \"84\": {\"84\": 12}, \"120\": {\"120\": 12}, \"114\": {\"114\": 12}, \"45\": {\"45\": 10, \"17\": 1, \"24\": 1}, \"40\": {\"40\": 12}, \"85\": {\"85\": 12}, \"82\": {\"82\": 10}, \"101\": {\"101\": 12}, \"98\": {\"98\": 12}, \"100\": {\"100\": 12}, \"43\": {\"43\": 11, \"87\": 1}, \"34\": {\"34\": 12}, \"49\": {\"49\": 10, \"69\": 1, \"33\": 1}, \"15\": {\"15\": 12}, \"66\": {\"66\": 10}, \"36\": {\"36\": 12}, \"116\": {\"116\": 12}, \"67\": {\"67\": 11, \"35\": 1}, \"55\": {\"55\": 11, \"118\": 1}, \"123\": {\"123\": 10}, \"56\": {\"56\": 8}}, \"Wisig_4\": {\"19\": {\"19\": 12}, \"93\": {\"93\": 12}, \"52\": {\"52\": 12}, \"44\": {\"44\": 11, \"80\": 1}, \"120\": {\"120\": 11, \"39\": 1}, \"33\": {\"33\": 10}, \"87\": {\"87\": 10, \"106\": 1, \"63\": 1}, \"20\": {\"20\": 11, \"44\": 1}, \"35\": {\"35\": 12}, \"16\": {\"16\": 12}, \"14\": {\"14\": 12}, \"91\": {\"91\": 9, \"93\": 1}, \"121\": {\"121\": 10, \"44\": 1, \"66\": 1}, \"65\": {\"65\": 10, \"23\": 1, \"103\": 1}, \"66\": {\"66\": 12}, \"37\": {\"37\": 12}, \"67\": {\"88\": 1, \"67\": 11}, \"88\": {\"88\": 11, \"70\": 1}, \"71\": {\"71\": 12}, \"81\": {\"81\": 11, \"51\": 1}, \"34\": {\"34\": 12}, \"63\": {\"63\": 11, \"23\": 1}, \"73\": {\"73\": 12}, \"86\": {\"86\": 12}, \"106\": {\"106\": 12}, \"68\": {\"68\": 12}, \"98\": {\"98\": 11, \"23\": 1}, \"84\": {\"84\": 10, \"99\": 1, \"118\": 1}, \"101\": {\"101\": 12}, \"50\": {\"50\": 8}, \"8\": {\"8\": 11, \"78\": 1}, \"95\": {\"95\": 12}, \"119\": {\"119\": 12}, \"51\": {\"121\": 1, \"3\": 1, \"51\": 9, \"103\": 1}, \"3\": {\"3\": 12}, \"9\": {\"9\": 11, \"39\": 1}, \"42\": {\"42\": 11, \"112\": 1}, \"123\": {\"123\": 12}, \"107\": {\"107\": 12}, \"111\": {\"111\": 12}, \"64\": {\"64\": 12}, \"31\": {\"31\": 12}, \"6\": {\"6\": 12}, \"53\": {\"53\": 11, \"78\": 1}, \"108\": {\"108\": 10, \"69\": 1, \"31\": 1}, \"69\": {\"75\": 1, \"69\": 11}, \"96\": {\"96\": 12}, \"22\": {\"22\": 12}, \"114\": {\"114\": 12}, \"7\": {\"7\": 11, \"110\": 1}, \"75\": {\"75\": 12}, \"2\": {\"2\": 10}, \"39\": {\"39\": 12}, \"41\": {\"41\": 11, \"61\": 1}, \"58\": {\"58\": 12}, \"127\": {\"127\": 10, \"95\": 1, \"113\": 1}, \"62\": {\"62\": 12}, \"76\": {\"76\": 12}, \"46\": {\"46\": 12}, \"60\": {\"60\": 12}, \"118\": {\"62\": 1, \"118\": 11}, \"78\": {\"78\": 10, \"111\": 1, \"110\": 1}, \"48\": {\"48\": 10, \"110\": 1, \"30\": 1}, \"29\": {\"29\": 12}, \"17\": {\"17\": 12}, \"112\": {\"112\": 12}, \"109\": {\"109\": 12}, \"47\": {\"47\": 11, \"0\": 1}, \"94\": {\"94\": 10, \"99\": 1, \"122\": 1}, \"115\": {\"115\": 12}, \"5\": {\"5\": 11, \"36\": 1}, \"26\": {\"26\": 12}, \"89\": {\"89\": 10}, \"49\": {\"49\": 10}, \"18\": {\"18\": 12}, \"102\": {\"102\": 12}, \"99\": {\"99\": 11, \"122\": 1}, \"105\": {\"105\": 11, \"27\": 1}, \"43\": {\"43\": 12}, \"12\": {\"12\": 11, \"1\": 1}, \"1\": {\"1\": 12}, \"21\": {\"21\": 10, \"69\": 1, \"110\": 1}, \"100\": {\"100\": 11, \"21\": 1}, \"80\": {\"80\": 8, \"117\": 1, \"22\": 1}, \"116\": {\"116\": 12}, \"70\": {\"70\": 10, \"43\": 1, \"88\": 1}, \"36\": {\"36\": 9, \"94\": 1}, \"122\": {\"122\": 11, \"49\": 1}, \"55\": {\"55\": 12}, \"0\": {\"0\": 11, \"101\": 1}, \"4\": {\"4\": 12}, \"82\": {\"82\": 11, \"113\": 1}, \"32\": {\"32\": 10}, \"124\": {\"124\": 12}, \"117\": {\"117\": 12}, \"11\": {\"11\": 12}, \"92\": {\"92\": 12}, \"128\": {\"128\": 10, \"0\": 1, \"23\": 1}, \"90\": {\"90\": 12}, \"74\": {\"74\": 11, \"48\": 1}, \"38\": {\"38\": 12}, \"25\": {\"25\": 12}, \"15\": {\"15\": 12}, \"113\": {\"113\": 9, \"0\": 1, \"122\": 1, \"39\": 1}, \"85\": {\"85\": 12}, \"57\": {\"57\": 10, \"23\": 1, \"100\": 1}, \"13\": {\"13\": 12}, \"125\": {\"125\": 12}, \"28\": {\"28\": 12}, \"40\": {\"40\": 12}, \"56\": {\"56\": 12}, \"23\": {\"23\": 9, \"5\": 1, \"60\": 1, \"31\": 1}, \"83\": {\"83\": 12}, \"72\": {\"72\": 12}, \"97\": {\"97\": 10, \"24\": 1, \"128\": 1}, \"77\": {\"77\": 10}, \"45\": {\"45\": 12}, \"129\": {\"129\": 12}, \"104\": {\"104\": 8}, \"10\": {\"10\": 10, \"70\": 2}, \"61\": {\"61\": 11, \"110\": 1}, \"110\": {\"110\": 12}, \"79\": {\"79\": 12}, \"30\": {\"30\": 10}, \"103\": {\"103\": 7, \"106\": 2, \"58\": 2, \"23\": 1}, \"54\": {\"54\": 10}, \"27\": {\"27\": 10, \"102\": 1, \"39\": 1}, \"59\": {\"59\": 10}, \"24\": {\"24\": 8}, \"126\": {\"126\": 7, \"40\": 1}}, \"Metehan_1\": {\"9\": {\"12\": 1, \"13\": 2, \"9\": 8, \"6\": 1}, \"5\": {\"10\": 4, \"18\": 4, \"16\": 1, \"0\": 1, \"5\": 1, \"7\": 1}, \"15\": {\"8\": 5, \"12\": 2, \"17\": 1, \"15\": 4}, \"13\": {\"16\": 2, \"9\": 1, \"13\": 6, \"12\": 1, \"8\": 1, \"6\": 1}, \"11\": {\"3\": 1, \"16\": 1, \"8\": 4, \"11\": 4, \"17\": 2}, \"7\": {\"0\": 8, \"10\": 1, \"3\": 1, \"7\": 1, \"16\": 1}, \"2\": {\"5\": 2, \"14\": 2, \"1\": 3, \"2\": 3, \"0\": 2}, \"6\": {\"6\": 2, \"14\": 5, \"4\": 5}, \"16\": {\"16\": 4, \"7\": 1, \"3\": 2, \"10\": 1, \"11\": 2, \"18\": 1, \"13\": 1}, \"14\": {\"14\": 4, \"6\": 2, \"4\": 4, \"7\": 2}, \"18\": {\"17\": 3, \"18\": 6, \"10\": 2, \"5\": 1}, \"1\": {\"1\": 3, \"2\": 4, \"5\": 4, \"18\": 1}, \"10\": {\"2\": 3, \"10\": 1, \"7\": 2, \"0\": 1, \"3\": 2, \"5\": 3}, \"12\": {\"11\": 1, \"12\": 6, \"8\": 2, \"17\": 1, \"13\": 1, \"3\": 1}, \"3\": {\"16\": 6, \"3\": 2, \"9\": 1, \"10\": 1, \"7\": 1, \"13\": 1}, \"8\": {\"8\": 4, \"15\": 6, \"12\": 2}, \"0\": {\"2\": 2, \"14\": 1, \"0\": 1, \"10\": 2, \"7\": 2, \"1\": 1, \"5\": 1, \"18\": 2}, \"4\": {\"4\": 6, \"6\": 4, \"14\": 2}, \"17\": {\"11\": 3, \"16\": 3, \"17\": 2, \"10\": 1, \"8\": 1, \"3\": 2}}, \"Metehan_0\": {\"6\": {\"4\": 5, \"9\": 2, \"14\": 3, \"6\": 2}, \"18\": {\"18\": 7, \"1\": 1, \"10\": 2, \"5\": 2}, \"2\": {\"1\": 1, \"7\": 4, \"2\": 4, \"6\": 1, \"5\": 1, \"0\": 1}, \"17\": {\"11\": 3, \"12\": 1, \"17\": 2, \"16\": 1, \"8\": 4, \"18\": 1}, \"1\": {\"2\": 4, \"1\": 6, \"7\": 1, \"5\": 1}, \"4\": {\"4\": 4, \"6\": 6, \"14\": 2}, \"8\": {\"12\": 1, \"15\": 5, \"8\": 4, \"11\": 2}, \"9\": {\"3\": 1, \"14\": 5, \"13\": 2, \"9\": 3, \"6\": 1}, \"7\": {\"0\": 5, \"7\": 1, \"2\": 2, \"1\": 2, \"5\": 1, \"18\": 1}, \"15\": {\"15\": 7, \"12\": 3, \"8\": 2}, \"12\": {\"17\": 1, \"11\": 3, \"13\": 3, \"12\": 4, \"8\": 1}, \"11\": {\"3\": 2, \"17\": 3, \"11\": 4, \"16\": 1, \"12\": 1, \"10\": 1}, \"13\": {\"3\": 3, \"13\": 4, \"9\": 1, \"12\": 3, \"16\": 1}, \"0\": {\"6\": 1, \"0\": 3, \"1\": 2, \"7\": 2, \"9\": 1, \"16\": 1, \"10\": 1, \"14\": 1}, \"10\": {\"5\": 2, \"7\": 1, \"0\": 2, \"2\": 2, \"1\": 2, \"10\": 1, \"12\": 1, \"18\": 1}, \"14\": {\"0\": 4, \"4\": 2, \"14\": 4, \"6\": 1, \"3\": 1}, \"3\": {\"13\": 2, \"3\": 4, \"16\": 2, \"11\": 1, \"10\": 1, \"7\": 1, \"9\": 1}, \"5\": {\"5\": 3, \"16\": 1, \"18\": 4, \"10\": 4}, \"16\": {\"10\": 1, \"16\": 5, \"3\": 3, \"17\": 2, \"5\": 1}}, \"Metehan_2\": {\"1\": {\"1\": 6, \"5\": 1, \"7\": 1, \"2\": 3, \"18\": 1}, \"0\": {\"14\": 1, \"1\": 1, \"0\": 3, \"13\": 1, \"2\": 3, \"3\": 1, \"10\": 1, \"7\": 1}, \"13\": {\"9\": 3, \"12\": 3, \"3\": 5, \"13\": 1}, \"11\": {\"16\": 4, \"11\": 3, \"17\": 3, \"3\": 1, \"18\": 1}, \"5\": {\"1\": 2, \"10\": 2, \"18\": 2, \"5\": 4, \"16\": 1, \"7\": 1}, \"15\": {\"15\": 7, \"8\": 4, \"17\": 1}, \"14\": {\"6\": 2, \"14\": 1, \"2\": 3, \"0\": 3, \"4\": 2, \"7\": 1}, \"8\": {\"15\": 7, \"8\": 3, \"11\": 2}, \"6\": {\"6\": 4, \"14\": 5, \"4\": 1, \"7\": 1, \"9\": 1}, \"3\": {\"11\": 1, \"9\": 1, \"16\": 1, \"10\": 2, \"12\": 2, \"3\": 3, \"0\": 1, \"5\": 1}, \"10\": {\"18\": 2, \"2\": 1, \"10\": 1, \"5\": 3, \"16\": 3, \"7\": 2}, \"7\": {\"7\": 3, \"1\": 2, \"0\": 4, \"10\": 2, \"2\": 1}, \"17\": {\"11\": 3, \"8\": 4, \"17\": 4, \"16\": 1}, \"4\": {\"14\": 5, \"6\": 5, \"4\": 1, \"13\": 1}, \"2\": {\"10\": 1, \"2\": 5, \"7\": 3, \"14\": 1, \"0\": 2}, \"9\": {\"9\": 5, \"13\": 1, \"6\": 1, \"4\": 2, \"3\": 1, \"14\": 2}, \"12\": {\"15\": 2, \"12\": 4, \"17\": 1, \"8\": 3, \"13\": 1, \"16\": 1}, \"18\": {\"5\": 5, \"10\": 3, \"11\": 1, \"18\": 1, \"16\": 2}, \"16\": {\"3\": 2, \"11\": 5, \"16\": 4, \"5\": 1}}}, \"per_domain_accuracy\": {\"Wisig_3\": {\"accuracy\": 0.9730263157894737, \"source?\": true}, \"Wisig_1\": {\"accuracy\": 0.9703947368421053, \"source?\": true}, \"Wisig_2\": {\"accuracy\": 0.9519736842105263, \"source?\": true}, \"Wisig_4\": {\"accuracy\": 0.9486842105263158, \"source?\": true}, \"Metehan_1\": {\"accuracy\": 0.2982456140350877, \"source?\": false}, \"Metehan_0\": {\"accuracy\": 0.3157894736842105, \"source?\": false}, \"Metehan_2\": {\"accuracy\": 0.27631578947368424, \"source?\": false}}}, \"history\": {\"epoch_indices\": [1, 2, 3, 4, 5, 6, 7, 8, 9, 10, 11, 12, 13, 14], \"train_label_loss\": [0.43053013795461664, 0.21847345850658306, 0.1723566111917282, 0.13723561440998852, 0.11178106107487523, 0.09524957089158455, 0.08318952175980011, 0.06616237368350868, 0.05986178781678768, 0.050362194640382725, 0.04620721071252484, 0.0433661082900316, 0.03578757998846336, 0.034575112550464915], \"source_val_label_loss\": [0.30347108840942383, 0.2360784262418747, 0.2097913771867752, 0.2285432666540146, 0.2342444658279419, 0.24217744171619415, 0.22812901437282562, 0.23470115661621094, 0.2187625616788864, 0.24150942265987396, 0.2519541084766388, 0.24526147544384003, 0.23722036182880402, 0.2745210826396942], \"target_val_label_loss\": [2.7833163738250732, 2.7355549335479736, 2.7651939392089844, 2.551839828491211, 2.413567543029785, 2.4141552448272705, 2.32317852973938, 2.319507360458374, 2.445185661315918, 2.2969553470611572, 2.321376323699951, 2.556094169616699, 2.3563311100006104, 2.326679229736328], \"source_val_acc_label\": [0.9314144736842105, 0.9470394736842105, 0.9539473684210527, 0.9532894736842106, 0.9504934210526316, 0.9491776315789474, 0.9547697368421053, 0.9570723684210526, 0.9605263157894737, 0.9610197368421053, 0.962171052631579, 0.962171052631579, 0.9611842105263158, 0.9572368421052632], \"target_val_acc_label\": [0.260233918128655, 0.2733918128654971, 0.22807017543859648, 0.32894736842105265, 0.3567251461988304, 0.38742690058479534, 0.40350877192982454, 0.3391812865497076, 0.25146198830409355, 0.29678362573099415, 0.3172514619883041, 0.22807017543859648, 0.2777777777777778, 0.31140350877192985]}, \"dataset_metrics\": {\"source\": {\"train\": {\"n_unique_x\": 36400, \"n_unique_y\": 130, \"n_batch/episode\": 1129}, \"val\": {\"n_unique_x\": 7792, \"n_unique_y\": 130, \"n_batch/episode\": 160}, \"test\": {\"n_unique_x\": 7792, \"n_unique_y\": 130, \"n_batch/episode\": 160}}, \"target\": {\"train\": {\"n_unique_x\": 3990, \"n_unique_y\": 19, \"n_batch/episode\": 126}, \"val\": {\"n_unique_x\": 855, \"n_unique_y\": 19, \"n_batch/episode\": 18}, \"test\": {\"n_unique_x\": 855, \"n_unique_y\": 19, \"n_batch/episode\": 18}}}}'"
      ]
     },
     "execution_count": 29,
     "metadata": {},
     "output_type": "execute_result"
    }
   ],
   "source": [
    "json.dumps(experiment)"
   ]
  }
 ],
 "metadata": {
  "celltoolbar": "Tags",
  "kernelspec": {
   "display_name": "Python 3 (ipykernel)",
   "language": "python",
   "name": "python3"
  },
  "language_info": {
   "codemirror_mode": {
    "name": "ipython",
    "version": 3
   },
   "file_extension": ".py",
   "mimetype": "text/x-python",
   "name": "python",
   "nbconvert_exporter": "python",
   "pygments_lexer": "ipython3",
   "version": "3.8.10"
  },
  "papermill": {
   "default_parameters": {},
   "duration": 518.720536,
   "end_time": "2022-03-07T08:34:20.738722",
   "environment_variables": {},
   "exception": null,
   "input_path": "/mnt/wd500GB/CSC500/csc500-main/csc500-notebooks/templates/tl_ptn_template.ipynb",
   "output_path": "trial.ipynb",
   "parameters": {
    "parameters": {
     "BEST_MODEL_PATH": "./best_model.pth",
     "NUM_LOGS_PER_EPOCH": 10,
     "criteria_for_best": "target_loss",
     "dataset_seed": 1337,
     "datasets": [
      {
       "domain_prefix": "Wisig_",
       "domains": [
        1,
        2,
        3,
        4
       ],
       "episode_transforms": [],
       "labels": [
        "1-10",
        "1-12",
        "1-14",
        "1-16",
        "1-18",
        "1-19",
        "1-8",
        "10-11",
        "10-17",
        "10-4",
        "10-7",
        "11-1",
        "11-10",
        "11-19",
        "11-20",
        "11-4",
        "11-7",
        "12-19",
        "12-20",
        "12-7",
        "13-14",
        "13-18",
        "13-19",
        "13-20",
        "13-3",
        "13-7",
        "14-10",
        "14-11",
        "14-12",
        "14-13",
        "14-14",
        "14-19",
        "14-20",
        "14-7",
        "14-8",
        "14-9",
        "15-1",
        "15-19",
        "15-6",
        "16-1",
        "16-16",
        "16-19",
        "16-20",
        "17-10",
        "17-11",
        "18-1",
        "18-10",
        "18-11",
        "18-12",
        "18-13",
        "18-14",
        "18-15",
        "18-16",
        "18-17",
        "18-19",
        "18-2",
        "18-20",
        "18-4",
        "18-5",
        "18-7",
        "18-8",
        "18-9",
        "19-1",
        "19-10",
        "19-11",
        "19-12",
        "19-13",
        "19-14",
        "19-15",
        "19-19",
        "19-2",
        "19-20",
        "19-3",
        "19-4",
        "19-6",
        "19-7",
        "19-8",
        "19-9",
        "2-1",
        "2-13",
        "2-15",
        "2-3",
        "2-4",
        "2-5",
        "2-6",
        "2-7",
        "2-8",
        "20-1",
        "20-12",
        "20-14",
        "20-15",
        "20-16",
        "20-18",
        "20-19",
        "20-20",
        "20-3",
        "20-4",
        "20-5",
        "20-7",
        "20-8",
        "3-1",
        "3-13",
        "3-18",
        "3-2",
        "3-8",
        "4-1",
        "4-10",
        "4-11",
        "5-1",
        "5-5",
        "6-1",
        "6-15",
        "6-6",
        "7-10",
        "7-11",
        "7-12",
        "7-13",
        "7-14",
        "7-7",
        "7-8",
        "7-9",
        "8-1",
        "8-13",
        "8-14",
        "8-18",
        "8-20",
        "8-3",
        "8-8",
        "9-1",
        "9-7"
       ],
       "num_examples_per_domain_per_label": 100,
       "pickle_path": "/mnt/wd500GB/CSC500/csc500-main/datasets/wisig.node3-19.stratified_ds.2022A.pkl",
       "source_or_target_dataset": "source",
       "x_transforms": [
        "unit_mag"
       ]
      },
      {
       "domain_prefix": "Metehan_",
       "domains": [
        0,
        1,
        2
       ],
       "episode_transforms": [],
       "labels": [
        0,
        1,
        2,
        3,
        4,
        5,
        6,
        7,
        8,
        9,
        10,
        11,
        12,
        13,
        14,
        15,
        16,
        17,
        18
       ],
       "num_examples_per_domain_per_label": 100,
       "pickle_path": "/mnt/wd500GB/CSC500/csc500-main/datasets/metehan.stratified_ds.2022A.pkl",
       "source_or_target_dataset": "target",
       "x_transforms": [
        "unit_mag"
       ]
      }
     ],
     "device": "cuda",
     "experiment_name": "tl_1_wisig-metehan",
     "lr": 0.001,
     "n_epoch": 50,
     "n_query": 2,
     "n_shot": 3,
     "n_way": 19,
     "patience": 3,
     "seed": 1337,
     "test_k_factor": 2,
     "torch_default_dtype": "torch.float32",
     "train_k_factor": 3,
     "val_k_factor": 2,
     "x_net": [
      {
       "class": "nnReshape",
       "kargs": {
        "shape": [
         -1,
         1,
         2,
         256
        ]
       }
      },
      {
       "class": "Conv2d",
       "kargs": {
        "bias": false,
        "in_channels": 1,
        "kernel_size": [
         1,
         7
        ],
        "out_channels": 256,
        "padding": [
         0,
         3
        ]
       }
      },
      {
       "class": "ReLU",
       "kargs": {
        "inplace": true
       }
      },
      {
       "class": "BatchNorm2d",
       "kargs": {
        "num_features": 256
       }
      },
      {
       "class": "Conv2d",
       "kargs": {
        "bias": true,
        "in_channels": 256,
        "kernel_size": [
         2,
         7
        ],
        "out_channels": 80,
        "padding": [
         0,
         3
        ]
       }
      },
      {
       "class": "ReLU",
       "kargs": {
        "inplace": true
       }
      },
      {
       "class": "BatchNorm2d",
       "kargs": {
        "num_features": 80
       }
      },
      {
       "class": "Flatten",
       "kargs": {}
      },
      {
       "class": "Linear",
       "kargs": {
        "in_features": 20480,
        "out_features": 256
       }
      },
      {
       "class": "ReLU",
       "kargs": {
        "inplace": true
       }
      },
      {
       "class": "BatchNorm1d",
       "kargs": {
        "num_features": 256
       }
      },
      {
       "class": "Linear",
       "kargs": {
        "in_features": 256,
        "out_features": 256
       }
      }
     ]
    }
   },
   "start_time": "2022-03-07T08:25:42.018186",
   "version": "2.3.4"
  }
 },
 "nbformat": 4,
 "nbformat_minor": 5
}