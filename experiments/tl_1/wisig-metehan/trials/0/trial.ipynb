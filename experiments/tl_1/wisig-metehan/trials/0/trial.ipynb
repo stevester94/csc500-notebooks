{
 "cells": [
  {
   "cell_type": "markdown",
   "id": "9fea5f46",
   "metadata": {
    "papermill": {
     "duration": 0.016615,
     "end_time": "2022-03-07T08:18:19.260203",
     "exception": false,
     "start_time": "2022-03-07T08:18:19.243588",
     "status": "completed"
    },
    "tags": []
   },
   "source": [
    "# Transfer Learning Template"
   ]
  },
  {
   "cell_type": "code",
   "execution_count": 1,
   "id": "0902182a",
   "metadata": {
    "execution": {
     "iopub.execute_input": "2022-03-07T08:18:19.295439Z",
     "iopub.status.busy": "2022-03-07T08:18:19.295011Z",
     "iopub.status.idle": "2022-03-07T08:18:20.028713Z",
     "shell.execute_reply": "2022-03-07T08:18:20.028144Z"
    },
    "papermill": {
     "duration": 0.755956,
     "end_time": "2022-03-07T08:18:20.028835",
     "exception": false,
     "start_time": "2022-03-07T08:18:19.272879",
     "status": "completed"
    },
    "tags": []
   },
   "outputs": [],
   "source": [
    "%load_ext autoreload\n",
    "%autoreload 2\n",
    "%matplotlib inline\n",
    "\n",
    "    \n",
    "import os, json, sys, time, random\n",
    "import numpy as np\n",
    "import torch\n",
    "from torch.optim import Adam\n",
    "from  easydict import EasyDict\n",
    "import matplotlib.pyplot as plt\n",
    "\n",
    "from steves_models.steves_ptn import Steves_Prototypical_Network\n",
    "\n",
    "from steves_utils.lazy_iterable_wrapper import Lazy_Iterable_Wrapper\n",
    "from steves_utils.iterable_aggregator import Iterable_Aggregator\n",
    "from steves_utils.ptn_train_eval_test_jig import  PTN_Train_Eval_Test_Jig\n",
    "from steves_utils.torch_sequential_builder import build_sequential\n",
    "from steves_utils.torch_utils import get_dataset_metrics, ptn_confusion_by_domain_over_dataloader\n",
    "from steves_utils.utils_v2 import (per_domain_accuracy_from_confusion, get_datasets_base_path)\n",
    "from steves_utils.PTN.utils import independent_accuracy_assesment\n",
    "\n",
    "from torch.utils.data import DataLoader\n",
    "\n",
    "from steves_utils.stratified_dataset.episodic_accessor import Episodic_Accessor_Factory\n",
    "\n",
    "from steves_utils.ptn_do_report import (\n",
    "    get_loss_curve,\n",
    "    get_results_table,\n",
    "    get_parameters_table,\n",
    "    get_domain_accuracies,\n",
    ")\n",
    "\n",
    "from steves_utils.transforms import get_chained_transform"
   ]
  },
  {
   "cell_type": "markdown",
   "id": "41c840b4",
   "metadata": {
    "papermill": {
     "duration": 0.012635,
     "end_time": "2022-03-07T08:18:20.059999",
     "exception": false,
     "start_time": "2022-03-07T08:18:20.047364",
     "status": "completed"
    },
    "tags": []
   },
   "source": [
    "# Allowed Parameters\n",
    "These are allowed parameters, not defaults\n",
    "Each of these values need to be present in the injected parameters (the notebook will raise an exception if they are not present)\n",
    "\n",
    "Papermill uses the cell tag \"parameters\" to inject the real parameters below this cell.\n",
    "Enable tags to see what I mean"
   ]
  },
  {
   "cell_type": "code",
   "execution_count": 2,
   "id": "fd44eb83",
   "metadata": {
    "execution": {
     "iopub.execute_input": "2022-03-07T08:18:20.087865Z",
     "iopub.status.busy": "2022-03-07T08:18:20.087482Z",
     "iopub.status.idle": "2022-03-07T08:18:20.097659Z",
     "shell.execute_reply": "2022-03-07T08:18:20.097221Z"
    },
    "papermill": {
     "duration": 0.024975,
     "end_time": "2022-03-07T08:18:20.097759",
     "exception": false,
     "start_time": "2022-03-07T08:18:20.072784",
     "status": "completed"
    },
    "tags": []
   },
   "outputs": [],
   "source": [
    "required_parameters = {\n",
    "    \"experiment_name\",\n",
    "    \"lr\",\n",
    "    \"device\",\n",
    "    \"seed\",\n",
    "    \"dataset_seed\",\n",
    "    \"n_shot\",\n",
    "    \"n_query\",\n",
    "    \"n_way\",\n",
    "    \"train_k_factor\",\n",
    "    \"val_k_factor\",\n",
    "    \"test_k_factor\",\n",
    "    \"n_epoch\",\n",
    "    \"patience\",\n",
    "    \"criteria_for_best\",\n",
    "    \"x_net\",\n",
    "    \"datasets\",\n",
    "    \"torch_default_dtype\",\n",
    "    \"NUM_LOGS_PER_EPOCH\",\n",
    "    \"BEST_MODEL_PATH\",\n",
    "}"
   ]
  },
  {
   "cell_type": "code",
   "execution_count": 3,
   "id": "fa3f0049",
   "metadata": {
    "execution": {
     "iopub.execute_input": "2022-03-07T08:18:20.136267Z",
     "iopub.status.busy": "2022-03-07T08:18:20.131155Z",
     "iopub.status.idle": "2022-03-07T08:18:20.153308Z",
     "shell.execute_reply": "2022-03-07T08:18:20.152864Z"
    },
    "papermill": {
     "duration": 0.037268,
     "end_time": "2022-03-07T08:18:20.153413",
     "exception": false,
     "start_time": "2022-03-07T08:18:20.116145",
     "status": "completed"
    },
    "tags": [
     "parameters"
    ]
   },
   "outputs": [],
   "source": [
    "from steves_utils.CORES.utils import (\n",
    "    ALL_NODES,\n",
    "    ALL_NODES_MINIMUM_1000_EXAMPLES,\n",
    "    ALL_DAYS\n",
    ")\n",
    "\n",
    "from steves_utils.ORACLE.utils_v2 import (\n",
    "    ALL_DISTANCES_FEET_NARROWED,\n",
    "    ALL_RUNS,\n",
    "    ALL_SERIAL_NUMBERS,\n",
    ")\n",
    "\n",
    "standalone_parameters = {}\n",
    "standalone_parameters[\"experiment_name\"] = \"STANDALONE PTN\"\n",
    "standalone_parameters[\"lr\"] = 0.001\n",
    "standalone_parameters[\"device\"] = \"cuda\"\n",
    "\n",
    "standalone_parameters[\"seed\"] = 1337\n",
    "standalone_parameters[\"dataset_seed\"] = 1337\n",
    "\n",
    "standalone_parameters[\"n_way\"] = 8\n",
    "standalone_parameters[\"n_shot\"] = 3\n",
    "standalone_parameters[\"n_query\"]  = 2\n",
    "standalone_parameters[\"train_k_factor\"] = 1\n",
    "standalone_parameters[\"val_k_factor\"] = 2\n",
    "standalone_parameters[\"test_k_factor\"] = 2\n",
    "\n",
    "\n",
    "standalone_parameters[\"n_epoch\"] = 50\n",
    "\n",
    "standalone_parameters[\"patience\"] = 10\n",
    "standalone_parameters[\"criteria_for_best\"] = \"source_loss\"\n",
    "\n",
    "standalone_parameters[\"datasets\"] = [\n",
    "    {\n",
    "        \"labels\": ALL_SERIAL_NUMBERS,\n",
    "        \"domains\": ALL_DISTANCES_FEET_NARROWED,\n",
    "        \"num_examples_per_domain_per_label\": 100,\n",
    "        \"pickle_path\": os.path.join(get_datasets_base_path(), \"oracle.Run1_framed_2000Examples_stratified_ds.2022A.pkl\"),\n",
    "        \"source_or_target_dataset\": \"source\",\n",
    "        \"x_transforms\": [\"unit_mag\", \"minus_two\"],\n",
    "        \"episode_transforms\": [],\n",
    "        \"domain_prefix\": \"ORACLE_\"\n",
    "    },\n",
    "    {\n",
    "        \"labels\": ALL_NODES,\n",
    "        \"domains\": ALL_DAYS,\n",
    "        \"num_examples_per_domain_per_label\": 100,\n",
    "        \"pickle_path\": os.path.join(get_datasets_base_path(), \"cores.stratified_ds.2022A.pkl\"),\n",
    "        \"source_or_target_dataset\": \"target\",\n",
    "        \"x_transforms\": [\"unit_power\", \"times_zero\"],\n",
    "        \"episode_transforms\": [],\n",
    "        \"domain_prefix\": \"CORES_\"\n",
    "    }   \n",
    "]\n",
    "\n",
    "standalone_parameters[\"torch_default_dtype\"] = \"torch.float32\" \n",
    "\n",
    "\n",
    "\n",
    "standalone_parameters[\"x_net\"] =     [\n",
    "    {\"class\": \"nnReshape\", \"kargs\": {\"shape\":[-1, 1, 2, 256]}},\n",
    "    {\"class\": \"Conv2d\", \"kargs\": { \"in_channels\":1, \"out_channels\":256, \"kernel_size\":(1,7), \"bias\":False, \"padding\":(0,3), },},\n",
    "    {\"class\": \"ReLU\", \"kargs\": {\"inplace\": True}},\n",
    "    {\"class\": \"BatchNorm2d\", \"kargs\": {\"num_features\":256}},\n",
    "\n",
    "    {\"class\": \"Conv2d\", \"kargs\": { \"in_channels\":256, \"out_channels\":80, \"kernel_size\":(2,7), \"bias\":True, \"padding\":(0,3), },},\n",
    "    {\"class\": \"ReLU\", \"kargs\": {\"inplace\": True}},\n",
    "    {\"class\": \"BatchNorm2d\", \"kargs\": {\"num_features\":80}},\n",
    "    {\"class\": \"Flatten\", \"kargs\": {}},\n",
    "\n",
    "    {\"class\": \"Linear\", \"kargs\": {\"in_features\": 80*256, \"out_features\": 256}}, # 80 units per IQ pair\n",
    "    {\"class\": \"ReLU\", \"kargs\": {\"inplace\": True}},\n",
    "    {\"class\": \"BatchNorm1d\", \"kargs\": {\"num_features\":256}},\n",
    "\n",
    "    {\"class\": \"Linear\", \"kargs\": {\"in_features\": 256, \"out_features\": 256}},\n",
    "]\n",
    "\n",
    "# Parameters relevant to results\n",
    "# These parameters will basically never need to change\n",
    "standalone_parameters[\"NUM_LOGS_PER_EPOCH\"] = 10\n",
    "standalone_parameters[\"BEST_MODEL_PATH\"] = \"./best_model.pth\"\n",
    "\n",
    "\n",
    "\n",
    "\n"
   ]
  },
  {
   "cell_type": "code",
   "execution_count": 4,
   "id": "232c7cf1",
   "metadata": {
    "execution": {
     "iopub.execute_input": "2022-03-07T08:18:20.197434Z",
     "iopub.status.busy": "2022-03-07T08:18:20.187032Z",
     "iopub.status.idle": "2022-03-07T08:18:20.208797Z",
     "shell.execute_reply": "2022-03-07T08:18:20.208363Z"
    },
    "papermill": {
     "duration": 0.036957,
     "end_time": "2022-03-07T08:18:20.208897",
     "exception": false,
     "start_time": "2022-03-07T08:18:20.171940",
     "status": "completed"
    },
    "tags": [
     "injected-parameters"
    ]
   },
   "outputs": [],
   "source": [
    "# Parameters\n",
    "parameters = {\n",
    "    \"experiment_name\": \"tl_1_wisig-metehan\",\n",
    "    \"device\": \"cuda\",\n",
    "    \"lr\": 0.001,\n",
    "    \"seed\": 1337,\n",
    "    \"dataset_seed\": 1337,\n",
    "    \"n_shot\": 3,\n",
    "    \"n_query\": 2,\n",
    "    \"train_k_factor\": 3,\n",
    "    \"val_k_factor\": 2,\n",
    "    \"test_k_factor\": 2,\n",
    "    \"torch_default_dtype\": \"torch.float32\",\n",
    "    \"n_epoch\": 50,\n",
    "    \"patience\": 3,\n",
    "    \"criteria_for_best\": \"target_loss\",\n",
    "    \"x_net\": [\n",
    "        {\"class\": \"nnReshape\", \"kargs\": {\"shape\": [-1, 1, 2, 256]}},\n",
    "        {\n",
    "            \"class\": \"Conv2d\",\n",
    "            \"kargs\": {\n",
    "                \"in_channels\": 1,\n",
    "                \"out_channels\": 256,\n",
    "                \"kernel_size\": [1, 7],\n",
    "                \"bias\": False,\n",
    "                \"padding\": [0, 3],\n",
    "            },\n",
    "        },\n",
    "        {\"class\": \"ReLU\", \"kargs\": {\"inplace\": True}},\n",
    "        {\"class\": \"BatchNorm2d\", \"kargs\": {\"num_features\": 256}},\n",
    "        {\n",
    "            \"class\": \"Conv2d\",\n",
    "            \"kargs\": {\n",
    "                \"in_channels\": 256,\n",
    "                \"out_channels\": 80,\n",
    "                \"kernel_size\": [2, 7],\n",
    "                \"bias\": True,\n",
    "                \"padding\": [0, 3],\n",
    "            },\n",
    "        },\n",
    "        {\"class\": \"ReLU\", \"kargs\": {\"inplace\": True}},\n",
    "        {\"class\": \"BatchNorm2d\", \"kargs\": {\"num_features\": 80}},\n",
    "        {\"class\": \"Flatten\", \"kargs\": {}},\n",
    "        {\"class\": \"Linear\", \"kargs\": {\"in_features\": 20480, \"out_features\": 256}},\n",
    "        {\"class\": \"ReLU\", \"kargs\": {\"inplace\": True}},\n",
    "        {\"class\": \"BatchNorm1d\", \"kargs\": {\"num_features\": 256}},\n",
    "        {\"class\": \"Linear\", \"kargs\": {\"in_features\": 256, \"out_features\": 256}},\n",
    "    ],\n",
    "    \"NUM_LOGS_PER_EPOCH\": 10,\n",
    "    \"BEST_MODEL_PATH\": \"./best_model.pth\",\n",
    "    \"n_way\": 19,\n",
    "    \"datasets\": [\n",
    "        {\n",
    "            \"labels\": [\n",
    "                \"1-10\",\n",
    "                \"1-12\",\n",
    "                \"1-14\",\n",
    "                \"1-16\",\n",
    "                \"1-18\",\n",
    "                \"1-19\",\n",
    "                \"1-8\",\n",
    "                \"10-11\",\n",
    "                \"10-17\",\n",
    "                \"10-4\",\n",
    "                \"10-7\",\n",
    "                \"11-1\",\n",
    "                \"11-10\",\n",
    "                \"11-19\",\n",
    "                \"11-20\",\n",
    "                \"11-4\",\n",
    "                \"11-7\",\n",
    "                \"12-19\",\n",
    "                \"12-20\",\n",
    "                \"12-7\",\n",
    "                \"13-14\",\n",
    "                \"13-18\",\n",
    "                \"13-19\",\n",
    "                \"13-20\",\n",
    "                \"13-3\",\n",
    "                \"13-7\",\n",
    "                \"14-10\",\n",
    "                \"14-11\",\n",
    "                \"14-12\",\n",
    "                \"14-13\",\n",
    "                \"14-14\",\n",
    "                \"14-19\",\n",
    "                \"14-20\",\n",
    "                \"14-7\",\n",
    "                \"14-8\",\n",
    "                \"14-9\",\n",
    "                \"15-1\",\n",
    "                \"15-19\",\n",
    "                \"15-6\",\n",
    "                \"16-1\",\n",
    "                \"16-16\",\n",
    "                \"16-19\",\n",
    "                \"16-20\",\n",
    "                \"17-10\",\n",
    "                \"17-11\",\n",
    "                \"18-1\",\n",
    "                \"18-10\",\n",
    "                \"18-11\",\n",
    "                \"18-12\",\n",
    "                \"18-13\",\n",
    "                \"18-14\",\n",
    "                \"18-15\",\n",
    "                \"18-16\",\n",
    "                \"18-17\",\n",
    "                \"18-19\",\n",
    "                \"18-2\",\n",
    "                \"18-20\",\n",
    "                \"18-4\",\n",
    "                \"18-5\",\n",
    "                \"18-7\",\n",
    "                \"18-8\",\n",
    "                \"18-9\",\n",
    "                \"19-1\",\n",
    "                \"19-10\",\n",
    "                \"19-11\",\n",
    "                \"19-12\",\n",
    "                \"19-13\",\n",
    "                \"19-14\",\n",
    "                \"19-15\",\n",
    "                \"19-19\",\n",
    "                \"19-2\",\n",
    "                \"19-20\",\n",
    "                \"19-3\",\n",
    "                \"19-4\",\n",
    "                \"19-6\",\n",
    "                \"19-7\",\n",
    "                \"19-8\",\n",
    "                \"19-9\",\n",
    "                \"2-1\",\n",
    "                \"2-13\",\n",
    "                \"2-15\",\n",
    "                \"2-3\",\n",
    "                \"2-4\",\n",
    "                \"2-5\",\n",
    "                \"2-6\",\n",
    "                \"2-7\",\n",
    "                \"2-8\",\n",
    "                \"20-1\",\n",
    "                \"20-12\",\n",
    "                \"20-14\",\n",
    "                \"20-15\",\n",
    "                \"20-16\",\n",
    "                \"20-18\",\n",
    "                \"20-19\",\n",
    "                \"20-20\",\n",
    "                \"20-3\",\n",
    "                \"20-4\",\n",
    "                \"20-5\",\n",
    "                \"20-7\",\n",
    "                \"20-8\",\n",
    "                \"3-1\",\n",
    "                \"3-13\",\n",
    "                \"3-18\",\n",
    "                \"3-2\",\n",
    "                \"3-8\",\n",
    "                \"4-1\",\n",
    "                \"4-10\",\n",
    "                \"4-11\",\n",
    "                \"5-1\",\n",
    "                \"5-5\",\n",
    "                \"6-1\",\n",
    "                \"6-15\",\n",
    "                \"6-6\",\n",
    "                \"7-10\",\n",
    "                \"7-11\",\n",
    "                \"7-12\",\n",
    "                \"7-13\",\n",
    "                \"7-14\",\n",
    "                \"7-7\",\n",
    "                \"7-8\",\n",
    "                \"7-9\",\n",
    "                \"8-1\",\n",
    "                \"8-13\",\n",
    "                \"8-14\",\n",
    "                \"8-18\",\n",
    "                \"8-20\",\n",
    "                \"8-3\",\n",
    "                \"8-8\",\n",
    "                \"9-1\",\n",
    "                \"9-7\",\n",
    "            ],\n",
    "            \"domains\": [1, 2, 3, 4],\n",
    "            \"num_examples_per_domain_per_label\": 100,\n",
    "            \"pickle_path\": \"/mnt/wd500GB/CSC500/csc500-main/datasets/wisig.node3-19.stratified_ds.2022A.pkl\",\n",
    "            \"source_or_target_dataset\": \"source\",\n",
    "            \"x_transforms\": [\"unit_power\"],\n",
    "            \"episode_transforms\": [],\n",
    "            \"domain_prefix\": \"Wisig_\",\n",
    "        },\n",
    "        {\n",
    "            \"labels\": [\n",
    "                0,\n",
    "                1,\n",
    "                2,\n",
    "                3,\n",
    "                4,\n",
    "                5,\n",
    "                6,\n",
    "                7,\n",
    "                8,\n",
    "                9,\n",
    "                10,\n",
    "                11,\n",
    "                12,\n",
    "                13,\n",
    "                14,\n",
    "                15,\n",
    "                16,\n",
    "                17,\n",
    "                18,\n",
    "            ],\n",
    "            \"domains\": [0, 1, 2],\n",
    "            \"num_examples_per_domain_per_label\": 100,\n",
    "            \"pickle_path\": \"/mnt/wd500GB/CSC500/csc500-main/datasets/metehan.stratified_ds.2022A.pkl\",\n",
    "            \"source_or_target_dataset\": \"target\",\n",
    "            \"x_transforms\": [\"unit_power\"],\n",
    "            \"episode_transforms\": [],\n",
    "            \"domain_prefix\": \"Metehan_\",\n",
    "        },\n",
    "    ],\n",
    "}\n"
   ]
  },
  {
   "cell_type": "code",
   "execution_count": 5,
   "id": "8fa1cc33",
   "metadata": {
    "execution": {
     "iopub.execute_input": "2022-03-07T08:18:20.244129Z",
     "iopub.status.busy": "2022-03-07T08:18:20.243627Z",
     "iopub.status.idle": "2022-03-07T08:18:20.255038Z",
     "shell.execute_reply": "2022-03-07T08:18:20.255410Z"
    },
    "papermill": {
     "duration": 0.028143,
     "end_time": "2022-03-07T08:18:20.255541",
     "exception": false,
     "start_time": "2022-03-07T08:18:20.227398",
     "status": "completed"
    },
    "tags": []
   },
   "outputs": [],
   "source": [
    "# Set this to True if you want to run this template directly\n",
    "STANDALONE = False\n",
    "if STANDALONE:\n",
    "    print(\"parameters not injected, running with standalone_parameters\")\n",
    "    parameters = standalone_parameters\n",
    "\n",
    "if not 'parameters' in locals() and not 'parameters' in globals():\n",
    "    raise Exception(\"Parameter injection failed\")\n",
    "\n",
    "#Use an easy dict for all the parameters\n",
    "p = EasyDict(parameters)\n",
    "\n",
    "supplied_keys = set(p.keys())\n",
    "\n",
    "if  supplied_keys != required_parameters:\n",
    "    print(\"Parameters are incorrect\")\n",
    "    if len(supplied_keys - required_parameters)>0: print(\"Shouldn't have:\", str(supplied_keys - required_parameters))\n",
    "    if len(required_parameters - supplied_keys)>0: print(\"Need to have:\", str(required_parameters - supplied_keys))\n",
    "    raise RuntimeError(\"Parameters are incorrect\")\n",
    "\n"
   ]
  },
  {
   "cell_type": "code",
   "execution_count": 6,
   "id": "3a028d58",
   "metadata": {
    "execution": {
     "iopub.execute_input": "2022-03-07T08:18:20.289265Z",
     "iopub.status.busy": "2022-03-07T08:18:20.289005Z",
     "iopub.status.idle": "2022-03-07T08:18:20.297853Z",
     "shell.execute_reply": "2022-03-07T08:18:20.297459Z"
    },
    "papermill": {
     "duration": 0.023991,
     "end_time": "2022-03-07T08:18:20.297942",
     "exception": false,
     "start_time": "2022-03-07T08:18:20.273951",
     "status": "completed"
    },
    "tags": []
   },
   "outputs": [],
   "source": [
    "###################################\n",
    "# Set the RNGs and make it all deterministic\n",
    "###################################\n",
    "np.random.seed(p.seed)\n",
    "random.seed(p.seed)\n",
    "torch.manual_seed(p.seed)\n",
    "\n",
    "torch.use_deterministic_algorithms(True) "
   ]
  },
  {
   "cell_type": "code",
   "execution_count": 7,
   "id": "b691acf6",
   "metadata": {
    "execution": {
     "iopub.execute_input": "2022-03-07T08:18:20.328364Z",
     "iopub.status.busy": "2022-03-07T08:18:20.328109Z",
     "iopub.status.idle": "2022-03-07T08:18:20.340575Z",
     "shell.execute_reply": "2022-03-07T08:18:20.340977Z"
    },
    "papermill": {
     "duration": 0.027878,
     "end_time": "2022-03-07T08:18:20.341092",
     "exception": false,
     "start_time": "2022-03-07T08:18:20.313214",
     "status": "completed"
    },
    "tags": []
   },
   "outputs": [],
   "source": [
    "###########################################\n",
    "# The stratified datasets honor this\n",
    "###########################################\n",
    "torch.set_default_dtype(eval(p.torch_default_dtype))"
   ]
  },
  {
   "cell_type": "code",
   "execution_count": 8,
   "id": "b5fba671",
   "metadata": {
    "execution": {
     "iopub.execute_input": "2022-03-07T08:18:20.375027Z",
     "iopub.status.busy": "2022-03-07T08:18:20.374591Z",
     "iopub.status.idle": "2022-03-07T08:18:20.412293Z",
     "shell.execute_reply": "2022-03-07T08:18:20.412649Z"
    },
    "papermill": {
     "duration": 0.053093,
     "end_time": "2022-03-07T08:18:20.412755",
     "exception": false,
     "start_time": "2022-03-07T08:18:20.359662",
     "status": "completed"
    },
    "tags": []
   },
   "outputs": [],
   "source": [
    "###################################\n",
    "# Build the network(s)\n",
    "# Note: It's critical to do this AFTER setting the RNG\n",
    "###################################\n",
    "x_net = build_sequential(p.x_net)"
   ]
  },
  {
   "cell_type": "code",
   "execution_count": 9,
   "id": "5d7e61cc",
   "metadata": {
    "execution": {
     "iopub.execute_input": "2022-03-07T08:18:20.448158Z",
     "iopub.status.busy": "2022-03-07T08:18:20.447908Z",
     "iopub.status.idle": "2022-03-07T08:18:20.457955Z",
     "shell.execute_reply": "2022-03-07T08:18:20.458329Z"
    },
    "papermill": {
     "duration": 0.025815,
     "end_time": "2022-03-07T08:18:20.458432",
     "exception": false,
     "start_time": "2022-03-07T08:18:20.432617",
     "status": "completed"
    },
    "tags": []
   },
   "outputs": [],
   "source": [
    "start_time_secs = time.time()"
   ]
  },
  {
   "cell_type": "code",
   "execution_count": 10,
   "id": "c6b67dfd",
   "metadata": {
    "execution": {
     "iopub.execute_input": "2022-03-07T08:18:20.489748Z",
     "iopub.status.busy": "2022-03-07T08:18:20.489496Z",
     "iopub.status.idle": "2022-03-07T08:18:20.502245Z",
     "shell.execute_reply": "2022-03-07T08:18:20.501822Z"
    },
    "papermill": {
     "duration": 0.02859,
     "end_time": "2022-03-07T08:18:20.502340",
     "exception": false,
     "start_time": "2022-03-07T08:18:20.473750",
     "status": "completed"
    },
    "tags": []
   },
   "outputs": [],
   "source": [
    "p.domains_source = []\n",
    "p.domains_target = []\n",
    "\n",
    "\n",
    "train_original_source = []\n",
    "val_original_source   = []\n",
    "test_original_source  = []\n",
    "\n",
    "train_original_target = []\n",
    "val_original_target   = []\n",
    "test_original_target  = []"
   ]
  },
  {
   "cell_type": "code",
   "execution_count": 11,
   "id": "e3d9c3d3",
   "metadata": {
    "execution": {
     "iopub.execute_input": "2022-03-07T08:18:20.535614Z",
     "iopub.status.busy": "2022-03-07T08:18:20.535350Z",
     "iopub.status.idle": "2022-03-07T08:18:20.548697Z",
     "shell.execute_reply": "2022-03-07T08:18:20.549085Z"
    },
    "papermill": {
     "duration": 0.029018,
     "end_time": "2022-03-07T08:18:20.549202",
     "exception": false,
     "start_time": "2022-03-07T08:18:20.520184",
     "status": "completed"
    },
    "tags": []
   },
   "outputs": [],
   "source": [
    "# global_x_transform_func = lambda x: normalize(x.to(torch.get_default_dtype()), \"unit_power\") # unit_power, unit_mag\n",
    "# global_x_transform_func = lambda x: normalize(x, \"unit_power\") # unit_power, unit_mag"
   ]
  },
  {
   "cell_type": "code",
   "execution_count": 12,
   "id": "acb78fd2",
   "metadata": {
    "execution": {
     "iopub.execute_input": "2022-03-07T08:18:20.585913Z",
     "iopub.status.busy": "2022-03-07T08:18:20.585436Z",
     "iopub.status.idle": "2022-03-07T08:18:20.595529Z",
     "shell.execute_reply": "2022-03-07T08:18:20.595220Z"
    },
    "papermill": {
     "duration": 0.030655,
     "end_time": "2022-03-07T08:18:20.595600",
     "exception": false,
     "start_time": "2022-03-07T08:18:20.564945",
     "status": "completed"
    },
    "tags": []
   },
   "outputs": [],
   "source": [
    "def add_dataset(\n",
    "    labels,\n",
    "    domains,\n",
    "    pickle_path,\n",
    "    x_transforms,\n",
    "    episode_transforms,\n",
    "    domain_prefix,\n",
    "    num_examples_per_domain_per_label,\n",
    "    source_or_target_dataset:str,\n",
    "    iterator_seed=p.seed,\n",
    "    dataset_seed=p.dataset_seed,\n",
    "    n_shot=p.n_shot,\n",
    "    n_way=p.n_way,\n",
    "    n_query=p.n_query,\n",
    "    train_val_test_k_factors=(p.train_k_factor,p.val_k_factor,p.test_k_factor),\n",
    "):\n",
    "   \n",
    "    if x_transforms == []: x_transform = None\n",
    "    else: x_transform = get_chained_transform(x_transforms)\n",
    "    \n",
    "    if episode_transforms == []: episode_transform = None\n",
    "    else: raise Exception(\"episode_transforms not implemented\")\n",
    "    \n",
    "    episode_transform = lambda tup, _prefix=domain_prefix: (_prefix + str(tup[0]), tup[1])\n",
    "\n",
    "\n",
    "    eaf = Episodic_Accessor_Factory(\n",
    "        labels=labels,\n",
    "        domains=domains,\n",
    "        num_examples_per_domain_per_label=num_examples_per_domain_per_label,\n",
    "        iterator_seed=iterator_seed,\n",
    "        dataset_seed=dataset_seed,\n",
    "        n_shot=n_shot,\n",
    "        n_way=n_way,\n",
    "        n_query=n_query,\n",
    "        train_val_test_k_factors=train_val_test_k_factors,\n",
    "        pickle_path=pickle_path,\n",
    "        x_transform_func=x_transform,\n",
    "    )\n",
    "\n",
    "    train, val, test = eaf.get_train(), eaf.get_val(), eaf.get_test()\n",
    "    train = Lazy_Iterable_Wrapper(train, episode_transform)\n",
    "    val = Lazy_Iterable_Wrapper(val, episode_transform)\n",
    "    test = Lazy_Iterable_Wrapper(test, episode_transform)\n",
    "\n",
    "    if source_or_target_dataset==\"source\":\n",
    "        train_original_source.append(train)\n",
    "        val_original_source.append(val)\n",
    "        test_original_source.append(test)\n",
    "\n",
    "        p.domains_source.extend(\n",
    "            [domain_prefix + str(u) for u in domains]\n",
    "        )\n",
    "    elif source_or_target_dataset==\"target\":\n",
    "        train_original_target.append(train)\n",
    "        val_original_target.append(val)\n",
    "        test_original_target.append(test)\n",
    "        p.domains_target.extend(\n",
    "            [domain_prefix + str(u) for u in domains]\n",
    "        )\n",
    "    else:\n",
    "        raise Exception(f\"invalid source_or_target_dataset: {source_or_target_dataset}\")\n",
    "    "
   ]
  },
  {
   "cell_type": "code",
   "execution_count": 13,
   "id": "fe266617",
   "metadata": {
    "execution": {
     "iopub.execute_input": "2022-03-07T08:18:20.630134Z",
     "iopub.status.busy": "2022-03-07T08:18:20.629885Z",
     "iopub.status.idle": "2022-03-07T08:18:24.577805Z",
     "shell.execute_reply": "2022-03-07T08:18:24.577390Z"
    },
    "papermill": {
     "duration": 3.963691,
     "end_time": "2022-03-07T08:18:24.577913",
     "exception": false,
     "start_time": "2022-03-07T08:18:20.614222",
     "status": "completed"
    },
    "tags": []
   },
   "outputs": [],
   "source": [
    "for ds in p.datasets:\n",
    "    add_dataset(**ds)"
   ]
  },
  {
   "cell_type": "code",
   "execution_count": 14,
   "id": "b90d65ac",
   "metadata": {
    "execution": {
     "iopub.execute_input": "2022-03-07T08:18:24.611395Z",
     "iopub.status.busy": "2022-03-07T08:18:24.611137Z",
     "iopub.status.idle": "2022-03-07T08:18:24.622452Z",
     "shell.execute_reply": "2022-03-07T08:18:24.622139Z"
    },
    "papermill": {
     "duration": 0.02678,
     "end_time": "2022-03-07T08:18:24.622524",
     "exception": false,
     "start_time": "2022-03-07T08:18:24.595744",
     "status": "completed"
    },
    "tags": []
   },
   "outputs": [],
   "source": [
    "# from steves_utils.CORES.utils import (\n",
    "#     ALL_NODES,\n",
    "#     ALL_NODES_MINIMUM_1000_EXAMPLES,\n",
    "#     ALL_DAYS\n",
    "# )\n",
    "\n",
    "# add_dataset(\n",
    "#     labels=ALL_NODES,\n",
    "#     domains = ALL_DAYS,\n",
    "#     num_examples_per_domain_per_label=100,\n",
    "#     pickle_path=os.path.join(get_datasets_base_path(), \"cores.stratified_ds.2022A.pkl\"),\n",
    "#     source_or_target_dataset=\"target\",\n",
    "#     x_transform_func=global_x_transform_func,\n",
    "#     domain_modifier=lambda u: f\"cores_{u}\"\n",
    "# )"
   ]
  },
  {
   "cell_type": "code",
   "execution_count": 15,
   "id": "76db484d",
   "metadata": {
    "execution": {
     "iopub.execute_input": "2022-03-07T08:18:24.655213Z",
     "iopub.status.busy": "2022-03-07T08:18:24.654960Z",
     "iopub.status.idle": "2022-03-07T08:18:24.665315Z",
     "shell.execute_reply": "2022-03-07T08:18:24.665524Z"
    },
    "papermill": {
     "duration": 0.025943,
     "end_time": "2022-03-07T08:18:24.665582",
     "exception": false,
     "start_time": "2022-03-07T08:18:24.639639",
     "status": "completed"
    },
    "tags": []
   },
   "outputs": [],
   "source": [
    "# from steves_utils.ORACLE.utils_v2 import (\n",
    "#     ALL_DISTANCES_FEET,\n",
    "#     ALL_RUNS,\n",
    "#     ALL_SERIAL_NUMBERS,\n",
    "# )\n",
    "\n",
    "\n",
    "# add_dataset(\n",
    "#     labels=ALL_SERIAL_NUMBERS,\n",
    "#     domains = list(set(ALL_DISTANCES_FEET) - {2,62}),\n",
    "#     num_examples_per_domain_per_label=100,\n",
    "#     pickle_path=os.path.join(get_datasets_base_path(), \"oracle.Run2_framed_2000Examples_stratified_ds.2022A.pkl\"),\n",
    "#     source_or_target_dataset=\"source\",\n",
    "#     x_transform_func=global_x_transform_func,\n",
    "#     domain_modifier=lambda u: f\"oracle1_{u}\"\n",
    "# )\n"
   ]
  },
  {
   "cell_type": "code",
   "execution_count": 16,
   "id": "97dea9d2",
   "metadata": {
    "execution": {
     "iopub.execute_input": "2022-03-07T08:18:24.699007Z",
     "iopub.status.busy": "2022-03-07T08:18:24.698749Z",
     "iopub.status.idle": "2022-03-07T08:18:24.709288Z",
     "shell.execute_reply": "2022-03-07T08:18:24.709567Z"
    },
    "papermill": {
     "duration": 0.025738,
     "end_time": "2022-03-07T08:18:24.709649",
     "exception": false,
     "start_time": "2022-03-07T08:18:24.683911",
     "status": "completed"
    },
    "tags": []
   },
   "outputs": [],
   "source": [
    "# from steves_utils.ORACLE.utils_v2 import (\n",
    "#     ALL_DISTANCES_FEET,\n",
    "#     ALL_RUNS,\n",
    "#     ALL_SERIAL_NUMBERS,\n",
    "# )\n",
    "\n",
    "\n",
    "# add_dataset(\n",
    "#     labels=ALL_SERIAL_NUMBERS,\n",
    "#     domains = list(set(ALL_DISTANCES_FEET) - {2,62,56}),\n",
    "#     num_examples_per_domain_per_label=100,\n",
    "#     pickle_path=os.path.join(get_datasets_base_path(), \"oracle.Run2_framed_2000Examples_stratified_ds.2022A.pkl\"),\n",
    "#     source_or_target_dataset=\"source\",\n",
    "#     x_transform_func=global_x_transform_func,\n",
    "#     domain_modifier=lambda u: f\"oracle2_{u}\"\n",
    "# )"
   ]
  },
  {
   "cell_type": "code",
   "execution_count": 17,
   "id": "6f289866",
   "metadata": {
    "execution": {
     "iopub.execute_input": "2022-03-07T08:18:24.742558Z",
     "iopub.status.busy": "2022-03-07T08:18:24.742305Z",
     "iopub.status.idle": "2022-03-07T08:18:24.752777Z",
     "shell.execute_reply": "2022-03-07T08:18:24.752571Z"
    },
    "papermill": {
     "duration": 0.025391,
     "end_time": "2022-03-07T08:18:24.752826",
     "exception": false,
     "start_time": "2022-03-07T08:18:24.727435",
     "status": "completed"
    },
    "tags": []
   },
   "outputs": [],
   "source": [
    "# add_dataset(\n",
    "#     labels=list(range(19)),\n",
    "#     domains = [0,1,2],\n",
    "#     num_examples_per_domain_per_label=100,\n",
    "#     pickle_path=os.path.join(get_datasets_base_path(), \"metehan.stratified_ds.2022A.pkl\"),\n",
    "#     source_or_target_dataset=\"target\",\n",
    "#     x_transform_func=global_x_transform_func,\n",
    "#     domain_modifier=lambda u: f\"met_{u}\"\n",
    "# )"
   ]
  },
  {
   "cell_type": "code",
   "execution_count": 18,
   "id": "86a863c3",
   "metadata": {
    "execution": {
     "iopub.execute_input": "2022-03-07T08:18:24.786622Z",
     "iopub.status.busy": "2022-03-07T08:18:24.786370Z",
     "iopub.status.idle": "2022-03-07T08:18:24.797539Z",
     "shell.execute_reply": "2022-03-07T08:18:24.797889Z"
    },
    "papermill": {
     "duration": 0.0269,
     "end_time": "2022-03-07T08:18:24.797994",
     "exception": false,
     "start_time": "2022-03-07T08:18:24.771094",
     "status": "completed"
    },
    "tags": []
   },
   "outputs": [],
   "source": [
    "# # from steves_utils.wisig.utils import (\n",
    "# #     ALL_NODES_MINIMUM_100_EXAMPLES,\n",
    "# #     ALL_NODES_MINIMUM_500_EXAMPLES,\n",
    "# #     ALL_NODES_MINIMUM_1000_EXAMPLES,\n",
    "# #     ALL_DAYS\n",
    "# # )\n",
    "\n",
    "# import steves_utils.wisig.utils as wisig\n",
    "\n",
    "\n",
    "# add_dataset(\n",
    "#     labels=wisig.ALL_NODES_MINIMUM_100_EXAMPLES,\n",
    "#     domains = wisig.ALL_DAYS,\n",
    "#     num_examples_per_domain_per_label=100,\n",
    "#     pickle_path=os.path.join(get_datasets_base_path(), \"wisig.node3-19.stratified_ds.2022A.pkl\"),\n",
    "#     source_or_target_dataset=\"target\",\n",
    "#     x_transform_func=global_x_transform_func,\n",
    "#     domain_modifier=lambda u: f\"wisig_{u}\"\n",
    "# )"
   ]
  },
  {
   "cell_type": "code",
   "execution_count": 19,
   "id": "fd5442bc",
   "metadata": {
    "execution": {
     "iopub.execute_input": "2022-03-07T08:18:24.832592Z",
     "iopub.status.busy": "2022-03-07T08:18:24.832332Z",
     "iopub.status.idle": "2022-03-07T08:18:24.844529Z",
     "shell.execute_reply": "2022-03-07T08:18:24.844841Z"
    },
    "papermill": {
     "duration": 0.030995,
     "end_time": "2022-03-07T08:18:24.844946",
     "exception": false,
     "start_time": "2022-03-07T08:18:24.813951",
     "status": "completed"
    },
    "tags": []
   },
   "outputs": [],
   "source": [
    "###################################\n",
    "# Build the dataset\n",
    "###################################\n",
    "train_original_source = Iterable_Aggregator(train_original_source, p.seed)\n",
    "val_original_source = Iterable_Aggregator(val_original_source, p.seed)\n",
    "test_original_source = Iterable_Aggregator(test_original_source, p.seed)\n",
    "\n",
    "\n",
    "train_original_target = Iterable_Aggregator(train_original_target, p.seed)\n",
    "val_original_target = Iterable_Aggregator(val_original_target, p.seed)\n",
    "test_original_target = Iterable_Aggregator(test_original_target, p.seed)\n",
    "\n",
    "# For CNN We only use X and Y. And we only train on the source.\n",
    "# Properly form the data using a transform lambda and Lazy_Iterable_Wrapper. Finally wrap them in a dataloader\n",
    "\n",
    "transform_lambda = lambda ex: ex[1] # Original is (<domain>, <episode>) so we strip down to episode only\n",
    "\n",
    "train_processed_source = Lazy_Iterable_Wrapper(train_original_source, transform_lambda)\n",
    "val_processed_source   = Lazy_Iterable_Wrapper(val_original_source, transform_lambda)\n",
    "test_processed_source  = Lazy_Iterable_Wrapper(test_original_source, transform_lambda)\n",
    "\n",
    "train_processed_target = Lazy_Iterable_Wrapper(train_original_target, transform_lambda)\n",
    "val_processed_target   = Lazy_Iterable_Wrapper(val_original_target, transform_lambda)\n",
    "test_processed_target  = Lazy_Iterable_Wrapper(test_original_target, transform_lambda)\n",
    "\n",
    "datasets = EasyDict({\n",
    "    \"source\": {\n",
    "        \"original\": {\"train\":train_original_source, \"val\":val_original_source, \"test\":test_original_source},\n",
    "        \"processed\": {\"train\":train_processed_source, \"val\":val_processed_source, \"test\":test_processed_source}\n",
    "    },\n",
    "    \"target\": {\n",
    "        \"original\": {\"train\":train_original_target, \"val\":val_original_target, \"test\":test_original_target},\n",
    "        \"processed\": {\"train\":train_processed_target, \"val\":val_processed_target, \"test\":test_processed_target}\n",
    "    },\n",
    "})"
   ]
  },
  {
   "cell_type": "code",
   "execution_count": 20,
   "id": "5b3c01fc",
   "metadata": {
    "execution": {
     "iopub.execute_input": "2022-03-07T08:18:24.880618Z",
     "iopub.status.busy": "2022-03-07T08:18:24.880366Z",
     "iopub.status.idle": "2022-03-07T08:18:27.125278Z",
     "shell.execute_reply": "2022-03-07T08:18:27.125652Z"
    },
    "papermill": {
     "duration": 2.261992,
     "end_time": "2022-03-07T08:18:27.125759",
     "exception": false,
     "start_time": "2022-03-07T08:18:24.863767",
     "status": "completed"
    },
    "tags": []
   },
   "outputs": [
    {
     "name": "stdout",
     "output_type": "stream",
     "text": [
      "{'Wisig_2', 'Wisig_4', 'Wisig_3', 'Wisig_1'}\n"
     ]
    },
    {
     "name": "stdout",
     "output_type": "stream",
     "text": [
      "{'Metehan_2', 'Metehan_1', 'Metehan_0'}\n"
     ]
    },
    {
     "name": "stdout",
     "output_type": "stream",
     "text": [
      "tensor([[[ 0.0581,  0.0523, -0.1186,  ..., -0.1696,  0.0436,  0.3136],\n",
      "         [ 0.0399, -0.0075, -0.4210,  ...,  0.5658,  0.1140, -0.2248]],\n",
      "\n",
      "        [[ 1.0695, -0.1871, -1.2296,  ...,  0.6706, -0.2726, -1.1197],\n",
      "         [ 0.3552,  0.9957, -0.0448,  ...,  0.5670,  0.8557, -0.3234]],\n",
      "\n",
      "        [[ 0.0346, -0.1704, -0.2148,  ...,  0.1403,  0.0305,  0.4276],\n",
      "         [-0.0725,  0.0366, -0.7328,  ...,  0.1582, -0.2653, -0.6542]],\n",
      "\n",
      "        ...,\n",
      "\n",
      "        [[-0.1934,  0.3953,  0.0171,  ..., -0.3248,  0.0160, -0.2137],\n",
      "         [-0.0299, -0.0085,  0.6956,  ...,  0.5385,  0.8121,  1.0749]],\n",
      "\n",
      "        [[ 0.1379, -0.1584, -0.7434,  ..., -0.4956, -0.7908, -1.0483],\n",
      "         [-0.1853,  0.4568, -0.2263,  ..., -0.3448, -0.1875, -0.3534]],\n",
      "\n",
      "        [[-0.2580, -1.0624, -1.2842,  ...,  0.1603, -0.5715, -0.5191],\n",
      "         [ 1.0019,  0.7268,  0.0212,  ...,  0.9193,  1.1430,  0.5937]]])\n"
     ]
    }
   ],
   "source": [
    "from steves_utils.transforms import get_average_magnitude, get_average_power\n",
    "\n",
    "print(set([u for u,_ in val_original_source]))\n",
    "print(set([u for u,_ in val_original_target]))\n",
    "\n",
    "s_x, s_y, q_x, q_y, _ = next(iter(train_processed_source))\n",
    "print(s_x)\n",
    "\n",
    "# for ds in [\n",
    "#     train_processed_source,\n",
    "#     val_processed_source,\n",
    "#     test_processed_source,\n",
    "#     train_processed_target,\n",
    "#     val_processed_target,\n",
    "#     test_processed_target\n",
    "# ]:\n",
    "#     for s_x, s_y, q_x, q_y, _ in ds:\n",
    "#         for X in (s_x, q_x):\n",
    "#             for x in X:\n",
    "#                 assert np.isclose(get_average_magnitude(x.numpy()), 1.0)\n",
    "#                 assert np.isclose(get_average_power(x.numpy()), 1.0)\n",
    "                "
   ]
  },
  {
   "cell_type": "code",
   "execution_count": 21,
   "id": "bbdacba1",
   "metadata": {
    "execution": {
     "iopub.execute_input": "2022-03-07T08:18:27.162397Z",
     "iopub.status.busy": "2022-03-07T08:18:27.162131Z",
     "iopub.status.idle": "2022-03-07T08:18:27.220564Z",
     "shell.execute_reply": "2022-03-07T08:18:27.220143Z"
    },
    "papermill": {
     "duration": 0.076249,
     "end_time": "2022-03-07T08:18:27.220659",
     "exception": false,
     "start_time": "2022-03-07T08:18:27.144410",
     "status": "completed"
    },
    "tags": []
   },
   "outputs": [
    {
     "name": "stdout",
     "output_type": "stream",
     "text": [
      "(2, 256)\n"
     ]
    }
   ],
   "source": [
    "###################################\n",
    "# Build the model\n",
    "###################################\n",
    "model = Steves_Prototypical_Network(x_net, device=p.device, x_shape=(2,256))\n",
    "optimizer = Adam(params=model.parameters(), lr=p.lr)"
   ]
  },
  {
   "cell_type": "code",
   "execution_count": 22,
   "id": "22b39ac5",
   "metadata": {
    "execution": {
     "iopub.execute_input": "2022-03-07T08:18:27.257614Z",
     "iopub.status.busy": "2022-03-07T08:18:27.257359Z",
     "iopub.status.idle": "2022-03-07T08:25:28.808508Z",
     "shell.execute_reply": "2022-03-07T08:25:28.808239Z"
    },
    "papermill": {
     "duration": 421.568559,
     "end_time": "2022-03-07T08:25:28.808570",
     "exception": false,
     "start_time": "2022-03-07T08:18:27.240011",
     "status": "completed"
    },
    "tags": []
   },
   "outputs": [
    {
     "name": "stdout",
     "output_type": "stream",
     "text": [
      "epoch: 1, [batch: 1 / 1128], examples_per_second: 233.3738, train_label_loss: 2.9111, \n"
     ]
    },
    {
     "name": "stdout",
     "output_type": "stream",
     "text": [
      "epoch: 1, [batch: 113 / 1128], examples_per_second: 3214.5801, train_label_loss: 0.3198, \n"
     ]
    },
    {
     "name": "stdout",
     "output_type": "stream",
     "text": [
      "epoch: 1, [batch: 226 / 1128], examples_per_second: 3252.7382, train_label_loss: 0.6951, \n"
     ]
    },
    {
     "name": "stdout",
     "output_type": "stream",
     "text": [
      "epoch: 1, [batch: 339 / 1128], examples_per_second: 3256.2539, train_label_loss: 0.5229, \n"
     ]
    },
    {
     "name": "stdout",
     "output_type": "stream",
     "text": [
      "epoch: 1, [batch: 451 / 1128], examples_per_second: 3251.3679, train_label_loss: 0.1969, \n"
     ]
    },
    {
     "name": "stdout",
     "output_type": "stream",
     "text": [
      "epoch: 1, [batch: 564 / 1128], examples_per_second: 3248.9064, train_label_loss: 0.2664, \n"
     ]
    },
    {
     "name": "stdout",
     "output_type": "stream",
     "text": [
      "epoch: 1, [batch: 677 / 1128], examples_per_second: 3240.5003, train_label_loss: 0.0778, \n"
     ]
    },
    {
     "name": "stdout",
     "output_type": "stream",
     "text": [
      "epoch: 1, [batch: 789 / 1128], examples_per_second: 3230.7866, train_label_loss: 0.1576, \n"
     ]
    },
    {
     "name": "stdout",
     "output_type": "stream",
     "text": [
      "epoch: 1, [batch: 902 / 1128], examples_per_second: 3246.5079, train_label_loss: 0.6934, \n"
     ]
    },
    {
     "name": "stdout",
     "output_type": "stream",
     "text": [
      "epoch: 1, [batch: 1015 / 1128], examples_per_second: 3249.1772, train_label_loss: 0.1314, \n"
     ]
    },
    {
     "name": "stdout",
     "output_type": "stream",
     "text": [
      "=============================================================\n",
      "epoch: 1, source_val_acc_label: 0.9263, target_val_acc_label: 0.3363, source_val_label_loss: 0.3028, target_val_label_loss: 2.6964, \n",
      "=============================================================\n"
     ]
    },
    {
     "name": "stdout",
     "output_type": "stream",
     "text": [
      "New best\n"
     ]
    },
    {
     "name": "stdout",
     "output_type": "stream",
     "text": [
      "epoch: 2, [batch: 1 / 1128], examples_per_second: 32.9783, train_label_loss: 0.0626, \n"
     ]
    },
    {
     "name": "stdout",
     "output_type": "stream",
     "text": [
      "epoch: 2, [batch: 113 / 1128], examples_per_second: 3258.8404, train_label_loss: 0.4342, \n"
     ]
    },
    {
     "name": "stdout",
     "output_type": "stream",
     "text": [
      "epoch: 2, [batch: 226 / 1128], examples_per_second: 3287.6445, train_label_loss: 0.5278, \n"
     ]
    },
    {
     "name": "stdout",
     "output_type": "stream",
     "text": [
      "epoch: 2, [batch: 339 / 1128], examples_per_second: 3290.3130, train_label_loss: 0.0874, \n"
     ]
    },
    {
     "name": "stdout",
     "output_type": "stream",
     "text": [
      "epoch: 2, [batch: 451 / 1128], examples_per_second: 3277.0659, train_label_loss: 0.0484, \n"
     ]
    },
    {
     "name": "stdout",
     "output_type": "stream",
     "text": [
      "epoch: 2, [batch: 564 / 1128], examples_per_second: 3259.4130, train_label_loss: 0.0495, \n"
     ]
    },
    {
     "name": "stdout",
     "output_type": "stream",
     "text": [
      "epoch: 2, [batch: 677 / 1128], examples_per_second: 3258.2136, train_label_loss: 0.0666, \n"
     ]
    },
    {
     "name": "stdout",
     "output_type": "stream",
     "text": [
      "epoch: 2, [batch: 789 / 1128], examples_per_second: 3243.2132, train_label_loss: 0.3850, \n"
     ]
    },
    {
     "name": "stdout",
     "output_type": "stream",
     "text": [
      "epoch: 2, [batch: 902 / 1128], examples_per_second: 3259.0239, train_label_loss: 0.0560, \n"
     ]
    },
    {
     "name": "stdout",
     "output_type": "stream",
     "text": [
      "epoch: 2, [batch: 1015 / 1128], examples_per_second: 3257.8659, train_label_loss: 0.0304, \n"
     ]
    },
    {
     "name": "stdout",
     "output_type": "stream",
     "text": [
      "=============================================================\n",
      "epoch: 2, source_val_acc_label: 0.9447, target_val_acc_label: 0.3304, source_val_label_loss: 0.2453, target_val_label_loss: 2.6704, \n",
      "=============================================================\n"
     ]
    },
    {
     "name": "stdout",
     "output_type": "stream",
     "text": [
      "New best\n"
     ]
    },
    {
     "name": "stdout",
     "output_type": "stream",
     "text": [
      "epoch: 3, [batch: 1 / 1131], examples_per_second: 33.1289, train_label_loss: 0.1596, \n"
     ]
    },
    {
     "name": "stdout",
     "output_type": "stream",
     "text": [
      "epoch: 3, [batch: 114 / 1131], examples_per_second: 3279.1936, train_label_loss: 0.1010, \n"
     ]
    },
    {
     "name": "stdout",
     "output_type": "stream",
     "text": [
      "epoch: 3, [batch: 227 / 1131], examples_per_second: 3310.0569, train_label_loss: 0.0360, \n"
     ]
    },
    {
     "name": "stdout",
     "output_type": "stream",
     "text": [
      "epoch: 3, [batch: 340 / 1131], examples_per_second: 3304.3823, train_label_loss: 0.1892, \n"
     ]
    },
    {
     "name": "stdout",
     "output_type": "stream",
     "text": [
      "epoch: 3, [batch: 453 / 1131], examples_per_second: 3273.8318, train_label_loss: 0.0730, \n"
     ]
    },
    {
     "name": "stdout",
     "output_type": "stream",
     "text": [
      "epoch: 3, [batch: 566 / 1131], examples_per_second: 3282.7167, train_label_loss: 0.0490, \n"
     ]
    },
    {
     "name": "stdout",
     "output_type": "stream",
     "text": [
      "epoch: 3, [batch: 679 / 1131], examples_per_second: 3287.3462, train_label_loss: 0.2477, \n"
     ]
    },
    {
     "name": "stdout",
     "output_type": "stream",
     "text": [
      "epoch: 3, [batch: 792 / 1131], examples_per_second: 3276.6347, train_label_loss: 0.1488, \n"
     ]
    },
    {
     "name": "stdout",
     "output_type": "stream",
     "text": [
      "epoch: 3, [batch: 905 / 1131], examples_per_second: 3292.8600, train_label_loss: 0.4718, \n"
     ]
    },
    {
     "name": "stdout",
     "output_type": "stream",
     "text": [
      "epoch: 3, [batch: 1018 / 1131], examples_per_second: 3258.1912, train_label_loss: 0.0058, \n"
     ]
    },
    {
     "name": "stdout",
     "output_type": "stream",
     "text": [
      "=============================================================\n",
      "epoch: 3, source_val_acc_label: 0.9488, target_val_acc_label: 0.3377, source_val_label_loss: 0.2207, target_val_label_loss: 2.6137, \n",
      "=============================================================\n"
     ]
    },
    {
     "name": "stdout",
     "output_type": "stream",
     "text": [
      "New best\n"
     ]
    },
    {
     "name": "stdout",
     "output_type": "stream",
     "text": [
      "epoch: 4, [batch: 1 / 1128], examples_per_second: 32.7904, train_label_loss: 0.0068, \n"
     ]
    },
    {
     "name": "stdout",
     "output_type": "stream",
     "text": [
      "epoch: 4, [batch: 113 / 1128], examples_per_second: 3267.0599, train_label_loss: 0.1326, \n"
     ]
    },
    {
     "name": "stdout",
     "output_type": "stream",
     "text": [
      "epoch: 4, [batch: 226 / 1128], examples_per_second: 3303.6831, train_label_loss: 0.0408, \n"
     ]
    },
    {
     "name": "stdout",
     "output_type": "stream",
     "text": [
      "epoch: 4, [batch: 339 / 1128], examples_per_second: 3279.1951, train_label_loss: 0.3011, \n"
     ]
    },
    {
     "name": "stdout",
     "output_type": "stream",
     "text": [
      "epoch: 4, [batch: 451 / 1128], examples_per_second: 3294.8730, train_label_loss: 0.3407, \n"
     ]
    },
    {
     "name": "stdout",
     "output_type": "stream",
     "text": [
      "epoch: 4, [batch: 564 / 1128], examples_per_second: 3298.5391, train_label_loss: 0.1824, \n"
     ]
    },
    {
     "name": "stdout",
     "output_type": "stream",
     "text": [
      "epoch: 4, [batch: 677 / 1128], examples_per_second: 3287.3181, train_label_loss: 0.1892, \n"
     ]
    },
    {
     "name": "stdout",
     "output_type": "stream",
     "text": [
      "epoch: 4, [batch: 789 / 1128], examples_per_second: 3280.5968, train_label_loss: 0.0033, \n"
     ]
    },
    {
     "name": "stdout",
     "output_type": "stream",
     "text": [
      "epoch: 4, [batch: 902 / 1128], examples_per_second: 3299.2417, train_label_loss: 0.0698, \n"
     ]
    },
    {
     "name": "stdout",
     "output_type": "stream",
     "text": [
      "epoch: 4, [batch: 1015 / 1128], examples_per_second: 3309.7783, train_label_loss: 0.1980, \n"
     ]
    },
    {
     "name": "stdout",
     "output_type": "stream",
     "text": [
      "=============================================================\n",
      "epoch: 4, source_val_acc_label: 0.9535, target_val_acc_label: 0.3553, source_val_label_loss: 0.2282, target_val_label_loss: 2.5034, \n",
      "=============================================================\n"
     ]
    },
    {
     "name": "stdout",
     "output_type": "stream",
     "text": [
      "New best\n"
     ]
    },
    {
     "name": "stdout",
     "output_type": "stream",
     "text": [
      "epoch: 5, [batch: 1 / 1128], examples_per_second: 33.2441, train_label_loss: 0.0208, \n"
     ]
    },
    {
     "name": "stdout",
     "output_type": "stream",
     "text": [
      "epoch: 5, [batch: 113 / 1128], examples_per_second: 3218.8286, train_label_loss: 0.0976, \n"
     ]
    },
    {
     "name": "stdout",
     "output_type": "stream",
     "text": [
      "epoch: 5, [batch: 226 / 1128], examples_per_second: 3260.7988, train_label_loss: 0.1498, \n"
     ]
    },
    {
     "name": "stdout",
     "output_type": "stream",
     "text": [
      "epoch: 5, [batch: 339 / 1128], examples_per_second: 3304.4526, train_label_loss: 0.0452, \n"
     ]
    },
    {
     "name": "stdout",
     "output_type": "stream",
     "text": [
      "epoch: 5, [batch: 451 / 1128], examples_per_second: 3246.4045, train_label_loss: 0.1543, \n"
     ]
    },
    {
     "name": "stdout",
     "output_type": "stream",
     "text": [
      "epoch: 5, [batch: 564 / 1128], examples_per_second: 3290.9363, train_label_loss: 0.0239, \n"
     ]
    },
    {
     "name": "stdout",
     "output_type": "stream",
     "text": [
      "epoch: 5, [batch: 677 / 1128], examples_per_second: 3255.3656, train_label_loss: 0.2278, \n"
     ]
    },
    {
     "name": "stdout",
     "output_type": "stream",
     "text": [
      "epoch: 5, [batch: 789 / 1128], examples_per_second: 3254.7778, train_label_loss: 0.0534, \n"
     ]
    },
    {
     "name": "stdout",
     "output_type": "stream",
     "text": [
      "epoch: 5, [batch: 902 / 1128], examples_per_second: 3254.0067, train_label_loss: 0.0857, \n"
     ]
    },
    {
     "name": "stdout",
     "output_type": "stream",
     "text": [
      "epoch: 5, [batch: 1015 / 1128], examples_per_second: 3271.3721, train_label_loss: 0.2996, \n"
     ]
    },
    {
     "name": "stdout",
     "output_type": "stream",
     "text": [
      "=============================================================\n",
      "epoch: 5, source_val_acc_label: 0.9498, target_val_acc_label: 0.3713, source_val_label_loss: 0.2276, target_val_label_loss: 2.5221, \n",
      "=============================================================\n"
     ]
    },
    {
     "name": "stdout",
     "output_type": "stream",
     "text": [
      "epoch: 6, [batch: 1 / 1128], examples_per_second: 33.4482, train_label_loss: 0.2855, \n"
     ]
    },
    {
     "name": "stdout",
     "output_type": "stream",
     "text": [
      "epoch: 6, [batch: 113 / 1128], examples_per_second: 3273.5078, train_label_loss: 0.2736, \n"
     ]
    },
    {
     "name": "stdout",
     "output_type": "stream",
     "text": [
      "epoch: 6, [batch: 226 / 1128], examples_per_second: 3288.1879, train_label_loss: 0.2449, \n"
     ]
    },
    {
     "name": "stdout",
     "output_type": "stream",
     "text": [
      "epoch: 6, [batch: 339 / 1128], examples_per_second: 3299.0046, train_label_loss: 0.1973, \n"
     ]
    },
    {
     "name": "stdout",
     "output_type": "stream",
     "text": [
      "epoch: 6, [batch: 451 / 1128], examples_per_second: 3281.2550, train_label_loss: 0.0375, \n"
     ]
    },
    {
     "name": "stdout",
     "output_type": "stream",
     "text": [
      "epoch: 6, [batch: 564 / 1128], examples_per_second: 3295.6305, train_label_loss: 0.0343, \n"
     ]
    },
    {
     "name": "stdout",
     "output_type": "stream",
     "text": [
      "epoch: 6, [batch: 677 / 1128], examples_per_second: 3289.9365, train_label_loss: 0.1049, \n"
     ]
    },
    {
     "name": "stdout",
     "output_type": "stream",
     "text": [
      "epoch: 6, [batch: 789 / 1128], examples_per_second: 3288.0132, train_label_loss: 0.0618, \n"
     ]
    },
    {
     "name": "stdout",
     "output_type": "stream",
     "text": [
      "epoch: 6, [batch: 902 / 1128], examples_per_second: 3296.6109, train_label_loss: 0.0072, \n"
     ]
    },
    {
     "name": "stdout",
     "output_type": "stream",
     "text": [
      "epoch: 6, [batch: 1015 / 1128], examples_per_second: 3290.8488, train_label_loss: 0.2214, \n"
     ]
    },
    {
     "name": "stdout",
     "output_type": "stream",
     "text": [
      "=============================================================\n",
      "epoch: 6, source_val_acc_label: 0.9525, target_val_acc_label: 0.3436, source_val_label_loss: 0.2310, target_val_label_loss: 2.4984, \n",
      "=============================================================\n"
     ]
    },
    {
     "name": "stdout",
     "output_type": "stream",
     "text": [
      "New best\n"
     ]
    },
    {
     "name": "stdout",
     "output_type": "stream",
     "text": [
      "epoch: 7, [batch: 1 / 1129], examples_per_second: 33.0547, train_label_loss: 0.0066, \n"
     ]
    },
    {
     "name": "stdout",
     "output_type": "stream",
     "text": [
      "epoch: 7, [batch: 113 / 1129], examples_per_second: 3247.5598, train_label_loss: 0.0021, \n"
     ]
    },
    {
     "name": "stdout",
     "output_type": "stream",
     "text": [
      "epoch: 7, [batch: 226 / 1129], examples_per_second: 3256.4790, train_label_loss: 0.0135, \n"
     ]
    },
    {
     "name": "stdout",
     "output_type": "stream",
     "text": [
      "epoch: 7, [batch: 339 / 1129], examples_per_second: 3271.5385, train_label_loss: 0.1313, \n"
     ]
    },
    {
     "name": "stdout",
     "output_type": "stream",
     "text": [
      "epoch: 7, [batch: 452 / 1129], examples_per_second: 3246.0016, train_label_loss: 0.0181, \n"
     ]
    },
    {
     "name": "stdout",
     "output_type": "stream",
     "text": [
      "epoch: 7, [batch: 565 / 1129], examples_per_second: 3295.8320, train_label_loss: 0.0767, \n"
     ]
    },
    {
     "name": "stdout",
     "output_type": "stream",
     "text": [
      "epoch: 7, [batch: 677 / 1129], examples_per_second: 3286.9113, train_label_loss: 0.0023, \n"
     ]
    },
    {
     "name": "stdout",
     "output_type": "stream",
     "text": [
      "epoch: 7, [batch: 790 / 1129], examples_per_second: 3302.7447, train_label_loss: 0.1338, \n"
     ]
    },
    {
     "name": "stdout",
     "output_type": "stream",
     "text": [
      "epoch: 7, [batch: 903 / 1129], examples_per_second: 3313.6159, train_label_loss: 0.1295, \n"
     ]
    },
    {
     "name": "stdout",
     "output_type": "stream",
     "text": [
      "epoch: 7, [batch: 1016 / 1129], examples_per_second: 3313.7612, train_label_loss: 0.0191, \n"
     ]
    },
    {
     "name": "stdout",
     "output_type": "stream",
     "text": [
      "=============================================================\n",
      "epoch: 7, source_val_acc_label: 0.9546, target_val_acc_label: 0.3480, source_val_label_loss: 0.2351, target_val_label_loss: 2.4614, \n",
      "=============================================================\n"
     ]
    },
    {
     "name": "stdout",
     "output_type": "stream",
     "text": [
      "New best\n"
     ]
    },
    {
     "name": "stdout",
     "output_type": "stream",
     "text": [
      "epoch: 8, [batch: 1 / 1127], examples_per_second: 32.8411, train_label_loss: 0.1206, \n"
     ]
    },
    {
     "name": "stdout",
     "output_type": "stream",
     "text": [
      "epoch: 8, [batch: 113 / 1127], examples_per_second: 3293.3443, train_label_loss: 0.0025, \n"
     ]
    },
    {
     "name": "stdout",
     "output_type": "stream",
     "text": [
      "epoch: 8, [batch: 226 / 1127], examples_per_second: 3305.9991, train_label_loss: 0.0355, \n"
     ]
    },
    {
     "name": "stdout",
     "output_type": "stream",
     "text": [
      "epoch: 8, [batch: 338 / 1127], examples_per_second: 3307.8406, train_label_loss: 0.0067, \n"
     ]
    },
    {
     "name": "stdout",
     "output_type": "stream",
     "text": [
      "epoch: 8, [batch: 451 / 1127], examples_per_second: 3289.7824, train_label_loss: 0.0188, \n"
     ]
    },
    {
     "name": "stdout",
     "output_type": "stream",
     "text": [
      "epoch: 8, [batch: 564 / 1127], examples_per_second: 3288.1199, train_label_loss: 0.0684, \n"
     ]
    },
    {
     "name": "stdout",
     "output_type": "stream",
     "text": [
      "epoch: 8, [batch: 676 / 1127], examples_per_second: 3301.6924, train_label_loss: 0.0053, \n"
     ]
    },
    {
     "name": "stdout",
     "output_type": "stream",
     "text": [
      "epoch: 8, [batch: 789 / 1127], examples_per_second: 3269.6484, train_label_loss: 0.0379, \n"
     ]
    },
    {
     "name": "stdout",
     "output_type": "stream",
     "text": [
      "epoch: 8, [batch: 901 / 1127], examples_per_second: 3281.1698, train_label_loss: 0.0112, \n"
     ]
    },
    {
     "name": "stdout",
     "output_type": "stream",
     "text": [
      "epoch: 8, [batch: 1014 / 1127], examples_per_second: 3289.5252, train_label_loss: 0.2924, \n"
     ]
    },
    {
     "name": "stdout",
     "output_type": "stream",
     "text": [
      "=============================================================\n",
      "epoch: 8, source_val_acc_label: 0.9610, target_val_acc_label: 0.4678, source_val_label_loss: 0.2191, target_val_label_loss: 2.0506, \n",
      "=============================================================\n"
     ]
    },
    {
     "name": "stdout",
     "output_type": "stream",
     "text": [
      "New best\n"
     ]
    },
    {
     "name": "stdout",
     "output_type": "stream",
     "text": [
      "epoch: 9, [batch: 1 / 1127], examples_per_second: 32.9599, train_label_loss: 0.0012, \n"
     ]
    },
    {
     "name": "stdout",
     "output_type": "stream",
     "text": [
      "epoch: 9, [batch: 113 / 1127], examples_per_second: 3272.0325, train_label_loss: 0.0054, \n"
     ]
    },
    {
     "name": "stdout",
     "output_type": "stream",
     "text": [
      "epoch: 9, [batch: 226 / 1127], examples_per_second: 3313.1892, train_label_loss: 0.0171, \n"
     ]
    },
    {
     "name": "stdout",
     "output_type": "stream",
     "text": [
      "epoch: 9, [batch: 338 / 1127], examples_per_second: 3307.4692, train_label_loss: 0.0026, \n"
     ]
    },
    {
     "name": "stdout",
     "output_type": "stream",
     "text": [
      "epoch: 9, [batch: 451 / 1127], examples_per_second: 3290.0882, train_label_loss: 0.0421, \n"
     ]
    },
    {
     "name": "stdout",
     "output_type": "stream",
     "text": [
      "epoch: 9, [batch: 564 / 1127], examples_per_second: 3301.2862, train_label_loss: 0.0447, \n"
     ]
    },
    {
     "name": "stdout",
     "output_type": "stream",
     "text": [
      "epoch: 9, [batch: 676 / 1127], examples_per_second: 3282.9208, train_label_loss: 0.0014, \n"
     ]
    },
    {
     "name": "stdout",
     "output_type": "stream",
     "text": [
      "epoch: 9, [batch: 789 / 1127], examples_per_second: 3290.7136, train_label_loss: 0.2892, \n"
     ]
    },
    {
     "name": "stdout",
     "output_type": "stream",
     "text": [
      "epoch: 9, [batch: 901 / 1127], examples_per_second: 3295.2465, train_label_loss: 0.0379, \n"
     ]
    },
    {
     "name": "stdout",
     "output_type": "stream",
     "text": [
      "epoch: 9, [batch: 1014 / 1127], examples_per_second: 3311.9110, train_label_loss: 0.0014, \n"
     ]
    },
    {
     "name": "stdout",
     "output_type": "stream",
     "text": [
      "=============================================================\n",
      "epoch: 9, source_val_acc_label: 0.9592, target_val_acc_label: 0.3801, source_val_label_loss: 0.2361, target_val_label_loss: 2.3310, \n",
      "=============================================================\n"
     ]
    },
    {
     "name": "stdout",
     "output_type": "stream",
     "text": [
      "epoch: 10, [batch: 1 / 1129], examples_per_second: 33.4884, train_label_loss: 0.0406, \n"
     ]
    },
    {
     "name": "stdout",
     "output_type": "stream",
     "text": [
      "epoch: 10, [batch: 113 / 1129], examples_per_second: 3281.5202, train_label_loss: 0.0026, \n"
     ]
    },
    {
     "name": "stdout",
     "output_type": "stream",
     "text": [
      "epoch: 10, [batch: 226 / 1129], examples_per_second: 3293.1004, train_label_loss: 0.0617, \n"
     ]
    },
    {
     "name": "stdout",
     "output_type": "stream",
     "text": [
      "epoch: 10, [batch: 339 / 1129], examples_per_second: 3296.8984, train_label_loss: 0.0148, \n"
     ]
    },
    {
     "name": "stdout",
     "output_type": "stream",
     "text": [
      "epoch: 10, [batch: 452 / 1129], examples_per_second: 3274.6864, train_label_loss: 0.0001, \n"
     ]
    },
    {
     "name": "stdout",
     "output_type": "stream",
     "text": [
      "epoch: 10, [batch: 565 / 1129], examples_per_second: 3282.9812, train_label_loss: 0.2201, \n"
     ]
    },
    {
     "name": "stdout",
     "output_type": "stream",
     "text": [
      "epoch: 10, [batch: 677 / 1129], examples_per_second: 3294.0695, train_label_loss: 0.3605, \n"
     ]
    },
    {
     "name": "stdout",
     "output_type": "stream",
     "text": [
      "epoch: 10, [batch: 790 / 1129], examples_per_second: 3279.6890, train_label_loss: 0.0226, \n"
     ]
    },
    {
     "name": "stdout",
     "output_type": "stream",
     "text": [
      "epoch: 10, [batch: 903 / 1129], examples_per_second: 3276.5489, train_label_loss: 0.2894, \n"
     ]
    },
    {
     "name": "stdout",
     "output_type": "stream",
     "text": [
      "epoch: 10, [batch: 1016 / 1129], examples_per_second: 3286.4257, train_label_loss: 0.1228, \n"
     ]
    },
    {
     "name": "stdout",
     "output_type": "stream",
     "text": [
      "=============================================================\n",
      "epoch: 10, source_val_acc_label: 0.9582, target_val_acc_label: 0.3860, source_val_label_loss: 0.2535, target_val_label_loss: 2.3150, \n",
      "=============================================================\n"
     ]
    },
    {
     "name": "stdout",
     "output_type": "stream",
     "text": [
      "epoch: 11, [batch: 1 / 1130], examples_per_second: 33.4216, train_label_loss: 0.0003, \n"
     ]
    },
    {
     "name": "stdout",
     "output_type": "stream",
     "text": [
      "epoch: 11, [batch: 113 / 1130], examples_per_second: 3276.8197, train_label_loss: 0.0399, \n"
     ]
    },
    {
     "name": "stdout",
     "output_type": "stream",
     "text": [
      "epoch: 11, [batch: 226 / 1130], examples_per_second: 3279.9403, train_label_loss: 0.0020, \n"
     ]
    },
    {
     "name": "stdout",
     "output_type": "stream",
     "text": [
      "epoch: 11, [batch: 339 / 1130], examples_per_second: 3286.5781, train_label_loss: 0.4435, \n"
     ]
    },
    {
     "name": "stdout",
     "output_type": "stream",
     "text": [
      "epoch: 11, [batch: 452 / 1130], examples_per_second: 3272.4073, train_label_loss: 0.0024, \n"
     ]
    },
    {
     "name": "stdout",
     "output_type": "stream",
     "text": [
      "epoch: 11, [batch: 565 / 1130], examples_per_second: 3293.5022, train_label_loss: 0.2031, \n"
     ]
    },
    {
     "name": "stdout",
     "output_type": "stream",
     "text": [
      "epoch: 11, [batch: 678 / 1130], examples_per_second: 3299.4010, train_label_loss: 0.1246, \n"
     ]
    },
    {
     "name": "stdout",
     "output_type": "stream",
     "text": [
      "epoch: 11, [batch: 791 / 1130], examples_per_second: 3280.4895, train_label_loss: 0.3919, \n"
     ]
    },
    {
     "name": "stdout",
     "output_type": "stream",
     "text": [
      "epoch: 11, [batch: 904 / 1130], examples_per_second: 3260.5433, train_label_loss: 0.1014, \n"
     ]
    },
    {
     "name": "stdout",
     "output_type": "stream",
     "text": [
      "epoch: 11, [batch: 1017 / 1130], examples_per_second: 3278.8555, train_label_loss: 0.2027, \n"
     ]
    },
    {
     "name": "stdout",
     "output_type": "stream",
     "text": [
      "=============================================================\n",
      "epoch: 11, source_val_acc_label: 0.9609, target_val_acc_label: 0.3684, source_val_label_loss: 0.2683, target_val_label_loss: 2.1551, \n",
      "=============================================================\n"
     ]
    },
    {
     "name": "stdout",
     "output_type": "stream",
     "text": [
      "epoch: 12, [batch: 1 / 1131], examples_per_second: 33.3214, train_label_loss: 0.0119, \n"
     ]
    },
    {
     "name": "stdout",
     "output_type": "stream",
     "text": [
      "epoch: 12, [batch: 114 / 1131], examples_per_second: 3252.2587, train_label_loss: 0.1231, \n"
     ]
    },
    {
     "name": "stdout",
     "output_type": "stream",
     "text": [
      "epoch: 12, [batch: 227 / 1131], examples_per_second: 3257.9894, train_label_loss: 0.0671, \n"
     ]
    },
    {
     "name": "stdout",
     "output_type": "stream",
     "text": [
      "epoch: 12, [batch: 340 / 1131], examples_per_second: 3264.3326, train_label_loss: 0.0448, \n"
     ]
    },
    {
     "name": "stdout",
     "output_type": "stream",
     "text": [
      "epoch: 12, [batch: 453 / 1131], examples_per_second: 3291.8212, train_label_loss: 0.0034, \n"
     ]
    },
    {
     "name": "stdout",
     "output_type": "stream",
     "text": [
      "epoch: 12, [batch: 566 / 1131], examples_per_second: 3293.4176, train_label_loss: 0.0267, \n"
     ]
    },
    {
     "name": "stdout",
     "output_type": "stream",
     "text": [
      "epoch: 12, [batch: 679 / 1131], examples_per_second: 3282.5544, train_label_loss: 0.0232, \n"
     ]
    },
    {
     "name": "stdout",
     "output_type": "stream",
     "text": [
      "epoch: 12, [batch: 792 / 1131], examples_per_second: 3276.7392, train_label_loss: 0.0600, \n"
     ]
    },
    {
     "name": "stdout",
     "output_type": "stream",
     "text": [
      "epoch: 12, [batch: 905 / 1131], examples_per_second: 3291.8600, train_label_loss: 0.0024, \n"
     ]
    },
    {
     "name": "stdout",
     "output_type": "stream",
     "text": [
      "epoch: 12, [batch: 1018 / 1131], examples_per_second: 3287.4083, train_label_loss: 0.0073, \n"
     ]
    },
    {
     "name": "stdout",
     "output_type": "stream",
     "text": [
      "=============================================================\n",
      "epoch: 12, source_val_acc_label: 0.9607, target_val_acc_label: 0.3173, source_val_label_loss: 0.2652, target_val_label_loss: 2.3244, \n",
      "=============================================================\n"
     ]
    },
    {
     "name": "stdout",
     "output_type": "stream",
     "text": [
      "Patience (3) exhausted\n"
     ]
    }
   ],
   "source": [
    "###################################\n",
    "# train\n",
    "###################################\n",
    "jig = PTN_Train_Eval_Test_Jig(model, p.BEST_MODEL_PATH, p.device)\n",
    "\n",
    "jig.train(\n",
    "    train_iterable=datasets.source.processed.train,\n",
    "    source_val_iterable=datasets.source.processed.val,\n",
    "    target_val_iterable=datasets.target.processed.val,\n",
    "    num_epochs=p.n_epoch,\n",
    "    num_logs_per_epoch=p.NUM_LOGS_PER_EPOCH,\n",
    "    patience=p.patience,\n",
    "    optimizer=optimizer,\n",
    "    criteria_for_best=p.criteria_for_best,\n",
    ")"
   ]
  },
  {
   "cell_type": "code",
   "execution_count": 23,
   "id": "31e8fabf",
   "metadata": {
    "execution": {
     "iopub.execute_input": "2022-03-07T08:25:28.888080Z",
     "iopub.status.busy": "2022-03-07T08:25:28.887823Z",
     "iopub.status.idle": "2022-03-07T08:25:28.904586Z",
     "shell.execute_reply": "2022-03-07T08:25:28.904115Z"
    },
    "papermill": {
     "duration": 0.058008,
     "end_time": "2022-03-07T08:25:28.904695",
     "exception": false,
     "start_time": "2022-03-07T08:25:28.846687",
     "status": "completed"
    },
    "tags": []
   },
   "outputs": [],
   "source": [
    "total_experiment_time_secs = time.time() - start_time_secs"
   ]
  },
  {
   "cell_type": "code",
   "execution_count": 24,
   "id": "87b9595b",
   "metadata": {
    "execution": {
     "iopub.execute_input": "2022-03-07T08:25:28.992519Z",
     "iopub.status.busy": "2022-03-07T08:25:28.992250Z",
     "iopub.status.idle": "2022-03-07T08:25:40.313885Z",
     "shell.execute_reply": "2022-03-07T08:25:40.313342Z"
    },
    "papermill": {
     "duration": 11.365176,
     "end_time": "2022-03-07T08:25:40.314002",
     "exception": false,
     "start_time": "2022-03-07T08:25:28.948826",
     "status": "completed"
    },
    "tags": []
   },
   "outputs": [],
   "source": [
    "###################################\n",
    "# Evaluate the model\n",
    "###################################\n",
    "source_test_label_accuracy, source_test_label_loss = jig.test(datasets.source.processed.test)\n",
    "target_test_label_accuracy, target_test_label_loss = jig.test(datasets.target.processed.test)\n",
    "\n",
    "source_val_label_accuracy, source_val_label_loss = jig.test(datasets.source.processed.val)\n",
    "target_val_label_accuracy, target_val_label_loss = jig.test(datasets.target.processed.val)\n",
    "\n",
    "history = jig.get_history()\n",
    "\n",
    "total_epochs_trained = len(history[\"epoch_indices\"])\n",
    "\n",
    "val_dl = Iterable_Aggregator((datasets.source.original.val,datasets.target.original.val))\n",
    "\n",
    "confusion = ptn_confusion_by_domain_over_dataloader(model, p.device, val_dl)\n",
    "per_domain_accuracy = per_domain_accuracy_from_confusion(confusion)\n",
    "\n",
    "# Add a key to per_domain_accuracy for if it was a source domain\n",
    "for domain, accuracy in per_domain_accuracy.items():\n",
    "    per_domain_accuracy[domain] = {\n",
    "        \"accuracy\": accuracy,\n",
    "        \"source?\": domain in p.domains_source\n",
    "    }\n",
    "\n",
    "# Do an independent accuracy assesment JUST TO BE SURE!\n",
    "# _source_test_label_accuracy = independent_accuracy_assesment(model, datasets.source.processed.test, p.device)\n",
    "# _target_test_label_accuracy = independent_accuracy_assesment(model, datasets.target.processed.test, p.device)\n",
    "# _source_val_label_accuracy = independent_accuracy_assesment(model, datasets.source.processed.val, p.device)\n",
    "# _target_val_label_accuracy = independent_accuracy_assesment(model, datasets.target.processed.val, p.device)\n",
    "\n",
    "# assert(_source_test_label_accuracy == source_test_label_accuracy)\n",
    "# assert(_target_test_label_accuracy == target_test_label_accuracy)\n",
    "# assert(_source_val_label_accuracy == source_val_label_accuracy)\n",
    "# assert(_target_val_label_accuracy == target_val_label_accuracy)\n",
    "\n",
    "experiment = {\n",
    "    \"experiment_name\": p.experiment_name,\n",
    "    \"parameters\": dict(p),\n",
    "    \"results\": {\n",
    "        \"source_test_label_accuracy\": source_test_label_accuracy,\n",
    "        \"source_test_label_loss\": source_test_label_loss,\n",
    "        \"target_test_label_accuracy\": target_test_label_accuracy,\n",
    "        \"target_test_label_loss\": target_test_label_loss,\n",
    "        \"source_val_label_accuracy\": source_val_label_accuracy,\n",
    "        \"source_val_label_loss\": source_val_label_loss,\n",
    "        \"target_val_label_accuracy\": target_val_label_accuracy,\n",
    "        \"target_val_label_loss\": target_val_label_loss,\n",
    "        \"total_epochs_trained\": total_epochs_trained,\n",
    "        \"total_experiment_time_secs\": total_experiment_time_secs,\n",
    "        \"confusion\": confusion,\n",
    "        \"per_domain_accuracy\": per_domain_accuracy,\n",
    "    },\n",
    "    \"history\": history,\n",
    "    \"dataset_metrics\": get_dataset_metrics(datasets, \"ptn\"),\n",
    "}"
   ]
  },
  {
   "cell_type": "code",
   "execution_count": 25,
   "id": "54a21829",
   "metadata": {
    "execution": {
     "iopub.execute_input": "2022-03-07T08:25:40.400948Z",
     "iopub.status.busy": "2022-03-07T08:25:40.400684Z",
     "iopub.status.idle": "2022-03-07T08:25:40.581753Z",
     "shell.execute_reply": "2022-03-07T08:25:40.582168Z"
    },
    "papermill": {
     "duration": 0.222383,
     "end_time": "2022-03-07T08:25:40.582296",
     "exception": false,
     "start_time": "2022-03-07T08:25:40.359913",
     "status": "completed"
    },
    "tags": []
   },
   "outputs": [
    {
     "data": {
      "image/png": "[encoded data removed]",
      "text/plain": [
       "<Figure size 1080x504 with 1 Axes>"
      ]
     },
     "metadata": {
      "needs_background": "light"
     },
     "output_type": "display_data"
    }
   ],
   "source": [
    "ax = get_loss_curve(experiment)\n",
    "plt.show()"
   ]
  },
  {
   "cell_type": "code",
   "execution_count": 26,
   "id": "fd8a0f60",
   "metadata": {
    "execution": {
     "iopub.execute_input": "2022-03-07T08:25:40.672897Z",
     "iopub.status.busy": "2022-03-07T08:25:40.672635Z",
     "iopub.status.idle": "2022-03-07T08:25:40.854146Z",
     "shell.execute_reply": "2022-03-07T08:25:40.854375Z"
    },
    "papermill": {
     "duration": 0.225959,
     "end_time": "2022-03-07T08:25:40.854454",
     "exception": false,
     "start_time": "2022-03-07T08:25:40.628495",
     "status": "completed"
    },
    "tags": []
   },
   "outputs": [
    {
     "data": {
      "text/plain": [
       "<matplotlib.axes._subplots.AxesSubplot at 0x7f8fd5468160>"
      ]
     },
     "execution_count": 26,
     "metadata": {},
     "output_type": "execute_result"
    },
    {
     "data": {
      "image/png": "[encoded data removed]",
      "text/plain": [
       "<Figure size 1080x504 with 1 Axes>"
      ]
     },
     "metadata": {
      "needs_background": "light"
     },
     "output_type": "display_data"
    }
   ],
   "source": [
    "get_results_table(experiment)"
   ]
  },
  {
   "cell_type": "code",
   "execution_count": 27,
   "id": "cf8dc689",
   "metadata": {
    "execution": {
     "iopub.execute_input": "2022-03-07T08:25:40.939922Z",
     "iopub.status.busy": "2022-03-07T08:25:40.939661Z",
     "iopub.status.idle": "2022-03-07T08:25:41.115932Z",
     "shell.execute_reply": "2022-03-07T08:25:41.116353Z"
    },
    "papermill": {
     "duration": 0.220111,
     "end_time": "2022-03-07T08:25:41.116484",
     "exception": false,
     "start_time": "2022-03-07T08:25:40.896373",
     "status": "completed"
    },
    "tags": []
   },
   "outputs": [
    {
     "data": {
      "text/plain": [
       "<matplotlib.axes._subplots.AxesSubplot at 0x7f8fd54dcb80>"
      ]
     },
     "execution_count": 27,
     "metadata": {},
     "output_type": "execute_result"
    },
    {
     "data": {
      "image/png": "[encoded data removed]",
      "text/plain": [
       "<Figure size 1080x504 with 1 Axes>"
      ]
     },
     "metadata": {
      "needs_background": "light"
     },
     "output_type": "display_data"
    }
   ],
   "source": [
    "get_domain_accuracies(experiment)"
   ]
  },
  {
   "cell_type": "code",
   "execution_count": 28,
   "id": "a74ae082",
   "metadata": {
    "execution": {
     "iopub.execute_input": "2022-03-07T08:25:41.207496Z",
     "iopub.status.busy": "2022-03-07T08:25:41.207226Z",
     "iopub.status.idle": "2022-03-07T08:25:41.221269Z",
     "shell.execute_reply": "2022-03-07T08:25:41.221689Z"
    },
    "papermill": {
     "duration": 0.058536,
     "end_time": "2022-03-07T08:25:41.221812",
     "exception": false,
     "start_time": "2022-03-07T08:25:41.163276",
     "status": "completed"
    },
    "tags": []
   },
   "outputs": [
    {
     "name": "stdout",
     "output_type": "stream",
     "text": [
      "Source Test Label Accuracy: 0.9623355263157894 Target Test Label Accuracy: 0.48391812865497075\n",
      "Source Val Label Accuracy: 0.9610197368421053 Target Val Label Accuracy: 0.4678362573099415\n"
     ]
    }
   ],
   "source": [
    "print(\"Source Test Label Accuracy:\", experiment[\"results\"][\"source_test_label_accuracy\"], \"Target Test Label Accuracy:\", experiment[\"results\"][\"target_test_label_accuracy\"])\n",
    "print(\"Source Val Label Accuracy:\", experiment[\"results\"][\"source_val_label_accuracy\"], \"Target Val Label Accuracy:\", experiment[\"results\"][\"target_val_label_accuracy\"])"
   ]
  },
  {
   "cell_type": "code",
   "execution_count": 29,
   "id": "dacca602",
   "metadata": {
    "execution": {
     "iopub.execute_input": "2022-03-07T08:25:41.312889Z",
     "iopub.status.busy": "2022-03-07T08:25:41.311997Z",
     "iopub.status.idle": "2022-03-07T08:25:41.329259Z",
     "shell.execute_reply": "2022-03-07T08:25:41.329681Z"
    },
    "papermill": {
     "duration": 0.06116,
     "end_time": "2022-03-07T08:25:41.329808",
     "exception": false,
     "start_time": "2022-03-07T08:25:41.268648",
     "status": "completed"
    },
    "tags": [
     "experiment_json"
    ]
   },
   "outputs": [
    {
     "data": {
      "text/plain": [
       "'{\"experiment_name\": \"tl_1_wisig-metehan\", \"parameters\": {\"experiment_name\": \"tl_1_wisig-metehan\", \"device\": \"cuda\", \"lr\": 0.001, \"seed\": 1337, \"dataset_seed\": 1337, \"n_shot\": 3, \"n_query\": 2, \"train_k_factor\": 3, \"val_k_factor\": 2, \"test_k_factor\": 2, \"torch_default_dtype\": \"torch.float32\", \"n_epoch\": 50, \"patience\": 3, \"criteria_for_best\": \"target_loss\", \"x_net\": [{\"class\": \"nnReshape\", \"kargs\": {\"shape\": [-1, 1, 2, 256]}}, {\"class\": \"Conv2d\", \"kargs\": {\"in_channels\": 1, \"out_channels\": 256, \"kernel_size\": [1, 7], \"bias\": false, \"padding\": [0, 3]}}, {\"class\": \"ReLU\", \"kargs\": {\"inplace\": true}}, {\"class\": \"BatchNorm2d\", \"kargs\": {\"num_features\": 256}}, {\"class\": \"Conv2d\", \"kargs\": {\"in_channels\": 256, \"out_channels\": 80, \"kernel_size\": [2, 7], \"bias\": true, \"padding\": [0, 3]}}, {\"class\": \"ReLU\", \"kargs\": {\"inplace\": true}}, {\"class\": \"BatchNorm2d\", \"kargs\": {\"num_features\": 80}}, {\"class\": \"Flatten\", \"kargs\": {}}, {\"class\": \"Linear\", \"kargs\": {\"in_features\": 20480, \"out_features\": 256}}, {\"class\": \"ReLU\", \"kargs\": {\"inplace\": true}}, {\"class\": \"BatchNorm1d\", \"kargs\": {\"num_features\": 256}}, {\"class\": \"Linear\", \"kargs\": {\"in_features\": 256, \"out_features\": 256}}], \"NUM_LOGS_PER_EPOCH\": 10, \"BEST_MODEL_PATH\": \"./best_model.pth\", \"n_way\": 19, \"datasets\": [{\"labels\": [\"1-10\", \"1-12\", \"1-14\", \"1-16\", \"1-18\", \"1-19\", \"1-8\", \"10-11\", \"10-17\", \"10-4\", \"10-7\", \"11-1\", \"11-10\", \"11-19\", \"11-20\", \"11-4\", \"11-7\", \"12-19\", \"12-20\", \"12-7\", \"13-14\", \"13-18\", \"13-19\", \"13-20\", \"13-3\", \"13-7\", \"14-10\", \"14-11\", \"14-12\", \"14-13\", \"14-14\", \"14-19\", \"14-20\", \"14-7\", \"14-8\", \"14-9\", \"15-1\", \"15-19\", \"15-6\", \"16-1\", \"16-16\", \"16-19\", \"16-20\", \"17-10\", \"17-11\", \"18-1\", \"18-10\", \"18-11\", \"18-12\", \"18-13\", \"18-14\", \"18-15\", \"18-16\", \"18-17\", \"18-19\", \"18-2\", \"18-20\", \"18-4\", \"18-5\", \"18-7\", \"18-8\", \"18-9\", \"19-1\", \"19-10\", \"19-11\", \"19-12\", \"19-13\", \"19-14\", \"19-15\", \"19-19\", \"19-2\", \"19-20\", \"19-3\", \"19-4\", \"19-6\", \"19-7\", \"19-8\", \"19-9\", \"2-1\", \"2-13\", \"2-15\", \"2-3\", \"2-4\", \"2-5\", \"2-6\", \"2-7\", \"2-8\", \"20-1\", \"20-12\", \"20-14\", \"20-15\", \"20-16\", \"20-18\", \"20-19\", \"20-20\", \"20-3\", \"20-4\", \"20-5\", \"20-7\", \"20-8\", \"3-1\", \"3-13\", \"3-18\", \"3-2\", \"3-8\", \"4-1\", \"4-10\", \"4-11\", \"5-1\", \"5-5\", \"6-1\", \"6-15\", \"6-6\", \"7-10\", \"7-11\", \"7-12\", \"7-13\", \"7-14\", \"7-7\", \"7-8\", \"7-9\", \"8-1\", \"8-13\", \"8-14\", \"8-18\", \"8-20\", \"8-3\", \"8-8\", \"9-1\", \"9-7\"], \"domains\": [1, 2, 3, 4], \"num_examples_per_domain_per_label\": 100, \"pickle_path\": \"/mnt/wd500GB/CSC500/csc500-main/datasets/wisig.node3-19.stratified_ds.2022A.pkl\", \"source_or_target_dataset\": \"source\", \"x_transforms\": [\"unit_power\"], \"episode_transforms\": [], \"domain_prefix\": \"Wisig_\"}, {\"labels\": [0, 1, 2, 3, 4, 5, 6, 7, 8, 9, 10, 11, 12, 13, 14, 15, 16, 17, 18], \"domains\": [0, 1, 2], \"num_examples_per_domain_per_label\": 100, \"pickle_path\": \"/mnt/wd500GB/CSC500/csc500-main/datasets/metehan.stratified_ds.2022A.pkl\", \"source_or_target_dataset\": \"target\", \"x_transforms\": [\"unit_power\"], \"episode_transforms\": [], \"domain_prefix\": \"Metehan_\"}], \"domains_source\": [\"Wisig_1\", \"Wisig_2\", \"Wisig_3\", \"Wisig_4\"], \"domains_target\": [\"Metehan_0\", \"Metehan_1\", \"Metehan_2\"]}, \"results\": {\"source_test_label_accuracy\": 0.9623355263157894, \"source_test_label_loss\": 0.21126532554626465, \"target_test_label_accuracy\": 0.48391812865497075, \"target_test_label_loss\": 2.0295565128326416, \"source_val_label_accuracy\": 0.9610197368421053, \"source_val_label_loss\": 0.2190716713666916, \"target_val_label_accuracy\": 0.4678362573099415, \"target_val_label_loss\": 2.050551414489746, \"total_epochs_trained\": 12, \"total_experiment_time_secs\": 428.4457137584686, \"confusion\": {\"Wisig_3\": {\"45\": {\"45\": 12}, \"43\": {\"43\": 12}, \"63\": {\"63\": 10, \"13\": 1, \"84\": 1}, \"55\": {\"55\": 12}, \"24\": {\"24\": 11, \"36\": 1}, \"21\": {\"24\": 1, \"21\": 10, \"78\": 1}, \"34\": {\"34\": 12}, \"14\": {\"14\": 11, \"61\": 1}, \"111\": {\"111\": 10}, \"72\": {\"72\": 12}, \"35\": {\"35\": 12}, \"116\": {\"116\": 11, \"22\": 1}, \"82\": {\"82\": 12}, \"7\": {\"7\": 12}, \"20\": {\"20\": 12}, \"62\": {\"62\": 12}, \"104\": {\"104\": 12}, \"98\": {\"98\": 10, \"33\": 1, \"21\": 1}, \"106\": {\"106\": 12}, \"118\": {\"118\": 12}, \"32\": {\"32\": 12}, \"59\": {\"59\": 11, \"24\": 1}, \"128\": {\"128\": 12}, \"18\": {\"18\": 12}, \"31\": {\"31\": 12}, \"39\": {\"39\": 12}, \"91\": {\"91\": 12}, \"48\": {\"48\": 12}, \"61\": {\"61\": 12}, \"129\": {\"129\": 12}, \"69\": {\"69\": 12}, \"30\": {\"30\": 12}, \"29\": {\"29\": 12}, \"66\": {\"66\": 12}, \"38\": {\"38\": 12}, \"81\": {\"81\": 12}, \"25\": {\"25\": 10, \"37\": 1, \"124\": 1}, \"122\": {\"122\": 10, \"78\": 1, \"109\": 1}, \"6\": {\"6\": 12}, \"2\": {\"2\": 12}, \"33\": {\"33\": 12}, \"37\": {\"37\": 11, \"92\": 1}, \"88\": {\"88\": 12}, \"73\": {\"73\": 10}, \"101\": {\"101\": 12}, \"13\": {\"13\": 10, \"82\": 1, \"107\": 1}, \"9\": {\"9\": 12}, \"40\": {\"40\": 12}, \"22\": {\"22\": 12}, \"67\": {\"67\": 12}, \"102\": {\"102\": 12}, \"80\": {\"80\": 12}, \"114\": {\"114\": 12}, \"41\": {\"41\": 12}, \"19\": {\"19\": 12}, \"84\": {\"84\": 11, \"13\": 1}, \"107\": {\"107\": 12}, \"109\": {\"109\": 12}, \"124\": {\"124\": 12}, \"44\": {\"44\": 11, \"121\": 1}, \"103\": {\"103\": 12}, \"64\": {\"64\": 12}, \"75\": {\"75\": 12}, \"93\": {\"93\": 12}, \"10\": {\"10\": 10}, \"11\": {\"11\": 10, \"46\": 1, \"85\": 1}, \"47\": {\"47\": 12}, \"115\": {\"115\": 12}, \"1\": {\"1\": 12}, \"85\": {\"85\": 12}, \"89\": {\"89\": 12}, \"83\": {\"83\": 12}, \"60\": {\"60\": 11, \"51\": 1}, \"53\": {\"53\": 12}, \"120\": {\"120\": 11, \"92\": 1}, \"77\": {\"77\": 12}, \"92\": {\"92\": 12}, \"12\": {\"12\": 12}, \"76\": {\"76\": 12}, \"87\": {\"87\": 9, \"84\": 1}, \"105\": {\"105\": 12}, \"112\": {\"112\": 12}, \"123\": {\"123\": 12}, \"8\": {\"8\": 10}, \"126\": {\"126\": 12}, \"52\": {\"52\": 10}, \"121\": {\"121\": 12}, \"68\": {\"68\": 12}, \"74\": {\"74\": 11, \"38\": 1}, \"57\": {\"57\": 12}, \"3\": {\"3\": 11, \"43\": 1}, \"42\": {\"42\": 11, \"16\": 1}, \"95\": {\"95\": 12}, \"17\": {\"17\": 11, \"33\": 1}, \"4\": {\"4\": 10, \"7\": 1, \"39\": 1}, \"15\": {\"15\": 12}, \"16\": {\"16\": 10}, \"46\": {\"46\": 12}, \"117\": {\"117\": 12}, \"96\": {\"96\": 12}, \"70\": {\"27\": 1, \"70\": 10, \"9\": 1}, \"27\": {\"27\": 11, \"36\": 1}, \"54\": {\"54\": 12}, \"125\": {\"125\": 12}, \"51\": {\"51\": 11, \"111\": 1}, \"90\": {\"90\": 12}, \"50\": {\"50\": 10}, \"23\": {\"77\": 1, \"23\": 8, \"110\": 1}, \"110\": {\"110\": 12}, \"100\": {\"100\": 9, \"51\": 1}, \"108\": {\"108\": 12}, \"86\": {\"86\": 12}, \"78\": {\"78\": 9, \"21\": 1, \"17\": 1, \"2\": 1}, \"127\": {\"127\": 8}, \"94\": {\"94\": 12}, \"56\": {\"56\": 12}, \"119\": {\"119\": 12}, \"0\": {\"0\": 12}, \"28\": {\"28\": 12}, \"26\": {\"26\": 10}, \"71\": {\"71\": 11, \"127\": 1}, \"58\": {\"58\": 12}, \"5\": {\"5\": 10}, \"79\": {\"79\": 10}, \"113\": {\"113\": 12}, \"99\": {\"99\": 12}, \"97\": {\"97\": 8}, \"49\": {\"49\": 10}, \"65\": {\"65\": 9, \"92\": 1}, \"36\": {\"36\": 9, \"27\": 1}}, \"Wisig_1\": {\"106\": {\"106\": 12}, \"45\": {\"45\": 12}, \"98\": {\"98\": 12}, \"5\": {\"5\": 12}, \"96\": {\"96\": 12}, \"94\": {\"94\": 7, \"70\": 1}, \"4\": {\"4\": 10, \"129\": 1, \"30\": 1}, \"42\": {\"42\": 12}, \"124\": {\"124\": 10}, \"85\": {\"85\": 12}, \"116\": {\"116\": 12}, \"39\": {\"39\": 12}, \"62\": {\"62\": 12}, \"60\": {\"80\": 1, \"116\": 1, \"60\": 7, \"31\": 1, \"59\": 1, \"83\": 1}, \"104\": {\"104\": 10}, \"2\": {\"2\": 11, \"96\": 1}, \"12\": {\"12\": 10, \"61\": 1, \"27\": 1}, \"119\": {\"119\": 12}, \"80\": {\"80\": 11, \"19\": 1}, \"65\": {\"65\": 10, \"110\": 1, \"116\": 1}, \"113\": {\"113\": 12}, \"22\": {\"22\": 12}, \"32\": {\"32\": 12}, \"117\": {\"117\": 12}, \"0\": {\"0\": 12}, \"44\": {\"44\": 12}, \"83\": {\"83\": 10, \"45\": 1, \"49\": 1}, \"118\": {\"118\": 12}, \"37\": {\"37\": 10, \"72\": 1, \"28\": 1}, \"36\": {\"36\": 10, \"88\": 2}, \"72\": {\"72\": 12}, \"27\": {\"27\": 10, \"88\": 1, \"97\": 1}, \"123\": {\"123\": 12}, \"71\": {\"71\": 12}, \"28\": {\"28\": 10}, \"21\": {\"71\": 1, \"21\": 10, \"84\": 1}, \"74\": {\"74\": 11, \"85\": 1}, \"15\": {\"15\": 10}, \"53\": {\"53\": 12}, \"48\": {\"48\": 12}, \"57\": {\"57\": 12}, \"88\": {\"88\": 11, \"97\": 1}, \"126\": {\"126\": 12}, \"69\": {\"69\": 12}, \"121\": {\"121\": 12}, \"49\": {\"49\": 12}, \"59\": {\"59\": 10, \"113\": 1, \"61\": 1}, \"97\": {\"97\": 11, \"88\": 1}, \"90\": {\"90\": 12}, \"9\": {\"9\": 12}, \"13\": {\"13\": 12}, \"8\": {\"8\": 12}, \"89\": {\"89\": 12}, \"47\": {\"47\": 12}, \"125\": {\"125\": 10}, \"58\": {\"58\": 12}, \"17\": {\"17\": 12}, \"29\": {\"29\": 12}, \"35\": {\"35\": 11, \"0\": 1}, \"3\": {\"3\": 11, \"27\": 1}, \"77\": {\"77\": 12}, \"56\": {\"56\": 12}, \"109\": {\"109\": 10, \"126\": 1, \"21\": 1}, \"114\": {\"114\": 12}, \"16\": {\"16\": 10, \"122\": 1, \"36\": 1}, \"112\": {\"112\": 12}, \"105\": {\"105\": 11, \"87\": 1}, \"84\": {\"84\": 11, \"82\": 1}, \"127\": {\"127\": 12}, \"70\": {\"84\": 1, \"70\": 10, \"106\": 1}, \"52\": {\"52\": 12}, \"31\": {\"31\": 12}, \"43\": {\"43\": 12}, \"75\": {\"75\": 12}, \"40\": {\"40\": 12}, \"129\": {\"129\": 12}, \"73\": {\"73\": 12}, \"93\": {\"93\": 10}, \"20\": {\"20\": 12}, \"115\": {\"115\": 12}, \"24\": {\"24\": 11, \"36\": 1}, \"34\": {\"34\": 12}, \"78\": {\"93\": 3, \"78\": 7, \"122\": 1, \"69\": 1}, \"41\": {\"41\": 12}, \"30\": {\"30\": 12}, \"95\": {\"95\": 12}, \"19\": {\"19\": 12}, \"76\": {\"76\": 12}, \"67\": {\"67\": 10, \"109\": 1, \"28\": 1}, \"23\": {\"23\": 12}, \"99\": {\"99\": 12}, \"66\": {\"66\": 7, \"29\": 1}, \"18\": {\"18\": 12}, \"107\": {\"107\": 12}, \"108\": {\"108\": 12}, \"102\": {\"102\": 12}, \"54\": {\"54\": 12}, \"51\": {\"51\": 12}, \"79\": {\"79\": 12}, \"61\": {\"61\": 12}, \"11\": {\"11\": 12}, \"82\": {\"82\": 12}, \"92\": {\"92\": 12}, \"86\": {\"86\": 12}, \"33\": {\"33\": 12}, \"10\": {\"10\": 12}, \"110\": {\"110\": 12}, \"14\": {\"14\": 12}, \"120\": {\"120\": 12}, \"46\": {\"46\": 9, \"120\": 1, \"7\": 1, \"123\": 1}, \"1\": {\"1\": 10}, \"122\": {\"122\": 12}, \"25\": {\"25\": 12}, \"128\": {\"128\": 12}, \"100\": {\"100\": 12}, \"91\": {\"91\": 12}, \"87\": {\"87\": 10}, \"38\": {\"38\": 12}, \"68\": {\"68\": 10}, \"50\": {\"50\": 11, \"23\": 1}, \"55\": {\"55\": 10}, \"81\": {\"81\": 12}, \"101\": {\"101\": 12}, \"7\": {\"7\": 10}, \"26\": {\"26\": 8}, \"64\": {\"64\": 10}, \"63\": {\"63\": 12}, \"6\": {\"6\": 12}, \"111\": {\"111\": 12}, \"103\": {\"103\": 7, \"96\": 1}}, \"Wisig_2\": {\"89\": {\"89\": 12}, \"3\": {\"3\": 12}, \"31\": {\"31\": 12}, \"33\": {\"33\": 12}, \"8\": {\"8\": 11, \"18\": 1}, \"41\": {\"41\": 10, \"21\": 1, \"31\": 1}, \"92\": {\"92\": 10, \"110\": 1, \"60\": 1}, \"87\": {\"87\": 12}, \"17\": {\"17\": 10}, \"93\": {\"93\": 12}, \"94\": {\"94\": 12}, \"110\": {\"110\": 9, \"122\": 1, \"68\": 2}, \"18\": {\"18\": 12}, \"122\": {\"122\": 12}, \"91\": {\"91\": 12}, \"58\": {\"58\": 12}, \"68\": {\"68\": 12}, \"24\": {\"24\": 12}, \"28\": {\"28\": 9, \"42\": 2, \"97\": 1}, \"52\": {\"52\": 10}, \"23\": {\"23\": 11, \"41\": 1}, \"128\": {\"128\": 12}, \"113\": {\"113\": 10, \"107\": 1, \"88\": 1}, \"104\": {\"104\": 12}, \"72\": {\"72\": 11, \"23\": 1}, \"125\": {\"125\": 12}, \"121\": {\"121\": 10, \"70\": 1, \"78\": 1}, \"63\": {\"63\": 12}, \"70\": {\"70\": 12}, \"16\": {\"41\": 1, \"16\": 7}, \"60\": {\"60\": 12}, \"95\": {\"95\": 11, \"104\": 1}, \"50\": {\"50\": 12}, \"129\": {\"129\": 12}, \"77\": {\"77\": 12}, \"47\": {\"47\": 9, \"127\": 1, \"128\": 1, \"60\": 1}, \"13\": {\"13\": 12}, \"9\": {\"9\": 12}, \"115\": {\"115\": 7, \"97\": 1}, \"42\": {\"42\": 11, \"94\": 1}, \"48\": {\"48\": 12}, \"25\": {\"25\": 11, \"126\": 1}, \"61\": {\"61\": 9, \"87\": 1, \"49\": 1, \"84\": 1}, \"108\": {\"108\": 12}, \"54\": {\"54\": 12}, \"76\": {\"76\": 12}, \"12\": {\"12\": 11, \"78\": 1}, \"97\": {\"111\": 1, \"97\": 8, \"15\": 1}, \"11\": {\"11\": 12}, \"29\": {\"29\": 11, \"45\": 1}, \"57\": {\"57\": 11, \"94\": 1}, \"90\": {\"90\": 12}, \"26\": {\"26\": 12}, \"111\": {\"111\": 12}, \"59\": {\"59\": 12}, \"86\": {\"86\": 12}, \"126\": {\"126\": 12}, \"127\": {\"127\": 8}, \"0\": {\"0\": 11, \"101\": 1}, \"117\": {\"117\": 12}, \"118\": {\"118\": 12}, \"32\": {\"32\": 12}, \"37\": {\"37\": 12}, \"96\": {\"96\": 12}, \"44\": {\"44\": 12}, \"10\": {\"10\": 12}, \"4\": {\"4\": 12}, \"20\": {\"20\": 12}, \"21\": {\"21\": 9, \"107\": 1}, \"79\": {\"79\": 8, \"51\": 1, \"77\": 1}, \"99\": {\"99\": 12}, \"105\": {\"105\": 12}, \"112\": {\"112\": 11, \"5\": 1}, \"102\": {\"102\": 6}, \"14\": {\"14\": 9, \"50\": 1, \"77\": 1, \"112\": 1}, \"81\": {\"81\": 12}, \"65\": {\"65\": 11, \"59\": 1}, \"22\": {\"22\": 12}, \"64\": {\"64\": 12}, \"1\": {\"1\": 12}, \"83\": {\"83\": 12}, \"2\": {\"2\": 12}, \"78\": {\"78\": 12}, \"107\": {\"107\": 12}, \"103\": {\"103\": 12}, \"88\": {\"88\": 12}, \"80\": {\"80\": 12}, \"109\": {\"109\": 11, \"97\": 1}, \"30\": {\"30\": 11, \"83\": 1}, \"119\": {\"119\": 12}, \"106\": {\"106\": 12}, \"35\": {\"35\": 11, \"50\": 1}, \"73\": {\"73\": 12}, \"6\": {\"6\": 12}, \"46\": {\"46\": 12}, \"75\": {\"75\": 11, \"34\": 1}, \"39\": {\"39\": 11, \"36\": 1}, \"5\": {\"5\": 12}, \"7\": {\"7\": 12}, \"124\": {\"124\": 12}, \"69\": {\"69\": 12}, \"71\": {\"71\": 9, \"118\": 1, \"24\": 1, \"84\": 1}, \"74\": {\"74\": 9, \"95\": 1}, \"53\": {\"53\": 9, \"60\": 2, \"39\": 1}, \"51\": {\"51\": 11, \"35\": 1}, \"38\": {\"38\": 12}, \"62\": {\"62\": 12}, \"27\": {\"27\": 12}, \"19\": {\"19\": 11, \"4\": 1}, \"84\": {\"84\": 12}, \"120\": {\"120\": 12}, \"114\": {\"114\": 12}, \"45\": {\"45\": 10, \"17\": 1, \"24\": 1}, \"40\": {\"40\": 12}, \"85\": {\"85\": 12}, \"82\": {\"82\": 10}, \"101\": {\"101\": 12}, \"98\": {\"98\": 12}, \"100\": {\"100\": 12}, \"43\": {\"43\": 10, \"87\": 1, \"36\": 1}, \"34\": {\"34\": 12}, \"49\": {\"49\": 12}, \"15\": {\"15\": 12}, \"66\": {\"66\": 10}, \"36\": {\"36\": 12}, \"116\": {\"116\": 12}, \"67\": {\"67\": 11, \"39\": 1}, \"55\": {\"55\": 11, \"118\": 1}, \"123\": {\"123\": 10}, \"56\": {\"56\": 7, \"58\": 1}}, \"Wisig_4\": {\"19\": {\"19\": 12}, \"93\": {\"93\": 12}, \"52\": {\"52\": 12}, \"44\": {\"44\": 11, \"80\": 1}, \"120\": {\"120\": 11, \"59\": 1}, \"33\": {\"33\": 10}, \"87\": {\"87\": 10, \"103\": 1, \"33\": 1}, \"20\": {\"20\": 11, \"21\": 1}, \"35\": {\"35\": 12}, \"16\": {\"16\": 12}, \"14\": {\"14\": 12}, \"91\": {\"91\": 9, \"113\": 1}, \"121\": {\"121\": 10, \"44\": 1, \"113\": 1}, \"65\": {\"65\": 10, \"61\": 1, \"103\": 1}, \"66\": {\"66\": 12}, \"37\": {\"37\": 12}, \"67\": {\"88\": 1, \"67\": 10, \"82\": 1}, \"88\": {\"88\": 12}, \"71\": {\"71\": 10, \"47\": 1, \"114\": 1}, \"81\": {\"81\": 11, \"8\": 1}, \"34\": {\"34\": 12}, \"63\": {\"63\": 11, \"23\": 1}, \"73\": {\"73\": 12}, \"86\": {\"86\": 12}, \"106\": {\"106\": 12}, \"68\": {\"68\": 12}, \"98\": {\"98\": 11, \"23\": 1}, \"84\": {\"84\": 10, \"21\": 1, \"118\": 1}, \"101\": {\"101\": 11, \"0\": 1}, \"50\": {\"50\": 8}, \"8\": {\"8\": 11, \"119\": 1}, \"95\": {\"95\": 12}, \"119\": {\"119\": 12}, \"51\": {\"44\": 2, \"51\": 8, \"103\": 1, \"94\": 1}, \"3\": {\"3\": 12}, \"9\": {\"9\": 11, \"39\": 1}, \"42\": {\"42\": 11, \"112\": 1}, \"123\": {\"123\": 12}, \"107\": {\"107\": 12}, \"111\": {\"111\": 12}, \"64\": {\"64\": 12}, \"31\": {\"31\": 12}, \"6\": {\"6\": 12}, \"53\": {\"53\": 11, \"59\": 1}, \"108\": {\"108\": 10, \"107\": 1, \"43\": 1}, \"69\": {\"6\": 1, \"69\": 11}, \"96\": {\"96\": 12}, \"22\": {\"22\": 12}, \"114\": {\"114\": 12}, \"7\": {\"7\": 11, \"51\": 1}, \"75\": {\"75\": 12}, \"2\": {\"2\": 10}, \"39\": {\"39\": 12}, \"41\": {\"41\": 11, \"115\": 1}, \"58\": {\"58\": 12}, \"127\": {\"127\": 11, \"109\": 1}, \"62\": {\"62\": 12}, \"76\": {\"76\": 12}, \"46\": {\"46\": 12}, \"60\": {\"60\": 12}, \"118\": {\"118\": 11, \"62\": 1}, \"78\": {\"78\": 11, \"110\": 1}, \"48\": {\"48\": 10, \"39\": 1, \"86\": 1}, \"29\": {\"29\": 12}, \"17\": {\"17\": 12}, \"112\": {\"112\": 12}, \"109\": {\"109\": 12}, \"47\": {\"47\": 11, \"21\": 1}, \"94\": {\"94\": 9, \"21\": 1, \"36\": 1, \"39\": 1}, \"115\": {\"115\": 12}, \"5\": {\"5\": 11, \"14\": 1}, \"26\": {\"26\": 12}, \"89\": {\"89\": 10}, \"49\": {\"49\": 10}, \"18\": {\"18\": 12}, \"102\": {\"102\": 12}, \"99\": {\"99\": 12}, \"105\": {\"105\": 11, \"82\": 1}, \"43\": {\"43\": 12}, \"12\": {\"12\": 12}, \"1\": {\"1\": 12}, \"21\": {\"21\": 10, \"15\": 1, \"113\": 1}, \"100\": {\"100\": 11, \"68\": 1}, \"80\": {\"80\": 8, \"103\": 1, \"21\": 1}, \"116\": {\"116\": 12}, \"70\": {\"70\": 11, \"88\": 1}, \"36\": {\"36\": 10}, \"122\": {\"122\": 10, \"49\": 1, \"60\": 1}, \"55\": {\"55\": 12}, \"0\": {\"0\": 12}, \"4\": {\"4\": 12}, \"82\": {\"82\": 11, \"113\": 1}, \"32\": {\"32\": 10}, \"124\": {\"124\": 12}, \"117\": {\"117\": 12}, \"11\": {\"11\": 12}, \"92\": {\"92\": 12}, \"128\": {\"128\": 10, \"0\": 1, \"85\": 1}, \"90\": {\"90\": 10, \"121\": 1, \"6\": 1}, \"74\": {\"74\": 12}, \"38\": {\"38\": 12}, \"25\": {\"25\": 12}, \"15\": {\"15\": 12}, \"113\": {\"113\": 9, \"0\": 1, \"122\": 1, \"66\": 1}, \"85\": {\"85\": 12}, \"57\": {\"57\": 10, \"106\": 1, \"9\": 1}, \"13\": {\"13\": 12}, \"125\": {\"125\": 12}, \"28\": {\"28\": 12}, \"40\": {\"40\": 12}, \"56\": {\"56\": 12}, \"23\": {\"23\": 10, \"34\": 1, \"49\": 1}, \"83\": {\"83\": 12}, \"72\": {\"72\": 12}, \"97\": {\"97\": 9, \"24\": 2, \"128\": 1}, \"77\": {\"77\": 10}, \"45\": {\"45\": 12}, \"129\": {\"129\": 12}, \"104\": {\"104\": 8}, \"10\": {\"10\": 10, \"97\": 1, \"6\": 1}, \"61\": {\"61\": 11, \"110\": 1}, \"110\": {\"110\": 11, \"122\": 1}, \"79\": {\"79\": 12}, \"30\": {\"30\": 10}, \"103\": {\"103\": 9, \"58\": 2, \"49\": 1}, \"54\": {\"54\": 10}, \"27\": {\"27\": 11, \"23\": 1}, \"59\": {\"59\": 10}, \"24\": {\"24\": 7, \"97\": 1}, \"126\": {\"126\": 6, \"113\": 1, \"40\": 1}}, \"Metehan_1\": {\"9\": {\"9\": 8, \"13\": 2, \"6\": 1, \"14\": 1}, \"5\": {\"5\": 3, \"18\": 7, \"1\": 1, \"10\": 1}, \"15\": {\"8\": 5, \"12\": 1, \"15\": 5, \"3\": 1}, \"13\": {\"13\": 8, \"12\": 2, \"3\": 2}, \"11\": {\"11\": 7, \"17\": 4, \"3\": 1}, \"7\": {\"0\": 8, \"2\": 2, \"10\": 2}, \"2\": {\"2\": 7, \"0\": 2, \"7\": 2, \"10\": 1}, \"6\": {\"6\": 3, \"4\": 5, \"9\": 2, \"14\": 2}, \"16\": {\"3\": 2, \"16\": 5, \"0\": 1, \"11\": 2, \"17\": 2}, \"14\": {\"14\": 5, \"6\": 4, \"4\": 1, \"3\": 1, \"0\": 1}, \"18\": {\"18\": 7, \"10\": 1, \"5\": 3, \"17\": 1}, \"1\": {\"10\": 1, \"2\": 4, \"1\": 4, \"5\": 3}, \"10\": {\"16\": 2, \"2\": 2, \"7\": 2, \"5\": 4, \"10\": 2}, \"12\": {\"8\": 3, \"12\": 8, \"15\": 1}, \"3\": {\"3\": 5, \"13\": 1, \"0\": 2, \"16\": 4}, \"8\": {\"8\": 4, \"11\": 1, \"15\": 6, \"12\": 1}, \"0\": {\"7\": 4, \"0\": 5, \"10\": 2, \"2\": 1}, \"4\": {\"4\": 7, \"14\": 4, \"6\": 1}, \"17\": {\"11\": 4, \"17\": 5, \"18\": 1, \"8\": 1, \"16\": 1}}, \"Metehan_0\": {\"6\": {\"4\": 7, \"6\": 5}, \"18\": {\"18\": 7, \"5\": 3, \"1\": 1, \"10\": 1}, \"2\": {\"0\": 1, \"2\": 9, \"10\": 1, \"1\": 1}, \"17\": {\"16\": 2, \"11\": 6, \"17\": 4}, \"1\": {\"1\": 8, \"2\": 1, \"5\": 3}, \"4\": {\"6\": 6, \"4\": 4, \"14\": 2}, \"8\": {\"12\": 3, \"8\": 5, \"15\": 3, \"11\": 1}, \"9\": {\"4\": 5, \"13\": 1, \"9\": 6}, \"7\": {\"0\": 8, \"7\": 2, \"2\": 1, \"1\": 1}, \"15\": {\"15\": 10, \"8\": 1, \"12\": 1}, \"12\": {\"12\": 10, \"13\": 1, \"8\": 1}, \"11\": {\"12\": 1, \"11\": 6, \"17\": 5}, \"13\": {\"13\": 9, \"9\": 2, \"12\": 1}, \"0\": {\"0\": 7, \"7\": 3, \"2\": 2}, \"10\": {\"5\": 1, \"2\": 5, \"10\": 4, \"7\": 1, \"0\": 1}, \"14\": {\"14\": 6, \"6\": 3, \"0\": 1, \"13\": 1, \"4\": 1}, \"3\": {\"3\": 9, \"11\": 1, \"16\": 1, \"0\": 1}, \"5\": {\"18\": 4, \"5\": 6, \"1\": 1, \"10\": 1}, \"16\": {\"16\": 3, \"18\": 1, \"7\": 1, \"17\": 2, \"11\": 3, \"10\": 1, \"5\": 1}}, \"Metehan_2\": {\"1\": {\"10\": 5, \"1\": 5, \"5\": 1, \"2\": 1}, \"0\": {\"14\": 1, \"7\": 6, \"16\": 2, \"0\": 1, \"2\": 2}, \"13\": {\"12\": 3, \"13\": 4, \"3\": 2, \"9\": 3}, \"11\": {\"11\": 4, \"17\": 4, \"16\": 2, \"3\": 1, \"8\": 1}, \"5\": {\"5\": 7, \"18\": 4, \"1\": 1}, \"15\": {\"15\": 8, \"8\": 4}, \"14\": {\"14\": 3, \"6\": 8, \"13\": 1}, \"8\": {\"8\": 8, \"15\": 2, \"11\": 1, \"16\": 1}, \"6\": {\"6\": 5, \"4\": 3, \"3\": 1, \"14\": 3}, \"3\": {\"11\": 1, \"3\": 7, \"0\": 1, \"16\": 3}, \"10\": {\"16\": 1, \"7\": 1, \"10\": 7, \"11\": 1, \"2\": 2}, \"7\": {\"7\": 4, \"10\": 2, \"0\": 4, \"2\": 2}, \"17\": {\"16\": 3, \"11\": 4, \"17\": 5}, \"4\": {\"4\": 5, \"9\": 2, \"14\": 3, \"6\": 2}, \"2\": {\"7\": 2, \"1\": 3, \"2\": 6, \"0\": 1}, \"9\": {\"9\": 10, \"4\": 1, \"13\": 1}, \"12\": {\"13\": 4, \"15\": 2, \"8\": 4, \"12\": 1, \"3\": 1}, \"18\": {\"18\": 7, \"5\": 5}, \"16\": {\"16\": 5, \"11\": 3, \"17\": 3, \"5\": 1}}}, \"per_domain_accuracy\": {\"Wisig_3\": {\"accuracy\": 0.9717105263157895, \"source?\": true}, \"Wisig_1\": {\"accuracy\": 0.9651315789473685, \"source?\": true}, \"Wisig_2\": {\"accuracy\": 0.9585526315789473, \"source?\": true}, \"Wisig_4\": {\"accuracy\": 0.9486842105263158, \"source?\": true}, \"Metehan_1\": {\"accuracy\": 0.4298245614035088, \"source?\": false}, \"Metehan_0\": {\"accuracy\": 0.5263157894736842, \"source?\": false}, \"Metehan_2\": {\"accuracy\": 0.4473684210526316, \"source?\": false}}}, \"history\": {\"epoch_indices\": [1, 2, 3, 4, 5, 6, 7, 8, 9, 10, 11, 12], \"train_label_loss\": [0.43397541232704323, 0.22531785136988677, 0.1726358453723603, 0.1376506369071765, 0.1114540472929077, 0.09456697450119425, 0.07611589984246715, 0.06658937712938558, 0.05576249892837369, 0.05073397899047391, 0.04421219182667647, 0.039595117058554674], \"source_val_label_loss\": [0.30280134081840515, 0.245292529463768, 0.22071686387062073, 0.22816264629364014, 0.2276056855916977, 0.2309540957212448, 0.2351456880569458, 0.2190716713666916, 0.23609614372253418, 0.2535070776939392, 0.2682936191558838, 0.26518142223358154], \"target_val_label_loss\": [2.6963915824890137, 2.670398712158203, 2.613654375076294, 2.5033555030822754, 2.5220775604248047, 2.498443841934204, 2.46136212348938, 2.050551414489746, 2.331044912338257, 2.31497859954834, 2.1551144123077393, 2.3244082927703857], \"source_val_acc_label\": [0.9263157894736842, 0.9447368421052632, 0.9488486842105263, 0.953453947368421, 0.9498355263157895, 0.9524671052631579, 0.9546052631578947, 0.9610197368421053, 0.9592105263157895, 0.9582236842105263, 0.9608552631578947, 0.9606907894736842], \"target_val_acc_label\": [0.3362573099415205, 0.3304093567251462, 0.33771929824561403, 0.35526315789473684, 0.3713450292397661, 0.3435672514619883, 0.347953216374269, 0.4678362573099415, 0.38011695906432746, 0.38596491228070173, 0.3684210526315789, 0.3172514619883041]}, \"dataset_metrics\": {\"source\": {\"train\": {\"n_unique_x\": 36400, \"n_unique_y\": 130, \"n_batch/episode\": 1132}, \"val\": {\"n_unique_x\": 7792, \"n_unique_y\": 130, \"n_batch/episode\": 160}, \"test\": {\"n_unique_x\": 7792, \"n_unique_y\": 130, \"n_batch/episode\": 160}}, \"target\": {\"train\": {\"n_unique_x\": 3990, \"n_unique_y\": 19, \"n_batch/episode\": 126}, \"val\": {\"n_unique_x\": 855, \"n_unique_y\": 19, \"n_batch/episode\": 18}, \"test\": {\"n_unique_x\": 855, \"n_unique_y\": 19, \"n_batch/episode\": 18}}}}'"
      ]
     },
     "execution_count": 29,
     "metadata": {},
     "output_type": "execute_result"
    }
   ],
   "source": [
    "json.dumps(experiment)"
   ]
  }
 ],
 "metadata": {
  "celltoolbar": "Tags",
  "kernelspec": {
   "display_name": "Python 3 (ipykernel)",
   "language": "python",
   "name": "python3"
  },
  "language_info": {
   "codemirror_mode": {
    "name": "ipython",
    "version": 3
   },
   "file_extension": ".py",
   "mimetype": "text/x-python",
   "name": "python",
   "nbconvert_exporter": "python",
   "pygments_lexer": "ipython3",
   "version": "3.8.10"
  },
  "papermill": {
   "default_parameters": {},
   "duration": 443.591251,
   "end_time": "2022-03-07T08:25:41.883102",
   "environment_variables": {},
   "exception": null,
   "input_path": "/mnt/wd500GB/CSC500/csc500-main/csc500-notebooks/templates/tl_ptn_template.ipynb",
   "output_path": "trial.ipynb",
   "parameters": {
    "parameters": {
     "BEST_MODEL_PATH": "./best_model.pth",
     "NUM_LOGS_PER_EPOCH": 10,
     "criteria_for_best": "target_loss",
     "dataset_seed": 1337,
     "datasets": [
      {
       "domain_prefix": "Wisig_",
       "domains": [
        1,
        2,
        3,
        4
       ],
       "episode_transforms": [],
       "labels": [
        "1-10",
        "1-12",
        "1-14",
        "1-16",
        "1-18",
        "1-19",
        "1-8",
        "10-11",
        "10-17",
        "10-4",
        "10-7",
        "11-1",
        "11-10",
        "11-19",
        "11-20",
        "11-4",
        "11-7",
        "12-19",
        "12-20",
        "12-7",
        "13-14",
        "13-18",
        "13-19",
        "13-20",
        "13-3",
        "13-7",
        "14-10",
        "14-11",
        "14-12",
        "14-13",
        "14-14",
        "14-19",
        "14-20",
        "14-7",
        "14-8",
        "14-9",
        "15-1",
        "15-19",
        "15-6",
        "16-1",
        "16-16",
        "16-19",
        "16-20",
        "17-10",
        "17-11",
        "18-1",
        "18-10",
        "18-11",
        "18-12",
        "18-13",
        "18-14",
        "18-15",
        "18-16",
        "18-17",
        "18-19",
        "18-2",
        "18-20",
        "18-4",
        "18-5",
        "18-7",
        "18-8",
        "18-9",
        "19-1",
        "19-10",
        "19-11",
        "19-12",
        "19-13",
        "19-14",
        "19-15",
        "19-19",
        "19-2",
        "19-20",
        "19-3",
        "19-4",
        "19-6",
        "19-7",
        "19-8",
        "19-9",
        "2-1",
        "2-13",
        "2-15",
        "2-3",
        "2-4",
        "2-5",
        "2-6",
        "2-7",
        "2-8",
        "20-1",
        "20-12",
        "20-14",
        "20-15",
        "20-16",
        "20-18",
        "20-19",
        "20-20",
        "20-3",
        "20-4",
        "20-5",
        "20-7",
        "20-8",
        "3-1",
        "3-13",
        "3-18",
        "3-2",
        "3-8",
        "4-1",
        "4-10",
        "4-11",
        "5-1",
        "5-5",
        "6-1",
        "6-15",
        "6-6",
        "7-10",
        "7-11",
        "7-12",
        "7-13",
        "7-14",
        "7-7",
        "7-8",
        "7-9",
        "8-1",
        "8-13",
        "8-14",
        "8-18",
        "8-20",
        "8-3",
        "8-8",
        "9-1",
        "9-7"
       ],
       "num_examples_per_domain_per_label": 100,
       "pickle_path": "/mnt/wd500GB/CSC500/csc500-main/datasets/wisig.node3-19.stratified_ds.2022A.pkl",
       "source_or_target_dataset": "source",
       "x_transforms": [
        "unit_power"
       ]
      },
      {
       "domain_prefix": "Metehan_",
       "domains": [
        0,
        1,
        2
       ],
       "episode_transforms": [],
       "labels": [
        0,
        1,
        2,
        3,
        4,
        5,
        6,
        7,
        8,
        9,
        10,
        11,
        12,
        13,
        14,
        15,
        16,
        17,
        18
       ],
       "num_examples_per_domain_per_label": 100,
       "pickle_path": "/mnt/wd500GB/CSC500/csc500-main/datasets/metehan.stratified_ds.2022A.pkl",
       "source_or_target_dataset": "target",
       "x_transforms": [
        "unit_power"
       ]
      }
     ],
     "device": "cuda",
     "experiment_name": "tl_1_wisig-metehan",
     "lr": 0.001,
     "n_epoch": 50,
     "n_query": 2,
     "n_shot": 3,
     "n_way": 19,
     "patience": 3,
     "seed": 1337,
     "test_k_factor": 2,
     "torch_default_dtype": "torch.float32",
     "train_k_factor": 3,
     "val_k_factor": 2,
     "x_net": [
      {
       "class": "nnReshape",
       "kargs": {
        "shape": [
         -1,
         1,
         2,
         256
        ]
       }
      },
      {
       "class": "Conv2d",
       "kargs": {
        "bias": false,
        "in_channels": 1,
        "kernel_size": [
         1,
         7
        ],
        "out_channels": 256,
        "padding": [
         0,
         3
        ]
       }
      },
      {
       "class": "ReLU",
       "kargs": {
        "inplace": true
       }
      },
      {
       "class": "BatchNorm2d",
       "kargs": {
        "num_features": 256
       }
      },
      {
       "class": "Conv2d",
       "kargs": {
        "bias": true,
        "in_channels": 256,
        "kernel_size": [
         2,
         7
        ],
        "out_channels": 80,
        "padding": [
         0,
         3
        ]
       }
      },
      {
       "class": "ReLU",
       "kargs": {
        "inplace": true
       }
      },
      {
       "class": "BatchNorm2d",
       "kargs": {
        "num_features": 80
       }
      },
      {
       "class": "Flatten",
       "kargs": {}
      },
      {
       "class": "Linear",
       "kargs": {
        "in_features": 20480,
        "out_features": 256
       }
      },
      {
       "class": "ReLU",
       "kargs": {
        "inplace": true
       }
      },
      {
       "class": "BatchNorm1d",
       "kargs": {
        "num_features": 256
       }
      },
      {
       "class": "Linear",
       "kargs": {
        "in_features": 256,
        "out_features": 256
       }
      }
     ]
    }
   },
   "start_time": "2022-03-07T08:18:18.291851",
   "version": "2.3.4"
  }
 },
 "nbformat": 4,
 "nbformat_minor": 5
}