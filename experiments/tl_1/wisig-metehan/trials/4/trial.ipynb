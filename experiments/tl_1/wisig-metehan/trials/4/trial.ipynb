{
 "cells": [
  {
   "cell_type": "markdown",
   "id": "9fea5f46",
   "metadata": {
    "papermill": {
     "duration": 0.021523,
     "end_time": "2022-03-07T08:39:03.320916",
     "exception": false,
     "start_time": "2022-03-07T08:39:03.299393",
     "status": "completed"
    },
    "tags": []
   },
   "source": [
    "# Transfer Learning Template"
   ]
  },
  {
   "cell_type": "code",
   "execution_count": 1,
   "id": "0902182a",
   "metadata": {
    "execution": {
     "iopub.execute_input": "2022-03-07T08:39:03.355587Z",
     "iopub.status.busy": "2022-03-07T08:39:03.355310Z",
     "iopub.status.idle": "2022-03-07T08:39:04.088163Z",
     "shell.execute_reply": "2022-03-07T08:39:04.087603Z"
    },
    "papermill": {
     "duration": 0.754776,
     "end_time": "2022-03-07T08:39:04.088281",
     "exception": false,
     "start_time": "2022-03-07T08:39:03.333505",
     "status": "completed"
    },
    "tags": []
   },
   "outputs": [],
   "source": [
    "%load_ext autoreload\n",
    "%autoreload 2\n",
    "%matplotlib inline\n",
    "\n",
    "    \n",
    "import os, json, sys, time, random\n",
    "import numpy as np\n",
    "import torch\n",
    "from torch.optim import Adam\n",
    "from  easydict import EasyDict\n",
    "import matplotlib.pyplot as plt\n",
    "\n",
    "from steves_models.steves_ptn import Steves_Prototypical_Network\n",
    "\n",
    "from steves_utils.lazy_iterable_wrapper import Lazy_Iterable_Wrapper\n",
    "from steves_utils.iterable_aggregator import Iterable_Aggregator\n",
    "from steves_utils.ptn_train_eval_test_jig import  PTN_Train_Eval_Test_Jig\n",
    "from steves_utils.torch_sequential_builder import build_sequential\n",
    "from steves_utils.torch_utils import get_dataset_metrics, ptn_confusion_by_domain_over_dataloader\n",
    "from steves_utils.utils_v2 import (per_domain_accuracy_from_confusion, get_datasets_base_path)\n",
    "from steves_utils.PTN.utils import independent_accuracy_assesment\n",
    "\n",
    "from torch.utils.data import DataLoader\n",
    "\n",
    "from steves_utils.stratified_dataset.episodic_accessor import Episodic_Accessor_Factory\n",
    "\n",
    "from steves_utils.ptn_do_report import (\n",
    "    get_loss_curve,\n",
    "    get_results_table,\n",
    "    get_parameters_table,\n",
    "    get_domain_accuracies,\n",
    ")\n",
    "\n",
    "from steves_utils.transforms import get_chained_transform"
   ]
  },
  {
   "cell_type": "markdown",
   "id": "41c840b4",
   "metadata": {
    "papermill": {
     "duration": 0.013062,
     "end_time": "2022-03-07T08:39:04.120238",
     "exception": false,
     "start_time": "2022-03-07T08:39:04.107176",
     "status": "completed"
    },
    "tags": []
   },
   "source": [
    "# Allowed Parameters\n",
    "These are allowed parameters, not defaults\n",
    "Each of these values need to be present in the injected parameters (the notebook will raise an exception if they are not present)\n",
    "\n",
    "Papermill uses the cell tag \"parameters\" to inject the real parameters below this cell.\n",
    "Enable tags to see what I mean"
   ]
  },
  {
   "cell_type": "code",
   "execution_count": 2,
   "id": "fd44eb83",
   "metadata": {
    "execution": {
     "iopub.execute_input": "2022-03-07T08:39:04.148623Z",
     "iopub.status.busy": "2022-03-07T08:39:04.148356Z",
     "iopub.status.idle": "2022-03-07T08:39:04.162310Z",
     "shell.execute_reply": "2022-03-07T08:39:04.162687Z"
    },
    "papermill": {
     "duration": 0.029947,
     "end_time": "2022-03-07T08:39:04.162838",
     "exception": false,
     "start_time": "2022-03-07T08:39:04.132891",
     "status": "completed"
    },
    "tags": []
   },
   "outputs": [],
   "source": [
    "required_parameters = {\n",
    "    \"experiment_name\",\n",
    "    \"lr\",\n",
    "    \"device\",\n",
    "    \"seed\",\n",
    "    \"dataset_seed\",\n",
    "    \"n_shot\",\n",
    "    \"n_query\",\n",
    "    \"n_way\",\n",
    "    \"train_k_factor\",\n",
    "    \"val_k_factor\",\n",
    "    \"test_k_factor\",\n",
    "    \"n_epoch\",\n",
    "    \"patience\",\n",
    "    \"criteria_for_best\",\n",
    "    \"x_net\",\n",
    "    \"datasets\",\n",
    "    \"torch_default_dtype\",\n",
    "    \"NUM_LOGS_PER_EPOCH\",\n",
    "    \"BEST_MODEL_PATH\",\n",
    "}"
   ]
  },
  {
   "cell_type": "code",
   "execution_count": 3,
   "id": "fa3f0049",
   "metadata": {
    "execution": {
     "iopub.execute_input": "2022-03-07T08:39:04.205102Z",
     "iopub.status.busy": "2022-03-07T08:39:04.204546Z",
     "iopub.status.idle": "2022-03-07T08:39:04.218260Z",
     "shell.execute_reply": "2022-03-07T08:39:04.217822Z"
    },
    "papermill": {
     "duration": 0.036454,
     "end_time": "2022-03-07T08:39:04.218362",
     "exception": false,
     "start_time": "2022-03-07T08:39:04.181908",
     "status": "completed"
    },
    "tags": [
     "parameters"
    ]
   },
   "outputs": [],
   "source": [
    "from steves_utils.CORES.utils import (\n",
    "    ALL_NODES,\n",
    "    ALL_NODES_MINIMUM_1000_EXAMPLES,\n",
    "    ALL_DAYS\n",
    ")\n",
    "\n",
    "from steves_utils.ORACLE.utils_v2 import (\n",
    "    ALL_DISTANCES_FEET_NARROWED,\n",
    "    ALL_RUNS,\n",
    "    ALL_SERIAL_NUMBERS,\n",
    ")\n",
    "\n",
    "standalone_parameters = {}\n",
    "standalone_parameters[\"experiment_name\"] = \"STANDALONE PTN\"\n",
    "standalone_parameters[\"lr\"] = 0.001\n",
    "standalone_parameters[\"device\"] = \"cuda\"\n",
    "\n",
    "standalone_parameters[\"seed\"] = 1337\n",
    "standalone_parameters[\"dataset_seed\"] = 1337\n",
    "\n",
    "standalone_parameters[\"n_way\"] = 8\n",
    "standalone_parameters[\"n_shot\"] = 3\n",
    "standalone_parameters[\"n_query\"]  = 2\n",
    "standalone_parameters[\"train_k_factor\"] = 1\n",
    "standalone_parameters[\"val_k_factor\"] = 2\n",
    "standalone_parameters[\"test_k_factor\"] = 2\n",
    "\n",
    "\n",
    "standalone_parameters[\"n_epoch\"] = 50\n",
    "\n",
    "standalone_parameters[\"patience\"] = 10\n",
    "standalone_parameters[\"criteria_for_best\"] = \"source_loss\"\n",
    "\n",
    "standalone_parameters[\"datasets\"] = [\n",
    "    {\n",
    "        \"labels\": ALL_SERIAL_NUMBERS,\n",
    "        \"domains\": ALL_DISTANCES_FEET_NARROWED,\n",
    "        \"num_examples_per_domain_per_label\": 100,\n",
    "        \"pickle_path\": os.path.join(get_datasets_base_path(), \"oracle.Run1_framed_2000Examples_stratified_ds.2022A.pkl\"),\n",
    "        \"source_or_target_dataset\": \"source\",\n",
    "        \"x_transforms\": [\"unit_mag\", \"minus_two\"],\n",
    "        \"episode_transforms\": [],\n",
    "        \"domain_prefix\": \"ORACLE_\"\n",
    "    },\n",
    "    {\n",
    "        \"labels\": ALL_NODES,\n",
    "        \"domains\": ALL_DAYS,\n",
    "        \"num_examples_per_domain_per_label\": 100,\n",
    "        \"pickle_path\": os.path.join(get_datasets_base_path(), \"cores.stratified_ds.2022A.pkl\"),\n",
    "        \"source_or_target_dataset\": \"target\",\n",
    "        \"x_transforms\": [\"unit_power\", \"times_zero\"],\n",
    "        \"episode_transforms\": [],\n",
    "        \"domain_prefix\": \"CORES_\"\n",
    "    }   \n",
    "]\n",
    "\n",
    "standalone_parameters[\"torch_default_dtype\"] = \"torch.float32\" \n",
    "\n",
    "\n",
    "\n",
    "standalone_parameters[\"x_net\"] =     [\n",
    "    {\"class\": \"nnReshape\", \"kargs\": {\"shape\":[-1, 1, 2, 256]}},\n",
    "    {\"class\": \"Conv2d\", \"kargs\": { \"in_channels\":1, \"out_channels\":256, \"kernel_size\":(1,7), \"bias\":False, \"padding\":(0,3), },},\n",
    "    {\"class\": \"ReLU\", \"kargs\": {\"inplace\": True}},\n",
    "    {\"class\": \"BatchNorm2d\", \"kargs\": {\"num_features\":256}},\n",
    "\n",
    "    {\"class\": \"Conv2d\", \"kargs\": { \"in_channels\":256, \"out_channels\":80, \"kernel_size\":(2,7), \"bias\":True, \"padding\":(0,3), },},\n",
    "    {\"class\": \"ReLU\", \"kargs\": {\"inplace\": True}},\n",
    "    {\"class\": \"BatchNorm2d\", \"kargs\": {\"num_features\":80}},\n",
    "    {\"class\": \"Flatten\", \"kargs\": {}},\n",
    "\n",
    "    {\"class\": \"Linear\", \"kargs\": {\"in_features\": 80*256, \"out_features\": 256}}, # 80 units per IQ pair\n",
    "    {\"class\": \"ReLU\", \"kargs\": {\"inplace\": True}},\n",
    "    {\"class\": \"BatchNorm1d\", \"kargs\": {\"num_features\":256}},\n",
    "\n",
    "    {\"class\": \"Linear\", \"kargs\": {\"in_features\": 256, \"out_features\": 256}},\n",
    "]\n",
    "\n",
    "# Parameters relevant to results\n",
    "# These parameters will basically never need to change\n",
    "standalone_parameters[\"NUM_LOGS_PER_EPOCH\"] = 10\n",
    "standalone_parameters[\"BEST_MODEL_PATH\"] = \"./best_model.pth\"\n",
    "\n",
    "\n",
    "\n",
    "\n"
   ]
  },
  {
   "cell_type": "code",
   "execution_count": 4,
   "id": "4a5c212a",
   "metadata": {
    "execution": {
     "iopub.execute_input": "2022-03-07T08:39:04.260748Z",
     "iopub.status.busy": "2022-03-07T08:39:04.260198Z",
     "iopub.status.idle": "2022-03-07T08:39:04.271873Z",
     "shell.execute_reply": "2022-03-07T08:39:04.271423Z"
    },
    "papermill": {
     "duration": 0.036526,
     "end_time": "2022-03-07T08:39:04.271964",
     "exception": false,
     "start_time": "2022-03-07T08:39:04.235438",
     "status": "completed"
    },
    "tags": [
     "injected-parameters"
    ]
   },
   "outputs": [],
   "source": [
    "# Parameters\n",
    "parameters = {\n",
    "    \"experiment_name\": \"tl_1_wisig-metehan\",\n",
    "    \"device\": \"cuda\",\n",
    "    \"lr\": 0.001,\n",
    "    \"seed\": 1337,\n",
    "    \"dataset_seed\": 1337,\n",
    "    \"n_shot\": 3,\n",
    "    \"n_query\": 2,\n",
    "    \"train_k_factor\": 3,\n",
    "    \"val_k_factor\": 2,\n",
    "    \"test_k_factor\": 2,\n",
    "    \"torch_default_dtype\": \"torch.float32\",\n",
    "    \"n_epoch\": 50,\n",
    "    \"patience\": 3,\n",
    "    \"criteria_for_best\": \"target_loss\",\n",
    "    \"x_net\": [\n",
    "        {\"class\": \"nnReshape\", \"kargs\": {\"shape\": [-1, 1, 2, 256]}},\n",
    "        {\n",
    "            \"class\": \"Conv2d\",\n",
    "            \"kargs\": {\n",
    "                \"in_channels\": 1,\n",
    "                \"out_channels\": 256,\n",
    "                \"kernel_size\": [1, 7],\n",
    "                \"bias\": False,\n",
    "                \"padding\": [0, 3],\n",
    "            },\n",
    "        },\n",
    "        {\"class\": \"ReLU\", \"kargs\": {\"inplace\": True}},\n",
    "        {\"class\": \"BatchNorm2d\", \"kargs\": {\"num_features\": 256}},\n",
    "        {\n",
    "            \"class\": \"Conv2d\",\n",
    "            \"kargs\": {\n",
    "                \"in_channels\": 256,\n",
    "                \"out_channels\": 80,\n",
    "                \"kernel_size\": [2, 7],\n",
    "                \"bias\": True,\n",
    "                \"padding\": [0, 3],\n",
    "            },\n",
    "        },\n",
    "        {\"class\": \"ReLU\", \"kargs\": {\"inplace\": True}},\n",
    "        {\"class\": \"BatchNorm2d\", \"kargs\": {\"num_features\": 80}},\n",
    "        {\"class\": \"Flatten\", \"kargs\": {}},\n",
    "        {\"class\": \"Linear\", \"kargs\": {\"in_features\": 20480, \"out_features\": 256}},\n",
    "        {\"class\": \"ReLU\", \"kargs\": {\"inplace\": True}},\n",
    "        {\"class\": \"BatchNorm1d\", \"kargs\": {\"num_features\": 256}},\n",
    "        {\"class\": \"Linear\", \"kargs\": {\"in_features\": 256, \"out_features\": 256}},\n",
    "    ],\n",
    "    \"NUM_LOGS_PER_EPOCH\": 10,\n",
    "    \"BEST_MODEL_PATH\": \"./best_model.pth\",\n",
    "    \"n_way\": 19,\n",
    "    \"datasets\": [\n",
    "        {\n",
    "            \"labels\": [\n",
    "                \"1-10\",\n",
    "                \"1-12\",\n",
    "                \"1-14\",\n",
    "                \"1-16\",\n",
    "                \"1-18\",\n",
    "                \"1-19\",\n",
    "                \"1-8\",\n",
    "                \"10-11\",\n",
    "                \"10-17\",\n",
    "                \"10-4\",\n",
    "                \"10-7\",\n",
    "                \"11-1\",\n",
    "                \"11-10\",\n",
    "                \"11-19\",\n",
    "                \"11-20\",\n",
    "                \"11-4\",\n",
    "                \"11-7\",\n",
    "                \"12-19\",\n",
    "                \"12-20\",\n",
    "                \"12-7\",\n",
    "                \"13-14\",\n",
    "                \"13-18\",\n",
    "                \"13-19\",\n",
    "                \"13-20\",\n",
    "                \"13-3\",\n",
    "                \"13-7\",\n",
    "                \"14-10\",\n",
    "                \"14-11\",\n",
    "                \"14-12\",\n",
    "                \"14-13\",\n",
    "                \"14-14\",\n",
    "                \"14-19\",\n",
    "                \"14-20\",\n",
    "                \"14-7\",\n",
    "                \"14-8\",\n",
    "                \"14-9\",\n",
    "                \"15-1\",\n",
    "                \"15-19\",\n",
    "                \"15-6\",\n",
    "                \"16-1\",\n",
    "                \"16-16\",\n",
    "                \"16-19\",\n",
    "                \"16-20\",\n",
    "                \"17-10\",\n",
    "                \"17-11\",\n",
    "                \"18-1\",\n",
    "                \"18-10\",\n",
    "                \"18-11\",\n",
    "                \"18-12\",\n",
    "                \"18-13\",\n",
    "                \"18-14\",\n",
    "                \"18-15\",\n",
    "                \"18-16\",\n",
    "                \"18-17\",\n",
    "                \"18-19\",\n",
    "                \"18-2\",\n",
    "                \"18-20\",\n",
    "                \"18-4\",\n",
    "                \"18-5\",\n",
    "                \"18-7\",\n",
    "                \"18-8\",\n",
    "                \"18-9\",\n",
    "                \"19-1\",\n",
    "                \"19-10\",\n",
    "                \"19-11\",\n",
    "                \"19-12\",\n",
    "                \"19-13\",\n",
    "                \"19-14\",\n",
    "                \"19-15\",\n",
    "                \"19-19\",\n",
    "                \"19-2\",\n",
    "                \"19-20\",\n",
    "                \"19-3\",\n",
    "                \"19-4\",\n",
    "                \"19-6\",\n",
    "                \"19-7\",\n",
    "                \"19-8\",\n",
    "                \"19-9\",\n",
    "                \"2-1\",\n",
    "                \"2-13\",\n",
    "                \"2-15\",\n",
    "                \"2-3\",\n",
    "                \"2-4\",\n",
    "                \"2-5\",\n",
    "                \"2-6\",\n",
    "                \"2-7\",\n",
    "                \"2-8\",\n",
    "                \"20-1\",\n",
    "                \"20-12\",\n",
    "                \"20-14\",\n",
    "                \"20-15\",\n",
    "                \"20-16\",\n",
    "                \"20-18\",\n",
    "                \"20-19\",\n",
    "                \"20-20\",\n",
    "                \"20-3\",\n",
    "                \"20-4\",\n",
    "                \"20-5\",\n",
    "                \"20-7\",\n",
    "                \"20-8\",\n",
    "                \"3-1\",\n",
    "                \"3-13\",\n",
    "                \"3-18\",\n",
    "                \"3-2\",\n",
    "                \"3-8\",\n",
    "                \"4-1\",\n",
    "                \"4-10\",\n",
    "                \"4-11\",\n",
    "                \"5-1\",\n",
    "                \"5-5\",\n",
    "                \"6-1\",\n",
    "                \"6-15\",\n",
    "                \"6-6\",\n",
    "                \"7-10\",\n",
    "                \"7-11\",\n",
    "                \"7-12\",\n",
    "                \"7-13\",\n",
    "                \"7-14\",\n",
    "                \"7-7\",\n",
    "                \"7-8\",\n",
    "                \"7-9\",\n",
    "                \"8-1\",\n",
    "                \"8-13\",\n",
    "                \"8-14\",\n",
    "                \"8-18\",\n",
    "                \"8-20\",\n",
    "                \"8-3\",\n",
    "                \"8-8\",\n",
    "                \"9-1\",\n",
    "                \"9-7\",\n",
    "            ],\n",
    "            \"domains\": [1, 2, 3, 4],\n",
    "            \"num_examples_per_domain_per_label\": 100,\n",
    "            \"pickle_path\": \"/mnt/wd500GB/CSC500/csc500-main/datasets/wisig.node3-19.stratified_ds.2022A.pkl\",\n",
    "            \"source_or_target_dataset\": \"target\",\n",
    "            \"x_transforms\": [\"unit_mag\"],\n",
    "            \"episode_transforms\": [],\n",
    "            \"domain_prefix\": \"Wisig_\",\n",
    "        },\n",
    "        {\n",
    "            \"labels\": [\n",
    "                0,\n",
    "                1,\n",
    "                2,\n",
    "                3,\n",
    "                4,\n",
    "                5,\n",
    "                6,\n",
    "                7,\n",
    "                8,\n",
    "                9,\n",
    "                10,\n",
    "                11,\n",
    "                12,\n",
    "                13,\n",
    "                14,\n",
    "                15,\n",
    "                16,\n",
    "                17,\n",
    "                18,\n",
    "            ],\n",
    "            \"domains\": [0, 1, 2],\n",
    "            \"num_examples_per_domain_per_label\": 100,\n",
    "            \"pickle_path\": \"/mnt/wd500GB/CSC500/csc500-main/datasets/metehan.stratified_ds.2022A.pkl\",\n",
    "            \"source_or_target_dataset\": \"source\",\n",
    "            \"x_transforms\": [\"unit_mag\"],\n",
    "            \"episode_transforms\": [],\n",
    "            \"domain_prefix\": \"Metehan_\",\n",
    "        },\n",
    "    ],\n",
    "}\n"
   ]
  },
  {
   "cell_type": "code",
   "execution_count": 5,
   "id": "8fa1cc33",
   "metadata": {
    "execution": {
     "iopub.execute_input": "2022-03-07T08:39:04.306538Z",
     "iopub.status.busy": "2022-03-07T08:39:04.306258Z",
     "iopub.status.idle": "2022-03-07T08:39:04.319471Z",
     "shell.execute_reply": "2022-03-07T08:39:04.319022Z"
    },
    "papermill": {
     "duration": 0.029613,
     "end_time": "2022-03-07T08:39:04.319559",
     "exception": false,
     "start_time": "2022-03-07T08:39:04.289946",
     "status": "completed"
    },
    "tags": []
   },
   "outputs": [],
   "source": [
    "# Set this to True if you want to run this template directly\n",
    "STANDALONE = False\n",
    "if STANDALONE:\n",
    "    print(\"parameters not injected, running with standalone_parameters\")\n",
    "    parameters = standalone_parameters\n",
    "\n",
    "if not 'parameters' in locals() and not 'parameters' in globals():\n",
    "    raise Exception(\"Parameter injection failed\")\n",
    "\n",
    "#Use an easy dict for all the parameters\n",
    "p = EasyDict(parameters)\n",
    "\n",
    "supplied_keys = set(p.keys())\n",
    "\n",
    "if  supplied_keys != required_parameters:\n",
    "    print(\"Parameters are incorrect\")\n",
    "    if len(supplied_keys - required_parameters)>0: print(\"Shouldn't have:\", str(supplied_keys - required_parameters))\n",
    "    if len(required_parameters - supplied_keys)>0: print(\"Need to have:\", str(required_parameters - supplied_keys))\n",
    "    raise RuntimeError(\"Parameters are incorrect\")\n",
    "\n"
   ]
  },
  {
   "cell_type": "code",
   "execution_count": 6,
   "id": "3a028d58",
   "metadata": {
    "execution": {
     "iopub.execute_input": "2022-03-07T08:39:04.350817Z",
     "iopub.status.busy": "2022-03-07T08:39:04.350554Z",
     "iopub.status.idle": "2022-03-07T08:39:04.364499Z",
     "shell.execute_reply": "2022-03-07T08:39:04.364111Z"
    },
    "papermill": {
     "duration": 0.028592,
     "end_time": "2022-03-07T08:39:04.364588",
     "exception": false,
     "start_time": "2022-03-07T08:39:04.335996",
     "status": "completed"
    },
    "tags": []
   },
   "outputs": [],
   "source": [
    "###################################\n",
    "# Set the RNGs and make it all deterministic\n",
    "###################################\n",
    "np.random.seed(p.seed)\n",
    "random.seed(p.seed)\n",
    "torch.manual_seed(p.seed)\n",
    "\n",
    "torch.use_deterministic_algorithms(True) "
   ]
  },
  {
   "cell_type": "code",
   "execution_count": 7,
   "id": "b691acf6",
   "metadata": {
    "execution": {
     "iopub.execute_input": "2022-03-07T08:39:04.397131Z",
     "iopub.status.busy": "2022-03-07T08:39:04.396884Z",
     "iopub.status.idle": "2022-03-07T08:39:04.407711Z",
     "shell.execute_reply": "2022-03-07T08:39:04.407959Z"
    },
    "papermill": {
     "duration": 0.025615,
     "end_time": "2022-03-07T08:39:04.408063",
     "exception": false,
     "start_time": "2022-03-07T08:39:04.382448",
     "status": "completed"
    },
    "tags": []
   },
   "outputs": [],
   "source": [
    "###########################################\n",
    "# The stratified datasets honor this\n",
    "###########################################\n",
    "torch.set_default_dtype(eval(p.torch_default_dtype))"
   ]
  },
  {
   "cell_type": "code",
   "execution_count": 8,
   "id": "b5fba671",
   "metadata": {
    "execution": {
     "iopub.execute_input": "2022-03-07T08:39:04.440802Z",
     "iopub.status.busy": "2022-03-07T08:39:04.440556Z",
     "iopub.status.idle": "2022-03-07T08:39:04.474449Z",
     "shell.execute_reply": "2022-03-07T08:39:04.474809Z"
    },
    "papermill": {
     "duration": 0.048754,
     "end_time": "2022-03-07T08:39:04.474915",
     "exception": false,
     "start_time": "2022-03-07T08:39:04.426161",
     "status": "completed"
    },
    "tags": []
   },
   "outputs": [],
   "source": [
    "###################################\n",
    "# Build the network(s)\n",
    "# Note: It's critical to do this AFTER setting the RNG\n",
    "###################################\n",
    "x_net = build_sequential(p.x_net)"
   ]
  },
  {
   "cell_type": "code",
   "execution_count": 9,
   "id": "5d7e61cc",
   "metadata": {
    "execution": {
     "iopub.execute_input": "2022-03-07T08:39:04.506638Z",
     "iopub.status.busy": "2022-03-07T08:39:04.506332Z",
     "iopub.status.idle": "2022-03-07T08:39:04.515941Z",
     "shell.execute_reply": "2022-03-07T08:39:04.516299Z"
    },
    "papermill": {
     "duration": 0.024453,
     "end_time": "2022-03-07T08:39:04.516414",
     "exception": false,
     "start_time": "2022-03-07T08:39:04.491961",
     "status": "completed"
    },
    "tags": []
   },
   "outputs": [],
   "source": [
    "start_time_secs = time.time()"
   ]
  },
  {
   "cell_type": "code",
   "execution_count": 10,
   "id": "c6b67dfd",
   "metadata": {
    "execution": {
     "iopub.execute_input": "2022-03-07T08:39:04.549079Z",
     "iopub.status.busy": "2022-03-07T08:39:04.548832Z",
     "iopub.status.idle": "2022-03-07T08:39:04.561887Z",
     "shell.execute_reply": "2022-03-07T08:39:04.561435Z"
    },
    "papermill": {
     "duration": 0.027764,
     "end_time": "2022-03-07T08:39:04.561977",
     "exception": false,
     "start_time": "2022-03-07T08:39:04.534213",
     "status": "completed"
    },
    "tags": []
   },
   "outputs": [],
   "source": [
    "p.domains_source = []\n",
    "p.domains_target = []\n",
    "\n",
    "\n",
    "train_original_source = []\n",
    "val_original_source   = []\n",
    "test_original_source  = []\n",
    "\n",
    "train_original_target = []\n",
    "val_original_target   = []\n",
    "test_original_target  = []"
   ]
  },
  {
   "cell_type": "code",
   "execution_count": 11,
   "id": "e3d9c3d3",
   "metadata": {
    "execution": {
     "iopub.execute_input": "2022-03-07T08:39:04.594672Z",
     "iopub.status.busy": "2022-03-07T08:39:04.594427Z",
     "iopub.status.idle": "2022-03-07T08:39:04.605438Z",
     "shell.execute_reply": "2022-03-07T08:39:04.604994Z"
    },
    "papermill": {
     "duration": 0.026194,
     "end_time": "2022-03-07T08:39:04.605525",
     "exception": false,
     "start_time": "2022-03-07T08:39:04.579331",
     "status": "completed"
    },
    "tags": []
   },
   "outputs": [],
   "source": [
    "# global_x_transform_func = lambda x: normalize(x.to(torch.get_default_dtype()), \"unit_power\") # unit_power, unit_mag\n",
    "# global_x_transform_func = lambda x: normalize(x, \"unit_power\") # unit_power, unit_mag"
   ]
  },
  {
   "cell_type": "code",
   "execution_count": 12,
   "id": "acb78fd2",
   "metadata": {
    "execution": {
     "iopub.execute_input": "2022-03-07T08:39:04.640544Z",
     "iopub.status.busy": "2022-03-07T08:39:04.640281Z",
     "iopub.status.idle": "2022-03-07T08:39:04.652712Z",
     "shell.execute_reply": "2022-03-07T08:39:04.652268Z"
    },
    "papermill": {
     "duration": 0.0314,
     "end_time": "2022-03-07T08:39:04.652802",
     "exception": false,
     "start_time": "2022-03-07T08:39:04.621402",
     "status": "completed"
    },
    "tags": []
   },
   "outputs": [],
   "source": [
    "def add_dataset(\n",
    "    labels,\n",
    "    domains,\n",
    "    pickle_path,\n",
    "    x_transforms,\n",
    "    episode_transforms,\n",
    "    domain_prefix,\n",
    "    num_examples_per_domain_per_label,\n",
    "    source_or_target_dataset:str,\n",
    "    iterator_seed=p.seed,\n",
    "    dataset_seed=p.dataset_seed,\n",
    "    n_shot=p.n_shot,\n",
    "    n_way=p.n_way,\n",
    "    n_query=p.n_query,\n",
    "    train_val_test_k_factors=(p.train_k_factor,p.val_k_factor,p.test_k_factor),\n",
    "):\n",
    "   \n",
    "    if x_transforms == []: x_transform = None\n",
    "    else: x_transform = get_chained_transform(x_transforms)\n",
    "    \n",
    "    if episode_transforms == []: episode_transform = None\n",
    "    else: raise Exception(\"episode_transforms not implemented\")\n",
    "    \n",
    "    episode_transform = lambda tup, _prefix=domain_prefix: (_prefix + str(tup[0]), tup[1])\n",
    "\n",
    "\n",
    "    eaf = Episodic_Accessor_Factory(\n",
    "        labels=labels,\n",
    "        domains=domains,\n",
    "        num_examples_per_domain_per_label=num_examples_per_domain_per_label,\n",
    "        iterator_seed=iterator_seed,\n",
    "        dataset_seed=dataset_seed,\n",
    "        n_shot=n_shot,\n",
    "        n_way=n_way,\n",
    "        n_query=n_query,\n",
    "        train_val_test_k_factors=train_val_test_k_factors,\n",
    "        pickle_path=pickle_path,\n",
    "        x_transform_func=x_transform,\n",
    "    )\n",
    "\n",
    "    train, val, test = eaf.get_train(), eaf.get_val(), eaf.get_test()\n",
    "    train = Lazy_Iterable_Wrapper(train, episode_transform)\n",
    "    val = Lazy_Iterable_Wrapper(val, episode_transform)\n",
    "    test = Lazy_Iterable_Wrapper(test, episode_transform)\n",
    "\n",
    "    if source_or_target_dataset==\"source\":\n",
    "        train_original_source.append(train)\n",
    "        val_original_source.append(val)\n",
    "        test_original_source.append(test)\n",
    "\n",
    "        p.domains_source.extend(\n",
    "            [domain_prefix + str(u) for u in domains]\n",
    "        )\n",
    "    elif source_or_target_dataset==\"target\":\n",
    "        train_original_target.append(train)\n",
    "        val_original_target.append(val)\n",
    "        test_original_target.append(test)\n",
    "        p.domains_target.extend(\n",
    "            [domain_prefix + str(u) for u in domains]\n",
    "        )\n",
    "    else:\n",
    "        raise Exception(f\"invalid source_or_target_dataset: {source_or_target_dataset}\")\n",
    "    "
   ]
  },
  {
   "cell_type": "code",
   "execution_count": 13,
   "id": "fe266617",
   "metadata": {
    "execution": {
     "iopub.execute_input": "2022-03-07T08:39:04.685753Z",
     "iopub.status.busy": "2022-03-07T08:39:04.685506Z",
     "iopub.status.idle": "2022-03-07T08:39:08.481140Z",
     "shell.execute_reply": "2022-03-07T08:39:08.480649Z"
    },
    "papermill": {
     "duration": 3.810416,
     "end_time": "2022-03-07T08:39:08.481242",
     "exception": false,
     "start_time": "2022-03-07T08:39:04.670826",
     "status": "completed"
    },
    "tags": []
   },
   "outputs": [],
   "source": [
    "for ds in p.datasets:\n",
    "    add_dataset(**ds)"
   ]
  },
  {
   "cell_type": "code",
   "execution_count": 14,
   "id": "b90d65ac",
   "metadata": {
    "execution": {
     "iopub.execute_input": "2022-03-07T08:39:08.517140Z",
     "iopub.status.busy": "2022-03-07T08:39:08.516882Z",
     "iopub.status.idle": "2022-03-07T08:39:08.530902Z",
     "shell.execute_reply": "2022-03-07T08:39:08.530432Z"
    },
    "papermill": {
     "duration": 0.029588,
     "end_time": "2022-03-07T08:39:08.530992",
     "exception": false,
     "start_time": "2022-03-07T08:39:08.501404",
     "status": "completed"
    },
    "tags": []
   },
   "outputs": [],
   "source": [
    "# from steves_utils.CORES.utils import (\n",
    "#     ALL_NODES,\n",
    "#     ALL_NODES_MINIMUM_1000_EXAMPLES,\n",
    "#     ALL_DAYS\n",
    "# )\n",
    "\n",
    "# add_dataset(\n",
    "#     labels=ALL_NODES,\n",
    "#     domains = ALL_DAYS,\n",
    "#     num_examples_per_domain_per_label=100,\n",
    "#     pickle_path=os.path.join(get_datasets_base_path(), \"cores.stratified_ds.2022A.pkl\"),\n",
    "#     source_or_target_dataset=\"target\",\n",
    "#     x_transform_func=global_x_transform_func,\n",
    "#     domain_modifier=lambda u: f\"cores_{u}\"\n",
    "# )"
   ]
  },
  {
   "cell_type": "code",
   "execution_count": 15,
   "id": "76db484d",
   "metadata": {
    "execution": {
     "iopub.execute_input": "2022-03-07T08:39:08.565959Z",
     "iopub.status.busy": "2022-03-07T08:39:08.565705Z",
     "iopub.status.idle": "2022-03-07T08:39:08.574600Z",
     "shell.execute_reply": "2022-03-07T08:39:08.574918Z"
    },
    "papermill": {
     "duration": 0.024981,
     "end_time": "2022-03-07T08:39:08.575001",
     "exception": false,
     "start_time": "2022-03-07T08:39:08.550020",
     "status": "completed"
    },
    "tags": []
   },
   "outputs": [],
   "source": [
    "# from steves_utils.ORACLE.utils_v2 import (\n",
    "#     ALL_DISTANCES_FEET,\n",
    "#     ALL_RUNS,\n",
    "#     ALL_SERIAL_NUMBERS,\n",
    "# )\n",
    "\n",
    "\n",
    "# add_dataset(\n",
    "#     labels=ALL_SERIAL_NUMBERS,\n",
    "#     domains = list(set(ALL_DISTANCES_FEET) - {2,62}),\n",
    "#     num_examples_per_domain_per_label=100,\n",
    "#     pickle_path=os.path.join(get_datasets_base_path(), \"oracle.Run2_framed_2000Examples_stratified_ds.2022A.pkl\"),\n",
    "#     source_or_target_dataset=\"source\",\n",
    "#     x_transform_func=global_x_transform_func,\n",
    "#     domain_modifier=lambda u: f\"oracle1_{u}\"\n",
    "# )\n"
   ]
  },
  {
   "cell_type": "code",
   "execution_count": 16,
   "id": "97dea9d2",
   "metadata": {
    "execution": {
     "iopub.execute_input": "2022-03-07T08:39:08.606894Z",
     "iopub.status.busy": "2022-03-07T08:39:08.606622Z",
     "iopub.status.idle": "2022-03-07T08:39:08.617711Z",
     "shell.execute_reply": "2022-03-07T08:39:08.618067Z"
    },
    "papermill": {
     "duration": 0.027324,
     "end_time": "2022-03-07T08:39:08.618173",
     "exception": false,
     "start_time": "2022-03-07T08:39:08.590849",
     "status": "completed"
    },
    "tags": []
   },
   "outputs": [],
   "source": [
    "# from steves_utils.ORACLE.utils_v2 import (\n",
    "#     ALL_DISTANCES_FEET,\n",
    "#     ALL_RUNS,\n",
    "#     ALL_SERIAL_NUMBERS,\n",
    "# )\n",
    "\n",
    "\n",
    "# add_dataset(\n",
    "#     labels=ALL_SERIAL_NUMBERS,\n",
    "#     domains = list(set(ALL_DISTANCES_FEET) - {2,62,56}),\n",
    "#     num_examples_per_domain_per_label=100,\n",
    "#     pickle_path=os.path.join(get_datasets_base_path(), \"oracle.Run2_framed_2000Examples_stratified_ds.2022A.pkl\"),\n",
    "#     source_or_target_dataset=\"source\",\n",
    "#     x_transform_func=global_x_transform_func,\n",
    "#     domain_modifier=lambda u: f\"oracle2_{u}\"\n",
    "# )"
   ]
  },
  {
   "cell_type": "code",
   "execution_count": 17,
   "id": "6f289866",
   "metadata": {
    "execution": {
     "iopub.execute_input": "2022-03-07T08:39:08.650053Z",
     "iopub.status.busy": "2022-03-07T08:39:08.649798Z",
     "iopub.status.idle": "2022-03-07T08:39:08.662889Z",
     "shell.execute_reply": "2022-03-07T08:39:08.663187Z"
    },
    "papermill": {
     "duration": 0.028845,
     "end_time": "2022-03-07T08:39:08.663268",
     "exception": false,
     "start_time": "2022-03-07T08:39:08.634423",
     "status": "completed"
    },
    "tags": []
   },
   "outputs": [],
   "source": [
    "# add_dataset(\n",
    "#     labels=list(range(19)),\n",
    "#     domains = [0,1,2],\n",
    "#     num_examples_per_domain_per_label=100,\n",
    "#     pickle_path=os.path.join(get_datasets_base_path(), \"metehan.stratified_ds.2022A.pkl\"),\n",
    "#     source_or_target_dataset=\"target\",\n",
    "#     x_transform_func=global_x_transform_func,\n",
    "#     domain_modifier=lambda u: f\"met_{u}\"\n",
    "# )"
   ]
  },
  {
   "cell_type": "code",
   "execution_count": 18,
   "id": "86a863c3",
   "metadata": {
    "execution": {
     "iopub.execute_input": "2022-03-07T08:39:08.698930Z",
     "iopub.status.busy": "2022-03-07T08:39:08.698671Z",
     "iopub.status.idle": "2022-03-07T08:39:08.711924Z",
     "shell.execute_reply": "2022-03-07T08:39:08.711536Z"
    },
    "papermill": {
     "duration": 0.029769,
     "end_time": "2022-03-07T08:39:08.712012",
     "exception": false,
     "start_time": "2022-03-07T08:39:08.682243",
     "status": "completed"
    },
    "tags": []
   },
   "outputs": [],
   "source": [
    "# # from steves_utils.wisig.utils import (\n",
    "# #     ALL_NODES_MINIMUM_100_EXAMPLES,\n",
    "# #     ALL_NODES_MINIMUM_500_EXAMPLES,\n",
    "# #     ALL_NODES_MINIMUM_1000_EXAMPLES,\n",
    "# #     ALL_DAYS\n",
    "# # )\n",
    "\n",
    "# import steves_utils.wisig.utils as wisig\n",
    "\n",
    "\n",
    "# add_dataset(\n",
    "#     labels=wisig.ALL_NODES_MINIMUM_100_EXAMPLES,\n",
    "#     domains = wisig.ALL_DAYS,\n",
    "#     num_examples_per_domain_per_label=100,\n",
    "#     pickle_path=os.path.join(get_datasets_base_path(), \"wisig.node3-19.stratified_ds.2022A.pkl\"),\n",
    "#     source_or_target_dataset=\"target\",\n",
    "#     x_transform_func=global_x_transform_func,\n",
    "#     domain_modifier=lambda u: f\"wisig_{u}\"\n",
    "# )"
   ]
  },
  {
   "cell_type": "code",
   "execution_count": 19,
   "id": "fd5442bc",
   "metadata": {
    "execution": {
     "iopub.execute_input": "2022-03-07T08:39:08.748328Z",
     "iopub.status.busy": "2022-03-07T08:39:08.748073Z",
     "iopub.status.idle": "2022-03-07T08:39:08.759028Z",
     "shell.execute_reply": "2022-03-07T08:39:08.758815Z"
    },
    "papermill": {
     "duration": 0.0286,
     "end_time": "2022-03-07T08:39:08.759076",
     "exception": false,
     "start_time": "2022-03-07T08:39:08.730476",
     "status": "completed"
    },
    "tags": []
   },
   "outputs": [],
   "source": [
    "###################################\n",
    "# Build the dataset\n",
    "###################################\n",
    "train_original_source = Iterable_Aggregator(train_original_source, p.seed)\n",
    "val_original_source = Iterable_Aggregator(val_original_source, p.seed)\n",
    "test_original_source = Iterable_Aggregator(test_original_source, p.seed)\n",
    "\n",
    "\n",
    "train_original_target = Iterable_Aggregator(train_original_target, p.seed)\n",
    "val_original_target = Iterable_Aggregator(val_original_target, p.seed)\n",
    "test_original_target = Iterable_Aggregator(test_original_target, p.seed)\n",
    "\n",
    "# For CNN We only use X and Y. And we only train on the source.\n",
    "# Properly form the data using a transform lambda and Lazy_Iterable_Wrapper. Finally wrap them in a dataloader\n",
    "\n",
    "transform_lambda = lambda ex: ex[1] # Original is (<domain>, <episode>) so we strip down to episode only\n",
    "\n",
    "train_processed_source = Lazy_Iterable_Wrapper(train_original_source, transform_lambda)\n",
    "val_processed_source   = Lazy_Iterable_Wrapper(val_original_source, transform_lambda)\n",
    "test_processed_source  = Lazy_Iterable_Wrapper(test_original_source, transform_lambda)\n",
    "\n",
    "train_processed_target = Lazy_Iterable_Wrapper(train_original_target, transform_lambda)\n",
    "val_processed_target   = Lazy_Iterable_Wrapper(val_original_target, transform_lambda)\n",
    "test_processed_target  = Lazy_Iterable_Wrapper(test_original_target, transform_lambda)\n",
    "\n",
    "datasets = EasyDict({\n",
    "    \"source\": {\n",
    "        \"original\": {\"train\":train_original_source, \"val\":val_original_source, \"test\":test_original_source},\n",
    "        \"processed\": {\"train\":train_processed_source, \"val\":val_processed_source, \"test\":test_processed_source}\n",
    "    },\n",
    "    \"target\": {\n",
    "        \"original\": {\"train\":train_original_target, \"val\":val_original_target, \"test\":test_original_target},\n",
    "        \"processed\": {\"train\":train_processed_target, \"val\":val_processed_target, \"test\":test_processed_target}\n",
    "    },\n",
    "})"
   ]
  },
  {
   "cell_type": "code",
   "execution_count": 20,
   "id": "5b3c01fc",
   "metadata": {
    "execution": {
     "iopub.execute_input": "2022-03-07T08:39:08.793986Z",
     "iopub.status.busy": "2022-03-07T08:39:08.793575Z",
     "iopub.status.idle": "2022-03-07T08:39:10.925247Z",
     "shell.execute_reply": "2022-03-07T08:39:10.925635Z"
    },
    "papermill": {
     "duration": 2.149372,
     "end_time": "2022-03-07T08:39:10.925771",
     "exception": false,
     "start_time": "2022-03-07T08:39:08.776399",
     "status": "completed"
    },
    "tags": []
   },
   "outputs": [
    {
     "name": "stdout",
     "output_type": "stream",
     "text": [
      "{'Metehan_0', 'Metehan_1', 'Metehan_2'}\n"
     ]
    },
    {
     "name": "stdout",
     "output_type": "stream",
     "text": [
      "{'Wisig_1', 'Wisig_2', 'Wisig_3', 'Wisig_4'}\n"
     ]
    },
    {
     "name": "stdout",
     "output_type": "stream",
     "text": [
      "tensor([[[ 0.5468,  0.3415,  0.1849,  ..., -0.3959, -0.6481, -0.5717],\n",
      "         [ 0.4864,  0.4837,  0.5430,  ..., -1.1644, -1.1966, -1.1190]],\n",
      "\n",
      "        [[ 0.4900,  0.2334,  0.2540,  ..., -0.4485, -0.6063, -0.6682],\n",
      "         [ 0.3853,  0.4342,  0.6471,  ..., -1.1164, -1.1332, -1.0882]],\n",
      "\n",
      "        [[ 0.3917,  0.3622,  0.1533,  ..., -0.4199, -0.5831, -0.7817],\n",
      "         [ 0.4717,  0.4321,  0.6160,  ..., -1.0792, -1.2151, -0.9826]],\n",
      "\n",
      "        ...,\n",
      "\n",
      "        [[ 0.3902,  0.2023,  0.1776,  ..., -0.2370, -0.4634, -0.6559],\n",
      "         [ 0.4545,  0.4174,  0.5863,  ..., -1.2670, -1.0557, -1.1361]],\n",
      "\n",
      "        [[ 0.4425,  0.3720,  0.1056,  ..., -0.2933, -0.5385, -0.6103],\n",
      "         [ 0.4349,  0.5441,  0.5486,  ..., -1.2337, -1.3482, -1.1098]],\n",
      "\n",
      "        [[ 0.3619,  0.2162,  0.1726,  ..., -0.3267, -0.4970, -0.6327],\n",
      "         [ 0.2775,  0.3134,  0.6049,  ..., -1.2656, -1.2928, -1.0523]]])\n"
     ]
    }
   ],
   "source": [
    "from steves_utils.transforms import get_average_magnitude, get_average_power\n",
    "\n",
    "print(set([u for u,_ in val_original_source]))\n",
    "print(set([u for u,_ in val_original_target]))\n",
    "\n",
    "s_x, s_y, q_x, q_y, _ = next(iter(train_processed_source))\n",
    "print(s_x)\n",
    "\n",
    "# for ds in [\n",
    "#     train_processed_source,\n",
    "#     val_processed_source,\n",
    "#     test_processed_source,\n",
    "#     train_processed_target,\n",
    "#     val_processed_target,\n",
    "#     test_processed_target\n",
    "# ]:\n",
    "#     for s_x, s_y, q_x, q_y, _ in ds:\n",
    "#         for X in (s_x, q_x):\n",
    "#             for x in X:\n",
    "#                 assert np.isclose(get_average_magnitude(x.numpy()), 1.0)\n",
    "#                 assert np.isclose(get_average_power(x.numpy()), 1.0)\n",
    "                "
   ]
  },
  {
   "cell_type": "code",
   "execution_count": 21,
   "id": "bbdacba1",
   "metadata": {
    "execution": {
     "iopub.execute_input": "2022-03-07T08:39:10.969762Z",
     "iopub.status.busy": "2022-03-07T08:39:10.964634Z",
     "iopub.status.idle": "2022-03-07T08:39:11.022211Z",
     "shell.execute_reply": "2022-03-07T08:39:11.021720Z"
    },
    "papermill": {
     "duration": 0.075527,
     "end_time": "2022-03-07T08:39:11.022315",
     "exception": false,
     "start_time": "2022-03-07T08:39:10.946788",
     "status": "completed"
    },
    "tags": []
   },
   "outputs": [
    {
     "name": "stdout",
     "output_type": "stream",
     "text": [
      "(2, 256)\n"
     ]
    }
   ],
   "source": [
    "###################################\n",
    "# Build the model\n",
    "###################################\n",
    "model = Steves_Prototypical_Network(x_net, device=p.device, x_shape=(2,256))\n",
    "optimizer = Adam(params=model.parameters(), lr=p.lr)"
   ]
  },
  {
   "cell_type": "code",
   "execution_count": 22,
   "id": "22b39ac5",
   "metadata": {
    "execution": {
     "iopub.execute_input": "2022-03-07T08:39:11.060337Z",
     "iopub.status.busy": "2022-03-07T08:39:11.060086Z",
     "iopub.status.idle": "2022-03-07T08:39:55.131458Z",
     "shell.execute_reply": "2022-03-07T08:39:55.131858Z"
    },
    "papermill": {
     "duration": 44.089643,
     "end_time": "2022-03-07T08:39:55.131986",
     "exception": false,
     "start_time": "2022-03-07T08:39:11.042343",
     "status": "completed"
    },
    "tags": []
   },
   "outputs": [
    {
     "name": "stdout",
     "output_type": "stream",
     "text": [
      "epoch: 1, [batch: 1 / 126], examples_per_second: 845.4841, train_label_loss: 2.6183, \n"
     ]
    },
    {
     "name": "stdout",
     "output_type": "stream",
     "text": [
      "epoch: 1, [batch: 13 / 126], examples_per_second: 3055.7307, train_label_loss: 0.4449, \n"
     ]
    },
    {
     "name": "stdout",
     "output_type": "stream",
     "text": [
      "epoch: 1, [batch: 26 / 126], examples_per_second: 3252.9319, train_label_loss: 0.2897, \n"
     ]
    },
    {
     "name": "stdout",
     "output_type": "stream",
     "text": [
      "epoch: 1, [batch: 38 / 126], examples_per_second: 3219.7505, train_label_loss: 0.3718, \n"
     ]
    },
    {
     "name": "stdout",
     "output_type": "stream",
     "text": [
      "epoch: 1, [batch: 51 / 126], examples_per_second: 3257.8358, train_label_loss: 0.3018, \n"
     ]
    },
    {
     "name": "stdout",
     "output_type": "stream",
     "text": [
      "epoch: 1, [batch: 63 / 126], examples_per_second: 3279.0022, train_label_loss: 0.1938, \n"
     ]
    },
    {
     "name": "stdout",
     "output_type": "stream",
     "text": [
      "epoch: 1, [batch: 76 / 126], examples_per_second: 3242.9367, train_label_loss: 0.2051, \n"
     ]
    },
    {
     "name": "stdout",
     "output_type": "stream",
     "text": [
      "epoch: 1, [batch: 88 / 126], examples_per_second: 3266.8352, train_label_loss: 0.3556, \n"
     ]
    },
    {
     "name": "stdout",
     "output_type": "stream",
     "text": [
      "epoch: 1, [batch: 101 / 126], examples_per_second: 3282.8723, train_label_loss: 0.1824, \n"
     ]
    },
    {
     "name": "stdout",
     "output_type": "stream",
     "text": [
      "epoch: 1, [batch: 113 / 126], examples_per_second: 3323.2277, train_label_loss: 0.3008, \n"
     ]
    },
    {
     "name": "stdout",
     "output_type": "stream",
     "text": [
      "=============================================================\n",
      "epoch: 1, source_val_acc_label: 0.8743, target_val_acc_label: 0.1470, source_val_label_loss: 0.3154, target_val_label_loss: 80.8081, \n",
      "=============================================================\n"
     ]
    },
    {
     "name": "stdout",
     "output_type": "stream",
     "text": [
      "New best\n"
     ]
    },
    {
     "name": "stdout",
     "output_type": "stream",
     "text": [
      "epoch: 2, [batch: 1 / 126], examples_per_second: 83.8429, train_label_loss: 0.2411, \n"
     ]
    },
    {
     "name": "stdout",
     "output_type": "stream",
     "text": [
      "epoch: 2, [batch: 13 / 126], examples_per_second: 3316.5063, train_label_loss: 0.1877, \n"
     ]
    },
    {
     "name": "stdout",
     "output_type": "stream",
     "text": [
      "epoch: 2, [batch: 26 / 126], examples_per_second: 3315.2755, train_label_loss: 1.1718, \n"
     ]
    },
    {
     "name": "stdout",
     "output_type": "stream",
     "text": [
      "epoch: 2, [batch: 38 / 126], examples_per_second: 3294.7096, train_label_loss: 1.1861, \n"
     ]
    },
    {
     "name": "stdout",
     "output_type": "stream",
     "text": [
      "epoch: 2, [batch: 51 / 126], examples_per_second: 3264.9077, train_label_loss: 2.2909, \n"
     ]
    },
    {
     "name": "stdout",
     "output_type": "stream",
     "text": [
      "epoch: 2, [batch: 63 / 126], examples_per_second: 3254.1733, train_label_loss: 2.2197, \n"
     ]
    },
    {
     "name": "stdout",
     "output_type": "stream",
     "text": [
      "epoch: 2, [batch: 76 / 126], examples_per_second: 3275.2419, train_label_loss: 1.7072, \n"
     ]
    },
    {
     "name": "stdout",
     "output_type": "stream",
     "text": [
      "epoch: 2, [batch: 88 / 126], examples_per_second: 3289.3243, train_label_loss: 0.9439, \n"
     ]
    },
    {
     "name": "stdout",
     "output_type": "stream",
     "text": [
      "epoch: 2, [batch: 101 / 126], examples_per_second: 3319.4969, train_label_loss: 0.9062, \n"
     ]
    },
    {
     "name": "stdout",
     "output_type": "stream",
     "text": [
      "epoch: 2, [batch: 113 / 126], examples_per_second: 3233.4699, train_label_loss: 1.0196, \n"
     ]
    },
    {
     "name": "stdout",
     "output_type": "stream",
     "text": [
      "=============================================================\n",
      "epoch: 2, source_val_acc_label: 0.8289, target_val_acc_label: 0.1567, source_val_label_loss: 1.0311, target_val_label_loss: 61.7984, \n",
      "=============================================================\n"
     ]
    },
    {
     "name": "stdout",
     "output_type": "stream",
     "text": [
      "New best\n"
     ]
    },
    {
     "name": "stdout",
     "output_type": "stream",
     "text": [
      "epoch: 3, [batch: 1 / 126], examples_per_second: 82.6908, train_label_loss: 0.8059, \n"
     ]
    },
    {
     "name": "stdout",
     "output_type": "stream",
     "text": [
      "epoch: 3, [batch: 13 / 126], examples_per_second: 3331.2571, train_label_loss: 1.6159, \n"
     ]
    },
    {
     "name": "stdout",
     "output_type": "stream",
     "text": [
      "epoch: 3, [batch: 26 / 126], examples_per_second: 3341.9520, train_label_loss: 1.4295, \n"
     ]
    },
    {
     "name": "stdout",
     "output_type": "stream",
     "text": [
      "epoch: 3, [batch: 38 / 126], examples_per_second: 3281.1465, train_label_loss: 0.3112, \n"
     ]
    },
    {
     "name": "stdout",
     "output_type": "stream",
     "text": [
      "epoch: 3, [batch: 51 / 126], examples_per_second: 3324.0534, train_label_loss: 0.5823, \n"
     ]
    },
    {
     "name": "stdout",
     "output_type": "stream",
     "text": [
      "epoch: 3, [batch: 63 / 126], examples_per_second: 3306.8568, train_label_loss: 0.7225, \n"
     ]
    },
    {
     "name": "stdout",
     "output_type": "stream",
     "text": [
      "epoch: 3, [batch: 76 / 126], examples_per_second: 3277.0612, train_label_loss: 0.4681, \n"
     ]
    },
    {
     "name": "stdout",
     "output_type": "stream",
     "text": [
      "epoch: 3, [batch: 88 / 126], examples_per_second: 3297.4702, train_label_loss: 0.4429, \n"
     ]
    },
    {
     "name": "stdout",
     "output_type": "stream",
     "text": [
      "epoch: 3, [batch: 101 / 126], examples_per_second: 3298.6435, train_label_loss: 0.0550, \n"
     ]
    },
    {
     "name": "stdout",
     "output_type": "stream",
     "text": [
      "epoch: 3, [batch: 113 / 126], examples_per_second: 3287.6869, train_label_loss: 1.0400, \n"
     ]
    },
    {
     "name": "stdout",
     "output_type": "stream",
     "text": [
      "=============================================================\n",
      "epoch: 3, source_val_acc_label: 0.8377, target_val_acc_label: 0.2734, source_val_label_loss: 0.6683, target_val_label_loss: 47.2712, \n",
      "=============================================================\n"
     ]
    },
    {
     "name": "stdout",
     "output_type": "stream",
     "text": [
      "New best\n"
     ]
    },
    {
     "name": "stdout",
     "output_type": "stream",
     "text": [
      "epoch: 4, [batch: 1 / 126], examples_per_second: 81.9477, train_label_loss: 0.2373, \n"
     ]
    },
    {
     "name": "stdout",
     "output_type": "stream",
     "text": [
      "epoch: 4, [batch: 13 / 126], examples_per_second: 3284.3198, train_label_loss: 0.3439, \n"
     ]
    },
    {
     "name": "stdout",
     "output_type": "stream",
     "text": [
      "epoch: 4, [batch: 26 / 126], examples_per_second: 3269.3691, train_label_loss: 0.2455, \n"
     ]
    },
    {
     "name": "stdout",
     "output_type": "stream",
     "text": [
      "epoch: 4, [batch: 38 / 126], examples_per_second: 3255.9904, train_label_loss: 0.4095, \n"
     ]
    },
    {
     "name": "stdout",
     "output_type": "stream",
     "text": [
      "epoch: 4, [batch: 51 / 126], examples_per_second: 3299.6542, train_label_loss: 0.2375, \n"
     ]
    },
    {
     "name": "stdout",
     "output_type": "stream",
     "text": [
      "epoch: 4, [batch: 63 / 126], examples_per_second: 3296.3563, train_label_loss: 0.2048, \n"
     ]
    },
    {
     "name": "stdout",
     "output_type": "stream",
     "text": [
      "epoch: 4, [batch: 76 / 126], examples_per_second: 3243.5723, train_label_loss: 0.3256, \n"
     ]
    },
    {
     "name": "stdout",
     "output_type": "stream",
     "text": [
      "epoch: 4, [batch: 88 / 126], examples_per_second: 3268.1258, train_label_loss: 0.1044, \n"
     ]
    },
    {
     "name": "stdout",
     "output_type": "stream",
     "text": [
      "epoch: 4, [batch: 101 / 126], examples_per_second: 3285.3417, train_label_loss: 0.3493, \n"
     ]
    },
    {
     "name": "stdout",
     "output_type": "stream",
     "text": [
      "epoch: 4, [batch: 113 / 126], examples_per_second: 3298.5166, train_label_loss: 0.2314, \n"
     ]
    },
    {
     "name": "stdout",
     "output_type": "stream",
     "text": [
      "=============================================================\n",
      "epoch: 4, source_val_acc_label: 0.8538, target_val_acc_label: 0.2783, source_val_label_loss: 0.4158, target_val_label_loss: 16.1490, \n",
      "=============================================================\n"
     ]
    },
    {
     "name": "stdout",
     "output_type": "stream",
     "text": [
      "New best\n"
     ]
    },
    {
     "name": "stdout",
     "output_type": "stream",
     "text": [
      "epoch: 5, [batch: 1 / 126], examples_per_second: 82.4104, train_label_loss: 0.2311, \n"
     ]
    },
    {
     "name": "stdout",
     "output_type": "stream",
     "text": [
      "epoch: 5, [batch: 13 / 126], examples_per_second: 3271.6007, train_label_loss: 0.1864, \n"
     ]
    },
    {
     "name": "stdout",
     "output_type": "stream",
     "text": [
      "epoch: 5, [batch: 26 / 126], examples_per_second: 3369.5018, train_label_loss: 0.3034, \n"
     ]
    },
    {
     "name": "stdout",
     "output_type": "stream",
     "text": [
      "epoch: 5, [batch: 38 / 126], examples_per_second: 3310.2267, train_label_loss: 0.2631, \n"
     ]
    },
    {
     "name": "stdout",
     "output_type": "stream",
     "text": [
      "epoch: 5, [batch: 51 / 126], examples_per_second: 3311.1452, train_label_loss: 0.1196, \n"
     ]
    },
    {
     "name": "stdout",
     "output_type": "stream",
     "text": [
      "epoch: 5, [batch: 63 / 126], examples_per_second: 3269.9227, train_label_loss: 0.1541, \n"
     ]
    },
    {
     "name": "stdout",
     "output_type": "stream",
     "text": [
      "epoch: 5, [batch: 76 / 126], examples_per_second: 3302.9870, train_label_loss: 0.4240, \n"
     ]
    },
    {
     "name": "stdout",
     "output_type": "stream",
     "text": [
      "epoch: 5, [batch: 88 / 126], examples_per_second: 3302.0679, train_label_loss: 0.4184, \n"
     ]
    },
    {
     "name": "stdout",
     "output_type": "stream",
     "text": [
      "epoch: 5, [batch: 101 / 126], examples_per_second: 3246.7316, train_label_loss: 0.1871, \n"
     ]
    },
    {
     "name": "stdout",
     "output_type": "stream",
     "text": [
      "epoch: 5, [batch: 113 / 126], examples_per_second: 3299.7640, train_label_loss: 0.4269, \n"
     ]
    },
    {
     "name": "stdout",
     "output_type": "stream",
     "text": [
      "=============================================================\n",
      "epoch: 5, source_val_acc_label: 0.8640, target_val_acc_label: 0.3230, source_val_label_loss: 0.4046, target_val_label_loss: 21.3242, \n",
      "=============================================================\n"
     ]
    },
    {
     "name": "stdout",
     "output_type": "stream",
     "text": [
      "epoch: 6, [batch: 1 / 126], examples_per_second: 84.9907, train_label_loss: 0.2074, \n"
     ]
    },
    {
     "name": "stdout",
     "output_type": "stream",
     "text": [
      "epoch: 6, [batch: 13 / 126], examples_per_second: 3242.8030, train_label_loss: 0.1286, \n"
     ]
    },
    {
     "name": "stdout",
     "output_type": "stream",
     "text": [
      "epoch: 6, [batch: 26 / 126], examples_per_second: 3251.6168, train_label_loss: 0.3549, \n"
     ]
    },
    {
     "name": "stdout",
     "output_type": "stream",
     "text": [
      "epoch: 6, [batch: 38 / 126], examples_per_second: 3256.4849, train_label_loss: 0.2822, \n"
     ]
    },
    {
     "name": "stdout",
     "output_type": "stream",
     "text": [
      "epoch: 6, [batch: 51 / 126], examples_per_second: 3263.2520, train_label_loss: 0.2692, \n"
     ]
    },
    {
     "name": "stdout",
     "output_type": "stream",
     "text": [
      "epoch: 6, [batch: 63 / 126], examples_per_second: 3320.6913, train_label_loss: 0.1302, \n"
     ]
    },
    {
     "name": "stdout",
     "output_type": "stream",
     "text": [
      "epoch: 6, [batch: 76 / 126], examples_per_second: 3334.0470, train_label_loss: 0.1687, \n"
     ]
    },
    {
     "name": "stdout",
     "output_type": "stream",
     "text": [
      "epoch: 6, [batch: 88 / 126], examples_per_second: 3228.2153, train_label_loss: 0.4580, \n"
     ]
    },
    {
     "name": "stdout",
     "output_type": "stream",
     "text": [
      "epoch: 6, [batch: 101 / 126], examples_per_second: 3316.0353, train_label_loss: 0.3047, \n"
     ]
    },
    {
     "name": "stdout",
     "output_type": "stream",
     "text": [
      "epoch: 6, [batch: 113 / 126], examples_per_second: 3269.0307, train_label_loss: 0.3386, \n"
     ]
    },
    {
     "name": "stdout",
     "output_type": "stream",
     "text": [
      "=============================================================\n",
      "epoch: 6, source_val_acc_label: 0.8655, target_val_acc_label: 0.3115, source_val_label_loss: 0.3695, target_val_label_loss: 18.1631, \n",
      "=============================================================\n"
     ]
    },
    {
     "name": "stdout",
     "output_type": "stream",
     "text": [
      "epoch: 7, [batch: 1 / 126], examples_per_second: 85.8577, train_label_loss: 0.3259, \n"
     ]
    },
    {
     "name": "stdout",
     "output_type": "stream",
     "text": [
      "epoch: 7, [batch: 13 / 126], examples_per_second: 3302.9347, train_label_loss: 0.3798, \n"
     ]
    },
    {
     "name": "stdout",
     "output_type": "stream",
     "text": [
      "epoch: 7, [batch: 26 / 126], examples_per_second: 3281.7284, train_label_loss: 0.3693, \n"
     ]
    },
    {
     "name": "stdout",
     "output_type": "stream",
     "text": [
      "epoch: 7, [batch: 38 / 126], examples_per_second: 3279.7624, train_label_loss: 0.1721, \n"
     ]
    },
    {
     "name": "stdout",
     "output_type": "stream",
     "text": [
      "epoch: 7, [batch: 51 / 126], examples_per_second: 3290.3105, train_label_loss: 0.2626, \n"
     ]
    },
    {
     "name": "stdout",
     "output_type": "stream",
     "text": [
      "epoch: 7, [batch: 63 / 126], examples_per_second: 3280.6287, train_label_loss: 0.1659, \n"
     ]
    },
    {
     "name": "stdout",
     "output_type": "stream",
     "text": [
      "epoch: 7, [batch: 76 / 126], examples_per_second: 3221.1752, train_label_loss: 0.3530, \n"
     ]
    },
    {
     "name": "stdout",
     "output_type": "stream",
     "text": [
      "epoch: 7, [batch: 88 / 126], examples_per_second: 3259.4840, train_label_loss: 0.3254, \n"
     ]
    },
    {
     "name": "stdout",
     "output_type": "stream",
     "text": [
      "epoch: 7, [batch: 101 / 126], examples_per_second: 3231.6271, train_label_loss: 0.2154, \n"
     ]
    },
    {
     "name": "stdout",
     "output_type": "stream",
     "text": [
      "epoch: 7, [batch: 113 / 126], examples_per_second: 3253.4338, train_label_loss: 0.6928, \n"
     ]
    },
    {
     "name": "stdout",
     "output_type": "stream",
     "text": [
      "=============================================================\n",
      "epoch: 7, source_val_acc_label: 0.8421, target_val_acc_label: 0.3488, source_val_label_loss: 0.3990, target_val_label_loss: 34.7055, \n",
      "=============================================================\n"
     ]
    },
    {
     "name": "stdout",
     "output_type": "stream",
     "text": [
      "epoch: 8, [batch: 1 / 126], examples_per_second: 85.8019, train_label_loss: 0.2784, \n"
     ]
    },
    {
     "name": "stdout",
     "output_type": "stream",
     "text": [
      "epoch: 8, [batch: 13 / 126], examples_per_second: 3281.0632, train_label_loss: 0.1537, \n"
     ]
    },
    {
     "name": "stdout",
     "output_type": "stream",
     "text": [
      "epoch: 8, [batch: 26 / 126], examples_per_second: 3261.5322, train_label_loss: 0.6271, \n"
     ]
    },
    {
     "name": "stdout",
     "output_type": "stream",
     "text": [
      "epoch: 8, [batch: 38 / 126], examples_per_second: 3276.2656, train_label_loss: 0.1706, \n"
     ]
    },
    {
     "name": "stdout",
     "output_type": "stream",
     "text": [
      "epoch: 8, [batch: 51 / 126], examples_per_second: 3253.2056, train_label_loss: 0.2051, \n"
     ]
    },
    {
     "name": "stdout",
     "output_type": "stream",
     "text": [
      "epoch: 8, [batch: 63 / 126], examples_per_second: 3310.9304, train_label_loss: 0.2373, \n"
     ]
    },
    {
     "name": "stdout",
     "output_type": "stream",
     "text": [
      "epoch: 8, [batch: 76 / 126], examples_per_second: 3314.5988, train_label_loss: 0.4623, \n"
     ]
    },
    {
     "name": "stdout",
     "output_type": "stream",
     "text": [
      "epoch: 8, [batch: 88 / 126], examples_per_second: 3313.5368, train_label_loss: 0.3354, \n"
     ]
    },
    {
     "name": "stdout",
     "output_type": "stream",
     "text": [
      "epoch: 8, [batch: 101 / 126], examples_per_second: 3320.1863, train_label_loss: 0.4967, \n"
     ]
    },
    {
     "name": "stdout",
     "output_type": "stream",
     "text": [
      "epoch: 8, [batch: 113 / 126], examples_per_second: 3306.6281, train_label_loss: 0.3686, \n"
     ]
    },
    {
     "name": "stdout",
     "output_type": "stream",
     "text": [
      "=============================================================\n",
      "epoch: 8, source_val_acc_label: 0.8450, target_val_acc_label: 0.4053, source_val_label_loss: 0.5047, target_val_label_loss: 75.9379, \n",
      "=============================================================\n"
     ]
    },
    {
     "name": "stdout",
     "output_type": "stream",
     "text": [
      "Patience (3) exhausted\n"
     ]
    }
   ],
   "source": [
    "###################################\n",
    "# train\n",
    "###################################\n",
    "jig = PTN_Train_Eval_Test_Jig(model, p.BEST_MODEL_PATH, p.device)\n",
    "\n",
    "jig.train(\n",
    "    train_iterable=datasets.source.processed.train,\n",
    "    source_val_iterable=datasets.source.processed.val,\n",
    "    target_val_iterable=datasets.target.processed.val,\n",
    "    num_epochs=p.n_epoch,\n",
    "    num_logs_per_epoch=p.NUM_LOGS_PER_EPOCH,\n",
    "    patience=p.patience,\n",
    "    optimizer=optimizer,\n",
    "    criteria_for_best=p.criteria_for_best,\n",
    ")"
   ]
  },
  {
   "cell_type": "code",
   "execution_count": 23,
   "id": "31e8fabf",
   "metadata": {
    "execution": {
     "iopub.execute_input": "2022-03-07T08:39:55.198087Z",
     "iopub.status.busy": "2022-03-07T08:39:55.197715Z",
     "iopub.status.idle": "2022-03-07T08:39:55.210834Z",
     "shell.execute_reply": "2022-03-07T08:39:55.211059Z"
    },
    "papermill": {
     "duration": 0.047022,
     "end_time": "2022-03-07T08:39:55.211145",
     "exception": false,
     "start_time": "2022-03-07T08:39:55.164123",
     "status": "completed"
    },
    "tags": []
   },
   "outputs": [],
   "source": [
    "total_experiment_time_secs = time.time() - start_time_secs"
   ]
  },
  {
   "cell_type": "code",
   "execution_count": 24,
   "id": "87b9595b",
   "metadata": {
    "execution": {
     "iopub.execute_input": "2022-03-07T08:39:55.281000Z",
     "iopub.status.busy": "2022-03-07T08:39:55.280574Z",
     "iopub.status.idle": "2022-03-07T08:40:06.637299Z",
     "shell.execute_reply": "2022-03-07T08:40:06.636854Z"
    },
    "papermill": {
     "duration": 11.392027,
     "end_time": "2022-03-07T08:40:06.637405",
     "exception": false,
     "start_time": "2022-03-07T08:39:55.245378",
     "status": "completed"
    },
    "tags": []
   },
   "outputs": [],
   "source": [
    "###################################\n",
    "# Evaluate the model\n",
    "###################################\n",
    "source_test_label_accuracy, source_test_label_loss = jig.test(datasets.source.processed.test)\n",
    "target_test_label_accuracy, target_test_label_loss = jig.test(datasets.target.processed.test)\n",
    "\n",
    "source_val_label_accuracy, source_val_label_loss = jig.test(datasets.source.processed.val)\n",
    "target_val_label_accuracy, target_val_label_loss = jig.test(datasets.target.processed.val)\n",
    "\n",
    "history = jig.get_history()\n",
    "\n",
    "total_epochs_trained = len(history[\"epoch_indices\"])\n",
    "\n",
    "val_dl = Iterable_Aggregator((datasets.source.original.val,datasets.target.original.val))\n",
    "\n",
    "confusion = ptn_confusion_by_domain_over_dataloader(model, p.device, val_dl)\n",
    "per_domain_accuracy = per_domain_accuracy_from_confusion(confusion)\n",
    "\n",
    "# Add a key to per_domain_accuracy for if it was a source domain\n",
    "for domain, accuracy in per_domain_accuracy.items():\n",
    "    per_domain_accuracy[domain] = {\n",
    "        \"accuracy\": accuracy,\n",
    "        \"source?\": domain in p.domains_source\n",
    "    }\n",
    "\n",
    "# Do an independent accuracy assesment JUST TO BE SURE!\n",
    "# _source_test_label_accuracy = independent_accuracy_assesment(model, datasets.source.processed.test, p.device)\n",
    "# _target_test_label_accuracy = independent_accuracy_assesment(model, datasets.target.processed.test, p.device)\n",
    "# _source_val_label_accuracy = independent_accuracy_assesment(model, datasets.source.processed.val, p.device)\n",
    "# _target_val_label_accuracy = independent_accuracy_assesment(model, datasets.target.processed.val, p.device)\n",
    "\n",
    "# assert(_source_test_label_accuracy == source_test_label_accuracy)\n",
    "# assert(_target_test_label_accuracy == target_test_label_accuracy)\n",
    "# assert(_source_val_label_accuracy == source_val_label_accuracy)\n",
    "# assert(_target_val_label_accuracy == target_val_label_accuracy)\n",
    "\n",
    "experiment = {\n",
    "    \"experiment_name\": p.experiment_name,\n",
    "    \"parameters\": dict(p),\n",
    "    \"results\": {\n",
    "        \"source_test_label_accuracy\": source_test_label_accuracy,\n",
    "        \"source_test_label_loss\": source_test_label_loss,\n",
    "        \"target_test_label_accuracy\": target_test_label_accuracy,\n",
    "        \"target_test_label_loss\": target_test_label_loss,\n",
    "        \"source_val_label_accuracy\": source_val_label_accuracy,\n",
    "        \"source_val_label_loss\": source_val_label_loss,\n",
    "        \"target_val_label_accuracy\": target_val_label_accuracy,\n",
    "        \"target_val_label_loss\": target_val_label_loss,\n",
    "        \"total_epochs_trained\": total_epochs_trained,\n",
    "        \"total_experiment_time_secs\": total_experiment_time_secs,\n",
    "        \"confusion\": confusion,\n",
    "        \"per_domain_accuracy\": per_domain_accuracy,\n",
    "    },\n",
    "    \"history\": history,\n",
    "    \"dataset_metrics\": get_dataset_metrics(datasets, \"ptn\"),\n",
    "}"
   ]
  },
  {
   "cell_type": "code",
   "execution_count": 25,
   "id": "54a21829",
   "metadata": {
    "execution": {
     "iopub.execute_input": "2022-03-07T08:40:06.706994Z",
     "iopub.status.busy": "2022-03-07T08:40:06.706640Z",
     "iopub.status.idle": "2022-03-07T08:40:06.897737Z",
     "shell.execute_reply": "2022-03-07T08:40:06.898114Z"
    },
    "papermill": {
     "duration": 0.225134,
     "end_time": "2022-03-07T08:40:06.898222",
     "exception": false,
     "start_time": "2022-03-07T08:40:06.673088",
     "status": "completed"
    },
    "tags": []
   },
   "outputs": [
    {
     "data": {
      "image/png": "[encoded data removed]",
      "text/plain": [
       "<Figure size 1080x504 with 1 Axes>"
      ]
     },
     "metadata": {
      "needs_background": "light"
     },
     "output_type": "display_data"
    }
   ],
   "source": [
    "ax = get_loss_curve(experiment)\n",
    "plt.show()"
   ]
  },
  {
   "cell_type": "code",
   "execution_count": 26,
   "id": "fd8a0f60",
   "metadata": {
    "execution": {
     "iopub.execute_input": "2022-03-07T08:40:06.968752Z",
     "iopub.status.busy": "2022-03-07T08:40:06.968495Z",
     "iopub.status.idle": "2022-03-07T08:40:07.146828Z",
     "shell.execute_reply": "2022-03-07T08:40:07.147046Z"
    },
    "papermill": {
     "duration": 0.212875,
     "end_time": "2022-03-07T08:40:07.147107",
     "exception": false,
     "start_time": "2022-03-07T08:40:06.934232",
     "status": "completed"
    },
    "tags": []
   },
   "outputs": [
    {
     "data": {
      "text/plain": [
       "<matplotlib.axes._subplots.AxesSubplot at 0x7f41c416dd60>"
      ]
     },
     "execution_count": 26,
     "metadata": {},
     "output_type": "execute_result"
    },
    {
     "data": {
      "image/png": "[encoded data removed]",
      "text/plain": [
       "<Figure size 1080x504 with 1 Axes>"
      ]
     },
     "metadata": {
      "needs_background": "light"
     },
     "output_type": "display_data"
    }
   ],
   "source": [
    "get_results_table(experiment)"
   ]
  },
  {
   "cell_type": "code",
   "execution_count": 27,
   "id": "cf8dc689",
   "metadata": {
    "execution": {
     "iopub.execute_input": "2022-03-07T08:40:07.216215Z",
     "iopub.status.busy": "2022-03-07T08:40:07.215954Z",
     "iopub.status.idle": "2022-03-07T08:40:07.395566Z",
     "shell.execute_reply": "2022-03-07T08:40:07.395093Z"
    },
    "papermill": {
     "duration": 0.214827,
     "end_time": "2022-03-07T08:40:07.395661",
     "exception": false,
     "start_time": "2022-03-07T08:40:07.180834",
     "status": "completed"
    },
    "tags": []
   },
   "outputs": [
    {
     "data": {
      "text/plain": [
       "<matplotlib.axes._subplots.AxesSubplot at 0x7f41c41758b0>"
      ]
     },
     "execution_count": 27,
     "metadata": {},
     "output_type": "execute_result"
    },
    {
     "data": {
      "image/png": "[encoded data removed]",
      "text/plain": [
       "<Figure size 1080x504 with 1 Axes>"
      ]
     },
     "metadata": {
      "needs_background": "light"
     },
     "output_type": "display_data"
    }
   ],
   "source": [
    "get_domain_accuracies(experiment)"
   ]
  },
  {
   "cell_type": "code",
   "execution_count": 28,
   "id": "a74ae082",
   "metadata": {
    "execution": {
     "iopub.execute_input": "2022-03-07T08:40:07.470857Z",
     "iopub.status.busy": "2022-03-07T08:40:07.470589Z",
     "iopub.status.idle": "2022-03-07T08:40:07.485152Z",
     "shell.execute_reply": "2022-03-07T08:40:07.484675Z"
    },
    "papermill": {
     "duration": 0.051555,
     "end_time": "2022-03-07T08:40:07.485248",
     "exception": false,
     "start_time": "2022-03-07T08:40:07.433693",
     "status": "completed"
    },
    "tags": []
   },
   "outputs": [
    {
     "name": "stdout",
     "output_type": "stream",
     "text": [
      "Source Test Label Accuracy: 0.847953216374269 Target Test Label Accuracy: 0.27417763157894737\n",
      "Source Val Label Accuracy: 0.8538011695906432 Target Val Label Accuracy: 0.27828947368421053\n"
     ]
    }
   ],
   "source": [
    "print(\"Source Test Label Accuracy:\", experiment[\"results\"][\"source_test_label_accuracy\"], \"Target Test Label Accuracy:\", experiment[\"results\"][\"target_test_label_accuracy\"])\n",
    "print(\"Source Val Label Accuracy:\", experiment[\"results\"][\"source_val_label_accuracy\"], \"Target Val Label Accuracy:\", experiment[\"results\"][\"target_val_label_accuracy\"])"
   ]
  },
  {
   "cell_type": "code",
   "execution_count": 29,
   "id": "dacca602",
   "metadata": {
    "execution": {
     "iopub.execute_input": "2022-03-07T08:40:07.561054Z",
     "iopub.status.busy": "2022-03-07T08:40:07.560802Z",
     "iopub.status.idle": "2022-03-07T08:40:07.577760Z",
     "shell.execute_reply": "2022-03-07T08:40:07.578135Z"
    },
    "papermill": {
     "duration": 0.05358,
     "end_time": "2022-03-07T08:40:07.578241",
     "exception": false,
     "start_time": "2022-03-07T08:40:07.524661",
     "status": "completed"
    },
    "tags": [
     "experiment_json"
    ]
   },
   "outputs": [
    {
     "data": {
      "text/plain": [
       "'{\"experiment_name\": \"tl_1_wisig-metehan\", \"parameters\": {\"experiment_name\": \"tl_1_wisig-metehan\", \"device\": \"cuda\", \"lr\": 0.001, \"seed\": 1337, \"dataset_seed\": 1337, \"n_shot\": 3, \"n_query\": 2, \"train_k_factor\": 3, \"val_k_factor\": 2, \"test_k_factor\": 2, \"torch_default_dtype\": \"torch.float32\", \"n_epoch\": 50, \"patience\": 3, \"criteria_for_best\": \"target_loss\", \"x_net\": [{\"class\": \"nnReshape\", \"kargs\": {\"shape\": [-1, 1, 2, 256]}}, {\"class\": \"Conv2d\", \"kargs\": {\"in_channels\": 1, \"out_channels\": 256, \"kernel_size\": [1, 7], \"bias\": false, \"padding\": [0, 3]}}, {\"class\": \"ReLU\", \"kargs\": {\"inplace\": true}}, {\"class\": \"BatchNorm2d\", \"kargs\": {\"num_features\": 256}}, {\"class\": \"Conv2d\", \"kargs\": {\"in_channels\": 256, \"out_channels\": 80, \"kernel_size\": [2, 7], \"bias\": true, \"padding\": [0, 3]}}, {\"class\": \"ReLU\", \"kargs\": {\"inplace\": true}}, {\"class\": \"BatchNorm2d\", \"kargs\": {\"num_features\": 80}}, {\"class\": \"Flatten\", \"kargs\": {}}, {\"class\": \"Linear\", \"kargs\": {\"in_features\": 20480, \"out_features\": 256}}, {\"class\": \"ReLU\", \"kargs\": {\"inplace\": true}}, {\"class\": \"BatchNorm1d\", \"kargs\": {\"num_features\": 256}}, {\"class\": \"Linear\", \"kargs\": {\"in_features\": 256, \"out_features\": 256}}], \"NUM_LOGS_PER_EPOCH\": 10, \"BEST_MODEL_PATH\": \"./best_model.pth\", \"n_way\": 19, \"datasets\": [{\"labels\": [\"1-10\", \"1-12\", \"1-14\", \"1-16\", \"1-18\", \"1-19\", \"1-8\", \"10-11\", \"10-17\", \"10-4\", \"10-7\", \"11-1\", \"11-10\", \"11-19\", \"11-20\", \"11-4\", \"11-7\", \"12-19\", \"12-20\", \"12-7\", \"13-14\", \"13-18\", \"13-19\", \"13-20\", \"13-3\", \"13-7\", \"14-10\", \"14-11\", \"14-12\", \"14-13\", \"14-14\", \"14-19\", \"14-20\", \"14-7\", \"14-8\", \"14-9\", \"15-1\", \"15-19\", \"15-6\", \"16-1\", \"16-16\", \"16-19\", \"16-20\", \"17-10\", \"17-11\", \"18-1\", \"18-10\", \"18-11\", \"18-12\", \"18-13\", \"18-14\", \"18-15\", \"18-16\", \"18-17\", \"18-19\", \"18-2\", \"18-20\", \"18-4\", \"18-5\", \"18-7\", \"18-8\", \"18-9\", \"19-1\", \"19-10\", \"19-11\", \"19-12\", \"19-13\", \"19-14\", \"19-15\", \"19-19\", \"19-2\", \"19-20\", \"19-3\", \"19-4\", \"19-6\", \"19-7\", \"19-8\", \"19-9\", \"2-1\", \"2-13\", \"2-15\", \"2-3\", \"2-4\", \"2-5\", \"2-6\", \"2-7\", \"2-8\", \"20-1\", \"20-12\", \"20-14\", \"20-15\", \"20-16\", \"20-18\", \"20-19\", \"20-20\", \"20-3\", \"20-4\", \"20-5\", \"20-7\", \"20-8\", \"3-1\", \"3-13\", \"3-18\", \"3-2\", \"3-8\", \"4-1\", \"4-10\", \"4-11\", \"5-1\", \"5-5\", \"6-1\", \"6-15\", \"6-6\", \"7-10\", \"7-11\", \"7-12\", \"7-13\", \"7-14\", \"7-7\", \"7-8\", \"7-9\", \"8-1\", \"8-13\", \"8-14\", \"8-18\", \"8-20\", \"8-3\", \"8-8\", \"9-1\", \"9-7\"], \"domains\": [1, 2, 3, 4], \"num_examples_per_domain_per_label\": 100, \"pickle_path\": \"/mnt/wd500GB/CSC500/csc500-main/datasets/wisig.node3-19.stratified_ds.2022A.pkl\", \"source_or_target_dataset\": \"target\", \"x_transforms\": [\"unit_mag\"], \"episode_transforms\": [], \"domain_prefix\": \"Wisig_\"}, {\"labels\": [0, 1, 2, 3, 4, 5, 6, 7, 8, 9, 10, 11, 12, 13, 14, 15, 16, 17, 18], \"domains\": [0, 1, 2], \"num_examples_per_domain_per_label\": 100, \"pickle_path\": \"/mnt/wd500GB/CSC500/csc500-main/datasets/metehan.stratified_ds.2022A.pkl\", \"source_or_target_dataset\": \"source\", \"x_transforms\": [\"unit_mag\"], \"episode_transforms\": [], \"domain_prefix\": \"Metehan_\"}], \"domains_source\": [\"Metehan_0\", \"Metehan_1\", \"Metehan_2\"], \"domains_target\": [\"Wisig_1\", \"Wisig_2\", \"Wisig_3\", \"Wisig_4\"]}, \"results\": {\"source_test_label_accuracy\": 0.847953216374269, \"source_test_label_loss\": 0.3951045572757721, \"target_test_label_accuracy\": 0.27417763157894737, \"target_test_label_loss\": 16.255308151245117, \"source_val_label_accuracy\": 0.8538011695906432, \"source_val_label_loss\": 0.4157847464084625, \"target_val_label_accuracy\": 0.27828947368421053, \"target_val_label_loss\": 16.14903450012207, \"total_epochs_trained\": 8, \"total_experiment_time_secs\": 50.69494986534119, \"confusion\": {\"Metehan_1\": {\"9\": {\"9\": 11, \"13\": 1}, \"5\": {\"5\": 11, \"18\": 1}, \"15\": {\"15\": 12}, \"13\": {\"13\": 12}, \"11\": {\"17\": 6, \"11\": 6}, \"7\": {\"7\": 10, \"0\": 1, \"10\": 1}, \"2\": {\"2\": 11, \"0\": 1}, \"6\": {\"14\": 3, \"6\": 6, \"4\": 3}, \"16\": {\"16\": 10, \"10\": 2}, \"14\": {\"14\": 11, \"6\": 1}, \"18\": {\"18\": 11, \"5\": 1}, \"1\": {\"1\": 11, \"2\": 1}, \"10\": {\"10\": 11, \"7\": 1}, \"12\": {\"12\": 11, \"15\": 1}, \"3\": {\"3\": 12}, \"8\": {\"8\": 12}, \"0\": {\"0\": 6, \"7\": 6}, \"4\": {\"9\": 2, \"6\": 3, \"4\": 7}, \"17\": {\"11\": 3, \"17\": 9}}, \"Metehan_0\": {\"6\": {\"4\": 7, \"6\": 4, \"14\": 1}, \"18\": {\"5\": 3, \"18\": 9}, \"2\": {\"2\": 11, \"0\": 1}, \"17\": {\"17\": 12}, \"1\": {\"1\": 12}, \"4\": {\"6\": 3, \"4\": 9}, \"8\": {\"8\": 12}, \"9\": {\"9\": 12}, \"7\": {\"7\": 9, \"0\": 3}, \"15\": {\"15\": 12}, \"12\": {\"12\": 12}, \"11\": {\"17\": 4, \"11\": 8}, \"13\": {\"13\": 12}, \"0\": {\"0\": 10, \"7\": 2}, \"10\": {\"5\": 1, \"10\": 11}, \"14\": {\"6\": 3, \"14\": 9}, \"3\": {\"3\": 12}, \"5\": {\"5\": 11, \"18\": 1}, \"16\": {\"16\": 12}}, \"Metehan_2\": {\"1\": {\"1\": 12}, \"0\": {\"0\": 8, \"7\": 3, \"2\": 1}, \"13\": {\"13\": 12}, \"11\": {\"17\": 5, \"11\": 7}, \"5\": {\"5\": 12}, \"15\": {\"15\": 12}, \"14\": {\"14\": 10, \"4\": 1, \"6\": 1}, \"8\": {\"8\": 12}, \"6\": {\"6\": 7, \"4\": 3, \"14\": 2}, \"3\": {\"3\": 12}, \"10\": {\"10\": 12}, \"7\": {\"7\": 7, \"0\": 3, \"10\": 2}, \"17\": {\"17\": 10, \"11\": 2}, \"4\": {\"14\": 1, \"4\": 5, \"6\": 4, \"9\": 2}, \"2\": {\"2\": 12}, \"9\": {\"9\": 11, \"4\": 1}, \"12\": {\"12\": 12}, \"18\": {\"18\": 10, \"5\": 2}, \"16\": {\"16\": 12}}, \"Wisig_3\": {\"45\": {\"45\": 6, \"82\": 2, \"120\": 1, \"13\": 1, \"14\": 1, \"33\": 1}, \"43\": {\"21\": 1, \"43\": 5, \"39\": 2, \"104\": 2, \"102\": 1, \"40\": 1}, \"63\": {\"45\": 2, \"82\": 1, \"2\": 1, \"9\": 1, \"81\": 3, \"109\": 1, \"14\": 2, \"72\": 1}, \"55\": {\"63\": 1, \"7\": 1, \"43\": 1, \"55\": 1, \"40\": 2, \"92\": 2, \"65\": 1, \"64\": 1, \"105\": 1, \"4\": 1}, \"24\": {\"24\": 2, \"106\": 1, \"59\": 2, \"128\": 1, \"30\": 1, \"100\": 1, \"25\": 1, \"85\": 1, \"17\": 1, \"6\": 1}, \"21\": {\"63\": 1, \"34\": 1, \"74\": 1, \"23\": 2, \"65\": 1, \"16\": 1, \"21\": 1, \"39\": 1, \"67\": 1, \"43\": 1, \"79\": 1}, \"34\": {\"7\": 1, \"72\": 3, \"29\": 1, \"59\": 1, \"34\": 2, \"62\": 1, \"74\": 1, \"19\": 1, \"94\": 1}, \"14\": {\"14\": 4, \"43\": 1, \"61\": 1, \"107\": 1, \"16\": 1, \"63\": 2, \"11\": 1, \"113\": 1}, \"111\": {\"72\": 1, \"111\": 4, \"68\": 1, \"3\": 1, \"59\": 1, \"99\": 1, \"84\": 1}, \"72\": {\"72\": 4, \"12\": 1, \"73\": 2, \"37\": 1, \"5\": 1, \"111\": 1, \"128\": 1, \"125\": 1}, \"35\": {\"7\": 4, \"20\": 1, \"46\": 1, \"99\": 1, \"35\": 1, \"90\": 1, \"28\": 1, \"111\": 1, \"34\": 1}, \"116\": {\"45\": 1, \"116\": 4, \"22\": 1, \"63\": 2, \"115\": 1, \"13\": 2, \"11\": 1}, \"82\": {\"82\": 4, \"35\": 1, \"38\": 3, \"50\": 1, \"32\": 1, \"45\": 1, \"26\": 1}, \"7\": {\"21\": 1, \"7\": 8, \"17\": 1, \"90\": 1, \"34\": 1}, \"20\": {\"106\": 1, \"72\": 1, \"111\": 1, \"41\": 1, \"1\": 2, \"20\": 3, \"101\": 1, \"88\": 1, \"110\": 1}, \"62\": {\"82\": 1, \"104\": 1, \"62\": 5, \"105\": 1, \"80\": 1, \"32\": 1, \"84\": 1, \"23\": 1}, \"104\": {\"45\": 2, \"62\": 2, \"104\": 4, \"115\": 1, \"78\": 1, \"66\": 2}, \"98\": {\"72\": 1, \"98\": 5, \"8\": 1, \"100\": 1, \"15\": 2, \"65\": 1, \"101\": 1}, \"106\": {\"24\": 1, \"106\": 3, \"75\": 1, \"112\": 3, \"8\": 1, \"6\": 2, \"114\": 1}, \"118\": {\"66\": 1, \"48\": 1, \"118\": 4, \"121\": 1, \"16\": 1, \"33\": 1, \"57\": 1, \"123\": 1, \"116\": 1}, \"32\": {\"55\": 1, \"66\": 1, \"124\": 1, \"81\": 1, \"32\": 3, \"16\": 2, \"109\": 1, \"113\": 1, \"62\": 1}, \"59\": {\"59\": 5, \"34\": 2, \"30\": 1, \"8\": 1, \"52\": 1, \"25\": 1, \"54\": 1}, \"128\": {\"55\": 1, \"30\": 1, \"120\": 1, \"128\": 1, \"8\": 1, \"68\": 1, \"98\": 1, \"4\": 1, \"60\": 1, \"51\": 1, \"20\": 1, \"110\": 1}, \"18\": {\"69\": 2, \"76\": 1, \"18\": 5, \"26\": 2, \"123\": 1, \"81\": 1}, \"31\": {\"55\": 1, \"129\": 1, \"31\": 2, \"92\": 2, \"65\": 1, \"78\": 1, \"11\": 1, \"95\": 1, \"48\": 1, \"20\": 1}, \"39\": {\"39\": 4, \"118\": 1, \"104\": 2, \"43\": 1, \"50\": 1, \"67\": 1, \"82\": 2}, \"91\": {\"129\": 1, \"66\": 1, \"25\": 1, \"91\": 4, \"125\": 2, \"44\": 1, \"56\": 1, \"99\": 1}, \"48\": {\"69\": 1, \"29\": 1, \"76\": 2, \"58\": 1, \"56\": 1, \"126\": 1, \"77\": 1, \"105\": 1, \"119\": 1, \"43\": 1, \"13\": 1}, \"61\": {\"61\": 9, \"76\": 2, \"89\": 1}, \"129\": {\"29\": 1, \"31\": 1, \"129\": 4, \"124\": 1, \"53\": 1, \"112\": 1, \"95\": 1, \"108\": 1, \"20\": 1}, \"69\": {\"69\": 6, \"118\": 2, \"67\": 1, \"50\": 2, \"109\": 1}, \"30\": {\"59\": 2, \"30\": 3, \"83\": 1, \"8\": 1, \"24\": 1, \"124\": 1, \"103\": 1, \"71\": 1, \"112\": 1}, \"29\": {\"55\": 2, \"103\": 2, \"44\": 1, \"4\": 2, \"35\": 1, \"29\": 3, \"128\": 1}, \"66\": {\"128\": 1, \"66\": 3, \"100\": 1, \"88\": 1, \"16\": 1, \"56\": 1, \"95\": 1, \"41\": 1, \"57\": 1, \"115\": 1}, \"38\": {\"2\": 1, \"63\": 1, \"38\": 4, \"76\": 3, \"123\": 1, \"119\": 2}, \"81\": {\"81\": 8, \"2\": 1, \"109\": 2, \"18\": 1}, \"25\": {\"73\": 1, \"25\": 4, \"56\": 1, \"125\": 1, \"59\": 1, \"76\": 1, \"75\": 3}, \"122\": {\"40\": 1, \"9\": 1, \"71\": 1, \"122\": 3, \"114\": 1, \"129\": 1, \"57\": 1, \"116\": 1, \"38\": 1, \"77\": 1}, \"6\": {\"73\": 2, \"6\": 5, \"75\": 1, \"30\": 1, \"99\": 1, \"24\": 1, \"94\": 1}, \"2\": {\"55\": 1, \"9\": 1, \"11\": 1, \"2\": 3, \"96\": 1, \"26\": 1, \"17\": 1, \"117\": 1, \"102\": 1, \"65\": 1}, \"33\": {\"40\": 1, \"9\": 1, \"33\": 3, \"128\": 1, \"64\": 2, \"16\": 1, \"122\": 1, \"100\": 1, \"96\": 1}, \"37\": {\"101\": 2, \"19\": 2, \"20\": 2, \"65\": 2, \"37\": 1, \"44\": 1, \"92\": 1, \"93\": 1}, \"88\": {\"73\": 2, \"101\": 1, \"15\": 1, \"53\": 1, \"99\": 3, \"65\": 1, \"128\": 1, \"125\": 1, \"122\": 1}, \"73\": {\"25\": 1, \"73\": 3, \"49\": 1, \"72\": 2, \"12\": 1, \"108\": 1, \"97\": 1}, \"101\": {\"101\": 6, \"73\": 1, \"0\": 1, \"31\": 1, \"111\": 2, \"128\": 1}, \"13\": {\"45\": 1, \"122\": 1, \"81\": 1, \"107\": 1, \"104\": 1, \"123\": 3, \"105\": 1, \"55\": 1, \"38\": 1, \"33\": 1}, \"9\": {\"40\": 1, \"2\": 1, \"9\": 5, \"60\": 1, \"53\": 1, \"31\": 3}, \"40\": {\"33\": 1, \"45\": 1, \"16\": 1, \"40\": 3, \"4\": 1, \"67\": 2, \"1\": 2, \"120\": 1}, \"22\": {\"84\": 1, \"22\": 4, \"18\": 1, \"57\": 2, \"121\": 1, \"17\": 1, \"123\": 1, \"120\": 1}, \"67\": {\"102\": 1, \"107\": 3, \"67\": 6, \"32\": 1, \"21\": 1}, \"102\": {\"32\": 1, \"63\": 1, \"11\": 1, \"102\": 5, \"39\": 1, \"104\": 1, \"48\": 2}, \"80\": {\"13\": 1, \"107\": 1, \"4\": 1, \"80\": 5, \"100\": 1, \"31\": 2, \"92\": 1}, \"114\": {\"114\": 2, \"107\": 1, \"71\": 2, \"122\": 2, \"9\": 1, \"47\": 1, \"77\": 1, \"96\": 1, \"127\": 1}, \"41\": {\"22\": 1, \"84\": 1, \"83\": 1, \"41\": 4, \"98\": 1, \"115\": 1, \"51\": 1, \"60\": 1, \"113\": 1}, \"19\": {\"19\": 4, \"51\": 1, \"77\": 1, \"37\": 2, \"71\": 1, \"5\": 1, \"12\": 1, \"46\": 1}, \"84\": {\"102\": 1, \"101\": 1, \"96\": 1, \"40\": 2, \"21\": 1, \"23\": 1, \"57\": 1, \"60\": 2, \"128\": 1, \"113\": 1}, \"107\": {\"41\": 1, \"114\": 1, \"93\": 1, \"44\": 1, \"92\": 1, \"107\": 2, \"57\": 1, \"96\": 1, \"60\": 1, \"84\": 1, \"88\": 1}, \"109\": {\"22\": 1, \"81\": 1, \"126\": 1, \"57\": 1, \"62\": 1, \"89\": 1, \"28\": 1, \"16\": 1, \"102\": 1, \"13\": 1, \"74\": 1, \"113\": 1}, \"124\": {\"13\": 1, \"19\": 1, \"129\": 2, \"127\": 1, \"120\": 2, \"3\": 1, \"12\": 1, \"54\": 1, \"72\": 1, \"5\": 1}, \"44\": {\"1\": 1, \"64\": 1, \"77\": 1, \"44\": 2, \"90\": 2, \"80\": 1, \"95\": 1, \"121\": 1, \"3\": 1, \"110\": 1}, \"103\": {\"6\": 1, \"47\": 2, \"103\": 3, \"129\": 1, \"114\": 2, \"29\": 1, \"111\": 1, \"4\": 1}, \"64\": {\"29\": 2, \"44\": 1, \"17\": 1, \"64\": 4, \"43\": 1, \"55\": 1, \"57\": 1, \"96\": 1}, \"75\": {\"6\": 1, \"75\": 4, \"12\": 1, \"0\": 1, \"30\": 1, \"3\": 1, \"25\": 2, \"15\": 1}, \"93\": {\"1\": 1, \"44\": 1, \"105\": 1, \"2\": 1, \"92\": 3, \"55\": 1, \"122\": 1, \"28\": 1, \"32\": 1, \"96\": 1}, \"10\": {\"11\": 1, \"47\": 1, \"98\": 1, \"33\": 1, \"4\": 1, \"10\": 3, \"84\": 1, \"40\": 1}, \"11\": {\"11\": 2, \"64\": 1, \"40\": 2, \"124\": 1, \"4\": 1, \"126\": 1, \"115\": 1, \"57\": 1, \"60\": 1, \"45\": 1}, \"47\": {\"6\": 1, \"47\": 1, \"77\": 2, \"90\": 1, \"110\": 1, \"3\": 1, \"37\": 1, \"9\": 1, \"22\": 1, \"85\": 1, \"86\": 1}, \"115\": {\"115\": 3, \"102\": 1, \"107\": 1, \"14\": 1, \"84\": 1, \"43\": 1, \"93\": 1, \"9\": 1, \"50\": 1, \"28\": 1}, \"1\": {\"29\": 1, \"106\": 1, \"1\": 2, \"4\": 1, \"120\": 1, \"56\": 1, \"114\": 2, \"77\": 1, \"51\": 1, \"105\": 1}, \"85\": {\"93\": 2, \"111\": 1, \"77\": 1, \"94\": 1, \"85\": 2, \"70\": 1, \"46\": 1, \"51\": 1, \"36\": 1, \"15\": 1}, \"89\": {\"89\": 8, \"117\": 1, \"61\": 2, \"123\": 1}, \"83\": {\"83\": 3, \"75\": 1, \"46\": 1, \"129\": 1, \"30\": 1, \"15\": 2, \"108\": 2, \"94\": 1}, \"60\": {\"87\": 1, \"77\": 1, \"98\": 1, \"33\": 1, \"48\": 1, \"80\": 1, \"124\": 1, \"72\": 2, \"28\": 1, \"43\": 1, \"60\": 1}, \"53\": {\"105\": 3, \"120\": 1, \"52\": 1, \"96\": 1, \"80\": 1, \"53\": 1, \"44\": 2, \"3\": 2}, \"120\": {\"120\": 2, \"107\": 3, \"100\": 2, \"76\": 1, \"28\": 1, \"78\": 1, \"105\": 1, \"96\": 1}, \"77\": {\"53\": 1, \"77\": 3, \"95\": 1, \"7\": 1, \"4\": 1, \"48\": 1, \"114\": 1, \"68\": 1, \"28\": 1, \"88\": 1}, \"92\": {\"92\": 7, \"86\": 1, \"93\": 1, \"31\": 2, \"55\": 1}, \"12\": {\"12\": 5, \"77\": 2, \"72\": 1, \"108\": 1, \"1\": 1, \"101\": 1, \"19\": 1}, \"76\": {\"107\": 1, \"76\": 5, \"26\": 1, \"120\": 1, \"57\": 1, \"119\": 1, \"60\": 1, \"78\": 1}, \"87\": {\"14\": 1, \"107\": 1, \"64\": 1, \"17\": 1, \"105\": 1, \"40\": 1, \"72\": 1, \"84\": 1, \"33\": 1, \"87\": 1}, \"105\": {\"77\": 1, \"107\": 1, \"110\": 1, \"53\": 1, \"40\": 1, \"46\": 1, \"5\": 1, \"105\": 2, \"86\": 1, \"43\": 1, \"64\": 1}, \"112\": {\"112\": 6, \"94\": 1, \"68\": 1, \"108\": 1, \"8\": 1, \"98\": 1, \"106\": 1}, \"123\": {\"123\": 5, \"121\": 1, \"39\": 1, \"104\": 2, \"18\": 1, \"13\": 2}, \"8\": {\"98\": 1, \"111\": 1, \"52\": 1, \"112\": 2, \"83\": 1, \"51\": 1, \"42\": 1, \"97\": 2}, \"126\": {\"109\": 1, \"123\": 1, \"74\": 1, \"126\": 4, \"22\": 2, \"18\": 2, \"104\": 1}, \"52\": {\"52\": 1, \"112\": 1, \"85\": 1, \"111\": 1, \"70\": 1, \"106\": 1, \"24\": 1, \"59\": 1, \"87\": 1, \"97\": 1}, \"121\": {\"109\": 1, \"123\": 1, \"121\": 3, \"76\": 1, \"57\": 1, \"69\": 2, \"113\": 1, \"116\": 1, \"63\": 1}, \"68\": {\"111\": 1, \"60\": 1, \"52\": 1, \"70\": 1, \"46\": 1, \"4\": 1, \"77\": 1, \"0\": 1, \"68\": 1, \"112\": 1, \"122\": 1, \"99\": 1}, \"74\": {\"123\": 1, \"74\": 5, \"51\": 1, \"32\": 1, \"16\": 1, \"104\": 2, \"109\": 1}, \"57\": {\"126\": 1, \"9\": 1, \"120\": 2, \"57\": 4, \"79\": 2, \"28\": 1, \"122\": 1}, \"3\": {\"95\": 2, \"105\": 1, \"108\": 1, \"3\": 2, \"58\": 1, \"12\": 1, \"5\": 2, \"53\": 1, \"51\": 1}, \"42\": {\"85\": 1, \"111\": 1, \"127\": 1, \"42\": 1, \"73\": 1, \"49\": 2, \"3\": 1, \"124\": 1, \"36\": 1, \"112\": 1, \"27\": 1}, \"95\": {\"95\": 7, \"44\": 1, \"129\": 1, \"39\": 1, \"58\": 1, \"65\": 1}, \"17\": {\"16\": 3, \"64\": 1, \"78\": 1, \"113\": 1, \"31\": 2, \"7\": 1, \"39\": 1, \"13\": 1, \"129\": 1}, \"4\": {\"7\": 2, \"35\": 1, \"10\": 1, \"2\": 1, \"4\": 2, \"37\": 1, \"41\": 1, \"47\": 1, \"86\": 1, \"122\": 1}, \"15\": {\"29\": 1, \"15\": 7, \"94\": 2, \"27\": 1, \"46\": 1}, \"16\": {\"40\": 1, \"16\": 3, \"113\": 1, \"124\": 1, \"109\": 1, \"29\": 1, \"99\": 1, \"58\": 1}, \"46\": {\"4\": 1, \"7\": 1, \"46\": 1, \"129\": 1, \"105\": 3, \"42\": 1, \"5\": 1, \"70\": 1, \"95\": 1, \"108\": 1}, \"117\": {\"117\": 5, \"123\": 1, \"45\": 1, \"67\": 2, \"113\": 1, \"18\": 2}, \"96\": {\"46\": 1, \"39\": 1, \"96\": 4, \"127\": 1, \"107\": 1, \"84\": 1, \"64\": 1, \"1\": 1, \"100\": 1}, \"70\": {\"52\": 1, \"91\": 1, \"70\": 6, \"1\": 1, \"17\": 1, \"71\": 1, \"105\": 1}, \"27\": {\"8\": 1, \"27\": 5, \"15\": 1, \"94\": 1, \"58\": 2, \"30\": 1, \"42\": 1}, \"54\": {\"54\": 6, \"112\": 3, \"6\": 1, \"3\": 1, \"27\": 1}, \"125\": {\"125\": 7, \"112\": 1, \"0\": 1, \"97\": 2, \"6\": 1}, \"51\": {\"59\": 1, \"10\": 1, \"108\": 3, \"71\": 1, \"51\": 1, \"103\": 1, \"94\": 1, \"0\": 1, \"34\": 1, \"72\": 1}, \"90\": {\"90\": 5, \"7\": 1, \"105\": 2, \"28\": 1, \"58\": 1, \"56\": 1, \"99\": 1}, \"50\": {\"118\": 1, \"50\": 2, \"119\": 1, \"78\": 1, \"44\": 1, \"91\": 1, \"115\": 1, \"84\": 2}, \"23\": {\"7\": 1, \"4\": 1, \"113\": 1, \"74\": 1, \"122\": 1, \"58\": 1, \"41\": 1, \"110\": 1, \"26\": 1, \"127\": 1}, \"110\": {\"53\": 2, \"110\": 3, \"28\": 2, \"5\": 1, \"40\": 1, \"80\": 1, \"41\": 1, \"88\": 1}, \"100\": {\"9\": 1, \"53\": 1, \"56\": 1, \"119\": 2, \"114\": 2, \"65\": 1, \"67\": 1, \"87\": 1}, \"108\": {\"108\": 3, \"15\": 1, \"54\": 1, \"12\": 1, \"71\": 2, \"20\": 1, \"49\": 1, \"83\": 1, \"36\": 1}, \"86\": {\"86\": 4, \"108\": 1, \"5\": 1, \"99\": 1, \"12\": 1, \"105\": 1, \"51\": 1, \"47\": 1, \"7\": 1}, \"78\": {\"66\": 1, \"9\": 1, \"28\": 1, \"65\": 1, \"78\": 2, \"79\": 1, \"103\": 1, \"101\": 1, \"105\": 1, \"57\": 1, \"104\": 1}, \"127\": {\"127\": 2, \"46\": 1, \"86\": 2, \"99\": 1, \"0\": 1, \"114\": 1}, \"94\": {\"98\": 1, \"68\": 2, \"27\": 1, \"94\": 3, \"97\": 2, \"6\": 1, \"34\": 1, \"106\": 1}, \"56\": {\"37\": 1, \"56\": 2, \"23\": 1, \"122\": 1, \"65\": 1, \"5\": 1, \"50\": 1, \"105\": 1, \"46\": 1, \"47\": 2}, \"119\": {\"119\": 2, \"45\": 2, \"78\": 2, \"79\": 1, \"56\": 1, \"48\": 1, \"33\": 1, \"107\": 1, \"120\": 1}, \"0\": {\"20\": 1, \"12\": 1, \"99\": 1, \"0\": 1, \"114\": 1, \"103\": 1, \"60\": 1, \"34\": 1, \"68\": 1, \"15\": 1, \"72\": 1, \"88\": 1}, \"28\": {\"100\": 1, \"110\": 1, \"5\": 1, \"57\": 1, \"28\": 4, \"65\": 1, \"33\": 1, \"79\": 1, \"29\": 1}, \"26\": {\"32\": 1, \"76\": 1, \"26\": 4, \"18\": 2, \"119\": 2}, \"71\": {\"47\": 1, \"71\": 7, \"127\": 1, \"49\": 1, \"5\": 1, \"72\": 1}, \"58\": {\"58\": 2, \"3\": 1, \"99\": 1, \"71\": 1, \"70\": 1, \"103\": 1, \"30\": 1, \"49\": 1, \"95\": 1, \"77\": 1, \"86\": 1}, \"5\": {\"5\": 4, \"65\": 1, \"44\": 2, \"105\": 1, \"90\": 1, \"72\": 1}, \"79\": {\"92\": 1, \"121\": 1, \"79\": 1, \"57\": 1, \"66\": 1, \"38\": 1, \"48\": 2, \"53\": 1, \"1\": 1}, \"113\": {\"113\": 6, \"28\": 1, \"14\": 2, \"23\": 1, \"17\": 1, \"80\": 1}, \"99\": {\"90\": 2, \"23\": 1, \"99\": 6, \"0\": 1, \"7\": 2}, \"97\": {\"58\": 1, \"94\": 1, \"42\": 2, \"97\": 3, \"72\": 1}, \"49\": {\"101\": 1, \"99\": 1, \"73\": 1, \"95\": 1, \"49\": 3, \"71\": 1, \"31\": 1, \"5\": 1}, \"65\": {\"65\": 2, \"28\": 1, \"56\": 2, \"105\": 2, \"100\": 1, \"39\": 1, \"128\": 1}, \"36\": {\"36\": 5, \"27\": 1, \"112\": 2, \"24\": 1, \"68\": 1}}, \"Wisig_1\": {\"106\": {\"94\": 1, \"106\": 6, \"9\": 1, \"5\": 1, \"47\": 1, \"107\": 1, \"30\": 1}, \"45\": {\"42\": 1, \"96\": 1, \"43\": 2, \"14\": 1, \"63\": 1, \"111\": 1, \"33\": 1, \"48\": 1, \"102\": 1, \"11\": 1, \"68\": 1}, \"98\": {\"96\": 2, \"77\": 1, \"98\": 3, \"51\": 2, \"75\": 1, \"6\": 1, \"108\": 1, \"52\": 1}, \"5\": {\"5\": 3, \"54\": 1, \"34\": 1, \"64\": 1, \"101\": 1, \"127\": 1, \"128\": 1, \"99\": 1, \"106\": 1, \"85\": 1}, \"96\": {\"98\": 1, \"96\": 5, \"44\": 1, \"101\": 1, \"72\": 1, \"5\": 1, \"24\": 1, \"19\": 1}, \"94\": {\"96\": 1, \"94\": 2, \"8\": 1, \"79\": 2, \"97\": 1, \"27\": 1}, \"4\": {\"80\": 1, \"60\": 1, \"40\": 2, \"35\": 2, \"1\": 1, \"4\": 3, \"111\": 1, \"3\": 1}, \"42\": {\"42\": 5, \"5\": 1, \"64\": 1, \"90\": 1, \"19\": 1, \"78\": 1, \"74\": 1, \"115\": 1}, \"124\": {\"45\": 1, \"124\": 3, \"65\": 2, \"114\": 1, \"0\": 1, \"14\": 1, \"3\": 1}, \"85\": {\"85\": 4, \"124\": 1, \"97\": 1, \"92\": 1, \"19\": 1, \"79\": 1, \"23\": 1, \"8\": 1, \"91\": 1}, \"116\": {\"42\": 1, \"45\": 1, \"116\": 3, \"74\": 1, \"117\": 1, \"80\": 1, \"120\": 1, \"22\": 1, \"54\": 1, \"18\": 1}, \"39\": {\"62\": 1, \"4\": 1, \"116\": 1, \"48\": 1, \"50\": 1, \"39\": 1, \"120\": 2, \"119\": 2, \"11\": 1, \"121\": 1}, \"62\": {\"62\": 8, \"113\": 2, \"33\": 2}, \"60\": {\"42\": 1, \"116\": 1, \"114\": 1, \"80\": 1, \"60\": 3, \"129\": 1, \"2\": 1, \"7\": 1, \"59\": 1, \"83\": 1}, \"104\": {\"5\": 1, \"96\": 1, \"126\": 1, \"104\": 1, \"99\": 1, \"72\": 3, \"20\": 2}, \"2\": {\"119\": 1, \"60\": 1, \"2\": 3, \"113\": 1, \"82\": 1, \"10\": 1, \"80\": 1, \"124\": 1, \"0\": 1, \"76\": 1}, \"12\": {\"106\": 1, \"12\": 4, \"29\": 1, \"114\": 1, \"111\": 1, \"73\": 1, \"77\": 1, \"15\": 1, \"97\": 1}, \"119\": {\"119\": 7, \"62\": 1, \"18\": 2, \"82\": 1, \"50\": 1}, \"80\": {\"42\": 1, \"62\": 1, \"80\": 4, \"57\": 2, \"18\": 2, \"4\": 1, \"59\": 1}, \"65\": {\"62\": 2, \"2\": 1, \"33\": 1, \"66\": 1, \"122\": 1, \"61\": 1, \"117\": 1, \"10\": 1, \"23\": 1, \"90\": 1, \"116\": 1}, \"113\": {\"118\": 2, \"113\": 3, \"34\": 1, \"67\": 1, \"18\": 1, \"102\": 1, \"63\": 2, \"122\": 1}, \"22\": {\"44\": 1, \"22\": 4, \"11\": 2, \"65\": 1, \"82\": 1, \"57\": 1, \"60\": 1, \"56\": 1}, \"32\": {\"28\": 1, \"44\": 1, \"60\": 1, \"23\": 2, \"34\": 1, \"108\": 1, \"32\": 1, \"1\": 1, \"112\": 1, \"15\": 1, \"105\": 1}, \"117\": {\"62\": 1, \"65\": 1, \"117\": 7, \"83\": 1, \"121\": 1, \"16\": 1}, \"0\": {\"44\": 2, \"32\": 1, \"35\": 2, \"0\": 1, \"93\": 1, \"41\": 1, \"5\": 1, \"90\": 1, \"40\": 1, \"89\": 1}, \"44\": {\"44\": 4, \"22\": 1, \"3\": 1, \"0\": 1, \"68\": 1, \"7\": 1, \"64\": 1, \"99\": 1, \"5\": 1}, \"83\": {\"83\": 3, \"28\": 1, \"60\": 2, \"4\": 1, \"57\": 2, \"0\": 1, \"43\": 1, \"105\": 1}, \"118\": {\"118\": 9, \"65\": 1, \"113\": 1, \"95\": 1}, \"37\": {\"44\": 1, \"37\": 3, \"92\": 2, \"30\": 1, \"72\": 1, \"24\": 1, \"112\": 2, \"77\": 1}, \"36\": {\"27\": 2, \"94\": 1, \"72\": 2, \"112\": 1, \"88\": 1, \"103\": 1, \"24\": 1, \"36\": 2, \"49\": 1}, \"72\": {\"72\": 4, \"107\": 1, \"70\": 1, \"91\": 1, \"111\": 1, \"104\": 2, \"9\": 1, \"5\": 1}, \"27\": {\"36\": 1, \"27\": 2, \"24\": 3, \"98\": 2, \"51\": 1, \"52\": 1, \"94\": 1, \"15\": 1}, \"123\": {\"62\": 1, \"65\": 1, \"123\": 6, \"121\": 1, \"11\": 1, \"26\": 1, \"25\": 1}, \"71\": {\"37\": 1, \"71\": 2, \"53\": 2, \"97\": 2, \"29\": 2, \"103\": 1, \"3\": 1, \"68\": 1}, \"28\": {\"28\": 3, \"62\": 1, \"34\": 1, \"18\": 1, \"7\": 2, \"33\": 1, \"10\": 1}, \"21\": {\"27\": 1, \"0\": 1, \"2\": 1, \"21\": 2, \"41\": 1, \"43\": 1, \"9\": 1, \"114\": 2, \"115\": 1, \"87\": 1}, \"74\": {\"69\": 1, \"57\": 1, \"39\": 1, \"116\": 1, \"120\": 1, \"74\": 3, \"33\": 2, \"79\": 1, \"81\": 1}, \"15\": {\"15\": 2, \"9\": 1, \"47\": 1, \"31\": 1, \"40\": 1, \"94\": 1, \"43\": 1, \"53\": 1, \"106\": 1}, \"53\": {\"49\": 2, \"104\": 1, \"31\": 1, \"12\": 1, \"68\": 1, \"53\": 2, \"6\": 2, \"47\": 1, \"15\": 1}, \"48\": {\"90\": 1, \"59\": 1, \"35\": 1, \"48\": 3, \"76\": 1, \"66\": 1, \"105\": 1, \"32\": 1, \"78\": 1, \"7\": 1}, \"57\": {\"48\": 2, \"82\": 1, \"57\": 3, \"25\": 1, \"100\": 1, \"84\": 1, \"2\": 1, \"14\": 1, \"21\": 1}, \"88\": {\"97\": 2, \"53\": 1, \"108\": 1, \"36\": 1, \"6\": 1, \"88\": 3, \"111\": 1, \"31\": 1, \"12\": 1}, \"126\": {\"53\": 1, \"126\": 2, \"127\": 1, \"112\": 1, \"106\": 1, \"98\": 2, \"59\": 1, \"24\": 1, \"49\": 2}, \"69\": {\"69\": 2, \"57\": 1, \"33\": 1, \"76\": 2, \"50\": 1, \"102\": 1, \"40\": 1, \"63\": 1, \"25\": 1, \"81\": 1}, \"121\": {\"48\": 1, \"121\": 4, \"38\": 1, \"120\": 2, \"18\": 1, \"95\": 1, \"11\": 1, \"78\": 1}, \"49\": {\"49\": 3, \"9\": 1, \"109\": 1, \"35\": 1, \"64\": 1, \"114\": 1, \"115\": 1, \"47\": 1, \"15\": 1, \"107\": 1}, \"59\": {\"13\": 1, \"97\": 1, \"86\": 1, \"59\": 3, \"108\": 3, \"118\": 1, \"63\": 1, \"37\": 1}, \"97\": {\"49\": 1, \"85\": 1, \"75\": 2, \"88\": 1, \"6\": 1, \"27\": 1, \"97\": 1, \"24\": 1, \"107\": 1, \"86\": 1, \"30\": 1}, \"90\": {\"90\": 7, \"8\": 1, \"64\": 1, \"129\": 3}, \"9\": {\"85\": 2, \"8\": 1, \"9\": 1, \"31\": 1, \"15\": 1, \"92\": 1, \"108\": 1, \"17\": 1, \"6\": 1, \"106\": 2}, \"13\": {\"57\": 1, \"13\": 5, \"16\": 2, \"18\": 1, \"117\": 1, \"123\": 1, \"119\": 1}, \"8\": {\"104\": 1, \"90\": 1, \"29\": 1, \"17\": 1, \"99\": 1, \"19\": 1, \"42\": 1, \"50\": 1, \"115\": 1, \"25\": 1, \"8\": 1, \"86\": 1}, \"89\": {\"29\": 2, \"70\": 1, \"23\": 1, \"100\": 1, \"89\": 2, \"73\": 1, \"59\": 1, \"0\": 1, \"6\": 1, \"37\": 1}, \"47\": {\"29\": 4, \"127\": 1, \"73\": 1, \"101\": 1, \"68\": 1, \"36\": 1, \"49\": 1, \"103\": 1, \"107\": 1}, \"125\": {\"125\": 4, \"35\": 1, \"51\": 2, \"59\": 1, \"52\": 1, \"24\": 1}, \"58\": {\"8\": 2, \"122\": 1, \"106\": 1, \"56\": 2, \"20\": 1, \"6\": 1, \"128\": 1, \"25\": 1, \"7\": 1, \"71\": 1}, \"17\": {\"17\": 2, \"89\": 1, \"4\": 1, \"40\": 1, \"103\": 1, \"55\": 1, \"129\": 1, \"9\": 1, \"76\": 1, \"54\": 1, \"100\": 1}, \"29\": {\"29\": 6, \"47\": 2, \"75\": 1, \"58\": 1, \"96\": 1, \"106\": 1}, \"35\": {\"74\": 1, \"35\": 3, \"47\": 1, \"34\": 1, \"111\": 1, \"22\": 1, \"17\": 1, \"0\": 1, \"85\": 1, \"40\": 1}, \"3\": {\"44\": 1, \"3\": 4, \"84\": 2, \"112\": 1, \"59\": 1, \"110\": 1, \"40\": 1, \"129\": 1}, \"77\": {\"15\": 1, \"77\": 4, \"98\": 1, \"34\": 2, \"57\": 1, \"79\": 1, \"44\": 1, \"112\": 1}, \"56\": {\"56\": 4, \"35\": 1, \"65\": 1, \"90\": 1, \"129\": 1, \"83\": 1, \"54\": 1, \"32\": 1, \"92\": 1}, \"109\": {\"60\": 1, \"85\": 1, \"109\": 1, \"79\": 1, \"5\": 2, \"37\": 1, \"108\": 1, \"107\": 1, \"127\": 1, \"70\": 1, \"68\": 1}, \"114\": {\"3\": 1, \"105\": 1, \"114\": 5, \"17\": 2, \"55\": 1, \"77\": 1, \"19\": 1}, \"16\": {\"80\": 1, \"16\": 4, \"82\": 1, \"67\": 3, \"13\": 2, \"22\": 1}, \"112\": {\"84\": 1, \"49\": 1, \"32\": 1, \"112\": 3, \"77\": 1, \"127\": 1, \"111\": 1, \"12\": 1, \"6\": 1, \"3\": 1}, \"105\": {\"3\": 1, \"84\": 1, \"83\": 1, \"1\": 2, \"122\": 2, \"41\": 1, \"10\": 1, \"105\": 1, \"33\": 1, \"99\": 1}, \"84\": {\"112\": 1, \"105\": 1, \"10\": 1, \"78\": 1, \"54\": 1, \"109\": 1, \"57\": 1, \"41\": 1, \"22\": 1, \"77\": 1, \"29\": 1, \"70\": 1}, \"127\": {\"85\": 1, \"112\": 1, \"73\": 2, \"128\": 2, \"77\": 1, \"127\": 2, \"114\": 1, \"106\": 1, \"47\": 1}, \"70\": {\"114\": 1, \"70\": 3, \"41\": 1, \"30\": 1, \"19\": 1, \"84\": 2, \"127\": 1, \"111\": 1, \"53\": 1}, \"52\": {\"85\": 1, \"52\": 4, \"27\": 1, \"94\": 1, \"51\": 1, \"6\": 1, \"44\": 2, \"71\": 1}, \"31\": {\"75\": 2, \"31\": 4, \"96\": 1, \"53\": 1, \"126\": 2, \"88\": 1, \"103\": 1}, \"43\": {\"40\": 2, \"23\": 1, \"60\": 1, \"1\": 1, \"78\": 1, \"43\": 1, \"114\": 1, \"105\": 1, \"33\": 1, \"14\": 1, \"3\": 1}, \"75\": {\"35\": 1, \"53\": 1, \"59\": 1, \"114\": 1, \"111\": 1, \"75\": 1, \"112\": 2, \"126\": 1, \"98\": 1, \"99\": 1, \"127\": 1}, \"40\": {\"17\": 4, \"22\": 1, \"40\": 2, \"19\": 2, \"42\": 1, \"41\": 1, \"3\": 1}, \"129\": {\"43\": 1, \"129\": 3, \"45\": 1, \"122\": 1, \"87\": 2, \"51\": 1, \"2\": 1, \"114\": 1, \"84\": 1}, \"73\": {\"47\": 1, \"114\": 1, \"73\": 5, \"92\": 1, \"99\": 1, \"79\": 1, \"105\": 1, \"64\": 1}, \"93\": {\"77\": 2, \"41\": 1, \"127\": 1, \"92\": 1, \"37\": 1, \"70\": 1, \"45\": 1, \"107\": 1, \"49\": 1}, \"20\": {\"20\": 4, \"30\": 1, \"64\": 1, \"45\": 1, \"89\": 1, \"23\": 1, \"5\": 1, \"9\": 2}, \"115\": {\"115\": 8, \"77\": 1, \"49\": 1, \"106\": 1, \"70\": 1}, \"24\": {\"30\": 2, \"24\": 6, \"34\": 1, \"59\": 1, \"98\": 1, \"125\": 1}, \"34\": {\"93\": 1, \"34\": 2, \"76\": 1, \"51\": 1, \"44\": 1, \"62\": 1, \"39\": 1, \"43\": 1, \"33\": 1, \"57\": 1, \"37\": 1}, \"78\": {\"93\": 2, \"2\": 2, \"95\": 1, \"43\": 1, \"1\": 1, \"78\": 2, \"99\": 1, \"46\": 1, \"67\": 1}, \"41\": {\"41\": 5, \"93\": 1, \"66\": 1, \"1\": 1, \"75\": 1, \"22\": 1, \"40\": 1, \"14\": 1}, \"30\": {\"98\": 1, \"93\": 1, \"34\": 2, \"6\": 1, \"91\": 1, \"79\": 1, \"31\": 1, \"68\": 1, \"30\": 2, \"47\": 1}, \"95\": {\"95\": 10, \"113\": 1, \"118\": 1}, \"19\": {\"19\": 3, \"107\": 1, \"79\": 2, \"101\": 1, \"128\": 1, \"114\": 1, \"11\": 1, \"72\": 1, \"68\": 1}, \"76\": {\"19\": 1, \"48\": 1, \"61\": 1, \"76\": 5, \"63\": 1, \"28\": 1, \"21\": 1, \"40\": 1}, \"67\": {\"67\": 5, \"38\": 2, \"79\": 1, \"87\": 1, \"74\": 1, \"81\": 2}, \"23\": {\"99\": 1, \"23\": 3, \"64\": 1, \"122\": 1, \"96\": 1, \"55\": 1, \"61\": 1, \"104\": 2, \"44\": 1}, \"99\": {\"99\": 5, \"32\": 1, \"29\": 1, \"45\": 1, \"72\": 1, \"5\": 1, \"91\": 1, \"96\": 1}, \"66\": {\"8\": 1, \"66\": 6, \"126\": 1}, \"18\": {\"8\": 1, \"66\": 1, \"74\": 1, \"43\": 1, \"13\": 1, \"18\": 3, \"76\": 3, \"65\": 1}, \"107\": {\"99\": 1, \"107\": 5, \"5\": 1, \"91\": 2, \"110\": 1, \"86\": 1, \"55\": 1}, \"108\": {\"108\": 1, \"99\": 1, \"100\": 1, \"127\": 1, \"12\": 1, \"59\": 3, \"73\": 1, \"6\": 1, \"27\": 1, \"52\": 1}, \"102\": {\"102\": 4, \"100\": 1, \"50\": 2, \"18\": 1, \"76\": 1, \"62\": 1, \"48\": 1, \"123\": 1}, \"54\": {\"22\": 2, \"109\": 1, \"100\": 1, \"54\": 4, \"61\": 1, \"55\": 1, \"25\": 1, \"122\": 1}, \"51\": {\"51\": 5, \"27\": 3, \"75\": 1, \"125\": 1, \"108\": 1, \"53\": 1}, \"79\": {\"107\": 1, \"34\": 1, \"79\": 3, \"44\": 1, \"99\": 1, \"45\": 1, \"20\": 1, \"98\": 1, \"31\": 1, \"1\": 1}, \"61\": {\"102\": 2, \"61\": 2, \"25\": 1, \"33\": 2, \"65\": 1, \"80\": 2, \"11\": 1, \"18\": 1}, \"11\": {\"102\": 2, \"84\": 1, \"2\": 1, \"14\": 1, \"63\": 1, \"82\": 1, \"4\": 1, \"99\": 1, \"78\": 1, \"42\": 2}, \"82\": {\"14\": 1, \"2\": 2, \"40\": 1, \"25\": 1, \"102\": 1, \"84\": 1, \"57\": 1, \"81\": 1, \"63\": 1, \"100\": 2}, \"92\": {\"86\": 1, \"92\": 6, \"126\": 1, \"89\": 1, \"127\": 1, \"79\": 1, \"104\": 1}, \"86\": {\"86\": 5, \"92\": 1, \"29\": 1, \"111\": 1, \"68\": 1, \"96\": 1, \"93\": 1, \"15\": 1}, \"33\": {\"33\": 7, \"50\": 1, \"120\": 1, \"11\": 1, \"43\": 1, \"46\": 1}, \"10\": {\"10\": 4, \"86\": 3, \"50\": 1, \"41\": 1, \"23\": 1, \"99\": 1, \"7\": 1}, \"110\": {\"110\": 4, \"78\": 2, \"40\": 2, \"23\": 1, \"109\": 1, \"128\": 1, \"1\": 1}, \"14\": {\"65\": 1, \"11\": 1, \"4\": 1, \"14\": 5, \"69\": 1, \"61\": 1, \"63\": 1, \"124\": 1}, \"120\": {\"119\": 3, \"120\": 7, \"121\": 1, \"65\": 1}, \"46\": {\"120\": 1, \"43\": 1, \"16\": 1, \"25\": 2, \"12\": 1, \"61\": 1, \"67\": 1, \"103\": 1, \"123\": 1, \"42\": 1, \"46\": 1}, \"1\": {\"66\": 1, \"1\": 2, \"103\": 2, \"104\": 1, \"90\": 1, \"40\": 1, \"112\": 2}, \"122\": {\"25\": 1, \"122\": 7, \"41\": 1, \"50\": 1, \"11\": 2}, \"25\": {\"92\": 1, \"29\": 1, \"25\": 1, \"93\": 1, \"100\": 1, \"42\": 1, \"20\": 1, \"128\": 1, \"7\": 1, \"78\": 1, \"115\": 1, \"8\": 1}, \"128\": {\"112\": 1, \"25\": 1, \"101\": 2, \"110\": 1, \"6\": 1, \"75\": 1, \"43\": 1, \"108\": 1, \"90\": 1, \"109\": 2}, \"100\": {\"61\": 1, \"93\": 1, \"25\": 1, \"109\": 1, \"40\": 1, \"19\": 1, \"17\": 1, \"114\": 1, \"50\": 1, \"100\": 1, \"8\": 2}, \"91\": {\"112\": 1, \"91\": 5, \"10\": 1, \"7\": 1, \"8\": 1, \"99\": 1, \"96\": 1, \"25\": 1}, \"87\": {\"128\": 1, \"91\": 1, \"17\": 1, \"87\": 1, \"60\": 1, \"129\": 1, \"14\": 1, \"3\": 1, \"127\": 1, \"55\": 1}, \"38\": {\"38\": 7, \"50\": 1, \"118\": 1, \"18\": 1, \"61\": 1, \"67\": 1}, \"68\": {\"91\": 3, \"59\": 1, \"47\": 1, \"101\": 1, \"37\": 1, \"93\": 1, \"111\": 1, \"96\": 1}, \"50\": {\"50\": 2, \"117\": 1, \"118\": 1, \"102\": 1, \"87\": 1, \"60\": 1, \"63\": 1, \"33\": 2, \"22\": 1, \"81\": 1}, \"55\": {\"55\": 1, \"114\": 1, \"86\": 1, \"41\": 1, \"101\": 1, \"23\": 1, \"70\": 1, \"46\": 1, \"106\": 1, \"107\": 1}, \"81\": {\"81\": 5, \"62\": 1, \"67\": 1, \"63\": 1, \"82\": 1, \"119\": 1, \"50\": 1, \"69\": 1}, \"101\": {\"44\": 1, \"101\": 3, \"88\": 1, \"97\": 1, \"94\": 1, \"19\": 1, \"98\": 2, \"79\": 2}, \"7\": {\"44\": 1, \"7\": 4, \"84\": 1, \"48\": 2, \"66\": 1, \"10\": 1}, \"26\": {\"95\": 1, \"81\": 1, \"13\": 2, \"26\": 3, \"39\": 1}, \"64\": {\"90\": 2, \"64\": 3, \"44\": 2, \"60\": 1, \"15\": 1, \"115\": 1}, \"63\": {\"63\": 6, \"33\": 1, \"69\": 2, \"50\": 1, \"2\": 1, \"22\": 1}, \"6\": {\"84\": 1, \"101\": 1, \"111\": 1, \"6\": 2, \"72\": 1, \"68\": 1, \"108\": 1, \"51\": 2, \"37\": 1, \"91\": 1}, \"111\": {\"23\": 1, \"56\": 1, \"68\": 2, \"96\": 1, \"86\": 1, \"41\": 1, \"112\": 1, \"111\": 1, \"93\": 1, \"106\": 2}, \"103\": {\"103\": 2, \"111\": 1, \"106\": 1, \"9\": 1, \"96\": 1, \"115\": 1, \"107\": 1}}, \"Wisig_2\": {\"89\": {\"89\": 7, \"18\": 1, \"57\": 1, \"117\": 1, \"92\": 1, \"121\": 1}, \"3\": {\"110\": 1, \"3\": 3, \"111\": 4, \"10\": 1, \"41\": 1, \"9\": 1, \"79\": 1}, \"31\": {\"18\": 2, \"33\": 1, \"86\": 1, \"13\": 1, \"57\": 2, \"31\": 3, \"14\": 1, \"69\": 1}, \"33\": {\"33\": 5, \"93\": 1, \"86\": 1, \"80\": 2, \"40\": 2, \"43\": 1}, \"8\": {\"91\": 1, \"33\": 1, \"12\": 1, \"54\": 1, \"68\": 1, \"124\": 2, \"83\": 1, \"14\": 1, \"114\": 1, \"110\": 1, \"41\": 1}, \"41\": {\"41\": 5, \"68\": 1, \"91\": 1, \"47\": 1, \"9\": 1, \"85\": 1, \"42\": 1, \"98\": 1}, \"92\": {\"92\": 5, \"17\": 1, \"63\": 2, \"89\": 1, \"121\": 1, \"76\": 1, \"85\": 1}, \"87\": {\"17\": 1, \"33\": 1, \"8\": 1, \"70\": 1, \"87\": 1, \"85\": 1, \"73\": 1, \"60\": 1, \"1\": 2, \"78\": 1, \"95\": 1}, \"17\": {\"17\": 3, \"41\": 1, \"68\": 1, \"43\": 1, \"100\": 1, \"116\": 1, \"28\": 1, \"84\": 1}, \"93\": {\"110\": 1, \"17\": 1, \"1\": 2, \"93\": 3, \"88\": 1, \"100\": 1, \"59\": 1, \"20\": 1, \"115\": 1}, \"94\": {\"94\": 3, \"24\": 1, \"58\": 1, \"12\": 1, \"30\": 1, \"75\": 1, \"27\": 1, \"36\": 1, \"6\": 1, \"103\": 1}, \"110\": {\"68\": 1, \"3\": 1, \"114\": 1, \"73\": 1, \"40\": 1, \"110\": 2, \"112\": 1, \"20\": 1, \"83\": 1, \"123\": 1, \"99\": 1}, \"18\": {\"18\": 7, \"76\": 1, \"81\": 3, \"113\": 1}, \"122\": {\"110\": 1, \"93\": 1, \"122\": 2, \"112\": 1, \"44\": 1, \"86\": 1, \"19\": 1, \"124\": 1, \"114\": 1, \"29\": 1, \"8\": 1}, \"91\": {\"17\": 1, \"8\": 1, \"128\": 1, \"77\": 1, \"44\": 1, \"11\": 1, \"24\": 1, \"22\": 1, \"101\": 1, \"87\": 1, \"30\": 1, \"127\": 1}, \"58\": {\"58\": 9, \"125\": 2, \"0\": 1}, \"68\": {\"41\": 1, \"3\": 1, \"68\": 3, \"100\": 1, \"8\": 1, \"91\": 1, \"106\": 1, \"123\": 1, \"54\": 2}, \"24\": {\"24\": 3, \"126\": 1, \"0\": 1, \"75\": 1, \"12\": 1, \"36\": 1, \"6\": 1, \"68\": 1, \"101\": 1, \"125\": 1}, \"28\": {\"33\": 1, \"17\": 2, \"12\": 1, \"42\": 1, \"29\": 1, \"28\": 2, \"32\": 1, \"80\": 1, \"62\": 1, \"20\": 1}, \"52\": {\"77\": 1, \"125\": 1, \"15\": 1, \"36\": 1, \"103\": 1, \"35\": 1, \"111\": 2, \"52\": 1, \"9\": 1}, \"23\": {\"113\": 1, \"129\": 1, \"23\": 2, \"96\": 1, \"31\": 1, \"5\": 1, \"72\": 1, \"63\": 1, \"90\": 1, \"19\": 1, \"62\": 1}, \"128\": {\"95\": 2, \"73\": 1, \"128\": 2, \"85\": 1, \"114\": 2, \"27\": 1, \"6\": 2, \"4\": 1}, \"113\": {\"113\": 6, \"72\": 1, \"26\": 1, \"88\": 1, \"33\": 1, \"105\": 1, \"18\": 1}, \"104\": {\"104\": 4, \"72\": 1, \"66\": 2, \"48\": 1, \"65\": 2, \"13\": 1, \"63\": 1}, \"72\": {\"72\": 3, \"128\": 1, \"13\": 2, \"86\": 2, \"117\": 1, \"32\": 2, \"66\": 1}, \"125\": {\"52\": 2, \"42\": 1, \"11\": 1, \"6\": 2, \"79\": 1, \"125\": 4, \"98\": 1}, \"121\": {\"113\": 1, \"60\": 1, \"64\": 1, \"63\": 2, \"121\": 3, \"104\": 1, \"14\": 1, \"118\": 2}, \"63\": {\"104\": 1, \"63\": 5, \"109\": 1, \"64\": 1, \"80\": 1, \"92\": 2, \"117\": 1}, \"70\": {\"60\": 2, \"70\": 3, \"61\": 1, \"54\": 1, \"107\": 1, \"44\": 1, \"14\": 1, \"95\": 1, \"120\": 1}, \"16\": {\"91\": 1, \"23\": 1, \"16\": 3, \"85\": 1, \"90\": 1, \"66\": 1}, \"60\": {\"60\": 6, \"93\": 1, \"46\": 1, \"120\": 1, \"43\": 1, \"13\": 1, \"118\": 1}, \"95\": {\"95\": 2, \"91\": 1, \"23\": 2, \"62\": 1, \"5\": 1, \"53\": 1, \"84\": 1, \"93\": 1, \"4\": 1, \"96\": 1}, \"50\": {\"104\": 2, \"32\": 1, \"50\": 6, \"22\": 1, \"80\": 1, \"55\": 1}, \"129\": {\"60\": 1, \"77\": 1, \"129\": 4, \"44\": 1, \"12\": 1, \"1\": 1, \"46\": 1, \"33\": 1, \"103\": 1}, \"77\": {\"91\": 1, \"77\": 1, \"126\": 1, \"111\": 2, \"129\": 2, \"34\": 1, \"3\": 1, \"47\": 1, \"7\": 1, \"78\": 1}, \"47\": {\"95\": 1, \"91\": 2, \"47\": 4, \"90\": 1, \"59\": 1, \"7\": 1, \"123\": 2}, \"13\": {\"72\": 1, \"48\": 1, \"50\": 1, \"32\": 1, \"13\": 3, \"61\": 1, \"63\": 2, \"55\": 1, \"116\": 1}, \"9\": {\"108\": 1, \"9\": 5, \"111\": 1, \"12\": 1, \"75\": 1, \"11\": 1, \"19\": 1, \"101\": 1}, \"115\": {\"115\": 4, \"54\": 1, \"73\": 1, \"49\": 1, \"108\": 1}, \"42\": {\"115\": 1, \"94\": 1, \"42\": 2, \"111\": 1, \"97\": 2, \"114\": 1, \"107\": 1, \"8\": 1, \"85\": 1, \"51\": 1}, \"48\": {\"72\": 3, \"48\": 6, \"80\": 1, \"13\": 1, \"37\": 1}, \"25\": {\"94\": 2, \"25\": 3, \"97\": 2, \"98\": 1, \"54\": 1, \"129\": 2, \"96\": 1}, \"61\": {\"61\": 7, \"66\": 1, \"43\": 1, \"22\": 1, \"60\": 1, \"1\": 1}, \"108\": {\"108\": 2, \"94\": 1, \"15\": 1, \"52\": 2, \"49\": 2, \"19\": 2, \"71\": 2}, \"54\": {\"12\": 1, \"70\": 1, \"79\": 1, \"54\": 3, \"114\": 2, \"56\": 1, \"77\": 1, \"30\": 1, \"68\": 1}, \"76\": {\"76\": 4, \"28\": 2, \"22\": 1, \"92\": 1, \"57\": 1, \"72\": 1, \"66\": 1, \"70\": 1}, \"12\": {\"8\": 1, \"12\": 3, \"127\": 1, \"9\": 2, \"100\": 1, \"111\": 1, \"0\": 1, \"71\": 1, \"115\": 1}, \"97\": {\"59\": 1, \"24\": 1, \"11\": 1, \"125\": 1, \"97\": 3, \"58\": 1, \"25\": 1, \"91\": 1}, \"11\": {\"24\": 1, \"0\": 2, \"6\": 1, \"11\": 5, \"69\": 1, \"108\": 1, \"101\": 1}, \"29\": {\"126\": 1, \"29\": 4, \"59\": 1, \"19\": 1, \"35\": 1, \"38\": 1, \"128\": 1, \"3\": 1, \"69\": 1}, \"57\": {\"57\": 5, \"113\": 1, \"63\": 1, \"82\": 1, \"23\": 1, \"32\": 1, \"54\": 1, \"22\": 1}, \"90\": {\"126\": 1, \"29\": 1, \"90\": 6, \"116\": 1, \"43\": 1, \"86\": 1, \"23\": 1}, \"26\": {\"86\": 1, \"26\": 7, \"69\": 1, \"113\": 1, \"63\": 2}, \"111\": {\"0\": 1, \"127\": 1, \"3\": 2, \"129\": 1, \"111\": 3, \"15\": 1, \"5\": 1, \"29\": 1, \"77\": 1}, \"59\": {\"77\": 1, \"47\": 1, \"3\": 1, \"14\": 1, \"128\": 1, \"29\": 1, \"59\": 3, \"99\": 1, \"123\": 1, \"105\": 1}, \"86\": {\"86\": 9, \"48\": 1, \"120\": 1, \"55\": 1}, \"126\": {\"0\": 1, \"111\": 1, \"126\": 3, \"127\": 1, \"46\": 1, \"129\": 1, \"10\": 1, \"68\": 1, \"107\": 2}, \"127\": {\"127\": 1, \"29\": 1, \"126\": 2, \"79\": 1, \"5\": 2, \"71\": 1}, \"0\": {\"111\": 2, \"25\": 1, \"49\": 1, \"103\": 2, \"0\": 2, \"3\": 1, \"108\": 1, \"91\": 1, \"52\": 1}, \"117\": {\"117\": 4, \"65\": 1, \"39\": 1, \"89\": 2, \"63\": 2, \"82\": 2}, \"118\": {\"37\": 1, \"23\": 1, \"88\": 1, \"118\": 1, \"109\": 2, \"48\": 1, \"76\": 1, \"53\": 1, \"113\": 1, \"20\": 1, \"17\": 1}, \"32\": {\"102\": 1, \"32\": 4, \"20\": 1, \"65\": 2, \"109\": 1, \"82\": 1, \"39\": 1, \"73\": 1}, \"37\": {\"37\": 4, \"96\": 1, \"69\": 2, \"88\": 1, \"118\": 1, \"104\": 3}, \"96\": {\"96\": 2, \"20\": 1, \"78\": 1, \"105\": 1, \"64\": 1, \"110\": 1, \"80\": 1, \"95\": 1, \"87\": 1, \"102\": 1, \"38\": 1}, \"44\": {\"44\": 4, \"41\": 1, \"122\": 1, \"106\": 1, \"56\": 1, \"10\": 1, \"112\": 1, \"128\": 1, \"123\": 1}, \"10\": {\"118\": 1, \"122\": 1, \"19\": 1, \"38\": 2, \"10\": 3, \"7\": 1, \"59\": 1, \"1\": 1, \"61\": 1}, \"4\": {\"54\": 1, \"79\": 1, \"91\": 2, \"46\": 1, \"1\": 1, \"47\": 1, \"4\": 4, \"78\": 1}, \"20\": {\"99\": 1, \"23\": 1, \"22\": 1, \"20\": 6, \"84\": 1, \"29\": 1, \"71\": 1}, \"21\": {\"21\": 3, \"102\": 2, \"76\": 1, \"81\": 1, \"86\": 1, \"2\": 1, \"109\": 1}, \"79\": {\"112\": 1, \"32\": 1, \"105\": 2, \"36\": 1, \"15\": 1, \"125\": 1, \"5\": 1, \"108\": 1, \"12\": 1}, \"99\": {\"20\": 1, \"122\": 1, \"99\": 3, \"21\": 1, \"100\": 1, \"67\": 1, \"4\": 1, \"110\": 1, \"8\": 1, \"120\": 1}, \"105\": {\"4\": 1, \"20\": 1, \"109\": 2, \"84\": 1, \"19\": 1, \"90\": 1, \"22\": 1, \"80\": 1, \"56\": 1, \"60\": 1, \"87\": 1}, \"112\": {\"79\": 1, \"41\": 1, \"38\": 2, \"49\": 1, \"8\": 1, \"34\": 1, \"14\": 1, \"7\": 1, \"112\": 2, \"123\": 1}, \"102\": {\"102\": 4, \"105\": 1, \"61\": 1}, \"14\": {\"21\": 1, \"65\": 2, \"32\": 1, \"84\": 2, \"78\": 1, \"33\": 1, \"50\": 2, \"14\": 1, \"56\": 1}, \"81\": {\"76\": 1, \"32\": 1, \"48\": 1, \"2\": 1, \"92\": 2, \"69\": 1, \"81\": 4, \"72\": 1}, \"65\": {\"22\": 1, \"65\": 5, \"96\": 1, \"27\": 1, \"2\": 1, \"113\": 1, \"72\": 1, \"26\": 1}, \"22\": {\"21\": 1, \"22\": 4, \"64\": 1, \"99\": 1, \"67\": 1, \"61\": 1, \"123\": 1, \"18\": 1, \"60\": 1}, \"64\": {\"76\": 1, \"13\": 1, \"64\": 6, \"31\": 1, \"113\": 1, \"92\": 1, \"84\": 1}, \"1\": {\"111\": 2, \"83\": 1, \"109\": 1, \"78\": 2, \"80\": 1, \"95\": 1, \"84\": 1, \"104\": 1, \"4\": 1, \"17\": 1}, \"83\": {\"83\": 5, \"103\": 1, \"95\": 1, \"74\": 1, \"20\": 1, \"7\": 1, \"99\": 1, \"96\": 1}, \"2\": {\"81\": 2, \"64\": 1, \"4\": 1, \"118\": 1, \"2\": 2, \"39\": 1, \"57\": 1, \"113\": 2, \"96\": 1}, \"78\": {\"77\": 1, \"129\": 1, \"79\": 1, \"96\": 1, \"90\": 1, \"80\": 1, \"33\": 1, \"78\": 2, \"122\": 1, \"100\": 1, \"120\": 1}, \"107\": {\"107\": 4, \"44\": 1, \"35\": 1, \"5\": 2, \"71\": 1, \"118\": 1, \"19\": 1, \"21\": 1}, \"103\": {\"107\": 1, \"77\": 1, \"123\": 1, \"19\": 1, \"103\": 3, \"108\": 1, \"124\": 1, \"114\": 1, \"79\": 1, \"111\": 1}, \"88\": {\"44\": 1, \"88\": 2, \"5\": 2, \"84\": 1, \"32\": 1, \"119\": 1, \"70\": 2, \"10\": 1, \"74\": 1}, \"80\": {\"86\": 1, \"48\": 1, \"80\": 1, \"39\": 2, \"23\": 1, \"64\": 1, \"83\": 2, \"109\": 1, \"116\": 1, \"62\": 1}, \"109\": {\"109\": 5, \"90\": 1, \"116\": 1, \"82\": 1, \"80\": 1, \"50\": 1, \"25\": 1, \"21\": 1}, \"30\": {\"79\": 3, \"53\": 1, \"3\": 1, \"30\": 3, \"7\": 1, \"75\": 1, \"12\": 1, \"91\": 1}, \"119\": {\"119\": 6, \"90\": 1, \"23\": 1, \"38\": 1, \"33\": 1, \"29\": 1, \"122\": 1}, \"106\": {\"106\": 4, \"11\": 1, \"101\": 3, \"0\": 1, \"68\": 1, \"75\": 1, \"108\": 1}, \"35\": {\"73\": 2, \"35\": 2, \"108\": 1, \"114\": 1, \"103\": 1, \"56\": 1, \"53\": 1, \"123\": 1, \"128\": 1, \"82\": 1}, \"73\": {\"73\": 4, \"128\": 1, \"84\": 1, \"123\": 1, \"7\": 1, \"68\": 1, \"60\": 1, \"59\": 1, \"103\": 1}, \"6\": {\"106\": 1, \"4\": 1, \"42\": 1, \"6\": 5, \"36\": 1, \"58\": 1, \"24\": 1, \"8\": 1}, \"46\": {\"129\": 1, \"46\": 2, \"5\": 1, \"103\": 2, \"59\": 1, \"114\": 1, \"20\": 1, \"68\": 1, \"1\": 1, \"23\": 1}, \"75\": {\"75\": 3, \"9\": 1, \"128\": 1, \"114\": 1, \"85\": 1, \"98\": 1, \"77\": 1, \"30\": 1, \"34\": 1, \"106\": 1}, \"39\": {\"92\": 1, \"39\": 2, \"57\": 1, \"83\": 1, \"82\": 1, \"69\": 1, \"2\": 1, \"56\": 1, \"78\": 1, \"67\": 1, \"74\": 1}, \"5\": {\"7\": 1, \"71\": 1, \"54\": 1, \"5\": 4, \"127\": 1, \"114\": 1, \"119\": 1, \"34\": 1, \"111\": 1}, \"7\": {\"7\": 3, \"68\": 1, \"67\": 1, \"43\": 1, \"123\": 1, \"47\": 1, \"29\": 1, \"122\": 1, \"59\": 1, \"114\": 1}, \"124\": {\"26\": 1, \"46\": 1, \"74\": 1, \"38\": 1, \"100\": 1, \"124\": 3, \"122\": 1, \"17\": 1, \"7\": 1, \"59\": 1}, \"69\": {\"69\": 7, \"82\": 2, \"37\": 1, \"22\": 1, \"109\": 1}, \"71\": {\"5\": 1, \"42\": 1, \"105\": 1, \"71\": 2, \"109\": 1, \"30\": 1, \"34\": 1, \"65\": 1, \"118\": 1, \"111\": 1, \"127\": 1}, \"74\": {\"113\": 1, \"74\": 1, \"23\": 1, \"10\": 1, \"14\": 1, \"76\": 1, \"22\": 2, \"48\": 1, \"12\": 1}, \"53\": {\"97\": 2, \"85\": 1, \"25\": 2, \"101\": 1, \"109\": 1, \"44\": 1, \"9\": 1, \"53\": 1, \"125\": 1, \"41\": 1}, \"51\": {\"30\": 2, \"25\": 2, \"51\": 4, \"15\": 1, \"36\": 1, \"108\": 2}, \"38\": {\"19\": 2, \"105\": 1, \"38\": 8, \"119\": 1}, \"62\": {\"105\": 2, \"66\": 1, \"62\": 5, \"55\": 1, \"67\": 1, \"65\": 1, \"116\": 1}, \"27\": {\"51\": 1, \"27\": 4, \"5\": 1, \"49\": 2, \"94\": 1, \"101\": 1, \"11\": 1, \"15\": 1}, \"19\": {\"3\": 1, \"120\": 1, \"19\": 3, \"85\": 1, \"15\": 1, \"78\": 1, \"46\": 1, \"119\": 1, \"55\": 1, \"107\": 1}, \"84\": {\"84\": 1, \"2\": 1, \"14\": 1, \"73\": 1, \"100\": 1, \"40\": 1, \"20\": 1, \"10\": 1, \"1\": 2, \"95\": 1, \"96\": 1}, \"120\": {\"10\": 1, \"120\": 4, \"100\": 1, \"16\": 1, \"90\": 1, \"99\": 1, \"4\": 1, \"23\": 1, \"96\": 1}, \"114\": {\"114\": 2, \"54\": 1, \"53\": 1, \"85\": 1, \"15\": 1, \"5\": 1, \"107\": 1, \"42\": 1, \"128\": 1, \"12\": 2}, \"45\": {\"50\": 2, \"65\": 1, \"109\": 2, \"45\": 2, \"67\": 1, \"124\": 1, \"116\": 1, \"41\": 1, \"66\": 1}, \"40\": {\"14\": 2, \"73\": 1, \"40\": 5, \"33\": 1, \"129\": 1, \"80\": 2}, \"85\": {\"84\": 1, \"54\": 1, \"110\": 2, \"0\": 1, \"35\": 1, \"123\": 1, \"122\": 2, \"85\": 1, \"46\": 2}, \"82\": {\"82\": 6, \"31\": 1, \"67\": 1, \"89\": 1, \"120\": 1}, \"101\": {\"101\": 3, \"106\": 1, \"15\": 3, \"52\": 1, \"36\": 1, \"34\": 1, \"75\": 1, \"91\": 1}, \"98\": {\"101\": 1, \"98\": 3, \"75\": 3, \"103\": 1, \"106\": 1, \"34\": 1, \"125\": 1, \"49\": 1}, \"100\": {\"100\": 4, \"85\": 1, \"123\": 1, \"122\": 1, \"67\": 1, \"65\": 1, \"8\": 1, \"46\": 1, \"93\": 1}, \"43\": {\"85\": 1, \"87\": 1, \"7\": 1, \"22\": 1, \"38\": 2, \"56\": 1, \"61\": 1, \"43\": 1, \"115\": 1, \"40\": 1, \"116\": 1}, \"34\": {\"49\": 1, \"128\": 1, \"16\": 1, \"52\": 1, \"107\": 1, \"15\": 1, \"44\": 1, \"72\": 1, \"40\": 1, \"33\": 1, \"110\": 2}, \"49\": {\"53\": 1, \"49\": 4, \"73\": 1, \"8\": 1, \"112\": 1, \"125\": 2, \"25\": 1, \"86\": 1}, \"15\": {\"34\": 1, \"127\": 1, \"15\": 5, \"103\": 1, \"111\": 1, \"35\": 1, \"43\": 1, \"11\": 1}, \"66\": {\"66\": 5, \"16\": 1, \"43\": 1, \"67\": 1, \"72\": 2}, \"36\": {\"15\": 2, \"101\": 1, \"36\": 4, \"51\": 1, \"25\": 2, \"125\": 1, \"6\": 1}, \"116\": {\"66\": 2, \"16\": 1, \"45\": 1, \"61\": 1, \"67\": 1, \"109\": 1, \"116\": 1, \"85\": 1, \"92\": 1, \"23\": 1, \"55\": 1}, \"67\": {\"55\": 3, \"67\": 3, \"109\": 2, \"6\": 1, \"22\": 1, \"72\": 1, \"66\": 1}, \"55\": {\"107\": 1, \"109\": 1, \"55\": 7, \"99\": 1, \"38\": 1, \"45\": 1}, \"123\": {\"123\": 5, \"15\": 1, \"49\": 1, \"122\": 2, \"110\": 1}, \"56\": {\"38\": 1, \"61\": 1, \"10\": 1, \"32\": 1, \"47\": 2, \"80\": 1, \"125\": 1}}, \"Wisig_4\": {\"19\": {\"19\": 5, \"44\": 1, \"83\": 1, \"95\": 1, \"128\": 1, \"3\": 1, \"127\": 1, \"46\": 1}, \"93\": {\"93\": 5, \"19\": 2, \"91\": 1, \"38\": 2, \"52\": 1, \"73\": 1}, \"52\": {\"20\": 1, \"91\": 1, \"114\": 1, \"58\": 1, \"52\": 2, \"89\": 1, \"55\": 1, \"128\": 2, \"95\": 1, \"41\": 1}, \"44\": {\"66\": 1, \"93\": 1, \"119\": 1, \"84\": 1, \"53\": 1, \"2\": 1, \"29\": 1, \"44\": 3, \"37\": 1, \"11\": 1}, \"120\": {\"37\": 2, \"48\": 2, \"17\": 1, \"128\": 1, \"60\": 1, \"76\": 1, \"28\": 1, \"79\": 1, \"120\": 1, \"66\": 1}, \"33\": {\"87\": 2, \"33\": 2, \"2\": 1, \"115\": 1, \"108\": 1, \"103\": 1, \"26\": 1, \"116\": 1}, \"87\": {\"14\": 1, \"37\": 1, \"21\": 1, \"7\": 1, \"38\": 1, \"103\": 1, \"128\": 1, \"129\": 1, \"90\": 1, \"34\": 1, \"80\": 1, \"87\": 1}, \"20\": {\"20\": 2, \"37\": 1, \"17\": 1, \"49\": 2, \"120\": 1, \"42\": 1, \"5\": 2, \"33\": 1, \"11\": 1}, \"35\": {\"16\": 2, \"35\": 7, \"121\": 1, \"64\": 1, \"92\": 1}, \"16\": {\"16\": 6, \"13\": 1, \"117\": 1, \"62\": 1, \"26\": 1, \"123\": 1, \"107\": 1}, \"14\": {\"33\": 1, \"44\": 1, \"84\": 1, \"14\": 2, \"46\": 1, \"122\": 1, \"118\": 1, \"128\": 2, \"40\": 1, \"108\": 1}, \"91\": {\"20\": 2, \"88\": 1, \"0\": 2, \"115\": 1, \"85\": 1, \"86\": 1, \"46\": 1, \"83\": 1}, \"121\": {\"67\": 1, \"35\": 1, \"84\": 1, \"14\": 1, \"121\": 4, \"39\": 1, \"26\": 1, \"76\": 1, \"104\": 1}, \"65\": {\"67\": 1, \"121\": 3, \"65\": 2, \"110\": 1, \"28\": 1, \"45\": 1, \"62\": 2, \"16\": 1}, \"66\": {\"37\": 2, \"66\": 1, \"46\": 1, \"11\": 1, \"105\": 1, \"108\": 1, \"38\": 1, \"43\": 1, \"113\": 1, \"65\": 1, \"7\": 1}, \"37\": {\"120\": 2, \"116\": 2, \"100\": 1, \"37\": 1, \"118\": 1, \"14\": 1, \"78\": 1, \"96\": 1, \"23\": 1, \"91\": 1}, \"67\": {\"52\": 1, \"33\": 1, \"64\": 1, \"67\": 3, \"102\": 1, \"57\": 1, \"123\": 1, \"28\": 1, \"69\": 2}, \"88\": {\"52\": 1, \"87\": 1, \"22\": 1, \"41\": 1, \"88\": 1, \"29\": 1, \"94\": 1, \"101\": 1, \"128\": 1, \"125\": 1, \"6\": 1, \"78\": 1}, \"71\": {\"71\": 3, \"93\": 1, \"114\": 2, \"103\": 2, \"5\": 2, \"129\": 1, \"100\": 1}, \"81\": {\"81\": 5, \"44\": 1, \"39\": 1, \"102\": 1, \"69\": 1, \"67\": 1, \"65\": 2}, \"34\": {\"81\": 1, \"50\": 1, \"34\": 2, \"79\": 1, \"122\": 1, \"98\": 1, \"8\": 1, \"37\": 1, \"103\": 1, \"84\": 1, \"54\": 1}, \"63\": {\"121\": 2, \"23\": 1, \"39\": 1, \"40\": 2, \"63\": 1, \"118\": 3, \"16\": 1, \"113\": 1}, \"73\": {\"73\": 6, \"119\": 1, \"3\": 1, \"105\": 2, \"71\": 1, \"79\": 1}, \"86\": {\"119\": 1, \"51\": 1, \"111\": 1, \"53\": 1, \"86\": 2, \"85\": 3, \"7\": 1, \"3\": 1, \"46\": 1}, \"106\": {\"106\": 5, \"34\": 1, \"49\": 1, \"15\": 1, \"10\": 1, \"52\": 1, \"58\": 2}, \"68\": {\"68\": 4, \"34\": 1, \"12\": 1, \"6\": 1, \"29\": 2, \"112\": 1, \"58\": 1, \"105\": 1}, \"98\": {\"101\": 1, \"34\": 1, \"98\": 4, \"129\": 1, \"106\": 1, \"60\": 1, \"0\": 2, \"5\": 1}, \"84\": {\"81\": 1, \"84\": 1, \"102\": 1, \"1\": 1, \"116\": 1, \"56\": 1, \"113\": 1, \"120\": 1, \"62\": 2, \"33\": 1, \"96\": 1}, \"101\": {\"86\": 1, \"3\": 1, \"55\": 1, \"0\": 2, \"101\": 3, \"49\": 1, \"88\": 1, \"60\": 1, \"42\": 1}, \"50\": {\"81\": 1, \"50\": 1, \"11\": 1, \"119\": 1, \"90\": 1, \"4\": 1, \"87\": 1, \"21\": 1}, \"8\": {\"51\": 1, \"34\": 1, \"68\": 1, \"11\": 1, \"111\": 2, \"30\": 1, \"98\": 2, \"58\": 1, \"112\": 1, \"8\": 1}, \"95\": {\"68\": 1, \"3\": 1, \"95\": 2, \"71\": 1, \"100\": 1, \"11\": 1, \"51\": 1, \"108\": 1, \"81\": 1, \"79\": 1, \"115\": 1}, \"119\": {\"98\": 1, \"119\": 5, \"1\": 1, \"101\": 2, \"68\": 1, \"71\": 1, \"114\": 1}, \"51\": {\"84\": 1, \"34\": 1, \"47\": 1, \"112\": 1, \"85\": 1, \"124\": 1, \"73\": 1, \"27\": 1, \"111\": 1, \"52\": 1, \"15\": 1, \"51\": 1}, \"3\": {\"8\": 2, \"5\": 1, \"89\": 1, \"1\": 2, \"3\": 3, \"127\": 1, \"19\": 1, \"49\": 1}, \"9\": {\"111\": 1, \"9\": 5, \"48\": 1, \"88\": 1, \"75\": 1, \"71\": 1, \"25\": 1, \"46\": 1}, \"42\": {\"108\": 1, \"42\": 2, \"25\": 1, \"3\": 1, \"46\": 1, \"34\": 1, \"5\": 1, \"15\": 2, \"47\": 1, \"95\": 1}, \"123\": {\"31\": 1, \"69\": 1, \"22\": 1, \"37\": 1, \"123\": 5, \"81\": 1, \"63\": 2}, \"107\": {\"107\": 4, \"123\": 1, \"11\": 1, \"124\": 1, \"40\": 1, \"33\": 2, \"113\": 2}, \"111\": {\"114\": 2, \"85\": 1, \"30\": 1, \"103\": 1, \"111\": 1, \"70\": 1, \"97\": 1, \"95\": 1, \"58\": 1, \"3\": 1, \"8\": 1}, \"64\": {\"64\": 6, \"62\": 1, \"96\": 1, \"67\": 1, \"92\": 1, \"121\": 1, \"31\": 1}, \"31\": {\"31\": 8, \"118\": 1, \"22\": 1, \"109\": 2}, \"6\": {\"42\": 2, \"75\": 1, \"3\": 1, \"68\": 1, \"8\": 1, \"77\": 1, \"112\": 1, \"6\": 1, \"70\": 1, \"53\": 1, \"29\": 1}, \"53\": {\"6\": 2, \"53\": 4, \"91\": 1, \"112\": 1, \"75\": 2, \"93\": 1, \"30\": 1}, \"108\": {\"107\": 2, \"70\": 1, \"83\": 1, \"108\": 2, \"4\": 2, \"82\": 1, \"33\": 1, \"115\": 1, \"25\": 1}, \"69\": {\"53\": 1, \"123\": 1, \"84\": 1, \"81\": 1, \"118\": 1, \"38\": 1, \"69\": 4, \"17\": 1, \"45\": 1}, \"96\": {\"69\": 3, \"118\": 1, \"99\": 1, \"72\": 1, \"18\": 1, \"45\": 1, \"102\": 2, \"64\": 1, \"84\": 1}, \"22\": {\"22\": 9, \"123\": 1, \"44\": 1, \"92\": 1}, \"114\": {\"114\": 5, \"53\": 1, \"46\": 1, \"11\": 1, \"71\": 2, \"100\": 1, \"80\": 1}, \"7\": {\"7\": 5, \"89\": 1, \"82\": 3, \"60\": 1, \"122\": 1, \"14\": 1}, \"75\": {\"75\": 5, \"42\": 1, \"88\": 1, \"53\": 1, \"94\": 2, \"25\": 1, \"54\": 1}, \"2\": {\"123\": 1, \"96\": 1, \"2\": 2, \"126\": 1, \"115\": 1, \"117\": 1, \"57\": 1, \"39\": 1, \"105\": 1}, \"39\": {\"118\": 2, \"26\": 1, \"39\": 5, \"65\": 1, \"66\": 1, \"64\": 2}, \"41\": {\"41\": 2, \"114\": 1, \"29\": 2, \"89\": 1, \"49\": 1, \"101\": 1, \"70\": 1, \"42\": 1, \"115\": 1, \"55\": 1}, \"58\": {\"34\": 1, \"58\": 5, \"129\": 1, \"27\": 1, \"52\": 1, \"95\": 1, \"83\": 1, \"112\": 1}, \"127\": {\"127\": 3, \"95\": 1, \"46\": 2, \"129\": 1, \"47\": 1, \"125\": 1, \"70\": 1, \"10\": 1, \"91\": 1}, \"62\": {\"22\": 1, \"31\": 2, \"96\": 2, \"40\": 2, \"62\": 2, \"123\": 1, \"118\": 1, \"116\": 1}, \"76\": {\"118\": 1, \"22\": 1, \"89\": 1, \"76\": 3, \"45\": 1, \"120\": 1, \"48\": 1, \"65\": 1, \"123\": 1, \"16\": 1}, \"46\": {\"60\": 1, \"41\": 1, \"52\": 2, \"83\": 1, \"95\": 1, \"129\": 2, \"44\": 1, \"71\": 1, \"46\": 1, \"105\": 1}, \"60\": {\"66\": 1, \"41\": 1, \"91\": 1, \"113\": 1, \"57\": 2, \"56\": 2, \"88\": 1, \"74\": 1, \"20\": 1, \"43\": 1}, \"118\": {\"22\": 1, \"81\": 1, \"107\": 1, \"31\": 1, \"118\": 3, \"63\": 3, \"84\": 1, \"123\": 1}, \"78\": {\"66\": 1, \"78\": 5, \"50\": 1, \"116\": 1, \"127\": 1, \"4\": 1, \"59\": 1, \"72\": 1}, \"48\": {\"76\": 1, \"81\": 1, \"48\": 3, \"120\": 1, \"69\": 1, \"60\": 1, \"45\": 1, \"106\": 1, \"30\": 1, \"65\": 1}, \"29\": {\"3\": 1, \"89\": 1, \"1\": 1, \"19\": 1, \"29\": 3, \"119\": 1, \"128\": 1, \"6\": 1, \"90\": 1, \"58\": 1}, \"17\": {\"109\": 2, \"62\": 1, \"17\": 4, \"67\": 2, \"122\": 1, \"14\": 2}, \"112\": {\"47\": 2, \"91\": 1, \"53\": 1, \"12\": 2, \"6\": 1, \"75\": 1, \"103\": 1, \"112\": 1, \"8\": 1, \"106\": 1}, \"109\": {\"48\": 1, \"115\": 1, \"11\": 1, \"109\": 4, \"87\": 1, \"72\": 1, \"20\": 1, \"102\": 1, \"2\": 1}, \"47\": {\"41\": 1, \"29\": 1, \"97\": 1, \"47\": 3, \"114\": 1, \"36\": 1, \"70\": 2, \"51\": 1, \"83\": 1}, \"94\": {\"47\": 1, \"112\": 2, \"53\": 1, \"1\": 1, \"36\": 1, \"12\": 1, \"6\": 1, \"55\": 1, \"94\": 1, \"24\": 1, \"106\": 1}, \"115\": {\"17\": 1, \"5\": 1, \"19\": 1, \"115\": 1, \"82\": 1, \"113\": 1, \"38\": 1, \"114\": 1, \"62\": 2, \"103\": 1, \"33\": 1}, \"5\": {\"49\": 1, \"29\": 1, \"14\": 1, \"5\": 1, \"105\": 1, \"11\": 1, \"122\": 2, \"66\": 1, \"113\": 1, \"85\": 1, \"3\": 1}, \"26\": {\"115\": 1, \"39\": 1, \"16\": 1, \"92\": 1, \"26\": 5, \"35\": 1, \"64\": 1, \"2\": 1}, \"89\": {\"89\": 4, \"20\": 1, \"3\": 1, \"56\": 1, \"67\": 1, \"23\": 1, \"128\": 1}, \"49\": {\"89\": 3, \"112\": 1, \"79\": 2, \"12\": 1, \"128\": 1, \"49\": 1, \"11\": 1}, \"18\": {\"18\": 10, \"69\": 2}, \"102\": {\"102\": 4, \"99\": 1, \"74\": 1, \"32\": 1, \"110\": 2, \"45\": 1, \"37\": 1, \"21\": 1}, \"99\": {\"99\": 2, \"43\": 1, \"11\": 2, \"38\": 2, \"86\": 1, \"57\": 1, \"73\": 1, \"105\": 2}, \"105\": {\"99\": 1, \"21\": 1, \"50\": 2, \"73\": 1, \"17\": 1, \"15\": 1, \"89\": 1, \"105\": 2, \"100\": 1, \"57\": 1}, \"43\": {\"1\": 1, \"43\": 2, \"103\": 1, \"85\": 1, \"129\": 2, \"60\": 1, \"84\": 1, \"38\": 1, \"108\": 1, \"122\": 1}, \"12\": {\"29\": 1, \"12\": 2, \"70\": 1, \"36\": 2, \"42\": 1, \"20\": 1, \"3\": 1, \"85\": 1, \"111\": 1, \"87\": 1}, \"1\": {\"1\": 4, \"46\": 1, \"23\": 1, \"50\": 1, \"105\": 1, \"114\": 1, \"56\": 1, \"11\": 1, \"73\": 1}, \"21\": {\"102\": 2, \"81\": 1, \"20\": 2, \"21\": 1, \"87\": 2, \"18\": 1, \"120\": 1, \"78\": 2}, \"100\": {\"100\": 4, \"37\": 1, \"90\": 1, \"114\": 2, \"127\": 1, \"43\": 1, \"58\": 1, \"68\": 1}, \"80\": {\"80\": 4, \"117\": 1, \"108\": 1, \"43\": 1, \"29\": 1, \"11\": 1, \"102\": 1}, \"116\": {\"22\": 2, \"76\": 1, \"84\": 1, \"16\": 1, \"116\": 3, \"63\": 1, \"64\": 1, \"102\": 2}, \"70\": {\"52\": 1, \"46\": 1, \"106\": 1, \"60\": 1, \"10\": 2, \"71\": 1, \"119\": 1, \"97\": 1, \"6\": 1, \"111\": 1, \"125\": 1}, \"36\": {\"36\": 2, \"91\": 1, \"112\": 1, \"25\": 2, \"52\": 1, \"106\": 1, \"9\": 1, \"11\": 1}, \"122\": {\"122\": 6, \"89\": 1, \"23\": 1, \"33\": 1, \"38\": 1, \"57\": 1, \"1\": 1}, \"55\": {\"82\": 2, \"0\": 1, \"86\": 1, \"114\": 1, \"95\": 1, \"7\": 1, \"58\": 1, \"99\": 2, \"41\": 1, \"128\": 1}, \"0\": {\"55\": 1, \"0\": 2, \"47\": 1, \"77\": 1, \"27\": 1, \"128\": 1, \"56\": 1, \"119\": 2, \"8\": 1, \"114\": 1}, \"4\": {\"124\": 1, \"82\": 1, \"95\": 2, \"71\": 1, \"50\": 1, \"56\": 1, \"42\": 1, \"7\": 1, \"86\": 1, \"38\": 1, \"78\": 1}, \"82\": {\"55\": 1, \"0\": 1, \"87\": 1, \"117\": 1, \"122\": 2, \"99\": 1, \"7\": 1, \"105\": 1, \"74\": 1, \"107\": 1, \"56\": 1}, \"32\": {\"32\": 2, \"107\": 1, \"124\": 1, \"113\": 1, \"57\": 1, \"117\": 1, \"96\": 1, \"102\": 1, \"44\": 1}, \"124\": {\"0\": 2, \"124\": 2, \"40\": 1, \"79\": 1, \"103\": 1, \"33\": 1, \"43\": 1, \"1\": 1, \"87\": 1, \"126\": 1}, \"117\": {\"31\": 1, \"107\": 1, \"117\": 4, \"13\": 1, \"67\": 1, \"81\": 1, \"32\": 1, \"45\": 1, \"96\": 1}, \"11\": {\"55\": 3, \"124\": 2, \"78\": 1, \"105\": 1, \"71\": 1, \"7\": 1, \"1\": 1, \"114\": 2}, \"92\": {\"31\": 2, \"16\": 1, \"92\": 3, \"67\": 1, \"38\": 1, \"26\": 2, \"64\": 1, \"118\": 1}, \"128\": {\"48\": 1, \"128\": 2, \"103\": 1, \"0\": 1, \"33\": 1, \"82\": 1, \"88\": 1, \"1\": 2, \"49\": 1, \"5\": 1}, \"90\": {\"90\": 5, \"128\": 1, \"62\": 1, \"80\": 1, \"38\": 2, \"110\": 1, \"116\": 1}, \"74\": {\"20\": 1, \"74\": 3, \"50\": 1, \"4\": 1, \"105\": 1, \"101\": 2, \"60\": 1, \"120\": 1, \"82\": 1}, \"38\": {\"74\": 1, \"38\": 5, \"87\": 1, \"33\": 2, \"66\": 1, \"90\": 2}, \"25\": {\"25\": 7, \"15\": 1, \"70\": 1, \"5\": 1, \"30\": 2}, \"15\": {\"100\": 1, \"15\": 2, \"106\": 1, \"111\": 2, \"27\": 1, \"47\": 1, \"71\": 2, \"41\": 1, \"10\": 1}, \"113\": {\"113\": 4, \"82\": 1, \"58\": 1, \"122\": 2, \"84\": 1, \"72\": 1, \"126\": 1, \"22\": 1}, \"85\": {\"86\": 2, \"71\": 1, \"85\": 4, \"80\": 1, \"108\": 1, \"3\": 1, \"56\": 1, \"111\": 1}, \"57\": {\"57\": 4, \"23\": 1, \"102\": 2, \"32\": 1, \"1\": 1, \"44\": 1, \"2\": 1, \"37\": 1}, \"13\": {\"13\": 2, \"117\": 1, \"76\": 2, \"123\": 2, \"40\": 1, \"16\": 1, \"118\": 1, \"31\": 1, \"65\": 1}, \"125\": {\"75\": 1, \"85\": 1, \"125\": 6, \"54\": 1, \"111\": 1, \"114\": 1, \"10\": 1}, \"28\": {\"84\": 1, \"76\": 1, \"67\": 1, \"103\": 1, \"50\": 1, \"65\": 1, \"120\": 3, \"82\": 1, \"28\": 1, \"20\": 1}, \"40\": {\"84\": 1, \"40\": 4, \"90\": 1, \"43\": 2, \"129\": 1, \"48\": 1, \"124\": 1, \"99\": 1}, \"56\": {\"56\": 7, \"76\": 1, \"11\": 1, \"102\": 1, \"119\": 1, \"99\": 1}, \"23\": {\"46\": 2, \"127\": 1, \"50\": 2, \"39\": 1, \"119\": 1, \"120\": 1, \"82\": 1, \"107\": 2, \"91\": 1}, \"83\": {\"46\": 1, \"1\": 1, \"83\": 6, \"106\": 1, \"93\": 1, \"95\": 1, \"44\": 1}, \"72\": {\"78\": 2, \"50\": 1, \"55\": 1, \"71\": 1, \"129\": 1, \"79\": 1, \"66\": 1, \"120\": 1, \"115\": 1, \"72\": 1, \"44\": 1}, \"97\": {\"97\": 3, \"98\": 1, \"8\": 1, \"70\": 2, \"59\": 2, \"0\": 1, \"47\": 1, \"128\": 1}, \"77\": {\"97\": 2, \"54\": 2, \"0\": 1, \"77\": 2, \"94\": 1, \"101\": 1, \"125\": 1}, \"45\": {\"62\": 2, \"40\": 1, \"76\": 1, \"72\": 1, \"45\": 3, \"110\": 1, \"109\": 1, \"123\": 1, \"69\": 1}, \"129\": {\"129\": 3, \"77\": 1, \"111\": 1, \"103\": 1, \"58\": 1, \"4\": 1, \"74\": 1, \"79\": 1, \"124\": 1, \"2\": 1}, \"104\": {\"123\": 1, \"26\": 1, \"104\": 2, \"128\": 1, \"2\": 1, \"121\": 2}, \"10\": {\"36\": 1, \"11\": 1, \"30\": 1, \"70\": 1, \"54\": 1, \"15\": 1, \"24\": 1, \"114\": 1, \"93\": 1, \"88\": 1, \"52\": 1, \"42\": 1}, \"61\": {\"61\": 10, \"63\": 1, \"104\": 1}, \"110\": {\"57\": 1, \"60\": 1, \"4\": 2, \"110\": 2, \"38\": 1, \"128\": 1, \"55\": 1, \"78\": 1, \"50\": 1, \"114\": 1}, \"79\": {\"49\": 1, \"101\": 1, \"10\": 1, \"15\": 1, \"58\": 1, \"90\": 1, \"79\": 2, \"23\": 1, \"73\": 1, \"83\": 1, \"41\": 1}, \"30\": {\"111\": 1, \"30\": 4, \"97\": 1, \"6\": 2, \"106\": 1, \"24\": 1}, \"103\": {\"71\": 1, \"43\": 1, \"103\": 1, \"93\": 1, \"58\": 2, \"85\": 1, \"56\": 1, \"23\": 1, \"5\": 1, \"127\": 1, \"46\": 1}, \"54\": {\"10\": 1, \"54\": 2, \"77\": 1, \"12\": 1, \"55\": 1, \"75\": 2, \"9\": 1, \"36\": 1}, \"27\": {\"129\": 2, \"27\": 4, \"15\": 1, \"97\": 2, \"93\": 1, \"46\": 2}, \"59\": {\"59\": 2, \"4\": 1, \"30\": 1, \"47\": 1, \"77\": 2, \"125\": 1, \"6\": 1, \"27\": 1}, \"24\": {\"59\": 1, \"27\": 1, \"10\": 1, \"125\": 1, \"30\": 1, \"24\": 2, \"106\": 1}, \"126\": {\"128\": 2, \"126\": 2, \"99\": 1, \"11\": 1, \"123\": 2}}}, \"per_domain_accuracy\": {\"Metehan_1\": {\"accuracy\": 0.8333333333333334, \"source?\": true}, \"Metehan_0\": {\"accuracy\": 0.8728070175438597, \"source?\": true}, \"Metehan_2\": {\"accuracy\": 0.8552631578947368, \"source?\": true}, \"Wisig_3\": {\"accuracy\": 0.28157894736842104, \"source?\": false}, \"Wisig_1\": {\"accuracy\": 0.27960526315789475, \"source?\": false}, \"Wisig_2\": {\"accuracy\": 0.29473684210526313, \"source?\": false}, \"Wisig_4\": {\"accuracy\": 0.25723684210526315, \"source?\": false}}}, \"history\": {\"epoch_indices\": [1, 2, 3, 4, 5, 6, 7, 8], \"train_label_loss\": [0.36141047940131216, 1.468958405748246, 0.7094719782767315, 0.3742188398563673, 0.2750922834707631, 0.2831730946661934, 0.257447104664549, 0.29856498616318855], \"source_val_label_loss\": [0.315433531999588, 1.0310823917388916, 0.6682701706886292, 0.4157847464084625, 0.4045783579349518, 0.3695122301578522, 0.3989819586277008, 0.5046553611755371], \"target_val_label_loss\": [80.80806732177734, 61.79840087890625, 47.271209716796875, 16.14903450012207, 21.32417106628418, 18.163055419921875, 34.70545196533203, 75.93790435791016], \"source_val_acc_label\": [0.8742690058479532, 0.8289473684210527, 0.8377192982456141, 0.8538011695906432, 0.8640350877192983, 0.8654970760233918, 0.8421052631578947, 0.8450292397660819], \"target_val_acc_label\": [0.14703947368421053, 0.1567434210526316, 0.2733552631578947, 0.27828947368421053, 0.32302631578947366, 0.3115131578947368, 0.34884868421052634, 0.4052631578947368]}, \"dataset_metrics\": {\"source\": {\"train\": {\"n_unique_x\": 3990, \"n_unique_y\": 19, \"n_batch/episode\": 126}, \"val\": {\"n_unique_x\": 855, \"n_unique_y\": 19, \"n_batch/episode\": 18}, \"test\": {\"n_unique_x\": 855, \"n_unique_y\": 19, \"n_batch/episode\": 18}}, \"target\": {\"train\": {\"n_unique_x\": 36400, \"n_unique_y\": 130, \"n_batch/episode\": 1129}, \"val\": {\"n_unique_x\": 7792, \"n_unique_y\": 130, \"n_batch/episode\": 160}, \"test\": {\"n_unique_x\": 7792, \"n_unique_y\": 130, \"n_batch/episode\": 160}}}}'"
      ]
     },
     "execution_count": 29,
     "metadata": {},
     "output_type": "execute_result"
    }
   ],
   "source": [
    "json.dumps(experiment)"
   ]
  }
 ],
 "metadata": {
  "celltoolbar": "Tags",
  "kernelspec": {
   "display_name": "Python 3 (ipykernel)",
   "language": "python",
   "name": "python3"
  },
  "language_info": {
   "codemirror_mode": {
    "name": "ipython",
    "version": 3
   },
   "file_extension": ".py",
   "mimetype": "text/x-python",
   "name": "python",
   "nbconvert_exporter": "python",
   "pygments_lexer": "ipython3",
   "version": "3.8.10"
  },
  "papermill": {
   "default_parameters": {},
   "duration": 65.565479,
   "end_time": "2022-03-07T08:40:08.123298",
   "environment_variables": {},
   "exception": null,
   "input_path": "/mnt/wd500GB/CSC500/csc500-main/csc500-notebooks/templates/tl_ptn_template.ipynb",
   "output_path": "trial.ipynb",
   "parameters": {
    "parameters": {
     "BEST_MODEL_PATH": "./best_model.pth",
     "NUM_LOGS_PER_EPOCH": 10,
     "criteria_for_best": "target_loss",
     "dataset_seed": 1337,
     "datasets": [
      {
       "domain_prefix": "Wisig_",
       "domains": [
        1,
        2,
        3,
        4
       ],
       "episode_transforms": [],
       "labels": [
        "1-10",
        "1-12",
        "1-14",
        "1-16",
        "1-18",
        "1-19",
        "1-8",
        "10-11",
        "10-17",
        "10-4",
        "10-7",
        "11-1",
        "11-10",
        "11-19",
        "11-20",
        "11-4",
        "11-7",
        "12-19",
        "12-20",
        "12-7",
        "13-14",
        "13-18",
        "13-19",
        "13-20",
        "13-3",
        "13-7",
        "14-10",
        "14-11",
        "14-12",
        "14-13",
        "14-14",
        "14-19",
        "14-20",
        "14-7",
        "14-8",
        "14-9",
        "15-1",
        "15-19",
        "15-6",
        "16-1",
        "16-16",
        "16-19",
        "16-20",
        "17-10",
        "17-11",
        "18-1",
        "18-10",
        "18-11",
        "18-12",
        "18-13",
        "18-14",
        "18-15",
        "18-16",
        "18-17",
        "18-19",
        "18-2",
        "18-20",
        "18-4",
        "18-5",
        "18-7",
        "18-8",
        "18-9",
        "19-1",
        "19-10",
        "19-11",
        "19-12",
        "19-13",
        "19-14",
        "19-15",
        "19-19",
        "19-2",
        "19-20",
        "19-3",
        "19-4",
        "19-6",
        "19-7",
        "19-8",
        "19-9",
        "2-1",
        "2-13",
        "2-15",
        "2-3",
        "2-4",
        "2-5",
        "2-6",
        "2-7",
        "2-8",
        "20-1",
        "20-12",
        "20-14",
        "20-15",
        "20-16",
        "20-18",
        "20-19",
        "20-20",
        "20-3",
        "20-4",
        "20-5",
        "20-7",
        "20-8",
        "3-1",
        "3-13",
        "3-18",
        "3-2",
        "3-8",
        "4-1",
        "4-10",
        "4-11",
        "5-1",
        "5-5",
        "6-1",
        "6-15",
        "6-6",
        "7-10",
        "7-11",
        "7-12",
        "7-13",
        "7-14",
        "7-7",
        "7-8",
        "7-9",
        "8-1",
        "8-13",
        "8-14",
        "8-18",
        "8-20",
        "8-3",
        "8-8",
        "9-1",
        "9-7"
       ],
       "num_examples_per_domain_per_label": 100,
       "pickle_path": "/mnt/wd500GB/CSC500/csc500-main/datasets/wisig.node3-19.stratified_ds.2022A.pkl",
       "source_or_target_dataset": "target",
       "x_transforms": [
        "unit_mag"
       ]
      },
      {
       "domain_prefix": "Metehan_",
       "domains": [
        0,
        1,
        2
       ],
       "episode_transforms": [],
       "labels": [
        0,
        1,
        2,
        3,
        4,
        5,
        6,
        7,
        8,
        9,
        10,
        11,
        12,
        13,
        14,
        15,
        16,
        17,
        18
       ],
       "num_examples_per_domain_per_label": 100,
       "pickle_path": "/mnt/wd500GB/CSC500/csc500-main/datasets/metehan.stratified_ds.2022A.pkl",
       "source_or_target_dataset": "source",
       "x_transforms": [
        "unit_mag"
       ]
      }
     ],
     "device": "cuda",
     "experiment_name": "tl_1_wisig-metehan",
     "lr": 0.001,
     "n_epoch": 50,
     "n_query": 2,
     "n_shot": 3,
     "n_way": 19,
     "patience": 3,
     "seed": 1337,
     "test_k_factor": 2,
     "torch_default_dtype": "torch.float32",
     "train_k_factor": 3,
     "val_k_factor": 2,
     "x_net": [
      {
       "class": "nnReshape",
       "kargs": {
        "shape": [
         -1,
         1,
         2,
         256
        ]
       }
      },
      {
       "class": "Conv2d",
       "kargs": {
        "bias": false,
        "in_channels": 1,
        "kernel_size": [
         1,
         7
        ],
        "out_channels": 256,
        "padding": [
         0,
         3
        ]
       }
      },
      {
       "class": "ReLU",
       "kargs": {
        "inplace": true
       }
      },
      {
       "class": "BatchNorm2d",
       "kargs": {
        "num_features": 256
       }
      },
      {
       "class": "Conv2d",
       "kargs": {
        "bias": true,
        "in_channels": 256,
        "kernel_size": [
         2,
         7
        ],
        "out_channels": 80,
        "padding": [
         0,
         3
        ]
       }
      },
      {
       "class": "ReLU",
       "kargs": {
        "inplace": true
       }
      },
      {
       "class": "BatchNorm2d",
       "kargs": {
        "num_features": 80
       }
      },
      {
       "class": "Flatten",
       "kargs": {}
      },
      {
       "class": "Linear",
       "kargs": {
        "in_features": 20480,
        "out_features": 256
       }
      },
      {
       "class": "ReLU",
       "kargs": {
        "inplace": true
       }
      },
      {
       "class": "BatchNorm1d",
       "kargs": {
        "num_features": 256
       }
      },
      {
       "class": "Linear",
       "kargs": {
        "in_features": 256,
        "out_features": 256
       }
      }
     ]
    }
   },
   "start_time": "2022-03-07T08:39:02.557819",
   "version": "2.3.4"
  }
 },
 "nbformat": 4,
 "nbformat_minor": 5
}