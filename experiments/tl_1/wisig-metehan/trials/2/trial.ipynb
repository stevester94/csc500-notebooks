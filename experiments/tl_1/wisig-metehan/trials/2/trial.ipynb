{
 "cells": [
  {
   "cell_type": "markdown",
   "id": "9fea5f46",
   "metadata": {
    "papermill": {
     "duration": 0.014708,
     "end_time": "2022-03-07T08:34:21.453503",
     "exception": false,
     "start_time": "2022-03-07T08:34:21.438795",
     "status": "completed"
    },
    "tags": []
   },
   "source": [
    "# Transfer Learning Template"
   ]
  },
  {
   "cell_type": "code",
   "execution_count": 1,
   "id": "0902182a",
   "metadata": {
    "execution": {
     "iopub.execute_input": "2022-03-07T08:34:21.488458Z",
     "iopub.status.busy": "2022-03-07T08:34:21.488045Z",
     "iopub.status.idle": "2022-03-07T08:34:22.219529Z",
     "shell.execute_reply": "2022-03-07T08:34:22.219022Z"
    },
    "papermill": {
     "duration": 0.753489,
     "end_time": "2022-03-07T08:34:22.219653",
     "exception": false,
     "start_time": "2022-03-07T08:34:21.466164",
     "status": "completed"
    },
    "tags": []
   },
   "outputs": [],
   "source": [
    "%load_ext autoreload\n",
    "%autoreload 2\n",
    "%matplotlib inline\n",
    "\n",
    "    \n",
    "import os, json, sys, time, random\n",
    "import numpy as np\n",
    "import torch\n",
    "from torch.optim import Adam\n",
    "from  easydict import EasyDict\n",
    "import matplotlib.pyplot as plt\n",
    "\n",
    "from steves_models.steves_ptn import Steves_Prototypical_Network\n",
    "\n",
    "from steves_utils.lazy_iterable_wrapper import Lazy_Iterable_Wrapper\n",
    "from steves_utils.iterable_aggregator import Iterable_Aggregator\n",
    "from steves_utils.ptn_train_eval_test_jig import  PTN_Train_Eval_Test_Jig\n",
    "from steves_utils.torch_sequential_builder import build_sequential\n",
    "from steves_utils.torch_utils import get_dataset_metrics, ptn_confusion_by_domain_over_dataloader\n",
    "from steves_utils.utils_v2 import (per_domain_accuracy_from_confusion, get_datasets_base_path)\n",
    "from steves_utils.PTN.utils import independent_accuracy_assesment\n",
    "\n",
    "from torch.utils.data import DataLoader\n",
    "\n",
    "from steves_utils.stratified_dataset.episodic_accessor import Episodic_Accessor_Factory\n",
    "\n",
    "from steves_utils.ptn_do_report import (\n",
    "    get_loss_curve,\n",
    "    get_results_table,\n",
    "    get_parameters_table,\n",
    "    get_domain_accuracies,\n",
    ")\n",
    "\n",
    "from steves_utils.transforms import get_chained_transform"
   ]
  },
  {
   "cell_type": "markdown",
   "id": "41c840b4",
   "metadata": {
    "papermill": {
     "duration": 0.01264,
     "end_time": "2022-03-07T08:34:22.249352",
     "exception": false,
     "start_time": "2022-03-07T08:34:22.236712",
     "status": "completed"
    },
    "tags": []
   },
   "source": [
    "# Allowed Parameters\n",
    "These are allowed parameters, not defaults\n",
    "Each of these values need to be present in the injected parameters (the notebook will raise an exception if they are not present)\n",
    "\n",
    "Papermill uses the cell tag \"parameters\" to inject the real parameters below this cell.\n",
    "Enable tags to see what I mean"
   ]
  },
  {
   "cell_type": "code",
   "execution_count": 2,
   "id": "fd44eb83",
   "metadata": {
    "execution": {
     "iopub.execute_input": "2022-03-07T08:34:22.278688Z",
     "iopub.status.busy": "2022-03-07T08:34:22.278425Z",
     "iopub.status.idle": "2022-03-07T08:34:22.292627Z",
     "shell.execute_reply": "2022-03-07T08:34:22.292320Z"
    },
    "papermill": {
     "duration": 0.030819,
     "end_time": "2022-03-07T08:34:22.292710",
     "exception": false,
     "start_time": "2022-03-07T08:34:22.261891",
     "status": "completed"
    },
    "tags": []
   },
   "outputs": [],
   "source": [
    "required_parameters = {\n",
    "    \"experiment_name\",\n",
    "    \"lr\",\n",
    "    \"device\",\n",
    "    \"seed\",\n",
    "    \"dataset_seed\",\n",
    "    \"n_shot\",\n",
    "    \"n_query\",\n",
    "    \"n_way\",\n",
    "    \"train_k_factor\",\n",
    "    \"val_k_factor\",\n",
    "    \"test_k_factor\",\n",
    "    \"n_epoch\",\n",
    "    \"patience\",\n",
    "    \"criteria_for_best\",\n",
    "    \"x_net\",\n",
    "    \"datasets\",\n",
    "    \"torch_default_dtype\",\n",
    "    \"NUM_LOGS_PER_EPOCH\",\n",
    "    \"BEST_MODEL_PATH\",\n",
    "}"
   ]
  },
  {
   "cell_type": "code",
   "execution_count": 3,
   "id": "fa3f0049",
   "metadata": {
    "execution": {
     "iopub.execute_input": "2022-03-07T08:34:22.333375Z",
     "iopub.status.busy": "2022-03-07T08:34:22.332820Z",
     "iopub.status.idle": "2022-03-07T08:34:22.346210Z",
     "shell.execute_reply": "2022-03-07T08:34:22.345771Z"
    },
    "papermill": {
     "duration": 0.036835,
     "end_time": "2022-03-07T08:34:22.346315",
     "exception": false,
     "start_time": "2022-03-07T08:34:22.309480",
     "status": "completed"
    },
    "tags": [
     "parameters"
    ]
   },
   "outputs": [],
   "source": [
    "from steves_utils.CORES.utils import (\n",
    "    ALL_NODES,\n",
    "    ALL_NODES_MINIMUM_1000_EXAMPLES,\n",
    "    ALL_DAYS\n",
    ")\n",
    "\n",
    "from steves_utils.ORACLE.utils_v2 import (\n",
    "    ALL_DISTANCES_FEET_NARROWED,\n",
    "    ALL_RUNS,\n",
    "    ALL_SERIAL_NUMBERS,\n",
    ")\n",
    "\n",
    "standalone_parameters = {}\n",
    "standalone_parameters[\"experiment_name\"] = \"STANDALONE PTN\"\n",
    "standalone_parameters[\"lr\"] = 0.001\n",
    "standalone_parameters[\"device\"] = \"cuda\"\n",
    "\n",
    "standalone_parameters[\"seed\"] = 1337\n",
    "standalone_parameters[\"dataset_seed\"] = 1337\n",
    "\n",
    "standalone_parameters[\"n_way\"] = 8\n",
    "standalone_parameters[\"n_shot\"] = 3\n",
    "standalone_parameters[\"n_query\"]  = 2\n",
    "standalone_parameters[\"train_k_factor\"] = 1\n",
    "standalone_parameters[\"val_k_factor\"] = 2\n",
    "standalone_parameters[\"test_k_factor\"] = 2\n",
    "\n",
    "\n",
    "standalone_parameters[\"n_epoch\"] = 50\n",
    "\n",
    "standalone_parameters[\"patience\"] = 10\n",
    "standalone_parameters[\"criteria_for_best\"] = \"source_loss\"\n",
    "\n",
    "standalone_parameters[\"datasets\"] = [\n",
    "    {\n",
    "        \"labels\": ALL_SERIAL_NUMBERS,\n",
    "        \"domains\": ALL_DISTANCES_FEET_NARROWED,\n",
    "        \"num_examples_per_domain_per_label\": 100,\n",
    "        \"pickle_path\": os.path.join(get_datasets_base_path(), \"oracle.Run1_framed_2000Examples_stratified_ds.2022A.pkl\"),\n",
    "        \"source_or_target_dataset\": \"source\",\n",
    "        \"x_transforms\": [\"unit_mag\", \"minus_two\"],\n",
    "        \"episode_transforms\": [],\n",
    "        \"domain_prefix\": \"ORACLE_\"\n",
    "    },\n",
    "    {\n",
    "        \"labels\": ALL_NODES,\n",
    "        \"domains\": ALL_DAYS,\n",
    "        \"num_examples_per_domain_per_label\": 100,\n",
    "        \"pickle_path\": os.path.join(get_datasets_base_path(), \"cores.stratified_ds.2022A.pkl\"),\n",
    "        \"source_or_target_dataset\": \"target\",\n",
    "        \"x_transforms\": [\"unit_power\", \"times_zero\"],\n",
    "        \"episode_transforms\": [],\n",
    "        \"domain_prefix\": \"CORES_\"\n",
    "    }   \n",
    "]\n",
    "\n",
    "standalone_parameters[\"torch_default_dtype\"] = \"torch.float32\" \n",
    "\n",
    "\n",
    "\n",
    "standalone_parameters[\"x_net\"] =     [\n",
    "    {\"class\": \"nnReshape\", \"kargs\": {\"shape\":[-1, 1, 2, 256]}},\n",
    "    {\"class\": \"Conv2d\", \"kargs\": { \"in_channels\":1, \"out_channels\":256, \"kernel_size\":(1,7), \"bias\":False, \"padding\":(0,3), },},\n",
    "    {\"class\": \"ReLU\", \"kargs\": {\"inplace\": True}},\n",
    "    {\"class\": \"BatchNorm2d\", \"kargs\": {\"num_features\":256}},\n",
    "\n",
    "    {\"class\": \"Conv2d\", \"kargs\": { \"in_channels\":256, \"out_channels\":80, \"kernel_size\":(2,7), \"bias\":True, \"padding\":(0,3), },},\n",
    "    {\"class\": \"ReLU\", \"kargs\": {\"inplace\": True}},\n",
    "    {\"class\": \"BatchNorm2d\", \"kargs\": {\"num_features\":80}},\n",
    "    {\"class\": \"Flatten\", \"kargs\": {}},\n",
    "\n",
    "    {\"class\": \"Linear\", \"kargs\": {\"in_features\": 80*256, \"out_features\": 256}}, # 80 units per IQ pair\n",
    "    {\"class\": \"ReLU\", \"kargs\": {\"inplace\": True}},\n",
    "    {\"class\": \"BatchNorm1d\", \"kargs\": {\"num_features\":256}},\n",
    "\n",
    "    {\"class\": \"Linear\", \"kargs\": {\"in_features\": 256, \"out_features\": 256}},\n",
    "]\n",
    "\n",
    "# Parameters relevant to results\n",
    "# These parameters will basically never need to change\n",
    "standalone_parameters[\"NUM_LOGS_PER_EPOCH\"] = 10\n",
    "standalone_parameters[\"BEST_MODEL_PATH\"] = \"./best_model.pth\"\n",
    "\n",
    "\n",
    "\n",
    "\n"
   ]
  },
  {
   "cell_type": "code",
   "execution_count": 4,
   "id": "a21a1750",
   "metadata": {
    "execution": {
     "iopub.execute_input": "2022-03-07T08:34:22.389794Z",
     "iopub.status.busy": "2022-03-07T08:34:22.385617Z",
     "iopub.status.idle": "2022-03-07T08:34:22.402964Z",
     "shell.execute_reply": "2022-03-07T08:34:22.402508Z"
    },
    "papermill": {
     "duration": 0.037371,
     "end_time": "2022-03-07T08:34:22.403068",
     "exception": false,
     "start_time": "2022-03-07T08:34:22.365697",
     "status": "completed"
    },
    "tags": [
     "injected-parameters"
    ]
   },
   "outputs": [],
   "source": [
    "# Parameters\n",
    "parameters = {\n",
    "    \"experiment_name\": \"tl_1_wisig-metehan\",\n",
    "    \"device\": \"cuda\",\n",
    "    \"lr\": 0.001,\n",
    "    \"seed\": 1337,\n",
    "    \"dataset_seed\": 1337,\n",
    "    \"n_shot\": 3,\n",
    "    \"n_query\": 2,\n",
    "    \"train_k_factor\": 3,\n",
    "    \"val_k_factor\": 2,\n",
    "    \"test_k_factor\": 2,\n",
    "    \"torch_default_dtype\": \"torch.float32\",\n",
    "    \"n_epoch\": 50,\n",
    "    \"patience\": 3,\n",
    "    \"criteria_for_best\": \"target_loss\",\n",
    "    \"x_net\": [\n",
    "        {\"class\": \"nnReshape\", \"kargs\": {\"shape\": [-1, 1, 2, 256]}},\n",
    "        {\n",
    "            \"class\": \"Conv2d\",\n",
    "            \"kargs\": {\n",
    "                \"in_channels\": 1,\n",
    "                \"out_channels\": 256,\n",
    "                \"kernel_size\": [1, 7],\n",
    "                \"bias\": False,\n",
    "                \"padding\": [0, 3],\n",
    "            },\n",
    "        },\n",
    "        {\"class\": \"ReLU\", \"kargs\": {\"inplace\": True}},\n",
    "        {\"class\": \"BatchNorm2d\", \"kargs\": {\"num_features\": 256}},\n",
    "        {\n",
    "            \"class\": \"Conv2d\",\n",
    "            \"kargs\": {\n",
    "                \"in_channels\": 256,\n",
    "                \"out_channels\": 80,\n",
    "                \"kernel_size\": [2, 7],\n",
    "                \"bias\": True,\n",
    "                \"padding\": [0, 3],\n",
    "            },\n",
    "        },\n",
    "        {\"class\": \"ReLU\", \"kargs\": {\"inplace\": True}},\n",
    "        {\"class\": \"BatchNorm2d\", \"kargs\": {\"num_features\": 80}},\n",
    "        {\"class\": \"Flatten\", \"kargs\": {}},\n",
    "        {\"class\": \"Linear\", \"kargs\": {\"in_features\": 20480, \"out_features\": 256}},\n",
    "        {\"class\": \"ReLU\", \"kargs\": {\"inplace\": True}},\n",
    "        {\"class\": \"BatchNorm1d\", \"kargs\": {\"num_features\": 256}},\n",
    "        {\"class\": \"Linear\", \"kargs\": {\"in_features\": 256, \"out_features\": 256}},\n",
    "    ],\n",
    "    \"NUM_LOGS_PER_EPOCH\": 10,\n",
    "    \"BEST_MODEL_PATH\": \"./best_model.pth\",\n",
    "    \"n_way\": 19,\n",
    "    \"datasets\": [\n",
    "        {\n",
    "            \"labels\": [\n",
    "                \"1-10\",\n",
    "                \"1-12\",\n",
    "                \"1-14\",\n",
    "                \"1-16\",\n",
    "                \"1-18\",\n",
    "                \"1-19\",\n",
    "                \"1-8\",\n",
    "                \"10-11\",\n",
    "                \"10-17\",\n",
    "                \"10-4\",\n",
    "                \"10-7\",\n",
    "                \"11-1\",\n",
    "                \"11-10\",\n",
    "                \"11-19\",\n",
    "                \"11-20\",\n",
    "                \"11-4\",\n",
    "                \"11-7\",\n",
    "                \"12-19\",\n",
    "                \"12-20\",\n",
    "                \"12-7\",\n",
    "                \"13-14\",\n",
    "                \"13-18\",\n",
    "                \"13-19\",\n",
    "                \"13-20\",\n",
    "                \"13-3\",\n",
    "                \"13-7\",\n",
    "                \"14-10\",\n",
    "                \"14-11\",\n",
    "                \"14-12\",\n",
    "                \"14-13\",\n",
    "                \"14-14\",\n",
    "                \"14-19\",\n",
    "                \"14-20\",\n",
    "                \"14-7\",\n",
    "                \"14-8\",\n",
    "                \"14-9\",\n",
    "                \"15-1\",\n",
    "                \"15-19\",\n",
    "                \"15-6\",\n",
    "                \"16-1\",\n",
    "                \"16-16\",\n",
    "                \"16-19\",\n",
    "                \"16-20\",\n",
    "                \"17-10\",\n",
    "                \"17-11\",\n",
    "                \"18-1\",\n",
    "                \"18-10\",\n",
    "                \"18-11\",\n",
    "                \"18-12\",\n",
    "                \"18-13\",\n",
    "                \"18-14\",\n",
    "                \"18-15\",\n",
    "                \"18-16\",\n",
    "                \"18-17\",\n",
    "                \"18-19\",\n",
    "                \"18-2\",\n",
    "                \"18-20\",\n",
    "                \"18-4\",\n",
    "                \"18-5\",\n",
    "                \"18-7\",\n",
    "                \"18-8\",\n",
    "                \"18-9\",\n",
    "                \"19-1\",\n",
    "                \"19-10\",\n",
    "                \"19-11\",\n",
    "                \"19-12\",\n",
    "                \"19-13\",\n",
    "                \"19-14\",\n",
    "                \"19-15\",\n",
    "                \"19-19\",\n",
    "                \"19-2\",\n",
    "                \"19-20\",\n",
    "                \"19-3\",\n",
    "                \"19-4\",\n",
    "                \"19-6\",\n",
    "                \"19-7\",\n",
    "                \"19-8\",\n",
    "                \"19-9\",\n",
    "                \"2-1\",\n",
    "                \"2-13\",\n",
    "                \"2-15\",\n",
    "                \"2-3\",\n",
    "                \"2-4\",\n",
    "                \"2-5\",\n",
    "                \"2-6\",\n",
    "                \"2-7\",\n",
    "                \"2-8\",\n",
    "                \"20-1\",\n",
    "                \"20-12\",\n",
    "                \"20-14\",\n",
    "                \"20-15\",\n",
    "                \"20-16\",\n",
    "                \"20-18\",\n",
    "                \"20-19\",\n",
    "                \"20-20\",\n",
    "                \"20-3\",\n",
    "                \"20-4\",\n",
    "                \"20-5\",\n",
    "                \"20-7\",\n",
    "                \"20-8\",\n",
    "                \"3-1\",\n",
    "                \"3-13\",\n",
    "                \"3-18\",\n",
    "                \"3-2\",\n",
    "                \"3-8\",\n",
    "                \"4-1\",\n",
    "                \"4-10\",\n",
    "                \"4-11\",\n",
    "                \"5-1\",\n",
    "                \"5-5\",\n",
    "                \"6-1\",\n",
    "                \"6-15\",\n",
    "                \"6-6\",\n",
    "                \"7-10\",\n",
    "                \"7-11\",\n",
    "                \"7-12\",\n",
    "                \"7-13\",\n",
    "                \"7-14\",\n",
    "                \"7-7\",\n",
    "                \"7-8\",\n",
    "                \"7-9\",\n",
    "                \"8-1\",\n",
    "                \"8-13\",\n",
    "                \"8-14\",\n",
    "                \"8-18\",\n",
    "                \"8-20\",\n",
    "                \"8-3\",\n",
    "                \"8-8\",\n",
    "                \"9-1\",\n",
    "                \"9-7\",\n",
    "            ],\n",
    "            \"domains\": [1, 2, 3, 4],\n",
    "            \"num_examples_per_domain_per_label\": 100,\n",
    "            \"pickle_path\": \"/mnt/wd500GB/CSC500/csc500-main/datasets/wisig.node3-19.stratified_ds.2022A.pkl\",\n",
    "            \"source_or_target_dataset\": \"source\",\n",
    "            \"x_transforms\": [],\n",
    "            \"episode_transforms\": [],\n",
    "            \"domain_prefix\": \"Wisig_\",\n",
    "        },\n",
    "        {\n",
    "            \"labels\": [\n",
    "                0,\n",
    "                1,\n",
    "                2,\n",
    "                3,\n",
    "                4,\n",
    "                5,\n",
    "                6,\n",
    "                7,\n",
    "                8,\n",
    "                9,\n",
    "                10,\n",
    "                11,\n",
    "                12,\n",
    "                13,\n",
    "                14,\n",
    "                15,\n",
    "                16,\n",
    "                17,\n",
    "                18,\n",
    "            ],\n",
    "            \"domains\": [0, 1, 2],\n",
    "            \"num_examples_per_domain_per_label\": 100,\n",
    "            \"pickle_path\": \"/mnt/wd500GB/CSC500/csc500-main/datasets/metehan.stratified_ds.2022A.pkl\",\n",
    "            \"source_or_target_dataset\": \"target\",\n",
    "            \"x_transforms\": [],\n",
    "            \"episode_transforms\": [],\n",
    "            \"domain_prefix\": \"Metehan_\",\n",
    "        },\n",
    "    ],\n",
    "}\n"
   ]
  },
  {
   "cell_type": "code",
   "execution_count": 5,
   "id": "8fa1cc33",
   "metadata": {
    "execution": {
     "iopub.execute_input": "2022-03-07T08:34:22.438072Z",
     "iopub.status.busy": "2022-03-07T08:34:22.437794Z",
     "iopub.status.idle": "2022-03-07T08:34:22.448426Z",
     "shell.execute_reply": "2022-03-07T08:34:22.447994Z"
    },
    "papermill": {
     "duration": 0.028366,
     "end_time": "2022-03-07T08:34:22.448525",
     "exception": false,
     "start_time": "2022-03-07T08:34:22.420159",
     "status": "completed"
    },
    "tags": []
   },
   "outputs": [],
   "source": [
    "# Set this to True if you want to run this template directly\n",
    "STANDALONE = False\n",
    "if STANDALONE:\n",
    "    print(\"parameters not injected, running with standalone_parameters\")\n",
    "    parameters = standalone_parameters\n",
    "\n",
    "if not 'parameters' in locals() and not 'parameters' in globals():\n",
    "    raise Exception(\"Parameter injection failed\")\n",
    "\n",
    "#Use an easy dict for all the parameters\n",
    "p = EasyDict(parameters)\n",
    "\n",
    "supplied_keys = set(p.keys())\n",
    "\n",
    "if  supplied_keys != required_parameters:\n",
    "    print(\"Parameters are incorrect\")\n",
    "    if len(supplied_keys - required_parameters)>0: print(\"Shouldn't have:\", str(supplied_keys - required_parameters))\n",
    "    if len(required_parameters - supplied_keys)>0: print(\"Need to have:\", str(required_parameters - supplied_keys))\n",
    "    raise RuntimeError(\"Parameters are incorrect\")\n",
    "\n"
   ]
  },
  {
   "cell_type": "code",
   "execution_count": 6,
   "id": "3a028d58",
   "metadata": {
    "execution": {
     "iopub.execute_input": "2022-03-07T08:34:22.482762Z",
     "iopub.status.busy": "2022-03-07T08:34:22.482350Z",
     "iopub.status.idle": "2022-03-07T08:34:22.492631Z",
     "shell.execute_reply": "2022-03-07T08:34:22.492402Z"
    },
    "papermill": {
     "duration": 0.025807,
     "end_time": "2022-03-07T08:34:22.492688",
     "exception": false,
     "start_time": "2022-03-07T08:34:22.466881",
     "status": "completed"
    },
    "tags": []
   },
   "outputs": [],
   "source": [
    "###################################\n",
    "# Set the RNGs and make it all deterministic\n",
    "###################################\n",
    "np.random.seed(p.seed)\n",
    "random.seed(p.seed)\n",
    "torch.manual_seed(p.seed)\n",
    "\n",
    "torch.use_deterministic_algorithms(True) "
   ]
  },
  {
   "cell_type": "code",
   "execution_count": 7,
   "id": "b691acf6",
   "metadata": {
    "execution": {
     "iopub.execute_input": "2022-03-07T08:34:22.520769Z",
     "iopub.status.busy": "2022-03-07T08:34:22.520376Z",
     "iopub.status.idle": "2022-03-07T08:34:22.529390Z",
     "shell.execute_reply": "2022-03-07T08:34:22.529137Z"
    },
    "papermill": {
     "duration": 0.02374,
     "end_time": "2022-03-07T08:34:22.529451",
     "exception": false,
     "start_time": "2022-03-07T08:34:22.505711",
     "status": "completed"
    },
    "tags": []
   },
   "outputs": [],
   "source": [
    "###########################################\n",
    "# The stratified datasets honor this\n",
    "###########################################\n",
    "torch.set_default_dtype(eval(p.torch_default_dtype))"
   ]
  },
  {
   "cell_type": "code",
   "execution_count": 8,
   "id": "b5fba671",
   "metadata": {
    "execution": {
     "iopub.execute_input": "2022-03-07T08:34:22.557404Z",
     "iopub.status.busy": "2022-03-07T08:34:22.557007Z",
     "iopub.status.idle": "2022-03-07T08:34:22.591461Z",
     "shell.execute_reply": "2022-03-07T08:34:22.591673Z"
    },
    "papermill": {
     "duration": 0.049234,
     "end_time": "2022-03-07T08:34:22.591760",
     "exception": false,
     "start_time": "2022-03-07T08:34:22.542526",
     "status": "completed"
    },
    "tags": []
   },
   "outputs": [],
   "source": [
    "###################################\n",
    "# Build the network(s)\n",
    "# Note: It's critical to do this AFTER setting the RNG\n",
    "###################################\n",
    "x_net = build_sequential(p.x_net)"
   ]
  },
  {
   "cell_type": "code",
   "execution_count": 9,
   "id": "5d7e61cc",
   "metadata": {
    "execution": {
     "iopub.execute_input": "2022-03-07T08:34:22.620185Z",
     "iopub.status.busy": "2022-03-07T08:34:22.619796Z",
     "iopub.status.idle": "2022-03-07T08:34:22.629296Z",
     "shell.execute_reply": "2022-03-07T08:34:22.629031Z"
    },
    "papermill": {
     "duration": 0.024326,
     "end_time": "2022-03-07T08:34:22.629351",
     "exception": false,
     "start_time": "2022-03-07T08:34:22.605025",
     "status": "completed"
    },
    "tags": []
   },
   "outputs": [],
   "source": [
    "start_time_secs = time.time()"
   ]
  },
  {
   "cell_type": "code",
   "execution_count": 10,
   "id": "c6b67dfd",
   "metadata": {
    "execution": {
     "iopub.execute_input": "2022-03-07T08:34:22.657959Z",
     "iopub.status.busy": "2022-03-07T08:34:22.657560Z",
     "iopub.status.idle": "2022-03-07T08:34:22.666418Z",
     "shell.execute_reply": "2022-03-07T08:34:22.666154Z"
    },
    "papermill": {
     "duration": 0.024158,
     "end_time": "2022-03-07T08:34:22.666475",
     "exception": false,
     "start_time": "2022-03-07T08:34:22.642317",
     "status": "completed"
    },
    "tags": []
   },
   "outputs": [],
   "source": [
    "p.domains_source = []\n",
    "p.domains_target = []\n",
    "\n",
    "\n",
    "train_original_source = []\n",
    "val_original_source   = []\n",
    "test_original_source  = []\n",
    "\n",
    "train_original_target = []\n",
    "val_original_target   = []\n",
    "test_original_target  = []"
   ]
  },
  {
   "cell_type": "code",
   "execution_count": 11,
   "id": "e3d9c3d3",
   "metadata": {
    "execution": {
     "iopub.execute_input": "2022-03-07T08:34:22.694871Z",
     "iopub.status.busy": "2022-03-07T08:34:22.694456Z",
     "iopub.status.idle": "2022-03-07T08:34:22.703108Z",
     "shell.execute_reply": "2022-03-07T08:34:22.703322Z"
    },
    "papermill": {
     "duration": 0.023795,
     "end_time": "2022-03-07T08:34:22.703389",
     "exception": false,
     "start_time": "2022-03-07T08:34:22.679594",
     "status": "completed"
    },
    "tags": []
   },
   "outputs": [],
   "source": [
    "# global_x_transform_func = lambda x: normalize(x.to(torch.get_default_dtype()), \"unit_power\") # unit_power, unit_mag\n",
    "# global_x_transform_func = lambda x: normalize(x, \"unit_power\") # unit_power, unit_mag"
   ]
  },
  {
   "cell_type": "code",
   "execution_count": 12,
   "id": "acb78fd2",
   "metadata": {
    "execution": {
     "iopub.execute_input": "2022-03-07T08:34:22.734820Z",
     "iopub.status.busy": "2022-03-07T08:34:22.734402Z",
     "iopub.status.idle": "2022-03-07T08:34:22.744322Z",
     "shell.execute_reply": "2022-03-07T08:34:22.744054Z"
    },
    "papermill": {
     "duration": 0.027611,
     "end_time": "2022-03-07T08:34:22.744380",
     "exception": false,
     "start_time": "2022-03-07T08:34:22.716769",
     "status": "completed"
    },
    "tags": []
   },
   "outputs": [],
   "source": [
    "def add_dataset(\n",
    "    labels,\n",
    "    domains,\n",
    "    pickle_path,\n",
    "    x_transforms,\n",
    "    episode_transforms,\n",
    "    domain_prefix,\n",
    "    num_examples_per_domain_per_label,\n",
    "    source_or_target_dataset:str,\n",
    "    iterator_seed=p.seed,\n",
    "    dataset_seed=p.dataset_seed,\n",
    "    n_shot=p.n_shot,\n",
    "    n_way=p.n_way,\n",
    "    n_query=p.n_query,\n",
    "    train_val_test_k_factors=(p.train_k_factor,p.val_k_factor,p.test_k_factor),\n",
    "):\n",
    "   \n",
    "    if x_transforms == []: x_transform = None\n",
    "    else: x_transform = get_chained_transform(x_transforms)\n",
    "    \n",
    "    if episode_transforms == []: episode_transform = None\n",
    "    else: raise Exception(\"episode_transforms not implemented\")\n",
    "    \n",
    "    episode_transform = lambda tup, _prefix=domain_prefix: (_prefix + str(tup[0]), tup[1])\n",
    "\n",
    "\n",
    "    eaf = Episodic_Accessor_Factory(\n",
    "        labels=labels,\n",
    "        domains=domains,\n",
    "        num_examples_per_domain_per_label=num_examples_per_domain_per_label,\n",
    "        iterator_seed=iterator_seed,\n",
    "        dataset_seed=dataset_seed,\n",
    "        n_shot=n_shot,\n",
    "        n_way=n_way,\n",
    "        n_query=n_query,\n",
    "        train_val_test_k_factors=train_val_test_k_factors,\n",
    "        pickle_path=pickle_path,\n",
    "        x_transform_func=x_transform,\n",
    "    )\n",
    "\n",
    "    train, val, test = eaf.get_train(), eaf.get_val(), eaf.get_test()\n",
    "    train = Lazy_Iterable_Wrapper(train, episode_transform)\n",
    "    val = Lazy_Iterable_Wrapper(val, episode_transform)\n",
    "    test = Lazy_Iterable_Wrapper(test, episode_transform)\n",
    "\n",
    "    if source_or_target_dataset==\"source\":\n",
    "        train_original_source.append(train)\n",
    "        val_original_source.append(val)\n",
    "        test_original_source.append(test)\n",
    "\n",
    "        p.domains_source.extend(\n",
    "            [domain_prefix + str(u) for u in domains]\n",
    "        )\n",
    "    elif source_or_target_dataset==\"target\":\n",
    "        train_original_target.append(train)\n",
    "        val_original_target.append(val)\n",
    "        test_original_target.append(test)\n",
    "        p.domains_target.extend(\n",
    "            [domain_prefix + str(u) for u in domains]\n",
    "        )\n",
    "    else:\n",
    "        raise Exception(f\"invalid source_or_target_dataset: {source_or_target_dataset}\")\n",
    "    "
   ]
  },
  {
   "cell_type": "code",
   "execution_count": 13,
   "id": "fe266617",
   "metadata": {
    "execution": {
     "iopub.execute_input": "2022-03-07T08:34:22.772735Z",
     "iopub.status.busy": "2022-03-07T08:34:22.772342Z",
     "iopub.status.idle": "2022-03-07T08:34:23.313226Z",
     "shell.execute_reply": "2022-03-07T08:34:23.312965Z"
    },
    "papermill": {
     "duration": 0.555711,
     "end_time": "2022-03-07T08:34:23.313290",
     "exception": false,
     "start_time": "2022-03-07T08:34:22.757579",
     "status": "completed"
    },
    "tags": []
   },
   "outputs": [],
   "source": [
    "for ds in p.datasets:\n",
    "    add_dataset(**ds)"
   ]
  },
  {
   "cell_type": "code",
   "execution_count": 14,
   "id": "b90d65ac",
   "metadata": {
    "execution": {
     "iopub.execute_input": "2022-03-07T08:34:23.343525Z",
     "iopub.status.busy": "2022-03-07T08:34:23.343137Z",
     "iopub.status.idle": "2022-03-07T08:34:23.352847Z",
     "shell.execute_reply": "2022-03-07T08:34:23.352584Z"
    },
    "papermill": {
     "duration": 0.024895,
     "end_time": "2022-03-07T08:34:23.352904",
     "exception": false,
     "start_time": "2022-03-07T08:34:23.328009",
     "status": "completed"
    },
    "tags": []
   },
   "outputs": [],
   "source": [
    "# from steves_utils.CORES.utils import (\n",
    "#     ALL_NODES,\n",
    "#     ALL_NODES_MINIMUM_1000_EXAMPLES,\n",
    "#     ALL_DAYS\n",
    "# )\n",
    "\n",
    "# add_dataset(\n",
    "#     labels=ALL_NODES,\n",
    "#     domains = ALL_DAYS,\n",
    "#     num_examples_per_domain_per_label=100,\n",
    "#     pickle_path=os.path.join(get_datasets_base_path(), \"cores.stratified_ds.2022A.pkl\"),\n",
    "#     source_or_target_dataset=\"target\",\n",
    "#     x_transform_func=global_x_transform_func,\n",
    "#     domain_modifier=lambda u: f\"cores_{u}\"\n",
    "# )"
   ]
  },
  {
   "cell_type": "code",
   "execution_count": 15,
   "id": "76db484d",
   "metadata": {
    "execution": {
     "iopub.execute_input": "2022-03-07T08:34:23.382289Z",
     "iopub.status.busy": "2022-03-07T08:34:23.381792Z",
     "iopub.status.idle": "2022-03-07T08:34:23.390905Z",
     "shell.execute_reply": "2022-03-07T08:34:23.390477Z"
    },
    "papermill": {
     "duration": 0.024583,
     "end_time": "2022-03-07T08:34:23.391010",
     "exception": false,
     "start_time": "2022-03-07T08:34:23.366427",
     "status": "completed"
    },
    "tags": []
   },
   "outputs": [],
   "source": [
    "# from steves_utils.ORACLE.utils_v2 import (\n",
    "#     ALL_DISTANCES_FEET,\n",
    "#     ALL_RUNS,\n",
    "#     ALL_SERIAL_NUMBERS,\n",
    "# )\n",
    "\n",
    "\n",
    "# add_dataset(\n",
    "#     labels=ALL_SERIAL_NUMBERS,\n",
    "#     domains = list(set(ALL_DISTANCES_FEET) - {2,62}),\n",
    "#     num_examples_per_domain_per_label=100,\n",
    "#     pickle_path=os.path.join(get_datasets_base_path(), \"oracle.Run2_framed_2000Examples_stratified_ds.2022A.pkl\"),\n",
    "#     source_or_target_dataset=\"source\",\n",
    "#     x_transform_func=global_x_transform_func,\n",
    "#     domain_modifier=lambda u: f\"oracle1_{u}\"\n",
    "# )\n"
   ]
  },
  {
   "cell_type": "code",
   "execution_count": 16,
   "id": "97dea9d2",
   "metadata": {
    "execution": {
     "iopub.execute_input": "2022-03-07T08:34:23.424854Z",
     "iopub.status.busy": "2022-03-07T08:34:23.424595Z",
     "iopub.status.idle": "2022-03-07T08:34:23.438865Z",
     "shell.execute_reply": "2022-03-07T08:34:23.439266Z"
    },
    "papermill": {
     "duration": 0.030322,
     "end_time": "2022-03-07T08:34:23.439382",
     "exception": false,
     "start_time": "2022-03-07T08:34:23.409060",
     "status": "completed"
    },
    "tags": []
   },
   "outputs": [],
   "source": [
    "# from steves_utils.ORACLE.utils_v2 import (\n",
    "#     ALL_DISTANCES_FEET,\n",
    "#     ALL_RUNS,\n",
    "#     ALL_SERIAL_NUMBERS,\n",
    "# )\n",
    "\n",
    "\n",
    "# add_dataset(\n",
    "#     labels=ALL_SERIAL_NUMBERS,\n",
    "#     domains = list(set(ALL_DISTANCES_FEET) - {2,62,56}),\n",
    "#     num_examples_per_domain_per_label=100,\n",
    "#     pickle_path=os.path.join(get_datasets_base_path(), \"oracle.Run2_framed_2000Examples_stratified_ds.2022A.pkl\"),\n",
    "#     source_or_target_dataset=\"source\",\n",
    "#     x_transform_func=global_x_transform_func,\n",
    "#     domain_modifier=lambda u: f\"oracle2_{u}\"\n",
    "# )"
   ]
  },
  {
   "cell_type": "code",
   "execution_count": 17,
   "id": "6f289866",
   "metadata": {
    "execution": {
     "iopub.execute_input": "2022-03-07T08:34:23.474444Z",
     "iopub.status.busy": "2022-03-07T08:34:23.474172Z",
     "iopub.status.idle": "2022-03-07T08:34:23.482848Z",
     "shell.execute_reply": "2022-03-07T08:34:23.483146Z"
    },
    "papermill": {
     "duration": 0.024204,
     "end_time": "2022-03-07T08:34:23.483275",
     "exception": false,
     "start_time": "2022-03-07T08:34:23.459071",
     "status": "completed"
    },
    "tags": []
   },
   "outputs": [],
   "source": [
    "# add_dataset(\n",
    "#     labels=list(range(19)),\n",
    "#     domains = [0,1,2],\n",
    "#     num_examples_per_domain_per_label=100,\n",
    "#     pickle_path=os.path.join(get_datasets_base_path(), \"metehan.stratified_ds.2022A.pkl\"),\n",
    "#     source_or_target_dataset=\"target\",\n",
    "#     x_transform_func=global_x_transform_func,\n",
    "#     domain_modifier=lambda u: f\"met_{u}\"\n",
    "# )"
   ]
  },
  {
   "cell_type": "code",
   "execution_count": 18,
   "id": "86a863c3",
   "metadata": {
    "execution": {
     "iopub.execute_input": "2022-03-07T08:34:23.517443Z",
     "iopub.status.busy": "2022-03-07T08:34:23.516920Z",
     "iopub.status.idle": "2022-03-07T08:34:23.530762Z",
     "shell.execute_reply": "2022-03-07T08:34:23.531055Z"
    },
    "papermill": {
     "duration": 0.029876,
     "end_time": "2022-03-07T08:34:23.531149",
     "exception": false,
     "start_time": "2022-03-07T08:34:23.501273",
     "status": "completed"
    },
    "tags": []
   },
   "outputs": [],
   "source": [
    "# # from steves_utils.wisig.utils import (\n",
    "# #     ALL_NODES_MINIMUM_100_EXAMPLES,\n",
    "# #     ALL_NODES_MINIMUM_500_EXAMPLES,\n",
    "# #     ALL_NODES_MINIMUM_1000_EXAMPLES,\n",
    "# #     ALL_DAYS\n",
    "# # )\n",
    "\n",
    "# import steves_utils.wisig.utils as wisig\n",
    "\n",
    "\n",
    "# add_dataset(\n",
    "#     labels=wisig.ALL_NODES_MINIMUM_100_EXAMPLES,\n",
    "#     domains = wisig.ALL_DAYS,\n",
    "#     num_examples_per_domain_per_label=100,\n",
    "#     pickle_path=os.path.join(get_datasets_base_path(), \"wisig.node3-19.stratified_ds.2022A.pkl\"),\n",
    "#     source_or_target_dataset=\"target\",\n",
    "#     x_transform_func=global_x_transform_func,\n",
    "#     domain_modifier=lambda u: f\"wisig_{u}\"\n",
    "# )"
   ]
  },
  {
   "cell_type": "code",
   "execution_count": 19,
   "id": "fd5442bc",
   "metadata": {
    "execution": {
     "iopub.execute_input": "2022-03-07T08:34:23.569542Z",
     "iopub.status.busy": "2022-03-07T08:34:23.569263Z",
     "iopub.status.idle": "2022-03-07T08:34:23.581955Z",
     "shell.execute_reply": "2022-03-07T08:34:23.582334Z"
    },
    "papermill": {
     "duration": 0.031774,
     "end_time": "2022-03-07T08:34:23.582456",
     "exception": false,
     "start_time": "2022-03-07T08:34:23.550682",
     "status": "completed"
    },
    "tags": []
   },
   "outputs": [],
   "source": [
    "###################################\n",
    "# Build the dataset\n",
    "###################################\n",
    "train_original_source = Iterable_Aggregator(train_original_source, p.seed)\n",
    "val_original_source = Iterable_Aggregator(val_original_source, p.seed)\n",
    "test_original_source = Iterable_Aggregator(test_original_source, p.seed)\n",
    "\n",
    "\n",
    "train_original_target = Iterable_Aggregator(train_original_target, p.seed)\n",
    "val_original_target = Iterable_Aggregator(val_original_target, p.seed)\n",
    "test_original_target = Iterable_Aggregator(test_original_target, p.seed)\n",
    "\n",
    "# For CNN We only use X and Y. And we only train on the source.\n",
    "# Properly form the data using a transform lambda and Lazy_Iterable_Wrapper. Finally wrap them in a dataloader\n",
    "\n",
    "transform_lambda = lambda ex: ex[1] # Original is (<domain>, <episode>) so we strip down to episode only\n",
    "\n",
    "train_processed_source = Lazy_Iterable_Wrapper(train_original_source, transform_lambda)\n",
    "val_processed_source   = Lazy_Iterable_Wrapper(val_original_source, transform_lambda)\n",
    "test_processed_source  = Lazy_Iterable_Wrapper(test_original_source, transform_lambda)\n",
    "\n",
    "train_processed_target = Lazy_Iterable_Wrapper(train_original_target, transform_lambda)\n",
    "val_processed_target   = Lazy_Iterable_Wrapper(val_original_target, transform_lambda)\n",
    "test_processed_target  = Lazy_Iterable_Wrapper(test_original_target, transform_lambda)\n",
    "\n",
    "datasets = EasyDict({\n",
    "    \"source\": {\n",
    "        \"original\": {\"train\":train_original_source, \"val\":val_original_source, \"test\":test_original_source},\n",
    "        \"processed\": {\"train\":train_processed_source, \"val\":val_processed_source, \"test\":test_processed_source}\n",
    "    },\n",
    "    \"target\": {\n",
    "        \"original\": {\"train\":train_original_target, \"val\":val_original_target, \"test\":test_original_target},\n",
    "        \"processed\": {\"train\":train_processed_target, \"val\":val_processed_target, \"test\":test_processed_target}\n",
    "    },\n",
    "})"
   ]
  },
  {
   "cell_type": "code",
   "execution_count": 20,
   "id": "5b3c01fc",
   "metadata": {
    "execution": {
     "iopub.execute_input": "2022-03-07T08:34:23.617850Z",
     "iopub.status.busy": "2022-03-07T08:34:23.616324Z",
     "iopub.status.idle": "2022-03-07T08:34:25.742981Z",
     "shell.execute_reply": "2022-03-07T08:34:25.743273Z"
    },
    "papermill": {
     "duration": 2.142582,
     "end_time": "2022-03-07T08:34:25.743356",
     "exception": false,
     "start_time": "2022-03-07T08:34:23.600774",
     "status": "completed"
    },
    "tags": []
   },
   "outputs": [
    {
     "name": "stdout",
     "output_type": "stream",
     "text": [
      "{'Wisig_4', 'Wisig_1', 'Wisig_3', 'Wisig_2'}\n"
     ]
    },
    {
     "name": "stdout",
     "output_type": "stream",
     "text": [
      "{'Metehan_1', 'Metehan_2', 'Metehan_0'}\n"
     ]
    },
    {
     "name": "stdout",
     "output_type": "stream",
     "text": [
      "tensor([[[ 0.0073,  0.0066, -0.0150,  ..., -0.0214,  0.0055,  0.0396],\n",
      "         [ 0.0050, -0.0009, -0.0531,  ...,  0.0714,  0.0144, -0.0284]],\n",
      "\n",
      "        [[ 0.0977, -0.0171, -0.1123,  ...,  0.0613, -0.0249, -0.1023],\n",
      "         [ 0.0324,  0.0909, -0.0041,  ...,  0.0518,  0.0782, -0.0295]],\n",
      "\n",
      "        [[ 0.0031, -0.0154, -0.0193,  ...,  0.0126,  0.0027,  0.0385],\n",
      "         [-0.0065,  0.0033, -0.0660,  ...,  0.0143, -0.0239, -0.0589]],\n",
      "\n",
      "        ...,\n",
      "\n",
      "        [[-0.0055,  0.0113,  0.0005,  ..., -0.0093,  0.0005, -0.0061],\n",
      "         [-0.0009, -0.0002,  0.0199,  ...,  0.0154,  0.0232,  0.0307]],\n",
      "\n",
      "        [[ 0.0039, -0.0045, -0.0211,  ..., -0.0140, -0.0224, -0.0297],\n",
      "         [-0.0052,  0.0129, -0.0064,  ..., -0.0098, -0.0053, -0.0100]],\n",
      "\n",
      "        [[-0.0078, -0.0322, -0.0389,  ...,  0.0049, -0.0173, -0.0157],\n",
      "         [ 0.0303,  0.0220,  0.0006,  ...,  0.0278,  0.0346,  0.0180]]])\n"
     ]
    }
   ],
   "source": [
    "from steves_utils.transforms import get_average_magnitude, get_average_power\n",
    "\n",
    "print(set([u for u,_ in val_original_source]))\n",
    "print(set([u for u,_ in val_original_target]))\n",
    "\n",
    "s_x, s_y, q_x, q_y, _ = next(iter(train_processed_source))\n",
    "print(s_x)\n",
    "\n",
    "# for ds in [\n",
    "#     train_processed_source,\n",
    "#     val_processed_source,\n",
    "#     test_processed_source,\n",
    "#     train_processed_target,\n",
    "#     val_processed_target,\n",
    "#     test_processed_target\n",
    "# ]:\n",
    "#     for s_x, s_y, q_x, q_y, _ in ds:\n",
    "#         for X in (s_x, q_x):\n",
    "#             for x in X:\n",
    "#                 assert np.isclose(get_average_magnitude(x.numpy()), 1.0)\n",
    "#                 assert np.isclose(get_average_power(x.numpy()), 1.0)\n",
    "                "
   ]
  },
  {
   "cell_type": "code",
   "execution_count": 21,
   "id": "bbdacba1",
   "metadata": {
    "execution": {
     "iopub.execute_input": "2022-03-07T08:34:25.776885Z",
     "iopub.status.busy": "2022-03-07T08:34:25.776480Z",
     "iopub.status.idle": "2022-03-07T08:34:25.830096Z",
     "shell.execute_reply": "2022-03-07T08:34:25.830325Z"
    },
    "papermill": {
     "duration": 0.071808,
     "end_time": "2022-03-07T08:34:25.830414",
     "exception": false,
     "start_time": "2022-03-07T08:34:25.758606",
     "status": "completed"
    },
    "tags": []
   },
   "outputs": [
    {
     "name": "stdout",
     "output_type": "stream",
     "text": [
      "(2, 256)\n"
     ]
    }
   ],
   "source": [
    "###################################\n",
    "# Build the model\n",
    "###################################\n",
    "model = Steves_Prototypical_Network(x_net, device=p.device, x_shape=(2,256))\n",
    "optimizer = Adam(params=model.parameters(), lr=p.lr)"
   ]
  },
  {
   "cell_type": "code",
   "execution_count": 22,
   "id": "22b39ac5",
   "metadata": {
    "execution": {
     "iopub.execute_input": "2022-03-07T08:34:25.865283Z",
     "iopub.status.busy": "2022-03-07T08:34:25.864876Z",
     "iopub.status.idle": "2022-03-07T08:37:21.785502Z",
     "shell.execute_reply": "2022-03-07T08:37:21.785217Z"
    },
    "papermill": {
     "duration": 175.938263,
     "end_time": "2022-03-07T08:37:21.785566",
     "exception": false,
     "start_time": "2022-03-07T08:34:25.847303",
     "status": "completed"
    },
    "tags": []
   },
   "outputs": [
    {
     "name": "stdout",
     "output_type": "stream",
     "text": [
      "epoch: 1, [batch: 1 / 1128], examples_per_second: 240.8236, train_label_loss: 2.0578, \n"
     ]
    },
    {
     "name": "stdout",
     "output_type": "stream",
     "text": [
      "epoch: 1, [batch: 113 / 1128], examples_per_second: 3217.8603, train_label_loss: 0.3772, \n"
     ]
    },
    {
     "name": "stdout",
     "output_type": "stream",
     "text": [
      "epoch: 1, [batch: 226 / 1128], examples_per_second: 3230.9300, train_label_loss: 0.9784, \n"
     ]
    },
    {
     "name": "stdout",
     "output_type": "stream",
     "text": [
      "epoch: 1, [batch: 339 / 1128], examples_per_second: 3231.6408, train_label_loss: 0.4954, \n"
     ]
    },
    {
     "name": "stdout",
     "output_type": "stream",
     "text": [
      "epoch: 1, [batch: 451 / 1128], examples_per_second: 3222.8482, train_label_loss: 0.3696, \n"
     ]
    },
    {
     "name": "stdout",
     "output_type": "stream",
     "text": [
      "epoch: 1, [batch: 564 / 1128], examples_per_second: 3246.6422, train_label_loss: 0.3615, \n"
     ]
    },
    {
     "name": "stdout",
     "output_type": "stream",
     "text": [
      "epoch: 1, [batch: 677 / 1128], examples_per_second: 3248.6997, train_label_loss: 0.1483, \n"
     ]
    },
    {
     "name": "stdout",
     "output_type": "stream",
     "text": [
      "epoch: 1, [batch: 789 / 1128], examples_per_second: 3231.5287, train_label_loss: 0.0993, \n"
     ]
    },
    {
     "name": "stdout",
     "output_type": "stream",
     "text": [
      "epoch: 1, [batch: 902 / 1128], examples_per_second: 3251.2205, train_label_loss: 0.4056, \n"
     ]
    },
    {
     "name": "stdout",
     "output_type": "stream",
     "text": [
      "epoch: 1, [batch: 1015 / 1128], examples_per_second: 3230.9908, train_label_loss: 0.2009, \n"
     ]
    },
    {
     "name": "stdout",
     "output_type": "stream",
     "text": [
      "=============================================================\n",
      "epoch: 1, source_val_acc_label: 0.9395, target_val_acc_label: 0.2602, source_val_label_loss: 0.2761, target_val_label_loss: 2.3225, \n",
      "=============================================================\n"
     ]
    },
    {
     "name": "stdout",
     "output_type": "stream",
     "text": [
      "New best\n"
     ]
    },
    {
     "name": "stdout",
     "output_type": "stream",
     "text": [
      "epoch: 2, [batch: 1 / 1128], examples_per_second: 33.1996, train_label_loss: 0.0183, \n"
     ]
    },
    {
     "name": "stdout",
     "output_type": "stream",
     "text": [
      "epoch: 2, [batch: 113 / 1128], examples_per_second: 3281.5610, train_label_loss: 0.4114, \n"
     ]
    },
    {
     "name": "stdout",
     "output_type": "stream",
     "text": [
      "epoch: 2, [batch: 226 / 1128], examples_per_second: 3281.0214, train_label_loss: 0.3494, \n"
     ]
    },
    {
     "name": "stdout",
     "output_type": "stream",
     "text": [
      "epoch: 2, [batch: 339 / 1128], examples_per_second: 3283.8185, train_label_loss: 0.1140, \n"
     ]
    },
    {
     "name": "stdout",
     "output_type": "stream",
     "text": [
      "epoch: 2, [batch: 451 / 1128], examples_per_second: 3253.9617, train_label_loss: 0.1744, \n"
     ]
    },
    {
     "name": "stdout",
     "output_type": "stream",
     "text": [
      "epoch: 2, [batch: 564 / 1128], examples_per_second: 3286.3257, train_label_loss: 0.2014, \n"
     ]
    },
    {
     "name": "stdout",
     "output_type": "stream",
     "text": [
      "epoch: 2, [batch: 677 / 1128], examples_per_second: 3314.1664, train_label_loss: 0.2703, \n"
     ]
    },
    {
     "name": "stdout",
     "output_type": "stream",
     "text": [
      "epoch: 2, [batch: 789 / 1128], examples_per_second: 3278.9201, train_label_loss: 0.4047, \n"
     ]
    },
    {
     "name": "stdout",
     "output_type": "stream",
     "text": [
      "epoch: 2, [batch: 902 / 1128], examples_per_second: 3282.1950, train_label_loss: 0.0726, \n"
     ]
    },
    {
     "name": "stdout",
     "output_type": "stream",
     "text": [
      "epoch: 2, [batch: 1015 / 1128], examples_per_second: 3294.1836, train_label_loss: 0.0293, \n"
     ]
    },
    {
     "name": "stdout",
     "output_type": "stream",
     "text": [
      "=============================================================\n",
      "epoch: 2, source_val_acc_label: 0.9472, target_val_acc_label: 0.1652, source_val_label_loss: 0.2611, target_val_label_loss: 2.5189, \n",
      "=============================================================\n"
     ]
    },
    {
     "name": "stdout",
     "output_type": "stream",
     "text": [
      "epoch: 3, [batch: 1 / 1131], examples_per_second: 33.6105, train_label_loss: 0.0560, \n"
     ]
    },
    {
     "name": "stdout",
     "output_type": "stream",
     "text": [
      "epoch: 3, [batch: 114 / 1131], examples_per_second: 3287.5521, train_label_loss: 0.1807, \n"
     ]
    },
    {
     "name": "stdout",
     "output_type": "stream",
     "text": [
      "epoch: 3, [batch: 227 / 1131], examples_per_second: 3272.4701, train_label_loss: 0.0438, \n"
     ]
    },
    {
     "name": "stdout",
     "output_type": "stream",
     "text": [
      "epoch: 3, [batch: 340 / 1131], examples_per_second: 3288.7710, train_label_loss: 0.0129, \n"
     ]
    },
    {
     "name": "stdout",
     "output_type": "stream",
     "text": [
      "epoch: 3, [batch: 453 / 1131], examples_per_second: 3268.9099, train_label_loss: 0.0082, \n"
     ]
    },
    {
     "name": "stdout",
     "output_type": "stream",
     "text": [
      "epoch: 3, [batch: 566 / 1131], examples_per_second: 3273.5357, train_label_loss: 0.0137, \n"
     ]
    },
    {
     "name": "stdout",
     "output_type": "stream",
     "text": [
      "epoch: 3, [batch: 679 / 1131], examples_per_second: 3288.8671, train_label_loss: 0.5641, \n"
     ]
    },
    {
     "name": "stdout",
     "output_type": "stream",
     "text": [
      "epoch: 3, [batch: 792 / 1131], examples_per_second: 3282.9524, train_label_loss: 0.2676, \n"
     ]
    },
    {
     "name": "stdout",
     "output_type": "stream",
     "text": [
      "epoch: 3, [batch: 905 / 1131], examples_per_second: 3295.1277, train_label_loss: 0.2918, \n"
     ]
    },
    {
     "name": "stdout",
     "output_type": "stream",
     "text": [
      "epoch: 3, [batch: 1018 / 1131], examples_per_second: 3298.4862, train_label_loss: 0.0064, \n"
     ]
    },
    {
     "name": "stdout",
     "output_type": "stream",
     "text": [
      "=============================================================\n",
      "epoch: 3, source_val_acc_label: 0.9563, target_val_acc_label: 0.2135, source_val_label_loss: 0.2130, target_val_label_loss: 2.3712, \n",
      "=============================================================\n"
     ]
    },
    {
     "name": "stdout",
     "output_type": "stream",
     "text": [
      "epoch: 4, [batch: 1 / 1128], examples_per_second: 33.5036, train_label_loss: 0.0079, \n"
     ]
    },
    {
     "name": "stdout",
     "output_type": "stream",
     "text": [
      "epoch: 4, [batch: 113 / 1128], examples_per_second: 3282.4419, train_label_loss: 0.1266, \n"
     ]
    },
    {
     "name": "stdout",
     "output_type": "stream",
     "text": [
      "epoch: 4, [batch: 226 / 1128], examples_per_second: 3287.5864, train_label_loss: 0.0353, \n"
     ]
    },
    {
     "name": "stdout",
     "output_type": "stream",
     "text": [
      "epoch: 4, [batch: 339 / 1128], examples_per_second: 3287.9000, train_label_loss: 0.0757, \n"
     ]
    },
    {
     "name": "stdout",
     "output_type": "stream",
     "text": [
      "epoch: 4, [batch: 451 / 1128], examples_per_second: 3267.1398, train_label_loss: 0.4562, \n"
     ]
    },
    {
     "name": "stdout",
     "output_type": "stream",
     "text": [
      "epoch: 4, [batch: 564 / 1128], examples_per_second: 3300.8116, train_label_loss: 0.2285, \n"
     ]
    },
    {
     "name": "stdout",
     "output_type": "stream",
     "text": [
      "epoch: 4, [batch: 677 / 1128], examples_per_second: 3289.6581, train_label_loss: 0.5964, \n"
     ]
    },
    {
     "name": "stdout",
     "output_type": "stream",
     "text": [
      "epoch: 4, [batch: 789 / 1128], examples_per_second: 3272.1613, train_label_loss: 0.0151, \n"
     ]
    },
    {
     "name": "stdout",
     "output_type": "stream",
     "text": [
      "epoch: 4, [batch: 902 / 1128], examples_per_second: 3275.0798, train_label_loss: 0.0099, \n"
     ]
    },
    {
     "name": "stdout",
     "output_type": "stream",
     "text": [
      "epoch: 4, [batch: 1015 / 1128], examples_per_second: 3278.6454, train_label_loss: 0.1460, \n"
     ]
    },
    {
     "name": "stdout",
     "output_type": "stream",
     "text": [
      "=============================================================\n",
      "epoch: 4, source_val_acc_label: 0.9594, target_val_acc_label: 0.1681, source_val_label_loss: 0.1772, target_val_label_loss: 2.5600, \n",
      "=============================================================\n"
     ]
    },
    {
     "name": "stdout",
     "output_type": "stream",
     "text": [
      "epoch: 5, [batch: 1 / 1128], examples_per_second: 33.4135, train_label_loss: 0.0368, \n"
     ]
    },
    {
     "name": "stdout",
     "output_type": "stream",
     "text": [
      "epoch: 5, [batch: 113 / 1128], examples_per_second: 3284.7052, train_label_loss: 0.1859, \n"
     ]
    },
    {
     "name": "stdout",
     "output_type": "stream",
     "text": [
      "epoch: 5, [batch: 226 / 1128], examples_per_second: 3251.6704, train_label_loss: 0.1434, \n"
     ]
    },
    {
     "name": "stdout",
     "output_type": "stream",
     "text": [
      "epoch: 5, [batch: 339 / 1128], examples_per_second: 3255.2677, train_label_loss: 0.2096, \n"
     ]
    },
    {
     "name": "stdout",
     "output_type": "stream",
     "text": [
      "epoch: 5, [batch: 451 / 1128], examples_per_second: 3237.5179, train_label_loss: 0.2687, \n"
     ]
    },
    {
     "name": "stdout",
     "output_type": "stream",
     "text": [
      "epoch: 5, [batch: 564 / 1128], examples_per_second: 3241.9469, train_label_loss: 0.0434, \n"
     ]
    },
    {
     "name": "stdout",
     "output_type": "stream",
     "text": [
      "epoch: 5, [batch: 677 / 1128], examples_per_second: 3277.5554, train_label_loss: 0.2744, \n"
     ]
    },
    {
     "name": "stdout",
     "output_type": "stream",
     "text": [
      "epoch: 5, [batch: 789 / 1128], examples_per_second: 3297.4090, train_label_loss: 0.0108, \n"
     ]
    },
    {
     "name": "stdout",
     "output_type": "stream",
     "text": [
      "epoch: 5, [batch: 902 / 1128], examples_per_second: 3259.7912, train_label_loss: 0.1381, \n"
     ]
    },
    {
     "name": "stdout",
     "output_type": "stream",
     "text": [
      "epoch: 5, [batch: 1015 / 1128], examples_per_second: 3231.1635, train_label_loss: 0.5101, \n"
     ]
    },
    {
     "name": "stdout",
     "output_type": "stream",
     "text": [
      "=============================================================\n",
      "epoch: 5, source_val_acc_label: 0.9605, target_val_acc_label: 0.1535, source_val_label_loss: 0.1814, target_val_label_loss: 2.7382, \n",
      "=============================================================\n"
     ]
    },
    {
     "name": "stdout",
     "output_type": "stream",
     "text": [
      "Patience (3) exhausted\n"
     ]
    }
   ],
   "source": [
    "###################################\n",
    "# train\n",
    "###################################\n",
    "jig = PTN_Train_Eval_Test_Jig(model, p.BEST_MODEL_PATH, p.device)\n",
    "\n",
    "jig.train(\n",
    "    train_iterable=datasets.source.processed.train,\n",
    "    source_val_iterable=datasets.source.processed.val,\n",
    "    target_val_iterable=datasets.target.processed.val,\n",
    "    num_epochs=p.n_epoch,\n",
    "    num_logs_per_epoch=p.NUM_LOGS_PER_EPOCH,\n",
    "    patience=p.patience,\n",
    "    optimizer=optimizer,\n",
    "    criteria_for_best=p.criteria_for_best,\n",
    ")"
   ]
  },
  {
   "cell_type": "code",
   "execution_count": 23,
   "id": "31e8fabf",
   "metadata": {
    "execution": {
     "iopub.execute_input": "2022-03-07T08:37:21.840904Z",
     "iopub.status.busy": "2022-03-07T08:37:21.840504Z",
     "iopub.status.idle": "2022-03-07T08:37:21.853183Z",
     "shell.execute_reply": "2022-03-07T08:37:21.852927Z"
    },
    "papermill": {
     "duration": 0.040387,
     "end_time": "2022-03-07T08:37:21.853249",
     "exception": false,
     "start_time": "2022-03-07T08:37:21.812862",
     "status": "completed"
    },
    "tags": []
   },
   "outputs": [],
   "source": [
    "total_experiment_time_secs = time.time() - start_time_secs"
   ]
  },
  {
   "cell_type": "code",
   "execution_count": 24,
   "id": "87b9595b",
   "metadata": {
    "execution": {
     "iopub.execute_input": "2022-03-07T08:37:21.907843Z",
     "iopub.status.busy": "2022-03-07T08:37:21.907417Z",
     "iopub.status.idle": "2022-03-07T08:37:33.154653Z",
     "shell.execute_reply": "2022-03-07T08:37:33.155106Z"
    },
    "papermill": {
     "duration": 11.276256,
     "end_time": "2022-03-07T08:37:33.155246",
     "exception": false,
     "start_time": "2022-03-07T08:37:21.878990",
     "status": "completed"
    },
    "tags": []
   },
   "outputs": [],
   "source": [
    "###################################\n",
    "# Evaluate the model\n",
    "###################################\n",
    "source_test_label_accuracy, source_test_label_loss = jig.test(datasets.source.processed.test)\n",
    "target_test_label_accuracy, target_test_label_loss = jig.test(datasets.target.processed.test)\n",
    "\n",
    "source_val_label_accuracy, source_val_label_loss = jig.test(datasets.source.processed.val)\n",
    "target_val_label_accuracy, target_val_label_loss = jig.test(datasets.target.processed.val)\n",
    "\n",
    "history = jig.get_history()\n",
    "\n",
    "total_epochs_trained = len(history[\"epoch_indices\"])\n",
    "\n",
    "val_dl = Iterable_Aggregator((datasets.source.original.val,datasets.target.original.val))\n",
    "\n",
    "confusion = ptn_confusion_by_domain_over_dataloader(model, p.device, val_dl)\n",
    "per_domain_accuracy = per_domain_accuracy_from_confusion(confusion)\n",
    "\n",
    "# Add a key to per_domain_accuracy for if it was a source domain\n",
    "for domain, accuracy in per_domain_accuracy.items():\n",
    "    per_domain_accuracy[domain] = {\n",
    "        \"accuracy\": accuracy,\n",
    "        \"source?\": domain in p.domains_source\n",
    "    }\n",
    "\n",
    "# Do an independent accuracy assesment JUST TO BE SURE!\n",
    "# _source_test_label_accuracy = independent_accuracy_assesment(model, datasets.source.processed.test, p.device)\n",
    "# _target_test_label_accuracy = independent_accuracy_assesment(model, datasets.target.processed.test, p.device)\n",
    "# _source_val_label_accuracy = independent_accuracy_assesment(model, datasets.source.processed.val, p.device)\n",
    "# _target_val_label_accuracy = independent_accuracy_assesment(model, datasets.target.processed.val, p.device)\n",
    "\n",
    "# assert(_source_test_label_accuracy == source_test_label_accuracy)\n",
    "# assert(_target_test_label_accuracy == target_test_label_accuracy)\n",
    "# assert(_source_val_label_accuracy == source_val_label_accuracy)\n",
    "# assert(_target_val_label_accuracy == target_val_label_accuracy)\n",
    "\n",
    "experiment = {\n",
    "    \"experiment_name\": p.experiment_name,\n",
    "    \"parameters\": dict(p),\n",
    "    \"results\": {\n",
    "        \"source_test_label_accuracy\": source_test_label_accuracy,\n",
    "        \"source_test_label_loss\": source_test_label_loss,\n",
    "        \"target_test_label_accuracy\": target_test_label_accuracy,\n",
    "        \"target_test_label_loss\": target_test_label_loss,\n",
    "        \"source_val_label_accuracy\": source_val_label_accuracy,\n",
    "        \"source_val_label_loss\": source_val_label_loss,\n",
    "        \"target_val_label_accuracy\": target_val_label_accuracy,\n",
    "        \"target_val_label_loss\": target_val_label_loss,\n",
    "        \"total_epochs_trained\": total_epochs_trained,\n",
    "        \"total_experiment_time_secs\": total_experiment_time_secs,\n",
    "        \"confusion\": confusion,\n",
    "        \"per_domain_accuracy\": per_domain_accuracy,\n",
    "    },\n",
    "    \"history\": history,\n",
    "    \"dataset_metrics\": get_dataset_metrics(datasets, \"ptn\"),\n",
    "}"
   ]
  },
  {
   "cell_type": "code",
   "execution_count": 25,
   "id": "54a21829",
   "metadata": {
    "execution": {
     "iopub.execute_input": "2022-03-07T08:37:33.211657Z",
     "iopub.status.busy": "2022-03-07T08:37:33.211312Z",
     "iopub.status.idle": "2022-03-07T08:37:33.393488Z",
     "shell.execute_reply": "2022-03-07T08:37:33.392982Z"
    },
    "papermill": {
     "duration": 0.210451,
     "end_time": "2022-03-07T08:37:33.393597",
     "exception": false,
     "start_time": "2022-03-07T08:37:33.183146",
     "status": "completed"
    },
    "tags": []
   },
   "outputs": [
    {
     "data": {
      "image/png": "[encoded data removed]",
      "text/plain": [
       "<Figure size 1080x504 with 1 Axes>"
      ]
     },
     "metadata": {
      "needs_background": "light"
     },
     "output_type": "display_data"
    }
   ],
   "source": [
    "ax = get_loss_curve(experiment)\n",
    "plt.show()"
   ]
  },
  {
   "cell_type": "code",
   "execution_count": 26,
   "id": "fd8a0f60",
   "metadata": {
    "execution": {
     "iopub.execute_input": "2022-03-07T08:37:33.451944Z",
     "iopub.status.busy": "2022-03-07T08:37:33.451291Z",
     "iopub.status.idle": "2022-03-07T08:37:33.628269Z",
     "shell.execute_reply": "2022-03-07T08:37:33.628487Z"
    },
    "papermill": {
     "duration": 0.204699,
     "end_time": "2022-03-07T08:37:33.628565",
     "exception": false,
     "start_time": "2022-03-07T08:37:33.423866",
     "status": "completed"
    },
    "tags": []
   },
   "outputs": [
    {
     "data": {
      "text/plain": [
       "<matplotlib.axes._subplots.AxesSubplot at 0x7f39ac923f40>"
      ]
     },
     "execution_count": 26,
     "metadata": {},
     "output_type": "execute_result"
    },
    {
     "data": {
      "image/png": "[encoded data removed]",
      "text/plain": [
       "<Figure size 1080x504 with 1 Axes>"
      ]
     },
     "metadata": {
      "needs_background": "light"
     },
     "output_type": "display_data"
    }
   ],
   "source": [
    "get_results_table(experiment)"
   ]
  },
  {
   "cell_type": "code",
   "execution_count": 27,
   "id": "cf8dc689",
   "metadata": {
    "execution": {
     "iopub.execute_input": "2022-03-07T08:37:33.684711Z",
     "iopub.status.busy": "2022-03-07T08:37:33.684456Z",
     "iopub.status.idle": "2022-03-07T08:37:33.858257Z",
     "shell.execute_reply": "2022-03-07T08:37:33.857753Z"
    },
    "papermill": {
     "duration": 0.202345,
     "end_time": "2022-03-07T08:37:33.858367",
     "exception": false,
     "start_time": "2022-03-07T08:37:33.656022",
     "status": "completed"
    },
    "tags": []
   },
   "outputs": [
    {
     "data": {
      "text/plain": [
       "<matplotlib.axes._subplots.AxesSubplot at 0x7f39ac9e0160>"
      ]
     },
     "execution_count": 27,
     "metadata": {},
     "output_type": "execute_result"
    },
    {
     "data": {
      "image/png": "[encoded data removed]",
      "text/plain": [
       "<Figure size 1080x504 with 1 Axes>"
      ]
     },
     "metadata": {
      "needs_background": "light"
     },
     "output_type": "display_data"
    }
   ],
   "source": [
    "get_domain_accuracies(experiment)"
   ]
  },
  {
   "cell_type": "code",
   "execution_count": 28,
   "id": "a74ae082",
   "metadata": {
    "execution": {
     "iopub.execute_input": "2022-03-07T08:37:33.920540Z",
     "iopub.status.busy": "2022-03-07T08:37:33.920286Z",
     "iopub.status.idle": "2022-03-07T08:37:33.931498Z",
     "shell.execute_reply": "2022-03-07T08:37:33.931002Z"
    },
    "papermill": {
     "duration": 0.040631,
     "end_time": "2022-03-07T08:37:33.931602",
     "exception": false,
     "start_time": "2022-03-07T08:37:33.890971",
     "status": "completed"
    },
    "tags": []
   },
   "outputs": [
    {
     "name": "stdout",
     "output_type": "stream",
     "text": [
      "Source Test Label Accuracy: 0.9355263157894737 Target Test Label Accuracy: 0.24269005847953215\n",
      "Source Val Label Accuracy: 0.9394736842105263 Target Val Label Accuracy: 0.260233918128655\n"
     ]
    }
   ],
   "source": [
    "print(\"Source Test Label Accuracy:\", experiment[\"results\"][\"source_test_label_accuracy\"], \"Target Test Label Accuracy:\", experiment[\"results\"][\"target_test_label_accuracy\"])\n",
    "print(\"Source Val Label Accuracy:\", experiment[\"results\"][\"source_val_label_accuracy\"], \"Target Val Label Accuracy:\", experiment[\"results\"][\"target_val_label_accuracy\"])"
   ]
  },
  {
   "cell_type": "code",
   "execution_count": 29,
   "id": "dacca602",
   "metadata": {
    "execution": {
     "iopub.execute_input": "2022-03-07T08:37:33.990981Z",
     "iopub.status.busy": "2022-03-07T08:37:33.990732Z",
     "iopub.status.idle": "2022-03-07T08:37:34.001746Z",
     "shell.execute_reply": "2022-03-07T08:37:34.001367Z"
    },
    "papermill": {
     "duration": 0.040556,
     "end_time": "2022-03-07T08:37:34.001825",
     "exception": false,
     "start_time": "2022-03-07T08:37:33.961269",
     "status": "completed"
    },
    "tags": [
     "experiment_json"
    ]
   },
   "outputs": [
    {
     "data": {
      "text/plain": [
       "'{\"experiment_name\": \"tl_1_wisig-metehan\", \"parameters\": {\"experiment_name\": \"tl_1_wisig-metehan\", \"device\": \"cuda\", \"lr\": 0.001, \"seed\": 1337, \"dataset_seed\": 1337, \"n_shot\": 3, \"n_query\": 2, \"train_k_factor\": 3, \"val_k_factor\": 2, \"test_k_factor\": 2, \"torch_default_dtype\": \"torch.float32\", \"n_epoch\": 50, \"patience\": 3, \"criteria_for_best\": \"target_loss\", \"x_net\": [{\"class\": \"nnReshape\", \"kargs\": {\"shape\": [-1, 1, 2, 256]}}, {\"class\": \"Conv2d\", \"kargs\": {\"in_channels\": 1, \"out_channels\": 256, \"kernel_size\": [1, 7], \"bias\": false, \"padding\": [0, 3]}}, {\"class\": \"ReLU\", \"kargs\": {\"inplace\": true}}, {\"class\": \"BatchNorm2d\", \"kargs\": {\"num_features\": 256}}, {\"class\": \"Conv2d\", \"kargs\": {\"in_channels\": 256, \"out_channels\": 80, \"kernel_size\": [2, 7], \"bias\": true, \"padding\": [0, 3]}}, {\"class\": \"ReLU\", \"kargs\": {\"inplace\": true}}, {\"class\": \"BatchNorm2d\", \"kargs\": {\"num_features\": 80}}, {\"class\": \"Flatten\", \"kargs\": {}}, {\"class\": \"Linear\", \"kargs\": {\"in_features\": 20480, \"out_features\": 256}}, {\"class\": \"ReLU\", \"kargs\": {\"inplace\": true}}, {\"class\": \"BatchNorm1d\", \"kargs\": {\"num_features\": 256}}, {\"class\": \"Linear\", \"kargs\": {\"in_features\": 256, \"out_features\": 256}}], \"NUM_LOGS_PER_EPOCH\": 10, \"BEST_MODEL_PATH\": \"./best_model.pth\", \"n_way\": 19, \"datasets\": [{\"labels\": [\"1-10\", \"1-12\", \"1-14\", \"1-16\", \"1-18\", \"1-19\", \"1-8\", \"10-11\", \"10-17\", \"10-4\", \"10-7\", \"11-1\", \"11-10\", \"11-19\", \"11-20\", \"11-4\", \"11-7\", \"12-19\", \"12-20\", \"12-7\", \"13-14\", \"13-18\", \"13-19\", \"13-20\", \"13-3\", \"13-7\", \"14-10\", \"14-11\", \"14-12\", \"14-13\", \"14-14\", \"14-19\", \"14-20\", \"14-7\", \"14-8\", \"14-9\", \"15-1\", \"15-19\", \"15-6\", \"16-1\", \"16-16\", \"16-19\", \"16-20\", \"17-10\", \"17-11\", \"18-1\", \"18-10\", \"18-11\", \"18-12\", \"18-13\", \"18-14\", \"18-15\", \"18-16\", \"18-17\", \"18-19\", \"18-2\", \"18-20\", \"18-4\", \"18-5\", \"18-7\", \"18-8\", \"18-9\", \"19-1\", \"19-10\", \"19-11\", \"19-12\", \"19-13\", \"19-14\", \"19-15\", \"19-19\", \"19-2\", \"19-20\", \"19-3\", \"19-4\", \"19-6\", \"19-7\", \"19-8\", \"19-9\", \"2-1\", \"2-13\", \"2-15\", \"2-3\", \"2-4\", \"2-5\", \"2-6\", \"2-7\", \"2-8\", \"20-1\", \"20-12\", \"20-14\", \"20-15\", \"20-16\", \"20-18\", \"20-19\", \"20-20\", \"20-3\", \"20-4\", \"20-5\", \"20-7\", \"20-8\", \"3-1\", \"3-13\", \"3-18\", \"3-2\", \"3-8\", \"4-1\", \"4-10\", \"4-11\", \"5-1\", \"5-5\", \"6-1\", \"6-15\", \"6-6\", \"7-10\", \"7-11\", \"7-12\", \"7-13\", \"7-14\", \"7-7\", \"7-8\", \"7-9\", \"8-1\", \"8-13\", \"8-14\", \"8-18\", \"8-20\", \"8-3\", \"8-8\", \"9-1\", \"9-7\"], \"domains\": [1, 2, 3, 4], \"num_examples_per_domain_per_label\": 100, \"pickle_path\": \"/mnt/wd500GB/CSC500/csc500-main/datasets/wisig.node3-19.stratified_ds.2022A.pkl\", \"source_or_target_dataset\": \"source\", \"x_transforms\": [], \"episode_transforms\": [], \"domain_prefix\": \"Wisig_\"}, {\"labels\": [0, 1, 2, 3, 4, 5, 6, 7, 8, 9, 10, 11, 12, 13, 14, 15, 16, 17, 18], \"domains\": [0, 1, 2], \"num_examples_per_domain_per_label\": 100, \"pickle_path\": \"/mnt/wd500GB/CSC500/csc500-main/datasets/metehan.stratified_ds.2022A.pkl\", \"source_or_target_dataset\": \"target\", \"x_transforms\": [], \"episode_transforms\": [], \"domain_prefix\": \"Metehan_\"}], \"domains_source\": [\"Wisig_1\", \"Wisig_2\", \"Wisig_3\", \"Wisig_4\"], \"domains_target\": [\"Metehan_0\", \"Metehan_1\", \"Metehan_2\"]}, \"results\": {\"source_test_label_accuracy\": 0.9355263157894737, \"source_test_label_loss\": 0.3026200234889984, \"target_test_label_accuracy\": 0.24269005847953215, \"target_test_label_loss\": 2.305299758911133, \"source_val_label_accuracy\": 0.9394736842105263, \"source_val_label_loss\": 0.2760511636734009, \"target_val_label_accuracy\": 0.260233918128655, \"target_val_label_loss\": 2.3225250244140625, \"total_epochs_trained\": 5, \"total_experiment_time_secs\": 179.22354125976562, \"confusion\": {\"Wisig_3\": {\"45\": {\"45\": 12}, \"43\": {\"43\": 12}, \"63\": {\"63\": 10, \"33\": 1, \"29\": 1}, \"55\": {\"55\": 12}, \"24\": {\"24\": 9, \"70\": 1, \"36\": 1, \"45\": 1}, \"21\": {\"21\": 12}, \"34\": {\"35\": 2, \"34\": 10}, \"14\": {\"14\": 11, \"61\": 1}, \"111\": {\"111\": 10}, \"72\": {\"72\": 12}, \"35\": {\"35\": 12}, \"116\": {\"116\": 12}, \"82\": {\"82\": 11, \"43\": 1}, \"7\": {\"7\": 12}, \"20\": {\"20\": 12}, \"62\": {\"62\": 12}, \"104\": {\"104\": 12}, \"98\": {\"98\": 12}, \"106\": {\"106\": 11, \"15\": 1}, \"118\": {\"118\": 12}, \"32\": {\"128\": 2, \"32\": 10}, \"59\": {\"59\": 11, \"25\": 1}, \"128\": {\"128\": 12}, \"18\": {\"18\": 12}, \"31\": {\"31\": 12}, \"39\": {\"39\": 12}, \"91\": {\"91\": 12}, \"48\": {\"48\": 9, \"58\": 1, \"77\": 1, \"76\": 1}, \"61\": {\"61\": 12}, \"129\": {\"129\": 12}, \"69\": {\"69\": 12}, \"30\": {\"30\": 12}, \"29\": {\"29\": 12}, \"66\": {\"66\": 12}, \"38\": {\"38\": 12}, \"81\": {\"81\": 12}, \"25\": {\"25\": 10, \"117\": 1, \"61\": 1}, \"122\": {\"122\": 10, \"78\": 1, \"126\": 1}, \"6\": {\"6\": 12}, \"2\": {\"2\": 10, \"117\": 1, \"102\": 1}, \"33\": {\"33\": 12}, \"37\": {\"37\": 11, \"41\": 1}, \"88\": {\"88\": 12}, \"73\": {\"73\": 10}, \"101\": {\"101\": 12}, \"13\": {\"13\": 10, \"122\": 1, \"41\": 1}, \"9\": {\"9\": 12}, \"40\": {\"40\": 12}, \"22\": {\"22\": 11, \"4\": 1}, \"67\": {\"67\": 12}, \"102\": {\"102\": 12}, \"80\": {\"80\": 12}, \"114\": {\"114\": 12}, \"41\": {\"41\": 12}, \"19\": {\"19\": 12}, \"84\": {\"84\": 11, \"109\": 1}, \"107\": {\"107\": 12}, \"109\": {\"109\": 12}, \"124\": {\"124\": 12}, \"44\": {\"44\": 11, \"121\": 1}, \"103\": {\"103\": 12}, \"64\": {\"64\": 12}, \"75\": {\"75\": 12}, \"93\": {\"93\": 12}, \"10\": {\"10\": 10}, \"11\": {\"11\": 12}, \"47\": {\"47\": 12}, \"115\": {\"115\": 12}, \"1\": {\"1\": 12}, \"85\": {\"85\": 11, \"42\": 1}, \"89\": {\"89\": 12}, \"83\": {\"83\": 12}, \"60\": {\"60\": 12}, \"53\": {\"53\": 11, \"79\": 1}, \"120\": {\"120\": 12}, \"77\": {\"77\": 12}, \"92\": {\"92\": 12}, \"12\": {\"12\": 12}, \"76\": {\"76\": 12}, \"87\": {\"87\": 8, \"11\": 2}, \"105\": {\"105\": 12}, \"112\": {\"112\": 8, \"20\": 1, \"53\": 2, \"42\": 1}, \"123\": {\"123\": 12}, \"8\": {\"8\": 10}, \"126\": {\"126\": 12}, \"52\": {\"52\": 10}, \"121\": {\"121\": 12}, \"68\": {\"68\": 12}, \"74\": {\"74\": 10, \"57\": 1, \"38\": 1}, \"57\": {\"57\": 12}, \"3\": {\"3\": 11, \"43\": 1}, \"42\": {\"42\": 10, \"118\": 1, \"112\": 1}, \"95\": {\"95\": 12}, \"17\": {\"117\": 2, \"114\": 2, \"17\": 7, \"102\": 1}, \"4\": {\"4\": 11, \"39\": 1}, \"15\": {\"15\": 12}, \"16\": {\"16\": 10}, \"46\": {\"46\": 11, \"5\": 1}, \"117\": {\"117\": 11, \"100\": 1}, \"96\": {\"96\": 12}, \"70\": {\"70\": 11, \"11\": 1}, \"27\": {\"27\": 11, \"36\": 1}, \"54\": {\"54\": 12}, \"125\": {\"125\": 12}, \"51\": {\"51\": 12}, \"90\": {\"90\": 12}, \"50\": {\"50\": 10}, \"23\": {\"30\": 1, \"23\": 5, \"122\": 1, \"110\": 2, \"96\": 1}, \"110\": {\"110\": 12}, \"100\": {\"100\": 9, \"48\": 1}, \"108\": {\"108\": 12}, \"86\": {\"86\": 12}, \"78\": {\"78\": 12}, \"127\": {\"127\": 8}, \"94\": {\"94\": 12}, \"56\": {\"56\": 12}, \"119\": {\"119\": 12}, \"0\": {\"0\": 12}, \"28\": {\"28\": 12}, \"26\": {\"26\": 10}, \"71\": {\"71\": 8, \"127\": 2, \"3\": 2}, \"58\": {\"58\": 12}, \"5\": {\"5\": 10}, \"79\": {\"79\": 10}, \"113\": {\"113\": 12}, \"99\": {\"99\": 12}, \"97\": {\"97\": 8}, \"49\": {\"49\": 10}, \"65\": {\"65\": 10}, \"36\": {\"36\": 10}}, \"Wisig_1\": {\"106\": {\"106\": 12}, \"45\": {\"45\": 9, \"104\": 1, \"119\": 1, \"46\": 1}, \"98\": {\"98\": 12}, \"5\": {\"5\": 12}, \"96\": {\"96\": 12}, \"94\": {\"94\": 7, \"70\": 1}, \"4\": {\"4\": 10, \"17\": 1, \"30\": 1}, \"42\": {\"42\": 10, \"25\": 1, \"64\": 1}, \"124\": {\"124\": 9, \"45\": 1}, \"85\": {\"85\": 12}, \"116\": {\"116\": 10, \"22\": 2}, \"39\": {\"39\": 12}, \"62\": {\"62\": 12}, \"60\": {\"60\": 12}, \"104\": {\"104\": 10}, \"2\": {\"2\": 5, \"45\": 1, \"115\": 1, \"119\": 2, \"19\": 2, \"17\": 1}, \"12\": {\"12\": 10, \"108\": 1, \"88\": 1}, \"119\": {\"119\": 12}, \"80\": {\"80\": 11, \"11\": 1}, \"65\": {\"65\": 9, \"86\": 1, \"128\": 1, \"116\": 1}, \"113\": {\"113\": 12}, \"22\": {\"22\": 12}, \"32\": {\"32\": 12}, \"117\": {\"117\": 12}, \"0\": {\"0\": 12}, \"44\": {\"44\": 12}, \"83\": {\"83\": 8, \"4\": 1, \"45\": 1, \"54\": 1, \"17\": 1}, \"118\": {\"118\": 12}, \"37\": {\"37\": 10, \"30\": 1, \"101\": 1}, \"36\": {\"36\": 12}, \"72\": {\"72\": 12}, \"27\": {\"27\": 11, \"97\": 1}, \"123\": {\"123\": 12}, \"71\": {\"71\": 12}, \"28\": {\"65\": 1, \"28\": 9}, \"21\": {\"21\": 12}, \"74\": {\"74\": 11, \"35\": 1}, \"15\": {\"15\": 10}, \"53\": {\"53\": 12}, \"48\": {\"48\": 12}, \"57\": {\"57\": 12}, \"88\": {\"88\": 12}, \"126\": {\"126\": 12}, \"69\": {\"69\": 12}, \"121\": {\"121\": 12}, \"49\": {\"49\": 9, \"52\": 1, \"31\": 1, \"53\": 1}, \"59\": {\"121\": 1, \"59\": 9, \"76\": 1, \"95\": 1}, \"97\": {\"97\": 12}, \"90\": {\"90\": 12}, \"9\": {\"9\": 8, \"47\": 2, \"99\": 2}, \"13\": {\"13\": 12}, \"8\": {\"8\": 12}, \"89\": {\"89\": 10, \"104\": 2}, \"47\": {\"47\": 12}, \"125\": {\"125\": 10}, \"58\": {\"58\": 12}, \"17\": {\"17\": 12}, \"29\": {\"29\": 12}, \"35\": {\"35\": 12}, \"3\": {\"3\": 9, \"52\": 1, \"84\": 2}, \"77\": {\"77\": 12}, \"56\": {\"56\": 11, \"75\": 1}, \"109\": {\"109\": 10, \"70\": 2}, \"114\": {\"114\": 12}, \"16\": {\"16\": 10, \"122\": 1, \"91\": 1}, \"112\": {\"112\": 12}, \"105\": {\"105\": 12}, \"84\": {\"84\": 12}, \"127\": {\"127\": 12}, \"70\": {\"70\": 11, \"109\": 1}, \"52\": {\"52\": 12}, \"31\": {\"31\": 12}, \"43\": {\"43\": 12}, \"75\": {\"75\": 11, \"127\": 1}, \"40\": {\"40\": 12}, \"129\": {\"129\": 12}, \"73\": {\"73\": 12}, \"93\": {\"93\": 10}, \"20\": {\"20\": 12}, \"115\": {\"115\": 12}, \"24\": {\"24\": 12}, \"34\": {\"49\": 1, \"34\": 11}, \"78\": {\"78\": 8, \"11\": 1, \"93\": 2, \"91\": 1}, \"41\": {\"41\": 12}, \"30\": {\"30\": 12}, \"95\": {\"95\": 12}, \"19\": {\"19\": 12}, \"76\": {\"76\": 12}, \"67\": {\"67\": 10, \"109\": 1, \"87\": 1}, \"23\": {\"23\": 11, \"30\": 1}, \"99\": {\"99\": 12}, \"66\": {\"66\": 7, \"29\": 1}, \"18\": {\"18\": 12}, \"107\": {\"107\": 12}, \"108\": {\"108\": 12}, \"102\": {\"102\": 12}, \"54\": {\"54\": 11, \"128\": 1}, \"51\": {\"51\": 12}, \"79\": {\"79\": 12}, \"61\": {\"61\": 12}, \"11\": {\"11\": 12}, \"82\": {\"82\": 12}, \"92\": {\"92\": 12}, \"86\": {\"86\": 12}, \"33\": {\"33\": 12}, \"10\": {\"10\": 10, \"122\": 2}, \"110\": {\"110\": 12}, \"14\": {\"14\": 12}, \"120\": {\"120\": 12}, \"46\": {\"46\": 8, \"91\": 1, \"124\": 1, \"81\": 1, \"26\": 1}, \"1\": {\"1\": 10}, \"122\": {\"122\": 12}, \"25\": {\"25\": 12}, \"128\": {\"128\": 11, \"19\": 1}, \"100\": {\"100\": 12}, \"91\": {\"91\": 11, \"68\": 1}, \"87\": {\"87\": 8, \"43\": 2}, \"38\": {\"38\": 12}, \"68\": {\"68\": 10}, \"50\": {\"50\": 11, \"39\": 1}, \"55\": {\"55\": 10}, \"81\": {\"81\": 12}, \"101\": {\"101\": 12}, \"7\": {\"7\": 10}, \"26\": {\"26\": 8}, \"64\": {\"64\": 10}, \"63\": {\"63\": 12}, \"6\": {\"6\": 11, \"58\": 1}, \"111\": {\"111\": 12}, \"103\": {\"103\": 6, \"81\": 1, \"47\": 1}}, \"Wisig_2\": {\"89\": {\"89\": 10, \"92\": 2}, \"3\": {\"3\": 12}, \"31\": {\"31\": 12}, \"33\": {\"33\": 12}, \"8\": {\"8\": 11, \"18\": 1}, \"41\": {\"41\": 10, \"21\": 1, \"88\": 1}, \"92\": {\"92\": 8, \"24\": 1, \"76\": 1, \"89\": 1, \"103\": 1}, \"87\": {\"87\": 12}, \"17\": {\"17\": 10}, \"93\": {\"93\": 12}, \"94\": {\"94\": 12}, \"110\": {\"110\": 12}, \"18\": {\"18\": 12}, \"122\": {\"122\": 11, \"23\": 1}, \"91\": {\"91\": 12}, \"58\": {\"58\": 11, \"6\": 1}, \"68\": {\"68\": 12}, \"24\": {\"24\": 12}, \"28\": {\"28\": 8, \"70\": 1, \"108\": 1, \"97\": 1, \"29\": 1}, \"52\": {\"52\": 10}, \"23\": {\"23\": 11, \"96\": 1}, \"128\": {\"128\": 11, \"114\": 1}, \"113\": {\"113\": 10, \"109\": 1, \"70\": 1}, \"104\": {\"104\": 12}, \"72\": {\"72\": 11, \"70\": 1}, \"125\": {\"125\": 12}, \"121\": {\"121\": 10, \"70\": 1, \"78\": 1}, \"63\": {\"63\": 12}, \"70\": {\"70\": 12}, \"16\": {\"70\": 1, \"23\": 1, \"16\": 5, \"60\": 1}, \"60\": {\"60\": 11, \"110\": 1}, \"95\": {\"95\": 10, \"40\": 1, \"126\": 1}, \"50\": {\"50\": 12}, \"129\": {\"129\": 12}, \"77\": {\"77\": 11, \"91\": 1}, \"47\": {\"47\": 9, \"24\": 1, \"39\": 1, \"91\": 1}, \"13\": {\"13\": 12}, \"9\": {\"9\": 12}, \"115\": {\"115\": 7, \"82\": 1}, \"42\": {\"42\": 11, \"88\": 1}, \"48\": {\"48\": 12}, \"25\": {\"25\": 11, \"69\": 1}, \"61\": {\"61\": 9, \"13\": 1, \"67\": 1, \"65\": 1}, \"108\": {\"108\": 12}, \"54\": {\"54\": 12}, \"76\": {\"76\": 10, \"92\": 2}, \"12\": {\"12\": 11, \"126\": 1}, \"97\": {\"0\": 1, \"97\": 7, \"15\": 2}, \"11\": {\"11\": 11, \"88\": 1}, \"29\": {\"29\": 11, \"2\": 1}, \"57\": {\"57\": 11, \"39\": 1}, \"90\": {\"90\": 12}, \"26\": {\"26\": 12}, \"111\": {\"111\": 12}, \"59\": {\"59\": 12}, \"86\": {\"86\": 12}, \"126\": {\"126\": 12}, \"127\": {\"127\": 8}, \"0\": {\"0\": 12}, \"117\": {\"117\": 10, \"2\": 1, \"120\": 1}, \"118\": {\"118\": 11, \"24\": 1}, \"32\": {\"79\": 1, \"32\": 9, \"3\": 1, \"98\": 1}, \"37\": {\"37\": 12}, \"96\": {\"96\": 11, \"93\": 1}, \"44\": {\"44\": 12}, \"10\": {\"10\": 12}, \"4\": {\"4\": 12}, \"20\": {\"20\": 12}, \"21\": {\"21\": 10}, \"79\": {\"79\": 8, \"30\": 2}, \"99\": {\"99\": 12}, \"105\": {\"105\": 12}, \"112\": {\"99\": 1, \"112\": 5, \"98\": 1, \"100\": 2, \"5\": 1, \"77\": 1, \"128\": 1}, \"102\": {\"102\": 6}, \"14\": {\"14\": 10, \"78\": 1, \"39\": 1}, \"81\": {\"81\": 12}, \"65\": {\"65\": 11, \"110\": 1}, \"22\": {\"92\": 1, \"22\": 11}, \"64\": {\"64\": 12}, \"1\": {\"1\": 12}, \"83\": {\"83\": 12}, \"2\": {\"2\": 11, \"13\": 1}, \"78\": {\"78\": 10, \"39\": 1, \"70\": 1}, \"107\": {\"107\": 12}, \"103\": {\"103\": 12}, \"88\": {\"88\": 12}, \"80\": {\"80\": 12}, \"109\": {\"109\": 10, \"78\": 1, \"31\": 1}, \"30\": {\"30\": 11, \"20\": 1}, \"119\": {\"119\": 12}, \"106\": {\"106\": 12}, \"35\": {\"35\": 11, \"50\": 1}, \"73\": {\"73\": 12}, \"6\": {\"6\": 11, \"125\": 1}, \"46\": {\"46\": 12}, \"75\": {\"75\": 11, \"87\": 1}, \"39\": {\"39\": 10, \"109\": 2}, \"5\": {\"5\": 12}, \"7\": {\"7\": 12}, \"124\": {\"124\": 12}, \"69\": {\"69\": 12}, \"71\": {\"71\": 9, \"51\": 1, \"65\": 1, \"28\": 1}, \"74\": {\"74\": 8, \"82\": 1, \"88\": 1}, \"53\": {\"53\": 9, \"104\": 1, \"39\": 1, \"24\": 1}, \"51\": {\"51\": 10, \"108\": 1, \"97\": 1}, \"38\": {\"38\": 12}, \"62\": {\"62\": 12}, \"27\": {\"27\": 12}, \"19\": {\"53\": 1, \"19\": 9, \"123\": 1, \"21\": 1}, \"84\": {\"84\": 12}, \"120\": {\"120\": 12}, \"114\": {\"114\": 12}, \"45\": {\"45\": 10, \"17\": 1, \"24\": 1}, \"40\": {\"40\": 12}, \"85\": {\"85\": 11, \"73\": 1}, \"82\": {\"82\": 10}, \"101\": {\"101\": 12}, \"98\": {\"98\": 12}, \"100\": {\"100\": 11, \"83\": 1}, \"43\": {\"43\": 10, \"87\": 1, \"103\": 1}, \"34\": {\"34\": 12}, \"49\": {\"49\": 10, \"67\": 1, \"82\": 1}, \"15\": {\"15\": 12}, \"66\": {\"66\": 10}, \"36\": {\"36\": 12}, \"116\": {\"116\": 12}, \"67\": {\"67\": 11, \"6\": 1}, \"55\": {\"55\": 11, \"105\": 1}, \"123\": {\"123\": 10}, \"56\": {\"56\": 6, \"57\": 1, \"58\": 1}}, \"Wisig_4\": {\"19\": {\"19\": 12}, \"93\": {\"93\": 12}, \"52\": {\"71\": 1, \"52\": 11}, \"44\": {\"44\": 12}, \"120\": {\"120\": 11, \"39\": 1}, \"33\": {\"33\": 8, \"99\": 1, \"128\": 1}, \"87\": {\"87\": 10, \"10\": 1, \"33\": 1}, \"20\": {\"20\": 11, \"21\": 1}, \"35\": {\"35\": 12}, \"16\": {\"16\": 12}, \"14\": {\"14\": 12}, \"91\": {\"91\": 7, \"14\": 1, \"113\": 1, \"75\": 1}, \"121\": {\"121\": 10, \"35\": 1, \"81\": 1}, \"65\": {\"65\": 10, \"23\": 1, \"68\": 1}, \"66\": {\"66\": 12}, \"37\": {\"37\": 12}, \"67\": {\"88\": 1, \"67\": 6, \"92\": 1, \"104\": 1, \"82\": 1, \"17\": 2}, \"88\": {\"88\": 11, \"21\": 1}, \"71\": {\"71\": 8, \"10\": 1, \"1\": 1, \"114\": 2}, \"81\": {\"81\": 11, \"14\": 1}, \"34\": {\"121\": 1, \"34\": 8, \"23\": 3}, \"63\": {\"63\": 11, \"23\": 1}, \"73\": {\"73\": 11, \"46\": 1}, \"86\": {\"86\": 12}, \"106\": {\"106\": 12}, \"68\": {\"68\": 12}, \"98\": {\"98\": 11, \"60\": 1}, \"84\": {\"84\": 10, \"43\": 1, \"126\": 1}, \"101\": {\"101\": 12}, \"50\": {\"50\": 8}, \"8\": {\"8\": 11, \"78\": 1}, \"95\": {\"95\": 12}, \"119\": {\"119\": 12}, \"51\": {\"14\": 2, \"51\": 6, \"92\": 1, \"106\": 2, \"53\": 1}, \"3\": {\"3\": 12}, \"9\": {\"9\": 11, \"51\": 1}, \"42\": {\"42\": 11, \"112\": 1}, \"123\": {\"123\": 11, \"116\": 1}, \"107\": {\"107\": 12}, \"111\": {\"111\": 12}, \"64\": {\"64\": 12}, \"31\": {\"31\": 11, \"76\": 1}, \"6\": {\"6\": 12}, \"53\": {\"53\": 11, \"88\": 1}, \"108\": {\"108\": 10, \"70\": 1, \"43\": 1}, \"69\": {\"108\": 1, \"69\": 11}, \"96\": {\"96\": 12}, \"22\": {\"22\": 12}, \"114\": {\"114\": 12}, \"7\": {\"7\": 11, \"39\": 1}, \"75\": {\"75\": 12}, \"2\": {\"2\": 9, \"117\": 1}, \"39\": {\"39\": 12}, \"41\": {\"41\": 9, \"51\": 2, \"62\": 1}, \"58\": {\"58\": 12}, \"127\": {\"127\": 11, \"43\": 1}, \"62\": {\"62\": 12}, \"76\": {\"76\": 11, \"89\": 1}, \"46\": {\"46\": 11, \"129\": 1}, \"60\": {\"60\": 12}, \"118\": {\"118\": 10, \"62\": 2}, \"78\": {\"78\": 10, \"88\": 2}, \"48\": {\"48\": 10, \"36\": 1, \"14\": 1}, \"29\": {\"29\": 12}, \"17\": {\"17\": 12}, \"112\": {\"112\": 12}, \"109\": {\"109\": 12}, \"47\": {\"47\": 11, \"70\": 1}, \"94\": {\"94\": 10, \"43\": 1, \"39\": 1}, \"115\": {\"115\": 11, \"17\": 1}, \"5\": {\"5\": 11, \"70\": 1}, \"26\": {\"26\": 12}, \"89\": {\"89\": 10}, \"49\": {\"49\": 10}, \"18\": {\"18\": 12}, \"102\": {\"102\": 12}, \"99\": {\"99\": 12}, \"105\": {\"105\": 11, \"23\": 1}, \"43\": {\"43\": 12}, \"12\": {\"12\": 12}, \"1\": {\"1\": 12}, \"21\": {\"21\": 11, \"96\": 1}, \"100\": {\"100\": 11, \"21\": 1}, \"80\": {\"80\": 8, \"117\": 1, \"44\": 1}, \"116\": {\"116\": 11, \"92\": 1}, \"70\": {\"70\": 6, \"108\": 3, \"63\": 1, \"88\": 1, \"97\": 1}, \"36\": {\"36\": 10}, \"122\": {\"122\": 10, \"70\": 1, \"110\": 1}, \"55\": {\"55\": 12}, \"0\": {\"0\": 11, \"96\": 1}, \"4\": {\"4\": 12}, \"82\": {\"82\": 11, \"117\": 1}, \"32\": {\"32\": 10}, \"124\": {\"124\": 12}, \"117\": {\"117\": 12}, \"11\": {\"11\": 12}, \"92\": {\"92\": 12}, \"128\": {\"100\": 2, \"103\": 1, \"57\": 1, \"128\": 5, \"38\": 1, \"29\": 1, \"23\": 1}, \"90\": {\"90\": 10, \"121\": 1, \"38\": 1}, \"74\": {\"74\": 12}, \"38\": {\"38\": 12}, \"25\": {\"25\": 12}, \"15\": {\"15\": 12}, \"113\": {\"113\": 9, \"0\": 1, \"122\": 1, \"121\": 1}, \"85\": {\"85\": 12}, \"57\": {\"57\": 10, \"108\": 1, \"100\": 1}, \"13\": {\"13\": 12}, \"125\": {\"125\": 12}, \"28\": {\"28\": 12}, \"40\": {\"40\": 12}, \"56\": {\"56\": 12}, \"23\": {\"23\": 7, \"11\": 1, \"78\": 1, \"110\": 1, \"108\": 1, \"39\": 1}, \"83\": {\"83\": 12}, \"72\": {\"72\": 11, \"99\": 1}, \"97\": {\"97\": 8, \"24\": 2, \"27\": 1, \"128\": 1}, \"77\": {\"77\": 10}, \"45\": {\"45\": 12}, \"129\": {\"129\": 12}, \"104\": {\"104\": 8}, \"10\": {\"10\": 9, \"70\": 3}, \"61\": {\"61\": 11, \"78\": 1}, \"110\": {\"110\": 12}, \"79\": {\"79\": 12}, \"30\": {\"30\": 10}, \"103\": {\"103\": 7, \"28\": 1, \"124\": 1, \"58\": 1, \"23\": 1, \"111\": 1}, \"54\": {\"54\": 10}, \"27\": {\"27\": 10, \"108\": 1, \"39\": 1}, \"59\": {\"59\": 6, \"125\": 2, \"6\": 2}, \"24\": {\"27\": 1, \"24\": 7}, \"126\": {\"126\": 8}}, \"Metehan_1\": {\"9\": {\"6\": 2, \"9\": 3, \"15\": 2, \"13\": 2, \"14\": 2, \"12\": 1}, \"5\": {\"18\": 4, \"2\": 4, \"5\": 4}, \"15\": {\"13\": 3, \"15\": 6, \"8\": 1, \"17\": 1, \"12\": 1}, \"13\": {\"13\": 3, \"8\": 3, \"9\": 2, \"17\": 1, \"12\": 2, \"3\": 1}, \"11\": {\"16\": 1, \"11\": 5, \"17\": 4, \"12\": 1, \"13\": 1}, \"7\": {\"2\": 2, \"7\": 3, \"1\": 2, \"16\": 1, \"14\": 1, \"4\": 1, \"18\": 1, \"10\": 1}, \"2\": {\"1\": 3, \"5\": 2, \"2\": 4, \"16\": 1, \"0\": 2}, \"6\": {\"9\": 1, \"6\": 4, \"4\": 2, \"14\": 2, \"0\": 1, \"13\": 1, \"16\": 1}, \"16\": {\"18\": 1, \"16\": 5, \"11\": 1, \"17\": 1, \"4\": 2, \"7\": 2}, \"14\": {\"4\": 1, \"8\": 1, \"14\": 5, \"6\": 2, \"12\": 1, \"0\": 1, \"16\": 1}, \"18\": {\"18\": 4, \"10\": 1, \"3\": 2, \"17\": 1, \"11\": 1, \"5\": 2, \"16\": 1}, \"1\": {\"18\": 1, \"7\": 1, \"1\": 7, \"5\": 1, \"2\": 1, \"0\": 1}, \"10\": {\"16\": 4, \"0\": 2, \"7\": 2, \"5\": 3, \"1\": 1}, \"12\": {\"6\": 1, \"16\": 1, \"15\": 3, \"8\": 2, \"11\": 1, \"12\": 2, \"13\": 2}, \"3\": {\"16\": 2, \"9\": 4, \"0\": 2, \"3\": 1, \"7\": 2, \"11\": 1}, \"8\": {\"12\": 2, \"15\": 6, \"13\": 1, \"8\": 3}, \"0\": {\"3\": 1, \"6\": 1, \"0\": 4, \"18\": 2, \"10\": 1, \"13\": 2, \"16\": 1}, \"4\": {\"0\": 2, \"6\": 3, \"7\": 1, \"9\": 2, \"13\": 2, \"4\": 2}, \"17\": {\"8\": 1, \"17\": 5, \"13\": 3, \"14\": 1, \"16\": 1, \"3\": 1}}, \"Metehan_0\": {\"6\": {\"0\": 1, \"14\": 4, \"9\": 1, \"4\": 4, \"13\": 1, \"11\": 1}, \"18\": {\"1\": 1, \"5\": 3, \"16\": 1, \"7\": 1, \"14\": 1, \"18\": 1, \"2\": 1, \"17\": 1, \"13\": 1, \"6\": 1}, \"2\": {\"0\": 1, \"2\": 1, \"1\": 7, \"10\": 2, \"5\": 1}, \"17\": {\"16\": 1, \"12\": 1, \"6\": 1, \"17\": 3, \"0\": 1, \"8\": 1, \"13\": 1, \"3\": 1, \"11\": 1, \"10\": 1}, \"1\": {\"0\": 2, \"2\": 6, \"5\": 1, \"1\": 2, \"7\": 1}, \"4\": {\"6\": 2, \"14\": 2, \"3\": 2, \"0\": 1, \"4\": 3, \"1\": 1, \"12\": 1}, \"8\": {\"8\": 6, \"12\": 2, \"15\": 3, \"17\": 1}, \"9\": {\"13\": 4, \"14\": 3, \"9\": 2, \"12\": 2, \"8\": 1}, \"7\": {\"10\": 3, \"11\": 1, \"1\": 1, \"5\": 1, \"4\": 1, \"16\": 1, \"0\": 1, \"14\": 1, \"7\": 1, \"18\": 1}, \"15\": {\"15\": 8, \"8\": 2, \"17\": 1, \"12\": 1}, \"12\": {\"3\": 1, \"8\": 1, \"15\": 1, \"16\": 1, \"17\": 2, \"12\": 2, \"11\": 3, \"13\": 1}, \"11\": {\"12\": 3, \"8\": 1, \"3\": 3, \"11\": 2, \"16\": 1, \"18\": 1, \"13\": 1}, \"13\": {\"9\": 2, \"13\": 5, \"11\": 2, \"6\": 1, \"12\": 2}, \"0\": {\"6\": 3, \"5\": 2, \"0\": 2, \"16\": 1, \"7\": 3, \"14\": 1}, \"10\": {\"2\": 2, \"18\": 3, \"0\": 2, \"16\": 2, \"10\": 1, \"3\": 1, \"13\": 1}, \"14\": {\"18\": 3, \"9\": 2, \"13\": 2, \"14\": 3, \"6\": 2}, \"3\": {\"10\": 1, \"9\": 3, \"3\": 1, \"17\": 1, \"11\": 2, \"13\": 1, \"12\": 2, \"6\": 1}, \"5\": {\"18\": 3, \"1\": 1, \"5\": 3, \"7\": 2, \"13\": 1, \"10\": 1, \"0\": 1}, \"16\": {\"1\": 1, \"4\": 1, \"18\": 1, \"17\": 2, \"0\": 1, \"13\": 1, \"9\": 1, \"11\": 1, \"6\": 1, \"16\": 1, \"10\": 1}}, \"Metehan_2\": {\"1\": {\"2\": 4, \"5\": 1, \"1\": 7}, \"0\": {\"3\": 2, \"0\": 3, \"7\": 2, \"10\": 1, \"18\": 1, \"5\": 2, \"6\": 1}, \"13\": {\"17\": 1, \"16\": 4, \"9\": 3, \"13\": 1, \"11\": 2, \"6\": 1}, \"11\": {\"11\": 4, \"16\": 1, \"13\": 1, \"8\": 2, \"17\": 1, \"18\": 1, \"3\": 1, \"4\": 1}, \"5\": {\"5\": 3, \"1\": 3, \"18\": 4, \"7\": 2}, \"15\": {\"15\": 6, \"8\": 3, \"12\": 3}, \"14\": {\"17\": 1, \"4\": 1, \"14\": 1, \"3\": 3, \"0\": 3, \"11\": 1, \"6\": 1, \"10\": 1}, \"8\": {\"11\": 3, \"12\": 4, \"15\": 2, \"8\": 3}, \"6\": {\"4\": 2, \"3\": 2, \"6\": 2, \"2\": 2, \"14\": 2, \"9\": 1, \"1\": 1}, \"3\": {\"17\": 1, \"3\": 2, \"11\": 2, \"16\": 3, \"0\": 1, \"13\": 2, \"12\": 1}, \"10\": {\"0\": 3, \"1\": 3, \"5\": 1, \"6\": 1, \"3\": 1, \"10\": 2, \"7\": 1}, \"7\": {\"2\": 3, \"7\": 2, \"14\": 1, \"11\": 1, \"18\": 1, \"0\": 3, \"10\": 1}, \"17\": {\"17\": 6, \"11\": 2, \"3\": 1, \"12\": 3}, \"4\": {\"3\": 1, \"14\": 4, \"2\": 1, \"4\": 1, \"6\": 2, \"9\": 2, \"5\": 1}, \"2\": {\"2\": 5, \"1\": 3, \"0\": 2, \"5\": 1, \"10\": 1}, \"9\": {\"9\": 3, \"12\": 4, \"6\": 3, \"18\": 1, \"4\": 1}, \"12\": {\"13\": 4, \"12\": 2, \"8\": 3, \"17\": 1, \"6\": 1, \"9\": 1}, \"18\": {\"0\": 2, \"16\": 1, \"7\": 2, \"1\": 1, \"18\": 3, \"17\": 1, \"10\": 1, \"5\": 1}, \"16\": {\"16\": 5, \"11\": 1, \"13\": 1, \"10\": 2, \"17\": 1, \"12\": 1, \"3\": 1}}}, \"per_domain_accuracy\": {\"Wisig_3\": {\"accuracy\": 0.9598684210526316, \"source?\": true}, \"Wisig_1\": {\"accuracy\": 0.9480263157894737, \"source?\": true}, \"Wisig_2\": {\"accuracy\": 0.9322368421052631, \"source?\": true}, \"Wisig_4\": {\"accuracy\": 0.9177631578947368, \"source?\": true}, \"Metehan_1\": {\"accuracy\": 0.30701754385964913, \"source?\": false}, \"Metehan_0\": {\"accuracy\": 0.20614035087719298, \"source?\": false}, \"Metehan_2\": {\"accuracy\": 0.2675438596491228, \"source?\": false}}}, \"history\": {\"epoch_indices\": [1, 2, 3, 4, 5], \"train_label_loss\": [0.4042111789124047, 0.23444949059519282, 0.19814207163416211, 0.16605781481515844, 0.15101578226932225], \"source_val_label_loss\": [0.2760511636734009, 0.2611390948295593, 0.21301613748073578, 0.17724817991256714, 0.1814402937889099], \"target_val_label_loss\": [2.3225250244140625, 2.5188992023468018, 2.3711681365966797, 2.560045003890991, 2.7381668090820312], \"source_val_acc_label\": [0.9394736842105263, 0.9472039473684211, 0.95625, 0.959375, 0.9605263157894737], \"target_val_acc_label\": [0.260233918128655, 0.1652046783625731, 0.2134502923976608, 0.16812865497076024, 0.15350877192982457]}, \"dataset_metrics\": {\"source\": {\"train\": {\"n_unique_x\": 36399, \"n_unique_y\": 130, \"n_batch/episode\": 1128}, \"val\": {\"n_unique_x\": 7792, \"n_unique_y\": 130, \"n_batch/episode\": 160}, \"test\": {\"n_unique_x\": 7792, \"n_unique_y\": 130, \"n_batch/episode\": 160}}, \"target\": {\"train\": {\"n_unique_x\": 3990, \"n_unique_y\": 19, \"n_batch/episode\": 126}, \"val\": {\"n_unique_x\": 855, \"n_unique_y\": 19, \"n_batch/episode\": 18}, \"test\": {\"n_unique_x\": 855, \"n_unique_y\": 19, \"n_batch/episode\": 18}}}}'"
      ]
     },
     "execution_count": 29,
     "metadata": {},
     "output_type": "execute_result"
    }
   ],
   "source": [
    "json.dumps(experiment)"
   ]
  }
 ],
 "metadata": {
  "celltoolbar": "Tags",
  "kernelspec": {
   "display_name": "Python 3 (ipykernel)",
   "language": "python",
   "name": "python3"
  },
  "language_info": {
   "codemirror_mode": {
    "name": "ipython",
    "version": 3
   },
   "file_extension": ".py",
   "mimetype": "text/x-python",
   "name": "python",
   "nbconvert_exporter": "python",
   "pygments_lexer": "ipython3",
   "version": "3.8.10"
  },
  "papermill": {
   "default_parameters": {},
   "duration": 193.639791,
   "end_time": "2022-03-07T08:37:34.541280",
   "environment_variables": {},
   "exception": null,
   "input_path": "/mnt/wd500GB/CSC500/csc500-main/csc500-notebooks/templates/tl_ptn_template.ipynb",
   "output_path": "trial.ipynb",
   "parameters": {
    "parameters": {
     "BEST_MODEL_PATH": "./best_model.pth",
     "NUM_LOGS_PER_EPOCH": 10,
     "criteria_for_best": "target_loss",
     "dataset_seed": 1337,
     "datasets": [
      {
       "domain_prefix": "Wisig_",
       "domains": [
        1,
        2,
        3,
        4
       ],
       "episode_transforms": [],
       "labels": [
        "1-10",
        "1-12",
        "1-14",
        "1-16",
        "1-18",
        "1-19",
        "1-8",
        "10-11",
        "10-17",
        "10-4",
        "10-7",
        "11-1",
        "11-10",
        "11-19",
        "11-20",
        "11-4",
        "11-7",
        "12-19",
        "12-20",
        "12-7",
        "13-14",
        "13-18",
        "13-19",
        "13-20",
        "13-3",
        "13-7",
        "14-10",
        "14-11",
        "14-12",
        "14-13",
        "14-14",
        "14-19",
        "14-20",
        "14-7",
        "14-8",
        "14-9",
        "15-1",
        "15-19",
        "15-6",
        "16-1",
        "16-16",
        "16-19",
        "16-20",
        "17-10",
        "17-11",
        "18-1",
        "18-10",
        "18-11",
        "18-12",
        "18-13",
        "18-14",
        "18-15",
        "18-16",
        "18-17",
        "18-19",
        "18-2",
        "18-20",
        "18-4",
        "18-5",
        "18-7",
        "18-8",
        "18-9",
        "19-1",
        "19-10",
        "19-11",
        "19-12",
        "19-13",
        "19-14",
        "19-15",
        "19-19",
        "19-2",
        "19-20",
        "19-3",
        "19-4",
        "19-6",
        "19-7",
        "19-8",
        "19-9",
        "2-1",
        "2-13",
        "2-15",
        "2-3",
        "2-4",
        "2-5",
        "2-6",
        "2-7",
        "2-8",
        "20-1",
        "20-12",
        "20-14",
        "20-15",
        "20-16",
        "20-18",
        "20-19",
        "20-20",
        "20-3",
        "20-4",
        "20-5",
        "20-7",
        "20-8",
        "3-1",
        "3-13",
        "3-18",
        "3-2",
        "3-8",
        "4-1",
        "4-10",
        "4-11",
        "5-1",
        "5-5",
        "6-1",
        "6-15",
        "6-6",
        "7-10",
        "7-11",
        "7-12",
        "7-13",
        "7-14",
        "7-7",
        "7-8",
        "7-9",
        "8-1",
        "8-13",
        "8-14",
        "8-18",
        "8-20",
        "8-3",
        "8-8",
        "9-1",
        "9-7"
       ],
       "num_examples_per_domain_per_label": 100,
       "pickle_path": "/mnt/wd500GB/CSC500/csc500-main/datasets/wisig.node3-19.stratified_ds.2022A.pkl",
       "source_or_target_dataset": "source",
       "x_transforms": []
      },
      {
       "domain_prefix": "Metehan_",
       "domains": [
        0,
        1,
        2
       ],
       "episode_transforms": [],
       "labels": [
        0,
        1,
        2,
        3,
        4,
        5,
        6,
        7,
        8,
        9,
        10,
        11,
        12,
        13,
        14,
        15,
        16,
        17,
        18
       ],
       "num_examples_per_domain_per_label": 100,
       "pickle_path": "/mnt/wd500GB/CSC500/csc500-main/datasets/metehan.stratified_ds.2022A.pkl",
       "source_or_target_dataset": "target",
       "x_transforms": []
      }
     ],
     "device": "cuda",
     "experiment_name": "tl_1_wisig-metehan",
     "lr": 0.001,
     "n_epoch": 50,
     "n_query": 2,
     "n_shot": 3,
     "n_way": 19,
     "patience": 3,
     "seed": 1337,
     "test_k_factor": 2,
     "torch_default_dtype": "torch.float32",
     "train_k_factor": 3,
     "val_k_factor": 2,
     "x_net": [
      {
       "class": "nnReshape",
       "kargs": {
        "shape": [
         -1,
         1,
         2,
         256
        ]
       }
      },
      {
       "class": "Conv2d",
       "kargs": {
        "bias": false,
        "in_channels": 1,
        "kernel_size": [
         1,
         7
        ],
        "out_channels": 256,
        "padding": [
         0,
         3
        ]
       }
      },
      {
       "class": "ReLU",
       "kargs": {
        "inplace": true
       }
      },
      {
       "class": "BatchNorm2d",
       "kargs": {
        "num_features": 256
       }
      },
      {
       "class": "Conv2d",
       "kargs": {
        "bias": true,
        "in_channels": 256,
        "kernel_size": [
         2,
         7
        ],
        "out_channels": 80,
        "padding": [
         0,
         3
        ]
       }
      },
      {
       "class": "ReLU",
       "kargs": {
        "inplace": true
       }
      },
      {
       "class": "BatchNorm2d",
       "kargs": {
        "num_features": 80
       }
      },
      {
       "class": "Flatten",
       "kargs": {}
      },
      {
       "class": "Linear",
       "kargs": {
        "in_features": 20480,
        "out_features": 256
       }
      },
      {
       "class": "ReLU",
       "kargs": {
        "inplace": true
       }
      },
      {
       "class": "BatchNorm1d",
       "kargs": {
        "num_features": 256
       }
      },
      {
       "class": "Linear",
       "kargs": {
        "in_features": 256,
        "out_features": 256
       }
      }
     ]
    }
   },
   "start_time": "2022-03-07T08:34:20.901489",
   "version": "2.3.4"
  }
 },
 "nbformat": 4,
 "nbformat_minor": 5
}