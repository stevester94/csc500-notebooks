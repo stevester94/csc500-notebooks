{
 "cells": [
  {
   "cell_type": "markdown",
   "id": "9fea5f46",
   "metadata": {
    "papermill": {
     "duration": 0.018387,
     "end_time": "2022-03-07T08:37:35.240385",
     "exception": false,
     "start_time": "2022-03-07T08:37:35.221998",
     "status": "completed"
    },
    "tags": []
   },
   "source": [
    "# Transfer Learning Template"
   ]
  },
  {
   "cell_type": "code",
   "execution_count": 1,
   "id": "0902182a",
   "metadata": {
    "execution": {
     "iopub.execute_input": "2022-03-07T08:37:35.279372Z",
     "iopub.status.busy": "2022-03-07T08:37:35.273085Z",
     "iopub.status.idle": "2022-03-07T08:37:36.032551Z",
     "shell.execute_reply": "2022-03-07T08:37:36.031990Z"
    },
    "papermill": {
     "duration": 0.77961,
     "end_time": "2022-03-07T08:37:36.032670",
     "exception": false,
     "start_time": "2022-03-07T08:37:35.253060",
     "status": "completed"
    },
    "tags": []
   },
   "outputs": [],
   "source": [
    "%load_ext autoreload\n",
    "%autoreload 2\n",
    "%matplotlib inline\n",
    "\n",
    "    \n",
    "import os, json, sys, time, random\n",
    "import numpy as np\n",
    "import torch\n",
    "from torch.optim import Adam\n",
    "from  easydict import EasyDict\n",
    "import matplotlib.pyplot as plt\n",
    "\n",
    "from steves_models.steves_ptn import Steves_Prototypical_Network\n",
    "\n",
    "from steves_utils.lazy_iterable_wrapper import Lazy_Iterable_Wrapper\n",
    "from steves_utils.iterable_aggregator import Iterable_Aggregator\n",
    "from steves_utils.ptn_train_eval_test_jig import  PTN_Train_Eval_Test_Jig\n",
    "from steves_utils.torch_sequential_builder import build_sequential\n",
    "from steves_utils.torch_utils import get_dataset_metrics, ptn_confusion_by_domain_over_dataloader\n",
    "from steves_utils.utils_v2 import (per_domain_accuracy_from_confusion, get_datasets_base_path)\n",
    "from steves_utils.PTN.utils import independent_accuracy_assesment\n",
    "\n",
    "from torch.utils.data import DataLoader\n",
    "\n",
    "from steves_utils.stratified_dataset.episodic_accessor import Episodic_Accessor_Factory\n",
    "\n",
    "from steves_utils.ptn_do_report import (\n",
    "    get_loss_curve,\n",
    "    get_results_table,\n",
    "    get_parameters_table,\n",
    "    get_domain_accuracies,\n",
    ")\n",
    "\n",
    "from steves_utils.transforms import get_chained_transform"
   ]
  },
  {
   "cell_type": "markdown",
   "id": "41c840b4",
   "metadata": {
    "papermill": {
     "duration": 0.013153,
     "end_time": "2022-03-07T08:37:36.065013",
     "exception": false,
     "start_time": "2022-03-07T08:37:36.051860",
     "status": "completed"
    },
    "tags": []
   },
   "source": [
    "# Allowed Parameters\n",
    "These are allowed parameters, not defaults\n",
    "Each of these values need to be present in the injected parameters (the notebook will raise an exception if they are not present)\n",
    "\n",
    "Papermill uses the cell tag \"parameters\" to inject the real parameters below this cell.\n",
    "Enable tags to see what I mean"
   ]
  },
  {
   "cell_type": "code",
   "execution_count": 2,
   "id": "fd44eb83",
   "metadata": {
    "execution": {
     "iopub.execute_input": "2022-03-07T08:37:36.094561Z",
     "iopub.status.busy": "2022-03-07T08:37:36.094290Z",
     "iopub.status.idle": "2022-03-07T08:37:36.107851Z",
     "shell.execute_reply": "2022-03-07T08:37:36.108231Z"
    },
    "papermill": {
     "duration": 0.029601,
     "end_time": "2022-03-07T08:37:36.108356",
     "exception": false,
     "start_time": "2022-03-07T08:37:36.078755",
     "status": "completed"
    },
    "tags": []
   },
   "outputs": [],
   "source": [
    "required_parameters = {\n",
    "    \"experiment_name\",\n",
    "    \"lr\",\n",
    "    \"device\",\n",
    "    \"seed\",\n",
    "    \"dataset_seed\",\n",
    "    \"n_shot\",\n",
    "    \"n_query\",\n",
    "    \"n_way\",\n",
    "    \"train_k_factor\",\n",
    "    \"val_k_factor\",\n",
    "    \"test_k_factor\",\n",
    "    \"n_epoch\",\n",
    "    \"patience\",\n",
    "    \"criteria_for_best\",\n",
    "    \"x_net\",\n",
    "    \"datasets\",\n",
    "    \"torch_default_dtype\",\n",
    "    \"NUM_LOGS_PER_EPOCH\",\n",
    "    \"BEST_MODEL_PATH\",\n",
    "}"
   ]
  },
  {
   "cell_type": "code",
   "execution_count": 3,
   "id": "fa3f0049",
   "metadata": {
    "execution": {
     "iopub.execute_input": "2022-03-07T08:37:36.148899Z",
     "iopub.status.busy": "2022-03-07T08:37:36.146153Z",
     "iopub.status.idle": "2022-03-07T08:37:36.162435Z",
     "shell.execute_reply": "2022-03-07T08:37:36.162853Z"
    },
    "papermill": {
     "duration": 0.036139,
     "end_time": "2022-03-07T08:37:36.162986",
     "exception": false,
     "start_time": "2022-03-07T08:37:36.126847",
     "status": "completed"
    },
    "tags": [
     "parameters"
    ]
   },
   "outputs": [],
   "source": [
    "from steves_utils.CORES.utils import (\n",
    "    ALL_NODES,\n",
    "    ALL_NODES_MINIMUM_1000_EXAMPLES,\n",
    "    ALL_DAYS\n",
    ")\n",
    "\n",
    "from steves_utils.ORACLE.utils_v2 import (\n",
    "    ALL_DISTANCES_FEET_NARROWED,\n",
    "    ALL_RUNS,\n",
    "    ALL_SERIAL_NUMBERS,\n",
    ")\n",
    "\n",
    "standalone_parameters = {}\n",
    "standalone_parameters[\"experiment_name\"] = \"STANDALONE PTN\"\n",
    "standalone_parameters[\"lr\"] = 0.001\n",
    "standalone_parameters[\"device\"] = \"cuda\"\n",
    "\n",
    "standalone_parameters[\"seed\"] = 1337\n",
    "standalone_parameters[\"dataset_seed\"] = 1337\n",
    "\n",
    "standalone_parameters[\"n_way\"] = 8\n",
    "standalone_parameters[\"n_shot\"] = 3\n",
    "standalone_parameters[\"n_query\"]  = 2\n",
    "standalone_parameters[\"train_k_factor\"] = 1\n",
    "standalone_parameters[\"val_k_factor\"] = 2\n",
    "standalone_parameters[\"test_k_factor\"] = 2\n",
    "\n",
    "\n",
    "standalone_parameters[\"n_epoch\"] = 50\n",
    "\n",
    "standalone_parameters[\"patience\"] = 10\n",
    "standalone_parameters[\"criteria_for_best\"] = \"source_loss\"\n",
    "\n",
    "standalone_parameters[\"datasets\"] = [\n",
    "    {\n",
    "        \"labels\": ALL_SERIAL_NUMBERS,\n",
    "        \"domains\": ALL_DISTANCES_FEET_NARROWED,\n",
    "        \"num_examples_per_domain_per_label\": 100,\n",
    "        \"pickle_path\": os.path.join(get_datasets_base_path(), \"oracle.Run1_framed_2000Examples_stratified_ds.2022A.pkl\"),\n",
    "        \"source_or_target_dataset\": \"source\",\n",
    "        \"x_transforms\": [\"unit_mag\", \"minus_two\"],\n",
    "        \"episode_transforms\": [],\n",
    "        \"domain_prefix\": \"ORACLE_\"\n",
    "    },\n",
    "    {\n",
    "        \"labels\": ALL_NODES,\n",
    "        \"domains\": ALL_DAYS,\n",
    "        \"num_examples_per_domain_per_label\": 100,\n",
    "        \"pickle_path\": os.path.join(get_datasets_base_path(), \"cores.stratified_ds.2022A.pkl\"),\n",
    "        \"source_or_target_dataset\": \"target\",\n",
    "        \"x_transforms\": [\"unit_power\", \"times_zero\"],\n",
    "        \"episode_transforms\": [],\n",
    "        \"domain_prefix\": \"CORES_\"\n",
    "    }   \n",
    "]\n",
    "\n",
    "standalone_parameters[\"torch_default_dtype\"] = \"torch.float32\" \n",
    "\n",
    "\n",
    "\n",
    "standalone_parameters[\"x_net\"] =     [\n",
    "    {\"class\": \"nnReshape\", \"kargs\": {\"shape\":[-1, 1, 2, 256]}},\n",
    "    {\"class\": \"Conv2d\", \"kargs\": { \"in_channels\":1, \"out_channels\":256, \"kernel_size\":(1,7), \"bias\":False, \"padding\":(0,3), },},\n",
    "    {\"class\": \"ReLU\", \"kargs\": {\"inplace\": True}},\n",
    "    {\"class\": \"BatchNorm2d\", \"kargs\": {\"num_features\":256}},\n",
    "\n",
    "    {\"class\": \"Conv2d\", \"kargs\": { \"in_channels\":256, \"out_channels\":80, \"kernel_size\":(2,7), \"bias\":True, \"padding\":(0,3), },},\n",
    "    {\"class\": \"ReLU\", \"kargs\": {\"inplace\": True}},\n",
    "    {\"class\": \"BatchNorm2d\", \"kargs\": {\"num_features\":80}},\n",
    "    {\"class\": \"Flatten\", \"kargs\": {}},\n",
    "\n",
    "    {\"class\": \"Linear\", \"kargs\": {\"in_features\": 80*256, \"out_features\": 256}}, # 80 units per IQ pair\n",
    "    {\"class\": \"ReLU\", \"kargs\": {\"inplace\": True}},\n",
    "    {\"class\": \"BatchNorm1d\", \"kargs\": {\"num_features\":256}},\n",
    "\n",
    "    {\"class\": \"Linear\", \"kargs\": {\"in_features\": 256, \"out_features\": 256}},\n",
    "]\n",
    "\n",
    "# Parameters relevant to results\n",
    "# These parameters will basically never need to change\n",
    "standalone_parameters[\"NUM_LOGS_PER_EPOCH\"] = 10\n",
    "standalone_parameters[\"BEST_MODEL_PATH\"] = \"./best_model.pth\"\n",
    "\n",
    "\n",
    "\n",
    "\n"
   ]
  },
  {
   "cell_type": "code",
   "execution_count": 4,
   "id": "1c553352",
   "metadata": {
    "execution": {
     "iopub.execute_input": "2022-03-07T08:37:36.206487Z",
     "iopub.status.busy": "2022-03-07T08:37:36.196529Z",
     "iopub.status.idle": "2022-03-07T08:37:36.218907Z",
     "shell.execute_reply": "2022-03-07T08:37:36.219293Z"
    },
    "papermill": {
     "duration": 0.037326,
     "end_time": "2022-03-07T08:37:36.219418",
     "exception": false,
     "start_time": "2022-03-07T08:37:36.182092",
     "status": "completed"
    },
    "tags": [
     "injected-parameters"
    ]
   },
   "outputs": [],
   "source": [
    "# Parameters\n",
    "parameters = {\n",
    "    \"experiment_name\": \"tl_1_wisig-metehan\",\n",
    "    \"device\": \"cuda\",\n",
    "    \"lr\": 0.001,\n",
    "    \"seed\": 1337,\n",
    "    \"dataset_seed\": 1337,\n",
    "    \"n_shot\": 3,\n",
    "    \"n_query\": 2,\n",
    "    \"train_k_factor\": 3,\n",
    "    \"val_k_factor\": 2,\n",
    "    \"test_k_factor\": 2,\n",
    "    \"torch_default_dtype\": \"torch.float32\",\n",
    "    \"n_epoch\": 50,\n",
    "    \"patience\": 3,\n",
    "    \"criteria_for_best\": \"target_loss\",\n",
    "    \"x_net\": [\n",
    "        {\"class\": \"nnReshape\", \"kargs\": {\"shape\": [-1, 1, 2, 256]}},\n",
    "        {\n",
    "            \"class\": \"Conv2d\",\n",
    "            \"kargs\": {\n",
    "                \"in_channels\": 1,\n",
    "                \"out_channels\": 256,\n",
    "                \"kernel_size\": [1, 7],\n",
    "                \"bias\": False,\n",
    "                \"padding\": [0, 3],\n",
    "            },\n",
    "        },\n",
    "        {\"class\": \"ReLU\", \"kargs\": {\"inplace\": True}},\n",
    "        {\"class\": \"BatchNorm2d\", \"kargs\": {\"num_features\": 256}},\n",
    "        {\n",
    "            \"class\": \"Conv2d\",\n",
    "            \"kargs\": {\n",
    "                \"in_channels\": 256,\n",
    "                \"out_channels\": 80,\n",
    "                \"kernel_size\": [2, 7],\n",
    "                \"bias\": True,\n",
    "                \"padding\": [0, 3],\n",
    "            },\n",
    "        },\n",
    "        {\"class\": \"ReLU\", \"kargs\": {\"inplace\": True}},\n",
    "        {\"class\": \"BatchNorm2d\", \"kargs\": {\"num_features\": 80}},\n",
    "        {\"class\": \"Flatten\", \"kargs\": {}},\n",
    "        {\"class\": \"Linear\", \"kargs\": {\"in_features\": 20480, \"out_features\": 256}},\n",
    "        {\"class\": \"ReLU\", \"kargs\": {\"inplace\": True}},\n",
    "        {\"class\": \"BatchNorm1d\", \"kargs\": {\"num_features\": 256}},\n",
    "        {\"class\": \"Linear\", \"kargs\": {\"in_features\": 256, \"out_features\": 256}},\n",
    "    ],\n",
    "    \"NUM_LOGS_PER_EPOCH\": 10,\n",
    "    \"BEST_MODEL_PATH\": \"./best_model.pth\",\n",
    "    \"n_way\": 19,\n",
    "    \"datasets\": [\n",
    "        {\n",
    "            \"labels\": [\n",
    "                \"1-10\",\n",
    "                \"1-12\",\n",
    "                \"1-14\",\n",
    "                \"1-16\",\n",
    "                \"1-18\",\n",
    "                \"1-19\",\n",
    "                \"1-8\",\n",
    "                \"10-11\",\n",
    "                \"10-17\",\n",
    "                \"10-4\",\n",
    "                \"10-7\",\n",
    "                \"11-1\",\n",
    "                \"11-10\",\n",
    "                \"11-19\",\n",
    "                \"11-20\",\n",
    "                \"11-4\",\n",
    "                \"11-7\",\n",
    "                \"12-19\",\n",
    "                \"12-20\",\n",
    "                \"12-7\",\n",
    "                \"13-14\",\n",
    "                \"13-18\",\n",
    "                \"13-19\",\n",
    "                \"13-20\",\n",
    "                \"13-3\",\n",
    "                \"13-7\",\n",
    "                \"14-10\",\n",
    "                \"14-11\",\n",
    "                \"14-12\",\n",
    "                \"14-13\",\n",
    "                \"14-14\",\n",
    "                \"14-19\",\n",
    "                \"14-20\",\n",
    "                \"14-7\",\n",
    "                \"14-8\",\n",
    "                \"14-9\",\n",
    "                \"15-1\",\n",
    "                \"15-19\",\n",
    "                \"15-6\",\n",
    "                \"16-1\",\n",
    "                \"16-16\",\n",
    "                \"16-19\",\n",
    "                \"16-20\",\n",
    "                \"17-10\",\n",
    "                \"17-11\",\n",
    "                \"18-1\",\n",
    "                \"18-10\",\n",
    "                \"18-11\",\n",
    "                \"18-12\",\n",
    "                \"18-13\",\n",
    "                \"18-14\",\n",
    "                \"18-15\",\n",
    "                \"18-16\",\n",
    "                \"18-17\",\n",
    "                \"18-19\",\n",
    "                \"18-2\",\n",
    "                \"18-20\",\n",
    "                \"18-4\",\n",
    "                \"18-5\",\n",
    "                \"18-7\",\n",
    "                \"18-8\",\n",
    "                \"18-9\",\n",
    "                \"19-1\",\n",
    "                \"19-10\",\n",
    "                \"19-11\",\n",
    "                \"19-12\",\n",
    "                \"19-13\",\n",
    "                \"19-14\",\n",
    "                \"19-15\",\n",
    "                \"19-19\",\n",
    "                \"19-2\",\n",
    "                \"19-20\",\n",
    "                \"19-3\",\n",
    "                \"19-4\",\n",
    "                \"19-6\",\n",
    "                \"19-7\",\n",
    "                \"19-8\",\n",
    "                \"19-9\",\n",
    "                \"2-1\",\n",
    "                \"2-13\",\n",
    "                \"2-15\",\n",
    "                \"2-3\",\n",
    "                \"2-4\",\n",
    "                \"2-5\",\n",
    "                \"2-6\",\n",
    "                \"2-7\",\n",
    "                \"2-8\",\n",
    "                \"20-1\",\n",
    "                \"20-12\",\n",
    "                \"20-14\",\n",
    "                \"20-15\",\n",
    "                \"20-16\",\n",
    "                \"20-18\",\n",
    "                \"20-19\",\n",
    "                \"20-20\",\n",
    "                \"20-3\",\n",
    "                \"20-4\",\n",
    "                \"20-5\",\n",
    "                \"20-7\",\n",
    "                \"20-8\",\n",
    "                \"3-1\",\n",
    "                \"3-13\",\n",
    "                \"3-18\",\n",
    "                \"3-2\",\n",
    "                \"3-8\",\n",
    "                \"4-1\",\n",
    "                \"4-10\",\n",
    "                \"4-11\",\n",
    "                \"5-1\",\n",
    "                \"5-5\",\n",
    "                \"6-1\",\n",
    "                \"6-15\",\n",
    "                \"6-6\",\n",
    "                \"7-10\",\n",
    "                \"7-11\",\n",
    "                \"7-12\",\n",
    "                \"7-13\",\n",
    "                \"7-14\",\n",
    "                \"7-7\",\n",
    "                \"7-8\",\n",
    "                \"7-9\",\n",
    "                \"8-1\",\n",
    "                \"8-13\",\n",
    "                \"8-14\",\n",
    "                \"8-18\",\n",
    "                \"8-20\",\n",
    "                \"8-3\",\n",
    "                \"8-8\",\n",
    "                \"9-1\",\n",
    "                \"9-7\",\n",
    "            ],\n",
    "            \"domains\": [1, 2, 3, 4],\n",
    "            \"num_examples_per_domain_per_label\": 100,\n",
    "            \"pickle_path\": \"/mnt/wd500GB/CSC500/csc500-main/datasets/wisig.node3-19.stratified_ds.2022A.pkl\",\n",
    "            \"source_or_target_dataset\": \"target\",\n",
    "            \"x_transforms\": [\"unit_power\"],\n",
    "            \"episode_transforms\": [],\n",
    "            \"domain_prefix\": \"Wisig_\",\n",
    "        },\n",
    "        {\n",
    "            \"labels\": [\n",
    "                0,\n",
    "                1,\n",
    "                2,\n",
    "                3,\n",
    "                4,\n",
    "                5,\n",
    "                6,\n",
    "                7,\n",
    "                8,\n",
    "                9,\n",
    "                10,\n",
    "                11,\n",
    "                12,\n",
    "                13,\n",
    "                14,\n",
    "                15,\n",
    "                16,\n",
    "                17,\n",
    "                18,\n",
    "            ],\n",
    "            \"domains\": [0, 1, 2],\n",
    "            \"num_examples_per_domain_per_label\": 100,\n",
    "            \"pickle_path\": \"/mnt/wd500GB/CSC500/csc500-main/datasets/metehan.stratified_ds.2022A.pkl\",\n",
    "            \"source_or_target_dataset\": \"source\",\n",
    "            \"x_transforms\": [\"unit_power\"],\n",
    "            \"episode_transforms\": [],\n",
    "            \"domain_prefix\": \"Metehan_\",\n",
    "        },\n",
    "    ],\n",
    "}\n"
   ]
  },
  {
   "cell_type": "code",
   "execution_count": 5,
   "id": "8fa1cc33",
   "metadata": {
    "execution": {
     "iopub.execute_input": "2022-03-07T08:37:36.255537Z",
     "iopub.status.busy": "2022-03-07T08:37:36.255252Z",
     "iopub.status.idle": "2022-03-07T08:37:36.267204Z",
     "shell.execute_reply": "2022-03-07T08:37:36.267608Z"
    },
    "papermill": {
     "duration": 0.029,
     "end_time": "2022-03-07T08:37:36.267730",
     "exception": false,
     "start_time": "2022-03-07T08:37:36.238730",
     "status": "completed"
    },
    "tags": []
   },
   "outputs": [],
   "source": [
    "# Set this to True if you want to run this template directly\n",
    "STANDALONE = False\n",
    "if STANDALONE:\n",
    "    print(\"parameters not injected, running with standalone_parameters\")\n",
    "    parameters = standalone_parameters\n",
    "\n",
    "if not 'parameters' in locals() and not 'parameters' in globals():\n",
    "    raise Exception(\"Parameter injection failed\")\n",
    "\n",
    "#Use an easy dict for all the parameters\n",
    "p = EasyDict(parameters)\n",
    "\n",
    "supplied_keys = set(p.keys())\n",
    "\n",
    "if  supplied_keys != required_parameters:\n",
    "    print(\"Parameters are incorrect\")\n",
    "    if len(supplied_keys - required_parameters)>0: print(\"Shouldn't have:\", str(supplied_keys - required_parameters))\n",
    "    if len(required_parameters - supplied_keys)>0: print(\"Need to have:\", str(required_parameters - supplied_keys))\n",
    "    raise RuntimeError(\"Parameters are incorrect\")\n",
    "\n"
   ]
  },
  {
   "cell_type": "code",
   "execution_count": 6,
   "id": "3a028d58",
   "metadata": {
    "execution": {
     "iopub.execute_input": "2022-03-07T08:37:36.300682Z",
     "iopub.status.busy": "2022-03-07T08:37:36.300428Z",
     "iopub.status.idle": "2022-03-07T08:37:36.313343Z",
     "shell.execute_reply": "2022-03-07T08:37:36.312933Z"
    },
    "papermill": {
     "duration": 0.028764,
     "end_time": "2022-03-07T08:37:36.313445",
     "exception": false,
     "start_time": "2022-03-07T08:37:36.284681",
     "status": "completed"
    },
    "tags": []
   },
   "outputs": [],
   "source": [
    "###################################\n",
    "# Set the RNGs and make it all deterministic\n",
    "###################################\n",
    "np.random.seed(p.seed)\n",
    "random.seed(p.seed)\n",
    "torch.manual_seed(p.seed)\n",
    "\n",
    "torch.use_deterministic_algorithms(True) "
   ]
  },
  {
   "cell_type": "code",
   "execution_count": 7,
   "id": "b691acf6",
   "metadata": {
    "execution": {
     "iopub.execute_input": "2022-03-07T08:37:36.346183Z",
     "iopub.status.busy": "2022-03-07T08:37:36.345930Z",
     "iopub.status.idle": "2022-03-07T08:37:36.354814Z",
     "shell.execute_reply": "2022-03-07T08:37:36.355013Z"
    },
    "papermill": {
     "duration": 0.023565,
     "end_time": "2022-03-07T08:37:36.355080",
     "exception": false,
     "start_time": "2022-03-07T08:37:36.331515",
     "status": "completed"
    },
    "tags": []
   },
   "outputs": [],
   "source": [
    "###########################################\n",
    "# The stratified datasets honor this\n",
    "###########################################\n",
    "torch.set_default_dtype(eval(p.torch_default_dtype))"
   ]
  },
  {
   "cell_type": "code",
   "execution_count": 8,
   "id": "b5fba671",
   "metadata": {
    "execution": {
     "iopub.execute_input": "2022-03-07T08:37:36.387342Z",
     "iopub.status.busy": "2022-03-07T08:37:36.387087Z",
     "iopub.status.idle": "2022-03-07T08:37:36.426464Z",
     "shell.execute_reply": "2022-03-07T08:37:36.425948Z"
    },
    "papermill": {
     "duration": 0.054583,
     "end_time": "2022-03-07T08:37:36.426572",
     "exception": false,
     "start_time": "2022-03-07T08:37:36.371989",
     "status": "completed"
    },
    "tags": []
   },
   "outputs": [],
   "source": [
    "###################################\n",
    "# Build the network(s)\n",
    "# Note: It's critical to do this AFTER setting the RNG\n",
    "###################################\n",
    "x_net = build_sequential(p.x_net)"
   ]
  },
  {
   "cell_type": "code",
   "execution_count": 9,
   "id": "5d7e61cc",
   "metadata": {
    "execution": {
     "iopub.execute_input": "2022-03-07T08:37:36.459906Z",
     "iopub.status.busy": "2022-03-07T08:37:36.459655Z",
     "iopub.status.idle": "2022-03-07T08:37:36.473509Z",
     "shell.execute_reply": "2022-03-07T08:37:36.473145Z"
    },
    "papermill": {
     "duration": 0.029444,
     "end_time": "2022-03-07T08:37:36.473608",
     "exception": false,
     "start_time": "2022-03-07T08:37:36.444164",
     "status": "completed"
    },
    "tags": []
   },
   "outputs": [],
   "source": [
    "start_time_secs = time.time()"
   ]
  },
  {
   "cell_type": "code",
   "execution_count": 10,
   "id": "c6b67dfd",
   "metadata": {
    "execution": {
     "iopub.execute_input": "2022-03-07T08:37:36.506849Z",
     "iopub.status.busy": "2022-03-07T08:37:36.506575Z",
     "iopub.status.idle": "2022-03-07T08:37:36.515700Z",
     "shell.execute_reply": "2022-03-07T08:37:36.515334Z"
    },
    "papermill": {
     "duration": 0.024357,
     "end_time": "2022-03-07T08:37:36.515776",
     "exception": false,
     "start_time": "2022-03-07T08:37:36.491419",
     "status": "completed"
    },
    "tags": []
   },
   "outputs": [],
   "source": [
    "p.domains_source = []\n",
    "p.domains_target = []\n",
    "\n",
    "\n",
    "train_original_source = []\n",
    "val_original_source   = []\n",
    "test_original_source  = []\n",
    "\n",
    "train_original_target = []\n",
    "val_original_target   = []\n",
    "test_original_target  = []"
   ]
  },
  {
   "cell_type": "code",
   "execution_count": 11,
   "id": "e3d9c3d3",
   "metadata": {
    "execution": {
     "iopub.execute_input": "2022-03-07T08:37:36.550004Z",
     "iopub.status.busy": "2022-03-07T08:37:36.549751Z",
     "iopub.status.idle": "2022-03-07T08:37:36.563230Z",
     "shell.execute_reply": "2022-03-07T08:37:36.562802Z"
    },
    "papermill": {
     "duration": 0.028888,
     "end_time": "2022-03-07T08:37:36.563326",
     "exception": false,
     "start_time": "2022-03-07T08:37:36.534438",
     "status": "completed"
    },
    "tags": []
   },
   "outputs": [],
   "source": [
    "# global_x_transform_func = lambda x: normalize(x.to(torch.get_default_dtype()), \"unit_power\") # unit_power, unit_mag\n",
    "# global_x_transform_func = lambda x: normalize(x, \"unit_power\") # unit_power, unit_mag"
   ]
  },
  {
   "cell_type": "code",
   "execution_count": 12,
   "id": "acb78fd2",
   "metadata": {
    "execution": {
     "iopub.execute_input": "2022-03-07T08:37:36.600807Z",
     "iopub.status.busy": "2022-03-07T08:37:36.599918Z",
     "iopub.status.idle": "2022-03-07T08:37:36.611938Z",
     "shell.execute_reply": "2022-03-07T08:37:36.611505Z"
    },
    "papermill": {
     "duration": 0.032675,
     "end_time": "2022-03-07T08:37:36.612039",
     "exception": false,
     "start_time": "2022-03-07T08:37:36.579364",
     "status": "completed"
    },
    "tags": []
   },
   "outputs": [],
   "source": [
    "def add_dataset(\n",
    "    labels,\n",
    "    domains,\n",
    "    pickle_path,\n",
    "    x_transforms,\n",
    "    episode_transforms,\n",
    "    domain_prefix,\n",
    "    num_examples_per_domain_per_label,\n",
    "    source_or_target_dataset:str,\n",
    "    iterator_seed=p.seed,\n",
    "    dataset_seed=p.dataset_seed,\n",
    "    n_shot=p.n_shot,\n",
    "    n_way=p.n_way,\n",
    "    n_query=p.n_query,\n",
    "    train_val_test_k_factors=(p.train_k_factor,p.val_k_factor,p.test_k_factor),\n",
    "):\n",
    "   \n",
    "    if x_transforms == []: x_transform = None\n",
    "    else: x_transform = get_chained_transform(x_transforms)\n",
    "    \n",
    "    if episode_transforms == []: episode_transform = None\n",
    "    else: raise Exception(\"episode_transforms not implemented\")\n",
    "    \n",
    "    episode_transform = lambda tup, _prefix=domain_prefix: (_prefix + str(tup[0]), tup[1])\n",
    "\n",
    "\n",
    "    eaf = Episodic_Accessor_Factory(\n",
    "        labels=labels,\n",
    "        domains=domains,\n",
    "        num_examples_per_domain_per_label=num_examples_per_domain_per_label,\n",
    "        iterator_seed=iterator_seed,\n",
    "        dataset_seed=dataset_seed,\n",
    "        n_shot=n_shot,\n",
    "        n_way=n_way,\n",
    "        n_query=n_query,\n",
    "        train_val_test_k_factors=train_val_test_k_factors,\n",
    "        pickle_path=pickle_path,\n",
    "        x_transform_func=x_transform,\n",
    "    )\n",
    "\n",
    "    train, val, test = eaf.get_train(), eaf.get_val(), eaf.get_test()\n",
    "    train = Lazy_Iterable_Wrapper(train, episode_transform)\n",
    "    val = Lazy_Iterable_Wrapper(val, episode_transform)\n",
    "    test = Lazy_Iterable_Wrapper(test, episode_transform)\n",
    "\n",
    "    if source_or_target_dataset==\"source\":\n",
    "        train_original_source.append(train)\n",
    "        val_original_source.append(val)\n",
    "        test_original_source.append(test)\n",
    "\n",
    "        p.domains_source.extend(\n",
    "            [domain_prefix + str(u) for u in domains]\n",
    "        )\n",
    "    elif source_or_target_dataset==\"target\":\n",
    "        train_original_target.append(train)\n",
    "        val_original_target.append(val)\n",
    "        test_original_target.append(test)\n",
    "        p.domains_target.extend(\n",
    "            [domain_prefix + str(u) for u in domains]\n",
    "        )\n",
    "    else:\n",
    "        raise Exception(f\"invalid source_or_target_dataset: {source_or_target_dataset}\")\n",
    "    "
   ]
  },
  {
   "cell_type": "code",
   "execution_count": 13,
   "id": "fe266617",
   "metadata": {
    "execution": {
     "iopub.execute_input": "2022-03-07T08:37:36.644224Z",
     "iopub.status.busy": "2022-03-07T08:37:36.643971Z",
     "iopub.status.idle": "2022-03-07T08:37:40.535340Z",
     "shell.execute_reply": "2022-03-07T08:37:40.534896Z"
    },
    "papermill": {
     "duration": 3.907709,
     "end_time": "2022-03-07T08:37:40.535452",
     "exception": false,
     "start_time": "2022-03-07T08:37:36.627743",
     "status": "completed"
    },
    "tags": []
   },
   "outputs": [],
   "source": [
    "for ds in p.datasets:\n",
    "    add_dataset(**ds)"
   ]
  },
  {
   "cell_type": "code",
   "execution_count": 14,
   "id": "b90d65ac",
   "metadata": {
    "execution": {
     "iopub.execute_input": "2022-03-07T08:37:40.569219Z",
     "iopub.status.busy": "2022-03-07T08:37:40.568961Z",
     "iopub.status.idle": "2022-03-07T08:37:40.583202Z",
     "shell.execute_reply": "2022-03-07T08:37:40.582796Z"
    },
    "papermill": {
     "duration": 0.029861,
     "end_time": "2022-03-07T08:37:40.583304",
     "exception": false,
     "start_time": "2022-03-07T08:37:40.553443",
     "status": "completed"
    },
    "tags": []
   },
   "outputs": [],
   "source": [
    "# from steves_utils.CORES.utils import (\n",
    "#     ALL_NODES,\n",
    "#     ALL_NODES_MINIMUM_1000_EXAMPLES,\n",
    "#     ALL_DAYS\n",
    "# )\n",
    "\n",
    "# add_dataset(\n",
    "#     labels=ALL_NODES,\n",
    "#     domains = ALL_DAYS,\n",
    "#     num_examples_per_domain_per_label=100,\n",
    "#     pickle_path=os.path.join(get_datasets_base_path(), \"cores.stratified_ds.2022A.pkl\"),\n",
    "#     source_or_target_dataset=\"target\",\n",
    "#     x_transform_func=global_x_transform_func,\n",
    "#     domain_modifier=lambda u: f\"cores_{u}\"\n",
    "# )"
   ]
  },
  {
   "cell_type": "code",
   "execution_count": 15,
   "id": "76db484d",
   "metadata": {
    "execution": {
     "iopub.execute_input": "2022-03-07T08:37:40.618410Z",
     "iopub.status.busy": "2022-03-07T08:37:40.618153Z",
     "iopub.status.idle": "2022-03-07T08:37:40.631726Z",
     "shell.execute_reply": "2022-03-07T08:37:40.631325Z"
    },
    "papermill": {
     "duration": 0.029041,
     "end_time": "2022-03-07T08:37:40.631826",
     "exception": false,
     "start_time": "2022-03-07T08:37:40.602785",
     "status": "completed"
    },
    "tags": []
   },
   "outputs": [],
   "source": [
    "# from steves_utils.ORACLE.utils_v2 import (\n",
    "#     ALL_DISTANCES_FEET,\n",
    "#     ALL_RUNS,\n",
    "#     ALL_SERIAL_NUMBERS,\n",
    "# )\n",
    "\n",
    "\n",
    "# add_dataset(\n",
    "#     labels=ALL_SERIAL_NUMBERS,\n",
    "#     domains = list(set(ALL_DISTANCES_FEET) - {2,62}),\n",
    "#     num_examples_per_domain_per_label=100,\n",
    "#     pickle_path=os.path.join(get_datasets_base_path(), \"oracle.Run2_framed_2000Examples_stratified_ds.2022A.pkl\"),\n",
    "#     source_or_target_dataset=\"source\",\n",
    "#     x_transform_func=global_x_transform_func,\n",
    "#     domain_modifier=lambda u: f\"oracle1_{u}\"\n",
    "# )\n"
   ]
  },
  {
   "cell_type": "code",
   "execution_count": 16,
   "id": "97dea9d2",
   "metadata": {
    "execution": {
     "iopub.execute_input": "2022-03-07T08:37:40.666391Z",
     "iopub.status.busy": "2022-03-07T08:37:40.666132Z",
     "iopub.status.idle": "2022-03-07T08:37:40.679153Z",
     "shell.execute_reply": "2022-03-07T08:37:40.678939Z"
    },
    "papermill": {
     "duration": 0.028516,
     "end_time": "2022-03-07T08:37:40.679208",
     "exception": false,
     "start_time": "2022-03-07T08:37:40.650692",
     "status": "completed"
    },
    "tags": []
   },
   "outputs": [],
   "source": [
    "# from steves_utils.ORACLE.utils_v2 import (\n",
    "#     ALL_DISTANCES_FEET,\n",
    "#     ALL_RUNS,\n",
    "#     ALL_SERIAL_NUMBERS,\n",
    "# )\n",
    "\n",
    "\n",
    "# add_dataset(\n",
    "#     labels=ALL_SERIAL_NUMBERS,\n",
    "#     domains = list(set(ALL_DISTANCES_FEET) - {2,62,56}),\n",
    "#     num_examples_per_domain_per_label=100,\n",
    "#     pickle_path=os.path.join(get_datasets_base_path(), \"oracle.Run2_framed_2000Examples_stratified_ds.2022A.pkl\"),\n",
    "#     source_or_target_dataset=\"source\",\n",
    "#     x_transform_func=global_x_transform_func,\n",
    "#     domain_modifier=lambda u: f\"oracle2_{u}\"\n",
    "# )"
   ]
  },
  {
   "cell_type": "code",
   "execution_count": 17,
   "id": "6f289866",
   "metadata": {
    "execution": {
     "iopub.execute_input": "2022-03-07T08:37:40.712181Z",
     "iopub.status.busy": "2022-03-07T08:37:40.711922Z",
     "iopub.status.idle": "2022-03-07T08:37:40.724317Z",
     "shell.execute_reply": "2022-03-07T08:37:40.724726Z"
    },
    "papermill": {
     "duration": 0.028023,
     "end_time": "2022-03-07T08:37:40.724855",
     "exception": false,
     "start_time": "2022-03-07T08:37:40.696832",
     "status": "completed"
    },
    "tags": []
   },
   "outputs": [],
   "source": [
    "# add_dataset(\n",
    "#     labels=list(range(19)),\n",
    "#     domains = [0,1,2],\n",
    "#     num_examples_per_domain_per_label=100,\n",
    "#     pickle_path=os.path.join(get_datasets_base_path(), \"metehan.stratified_ds.2022A.pkl\"),\n",
    "#     source_or_target_dataset=\"target\",\n",
    "#     x_transform_func=global_x_transform_func,\n",
    "#     domain_modifier=lambda u: f\"met_{u}\"\n",
    "# )"
   ]
  },
  {
   "cell_type": "code",
   "execution_count": 18,
   "id": "86a863c3",
   "metadata": {
    "execution": {
     "iopub.execute_input": "2022-03-07T08:37:40.760256Z",
     "iopub.status.busy": "2022-03-07T08:37:40.759999Z",
     "iopub.status.idle": "2022-03-07T08:37:40.772626Z",
     "shell.execute_reply": "2022-03-07T08:37:40.772226Z"
    },
    "papermill": {
     "duration": 0.02836,
     "end_time": "2022-03-07T08:37:40.772727",
     "exception": false,
     "start_time": "2022-03-07T08:37:40.744367",
     "status": "completed"
    },
    "tags": []
   },
   "outputs": [],
   "source": [
    "# # from steves_utils.wisig.utils import (\n",
    "# #     ALL_NODES_MINIMUM_100_EXAMPLES,\n",
    "# #     ALL_NODES_MINIMUM_500_EXAMPLES,\n",
    "# #     ALL_NODES_MINIMUM_1000_EXAMPLES,\n",
    "# #     ALL_DAYS\n",
    "# # )\n",
    "\n",
    "# import steves_utils.wisig.utils as wisig\n",
    "\n",
    "\n",
    "# add_dataset(\n",
    "#     labels=wisig.ALL_NODES_MINIMUM_100_EXAMPLES,\n",
    "#     domains = wisig.ALL_DAYS,\n",
    "#     num_examples_per_domain_per_label=100,\n",
    "#     pickle_path=os.path.join(get_datasets_base_path(), \"wisig.node3-19.stratified_ds.2022A.pkl\"),\n",
    "#     source_or_target_dataset=\"target\",\n",
    "#     x_transform_func=global_x_transform_func,\n",
    "#     domain_modifier=lambda u: f\"wisig_{u}\"\n",
    "# )"
   ]
  },
  {
   "cell_type": "code",
   "execution_count": 19,
   "id": "fd5442bc",
   "metadata": {
    "execution": {
     "iopub.execute_input": "2022-03-07T08:37:40.808634Z",
     "iopub.status.busy": "2022-03-07T08:37:40.808370Z",
     "iopub.status.idle": "2022-03-07T08:37:40.818726Z",
     "shell.execute_reply": "2022-03-07T08:37:40.818290Z"
    },
    "papermill": {
     "duration": 0.027229,
     "end_time": "2022-03-07T08:37:40.818827",
     "exception": false,
     "start_time": "2022-03-07T08:37:40.791598",
     "status": "completed"
    },
    "tags": []
   },
   "outputs": [],
   "source": [
    "###################################\n",
    "# Build the dataset\n",
    "###################################\n",
    "train_original_source = Iterable_Aggregator(train_original_source, p.seed)\n",
    "val_original_source = Iterable_Aggregator(val_original_source, p.seed)\n",
    "test_original_source = Iterable_Aggregator(test_original_source, p.seed)\n",
    "\n",
    "\n",
    "train_original_target = Iterable_Aggregator(train_original_target, p.seed)\n",
    "val_original_target = Iterable_Aggregator(val_original_target, p.seed)\n",
    "test_original_target = Iterable_Aggregator(test_original_target, p.seed)\n",
    "\n",
    "# For CNN We only use X and Y. And we only train on the source.\n",
    "# Properly form the data using a transform lambda and Lazy_Iterable_Wrapper. Finally wrap them in a dataloader\n",
    "\n",
    "transform_lambda = lambda ex: ex[1] # Original is (<domain>, <episode>) so we strip down to episode only\n",
    "\n",
    "train_processed_source = Lazy_Iterable_Wrapper(train_original_source, transform_lambda)\n",
    "val_processed_source   = Lazy_Iterable_Wrapper(val_original_source, transform_lambda)\n",
    "test_processed_source  = Lazy_Iterable_Wrapper(test_original_source, transform_lambda)\n",
    "\n",
    "train_processed_target = Lazy_Iterable_Wrapper(train_original_target, transform_lambda)\n",
    "val_processed_target   = Lazy_Iterable_Wrapper(val_original_target, transform_lambda)\n",
    "test_processed_target  = Lazy_Iterable_Wrapper(test_original_target, transform_lambda)\n",
    "\n",
    "datasets = EasyDict({\n",
    "    \"source\": {\n",
    "        \"original\": {\"train\":train_original_source, \"val\":val_original_source, \"test\":test_original_source},\n",
    "        \"processed\": {\"train\":train_processed_source, \"val\":val_processed_source, \"test\":test_processed_source}\n",
    "    },\n",
    "    \"target\": {\n",
    "        \"original\": {\"train\":train_original_target, \"val\":val_original_target, \"test\":test_original_target},\n",
    "        \"processed\": {\"train\":train_processed_target, \"val\":val_processed_target, \"test\":test_processed_target}\n",
    "    },\n",
    "})"
   ]
  },
  {
   "cell_type": "code",
   "execution_count": 20,
   "id": "5b3c01fc",
   "metadata": {
    "execution": {
     "iopub.execute_input": "2022-03-07T08:37:40.852407Z",
     "iopub.status.busy": "2022-03-07T08:37:40.852151Z",
     "iopub.status.idle": "2022-03-07T08:37:42.990198Z",
     "shell.execute_reply": "2022-03-07T08:37:42.990426Z"
    },
    "papermill": {
     "duration": 2.15537,
     "end_time": "2022-03-07T08:37:42.990507",
     "exception": false,
     "start_time": "2022-03-07T08:37:40.835137",
     "status": "completed"
    },
    "tags": []
   },
   "outputs": [
    {
     "name": "stdout",
     "output_type": "stream",
     "text": [
      "{'Metehan_0', 'Metehan_2', 'Metehan_1'}\n"
     ]
    },
    {
     "name": "stdout",
     "output_type": "stream",
     "text": [
      "{'Wisig_3', 'Wisig_2', 'Wisig_4', 'Wisig_1'}\n"
     ]
    },
    {
     "name": "stdout",
     "output_type": "stream",
     "text": [
      "tensor([[[ 0.5282,  0.3299,  0.1786,  ..., -0.3824, -0.6260, -0.5522],\n",
      "         [ 0.4698,  0.4672,  0.5245,  ..., -1.1247, -1.1558, -1.0808]],\n",
      "\n",
      "        [[ 0.4730,  0.2253,  0.2452,  ..., -0.4330, -0.5853, -0.6450],\n",
      "         [ 0.3720,  0.4192,  0.6246,  ..., -1.0776, -1.0938, -1.0505]],\n",
      "\n",
      "        [[ 0.3787,  0.3502,  0.1482,  ..., -0.4059, -0.5637, -0.7558],\n",
      "         [ 0.4560,  0.4177,  0.5956,  ..., -1.0434, -1.1748, -0.9500]],\n",
      "\n",
      "        ...,\n",
      "\n",
      "        [[ 0.3788,  0.1964,  0.1724,  ..., -0.2301, -0.4498, -0.6367],\n",
      "         [ 0.4412,  0.4052,  0.5692,  ..., -1.2299, -1.0248, -1.1028]],\n",
      "\n",
      "        [[ 0.4286,  0.3603,  0.1023,  ..., -0.2841, -0.5216, -0.5912],\n",
      "         [ 0.4213,  0.5270,  0.5314,  ..., -1.1951, -1.3060, -1.0750]],\n",
      "\n",
      "        [[ 0.3509,  0.2096,  0.1673,  ..., -0.3167, -0.4818, -0.6134],\n",
      "         [ 0.2691,  0.3038,  0.5864,  ..., -1.2270, -1.2533, -1.0202]]])\n"
     ]
    }
   ],
   "source": [
    "from steves_utils.transforms import get_average_magnitude, get_average_power\n",
    "\n",
    "print(set([u for u,_ in val_original_source]))\n",
    "print(set([u for u,_ in val_original_target]))\n",
    "\n",
    "s_x, s_y, q_x, q_y, _ = next(iter(train_processed_source))\n",
    "print(s_x)\n",
    "\n",
    "# for ds in [\n",
    "#     train_processed_source,\n",
    "#     val_processed_source,\n",
    "#     test_processed_source,\n",
    "#     train_processed_target,\n",
    "#     val_processed_target,\n",
    "#     test_processed_target\n",
    "# ]:\n",
    "#     for s_x, s_y, q_x, q_y, _ in ds:\n",
    "#         for X in (s_x, q_x):\n",
    "#             for x in X:\n",
    "#                 assert np.isclose(get_average_magnitude(x.numpy()), 1.0)\n",
    "#                 assert np.isclose(get_average_power(x.numpy()), 1.0)\n",
    "                "
   ]
  },
  {
   "cell_type": "code",
   "execution_count": 21,
   "id": "bbdacba1",
   "metadata": {
    "execution": {
     "iopub.execute_input": "2022-03-07T08:37:43.023902Z",
     "iopub.status.busy": "2022-03-07T08:37:43.023626Z",
     "iopub.status.idle": "2022-03-07T08:37:43.081057Z",
     "shell.execute_reply": "2022-03-07T08:37:43.081489Z"
    },
    "papermill": {
     "duration": 0.076141,
     "end_time": "2022-03-07T08:37:43.081626",
     "exception": false,
     "start_time": "2022-03-07T08:37:43.005485",
     "status": "completed"
    },
    "tags": []
   },
   "outputs": [
    {
     "name": "stdout",
     "output_type": "stream",
     "text": [
      "(2, 256)\n"
     ]
    }
   ],
   "source": [
    "###################################\n",
    "# Build the model\n",
    "###################################\n",
    "model = Steves_Prototypical_Network(x_net, device=p.device, x_shape=(2,256))\n",
    "optimizer = Adam(params=model.parameters(), lr=p.lr)"
   ]
  },
  {
   "cell_type": "code",
   "execution_count": 22,
   "id": "22b39ac5",
   "metadata": {
    "execution": {
     "iopub.execute_input": "2022-03-07T08:37:43.118864Z",
     "iopub.status.busy": "2022-03-07T08:37:43.118581Z",
     "iopub.status.idle": "2022-03-07T08:38:49.309334Z",
     "shell.execute_reply": "2022-03-07T08:38:49.309724Z"
    },
    "papermill": {
     "duration": 66.20807,
     "end_time": "2022-03-07T08:38:49.309846",
     "exception": false,
     "start_time": "2022-03-07T08:37:43.101776",
     "status": "completed"
    },
    "tags": []
   },
   "outputs": [
    {
     "name": "stdout",
     "output_type": "stream",
     "text": [
      "epoch: 1, [batch: 1 / 126], examples_per_second: 861.0580, train_label_loss: 2.6080, \n"
     ]
    },
    {
     "name": "stdout",
     "output_type": "stream",
     "text": [
      "epoch: 1, [batch: 13 / 126], examples_per_second: 3081.3124, train_label_loss: 0.4333, \n"
     ]
    },
    {
     "name": "stdout",
     "output_type": "stream",
     "text": [
      "epoch: 1, [batch: 26 / 126], examples_per_second: 3218.3373, train_label_loss: 0.3150, \n"
     ]
    },
    {
     "name": "stdout",
     "output_type": "stream",
     "text": [
      "epoch: 1, [batch: 38 / 126], examples_per_second: 3203.4341, train_label_loss: 0.3829, \n"
     ]
    },
    {
     "name": "stdout",
     "output_type": "stream",
     "text": [
      "epoch: 1, [batch: 51 / 126], examples_per_second: 3244.0903, train_label_loss: 0.3155, \n"
     ]
    },
    {
     "name": "stdout",
     "output_type": "stream",
     "text": [
      "epoch: 1, [batch: 63 / 126], examples_per_second: 3230.0035, train_label_loss: 0.2087, \n"
     ]
    },
    {
     "name": "stdout",
     "output_type": "stream",
     "text": [
      "epoch: 1, [batch: 76 / 126], examples_per_second: 3222.2472, train_label_loss: 0.2269, \n"
     ]
    },
    {
     "name": "stdout",
     "output_type": "stream",
     "text": [
      "epoch: 1, [batch: 88 / 126], examples_per_second: 3263.0296, train_label_loss: 0.3310, \n"
     ]
    },
    {
     "name": "stdout",
     "output_type": "stream",
     "text": [
      "epoch: 1, [batch: 101 / 126], examples_per_second: 3241.6480, train_label_loss: 0.1547, \n"
     ]
    },
    {
     "name": "stdout",
     "output_type": "stream",
     "text": [
      "epoch: 1, [batch: 113 / 126], examples_per_second: 3235.0560, train_label_loss: 0.3162, \n"
     ]
    },
    {
     "name": "stdout",
     "output_type": "stream",
     "text": [
      "=============================================================\n",
      "epoch: 1, source_val_acc_label: 0.8772, target_val_acc_label: 0.1493, source_val_label_loss: 0.3175, target_val_label_loss: 41.2745, \n",
      "=============================================================\n"
     ]
    },
    {
     "name": "stdout",
     "output_type": "stream",
     "text": [
      "New best\n"
     ]
    },
    {
     "name": "stdout",
     "output_type": "stream",
     "text": [
      "epoch: 2, [batch: 1 / 126], examples_per_second: 83.7586, train_label_loss: 0.2279, \n"
     ]
    },
    {
     "name": "stdout",
     "output_type": "stream",
     "text": [
      "epoch: 2, [batch: 13 / 126], examples_per_second: 3229.1898, train_label_loss: 0.1799, \n"
     ]
    },
    {
     "name": "stdout",
     "output_type": "stream",
     "text": [
      "epoch: 2, [batch: 26 / 126], examples_per_second: 3300.4594, train_label_loss: 0.1685, \n"
     ]
    },
    {
     "name": "stdout",
     "output_type": "stream",
     "text": [
      "epoch: 2, [batch: 38 / 126], examples_per_second: 3277.0560, train_label_loss: 0.2724, \n"
     ]
    },
    {
     "name": "stdout",
     "output_type": "stream",
     "text": [
      "epoch: 2, [batch: 51 / 126], examples_per_second: 3274.7678, train_label_loss: 0.2848, \n"
     ]
    },
    {
     "name": "stdout",
     "output_type": "stream",
     "text": [
      "epoch: 2, [batch: 63 / 126], examples_per_second: 3262.4597, train_label_loss: 0.2903, \n"
     ]
    },
    {
     "name": "stdout",
     "output_type": "stream",
     "text": [
      "epoch: 2, [batch: 76 / 126], examples_per_second: 3282.4126, train_label_loss: 0.3274, \n"
     ]
    },
    {
     "name": "stdout",
     "output_type": "stream",
     "text": [
      "epoch: 2, [batch: 88 / 126], examples_per_second: 3256.8753, train_label_loss: 0.1748, \n"
     ]
    },
    {
     "name": "stdout",
     "output_type": "stream",
     "text": [
      "epoch: 2, [batch: 101 / 126], examples_per_second: 3307.8530, train_label_loss: 0.5745, \n"
     ]
    },
    {
     "name": "stdout",
     "output_type": "stream",
     "text": [
      "epoch: 2, [batch: 113 / 126], examples_per_second: 3288.9872, train_label_loss: 0.7192, \n"
     ]
    },
    {
     "name": "stdout",
     "output_type": "stream",
     "text": [
      "=============================================================\n",
      "epoch: 2, source_val_acc_label: 0.7544, target_val_acc_label: 0.1566, source_val_label_loss: 3.8059, target_val_label_loss: 562.2523, \n",
      "=============================================================\n"
     ]
    },
    {
     "name": "stdout",
     "output_type": "stream",
     "text": [
      "epoch: 3, [batch: 1 / 126], examples_per_second: 85.0086, train_label_loss: 3.7413, \n"
     ]
    },
    {
     "name": "stdout",
     "output_type": "stream",
     "text": [
      "epoch: 3, [batch: 13 / 126], examples_per_second: 3201.1693, train_label_loss: 1.7852, \n"
     ]
    },
    {
     "name": "stdout",
     "output_type": "stream",
     "text": [
      "epoch: 3, [batch: 26 / 126], examples_per_second: 3266.2459, train_label_loss: 4.8054, \n"
     ]
    },
    {
     "name": "stdout",
     "output_type": "stream",
     "text": [
      "epoch: 3, [batch: 38 / 126], examples_per_second: 3220.7742, train_label_loss: 2.0403, \n"
     ]
    },
    {
     "name": "stdout",
     "output_type": "stream",
     "text": [
      "epoch: 3, [batch: 51 / 126], examples_per_second: 3254.4647, train_label_loss: 7.8983, \n"
     ]
    },
    {
     "name": "stdout",
     "output_type": "stream",
     "text": [
      "epoch: 3, [batch: 63 / 126], examples_per_second: 3283.4921, train_label_loss: 3.2885, \n"
     ]
    },
    {
     "name": "stdout",
     "output_type": "stream",
     "text": [
      "epoch: 3, [batch: 76 / 126], examples_per_second: 3271.7954, train_label_loss: 3.6271, \n"
     ]
    },
    {
     "name": "stdout",
     "output_type": "stream",
     "text": [
      "epoch: 3, [batch: 88 / 126], examples_per_second: 3279.3732, train_label_loss: 2.5392, \n"
     ]
    },
    {
     "name": "stdout",
     "output_type": "stream",
     "text": [
      "epoch: 3, [batch: 101 / 126], examples_per_second: 3292.1194, train_label_loss: 1.4427, \n"
     ]
    },
    {
     "name": "stdout",
     "output_type": "stream",
     "text": [
      "epoch: 3, [batch: 113 / 126], examples_per_second: 3270.1888, train_label_loss: 2.3230, \n"
     ]
    },
    {
     "name": "stdout",
     "output_type": "stream",
     "text": [
      "=============================================================\n",
      "epoch: 3, source_val_acc_label: 0.8392, target_val_acc_label: 0.2104, source_val_label_loss: 1.3039, target_val_label_loss: 64.3458, \n",
      "=============================================================\n"
     ]
    },
    {
     "name": "stdout",
     "output_type": "stream",
     "text": [
      "epoch: 4, [batch: 1 / 126], examples_per_second: 85.5385, train_label_loss: 0.3596, \n"
     ]
    },
    {
     "name": "stdout",
     "output_type": "stream",
     "text": [
      "epoch: 4, [batch: 13 / 126], examples_per_second: 3190.4574, train_label_loss: 0.9235, \n"
     ]
    },
    {
     "name": "stdout",
     "output_type": "stream",
     "text": [
      "epoch: 4, [batch: 26 / 126], examples_per_second: 3236.7097, train_label_loss: 0.2862, \n"
     ]
    },
    {
     "name": "stdout",
     "output_type": "stream",
     "text": [
      "epoch: 4, [batch: 38 / 126], examples_per_second: 3281.1195, train_label_loss: 1.0045, \n"
     ]
    },
    {
     "name": "stdout",
     "output_type": "stream",
     "text": [
      "epoch: 4, [batch: 51 / 126], examples_per_second: 3288.8335, train_label_loss: 0.7020, \n"
     ]
    },
    {
     "name": "stdout",
     "output_type": "stream",
     "text": [
      "epoch: 4, [batch: 63 / 126], examples_per_second: 3221.4143, train_label_loss: 0.4913, \n"
     ]
    },
    {
     "name": "stdout",
     "output_type": "stream",
     "text": [
      "epoch: 4, [batch: 76 / 126], examples_per_second: 3251.7434, train_label_loss: 0.6968, \n"
     ]
    },
    {
     "name": "stdout",
     "output_type": "stream",
     "text": [
      "epoch: 4, [batch: 88 / 126], examples_per_second: 3334.3979, train_label_loss: 0.6776, \n"
     ]
    },
    {
     "name": "stdout",
     "output_type": "stream",
     "text": [
      "epoch: 4, [batch: 101 / 126], examples_per_second: 3234.6945, train_label_loss: 1.0747, \n"
     ]
    },
    {
     "name": "stdout",
     "output_type": "stream",
     "text": [
      "epoch: 4, [batch: 113 / 126], examples_per_second: 3315.2208, train_label_loss: 0.5910, \n"
     ]
    },
    {
     "name": "stdout",
     "output_type": "stream",
     "text": [
      "=============================================================\n",
      "epoch: 4, source_val_acc_label: 0.7924, target_val_acc_label: 0.3679, source_val_label_loss: 0.8214, target_val_label_loss: 56.9219, \n",
      "=============================================================\n"
     ]
    },
    {
     "name": "stdout",
     "output_type": "stream",
     "text": [
      "epoch: 5, [batch: 1 / 126], examples_per_second: 85.6918, train_label_loss: 0.4502, \n"
     ]
    },
    {
     "name": "stdout",
     "output_type": "stream",
     "text": [
      "epoch: 5, [batch: 13 / 126], examples_per_second: 3202.6445, train_label_loss: 0.4495, \n"
     ]
    },
    {
     "name": "stdout",
     "output_type": "stream",
     "text": [
      "epoch: 5, [batch: 26 / 126], examples_per_second: 3288.9233, train_label_loss: 0.4738, \n"
     ]
    },
    {
     "name": "stdout",
     "output_type": "stream",
     "text": [
      "epoch: 5, [batch: 38 / 126], examples_per_second: 3287.0857, train_label_loss: 0.3546, \n"
     ]
    },
    {
     "name": "stdout",
     "output_type": "stream",
     "text": [
      "epoch: 5, [batch: 51 / 126], examples_per_second: 3210.3848, train_label_loss: 0.1279, \n"
     ]
    },
    {
     "name": "stdout",
     "output_type": "stream",
     "text": [
      "epoch: 5, [batch: 63 / 126], examples_per_second: 3301.4682, train_label_loss: 0.1703, \n"
     ]
    },
    {
     "name": "stdout",
     "output_type": "stream",
     "text": [
      "epoch: 5, [batch: 76 / 126], examples_per_second: 3263.2540, train_label_loss: 0.5512, \n"
     ]
    },
    {
     "name": "stdout",
     "output_type": "stream",
     "text": [
      "epoch: 5, [batch: 88 / 126], examples_per_second: 3303.5827, train_label_loss: 0.3806, \n"
     ]
    },
    {
     "name": "stdout",
     "output_type": "stream",
     "text": [
      "epoch: 5, [batch: 101 / 126], examples_per_second: 3306.9027, train_label_loss: 0.4216, \n"
     ]
    },
    {
     "name": "stdout",
     "output_type": "stream",
     "text": [
      "epoch: 5, [batch: 113 / 126], examples_per_second: 3294.3396, train_label_loss: 0.7110, \n"
     ]
    },
    {
     "name": "stdout",
     "output_type": "stream",
     "text": [
      "=============================================================\n",
      "epoch: 5, source_val_acc_label: 0.8582, target_val_acc_label: 0.3900, source_val_label_loss: 0.4110, target_val_label_loss: 27.5952, \n",
      "=============================================================\n"
     ]
    },
    {
     "name": "stdout",
     "output_type": "stream",
     "text": [
      "New best\n"
     ]
    },
    {
     "name": "stdout",
     "output_type": "stream",
     "text": [
      "epoch: 6, [batch: 1 / 126], examples_per_second: 82.0491, train_label_loss: 0.4020, \n"
     ]
    },
    {
     "name": "stdout",
     "output_type": "stream",
     "text": [
      "epoch: 6, [batch: 13 / 126], examples_per_second: 3213.9504, train_label_loss: 0.1404, \n"
     ]
    },
    {
     "name": "stdout",
     "output_type": "stream",
     "text": [
      "epoch: 6, [batch: 26 / 126], examples_per_second: 3262.3600, train_label_loss: 0.4816, \n"
     ]
    },
    {
     "name": "stdout",
     "output_type": "stream",
     "text": [
      "epoch: 6, [batch: 38 / 126], examples_per_second: 3282.0902, train_label_loss: 0.2032, \n"
     ]
    },
    {
     "name": "stdout",
     "output_type": "stream",
     "text": [
      "epoch: 6, [batch: 51 / 126], examples_per_second: 3259.8758, train_label_loss: 0.2765, \n"
     ]
    },
    {
     "name": "stdout",
     "output_type": "stream",
     "text": [
      "epoch: 6, [batch: 63 / 126], examples_per_second: 3293.3072, train_label_loss: 0.1983, \n"
     ]
    },
    {
     "name": "stdout",
     "output_type": "stream",
     "text": [
      "epoch: 6, [batch: 76 / 126], examples_per_second: 3289.1865, train_label_loss: 0.1785, \n"
     ]
    },
    {
     "name": "stdout",
     "output_type": "stream",
     "text": [
      "epoch: 6, [batch: 88 / 126], examples_per_second: 3248.2465, train_label_loss: 0.3374, \n"
     ]
    },
    {
     "name": "stdout",
     "output_type": "stream",
     "text": [
      "epoch: 6, [batch: 101 / 126], examples_per_second: 3266.0626, train_label_loss: 0.3716, \n"
     ]
    },
    {
     "name": "stdout",
     "output_type": "stream",
     "text": [
      "epoch: 6, [batch: 113 / 126], examples_per_second: 3280.1156, train_label_loss: 0.3013, \n"
     ]
    },
    {
     "name": "stdout",
     "output_type": "stream",
     "text": [
      "=============================================================\n",
      "epoch: 6, source_val_acc_label: 0.8655, target_val_acc_label: 0.3577, source_val_label_loss: 0.3595, target_val_label_loss: 21.1193, \n",
      "=============================================================\n"
     ]
    },
    {
     "name": "stdout",
     "output_type": "stream",
     "text": [
      "New best\n"
     ]
    },
    {
     "name": "stdout",
     "output_type": "stream",
     "text": [
      "epoch: 7, [batch: 1 / 126], examples_per_second: 82.9041, train_label_loss: 0.3959, \n"
     ]
    },
    {
     "name": "stdout",
     "output_type": "stream",
     "text": [
      "epoch: 7, [batch: 13 / 126], examples_per_second: 3258.0603, train_label_loss: 0.3315, \n"
     ]
    },
    {
     "name": "stdout",
     "output_type": "stream",
     "text": [
      "epoch: 7, [batch: 26 / 126], examples_per_second: 3266.9854, train_label_loss: 0.3114, \n"
     ]
    },
    {
     "name": "stdout",
     "output_type": "stream",
     "text": [
      "epoch: 7, [batch: 38 / 126], examples_per_second: 3274.4146, train_label_loss: 0.1592, \n"
     ]
    },
    {
     "name": "stdout",
     "output_type": "stream",
     "text": [
      "epoch: 7, [batch: 51 / 126], examples_per_second: 3272.5954, train_label_loss: 0.4306, \n"
     ]
    },
    {
     "name": "stdout",
     "output_type": "stream",
     "text": [
      "epoch: 7, [batch: 63 / 126], examples_per_second: 3282.9105, train_label_loss: 0.0646, \n"
     ]
    },
    {
     "name": "stdout",
     "output_type": "stream",
     "text": [
      "epoch: 7, [batch: 76 / 126], examples_per_second: 3272.4817, train_label_loss: 0.3923, \n"
     ]
    },
    {
     "name": "stdout",
     "output_type": "stream",
     "text": [
      "epoch: 7, [batch: 88 / 126], examples_per_second: 3320.9750, train_label_loss: 0.1809, \n"
     ]
    },
    {
     "name": "stdout",
     "output_type": "stream",
     "text": [
      "epoch: 7, [batch: 101 / 126], examples_per_second: 3312.9071, train_label_loss: 0.3784, \n"
     ]
    },
    {
     "name": "stdout",
     "output_type": "stream",
     "text": [
      "epoch: 7, [batch: 113 / 126], examples_per_second: 3341.9044, train_label_loss: 0.5558, \n"
     ]
    },
    {
     "name": "stdout",
     "output_type": "stream",
     "text": [
      "=============================================================\n",
      "epoch: 7, source_val_acc_label: 0.8538, target_val_acc_label: 0.3551, source_val_label_loss: 0.4016, target_val_label_loss: 25.7271, \n",
      "=============================================================\n"
     ]
    },
    {
     "name": "stdout",
     "output_type": "stream",
     "text": [
      "epoch: 8, [batch: 1 / 126], examples_per_second: 85.2587, train_label_loss: 0.3977, \n"
     ]
    },
    {
     "name": "stdout",
     "output_type": "stream",
     "text": [
      "epoch: 8, [batch: 13 / 126], examples_per_second: 3233.6733, train_label_loss: 0.1144, \n"
     ]
    },
    {
     "name": "stdout",
     "output_type": "stream",
     "text": [
      "epoch: 8, [batch: 26 / 126], examples_per_second: 3236.5722, train_label_loss: 0.5067, \n"
     ]
    },
    {
     "name": "stdout",
     "output_type": "stream",
     "text": [
      "epoch: 8, [batch: 38 / 126], examples_per_second: 3224.2491, train_label_loss: 0.1754, \n"
     ]
    },
    {
     "name": "stdout",
     "output_type": "stream",
     "text": [
      "epoch: 8, [batch: 51 / 126], examples_per_second: 3280.4482, train_label_loss: 0.2688, \n"
     ]
    },
    {
     "name": "stdout",
     "output_type": "stream",
     "text": [
      "epoch: 8, [batch: 63 / 126], examples_per_second: 3266.5205, train_label_loss: 0.1520, \n"
     ]
    },
    {
     "name": "stdout",
     "output_type": "stream",
     "text": [
      "epoch: 8, [batch: 76 / 126], examples_per_second: 3237.3388, train_label_loss: 0.2000, \n"
     ]
    },
    {
     "name": "stdout",
     "output_type": "stream",
     "text": [
      "epoch: 8, [batch: 88 / 126], examples_per_second: 3222.9820, train_label_loss: 0.2643, \n"
     ]
    },
    {
     "name": "stdout",
     "output_type": "stream",
     "text": [
      "epoch: 8, [batch: 101 / 126], examples_per_second: 3223.3982, train_label_loss: 0.2694, \n"
     ]
    },
    {
     "name": "stdout",
     "output_type": "stream",
     "text": [
      "epoch: 8, [batch: 113 / 126], examples_per_second: 3232.4141, train_label_loss: 0.1959, \n"
     ]
    },
    {
     "name": "stdout",
     "output_type": "stream",
     "text": [
      "=============================================================\n",
      "epoch: 8, source_val_acc_label: 0.8523, target_val_acc_label: 0.3949, source_val_label_loss: 0.4041, target_val_label_loss: 20.6149, \n",
      "=============================================================\n"
     ]
    },
    {
     "name": "stdout",
     "output_type": "stream",
     "text": [
      "New best\n"
     ]
    },
    {
     "name": "stdout",
     "output_type": "stream",
     "text": [
      "epoch: 9, [batch: 1 / 126], examples_per_second: 82.5429, train_label_loss: 0.1515, \n"
     ]
    },
    {
     "name": "stdout",
     "output_type": "stream",
     "text": [
      "epoch: 9, [batch: 13 / 126], examples_per_second: 3232.2087, train_label_loss: 0.3187, \n"
     ]
    },
    {
     "name": "stdout",
     "output_type": "stream",
     "text": [
      "epoch: 9, [batch: 26 / 126], examples_per_second: 3263.3815, train_label_loss: 0.5585, \n"
     ]
    },
    {
     "name": "stdout",
     "output_type": "stream",
     "text": [
      "epoch: 9, [batch: 38 / 126], examples_per_second: 3257.6830, train_label_loss: 0.6168, \n"
     ]
    },
    {
     "name": "stdout",
     "output_type": "stream",
     "text": [
      "epoch: 9, [batch: 51 / 126], examples_per_second: 3286.9052, train_label_loss: 0.2576, \n"
     ]
    },
    {
     "name": "stdout",
     "output_type": "stream",
     "text": [
      "epoch: 9, [batch: 63 / 126], examples_per_second: 3271.0143, train_label_loss: 0.2524, \n"
     ]
    },
    {
     "name": "stdout",
     "output_type": "stream",
     "text": [
      "epoch: 9, [batch: 76 / 126], examples_per_second: 3261.2283, train_label_loss: 0.1278, \n"
     ]
    },
    {
     "name": "stdout",
     "output_type": "stream",
     "text": [
      "epoch: 9, [batch: 88 / 126], examples_per_second: 3268.8228, train_label_loss: 0.2601, \n"
     ]
    },
    {
     "name": "stdout",
     "output_type": "stream",
     "text": [
      "epoch: 9, [batch: 101 / 126], examples_per_second: 3294.4833, train_label_loss: 0.1192, \n"
     ]
    },
    {
     "name": "stdout",
     "output_type": "stream",
     "text": [
      "epoch: 9, [batch: 113 / 126], examples_per_second: 3288.6637, train_label_loss: 0.1510, \n"
     ]
    },
    {
     "name": "stdout",
     "output_type": "stream",
     "text": [
      "=============================================================\n",
      "epoch: 9, source_val_acc_label: 0.8596, target_val_acc_label: 0.4082, source_val_label_loss: 0.4102, target_val_label_loss: 24.4930, \n",
      "=============================================================\n"
     ]
    },
    {
     "name": "stdout",
     "output_type": "stream",
     "text": [
      "epoch: 10, [batch: 1 / 126], examples_per_second: 85.1585, train_label_loss: 0.2886, \n"
     ]
    },
    {
     "name": "stdout",
     "output_type": "stream",
     "text": [
      "epoch: 10, [batch: 13 / 126], examples_per_second: 3209.6680, train_label_loss: 0.1549, \n"
     ]
    },
    {
     "name": "stdout",
     "output_type": "stream",
     "text": [
      "epoch: 10, [batch: 26 / 126], examples_per_second: 3253.0932, train_label_loss: 0.2073, \n"
     ]
    },
    {
     "name": "stdout",
     "output_type": "stream",
     "text": [
      "epoch: 10, [batch: 38 / 126], examples_per_second: 3235.5529, train_label_loss: 0.1808, \n"
     ]
    },
    {
     "name": "stdout",
     "output_type": "stream",
     "text": [
      "epoch: 10, [batch: 51 / 126], examples_per_second: 3283.7110, train_label_loss: 0.1288, \n"
     ]
    },
    {
     "name": "stdout",
     "output_type": "stream",
     "text": [
      "epoch: 10, [batch: 63 / 126], examples_per_second: 3261.4672, train_label_loss: 0.1448, \n"
     ]
    },
    {
     "name": "stdout",
     "output_type": "stream",
     "text": [
      "epoch: 10, [batch: 76 / 126], examples_per_second: 3257.4056, train_label_loss: 0.0546, \n"
     ]
    },
    {
     "name": "stdout",
     "output_type": "stream",
     "text": [
      "epoch: 10, [batch: 88 / 126], examples_per_second: 3306.8248, train_label_loss: 0.2849, \n"
     ]
    },
    {
     "name": "stdout",
     "output_type": "stream",
     "text": [
      "epoch: 10, [batch: 101 / 126], examples_per_second: 3294.3827, train_label_loss: 0.5296, \n"
     ]
    },
    {
     "name": "stdout",
     "output_type": "stream",
     "text": [
      "epoch: 10, [batch: 113 / 126], examples_per_second: 3261.7119, train_label_loss: 0.2864, \n"
     ]
    },
    {
     "name": "stdout",
     "output_type": "stream",
     "text": [
      "=============================================================\n",
      "epoch: 10, source_val_acc_label: 0.8523, target_val_acc_label: 0.3622, source_val_label_loss: 0.4151, target_val_label_loss: 24.4312, \n",
      "=============================================================\n"
     ]
    },
    {
     "name": "stdout",
     "output_type": "stream",
     "text": [
      "epoch: 11, [batch: 1 / 126], examples_per_second: 85.7794, train_label_loss: 0.3368, \n"
     ]
    },
    {
     "name": "stdout",
     "output_type": "stream",
     "text": [
      "epoch: 11, [batch: 13 / 126], examples_per_second: 3236.5801, train_label_loss: 0.0944, \n"
     ]
    },
    {
     "name": "stdout",
     "output_type": "stream",
     "text": [
      "epoch: 11, [batch: 26 / 126], examples_per_second: 3219.2154, train_label_loss: 0.3482, \n"
     ]
    },
    {
     "name": "stdout",
     "output_type": "stream",
     "text": [
      "epoch: 11, [batch: 38 / 126], examples_per_second: 3236.1595, train_label_loss: 0.1266, \n"
     ]
    },
    {
     "name": "stdout",
     "output_type": "stream",
     "text": [
      "epoch: 11, [batch: 51 / 126], examples_per_second: 3281.2108, train_label_loss: 0.1308, \n"
     ]
    },
    {
     "name": "stdout",
     "output_type": "stream",
     "text": [
      "epoch: 11, [batch: 63 / 126], examples_per_second: 3241.8027, train_label_loss: 0.3405, \n"
     ]
    },
    {
     "name": "stdout",
     "output_type": "stream",
     "text": [
      "epoch: 11, [batch: 76 / 126], examples_per_second: 3252.0414, train_label_loss: 0.2611, \n"
     ]
    },
    {
     "name": "stdout",
     "output_type": "stream",
     "text": [
      "epoch: 11, [batch: 88 / 126], examples_per_second: 3216.2204, train_label_loss: 0.0497, \n"
     ]
    },
    {
     "name": "stdout",
     "output_type": "stream",
     "text": [
      "epoch: 11, [batch: 101 / 126], examples_per_second: 3262.2573, train_label_loss: 0.3607, \n"
     ]
    },
    {
     "name": "stdout",
     "output_type": "stream",
     "text": [
      "epoch: 11, [batch: 113 / 126], examples_per_second: 3263.2256, train_label_loss: 0.3704, \n"
     ]
    },
    {
     "name": "stdout",
     "output_type": "stream",
     "text": [
      "=============================================================\n",
      "epoch: 11, source_val_acc_label: 0.8436, target_val_acc_label: 0.3901, source_val_label_loss: 0.4471, target_val_label_loss: 21.1206, \n",
      "=============================================================\n"
     ]
    },
    {
     "name": "stdout",
     "output_type": "stream",
     "text": [
      "epoch: 12, [batch: 1 / 126], examples_per_second: 85.6978, train_label_loss: 0.1347, \n"
     ]
    },
    {
     "name": "stdout",
     "output_type": "stream",
     "text": [
      "epoch: 12, [batch: 13 / 126], examples_per_second: 3198.8928, train_label_loss: 0.2551, \n"
     ]
    },
    {
     "name": "stdout",
     "output_type": "stream",
     "text": [
      "epoch: 12, [batch: 26 / 126], examples_per_second: 3217.9535, train_label_loss: 0.1148, \n"
     ]
    },
    {
     "name": "stdout",
     "output_type": "stream",
     "text": [
      "epoch: 12, [batch: 38 / 126], examples_per_second: 3267.3754, train_label_loss: 0.2055, \n"
     ]
    },
    {
     "name": "stdout",
     "output_type": "stream",
     "text": [
      "epoch: 12, [batch: 51 / 126], examples_per_second: 3236.8250, train_label_loss: 0.2212, \n"
     ]
    },
    {
     "name": "stdout",
     "output_type": "stream",
     "text": [
      "epoch: 12, [batch: 63 / 126], examples_per_second: 3260.2041, train_label_loss: 0.1684, \n"
     ]
    },
    {
     "name": "stdout",
     "output_type": "stream",
     "text": [
      "epoch: 12, [batch: 76 / 126], examples_per_second: 3254.8532, train_label_loss: 0.2505, \n"
     ]
    },
    {
     "name": "stdout",
     "output_type": "stream",
     "text": [
      "epoch: 12, [batch: 88 / 126], examples_per_second: 3256.6623, train_label_loss: 0.0957, \n"
     ]
    },
    {
     "name": "stdout",
     "output_type": "stream",
     "text": [
      "epoch: 12, [batch: 101 / 126], examples_per_second: 3284.2544, train_label_loss: 0.2308, \n"
     ]
    },
    {
     "name": "stdout",
     "output_type": "stream",
     "text": [
      "epoch: 12, [batch: 113 / 126], examples_per_second: 3253.8854, train_label_loss: 0.1343, \n"
     ]
    },
    {
     "name": "stdout",
     "output_type": "stream",
     "text": [
      "=============================================================\n",
      "epoch: 12, source_val_acc_label: 0.8640, target_val_acc_label: 0.3684, source_val_label_loss: 0.4019, target_val_label_loss: 22.2997, \n",
      "=============================================================\n"
     ]
    },
    {
     "name": "stdout",
     "output_type": "stream",
     "text": [
      "Patience (3) exhausted\n"
     ]
    }
   ],
   "source": [
    "###################################\n",
    "# train\n",
    "###################################\n",
    "jig = PTN_Train_Eval_Test_Jig(model, p.BEST_MODEL_PATH, p.device)\n",
    "\n",
    "jig.train(\n",
    "    train_iterable=datasets.source.processed.train,\n",
    "    source_val_iterable=datasets.source.processed.val,\n",
    "    target_val_iterable=datasets.target.processed.val,\n",
    "    num_epochs=p.n_epoch,\n",
    "    num_logs_per_epoch=p.NUM_LOGS_PER_EPOCH,\n",
    "    patience=p.patience,\n",
    "    optimizer=optimizer,\n",
    "    criteria_for_best=p.criteria_for_best,\n",
    ")"
   ]
  },
  {
   "cell_type": "code",
   "execution_count": 23,
   "id": "31e8fabf",
   "metadata": {
    "execution": {
     "iopub.execute_input": "2022-03-07T08:38:49.392452Z",
     "iopub.status.busy": "2022-03-07T08:38:49.392201Z",
     "iopub.status.idle": "2022-03-07T08:38:49.407869Z",
     "shell.execute_reply": "2022-03-07T08:38:49.407423Z"
    },
    "papermill": {
     "duration": 0.05601,
     "end_time": "2022-03-07T08:38:49.407960",
     "exception": false,
     "start_time": "2022-03-07T08:38:49.351950",
     "status": "completed"
    },
    "tags": []
   },
   "outputs": [],
   "source": [
    "total_experiment_time_secs = time.time() - start_time_secs"
   ]
  },
  {
   "cell_type": "code",
   "execution_count": 24,
   "id": "87b9595b",
   "metadata": {
    "execution": {
     "iopub.execute_input": "2022-03-07T08:38:49.494656Z",
     "iopub.status.busy": "2022-03-07T08:38:49.494356Z",
     "iopub.status.idle": "2022-03-07T08:39:00.878887Z",
     "shell.execute_reply": "2022-03-07T08:39:00.879315Z"
    },
    "papermill": {
     "duration": 11.428212,
     "end_time": "2022-03-07T08:39:00.879467",
     "exception": false,
     "start_time": "2022-03-07T08:38:49.451255",
     "status": "completed"
    },
    "tags": []
   },
   "outputs": [],
   "source": [
    "###################################\n",
    "# Evaluate the model\n",
    "###################################\n",
    "source_test_label_accuracy, source_test_label_loss = jig.test(datasets.source.processed.test)\n",
    "target_test_label_accuracy, target_test_label_loss = jig.test(datasets.target.processed.test)\n",
    "\n",
    "source_val_label_accuracy, source_val_label_loss = jig.test(datasets.source.processed.val)\n",
    "target_val_label_accuracy, target_val_label_loss = jig.test(datasets.target.processed.val)\n",
    "\n",
    "history = jig.get_history()\n",
    "\n",
    "total_epochs_trained = len(history[\"epoch_indices\"])\n",
    "\n",
    "val_dl = Iterable_Aggregator((datasets.source.original.val,datasets.target.original.val))\n",
    "\n",
    "confusion = ptn_confusion_by_domain_over_dataloader(model, p.device, val_dl)\n",
    "per_domain_accuracy = per_domain_accuracy_from_confusion(confusion)\n",
    "\n",
    "# Add a key to per_domain_accuracy for if it was a source domain\n",
    "for domain, accuracy in per_domain_accuracy.items():\n",
    "    per_domain_accuracy[domain] = {\n",
    "        \"accuracy\": accuracy,\n",
    "        \"source?\": domain in p.domains_source\n",
    "    }\n",
    "\n",
    "# Do an independent accuracy assesment JUST TO BE SURE!\n",
    "# _source_test_label_accuracy = independent_accuracy_assesment(model, datasets.source.processed.test, p.device)\n",
    "# _target_test_label_accuracy = independent_accuracy_assesment(model, datasets.target.processed.test, p.device)\n",
    "# _source_val_label_accuracy = independent_accuracy_assesment(model, datasets.source.processed.val, p.device)\n",
    "# _target_val_label_accuracy = independent_accuracy_assesment(model, datasets.target.processed.val, p.device)\n",
    "\n",
    "# assert(_source_test_label_accuracy == source_test_label_accuracy)\n",
    "# assert(_target_test_label_accuracy == target_test_label_accuracy)\n",
    "# assert(_source_val_label_accuracy == source_val_label_accuracy)\n",
    "# assert(_target_val_label_accuracy == target_val_label_accuracy)\n",
    "\n",
    "experiment = {\n",
    "    \"experiment_name\": p.experiment_name,\n",
    "    \"parameters\": dict(p),\n",
    "    \"results\": {\n",
    "        \"source_test_label_accuracy\": source_test_label_accuracy,\n",
    "        \"source_test_label_loss\": source_test_label_loss,\n",
    "        \"target_test_label_accuracy\": target_test_label_accuracy,\n",
    "        \"target_test_label_loss\": target_test_label_loss,\n",
    "        \"source_val_label_accuracy\": source_val_label_accuracy,\n",
    "        \"source_val_label_loss\": source_val_label_loss,\n",
    "        \"target_val_label_accuracy\": target_val_label_accuracy,\n",
    "        \"target_val_label_loss\": target_val_label_loss,\n",
    "        \"total_epochs_trained\": total_epochs_trained,\n",
    "        \"total_experiment_time_secs\": total_experiment_time_secs,\n",
    "        \"confusion\": confusion,\n",
    "        \"per_domain_accuracy\": per_domain_accuracy,\n",
    "    },\n",
    "    \"history\": history,\n",
    "    \"dataset_metrics\": get_dataset_metrics(datasets, \"ptn\"),\n",
    "}"
   ]
  },
  {
   "cell_type": "code",
   "execution_count": 25,
   "id": "54a21829",
   "metadata": {
    "execution": {
     "iopub.execute_input": "2022-03-07T08:39:00.961941Z",
     "iopub.status.busy": "2022-03-07T08:39:00.961682Z",
     "iopub.status.idle": "2022-03-07T08:39:01.138412Z",
     "shell.execute_reply": "2022-03-07T08:39:01.137950Z"
    },
    "papermill": {
     "duration": 0.216911,
     "end_time": "2022-03-07T08:39:01.138507",
     "exception": false,
     "start_time": "2022-03-07T08:39:00.921596",
     "status": "completed"
    },
    "tags": []
   },
   "outputs": [
    {
     "data": {
      "image/png": "[encoded data removed]",
      "text/plain": [
       "<Figure size 1080x504 with 1 Axes>"
      ]
     },
     "metadata": {
      "needs_background": "light"
     },
     "output_type": "display_data"
    }
   ],
   "source": [
    "ax = get_loss_curve(experiment)\n",
    "plt.show()"
   ]
  },
  {
   "cell_type": "code",
   "execution_count": 26,
   "id": "fd8a0f60",
   "metadata": {
    "execution": {
     "iopub.execute_input": "2022-03-07T08:39:01.222516Z",
     "iopub.status.busy": "2022-03-07T08:39:01.222266Z",
     "iopub.status.idle": "2022-03-07T08:39:01.400509Z",
     "shell.execute_reply": "2022-03-07T08:39:01.400262Z"
    },
    "papermill": {
     "duration": 0.218914,
     "end_time": "2022-03-07T08:39:01.400570",
     "exception": false,
     "start_time": "2022-03-07T08:39:01.181656",
     "status": "completed"
    },
    "tags": []
   },
   "outputs": [
    {
     "data": {
      "text/plain": [
       "<matplotlib.axes._subplots.AxesSubplot at 0x7f7f2b1f7a30>"
      ]
     },
     "execution_count": 26,
     "metadata": {},
     "output_type": "execute_result"
    },
    {
     "data": {
      "image/png": "[encoded data removed]",
      "text/plain": [
       "<Figure size 1080x504 with 1 Axes>"
      ]
     },
     "metadata": {
      "needs_background": "light"
     },
     "output_type": "display_data"
    }
   ],
   "source": [
    "get_results_table(experiment)"
   ]
  },
  {
   "cell_type": "code",
   "execution_count": 27,
   "id": "cf8dc689",
   "metadata": {
    "execution": {
     "iopub.execute_input": "2022-03-07T08:39:01.487606Z",
     "iopub.status.busy": "2022-03-07T08:39:01.487353Z",
     "iopub.status.idle": "2022-03-07T08:39:01.666778Z",
     "shell.execute_reply": "2022-03-07T08:39:01.666305Z"
    },
    "papermill": {
     "duration": 0.223935,
     "end_time": "2022-03-07T08:39:01.666876",
     "exception": false,
     "start_time": "2022-03-07T08:39:01.442941",
     "status": "completed"
    },
    "tags": []
   },
   "outputs": [
    {
     "data": {
      "text/plain": [
       "<matplotlib.axes._subplots.AxesSubplot at 0x7f7f2b574f10>"
      ]
     },
     "execution_count": 27,
     "metadata": {},
     "output_type": "execute_result"
    },
    {
     "data": {
      "image/png": "[encoded data removed]",
      "text/plain": [
       "<Figure size 1080x504 with 1 Axes>"
      ]
     },
     "metadata": {
      "needs_background": "light"
     },
     "output_type": "display_data"
    }
   ],
   "source": [
    "get_domain_accuracies(experiment)"
   ]
  },
  {
   "cell_type": "code",
   "execution_count": 28,
   "id": "a74ae082",
   "metadata": {
    "execution": {
     "iopub.execute_input": "2022-03-07T08:39:01.757250Z",
     "iopub.status.busy": "2022-03-07T08:39:01.756995Z",
     "iopub.status.idle": "2022-03-07T08:39:01.772271Z",
     "shell.execute_reply": "2022-03-07T08:39:01.772025Z"
    },
    "papermill": {
     "duration": 0.05888,
     "end_time": "2022-03-07T08:39:01.772321",
     "exception": false,
     "start_time": "2022-03-07T08:39:01.713441",
     "status": "completed"
    },
    "tags": []
   },
   "outputs": [
    {
     "name": "stdout",
     "output_type": "stream",
     "text": [
      "Source Test Label Accuracy: 0.8347953216374269 Target Test Label Accuracy: 0.38898026315789475\n",
      "Source Val Label Accuracy: 0.8523391812865497 Target Val Label Accuracy: 0.3949013157894737\n"
     ]
    }
   ],
   "source": [
    "print(\"Source Test Label Accuracy:\", experiment[\"results\"][\"source_test_label_accuracy\"], \"Target Test Label Accuracy:\", experiment[\"results\"][\"target_test_label_accuracy\"])\n",
    "print(\"Source Val Label Accuracy:\", experiment[\"results\"][\"source_val_label_accuracy\"], \"Target Val Label Accuracy:\", experiment[\"results\"][\"target_val_label_accuracy\"])"
   ]
  },
  {
   "cell_type": "code",
   "execution_count": 29,
   "id": "dacca602",
   "metadata": {
    "execution": {
     "iopub.execute_input": "2022-03-07T08:39:01.856571Z",
     "iopub.status.busy": "2022-03-07T08:39:01.856319Z",
     "iopub.status.idle": "2022-03-07T08:39:01.872026Z",
     "shell.execute_reply": "2022-03-07T08:39:01.871777Z"
    },
    "papermill": {
     "duration": 0.058422,
     "end_time": "2022-03-07T08:39:01.872078",
     "exception": false,
     "start_time": "2022-03-07T08:39:01.813656",
     "status": "completed"
    },
    "tags": [
     "experiment_json"
    ]
   },
   "outputs": [
    {
     "data": {
      "text/plain": [
       "'{\"experiment_name\": \"tl_1_wisig-metehan\", \"parameters\": {\"experiment_name\": \"tl_1_wisig-metehan\", \"device\": \"cuda\", \"lr\": 0.001, \"seed\": 1337, \"dataset_seed\": 1337, \"n_shot\": 3, \"n_query\": 2, \"train_k_factor\": 3, \"val_k_factor\": 2, \"test_k_factor\": 2, \"torch_default_dtype\": \"torch.float32\", \"n_epoch\": 50, \"patience\": 3, \"criteria_for_best\": \"target_loss\", \"x_net\": [{\"class\": \"nnReshape\", \"kargs\": {\"shape\": [-1, 1, 2, 256]}}, {\"class\": \"Conv2d\", \"kargs\": {\"in_channels\": 1, \"out_channels\": 256, \"kernel_size\": [1, 7], \"bias\": false, \"padding\": [0, 3]}}, {\"class\": \"ReLU\", \"kargs\": {\"inplace\": true}}, {\"class\": \"BatchNorm2d\", \"kargs\": {\"num_features\": 256}}, {\"class\": \"Conv2d\", \"kargs\": {\"in_channels\": 256, \"out_channels\": 80, \"kernel_size\": [2, 7], \"bias\": true, \"padding\": [0, 3]}}, {\"class\": \"ReLU\", \"kargs\": {\"inplace\": true}}, {\"class\": \"BatchNorm2d\", \"kargs\": {\"num_features\": 80}}, {\"class\": \"Flatten\", \"kargs\": {}}, {\"class\": \"Linear\", \"kargs\": {\"in_features\": 20480, \"out_features\": 256}}, {\"class\": \"ReLU\", \"kargs\": {\"inplace\": true}}, {\"class\": \"BatchNorm1d\", \"kargs\": {\"num_features\": 256}}, {\"class\": \"Linear\", \"kargs\": {\"in_features\": 256, \"out_features\": 256}}], \"NUM_LOGS_PER_EPOCH\": 10, \"BEST_MODEL_PATH\": \"./best_model.pth\", \"n_way\": 19, \"datasets\": [{\"labels\": [\"1-10\", \"1-12\", \"1-14\", \"1-16\", \"1-18\", \"1-19\", \"1-8\", \"10-11\", \"10-17\", \"10-4\", \"10-7\", \"11-1\", \"11-10\", \"11-19\", \"11-20\", \"11-4\", \"11-7\", \"12-19\", \"12-20\", \"12-7\", \"13-14\", \"13-18\", \"13-19\", \"13-20\", \"13-3\", \"13-7\", \"14-10\", \"14-11\", \"14-12\", \"14-13\", \"14-14\", \"14-19\", \"14-20\", \"14-7\", \"14-8\", \"14-9\", \"15-1\", \"15-19\", \"15-6\", \"16-1\", \"16-16\", \"16-19\", \"16-20\", \"17-10\", \"17-11\", \"18-1\", \"18-10\", \"18-11\", \"18-12\", \"18-13\", \"18-14\", \"18-15\", \"18-16\", \"18-17\", \"18-19\", \"18-2\", \"18-20\", \"18-4\", \"18-5\", \"18-7\", \"18-8\", \"18-9\", \"19-1\", \"19-10\", \"19-11\", \"19-12\", \"19-13\", \"19-14\", \"19-15\", \"19-19\", \"19-2\", \"19-20\", \"19-3\", \"19-4\", \"19-6\", \"19-7\", \"19-8\", \"19-9\", \"2-1\", \"2-13\", \"2-15\", \"2-3\", \"2-4\", \"2-5\", \"2-6\", \"2-7\", \"2-8\", \"20-1\", \"20-12\", \"20-14\", \"20-15\", \"20-16\", \"20-18\", \"20-19\", \"20-20\", \"20-3\", \"20-4\", \"20-5\", \"20-7\", \"20-8\", \"3-1\", \"3-13\", \"3-18\", \"3-2\", \"3-8\", \"4-1\", \"4-10\", \"4-11\", \"5-1\", \"5-5\", \"6-1\", \"6-15\", \"6-6\", \"7-10\", \"7-11\", \"7-12\", \"7-13\", \"7-14\", \"7-7\", \"7-8\", \"7-9\", \"8-1\", \"8-13\", \"8-14\", \"8-18\", \"8-20\", \"8-3\", \"8-8\", \"9-1\", \"9-7\"], \"domains\": [1, 2, 3, 4], \"num_examples_per_domain_per_label\": 100, \"pickle_path\": \"/mnt/wd500GB/CSC500/csc500-main/datasets/wisig.node3-19.stratified_ds.2022A.pkl\", \"source_or_target_dataset\": \"target\", \"x_transforms\": [\"unit_power\"], \"episode_transforms\": [], \"domain_prefix\": \"Wisig_\"}, {\"labels\": [0, 1, 2, 3, 4, 5, 6, 7, 8, 9, 10, 11, 12, 13, 14, 15, 16, 17, 18], \"domains\": [0, 1, 2], \"num_examples_per_domain_per_label\": 100, \"pickle_path\": \"/mnt/wd500GB/CSC500/csc500-main/datasets/metehan.stratified_ds.2022A.pkl\", \"source_or_target_dataset\": \"source\", \"x_transforms\": [\"unit_power\"], \"episode_transforms\": [], \"domain_prefix\": \"Metehan_\"}], \"domains_source\": [\"Metehan_0\", \"Metehan_1\", \"Metehan_2\"], \"domains_target\": [\"Wisig_1\", \"Wisig_2\", \"Wisig_3\", \"Wisig_4\"]}, \"results\": {\"source_test_label_accuracy\": 0.8347953216374269, \"source_test_label_loss\": 0.44338366389274597, \"target_test_label_accuracy\": 0.38898026315789475, \"target_test_label_loss\": 20.36151695251465, \"source_val_label_accuracy\": 0.8523391812865497, \"source_val_label_loss\": 0.40406808257102966, \"target_val_label_accuracy\": 0.3949013157894737, \"target_val_label_loss\": 20.614904403686523, \"total_epochs_trained\": 12, \"total_experiment_time_secs\": 72.93494510650635, \"confusion\": {\"Metehan_1\": {\"9\": {\"9\": 11, \"13\": 1}, \"5\": {\"5\": 11, \"18\": 1}, \"15\": {\"15\": 11, \"8\": 1}, \"13\": {\"13\": 11, \"12\": 1}, \"11\": {\"17\": 5, \"11\": 7}, \"7\": {\"7\": 10, \"0\": 2}, \"2\": {\"2\": 11, \"0\": 1}, \"6\": {\"14\": 4, \"6\": 6, \"4\": 2}, \"16\": {\"16\": 12}, \"14\": {\"14\": 10, \"6\": 2}, \"18\": {\"18\": 12}, \"1\": {\"1\": 11, \"2\": 1}, \"10\": {\"10\": 12}, \"12\": {\"12\": 12}, \"3\": {\"3\": 12}, \"8\": {\"8\": 12}, \"0\": {\"0\": 6, \"7\": 6}, \"4\": {\"4\": 7, \"6\": 4, \"14\": 1}, \"17\": {\"11\": 2, \"17\": 10}}, \"Metehan_0\": {\"6\": {\"4\": 7, \"6\": 4, \"14\": 1}, \"18\": {\"18\": 12}, \"2\": {\"2\": 12}, \"17\": {\"17\": 9, \"11\": 3}, \"1\": {\"1\": 12}, \"4\": {\"4\": 7, \"6\": 5}, \"8\": {\"8\": 12}, \"9\": {\"9\": 12}, \"7\": {\"7\": 8, \"0\": 4}, \"15\": {\"15\": 12}, \"12\": {\"12\": 12}, \"11\": {\"17\": 4, \"11\": 7, \"8\": 1}, \"13\": {\"13\": 12}, \"0\": {\"0\": 9, \"7\": 3}, \"10\": {\"10\": 10, \"5\": 1, \"7\": 1}, \"14\": {\"14\": 10, \"6\": 2}, \"3\": {\"3\": 12}, \"5\": {\"5\": 11, \"18\": 1}, \"16\": {\"16\": 12}}, \"Metehan_2\": {\"1\": {\"1\": 12}, \"0\": {\"0\": 8, \"7\": 3, \"2\": 1}, \"13\": {\"13\": 12}, \"11\": {\"17\": 4, \"11\": 8}, \"5\": {\"5\": 11, \"18\": 1}, \"15\": {\"15\": 12}, \"14\": {\"6\": 3, \"14\": 9}, \"8\": {\"8\": 12}, \"6\": {\"14\": 2, \"4\": 5, \"6\": 5}, \"3\": {\"3\": 12}, \"10\": {\"10\": 12}, \"7\": {\"7\": 8, \"0\": 3, \"10\": 1}, \"17\": {\"17\": 10, \"11\": 2}, \"4\": {\"6\": 6, \"4\": 5, \"9\": 1}, \"2\": {\"2\": 12}, \"9\": {\"9\": 12}, \"12\": {\"12\": 12}, \"18\": {\"18\": 10, \"5\": 2}, \"16\": {\"16\": 12}}, \"Wisig_3\": {\"45\": {\"62\": 1, \"82\": 2, \"2\": 1, \"45\": 5, \"102\": 1, \"63\": 1, \"33\": 1}, \"43\": {\"35\": 1, \"116\": 1, \"39\": 2, \"104\": 3, \"13\": 1, \"79\": 1, \"55\": 1, \"14\": 1, \"43\": 1}, \"63\": {\"45\": 2, \"82\": 1, \"63\": 1, \"13\": 1, \"38\": 1, \"116\": 1, \"18\": 2, \"14\": 1, \"26\": 1, \"60\": 1}, \"55\": {\"55\": 10, \"43\": 1, \"66\": 1}, \"24\": {\"24\": 3, \"106\": 1, \"59\": 2, \"119\": 1, \"25\": 2, \"13\": 1, \"6\": 2}, \"21\": {\"63\": 2, \"14\": 1, \"16\": 1, \"113\": 1, \"84\": 1, \"129\": 1, \"50\": 1, \"2\": 1, \"55\": 1, \"79\": 2}, \"34\": {\"111\": 4, \"59\": 1, \"30\": 1, \"52\": 1, \"104\": 1, \"78\": 1, \"73\": 1, \"51\": 1, \"34\": 1}, \"14\": {\"14\": 2, \"116\": 2, \"61\": 1, \"115\": 1, \"66\": 1, \"74\": 1, \"40\": 2, \"32\": 2}, \"111\": {\"72\": 1, \"111\": 4, \"52\": 1, \"85\": 2, \"51\": 2}, \"72\": {\"72\": 5, \"34\": 1, \"5\": 1, \"37\": 1, \"111\": 2, \"20\": 2}, \"35\": {\"72\": 3, \"103\": 3, \"7\": 1, \"31\": 1, \"101\": 1, \"28\": 1, \"35\": 1, \"128\": 1}, \"116\": {\"63\": 1, \"21\": 1, \"22\": 1, \"67\": 1, \"102\": 2, \"116\": 3, \"13\": 1, \"113\": 1, \"118\": 1}, \"82\": {\"82\": 6, \"35\": 1, \"33\": 2, \"84\": 1, \"113\": 1, \"45\": 1}, \"7\": {\"7\": 11, \"128\": 1}, \"20\": {\"72\": 1, \"20\": 7, \"60\": 2, \"70\": 1, \"8\": 1}, \"62\": {\"62\": 9, \"109\": 1, \"69\": 1, \"74\": 1}, \"104\": {\"104\": 8, \"45\": 1, \"74\": 1, \"66\": 1, \"115\": 1}, \"98\": {\"72\": 1, \"24\": 1, \"8\": 1, \"128\": 1, \"85\": 1, \"98\": 5, \"37\": 1, \"0\": 1}, \"106\": {\"24\": 1, \"106\": 4, \"75\": 1, \"112\": 2, \"52\": 2, \"6\": 1, \"97\": 1}, \"118\": {\"39\": 1, \"66\": 1, \"50\": 2, \"57\": 1, \"118\": 2, \"33\": 2, \"84\": 1, \"14\": 1, \"45\": 1}, \"32\": {\"66\": 2, \"102\": 1, \"32\": 5, \"38\": 1, \"2\": 2, \"14\": 1}, \"59\": {\"59\": 7, \"111\": 2, \"30\": 1, \"8\": 1, \"25\": 1}, \"128\": {\"34\": 1, \"91\": 1, \"41\": 1, \"128\": 1, \"68\": 1, \"10\": 1, \"101\": 1, \"4\": 1, \"7\": 1, \"111\": 1, \"20\": 1, \"88\": 1}, \"18\": {\"69\": 2, \"18\": 9, \"26\": 1}, \"31\": {\"29\": 1, \"91\": 1, \"127\": 1, \"96\": 1, \"56\": 1, \"5\": 1, \"79\": 1, \"31\": 4, \"80\": 1}, \"39\": {\"118\": 1, \"69\": 1, \"102\": 2, \"104\": 2, \"117\": 1, \"39\": 3, \"21\": 1, \"67\": 1}, \"91\": {\"128\": 1, \"29\": 1, \"6\": 1, \"37\": 1, \"52\": 1, \"8\": 1, \"75\": 2, \"5\": 1, \"44\": 1, \"91\": 1, \"124\": 1}, \"48\": {\"39\": 1, \"34\": 1, \"67\": 2, \"86\": 2, \"115\": 1, \"48\": 2, \"124\": 1, \"56\": 1, \"13\": 1}, \"61\": {\"61\": 11, \"76\": 1}, \"129\": {\"29\": 3, \"129\": 3, \"64\": 1, \"53\": 1, \"96\": 1, \"95\": 1, \"4\": 1, \"86\": 1}, \"69\": {\"69\": 7, \"50\": 2, \"109\": 2, \"62\": 1}, \"30\": {\"59\": 2, \"83\": 2, \"75\": 1, \"12\": 2, \"30\": 2, \"71\": 1, \"27\": 1, \"112\": 1}, \"29\": {\"128\": 1, \"29\": 7, \"1\": 1, \"44\": 1, \"124\": 1, \"35\": 1}, \"66\": {\"48\": 1, \"43\": 1, \"100\": 2, \"16\": 1, \"56\": 1, \"95\": 1, \"66\": 3, \"115\": 1, \"129\": 1}, \"38\": {\"40\": 1, \"38\": 3, \"76\": 3, \"74\": 1, \"18\": 2, \"33\": 2}, \"81\": {\"81\": 12}, \"25\": {\"25\": 8, \"45\": 1, \"0\": 1, \"59\": 1, \"76\": 1}, \"122\": {\"9\": 2, \"86\": 1, \"122\": 2, \"114\": 1, \"119\": 1, \"129\": 1, \"65\": 1, \"96\": 1, \"107\": 1, \"58\": 1}, \"6\": {\"25\": 2, \"75\": 3, \"85\": 1, \"6\": 2, \"125\": 1, \"99\": 1, \"15\": 1, \"94\": 1}, \"2\": {\"82\": 1, \"13\": 1, \"115\": 1, \"2\": 1, \"71\": 1, \"26\": 1, \"33\": 1, \"16\": 1, \"113\": 1, \"117\": 1, \"39\": 1, \"65\": 1}, \"33\": {\"33\": 5, \"82\": 2, \"126\": 1, \"123\": 1, \"16\": 1, \"107\": 1, \"120\": 1}, \"37\": {\"37\": 6, \"91\": 1, \"19\": 2, \"5\": 1, \"4\": 1, \"67\": 1}, \"88\": {\"6\": 1, \"91\": 1, \"15\": 1, \"3\": 1, \"96\": 1, \"101\": 1, \"124\": 1, \"5\": 1, \"73\": 1, \"110\": 1, \"83\": 1, \"13\": 1}, \"73\": {\"25\": 1, \"73\": 6, \"97\": 1, \"83\": 1, \"108\": 1}, \"101\": {\"101\": 7, \"19\": 2, \"99\": 2, \"111\": 1}, \"13\": {\"45\": 2, \"9\": 1, \"38\": 1, \"82\": 1, \"102\": 3, \"48\": 1, \"105\": 1, \"33\": 2}, \"9\": {\"9\": 6, \"55\": 1, \"100\": 2, \"95\": 2, \"66\": 1}, \"40\": {\"40\": 7, \"82\": 1, \"17\": 1, \"62\": 1, \"120\": 2}, \"22\": {\"102\": 1, \"38\": 1, \"22\": 4, \"71\": 1, \"118\": 1, \"121\": 1, \"17\": 1, \"89\": 1, \"57\": 1}, \"67\": {\"67\": 10, \"120\": 2}, \"102\": {\"102\": 8, \"115\": 1, \"104\": 1, \"21\": 1, \"116\": 1}, \"80\": {\"80\": 9, \"90\": 1, \"28\": 1, \"71\": 1}, \"114\": {\"80\": 1, \"19\": 1, \"71\": 2, \"103\": 2, \"1\": 1, \"114\": 1, \"7\": 1, \"77\": 1, \"10\": 1, \"127\": 1}, \"41\": {\"124\": 1, \"41\": 5, \"128\": 2, \"68\": 1, \"4\": 1, \"60\": 1, \"110\": 1}, \"19\": {\"19\": 5, \"47\": 1, \"4\": 1, \"51\": 1, \"101\": 1, \"5\": 1, \"70\": 1, \"46\": 1}, \"84\": {\"84\": 3, \"80\": 1, \"115\": 1, \"40\": 1, \"50\": 1, \"107\": 1, \"11\": 2, \"14\": 2}, \"107\": {\"84\": 1, \"82\": 1, \"107\": 4, \"115\": 1, \"105\": 1, \"41\": 1, \"11\": 2, \"33\": 1}, \"109\": {\"22\": 1, \"81\": 1, \"33\": 1, \"123\": 1, \"109\": 4, \"16\": 1, \"69\": 1, \"82\": 1, \"74\": 1}, \"124\": {\"124\": 2, \"19\": 1, \"29\": 1, \"35\": 1, \"86\": 1, \"3\": 1, \"90\": 1, \"119\": 2, \"44\": 1, \"78\": 1}, \"44\": {\"1\": 1, \"44\": 3, \"13\": 1, \"19\": 1, \"4\": 1, \"80\": 1, \"71\": 1, \"58\": 1, \"121\": 1, \"3\": 1}, \"103\": {\"85\": 2, \"1\": 1, \"46\": 1, \"103\": 3, \"28\": 1, \"0\": 1, \"91\": 1, \"29\": 1, \"99\": 1}, \"64\": {\"64\": 7, \"93\": 2, \"87\": 1, \"79\": 1, \"96\": 1}, \"75\": {\"75\": 4, \"83\": 3, \"0\": 1, \"6\": 1, \"42\": 1, \"59\": 2}, \"93\": {\"93\": 4, \"115\": 1, \"92\": 3, \"79\": 1, \"129\": 2, \"64\": 1}, \"10\": {\"93\": 1, \"29\": 1, \"68\": 1, \"9\": 1, \"44\": 1, \"10\": 4, \"96\": 1}, \"11\": {\"11\": 2, \"64\": 1, \"40\": 1, \"124\": 1, \"105\": 1, \"84\": 1, \"79\": 1, \"38\": 1, \"115\": 1, \"66\": 1, \"107\": 1}, \"47\": {\"47\": 3, \"1\": 1, \"8\": 1, \"90\": 1, \"71\": 1, \"3\": 1, \"125\": 1, \"85\": 1, \"77\": 1, \"94\": 1}, \"115\": {\"115\": 3, \"11\": 1, \"120\": 1, \"14\": 1, \"40\": 2, \"43\": 1, \"67\": 1, \"104\": 1, \"129\": 1}, \"1\": {\"1\": 6, \"56\": 2, \"114\": 1, \"60\": 1, \"53\": 1, \"105\": 1}, \"85\": {\"106\": 2, \"85\": 2, \"44\": 1, \"98\": 2, \"46\": 2, \"103\": 1, \"108\": 1, \"0\": 1}, \"89\": {\"89\": 11, \"61\": 1}, \"83\": {\"83\": 6, \"103\": 1, \"59\": 1, \"25\": 1, \"70\": 1, \"73\": 1, \"94\": 1}, \"60\": {\"60\": 5, \"41\": 1, \"38\": 1, \"114\": 1, \"44\": 2, \"43\": 2}, \"53\": {\"128\": 1, \"87\": 1, \"52\": 1, \"96\": 1, \"19\": 2, \"31\": 1, \"53\": 2, \"44\": 2, \"3\": 1}, \"120\": {\"120\": 8, \"76\": 1, \"78\": 1, \"123\": 2}, \"77\": {\"60\": 3, \"72\": 1, \"85\": 1, \"7\": 1, \"19\": 1, \"77\": 2, \"114\": 1, \"0\": 1, \"58\": 1}, \"92\": {\"92\": 6, \"120\": 1, \"96\": 1, \"100\": 2, \"9\": 2}, \"12\": {\"83\": 1, \"77\": 1, \"85\": 1, \"72\": 1, \"108\": 1, \"20\": 1, \"12\": 5, \"112\": 1}, \"76\": {\"76\": 7, \"74\": 1, \"18\": 1, \"48\": 1, \"26\": 2}, \"87\": {\"105\": 2, \"41\": 1, \"129\": 1, \"87\": 3, \"40\": 1, \"20\": 1, \"110\": 1}, \"105\": {\"92\": 1, \"41\": 1, \"105\": 6, \"37\": 1, \"4\": 1, \"87\": 1, \"86\": 1}, \"112\": {\"112\": 3, \"98\": 2, \"8\": 4, \"59\": 1, \"15\": 1, \"85\": 1}, \"123\": {\"123\": 4, \"13\": 4, \"104\": 1, \"126\": 2, \"64\": 1}, \"8\": {\"52\": 1, \"112\": 4, \"70\": 1, \"83\": 1, \"47\": 1, \"8\": 1, \"106\": 1}, \"126\": {\"121\": 2, \"21\": 1, \"126\": 5, \"2\": 1, \"81\": 1, \"123\": 1, \"61\": 1}, \"52\": {\"52\": 1, \"8\": 4, \"85\": 2, \"91\": 1, \"24\": 1, \"25\": 1}, \"121\": {\"121\": 6, \"18\": 2, \"118\": 1, \"69\": 1, \"126\": 1, \"113\": 1}, \"68\": {\"128\": 2, \"52\": 1, \"46\": 1, \"127\": 1, \"4\": 1, \"77\": 1, \"0\": 1, \"68\": 3, \"99\": 1}, \"74\": {\"109\": 1, \"74\": 5, \"51\": 1, \"69\": 1, \"62\": 3, \"104\": 1}, \"57\": {\"57\": 8, \"33\": 1, \"40\": 1, \"123\": 1, \"50\": 1}, \"3\": {\"12\": 1, \"72\": 1, \"19\": 3, \"53\": 1, \"47\": 1, \"3\": 2, \"58\": 1, \"103\": 1, \"63\": 1}, \"42\": {\"85\": 1, \"59\": 1, \"125\": 1, \"42\": 3, \"75\": 1, \"33\": 1, \"112\": 2, \"49\": 2}, \"95\": {\"95\": 11, \"104\": 1}, \"17\": {\"33\": 1, \"64\": 1, \"113\": 2, \"22\": 2, \"17\": 1, \"78\": 1, \"95\": 1, \"16\": 1, \"13\": 1, \"86\": 1}, \"4\": {\"7\": 3, \"11\": 1, \"4\": 5, \"86\": 2, \"129\": 1}, \"15\": {\"103\": 1, \"15\": 8, \"25\": 1, \"98\": 1, \"6\": 1}, \"16\": {\"16\": 5, \"23\": 1, \"33\": 2, \"17\": 2}, \"46\": {\"7\": 1, \"103\": 1, \"46\": 3, \"53\": 1, \"80\": 1, \"85\": 2, \"91\": 1, \"5\": 1, \"86\": 1}, \"117\": {\"117\": 10, \"18\": 2}, \"96\": {\"96\": 6, \"80\": 1, \"87\": 1, \"88\": 1, \"64\": 1, \"107\": 1, \"100\": 1}, \"70\": {\"96\": 1, \"125\": 1, \"20\": 2, \"0\": 1, \"58\": 1, \"80\": 1, \"71\": 1, \"37\": 1, \"98\": 1, \"70\": 1, \"105\": 1}, \"27\": {\"8\": 1, \"27\": 5, \"125\": 1, \"94\": 1, \"36\": 2, \"30\": 1, \"49\": 1}, \"54\": {\"54\": 6, \"112\": 1, \"75\": 1, \"6\": 1, \"27\": 1, \"106\": 2}, \"125\": {\"125\": 8, \"49\": 1, \"42\": 1, \"73\": 1, \"97\": 1}, \"51\": {\"83\": 1, \"77\": 1, \"19\": 1, \"108\": 3, \"71\": 1, \"51\": 2, \"34\": 3}, \"90\": {\"1\": 1, \"90\": 7, \"46\": 2, \"56\": 1, \"124\": 1}, \"50\": {\"50\": 7, \"21\": 1, \"69\": 1, \"84\": 1}, \"23\": {\"7\": 1, \"8\": 1, \"48\": 2, \"122\": 1, \"58\": 1, \"88\": 1, \"20\": 1, \"45\": 1, \"127\": 1}, \"110\": {\"53\": 1, \"110\": 3, \"3\": 1, \"79\": 1, \"5\": 1, \"74\": 1, \"80\": 1, \"124\": 1, \"128\": 2}, \"100\": {\"100\": 5, \"56\": 1, \"80\": 1, \"65\": 1, \"21\": 1, \"96\": 1}, \"108\": {\"108\": 3, \"3\": 1, \"6\": 1, \"24\": 1, \"97\": 1, \"71\": 1, \"8\": 2, \"12\": 1, \"36\": 1}, \"86\": {\"110\": 1, \"37\": 1, \"86\": 6, \"56\": 2, \"105\": 1, \"7\": 1}, \"78\": {\"9\": 1, \"105\": 2, \"17\": 1, \"50\": 1, \"119\": 1, \"95\": 1, \"111\": 1, \"80\": 1, \"57\": 1, \"61\": 1, \"71\": 1}, \"127\": {\"68\": 1, \"85\": 1, \"5\": 2, \"101\": 2, \"114\": 1, \"23\": 1}, \"94\": {\"98\": 2, \"94\": 6, \"125\": 1, \"6\": 2, \"36\": 1}, \"56\": {\"56\": 5, \"5\": 2, \"90\": 1, \"19\": 1, \"86\": 1, \"85\": 2}, \"119\": {\"119\": 7, \"100\": 1, \"79\": 1, \"90\": 2, \"13\": 1}, \"0\": {\"12\": 1, \"0\": 7, \"49\": 1, \"34\": 1, \"125\": 2}, \"28\": {\"80\": 2, \"28\": 7, \"124\": 1, \"60\": 1, \"20\": 1}, \"26\": {\"74\": 1, \"26\": 5, \"81\": 1, \"18\": 2, \"14\": 1}, \"71\": {\"71\": 5, \"99\": 1, \"127\": 1, \"49\": 1, \"31\": 2, \"37\": 1, \"124\": 1}, \"58\": {\"58\": 5, \"71\": 1, \"114\": 1, \"28\": 1, \"3\": 1, \"91\": 1, \"56\": 1, \"47\": 1}, \"5\": {\"5\": 6, \"58\": 1, \"99\": 1, \"124\": 1, \"53\": 1}, \"79\": {\"79\": 1, \"113\": 1, \"31\": 2, \"78\": 1, \"11\": 1, \"64\": 2, \"63\": 1, \"28\": 1}, \"113\": {\"113\": 9, \"120\": 1, \"21\": 1, \"87\": 1}, \"99\": {\"56\": 1, \"71\": 1, \"99\": 5, \"101\": 1, \"0\": 1, \"59\": 1, \"5\": 1, \"68\": 1}, \"97\": {\"94\": 2, \"36\": 2, \"73\": 1, \"125\": 1, \"97\": 1, \"106\": 1}, \"49\": {\"88\": 1, \"49\": 5, \"73\": 1, \"31\": 1, \"71\": 1, \"27\": 1}, \"65\": {\"65\": 4, \"114\": 1, \"95\": 1, \"90\": 1, \"92\": 1, \"39\": 1, \"4\": 1}, \"36\": {\"36\": 5, \"27\": 2, \"73\": 1, \"112\": 1, \"94\": 1}}, \"Wisig_1\": {\"106\": {\"98\": 1, \"106\": 5, \"68\": 1, \"103\": 2, \"53\": 2, \"47\": 1}, \"45\": {\"119\": 1, \"42\": 1, \"18\": 2, \"33\": 3, \"64\": 1, \"45\": 1, \"102\": 1, \"123\": 1, \"109\": 1}, \"98\": {\"104\": 1, \"98\": 4, \"77\": 1, \"30\": 1, \"108\": 2, \"75\": 1, \"6\": 1, \"97\": 1}, \"5\": {\"5\": 3, \"34\": 2, \"64\": 1, \"101\": 1, \"110\": 2, \"128\": 1, \"99\": 1, \"85\": 1}, \"96\": {\"96\": 4, \"7\": 1, \"34\": 1, \"91\": 1, \"128\": 1, \"72\": 1, \"103\": 1, \"99\": 1, \"19\": 1}, \"94\": {\"94\": 3, \"43\": 1, \"52\": 2, \"88\": 1, \"97\": 1}, \"4\": {\"80\": 1, \"124\": 1, \"40\": 1, \"123\": 1, \"105\": 1, \"4\": 3, \"82\": 1, \"0\": 1, \"13\": 1, \"3\": 1}, \"42\": {\"42\": 5, \"25\": 1, \"90\": 1, \"100\": 1, \"79\": 1, \"109\": 1, \"64\": 1, \"107\": 1}, \"124\": {\"45\": 1, \"42\": 1, \"28\": 3, \"22\": 1, \"124\": 1, \"61\": 1, \"4\": 1, \"0\": 1}, \"85\": {\"85\": 8, \"48\": 1, \"114\": 1, \"4\": 1, \"8\": 1}, \"116\": {\"2\": 3, \"116\": 4, \"39\": 1, \"3\": 1, \"123\": 1, \"20\": 1, \"18\": 1}, \"39\": {\"39\": 2, \"42\": 1, \"74\": 1, \"50\": 1, \"63\": 1, \"120\": 2, \"122\": 1, \"13\": 1, \"78\": 2}, \"62\": {\"62\": 12}, \"60\": {\"42\": 1, \"2\": 1, \"3\": 1, \"80\": 1, \"76\": 1, \"60\": 2, \"18\": 2, \"125\": 1, \"83\": 1, \"48\": 1}, \"104\": {\"104\": 6, \"96\": 1, \"89\": 2, \"59\": 1}, \"2\": {\"2\": 2, \"124\": 2, \"35\": 2, \"78\": 1, \"3\": 1, \"82\": 2, \"119\": 1, \"18\": 1}, \"12\": {\"98\": 1, \"12\": 4, \"73\": 3, \"108\": 1, \"112\": 1, \"111\": 1, \"75\": 1}, \"119\": {\"119\": 7, \"124\": 1, \"2\": 1, \"18\": 2, \"60\": 1}, \"80\": {\"39\": 1, \"62\": 1, \"80\": 6, \"57\": 2, \"18\": 1, \"59\": 1}, \"65\": {\"65\": 7, \"2\": 1, \"33\": 1, \"120\": 1, \"90\": 1, \"18\": 1}, \"113\": {\"118\": 1, \"117\": 1, \"113\": 9, \"16\": 1}, \"22\": {\"28\": 1, \"22\": 8, \"66\": 1, \"119\": 1, \"100\": 1}, \"32\": {\"37\": 2, \"32\": 5, \"107\": 1, \"34\": 1, \"54\": 1, \"82\": 1, \"73\": 1}, \"117\": {\"118\": 1, \"113\": 1, \"16\": 4, \"121\": 1, \"117\": 5}, \"0\": {\"0\": 8, \"32\": 1, \"93\": 1, \"58\": 1, \"41\": 1}, \"44\": {\"44\": 4, \"83\": 1, \"29\": 2, \"106\": 1, \"64\": 1, \"31\": 1, \"23\": 1, \"99\": 1}, \"83\": {\"22\": 1, \"28\": 1, \"85\": 1, \"84\": 1, \"41\": 1, \"66\": 1, \"54\": 2, \"61\": 1, \"35\": 1, \"43\": 1, \"32\": 1}, \"118\": {\"118\": 11, \"26\": 1}, \"37\": {\"72\": 1, \"37\": 6, \"92\": 2, \"6\": 1, \"24\": 1, \"89\": 1}, \"36\": {\"27\": 1, \"71\": 1, \"36\": 5, \"88\": 2, \"9\": 2, \"24\": 1}, \"72\": {\"72\": 2, \"19\": 2, \"89\": 1, \"128\": 1, \"23\": 1, \"73\": 1, \"77\": 1, \"0\": 1, \"9\": 1, \"99\": 1}, \"27\": {\"36\": 1, \"71\": 1, \"24\": 2, \"98\": 3, \"59\": 1, \"51\": 1, \"53\": 1, \"94\": 1, \"97\": 1}, \"123\": {\"65\": 2, \"123\": 7, \"40\": 1, \"78\": 2}, \"71\": {\"27\": 1, \"71\": 4, \"53\": 2, \"88\": 1, \"31\": 1, \"52\": 1, \"98\": 1, \"68\": 1}, \"28\": {\"28\": 3, \"22\": 1, \"105\": 1, \"34\": 1, \"21\": 1, \"124\": 2, \"10\": 1}, \"21\": {\"36\": 1, \"21\": 3, \"20\": 1, \"115\": 2, \"105\": 1, \"109\": 2, \"54\": 1, \"125\": 1}, \"74\": {\"74\": 4, \"13\": 1, \"116\": 1, \"39\": 1, \"78\": 1, \"33\": 2, \"101\": 1, \"81\": 1}, \"15\": {\"53\": 2, \"15\": 4, \"125\": 1, \"71\": 1, \"9\": 1, \"73\": 1}, \"53\": {\"88\": 1, \"71\": 1, \"47\": 1, \"53\": 2, \"31\": 1, \"6\": 2, \"49\": 2, \"111\": 1, \"15\": 1}, \"48\": {\"8\": 1, \"48\": 5, \"66\": 1, \"60\": 1, \"43\": 1, \"32\": 1, \"105\": 1, \"7\": 1}, \"57\": {\"57\": 6, \"8\": 1, \"122\": 1, \"61\": 2, \"84\": 1, \"14\": 1}, \"88\": {\"97\": 1, \"88\": 3, \"108\": 1, \"112\": 1, \"6\": 1, \"111\": 1, \"52\": 1, \"31\": 1, \"27\": 1, \"12\": 1}, \"126\": {\"53\": 1, \"104\": 1, \"112\": 1, \"126\": 3, \"106\": 1, \"98\": 1, \"27\": 1, \"24\": 2, \"49\": 1}, \"69\": {\"13\": 2, \"120\": 1, \"76\": 1, \"102\": 1, \"69\": 6, \"81\": 1}, \"121\": {\"121\": 10, \"95\": 1, \"116\": 1}, \"49\": {\"97\": 1, \"9\": 1, \"52\": 1, \"85\": 1, \"49\": 2, \"30\": 1, \"77\": 1, \"29\": 1, \"53\": 1, \"15\": 1, \"115\": 1}, \"59\": {\"121\": 1, \"97\": 1, \"59\": 6, \"51\": 2, \"113\": 1, \"118\": 1}, \"97\": {\"15\": 1, \"53\": 1, \"68\": 1, \"51\": 1, \"88\": 1, \"6\": 1, \"97\": 1, \"27\": 1, \"98\": 1, \"125\": 1, \"30\": 2}, \"90\": {\"59\": 1, \"8\": 1, \"84\": 1, \"90\": 5, \"20\": 3, \"129\": 1}, \"9\": {\"53\": 1, \"49\": 1, \"125\": 1, \"9\": 2, \"73\": 1, \"101\": 1, \"109\": 1, \"41\": 1, \"108\": 1, \"106\": 2}, \"13\": {\"13\": 8, \"16\": 1, \"120\": 1, \"117\": 1, \"26\": 1}, \"8\": {\"90\": 1, \"8\": 4, \"0\": 1, \"17\": 1, \"43\": 1, \"76\": 1, \"22\": 1, \"100\": 1, \"64\": 1}, \"89\": {\"44\": 1, \"56\": 1, \"70\": 1, \"23\": 1, \"128\": 1, \"37\": 2, \"58\": 1, \"89\": 3, \"21\": 1}, \"47\": {\"56\": 2, \"53\": 2, \"73\": 1, \"30\": 1, \"29\": 2, \"91\": 1, \"47\": 2, \"115\": 1}, \"125\": {\"125\": 6, \"51\": 1, \"24\": 1, \"52\": 1, \"36\": 1}, \"58\": {\"0\": 2, \"58\": 6, \"29\": 1, \"105\": 1, \"54\": 1, \"25\": 1}, \"17\": {\"17\": 3, \"3\": 1, \"35\": 2, \"55\": 1, \"105\": 1, \"41\": 2, \"114\": 2}, \"29\": {\"29\": 6, \"58\": 1, \"86\": 1, \"99\": 2, \"55\": 1, \"127\": 1}, \"35\": {\"48\": 1, \"35\": 2, \"4\": 1, \"40\": 1, \"34\": 1, \"20\": 1, \"41\": 1, \"57\": 1, \"0\": 2, \"110\": 1}, \"3\": {\"3\": 7, \"83\": 1, \"59\": 1, \"110\": 1, \"100\": 1, \"129\": 1}, \"77\": {\"29\": 1, \"77\": 6, \"112\": 1, \"72\": 1, \"75\": 1, \"49\": 1, \"115\": 1}, \"56\": {\"56\": 8, \"86\": 1, \"111\": 1, \"75\": 1, \"98\": 1}, \"109\": {\"3\": 1, \"109\": 3, \"7\": 1, \"96\": 1, \"64\": 1, \"9\": 1, \"37\": 1, \"128\": 1, \"5\": 1, \"70\": 1}, \"114\": {\"83\": 3, \"114\": 4, \"35\": 1, \"124\": 1, \"128\": 1, \"85\": 1, \"54\": 1}, \"16\": {\"16\": 9, \"25\": 1, \"67\": 1, \"42\": 1}, \"112\": {\"70\": 1, \"49\": 1, \"51\": 1, \"34\": 1, \"91\": 1, \"127\": 1, \"111\": 1, \"112\": 4, \"6\": 1}, \"105\": {\"105\": 5, \"4\": 1, \"122\": 1, \"28\": 1, \"10\": 2, \"48\": 2}, \"84\": {\"84\": 4, \"105\": 1, \"3\": 1, \"82\": 1, \"54\": 1, \"4\": 2, \"7\": 1, \"11\": 1}, \"127\": {\"70\": 1, \"114\": 1, \"73\": 2, \"128\": 1, \"91\": 1, \"79\": 1, \"75\": 1, \"127\": 2, \"106\": 2}, \"70\": {\"112\": 1, \"109\": 1, \"0\": 1, \"49\": 2, \"70\": 1, \"89\": 1, \"68\": 1, \"71\": 1, \"47\": 2, \"86\": 1}, \"52\": {\"112\": 1, \"52\": 4, \"59\": 2, \"94\": 1, \"98\": 1, \"79\": 2, \"125\": 1}, \"31\": {\"9\": 1, \"31\": 4, \"68\": 1, \"30\": 2, \"77\": 2, \"103\": 2}, \"43\": {\"40\": 1, \"43\": 3, \"60\": 2, \"105\": 3, \"19\": 1, \"114\": 1, \"124\": 1}, \"75\": {\"75\": 4, \"127\": 1, \"108\": 1, \"114\": 1, \"111\": 1, \"23\": 1, \"56\": 1, \"99\": 1, \"77\": 1}, \"40\": {\"43\": 2, \"82\": 2, \"40\": 4, \"100\": 1, \"17\": 1, \"129\": 1, \"3\": 1}, \"129\": {\"4\": 1, \"129\": 2, \"11\": 1, \"58\": 1, \"122\": 1, \"90\": 1, \"41\": 1, \"114\": 1, \"61\": 1, \"84\": 1, \"87\": 1}, \"73\": {\"127\": 1, \"73\": 4, \"31\": 1, \"86\": 1, \"99\": 1, \"79\": 1, \"128\": 1, \"15\": 1, \"64\": 1}, \"93\": {\"93\": 1, \"41\": 1, \"107\": 3, \"61\": 1, \"79\": 1, \"54\": 1, \"70\": 2}, \"20\": {\"20\": 6, \"22\": 1, \"11\": 1, \"1\": 1, \"54\": 1, \"17\": 2}, \"115\": {\"115\": 7, \"1\": 1, \"83\": 1, \"56\": 1, \"23\": 1, \"37\": 1}, \"24\": {\"98\": 2, \"30\": 1, \"24\": 2, \"51\": 1, \"52\": 1, \"59\": 2, \"126\": 1, \"125\": 1, \"36\": 1}, \"34\": {\"98\": 1, \"34\": 2, \"76\": 1, \"51\": 1, \"30\": 1, \"38\": 1, \"39\": 1, \"33\": 2, \"21\": 1, \"24\": 1}, \"78\": {\"93\": 1, \"34\": 1, \"95\": 1, \"11\": 4, \"43\": 1, \"18\": 1, \"105\": 1, \"28\": 1, \"69\": 1}, \"41\": {\"78\": 1, \"93\": 1, \"83\": 1, \"66\": 1, \"41\": 6, \"84\": 1, \"0\": 1}, \"30\": {\"30\": 7, \"68\": 1, \"52\": 2, \"71\": 1, \"47\": 1}, \"95\": {\"95\": 9, \"113\": 1, \"121\": 1, \"116\": 1}, \"19\": {\"19\": 5, \"107\": 1, \"37\": 1, \"89\": 1, \"72\": 2, \"79\": 1, \"7\": 1}, \"76\": {\"18\": 1, \"76\": 7, \"33\": 1, \"102\": 1, \"40\": 2}, \"67\": {\"67\": 5, \"76\": 1, \"38\": 2, \"7\": 1, \"107\": 1, \"16\": 1, \"81\": 1}, \"23\": {\"70\": 1, \"72\": 1, \"20\": 1, \"23\": 3, \"91\": 1, \"56\": 1, \"54\": 1, \"1\": 1, \"104\": 1, \"4\": 1}, \"99\": {\"104\": 1, \"99\": 5, \"34\": 1, \"29\": 2, \"77\": 1, \"72\": 1, \"5\": 1}, \"66\": {\"60\": 1, \"66\": 5, \"119\": 1, \"126\": 1}, \"18\": {\"18\": 10, \"65\": 1, \"60\": 1}, \"107\": {\"107\": 7, \"11\": 1, \"128\": 2, \"93\": 2}, \"108\": {\"112\": 2, \"127\": 1, \"77\": 1, \"12\": 1, \"108\": 3, \"24\": 2, \"52\": 1, \"79\": 1}, \"102\": {\"102\": 9, \"63\": 1, \"50\": 1, \"69\": 1}, \"54\": {\"5\": 3, \"25\": 3, \"93\": 1, \"54\": 3, \"61\": 1, \"100\": 1}, \"51\": {\"51\": 8, \"112\": 1, \"125\": 1, \"98\": 2}, \"79\": {\"79\": 6, \"108\": 1, \"34\": 1, \"99\": 1, \"77\": 1, \"17\": 1, \"31\": 1}, \"61\": {\"11\": 1, \"61\": 6, \"87\": 1, \"57\": 1, \"82\": 2, \"114\": 1}, \"11\": {\"61\": 1, \"76\": 1, \"84\": 2, \"82\": 1, \"129\": 1, \"11\": 2, \"40\": 2, \"78\": 1, \"42\": 1}, \"82\": {\"14\": 1, \"2\": 3, \"40\": 1, \"57\": 1, \"100\": 3, \"84\": 2, \"124\": 1}, \"92\": {\"92\": 9, \"127\": 2, \"23\": 1}, \"86\": {\"86\": 6, \"106\": 1, \"51\": 2, \"68\": 1, \"103\": 1, \"30\": 1}, \"33\": {\"33\": 10, \"50\": 1, \"14\": 1}, \"10\": {\"10\": 7, \"39\": 1, \"122\": 1, \"87\": 1, \"48\": 2}, \"110\": {\"110\": 7, \"3\": 1, \"23\": 1, \"0\": 1, \"1\": 1, \"48\": 1}, \"14\": {\"10\": 1, \"14\": 7, \"43\": 1, \"33\": 1, \"80\": 1, \"124\": 1}, \"120\": {\"74\": 2, \"13\": 2, \"120\": 5, \"39\": 2, \"116\": 1}, \"46\": {\"46\": 2, \"4\": 1, \"16\": 1, \"87\": 2, \"51\": 1, \"61\": 1, \"66\": 1, \"103\": 1, \"26\": 1, \"42\": 1}, \"1\": {\"1\": 2, \"115\": 1, \"103\": 1, \"55\": 1, \"89\": 2, \"73\": 1, \"85\": 1, \"17\": 1}, \"122\": {\"57\": 1, \"122\": 9, \"87\": 1, \"11\": 1}, \"25\": {\"25\": 3, \"82\": 1, \"87\": 1, \"54\": 2, \"107\": 1, \"7\": 2, \"100\": 2}, \"128\": {\"112\": 1, \"107\": 1, \"92\": 1, \"101\": 1, \"128\": 2, \"30\": 1, \"73\": 1, \"108\": 1, \"32\": 1, \"58\": 1, \"5\": 1}, \"100\": {\"61\": 1, \"87\": 2, \"84\": 2, \"100\": 3, \"42\": 2, \"54\": 1, \"55\": 1}, \"91\": {\"112\": 1, \"127\": 1, \"91\": 3, \"51\": 1, \"68\": 1, \"37\": 1, \"6\": 1, \"99\": 1, \"103\": 1, \"19\": 1}, \"87\": {\"61\": 1, \"57\": 1, \"87\": 4, \"84\": 1, \"43\": 1, \"28\": 1, \"8\": 1}, \"38\": {\"38\": 9, \"81\": 1, \"69\": 1, \"33\": 1}, \"68\": {\"91\": 3, \"108\": 1, \"79\": 1, \"101\": 1, \"68\": 1, \"86\": 1, \"30\": 1, \"103\": 1}, \"50\": {\"50\": 7, \"118\": 1, \"102\": 1, \"33\": 2, \"81\": 1}, \"55\": {\"55\": 3, \"17\": 1, \"87\": 1, \"83\": 1, \"61\": 1, \"100\": 1, \"107\": 2}, \"81\": {\"81\": 4, \"50\": 2, \"67\": 2, \"102\": 2, \"120\": 1, \"69\": 1}, \"101\": {\"109\": 2, \"6\": 1, \"64\": 1, \"101\": 3, \"128\": 1, \"75\": 2, \"37\": 1, \"30\": 1}, \"7\": {\"7\": 5, \"110\": 1, \"84\": 1, \"87\": 1, \"107\": 1, \"25\": 1}, \"26\": {\"26\": 7, \"95\": 1}, \"64\": {\"54\": 1, \"64\": 5, \"90\": 1, \"56\": 1, \"44\": 2}, \"63\": {\"63\": 9, \"33\": 1, \"38\": 1, \"119\": 1}, \"6\": {\"88\": 1, \"101\": 1, \"111\": 1, \"6\": 3, \"68\": 1, \"108\": 2, \"51\": 2, \"91\": 1}, \"111\": {\"23\": 1, \"6\": 1, \"111\": 3, \"68\": 2, \"86\": 1, \"75\": 1, \"112\": 1, \"106\": 2}, \"103\": {\"103\": 2, \"75\": 1, \"106\": 1, \"91\": 1, \"19\": 1, \"115\": 1, \"47\": 1}}, \"Wisig_2\": {\"89\": {\"89\": 11, \"117\": 1}, \"3\": {\"110\": 1, \"3\": 5, \"111\": 2, \"5\": 1, \"29\": 2, \"103\": 1}, \"31\": {\"31\": 4, \"18\": 2, \"13\": 1, \"82\": 2, \"81\": 2, \"21\": 1}, \"33\": {\"93\": 1, \"33\": 9, \"14\": 1, \"40\": 1}, \"8\": {\"68\": 2, \"18\": 1, \"8\": 2, \"115\": 2, \"38\": 1, \"70\": 1, \"114\": 2, \"110\": 1}, \"41\": {\"41\": 5, \"8\": 1, \"52\": 1, \"54\": 1, \"32\": 1, \"53\": 1, \"59\": 2}, \"92\": {\"92\": 7, \"93\": 1, \"18\": 1, \"121\": 1, \"89\": 1, \"116\": 1}, \"87\": {\"33\": 1, \"17\": 1, \"28\": 2, \"84\": 2, \"100\": 1, \"70\": 1, \"87\": 2, \"1\": 1, \"95\": 1}, \"17\": {\"122\": 1, \"87\": 1, \"61\": 1, \"43\": 1, \"100\": 1, \"78\": 1, \"107\": 1, \"28\": 1, \"79\": 1, \"84\": 1}, \"93\": {\"93\": 8, \"1\": 2, \"40\": 1, \"86\": 1}, \"94\": {\"94\": 6, \"91\": 1, \"25\": 1, \"9\": 1, \"75\": 1, \"27\": 1, \"36\": 1}, \"110\": {\"110\": 3, \"87\": 1, \"85\": 1, \"73\": 3, \"34\": 1, \"83\": 2, \"122\": 1}, \"18\": {\"18\": 9, \"81\": 1, \"31\": 1, \"113\": 1}, \"122\": {\"68\": 1, \"122\": 4, \"79\": 1, \"73\": 1, \"4\": 1, \"11\": 1, \"8\": 2, \"3\": 1}, \"91\": {\"122\": 1, \"91\": 1, \"128\": 1, \"129\": 1, \"73\": 1, \"6\": 1, \"24\": 1, \"68\": 1, \"101\": 1, \"111\": 1, \"30\": 1, \"127\": 1}, \"58\": {\"58\": 8, \"125\": 2, \"49\": 1, \"0\": 1}, \"68\": {\"122\": 1, \"41\": 1, \"68\": 4, \"8\": 2, \"24\": 1, \"71\": 1, \"54\": 2}, \"24\": {\"91\": 1, \"41\": 1, \"0\": 1, \"11\": 1, \"75\": 2, \"12\": 1, \"6\": 1, \"106\": 2, \"98\": 1, \"125\": 1}, \"28\": {\"93\": 1, \"87\": 2, \"8\": 1, \"24\": 1, \"28\": 2, \"116\": 2, \"107\": 1, \"17\": 1, \"1\": 1}, \"52\": {\"77\": 1, \"125\": 1, \"15\": 1, \"108\": 2, \"98\": 1, \"0\": 1, \"29\": 1, \"91\": 1, \"9\": 1}, \"23\": {\"23\": 2, \"41\": 1, \"44\": 1, \"21\": 1, \"38\": 1, \"5\": 1, \"39\": 1, \"120\": 1, \"119\": 1, \"28\": 1, \"13\": 1}, \"128\": {\"41\": 2, \"5\": 2, \"128\": 2, \"85\": 1, \"114\": 2, \"94\": 1, \"6\": 1, \"4\": 1}, \"113\": {\"113\": 4, \"72\": 1, \"26\": 2, \"28\": 1, \"92\": 1, \"8\": 1, \"18\": 2}, \"104\": {\"104\": 3, \"23\": 1, \"66\": 1, \"95\": 1, \"37\": 1, \"22\": 1, \"62\": 1, \"84\": 1, \"13\": 1, \"86\": 1}, \"72\": {\"72\": 2, \"60\": 1, \"76\": 2, \"13\": 1, \"113\": 1, \"86\": 1, \"2\": 1, \"81\": 1, \"32\": 1, \"66\": 1}, \"125\": {\"125\": 8, \"97\": 1, \"108\": 1, \"36\": 1, \"15\": 1}, \"121\": {\"121\": 6, \"23\": 1, \"65\": 1, \"37\": 1, \"89\": 1, \"13\": 1, \"118\": 1}, \"63\": {\"63\": 10, \"92\": 2}, \"70\": {\"60\": 1, \"47\": 1, \"87\": 1, \"61\": 1, \"107\": 1, \"44\": 1, \"70\": 1, \"56\": 1, \"95\": 2, \"4\": 1, \"84\": 1}, \"16\": {\"60\": 1, \"23\": 1, \"16\": 3, \"95\": 1, \"19\": 1, \"87\": 1}, \"60\": {\"60\": 6, \"93\": 1, \"46\": 1, \"34\": 1, \"43\": 1, \"53\": 1, \"66\": 1}, \"95\": {\"95\": 9, \"70\": 1, \"20\": 1, \"78\": 1}, \"50\": {\"50\": 11, \"74\": 1}, \"129\": {\"91\": 1, \"41\": 1, \"129\": 2, \"44\": 1, \"4\": 1, \"119\": 1, \"79\": 2, \"23\": 1, \"97\": 1, \"103\": 1}, \"77\": {\"91\": 2, \"77\": 2, \"129\": 1, \"103\": 1, \"79\": 1, \"111\": 3, \"7\": 1, \"54\": 1}, \"47\": {\"47\": 5, \"60\": 1, \"28\": 2, \"126\": 1, \"44\": 1, \"123\": 1, \"6\": 1}, \"13\": {\"13\": 6, \"48\": 1, \"64\": 1, \"31\": 1, \"104\": 1, \"116\": 2}, \"9\": {\"108\": 1, \"9\": 4, \"111\": 2, \"75\": 2, \"11\": 2, \"101\": 1}, \"115\": {\"47\": 1, \"115\": 5, \"73\": 1, \"103\": 1}, \"42\": {\"25\": 1, \"58\": 1, \"42\": 4, \"44\": 1, \"97\": 1, \"94\": 1, \"28\": 1, \"114\": 1, \"51\": 1}, \"48\": {\"48\": 10, \"80\": 1, \"93\": 1}, \"25\": {\"25\": 4, \"94\": 2, \"51\": 1, \"97\": 1, \"49\": 1, \"98\": 1, \"36\": 1, \"107\": 1}, \"61\": {\"70\": 1, \"13\": 1, \"61\": 6, \"105\": 1, \"60\": 1, \"10\": 1, \"37\": 1}, \"108\": {\"94\": 1, \"25\": 1, \"108\": 4, \"49\": 2, \"11\": 2, \"71\": 1, \"51\": 1}, \"54\": {\"12\": 2, \"54\": 5, \"79\": 1, \"85\": 2, \"7\": 1, \"126\": 1}, \"76\": {\"76\": 8, \"57\": 1, \"18\": 1, \"72\": 1, \"66\": 1}, \"12\": {\"12\": 4, \"20\": 1, \"127\": 1, \"75\": 1, \"114\": 1, \"46\": 1, \"29\": 1, \"71\": 1, \"30\": 1}, \"97\": {\"127\": 1, \"24\": 1, \"125\": 2, \"27\": 1, \"97\": 1, \"49\": 1, \"101\": 1, \"25\": 2}, \"11\": {\"29\": 1, \"59\": 1, \"11\": 6, \"69\": 1, \"108\": 1, \"91\": 1, \"101\": 1}, \"29\": {\"77\": 1, \"29\": 4, \"59\": 1, \"114\": 1, \"46\": 1, \"15\": 1, \"85\": 1, \"53\": 1, \"69\": 1}, \"57\": {\"57\": 7, \"86\": 1, \"39\": 2, \"23\": 1, \"22\": 1}, \"90\": {\"47\": 2, \"90\": 7, \"120\": 1, \"100\": 1, \"23\": 1}, \"26\": {\"26\": 12}, \"111\": {\"59\": 2, \"111\": 5, \"129\": 1, \"15\": 1, \"29\": 2, \"77\": 1}, \"59\": {\"77\": 2, \"111\": 2, \"128\": 1, \"29\": 1, \"12\": 1, \"114\": 1, \"110\": 1, \"71\": 1, \"59\": 1, \"125\": 1}, \"86\": {\"86\": 9, \"28\": 1, \"120\": 2}, \"126\": {\"59\": 2, \"30\": 1, \"20\": 1, \"46\": 1, \"129\": 1, \"1\": 1, \"126\": 2, \"11\": 1, \"28\": 1, \"107\": 1}, \"127\": {\"127\": 2, \"12\": 1, \"79\": 1, \"5\": 2, \"71\": 2}, \"0\": {\"59\": 2, \"0\": 2, \"75\": 1, \"35\": 1, \"106\": 1, \"58\": 1, \"71\": 1, \"29\": 1, \"91\": 2}, \"117\": {\"117\": 10, \"26\": 1, \"89\": 1}, \"118\": {\"102\": 1, \"122\": 1, \"88\": 1, \"118\": 4, \"109\": 2, \"76\": 1, \"53\": 1, \"1\": 1}, \"32\": {\"102\": 1, \"105\": 1, \"59\": 1, \"50\": 1, \"64\": 1, \"32\": 2, \"109\": 1, \"82\": 1, \"2\": 1, \"34\": 1, \"123\": 1}, \"37\": {\"37\": 7, \"96\": 1, \"120\": 1, \"33\": 1, \"61\": 1, \"104\": 1}, \"96\": {\"96\": 5, \"118\": 1, \"83\": 1, \"14\": 1, \"65\": 1, \"99\": 1, \"120\": 1, \"64\": 1}, \"44\": {\"54\": 2, \"41\": 1, \"77\": 1, \"103\": 1, \"44\": 3, \"56\": 1, \"83\": 1, \"128\": 1, \"35\": 1}, \"10\": {\"118\": 1, \"105\": 1, \"38\": 1, \"10\": 9}, \"4\": {\"32\": 1, \"79\": 1, \"91\": 1, \"4\": 6, \"123\": 1, \"87\": 1, \"70\": 1}, \"20\": {\"32\": 1, \"20\": 6, \"1\": 1, \"14\": 1, \"93\": 1, \"28\": 1, \"12\": 1}, \"21\": {\"21\": 6, \"22\": 1, \"65\": 1, \"31\": 1, \"13\": 1}, \"79\": {\"122\": 1, \"79\": 3, \"15\": 1, \"7\": 1, \"30\": 1, \"3\": 1, \"29\": 1, \"103\": 1}, \"99\": {\"99\": 7, \"100\": 2, \"4\": 1, \"47\": 1, \"83\": 1}, \"105\": {\"105\": 9, \"32\": 1, \"88\": 1, \"95\": 1}, \"112\": {\"112\": 5, \"49\": 1, \"27\": 1, \"77\": 1, \"111\": 1, \"75\": 1, \"44\": 1, \"128\": 1}, \"102\": {\"102\": 4, \"37\": 1, \"116\": 1}, \"14\": {\"76\": 1, \"21\": 1, \"32\": 2, \"84\": 1, \"50\": 1, \"37\": 2, \"99\": 1, \"22\": 1, \"14\": 1, \"80\": 1}, \"81\": {\"81\": 7, \"18\": 2, \"2\": 1, \"69\": 1, \"31\": 1}, \"65\": {\"64\": 2, \"65\": 7, \"27\": 1, \"113\": 1, \"72\": 1}, \"22\": {\"76\": 1, \"22\": 6, \"86\": 2, \"55\": 1, \"14\": 1, \"105\": 1}, \"64\": {\"22\": 1, \"13\": 1, \"65\": 1, \"64\": 3, \"80\": 1, \"76\": 1, \"62\": 1, \"55\": 1, \"82\": 2}, \"1\": {\"3\": 2, \"93\": 2, \"1\": 4, \"61\": 1, \"95\": 1, \"23\": 1, \"12\": 1}, \"83\": {\"83\": 6, \"103\": 1, \"119\": 2, \"48\": 1, \"20\": 1, \"99\": 1}, \"2\": {\"81\": 2, \"31\": 1, \"22\": 1, \"2\": 3, \"57\": 1, \"64\": 1, \"113\": 1, \"69\": 2}, \"78\": {\"70\": 1, \"107\": 1, \"105\": 1, \"14\": 2, \"90\": 2, \"80\": 1, \"78\": 2, \"100\": 1, \"4\": 1}, \"107\": {\"107\": 7, \"118\": 1, \"19\": 1, \"32\": 1, \"43\": 1, \"38\": 1}, \"103\": {\"103\": 3, \"129\": 1, \"85\": 2, \"123\": 1, \"73\": 1, \"8\": 1, \"114\": 1, \"79\": 1, \"12\": 1}, \"88\": {\"83\": 1, \"88\": 1, \"5\": 1, \"37\": 1, \"84\": 2, \"33\": 1, \"28\": 1, \"70\": 1, \"105\": 1, \"74\": 1, \"93\": 1}, \"80\": {\"86\": 1, \"80\": 5, \"82\": 1, \"39\": 1, \"64\": 1, \"2\": 1, \"45\": 1, \"116\": 1}, \"109\": {\"64\": 1, \"109\": 4, \"39\": 1, \"29\": 1, \"120\": 1, \"113\": 1, \"110\": 1, \"45\": 1, \"25\": 1}, \"30\": {\"127\": 1, \"30\": 4, \"25\": 1, \"53\": 1, \"111\": 1, \"44\": 1, \"20\": 1, \"12\": 1, \"97\": 1}, \"119\": {\"119\": 8, \"129\": 1, \"38\": 1, \"28\": 1, \"3\": 1}, \"106\": {\"11\": 1, \"6\": 2, \"101\": 2, \"112\": 1, \"0\": 1, \"106\": 4, \"52\": 1}, \"35\": {\"122\": 1, \"35\": 2, \"127\": 1, \"114\": 1, \"0\": 1, \"44\": 2, \"4\": 1, \"128\": 1, \"82\": 1, \"49\": 1}, \"73\": {\"73\": 6, \"110\": 2, \"59\": 1, \"68\": 1, \"53\": 1, \"93\": 1}, \"6\": {\"6\": 7, \"42\": 2, \"108\": 1, \"58\": 1, \"94\": 1}, \"46\": {\"46\": 5, \"68\": 1, \"35\": 1, \"85\": 1, \"41\": 1, \"126\": 2, \"49\": 1}, \"75\": {\"75\": 6, \"9\": 1, \"27\": 1, \"100\": 1, \"98\": 1, \"30\": 1, \"59\": 1}, \"39\": {\"92\": 1, \"39\": 4, \"57\": 1, \"109\": 1, \"67\": 1, \"44\": 1, \"40\": 1, \"74\": 1, \"22\": 1}, \"5\": {\"71\": 2, \"54\": 1, \"5\": 6, \"114\": 2, \"119\": 1}, \"7\": {\"7\": 5, \"68\": 1, \"34\": 1, \"73\": 1, \"83\": 1, \"122\": 1, \"124\": 1, \"59\": 1}, \"124\": {\"88\": 1, \"46\": 1, \"38\": 2, \"10\": 2, \"56\": 1, \"122\": 1, \"78\": 1, \"124\": 3}, \"69\": {\"69\": 10, \"55\": 2}, \"71\": {\"68\": 1, \"42\": 1, \"30\": 2, \"53\": 1, \"69\": 1, \"59\": 1, \"65\": 1, \"118\": 1, \"3\": 1, \"71\": 1, \"127\": 1}, \"74\": {\"74\": 5, \"23\": 1, \"80\": 1, \"50\": 1, \"22\": 1, \"12\": 1}, \"53\": {\"53\": 2, \"97\": 1, \"25\": 1, \"98\": 1, \"101\": 1, \"118\": 1, \"54\": 1, \"29\": 2, \"24\": 1, \"41\": 1}, \"51\": {\"25\": 2, \"108\": 2, \"114\": 1, \"101\": 1, \"51\": 4, \"106\": 1, \"97\": 1}, \"38\": {\"19\": 2, \"38\": 6, \"124\": 2, \"103\": 1, \"107\": 1}, \"62\": {\"118\": 3, \"62\": 5, \"55\": 1, \"26\": 1, \"104\": 1, \"13\": 1}, \"27\": {\"27\": 6, \"75\": 2, \"49\": 2, \"15\": 1, \"28\": 1}, \"19\": {\"3\": 1, \"84\": 1, \"19\": 1, \"71\": 1, \"90\": 1, \"103\": 1, \"100\": 1, \"124\": 1, \"1\": 1, \"86\": 1, \"23\": 1, \"38\": 1}, \"84\": {\"105\": 1, \"88\": 1, \"84\": 3, \"104\": 1, \"60\": 1, \"10\": 1, \"17\": 1, \"118\": 1, \"95\": 1, \"64\": 1}, \"120\": {\"88\": 1, \"120\": 7, \"66\": 2, \"104\": 1, \"96\": 1}, \"114\": {\"59\": 1, \"54\": 1, \"85\": 1, \"25\": 1, \"5\": 3, \"128\": 2, \"114\": 1, \"46\": 1, \"12\": 1}, \"45\": {\"45\": 6, \"65\": 1, \"109\": 1, \"8\": 1, \"116\": 1, \"80\": 1, \"53\": 1}, \"40\": {\"40\": 9, \"84\": 1, \"39\": 1, \"43\": 1}, \"85\": {\"5\": 1, \"59\": 1, \"114\": 1, \"85\": 3, \"103\": 1, \"123\": 1, \"122\": 1, \"3\": 1, \"46\": 2}, \"82\": {\"82\": 7, \"31\": 1, \"55\": 2}, \"101\": {\"101\": 3, \"106\": 1, \"15\": 3, \"51\": 1, \"53\": 1, \"98\": 1, \"111\": 1, \"91\": 1}, \"98\": {\"112\": 1, \"101\": 1, \"98\": 4, \"53\": 1, \"106\": 1, \"75\": 2, \"125\": 1, \"49\": 1}, \"100\": {\"100\": 6, \"99\": 1, \"103\": 1, \"17\": 1, \"122\": 1, \"93\": 2}, \"43\": {\"34\": 2, \"7\": 1, \"67\": 1, \"56\": 1, \"38\": 1, \"105\": 1, \"68\": 1, \"33\": 1, \"43\": 1, \"23\": 1, \"17\": 1}, \"34\": {\"49\": 2, \"16\": 1, \"101\": 1, \"107\": 1, \"53\": 2, \"10\": 1, \"78\": 1, \"14\": 1, \"75\": 1, \"98\": 1}, \"49\": {\"85\": 1, \"0\": 1, \"58\": 1, \"123\": 1, \"8\": 1, \"112\": 1, \"125\": 1, \"49\": 4, \"73\": 1}, \"15\": {\"127\": 1, \"108\": 1, \"15\": 5, \"51\": 1, \"106\": 1, \"77\": 1, \"27\": 1, \"35\": 1}, \"66\": {\"104\": 1, \"66\": 5, \"55\": 1, \"67\": 1, \"65\": 1, \"120\": 1}, \"36\": {\"101\": 2, \"36\": 8, \"15\": 1, \"6\": 1}, \"116\": {\"66\": 2, \"45\": 3, \"116\": 4, \"17\": 1, \"109\": 1, \"43\": 1}, \"67\": {\"55\": 3, \"82\": 1, \"22\": 1, \"102\": 1, \"116\": 2, \"6\": 1, \"50\": 1, \"81\": 1, \"118\": 1}, \"55\": {\"55\": 9, \"116\": 1, \"18\": 1, \"86\": 1}, \"123\": {\"123\": 3, \"103\": 1, \"73\": 2, \"35\": 1, \"122\": 2, \"110\": 1}, \"56\": {\"56\": 2, \"124\": 1, \"10\": 1, \"34\": 1, \"7\": 1, \"100\": 1, \"125\": 1}}, \"Wisig_4\": {\"19\": {\"20\": 1, \"52\": 1, \"43\": 1, \"29\": 1, \"28\": 1, \"3\": 1, \"19\": 3, \"1\": 1, \"128\": 1, \"23\": 1}, \"93\": {\"93\": 5, \"20\": 1, \"80\": 1, \"78\": 1, \"38\": 1, \"19\": 1, \"95\": 1, \"73\": 1}, \"52\": {\"88\": 1, \"52\": 5, \"127\": 1, \"41\": 2, \"7\": 1, \"71\": 2}, \"44\": {\"71\": 2, \"93\": 1, \"44\": 2, \"86\": 1, \"123\": 1, \"78\": 1, \"72\": 1, \"129\": 1, \"87\": 1, \"116\": 1}, \"120\": {\"33\": 1, \"120\": 7, \"17\": 1, \"28\": 2, \"113\": 1}, \"33\": {\"87\": 3, \"33\": 4, \"104\": 1, \"115\": 1, \"107\": 1}, \"87\": {\"120\": 2, \"115\": 1, \"93\": 1, \"38\": 1, \"103\": 1, \"128\": 1, \"129\": 1, \"90\": 1, \"87\": 3}, \"20\": {\"93\": 1, \"66\": 1, \"17\": 1, \"5\": 3, \"74\": 1, \"128\": 1, \"20\": 2, \"80\": 2}, \"35\": {\"35\": 10, \"61\": 1, \"62\": 1}, \"16\": {\"16\": 10, \"117\": 1, \"62\": 1}, \"14\": {\"120\": 2, \"14\": 4, \"84\": 2, \"122\": 2, \"40\": 2}, \"91\": {\"20\": 2, \"52\": 1, \"91\": 1, \"0\": 1, \"86\": 1, \"125\": 1, \"19\": 2, \"75\": 1}, \"121\": {\"121\": 7, \"16\": 1, \"63\": 1, \"107\": 1, \"109\": 1, \"64\": 1}, \"65\": {\"121\": 1, \"65\": 8, \"122\": 1, \"18\": 1, \"56\": 1}, \"66\": {\"66\": 3, \"71\": 1, \"48\": 2, \"1\": 1, \"99\": 1, \"122\": 1, \"38\": 1, \"113\": 1, \"7\": 1}, \"37\": {\"87\": 1, \"71\": 1, \"7\": 1, \"37\": 3, \"38\": 1, \"17\": 1, \"128\": 1, \"129\": 1, \"103\": 1, \"86\": 1}, \"67\": {\"52\": 1, \"14\": 2, \"64\": 1, \"67\": 3, \"102\": 1, \"120\": 1, \"123\": 1, \"69\": 2}, \"88\": {\"71\": 1, \"87\": 1, \"22\": 1, \"66\": 1, \"53\": 2, \"19\": 1, \"94\": 1, \"89\": 1, \"97\": 1, \"10\": 1, \"38\": 1}, \"71\": {\"52\": 1, \"88\": 1, \"71\": 2, \"47\": 1, \"111\": 1, \"103\": 1, \"5\": 2, \"73\": 1, \"114\": 1, \"100\": 1}, \"81\": {\"81\": 7, \"50\": 1, \"39\": 1, \"18\": 1, \"64\": 1, \"65\": 1}, \"34\": {\"86\": 1, \"44\": 1, \"34\": 3, \"57\": 3, \"110\": 1, \"98\": 1, \"87\": 1, \"54\": 1}, \"63\": {\"121\": 2, \"23\": 1, \"65\": 1, \"45\": 1, \"76\": 1, \"63\": 3, \"13\": 1, \"22\": 1, \"116\": 1}, \"73\": {\"73\": 6, \"3\": 2, \"23\": 1, \"105\": 2, \"95\": 1}, \"86\": {\"101\": 1, \"86\": 5, \"108\": 2, \"7\": 2, \"4\": 1, \"1\": 1}, \"106\": {\"106\": 5, \"34\": 2, \"15\": 1, \"103\": 1, \"52\": 1, \"58\": 1, \"68\": 1}, \"68\": {\"106\": 1, \"95\": 1, \"68\": 5, \"12\": 2, \"29\": 2, \"58\": 1}, \"98\": {\"98\": 7, \"0\": 1, \"60\": 1, \"59\": 1, \"47\": 1, \"42\": 1}, \"84\": {\"84\": 3, \"14\": 1, \"102\": 1, \"105\": 1, \"76\": 1, \"116\": 1, \"115\": 1, \"123\": 1, \"64\": 1, \"118\": 1}, \"101\": {\"34\": 1, \"8\": 1, \"101\": 6, \"70\": 1, \"41\": 1, \"46\": 1, \"0\": 1}, \"50\": {\"86\": 1, \"50\": 2, \"66\": 1, \"11\": 1, \"56\": 1, \"4\": 1, \"20\": 1}, \"8\": {\"51\": 1, \"119\": 2, \"66\": 1, \"111\": 1, \"30\": 1, \"42\": 1, \"5\": 1, \"58\": 1, \"68\": 1, \"41\": 2}, \"95\": {\"8\": 1, \"101\": 1, \"23\": 2, \"71\": 1, \"114\": 1, \"7\": 2, \"95\": 2, \"41\": 1, \"72\": 1}, \"119\": {\"119\": 7, \"5\": 1, \"70\": 1, \"83\": 1, \"88\": 1, \"100\": 1}, \"51\": {\"81\": 1, \"51\": 1, \"112\": 1, \"41\": 1, \"85\": 1, \"124\": 1, \"47\": 1, \"15\": 1, \"94\": 1, \"95\": 1, \"97\": 1, \"30\": 1}, \"3\": {\"95\": 1, \"86\": 1, \"5\": 2, \"127\": 3, \"114\": 1, \"85\": 1, \"19\": 1, \"3\": 2}, \"9\": {\"42\": 1, \"75\": 2, \"18\": 1, \"9\": 2, \"88\": 1, \"119\": 1, \"25\": 1, \"127\": 1, \"27\": 1, \"49\": 1}, \"42\": {\"114\": 1, \"42\": 1, \"20\": 1, \"112\": 1, \"6\": 1, \"83\": 1, \"34\": 1, \"0\": 1, \"15\": 1, \"27\": 1, \"52\": 2}, \"123\": {\"123\": 8, \"46\": 1, \"122\": 1, \"63\": 1, \"113\": 1}, \"107\": {\"64\": 1, \"2\": 1, \"82\": 2, \"118\": 1, \"40\": 2, \"107\": 2, \"21\": 1, \"33\": 1, \"55\": 1}, \"111\": {\"114\": 1, \"9\": 1, \"70\": 1, \"30\": 1, \"125\": 1, \"111\": 3, \"29\": 1, \"95\": 1, \"8\": 2}, \"64\": {\"64\": 3, \"69\": 1, \"96\": 3, \"117\": 1, \"92\": 1, \"121\": 1, \"65\": 1, \"109\": 1}, \"31\": {\"31\": 10, \"118\": 1, \"18\": 1}, \"6\": {\"75\": 3, \"42\": 2, \"6\": 2, \"68\": 1, \"94\": 1, \"125\": 1, \"10\": 1, \"29\": 1}, \"53\": {\"114\": 1, \"111\": 1, \"53\": 4, \"91\": 1, \"77\": 1, \"112\": 1, \"6\": 1, \"93\": 1, \"52\": 1}, \"108\": {\"108\": 3, \"123\": 1, \"106\": 1, \"79\": 1, \"129\": 1, \"43\": 1, \"42\": 1, \"7\": 1, \"38\": 1, \"85\": 1}, \"69\": {\"53\": 1, \"69\": 7, \"81\": 1, \"118\": 1, \"31\": 2}, \"96\": {\"69\": 1, \"31\": 1, \"96\": 4, \"62\": 1, \"45\": 2, \"102\": 2, \"63\": 1}, \"22\": {\"107\": 2, \"76\": 1, \"22\": 5, \"13\": 2, \"82\": 1, \"110\": 1}, \"114\": {\"114\": 6, \"53\": 1, \"11\": 1, \"71\": 1, \"38\": 1, \"100\": 1, \"119\": 1}, \"7\": {\"7\": 6, \"86\": 2, \"4\": 1, \"0\": 1, \"48\": 1, \"95\": 1}, \"75\": {\"75\": 5, \"42\": 1, \"9\": 1, \"125\": 1, \"94\": 1, \"53\": 1, \"119\": 1, \"54\": 1}, \"2\": {\"123\": 2, \"2\": 4, \"118\": 1, \"117\": 1, \"57\": 1, \"39\": 1}, \"39\": {\"39\": 5, \"81\": 1, \"18\": 1, \"26\": 1, \"63\": 1, \"28\": 1, \"109\": 1, \"35\": 1}, \"41\": {\"41\": 5, \"52\": 2, \"29\": 1, \"47\": 1, \"10\": 1, \"111\": 2}, \"58\": {\"34\": 1, \"58\": 4, \"108\": 1, \"27\": 1, \"0\": 1, \"52\": 1, \"95\": 1, \"83\": 1, \"112\": 1}, \"127\": {\"127\": 4, \"95\": 1, \"1\": 1, \"0\": 1, \"5\": 1, \"3\": 2, \"46\": 1, \"103\": 1}, \"62\": {\"39\": 1, \"62\": 5, \"16\": 2, \"31\": 1, \"2\": 1, \"118\": 1, \"84\": 1}, \"76\": {\"22\": 2, \"76\": 6, \"116\": 1, \"45\": 3}, \"46\": {\"114\": 1, \"48\": 1, \"7\": 2, \"46\": 4, \"56\": 1, \"129\": 2, \"100\": 1}, \"60\": {\"127\": 1, \"60\": 4, \"91\": 1, \"110\": 1, \"0\": 1, \"74\": 1, \"46\": 1, \"88\": 1, \"113\": 1}, \"118\": {\"22\": 1, \"39\": 1, \"118\": 8, \"84\": 1, \"126\": 1}, \"78\": {\"46\": 1, \"39\": 1, \"72\": 1, \"66\": 1, \"129\": 2, \"14\": 1, \"128\": 1, \"4\": 1, \"119\": 1, \"44\": 1, \"78\": 1}, \"48\": {\"66\": 2, \"48\": 4, \"90\": 1, \"38\": 1, \"60\": 2, \"94\": 1, \"30\": 1}, \"29\": {\"49\": 1, \"29\": 6, \"88\": 1, \"12\": 1, \"23\": 1, \"111\": 1, \"6\": 1}, \"17\": {\"17\": 9, \"40\": 1, \"82\": 1, \"117\": 1}, \"112\": {\"47\": 2, \"101\": 1, \"53\": 1, \"100\": 2, \"12\": 1, \"94\": 1, \"112\": 2, \"103\": 1, \"106\": 1}, \"109\": {\"109\": 5, \"26\": 1, \"32\": 1, \"117\": 1, \"16\": 1, \"84\": 1, \"28\": 1, \"39\": 1}, \"47\": {\"41\": 1, \"47\": 5, \"97\": 2, \"10\": 1, \"98\": 1, \"42\": 1, \"54\": 1}, \"94\": {\"47\": 2, \"94\": 2, \"105\": 1, \"12\": 1, \"112\": 2, \"48\": 1, \"111\": 1, \"24\": 2}, \"115\": {\"115\": 2, \"51\": 1, \"43\": 2, \"1\": 1, \"86\": 1, \"16\": 1, \"118\": 1, \"84\": 1, \"107\": 1, \"5\": 1}, \"5\": {\"3\": 3, \"41\": 1, \"22\": 1, \"99\": 1, \"83\": 1, \"108\": 2, \"20\": 2, \"19\": 1}, \"26\": {\"39\": 1, \"26\": 10, \"62\": 1}, \"89\": {\"89\": 6, \"48\": 1, \"37\": 1, \"116\": 1, \"120\": 1}, \"49\": {\"49\": 2, \"41\": 3, \"79\": 1, \"106\": 1, \"128\": 1, \"85\": 1, \"11\": 1}, \"18\": {\"18\": 11, \"69\": 1}, \"102\": {\"102\": 9, \"104\": 1, \"45\": 1, \"32\": 1}, \"99\": {\"99\": 4, \"115\": 1, \"50\": 2, \"128\": 2, \"3\": 2, \"1\": 1}, \"105\": {\"115\": 2, \"72\": 2, \"74\": 1, \"17\": 1, \"27\": 1, \"89\": 1, \"105\": 1, \"67\": 1, \"37\": 1, \"23\": 1}, \"43\": {\"29\": 1, \"99\": 1, \"43\": 4, \"56\": 2, \"71\": 1, \"108\": 1, \"33\": 1, \"86\": 1}, \"12\": {\"29\": 1, \"12\": 5, \"42\": 1, \"20\": 1, \"85\": 1, \"68\": 1, \"111\": 1, \"49\": 1}, \"1\": {\"1\": 6, \"73\": 1, \"23\": 1, \"50\": 1, \"72\": 1, \"108\": 1, \"11\": 1}, \"21\": {\"21\": 4, \"90\": 1, \"13\": 2, \"76\": 3, \"113\": 1, \"102\": 1}, \"100\": {\"100\": 8, \"38\": 1, \"20\": 1, \"24\": 1, \"119\": 1}, \"80\": {\"80\": 7, \"92\": 2, \"72\": 1}, \"116\": {\"116\": 4, \"76\": 1, \"56\": 1, \"62\": 1, \"102\": 1, \"96\": 1, \"118\": 1, \"87\": 2}, \"70\": {\"52\": 1, \"41\": 1, \"106\": 1, \"70\": 2, \"85\": 1, \"124\": 1, \"119\": 1, \"97\": 1, \"111\": 1, \"125\": 1, \"24\": 1}, \"36\": {\"36\": 4, \"53\": 1, \"25\": 2, \"94\": 1, \"9\": 1, \"54\": 1}, \"122\": {\"122\": 5, \"80\": 1, \"33\": 1, \"113\": 1, \"17\": 1, \"82\": 1, \"57\": 1, \"124\": 1}, \"55\": {\"55\": 8, \"0\": 1, \"7\": 1, \"105\": 1, \"115\": 1}, \"0\": {\"11\": 2, \"127\": 1, \"0\": 4, \"128\": 1, \"70\": 1, \"98\": 1, \"71\": 1, \"119\": 1}, \"4\": {\"124\": 1, \"4\": 3, \"95\": 1, \"72\": 1, \"50\": 1, \"56\": 1, \"7\": 1, \"86\": 2, \"110\": 1}, \"82\": {\"107\": 2, \"118\": 1, \"82\": 7, \"117\": 1, \"120\": 1}, \"32\": {\"32\": 6, \"109\": 1, \"104\": 1, \"17\": 1, \"110\": 1}, \"124\": {\"0\": 1, \"124\": 2, \"129\": 1, \"103\": 1, \"79\": 1, \"87\": 1, \"1\": 1, \"43\": 1, \"93\": 1, \"128\": 1, \"113\": 1}, \"117\": {\"109\": 1, \"18\": 2, \"117\": 6, \"35\": 1, \"69\": 1, \"2\": 1}, \"11\": {\"11\": 4, \"124\": 1, \"99\": 1, \"71\": 1, \"47\": 1, \"95\": 2, \"1\": 1, \"50\": 1}, \"92\": {\"18\": 1, \"31\": 1, \"16\": 1, \"45\": 1, \"92\": 4, \"117\": 1, \"26\": 1, \"96\": 2}, \"128\": {\"38\": 1, \"68\": 1, \"74\": 1, \"0\": 1, \"27\": 1, \"110\": 1, \"128\": 2, \"99\": 1, \"1\": 1, \"5\": 1, \"41\": 1}, \"90\": {\"38\": 4, \"90\": 4, \"107\": 1, \"50\": 1, \"124\": 1, \"121\": 1}, \"74\": {\"48\": 1, \"90\": 1, \"50\": 1, \"74\": 4, \"105\": 1, \"60\": 3, \"89\": 1}, \"38\": {\"74\": 1, \"38\": 8, \"128\": 1, \"4\": 1, \"90\": 1}, \"25\": {\"25\": 10, \"112\": 1, \"59\": 1}, \"15\": {\"68\": 1, \"112\": 1, \"15\": 2, \"54\": 1, \"125\": 2, \"47\": 2, \"97\": 1, \"24\": 1, \"10\": 1}, \"113\": {\"21\": 1, \"113\": 2, \"105\": 1, \"102\": 1, \"38\": 1, \"109\": 1, \"84\": 1, \"40\": 1, \"126\": 1, \"78\": 2}, \"85\": {\"125\": 1, \"85\": 5, \"111\": 2, \"19\": 1, \"68\": 1, \"12\": 1, \"41\": 1}, \"57\": {\"57\": 5, \"122\": 1, \"67\": 1, \"113\": 1, \"99\": 1, \"37\": 1, \"96\": 1, \"2\": 1}, \"13\": {\"113\": 1, \"13\": 3, \"76\": 1, \"123\": 2, \"22\": 1, \"67\": 1, \"63\": 1, \"69\": 1, \"65\": 1}, \"125\": {\"75\": 2, \"125\": 5, \"54\": 2, \"77\": 2, \"10\": 1}, \"28\": {\"89\": 3, \"67\": 1, \"124\": 1, \"28\": 2, \"21\": 1, \"120\": 3, \"113\": 1}, \"40\": {\"40\": 5, \"107\": 1, \"43\": 2, \"60\": 1, \"14\": 1, \"113\": 1, \"129\": 1}, \"56\": {\"56\": 8, \"89\": 1, \"74\": 1, \"122\": 1, \"43\": 1}, \"23\": {\"46\": 1, \"95\": 1, \"66\": 1, \"64\": 1, \"122\": 1, \"23\": 3, \"28\": 1, \"26\": 1, \"37\": 1, \"91\": 1}, \"83\": {\"83\": 6, \"3\": 1, \"79\": 1, \"106\": 1, \"52\": 1, \"41\": 1, \"29\": 1}, \"72\": {\"99\": 1, \"78\": 1, \"95\": 2, \"4\": 1, \"50\": 1, \"60\": 1, \"72\": 5}, \"97\": {\"98\": 2, \"97\": 2, \"111\": 1, \"77\": 1, \"59\": 1, \"47\": 2, \"70\": 1, \"24\": 1, \"87\": 1}, \"77\": {\"47\": 3, \"77\": 4, \"125\": 2, \"6\": 1}, \"45\": {\"45\": 6, \"76\": 1, \"65\": 1, \"109\": 2, \"22\": 1, \"18\": 1}, \"129\": {\"129\": 2, \"127\": 1, \"43\": 2, \"80\": 1, \"50\": 1, \"46\": 1, \"60\": 1, \"51\": 1, \"37\": 1, \"44\": 1}, \"104\": {\"13\": 1, \"35\": 1, \"32\": 2, \"104\": 3, \"82\": 1}, \"10\": {\"36\": 1, \"25\": 1, \"10\": 3, \"70\": 1, \"15\": 2, \"125\": 1, \"3\": 1, \"53\": 1, \"52\": 1}, \"61\": {\"61\": 11, \"121\": 1}, \"110\": {\"23\": 2, \"56\": 2, \"33\": 1, \"82\": 1, \"55\": 1, \"48\": 1, \"78\": 1, \"38\": 1, \"116\": 1, \"87\": 1}, \"79\": {\"119\": 2, \"79\": 4, \"80\": 2, \"90\": 1, \"73\": 1, \"83\": 1, \"41\": 1}, \"30\": {\"25\": 1, \"111\": 1, \"77\": 1, \"30\": 3, \"6\": 1, \"106\": 2, \"53\": 1}, \"103\": {\"71\": 1, \"103\": 2, \"93\": 1, \"73\": 2, \"19\": 2, \"86\": 1, \"23\": 1, \"46\": 2}, \"54\": {\"51\": 1, \"54\": 3, \"125\": 1, \"111\": 1, \"47\": 1, \"75\": 1, \"9\": 2}, \"27\": {\"79\": 1, \"90\": 1, \"0\": 1, \"111\": 1, \"77\": 2, \"47\": 2, \"27\": 1, \"10\": 1, \"19\": 1, \"105\": 1}, \"59\": {\"59\": 4, \"27\": 1, \"54\": 1, \"47\": 2, \"77\": 2}, \"24\": {\"59\": 1, \"27\": 1, \"125\": 1, \"24\": 4, \"97\": 1}, \"126\": {\"126\": 2, \"104\": 1, \"31\": 1, \"113\": 1, \"129\": 1, \"2\": 2}}}, \"per_domain_accuracy\": {\"Metehan_1\": {\"accuracy\": 0.8508771929824561, \"source?\": true}, \"Metehan_0\": {\"accuracy\": 0.8552631578947368, \"source?\": true}, \"Metehan_2\": {\"accuracy\": 0.8508771929824561, \"source?\": true}, \"Wisig_3\": {\"accuracy\": 0.39539473684210524, \"source?\": false}, \"Wisig_1\": {\"accuracy\": 0.40131578947368424, \"source?\": false}, \"Wisig_2\": {\"accuracy\": 0.4072368421052632, \"source?\": false}, \"Wisig_4\": {\"accuracy\": 0.3756578947368421, \"source?\": false}}}, \"history\": {\"epoch_indices\": [1, 2, 3, 4, 5, 6, 7, 8, 9, 10, 11, 12], \"train_label_loss\": [0.3587952893049944, 0.5707705705648377, 2.880598770838881, 0.8131812284626658, 0.42373918691679596, 0.31395114964199444, 0.2663946017209027, 0.2451344830471845, 0.25760839968210175, 0.22907789329451228, 0.22697670902642939, 0.2256957571953535], \"source_val_label_loss\": [0.31748223304748535, 3.8058793544769287, 1.3038936853408813, 0.8214204907417297, 0.41096746921539307, 0.3595079183578491, 0.4016369879245758, 0.40406808257102966, 0.41016116738319397, 0.41505303978919983, 0.44707080721855164, 0.40188488364219666], \"target_val_label_loss\": [41.274497985839844, 562.2523193359375, 64.34579467773438, 56.921932220458984, 27.59517478942871, 21.119298934936523, 25.727096557617188, 20.614904403686523, 24.493032455444336, 24.43115234375, 21.120586395263672, 22.29966163635254], \"source_val_acc_label\": [0.8771929824561403, 0.7543859649122807, 0.8391812865497076, 0.7923976608187134, 0.8581871345029239, 0.8654970760233918, 0.8538011695906432, 0.8523391812865497, 0.8596491228070176, 0.8523391812865497, 0.8435672514619883, 0.8640350877192983], \"target_val_acc_label\": [0.1493421052631579, 0.15657894736842104, 0.21036184210526315, 0.36792763157894737, 0.3899671052631579, 0.35773026315789475, 0.3550986842105263, 0.3949013157894737, 0.4082236842105263, 0.36217105263157895, 0.39013157894736844, 0.3684210526315789]}, \"dataset_metrics\": {\"source\": {\"train\": {\"n_unique_x\": 3990, \"n_unique_y\": 19, \"n_batch/episode\": 126}, \"val\": {\"n_unique_x\": 855, \"n_unique_y\": 19, \"n_batch/episode\": 18}, \"test\": {\"n_unique_x\": 855, \"n_unique_y\": 19, \"n_batch/episode\": 18}}, \"target\": {\"train\": {\"n_unique_x\": 36400, \"n_unique_y\": 130, \"n_batch/episode\": 1129}, \"val\": {\"n_unique_x\": 7792, \"n_unique_y\": 130, \"n_batch/episode\": 160}, \"test\": {\"n_unique_x\": 7792, \"n_unique_y\": 130, \"n_batch/episode\": 160}}}}'"
      ]
     },
     "execution_count": 29,
     "metadata": {},
     "output_type": "execute_result"
    }
   ],
   "source": [
    "json.dumps(experiment)"
   ]
  }
 ],
 "metadata": {
  "celltoolbar": "Tags",
  "kernelspec": {
   "display_name": "Python 3 (ipykernel)",
   "language": "python",
   "name": "python3"
  },
  "language_info": {
   "codemirror_mode": {
    "name": "ipython",
    "version": 3
   },
   "file_extension": ".py",
   "mimetype": "text/x-python",
   "name": "python",
   "nbconvert_exporter": "python",
   "pygments_lexer": "ipython3",
   "version": "3.8.10"
  },
  "papermill": {
   "default_parameters": {},
   "duration": 87.777475,
   "end_time": "2022-03-07T08:39:02.424913",
   "environment_variables": {},
   "exception": null,
   "input_path": "/mnt/wd500GB/CSC500/csc500-main/csc500-notebooks/templates/tl_ptn_template.ipynb",
   "output_path": "trial.ipynb",
   "parameters": {
    "parameters": {
     "BEST_MODEL_PATH": "./best_model.pth",
     "NUM_LOGS_PER_EPOCH": 10,
     "criteria_for_best": "target_loss",
     "dataset_seed": 1337,
     "datasets": [
      {
       "domain_prefix": "Wisig_",
       "domains": [
        1,
        2,
        3,
        4
       ],
       "episode_transforms": [],
       "labels": [
        "1-10",
        "1-12",
        "1-14",
        "1-16",
        "1-18",
        "1-19",
        "1-8",
        "10-11",
        "10-17",
        "10-4",
        "10-7",
        "11-1",
        "11-10",
        "11-19",
        "11-20",
        "11-4",
        "11-7",
        "12-19",
        "12-20",
        "12-7",
        "13-14",
        "13-18",
        "13-19",
        "13-20",
        "13-3",
        "13-7",
        "14-10",
        "14-11",
        "14-12",
        "14-13",
        "14-14",
        "14-19",
        "14-20",
        "14-7",
        "14-8",
        "14-9",
        "15-1",
        "15-19",
        "15-6",
        "16-1",
        "16-16",
        "16-19",
        "16-20",
        "17-10",
        "17-11",
        "18-1",
        "18-10",
        "18-11",
        "18-12",
        "18-13",
        "18-14",
        "18-15",
        "18-16",
        "18-17",
        "18-19",
        "18-2",
        "18-20",
        "18-4",
        "18-5",
        "18-7",
        "18-8",
        "18-9",
        "19-1",
        "19-10",
        "19-11",
        "19-12",
        "19-13",
        "19-14",
        "19-15",
        "19-19",
        "19-2",
        "19-20",
        "19-3",
        "19-4",
        "19-6",
        "19-7",
        "19-8",
        "19-9",
        "2-1",
        "2-13",
        "2-15",
        "2-3",
        "2-4",
        "2-5",
        "2-6",
        "2-7",
        "2-8",
        "20-1",
        "20-12",
        "20-14",
        "20-15",
        "20-16",
        "20-18",
        "20-19",
        "20-20",
        "20-3",
        "20-4",
        "20-5",
        "20-7",
        "20-8",
        "3-1",
        "3-13",
        "3-18",
        "3-2",
        "3-8",
        "4-1",
        "4-10",
        "4-11",
        "5-1",
        "5-5",
        "6-1",
        "6-15",
        "6-6",
        "7-10",
        "7-11",
        "7-12",
        "7-13",
        "7-14",
        "7-7",
        "7-8",
        "7-9",
        "8-1",
        "8-13",
        "8-14",
        "8-18",
        "8-20",
        "8-3",
        "8-8",
        "9-1",
        "9-7"
       ],
       "num_examples_per_domain_per_label": 100,
       "pickle_path": "/mnt/wd500GB/CSC500/csc500-main/datasets/wisig.node3-19.stratified_ds.2022A.pkl",
       "source_or_target_dataset": "target",
       "x_transforms": [
        "unit_power"
       ]
      },
      {
       "domain_prefix": "Metehan_",
       "domains": [
        0,
        1,
        2
       ],
       "episode_transforms": [],
       "labels": [
        0,
        1,
        2,
        3,
        4,
        5,
        6,
        7,
        8,
        9,
        10,
        11,
        12,
        13,
        14,
        15,
        16,
        17,
        18
       ],
       "num_examples_per_domain_per_label": 100,
       "pickle_path": "/mnt/wd500GB/CSC500/csc500-main/datasets/metehan.stratified_ds.2022A.pkl",
       "source_or_target_dataset": "source",
       "x_transforms": [
        "unit_power"
       ]
      }
     ],
     "device": "cuda",
     "experiment_name": "tl_1_wisig-metehan",
     "lr": 0.001,
     "n_epoch": 50,
     "n_query": 2,
     "n_shot": 3,
     "n_way": 19,
     "patience": 3,
     "seed": 1337,
     "test_k_factor": 2,
     "torch_default_dtype": "torch.float32",
     "train_k_factor": 3,
     "val_k_factor": 2,
     "x_net": [
      {
       "class": "nnReshape",
       "kargs": {
        "shape": [
         -1,
         1,
         2,
         256
        ]
       }
      },
      {
       "class": "Conv2d",
       "kargs": {
        "bias": false,
        "in_channels": 1,
        "kernel_size": [
         1,
         7
        ],
        "out_channels": 256,
        "padding": [
         0,
         3
        ]
       }
      },
      {
       "class": "ReLU",
       "kargs": {
        "inplace": true
       }
      },
      {
       "class": "BatchNorm2d",
       "kargs": {
        "num_features": 256
       }
      },
      {
       "class": "Conv2d",
       "kargs": {
        "bias": true,
        "in_channels": 256,
        "kernel_size": [
         2,
         7
        ],
        "out_channels": 80,
        "padding": [
         0,
         3
        ]
       }
      },
      {
       "class": "ReLU",
       "kargs": {
        "inplace": true
       }
      },
      {
       "class": "BatchNorm2d",
       "kargs": {
        "num_features": 80
       }
      },
      {
       "class": "Flatten",
       "kargs": {}
      },
      {
       "class": "Linear",
       "kargs": {
        "in_features": 20480,
        "out_features": 256
       }
      },
      {
       "class": "ReLU",
       "kargs": {
        "inplace": true
       }
      },
      {
       "class": "BatchNorm1d",
       "kargs": {
        "num_features": 256
       }
      },
      {
       "class": "Linear",
       "kargs": {
        "in_features": 256,
        "out_features": 256
       }
      }
     ]
    }
   },
   "start_time": "2022-03-07T08:37:34.647438",
   "version": "2.3.4"
  }
 },
 "nbformat": 4,
 "nbformat_minor": 5
}