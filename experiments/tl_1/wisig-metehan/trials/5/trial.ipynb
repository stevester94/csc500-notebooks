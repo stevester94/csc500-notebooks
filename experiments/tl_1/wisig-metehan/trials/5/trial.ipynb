{
 "cells": [
  {
   "cell_type": "markdown",
   "id": "9fea5f46",
   "metadata": {
    "papermill": {
     "duration": 0.016929,
     "end_time": "2022-03-07T08:40:08.847226",
     "exception": false,
     "start_time": "2022-03-07T08:40:08.830297",
     "status": "completed"
    },
    "tags": []
   },
   "source": [
    "# Transfer Learning Template"
   ]
  },
  {
   "cell_type": "code",
   "execution_count": 1,
   "id": "0902182a",
   "metadata": {
    "execution": {
     "iopub.execute_input": "2022-03-07T08:40:08.886724Z",
     "iopub.status.busy": "2022-03-07T08:40:08.886319Z",
     "iopub.status.idle": "2022-03-07T08:40:09.624335Z",
     "shell.execute_reply": "2022-03-07T08:40:09.623858Z"
    },
    "papermill": {
     "duration": 0.764553,
     "end_time": "2022-03-07T08:40:09.624450",
     "exception": false,
     "start_time": "2022-03-07T08:40:08.859897",
     "status": "completed"
    },
    "tags": []
   },
   "outputs": [],
   "source": [
    "%load_ext autoreload\n",
    "%autoreload 2\n",
    "%matplotlib inline\n",
    "\n",
    "    \n",
    "import os, json, sys, time, random\n",
    "import numpy as np\n",
    "import torch\n",
    "from torch.optim import Adam\n",
    "from  easydict import EasyDict\n",
    "import matplotlib.pyplot as plt\n",
    "\n",
    "from steves_models.steves_ptn import Steves_Prototypical_Network\n",
    "\n",
    "from steves_utils.lazy_iterable_wrapper import Lazy_Iterable_Wrapper\n",
    "from steves_utils.iterable_aggregator import Iterable_Aggregator\n",
    "from steves_utils.ptn_train_eval_test_jig import  PTN_Train_Eval_Test_Jig\n",
    "from steves_utils.torch_sequential_builder import build_sequential\n",
    "from steves_utils.torch_utils import get_dataset_metrics, ptn_confusion_by_domain_over_dataloader\n",
    "from steves_utils.utils_v2 import (per_domain_accuracy_from_confusion, get_datasets_base_path)\n",
    "from steves_utils.PTN.utils import independent_accuracy_assesment\n",
    "\n",
    "from torch.utils.data import DataLoader\n",
    "\n",
    "from steves_utils.stratified_dataset.episodic_accessor import Episodic_Accessor_Factory\n",
    "\n",
    "from steves_utils.ptn_do_report import (\n",
    "    get_loss_curve,\n",
    "    get_results_table,\n",
    "    get_parameters_table,\n",
    "    get_domain_accuracies,\n",
    ")\n",
    "\n",
    "from steves_utils.transforms import get_chained_transform"
   ]
  },
  {
   "cell_type": "markdown",
   "id": "41c840b4",
   "metadata": {
    "papermill": {
     "duration": 0.012903,
     "end_time": "2022-03-07T08:40:09.657719",
     "exception": false,
     "start_time": "2022-03-07T08:40:09.644816",
     "status": "completed"
    },
    "tags": []
   },
   "source": [
    "# Allowed Parameters\n",
    "These are allowed parameters, not defaults\n",
    "Each of these values need to be present in the injected parameters (the notebook will raise an exception if they are not present)\n",
    "\n",
    "Papermill uses the cell tag \"parameters\" to inject the real parameters below this cell.\n",
    "Enable tags to see what I mean"
   ]
  },
  {
   "cell_type": "code",
   "execution_count": 2,
   "id": "fd44eb83",
   "metadata": {
    "execution": {
     "iopub.execute_input": "2022-03-07T08:40:09.692052Z",
     "iopub.status.busy": "2022-03-07T08:40:09.687155Z",
     "iopub.status.idle": "2022-03-07T08:40:09.700331Z",
     "shell.execute_reply": "2022-03-07T08:40:09.699974Z"
    },
    "papermill": {
     "duration": 0.029675,
     "end_time": "2022-03-07T08:40:09.700401",
     "exception": false,
     "start_time": "2022-03-07T08:40:09.670726",
     "status": "completed"
    },
    "tags": []
   },
   "outputs": [],
   "source": [
    "required_parameters = {\n",
    "    \"experiment_name\",\n",
    "    \"lr\",\n",
    "    \"device\",\n",
    "    \"seed\",\n",
    "    \"dataset_seed\",\n",
    "    \"n_shot\",\n",
    "    \"n_query\",\n",
    "    \"n_way\",\n",
    "    \"train_k_factor\",\n",
    "    \"val_k_factor\",\n",
    "    \"test_k_factor\",\n",
    "    \"n_epoch\",\n",
    "    \"patience\",\n",
    "    \"criteria_for_best\",\n",
    "    \"x_net\",\n",
    "    \"datasets\",\n",
    "    \"torch_default_dtype\",\n",
    "    \"NUM_LOGS_PER_EPOCH\",\n",
    "    \"BEST_MODEL_PATH\",\n",
    "}"
   ]
  },
  {
   "cell_type": "code",
   "execution_count": 3,
   "id": "fa3f0049",
   "metadata": {
    "execution": {
     "iopub.execute_input": "2022-03-07T08:40:09.737945Z",
     "iopub.status.busy": "2022-03-07T08:40:09.737645Z",
     "iopub.status.idle": "2022-03-07T08:40:09.750254Z",
     "shell.execute_reply": "2022-03-07T08:40:09.749807Z"
    },
    "papermill": {
     "duration": 0.03216,
     "end_time": "2022-03-07T08:40:09.750343",
     "exception": false,
     "start_time": "2022-03-07T08:40:09.718183",
     "status": "completed"
    },
    "tags": [
     "parameters"
    ]
   },
   "outputs": [],
   "source": [
    "from steves_utils.CORES.utils import (\n",
    "    ALL_NODES,\n",
    "    ALL_NODES_MINIMUM_1000_EXAMPLES,\n",
    "    ALL_DAYS\n",
    ")\n",
    "\n",
    "from steves_utils.ORACLE.utils_v2 import (\n",
    "    ALL_DISTANCES_FEET_NARROWED,\n",
    "    ALL_RUNS,\n",
    "    ALL_SERIAL_NUMBERS,\n",
    ")\n",
    "\n",
    "standalone_parameters = {}\n",
    "standalone_parameters[\"experiment_name\"] = \"STANDALONE PTN\"\n",
    "standalone_parameters[\"lr\"] = 0.001\n",
    "standalone_parameters[\"device\"] = \"cuda\"\n",
    "\n",
    "standalone_parameters[\"seed\"] = 1337\n",
    "standalone_parameters[\"dataset_seed\"] = 1337\n",
    "\n",
    "standalone_parameters[\"n_way\"] = 8\n",
    "standalone_parameters[\"n_shot\"] = 3\n",
    "standalone_parameters[\"n_query\"]  = 2\n",
    "standalone_parameters[\"train_k_factor\"] = 1\n",
    "standalone_parameters[\"val_k_factor\"] = 2\n",
    "standalone_parameters[\"test_k_factor\"] = 2\n",
    "\n",
    "\n",
    "standalone_parameters[\"n_epoch\"] = 50\n",
    "\n",
    "standalone_parameters[\"patience\"] = 10\n",
    "standalone_parameters[\"criteria_for_best\"] = \"source_loss\"\n",
    "\n",
    "standalone_parameters[\"datasets\"] = [\n",
    "    {\n",
    "        \"labels\": ALL_SERIAL_NUMBERS,\n",
    "        \"domains\": ALL_DISTANCES_FEET_NARROWED,\n",
    "        \"num_examples_per_domain_per_label\": 100,\n",
    "        \"pickle_path\": os.path.join(get_datasets_base_path(), \"oracle.Run1_framed_2000Examples_stratified_ds.2022A.pkl\"),\n",
    "        \"source_or_target_dataset\": \"source\",\n",
    "        \"x_transforms\": [\"unit_mag\", \"minus_two\"],\n",
    "        \"episode_transforms\": [],\n",
    "        \"domain_prefix\": \"ORACLE_\"\n",
    "    },\n",
    "    {\n",
    "        \"labels\": ALL_NODES,\n",
    "        \"domains\": ALL_DAYS,\n",
    "        \"num_examples_per_domain_per_label\": 100,\n",
    "        \"pickle_path\": os.path.join(get_datasets_base_path(), \"cores.stratified_ds.2022A.pkl\"),\n",
    "        \"source_or_target_dataset\": \"target\",\n",
    "        \"x_transforms\": [\"unit_power\", \"times_zero\"],\n",
    "        \"episode_transforms\": [],\n",
    "        \"domain_prefix\": \"CORES_\"\n",
    "    }   \n",
    "]\n",
    "\n",
    "standalone_parameters[\"torch_default_dtype\"] = \"torch.float32\" \n",
    "\n",
    "\n",
    "\n",
    "standalone_parameters[\"x_net\"] =     [\n",
    "    {\"class\": \"nnReshape\", \"kargs\": {\"shape\":[-1, 1, 2, 256]}},\n",
    "    {\"class\": \"Conv2d\", \"kargs\": { \"in_channels\":1, \"out_channels\":256, \"kernel_size\":(1,7), \"bias\":False, \"padding\":(0,3), },},\n",
    "    {\"class\": \"ReLU\", \"kargs\": {\"inplace\": True}},\n",
    "    {\"class\": \"BatchNorm2d\", \"kargs\": {\"num_features\":256}},\n",
    "\n",
    "    {\"class\": \"Conv2d\", \"kargs\": { \"in_channels\":256, \"out_channels\":80, \"kernel_size\":(2,7), \"bias\":True, \"padding\":(0,3), },},\n",
    "    {\"class\": \"ReLU\", \"kargs\": {\"inplace\": True}},\n",
    "    {\"class\": \"BatchNorm2d\", \"kargs\": {\"num_features\":80}},\n",
    "    {\"class\": \"Flatten\", \"kargs\": {}},\n",
    "\n",
    "    {\"class\": \"Linear\", \"kargs\": {\"in_features\": 80*256, \"out_features\": 256}}, # 80 units per IQ pair\n",
    "    {\"class\": \"ReLU\", \"kargs\": {\"inplace\": True}},\n",
    "    {\"class\": \"BatchNorm1d\", \"kargs\": {\"num_features\":256}},\n",
    "\n",
    "    {\"class\": \"Linear\", \"kargs\": {\"in_features\": 256, \"out_features\": 256}},\n",
    "]\n",
    "\n",
    "# Parameters relevant to results\n",
    "# These parameters will basically never need to change\n",
    "standalone_parameters[\"NUM_LOGS_PER_EPOCH\"] = 10\n",
    "standalone_parameters[\"BEST_MODEL_PATH\"] = \"./best_model.pth\"\n",
    "\n",
    "\n",
    "\n",
    "\n"
   ]
  },
  {
   "cell_type": "code",
   "execution_count": 4,
   "id": "9e3887b9",
   "metadata": {
    "execution": {
     "iopub.execute_input": "2022-03-07T08:40:09.793898Z",
     "iopub.status.busy": "2022-03-07T08:40:09.793245Z",
     "iopub.status.idle": "2022-03-07T08:40:09.803890Z",
     "shell.execute_reply": "2022-03-07T08:40:09.803532Z"
    },
    "papermill": {
     "duration": 0.036072,
     "end_time": "2022-03-07T08:40:09.803971",
     "exception": false,
     "start_time": "2022-03-07T08:40:09.767899",
     "status": "completed"
    },
    "tags": [
     "injected-parameters"
    ]
   },
   "outputs": [],
   "source": [
    "# Parameters\n",
    "parameters = {\n",
    "    \"experiment_name\": \"tl_1_wisig-metehan\",\n",
    "    \"device\": \"cuda\",\n",
    "    \"lr\": 0.001,\n",
    "    \"seed\": 1337,\n",
    "    \"dataset_seed\": 1337,\n",
    "    \"n_shot\": 3,\n",
    "    \"n_query\": 2,\n",
    "    \"train_k_factor\": 3,\n",
    "    \"val_k_factor\": 2,\n",
    "    \"test_k_factor\": 2,\n",
    "    \"torch_default_dtype\": \"torch.float32\",\n",
    "    \"n_epoch\": 50,\n",
    "    \"patience\": 3,\n",
    "    \"criteria_for_best\": \"target_loss\",\n",
    "    \"x_net\": [\n",
    "        {\"class\": \"nnReshape\", \"kargs\": {\"shape\": [-1, 1, 2, 256]}},\n",
    "        {\n",
    "            \"class\": \"Conv2d\",\n",
    "            \"kargs\": {\n",
    "                \"in_channels\": 1,\n",
    "                \"out_channels\": 256,\n",
    "                \"kernel_size\": [1, 7],\n",
    "                \"bias\": False,\n",
    "                \"padding\": [0, 3],\n",
    "            },\n",
    "        },\n",
    "        {\"class\": \"ReLU\", \"kargs\": {\"inplace\": True}},\n",
    "        {\"class\": \"BatchNorm2d\", \"kargs\": {\"num_features\": 256}},\n",
    "        {\n",
    "            \"class\": \"Conv2d\",\n",
    "            \"kargs\": {\n",
    "                \"in_channels\": 256,\n",
    "                \"out_channels\": 80,\n",
    "                \"kernel_size\": [2, 7],\n",
    "                \"bias\": True,\n",
    "                \"padding\": [0, 3],\n",
    "            },\n",
    "        },\n",
    "        {\"class\": \"ReLU\", \"kargs\": {\"inplace\": True}},\n",
    "        {\"class\": \"BatchNorm2d\", \"kargs\": {\"num_features\": 80}},\n",
    "        {\"class\": \"Flatten\", \"kargs\": {}},\n",
    "        {\"class\": \"Linear\", \"kargs\": {\"in_features\": 20480, \"out_features\": 256}},\n",
    "        {\"class\": \"ReLU\", \"kargs\": {\"inplace\": True}},\n",
    "        {\"class\": \"BatchNorm1d\", \"kargs\": {\"num_features\": 256}},\n",
    "        {\"class\": \"Linear\", \"kargs\": {\"in_features\": 256, \"out_features\": 256}},\n",
    "    ],\n",
    "    \"NUM_LOGS_PER_EPOCH\": 10,\n",
    "    \"BEST_MODEL_PATH\": \"./best_model.pth\",\n",
    "    \"n_way\": 19,\n",
    "    \"datasets\": [\n",
    "        {\n",
    "            \"labels\": [\n",
    "                \"1-10\",\n",
    "                \"1-12\",\n",
    "                \"1-14\",\n",
    "                \"1-16\",\n",
    "                \"1-18\",\n",
    "                \"1-19\",\n",
    "                \"1-8\",\n",
    "                \"10-11\",\n",
    "                \"10-17\",\n",
    "                \"10-4\",\n",
    "                \"10-7\",\n",
    "                \"11-1\",\n",
    "                \"11-10\",\n",
    "                \"11-19\",\n",
    "                \"11-20\",\n",
    "                \"11-4\",\n",
    "                \"11-7\",\n",
    "                \"12-19\",\n",
    "                \"12-20\",\n",
    "                \"12-7\",\n",
    "                \"13-14\",\n",
    "                \"13-18\",\n",
    "                \"13-19\",\n",
    "                \"13-20\",\n",
    "                \"13-3\",\n",
    "                \"13-7\",\n",
    "                \"14-10\",\n",
    "                \"14-11\",\n",
    "                \"14-12\",\n",
    "                \"14-13\",\n",
    "                \"14-14\",\n",
    "                \"14-19\",\n",
    "                \"14-20\",\n",
    "                \"14-7\",\n",
    "                \"14-8\",\n",
    "                \"14-9\",\n",
    "                \"15-1\",\n",
    "                \"15-19\",\n",
    "                \"15-6\",\n",
    "                \"16-1\",\n",
    "                \"16-16\",\n",
    "                \"16-19\",\n",
    "                \"16-20\",\n",
    "                \"17-10\",\n",
    "                \"17-11\",\n",
    "                \"18-1\",\n",
    "                \"18-10\",\n",
    "                \"18-11\",\n",
    "                \"18-12\",\n",
    "                \"18-13\",\n",
    "                \"18-14\",\n",
    "                \"18-15\",\n",
    "                \"18-16\",\n",
    "                \"18-17\",\n",
    "                \"18-19\",\n",
    "                \"18-2\",\n",
    "                \"18-20\",\n",
    "                \"18-4\",\n",
    "                \"18-5\",\n",
    "                \"18-7\",\n",
    "                \"18-8\",\n",
    "                \"18-9\",\n",
    "                \"19-1\",\n",
    "                \"19-10\",\n",
    "                \"19-11\",\n",
    "                \"19-12\",\n",
    "                \"19-13\",\n",
    "                \"19-14\",\n",
    "                \"19-15\",\n",
    "                \"19-19\",\n",
    "                \"19-2\",\n",
    "                \"19-20\",\n",
    "                \"19-3\",\n",
    "                \"19-4\",\n",
    "                \"19-6\",\n",
    "                \"19-7\",\n",
    "                \"19-8\",\n",
    "                \"19-9\",\n",
    "                \"2-1\",\n",
    "                \"2-13\",\n",
    "                \"2-15\",\n",
    "                \"2-3\",\n",
    "                \"2-4\",\n",
    "                \"2-5\",\n",
    "                \"2-6\",\n",
    "                \"2-7\",\n",
    "                \"2-8\",\n",
    "                \"20-1\",\n",
    "                \"20-12\",\n",
    "                \"20-14\",\n",
    "                \"20-15\",\n",
    "                \"20-16\",\n",
    "                \"20-18\",\n",
    "                \"20-19\",\n",
    "                \"20-20\",\n",
    "                \"20-3\",\n",
    "                \"20-4\",\n",
    "                \"20-5\",\n",
    "                \"20-7\",\n",
    "                \"20-8\",\n",
    "                \"3-1\",\n",
    "                \"3-13\",\n",
    "                \"3-18\",\n",
    "                \"3-2\",\n",
    "                \"3-8\",\n",
    "                \"4-1\",\n",
    "                \"4-10\",\n",
    "                \"4-11\",\n",
    "                \"5-1\",\n",
    "                \"5-5\",\n",
    "                \"6-1\",\n",
    "                \"6-15\",\n",
    "                \"6-6\",\n",
    "                \"7-10\",\n",
    "                \"7-11\",\n",
    "                \"7-12\",\n",
    "                \"7-13\",\n",
    "                \"7-14\",\n",
    "                \"7-7\",\n",
    "                \"7-8\",\n",
    "                \"7-9\",\n",
    "                \"8-1\",\n",
    "                \"8-13\",\n",
    "                \"8-14\",\n",
    "                \"8-18\",\n",
    "                \"8-20\",\n",
    "                \"8-3\",\n",
    "                \"8-8\",\n",
    "                \"9-1\",\n",
    "                \"9-7\",\n",
    "            ],\n",
    "            \"domains\": [1, 2, 3, 4],\n",
    "            \"num_examples_per_domain_per_label\": 100,\n",
    "            \"pickle_path\": \"/mnt/wd500GB/CSC500/csc500-main/datasets/wisig.node3-19.stratified_ds.2022A.pkl\",\n",
    "            \"source_or_target_dataset\": \"target\",\n",
    "            \"x_transforms\": [],\n",
    "            \"episode_transforms\": [],\n",
    "            \"domain_prefix\": \"Wisig_\",\n",
    "        },\n",
    "        {\n",
    "            \"labels\": [\n",
    "                0,\n",
    "                1,\n",
    "                2,\n",
    "                3,\n",
    "                4,\n",
    "                5,\n",
    "                6,\n",
    "                7,\n",
    "                8,\n",
    "                9,\n",
    "                10,\n",
    "                11,\n",
    "                12,\n",
    "                13,\n",
    "                14,\n",
    "                15,\n",
    "                16,\n",
    "                17,\n",
    "                18,\n",
    "            ],\n",
    "            \"domains\": [0, 1, 2],\n",
    "            \"num_examples_per_domain_per_label\": 100,\n",
    "            \"pickle_path\": \"/mnt/wd500GB/CSC500/csc500-main/datasets/metehan.stratified_ds.2022A.pkl\",\n",
    "            \"source_or_target_dataset\": \"source\",\n",
    "            \"x_transforms\": [],\n",
    "            \"episode_transforms\": [],\n",
    "            \"domain_prefix\": \"Metehan_\",\n",
    "        },\n",
    "    ],\n",
    "}\n"
   ]
  },
  {
   "cell_type": "code",
   "execution_count": 5,
   "id": "8fa1cc33",
   "metadata": {
    "execution": {
     "iopub.execute_input": "2022-03-07T08:40:09.844352Z",
     "iopub.status.busy": "2022-03-07T08:40:09.836789Z",
     "iopub.status.idle": "2022-03-07T08:40:09.849937Z",
     "shell.execute_reply": "2022-03-07T08:40:09.849529Z"
    },
    "papermill": {
     "duration": 0.0312,
     "end_time": "2022-03-07T08:40:09.850030",
     "exception": false,
     "start_time": "2022-03-07T08:40:09.818830",
     "status": "completed"
    },
    "tags": []
   },
   "outputs": [],
   "source": [
    "# Set this to True if you want to run this template directly\n",
    "STANDALONE = False\n",
    "if STANDALONE:\n",
    "    print(\"parameters not injected, running with standalone_parameters\")\n",
    "    parameters = standalone_parameters\n",
    "\n",
    "if not 'parameters' in locals() and not 'parameters' in globals():\n",
    "    raise Exception(\"Parameter injection failed\")\n",
    "\n",
    "#Use an easy dict for all the parameters\n",
    "p = EasyDict(parameters)\n",
    "\n",
    "supplied_keys = set(p.keys())\n",
    "\n",
    "if  supplied_keys != required_parameters:\n",
    "    print(\"Parameters are incorrect\")\n",
    "    if len(supplied_keys - required_parameters)>0: print(\"Shouldn't have:\", str(supplied_keys - required_parameters))\n",
    "    if len(required_parameters - supplied_keys)>0: print(\"Need to have:\", str(required_parameters - supplied_keys))\n",
    "    raise RuntimeError(\"Parameters are incorrect\")\n",
    "\n"
   ]
  },
  {
   "cell_type": "code",
   "execution_count": 6,
   "id": "3a028d58",
   "metadata": {
    "execution": {
     "iopub.execute_input": "2022-03-07T08:40:09.882483Z",
     "iopub.status.busy": "2022-03-07T08:40:09.882152Z",
     "iopub.status.idle": "2022-03-07T08:40:09.894261Z",
     "shell.execute_reply": "2022-03-07T08:40:09.893817Z"
    },
    "papermill": {
     "duration": 0.026985,
     "end_time": "2022-03-07T08:40:09.894349",
     "exception": false,
     "start_time": "2022-03-07T08:40:09.867364",
     "status": "completed"
    },
    "tags": []
   },
   "outputs": [],
   "source": [
    "###################################\n",
    "# Set the RNGs and make it all deterministic\n",
    "###################################\n",
    "np.random.seed(p.seed)\n",
    "random.seed(p.seed)\n",
    "torch.manual_seed(p.seed)\n",
    "\n",
    "torch.use_deterministic_algorithms(True) "
   ]
  },
  {
   "cell_type": "code",
   "execution_count": 7,
   "id": "b691acf6",
   "metadata": {
    "execution": {
     "iopub.execute_input": "2022-03-07T08:40:09.931203Z",
     "iopub.status.busy": "2022-03-07T08:40:09.924987Z",
     "iopub.status.idle": "2022-03-07T08:40:09.936674Z",
     "shell.execute_reply": "2022-03-07T08:40:09.936204Z"
    },
    "papermill": {
     "duration": 0.027457,
     "end_time": "2022-03-07T08:40:09.936768",
     "exception": false,
     "start_time": "2022-03-07T08:40:09.909311",
     "status": "completed"
    },
    "tags": []
   },
   "outputs": [],
   "source": [
    "###########################################\n",
    "# The stratified datasets honor this\n",
    "###########################################\n",
    "torch.set_default_dtype(eval(p.torch_default_dtype))"
   ]
  },
  {
   "cell_type": "code",
   "execution_count": 8,
   "id": "b5fba671",
   "metadata": {
    "execution": {
     "iopub.execute_input": "2022-03-07T08:40:09.969713Z",
     "iopub.status.busy": "2022-03-07T08:40:09.969357Z",
     "iopub.status.idle": "2022-03-07T08:40:10.008889Z",
     "shell.execute_reply": "2022-03-07T08:40:10.008497Z"
    },
    "papermill": {
     "duration": 0.054242,
     "end_time": "2022-03-07T08:40:10.008976",
     "exception": false,
     "start_time": "2022-03-07T08:40:09.954734",
     "status": "completed"
    },
    "tags": []
   },
   "outputs": [],
   "source": [
    "###################################\n",
    "# Build the network(s)\n",
    "# Note: It's critical to do this AFTER setting the RNG\n",
    "###################################\n",
    "x_net = build_sequential(p.x_net)"
   ]
  },
  {
   "cell_type": "code",
   "execution_count": 9,
   "id": "5d7e61cc",
   "metadata": {
    "execution": {
     "iopub.execute_input": "2022-03-07T08:40:10.043334Z",
     "iopub.status.busy": "2022-03-07T08:40:10.042166Z",
     "iopub.status.idle": "2022-03-07T08:40:10.055269Z",
     "shell.execute_reply": "2022-03-07T08:40:10.055554Z"
    },
    "papermill": {
     "duration": 0.028879,
     "end_time": "2022-03-07T08:40:10.055651",
     "exception": false,
     "start_time": "2022-03-07T08:40:10.026772",
     "status": "completed"
    },
    "tags": []
   },
   "outputs": [],
   "source": [
    "start_time_secs = time.time()"
   ]
  },
  {
   "cell_type": "code",
   "execution_count": 10,
   "id": "c6b67dfd",
   "metadata": {
    "execution": {
     "iopub.execute_input": "2022-03-07T08:40:10.090138Z",
     "iopub.status.busy": "2022-03-07T08:40:10.089881Z",
     "iopub.status.idle": "2022-03-07T08:40:10.102098Z",
     "shell.execute_reply": "2022-03-07T08:40:10.101877Z"
    },
    "papermill": {
     "duration": 0.028174,
     "end_time": "2022-03-07T08:40:10.102151",
     "exception": false,
     "start_time": "2022-03-07T08:40:10.073977",
     "status": "completed"
    },
    "tags": []
   },
   "outputs": [],
   "source": [
    "p.domains_source = []\n",
    "p.domains_target = []\n",
    "\n",
    "\n",
    "train_original_source = []\n",
    "val_original_source   = []\n",
    "test_original_source  = []\n",
    "\n",
    "train_original_target = []\n",
    "val_original_target   = []\n",
    "test_original_target  = []"
   ]
  },
  {
   "cell_type": "code",
   "execution_count": 11,
   "id": "e3d9c3d3",
   "metadata": {
    "execution": {
     "iopub.execute_input": "2022-03-07T08:40:10.135565Z",
     "iopub.status.busy": "2022-03-07T08:40:10.134740Z",
     "iopub.status.idle": "2022-03-07T08:40:10.147345Z",
     "shell.execute_reply": "2022-03-07T08:40:10.146862Z"
    },
    "papermill": {
     "duration": 0.028055,
     "end_time": "2022-03-07T08:40:10.147447",
     "exception": false,
     "start_time": "2022-03-07T08:40:10.119392",
     "status": "completed"
    },
    "tags": []
   },
   "outputs": [],
   "source": [
    "# global_x_transform_func = lambda x: normalize(x.to(torch.get_default_dtype()), \"unit_power\") # unit_power, unit_mag\n",
    "# global_x_transform_func = lambda x: normalize(x, \"unit_power\") # unit_power, unit_mag"
   ]
  },
  {
   "cell_type": "code",
   "execution_count": 12,
   "id": "acb78fd2",
   "metadata": {
    "execution": {
     "iopub.execute_input": "2022-03-07T08:40:10.183842Z",
     "iopub.status.busy": "2022-03-07T08:40:10.183170Z",
     "iopub.status.idle": "2022-03-07T08:40:10.194186Z",
     "shell.execute_reply": "2022-03-07T08:40:10.194539Z"
    },
    "papermill": {
     "duration": 0.031337,
     "end_time": "2022-03-07T08:40:10.194647",
     "exception": false,
     "start_time": "2022-03-07T08:40:10.163310",
     "status": "completed"
    },
    "tags": []
   },
   "outputs": [],
   "source": [
    "def add_dataset(\n",
    "    labels,\n",
    "    domains,\n",
    "    pickle_path,\n",
    "    x_transforms,\n",
    "    episode_transforms,\n",
    "    domain_prefix,\n",
    "    num_examples_per_domain_per_label,\n",
    "    source_or_target_dataset:str,\n",
    "    iterator_seed=p.seed,\n",
    "    dataset_seed=p.dataset_seed,\n",
    "    n_shot=p.n_shot,\n",
    "    n_way=p.n_way,\n",
    "    n_query=p.n_query,\n",
    "    train_val_test_k_factors=(p.train_k_factor,p.val_k_factor,p.test_k_factor),\n",
    "):\n",
    "   \n",
    "    if x_transforms == []: x_transform = None\n",
    "    else: x_transform = get_chained_transform(x_transforms)\n",
    "    \n",
    "    if episode_transforms == []: episode_transform = None\n",
    "    else: raise Exception(\"episode_transforms not implemented\")\n",
    "    \n",
    "    episode_transform = lambda tup, _prefix=domain_prefix: (_prefix + str(tup[0]), tup[1])\n",
    "\n",
    "\n",
    "    eaf = Episodic_Accessor_Factory(\n",
    "        labels=labels,\n",
    "        domains=domains,\n",
    "        num_examples_per_domain_per_label=num_examples_per_domain_per_label,\n",
    "        iterator_seed=iterator_seed,\n",
    "        dataset_seed=dataset_seed,\n",
    "        n_shot=n_shot,\n",
    "        n_way=n_way,\n",
    "        n_query=n_query,\n",
    "        train_val_test_k_factors=train_val_test_k_factors,\n",
    "        pickle_path=pickle_path,\n",
    "        x_transform_func=x_transform,\n",
    "    )\n",
    "\n",
    "    train, val, test = eaf.get_train(), eaf.get_val(), eaf.get_test()\n",
    "    train = Lazy_Iterable_Wrapper(train, episode_transform)\n",
    "    val = Lazy_Iterable_Wrapper(val, episode_transform)\n",
    "    test = Lazy_Iterable_Wrapper(test, episode_transform)\n",
    "\n",
    "    if source_or_target_dataset==\"source\":\n",
    "        train_original_source.append(train)\n",
    "        val_original_source.append(val)\n",
    "        test_original_source.append(test)\n",
    "\n",
    "        p.domains_source.extend(\n",
    "            [domain_prefix + str(u) for u in domains]\n",
    "        )\n",
    "    elif source_or_target_dataset==\"target\":\n",
    "        train_original_target.append(train)\n",
    "        val_original_target.append(val)\n",
    "        test_original_target.append(test)\n",
    "        p.domains_target.extend(\n",
    "            [domain_prefix + str(u) for u in domains]\n",
    "        )\n",
    "    else:\n",
    "        raise Exception(f\"invalid source_or_target_dataset: {source_or_target_dataset}\")\n",
    "    "
   ]
  },
  {
   "cell_type": "code",
   "execution_count": 13,
   "id": "fe266617",
   "metadata": {
    "execution": {
     "iopub.execute_input": "2022-03-07T08:40:10.228994Z",
     "iopub.status.busy": "2022-03-07T08:40:10.228739Z",
     "iopub.status.idle": "2022-03-07T08:40:10.771681Z",
     "shell.execute_reply": "2022-03-07T08:40:10.771187Z"
    },
    "papermill": {
     "duration": 0.55802,
     "end_time": "2022-03-07T08:40:10.771796",
     "exception": false,
     "start_time": "2022-03-07T08:40:10.213776",
     "status": "completed"
    },
    "tags": []
   },
   "outputs": [],
   "source": [
    "for ds in p.datasets:\n",
    "    add_dataset(**ds)"
   ]
  },
  {
   "cell_type": "code",
   "execution_count": 14,
   "id": "b90d65ac",
   "metadata": {
    "execution": {
     "iopub.execute_input": "2022-03-07T08:40:10.805200Z",
     "iopub.status.busy": "2022-03-07T08:40:10.804941Z",
     "iopub.status.idle": "2022-03-07T08:40:10.814107Z",
     "shell.execute_reply": "2022-03-07T08:40:10.813791Z"
    },
    "papermill": {
     "duration": 0.024164,
     "end_time": "2022-03-07T08:40:10.814179",
     "exception": false,
     "start_time": "2022-03-07T08:40:10.790015",
     "status": "completed"
    },
    "tags": []
   },
   "outputs": [],
   "source": [
    "# from steves_utils.CORES.utils import (\n",
    "#     ALL_NODES,\n",
    "#     ALL_NODES_MINIMUM_1000_EXAMPLES,\n",
    "#     ALL_DAYS\n",
    "# )\n",
    "\n",
    "# add_dataset(\n",
    "#     labels=ALL_NODES,\n",
    "#     domains = ALL_DAYS,\n",
    "#     num_examples_per_domain_per_label=100,\n",
    "#     pickle_path=os.path.join(get_datasets_base_path(), \"cores.stratified_ds.2022A.pkl\"),\n",
    "#     source_or_target_dataset=\"target\",\n",
    "#     x_transform_func=global_x_transform_func,\n",
    "#     domain_modifier=lambda u: f\"cores_{u}\"\n",
    "# )"
   ]
  },
  {
   "cell_type": "code",
   "execution_count": 15,
   "id": "76db484d",
   "metadata": {
    "execution": {
     "iopub.execute_input": "2022-03-07T08:40:10.845506Z",
     "iopub.status.busy": "2022-03-07T08:40:10.845231Z",
     "iopub.status.idle": "2022-03-07T08:40:10.853118Z",
     "shell.execute_reply": "2022-03-07T08:40:10.853400Z"
    },
    "papermill": {
     "duration": 0.023037,
     "end_time": "2022-03-07T08:40:10.853485",
     "exception": false,
     "start_time": "2022-03-07T08:40:10.830448",
     "status": "completed"
    },
    "tags": []
   },
   "outputs": [],
   "source": [
    "# from steves_utils.ORACLE.utils_v2 import (\n",
    "#     ALL_DISTANCES_FEET,\n",
    "#     ALL_RUNS,\n",
    "#     ALL_SERIAL_NUMBERS,\n",
    "# )\n",
    "\n",
    "\n",
    "# add_dataset(\n",
    "#     labels=ALL_SERIAL_NUMBERS,\n",
    "#     domains = list(set(ALL_DISTANCES_FEET) - {2,62}),\n",
    "#     num_examples_per_domain_per_label=100,\n",
    "#     pickle_path=os.path.join(get_datasets_base_path(), \"oracle.Run2_framed_2000Examples_stratified_ds.2022A.pkl\"),\n",
    "#     source_or_target_dataset=\"source\",\n",
    "#     x_transform_func=global_x_transform_func,\n",
    "#     domain_modifier=lambda u: f\"oracle1_{u}\"\n",
    "# )\n"
   ]
  },
  {
   "cell_type": "code",
   "execution_count": 16,
   "id": "97dea9d2",
   "metadata": {
    "execution": {
     "iopub.execute_input": "2022-03-07T08:40:10.886437Z",
     "iopub.status.busy": "2022-03-07T08:40:10.886155Z",
     "iopub.status.idle": "2022-03-07T08:40:10.900094Z",
     "shell.execute_reply": "2022-03-07T08:40:10.899641Z"
    },
    "papermill": {
     "duration": 0.029969,
     "end_time": "2022-03-07T08:40:10.900186",
     "exception": false,
     "start_time": "2022-03-07T08:40:10.870217",
     "status": "completed"
    },
    "tags": []
   },
   "outputs": [],
   "source": [
    "# from steves_utils.ORACLE.utils_v2 import (\n",
    "#     ALL_DISTANCES_FEET,\n",
    "#     ALL_RUNS,\n",
    "#     ALL_SERIAL_NUMBERS,\n",
    "# )\n",
    "\n",
    "\n",
    "# add_dataset(\n",
    "#     labels=ALL_SERIAL_NUMBERS,\n",
    "#     domains = list(set(ALL_DISTANCES_FEET) - {2,62,56}),\n",
    "#     num_examples_per_domain_per_label=100,\n",
    "#     pickle_path=os.path.join(get_datasets_base_path(), \"oracle.Run2_framed_2000Examples_stratified_ds.2022A.pkl\"),\n",
    "#     source_or_target_dataset=\"source\",\n",
    "#     x_transform_func=global_x_transform_func,\n",
    "#     domain_modifier=lambda u: f\"oracle2_{u}\"\n",
    "# )"
   ]
  },
  {
   "cell_type": "code",
   "execution_count": 17,
   "id": "6f289866",
   "metadata": {
    "execution": {
     "iopub.execute_input": "2022-03-07T08:40:10.934413Z",
     "iopub.status.busy": "2022-03-07T08:40:10.934153Z",
     "iopub.status.idle": "2022-03-07T08:40:10.946098Z",
     "shell.execute_reply": "2022-03-07T08:40:10.946307Z"
    },
    "papermill": {
     "duration": 0.027407,
     "end_time": "2022-03-07T08:40:10.946364",
     "exception": false,
     "start_time": "2022-03-07T08:40:10.918957",
     "status": "completed"
    },
    "tags": []
   },
   "outputs": [],
   "source": [
    "# add_dataset(\n",
    "#     labels=list(range(19)),\n",
    "#     domains = [0,1,2],\n",
    "#     num_examples_per_domain_per_label=100,\n",
    "#     pickle_path=os.path.join(get_datasets_base_path(), \"metehan.stratified_ds.2022A.pkl\"),\n",
    "#     source_or_target_dataset=\"target\",\n",
    "#     x_transform_func=global_x_transform_func,\n",
    "#     domain_modifier=lambda u: f\"met_{u}\"\n",
    "# )"
   ]
  },
  {
   "cell_type": "code",
   "execution_count": 18,
   "id": "86a863c3",
   "metadata": {
    "execution": {
     "iopub.execute_input": "2022-03-07T08:40:10.979071Z",
     "iopub.status.busy": "2022-03-07T08:40:10.978808Z",
     "iopub.status.idle": "2022-03-07T08:40:10.990053Z",
     "shell.execute_reply": "2022-03-07T08:40:10.989740Z"
    },
    "papermill": {
     "duration": 0.026799,
     "end_time": "2022-03-07T08:40:10.990124",
     "exception": false,
     "start_time": "2022-03-07T08:40:10.963325",
     "status": "completed"
    },
    "tags": []
   },
   "outputs": [],
   "source": [
    "# # from steves_utils.wisig.utils import (\n",
    "# #     ALL_NODES_MINIMUM_100_EXAMPLES,\n",
    "# #     ALL_NODES_MINIMUM_500_EXAMPLES,\n",
    "# #     ALL_NODES_MINIMUM_1000_EXAMPLES,\n",
    "# #     ALL_DAYS\n",
    "# # )\n",
    "\n",
    "# import steves_utils.wisig.utils as wisig\n",
    "\n",
    "\n",
    "# add_dataset(\n",
    "#     labels=wisig.ALL_NODES_MINIMUM_100_EXAMPLES,\n",
    "#     domains = wisig.ALL_DAYS,\n",
    "#     num_examples_per_domain_per_label=100,\n",
    "#     pickle_path=os.path.join(get_datasets_base_path(), \"wisig.node3-19.stratified_ds.2022A.pkl\"),\n",
    "#     source_or_target_dataset=\"target\",\n",
    "#     x_transform_func=global_x_transform_func,\n",
    "#     domain_modifier=lambda u: f\"wisig_{u}\"\n",
    "# )"
   ]
  },
  {
   "cell_type": "code",
   "execution_count": 19,
   "id": "fd5442bc",
   "metadata": {
    "execution": {
     "iopub.execute_input": "2022-03-07T08:40:11.027610Z",
     "iopub.status.busy": "2022-03-07T08:40:11.027211Z",
     "iopub.status.idle": "2022-03-07T08:40:11.038419Z",
     "shell.execute_reply": "2022-03-07T08:40:11.037961Z"
    },
    "papermill": {
     "duration": 0.029577,
     "end_time": "2022-03-07T08:40:11.038514",
     "exception": false,
     "start_time": "2022-03-07T08:40:11.008937",
     "status": "completed"
    },
    "tags": []
   },
   "outputs": [],
   "source": [
    "###################################\n",
    "# Build the dataset\n",
    "###################################\n",
    "train_original_source = Iterable_Aggregator(train_original_source, p.seed)\n",
    "val_original_source = Iterable_Aggregator(val_original_source, p.seed)\n",
    "test_original_source = Iterable_Aggregator(test_original_source, p.seed)\n",
    "\n",
    "\n",
    "train_original_target = Iterable_Aggregator(train_original_target, p.seed)\n",
    "val_original_target = Iterable_Aggregator(val_original_target, p.seed)\n",
    "test_original_target = Iterable_Aggregator(test_original_target, p.seed)\n",
    "\n",
    "# For CNN We only use X and Y. And we only train on the source.\n",
    "# Properly form the data using a transform lambda and Lazy_Iterable_Wrapper. Finally wrap them in a dataloader\n",
    "\n",
    "transform_lambda = lambda ex: ex[1] # Original is (<domain>, <episode>) so we strip down to episode only\n",
    "\n",
    "train_processed_source = Lazy_Iterable_Wrapper(train_original_source, transform_lambda)\n",
    "val_processed_source   = Lazy_Iterable_Wrapper(val_original_source, transform_lambda)\n",
    "test_processed_source  = Lazy_Iterable_Wrapper(test_original_source, transform_lambda)\n",
    "\n",
    "train_processed_target = Lazy_Iterable_Wrapper(train_original_target, transform_lambda)\n",
    "val_processed_target   = Lazy_Iterable_Wrapper(val_original_target, transform_lambda)\n",
    "test_processed_target  = Lazy_Iterable_Wrapper(test_original_target, transform_lambda)\n",
    "\n",
    "datasets = EasyDict({\n",
    "    \"source\": {\n",
    "        \"original\": {\"train\":train_original_source, \"val\":val_original_source, \"test\":test_original_source},\n",
    "        \"processed\": {\"train\":train_processed_source, \"val\":val_processed_source, \"test\":test_processed_source}\n",
    "    },\n",
    "    \"target\": {\n",
    "        \"original\": {\"train\":train_original_target, \"val\":val_original_target, \"test\":test_original_target},\n",
    "        \"processed\": {\"train\":train_processed_target, \"val\":val_processed_target, \"test\":test_processed_target}\n",
    "    },\n",
    "})"
   ]
  },
  {
   "cell_type": "code",
   "execution_count": 20,
   "id": "5b3c01fc",
   "metadata": {
    "execution": {
     "iopub.execute_input": "2022-03-07T08:40:11.072134Z",
     "iopub.status.busy": "2022-03-07T08:40:11.071852Z",
     "iopub.status.idle": "2022-03-07T08:40:13.218172Z",
     "shell.execute_reply": "2022-03-07T08:40:13.218594Z"
    },
    "papermill": {
     "duration": 2.162491,
     "end_time": "2022-03-07T08:40:13.218746",
     "exception": false,
     "start_time": "2022-03-07T08:40:11.056255",
     "status": "completed"
    },
    "tags": []
   },
   "outputs": [
    {
     "name": "stdout",
     "output_type": "stream",
     "text": [
      "{'Metehan_1', 'Metehan_2', 'Metehan_0'}\n"
     ]
    },
    {
     "name": "stdout",
     "output_type": "stream",
     "text": [
      "{'Wisig_2', 'Wisig_3', 'Wisig_4', 'Wisig_1'}\n"
     ]
    },
    {
     "name": "stdout",
     "output_type": "stream",
     "text": [
      "tensor([[[ 0.5361,  0.3348,  0.1813,  ..., -0.3881, -0.6353, -0.5605],\n",
      "         [ 0.4769,  0.4742,  0.5323,  ..., -1.1415, -1.1731, -1.0970]],\n",
      "\n",
      "        [[ 0.4818,  0.2295,  0.2498,  ..., -0.4410, -0.5961, -0.6569],\n",
      "         [ 0.3788,  0.4269,  0.6362,  ..., -1.0976, -1.1141, -1.0699]],\n",
      "\n",
      "        [[ 0.3844,  0.3555,  0.1504,  ..., -0.4121, -0.5723, -0.7673],\n",
      "         [ 0.4629,  0.4241,  0.6046,  ..., -1.0593, -1.1926, -0.9644]],\n",
      "\n",
      "        ...,\n",
      "\n",
      "        [[ 0.3804,  0.1973,  0.1731,  ..., -0.2311, -0.4518, -0.6394],\n",
      "         [ 0.4431,  0.4070,  0.5716,  ..., -1.2353, -1.0292, -1.1076]],\n",
      "\n",
      "        [[ 0.4307,  0.3620,  0.1028,  ..., -0.2854, -0.5241, -0.5940],\n",
      "         [ 0.4233,  0.5295,  0.5339,  ..., -1.2007, -1.3121, -1.0800]],\n",
      "\n",
      "        [[ 0.3512,  0.2098,  0.1674,  ..., -0.3170, -0.4822, -0.6139],\n",
      "         [ 0.2693,  0.3041,  0.5869,  ..., -1.2280, -1.2544, -1.0210]]])\n"
     ]
    }
   ],
   "source": [
    "from steves_utils.transforms import get_average_magnitude, get_average_power\n",
    "\n",
    "print(set([u for u,_ in val_original_source]))\n",
    "print(set([u for u,_ in val_original_target]))\n",
    "\n",
    "s_x, s_y, q_x, q_y, _ = next(iter(train_processed_source))\n",
    "print(s_x)\n",
    "\n",
    "# for ds in [\n",
    "#     train_processed_source,\n",
    "#     val_processed_source,\n",
    "#     test_processed_source,\n",
    "#     train_processed_target,\n",
    "#     val_processed_target,\n",
    "#     test_processed_target\n",
    "# ]:\n",
    "#     for s_x, s_y, q_x, q_y, _ in ds:\n",
    "#         for X in (s_x, q_x):\n",
    "#             for x in X:\n",
    "#                 assert np.isclose(get_average_magnitude(x.numpy()), 1.0)\n",
    "#                 assert np.isclose(get_average_power(x.numpy()), 1.0)\n",
    "                "
   ]
  },
  {
   "cell_type": "code",
   "execution_count": 21,
   "id": "bbdacba1",
   "metadata": {
    "execution": {
     "iopub.execute_input": "2022-03-07T08:40:13.256902Z",
     "iopub.status.busy": "2022-03-07T08:40:13.256639Z",
     "iopub.status.idle": "2022-03-07T08:40:13.313680Z",
     "shell.execute_reply": "2022-03-07T08:40:13.313184Z"
    },
    "papermill": {
     "duration": 0.074451,
     "end_time": "2022-03-07T08:40:13.313786",
     "exception": false,
     "start_time": "2022-03-07T08:40:13.239335",
     "status": "completed"
    },
    "tags": []
   },
   "outputs": [
    {
     "name": "stdout",
     "output_type": "stream",
     "text": [
      "(2, 256)\n"
     ]
    }
   ],
   "source": [
    "###################################\n",
    "# Build the model\n",
    "###################################\n",
    "model = Steves_Prototypical_Network(x_net, device=p.device, x_shape=(2,256))\n",
    "optimizer = Adam(params=model.parameters(), lr=p.lr)"
   ]
  },
  {
   "cell_type": "code",
   "execution_count": 22,
   "id": "22b39ac5",
   "metadata": {
    "execution": {
     "iopub.execute_input": "2022-03-07T08:40:13.350210Z",
     "iopub.status.busy": "2022-03-07T08:40:13.349955Z",
     "iopub.status.idle": "2022-03-07T08:40:57.179359Z",
     "shell.execute_reply": "2022-03-07T08:40:57.178926Z"
    },
    "papermill": {
     "duration": 43.846006,
     "end_time": "2022-03-07T08:40:57.179458",
     "exception": false,
     "start_time": "2022-03-07T08:40:13.333452",
     "status": "completed"
    },
    "tags": []
   },
   "outputs": [
    {
     "name": "stdout",
     "output_type": "stream",
     "text": [
      "epoch: 1, [batch: 1 / 126], examples_per_second: 877.6250, train_label_loss: 2.6264, \n"
     ]
    },
    {
     "name": "stdout",
     "output_type": "stream",
     "text": [
      "epoch: 1, [batch: 13 / 126], examples_per_second: 3100.8976, train_label_loss: 0.4225, \n"
     ]
    },
    {
     "name": "stdout",
     "output_type": "stream",
     "text": [
      "epoch: 1, [batch: 26 / 126], examples_per_second: 3273.6419, train_label_loss: 0.2687, \n"
     ]
    },
    {
     "name": "stdout",
     "output_type": "stream",
     "text": [
      "epoch: 1, [batch: 38 / 126], examples_per_second: 3242.4776, train_label_loss: 0.4166, \n"
     ]
    },
    {
     "name": "stdout",
     "output_type": "stream",
     "text": [
      "epoch: 1, [batch: 51 / 126], examples_per_second: 3234.0200, train_label_loss: 0.2999, \n"
     ]
    },
    {
     "name": "stdout",
     "output_type": "stream",
     "text": [
      "epoch: 1, [batch: 63 / 126], examples_per_second: 3259.0730, train_label_loss: 0.2203, \n"
     ]
    },
    {
     "name": "stdout",
     "output_type": "stream",
     "text": [
      "epoch: 1, [batch: 76 / 126], examples_per_second: 3246.8883, train_label_loss: 0.2234, \n"
     ]
    },
    {
     "name": "stdout",
     "output_type": "stream",
     "text": [
      "epoch: 1, [batch: 88 / 126], examples_per_second: 3245.5148, train_label_loss: 0.3630, \n"
     ]
    },
    {
     "name": "stdout",
     "output_type": "stream",
     "text": [
      "epoch: 1, [batch: 101 / 126], examples_per_second: 3254.8982, train_label_loss: 0.1711, \n"
     ]
    },
    {
     "name": "stdout",
     "output_type": "stream",
     "text": [
      "epoch: 1, [batch: 113 / 126], examples_per_second: 3245.0808, train_label_loss: 0.2693, \n"
     ]
    },
    {
     "name": "stdout",
     "output_type": "stream",
     "text": [
      "=============================================================\n",
      "epoch: 1, source_val_acc_label: 0.8904, target_val_acc_label: 0.2084, source_val_label_loss: 0.3073, target_val_label_loss: 4.1634, \n",
      "=============================================================\n"
     ]
    },
    {
     "name": "stdout",
     "output_type": "stream",
     "text": [
      "New best\n"
     ]
    },
    {
     "name": "stdout",
     "output_type": "stream",
     "text": [
      "epoch: 2, [batch: 1 / 126], examples_per_second: 84.3604, train_label_loss: 0.2381, \n"
     ]
    },
    {
     "name": "stdout",
     "output_type": "stream",
     "text": [
      "epoch: 2, [batch: 13 / 126], examples_per_second: 3312.7265, train_label_loss: 1.0389, \n"
     ]
    },
    {
     "name": "stdout",
     "output_type": "stream",
     "text": [
      "epoch: 2, [batch: 26 / 126], examples_per_second: 3293.6684, train_label_loss: 0.9883, \n"
     ]
    },
    {
     "name": "stdout",
     "output_type": "stream",
     "text": [
      "epoch: 2, [batch: 38 / 126], examples_per_second: 3258.2113, train_label_loss: 1.1970, \n"
     ]
    },
    {
     "name": "stdout",
     "output_type": "stream",
     "text": [
      "epoch: 2, [batch: 51 / 126], examples_per_second: 3300.0599, train_label_loss: 2.6842, \n"
     ]
    },
    {
     "name": "stdout",
     "output_type": "stream",
     "text": [
      "epoch: 2, [batch: 63 / 126], examples_per_second: 3310.0640, train_label_loss: 1.0397, \n"
     ]
    },
    {
     "name": "stdout",
     "output_type": "stream",
     "text": [
      "epoch: 2, [batch: 76 / 126], examples_per_second: 3253.2506, train_label_loss: 2.3958, \n"
     ]
    },
    {
     "name": "stdout",
     "output_type": "stream",
     "text": [
      "epoch: 2, [batch: 88 / 126], examples_per_second: 3303.2838, train_label_loss: 1.3501, \n"
     ]
    },
    {
     "name": "stdout",
     "output_type": "stream",
     "text": [
      "epoch: 2, [batch: 101 / 126], examples_per_second: 3310.1253, train_label_loss: 2.7967, \n"
     ]
    },
    {
     "name": "stdout",
     "output_type": "stream",
     "text": [
      "epoch: 2, [batch: 113 / 126], examples_per_second: 3261.2514, train_label_loss: 1.5771, \n"
     ]
    },
    {
     "name": "stdout",
     "output_type": "stream",
     "text": [
      "=============================================================\n",
      "epoch: 2, source_val_acc_label: 0.7836, target_val_acc_label: 0.3942, source_val_label_loss: 1.9415, target_val_label_loss: 7.9506, \n",
      "=============================================================\n"
     ]
    },
    {
     "name": "stdout",
     "output_type": "stream",
     "text": [
      "epoch: 3, [batch: 1 / 126], examples_per_second: 85.6982, train_label_loss: 2.8130, \n"
     ]
    },
    {
     "name": "stdout",
     "output_type": "stream",
     "text": [
      "epoch: 3, [batch: 13 / 126], examples_per_second: 3274.9821, train_label_loss: 2.0026, \n"
     ]
    },
    {
     "name": "stdout",
     "output_type": "stream",
     "text": [
      "epoch: 3, [batch: 26 / 126], examples_per_second: 3296.0534, train_label_loss: 1.4211, \n"
     ]
    },
    {
     "name": "stdout",
     "output_type": "stream",
     "text": [
      "epoch: 3, [batch: 38 / 126], examples_per_second: 3272.9869, train_label_loss: 0.6356, \n"
     ]
    },
    {
     "name": "stdout",
     "output_type": "stream",
     "text": [
      "epoch: 3, [batch: 51 / 126], examples_per_second: 3296.4834, train_label_loss: 1.1020, \n"
     ]
    },
    {
     "name": "stdout",
     "output_type": "stream",
     "text": [
      "epoch: 3, [batch: 63 / 126], examples_per_second: 3266.1813, train_label_loss: 1.8686, \n"
     ]
    },
    {
     "name": "stdout",
     "output_type": "stream",
     "text": [
      "epoch: 3, [batch: 76 / 126], examples_per_second: 3280.5645, train_label_loss: 0.3856, \n"
     ]
    },
    {
     "name": "stdout",
     "output_type": "stream",
     "text": [
      "epoch: 3, [batch: 88 / 126], examples_per_second: 3344.3072, train_label_loss: 0.6965, \n"
     ]
    },
    {
     "name": "stdout",
     "output_type": "stream",
     "text": [
      "epoch: 3, [batch: 101 / 126], examples_per_second: 3320.7738, train_label_loss: 0.6151, \n"
     ]
    },
    {
     "name": "stdout",
     "output_type": "stream",
     "text": [
      "epoch: 3, [batch: 113 / 126], examples_per_second: 3311.5587, train_label_loss: 0.4415, \n"
     ]
    },
    {
     "name": "stdout",
     "output_type": "stream",
     "text": [
      "=============================================================\n",
      "epoch: 3, source_val_acc_label: 0.8465, target_val_acc_label: 0.4054, source_val_label_loss: 0.5336, target_val_label_loss: 2.5572, \n",
      "=============================================================\n"
     ]
    },
    {
     "name": "stdout",
     "output_type": "stream",
     "text": [
      "New best\n"
     ]
    },
    {
     "name": "stdout",
     "output_type": "stream",
     "text": [
      "epoch: 4, [batch: 1 / 126], examples_per_second: 82.6808, train_label_loss: 0.3714, \n"
     ]
    },
    {
     "name": "stdout",
     "output_type": "stream",
     "text": [
      "epoch: 4, [batch: 13 / 126], examples_per_second: 3267.0517, train_label_loss: 0.2972, \n"
     ]
    },
    {
     "name": "stdout",
     "output_type": "stream",
     "text": [
      "epoch: 4, [batch: 26 / 126], examples_per_second: 3298.4692, train_label_loss: 0.1817, \n"
     ]
    },
    {
     "name": "stdout",
     "output_type": "stream",
     "text": [
      "epoch: 4, [batch: 38 / 126], examples_per_second: 3288.2905, train_label_loss: 0.6571, \n"
     ]
    },
    {
     "name": "stdout",
     "output_type": "stream",
     "text": [
      "epoch: 4, [batch: 51 / 126], examples_per_second: 3291.2596, train_label_loss: 0.2119, \n"
     ]
    },
    {
     "name": "stdout",
     "output_type": "stream",
     "text": [
      "epoch: 4, [batch: 63 / 126], examples_per_second: 3310.0548, train_label_loss: 0.2709, \n"
     ]
    },
    {
     "name": "stdout",
     "output_type": "stream",
     "text": [
      "epoch: 4, [batch: 76 / 126], examples_per_second: 3268.4696, train_label_loss: 0.3984, \n"
     ]
    },
    {
     "name": "stdout",
     "output_type": "stream",
     "text": [
      "epoch: 4, [batch: 88 / 126], examples_per_second: 3316.6604, train_label_loss: 0.3575, \n"
     ]
    },
    {
     "name": "stdout",
     "output_type": "stream",
     "text": [
      "epoch: 4, [batch: 101 / 126], examples_per_second: 3330.3793, train_label_loss: 0.3589, \n"
     ]
    },
    {
     "name": "stdout",
     "output_type": "stream",
     "text": [
      "epoch: 4, [batch: 113 / 126], examples_per_second: 3327.4575, train_label_loss: 0.3275, \n"
     ]
    },
    {
     "name": "stdout",
     "output_type": "stream",
     "text": [
      "=============================================================\n",
      "epoch: 4, source_val_acc_label: 0.8611, target_val_acc_label: 0.4252, source_val_label_loss: 0.3924, target_val_label_loss: 1.8173, \n",
      "=============================================================\n"
     ]
    },
    {
     "name": "stdout",
     "output_type": "stream",
     "text": [
      "New best\n"
     ]
    },
    {
     "name": "stdout",
     "output_type": "stream",
     "text": [
      "epoch: 5, [batch: 1 / 126], examples_per_second: 83.5935, train_label_loss: 0.3116, \n"
     ]
    },
    {
     "name": "stdout",
     "output_type": "stream",
     "text": [
      "epoch: 5, [batch: 13 / 126], examples_per_second: 3278.3952, train_label_loss: 0.1625, \n"
     ]
    },
    {
     "name": "stdout",
     "output_type": "stream",
     "text": [
      "epoch: 5, [batch: 26 / 126], examples_per_second: 3282.5935, train_label_loss: 0.2578, \n"
     ]
    },
    {
     "name": "stdout",
     "output_type": "stream",
     "text": [
      "epoch: 5, [batch: 38 / 126], examples_per_second: 3316.8490, train_label_loss: 0.1419, \n"
     ]
    },
    {
     "name": "stdout",
     "output_type": "stream",
     "text": [
      "epoch: 5, [batch: 51 / 126], examples_per_second: 3314.0156, train_label_loss: 0.2496, \n"
     ]
    },
    {
     "name": "stdout",
     "output_type": "stream",
     "text": [
      "epoch: 5, [batch: 63 / 126], examples_per_second: 3278.3749, train_label_loss: 0.1921, \n"
     ]
    },
    {
     "name": "stdout",
     "output_type": "stream",
     "text": [
      "epoch: 5, [batch: 76 / 126], examples_per_second: 3286.5528, train_label_loss: 0.3439, \n"
     ]
    },
    {
     "name": "stdout",
     "output_type": "stream",
     "text": [
      "epoch: 5, [batch: 88 / 126], examples_per_second: 3314.2213, train_label_loss: 0.1913, \n"
     ]
    },
    {
     "name": "stdout",
     "output_type": "stream",
     "text": [
      "epoch: 5, [batch: 101 / 126], examples_per_second: 3289.1134, train_label_loss: 0.2505, \n"
     ]
    },
    {
     "name": "stdout",
     "output_type": "stream",
     "text": [
      "epoch: 5, [batch: 113 / 126], examples_per_second: 3314.3683, train_label_loss: 0.3983, \n"
     ]
    },
    {
     "name": "stdout",
     "output_type": "stream",
     "text": [
      "=============================================================\n",
      "epoch: 5, source_val_acc_label: 0.8538, target_val_acc_label: 0.3186, source_val_label_loss: 0.3834, target_val_label_loss: 2.1372, \n",
      "=============================================================\n"
     ]
    },
    {
     "name": "stdout",
     "output_type": "stream",
     "text": [
      "epoch: 6, [batch: 1 / 126], examples_per_second: 86.7887, train_label_loss: 0.3256, \n"
     ]
    },
    {
     "name": "stdout",
     "output_type": "stream",
     "text": [
      "epoch: 6, [batch: 13 / 126], examples_per_second: 3284.2657, train_label_loss: 0.2547, \n"
     ]
    },
    {
     "name": "stdout",
     "output_type": "stream",
     "text": [
      "epoch: 6, [batch: 26 / 126], examples_per_second: 3310.4828, train_label_loss: 0.4034, \n"
     ]
    },
    {
     "name": "stdout",
     "output_type": "stream",
     "text": [
      "epoch: 6, [batch: 38 / 126], examples_per_second: 3294.1171, train_label_loss: 0.1541, \n"
     ]
    },
    {
     "name": "stdout",
     "output_type": "stream",
     "text": [
      "epoch: 6, [batch: 51 / 126], examples_per_second: 3311.7252, train_label_loss: 0.1754, \n"
     ]
    },
    {
     "name": "stdout",
     "output_type": "stream",
     "text": [
      "epoch: 6, [batch: 63 / 126], examples_per_second: 3304.6056, train_label_loss: 0.1705, \n"
     ]
    },
    {
     "name": "stdout",
     "output_type": "stream",
     "text": [
      "epoch: 6, [batch: 76 / 126], examples_per_second: 3281.8053, train_label_loss: 0.2165, \n"
     ]
    },
    {
     "name": "stdout",
     "output_type": "stream",
     "text": [
      "epoch: 6, [batch: 88 / 126], examples_per_second: 3286.0533, train_label_loss: 0.4304, \n"
     ]
    },
    {
     "name": "stdout",
     "output_type": "stream",
     "text": [
      "epoch: 6, [batch: 101 / 126], examples_per_second: 3263.2705, train_label_loss: 0.2124, \n"
     ]
    },
    {
     "name": "stdout",
     "output_type": "stream",
     "text": [
      "epoch: 6, [batch: 113 / 126], examples_per_second: 3284.3130, train_label_loss: 0.2388, \n"
     ]
    },
    {
     "name": "stdout",
     "output_type": "stream",
     "text": [
      "=============================================================\n",
      "epoch: 6, source_val_acc_label: 0.8596, target_val_acc_label: 0.2507, source_val_label_loss: 0.3846, target_val_label_loss: 2.5645, \n",
      "=============================================================\n"
     ]
    },
    {
     "name": "stdout",
     "output_type": "stream",
     "text": [
      "epoch: 7, [batch: 1 / 126], examples_per_second: 85.6163, train_label_loss: 0.2507, \n"
     ]
    },
    {
     "name": "stdout",
     "output_type": "stream",
     "text": [
      "epoch: 7, [batch: 13 / 126], examples_per_second: 3356.0814, train_label_loss: 0.2390, \n"
     ]
    },
    {
     "name": "stdout",
     "output_type": "stream",
     "text": [
      "epoch: 7, [batch: 26 / 126], examples_per_second: 3323.2622, train_label_loss: 0.3980, \n"
     ]
    },
    {
     "name": "stdout",
     "output_type": "stream",
     "text": [
      "epoch: 7, [batch: 38 / 126], examples_per_second: 3282.7369, train_label_loss: 0.1521, \n"
     ]
    },
    {
     "name": "stdout",
     "output_type": "stream",
     "text": [
      "epoch: 7, [batch: 51 / 126], examples_per_second: 3291.0798, train_label_loss: 0.2797, \n"
     ]
    },
    {
     "name": "stdout",
     "output_type": "stream",
     "text": [
      "epoch: 7, [batch: 63 / 126], examples_per_second: 3288.0463, train_label_loss: 0.1120, \n"
     ]
    },
    {
     "name": "stdout",
     "output_type": "stream",
     "text": [
      "epoch: 7, [batch: 76 / 126], examples_per_second: 3286.2734, train_label_loss: 0.3667, \n"
     ]
    },
    {
     "name": "stdout",
     "output_type": "stream",
     "text": [
      "epoch: 7, [batch: 88 / 126], examples_per_second: 3285.3624, train_label_loss: 0.2217, \n"
     ]
    },
    {
     "name": "stdout",
     "output_type": "stream",
     "text": [
      "epoch: 7, [batch: 101 / 126], examples_per_second: 3300.2281, train_label_loss: 0.1791, \n"
     ]
    },
    {
     "name": "stdout",
     "output_type": "stream",
     "text": [
      "epoch: 7, [batch: 113 / 126], examples_per_second: 3265.7798, train_label_loss: 0.5279, \n"
     ]
    },
    {
     "name": "stdout",
     "output_type": "stream",
     "text": [
      "=============================================================\n",
      "epoch: 7, source_val_acc_label: 0.8523, target_val_acc_label: 0.4005, source_val_label_loss: 0.4004, target_val_label_loss: 1.9524, \n",
      "=============================================================\n"
     ]
    },
    {
     "name": "stdout",
     "output_type": "stream",
     "text": [
      "epoch: 8, [batch: 1 / 126], examples_per_second: 85.5779, train_label_loss: 0.2694, \n"
     ]
    },
    {
     "name": "stdout",
     "output_type": "stream",
     "text": [
      "epoch: 8, [batch: 13 / 126], examples_per_second: 3279.8366, train_label_loss: 0.1565, \n"
     ]
    },
    {
     "name": "stdout",
     "output_type": "stream",
     "text": [
      "epoch: 8, [batch: 26 / 126], examples_per_second: 3313.5895, train_label_loss: 0.4123, \n"
     ]
    },
    {
     "name": "stdout",
     "output_type": "stream",
     "text": [
      "epoch: 8, [batch: 38 / 126], examples_per_second: 3273.9931, train_label_loss: 0.1296, \n"
     ]
    },
    {
     "name": "stdout",
     "output_type": "stream",
     "text": [
      "epoch: 8, [batch: 51 / 126], examples_per_second: 3285.7043, train_label_loss: 0.2356, \n"
     ]
    },
    {
     "name": "stdout",
     "output_type": "stream",
     "text": [
      "epoch: 8, [batch: 63 / 126], examples_per_second: 3305.8439, train_label_loss: 0.1748, \n"
     ]
    },
    {
     "name": "stdout",
     "output_type": "stream",
     "text": [
      "epoch: 8, [batch: 76 / 126], examples_per_second: 3294.8018, train_label_loss: 0.2999, \n"
     ]
    },
    {
     "name": "stdout",
     "output_type": "stream",
     "text": [
      "epoch: 8, [batch: 88 / 126], examples_per_second: 3288.5054, train_label_loss: 0.2157, \n"
     ]
    },
    {
     "name": "stdout",
     "output_type": "stream",
     "text": [
      "epoch: 8, [batch: 101 / 126], examples_per_second: 3299.6374, train_label_loss: 0.3852, \n"
     ]
    },
    {
     "name": "stdout",
     "output_type": "stream",
     "text": [
      "epoch: 8, [batch: 113 / 126], examples_per_second: 3262.0212, train_label_loss: 0.1562, \n"
     ]
    },
    {
     "name": "stdout",
     "output_type": "stream",
     "text": [
      "=============================================================\n",
      "epoch: 8, source_val_acc_label: 0.8567, target_val_acc_label: 0.3359, source_val_label_loss: 0.3893, target_val_label_loss: 2.0736, \n",
      "=============================================================\n"
     ]
    },
    {
     "name": "stdout",
     "output_type": "stream",
     "text": [
      "Patience (3) exhausted\n"
     ]
    }
   ],
   "source": [
    "###################################\n",
    "# train\n",
    "###################################\n",
    "jig = PTN_Train_Eval_Test_Jig(model, p.BEST_MODEL_PATH, p.device)\n",
    "\n",
    "jig.train(\n",
    "    train_iterable=datasets.source.processed.train,\n",
    "    source_val_iterable=datasets.source.processed.val,\n",
    "    target_val_iterable=datasets.target.processed.val,\n",
    "    num_epochs=p.n_epoch,\n",
    "    num_logs_per_epoch=p.NUM_LOGS_PER_EPOCH,\n",
    "    patience=p.patience,\n",
    "    optimizer=optimizer,\n",
    "    criteria_for_best=p.criteria_for_best,\n",
    ")"
   ]
  },
  {
   "cell_type": "code",
   "execution_count": 23,
   "id": "31e8fabf",
   "metadata": {
    "execution": {
     "iopub.execute_input": "2022-03-07T08:40:57.247198Z",
     "iopub.status.busy": "2022-03-07T08:40:57.246947Z",
     "iopub.status.idle": "2022-03-07T08:40:57.261300Z",
     "shell.execute_reply": "2022-03-07T08:40:57.260910Z"
    },
    "papermill": {
     "duration": 0.048096,
     "end_time": "2022-03-07T08:40:57.261390",
     "exception": false,
     "start_time": "2022-03-07T08:40:57.213294",
     "status": "completed"
    },
    "tags": []
   },
   "outputs": [],
   "source": [
    "total_experiment_time_secs = time.time() - start_time_secs"
   ]
  },
  {
   "cell_type": "code",
   "execution_count": 24,
   "id": "87b9595b",
   "metadata": {
    "execution": {
     "iopub.execute_input": "2022-03-07T08:40:57.332473Z",
     "iopub.status.busy": "2022-03-07T08:40:57.332095Z",
     "iopub.status.idle": "2022-03-07T08:41:08.608830Z",
     "shell.execute_reply": "2022-03-07T08:41:08.608342Z"
    },
    "papermill": {
     "duration": 11.312538,
     "end_time": "2022-03-07T08:41:08.608941",
     "exception": false,
     "start_time": "2022-03-07T08:40:57.296403",
     "status": "completed"
    },
    "tags": []
   },
   "outputs": [],
   "source": [
    "###################################\n",
    "# Evaluate the model\n",
    "###################################\n",
    "source_test_label_accuracy, source_test_label_loss = jig.test(datasets.source.processed.test)\n",
    "target_test_label_accuracy, target_test_label_loss = jig.test(datasets.target.processed.test)\n",
    "\n",
    "source_val_label_accuracy, source_val_label_loss = jig.test(datasets.source.processed.val)\n",
    "target_val_label_accuracy, target_val_label_loss = jig.test(datasets.target.processed.val)\n",
    "\n",
    "history = jig.get_history()\n",
    "\n",
    "total_epochs_trained = len(history[\"epoch_indices\"])\n",
    "\n",
    "val_dl = Iterable_Aggregator((datasets.source.original.val,datasets.target.original.val))\n",
    "\n",
    "confusion = ptn_confusion_by_domain_over_dataloader(model, p.device, val_dl)\n",
    "per_domain_accuracy = per_domain_accuracy_from_confusion(confusion)\n",
    "\n",
    "# Add a key to per_domain_accuracy for if it was a source domain\n",
    "for domain, accuracy in per_domain_accuracy.items():\n",
    "    per_domain_accuracy[domain] = {\n",
    "        \"accuracy\": accuracy,\n",
    "        \"source?\": domain in p.domains_source\n",
    "    }\n",
    "\n",
    "# Do an independent accuracy assesment JUST TO BE SURE!\n",
    "# _source_test_label_accuracy = independent_accuracy_assesment(model, datasets.source.processed.test, p.device)\n",
    "# _target_test_label_accuracy = independent_accuracy_assesment(model, datasets.target.processed.test, p.device)\n",
    "# _source_val_label_accuracy = independent_accuracy_assesment(model, datasets.source.processed.val, p.device)\n",
    "# _target_val_label_accuracy = independent_accuracy_assesment(model, datasets.target.processed.val, p.device)\n",
    "\n",
    "# assert(_source_test_label_accuracy == source_test_label_accuracy)\n",
    "# assert(_target_test_label_accuracy == target_test_label_accuracy)\n",
    "# assert(_source_val_label_accuracy == source_val_label_accuracy)\n",
    "# assert(_target_val_label_accuracy == target_val_label_accuracy)\n",
    "\n",
    "experiment = {\n",
    "    \"experiment_name\": p.experiment_name,\n",
    "    \"parameters\": dict(p),\n",
    "    \"results\": {\n",
    "        \"source_test_label_accuracy\": source_test_label_accuracy,\n",
    "        \"source_test_label_loss\": source_test_label_loss,\n",
    "        \"target_test_label_accuracy\": target_test_label_accuracy,\n",
    "        \"target_test_label_loss\": target_test_label_loss,\n",
    "        \"source_val_label_accuracy\": source_val_label_accuracy,\n",
    "        \"source_val_label_loss\": source_val_label_loss,\n",
    "        \"target_val_label_accuracy\": target_val_label_accuracy,\n",
    "        \"target_val_label_loss\": target_val_label_loss,\n",
    "        \"total_epochs_trained\": total_epochs_trained,\n",
    "        \"total_experiment_time_secs\": total_experiment_time_secs,\n",
    "        \"confusion\": confusion,\n",
    "        \"per_domain_accuracy\": per_domain_accuracy,\n",
    "    },\n",
    "    \"history\": history,\n",
    "    \"dataset_metrics\": get_dataset_metrics(datasets, \"ptn\"),\n",
    "}"
   ]
  },
  {
   "cell_type": "code",
   "execution_count": 25,
   "id": "54a21829",
   "metadata": {
    "execution": {
     "iopub.execute_input": "2022-03-07T08:41:08.680371Z",
     "iopub.status.busy": "2022-03-07T08:41:08.680111Z",
     "iopub.status.idle": "2022-03-07T08:41:08.861545Z",
     "shell.execute_reply": "2022-03-07T08:41:08.861949Z"
    },
    "papermill": {
     "duration": 0.215651,
     "end_time": "2022-03-07T08:41:08.862079",
     "exception": false,
     "start_time": "2022-03-07T08:41:08.646428",
     "status": "completed"
    },
    "tags": []
   },
   "outputs": [
    {
     "data": {
      "image/png": "[encoded data removed]",
      "text/plain": [
       "<Figure size 1080x504 with 1 Axes>"
      ]
     },
     "metadata": {
      "needs_background": "light"
     },
     "output_type": "display_data"
    }
   ],
   "source": [
    "ax = get_loss_curve(experiment)\n",
    "plt.show()"
   ]
  },
  {
   "cell_type": "code",
   "execution_count": 26,
   "id": "fd8a0f60",
   "metadata": {
    "execution": {
     "iopub.execute_input": "2022-03-07T08:41:08.935154Z",
     "iopub.status.busy": "2022-03-07T08:41:08.934777Z",
     "iopub.status.idle": "2022-03-07T08:41:09.111679Z",
     "shell.execute_reply": "2022-03-07T08:41:09.111990Z"
    },
    "papermill": {
     "duration": 0.211422,
     "end_time": "2022-03-07T08:41:09.112095",
     "exception": false,
     "start_time": "2022-03-07T08:41:08.900673",
     "status": "completed"
    },
    "tags": []
   },
   "outputs": [
    {
     "data": {
      "text/plain": [
       "<matplotlib.axes._subplots.AxesSubplot at 0x7fe2e088da60>"
      ]
     },
     "execution_count": 26,
     "metadata": {},
     "output_type": "execute_result"
    },
    {
     "data": {
      "image/png": "[encoded data removed]",
      "text/plain": [
       "<Figure size 1080x504 with 1 Axes>"
      ]
     },
     "metadata": {
      "needs_background": "light"
     },
     "output_type": "display_data"
    }
   ],
   "source": [
    "get_results_table(experiment)"
   ]
  },
  {
   "cell_type": "code",
   "execution_count": 27,
   "id": "cf8dc689",
   "metadata": {
    "execution": {
     "iopub.execute_input": "2022-03-07T08:41:09.185080Z",
     "iopub.status.busy": "2022-03-07T08:41:09.184412Z",
     "iopub.status.idle": "2022-03-07T08:41:09.359705Z",
     "shell.execute_reply": "2022-03-07T08:41:09.359204Z"
    },
    "papermill": {
     "duration": 0.210621,
     "end_time": "2022-03-07T08:41:09.359811",
     "exception": false,
     "start_time": "2022-03-07T08:41:09.149190",
     "status": "completed"
    },
    "tags": []
   },
   "outputs": [
    {
     "data": {
      "text/plain": [
       "<matplotlib.axes._subplots.AxesSubplot at 0x7fe2e0c428e0>"
      ]
     },
     "execution_count": 27,
     "metadata": {},
     "output_type": "execute_result"
    },
    {
     "data": {
      "image/png": "[encoded data removed]",
      "text/plain": [
       "<Figure size 1080x504 with 1 Axes>"
      ]
     },
     "metadata": {
      "needs_background": "light"
     },
     "output_type": "display_data"
    }
   ],
   "source": [
    "get_domain_accuracies(experiment)"
   ]
  },
  {
   "cell_type": "code",
   "execution_count": 28,
   "id": "a74ae082",
   "metadata": {
    "execution": {
     "iopub.execute_input": "2022-03-07T08:41:09.434129Z",
     "iopub.status.busy": "2022-03-07T08:41:09.433869Z",
     "iopub.status.idle": "2022-03-07T08:41:09.448870Z",
     "shell.execute_reply": "2022-03-07T08:41:09.448384Z"
    },
    "papermill": {
     "duration": 0.051851,
     "end_time": "2022-03-07T08:41:09.448972",
     "exception": false,
     "start_time": "2022-03-07T08:41:09.397121",
     "status": "completed"
    },
    "tags": []
   },
   "outputs": [
    {
     "name": "stdout",
     "output_type": "stream",
     "text": [
      "Source Test Label Accuracy: 0.8552631578947368 Target Test Label Accuracy: 0.41694078947368424\n",
      "Source Val Label Accuracy: 0.8611111111111112 Target Val Label Accuracy: 0.4251644736842105\n"
     ]
    }
   ],
   "source": [
    "print(\"Source Test Label Accuracy:\", experiment[\"results\"][\"source_test_label_accuracy\"], \"Target Test Label Accuracy:\", experiment[\"results\"][\"target_test_label_accuracy\"])\n",
    "print(\"Source Val Label Accuracy:\", experiment[\"results\"][\"source_val_label_accuracy\"], \"Target Val Label Accuracy:\", experiment[\"results\"][\"target_val_label_accuracy\"])"
   ]
  },
  {
   "cell_type": "code",
   "execution_count": 29,
   "id": "dacca602",
   "metadata": {
    "execution": {
     "iopub.execute_input": "2022-03-07T08:41:09.524446Z",
     "iopub.status.busy": "2022-03-07T08:41:09.524186Z",
     "iopub.status.idle": "2022-03-07T08:41:09.540478Z",
     "shell.execute_reply": "2022-03-07T08:41:09.540212Z"
    },
    "papermill": {
     "duration": 0.052803,
     "end_time": "2022-03-07T08:41:09.540537",
     "exception": false,
     "start_time": "2022-03-07T08:41:09.487734",
     "status": "completed"
    },
    "tags": [
     "experiment_json"
    ]
   },
   "outputs": [
    {
     "data": {
      "text/plain": [
       "'{\"experiment_name\": \"tl_1_wisig-metehan\", \"parameters\": {\"experiment_name\": \"tl_1_wisig-metehan\", \"device\": \"cuda\", \"lr\": 0.001, \"seed\": 1337, \"dataset_seed\": 1337, \"n_shot\": 3, \"n_query\": 2, \"train_k_factor\": 3, \"val_k_factor\": 2, \"test_k_factor\": 2, \"torch_default_dtype\": \"torch.float32\", \"n_epoch\": 50, \"patience\": 3, \"criteria_for_best\": \"target_loss\", \"x_net\": [{\"class\": \"nnReshape\", \"kargs\": {\"shape\": [-1, 1, 2, 256]}}, {\"class\": \"Conv2d\", \"kargs\": {\"in_channels\": 1, \"out_channels\": 256, \"kernel_size\": [1, 7], \"bias\": false, \"padding\": [0, 3]}}, {\"class\": \"ReLU\", \"kargs\": {\"inplace\": true}}, {\"class\": \"BatchNorm2d\", \"kargs\": {\"num_features\": 256}}, {\"class\": \"Conv2d\", \"kargs\": {\"in_channels\": 256, \"out_channels\": 80, \"kernel_size\": [2, 7], \"bias\": true, \"padding\": [0, 3]}}, {\"class\": \"ReLU\", \"kargs\": {\"inplace\": true}}, {\"class\": \"BatchNorm2d\", \"kargs\": {\"num_features\": 80}}, {\"class\": \"Flatten\", \"kargs\": {}}, {\"class\": \"Linear\", \"kargs\": {\"in_features\": 20480, \"out_features\": 256}}, {\"class\": \"ReLU\", \"kargs\": {\"inplace\": true}}, {\"class\": \"BatchNorm1d\", \"kargs\": {\"num_features\": 256}}, {\"class\": \"Linear\", \"kargs\": {\"in_features\": 256, \"out_features\": 256}}], \"NUM_LOGS_PER_EPOCH\": 10, \"BEST_MODEL_PATH\": \"./best_model.pth\", \"n_way\": 19, \"datasets\": [{\"labels\": [\"1-10\", \"1-12\", \"1-14\", \"1-16\", \"1-18\", \"1-19\", \"1-8\", \"10-11\", \"10-17\", \"10-4\", \"10-7\", \"11-1\", \"11-10\", \"11-19\", \"11-20\", \"11-4\", \"11-7\", \"12-19\", \"12-20\", \"12-7\", \"13-14\", \"13-18\", \"13-19\", \"13-20\", \"13-3\", \"13-7\", \"14-10\", \"14-11\", \"14-12\", \"14-13\", \"14-14\", \"14-19\", \"14-20\", \"14-7\", \"14-8\", \"14-9\", \"15-1\", \"15-19\", \"15-6\", \"16-1\", \"16-16\", \"16-19\", \"16-20\", \"17-10\", \"17-11\", \"18-1\", \"18-10\", \"18-11\", \"18-12\", \"18-13\", \"18-14\", \"18-15\", \"18-16\", \"18-17\", \"18-19\", \"18-2\", \"18-20\", \"18-4\", \"18-5\", \"18-7\", \"18-8\", \"18-9\", \"19-1\", \"19-10\", \"19-11\", \"19-12\", \"19-13\", \"19-14\", \"19-15\", \"19-19\", \"19-2\", \"19-20\", \"19-3\", \"19-4\", \"19-6\", \"19-7\", \"19-8\", \"19-9\", \"2-1\", \"2-13\", \"2-15\", \"2-3\", \"2-4\", \"2-5\", \"2-6\", \"2-7\", \"2-8\", \"20-1\", \"20-12\", \"20-14\", \"20-15\", \"20-16\", \"20-18\", \"20-19\", \"20-20\", \"20-3\", \"20-4\", \"20-5\", \"20-7\", \"20-8\", \"3-1\", \"3-13\", \"3-18\", \"3-2\", \"3-8\", \"4-1\", \"4-10\", \"4-11\", \"5-1\", \"5-5\", \"6-1\", \"6-15\", \"6-6\", \"7-10\", \"7-11\", \"7-12\", \"7-13\", \"7-14\", \"7-7\", \"7-8\", \"7-9\", \"8-1\", \"8-13\", \"8-14\", \"8-18\", \"8-20\", \"8-3\", \"8-8\", \"9-1\", \"9-7\"], \"domains\": [1, 2, 3, 4], \"num_examples_per_domain_per_label\": 100, \"pickle_path\": \"/mnt/wd500GB/CSC500/csc500-main/datasets/wisig.node3-19.stratified_ds.2022A.pkl\", \"source_or_target_dataset\": \"target\", \"x_transforms\": [], \"episode_transforms\": [], \"domain_prefix\": \"Wisig_\"}, {\"labels\": [0, 1, 2, 3, 4, 5, 6, 7, 8, 9, 10, 11, 12, 13, 14, 15, 16, 17, 18], \"domains\": [0, 1, 2], \"num_examples_per_domain_per_label\": 100, \"pickle_path\": \"/mnt/wd500GB/CSC500/csc500-main/datasets/metehan.stratified_ds.2022A.pkl\", \"source_or_target_dataset\": \"source\", \"x_transforms\": [], \"episode_transforms\": [], \"domain_prefix\": \"Metehan_\"}], \"domains_source\": [\"Metehan_0\", \"Metehan_1\", \"Metehan_2\"], \"domains_target\": [\"Wisig_1\", \"Wisig_2\", \"Wisig_3\", \"Wisig_4\"]}, \"results\": {\"source_test_label_accuracy\": 0.8552631578947368, \"source_test_label_loss\": 0.3755844533443451, \"target_test_label_accuracy\": 0.41694078947368424, \"target_test_label_loss\": 1.8839162588119507, \"source_val_label_accuracy\": 0.8611111111111112, \"source_val_label_loss\": 0.39237093925476074, \"target_val_label_accuracy\": 0.4251644736842105, \"target_val_label_loss\": 1.8173353672027588, \"total_epochs_trained\": 8, \"total_experiment_time_secs\": 47.20548224449158, \"confusion\": {\"Metehan_1\": {\"9\": {\"9\": 11, \"13\": 1}, \"5\": {\"5\": 12}, \"15\": {\"15\": 12}, \"13\": {\"13\": 12}, \"11\": {\"17\": 5, \"11\": 7}, \"7\": {\"7\": 7, \"0\": 4, \"10\": 1}, \"2\": {\"2\": 12}, \"6\": {\"14\": 3, \"6\": 7, \"4\": 2}, \"16\": {\"16\": 12}, \"14\": {\"14\": 11, \"6\": 1}, \"18\": {\"18\": 12}, \"1\": {\"1\": 11, \"2\": 1}, \"10\": {\"10\": 12}, \"12\": {\"12\": 11, \"15\": 1}, \"3\": {\"3\": 12}, \"8\": {\"8\": 12}, \"0\": {\"0\": 5, \"7\": 7}, \"4\": {\"9\": 1, \"6\": 5, \"4\": 6}, \"17\": {\"11\": 2, \"17\": 10}}, \"Metehan_0\": {\"6\": {\"4\": 8, \"6\": 4}, \"18\": {\"18\": 10, \"5\": 2}, \"2\": {\"2\": 12}, \"17\": {\"17\": 11, \"11\": 1}, \"1\": {\"1\": 11, \"5\": 1}, \"4\": {\"4\": 10, \"6\": 2}, \"8\": {\"8\": 12}, \"9\": {\"9\": 12}, \"7\": {\"7\": 11, \"0\": 1}, \"15\": {\"15\": 12}, \"12\": {\"12\": 12}, \"11\": {\"11\": 9, \"17\": 3}, \"13\": {\"13\": 12}, \"0\": {\"0\": 9, \"7\": 3}, \"10\": {\"10\": 10, \"5\": 2}, \"14\": {\"14\": 9, \"6\": 3}, \"3\": {\"3\": 12}, \"5\": {\"5\": 11, \"18\": 1}, \"16\": {\"16\": 11, \"11\": 1}}, \"Metehan_2\": {\"1\": {\"1\": 12}, \"0\": {\"0\": 10, \"7\": 1, \"2\": 1}, \"13\": {\"13\": 11, \"12\": 1}, \"11\": {\"11\": 7, \"17\": 5}, \"5\": {\"5\": 12}, \"15\": {\"15\": 12}, \"14\": {\"6\": 2, \"14\": 10}, \"8\": {\"8\": 12}, \"6\": {\"14\": 2, \"4\": 3, \"6\": 7}, \"3\": {\"3\": 12}, \"10\": {\"10\": 11, \"5\": 1}, \"7\": {\"7\": 8, \"0\": 3, \"10\": 1}, \"17\": {\"17\": 10, \"11\": 2}, \"4\": {\"14\": 1, \"4\": 5, \"6\": 5, \"9\": 1}, \"2\": {\"2\": 12}, \"9\": {\"9\": 11, \"4\": 1}, \"12\": {\"12\": 12}, \"18\": {\"18\": 11, \"5\": 1}, \"16\": {\"11\": 1, \"16\": 10, \"18\": 1}}, \"Wisig_3\": {\"45\": {\"82\": 2, \"55\": 1, \"2\": 1, \"45\": 3, \"117\": 1, \"13\": 1, \"89\": 1, \"111\": 1, \"120\": 1}, \"43\": {\"43\": 8, \"30\": 1, \"108\": 2, \"109\": 1}, \"63\": {\"104\": 2, \"63\": 4, \"55\": 1, \"80\": 2, \"79\": 2, \"41\": 1}, \"55\": {\"45\": 1, \"55\": 5, \"66\": 1, \"2\": 2, \"100\": 1, \"41\": 2}, \"24\": {\"21\": 1, \"24\": 7, \"39\": 1, \"30\": 1, \"78\": 1, \"108\": 1}, \"21\": {\"21\": 11, \"24\": 1}, \"34\": {\"72\": 1, \"34\": 5, \"128\": 1, \"44\": 1, \"53\": 1, \"61\": 1, \"40\": 1, \"14\": 1}, \"14\": {\"14\": 9, \"77\": 1, \"18\": 2}, \"111\": {\"63\": 1, \"116\": 1, \"111\": 5, \"68\": 1, \"102\": 1, \"59\": 1}, \"72\": {\"72\": 5, \"3\": 1, \"53\": 1, \"61\": 1, \"107\": 1, \"34\": 1, \"20\": 1, \"14\": 1}, \"35\": {\"34\": 1, \"20\": 1, \"35\": 5, \"40\": 1, \"127\": 1, \"69\": 1, \"75\": 1, \"51\": 1}, \"116\": {\"45\": 1, \"111\": 2, \"41\": 1, \"13\": 1, \"6\": 1, \"116\": 6}, \"82\": {\"82\": 2, \"43\": 1, \"73\": 2, \"32\": 2, \"28\": 1, \"57\": 1, \"121\": 1, \"45\": 1, \"52\": 1}, \"7\": {\"7\": 10, \"16\": 1, \"101\": 1}, \"20\": {\"72\": 1, \"98\": 1, \"128\": 1, \"20\": 5, \"75\": 1, \"54\": 1, \"1\": 1, \"82\": 1}, \"62\": {\"7\": 1, \"62\": 7, \"51\": 2, \"84\": 1, \"23\": 1}, \"104\": {\"104\": 1, \"111\": 1, \"102\": 1, \"123\": 1, \"68\": 2, \"115\": 2, \"37\": 2, \"125\": 2}, \"98\": {\"98\": 6, \"128\": 1, \"83\": 1, \"46\": 1, \"112\": 2, \"82\": 1}, \"106\": {\"106\": 4, \"93\": 2, \"8\": 1, \"15\": 1, \"0\": 1, \"94\": 1, \"7\": 1, \"127\": 1}, \"118\": {\"118\": 7, \"30\": 3, \"15\": 1, \"96\": 1}, \"32\": {\"61\": 2, \"38\": 1, \"32\": 2, \"100\": 1, \"99\": 2, \"82\": 1, \"74\": 1, \"128\": 2}, \"59\": {\"59\": 9, \"50\": 2, \"113\": 1}, \"128\": {\"61\": 3, \"107\": 1, \"9\": 1, \"57\": 1, \"128\": 6}, \"18\": {\"18\": 11, \"26\": 1}, \"31\": {\"18\": 1, \"31\": 5, \"71\": 1, \"99\": 1, \"72\": 1, \"69\": 1, \"44\": 1, \"1\": 1}, \"39\": {\"24\": 1, \"39\": 7, \"21\": 2, \"70\": 1, \"11\": 1}, \"91\": {\"29\": 2, \"55\": 1, \"2\": 3, \"117\": 1, \"52\": 1, \"5\": 1, \"46\": 1, \"91\": 1, \"65\": 1}, \"48\": {\"55\": 2, \"59\": 2, \"48\": 3, \"86\": 2, \"115\": 1, \"119\": 1, \"79\": 1}, \"61\": {\"61\": 9, \"76\": 3}, \"129\": {\"129\": 7, \"124\": 1, \"68\": 1, \"91\": 1, \"45\": 1, \"57\": 1}, \"69\": {\"69\": 7, \"31\": 1, \"1\": 2, \"3\": 1, \"53\": 1}, \"30\": {\"43\": 1, \"30\": 8, \"8\": 1, \"108\": 1, \"109\": 1}, \"29\": {\"29\": 5, \"55\": 1, \"103\": 2, \"85\": 1, \"65\": 1, \"66\": 1, \"121\": 1}, \"66\": {\"129\": 1, \"128\": 1, \"89\": 1, \"37\": 1, \"74\": 1, \"66\": 2, \"38\": 1, \"92\": 2, \"28\": 2}, \"38\": {\"9\": 3, \"38\": 4, \"28\": 1, \"32\": 1, \"81\": 1, \"107\": 1, \"76\": 1}, \"81\": {\"81\": 6, \"38\": 1, \"114\": 1, \"1\": 1, \"47\": 1, \"33\": 1, \"54\": 1}, \"25\": {\"81\": 1, \"25\": 6, \"6\": 1, \"35\": 1, \"92\": 1, \"32\": 1, \"48\": 1}, \"122\": {\"122\": 5, \"113\": 2, \"70\": 1, \"126\": 1, \"96\": 1, \"15\": 1, \"94\": 1}, \"6\": {\"13\": 1, \"6\": 6, \"37\": 2, \"67\": 1, \"116\": 1, \"119\": 1}, \"2\": {\"37\": 2, \"80\": 2, \"42\": 1, \"2\": 3, \"111\": 1, \"29\": 1, \"55\": 1, \"65\": 1}, \"33\": {\"40\": 2, \"33\": 4, \"20\": 1, \"83\": 1, \"69\": 1, \"114\": 3}, \"37\": {\"13\": 1, \"6\": 1, \"86\": 2, \"119\": 2, \"2\": 1, \"37\": 2, \"124\": 1, \"115\": 1, \"94\": 1}, \"88\": {\"88\": 11, \"78\": 1}, \"73\": {\"91\": 1, \"73\": 6, \"89\": 2, \"19\": 1}, \"101\": {\"101\": 8, \"84\": 1, \"96\": 1, \"12\": 1, \"93\": 1}, \"13\": {\"6\": 2, \"88\": 1, \"124\": 1, \"109\": 1, \"59\": 1, \"13\": 1, \"86\": 3, \"102\": 1, \"119\": 1}, \"9\": {\"9\": 8, \"128\": 1, \"121\": 1, \"53\": 1, \"77\": 1}, \"40\": {\"33\": 1, \"81\": 1, \"35\": 1, \"40\": 7, \"53\": 1, \"18\": 1}, \"22\": {\"63\": 1, \"22\": 8, \"17\": 1, \"102\": 1, \"4\": 1}, \"67\": {\"116\": 1, \"13\": 1, \"41\": 2, \"67\": 5, \"2\": 1, \"115\": 1, \"6\": 1}, \"102\": {\"102\": 11, \"6\": 1}, \"80\": {\"80\": 5, \"22\": 1, \"115\": 2, \"63\": 1, \"59\": 2, \"17\": 1}, \"114\": {\"114\": 6, \"47\": 2, \"1\": 1, \"83\": 1, \"33\": 2}, \"41\": {\"82\": 1, \"13\": 1, \"115\": 1, \"41\": 2, \"121\": 2, \"66\": 1, \"111\": 1, \"116\": 1, \"89\": 1, \"50\": 1}, \"19\": {\"19\": 5, \"32\": 1, \"90\": 1, \"37\": 1, \"112\": 1, \"74\": 1, \"61\": 1, \"56\": 1}, \"84\": {\"84\": 6, \"109\": 1, \"23\": 2, \"7\": 2, \"62\": 1}, \"107\": {\"114\": 2, \"38\": 1, \"107\": 1, \"44\": 1, \"83\": 1, \"53\": 1, \"54\": 1, \"40\": 1, \"72\": 1, \"34\": 1, \"13\": 1}, \"109\": {\"109\": 6, \"10\": 2, \"30\": 1, \"108\": 1, \"126\": 2}, \"124\": {\"13\": 1, \"124\": 4, \"89\": 2, \"28\": 1, \"91\": 1, \"48\": 1, \"119\": 1, \"104\": 1}, \"44\": {\"81\": 1, \"1\": 2, \"44\": 6, \"47\": 1, \"90\": 1, \"72\": 1}, \"103\": {\"29\": 5, \"129\": 1, \"28\": 1, \"103\": 2, \"90\": 1, \"42\": 1, \"89\": 1}, \"64\": {\"64\": 4, \"29\": 1, \"46\": 2, \"50\": 1, \"85\": 2, \"6\": 1, \"82\": 1}, \"75\": {\"47\": 2, \"83\": 1, \"128\": 1, \"100\": 1, \"75\": 2, \"3\": 2, \"105\": 1, \"92\": 1, \"25\": 1}, \"93\": {\"93\": 8, \"106\": 1, \"94\": 1, \"113\": 1, \"122\": 1}, \"10\": {\"11\": 1, \"10\": 6, \"109\": 2, \"30\": 1}, \"11\": {\"10\": 1, \"11\": 7, \"87\": 1, \"30\": 1, \"39\": 1, \"118\": 1}, \"47\": {\"47\": 4, \"81\": 2, \"83\": 2, \"51\": 1, \"3\": 1, \"33\": 1, \"114\": 1}, \"115\": {\"102\": 2, \"115\": 5, \"2\": 1, \"104\": 1, \"37\": 2, \"22\": 1}, \"1\": {\"81\": 2, \"51\": 2, \"54\": 2, \"114\": 2, \"40\": 2, \"1\": 1, \"62\": 1}, \"85\": {\"64\": 1, \"89\": 1, \"85\": 2, \"90\": 1, \"98\": 2, \"46\": 1, \"103\": 2, \"57\": 1, \"112\": 1}, \"89\": {\"89\": 6, \"29\": 1, \"117\": 1, \"73\": 1, \"85\": 1, \"45\": 1, \"41\": 1}, \"83\": {\"105\": 1, \"61\": 1, \"35\": 1, \"83\": 6, \"47\": 2, \"75\": 1}, \"60\": {\"60\": 9, \"110\": 1, \"0\": 1, \"84\": 1}, \"53\": {\"128\": 1, \"75\": 1, \"54\": 2, \"105\": 2, \"31\": 1, \"53\": 2, \"44\": 2, \"28\": 1}, \"120\": {\"120\": 4, \"115\": 1, \"5\": 1, \"121\": 1, \"90\": 1, \"112\": 1, \"64\": 1, \"52\": 2}, \"77\": {\"120\": 1, \"41\": 1, \"85\": 1, \"111\": 1, \"4\": 2, \"112\": 1, \"42\": 1, \"77\": 2, \"28\": 1, \"58\": 1}, \"92\": {\"120\": 2, \"92\": 7, \"76\": 1, \"31\": 1, \"98\": 1}, \"12\": {\"60\": 2, \"12\": 7, \"62\": 1, \"71\": 1, \"101\": 1}, \"76\": {\"76\": 6, \"74\": 1, \"100\": 1, \"92\": 1, \"120\": 1, \"61\": 1, \"52\": 1}, \"87\": {\"87\": 6, \"11\": 1, \"88\": 1, \"8\": 1, \"96\": 1}, \"105\": {\"75\": 2, \"100\": 2, \"40\": 2, \"105\": 4, \"83\": 1, \"1\": 1}, \"112\": {\"112\": 2, \"98\": 4, \"52\": 2, \"74\": 2, \"42\": 1, \"85\": 1}, \"123\": {\"68\": 4, \"13\": 1, \"123\": 2, \"129\": 1, \"38\": 1, \"63\": 1, \"22\": 1, \"116\": 1}, \"8\": {\"8\": 5, \"109\": 1, \"96\": 2, \"118\": 1, \"87\": 1}, \"126\": {\"109\": 2, \"10\": 1, \"108\": 2, \"126\": 2, \"0\": 1, \"30\": 1, \"11\": 1, \"36\": 2}, \"52\": {\"52\": 4, \"121\": 1, \"95\": 2, \"112\": 2, \"103\": 1}, \"121\": {\"57\": 4, \"121\": 3, \"56\": 1, \"50\": 1, \"46\": 1, \"82\": 2}, \"68\": {\"111\": 2, \"68\": 3, \"117\": 1, \"2\": 1, \"115\": 1, \"63\": 1, \"79\": 1, \"6\": 2}, \"74\": {\"57\": 1, \"121\": 1, \"28\": 1, \"32\": 3, \"56\": 1, \"74\": 2, \"92\": 1, \"31\": 1, \"76\": 1}, \"57\": {\"57\": 1, \"121\": 3, \"79\": 1, \"76\": 1, \"124\": 1, \"120\": 1, \"112\": 1, \"85\": 1, \"28\": 1, \"66\": 1}, \"3\": {\"3\": 7, \"105\": 2, \"47\": 1, \"69\": 1, \"36\": 1}, \"42\": {\"52\": 1, \"95\": 1, \"92\": 1, \"2\": 1, \"17\": 1, \"121\": 1, \"58\": 1, \"109\": 1, \"42\": 1, \"112\": 1, \"91\": 1, \"129\": 1}, \"95\": {\"85\": 1, \"95\": 4, \"46\": 1, \"54\": 1, \"81\": 1, \"58\": 2, \"92\": 1, \"100\": 1}, \"17\": {\"17\": 7, \"22\": 2, \"80\": 1, \"4\": 1, \"86\": 1}, \"4\": {\"4\": 8, \"50\": 2, \"86\": 1, \"11\": 1}, \"15\": {\"11\": 1, \"15\": 7, \"94\": 1, \"93\": 1, \"96\": 1, \"122\": 1}, \"16\": {\"16\": 7, \"23\": 1, \"12\": 1, \"7\": 1}, \"46\": {\"46\": 6, \"112\": 1, \"105\": 1, \"42\": 1, \"85\": 1, \"98\": 1, \"19\": 1}, \"117\": {\"117\": 8, \"68\": 1, \"103\": 1, \"41\": 2}, \"96\": {\"8\": 1, \"96\": 5, \"0\": 2, \"15\": 1, \"113\": 2, \"106\": 1}, \"70\": {\"27\": 2, \"39\": 2, \"24\": 1, \"70\": 6, \"108\": 1}, \"27\": {\"70\": 3, \"27\": 5, \"36\": 1, \"108\": 1, \"39\": 1, \"21\": 1}, \"54\": {\"54\": 5, \"53\": 1, \"75\": 1, \"114\": 1, \"31\": 1, \"105\": 1, \"40\": 2}, \"125\": {\"125\": 6, \"104\": 1, \"79\": 2, \"22\": 1, \"115\": 1, \"86\": 1}, \"51\": {\"51\": 6, \"23\": 1, \"71\": 1, \"3\": 1, \"26\": 1, \"1\": 1, \"7\": 1}, \"90\": {\"90\": 5, \"64\": 1, \"112\": 1, \"66\": 1, \"28\": 1, \"58\": 1, \"50\": 1, \"91\": 1}, \"50\": {\"90\": 1, \"44\": 1, \"103\": 1, \"28\": 1, \"17\": 1, \"91\": 1, \"66\": 1, \"57\": 1, \"89\": 2}, \"23\": {\"8\": 2, \"118\": 1, \"16\": 2, \"0\": 2, \"122\": 1, \"110\": 1, \"26\": 1}, \"110\": {\"110\": 9, \"113\": 1, \"87\": 1, \"0\": 1}, \"100\": {\"61\": 1, \"9\": 1, \"120\": 2, \"38\": 1, \"110\": 1, \"92\": 1, \"98\": 1, \"114\": 1, \"52\": 1}, \"108\": {\"108\": 7, \"30\": 1, \"126\": 2, \"27\": 1, \"109\": 1}, \"86\": {\"86\": 8, \"79\": 2, \"4\": 1, \"125\": 1}, \"78\": {\"78\": 6, \"27\": 1, \"70\": 1, \"36\": 1, \"24\": 2, \"88\": 1}, \"127\": {\"127\": 3, \"40\": 1, \"18\": 3, \"26\": 1}, \"94\": {\"11\": 1, \"96\": 1, \"113\": 1, \"110\": 1, \"23\": 2, \"94\": 3, \"0\": 2, \"15\": 1}, \"56\": {\"120\": 2, \"66\": 1, \"56\": 5, \"95\": 2, \"19\": 2}, \"119\": {\"37\": 1, \"6\": 1, \"50\": 1, \"17\": 1, \"42\": 1, \"22\": 1, \"124\": 2, \"77\": 1, \"119\": 2, \"45\": 1}, \"0\": {\"0\": 7, \"113\": 1, \"43\": 1, \"96\": 1, \"97\": 1, \"87\": 1}, \"28\": {\"58\": 2, \"100\": 1, \"57\": 1, \"121\": 1, \"28\": 2, \"99\": 1, \"34\": 2, \"82\": 1, \"128\": 1}, \"26\": {\"26\": 8, \"18\": 1, \"60\": 1}, \"71\": {\"51\": 1, \"71\": 5, \"127\": 1, \"18\": 2, \"69\": 1, \"3\": 2}, \"58\": {\"76\": 1, \"32\": 1, \"58\": 1, \"56\": 2, \"103\": 1, \"28\": 2, \"91\": 2, \"13\": 1, \"6\": 1}, \"5\": {\"5\": 3, \"119\": 2, \"90\": 2, \"124\": 2, \"37\": 1}, \"79\": {\"79\": 5, \"125\": 1, \"22\": 2, \"102\": 2}, \"113\": {\"113\": 9, \"110\": 2, \"0\": 1}, \"99\": {\"56\": 1, \"71\": 1, \"99\": 2, \"31\": 1, \"114\": 2, \"35\": 1, \"25\": 1, \"75\": 2, \"32\": 1}, \"97\": {\"94\": 1, \"113\": 1, \"97\": 2, \"118\": 1, \"110\": 1, \"87\": 1, \"96\": 1}, \"49\": {\"26\": 2, \"49\": 6, \"8\": 1, \"16\": 1}, \"65\": {\"50\": 1, \"103\": 1, \"42\": 1, \"57\": 1, \"91\": 1, \"90\": 1, \"85\": 2, \"65\": 2}, \"36\": {\"27\": 3, \"36\": 4, \"43\": 2, \"108\": 1}}, \"Wisig_1\": {\"106\": {\"106\": 7, \"16\": 1, \"7\": 1, \"9\": 1, \"110\": 1, \"26\": 1}, \"45\": {\"2\": 1, \"119\": 2, \"41\": 1, \"111\": 1, \"64\": 1, \"79\": 1, \"45\": 2, \"102\": 1, \"121\": 2}, \"98\": {\"85\": 2, \"98\": 8, \"90\": 1, \"38\": 1}, \"5\": {\"45\": 1, \"119\": 1, \"61\": 2, \"6\": 1, \"64\": 1, \"5\": 3, \"117\": 3}, \"96\": {\"94\": 2, \"30\": 1, \"118\": 1, \"23\": 1, \"39\": 1, \"113\": 1, \"9\": 1, \"16\": 1, \"8\": 1, \"78\": 1, \"96\": 1}, \"94\": {\"94\": 3, \"70\": 1, \"93\": 2, \"43\": 1, \"15\": 1}, \"4\": {\"4\": 10, \"43\": 1, \"88\": 1}, \"42\": {\"42\": 5, \"85\": 1, \"64\": 2, \"25\": 1, \"68\": 2, \"91\": 1}, \"124\": {\"45\": 1, \"5\": 1, \"28\": 1, \"65\": 1, \"59\": 3, \"116\": 1, \"58\": 1, \"124\": 1}, \"85\": {\"42\": 1, \"85\": 7, \"83\": 2, \"92\": 1, \"50\": 1}, \"116\": {\"116\": 7, \"45\": 1, \"112\": 1, \"22\": 2, \"65\": 1}, \"39\": {\"39\": 8, \"10\": 1, \"88\": 1, \"109\": 1, \"11\": 1}, \"62\": {\"62\": 8, \"44\": 3, \"105\": 1}, \"60\": {\"106\": 2, \"84\": 1, \"16\": 1, \"18\": 1, \"60\": 3, \"69\": 1, \"35\": 1, \"87\": 1, \"12\": 1}, \"104\": {\"104\": 8, \"5\": 1, \"61\": 1}, \"2\": {\"5\": 1, \"80\": 1, \"77\": 2, \"65\": 1, \"2\": 3, \"111\": 1, \"116\": 1, \"64\": 1, \"83\": 1}, \"12\": {\"106\": 1, \"12\": 6, \"108\": 1, \"84\": 2, \"88\": 1, \"60\": 1}, \"119\": {\"119\": 4, \"80\": 1, \"41\": 3, \"46\": 1, \"57\": 1, \"112\": 2}, \"80\": {\"116\": 1, \"80\": 8, \"79\": 1, \"57\": 1, \"72\": 1}, \"65\": {\"65\": 5, \"59\": 2, \"22\": 1, \"61\": 1, \"58\": 1, \"117\": 2}, \"113\": {\"0\": 2, \"113\": 7, \"122\": 1, \"96\": 2}, \"22\": {\"123\": 1, \"65\": 2, \"5\": 2, \"22\": 3, \"2\": 1, \"129\": 1, \"119\": 1, \"117\": 1}, \"32\": {\"32\": 7, \"107\": 2, \"51\": 1, \"56\": 1, \"92\": 1}, \"117\": {\"37\": 1, \"28\": 1, \"117\": 4, \"116\": 1, \"61\": 2, \"58\": 1, \"67\": 2}, \"0\": {\"0\": 10, \"113\": 1, \"18\": 1}, \"44\": {\"44\": 5, \"71\": 1, \"35\": 4, \"31\": 1, \"62\": 1}, \"83\": {\"83\": 3, \"72\": 1, \"49\": 2, \"4\": 1, \"66\": 1, \"54\": 1, \"75\": 1, \"17\": 1, \"64\": 1}, \"118\": {\"0\": 2, \"113\": 2, \"118\": 7, \"23\": 1}, \"37\": {\"123\": 1, \"37\": 8, \"72\": 1, \"76\": 1, \"77\": 1}, \"36\": {\"36\": 6, \"27\": 1, \"93\": 1, \"10\": 1, \"8\": 2, \"24\": 1}, \"72\": {\"72\": 4, \"60\": 1, \"50\": 1, \"114\": 1, \"33\": 1, \"40\": 2, \"99\": 2}, \"27\": {\"36\": 1, \"27\": 5, \"11\": 2, \"126\": 1, \"108\": 2, \"94\": 1}, \"123\": {\"124\": 1, \"65\": 1, \"116\": 2, \"129\": 2, \"85\": 2, \"86\": 2, \"46\": 1, \"123\": 1}, \"71\": {\"71\": 4, \"44\": 2, \"69\": 1, \"9\": 1, \"35\": 1, \"7\": 1, \"3\": 1, \"84\": 1}, \"28\": {\"124\": 2, \"28\": 4, \"41\": 1, \"92\": 2, \"25\": 1}, \"21\": {\"21\": 10, \"70\": 1, \"108\": 1}, \"74\": {\"74\": 4, \"53\": 1, \"29\": 2, \"89\": 1, \"1\": 1, \"33\": 1, \"92\": 1, \"13\": 1}, \"15\": {\"15\": 4, \"126\": 1, \"8\": 1, \"39\": 1, \"43\": 1, \"27\": 1, \"93\": 1}, \"53\": {\"121\": 1, \"53\": 3, \"73\": 1, \"19\": 1, \"47\": 4, \"52\": 2}, \"48\": {\"13\": 1, \"48\": 11}, \"57\": {\"13\": 2, \"57\": 8, \"86\": 1, \"22\": 1}, \"88\": {\"97\": 1, \"88\": 9, \"108\": 1, \"39\": 1}, \"126\": {\"97\": 2, \"109\": 1, \"126\": 6, \"27\": 2, \"24\": 1}, \"69\": {\"69\": 10, \"23\": 2}, \"121\": {\"90\": 1, \"104\": 1, \"61\": 1, \"121\": 3, \"129\": 1, \"58\": 1, \"77\": 1, \"25\": 1, \"42\": 2}, \"49\": {\"49\": 6, \"3\": 1, \"20\": 1, \"76\": 1, \"44\": 1, \"29\": 1, \"100\": 1}, \"59\": {\"90\": 1, \"57\": 2, \"86\": 2, \"59\": 2, \"92\": 1, \"19\": 1, \"2\": 1, \"22\": 1, \"112\": 1}, \"97\": {\"97\": 3, \"88\": 2, \"108\": 2, \"27\": 2, \"24\": 1, \"39\": 1, \"30\": 1}, \"90\": {\"85\": 2, \"54\": 1, \"90\": 4, \"64\": 1, \"73\": 1, \"121\": 1, \"98\": 2}, \"9\": {\"49\": 1, \"9\": 2, \"29\": 1, \"44\": 1, \"31\": 1, \"114\": 1, \"101\": 1, \"76\": 1, \"51\": 1, \"105\": 2}, \"13\": {\"57\": 3, \"112\": 1, \"13\": 4, \"79\": 1, \"80\": 1, \"6\": 1, \"17\": 1}, \"8\": {\"8\": 7, \"15\": 2, \"43\": 1, \"36\": 2}, \"89\": {\"56\": 2, \"19\": 2, \"32\": 2, \"89\": 3, \"128\": 1, \"95\": 2}, \"47\": {\"56\": 2, \"53\": 3, \"73\": 1, \"38\": 1, \"99\": 1, \"29\": 1, \"49\": 2, \"107\": 1}, \"125\": {\"125\": 6, \"116\": 1, \"102\": 1, \"59\": 1, \"67\": 1}, \"58\": {\"74\": 1, \"77\": 1, \"58\": 4, \"25\": 1, \"64\": 1, \"104\": 1, \"117\": 1, \"28\": 2}, \"17\": {\"125\": 2, \"129\": 4, \"102\": 1, \"17\": 2, \"2\": 1, \"112\": 2}, \"29\": {\"29\": 5, \"9\": 1, \"99\": 2, \"50\": 1, \"74\": 1, \"49\": 1, \"47\": 1}, \"35\": {\"44\": 4, \"35\": 5, \"0\": 1, \"84\": 1, \"23\": 1}, \"3\": {\"3\": 2, \"9\": 1, \"105\": 1, \"2\": 1, \"14\": 3, \"40\": 1, \"31\": 1, \"84\": 2}, \"77\": {\"77\": 6, \"98\": 1, \"120\": 2, \"85\": 1, \"83\": 1, \"37\": 1}, \"56\": {\"56\": 6, \"47\": 1, \"52\": 1, \"75\": 1, \"128\": 1, \"20\": 1, \"3\": 1}, \"109\": {\"70\": 3, \"109\": 5, \"88\": 1, \"108\": 2, \"39\": 1}, \"114\": {\"52\": 1, \"114\": 6, \"29\": 1, \"33\": 2, \"49\": 2}, \"16\": {\"84\": 1, \"16\": 8, \"126\": 1, \"106\": 1, \"24\": 1}, \"112\": {\"83\": 1, \"117\": 1, \"61\": 1, \"5\": 1, \"112\": 2, \"13\": 1, \"41\": 1, \"119\": 2, \"37\": 1, \"6\": 1}, \"105\": {\"3\": 1, \"105\": 5, \"14\": 1, \"69\": 1, \"1\": 3, \"9\": 1}, \"84\": {\"60\": 1, \"84\": 8, \"110\": 1, \"101\": 1, \"26\": 1}, \"127\": {\"105\": 2, \"35\": 1, \"71\": 1, \"16\": 1, \"127\": 6, \"106\": 1}, \"70\": {\"70\": 8, \"78\": 3, \"109\": 1}, \"52\": {\"114\": 1, \"52\": 4, \"33\": 2, \"19\": 1, \"20\": 1, \"53\": 1, \"1\": 1, \"107\": 1}, \"31\": {\"40\": 2, \"14\": 2, \"31\": 2, \"101\": 1, \"44\": 1, \"76\": 2, \"35\": 1, \"69\": 1}, \"43\": {\"43\": 9, \"94\": 2, \"27\": 1}, \"75\": {\"47\": 1, \"53\": 1, \"81\": 1, \"114\": 1, \"51\": 1, \"75\": 2, \"34\": 2, \"56\": 2, \"19\": 1}, \"40\": {\"114\": 1, \"35\": 1, \"99\": 1, \"29\": 1, \"40\": 5, \"14\": 1, \"51\": 1, \"3\": 1}, \"129\": {\"129\": 4, \"6\": 2, \"55\": 1, \"17\": 1, \"79\": 1, \"2\": 1, \"77\": 1, \"37\": 1}, \"73\": {\"47\": 1, \"73\": 6, \"92\": 1, \"128\": 2, \"85\": 1, \"83\": 1}, \"93\": {\"93\": 7, \"108\": 1, \"94\": 1, \"11\": 1}, \"20\": {\"20\": 3, \"51\": 3, \"76\": 3, \"1\": 1, \"40\": 1, \"14\": 1}, \"115\": {\"115\": 12}, \"24\": {\"70\": 2, \"24\": 8, \"10\": 1, \"97\": 1}, \"34\": {\"20\": 2, \"51\": 1, \"76\": 2, \"19\": 1, \"31\": 1, \"34\": 3, \"72\": 1, \"92\": 1}, \"78\": {\"24\": 1, \"78\": 6, \"10\": 2, \"21\": 1, \"39\": 2}, \"41\": {\"41\": 8, \"77\": 1, \"102\": 1, \"2\": 1, \"61\": 1}, \"30\": {\"30\": 8, \"93\": 2, \"10\": 1, \"39\": 1}, \"95\": {\"95\": 7, \"20\": 1, \"56\": 1, \"82\": 1, \"51\": 1, \"40\": 1}, \"19\": {\"76\": 1, \"89\": 3, \"38\": 2, \"19\": 2, \"128\": 1, \"74\": 1, \"33\": 2}, \"76\": {\"76\": 8, \"14\": 1, \"34\": 1, \"49\": 1, \"52\": 1}, \"67\": {\"67\": 7, \"79\": 2, \"124\": 1, \"68\": 1, \"66\": 1}, \"23\": {\"60\": 2, \"11\": 1, \"23\": 3, \"122\": 1, \"7\": 1, \"27\": 1, \"1\": 1, \"30\": 1, \"101\": 1}, \"99\": {\"89\": 1, \"76\": 3, \"40\": 1, \"29\": 2, \"127\": 1, \"33\": 1, \"72\": 2, \"81\": 1}, \"66\": {\"67\": 1, \"66\": 3, \"45\": 1, \"16\": 1, \"103\": 1, \"91\": 1}, \"18\": {\"23\": 1, \"60\": 1, \"18\": 6, \"101\": 1, \"26\": 1, \"113\": 1, \"0\": 1}, \"107\": {\"107\": 8, \"100\": 1, \"128\": 1, \"95\": 1, \"53\": 1}, \"108\": {\"24\": 2, \"108\": 4, \"88\": 2, \"97\": 1, \"126\": 1, \"10\": 2}, \"102\": {\"22\": 1, \"79\": 1, \"102\": 8, \"28\": 1, \"123\": 1}, \"54\": {\"98\": 2, \"25\": 2, \"19\": 1, \"42\": 1, \"54\": 3, \"75\": 1, \"107\": 1, \"32\": 1}, \"51\": {\"34\": 1, \"99\": 1, \"51\": 5, \"75\": 1, \"56\": 1, \"20\": 1, \"40\": 2}, \"79\": {\"102\": 1, \"79\": 4, \"67\": 1, \"45\": 2, \"17\": 2, \"13\": 2}, \"61\": {\"61\": 4, \"91\": 2, \"55\": 1, \"117\": 2, \"2\": 1, \"41\": 1, \"129\": 1}, \"11\": {\"108\": 2, \"27\": 1, \"10\": 1, \"11\": 4, \"78\": 2, \"93\": 2}, \"82\": {\"82\": 2, \"92\": 2, \"73\": 1, \"90\": 2, \"81\": 1, \"19\": 2, \"32\": 2}, \"92\": {\"92\": 9, \"54\": 1, \"85\": 1, \"90\": 1}, \"86\": {\"86\": 6, \"2\": 1, \"22\": 1, \"102\": 2, \"46\": 2}, \"33\": {\"33\": 7, \"52\": 1, \"81\": 2, \"20\": 1, \"19\": 1}, \"10\": {\"11\": 1, \"10\": 11}, \"110\": {\"110\": 5, \"18\": 2, \"118\": 1, \"23\": 1, \"0\": 1, \"106\": 1, \"96\": 1}, \"14\": {\"14\": 5, \"3\": 3, \"105\": 1, \"31\": 1, \"76\": 1, \"9\": 1}, \"120\": {\"66\": 2, \"120\": 5, \"64\": 1, \"112\": 1, \"104\": 1, \"54\": 1, \"91\": 1}, \"46\": {\"46\": 3, \"41\": 1, \"120\": 1, \"57\": 1, \"68\": 1, \"59\": 1, \"78\": 1, \"25\": 1, \"102\": 1, \"86\": 1}, \"1\": {\"1\": 6, \"105\": 1, \"40\": 1, \"100\": 2}, \"122\": {\"122\": 8, \"87\": 2, \"96\": 1, \"93\": 1}, \"25\": {\"25\": 5, \"77\": 1, \"54\": 1, \"90\": 1, \"58\": 1, \"91\": 1, \"28\": 1, \"46\": 1}, \"128\": {\"25\": 1, \"128\": 4, \"19\": 1, \"89\": 1, \"50\": 1, \"73\": 1, \"74\": 1, \"107\": 2}, \"100\": {\"107\": 1, \"100\": 6, \"101\": 1, \"40\": 1, \"114\": 2, \"29\": 1}, \"91\": {\"46\": 1, \"77\": 1, \"91\": 3, \"61\": 1, \"38\": 2, \"54\": 1, \"42\": 1, \"66\": 1, \"28\": 1}, \"87\": {\"36\": 1, \"93\": 1, \"87\": 7, \"43\": 1}, \"38\": {\"121\": 1, \"50\": 1, \"38\": 9, \"25\": 1}, \"68\": {\"61\": 2, \"68\": 3, \"38\": 1, \"37\": 1, \"111\": 2, \"66\": 1}, \"50\": {\"50\": 5, \"33\": 2, \"10\": 1, \"1\": 1, \"100\": 1, \"83\": 1, \"42\": 1}, \"55\": {\"117\": 2, \"55\": 3, \"17\": 1, \"65\": 2, \"46\": 2}, \"81\": {\"81\": 5, \"34\": 1, \"19\": 2, \"100\": 1, \"26\": 1, \"74\": 1, \"31\": 1}, \"101\": {\"101\": 5, \"81\": 1, \"26\": 1, \"14\": 2, \"18\": 1, \"40\": 2}, \"7\": {\"7\": 8, \"96\": 1, \"69\": 1}, \"26\": {\"26\": 6, \"101\": 2}, \"64\": {\"42\": 1, \"6\": 1, \"64\": 4, \"58\": 1, \"77\": 2, \"83\": 1}, \"63\": {\"63\": 4, \"102\": 1, \"45\": 1, \"115\": 3, \"80\": 1, \"41\": 1, \"17\": 1}, \"6\": {\"42\": 1, \"64\": 1, \"45\": 1, \"6\": 1, \"111\": 1, \"37\": 2, \"65\": 1, \"58\": 1, \"41\": 1, \"79\": 1, \"119\": 1}, \"111\": {\"45\": 1, \"6\": 1, \"111\": 3, \"37\": 1, \"55\": 2, \"17\": 1, \"119\": 1, \"68\": 1, \"64\": 1}, \"103\": {\"28\": 1, \"75\": 1, \"103\": 1, \"72\": 1, \"19\": 1, \"66\": 1, \"49\": 1, \"107\": 1}}, \"Wisig_2\": {\"89\": {\"89\": 3, \"68\": 1, \"85\": 1, \"38\": 2, \"82\": 2, \"57\": 1, \"90\": 1, \"121\": 1}, \"3\": {\"18\": 4, \"3\": 3, \"62\": 1, \"40\": 1, \"9\": 1, \"69\": 1, \"84\": 1}, \"31\": {\"31\": 8, \"58\": 1, \"99\": 1, \"114\": 1, \"107\": 1}, \"33\": {\"31\": 1, \"33\": 7, \"44\": 1, \"57\": 1, \"97\": 2}, \"8\": {\"8\": 4, \"18\": 1, \"108\": 1, \"43\": 1, \"27\": 1, \"113\": 2, \"122\": 2}, \"41\": {\"41\": 3, \"91\": 1, \"104\": 2, \"21\": 1, \"2\": 2, \"88\": 1, \"48\": 1, \"59\": 1}, \"92\": {\"68\": 1, \"24\": 1, \"32\": 1, \"59\": 1, \"46\": 2, \"121\": 2, \"92\": 2, \"94\": 1, \"29\": 1}, \"87\": {\"87\": 6, \"94\": 2, \"43\": 2, \"10\": 1, \"11\": 1}, \"17\": {\"17\": 3, \"41\": 1, \"102\": 1, \"116\": 1, \"48\": 2, \"13\": 2}, \"93\": {\"110\": 1, \"93\": 5, \"12\": 3, \"60\": 1, \"0\": 1, \"15\": 1}, \"94\": {\"8\": 1, \"87\": 1, \"12\": 1, \"108\": 1, \"94\": 2, \"30\": 1, \"113\": 2, \"36\": 1, \"23\": 1, \"122\": 1}, \"110\": {\"93\": 2, \"26\": 1, \"110\": 4, \"0\": 1, \"3\": 1, \"96\": 1, \"72\": 2}, \"18\": {\"18\": 11, \"95\": 1}, \"122\": {\"8\": 3, \"94\": 1, \"122\": 5, \"23\": 1, \"118\": 1, \"11\": 1}, \"91\": {\"92\": 2, \"28\": 1, \"41\": 1, \"77\": 1, \"73\": 1, \"91\": 2, \"68\": 1, \"117\": 1, \"38\": 2}, \"58\": {\"58\": 7, \"49\": 1, \"123\": 1, \"56\": 1, \"61\": 1, \"97\": 1}, \"68\": {\"68\": 3, \"89\": 1, \"55\": 2, \"90\": 1, \"121\": 1, \"120\": 1, \"73\": 1, \"46\": 2}, \"24\": {\"24\": 10, \"78\": 1, \"70\": 1}, \"28\": {\"68\": 1, \"28\": 5, \"70\": 2, \"82\": 2, \"121\": 1, \"29\": 1}, \"52\": {\"128\": 1, \"52\": 2, \"51\": 1, \"66\": 1, \"85\": 1, \"19\": 1, \"20\": 1, \"29\": 1, \"64\": 1}, \"23\": {\"60\": 1, \"113\": 1, \"118\": 1, \"105\": 1, \"23\": 6, \"94\": 1, \"26\": 1}, \"128\": {\"128\": 6, \"54\": 1, \"34\": 1, \"75\": 1, \"47\": 1, \"31\": 1, \"114\": 1}, \"113\": {\"23\": 1, \"16\": 1, \"113\": 4, \"0\": 1, \"11\": 2, \"109\": 1, \"70\": 1, \"118\": 1}, \"104\": {\"125\": 2, \"104\": 6, \"5\": 1, \"116\": 1, \"22\": 1, \"37\": 1}, \"72\": {\"72\": 8, \"70\": 1, \"62\": 1, \"71\": 2}, \"125\": {\"104\": 2, \"125\": 6, \"22\": 2, \"79\": 1, \"59\": 1}, \"121\": {\"50\": 1, \"70\": 1, \"121\": 6, \"66\": 1, \"78\": 1, \"89\": 1, \"29\": 1}, \"63\": {\"41\": 1, \"50\": 1, \"65\": 1, \"63\": 5, \"92\": 1, \"45\": 1, \"6\": 1, \"129\": 1}, \"70\": {\"70\": 9, \"78\": 1, \"88\": 1, \"11\": 1}, \"16\": {\"70\": 1, \"16\": 4, \"15\": 1, \"106\": 1, \"113\": 1}, \"60\": {\"60\": 8, \"26\": 1, \"110\": 1, \"7\": 1, \"16\": 1}, \"95\": {\"95\": 4, \"72\": 1, \"40\": 1, \"31\": 1, \"127\": 1, \"34\": 1, \"98\": 1, \"126\": 1, \"9\": 1}, \"50\": {\"121\": 1, \"50\": 2, \"65\": 2, \"59\": 1, \"117\": 1, \"76\": 1, \"119\": 1, \"45\": 1, \"129\": 1, \"103\": 1}, \"129\": {\"63\": 2, \"41\": 1, \"2\": 1, \"111\": 1, \"129\": 3, \"119\": 1, \"37\": 1, \"117\": 1, \"50\": 1}, \"77\": {\"91\": 1, \"52\": 1, \"77\": 2, \"28\": 1, \"129\": 1, \"121\": 2, \"83\": 1, \"112\": 1, \"64\": 1, \"120\": 1}, \"47\": {\"95\": 1, \"128\": 2, \"9\": 2, \"24\": 1, \"97\": 1, \"47\": 3, \"39\": 1, \"63\": 1}, \"13\": {\"13\": 7, \"22\": 2, \"119\": 1, \"80\": 2}, \"9\": {\"72\": 2, \"9\": 5, \"83\": 1, \"75\": 1, \"33\": 1, \"100\": 1, \"95\": 1}, \"115\": {\"115\": 7, \"27\": 1}, \"42\": {\"48\": 3, \"111\": 1, \"129\": 1, \"68\": 1, \"124\": 2, \"67\": 1, \"88\": 1, \"6\": 1, \"63\": 1}, \"48\": {\"48\": 6, \"129\": 1, \"111\": 1, \"22\": 1, \"37\": 2, \"66\": 1}, \"25\": {\"25\": 3, \"19\": 1, \"120\": 2, \"34\": 1, \"53\": 1, \"54\": 1, \"49\": 1, \"31\": 1, \"102\": 1}, \"61\": {\"76\": 1, \"13\": 1, \"58\": 1, \"108\": 1, \"100\": 2, \"61\": 1, \"83\": 1, \"89\": 2, \"95\": 1, \"104\": 1}, \"108\": {\"108\": 5, \"94\": 1, \"36\": 2, \"11\": 2, \"12\": 1, \"126\": 1}, \"54\": {\"58\": 1, \"54\": 4, \"99\": 2, \"75\": 2, \"53\": 1, \"83\": 1, \"61\": 1}, \"76\": {\"28\": 1, \"61\": 1, \"57\": 3, \"81\": 1, \"64\": 1, \"6\": 1, \"76\": 2, \"92\": 2}, \"12\": {\"12\": 5, \"78\": 1, \"20\": 1, \"93\": 2, \"106\": 1, \"0\": 1, \"96\": 1}, \"97\": {\"11\": 1, \"0\": 1, \"60\": 1, \"97\": 2, \"84\": 1, \"101\": 1, \"15\": 1, \"12\": 1, \"96\": 1}, \"11\": {\"11\": 7, \"88\": 1, \"113\": 1, \"15\": 1, \"87\": 2}, \"29\": {\"90\": 2, \"29\": 5, \"50\": 1, \"85\": 1, \"46\": 1, \"42\": 1, \"41\": 1}, \"57\": {\"57\": 3, \"90\": 1, \"81\": 2, \"98\": 1, \"112\": 1, \"54\": 1, \"39\": 1, \"47\": 1, \"19\": 1}, \"90\": {\"29\": 2, \"90\": 3, \"120\": 3, \"67\": 2, \"68\": 2}, \"26\": {\"26\": 9, \"0\": 1, \"7\": 1, \"60\": 1}, \"111\": {\"111\": 5, \"29\": 1, \"50\": 1, \"65\": 1, \"103\": 1, \"129\": 1, \"5\": 1, \"91\": 1}, \"59\": {\"111\": 4, \"59\": 3, \"48\": 1, \"124\": 1, \"86\": 2, \"125\": 1}, \"86\": {\"59\": 2, \"86\": 7, \"48\": 1, \"119\": 1, \"13\": 1}, \"126\": {\"11\": 2, \"109\": 2, \"39\": 1, \"126\": 3, \"10\": 2, \"27\": 1, \"30\": 1}, \"127\": {\"127\": 3, \"1\": 1, \"14\": 1, \"95\": 1, \"69\": 1, \"51\": 1}, \"0\": {\"0\": 9, \"110\": 1, \"93\": 1, \"118\": 1}, \"117\": {\"117\": 6, \"65\": 1, \"38\": 1, \"2\": 1, \"63\": 1, \"120\": 1, \"91\": 1}, \"118\": {\"118\": 4, \"23\": 1, \"15\": 2, \"122\": 1, \"24\": 1, \"16\": 1, \"0\": 1, \"12\": 1}, \"32\": {\"99\": 1, \"54\": 1, \"9\": 1, \"32\": 5, \"128\": 1, \"107\": 1, \"34\": 2}, \"37\": {\"37\": 10, \"41\": 1, \"46\": 1}, \"96\": {\"96\": 6, \"105\": 2, \"20\": 1, \"110\": 1, \"84\": 1, \"51\": 1}, \"44\": {\"44\": 8, \"107\": 1, \"31\": 1, \"32\": 2}, \"10\": {\"10\": 11, \"88\": 1}, \"4\": {\"4\": 12}, \"20\": {\"20\": 4, \"18\": 1, \"1\": 2, \"14\": 1, \"69\": 1, \"83\": 1, \"95\": 1, \"84\": 1}, \"21\": {\"21\": 10}, \"79\": {\"79\": 8, \"82\": 1, \"112\": 1}, \"99\": {\"99\": 4, \"54\": 1, \"31\": 2, \"69\": 1, \"58\": 1, \"53\": 2, \"71\": 1}, \"105\": {\"105\": 7, \"12\": 1, \"96\": 1, \"60\": 2, \"8\": 1}, \"112\": {\"112\": 2, \"82\": 1, \"57\": 2, \"68\": 1, \"55\": 1, \"77\": 2, \"61\": 2, \"123\": 1}, \"102\": {\"102\": 5, \"79\": 1}, \"14\": {\"20\": 1, \"18\": 2, \"127\": 2, \"84\": 2, \"78\": 1, \"3\": 1, \"39\": 1, \"100\": 1, \"14\": 1}, \"81\": {\"81\": 5, \"64\": 1, \"77\": 1, \"46\": 1, \"112\": 1, \"100\": 1, \"76\": 1, \"74\": 1}, \"65\": {\"65\": 6, \"50\": 1, \"63\": 1, \"45\": 1, \"2\": 1, \"123\": 1, \"37\": 1}, \"22\": {\"22\": 4, \"86\": 1, \"13\": 2, \"125\": 1, \"104\": 2, \"50\": 1, \"6\": 1}, \"64\": {\"64\": 4, \"63\": 1, \"99\": 1, \"91\": 1, \"92\": 2, \"38\": 1, \"120\": 2}, \"1\": {\"18\": 1, \"20\": 3, \"14\": 2, \"1\": 4, \"84\": 2}, \"83\": {\"83\": 7, \"31\": 1, \"44\": 1, \"58\": 2, \"69\": 1}, \"2\": {\"129\": 2, \"73\": 1, \"13\": 1, \"38\": 2, \"5\": 1, \"117\": 1, \"2\": 1, \"92\": 1, \"41\": 1, \"45\": 1}, \"78\": {\"70\": 2, \"78\": 6, \"109\": 1, \"24\": 2, \"11\": 1}, \"107\": {\"33\": 1, \"83\": 1, \"34\": 3, \"53\": 1, \"128\": 1, \"28\": 1, \"107\": 3, \"31\": 1}, \"103\": {\"129\": 2, \"77\": 1, \"89\": 1, \"85\": 2, \"123\": 1, \"22\": 1, \"29\": 2, \"103\": 1, \"121\": 1}, \"88\": {\"78\": 2, \"88\": 8, \"27\": 2}, \"80\": {\"86\": 1, \"80\": 10, \"13\": 1}, \"109\": {\"126\": 2, \"39\": 2, \"15\": 2, \"109\": 4, \"27\": 1, \"115\": 1}, \"30\": {\"94\": 2, \"30\": 7, \"10\": 1, \"15\": 1, \"118\": 1}, \"119\": {\"91\": 1, \"2\": 1, \"119\": 4, \"129\": 1, \"124\": 1, \"42\": 1, \"67\": 1, \"41\": 1, \"86\": 1}, \"106\": {\"106\": 7, \"23\": 1, \"16\": 1, \"60\": 1, \"105\": 1, \"101\": 1}, \"35\": {\"35\": 4, \"95\": 1, \"98\": 2, \"44\": 1, \"14\": 2, \"49\": 1, \"33\": 1}, \"73\": {\"73\": 4, \"29\": 1, \"75\": 1, \"67\": 1, \"66\": 1, \"99\": 1, \"45\": 1, \"55\": 1, \"103\": 1}, \"6\": {\"48\": 1, \"2\": 1, \"124\": 1, \"6\": 4, \"66\": 1, \"103\": 1, \"22\": 1, \"63\": 2}, \"46\": {\"90\": 3, \"46\": 4, \"81\": 2, \"68\": 2, \"120\": 1}, \"75\": {\"57\": 1, \"46\": 1, \"114\": 1, \"75\": 1, \"43\": 1, \"34\": 1, \"33\": 1, \"128\": 1, \"47\": 2, \"99\": 1, \"98\": 1}, \"39\": {\"39\": 6, \"10\": 2, \"109\": 1, \"30\": 2, \"78\": 1}, \"5\": {\"37\": 3, \"59\": 1, \"5\": 5, \"104\": 1, \"67\": 1, \"42\": 1}, \"7\": {\"7\": 10, \"60\": 1, \"101\": 1}, \"124\": {\"124\": 4, \"6\": 1, \"119\": 1, \"117\": 1, \"116\": 2, \"123\": 1, \"41\": 2}, \"69\": {\"69\": 10, \"49\": 1, \"47\": 1}, \"71\": {\"7\": 1, \"71\": 5, \"55\": 1, \"69\": 1, \"32\": 1, \"108\": 1, \"20\": 1, \"127\": 1}, \"74\": {\"69\": 2, \"10\": 1, \"31\": 1, \"74\": 2, \"47\": 3, \"88\": 1}, \"53\": {\"53\": 2, \"19\": 1, \"43\": 1, \"34\": 1, \"39\": 1, \"44\": 1, \"54\": 1, \"99\": 2, \"24\": 1, \"98\": 1}, \"51\": {\"51\": 4, \"34\": 1, \"36\": 1, \"101\": 1, \"18\": 1, \"100\": 1, \"1\": 1, \"69\": 1, \"107\": 1}, \"38\": {\"38\": 6, \"82\": 1, \"112\": 2, \"85\": 1, \"55\": 1, \"64\": 1}, \"62\": {\"71\": 1, \"62\": 7, \"95\": 1, \"72\": 1, \"84\": 2}, \"27\": {\"88\": 2, \"27\": 7, \"43\": 1, \"94\": 1, \"126\": 1}, \"19\": {\"25\": 1, \"120\": 1, \"82\": 1, \"53\": 1, \"85\": 1, \"52\": 1, \"19\": 3, \"90\": 1, \"98\": 1, \"64\": 1}, \"84\": {\"62\": 1, \"105\": 1, \"84\": 3, \"40\": 1, \"26\": 1, \"20\": 1, \"1\": 1, \"3\": 1, \"101\": 1, \"96\": 1}, \"120\": {\"38\": 1, \"120\": 3, \"98\": 1, \"29\": 1, \"89\": 1, \"68\": 1, \"57\": 1, \"90\": 1, \"64\": 1, \"82\": 1}, \"114\": {\"114\": 5, \"40\": 1, \"34\": 2, \"107\": 2, \"75\": 1, \"128\": 1}, \"45\": {\"85\": 1, \"50\": 1, \"29\": 2, \"123\": 1, \"55\": 1, \"27\": 1, \"63\": 1, \"42\": 1, \"45\": 2, \"24\": 1}, \"40\": {\"114\": 4, \"74\": 1, \"83\": 1, \"33\": 2, \"49\": 1, \"40\": 2, \"62\": 1}, \"85\": {\"29\": 3, \"75\": 1, \"98\": 1, \"25\": 1, \"90\": 1, \"63\": 2, \"45\": 1, \"46\": 1, \"59\": 1}, \"82\": {\"112\": 1, \"82\": 5, \"55\": 2, \"58\": 1, \"52\": 1}, \"101\": {\"101\": 4, \"106\": 1, \"62\": 2, \"7\": 1, \"71\": 1, \"72\": 1, \"84\": 1, \"96\": 1}, \"98\": {\"98\": 6, \"53\": 1, \"19\": 2, \"75\": 1, \"120\": 1, \"73\": 1}, \"100\": {\"49\": 3, \"128\": 1, \"58\": 1, \"62\": 1, \"100\": 4, \"72\": 1, \"18\": 1}, \"43\": {\"43\": 7, \"108\": 1, \"36\": 1, \"15\": 2, \"27\": 1}, \"34\": {\"98\": 1, \"34\": 6, \"53\": 1, \"54\": 1, \"32\": 1, \"75\": 1, \"99\": 1}, \"49\": {\"49\": 5, \"114\": 1, \"108\": 1, \"62\": 1, \"100\": 1, \"83\": 1, \"33\": 1, \"27\": 1}, \"15\": {\"15\": 8, \"30\": 1, \"43\": 1, \"11\": 2}, \"66\": {\"5\": 1, \"66\": 2, \"123\": 2, \"73\": 2, \"67\": 1, \"81\": 1, \"41\": 1}, \"36\": {\"108\": 1, \"36\": 8, \"15\": 1, \"30\": 1, \"10\": 1}, \"116\": {\"116\": 6, \"5\": 2, \"123\": 1, \"67\": 1, \"6\": 2}, \"67\": {\"67\": 2, \"79\": 1, \"66\": 2, \"22\": 1, \"116\": 1, \"119\": 1, \"42\": 1, \"57\": 1, \"50\": 1, \"124\": 1}, \"55\": {\"82\": 2, \"55\": 6, \"67\": 1, \"56\": 1, \"38\": 1, \"98\": 1}, \"123\": {\"46\": 2, \"66\": 1, \"6\": 1, \"123\": 3, \"67\": 1, \"65\": 1, \"73\": 1}, \"56\": {\"56\": 2, \"61\": 1, \"34\": 1, \"81\": 2, \"76\": 1, \"64\": 1}}, \"Wisig_4\": {\"19\": {\"121\": 1, \"52\": 1, \"29\": 1, \"19\": 3, \"46\": 1, \"89\": 1, \"56\": 1, \"41\": 1, \"31\": 2}, \"93\": {\"93\": 8, \"16\": 1, \"110\": 2, \"12\": 1}, \"52\": {\"33\": 1, \"35\": 1, \"81\": 1, \"114\": 1, \"52\": 4, \"89\": 1, \"99\": 1, \"1\": 1, \"61\": 1}, \"44\": {\"20\": 1, \"35\": 1, \"44\": 5, \"81\": 1, \"114\": 1, \"107\": 1, \"9\": 1, \"32\": 1}, \"120\": {\"120\": 2, \"67\": 1, \"48\": 2, \"57\": 2, \"56\": 1, \"28\": 2, \"42\": 1, \"39\": 1}, \"33\": {\"33\": 4, \"54\": 1, \"38\": 1, \"128\": 1, \"107\": 1, \"35\": 1, \"75\": 1}, \"87\": {\"87\": 7, \"10\": 1, \"15\": 1, \"11\": 2, \"110\": 1}, \"20\": {\"35\": 1, \"14\": 1, \"26\": 1, \"5\": 1, \"69\": 2, \"20\": 2, \"72\": 1, \"54\": 1, \"33\": 1, \"21\": 1}, \"35\": {\"20\": 1, \"44\": 1, \"114\": 1, \"47\": 1, \"35\": 4, \"51\": 1, \"23\": 2, \"34\": 1}, \"16\": {\"16\": 10, \"7\": 1, \"99\": 1}, \"14\": {\"16\": 2, \"84\": 1, \"51\": 1, \"14\": 5, \"105\": 1, \"18\": 1, \"81\": 1}, \"91\": {\"121\": 1, \"120\": 1, \"112\": 1, \"31\": 1, \"57\": 2, \"85\": 1, \"64\": 1, \"75\": 1, \"90\": 1}, \"121\": {\"120\": 1, \"35\": 1, \"73\": 1, \"81\": 1, \"121\": 4, \"47\": 1, \"20\": 1, \"5\": 1, \"38\": 1}, \"65\": {\"65\": 9, \"50\": 1, \"111\": 2}, \"66\": {\"66\": 1, \"120\": 1, \"41\": 1, \"58\": 1, \"50\": 1, \"119\": 1, \"117\": 1, \"82\": 1, \"77\": 2, \"65\": 1, \"48\": 1}, \"37\": {\"37\": 5, \"65\": 3, \"116\": 2, \"68\": 1, \"102\": 1}, \"67\": {\"88\": 1, \"66\": 1, \"117\": 1, \"67\": 3, \"123\": 1, \"82\": 1, \"63\": 1, \"28\": 1, \"68\": 2}, \"88\": {\"88\": 8, \"39\": 1, \"78\": 2, \"21\": 1}, \"71\": {\"14\": 2, \"71\": 1, \"36\": 1, \"85\": 2, \"72\": 1, \"20\": 1, \"53\": 1, \"1\": 1, \"100\": 2}, \"81\": {\"84\": 1, \"8\": 1, \"58\": 1, \"76\": 1, \"105\": 2, \"5\": 1, \"38\": 1, \"40\": 1, \"14\": 1, \"3\": 2}, \"34\": {\"34\": 2, \"3\": 1, \"114\": 1, \"52\": 1, \"23\": 2, \"83\": 1, \"5\": 1, \"81\": 1, \"105\": 1, \"54\": 1}, \"63\": {\"68\": 1, \"50\": 1, \"79\": 1, \"57\": 1, \"103\": 1, \"45\": 2, \"63\": 1, \"67\": 1, \"22\": 1, \"64\": 2}, \"73\": {\"73\": 4, \"121\": 1, \"76\": 1, \"42\": 1, \"57\": 1, \"120\": 1, \"47\": 1, \"41\": 1, \"52\": 1}, \"86\": {\"86\": 9, \"115\": 1, \"13\": 1, \"4\": 1}, \"106\": {\"106\": 4, \"60\": 2, \"93\": 2, \"7\": 3, \"96\": 1}, \"68\": {\"63\": 1, \"68\": 4, \"50\": 1, \"6\": 1, \"29\": 2, \"65\": 2, \"45\": 1}, \"98\": {\"98\": 6, \"121\": 1, \"83\": 1, \"47\": 1, \"76\": 1, \"42\": 1, \"34\": 1}, \"84\": {\"84\": 7, \"1\": 1, \"88\": 1, \"20\": 2, \"126\": 1}, \"101\": {\"106\": 1, \"101\": 7, \"0\": 2, \"60\": 1, \"7\": 1}, \"50\": {\"119\": 2, \"50\": 4, \"58\": 1, \"129\": 1}, \"8\": {\"8\": 5, \"101\": 1, \"78\": 1, \"0\": 1, \"94\": 2, \"23\": 2}, \"95\": {\"95\": 3, \"81\": 1, \"76\": 2, \"83\": 1, \"47\": 1, \"61\": 4}, \"119\": {\"86\": 1, \"119\": 6, \"50\": 1, \"65\": 1, \"104\": 1, \"129\": 1, \"102\": 1}, \"51\": {\"8\": 1, \"73\": 1, \"5\": 2, \"103\": 1, \"67\": 1, \"14\": 1, \"51\": 2, \"95\": 1, \"106\": 1, \"40\": 1}, \"3\": {\"84\": 2, \"18\": 1, \"5\": 1, \"40\": 2, \"127\": 1, \"3\": 2, \"1\": 1, \"103\": 1, \"85\": 1}, \"9\": {\"107\": 1, \"44\": 1, \"29\": 1, \"9\": 2, \"105\": 1, \"81\": 1, \"71\": 1, \"127\": 2, \"32\": 1, \"49\": 1}, \"42\": {\"107\": 1, \"2\": 1, \"42\": 4, \"112\": 1, \"56\": 1, \"28\": 1, \"82\": 1, \"67\": 1, \"41\": 1}, \"123\": {\"123\": 8, \"37\": 1, \"2\": 1, \"63\": 1, \"22\": 1}, \"107\": {\"107\": 4, \"75\": 1, \"32\": 1, \"40\": 2, \"33\": 2, \"83\": 1, \"128\": 1}, \"111\": {\"6\": 1, \"2\": 1, \"124\": 1, \"129\": 1, \"67\": 1, \"111\": 4, \"65\": 1, \"45\": 1, \"55\": 1}, \"64\": {\"2\": 2, \"22\": 1, \"5\": 1, \"66\": 1, \"28\": 1, \"124\": 1, \"64\": 3, \"31\": 1, \"90\": 1}, \"31\": {\"31\": 5, \"48\": 1, \"58\": 1, \"112\": 1, \"89\": 1, \"90\": 1, \"2\": 1, \"19\": 1}, \"6\": {\"42\": 1, \"2\": 1, \"6\": 2, \"29\": 1, \"64\": 1, \"46\": 1, \"77\": 1, \"111\": 1, \"70\": 1, \"119\": 1, \"90\": 1}, \"53\": {\"53\": 3, \"75\": 1, \"99\": 1, \"18\": 1, \"40\": 2, \"38\": 1, \"78\": 1, \"73\": 1, \"52\": 1}, \"108\": {\"108\": 10, \"39\": 1, \"30\": 1}, \"69\": {\"108\": 1, \"114\": 1, \"69\": 5, \"1\": 1, \"20\": 1, \"18\": 3}, \"96\": {\"96\": 4, \"9\": 1, \"12\": 1, \"62\": 1, \"11\": 1, \"26\": 2, \"87\": 1, \"84\": 1}, \"22\": {\"123\": 1, \"111\": 1, \"48\": 1, \"22\": 6, \"6\": 1, \"50\": 2}, \"114\": {\"114\": 6, \"52\": 1, \"34\": 1, \"35\": 1, \"100\": 1, \"44\": 2}, \"7\": {\"96\": 2, \"7\": 5, \"60\": 2, \"101\": 1, \"39\": 1, \"106\": 1}, \"75\": {\"75\": 6, \"31\": 1, \"57\": 1, \"112\": 1, \"25\": 1, \"83\": 1, \"91\": 1}, \"2\": {\"6\": 1, \"22\": 1, \"2\": 5, \"42\": 2, \"119\": 1}, \"39\": {\"39\": 6, \"78\": 1, \"94\": 1, \"108\": 1, \"109\": 2, \"27\": 1}, \"41\": {\"22\": 1, \"46\": 1, \"47\": 2, \"41\": 3, \"89\": 1, \"120\": 1, \"115\": 2, \"19\": 1}, \"58\": {\"58\": 3, \"28\": 1, \"45\": 2, \"57\": 1, \"32\": 1, \"51\": 1, \"76\": 1, \"68\": 1, \"112\": 1}, \"127\": {\"127\": 8, \"84\": 1, \"109\": 1, \"3\": 1, \"1\": 1}, \"62\": {\"62\": 7, \"60\": 1, \"26\": 2, \"96\": 2}, \"76\": {\"34\": 1, \"46\": 1, \"89\": 1, \"76\": 7, \"107\": 1, \"83\": 1}, \"46\": {\"58\": 1, \"52\": 1, \"5\": 1, \"89\": 1, \"76\": 2, \"6\": 1, \"53\": 1, \"46\": 2, \"34\": 2}, \"60\": {\"60\": 5, \"62\": 1, \"7\": 1, \"101\": 4, \"16\": 1}, \"118\": {\"118\": 4, \"11\": 2, \"15\": 2, \"23\": 1, \"93\": 1, \"87\": 2}, \"78\": {\"78\": 10, \"88\": 2}, \"48\": {\"22\": 3, \"48\": 4, \"68\": 1, \"129\": 1, \"111\": 1, \"95\": 1, \"25\": 1}, \"29\": {\"29\": 7, \"64\": 1, \"6\": 3, \"82\": 1}, \"17\": {\"17\": 12}, \"112\": {\"47\": 1, \"89\": 1, \"112\": 2, \"53\": 1, \"128\": 2, \"77\": 1, \"56\": 1, \"19\": 1, \"99\": 1, \"45\": 1}, \"109\": {\"94\": 2, \"36\": 3, \"109\": 6, \"27\": 1}, \"47\": {\"29\": 1, \"89\": 1, \"98\": 1, \"47\": 4, \"61\": 2, \"70\": 1, \"56\": 1, \"90\": 1}, \"94\": {\"94\": 6, \"109\": 1, \"88\": 1, \"122\": 2, \"36\": 1, \"8\": 1}, \"115\": {\"115\": 6, \"17\": 1, \"86\": 1, \"13\": 1, \"123\": 2, \"111\": 1}, \"5\": {\"3\": 2, \"49\": 1, \"36\": 1, \"105\": 1, \"1\": 1, \"5\": 3, \"81\": 1, \"103\": 1, \"54\": 1}, \"26\": {\"26\": 5, \"20\": 1, \"16\": 2, \"72\": 1, \"106\": 1, \"71\": 2}, \"89\": {\"89\": 5, \"46\": 3, \"28\": 1, \"128\": 1}, \"49\": {\"51\": 1, \"26\": 1, \"49\": 2, \"100\": 1, \"23\": 1, \"106\": 1, \"5\": 2, \"20\": 1}, \"18\": {\"51\": 1, \"18\": 5, \"99\": 2, \"1\": 1, \"69\": 1, \"14\": 2}, \"102\": {\"102\": 7, \"79\": 1, \"104\": 1, \"37\": 1, \"116\": 1, \"80\": 1}, \"99\": {\"81\": 1, \"105\": 3, \"72\": 1, \"33\": 2, \"3\": 1, \"103\": 1, \"40\": 1, \"1\": 1, \"100\": 1}, \"105\": {\"99\": 1, \"84\": 1, \"105\": 4, \"72\": 1, \"27\": 1, \"14\": 1, \"69\": 1, \"127\": 1, \"9\": 1}, \"43\": {\"43\": 11, \"126\": 1}, \"12\": {\"12\": 7, \"7\": 2, \"99\": 2, \"110\": 1}, \"1\": {\"69\": 1, \"1\": 6, \"40\": 1, \"72\": 1, \"114\": 1, \"3\": 1, \"99\": 1}, \"21\": {\"21\": 11, \"78\": 1}, \"100\": {\"5\": 1, \"46\": 1, \"21\": 1, \"38\": 1, \"114\": 2, \"100\": 2, \"107\": 1, \"33\": 1, \"105\": 1, \"75\": 1}, \"80\": {\"80\": 7, \"117\": 1, \"102\": 1, \"92\": 1}, \"116\": {\"123\": 2, \"116\": 4, \"13\": 1, \"129\": 1, \"37\": 1, \"119\": 1, \"63\": 1, \"50\": 1}, \"70\": {\"70\": 2, \"36\": 1, \"108\": 2, \"97\": 3, \"111\": 1, \"21\": 1, \"88\": 1, \"126\": 1}, \"36\": {\"36\": 5, \"118\": 1, \"109\": 1, \"10\": 1, \"39\": 1, \"21\": 1}, \"122\": {\"122\": 2, \"70\": 1, \"110\": 3, \"113\": 2, \"8\": 1, \"0\": 1, \"43\": 1, \"93\": 1}, \"55\": {\"31\": 2, \"117\": 1, \"55\": 4, \"56\": 1, \"61\": 1, \"45\": 1, \"68\": 2}, \"0\": {\"0\": 6, \"11\": 1, \"62\": 1, \"103\": 1, \"113\": 1, \"96\": 2}, \"4\": {\"4\": 12}, \"82\": {\"112\": 2, \"57\": 1, \"82\": 2, \"128\": 1, \"66\": 2, \"89\": 1, \"47\": 1, \"76\": 1, \"98\": 1}, \"32\": {\"112\": 2, \"107\": 1, \"76\": 1, \"32\": 2, \"74\": 2, \"117\": 1, \"92\": 1}, \"124\": {\"55\": 1, \"124\": 3, \"111\": 2, \"67\": 2, \"90\": 1, \"65\": 1, \"129\": 1, \"73\": 1}, \"117\": {\"55\": 4, \"117\": 4, \"124\": 1, \"67\": 1, \"68\": 1, \"129\": 1}, \"11\": {\"0\": 2, \"11\": 7, \"7\": 1, \"110\": 1, \"30\": 1}, \"92\": {\"32\": 1, \"92\": 4, \"90\": 3, \"45\": 1, \"124\": 2, \"55\": 1}, \"128\": {\"74\": 2, \"27\": 1, \"32\": 1, \"38\": 2, \"89\": 2, \"52\": 1, \"128\": 1, \"23\": 1, \"19\": 1}, \"90\": {\"120\": 1, \"48\": 1, \"98\": 1, \"90\": 8, \"6\": 1}, \"74\": {\"74\": 6, \"38\": 1, \"128\": 2, \"98\": 2, \"40\": 1}, \"38\": {\"38\": 5, \"74\": 1, \"35\": 1, \"117\": 1, \"81\": 1, \"33\": 1, \"61\": 1, \"121\": 1}, \"25\": {\"25\": 4, \"74\": 1, \"61\": 1, \"121\": 1, \"5\": 1, \"85\": 2, \"46\": 2}, \"15\": {\"15\": 4, \"118\": 2, \"87\": 2, \"113\": 1, \"0\": 1, \"27\": 1, \"126\": 1}, \"113\": {\"87\": 4, \"27\": 1, \"113\": 4, \"24\": 1, \"77\": 1, \"43\": 1}, \"85\": {\"85\": 7, \"76\": 2, \"81\": 1, \"128\": 2}, \"57\": {\"91\": 1, \"57\": 5, \"70\": 1, \"124\": 1, \"2\": 2, \"0\": 1, \"64\": 1}, \"13\": {\"115\": 1, \"125\": 1, \"116\": 2, \"104\": 1, \"13\": 3, \"79\": 2, \"37\": 1, \"17\": 1}, \"125\": {\"125\": 9, \"86\": 1, \"102\": 1, \"17\": 1}, \"28\": {\"46\": 1, \"89\": 2, \"92\": 1, \"124\": 1, \"56\": 2, \"28\": 1, \"120\": 1, \"74\": 1, \"77\": 2}, \"40\": {\"76\": 1, \"40\": 4, \"107\": 1, \"61\": 2, \"14\": 1, \"81\": 1, \"99\": 2}, \"56\": {\"28\": 1, \"73\": 1, \"55\": 2, \"90\": 1, \"56\": 3, \"77\": 1, \"119\": 1, \"57\": 2}, \"23\": {\"127\": 3, \"62\": 1, \"78\": 1, \"110\": 1, \"70\": 1, \"118\": 1, \"14\": 1, \"23\": 1, \"5\": 1, \"39\": 1}, \"83\": {\"84\": 1, \"76\": 1, \"105\": 1, \"83\": 2, \"34\": 2, \"52\": 2, \"72\": 2, \"75\": 1}, \"72\": {\"72\": 5, \"26\": 1, \"114\": 1, \"127\": 1, \"71\": 1, \"84\": 1, \"16\": 2}, \"97\": {\"97\": 2, \"78\": 1, \"10\": 2, \"27\": 2, \"70\": 2, \"88\": 1, \"24\": 1, \"124\": 1}, \"77\": {\"47\": 2, \"59\": 1, \"77\": 4, \"56\": 1, \"6\": 1, \"28\": 1}, \"45\": {\"45\": 6, \"32\": 1, \"103\": 1, \"129\": 1, \"55\": 2, \"29\": 1}, \"129\": {\"129\": 6, \"63\": 1, \"111\": 1, \"59\": 1, \"56\": 1, \"22\": 1, \"116\": 1}, \"104\": {\"13\": 1, \"56\": 1, \"111\": 1, \"104\": 3, \"125\": 1, \"68\": 1}, \"10\": {\"10\": 7, \"97\": 1, \"70\": 1, \"24\": 2, \"78\": 1}, \"61\": {\"61\": 7, \"83\": 1, \"32\": 2, \"78\": 1, \"73\": 1}, \"110\": {\"122\": 3, \"43\": 1, \"110\": 4, \"113\": 1, \"11\": 1, \"93\": 1, \"87\": 1}, \"79\": {\"65\": 3, \"79\": 6, \"102\": 1, \"67\": 1, \"115\": 1}, \"30\": {\"8\": 1, \"43\": 1, \"126\": 1, \"30\": 6, \"94\": 1}, \"103\": {\"32\": 2, \"28\": 1, \"124\": 1, \"73\": 1, \"58\": 1, \"19\": 1, \"112\": 1, \"23\": 1, \"115\": 1, \"57\": 1, \"31\": 1}, \"54\": {\"124\": 1, \"103\": 1, \"54\": 2, \"33\": 2, \"85\": 1, \"20\": 1, \"22\": 1, \"49\": 1}, \"27\": {\"27\": 8, \"108\": 1, \"126\": 1, \"10\": 1, \"109\": 1}, \"59\": {\"59\": 3, \"104\": 3, \"125\": 1, \"119\": 2, \"66\": 1}, \"24\": {\"126\": 2, \"24\": 3, \"97\": 2, \"8\": 1}, \"126\": {\"27\": 2, \"70\": 2, \"126\": 2, \"24\": 1, \"10\": 1}}}, \"per_domain_accuracy\": {\"Metehan_1\": {\"accuracy\": 0.8508771929824561, \"source?\": true}, \"Metehan_0\": {\"accuracy\": 0.8771929824561403, \"source?\": true}, \"Metehan_2\": {\"accuracy\": 0.8552631578947368, \"source?\": true}, \"Wisig_3\": {\"accuracy\": 0.4309210526315789, \"source?\": false}, \"Wisig_1\": {\"accuracy\": 0.4473684210526316, \"source?\": false}, \"Wisig_2\": {\"accuracy\": 0.42236842105263156, \"source?\": false}, \"Wisig_4\": {\"accuracy\": 0.4, \"source?\": false}}}, \"history\": {\"epoch_indices\": [1, 2, 3, 4, 5, 6, 7, 8], \"train_label_loss\": [0.35970937383789864, 1.6395214432998308, 0.8939875829077902, 0.36756624476540656, 0.2937384847965505, 0.2699310044270186, 0.24612299423842204, 0.2506285137127316], \"source_val_label_loss\": [0.3073290288448334, 1.94151771068573, 0.533577561378479, 0.39237093925476074, 0.38338223099708557, 0.38463056087493896, 0.4003579616546631, 0.3893164396286011], \"target_val_label_loss\": [4.16337251663208, 7.950555324554443, 2.557206869125366, 1.8173353672027588, 2.1371591091156006, 2.564478635787964, 1.9523746967315674, 2.0736494064331055], \"source_val_acc_label\": [0.8903508771929824, 0.783625730994152, 0.8464912280701754, 0.8611111111111112, 0.8538011695906432, 0.8596491228070176, 0.8523391812865497, 0.8567251461988304], \"target_val_acc_label\": [0.20838815789473683, 0.3942434210526316, 0.40542763157894735, 0.4251644736842105, 0.31858552631578946, 0.2506578947368421, 0.4004934210526316, 0.3358552631578947]}, \"dataset_metrics\": {\"source\": {\"train\": {\"n_unique_x\": 3990, \"n_unique_y\": 19, \"n_batch/episode\": 126}, \"val\": {\"n_unique_x\": 855, \"n_unique_y\": 19, \"n_batch/episode\": 18}, \"test\": {\"n_unique_x\": 855, \"n_unique_y\": 19, \"n_batch/episode\": 18}}, \"target\": {\"train\": {\"n_unique_x\": 36400, \"n_unique_y\": 130, \"n_batch/episode\": 1129}, \"val\": {\"n_unique_x\": 7792, \"n_unique_y\": 130, \"n_batch/episode\": 160}, \"test\": {\"n_unique_x\": 7792, \"n_unique_y\": 130, \"n_batch/episode\": 160}}}}'"
      ]
     },
     "execution_count": 29,
     "metadata": {},
     "output_type": "execute_result"
    }
   ],
   "source": [
    "json.dumps(experiment)"
   ]
  }
 ],
 "metadata": {
  "celltoolbar": "Tags",
  "kernelspec": {
   "display_name": "Python 3 (ipykernel)",
   "language": "python",
   "name": "python3"
  },
  "language_info": {
   "codemirror_mode": {
    "name": "ipython",
    "version": 3
   },
   "file_extension": ".py",
   "mimetype": "text/x-python",
   "name": "python",
   "nbconvert_exporter": "python",
   "pygments_lexer": "ipython3",
   "version": "3.8.10"
  },
  "papermill": {
   "default_parameters": {},
   "duration": 61.838438,
   "end_time": "2022-03-07T08:41:10.081557",
   "environment_variables": {},
   "exception": null,
   "input_path": "/mnt/wd500GB/CSC500/csc500-main/csc500-notebooks/templates/tl_ptn_template.ipynb",
   "output_path": "trial.ipynb",
   "parameters": {
    "parameters": {
     "BEST_MODEL_PATH": "./best_model.pth",
     "NUM_LOGS_PER_EPOCH": 10,
     "criteria_for_best": "target_loss",
     "dataset_seed": 1337,
     "datasets": [
      {
       "domain_prefix": "Wisig_",
       "domains": [
        1,
        2,
        3,
        4
       ],
       "episode_transforms": [],
       "labels": [
        "1-10",
        "1-12",
        "1-14",
        "1-16",
        "1-18",
        "1-19",
        "1-8",
        "10-11",
        "10-17",
        "10-4",
        "10-7",
        "11-1",
        "11-10",
        "11-19",
        "11-20",
        "11-4",
        "11-7",
        "12-19",
        "12-20",
        "12-7",
        "13-14",
        "13-18",
        "13-19",
        "13-20",
        "13-3",
        "13-7",
        "14-10",
        "14-11",
        "14-12",
        "14-13",
        "14-14",
        "14-19",
        "14-20",
        "14-7",
        "14-8",
        "14-9",
        "15-1",
        "15-19",
        "15-6",
        "16-1",
        "16-16",
        "16-19",
        "16-20",
        "17-10",
        "17-11",
        "18-1",
        "18-10",
        "18-11",
        "18-12",
        "18-13",
        "18-14",
        "18-15",
        "18-16",
        "18-17",
        "18-19",
        "18-2",
        "18-20",
        "18-4",
        "18-5",
        "18-7",
        "18-8",
        "18-9",
        "19-1",
        "19-10",
        "19-11",
        "19-12",
        "19-13",
        "19-14",
        "19-15",
        "19-19",
        "19-2",
        "19-20",
        "19-3",
        "19-4",
        "19-6",
        "19-7",
        "19-8",
        "19-9",
        "2-1",
        "2-13",
        "2-15",
        "2-3",
        "2-4",
        "2-5",
        "2-6",
        "2-7",
        "2-8",
        "20-1",
        "20-12",
        "20-14",
        "20-15",
        "20-16",
        "20-18",
        "20-19",
        "20-20",
        "20-3",
        "20-4",
        "20-5",
        "20-7",
        "20-8",
        "3-1",
        "3-13",
        "3-18",
        "3-2",
        "3-8",
        "4-1",
        "4-10",
        "4-11",
        "5-1",
        "5-5",
        "6-1",
        "6-15",
        "6-6",
        "7-10",
        "7-11",
        "7-12",
        "7-13",
        "7-14",
        "7-7",
        "7-8",
        "7-9",
        "8-1",
        "8-13",
        "8-14",
        "8-18",
        "8-20",
        "8-3",
        "8-8",
        "9-1",
        "9-7"
       ],
       "num_examples_per_domain_per_label": 100,
       "pickle_path": "/mnt/wd500GB/CSC500/csc500-main/datasets/wisig.node3-19.stratified_ds.2022A.pkl",
       "source_or_target_dataset": "target",
       "x_transforms": []
      },
      {
       "domain_prefix": "Metehan_",
       "domains": [
        0,
        1,
        2
       ],
       "episode_transforms": [],
       "labels": [
        0,
        1,
        2,
        3,
        4,
        5,
        6,
        7,
        8,
        9,
        10,
        11,
        12,
        13,
        14,
        15,
        16,
        17,
        18
       ],
       "num_examples_per_domain_per_label": 100,
       "pickle_path": "/mnt/wd500GB/CSC500/csc500-main/datasets/metehan.stratified_ds.2022A.pkl",
       "source_or_target_dataset": "source",
       "x_transforms": []
      }
     ],
     "device": "cuda",
     "experiment_name": "tl_1_wisig-metehan",
     "lr": 0.001,
     "n_epoch": 50,
     "n_query": 2,
     "n_shot": 3,
     "n_way": 19,
     "patience": 3,
     "seed": 1337,
     "test_k_factor": 2,
     "torch_default_dtype": "torch.float32",
     "train_k_factor": 3,
     "val_k_factor": 2,
     "x_net": [
      {
       "class": "nnReshape",
       "kargs": {
        "shape": [
         -1,
         1,
         2,
         256
        ]
       }
      },
      {
       "class": "Conv2d",
       "kargs": {
        "bias": false,
        "in_channels": 1,
        "kernel_size": [
         1,
         7
        ],
        "out_channels": 256,
        "padding": [
         0,
         3
        ]
       }
      },
      {
       "class": "ReLU",
       "kargs": {
        "inplace": true
       }
      },
      {
       "class": "BatchNorm2d",
       "kargs": {
        "num_features": 256
       }
      },
      {
       "class": "Conv2d",
       "kargs": {
        "bias": true,
        "in_channels": 256,
        "kernel_size": [
         2,
         7
        ],
        "out_channels": 80,
        "padding": [
         0,
         3
        ]
       }
      },
      {
       "class": "ReLU",
       "kargs": {
        "inplace": true
       }
      },
      {
       "class": "BatchNorm2d",
       "kargs": {
        "num_features": 80
       }
      },
      {
       "class": "Flatten",
       "kargs": {}
      },
      {
       "class": "Linear",
       "kargs": {
        "in_features": 20480,
        "out_features": 256
       }
      },
      {
       "class": "ReLU",
       "kargs": {
        "inplace": true
       }
      },
      {
       "class": "BatchNorm1d",
       "kargs": {
        "num_features": 256
       }
      },
      {
       "class": "Linear",
       "kargs": {
        "in_features": 256,
        "out_features": 256
       }
      }
     ]
    }
   },
   "start_time": "2022-03-07T08:40:08.243119",
   "version": "2.3.4"
  }
 },
 "nbformat": 4,
 "nbformat_minor": 5
}