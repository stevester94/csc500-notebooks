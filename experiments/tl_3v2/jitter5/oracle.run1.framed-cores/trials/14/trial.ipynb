{
 "cells": [
  {
   "cell_type": "markdown",
   "id": "9fea5f46",
   "metadata": {
    "papermill": {
     "duration": 0.031361,
     "end_time": "2022-03-28T18:17:02.566272",
     "exception": false,
     "start_time": "2022-03-28T18:17:02.534911",
     "status": "completed"
    },
    "tags": []
   },
   "source": [
    "# Transfer Learning Template"
   ]
  },
  {
   "cell_type": "code",
   "execution_count": 1,
   "id": "0902182a",
   "metadata": {
    "execution": {
     "iopub.execute_input": "2022-03-28T18:17:02.632652Z",
     "iopub.status.busy": "2022-03-28T18:17:02.631771Z",
     "iopub.status.idle": "2022-03-28T18:17:04.620247Z",
     "shell.execute_reply": "2022-03-28T18:17:04.619326Z"
    },
    "papermill": {
     "duration": 2.029772,
     "end_time": "2022-03-28T18:17:04.620437",
     "exception": false,
     "start_time": "2022-03-28T18:17:02.590665",
     "status": "completed"
    },
    "tags": []
   },
   "outputs": [],
   "source": [
    "%load_ext autoreload\n",
    "%autoreload 2\n",
    "%matplotlib inline\n",
    "\n",
    "    \n",
    "import os, json, sys, time, random\n",
    "import numpy as np\n",
    "import torch\n",
    "from torch.optim import Adam\n",
    "from  easydict import EasyDict\n",
    "import matplotlib.pyplot as plt\n",
    "\n",
    "from steves_models.steves_ptn import Steves_Prototypical_Network\n",
    "\n",
    "from steves_utils.lazy_iterable_wrapper import Lazy_Iterable_Wrapper\n",
    "from steves_utils.iterable_aggregator import Iterable_Aggregator\n",
    "from steves_utils.ptn_train_eval_test_jig import  PTN_Train_Eval_Test_Jig\n",
    "from steves_utils.torch_sequential_builder import build_sequential\n",
    "from steves_utils.torch_utils import get_dataset_metrics, ptn_confusion_by_domain_over_dataloader\n",
    "from steves_utils.utils_v2 import (per_domain_accuracy_from_confusion, get_datasets_base_path)\n",
    "from steves_utils.PTN.utils import independent_accuracy_assesment\n",
    "\n",
    "from torch.utils.data import DataLoader\n",
    "\n",
    "from steves_utils.stratified_dataset.episodic_accessor import Episodic_Accessor_Factory\n",
    "\n",
    "from steves_utils.ptn_do_report import (\n",
    "    get_loss_curve,\n",
    "    get_results_table,\n",
    "    get_parameters_table,\n",
    "    get_domain_accuracies,\n",
    ")\n",
    "\n",
    "from steves_utils.transforms import get_chained_transform"
   ]
  },
  {
   "cell_type": "markdown",
   "id": "41c840b4",
   "metadata": {
    "papermill": {
     "duration": 0.01962,
     "end_time": "2022-03-28T18:17:04.664815",
     "exception": false,
     "start_time": "2022-03-28T18:17:04.645195",
     "status": "completed"
    },
    "tags": []
   },
   "source": [
    "# Allowed Parameters\n",
    "These are allowed parameters, not defaults\n",
    "Each of these values need to be present in the injected parameters (the notebook will raise an exception if they are not present)\n",
    "\n",
    "Papermill uses the cell tag \"parameters\" to inject the real parameters below this cell.\n",
    "Enable tags to see what I mean"
   ]
  },
  {
   "cell_type": "code",
   "execution_count": 2,
   "id": "fd44eb83",
   "metadata": {
    "execution": {
     "iopub.execute_input": "2022-03-28T18:17:04.710777Z",
     "iopub.status.busy": "2022-03-28T18:17:04.710205Z",
     "iopub.status.idle": "2022-03-28T18:17:04.732227Z",
     "shell.execute_reply": "2022-03-28T18:17:04.731411Z"
    },
    "papermill": {
     "duration": 0.04784,
     "end_time": "2022-03-28T18:17:04.732381",
     "exception": false,
     "start_time": "2022-03-28T18:17:04.684541",
     "status": "completed"
    },
    "tags": []
   },
   "outputs": [],
   "source": [
    "required_parameters = {\n",
    "    \"experiment_name\",\n",
    "    \"lr\",\n",
    "    \"device\",\n",
    "    \"seed\",\n",
    "    \"dataset_seed\",\n",
    "    \"n_shot\",\n",
    "    \"n_query\",\n",
    "    \"n_way\",\n",
    "    \"train_k_factor\",\n",
    "    \"val_k_factor\",\n",
    "    \"test_k_factor\",\n",
    "    \"n_epoch\",\n",
    "    \"patience\",\n",
    "    \"criteria_for_best\",\n",
    "    \"x_net\",\n",
    "    \"datasets\",\n",
    "    \"torch_default_dtype\",\n",
    "    \"NUM_LOGS_PER_EPOCH\",\n",
    "    \"BEST_MODEL_PATH\",\n",
    "    \"x_shape\",\n",
    "}"
   ]
  },
  {
   "cell_type": "code",
   "execution_count": 3,
   "id": "fa3f0049",
   "metadata": {
    "execution": {
     "iopub.execute_input": "2022-03-28T18:17:04.796299Z",
     "iopub.status.busy": "2022-03-28T18:17:04.795359Z",
     "iopub.status.idle": "2022-03-28T18:17:04.814850Z",
     "shell.execute_reply": "2022-03-28T18:17:04.814047Z"
    },
    "papermill": {
     "duration": 0.055309,
     "end_time": "2022-03-28T18:17:04.815004",
     "exception": false,
     "start_time": "2022-03-28T18:17:04.759695",
     "status": "completed"
    },
    "tags": [
     "parameters"
    ]
   },
   "outputs": [],
   "source": [
    "from steves_utils.CORES.utils import (\n",
    "    ALL_NODES,\n",
    "    ALL_NODES_MINIMUM_1000_EXAMPLES,\n",
    "    ALL_DAYS\n",
    ")\n",
    "\n",
    "from steves_utils.ORACLE.utils_v2 import (\n",
    "    ALL_DISTANCES_FEET_NARROWED,\n",
    "    ALL_RUNS,\n",
    "    ALL_SERIAL_NUMBERS,\n",
    ")\n",
    "\n",
    "standalone_parameters = {}\n",
    "standalone_parameters[\"experiment_name\"] = \"STANDALONE PTN\"\n",
    "standalone_parameters[\"lr\"] = 0.001\n",
    "standalone_parameters[\"device\"] = \"cuda\"\n",
    "\n",
    "standalone_parameters[\"seed\"] = 1337\n",
    "standalone_parameters[\"dataset_seed\"] = 1337\n",
    "\n",
    "standalone_parameters[\"n_way\"] = 8\n",
    "standalone_parameters[\"n_shot\"] = 3\n",
    "standalone_parameters[\"n_query\"]  = 2\n",
    "standalone_parameters[\"train_k_factor\"] = 1\n",
    "standalone_parameters[\"val_k_factor\"] = 2\n",
    "standalone_parameters[\"test_k_factor\"] = 2\n",
    "\n",
    "\n",
    "standalone_parameters[\"n_epoch\"] = 50\n",
    "\n",
    "standalone_parameters[\"patience\"] = 10\n",
    "standalone_parameters[\"criteria_for_best\"] = \"source_loss\"\n",
    "\n",
    "standalone_parameters[\"datasets\"] = [\n",
    "    {\n",
    "        \"labels\": ALL_SERIAL_NUMBERS,\n",
    "        \"domains\": ALL_DISTANCES_FEET_NARROWED,\n",
    "        \"num_examples_per_domain_per_label\": 100,\n",
    "        \"pickle_path\": os.path.join(get_datasets_base_path(), \"oracle.Run1_framed_2000Examples_stratified_ds.2022A.pkl\"),\n",
    "        \"source_or_target_dataset\": \"source\",\n",
    "        \"x_transforms\": [\"unit_mag\", \"minus_two\"],\n",
    "        \"episode_transforms\": [],\n",
    "        \"domain_prefix\": \"ORACLE_\"\n",
    "    },\n",
    "    {\n",
    "        \"labels\": ALL_NODES,\n",
    "        \"domains\": ALL_DAYS,\n",
    "        \"num_examples_per_domain_per_label\": 100,\n",
    "        \"pickle_path\": os.path.join(get_datasets_base_path(), \"cores.stratified_ds.2022A.pkl\"),\n",
    "        \"source_or_target_dataset\": \"target\",\n",
    "        \"x_transforms\": [\"unit_power\", \"times_zero\"],\n",
    "        \"episode_transforms\": [],\n",
    "        \"domain_prefix\": \"CORES_\"\n",
    "    }   \n",
    "]\n",
    "\n",
    "standalone_parameters[\"torch_default_dtype\"] = \"torch.float32\" \n",
    "\n",
    "\n",
    "\n",
    "standalone_parameters[\"x_net\"] =     [\n",
    "    {\"class\": \"nnReshape\", \"kargs\": {\"shape\":[-1, 1, 2, 256]}},\n",
    "    {\"class\": \"Conv2d\", \"kargs\": { \"in_channels\":1, \"out_channels\":256, \"kernel_size\":(1,7), \"bias\":False, \"padding\":(0,3), },},\n",
    "    {\"class\": \"ReLU\", \"kargs\": {\"inplace\": True}},\n",
    "    {\"class\": \"BatchNorm2d\", \"kargs\": {\"num_features\":256}},\n",
    "\n",
    "    {\"class\": \"Conv2d\", \"kargs\": { \"in_channels\":256, \"out_channels\":80, \"kernel_size\":(2,7), \"bias\":True, \"padding\":(0,3), },},\n",
    "    {\"class\": \"ReLU\", \"kargs\": {\"inplace\": True}},\n",
    "    {\"class\": \"BatchNorm2d\", \"kargs\": {\"num_features\":80}},\n",
    "    {\"class\": \"Flatten\", \"kargs\": {}},\n",
    "\n",
    "    {\"class\": \"Linear\", \"kargs\": {\"in_features\": 80*256, \"out_features\": 256}}, # 80 units per IQ pair\n",
    "    {\"class\": \"ReLU\", \"kargs\": {\"inplace\": True}},\n",
    "    {\"class\": \"BatchNorm1d\", \"kargs\": {\"num_features\":256}},\n",
    "\n",
    "    {\"class\": \"Linear\", \"kargs\": {\"in_features\": 256, \"out_features\": 256}},\n",
    "]\n",
    "\n",
    "# Parameters relevant to results\n",
    "# These parameters will basically never need to change\n",
    "standalone_parameters[\"NUM_LOGS_PER_EPOCH\"] = 10\n",
    "standalone_parameters[\"BEST_MODEL_PATH\"] = \"./best_model.pth\"\n",
    "\n",
    "\n",
    "\n",
    "\n"
   ]
  },
  {
   "cell_type": "code",
   "execution_count": 4,
   "id": "97c0d340",
   "metadata": {
    "execution": {
     "iopub.execute_input": "2022-03-28T18:17:04.877713Z",
     "iopub.status.busy": "2022-03-28T18:17:04.876763Z",
     "iopub.status.idle": "2022-03-28T18:17:04.895857Z",
     "shell.execute_reply": "2022-03-28T18:17:04.895037Z"
    },
    "papermill": {
     "duration": 0.053733,
     "end_time": "2022-03-28T18:17:04.896010",
     "exception": false,
     "start_time": "2022-03-28T18:17:04.842277",
     "status": "completed"
    },
    "tags": [
     "injected-parameters"
    ]
   },
   "outputs": [],
   "source": [
    "# Parameters\n",
    "parameters = {\n",
    "    \"experiment_name\": \"tl_3-jitter5v2:oracle.run1.framed -> cores\",\n",
    "    \"device\": \"cuda\",\n",
    "    \"lr\": 0.0001,\n",
    "    \"x_shape\": [2, 256],\n",
    "    \"n_shot\": 3,\n",
    "    \"n_query\": 2,\n",
    "    \"train_k_factor\": 3,\n",
    "    \"val_k_factor\": 2,\n",
    "    \"test_k_factor\": 2,\n",
    "    \"torch_default_dtype\": \"torch.float32\",\n",
    "    \"n_epoch\": 50,\n",
    "    \"patience\": 3,\n",
    "    \"criteria_for_best\": \"target_accuracy\",\n",
    "    \"x_net\": [\n",
    "        {\"class\": \"nnReshape\", \"kargs\": {\"shape\": [-1, 1, 2, 256]}},\n",
    "        {\n",
    "            \"class\": \"Conv2d\",\n",
    "            \"kargs\": {\n",
    "                \"in_channels\": 1,\n",
    "                \"out_channels\": 256,\n",
    "                \"kernel_size\": [1, 7],\n",
    "                \"bias\": False,\n",
    "                \"padding\": [0, 3],\n",
    "            },\n",
    "        },\n",
    "        {\"class\": \"ReLU\", \"kargs\": {\"inplace\": True}},\n",
    "        {\"class\": \"BatchNorm2d\", \"kargs\": {\"num_features\": 256}},\n",
    "        {\n",
    "            \"class\": \"Conv2d\",\n",
    "            \"kargs\": {\n",
    "                \"in_channels\": 256,\n",
    "                \"out_channels\": 80,\n",
    "                \"kernel_size\": [2, 7],\n",
    "                \"bias\": True,\n",
    "                \"padding\": [0, 3],\n",
    "            },\n",
    "        },\n",
    "        {\"class\": \"ReLU\", \"kargs\": {\"inplace\": True}},\n",
    "        {\"class\": \"BatchNorm2d\", \"kargs\": {\"num_features\": 80}},\n",
    "        {\"class\": \"Flatten\", \"kargs\": {}},\n",
    "        {\"class\": \"Linear\", \"kargs\": {\"in_features\": 20480, \"out_features\": 256}},\n",
    "        {\"class\": \"ReLU\", \"kargs\": {\"inplace\": True}},\n",
    "        {\"class\": \"BatchNorm1d\", \"kargs\": {\"num_features\": 256}},\n",
    "        {\"class\": \"Linear\", \"kargs\": {\"in_features\": 256, \"out_features\": 256}},\n",
    "    ],\n",
    "    \"NUM_LOGS_PER_EPOCH\": 10,\n",
    "    \"BEST_MODEL_PATH\": \"./best_model.pth\",\n",
    "    \"n_way\": 16,\n",
    "    \"datasets\": [\n",
    "        {\n",
    "            \"labels\": [\n",
    "                \"1-10.\",\n",
    "                \"1-11.\",\n",
    "                \"1-15.\",\n",
    "                \"1-16.\",\n",
    "                \"1-17.\",\n",
    "                \"1-18.\",\n",
    "                \"1-19.\",\n",
    "                \"10-4.\",\n",
    "                \"10-7.\",\n",
    "                \"11-1.\",\n",
    "                \"11-14.\",\n",
    "                \"11-17.\",\n",
    "                \"11-20.\",\n",
    "                \"11-7.\",\n",
    "                \"13-20.\",\n",
    "                \"13-8.\",\n",
    "                \"14-10.\",\n",
    "                \"14-11.\",\n",
    "                \"14-14.\",\n",
    "                \"14-7.\",\n",
    "                \"15-1.\",\n",
    "                \"15-20.\",\n",
    "                \"16-1.\",\n",
    "                \"16-16.\",\n",
    "                \"17-10.\",\n",
    "                \"17-11.\",\n",
    "                \"17-2.\",\n",
    "                \"19-1.\",\n",
    "                \"19-16.\",\n",
    "                \"19-19.\",\n",
    "                \"19-20.\",\n",
    "                \"19-3.\",\n",
    "                \"2-10.\",\n",
    "                \"2-11.\",\n",
    "                \"2-17.\",\n",
    "                \"2-18.\",\n",
    "                \"2-20.\",\n",
    "                \"2-3.\",\n",
    "                \"2-4.\",\n",
    "                \"2-5.\",\n",
    "                \"2-6.\",\n",
    "                \"2-7.\",\n",
    "                \"2-8.\",\n",
    "                \"3-13.\",\n",
    "                \"3-18.\",\n",
    "                \"3-3.\",\n",
    "                \"4-1.\",\n",
    "                \"4-10.\",\n",
    "                \"4-11.\",\n",
    "                \"4-19.\",\n",
    "                \"5-5.\",\n",
    "                \"6-15.\",\n",
    "                \"7-10.\",\n",
    "                \"7-14.\",\n",
    "                \"8-18.\",\n",
    "                \"8-20.\",\n",
    "                \"8-3.\",\n",
    "                \"8-8.\",\n",
    "            ],\n",
    "            \"domains\": [1, 2, 3, 4, 5],\n",
    "            \"num_examples_per_domain_per_label\": -1,\n",
    "            \"pickle_path\": \"/root/csc500-main/datasets/cores.stratified_ds.2022A.pkl\",\n",
    "            \"source_or_target_dataset\": \"target\",\n",
    "            \"x_transforms\": [\"jitter_256_5\", \"lowpass_+/-10MHz\", \"take_200\"],\n",
    "            \"episode_transforms\": [],\n",
    "            \"domain_prefix\": \"C_\",\n",
    "        },\n",
    "        {\n",
    "            \"labels\": [\n",
    "                \"3123D52\",\n",
    "                \"3123D65\",\n",
    "                \"3123D79\",\n",
    "                \"3123D80\",\n",
    "                \"3123D54\",\n",
    "                \"3123D70\",\n",
    "                \"3123D7B\",\n",
    "                \"3123D89\",\n",
    "                \"3123D58\",\n",
    "                \"3123D76\",\n",
    "                \"3123D7D\",\n",
    "                \"3123EFE\",\n",
    "                \"3123D64\",\n",
    "                \"3123D78\",\n",
    "                \"3123D7E\",\n",
    "                \"3124E4A\",\n",
    "            ],\n",
    "            \"domains\": [32, 38, 8, 44, 14, 50, 20, 26],\n",
    "            \"num_examples_per_domain_per_label\": 2000,\n",
    "            \"pickle_path\": \"/root/csc500-main/datasets/oracle.Run1_framed_2000Examples_stratified_ds.2022A.pkl\",\n",
    "            \"source_or_target_dataset\": \"source\",\n",
    "            \"x_transforms\": [\"jitter_256_5\", \"take_200\", \"resample_20Msps_to_25Msps\"],\n",
    "            \"episode_transforms\": [],\n",
    "            \"domain_prefix\": \"O_\",\n",
    "        },\n",
    "    ],\n",
    "    \"seed\": 500,\n",
    "    \"dataset_seed\": 500,\n",
    "}\n"
   ]
  },
  {
   "cell_type": "code",
   "execution_count": 5,
   "id": "8fa1cc33",
   "metadata": {
    "execution": {
     "iopub.execute_input": "2022-03-28T18:17:04.952959Z",
     "iopub.status.busy": "2022-03-28T18:17:04.952586Z",
     "iopub.status.idle": "2022-03-28T18:17:04.970143Z",
     "shell.execute_reply": "2022-03-28T18:17:04.969344Z"
    },
    "papermill": {
     "duration": 0.046433,
     "end_time": "2022-03-28T18:17:04.970295",
     "exception": false,
     "start_time": "2022-03-28T18:17:04.923862",
     "status": "completed"
    },
    "tags": []
   },
   "outputs": [],
   "source": [
    "# Set this to True if you want to run this template directly\n",
    "STANDALONE = False\n",
    "if STANDALONE:\n",
    "    print(\"parameters not injected, running with standalone_parameters\")\n",
    "    parameters = standalone_parameters\n",
    "\n",
    "if not 'parameters' in locals() and not 'parameters' in globals():\n",
    "    raise Exception(\"Parameter injection failed\")\n",
    "\n",
    "#Use an easy dict for all the parameters\n",
    "p = EasyDict(parameters)\n",
    "\n",
    "if \"x_shape\" not in p:\n",
    "    p.x_shape = [2,256] # Default to this if we dont supply x_shape\n",
    "\n",
    "\n",
    "supplied_keys = set(p.keys())\n",
    "\n",
    "if  supplied_keys != required_parameters:\n",
    "    print(\"Parameters are incorrect\")\n",
    "    if len(supplied_keys - required_parameters)>0: print(\"Shouldn't have:\", str(supplied_keys - required_parameters))\n",
    "    if len(required_parameters - supplied_keys)>0: print(\"Need to have:\", str(required_parameters - supplied_keys))\n",
    "    raise RuntimeError(\"Parameters are incorrect\")"
   ]
  },
  {
   "cell_type": "code",
   "execution_count": 6,
   "id": "3a028d58",
   "metadata": {
    "execution": {
     "iopub.execute_input": "2022-03-28T18:17:05.023270Z",
     "iopub.status.busy": "2022-03-28T18:17:05.020745Z",
     "iopub.status.idle": "2022-03-28T18:17:05.047665Z",
     "shell.execute_reply": "2022-03-28T18:17:05.047007Z"
    },
    "papermill": {
     "duration": 0.051765,
     "end_time": "2022-03-28T18:17:05.047743",
     "exception": false,
     "start_time": "2022-03-28T18:17:04.995978",
     "status": "completed"
    },
    "tags": []
   },
   "outputs": [],
   "source": [
    "###################################\n",
    "# Set the RNGs and make it all deterministic\n",
    "###################################\n",
    "np.random.seed(p.seed)\n",
    "random.seed(p.seed)\n",
    "torch.manual_seed(p.seed)\n",
    "\n",
    "torch.use_deterministic_algorithms(True) "
   ]
  },
  {
   "cell_type": "code",
   "execution_count": 7,
   "id": "b691acf6",
   "metadata": {
    "execution": {
     "iopub.execute_input": "2022-03-28T18:17:05.095272Z",
     "iopub.status.busy": "2022-03-28T18:17:05.094901Z",
     "iopub.status.idle": "2022-03-28T18:17:05.122846Z",
     "shell.execute_reply": "2022-03-28T18:17:05.122026Z"
    },
    "papermill": {
     "duration": 0.052842,
     "end_time": "2022-03-28T18:17:05.123011",
     "exception": false,
     "start_time": "2022-03-28T18:17:05.070169",
     "status": "completed"
    },
    "tags": []
   },
   "outputs": [],
   "source": [
    "###########################################\n",
    "# The stratified datasets honor this\n",
    "###########################################\n",
    "torch.set_default_dtype(eval(p.torch_default_dtype))"
   ]
  },
  {
   "cell_type": "code",
   "execution_count": 8,
   "id": "b5fba671",
   "metadata": {
    "execution": {
     "iopub.execute_input": "2022-03-28T18:17:05.175739Z",
     "iopub.status.busy": "2022-03-28T18:17:05.175347Z",
     "iopub.status.idle": "2022-03-28T18:17:05.235099Z",
     "shell.execute_reply": "2022-03-28T18:17:05.235753Z"
    },
    "papermill": {
     "duration": 0.084872,
     "end_time": "2022-03-28T18:17:05.235942",
     "exception": false,
     "start_time": "2022-03-28T18:17:05.151070",
     "status": "completed"
    },
    "tags": []
   },
   "outputs": [],
   "source": [
    "###################################\n",
    "# Build the network(s)\n",
    "# Note: It's critical to do this AFTER setting the RNG\n",
    "###################################\n",
    "x_net = build_sequential(p.x_net)"
   ]
  },
  {
   "cell_type": "code",
   "execution_count": 9,
   "id": "5d7e61cc",
   "metadata": {
    "execution": {
     "iopub.execute_input": "2022-03-28T18:17:05.286093Z",
     "iopub.status.busy": "2022-03-28T18:17:05.285733Z",
     "iopub.status.idle": "2022-03-28T18:17:05.311316Z",
     "shell.execute_reply": "2022-03-28T18:17:05.312003Z"
    },
    "papermill": {
     "duration": 0.050844,
     "end_time": "2022-03-28T18:17:05.312183",
     "exception": false,
     "start_time": "2022-03-28T18:17:05.261339",
     "status": "completed"
    },
    "tags": []
   },
   "outputs": [],
   "source": [
    "start_time_secs = time.time()"
   ]
  },
  {
   "cell_type": "code",
   "execution_count": 10,
   "id": "c6b67dfd",
   "metadata": {
    "execution": {
     "iopub.execute_input": "2022-03-28T18:17:05.367443Z",
     "iopub.status.busy": "2022-03-28T18:17:05.366890Z",
     "iopub.status.idle": "2022-03-28T18:17:05.392384Z",
     "shell.execute_reply": "2022-03-28T18:17:05.393050Z"
    },
    "papermill": {
     "duration": 0.051698,
     "end_time": "2022-03-28T18:17:05.393230",
     "exception": false,
     "start_time": "2022-03-28T18:17:05.341532",
     "status": "completed"
    },
    "tags": []
   },
   "outputs": [],
   "source": [
    "p.domains_source = []\n",
    "p.domains_target = []\n",
    "\n",
    "\n",
    "train_original_source = []\n",
    "val_original_source   = []\n",
    "test_original_source  = []\n",
    "\n",
    "train_original_target = []\n",
    "val_original_target   = []\n",
    "test_original_target  = []"
   ]
  },
  {
   "cell_type": "code",
   "execution_count": 11,
   "id": "e3d9c3d3",
   "metadata": {
    "execution": {
     "iopub.execute_input": "2022-03-28T18:17:05.445272Z",
     "iopub.status.busy": "2022-03-28T18:17:05.444722Z",
     "iopub.status.idle": "2022-03-28T18:17:05.471493Z",
     "shell.execute_reply": "2022-03-28T18:17:05.470690Z"
    },
    "papermill": {
     "duration": 0.051316,
     "end_time": "2022-03-28T18:17:05.471665",
     "exception": false,
     "start_time": "2022-03-28T18:17:05.420349",
     "status": "completed"
    },
    "tags": []
   },
   "outputs": [],
   "source": [
    "# global_x_transform_func = lambda x: normalize(x.to(torch.get_default_dtype()), \"unit_power\") # unit_power, unit_mag\n",
    "# global_x_transform_func = lambda x: normalize(x, \"unit_power\") # unit_power, unit_mag"
   ]
  },
  {
   "cell_type": "code",
   "execution_count": 12,
   "id": "acb78fd2",
   "metadata": {
    "execution": {
     "iopub.execute_input": "2022-03-28T18:17:05.534742Z",
     "iopub.status.busy": "2022-03-28T18:17:05.530485Z",
     "iopub.status.idle": "2022-03-28T18:17:05.560011Z",
     "shell.execute_reply": "2022-03-28T18:17:05.559288Z"
    },
    "papermill": {
     "duration": 0.05864,
     "end_time": "2022-03-28T18:17:05.560167",
     "exception": false,
     "start_time": "2022-03-28T18:17:05.501527",
     "status": "completed"
    },
    "tags": []
   },
   "outputs": [],
   "source": [
    "def add_dataset(\n",
    "    labels,\n",
    "    domains,\n",
    "    pickle_path,\n",
    "    x_transforms,\n",
    "    episode_transforms,\n",
    "    domain_prefix,\n",
    "    num_examples_per_domain_per_label,\n",
    "    source_or_target_dataset:str,\n",
    "    iterator_seed=p.seed,\n",
    "    dataset_seed=p.dataset_seed,\n",
    "    n_shot=p.n_shot,\n",
    "    n_way=p.n_way,\n",
    "    n_query=p.n_query,\n",
    "    train_val_test_k_factors=(p.train_k_factor,p.val_k_factor,p.test_k_factor),\n",
    "):\n",
    "   \n",
    "    if x_transforms == []: x_transform = None\n",
    "    else: x_transform = get_chained_transform(x_transforms)\n",
    "    \n",
    "    if episode_transforms == []: episode_transform = None\n",
    "    else: raise Exception(\"episode_transforms not implemented\")\n",
    "    \n",
    "    episode_transform = lambda tup, _prefix=domain_prefix: (_prefix + str(tup[0]), tup[1])\n",
    "\n",
    "\n",
    "    eaf = Episodic_Accessor_Factory(\n",
    "        labels=labels,\n",
    "        domains=domains,\n",
    "        num_examples_per_domain_per_label=num_examples_per_domain_per_label,\n",
    "        iterator_seed=iterator_seed,\n",
    "        dataset_seed=dataset_seed,\n",
    "        n_shot=n_shot,\n",
    "        n_way=n_way,\n",
    "        n_query=n_query,\n",
    "        train_val_test_k_factors=train_val_test_k_factors,\n",
    "        pickle_path=pickle_path,\n",
    "        x_transform_func=x_transform,\n",
    "    )\n",
    "\n",
    "    train, val, test = eaf.get_train(), eaf.get_val(), eaf.get_test()\n",
    "    train = Lazy_Iterable_Wrapper(train, episode_transform)\n",
    "    val = Lazy_Iterable_Wrapper(val, episode_transform)\n",
    "    test = Lazy_Iterable_Wrapper(test, episode_transform)\n",
    "\n",
    "    if source_or_target_dataset==\"source\":\n",
    "        train_original_source.append(train)\n",
    "        val_original_source.append(val)\n",
    "        test_original_source.append(test)\n",
    "\n",
    "        p.domains_source.extend(\n",
    "            [domain_prefix + str(u) for u in domains]\n",
    "        )\n",
    "    elif source_or_target_dataset==\"target\":\n",
    "        train_original_target.append(train)\n",
    "        val_original_target.append(val)\n",
    "        test_original_target.append(test)\n",
    "        p.domains_target.extend(\n",
    "            [domain_prefix + str(u) for u in domains]\n",
    "        )\n",
    "    else:\n",
    "        raise Exception(f\"invalid source_or_target_dataset: {source_or_target_dataset}\")\n",
    "    "
   ]
  },
  {
   "cell_type": "code",
   "execution_count": 13,
   "id": "fe266617",
   "metadata": {
    "execution": {
     "iopub.execute_input": "2022-03-28T18:17:05.611631Z",
     "iopub.status.busy": "2022-03-28T18:17:05.611256Z",
     "iopub.status.idle": "2022-03-28T18:18:10.720542Z",
     "shell.execute_reply": "2022-03-28T18:18:10.719993Z"
    },
    "papermill": {
     "duration": 65.134534,
     "end_time": "2022-03-28T18:18:10.720719",
     "exception": false,
     "start_time": "2022-03-28T18:17:05.586185",
     "status": "completed"
    },
    "tags": []
   },
   "outputs": [],
   "source": [
    "for ds in p.datasets:\n",
    "    add_dataset(**ds)"
   ]
  },
  {
   "cell_type": "code",
   "execution_count": 14,
   "id": "b90d65ac",
   "metadata": {
    "execution": {
     "iopub.execute_input": "2022-03-28T18:18:10.771424Z",
     "iopub.status.busy": "2022-03-28T18:18:10.771044Z",
     "iopub.status.idle": "2022-03-28T18:18:10.796462Z",
     "shell.execute_reply": "2022-03-28T18:18:10.797106Z"
    },
    "papermill": {
     "duration": 0.05031,
     "end_time": "2022-03-28T18:18:10.797315",
     "exception": false,
     "start_time": "2022-03-28T18:18:10.747005",
     "status": "completed"
    },
    "tags": []
   },
   "outputs": [],
   "source": [
    "# from steves_utils.CORES.utils import (\n",
    "#     ALL_NODES,\n",
    "#     ALL_NODES_MINIMUM_1000_EXAMPLES,\n",
    "#     ALL_DAYS\n",
    "# )\n",
    "\n",
    "# add_dataset(\n",
    "#     labels=ALL_NODES,\n",
    "#     domains = ALL_DAYS,\n",
    "#     num_examples_per_domain_per_label=100,\n",
    "#     pickle_path=os.path.join(get_datasets_base_path(), \"cores.stratified_ds.2022A.pkl\"),\n",
    "#     source_or_target_dataset=\"target\",\n",
    "#     x_transform_func=global_x_transform_func,\n",
    "#     domain_modifier=lambda u: f\"cores_{u}\"\n",
    "# )"
   ]
  },
  {
   "cell_type": "code",
   "execution_count": 15,
   "id": "76db484d",
   "metadata": {
    "execution": {
     "iopub.execute_input": "2022-03-28T18:18:10.847382Z",
     "iopub.status.busy": "2022-03-28T18:18:10.847009Z",
     "iopub.status.idle": "2022-03-28T18:18:10.867077Z",
     "shell.execute_reply": "2022-03-28T18:18:10.866359Z"
    },
    "papermill": {
     "duration": 0.043183,
     "end_time": "2022-03-28T18:18:10.867242",
     "exception": false,
     "start_time": "2022-03-28T18:18:10.824059",
     "status": "completed"
    },
    "tags": []
   },
   "outputs": [],
   "source": [
    "# from steves_utils.ORACLE.utils_v2 import (\n",
    "#     ALL_DISTANCES_FEET,\n",
    "#     ALL_RUNS,\n",
    "#     ALL_SERIAL_NUMBERS,\n",
    "# )\n",
    "\n",
    "\n",
    "# add_dataset(\n",
    "#     labels=ALL_SERIAL_NUMBERS,\n",
    "#     domains = list(set(ALL_DISTANCES_FEET) - {2,62}),\n",
    "#     num_examples_per_domain_per_label=100,\n",
    "#     pickle_path=os.path.join(get_datasets_base_path(), \"oracle.Run2_framed_2000Examples_stratified_ds.2022A.pkl\"),\n",
    "#     source_or_target_dataset=\"source\",\n",
    "#     x_transform_func=global_x_transform_func,\n",
    "#     domain_modifier=lambda u: f\"oracle1_{u}\"\n",
    "# )\n"
   ]
  },
  {
   "cell_type": "code",
   "execution_count": 16,
   "id": "97dea9d2",
   "metadata": {
    "execution": {
     "iopub.execute_input": "2022-03-28T18:18:10.919340Z",
     "iopub.status.busy": "2022-03-28T18:18:10.918971Z",
     "iopub.status.idle": "2022-03-28T18:18:10.939204Z",
     "shell.execute_reply": "2022-03-28T18:18:10.938410Z"
    },
    "papermill": {
     "duration": 0.043572,
     "end_time": "2022-03-28T18:18:10.939375",
     "exception": false,
     "start_time": "2022-03-28T18:18:10.895803",
     "status": "completed"
    },
    "tags": []
   },
   "outputs": [],
   "source": [
    "# from steves_utils.ORACLE.utils_v2 import (\n",
    "#     ALL_DISTANCES_FEET,\n",
    "#     ALL_RUNS,\n",
    "#     ALL_SERIAL_NUMBERS,\n",
    "# )\n",
    "\n",
    "\n",
    "# add_dataset(\n",
    "#     labels=ALL_SERIAL_NUMBERS,\n",
    "#     domains = list(set(ALL_DISTANCES_FEET) - {2,62,56}),\n",
    "#     num_examples_per_domain_per_label=100,\n",
    "#     pickle_path=os.path.join(get_datasets_base_path(), \"oracle.Run2_framed_2000Examples_stratified_ds.2022A.pkl\"),\n",
    "#     source_or_target_dataset=\"source\",\n",
    "#     x_transform_func=global_x_transform_func,\n",
    "#     domain_modifier=lambda u: f\"oracle2_{u}\"\n",
    "# )"
   ]
  },
  {
   "cell_type": "code",
   "execution_count": 17,
   "id": "6f289866",
   "metadata": {
    "execution": {
     "iopub.execute_input": "2022-03-28T18:18:10.991430Z",
     "iopub.status.busy": "2022-03-28T18:18:10.991054Z",
     "iopub.status.idle": "2022-03-28T18:18:11.012996Z",
     "shell.execute_reply": "2022-03-28T18:18:11.012230Z"
    },
    "papermill": {
     "duration": 0.045788,
     "end_time": "2022-03-28T18:18:11.013166",
     "exception": false,
     "start_time": "2022-03-28T18:18:10.967378",
     "status": "completed"
    },
    "tags": []
   },
   "outputs": [],
   "source": [
    "# add_dataset(\n",
    "#     labels=list(range(19)),\n",
    "#     domains = [0,1,2],\n",
    "#     num_examples_per_domain_per_label=100,\n",
    "#     pickle_path=os.path.join(get_datasets_base_path(), \"metehan.stratified_ds.2022A.pkl\"),\n",
    "#     source_or_target_dataset=\"target\",\n",
    "#     x_transform_func=global_x_transform_func,\n",
    "#     domain_modifier=lambda u: f\"met_{u}\"\n",
    "# )"
   ]
  },
  {
   "cell_type": "code",
   "execution_count": 18,
   "id": "86a863c3",
   "metadata": {
    "execution": {
     "iopub.execute_input": "2022-03-28T18:18:11.064228Z",
     "iopub.status.busy": "2022-03-28T18:18:11.063853Z",
     "iopub.status.idle": "2022-03-28T18:18:11.080367Z",
     "shell.execute_reply": "2022-03-28T18:18:11.079876Z"
    },
    "papermill": {
     "duration": 0.03963,
     "end_time": "2022-03-28T18:18:11.080505",
     "exception": false,
     "start_time": "2022-03-28T18:18:11.040875",
     "status": "completed"
    },
    "tags": []
   },
   "outputs": [],
   "source": [
    "# # from steves_utils.wisig.utils import (\n",
    "# #     ALL_NODES_MINIMUM_100_EXAMPLES,\n",
    "# #     ALL_NODES_MINIMUM_500_EXAMPLES,\n",
    "# #     ALL_NODES_MINIMUM_1000_EXAMPLES,\n",
    "# #     ALL_DAYS\n",
    "# # )\n",
    "\n",
    "# import steves_utils.wisig.utils as wisig\n",
    "\n",
    "\n",
    "# add_dataset(\n",
    "#     labels=wisig.ALL_NODES_MINIMUM_100_EXAMPLES,\n",
    "#     domains = wisig.ALL_DAYS,\n",
    "#     num_examples_per_domain_per_label=100,\n",
    "#     pickle_path=os.path.join(get_datasets_base_path(), \"wisig.node3-19.stratified_ds.2022A.pkl\"),\n",
    "#     source_or_target_dataset=\"target\",\n",
    "#     x_transform_func=global_x_transform_func,\n",
    "#     domain_modifier=lambda u: f\"wisig_{u}\"\n",
    "# )"
   ]
  },
  {
   "cell_type": "code",
   "execution_count": 19,
   "id": "fd5442bc",
   "metadata": {
    "execution": {
     "iopub.execute_input": "2022-03-28T18:18:11.132798Z",
     "iopub.status.busy": "2022-03-28T18:18:11.132221Z",
     "iopub.status.idle": "2022-03-28T18:18:11.153732Z",
     "shell.execute_reply": "2022-03-28T18:18:11.154394Z"
    },
    "papermill": {
     "duration": 0.049118,
     "end_time": "2022-03-28T18:18:11.154587",
     "exception": false,
     "start_time": "2022-03-28T18:18:11.105469",
     "status": "completed"
    },
    "tags": []
   },
   "outputs": [],
   "source": [
    "###################################\n",
    "# Build the dataset\n",
    "###################################\n",
    "train_original_source = Iterable_Aggregator(train_original_source, p.seed)\n",
    "val_original_source = Iterable_Aggregator(val_original_source, p.seed)\n",
    "test_original_source = Iterable_Aggregator(test_original_source, p.seed)\n",
    "\n",
    "\n",
    "train_original_target = Iterable_Aggregator(train_original_target, p.seed)\n",
    "val_original_target = Iterable_Aggregator(val_original_target, p.seed)\n",
    "test_original_target = Iterable_Aggregator(test_original_target, p.seed)\n",
    "\n",
    "# For CNN We only use X and Y. And we only train on the source.\n",
    "# Properly form the data using a transform lambda and Lazy_Iterable_Wrapper. Finally wrap them in a dataloader\n",
    "\n",
    "transform_lambda = lambda ex: ex[1] # Original is (<domain>, <episode>) so we strip down to episode only\n",
    "\n",
    "train_processed_source = Lazy_Iterable_Wrapper(train_original_source, transform_lambda)\n",
    "val_processed_source   = Lazy_Iterable_Wrapper(val_original_source, transform_lambda)\n",
    "test_processed_source  = Lazy_Iterable_Wrapper(test_original_source, transform_lambda)\n",
    "\n",
    "train_processed_target = Lazy_Iterable_Wrapper(train_original_target, transform_lambda)\n",
    "val_processed_target   = Lazy_Iterable_Wrapper(val_original_target, transform_lambda)\n",
    "test_processed_target  = Lazy_Iterable_Wrapper(test_original_target, transform_lambda)\n",
    "\n",
    "datasets = EasyDict({\n",
    "    \"source\": {\n",
    "        \"original\": {\"train\":train_original_source, \"val\":val_original_source, \"test\":test_original_source},\n",
    "        \"processed\": {\"train\":train_processed_source, \"val\":val_processed_source, \"test\":test_processed_source}\n",
    "    },\n",
    "    \"target\": {\n",
    "        \"original\": {\"train\":train_original_target, \"val\":val_original_target, \"test\":test_original_target},\n",
    "        \"processed\": {\"train\":train_processed_target, \"val\":val_processed_target, \"test\":test_processed_target}\n",
    "    },\n",
    "})"
   ]
  },
  {
   "cell_type": "code",
   "execution_count": 20,
   "id": "5b3c01fc",
   "metadata": {
    "execution": {
     "iopub.execute_input": "2022-03-28T18:18:11.210203Z",
     "iopub.status.busy": "2022-03-28T18:18:11.209646Z",
     "iopub.status.idle": "2022-03-28T18:18:25.824250Z",
     "shell.execute_reply": "2022-03-28T18:18:25.825047Z"
    },
    "papermill": {
     "duration": 14.641552,
     "end_time": "2022-03-28T18:18:25.825266",
     "exception": false,
     "start_time": "2022-03-28T18:18:11.183714",
     "status": "completed"
    },
    "tags": []
   },
   "outputs": [
    {
     "name": "stdout",
     "output_type": "stream",
     "text": [
      "{'O_44', 'O_32', 'O_14', 'O_50', 'O_20', 'O_26', 'O_38', 'O_8'}\n"
     ]
    },
    {
     "name": "stdout",
     "output_type": "stream",
     "text": [
      "{'C_4', 'C_3', 'C_5', 'C_2', 'C_1'}\n"
     ]
    },
    {
     "name": "stdout",
     "output_type": "stream",
     "text": [
      "tensor([[[0., 0., 0.,  ..., 0., 0., 0.],\n",
      "         [0., 0., 0.,  ..., 0., 0., 0.]],\n",
      "\n",
      "        [[0., 0., 0.,  ..., 0., 0., 0.],\n",
      "         [0., 0., 0.,  ..., 0., 0., 0.]],\n",
      "\n",
      "        [[0., 0., 0.,  ..., 0., 0., 0.],\n",
      "         [0., 0., 0.,  ..., 0., 0., 0.]],\n",
      "\n",
      "        ...,\n",
      "\n",
      "        [[0., 0., 0.,  ..., 0., 0., 0.],\n",
      "         [0., 0., 0.,  ..., 0., 0., 0.]],\n",
      "\n",
      "        [[0., 0., 0.,  ..., 0., 0., 0.],\n",
      "         [0., 0., 0.,  ..., 0., 0., 0.]],\n",
      "\n",
      "        [[0., 0., 0.,  ..., 0., 0., 0.],\n",
      "         [0., 0., 0.,  ..., 0., 0., 0.]]])\n"
     ]
    }
   ],
   "source": [
    "from steves_utils.transforms import get_average_magnitude, get_average_power\n",
    "\n",
    "print(set([u for u,_ in val_original_source]))\n",
    "print(set([u for u,_ in val_original_target]))\n",
    "\n",
    "s_x, s_y, q_x, q_y, _ = next(iter(train_processed_source))\n",
    "print(s_x)\n",
    "\n",
    "# for ds in [\n",
    "#     train_processed_source,\n",
    "#     val_processed_source,\n",
    "#     test_processed_source,\n",
    "#     train_processed_target,\n",
    "#     val_processed_target,\n",
    "#     test_processed_target\n",
    "# ]:\n",
    "#     for s_x, s_y, q_x, q_y, _ in ds:\n",
    "#         for X in (s_x, q_x):\n",
    "#             for x in X:\n",
    "#                 assert np.isclose(get_average_magnitude(x.numpy()), 1.0)\n",
    "#                 assert np.isclose(get_average_power(x.numpy()), 1.0)\n",
    "                "
   ]
  },
  {
   "cell_type": "code",
   "execution_count": 21,
   "id": "bbdacba1",
   "metadata": {
    "execution": {
     "iopub.execute_input": "2022-03-28T18:18:25.883806Z",
     "iopub.status.busy": "2022-03-28T18:18:25.883412Z",
     "iopub.status.idle": "2022-03-28T18:18:26.083905Z",
     "shell.execute_reply": "2022-03-28T18:18:26.084240Z"
    },
    "papermill": {
     "duration": 0.230132,
     "end_time": "2022-03-28T18:18:26.084405",
     "exception": false,
     "start_time": "2022-03-28T18:18:25.854273",
     "status": "completed"
    },
    "tags": []
   },
   "outputs": [
    {
     "name": "stdout",
     "output_type": "stream",
     "text": [
      "(2, 256)\n"
     ]
    }
   ],
   "source": [
    "###################################\n",
    "# Build the model\n",
    "###################################\n",
    "# easfsl only wants a tuple for the shape\n",
    "model = Steves_Prototypical_Network(x_net, device=p.device, x_shape=tuple(p.x_shape))\n",
    "optimizer = Adam(params=model.parameters(), lr=p.lr)"
   ]
  },
  {
   "cell_type": "code",
   "execution_count": 22,
   "id": "22b39ac5",
   "metadata": {
    "execution": {
     "iopub.execute_input": "2022-03-28T18:18:26.135682Z",
     "iopub.status.busy": "2022-03-28T18:18:26.135289Z",
     "iopub.status.idle": "2022-03-28T18:31:05.539955Z",
     "shell.execute_reply": "2022-03-28T18:31:05.539084Z"
    },
    "papermill": {
     "duration": 759.431705,
     "end_time": "2022-03-28T18:31:05.540129",
     "exception": false,
     "start_time": "2022-03-28T18:18:26.108424",
     "status": "completed"
    },
    "tags": []
   },
   "outputs": [
    {
     "name": "stdout",
     "output_type": "stream",
     "text": [
      "epoch: 1, [batch: 1 / 6720], examples_per_second: 31.5731, train_label_loss: 2.7492, \n"
     ]
    },
    {
     "name": "stdout",
     "output_type": "stream",
     "text": [
      "epoch: 1, [batch: 672 / 6720], examples_per_second: 4626.2571, train_label_loss: 1.1360, \n"
     ]
    },
    {
     "name": "stdout",
     "output_type": "stream",
     "text": [
      "epoch: 1, [batch: 1344 / 6720], examples_per_second: 5063.6919, train_label_loss: 0.9236, \n"
     ]
    },
    {
     "name": "stdout",
     "output_type": "stream",
     "text": [
      "epoch: 1, [batch: 2016 / 6720], examples_per_second: 5204.9162, train_label_loss: 0.7306, \n"
     ]
    },
    {
     "name": "stdout",
     "output_type": "stream",
     "text": [
      "epoch: 1, [batch: 2688 / 6720], examples_per_second: 5104.9479, train_label_loss: 1.1018, \n"
     ]
    },
    {
     "name": "stdout",
     "output_type": "stream",
     "text": [
      "epoch: 1, [batch: 3360 / 6720], examples_per_second: 5163.6849, train_label_loss: 0.7009, \n"
     ]
    },
    {
     "name": "stdout",
     "output_type": "stream",
     "text": [
      "epoch: 1, [batch: 4032 / 6720], examples_per_second: 5242.3455, train_label_loss: 0.4696, \n"
     ]
    },
    {
     "name": "stdout",
     "output_type": "stream",
     "text": [
      "epoch: 1, [batch: 4704 / 6720], examples_per_second: 4997.0276, train_label_loss: 0.7889, \n"
     ]
    },
    {
     "name": "stdout",
     "output_type": "stream",
     "text": [
      "epoch: 1, [batch: 5376 / 6720], examples_per_second: 5013.7206, train_label_loss: 0.6155, \n"
     ]
    },
    {
     "name": "stdout",
     "output_type": "stream",
     "text": [
      "epoch: 1, [batch: 6048 / 6720], examples_per_second: 5075.9511, train_label_loss: 0.4061, \n"
     ]
    },
    {
     "name": "stdout",
     "output_type": "stream",
     "text": [
      "=============================================================\n",
      "epoch: 1, source_val_acc_label: 0.5382, target_val_acc_label: 0.4718, source_val_label_loss: 105.7175, target_val_label_loss: 1333.3228, \n",
      "=============================================================\n"
     ]
    },
    {
     "name": "stdout",
     "output_type": "stream",
     "text": [
      "New best\n"
     ]
    },
    {
     "name": "stdout",
     "output_type": "stream",
     "text": [
      "epoch: 2, [batch: 1 / 6720], examples_per_second: 5.1653, train_label_loss: 0.5555, \n"
     ]
    },
    {
     "name": "stdout",
     "output_type": "stream",
     "text": [
      "epoch: 2, [batch: 672 / 6720], examples_per_second: 4742.0466, train_label_loss: 1.0347, \n"
     ]
    },
    {
     "name": "stdout",
     "output_type": "stream",
     "text": [
      "epoch: 2, [batch: 1344 / 6720], examples_per_second: 4954.8959, train_label_loss: 0.7157, \n"
     ]
    },
    {
     "name": "stdout",
     "output_type": "stream",
     "text": [
      "epoch: 2, [batch: 2016 / 6720], examples_per_second: 5142.9439, train_label_loss: 0.3963, \n"
     ]
    },
    {
     "name": "stdout",
     "output_type": "stream",
     "text": [
      "epoch: 2, [batch: 2688 / 6720], examples_per_second: 4937.4553, train_label_loss: 0.2309, \n"
     ]
    },
    {
     "name": "stdout",
     "output_type": "stream",
     "text": [
      "epoch: 2, [batch: 3360 / 6720], examples_per_second: 5160.8170, train_label_loss: 0.3573, \n"
     ]
    },
    {
     "name": "stdout",
     "output_type": "stream",
     "text": [
      "epoch: 2, [batch: 4032 / 6720], examples_per_second: 5277.2205, train_label_loss: 0.8048, \n"
     ]
    },
    {
     "name": "stdout",
     "output_type": "stream",
     "text": [
      "epoch: 2, [batch: 4704 / 6720], examples_per_second: 5269.1556, train_label_loss: 0.7395, \n"
     ]
    },
    {
     "name": "stdout",
     "output_type": "stream",
     "text": [
      "epoch: 2, [batch: 5376 / 6720], examples_per_second: 5067.7084, train_label_loss: 0.4763, \n"
     ]
    },
    {
     "name": "stdout",
     "output_type": "stream",
     "text": [
      "epoch: 2, [batch: 6048 / 6720], examples_per_second: 4855.3510, train_label_loss: 0.2446, \n"
     ]
    },
    {
     "name": "stdout",
     "output_type": "stream",
     "text": [
      "=============================================================\n",
      "epoch: 2, source_val_acc_label: 0.8410, target_val_acc_label: 0.7852, source_val_label_loss: 0.4406, target_val_label_loss: 227.0982, \n",
      "=============================================================\n"
     ]
    },
    {
     "name": "stdout",
     "output_type": "stream",
     "text": [
      "New best\n"
     ]
    },
    {
     "name": "stdout",
     "output_type": "stream",
     "text": [
      "epoch: 3, [batch: 1 / 6720], examples_per_second: 5.1790, train_label_loss: 0.7521, \n"
     ]
    },
    {
     "name": "stdout",
     "output_type": "stream",
     "text": [
      "epoch: 3, [batch: 672 / 6720], examples_per_second: 5160.3645, train_label_loss: 0.2644, \n"
     ]
    },
    {
     "name": "stdout",
     "output_type": "stream",
     "text": [
      "epoch: 3, [batch: 1344 / 6720], examples_per_second: 5059.3642, train_label_loss: 0.4146, \n"
     ]
    },
    {
     "name": "stdout",
     "output_type": "stream",
     "text": [
      "epoch: 3, [batch: 2016 / 6720], examples_per_second: 4995.8912, train_label_loss: 0.2775, \n"
     ]
    },
    {
     "name": "stdout",
     "output_type": "stream",
     "text": [
      "epoch: 3, [batch: 2688 / 6720], examples_per_second: 4822.4176, train_label_loss: 0.2642, \n"
     ]
    },
    {
     "name": "stdout",
     "output_type": "stream",
     "text": [
      "epoch: 3, [batch: 3360 / 6720], examples_per_second: 4961.5175, train_label_loss: 0.4886, \n"
     ]
    },
    {
     "name": "stdout",
     "output_type": "stream",
     "text": [
      "epoch: 3, [batch: 4032 / 6720], examples_per_second: 4956.7467, train_label_loss: 0.2764, \n"
     ]
    },
    {
     "name": "stdout",
     "output_type": "stream",
     "text": [
      "epoch: 3, [batch: 4704 / 6720], examples_per_second: 4986.6206, train_label_loss: 0.4544, \n"
     ]
    },
    {
     "name": "stdout",
     "output_type": "stream",
     "text": [
      "epoch: 3, [batch: 5376 / 6720], examples_per_second: 4962.9386, train_label_loss: 0.4664, \n"
     ]
    },
    {
     "name": "stdout",
     "output_type": "stream",
     "text": [
      "epoch: 3, [batch: 6048 / 6720], examples_per_second: 4915.1290, train_label_loss: 0.4328, \n"
     ]
    },
    {
     "name": "stdout",
     "output_type": "stream",
     "text": [
      "=============================================================\n",
      "epoch: 3, source_val_acc_label: 0.8538, target_val_acc_label: 0.7539, source_val_label_loss: 0.4218, target_val_label_loss: 346.2174, \n",
      "=============================================================\n"
     ]
    },
    {
     "name": "stdout",
     "output_type": "stream",
     "text": [
      "epoch: 4, [batch: 1 / 6720], examples_per_second: 5.1762, train_label_loss: 0.7626, \n"
     ]
    },
    {
     "name": "stdout",
     "output_type": "stream",
     "text": [
      "epoch: 4, [batch: 672 / 6720], examples_per_second: 4888.8995, train_label_loss: 0.2485, \n"
     ]
    },
    {
     "name": "stdout",
     "output_type": "stream",
     "text": [
      "epoch: 4, [batch: 1344 / 6720], examples_per_second: 5270.3022, train_label_loss: 0.3771, \n"
     ]
    },
    {
     "name": "stdout",
     "output_type": "stream",
     "text": [
      "epoch: 4, [batch: 2016 / 6720], examples_per_second: 5269.4598, train_label_loss: 0.2626, \n"
     ]
    },
    {
     "name": "stdout",
     "output_type": "stream",
     "text": [
      "epoch: 4, [batch: 2688 / 6720], examples_per_second: 5121.9413, train_label_loss: 0.4162, \n"
     ]
    },
    {
     "name": "stdout",
     "output_type": "stream",
     "text": [
      "epoch: 4, [batch: 3360 / 6720], examples_per_second: 5195.1663, train_label_loss: 0.3127, \n"
     ]
    },
    {
     "name": "stdout",
     "output_type": "stream",
     "text": [
      "epoch: 4, [batch: 4032 / 6720], examples_per_second: 5225.5554, train_label_loss: 0.4141, \n"
     ]
    },
    {
     "name": "stdout",
     "output_type": "stream",
     "text": [
      "epoch: 4, [batch: 4704 / 6720], examples_per_second: 5289.7591, train_label_loss: 0.5909, \n"
     ]
    },
    {
     "name": "stdout",
     "output_type": "stream",
     "text": [
      "epoch: 4, [batch: 5376 / 6720], examples_per_second: 5255.9117, train_label_loss: 0.2244, \n"
     ]
    },
    {
     "name": "stdout",
     "output_type": "stream",
     "text": [
      "epoch: 4, [batch: 6048 / 6720], examples_per_second: 5182.6181, train_label_loss: 0.5501, \n"
     ]
    },
    {
     "name": "stdout",
     "output_type": "stream",
     "text": [
      "=============================================================\n",
      "epoch: 4, source_val_acc_label: 0.8598, target_val_acc_label: 0.7373, source_val_label_loss: 0.3854, target_val_label_loss: 367.6255, \n",
      "=============================================================\n"
     ]
    },
    {
     "name": "stdout",
     "output_type": "stream",
     "text": [
      "epoch: 5, [batch: 1 / 6720], examples_per_second: 5.1730, train_label_loss: 0.3844, \n"
     ]
    },
    {
     "name": "stdout",
     "output_type": "stream",
     "text": [
      "epoch: 5, [batch: 672 / 6720], examples_per_second: 4842.7132, train_label_loss: 0.8176, \n"
     ]
    },
    {
     "name": "stdout",
     "output_type": "stream",
     "text": [
      "epoch: 5, [batch: 1344 / 6720], examples_per_second: 4924.4812, train_label_loss: 0.1840, \n"
     ]
    },
    {
     "name": "stdout",
     "output_type": "stream",
     "text": [
      "epoch: 5, [batch: 2016 / 6720], examples_per_second: 4907.1943, train_label_loss: 0.3160, \n"
     ]
    },
    {
     "name": "stdout",
     "output_type": "stream",
     "text": [
      "epoch: 5, [batch: 2688 / 6720], examples_per_second: 4768.7270, train_label_loss: 0.2669, \n"
     ]
    },
    {
     "name": "stdout",
     "output_type": "stream",
     "text": [
      "epoch: 5, [batch: 3360 / 6720], examples_per_second: 4960.6015, train_label_loss: 0.2565, \n"
     ]
    },
    {
     "name": "stdout",
     "output_type": "stream",
     "text": [
      "epoch: 5, [batch: 4032 / 6720], examples_per_second: 5177.2532, train_label_loss: 0.2265, \n"
     ]
    },
    {
     "name": "stdout",
     "output_type": "stream",
     "text": [
      "epoch: 5, [batch: 4704 / 6720], examples_per_second: 5171.1236, train_label_loss: 0.2312, \n"
     ]
    },
    {
     "name": "stdout",
     "output_type": "stream",
     "text": [
      "epoch: 5, [batch: 5376 / 6720], examples_per_second: 5208.3674, train_label_loss: 0.3536, \n"
     ]
    },
    {
     "name": "stdout",
     "output_type": "stream",
     "text": [
      "epoch: 5, [batch: 6048 / 6720], examples_per_second: 4939.4629, train_label_loss: 0.8554, \n"
     ]
    },
    {
     "name": "stdout",
     "output_type": "stream",
     "text": [
      "=============================================================\n",
      "epoch: 5, source_val_acc_label: 0.8785, target_val_acc_label: 0.7362, source_val_label_loss: 0.3448, target_val_label_loss: 326.6481, \n",
      "=============================================================\n"
     ]
    },
    {
     "name": "stdout",
     "output_type": "stream",
     "text": [
      "epoch: 6, [batch: 1 / 6720], examples_per_second: 5.2785, train_label_loss: 0.3591, \n"
     ]
    },
    {
     "name": "stdout",
     "output_type": "stream",
     "text": [
      "epoch: 6, [batch: 672 / 6720], examples_per_second: 4722.4973, train_label_loss: 0.3766, \n"
     ]
    },
    {
     "name": "stdout",
     "output_type": "stream",
     "text": [
      "epoch: 6, [batch: 1344 / 6720], examples_per_second: 4931.9573, train_label_loss: 0.4106, \n"
     ]
    },
    {
     "name": "stdout",
     "output_type": "stream",
     "text": [
      "epoch: 6, [batch: 2016 / 6720], examples_per_second: 4909.7631, train_label_loss: 0.3192, \n"
     ]
    },
    {
     "name": "stdout",
     "output_type": "stream",
     "text": [
      "epoch: 6, [batch: 2688 / 6720], examples_per_second: 5000.8602, train_label_loss: 0.3262, \n"
     ]
    },
    {
     "name": "stdout",
     "output_type": "stream",
     "text": [
      "epoch: 6, [batch: 3360 / 6720], examples_per_second: 5334.3811, train_label_loss: 0.2514, \n"
     ]
    },
    {
     "name": "stdout",
     "output_type": "stream",
     "text": [
      "epoch: 6, [batch: 4032 / 6720], examples_per_second: 5333.1165, train_label_loss: 0.3379, \n"
     ]
    },
    {
     "name": "stdout",
     "output_type": "stream",
     "text": [
      "epoch: 6, [batch: 4704 / 6720], examples_per_second: 4970.1380, train_label_loss: 0.2030, \n"
     ]
    },
    {
     "name": "stdout",
     "output_type": "stream",
     "text": [
      "epoch: 6, [batch: 5376 / 6720], examples_per_second: 5248.4396, train_label_loss: 0.0697, \n"
     ]
    },
    {
     "name": "stdout",
     "output_type": "stream",
     "text": [
      "epoch: 6, [batch: 6048 / 6720], examples_per_second: 5241.7753, train_label_loss: 0.5138, \n"
     ]
    },
    {
     "name": "stdout",
     "output_type": "stream",
     "text": [
      "=============================================================\n",
      "epoch: 6, source_val_acc_label: 0.8650, target_val_acc_label: 0.4610, source_val_label_loss: 0.3962, target_val_label_loss: 1403.0204, \n",
      "=============================================================\n"
     ]
    },
    {
     "name": "stdout",
     "output_type": "stream",
     "text": [
      "Patience (3) exhausted\n"
     ]
    }
   ],
   "source": [
    "###################################\n",
    "# train\n",
    "###################################\n",
    "jig = PTN_Train_Eval_Test_Jig(model, p.BEST_MODEL_PATH, p.device)\n",
    "\n",
    "jig.train(\n",
    "    train_iterable=datasets.source.processed.train,\n",
    "    source_val_iterable=datasets.source.processed.val,\n",
    "    target_val_iterable=datasets.target.processed.val,\n",
    "    num_epochs=p.n_epoch,\n",
    "    num_logs_per_epoch=p.NUM_LOGS_PER_EPOCH,\n",
    "    patience=p.patience,\n",
    "    optimizer=optimizer,\n",
    "    criteria_for_best=p.criteria_for_best,\n",
    ")"
   ]
  },
  {
   "cell_type": "code",
   "execution_count": 23,
   "id": "31e8fabf",
   "metadata": {
    "execution": {
     "iopub.execute_input": "2022-03-28T18:31:05.634254Z",
     "iopub.status.busy": "2022-03-28T18:31:05.633688Z",
     "iopub.status.idle": "2022-03-28T18:31:05.669119Z",
     "shell.execute_reply": "2022-03-28T18:31:05.668292Z"
    },
    "papermill": {
     "duration": 0.082178,
     "end_time": "2022-03-28T18:31:05.669276",
     "exception": false,
     "start_time": "2022-03-28T18:31:05.587098",
     "status": "completed"
    },
    "tags": []
   },
   "outputs": [],
   "source": [
    "total_experiment_time_secs = time.time() - start_time_secs"
   ]
  },
  {
   "cell_type": "code",
   "execution_count": 24,
   "id": "87b9595b",
   "metadata": {
    "execution": {
     "iopub.execute_input": "2022-03-28T18:31:05.769979Z",
     "iopub.status.busy": "2022-03-28T18:31:05.769131Z",
     "iopub.status.idle": "2022-03-28T18:33:24.138314Z",
     "shell.execute_reply": "2022-03-28T18:33:24.139042Z"
    },
    "papermill": {
     "duration": 138.422391,
     "end_time": "2022-03-28T18:33:24.139281",
     "exception": false,
     "start_time": "2022-03-28T18:31:05.716890",
     "status": "completed"
    },
    "tags": []
   },
   "outputs": [],
   "source": [
    "###################################\n",
    "# Evaluate the model\n",
    "###################################\n",
    "source_test_label_accuracy, source_test_label_loss = jig.test(datasets.source.processed.test)\n",
    "target_test_label_accuracy, target_test_label_loss = jig.test(datasets.target.processed.test)\n",
    "\n",
    "source_val_label_accuracy, source_val_label_loss = jig.test(datasets.source.processed.val)\n",
    "target_val_label_accuracy, target_val_label_loss = jig.test(datasets.target.processed.val)\n",
    "\n",
    "history = jig.get_history()\n",
    "\n",
    "total_epochs_trained = len(history[\"epoch_indices\"])\n",
    "\n",
    "val_dl = Iterable_Aggregator((datasets.source.original.val,datasets.target.original.val))\n",
    "\n",
    "confusion = ptn_confusion_by_domain_over_dataloader(model, p.device, val_dl)\n",
    "per_domain_accuracy = per_domain_accuracy_from_confusion(confusion)\n",
    "\n",
    "# Add a key to per_domain_accuracy for if it was a source domain\n",
    "for domain, accuracy in per_domain_accuracy.items():\n",
    "    per_domain_accuracy[domain] = {\n",
    "        \"accuracy\": accuracy,\n",
    "        \"source?\": domain in p.domains_source\n",
    "    }\n",
    "\n",
    "# Do an independent accuracy assesment JUST TO BE SURE!\n",
    "# _source_test_label_accuracy = independent_accuracy_assesment(model, datasets.source.processed.test, p.device)\n",
    "# _target_test_label_accuracy = independent_accuracy_assesment(model, datasets.target.processed.test, p.device)\n",
    "# _source_val_label_accuracy = independent_accuracy_assesment(model, datasets.source.processed.val, p.device)\n",
    "# _target_val_label_accuracy = independent_accuracy_assesment(model, datasets.target.processed.val, p.device)\n",
    "\n",
    "# assert(_source_test_label_accuracy == source_test_label_accuracy)\n",
    "# assert(_target_test_label_accuracy == target_test_label_accuracy)\n",
    "# assert(_source_val_label_accuracy == source_val_label_accuracy)\n",
    "# assert(_target_val_label_accuracy == target_val_label_accuracy)\n",
    "\n",
    "experiment = {\n",
    "    \"experiment_name\": p.experiment_name,\n",
    "    \"parameters\": dict(p),\n",
    "    \"results\": {\n",
    "        \"source_test_label_accuracy\": source_test_label_accuracy,\n",
    "        \"source_test_label_loss\": source_test_label_loss,\n",
    "        \"target_test_label_accuracy\": target_test_label_accuracy,\n",
    "        \"target_test_label_loss\": target_test_label_loss,\n",
    "        \"source_val_label_accuracy\": source_val_label_accuracy,\n",
    "        \"source_val_label_loss\": source_val_label_loss,\n",
    "        \"target_val_label_accuracy\": target_val_label_accuracy,\n",
    "        \"target_val_label_loss\": target_val_label_loss,\n",
    "        \"total_epochs_trained\": total_epochs_trained,\n",
    "        \"total_experiment_time_secs\": total_experiment_time_secs,\n",
    "        \"confusion\": confusion,\n",
    "        \"per_domain_accuracy\": per_domain_accuracy,\n",
    "    },\n",
    "    \"history\": history,\n",
    "    \"dataset_metrics\": get_dataset_metrics(datasets, \"ptn\"),\n",
    "}"
   ]
  },
  {
   "cell_type": "code",
   "execution_count": 25,
   "id": "54a21829",
   "metadata": {
    "execution": {
     "iopub.execute_input": "2022-03-28T18:33:24.279909Z",
     "iopub.status.busy": "2022-03-28T18:33:24.279067Z",
     "iopub.status.idle": "2022-03-28T18:33:24.512725Z",
     "shell.execute_reply": "2022-03-28T18:33:24.513417Z"
    },
    "papermill": {
     "duration": 0.280816,
     "end_time": "2022-03-28T18:33:24.513652",
     "exception": false,
     "start_time": "2022-03-28T18:33:24.232836",
     "status": "completed"
    },
    "tags": []
   },
   "outputs": [
    {
     "data": {
      "image/png": "[encoded data removed]",
      "text/plain": [
       "<Figure size 1080x504 with 1 Axes>"
      ]
     },
     "metadata": {
      "needs_background": "light"
     },
     "output_type": "display_data"
    }
   ],
   "source": [
    "ax = get_loss_curve(experiment)\n",
    "plt.show()"
   ]
  },
  {
   "cell_type": "code",
   "execution_count": 26,
   "id": "fd8a0f60",
   "metadata": {
    "execution": {
     "iopub.execute_input": "2022-03-28T18:33:24.606906Z",
     "iopub.status.busy": "2022-03-28T18:33:24.606545Z",
     "iopub.status.idle": "2022-03-28T18:33:24.958243Z",
     "shell.execute_reply": "2022-03-28T18:33:24.957543Z"
    },
    "papermill": {
     "duration": 0.397772,
     "end_time": "2022-03-28T18:33:24.958425",
     "exception": false,
     "start_time": "2022-03-28T18:33:24.560653",
     "status": "completed"
    },
    "tags": []
   },
   "outputs": [
    {
     "data": {
      "text/plain": [
       "<AxesSubplot:title={'center':'Results'}>"
      ]
     },
     "execution_count": 26,
     "metadata": {},
     "output_type": "execute_result"
    },
    {
     "data": {
      "image/png": "[encoded data removed]",
      "text/plain": [
       "<Figure size 1080x504 with 1 Axes>"
      ]
     },
     "metadata": {
      "needs_background": "light"
     },
     "output_type": "display_data"
    }
   ],
   "source": [
    "get_results_table(experiment)"
   ]
  },
  {
   "cell_type": "code",
   "execution_count": 27,
   "id": "cf8dc689",
   "metadata": {
    "execution": {
     "iopub.execute_input": "2022-03-28T18:33:25.054700Z",
     "iopub.status.busy": "2022-03-28T18:33:25.054334Z",
     "iopub.status.idle": "2022-03-28T18:33:25.290024Z",
     "shell.execute_reply": "2022-03-28T18:33:25.290699Z"
    },
    "papermill": {
     "duration": 0.283276,
     "end_time": "2022-03-28T18:33:25.290926",
     "exception": false,
     "start_time": "2022-03-28T18:33:25.007650",
     "status": "completed"
    },
    "tags": []
   },
   "outputs": [
    {
     "data": {
      "text/plain": [
       "<AxesSubplot:title={'center':'Per Domain Validation Accuracy'}, xlabel='domain'>"
      ]
     },
     "execution_count": 27,
     "metadata": {},
     "output_type": "execute_result"
    },
    {
     "data": {
      "image/png": "[encoded data removed]",
      "text/plain": [
       "<Figure size 1080x504 with 1 Axes>"
      ]
     },
     "metadata": {
      "needs_background": "light"
     },
     "output_type": "display_data"
    }
   ],
   "source": [
    "get_domain_accuracies(experiment)"
   ]
  },
  {
   "cell_type": "code",
   "execution_count": 28,
   "id": "a74ae082",
   "metadata": {
    "execution": {
     "iopub.execute_input": "2022-03-28T18:33:25.390758Z",
     "iopub.status.busy": "2022-03-28T18:33:25.390387Z",
     "iopub.status.idle": "2022-03-28T18:33:25.412338Z",
     "shell.execute_reply": "2022-03-28T18:33:25.412992Z"
    },
    "papermill": {
     "duration": 0.070602,
     "end_time": "2022-03-28T18:33:25.413187",
     "exception": false,
     "start_time": "2022-03-28T18:33:25.342585",
     "status": "completed"
    },
    "tags": []
   },
   "outputs": [
    {
     "name": "stdout",
     "output_type": "stream",
     "text": [
      "Source Test Label Accuracy: 0.8394205729166667 Target Test Label Accuracy: 0.7873595505617977\n",
      "Source Val Label Accuracy: 0.8409830729166666 Target Val Label Accuracy: 0.7851785714285714\n"
     ]
    }
   ],
   "source": [
    "print(\"Source Test Label Accuracy:\", experiment[\"results\"][\"source_test_label_accuracy\"], \"Target Test Label Accuracy:\", experiment[\"results\"][\"target_test_label_accuracy\"])\n",
    "print(\"Source Val Label Accuracy:\", experiment[\"results\"][\"source_val_label_accuracy\"], \"Target Val Label Accuracy:\", experiment[\"results\"][\"target_val_label_accuracy\"])"
   ]
  },
  {
   "cell_type": "code",
   "execution_count": 29,
   "id": "dacca602",
   "metadata": {
    "execution": {
     "iopub.execute_input": "2022-03-28T18:33:25.513935Z",
     "iopub.status.busy": "2022-03-28T18:33:25.513542Z",
     "iopub.status.idle": "2022-03-28T18:33:25.540341Z",
     "shell.execute_reply": "2022-03-28T18:33:25.541018Z"
    },
    "papermill": {
     "duration": 0.076165,
     "end_time": "2022-03-28T18:33:25.541224",
     "exception": false,
     "start_time": "2022-03-28T18:33:25.465059",
     "status": "completed"
    },
    "tags": [
     "experiment_json"
    ]
   },
   "outputs": [
    {
     "data": {
      "text/plain": [
       "'{\"experiment_name\": \"tl_3-jitter5v2:oracle.run1.framed -> cores\", \"parameters\": {\"experiment_name\": \"tl_3-jitter5v2:oracle.run1.framed -> cores\", \"device\": \"cuda\", \"lr\": 0.0001, \"x_shape\": [2, 256], \"n_shot\": 3, \"n_query\": 2, \"train_k_factor\": 3, \"val_k_factor\": 2, \"test_k_factor\": 2, \"torch_default_dtype\": \"torch.float32\", \"n_epoch\": 50, \"patience\": 3, \"criteria_for_best\": \"target_accuracy\", \"x_net\": [{\"class\": \"nnReshape\", \"kargs\": {\"shape\": [-1, 1, 2, 256]}}, {\"class\": \"Conv2d\", \"kargs\": {\"in_channels\": 1, \"out_channels\": 256, \"kernel_size\": [1, 7], \"bias\": false, \"padding\": [0, 3]}}, {\"class\": \"ReLU\", \"kargs\": {\"inplace\": true}}, {\"class\": \"BatchNorm2d\", \"kargs\": {\"num_features\": 256}}, {\"class\": \"Conv2d\", \"kargs\": {\"in_channels\": 256, \"out_channels\": 80, \"kernel_size\": [2, 7], \"bias\": true, \"padding\": [0, 3]}}, {\"class\": \"ReLU\", \"kargs\": {\"inplace\": true}}, {\"class\": \"BatchNorm2d\", \"kargs\": {\"num_features\": 80}}, {\"class\": \"Flatten\", \"kargs\": {}}, {\"class\": \"Linear\", \"kargs\": {\"in_features\": 20480, \"out_features\": 256}}, {\"class\": \"ReLU\", \"kargs\": {\"inplace\": true}}, {\"class\": \"BatchNorm1d\", \"kargs\": {\"num_features\": 256}}, {\"class\": \"Linear\", \"kargs\": {\"in_features\": 256, \"out_features\": 256}}], \"NUM_LOGS_PER_EPOCH\": 10, \"BEST_MODEL_PATH\": \"./best_model.pth\", \"n_way\": 16, \"datasets\": [{\"labels\": [\"1-10.\", \"1-11.\", \"1-15.\", \"1-16.\", \"1-17.\", \"1-18.\", \"1-19.\", \"10-4.\", \"10-7.\", \"11-1.\", \"11-14.\", \"11-17.\", \"11-20.\", \"11-7.\", \"13-20.\", \"13-8.\", \"14-10.\", \"14-11.\", \"14-14.\", \"14-7.\", \"15-1.\", \"15-20.\", \"16-1.\", \"16-16.\", \"17-10.\", \"17-11.\", \"17-2.\", \"19-1.\", \"19-16.\", \"19-19.\", \"19-20.\", \"19-3.\", \"2-10.\", \"2-11.\", \"2-17.\", \"2-18.\", \"2-20.\", \"2-3.\", \"2-4.\", \"2-5.\", \"2-6.\", \"2-7.\", \"2-8.\", \"3-13.\", \"3-18.\", \"3-3.\", \"4-1.\", \"4-10.\", \"4-11.\", \"4-19.\", \"5-5.\", \"6-15.\", \"7-10.\", \"7-14.\", \"8-18.\", \"8-20.\", \"8-3.\", \"8-8.\"], \"domains\": [1, 2, 3, 4, 5], \"num_examples_per_domain_per_label\": -1, \"pickle_path\": \"/root/csc500-main/datasets/cores.stratified_ds.2022A.pkl\", \"source_or_target_dataset\": \"target\", \"x_transforms\": [\"jitter_256_5\", \"lowpass_+/-10MHz\", \"take_200\"], \"episode_transforms\": [], \"domain_prefix\": \"C_\"}, {\"labels\": [\"3123D52\", \"3123D65\", \"3123D79\", \"3123D80\", \"3123D54\", \"3123D70\", \"3123D7B\", \"3123D89\", \"3123D58\", \"3123D76\", \"3123D7D\", \"3123EFE\", \"3123D64\", \"3123D78\", \"3123D7E\", \"3124E4A\"], \"domains\": [32, 38, 8, 44, 14, 50, 20, 26], \"num_examples_per_domain_per_label\": 2000, \"pickle_path\": \"/root/csc500-main/datasets/oracle.Run1_framed_2000Examples_stratified_ds.2022A.pkl\", \"source_or_target_dataset\": \"source\", \"x_transforms\": [\"jitter_256_5\", \"take_200\", \"resample_20Msps_to_25Msps\"], \"episode_transforms\": [], \"domain_prefix\": \"O_\"}], \"seed\": 500, \"dataset_seed\": 500, \"domains_source\": [\"O_32\", \"O_38\", \"O_8\", \"O_44\", \"O_14\", \"O_50\", \"O_20\", \"O_26\"], \"domains_target\": [\"C_1\", \"C_2\", \"C_3\", \"C_4\", \"C_5\"]}, \"results\": {\"source_test_label_accuracy\": 0.8394205729166667, \"source_test_label_loss\": 0.44054415822029114, \"target_test_label_accuracy\": 0.7873595505617977, \"target_test_label_loss\": 215.6996307373047, \"source_val_label_accuracy\": 0.8409830729166666, \"source_val_label_loss\": 0.4406093955039978, \"target_val_label_accuracy\": 0.7851785714285714, \"target_val_label_loss\": 227.09820556640625, \"total_epochs_trained\": 6, \"total_experiment_time_secs\": 840.356550693512, \"confusion\": {\"O_50\": {\"7\": {\"7\": 222, \"5\": 16, \"6\": 1, \"4\": 1}, \"10\": {\"10\": 233, \"8\": 6, \"0\": 1}, \"0\": {\"0\": 225, \"2\": 13, \"10\": 2}, \"11\": {\"11\": 228, \"9\": 7, \"15\": 4, \"12\": 1}, \"2\": {\"2\": 225, \"0\": 14, \"14\": 1}, \"14\": {\"14\": 240}, \"9\": {\"11\": 17, \"9\": 206, \"12\": 17}, \"13\": {\"13\": 234, \"1\": 5, \"5\": 1}, \"8\": {\"8\": 240}, \"15\": {\"15\": 220, \"6\": 13, \"4\": 2, \"11\": 5}, \"4\": {\"4\": 188, \"15\": 16, \"7\": 21, \"5\": 11, \"6\": 4}, \"5\": {\"4\": 10, \"7\": 76, \"5\": 104, \"15\": 5, \"13\": 8, \"6\": 34, \"1\": 3}, \"3\": {\"3\": 240}, \"1\": {\"1\": 232, \"13\": 7, \"0\": 1}, \"6\": {\"6\": 180, \"5\": 41, \"15\": 19}, \"12\": {\"12\": 209, \"11\": 6, \"9\": 25}}, \"O_14\": {\"14\": {\"14\": 181, \"13\": 34, \"6\": 9, \"2\": 13, \"3\": 3}, \"6\": {\"6\": 137, \"13\": 70, \"14\": 25, \"2\": 5, \"3\": 3}, \"5\": {\"5\": 212, \"2\": 9, \"3\": 5, \"4\": 14}, \"15\": {\"15\": 240}, \"11\": {\"11\": 240}, \"8\": {\"8\": 239, \"7\": 1}, \"12\": {\"12\": 240}, \"1\": {\"1\": 240}, \"2\": {\"13\": 16, \"2\": 97, \"3\": 26, \"5\": 23, \"14\": 50, \"4\": 16, \"6\": 12}, \"13\": {\"13\": 54, \"6\": 75, \"14\": 90, \"15\": 10, \"3\": 3, \"2\": 8}, \"3\": {\"3\": 228, \"6\": 2, \"2\": 4, \"13\": 3, \"5\": 2, \"14\": 1}, \"0\": {\"14\": 4, \"0\": 214, \"10\": 5, \"3\": 17}, \"9\": {\"9\": 240}, \"4\": {\"4\": 218, \"2\": 9, \"5\": 11, \"0\": 2}, \"7\": {\"7\": 238, \"8\": 1, \"5\": 1}, \"10\": {\"10\": 240}}, \"O_32\": {\"4\": {\"4\": 205, \"2\": 34, \"13\": 1}, \"14\": {\"14\": 143, \"7\": 57, \"5\": 16, \"8\": 2, \"2\": 11, \"0\": 11}, \"5\": {\"5\": 118, \"7\": 66, \"0\": 32, \"14\": 10, \"8\": 14}, \"10\": {\"10\": 240}, \"13\": {\"13\": 189, \"11\": 4, \"3\": 27, \"4\": 20}, \"9\": {\"9\": 235, \"4\": 2, \"12\": 2, \"13\": 1}, \"6\": {\"6\": 240}, \"3\": {\"3\": 222, \"13\": 17, \"4\": 1}, \"15\": {\"15\": 238, \"8\": 2}, \"7\": {\"7\": 164, \"0\": 13, \"5\": 24, \"14\": 38, \"8\": 1}, \"12\": {\"12\": 240}, \"8\": {\"8\": 189, \"14\": 3, \"5\": 9, \"0\": 32, \"7\": 4, \"2\": 2, \"4\": 1}, \"11\": {\"11\": 240}, \"2\": {\"2\": 211, \"4\": 28, \"14\": 1}, \"1\": {\"1\": 240}, \"0\": {\"8\": 43, \"0\": 144, \"14\": 6, \"5\": 17, \"7\": 30}}, \"O_44\": {\"8\": {\"0\": 67, \"8\": 153, \"15\": 8, \"5\": 12}, \"11\": {\"11\": 240}, \"14\": {\"14\": 162, \"4\": 53, \"5\": 17, \"15\": 8}, \"10\": {\"10\": 224, \"7\": 11, \"1\": 3, \"2\": 2}, \"3\": {\"3\": 217, \"12\": 23}, \"15\": {\"15\": 193, \"14\": 22, \"8\": 9, \"5\": 16}, \"2\": {\"2\": 234, \"1\": 5, \"10\": 1}, \"12\": {\"12\": 218, \"3\": 22}, \"4\": {\"5\": 1, \"14\": 83, \"4\": 143, \"15\": 11, \"7\": 1, \"9\": 1}, \"1\": {\"1\": 228, \"2\": 12}, \"0\": {\"0\": 202, \"8\": 38}, \"9\": {\"6\": 38, \"7\": 91, \"9\": 88, \"13\": 21, \"2\": 2}, \"5\": {\"5\": 209, \"15\": 18, \"14\": 12, \"8\": 1}, \"6\": {\"6\": 194, \"13\": 24, \"9\": 22}, \"7\": {\"7\": 197, \"9\": 37, \"10\": 6}, \"13\": {\"13\": 185, \"6\": 43, \"11\": 5, \"9\": 7}}, \"O_8\": {\"13\": {\"13\": 190, \"7\": 18, \"10\": 29, \"6\": 2, \"5\": 1}, \"3\": {\"3\": 240}, \"15\": {\"15\": 207, \"12\": 32, \"2\": 1}, \"4\": {\"4\": 233, \"6\": 2, \"14\": 5}, \"7\": {\"7\": 204, \"13\": 15, \"6\": 20, \"10\": 1}, \"2\": {\"3\": 41, \"2\": 188, \"15\": 6, \"12\": 5}, \"1\": {\"1\": 182, \"11\": 49, \"5\": 8, \"10\": 1}, \"0\": {\"0\": 240}, \"12\": {\"15\": 59, \"12\": 181}, \"6\": {\"7\": 23, \"6\": 210, \"10\": 5, \"13\": 2}, \"11\": {\"11\": 140, \"1\": 92, \"8\": 1, \"5\": 4, \"14\": 3}, \"9\": {\"9\": 240}, \"5\": {\"5\": 185, \"10\": 25, \"14\": 3, \"1\": 15, \"11\": 10, \"13\": 2}, \"10\": {\"10\": 176, \"13\": 45, \"5\": 16, \"1\": 1, \"6\": 2}, \"14\": {\"14\": 219, \"4\": 20, \"11\": 1}, \"8\": {\"8\": 240}}, \"O_20\": {\"6\": {\"6\": 230, \"7\": 7, \"14\": 3}, \"11\": {\"11\": 240}, \"5\": {\"1\": 58, \"5\": 141, \"3\": 30, \"9\": 9, \"8\": 2}, \"14\": {\"14\": 222, \"8\": 17, \"6\": 1}, \"2\": {\"2\": 146, \"9\": 11, \"12\": 28, \"7\": 38, \"13\": 10, \"15\": 5, \"1\": 1, \"6\": 1}, \"7\": {\"7\": 181, \"3\": 1, \"9\": 23, \"2\": 24, \"6\": 7, \"12\": 4}, \"3\": {\"3\": 149, \"9\": 28, \"5\": 25, \"8\": 19, \"1\": 13, \"7\": 2, \"2\": 1, \"0\": 2, \"12\": 1}, \"4\": {\"4\": 231, \"2\": 1, \"12\": 6, \"10\": 2}, \"9\": {\"9\": 145, \"3\": 20, \"7\": 45, \"1\": 20, \"5\": 7, \"15\": 1, \"2\": 2}, \"12\": {\"12\": 179, \"4\": 4, \"5\": 2, \"2\": 29, \"15\": 21, \"13\": 2, \"1\": 2, \"7\": 1}, \"0\": {\"0\": 236, \"5\": 2, \"3\": 2}, \"10\": {\"10\": 238, \"4\": 2}, \"8\": {\"8\": 213, \"3\": 16, \"14\": 9, \"9\": 2}, \"13\": {\"13\": 218, \"2\": 14, \"12\": 2, \"7\": 1, \"15\": 5}, \"1\": {\"3\": 6, \"15\": 12, \"9\": 20, \"1\": 139, \"5\": 62, \"2\": 1}, \"15\": {\"15\": 186, \"12\": 29, \"1\": 18, \"9\": 1, \"13\": 6}}, \"O_38\": {\"3\": {\"3\": 240}, \"8\": {\"8\": 136, \"5\": 72, \"7\": 18, \"15\": 10, \"13\": 1, \"0\": 2, \"9\": 1}, \"0\": {\"0\": 170, \"7\": 29, \"10\": 24, \"3\": 5, \"8\": 1, \"5\": 1, \"13\": 10}, \"2\": {\"14\": 24, \"2\": 216}, \"4\": {\"4\": 240}, \"7\": {\"7\": 233, \"0\": 2, \"8\": 4, \"5\": 1}, \"12\": {\"12\": 240}, \"6\": {\"6\": 239, \"1\": 1}, \"15\": {\"15\": 225, \"8\": 2, \"5\": 9, \"1\": 4}, \"11\": {\"11\": 240}, \"9\": {\"9\": 237, \"7\": 1, \"5\": 2}, \"14\": {\"14\": 221, \"2\": 19}, \"10\": {\"10\": 209, \"0\": 16, \"13\": 11, \"4\": 3, \"7\": 1}, \"5\": {\"5\": 133, \"8\": 64, \"7\": 23, \"9\": 12, \"15\": 7, \"4\": 1}, \"1\": {\"1\": 238, \"6\": 2}, \"13\": {\"10\": 13, \"13\": 221, \"0\": 5, \"2\": 1}}, \"O_26\": {\"5\": {\"5\": 196, \"15\": 40, \"6\": 4}, \"8\": {\"8\": 168, \"7\": 45, \"9\": 21, \"0\": 2, \"3\": 1, \"2\": 3}, \"4\": {\"4\": 240}, \"12\": {\"12\": 240}, \"6\": {\"6\": 207, \"15\": 23, \"10\": 5, \"5\": 2, \"1\": 3}, \"7\": {\"7\": 174, \"8\": 29, \"3\": 26, \"2\": 9, \"9\": 2}, \"10\": {\"14\": 43, \"10\": 145, \"6\": 15, \"0\": 32, \"1\": 1, \"15\": 4}, \"0\": {\"0\": 172, \"10\": 39, \"14\": 25, \"7\": 3, \"2\": 1}, \"15\": {\"15\": 150, \"5\": 50, \"6\": 35, \"10\": 3, \"1\": 2}, \"9\": {\"9\": 160, \"8\": 44, \"13\": 19, \"2\": 10, \"15\": 2, \"7\": 4, \"0\": 1}, \"11\": {\"11\": 240}, \"14\": {\"0\": 23, \"14\": 155, \"10\": 48, \"1\": 13, \"15\": 1}, \"2\": {\"2\": 169, \"9\": 17, \"3\": 22, \"7\": 25, \"8\": 4, \"10\": 1, \"13\": 1, \"0\": 1}, \"13\": {\"13\": 203, \"2\": 9, \"9\": 23, \"3\": 4, \"8\": 1}, \"3\": {\"3\": 191, \"7\": 37, \"2\": 9, \"9\": 2, \"8\": 1}, \"1\": {\"1\": 189, \"14\": 38, \"10\": 8, \"6\": 3, \"0\": 1, \"15\": 1}}, \"C_4\": {\"38\": {\"38\": 35, \"14\": 1, \"2\": 2, \"57\": 1, \"55\": 1}, \"3\": {\"3\": 115, \"5\": 1, \"6\": 4, \"50\": 4}, \"24\": {\"24\": 56}, \"49\": {\"49\": 15, \"7\": 1, \"43\": 2, \"32\": 1, \"31\": 1}, \"7\": {\"7\": 21, \"2\": 1, \"57\": 1, \"43\": 1}, \"17\": {\"23\": 5, \"36\": 5, \"17\": 27, \"40\": 4, \"26\": 2, \"35\": 1, \"54\": 5, \"4\": 6, \"9\": 2, \"19\": 3, \"25\": 1, \"53\": 1, \"51\": 3, \"27\": 6, \"55\": 1, \"48\": 2, \"44\": 2, \"29\": 3, \"33\": 1}, \"43\": {\"43\": 148}, \"30\": {\"30\": 44}, \"44\": {\"44\": 30, \"3\": 3, \"40\": 14, \"48\": 14, \"29\": 11, \"1\": 2, \"4\": 12, \"33\": 1, \"45\": 7, \"9\": 9, \"50\": 8, \"47\": 5, \"17\": 3, \"57\": 1, \"56\": 3, \"5\": 3, \"35\": 3, \"28\": 1, \"19\": 1, \"20\": 1}, \"23\": {\"23\": 144}, \"37\": {\"37\": 12, \"7\": 1, \"49\": 4, \"44\": 1, \"33\": 1, \"29\": 1, \"54\": 1, \"55\": 1, \"32\": 2}, \"4\": {\"44\": 10, \"4\": 37, \"45\": 5, \"21\": 6, \"50\": 1, \"29\": 15, \"57\": 3, \"33\": 1, \"48\": 15, \"8\": 4, \"9\": 6, \"55\": 1, \"54\": 3, \"27\": 6, \"40\": 8, \"51\": 1, \"20\": 4, \"35\": 2, \"17\": 2, \"47\": 2}, \"57\": {\"20\": 2, \"37\": 1, \"57\": 67, \"1\": 2, \"4\": 2, \"47\": 13, \"48\": 5, \"29\": 3, \"9\": 2, \"40\": 2, \"52\": 1}, \"16\": {\"16\": 92, \"11\": 2, \"15\": 2}, \"18\": {\"18\": 104, \"25\": 3, \"13\": 1}, \"20\": {\"20\": 124}, \"45\": {\"45\": 32, \"50\": 11, \"48\": 8, \"3\": 2, \"12\": 5, \"40\": 6, \"21\": 11, \"44\": 10, \"27\": 1, \"4\": 3, \"9\": 3, \"6\": 1, \"57\": 2, \"20\": 1}, \"15\": {\"15\": 131, \"11\": 1}, \"52\": {\"52\": 116}, \"19\": {\"28\": 1, \"54\": 4, \"19\": 79, \"36\": 1, \"53\": 15, \"35\": 3, \"42\": 3, \"17\": 3, \"27\": 1, \"51\": 1, \"40\": 1, \"29\": 3, \"4\": 8, \"25\": 1, \"55\": 8, \"37\": 1, \"33\": 1, \"44\": 3, \"9\": 1, \"23\": 1, \"16\": 1}, \"54\": {\"54\": 37, \"36\": 6, \"35\": 2, \"40\": 4, \"51\": 14, \"42\": 7, \"23\": 12, \"33\": 2, \"55\": 5, \"27\": 4, \"4\": 6, \"48\": 2, \"39\": 1, \"41\": 1, \"31\": 1, \"28\": 1, \"44\": 1, \"9\": 1, \"29\": 1}, \"56\": {\"56\": 129, \"46\": 1}, \"40\": {\"40\": 40, \"48\": 18, \"44\": 14, \"3\": 3, \"4\": 12, \"50\": 6, \"45\": 3, \"35\": 2, \"53\": 1, \"29\": 9, \"5\": 4, \"9\": 4, \"47\": 9, \"56\": 5, \"1\": 1, \"19\": 1, \"57\": 1, \"52\": 1}, \"28\": {\"28\": 11, \"54\": 1, \"33\": 4, \"42\": 4, \"11\": 1, \"55\": 1, \"26\": 3, \"34\": 4, \"53\": 2, \"25\": 1}, \"2\": {\"2\": 36}, \"9\": {\"45\": 7, \"9\": 28, \"44\": 9, \"48\": 15, \"40\": 13, \"17\": 1, \"29\": 10, \"33\": 1, \"47\": 1, \"8\": 4, \"51\": 2, \"4\": 11, \"21\": 6, \"57\": 4, \"54\": 1, \"27\": 2, \"55\": 1, \"35\": 1, \"20\": 3}, \"0\": {\"0\": 80}, \"36\": {\"36\": 85, \"51\": 4, \"53\": 1, \"39\": 1, \"23\": 1}, \"55\": {\"55\": 101, \"17\": 1, \"35\": 1, \"48\": 1, \"57\": 3, \"4\": 3, \"43\": 3, \"54\": 3, \"40\": 2, \"29\": 2, \"51\": 1, \"9\": 3, \"49\": 1, \"36\": 2, \"32\": 1, \"41\": 2}, \"35\": {\"14\": 1, \"54\": 2, \"31\": 1, \"32\": 1, \"33\": 2, \"23\": 1, \"17\": 1, \"55\": 5, \"35\": 9, \"19\": 6, \"47\": 1, \"57\": 5, \"51\": 2, \"44\": 1, \"48\": 1, \"29\": 1}, \"39\": {\"39\": 20}, \"31\": {\"31\": 16, \"41\": 1, \"57\": 1, \"32\": 2, \"7\": 1, \"49\": 2, \"23\": 2, \"33\": 1, \"24\": 1, \"4\": 1}, \"14\": {\"0\": 2, \"49\": 1, \"31\": 1, \"38\": 1, \"14\": 4, \"33\": 1, \"13\": 2, \"1\": 1, \"26\": 2, \"2\": 1}, \"12\": {\"12\": 92}, \"6\": {\"6\": 108, \"5\": 2, \"3\": 2}, \"26\": {\"4\": 1, \"51\": 1, \"26\": 9, \"28\": 3, \"40\": 2, \"33\": 2, \"42\": 3, \"19\": 1, \"53\": 1, \"35\": 1}, \"50\": {\"3\": 16, \"50\": 103, \"6\": 4, \"5\": 4, \"52\": 1, \"48\": 2, \"21\": 1, \"45\": 1}, \"21\": {\"21\": 118, \"20\": 4}, \"46\": {\"46\": 136, \"0\": 2, \"22\": 2}, \"51\": {\"51\": 106, \"36\": 12, \"27\": 9, \"8\": 4, \"55\": 1, \"9\": 2, \"57\": 2, \"21\": 1, \"48\": 2, \"40\": 1}, \"41\": {\"41\": 36}, \"34\": {\"34\": 21, \"42\": 2, \"4\": 1}, \"47\": {\"47\": 116, \"52\": 2, \"1\": 2}, \"5\": {\"5\": 103, \"6\": 4, \"3\": 1}, \"1\": {\"1\": 36, \"47\": 2, \"14\": 2}, \"48\": {\"50\": 2, \"48\": 105, \"20\": 15, \"57\": 2, \"47\": 1, \"9\": 4, \"29\": 1, \"40\": 1, \"45\": 1, \"21\": 2}, \"29\": {\"29\": 34, \"50\": 2, \"20\": 3, \"47\": 7, \"17\": 6, \"4\": 10, \"55\": 1, \"9\": 5, \"52\": 1, \"40\": 10, \"44\": 4, \"57\": 12, \"53\": 1, \"45\": 2, \"48\": 13, \"54\": 2, \"56\": 1, \"1\": 2, \"35\": 2}, \"22\": {\"22\": 128}, \"10\": {\"10\": 132}, \"32\": {\"7\": 2, \"32\": 17, \"49\": 1, \"47\": 1, \"57\": 1, \"55\": 1, \"2\": 1}, \"13\": {\"13\": 112}, \"42\": {\"42\": 32}, \"27\": {\"27\": 112, \"51\": 14, \"9\": 4, \"8\": 8}, \"8\": {\"8\": 142}, \"33\": {\"26\": 2, \"36\": 5, \"9\": 3, \"14\": 2, \"27\": 1, \"45\": 1, \"33\": 9, \"4\": 4, \"40\": 1, \"17\": 3, \"55\": 3, \"42\": 1, \"28\": 1}, \"25\": {\"26\": 1, \"28\": 1, \"25\": 101, \"33\": 1, \"42\": 1, \"19\": 4, \"18\": 7, \"34\": 4, \"16\": 2, \"23\": 3, \"53\": 3, \"17\": 1, \"15\": 1, \"40\": 1, \"29\": 1}, \"11\": {\"11\": 99, \"15\": 5}, \"53\": {\"42\": 4, \"53\": 74, \"4\": 1, \"34\": 2, \"44\": 3, \"51\": 4, \"16\": 2, \"23\": 12, \"54\": 2, \"40\": 2, \"29\": 2, \"25\": 1, \"27\": 1, \"28\": 1, \"36\": 1}}, \"C_2\": {\"32\": {\"32\": 9, \"17\": 1, \"9\": 1, \"40\": 3, \"51\": 3, \"39\": 2, \"20\": 1, \"33\": 1, \"29\": 1, \"2\": 2, \"27\": 2, \"4\": 2}, \"17\": {\"23\": 6, \"51\": 11, \"17\": 40, \"44\": 2, \"36\": 10, \"35\": 1, \"54\": 10, \"40\": 2, \"8\": 1, \"45\": 1, \"29\": 5, \"27\": 4, \"32\": 1, \"9\": 4, \"2\": 1, \"4\": 2, \"53\": 3}, \"38\": {\"38\": 20}, \"2\": {\"2\": 23, \"14\": 1, \"42\": 2, \"27\": 2, \"57\": 1, \"4\": 1, \"48\": 2}, \"43\": {\"43\": 144}, \"56\": {\"56\": 139, \"22\": 3, \"47\": 1, \"55\": 1}, \"37\": {\"32\": 2, \"37\": 17, \"40\": 1, \"39\": 1, \"29\": 1, \"42\": 4, \"57\": 1, \"7\": 2, \"31\": 5, \"9\": 1, \"33\": 1}, \"49\": {\"49\": 19, \"34\": 2, \"36\": 1, \"53\": 2}, \"0\": {\"0\": 48}, \"29\": {\"17\": 2, \"32\": 1, \"37\": 2, \"1\": 9, \"40\": 11, \"2\": 4, \"29\": 29, \"57\": 20, \"33\": 2, \"9\": 8, \"45\": 2, \"19\": 1, \"30\": 1, \"20\": 1, \"55\": 3, \"44\": 10, \"48\": 9, \"4\": 6, \"36\": 1, \"7\": 1, \"52\": 2, \"47\": 2, \"53\": 1}, \"35\": {\"35\": 21, \"39\": 1, \"19\": 5, \"9\": 1, \"37\": 1, \"40\": 1, \"31\": 1, \"42\": 1}, \"18\": {\"18\": 48}, \"25\": {\"18\": 6, \"25\": 117, \"4\": 1, \"23\": 1, \"53\": 7, \"29\": 1, \"16\": 2, \"40\": 1}, \"23\": {\"23\": 123, \"49\": 1}, \"15\": {\"15\": 142, \"16\": 4}, \"21\": {\"21\": 120}, \"51\": {\"8\": 6, \"51\": 104, \"20\": 2, \"45\": 2, \"17\": 1, \"27\": 9, \"4\": 1, \"36\": 2, \"53\": 1}, \"20\": {\"20\": 137, \"8\": 1}, \"7\": {\"7\": 36}, \"50\": {\"21\": 5, \"50\": 131}, \"31\": {\"31\": 28}, \"30\": {\"30\": 140}, \"19\": {\"17\": 13, \"19\": 80, \"40\": 5, \"34\": 2, \"4\": 6, \"35\": 1, \"36\": 8, \"2\": 1, \"44\": 4, \"54\": 7, \"53\": 10, \"29\": 3, \"9\": 8, \"55\": 4, \"23\": 1, \"26\": 1, \"32\": 1, \"11\": 1}, \"9\": {\"9\": 55, \"40\": 7, \"48\": 15, \"29\": 7, \"4\": 14, \"19\": 3, \"8\": 2, \"57\": 10, \"33\": 2, \"1\": 3, \"44\": 7, \"20\": 5, \"36\": 4, \"53\": 1, \"55\": 2, \"47\": 1, \"17\": 1, \"51\": 1, \"54\": 3, \"45\": 1}, \"52\": {\"52\": 124}, \"45\": {\"50\": 19, \"17\": 1, \"3\": 10, \"48\": 4, \"44\": 2, \"1\": 4, \"45\": 40, \"6\": 8, \"21\": 7, \"0\": 1, \"29\": 5, \"36\": 3, \"46\": 4, \"12\": 3, \"40\": 7, \"4\": 4, \"5\": 2, \"55\": 1, \"47\": 1, \"52\": 1, \"30\": 1}, \"8\": {\"8\": 154}, \"55\": {\"55\": 113, \"39\": 3, \"4\": 5, \"13\": 6, \"7\": 3, \"29\": 5, \"57\": 7, \"44\": 2, \"43\": 1, \"56\": 2, \"1\": 2, \"32\": 1, \"37\": 1, \"42\": 2, \"31\": 2, \"17\": 1, \"36\": 1, \"40\": 1, \"47\": 2}, \"12\": {\"12\": 92}, \"40\": {\"14\": 1, \"50\": 1, \"57\": 9, \"48\": 17, \"9\": 17, \"44\": 8, \"40\": 42, \"29\": 7, \"33\": 2, \"1\": 6, \"45\": 5, \"2\": 1, \"4\": 10, \"53\": 2, \"55\": 3, \"32\": 1, \"21\": 1, \"0\": 2, \"3\": 1, \"17\": 1, \"47\": 2, \"30\": 1}, \"28\": {\"28\": 28}, \"36\": {\"36\": 54, \"51\": 21, \"41\": 2, \"17\": 10, \"45\": 1, \"27\": 11, \"40\": 5, \"8\": 3, \"39\": 2, \"2\": 1, \"42\": 1, \"29\": 2, \"44\": 1, \"54\": 1, \"9\": 1}, \"39\": {\"39\": 26, \"2\": 1, \"55\": 1}, \"46\": {\"46\": 121, \"21\": 1}, \"14\": {\"56\": 2, \"14\": 7, \"40\": 2, \"9\": 1, \"1\": 2, \"4\": 3, \"52\": 1, \"13\": 2, \"0\": 1, \"32\": 1, \"29\": 1, \"37\": 1}, \"57\": {\"57\": 140, \"2\": 1, \"1\": 1}, \"34\": {\"49\": 3, \"15\": 1, \"34\": 19, \"23\": 3, \"16\": 1, \"54\": 1}, \"1\": {\"48\": 14, \"3\": 3, \"14\": 4, \"1\": 56, \"22\": 2, \"57\": 13, \"40\": 1, \"45\": 1, \"47\": 8, \"55\": 3, \"0\": 3, \"9\": 2, \"44\": 2}, \"53\": {\"49\": 2, \"53\": 91, \"32\": 1, \"54\": 9, \"27\": 1, \"16\": 2, \"29\": 1, \"44\": 2, \"36\": 4, \"40\": 3, \"23\": 5, \"4\": 1, \"9\": 5, \"15\": 1, \"34\": 1, \"51\": 6, \"17\": 1}, \"48\": {\"52\": 1, \"1\": 1, \"48\": 126, \"57\": 2}, \"3\": {\"3\": 47, \"21\": 6, \"6\": 14, \"46\": 13, \"50\": 4, \"5\": 5, \"45\": 2, \"57\": 1}, \"16\": {\"16\": 149, \"25\": 1, \"15\": 1, \"11\": 1}, \"6\": {\"6\": 122, \"3\": 1, \"46\": 1}, \"10\": {\"10\": 112}, \"13\": {\"13\": 112, \"56\": 1, \"38\": 2, \"1\": 1}, \"26\": {\"26\": 16, \"33\": 1, \"49\": 1, \"9\": 1, \"17\": 2, \"32\": 1, \"19\": 1, \"4\": 1}, \"24\": {\"24\": 92, \"11\": 1, \"56\": 1, \"13\": 2}, \"44\": {\"44\": 41, \"33\": 4, \"36\": 2, \"3\": 1, \"4\": 6, \"48\": 2, \"21\": 2, \"45\": 5, \"29\": 7, \"50\": 1, \"40\": 9, \"57\": 5, \"9\": 9, \"5\": 1, \"0\": 1, \"47\": 3, \"46\": 1}, \"27\": {\"27\": 150}, \"22\": {\"22\": 111, \"9\": 1, \"1\": 2, \"56\": 7, \"5\": 3, \"47\": 2, \"0\": 2}, \"33\": {\"44\": 3, \"32\": 2, \"55\": 1, \"42\": 1, \"9\": 2, \"14\": 1, \"33\": 7, \"37\": 1, \"40\": 2, \"29\": 2, \"36\": 1, \"1\": 1, \"27\": 1, \"4\": 1, \"7\": 1, \"39\": 1}, \"47\": {\"47\": 118}, \"5\": {\"5\": 118, \"46\": 2}, \"4\": {\"32\": 4, \"4\": 36, \"20\": 6, \"29\": 9, \"42\": 1, \"33\": 1, \"37\": 1, \"9\": 13, \"48\": 20, \"53\": 1, \"8\": 1, \"57\": 10, \"40\": 14, \"44\": 2, \"19\": 1, \"1\": 2, \"17\": 4, \"36\": 4, \"30\": 2, \"27\": 2, \"50\": 2, \"54\": 1, \"51\": 1}, \"41\": {\"41\": 20}, \"11\": {\"11\": 148, \"42\": 2}, \"54\": {\"32\": 3, \"49\": 1, \"37\": 1, \"54\": 36, \"36\": 6, \"42\": 1, \"9\": 4, \"17\": 7, \"8\": 5, \"4\": 5, \"27\": 7, \"29\": 1, \"40\": 3, \"53\": 11, \"25\": 1, \"23\": 7, \"44\": 6, \"26\": 1, \"55\": 1, \"35\": 1}, \"42\": {\"44\": 1, \"42\": 23, \"55\": 5, \"37\": 1, \"7\": 1, \"2\": 1, \"4\": 1, \"17\": 3}}, \"C_3\": {\"5\": {\"5\": 115, \"46\": 1}, \"32\": {\"51\": 5, \"44\": 2, \"54\": 2, \"14\": 2, \"36\": 1, \"9\": 1, \"32\": 6, \"27\": 2, \"29\": 1, \"57\": 1, \"35\": 2, \"2\": 1, \"4\": 2}, \"33\": {\"33\": 25, \"2\": 2, \"29\": 1}, \"49\": {\"49\": 13, \"43\": 2, \"7\": 2, \"13\": 2, \"4\": 1}, \"39\": {\"39\": 15, \"42\": 1}, \"11\": {\"11\": 136, \"49\": 1, \"43\": 2, \"10\": 1, \"23\": 2}, \"8\": {\"8\": 116}, \"26\": {\"26\": 24}, \"51\": {\"51\": 107, \"8\": 2, \"36\": 2, \"9\": 2, \"19\": 1, \"17\": 3, \"2\": 3, \"4\": 1, \"40\": 1}, \"4\": {\"4\": 40, \"33\": 3, \"27\": 15, \"35\": 3, \"32\": 3, \"48\": 10, \"44\": 7, \"14\": 1, \"30\": 3, \"54\": 4, \"51\": 1, \"1\": 3, \"40\": 9, \"9\": 14, \"29\": 20, \"8\": 2, \"17\": 1, \"36\": 2, \"20\": 1, \"41\": 1, \"2\": 2, \"57\": 1}, \"52\": {\"52\": 118}, \"47\": {\"47\": 87, \"0\": 4, \"5\": 1}, \"17\": {\"17\": 55, \"53\": 2, \"36\": 9, \"51\": 17, \"8\": 8, \"27\": 4, \"9\": 4, \"23\": 3, \"24\": 1, \"54\": 2, \"29\": 1, \"4\": 1, \"40\": 1}, \"53\": {\"17\": 14, \"53\": 77, \"28\": 1, \"40\": 4, \"54\": 4, \"23\": 12, \"36\": 2, \"4\": 4, \"29\": 4, \"27\": 1, \"25\": 3, \"2\": 2, \"51\": 3, \"35\": 2, \"34\": 1, \"15\": 1, \"9\": 1}, \"2\": {\"51\": 4, \"2\": 19, \"33\": 1, \"57\": 2, \"45\": 1, \"29\": 3, \"38\": 1, \"36\": 1}, \"12\": {\"12\": 92}, \"37\": {\"37\": 21, \"40\": 1, \"23\": 2, \"42\": 2, \"32\": 1, \"14\": 1}, \"9\": {\"45\": 2, \"44\": 5, \"33\": 4, \"9\": 40, \"36\": 2, \"4\": 13, \"27\": 7, \"1\": 5, \"47\": 7, \"14\": 3, \"40\": 11, \"48\": 12, \"57\": 12, \"29\": 12, \"13\": 1, \"30\": 6, \"20\": 3, \"34\": 3}, \"13\": {\"13\": 117, \"45\": 1, \"9\": 1, \"55\": 1, \"56\": 4, \"7\": 1, \"49\": 2, \"1\": 1}, \"54\": {\"32\": 1, \"54\": 29, \"38\": 5, \"4\": 8, \"28\": 2, \"20\": 2, \"53\": 10, \"51\": 8, \"29\": 2, \"16\": 2, \"23\": 8, \"36\": 5, \"9\": 1, \"17\": 10, \"40\": 1, \"8\": 1, \"35\": 2, \"2\": 1, \"14\": 2}, \"31\": {\"31\": 27, \"24\": 1}, \"34\": {\"9\": 2, \"31\": 1, \"37\": 5, \"55\": 4, \"29\": 2, \"26\": 2, \"57\": 3, \"34\": 4, \"4\": 2, \"42\": 2, \"54\": 1, \"23\": 3, \"45\": 1}, \"24\": {\"24\": 104}, \"7\": {\"7\": 36}, \"50\": {\"50\": 107, \"3\": 7, \"46\": 1, \"21\": 2, \"6\": 1}, \"46\": {\"21\": 5, \"46\": 121, \"3\": 2}, \"44\": {\"9\": 1, \"44\": 37, \"32\": 1, \"1\": 2, \"45\": 2, \"29\": 5, \"0\": 1, \"4\": 5, \"57\": 2, \"48\": 5, \"5\": 7, \"35\": 2, \"40\": 7, \"34\": 1, \"3\": 3, \"54\": 1, \"36\": 1, \"50\": 1, \"47\": 1, \"21\": 2, \"17\": 1}, \"40\": {\"45\": 4, \"4\": 12, \"40\": 35, \"41\": 1, \"0\": 2, \"54\": 3, \"35\": 1, \"47\": 1, \"44\": 8, \"9\": 17, \"48\": 11, \"21\": 2, \"57\": 5, \"29\": 7, \"36\": 1, \"13\": 1, \"5\": 3, \"34\": 1, \"25\": 1}, \"21\": {\"21\": 121, \"50\": 3, \"12\": 1, \"48\": 1, \"3\": 2}, \"45\": {\"50\": 9, \"9\": 1, \"45\": 15, \"12\": 6, \"20\": 2, \"52\": 2, \"46\": 1, \"3\": 3, \"21\": 14, \"1\": 3, \"5\": 1, \"57\": 2, \"47\": 1}, \"16\": {\"16\": 125, \"15\": 1}, \"14\": {\"14\": 10, \"13\": 2, \"56\": 5, \"34\": 1, \"55\": 2, \"35\": 2, \"7\": 5, \"0\": 2, \"57\": 1, \"29\": 3, \"22\": 2, \"44\": 1, \"1\": 2, \"32\": 1, \"4\": 1}, \"36\": {\"36\": 55, \"17\": 8, \"9\": 2, \"38\": 2, \"2\": 8, \"53\": 2, \"51\": 10, \"29\": 5, \"54\": 1, \"23\": 1, \"32\": 2, \"27\": 4}, \"56\": {\"56\": 110, \"0\": 4}, \"10\": {\"10\": 64}, \"18\": {\"18\": 84}, \"48\": {\"48\": 116}, \"38\": {\"38\": 27, \"36\": 1}, \"27\": {\"27\": 120, \"8\": 8, \"2\": 1, \"17\": 1}, \"42\": {\"42\": 22, \"37\": 2, \"55\": 4}, \"15\": {\"15\": 127, \"11\": 3, \"26\": 1, \"16\": 2, \"23\": 1}, \"1\": {\"1\": 40, \"0\": 9, \"14\": 1, \"57\": 11, \"47\": 7, \"13\": 1, \"5\": 2, \"4\": 3, \"45\": 2, \"9\": 6, \"40\": 1, \"29\": 2, \"44\": 1, \"48\": 6, \"22\": 5, \"41\": 1, \"55\": 2}, \"28\": {\"15\": 4, \"28\": 7, \"11\": 7, \"35\": 4, \"4\": 1, \"10\": 1, \"53\": 1, \"42\": 2, \"23\": 1}, \"43\": {\"43\": 136}, \"0\": {\"0\": 124}, \"57\": {\"57\": 77, \"4\": 2, \"34\": 1, \"47\": 10, \"1\": 6, \"48\": 11, \"9\": 3, \"40\": 1, \"55\": 1, \"37\": 1, \"42\": 2, \"0\": 3, \"33\": 1, \"29\": 3, \"30\": 2}, \"3\": {\"3\": 112, \"6\": 6, \"5\": 6, \"21\": 10, \"46\": 10, \"50\": 4}, \"29\": {\"32\": 3, \"57\": 15, \"4\": 21, \"44\": 8, \"14\": 4, \"33\": 1, \"40\": 8, \"34\": 1, \"29\": 28, \"1\": 5, \"36\": 2, \"9\": 8, \"48\": 4, \"30\": 1, \"53\": 1, \"55\": 8, \"20\": 1, \"52\": 4, \"45\": 1}, \"41\": {\"41\": 25, \"50\": 2, \"32\": 1}, \"25\": {\"25\": 134, \"54\": 1, \"53\": 3, \"18\": 3, \"16\": 3, \"4\": 1, \"44\": 1}, \"6\": {\"6\": 86, \"3\": 2}, \"35\": {\"4\": 3, \"35\": 13, \"42\": 1, \"29\": 2, \"44\": 1, \"57\": 1, \"36\": 1, \"14\": 2, \"54\": 2, \"47\": 1, \"17\": 1}, \"20\": {\"20\": 126}, \"23\": {\"23\": 132, \"55\": 1, \"15\": 1}, \"22\": {\"22\": 136, \"56\": 4}, \"19\": {\"19\": 74, \"42\": 1, \"4\": 6, \"51\": 1, \"28\": 1, \"53\": 5, \"35\": 2, \"23\": 2, \"44\": 3, \"36\": 1, \"54\": 6, \"9\": 4, \"40\": 2, \"17\": 2, \"25\": 1, \"38\": 1, \"29\": 4}, \"55\": {\"55\": 122, \"54\": 2}, \"30\": {\"30\": 120}}, \"C_1\": {\"24\": {\"24\": 107, \"11\": 1}, \"25\": {\"26\": 2, \"25\": 125, \"53\": 3, \"16\": 7, \"19\": 1, \"1\": 1, \"29\": 1}, \"45\": {\"45\": 144}, \"42\": {\"17\": 1, \"42\": 14, \"37\": 2, \"55\": 4, \"35\": 2, \"47\": 1, \"33\": 2, \"19\": 3, \"32\": 1, \"51\": 4, \"7\": 2, \"29\": 1, \"57\": 2, \"54\": 1}, \"2\": {\"2\": 30, \"48\": 4, \"8\": 2}, \"9\": {\"9\": 147, \"54\": 1, \"30\": 2}, \"21\": {\"21\": 124}, \"26\": {\"26\": 17, \"34\": 2, \"40\": 1, \"25\": 2, \"41\": 2}, \"49\": {\"49\": 32}, \"39\": {\"39\": 21, \"31\": 3, \"43\": 1, \"49\": 2, \"52\": 1}, \"46\": {\"46\": 120, \"44\": 1, \"6\": 3, \"5\": 7, \"45\": 4, \"50\": 1}, \"17\": {\"17\": 39, \"42\": 2, \"1\": 2, \"9\": 8, \"48\": 4, \"54\": 1, \"40\": 1, \"26\": 4, \"51\": 2, \"53\": 1}, \"19\": {\"29\": 13, \"26\": 2, \"42\": 7, \"19\": 59, \"35\": 7, \"37\": 1, \"40\": 10, \"51\": 10, \"57\": 3, \"17\": 5, \"16\": 7, \"4\": 8, \"1\": 2, \"9\": 3, \"54\": 6, \"53\": 8, \"25\": 2, \"55\": 1, \"34\": 2}, \"23\": {\"23\": 131, \"15\": 1}, \"1\": {\"1\": 39, \"29\": 9, \"40\": 7, \"4\": 4, \"7\": 3, \"13\": 16, \"42\": 1, \"55\": 2, \"30\": 4, \"47\": 2, \"57\": 8, \"37\": 1, \"56\": 3, \"32\": 1}, \"29\": {\"29\": 49, \"4\": 20, \"32\": 2, \"57\": 12, \"19\": 13, \"1\": 4, \"44\": 8, \"55\": 3, \"40\": 7, \"56\": 4, \"47\": 6, \"13\": 8, \"20\": 2, \"54\": 1, \"7\": 1}, \"56\": {\"45\": 25, \"56\": 94, \"5\": 3, \"13\": 3, \"46\": 2, \"20\": 11, \"29\": 1, \"47\": 3, \"0\": 1, \"57\": 1, \"44\": 4, \"3\": 1, \"1\": 1}, \"37\": {\"37\": 23, \"42\": 2, \"51\": 2, \"55\": 2, \"33\": 3}, \"33\": {\"33\": 30, \"37\": 2}, \"55\": {\"55\": 142}, \"30\": {\"30\": 120}, \"0\": {\"0\": 152}, \"36\": {\"36\": 64}, \"32\": {\"32\": 29, \"38\": 2, \"47\": 1}, \"31\": {\"31\": 28}, \"15\": {\"15\": 138}, \"12\": {\"12\": 112, \"20\": 4}, \"38\": {\"0\": 2, \"38\": 21, \"21\": 1}, \"40\": {\"40\": 56, \"29\": 12, \"44\": 6, \"56\": 11, \"39\": 1, \"42\": 1, \"46\": 2, \"4\": 9, \"45\": 2, \"19\": 6, \"17\": 3, \"13\": 11, \"3\": 4, \"57\": 7, \"47\": 4, \"14\": 1, \"20\": 4, \"35\": 3, \"1\": 3}, \"14\": {\"14\": 23, \"30\": 1}, \"13\": {\"44\": 4, \"13\": 94, \"57\": 6, \"1\": 3, \"56\": 11, \"12\": 11, \"45\": 4, \"20\": 5, \"27\": 1, \"3\": 3, \"46\": 1, \"29\": 1, \"42\": 1, \"21\": 2, \"40\": 1, \"0\": 1, \"47\": 1}, \"48\": {\"48\": 143, \"9\": 1, \"8\": 3, \"2\": 1}, \"34\": {\"34\": 21, \"33\": 2, \"41\": 1}, \"44\": {\"44\": 59, \"57\": 5, \"5\": 3, \"45\": 11, \"56\": 22, \"3\": 15, \"47\": 4, \"20\": 8, \"13\": 2, \"29\": 1}, \"5\": {\"5\": 152}, \"11\": {\"11\": 136, \"10\": 4}, \"7\": {\"7\": 28}, \"18\": {\"18\": 72}, \"52\": {\"52\": 132}, \"51\": {\"51\": 140, \"55\": 1, \"8\": 1}, \"41\": {\"41\": 20, \"51\": 2, \"9\": 2}, \"16\": {\"16\": 138, \"25\": 2}, \"22\": {\"22\": 125, \"0\": 1, \"52\": 8}, \"3\": {\"3\": 109, \"0\": 7, \"20\": 15, \"44\": 3, \"13\": 3, \"45\": 1, \"12\": 1, \"57\": 1}, \"54\": {\"54\": 61, \"34\": 2, \"41\": 1, \"55\": 11, \"29\": 1, \"13\": 1, \"37\": 2, \"1\": 4, \"51\": 4, \"4\": 1, \"57\": 2, \"17\": 3, \"19\": 1, \"40\": 1, \"23\": 8, \"47\": 1}, \"27\": {\"27\": 139, \"47\": 1, \"22\": 2, \"44\": 1, \"20\": 1}, \"20\": {\"20\": 139, \"3\": 1}, \"8\": {\"8\": 136, \"9\": 1, \"48\": 1}, \"50\": {\"50\": 144}, \"57\": {\"57\": 56, \"47\": 9, \"13\": 10, \"1\": 12, \"4\": 3, \"46\": 1, \"40\": 7, \"20\": 3, \"44\": 9, \"45\": 5, \"12\": 4, \"56\": 17, \"7\": 1, \"54\": 2, \"29\": 1}, \"4\": {\"4\": 43, \"40\": 20, \"14\": 1, \"35\": 2, \"29\": 13, \"19\": 8, \"7\": 1, \"47\": 3, \"56\": 4, \"13\": 10, \"30\": 4, \"57\": 7, \"6\": 3, \"1\": 4, \"46\": 3, \"44\": 2, \"45\": 2, \"12\": 1, \"8\": 1}, \"47\": {\"47\": 66, \"20\": 3, \"32\": 2, \"44\": 11, \"3\": 8, \"27\": 19, \"13\": 11, \"40\": 3, \"4\": 1, \"57\": 5, \"22\": 5, \"52\": 3, \"54\": 1, \"21\": 2, \"29\": 3, \"56\": 1, \"43\": 1, \"1\": 1}, \"10\": {\"10\": 96}, \"35\": {\"35\": 23, \"29\": 3, \"19\": 3, \"32\": 1, \"42\": 1, \"54\": 1, \"47\": 1, \"31\": 1, \"7\": 1, \"55\": 1}, \"53\": {\"53\": 111, \"29\": 1, \"25\": 3, \"17\": 3, \"16\": 4, \"1\": 1, \"42\": 1, \"37\": 1, \"4\": 1}, \"6\": {\"6\": 95, \"50\": 1}, \"43\": {\"43\": 140}, \"28\": {\"28\": 28}}, \"C_5\": {\"35\": {\"5\": 1, \"35\": 17, \"47\": 2, \"55\": 2, \"2\": 1, \"36\": 2, \"14\": 2, \"29\": 1, \"34\": 1, \"33\": 1, \"49\": 1, \"43\": 5}, \"57\": {\"57\": 132}, \"20\": {\"20\": 143, \"30\": 1}, \"12\": {\"12\": 96}, \"32\": {\"37\": 1, \"32\": 10, \"55\": 2, \"33\": 2, \"29\": 1, \"4\": 2, \"41\": 1, \"54\": 2, \"36\": 2, \"27\": 5, \"40\": 1, \"51\": 2, \"7\": 1}, \"25\": {\"25\": 105, \"18\": 9, \"17\": 2, \"53\": 12, \"16\": 1, \"42\": 1, \"19\": 1, \"26\": 2, \"36\": 1, \"29\": 1, \"55\": 1, \"23\": 2}, \"44\": {\"32\": 3, \"5\": 10, \"29\": 5, \"44\": 28, \"55\": 1, \"3\": 7, \"21\": 5, \"56\": 13, \"4\": 6, \"45\": 1, \"0\": 9, \"36\": 7, \"40\": 19, \"52\": 2, \"47\": 5, \"34\": 1, \"50\": 8, \"46\": 2, \"27\": 4, \"9\": 5, \"48\": 2, \"6\": 2, \"14\": 1, \"22\": 1, \"35\": 1}, \"31\": {\"31\": 35, \"27\": 1}, \"11\": {\"11\": 144, \"15\": 6}, \"47\": {\"47\": 100}, \"23\": {\"23\": 122, \"42\": 2}, \"43\": {\"43\": 142, \"2\": 2}, \"37\": {\"43\": 2, \"37\": 18, \"31\": 2, \"33\": 1, \"32\": 1}, \"5\": {\"57\": 5, \"5\": 34, \"44\": 9, \"50\": 12, \"29\": 7, \"9\": 8, \"55\": 3, \"45\": 11, \"22\": 2, \"40\": 10, \"21\": 3, \"4\": 5, \"3\": 6, \"36\": 4, \"48\": 2, \"47\": 3, \"49\": 1, \"32\": 1, \"27\": 2}, \"45\": {\"45\": 74, \"6\": 25, \"21\": 1, \"40\": 2, \"12\": 1, \"3\": 1, \"50\": 10, \"9\": 4, \"5\": 2, \"44\": 1, \"30\": 2, \"48\": 1}, \"7\": {\"7\": 32}, \"13\": {\"13\": 135, \"56\": 1}, \"49\": {\"49\": 25, \"27\": 2, \"47\": 2, \"35\": 2, \"37\": 1, \"2\": 1, \"44\": 1, \"36\": 1, \"43\": 1}, \"46\": {\"46\": 145, \"52\": 1, \"3\": 1, \"0\": 1}, \"16\": {\"16\": 135, \"11\": 1}, \"54\": {\"54\": 75, \"55\": 4, \"27\": 3, \"41\": 2, \"36\": 1, \"32\": 1, \"51\": 5, \"34\": 1, \"1\": 2, \"17\": 2, \"44\": 2, \"23\": 6, \"8\": 4, \"39\": 4}, \"19\": {\"55\": 15, \"34\": 7, \"26\": 1, \"53\": 9, \"19\": 84, \"41\": 1, \"17\": 6, \"27\": 4, \"44\": 1, \"48\": 1, \"29\": 5, \"4\": 2, \"51\": 2, \"5\": 2, \"25\": 2, \"54\": 4, \"28\": 2, \"40\": 1, \"32\": 2, \"36\": 1}, \"55\": {\"54\": 11, \"55\": 59, \"39\": 1, \"41\": 1, \"17\": 18, \"38\": 2, \"36\": 3, \"34\": 1, \"51\": 12, \"29\": 10, \"27\": 6, \"23\": 11, \"4\": 4, \"25\": 1, \"53\": 3, \"9\": 1, \"5\": 1, \"44\": 2, \"32\": 1, \"19\": 1, \"40\": 1}, \"30\": {\"30\": 128}, \"34\": {\"19\": 4, \"49\": 2, \"5\": 1, \"26\": 1, \"41\": 1, \"36\": 3, \"43\": 3, \"54\": 4, \"33\": 3, \"34\": 9, \"4\": 1, \"44\": 1, \"14\": 2, \"2\": 1}, \"50\": {\"3\": 1, \"50\": 107, \"6\": 13, \"9\": 3, \"1\": 1, \"45\": 5, \"46\": 1, \"47\": 1, \"40\": 1, \"12\": 1}, \"3\": {\"3\": 95, \"0\": 4, \"46\": 1}, \"10\": {\"10\": 67, \"24\": 1}, \"27\": {\"54\": 5, \"27\": 50, \"8\": 10, \"39\": 2, \"32\": 3, \"1\": 5, \"48\": 16, \"7\": 2, \"51\": 13, \"34\": 1, \"36\": 3, \"29\": 5, \"4\": 1, \"44\": 7, \"5\": 4, \"55\": 6, \"9\": 2, \"20\": 1, \"30\": 2, \"33\": 1, \"17\": 2, \"40\": 1}, \"33\": {\"55\": 2, \"28\": 3, \"39\": 1, \"33\": 9, \"17\": 2, \"27\": 1, \"51\": 1, \"54\": 4, \"48\": 1, \"5\": 2, \"34\": 2, \"41\": 2, \"19\": 1, \"36\": 1}, \"56\": {\"56\": 142}, \"9\": {\"9\": 42, \"47\": 2, \"7\": 1, \"48\": 6, \"1\": 37, \"44\": 3, \"4\": 5, \"50\": 2, \"5\": 10, \"14\": 1, \"20\": 2, \"27\": 7, \"57\": 5, \"21\": 8, \"30\": 10, \"22\": 1, \"29\": 1, \"6\": 2, \"40\": 3, \"36\": 1, \"51\": 1}, \"14\": {\"14\": 26, \"47\": 2, \"57\": 2, \"1\": 2, \"51\": 1, \"37\": 2, \"56\": 1, \"2\": 2, \"27\": 1, \"13\": 2, \"48\": 1, \"21\": 1, \"0\": 1}, \"4\": {\"4\": 36, \"40\": 4, \"14\": 1, \"1\": 13, \"44\": 7, \"57\": 2, \"36\": 4, \"45\": 4, \"50\": 1, \"29\": 6, \"55\": 8, \"5\": 1, \"30\": 2, \"21\": 2, \"27\": 1, \"9\": 2, \"32\": 2, \"6\": 1, \"48\": 1, \"54\": 1, \"20\": 1}, \"42\": {\"42\": 39, \"23\": 1}, \"24\": {\"24\": 80}, \"39\": {\"39\": 20}, \"52\": {\"52\": 130}, \"2\": {\"2\": 28}, \"28\": {\"28\": 13, \"55\": 2, \"53\": 3, \"19\": 2, \"25\": 2, \"33\": 4, \"15\": 1, \"5\": 1, \"4\": 1, \"16\": 3}, \"53\": {\"53\": 113, \"17\": 2, \"4\": 1, \"25\": 1, \"23\": 1, \"55\": 3, \"42\": 1}, \"17\": {\"17\": 60, \"38\": 3, \"55\": 11, \"27\": 8, \"51\": 10, \"29\": 4, \"23\": 2, \"34\": 1, \"44\": 1, \"25\": 1, \"53\": 7, \"4\": 1, \"48\": 3, \"7\": 2, \"40\": 1, \"54\": 1}, \"29\": {\"47\": 11, \"29\": 34, \"37\": 1, \"9\": 4, \"5\": 9, \"44\": 5, \"14\": 4, \"36\": 9, \"27\": 3, \"40\": 13, \"34\": 1, \"46\": 1, \"57\": 15, \"43\": 1, \"1\": 5, \"4\": 4, \"21\": 3, \"55\": 2, \"56\": 4, \"28\": 2, \"54\": 1}, \"38\": {\"38\": 29, \"51\": 2, \"7\": 1}, \"15\": {\"15\": 144}, \"26\": {\"26\": 13, \"53\": 3, \"28\": 1, \"17\": 4, \"34\": 1, \"42\": 1, \"55\": 1}, \"21\": {\"21\": 134, \"50\": 1, \"9\": 1, \"52\": 3, \"47\": 3, \"3\": 1, \"20\": 1}, \"41\": {\"41\": 25, \"39\": 1, \"20\": 2}, \"48\": {\"30\": 9, \"20\": 7, \"48\": 69, \"21\": 2, \"54\": 2, \"1\": 26, \"17\": 2, \"44\": 1, \"8\": 1, \"5\": 1, \"14\": 1, \"9\": 6, \"7\": 1, \"57\": 3, \"55\": 1, \"27\": 3, \"29\": 1}, \"22\": {\"22\": 13, \"44\": 2, \"5\": 1, \"3\": 2, \"4\": 1, \"43\": 1, \"56\": 6, \"55\": 1, \"54\": 1}, \"8\": {\"8\": 148}, \"18\": {\"18\": 64}, \"0\": {\"0\": 122}, \"1\": {\"1\": 128, \"9\": 5, \"57\": 1, \"48\": 2, \"20\": 2}, \"40\": {\"40\": 33, \"47\": 7, \"4\": 4, \"5\": 8, \"57\": 7, \"33\": 2, \"55\": 2, \"0\": 3, \"14\": 1, \"29\": 17, \"44\": 11, \"45\": 1, \"56\": 7, \"36\": 7, \"17\": 1, \"27\": 3, \"9\": 4, \"21\": 2, \"50\": 1, \"54\": 2, \"48\": 1}, \"6\": {\"6\": 120, \"45\": 6, \"50\": 2}, \"51\": {\"51\": 133, \"54\": 1, \"48\": 4, \"27\": 1, \"55\": 1, \"32\": 1, \"53\": 1}, \"36\": {\"36\": 38, \"49\": 2, \"37\": 2, \"44\": 2, \"14\": 3, \"48\": 3, \"27\": 6, \"43\": 3, \"4\": 4, \"47\": 3, \"34\": 3, \"57\": 3, \"9\": 2, \"55\": 2, \"56\": 3, \"5\": 1, \"40\": 2, \"25\": 1, \"33\": 1, \"35\": 1, \"32\": 1, \"22\": 1, \"29\": 3, \"1\": 1, \"17\": 1}}}, \"per_domain_accuracy\": {\"O_50\": {\"accuracy\": 0.8921875, \"source?\": true}, \"O_14\": {\"accuracy\": 0.8484375, \"source?\": true}, \"O_32\": {\"accuracy\": 0.8484375, \"source?\": true}, \"O_44\": {\"accuracy\": 0.80390625, \"source?\": true}, \"O_8\": {\"accuracy\": 0.8528645833333334, \"source?\": true}, \"O_20\": {\"accuracy\": 0.8057291666666667, \"source?\": true}, \"O_38\": {\"accuracy\": 0.8953125, \"source?\": true}, \"O_26\": {\"accuracy\": 0.7809895833333333, \"source?\": true}, \"C_4\": {\"accuracy\": 0.7776515151515152, \"source?\": false}, \"C_2\": {\"accuracy\": 0.7831811797752809, \"source?\": false}, \"C_3\": {\"accuracy\": 0.7832961309523809, \"source?\": false}, \"C_1\": {\"accuracy\": 0.8236486486486486, \"source?\": false}, \"C_5\": {\"accuracy\": 0.7561103351955307, \"source?\": false}}}, \"history\": {\"epoch_indices\": [1, 2, 3, 4, 5, 6], \"train_label_loss\": [0.8052958529109934, 1.355025672048907, 0.40096399744617794, 0.3704979056392663, 0.3574462940944137, 0.3350142357726803], \"source_val_label_loss\": [105.71754455566406, 0.4406093955039978, 0.4218178391456604, 0.3854433298110962, 0.34482187032699585, 0.3961615562438965], \"target_val_label_loss\": [1333.32275390625, 227.09820556640625, 346.2173767089844, 367.62548828125, 326.64813232421875, 1403.0203857421875], \"source_val_acc_label\": [0.5381510416666667, 0.8409830729166666, 0.85380859375, 0.8597981770833333, 0.8784830729166667, 0.8650065104166667], \"target_val_acc_label\": [0.47175, 0.7851785714285714, 0.7538928571428571, 0.7372857142857143, 0.7362142857142857, 0.46103571428571427]}, \"dataset_metrics\": {\"source\": {\"train\": {\"n_unique_x\": 179200, \"n_unique_y\": 16, \"n_batch/episode\": 6720}, \"val\": {\"n_unique_x\": 38400, \"n_unique_y\": 16, \"n_batch/episode\": 960}, \"test\": {\"n_unique_x\": 38400, \"n_unique_y\": 16, \"n_batch/episode\": 960}}, \"target\": {\"train\": {\"n_unique_x\": 175197, \"n_unique_y\": 58, \"n_batch/episode\": 6309}, \"val\": {\"n_unique_x\": 37166, \"n_unique_y\": 58, \"n_batch/episode\": 875}, \"test\": {\"n_unique_x\": 37642, \"n_unique_y\": 58, \"n_batch/episode\": 890}}}}'"
      ]
     },
     "execution_count": 29,
     "metadata": {},
     "output_type": "execute_result"
    }
   ],
   "source": [
    "json.dumps(experiment)"
   ]
  }
 ],
 "metadata": {
  "celltoolbar": "Tags",
  "kernelspec": {
   "display_name": "Python 3 (ipykernel)",
   "language": "python",
   "name": "python3"
  },
  "language_info": {
   "codemirror_mode": {
    "name": "ipython",
    "version": 3
   },
   "file_extension": ".py",
   "mimetype": "text/x-python",
   "name": "python",
   "nbconvert_exporter": "python",
   "pygments_lexer": "ipython3",
   "version": "3.8.12"
  },
  "papermill": {
   "default_parameters": {},
   "duration": 987.485398,
   "end_time": "2022-03-28T18:33:28.993611",
   "environment_variables": {},
   "exception": null,
   "input_path": "/root/csc500-main/csc500-notebooks/templates/tl_ptn_template.ipynb",
   "output_path": "trial.ipynb",
   "parameters": {
    "parameters": {
     "BEST_MODEL_PATH": "./best_model.pth",
     "NUM_LOGS_PER_EPOCH": 10,
     "criteria_for_best": "target_accuracy",
     "dataset_seed": 500,
     "datasets": [
      {
       "domain_prefix": "C_",
       "domains": [
        1,
        2,
        3,
        4,
        5
       ],
       "episode_transforms": [],
       "labels": [
        "1-10.",
        "1-11.",
        "1-15.",
        "1-16.",
        "1-17.",
        "1-18.",
        "1-19.",
        "10-4.",
        "10-7.",
        "11-1.",
        "11-14.",
        "11-17.",
        "11-20.",
        "11-7.",
        "13-20.",
        "13-8.",
        "14-10.",
        "14-11.",
        "14-14.",
        "14-7.",
        "15-1.",
        "15-20.",
        "16-1.",
        "16-16.",
        "17-10.",
        "17-11.",
        "17-2.",
        "19-1.",
        "19-16.",
        "19-19.",
        "19-20.",
        "19-3.",
        "2-10.",
        "2-11.",
        "2-17.",
        "2-18.",
        "2-20.",
        "2-3.",
        "2-4.",
        "2-5.",
        "2-6.",
        "2-7.",
        "2-8.",
        "3-13.",
        "3-18.",
        "3-3.",
        "4-1.",
        "4-10.",
        "4-11.",
        "4-19.",
        "5-5.",
        "6-15.",
        "7-10.",
        "7-14.",
        "8-18.",
        "8-20.",
        "8-3.",
        "8-8."
       ],
       "num_examples_per_domain_per_label": -1,
       "pickle_path": "/root/csc500-main/datasets/cores.stratified_ds.2022A.pkl",
       "source_or_target_dataset": "target",
       "x_transforms": [
        "jitter_256_5",
        "lowpass_+/-10MHz",
        "take_200"
       ]
      },
      {
       "domain_prefix": "O_",
       "domains": [
        32,
        38,
        8,
        44,
        14,
        50,
        20,
        26
       ],
       "episode_transforms": [],
       "labels": [
        "3123D52",
        "3123D65",
        "3123D79",
        "3123D80",
        "3123D54",
        "3123D70",
        "3123D7B",
        "3123D89",
        "3123D58",
        "3123D76",
        "3123D7D",
        "3123EFE",
        "3123D64",
        "3123D78",
        "3123D7E",
        "3124E4A"
       ],
       "num_examples_per_domain_per_label": 2000,
       "pickle_path": "/root/csc500-main/datasets/oracle.Run1_framed_2000Examples_stratified_ds.2022A.pkl",
       "source_or_target_dataset": "source",
       "x_transforms": [
        "jitter_256_5",
        "take_200",
        "resample_20Msps_to_25Msps"
       ]
      }
     ],
     "device": "cuda",
     "experiment_name": "tl_3-jitter5v2:oracle.run1.framed -> cores",
     "lr": 0.0001,
     "n_epoch": 50,
     "n_query": 2,
     "n_shot": 3,
     "n_way": 16,
     "patience": 3,
     "seed": 500,
     "test_k_factor": 2,
     "torch_default_dtype": "torch.float32",
     "train_k_factor": 3,
     "val_k_factor": 2,
     "x_net": [
      {
       "class": "nnReshape",
       "kargs": {
        "shape": [
         -1,
         1,
         2,
         256
        ]
       }
      },
      {
       "class": "Conv2d",
       "kargs": {
        "bias": false,
        "in_channels": 1,
        "kernel_size": [
         1,
         7
        ],
        "out_channels": 256,
        "padding": [
         0,
         3
        ]
       }
      },
      {
       "class": "ReLU",
       "kargs": {
        "inplace": true
       }
      },
      {
       "class": "BatchNorm2d",
       "kargs": {
        "num_features": 256
       }
      },
      {
       "class": "Conv2d",
       "kargs": {
        "bias": true,
        "in_channels": 256,
        "kernel_size": [
         2,
         7
        ],
        "out_channels": 80,
        "padding": [
         0,
         3
        ]
       }
      },
      {
       "class": "ReLU",
       "kargs": {
        "inplace": true
       }
      },
      {
       "class": "BatchNorm2d",
       "kargs": {
        "num_features": 80
       }
      },
      {
       "class": "Flatten",
       "kargs": {}
      },
      {
       "class": "Linear",
       "kargs": {
        "in_features": 20480,
        "out_features": 256
       }
      },
      {
       "class": "ReLU",
       "kargs": {
        "inplace": true
       }
      },
      {
       "class": "BatchNorm1d",
       "kargs": {
        "num_features": 256
       }
      },
      {
       "class": "Linear",
       "kargs": {
        "in_features": 256,
        "out_features": 256
       }
      }
     ],
     "x_shape": [
      2,
      256
     ]
    }
   },
   "start_time": "2022-03-28T18:17:01.508213",
   "version": "2.3.4"
  }
 },
 "nbformat": 4,
 "nbformat_minor": 5
}