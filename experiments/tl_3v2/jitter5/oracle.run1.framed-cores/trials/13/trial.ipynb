{
 "cells": [
  {
   "cell_type": "markdown",
   "id": "9fea5f46",
   "metadata": {
    "papermill": {
     "duration": 0.047646,
     "end_time": "2022-03-28T17:53:45.224210",
     "exception": false,
     "start_time": "2022-03-28T17:53:45.176564",
     "status": "completed"
    },
    "tags": []
   },
   "source": [
    "# Transfer Learning Template"
   ]
  },
  {
   "cell_type": "code",
   "execution_count": 1,
   "id": "0902182a",
   "metadata": {
    "execution": {
     "iopub.execute_input": "2022-03-28T17:53:45.281323Z",
     "iopub.status.busy": "2022-03-28T17:53:45.275158Z",
     "iopub.status.idle": "2022-03-28T17:53:47.128556Z",
     "shell.execute_reply": "2022-03-28T17:53:47.128139Z"
    },
    "papermill": {
     "duration": 1.885585,
     "end_time": "2022-03-28T17:53:47.128663",
     "exception": false,
     "start_time": "2022-03-28T17:53:45.243078",
     "status": "completed"
    },
    "tags": []
   },
   "outputs": [],
   "source": [
    "%load_ext autoreload\n",
    "%autoreload 2\n",
    "%matplotlib inline\n",
    "\n",
    "    \n",
    "import os, json, sys, time, random\n",
    "import numpy as np\n",
    "import torch\n",
    "from torch.optim import Adam\n",
    "from  easydict import EasyDict\n",
    "import matplotlib.pyplot as plt\n",
    "\n",
    "from steves_models.steves_ptn import Steves_Prototypical_Network\n",
    "\n",
    "from steves_utils.lazy_iterable_wrapper import Lazy_Iterable_Wrapper\n",
    "from steves_utils.iterable_aggregator import Iterable_Aggregator\n",
    "from steves_utils.ptn_train_eval_test_jig import  PTN_Train_Eval_Test_Jig\n",
    "from steves_utils.torch_sequential_builder import build_sequential\n",
    "from steves_utils.torch_utils import get_dataset_metrics, ptn_confusion_by_domain_over_dataloader\n",
    "from steves_utils.utils_v2 import (per_domain_accuracy_from_confusion, get_datasets_base_path)\n",
    "from steves_utils.PTN.utils import independent_accuracy_assesment\n",
    "\n",
    "from torch.utils.data import DataLoader\n",
    "\n",
    "from steves_utils.stratified_dataset.episodic_accessor import Episodic_Accessor_Factory\n",
    "\n",
    "from steves_utils.ptn_do_report import (\n",
    "    get_loss_curve,\n",
    "    get_results_table,\n",
    "    get_parameters_table,\n",
    "    get_domain_accuracies,\n",
    ")\n",
    "\n",
    "from steves_utils.transforms import get_chained_transform"
   ]
  },
  {
   "cell_type": "markdown",
   "id": "41c840b4",
   "metadata": {
    "papermill": {
     "duration": 0.01933,
     "end_time": "2022-03-28T17:53:47.167955",
     "exception": false,
     "start_time": "2022-03-28T17:53:47.148625",
     "status": "completed"
    },
    "tags": []
   },
   "source": [
    "# Allowed Parameters\n",
    "These are allowed parameters, not defaults\n",
    "Each of these values need to be present in the injected parameters (the notebook will raise an exception if they are not present)\n",
    "\n",
    "Papermill uses the cell tag \"parameters\" to inject the real parameters below this cell.\n",
    "Enable tags to see what I mean"
   ]
  },
  {
   "cell_type": "code",
   "execution_count": 2,
   "id": "fd44eb83",
   "metadata": {
    "execution": {
     "iopub.execute_input": "2022-03-28T17:53:47.210647Z",
     "iopub.status.busy": "2022-03-28T17:53:47.210024Z",
     "iopub.status.idle": "2022-03-28T17:53:47.229954Z",
     "shell.execute_reply": "2022-03-28T17:53:47.229139Z"
    },
    "papermill": {
     "duration": 0.042919,
     "end_time": "2022-03-28T17:53:47.230121",
     "exception": false,
     "start_time": "2022-03-28T17:53:47.187202",
     "status": "completed"
    },
    "tags": []
   },
   "outputs": [],
   "source": [
    "required_parameters = {\n",
    "    \"experiment_name\",\n",
    "    \"lr\",\n",
    "    \"device\",\n",
    "    \"seed\",\n",
    "    \"dataset_seed\",\n",
    "    \"n_shot\",\n",
    "    \"n_query\",\n",
    "    \"n_way\",\n",
    "    \"train_k_factor\",\n",
    "    \"val_k_factor\",\n",
    "    \"test_k_factor\",\n",
    "    \"n_epoch\",\n",
    "    \"patience\",\n",
    "    \"criteria_for_best\",\n",
    "    \"x_net\",\n",
    "    \"datasets\",\n",
    "    \"torch_default_dtype\",\n",
    "    \"NUM_LOGS_PER_EPOCH\",\n",
    "    \"BEST_MODEL_PATH\",\n",
    "    \"x_shape\",\n",
    "}"
   ]
  },
  {
   "cell_type": "code",
   "execution_count": 3,
   "id": "fa3f0049",
   "metadata": {
    "execution": {
     "iopub.execute_input": "2022-03-28T17:53:47.294140Z",
     "iopub.status.busy": "2022-03-28T17:53:47.293156Z",
     "iopub.status.idle": "2022-03-28T17:53:47.317505Z",
     "shell.execute_reply": "2022-03-28T17:53:47.316644Z"
    },
    "papermill": {
     "duration": 0.058474,
     "end_time": "2022-03-28T17:53:47.317691",
     "exception": false,
     "start_time": "2022-03-28T17:53:47.259217",
     "status": "completed"
    },
    "tags": [
     "parameters"
    ]
   },
   "outputs": [],
   "source": [
    "from steves_utils.CORES.utils import (\n",
    "    ALL_NODES,\n",
    "    ALL_NODES_MINIMUM_1000_EXAMPLES,\n",
    "    ALL_DAYS\n",
    ")\n",
    "\n",
    "from steves_utils.ORACLE.utils_v2 import (\n",
    "    ALL_DISTANCES_FEET_NARROWED,\n",
    "    ALL_RUNS,\n",
    "    ALL_SERIAL_NUMBERS,\n",
    ")\n",
    "\n",
    "standalone_parameters = {}\n",
    "standalone_parameters[\"experiment_name\"] = \"STANDALONE PTN\"\n",
    "standalone_parameters[\"lr\"] = 0.001\n",
    "standalone_parameters[\"device\"] = \"cuda\"\n",
    "\n",
    "standalone_parameters[\"seed\"] = 1337\n",
    "standalone_parameters[\"dataset_seed\"] = 1337\n",
    "\n",
    "standalone_parameters[\"n_way\"] = 8\n",
    "standalone_parameters[\"n_shot\"] = 3\n",
    "standalone_parameters[\"n_query\"]  = 2\n",
    "standalone_parameters[\"train_k_factor\"] = 1\n",
    "standalone_parameters[\"val_k_factor\"] = 2\n",
    "standalone_parameters[\"test_k_factor\"] = 2\n",
    "\n",
    "\n",
    "standalone_parameters[\"n_epoch\"] = 50\n",
    "\n",
    "standalone_parameters[\"patience\"] = 10\n",
    "standalone_parameters[\"criteria_for_best\"] = \"source_loss\"\n",
    "\n",
    "standalone_parameters[\"datasets\"] = [\n",
    "    {\n",
    "        \"labels\": ALL_SERIAL_NUMBERS,\n",
    "        \"domains\": ALL_DISTANCES_FEET_NARROWED,\n",
    "        \"num_examples_per_domain_per_label\": 100,\n",
    "        \"pickle_path\": os.path.join(get_datasets_base_path(), \"oracle.Run1_framed_2000Examples_stratified_ds.2022A.pkl\"),\n",
    "        \"source_or_target_dataset\": \"source\",\n",
    "        \"x_transforms\": [\"unit_mag\", \"minus_two\"],\n",
    "        \"episode_transforms\": [],\n",
    "        \"domain_prefix\": \"ORACLE_\"\n",
    "    },\n",
    "    {\n",
    "        \"labels\": ALL_NODES,\n",
    "        \"domains\": ALL_DAYS,\n",
    "        \"num_examples_per_domain_per_label\": 100,\n",
    "        \"pickle_path\": os.path.join(get_datasets_base_path(), \"cores.stratified_ds.2022A.pkl\"),\n",
    "        \"source_or_target_dataset\": \"target\",\n",
    "        \"x_transforms\": [\"unit_power\", \"times_zero\"],\n",
    "        \"episode_transforms\": [],\n",
    "        \"domain_prefix\": \"CORES_\"\n",
    "    }   \n",
    "]\n",
    "\n",
    "standalone_parameters[\"torch_default_dtype\"] = \"torch.float32\" \n",
    "\n",
    "\n",
    "\n",
    "standalone_parameters[\"x_net\"] =     [\n",
    "    {\"class\": \"nnReshape\", \"kargs\": {\"shape\":[-1, 1, 2, 256]}},\n",
    "    {\"class\": \"Conv2d\", \"kargs\": { \"in_channels\":1, \"out_channels\":256, \"kernel_size\":(1,7), \"bias\":False, \"padding\":(0,3), },},\n",
    "    {\"class\": \"ReLU\", \"kargs\": {\"inplace\": True}},\n",
    "    {\"class\": \"BatchNorm2d\", \"kargs\": {\"num_features\":256}},\n",
    "\n",
    "    {\"class\": \"Conv2d\", \"kargs\": { \"in_channels\":256, \"out_channels\":80, \"kernel_size\":(2,7), \"bias\":True, \"padding\":(0,3), },},\n",
    "    {\"class\": \"ReLU\", \"kargs\": {\"inplace\": True}},\n",
    "    {\"class\": \"BatchNorm2d\", \"kargs\": {\"num_features\":80}},\n",
    "    {\"class\": \"Flatten\", \"kargs\": {}},\n",
    "\n",
    "    {\"class\": \"Linear\", \"kargs\": {\"in_features\": 80*256, \"out_features\": 256}}, # 80 units per IQ pair\n",
    "    {\"class\": \"ReLU\", \"kargs\": {\"inplace\": True}},\n",
    "    {\"class\": \"BatchNorm1d\", \"kargs\": {\"num_features\":256}},\n",
    "\n",
    "    {\"class\": \"Linear\", \"kargs\": {\"in_features\": 256, \"out_features\": 256}},\n",
    "]\n",
    "\n",
    "# Parameters relevant to results\n",
    "# These parameters will basically never need to change\n",
    "standalone_parameters[\"NUM_LOGS_PER_EPOCH\"] = 10\n",
    "standalone_parameters[\"BEST_MODEL_PATH\"] = \"./best_model.pth\"\n",
    "\n",
    "\n",
    "\n",
    "\n"
   ]
  },
  {
   "cell_type": "code",
   "execution_count": 4,
   "id": "2e87c898",
   "metadata": {
    "execution": {
     "iopub.execute_input": "2022-03-28T17:53:47.381792Z",
     "iopub.status.busy": "2022-03-28T17:53:47.374935Z",
     "iopub.status.idle": "2022-03-28T17:53:47.402712Z",
     "shell.execute_reply": "2022-03-28T17:53:47.401865Z"
    },
    "papermill": {
     "duration": 0.05652,
     "end_time": "2022-03-28T17:53:47.402887",
     "exception": false,
     "start_time": "2022-03-28T17:53:47.346367",
     "status": "completed"
    },
    "tags": [
     "injected-parameters"
    ]
   },
   "outputs": [],
   "source": [
    "# Parameters\n",
    "parameters = {\n",
    "    \"experiment_name\": \"tl_3-jitter5v2:oracle.run1.framed -> cores\",\n",
    "    \"device\": \"cuda\",\n",
    "    \"lr\": 0.0001,\n",
    "    \"x_shape\": [2, 256],\n",
    "    \"n_shot\": 3,\n",
    "    \"n_query\": 2,\n",
    "    \"train_k_factor\": 3,\n",
    "    \"val_k_factor\": 2,\n",
    "    \"test_k_factor\": 2,\n",
    "    \"torch_default_dtype\": \"torch.float32\",\n",
    "    \"n_epoch\": 50,\n",
    "    \"patience\": 3,\n",
    "    \"criteria_for_best\": \"target_accuracy\",\n",
    "    \"x_net\": [\n",
    "        {\"class\": \"nnReshape\", \"kargs\": {\"shape\": [-1, 1, 2, 256]}},\n",
    "        {\n",
    "            \"class\": \"Conv2d\",\n",
    "            \"kargs\": {\n",
    "                \"in_channels\": 1,\n",
    "                \"out_channels\": 256,\n",
    "                \"kernel_size\": [1, 7],\n",
    "                \"bias\": False,\n",
    "                \"padding\": [0, 3],\n",
    "            },\n",
    "        },\n",
    "        {\"class\": \"ReLU\", \"kargs\": {\"inplace\": True}},\n",
    "        {\"class\": \"BatchNorm2d\", \"kargs\": {\"num_features\": 256}},\n",
    "        {\n",
    "            \"class\": \"Conv2d\",\n",
    "            \"kargs\": {\n",
    "                \"in_channels\": 256,\n",
    "                \"out_channels\": 80,\n",
    "                \"kernel_size\": [2, 7],\n",
    "                \"bias\": True,\n",
    "                \"padding\": [0, 3],\n",
    "            },\n",
    "        },\n",
    "        {\"class\": \"ReLU\", \"kargs\": {\"inplace\": True}},\n",
    "        {\"class\": \"BatchNorm2d\", \"kargs\": {\"num_features\": 80}},\n",
    "        {\"class\": \"Flatten\", \"kargs\": {}},\n",
    "        {\"class\": \"Linear\", \"kargs\": {\"in_features\": 20480, \"out_features\": 256}},\n",
    "        {\"class\": \"ReLU\", \"kargs\": {\"inplace\": True}},\n",
    "        {\"class\": \"BatchNorm1d\", \"kargs\": {\"num_features\": 256}},\n",
    "        {\"class\": \"Linear\", \"kargs\": {\"in_features\": 256, \"out_features\": 256}},\n",
    "    ],\n",
    "    \"NUM_LOGS_PER_EPOCH\": 10,\n",
    "    \"BEST_MODEL_PATH\": \"./best_model.pth\",\n",
    "    \"n_way\": 16,\n",
    "    \"datasets\": [\n",
    "        {\n",
    "            \"labels\": [\n",
    "                \"1-10.\",\n",
    "                \"1-11.\",\n",
    "                \"1-15.\",\n",
    "                \"1-16.\",\n",
    "                \"1-17.\",\n",
    "                \"1-18.\",\n",
    "                \"1-19.\",\n",
    "                \"10-4.\",\n",
    "                \"10-7.\",\n",
    "                \"11-1.\",\n",
    "                \"11-14.\",\n",
    "                \"11-17.\",\n",
    "                \"11-20.\",\n",
    "                \"11-7.\",\n",
    "                \"13-20.\",\n",
    "                \"13-8.\",\n",
    "                \"14-10.\",\n",
    "                \"14-11.\",\n",
    "                \"14-14.\",\n",
    "                \"14-7.\",\n",
    "                \"15-1.\",\n",
    "                \"15-20.\",\n",
    "                \"16-1.\",\n",
    "                \"16-16.\",\n",
    "                \"17-10.\",\n",
    "                \"17-11.\",\n",
    "                \"17-2.\",\n",
    "                \"19-1.\",\n",
    "                \"19-16.\",\n",
    "                \"19-19.\",\n",
    "                \"19-20.\",\n",
    "                \"19-3.\",\n",
    "                \"2-10.\",\n",
    "                \"2-11.\",\n",
    "                \"2-17.\",\n",
    "                \"2-18.\",\n",
    "                \"2-20.\",\n",
    "                \"2-3.\",\n",
    "                \"2-4.\",\n",
    "                \"2-5.\",\n",
    "                \"2-6.\",\n",
    "                \"2-7.\",\n",
    "                \"2-8.\",\n",
    "                \"3-13.\",\n",
    "                \"3-18.\",\n",
    "                \"3-3.\",\n",
    "                \"4-1.\",\n",
    "                \"4-10.\",\n",
    "                \"4-11.\",\n",
    "                \"4-19.\",\n",
    "                \"5-5.\",\n",
    "                \"6-15.\",\n",
    "                \"7-10.\",\n",
    "                \"7-14.\",\n",
    "                \"8-18.\",\n",
    "                \"8-20.\",\n",
    "                \"8-3.\",\n",
    "                \"8-8.\",\n",
    "            ],\n",
    "            \"domains\": [1, 2, 3, 4, 5],\n",
    "            \"num_examples_per_domain_per_label\": -1,\n",
    "            \"pickle_path\": \"/root/csc500-main/datasets/cores.stratified_ds.2022A.pkl\",\n",
    "            \"source_or_target_dataset\": \"target\",\n",
    "            \"x_transforms\": [\n",
    "                \"unit_mag\",\n",
    "                \"jitter_256_5\",\n",
    "                \"lowpass_+/-10MHz\",\n",
    "                \"take_200\",\n",
    "            ],\n",
    "            \"episode_transforms\": [],\n",
    "            \"domain_prefix\": \"C_\",\n",
    "        },\n",
    "        {\n",
    "            \"labels\": [\n",
    "                \"3123D52\",\n",
    "                \"3123D65\",\n",
    "                \"3123D79\",\n",
    "                \"3123D80\",\n",
    "                \"3123D54\",\n",
    "                \"3123D70\",\n",
    "                \"3123D7B\",\n",
    "                \"3123D89\",\n",
    "                \"3123D58\",\n",
    "                \"3123D76\",\n",
    "                \"3123D7D\",\n",
    "                \"3123EFE\",\n",
    "                \"3123D64\",\n",
    "                \"3123D78\",\n",
    "                \"3123D7E\",\n",
    "                \"3124E4A\",\n",
    "            ],\n",
    "            \"domains\": [32, 38, 8, 44, 14, 50, 20, 26],\n",
    "            \"num_examples_per_domain_per_label\": 2000,\n",
    "            \"pickle_path\": \"/root/csc500-main/datasets/oracle.Run1_framed_2000Examples_stratified_ds.2022A.pkl\",\n",
    "            \"source_or_target_dataset\": \"source\",\n",
    "            \"x_transforms\": [\n",
    "                \"unit_mag\",\n",
    "                \"jitter_256_5\",\n",
    "                \"take_200\",\n",
    "                \"resample_20Msps_to_25Msps\",\n",
    "            ],\n",
    "            \"episode_transforms\": [],\n",
    "            \"domain_prefix\": \"O_\",\n",
    "        },\n",
    "    ],\n",
    "    \"seed\": 500,\n",
    "    \"dataset_seed\": 500,\n",
    "}\n"
   ]
  },
  {
   "cell_type": "code",
   "execution_count": 5,
   "id": "8fa1cc33",
   "metadata": {
    "execution": {
     "iopub.execute_input": "2022-03-28T17:53:47.458722Z",
     "iopub.status.busy": "2022-03-28T17:53:47.458129Z",
     "iopub.status.idle": "2022-03-28T17:53:47.481746Z",
     "shell.execute_reply": "2022-03-28T17:53:47.480808Z"
    },
    "papermill": {
     "duration": 0.051688,
     "end_time": "2022-03-28T17:53:47.481935",
     "exception": false,
     "start_time": "2022-03-28T17:53:47.430247",
     "status": "completed"
    },
    "tags": []
   },
   "outputs": [],
   "source": [
    "# Set this to True if you want to run this template directly\n",
    "STANDALONE = False\n",
    "if STANDALONE:\n",
    "    print(\"parameters not injected, running with standalone_parameters\")\n",
    "    parameters = standalone_parameters\n",
    "\n",
    "if not 'parameters' in locals() and not 'parameters' in globals():\n",
    "    raise Exception(\"Parameter injection failed\")\n",
    "\n",
    "#Use an easy dict for all the parameters\n",
    "p = EasyDict(parameters)\n",
    "\n",
    "if \"x_shape\" not in p:\n",
    "    p.x_shape = [2,256] # Default to this if we dont supply x_shape\n",
    "\n",
    "\n",
    "supplied_keys = set(p.keys())\n",
    "\n",
    "if  supplied_keys != required_parameters:\n",
    "    print(\"Parameters are incorrect\")\n",
    "    if len(supplied_keys - required_parameters)>0: print(\"Shouldn't have:\", str(supplied_keys - required_parameters))\n",
    "    if len(required_parameters - supplied_keys)>0: print(\"Need to have:\", str(required_parameters - supplied_keys))\n",
    "    raise RuntimeError(\"Parameters are incorrect\")"
   ]
  },
  {
   "cell_type": "code",
   "execution_count": 6,
   "id": "3a028d58",
   "metadata": {
    "execution": {
     "iopub.execute_input": "2022-03-28T17:53:47.531743Z",
     "iopub.status.busy": "2022-03-28T17:53:47.531339Z",
     "iopub.status.idle": "2022-03-28T17:53:47.555175Z",
     "shell.execute_reply": "2022-03-28T17:53:47.554098Z"
    },
    "papermill": {
     "duration": 0.048842,
     "end_time": "2022-03-28T17:53:47.555410",
     "exception": false,
     "start_time": "2022-03-28T17:53:47.506568",
     "status": "completed"
    },
    "tags": []
   },
   "outputs": [],
   "source": [
    "###################################\n",
    "# Set the RNGs and make it all deterministic\n",
    "###################################\n",
    "np.random.seed(p.seed)\n",
    "random.seed(p.seed)\n",
    "torch.manual_seed(p.seed)\n",
    "\n",
    "torch.use_deterministic_algorithms(True) "
   ]
  },
  {
   "cell_type": "code",
   "execution_count": 7,
   "id": "b691acf6",
   "metadata": {
    "execution": {
     "iopub.execute_input": "2022-03-28T17:53:47.606436Z",
     "iopub.status.busy": "2022-03-28T17:53:47.605862Z",
     "iopub.status.idle": "2022-03-28T17:53:47.628393Z",
     "shell.execute_reply": "2022-03-28T17:53:47.627502Z"
    },
    "papermill": {
     "duration": 0.047677,
     "end_time": "2022-03-28T17:53:47.628570",
     "exception": false,
     "start_time": "2022-03-28T17:53:47.580893",
     "status": "completed"
    },
    "tags": []
   },
   "outputs": [],
   "source": [
    "###########################################\n",
    "# The stratified datasets honor this\n",
    "###########################################\n",
    "torch.set_default_dtype(eval(p.torch_default_dtype))"
   ]
  },
  {
   "cell_type": "code",
   "execution_count": 8,
   "id": "b5fba671",
   "metadata": {
    "execution": {
     "iopub.execute_input": "2022-03-28T17:53:47.681143Z",
     "iopub.status.busy": "2022-03-28T17:53:47.678946Z",
     "iopub.status.idle": "2022-03-28T17:53:47.736871Z",
     "shell.execute_reply": "2022-03-28T17:53:47.736070Z"
    },
    "papermill": {
     "duration": 0.081346,
     "end_time": "2022-03-28T17:53:47.737116",
     "exception": false,
     "start_time": "2022-03-28T17:53:47.655770",
     "status": "completed"
    },
    "tags": []
   },
   "outputs": [],
   "source": [
    "###################################\n",
    "# Build the network(s)\n",
    "# Note: It's critical to do this AFTER setting the RNG\n",
    "###################################\n",
    "x_net = build_sequential(p.x_net)"
   ]
  },
  {
   "cell_type": "code",
   "execution_count": 9,
   "id": "5d7e61cc",
   "metadata": {
    "execution": {
     "iopub.execute_input": "2022-03-28T17:53:47.786837Z",
     "iopub.status.busy": "2022-03-28T17:53:47.786462Z",
     "iopub.status.idle": "2022-03-28T17:53:47.809156Z",
     "shell.execute_reply": "2022-03-28T17:53:47.808300Z"
    },
    "papermill": {
     "duration": 0.046173,
     "end_time": "2022-03-28T17:53:47.809335",
     "exception": false,
     "start_time": "2022-03-28T17:53:47.763162",
     "status": "completed"
    },
    "tags": []
   },
   "outputs": [],
   "source": [
    "start_time_secs = time.time()"
   ]
  },
  {
   "cell_type": "code",
   "execution_count": 10,
   "id": "c6b67dfd",
   "metadata": {
    "execution": {
     "iopub.execute_input": "2022-03-28T17:53:47.861634Z",
     "iopub.status.busy": "2022-03-28T17:53:47.861256Z",
     "iopub.status.idle": "2022-03-28T17:53:47.878248Z",
     "shell.execute_reply": "2022-03-28T17:53:47.877428Z"
    },
    "papermill": {
     "duration": 0.040339,
     "end_time": "2022-03-28T17:53:47.878414",
     "exception": false,
     "start_time": "2022-03-28T17:53:47.838075",
     "status": "completed"
    },
    "tags": []
   },
   "outputs": [],
   "source": [
    "p.domains_source = []\n",
    "p.domains_target = []\n",
    "\n",
    "\n",
    "train_original_source = []\n",
    "val_original_source   = []\n",
    "test_original_source  = []\n",
    "\n",
    "train_original_target = []\n",
    "val_original_target   = []\n",
    "test_original_target  = []"
   ]
  },
  {
   "cell_type": "code",
   "execution_count": 11,
   "id": "e3d9c3d3",
   "metadata": {
    "execution": {
     "iopub.execute_input": "2022-03-28T17:53:47.926800Z",
     "iopub.status.busy": "2022-03-28T17:53:47.926427Z",
     "iopub.status.idle": "2022-03-28T17:53:47.943124Z",
     "shell.execute_reply": "2022-03-28T17:53:47.942405Z"
    },
    "papermill": {
     "duration": 0.038971,
     "end_time": "2022-03-28T17:53:47.943284",
     "exception": false,
     "start_time": "2022-03-28T17:53:47.904313",
     "status": "completed"
    },
    "tags": []
   },
   "outputs": [],
   "source": [
    "# global_x_transform_func = lambda x: normalize(x.to(torch.get_default_dtype()), \"unit_power\") # unit_power, unit_mag\n",
    "# global_x_transform_func = lambda x: normalize(x, \"unit_power\") # unit_power, unit_mag"
   ]
  },
  {
   "cell_type": "code",
   "execution_count": 12,
   "id": "acb78fd2",
   "metadata": {
    "execution": {
     "iopub.execute_input": "2022-03-28T17:53:48.011192Z",
     "iopub.status.busy": "2022-03-28T17:53:48.010330Z",
     "iopub.status.idle": "2022-03-28T17:53:48.029264Z",
     "shell.execute_reply": "2022-03-28T17:53:48.028439Z"
    },
    "papermill": {
     "duration": 0.051517,
     "end_time": "2022-03-28T17:53:48.029434",
     "exception": false,
     "start_time": "2022-03-28T17:53:47.977917",
     "status": "completed"
    },
    "tags": []
   },
   "outputs": [],
   "source": [
    "def add_dataset(\n",
    "    labels,\n",
    "    domains,\n",
    "    pickle_path,\n",
    "    x_transforms,\n",
    "    episode_transforms,\n",
    "    domain_prefix,\n",
    "    num_examples_per_domain_per_label,\n",
    "    source_or_target_dataset:str,\n",
    "    iterator_seed=p.seed,\n",
    "    dataset_seed=p.dataset_seed,\n",
    "    n_shot=p.n_shot,\n",
    "    n_way=p.n_way,\n",
    "    n_query=p.n_query,\n",
    "    train_val_test_k_factors=(p.train_k_factor,p.val_k_factor,p.test_k_factor),\n",
    "):\n",
    "   \n",
    "    if x_transforms == []: x_transform = None\n",
    "    else: x_transform = get_chained_transform(x_transforms)\n",
    "    \n",
    "    if episode_transforms == []: episode_transform = None\n",
    "    else: raise Exception(\"episode_transforms not implemented\")\n",
    "    \n",
    "    episode_transform = lambda tup, _prefix=domain_prefix: (_prefix + str(tup[0]), tup[1])\n",
    "\n",
    "\n",
    "    eaf = Episodic_Accessor_Factory(\n",
    "        labels=labels,\n",
    "        domains=domains,\n",
    "        num_examples_per_domain_per_label=num_examples_per_domain_per_label,\n",
    "        iterator_seed=iterator_seed,\n",
    "        dataset_seed=dataset_seed,\n",
    "        n_shot=n_shot,\n",
    "        n_way=n_way,\n",
    "        n_query=n_query,\n",
    "        train_val_test_k_factors=train_val_test_k_factors,\n",
    "        pickle_path=pickle_path,\n",
    "        x_transform_func=x_transform,\n",
    "    )\n",
    "\n",
    "    train, val, test = eaf.get_train(), eaf.get_val(), eaf.get_test()\n",
    "    train = Lazy_Iterable_Wrapper(train, episode_transform)\n",
    "    val = Lazy_Iterable_Wrapper(val, episode_transform)\n",
    "    test = Lazy_Iterable_Wrapper(test, episode_transform)\n",
    "\n",
    "    if source_or_target_dataset==\"source\":\n",
    "        train_original_source.append(train)\n",
    "        val_original_source.append(val)\n",
    "        test_original_source.append(test)\n",
    "\n",
    "        p.domains_source.extend(\n",
    "            [domain_prefix + str(u) for u in domains]\n",
    "        )\n",
    "    elif source_or_target_dataset==\"target\":\n",
    "        train_original_target.append(train)\n",
    "        val_original_target.append(val)\n",
    "        test_original_target.append(test)\n",
    "        p.domains_target.extend(\n",
    "            [domain_prefix + str(u) for u in domains]\n",
    "        )\n",
    "    else:\n",
    "        raise Exception(f\"invalid source_or_target_dataset: {source_or_target_dataset}\")\n",
    "    "
   ]
  },
  {
   "cell_type": "code",
   "execution_count": 13,
   "id": "fe266617",
   "metadata": {
    "execution": {
     "iopub.execute_input": "2022-03-28T17:53:48.079183Z",
     "iopub.status.busy": "2022-03-28T17:53:48.078155Z",
     "iopub.status.idle": "2022-03-28T17:55:38.552184Z",
     "shell.execute_reply": "2022-03-28T17:55:38.551423Z"
    },
    "papermill": {
     "duration": 110.497056,
     "end_time": "2022-03-28T17:55:38.552368",
     "exception": false,
     "start_time": "2022-03-28T17:53:48.055312",
     "status": "completed"
    },
    "tags": []
   },
   "outputs": [],
   "source": [
    "for ds in p.datasets:\n",
    "    add_dataset(**ds)"
   ]
  },
  {
   "cell_type": "code",
   "execution_count": 14,
   "id": "b90d65ac",
   "metadata": {
    "execution": {
     "iopub.execute_input": "2022-03-28T17:55:38.602301Z",
     "iopub.status.busy": "2022-03-28T17:55:38.601851Z",
     "iopub.status.idle": "2022-03-28T17:55:38.627366Z",
     "shell.execute_reply": "2022-03-28T17:55:38.626567Z"
    },
    "papermill": {
     "duration": 0.049546,
     "end_time": "2022-03-28T17:55:38.627523",
     "exception": false,
     "start_time": "2022-03-28T17:55:38.577977",
     "status": "completed"
    },
    "tags": []
   },
   "outputs": [],
   "source": [
    "# from steves_utils.CORES.utils import (\n",
    "#     ALL_NODES,\n",
    "#     ALL_NODES_MINIMUM_1000_EXAMPLES,\n",
    "#     ALL_DAYS\n",
    "# )\n",
    "\n",
    "# add_dataset(\n",
    "#     labels=ALL_NODES,\n",
    "#     domains = ALL_DAYS,\n",
    "#     num_examples_per_domain_per_label=100,\n",
    "#     pickle_path=os.path.join(get_datasets_base_path(), \"cores.stratified_ds.2022A.pkl\"),\n",
    "#     source_or_target_dataset=\"target\",\n",
    "#     x_transform_func=global_x_transform_func,\n",
    "#     domain_modifier=lambda u: f\"cores_{u}\"\n",
    "# )"
   ]
  },
  {
   "cell_type": "code",
   "execution_count": 15,
   "id": "76db484d",
   "metadata": {
    "execution": {
     "iopub.execute_input": "2022-03-28T17:55:38.678662Z",
     "iopub.status.busy": "2022-03-28T17:55:38.678236Z",
     "iopub.status.idle": "2022-03-28T17:55:38.698952Z",
     "shell.execute_reply": "2022-03-28T17:55:38.698165Z"
    },
    "papermill": {
     "duration": 0.044309,
     "end_time": "2022-03-28T17:55:38.699105",
     "exception": false,
     "start_time": "2022-03-28T17:55:38.654796",
     "status": "completed"
    },
    "tags": []
   },
   "outputs": [],
   "source": [
    "# from steves_utils.ORACLE.utils_v2 import (\n",
    "#     ALL_DISTANCES_FEET,\n",
    "#     ALL_RUNS,\n",
    "#     ALL_SERIAL_NUMBERS,\n",
    "# )\n",
    "\n",
    "\n",
    "# add_dataset(\n",
    "#     labels=ALL_SERIAL_NUMBERS,\n",
    "#     domains = list(set(ALL_DISTANCES_FEET) - {2,62}),\n",
    "#     num_examples_per_domain_per_label=100,\n",
    "#     pickle_path=os.path.join(get_datasets_base_path(), \"oracle.Run2_framed_2000Examples_stratified_ds.2022A.pkl\"),\n",
    "#     source_or_target_dataset=\"source\",\n",
    "#     x_transform_func=global_x_transform_func,\n",
    "#     domain_modifier=lambda u: f\"oracle1_{u}\"\n",
    "# )\n"
   ]
  },
  {
   "cell_type": "code",
   "execution_count": 16,
   "id": "97dea9d2",
   "metadata": {
    "execution": {
     "iopub.execute_input": "2022-03-28T17:55:38.750514Z",
     "iopub.status.busy": "2022-03-28T17:55:38.750150Z",
     "iopub.status.idle": "2022-03-28T17:55:38.773746Z",
     "shell.execute_reply": "2022-03-28T17:55:38.772960Z"
    },
    "papermill": {
     "duration": 0.047148,
     "end_time": "2022-03-28T17:55:38.773896",
     "exception": false,
     "start_time": "2022-03-28T17:55:38.726748",
     "status": "completed"
    },
    "tags": []
   },
   "outputs": [],
   "source": [
    "# from steves_utils.ORACLE.utils_v2 import (\n",
    "#     ALL_DISTANCES_FEET,\n",
    "#     ALL_RUNS,\n",
    "#     ALL_SERIAL_NUMBERS,\n",
    "# )\n",
    "\n",
    "\n",
    "# add_dataset(\n",
    "#     labels=ALL_SERIAL_NUMBERS,\n",
    "#     domains = list(set(ALL_DISTANCES_FEET) - {2,62,56}),\n",
    "#     num_examples_per_domain_per_label=100,\n",
    "#     pickle_path=os.path.join(get_datasets_base_path(), \"oracle.Run2_framed_2000Examples_stratified_ds.2022A.pkl\"),\n",
    "#     source_or_target_dataset=\"source\",\n",
    "#     x_transform_func=global_x_transform_func,\n",
    "#     domain_modifier=lambda u: f\"oracle2_{u}\"\n",
    "# )"
   ]
  },
  {
   "cell_type": "code",
   "execution_count": 17,
   "id": "6f289866",
   "metadata": {
    "execution": {
     "iopub.execute_input": "2022-03-28T17:55:38.825707Z",
     "iopub.status.busy": "2022-03-28T17:55:38.825344Z",
     "iopub.status.idle": "2022-03-28T17:55:38.846742Z",
     "shell.execute_reply": "2022-03-28T17:55:38.846056Z"
    },
    "papermill": {
     "duration": 0.045505,
     "end_time": "2022-03-28T17:55:38.846893",
     "exception": false,
     "start_time": "2022-03-28T17:55:38.801388",
     "status": "completed"
    },
    "tags": []
   },
   "outputs": [],
   "source": [
    "# add_dataset(\n",
    "#     labels=list(range(19)),\n",
    "#     domains = [0,1,2],\n",
    "#     num_examples_per_domain_per_label=100,\n",
    "#     pickle_path=os.path.join(get_datasets_base_path(), \"metehan.stratified_ds.2022A.pkl\"),\n",
    "#     source_or_target_dataset=\"target\",\n",
    "#     x_transform_func=global_x_transform_func,\n",
    "#     domain_modifier=lambda u: f\"met_{u}\"\n",
    "# )"
   ]
  },
  {
   "cell_type": "code",
   "execution_count": 18,
   "id": "86a863c3",
   "metadata": {
    "execution": {
     "iopub.execute_input": "2022-03-28T17:55:38.899444Z",
     "iopub.status.busy": "2022-03-28T17:55:38.899068Z",
     "iopub.status.idle": "2022-03-28T17:55:38.926185Z",
     "shell.execute_reply": "2022-03-28T17:55:38.925358Z"
    },
    "papermill": {
     "duration": 0.051626,
     "end_time": "2022-03-28T17:55:38.926363",
     "exception": false,
     "start_time": "2022-03-28T17:55:38.874737",
     "status": "completed"
    },
    "tags": []
   },
   "outputs": [],
   "source": [
    "# # from steves_utils.wisig.utils import (\n",
    "# #     ALL_NODES_MINIMUM_100_EXAMPLES,\n",
    "# #     ALL_NODES_MINIMUM_500_EXAMPLES,\n",
    "# #     ALL_NODES_MINIMUM_1000_EXAMPLES,\n",
    "# #     ALL_DAYS\n",
    "# # )\n",
    "\n",
    "# import steves_utils.wisig.utils as wisig\n",
    "\n",
    "\n",
    "# add_dataset(\n",
    "#     labels=wisig.ALL_NODES_MINIMUM_100_EXAMPLES,\n",
    "#     domains = wisig.ALL_DAYS,\n",
    "#     num_examples_per_domain_per_label=100,\n",
    "#     pickle_path=os.path.join(get_datasets_base_path(), \"wisig.node3-19.stratified_ds.2022A.pkl\"),\n",
    "#     source_or_target_dataset=\"target\",\n",
    "#     x_transform_func=global_x_transform_func,\n",
    "#     domain_modifier=lambda u: f\"wisig_{u}\"\n",
    "# )"
   ]
  },
  {
   "cell_type": "code",
   "execution_count": 19,
   "id": "fd5442bc",
   "metadata": {
    "execution": {
     "iopub.execute_input": "2022-03-28T17:55:38.984702Z",
     "iopub.status.busy": "2022-03-28T17:55:38.984096Z",
     "iopub.status.idle": "2022-03-28T17:55:39.007509Z",
     "shell.execute_reply": "2022-03-28T17:55:39.006715Z"
    },
    "papermill": {
     "duration": 0.052554,
     "end_time": "2022-03-28T17:55:39.007712",
     "exception": false,
     "start_time": "2022-03-28T17:55:38.955158",
     "status": "completed"
    },
    "tags": []
   },
   "outputs": [],
   "source": [
    "###################################\n",
    "# Build the dataset\n",
    "###################################\n",
    "train_original_source = Iterable_Aggregator(train_original_source, p.seed)\n",
    "val_original_source = Iterable_Aggregator(val_original_source, p.seed)\n",
    "test_original_source = Iterable_Aggregator(test_original_source, p.seed)\n",
    "\n",
    "\n",
    "train_original_target = Iterable_Aggregator(train_original_target, p.seed)\n",
    "val_original_target = Iterable_Aggregator(val_original_target, p.seed)\n",
    "test_original_target = Iterable_Aggregator(test_original_target, p.seed)\n",
    "\n",
    "# For CNN We only use X and Y. And we only train on the source.\n",
    "# Properly form the data using a transform lambda and Lazy_Iterable_Wrapper. Finally wrap them in a dataloader\n",
    "\n",
    "transform_lambda = lambda ex: ex[1] # Original is (<domain>, <episode>) so we strip down to episode only\n",
    "\n",
    "train_processed_source = Lazy_Iterable_Wrapper(train_original_source, transform_lambda)\n",
    "val_processed_source   = Lazy_Iterable_Wrapper(val_original_source, transform_lambda)\n",
    "test_processed_source  = Lazy_Iterable_Wrapper(test_original_source, transform_lambda)\n",
    "\n",
    "train_processed_target = Lazy_Iterable_Wrapper(train_original_target, transform_lambda)\n",
    "val_processed_target   = Lazy_Iterable_Wrapper(val_original_target, transform_lambda)\n",
    "test_processed_target  = Lazy_Iterable_Wrapper(test_original_target, transform_lambda)\n",
    "\n",
    "datasets = EasyDict({\n",
    "    \"source\": {\n",
    "        \"original\": {\"train\":train_original_source, \"val\":val_original_source, \"test\":test_original_source},\n",
    "        \"processed\": {\"train\":train_processed_source, \"val\":val_processed_source, \"test\":test_processed_source}\n",
    "    },\n",
    "    \"target\": {\n",
    "        \"original\": {\"train\":train_original_target, \"val\":val_original_target, \"test\":test_original_target},\n",
    "        \"processed\": {\"train\":train_processed_target, \"val\":val_processed_target, \"test\":test_processed_target}\n",
    "    },\n",
    "})"
   ]
  },
  {
   "cell_type": "code",
   "execution_count": 20,
   "id": "5b3c01fc",
   "metadata": {
    "execution": {
     "iopub.execute_input": "2022-03-28T17:55:39.061602Z",
     "iopub.status.busy": "2022-03-28T17:55:39.061238Z",
     "iopub.status.idle": "2022-03-28T17:55:53.908248Z",
     "shell.execute_reply": "2022-03-28T17:55:53.908978Z"
    },
    "papermill": {
     "duration": 14.873694,
     "end_time": "2022-03-28T17:55:53.909194",
     "exception": false,
     "start_time": "2022-03-28T17:55:39.035500",
     "status": "completed"
    },
    "tags": []
   },
   "outputs": [
    {
     "name": "stdout",
     "output_type": "stream",
     "text": [
      "{'O_8', 'O_32', 'O_26', 'O_50', 'O_38', 'O_20', 'O_44', 'O_14'}\n"
     ]
    },
    {
     "name": "stdout",
     "output_type": "stream",
     "text": [
      "{'C_3', 'C_2', 'C_1', 'C_4', 'C_5'}\n"
     ]
    },
    {
     "name": "stdout",
     "output_type": "stream",
     "text": [
      "tensor([[[0., 0., 0.,  ..., 0., 0., 0.],\n",
      "         [0., 0., 0.,  ..., 0., 0., 0.]],\n",
      "\n",
      "        [[0., 0., 0.,  ..., 0., 0., 0.],\n",
      "         [0., 0., 0.,  ..., 0., 0., 0.]],\n",
      "\n",
      "        [[0., 0., 0.,  ..., 0., 0., 0.],\n",
      "         [0., 0., 0.,  ..., 0., 0., 0.]],\n",
      "\n",
      "        ...,\n",
      "\n",
      "        [[0., 0., 0.,  ..., 0., 0., 0.],\n",
      "         [0., 0., 0.,  ..., 0., 0., 0.]],\n",
      "\n",
      "        [[0., 0., 0.,  ..., 0., 0., 0.],\n",
      "         [0., 0., 0.,  ..., 0., 0., 0.]],\n",
      "\n",
      "        [[0., 0., 0.,  ..., 0., 0., 0.],\n",
      "         [0., 0., 0.,  ..., 0., 0., 0.]]])\n"
     ]
    }
   ],
   "source": [
    "from steves_utils.transforms import get_average_magnitude, get_average_power\n",
    "\n",
    "print(set([u for u,_ in val_original_source]))\n",
    "print(set([u for u,_ in val_original_target]))\n",
    "\n",
    "s_x, s_y, q_x, q_y, _ = next(iter(train_processed_source))\n",
    "print(s_x)\n",
    "\n",
    "# for ds in [\n",
    "#     train_processed_source,\n",
    "#     val_processed_source,\n",
    "#     test_processed_source,\n",
    "#     train_processed_target,\n",
    "#     val_processed_target,\n",
    "#     test_processed_target\n",
    "# ]:\n",
    "#     for s_x, s_y, q_x, q_y, _ in ds:\n",
    "#         for X in (s_x, q_x):\n",
    "#             for x in X:\n",
    "#                 assert np.isclose(get_average_magnitude(x.numpy()), 1.0)\n",
    "#                 assert np.isclose(get_average_power(x.numpy()), 1.0)\n",
    "                "
   ]
  },
  {
   "cell_type": "code",
   "execution_count": 21,
   "id": "bbdacba1",
   "metadata": {
    "execution": {
     "iopub.execute_input": "2022-03-28T17:55:53.974618Z",
     "iopub.status.busy": "2022-03-28T17:55:53.974048Z",
     "iopub.status.idle": "2022-03-28T17:55:54.154685Z",
     "shell.execute_reply": "2022-03-28T17:55:54.153981Z"
    },
    "papermill": {
     "duration": 0.213913,
     "end_time": "2022-03-28T17:55:54.154848",
     "exception": false,
     "start_time": "2022-03-28T17:55:53.940935",
     "status": "completed"
    },
    "tags": []
   },
   "outputs": [
    {
     "name": "stdout",
     "output_type": "stream",
     "text": [
      "(2, 256)\n"
     ]
    }
   ],
   "source": [
    "###################################\n",
    "# Build the model\n",
    "###################################\n",
    "# easfsl only wants a tuple for the shape\n",
    "model = Steves_Prototypical_Network(x_net, device=p.device, x_shape=tuple(p.x_shape))\n",
    "optimizer = Adam(params=model.parameters(), lr=p.lr)"
   ]
  },
  {
   "cell_type": "code",
   "execution_count": 22,
   "id": "22b39ac5",
   "metadata": {
    "execution": {
     "iopub.execute_input": "2022-03-28T17:55:54.212865Z",
     "iopub.status.busy": "2022-03-28T17:55:54.212388Z",
     "iopub.status.idle": "2022-03-28T18:15:51.271374Z",
     "shell.execute_reply": "2022-03-28T18:15:51.271033Z"
    },
    "papermill": {
     "duration": 1197.086606,
     "end_time": "2022-03-28T18:15:51.271464",
     "exception": false,
     "start_time": "2022-03-28T17:55:54.184858",
     "status": "completed"
    },
    "tags": []
   },
   "outputs": [
    {
     "name": "stdout",
     "output_type": "stream",
     "text": [
      "epoch: 1, [batch: 1 / 6720], examples_per_second: 33.6168, train_label_loss: 2.7261, \n"
     ]
    },
    {
     "name": "stdout",
     "output_type": "stream",
     "text": [
      "epoch: 1, [batch: 672 / 6720], examples_per_second: 3358.3071, train_label_loss: 2.8003, \n"
     ]
    },
    {
     "name": "stdout",
     "output_type": "stream",
     "text": [
      "epoch: 1, [batch: 1344 / 6720], examples_per_second: 3441.5900, train_label_loss: 1.7578, \n"
     ]
    },
    {
     "name": "stdout",
     "output_type": "stream",
     "text": [
      "epoch: 1, [batch: 2016 / 6720], examples_per_second: 3028.8406, train_label_loss: 1.5392, \n"
     ]
    },
    {
     "name": "stdout",
     "output_type": "stream",
     "text": [
      "epoch: 1, [batch: 2688 / 6720], examples_per_second: 3035.1229, train_label_loss: 1.2688, \n"
     ]
    },
    {
     "name": "stdout",
     "output_type": "stream",
     "text": [
      "epoch: 1, [batch: 3360 / 6720], examples_per_second: 2955.7121, train_label_loss: 1.4355, \n"
     ]
    },
    {
     "name": "stdout",
     "output_type": "stream",
     "text": [
      "epoch: 1, [batch: 4032 / 6720], examples_per_second: 2955.5043, train_label_loss: 1.5789, \n"
     ]
    },
    {
     "name": "stdout",
     "output_type": "stream",
     "text": [
      "epoch: 1, [batch: 4704 / 6720], examples_per_second: 2938.0262, train_label_loss: 1.2395, \n"
     ]
    },
    {
     "name": "stdout",
     "output_type": "stream",
     "text": [
      "epoch: 1, [batch: 5376 / 6720], examples_per_second: 3010.8389, train_label_loss: 1.5622, \n"
     ]
    },
    {
     "name": "stdout",
     "output_type": "stream",
     "text": [
      "epoch: 1, [batch: 6048 / 6720], examples_per_second: 3417.5296, train_label_loss: 1.4127, \n"
     ]
    },
    {
     "name": "stdout",
     "output_type": "stream",
     "text": [
      "=============================================================\n",
      "epoch: 1, source_val_acc_label: 0.5941, target_val_acc_label: 0.8961, source_val_label_loss: 1.1172, target_val_label_loss: 5.2782, \n",
      "=============================================================\n"
     ]
    },
    {
     "name": "stdout",
     "output_type": "stream",
     "text": [
      "New best\n"
     ]
    },
    {
     "name": "stdout",
     "output_type": "stream",
     "text": [
      "epoch: 2, [batch: 1 / 6720], examples_per_second: 3.2125, train_label_loss: 0.8896, \n"
     ]
    },
    {
     "name": "stdout",
     "output_type": "stream",
     "text": [
      "epoch: 2, [batch: 672 / 6720], examples_per_second: 3399.4190, train_label_loss: 1.2220, \n"
     ]
    },
    {
     "name": "stdout",
     "output_type": "stream",
     "text": [
      "epoch: 2, [batch: 1344 / 6720], examples_per_second: 3493.4394, train_label_loss: 1.1810, \n"
     ]
    },
    {
     "name": "stdout",
     "output_type": "stream",
     "text": [
      "epoch: 2, [batch: 2016 / 6720], examples_per_second: 3019.6744, train_label_loss: 1.0279, \n"
     ]
    },
    {
     "name": "stdout",
     "output_type": "stream",
     "text": [
      "epoch: 2, [batch: 2688 / 6720], examples_per_second: 2962.9531, train_label_loss: 0.6813, \n"
     ]
    },
    {
     "name": "stdout",
     "output_type": "stream",
     "text": [
      "epoch: 2, [batch: 3360 / 6720], examples_per_second: 2979.2878, train_label_loss: 1.1156, \n"
     ]
    },
    {
     "name": "stdout",
     "output_type": "stream",
     "text": [
      "epoch: 2, [batch: 4032 / 6720], examples_per_second: 3017.7260, train_label_loss: 1.2082, \n"
     ]
    },
    {
     "name": "stdout",
     "output_type": "stream",
     "text": [
      "epoch: 2, [batch: 4704 / 6720], examples_per_second: 2994.6324, train_label_loss: 0.7399, \n"
     ]
    },
    {
     "name": "stdout",
     "output_type": "stream",
     "text": [
      "epoch: 2, [batch: 5376 / 6720], examples_per_second: 2982.4619, train_label_loss: 1.1905, \n"
     ]
    },
    {
     "name": "stdout",
     "output_type": "stream",
     "text": [
      "epoch: 2, [batch: 6048 / 6720], examples_per_second: 3325.2504, train_label_loss: 0.8114, \n"
     ]
    },
    {
     "name": "stdout",
     "output_type": "stream",
     "text": [
      "=============================================================\n",
      "epoch: 2, source_val_acc_label: 0.6715, target_val_acc_label: 0.9503, source_val_label_loss: 0.8845, target_val_label_loss: 0.7044, \n",
      "=============================================================\n"
     ]
    },
    {
     "name": "stdout",
     "output_type": "stream",
     "text": [
      "New best\n"
     ]
    },
    {
     "name": "stdout",
     "output_type": "stream",
     "text": [
      "epoch: 3, [batch: 1 / 6720], examples_per_second: 3.1975, train_label_loss: 1.2354, \n"
     ]
    },
    {
     "name": "stdout",
     "output_type": "stream",
     "text": [
      "epoch: 3, [batch: 672 / 6720], examples_per_second: 3424.3140, train_label_loss: 0.9473, \n"
     ]
    },
    {
     "name": "stdout",
     "output_type": "stream",
     "text": [
      "epoch: 3, [batch: 1344 / 6720], examples_per_second: 3584.1702, train_label_loss: 0.5089, \n"
     ]
    },
    {
     "name": "stdout",
     "output_type": "stream",
     "text": [
      "epoch: 3, [batch: 2016 / 6720], examples_per_second: 3040.8748, train_label_loss: 0.6097, \n"
     ]
    },
    {
     "name": "stdout",
     "output_type": "stream",
     "text": [
      "epoch: 3, [batch: 2688 / 6720], examples_per_second: 2954.0838, train_label_loss: 0.9132, \n"
     ]
    },
    {
     "name": "stdout",
     "output_type": "stream",
     "text": [
      "epoch: 3, [batch: 3360 / 6720], examples_per_second: 3075.6103, train_label_loss: 0.5591, \n"
     ]
    },
    {
     "name": "stdout",
     "output_type": "stream",
     "text": [
      "epoch: 3, [batch: 4032 / 6720], examples_per_second: 3048.8046, train_label_loss: 0.9183, \n"
     ]
    },
    {
     "name": "stdout",
     "output_type": "stream",
     "text": [
      "epoch: 3, [batch: 4704 / 6720], examples_per_second: 3003.3952, train_label_loss: 0.8383, \n"
     ]
    },
    {
     "name": "stdout",
     "output_type": "stream",
     "text": [
      "epoch: 3, [batch: 5376 / 6720], examples_per_second: 3088.3606, train_label_loss: 1.2595, \n"
     ]
    },
    {
     "name": "stdout",
     "output_type": "stream",
     "text": [
      "epoch: 3, [batch: 6048 / 6720], examples_per_second: 3355.2183, train_label_loss: 1.0106, \n"
     ]
    },
    {
     "name": "stdout",
     "output_type": "stream",
     "text": [
      "=============================================================\n",
      "epoch: 3, source_val_acc_label: 0.6643, target_val_acc_label: 0.9415, source_val_label_loss: 0.8878, target_val_label_loss: 0.6395, \n",
      "=============================================================\n"
     ]
    },
    {
     "name": "stdout",
     "output_type": "stream",
     "text": [
      "epoch: 4, [batch: 1 / 6720], examples_per_second: 3.2532, train_label_loss: 0.8240, \n"
     ]
    },
    {
     "name": "stdout",
     "output_type": "stream",
     "text": [
      "epoch: 4, [batch: 672 / 6720], examples_per_second: 3386.9578, train_label_loss: 0.7260, \n"
     ]
    },
    {
     "name": "stdout",
     "output_type": "stream",
     "text": [
      "epoch: 4, [batch: 1344 / 6720], examples_per_second: 3465.9741, train_label_loss: 0.5464, \n"
     ]
    },
    {
     "name": "stdout",
     "output_type": "stream",
     "text": [
      "epoch: 4, [batch: 2016 / 6720], examples_per_second: 2979.0292, train_label_loss: 0.5301, \n"
     ]
    },
    {
     "name": "stdout",
     "output_type": "stream",
     "text": [
      "epoch: 4, [batch: 2688 / 6720], examples_per_second: 2965.6620, train_label_loss: 1.0871, \n"
     ]
    },
    {
     "name": "stdout",
     "output_type": "stream",
     "text": [
      "epoch: 4, [batch: 3360 / 6720], examples_per_second: 3000.5758, train_label_loss: 1.1795, \n"
     ]
    },
    {
     "name": "stdout",
     "output_type": "stream",
     "text": [
      "epoch: 4, [batch: 4032 / 6720], examples_per_second: 3030.7920, train_label_loss: 1.3196, \n"
     ]
    },
    {
     "name": "stdout",
     "output_type": "stream",
     "text": [
      "epoch: 4, [batch: 4704 / 6720], examples_per_second: 3022.1657, train_label_loss: 1.4418, \n"
     ]
    },
    {
     "name": "stdout",
     "output_type": "stream",
     "text": [
      "epoch: 4, [batch: 5376 / 6720], examples_per_second: 3051.2792, train_label_loss: 1.0793, \n"
     ]
    },
    {
     "name": "stdout",
     "output_type": "stream",
     "text": [
      "epoch: 4, [batch: 6048 / 6720], examples_per_second: 3293.5249, train_label_loss: 0.6680, \n"
     ]
    },
    {
     "name": "stdout",
     "output_type": "stream",
     "text": [
      "=============================================================\n",
      "epoch: 4, source_val_acc_label: 0.6897, target_val_acc_label: 0.9419, source_val_label_loss: 0.8241, target_val_label_loss: 0.4498, \n",
      "=============================================================\n"
     ]
    },
    {
     "name": "stdout",
     "output_type": "stream",
     "text": [
      "epoch: 5, [batch: 1 / 6720], examples_per_second: 3.2595, train_label_loss: 0.6303, \n"
     ]
    },
    {
     "name": "stdout",
     "output_type": "stream",
     "text": [
      "epoch: 5, [batch: 672 / 6720], examples_per_second: 3379.1216, train_label_loss: 0.8607, \n"
     ]
    },
    {
     "name": "stdout",
     "output_type": "stream",
     "text": [
      "epoch: 5, [batch: 1344 / 6720], examples_per_second: 3599.3299, train_label_loss: 0.6458, \n"
     ]
    },
    {
     "name": "stdout",
     "output_type": "stream",
     "text": [
      "epoch: 5, [batch: 2016 / 6720], examples_per_second: 2990.0897, train_label_loss: 0.5765, \n"
     ]
    },
    {
     "name": "stdout",
     "output_type": "stream",
     "text": [
      "epoch: 5, [batch: 2688 / 6720], examples_per_second: 2981.9083, train_label_loss: 0.6177, \n"
     ]
    },
    {
     "name": "stdout",
     "output_type": "stream",
     "text": [
      "epoch: 5, [batch: 3360 / 6720], examples_per_second: 2976.8805, train_label_loss: 0.8181, \n"
     ]
    },
    {
     "name": "stdout",
     "output_type": "stream",
     "text": [
      "epoch: 5, [batch: 4032 / 6720], examples_per_second: 3017.3661, train_label_loss: 0.7997, \n"
     ]
    },
    {
     "name": "stdout",
     "output_type": "stream",
     "text": [
      "epoch: 5, [batch: 4704 / 6720], examples_per_second: 3043.1922, train_label_loss: 0.5879, \n"
     ]
    },
    {
     "name": "stdout",
     "output_type": "stream",
     "text": [
      "epoch: 5, [batch: 5376 / 6720], examples_per_second: 3023.4979, train_label_loss: 0.6289, \n"
     ]
    },
    {
     "name": "stdout",
     "output_type": "stream",
     "text": [
      "epoch: 5, [batch: 6048 / 6720], examples_per_second: 3212.3816, train_label_loss: 0.9366, \n"
     ]
    },
    {
     "name": "stdout",
     "output_type": "stream",
     "text": [
      "=============================================================\n",
      "epoch: 5, source_val_acc_label: 0.6960, target_val_acc_label: 0.9373, source_val_label_loss: 0.8046, target_val_label_loss: 0.4348, \n",
      "=============================================================\n"
     ]
    },
    {
     "name": "stdout",
     "output_type": "stream",
     "text": [
      "epoch: 6, [batch: 1 / 6720], examples_per_second: 3.2677, train_label_loss: 1.2401, \n"
     ]
    },
    {
     "name": "stdout",
     "output_type": "stream",
     "text": [
      "epoch: 6, [batch: 672 / 6720], examples_per_second: 3392.3635, train_label_loss: 0.5156, \n"
     ]
    },
    {
     "name": "stdout",
     "output_type": "stream",
     "text": [
      "epoch: 6, [batch: 1344 / 6720], examples_per_second: 3544.6391, train_label_loss: 0.7350, \n"
     ]
    },
    {
     "name": "stdout",
     "output_type": "stream",
     "text": [
      "epoch: 6, [batch: 2016 / 6720], examples_per_second: 3495.0820, train_label_loss: 0.9384, \n"
     ]
    },
    {
     "name": "stdout",
     "output_type": "stream",
     "text": [
      "epoch: 6, [batch: 2688 / 6720], examples_per_second: 3456.2082, train_label_loss: 0.5468, \n"
     ]
    },
    {
     "name": "stdout",
     "output_type": "stream",
     "text": [
      "epoch: 6, [batch: 3360 / 6720], examples_per_second: 3462.5148, train_label_loss: 0.4680, \n"
     ]
    },
    {
     "name": "stdout",
     "output_type": "stream",
     "text": [
      "epoch: 6, [batch: 4032 / 6720], examples_per_second: 3466.7631, train_label_loss: 0.9270, \n"
     ]
    },
    {
     "name": "stdout",
     "output_type": "stream",
     "text": [
      "epoch: 6, [batch: 4704 / 6720], examples_per_second: 3423.0840, train_label_loss: 1.0300, \n"
     ]
    },
    {
     "name": "stdout",
     "output_type": "stream",
     "text": [
      "epoch: 6, [batch: 5376 / 6720], examples_per_second: 3426.9388, train_label_loss: 0.4517, \n"
     ]
    },
    {
     "name": "stdout",
     "output_type": "stream",
     "text": [
      "epoch: 6, [batch: 6048 / 6720], examples_per_second: 3484.9983, train_label_loss: 1.0163, \n"
     ]
    },
    {
     "name": "stdout",
     "output_type": "stream",
     "text": [
      "=============================================================\n",
      "epoch: 6, source_val_acc_label: 0.7005, target_val_acc_label: 0.9286, source_val_label_loss: 0.7909, target_val_label_loss: 1.5199, \n",
      "=============================================================\n"
     ]
    },
    {
     "name": "stdout",
     "output_type": "stream",
     "text": [
      "Patience (3) exhausted\n"
     ]
    }
   ],
   "source": [
    "###################################\n",
    "# train\n",
    "###################################\n",
    "jig = PTN_Train_Eval_Test_Jig(model, p.BEST_MODEL_PATH, p.device)\n",
    "\n",
    "jig.train(\n",
    "    train_iterable=datasets.source.processed.train,\n",
    "    source_val_iterable=datasets.source.processed.val,\n",
    "    target_val_iterable=datasets.target.processed.val,\n",
    "    num_epochs=p.n_epoch,\n",
    "    num_logs_per_epoch=p.NUM_LOGS_PER_EPOCH,\n",
    "    patience=p.patience,\n",
    "    optimizer=optimizer,\n",
    "    criteria_for_best=p.criteria_for_best,\n",
    ")"
   ]
  },
  {
   "cell_type": "code",
   "execution_count": 23,
   "id": "31e8fabf",
   "metadata": {
    "execution": {
     "iopub.execute_input": "2022-03-28T18:15:51.360770Z",
     "iopub.status.busy": "2022-03-28T18:15:51.360086Z",
     "iopub.status.idle": "2022-03-28T18:15:51.390811Z",
     "shell.execute_reply": "2022-03-28T18:15:51.390087Z"
    },
    "papermill": {
     "duration": 0.077932,
     "end_time": "2022-03-28T18:15:51.390986",
     "exception": false,
     "start_time": "2022-03-28T18:15:51.313054",
     "status": "completed"
    },
    "tags": []
   },
   "outputs": [],
   "source": [
    "total_experiment_time_secs = time.time() - start_time_secs"
   ]
  },
  {
   "cell_type": "code",
   "execution_count": 24,
   "id": "87b9595b",
   "metadata": {
    "execution": {
     "iopub.execute_input": "2022-03-28T18:15:51.484796Z",
     "iopub.status.busy": "2022-03-28T18:15:51.484393Z",
     "iopub.status.idle": "2022-03-28T18:18:21.879276Z",
     "shell.execute_reply": "2022-03-28T18:18:21.878692Z"
    },
    "papermill": {
     "duration": 150.441865,
     "end_time": "2022-03-28T18:18:21.879415",
     "exception": false,
     "start_time": "2022-03-28T18:15:51.437550",
     "status": "completed"
    },
    "tags": []
   },
   "outputs": [],
   "source": [
    "###################################\n",
    "# Evaluate the model\n",
    "###################################\n",
    "source_test_label_accuracy, source_test_label_loss = jig.test(datasets.source.processed.test)\n",
    "target_test_label_accuracy, target_test_label_loss = jig.test(datasets.target.processed.test)\n",
    "\n",
    "source_val_label_accuracy, source_val_label_loss = jig.test(datasets.source.processed.val)\n",
    "target_val_label_accuracy, target_val_label_loss = jig.test(datasets.target.processed.val)\n",
    "\n",
    "history = jig.get_history()\n",
    "\n",
    "total_epochs_trained = len(history[\"epoch_indices\"])\n",
    "\n",
    "val_dl = Iterable_Aggregator((datasets.source.original.val,datasets.target.original.val))\n",
    "\n",
    "confusion = ptn_confusion_by_domain_over_dataloader(model, p.device, val_dl)\n",
    "per_domain_accuracy = per_domain_accuracy_from_confusion(confusion)\n",
    "\n",
    "# Add a key to per_domain_accuracy for if it was a source domain\n",
    "for domain, accuracy in per_domain_accuracy.items():\n",
    "    per_domain_accuracy[domain] = {\n",
    "        \"accuracy\": accuracy,\n",
    "        \"source?\": domain in p.domains_source\n",
    "    }\n",
    "\n",
    "# Do an independent accuracy assesment JUST TO BE SURE!\n",
    "# _source_test_label_accuracy = independent_accuracy_assesment(model, datasets.source.processed.test, p.device)\n",
    "# _target_test_label_accuracy = independent_accuracy_assesment(model, datasets.target.processed.test, p.device)\n",
    "# _source_val_label_accuracy = independent_accuracy_assesment(model, datasets.source.processed.val, p.device)\n",
    "# _target_val_label_accuracy = independent_accuracy_assesment(model, datasets.target.processed.val, p.device)\n",
    "\n",
    "# assert(_source_test_label_accuracy == source_test_label_accuracy)\n",
    "# assert(_target_test_label_accuracy == target_test_label_accuracy)\n",
    "# assert(_source_val_label_accuracy == source_val_label_accuracy)\n",
    "# assert(_target_val_label_accuracy == target_val_label_accuracy)\n",
    "\n",
    "experiment = {\n",
    "    \"experiment_name\": p.experiment_name,\n",
    "    \"parameters\": dict(p),\n",
    "    \"results\": {\n",
    "        \"source_test_label_accuracy\": source_test_label_accuracy,\n",
    "        \"source_test_label_loss\": source_test_label_loss,\n",
    "        \"target_test_label_accuracy\": target_test_label_accuracy,\n",
    "        \"target_test_label_loss\": target_test_label_loss,\n",
    "        \"source_val_label_accuracy\": source_val_label_accuracy,\n",
    "        \"source_val_label_loss\": source_val_label_loss,\n",
    "        \"target_val_label_accuracy\": target_val_label_accuracy,\n",
    "        \"target_val_label_loss\": target_val_label_loss,\n",
    "        \"total_epochs_trained\": total_epochs_trained,\n",
    "        \"total_experiment_time_secs\": total_experiment_time_secs,\n",
    "        \"confusion\": confusion,\n",
    "        \"per_domain_accuracy\": per_domain_accuracy,\n",
    "    },\n",
    "    \"history\": history,\n",
    "    \"dataset_metrics\": get_dataset_metrics(datasets, \"ptn\"),\n",
    "}"
   ]
  },
  {
   "cell_type": "code",
   "execution_count": 25,
   "id": "54a21829",
   "metadata": {
    "execution": {
     "iopub.execute_input": "2022-03-28T18:18:21.981768Z",
     "iopub.status.busy": "2022-03-28T18:18:21.981387Z",
     "iopub.status.idle": "2022-03-28T18:18:22.192190Z",
     "shell.execute_reply": "2022-03-28T18:18:22.191357Z"
    },
    "papermill": {
     "duration": 0.255983,
     "end_time": "2022-03-28T18:18:22.192348",
     "exception": false,
     "start_time": "2022-03-28T18:18:21.936365",
     "status": "completed"
    },
    "tags": []
   },
   "outputs": [
    {
     "data": {
      "image/png": "[encoded data removed]",
      "text/plain": [
       "<Figure size 1080x504 with 1 Axes>"
      ]
     },
     "metadata": {
      "needs_background": "light"
     },
     "output_type": "display_data"
    }
   ],
   "source": [
    "ax = get_loss_curve(experiment)\n",
    "plt.show()"
   ]
  },
  {
   "cell_type": "code",
   "execution_count": 26,
   "id": "fd8a0f60",
   "metadata": {
    "execution": {
     "iopub.execute_input": "2022-03-28T18:18:22.284664Z",
     "iopub.status.busy": "2022-03-28T18:18:22.284291Z",
     "iopub.status.idle": "2022-03-28T18:18:22.613550Z",
     "shell.execute_reply": "2022-03-28T18:18:22.614227Z"
    },
    "papermill": {
     "duration": 0.375424,
     "end_time": "2022-03-28T18:18:22.614423",
     "exception": false,
     "start_time": "2022-03-28T18:18:22.238999",
     "status": "completed"
    },
    "tags": []
   },
   "outputs": [
    {
     "data": {
      "text/plain": [
       "<AxesSubplot:title={'center':'Results'}>"
      ]
     },
     "execution_count": 26,
     "metadata": {},
     "output_type": "execute_result"
    },
    {
     "data": {
      "image/png": "[encoded data removed]",
      "text/plain": [
       "<Figure size 1080x504 with 1 Axes>"
      ]
     },
     "metadata": {
      "needs_background": "light"
     },
     "output_type": "display_data"
    }
   ],
   "source": [
    "get_results_table(experiment)"
   ]
  },
  {
   "cell_type": "code",
   "execution_count": 27,
   "id": "cf8dc689",
   "metadata": {
    "execution": {
     "iopub.execute_input": "2022-03-28T18:18:22.717031Z",
     "iopub.status.busy": "2022-03-28T18:18:22.716648Z",
     "iopub.status.idle": "2022-03-28T18:18:22.955040Z",
     "shell.execute_reply": "2022-03-28T18:18:22.954335Z"
    },
    "papermill": {
     "duration": 0.290582,
     "end_time": "2022-03-28T18:18:22.955215",
     "exception": false,
     "start_time": "2022-03-28T18:18:22.664633",
     "status": "completed"
    },
    "tags": []
   },
   "outputs": [
    {
     "data": {
      "text/plain": [
       "<AxesSubplot:title={'center':'Per Domain Validation Accuracy'}, xlabel='domain'>"
      ]
     },
     "execution_count": 27,
     "metadata": {},
     "output_type": "execute_result"
    },
    {
     "data": {
      "image/png": "[encoded data removed]",
      "text/plain": [
       "<Figure size 1080x504 with 1 Axes>"
      ]
     },
     "metadata": {
      "needs_background": "light"
     },
     "output_type": "display_data"
    }
   ],
   "source": [
    "get_domain_accuracies(experiment)"
   ]
  },
  {
   "cell_type": "code",
   "execution_count": 28,
   "id": "a74ae082",
   "metadata": {
    "execution": {
     "iopub.execute_input": "2022-03-28T18:18:23.056697Z",
     "iopub.status.busy": "2022-03-28T18:18:23.056315Z",
     "iopub.status.idle": "2022-03-28T18:18:23.082870Z",
     "shell.execute_reply": "2022-03-28T18:18:23.082057Z"
    },
    "papermill": {
     "duration": 0.075562,
     "end_time": "2022-03-28T18:18:23.083028",
     "exception": false,
     "start_time": "2022-03-28T18:18:23.007466",
     "status": "completed"
    },
    "tags": []
   },
   "outputs": [
    {
     "name": "stdout",
     "output_type": "stream",
     "text": [
      "Source Test Label Accuracy: 0.6762369791666667 Target Test Label Accuracy: 0.9505266853932585\n",
      "Source Val Label Accuracy: 0.6714518229166667 Target Val Label Accuracy: 0.9502857142857143\n"
     ]
    }
   ],
   "source": [
    "print(\"Source Test Label Accuracy:\", experiment[\"results\"][\"source_test_label_accuracy\"], \"Target Test Label Accuracy:\", experiment[\"results\"][\"target_test_label_accuracy\"])\n",
    "print(\"Source Val Label Accuracy:\", experiment[\"results\"][\"source_val_label_accuracy\"], \"Target Val Label Accuracy:\", experiment[\"results\"][\"target_val_label_accuracy\"])"
   ]
  },
  {
   "cell_type": "code",
   "execution_count": 29,
   "id": "dacca602",
   "metadata": {
    "execution": {
     "iopub.execute_input": "2022-03-28T18:18:23.183422Z",
     "iopub.status.busy": "2022-03-28T18:18:23.182857Z",
     "iopub.status.idle": "2022-03-28T18:18:23.204345Z",
     "shell.execute_reply": "2022-03-28T18:18:23.205024Z"
    },
    "papermill": {
     "duration": 0.071708,
     "end_time": "2022-03-28T18:18:23.205206",
     "exception": false,
     "start_time": "2022-03-28T18:18:23.133498",
     "status": "completed"
    },
    "tags": [
     "experiment_json"
    ]
   },
   "outputs": [
    {
     "data": {
      "text/plain": [
       "'{\"experiment_name\": \"tl_3-jitter5v2:oracle.run1.framed -> cores\", \"parameters\": {\"experiment_name\": \"tl_3-jitter5v2:oracle.run1.framed -> cores\", \"device\": \"cuda\", \"lr\": 0.0001, \"x_shape\": [2, 256], \"n_shot\": 3, \"n_query\": 2, \"train_k_factor\": 3, \"val_k_factor\": 2, \"test_k_factor\": 2, \"torch_default_dtype\": \"torch.float32\", \"n_epoch\": 50, \"patience\": 3, \"criteria_for_best\": \"target_accuracy\", \"x_net\": [{\"class\": \"nnReshape\", \"kargs\": {\"shape\": [-1, 1, 2, 256]}}, {\"class\": \"Conv2d\", \"kargs\": {\"in_channels\": 1, \"out_channels\": 256, \"kernel_size\": [1, 7], \"bias\": false, \"padding\": [0, 3]}}, {\"class\": \"ReLU\", \"kargs\": {\"inplace\": true}}, {\"class\": \"BatchNorm2d\", \"kargs\": {\"num_features\": 256}}, {\"class\": \"Conv2d\", \"kargs\": {\"in_channels\": 256, \"out_channels\": 80, \"kernel_size\": [2, 7], \"bias\": true, \"padding\": [0, 3]}}, {\"class\": \"ReLU\", \"kargs\": {\"inplace\": true}}, {\"class\": \"BatchNorm2d\", \"kargs\": {\"num_features\": 80}}, {\"class\": \"Flatten\", \"kargs\": {}}, {\"class\": \"Linear\", \"kargs\": {\"in_features\": 20480, \"out_features\": 256}}, {\"class\": \"ReLU\", \"kargs\": {\"inplace\": true}}, {\"class\": \"BatchNorm1d\", \"kargs\": {\"num_features\": 256}}, {\"class\": \"Linear\", \"kargs\": {\"in_features\": 256, \"out_features\": 256}}], \"NUM_LOGS_PER_EPOCH\": 10, \"BEST_MODEL_PATH\": \"./best_model.pth\", \"n_way\": 16, \"datasets\": [{\"labels\": [\"1-10.\", \"1-11.\", \"1-15.\", \"1-16.\", \"1-17.\", \"1-18.\", \"1-19.\", \"10-4.\", \"10-7.\", \"11-1.\", \"11-14.\", \"11-17.\", \"11-20.\", \"11-7.\", \"13-20.\", \"13-8.\", \"14-10.\", \"14-11.\", \"14-14.\", \"14-7.\", \"15-1.\", \"15-20.\", \"16-1.\", \"16-16.\", \"17-10.\", \"17-11.\", \"17-2.\", \"19-1.\", \"19-16.\", \"19-19.\", \"19-20.\", \"19-3.\", \"2-10.\", \"2-11.\", \"2-17.\", \"2-18.\", \"2-20.\", \"2-3.\", \"2-4.\", \"2-5.\", \"2-6.\", \"2-7.\", \"2-8.\", \"3-13.\", \"3-18.\", \"3-3.\", \"4-1.\", \"4-10.\", \"4-11.\", \"4-19.\", \"5-5.\", \"6-15.\", \"7-10.\", \"7-14.\", \"8-18.\", \"8-20.\", \"8-3.\", \"8-8.\"], \"domains\": [1, 2, 3, 4, 5], \"num_examples_per_domain_per_label\": -1, \"pickle_path\": \"/root/csc500-main/datasets/cores.stratified_ds.2022A.pkl\", \"source_or_target_dataset\": \"target\", \"x_transforms\": [\"unit_mag\", \"jitter_256_5\", \"lowpass_+/-10MHz\", \"take_200\"], \"episode_transforms\": [], \"domain_prefix\": \"C_\"}, {\"labels\": [\"3123D52\", \"3123D65\", \"3123D79\", \"3123D80\", \"3123D54\", \"3123D70\", \"3123D7B\", \"3123D89\", \"3123D58\", \"3123D76\", \"3123D7D\", \"3123EFE\", \"3123D64\", \"3123D78\", \"3123D7E\", \"3124E4A\"], \"domains\": [32, 38, 8, 44, 14, 50, 20, 26], \"num_examples_per_domain_per_label\": 2000, \"pickle_path\": \"/root/csc500-main/datasets/oracle.Run1_framed_2000Examples_stratified_ds.2022A.pkl\", \"source_or_target_dataset\": \"source\", \"x_transforms\": [\"unit_mag\", \"jitter_256_5\", \"take_200\", \"resample_20Msps_to_25Msps\"], \"episode_transforms\": [], \"domain_prefix\": \"O_\"}], \"seed\": 500, \"dataset_seed\": 500, \"domains_source\": [\"O_32\", \"O_38\", \"O_8\", \"O_44\", \"O_14\", \"O_50\", \"O_20\", \"O_26\"], \"domains_target\": [\"C_1\", \"C_2\", \"C_3\", \"C_4\", \"C_5\"]}, \"results\": {\"source_test_label_accuracy\": 0.6762369791666667, \"source_test_label_loss\": 0.884045422077179, \"target_test_label_accuracy\": 0.9505266853932585, \"target_test_label_loss\": 0.6620262861251831, \"source_val_label_accuracy\": 0.6714518229166667, \"source_val_label_loss\": 0.8845486640930176, \"target_val_label_accuracy\": 0.9502857142857143, \"target_val_label_loss\": 0.7043601274490356, \"total_epochs_trained\": 6, \"total_experiment_time_secs\": 1323.5814988613129, \"confusion\": {\"O_50\": {\"7\": {\"4\": 3, \"7\": 139, \"5\": 32, \"13\": 52, \"10\": 12, \"0\": 1, \"6\": 1}, \"10\": {\"10\": 216, \"7\": 9, \"0\": 6, \"8\": 7, \"13\": 2}, \"0\": {\"0\": 210, \"10\": 12, \"2\": 16, \"6\": 1, \"13\": 1}, \"11\": {\"11\": 199, \"9\": 16, \"14\": 18, \"15\": 6, \"1\": 1}, \"2\": {\"2\": 222, \"0\": 18}, \"14\": {\"14\": 232, \"12\": 4, \"11\": 3, \"9\": 1}, \"9\": {\"11\": 33, \"9\": 173, \"12\": 32, \"14\": 2}, \"13\": {\"7\": 45, \"13\": 123, \"5\": 50, \"10\": 6, \"0\": 2, \"6\": 14}, \"8\": {\"8\": 232, \"10\": 6, \"3\": 2}, \"15\": {\"15\": 163, \"1\": 37, \"4\": 36, \"11\": 3, \"14\": 1}, \"4\": {\"4\": 77, \"1\": 55, \"15\": 47, \"6\": 29, \"5\": 21, \"7\": 7, \"13\": 4}, \"5\": {\"4\": 16, \"7\": 63, \"13\": 52, \"6\": 31, \"5\": 66, \"1\": 8, \"15\": 2, \"10\": 1, \"0\": 1}, \"3\": {\"3\": 239, \"8\": 1}, \"1\": {\"1\": 126, \"4\": 27, \"15\": 52, \"6\": 33, \"11\": 1, \"14\": 1}, \"6\": {\"6\": 116, \"4\": 32, \"5\": 44, \"15\": 1, \"13\": 12, \"1\": 29, \"0\": 4, \"2\": 2}, \"12\": {\"12\": 194, \"14\": 15, \"11\": 2, \"9\": 29}}, \"O_14\": {\"14\": {\"6\": 24, \"14\": 162, \"2\": 18, \"13\": 30, \"3\": 4, \"10\": 1, \"4\": 1}, \"6\": {\"6\": 140, \"2\": 14, \"13\": 74, \"14\": 12}, \"5\": {\"1\": 28, \"5\": 132, \"4\": 68, \"2\": 11, \"7\": 1}, \"15\": {\"15\": 213, \"7\": 27}, \"11\": {\"11\": 210, \"10\": 10, \"0\": 5, \"9\": 15}, \"8\": {\"8\": 240}, \"12\": {\"12\": 240}, \"1\": {\"1\": 214, \"5\": 21, \"4\": 5}, \"2\": {\"2\": 106, \"13\": 19, \"5\": 19, \"14\": 38, \"4\": 20, \"6\": 32, \"3\": 5, \"15\": 1}, \"13\": {\"14\": 78, \"6\": 80, \"13\": 59, \"2\": 19, \"5\": 4}, \"3\": {\"3\": 210, \"4\": 25, \"14\": 2, \"2\": 2, \"10\": 1}, \"0\": {\"10\": 55, \"0\": 180, \"11\": 3, \"8\": 1, \"3\": 1}, \"9\": {\"9\": 239, \"12\": 1}, \"4\": {\"4\": 175, \"5\": 37, \"3\": 12, \"2\": 8, \"1\": 8}, \"7\": {\"7\": 226, \"15\": 14}, \"10\": {\"10\": 200, \"0\": 40}}, \"O_32\": {\"4\": {\"4\": 82, \"8\": 1, \"2\": 44, \"14\": 3, \"0\": 75, \"7\": 26, \"5\": 4, \"13\": 5}, \"14\": {\"14\": 81, \"11\": 67, \"7\": 53, \"4\": 11, \"13\": 10, \"0\": 5, \"5\": 10, \"3\": 3}, \"5\": {\"8\": 26, \"14\": 20, \"5\": 46, \"4\": 15, \"3\": 17, \"13\": 57, \"0\": 25, \"7\": 30, \"2\": 2, \"11\": 2}, \"10\": {\"10\": 240}, \"13\": {\"0\": 12, \"13\": 68, \"5\": 57, \"8\": 39, \"14\": 13, \"7\": 30, \"3\": 10, \"11\": 4, \"4\": 7}, \"9\": {\"9\": 237, \"2\": 1, \"12\": 2}, \"6\": {\"6\": 240}, \"3\": {\"3\": 217, \"13\": 7, \"11\": 3, \"5\": 6, \"14\": 4, \"8\": 3}, \"15\": {\"15\": 237, \"8\": 2, \"3\": 1}, \"7\": {\"5\": 18, \"4\": 20, \"14\": 56, \"0\": 8, \"7\": 112, \"2\": 5, \"13\": 14, \"11\": 6, \"8\": 1}, \"12\": {\"12\": 240}, \"8\": {\"8\": 139, \"13\": 57, \"14\": 3, \"5\": 24, \"0\": 11, \"7\": 2, \"4\": 2, \"3\": 2}, \"11\": {\"11\": 184, \"14\": 46, \"7\": 5, \"5\": 3, \"13\": 2}, \"2\": {\"2\": 192, \"5\": 3, \"0\": 14, \"4\": 29, \"7\": 2}, \"1\": {\"1\": 238, \"10\": 2}, \"0\": {\"4\": 51, \"5\": 15, \"0\": 119, \"2\": 13, \"14\": 2, \"8\": 20, \"7\": 15, \"13\": 5}}, \"O_44\": {\"8\": {\"8\": 126, \"0\": 93, \"15\": 12, \"5\": 9}, \"11\": {\"11\": 175, \"6\": 30, \"9\": 2, \"13\": 33}, \"14\": {\"14\": 144, \"4\": 71, \"5\": 8, \"15\": 17}, \"10\": {\"10\": 179, \"1\": 20, \"2\": 22, \"12\": 18, \"3\": 1}, \"3\": {\"3\": 215, \"1\": 21, \"12\": 3, \"2\": 1}, \"15\": {\"15\": 186, \"8\": 3, \"14\": 20, \"0\": 21, \"5\": 10}, \"2\": {\"2\": 174, \"7\": 30, \"6\": 1, \"1\": 15, \"10\": 18, \"3\": 2}, \"12\": {\"12\": 172, \"1\": 52, \"10\": 13, \"3\": 3}, \"4\": {\"14\": 81, \"4\": 152, \"15\": 7}, \"1\": {\"3\": 31, \"1\": 133, \"10\": 18, \"12\": 54, \"2\": 4}, \"0\": {\"15\": 12, \"0\": 134, \"8\": 77, \"5\": 17}, \"9\": {\"13\": 25, \"9\": 118, \"7\": 62, \"4\": 2, \"6\": 26, \"2\": 7}, \"5\": {\"5\": 183, \"0\": 28, \"15\": 13, \"4\": 4, \"14\": 9, \"8\": 3}, \"6\": {\"11\": 21, \"6\": 157, \"7\": 9, \"13\": 32, \"9\": 21}, \"7\": {\"7\": 144, \"2\": 44, \"9\": 44, \"6\": 4, \"13\": 1, \"3\": 2, \"1\": 1}, \"13\": {\"13\": 133, \"6\": 37, \"7\": 4, \"11\": 40, \"9\": 26}}, \"O_8\": {\"13\": {\"13\": 93, \"0\": 59, \"10\": 21, \"14\": 30, \"4\": 27, \"6\": 10}, \"3\": {\"3\": 217, \"2\": 13, \"15\": 1, \"12\": 9}, \"15\": {\"12\": 30, \"15\": 201, \"8\": 8, \"2\": 1}, \"4\": {\"4\": 151, \"13\": 39, \"0\": 2, \"6\": 20, \"14\": 24, \"10\": 3, \"7\": 1}, \"7\": {\"7\": 190, \"6\": 37, \"13\": 3, \"0\": 10}, \"2\": {\"2\": 198, \"3\": 35, \"7\": 5, \"15\": 2}, \"1\": {\"1\": 168, \"11\": 67, \"5\": 4, \"14\": 1}, \"0\": {\"7\": 8, \"0\": 180, \"13\": 44, \"4\": 3, \"6\": 5}, \"12\": {\"15\": 61, \"12\": 144, \"3\": 33, \"8\": 2}, \"6\": {\"13\": 9, \"6\": 177, \"7\": 35, \"4\": 15, \"0\": 4}, \"11\": {\"11\": 134, \"1\": 102, \"5\": 3, \"14\": 1}, \"9\": {\"9\": 240}, \"5\": {\"5\": 216, \"10\": 14, \"1\": 5, \"11\": 3, \"14\": 2}, \"10\": {\"14\": 60, \"10\": 157, \"4\": 11, \"13\": 11, \"5\": 1}, \"14\": {\"10\": 59, \"14\": 125, \"4\": 36, \"1\": 5, \"13\": 13, \"11\": 1, \"0\": 1}, \"8\": {\"8\": 234, \"15\": 5, \"6\": 1}}, \"O_20\": {\"6\": {\"6\": 217, \"14\": 20, \"10\": 2, \"7\": 1}, \"11\": {\"11\": 240}, \"5\": {\"5\": 92, \"1\": 44, \"3\": 14, \"15\": 6, \"0\": 45, \"12\": 36, \"9\": 1, \"4\": 1, \"2\": 1}, \"14\": {\"14\": 184, \"10\": 49, \"8\": 2, \"6\": 5}, \"2\": {\"2\": 98, \"9\": 82, \"7\": 30, \"13\": 14, \"12\": 6, \"3\": 9, \"8\": 1}, \"7\": {\"7\": 177, \"2\": 25, \"3\": 5, \"9\": 21, \"6\": 2, \"8\": 10}, \"3\": {\"3\": 117, \"12\": 50, \"9\": 27, \"2\": 14, \"8\": 10, \"4\": 8, \"0\": 1, \"7\": 10, \"5\": 3}, \"4\": {\"8\": 38, \"4\": 195, \"3\": 3, \"10\": 3, \"7\": 1}, \"9\": {\"9\": 91, \"3\": 34, \"12\": 11, \"13\": 11, \"2\": 75, \"7\": 18}, \"12\": {\"12\": 99, \"3\": 39, \"0\": 13, \"9\": 21, \"5\": 32, \"1\": 31, \"15\": 2, \"2\": 2, \"13\": 1}, \"0\": {\"5\": 56, \"15\": 51, \"0\": 67, \"1\": 45, \"12\": 14, \"9\": 3, \"3\": 4}, \"10\": {\"10\": 183, \"14\": 39, \"8\": 11, \"6\": 2, \"4\": 5}, \"8\": {\"8\": 179, \"4\": 34, \"3\": 4, \"7\": 8, \"10\": 13, \"9\": 1, \"14\": 1}, \"13\": {\"13\": 212, \"2\": 14, \"9\": 9, \"15\": 3, \"1\": 1, \"5\": 1}, \"1\": {\"1\": 64, \"13\": 2, \"12\": 30, \"15\": 46, \"5\": 45, \"0\": 50, \"3\": 2, \"9\": 1}, \"15\": {\"15\": 140, \"0\": 38, \"1\": 47, \"5\": 6, \"13\": 4, \"12\": 5}}, \"O_38\": {\"3\": {\"3\": 180, \"9\": 32, \"6\": 6, \"7\": 16, \"5\": 3, \"0\": 3}, \"8\": {\"5\": 49, \"15\": 12, \"0\": 42, \"8\": 120, \"7\": 7, \"13\": 2, \"1\": 3, \"10\": 5}, \"0\": {\"8\": 56, \"0\": 63, \"7\": 73, \"10\": 5, \"6\": 1, \"5\": 29, \"3\": 10, \"13\": 1, \"12\": 1, \"15\": 1}, \"2\": {\"14\": 25, \"2\": 208, \"13\": 6, \"15\": 1}, \"4\": {\"4\": 225, \"12\": 15}, \"7\": {\"7\": 172, \"5\": 11, \"0\": 49, \"8\": 5, \"10\": 2, \"3\": 1}, \"12\": {\"12\": 210, \"10\": 11, \"4\": 19}, \"6\": {\"6\": 177, \"9\": 61, \"5\": 2}, \"15\": {\"15\": 129, \"13\": 71, \"8\": 3, \"1\": 28, \"10\": 3, \"5\": 6}, \"11\": {\"11\": 174, \"14\": 62, \"10\": 1, \"12\": 3}, \"9\": {\"9\": 146, \"6\": 77, \"3\": 17}, \"14\": {\"11\": 43, \"14\": 185, \"2\": 11, \"10\": 1}, \"10\": {\"12\": 40, \"10\": 155, \"8\": 12, \"0\": 10, \"13\": 9, \"7\": 2, \"14\": 4, \"2\": 4, \"15\": 4}, \"5\": {\"0\": 31, \"5\": 101, \"15\": 10, \"6\": 16, \"7\": 19, \"8\": 48, \"9\": 3, \"10\": 1, \"1\": 6, \"13\": 2, \"3\": 2, \"4\": 1}, \"1\": {\"1\": 233, \"15\": 6, \"13\": 1}, \"13\": {\"10\": 14, \"13\": 132, \"15\": 76, \"1\": 5, \"2\": 5, \"5\": 1, \"8\": 4, \"14\": 2, \"0\": 1}}, \"O_26\": {\"5\": {\"5\": 126, \"13\": 34, \"2\": 9, \"15\": 48, \"9\": 21, \"8\": 1, \"3\": 1}, \"8\": {\"8\": 100, \"0\": 27, \"4\": 25, \"15\": 14, \"9\": 8, \"10\": 33, \"7\": 18, \"6\": 12, \"14\": 1, \"2\": 1, \"1\": 1}, \"4\": {\"4\": 85, \"14\": 42, \"8\": 17, \"7\": 10, \"0\": 34, \"10\": 17, \"1\": 34, \"3\": 1}, \"12\": {\"12\": 232, \"11\": 8}, \"6\": {\"9\": 26, \"6\": 173, \"8\": 7, \"10\": 21, \"15\": 5, \"0\": 6, \"13\": 2}, \"7\": {\"7\": 153, \"2\": 19, \"4\": 15, \"3\": 30, \"14\": 3, \"8\": 17, \"15\": 2, \"1\": 1}, \"10\": {\"0\": 60, \"10\": 88, \"6\": 20, \"15\": 2, \"8\": 44, \"4\": 7, \"1\": 7, \"14\": 10, \"7\": 2}, \"0\": {\"4\": 40, \"10\": 48, \"0\": 56, \"14\": 43, \"1\": 24, \"8\": 22, \"6\": 2, \"7\": 4, \"9\": 1}, \"15\": {\"15\": 68, \"13\": 14, \"5\": 40, \"8\": 13, \"9\": 80, \"6\": 14, \"2\": 8, \"7\": 2, \"4\": 1}, \"9\": {\"6\": 17, \"9\": 93, \"15\": 64, \"8\": 28, \"13\": 11, \"5\": 21, \"7\": 3, \"10\": 2, \"2\": 1}, \"11\": {\"11\": 231, \"12\": 9}, \"14\": {\"4\": 33, \"14\": 67, \"10\": 11, \"0\": 46, \"1\": 79, \"8\": 4}, \"2\": {\"2\": 99, \"7\": 24, \"5\": 20, \"3\": 74, \"8\": 4, \"15\": 12, \"9\": 5, \"4\": 1, \"13\": 1}, \"13\": {\"5\": 63, \"13\": 155, \"2\": 1, \"9\": 13, \"6\": 3, \"15\": 5}, \"3\": {\"3\": 149, \"2\": 59, \"7\": 31, \"5\": 1}, \"1\": {\"4\": 37, \"1\": 92, \"14\": 81, \"0\": 17, \"7\": 4, \"10\": 3, \"8\": 6}}, \"C_4\": {\"38\": {\"38\": 39, \"2\": 1}, \"3\": {\"20\": 26, \"3\": 86, \"25\": 4, \"36\": 8}, \"24\": {\"24\": 56}, \"49\": {\"49\": 20}, \"7\": {\"7\": 24}, \"17\": {\"17\": 78, \"27\": 2}, \"43\": {\"43\": 148}, \"30\": {\"30\": 44}, \"44\": {\"44\": 108, \"29\": 6, \"40\": 2, \"19\": 15, \"9\": 1}, \"23\": {\"23\": 143, \"18\": 1}, \"37\": {\"37\": 24}, \"4\": {\"4\": 121, \"40\": 5, \"9\": 4, \"19\": 2}, \"57\": {\"57\": 93, \"35\": 7}, \"16\": {\"16\": 93, \"52\": 2, \"23\": 1}, \"18\": {\"18\": 101, \"23\": 5, \"8\": 1, \"46\": 1}, \"20\": {\"3\": 9, \"20\": 115}, \"45\": {\"45\": 91, \"17\": 2, \"44\": 1, \"4\": 2}, \"15\": {\"15\": 129, \"5\": 1, \"31\": 1, \"52\": 1}, \"52\": {\"52\": 115, \"31\": 1}, \"19\": {\"19\": 137, \"29\": 1, \"40\": 1, \"44\": 1}, \"54\": {\"54\": 92, \"28\": 4, \"48\": 12}, \"56\": {\"56\": 130}, \"40\": {\"40\": 123, \"35\": 1, \"28\": 1, \"19\": 4, \"4\": 2, \"44\": 3}, \"28\": {\"28\": 28, \"54\": 3, \"48\": 1}, \"2\": {\"2\": 35, \"38\": 1}, \"9\": {\"9\": 112, \"4\": 4, \"54\": 2, \"27\": 2}, \"0\": {\"0\": 78, \"38\": 2}, \"36\": {\"36\": 89, \"20\": 1, \"3\": 1, \"25\": 1}, \"55\": {\"55\": 130}, \"35\": {\"57\": 8, \"35\": 32}, \"39\": {\"39\": 20}, \"31\": {\"31\": 28}, \"14\": {\"38\": 2, \"14\": 11, \"1\": 2, \"57\": 1}, \"12\": {\"12\": 92}, \"6\": {\"6\": 100, \"53\": 3, \"51\": 5, \"52\": 1, \"20\": 1, \"16\": 2}, \"26\": {\"26\": 24}, \"50\": {\"3\": 2, \"50\": 108, \"21\": 13, \"53\": 2, \"20\": 2, \"25\": 3, \"6\": 1, \"51\": 1}, \"21\": {\"21\": 116, \"50\": 5, \"8\": 1}, \"46\": {\"46\": 133, \"5\": 3, \"0\": 1, \"32\": 3}, \"51\": {\"51\": 138, \"53\": 1, \"50\": 1}, \"41\": {\"41\": 36}, \"34\": {\"34\": 24}, \"47\": {\"47\": 120}, \"5\": {\"5\": 99, \"42\": 2, \"41\": 1, \"46\": 3, \"23\": 3}, \"1\": {\"1\": 40}, \"48\": {\"48\": 127, \"28\": 2, \"54\": 4, \"17\": 1}, \"29\": {\"29\": 115, \"35\": 1, \"40\": 1, \"44\": 1}, \"22\": {\"22\": 128}, \"10\": {\"10\": 131, \"11\": 1}, \"32\": {\"32\": 23, \"46\": 1}, \"13\": {\"13\": 110, \"10\": 2}, \"42\": {\"42\": 31, \"34\": 1}, \"27\": {\"27\": 137, \"17\": 1}, \"8\": {\"8\": 142}, \"33\": {\"33\": 36}, \"25\": {\"36\": 8, \"25\": 108, \"8\": 12, \"20\": 4}, \"11\": {\"11\": 102, \"24\": 1, \"52\": 1}, \"53\": {\"6\": 3, \"53\": 107, \"21\": 1, \"8\": 1}}, \"C_2\": {\"32\": {\"32\": 28}, \"17\": {\"17\": 103, \"54\": 1}, \"38\": {\"38\": 20}, \"2\": {\"2\": 31, \"23\": 1}, \"43\": {\"43\": 143, \"5\": 1}, \"56\": {\"56\": 144}, \"37\": {\"37\": 36}, \"49\": {\"49\": 24}, \"0\": {\"0\": 47, \"56\": 1}, \"29\": {\"29\": 124, \"44\": 2, \"19\": 2}, \"35\": {\"29\": 6, \"35\": 12, \"45\": 2, \"9\": 4, \"4\": 3, \"19\": 1, \"40\": 3, \"44\": 1}, \"18\": {\"18\": 47, \"41\": 1}, \"25\": {\"25\": 112, \"36\": 11, \"50\": 3, \"8\": 8, \"6\": 2}, \"23\": {\"23\": 124}, \"15\": {\"15\": 140, \"7\": 6}, \"21\": {\"21\": 120}, \"51\": {\"51\": 127, \"53\": 1}, \"20\": {\"20\": 135, \"53\": 2, \"8\": 1}, \"7\": {\"7\": 31, \"15\": 5}, \"50\": {\"50\": 128, \"6\": 3, \"18\": 1, \"30\": 1, \"41\": 1, \"25\": 2}, \"31\": {\"31\": 28}, \"30\": {\"30\": 140}, \"19\": {\"9\": 7, \"19\": 139, \"40\": 4, \"29\": 4, \"44\": 2}, \"9\": {\"9\": 138, \"40\": 6}, \"52\": {\"52\": 122, \"16\": 2}, \"45\": {\"45\": 104, \"35\": 1, \"4\": 15, \"19\": 2, \"9\": 2, \"40\": 2, \"44\": 1, \"54\": 1}, \"8\": {\"8\": 154}, \"55\": {\"55\": 149, \"57\": 11}, \"12\": {\"12\": 92}, \"40\": {\"40\": 95, \"9\": 22, \"19\": 10, \"35\": 3, \"4\": 6, \"29\": 4}, \"28\": {\"28\": 28}, \"36\": {\"36\": 116}, \"39\": {\"39\": 28}, \"46\": {\"46\": 103, \"15\": 4, \"52\": 3, \"16\": 12}, \"14\": {\"56\": 2, \"40\": 1, \"14\": 9, \"55\": 3, \"1\": 2, \"0\": 3, \"29\": 3, \"44\": 1}, \"57\": {\"57\": 132, \"55\": 8, \"1\": 2}, \"34\": {\"34\": 26, \"32\": 1, \"48\": 1}, \"1\": {\"1\": 104, \"57\": 7, \"55\": 1}, \"53\": {\"53\": 129, \"20\": 7}, \"48\": {\"48\": 130}, \"3\": {\"3\": 90, \"21\": 2}, \"16\": {\"16\": 149, \"46\": 2, \"30\": 1}, \"6\": {\"6\": 116, \"50\": 6, \"25\": 1, \"46\": 1}, \"10\": {\"10\": 112}, \"13\": {\"13\": 116}, \"26\": {\"26\": 24}, \"24\": {\"24\": 96}, \"44\": {\"44\": 77, \"19\": 14, \"29\": 6, \"9\": 2, \"40\": 1}, \"27\": {\"27\": 150}, \"22\": {\"22\": 128}, \"33\": {\"33\": 26, \"48\": 2}, \"47\": {\"47\": 118}, \"5\": {\"5\": 119, \"42\": 1}, \"4\": {\"4\": 121, \"45\": 9, \"17\": 1, \"19\": 2, \"9\": 2, \"35\": 1, \"32\": 2}, \"41\": {\"41\": 18, \"18\": 2}, \"11\": {\"11\": 150}, \"54\": {\"54\": 106, \"27\": 1, \"17\": 1}, \"42\": {\"42\": 36}}, \"C_3\": {\"5\": {\"5\": 115, \"55\": 1}, \"32\": {\"32\": 27, \"27\": 1}, \"33\": {\"33\": 28}, \"49\": {\"49\": 20}, \"39\": {\"39\": 16}, \"11\": {\"11\": 142}, \"8\": {\"8\": 116}, \"26\": {\"26\": 24}, \"51\": {\"51\": 122}, \"4\": {\"4\": 134, \"40\": 4, \"45\": 1, \"19\": 5, \"34\": 1, \"32\": 1}, \"52\": {\"52\": 116, \"16\": 2}, \"47\": {\"47\": 84, \"39\": 1, \"42\": 2, \"55\": 3, \"48\": 2}, \"17\": {\"17\": 105, \"27\": 2, \"24\": 1}, \"53\": {\"53\": 136}, \"2\": {\"2\": 31, \"33\": 1}, \"12\": {\"12\": 92}, \"37\": {\"37\": 28}, \"9\": {\"9\": 148}, \"13\": {\"13\": 128}, \"54\": {\"54\": 100}, \"31\": {\"31\": 28}, \"34\": {\"34\": 31, \"1\": 1}, \"24\": {\"24\": 104}, \"7\": {\"7\": 34, \"11\": 1, \"24\": 1}, \"50\": {\"50\": 99, \"41\": 1, \"38\": 1, \"25\": 2, \"20\": 9, \"6\": 2, \"46\": 2, \"18\": 1, \"52\": 1}, \"46\": {\"46\": 114, \"6\": 1, \"16\": 10, \"15\": 1, \"52\": 2}, \"44\": {\"44\": 60, \"9\": 5, \"29\": 8, \"40\": 10, \"19\": 2, \"57\": 1, \"27\": 2}, \"40\": {\"40\": 93, \"19\": 16, \"29\": 2, \"4\": 1, \"9\": 2, \"45\": 1, \"44\": 1}, \"21\": {\"21\": 127, \"53\": 1}, \"45\": {\"45\": 47, \"40\": 2, \"27\": 2, \"4\": 8, \"9\": 1}, \"16\": {\"16\": 125, \"25\": 1}, \"14\": {\"14\": 14, \"56\": 4, \"34\": 5, \"35\": 3, \"22\": 5, \"0\": 3, \"57\": 1, \"1\": 5}, \"36\": {\"36\": 99, \"2\": 1}, \"56\": {\"56\": 114}, \"10\": {\"10\": 64}, \"18\": {\"18\": 82, \"6\": 2}, \"48\": {\"48\": 116}, \"38\": {\"38\": 28}, \"27\": {\"27\": 130}, \"42\": {\"42\": 28}, \"15\": {\"15\": 131, \"26\": 1, \"46\": 1, \"23\": 1}, \"1\": {\"1\": 95, \"35\": 1, \"57\": 4}, \"28\": {\"28\": 27, \"1\": 1}, \"43\": {\"43\": 136}, \"0\": {\"0\": 123, \"56\": 1}, \"57\": {\"57\": 121, \"35\": 2, \"1\": 1}, \"3\": {\"3\": 141, \"21\": 1, \"52\": 3, \"20\": 3}, \"29\": {\"29\": 120, \"9\": 2, \"1\": 2}, \"41\": {\"41\": 24, \"6\": 1, \"18\": 2, \"30\": 1}, \"25\": {\"8\": 7, \"25\": 131, \"6\": 2, \"36\": 6}, \"6\": {\"18\": 8, \"25\": 2, \"6\": 62, \"26\": 1, \"30\": 4, \"41\": 3, \"46\": 1, \"8\": 2, \"52\": 2, \"33\": 1, \"20\": 1, \"36\": 1}, \"35\": {\"35\": 24, \"57\": 4}, \"20\": {\"20\": 121, \"50\": 5}, \"23\": {\"23\": 134}, \"22\": {\"22\": 138, \"14\": 1, \"0\": 1}, \"19\": {\"19\": 104, \"40\": 8, \"44\": 2, \"9\": 2}, \"55\": {\"55\": 124}, \"30\": {\"30\": 120}}, \"C_1\": {\"24\": {\"24\": 98, \"22\": 9, \"21\": 1}, \"25\": {\"25\": 135, \"18\": 5}, \"45\": {\"45\": 141, \"42\": 3}, \"42\": {\"42\": 40}, \"2\": {\"2\": 34, \"17\": 2}, \"9\": {\"9\": 147, \"5\": 2, \"30\": 1}, \"21\": {\"21\": 113, \"15\": 10, \"24\": 1}, \"26\": {\"26\": 24}, \"49\": {\"23\": 4, \"49\": 24, \"15\": 2, \"21\": 1, \"0\": 1}, \"39\": {\"39\": 28}, \"46\": {\"46\": 133, \"53\": 3}, \"17\": {\"17\": 64}, \"19\": {\"1\": 3, \"19\": 152, \"57\": 1}, \"23\": {\"23\": 127, \"49\": 3, \"0\": 1, \"15\": 1}, \"1\": {\"1\": 86, \"19\": 2, \"57\": 12}, \"29\": {\"29\": 139, \"56\": 1}, \"56\": {\"56\": 149, \"57\": 1}, \"37\": {\"37\": 32}, \"33\": {\"33\": 32}, \"55\": {\"55\": 132, \"42\": 4, \"54\": 3, \"45\": 3}, \"30\": {\"30\": 118, \"9\": 2}, \"0\": {\"0\": 142, \"23\": 10}, \"36\": {\"36\": 64}, \"32\": {\"32\": 31, \"55\": 1}, \"31\": {\"31\": 28}, \"15\": {\"15\": 135, \"21\": 3}, \"12\": {\"12\": 102, \"3\": 14}, \"38\": {\"38\": 24}, \"40\": {\"44\": 2, \"40\": 92, \"29\": 22, \"19\": 12, \"57\": 8, \"4\": 1, \"1\": 7, \"56\": 2}, \"14\": {\"14\": 18, \"7\": 1, \"26\": 1, \"30\": 2, \"17\": 1, \"8\": 1}, \"13\": {\"13\": 137, \"51\": 13}, \"48\": {\"48\": 136, \"50\": 8, \"6\": 3, \"5\": 1}, \"34\": {\"34\": 24}, \"44\": {\"44\": 123, \"35\": 7}, \"5\": {\"5\": 140, \"8\": 3, \"9\": 3, \"6\": 3, \"48\": 3}, \"11\": {\"11\": 140}, \"7\": {\"7\": 28}, \"18\": {\"18\": 71, \"25\": 1}, \"52\": {\"52\": 125, \"11\": 1, \"10\": 6}, \"51\": {\"51\": 129, \"13\": 13}, \"41\": {\"41\": 24}, \"16\": {\"16\": 140}, \"22\": {\"22\": 130, \"24\": 3, \"11\": 1}, \"3\": {\"3\": 114, \"12\": 26}, \"54\": {\"54\": 102, \"55\": 2}, \"27\": {\"27\": 144}, \"20\": {\"20\": 140}, \"8\": {\"8\": 138}, \"50\": {\"50\": 144}, \"57\": {\"57\": 128, \"1\": 10, \"19\": 2}, \"4\": {\"4\": 108, \"29\": 11, \"2\": 2, \"19\": 7, \"40\": 4}, \"47\": {\"47\": 146}, \"10\": {\"10\": 96}, \"35\": {\"35\": 35, \"44\": 1}, \"53\": {\"53\": 126}, \"6\": {\"6\": 92, \"5\": 4}, \"43\": {\"43\": 140}, \"28\": {\"28\": 28}}, \"C_5\": {\"35\": {\"35\": 35, \"0\": 1}, \"57\": {\"57\": 132}, \"20\": {\"20\": 138, \"50\": 5, \"25\": 1}, \"12\": {\"12\": 96}, \"32\": {\"32\": 31, \"27\": 1}, \"25\": {\"25\": 131, \"8\": 7}, \"44\": {\"44\": 144, \"29\": 4}, \"31\": {\"31\": 36}, \"11\": {\"11\": 145, \"23\": 1, \"15\": 2, \"43\": 2}, \"47\": {\"47\": 100}, \"23\": {\"23\": 124}, \"43\": {\"43\": 144}, \"37\": {\"37\": 24}, \"5\": {\"5\": 120, \"40\": 8}, \"45\": {\"45\": 93, \"9\": 8, \"55\": 2, \"27\": 14, \"17\": 1, \"4\": 1, \"30\": 4, \"48\": 1}, \"7\": {\"7\": 32}, \"13\": {\"13\": 131, \"15\": 4, \"11\": 1}, \"49\": {\"49\": 36}, \"46\": {\"46\": 143, \"3\": 5}, \"16\": {\"16\": 134, \"52\": 1, \"23\": 1}, \"54\": {\"54\": 112}, \"19\": {\"19\": 150, \"5\": 2}, \"55\": {\"55\": 138, \"30\": 11, \"48\": 1}, \"30\": {\"30\": 127, \"17\": 1}, \"34\": {\"34\": 35, \"5\": 1}, \"50\": {\"50\": 120, \"20\": 10, \"25\": 2, \"51\": 2}, \"3\": {\"46\": 13, \"3\": 87}, \"10\": {\"10\": 67, \"15\": 1}, \"27\": {\"27\": 137, \"45\": 1, \"4\": 1, \"32\": 1, \"9\": 2}, \"33\": {\"33\": 32}, \"56\": {\"56\": 142}, \"9\": {\"9\": 134, \"45\": 3, \"48\": 10, \"27\": 3}, \"14\": {\"31\": 7, \"14\": 14, \"49\": 2, \"35\": 1, \"57\": 7, \"36\": 3, \"33\": 1, \"54\": 4, \"3\": 1, \"0\": 2, \"2\": 1, \"46\": 1}, \"4\": {\"4\": 71, \"32\": 2, \"27\": 7, \"19\": 12, \"45\": 6, \"9\": 2}, \"42\": {\"42\": 38, \"39\": 1, \"1\": 1}, \"24\": {\"24\": 80}, \"39\": {\"39\": 19, \"41\": 1}, \"52\": {\"52\": 124, \"16\": 6}, \"2\": {\"2\": 23, \"0\": 4, \"35\": 1}, \"28\": {\"28\": 32}, \"53\": {\"53\": 122}, \"17\": {\"17\": 113, \"30\": 3}, \"29\": {\"29\": 132}, \"38\": {\"38\": 32}, \"15\": {\"15\": 143, \"11\": 1}, \"26\": {\"26\": 24}, \"21\": {\"21\": 144}, \"41\": {\"41\": 25, \"39\": 2, \"54\": 1}, \"48\": {\"48\": 134, \"9\": 2}, \"22\": {\"22\": 28}, \"8\": {\"8\": 148}, \"18\": {\"18\": 64}, \"0\": {\"0\": 120, \"35\": 1, \"2\": 1}, \"1\": {\"1\": 135, \"55\": 3}, \"40\": {\"40\": 107, \"5\": 10, \"19\": 4, \"44\": 2, \"29\": 1}, \"6\": {\"6\": 122, \"8\": 2, \"17\": 1, \"30\": 1, \"55\": 2}, \"51\": {\"51\": 142}, \"36\": {\"36\": 91, \"47\": 1}}}, \"per_domain_accuracy\": {\"O_50\": {\"accuracy\": 0.71015625, \"source?\": true}, \"O_14\": {\"accuracy\": 0.7671875, \"source?\": true}, \"O_32\": {\"accuracy\": 0.6958333333333333, \"source?\": true}, \"O_44\": {\"accuracy\": 0.6575520833333334, \"source?\": true}, \"O_8\": {\"accuracy\": 0.7356770833333334, \"source?\": true}, \"O_20\": {\"accuracy\": 0.61328125, \"source?\": true}, \"O_38\": {\"accuracy\": 0.6796875, \"source?\": true}, \"O_26\": {\"accuracy\": 0.5122395833333333, \"source?\": true}, \"C_4\": {\"accuracy\": 0.946969696969697, \"source?\": false}, \"C_2\": {\"accuracy\": 0.9469803370786517, \"source?\": false}, \"C_3\": {\"accuracy\": 0.9533110119047619, \"source?\": false}, \"C_1\": {\"accuracy\": 0.947972972972973, \"source?\": false}, \"C_5\": {\"accuracy\": 0.9561801675977654, \"source?\": false}}}, \"history\": {\"epoch_indices\": [1, 2, 3, 4, 5, 6], \"train_label_loss\": [1.7409004937990435, 0.9432648490626543, 0.8829776848444626, 0.845804108630511, 0.8141146328122842, 0.78861256798818], \"source_val_label_loss\": [1.1172417402267456, 0.8845486640930176, 0.8877955675125122, 0.824095606803894, 0.8046075701713562, 0.7908621430397034], \"target_val_label_loss\": [5.27823543548584, 0.7043601274490356, 0.6395002603530884, 0.4497573673725128, 0.4348210394382477, 1.5199134349822998], \"source_val_acc_label\": [0.594140625, 0.6714518229166667, 0.6642578125, 0.6896809895833333, 0.6960286458333333, 0.7005208333333334], \"target_val_acc_label\": [0.8961428571428571, 0.9502857142857143, 0.9414642857142858, 0.9418571428571428, 0.9373214285714285, 0.9285714285714286]}, \"dataset_metrics\": {\"source\": {\"train\": {\"n_unique_x\": 179200, \"n_unique_y\": 16, \"n_batch/episode\": 6720}, \"val\": {\"n_unique_x\": 38400, \"n_unique_y\": 16, \"n_batch/episode\": 960}, \"test\": {\"n_unique_x\": 38400, \"n_unique_y\": 16, \"n_batch/episode\": 960}}, \"target\": {\"train\": {\"n_unique_x\": 175197, \"n_unique_y\": 58, \"n_batch/episode\": 6309}, \"val\": {\"n_unique_x\": 37166, \"n_unique_y\": 58, \"n_batch/episode\": 875}, \"test\": {\"n_unique_x\": 37642, \"n_unique_y\": 58, \"n_batch/episode\": 890}}}}'"
      ]
     },
     "execution_count": 29,
     "metadata": {},
     "output_type": "execute_result"
    }
   ],
   "source": [
    "json.dumps(experiment)"
   ]
  }
 ],
 "metadata": {
  "celltoolbar": "Tags",
  "kernelspec": {
   "display_name": "Python 3 (ipykernel)",
   "language": "python",
   "name": "python3"
  },
  "language_info": {
   "codemirror_mode": {
    "name": "ipython",
    "version": 3
   },
   "file_extension": ".py",
   "mimetype": "text/x-python",
   "name": "python",
   "nbconvert_exporter": "python",
   "pygments_lexer": "ipython3",
   "version": "3.8.12"
  },
  "papermill": {
   "default_parameters": {},
   "duration": 1481.521181,
   "end_time": "2022-03-28T18:18:25.767071",
   "environment_variables": {},
   "exception": null,
   "input_path": "/root/csc500-main/csc500-notebooks/templates/tl_ptn_template.ipynb",
   "output_path": "trial.ipynb",
   "parameters": {
    "parameters": {
     "BEST_MODEL_PATH": "./best_model.pth",
     "NUM_LOGS_PER_EPOCH": 10,
     "criteria_for_best": "target_accuracy",
     "dataset_seed": 500,
     "datasets": [
      {
       "domain_prefix": "C_",
       "domains": [
        1,
        2,
        3,
        4,
        5
       ],
       "episode_transforms": [],
       "labels": [
        "1-10.",
        "1-11.",
        "1-15.",
        "1-16.",
        "1-17.",
        "1-18.",
        "1-19.",
        "10-4.",
        "10-7.",
        "11-1.",
        "11-14.",
        "11-17.",
        "11-20.",
        "11-7.",
        "13-20.",
        "13-8.",
        "14-10.",
        "14-11.",
        "14-14.",
        "14-7.",
        "15-1.",
        "15-20.",
        "16-1.",
        "16-16.",
        "17-10.",
        "17-11.",
        "17-2.",
        "19-1.",
        "19-16.",
        "19-19.",
        "19-20.",
        "19-3.",
        "2-10.",
        "2-11.",
        "2-17.",
        "2-18.",
        "2-20.",
        "2-3.",
        "2-4.",
        "2-5.",
        "2-6.",
        "2-7.",
        "2-8.",
        "3-13.",
        "3-18.",
        "3-3.",
        "4-1.",
        "4-10.",
        "4-11.",
        "4-19.",
        "5-5.",
        "6-15.",
        "7-10.",
        "7-14.",
        "8-18.",
        "8-20.",
        "8-3.",
        "8-8."
       ],
       "num_examples_per_domain_per_label": -1,
       "pickle_path": "/root/csc500-main/datasets/cores.stratified_ds.2022A.pkl",
       "source_or_target_dataset": "target",
       "x_transforms": [
        "unit_mag",
        "jitter_256_5",
        "lowpass_+/-10MHz",
        "take_200"
       ]
      },
      {
       "domain_prefix": "O_",
       "domains": [
        32,
        38,
        8,
        44,
        14,
        50,
        20,
        26
       ],
       "episode_transforms": [],
       "labels": [
        "3123D52",
        "3123D65",
        "3123D79",
        "3123D80",
        "3123D54",
        "3123D70",
        "3123D7B",
        "3123D89",
        "3123D58",
        "3123D76",
        "3123D7D",
        "3123EFE",
        "3123D64",
        "3123D78",
        "3123D7E",
        "3124E4A"
       ],
       "num_examples_per_domain_per_label": 2000,
       "pickle_path": "/root/csc500-main/datasets/oracle.Run1_framed_2000Examples_stratified_ds.2022A.pkl",
       "source_or_target_dataset": "source",
       "x_transforms": [
        "unit_mag",
        "jitter_256_5",
        "take_200",
        "resample_20Msps_to_25Msps"
       ]
      }
     ],
     "device": "cuda",
     "experiment_name": "tl_3-jitter5v2:oracle.run1.framed -> cores",
     "lr": 0.0001,
     "n_epoch": 50,
     "n_query": 2,
     "n_shot": 3,
     "n_way": 16,
     "patience": 3,
     "seed": 500,
     "test_k_factor": 2,
     "torch_default_dtype": "torch.float32",
     "train_k_factor": 3,
     "val_k_factor": 2,
     "x_net": [
      {
       "class": "nnReshape",
       "kargs": {
        "shape": [
         -1,
         1,
         2,
         256
        ]
       }
      },
      {
       "class": "Conv2d",
       "kargs": {
        "bias": false,
        "in_channels": 1,
        "kernel_size": [
         1,
         7
        ],
        "out_channels": 256,
        "padding": [
         0,
         3
        ]
       }
      },
      {
       "class": "ReLU",
       "kargs": {
        "inplace": true
       }
      },
      {
       "class": "BatchNorm2d",
       "kargs": {
        "num_features": 256
       }
      },
      {
       "class": "Conv2d",
       "kargs": {
        "bias": true,
        "in_channels": 256,
        "kernel_size": [
         2,
         7
        ],
        "out_channels": 80,
        "padding": [
         0,
         3
        ]
       }
      },
      {
       "class": "ReLU",
       "kargs": {
        "inplace": true
       }
      },
      {
       "class": "BatchNorm2d",
       "kargs": {
        "num_features": 80
       }
      },
      {
       "class": "Flatten",
       "kargs": {}
      },
      {
       "class": "Linear",
       "kargs": {
        "in_features": 20480,
        "out_features": 256
       }
      },
      {
       "class": "ReLU",
       "kargs": {
        "inplace": true
       }
      },
      {
       "class": "BatchNorm1d",
       "kargs": {
        "num_features": 256
       }
      },
      {
       "class": "Linear",
       "kargs": {
        "in_features": 256,
        "out_features": 256
       }
      }
     ],
     "x_shape": [
      2,
      256
     ]
    }
   },
   "start_time": "2022-03-28T17:53:44.245890",
   "version": "2.3.4"
  }
 },
 "nbformat": 4,
 "nbformat_minor": 5
}