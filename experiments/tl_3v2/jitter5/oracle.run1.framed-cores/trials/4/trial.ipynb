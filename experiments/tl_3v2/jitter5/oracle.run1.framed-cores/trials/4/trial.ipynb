{
 "cells": [
  {
   "cell_type": "markdown",
   "id": "9fea5f46",
   "metadata": {
    "papermill": {
     "duration": 0.029574,
     "end_time": "2022-03-28T16:27:49.094865",
     "exception": false,
     "start_time": "2022-03-28T16:27:49.065291",
     "status": "completed"
    },
    "tags": []
   },
   "source": [
    "# Transfer Learning Template"
   ]
  },
  {
   "cell_type": "code",
   "execution_count": 1,
   "id": "0902182a",
   "metadata": {
    "execution": {
     "iopub.execute_input": "2022-03-28T16:27:49.157763Z",
     "iopub.status.busy": "2022-03-28T16:27:49.156831Z",
     "iopub.status.idle": "2022-03-28T16:27:51.029839Z",
     "shell.execute_reply": "2022-03-28T16:27:51.028915Z"
    },
    "papermill": {
     "duration": 1.912381,
     "end_time": "2022-03-28T16:27:51.030049",
     "exception": false,
     "start_time": "2022-03-28T16:27:49.117668",
     "status": "completed"
    },
    "tags": []
   },
   "outputs": [],
   "source": [
    "%load_ext autoreload\n",
    "%autoreload 2\n",
    "%matplotlib inline\n",
    "\n",
    "    \n",
    "import os, json, sys, time, random\n",
    "import numpy as np\n",
    "import torch\n",
    "from torch.optim import Adam\n",
    "from  easydict import EasyDict\n",
    "import matplotlib.pyplot as plt\n",
    "\n",
    "from steves_models.steves_ptn import Steves_Prototypical_Network\n",
    "\n",
    "from steves_utils.lazy_iterable_wrapper import Lazy_Iterable_Wrapper\n",
    "from steves_utils.iterable_aggregator import Iterable_Aggregator\n",
    "from steves_utils.ptn_train_eval_test_jig import  PTN_Train_Eval_Test_Jig\n",
    "from steves_utils.torch_sequential_builder import build_sequential\n",
    "from steves_utils.torch_utils import get_dataset_metrics, ptn_confusion_by_domain_over_dataloader\n",
    "from steves_utils.utils_v2 import (per_domain_accuracy_from_confusion, get_datasets_base_path)\n",
    "from steves_utils.PTN.utils import independent_accuracy_assesment\n",
    "\n",
    "from torch.utils.data import DataLoader\n",
    "\n",
    "from steves_utils.stratified_dataset.episodic_accessor import Episodic_Accessor_Factory\n",
    "\n",
    "from steves_utils.ptn_do_report import (\n",
    "    get_loss_curve,\n",
    "    get_results_table,\n",
    "    get_parameters_table,\n",
    "    get_domain_accuracies,\n",
    ")\n",
    "\n",
    "from steves_utils.transforms import get_chained_transform"
   ]
  },
  {
   "cell_type": "markdown",
   "id": "41c840b4",
   "metadata": {
    "papermill": {
     "duration": 0.018994,
     "end_time": "2022-03-28T16:27:51.074395",
     "exception": false,
     "start_time": "2022-03-28T16:27:51.055401",
     "status": "completed"
    },
    "tags": []
   },
   "source": [
    "# Allowed Parameters\n",
    "These are allowed parameters, not defaults\n",
    "Each of these values need to be present in the injected parameters (the notebook will raise an exception if they are not present)\n",
    "\n",
    "Papermill uses the cell tag \"parameters\" to inject the real parameters below this cell.\n",
    "Enable tags to see what I mean"
   ]
  },
  {
   "cell_type": "code",
   "execution_count": 2,
   "id": "fd44eb83",
   "metadata": {
    "execution": {
     "iopub.execute_input": "2022-03-28T16:27:51.119580Z",
     "iopub.status.busy": "2022-03-28T16:27:51.118565Z",
     "iopub.status.idle": "2022-03-28T16:27:51.140663Z",
     "shell.execute_reply": "2022-03-28T16:27:51.141427Z"
    },
    "papermill": {
     "duration": 0.048177,
     "end_time": "2022-03-28T16:27:51.141619",
     "exception": false,
     "start_time": "2022-03-28T16:27:51.093442",
     "status": "completed"
    },
    "tags": []
   },
   "outputs": [],
   "source": [
    "required_parameters = {\n",
    "    \"experiment_name\",\n",
    "    \"lr\",\n",
    "    \"device\",\n",
    "    \"seed\",\n",
    "    \"dataset_seed\",\n",
    "    \"n_shot\",\n",
    "    \"n_query\",\n",
    "    \"n_way\",\n",
    "    \"train_k_factor\",\n",
    "    \"val_k_factor\",\n",
    "    \"test_k_factor\",\n",
    "    \"n_epoch\",\n",
    "    \"patience\",\n",
    "    \"criteria_for_best\",\n",
    "    \"x_net\",\n",
    "    \"datasets\",\n",
    "    \"torch_default_dtype\",\n",
    "    \"NUM_LOGS_PER_EPOCH\",\n",
    "    \"BEST_MODEL_PATH\",\n",
    "    \"x_shape\",\n",
    "}"
   ]
  },
  {
   "cell_type": "code",
   "execution_count": 3,
   "id": "fa3f0049",
   "metadata": {
    "execution": {
     "iopub.execute_input": "2022-03-28T16:27:51.204215Z",
     "iopub.status.busy": "2022-03-28T16:27:51.199076Z",
     "iopub.status.idle": "2022-03-28T16:27:51.228993Z",
     "shell.execute_reply": "2022-03-28T16:27:51.228245Z"
    },
    "papermill": {
     "duration": 0.061102,
     "end_time": "2022-03-28T16:27:51.229176",
     "exception": false,
     "start_time": "2022-03-28T16:27:51.168074",
     "status": "completed"
    },
    "tags": [
     "parameters"
    ]
   },
   "outputs": [],
   "source": [
    "from steves_utils.CORES.utils import (\n",
    "    ALL_NODES,\n",
    "    ALL_NODES_MINIMUM_1000_EXAMPLES,\n",
    "    ALL_DAYS\n",
    ")\n",
    "\n",
    "from steves_utils.ORACLE.utils_v2 import (\n",
    "    ALL_DISTANCES_FEET_NARROWED,\n",
    "    ALL_RUNS,\n",
    "    ALL_SERIAL_NUMBERS,\n",
    ")\n",
    "\n",
    "standalone_parameters = {}\n",
    "standalone_parameters[\"experiment_name\"] = \"STANDALONE PTN\"\n",
    "standalone_parameters[\"lr\"] = 0.001\n",
    "standalone_parameters[\"device\"] = \"cuda\"\n",
    "\n",
    "standalone_parameters[\"seed\"] = 1337\n",
    "standalone_parameters[\"dataset_seed\"] = 1337\n",
    "\n",
    "standalone_parameters[\"n_way\"] = 8\n",
    "standalone_parameters[\"n_shot\"] = 3\n",
    "standalone_parameters[\"n_query\"]  = 2\n",
    "standalone_parameters[\"train_k_factor\"] = 1\n",
    "standalone_parameters[\"val_k_factor\"] = 2\n",
    "standalone_parameters[\"test_k_factor\"] = 2\n",
    "\n",
    "\n",
    "standalone_parameters[\"n_epoch\"] = 50\n",
    "\n",
    "standalone_parameters[\"patience\"] = 10\n",
    "standalone_parameters[\"criteria_for_best\"] = \"source_loss\"\n",
    "\n",
    "standalone_parameters[\"datasets\"] = [\n",
    "    {\n",
    "        \"labels\": ALL_SERIAL_NUMBERS,\n",
    "        \"domains\": ALL_DISTANCES_FEET_NARROWED,\n",
    "        \"num_examples_per_domain_per_label\": 100,\n",
    "        \"pickle_path\": os.path.join(get_datasets_base_path(), \"oracle.Run1_framed_2000Examples_stratified_ds.2022A.pkl\"),\n",
    "        \"source_or_target_dataset\": \"source\",\n",
    "        \"x_transforms\": [\"unit_mag\", \"minus_two\"],\n",
    "        \"episode_transforms\": [],\n",
    "        \"domain_prefix\": \"ORACLE_\"\n",
    "    },\n",
    "    {\n",
    "        \"labels\": ALL_NODES,\n",
    "        \"domains\": ALL_DAYS,\n",
    "        \"num_examples_per_domain_per_label\": 100,\n",
    "        \"pickle_path\": os.path.join(get_datasets_base_path(), \"cores.stratified_ds.2022A.pkl\"),\n",
    "        \"source_or_target_dataset\": \"target\",\n",
    "        \"x_transforms\": [\"unit_power\", \"times_zero\"],\n",
    "        \"episode_transforms\": [],\n",
    "        \"domain_prefix\": \"CORES_\"\n",
    "    }   \n",
    "]\n",
    "\n",
    "standalone_parameters[\"torch_default_dtype\"] = \"torch.float32\" \n",
    "\n",
    "\n",
    "\n",
    "standalone_parameters[\"x_net\"] =     [\n",
    "    {\"class\": \"nnReshape\", \"kargs\": {\"shape\":[-1, 1, 2, 256]}},\n",
    "    {\"class\": \"Conv2d\", \"kargs\": { \"in_channels\":1, \"out_channels\":256, \"kernel_size\":(1,7), \"bias\":False, \"padding\":(0,3), },},\n",
    "    {\"class\": \"ReLU\", \"kargs\": {\"inplace\": True}},\n",
    "    {\"class\": \"BatchNorm2d\", \"kargs\": {\"num_features\":256}},\n",
    "\n",
    "    {\"class\": \"Conv2d\", \"kargs\": { \"in_channels\":256, \"out_channels\":80, \"kernel_size\":(2,7), \"bias\":True, \"padding\":(0,3), },},\n",
    "    {\"class\": \"ReLU\", \"kargs\": {\"inplace\": True}},\n",
    "    {\"class\": \"BatchNorm2d\", \"kargs\": {\"num_features\":80}},\n",
    "    {\"class\": \"Flatten\", \"kargs\": {}},\n",
    "\n",
    "    {\"class\": \"Linear\", \"kargs\": {\"in_features\": 80*256, \"out_features\": 256}}, # 80 units per IQ pair\n",
    "    {\"class\": \"ReLU\", \"kargs\": {\"inplace\": True}},\n",
    "    {\"class\": \"BatchNorm1d\", \"kargs\": {\"num_features\":256}},\n",
    "\n",
    "    {\"class\": \"Linear\", \"kargs\": {\"in_features\": 256, \"out_features\": 256}},\n",
    "]\n",
    "\n",
    "# Parameters relevant to results\n",
    "# These parameters will basically never need to change\n",
    "standalone_parameters[\"NUM_LOGS_PER_EPOCH\"] = 10\n",
    "standalone_parameters[\"BEST_MODEL_PATH\"] = \"./best_model.pth\"\n",
    "\n",
    "\n",
    "\n",
    "\n"
   ]
  },
  {
   "cell_type": "code",
   "execution_count": 4,
   "id": "494d5970",
   "metadata": {
    "execution": {
     "iopub.execute_input": "2022-03-28T16:27:51.289073Z",
     "iopub.status.busy": "2022-03-28T16:27:51.287052Z",
     "iopub.status.idle": "2022-03-28T16:27:51.309705Z",
     "shell.execute_reply": "2022-03-28T16:27:51.308958Z"
    },
    "papermill": {
     "duration": 0.055693,
     "end_time": "2022-03-28T16:27:51.309885",
     "exception": false,
     "start_time": "2022-03-28T16:27:51.254192",
     "status": "completed"
    },
    "tags": [
     "injected-parameters"
    ]
   },
   "outputs": [],
   "source": [
    "# Parameters\n",
    "parameters = {\n",
    "    \"experiment_name\": \"tl_3-jitter5v2:oracle.run1.framed -> cores\",\n",
    "    \"device\": \"cuda\",\n",
    "    \"lr\": 0.0001,\n",
    "    \"x_shape\": [2, 256],\n",
    "    \"n_shot\": 3,\n",
    "    \"n_query\": 2,\n",
    "    \"train_k_factor\": 3,\n",
    "    \"val_k_factor\": 2,\n",
    "    \"test_k_factor\": 2,\n",
    "    \"torch_default_dtype\": \"torch.float32\",\n",
    "    \"n_epoch\": 50,\n",
    "    \"patience\": 3,\n",
    "    \"criteria_for_best\": \"target_accuracy\",\n",
    "    \"x_net\": [\n",
    "        {\"class\": \"nnReshape\", \"kargs\": {\"shape\": [-1, 1, 2, 256]}},\n",
    "        {\n",
    "            \"class\": \"Conv2d\",\n",
    "            \"kargs\": {\n",
    "                \"in_channels\": 1,\n",
    "                \"out_channels\": 256,\n",
    "                \"kernel_size\": [1, 7],\n",
    "                \"bias\": False,\n",
    "                \"padding\": [0, 3],\n",
    "            },\n",
    "        },\n",
    "        {\"class\": \"ReLU\", \"kargs\": {\"inplace\": True}},\n",
    "        {\"class\": \"BatchNorm2d\", \"kargs\": {\"num_features\": 256}},\n",
    "        {\n",
    "            \"class\": \"Conv2d\",\n",
    "            \"kargs\": {\n",
    "                \"in_channels\": 256,\n",
    "                \"out_channels\": 80,\n",
    "                \"kernel_size\": [2, 7],\n",
    "                \"bias\": True,\n",
    "                \"padding\": [0, 3],\n",
    "            },\n",
    "        },\n",
    "        {\"class\": \"ReLU\", \"kargs\": {\"inplace\": True}},\n",
    "        {\"class\": \"BatchNorm2d\", \"kargs\": {\"num_features\": 80}},\n",
    "        {\"class\": \"Flatten\", \"kargs\": {}},\n",
    "        {\"class\": \"Linear\", \"kargs\": {\"in_features\": 20480, \"out_features\": 256}},\n",
    "        {\"class\": \"ReLU\", \"kargs\": {\"inplace\": True}},\n",
    "        {\"class\": \"BatchNorm1d\", \"kargs\": {\"num_features\": 256}},\n",
    "        {\"class\": \"Linear\", \"kargs\": {\"in_features\": 256, \"out_features\": 256}},\n",
    "    ],\n",
    "    \"NUM_LOGS_PER_EPOCH\": 10,\n",
    "    \"BEST_MODEL_PATH\": \"./best_model.pth\",\n",
    "    \"n_way\": 16,\n",
    "    \"datasets\": [\n",
    "        {\n",
    "            \"labels\": [\n",
    "                \"1-10.\",\n",
    "                \"1-11.\",\n",
    "                \"1-15.\",\n",
    "                \"1-16.\",\n",
    "                \"1-17.\",\n",
    "                \"1-18.\",\n",
    "                \"1-19.\",\n",
    "                \"10-4.\",\n",
    "                \"10-7.\",\n",
    "                \"11-1.\",\n",
    "                \"11-14.\",\n",
    "                \"11-17.\",\n",
    "                \"11-20.\",\n",
    "                \"11-7.\",\n",
    "                \"13-20.\",\n",
    "                \"13-8.\",\n",
    "                \"14-10.\",\n",
    "                \"14-11.\",\n",
    "                \"14-14.\",\n",
    "                \"14-7.\",\n",
    "                \"15-1.\",\n",
    "                \"15-20.\",\n",
    "                \"16-1.\",\n",
    "                \"16-16.\",\n",
    "                \"17-10.\",\n",
    "                \"17-11.\",\n",
    "                \"17-2.\",\n",
    "                \"19-1.\",\n",
    "                \"19-16.\",\n",
    "                \"19-19.\",\n",
    "                \"19-20.\",\n",
    "                \"19-3.\",\n",
    "                \"2-10.\",\n",
    "                \"2-11.\",\n",
    "                \"2-17.\",\n",
    "                \"2-18.\",\n",
    "                \"2-20.\",\n",
    "                \"2-3.\",\n",
    "                \"2-4.\",\n",
    "                \"2-5.\",\n",
    "                \"2-6.\",\n",
    "                \"2-7.\",\n",
    "                \"2-8.\",\n",
    "                \"3-13.\",\n",
    "                \"3-18.\",\n",
    "                \"3-3.\",\n",
    "                \"4-1.\",\n",
    "                \"4-10.\",\n",
    "                \"4-11.\",\n",
    "                \"4-19.\",\n",
    "                \"5-5.\",\n",
    "                \"6-15.\",\n",
    "                \"7-10.\",\n",
    "                \"7-14.\",\n",
    "                \"8-18.\",\n",
    "                \"8-20.\",\n",
    "                \"8-3.\",\n",
    "                \"8-8.\",\n",
    "            ],\n",
    "            \"domains\": [1, 2, 3, 4, 5],\n",
    "            \"num_examples_per_domain_per_label\": -1,\n",
    "            \"pickle_path\": \"/root/csc500-main/datasets/cores.stratified_ds.2022A.pkl\",\n",
    "            \"source_or_target_dataset\": \"target\",\n",
    "            \"x_transforms\": [\n",
    "                \"unit_mag\",\n",
    "                \"jitter_256_5\",\n",
    "                \"lowpass_+/-10MHz\",\n",
    "                \"take_200\",\n",
    "            ],\n",
    "            \"episode_transforms\": [],\n",
    "            \"domain_prefix\": \"C_\",\n",
    "        },\n",
    "        {\n",
    "            \"labels\": [\n",
    "                \"3123D52\",\n",
    "                \"3123D65\",\n",
    "                \"3123D79\",\n",
    "                \"3123D80\",\n",
    "                \"3123D54\",\n",
    "                \"3123D70\",\n",
    "                \"3123D7B\",\n",
    "                \"3123D89\",\n",
    "                \"3123D58\",\n",
    "                \"3123D76\",\n",
    "                \"3123D7D\",\n",
    "                \"3123EFE\",\n",
    "                \"3123D64\",\n",
    "                \"3123D78\",\n",
    "                \"3123D7E\",\n",
    "                \"3124E4A\",\n",
    "            ],\n",
    "            \"domains\": [32, 38, 8, 44, 14, 50, 20, 26],\n",
    "            \"num_examples_per_domain_per_label\": 2000,\n",
    "            \"pickle_path\": \"/root/csc500-main/datasets/oracle.Run1_framed_2000Examples_stratified_ds.2022A.pkl\",\n",
    "            \"source_or_target_dataset\": \"source\",\n",
    "            \"x_transforms\": [\n",
    "                \"unit_mag\",\n",
    "                \"jitter_256_5\",\n",
    "                \"take_200\",\n",
    "                \"resample_20Msps_to_25Msps\",\n",
    "            ],\n",
    "            \"episode_transforms\": [],\n",
    "            \"domain_prefix\": \"O_\",\n",
    "        },\n",
    "    ],\n",
    "    \"seed\": 420,\n",
    "    \"dataset_seed\": 420,\n",
    "}\n"
   ]
  },
  {
   "cell_type": "code",
   "execution_count": 5,
   "id": "8fa1cc33",
   "metadata": {
    "execution": {
     "iopub.execute_input": "2022-03-28T16:27:51.361996Z",
     "iopub.status.busy": "2022-03-28T16:27:51.361135Z",
     "iopub.status.idle": "2022-03-28T16:27:51.382023Z",
     "shell.execute_reply": "2022-03-28T16:27:51.382722Z"
    },
    "papermill": {
     "duration": 0.047985,
     "end_time": "2022-03-28T16:27:51.382936",
     "exception": false,
     "start_time": "2022-03-28T16:27:51.334951",
     "status": "completed"
    },
    "tags": []
   },
   "outputs": [],
   "source": [
    "# Set this to True if you want to run this template directly\n",
    "STANDALONE = False\n",
    "if STANDALONE:\n",
    "    print(\"parameters not injected, running with standalone_parameters\")\n",
    "    parameters = standalone_parameters\n",
    "\n",
    "if not 'parameters' in locals() and not 'parameters' in globals():\n",
    "    raise Exception(\"Parameter injection failed\")\n",
    "\n",
    "#Use an easy dict for all the parameters\n",
    "p = EasyDict(parameters)\n",
    "\n",
    "if \"x_shape\" not in p:\n",
    "    p.x_shape = [2,256] # Default to this if we dont supply x_shape\n",
    "\n",
    "\n",
    "supplied_keys = set(p.keys())\n",
    "\n",
    "if  supplied_keys != required_parameters:\n",
    "    print(\"Parameters are incorrect\")\n",
    "    if len(supplied_keys - required_parameters)>0: print(\"Shouldn't have:\", str(supplied_keys - required_parameters))\n",
    "    if len(required_parameters - supplied_keys)>0: print(\"Need to have:\", str(required_parameters - supplied_keys))\n",
    "    raise RuntimeError(\"Parameters are incorrect\")"
   ]
  },
  {
   "cell_type": "code",
   "execution_count": 6,
   "id": "3a028d58",
   "metadata": {
    "execution": {
     "iopub.execute_input": "2022-03-28T16:27:51.430431Z",
     "iopub.status.busy": "2022-03-28T16:27:51.430047Z",
     "iopub.status.idle": "2022-03-28T16:27:51.451952Z",
     "shell.execute_reply": "2022-03-28T16:27:51.452640Z"
    },
    "papermill": {
     "duration": 0.045864,
     "end_time": "2022-03-28T16:27:51.452849",
     "exception": false,
     "start_time": "2022-03-28T16:27:51.406985",
     "status": "completed"
    },
    "tags": []
   },
   "outputs": [],
   "source": [
    "###################################\n",
    "# Set the RNGs and make it all deterministic\n",
    "###################################\n",
    "np.random.seed(p.seed)\n",
    "random.seed(p.seed)\n",
    "torch.manual_seed(p.seed)\n",
    "\n",
    "torch.use_deterministic_algorithms(True) "
   ]
  },
  {
   "cell_type": "code",
   "execution_count": 7,
   "id": "b691acf6",
   "metadata": {
    "execution": {
     "iopub.execute_input": "2022-03-28T16:27:51.501809Z",
     "iopub.status.busy": "2022-03-28T16:27:51.501221Z",
     "iopub.status.idle": "2022-03-28T16:27:51.524392Z",
     "shell.execute_reply": "2022-03-28T16:27:51.525089Z"
    },
    "papermill": {
     "duration": 0.046848,
     "end_time": "2022-03-28T16:27:51.525295",
     "exception": false,
     "start_time": "2022-03-28T16:27:51.478447",
     "status": "completed"
    },
    "tags": []
   },
   "outputs": [],
   "source": [
    "###########################################\n",
    "# The stratified datasets honor this\n",
    "###########################################\n",
    "torch.set_default_dtype(eval(p.torch_default_dtype))"
   ]
  },
  {
   "cell_type": "code",
   "execution_count": 8,
   "id": "b5fba671",
   "metadata": {
    "execution": {
     "iopub.execute_input": "2022-03-28T16:27:51.572391Z",
     "iopub.status.busy": "2022-03-28T16:27:51.572015Z",
     "iopub.status.idle": "2022-03-28T16:27:51.625284Z",
     "shell.execute_reply": "2022-03-28T16:27:51.625994Z"
    },
    "papermill": {
     "duration": 0.075699,
     "end_time": "2022-03-28T16:27:51.626215",
     "exception": false,
     "start_time": "2022-03-28T16:27:51.550516",
     "status": "completed"
    },
    "tags": []
   },
   "outputs": [],
   "source": [
    "###################################\n",
    "# Build the network(s)\n",
    "# Note: It's critical to do this AFTER setting the RNG\n",
    "###################################\n",
    "x_net = build_sequential(p.x_net)"
   ]
  },
  {
   "cell_type": "code",
   "execution_count": 9,
   "id": "5d7e61cc",
   "metadata": {
    "execution": {
     "iopub.execute_input": "2022-03-28T16:27:51.673714Z",
     "iopub.status.busy": "2022-03-28T16:27:51.673336Z",
     "iopub.status.idle": "2022-03-28T16:27:51.695975Z",
     "shell.execute_reply": "2022-03-28T16:27:51.696672Z"
    },
    "papermill": {
     "duration": 0.045954,
     "end_time": "2022-03-28T16:27:51.696884",
     "exception": false,
     "start_time": "2022-03-28T16:27:51.650930",
     "status": "completed"
    },
    "tags": []
   },
   "outputs": [],
   "source": [
    "start_time_secs = time.time()"
   ]
  },
  {
   "cell_type": "code",
   "execution_count": 10,
   "id": "c6b67dfd",
   "metadata": {
    "execution": {
     "iopub.execute_input": "2022-03-28T16:27:51.745068Z",
     "iopub.status.busy": "2022-03-28T16:27:51.744496Z",
     "iopub.status.idle": "2022-03-28T16:27:51.767057Z",
     "shell.execute_reply": "2022-03-28T16:27:51.767771Z"
    },
    "papermill": {
     "duration": 0.047055,
     "end_time": "2022-03-28T16:27:51.767985",
     "exception": false,
     "start_time": "2022-03-28T16:27:51.720930",
     "status": "completed"
    },
    "tags": []
   },
   "outputs": [],
   "source": [
    "p.domains_source = []\n",
    "p.domains_target = []\n",
    "\n",
    "\n",
    "train_original_source = []\n",
    "val_original_source   = []\n",
    "test_original_source  = []\n",
    "\n",
    "train_original_target = []\n",
    "val_original_target   = []\n",
    "test_original_target  = []"
   ]
  },
  {
   "cell_type": "code",
   "execution_count": 11,
   "id": "e3d9c3d3",
   "metadata": {
    "execution": {
     "iopub.execute_input": "2022-03-28T16:27:51.819777Z",
     "iopub.status.busy": "2022-03-28T16:27:51.819372Z",
     "iopub.status.idle": "2022-03-28T16:27:51.841938Z",
     "shell.execute_reply": "2022-03-28T16:27:51.842632Z"
    },
    "papermill": {
     "duration": 0.04625,
     "end_time": "2022-03-28T16:27:51.842844",
     "exception": false,
     "start_time": "2022-03-28T16:27:51.796594",
     "status": "completed"
    },
    "tags": []
   },
   "outputs": [],
   "source": [
    "# global_x_transform_func = lambda x: normalize(x.to(torch.get_default_dtype()), \"unit_power\") # unit_power, unit_mag\n",
    "# global_x_transform_func = lambda x: normalize(x, \"unit_power\") # unit_power, unit_mag"
   ]
  },
  {
   "cell_type": "code",
   "execution_count": 12,
   "id": "acb78fd2",
   "metadata": {
    "execution": {
     "iopub.execute_input": "2022-03-28T16:27:51.899134Z",
     "iopub.status.busy": "2022-03-28T16:27:51.898536Z",
     "iopub.status.idle": "2022-03-28T16:27:51.919812Z",
     "shell.execute_reply": "2022-03-28T16:27:51.919042Z"
    },
    "papermill": {
     "duration": 0.052481,
     "end_time": "2022-03-28T16:27:51.919985",
     "exception": false,
     "start_time": "2022-03-28T16:27:51.867504",
     "status": "completed"
    },
    "tags": []
   },
   "outputs": [],
   "source": [
    "def add_dataset(\n",
    "    labels,\n",
    "    domains,\n",
    "    pickle_path,\n",
    "    x_transforms,\n",
    "    episode_transforms,\n",
    "    domain_prefix,\n",
    "    num_examples_per_domain_per_label,\n",
    "    source_or_target_dataset:str,\n",
    "    iterator_seed=p.seed,\n",
    "    dataset_seed=p.dataset_seed,\n",
    "    n_shot=p.n_shot,\n",
    "    n_way=p.n_way,\n",
    "    n_query=p.n_query,\n",
    "    train_val_test_k_factors=(p.train_k_factor,p.val_k_factor,p.test_k_factor),\n",
    "):\n",
    "   \n",
    "    if x_transforms == []: x_transform = None\n",
    "    else: x_transform = get_chained_transform(x_transforms)\n",
    "    \n",
    "    if episode_transforms == []: episode_transform = None\n",
    "    else: raise Exception(\"episode_transforms not implemented\")\n",
    "    \n",
    "    episode_transform = lambda tup, _prefix=domain_prefix: (_prefix + str(tup[0]), tup[1])\n",
    "\n",
    "\n",
    "    eaf = Episodic_Accessor_Factory(\n",
    "        labels=labels,\n",
    "        domains=domains,\n",
    "        num_examples_per_domain_per_label=num_examples_per_domain_per_label,\n",
    "        iterator_seed=iterator_seed,\n",
    "        dataset_seed=dataset_seed,\n",
    "        n_shot=n_shot,\n",
    "        n_way=n_way,\n",
    "        n_query=n_query,\n",
    "        train_val_test_k_factors=train_val_test_k_factors,\n",
    "        pickle_path=pickle_path,\n",
    "        x_transform_func=x_transform,\n",
    "    )\n",
    "\n",
    "    train, val, test = eaf.get_train(), eaf.get_val(), eaf.get_test()\n",
    "    train = Lazy_Iterable_Wrapper(train, episode_transform)\n",
    "    val = Lazy_Iterable_Wrapper(val, episode_transform)\n",
    "    test = Lazy_Iterable_Wrapper(test, episode_transform)\n",
    "\n",
    "    if source_or_target_dataset==\"source\":\n",
    "        train_original_source.append(train)\n",
    "        val_original_source.append(val)\n",
    "        test_original_source.append(test)\n",
    "\n",
    "        p.domains_source.extend(\n",
    "            [domain_prefix + str(u) for u in domains]\n",
    "        )\n",
    "    elif source_or_target_dataset==\"target\":\n",
    "        train_original_target.append(train)\n",
    "        val_original_target.append(val)\n",
    "        test_original_target.append(test)\n",
    "        p.domains_target.extend(\n",
    "            [domain_prefix + str(u) for u in domains]\n",
    "        )\n",
    "    else:\n",
    "        raise Exception(f\"invalid source_or_target_dataset: {source_or_target_dataset}\")\n",
    "    "
   ]
  },
  {
   "cell_type": "code",
   "execution_count": 13,
   "id": "fe266617",
   "metadata": {
    "execution": {
     "iopub.execute_input": "2022-03-28T16:27:51.969961Z",
     "iopub.status.busy": "2022-03-28T16:27:51.969544Z",
     "iopub.status.idle": "2022-03-28T16:29:41.972214Z",
     "shell.execute_reply": "2022-03-28T16:29:41.972893Z"
    },
    "papermill": {
     "duration": 110.026288,
     "end_time": "2022-03-28T16:29:41.973123",
     "exception": false,
     "start_time": "2022-03-28T16:27:51.946835",
     "status": "completed"
    },
    "tags": []
   },
   "outputs": [],
   "source": [
    "for ds in p.datasets:\n",
    "    add_dataset(**ds)"
   ]
  },
  {
   "cell_type": "code",
   "execution_count": 14,
   "id": "b90d65ac",
   "metadata": {
    "execution": {
     "iopub.execute_input": "2022-03-28T16:29:42.025165Z",
     "iopub.status.busy": "2022-03-28T16:29:42.024774Z",
     "iopub.status.idle": "2022-03-28T16:29:42.050202Z",
     "shell.execute_reply": "2022-03-28T16:29:42.050892Z"
    },
    "papermill": {
     "duration": 0.050725,
     "end_time": "2022-03-28T16:29:42.051100",
     "exception": false,
     "start_time": "2022-03-28T16:29:42.000375",
     "status": "completed"
    },
    "tags": []
   },
   "outputs": [],
   "source": [
    "# from steves_utils.CORES.utils import (\n",
    "#     ALL_NODES,\n",
    "#     ALL_NODES_MINIMUM_1000_EXAMPLES,\n",
    "#     ALL_DAYS\n",
    "# )\n",
    "\n",
    "# add_dataset(\n",
    "#     labels=ALL_NODES,\n",
    "#     domains = ALL_DAYS,\n",
    "#     num_examples_per_domain_per_label=100,\n",
    "#     pickle_path=os.path.join(get_datasets_base_path(), \"cores.stratified_ds.2022A.pkl\"),\n",
    "#     source_or_target_dataset=\"target\",\n",
    "#     x_transform_func=global_x_transform_func,\n",
    "#     domain_modifier=lambda u: f\"cores_{u}\"\n",
    "# )"
   ]
  },
  {
   "cell_type": "code",
   "execution_count": 15,
   "id": "76db484d",
   "metadata": {
    "execution": {
     "iopub.execute_input": "2022-03-28T16:29:42.101787Z",
     "iopub.status.busy": "2022-03-28T16:29:42.101395Z",
     "iopub.status.idle": "2022-03-28T16:29:42.125258Z",
     "shell.execute_reply": "2022-03-28T16:29:42.124523Z"
    },
    "papermill": {
     "duration": 0.048346,
     "end_time": "2022-03-28T16:29:42.125427",
     "exception": false,
     "start_time": "2022-03-28T16:29:42.077081",
     "status": "completed"
    },
    "tags": []
   },
   "outputs": [],
   "source": [
    "# from steves_utils.ORACLE.utils_v2 import (\n",
    "#     ALL_DISTANCES_FEET,\n",
    "#     ALL_RUNS,\n",
    "#     ALL_SERIAL_NUMBERS,\n",
    "# )\n",
    "\n",
    "\n",
    "# add_dataset(\n",
    "#     labels=ALL_SERIAL_NUMBERS,\n",
    "#     domains = list(set(ALL_DISTANCES_FEET) - {2,62}),\n",
    "#     num_examples_per_domain_per_label=100,\n",
    "#     pickle_path=os.path.join(get_datasets_base_path(), \"oracle.Run2_framed_2000Examples_stratified_ds.2022A.pkl\"),\n",
    "#     source_or_target_dataset=\"source\",\n",
    "#     x_transform_func=global_x_transform_func,\n",
    "#     domain_modifier=lambda u: f\"oracle1_{u}\"\n",
    "# )\n"
   ]
  },
  {
   "cell_type": "code",
   "execution_count": 16,
   "id": "97dea9d2",
   "metadata": {
    "execution": {
     "iopub.execute_input": "2022-03-28T16:29:42.179513Z",
     "iopub.status.busy": "2022-03-28T16:29:42.179125Z",
     "iopub.status.idle": "2022-03-28T16:29:42.203940Z",
     "shell.execute_reply": "2022-03-28T16:29:42.203163Z"
    },
    "papermill": {
     "duration": 0.049252,
     "end_time": "2022-03-28T16:29:42.204111",
     "exception": false,
     "start_time": "2022-03-28T16:29:42.154859",
     "status": "completed"
    },
    "tags": []
   },
   "outputs": [],
   "source": [
    "# from steves_utils.ORACLE.utils_v2 import (\n",
    "#     ALL_DISTANCES_FEET,\n",
    "#     ALL_RUNS,\n",
    "#     ALL_SERIAL_NUMBERS,\n",
    "# )\n",
    "\n",
    "\n",
    "# add_dataset(\n",
    "#     labels=ALL_SERIAL_NUMBERS,\n",
    "#     domains = list(set(ALL_DISTANCES_FEET) - {2,62,56}),\n",
    "#     num_examples_per_domain_per_label=100,\n",
    "#     pickle_path=os.path.join(get_datasets_base_path(), \"oracle.Run2_framed_2000Examples_stratified_ds.2022A.pkl\"),\n",
    "#     source_or_target_dataset=\"source\",\n",
    "#     x_transform_func=global_x_transform_func,\n",
    "#     domain_modifier=lambda u: f\"oracle2_{u}\"\n",
    "# )"
   ]
  },
  {
   "cell_type": "code",
   "execution_count": 17,
   "id": "6f289866",
   "metadata": {
    "execution": {
     "iopub.execute_input": "2022-03-28T16:29:42.253905Z",
     "iopub.status.busy": "2022-03-28T16:29:42.253523Z",
     "iopub.status.idle": "2022-03-28T16:29:42.274044Z",
     "shell.execute_reply": "2022-03-28T16:29:42.273317Z"
    },
    "papermill": {
     "duration": 0.044286,
     "end_time": "2022-03-28T16:29:42.274213",
     "exception": false,
     "start_time": "2022-03-28T16:29:42.229927",
     "status": "completed"
    },
    "tags": []
   },
   "outputs": [],
   "source": [
    "# add_dataset(\n",
    "#     labels=list(range(19)),\n",
    "#     domains = [0,1,2],\n",
    "#     num_examples_per_domain_per_label=100,\n",
    "#     pickle_path=os.path.join(get_datasets_base_path(), \"metehan.stratified_ds.2022A.pkl\"),\n",
    "#     source_or_target_dataset=\"target\",\n",
    "#     x_transform_func=global_x_transform_func,\n",
    "#     domain_modifier=lambda u: f\"met_{u}\"\n",
    "# )"
   ]
  },
  {
   "cell_type": "code",
   "execution_count": 18,
   "id": "86a863c3",
   "metadata": {
    "execution": {
     "iopub.execute_input": "2022-03-28T16:29:42.334827Z",
     "iopub.status.busy": "2022-03-28T16:29:42.334434Z",
     "iopub.status.idle": "2022-03-28T16:29:42.353418Z",
     "shell.execute_reply": "2022-03-28T16:29:42.354110Z"
    },
    "papermill": {
     "duration": 0.051768,
     "end_time": "2022-03-28T16:29:42.354307",
     "exception": false,
     "start_time": "2022-03-28T16:29:42.302539",
     "status": "completed"
    },
    "tags": []
   },
   "outputs": [],
   "source": [
    "# # from steves_utils.wisig.utils import (\n",
    "# #     ALL_NODES_MINIMUM_100_EXAMPLES,\n",
    "# #     ALL_NODES_MINIMUM_500_EXAMPLES,\n",
    "# #     ALL_NODES_MINIMUM_1000_EXAMPLES,\n",
    "# #     ALL_DAYS\n",
    "# # )\n",
    "\n",
    "# import steves_utils.wisig.utils as wisig\n",
    "\n",
    "\n",
    "# add_dataset(\n",
    "#     labels=wisig.ALL_NODES_MINIMUM_100_EXAMPLES,\n",
    "#     domains = wisig.ALL_DAYS,\n",
    "#     num_examples_per_domain_per_label=100,\n",
    "#     pickle_path=os.path.join(get_datasets_base_path(), \"wisig.node3-19.stratified_ds.2022A.pkl\"),\n",
    "#     source_or_target_dataset=\"target\",\n",
    "#     x_transform_func=global_x_transform_func,\n",
    "#     domain_modifier=lambda u: f\"wisig_{u}\"\n",
    "# )"
   ]
  },
  {
   "cell_type": "code",
   "execution_count": 19,
   "id": "fd5442bc",
   "metadata": {
    "execution": {
     "iopub.execute_input": "2022-03-28T16:29:42.410435Z",
     "iopub.status.busy": "2022-03-28T16:29:42.410045Z",
     "iopub.status.idle": "2022-03-28T16:29:42.428578Z",
     "shell.execute_reply": "2022-03-28T16:29:42.429262Z"
    },
    "papermill": {
     "duration": 0.048933,
     "end_time": "2022-03-28T16:29:42.429446",
     "exception": false,
     "start_time": "2022-03-28T16:29:42.380513",
     "status": "completed"
    },
    "tags": []
   },
   "outputs": [],
   "source": [
    "###################################\n",
    "# Build the dataset\n",
    "###################################\n",
    "train_original_source = Iterable_Aggregator(train_original_source, p.seed)\n",
    "val_original_source = Iterable_Aggregator(val_original_source, p.seed)\n",
    "test_original_source = Iterable_Aggregator(test_original_source, p.seed)\n",
    "\n",
    "\n",
    "train_original_target = Iterable_Aggregator(train_original_target, p.seed)\n",
    "val_original_target = Iterable_Aggregator(val_original_target, p.seed)\n",
    "test_original_target = Iterable_Aggregator(test_original_target, p.seed)\n",
    "\n",
    "# For CNN We only use X and Y. And we only train on the source.\n",
    "# Properly form the data using a transform lambda and Lazy_Iterable_Wrapper. Finally wrap them in a dataloader\n",
    "\n",
    "transform_lambda = lambda ex: ex[1] # Original is (<domain>, <episode>) so we strip down to episode only\n",
    "\n",
    "train_processed_source = Lazy_Iterable_Wrapper(train_original_source, transform_lambda)\n",
    "val_processed_source   = Lazy_Iterable_Wrapper(val_original_source, transform_lambda)\n",
    "test_processed_source  = Lazy_Iterable_Wrapper(test_original_source, transform_lambda)\n",
    "\n",
    "train_processed_target = Lazy_Iterable_Wrapper(train_original_target, transform_lambda)\n",
    "val_processed_target   = Lazy_Iterable_Wrapper(val_original_target, transform_lambda)\n",
    "test_processed_target  = Lazy_Iterable_Wrapper(test_original_target, transform_lambda)\n",
    "\n",
    "datasets = EasyDict({\n",
    "    \"source\": {\n",
    "        \"original\": {\"train\":train_original_source, \"val\":val_original_source, \"test\":test_original_source},\n",
    "        \"processed\": {\"train\":train_processed_source, \"val\":val_processed_source, \"test\":test_processed_source}\n",
    "    },\n",
    "    \"target\": {\n",
    "        \"original\": {\"train\":train_original_target, \"val\":val_original_target, \"test\":test_original_target},\n",
    "        \"processed\": {\"train\":train_processed_target, \"val\":val_processed_target, \"test\":test_processed_target}\n",
    "    },\n",
    "})"
   ]
  },
  {
   "cell_type": "code",
   "execution_count": 20,
   "id": "5b3c01fc",
   "metadata": {
    "execution": {
     "iopub.execute_input": "2022-03-28T16:29:42.482230Z",
     "iopub.status.busy": "2022-03-28T16:29:42.481850Z",
     "iopub.status.idle": "2022-03-28T16:29:57.191842Z",
     "shell.execute_reply": "2022-03-28T16:29:57.191031Z"
    },
    "papermill": {
     "duration": 14.735473,
     "end_time": "2022-03-28T16:29:57.192081",
     "exception": false,
     "start_time": "2022-03-28T16:29:42.456608",
     "status": "completed"
    },
    "tags": []
   },
   "outputs": [
    {
     "name": "stdout",
     "output_type": "stream",
     "text": [
      "{'O_14', 'O_44', 'O_20', 'O_38', 'O_26', 'O_50', 'O_32', 'O_8'}\n"
     ]
    },
    {
     "name": "stdout",
     "output_type": "stream",
     "text": [
      "{'C_5', 'C_2', 'C_4', 'C_3', 'C_1'}\n"
     ]
    },
    {
     "name": "stdout",
     "output_type": "stream",
     "text": [
      "tensor([[[0., 0., 0.,  ..., 0., 0., 0.],\n",
      "         [0., 0., 0.,  ..., 0., 0., 0.]],\n",
      "\n",
      "        [[0., 0., 0.,  ..., 0., 0., 0.],\n",
      "         [0., 0., 0.,  ..., 0., 0., 0.]],\n",
      "\n",
      "        [[0., 0., 0.,  ..., 0., 0., 0.],\n",
      "         [0., 0., 0.,  ..., 0., 0., 0.]],\n",
      "\n",
      "        ...,\n",
      "\n",
      "        [[0., 0., 0.,  ..., 0., 0., 0.],\n",
      "         [0., 0., 0.,  ..., 0., 0., 0.]],\n",
      "\n",
      "        [[0., 0., 0.,  ..., 0., 0., 0.],\n",
      "         [0., 0., 0.,  ..., 0., 0., 0.]],\n",
      "\n",
      "        [[0., 0., 0.,  ..., 0., 0., 0.],\n",
      "         [0., 0., 0.,  ..., 0., 0., 0.]]])\n"
     ]
    }
   ],
   "source": [
    "from steves_utils.transforms import get_average_magnitude, get_average_power\n",
    "\n",
    "print(set([u for u,_ in val_original_source]))\n",
    "print(set([u for u,_ in val_original_target]))\n",
    "\n",
    "s_x, s_y, q_x, q_y, _ = next(iter(train_processed_source))\n",
    "print(s_x)\n",
    "\n",
    "# for ds in [\n",
    "#     train_processed_source,\n",
    "#     val_processed_source,\n",
    "#     test_processed_source,\n",
    "#     train_processed_target,\n",
    "#     val_processed_target,\n",
    "#     test_processed_target\n",
    "# ]:\n",
    "#     for s_x, s_y, q_x, q_y, _ in ds:\n",
    "#         for X in (s_x, q_x):\n",
    "#             for x in X:\n",
    "#                 assert np.isclose(get_average_magnitude(x.numpy()), 1.0)\n",
    "#                 assert np.isclose(get_average_power(x.numpy()), 1.0)\n",
    "                "
   ]
  },
  {
   "cell_type": "code",
   "execution_count": 21,
   "id": "bbdacba1",
   "metadata": {
    "execution": {
     "iopub.execute_input": "2022-03-28T16:29:57.252791Z",
     "iopub.status.busy": "2022-03-28T16:29:57.251967Z",
     "iopub.status.idle": "2022-03-28T16:29:57.458195Z",
     "shell.execute_reply": "2022-03-28T16:29:57.458490Z"
    },
    "papermill": {
     "duration": 0.239223,
     "end_time": "2022-03-28T16:29:57.458617",
     "exception": false,
     "start_time": "2022-03-28T16:29:57.219394",
     "status": "completed"
    },
    "tags": []
   },
   "outputs": [
    {
     "name": "stdout",
     "output_type": "stream",
     "text": [
      "(2, 256)\n"
     ]
    }
   ],
   "source": [
    "###################################\n",
    "# Build the model\n",
    "###################################\n",
    "# easfsl only wants a tuple for the shape\n",
    "model = Steves_Prototypical_Network(x_net, device=p.device, x_shape=tuple(p.x_shape))\n",
    "optimizer = Adam(params=model.parameters(), lr=p.lr)"
   ]
  },
  {
   "cell_type": "code",
   "execution_count": 22,
   "id": "22b39ac5",
   "metadata": {
    "execution": {
     "iopub.execute_input": "2022-03-28T16:29:57.505598Z",
     "iopub.status.busy": "2022-03-28T16:29:57.505041Z",
     "iopub.status.idle": "2022-03-28T17:05:22.090626Z",
     "shell.execute_reply": "2022-03-28T17:05:22.090282Z"
    },
    "papermill": {
     "duration": 2124.610337,
     "end_time": "2022-03-28T17:05:22.090710",
     "exception": false,
     "start_time": "2022-03-28T16:29:57.480373",
     "status": "completed"
    },
    "tags": []
   },
   "outputs": [
    {
     "name": "stdout",
     "output_type": "stream",
     "text": [
      "epoch: 1, [batch: 1 / 6720], examples_per_second: 32.7000, train_label_loss: 2.7788, \n"
     ]
    },
    {
     "name": "stdout",
     "output_type": "stream",
     "text": [
      "epoch: 1, [batch: 672 / 6720], examples_per_second: 2959.5874, train_label_loss: 2.8093, \n"
     ]
    },
    {
     "name": "stdout",
     "output_type": "stream",
     "text": [
      "epoch: 1, [batch: 1344 / 6720], examples_per_second: 3377.4948, train_label_loss: 1.9670, \n"
     ]
    },
    {
     "name": "stdout",
     "output_type": "stream",
     "text": [
      "epoch: 1, [batch: 2016 / 6720], examples_per_second: 3531.9633, train_label_loss: 2.0514, \n"
     ]
    },
    {
     "name": "stdout",
     "output_type": "stream",
     "text": [
      "epoch: 1, [batch: 2688 / 6720], examples_per_second: 3666.6782, train_label_loss: 1.4515, \n"
     ]
    },
    {
     "name": "stdout",
     "output_type": "stream",
     "text": [
      "epoch: 1, [batch: 3360 / 6720], examples_per_second: 3392.2081, train_label_loss: 1.2204, \n"
     ]
    },
    {
     "name": "stdout",
     "output_type": "stream",
     "text": [
      "epoch: 1, [batch: 4032 / 6720], examples_per_second: 2951.4135, train_label_loss: 1.8158, \n"
     ]
    },
    {
     "name": "stdout",
     "output_type": "stream",
     "text": [
      "epoch: 1, [batch: 4704 / 6720], examples_per_second: 2919.0483, train_label_loss: 1.3256, \n"
     ]
    },
    {
     "name": "stdout",
     "output_type": "stream",
     "text": [
      "epoch: 1, [batch: 5376 / 6720], examples_per_second: 2914.4263, train_label_loss: 1.5464, \n"
     ]
    },
    {
     "name": "stdout",
     "output_type": "stream",
     "text": [
      "epoch: 1, [batch: 6048 / 6720], examples_per_second: 2988.1017, train_label_loss: 0.5220, \n"
     ]
    },
    {
     "name": "stdout",
     "output_type": "stream",
     "text": [
      "=============================================================\n",
      "epoch: 1, source_val_acc_label: 0.6450, target_val_acc_label: 0.9298, source_val_label_loss: 0.9707, target_val_label_loss: 0.9724, \n",
      "=============================================================\n"
     ]
    },
    {
     "name": "stdout",
     "output_type": "stream",
     "text": [
      "New best\n"
     ]
    },
    {
     "name": "stdout",
     "output_type": "stream",
     "text": [
      "epoch: 2, [batch: 1 / 6720], examples_per_second: 2.8506, train_label_loss: 1.2023, \n"
     ]
    },
    {
     "name": "stdout",
     "output_type": "stream",
     "text": [
      "epoch: 2, [batch: 672 / 6720], examples_per_second: 3074.9542, train_label_loss: 1.1453, \n"
     ]
    },
    {
     "name": "stdout",
     "output_type": "stream",
     "text": [
      "epoch: 2, [batch: 1344 / 6720], examples_per_second: 3507.7022, train_label_loss: 0.9066, \n"
     ]
    },
    {
     "name": "stdout",
     "output_type": "stream",
     "text": [
      "epoch: 2, [batch: 2016 / 6720], examples_per_second: 3775.8521, train_label_loss: 0.6868, \n"
     ]
    },
    {
     "name": "stdout",
     "output_type": "stream",
     "text": [
      "epoch: 2, [batch: 2688 / 6720], examples_per_second: 3826.4001, train_label_loss: 0.7857, \n"
     ]
    },
    {
     "name": "stdout",
     "output_type": "stream",
     "text": [
      "epoch: 2, [batch: 3360 / 6720], examples_per_second: 3936.0457, train_label_loss: 0.9137, \n"
     ]
    },
    {
     "name": "stdout",
     "output_type": "stream",
     "text": [
      "epoch: 2, [batch: 4032 / 6720], examples_per_second: 3389.1112, train_label_loss: 0.6173, \n"
     ]
    },
    {
     "name": "stdout",
     "output_type": "stream",
     "text": [
      "epoch: 2, [batch: 4704 / 6720], examples_per_second: 3420.4915, train_label_loss: 0.9012, \n"
     ]
    },
    {
     "name": "stdout",
     "output_type": "stream",
     "text": [
      "epoch: 2, [batch: 5376 / 6720], examples_per_second: 3413.9375, train_label_loss: 1.2224, \n"
     ]
    },
    {
     "name": "stdout",
     "output_type": "stream",
     "text": [
      "epoch: 2, [batch: 6048 / 6720], examples_per_second: 3359.1084, train_label_loss: 0.6650, \n"
     ]
    },
    {
     "name": "stdout",
     "output_type": "stream",
     "text": [
      "=============================================================\n",
      "epoch: 2, source_val_acc_label: 0.6351, target_val_acc_label: 0.9611, source_val_label_loss: 0.9636, target_val_label_loss: 0.2011, \n",
      "=============================================================\n"
     ]
    },
    {
     "name": "stdout",
     "output_type": "stream",
     "text": [
      "New best\n"
     ]
    },
    {
     "name": "stdout",
     "output_type": "stream",
     "text": [
      "epoch: 3, [batch: 1 / 6720], examples_per_second: 3.5507, train_label_loss: 0.6744, \n"
     ]
    },
    {
     "name": "stdout",
     "output_type": "stream",
     "text": [
      "epoch: 3, [batch: 672 / 6720], examples_per_second: 3850.8420, train_label_loss: 1.1840, \n"
     ]
    },
    {
     "name": "stdout",
     "output_type": "stream",
     "text": [
      "epoch: 3, [batch: 1344 / 6720], examples_per_second: 4004.8615, train_label_loss: 1.1431, \n"
     ]
    },
    {
     "name": "stdout",
     "output_type": "stream",
     "text": [
      "epoch: 3, [batch: 2016 / 6720], examples_per_second: 4365.6123, train_label_loss: 0.8561, \n"
     ]
    },
    {
     "name": "stdout",
     "output_type": "stream",
     "text": [
      "epoch: 3, [batch: 2688 / 6720], examples_per_second: 4383.7690, train_label_loss: 0.8286, \n"
     ]
    },
    {
     "name": "stdout",
     "output_type": "stream",
     "text": [
      "epoch: 3, [batch: 3360 / 6720], examples_per_second: 4337.6130, train_label_loss: 0.8974, \n"
     ]
    },
    {
     "name": "stdout",
     "output_type": "stream",
     "text": [
      "epoch: 3, [batch: 4032 / 6720], examples_per_second: 4234.1310, train_label_loss: 0.5607, \n"
     ]
    },
    {
     "name": "stdout",
     "output_type": "stream",
     "text": [
      "epoch: 3, [batch: 4704 / 6720], examples_per_second: 4333.0339, train_label_loss: 0.6642, \n"
     ]
    },
    {
     "name": "stdout",
     "output_type": "stream",
     "text": [
      "epoch: 3, [batch: 5376 / 6720], examples_per_second: 4616.4104, train_label_loss: 0.8131, \n"
     ]
    },
    {
     "name": "stdout",
     "output_type": "stream",
     "text": [
      "epoch: 3, [batch: 6048 / 6720], examples_per_second: 4311.5159, train_label_loss: 0.7688, \n"
     ]
    },
    {
     "name": "stdout",
     "output_type": "stream",
     "text": [
      "=============================================================\n",
      "epoch: 3, source_val_acc_label: 0.6505, target_val_acc_label: 0.9578, source_val_label_loss: 0.9191, target_val_label_loss: 0.1873, \n",
      "=============================================================\n"
     ]
    },
    {
     "name": "stdout",
     "output_type": "stream",
     "text": [
      "epoch: 4, [batch: 1 / 6720], examples_per_second: 4.8391, train_label_loss: 0.9126, \n"
     ]
    },
    {
     "name": "stdout",
     "output_type": "stream",
     "text": [
      "epoch: 4, [batch: 672 / 6720], examples_per_second: 5040.0800, train_label_loss: 1.1744, \n"
     ]
    },
    {
     "name": "stdout",
     "output_type": "stream",
     "text": [
      "epoch: 4, [batch: 1344 / 6720], examples_per_second: 4535.2950, train_label_loss: 0.6204, \n"
     ]
    },
    {
     "name": "stdout",
     "output_type": "stream",
     "text": [
      "epoch: 4, [batch: 2016 / 6720], examples_per_second: 3922.0064, train_label_loss: 0.5553, \n"
     ]
    },
    {
     "name": "stdout",
     "output_type": "stream",
     "text": [
      "epoch: 4, [batch: 2688 / 6720], examples_per_second: 3910.2188, train_label_loss: 1.4523, \n"
     ]
    },
    {
     "name": "stdout",
     "output_type": "stream",
     "text": [
      "epoch: 4, [batch: 3360 / 6720], examples_per_second: 3908.0379, train_label_loss: 1.1919, \n"
     ]
    },
    {
     "name": "stdout",
     "output_type": "stream",
     "text": [
      "epoch: 4, [batch: 4032 / 6720], examples_per_second: 3858.3301, train_label_loss: 0.7015, \n"
     ]
    },
    {
     "name": "stdout",
     "output_type": "stream",
     "text": [
      "epoch: 4, [batch: 4704 / 6720], examples_per_second: 3943.1698, train_label_loss: 0.8459, \n"
     ]
    },
    {
     "name": "stdout",
     "output_type": "stream",
     "text": [
      "epoch: 4, [batch: 5376 / 6720], examples_per_second: 3910.0896, train_label_loss: 0.9040, \n"
     ]
    },
    {
     "name": "stdout",
     "output_type": "stream",
     "text": [
      "epoch: 4, [batch: 6048 / 6720], examples_per_second: 3911.4663, train_label_loss: 0.7420, \n"
     ]
    },
    {
     "name": "stdout",
     "output_type": "stream",
     "text": [
      "=============================================================\n",
      "epoch: 4, source_val_acc_label: 0.6785, target_val_acc_label: 0.9552, source_val_label_loss: 0.8467, target_val_label_loss: 0.1777, \n",
      "=============================================================\n"
     ]
    },
    {
     "name": "stdout",
     "output_type": "stream",
     "text": [
      "epoch: 5, [batch: 1 / 6720], examples_per_second: 4.0942, train_label_loss: 0.7261, \n"
     ]
    },
    {
     "name": "stdout",
     "output_type": "stream",
     "text": [
      "epoch: 5, [batch: 672 / 6720], examples_per_second: 4405.6405, train_label_loss: 1.0853, \n"
     ]
    },
    {
     "name": "stdout",
     "output_type": "stream",
     "text": [
      "epoch: 5, [batch: 1344 / 6720], examples_per_second: 4609.3736, train_label_loss: 0.6229, \n"
     ]
    },
    {
     "name": "stdout",
     "output_type": "stream",
     "text": [
      "epoch: 5, [batch: 2016 / 6720], examples_per_second: 3866.7426, train_label_loss: 0.8197, \n"
     ]
    },
    {
     "name": "stdout",
     "output_type": "stream",
     "text": [
      "epoch: 5, [batch: 2688 / 6720], examples_per_second: 3916.3803, train_label_loss: 1.1173, \n"
     ]
    },
    {
     "name": "stdout",
     "output_type": "stream",
     "text": [
      "epoch: 5, [batch: 3360 / 6720], examples_per_second: 3080.5408, train_label_loss: 0.9428, \n"
     ]
    },
    {
     "name": "stdout",
     "output_type": "stream",
     "text": [
      "epoch: 5, [batch: 4032 / 6720], examples_per_second: 3060.7866, train_label_loss: 0.8353, \n"
     ]
    },
    {
     "name": "stdout",
     "output_type": "stream",
     "text": [
      "epoch: 5, [batch: 4704 / 6720], examples_per_second: 3035.6921, train_label_loss: 0.8838, \n"
     ]
    },
    {
     "name": "stdout",
     "output_type": "stream",
     "text": [
      "epoch: 5, [batch: 5376 / 6720], examples_per_second: 3124.8792, train_label_loss: 0.9752, \n"
     ]
    },
    {
     "name": "stdout",
     "output_type": "stream",
     "text": [
      "epoch: 5, [batch: 6048 / 6720], examples_per_second: 3041.2374, train_label_loss: 0.5156, \n"
     ]
    },
    {
     "name": "stdout",
     "output_type": "stream",
     "text": [
      "=============================================================\n",
      "epoch: 5, source_val_acc_label: 0.6857, target_val_acc_label: 0.9505, source_val_label_loss: 0.8253, target_val_label_loss: 0.1955, \n",
      "=============================================================\n"
     ]
    },
    {
     "name": "stdout",
     "output_type": "stream",
     "text": [
      "epoch: 6, [batch: 1 / 6720], examples_per_second: 2.8815, train_label_loss: 0.4920, \n"
     ]
    },
    {
     "name": "stdout",
     "output_type": "stream",
     "text": [
      "epoch: 6, [batch: 672 / 6720], examples_per_second: 3429.3952, train_label_loss: 0.5301, \n"
     ]
    },
    {
     "name": "stdout",
     "output_type": "stream",
     "text": [
      "epoch: 6, [batch: 1344 / 6720], examples_per_second: 3569.7965, train_label_loss: 1.1427, \n"
     ]
    },
    {
     "name": "stdout",
     "output_type": "stream",
     "text": [
      "epoch: 6, [batch: 2016 / 6720], examples_per_second: 3500.1271, train_label_loss: 1.2702, \n"
     ]
    },
    {
     "name": "stdout",
     "output_type": "stream",
     "text": [
      "epoch: 6, [batch: 2688 / 6720], examples_per_second: 3476.9379, train_label_loss: 0.5445, \n"
     ]
    },
    {
     "name": "stdout",
     "output_type": "stream",
     "text": [
      "epoch: 6, [batch: 3360 / 6720], examples_per_second: 3219.6275, train_label_loss: 0.4726, \n"
     ]
    },
    {
     "name": "stdout",
     "output_type": "stream",
     "text": [
      "epoch: 6, [batch: 4032 / 6720], examples_per_second: 2952.5790, train_label_loss: 0.6841, \n"
     ]
    },
    {
     "name": "stdout",
     "output_type": "stream",
     "text": [
      "epoch: 6, [batch: 4704 / 6720], examples_per_second: 2954.7902, train_label_loss: 0.7622, \n"
     ]
    },
    {
     "name": "stdout",
     "output_type": "stream",
     "text": [
      "epoch: 6, [batch: 5376 / 6720], examples_per_second: 2995.9513, train_label_loss: 1.2757, \n"
     ]
    },
    {
     "name": "stdout",
     "output_type": "stream",
     "text": [
      "epoch: 6, [batch: 6048 / 6720], examples_per_second: 3038.2479, train_label_loss: 0.8507, \n"
     ]
    },
    {
     "name": "stdout",
     "output_type": "stream",
     "text": [
      "=============================================================\n",
      "epoch: 6, source_val_acc_label: 0.7078, target_val_acc_label: 0.9661, source_val_label_loss: 0.7782, target_val_label_loss: 0.1512, \n",
      "=============================================================\n"
     ]
    },
    {
     "name": "stdout",
     "output_type": "stream",
     "text": [
      "New best\n"
     ]
    },
    {
     "name": "stdout",
     "output_type": "stream",
     "text": [
      "epoch: 7, [batch: 1 / 6720], examples_per_second: 2.9112, train_label_loss: 0.7607, \n"
     ]
    },
    {
     "name": "stdout",
     "output_type": "stream",
     "text": [
      "epoch: 7, [batch: 672 / 6720], examples_per_second: 3416.0572, train_label_loss: 1.1552, \n"
     ]
    },
    {
     "name": "stdout",
     "output_type": "stream",
     "text": [
      "epoch: 7, [batch: 1344 / 6720], examples_per_second: 3484.7382, train_label_loss: 0.5501, \n"
     ]
    },
    {
     "name": "stdout",
     "output_type": "stream",
     "text": [
      "epoch: 7, [batch: 2016 / 6720], examples_per_second: 3484.9524, train_label_loss: 0.7210, \n"
     ]
    },
    {
     "name": "stdout",
     "output_type": "stream",
     "text": [
      "epoch: 7, [batch: 2688 / 6720], examples_per_second: 3404.0974, train_label_loss: 0.6686, \n"
     ]
    },
    {
     "name": "stdout",
     "output_type": "stream",
     "text": [
      "epoch: 7, [batch: 3360 / 6720], examples_per_second: 3158.0354, train_label_loss: 0.5722, \n"
     ]
    },
    {
     "name": "stdout",
     "output_type": "stream",
     "text": [
      "epoch: 7, [batch: 4032 / 6720], examples_per_second: 2964.3927, train_label_loss: 0.7933, \n"
     ]
    },
    {
     "name": "stdout",
     "output_type": "stream",
     "text": [
      "epoch: 7, [batch: 4704 / 6720], examples_per_second: 2956.2820, train_label_loss: 1.1765, \n"
     ]
    },
    {
     "name": "stdout",
     "output_type": "stream",
     "text": [
      "epoch: 7, [batch: 5376 / 6720], examples_per_second: 2982.3464, train_label_loss: 0.7120, \n"
     ]
    },
    {
     "name": "stdout",
     "output_type": "stream",
     "text": [
      "epoch: 7, [batch: 6048 / 6720], examples_per_second: 3000.0921, train_label_loss: 0.5522, \n"
     ]
    },
    {
     "name": "stdout",
     "output_type": "stream",
     "text": [
      "=============================================================\n",
      "epoch: 7, source_val_acc_label: 0.7340, target_val_acc_label: 0.9834, source_val_label_loss: 0.7153, target_val_label_loss: 0.1040, \n",
      "=============================================================\n"
     ]
    },
    {
     "name": "stdout",
     "output_type": "stream",
     "text": [
      "New best\n"
     ]
    },
    {
     "name": "stdout",
     "output_type": "stream",
     "text": [
      "epoch: 8, [batch: 1 / 6720], examples_per_second: 2.9441, train_label_loss: 0.5090, \n"
     ]
    },
    {
     "name": "stdout",
     "output_type": "stream",
     "text": [
      "epoch: 8, [batch: 672 / 6720], examples_per_second: 3498.5486, train_label_loss: 0.5828, \n"
     ]
    },
    {
     "name": "stdout",
     "output_type": "stream",
     "text": [
      "epoch: 8, [batch: 1344 / 6720], examples_per_second: 3182.4051, train_label_loss: 0.6577, \n"
     ]
    },
    {
     "name": "stdout",
     "output_type": "stream",
     "text": [
      "epoch: 8, [batch: 2016 / 6720], examples_per_second: 3348.5638, train_label_loss: 0.5071, \n"
     ]
    },
    {
     "name": "stdout",
     "output_type": "stream",
     "text": [
      "epoch: 8, [batch: 2688 / 6720], examples_per_second: 3480.9462, train_label_loss: 0.3659, \n"
     ]
    },
    {
     "name": "stdout",
     "output_type": "stream",
     "text": [
      "epoch: 8, [batch: 3360 / 6720], examples_per_second: 3025.5286, train_label_loss: 0.6261, \n"
     ]
    },
    {
     "name": "stdout",
     "output_type": "stream",
     "text": [
      "epoch: 8, [batch: 4032 / 6720], examples_per_second: 2979.6436, train_label_loss: 0.3208, \n"
     ]
    },
    {
     "name": "stdout",
     "output_type": "stream",
     "text": [
      "epoch: 8, [batch: 4704 / 6720], examples_per_second: 2995.7294, train_label_loss: 0.6257, \n"
     ]
    },
    {
     "name": "stdout",
     "output_type": "stream",
     "text": [
      "epoch: 8, [batch: 5376 / 6720], examples_per_second: 3014.1040, train_label_loss: 0.4286, \n"
     ]
    },
    {
     "name": "stdout",
     "output_type": "stream",
     "text": [
      "epoch: 8, [batch: 6048 / 6720], examples_per_second: 3000.9162, train_label_loss: 0.8112, \n"
     ]
    },
    {
     "name": "stdout",
     "output_type": "stream",
     "text": [
      "=============================================================\n",
      "epoch: 8, source_val_acc_label: 0.7534, target_val_acc_label: 0.9753, source_val_label_loss: 0.6663, target_val_label_loss: 0.2338, \n",
      "=============================================================\n"
     ]
    },
    {
     "name": "stdout",
     "output_type": "stream",
     "text": [
      "epoch: 9, [batch: 1 / 6720], examples_per_second: 2.9604, train_label_loss: 0.9517, \n"
     ]
    },
    {
     "name": "stdout",
     "output_type": "stream",
     "text": [
      "epoch: 9, [batch: 672 / 6720], examples_per_second: 3444.4104, train_label_loss: 0.7876, \n"
     ]
    },
    {
     "name": "stdout",
     "output_type": "stream",
     "text": [
      "epoch: 9, [batch: 1344 / 6720], examples_per_second: 3155.0602, train_label_loss: 0.5049, \n"
     ]
    },
    {
     "name": "stdout",
     "output_type": "stream",
     "text": [
      "epoch: 9, [batch: 2016 / 6720], examples_per_second: 3424.4790, train_label_loss: 0.6202, \n"
     ]
    },
    {
     "name": "stdout",
     "output_type": "stream",
     "text": [
      "epoch: 9, [batch: 2688 / 6720], examples_per_second: 3529.0772, train_label_loss: 0.5199, \n"
     ]
    },
    {
     "name": "stdout",
     "output_type": "stream",
     "text": [
      "epoch: 9, [batch: 3360 / 6720], examples_per_second: 3027.5145, train_label_loss: 0.9248, \n"
     ]
    },
    {
     "name": "stdout",
     "output_type": "stream",
     "text": [
      "epoch: 9, [batch: 4032 / 6720], examples_per_second: 3010.0367, train_label_loss: 0.6274, \n"
     ]
    },
    {
     "name": "stdout",
     "output_type": "stream",
     "text": [
      "epoch: 9, [batch: 4704 / 6720], examples_per_second: 2971.3779, train_label_loss: 0.5881, \n"
     ]
    },
    {
     "name": "stdout",
     "output_type": "stream",
     "text": [
      "epoch: 9, [batch: 5376 / 6720], examples_per_second: 3014.2347, train_label_loss: 0.1710, \n"
     ]
    },
    {
     "name": "stdout",
     "output_type": "stream",
     "text": [
      "epoch: 9, [batch: 6048 / 6720], examples_per_second: 2966.0436, train_label_loss: 0.8477, \n"
     ]
    },
    {
     "name": "stdout",
     "output_type": "stream",
     "text": [
      "=============================================================\n",
      "epoch: 9, source_val_acc_label: 0.7590, target_val_acc_label: 0.9664, source_val_label_loss: 0.6514, target_val_label_loss: 0.4298, \n",
      "=============================================================\n"
     ]
    },
    {
     "name": "stdout",
     "output_type": "stream",
     "text": [
      "epoch: 10, [batch: 1 / 6720], examples_per_second: 3.0160, train_label_loss: 0.2925, \n"
     ]
    },
    {
     "name": "stdout",
     "output_type": "stream",
     "text": [
      "epoch: 10, [batch: 672 / 6720], examples_per_second: 3487.3859, train_label_loss: 0.7817, \n"
     ]
    },
    {
     "name": "stdout",
     "output_type": "stream",
     "text": [
      "epoch: 10, [batch: 1344 / 6720], examples_per_second: 3247.5934, train_label_loss: 0.7094, \n"
     ]
    },
    {
     "name": "stdout",
     "output_type": "stream",
     "text": [
      "epoch: 10, [batch: 2016 / 6720], examples_per_second: 3506.5162, train_label_loss: 0.8182, \n"
     ]
    },
    {
     "name": "stdout",
     "output_type": "stream",
     "text": [
      "epoch: 10, [batch: 2688 / 6720], examples_per_second: 3633.7864, train_label_loss: 0.2858, \n"
     ]
    },
    {
     "name": "stdout",
     "output_type": "stream",
     "text": [
      "epoch: 10, [batch: 3360 / 6720], examples_per_second: 3063.9847, train_label_loss: 0.4817, \n"
     ]
    },
    {
     "name": "stdout",
     "output_type": "stream",
     "text": [
      "epoch: 10, [batch: 4032 / 6720], examples_per_second: 3021.9813, train_label_loss: 0.4309, \n"
     ]
    },
    {
     "name": "stdout",
     "output_type": "stream",
     "text": [
      "epoch: 10, [batch: 4704 / 6720], examples_per_second: 3060.5206, train_label_loss: 0.7077, \n"
     ]
    },
    {
     "name": "stdout",
     "output_type": "stream",
     "text": [
      "epoch: 10, [batch: 5376 / 6720], examples_per_second: 3017.1203, train_label_loss: 0.5689, \n"
     ]
    },
    {
     "name": "stdout",
     "output_type": "stream",
     "text": [
      "epoch: 10, [batch: 6048 / 6720], examples_per_second: 3028.6417, train_label_loss: 0.3465, \n"
     ]
    },
    {
     "name": "stdout",
     "output_type": "stream",
     "text": [
      "=============================================================\n",
      "epoch: 10, source_val_acc_label: 0.7464, target_val_acc_label: 0.9634, source_val_label_loss: 0.6656, target_val_label_loss: 0.6857, \n",
      "=============================================================\n"
     ]
    },
    {
     "name": "stdout",
     "output_type": "stream",
     "text": [
      "epoch: 11, [batch: 1 / 6720], examples_per_second: 3.0216, train_label_loss: 0.5329, \n"
     ]
    },
    {
     "name": "stdout",
     "output_type": "stream",
     "text": [
      "epoch: 11, [batch: 672 / 6720], examples_per_second: 3496.5067, train_label_loss: 0.4567, \n"
     ]
    },
    {
     "name": "stdout",
     "output_type": "stream",
     "text": [
      "epoch: 11, [batch: 1344 / 6720], examples_per_second: 3169.6105, train_label_loss: 0.5158, \n"
     ]
    },
    {
     "name": "stdout",
     "output_type": "stream",
     "text": [
      "epoch: 11, [batch: 2016 / 6720], examples_per_second: 3418.7112, train_label_loss: 0.8540, \n"
     ]
    },
    {
     "name": "stdout",
     "output_type": "stream",
     "text": [
      "epoch: 11, [batch: 2688 / 6720], examples_per_second: 3582.5499, train_label_loss: 0.2511, \n"
     ]
    },
    {
     "name": "stdout",
     "output_type": "stream",
     "text": [
      "epoch: 11, [batch: 3360 / 6720], examples_per_second: 3045.8853, train_label_loss: 1.3483, \n"
     ]
    },
    {
     "name": "stdout",
     "output_type": "stream",
     "text": [
      "epoch: 11, [batch: 4032 / 6720], examples_per_second: 3025.5690, train_label_loss: 0.7324, \n"
     ]
    },
    {
     "name": "stdout",
     "output_type": "stream",
     "text": [
      "epoch: 11, [batch: 4704 / 6720], examples_per_second: 2978.0921, train_label_loss: 1.1275, \n"
     ]
    },
    {
     "name": "stdout",
     "output_type": "stream",
     "text": [
      "epoch: 11, [batch: 5376 / 6720], examples_per_second: 3032.5005, train_label_loss: 0.3299, \n"
     ]
    },
    {
     "name": "stdout",
     "output_type": "stream",
     "text": [
      "epoch: 11, [batch: 6048 / 6720], examples_per_second: 3023.2613, train_label_loss: 0.1981, \n"
     ]
    },
    {
     "name": "stdout",
     "output_type": "stream",
     "text": [
      "=============================================================\n",
      "epoch: 11, source_val_acc_label: 0.7759, target_val_acc_label: 0.9638, source_val_label_loss: 0.6046, target_val_label_loss: 0.8819, \n",
      "=============================================================\n"
     ]
    },
    {
     "name": "stdout",
     "output_type": "stream",
     "text": [
      "Patience (3) exhausted\n"
     ]
    }
   ],
   "source": [
    "###################################\n",
    "# train\n",
    "###################################\n",
    "jig = PTN_Train_Eval_Test_Jig(model, p.BEST_MODEL_PATH, p.device)\n",
    "\n",
    "jig.train(\n",
    "    train_iterable=datasets.source.processed.train,\n",
    "    source_val_iterable=datasets.source.processed.val,\n",
    "    target_val_iterable=datasets.target.processed.val,\n",
    "    num_epochs=p.n_epoch,\n",
    "    num_logs_per_epoch=p.NUM_LOGS_PER_EPOCH,\n",
    "    patience=p.patience,\n",
    "    optimizer=optimizer,\n",
    "    criteria_for_best=p.criteria_for_best,\n",
    ")"
   ]
  },
  {
   "cell_type": "code",
   "execution_count": 23,
   "id": "31e8fabf",
   "metadata": {
    "execution": {
     "iopub.execute_input": "2022-03-28T17:05:22.206731Z",
     "iopub.status.busy": "2022-03-28T17:05:22.206174Z",
     "iopub.status.idle": "2022-03-28T17:05:22.238257Z",
     "shell.execute_reply": "2022-03-28T17:05:22.237424Z"
    },
    "papermill": {
     "duration": 0.092562,
     "end_time": "2022-03-28T17:05:22.238439",
     "exception": false,
     "start_time": "2022-03-28T17:05:22.145877",
     "status": "completed"
    },
    "tags": []
   },
   "outputs": [],
   "source": [
    "total_experiment_time_secs = time.time() - start_time_secs"
   ]
  },
  {
   "cell_type": "code",
   "execution_count": 24,
   "id": "87b9595b",
   "metadata": {
    "execution": {
     "iopub.execute_input": "2022-03-28T17:05:22.363165Z",
     "iopub.status.busy": "2022-03-28T17:05:22.362770Z",
     "iopub.status.idle": "2022-03-28T17:08:42.924156Z",
     "shell.execute_reply": "2022-03-28T17:08:42.923315Z"
    },
    "papermill": {
     "duration": 200.625165,
     "end_time": "2022-03-28T17:08:42.924355",
     "exception": false,
     "start_time": "2022-03-28T17:05:22.299190",
     "status": "completed"
    },
    "tags": []
   },
   "outputs": [],
   "source": [
    "###################################\n",
    "# Evaluate the model\n",
    "###################################\n",
    "source_test_label_accuracy, source_test_label_loss = jig.test(datasets.source.processed.test)\n",
    "target_test_label_accuracy, target_test_label_loss = jig.test(datasets.target.processed.test)\n",
    "\n",
    "source_val_label_accuracy, source_val_label_loss = jig.test(datasets.source.processed.val)\n",
    "target_val_label_accuracy, target_val_label_loss = jig.test(datasets.target.processed.val)\n",
    "\n",
    "history = jig.get_history()\n",
    "\n",
    "total_epochs_trained = len(history[\"epoch_indices\"])\n",
    "\n",
    "val_dl = Iterable_Aggregator((datasets.source.original.val,datasets.target.original.val))\n",
    "\n",
    "confusion = ptn_confusion_by_domain_over_dataloader(model, p.device, val_dl)\n",
    "per_domain_accuracy = per_domain_accuracy_from_confusion(confusion)\n",
    "\n",
    "# Add a key to per_domain_accuracy for if it was a source domain\n",
    "for domain, accuracy in per_domain_accuracy.items():\n",
    "    per_domain_accuracy[domain] = {\n",
    "        \"accuracy\": accuracy,\n",
    "        \"source?\": domain in p.domains_source\n",
    "    }\n",
    "\n",
    "# Do an independent accuracy assesment JUST TO BE SURE!\n",
    "# _source_test_label_accuracy = independent_accuracy_assesment(model, datasets.source.processed.test, p.device)\n",
    "# _target_test_label_accuracy = independent_accuracy_assesment(model, datasets.target.processed.test, p.device)\n",
    "# _source_val_label_accuracy = independent_accuracy_assesment(model, datasets.source.processed.val, p.device)\n",
    "# _target_val_label_accuracy = independent_accuracy_assesment(model, datasets.target.processed.val, p.device)\n",
    "\n",
    "# assert(_source_test_label_accuracy == source_test_label_accuracy)\n",
    "# assert(_target_test_label_accuracy == target_test_label_accuracy)\n",
    "# assert(_source_val_label_accuracy == source_val_label_accuracy)\n",
    "# assert(_target_val_label_accuracy == target_val_label_accuracy)\n",
    "\n",
    "experiment = {\n",
    "    \"experiment_name\": p.experiment_name,\n",
    "    \"parameters\": dict(p),\n",
    "    \"results\": {\n",
    "        \"source_test_label_accuracy\": source_test_label_accuracy,\n",
    "        \"source_test_label_loss\": source_test_label_loss,\n",
    "        \"target_test_label_accuracy\": target_test_label_accuracy,\n",
    "        \"target_test_label_loss\": target_test_label_loss,\n",
    "        \"source_val_label_accuracy\": source_val_label_accuracy,\n",
    "        \"source_val_label_loss\": source_val_label_loss,\n",
    "        \"target_val_label_accuracy\": target_val_label_accuracy,\n",
    "        \"target_val_label_loss\": target_val_label_loss,\n",
    "        \"total_epochs_trained\": total_epochs_trained,\n",
    "        \"total_experiment_time_secs\": total_experiment_time_secs,\n",
    "        \"confusion\": confusion,\n",
    "        \"per_domain_accuracy\": per_domain_accuracy,\n",
    "    },\n",
    "    \"history\": history,\n",
    "    \"dataset_metrics\": get_dataset_metrics(datasets, \"ptn\"),\n",
    "}"
   ]
  },
  {
   "cell_type": "code",
   "execution_count": 25,
   "id": "54a21829",
   "metadata": {
    "execution": {
     "iopub.execute_input": "2022-03-28T17:08:43.043929Z",
     "iopub.status.busy": "2022-03-28T17:08:43.043527Z",
     "iopub.status.idle": "2022-03-28T17:08:43.262297Z",
     "shell.execute_reply": "2022-03-28T17:08:43.262780Z"
    },
    "papermill": {
     "duration": 0.276795,
     "end_time": "2022-03-28T17:08:43.262956",
     "exception": false,
     "start_time": "2022-03-28T17:08:42.986161",
     "status": "completed"
    },
    "tags": []
   },
   "outputs": [
    {
     "data": {
      "image/png": "[encoded data removed]",
      "text/plain": [
       "<Figure size 1080x504 with 1 Axes>"
      ]
     },
     "metadata": {
      "needs_background": "light"
     },
     "output_type": "display_data"
    }
   ],
   "source": [
    "ax = get_loss_curve(experiment)\n",
    "plt.show()"
   ]
  },
  {
   "cell_type": "code",
   "execution_count": 26,
   "id": "fd8a0f60",
   "metadata": {
    "execution": {
     "iopub.execute_input": "2022-03-28T17:08:43.380942Z",
     "iopub.status.busy": "2022-03-28T17:08:43.380547Z",
     "iopub.status.idle": "2022-03-28T17:08:43.688283Z",
     "shell.execute_reply": "2022-03-28T17:08:43.688780Z"
    },
    "papermill": {
     "duration": 0.367473,
     "end_time": "2022-03-28T17:08:43.688963",
     "exception": false,
     "start_time": "2022-03-28T17:08:43.321490",
     "status": "completed"
    },
    "tags": []
   },
   "outputs": [
    {
     "data": {
      "text/plain": [
       "<AxesSubplot:title={'center':'Results'}>"
      ]
     },
     "execution_count": 26,
     "metadata": {},
     "output_type": "execute_result"
    },
    {
     "data": {
      "image/png": "[encoded data removed]",
      "text/plain": [
       "<Figure size 1080x504 with 1 Axes>"
      ]
     },
     "metadata": {
      "needs_background": "light"
     },
     "output_type": "display_data"
    }
   ],
   "source": [
    "get_results_table(experiment)"
   ]
  },
  {
   "cell_type": "code",
   "execution_count": 27,
   "id": "cf8dc689",
   "metadata": {
    "execution": {
     "iopub.execute_input": "2022-03-28T17:08:43.816336Z",
     "iopub.status.busy": "2022-03-28T17:08:43.815644Z",
     "iopub.status.idle": "2022-03-28T17:08:44.054871Z",
     "shell.execute_reply": "2022-03-28T17:08:44.055588Z"
    },
    "papermill": {
     "duration": 0.302688,
     "end_time": "2022-03-28T17:08:44.055826",
     "exception": false,
     "start_time": "2022-03-28T17:08:43.753138",
     "status": "completed"
    },
    "tags": []
   },
   "outputs": [
    {
     "data": {
      "text/plain": [
       "<AxesSubplot:title={'center':'Per Domain Validation Accuracy'}, xlabel='domain'>"
      ]
     },
     "execution_count": 27,
     "metadata": {},
     "output_type": "execute_result"
    },
    {
     "data": {
      "image/png": "[encoded data removed]",
      "text/plain": [
       "<Figure size 1080x504 with 1 Axes>"
      ]
     },
     "metadata": {
      "needs_background": "light"
     },
     "output_type": "display_data"
    }
   ],
   "source": [
    "get_domain_accuracies(experiment)"
   ]
  },
  {
   "cell_type": "code",
   "execution_count": 28,
   "id": "a74ae082",
   "metadata": {
    "execution": {
     "iopub.execute_input": "2022-03-28T17:08:44.183320Z",
     "iopub.status.busy": "2022-03-28T17:08:44.182938Z",
     "iopub.status.idle": "2022-03-28T17:08:44.205357Z",
     "shell.execute_reply": "2022-03-28T17:08:44.206045Z"
    },
    "papermill": {
     "duration": 0.084811,
     "end_time": "2022-03-28T17:08:44.206252",
     "exception": false,
     "start_time": "2022-03-28T17:08:44.121441",
     "status": "completed"
    },
    "tags": []
   },
   "outputs": [
    {
     "name": "stdout",
     "output_type": "stream",
     "text": [
      "Source Test Label Accuracy: 0.7344401041666667 Target Test Label Accuracy: 0.9821176636568849\n",
      "Source Val Label Accuracy: 0.733984375 Target Val Label Accuracy: 0.9833928571428572\n"
     ]
    }
   ],
   "source": [
    "print(\"Source Test Label Accuracy:\", experiment[\"results\"][\"source_test_label_accuracy\"], \"Target Test Label Accuracy:\", experiment[\"results\"][\"target_test_label_accuracy\"])\n",
    "print(\"Source Val Label Accuracy:\", experiment[\"results\"][\"source_val_label_accuracy\"], \"Target Val Label Accuracy:\", experiment[\"results\"][\"target_val_label_accuracy\"])"
   ]
  },
  {
   "cell_type": "code",
   "execution_count": 29,
   "id": "dacca602",
   "metadata": {
    "execution": {
     "iopub.execute_input": "2022-03-28T17:08:44.333215Z",
     "iopub.status.busy": "2022-03-28T17:08:44.332840Z",
     "iopub.status.idle": "2022-03-28T17:08:44.360201Z",
     "shell.execute_reply": "2022-03-28T17:08:44.360881Z"
    },
    "papermill": {
     "duration": 0.090332,
     "end_time": "2022-03-28T17:08:44.361080",
     "exception": false,
     "start_time": "2022-03-28T17:08:44.270748",
     "status": "completed"
    },
    "tags": [
     "experiment_json"
    ]
   },
   "outputs": [
    {
     "data": {
      "text/plain": [
       "'{\"experiment_name\": \"tl_3-jitter5v2:oracle.run1.framed -> cores\", \"parameters\": {\"experiment_name\": \"tl_3-jitter5v2:oracle.run1.framed -> cores\", \"device\": \"cuda\", \"lr\": 0.0001, \"x_shape\": [2, 256], \"n_shot\": 3, \"n_query\": 2, \"train_k_factor\": 3, \"val_k_factor\": 2, \"test_k_factor\": 2, \"torch_default_dtype\": \"torch.float32\", \"n_epoch\": 50, \"patience\": 3, \"criteria_for_best\": \"target_accuracy\", \"x_net\": [{\"class\": \"nnReshape\", \"kargs\": {\"shape\": [-1, 1, 2, 256]}}, {\"class\": \"Conv2d\", \"kargs\": {\"in_channels\": 1, \"out_channels\": 256, \"kernel_size\": [1, 7], \"bias\": false, \"padding\": [0, 3]}}, {\"class\": \"ReLU\", \"kargs\": {\"inplace\": true}}, {\"class\": \"BatchNorm2d\", \"kargs\": {\"num_features\": 256}}, {\"class\": \"Conv2d\", \"kargs\": {\"in_channels\": 256, \"out_channels\": 80, \"kernel_size\": [2, 7], \"bias\": true, \"padding\": [0, 3]}}, {\"class\": \"ReLU\", \"kargs\": {\"inplace\": true}}, {\"class\": \"BatchNorm2d\", \"kargs\": {\"num_features\": 80}}, {\"class\": \"Flatten\", \"kargs\": {}}, {\"class\": \"Linear\", \"kargs\": {\"in_features\": 20480, \"out_features\": 256}}, {\"class\": \"ReLU\", \"kargs\": {\"inplace\": true}}, {\"class\": \"BatchNorm1d\", \"kargs\": {\"num_features\": 256}}, {\"class\": \"Linear\", \"kargs\": {\"in_features\": 256, \"out_features\": 256}}], \"NUM_LOGS_PER_EPOCH\": 10, \"BEST_MODEL_PATH\": \"./best_model.pth\", \"n_way\": 16, \"datasets\": [{\"labels\": [\"1-10.\", \"1-11.\", \"1-15.\", \"1-16.\", \"1-17.\", \"1-18.\", \"1-19.\", \"10-4.\", \"10-7.\", \"11-1.\", \"11-14.\", \"11-17.\", \"11-20.\", \"11-7.\", \"13-20.\", \"13-8.\", \"14-10.\", \"14-11.\", \"14-14.\", \"14-7.\", \"15-1.\", \"15-20.\", \"16-1.\", \"16-16.\", \"17-10.\", \"17-11.\", \"17-2.\", \"19-1.\", \"19-16.\", \"19-19.\", \"19-20.\", \"19-3.\", \"2-10.\", \"2-11.\", \"2-17.\", \"2-18.\", \"2-20.\", \"2-3.\", \"2-4.\", \"2-5.\", \"2-6.\", \"2-7.\", \"2-8.\", \"3-13.\", \"3-18.\", \"3-3.\", \"4-1.\", \"4-10.\", \"4-11.\", \"4-19.\", \"5-5.\", \"6-15.\", \"7-10.\", \"7-14.\", \"8-18.\", \"8-20.\", \"8-3.\", \"8-8.\"], \"domains\": [1, 2, 3, 4, 5], \"num_examples_per_domain_per_label\": -1, \"pickle_path\": \"/root/csc500-main/datasets/cores.stratified_ds.2022A.pkl\", \"source_or_target_dataset\": \"target\", \"x_transforms\": [\"unit_mag\", \"jitter_256_5\", \"lowpass_+/-10MHz\", \"take_200\"], \"episode_transforms\": [], \"domain_prefix\": \"C_\"}, {\"labels\": [\"3123D52\", \"3123D65\", \"3123D79\", \"3123D80\", \"3123D54\", \"3123D70\", \"3123D7B\", \"3123D89\", \"3123D58\", \"3123D76\", \"3123D7D\", \"3123EFE\", \"3123D64\", \"3123D78\", \"3123D7E\", \"3124E4A\"], \"domains\": [32, 38, 8, 44, 14, 50, 20, 26], \"num_examples_per_domain_per_label\": 2000, \"pickle_path\": \"/root/csc500-main/datasets/oracle.Run1_framed_2000Examples_stratified_ds.2022A.pkl\", \"source_or_target_dataset\": \"source\", \"x_transforms\": [\"unit_mag\", \"jitter_256_5\", \"take_200\", \"resample_20Msps_to_25Msps\"], \"episode_transforms\": [], \"domain_prefix\": \"O_\"}], \"seed\": 420, \"dataset_seed\": 420, \"domains_source\": [\"O_32\", \"O_38\", \"O_8\", \"O_44\", \"O_14\", \"O_50\", \"O_20\", \"O_26\"], \"domains_target\": [\"C_1\", \"C_2\", \"C_3\", \"C_4\", \"C_5\"]}, \"results\": {\"source_test_label_accuracy\": 0.7344401041666667, \"source_test_label_loss\": 0.7126555442810059, \"target_test_label_accuracy\": 0.9821176636568849, \"target_test_label_loss\": 0.1314101368188858, \"source_val_label_accuracy\": 0.733984375, \"source_val_label_loss\": 0.7152608633041382, \"target_val_label_accuracy\": 0.9833928571428572, \"target_val_label_loss\": 0.10399696230888367, \"total_epochs_trained\": 11, \"total_experiment_time_secs\": 2250.540786743164, \"confusion\": {\"O_14\": {\"15\": {\"15\": 237, \"7\": 3}, \"5\": {\"5\": 156, \"1\": 19, \"4\": 56, \"2\": 3, \"7\": 4, \"3\": 2}, \"7\": {\"7\": 238, \"15\": 2}, \"4\": {\"4\": 188, \"1\": 10, \"5\": 29, \"2\": 3, \"3\": 9, \"13\": 1}, \"10\": {\"10\": 234, \"0\": 6}, \"11\": {\"11\": 209, \"9\": 21, \"0\": 10}, \"12\": {\"12\": 239, \"9\": 1}, \"0\": {\"0\": 220, \"10\": 11, \"3\": 3, \"8\": 4, \"11\": 2}, \"14\": {\"13\": 24, \"14\": 190, \"2\": 18, \"6\": 5, \"3\": 3}, \"8\": {\"8\": 240}, \"13\": {\"6\": 89, \"13\": 67, \"14\": 56, \"2\": 25, \"3\": 1, \"15\": 2}, \"6\": {\"6\": 143, \"13\": 74, \"2\": 12, \"14\": 11}, \"1\": {\"1\": 220, \"4\": 5, \"5\": 15}, \"3\": {\"3\": 216, \"14\": 10, \"5\": 1, \"2\": 3, \"0\": 1, \"4\": 9}, \"9\": {\"9\": 235, \"11\": 5}, \"2\": {\"2\": 121, \"13\": 20, \"5\": 12, \"14\": 32, \"6\": 16, \"15\": 9, \"4\": 12, \"3\": 18}}, \"O_20\": {\"4\": {\"4\": 202, \"3\": 13, \"8\": 23, \"10\": 1, \"12\": 1}, \"10\": {\"10\": 221, \"14\": 15, \"4\": 2, \"6\": 1, \"8\": 1}, \"15\": {\"15\": 145, \"5\": 12, \"1\": 49, \"12\": 3, \"0\": 25, \"13\": 6}, \"0\": {\"2\": 1, \"0\": 132, \"15\": 36, \"1\": 4, \"5\": 62, \"12\": 3, \"9\": 1, \"13\": 1}, \"6\": {\"6\": 216, \"14\": 22, \"7\": 1, \"10\": 1}, \"3\": {\"12\": 42, \"3\": 132, \"9\": 24, \"4\": 14, \"5\": 8, \"2\": 10, \"7\": 8, \"15\": 1, \"1\": 1}, \"7\": {\"7\": 179, \"9\": 9, \"2\": 34, \"8\": 3, \"3\": 14, \"4\": 1}, \"2\": {\"9\": 74, \"7\": 24, \"12\": 12, \"3\": 12, \"13\": 17, \"2\": 98, \"1\": 2, \"15\": 1}, \"8\": {\"4\": 30, \"8\": 189, \"6\": 3, \"14\": 2, \"10\": 1, \"3\": 3, \"7\": 12}, \"11\": {\"11\": 240}, \"14\": {\"14\": 203, \"10\": 17, \"6\": 20}, \"12\": {\"12\": 106, \"5\": 19, \"15\": 4, \"1\": 41, \"9\": 22, \"3\": 42, \"2\": 4, \"13\": 2}, \"13\": {\"13\": 217, \"2\": 13, \"15\": 3, \"12\": 3, \"7\": 1, \"0\": 1, \"9\": 2}, \"9\": {\"7\": 11, \"2\": 72, \"9\": 108, \"13\": 7, \"3\": 22, \"12\": 18, \"1\": 2}, \"5\": {\"1\": 29, \"5\": 157, \"15\": 8, \"0\": 27, \"3\": 6, \"12\": 12, \"4\": 1}, \"1\": {\"1\": 129, \"12\": 47, \"15\": 33, \"0\": 4, \"5\": 20, \"9\": 2, \"2\": 1, \"3\": 4}}, \"O_50\": {\"5\": {\"5\": 100, \"7\": 55, \"13\": 27, \"6\": 21, \"1\": 7, \"4\": 30}, \"12\": {\"12\": 212, \"11\": 5, \"9\": 18, \"14\": 5}, \"14\": {\"14\": 231, \"12\": 6, \"11\": 3}, \"4\": {\"4\": 115, \"7\": 4, \"15\": 50, \"1\": 26, \"5\": 32, \"6\": 9, \"13\": 3, \"11\": 1}, \"13\": {\"13\": 155, \"5\": 26, \"7\": 32, \"6\": 18, \"10\": 6, \"4\": 3}, \"10\": {\"10\": 226, \"13\": 2, \"0\": 7, \"8\": 5}, \"9\": {\"9\": 184, \"11\": 24, \"12\": 32}, \"15\": {\"15\": 187, \"4\": 16, \"6\": 2, \"1\": 30, \"11\": 5}, \"6\": {\"6\": 166, \"1\": 13, \"13\": 21, \"4\": 23, \"5\": 12, \"15\": 4, \"7\": 1}, \"2\": {\"2\": 225, \"0\": 15}, \"0\": {\"0\": 206, \"10\": 19, \"2\": 13, \"13\": 2}, \"11\": {\"11\": 200, \"9\": 14, \"15\": 11, \"12\": 10, \"1\": 2, \"14\": 3}, \"3\": {\"3\": 236, \"8\": 4}, \"8\": {\"8\": 234, \"10\": 3, \"3\": 3}, \"7\": {\"7\": 163, \"13\": 36, \"5\": 36, \"6\": 5}, \"1\": {\"1\": 183, \"6\": 8, \"11\": 3, \"15\": 32, \"4\": 11, \"5\": 2, \"13\": 1}}, \"O_26\": {\"7\": {\"8\": 11, \"7\": 148, \"4\": 17, \"3\": 29, \"2\": 22, \"15\": 6, \"5\": 3, \"0\": 2, \"1\": 2}, \"6\": {\"6\": 174, \"10\": 21, \"8\": 13, \"9\": 13, \"0\": 8, \"15\": 10, \"13\": 1}, \"14\": {\"14\": 102, \"1\": 54, \"4\": 32, \"10\": 14, \"0\": 33, \"8\": 5}, \"15\": {\"5\": 20, \"15\": 90, \"9\": 73, \"8\": 33, \"2\": 8, \"6\": 3, \"4\": 2, \"10\": 2, \"7\": 4, \"0\": 3, \"13\": 2}, \"5\": {\"5\": 148, \"15\": 29, \"2\": 20, \"13\": 19, \"8\": 5, \"9\": 15, \"7\": 2, \"3\": 2}, \"10\": {\"10\": 93, \"14\": 36, \"0\": 50, \"8\": 21, \"4\": 17, \"6\": 14, \"1\": 5, \"7\": 1, \"9\": 1, \"15\": 2}, \"4\": {\"14\": 34, \"4\": 107, \"10\": 13, \"1\": 18, \"0\": 26, \"7\": 22, \"8\": 20}, \"11\": {\"11\": 238, \"12\": 2}, \"13\": {\"13\": 184, \"5\": 36, \"2\": 3, \"9\": 10, \"3\": 2, \"15\": 5}, \"2\": {\"15\": 4, \"2\": 78, \"3\": 86, \"7\": 37, \"8\": 4, \"5\": 28, \"4\": 2, \"13\": 1}, \"0\": {\"10\": 73, \"4\": 34, \"8\": 18, \"14\": 41, \"0\": 59, \"6\": 3, \"1\": 8, \"7\": 3, \"15\": 1}, \"12\": {\"12\": 240}, \"3\": {\"2\": 72, \"3\": 150, \"7\": 18}, \"9\": {\"9\": 121, \"15\": 73, \"13\": 16, \"5\": 10, \"6\": 13, \"8\": 6, \"2\": 1}, \"8\": {\"15\": 22, \"4\": 37, \"8\": 91, \"10\": 27, \"2\": 4, \"7\": 25, \"9\": 5, \"6\": 6, \"0\": 18, \"14\": 4, \"5\": 1}, \"1\": {\"1\": 150, \"14\": 62, \"4\": 16, \"10\": 4, \"7\": 2, \"0\": 4, \"8\": 1, \"3\": 1}}, \"O_32\": {\"7\": {\"13\": 50, \"0\": 6, \"7\": 95, \"5\": 16, \"14\": 23, \"2\": 3, \"8\": 5, \"11\": 2, \"4\": 39, \"3\": 1}, \"2\": {\"2\": 186, \"4\": 49, \"0\": 3, \"13\": 1, \"5\": 1}, \"5\": {\"3\": 18, \"8\": 18, \"5\": 78, \"0\": 10, \"4\": 26, \"7\": 28, \"13\": 52, \"14\": 8, \"11\": 1, \"2\": 1}, \"6\": {\"6\": 240}, \"13\": {\"7\": 54, \"3\": 22, \"13\": 76, \"5\": 51, \"14\": 16, \"8\": 6, \"2\": 1, \"0\": 8, \"4\": 6}, \"4\": {\"4\": 145, \"7\": 41, \"2\": 35, \"13\": 2, \"5\": 8, \"0\": 8, \"14\": 1}, \"3\": {\"3\": 215, \"7\": 1, \"13\": 8, \"8\": 1, \"14\": 3, \"5\": 10, \"11\": 2}, \"0\": {\"0\": 160, \"8\": 33, \"5\": 9, \"4\": 12, \"14\": 4, \"7\": 10, \"2\": 4, \"13\": 8}, \"9\": {\"9\": 236, \"12\": 4}, \"12\": {\"12\": 240}, \"8\": {\"8\": 181, \"5\": 16, \"0\": 19, \"13\": 16, \"7\": 5, \"14\": 2, \"3\": 1}, \"14\": {\"13\": 16, \"14\": 114, \"7\": 24, \"8\": 5, \"5\": 2, \"11\": 59, \"3\": 7, \"0\": 11, \"4\": 2}, \"15\": {\"15\": 240}, \"11\": {\"11\": 200, \"14\": 36, \"4\": 1, \"7\": 1, \"3\": 1, \"13\": 1}, \"10\": {\"10\": 238, \"1\": 2}, \"1\": {\"1\": 238, \"10\": 2}}, \"O_44\": {\"11\": {\"11\": 224, \"6\": 7, \"13\": 9}, \"7\": {\"7\": 156, \"9\": 43, \"6\": 4, \"2\": 36, \"13\": 1}, \"6\": {\"6\": 171, \"7\": 7, \"13\": 39, \"9\": 21, \"11\": 2}, \"12\": {\"12\": 201, \"1\": 33, \"10\": 2, \"3\": 4}, \"4\": {\"4\": 162, \"14\": 74, \"15\": 4}, \"13\": {\"13\": 164, \"6\": 50, \"9\": 19, \"11\": 6, \"7\": 1}, \"8\": {\"8\": 146, \"0\": 82, \"15\": 5, \"5\": 7}, \"5\": {\"5\": 211, \"0\": 11, \"8\": 3, \"14\": 11, \"15\": 4}, \"14\": {\"15\": 21, \"14\": 143, \"4\": 75, \"5\": 1}, \"3\": {\"1\": 24, \"3\": 212, \"2\": 2, \"12\": 2}, \"10\": {\"10\": 176, \"1\": 21, \"2\": 33, \"12\": 10}, \"1\": {\"12\": 41, \"1\": 149, \"2\": 14, \"3\": 26, \"10\": 10}, \"2\": {\"2\": 179, \"10\": 26, \"7\": 27, \"1\": 7, \"9\": 1}, \"15\": {\"15\": 176, \"5\": 11, \"0\": 23, \"14\": 23, \"8\": 4, \"4\": 3}, \"9\": {\"9\": 123, \"7\": 53, \"13\": 35, \"6\": 27, \"2\": 2}, \"0\": {\"8\": 82, \"5\": 11, \"0\": 133, \"15\": 14}}, \"O_8\": {\"10\": {\"10\": 156, \"14\": 57, \"13\": 17, \"5\": 3, \"4\": 7}, \"6\": {\"7\": 51, \"6\": 161, \"4\": 17, \"0\": 2, \"13\": 9}, \"13\": {\"4\": 48, \"14\": 21, \"13\": 96, \"10\": 25, \"0\": 44, \"7\": 2, \"6\": 4}, \"3\": {\"3\": 217, \"2\": 19, \"12\": 4}, \"9\": {\"9\": 240}, \"1\": {\"11\": 28, \"1\": 208, \"5\": 4}, \"5\": {\"5\": 224, \"1\": 9, \"14\": 5, \"10\": 1, \"11\": 1}, \"11\": {\"11\": 164, \"1\": 71, \"14\": 1, \"5\": 4}, \"4\": {\"6\": 23, \"4\": 150, \"13\": 36, \"14\": 22, \"10\": 8, \"0\": 1}, \"14\": {\"10\": 56, \"4\": 32, \"13\": 15, \"14\": 135, \"1\": 2}, \"12\": {\"15\": 66, \"12\": 143, \"3\": 29, \"8\": 2}, \"7\": {\"7\": 185, \"6\": 50, \"0\": 3, \"13\": 1, \"8\": 1}, \"0\": {\"0\": 203, \"13\": 18, \"7\": 8, \"6\": 4, \"10\": 4, \"4\": 3}, \"15\": {\"15\": 178, \"12\": 44, \"8\": 17, \"2\": 1}, \"2\": {\"2\": 215, \"3\": 13, \"7\": 5, \"15\": 6, \"12\": 1}, \"8\": {\"8\": 236, \"15\": 4}}, \"O_38\": {\"4\": {\"4\": 236, \"12\": 3, \"10\": 1}, \"7\": {\"7\": 156, \"0\": 42, \"5\": 25, \"8\": 7, \"3\": 9, \"10\": 1}, \"12\": {\"12\": 231, \"14\": 1, \"4\": 8}, \"10\": {\"7\": 3, \"10\": 190, \"8\": 8, \"12\": 10, \"13\": 17, \"0\": 9, \"4\": 2, \"2\": 1}, \"0\": {\"0\": 102, \"7\": 40, \"5\": 19, \"12\": 1, \"8\": 52, \"9\": 1, \"3\": 19, \"4\": 2, \"10\": 3, \"13\": 1}, \"1\": {\"1\": 231, \"15\": 8, \"6\": 1}, \"5\": {\"8\": 69, \"7\": 31, \"15\": 9, \"5\": 95, \"3\": 4, \"0\": 9, \"6\": 6, \"9\": 11, \"13\": 4, \"1\": 1, \"10\": 1}, \"15\": {\"15\": 176, \"5\": 6, \"13\": 36, \"1\": 16, \"8\": 5, \"2\": 1}, \"9\": {\"9\": 185, \"6\": 43, \"3\": 7, \"5\": 5}, \"11\": {\"11\": 230, \"12\": 2, \"14\": 8}, \"14\": {\"14\": 210, \"2\": 17, \"11\": 9, \"10\": 2, \"12\": 1, \"13\": 1}, \"6\": {\"6\": 213, \"9\": 26, \"5\": 1}, \"8\": {\"0\": 32, \"8\": 147, \"13\": 5, \"5\": 41, \"7\": 10, \"15\": 4, \"10\": 1}, \"3\": {\"3\": 209, \"7\": 15, \"0\": 7, \"9\": 6, \"5\": 3}, \"2\": {\"2\": 225, \"13\": 6, \"14\": 9}, \"13\": {\"13\": 170, \"10\": 19, \"15\": 36, \"2\": 6, \"8\": 6, \"5\": 2, \"14\": 1}}, \"C_4\": {\"42\": {\"42\": 32}, \"0\": {\"0\": 79, \"46\": 1}, \"1\": {\"1\": 39, \"14\": 1}, \"39\": {\"39\": 20}, \"28\": {\"28\": 29, \"34\": 3}, \"53\": {\"53\": 122, \"8\": 1, \"50\": 1}, \"19\": {\"19\": 144}, \"34\": {\"34\": 23, \"28\": 1}, \"33\": {\"33\": 35, \"9\": 1}, \"32\": {\"32\": 23, \"46\": 1}, \"10\": {\"10\": 136}, \"46\": {\"32\": 3, \"46\": 128, \"0\": 1, \"47\": 1, \"5\": 1}, \"20\": {\"20\": 118, \"6\": 2, \"30\": 1, \"36\": 1}, \"5\": {\"5\": 98, \"41\": 1, \"23\": 2, \"18\": 6, \"20\": 1}, \"40\": {\"40\": 124}, \"51\": {\"51\": 144}, \"37\": {\"37\": 24}, \"17\": {\"17\": 74, \"27\": 6}, \"45\": {\"45\": 96}, \"13\": {\"13\": 142}, \"27\": {\"27\": 141, \"17\": 3}, \"24\": {\"24\": 56}, \"30\": {\"30\": 44}, \"31\": {\"31\": 28}, \"41\": {\"41\": 34, \"10\": 1, \"13\": 1}, \"36\": {\"36\": 92}, \"16\": {\"16\": 94, \"18\": 2}, \"22\": {\"22\": 128}, \"44\": {\"44\": 131, \"19\": 1}, \"9\": {\"9\": 137, \"42\": 1, \"40\": 2}, \"57\": {\"57\": 100}, \"8\": {\"8\": 134, \"21\": 1, \"25\": 3}, \"23\": {\"23\": 132}, \"47\": {\"47\": 120}, \"43\": {\"43\": 138}, \"49\": {\"49\": 20}, \"3\": {\"3\": 123, \"8\": 1}, \"12\": {\"12\": 90, \"36\": 2}, \"38\": {\"38\": 40}, \"7\": {\"7\": 24}, \"14\": {\"14\": 11, \"57\": 3, \"35\": 1, \"46\": 1}, \"15\": {\"15\": 144, \"16\": 1, \"43\": 1}, \"25\": {\"25\": 108, \"8\": 9, \"50\": 9, \"21\": 2}, \"26\": {\"26\": 23, \"34\": 1}, \"21\": {\"21\": 125, \"50\": 6, \"25\": 1}, \"48\": {\"48\": 144}, \"56\": {\"56\": 134}, \"11\": {\"11\": 104}, \"2\": {\"2\": 36}, \"6\": {\"6\": 104, \"51\": 5, \"20\": 2, \"3\": 1}, \"55\": {\"55\": 140}, \"54\": {\"54\": 108}, \"29\": {\"29\": 124}, \"50\": {\"50\": 84, \"21\": 20, \"25\": 11, \"8\": 6, \"53\": 1}, \"52\": {\"52\": 116}, \"35\": {\"35\": 40}, \"4\": {\"4\": 120}, \"18\": {\"18\": 108}}, \"C_5\": {\"43\": {\"43\": 145, \"16\": 7}, \"35\": {\"35\": 35, \"47\": 1}, \"54\": {\"54\": 112}, \"22\": {\"22\": 28}, \"16\": {\"16\": 135, \"43\": 11}, \"5\": {\"5\": 128}, \"28\": {\"28\": 32}, \"14\": {\"14\": 20, \"57\": 6, \"39\": 1, \"36\": 7, \"47\": 2, \"46\": 4, \"54\": 2, \"1\": 1, \"28\": 1}, \"51\": {\"51\": 128}, \"19\": {\"19\": 140}, \"31\": {\"31\": 36}, \"10\": {\"10\": 68}, \"21\": {\"21\": 136}, \"3\": {\"3\": 99, \"42\": 1}, \"57\": {\"57\": 131, \"14\": 1}, \"9\": {\"9\": 136, \"27\": 2, \"48\": 8}, \"8\": {\"8\": 131, \"38\": 1}, \"46\": {\"46\": 140}, \"23\": {\"23\": 124}, \"37\": {\"37\": 24}, \"34\": {\"34\": 36}, \"4\": {\"4\": 100}, \"6\": {\"6\": 114, \"38\": 3, \"8\": 6, \"53\": 1, \"25\": 4}, \"48\": {\"48\": 133, \"9\": 3}, \"44\": {\"44\": 137, \"19\": 1}, \"40\": {\"40\": 120, \"5\": 3, \"34\": 1}, \"12\": {\"12\": 96}, \"30\": {\"30\": 127, \"48\": 1}, \"39\": {\"39\": 20}, \"45\": {\"45\": 115, \"55\": 1, \"27\": 3, \"4\": 3, \"17\": 2}, \"36\": {\"36\": 92}, \"27\": {\"27\": 134, \"32\": 3, \"19\": 2, \"9\": 1}, \"32\": {\"32\": 32}, \"52\": {\"52\": 130}, \"0\": {\"0\": 124}, \"26\": {\"26\": 22, \"17\": 2}, \"1\": {\"1\": 147, \"30\": 1}, \"53\": {\"53\": 140, \"25\": 3, \"50\": 2, \"26\": 1}, \"25\": {\"25\": 136, \"53\": 1, \"6\": 1, \"50\": 5, \"8\": 1}, \"24\": {\"24\": 80}, \"7\": {\"7\": 32}, \"18\": {\"18\": 64}, \"20\": {\"20\": 144}, \"33\": {\"33\": 31, \"32\": 1}, \"55\": {\"55\": 140}, \"41\": {\"41\": 28}, \"42\": {\"42\": 37, \"46\": 1, \"3\": 2}, \"49\": {\"49\": 36}, \"13\": {\"13\": 145, \"23\": 2, \"52\": 1}, \"38\": {\"38\": 31, \"6\": 1}, \"2\": {\"2\": 28}, \"47\": {\"47\": 97, \"35\": 3}, \"17\": {\"17\": 115, \"26\": 1}, \"11\": {\"11\": 153, \"46\": 1}, \"29\": {\"29\": 132}, \"50\": {\"50\": 123, \"25\": 6, \"23\": 1, \"53\": 8}, \"56\": {\"56\": 148}, \"15\": {\"15\": 142}}, \"C_2\": {\"49\": {\"49\": 24}, \"13\": {\"13\": 116}, \"37\": {\"37\": 36}, \"41\": {\"41\": 20}, \"15\": {\"15\": 142}, \"56\": {\"56\": 141, \"11\": 1}, \"14\": {\"14\": 18, \"1\": 2, \"0\": 3, \"57\": 1}, \"3\": {\"3\": 91, \"21\": 1}, \"38\": {\"38\": 20}, \"43\": {\"43\": 138}, \"33\": {\"33\": 28}, \"47\": {\"47\": 138}, \"30\": {\"30\": 144}, \"39\": {\"39\": 28}, \"12\": {\"12\": 92}, \"6\": {\"6\": 121, \"30\": 1, \"8\": 1, \"18\": 1}, \"51\": {\"51\": 133, \"20\": 1}, \"5\": {\"5\": 117, \"48\": 2, \"30\": 1}, \"34\": {\"34\": 28}, \"35\": {\"35\": 32}, \"0\": {\"0\": 48}, \"7\": {\"7\": 36}, \"24\": {\"24\": 96}, \"8\": {\"8\": 136}, \"20\": {\"20\": 124}, \"36\": {\"36\": 116}, \"42\": {\"42\": 36}, \"1\": {\"1\": 110, \"57\": 2}, \"4\": {\"4\": 148}, \"28\": {\"28\": 28}, \"50\": {\"50\": 136}, \"45\": {\"45\": 126, \"17\": 2}, \"18\": {\"18\": 48}, \"57\": {\"57\": 120}, \"46\": {\"46\": 127, \"15\": 1}, \"23\": {\"23\": 148}, \"27\": {\"27\": 138}, \"19\": {\"19\": 134}, \"22\": {\"22\": 136}, \"17\": {\"17\": 104}, \"55\": {\"55\": 136}, \"44\": {\"44\": 99, \"9\": 1}, \"26\": {\"26\": 24}, \"31\": {\"31\": 28}, \"16\": {\"16\": 130}, \"11\": {\"11\": 128}, \"25\": {\"25\": 119, \"27\": 1, \"6\": 1, \"8\": 3, \"12\": 1, \"50\": 1}, \"54\": {\"54\": 108}, \"32\": {\"32\": 28}, \"52\": {\"52\": 121, \"37\": 2, \"18\": 1}, \"40\": {\"40\": 126, \"9\": 6}, \"2\": {\"2\": 32}, \"10\": {\"10\": 110}, \"53\": {\"53\": 136}, \"9\": {\"9\": 147, \"40\": 3}, \"21\": {\"21\": 118, \"51\": 2}, \"48\": {\"48\": 138}, \"29\": {\"29\": 128}}, \"C_1\": {\"9\": {\"9\": 142}, \"25\": {\"25\": 127, \"48\": 1}, \"41\": {\"41\": 24}, \"29\": {\"29\": 140}, \"46\": {\"46\": 128}, \"4\": {\"4\": 131, \"40\": 1}, \"31\": {\"31\": 28}, \"36\": {\"36\": 64}, \"20\": {\"20\": 128}, \"7\": {\"7\": 28}, \"6\": {\"6\": 96}, \"16\": {\"16\": 138}, \"17\": {\"17\": 64}, \"50\": {\"50\": 148}, \"57\": {\"57\": 138, \"56\": 3, \"1\": 3}, \"23\": {\"23\": 136}, \"3\": {\"3\": 126}, \"53\": {\"13\": 2, \"53\": 138}, \"49\": {\"49\": 32}, \"56\": {\"56\": 150, \"57\": 2}, \"51\": {\"51\": 139, \"20\": 2, \"12\": 1}, \"26\": {\"26\": 24}, \"43\": {\"43\": 144}, \"22\": {\"22\": 134, \"24\": 1, \"52\": 1}, \"45\": {\"45\": 146}, \"13\": {\"13\": 150, \"53\": 1, \"3\": 1}, \"12\": {\"12\": 116}, \"54\": {\"54\": 104}, \"24\": {\"24\": 108}, \"44\": {\"44\": 136}, \"28\": {\"28\": 28}, \"33\": {\"33\": 32}, \"38\": {\"38\": 24}, \"0\": {\"0\": 144}, \"47\": {\"47\": 154}, \"42\": {\"42\": 39, \"55\": 1}, \"34\": {\"34\": 24}, \"48\": {\"48\": 142}, \"35\": {\"35\": 36}, \"2\": {\"2\": 36}, \"30\": {\"30\": 120}, \"18\": {\"18\": 72}, \"37\": {\"37\": 32}, \"1\": {\"1\": 97, \"57\": 3}, \"11\": {\"11\": 138}, \"55\": {\"55\": 130}, \"15\": {\"15\": 150}, \"10\": {\"10\": 96}, \"27\": {\"27\": 160}, \"19\": {\"19\": 145, \"56\": 1}, \"14\": {\"8\": 3, \"14\": 14, \"18\": 1, \"30\": 3, \"46\": 1, \"20\": 1, \"7\": 1}, \"8\": {\"8\": 138, \"30\": 2}, \"5\": {\"5\": 130, \"8\": 4, \"48\": 1, \"2\": 1}, \"39\": {\"39\": 28}, \"52\": {\"52\": 116, \"21\": 5, \"24\": 1}, \"21\": {\"21\": 124}, \"40\": {\"40\": 148, \"19\": 2, \"57\": 2}, \"32\": {\"32\": 32}}, \"C_3\": {\"56\": {\"56\": 119, \"22\": 1}, \"4\": {\"4\": 142, \"27\": 2, \"19\": 2}, \"34\": {\"34\": 32}, \"52\": {\"52\": 136}, \"32\": {\"32\": 28}, \"46\": {\"46\": 136}, \"12\": {\"12\": 92}, \"20\": {\"20\": 132}, \"54\": {\"54\": 100}, \"22\": {\"22\": 138, \"56\": 2}, \"26\": {\"26\": 23, \"6\": 1}, \"31\": {\"31\": 28}, \"10\": {\"10\": 64}, \"27\": {\"27\": 144}, \"40\": {\"40\": 136}, \"28\": {\"28\": 25, \"14\": 2, \"57\": 1}, \"5\": {\"5\": 114, \"30\": 1, \"6\": 1}, \"30\": {\"30\": 120}, \"7\": {\"7\": 36}, \"18\": {\"18\": 84}, \"39\": {\"39\": 16}, \"50\": {\"50\": 136}, \"49\": {\"49\": 18, \"5\": 2}, \"43\": {\"43\": 122}, \"29\": {\"29\": 113, \"9\": 1}, \"35\": {\"35\": 28}, \"13\": {\"13\": 122, \"21\": 2}, \"36\": {\"36\": 100}, \"11\": {\"11\": 146}, \"57\": {\"57\": 121, \"14\": 2, \"28\": 1}, \"9\": {\"9\": 130}, \"25\": {\"25\": 101, \"8\": 28, \"50\": 1}, \"16\": {\"16\": 125, \"6\": 1}, \"53\": {\"53\": 118}, \"33\": {\"33\": 28}, \"51\": {\"51\": 128}, \"44\": {\"44\": 88}, \"48\": {\"48\": 114}, \"6\": {\"26\": 4, \"6\": 75, \"30\": 2, \"16\": 1, \"20\": 3, \"8\": 1, \"51\": 1, \"18\": 1}, \"23\": {\"23\": 144}, \"1\": {\"1\": 99, \"28\": 1}, \"17\": {\"55\": 2, \"17\": 104, \"27\": 2}, \"21\": {\"21\": 121, \"53\": 1}, \"14\": {\"57\": 8, \"34\": 1, \"28\": 3, \"14\": 22, \"29\": 1, \"0\": 1, \"1\": 3, \"47\": 1}, \"55\": {\"55\": 144}, \"41\": {\"41\": 28}, \"3\": {\"3\": 135, \"52\": 1, \"8\": 2}, \"38\": {\"38\": 28}, \"2\": {\"2\": 32}, \"8\": {\"8\": 139, \"25\": 3}, \"37\": {\"37\": 28}, \"45\": {\"17\": 2, \"45\": 57, \"27\": 1}, \"42\": {\"42\": 28}, \"24\": {\"24\": 104}, \"15\": {\"15\": 136}, \"0\": {\"0\": 124}, \"47\": {\"47\": 92}, \"19\": {\"19\": 120}}}, \"per_domain_accuracy\": {\"O_14\": {\"accuracy\": 0.82109375, \"source?\": true}, \"O_20\": {\"accuracy\": 0.6963541666666667, \"source?\": true}, \"O_50\": {\"accuracy\": 0.7872395833333333, \"source?\": true}, \"O_26\": {\"accuracy\": 0.5658854166666667, \"source?\": true}, \"O_32\": {\"accuracy\": 0.7505208333333333, \"source?\": true}, \"O_44\": {\"accuracy\": 0.7098958333333333, \"source?\": true}, \"O_8\": {\"accuracy\": 0.7580729166666667, \"source?\": true}, \"O_38\": {\"accuracy\": 0.7828125, \"source?\": true}, \"C_4\": {\"accuracy\": 0.9747380239520959, \"source?\": false}, \"C_5\": {\"accuracy\": 0.9757332402234636, \"source?\": false}, \"C_2\": {\"accuracy\": 0.9925, \"source?\": false}, \"C_1\": {\"accuracy\": 0.9911684782608695, \"source?\": false}, \"C_3\": {\"accuracy\": 0.9821691176470588, \"source?\": false}}}, \"history\": {\"epoch_indices\": [1, 2, 3, 4, 5, 6, 7, 8, 9, 10, 11], \"train_label_loss\": [1.6832078533291461, 0.9359361018320279, 0.8730167985006813, 0.835259554246884, 0.8050789316096121, 0.7825199600796969, 0.7193096735071214, 0.6605522269782211, 0.6277590193231368, 0.6020880374979849, 0.5706071363418319], \"source_val_label_loss\": [0.9706783294677734, 0.963642954826355, 0.9190513491630554, 0.8466517925262451, 0.8253394961357117, 0.778178870677948, 0.7152608633041382, 0.6662595272064209, 0.6513577699661255, 0.6655629873275757, 0.6045535206794739], \"target_val_label_loss\": [0.9723892211914062, 0.20108026266098022, 0.1873343288898468, 0.17765188217163086, 0.19551411271095276, 0.15115556120872498, 0.10399696230888367, 0.2337721586227417, 0.4298239052295685, 0.6856529712677002, 0.881881833076477], \"source_val_acc_label\": [0.64501953125, 0.6350911458333334, 0.65048828125, 0.6784830729166667, 0.6857096354166666, 0.7078450520833334, 0.733984375, 0.7533528645833333, 0.7589518229166666, 0.7463541666666667, 0.7759440104166667], \"target_val_acc_label\": [0.9298214285714286, 0.9610714285714286, 0.9578214285714286, 0.9551785714285714, 0.9505357142857143, 0.9660714285714286, 0.9833928571428572, 0.9752857142857143, 0.9664285714285714, 0.9634285714285714, 0.9637857142857142]}, \"dataset_metrics\": {\"source\": {\"train\": {\"n_unique_x\": 179200, \"n_unique_y\": 16, \"n_batch/episode\": 6720}, \"val\": {\"n_unique_x\": 38400, \"n_unique_y\": 16, \"n_batch/episode\": 960}, \"test\": {\"n_unique_x\": 38400, \"n_unique_y\": 16, \"n_batch/episode\": 960}}, \"target\": {\"train\": {\"n_unique_x\": 175158, \"n_unique_y\": 58, \"n_batch/episode\": 6317}, \"val\": {\"n_unique_x\": 37216, \"n_unique_y\": 58, \"n_batch/episode\": 875}, \"test\": {\"n_unique_x\": 37596, \"n_unique_y\": 58, \"n_batch/episode\": 886}}}}'"
      ]
     },
     "execution_count": 29,
     "metadata": {},
     "output_type": "execute_result"
    }
   ],
   "source": [
    "json.dumps(experiment)"
   ]
  }
 ],
 "metadata": {
  "celltoolbar": "Tags",
  "kernelspec": {
   "display_name": "Python 3 (ipykernel)",
   "language": "python",
   "name": "python3"
  },
  "language_info": {
   "codemirror_mode": {
    "name": "ipython",
    "version": 3
   },
   "file_extension": ".py",
   "mimetype": "text/x-python",
   "name": "python",
   "nbconvert_exporter": "python",
   "pygments_lexer": "ipython3",
   "version": "3.8.12"
  },
  "papermill": {
   "default_parameters": {},
   "duration": 2459.074841,
   "end_time": "2022-03-28T17:08:46.849965",
   "environment_variables": {},
   "exception": null,
   "input_path": "/root/csc500-main/csc500-notebooks/templates/tl_ptn_template.ipynb",
   "output_path": "trial.ipynb",
   "parameters": {
    "parameters": {
     "BEST_MODEL_PATH": "./best_model.pth",
     "NUM_LOGS_PER_EPOCH": 10,
     "criteria_for_best": "target_accuracy",
     "dataset_seed": 420,
     "datasets": [
      {
       "domain_prefix": "C_",
       "domains": [
        1,
        2,
        3,
        4,
        5
       ],
       "episode_transforms": [],
       "labels": [
        "1-10.",
        "1-11.",
        "1-15.",
        "1-16.",
        "1-17.",
        "1-18.",
        "1-19.",
        "10-4.",
        "10-7.",
        "11-1.",
        "11-14.",
        "11-17.",
        "11-20.",
        "11-7.",
        "13-20.",
        "13-8.",
        "14-10.",
        "14-11.",
        "14-14.",
        "14-7.",
        "15-1.",
        "15-20.",
        "16-1.",
        "16-16.",
        "17-10.",
        "17-11.",
        "17-2.",
        "19-1.",
        "19-16.",
        "19-19.",
        "19-20.",
        "19-3.",
        "2-10.",
        "2-11.",
        "2-17.",
        "2-18.",
        "2-20.",
        "2-3.",
        "2-4.",
        "2-5.",
        "2-6.",
        "2-7.",
        "2-8.",
        "3-13.",
        "3-18.",
        "3-3.",
        "4-1.",
        "4-10.",
        "4-11.",
        "4-19.",
        "5-5.",
        "6-15.",
        "7-10.",
        "7-14.",
        "8-18.",
        "8-20.",
        "8-3.",
        "8-8."
       ],
       "num_examples_per_domain_per_label": -1,
       "pickle_path": "/root/csc500-main/datasets/cores.stratified_ds.2022A.pkl",
       "source_or_target_dataset": "target",
       "x_transforms": [
        "unit_mag",
        "jitter_256_5",
        "lowpass_+/-10MHz",
        "take_200"
       ]
      },
      {
       "domain_prefix": "O_",
       "domains": [
        32,
        38,
        8,
        44,
        14,
        50,
        20,
        26
       ],
       "episode_transforms": [],
       "labels": [
        "3123D52",
        "3123D65",
        "3123D79",
        "3123D80",
        "3123D54",
        "3123D70",
        "3123D7B",
        "3123D89",
        "3123D58",
        "3123D76",
        "3123D7D",
        "3123EFE",
        "3123D64",
        "3123D78",
        "3123D7E",
        "3124E4A"
       ],
       "num_examples_per_domain_per_label": 2000,
       "pickle_path": "/root/csc500-main/datasets/oracle.Run1_framed_2000Examples_stratified_ds.2022A.pkl",
       "source_or_target_dataset": "source",
       "x_transforms": [
        "unit_mag",
        "jitter_256_5",
        "take_200",
        "resample_20Msps_to_25Msps"
       ]
      }
     ],
     "device": "cuda",
     "experiment_name": "tl_3-jitter5v2:oracle.run1.framed -> cores",
     "lr": 0.0001,
     "n_epoch": 50,
     "n_query": 2,
     "n_shot": 3,
     "n_way": 16,
     "patience": 3,
     "seed": 420,
     "test_k_factor": 2,
     "torch_default_dtype": "torch.float32",
     "train_k_factor": 3,
     "val_k_factor": 2,
     "x_net": [
      {
       "class": "nnReshape",
       "kargs": {
        "shape": [
         -1,
         1,
         2,
         256
        ]
       }
      },
      {
       "class": "Conv2d",
       "kargs": {
        "bias": false,
        "in_channels": 1,
        "kernel_size": [
         1,
         7
        ],
        "out_channels": 256,
        "padding": [
         0,
         3
        ]
       }
      },
      {
       "class": "ReLU",
       "kargs": {
        "inplace": true
       }
      },
      {
       "class": "BatchNorm2d",
       "kargs": {
        "num_features": 256
       }
      },
      {
       "class": "Conv2d",
       "kargs": {
        "bias": true,
        "in_channels": 256,
        "kernel_size": [
         2,
         7
        ],
        "out_channels": 80,
        "padding": [
         0,
         3
        ]
       }
      },
      {
       "class": "ReLU",
       "kargs": {
        "inplace": true
       }
      },
      {
       "class": "BatchNorm2d",
       "kargs": {
        "num_features": 80
       }
      },
      {
       "class": "Flatten",
       "kargs": {}
      },
      {
       "class": "Linear",
       "kargs": {
        "in_features": 20480,
        "out_features": 256
       }
      },
      {
       "class": "ReLU",
       "kargs": {
        "inplace": true
       }
      },
      {
       "class": "BatchNorm1d",
       "kargs": {
        "num_features": 256
       }
      },
      {
       "class": "Linear",
       "kargs": {
        "in_features": 256,
        "out_features": 256
       }
      }
     ],
     "x_shape": [
      2,
      256
     ]
    }
   },
   "start_time": "2022-03-28T16:27:47.775124",
   "version": "2.3.4"
  }
 },
 "nbformat": 4,
 "nbformat_minor": 5
}