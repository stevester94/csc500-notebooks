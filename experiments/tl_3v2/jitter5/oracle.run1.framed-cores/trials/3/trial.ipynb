{
 "cells": [
  {
   "cell_type": "markdown",
   "id": "9fea5f46",
   "metadata": {
    "papermill": {
     "duration": 0.028336,
     "end_time": "2022-03-28T16:15:10.327690",
     "exception": false,
     "start_time": "2022-03-28T16:15:10.299354",
     "status": "completed"
    },
    "tags": []
   },
   "source": [
    "# Transfer Learning Template"
   ]
  },
  {
   "cell_type": "code",
   "execution_count": 1,
   "id": "0902182a",
   "metadata": {
    "execution": {
     "iopub.execute_input": "2022-03-28T16:15:10.390207Z",
     "iopub.status.busy": "2022-03-28T16:15:10.389345Z",
     "iopub.status.idle": "2022-03-28T16:15:12.209684Z",
     "shell.execute_reply": "2022-03-28T16:15:12.209125Z"
    },
    "papermill": {
     "duration": 1.858296,
     "end_time": "2022-03-28T16:15:12.209770",
     "exception": false,
     "start_time": "2022-03-28T16:15:10.351474",
     "status": "completed"
    },
    "tags": []
   },
   "outputs": [],
   "source": [
    "%load_ext autoreload\n",
    "%autoreload 2\n",
    "%matplotlib inline\n",
    "\n",
    "    \n",
    "import os, json, sys, time, random\n",
    "import numpy as np\n",
    "import torch\n",
    "from torch.optim import Adam\n",
    "from  easydict import EasyDict\n",
    "import matplotlib.pyplot as plt\n",
    "\n",
    "from steves_models.steves_ptn import Steves_Prototypical_Network\n",
    "\n",
    "from steves_utils.lazy_iterable_wrapper import Lazy_Iterable_Wrapper\n",
    "from steves_utils.iterable_aggregator import Iterable_Aggregator\n",
    "from steves_utils.ptn_train_eval_test_jig import  PTN_Train_Eval_Test_Jig\n",
    "from steves_utils.torch_sequential_builder import build_sequential\n",
    "from steves_utils.torch_utils import get_dataset_metrics, ptn_confusion_by_domain_over_dataloader\n",
    "from steves_utils.utils_v2 import (per_domain_accuracy_from_confusion, get_datasets_base_path)\n",
    "from steves_utils.PTN.utils import independent_accuracy_assesment\n",
    "\n",
    "from torch.utils.data import DataLoader\n",
    "\n",
    "from steves_utils.stratified_dataset.episodic_accessor import Episodic_Accessor_Factory\n",
    "\n",
    "from steves_utils.ptn_do_report import (\n",
    "    get_loss_curve,\n",
    "    get_results_table,\n",
    "    get_parameters_table,\n",
    "    get_domain_accuracies,\n",
    ")\n",
    "\n",
    "from steves_utils.transforms import get_chained_transform"
   ]
  },
  {
   "cell_type": "markdown",
   "id": "41c840b4",
   "metadata": {
    "papermill": {
     "duration": 0.019222,
     "end_time": "2022-03-28T16:15:12.248580",
     "exception": false,
     "start_time": "2022-03-28T16:15:12.229358",
     "status": "completed"
    },
    "tags": []
   },
   "source": [
    "# Allowed Parameters\n",
    "These are allowed parameters, not defaults\n",
    "Each of these values need to be present in the injected parameters (the notebook will raise an exception if they are not present)\n",
    "\n",
    "Papermill uses the cell tag \"parameters\" to inject the real parameters below this cell.\n",
    "Enable tags to see what I mean"
   ]
  },
  {
   "cell_type": "code",
   "execution_count": 2,
   "id": "fd44eb83",
   "metadata": {
    "execution": {
     "iopub.execute_input": "2022-03-28T16:15:12.293333Z",
     "iopub.status.busy": "2022-03-28T16:15:12.292677Z",
     "iopub.status.idle": "2022-03-28T16:15:12.314680Z",
     "shell.execute_reply": "2022-03-28T16:15:12.313873Z"
    },
    "papermill": {
     "duration": 0.047063,
     "end_time": "2022-03-28T16:15:12.314833",
     "exception": false,
     "start_time": "2022-03-28T16:15:12.267770",
     "status": "completed"
    },
    "tags": []
   },
   "outputs": [],
   "source": [
    "required_parameters = {\n",
    "    \"experiment_name\",\n",
    "    \"lr\",\n",
    "    \"device\",\n",
    "    \"seed\",\n",
    "    \"dataset_seed\",\n",
    "    \"n_shot\",\n",
    "    \"n_query\",\n",
    "    \"n_way\",\n",
    "    \"train_k_factor\",\n",
    "    \"val_k_factor\",\n",
    "    \"test_k_factor\",\n",
    "    \"n_epoch\",\n",
    "    \"patience\",\n",
    "    \"criteria_for_best\",\n",
    "    \"x_net\",\n",
    "    \"datasets\",\n",
    "    \"torch_default_dtype\",\n",
    "    \"NUM_LOGS_PER_EPOCH\",\n",
    "    \"BEST_MODEL_PATH\",\n",
    "    \"x_shape\",\n",
    "}"
   ]
  },
  {
   "cell_type": "code",
   "execution_count": 3,
   "id": "fa3f0049",
   "metadata": {
    "execution": {
     "iopub.execute_input": "2022-03-28T16:15:12.374777Z",
     "iopub.status.busy": "2022-03-28T16:15:12.374025Z",
     "iopub.status.idle": "2022-03-28T16:15:12.396789Z",
     "shell.execute_reply": "2022-03-28T16:15:12.395979Z"
    },
    "papermill": {
     "duration": 0.055043,
     "end_time": "2022-03-28T16:15:12.396942",
     "exception": false,
     "start_time": "2022-03-28T16:15:12.341899",
     "status": "completed"
    },
    "tags": [
     "parameters"
    ]
   },
   "outputs": [],
   "source": [
    "from steves_utils.CORES.utils import (\n",
    "    ALL_NODES,\n",
    "    ALL_NODES_MINIMUM_1000_EXAMPLES,\n",
    "    ALL_DAYS\n",
    ")\n",
    "\n",
    "from steves_utils.ORACLE.utils_v2 import (\n",
    "    ALL_DISTANCES_FEET_NARROWED,\n",
    "    ALL_RUNS,\n",
    "    ALL_SERIAL_NUMBERS,\n",
    ")\n",
    "\n",
    "standalone_parameters = {}\n",
    "standalone_parameters[\"experiment_name\"] = \"STANDALONE PTN\"\n",
    "standalone_parameters[\"lr\"] = 0.001\n",
    "standalone_parameters[\"device\"] = \"cuda\"\n",
    "\n",
    "standalone_parameters[\"seed\"] = 1337\n",
    "standalone_parameters[\"dataset_seed\"] = 1337\n",
    "\n",
    "standalone_parameters[\"n_way\"] = 8\n",
    "standalone_parameters[\"n_shot\"] = 3\n",
    "standalone_parameters[\"n_query\"]  = 2\n",
    "standalone_parameters[\"train_k_factor\"] = 1\n",
    "standalone_parameters[\"val_k_factor\"] = 2\n",
    "standalone_parameters[\"test_k_factor\"] = 2\n",
    "\n",
    "\n",
    "standalone_parameters[\"n_epoch\"] = 50\n",
    "\n",
    "standalone_parameters[\"patience\"] = 10\n",
    "standalone_parameters[\"criteria_for_best\"] = \"source_loss\"\n",
    "\n",
    "standalone_parameters[\"datasets\"] = [\n",
    "    {\n",
    "        \"labels\": ALL_SERIAL_NUMBERS,\n",
    "        \"domains\": ALL_DISTANCES_FEET_NARROWED,\n",
    "        \"num_examples_per_domain_per_label\": 100,\n",
    "        \"pickle_path\": os.path.join(get_datasets_base_path(), \"oracle.Run1_framed_2000Examples_stratified_ds.2022A.pkl\"),\n",
    "        \"source_or_target_dataset\": \"source\",\n",
    "        \"x_transforms\": [\"unit_mag\", \"minus_two\"],\n",
    "        \"episode_transforms\": [],\n",
    "        \"domain_prefix\": \"ORACLE_\"\n",
    "    },\n",
    "    {\n",
    "        \"labels\": ALL_NODES,\n",
    "        \"domains\": ALL_DAYS,\n",
    "        \"num_examples_per_domain_per_label\": 100,\n",
    "        \"pickle_path\": os.path.join(get_datasets_base_path(), \"cores.stratified_ds.2022A.pkl\"),\n",
    "        \"source_or_target_dataset\": \"target\",\n",
    "        \"x_transforms\": [\"unit_power\", \"times_zero\"],\n",
    "        \"episode_transforms\": [],\n",
    "        \"domain_prefix\": \"CORES_\"\n",
    "    }   \n",
    "]\n",
    "\n",
    "standalone_parameters[\"torch_default_dtype\"] = \"torch.float32\" \n",
    "\n",
    "\n",
    "\n",
    "standalone_parameters[\"x_net\"] =     [\n",
    "    {\"class\": \"nnReshape\", \"kargs\": {\"shape\":[-1, 1, 2, 256]}},\n",
    "    {\"class\": \"Conv2d\", \"kargs\": { \"in_channels\":1, \"out_channels\":256, \"kernel_size\":(1,7), \"bias\":False, \"padding\":(0,3), },},\n",
    "    {\"class\": \"ReLU\", \"kargs\": {\"inplace\": True}},\n",
    "    {\"class\": \"BatchNorm2d\", \"kargs\": {\"num_features\":256}},\n",
    "\n",
    "    {\"class\": \"Conv2d\", \"kargs\": { \"in_channels\":256, \"out_channels\":80, \"kernel_size\":(2,7), \"bias\":True, \"padding\":(0,3), },},\n",
    "    {\"class\": \"ReLU\", \"kargs\": {\"inplace\": True}},\n",
    "    {\"class\": \"BatchNorm2d\", \"kargs\": {\"num_features\":80}},\n",
    "    {\"class\": \"Flatten\", \"kargs\": {}},\n",
    "\n",
    "    {\"class\": \"Linear\", \"kargs\": {\"in_features\": 80*256, \"out_features\": 256}}, # 80 units per IQ pair\n",
    "    {\"class\": \"ReLU\", \"kargs\": {\"inplace\": True}},\n",
    "    {\"class\": \"BatchNorm1d\", \"kargs\": {\"num_features\":256}},\n",
    "\n",
    "    {\"class\": \"Linear\", \"kargs\": {\"in_features\": 256, \"out_features\": 256}},\n",
    "]\n",
    "\n",
    "# Parameters relevant to results\n",
    "# These parameters will basically never need to change\n",
    "standalone_parameters[\"NUM_LOGS_PER_EPOCH\"] = 10\n",
    "standalone_parameters[\"BEST_MODEL_PATH\"] = \"./best_model.pth\"\n",
    "\n",
    "\n",
    "\n",
    "\n"
   ]
  },
  {
   "cell_type": "code",
   "execution_count": 4,
   "id": "43a9fcad",
   "metadata": {
    "execution": {
     "iopub.execute_input": "2022-03-28T16:15:12.457527Z",
     "iopub.status.busy": "2022-03-28T16:15:12.456553Z",
     "iopub.status.idle": "2022-03-28T16:15:12.478600Z",
     "shell.execute_reply": "2022-03-28T16:15:12.477920Z"
    },
    "papermill": {
     "duration": 0.058173,
     "end_time": "2022-03-28T16:15:12.478758",
     "exception": false,
     "start_time": "2022-03-28T16:15:12.420585",
     "status": "completed"
    },
    "tags": [
     "injected-parameters"
    ]
   },
   "outputs": [],
   "source": [
    "# Parameters\n",
    "parameters = {\n",
    "    \"experiment_name\": \"tl_3-jitter5v2:oracle.run1.framed -> cores\",\n",
    "    \"device\": \"cuda\",\n",
    "    \"lr\": 0.0001,\n",
    "    \"x_shape\": [2, 256],\n",
    "    \"n_shot\": 3,\n",
    "    \"n_query\": 2,\n",
    "    \"train_k_factor\": 3,\n",
    "    \"val_k_factor\": 2,\n",
    "    \"test_k_factor\": 2,\n",
    "    \"torch_default_dtype\": \"torch.float32\",\n",
    "    \"n_epoch\": 50,\n",
    "    \"patience\": 3,\n",
    "    \"criteria_for_best\": \"target_accuracy\",\n",
    "    \"x_net\": [\n",
    "        {\"class\": \"nnReshape\", \"kargs\": {\"shape\": [-1, 1, 2, 256]}},\n",
    "        {\n",
    "            \"class\": \"Conv2d\",\n",
    "            \"kargs\": {\n",
    "                \"in_channels\": 1,\n",
    "                \"out_channels\": 256,\n",
    "                \"kernel_size\": [1, 7],\n",
    "                \"bias\": False,\n",
    "                \"padding\": [0, 3],\n",
    "            },\n",
    "        },\n",
    "        {\"class\": \"ReLU\", \"kargs\": {\"inplace\": True}},\n",
    "        {\"class\": \"BatchNorm2d\", \"kargs\": {\"num_features\": 256}},\n",
    "        {\n",
    "            \"class\": \"Conv2d\",\n",
    "            \"kargs\": {\n",
    "                \"in_channels\": 256,\n",
    "                \"out_channels\": 80,\n",
    "                \"kernel_size\": [2, 7],\n",
    "                \"bias\": True,\n",
    "                \"padding\": [0, 3],\n",
    "            },\n",
    "        },\n",
    "        {\"class\": \"ReLU\", \"kargs\": {\"inplace\": True}},\n",
    "        {\"class\": \"BatchNorm2d\", \"kargs\": {\"num_features\": 80}},\n",
    "        {\"class\": \"Flatten\", \"kargs\": {}},\n",
    "        {\"class\": \"Linear\", \"kargs\": {\"in_features\": 20480, \"out_features\": 256}},\n",
    "        {\"class\": \"ReLU\", \"kargs\": {\"inplace\": True}},\n",
    "        {\"class\": \"BatchNorm1d\", \"kargs\": {\"num_features\": 256}},\n",
    "        {\"class\": \"Linear\", \"kargs\": {\"in_features\": 256, \"out_features\": 256}},\n",
    "    ],\n",
    "    \"NUM_LOGS_PER_EPOCH\": 10,\n",
    "    \"BEST_MODEL_PATH\": \"./best_model.pth\",\n",
    "    \"n_way\": 16,\n",
    "    \"datasets\": [\n",
    "        {\n",
    "            \"labels\": [\n",
    "                \"1-10.\",\n",
    "                \"1-11.\",\n",
    "                \"1-15.\",\n",
    "                \"1-16.\",\n",
    "                \"1-17.\",\n",
    "                \"1-18.\",\n",
    "                \"1-19.\",\n",
    "                \"10-4.\",\n",
    "                \"10-7.\",\n",
    "                \"11-1.\",\n",
    "                \"11-14.\",\n",
    "                \"11-17.\",\n",
    "                \"11-20.\",\n",
    "                \"11-7.\",\n",
    "                \"13-20.\",\n",
    "                \"13-8.\",\n",
    "                \"14-10.\",\n",
    "                \"14-11.\",\n",
    "                \"14-14.\",\n",
    "                \"14-7.\",\n",
    "                \"15-1.\",\n",
    "                \"15-20.\",\n",
    "                \"16-1.\",\n",
    "                \"16-16.\",\n",
    "                \"17-10.\",\n",
    "                \"17-11.\",\n",
    "                \"17-2.\",\n",
    "                \"19-1.\",\n",
    "                \"19-16.\",\n",
    "                \"19-19.\",\n",
    "                \"19-20.\",\n",
    "                \"19-3.\",\n",
    "                \"2-10.\",\n",
    "                \"2-11.\",\n",
    "                \"2-17.\",\n",
    "                \"2-18.\",\n",
    "                \"2-20.\",\n",
    "                \"2-3.\",\n",
    "                \"2-4.\",\n",
    "                \"2-5.\",\n",
    "                \"2-6.\",\n",
    "                \"2-7.\",\n",
    "                \"2-8.\",\n",
    "                \"3-13.\",\n",
    "                \"3-18.\",\n",
    "                \"3-3.\",\n",
    "                \"4-1.\",\n",
    "                \"4-10.\",\n",
    "                \"4-11.\",\n",
    "                \"4-19.\",\n",
    "                \"5-5.\",\n",
    "                \"6-15.\",\n",
    "                \"7-10.\",\n",
    "                \"7-14.\",\n",
    "                \"8-18.\",\n",
    "                \"8-20.\",\n",
    "                \"8-3.\",\n",
    "                \"8-8.\",\n",
    "            ],\n",
    "            \"domains\": [1, 2, 3, 4, 5],\n",
    "            \"num_examples_per_domain_per_label\": -1,\n",
    "            \"pickle_path\": \"/root/csc500-main/datasets/cores.stratified_ds.2022A.pkl\",\n",
    "            \"source_or_target_dataset\": \"target\",\n",
    "            \"x_transforms\": [\n",
    "                \"unit_power\",\n",
    "                \"jitter_256_5\",\n",
    "                \"lowpass_+/-10MHz\",\n",
    "                \"take_200\",\n",
    "            ],\n",
    "            \"episode_transforms\": [],\n",
    "            \"domain_prefix\": \"C_\",\n",
    "        },\n",
    "        {\n",
    "            \"labels\": [\n",
    "                \"3123D52\",\n",
    "                \"3123D65\",\n",
    "                \"3123D79\",\n",
    "                \"3123D80\",\n",
    "                \"3123D54\",\n",
    "                \"3123D70\",\n",
    "                \"3123D7B\",\n",
    "                \"3123D89\",\n",
    "                \"3123D58\",\n",
    "                \"3123D76\",\n",
    "                \"3123D7D\",\n",
    "                \"3123EFE\",\n",
    "                \"3123D64\",\n",
    "                \"3123D78\",\n",
    "                \"3123D7E\",\n",
    "                \"3124E4A\",\n",
    "            ],\n",
    "            \"domains\": [32, 38, 8, 44, 14, 50, 20, 26],\n",
    "            \"num_examples_per_domain_per_label\": 2000,\n",
    "            \"pickle_path\": \"/root/csc500-main/datasets/oracle.Run1_framed_2000Examples_stratified_ds.2022A.pkl\",\n",
    "            \"source_or_target_dataset\": \"source\",\n",
    "            \"x_transforms\": [\n",
    "                \"unit_power\",\n",
    "                \"jitter_256_5\",\n",
    "                \"take_200\",\n",
    "                \"resample_20Msps_to_25Msps\",\n",
    "            ],\n",
    "            \"episode_transforms\": [],\n",
    "            \"domain_prefix\": \"O_\",\n",
    "        },\n",
    "    ],\n",
    "    \"seed\": 420,\n",
    "    \"dataset_seed\": 420,\n",
    "}\n"
   ]
  },
  {
   "cell_type": "code",
   "execution_count": 5,
   "id": "8fa1cc33",
   "metadata": {
    "execution": {
     "iopub.execute_input": "2022-03-28T16:15:12.529041Z",
     "iopub.status.busy": "2022-03-28T16:15:12.528469Z",
     "iopub.status.idle": "2022-03-28T16:15:12.551345Z",
     "shell.execute_reply": "2022-03-28T16:15:12.550544Z"
    },
    "papermill": {
     "duration": 0.047558,
     "end_time": "2022-03-28T16:15:12.551498",
     "exception": false,
     "start_time": "2022-03-28T16:15:12.503940",
     "status": "completed"
    },
    "tags": []
   },
   "outputs": [],
   "source": [
    "# Set this to True if you want to run this template directly\n",
    "STANDALONE = False\n",
    "if STANDALONE:\n",
    "    print(\"parameters not injected, running with standalone_parameters\")\n",
    "    parameters = standalone_parameters\n",
    "\n",
    "if not 'parameters' in locals() and not 'parameters' in globals():\n",
    "    raise Exception(\"Parameter injection failed\")\n",
    "\n",
    "#Use an easy dict for all the parameters\n",
    "p = EasyDict(parameters)\n",
    "\n",
    "if \"x_shape\" not in p:\n",
    "    p.x_shape = [2,256] # Default to this if we dont supply x_shape\n",
    "\n",
    "\n",
    "supplied_keys = set(p.keys())\n",
    "\n",
    "if  supplied_keys != required_parameters:\n",
    "    print(\"Parameters are incorrect\")\n",
    "    if len(supplied_keys - required_parameters)>0: print(\"Shouldn't have:\", str(supplied_keys - required_parameters))\n",
    "    if len(required_parameters - supplied_keys)>0: print(\"Need to have:\", str(required_parameters - supplied_keys))\n",
    "    raise RuntimeError(\"Parameters are incorrect\")"
   ]
  },
  {
   "cell_type": "code",
   "execution_count": 6,
   "id": "3a028d58",
   "metadata": {
    "execution": {
     "iopub.execute_input": "2022-03-28T16:15:12.598788Z",
     "iopub.status.busy": "2022-03-28T16:15:12.598420Z",
     "iopub.status.idle": "2022-03-28T16:15:12.617889Z",
     "shell.execute_reply": "2022-03-28T16:15:12.617082Z"
    },
    "papermill": {
     "duration": 0.042014,
     "end_time": "2022-03-28T16:15:12.618042",
     "exception": false,
     "start_time": "2022-03-28T16:15:12.576028",
     "status": "completed"
    },
    "tags": []
   },
   "outputs": [],
   "source": [
    "###################################\n",
    "# Set the RNGs and make it all deterministic\n",
    "###################################\n",
    "np.random.seed(p.seed)\n",
    "random.seed(p.seed)\n",
    "torch.manual_seed(p.seed)\n",
    "\n",
    "torch.use_deterministic_algorithms(True) "
   ]
  },
  {
   "cell_type": "code",
   "execution_count": 7,
   "id": "b691acf6",
   "metadata": {
    "execution": {
     "iopub.execute_input": "2022-03-28T16:15:12.667001Z",
     "iopub.status.busy": "2022-03-28T16:15:12.666636Z",
     "iopub.status.idle": "2022-03-28T16:15:12.691026Z",
     "shell.execute_reply": "2022-03-28T16:15:12.690224Z"
    },
    "papermill": {
     "duration": 0.04747,
     "end_time": "2022-03-28T16:15:12.691178",
     "exception": false,
     "start_time": "2022-03-28T16:15:12.643708",
     "status": "completed"
    },
    "tags": []
   },
   "outputs": [],
   "source": [
    "###########################################\n",
    "# The stratified datasets honor this\n",
    "###########################################\n",
    "torch.set_default_dtype(eval(p.torch_default_dtype))"
   ]
  },
  {
   "cell_type": "code",
   "execution_count": 8,
   "id": "b5fba671",
   "metadata": {
    "execution": {
     "iopub.execute_input": "2022-03-28T16:15:12.739758Z",
     "iopub.status.busy": "2022-03-28T16:15:12.739293Z",
     "iopub.status.idle": "2022-03-28T16:15:12.796479Z",
     "shell.execute_reply": "2022-03-28T16:15:12.795773Z"
    },
    "papermill": {
     "duration": 0.080667,
     "end_time": "2022-03-28T16:15:12.796631",
     "exception": false,
     "start_time": "2022-03-28T16:15:12.715964",
     "status": "completed"
    },
    "tags": []
   },
   "outputs": [],
   "source": [
    "###################################\n",
    "# Build the network(s)\n",
    "# Note: It's critical to do this AFTER setting the RNG\n",
    "###################################\n",
    "x_net = build_sequential(p.x_net)"
   ]
  },
  {
   "cell_type": "code",
   "execution_count": 9,
   "id": "5d7e61cc",
   "metadata": {
    "execution": {
     "iopub.execute_input": "2022-03-28T16:15:12.845348Z",
     "iopub.status.busy": "2022-03-28T16:15:12.844977Z",
     "iopub.status.idle": "2022-03-28T16:15:12.870299Z",
     "shell.execute_reply": "2022-03-28T16:15:12.869494Z"
    },
    "papermill": {
     "duration": 0.049411,
     "end_time": "2022-03-28T16:15:12.870454",
     "exception": false,
     "start_time": "2022-03-28T16:15:12.821043",
     "status": "completed"
    },
    "tags": []
   },
   "outputs": [],
   "source": [
    "start_time_secs = time.time()"
   ]
  },
  {
   "cell_type": "code",
   "execution_count": 10,
   "id": "c6b67dfd",
   "metadata": {
    "execution": {
     "iopub.execute_input": "2022-03-28T16:15:12.920849Z",
     "iopub.status.busy": "2022-03-28T16:15:12.920312Z",
     "iopub.status.idle": "2022-03-28T16:15:12.945764Z",
     "shell.execute_reply": "2022-03-28T16:15:12.944950Z"
    },
    "papermill": {
     "duration": 0.049682,
     "end_time": "2022-03-28T16:15:12.945920",
     "exception": false,
     "start_time": "2022-03-28T16:15:12.896238",
     "status": "completed"
    },
    "tags": []
   },
   "outputs": [],
   "source": [
    "p.domains_source = []\n",
    "p.domains_target = []\n",
    "\n",
    "\n",
    "train_original_source = []\n",
    "val_original_source   = []\n",
    "test_original_source  = []\n",
    "\n",
    "train_original_target = []\n",
    "val_original_target   = []\n",
    "test_original_target  = []"
   ]
  },
  {
   "cell_type": "code",
   "execution_count": 11,
   "id": "e3d9c3d3",
   "metadata": {
    "execution": {
     "iopub.execute_input": "2022-03-28T16:15:12.996464Z",
     "iopub.status.busy": "2022-03-28T16:15:12.995879Z",
     "iopub.status.idle": "2022-03-28T16:15:13.021532Z",
     "shell.execute_reply": "2022-03-28T16:15:13.020674Z"
    },
    "papermill": {
     "duration": 0.049272,
     "end_time": "2022-03-28T16:15:13.021695",
     "exception": false,
     "start_time": "2022-03-28T16:15:12.972423",
     "status": "completed"
    },
    "tags": []
   },
   "outputs": [],
   "source": [
    "# global_x_transform_func = lambda x: normalize(x.to(torch.get_default_dtype()), \"unit_power\") # unit_power, unit_mag\n",
    "# global_x_transform_func = lambda x: normalize(x, \"unit_power\") # unit_power, unit_mag"
   ]
  },
  {
   "cell_type": "code",
   "execution_count": 12,
   "id": "acb78fd2",
   "metadata": {
    "execution": {
     "iopub.execute_input": "2022-03-28T16:15:13.080197Z",
     "iopub.status.busy": "2022-03-28T16:15:13.076668Z",
     "iopub.status.idle": "2022-03-28T16:15:13.102298Z",
     "shell.execute_reply": "2022-03-28T16:15:13.101554Z"
    },
    "papermill": {
     "duration": 0.054033,
     "end_time": "2022-03-28T16:15:13.102466",
     "exception": false,
     "start_time": "2022-03-28T16:15:13.048433",
     "status": "completed"
    },
    "tags": []
   },
   "outputs": [],
   "source": [
    "def add_dataset(\n",
    "    labels,\n",
    "    domains,\n",
    "    pickle_path,\n",
    "    x_transforms,\n",
    "    episode_transforms,\n",
    "    domain_prefix,\n",
    "    num_examples_per_domain_per_label,\n",
    "    source_or_target_dataset:str,\n",
    "    iterator_seed=p.seed,\n",
    "    dataset_seed=p.dataset_seed,\n",
    "    n_shot=p.n_shot,\n",
    "    n_way=p.n_way,\n",
    "    n_query=p.n_query,\n",
    "    train_val_test_k_factors=(p.train_k_factor,p.val_k_factor,p.test_k_factor),\n",
    "):\n",
    "   \n",
    "    if x_transforms == []: x_transform = None\n",
    "    else: x_transform = get_chained_transform(x_transforms)\n",
    "    \n",
    "    if episode_transforms == []: episode_transform = None\n",
    "    else: raise Exception(\"episode_transforms not implemented\")\n",
    "    \n",
    "    episode_transform = lambda tup, _prefix=domain_prefix: (_prefix + str(tup[0]), tup[1])\n",
    "\n",
    "\n",
    "    eaf = Episodic_Accessor_Factory(\n",
    "        labels=labels,\n",
    "        domains=domains,\n",
    "        num_examples_per_domain_per_label=num_examples_per_domain_per_label,\n",
    "        iterator_seed=iterator_seed,\n",
    "        dataset_seed=dataset_seed,\n",
    "        n_shot=n_shot,\n",
    "        n_way=n_way,\n",
    "        n_query=n_query,\n",
    "        train_val_test_k_factors=train_val_test_k_factors,\n",
    "        pickle_path=pickle_path,\n",
    "        x_transform_func=x_transform,\n",
    "    )\n",
    "\n",
    "    train, val, test = eaf.get_train(), eaf.get_val(), eaf.get_test()\n",
    "    train = Lazy_Iterable_Wrapper(train, episode_transform)\n",
    "    val = Lazy_Iterable_Wrapper(val, episode_transform)\n",
    "    test = Lazy_Iterable_Wrapper(test, episode_transform)\n",
    "\n",
    "    if source_or_target_dataset==\"source\":\n",
    "        train_original_source.append(train)\n",
    "        val_original_source.append(val)\n",
    "        test_original_source.append(test)\n",
    "\n",
    "        p.domains_source.extend(\n",
    "            [domain_prefix + str(u) for u in domains]\n",
    "        )\n",
    "    elif source_or_target_dataset==\"target\":\n",
    "        train_original_target.append(train)\n",
    "        val_original_target.append(val)\n",
    "        test_original_target.append(test)\n",
    "        p.domains_target.extend(\n",
    "            [domain_prefix + str(u) for u in domains]\n",
    "        )\n",
    "    else:\n",
    "        raise Exception(f\"invalid source_or_target_dataset: {source_or_target_dataset}\")\n",
    "    "
   ]
  },
  {
   "cell_type": "code",
   "execution_count": 13,
   "id": "fe266617",
   "metadata": {
    "execution": {
     "iopub.execute_input": "2022-03-28T16:15:13.154253Z",
     "iopub.status.busy": "2022-03-28T16:15:13.153685Z",
     "iopub.status.idle": "2022-03-28T16:17:04.592796Z",
     "shell.execute_reply": "2022-03-28T16:17:04.592025Z"
    },
    "papermill": {
     "duration": 111.463855,
     "end_time": "2022-03-28T16:17:04.592972",
     "exception": false,
     "start_time": "2022-03-28T16:15:13.129117",
     "status": "completed"
    },
    "tags": []
   },
   "outputs": [],
   "source": [
    "for ds in p.datasets:\n",
    "    add_dataset(**ds)"
   ]
  },
  {
   "cell_type": "code",
   "execution_count": 14,
   "id": "b90d65ac",
   "metadata": {
    "execution": {
     "iopub.execute_input": "2022-03-28T16:17:04.645941Z",
     "iopub.status.busy": "2022-03-28T16:17:04.645418Z",
     "iopub.status.idle": "2022-03-28T16:17:04.670739Z",
     "shell.execute_reply": "2022-03-28T16:17:04.669935Z"
    },
    "papermill": {
     "duration": 0.049492,
     "end_time": "2022-03-28T16:17:04.670894",
     "exception": false,
     "start_time": "2022-03-28T16:17:04.621402",
     "status": "completed"
    },
    "tags": []
   },
   "outputs": [],
   "source": [
    "# from steves_utils.CORES.utils import (\n",
    "#     ALL_NODES,\n",
    "#     ALL_NODES_MINIMUM_1000_EXAMPLES,\n",
    "#     ALL_DAYS\n",
    "# )\n",
    "\n",
    "# add_dataset(\n",
    "#     labels=ALL_NODES,\n",
    "#     domains = ALL_DAYS,\n",
    "#     num_examples_per_domain_per_label=100,\n",
    "#     pickle_path=os.path.join(get_datasets_base_path(), \"cores.stratified_ds.2022A.pkl\"),\n",
    "#     source_or_target_dataset=\"target\",\n",
    "#     x_transform_func=global_x_transform_func,\n",
    "#     domain_modifier=lambda u: f\"cores_{u}\"\n",
    "# )"
   ]
  },
  {
   "cell_type": "code",
   "execution_count": 15,
   "id": "76db484d",
   "metadata": {
    "execution": {
     "iopub.execute_input": "2022-03-28T16:17:04.728438Z",
     "iopub.status.busy": "2022-03-28T16:17:04.724435Z",
     "iopub.status.idle": "2022-03-28T16:17:04.741256Z",
     "shell.execute_reply": "2022-03-28T16:17:04.740448Z"
    },
    "papermill": {
     "duration": 0.044566,
     "end_time": "2022-03-28T16:17:04.741411",
     "exception": false,
     "start_time": "2022-03-28T16:17:04.696845",
     "status": "completed"
    },
    "tags": []
   },
   "outputs": [],
   "source": [
    "# from steves_utils.ORACLE.utils_v2 import (\n",
    "#     ALL_DISTANCES_FEET,\n",
    "#     ALL_RUNS,\n",
    "#     ALL_SERIAL_NUMBERS,\n",
    "# )\n",
    "\n",
    "\n",
    "# add_dataset(\n",
    "#     labels=ALL_SERIAL_NUMBERS,\n",
    "#     domains = list(set(ALL_DISTANCES_FEET) - {2,62}),\n",
    "#     num_examples_per_domain_per_label=100,\n",
    "#     pickle_path=os.path.join(get_datasets_base_path(), \"oracle.Run2_framed_2000Examples_stratified_ds.2022A.pkl\"),\n",
    "#     source_or_target_dataset=\"source\",\n",
    "#     x_transform_func=global_x_transform_func,\n",
    "#     domain_modifier=lambda u: f\"oracle1_{u}\"\n",
    "# )\n"
   ]
  },
  {
   "cell_type": "code",
   "execution_count": 16,
   "id": "97dea9d2",
   "metadata": {
    "execution": {
     "iopub.execute_input": "2022-03-28T16:17:04.797246Z",
     "iopub.status.busy": "2022-03-28T16:17:04.795251Z",
     "iopub.status.idle": "2022-03-28T16:17:04.819845Z",
     "shell.execute_reply": "2022-03-28T16:17:04.819021Z"
    },
    "papermill": {
     "duration": 0.048709,
     "end_time": "2022-03-28T16:17:04.819997",
     "exception": false,
     "start_time": "2022-03-28T16:17:04.771288",
     "status": "completed"
    },
    "tags": []
   },
   "outputs": [],
   "source": [
    "# from steves_utils.ORACLE.utils_v2 import (\n",
    "#     ALL_DISTANCES_FEET,\n",
    "#     ALL_RUNS,\n",
    "#     ALL_SERIAL_NUMBERS,\n",
    "# )\n",
    "\n",
    "\n",
    "# add_dataset(\n",
    "#     labels=ALL_SERIAL_NUMBERS,\n",
    "#     domains = list(set(ALL_DISTANCES_FEET) - {2,62,56}),\n",
    "#     num_examples_per_domain_per_label=100,\n",
    "#     pickle_path=os.path.join(get_datasets_base_path(), \"oracle.Run2_framed_2000Examples_stratified_ds.2022A.pkl\"),\n",
    "#     source_or_target_dataset=\"source\",\n",
    "#     x_transform_func=global_x_transform_func,\n",
    "#     domain_modifier=lambda u: f\"oracle2_{u}\"\n",
    "# )"
   ]
  },
  {
   "cell_type": "code",
   "execution_count": 17,
   "id": "6f289866",
   "metadata": {
    "execution": {
     "iopub.execute_input": "2022-03-28T16:17:04.874137Z",
     "iopub.status.busy": "2022-03-28T16:17:04.873305Z",
     "iopub.status.idle": "2022-03-28T16:17:04.894537Z",
     "shell.execute_reply": "2022-03-28T16:17:04.893846Z"
    },
    "papermill": {
     "duration": 0.049087,
     "end_time": "2022-03-28T16:17:04.894700",
     "exception": false,
     "start_time": "2022-03-28T16:17:04.845613",
     "status": "completed"
    },
    "tags": []
   },
   "outputs": [],
   "source": [
    "# add_dataset(\n",
    "#     labels=list(range(19)),\n",
    "#     domains = [0,1,2],\n",
    "#     num_examples_per_domain_per_label=100,\n",
    "#     pickle_path=os.path.join(get_datasets_base_path(), \"metehan.stratified_ds.2022A.pkl\"),\n",
    "#     source_or_target_dataset=\"target\",\n",
    "#     x_transform_func=global_x_transform_func,\n",
    "#     domain_modifier=lambda u: f\"met_{u}\"\n",
    "# )"
   ]
  },
  {
   "cell_type": "code",
   "execution_count": 18,
   "id": "86a863c3",
   "metadata": {
    "execution": {
     "iopub.execute_input": "2022-03-28T16:17:04.949352Z",
     "iopub.status.busy": "2022-03-28T16:17:04.948834Z",
     "iopub.status.idle": "2022-03-28T16:17:04.970349Z",
     "shell.execute_reply": "2022-03-28T16:17:04.969555Z"
    },
    "papermill": {
     "duration": 0.046426,
     "end_time": "2022-03-28T16:17:04.970502",
     "exception": false,
     "start_time": "2022-03-28T16:17:04.924076",
     "status": "completed"
    },
    "tags": []
   },
   "outputs": [],
   "source": [
    "# # from steves_utils.wisig.utils import (\n",
    "# #     ALL_NODES_MINIMUM_100_EXAMPLES,\n",
    "# #     ALL_NODES_MINIMUM_500_EXAMPLES,\n",
    "# #     ALL_NODES_MINIMUM_1000_EXAMPLES,\n",
    "# #     ALL_DAYS\n",
    "# # )\n",
    "\n",
    "# import steves_utils.wisig.utils as wisig\n",
    "\n",
    "\n",
    "# add_dataset(\n",
    "#     labels=wisig.ALL_NODES_MINIMUM_100_EXAMPLES,\n",
    "#     domains = wisig.ALL_DAYS,\n",
    "#     num_examples_per_domain_per_label=100,\n",
    "#     pickle_path=os.path.join(get_datasets_base_path(), \"wisig.node3-19.stratified_ds.2022A.pkl\"),\n",
    "#     source_or_target_dataset=\"target\",\n",
    "#     x_transform_func=global_x_transform_func,\n",
    "#     domain_modifier=lambda u: f\"wisig_{u}\"\n",
    "# )"
   ]
  },
  {
   "cell_type": "code",
   "execution_count": 19,
   "id": "fd5442bc",
   "metadata": {
    "execution": {
     "iopub.execute_input": "2022-03-28T16:17:05.028450Z",
     "iopub.status.busy": "2022-03-28T16:17:05.028049Z",
     "iopub.status.idle": "2022-03-28T16:17:05.046579Z",
     "shell.execute_reply": "2022-03-28T16:17:05.045749Z"
    },
    "papermill": {
     "duration": 0.044851,
     "end_time": "2022-03-28T16:17:05.046744",
     "exception": false,
     "start_time": "2022-03-28T16:17:05.001893",
     "status": "completed"
    },
    "tags": []
   },
   "outputs": [],
   "source": [
    "###################################\n",
    "# Build the dataset\n",
    "###################################\n",
    "train_original_source = Iterable_Aggregator(train_original_source, p.seed)\n",
    "val_original_source = Iterable_Aggregator(val_original_source, p.seed)\n",
    "test_original_source = Iterable_Aggregator(test_original_source, p.seed)\n",
    "\n",
    "\n",
    "train_original_target = Iterable_Aggregator(train_original_target, p.seed)\n",
    "val_original_target = Iterable_Aggregator(val_original_target, p.seed)\n",
    "test_original_target = Iterable_Aggregator(test_original_target, p.seed)\n",
    "\n",
    "# For CNN We only use X and Y. And we only train on the source.\n",
    "# Properly form the data using a transform lambda and Lazy_Iterable_Wrapper. Finally wrap them in a dataloader\n",
    "\n",
    "transform_lambda = lambda ex: ex[1] # Original is (<domain>, <episode>) so we strip down to episode only\n",
    "\n",
    "train_processed_source = Lazy_Iterable_Wrapper(train_original_source, transform_lambda)\n",
    "val_processed_source   = Lazy_Iterable_Wrapper(val_original_source, transform_lambda)\n",
    "test_processed_source  = Lazy_Iterable_Wrapper(test_original_source, transform_lambda)\n",
    "\n",
    "train_processed_target = Lazy_Iterable_Wrapper(train_original_target, transform_lambda)\n",
    "val_processed_target   = Lazy_Iterable_Wrapper(val_original_target, transform_lambda)\n",
    "test_processed_target  = Lazy_Iterable_Wrapper(test_original_target, transform_lambda)\n",
    "\n",
    "datasets = EasyDict({\n",
    "    \"source\": {\n",
    "        \"original\": {\"train\":train_original_source, \"val\":val_original_source, \"test\":test_original_source},\n",
    "        \"processed\": {\"train\":train_processed_source, \"val\":val_processed_source, \"test\":test_processed_source}\n",
    "    },\n",
    "    \"target\": {\n",
    "        \"original\": {\"train\":train_original_target, \"val\":val_original_target, \"test\":test_original_target},\n",
    "        \"processed\": {\"train\":train_processed_target, \"val\":val_processed_target, \"test\":test_processed_target}\n",
    "    },\n",
    "})"
   ]
  },
  {
   "cell_type": "code",
   "execution_count": 20,
   "id": "5b3c01fc",
   "metadata": {
    "execution": {
     "iopub.execute_input": "2022-03-28T16:17:05.100551Z",
     "iopub.status.busy": "2022-03-28T16:17:05.100172Z",
     "iopub.status.idle": "2022-03-28T16:17:19.140738Z",
     "shell.execute_reply": "2022-03-28T16:17:19.141779Z"
    },
    "papermill": {
     "duration": 14.066195,
     "end_time": "2022-03-28T16:17:19.142039",
     "exception": false,
     "start_time": "2022-03-28T16:17:05.075844",
     "status": "completed"
    },
    "tags": []
   },
   "outputs": [
    {
     "name": "stdout",
     "output_type": "stream",
     "text": [
      "{'O_26', 'O_50', 'O_32', 'O_20', 'O_38', 'O_8', 'O_14', 'O_44'}\n"
     ]
    },
    {
     "name": "stdout",
     "output_type": "stream",
     "text": [
      "{'C_3', 'C_2', 'C_4', 'C_1', 'C_5'}\n"
     ]
    },
    {
     "name": "stdout",
     "output_type": "stream",
     "text": [
      "tensor([[[0., 0., 0.,  ..., 0., 0., 0.],\n",
      "         [0., 0., 0.,  ..., 0., 0., 0.]],\n",
      "\n",
      "        [[0., 0., 0.,  ..., 0., 0., 0.],\n",
      "         [0., 0., 0.,  ..., 0., 0., 0.]],\n",
      "\n",
      "        [[0., 0., 0.,  ..., 0., 0., 0.],\n",
      "         [0., 0., 0.,  ..., 0., 0., 0.]],\n",
      "\n",
      "        ...,\n",
      "\n",
      "        [[0., 0., 0.,  ..., 0., 0., 0.],\n",
      "         [0., 0., 0.,  ..., 0., 0., 0.]],\n",
      "\n",
      "        [[0., 0., 0.,  ..., 0., 0., 0.],\n",
      "         [0., 0., 0.,  ..., 0., 0., 0.]],\n",
      "\n",
      "        [[0., 0., 0.,  ..., 0., 0., 0.],\n",
      "         [0., 0., 0.,  ..., 0., 0., 0.]]])\n"
     ]
    }
   ],
   "source": [
    "from steves_utils.transforms import get_average_magnitude, get_average_power\n",
    "\n",
    "print(set([u for u,_ in val_original_source]))\n",
    "print(set([u for u,_ in val_original_target]))\n",
    "\n",
    "s_x, s_y, q_x, q_y, _ = next(iter(train_processed_source))\n",
    "print(s_x)\n",
    "\n",
    "# for ds in [\n",
    "#     train_processed_source,\n",
    "#     val_processed_source,\n",
    "#     test_processed_source,\n",
    "#     train_processed_target,\n",
    "#     val_processed_target,\n",
    "#     test_processed_target\n",
    "# ]:\n",
    "#     for s_x, s_y, q_x, q_y, _ in ds:\n",
    "#         for X in (s_x, q_x):\n",
    "#             for x in X:\n",
    "#                 assert np.isclose(get_average_magnitude(x.numpy()), 1.0)\n",
    "#                 assert np.isclose(get_average_power(x.numpy()), 1.0)\n",
    "                "
   ]
  },
  {
   "cell_type": "code",
   "execution_count": 21,
   "id": "bbdacba1",
   "metadata": {
    "execution": {
     "iopub.execute_input": "2022-03-28T16:17:19.207855Z",
     "iopub.status.busy": "2022-03-28T16:17:19.207223Z",
     "iopub.status.idle": "2022-03-28T16:17:19.479182Z",
     "shell.execute_reply": "2022-03-28T16:17:19.478351Z"
    },
    "papermill": {
     "duration": 0.305789,
     "end_time": "2022-03-28T16:17:19.479389",
     "exception": false,
     "start_time": "2022-03-28T16:17:19.173600",
     "status": "completed"
    },
    "tags": []
   },
   "outputs": [
    {
     "name": "stdout",
     "output_type": "stream",
     "text": [
      "(2, 256)\n"
     ]
    }
   ],
   "source": [
    "###################################\n",
    "# Build the model\n",
    "###################################\n",
    "# easfsl only wants a tuple for the shape\n",
    "model = Steves_Prototypical_Network(x_net, device=p.device, x_shape=tuple(p.x_shape))\n",
    "optimizer = Adam(params=model.parameters(), lr=p.lr)"
   ]
  },
  {
   "cell_type": "code",
   "execution_count": 22,
   "id": "22b39ac5",
   "metadata": {
    "execution": {
     "iopub.execute_input": "2022-03-28T16:17:19.538178Z",
     "iopub.status.busy": "2022-03-28T16:17:19.537308Z",
     "iopub.status.idle": "2022-03-28T16:34:18.656910Z",
     "shell.execute_reply": "2022-03-28T16:34:18.656541Z"
    },
    "papermill": {
     "duration": 1019.148262,
     "end_time": "2022-03-28T16:34:18.657002",
     "exception": false,
     "start_time": "2022-03-28T16:17:19.508740",
     "status": "completed"
    },
    "tags": []
   },
   "outputs": [
    {
     "name": "stdout",
     "output_type": "stream",
     "text": [
      "epoch: 1, [batch: 1 / 6720], examples_per_second: 33.4438, train_label_loss: 2.7560, \n"
     ]
    },
    {
     "name": "stdout",
     "output_type": "stream",
     "text": [
      "epoch: 1, [batch: 672 / 6720], examples_per_second: 4139.9235, train_label_loss: 2.7724, \n"
     ]
    },
    {
     "name": "stdout",
     "output_type": "stream",
     "text": [
      "epoch: 1, [batch: 1344 / 6720], examples_per_second: 4446.8574, train_label_loss: 1.8720, \n"
     ]
    },
    {
     "name": "stdout",
     "output_type": "stream",
     "text": [
      "epoch: 1, [batch: 2016 / 6720], examples_per_second: 3774.1701, train_label_loss: 1.9670, \n"
     ]
    },
    {
     "name": "stdout",
     "output_type": "stream",
     "text": [
      "epoch: 1, [batch: 2688 / 6720], examples_per_second: 3841.5237, train_label_loss: 1.3371, \n"
     ]
    },
    {
     "name": "stdout",
     "output_type": "stream",
     "text": [
      "epoch: 1, [batch: 3360 / 6720], examples_per_second: 3854.2829, train_label_loss: 1.2606, \n"
     ]
    },
    {
     "name": "stdout",
     "output_type": "stream",
     "text": [
      "epoch: 1, [batch: 4032 / 6720], examples_per_second: 3931.8877, train_label_loss: 2.0215, \n"
     ]
    },
    {
     "name": "stdout",
     "output_type": "stream",
     "text": [
      "epoch: 1, [batch: 4704 / 6720], examples_per_second: 3940.1473, train_label_loss: 1.3361, \n"
     ]
    },
    {
     "name": "stdout",
     "output_type": "stream",
     "text": [
      "epoch: 1, [batch: 5376 / 6720], examples_per_second: 4108.4121, train_label_loss: 1.8390, \n"
     ]
    },
    {
     "name": "stdout",
     "output_type": "stream",
     "text": [
      "epoch: 1, [batch: 6048 / 6720], examples_per_second: 3984.7432, train_label_loss: 1.1340, \n"
     ]
    },
    {
     "name": "stdout",
     "output_type": "stream",
     "text": [
      "=============================================================\n",
      "epoch: 1, source_val_acc_label: 0.4119, target_val_acc_label: 0.7232, source_val_label_loss: 1.4838, target_val_label_loss: 1.2195, \n",
      "=============================================================\n"
     ]
    },
    {
     "name": "stdout",
     "output_type": "stream",
     "text": [
      "New best\n"
     ]
    },
    {
     "name": "stdout",
     "output_type": "stream",
     "text": [
      "epoch: 2, [batch: 1 / 6720], examples_per_second: 3.9997, train_label_loss: 1.8042, \n"
     ]
    },
    {
     "name": "stdout",
     "output_type": "stream",
     "text": [
      "epoch: 2, [batch: 672 / 6720], examples_per_second: 4363.1893, train_label_loss: 1.8167, \n"
     ]
    },
    {
     "name": "stdout",
     "output_type": "stream",
     "text": [
      "epoch: 2, [batch: 1344 / 6720], examples_per_second: 4797.8779, train_label_loss: 1.3982, \n"
     ]
    },
    {
     "name": "stdout",
     "output_type": "stream",
     "text": [
      "epoch: 2, [batch: 2016 / 6720], examples_per_second: 4013.1500, train_label_loss: 1.2077, \n"
     ]
    },
    {
     "name": "stdout",
     "output_type": "stream",
     "text": [
      "epoch: 2, [batch: 2688 / 6720], examples_per_second: 3906.8900, train_label_loss: 1.2277, \n"
     ]
    },
    {
     "name": "stdout",
     "output_type": "stream",
     "text": [
      "epoch: 2, [batch: 3360 / 6720], examples_per_second: 3894.4424, train_label_loss: 0.8432, \n"
     ]
    },
    {
     "name": "stdout",
     "output_type": "stream",
     "text": [
      "epoch: 2, [batch: 4032 / 6720], examples_per_second: 3899.8757, train_label_loss: 0.7511, \n"
     ]
    },
    {
     "name": "stdout",
     "output_type": "stream",
     "text": [
      "epoch: 2, [batch: 4704 / 6720], examples_per_second: 3925.3653, train_label_loss: 1.0337, \n"
     ]
    },
    {
     "name": "stdout",
     "output_type": "stream",
     "text": [
      "epoch: 2, [batch: 5376 / 6720], examples_per_second: 4042.2734, train_label_loss: 1.3662, \n"
     ]
    },
    {
     "name": "stdout",
     "output_type": "stream",
     "text": [
      "epoch: 2, [batch: 6048 / 6720], examples_per_second: 4048.9837, train_label_loss: 0.7777, \n"
     ]
    },
    {
     "name": "stdout",
     "output_type": "stream",
     "text": [
      "=============================================================\n",
      "epoch: 2, source_val_acc_label: 0.6293, target_val_acc_label: 0.9604, source_val_label_loss: 0.9845, target_val_label_loss: 0.2069, \n",
      "=============================================================\n"
     ]
    },
    {
     "name": "stdout",
     "output_type": "stream",
     "text": [
      "New best\n"
     ]
    },
    {
     "name": "stdout",
     "output_type": "stream",
     "text": [
      "epoch: 3, [batch: 1 / 6720], examples_per_second: 4.0760, train_label_loss: 0.6132, \n"
     ]
    },
    {
     "name": "stdout",
     "output_type": "stream",
     "text": [
      "epoch: 3, [batch: 672 / 6720], examples_per_second: 4431.8275, train_label_loss: 1.1657, \n"
     ]
    },
    {
     "name": "stdout",
     "output_type": "stream",
     "text": [
      "epoch: 3, [batch: 1344 / 6720], examples_per_second: 4609.1436, train_label_loss: 1.1230, \n"
     ]
    },
    {
     "name": "stdout",
     "output_type": "stream",
     "text": [
      "epoch: 3, [batch: 2016 / 6720], examples_per_second: 3890.8660, train_label_loss: 0.9348, \n"
     ]
    },
    {
     "name": "stdout",
     "output_type": "stream",
     "text": [
      "epoch: 3, [batch: 2688 / 6720], examples_per_second: 3982.6891, train_label_loss: 0.7624, \n"
     ]
    },
    {
     "name": "stdout",
     "output_type": "stream",
     "text": [
      "epoch: 3, [batch: 3360 / 6720], examples_per_second: 3991.1924, train_label_loss: 0.9223, \n"
     ]
    },
    {
     "name": "stdout",
     "output_type": "stream",
     "text": [
      "epoch: 3, [batch: 4032 / 6720], examples_per_second: 4004.7565, train_label_loss: 0.7249, \n"
     ]
    },
    {
     "name": "stdout",
     "output_type": "stream",
     "text": [
      "epoch: 3, [batch: 4704 / 6720], examples_per_second: 3844.6649, train_label_loss: 0.7025, \n"
     ]
    },
    {
     "name": "stdout",
     "output_type": "stream",
     "text": [
      "epoch: 3, [batch: 5376 / 6720], examples_per_second: 3847.9243, train_label_loss: 0.7138, \n"
     ]
    },
    {
     "name": "stdout",
     "output_type": "stream",
     "text": [
      "epoch: 3, [batch: 6048 / 6720], examples_per_second: 3825.9202, train_label_loss: 0.7402, \n"
     ]
    },
    {
     "name": "stdout",
     "output_type": "stream",
     "text": [
      "=============================================================\n",
      "epoch: 3, source_val_acc_label: 0.6393, target_val_acc_label: 0.9550, source_val_label_loss: 0.9661, target_val_label_loss: 0.1925, \n",
      "=============================================================\n"
     ]
    },
    {
     "name": "stdout",
     "output_type": "stream",
     "text": [
      "epoch: 4, [batch: 1 / 6720], examples_per_second: 3.9761, train_label_loss: 1.1478, \n"
     ]
    },
    {
     "name": "stdout",
     "output_type": "stream",
     "text": [
      "epoch: 4, [batch: 672 / 6720], examples_per_second: 4202.8505, train_label_loss: 1.2060, \n"
     ]
    },
    {
     "name": "stdout",
     "output_type": "stream",
     "text": [
      "epoch: 4, [batch: 1344 / 6720], examples_per_second: 4346.1057, train_label_loss: 0.5347, \n"
     ]
    },
    {
     "name": "stdout",
     "output_type": "stream",
     "text": [
      "epoch: 4, [batch: 2016 / 6720], examples_per_second: 3952.7190, train_label_loss: 0.4932, \n"
     ]
    },
    {
     "name": "stdout",
     "output_type": "stream",
     "text": [
      "epoch: 4, [batch: 2688 / 6720], examples_per_second: 3916.5496, train_label_loss: 1.3277, \n"
     ]
    },
    {
     "name": "stdout",
     "output_type": "stream",
     "text": [
      "epoch: 4, [batch: 3360 / 6720], examples_per_second: 3828.6282, train_label_loss: 1.2766, \n"
     ]
    },
    {
     "name": "stdout",
     "output_type": "stream",
     "text": [
      "epoch: 4, [batch: 4032 / 6720], examples_per_second: 3853.8410, train_label_loss: 0.7196, \n"
     ]
    },
    {
     "name": "stdout",
     "output_type": "stream",
     "text": [
      "epoch: 4, [batch: 4704 / 6720], examples_per_second: 3895.4200, train_label_loss: 0.7592, \n"
     ]
    },
    {
     "name": "stdout",
     "output_type": "stream",
     "text": [
      "epoch: 4, [batch: 5376 / 6720], examples_per_second: 3980.5056, train_label_loss: 0.9059, \n"
     ]
    },
    {
     "name": "stdout",
     "output_type": "stream",
     "text": [
      "epoch: 4, [batch: 6048 / 6720], examples_per_second: 4068.3109, train_label_loss: 0.6841, \n"
     ]
    },
    {
     "name": "stdout",
     "output_type": "stream",
     "text": [
      "=============================================================\n",
      "epoch: 4, source_val_acc_label: 0.6697, target_val_acc_label: 0.9594, source_val_label_loss: 0.8924, target_val_label_loss: 0.1983, \n",
      "=============================================================\n"
     ]
    },
    {
     "name": "stdout",
     "output_type": "stream",
     "text": [
      "epoch: 5, [batch: 1 / 6720], examples_per_second: 3.9887, train_label_loss: 0.7568, \n"
     ]
    },
    {
     "name": "stdout",
     "output_type": "stream",
     "text": [
      "epoch: 5, [batch: 672 / 6720], examples_per_second: 4289.7886, train_label_loss: 1.1184, \n"
     ]
    },
    {
     "name": "stdout",
     "output_type": "stream",
     "text": [
      "epoch: 5, [batch: 1344 / 6720], examples_per_second: 4243.0503, train_label_loss: 0.7541, \n"
     ]
    },
    {
     "name": "stdout",
     "output_type": "stream",
     "text": [
      "epoch: 5, [batch: 2016 / 6720], examples_per_second: 3978.6338, train_label_loss: 0.9092, \n"
     ]
    },
    {
     "name": "stdout",
     "output_type": "stream",
     "text": [
      "epoch: 5, [batch: 2688 / 6720], examples_per_second: 4065.8656, train_label_loss: 1.1145, \n"
     ]
    },
    {
     "name": "stdout",
     "output_type": "stream",
     "text": [
      "epoch: 5, [batch: 3360 / 6720], examples_per_second: 4054.1682, train_label_loss: 0.8740, \n"
     ]
    },
    {
     "name": "stdout",
     "output_type": "stream",
     "text": [
      "epoch: 5, [batch: 4032 / 6720], examples_per_second: 4048.8118, train_label_loss: 0.8856, \n"
     ]
    },
    {
     "name": "stdout",
     "output_type": "stream",
     "text": [
      "epoch: 5, [batch: 4704 / 6720], examples_per_second: 3974.0802, train_label_loss: 0.8844, \n"
     ]
    },
    {
     "name": "stdout",
     "output_type": "stream",
     "text": [
      "epoch: 5, [batch: 5376 / 6720], examples_per_second: 3951.4161, train_label_loss: 0.9114, \n"
     ]
    },
    {
     "name": "stdout",
     "output_type": "stream",
     "text": [
      "epoch: 5, [batch: 6048 / 6720], examples_per_second: 3814.0934, train_label_loss: 0.5192, \n"
     ]
    },
    {
     "name": "stdout",
     "output_type": "stream",
     "text": [
      "=============================================================\n",
      "epoch: 5, source_val_acc_label: 0.6729, target_val_acc_label: 0.9525, source_val_label_loss: 0.8859, target_val_label_loss: 0.2200, \n",
      "=============================================================\n"
     ]
    },
    {
     "name": "stdout",
     "output_type": "stream",
     "text": [
      "epoch: 6, [batch: 1 / 6720], examples_per_second: 2.9228, train_label_loss: 0.4706, \n"
     ]
    },
    {
     "name": "stdout",
     "output_type": "stream",
     "text": [
      "epoch: 6, [batch: 672 / 6720], examples_per_second: 3414.4380, train_label_loss: 0.6420, \n"
     ]
    },
    {
     "name": "stdout",
     "output_type": "stream",
     "text": [
      "epoch: 6, [batch: 1344 / 6720], examples_per_second: 3138.8904, train_label_loss: 1.3667, \n"
     ]
    },
    {
     "name": "stdout",
     "output_type": "stream",
     "text": [
      "epoch: 6, [batch: 2016 / 6720], examples_per_second: 3045.0065, train_label_loss: 1.2010, \n"
     ]
    },
    {
     "name": "stdout",
     "output_type": "stream",
     "text": [
      "epoch: 6, [batch: 2688 / 6720], examples_per_second: 3128.8647, train_label_loss: 0.4736, \n"
     ]
    },
    {
     "name": "stdout",
     "output_type": "stream",
     "text": [
      "epoch: 6, [batch: 3360 / 6720], examples_per_second: 3019.5389, train_label_loss: 0.6737, \n"
     ]
    },
    {
     "name": "stdout",
     "output_type": "stream",
     "text": [
      "epoch: 6, [batch: 4032 / 6720], examples_per_second: 3027.5310, train_label_loss: 0.8239, \n"
     ]
    },
    {
     "name": "stdout",
     "output_type": "stream",
     "text": [
      "epoch: 6, [batch: 4704 / 6720], examples_per_second: 3140.3227, train_label_loss: 0.7544, \n"
     ]
    },
    {
     "name": "stdout",
     "output_type": "stream",
     "text": [
      "epoch: 6, [batch: 5376 / 6720], examples_per_second: 3511.1660, train_label_loss: 1.2307, \n"
     ]
    },
    {
     "name": "stdout",
     "output_type": "stream",
     "text": [
      "epoch: 6, [batch: 6048 / 6720], examples_per_second: 3597.9355, train_label_loss: 0.8720, \n"
     ]
    },
    {
     "name": "stdout",
     "output_type": "stream",
     "text": [
      "=============================================================\n",
      "epoch: 6, source_val_acc_label: 0.6912, target_val_acc_label: 0.9511, source_val_label_loss: 0.8341, target_val_label_loss: 0.2557, \n",
      "=============================================================\n"
     ]
    },
    {
     "name": "stdout",
     "output_type": "stream",
     "text": [
      "Patience (3) exhausted\n"
     ]
    }
   ],
   "source": [
    "###################################\n",
    "# train\n",
    "###################################\n",
    "jig = PTN_Train_Eval_Test_Jig(model, p.BEST_MODEL_PATH, p.device)\n",
    "\n",
    "jig.train(\n",
    "    train_iterable=datasets.source.processed.train,\n",
    "    source_val_iterable=datasets.source.processed.val,\n",
    "    target_val_iterable=datasets.target.processed.val,\n",
    "    num_epochs=p.n_epoch,\n",
    "    num_logs_per_epoch=p.NUM_LOGS_PER_EPOCH,\n",
    "    patience=p.patience,\n",
    "    optimizer=optimizer,\n",
    "    criteria_for_best=p.criteria_for_best,\n",
    ")"
   ]
  },
  {
   "cell_type": "code",
   "execution_count": 23,
   "id": "31e8fabf",
   "metadata": {
    "execution": {
     "iopub.execute_input": "2022-03-28T16:34:18.749058Z",
     "iopub.status.busy": "2022-03-28T16:34:18.748466Z",
     "iopub.status.idle": "2022-03-28T16:34:18.780716Z",
     "shell.execute_reply": "2022-03-28T16:34:18.779917Z"
    },
    "papermill": {
     "duration": 0.081393,
     "end_time": "2022-03-28T16:34:18.780907",
     "exception": false,
     "start_time": "2022-03-28T16:34:18.699514",
     "status": "completed"
    },
    "tags": []
   },
   "outputs": [],
   "source": [
    "total_experiment_time_secs = time.time() - start_time_secs"
   ]
  },
  {
   "cell_type": "code",
   "execution_count": 24,
   "id": "87b9595b",
   "metadata": {
    "execution": {
     "iopub.execute_input": "2022-03-28T16:34:18.882622Z",
     "iopub.status.busy": "2022-03-28T16:34:18.881715Z",
     "iopub.status.idle": "2022-03-28T16:37:45.084875Z",
     "shell.execute_reply": "2022-03-28T16:37:45.085559Z"
    },
    "papermill": {
     "duration": 206.253321,
     "end_time": "2022-03-28T16:37:45.085788",
     "exception": false,
     "start_time": "2022-03-28T16:34:18.832467",
     "status": "completed"
    },
    "tags": []
   },
   "outputs": [],
   "source": [
    "###################################\n",
    "# Evaluate the model\n",
    "###################################\n",
    "source_test_label_accuracy, source_test_label_loss = jig.test(datasets.source.processed.test)\n",
    "target_test_label_accuracy, target_test_label_loss = jig.test(datasets.target.processed.test)\n",
    "\n",
    "source_val_label_accuracy, source_val_label_loss = jig.test(datasets.source.processed.val)\n",
    "target_val_label_accuracy, target_val_label_loss = jig.test(datasets.target.processed.val)\n",
    "\n",
    "history = jig.get_history()\n",
    "\n",
    "total_epochs_trained = len(history[\"epoch_indices\"])\n",
    "\n",
    "val_dl = Iterable_Aggregator((datasets.source.original.val,datasets.target.original.val))\n",
    "\n",
    "confusion = ptn_confusion_by_domain_over_dataloader(model, p.device, val_dl)\n",
    "per_domain_accuracy = per_domain_accuracy_from_confusion(confusion)\n",
    "\n",
    "# Add a key to per_domain_accuracy for if it was a source domain\n",
    "for domain, accuracy in per_domain_accuracy.items():\n",
    "    per_domain_accuracy[domain] = {\n",
    "        \"accuracy\": accuracy,\n",
    "        \"source?\": domain in p.domains_source\n",
    "    }\n",
    "\n",
    "# Do an independent accuracy assesment JUST TO BE SURE!\n",
    "# _source_test_label_accuracy = independent_accuracy_assesment(model, datasets.source.processed.test, p.device)\n",
    "# _target_test_label_accuracy = independent_accuracy_assesment(model, datasets.target.processed.test, p.device)\n",
    "# _source_val_label_accuracy = independent_accuracy_assesment(model, datasets.source.processed.val, p.device)\n",
    "# _target_val_label_accuracy = independent_accuracy_assesment(model, datasets.target.processed.val, p.device)\n",
    "\n",
    "# assert(_source_test_label_accuracy == source_test_label_accuracy)\n",
    "# assert(_target_test_label_accuracy == target_test_label_accuracy)\n",
    "# assert(_source_val_label_accuracy == source_val_label_accuracy)\n",
    "# assert(_target_val_label_accuracy == target_val_label_accuracy)\n",
    "\n",
    "experiment = {\n",
    "    \"experiment_name\": p.experiment_name,\n",
    "    \"parameters\": dict(p),\n",
    "    \"results\": {\n",
    "        \"source_test_label_accuracy\": source_test_label_accuracy,\n",
    "        \"source_test_label_loss\": source_test_label_loss,\n",
    "        \"target_test_label_accuracy\": target_test_label_accuracy,\n",
    "        \"target_test_label_loss\": target_test_label_loss,\n",
    "        \"source_val_label_accuracy\": source_val_label_accuracy,\n",
    "        \"source_val_label_loss\": source_val_label_loss,\n",
    "        \"target_val_label_accuracy\": target_val_label_accuracy,\n",
    "        \"target_val_label_loss\": target_val_label_loss,\n",
    "        \"total_epochs_trained\": total_epochs_trained,\n",
    "        \"total_experiment_time_secs\": total_experiment_time_secs,\n",
    "        \"confusion\": confusion,\n",
    "        \"per_domain_accuracy\": per_domain_accuracy,\n",
    "    },\n",
    "    \"history\": history,\n",
    "    \"dataset_metrics\": get_dataset_metrics(datasets, \"ptn\"),\n",
    "}"
   ]
  },
  {
   "cell_type": "code",
   "execution_count": 25,
   "id": "54a21829",
   "metadata": {
    "execution": {
     "iopub.execute_input": "2022-03-28T16:37:45.180039Z",
     "iopub.status.busy": "2022-03-28T16:37:45.179661Z",
     "iopub.status.idle": "2022-03-28T16:37:45.405648Z",
     "shell.execute_reply": "2022-03-28T16:37:45.406328Z"
    },
    "papermill": {
     "duration": 0.272755,
     "end_time": "2022-03-28T16:37:45.406512",
     "exception": false,
     "start_time": "2022-03-28T16:37:45.133757",
     "status": "completed"
    },
    "tags": []
   },
   "outputs": [
    {
     "data": {
      "image/png": "[encoded data removed]",
      "text/plain": [
       "<Figure size 1080x504 with 1 Axes>"
      ]
     },
     "metadata": {
      "needs_background": "light"
     },
     "output_type": "display_data"
    }
   ],
   "source": [
    "ax = get_loss_curve(experiment)\n",
    "plt.show()"
   ]
  },
  {
   "cell_type": "code",
   "execution_count": 26,
   "id": "fd8a0f60",
   "metadata": {
    "execution": {
     "iopub.execute_input": "2022-03-28T16:37:45.501107Z",
     "iopub.status.busy": "2022-03-28T16:37:45.500135Z",
     "iopub.status.idle": "2022-03-28T16:37:45.874453Z",
     "shell.execute_reply": "2022-03-28T16:37:45.875138Z"
    },
    "papermill": {
     "duration": 0.420648,
     "end_time": "2022-03-28T16:37:45.875330",
     "exception": false,
     "start_time": "2022-03-28T16:37:45.454682",
     "status": "completed"
    },
    "tags": []
   },
   "outputs": [
    {
     "data": {
      "text/plain": [
       "<AxesSubplot:title={'center':'Results'}>"
      ]
     },
     "execution_count": 26,
     "metadata": {},
     "output_type": "execute_result"
    },
    {
     "data": {
      "image/png": "[encoded data removed]",
      "text/plain": [
       "<Figure size 1080x504 with 1 Axes>"
      ]
     },
     "metadata": {
      "needs_background": "light"
     },
     "output_type": "display_data"
    }
   ],
   "source": [
    "get_results_table(experiment)"
   ]
  },
  {
   "cell_type": "code",
   "execution_count": 27,
   "id": "cf8dc689",
   "metadata": {
    "execution": {
     "iopub.execute_input": "2022-03-28T16:37:45.969896Z",
     "iopub.status.busy": "2022-03-28T16:37:45.969523Z",
     "iopub.status.idle": "2022-03-28T16:37:46.207226Z",
     "shell.execute_reply": "2022-03-28T16:37:46.206472Z"
    },
    "papermill": {
     "duration": 0.284519,
     "end_time": "2022-03-28T16:37:46.207386",
     "exception": false,
     "start_time": "2022-03-28T16:37:45.922867",
     "status": "completed"
    },
    "tags": []
   },
   "outputs": [
    {
     "data": {
      "text/plain": [
       "<AxesSubplot:title={'center':'Per Domain Validation Accuracy'}, xlabel='domain'>"
      ]
     },
     "execution_count": 27,
     "metadata": {},
     "output_type": "execute_result"
    },
    {
     "data": {
      "image/png": "[encoded data removed]",
      "text/plain": [
       "<Figure size 1080x504 with 1 Axes>"
      ]
     },
     "metadata": {
      "needs_background": "light"
     },
     "output_type": "display_data"
    }
   ],
   "source": [
    "get_domain_accuracies(experiment)"
   ]
  },
  {
   "cell_type": "code",
   "execution_count": 28,
   "id": "a74ae082",
   "metadata": {
    "execution": {
     "iopub.execute_input": "2022-03-28T16:37:46.306935Z",
     "iopub.status.busy": "2022-03-28T16:37:46.306560Z",
     "iopub.status.idle": "2022-03-28T16:37:46.329582Z",
     "shell.execute_reply": "2022-03-28T16:37:46.328914Z"
    },
    "papermill": {
     "duration": 0.070354,
     "end_time": "2022-03-28T16:37:46.329739",
     "exception": false,
     "start_time": "2022-03-28T16:37:46.259385",
     "status": "completed"
    },
    "tags": []
   },
   "outputs": [
    {
     "name": "stdout",
     "output_type": "stream",
     "text": [
      "Source Test Label Accuracy: 0.63017578125 Target Test Label Accuracy: 0.959614841986456\n",
      "Source Val Label Accuracy: 0.629296875 Target Val Label Accuracy: 0.9603571428571429\n"
     ]
    }
   ],
   "source": [
    "print(\"Source Test Label Accuracy:\", experiment[\"results\"][\"source_test_label_accuracy\"], \"Target Test Label Accuracy:\", experiment[\"results\"][\"target_test_label_accuracy\"])\n",
    "print(\"Source Val Label Accuracy:\", experiment[\"results\"][\"source_val_label_accuracy\"], \"Target Val Label Accuracy:\", experiment[\"results\"][\"target_val_label_accuracy\"])"
   ]
  },
  {
   "cell_type": "code",
   "execution_count": 29,
   "id": "dacca602",
   "metadata": {
    "execution": {
     "iopub.execute_input": "2022-03-28T16:37:46.428930Z",
     "iopub.status.busy": "2022-03-28T16:37:46.428558Z",
     "iopub.status.idle": "2022-03-28T16:37:46.454049Z",
     "shell.execute_reply": "2022-03-28T16:37:46.454720Z"
    },
    "papermill": {
     "duration": 0.074284,
     "end_time": "2022-03-28T16:37:46.454901",
     "exception": false,
     "start_time": "2022-03-28T16:37:46.380617",
     "status": "completed"
    },
    "tags": [
     "experiment_json"
    ]
   },
   "outputs": [
    {
     "data": {
      "text/plain": [
       "'{\"experiment_name\": \"tl_3-jitter5v2:oracle.run1.framed -> cores\", \"parameters\": {\"experiment_name\": \"tl_3-jitter5v2:oracle.run1.framed -> cores\", \"device\": \"cuda\", \"lr\": 0.0001, \"x_shape\": [2, 256], \"n_shot\": 3, \"n_query\": 2, \"train_k_factor\": 3, \"val_k_factor\": 2, \"test_k_factor\": 2, \"torch_default_dtype\": \"torch.float32\", \"n_epoch\": 50, \"patience\": 3, \"criteria_for_best\": \"target_accuracy\", \"x_net\": [{\"class\": \"nnReshape\", \"kargs\": {\"shape\": [-1, 1, 2, 256]}}, {\"class\": \"Conv2d\", \"kargs\": {\"in_channels\": 1, \"out_channels\": 256, \"kernel_size\": [1, 7], \"bias\": false, \"padding\": [0, 3]}}, {\"class\": \"ReLU\", \"kargs\": {\"inplace\": true}}, {\"class\": \"BatchNorm2d\", \"kargs\": {\"num_features\": 256}}, {\"class\": \"Conv2d\", \"kargs\": {\"in_channels\": 256, \"out_channels\": 80, \"kernel_size\": [2, 7], \"bias\": true, \"padding\": [0, 3]}}, {\"class\": \"ReLU\", \"kargs\": {\"inplace\": true}}, {\"class\": \"BatchNorm2d\", \"kargs\": {\"num_features\": 80}}, {\"class\": \"Flatten\", \"kargs\": {}}, {\"class\": \"Linear\", \"kargs\": {\"in_features\": 20480, \"out_features\": 256}}, {\"class\": \"ReLU\", \"kargs\": {\"inplace\": true}}, {\"class\": \"BatchNorm1d\", \"kargs\": {\"num_features\": 256}}, {\"class\": \"Linear\", \"kargs\": {\"in_features\": 256, \"out_features\": 256}}], \"NUM_LOGS_PER_EPOCH\": 10, \"BEST_MODEL_PATH\": \"./best_model.pth\", \"n_way\": 16, \"datasets\": [{\"labels\": [\"1-10.\", \"1-11.\", \"1-15.\", \"1-16.\", \"1-17.\", \"1-18.\", \"1-19.\", \"10-4.\", \"10-7.\", \"11-1.\", \"11-14.\", \"11-17.\", \"11-20.\", \"11-7.\", \"13-20.\", \"13-8.\", \"14-10.\", \"14-11.\", \"14-14.\", \"14-7.\", \"15-1.\", \"15-20.\", \"16-1.\", \"16-16.\", \"17-10.\", \"17-11.\", \"17-2.\", \"19-1.\", \"19-16.\", \"19-19.\", \"19-20.\", \"19-3.\", \"2-10.\", \"2-11.\", \"2-17.\", \"2-18.\", \"2-20.\", \"2-3.\", \"2-4.\", \"2-5.\", \"2-6.\", \"2-7.\", \"2-8.\", \"3-13.\", \"3-18.\", \"3-3.\", \"4-1.\", \"4-10.\", \"4-11.\", \"4-19.\", \"5-5.\", \"6-15.\", \"7-10.\", \"7-14.\", \"8-18.\", \"8-20.\", \"8-3.\", \"8-8.\"], \"domains\": [1, 2, 3, 4, 5], \"num_examples_per_domain_per_label\": -1, \"pickle_path\": \"/root/csc500-main/datasets/cores.stratified_ds.2022A.pkl\", \"source_or_target_dataset\": \"target\", \"x_transforms\": [\"unit_power\", \"jitter_256_5\", \"lowpass_+/-10MHz\", \"take_200\"], \"episode_transforms\": [], \"domain_prefix\": \"C_\"}, {\"labels\": [\"3123D52\", \"3123D65\", \"3123D79\", \"3123D80\", \"3123D54\", \"3123D70\", \"3123D7B\", \"3123D89\", \"3123D58\", \"3123D76\", \"3123D7D\", \"3123EFE\", \"3123D64\", \"3123D78\", \"3123D7E\", \"3124E4A\"], \"domains\": [32, 38, 8, 44, 14, 50, 20, 26], \"num_examples_per_domain_per_label\": 2000, \"pickle_path\": \"/root/csc500-main/datasets/oracle.Run1_framed_2000Examples_stratified_ds.2022A.pkl\", \"source_or_target_dataset\": \"source\", \"x_transforms\": [\"unit_power\", \"jitter_256_5\", \"take_200\", \"resample_20Msps_to_25Msps\"], \"episode_transforms\": [], \"domain_prefix\": \"O_\"}], \"seed\": 420, \"dataset_seed\": 420, \"domains_source\": [\"O_32\", \"O_38\", \"O_8\", \"O_44\", \"O_14\", \"O_50\", \"O_20\", \"O_26\"], \"domains_target\": [\"C_1\", \"C_2\", \"C_3\", \"C_4\", \"C_5\"]}, \"results\": {\"source_test_label_accuracy\": 0.63017578125, \"source_test_label_loss\": 0.9833646416664124, \"target_test_label_accuracy\": 0.959614841986456, \"target_test_label_loss\": 0.1812305897474289, \"source_val_label_accuracy\": 0.629296875, \"source_val_label_loss\": 0.9845415353775024, \"target_val_label_accuracy\": 0.9603571428571429, \"target_val_label_loss\": 0.20694710314273834, \"total_epochs_trained\": 6, \"total_experiment_time_secs\": 1145.909746170044, \"confusion\": {\"O_14\": {\"15\": {\"15\": 205, \"7\": 35}, \"5\": {\"5\": 119, \"4\": 78, \"1\": 35, \"3\": 3, \"13\": 1, \"2\": 2, \"15\": 1, \"7\": 1}, \"7\": {\"7\": 218, \"15\": 21, \"1\": 1}, \"4\": {\"3\": 27, \"4\": 152, \"5\": 42, \"2\": 11, \"1\": 6, \"13\": 2}, \"10\": {\"10\": 192, \"0\": 43, \"3\": 3, \"11\": 2}, \"11\": {\"11\": 206, \"9\": 14, \"10\": 12, \"0\": 8}, \"12\": {\"12\": 236, \"9\": 4}, \"0\": {\"0\": 160, \"10\": 62, \"11\": 6, \"3\": 10, \"8\": 2}, \"14\": {\"14\": 159, \"13\": 32, \"2\": 15, \"6\": 25, \"3\": 9}, \"8\": {\"8\": 240}, \"13\": {\"6\": 94, \"14\": 69, \"13\": 47, \"2\": 23, \"4\": 4, \"5\": 2, \"10\": 1}, \"6\": {\"2\": 21, \"6\": 118, \"14\": 28, \"13\": 72, \"5\": 1}, \"1\": {\"1\": 204, \"5\": 27, \"7\": 2, \"4\": 7}, \"3\": {\"3\": 202, \"4\": 20, \"14\": 8, \"2\": 5, \"10\": 3, \"0\": 2}, \"9\": {\"9\": 234, \"12\": 4, \"11\": 2}, \"2\": {\"4\": 24, \"13\": 18, \"2\": 101, \"6\": 22, \"5\": 20, \"3\": 17, \"15\": 6, \"14\": 32}}, \"O_20\": {\"4\": {\"3\": 10, \"5\": 3, \"4\": 158, \"8\": 55, \"10\": 14}, \"10\": {\"10\": 154, \"4\": 7, \"14\": 64, \"8\": 10, \"6\": 4, \"7\": 1}, \"15\": {\"15\": 130, \"1\": 52, \"12\": 5, \"13\": 9, \"0\": 37, \"5\": 4, \"9\": 2, \"2\": 1}, \"0\": {\"9\": 6, \"15\": 43, \"1\": 37, \"5\": 62, \"0\": 69, \"12\": 15, \"3\": 6, \"4\": 1, \"2\": 1}, \"6\": {\"6\": 210, \"14\": 23, \"10\": 2, \"7\": 3, \"8\": 2}, \"3\": {\"3\": 87, \"1\": 10, \"2\": 14, \"9\": 28, \"5\": 20, \"4\": 7, \"7\": 16, \"8\": 11, \"12\": 45, \"0\": 2}, \"7\": {\"7\": 136, \"2\": 37, \"8\": 9, \"9\": 29, \"3\": 22, \"12\": 3, \"6\": 2, \"4\": 1, \"14\": 1}, \"2\": {\"9\": 81, \"7\": 34, \"2\": 86, \"13\": 17, \"1\": 5, \"3\": 4, \"5\": 1, \"12\": 11, \"8\": 1}, \"8\": {\"8\": 114, \"4\": 61, \"6\": 6, \"10\": 18, \"14\": 5, \"3\": 12, \"7\": 22, \"9\": 2}, \"11\": {\"11\": 240}, \"14\": {\"14\": 146, \"10\": 64, \"6\": 26, \"8\": 4}, \"12\": {\"12\": 66, \"3\": 36, \"15\": 3, \"5\": 47, \"0\": 16, \"2\": 17, \"1\": 26, \"9\": 18, \"8\": 1, \"7\": 6, \"13\": 2, \"4\": 2}, \"13\": {\"13\": 207, \"1\": 3, \"15\": 7, \"12\": 2, \"2\": 15, \"9\": 5, \"7\": 1}, \"9\": {\"7\": 40, \"2\": 76, \"9\": 56, \"3\": 23, \"13\": 11, \"12\": 23, \"15\": 2, \"8\": 4, \"1\": 5}, \"5\": {\"1\": 47, \"0\": 48, \"5\": 85, \"12\": 34, \"9\": 3, \"3\": 8, \"15\": 13, \"2\": 2}, \"1\": {\"2\": 4, \"15\": 53, \"12\": 30, \"5\": 34, \"1\": 61, \"0\": 48, \"3\": 6, \"13\": 2, \"9\": 2}}, \"O_50\": {\"5\": {\"10\": 6, \"7\": 59, \"13\": 60, \"6\": 35, \"4\": 25, \"5\": 48, \"0\": 2, \"1\": 3, \"15\": 2}, \"12\": {\"9\": 23, \"12\": 207, \"14\": 10}, \"14\": {\"14\": 222, \"12\": 11, \"11\": 6, \"9\": 1}, \"4\": {\"4\": 62, \"7\": 8, \"15\": 59, \"6\": 19, \"1\": 67, \"5\": 21, \"13\": 3, \"11\": 1}, \"13\": {\"10\": 4, \"7\": 53, \"13\": 113, \"5\": 50, \"6\": 18, \"0\": 2}, \"10\": {\"10\": 209, \"7\": 13, \"5\": 2, \"8\": 3, \"0\": 11, \"13\": 2}, \"9\": {\"11\": 36, \"9\": 176, \"12\": 26, \"14\": 2}, \"15\": {\"15\": 158, \"4\": 26, \"1\": 48, \"11\": 6, \"14\": 1, \"6\": 1}, \"6\": {\"13\": 23, \"6\": 105, \"5\": 35, \"1\": 23, \"4\": 47, \"2\": 2, \"15\": 1, \"7\": 1, \"0\": 3}, \"2\": {\"2\": 222, \"0\": 18}, \"0\": {\"2\": 16, \"0\": 209, \"10\": 14, \"13\": 1}, \"11\": {\"11\": 177, \"9\": 37, \"15\": 10, \"14\": 12, \"1\": 2, \"12\": 2}, \"3\": {\"3\": 234, \"8\": 6}, \"8\": {\"8\": 230, \"10\": 7, \"3\": 3}, \"7\": {\"7\": 136, \"13\": 47, \"5\": 25, \"10\": 27, \"6\": 3, \"0\": 1, \"4\": 1}, \"1\": {\"6\": 24, \"1\": 121, \"15\": 57, \"5\": 3, \"14\": 1, \"4\": 33, \"0\": 1}}, \"O_26\": {\"7\": {\"7\": 134, \"8\": 18, \"4\": 14, \"2\": 18, \"3\": 42, \"0\": 3, \"15\": 4, \"1\": 3, \"10\": 1, \"14\": 2, \"5\": 1}, \"6\": {\"13\": 6, \"6\": 155, \"9\": 27, \"8\": 26, \"10\": 17, \"4\": 1, \"5\": 1, \"15\": 5, \"0\": 2}, \"14\": {\"14\": 45, \"1\": 80, \"8\": 9, \"4\": 43, \"0\": 41, \"6\": 1, \"7\": 2, \"10\": 19}, \"15\": {\"5\": 42, \"15\": 75, \"9\": 58, \"13\": 19, \"2\": 10, \"8\": 22, \"6\": 7, \"10\": 2, \"7\": 3, \"3\": 1, \"0\": 1}, \"5\": {\"5\": 119, \"13\": 44, \"15\": 34, \"2\": 14, \"9\": 26, \"8\": 3}, \"10\": {\"10\": 89, \"6\": 16, \"0\": 41, \"4\": 15, \"14\": 30, \"1\": 11, \"8\": 32, \"7\": 5, \"9\": 1}, \"4\": {\"4\": 75, \"10\": 16, \"1\": 46, \"14\": 47, \"0\": 31, \"7\": 14, \"8\": 11}, \"11\": {\"11\": 235, \"12\": 5}, \"13\": {\"13\": 159, \"5\": 52, \"9\": 13, \"2\": 5, \"3\": 2, \"15\": 8, \"6\": 1}, \"2\": {\"15\": 14, \"5\": 21, \"2\": 87, \"3\": 80, \"7\": 28, \"0\": 1, \"9\": 4, \"8\": 3, \"13\": 2}, \"0\": {\"4\": 42, \"8\": 29, \"10\": 57, \"14\": 34, \"0\": 47, \"1\": 18, \"7\": 7, \"6\": 5, \"9\": 1}, \"12\": {\"12\": 240}, \"3\": {\"2\": 73, \"3\": 141, \"7\": 23, \"15\": 2, \"5\": 1}, \"9\": {\"9\": 85, \"15\": 60, \"8\": 24, \"6\": 26, \"5\": 25, \"10\": 5, \"13\": 9, \"7\": 1, \"2\": 5}, \"8\": {\"9\": 18, \"4\": 17, \"0\": 26, \"10\": 33, \"8\": 80, \"7\": 25, \"15\": 17, \"1\": 3, \"6\": 6, \"2\": 6, \"14\": 9}, \"1\": {\"1\": 97, \"14\": 57, \"0\": 18, \"4\": 47, \"3\": 2, \"10\": 10, \"7\": 4, \"8\": 3, \"6\": 1, \"15\": 1}}, \"O_32\": {\"7\": {\"7\": 96, \"2\": 11, \"5\": 15, \"0\": 11, \"14\": 53, \"13\": 14, \"11\": 14, \"4\": 25, \"8\": 1}, \"2\": {\"2\": 180, \"0\": 18, \"4\": 34, \"5\": 1, \"7\": 5, \"14\": 1, \"13\": 1}, \"5\": {\"5\": 41, \"13\": 62, \"4\": 19, \"3\": 17, \"7\": 27, \"0\": 26, \"8\": 26, \"14\": 13, \"2\": 6, \"11\": 3}, \"6\": {\"6\": 240}, \"13\": {\"13\": 72, \"3\": 24, \"5\": 56, \"7\": 20, \"8\": 39, \"2\": 2, \"4\": 4, \"0\": 12, \"14\": 9, \"11\": 2}, \"4\": {\"2\": 42, \"4\": 87, \"0\": 64, \"13\": 4, \"7\": 16, \"8\": 4, \"5\": 19, \"14\": 4}, \"3\": {\"3\": 215, \"11\": 6, \"5\": 4, \"8\": 3, \"13\": 11, \"14\": 1}, \"0\": {\"4\": 68, \"0\": 88, \"2\": 18, \"7\": 11, \"8\": 19, \"13\": 13, \"5\": 23}, \"9\": {\"9\": 237, \"12\": 3}, \"12\": {\"12\": 240}, \"8\": {\"5\": 37, \"8\": 141, \"13\": 41, \"7\": 2, \"3\": 5, \"4\": 2, \"0\": 12}, \"14\": {\"7\": 56, \"14\": 67, \"4\": 11, \"0\": 3, \"11\": 83, \"2\": 1, \"5\": 11, \"13\": 6, \"3\": 1, \"8\": 1}, \"15\": {\"15\": 234, \"8\": 5, \"3\": 1}, \"11\": {\"11\": 183, \"14\": 47, \"7\": 6, \"3\": 1, \"5\": 2, \"13\": 1}, \"10\": {\"10\": 240}, \"1\": {\"1\": 236, \"10\": 4}}, \"O_44\": {\"11\": {\"11\": 172, \"13\": 31, \"6\": 34, \"9\": 3}, \"7\": {\"7\": 142, \"9\": 41, \"2\": 47, \"6\": 8, \"10\": 1, \"13\": 1}, \"6\": {\"6\": 150, \"13\": 38, \"11\": 20, \"9\": 22, \"7\": 9, \"2\": 1}, \"12\": {\"12\": 161, \"1\": 48, \"10\": 28, \"3\": 3}, \"4\": {\"4\": 150, \"14\": 83, \"15\": 5, \"13\": 1, \"11\": 1}, \"13\": {\"13\": 130, \"6\": 37, \"11\": 39, \"9\": 33, \"7\": 1}, \"8\": {\"0\": 70, \"8\": 155, \"15\": 10, \"5\": 5}, \"5\": {\"5\": 204, \"0\": 17, \"15\": 7, \"14\": 9, \"8\": 2, \"4\": 1}, \"14\": {\"14\": 131, \"15\": 22, \"4\": 87}, \"3\": {\"1\": 35, \"12\": 1, \"3\": 200, \"2\": 3, \"10\": 1}, \"10\": {\"12\": 35, \"10\": 151, \"2\": 26, \"3\": 1, \"1\": 27}, \"1\": {\"1\": 119, \"12\": 53, \"10\": 22, \"2\": 13, \"3\": 33}, \"2\": {\"2\": 187, \"10\": 11, \"1\": 12, \"7\": 29, \"9\": 1}, \"15\": {\"15\": 180, \"0\": 26, \"14\": 20, \"8\": 7, \"5\": 6, \"4\": 1}, \"9\": {\"7\": 42, \"2\": 3, \"9\": 142, \"6\": 24, \"13\": 27, \"11\": 1, \"3\": 1}, \"0\": {\"8\": 72, \"0\": 141, \"15\": 7, \"5\": 20}}, \"O_8\": {\"10\": {\"10\": 132, \"14\": 70, \"13\": 18, \"4\": 12, \"5\": 7, \"0\": 1}, \"6\": {\"7\": 73, \"6\": 113, \"0\": 8, \"4\": 38, \"13\": 7, \"8\": 1}, \"13\": {\"4\": 37, \"13\": 71, \"14\": 23, \"0\": 62, \"10\": 31, \"6\": 11, \"7\": 5}, \"3\": {\"3\": 194, \"2\": 36, \"12\": 8, \"15\": 2}, \"9\": {\"9\": 240}, \"1\": {\"11\": 80, \"1\": 152, \"5\": 5, \"14\": 2, \"10\": 1}, \"5\": {\"5\": 214, \"10\": 11, \"1\": 4, \"11\": 6, \"14\": 5}, \"11\": {\"1\": 109, \"11\": 118, \"5\": 7, \"14\": 1, \"8\": 2, \"4\": 2, \"10\": 1}, \"4\": {\"4\": 125, \"14\": 41, \"0\": 3, \"13\": 40, \"6\": 22, \"10\": 5, \"7\": 4}, \"14\": {\"10\": 63, \"14\": 100, \"13\": 22, \"1\": 3, \"4\": 50, \"0\": 1, \"6\": 1}, \"12\": {\"12\": 116, \"15\": 72, \"3\": 44, \"8\": 7, \"2\": 1}, \"7\": {\"7\": 159, \"0\": 8, \"6\": 68, \"15\": 1, \"13\": 3, \"4\": 1}, \"0\": {\"0\": 152, \"4\": 4, \"13\": 50, \"7\": 15, \"6\": 11, \"10\": 8}, \"15\": {\"15\": 163, \"12\": 54, \"8\": 21, \"3\": 1, \"6\": 1}, \"2\": {\"2\": 198, \"3\": 29, \"7\": 6, \"15\": 5, \"12\": 2}, \"8\": {\"8\": 229, \"15\": 9, \"12\": 1, \"6\": 1}}, \"O_38\": {\"4\": {\"4\": 224, \"12\": 16}, \"7\": {\"7\": 172, \"0\": 39, \"5\": 20, \"8\": 5, \"3\": 4}, \"12\": {\"12\": 215, \"4\": 20, \"10\": 5}, \"10\": {\"5\": 2, \"10\": 159, \"8\": 10, \"12\": 25, \"15\": 11, \"2\": 2, \"0\": 10, \"13\": 18, \"14\": 2, \"7\": 1}, \"0\": {\"0\": 57, \"7\": 63, \"5\": 36, \"10\": 7, \"9\": 3, \"8\": 57, \"6\": 4, \"3\": 7, \"1\": 1, \"4\": 1, \"15\": 3, \"13\": 1}, \"1\": {\"1\": 230, \"13\": 1, \"15\": 9}, \"5\": {\"7\": 18, \"13\": 2, \"1\": 10, \"0\": 34, \"5\": 83, \"3\": 9, \"6\": 23, \"8\": 52, \"10\": 2, \"15\": 7}, \"15\": {\"1\": 29, \"15\": 93, \"5\": 8, \"13\": 77, \"10\": 18, \"8\": 13, \"0\": 2}, \"9\": {\"9\": 121, \"6\": 73, \"3\": 45, \"7\": 1}, \"11\": {\"11\": 147, \"14\": 83, \"12\": 6, \"2\": 4}, \"14\": {\"14\": 156, \"11\": 65, \"2\": 13, \"10\": 3, \"12\": 3}, \"6\": {\"9\": 58, \"6\": 170, \"3\": 7, \"5\": 5}, \"8\": {\"5\": 41, \"0\": 61, \"8\": 111, \"15\": 8, \"7\": 10, \"10\": 8, \"1\": 1}, \"3\": {\"3\": 172, \"9\": 37, \"7\": 5, \"5\": 6, \"6\": 19, \"0\": 1}, \"2\": {\"2\": 223, \"13\": 3, \"14\": 14}, \"13\": {\"15\": 73, \"10\": 14, \"13\": 121, \"2\": 7, \"8\": 7, \"1\": 16, \"5\": 1, \"14\": 1}}, \"C_4\": {\"42\": {\"42\": 32}, \"0\": {\"0\": 79, \"2\": 1}, \"1\": {\"1\": 40}, \"39\": {\"39\": 20}, \"28\": {\"28\": 32}, \"53\": {\"53\": 122, \"20\": 2}, \"19\": {\"19\": 141, \"44\": 3}, \"34\": {\"34\": 24}, \"33\": {\"33\": 36}, \"32\": {\"32\": 22, \"46\": 2}, \"10\": {\"10\": 130, \"13\": 6}, \"46\": {\"32\": 3, \"46\": 120, \"49\": 1, \"47\": 2, \"5\": 2, \"22\": 3, \"0\": 3}, \"20\": {\"20\": 110, \"25\": 5, \"23\": 1, \"18\": 1, \"50\": 4, \"3\": 1}, \"5\": {\"5\": 108}, \"40\": {\"40\": 124}, \"51\": {\"51\": 144}, \"37\": {\"37\": 24}, \"17\": {\"17\": 74, \"27\": 6}, \"45\": {\"45\": 96}, \"13\": {\"13\": 132, \"10\": 10}, \"27\": {\"17\": 11, \"27\": 133}, \"24\": {\"24\": 55, \"11\": 1}, \"30\": {\"30\": 44}, \"31\": {\"31\": 28}, \"41\": {\"41\": 34, \"10\": 1, \"11\": 1}, \"36\": {\"36\": 87, \"3\": 5}, \"16\": {\"16\": 92, \"15\": 2, \"11\": 1, \"43\": 1}, \"22\": {\"22\": 127, \"43\": 1}, \"44\": {\"44\": 128, \"29\": 1, \"19\": 3}, \"9\": {\"9\": 140}, \"57\": {\"57\": 99, \"35\": 1}, \"8\": {\"8\": 138}, \"23\": {\"23\": 132}, \"47\": {\"47\": 120}, \"43\": {\"43\": 138}, \"49\": {\"49\": 20}, \"3\": {\"3\": 96, \"36\": 13, \"50\": 3, \"6\": 1, \"25\": 6, \"20\": 4, \"52\": 1}, \"12\": {\"12\": 90, \"21\": 2}, \"38\": {\"38\": 38, \"0\": 2}, \"7\": {\"7\": 23, \"43\": 1}, \"14\": {\"14\": 9, \"57\": 3, \"35\": 3, \"56\": 1}, \"15\": {\"15\": 142, \"43\": 2, \"16\": 2}, \"25\": {\"25\": 111, \"23\": 6, \"36\": 5, \"18\": 5, \"20\": 1}, \"26\": {\"26\": 24}, \"21\": {\"21\": 132}, \"48\": {\"48\": 144}, \"56\": {\"56\": 134}, \"11\": {\"11\": 102, \"24\": 2}, \"2\": {\"2\": 36}, \"6\": {\"6\": 97, \"15\": 1, \"53\": 9, \"51\": 2, \"3\": 2, \"20\": 1}, \"55\": {\"55\": 140}, \"54\": {\"54\": 108}, \"29\": {\"29\": 124}, \"50\": {\"21\": 8, \"50\": 81, \"25\": 5, \"20\": 12, \"36\": 5, \"6\": 1, \"53\": 3, \"8\": 3, \"3\": 4}, \"52\": {\"52\": 116}, \"35\": {\"35\": 36, \"57\": 4}, \"4\": {\"4\": 120}, \"18\": {\"18\": 108}}, \"C_5\": {\"43\": {\"43\": 149, \"15\": 2, \"11\": 1}, \"35\": {\"35\": 32, \"0\": 4}, \"54\": {\"54\": 112}, \"22\": {\"22\": 28}, \"16\": {\"16\": 145, \"24\": 1}, \"5\": {\"5\": 128}, \"28\": {\"28\": 32}, \"14\": {\"31\": 1, \"57\": 6, \"35\": 2, \"14\": 18, \"36\": 5, \"47\": 4, \"0\": 3, \"46\": 1, \"56\": 2, \"2\": 1, \"49\": 1}, \"51\": {\"51\": 127, \"53\": 1}, \"19\": {\"19\": 140}, \"31\": {\"31\": 36}, \"10\": {\"10\": 58, \"13\": 10}, \"21\": {\"21\": 136}, \"3\": {\"3\": 87, \"46\": 13}, \"57\": {\"57\": 131, \"14\": 1}, \"9\": {\"9\": 140, \"48\": 5, \"45\": 1}, \"8\": {\"8\": 131, \"41\": 1}, \"46\": {\"46\": 132, \"3\": 8}, \"23\": {\"23\": 123, \"46\": 1}, \"37\": {\"37\": 24}, \"34\": {\"34\": 32, \"40\": 4}, \"4\": {\"4\": 100}, \"6\": {\"8\": 3, \"6\": 116, \"18\": 1, \"1\": 4, \"55\": 2, \"25\": 2}, \"48\": {\"48\": 131, \"27\": 1, \"45\": 3, \"9\": 1}, \"44\": {\"44\": 138}, \"40\": {\"40\": 112, \"28\": 1, \"34\": 11}, \"12\": {\"12\": 96}, \"30\": {\"30\": 126, \"17\": 1, \"48\": 1}, \"39\": {\"39\": 20}, \"45\": {\"45\": 97, \"30\": 2, \"48\": 11, \"27\": 4, \"9\": 5, \"1\": 2, \"55\": 2, \"17\": 1}, \"36\": {\"36\": 92}, \"27\": {\"32\": 1, \"27\": 137, \"9\": 1, \"45\": 1}, \"32\": {\"32\": 32}, \"52\": {\"52\": 130}, \"0\": {\"0\": 113, \"35\": 7, \"2\": 3, \"56\": 1}, \"26\": {\"26\": 24}, \"1\": {\"1\": 146, \"9\": 1, \"55\": 1}, \"53\": {\"53\": 142, \"25\": 1, \"18\": 1, \"23\": 1, \"8\": 1}, \"25\": {\"25\": 140, \"42\": 1, \"18\": 2, \"23\": 1}, \"24\": {\"24\": 80}, \"7\": {\"7\": 32}, \"18\": {\"18\": 64}, \"20\": {\"20\": 142, \"50\": 2}, \"33\": {\"33\": 32}, \"55\": {\"55\": 138, \"1\": 2}, \"41\": {\"41\": 27, \"39\": 1}, \"42\": {\"42\": 37, \"14\": 1, \"18\": 2}, \"49\": {\"49\": 34, \"31\": 2}, \"13\": {\"13\": 125, \"10\": 18, \"11\": 3, \"43\": 1, \"15\": 1}, \"38\": {\"38\": 32}, \"2\": {\"2\": 26, \"56\": 2}, \"47\": {\"47\": 100}, \"17\": {\"17\": 114, \"30\": 2}, \"11\": {\"11\": 145, \"43\": 6, \"15\": 2, \"46\": 1}, \"29\": {\"29\": 132}, \"50\": {\"50\": 120, \"52\": 2, \"23\": 5, \"20\": 7, \"25\": 2, \"21\": 2}, \"56\": {\"56\": 148}, \"15\": {\"15\": 135, \"11\": 7}}, \"C_2\": {\"49\": {\"49\": 24}, \"13\": {\"13\": 116}, \"37\": {\"37\": 36}, \"41\": {\"41\": 19, \"18\": 1}, \"15\": {\"15\": 139, \"7\": 3}, \"56\": {\"56\": 139, \"11\": 1, \"0\": 2}, \"14\": {\"56\": 7, \"1\": 2, \"14\": 13, \"55\": 1, \"42\": 1}, \"3\": {\"3\": 89, \"52\": 2, \"21\": 1}, \"38\": {\"38\": 18, \"24\": 2}, \"43\": {\"43\": 138}, \"33\": {\"33\": 25, \"48\": 3}, \"47\": {\"47\": 138}, \"30\": {\"30\": 142, \"2\": 1, \"41\": 1}, \"39\": {\"39\": 28}, \"12\": {\"12\": 91, \"8\": 1}, \"6\": {\"6\": 99, \"30\": 1, \"50\": 12, \"46\": 4, \"25\": 7, \"52\": 1}, \"51\": {\"51\": 133, \"53\": 1}, \"5\": {\"5\": 120}, \"34\": {\"34\": 28}, \"35\": {\"35\": 25, \"40\": 3, \"9\": 4}, \"0\": {\"0\": 47, \"56\": 1}, \"7\": {\"7\": 29, \"15\": 7}, \"24\": {\"24\": 91, \"38\": 2, \"10\": 1, \"11\": 1, \"43\": 1}, \"8\": {\"8\": 136}, \"20\": {\"20\": 124}, \"36\": {\"36\": 116}, \"42\": {\"42\": 36}, \"1\": {\"1\": 112}, \"4\": {\"4\": 148}, \"28\": {\"28\": 28}, \"50\": {\"50\": 122, \"6\": 8, \"8\": 1, \"30\": 1, \"25\": 3, \"53\": 1}, \"45\": {\"45\": 119, \"35\": 1, \"9\": 5, \"17\": 1, \"4\": 2}, \"18\": {\"18\": 46, \"41\": 2}, \"57\": {\"57\": 119, \"1\": 1}, \"46\": {\"15\": 4, \"46\": 99, \"6\": 1, \"52\": 14, \"16\": 5, \"43\": 3, \"24\": 1, \"7\": 1}, \"23\": {\"23\": 148}, \"27\": {\"27\": 138}, \"19\": {\"19\": 134}, \"22\": {\"22\": 136}, \"17\": {\"17\": 97, \"54\": 7}, \"55\": {\"55\": 136}, \"44\": {\"44\": 100}, \"26\": {\"26\": 24}, \"31\": {\"31\": 27, \"28\": 1}, \"16\": {\"16\": 130}, \"11\": {\"11\": 128}, \"25\": {\"25\": 112, \"18\": 2, \"30\": 5, \"6\": 7}, \"54\": {\"54\": 99, \"17\": 9}, \"32\": {\"32\": 28}, \"52\": {\"52\": 120, \"46\": 4}, \"40\": {\"40\": 132}, \"2\": {\"2\": 31, \"23\": 1}, \"10\": {\"10\": 110}, \"53\": {\"53\": 136}, \"9\": {\"4\": 2, \"35\": 2, \"9\": 143, \"19\": 3}, \"21\": {\"21\": 120}, \"48\": {\"48\": 138}, \"29\": {\"29\": 128}}, \"C_1\": {\"9\": {\"9\": 142}, \"25\": {\"25\": 125, \"18\": 3}, \"41\": {\"41\": 24}, \"29\": {\"29\": 140}, \"46\": {\"46\": 123, \"53\": 5}, \"4\": {\"4\": 132}, \"31\": {\"31\": 27, \"15\": 1}, \"36\": {\"36\": 64}, \"20\": {\"20\": 126, \"13\": 2}, \"7\": {\"7\": 27, \"45\": 1}, \"6\": {\"6\": 95, \"17\": 1}, \"16\": {\"16\": 138}, \"17\": {\"17\": 64}, \"50\": {\"50\": 148}, \"57\": {\"57\": 137, \"56\": 1, \"1\": 6}, \"23\": {\"31\": 3, \"23\": 126, \"0\": 3, \"49\": 1, \"15\": 2, \"21\": 1}, \"3\": {\"3\": 126}, \"53\": {\"53\": 140}, \"49\": {\"49\": 25, \"31\": 2, \"15\": 1, \"21\": 3, \"0\": 1}, \"56\": {\"56\": 146, \"57\": 6}, \"51\": {\"51\": 140, \"20\": 2}, \"26\": {\"26\": 24}, \"43\": {\"43\": 144}, \"22\": {\"22\": 97, \"49\": 1, \"28\": 2, \"24\": 5, \"10\": 3, \"15\": 2, \"52\": 15, \"21\": 11}, \"45\": {\"45\": 145, \"7\": 1}, \"13\": {\"13\": 150, \"20\": 2}, \"12\": {\"12\": 116}, \"54\": {\"54\": 104}, \"24\": {\"24\": 79, \"28\": 2, \"49\": 4, \"21\": 11, \"22\": 9, \"52\": 2, \"15\": 1}, \"44\": {\"44\": 134, \"35\": 2}, \"28\": {\"24\": 2, \"28\": 24, \"52\": 2}, \"33\": {\"33\": 32}, \"38\": {\"38\": 23, \"0\": 1}, \"0\": {\"0\": 141, \"23\": 3}, \"47\": {\"47\": 154}, \"42\": {\"42\": 38, \"54\": 1, \"57\": 1}, \"34\": {\"34\": 24}, \"48\": {\"48\": 142}, \"35\": {\"35\": 36}, \"2\": {\"2\": 36}, \"30\": {\"30\": 120}, \"18\": {\"18\": 72}, \"37\": {\"37\": 32}, \"1\": {\"1\": 94, \"57\": 6}, \"11\": {\"11\": 131, \"10\": 7}, \"55\": {\"55\": 130}, \"15\": {\"15\": 128, \"49\": 1, \"23\": 5, \"21\": 12, \"24\": 4}, \"10\": {\"10\": 82, \"11\": 7, \"52\": 7}, \"27\": {\"27\": 160}, \"19\": {\"19\": 146}, \"14\": {\"30\": 7, \"14\": 9, \"26\": 1, \"46\": 1, \"51\": 1, \"9\": 2, \"25\": 2, \"53\": 1}, \"8\": {\"8\": 140}, \"5\": {\"5\": 128, \"9\": 8}, \"39\": {\"39\": 26, \"38\": 2}, \"52\": {\"52\": 102, \"22\": 12, \"11\": 1, \"21\": 2, \"24\": 2, \"28\": 1, \"10\": 2}, \"21\": {\"49\": 4, \"21\": 83, \"22\": 2, \"28\": 1, \"24\": 17, \"23\": 2, \"15\": 14, \"52\": 1}, \"40\": {\"40\": 150, \"29\": 2}, \"32\": {\"32\": 32}}, \"C_3\": {\"56\": {\"56\": 120}, \"4\": {\"4\": 146}, \"34\": {\"34\": 28, \"1\": 4}, \"52\": {\"52\": 134, \"3\": 2}, \"32\": {\"32\": 28}, \"46\": {\"46\": 115, \"16\": 5, \"52\": 7, \"25\": 1, \"15\": 5, \"26\": 2, \"5\": 1}, \"12\": {\"12\": 85, \"8\": 7}, \"20\": {\"20\": 126, \"50\": 6}, \"54\": {\"54\": 95, \"27\": 3, \"32\": 1, \"17\": 1}, \"22\": {\"22\": 140}, \"26\": {\"26\": 24}, \"31\": {\"31\": 28}, \"10\": {\"10\": 64}, \"27\": {\"27\": 144}, \"40\": {\"40\": 132, \"19\": 4}, \"28\": {\"28\": 27, \"35\": 1}, \"5\": {\"5\": 114, \"23\": 1, \"39\": 1}, \"30\": {\"30\": 120}, \"7\": {\"7\": 35, \"43\": 1}, \"18\": {\"18\": 84}, \"39\": {\"39\": 16}, \"50\": {\"18\": 2, \"20\": 22, \"52\": 13, \"50\": 92, \"3\": 4, \"38\": 2, \"53\": 1}, \"49\": {\"49\": 18, \"5\": 2}, \"43\": {\"43\": 122}, \"29\": {\"29\": 114}, \"35\": {\"35\": 25, \"1\": 3}, \"13\": {\"13\": 122, \"11\": 2}, \"36\": {\"36\": 100}, \"11\": {\"11\": 146}, \"57\": {\"57\": 117, \"35\": 2, \"1\": 5}, \"9\": {\"9\": 130}, \"25\": {\"25\": 104, \"30\": 4, \"6\": 10, \"50\": 2, \"18\": 8, \"12\": 1, \"33\": 1}, \"16\": {\"16\": 125, \"15\": 1}, \"53\": {\"53\": 118}, \"33\": {\"33\": 27, \"17\": 1}, \"51\": {\"51\": 128}, \"44\": {\"44\": 84, \"40\": 4}, \"48\": {\"48\": 114}, \"6\": {\"6\": 61, \"18\": 8, \"41\": 1, \"25\": 11, \"46\": 4, \"16\": 2, \"20\": 1}, \"23\": {\"23\": 144}, \"1\": {\"1\": 96, \"34\": 1, \"35\": 1, \"57\": 2}, \"17\": {\"17\": 106, \"54\": 2}, \"21\": {\"21\": 122}, \"14\": {\"28\": 4, \"14\": 21, \"22\": 6, \"34\": 1, \"1\": 1, \"35\": 1, \"0\": 2, \"56\": 1, \"57\": 3}, \"55\": {\"55\": 144}, \"41\": {\"41\": 28}, \"3\": {\"3\": 119, \"52\": 17, \"46\": 1, \"16\": 1}, \"38\": {\"38\": 28}, \"2\": {\"2\": 32}, \"8\": {\"8\": 142}, \"37\": {\"37\": 28}, \"45\": {\"54\": 1, \"45\": 56, \"4\": 2, \"32\": 1}, \"42\": {\"42\": 28}, \"24\": {\"24\": 96, \"7\": 3, \"43\": 5}, \"15\": {\"15\": 136}, \"0\": {\"0\": 122, \"55\": 2}, \"47\": {\"47\": 90, \"42\": 1, \"55\": 1}, \"19\": {\"19\": 118, \"40\": 2}}}, \"per_domain_accuracy\": {\"O_14\": {\"accuracy\": 0.72734375, \"source?\": true}, \"O_20\": {\"accuracy\": 0.5221354166666666, \"source?\": true}, \"O_50\": {\"accuracy\": 0.6846354166666667, \"source?\": true}, \"O_26\": {\"accuracy\": 0.48515625, \"source?\": true}, \"O_32\": {\"accuracy\": 0.6763020833333333, \"source?\": true}, \"O_44\": {\"accuracy\": 0.6549479166666666, \"source?\": true}, \"O_8\": {\"accuracy\": 0.6447916666666667, \"source?\": true}, \"O_38\": {\"accuracy\": 0.6390625, \"source?\": true}, \"C_4\": {\"accuracy\": 0.9610778443113772, \"source?\": false}, \"C_5\": {\"accuracy\": 0.9594972067039106, \"source?\": false}, \"C_2\": {\"accuracy\": 0.9691071428571428, \"source?\": false}, \"C_1\": {\"accuracy\": 0.9549932065217391, \"source?\": false}, \"C_3\": {\"accuracy\": 0.9573529411764706, \"source?\": false}}}, \"history\": {\"epoch_indices\": [1, 2, 3, 4, 5, 6], \"train_label_loss\": [1.790536660541381, 1.1786885802722757, 0.9043392945834924, 0.8713514483445102, 0.8477473848987194, 0.826538481248454], \"source_val_label_loss\": [1.4838238954544067, 0.9845415353775024, 0.9661253094673157, 0.8924430012702942, 0.8859315514564514, 0.8341344594955444], \"target_val_label_loss\": [1.2194602489471436, 0.20694710314273834, 0.1925038844347, 0.19828404486179352, 0.21996724605560303, 0.25567910075187683], \"source_val_acc_label\": [0.4119140625, 0.629296875, 0.6393229166666666, 0.6696940104166667, 0.6728841145833333, 0.6912109375], \"target_val_acc_label\": [0.7231785714285714, 0.9603571428571429, 0.955, 0.9594285714285714, 0.9525357142857143, 0.9511428571428572]}, \"dataset_metrics\": {\"source\": {\"train\": {\"n_unique_x\": 179200, \"n_unique_y\": 16, \"n_batch/episode\": 6720}, \"val\": {\"n_unique_x\": 38400, \"n_unique_y\": 16, \"n_batch/episode\": 960}, \"test\": {\"n_unique_x\": 38400, \"n_unique_y\": 16, \"n_batch/episode\": 960}}, \"target\": {\"train\": {\"n_unique_x\": 175158, \"n_unique_y\": 58, \"n_batch/episode\": 6317}, \"val\": {\"n_unique_x\": 37216, \"n_unique_y\": 58, \"n_batch/episode\": 875}, \"test\": {\"n_unique_x\": 37596, \"n_unique_y\": 58, \"n_batch/episode\": 886}}}}'"
      ]
     },
     "execution_count": 29,
     "metadata": {},
     "output_type": "execute_result"
    }
   ],
   "source": [
    "json.dumps(experiment)"
   ]
  }
 ],
 "metadata": {
  "celltoolbar": "Tags",
  "kernelspec": {
   "display_name": "Python 3 (ipykernel)",
   "language": "python",
   "name": "python3"
  },
  "language_info": {
   "codemirror_mode": {
    "name": "ipython",
    "version": 3
   },
   "file_extension": ".py",
   "mimetype": "text/x-python",
   "name": "python",
   "nbconvert_exporter": "python",
   "pygments_lexer": "ipython3",
   "version": "3.8.12"
  },
  "papermill": {
   "default_parameters": {},
   "duration": 1359.59332,
   "end_time": "2022-03-28T16:37:49.021898",
   "environment_variables": {},
   "exception": null,
   "input_path": "/root/csc500-main/csc500-notebooks/templates/tl_ptn_template.ipynb",
   "output_path": "trial.ipynb",
   "parameters": {
    "parameters": {
     "BEST_MODEL_PATH": "./best_model.pth",
     "NUM_LOGS_PER_EPOCH": 10,
     "criteria_for_best": "target_accuracy",
     "dataset_seed": 420,
     "datasets": [
      {
       "domain_prefix": "C_",
       "domains": [
        1,
        2,
        3,
        4,
        5
       ],
       "episode_transforms": [],
       "labels": [
        "1-10.",
        "1-11.",
        "1-15.",
        "1-16.",
        "1-17.",
        "1-18.",
        "1-19.",
        "10-4.",
        "10-7.",
        "11-1.",
        "11-14.",
        "11-17.",
        "11-20.",
        "11-7.",
        "13-20.",
        "13-8.",
        "14-10.",
        "14-11.",
        "14-14.",
        "14-7.",
        "15-1.",
        "15-20.",
        "16-1.",
        "16-16.",
        "17-10.",
        "17-11.",
        "17-2.",
        "19-1.",
        "19-16.",
        "19-19.",
        "19-20.",
        "19-3.",
        "2-10.",
        "2-11.",
        "2-17.",
        "2-18.",
        "2-20.",
        "2-3.",
        "2-4.",
        "2-5.",
        "2-6.",
        "2-7.",
        "2-8.",
        "3-13.",
        "3-18.",
        "3-3.",
        "4-1.",
        "4-10.",
        "4-11.",
        "4-19.",
        "5-5.",
        "6-15.",
        "7-10.",
        "7-14.",
        "8-18.",
        "8-20.",
        "8-3.",
        "8-8."
       ],
       "num_examples_per_domain_per_label": -1,
       "pickle_path": "/root/csc500-main/datasets/cores.stratified_ds.2022A.pkl",
       "source_or_target_dataset": "target",
       "x_transforms": [
        "unit_power",
        "jitter_256_5",
        "lowpass_+/-10MHz",
        "take_200"
       ]
      },
      {
       "domain_prefix": "O_",
       "domains": [
        32,
        38,
        8,
        44,
        14,
        50,
        20,
        26
       ],
       "episode_transforms": [],
       "labels": [
        "3123D52",
        "3123D65",
        "3123D79",
        "3123D80",
        "3123D54",
        "3123D70",
        "3123D7B",
        "3123D89",
        "3123D58",
        "3123D76",
        "3123D7D",
        "3123EFE",
        "3123D64",
        "3123D78",
        "3123D7E",
        "3124E4A"
       ],
       "num_examples_per_domain_per_label": 2000,
       "pickle_path": "/root/csc500-main/datasets/oracle.Run1_framed_2000Examples_stratified_ds.2022A.pkl",
       "source_or_target_dataset": "source",
       "x_transforms": [
        "unit_power",
        "jitter_256_5",
        "take_200",
        "resample_20Msps_to_25Msps"
       ]
      }
     ],
     "device": "cuda",
     "experiment_name": "tl_3-jitter5v2:oracle.run1.framed -> cores",
     "lr": 0.0001,
     "n_epoch": 50,
     "n_query": 2,
     "n_shot": 3,
     "n_way": 16,
     "patience": 3,
     "seed": 420,
     "test_k_factor": 2,
     "torch_default_dtype": "torch.float32",
     "train_k_factor": 3,
     "val_k_factor": 2,
     "x_net": [
      {
       "class": "nnReshape",
       "kargs": {
        "shape": [
         -1,
         1,
         2,
         256
        ]
       }
      },
      {
       "class": "Conv2d",
       "kargs": {
        "bias": false,
        "in_channels": 1,
        "kernel_size": [
         1,
         7
        ],
        "out_channels": 256,
        "padding": [
         0,
         3
        ]
       }
      },
      {
       "class": "ReLU",
       "kargs": {
        "inplace": true
       }
      },
      {
       "class": "BatchNorm2d",
       "kargs": {
        "num_features": 256
       }
      },
      {
       "class": "Conv2d",
       "kargs": {
        "bias": true,
        "in_channels": 256,
        "kernel_size": [
         2,
         7
        ],
        "out_channels": 80,
        "padding": [
         0,
         3
        ]
       }
      },
      {
       "class": "ReLU",
       "kargs": {
        "inplace": true
       }
      },
      {
       "class": "BatchNorm2d",
       "kargs": {
        "num_features": 80
       }
      },
      {
       "class": "Flatten",
       "kargs": {}
      },
      {
       "class": "Linear",
       "kargs": {
        "in_features": 20480,
        "out_features": 256
       }
      },
      {
       "class": "ReLU",
       "kargs": {
        "inplace": true
       }
      },
      {
       "class": "BatchNorm1d",
       "kargs": {
        "num_features": 256
       }
      },
      {
       "class": "Linear",
       "kargs": {
        "in_features": 256,
        "out_features": 256
       }
      }
     ],
     "x_shape": [
      2,
      256
     ]
    }
   },
   "start_time": "2022-03-28T16:15:09.428578",
   "version": "2.3.4"
  }
 },
 "nbformat": 4,
 "nbformat_minor": 5
}