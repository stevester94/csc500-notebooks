{
 "cells": [
  {
   "cell_type": "markdown",
   "id": "9fea5f46",
   "metadata": {
    "papermill": {
     "duration": 0.02976,
     "end_time": "2022-03-28T17:53:14.708049",
     "exception": false,
     "start_time": "2022-03-28T17:53:14.678289",
     "status": "completed"
    },
    "tags": []
   },
   "source": [
    "# Transfer Learning Template"
   ]
  },
  {
   "cell_type": "code",
   "execution_count": 1,
   "id": "0902182a",
   "metadata": {
    "execution": {
     "iopub.execute_input": "2022-03-28T17:53:14.768882Z",
     "iopub.status.busy": "2022-03-28T17:53:14.768018Z",
     "iopub.status.idle": "2022-03-28T17:53:16.693239Z",
     "shell.execute_reply": "2022-03-28T17:53:16.692413Z"
    },
    "papermill": {
     "duration": 1.96062,
     "end_time": "2022-03-28T17:53:16.693431",
     "exception": false,
     "start_time": "2022-03-28T17:53:14.732811",
     "status": "completed"
    },
    "tags": []
   },
   "outputs": [],
   "source": [
    "%load_ext autoreload\n",
    "%autoreload 2\n",
    "%matplotlib inline\n",
    "\n",
    "    \n",
    "import os, json, sys, time, random\n",
    "import numpy as np\n",
    "import torch\n",
    "from torch.optim import Adam\n",
    "from  easydict import EasyDict\n",
    "import matplotlib.pyplot as plt\n",
    "\n",
    "from steves_models.steves_ptn import Steves_Prototypical_Network\n",
    "\n",
    "from steves_utils.lazy_iterable_wrapper import Lazy_Iterable_Wrapper\n",
    "from steves_utils.iterable_aggregator import Iterable_Aggregator\n",
    "from steves_utils.ptn_train_eval_test_jig import  PTN_Train_Eval_Test_Jig\n",
    "from steves_utils.torch_sequential_builder import build_sequential\n",
    "from steves_utils.torch_utils import get_dataset_metrics, ptn_confusion_by_domain_over_dataloader\n",
    "from steves_utils.utils_v2 import (per_domain_accuracy_from_confusion, get_datasets_base_path)\n",
    "from steves_utils.PTN.utils import independent_accuracy_assesment\n",
    "\n",
    "from torch.utils.data import DataLoader\n",
    "\n",
    "from steves_utils.stratified_dataset.episodic_accessor import Episodic_Accessor_Factory\n",
    "\n",
    "from steves_utils.ptn_do_report import (\n",
    "    get_loss_curve,\n",
    "    get_results_table,\n",
    "    get_parameters_table,\n",
    "    get_domain_accuracies,\n",
    ")\n",
    "\n",
    "from steves_utils.transforms import get_chained_transform"
   ]
  },
  {
   "cell_type": "markdown",
   "id": "41c840b4",
   "metadata": {
    "papermill": {
     "duration": 0.019314,
     "end_time": "2022-03-28T17:53:16.736085",
     "exception": false,
     "start_time": "2022-03-28T17:53:16.716771",
     "status": "completed"
    },
    "tags": []
   },
   "source": [
    "# Allowed Parameters\n",
    "These are allowed parameters, not defaults\n",
    "Each of these values need to be present in the injected parameters (the notebook will raise an exception if they are not present)\n",
    "\n",
    "Papermill uses the cell tag \"parameters\" to inject the real parameters below this cell.\n",
    "Enable tags to see what I mean"
   ]
  },
  {
   "cell_type": "code",
   "execution_count": 2,
   "id": "fd44eb83",
   "metadata": {
    "execution": {
     "iopub.execute_input": "2022-03-28T17:53:16.786746Z",
     "iopub.status.busy": "2022-03-28T17:53:16.786164Z",
     "iopub.status.idle": "2022-03-28T17:53:16.812897Z",
     "shell.execute_reply": "2022-03-28T17:53:16.811976Z"
    },
    "papermill": {
     "duration": 0.052079,
     "end_time": "2022-03-28T17:53:16.813062",
     "exception": false,
     "start_time": "2022-03-28T17:53:16.760983",
     "status": "completed"
    },
    "tags": []
   },
   "outputs": [],
   "source": [
    "required_parameters = {\n",
    "    \"experiment_name\",\n",
    "    \"lr\",\n",
    "    \"device\",\n",
    "    \"seed\",\n",
    "    \"dataset_seed\",\n",
    "    \"n_shot\",\n",
    "    \"n_query\",\n",
    "    \"n_way\",\n",
    "    \"train_k_factor\",\n",
    "    \"val_k_factor\",\n",
    "    \"test_k_factor\",\n",
    "    \"n_epoch\",\n",
    "    \"patience\",\n",
    "    \"criteria_for_best\",\n",
    "    \"x_net\",\n",
    "    \"datasets\",\n",
    "    \"torch_default_dtype\",\n",
    "    \"NUM_LOGS_PER_EPOCH\",\n",
    "    \"BEST_MODEL_PATH\",\n",
    "    \"x_shape\",\n",
    "}"
   ]
  },
  {
   "cell_type": "code",
   "execution_count": 3,
   "id": "fa3f0049",
   "metadata": {
    "execution": {
     "iopub.execute_input": "2022-03-28T17:53:16.872374Z",
     "iopub.status.busy": "2022-03-28T17:53:16.871659Z",
     "iopub.status.idle": "2022-03-28T17:53:16.898419Z",
     "shell.execute_reply": "2022-03-28T17:53:16.897717Z"
    },
    "papermill": {
     "duration": 0.062038,
     "end_time": "2022-03-28T17:53:16.898577",
     "exception": false,
     "start_time": "2022-03-28T17:53:16.836539",
     "status": "completed"
    },
    "tags": [
     "parameters"
    ]
   },
   "outputs": [],
   "source": [
    "from steves_utils.CORES.utils import (\n",
    "    ALL_NODES,\n",
    "    ALL_NODES_MINIMUM_1000_EXAMPLES,\n",
    "    ALL_DAYS\n",
    ")\n",
    "\n",
    "from steves_utils.ORACLE.utils_v2 import (\n",
    "    ALL_DISTANCES_FEET_NARROWED,\n",
    "    ALL_RUNS,\n",
    "    ALL_SERIAL_NUMBERS,\n",
    ")\n",
    "\n",
    "standalone_parameters = {}\n",
    "standalone_parameters[\"experiment_name\"] = \"STANDALONE PTN\"\n",
    "standalone_parameters[\"lr\"] = 0.001\n",
    "standalone_parameters[\"device\"] = \"cuda\"\n",
    "\n",
    "standalone_parameters[\"seed\"] = 1337\n",
    "standalone_parameters[\"dataset_seed\"] = 1337\n",
    "\n",
    "standalone_parameters[\"n_way\"] = 8\n",
    "standalone_parameters[\"n_shot\"] = 3\n",
    "standalone_parameters[\"n_query\"]  = 2\n",
    "standalone_parameters[\"train_k_factor\"] = 1\n",
    "standalone_parameters[\"val_k_factor\"] = 2\n",
    "standalone_parameters[\"test_k_factor\"] = 2\n",
    "\n",
    "\n",
    "standalone_parameters[\"n_epoch\"] = 50\n",
    "\n",
    "standalone_parameters[\"patience\"] = 10\n",
    "standalone_parameters[\"criteria_for_best\"] = \"source_loss\"\n",
    "\n",
    "standalone_parameters[\"datasets\"] = [\n",
    "    {\n",
    "        \"labels\": ALL_SERIAL_NUMBERS,\n",
    "        \"domains\": ALL_DISTANCES_FEET_NARROWED,\n",
    "        \"num_examples_per_domain_per_label\": 100,\n",
    "        \"pickle_path\": os.path.join(get_datasets_base_path(), \"oracle.Run1_framed_2000Examples_stratified_ds.2022A.pkl\"),\n",
    "        \"source_or_target_dataset\": \"source\",\n",
    "        \"x_transforms\": [\"unit_mag\", \"minus_two\"],\n",
    "        \"episode_transforms\": [],\n",
    "        \"domain_prefix\": \"ORACLE_\"\n",
    "    },\n",
    "    {\n",
    "        \"labels\": ALL_NODES,\n",
    "        \"domains\": ALL_DAYS,\n",
    "        \"num_examples_per_domain_per_label\": 100,\n",
    "        \"pickle_path\": os.path.join(get_datasets_base_path(), \"cores.stratified_ds.2022A.pkl\"),\n",
    "        \"source_or_target_dataset\": \"target\",\n",
    "        \"x_transforms\": [\"unit_power\", \"times_zero\"],\n",
    "        \"episode_transforms\": [],\n",
    "        \"domain_prefix\": \"CORES_\"\n",
    "    }   \n",
    "]\n",
    "\n",
    "standalone_parameters[\"torch_default_dtype\"] = \"torch.float32\" \n",
    "\n",
    "\n",
    "\n",
    "standalone_parameters[\"x_net\"] =     [\n",
    "    {\"class\": \"nnReshape\", \"kargs\": {\"shape\":[-1, 1, 2, 256]}},\n",
    "    {\"class\": \"Conv2d\", \"kargs\": { \"in_channels\":1, \"out_channels\":256, \"kernel_size\":(1,7), \"bias\":False, \"padding\":(0,3), },},\n",
    "    {\"class\": \"ReLU\", \"kargs\": {\"inplace\": True}},\n",
    "    {\"class\": \"BatchNorm2d\", \"kargs\": {\"num_features\":256}},\n",
    "\n",
    "    {\"class\": \"Conv2d\", \"kargs\": { \"in_channels\":256, \"out_channels\":80, \"kernel_size\":(2,7), \"bias\":True, \"padding\":(0,3), },},\n",
    "    {\"class\": \"ReLU\", \"kargs\": {\"inplace\": True}},\n",
    "    {\"class\": \"BatchNorm2d\", \"kargs\": {\"num_features\":80}},\n",
    "    {\"class\": \"Flatten\", \"kargs\": {}},\n",
    "\n",
    "    {\"class\": \"Linear\", \"kargs\": {\"in_features\": 80*256, \"out_features\": 256}}, # 80 units per IQ pair\n",
    "    {\"class\": \"ReLU\", \"kargs\": {\"inplace\": True}},\n",
    "    {\"class\": \"BatchNorm1d\", \"kargs\": {\"num_features\":256}},\n",
    "\n",
    "    {\"class\": \"Linear\", \"kargs\": {\"in_features\": 256, \"out_features\": 256}},\n",
    "]\n",
    "\n",
    "# Parameters relevant to results\n",
    "# These parameters will basically never need to change\n",
    "standalone_parameters[\"NUM_LOGS_PER_EPOCH\"] = 10\n",
    "standalone_parameters[\"BEST_MODEL_PATH\"] = \"./best_model.pth\"\n",
    "\n",
    "\n",
    "\n",
    "\n"
   ]
  },
  {
   "cell_type": "code",
   "execution_count": 4,
   "id": "61ea1ddf",
   "metadata": {
    "execution": {
     "iopub.execute_input": "2022-03-28T17:53:16.962220Z",
     "iopub.status.busy": "2022-03-28T17:53:16.961241Z",
     "iopub.status.idle": "2022-03-28T17:53:16.986788Z",
     "shell.execute_reply": "2022-03-28T17:53:16.985971Z"
    },
    "papermill": {
     "duration": 0.061815,
     "end_time": "2022-03-28T17:53:16.986948",
     "exception": false,
     "start_time": "2022-03-28T17:53:16.925133",
     "status": "completed"
    },
    "tags": [
     "injected-parameters"
    ]
   },
   "outputs": [],
   "source": [
    "# Parameters\n",
    "parameters = {\n",
    "    \"experiment_name\": \"tl_3-jitter5v2:oracle.run1.framed -> cores\",\n",
    "    \"device\": \"cuda\",\n",
    "    \"lr\": 0.0001,\n",
    "    \"x_shape\": [2, 256],\n",
    "    \"n_shot\": 3,\n",
    "    \"n_query\": 2,\n",
    "    \"train_k_factor\": 3,\n",
    "    \"val_k_factor\": 2,\n",
    "    \"test_k_factor\": 2,\n",
    "    \"torch_default_dtype\": \"torch.float32\",\n",
    "    \"n_epoch\": 50,\n",
    "    \"patience\": 3,\n",
    "    \"criteria_for_best\": \"target_accuracy\",\n",
    "    \"x_net\": [\n",
    "        {\"class\": \"nnReshape\", \"kargs\": {\"shape\": [-1, 1, 2, 256]}},\n",
    "        {\n",
    "            \"class\": \"Conv2d\",\n",
    "            \"kargs\": {\n",
    "                \"in_channels\": 1,\n",
    "                \"out_channels\": 256,\n",
    "                \"kernel_size\": [1, 7],\n",
    "                \"bias\": False,\n",
    "                \"padding\": [0, 3],\n",
    "            },\n",
    "        },\n",
    "        {\"class\": \"ReLU\", \"kargs\": {\"inplace\": True}},\n",
    "        {\"class\": \"BatchNorm2d\", \"kargs\": {\"num_features\": 256}},\n",
    "        {\n",
    "            \"class\": \"Conv2d\",\n",
    "            \"kargs\": {\n",
    "                \"in_channels\": 256,\n",
    "                \"out_channels\": 80,\n",
    "                \"kernel_size\": [2, 7],\n",
    "                \"bias\": True,\n",
    "                \"padding\": [0, 3],\n",
    "            },\n",
    "        },\n",
    "        {\"class\": \"ReLU\", \"kargs\": {\"inplace\": True}},\n",
    "        {\"class\": \"BatchNorm2d\", \"kargs\": {\"num_features\": 80}},\n",
    "        {\"class\": \"Flatten\", \"kargs\": {}},\n",
    "        {\"class\": \"Linear\", \"kargs\": {\"in_features\": 20480, \"out_features\": 256}},\n",
    "        {\"class\": \"ReLU\", \"kargs\": {\"inplace\": True}},\n",
    "        {\"class\": \"BatchNorm1d\", \"kargs\": {\"num_features\": 256}},\n",
    "        {\"class\": \"Linear\", \"kargs\": {\"in_features\": 256, \"out_features\": 256}},\n",
    "    ],\n",
    "    \"NUM_LOGS_PER_EPOCH\": 10,\n",
    "    \"BEST_MODEL_PATH\": \"./best_model.pth\",\n",
    "    \"n_way\": 16,\n",
    "    \"datasets\": [\n",
    "        {\n",
    "            \"labels\": [\n",
    "                \"1-10.\",\n",
    "                \"1-11.\",\n",
    "                \"1-15.\",\n",
    "                \"1-16.\",\n",
    "                \"1-17.\",\n",
    "                \"1-18.\",\n",
    "                \"1-19.\",\n",
    "                \"10-4.\",\n",
    "                \"10-7.\",\n",
    "                \"11-1.\",\n",
    "                \"11-14.\",\n",
    "                \"11-17.\",\n",
    "                \"11-20.\",\n",
    "                \"11-7.\",\n",
    "                \"13-20.\",\n",
    "                \"13-8.\",\n",
    "                \"14-10.\",\n",
    "                \"14-11.\",\n",
    "                \"14-14.\",\n",
    "                \"14-7.\",\n",
    "                \"15-1.\",\n",
    "                \"15-20.\",\n",
    "                \"16-1.\",\n",
    "                \"16-16.\",\n",
    "                \"17-10.\",\n",
    "                \"17-11.\",\n",
    "                \"17-2.\",\n",
    "                \"19-1.\",\n",
    "                \"19-16.\",\n",
    "                \"19-19.\",\n",
    "                \"19-20.\",\n",
    "                \"19-3.\",\n",
    "                \"2-10.\",\n",
    "                \"2-11.\",\n",
    "                \"2-17.\",\n",
    "                \"2-18.\",\n",
    "                \"2-20.\",\n",
    "                \"2-3.\",\n",
    "                \"2-4.\",\n",
    "                \"2-5.\",\n",
    "                \"2-6.\",\n",
    "                \"2-7.\",\n",
    "                \"2-8.\",\n",
    "                \"3-13.\",\n",
    "                \"3-18.\",\n",
    "                \"3-3.\",\n",
    "                \"4-1.\",\n",
    "                \"4-10.\",\n",
    "                \"4-11.\",\n",
    "                \"4-19.\",\n",
    "                \"5-5.\",\n",
    "                \"6-15.\",\n",
    "                \"7-10.\",\n",
    "                \"7-14.\",\n",
    "                \"8-18.\",\n",
    "                \"8-20.\",\n",
    "                \"8-3.\",\n",
    "                \"8-8.\",\n",
    "            ],\n",
    "            \"domains\": [1, 2, 3, 4, 5],\n",
    "            \"num_examples_per_domain_per_label\": -1,\n",
    "            \"pickle_path\": \"/root/csc500-main/datasets/cores.stratified_ds.2022A.pkl\",\n",
    "            \"source_or_target_dataset\": \"target\",\n",
    "            \"x_transforms\": [\n",
    "                \"unit_power\",\n",
    "                \"jitter_256_5\",\n",
    "                \"lowpass_+/-10MHz\",\n",
    "                \"take_200\",\n",
    "            ],\n",
    "            \"episode_transforms\": [],\n",
    "            \"domain_prefix\": \"C_\",\n",
    "        },\n",
    "        {\n",
    "            \"labels\": [\n",
    "                \"3123D52\",\n",
    "                \"3123D65\",\n",
    "                \"3123D79\",\n",
    "                \"3123D80\",\n",
    "                \"3123D54\",\n",
    "                \"3123D70\",\n",
    "                \"3123D7B\",\n",
    "                \"3123D89\",\n",
    "                \"3123D58\",\n",
    "                \"3123D76\",\n",
    "                \"3123D7D\",\n",
    "                \"3123EFE\",\n",
    "                \"3123D64\",\n",
    "                \"3123D78\",\n",
    "                \"3123D7E\",\n",
    "                \"3124E4A\",\n",
    "            ],\n",
    "            \"domains\": [32, 38, 8, 44, 14, 50, 20, 26],\n",
    "            \"num_examples_per_domain_per_label\": 2000,\n",
    "            \"pickle_path\": \"/root/csc500-main/datasets/oracle.Run1_framed_2000Examples_stratified_ds.2022A.pkl\",\n",
    "            \"source_or_target_dataset\": \"source\",\n",
    "            \"x_transforms\": [\n",
    "                \"unit_power\",\n",
    "                \"jitter_256_5\",\n",
    "                \"take_200\",\n",
    "                \"resample_20Msps_to_25Msps\",\n",
    "            ],\n",
    "            \"episode_transforms\": [],\n",
    "            \"domain_prefix\": \"O_\",\n",
    "        },\n",
    "    ],\n",
    "    \"seed\": 500,\n",
    "    \"dataset_seed\": 500,\n",
    "}\n"
   ]
  },
  {
   "cell_type": "code",
   "execution_count": 5,
   "id": "8fa1cc33",
   "metadata": {
    "execution": {
     "iopub.execute_input": "2022-03-28T17:53:17.039882Z",
     "iopub.status.busy": "2022-03-28T17:53:17.038785Z",
     "iopub.status.idle": "2022-03-28T17:53:17.064040Z",
     "shell.execute_reply": "2022-03-28T17:53:17.063297Z"
    },
    "papermill": {
     "duration": 0.052395,
     "end_time": "2022-03-28T17:53:17.064199",
     "exception": false,
     "start_time": "2022-03-28T17:53:17.011804",
     "status": "completed"
    },
    "tags": []
   },
   "outputs": [],
   "source": [
    "# Set this to True if you want to run this template directly\n",
    "STANDALONE = False\n",
    "if STANDALONE:\n",
    "    print(\"parameters not injected, running with standalone_parameters\")\n",
    "    parameters = standalone_parameters\n",
    "\n",
    "if not 'parameters' in locals() and not 'parameters' in globals():\n",
    "    raise Exception(\"Parameter injection failed\")\n",
    "\n",
    "#Use an easy dict for all the parameters\n",
    "p = EasyDict(parameters)\n",
    "\n",
    "if \"x_shape\" not in p:\n",
    "    p.x_shape = [2,256] # Default to this if we dont supply x_shape\n",
    "\n",
    "\n",
    "supplied_keys = set(p.keys())\n",
    "\n",
    "if  supplied_keys != required_parameters:\n",
    "    print(\"Parameters are incorrect\")\n",
    "    if len(supplied_keys - required_parameters)>0: print(\"Shouldn't have:\", str(supplied_keys - required_parameters))\n",
    "    if len(required_parameters - supplied_keys)>0: print(\"Need to have:\", str(required_parameters - supplied_keys))\n",
    "    raise RuntimeError(\"Parameters are incorrect\")"
   ]
  },
  {
   "cell_type": "code",
   "execution_count": 6,
   "id": "3a028d58",
   "metadata": {
    "execution": {
     "iopub.execute_input": "2022-03-28T17:53:17.114738Z",
     "iopub.status.busy": "2022-03-28T17:53:17.113728Z",
     "iopub.status.idle": "2022-03-28T17:53:17.138334Z",
     "shell.execute_reply": "2022-03-28T17:53:17.137582Z"
    },
    "papermill": {
     "duration": 0.04822,
     "end_time": "2022-03-28T17:53:17.138495",
     "exception": false,
     "start_time": "2022-03-28T17:53:17.090275",
     "status": "completed"
    },
    "tags": []
   },
   "outputs": [],
   "source": [
    "###################################\n",
    "# Set the RNGs and make it all deterministic\n",
    "###################################\n",
    "np.random.seed(p.seed)\n",
    "random.seed(p.seed)\n",
    "torch.manual_seed(p.seed)\n",
    "\n",
    "torch.use_deterministic_algorithms(True) "
   ]
  },
  {
   "cell_type": "code",
   "execution_count": 7,
   "id": "b691acf6",
   "metadata": {
    "execution": {
     "iopub.execute_input": "2022-03-28T17:53:17.187661Z",
     "iopub.status.busy": "2022-03-28T17:53:17.187272Z",
     "iopub.status.idle": "2022-03-28T17:53:17.213227Z",
     "shell.execute_reply": "2022-03-28T17:53:17.212524Z"
    },
    "papermill": {
     "duration": 0.049674,
     "end_time": "2022-03-28T17:53:17.213386",
     "exception": false,
     "start_time": "2022-03-28T17:53:17.163712",
     "status": "completed"
    },
    "tags": []
   },
   "outputs": [],
   "source": [
    "###########################################\n",
    "# The stratified datasets honor this\n",
    "###########################################\n",
    "torch.set_default_dtype(eval(p.torch_default_dtype))"
   ]
  },
  {
   "cell_type": "code",
   "execution_count": 8,
   "id": "b5fba671",
   "metadata": {
    "execution": {
     "iopub.execute_input": "2022-03-28T17:53:17.264345Z",
     "iopub.status.busy": "2022-03-28T17:53:17.263975Z",
     "iopub.status.idle": "2022-03-28T17:53:17.336673Z",
     "shell.execute_reply": "2022-03-28T17:53:17.335939Z"
    },
    "papermill": {
     "duration": 0.095687,
     "end_time": "2022-03-28T17:53:17.336829",
     "exception": false,
     "start_time": "2022-03-28T17:53:17.241142",
     "status": "completed"
    },
    "tags": []
   },
   "outputs": [],
   "source": [
    "###################################\n",
    "# Build the network(s)\n",
    "# Note: It's critical to do this AFTER setting the RNG\n",
    "###################################\n",
    "x_net = build_sequential(p.x_net)"
   ]
  },
  {
   "cell_type": "code",
   "execution_count": 9,
   "id": "5d7e61cc",
   "metadata": {
    "execution": {
     "iopub.execute_input": "2022-03-28T17:53:17.383785Z",
     "iopub.status.busy": "2022-03-28T17:53:17.383402Z",
     "iopub.status.idle": "2022-03-28T17:53:17.408666Z",
     "shell.execute_reply": "2022-03-28T17:53:17.407636Z"
    },
    "papermill": {
     "duration": 0.048301,
     "end_time": "2022-03-28T17:53:17.408825",
     "exception": false,
     "start_time": "2022-03-28T17:53:17.360524",
     "status": "completed"
    },
    "tags": []
   },
   "outputs": [],
   "source": [
    "start_time_secs = time.time()"
   ]
  },
  {
   "cell_type": "code",
   "execution_count": 10,
   "id": "c6b67dfd",
   "metadata": {
    "execution": {
     "iopub.execute_input": "2022-03-28T17:53:17.458975Z",
     "iopub.status.busy": "2022-03-28T17:53:17.458609Z",
     "iopub.status.idle": "2022-03-28T17:53:17.482495Z",
     "shell.execute_reply": "2022-03-28T17:53:17.481785Z"
    },
    "papermill": {
     "duration": 0.047685,
     "end_time": "2022-03-28T17:53:17.482649",
     "exception": false,
     "start_time": "2022-03-28T17:53:17.434964",
     "status": "completed"
    },
    "tags": []
   },
   "outputs": [],
   "source": [
    "p.domains_source = []\n",
    "p.domains_target = []\n",
    "\n",
    "\n",
    "train_original_source = []\n",
    "val_original_source   = []\n",
    "test_original_source  = []\n",
    "\n",
    "train_original_target = []\n",
    "val_original_target   = []\n",
    "test_original_target  = []"
   ]
  },
  {
   "cell_type": "code",
   "execution_count": 11,
   "id": "e3d9c3d3",
   "metadata": {
    "execution": {
     "iopub.execute_input": "2022-03-28T17:53:17.530177Z",
     "iopub.status.busy": "2022-03-28T17:53:17.529815Z",
     "iopub.status.idle": "2022-03-28T17:53:17.552255Z",
     "shell.execute_reply": "2022-03-28T17:53:17.551516Z"
    },
    "papermill": {
     "duration": 0.044448,
     "end_time": "2022-03-28T17:53:17.552409",
     "exception": false,
     "start_time": "2022-03-28T17:53:17.507961",
     "status": "completed"
    },
    "tags": []
   },
   "outputs": [],
   "source": [
    "# global_x_transform_func = lambda x: normalize(x.to(torch.get_default_dtype()), \"unit_power\") # unit_power, unit_mag\n",
    "# global_x_transform_func = lambda x: normalize(x, \"unit_power\") # unit_power, unit_mag"
   ]
  },
  {
   "cell_type": "code",
   "execution_count": 12,
   "id": "acb78fd2",
   "metadata": {
    "execution": {
     "iopub.execute_input": "2022-03-28T17:53:17.610866Z",
     "iopub.status.busy": "2022-03-28T17:53:17.610015Z",
     "iopub.status.idle": "2022-03-28T17:53:17.630548Z",
     "shell.execute_reply": "2022-03-28T17:53:17.629845Z"
    },
    "papermill": {
     "duration": 0.052009,
     "end_time": "2022-03-28T17:53:17.630702",
     "exception": false,
     "start_time": "2022-03-28T17:53:17.578693",
     "status": "completed"
    },
    "tags": []
   },
   "outputs": [],
   "source": [
    "def add_dataset(\n",
    "    labels,\n",
    "    domains,\n",
    "    pickle_path,\n",
    "    x_transforms,\n",
    "    episode_transforms,\n",
    "    domain_prefix,\n",
    "    num_examples_per_domain_per_label,\n",
    "    source_or_target_dataset:str,\n",
    "    iterator_seed=p.seed,\n",
    "    dataset_seed=p.dataset_seed,\n",
    "    n_shot=p.n_shot,\n",
    "    n_way=p.n_way,\n",
    "    n_query=p.n_query,\n",
    "    train_val_test_k_factors=(p.train_k_factor,p.val_k_factor,p.test_k_factor),\n",
    "):\n",
    "   \n",
    "    if x_transforms == []: x_transform = None\n",
    "    else: x_transform = get_chained_transform(x_transforms)\n",
    "    \n",
    "    if episode_transforms == []: episode_transform = None\n",
    "    else: raise Exception(\"episode_transforms not implemented\")\n",
    "    \n",
    "    episode_transform = lambda tup, _prefix=domain_prefix: (_prefix + str(tup[0]), tup[1])\n",
    "\n",
    "\n",
    "    eaf = Episodic_Accessor_Factory(\n",
    "        labels=labels,\n",
    "        domains=domains,\n",
    "        num_examples_per_domain_per_label=num_examples_per_domain_per_label,\n",
    "        iterator_seed=iterator_seed,\n",
    "        dataset_seed=dataset_seed,\n",
    "        n_shot=n_shot,\n",
    "        n_way=n_way,\n",
    "        n_query=n_query,\n",
    "        train_val_test_k_factors=train_val_test_k_factors,\n",
    "        pickle_path=pickle_path,\n",
    "        x_transform_func=x_transform,\n",
    "    )\n",
    "\n",
    "    train, val, test = eaf.get_train(), eaf.get_val(), eaf.get_test()\n",
    "    train = Lazy_Iterable_Wrapper(train, episode_transform)\n",
    "    val = Lazy_Iterable_Wrapper(val, episode_transform)\n",
    "    test = Lazy_Iterable_Wrapper(test, episode_transform)\n",
    "\n",
    "    if source_or_target_dataset==\"source\":\n",
    "        train_original_source.append(train)\n",
    "        val_original_source.append(val)\n",
    "        test_original_source.append(test)\n",
    "\n",
    "        p.domains_source.extend(\n",
    "            [domain_prefix + str(u) for u in domains]\n",
    "        )\n",
    "    elif source_or_target_dataset==\"target\":\n",
    "        train_original_target.append(train)\n",
    "        val_original_target.append(val)\n",
    "        test_original_target.append(test)\n",
    "        p.domains_target.extend(\n",
    "            [domain_prefix + str(u) for u in domains]\n",
    "        )\n",
    "    else:\n",
    "        raise Exception(f\"invalid source_or_target_dataset: {source_or_target_dataset}\")\n",
    "    "
   ]
  },
  {
   "cell_type": "code",
   "execution_count": 13,
   "id": "fe266617",
   "metadata": {
    "execution": {
     "iopub.execute_input": "2022-03-28T17:53:17.678371Z",
     "iopub.status.busy": "2022-03-28T17:53:17.677920Z",
     "iopub.status.idle": "2022-03-28T17:55:09.485985Z",
     "shell.execute_reply": "2022-03-28T17:55:09.485242Z"
    },
    "papermill": {
     "duration": 111.830121,
     "end_time": "2022-03-28T17:55:09.486178",
     "exception": false,
     "start_time": "2022-03-28T17:53:17.656057",
     "status": "completed"
    },
    "tags": []
   },
   "outputs": [],
   "source": [
    "for ds in p.datasets:\n",
    "    add_dataset(**ds)"
   ]
  },
  {
   "cell_type": "code",
   "execution_count": 14,
   "id": "b90d65ac",
   "metadata": {
    "execution": {
     "iopub.execute_input": "2022-03-28T17:55:09.543375Z",
     "iopub.status.busy": "2022-03-28T17:55:09.542551Z",
     "iopub.status.idle": "2022-03-28T17:55:09.568157Z",
     "shell.execute_reply": "2022-03-28T17:55:09.567343Z"
    },
    "papermill": {
     "duration": 0.055789,
     "end_time": "2022-03-28T17:55:09.568319",
     "exception": false,
     "start_time": "2022-03-28T17:55:09.512530",
     "status": "completed"
    },
    "tags": []
   },
   "outputs": [],
   "source": [
    "# from steves_utils.CORES.utils import (\n",
    "#     ALL_NODES,\n",
    "#     ALL_NODES_MINIMUM_1000_EXAMPLES,\n",
    "#     ALL_DAYS\n",
    "# )\n",
    "\n",
    "# add_dataset(\n",
    "#     labels=ALL_NODES,\n",
    "#     domains = ALL_DAYS,\n",
    "#     num_examples_per_domain_per_label=100,\n",
    "#     pickle_path=os.path.join(get_datasets_base_path(), \"cores.stratified_ds.2022A.pkl\"),\n",
    "#     source_or_target_dataset=\"target\",\n",
    "#     x_transform_func=global_x_transform_func,\n",
    "#     domain_modifier=lambda u: f\"cores_{u}\"\n",
    "# )"
   ]
  },
  {
   "cell_type": "code",
   "execution_count": 15,
   "id": "76db484d",
   "metadata": {
    "execution": {
     "iopub.execute_input": "2022-03-28T17:55:09.619219Z",
     "iopub.status.busy": "2022-03-28T17:55:09.618847Z",
     "iopub.status.idle": "2022-03-28T17:55:09.638834Z",
     "shell.execute_reply": "2022-03-28T17:55:09.638042Z"
    },
    "papermill": {
     "duration": 0.042487,
     "end_time": "2022-03-28T17:55:09.638993",
     "exception": false,
     "start_time": "2022-03-28T17:55:09.596506",
     "status": "completed"
    },
    "tags": []
   },
   "outputs": [],
   "source": [
    "# from steves_utils.ORACLE.utils_v2 import (\n",
    "#     ALL_DISTANCES_FEET,\n",
    "#     ALL_RUNS,\n",
    "#     ALL_SERIAL_NUMBERS,\n",
    "# )\n",
    "\n",
    "\n",
    "# add_dataset(\n",
    "#     labels=ALL_SERIAL_NUMBERS,\n",
    "#     domains = list(set(ALL_DISTANCES_FEET) - {2,62}),\n",
    "#     num_examples_per_domain_per_label=100,\n",
    "#     pickle_path=os.path.join(get_datasets_base_path(), \"oracle.Run2_framed_2000Examples_stratified_ds.2022A.pkl\"),\n",
    "#     source_or_target_dataset=\"source\",\n",
    "#     x_transform_func=global_x_transform_func,\n",
    "#     domain_modifier=lambda u: f\"oracle1_{u}\"\n",
    "# )\n"
   ]
  },
  {
   "cell_type": "code",
   "execution_count": 16,
   "id": "97dea9d2",
   "metadata": {
    "execution": {
     "iopub.execute_input": "2022-03-28T17:55:09.688854Z",
     "iopub.status.busy": "2022-03-28T17:55:09.688486Z",
     "iopub.status.idle": "2022-03-28T17:55:09.707184Z",
     "shell.execute_reply": "2022-03-28T17:55:09.706510Z"
    },
    "papermill": {
     "duration": 0.041057,
     "end_time": "2022-03-28T17:55:09.707347",
     "exception": false,
     "start_time": "2022-03-28T17:55:09.666290",
     "status": "completed"
    },
    "tags": []
   },
   "outputs": [],
   "source": [
    "# from steves_utils.ORACLE.utils_v2 import (\n",
    "#     ALL_DISTANCES_FEET,\n",
    "#     ALL_RUNS,\n",
    "#     ALL_SERIAL_NUMBERS,\n",
    "# )\n",
    "\n",
    "\n",
    "# add_dataset(\n",
    "#     labels=ALL_SERIAL_NUMBERS,\n",
    "#     domains = list(set(ALL_DISTANCES_FEET) - {2,62,56}),\n",
    "#     num_examples_per_domain_per_label=100,\n",
    "#     pickle_path=os.path.join(get_datasets_base_path(), \"oracle.Run2_framed_2000Examples_stratified_ds.2022A.pkl\"),\n",
    "#     source_or_target_dataset=\"source\",\n",
    "#     x_transform_func=global_x_transform_func,\n",
    "#     domain_modifier=lambda u: f\"oracle2_{u}\"\n",
    "# )"
   ]
  },
  {
   "cell_type": "code",
   "execution_count": 17,
   "id": "6f289866",
   "metadata": {
    "execution": {
     "iopub.execute_input": "2022-03-28T17:55:09.757843Z",
     "iopub.status.busy": "2022-03-28T17:55:09.757471Z",
     "iopub.status.idle": "2022-03-28T17:55:09.778302Z",
     "shell.execute_reply": "2022-03-28T17:55:09.777607Z"
    },
    "papermill": {
     "duration": 0.043864,
     "end_time": "2022-03-28T17:55:09.778462",
     "exception": false,
     "start_time": "2022-03-28T17:55:09.734598",
     "status": "completed"
    },
    "tags": []
   },
   "outputs": [],
   "source": [
    "# add_dataset(\n",
    "#     labels=list(range(19)),\n",
    "#     domains = [0,1,2],\n",
    "#     num_examples_per_domain_per_label=100,\n",
    "#     pickle_path=os.path.join(get_datasets_base_path(), \"metehan.stratified_ds.2022A.pkl\"),\n",
    "#     source_or_target_dataset=\"target\",\n",
    "#     x_transform_func=global_x_transform_func,\n",
    "#     domain_modifier=lambda u: f\"met_{u}\"\n",
    "# )"
   ]
  },
  {
   "cell_type": "code",
   "execution_count": 18,
   "id": "86a863c3",
   "metadata": {
    "execution": {
     "iopub.execute_input": "2022-03-28T17:55:09.826633Z",
     "iopub.status.busy": "2022-03-28T17:55:09.826265Z",
     "iopub.status.idle": "2022-03-28T17:55:09.843011Z",
     "shell.execute_reply": "2022-03-28T17:55:09.842308Z"
    },
    "papermill": {
     "duration": 0.038986,
     "end_time": "2022-03-28T17:55:09.843167",
     "exception": false,
     "start_time": "2022-03-28T17:55:09.804181",
     "status": "completed"
    },
    "tags": []
   },
   "outputs": [],
   "source": [
    "# # from steves_utils.wisig.utils import (\n",
    "# #     ALL_NODES_MINIMUM_100_EXAMPLES,\n",
    "# #     ALL_NODES_MINIMUM_500_EXAMPLES,\n",
    "# #     ALL_NODES_MINIMUM_1000_EXAMPLES,\n",
    "# #     ALL_DAYS\n",
    "# # )\n",
    "\n",
    "# import steves_utils.wisig.utils as wisig\n",
    "\n",
    "\n",
    "# add_dataset(\n",
    "#     labels=wisig.ALL_NODES_MINIMUM_100_EXAMPLES,\n",
    "#     domains = wisig.ALL_DAYS,\n",
    "#     num_examples_per_domain_per_label=100,\n",
    "#     pickle_path=os.path.join(get_datasets_base_path(), \"wisig.node3-19.stratified_ds.2022A.pkl\"),\n",
    "#     source_or_target_dataset=\"target\",\n",
    "#     x_transform_func=global_x_transform_func,\n",
    "#     domain_modifier=lambda u: f\"wisig_{u}\"\n",
    "# )"
   ]
  },
  {
   "cell_type": "code",
   "execution_count": 19,
   "id": "fd5442bc",
   "metadata": {
    "execution": {
     "iopub.execute_input": "2022-03-28T17:55:09.899000Z",
     "iopub.status.busy": "2022-03-28T17:55:09.898425Z",
     "iopub.status.idle": "2022-03-28T17:55:09.918755Z",
     "shell.execute_reply": "2022-03-28T17:55:09.918054Z"
    },
    "papermill": {
     "duration": 0.046485,
     "end_time": "2022-03-28T17:55:09.918912",
     "exception": false,
     "start_time": "2022-03-28T17:55:09.872427",
     "status": "completed"
    },
    "tags": []
   },
   "outputs": [],
   "source": [
    "###################################\n",
    "# Build the dataset\n",
    "###################################\n",
    "train_original_source = Iterable_Aggregator(train_original_source, p.seed)\n",
    "val_original_source = Iterable_Aggregator(val_original_source, p.seed)\n",
    "test_original_source = Iterable_Aggregator(test_original_source, p.seed)\n",
    "\n",
    "\n",
    "train_original_target = Iterable_Aggregator(train_original_target, p.seed)\n",
    "val_original_target = Iterable_Aggregator(val_original_target, p.seed)\n",
    "test_original_target = Iterable_Aggregator(test_original_target, p.seed)\n",
    "\n",
    "# For CNN We only use X and Y. And we only train on the source.\n",
    "# Properly form the data using a transform lambda and Lazy_Iterable_Wrapper. Finally wrap them in a dataloader\n",
    "\n",
    "transform_lambda = lambda ex: ex[1] # Original is (<domain>, <episode>) so we strip down to episode only\n",
    "\n",
    "train_processed_source = Lazy_Iterable_Wrapper(train_original_source, transform_lambda)\n",
    "val_processed_source   = Lazy_Iterable_Wrapper(val_original_source, transform_lambda)\n",
    "test_processed_source  = Lazy_Iterable_Wrapper(test_original_source, transform_lambda)\n",
    "\n",
    "train_processed_target = Lazy_Iterable_Wrapper(train_original_target, transform_lambda)\n",
    "val_processed_target   = Lazy_Iterable_Wrapper(val_original_target, transform_lambda)\n",
    "test_processed_target  = Lazy_Iterable_Wrapper(test_original_target, transform_lambda)\n",
    "\n",
    "datasets = EasyDict({\n",
    "    \"source\": {\n",
    "        \"original\": {\"train\":train_original_source, \"val\":val_original_source, \"test\":test_original_source},\n",
    "        \"processed\": {\"train\":train_processed_source, \"val\":val_processed_source, \"test\":test_processed_source}\n",
    "    },\n",
    "    \"target\": {\n",
    "        \"original\": {\"train\":train_original_target, \"val\":val_original_target, \"test\":test_original_target},\n",
    "        \"processed\": {\"train\":train_processed_target, \"val\":val_processed_target, \"test\":test_processed_target}\n",
    "    },\n",
    "})"
   ]
  },
  {
   "cell_type": "code",
   "execution_count": 20,
   "id": "5b3c01fc",
   "metadata": {
    "execution": {
     "iopub.execute_input": "2022-03-28T17:55:09.970104Z",
     "iopub.status.busy": "2022-03-28T17:55:09.969545Z",
     "iopub.status.idle": "2022-03-28T17:55:24.486098Z",
     "shell.execute_reply": "2022-03-28T17:55:24.486843Z"
    },
    "papermill": {
     "duration": 14.542704,
     "end_time": "2022-03-28T17:55:24.487061",
     "exception": false,
     "start_time": "2022-03-28T17:55:09.944357",
     "status": "completed"
    },
    "tags": []
   },
   "outputs": [
    {
     "name": "stdout",
     "output_type": "stream",
     "text": [
      "{'O_20', 'O_14', 'O_44', 'O_8', 'O_50', 'O_26', 'O_32', 'O_38'}\n"
     ]
    },
    {
     "name": "stdout",
     "output_type": "stream",
     "text": [
      "{'C_2', 'C_5', 'C_3', 'C_1', 'C_4'}\n"
     ]
    },
    {
     "name": "stdout",
     "output_type": "stream",
     "text": [
      "tensor([[[0., 0., 0.,  ..., 0., 0., 0.],\n",
      "         [0., 0., 0.,  ..., 0., 0., 0.]],\n",
      "\n",
      "        [[0., 0., 0.,  ..., 0., 0., 0.],\n",
      "         [0., 0., 0.,  ..., 0., 0., 0.]],\n",
      "\n",
      "        [[0., 0., 0.,  ..., 0., 0., 0.],\n",
      "         [0., 0., 0.,  ..., 0., 0., 0.]],\n",
      "\n",
      "        ...,\n",
      "\n",
      "        [[0., 0., 0.,  ..., 0., 0., 0.],\n",
      "         [0., 0., 0.,  ..., 0., 0., 0.]],\n",
      "\n",
      "        [[0., 0., 0.,  ..., 0., 0., 0.],\n",
      "         [0., 0., 0.,  ..., 0., 0., 0.]],\n",
      "\n",
      "        [[0., 0., 0.,  ..., 0., 0., 0.],\n",
      "         [0., 0., 0.,  ..., 0., 0., 0.]]])\n"
     ]
    }
   ],
   "source": [
    "from steves_utils.transforms import get_average_magnitude, get_average_power\n",
    "\n",
    "print(set([u for u,_ in val_original_source]))\n",
    "print(set([u for u,_ in val_original_target]))\n",
    "\n",
    "s_x, s_y, q_x, q_y, _ = next(iter(train_processed_source))\n",
    "print(s_x)\n",
    "\n",
    "# for ds in [\n",
    "#     train_processed_source,\n",
    "#     val_processed_source,\n",
    "#     test_processed_source,\n",
    "#     train_processed_target,\n",
    "#     val_processed_target,\n",
    "#     test_processed_target\n",
    "# ]:\n",
    "#     for s_x, s_y, q_x, q_y, _ in ds:\n",
    "#         for X in (s_x, q_x):\n",
    "#             for x in X:\n",
    "#                 assert np.isclose(get_average_magnitude(x.numpy()), 1.0)\n",
    "#                 assert np.isclose(get_average_power(x.numpy()), 1.0)\n",
    "                "
   ]
  },
  {
   "cell_type": "code",
   "execution_count": 21,
   "id": "bbdacba1",
   "metadata": {
    "execution": {
     "iopub.execute_input": "2022-03-28T17:55:24.547286Z",
     "iopub.status.busy": "2022-03-28T17:55:24.546715Z",
     "iopub.status.idle": "2022-03-28T17:55:24.762436Z",
     "shell.execute_reply": "2022-03-28T17:55:24.762747Z"
    },
    "papermill": {
     "duration": 0.248388,
     "end_time": "2022-03-28T17:55:24.762864",
     "exception": false,
     "start_time": "2022-03-28T17:55:24.514476",
     "status": "completed"
    },
    "tags": []
   },
   "outputs": [
    {
     "name": "stdout",
     "output_type": "stream",
     "text": [
      "(2, 256)\n"
     ]
    }
   ],
   "source": [
    "###################################\n",
    "# Build the model\n",
    "###################################\n",
    "# easfsl only wants a tuple for the shape\n",
    "model = Steves_Prototypical_Network(x_net, device=p.device, x_shape=tuple(p.x_shape))\n",
    "optimizer = Adam(params=model.parameters(), lr=p.lr)"
   ]
  },
  {
   "cell_type": "code",
   "execution_count": 22,
   "id": "22b39ac5",
   "metadata": {
    "execution": {
     "iopub.execute_input": "2022-03-28T17:55:24.812250Z",
     "iopub.status.busy": "2022-03-28T17:55:24.811880Z",
     "iopub.status.idle": "2022-03-28T18:15:40.268989Z",
     "shell.execute_reply": "2022-03-28T18:15:40.268637Z"
    },
    "papermill": {
     "duration": 1215.483941,
     "end_time": "2022-03-28T18:15:40.269076",
     "exception": false,
     "start_time": "2022-03-28T17:55:24.785135",
     "status": "completed"
    },
    "tags": []
   },
   "outputs": [
    {
     "name": "stdout",
     "output_type": "stream",
     "text": [
      "epoch: 1, [batch: 1 / 6720], examples_per_second: 32.7071, train_label_loss: 2.7071, \n"
     ]
    },
    {
     "name": "stdout",
     "output_type": "stream",
     "text": [
      "epoch: 1, [batch: 672 / 6720], examples_per_second: 3757.9163, train_label_loss: 2.6766, \n"
     ]
    },
    {
     "name": "stdout",
     "output_type": "stream",
     "text": [
      "epoch: 1, [batch: 1344 / 6720], examples_per_second: 4049.2761, train_label_loss: 2.7891, \n"
     ]
    },
    {
     "name": "stdout",
     "output_type": "stream",
     "text": [
      "epoch: 1, [batch: 2016 / 6720], examples_per_second: 3538.5794, train_label_loss: 1.6441, \n"
     ]
    },
    {
     "name": "stdout",
     "output_type": "stream",
     "text": [
      "epoch: 1, [batch: 2688 / 6720], examples_per_second: 3522.2328, train_label_loss: 1.3961, \n"
     ]
    },
    {
     "name": "stdout",
     "output_type": "stream",
     "text": [
      "epoch: 1, [batch: 3360 / 6720], examples_per_second: 2996.6714, train_label_loss: 1.3837, \n"
     ]
    },
    {
     "name": "stdout",
     "output_type": "stream",
     "text": [
      "epoch: 1, [batch: 4032 / 6720], examples_per_second: 2940.4392, train_label_loss: 1.7183, \n"
     ]
    },
    {
     "name": "stdout",
     "output_type": "stream",
     "text": [
      "epoch: 1, [batch: 4704 / 6720], examples_per_second: 2938.4114, train_label_loss: 1.2438, \n"
     ]
    },
    {
     "name": "stdout",
     "output_type": "stream",
     "text": [
      "epoch: 1, [batch: 5376 / 6720], examples_per_second: 2959.1870, train_label_loss: 1.3555, \n"
     ]
    },
    {
     "name": "stdout",
     "output_type": "stream",
     "text": [
      "epoch: 1, [batch: 6048 / 6720], examples_per_second: 2956.9463, train_label_loss: 1.2013, \n"
     ]
    },
    {
     "name": "stdout",
     "output_type": "stream",
     "text": [
      "=============================================================\n",
      "epoch: 1, source_val_acc_label: 0.5869, target_val_acc_label: 0.9209, source_val_label_loss: 1.1083, target_val_label_loss: 2.7252, \n",
      "=============================================================\n"
     ]
    },
    {
     "name": "stdout",
     "output_type": "stream",
     "text": [
      "New best\n"
     ]
    },
    {
     "name": "stdout",
     "output_type": "stream",
     "text": [
      "epoch: 2, [batch: 1 / 6720], examples_per_second: 2.7979, train_label_loss: 0.9215, \n"
     ]
    },
    {
     "name": "stdout",
     "output_type": "stream",
     "text": [
      "epoch: 2, [batch: 672 / 6720], examples_per_second: 3387.1469, train_label_loss: 1.2968, \n"
     ]
    },
    {
     "name": "stdout",
     "output_type": "stream",
     "text": [
      "epoch: 2, [batch: 1344 / 6720], examples_per_second: 3884.8968, train_label_loss: 1.1647, \n"
     ]
    },
    {
     "name": "stdout",
     "output_type": "stream",
     "text": [
      "epoch: 2, [batch: 2016 / 6720], examples_per_second: 3464.7469, train_label_loss: 1.0647, \n"
     ]
    },
    {
     "name": "stdout",
     "output_type": "stream",
     "text": [
      "epoch: 2, [batch: 2688 / 6720], examples_per_second: 3438.5121, train_label_loss: 0.8938, \n"
     ]
    },
    {
     "name": "stdout",
     "output_type": "stream",
     "text": [
      "epoch: 2, [batch: 3360 / 6720], examples_per_second: 2951.0861, train_label_loss: 1.0500, \n"
     ]
    },
    {
     "name": "stdout",
     "output_type": "stream",
     "text": [
      "epoch: 2, [batch: 4032 / 6720], examples_per_second: 2989.1076, train_label_loss: 1.1528, \n"
     ]
    },
    {
     "name": "stdout",
     "output_type": "stream",
     "text": [
      "epoch: 2, [batch: 4704 / 6720], examples_per_second: 3020.8061, train_label_loss: 0.7771, \n"
     ]
    },
    {
     "name": "stdout",
     "output_type": "stream",
     "text": [
      "epoch: 2, [batch: 5376 / 6720], examples_per_second: 3009.4264, train_label_loss: 1.0754, \n"
     ]
    },
    {
     "name": "stdout",
     "output_type": "stream",
     "text": [
      "epoch: 2, [batch: 6048 / 6720], examples_per_second: 3013.2278, train_label_loss: 0.7385, \n"
     ]
    },
    {
     "name": "stdout",
     "output_type": "stream",
     "text": [
      "=============================================================\n",
      "epoch: 2, source_val_acc_label: 0.6622, target_val_acc_label: 0.9624, source_val_label_loss: 0.8923, target_val_label_loss: 0.2336, \n",
      "=============================================================\n"
     ]
    },
    {
     "name": "stdout",
     "output_type": "stream",
     "text": [
      "New best\n"
     ]
    },
    {
     "name": "stdout",
     "output_type": "stream",
     "text": [
      "epoch: 3, [batch: 1 / 6720], examples_per_second: 2.8977, train_label_loss: 1.3162, \n"
     ]
    },
    {
     "name": "stdout",
     "output_type": "stream",
     "text": [
      "epoch: 3, [batch: 672 / 6720], examples_per_second: 3422.5386, train_label_loss: 0.7832, \n"
     ]
    },
    {
     "name": "stdout",
     "output_type": "stream",
     "text": [
      "epoch: 3, [batch: 1344 / 6720], examples_per_second: 3856.2344, train_label_loss: 0.5654, \n"
     ]
    },
    {
     "name": "stdout",
     "output_type": "stream",
     "text": [
      "epoch: 3, [batch: 2016 / 6720], examples_per_second: 3463.9237, train_label_loss: 0.6475, \n"
     ]
    },
    {
     "name": "stdout",
     "output_type": "stream",
     "text": [
      "epoch: 3, [batch: 2688 / 6720], examples_per_second: 3429.4712, train_label_loss: 0.7875, \n"
     ]
    },
    {
     "name": "stdout",
     "output_type": "stream",
     "text": [
      "epoch: 3, [batch: 3360 / 6720], examples_per_second: 2984.9594, train_label_loss: 0.6785, \n"
     ]
    },
    {
     "name": "stdout",
     "output_type": "stream",
     "text": [
      "epoch: 3, [batch: 4032 / 6720], examples_per_second: 3000.2841, train_label_loss: 0.8317, \n"
     ]
    },
    {
     "name": "stdout",
     "output_type": "stream",
     "text": [
      "epoch: 3, [batch: 4704 / 6720], examples_per_second: 2955.8631, train_label_loss: 0.8518, \n"
     ]
    },
    {
     "name": "stdout",
     "output_type": "stream",
     "text": [
      "epoch: 3, [batch: 5376 / 6720], examples_per_second: 3002.8855, train_label_loss: 1.2648, \n"
     ]
    },
    {
     "name": "stdout",
     "output_type": "stream",
     "text": [
      "epoch: 3, [batch: 6048 / 6720], examples_per_second: 3063.2234, train_label_loss: 1.0579, \n"
     ]
    },
    {
     "name": "stdout",
     "output_type": "stream",
     "text": [
      "=============================================================\n",
      "epoch: 3, source_val_acc_label: 0.6618, target_val_acc_label: 0.9483, source_val_label_loss: 0.8905, target_val_label_loss: 0.2814, \n",
      "=============================================================\n"
     ]
    },
    {
     "name": "stdout",
     "output_type": "stream",
     "text": [
      "epoch: 4, [batch: 1 / 6720], examples_per_second: 2.8662, train_label_loss: 0.7016, \n"
     ]
    },
    {
     "name": "stdout",
     "output_type": "stream",
     "text": [
      "epoch: 4, [batch: 672 / 6720], examples_per_second: 3391.9038, train_label_loss: 0.7444, \n"
     ]
    },
    {
     "name": "stdout",
     "output_type": "stream",
     "text": [
      "epoch: 4, [batch: 1344 / 6720], examples_per_second: 3663.1770, train_label_loss: 0.5487, \n"
     ]
    },
    {
     "name": "stdout",
     "output_type": "stream",
     "text": [
      "epoch: 4, [batch: 2016 / 6720], examples_per_second: 3397.9600, train_label_loss: 0.5487, \n"
     ]
    },
    {
     "name": "stdout",
     "output_type": "stream",
     "text": [
      "epoch: 4, [batch: 2688 / 6720], examples_per_second: 3285.2194, train_label_loss: 1.1959, \n"
     ]
    },
    {
     "name": "stdout",
     "output_type": "stream",
     "text": [
      "epoch: 4, [batch: 3360 / 6720], examples_per_second: 3068.9408, train_label_loss: 1.1061, \n"
     ]
    },
    {
     "name": "stdout",
     "output_type": "stream",
     "text": [
      "epoch: 4, [batch: 4032 / 6720], examples_per_second: 3048.4676, train_label_loss: 1.3068, \n"
     ]
    },
    {
     "name": "stdout",
     "output_type": "stream",
     "text": [
      "epoch: 4, [batch: 4704 / 6720], examples_per_second: 2989.6112, train_label_loss: 1.4796, \n"
     ]
    },
    {
     "name": "stdout",
     "output_type": "stream",
     "text": [
      "epoch: 4, [batch: 5376 / 6720], examples_per_second: 3016.1604, train_label_loss: 1.1582, \n"
     ]
    },
    {
     "name": "stdout",
     "output_type": "stream",
     "text": [
      "epoch: 4, [batch: 6048 / 6720], examples_per_second: 3013.1098, train_label_loss: 0.9034, \n"
     ]
    },
    {
     "name": "stdout",
     "output_type": "stream",
     "text": [
      "=============================================================\n",
      "epoch: 4, source_val_acc_label: 0.6916, target_val_acc_label: 0.9420, source_val_label_loss: 0.8203, target_val_label_loss: 0.3438, \n",
      "=============================================================\n"
     ]
    },
    {
     "name": "stdout",
     "output_type": "stream",
     "text": [
      "epoch: 5, [batch: 1 / 6720], examples_per_second: 2.9195, train_label_loss: 0.6056, \n"
     ]
    },
    {
     "name": "stdout",
     "output_type": "stream",
     "text": [
      "epoch: 5, [batch: 672 / 6720], examples_per_second: 3398.5537, train_label_loss: 0.7375, \n"
     ]
    },
    {
     "name": "stdout",
     "output_type": "stream",
     "text": [
      "epoch: 5, [batch: 1344 / 6720], examples_per_second: 3687.1894, train_label_loss: 0.6623, \n"
     ]
    },
    {
     "name": "stdout",
     "output_type": "stream",
     "text": [
      "epoch: 5, [batch: 2016 / 6720], examples_per_second: 3413.2230, train_label_loss: 0.5208, \n"
     ]
    },
    {
     "name": "stdout",
     "output_type": "stream",
     "text": [
      "epoch: 5, [batch: 2688 / 6720], examples_per_second: 3203.7746, train_label_loss: 0.5477, \n"
     ]
    },
    {
     "name": "stdout",
     "output_type": "stream",
     "text": [
      "epoch: 5, [batch: 3360 / 6720], examples_per_second: 2992.9064, train_label_loss: 0.7939, \n"
     ]
    },
    {
     "name": "stdout",
     "output_type": "stream",
     "text": [
      "epoch: 5, [batch: 4032 / 6720], examples_per_second: 3050.3793, train_label_loss: 0.8191, \n"
     ]
    },
    {
     "name": "stdout",
     "output_type": "stream",
     "text": [
      "epoch: 5, [batch: 4704 / 6720], examples_per_second: 2984.1910, train_label_loss: 0.5855, \n"
     ]
    },
    {
     "name": "stdout",
     "output_type": "stream",
     "text": [
      "epoch: 5, [batch: 5376 / 6720], examples_per_second: 2979.8809, train_label_loss: 0.5859, \n"
     ]
    },
    {
     "name": "stdout",
     "output_type": "stream",
     "text": [
      "epoch: 5, [batch: 6048 / 6720], examples_per_second: 2968.9278, train_label_loss: 1.0572, \n"
     ]
    },
    {
     "name": "stdout",
     "output_type": "stream",
     "text": [
      "=============================================================\n",
      "epoch: 5, source_val_acc_label: 0.6970, target_val_acc_label: 0.9358, source_val_label_loss: 0.8011, target_val_label_loss: 0.3522, \n",
      "=============================================================\n"
     ]
    },
    {
     "name": "stdout",
     "output_type": "stream",
     "text": [
      "epoch: 6, [batch: 1 / 6720], examples_per_second: 2.8975, train_label_loss: 1.1914, \n"
     ]
    },
    {
     "name": "stdout",
     "output_type": "stream",
     "text": [
      "epoch: 6, [batch: 672 / 6720], examples_per_second: 3631.6103, train_label_loss: 0.5475, \n"
     ]
    },
    {
     "name": "stdout",
     "output_type": "stream",
     "text": [
      "epoch: 6, [batch: 1344 / 6720], examples_per_second: 3616.2182, train_label_loss: 0.7440, \n"
     ]
    },
    {
     "name": "stdout",
     "output_type": "stream",
     "text": [
      "epoch: 6, [batch: 2016 / 6720], examples_per_second: 3483.6424, train_label_loss: 0.9199, \n"
     ]
    },
    {
     "name": "stdout",
     "output_type": "stream",
     "text": [
      "epoch: 6, [batch: 2688 / 6720], examples_per_second: 3477.8237, train_label_loss: 0.5024, \n"
     ]
    },
    {
     "name": "stdout",
     "output_type": "stream",
     "text": [
      "epoch: 6, [batch: 3360 / 6720], examples_per_second: 3439.3651, train_label_loss: 0.5996, \n"
     ]
    },
    {
     "name": "stdout",
     "output_type": "stream",
     "text": [
      "epoch: 6, [batch: 4032 / 6720], examples_per_second: 3392.6976, train_label_loss: 0.9831, \n"
     ]
    },
    {
     "name": "stdout",
     "output_type": "stream",
     "text": [
      "epoch: 6, [batch: 4704 / 6720], examples_per_second: 3414.2154, train_label_loss: 1.1391, \n"
     ]
    },
    {
     "name": "stdout",
     "output_type": "stream",
     "text": [
      "epoch: 6, [batch: 5376 / 6720], examples_per_second: 3507.8724, train_label_loss: 0.4625, \n"
     ]
    },
    {
     "name": "stdout",
     "output_type": "stream",
     "text": [
      "epoch: 6, [batch: 6048 / 6720], examples_per_second: 3452.1662, train_label_loss: 1.1279, \n"
     ]
    },
    {
     "name": "stdout",
     "output_type": "stream",
     "text": [
      "=============================================================\n",
      "epoch: 6, source_val_acc_label: 0.7028, target_val_acc_label: 0.9355, source_val_label_loss: 0.7835, target_val_label_loss: 0.4033, \n",
      "=============================================================\n"
     ]
    },
    {
     "name": "stdout",
     "output_type": "stream",
     "text": [
      "Patience (3) exhausted\n"
     ]
    }
   ],
   "source": [
    "###################################\n",
    "# train\n",
    "###################################\n",
    "jig = PTN_Train_Eval_Test_Jig(model, p.BEST_MODEL_PATH, p.device)\n",
    "\n",
    "jig.train(\n",
    "    train_iterable=datasets.source.processed.train,\n",
    "    source_val_iterable=datasets.source.processed.val,\n",
    "    target_val_iterable=datasets.target.processed.val,\n",
    "    num_epochs=p.n_epoch,\n",
    "    num_logs_per_epoch=p.NUM_LOGS_PER_EPOCH,\n",
    "    patience=p.patience,\n",
    "    optimizer=optimizer,\n",
    "    criteria_for_best=p.criteria_for_best,\n",
    ")"
   ]
  },
  {
   "cell_type": "code",
   "execution_count": 23,
   "id": "31e8fabf",
   "metadata": {
    "execution": {
     "iopub.execute_input": "2022-03-28T18:15:40.362512Z",
     "iopub.status.busy": "2022-03-28T18:15:40.361893Z",
     "iopub.status.idle": "2022-03-28T18:15:40.394564Z",
     "shell.execute_reply": "2022-03-28T18:15:40.393899Z"
    },
    "papermill": {
     "duration": 0.080644,
     "end_time": "2022-03-28T18:15:40.394703",
     "exception": false,
     "start_time": "2022-03-28T18:15:40.314059",
     "status": "completed"
    },
    "tags": []
   },
   "outputs": [],
   "source": [
    "total_experiment_time_secs = time.time() - start_time_secs"
   ]
  },
  {
   "cell_type": "code",
   "execution_count": 24,
   "id": "87b9595b",
   "metadata": {
    "execution": {
     "iopub.execute_input": "2022-03-28T18:15:40.513208Z",
     "iopub.status.busy": "2022-03-28T18:15:40.511911Z",
     "iopub.status.idle": "2022-03-28T18:18:12.100395Z",
     "shell.execute_reply": "2022-03-28T18:18:12.101029Z"
    },
    "papermill": {
     "duration": 151.653028,
     "end_time": "2022-03-28T18:18:12.101276",
     "exception": false,
     "start_time": "2022-03-28T18:15:40.448248",
     "status": "completed"
    },
    "tags": []
   },
   "outputs": [],
   "source": [
    "###################################\n",
    "# Evaluate the model\n",
    "###################################\n",
    "source_test_label_accuracy, source_test_label_loss = jig.test(datasets.source.processed.test)\n",
    "target_test_label_accuracy, target_test_label_loss = jig.test(datasets.target.processed.test)\n",
    "\n",
    "source_val_label_accuracy, source_val_label_loss = jig.test(datasets.source.processed.val)\n",
    "target_val_label_accuracy, target_val_label_loss = jig.test(datasets.target.processed.val)\n",
    "\n",
    "history = jig.get_history()\n",
    "\n",
    "total_epochs_trained = len(history[\"epoch_indices\"])\n",
    "\n",
    "val_dl = Iterable_Aggregator((datasets.source.original.val,datasets.target.original.val))\n",
    "\n",
    "confusion = ptn_confusion_by_domain_over_dataloader(model, p.device, val_dl)\n",
    "per_domain_accuracy = per_domain_accuracy_from_confusion(confusion)\n",
    "\n",
    "# Add a key to per_domain_accuracy for if it was a source domain\n",
    "for domain, accuracy in per_domain_accuracy.items():\n",
    "    per_domain_accuracy[domain] = {\n",
    "        \"accuracy\": accuracy,\n",
    "        \"source?\": domain in p.domains_source\n",
    "    }\n",
    "\n",
    "# Do an independent accuracy assesment JUST TO BE SURE!\n",
    "# _source_test_label_accuracy = independent_accuracy_assesment(model, datasets.source.processed.test, p.device)\n",
    "# _target_test_label_accuracy = independent_accuracy_assesment(model, datasets.target.processed.test, p.device)\n",
    "# _source_val_label_accuracy = independent_accuracy_assesment(model, datasets.source.processed.val, p.device)\n",
    "# _target_val_label_accuracy = independent_accuracy_assesment(model, datasets.target.processed.val, p.device)\n",
    "\n",
    "# assert(_source_test_label_accuracy == source_test_label_accuracy)\n",
    "# assert(_target_test_label_accuracy == target_test_label_accuracy)\n",
    "# assert(_source_val_label_accuracy == source_val_label_accuracy)\n",
    "# assert(_target_val_label_accuracy == target_val_label_accuracy)\n",
    "\n",
    "experiment = {\n",
    "    \"experiment_name\": p.experiment_name,\n",
    "    \"parameters\": dict(p),\n",
    "    \"results\": {\n",
    "        \"source_test_label_accuracy\": source_test_label_accuracy,\n",
    "        \"source_test_label_loss\": source_test_label_loss,\n",
    "        \"target_test_label_accuracy\": target_test_label_accuracy,\n",
    "        \"target_test_label_loss\": target_test_label_loss,\n",
    "        \"source_val_label_accuracy\": source_val_label_accuracy,\n",
    "        \"source_val_label_loss\": source_val_label_loss,\n",
    "        \"target_val_label_accuracy\": target_val_label_accuracy,\n",
    "        \"target_val_label_loss\": target_val_label_loss,\n",
    "        \"total_epochs_trained\": total_epochs_trained,\n",
    "        \"total_experiment_time_secs\": total_experiment_time_secs,\n",
    "        \"confusion\": confusion,\n",
    "        \"per_domain_accuracy\": per_domain_accuracy,\n",
    "    },\n",
    "    \"history\": history,\n",
    "    \"dataset_metrics\": get_dataset_metrics(datasets, \"ptn\"),\n",
    "}"
   ]
  },
  {
   "cell_type": "code",
   "execution_count": 25,
   "id": "54a21829",
   "metadata": {
    "execution": {
     "iopub.execute_input": "2022-03-28T18:18:12.242931Z",
     "iopub.status.busy": "2022-03-28T18:18:12.242358Z",
     "iopub.status.idle": "2022-03-28T18:18:12.454928Z",
     "shell.execute_reply": "2022-03-28T18:18:12.455660Z"
    },
    "papermill": {
     "duration": 0.305504,
     "end_time": "2022-03-28T18:18:12.455895",
     "exception": false,
     "start_time": "2022-03-28T18:18:12.150391",
     "status": "completed"
    },
    "tags": []
   },
   "outputs": [
    {
     "data": {
      "image/png": "[encoded data removed]",
      "text/plain": [
       "<Figure size 1080x504 with 1 Axes>"
      ]
     },
     "metadata": {
      "needs_background": "light"
     },
     "output_type": "display_data"
    }
   ],
   "source": [
    "ax = get_loss_curve(experiment)\n",
    "plt.show()"
   ]
  },
  {
   "cell_type": "code",
   "execution_count": 26,
   "id": "fd8a0f60",
   "metadata": {
    "execution": {
     "iopub.execute_input": "2022-03-28T18:18:12.548711Z",
     "iopub.status.busy": "2022-03-28T18:18:12.548336Z",
     "iopub.status.idle": "2022-03-28T18:18:12.875653Z",
     "shell.execute_reply": "2022-03-28T18:18:12.875970Z"
    },
    "papermill": {
     "duration": 0.372017,
     "end_time": "2022-03-28T18:18:12.876088",
     "exception": false,
     "start_time": "2022-03-28T18:18:12.504071",
     "status": "completed"
    },
    "tags": []
   },
   "outputs": [
    {
     "data": {
      "text/plain": [
       "<AxesSubplot:title={'center':'Results'}>"
      ]
     },
     "execution_count": 26,
     "metadata": {},
     "output_type": "execute_result"
    },
    {
     "data": {
      "image/png": "[encoded data removed]",
      "text/plain": [
       "<Figure size 1080x504 with 1 Axes>"
      ]
     },
     "metadata": {
      "needs_background": "light"
     },
     "output_type": "display_data"
    }
   ],
   "source": [
    "get_results_table(experiment)"
   ]
  },
  {
   "cell_type": "code",
   "execution_count": 27,
   "id": "cf8dc689",
   "metadata": {
    "execution": {
     "iopub.execute_input": "2022-03-28T18:18:12.969077Z",
     "iopub.status.busy": "2022-03-28T18:18:12.968703Z",
     "iopub.status.idle": "2022-03-28T18:18:13.203416Z",
     "shell.execute_reply": "2022-03-28T18:18:13.203974Z"
    },
    "papermill": {
     "duration": 0.280948,
     "end_time": "2022-03-28T18:18:13.204155",
     "exception": false,
     "start_time": "2022-03-28T18:18:12.923207",
     "status": "completed"
    },
    "tags": []
   },
   "outputs": [
    {
     "data": {
      "text/plain": [
       "<AxesSubplot:title={'center':'Per Domain Validation Accuracy'}, xlabel='domain'>"
      ]
     },
     "execution_count": 27,
     "metadata": {},
     "output_type": "execute_result"
    },
    {
     "data": {
      "image/png": "[encoded data removed]",
      "text/plain": [
       "<Figure size 1080x504 with 1 Axes>"
      ]
     },
     "metadata": {
      "needs_background": "light"
     },
     "output_type": "display_data"
    }
   ],
   "source": [
    "get_domain_accuracies(experiment)"
   ]
  },
  {
   "cell_type": "code",
   "execution_count": 28,
   "id": "a74ae082",
   "metadata": {
    "execution": {
     "iopub.execute_input": "2022-03-28T18:18:13.302111Z",
     "iopub.status.busy": "2022-03-28T18:18:13.301736Z",
     "iopub.status.idle": "2022-03-28T18:18:13.323903Z",
     "shell.execute_reply": "2022-03-28T18:18:13.323325Z"
    },
    "papermill": {
     "duration": 0.069872,
     "end_time": "2022-03-28T18:18:13.324033",
     "exception": false,
     "start_time": "2022-03-28T18:18:13.254161",
     "status": "completed"
    },
    "tags": []
   },
   "outputs": [
    {
     "name": "stdout",
     "output_type": "stream",
     "text": [
      "Source Test Label Accuracy: 0.6679036458333333 Target Test Label Accuracy: 0.9619733146067416\n",
      "Source Val Label Accuracy: 0.6621744791666667 Target Val Label Accuracy: 0.9624285714285714\n"
     ]
    }
   ],
   "source": [
    "print(\"Source Test Label Accuracy:\", experiment[\"results\"][\"source_test_label_accuracy\"], \"Target Test Label Accuracy:\", experiment[\"results\"][\"target_test_label_accuracy\"])\n",
    "print(\"Source Val Label Accuracy:\", experiment[\"results\"][\"source_val_label_accuracy\"], \"Target Val Label Accuracy:\", experiment[\"results\"][\"target_val_label_accuracy\"])"
   ]
  },
  {
   "cell_type": "code",
   "execution_count": 29,
   "id": "dacca602",
   "metadata": {
    "execution": {
     "iopub.execute_input": "2022-03-28T18:18:13.420977Z",
     "iopub.status.busy": "2022-03-28T18:18:13.420613Z",
     "iopub.status.idle": "2022-03-28T18:18:13.445565Z",
     "shell.execute_reply": "2022-03-28T18:18:13.446088Z"
    },
    "papermill": {
     "duration": 0.072922,
     "end_time": "2022-03-28T18:18:13.446243",
     "exception": false,
     "start_time": "2022-03-28T18:18:13.373321",
     "status": "completed"
    },
    "tags": [
     "experiment_json"
    ]
   },
   "outputs": [
    {
     "data": {
      "text/plain": [
       "'{\"experiment_name\": \"tl_3-jitter5v2:oracle.run1.framed -> cores\", \"parameters\": {\"experiment_name\": \"tl_3-jitter5v2:oracle.run1.framed -> cores\", \"device\": \"cuda\", \"lr\": 0.0001, \"x_shape\": [2, 256], \"n_shot\": 3, \"n_query\": 2, \"train_k_factor\": 3, \"val_k_factor\": 2, \"test_k_factor\": 2, \"torch_default_dtype\": \"torch.float32\", \"n_epoch\": 50, \"patience\": 3, \"criteria_for_best\": \"target_accuracy\", \"x_net\": [{\"class\": \"nnReshape\", \"kargs\": {\"shape\": [-1, 1, 2, 256]}}, {\"class\": \"Conv2d\", \"kargs\": {\"in_channels\": 1, \"out_channels\": 256, \"kernel_size\": [1, 7], \"bias\": false, \"padding\": [0, 3]}}, {\"class\": \"ReLU\", \"kargs\": {\"inplace\": true}}, {\"class\": \"BatchNorm2d\", \"kargs\": {\"num_features\": 256}}, {\"class\": \"Conv2d\", \"kargs\": {\"in_channels\": 256, \"out_channels\": 80, \"kernel_size\": [2, 7], \"bias\": true, \"padding\": [0, 3]}}, {\"class\": \"ReLU\", \"kargs\": {\"inplace\": true}}, {\"class\": \"BatchNorm2d\", \"kargs\": {\"num_features\": 80}}, {\"class\": \"Flatten\", \"kargs\": {}}, {\"class\": \"Linear\", \"kargs\": {\"in_features\": 20480, \"out_features\": 256}}, {\"class\": \"ReLU\", \"kargs\": {\"inplace\": true}}, {\"class\": \"BatchNorm1d\", \"kargs\": {\"num_features\": 256}}, {\"class\": \"Linear\", \"kargs\": {\"in_features\": 256, \"out_features\": 256}}], \"NUM_LOGS_PER_EPOCH\": 10, \"BEST_MODEL_PATH\": \"./best_model.pth\", \"n_way\": 16, \"datasets\": [{\"labels\": [\"1-10.\", \"1-11.\", \"1-15.\", \"1-16.\", \"1-17.\", \"1-18.\", \"1-19.\", \"10-4.\", \"10-7.\", \"11-1.\", \"11-14.\", \"11-17.\", \"11-20.\", \"11-7.\", \"13-20.\", \"13-8.\", \"14-10.\", \"14-11.\", \"14-14.\", \"14-7.\", \"15-1.\", \"15-20.\", \"16-1.\", \"16-16.\", \"17-10.\", \"17-11.\", \"17-2.\", \"19-1.\", \"19-16.\", \"19-19.\", \"19-20.\", \"19-3.\", \"2-10.\", \"2-11.\", \"2-17.\", \"2-18.\", \"2-20.\", \"2-3.\", \"2-4.\", \"2-5.\", \"2-6.\", \"2-7.\", \"2-8.\", \"3-13.\", \"3-18.\", \"3-3.\", \"4-1.\", \"4-10.\", \"4-11.\", \"4-19.\", \"5-5.\", \"6-15.\", \"7-10.\", \"7-14.\", \"8-18.\", \"8-20.\", \"8-3.\", \"8-8.\"], \"domains\": [1, 2, 3, 4, 5], \"num_examples_per_domain_per_label\": -1, \"pickle_path\": \"/root/csc500-main/datasets/cores.stratified_ds.2022A.pkl\", \"source_or_target_dataset\": \"target\", \"x_transforms\": [\"unit_power\", \"jitter_256_5\", \"lowpass_+/-10MHz\", \"take_200\"], \"episode_transforms\": [], \"domain_prefix\": \"C_\"}, {\"labels\": [\"3123D52\", \"3123D65\", \"3123D79\", \"3123D80\", \"3123D54\", \"3123D70\", \"3123D7B\", \"3123D89\", \"3123D58\", \"3123D76\", \"3123D7D\", \"3123EFE\", \"3123D64\", \"3123D78\", \"3123D7E\", \"3124E4A\"], \"domains\": [32, 38, 8, 44, 14, 50, 20, 26], \"num_examples_per_domain_per_label\": 2000, \"pickle_path\": \"/root/csc500-main/datasets/oracle.Run1_framed_2000Examples_stratified_ds.2022A.pkl\", \"source_or_target_dataset\": \"source\", \"x_transforms\": [\"unit_power\", \"jitter_256_5\", \"take_200\", \"resample_20Msps_to_25Msps\"], \"episode_transforms\": [], \"domain_prefix\": \"O_\"}], \"seed\": 500, \"dataset_seed\": 500, \"domains_source\": [\"O_32\", \"O_38\", \"O_8\", \"O_44\", \"O_14\", \"O_50\", \"O_20\", \"O_26\"], \"domains_target\": [\"C_1\", \"C_2\", \"C_3\", \"C_4\", \"C_5\"]}, \"results\": {\"source_test_label_accuracy\": 0.6679036458333333, \"source_test_label_loss\": 0.8964608907699585, \"target_test_label_accuracy\": 0.9619733146067416, \"target_test_label_loss\": 0.18855451047420502, \"source_val_label_accuracy\": 0.6621744791666667, \"source_val_label_loss\": 0.8922668099403381, \"target_val_label_accuracy\": 0.9624285714285714, \"target_val_label_loss\": 0.23361147940158844, \"total_epochs_trained\": 6, \"total_experiment_time_secs\": 1342.9858059883118, \"confusion\": {\"O_50\": {\"7\": {\"13\": 53, \"7\": 136, \"5\": 34, \"10\": 16, \"4\": 1}, \"10\": {\"10\": 215, \"7\": 10, \"8\": 5, \"0\": 7, \"13\": 3}, \"0\": {\"0\": 207, \"2\": 21, \"6\": 2, \"10\": 9, \"1\": 1}, \"11\": {\"11\": 195, \"9\": 17, \"14\": 18, \"15\": 8, \"12\": 1, \"1\": 1}, \"2\": {\"2\": 217, \"0\": 21, \"6\": 1, \"1\": 1}, \"14\": {\"14\": 231, \"11\": 3, \"12\": 5, \"9\": 1}, \"9\": {\"9\": 171, \"12\": 31, \"11\": 36, \"14\": 2}, \"13\": {\"7\": 51, \"13\": 116, \"10\": 7, \"6\": 10, \"5\": 53, \"0\": 3}, \"8\": {\"8\": 232, \"10\": 6, \"3\": 2}, \"15\": {\"15\": 156, \"1\": 42, \"4\": 36, \"11\": 5, \"6\": 1}, \"4\": {\"4\": 71, \"1\": 58, \"15\": 46, \"6\": 31, \"13\": 6, \"5\": 22, \"7\": 6}, \"5\": {\"4\": 17, \"7\": 57, \"13\": 57, \"6\": 29, \"5\": 65, \"1\": 11, \"15\": 1, \"10\": 2, \"0\": 1}, \"3\": {\"3\": 239, \"8\": 1}, \"1\": {\"1\": 118, \"4\": 27, \"15\": 62, \"6\": 30, \"5\": 1, \"11\": 1, \"14\": 1}, \"6\": {\"6\": 114, \"4\": 36, \"5\": 41, \"15\": 3, \"13\": 13, \"1\": 26, \"0\": 5, \"7\": 1, \"2\": 1}, \"12\": {\"12\": 197, \"14\": 13, \"9\": 29, \"11\": 1}}, \"O_14\": {\"14\": {\"13\": 40, \"14\": 160, \"2\": 23, \"3\": 5, \"6\": 12}, \"6\": {\"6\": 132, \"2\": 19, \"13\": 74, \"14\": 15}, \"5\": {\"1\": 34, \"5\": 137, \"4\": 60, \"2\": 9}, \"15\": {\"15\": 215, \"7\": 25}, \"11\": {\"11\": 206, \"9\": 20, \"10\": 7, \"0\": 7}, \"8\": {\"8\": 240}, \"12\": {\"12\": 240}, \"1\": {\"1\": 215, \"5\": 17, \"4\": 8}, \"2\": {\"2\": 96, \"6\": 34, \"13\": 19, \"5\": 20, \"4\": 20, \"14\": 42, \"3\": 7, \"15\": 2}, \"13\": {\"14\": 78, \"6\": 74, \"13\": 65, \"2\": 18, \"5\": 3, \"4\": 1, \"3\": 1}, \"3\": {\"3\": 216, \"4\": 17, \"13\": 1, \"0\": 1, \"2\": 3, \"14\": 2}, \"0\": {\"10\": 54, \"0\": 176, \"11\": 6, \"3\": 3, \"8\": 1}, \"9\": {\"9\": 239, \"12\": 1}, \"4\": {\"4\": 176, \"5\": 37, \"2\": 9, \"13\": 1, \"1\": 5, \"3\": 12}, \"7\": {\"7\": 226, \"15\": 14}, \"10\": {\"10\": 199, \"0\": 40, \"11\": 1}}, \"O_32\": {\"4\": {\"0\": 79, \"4\": 74, \"2\": 44, \"7\": 25, \"5\": 11, \"14\": 4, \"13\": 2, \"8\": 1}, \"14\": {\"14\": 73, \"11\": 75, \"7\": 54, \"4\": 9, \"13\": 14, \"5\": 10, \"2\": 2, \"0\": 2, \"3\": 1}, \"5\": {\"8\": 25, \"14\": 17, \"5\": 46, \"13\": 60, \"7\": 37, \"0\": 20, \"4\": 17, \"3\": 12, \"2\": 3, \"11\": 3}, \"10\": {\"10\": 238, \"1\": 2}, \"13\": {\"5\": 61, \"13\": 75, \"4\": 3, \"0\": 13, \"8\": 34, \"7\": 26, \"3\": 16, \"11\": 4, \"14\": 8}, \"9\": {\"9\": 237, \"2\": 1, \"12\": 2}, \"6\": {\"6\": 240}, \"3\": {\"3\": 214, \"13\": 11, \"11\": 3, \"5\": 6, \"14\": 4, \"8\": 2}, \"15\": {\"15\": 238, \"3\": 2}, \"7\": {\"5\": 22, \"7\": 112, \"14\": 60, \"13\": 6, \"2\": 4, \"11\": 9, \"4\": 21, \"0\": 6}, \"12\": {\"12\": 240}, \"8\": {\"8\": 150, \"13\": 42, \"14\": 2, \"5\": 25, \"0\": 10, \"3\": 3, \"4\": 6, \"15\": 1, \"7\": 1}, \"11\": {\"11\": 187, \"14\": 41, \"7\": 4, \"5\": 5, \"13\": 2, \"3\": 1}, \"2\": {\"2\": 191, \"5\": 4, \"0\": 15, \"4\": 28, \"7\": 2}, \"1\": {\"1\": 240}, \"0\": {\"0\": 118, \"4\": 55, \"2\": 14, \"5\": 18, \"14\": 2, \"8\": 15, \"7\": 12, \"13\": 6}}, \"O_44\": {\"8\": {\"0\": 89, \"8\": 134, \"15\": 8, \"5\": 9}, \"11\": {\"11\": 175, \"6\": 26, \"9\": 3, \"13\": 36}, \"14\": {\"14\": 145, \"4\": 72, \"5\": 6, \"15\": 17}, \"10\": {\"10\": 179, \"1\": 21, \"2\": 18, \"12\": 21, \"3\": 1}, \"3\": {\"3\": 198, \"12\": 5, \"1\": 35, \"2\": 2}, \"15\": {\"15\": 187, \"8\": 1, \"0\": 19, \"14\": 22, \"5\": 11}, \"2\": {\"2\": 168, \"7\": 39, \"1\": 12, \"10\": 18, \"3\": 1, \"6\": 1, \"9\": 1}, \"12\": {\"12\": 167, \"1\": 48, \"10\": 22, \"3\": 3}, \"4\": {\"14\": 84, \"4\": 151, \"15\": 5}, \"1\": {\"1\": 126, \"3\": 28, \"10\": 29, \"12\": 51, \"2\": 6}, \"0\": {\"0\": 136, \"15\": 13, \"8\": 72, \"5\": 19}, \"9\": {\"13\": 20, \"9\": 136, \"7\": 59, \"6\": 21, \"2\": 4}, \"5\": {\"5\": 179, \"0\": 30, \"8\": 7, \"14\": 10, \"15\": 12, \"4\": 2}, \"6\": {\"6\": 152, \"11\": 16, \"7\": 8, \"13\": 36, \"9\": 28}, \"7\": {\"9\": 54, \"7\": 134, \"2\": 47, \"6\": 3, \"3\": 2}, \"13\": {\"13\": 140, \"6\": 30, \"9\": 28, \"11\": 37, \"7\": 4, \"4\": 1}}, \"O_8\": {\"13\": {\"13\": 92, \"4\": 38, \"0\": 50, \"14\": 26, \"10\": 26, \"6\": 7, \"1\": 1}, \"3\": {\"3\": 209, \"2\": 18, \"12\": 13}, \"15\": {\"12\": 37, \"15\": 198, \"8\": 5}, \"4\": {\"4\": 132, \"13\": 39, \"6\": 30, \"14\": 28, \"10\": 11}, \"7\": {\"7\": 184, \"0\": 11, \"6\": 44, \"13\": 1}, \"2\": {\"2\": 201, \"3\": 30, \"7\": 8, \"15\": 1}, \"1\": {\"11\": 73, \"1\": 163, \"10\": 1, \"5\": 3}, \"0\": {\"7\": 8, \"0\": 182, \"13\": 38, \"10\": 2, \"4\": 7, \"6\": 3}, \"12\": {\"15\": 74, \"12\": 132, \"3\": 29, \"2\": 1, \"8\": 4}, \"6\": {\"13\": 7, \"7\": 51, \"0\": 3, \"6\": 154, \"4\": 25}, \"11\": {\"11\": 127, \"1\": 105, \"5\": 6, \"14\": 2}, \"9\": {\"9\": 240}, \"5\": {\"5\": 215, \"1\": 7, \"10\": 11, \"11\": 4, \"14\": 3}, \"10\": {\"10\": 154, \"14\": 64, \"1\": 1, \"4\": 9, \"13\": 12}, \"14\": {\"14\": 123, \"1\": 12, \"10\": 56, \"4\": 28, \"13\": 20, \"5\": 1}, \"8\": {\"8\": 232, \"15\": 8}}, \"O_20\": {\"6\": {\"6\": 214, \"14\": 21, \"7\": 4, \"10\": 1}, \"11\": {\"11\": 240}, \"5\": {\"5\": 104, \"1\": 43, \"3\": 14, \"0\": 44, \"12\": 25, \"9\": 1, \"4\": 2, \"15\": 7}, \"14\": {\"14\": 174, \"8\": 5, \"6\": 14, \"10\": 47}, \"2\": {\"2\": 93, \"9\": 71, \"13\": 11, \"12\": 8, \"7\": 43, \"3\": 13, \"15\": 1}, \"7\": {\"2\": 29, \"7\": 160, \"3\": 11, \"9\": 31, \"8\": 8, \"12\": 1}, \"3\": {\"12\": 55, \"3\": 111, \"9\": 27, \"7\": 12, \"4\": 3, \"8\": 13, \"2\": 9, \"1\": 2, \"5\": 8}, \"4\": {\"4\": 202, \"3\": 5, \"8\": 31, \"10\": 2}, \"9\": {\"9\": 77, \"3\": 37, \"13\": 9, \"2\": 79, \"7\": 24, \"1\": 4, \"12\": 9, \"5\": 1}, \"12\": {\"12\": 92, \"3\": 43, \"5\": 35, \"0\": 6, \"2\": 11, \"1\": 38, \"9\": 11, \"15\": 3, \"4\": 1}, \"0\": {\"1\": 43, \"15\": 58, \"0\": 79, \"12\": 16, \"5\": 37, \"9\": 3, \"3\": 1, \"4\": 1, \"2\": 2}, \"10\": {\"14\": 50, \"10\": 171, \"8\": 12, \"6\": 3, \"4\": 4}, \"8\": {\"8\": 166, \"4\": 41, \"3\": 6, \"2\": 1, \"10\": 13, \"6\": 2, \"7\": 6, \"14\": 3, \"9\": 2}, \"13\": {\"13\": 213, \"9\": 11, \"2\": 14, \"15\": 1, \"1\": 1}, \"1\": {\"5\": 35, \"15\": 41, \"12\": 24, \"0\": 51, \"1\": 87, \"3\": 1, \"9\": 1}, \"15\": {\"0\": 41, \"15\": 133, \"1\": 44, \"5\": 8, \"12\": 8, \"2\": 1, \"13\": 5}}, \"O_38\": {\"3\": {\"3\": 165, \"9\": 50, \"7\": 12, \"6\": 5, \"5\": 4, \"0\": 4}, \"8\": {\"5\": 46, \"0\": 47, \"7\": 7, \"8\": 119, \"15\": 6, \"13\": 6, \"10\": 6, \"1\": 2, \"6\": 1}, \"0\": {\"8\": 64, \"0\": 53, \"7\": 72, \"6\": 1, \"5\": 33, \"3\": 8, \"10\": 4, \"15\": 2, \"9\": 1, \"13\": 1, \"12\": 1}, \"2\": {\"14\": 27, \"2\": 207, \"11\": 1, \"13\": 5}, \"4\": {\"4\": 222, \"12\": 18}, \"7\": {\"7\": 176, \"5\": 11, \"0\": 51, \"10\": 1, \"8\": 1}, \"12\": {\"12\": 208, \"4\": 23, \"10\": 9}, \"6\": {\"6\": 173, \"9\": 63, \"1\": 1, \"5\": 2, \"3\": 1}, \"15\": {\"15\": 124, \"0\": 1, \"13\": 71, \"1\": 29, \"8\": 3, \"10\": 7, \"5\": 5}, \"11\": {\"11\": 162, \"14\": 74, \"12\": 3, \"2\": 1}, \"9\": {\"9\": 130, \"6\": 83, \"3\": 27}, \"14\": {\"11\": 61, \"14\": 164, \"2\": 13, \"10\": 1, \"12\": 1}, \"10\": {\"12\": 32, \"10\": 167, \"0\": 10, \"13\": 9, \"8\": 8, \"15\": 4, \"2\": 5, \"14\": 4, \"4\": 1}, \"5\": {\"0\": 27, \"8\": 48, \"5\": 101, \"15\": 13, \"7\": 22, \"6\": 14, \"1\": 4, \"9\": 2, \"10\": 2, \"13\": 2, \"3\": 4, \"4\": 1}, \"1\": {\"1\": 232, \"15\": 6, \"13\": 2}, \"13\": {\"10\": 24, \"13\": 118, \"1\": 9, \"15\": 78, \"8\": 4, \"2\": 5, \"0\": 1, \"14\": 1}}, \"O_26\": {\"5\": {\"5\": 105, \"15\": 54, \"13\": 40, \"2\": 12, \"9\": 25, \"7\": 2, \"3\": 1, \"8\": 1}, \"8\": {\"8\": 104, \"0\": 23, \"4\": 21, \"15\": 15, \"1\": 4, \"10\": 30, \"9\": 12, \"2\": 2, \"7\": 20, \"6\": 8, \"14\": 1}, \"4\": {\"4\": 74, \"14\": 50, \"10\": 15, \"8\": 13, \"0\": 40, \"7\": 11, \"1\": 36, \"3\": 1}, \"12\": {\"12\": 234, \"11\": 6}, \"6\": {\"6\": 186, \"10\": 17, \"8\": 14, \"9\": 17, \"15\": 3, \"13\": 1, \"0\": 2}, \"7\": {\"7\": 161, \"2\": 14, \"3\": 25, \"4\": 16, \"8\": 14, \"14\": 4, \"15\": 1, \"1\": 3, \"0\": 2}, \"10\": {\"0\": 60, \"10\": 88, \"14\": 17, \"6\": 17, \"15\": 2, \"8\": 37, \"4\": 9, \"1\": 9, \"9\": 1}, \"0\": {\"4\": 38, \"0\": 50, \"10\": 46, \"14\": 49, \"1\": 24, \"8\": 22, \"6\": 4, \"7\": 5, \"9\": 2}, \"15\": {\"15\": 76, \"13\": 19, \"5\": 36, \"8\": 13, \"6\": 7, \"9\": 79, \"2\": 7, \"7\": 1, \"10\": 1, \"4\": 1}, \"9\": {\"9\": 95, \"15\": 62, \"8\": 34, \"6\": 16, \"13\": 10, \"2\": 4, \"5\": 14, \"7\": 1, \"10\": 3, \"0\": 1}, \"11\": {\"11\": 232, \"12\": 8}, \"14\": {\"4\": 38, \"14\": 70, \"0\": 37, \"1\": 77, \"10\": 14, \"8\": 3, \"7\": 1}, \"2\": {\"2\": 101, \"3\": 73, \"8\": 4, \"5\": 17, \"15\": 19, \"9\": 2, \"7\": 24}, \"13\": {\"5\": 64, \"13\": 151, \"6\": 5, \"15\": 6, \"2\": 2, \"9\": 12}, \"3\": {\"3\": 156, \"7\": 27, \"2\": 56, \"15\": 1}, \"1\": {\"4\": 39, \"1\": 86, \"14\": 85, \"0\": 18, \"10\": 5, \"7\": 3, \"8\": 4}}, \"C_4\": {\"38\": {\"38\": 38, \"2\": 1, \"57\": 1}, \"3\": {\"3\": 95, \"25\": 1, \"36\": 13, \"18\": 1, \"20\": 10, \"6\": 3, \"53\": 1}, \"24\": {\"24\": 56}, \"49\": {\"49\": 20}, \"7\": {\"7\": 24}, \"17\": {\"17\": 79, \"27\": 1}, \"43\": {\"43\": 148}, \"30\": {\"30\": 44}, \"44\": {\"44\": 131, \"19\": 1}, \"23\": {\"23\": 144}, \"37\": {\"37\": 24}, \"4\": {\"4\": 132}, \"57\": {\"57\": 98, \"35\": 2}, \"16\": {\"16\": 91, \"11\": 2, \"52\": 2, \"5\": 1}, \"18\": {\"18\": 100, \"36\": 1, \"34\": 1, \"25\": 1, \"48\": 1, \"23\": 2, \"4\": 1, \"40\": 1}, \"20\": {\"20\": 123, \"3\": 1}, \"45\": {\"45\": 94, \"9\": 2}, \"15\": {\"15\": 129, \"46\": 1, \"31\": 1, \"47\": 1}, \"52\": {\"52\": 116}, \"19\": {\"19\": 138, \"40\": 2}, \"54\": {\"54\": 108}, \"56\": {\"56\": 130}, \"40\": {\"40\": 132, \"29\": 2}, \"28\": {\"28\": 32}, \"2\": {\"2\": 36}, \"9\": {\"9\": 119, \"4\": 1}, \"0\": {\"0\": 80}, \"36\": {\"36\": 87, \"20\": 2, \"48\": 1, \"3\": 2}, \"55\": {\"55\": 130}, \"35\": {\"35\": 37, \"57\": 3}, \"39\": {\"39\": 20}, \"31\": {\"31\": 28}, \"14\": {\"14\": 12, \"38\": 1, \"1\": 2, \"57\": 1}, \"12\": {\"12\": 92}, \"6\": {\"6\": 96, \"52\": 3, \"53\": 4, \"51\": 5, \"20\": 1, \"3\": 1, \"16\": 2}, \"26\": {\"26\": 24}, \"50\": {\"3\": 5, \"50\": 98, \"21\": 6, \"53\": 2, \"25\": 4, \"20\": 11, \"36\": 5, \"8\": 1}, \"21\": {\"21\": 121, \"8\": 1}, \"46\": {\"46\": 133, \"0\": 2, \"38\": 1, \"32\": 2, \"5\": 2}, \"51\": {\"51\": 137, \"53\": 2, \"8\": 1}, \"41\": {\"41\": 36}, \"34\": {\"34\": 21, \"42\": 3}, \"47\": {\"47\": 120}, \"5\": {\"5\": 99, \"42\": 2, \"41\": 2, \"47\": 3, \"23\": 1, \"46\": 1}, \"1\": {\"1\": 40}, \"48\": {\"48\": 132, \"9\": 1, \"4\": 1}, \"29\": {\"29\": 117, \"35\": 1}, \"22\": {\"22\": 128}, \"10\": {\"10\": 131, \"22\": 1}, \"32\": {\"32\": 23, \"46\": 1}, \"13\": {\"13\": 112}, \"42\": {\"42\": 30, \"34\": 2}, \"27\": {\"27\": 135, \"17\": 3}, \"8\": {\"8\": 142}, \"33\": {\"33\": 36}, \"25\": {\"25\": 102, \"18\": 14, \"36\": 5, \"23\": 6, \"34\": 1, \"8\": 1, \"50\": 1, \"3\": 1, \"20\": 1}, \"11\": {\"11\": 101, \"24\": 1, \"15\": 1, \"46\": 1}, \"53\": {\"6\": 8, \"53\": 101, \"18\": 1, \"25\": 1, \"51\": 1}}, \"C_2\": {\"32\": {\"32\": 28}, \"17\": {\"17\": 103, \"4\": 1}, \"38\": {\"38\": 20}, \"2\": {\"2\": 32}, \"43\": {\"43\": 143, \"5\": 1}, \"56\": {\"56\": 144}, \"37\": {\"37\": 35, \"11\": 1}, \"49\": {\"49\": 24}, \"0\": {\"0\": 48}, \"29\": {\"29\": 128}, \"35\": {\"35\": 28, \"9\": 2, \"19\": 2}, \"18\": {\"18\": 45, \"25\": 2, \"41\": 1}, \"25\": {\"18\": 4, \"49\": 5, \"25\": 94, \"41\": 2, \"30\": 14, \"23\": 6, \"6\": 5, \"34\": 1, \"50\": 3, \"8\": 1, \"36\": 1}, \"23\": {\"23\": 124}, \"15\": {\"15\": 146}, \"21\": {\"21\": 120}, \"51\": {\"51\": 126, \"50\": 1, \"6\": 1}, \"20\": {\"20\": 129, \"36\": 2, \"25\": 1, \"53\": 6}, \"7\": {\"7\": 34, \"15\": 2}, \"50\": {\"50\": 121, \"6\": 9, \"18\": 1, \"30\": 1, \"41\": 1, \"53\": 1, \"8\": 1, \"25\": 1}, \"31\": {\"31\": 28}, \"30\": {\"30\": 136, \"25\": 3, \"2\": 1}, \"19\": {\"19\": 150, \"44\": 1, \"40\": 5}, \"9\": {\"9\": 143, \"19\": 1}, \"52\": {\"52\": 123, \"16\": 1}, \"45\": {\"45\": 121, \"4\": 4, \"9\": 3}, \"8\": {\"8\": 154}, \"55\": {\"55\": 146, \"57\": 13, \"1\": 1}, \"12\": {\"12\": 92}, \"40\": {\"40\": 131, \"19\": 7, \"4\": 2}, \"28\": {\"28\": 28}, \"36\": {\"36\": 116}, \"39\": {\"39\": 25, \"40\": 1, \"23\": 2}, \"46\": {\"46\": 97, \"15\": 11, \"39\": 2, \"52\": 7, \"16\": 3, \"5\": 1, \"43\": 1}, \"14\": {\"56\": 2, \"14\": 12, \"55\": 2, \"1\": 2, \"0\": 3, \"57\": 2, \"29\": 1}, \"57\": {\"57\": 136, \"55\": 6}, \"34\": {\"34\": 26, \"32\": 1, \"49\": 1}, \"1\": {\"1\": 112}, \"53\": {\"53\": 133, \"20\": 3}, \"48\": {\"48\": 130}, \"3\": {\"3\": 86, \"52\": 2, \"21\": 3, \"53\": 1}, \"16\": {\"16\": 149, \"46\": 2, \"47\": 1}, \"6\": {\"6\": 103, \"50\": 17, \"30\": 1, \"18\": 1, \"25\": 1, \"46\": 1}, \"10\": {\"10\": 112}, \"13\": {\"13\": 116}, \"26\": {\"26\": 24}, \"24\": {\"24\": 93, \"5\": 1, \"0\": 1, \"10\": 1}, \"44\": {\"35\": 2, \"44\": 98}, \"27\": {\"27\": 150}, \"22\": {\"22\": 126, \"14\": 1, \"56\": 1}, \"33\": {\"33\": 28}, \"47\": {\"47\": 118}, \"5\": {\"5\": 118, \"57\": 1, \"55\": 1}, \"4\": {\"4\": 138}, \"41\": {\"41\": 19, \"25\": 1}, \"11\": {\"11\": 150}, \"54\": {\"54\": 104, \"17\": 4}, \"42\": {\"42\": 36}}, \"C_3\": {\"5\": {\"5\": 113, \"39\": 1, \"55\": 2}, \"32\": {\"32\": 28}, \"33\": {\"33\": 28}, \"49\": {\"49\": 20}, \"39\": {\"39\": 16}, \"11\": {\"11\": 142}, \"8\": {\"8\": 115, \"17\": 1}, \"26\": {\"26\": 24}, \"51\": {\"51\": 122}, \"4\": {\"4\": 146}, \"52\": {\"52\": 112, \"46\": 1, \"3\": 5}, \"47\": {\"47\": 82, \"0\": 1, \"42\": 1, \"57\": 3, \"55\": 4, \"1\": 1}, \"17\": {\"17\": 105, \"27\": 2, \"24\": 1}, \"53\": {\"53\": 136}, \"2\": {\"2\": 30, \"36\": 2}, \"12\": {\"12\": 92}, \"37\": {\"37\": 28}, \"9\": {\"9\": 148}, \"13\": {\"13\": 126, \"15\": 1, \"24\": 1}, \"54\": {\"54\": 97, \"17\": 2, \"32\": 1}, \"31\": {\"31\": 28}, \"34\": {\"34\": 30, \"1\": 1, \"57\": 1}, \"24\": {\"24\": 104}, \"7\": {\"7\": 36}, \"50\": {\"50\": 96, \"41\": 1, \"52\": 3, \"6\": 2, \"20\": 9, \"46\": 2, \"3\": 1, \"18\": 1, \"30\": 1, \"25\": 1, \"16\": 1}, \"46\": {\"46\": 110, \"26\": 1, \"15\": 5, \"16\": 4, \"52\": 2, \"23\": 1, \"3\": 2, \"20\": 1, \"25\": 2}, \"44\": {\"44\": 83, \"40\": 2, \"29\": 1, \"19\": 2}, \"40\": {\"40\": 103, \"44\": 2, \"19\": 9, \"29\": 2}, \"21\": {\"21\": 128}, \"45\": {\"45\": 55, \"4\": 3, \"9\": 2}, \"16\": {\"16\": 123, \"5\": 1, \"15\": 2}, \"14\": {\"14\": 18, \"56\": 4, \"1\": 4, \"35\": 3, \"22\": 5, \"0\": 3, \"34\": 1, \"57\": 1, \"47\": 1}, \"36\": {\"36\": 99, \"2\": 1}, \"56\": {\"56\": 114}, \"10\": {\"10\": 64}, \"18\": {\"18\": 80, \"6\": 3, \"25\": 1}, \"48\": {\"48\": 116}, \"38\": {\"38\": 26, \"12\": 1, \"54\": 1}, \"27\": {\"27\": 130}, \"42\": {\"42\": 28}, \"15\": {\"15\": 126, \"55\": 3, \"46\": 2, \"16\": 2, \"5\": 1}, \"1\": {\"1\": 93, \"34\": 2, \"35\": 1, \"57\": 4}, \"28\": {\"28\": 28}, \"43\": {\"43\": 136}, \"0\": {\"0\": 124}, \"57\": {\"57\": 121, \"1\": 3}, \"3\": {\"3\": 124, \"52\": 21, \"46\": 1, \"50\": 2}, \"29\": {\"29\": 124}, \"41\": {\"41\": 27, \"30\": 1}, \"25\": {\"18\": 11, \"25\": 93, \"6\": 12, \"41\": 4, \"30\": 14, \"23\": 5, \"50\": 2, \"46\": 3, \"33\": 1, \"48\": 1}, \"6\": {\"18\": 13, \"25\": 16, \"6\": 41, \"30\": 6, \"8\": 2, \"23\": 3, \"52\": 4, \"41\": 2, \"36\": 1}, \"35\": {\"35\": 28}, \"20\": {\"20\": 123, \"50\": 3}, \"23\": {\"23\": 134}, \"22\": {\"22\": 138, \"14\": 2}, \"19\": {\"19\": 114, \"40\": 2}, \"55\": {\"55\": 118, \"47\": 6}, \"30\": {\"30\": 118, \"25\": 2}}, \"C_1\": {\"24\": {\"24\": 108}, \"25\": {\"25\": 130, \"18\": 5, \"30\": 4, \"9\": 1}, \"45\": {\"42\": 1, \"45\": 142, \"7\": 1}, \"42\": {\"42\": 38, \"45\": 1, \"19\": 1}, \"2\": {\"2\": 36}, \"9\": {\"9\": 148, \"19\": 1, \"56\": 1}, \"21\": {\"21\": 115, \"24\": 4, \"15\": 2, \"22\": 3}, \"26\": {\"26\": 24}, \"49\": {\"49\": 26, \"15\": 4, \"21\": 1, \"0\": 1}, \"39\": {\"39\": 28}, \"46\": {\"46\": 129, \"53\": 7}, \"17\": {\"17\": 64}, \"19\": {\"19\": 156}, \"23\": {\"23\": 126, \"0\": 5, \"15\": 1}, \"1\": {\"1\": 96, \"19\": 1, \"57\": 2, \"29\": 1}, \"29\": {\"29\": 140}, \"56\": {\"56\": 142, \"57\": 8}, \"37\": {\"37\": 32}, \"33\": {\"33\": 32}, \"55\": {\"55\": 140, \"54\": 2}, \"30\": {\"30\": 120}, \"0\": {\"0\": 142, \"23\": 10}, \"36\": {\"36\": 64}, \"32\": {\"32\": 31, \"47\": 1}, \"31\": {\"31\": 24, \"15\": 2, \"49\": 2}, \"15\": {\"15\": 136, \"49\": 2}, \"12\": {\"12\": 116}, \"38\": {\"38\": 24}, \"40\": {\"40\": 139, \"29\": 2, \"1\": 1, \"4\": 4}, \"14\": {\"14\": 18, \"7\": 1, \"26\": 1, \"30\": 2, \"17\": 1, \"8\": 1}, \"13\": {\"13\": 150}, \"48\": {\"48\": 148}, \"34\": {\"34\": 24}, \"44\": {\"44\": 127, \"35\": 3}, \"5\": {\"5\": 148, \"9\": 4}, \"11\": {\"11\": 140}, \"7\": {\"7\": 28}, \"18\": {\"18\": 72}, \"52\": {\"52\": 127, \"10\": 3, \"11\": 2}, \"51\": {\"51\": 142}, \"41\": {\"41\": 24}, \"16\": {\"16\": 140}, \"22\": {\"22\": 124, \"21\": 8, \"28\": 1, \"24\": 1}, \"3\": {\"3\": 140}, \"54\": {\"54\": 104}, \"27\": {\"27\": 144}, \"20\": {\"20\": 138, \"13\": 2}, \"8\": {\"8\": 138}, \"50\": {\"50\": 144}, \"57\": {\"57\": 132, \"56\": 8}, \"4\": {\"4\": 130, \"57\": 2}, \"47\": {\"47\": 146}, \"10\": {\"10\": 94, \"52\": 2}, \"35\": {\"35\": 33, \"44\": 3}, \"53\": {\"53\": 126}, \"6\": {\"6\": 95, \"8\": 1}, \"43\": {\"43\": 140}, \"28\": {\"28\": 28}}, \"C_5\": {\"35\": {\"35\": 35, \"56\": 1}, \"57\": {\"57\": 132}, \"20\": {\"20\": 140, \"50\": 1, \"55\": 1, \"51\": 2}, \"12\": {\"12\": 96}, \"32\": {\"32\": 32}, \"25\": {\"25\": 117, \"23\": 11, \"8\": 3, \"41\": 2, \"18\": 2, \"55\": 1, \"20\": 1, \"1\": 1}, \"44\": {\"44\": 146, \"40\": 2}, \"31\": {\"31\": 36}, \"11\": {\"11\": 143, \"0\": 1, \"15\": 4, \"43\": 2}, \"47\": {\"47\": 100}, \"23\": {\"23\": 124}, \"43\": {\"43\": 144}, \"37\": {\"37\": 24}, \"5\": {\"5\": 128}, \"45\": {\"45\": 98, \"9\": 6, \"48\": 9, \"27\": 9, \"30\": 1, \"54\": 1}, \"7\": {\"7\": 31, \"42\": 1}, \"13\": {\"13\": 120, \"24\": 4, \"10\": 6, \"15\": 3, \"0\": 1, \"43\": 1, \"11\": 1}, \"49\": {\"49\": 36}, \"46\": {\"46\": 143, \"3\": 3, \"57\": 2}, \"16\": {\"16\": 131, \"52\": 3, \"47\": 1, \"3\": 1}, \"54\": {\"54\": 112}, \"19\": {\"19\": 152}, \"55\": {\"55\": 145, \"1\": 5}, \"30\": {\"30\": 128}, \"34\": {\"34\": 35, \"44\": 1}, \"50\": {\"50\": 100, \"21\": 1, \"20\": 26, \"23\": 1, \"6\": 1, \"25\": 4, \"8\": 1}, \"3\": {\"46\": 9, \"3\": 90, \"49\": 1}, \"10\": {\"10\": 64, \"3\": 1, \"13\": 2, \"24\": 1}, \"27\": {\"27\": 140, \"32\": 1, \"45\": 1}, \"33\": {\"33\": 32}, \"56\": {\"56\": 142}, \"9\": {\"9\": 135, \"19\": 2, \"40\": 1, \"48\": 7, \"55\": 2, \"4\": 1, \"27\": 1, \"45\": 1}, \"14\": {\"31\": 7, \"14\": 17, \"49\": 2, \"35\": 1, \"57\": 5, \"36\": 3, \"33\": 1, \"54\": 2, \"56\": 1, \"2\": 3, \"46\": 1, \"0\": 1}, \"4\": {\"4\": 100}, \"42\": {\"42\": 37, \"39\": 2, \"33\": 1}, \"24\": {\"24\": 79, \"13\": 1}, \"39\": {\"39\": 16, \"41\": 4}, \"52\": {\"52\": 128, \"18\": 1, \"16\": 1}, \"2\": {\"2\": 27, \"31\": 1}, \"28\": {\"28\": 32}, \"53\": {\"53\": 122}, \"17\": {\"17\": 116}, \"29\": {\"29\": 132}, \"38\": {\"38\": 32}, \"15\": {\"15\": 144}, \"26\": {\"26\": 24}, \"21\": {\"21\": 144}, \"41\": {\"41\": 22, \"39\": 3, \"25\": 2, \"5\": 1}, \"48\": {\"48\": 131, \"9\": 4, \"45\": 1}, \"22\": {\"22\": 28}, \"8\": {\"8\": 148}, \"18\": {\"18\": 64}, \"0\": {\"0\": 120, \"2\": 1, \"35\": 1}, \"1\": {\"1\": 136, \"55\": 2}, \"40\": {\"40\": 123, \"29\": 1}, \"6\": {\"6\": 118, \"55\": 5, \"25\": 1, \"8\": 2, \"1\": 1, \"30\": 1}, \"51\": {\"51\": 142}, \"36\": {\"36\": 91, \"14\": 1}}}, \"per_domain_accuracy\": {\"O_50\": {\"accuracy\": 0.6979166666666666, \"source?\": true}, \"O_14\": {\"accuracy\": 0.7651041666666667, \"source?\": true}, \"O_32\": {\"accuracy\": 0.69609375, \"source?\": true}, \"O_44\": {\"accuracy\": 0.6528645833333333, \"source?\": true}, \"O_8\": {\"accuracy\": 0.7130208333333333, \"source?\": true}, \"O_20\": {\"accuracy\": 0.603125, \"source?\": true}, \"O_38\": {\"accuracy\": 0.6565104166666667, \"source?\": true}, \"O_26\": {\"accuracy\": 0.5127604166666667, \"source?\": true}, \"C_4\": {\"accuracy\": 0.9625, \"source?\": false}, \"C_2\": {\"accuracy\": 0.9619030898876404, \"source?\": false}, \"C_3\": {\"accuracy\": 0.9469866071428571, \"source?\": false}, \"C_1\": {\"accuracy\": 0.9783783783783784, \"source?\": false}, \"C_5\": {\"accuracy\": 0.9608938547486033, \"source?\": false}}}, \"history\": {\"epoch_indices\": [1, 2, 3, 4, 5, 6], \"train_label_loss\": [1.8214443818887784, 0.9442433788041983, 0.889680071494409, 0.8504376500623212, 0.8202227635043008, 0.797132798359685], \"source_val_label_loss\": [1.1083178520202637, 0.8922668099403381, 0.8905206322669983, 0.8202674388885498, 0.801137387752533, 0.7834773659706116], \"target_val_label_loss\": [2.72524094581604, 0.23361147940158844, 0.28136271238327026, 0.34379175305366516, 0.352176696062088, 0.4033084213733673], \"source_val_acc_label\": [0.5869466145833333, 0.6621744791666667, 0.6617513020833333, 0.6915690104166666, 0.6970377604166667, 0.7027669270833333], \"target_val_acc_label\": [0.9208571428571428, 0.9624285714285714, 0.9482857142857143, 0.942, 0.9357857142857143, 0.9354642857142857]}, \"dataset_metrics\": {\"source\": {\"train\": {\"n_unique_x\": 179200, \"n_unique_y\": 16, \"n_batch/episode\": 6720}, \"val\": {\"n_unique_x\": 38400, \"n_unique_y\": 16, \"n_batch/episode\": 960}, \"test\": {\"n_unique_x\": 38400, \"n_unique_y\": 16, \"n_batch/episode\": 960}}, \"target\": {\"train\": {\"n_unique_x\": 175197, \"n_unique_y\": 58, \"n_batch/episode\": 6309}, \"val\": {\"n_unique_x\": 37166, \"n_unique_y\": 58, \"n_batch/episode\": 875}, \"test\": {\"n_unique_x\": 37642, \"n_unique_y\": 58, \"n_batch/episode\": 890}}}}'"
      ]
     },
     "execution_count": 29,
     "metadata": {},
     "output_type": "execute_result"
    }
   ],
   "source": [
    "json.dumps(experiment)"
   ]
  }
 ],
 "metadata": {
  "celltoolbar": "Tags",
  "kernelspec": {
   "display_name": "Python 3 (ipykernel)",
   "language": "python",
   "name": "python3"
  },
  "language_info": {
   "codemirror_mode": {
    "name": "ipython",
    "version": 3
   },
   "file_extension": ".py",
   "mimetype": "text/x-python",
   "name": "python",
   "nbconvert_exporter": "python",
   "pygments_lexer": "ipython3",
   "version": "3.8.12"
  },
  "papermill": {
   "default_parameters": {},
   "duration": 1501.995399,
   "end_time": "2022-03-28T18:18:15.715386",
   "environment_variables": {},
   "exception": null,
   "input_path": "/root/csc500-main/csc500-notebooks/templates/tl_ptn_template.ipynb",
   "output_path": "trial.ipynb",
   "parameters": {
    "parameters": {
     "BEST_MODEL_PATH": "./best_model.pth",
     "NUM_LOGS_PER_EPOCH": 10,
     "criteria_for_best": "target_accuracy",
     "dataset_seed": 500,
     "datasets": [
      {
       "domain_prefix": "C_",
       "domains": [
        1,
        2,
        3,
        4,
        5
       ],
       "episode_transforms": [],
       "labels": [
        "1-10.",
        "1-11.",
        "1-15.",
        "1-16.",
        "1-17.",
        "1-18.",
        "1-19.",
        "10-4.",
        "10-7.",
        "11-1.",
        "11-14.",
        "11-17.",
        "11-20.",
        "11-7.",
        "13-20.",
        "13-8.",
        "14-10.",
        "14-11.",
        "14-14.",
        "14-7.",
        "15-1.",
        "15-20.",
        "16-1.",
        "16-16.",
        "17-10.",
        "17-11.",
        "17-2.",
        "19-1.",
        "19-16.",
        "19-19.",
        "19-20.",
        "19-3.",
        "2-10.",
        "2-11.",
        "2-17.",
        "2-18.",
        "2-20.",
        "2-3.",
        "2-4.",
        "2-5.",
        "2-6.",
        "2-7.",
        "2-8.",
        "3-13.",
        "3-18.",
        "3-3.",
        "4-1.",
        "4-10.",
        "4-11.",
        "4-19.",
        "5-5.",
        "6-15.",
        "7-10.",
        "7-14.",
        "8-18.",
        "8-20.",
        "8-3.",
        "8-8."
       ],
       "num_examples_per_domain_per_label": -1,
       "pickle_path": "/root/csc500-main/datasets/cores.stratified_ds.2022A.pkl",
       "source_or_target_dataset": "target",
       "x_transforms": [
        "unit_power",
        "jitter_256_5",
        "lowpass_+/-10MHz",
        "take_200"
       ]
      },
      {
       "domain_prefix": "O_",
       "domains": [
        32,
        38,
        8,
        44,
        14,
        50,
        20,
        26
       ],
       "episode_transforms": [],
       "labels": [
        "3123D52",
        "3123D65",
        "3123D79",
        "3123D80",
        "3123D54",
        "3123D70",
        "3123D7B",
        "3123D89",
        "3123D58",
        "3123D76",
        "3123D7D",
        "3123EFE",
        "3123D64",
        "3123D78",
        "3123D7E",
        "3124E4A"
       ],
       "num_examples_per_domain_per_label": 2000,
       "pickle_path": "/root/csc500-main/datasets/oracle.Run1_framed_2000Examples_stratified_ds.2022A.pkl",
       "source_or_target_dataset": "source",
       "x_transforms": [
        "unit_power",
        "jitter_256_5",
        "take_200",
        "resample_20Msps_to_25Msps"
       ]
      }
     ],
     "device": "cuda",
     "experiment_name": "tl_3-jitter5v2:oracle.run1.framed -> cores",
     "lr": 0.0001,
     "n_epoch": 50,
     "n_query": 2,
     "n_shot": 3,
     "n_way": 16,
     "patience": 3,
     "seed": 500,
     "test_k_factor": 2,
     "torch_default_dtype": "torch.float32",
     "train_k_factor": 3,
     "val_k_factor": 2,
     "x_net": [
      {
       "class": "nnReshape",
       "kargs": {
        "shape": [
         -1,
         1,
         2,
         256
        ]
       }
      },
      {
       "class": "Conv2d",
       "kargs": {
        "bias": false,
        "in_channels": 1,
        "kernel_size": [
         1,
         7
        ],
        "out_channels": 256,
        "padding": [
         0,
         3
        ]
       }
      },
      {
       "class": "ReLU",
       "kargs": {
        "inplace": true
       }
      },
      {
       "class": "BatchNorm2d",
       "kargs": {
        "num_features": 256
       }
      },
      {
       "class": "Conv2d",
       "kargs": {
        "bias": true,
        "in_channels": 256,
        "kernel_size": [
         2,
         7
        ],
        "out_channels": 80,
        "padding": [
         0,
         3
        ]
       }
      },
      {
       "class": "ReLU",
       "kargs": {
        "inplace": true
       }
      },
      {
       "class": "BatchNorm2d",
       "kargs": {
        "num_features": 80
       }
      },
      {
       "class": "Flatten",
       "kargs": {}
      },
      {
       "class": "Linear",
       "kargs": {
        "in_features": 20480,
        "out_features": 256
       }
      },
      {
       "class": "ReLU",
       "kargs": {
        "inplace": true
       }
      },
      {
       "class": "BatchNorm1d",
       "kargs": {
        "num_features": 256
       }
      },
      {
       "class": "Linear",
       "kargs": {
        "in_features": 256,
        "out_features": 256
       }
      }
     ],
     "x_shape": [
      2,
      256
     ]
    }
   },
   "start_time": "2022-03-28T17:53:13.719987",
   "version": "2.3.4"
  }
 },
 "nbformat": 4,
 "nbformat_minor": 5
}