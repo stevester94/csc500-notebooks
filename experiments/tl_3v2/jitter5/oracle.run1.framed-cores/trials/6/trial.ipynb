{
 "cells": [
  {
   "cell_type": "markdown",
   "id": "9fea5f46",
   "metadata": {
    "papermill": {
     "duration": 0.030857,
     "end_time": "2022-03-28T16:40:18.317104",
     "exception": false,
     "start_time": "2022-03-28T16:40:18.286247",
     "status": "completed"
    },
    "tags": []
   },
   "source": [
    "# Transfer Learning Template"
   ]
  },
  {
   "cell_type": "code",
   "execution_count": 1,
   "id": "0902182a",
   "metadata": {
    "execution": {
     "iopub.execute_input": "2022-03-28T16:40:18.384506Z",
     "iopub.status.busy": "2022-03-28T16:40:18.378204Z",
     "iopub.status.idle": "2022-03-28T16:40:20.213609Z",
     "shell.execute_reply": "2022-03-28T16:40:20.213204Z"
    },
    "papermill": {
     "duration": 1.86826,
     "end_time": "2022-03-28T16:40:20.213712",
     "exception": false,
     "start_time": "2022-03-28T16:40:18.345452",
     "status": "completed"
    },
    "tags": []
   },
   "outputs": [],
   "source": [
    "%load_ext autoreload\n",
    "%autoreload 2\n",
    "%matplotlib inline\n",
    "\n",
    "    \n",
    "import os, json, sys, time, random\n",
    "import numpy as np\n",
    "import torch\n",
    "from torch.optim import Adam\n",
    "from  easydict import EasyDict\n",
    "import matplotlib.pyplot as plt\n",
    "\n",
    "from steves_models.steves_ptn import Steves_Prototypical_Network\n",
    "\n",
    "from steves_utils.lazy_iterable_wrapper import Lazy_Iterable_Wrapper\n",
    "from steves_utils.iterable_aggregator import Iterable_Aggregator\n",
    "from steves_utils.ptn_train_eval_test_jig import  PTN_Train_Eval_Test_Jig\n",
    "from steves_utils.torch_sequential_builder import build_sequential\n",
    "from steves_utils.torch_utils import get_dataset_metrics, ptn_confusion_by_domain_over_dataloader\n",
    "from steves_utils.utils_v2 import (per_domain_accuracy_from_confusion, get_datasets_base_path)\n",
    "from steves_utils.PTN.utils import independent_accuracy_assesment\n",
    "\n",
    "from torch.utils.data import DataLoader\n",
    "\n",
    "from steves_utils.stratified_dataset.episodic_accessor import Episodic_Accessor_Factory\n",
    "\n",
    "from steves_utils.ptn_do_report import (\n",
    "    get_loss_curve,\n",
    "    get_results_table,\n",
    "    get_parameters_table,\n",
    "    get_domain_accuracies,\n",
    ")\n",
    "\n",
    "from steves_utils.transforms import get_chained_transform"
   ]
  },
  {
   "cell_type": "markdown",
   "id": "41c840b4",
   "metadata": {
    "papermill": {
     "duration": 0.019942,
     "end_time": "2022-03-28T16:40:20.254163",
     "exception": false,
     "start_time": "2022-03-28T16:40:20.234221",
     "status": "completed"
    },
    "tags": []
   },
   "source": [
    "# Allowed Parameters\n",
    "These are allowed parameters, not defaults\n",
    "Each of these values need to be present in the injected parameters (the notebook will raise an exception if they are not present)\n",
    "\n",
    "Papermill uses the cell tag \"parameters\" to inject the real parameters below this cell.\n",
    "Enable tags to see what I mean"
   ]
  },
  {
   "cell_type": "code",
   "execution_count": 2,
   "id": "fd44eb83",
   "metadata": {
    "execution": {
     "iopub.execute_input": "2022-03-28T16:40:20.298005Z",
     "iopub.status.busy": "2022-03-28T16:40:20.297505Z",
     "iopub.status.idle": "2022-03-28T16:40:20.317179Z",
     "shell.execute_reply": "2022-03-28T16:40:20.316436Z"
    },
    "papermill": {
     "duration": 0.043225,
     "end_time": "2022-03-28T16:40:20.317333",
     "exception": false,
     "start_time": "2022-03-28T16:40:20.274108",
     "status": "completed"
    },
    "tags": []
   },
   "outputs": [],
   "source": [
    "required_parameters = {\n",
    "    \"experiment_name\",\n",
    "    \"lr\",\n",
    "    \"device\",\n",
    "    \"seed\",\n",
    "    \"dataset_seed\",\n",
    "    \"n_shot\",\n",
    "    \"n_query\",\n",
    "    \"n_way\",\n",
    "    \"train_k_factor\",\n",
    "    \"val_k_factor\",\n",
    "    \"test_k_factor\",\n",
    "    \"n_epoch\",\n",
    "    \"patience\",\n",
    "    \"criteria_for_best\",\n",
    "    \"x_net\",\n",
    "    \"datasets\",\n",
    "    \"torch_default_dtype\",\n",
    "    \"NUM_LOGS_PER_EPOCH\",\n",
    "    \"BEST_MODEL_PATH\",\n",
    "    \"x_shape\",\n",
    "}"
   ]
  },
  {
   "cell_type": "code",
   "execution_count": 3,
   "id": "fa3f0049",
   "metadata": {
    "execution": {
     "iopub.execute_input": "2022-03-28T16:40:20.372965Z",
     "iopub.status.busy": "2022-03-28T16:40:20.372243Z",
     "iopub.status.idle": "2022-03-28T16:40:20.391603Z",
     "shell.execute_reply": "2022-03-28T16:40:20.390882Z"
    },
    "papermill": {
     "duration": 0.04845,
     "end_time": "2022-03-28T16:40:20.391762",
     "exception": false,
     "start_time": "2022-03-28T16:40:20.343312",
     "status": "completed"
    },
    "tags": [
     "parameters"
    ]
   },
   "outputs": [],
   "source": [
    "from steves_utils.CORES.utils import (\n",
    "    ALL_NODES,\n",
    "    ALL_NODES_MINIMUM_1000_EXAMPLES,\n",
    "    ALL_DAYS\n",
    ")\n",
    "\n",
    "from steves_utils.ORACLE.utils_v2 import (\n",
    "    ALL_DISTANCES_FEET_NARROWED,\n",
    "    ALL_RUNS,\n",
    "    ALL_SERIAL_NUMBERS,\n",
    ")\n",
    "\n",
    "standalone_parameters = {}\n",
    "standalone_parameters[\"experiment_name\"] = \"STANDALONE PTN\"\n",
    "standalone_parameters[\"lr\"] = 0.001\n",
    "standalone_parameters[\"device\"] = \"cuda\"\n",
    "\n",
    "standalone_parameters[\"seed\"] = 1337\n",
    "standalone_parameters[\"dataset_seed\"] = 1337\n",
    "\n",
    "standalone_parameters[\"n_way\"] = 8\n",
    "standalone_parameters[\"n_shot\"] = 3\n",
    "standalone_parameters[\"n_query\"]  = 2\n",
    "standalone_parameters[\"train_k_factor\"] = 1\n",
    "standalone_parameters[\"val_k_factor\"] = 2\n",
    "standalone_parameters[\"test_k_factor\"] = 2\n",
    "\n",
    "\n",
    "standalone_parameters[\"n_epoch\"] = 50\n",
    "\n",
    "standalone_parameters[\"patience\"] = 10\n",
    "standalone_parameters[\"criteria_for_best\"] = \"source_loss\"\n",
    "\n",
    "standalone_parameters[\"datasets\"] = [\n",
    "    {\n",
    "        \"labels\": ALL_SERIAL_NUMBERS,\n",
    "        \"domains\": ALL_DISTANCES_FEET_NARROWED,\n",
    "        \"num_examples_per_domain_per_label\": 100,\n",
    "        \"pickle_path\": os.path.join(get_datasets_base_path(), \"oracle.Run1_framed_2000Examples_stratified_ds.2022A.pkl\"),\n",
    "        \"source_or_target_dataset\": \"source\",\n",
    "        \"x_transforms\": [\"unit_mag\", \"minus_two\"],\n",
    "        \"episode_transforms\": [],\n",
    "        \"domain_prefix\": \"ORACLE_\"\n",
    "    },\n",
    "    {\n",
    "        \"labels\": ALL_NODES,\n",
    "        \"domains\": ALL_DAYS,\n",
    "        \"num_examples_per_domain_per_label\": 100,\n",
    "        \"pickle_path\": os.path.join(get_datasets_base_path(), \"cores.stratified_ds.2022A.pkl\"),\n",
    "        \"source_or_target_dataset\": \"target\",\n",
    "        \"x_transforms\": [\"unit_power\", \"times_zero\"],\n",
    "        \"episode_transforms\": [],\n",
    "        \"domain_prefix\": \"CORES_\"\n",
    "    }   \n",
    "]\n",
    "\n",
    "standalone_parameters[\"torch_default_dtype\"] = \"torch.float32\" \n",
    "\n",
    "\n",
    "\n",
    "standalone_parameters[\"x_net\"] =     [\n",
    "    {\"class\": \"nnReshape\", \"kargs\": {\"shape\":[-1, 1, 2, 256]}},\n",
    "    {\"class\": \"Conv2d\", \"kargs\": { \"in_channels\":1, \"out_channels\":256, \"kernel_size\":(1,7), \"bias\":False, \"padding\":(0,3), },},\n",
    "    {\"class\": \"ReLU\", \"kargs\": {\"inplace\": True}},\n",
    "    {\"class\": \"BatchNorm2d\", \"kargs\": {\"num_features\":256}},\n",
    "\n",
    "    {\"class\": \"Conv2d\", \"kargs\": { \"in_channels\":256, \"out_channels\":80, \"kernel_size\":(2,7), \"bias\":True, \"padding\":(0,3), },},\n",
    "    {\"class\": \"ReLU\", \"kargs\": {\"inplace\": True}},\n",
    "    {\"class\": \"BatchNorm2d\", \"kargs\": {\"num_features\":80}},\n",
    "    {\"class\": \"Flatten\", \"kargs\": {}},\n",
    "\n",
    "    {\"class\": \"Linear\", \"kargs\": {\"in_features\": 80*256, \"out_features\": 256}}, # 80 units per IQ pair\n",
    "    {\"class\": \"ReLU\", \"kargs\": {\"inplace\": True}},\n",
    "    {\"class\": \"BatchNorm1d\", \"kargs\": {\"num_features\":256}},\n",
    "\n",
    "    {\"class\": \"Linear\", \"kargs\": {\"in_features\": 256, \"out_features\": 256}},\n",
    "]\n",
    "\n",
    "# Parameters relevant to results\n",
    "# These parameters will basically never need to change\n",
    "standalone_parameters[\"NUM_LOGS_PER_EPOCH\"] = 10\n",
    "standalone_parameters[\"BEST_MODEL_PATH\"] = \"./best_model.pth\"\n",
    "\n",
    "\n",
    "\n",
    "\n"
   ]
  },
  {
   "cell_type": "code",
   "execution_count": 4,
   "id": "8a9e1467",
   "metadata": {
    "execution": {
     "iopub.execute_input": "2022-03-28T16:40:20.448023Z",
     "iopub.status.busy": "2022-03-28T16:40:20.442310Z",
     "iopub.status.idle": "2022-03-28T16:40:20.468211Z",
     "shell.execute_reply": "2022-03-28T16:40:20.468886Z"
    },
    "papermill": {
     "duration": 0.048396,
     "end_time": "2022-03-28T16:40:20.469066",
     "exception": false,
     "start_time": "2022-03-28T16:40:20.420670",
     "status": "completed"
    },
    "tags": [
     "injected-parameters"
    ]
   },
   "outputs": [],
   "source": [
    "# Parameters\n",
    "parameters = {\n",
    "    \"experiment_name\": \"tl_3-jitter5v2:oracle.run1.framed -> cores\",\n",
    "    \"device\": \"cuda\",\n",
    "    \"lr\": 0.0001,\n",
    "    \"x_shape\": [2, 256],\n",
    "    \"n_shot\": 3,\n",
    "    \"n_query\": 2,\n",
    "    \"train_k_factor\": 3,\n",
    "    \"val_k_factor\": 2,\n",
    "    \"test_k_factor\": 2,\n",
    "    \"torch_default_dtype\": \"torch.float32\",\n",
    "    \"n_epoch\": 50,\n",
    "    \"patience\": 3,\n",
    "    \"criteria_for_best\": \"target_accuracy\",\n",
    "    \"x_net\": [\n",
    "        {\"class\": \"nnReshape\", \"kargs\": {\"shape\": [-1, 1, 2, 256]}},\n",
    "        {\n",
    "            \"class\": \"Conv2d\",\n",
    "            \"kargs\": {\n",
    "                \"in_channels\": 1,\n",
    "                \"out_channels\": 256,\n",
    "                \"kernel_size\": [1, 7],\n",
    "                \"bias\": False,\n",
    "                \"padding\": [0, 3],\n",
    "            },\n",
    "        },\n",
    "        {\"class\": \"ReLU\", \"kargs\": {\"inplace\": True}},\n",
    "        {\"class\": \"BatchNorm2d\", \"kargs\": {\"num_features\": 256}},\n",
    "        {\n",
    "            \"class\": \"Conv2d\",\n",
    "            \"kargs\": {\n",
    "                \"in_channels\": 256,\n",
    "                \"out_channels\": 80,\n",
    "                \"kernel_size\": [2, 7],\n",
    "                \"bias\": True,\n",
    "                \"padding\": [0, 3],\n",
    "            },\n",
    "        },\n",
    "        {\"class\": \"ReLU\", \"kargs\": {\"inplace\": True}},\n",
    "        {\"class\": \"BatchNorm2d\", \"kargs\": {\"num_features\": 80}},\n",
    "        {\"class\": \"Flatten\", \"kargs\": {}},\n",
    "        {\"class\": \"Linear\", \"kargs\": {\"in_features\": 20480, \"out_features\": 256}},\n",
    "        {\"class\": \"ReLU\", \"kargs\": {\"inplace\": True}},\n",
    "        {\"class\": \"BatchNorm1d\", \"kargs\": {\"num_features\": 256}},\n",
    "        {\"class\": \"Linear\", \"kargs\": {\"in_features\": 256, \"out_features\": 256}},\n",
    "    ],\n",
    "    \"NUM_LOGS_PER_EPOCH\": 10,\n",
    "    \"BEST_MODEL_PATH\": \"./best_model.pth\",\n",
    "    \"n_way\": 16,\n",
    "    \"datasets\": [\n",
    "        {\n",
    "            \"labels\": [\n",
    "                \"1-10.\",\n",
    "                \"1-11.\",\n",
    "                \"1-15.\",\n",
    "                \"1-16.\",\n",
    "                \"1-17.\",\n",
    "                \"1-18.\",\n",
    "                \"1-19.\",\n",
    "                \"10-4.\",\n",
    "                \"10-7.\",\n",
    "                \"11-1.\",\n",
    "                \"11-14.\",\n",
    "                \"11-17.\",\n",
    "                \"11-20.\",\n",
    "                \"11-7.\",\n",
    "                \"13-20.\",\n",
    "                \"13-8.\",\n",
    "                \"14-10.\",\n",
    "                \"14-11.\",\n",
    "                \"14-14.\",\n",
    "                \"14-7.\",\n",
    "                \"15-1.\",\n",
    "                \"15-20.\",\n",
    "                \"16-1.\",\n",
    "                \"16-16.\",\n",
    "                \"17-10.\",\n",
    "                \"17-11.\",\n",
    "                \"17-2.\",\n",
    "                \"19-1.\",\n",
    "                \"19-16.\",\n",
    "                \"19-19.\",\n",
    "                \"19-20.\",\n",
    "                \"19-3.\",\n",
    "                \"2-10.\",\n",
    "                \"2-11.\",\n",
    "                \"2-17.\",\n",
    "                \"2-18.\",\n",
    "                \"2-20.\",\n",
    "                \"2-3.\",\n",
    "                \"2-4.\",\n",
    "                \"2-5.\",\n",
    "                \"2-6.\",\n",
    "                \"2-7.\",\n",
    "                \"2-8.\",\n",
    "                \"3-13.\",\n",
    "                \"3-18.\",\n",
    "                \"3-3.\",\n",
    "                \"4-1.\",\n",
    "                \"4-10.\",\n",
    "                \"4-11.\",\n",
    "                \"4-19.\",\n",
    "                \"5-5.\",\n",
    "                \"6-15.\",\n",
    "                \"7-10.\",\n",
    "                \"7-14.\",\n",
    "                \"8-18.\",\n",
    "                \"8-20.\",\n",
    "                \"8-3.\",\n",
    "                \"8-8.\",\n",
    "            ],\n",
    "            \"domains\": [1, 2, 3, 4, 5],\n",
    "            \"num_examples_per_domain_per_label\": -1,\n",
    "            \"pickle_path\": \"/root/csc500-main/datasets/cores.stratified_ds.2022A.pkl\",\n",
    "            \"source_or_target_dataset\": \"target\",\n",
    "            \"x_transforms\": [\n",
    "                \"unit_power\",\n",
    "                \"jitter_256_5\",\n",
    "                \"lowpass_+/-10MHz\",\n",
    "                \"take_200\",\n",
    "            ],\n",
    "            \"episode_transforms\": [],\n",
    "            \"domain_prefix\": \"C_\",\n",
    "        },\n",
    "        {\n",
    "            \"labels\": [\n",
    "                \"3123D52\",\n",
    "                \"3123D65\",\n",
    "                \"3123D79\",\n",
    "                \"3123D80\",\n",
    "                \"3123D54\",\n",
    "                \"3123D70\",\n",
    "                \"3123D7B\",\n",
    "                \"3123D89\",\n",
    "                \"3123D58\",\n",
    "                \"3123D76\",\n",
    "                \"3123D7D\",\n",
    "                \"3123EFE\",\n",
    "                \"3123D64\",\n",
    "                \"3123D78\",\n",
    "                \"3123D7E\",\n",
    "                \"3124E4A\",\n",
    "            ],\n",
    "            \"domains\": [32, 38, 8, 44, 14, 50, 20, 26],\n",
    "            \"num_examples_per_domain_per_label\": 2000,\n",
    "            \"pickle_path\": \"/root/csc500-main/datasets/oracle.Run1_framed_2000Examples_stratified_ds.2022A.pkl\",\n",
    "            \"source_or_target_dataset\": \"source\",\n",
    "            \"x_transforms\": [\n",
    "                \"unit_power\",\n",
    "                \"jitter_256_5\",\n",
    "                \"take_200\",\n",
    "                \"resample_20Msps_to_25Msps\",\n",
    "            ],\n",
    "            \"episode_transforms\": [],\n",
    "            \"domain_prefix\": \"O_\",\n",
    "        },\n",
    "    ],\n",
    "    \"seed\": 154325,\n",
    "    \"dataset_seed\": 154325,\n",
    "}\n"
   ]
  },
  {
   "cell_type": "code",
   "execution_count": 5,
   "id": "8fa1cc33",
   "metadata": {
    "execution": {
     "iopub.execute_input": "2022-03-28T16:40:20.520196Z",
     "iopub.status.busy": "2022-03-28T16:40:20.519822Z",
     "iopub.status.idle": "2022-03-28T16:40:20.537239Z",
     "shell.execute_reply": "2022-03-28T16:40:20.536434Z"
    },
    "papermill": {
     "duration": 0.041776,
     "end_time": "2022-03-28T16:40:20.537391",
     "exception": false,
     "start_time": "2022-03-28T16:40:20.495615",
     "status": "completed"
    },
    "tags": []
   },
   "outputs": [],
   "source": [
    "# Set this to True if you want to run this template directly\n",
    "STANDALONE = False\n",
    "if STANDALONE:\n",
    "    print(\"parameters not injected, running with standalone_parameters\")\n",
    "    parameters = standalone_parameters\n",
    "\n",
    "if not 'parameters' in locals() and not 'parameters' in globals():\n",
    "    raise Exception(\"Parameter injection failed\")\n",
    "\n",
    "#Use an easy dict for all the parameters\n",
    "p = EasyDict(parameters)\n",
    "\n",
    "if \"x_shape\" not in p:\n",
    "    p.x_shape = [2,256] # Default to this if we dont supply x_shape\n",
    "\n",
    "\n",
    "supplied_keys = set(p.keys())\n",
    "\n",
    "if  supplied_keys != required_parameters:\n",
    "    print(\"Parameters are incorrect\")\n",
    "    if len(supplied_keys - required_parameters)>0: print(\"Shouldn't have:\", str(supplied_keys - required_parameters))\n",
    "    if len(required_parameters - supplied_keys)>0: print(\"Need to have:\", str(required_parameters - supplied_keys))\n",
    "    raise RuntimeError(\"Parameters are incorrect\")"
   ]
  },
  {
   "cell_type": "code",
   "execution_count": 6,
   "id": "3a028d58",
   "metadata": {
    "execution": {
     "iopub.execute_input": "2022-03-28T16:40:20.587046Z",
     "iopub.status.busy": "2022-03-28T16:40:20.586681Z",
     "iopub.status.idle": "2022-03-28T16:40:20.604224Z",
     "shell.execute_reply": "2022-03-28T16:40:20.603409Z"
    },
    "papermill": {
     "duration": 0.040328,
     "end_time": "2022-03-28T16:40:20.604378",
     "exception": false,
     "start_time": "2022-03-28T16:40:20.564050",
     "status": "completed"
    },
    "tags": []
   },
   "outputs": [],
   "source": [
    "###################################\n",
    "# Set the RNGs and make it all deterministic\n",
    "###################################\n",
    "np.random.seed(p.seed)\n",
    "random.seed(p.seed)\n",
    "torch.manual_seed(p.seed)\n",
    "\n",
    "torch.use_deterministic_algorithms(True) "
   ]
  },
  {
   "cell_type": "code",
   "execution_count": 7,
   "id": "b691acf6",
   "metadata": {
    "execution": {
     "iopub.execute_input": "2022-03-28T16:40:20.654382Z",
     "iopub.status.busy": "2022-03-28T16:40:20.654015Z",
     "iopub.status.idle": "2022-03-28T16:40:20.669906Z",
     "shell.execute_reply": "2022-03-28T16:40:20.670579Z"
    },
    "papermill": {
     "duration": 0.039316,
     "end_time": "2022-03-28T16:40:20.670759",
     "exception": false,
     "start_time": "2022-03-28T16:40:20.631443",
     "status": "completed"
    },
    "tags": []
   },
   "outputs": [],
   "source": [
    "###########################################\n",
    "# The stratified datasets honor this\n",
    "###########################################\n",
    "torch.set_default_dtype(eval(p.torch_default_dtype))"
   ]
  },
  {
   "cell_type": "code",
   "execution_count": 8,
   "id": "b5fba671",
   "metadata": {
    "execution": {
     "iopub.execute_input": "2022-03-28T16:40:20.719658Z",
     "iopub.status.busy": "2022-03-28T16:40:20.719275Z",
     "iopub.status.idle": "2022-03-28T16:40:20.772254Z",
     "shell.execute_reply": "2022-03-28T16:40:20.772925Z"
    },
    "papermill": {
     "duration": 0.076555,
     "end_time": "2022-03-28T16:40:20.773104",
     "exception": false,
     "start_time": "2022-03-28T16:40:20.696549",
     "status": "completed"
    },
    "tags": []
   },
   "outputs": [],
   "source": [
    "###################################\n",
    "# Build the network(s)\n",
    "# Note: It's critical to do this AFTER setting the RNG\n",
    "###################################\n",
    "x_net = build_sequential(p.x_net)"
   ]
  },
  {
   "cell_type": "code",
   "execution_count": 9,
   "id": "5d7e61cc",
   "metadata": {
    "execution": {
     "iopub.execute_input": "2022-03-28T16:40:20.821751Z",
     "iopub.status.busy": "2022-03-28T16:40:20.821387Z",
     "iopub.status.idle": "2022-03-28T16:40:20.845666Z",
     "shell.execute_reply": "2022-03-28T16:40:20.844957Z"
    },
    "papermill": {
     "duration": 0.048014,
     "end_time": "2022-03-28T16:40:20.845818",
     "exception": false,
     "start_time": "2022-03-28T16:40:20.797804",
     "status": "completed"
    },
    "tags": []
   },
   "outputs": [],
   "source": [
    "start_time_secs = time.time()"
   ]
  },
  {
   "cell_type": "code",
   "execution_count": 10,
   "id": "c6b67dfd",
   "metadata": {
    "execution": {
     "iopub.execute_input": "2022-03-28T16:40:20.896181Z",
     "iopub.status.busy": "2022-03-28T16:40:20.895815Z",
     "iopub.status.idle": "2022-03-28T16:40:20.915634Z",
     "shell.execute_reply": "2022-03-28T16:40:20.914894Z"
    },
    "papermill": {
     "duration": 0.043454,
     "end_time": "2022-03-28T16:40:20.915789",
     "exception": false,
     "start_time": "2022-03-28T16:40:20.872335",
     "status": "completed"
    },
    "tags": []
   },
   "outputs": [],
   "source": [
    "p.domains_source = []\n",
    "p.domains_target = []\n",
    "\n",
    "\n",
    "train_original_source = []\n",
    "val_original_source   = []\n",
    "test_original_source  = []\n",
    "\n",
    "train_original_target = []\n",
    "val_original_target   = []\n",
    "test_original_target  = []"
   ]
  },
  {
   "cell_type": "code",
   "execution_count": 11,
   "id": "e3d9c3d3",
   "metadata": {
    "execution": {
     "iopub.execute_input": "2022-03-28T16:40:20.967089Z",
     "iopub.status.busy": "2022-03-28T16:40:20.966725Z",
     "iopub.status.idle": "2022-03-28T16:40:20.982964Z",
     "shell.execute_reply": "2022-03-28T16:40:20.982254Z"
    },
    "papermill": {
     "duration": 0.039336,
     "end_time": "2022-03-28T16:40:20.983118",
     "exception": false,
     "start_time": "2022-03-28T16:40:20.943782",
     "status": "completed"
    },
    "tags": []
   },
   "outputs": [],
   "source": [
    "# global_x_transform_func = lambda x: normalize(x.to(torch.get_default_dtype()), \"unit_power\") # unit_power, unit_mag\n",
    "# global_x_transform_func = lambda x: normalize(x, \"unit_power\") # unit_power, unit_mag"
   ]
  },
  {
   "cell_type": "code",
   "execution_count": 12,
   "id": "acb78fd2",
   "metadata": {
    "execution": {
     "iopub.execute_input": "2022-03-28T16:40:21.040735Z",
     "iopub.status.busy": "2022-03-28T16:40:21.040161Z",
     "iopub.status.idle": "2022-03-28T16:40:21.067214Z",
     "shell.execute_reply": "2022-03-28T16:40:21.066399Z"
    },
    "papermill": {
     "duration": 0.056285,
     "end_time": "2022-03-28T16:40:21.067369",
     "exception": false,
     "start_time": "2022-03-28T16:40:21.011084",
     "status": "completed"
    },
    "tags": []
   },
   "outputs": [],
   "source": [
    "def add_dataset(\n",
    "    labels,\n",
    "    domains,\n",
    "    pickle_path,\n",
    "    x_transforms,\n",
    "    episode_transforms,\n",
    "    domain_prefix,\n",
    "    num_examples_per_domain_per_label,\n",
    "    source_or_target_dataset:str,\n",
    "    iterator_seed=p.seed,\n",
    "    dataset_seed=p.dataset_seed,\n",
    "    n_shot=p.n_shot,\n",
    "    n_way=p.n_way,\n",
    "    n_query=p.n_query,\n",
    "    train_val_test_k_factors=(p.train_k_factor,p.val_k_factor,p.test_k_factor),\n",
    "):\n",
    "   \n",
    "    if x_transforms == []: x_transform = None\n",
    "    else: x_transform = get_chained_transform(x_transforms)\n",
    "    \n",
    "    if episode_transforms == []: episode_transform = None\n",
    "    else: raise Exception(\"episode_transforms not implemented\")\n",
    "    \n",
    "    episode_transform = lambda tup, _prefix=domain_prefix: (_prefix + str(tup[0]), tup[1])\n",
    "\n",
    "\n",
    "    eaf = Episodic_Accessor_Factory(\n",
    "        labels=labels,\n",
    "        domains=domains,\n",
    "        num_examples_per_domain_per_label=num_examples_per_domain_per_label,\n",
    "        iterator_seed=iterator_seed,\n",
    "        dataset_seed=dataset_seed,\n",
    "        n_shot=n_shot,\n",
    "        n_way=n_way,\n",
    "        n_query=n_query,\n",
    "        train_val_test_k_factors=train_val_test_k_factors,\n",
    "        pickle_path=pickle_path,\n",
    "        x_transform_func=x_transform,\n",
    "    )\n",
    "\n",
    "    train, val, test = eaf.get_train(), eaf.get_val(), eaf.get_test()\n",
    "    train = Lazy_Iterable_Wrapper(train, episode_transform)\n",
    "    val = Lazy_Iterable_Wrapper(val, episode_transform)\n",
    "    test = Lazy_Iterable_Wrapper(test, episode_transform)\n",
    "\n",
    "    if source_or_target_dataset==\"source\":\n",
    "        train_original_source.append(train)\n",
    "        val_original_source.append(val)\n",
    "        test_original_source.append(test)\n",
    "\n",
    "        p.domains_source.extend(\n",
    "            [domain_prefix + str(u) for u in domains]\n",
    "        )\n",
    "    elif source_or_target_dataset==\"target\":\n",
    "        train_original_target.append(train)\n",
    "        val_original_target.append(val)\n",
    "        test_original_target.append(test)\n",
    "        p.domains_target.extend(\n",
    "            [domain_prefix + str(u) for u in domains]\n",
    "        )\n",
    "    else:\n",
    "        raise Exception(f\"invalid source_or_target_dataset: {source_or_target_dataset}\")\n",
    "    "
   ]
  },
  {
   "cell_type": "code",
   "execution_count": 13,
   "id": "fe266617",
   "metadata": {
    "execution": {
     "iopub.execute_input": "2022-03-28T16:40:21.116573Z",
     "iopub.status.busy": "2022-03-28T16:40:21.116214Z",
     "iopub.status.idle": "2022-03-28T16:42:11.823929Z",
     "shell.execute_reply": "2022-03-28T16:42:11.823110Z"
    },
    "papermill": {
     "duration": 110.731211,
     "end_time": "2022-03-28T16:42:11.824110",
     "exception": false,
     "start_time": "2022-03-28T16:40:21.092899",
     "status": "completed"
    },
    "tags": []
   },
   "outputs": [],
   "source": [
    "for ds in p.datasets:\n",
    "    add_dataset(**ds)"
   ]
  },
  {
   "cell_type": "code",
   "execution_count": 14,
   "id": "b90d65ac",
   "metadata": {
    "execution": {
     "iopub.execute_input": "2022-03-28T16:42:11.876186Z",
     "iopub.status.busy": "2022-03-28T16:42:11.875808Z",
     "iopub.status.idle": "2022-03-28T16:42:11.903494Z",
     "shell.execute_reply": "2022-03-28T16:42:11.902693Z"
    },
    "papermill": {
     "duration": 0.05291,
     "end_time": "2022-03-28T16:42:11.903667",
     "exception": false,
     "start_time": "2022-03-28T16:42:11.850757",
     "status": "completed"
    },
    "tags": []
   },
   "outputs": [],
   "source": [
    "# from steves_utils.CORES.utils import (\n",
    "#     ALL_NODES,\n",
    "#     ALL_NODES_MINIMUM_1000_EXAMPLES,\n",
    "#     ALL_DAYS\n",
    "# )\n",
    "\n",
    "# add_dataset(\n",
    "#     labels=ALL_NODES,\n",
    "#     domains = ALL_DAYS,\n",
    "#     num_examples_per_domain_per_label=100,\n",
    "#     pickle_path=os.path.join(get_datasets_base_path(), \"cores.stratified_ds.2022A.pkl\"),\n",
    "#     source_or_target_dataset=\"target\",\n",
    "#     x_transform_func=global_x_transform_func,\n",
    "#     domain_modifier=lambda u: f\"cores_{u}\"\n",
    "# )"
   ]
  },
  {
   "cell_type": "code",
   "execution_count": 15,
   "id": "76db484d",
   "metadata": {
    "execution": {
     "iopub.execute_input": "2022-03-28T16:42:11.955598Z",
     "iopub.status.busy": "2022-03-28T16:42:11.954806Z",
     "iopub.status.idle": "2022-03-28T16:42:11.978230Z",
     "shell.execute_reply": "2022-03-28T16:42:11.977436Z"
    },
    "papermill": {
     "duration": 0.047041,
     "end_time": "2022-03-28T16:42:11.978386",
     "exception": false,
     "start_time": "2022-03-28T16:42:11.931345",
     "status": "completed"
    },
    "tags": []
   },
   "outputs": [],
   "source": [
    "# from steves_utils.ORACLE.utils_v2 import (\n",
    "#     ALL_DISTANCES_FEET,\n",
    "#     ALL_RUNS,\n",
    "#     ALL_SERIAL_NUMBERS,\n",
    "# )\n",
    "\n",
    "\n",
    "# add_dataset(\n",
    "#     labels=ALL_SERIAL_NUMBERS,\n",
    "#     domains = list(set(ALL_DISTANCES_FEET) - {2,62}),\n",
    "#     num_examples_per_domain_per_label=100,\n",
    "#     pickle_path=os.path.join(get_datasets_base_path(), \"oracle.Run2_framed_2000Examples_stratified_ds.2022A.pkl\"),\n",
    "#     source_or_target_dataset=\"source\",\n",
    "#     x_transform_func=global_x_transform_func,\n",
    "#     domain_modifier=lambda u: f\"oracle1_{u}\"\n",
    "# )\n"
   ]
  },
  {
   "cell_type": "code",
   "execution_count": 16,
   "id": "97dea9d2",
   "metadata": {
    "execution": {
     "iopub.execute_input": "2022-03-28T16:42:12.029602Z",
     "iopub.status.busy": "2022-03-28T16:42:12.028824Z",
     "iopub.status.idle": "2022-03-28T16:42:12.051307Z",
     "shell.execute_reply": "2022-03-28T16:42:12.050518Z"
    },
    "papermill": {
     "duration": 0.046026,
     "end_time": "2022-03-28T16:42:12.051459",
     "exception": false,
     "start_time": "2022-03-28T16:42:12.005433",
     "status": "completed"
    },
    "tags": []
   },
   "outputs": [],
   "source": [
    "# from steves_utils.ORACLE.utils_v2 import (\n",
    "#     ALL_DISTANCES_FEET,\n",
    "#     ALL_RUNS,\n",
    "#     ALL_SERIAL_NUMBERS,\n",
    "# )\n",
    "\n",
    "\n",
    "# add_dataset(\n",
    "#     labels=ALL_SERIAL_NUMBERS,\n",
    "#     domains = list(set(ALL_DISTANCES_FEET) - {2,62,56}),\n",
    "#     num_examples_per_domain_per_label=100,\n",
    "#     pickle_path=os.path.join(get_datasets_base_path(), \"oracle.Run2_framed_2000Examples_stratified_ds.2022A.pkl\"),\n",
    "#     source_or_target_dataset=\"source\",\n",
    "#     x_transform_func=global_x_transform_func,\n",
    "#     domain_modifier=lambda u: f\"oracle2_{u}\"\n",
    "# )"
   ]
  },
  {
   "cell_type": "code",
   "execution_count": 17,
   "id": "6f289866",
   "metadata": {
    "execution": {
     "iopub.execute_input": "2022-03-28T16:42:12.104034Z",
     "iopub.status.busy": "2022-03-28T16:42:12.103668Z",
     "iopub.status.idle": "2022-03-28T16:42:12.126315Z",
     "shell.execute_reply": "2022-03-28T16:42:12.125532Z"
    },
    "papermill": {
     "duration": 0.046897,
     "end_time": "2022-03-28T16:42:12.126468",
     "exception": false,
     "start_time": "2022-03-28T16:42:12.079571",
     "status": "completed"
    },
    "tags": []
   },
   "outputs": [],
   "source": [
    "# add_dataset(\n",
    "#     labels=list(range(19)),\n",
    "#     domains = [0,1,2],\n",
    "#     num_examples_per_domain_per_label=100,\n",
    "#     pickle_path=os.path.join(get_datasets_base_path(), \"metehan.stratified_ds.2022A.pkl\"),\n",
    "#     source_or_target_dataset=\"target\",\n",
    "#     x_transform_func=global_x_transform_func,\n",
    "#     domain_modifier=lambda u: f\"met_{u}\"\n",
    "# )"
   ]
  },
  {
   "cell_type": "code",
   "execution_count": 18,
   "id": "86a863c3",
   "metadata": {
    "execution": {
     "iopub.execute_input": "2022-03-28T16:42:12.177805Z",
     "iopub.status.busy": "2022-03-28T16:42:12.175964Z",
     "iopub.status.idle": "2022-03-28T16:42:12.198655Z",
     "shell.execute_reply": "2022-03-28T16:42:12.197862Z"
    },
    "papermill": {
     "duration": 0.045653,
     "end_time": "2022-03-28T16:42:12.198810",
     "exception": false,
     "start_time": "2022-03-28T16:42:12.153157",
     "status": "completed"
    },
    "tags": []
   },
   "outputs": [],
   "source": [
    "# # from steves_utils.wisig.utils import (\n",
    "# #     ALL_NODES_MINIMUM_100_EXAMPLES,\n",
    "# #     ALL_NODES_MINIMUM_500_EXAMPLES,\n",
    "# #     ALL_NODES_MINIMUM_1000_EXAMPLES,\n",
    "# #     ALL_DAYS\n",
    "# # )\n",
    "\n",
    "# import steves_utils.wisig.utils as wisig\n",
    "\n",
    "\n",
    "# add_dataset(\n",
    "#     labels=wisig.ALL_NODES_MINIMUM_100_EXAMPLES,\n",
    "#     domains = wisig.ALL_DAYS,\n",
    "#     num_examples_per_domain_per_label=100,\n",
    "#     pickle_path=os.path.join(get_datasets_base_path(), \"wisig.node3-19.stratified_ds.2022A.pkl\"),\n",
    "#     source_or_target_dataset=\"target\",\n",
    "#     x_transform_func=global_x_transform_func,\n",
    "#     domain_modifier=lambda u: f\"wisig_{u}\"\n",
    "# )"
   ]
  },
  {
   "cell_type": "code",
   "execution_count": 19,
   "id": "fd5442bc",
   "metadata": {
    "execution": {
     "iopub.execute_input": "2022-03-28T16:42:12.257060Z",
     "iopub.status.busy": "2022-03-28T16:42:12.256203Z",
     "iopub.status.idle": "2022-03-28T16:42:12.276785Z",
     "shell.execute_reply": "2022-03-28T16:42:12.276054Z"
    },
    "papermill": {
     "duration": 0.04957,
     "end_time": "2022-03-28T16:42:12.276964",
     "exception": false,
     "start_time": "2022-03-28T16:42:12.227394",
     "status": "completed"
    },
    "tags": []
   },
   "outputs": [],
   "source": [
    "###################################\n",
    "# Build the dataset\n",
    "###################################\n",
    "train_original_source = Iterable_Aggregator(train_original_source, p.seed)\n",
    "val_original_source = Iterable_Aggregator(val_original_source, p.seed)\n",
    "test_original_source = Iterable_Aggregator(test_original_source, p.seed)\n",
    "\n",
    "\n",
    "train_original_target = Iterable_Aggregator(train_original_target, p.seed)\n",
    "val_original_target = Iterable_Aggregator(val_original_target, p.seed)\n",
    "test_original_target = Iterable_Aggregator(test_original_target, p.seed)\n",
    "\n",
    "# For CNN We only use X and Y. And we only train on the source.\n",
    "# Properly form the data using a transform lambda and Lazy_Iterable_Wrapper. Finally wrap them in a dataloader\n",
    "\n",
    "transform_lambda = lambda ex: ex[1] # Original is (<domain>, <episode>) so we strip down to episode only\n",
    "\n",
    "train_processed_source = Lazy_Iterable_Wrapper(train_original_source, transform_lambda)\n",
    "val_processed_source   = Lazy_Iterable_Wrapper(val_original_source, transform_lambda)\n",
    "test_processed_source  = Lazy_Iterable_Wrapper(test_original_source, transform_lambda)\n",
    "\n",
    "train_processed_target = Lazy_Iterable_Wrapper(train_original_target, transform_lambda)\n",
    "val_processed_target   = Lazy_Iterable_Wrapper(val_original_target, transform_lambda)\n",
    "test_processed_target  = Lazy_Iterable_Wrapper(test_original_target, transform_lambda)\n",
    "\n",
    "datasets = EasyDict({\n",
    "    \"source\": {\n",
    "        \"original\": {\"train\":train_original_source, \"val\":val_original_source, \"test\":test_original_source},\n",
    "        \"processed\": {\"train\":train_processed_source, \"val\":val_processed_source, \"test\":test_processed_source}\n",
    "    },\n",
    "    \"target\": {\n",
    "        \"original\": {\"train\":train_original_target, \"val\":val_original_target, \"test\":test_original_target},\n",
    "        \"processed\": {\"train\":train_processed_target, \"val\":val_processed_target, \"test\":test_processed_target}\n",
    "    },\n",
    "})"
   ]
  },
  {
   "cell_type": "code",
   "execution_count": 20,
   "id": "5b3c01fc",
   "metadata": {
    "execution": {
     "iopub.execute_input": "2022-03-28T16:42:12.328728Z",
     "iopub.status.busy": "2022-03-28T16:42:12.328351Z",
     "iopub.status.idle": "2022-03-28T16:42:27.149358Z",
     "shell.execute_reply": "2022-03-28T16:42:27.150061Z"
    },
    "papermill": {
     "duration": 14.847301,
     "end_time": "2022-03-28T16:42:27.150282",
     "exception": false,
     "start_time": "2022-03-28T16:42:12.302981",
     "status": "completed"
    },
    "tags": []
   },
   "outputs": [
    {
     "name": "stdout",
     "output_type": "stream",
     "text": [
      "{'O_20', 'O_38', 'O_8', 'O_44', 'O_26', 'O_14', 'O_32', 'O_50'}\n"
     ]
    },
    {
     "name": "stdout",
     "output_type": "stream",
     "text": [
      "{'C_1', 'C_2', 'C_5', 'C_3', 'C_4'}\n"
     ]
    },
    {
     "name": "stdout",
     "output_type": "stream",
     "text": [
      "tensor([[[0., 0., 0.,  ..., 0., 0., 0.],\n",
      "         [0., 0., 0.,  ..., 0., 0., 0.]],\n",
      "\n",
      "        [[0., 0., 0.,  ..., 0., 0., 0.],\n",
      "         [0., 0., 0.,  ..., 0., 0., 0.]],\n",
      "\n",
      "        [[0., 0., 0.,  ..., 0., 0., 0.],\n",
      "         [0., 0., 0.,  ..., 0., 0., 0.]],\n",
      "\n",
      "        ...,\n",
      "\n",
      "        [[0., 0., 0.,  ..., 0., 0., 0.],\n",
      "         [0., 0., 0.,  ..., 0., 0., 0.]],\n",
      "\n",
      "        [[0., 0., 0.,  ..., 0., 0., 0.],\n",
      "         [0., 0., 0.,  ..., 0., 0., 0.]],\n",
      "\n",
      "        [[0., 0., 0.,  ..., 0., 0., 0.],\n",
      "         [0., 0., 0.,  ..., 0., 0., 0.]]])\n"
     ]
    }
   ],
   "source": [
    "from steves_utils.transforms import get_average_magnitude, get_average_power\n",
    "\n",
    "print(set([u for u,_ in val_original_source]))\n",
    "print(set([u for u,_ in val_original_target]))\n",
    "\n",
    "s_x, s_y, q_x, q_y, _ = next(iter(train_processed_source))\n",
    "print(s_x)\n",
    "\n",
    "# for ds in [\n",
    "#     train_processed_source,\n",
    "#     val_processed_source,\n",
    "#     test_processed_source,\n",
    "#     train_processed_target,\n",
    "#     val_processed_target,\n",
    "#     test_processed_target\n",
    "# ]:\n",
    "#     for s_x, s_y, q_x, q_y, _ in ds:\n",
    "#         for X in (s_x, q_x):\n",
    "#             for x in X:\n",
    "#                 assert np.isclose(get_average_magnitude(x.numpy()), 1.0)\n",
    "#                 assert np.isclose(get_average_power(x.numpy()), 1.0)\n",
    "                "
   ]
  },
  {
   "cell_type": "code",
   "execution_count": 21,
   "id": "bbdacba1",
   "metadata": {
    "execution": {
     "iopub.execute_input": "2022-03-28T16:42:27.208192Z",
     "iopub.status.busy": "2022-03-28T16:42:27.207815Z",
     "iopub.status.idle": "2022-03-28T16:42:27.374709Z",
     "shell.execute_reply": "2022-03-28T16:42:27.375342Z"
    },
    "papermill": {
     "duration": 0.194671,
     "end_time": "2022-03-28T16:42:27.375581",
     "exception": false,
     "start_time": "2022-03-28T16:42:27.180910",
     "status": "completed"
    },
    "tags": []
   },
   "outputs": [
    {
     "name": "stdout",
     "output_type": "stream",
     "text": [
      "(2, 256)\n"
     ]
    }
   ],
   "source": [
    "###################################\n",
    "# Build the model\n",
    "###################################\n",
    "# easfsl only wants a tuple for the shape\n",
    "model = Steves_Prototypical_Network(x_net, device=p.device, x_shape=tuple(p.x_shape))\n",
    "optimizer = Adam(params=model.parameters(), lr=p.lr)"
   ]
  },
  {
   "cell_type": "code",
   "execution_count": 22,
   "id": "22b39ac5",
   "metadata": {
    "execution": {
     "iopub.execute_input": "2022-03-28T16:42:27.446136Z",
     "iopub.status.busy": "2022-03-28T16:42:27.445329Z",
     "iopub.status.idle": "2022-03-28T17:22:13.303348Z",
     "shell.execute_reply": "2022-03-28T17:22:13.303011Z"
    },
    "papermill": {
     "duration": 2385.899784,
     "end_time": "2022-03-28T17:22:13.303431",
     "exception": false,
     "start_time": "2022-03-28T16:42:27.403647",
     "status": "completed"
    },
    "tags": []
   },
   "outputs": [
    {
     "name": "stdout",
     "output_type": "stream",
     "text": [
      "epoch: 1, [batch: 1 / 6720], examples_per_second: 33.2067, train_label_loss: 2.7901, \n"
     ]
    },
    {
     "name": "stdout",
     "output_type": "stream",
     "text": [
      "epoch: 1, [batch: 672 / 6720], examples_per_second: 2972.9263, train_label_loss: 2.7998, \n"
     ]
    },
    {
     "name": "stdout",
     "output_type": "stream",
     "text": [
      "epoch: 1, [batch: 1344 / 6720], examples_per_second: 2959.8593, train_label_loss: 1.7639, \n"
     ]
    },
    {
     "name": "stdout",
     "output_type": "stream",
     "text": [
      "epoch: 1, [batch: 2016 / 6720], examples_per_second: 2971.5004, train_label_loss: 1.4767, \n"
     ]
    },
    {
     "name": "stdout",
     "output_type": "stream",
     "text": [
      "epoch: 1, [batch: 2688 / 6720], examples_per_second: 2941.1004, train_label_loss: 1.4839, \n"
     ]
    },
    {
     "name": "stdout",
     "output_type": "stream",
     "text": [
      "epoch: 1, [batch: 3360 / 6720], examples_per_second: 2957.3682, train_label_loss: 1.4596, \n"
     ]
    },
    {
     "name": "stdout",
     "output_type": "stream",
     "text": [
      "epoch: 1, [batch: 4032 / 6720], examples_per_second: 3133.0284, train_label_loss: 1.3625, \n"
     ]
    },
    {
     "name": "stdout",
     "output_type": "stream",
     "text": [
      "epoch: 1, [batch: 4704 / 6720], examples_per_second: 3428.3000, train_label_loss: 1.3036, \n"
     ]
    },
    {
     "name": "stdout",
     "output_type": "stream",
     "text": [
      "epoch: 1, [batch: 5376 / 6720], examples_per_second: 3704.5205, train_label_loss: 0.8657, \n"
     ]
    },
    {
     "name": "stdout",
     "output_type": "stream",
     "text": [
      "epoch: 1, [batch: 6048 / 6720], examples_per_second: 3622.9099, train_label_loss: 0.8618, \n"
     ]
    },
    {
     "name": "stdout",
     "output_type": "stream",
     "text": [
      "=============================================================\n",
      "epoch: 1, source_val_acc_label: 0.5831, target_val_acc_label: 0.9398, source_val_label_loss: 1.1659, target_val_label_loss: 0.4422, \n",
      "=============================================================\n"
     ]
    },
    {
     "name": "stdout",
     "output_type": "stream",
     "text": [
      "New best\n"
     ]
    },
    {
     "name": "stdout",
     "output_type": "stream",
     "text": [
      "epoch: 2, [batch: 1 / 6720], examples_per_second: 2.9730, train_label_loss: 0.8437, \n"
     ]
    },
    {
     "name": "stdout",
     "output_type": "stream",
     "text": [
      "epoch: 2, [batch: 672 / 6720], examples_per_second: 2969.3899, train_label_loss: 0.8214, \n"
     ]
    },
    {
     "name": "stdout",
     "output_type": "stream",
     "text": [
      "epoch: 2, [batch: 1344 / 6720], examples_per_second: 3016.2972, train_label_loss: 1.4332, \n"
     ]
    },
    {
     "name": "stdout",
     "output_type": "stream",
     "text": [
      "epoch: 2, [batch: 2016 / 6720], examples_per_second: 3011.3152, train_label_loss: 0.4965, \n"
     ]
    },
    {
     "name": "stdout",
     "output_type": "stream",
     "text": [
      "epoch: 2, [batch: 2688 / 6720], examples_per_second: 3023.2124, train_label_loss: 0.8770, \n"
     ]
    },
    {
     "name": "stdout",
     "output_type": "stream",
     "text": [
      "epoch: 2, [batch: 3360 / 6720], examples_per_second: 3020.9312, train_label_loss: 0.7544, \n"
     ]
    },
    {
     "name": "stdout",
     "output_type": "stream",
     "text": [
      "epoch: 2, [batch: 4032 / 6720], examples_per_second: 3159.9843, train_label_loss: 0.6561, \n"
     ]
    },
    {
     "name": "stdout",
     "output_type": "stream",
     "text": [
      "epoch: 2, [batch: 4704 / 6720], examples_per_second: 3436.0866, train_label_loss: 0.6096, \n"
     ]
    },
    {
     "name": "stdout",
     "output_type": "stream",
     "text": [
      "epoch: 2, [batch: 5376 / 6720], examples_per_second: 3668.8617, train_label_loss: 1.3515, \n"
     ]
    },
    {
     "name": "stdout",
     "output_type": "stream",
     "text": [
      "epoch: 2, [batch: 6048 / 6720], examples_per_second: 3562.2805, train_label_loss: 0.8385, \n"
     ]
    },
    {
     "name": "stdout",
     "output_type": "stream",
     "text": [
      "=============================================================\n",
      "epoch: 2, source_val_acc_label: 0.6627, target_val_acc_label: 0.9631, source_val_label_loss: 0.9019, target_val_label_loss: 0.1500, \n",
      "=============================================================\n"
     ]
    },
    {
     "name": "stdout",
     "output_type": "stream",
     "text": [
      "New best\n"
     ]
    },
    {
     "name": "stdout",
     "output_type": "stream",
     "text": [
      "epoch: 3, [batch: 1 / 6720], examples_per_second: 2.9687, train_label_loss: 1.3888, \n"
     ]
    },
    {
     "name": "stdout",
     "output_type": "stream",
     "text": [
      "epoch: 3, [batch: 672 / 6720], examples_per_second: 3021.6248, train_label_loss: 0.7486, \n"
     ]
    },
    {
     "name": "stdout",
     "output_type": "stream",
     "text": [
      "epoch: 3, [batch: 1344 / 6720], examples_per_second: 3046.4651, train_label_loss: 0.8759, \n"
     ]
    },
    {
     "name": "stdout",
     "output_type": "stream",
     "text": [
      "epoch: 3, [batch: 2016 / 6720], examples_per_second: 3029.7791, train_label_loss: 1.0451, \n"
     ]
    },
    {
     "name": "stdout",
     "output_type": "stream",
     "text": [
      "epoch: 3, [batch: 2688 / 6720], examples_per_second: 2972.2675, train_label_loss: 0.8113, \n"
     ]
    },
    {
     "name": "stdout",
     "output_type": "stream",
     "text": [
      "epoch: 3, [batch: 3360 / 6720], examples_per_second: 2981.5781, train_label_loss: 0.6940, \n"
     ]
    },
    {
     "name": "stdout",
     "output_type": "stream",
     "text": [
      "epoch: 3, [batch: 4032 / 6720], examples_per_second: 3064.2959, train_label_loss: 0.7206, \n"
     ]
    },
    {
     "name": "stdout",
     "output_type": "stream",
     "text": [
      "epoch: 3, [batch: 4704 / 6720], examples_per_second: 3448.4372, train_label_loss: 0.6672, \n"
     ]
    },
    {
     "name": "stdout",
     "output_type": "stream",
     "text": [
      "epoch: 3, [batch: 5376 / 6720], examples_per_second: 3739.4357, train_label_loss: 0.5319, \n"
     ]
    },
    {
     "name": "stdout",
     "output_type": "stream",
     "text": [
      "epoch: 3, [batch: 6048 / 6720], examples_per_second: 3713.2929, train_label_loss: 1.1965, \n"
     ]
    },
    {
     "name": "stdout",
     "output_type": "stream",
     "text": [
      "=============================================================\n",
      "epoch: 3, source_val_acc_label: 0.6793, target_val_acc_label: 0.9573, source_val_label_loss: 0.8573, target_val_label_loss: 0.1685, \n",
      "=============================================================\n"
     ]
    },
    {
     "name": "stdout",
     "output_type": "stream",
     "text": [
      "epoch: 4, [batch: 1 / 6720], examples_per_second: 2.9771, train_label_loss: 0.9015, \n"
     ]
    },
    {
     "name": "stdout",
     "output_type": "stream",
     "text": [
      "epoch: 4, [batch: 672 / 6720], examples_per_second: 2970.8526, train_label_loss: 0.6352, \n"
     ]
    },
    {
     "name": "stdout",
     "output_type": "stream",
     "text": [
      "epoch: 4, [batch: 1344 / 6720], examples_per_second: 3043.0315, train_label_loss: 0.5832, \n"
     ]
    },
    {
     "name": "stdout",
     "output_type": "stream",
     "text": [
      "epoch: 4, [batch: 2016 / 6720], examples_per_second: 3033.2761, train_label_loss: 0.6514, \n"
     ]
    },
    {
     "name": "stdout",
     "output_type": "stream",
     "text": [
      "epoch: 4, [batch: 2688 / 6720], examples_per_second: 3041.5940, train_label_loss: 0.7991, \n"
     ]
    },
    {
     "name": "stdout",
     "output_type": "stream",
     "text": [
      "epoch: 4, [batch: 3360 / 6720], examples_per_second: 3023.3295, train_label_loss: 0.4777, \n"
     ]
    },
    {
     "name": "stdout",
     "output_type": "stream",
     "text": [
      "epoch: 4, [batch: 4032 / 6720], examples_per_second: 3051.4206, train_label_loss: 0.8736, \n"
     ]
    },
    {
     "name": "stdout",
     "output_type": "stream",
     "text": [
      "epoch: 4, [batch: 4704 / 6720], examples_per_second: 3431.8645, train_label_loss: 0.8618, \n"
     ]
    },
    {
     "name": "stdout",
     "output_type": "stream",
     "text": [
      "epoch: 4, [batch: 5376 / 6720], examples_per_second: 3709.6519, train_label_loss: 0.5445, \n"
     ]
    },
    {
     "name": "stdout",
     "output_type": "stream",
     "text": [
      "epoch: 4, [batch: 6048 / 6720], examples_per_second: 3884.3719, train_label_loss: 0.6757, \n"
     ]
    },
    {
     "name": "stdout",
     "output_type": "stream",
     "text": [
      "=============================================================\n",
      "epoch: 4, source_val_acc_label: 0.6955, target_val_acc_label: 0.9546, source_val_label_loss: 0.8127, target_val_label_loss: 0.1821, \n",
      "=============================================================\n"
     ]
    },
    {
     "name": "stdout",
     "output_type": "stream",
     "text": [
      "epoch: 5, [batch: 1 / 6720], examples_per_second: 2.9318, train_label_loss: 0.9786, \n"
     ]
    },
    {
     "name": "stdout",
     "output_type": "stream",
     "text": [
      "epoch: 5, [batch: 672 / 6720], examples_per_second: 3001.1157, train_label_loss: 0.9551, \n"
     ]
    },
    {
     "name": "stdout",
     "output_type": "stream",
     "text": [
      "epoch: 5, [batch: 1344 / 6720], examples_per_second: 3059.5911, train_label_loss: 0.7161, \n"
     ]
    },
    {
     "name": "stdout",
     "output_type": "stream",
     "text": [
      "epoch: 5, [batch: 2016 / 6720], examples_per_second: 3006.7060, train_label_loss: 1.2515, \n"
     ]
    },
    {
     "name": "stdout",
     "output_type": "stream",
     "text": [
      "epoch: 5, [batch: 2688 / 6720], examples_per_second: 2998.1719, train_label_loss: 1.0814, \n"
     ]
    },
    {
     "name": "stdout",
     "output_type": "stream",
     "text": [
      "epoch: 5, [batch: 3360 / 6720], examples_per_second: 3124.1332, train_label_loss: 1.5242, \n"
     ]
    },
    {
     "name": "stdout",
     "output_type": "stream",
     "text": [
      "epoch: 5, [batch: 4032 / 6720], examples_per_second: 3051.0885, train_label_loss: 0.5418, \n"
     ]
    },
    {
     "name": "stdout",
     "output_type": "stream",
     "text": [
      "epoch: 5, [batch: 4704 / 6720], examples_per_second: 3404.3348, train_label_loss: 0.6566, \n"
     ]
    },
    {
     "name": "stdout",
     "output_type": "stream",
     "text": [
      "epoch: 5, [batch: 5376 / 6720], examples_per_second: 3856.1538, train_label_loss: 0.7843, \n"
     ]
    },
    {
     "name": "stdout",
     "output_type": "stream",
     "text": [
      "epoch: 5, [batch: 6048 / 6720], examples_per_second: 3942.9422, train_label_loss: 0.6121, \n"
     ]
    },
    {
     "name": "stdout",
     "output_type": "stream",
     "text": [
      "=============================================================\n",
      "epoch: 5, source_val_acc_label: 0.6983, target_val_acc_label: 0.9570, source_val_label_loss: 0.8000, target_val_label_loss: 0.1768, \n",
      "=============================================================\n"
     ]
    },
    {
     "name": "stdout",
     "output_type": "stream",
     "text": [
      "epoch: 6, [batch: 1 / 6720], examples_per_second: 2.9534, train_label_loss: 0.7152, \n"
     ]
    },
    {
     "name": "stdout",
     "output_type": "stream",
     "text": [
      "epoch: 6, [batch: 672 / 6720], examples_per_second: 2975.7874, train_label_loss: 0.4460, \n"
     ]
    },
    {
     "name": "stdout",
     "output_type": "stream",
     "text": [
      "epoch: 6, [batch: 1344 / 6720], examples_per_second: 2985.2148, train_label_loss: 0.7844, \n"
     ]
    },
    {
     "name": "stdout",
     "output_type": "stream",
     "text": [
      "epoch: 6, [batch: 2016 / 6720], examples_per_second: 2988.0535, train_label_loss: 0.6773, \n"
     ]
    },
    {
     "name": "stdout",
     "output_type": "stream",
     "text": [
      "epoch: 6, [batch: 2688 / 6720], examples_per_second: 2993.6139, train_label_loss: 0.8229, \n"
     ]
    },
    {
     "name": "stdout",
     "output_type": "stream",
     "text": [
      "epoch: 6, [batch: 3360 / 6720], examples_per_second: 3078.2766, train_label_loss: 0.8728, \n"
     ]
    },
    {
     "name": "stdout",
     "output_type": "stream",
     "text": [
      "epoch: 6, [batch: 4032 / 6720], examples_per_second: 3041.0600, train_label_loss: 0.7911, \n"
     ]
    },
    {
     "name": "stdout",
     "output_type": "stream",
     "text": [
      "epoch: 6, [batch: 4704 / 6720], examples_per_second: 3336.4013, train_label_loss: 1.0200, \n"
     ]
    },
    {
     "name": "stdout",
     "output_type": "stream",
     "text": [
      "epoch: 6, [batch: 5376 / 6720], examples_per_second: 3766.8889, train_label_loss: 0.6708, \n"
     ]
    },
    {
     "name": "stdout",
     "output_type": "stream",
     "text": [
      "epoch: 6, [batch: 6048 / 6720], examples_per_second: 3918.3133, train_label_loss: 0.7820, \n"
     ]
    },
    {
     "name": "stdout",
     "output_type": "stream",
     "text": [
      "=============================================================\n",
      "epoch: 6, source_val_acc_label: 0.7065, target_val_acc_label: 0.9696, source_val_label_loss: 0.7804, target_val_label_loss: 0.1501, \n",
      "=============================================================\n"
     ]
    },
    {
     "name": "stdout",
     "output_type": "stream",
     "text": [
      "New best\n"
     ]
    },
    {
     "name": "stdout",
     "output_type": "stream",
     "text": [
      "epoch: 7, [batch: 1 / 6720], examples_per_second: 2.8906, train_label_loss: 0.4088, \n"
     ]
    },
    {
     "name": "stdout",
     "output_type": "stream",
     "text": [
      "epoch: 7, [batch: 672 / 6720], examples_per_second: 3015.5996, train_label_loss: 0.4484, \n"
     ]
    },
    {
     "name": "stdout",
     "output_type": "stream",
     "text": [
      "epoch: 7, [batch: 1344 / 6720], examples_per_second: 3019.5768, train_label_loss: 0.6765, \n"
     ]
    },
    {
     "name": "stdout",
     "output_type": "stream",
     "text": [
      "epoch: 7, [batch: 2016 / 6720], examples_per_second: 3025.4694, train_label_loss: 0.6820, \n"
     ]
    },
    {
     "name": "stdout",
     "output_type": "stream",
     "text": [
      "epoch: 7, [batch: 2688 / 6720], examples_per_second: 2995.0504, train_label_loss: 0.4288, \n"
     ]
    },
    {
     "name": "stdout",
     "output_type": "stream",
     "text": [
      "epoch: 7, [batch: 3360 / 6720], examples_per_second: 2996.3562, train_label_loss: 0.3530, \n"
     ]
    },
    {
     "name": "stdout",
     "output_type": "stream",
     "text": [
      "epoch: 7, [batch: 4032 / 6720], examples_per_second: 3006.7697, train_label_loss: 0.5067, \n"
     ]
    },
    {
     "name": "stdout",
     "output_type": "stream",
     "text": [
      "epoch: 7, [batch: 4704 / 6720], examples_per_second: 3547.7773, train_label_loss: 0.5862, \n"
     ]
    },
    {
     "name": "stdout",
     "output_type": "stream",
     "text": [
      "epoch: 7, [batch: 5376 / 6720], examples_per_second: 3935.8497, train_label_loss: 0.9396, \n"
     ]
    },
    {
     "name": "stdout",
     "output_type": "stream",
     "text": [
      "epoch: 7, [batch: 6048 / 6720], examples_per_second: 4098.6978, train_label_loss: 0.5841, \n"
     ]
    },
    {
     "name": "stdout",
     "output_type": "stream",
     "text": [
      "=============================================================\n",
      "epoch: 7, source_val_acc_label: 0.7198, target_val_acc_label: 0.9703, source_val_label_loss: 0.7476, target_val_label_loss: 0.1658, \n",
      "=============================================================\n"
     ]
    },
    {
     "name": "stdout",
     "output_type": "stream",
     "text": [
      "New best\n"
     ]
    },
    {
     "name": "stdout",
     "output_type": "stream",
     "text": [
      "epoch: 8, [batch: 1 / 6720], examples_per_second: 3.3455, train_label_loss: 0.6316, \n"
     ]
    },
    {
     "name": "stdout",
     "output_type": "stream",
     "text": [
      "epoch: 8, [batch: 672 / 6720], examples_per_second: 3394.1937, train_label_loss: 0.4733, \n"
     ]
    },
    {
     "name": "stdout",
     "output_type": "stream",
     "text": [
      "epoch: 8, [batch: 1344 / 6720], examples_per_second: 3408.6845, train_label_loss: 0.3300, \n"
     ]
    },
    {
     "name": "stdout",
     "output_type": "stream",
     "text": [
      "epoch: 8, [batch: 2016 / 6720], examples_per_second: 3450.1631, train_label_loss: 0.8048, \n"
     ]
    },
    {
     "name": "stdout",
     "output_type": "stream",
     "text": [
      "epoch: 8, [batch: 2688 / 6720], examples_per_second: 3684.5083, train_label_loss: 0.6172, \n"
     ]
    },
    {
     "name": "stdout",
     "output_type": "stream",
     "text": [
      "epoch: 8, [batch: 3360 / 6720], examples_per_second: 3828.2620, train_label_loss: 1.1076, \n"
     ]
    },
    {
     "name": "stdout",
     "output_type": "stream",
     "text": [
      "epoch: 8, [batch: 4032 / 6720], examples_per_second: 3875.9415, train_label_loss: 0.8797, \n"
     ]
    },
    {
     "name": "stdout",
     "output_type": "stream",
     "text": [
      "epoch: 8, [batch: 4704 / 6720], examples_per_second: 3945.7183, train_label_loss: 0.2808, \n"
     ]
    },
    {
     "name": "stdout",
     "output_type": "stream",
     "text": [
      "epoch: 8, [batch: 5376 / 6720], examples_per_second: 4354.7025, train_label_loss: 0.1958, \n"
     ]
    },
    {
     "name": "stdout",
     "output_type": "stream",
     "text": [
      "epoch: 8, [batch: 6048 / 6720], examples_per_second: 4544.1550, train_label_loss: 0.8334, \n"
     ]
    },
    {
     "name": "stdout",
     "output_type": "stream",
     "text": [
      "=============================================================\n",
      "epoch: 8, source_val_acc_label: 0.7595, target_val_acc_label: 0.9804, source_val_label_loss: 0.6438, target_val_label_loss: 0.1334, \n",
      "=============================================================\n"
     ]
    },
    {
     "name": "stdout",
     "output_type": "stream",
     "text": [
      "New best\n"
     ]
    },
    {
     "name": "stdout",
     "output_type": "stream",
     "text": [
      "epoch: 9, [batch: 1 / 6720], examples_per_second: 3.9459, train_label_loss: 0.8106, \n"
     ]
    },
    {
     "name": "stdout",
     "output_type": "stream",
     "text": [
      "epoch: 9, [batch: 672 / 6720], examples_per_second: 3873.4267, train_label_loss: 0.8461, \n"
     ]
    },
    {
     "name": "stdout",
     "output_type": "stream",
     "text": [
      "epoch: 9, [batch: 1344 / 6720], examples_per_second: 3994.4910, train_label_loss: 0.4670, \n"
     ]
    },
    {
     "name": "stdout",
     "output_type": "stream",
     "text": [
      "epoch: 9, [batch: 2016 / 6720], examples_per_second: 3991.1575, train_label_loss: 0.5744, \n"
     ]
    },
    {
     "name": "stdout",
     "output_type": "stream",
     "text": [
      "epoch: 9, [batch: 2688 / 6720], examples_per_second: 3883.8669, train_label_loss: 0.7172, \n"
     ]
    },
    {
     "name": "stdout",
     "output_type": "stream",
     "text": [
      "epoch: 9, [batch: 3360 / 6720], examples_per_second: 3859.8805, train_label_loss: 0.7011, \n"
     ]
    },
    {
     "name": "stdout",
     "output_type": "stream",
     "text": [
      "epoch: 9, [batch: 4032 / 6720], examples_per_second: 3930.6944, train_label_loss: 0.2633, \n"
     ]
    },
    {
     "name": "stdout",
     "output_type": "stream",
     "text": [
      "epoch: 9, [batch: 4704 / 6720], examples_per_second: 3962.2189, train_label_loss: 0.6799, \n"
     ]
    },
    {
     "name": "stdout",
     "output_type": "stream",
     "text": [
      "epoch: 9, [batch: 5376 / 6720], examples_per_second: 4373.2639, train_label_loss: 0.3783, \n"
     ]
    },
    {
     "name": "stdout",
     "output_type": "stream",
     "text": [
      "epoch: 9, [batch: 6048 / 6720], examples_per_second: 3837.7974, train_label_loss: 0.4614, \n"
     ]
    },
    {
     "name": "stdout",
     "output_type": "stream",
     "text": [
      "=============================================================\n",
      "epoch: 9, source_val_acc_label: 0.7741, target_val_acc_label: 0.9760, source_val_label_loss: 0.6109, target_val_label_loss: 0.1893, \n",
      "=============================================================\n"
     ]
    },
    {
     "name": "stdout",
     "output_type": "stream",
     "text": [
      "epoch: 10, [batch: 1 / 6720], examples_per_second: 2.8611, train_label_loss: 0.6415, \n"
     ]
    },
    {
     "name": "stdout",
     "output_type": "stream",
     "text": [
      "epoch: 10, [batch: 672 / 6720], examples_per_second: 3043.4715, train_label_loss: 0.6009, \n"
     ]
    },
    {
     "name": "stdout",
     "output_type": "stream",
     "text": [
      "epoch: 10, [batch: 1344 / 6720], examples_per_second: 3075.0135, train_label_loss: 0.4899, \n"
     ]
    },
    {
     "name": "stdout",
     "output_type": "stream",
     "text": [
      "epoch: 10, [batch: 2016 / 6720], examples_per_second: 3005.2042, train_label_loss: 0.4861, \n"
     ]
    },
    {
     "name": "stdout",
     "output_type": "stream",
     "text": [
      "epoch: 10, [batch: 2688 / 6720], examples_per_second: 2965.2147, train_label_loss: 0.3880, \n"
     ]
    },
    {
     "name": "stdout",
     "output_type": "stream",
     "text": [
      "epoch: 10, [batch: 3360 / 6720], examples_per_second: 2981.2906, train_label_loss: 0.4638, \n"
     ]
    },
    {
     "name": "stdout",
     "output_type": "stream",
     "text": [
      "epoch: 10, [batch: 4032 / 6720], examples_per_second: 3052.3461, train_label_loss: 0.7688, \n"
     ]
    },
    {
     "name": "stdout",
     "output_type": "stream",
     "text": [
      "epoch: 10, [batch: 4704 / 6720], examples_per_second: 3560.3852, train_label_loss: 0.5556, \n"
     ]
    },
    {
     "name": "stdout",
     "output_type": "stream",
     "text": [
      "epoch: 10, [batch: 5376 / 6720], examples_per_second: 3965.2922, train_label_loss: 0.2977, \n"
     ]
    },
    {
     "name": "stdout",
     "output_type": "stream",
     "text": [
      "epoch: 10, [batch: 6048 / 6720], examples_per_second: 3840.4776, train_label_loss: 0.4347, \n"
     ]
    },
    {
     "name": "stdout",
     "output_type": "stream",
     "text": [
      "=============================================================\n",
      "epoch: 10, source_val_acc_label: 0.7880, target_val_acc_label: 0.9734, source_val_label_loss: 0.5699, target_val_label_loss: 0.2293, \n",
      "=============================================================\n"
     ]
    },
    {
     "name": "stdout",
     "output_type": "stream",
     "text": [
      "epoch: 11, [batch: 1 / 6720], examples_per_second: 2.8430, train_label_loss: 0.4644, \n"
     ]
    },
    {
     "name": "stdout",
     "output_type": "stream",
     "text": [
      "epoch: 11, [batch: 672 / 6720], examples_per_second: 3016.4695, train_label_loss: 0.8158, \n"
     ]
    },
    {
     "name": "stdout",
     "output_type": "stream",
     "text": [
      "epoch: 11, [batch: 1344 / 6720], examples_per_second: 3035.2004, train_label_loss: 0.6224, \n"
     ]
    },
    {
     "name": "stdout",
     "output_type": "stream",
     "text": [
      "epoch: 11, [batch: 2016 / 6720], examples_per_second: 3036.0182, train_label_loss: 0.4912, \n"
     ]
    },
    {
     "name": "stdout",
     "output_type": "stream",
     "text": [
      "epoch: 11, [batch: 2688 / 6720], examples_per_second: 3025.0528, train_label_loss: 0.2795, \n"
     ]
    },
    {
     "name": "stdout",
     "output_type": "stream",
     "text": [
      "epoch: 11, [batch: 3360 / 6720], examples_per_second: 3056.4668, train_label_loss: 1.3238, \n"
     ]
    },
    {
     "name": "stdout",
     "output_type": "stream",
     "text": [
      "epoch: 11, [batch: 4032 / 6720], examples_per_second: 3093.5581, train_label_loss: 0.8037, \n"
     ]
    },
    {
     "name": "stdout",
     "output_type": "stream",
     "text": [
      "epoch: 11, [batch: 4704 / 6720], examples_per_second: 3627.9899, train_label_loss: 0.3096, \n"
     ]
    },
    {
     "name": "stdout",
     "output_type": "stream",
     "text": [
      "epoch: 11, [batch: 5376 / 6720], examples_per_second: 3834.7509, train_label_loss: 0.4107, \n"
     ]
    },
    {
     "name": "stdout",
     "output_type": "stream",
     "text": [
      "epoch: 11, [batch: 6048 / 6720], examples_per_second: 3658.6207, train_label_loss: 1.2526, \n"
     ]
    },
    {
     "name": "stdout",
     "output_type": "stream",
     "text": [
      "=============================================================\n",
      "epoch: 11, source_val_acc_label: 0.7895, target_val_acc_label: 0.9712, source_val_label_loss: 0.5662, target_val_label_loss: 0.3166, \n",
      "=============================================================\n"
     ]
    },
    {
     "name": "stdout",
     "output_type": "stream",
     "text": [
      "epoch: 12, [batch: 1 / 6720], examples_per_second: 2.8581, train_label_loss: 0.4277, \n"
     ]
    },
    {
     "name": "stdout",
     "output_type": "stream",
     "text": [
      "epoch: 12, [batch: 672 / 6720], examples_per_second: 3011.4706, train_label_loss: 0.2949, \n"
     ]
    },
    {
     "name": "stdout",
     "output_type": "stream",
     "text": [
      "epoch: 12, [batch: 1344 / 6720], examples_per_second: 3010.7075, train_label_loss: 0.5451, \n"
     ]
    },
    {
     "name": "stdout",
     "output_type": "stream",
     "text": [
      "epoch: 12, [batch: 2016 / 6720], examples_per_second: 2995.4016, train_label_loss: 0.4655, \n"
     ]
    },
    {
     "name": "stdout",
     "output_type": "stream",
     "text": [
      "epoch: 12, [batch: 2688 / 6720], examples_per_second: 2998.2128, train_label_loss: 0.5397, \n"
     ]
    },
    {
     "name": "stdout",
     "output_type": "stream",
     "text": [
      "epoch: 12, [batch: 3360 / 6720], examples_per_second: 2983.9760, train_label_loss: 0.6087, \n"
     ]
    },
    {
     "name": "stdout",
     "output_type": "stream",
     "text": [
      "epoch: 12, [batch: 4032 / 6720], examples_per_second: 3138.6449, train_label_loss: 0.2374, \n"
     ]
    },
    {
     "name": "stdout",
     "output_type": "stream",
     "text": [
      "epoch: 12, [batch: 4704 / 6720], examples_per_second: 3591.4813, train_label_loss: 0.4980, \n"
     ]
    },
    {
     "name": "stdout",
     "output_type": "stream",
     "text": [
      "epoch: 12, [batch: 5376 / 6720], examples_per_second: 4027.6563, train_label_loss: 0.5822, \n"
     ]
    },
    {
     "name": "stdout",
     "output_type": "stream",
     "text": [
      "epoch: 12, [batch: 6048 / 6720], examples_per_second: 3483.1947, train_label_loss: 0.0869, \n"
     ]
    },
    {
     "name": "stdout",
     "output_type": "stream",
     "text": [
      "=============================================================\n",
      "epoch: 12, source_val_acc_label: 0.7945, target_val_acc_label: 0.9654, source_val_label_loss: 0.5516, target_val_label_loss: 0.4485, \n",
      "=============================================================\n"
     ]
    },
    {
     "name": "stdout",
     "output_type": "stream",
     "text": [
      "Patience (3) exhausted\n"
     ]
    }
   ],
   "source": [
    "###################################\n",
    "# train\n",
    "###################################\n",
    "jig = PTN_Train_Eval_Test_Jig(model, p.BEST_MODEL_PATH, p.device)\n",
    "\n",
    "jig.train(\n",
    "    train_iterable=datasets.source.processed.train,\n",
    "    source_val_iterable=datasets.source.processed.val,\n",
    "    target_val_iterable=datasets.target.processed.val,\n",
    "    num_epochs=p.n_epoch,\n",
    "    num_logs_per_epoch=p.NUM_LOGS_PER_EPOCH,\n",
    "    patience=p.patience,\n",
    "    optimizer=optimizer,\n",
    "    criteria_for_best=p.criteria_for_best,\n",
    ")"
   ]
  },
  {
   "cell_type": "code",
   "execution_count": 23,
   "id": "31e8fabf",
   "metadata": {
    "execution": {
     "iopub.execute_input": "2022-03-28T17:22:13.426112Z",
     "iopub.status.busy": "2022-03-28T17:22:13.425651Z",
     "iopub.status.idle": "2022-03-28T17:22:13.458837Z",
     "shell.execute_reply": "2022-03-28T17:22:13.458006Z"
    },
    "papermill": {
     "duration": 0.096078,
     "end_time": "2022-03-28T17:22:13.459018",
     "exception": false,
     "start_time": "2022-03-28T17:22:13.362940",
     "status": "completed"
    },
    "tags": []
   },
   "outputs": [],
   "source": [
    "total_experiment_time_secs = time.time() - start_time_secs"
   ]
  },
  {
   "cell_type": "code",
   "execution_count": 24,
   "id": "87b9595b",
   "metadata": {
    "execution": {
     "iopub.execute_input": "2022-03-28T17:22:13.591084Z",
     "iopub.status.busy": "2022-03-28T17:22:13.590496Z",
     "iopub.status.idle": "2022-03-28T17:25:12.578867Z",
     "shell.execute_reply": "2022-03-28T17:25:12.579569Z"
    },
    "papermill": {
     "duration": 179.057083,
     "end_time": "2022-03-28T17:25:12.579792",
     "exception": false,
     "start_time": "2022-03-28T17:22:13.522709",
     "status": "completed"
    },
    "tags": []
   },
   "outputs": [],
   "source": [
    "###################################\n",
    "# Evaluate the model\n",
    "###################################\n",
    "source_test_label_accuracy, source_test_label_loss = jig.test(datasets.source.processed.test)\n",
    "target_test_label_accuracy, target_test_label_loss = jig.test(datasets.target.processed.test)\n",
    "\n",
    "source_val_label_accuracy, source_val_label_loss = jig.test(datasets.source.processed.val)\n",
    "target_val_label_accuracy, target_val_label_loss = jig.test(datasets.target.processed.val)\n",
    "\n",
    "history = jig.get_history()\n",
    "\n",
    "total_epochs_trained = len(history[\"epoch_indices\"])\n",
    "\n",
    "val_dl = Iterable_Aggregator((datasets.source.original.val,datasets.target.original.val))\n",
    "\n",
    "confusion = ptn_confusion_by_domain_over_dataloader(model, p.device, val_dl)\n",
    "per_domain_accuracy = per_domain_accuracy_from_confusion(confusion)\n",
    "\n",
    "# Add a key to per_domain_accuracy for if it was a source domain\n",
    "for domain, accuracy in per_domain_accuracy.items():\n",
    "    per_domain_accuracy[domain] = {\n",
    "        \"accuracy\": accuracy,\n",
    "        \"source?\": domain in p.domains_source\n",
    "    }\n",
    "\n",
    "# Do an independent accuracy assesment JUST TO BE SURE!\n",
    "# _source_test_label_accuracy = independent_accuracy_assesment(model, datasets.source.processed.test, p.device)\n",
    "# _target_test_label_accuracy = independent_accuracy_assesment(model, datasets.target.processed.test, p.device)\n",
    "# _source_val_label_accuracy = independent_accuracy_assesment(model, datasets.source.processed.val, p.device)\n",
    "# _target_val_label_accuracy = independent_accuracy_assesment(model, datasets.target.processed.val, p.device)\n",
    "\n",
    "# assert(_source_test_label_accuracy == source_test_label_accuracy)\n",
    "# assert(_target_test_label_accuracy == target_test_label_accuracy)\n",
    "# assert(_source_val_label_accuracy == source_val_label_accuracy)\n",
    "# assert(_target_val_label_accuracy == target_val_label_accuracy)\n",
    "\n",
    "experiment = {\n",
    "    \"experiment_name\": p.experiment_name,\n",
    "    \"parameters\": dict(p),\n",
    "    \"results\": {\n",
    "        \"source_test_label_accuracy\": source_test_label_accuracy,\n",
    "        \"source_test_label_loss\": source_test_label_loss,\n",
    "        \"target_test_label_accuracy\": target_test_label_accuracy,\n",
    "        \"target_test_label_loss\": target_test_label_loss,\n",
    "        \"source_val_label_accuracy\": source_val_label_accuracy,\n",
    "        \"source_val_label_loss\": source_val_label_loss,\n",
    "        \"target_val_label_accuracy\": target_val_label_accuracy,\n",
    "        \"target_val_label_loss\": target_val_label_loss,\n",
    "        \"total_epochs_trained\": total_epochs_trained,\n",
    "        \"total_experiment_time_secs\": total_experiment_time_secs,\n",
    "        \"confusion\": confusion,\n",
    "        \"per_domain_accuracy\": per_domain_accuracy,\n",
    "    },\n",
    "    \"history\": history,\n",
    "    \"dataset_metrics\": get_dataset_metrics(datasets, \"ptn\"),\n",
    "}"
   ]
  },
  {
   "cell_type": "code",
   "execution_count": 25,
   "id": "54a21829",
   "metadata": {
    "execution": {
     "iopub.execute_input": "2022-03-28T17:25:12.708878Z",
     "iopub.status.busy": "2022-03-28T17:25:12.708512Z",
     "iopub.status.idle": "2022-03-28T17:25:12.931567Z",
     "shell.execute_reply": "2022-03-28T17:25:12.932241Z"
    },
    "papermill": {
     "duration": 0.287372,
     "end_time": "2022-03-28T17:25:12.932423",
     "exception": false,
     "start_time": "2022-03-28T17:25:12.645051",
     "status": "completed"
    },
    "tags": []
   },
   "outputs": [
    {
     "data": {
      "image/png": "[encoded data removed]",
      "text/plain": [
       "<Figure size 1080x504 with 1 Axes>"
      ]
     },
     "metadata": {
      "needs_background": "light"
     },
     "output_type": "display_data"
    }
   ],
   "source": [
    "ax = get_loss_curve(experiment)\n",
    "plt.show()"
   ]
  },
  {
   "cell_type": "code",
   "execution_count": 26,
   "id": "fd8a0f60",
   "metadata": {
    "execution": {
     "iopub.execute_input": "2022-03-28T17:25:13.065087Z",
     "iopub.status.busy": "2022-03-28T17:25:13.064725Z",
     "iopub.status.idle": "2022-03-28T17:25:13.373818Z",
     "shell.execute_reply": "2022-03-28T17:25:13.373443Z"
    },
    "papermill": {
     "duration": 0.373732,
     "end_time": "2022-03-28T17:25:13.373894",
     "exception": false,
     "start_time": "2022-03-28T17:25:13.000162",
     "status": "completed"
    },
    "tags": []
   },
   "outputs": [
    {
     "data": {
      "text/plain": [
       "<AxesSubplot:title={'center':'Results'}>"
      ]
     },
     "execution_count": 26,
     "metadata": {},
     "output_type": "execute_result"
    },
    {
     "data": {
      "image/png": "[encoded data removed]",
      "text/plain": [
       "<Figure size 1080x504 with 1 Axes>"
      ]
     },
     "metadata": {
      "needs_background": "light"
     },
     "output_type": "display_data"
    }
   ],
   "source": [
    "get_results_table(experiment)"
   ]
  },
  {
   "cell_type": "code",
   "execution_count": 27,
   "id": "cf8dc689",
   "metadata": {
    "execution": {
     "iopub.execute_input": "2022-03-28T17:25:13.503156Z",
     "iopub.status.busy": "2022-03-28T17:25:13.502792Z",
     "iopub.status.idle": "2022-03-28T17:25:13.740313Z",
     "shell.execute_reply": "2022-03-28T17:25:13.739938Z"
    },
    "papermill": {
     "duration": 0.303837,
     "end_time": "2022-03-28T17:25:13.740390",
     "exception": false,
     "start_time": "2022-03-28T17:25:13.436553",
     "status": "completed"
    },
    "tags": []
   },
   "outputs": [
    {
     "data": {
      "text/plain": [
       "<AxesSubplot:title={'center':'Per Domain Validation Accuracy'}, xlabel='domain'>"
      ]
     },
     "execution_count": 27,
     "metadata": {},
     "output_type": "execute_result"
    },
    {
     "data": {
      "image/png": "[encoded data removed]",
      "text/plain": [
       "<Figure size 1080x504 with 1 Axes>"
      ]
     },
     "metadata": {
      "needs_background": "light"
     },
     "output_type": "display_data"
    }
   ],
   "source": [
    "get_domain_accuracies(experiment)"
   ]
  },
  {
   "cell_type": "code",
   "execution_count": 28,
   "id": "a74ae082",
   "metadata": {
    "execution": {
     "iopub.execute_input": "2022-03-28T17:25:13.871408Z",
     "iopub.status.busy": "2022-03-28T17:25:13.871039Z",
     "iopub.status.idle": "2022-03-28T17:25:13.894914Z",
     "shell.execute_reply": "2022-03-28T17:25:13.894552Z"
    },
    "papermill": {
     "duration": 0.091116,
     "end_time": "2022-03-28T17:25:13.894986",
     "exception": false,
     "start_time": "2022-03-28T17:25:13.803870",
     "status": "completed"
    },
    "tags": []
   },
   "outputs": [
    {
     "name": "stdout",
     "output_type": "stream",
     "text": [
      "Source Test Label Accuracy: 0.760546875 Target Test Label Accuracy: 0.9812430011198209\n",
      "Source Val Label Accuracy: 0.7595052083333333 Target Val Label Accuracy: 0.9804061784897025\n"
     ]
    }
   ],
   "source": [
    "print(\"Source Test Label Accuracy:\", experiment[\"results\"][\"source_test_label_accuracy\"], \"Target Test Label Accuracy:\", experiment[\"results\"][\"target_test_label_accuracy\"])\n",
    "print(\"Source Val Label Accuracy:\", experiment[\"results\"][\"source_val_label_accuracy\"], \"Target Val Label Accuracy:\", experiment[\"results\"][\"target_val_label_accuracy\"])"
   ]
  },
  {
   "cell_type": "code",
   "execution_count": 29,
   "id": "dacca602",
   "metadata": {
    "execution": {
     "iopub.execute_input": "2022-03-28T17:25:14.038020Z",
     "iopub.status.busy": "2022-03-28T17:25:14.036681Z",
     "iopub.status.idle": "2022-03-28T17:25:14.060216Z",
     "shell.execute_reply": "2022-03-28T17:25:14.060886Z"
    },
    "papermill": {
     "duration": 0.102587,
     "end_time": "2022-03-28T17:25:14.061080",
     "exception": false,
     "start_time": "2022-03-28T17:25:13.958493",
     "status": "completed"
    },
    "tags": [
     "experiment_json"
    ]
   },
   "outputs": [
    {
     "data": {
      "text/plain": [
       "'{\"experiment_name\": \"tl_3-jitter5v2:oracle.run1.framed -> cores\", \"parameters\": {\"experiment_name\": \"tl_3-jitter5v2:oracle.run1.framed -> cores\", \"device\": \"cuda\", \"lr\": 0.0001, \"x_shape\": [2, 256], \"n_shot\": 3, \"n_query\": 2, \"train_k_factor\": 3, \"val_k_factor\": 2, \"test_k_factor\": 2, \"torch_default_dtype\": \"torch.float32\", \"n_epoch\": 50, \"patience\": 3, \"criteria_for_best\": \"target_accuracy\", \"x_net\": [{\"class\": \"nnReshape\", \"kargs\": {\"shape\": [-1, 1, 2, 256]}}, {\"class\": \"Conv2d\", \"kargs\": {\"in_channels\": 1, \"out_channels\": 256, \"kernel_size\": [1, 7], \"bias\": false, \"padding\": [0, 3]}}, {\"class\": \"ReLU\", \"kargs\": {\"inplace\": true}}, {\"class\": \"BatchNorm2d\", \"kargs\": {\"num_features\": 256}}, {\"class\": \"Conv2d\", \"kargs\": {\"in_channels\": 256, \"out_channels\": 80, \"kernel_size\": [2, 7], \"bias\": true, \"padding\": [0, 3]}}, {\"class\": \"ReLU\", \"kargs\": {\"inplace\": true}}, {\"class\": \"BatchNorm2d\", \"kargs\": {\"num_features\": 80}}, {\"class\": \"Flatten\", \"kargs\": {}}, {\"class\": \"Linear\", \"kargs\": {\"in_features\": 20480, \"out_features\": 256}}, {\"class\": \"ReLU\", \"kargs\": {\"inplace\": true}}, {\"class\": \"BatchNorm1d\", \"kargs\": {\"num_features\": 256}}, {\"class\": \"Linear\", \"kargs\": {\"in_features\": 256, \"out_features\": 256}}], \"NUM_LOGS_PER_EPOCH\": 10, \"BEST_MODEL_PATH\": \"./best_model.pth\", \"n_way\": 16, \"datasets\": [{\"labels\": [\"1-10.\", \"1-11.\", \"1-15.\", \"1-16.\", \"1-17.\", \"1-18.\", \"1-19.\", \"10-4.\", \"10-7.\", \"11-1.\", \"11-14.\", \"11-17.\", \"11-20.\", \"11-7.\", \"13-20.\", \"13-8.\", \"14-10.\", \"14-11.\", \"14-14.\", \"14-7.\", \"15-1.\", \"15-20.\", \"16-1.\", \"16-16.\", \"17-10.\", \"17-11.\", \"17-2.\", \"19-1.\", \"19-16.\", \"19-19.\", \"19-20.\", \"19-3.\", \"2-10.\", \"2-11.\", \"2-17.\", \"2-18.\", \"2-20.\", \"2-3.\", \"2-4.\", \"2-5.\", \"2-6.\", \"2-7.\", \"2-8.\", \"3-13.\", \"3-18.\", \"3-3.\", \"4-1.\", \"4-10.\", \"4-11.\", \"4-19.\", \"5-5.\", \"6-15.\", \"7-10.\", \"7-14.\", \"8-18.\", \"8-20.\", \"8-3.\", \"8-8.\"], \"domains\": [1, 2, 3, 4, 5], \"num_examples_per_domain_per_label\": -1, \"pickle_path\": \"/root/csc500-main/datasets/cores.stratified_ds.2022A.pkl\", \"source_or_target_dataset\": \"target\", \"x_transforms\": [\"unit_power\", \"jitter_256_5\", \"lowpass_+/-10MHz\", \"take_200\"], \"episode_transforms\": [], \"domain_prefix\": \"C_\"}, {\"labels\": [\"3123D52\", \"3123D65\", \"3123D79\", \"3123D80\", \"3123D54\", \"3123D70\", \"3123D7B\", \"3123D89\", \"3123D58\", \"3123D76\", \"3123D7D\", \"3123EFE\", \"3123D64\", \"3123D78\", \"3123D7E\", \"3124E4A\"], \"domains\": [32, 38, 8, 44, 14, 50, 20, 26], \"num_examples_per_domain_per_label\": 2000, \"pickle_path\": \"/root/csc500-main/datasets/oracle.Run1_framed_2000Examples_stratified_ds.2022A.pkl\", \"source_or_target_dataset\": \"source\", \"x_transforms\": [\"unit_power\", \"jitter_256_5\", \"take_200\", \"resample_20Msps_to_25Msps\"], \"episode_transforms\": [], \"domain_prefix\": \"O_\"}], \"seed\": 154325, \"dataset_seed\": 154325, \"domains_source\": [\"O_32\", \"O_38\", \"O_8\", \"O_44\", \"O_14\", \"O_50\", \"O_20\", \"O_26\"], \"domains_target\": [\"C_1\", \"C_2\", \"C_3\", \"C_4\", \"C_5\"]}, \"results\": {\"source_test_label_accuracy\": 0.760546875, \"source_test_label_loss\": 0.6444980502128601, \"target_test_label_accuracy\": 0.9812430011198209, \"target_test_label_loss\": 0.10987767577171326, \"source_val_label_accuracy\": 0.7595052083333333, \"source_val_label_loss\": 0.6437674164772034, \"target_val_label_accuracy\": 0.9804061784897025, \"target_val_label_loss\": 0.13339544832706451, \"total_epochs_trained\": 12, \"total_experiment_time_secs\": 2512.612328529358, \"confusion\": {\"O_8\": {\"13\": {\"10\": 21, \"6\": 10, \"13\": 96, \"0\": 47, \"4\": 44, \"14\": 19, \"7\": 3}, \"9\": {\"9\": 240}, \"15\": {\"15\": 204, \"12\": 33, \"8\": 3}, \"2\": {\"2\": 215, \"3\": 17, \"7\": 6, \"15\": 2}, \"3\": {\"3\": 223, \"12\": 8, \"2\": 9}, \"8\": {\"8\": 235, \"15\": 5}, \"5\": {\"1\": 11, \"5\": 222, \"14\": 4, \"10\": 3}, \"14\": {\"10\": 44, \"14\": 136, \"4\": 38, \"13\": 14, \"1\": 6, \"5\": 1, \"6\": 1}, \"1\": {\"1\": 181, \"11\": 57, \"14\": 2}, \"0\": {\"7\": 7, \"0\": 194, \"13\": 36, \"6\": 2, \"4\": 1}, \"10\": {\"10\": 172, \"14\": 58, \"13\": 8, \"5\": 1, \"4\": 1}, \"6\": {\"6\": 159, \"7\": 57, \"13\": 8, \"4\": 16}, \"11\": {\"11\": 157, \"1\": 77, \"5\": 6}, \"7\": {\"6\": 56, \"7\": 177, \"0\": 6, \"13\": 1}, \"4\": {\"4\": 161, \"6\": 15, \"13\": 49, \"14\": 13, \"0\": 2}, \"12\": {\"3\": 20, \"15\": 67, \"12\": 150, \"8\": 3}}, \"O_38\": {\"13\": {\"13\": 200, \"15\": 9, \"2\": 8, \"10\": 17, \"8\": 2, \"5\": 2, \"14\": 1, \"0\": 1}, \"12\": {\"12\": 233, \"4\": 6, \"14\": 1}, \"2\": {\"2\": 213, \"14\": 19, \"13\": 7, \"15\": 1}, \"9\": {\"9\": 211, \"6\": 20, \"5\": 6, \"7\": 1, \"3\": 2}, \"15\": {\"15\": 208, \"13\": 3, \"8\": 10, \"1\": 14, \"5\": 5}, \"5\": {\"8\": 64, \"7\": 40, \"5\": 106, \"15\": 5, \"6\": 4, \"0\": 9, \"9\": 8, \"13\": 2, \"10\": 1, \"1\": 1}, \"14\": {\"14\": 233, \"2\": 5, \"10\": 1, \"12\": 1}, \"0\": {\"8\": 36, \"0\": 133, \"5\": 9, \"7\": 38, \"3\": 13, \"10\": 8, \"12\": 1, \"9\": 1, \"13\": 1}, \"3\": {\"3\": 230, \"9\": 5, \"0\": 2, \"5\": 1, \"7\": 2}, \"1\": {\"1\": 234, \"15\": 6}, \"11\": {\"11\": 232, \"14\": 6, \"10\": 2}, \"7\": {\"7\": 183, \"0\": 29, \"8\": 17, \"5\": 11}, \"8\": {\"15\": 10, \"5\": 41, \"8\": 151, \"13\": 3, \"10\": 3, \"0\": 26, \"7\": 6}, \"4\": {\"4\": 225, \"12\": 13, \"10\": 2}, \"10\": {\"10\": 202, \"13\": 16, \"14\": 3, \"8\": 5, \"11\": 3, \"0\": 3, \"12\": 1, \"15\": 2, \"2\": 2, \"5\": 2, \"4\": 1}, \"6\": {\"6\": 234, \"9\": 4, \"5\": 2}}, \"O_26\": {\"10\": {\"0\": 52, \"10\": 99, \"8\": 29, \"4\": 12, \"14\": 27, \"6\": 17, \"1\": 4}, \"12\": {\"12\": 239, \"11\": 1}, \"1\": {\"4\": 10, \"1\": 160, \"10\": 13, \"14\": 41, \"0\": 6, \"7\": 4, \"8\": 6}, \"0\": {\"0\": 75, \"10\": 53, \"8\": 25, \"14\": 38, \"4\": 44, \"1\": 4, \"6\": 1}, \"15\": {\"15\": 107, \"9\": 69, \"8\": 16, \"7\": 7, \"4\": 3, \"5\": 14, \"6\": 4, \"14\": 1, \"13\": 10, \"2\": 6, \"0\": 1, \"10\": 2}, \"13\": {\"5\": 32, \"13\": 176, \"9\": 14, \"15\": 8, \"2\": 8, \"6\": 1, \"3\": 1}, \"8\": {\"6\": 10, \"8\": 105, \"15\": 23, \"0\": 20, \"10\": 28, \"14\": 8, \"4\": 25, \"7\": 12, \"9\": 7, \"2\": 2}, \"3\": {\"3\": 161, \"2\": 60, \"7\": 17, \"15\": 2}, \"11\": {\"11\": 238, \"12\": 2}, \"4\": {\"4\": 111, \"0\": 32, \"14\": 34, \"7\": 15, \"1\": 4, \"8\": 35, \"10\": 8, \"15\": 1}, \"6\": {\"6\": 197, \"10\": 12, \"15\": 6, \"9\": 16, \"0\": 2, \"8\": 7}, \"7\": {\"2\": 26, \"4\": 20, \"7\": 147, \"3\": 19, \"8\": 15, \"1\": 2, \"10\": 1, \"15\": 5, \"14\": 3, \"0\": 1, \"5\": 1}, \"14\": {\"0\": 32, \"14\": 102, \"1\": 50, \"4\": 31, \"10\": 15, \"8\": 9, \"7\": 1}, \"2\": {\"2\": 100, \"3\": 79, \"5\": 20, \"7\": 23, \"15\": 9, \"9\": 2, \"8\": 5, \"13\": 2}, \"5\": {\"5\": 181, \"15\": 19, \"13\": 21, \"9\": 9, \"2\": 10}, \"9\": {\"8\": 10, \"9\": 125, \"15\": 75, \"13\": 10, \"6\": 10, \"7\": 1, \"5\": 5, \"2\": 3, \"3\": 1}}, \"O_20\": {\"5\": {\"1\": 20, \"5\": 149, \"12\": 22, \"0\": 38, \"3\": 4, \"15\": 7}, \"15\": {\"15\": 156, \"1\": 50, \"0\": 23, \"5\": 6, \"13\": 2, \"12\": 3}, \"9\": {\"9\": 121, \"2\": 58, \"3\": 29, \"13\": 10, \"12\": 11, \"1\": 3, \"7\": 8}, \"7\": {\"4\": 1, \"7\": 188, \"9\": 11, \"6\": 1, \"8\": 7, \"2\": 27, \"3\": 4, \"12\": 1}, \"3\": {\"9\": 27, \"12\": 45, \"3\": 116, \"7\": 17, \"4\": 11, \"5\": 6, \"1\": 3, \"2\": 12, \"8\": 3}, \"8\": {\"8\": 194, \"7\": 7, \"4\": 32, \"6\": 1, \"3\": 1, \"10\": 2, \"14\": 2, \"2\": 1}, \"4\": {\"4\": 214, \"8\": 21, \"3\": 5}, \"6\": {\"6\": 217, \"14\": 20, \"7\": 2, \"10\": 1}, \"2\": {\"9\": 62, \"2\": 115, \"7\": 30, \"12\": 5, \"13\": 13, \"3\": 15}, \"12\": {\"1\": 45, \"12\": 109, \"3\": 48, \"2\": 5, \"5\": 16, \"9\": 8, \"7\": 1, \"8\": 2, \"0\": 1, \"15\": 5}, \"0\": {\"0\": 143, \"5\": 52, \"12\": 5, \"1\": 7, \"15\": 31, \"3\": 1, \"9\": 1}, \"13\": {\"13\": 223, \"2\": 14, \"9\": 2, \"15\": 1}, \"10\": {\"14\": 13, \"10\": 222, \"4\": 1, \"8\": 4}, \"11\": {\"11\": 240}, \"14\": {\"14\": 202, \"10\": 24, \"6\": 13, \"8\": 1}, \"1\": {\"12\": 30, \"0\": 10, \"1\": 130, \"5\": 28, \"15\": 38, \"3\": 2, \"13\": 1, \"9\": 1}}, \"O_50\": {\"1\": {\"1\": 173, \"6\": 12, \"15\": 41, \"11\": 2, \"4\": 5, \"13\": 2, \"5\": 5}, \"2\": {\"2\": 221, \"0\": 19}, \"8\": {\"8\": 230, \"3\": 6, \"10\": 4}, \"7\": {\"7\": 189, \"13\": 16, \"5\": 32, \"10\": 2, \"6\": 1}, \"14\": {\"14\": 239, \"12\": 1}, \"6\": {\"6\": 168, \"5\": 19, \"4\": 18, \"13\": 16, \"15\": 6, \"1\": 8, \"7\": 4, \"0\": 1}, \"3\": {\"3\": 236, \"8\": 4}, \"4\": {\"4\": 143, \"15\": 32, \"5\": 36, \"1\": 10, \"6\": 15, \"7\": 4}, \"12\": {\"12\": 205, \"9\": 28, \"11\": 5, \"14\": 2}, \"15\": {\"15\": 183, \"1\": 30, \"4\": 24, \"11\": 2, \"6\": 1}, \"11\": {\"11\": 213, \"15\": 11, \"9\": 12, \"12\": 3, \"14\": 1}, \"0\": {\"0\": 209, \"2\": 20, \"10\": 11}, \"9\": {\"9\": 192, \"11\": 27, \"12\": 21}, \"10\": {\"10\": 225, \"0\": 7, \"13\": 4, \"8\": 3, \"7\": 1}, \"5\": {\"6\": 23, \"1\": 12, \"5\": 91, \"7\": 66, \"4\": 22, \"15\": 1, \"13\": 25}, \"13\": {\"5\": 34, \"13\": 176, \"6\": 14, \"7\": 11, \"10\": 4, \"1\": 1}}, \"O_32\": {\"2\": {\"4\": 58, \"2\": 175, \"7\": 1, \"0\": 5, \"5\": 1}, \"6\": {\"6\": 240}, \"5\": {\"5\": 102, \"14\": 4, \"0\": 17, \"8\": 26, \"7\": 30, \"13\": 27, \"3\": 17, \"4\": 17}, \"12\": {\"12\": 240}, \"13\": {\"7\": 7, \"13\": 153, \"5\": 17, \"3\": 28, \"14\": 3, \"4\": 20, \"8\": 10, \"0\": 2}, \"9\": {\"9\": 240}, \"11\": {\"11\": 220, \"14\": 17, \"7\": 1, \"3\": 2}, \"1\": {\"1\": 240}, \"3\": {\"3\": 222, \"14\": 2, \"8\": 3, \"13\": 9, \"5\": 3, \"11\": 1}, \"7\": {\"7\": 115, \"5\": 45, \"13\": 14, \"4\": 8, \"14\": 40, \"3\": 1, \"11\": 6, \"8\": 2, \"0\": 6, \"2\": 3}, \"14\": {\"14\": 102, \"11\": 54, \"7\": 55, \"5\": 11, \"0\": 8, \"8\": 5, \"13\": 2, \"3\": 2, \"2\": 1}, \"8\": {\"5\": 30, \"0\": 23, \"13\": 13, \"8\": 164, \"4\": 2, \"14\": 4, \"3\": 2, \"7\": 2}, \"4\": {\"2\": 41, \"4\": 150, \"13\": 13, \"7\": 13, \"0\": 12, \"5\": 10, \"8\": 1}, \"0\": {\"0\": 173, \"8\": 18, \"7\": 20, \"5\": 15, \"4\": 6, \"14\": 5, \"13\": 1, \"2\": 2}, \"10\": {\"10\": 234, \"1\": 6}, \"15\": {\"15\": 239, \"8\": 1}}, \"O_44\": {\"13\": {\"13\": 162, \"9\": 31, \"6\": 42, \"11\": 4, \"4\": 1}, \"4\": {\"14\": 64, \"4\": 174, \"5\": 1, \"15\": 1}, \"6\": {\"6\": 155, \"9\": 24, \"11\": 2, \"13\": 54, \"7\": 5}, \"0\": {\"0\": 138, \"8\": 71, \"15\": 24, \"5\": 7}, \"10\": {\"10\": 192, \"1\": 23, \"2\": 20, \"12\": 5}, \"7\": {\"7\": 157, \"2\": 35, \"6\": 12, \"13\": 1, \"9\": 34, \"10\": 1}, \"14\": {\"15\": 20, \"4\": 74, \"14\": 140, \"5\": 6}, \"15\": {\"14\": 20, \"15\": 178, \"5\": 17, \"8\": 8, \"4\": 1, \"0\": 16}, \"5\": {\"5\": 209, \"8\": 4, \"14\": 12, \"0\": 11, \"15\": 4}, \"2\": {\"2\": 190, \"1\": 8, \"10\": 14, \"7\": 26, \"9\": 1, \"3\": 1}, \"9\": {\"9\": 138, \"13\": 24, \"7\": 45, \"6\": 28, \"2\": 4, \"10\": 1}, \"12\": {\"12\": 205, \"1\": 31, \"10\": 1, \"3\": 3}, \"8\": {\"8\": 143, \"15\": 13, \"0\": 77, \"5\": 7}, \"3\": {\"3\": 222, \"1\": 16, \"12\": 2}, \"1\": {\"1\": 155, \"10\": 17, \"2\": 10, \"12\": 37, \"3\": 21}, \"11\": {\"11\": 225, \"6\": 5, \"13\": 9, \"9\": 1}}, \"O_14\": {\"1\": {\"5\": 15, \"1\": 223, \"4\": 2}, \"15\": {\"15\": 237, \"7\": 3}, \"10\": {\"10\": 222, \"0\": 18}, \"2\": {\"3\": 15, \"2\": 153, \"14\": 33, \"6\": 12, \"4\": 4, \"13\": 10, \"5\": 12, \"15\": 1}, \"9\": {\"9\": 239, \"11\": 1}, \"5\": {\"5\": 161, \"4\": 49, \"1\": 20, \"3\": 2, \"2\": 7, \"7\": 1}, \"7\": {\"7\": 240}, \"13\": {\"6\": 93, \"13\": 88, \"14\": 44, \"2\": 10, \"3\": 1, \"5\": 2, \"4\": 1, \"15\": 1}, \"8\": {\"8\": 240}, \"6\": {\"13\": 72, \"6\": 144, \"14\": 12, \"2\": 12}, \"3\": {\"3\": 225, \"4\": 6, \"14\": 3, \"2\": 4, \"10\": 1, \"5\": 1}, \"12\": {\"12\": 240}, \"0\": {\"0\": 205, \"10\": 30, \"11\": 3, \"3\": 2}, \"4\": {\"4\": 195, \"5\": 30, \"1\": 5, \"2\": 4, \"3\": 5, \"13\": 1}, \"14\": {\"14\": 202, \"2\": 19, \"6\": 6, \"13\": 13}, \"11\": {\"11\": 221, \"9\": 15, \"0\": 4}}, \"C_2\": {\"21\": {\"21\": 119, \"3\": 1}, \"4\": {\"4\": 130}, \"6\": {\"6\": 105, \"20\": 2, \"36\": 1, \"46\": 2, \"30\": 7, \"3\": 4, \"48\": 1, \"43\": 1, \"8\": 1}, \"10\": {\"10\": 112}, \"33\": {\"33\": 28}, \"56\": {\"56\": 121, \"22\": 1}, \"20\": {\"20\": 132}, \"24\": {\"24\": 96}, \"45\": {\"45\": 125, \"4\": 3}, \"32\": {\"32\": 28}, \"27\": {\"27\": 148}, \"53\": {\"53\": 136}, \"8\": {\"8\": 160}, \"54\": {\"54\": 108}, \"50\": {\"50\": 127, \"25\": 6, \"2\": 1}, \"44\": {\"44\": 100}, \"5\": {\"5\": 118, \"47\": 1, \"23\": 1}, \"38\": {\"38\": 20}, \"19\": {\"19\": 132}, \"1\": {\"1\": 111, \"57\": 1}, \"30\": {\"30\": 144}, \"15\": {\"15\": 144}, \"23\": {\"23\": 146}, \"35\": {\"35\": 32}, \"22\": {\"22\": 128}, \"40\": {\"40\": 129, \"9\": 8, \"19\": 3}, \"46\": {\"46\": 124, \"6\": 2}, \"3\": {\"3\": 86, \"21\": 3, \"20\": 1, \"52\": 1, \"16\": 1}, \"48\": {\"48\": 147, \"47\": 1}, \"52\": {\"52\": 115, \"16\": 9}, \"2\": {\"2\": 32}, \"26\": {\"26\": 24}, \"17\": {\"17\": 104}, \"55\": {\"55\": 144}, \"51\": {\"51\": 122}, \"42\": {\"42\": 36}, \"41\": {\"41\": 20}, \"31\": {\"31\": 28}, \"16\": {\"16\": 134, \"52\": 4}, \"36\": {\"36\": 116}, \"49\": {\"49\": 24}, \"0\": {\"0\": 48}, \"18\": {\"18\": 48}, \"25\": {\"25\": 146}, \"9\": {\"9\": 115, \"40\": 7}, \"47\": {\"47\": 132}, \"7\": {\"7\": 36}, \"37\": {\"37\": 36}, \"13\": {\"13\": 114, \"43\": 2}, \"14\": {\"14\": 22, \"1\": 2}, \"34\": {\"34\": 28}, \"57\": {\"57\": 140}, \"11\": {\"11\": 138}, \"39\": {\"39\": 28}, \"12\": {\"12\": 91, \"54\": 1}, \"28\": {\"28\": 28}, \"29\": {\"29\": 128}, \"43\": {\"43\": 140}}, \"C_5\": {\"12\": {\"12\": 96}, \"8\": {\"8\": 142}, \"29\": {\"29\": 132}, \"57\": {\"57\": 126}, \"38\": {\"38\": 32}, \"23\": {\"23\": 124}, \"56\": {\"56\": 138}, \"49\": {\"49\": 36}, \"4\": {\"4\": 99, \"45\": 1}, \"48\": {\"48\": 134, \"9\": 2}, \"21\": {\"21\": 144}, \"30\": {\"30\": 128}, \"1\": {\"1\": 148}, \"34\": {\"34\": 36}, \"35\": {\"35\": 36}, \"55\": {\"55\": 152}, \"5\": {\"5\": 121, \"40\": 1}, \"52\": {\"52\": 126}, \"6\": {\"6\": 83, \"8\": 10, \"18\": 11, \"9\": 1, \"1\": 3, \"48\": 6, \"25\": 7, \"30\": 3, \"50\": 2, \"20\": 1, \"17\": 1}, \"36\": {\"36\": 92}, \"41\": {\"41\": 28}, \"3\": {\"3\": 93, \"35\": 3, \"56\": 2, \"49\": 1, \"52\": 1}, \"28\": {\"28\": 32}, \"18\": {\"18\": 64}, \"25\": {\"25\": 128, \"50\": 4, \"8\": 3, \"53\": 1}, \"47\": {\"47\": 100}, \"13\": {\"13\": 159, \"56\": 1}, \"11\": {\"11\": 144}, \"53\": {\"53\": 140, \"50\": 2, \"6\": 1, \"48\": 1}, \"33\": {\"33\": 32}, \"46\": {\"46\": 138, \"35\": 2, \"47\": 4, \"31\": 3, \"14\": 1}, \"50\": {\"50\": 127, \"53\": 10, \"52\": 1, \"8\": 2, \"3\": 1, \"6\": 2, \"25\": 3, \"43\": 1, \"21\": 1}, \"10\": {\"10\": 68}, \"15\": {\"15\": 138}, \"44\": {\"44\": 140}, \"2\": {\"2\": 28}, \"7\": {\"7\": 32}, \"43\": {\"43\": 138}, \"32\": {\"32\": 31, \"19\": 1}, \"0\": {\"0\": 124}, \"39\": {\"39\": 20}, \"26\": {\"26\": 24}, \"27\": {\"27\": 110, \"19\": 1, \"32\": 1}, \"54\": {\"54\": 112}, \"17\": {\"17\": 116}, \"14\": {\"47\": 4, \"36\": 5, \"14\": 25, \"46\": 2, \"0\": 1, \"54\": 1, \"5\": 2, \"40\": 1, \"3\": 2, \"39\": 1}, \"16\": {\"16\": 148}, \"9\": {\"9\": 143, \"48\": 3, \"17\": 1, \"27\": 1}, \"19\": {\"19\": 151, \"32\": 1}, \"20\": {\"20\": 138}, \"37\": {\"37\": 24}, \"24\": {\"24\": 80}, \"40\": {\"40\": 119, \"5\": 3}, \"45\": {\"45\": 88, \"9\": 2, \"4\": 5, \"27\": 18, \"55\": 4, \"17\": 1, \"19\": 5, \"32\": 1}, \"22\": {\"22\": 28}, \"42\": {\"42\": 38, \"56\": 2}, \"51\": {\"51\": 115, \"20\": 3}, \"31\": {\"31\": 36}}, \"C_1\": {\"27\": {\"27\": 142}, \"2\": {\"2\": 36}, \"33\": {\"33\": 32}, \"45\": {\"45\": 155, \"42\": 1}, \"38\": {\"38\": 24}, \"4\": {\"4\": 132}, \"31\": {\"31\": 28}, \"55\": {\"55\": 140}, \"32\": {\"32\": 32}, \"57\": {\"57\": 130, \"1\": 2, \"56\": 8}, \"14\": {\"14\": 9, \"34\": 1, \"8\": 4, \"12\": 2, \"5\": 1, \"9\": 5, \"51\": 1, \"46\": 1}, \"16\": {\"16\": 140}, \"34\": {\"34\": 24}, \"56\": {\"56\": 114, \"57\": 7, \"29\": 2, \"19\": 3}, \"24\": {\"24\": 105, \"22\": 3}, \"30\": {\"30\": 112}, \"17\": {\"17\": 64}, \"13\": {\"13\": 138}, \"39\": {\"39\": 28}, \"50\": {\"50\": 146}, \"20\": {\"20\": 138, \"12\": 2}, \"41\": {\"41\": 24}, \"53\": {\"53\": 126}, \"48\": {\"48\": 142}, \"36\": {\"36\": 64}, \"8\": {\"8\": 140}, \"15\": {\"15\": 132}, \"40\": {\"40\": 154, \"19\": 2}, \"37\": {\"37\": 32}, \"21\": {\"21\": 120}, \"35\": {\"35\": 36}, \"49\": {\"49\": 32}, \"26\": {\"26\": 24}, \"28\": {\"28\": 28}, \"12\": {\"12\": 116}, \"5\": {\"5\": 152}, \"29\": {\"29\": 128, \"19\": 2, \"57\": 5, \"56\": 5}, \"47\": {\"47\": 140}, \"10\": {\"10\": 96}, \"18\": {\"18\": 69, \"48\": 1, \"8\": 2}, \"9\": {\"9\": 126}, \"3\": {\"3\": 136, \"13\": 4}, \"52\": {\"52\": 131, \"22\": 1}, \"25\": {\"25\": 136}, \"19\": {\"19\": 155, \"29\": 1}, \"11\": {\"11\": 132, \"15\": 2, \"21\": 2}, \"7\": {\"7\": 28}, \"23\": {\"23\": 136}, \"44\": {\"44\": 132}, \"42\": {\"42\": 40}, \"54\": {\"54\": 104}, \"1\": {\"1\": 94, \"57\": 6}, \"46\": {\"46\": 128}, \"6\": {\"6\": 96}, \"43\": {\"43\": 144}, \"51\": {\"51\": 142}, \"22\": {\"22\": 133, \"24\": 3}, \"0\": {\"0\": 126, \"31\": 2}}, \"C_4\": {\"32\": {\"32\": 22, \"46\": 2}, \"2\": {\"2\": 36}, \"41\": {\"41\": 36}, \"11\": {\"11\": 98, \"32\": 1, \"15\": 2, \"46\": 1}, \"57\": {\"57\": 100}, \"6\": {\"6\": 101, \"20\": 7, \"51\": 2, \"36\": 1, \"43\": 1}, \"23\": {\"23\": 136}, \"52\": {\"52\": 116}, \"38\": {\"38\": 40}, \"50\": {\"50\": 114, \"53\": 5, \"21\": 4, \"8\": 1, \"3\": 6, \"48\": 1, \"25\": 1}, \"55\": {\"55\": 150, \"28\": 1, \"34\": 1}, \"46\": {\"32\": 3, \"46\": 134, \"47\": 10, \"0\": 5, \"38\": 2}, \"37\": {\"37\": 24}, \"20\": {\"20\": 116, \"54\": 1, \"51\": 1}, \"49\": {\"49\": 20}, \"45\": {\"45\": 96}, \"54\": {\"54\": 108}, \"3\": {\"3\": 113, \"21\": 2, \"50\": 6, \"18\": 1, \"6\": 1, \"8\": 1}, \"13\": {\"13\": 152}, \"18\": {\"18\": 107, \"47\": 1}, \"21\": {\"21\": 121, \"50\": 3, \"8\": 2}, \"43\": {\"43\": 143, \"24\": 1}, \"47\": {\"47\": 120}, \"4\": {\"4\": 132}, \"12\": {\"12\": 92}, \"9\": {\"9\": 128}, \"7\": {\"7\": 24}, \"56\": {\"56\": 112}, \"28\": {\"28\": 32}, \"44\": {\"44\": 130, \"40\": 2}, \"24\": {\"24\": 56}, \"33\": {\"33\": 36}, \"35\": {\"35\": 39, \"57\": 1}, \"51\": {\"51\": 137, \"20\": 1}, \"39\": {\"39\": 20}, \"36\": {\"36\": 91, \"54\": 1}, \"19\": {\"19\": 137, \"44\": 1, \"40\": 1, \"4\": 1}, \"0\": {\"0\": 72, \"32\": 2, \"47\": 1, \"46\": 4, \"38\": 1}, \"15\": {\"15\": 134, \"5\": 1, \"11\": 1}, \"29\": {\"29\": 123, \"48\": 1}, \"30\": {\"30\": 44}, \"1\": {\"1\": 40}, \"22\": {\"22\": 128}, \"40\": {\"40\": 140, \"19\": 5, \"44\": 1}, \"8\": {\"8\": 125, \"21\": 3}, \"53\": {\"53\": 138}, \"34\": {\"34\": 23, \"28\": 1}, \"10\": {\"10\": 121, \"43\": 1}, \"31\": {\"31\": 28}, \"17\": {\"17\": 78, \"27\": 2}, \"16\": {\"16\": 96}, \"42\": {\"42\": 32}, \"27\": {\"27\": 139, \"17\": 3}, \"14\": {\"14\": 13, \"57\": 3}, \"25\": {\"25\": 121, \"23\": 1}, \"48\": {\"48\": 132}, \"26\": {\"26\": 24}, \"5\": {\"5\": 91, \"15\": 9, \"47\": 1, \"3\": 4, \"43\": 3}}, \"C_3\": {\"14\": {\"1\": 3, \"14\": 34, \"56\": 1, \"57\": 2}, \"18\": {\"18\": 84}, \"30\": {\"30\": 120}, \"16\": {\"16\": 156}, \"1\": {\"1\": 99, \"14\": 1}, \"20\": {\"20\": 132}, \"7\": {\"7\": 36}, \"52\": {\"52\": 128, \"16\": 1, \"3\": 1}, \"9\": {\"9\": 139, \"29\": 1}, \"23\": {\"23\": 144}, \"55\": {\"55\": 164}, \"29\": {\"29\": 124, \"9\": 2}, \"56\": {\"56\": 134}, \"3\": {\"3\": 115, \"52\": 5, \"16\": 1, \"26\": 1, \"18\": 1, \"25\": 1}, \"42\": {\"42\": 28}, \"6\": {\"6\": 70, \"30\": 6, \"26\": 5, \"20\": 1, \"3\": 2, \"48\": 1, \"18\": 1, \"12\": 1, \"38\": 1}, \"5\": {\"5\": 113, \"47\": 1, \"23\": 1, \"48\": 1}, \"27\": {\"27\": 144}, \"47\": {\"47\": 92}, \"39\": {\"39\": 16}, \"34\": {\"34\": 31, \"28\": 1}, \"4\": {\"4\": 125, \"19\": 1}, \"24\": {\"24\": 104}, \"46\": {\"46\": 114, \"20\": 4}, \"50\": {\"50\": 108, \"25\": 7, \"53\": 3, \"13\": 1, \"3\": 4, \"8\": 3}, \"38\": {\"38\": 28}, \"54\": {\"54\": 100}, \"35\": {\"35\": 28}, \"2\": {\"2\": 32}, \"41\": {\"41\": 28}, \"57\": {\"57\": 118}, \"25\": {\"25\": 147, \"50\": 2, \"18\": 1}, \"48\": {\"48\": 115, \"47\": 1}, \"33\": {\"33\": 28}, \"45\": {\"45\": 60}, \"13\": {\"13\": 125, \"43\": 1}, \"36\": {\"36\": 100}, \"43\": {\"43\": 132}, \"28\": {\"28\": 28}, \"0\": {\"0\": 120, \"47\": 3, \"1\": 1}, \"12\": {\"12\": 92}, \"31\": {\"31\": 28}, \"40\": {\"40\": 115, \"19\": 1}, \"44\": {\"44\": 86, \"40\": 1, \"19\": 1}, \"32\": {\"32\": 28}, \"26\": {\"26\": 24}, \"8\": {\"8\": 116}, \"10\": {\"10\": 64}, \"15\": {\"15\": 142}, \"21\": {\"21\": 126, \"53\": 2}, \"37\": {\"37\": 28}, \"17\": {\"17\": 108}, \"51\": {\"51\": 124}, \"53\": {\"53\": 143, \"25\": 1}, \"19\": {\"19\": 136}, \"49\": {\"49\": 20}, \"11\": {\"11\": 138}, \"22\": {\"22\": 128, \"56\": 2}}}, \"per_domain_accuracy\": {\"O_8\": {\"accuracy\": 0.7609375, \"source?\": true}, \"O_38\": {\"accuracy\": 0.840625, \"source?\": true}, \"O_26\": {\"accuracy\": 0.6049479166666667, \"source?\": true}, \"O_20\": {\"accuracy\": 0.71328125, \"source?\": true}, \"O_50\": {\"accuracy\": 0.80546875, \"source?\": true}, \"O_32\": {\"accuracy\": 0.78359375, \"source?\": true}, \"O_44\": {\"accuracy\": 0.7247395833333333, \"source?\": true}, \"O_14\": {\"accuracy\": 0.8424479166666666, \"source?\": true}, \"C_2\": {\"accuracy\": 0.9859730113636364, \"source?\": false}, \"C_5\": {\"accuracy\": 0.9698033707865169, \"source?\": false}, \"C_1\": {\"accuracy\": 0.986092032967033, \"source?\": false}, \"C_4\": {\"accuracy\": 0.9751122754491018, \"source?\": false}, \"C_3\": {\"accuracy\": 0.9848318713450293, \"source?\": false}}}, \"history\": {\"epoch_indices\": [1, 2, 3, 4, 5, 6, 7, 8, 9, 10, 11, 12], \"train_label_loss\": [1.682087621953161, 0.9323185346222349, 0.8742830522402766, 0.8342927725098672, 0.804754787035996, 0.7808937742064397, 0.7277270149173481, 0.6564893207690191, 0.5955787955007206, 0.5575350583658465, 0.5308447704872206, 0.5100380967337904], \"source_val_label_loss\": [1.1658741235733032, 0.9018765091896057, 0.8572667241096497, 0.81270831823349, 0.8000372648239136, 0.7804445624351501, 0.7475679516792297, 0.6437674164772034, 0.6108618974685669, 0.569858729839325, 0.5662474632263184, 0.5516433119773865], \"target_val_label_loss\": [0.44217345118522644, 0.14995257556438446, 0.1684679388999939, 0.1820613145828247, 0.17683365941047668, 0.1501215249300003, 0.16579511761665344, 0.13339544832706451, 0.1892937421798706, 0.22929923236370087, 0.3166285455226898, 0.448466032743454], \"source_val_acc_label\": [0.58310546875, 0.6626627604166667, 0.6793294270833333, 0.6955403645833333, 0.6983072916666667, 0.7065104166666667, 0.71982421875, 0.7595052083333333, 0.77412109375, 0.7880208333333333, 0.7894856770833333, 0.79453125], \"target_val_acc_label\": [0.9397525743707094, 0.9631364416475973, 0.9573441075514875, 0.9546267162471396, 0.9569865560640732, 0.9696438787185355, 0.9703232265446224, 0.9804061784897025, 0.9760440503432495, 0.9733981693363845, 0.9712171052631579, 0.9653890160183066]}, \"dataset_metrics\": {\"source\": {\"train\": {\"n_unique_x\": 179200, \"n_unique_y\": 16, \"n_batch/episode\": 6720}, \"val\": {\"n_unique_x\": 38400, \"n_unique_y\": 16, \"n_batch/episode\": 960}, \"test\": {\"n_unique_x\": 38400, \"n_unique_y\": 16, \"n_batch/episode\": 960}}, \"target\": {\"train\": {\"n_unique_x\": 175127, \"n_unique_y\": 58, \"n_batch/episode\": 6303}, \"val\": {\"n_unique_x\": 37135, \"n_unique_y\": 58, \"n_batch/episode\": 874}, \"test\": {\"n_unique_x\": 37673, \"n_unique_y\": 58, \"n_batch/episode\": 893}}}}'"
      ]
     },
     "execution_count": 29,
     "metadata": {},
     "output_type": "execute_result"
    }
   ],
   "source": [
    "json.dumps(experiment)"
   ]
  }
 ],
 "metadata": {
  "celltoolbar": "Tags",
  "kernelspec": {
   "display_name": "Python 3 (ipykernel)",
   "language": "python",
   "name": "python3"
  },
  "language_info": {
   "codemirror_mode": {
    "name": "ipython",
    "version": 3
   },
   "file_extension": ".py",
   "mimetype": "text/x-python",
   "name": "python",
   "nbconvert_exporter": "python",
   "pygments_lexer": "ipython3",
   "version": "3.8.12"
  },
  "papermill": {
   "default_parameters": {},
   "duration": 2700.086808,
   "end_time": "2022-03-28T17:25:17.604751",
   "environment_variables": {},
   "exception": null,
   "input_path": "/root/csc500-main/csc500-notebooks/templates/tl_ptn_template.ipynb",
   "output_path": "trial.ipynb",
   "parameters": {
    "parameters": {
     "BEST_MODEL_PATH": "./best_model.pth",
     "NUM_LOGS_PER_EPOCH": 10,
     "criteria_for_best": "target_accuracy",
     "dataset_seed": 154325,
     "datasets": [
      {
       "domain_prefix": "C_",
       "domains": [
        1,
        2,
        3,
        4,
        5
       ],
       "episode_transforms": [],
       "labels": [
        "1-10.",
        "1-11.",
        "1-15.",
        "1-16.",
        "1-17.",
        "1-18.",
        "1-19.",
        "10-4.",
        "10-7.",
        "11-1.",
        "11-14.",
        "11-17.",
        "11-20.",
        "11-7.",
        "13-20.",
        "13-8.",
        "14-10.",
        "14-11.",
        "14-14.",
        "14-7.",
        "15-1.",
        "15-20.",
        "16-1.",
        "16-16.",
        "17-10.",
        "17-11.",
        "17-2.",
        "19-1.",
        "19-16.",
        "19-19.",
        "19-20.",
        "19-3.",
        "2-10.",
        "2-11.",
        "2-17.",
        "2-18.",
        "2-20.",
        "2-3.",
        "2-4.",
        "2-5.",
        "2-6.",
        "2-7.",
        "2-8.",
        "3-13.",
        "3-18.",
        "3-3.",
        "4-1.",
        "4-10.",
        "4-11.",
        "4-19.",
        "5-5.",
        "6-15.",
        "7-10.",
        "7-14.",
        "8-18.",
        "8-20.",
        "8-3.",
        "8-8."
       ],
       "num_examples_per_domain_per_label": -1,
       "pickle_path": "/root/csc500-main/datasets/cores.stratified_ds.2022A.pkl",
       "source_or_target_dataset": "target",
       "x_transforms": [
        "unit_power",
        "jitter_256_5",
        "lowpass_+/-10MHz",
        "take_200"
       ]
      },
      {
       "domain_prefix": "O_",
       "domains": [
        32,
        38,
        8,
        44,
        14,
        50,
        20,
        26
       ],
       "episode_transforms": [],
       "labels": [
        "3123D52",
        "3123D65",
        "3123D79",
        "3123D80",
        "3123D54",
        "3123D70",
        "3123D7B",
        "3123D89",
        "3123D58",
        "3123D76",
        "3123D7D",
        "3123EFE",
        "3123D64",
        "3123D78",
        "3123D7E",
        "3124E4A"
       ],
       "num_examples_per_domain_per_label": 2000,
       "pickle_path": "/root/csc500-main/datasets/oracle.Run1_framed_2000Examples_stratified_ds.2022A.pkl",
       "source_or_target_dataset": "source",
       "x_transforms": [
        "unit_power",
        "jitter_256_5",
        "take_200",
        "resample_20Msps_to_25Msps"
       ]
      }
     ],
     "device": "cuda",
     "experiment_name": "tl_3-jitter5v2:oracle.run1.framed -> cores",
     "lr": 0.0001,
     "n_epoch": 50,
     "n_query": 2,
     "n_shot": 3,
     "n_way": 16,
     "patience": 3,
     "seed": 154325,
     "test_k_factor": 2,
     "torch_default_dtype": "torch.float32",
     "train_k_factor": 3,
     "val_k_factor": 2,
     "x_net": [
      {
       "class": "nnReshape",
       "kargs": {
        "shape": [
         -1,
         1,
         2,
         256
        ]
       }
      },
      {
       "class": "Conv2d",
       "kargs": {
        "bias": false,
        "in_channels": 1,
        "kernel_size": [
         1,
         7
        ],
        "out_channels": 256,
        "padding": [
         0,
         3
        ]
       }
      },
      {
       "class": "ReLU",
       "kargs": {
        "inplace": true
       }
      },
      {
       "class": "BatchNorm2d",
       "kargs": {
        "num_features": 256
       }
      },
      {
       "class": "Conv2d",
       "kargs": {
        "bias": true,
        "in_channels": 256,
        "kernel_size": [
         2,
         7
        ],
        "out_channels": 80,
        "padding": [
         0,
         3
        ]
       }
      },
      {
       "class": "ReLU",
       "kargs": {
        "inplace": true
       }
      },
      {
       "class": "BatchNorm2d",
       "kargs": {
        "num_features": 80
       }
      },
      {
       "class": "Flatten",
       "kargs": {}
      },
      {
       "class": "Linear",
       "kargs": {
        "in_features": 20480,
        "out_features": 256
       }
      },
      {
       "class": "ReLU",
       "kargs": {
        "inplace": true
       }
      },
      {
       "class": "BatchNorm1d",
       "kargs": {
        "num_features": 256
       }
      },
      {
       "class": "Linear",
       "kargs": {
        "in_features": 256,
        "out_features": 256
       }
      }
     ],
     "x_shape": [
      2,
      256
     ]
    }
   },
   "start_time": "2022-03-28T16:40:17.517943",
   "version": "2.3.4"
  }
 },
 "nbformat": 4,
 "nbformat_minor": 5
}