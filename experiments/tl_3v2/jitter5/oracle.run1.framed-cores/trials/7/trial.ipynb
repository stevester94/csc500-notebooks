{
 "cells": [
  {
   "cell_type": "markdown",
   "id": "9fea5f46",
   "metadata": {
    "papermill": {
     "duration": 0.029104,
     "end_time": "2022-03-28T17:08:47.786446",
     "exception": false,
     "start_time": "2022-03-28T17:08:47.757342",
     "status": "completed"
    },
    "tags": []
   },
   "source": [
    "# Transfer Learning Template"
   ]
  },
  {
   "cell_type": "code",
   "execution_count": 1,
   "id": "0902182a",
   "metadata": {
    "execution": {
     "iopub.execute_input": "2022-03-28T17:08:47.852883Z",
     "iopub.status.busy": "2022-03-28T17:08:47.851690Z",
     "iopub.status.idle": "2022-03-28T17:08:49.829685Z",
     "shell.execute_reply": "2022-03-28T17:08:49.829250Z"
    },
    "papermill": {
     "duration": 2.015517,
     "end_time": "2022-03-28T17:08:49.829797",
     "exception": false,
     "start_time": "2022-03-28T17:08:47.814280",
     "status": "completed"
    },
    "tags": []
   },
   "outputs": [],
   "source": [
    "%load_ext autoreload\n",
    "%autoreload 2\n",
    "%matplotlib inline\n",
    "\n",
    "    \n",
    "import os, json, sys, time, random\n",
    "import numpy as np\n",
    "import torch\n",
    "from torch.optim import Adam\n",
    "from  easydict import EasyDict\n",
    "import matplotlib.pyplot as plt\n",
    "\n",
    "from steves_models.steves_ptn import Steves_Prototypical_Network\n",
    "\n",
    "from steves_utils.lazy_iterable_wrapper import Lazy_Iterable_Wrapper\n",
    "from steves_utils.iterable_aggregator import Iterable_Aggregator\n",
    "from steves_utils.ptn_train_eval_test_jig import  PTN_Train_Eval_Test_Jig\n",
    "from steves_utils.torch_sequential_builder import build_sequential\n",
    "from steves_utils.torch_utils import get_dataset_metrics, ptn_confusion_by_domain_over_dataloader\n",
    "from steves_utils.utils_v2 import (per_domain_accuracy_from_confusion, get_datasets_base_path)\n",
    "from steves_utils.PTN.utils import independent_accuracy_assesment\n",
    "\n",
    "from torch.utils.data import DataLoader\n",
    "\n",
    "from steves_utils.stratified_dataset.episodic_accessor import Episodic_Accessor_Factory\n",
    "\n",
    "from steves_utils.ptn_do_report import (\n",
    "    get_loss_curve,\n",
    "    get_results_table,\n",
    "    get_parameters_table,\n",
    "    get_domain_accuracies,\n",
    ")\n",
    "\n",
    "from steves_utils.transforms import get_chained_transform"
   ]
  },
  {
   "cell_type": "markdown",
   "id": "41c840b4",
   "metadata": {
    "papermill": {
     "duration": 0.018162,
     "end_time": "2022-03-28T17:08:49.867356",
     "exception": false,
     "start_time": "2022-03-28T17:08:49.849194",
     "status": "completed"
    },
    "tags": []
   },
   "source": [
    "# Allowed Parameters\n",
    "These are allowed parameters, not defaults\n",
    "Each of these values need to be present in the injected parameters (the notebook will raise an exception if they are not present)\n",
    "\n",
    "Papermill uses the cell tag \"parameters\" to inject the real parameters below this cell.\n",
    "Enable tags to see what I mean"
   ]
  },
  {
   "cell_type": "code",
   "execution_count": 2,
   "id": "fd44eb83",
   "metadata": {
    "execution": {
     "iopub.execute_input": "2022-03-28T17:08:49.907665Z",
     "iopub.status.busy": "2022-03-28T17:08:49.907000Z",
     "iopub.status.idle": "2022-03-28T17:08:49.926136Z",
     "shell.execute_reply": "2022-03-28T17:08:49.925817Z"
    },
    "papermill": {
     "duration": 0.040601,
     "end_time": "2022-03-28T17:08:49.926206",
     "exception": false,
     "start_time": "2022-03-28T17:08:49.885605",
     "status": "completed"
    },
    "tags": []
   },
   "outputs": [],
   "source": [
    "required_parameters = {\n",
    "    \"experiment_name\",\n",
    "    \"lr\",\n",
    "    \"device\",\n",
    "    \"seed\",\n",
    "    \"dataset_seed\",\n",
    "    \"n_shot\",\n",
    "    \"n_query\",\n",
    "    \"n_way\",\n",
    "    \"train_k_factor\",\n",
    "    \"val_k_factor\",\n",
    "    \"test_k_factor\",\n",
    "    \"n_epoch\",\n",
    "    \"patience\",\n",
    "    \"criteria_for_best\",\n",
    "    \"x_net\",\n",
    "    \"datasets\",\n",
    "    \"torch_default_dtype\",\n",
    "    \"NUM_LOGS_PER_EPOCH\",\n",
    "    \"BEST_MODEL_PATH\",\n",
    "    \"x_shape\",\n",
    "}"
   ]
  },
  {
   "cell_type": "code",
   "execution_count": 3,
   "id": "fa3f0049",
   "metadata": {
    "execution": {
     "iopub.execute_input": "2022-03-28T17:08:49.972776Z",
     "iopub.status.busy": "2022-03-28T17:08:49.972364Z",
     "iopub.status.idle": "2022-03-28T17:08:49.991386Z",
     "shell.execute_reply": "2022-03-28T17:08:49.991022Z"
    },
    "papermill": {
     "duration": 0.046856,
     "end_time": "2022-03-28T17:08:49.991455",
     "exception": false,
     "start_time": "2022-03-28T17:08:49.944599",
     "status": "completed"
    },
    "tags": [
     "parameters"
    ]
   },
   "outputs": [],
   "source": [
    "from steves_utils.CORES.utils import (\n",
    "    ALL_NODES,\n",
    "    ALL_NODES_MINIMUM_1000_EXAMPLES,\n",
    "    ALL_DAYS\n",
    ")\n",
    "\n",
    "from steves_utils.ORACLE.utils_v2 import (\n",
    "    ALL_DISTANCES_FEET_NARROWED,\n",
    "    ALL_RUNS,\n",
    "    ALL_SERIAL_NUMBERS,\n",
    ")\n",
    "\n",
    "standalone_parameters = {}\n",
    "standalone_parameters[\"experiment_name\"] = \"STANDALONE PTN\"\n",
    "standalone_parameters[\"lr\"] = 0.001\n",
    "standalone_parameters[\"device\"] = \"cuda\"\n",
    "\n",
    "standalone_parameters[\"seed\"] = 1337\n",
    "standalone_parameters[\"dataset_seed\"] = 1337\n",
    "\n",
    "standalone_parameters[\"n_way\"] = 8\n",
    "standalone_parameters[\"n_shot\"] = 3\n",
    "standalone_parameters[\"n_query\"]  = 2\n",
    "standalone_parameters[\"train_k_factor\"] = 1\n",
    "standalone_parameters[\"val_k_factor\"] = 2\n",
    "standalone_parameters[\"test_k_factor\"] = 2\n",
    "\n",
    "\n",
    "standalone_parameters[\"n_epoch\"] = 50\n",
    "\n",
    "standalone_parameters[\"patience\"] = 10\n",
    "standalone_parameters[\"criteria_for_best\"] = \"source_loss\"\n",
    "\n",
    "standalone_parameters[\"datasets\"] = [\n",
    "    {\n",
    "        \"labels\": ALL_SERIAL_NUMBERS,\n",
    "        \"domains\": ALL_DISTANCES_FEET_NARROWED,\n",
    "        \"num_examples_per_domain_per_label\": 100,\n",
    "        \"pickle_path\": os.path.join(get_datasets_base_path(), \"oracle.Run1_framed_2000Examples_stratified_ds.2022A.pkl\"),\n",
    "        \"source_or_target_dataset\": \"source\",\n",
    "        \"x_transforms\": [\"unit_mag\", \"minus_two\"],\n",
    "        \"episode_transforms\": [],\n",
    "        \"domain_prefix\": \"ORACLE_\"\n",
    "    },\n",
    "    {\n",
    "        \"labels\": ALL_NODES,\n",
    "        \"domains\": ALL_DAYS,\n",
    "        \"num_examples_per_domain_per_label\": 100,\n",
    "        \"pickle_path\": os.path.join(get_datasets_base_path(), \"cores.stratified_ds.2022A.pkl\"),\n",
    "        \"source_or_target_dataset\": \"target\",\n",
    "        \"x_transforms\": [\"unit_power\", \"times_zero\"],\n",
    "        \"episode_transforms\": [],\n",
    "        \"domain_prefix\": \"CORES_\"\n",
    "    }   \n",
    "]\n",
    "\n",
    "standalone_parameters[\"torch_default_dtype\"] = \"torch.float32\" \n",
    "\n",
    "\n",
    "\n",
    "standalone_parameters[\"x_net\"] =     [\n",
    "    {\"class\": \"nnReshape\", \"kargs\": {\"shape\":[-1, 1, 2, 256]}},\n",
    "    {\"class\": \"Conv2d\", \"kargs\": { \"in_channels\":1, \"out_channels\":256, \"kernel_size\":(1,7), \"bias\":False, \"padding\":(0,3), },},\n",
    "    {\"class\": \"ReLU\", \"kargs\": {\"inplace\": True}},\n",
    "    {\"class\": \"BatchNorm2d\", \"kargs\": {\"num_features\":256}},\n",
    "\n",
    "    {\"class\": \"Conv2d\", \"kargs\": { \"in_channels\":256, \"out_channels\":80, \"kernel_size\":(2,7), \"bias\":True, \"padding\":(0,3), },},\n",
    "    {\"class\": \"ReLU\", \"kargs\": {\"inplace\": True}},\n",
    "    {\"class\": \"BatchNorm2d\", \"kargs\": {\"num_features\":80}},\n",
    "    {\"class\": \"Flatten\", \"kargs\": {}},\n",
    "\n",
    "    {\"class\": \"Linear\", \"kargs\": {\"in_features\": 80*256, \"out_features\": 256}}, # 80 units per IQ pair\n",
    "    {\"class\": \"ReLU\", \"kargs\": {\"inplace\": True}},\n",
    "    {\"class\": \"BatchNorm1d\", \"kargs\": {\"num_features\":256}},\n",
    "\n",
    "    {\"class\": \"Linear\", \"kargs\": {\"in_features\": 256, \"out_features\": 256}},\n",
    "]\n",
    "\n",
    "# Parameters relevant to results\n",
    "# These parameters will basically never need to change\n",
    "standalone_parameters[\"NUM_LOGS_PER_EPOCH\"] = 10\n",
    "standalone_parameters[\"BEST_MODEL_PATH\"] = \"./best_model.pth\"\n",
    "\n",
    "\n",
    "\n",
    "\n"
   ]
  },
  {
   "cell_type": "code",
   "execution_count": 4,
   "id": "b1876fa6",
   "metadata": {
    "execution": {
     "iopub.execute_input": "2022-03-28T17:08:50.038209Z",
     "iopub.status.busy": "2022-03-28T17:08:50.035599Z",
     "iopub.status.idle": "2022-03-28T17:08:50.057148Z",
     "shell.execute_reply": "2022-03-28T17:08:50.056783Z"
    },
    "papermill": {
     "duration": 0.047179,
     "end_time": "2022-03-28T17:08:50.057216",
     "exception": false,
     "start_time": "2022-03-28T17:08:50.010037",
     "status": "completed"
    },
    "tags": [
     "injected-parameters"
    ]
   },
   "outputs": [],
   "source": [
    "# Parameters\n",
    "parameters = {\n",
    "    \"experiment_name\": \"tl_3-jitter5v2:oracle.run1.framed -> cores\",\n",
    "    \"device\": \"cuda\",\n",
    "    \"lr\": 0.0001,\n",
    "    \"x_shape\": [2, 256],\n",
    "    \"n_shot\": 3,\n",
    "    \"n_query\": 2,\n",
    "    \"train_k_factor\": 3,\n",
    "    \"val_k_factor\": 2,\n",
    "    \"test_k_factor\": 2,\n",
    "    \"torch_default_dtype\": \"torch.float32\",\n",
    "    \"n_epoch\": 50,\n",
    "    \"patience\": 3,\n",
    "    \"criteria_for_best\": \"target_accuracy\",\n",
    "    \"x_net\": [\n",
    "        {\"class\": \"nnReshape\", \"kargs\": {\"shape\": [-1, 1, 2, 256]}},\n",
    "        {\n",
    "            \"class\": \"Conv2d\",\n",
    "            \"kargs\": {\n",
    "                \"in_channels\": 1,\n",
    "                \"out_channels\": 256,\n",
    "                \"kernel_size\": [1, 7],\n",
    "                \"bias\": False,\n",
    "                \"padding\": [0, 3],\n",
    "            },\n",
    "        },\n",
    "        {\"class\": \"ReLU\", \"kargs\": {\"inplace\": True}},\n",
    "        {\"class\": \"BatchNorm2d\", \"kargs\": {\"num_features\": 256}},\n",
    "        {\n",
    "            \"class\": \"Conv2d\",\n",
    "            \"kargs\": {\n",
    "                \"in_channels\": 256,\n",
    "                \"out_channels\": 80,\n",
    "                \"kernel_size\": [2, 7],\n",
    "                \"bias\": True,\n",
    "                \"padding\": [0, 3],\n",
    "            },\n",
    "        },\n",
    "        {\"class\": \"ReLU\", \"kargs\": {\"inplace\": True}},\n",
    "        {\"class\": \"BatchNorm2d\", \"kargs\": {\"num_features\": 80}},\n",
    "        {\"class\": \"Flatten\", \"kargs\": {}},\n",
    "        {\"class\": \"Linear\", \"kargs\": {\"in_features\": 20480, \"out_features\": 256}},\n",
    "        {\"class\": \"ReLU\", \"kargs\": {\"inplace\": True}},\n",
    "        {\"class\": \"BatchNorm1d\", \"kargs\": {\"num_features\": 256}},\n",
    "        {\"class\": \"Linear\", \"kargs\": {\"in_features\": 256, \"out_features\": 256}},\n",
    "    ],\n",
    "    \"NUM_LOGS_PER_EPOCH\": 10,\n",
    "    \"BEST_MODEL_PATH\": \"./best_model.pth\",\n",
    "    \"n_way\": 16,\n",
    "    \"datasets\": [\n",
    "        {\n",
    "            \"labels\": [\n",
    "                \"1-10.\",\n",
    "                \"1-11.\",\n",
    "                \"1-15.\",\n",
    "                \"1-16.\",\n",
    "                \"1-17.\",\n",
    "                \"1-18.\",\n",
    "                \"1-19.\",\n",
    "                \"10-4.\",\n",
    "                \"10-7.\",\n",
    "                \"11-1.\",\n",
    "                \"11-14.\",\n",
    "                \"11-17.\",\n",
    "                \"11-20.\",\n",
    "                \"11-7.\",\n",
    "                \"13-20.\",\n",
    "                \"13-8.\",\n",
    "                \"14-10.\",\n",
    "                \"14-11.\",\n",
    "                \"14-14.\",\n",
    "                \"14-7.\",\n",
    "                \"15-1.\",\n",
    "                \"15-20.\",\n",
    "                \"16-1.\",\n",
    "                \"16-16.\",\n",
    "                \"17-10.\",\n",
    "                \"17-11.\",\n",
    "                \"17-2.\",\n",
    "                \"19-1.\",\n",
    "                \"19-16.\",\n",
    "                \"19-19.\",\n",
    "                \"19-20.\",\n",
    "                \"19-3.\",\n",
    "                \"2-10.\",\n",
    "                \"2-11.\",\n",
    "                \"2-17.\",\n",
    "                \"2-18.\",\n",
    "                \"2-20.\",\n",
    "                \"2-3.\",\n",
    "                \"2-4.\",\n",
    "                \"2-5.\",\n",
    "                \"2-6.\",\n",
    "                \"2-7.\",\n",
    "                \"2-8.\",\n",
    "                \"3-13.\",\n",
    "                \"3-18.\",\n",
    "                \"3-3.\",\n",
    "                \"4-1.\",\n",
    "                \"4-10.\",\n",
    "                \"4-11.\",\n",
    "                \"4-19.\",\n",
    "                \"5-5.\",\n",
    "                \"6-15.\",\n",
    "                \"7-10.\",\n",
    "                \"7-14.\",\n",
    "                \"8-18.\",\n",
    "                \"8-20.\",\n",
    "                \"8-3.\",\n",
    "                \"8-8.\",\n",
    "            ],\n",
    "            \"domains\": [1, 2, 3, 4, 5],\n",
    "            \"num_examples_per_domain_per_label\": -1,\n",
    "            \"pickle_path\": \"/root/csc500-main/datasets/cores.stratified_ds.2022A.pkl\",\n",
    "            \"source_or_target_dataset\": \"target\",\n",
    "            \"x_transforms\": [\n",
    "                \"unit_mag\",\n",
    "                \"jitter_256_5\",\n",
    "                \"lowpass_+/-10MHz\",\n",
    "                \"take_200\",\n",
    "            ],\n",
    "            \"episode_transforms\": [],\n",
    "            \"domain_prefix\": \"C_\",\n",
    "        },\n",
    "        {\n",
    "            \"labels\": [\n",
    "                \"3123D52\",\n",
    "                \"3123D65\",\n",
    "                \"3123D79\",\n",
    "                \"3123D80\",\n",
    "                \"3123D54\",\n",
    "                \"3123D70\",\n",
    "                \"3123D7B\",\n",
    "                \"3123D89\",\n",
    "                \"3123D58\",\n",
    "                \"3123D76\",\n",
    "                \"3123D7D\",\n",
    "                \"3123EFE\",\n",
    "                \"3123D64\",\n",
    "                \"3123D78\",\n",
    "                \"3123D7E\",\n",
    "                \"3124E4A\",\n",
    "            ],\n",
    "            \"domains\": [32, 38, 8, 44, 14, 50, 20, 26],\n",
    "            \"num_examples_per_domain_per_label\": 2000,\n",
    "            \"pickle_path\": \"/root/csc500-main/datasets/oracle.Run1_framed_2000Examples_stratified_ds.2022A.pkl\",\n",
    "            \"source_or_target_dataset\": \"source\",\n",
    "            \"x_transforms\": [\n",
    "                \"unit_mag\",\n",
    "                \"jitter_256_5\",\n",
    "                \"take_200\",\n",
    "                \"resample_20Msps_to_25Msps\",\n",
    "            ],\n",
    "            \"episode_transforms\": [],\n",
    "            \"domain_prefix\": \"O_\",\n",
    "        },\n",
    "    ],\n",
    "    \"seed\": 154325,\n",
    "    \"dataset_seed\": 154325,\n",
    "}\n"
   ]
  },
  {
   "cell_type": "code",
   "execution_count": 5,
   "id": "8fa1cc33",
   "metadata": {
    "execution": {
     "iopub.execute_input": "2022-03-28T17:08:50.099230Z",
     "iopub.status.busy": "2022-03-28T17:08:50.098554Z",
     "iopub.status.idle": "2022-03-28T17:08:50.116738Z",
     "shell.execute_reply": "2022-03-28T17:08:50.116374Z"
    },
    "papermill": {
     "duration": 0.04082,
     "end_time": "2022-03-28T17:08:50.116808",
     "exception": false,
     "start_time": "2022-03-28T17:08:50.075988",
     "status": "completed"
    },
    "tags": []
   },
   "outputs": [],
   "source": [
    "# Set this to True if you want to run this template directly\n",
    "STANDALONE = False\n",
    "if STANDALONE:\n",
    "    print(\"parameters not injected, running with standalone_parameters\")\n",
    "    parameters = standalone_parameters\n",
    "\n",
    "if not 'parameters' in locals() and not 'parameters' in globals():\n",
    "    raise Exception(\"Parameter injection failed\")\n",
    "\n",
    "#Use an easy dict for all the parameters\n",
    "p = EasyDict(parameters)\n",
    "\n",
    "if \"x_shape\" not in p:\n",
    "    p.x_shape = [2,256] # Default to this if we dont supply x_shape\n",
    "\n",
    "\n",
    "supplied_keys = set(p.keys())\n",
    "\n",
    "if  supplied_keys != required_parameters:\n",
    "    print(\"Parameters are incorrect\")\n",
    "    if len(supplied_keys - required_parameters)>0: print(\"Shouldn't have:\", str(supplied_keys - required_parameters))\n",
    "    if len(required_parameters - supplied_keys)>0: print(\"Need to have:\", str(required_parameters - supplied_keys))\n",
    "    raise RuntimeError(\"Parameters are incorrect\")"
   ]
  },
  {
   "cell_type": "code",
   "execution_count": 6,
   "id": "3a028d58",
   "metadata": {
    "execution": {
     "iopub.execute_input": "2022-03-28T17:08:50.157444Z",
     "iopub.status.busy": "2022-03-28T17:08:50.157079Z",
     "iopub.status.idle": "2022-03-28T17:08:50.174095Z",
     "shell.execute_reply": "2022-03-28T17:08:50.173731Z"
    },
    "papermill": {
     "duration": 0.038647,
     "end_time": "2022-03-28T17:08:50.174164",
     "exception": false,
     "start_time": "2022-03-28T17:08:50.135517",
     "status": "completed"
    },
    "tags": []
   },
   "outputs": [],
   "source": [
    "###################################\n",
    "# Set the RNGs and make it all deterministic\n",
    "###################################\n",
    "np.random.seed(p.seed)\n",
    "random.seed(p.seed)\n",
    "torch.manual_seed(p.seed)\n",
    "\n",
    "torch.use_deterministic_algorithms(True) "
   ]
  },
  {
   "cell_type": "code",
   "execution_count": 7,
   "id": "b691acf6",
   "metadata": {
    "execution": {
     "iopub.execute_input": "2022-03-28T17:08:50.214101Z",
     "iopub.status.busy": "2022-03-28T17:08:50.213687Z",
     "iopub.status.idle": "2022-03-28T17:08:50.230657Z",
     "shell.execute_reply": "2022-03-28T17:08:50.230290Z"
    },
    "papermill": {
     "duration": 0.037804,
     "end_time": "2022-03-28T17:08:50.230726",
     "exception": false,
     "start_time": "2022-03-28T17:08:50.192922",
     "status": "completed"
    },
    "tags": []
   },
   "outputs": [],
   "source": [
    "###########################################\n",
    "# The stratified datasets honor this\n",
    "###########################################\n",
    "torch.set_default_dtype(eval(p.torch_default_dtype))"
   ]
  },
  {
   "cell_type": "code",
   "execution_count": 8,
   "id": "b5fba671",
   "metadata": {
    "execution": {
     "iopub.execute_input": "2022-03-28T17:08:50.276641Z",
     "iopub.status.busy": "2022-03-28T17:08:50.270787Z",
     "iopub.status.idle": "2022-03-28T17:08:50.324665Z",
     "shell.execute_reply": "2022-03-28T17:08:50.324346Z"
    },
    "papermill": {
     "duration": 0.075098,
     "end_time": "2022-03-28T17:08:50.324733",
     "exception": false,
     "start_time": "2022-03-28T17:08:50.249635",
     "status": "completed"
    },
    "tags": []
   },
   "outputs": [],
   "source": [
    "###################################\n",
    "# Build the network(s)\n",
    "# Note: It's critical to do this AFTER setting the RNG\n",
    "###################################\n",
    "x_net = build_sequential(p.x_net)"
   ]
  },
  {
   "cell_type": "code",
   "execution_count": 9,
   "id": "5d7e61cc",
   "metadata": {
    "execution": {
     "iopub.execute_input": "2022-03-28T17:08:50.366362Z",
     "iopub.status.busy": "2022-03-28T17:08:50.365999Z",
     "iopub.status.idle": "2022-03-28T17:08:50.389736Z",
     "shell.execute_reply": "2022-03-28T17:08:50.389375Z"
    },
    "papermill": {
     "duration": 0.045991,
     "end_time": "2022-03-28T17:08:50.389804",
     "exception": false,
     "start_time": "2022-03-28T17:08:50.343813",
     "status": "completed"
    },
    "tags": []
   },
   "outputs": [],
   "source": [
    "start_time_secs = time.time()"
   ]
  },
  {
   "cell_type": "code",
   "execution_count": 10,
   "id": "c6b67dfd",
   "metadata": {
    "execution": {
     "iopub.execute_input": "2022-03-28T17:08:50.439101Z",
     "iopub.status.busy": "2022-03-28T17:08:50.438733Z",
     "iopub.status.idle": "2022-03-28T17:08:50.456547Z",
     "shell.execute_reply": "2022-03-28T17:08:50.456227Z"
    },
    "papermill": {
     "duration": 0.047585,
     "end_time": "2022-03-28T17:08:50.456616",
     "exception": false,
     "start_time": "2022-03-28T17:08:50.409031",
     "status": "completed"
    },
    "tags": []
   },
   "outputs": [],
   "source": [
    "p.domains_source = []\n",
    "p.domains_target = []\n",
    "\n",
    "\n",
    "train_original_source = []\n",
    "val_original_source   = []\n",
    "test_original_source  = []\n",
    "\n",
    "train_original_target = []\n",
    "val_original_target   = []\n",
    "test_original_target  = []"
   ]
  },
  {
   "cell_type": "code",
   "execution_count": 11,
   "id": "e3d9c3d3",
   "metadata": {
    "execution": {
     "iopub.execute_input": "2022-03-28T17:08:50.499090Z",
     "iopub.status.busy": "2022-03-28T17:08:50.498725Z",
     "iopub.status.idle": "2022-03-28T17:08:50.521420Z",
     "shell.execute_reply": "2022-03-28T17:08:50.521054Z"
    },
    "papermill": {
     "duration": 0.045572,
     "end_time": "2022-03-28T17:08:50.521489",
     "exception": false,
     "start_time": "2022-03-28T17:08:50.475917",
     "status": "completed"
    },
    "tags": []
   },
   "outputs": [],
   "source": [
    "# global_x_transform_func = lambda x: normalize(x.to(torch.get_default_dtype()), \"unit_power\") # unit_power, unit_mag\n",
    "# global_x_transform_func = lambda x: normalize(x, \"unit_power\") # unit_power, unit_mag"
   ]
  },
  {
   "cell_type": "code",
   "execution_count": 12,
   "id": "acb78fd2",
   "metadata": {
    "execution": {
     "iopub.execute_input": "2022-03-28T17:08:50.567324Z",
     "iopub.status.busy": "2022-03-28T17:08:50.566941Z",
     "iopub.status.idle": "2022-03-28T17:08:50.586400Z",
     "shell.execute_reply": "2022-03-28T17:08:50.586702Z"
    },
    "papermill": {
     "duration": 0.045785,
     "end_time": "2022-03-28T17:08:50.586781",
     "exception": false,
     "start_time": "2022-03-28T17:08:50.540996",
     "status": "completed"
    },
    "tags": []
   },
   "outputs": [],
   "source": [
    "def add_dataset(\n",
    "    labels,\n",
    "    domains,\n",
    "    pickle_path,\n",
    "    x_transforms,\n",
    "    episode_transforms,\n",
    "    domain_prefix,\n",
    "    num_examples_per_domain_per_label,\n",
    "    source_or_target_dataset:str,\n",
    "    iterator_seed=p.seed,\n",
    "    dataset_seed=p.dataset_seed,\n",
    "    n_shot=p.n_shot,\n",
    "    n_way=p.n_way,\n",
    "    n_query=p.n_query,\n",
    "    train_val_test_k_factors=(p.train_k_factor,p.val_k_factor,p.test_k_factor),\n",
    "):\n",
    "   \n",
    "    if x_transforms == []: x_transform = None\n",
    "    else: x_transform = get_chained_transform(x_transforms)\n",
    "    \n",
    "    if episode_transforms == []: episode_transform = None\n",
    "    else: raise Exception(\"episode_transforms not implemented\")\n",
    "    \n",
    "    episode_transform = lambda tup, _prefix=domain_prefix: (_prefix + str(tup[0]), tup[1])\n",
    "\n",
    "\n",
    "    eaf = Episodic_Accessor_Factory(\n",
    "        labels=labels,\n",
    "        domains=domains,\n",
    "        num_examples_per_domain_per_label=num_examples_per_domain_per_label,\n",
    "        iterator_seed=iterator_seed,\n",
    "        dataset_seed=dataset_seed,\n",
    "        n_shot=n_shot,\n",
    "        n_way=n_way,\n",
    "        n_query=n_query,\n",
    "        train_val_test_k_factors=train_val_test_k_factors,\n",
    "        pickle_path=pickle_path,\n",
    "        x_transform_func=x_transform,\n",
    "    )\n",
    "\n",
    "    train, val, test = eaf.get_train(), eaf.get_val(), eaf.get_test()\n",
    "    train = Lazy_Iterable_Wrapper(train, episode_transform)\n",
    "    val = Lazy_Iterable_Wrapper(val, episode_transform)\n",
    "    test = Lazy_Iterable_Wrapper(test, episode_transform)\n",
    "\n",
    "    if source_or_target_dataset==\"source\":\n",
    "        train_original_source.append(train)\n",
    "        val_original_source.append(val)\n",
    "        test_original_source.append(test)\n",
    "\n",
    "        p.domains_source.extend(\n",
    "            [domain_prefix + str(u) for u in domains]\n",
    "        )\n",
    "    elif source_or_target_dataset==\"target\":\n",
    "        train_original_target.append(train)\n",
    "        val_original_target.append(val)\n",
    "        test_original_target.append(test)\n",
    "        p.domains_target.extend(\n",
    "            [domain_prefix + str(u) for u in domains]\n",
    "        )\n",
    "    else:\n",
    "        raise Exception(f\"invalid source_or_target_dataset: {source_or_target_dataset}\")\n",
    "    "
   ]
  },
  {
   "cell_type": "code",
   "execution_count": 13,
   "id": "fe266617",
   "metadata": {
    "execution": {
     "iopub.execute_input": "2022-03-28T17:08:50.629986Z",
     "iopub.status.busy": "2022-03-28T17:08:50.629623Z",
     "iopub.status.idle": "2022-03-28T17:10:40.866538Z",
     "shell.execute_reply": "2022-03-28T17:10:40.865780Z"
    },
    "papermill": {
     "duration": 110.260657,
     "end_time": "2022-03-28T17:10:40.866738",
     "exception": false,
     "start_time": "2022-03-28T17:08:50.606081",
     "status": "completed"
    },
    "tags": []
   },
   "outputs": [],
   "source": [
    "for ds in p.datasets:\n",
    "    add_dataset(**ds)"
   ]
  },
  {
   "cell_type": "code",
   "execution_count": 14,
   "id": "b90d65ac",
   "metadata": {
    "execution": {
     "iopub.execute_input": "2022-03-28T17:10:40.916930Z",
     "iopub.status.busy": "2022-03-28T17:10:40.916376Z",
     "iopub.status.idle": "2022-03-28T17:10:40.943333Z",
     "shell.execute_reply": "2022-03-28T17:10:40.942524Z"
    },
    "papermill": {
     "duration": 0.050501,
     "end_time": "2022-03-28T17:10:40.943499",
     "exception": false,
     "start_time": "2022-03-28T17:10:40.892998",
     "status": "completed"
    },
    "tags": []
   },
   "outputs": [],
   "source": [
    "# from steves_utils.CORES.utils import (\n",
    "#     ALL_NODES,\n",
    "#     ALL_NODES_MINIMUM_1000_EXAMPLES,\n",
    "#     ALL_DAYS\n",
    "# )\n",
    "\n",
    "# add_dataset(\n",
    "#     labels=ALL_NODES,\n",
    "#     domains = ALL_DAYS,\n",
    "#     num_examples_per_domain_per_label=100,\n",
    "#     pickle_path=os.path.join(get_datasets_base_path(), \"cores.stratified_ds.2022A.pkl\"),\n",
    "#     source_or_target_dataset=\"target\",\n",
    "#     x_transform_func=global_x_transform_func,\n",
    "#     domain_modifier=lambda u: f\"cores_{u}\"\n",
    "# )"
   ]
  },
  {
   "cell_type": "code",
   "execution_count": 15,
   "id": "76db484d",
   "metadata": {
    "execution": {
     "iopub.execute_input": "2022-03-28T17:10:40.998015Z",
     "iopub.status.busy": "2022-03-28T17:10:40.996771Z",
     "iopub.status.idle": "2022-03-28T17:10:41.019151Z",
     "shell.execute_reply": "2022-03-28T17:10:41.018333Z"
    },
    "papermill": {
     "duration": 0.046192,
     "end_time": "2022-03-28T17:10:41.019316",
     "exception": false,
     "start_time": "2022-03-28T17:10:40.973124",
     "status": "completed"
    },
    "tags": []
   },
   "outputs": [],
   "source": [
    "# from steves_utils.ORACLE.utils_v2 import (\n",
    "#     ALL_DISTANCES_FEET,\n",
    "#     ALL_RUNS,\n",
    "#     ALL_SERIAL_NUMBERS,\n",
    "# )\n",
    "\n",
    "\n",
    "# add_dataset(\n",
    "#     labels=ALL_SERIAL_NUMBERS,\n",
    "#     domains = list(set(ALL_DISTANCES_FEET) - {2,62}),\n",
    "#     num_examples_per_domain_per_label=100,\n",
    "#     pickle_path=os.path.join(get_datasets_base_path(), \"oracle.Run2_framed_2000Examples_stratified_ds.2022A.pkl\"),\n",
    "#     source_or_target_dataset=\"source\",\n",
    "#     x_transform_func=global_x_transform_func,\n",
    "#     domain_modifier=lambda u: f\"oracle1_{u}\"\n",
    "# )\n"
   ]
  },
  {
   "cell_type": "code",
   "execution_count": 16,
   "id": "97dea9d2",
   "metadata": {
    "execution": {
     "iopub.execute_input": "2022-03-28T17:10:41.073365Z",
     "iopub.status.busy": "2022-03-28T17:10:41.072502Z",
     "iopub.status.idle": "2022-03-28T17:10:41.095505Z",
     "shell.execute_reply": "2022-03-28T17:10:41.094723Z"
    },
    "papermill": {
     "duration": 0.047026,
     "end_time": "2022-03-28T17:10:41.095707",
     "exception": false,
     "start_time": "2022-03-28T17:10:41.048681",
     "status": "completed"
    },
    "tags": []
   },
   "outputs": [],
   "source": [
    "# from steves_utils.ORACLE.utils_v2 import (\n",
    "#     ALL_DISTANCES_FEET,\n",
    "#     ALL_RUNS,\n",
    "#     ALL_SERIAL_NUMBERS,\n",
    "# )\n",
    "\n",
    "\n",
    "# add_dataset(\n",
    "#     labels=ALL_SERIAL_NUMBERS,\n",
    "#     domains = list(set(ALL_DISTANCES_FEET) - {2,62,56}),\n",
    "#     num_examples_per_domain_per_label=100,\n",
    "#     pickle_path=os.path.join(get_datasets_base_path(), \"oracle.Run2_framed_2000Examples_stratified_ds.2022A.pkl\"),\n",
    "#     source_or_target_dataset=\"source\",\n",
    "#     x_transform_func=global_x_transform_func,\n",
    "#     domain_modifier=lambda u: f\"oracle2_{u}\"\n",
    "# )"
   ]
  },
  {
   "cell_type": "code",
   "execution_count": 17,
   "id": "6f289866",
   "metadata": {
    "execution": {
     "iopub.execute_input": "2022-03-28T17:10:41.146127Z",
     "iopub.status.busy": "2022-03-28T17:10:41.145555Z",
     "iopub.status.idle": "2022-03-28T17:10:41.166474Z",
     "shell.execute_reply": "2022-03-28T17:10:41.165654Z"
    },
    "papermill": {
     "duration": 0.045518,
     "end_time": "2022-03-28T17:10:41.166634",
     "exception": false,
     "start_time": "2022-03-28T17:10:41.121116",
     "status": "completed"
    },
    "tags": []
   },
   "outputs": [],
   "source": [
    "# add_dataset(\n",
    "#     labels=list(range(19)),\n",
    "#     domains = [0,1,2],\n",
    "#     num_examples_per_domain_per_label=100,\n",
    "#     pickle_path=os.path.join(get_datasets_base_path(), \"metehan.stratified_ds.2022A.pkl\"),\n",
    "#     source_or_target_dataset=\"target\",\n",
    "#     x_transform_func=global_x_transform_func,\n",
    "#     domain_modifier=lambda u: f\"met_{u}\"\n",
    "# )"
   ]
  },
  {
   "cell_type": "code",
   "execution_count": 18,
   "id": "86a863c3",
   "metadata": {
    "execution": {
     "iopub.execute_input": "2022-03-28T17:10:41.217877Z",
     "iopub.status.busy": "2022-03-28T17:10:41.216663Z",
     "iopub.status.idle": "2022-03-28T17:10:41.238708Z",
     "shell.execute_reply": "2022-03-28T17:10:41.237887Z"
    },
    "papermill": {
     "duration": 0.046162,
     "end_time": "2022-03-28T17:10:41.238866",
     "exception": false,
     "start_time": "2022-03-28T17:10:41.192704",
     "status": "completed"
    },
    "tags": []
   },
   "outputs": [],
   "source": [
    "# # from steves_utils.wisig.utils import (\n",
    "# #     ALL_NODES_MINIMUM_100_EXAMPLES,\n",
    "# #     ALL_NODES_MINIMUM_500_EXAMPLES,\n",
    "# #     ALL_NODES_MINIMUM_1000_EXAMPLES,\n",
    "# #     ALL_DAYS\n",
    "# # )\n",
    "\n",
    "# import steves_utils.wisig.utils as wisig\n",
    "\n",
    "\n",
    "# add_dataset(\n",
    "#     labels=wisig.ALL_NODES_MINIMUM_100_EXAMPLES,\n",
    "#     domains = wisig.ALL_DAYS,\n",
    "#     num_examples_per_domain_per_label=100,\n",
    "#     pickle_path=os.path.join(get_datasets_base_path(), \"wisig.node3-19.stratified_ds.2022A.pkl\"),\n",
    "#     source_or_target_dataset=\"target\",\n",
    "#     x_transform_func=global_x_transform_func,\n",
    "#     domain_modifier=lambda u: f\"wisig_{u}\"\n",
    "# )"
   ]
  },
  {
   "cell_type": "code",
   "execution_count": 19,
   "id": "fd5442bc",
   "metadata": {
    "execution": {
     "iopub.execute_input": "2022-03-28T17:10:41.295734Z",
     "iopub.status.busy": "2022-03-28T17:10:41.294855Z",
     "iopub.status.idle": "2022-03-28T17:10:41.313993Z",
     "shell.execute_reply": "2022-03-28T17:10:41.313167Z"
    },
    "papermill": {
     "duration": 0.049274,
     "end_time": "2022-03-28T17:10:41.314152",
     "exception": false,
     "start_time": "2022-03-28T17:10:41.264878",
     "status": "completed"
    },
    "tags": []
   },
   "outputs": [],
   "source": [
    "###################################\n",
    "# Build the dataset\n",
    "###################################\n",
    "train_original_source = Iterable_Aggregator(train_original_source, p.seed)\n",
    "val_original_source = Iterable_Aggregator(val_original_source, p.seed)\n",
    "test_original_source = Iterable_Aggregator(test_original_source, p.seed)\n",
    "\n",
    "\n",
    "train_original_target = Iterable_Aggregator(train_original_target, p.seed)\n",
    "val_original_target = Iterable_Aggregator(val_original_target, p.seed)\n",
    "test_original_target = Iterable_Aggregator(test_original_target, p.seed)\n",
    "\n",
    "# For CNN We only use X and Y. And we only train on the source.\n",
    "# Properly form the data using a transform lambda and Lazy_Iterable_Wrapper. Finally wrap them in a dataloader\n",
    "\n",
    "transform_lambda = lambda ex: ex[1] # Original is (<domain>, <episode>) so we strip down to episode only\n",
    "\n",
    "train_processed_source = Lazy_Iterable_Wrapper(train_original_source, transform_lambda)\n",
    "val_processed_source   = Lazy_Iterable_Wrapper(val_original_source, transform_lambda)\n",
    "test_processed_source  = Lazy_Iterable_Wrapper(test_original_source, transform_lambda)\n",
    "\n",
    "train_processed_target = Lazy_Iterable_Wrapper(train_original_target, transform_lambda)\n",
    "val_processed_target   = Lazy_Iterable_Wrapper(val_original_target, transform_lambda)\n",
    "test_processed_target  = Lazy_Iterable_Wrapper(test_original_target, transform_lambda)\n",
    "\n",
    "datasets = EasyDict({\n",
    "    \"source\": {\n",
    "        \"original\": {\"train\":train_original_source, \"val\":val_original_source, \"test\":test_original_source},\n",
    "        \"processed\": {\"train\":train_processed_source, \"val\":val_processed_source, \"test\":test_processed_source}\n",
    "    },\n",
    "    \"target\": {\n",
    "        \"original\": {\"train\":train_original_target, \"val\":val_original_target, \"test\":test_original_target},\n",
    "        \"processed\": {\"train\":train_processed_target, \"val\":val_processed_target, \"test\":test_processed_target}\n",
    "    },\n",
    "})"
   ]
  },
  {
   "cell_type": "code",
   "execution_count": 20,
   "id": "5b3c01fc",
   "metadata": {
    "execution": {
     "iopub.execute_input": "2022-03-28T17:10:41.368078Z",
     "iopub.status.busy": "2022-03-28T17:10:41.367073Z",
     "iopub.status.idle": "2022-03-28T17:10:55.765823Z",
     "shell.execute_reply": "2022-03-28T17:10:55.764993Z"
    },
    "papermill": {
     "duration": 14.425234,
     "end_time": "2022-03-28T17:10:55.766030",
     "exception": false,
     "start_time": "2022-03-28T17:10:41.340796",
     "status": "completed"
    },
    "tags": []
   },
   "outputs": [
    {
     "name": "stdout",
     "output_type": "stream",
     "text": [
      "{'O_20', 'O_50', 'O_26', 'O_44', 'O_14', 'O_8', 'O_38', 'O_32'}\n"
     ]
    },
    {
     "name": "stdout",
     "output_type": "stream",
     "text": [
      "{'C_2', 'C_4', 'C_5', 'C_3', 'C_1'}\n"
     ]
    },
    {
     "name": "stdout",
     "output_type": "stream",
     "text": [
      "tensor([[[0., 0., 0.,  ..., 0., 0., 0.],\n",
      "         [0., 0., 0.,  ..., 0., 0., 0.]],\n",
      "\n",
      "        [[0., 0., 0.,  ..., 0., 0., 0.],\n",
      "         [0., 0., 0.,  ..., 0., 0., 0.]],\n",
      "\n",
      "        [[0., 0., 0.,  ..., 0., 0., 0.],\n",
      "         [0., 0., 0.,  ..., 0., 0., 0.]],\n",
      "\n",
      "        ...,\n",
      "\n",
      "        [[0., 0., 0.,  ..., 0., 0., 0.],\n",
      "         [0., 0., 0.,  ..., 0., 0., 0.]],\n",
      "\n",
      "        [[0., 0., 0.,  ..., 0., 0., 0.],\n",
      "         [0., 0., 0.,  ..., 0., 0., 0.]],\n",
      "\n",
      "        [[0., 0., 0.,  ..., 0., 0., 0.],\n",
      "         [0., 0., 0.,  ..., 0., 0., 0.]]])\n"
     ]
    }
   ],
   "source": [
    "from steves_utils.transforms import get_average_magnitude, get_average_power\n",
    "\n",
    "print(set([u for u,_ in val_original_source]))\n",
    "print(set([u for u,_ in val_original_target]))\n",
    "\n",
    "s_x, s_y, q_x, q_y, _ = next(iter(train_processed_source))\n",
    "print(s_x)\n",
    "\n",
    "# for ds in [\n",
    "#     train_processed_source,\n",
    "#     val_processed_source,\n",
    "#     test_processed_source,\n",
    "#     train_processed_target,\n",
    "#     val_processed_target,\n",
    "#     test_processed_target\n",
    "# ]:\n",
    "#     for s_x, s_y, q_x, q_y, _ in ds:\n",
    "#         for X in (s_x, q_x):\n",
    "#             for x in X:\n",
    "#                 assert np.isclose(get_average_magnitude(x.numpy()), 1.0)\n",
    "#                 assert np.isclose(get_average_power(x.numpy()), 1.0)\n",
    "                "
   ]
  },
  {
   "cell_type": "code",
   "execution_count": 21,
   "id": "bbdacba1",
   "metadata": {
    "execution": {
     "iopub.execute_input": "2022-03-28T17:10:55.827603Z",
     "iopub.status.busy": "2022-03-28T17:10:55.826713Z",
     "iopub.status.idle": "2022-03-28T17:10:56.079183Z",
     "shell.execute_reply": "2022-03-28T17:10:56.078464Z"
    },
    "papermill": {
     "duration": 0.28355,
     "end_time": "2022-03-28T17:10:56.079360",
     "exception": false,
     "start_time": "2022-03-28T17:10:55.795810",
     "status": "completed"
    },
    "tags": []
   },
   "outputs": [
    {
     "name": "stdout",
     "output_type": "stream",
     "text": [
      "(2, 256)\n"
     ]
    }
   ],
   "source": [
    "###################################\n",
    "# Build the model\n",
    "###################################\n",
    "# easfsl only wants a tuple for the shape\n",
    "model = Steves_Prototypical_Network(x_net, device=p.device, x_shape=tuple(p.x_shape))\n",
    "optimizer = Adam(params=model.parameters(), lr=p.lr)"
   ]
  },
  {
   "cell_type": "code",
   "execution_count": 22,
   "id": "22b39ac5",
   "metadata": {
    "execution": {
     "iopub.execute_input": "2022-03-28T17:10:56.136506Z",
     "iopub.status.busy": "2022-03-28T17:10:56.136124Z",
     "iopub.status.idle": "2022-03-28T17:25:57.269976Z",
     "shell.execute_reply": "2022-03-28T17:25:57.269262Z"
    },
    "papermill": {
     "duration": 901.161376,
     "end_time": "2022-03-28T17:25:57.270151",
     "exception": false,
     "start_time": "2022-03-28T17:10:56.108775",
     "status": "completed"
    },
    "tags": []
   },
   "outputs": [
    {
     "name": "stdout",
     "output_type": "stream",
     "text": [
      "epoch: 1, [batch: 1 / 6720], examples_per_second: 33.4176, train_label_loss: 2.8598, \n"
     ]
    },
    {
     "name": "stdout",
     "output_type": "stream",
     "text": [
      "epoch: 1, [batch: 672 / 6720], examples_per_second: 3420.9515, train_label_loss: 2.8599, \n"
     ]
    },
    {
     "name": "stdout",
     "output_type": "stream",
     "text": [
      "epoch: 1, [batch: 1344 / 6720], examples_per_second: 3083.6600, train_label_loss: 1.7775, \n"
     ]
    },
    {
     "name": "stdout",
     "output_type": "stream",
     "text": [
      "epoch: 1, [batch: 2016 / 6720], examples_per_second: 3383.3570, train_label_loss: 1.4252, \n"
     ]
    },
    {
     "name": "stdout",
     "output_type": "stream",
     "text": [
      "epoch: 1, [batch: 2688 / 6720], examples_per_second: 3445.8744, train_label_loss: 1.4246, \n"
     ]
    },
    {
     "name": "stdout",
     "output_type": "stream",
     "text": [
      "epoch: 1, [batch: 3360 / 6720], examples_per_second: 3076.2496, train_label_loss: 1.3757, \n"
     ]
    },
    {
     "name": "stdout",
     "output_type": "stream",
     "text": [
      "epoch: 1, [batch: 4032 / 6720], examples_per_second: 2973.7316, train_label_loss: 1.3501, \n"
     ]
    },
    {
     "name": "stdout",
     "output_type": "stream",
     "text": [
      "epoch: 1, [batch: 4704 / 6720], examples_per_second: 3043.2376, train_label_loss: 1.2114, \n"
     ]
    },
    {
     "name": "stdout",
     "output_type": "stream",
     "text": [
      "epoch: 1, [batch: 5376 / 6720], examples_per_second: 3026.3564, train_label_loss: 0.5602, \n"
     ]
    },
    {
     "name": "stdout",
     "output_type": "stream",
     "text": [
      "epoch: 1, [batch: 6048 / 6720], examples_per_second: 3051.3378, train_label_loss: 0.7876, \n"
     ]
    },
    {
     "name": "stdout",
     "output_type": "stream",
     "text": [
      "=============================================================\n",
      "epoch: 1, source_val_acc_label: 0.5841, target_val_acc_label: 0.9100, source_val_label_loss: 1.1054, target_val_label_loss: 3.7726, \n",
      "=============================================================\n"
     ]
    },
    {
     "name": "stdout",
     "output_type": "stream",
     "text": [
      "New best\n"
     ]
    },
    {
     "name": "stdout",
     "output_type": "stream",
     "text": [
      "epoch: 2, [batch: 1 / 6720], examples_per_second: 3.0419, train_label_loss: 0.7145, \n"
     ]
    },
    {
     "name": "stdout",
     "output_type": "stream",
     "text": [
      "epoch: 2, [batch: 672 / 6720], examples_per_second: 3412.0741, train_label_loss: 0.8527, \n"
     ]
    },
    {
     "name": "stdout",
     "output_type": "stream",
     "text": [
      "epoch: 2, [batch: 1344 / 6720], examples_per_second: 3064.9012, train_label_loss: 1.4675, \n"
     ]
    },
    {
     "name": "stdout",
     "output_type": "stream",
     "text": [
      "epoch: 2, [batch: 2016 / 6720], examples_per_second: 3542.6375, train_label_loss: 0.5731, \n"
     ]
    },
    {
     "name": "stdout",
     "output_type": "stream",
     "text": [
      "epoch: 2, [batch: 2688 / 6720], examples_per_second: 3423.5534, train_label_loss: 0.9424, \n"
     ]
    },
    {
     "name": "stdout",
     "output_type": "stream",
     "text": [
      "epoch: 2, [batch: 3360 / 6720], examples_per_second: 3177.6565, train_label_loss: 0.7858, \n"
     ]
    },
    {
     "name": "stdout",
     "output_type": "stream",
     "text": [
      "epoch: 2, [batch: 4032 / 6720], examples_per_second: 3038.1513, train_label_loss: 0.7056, \n"
     ]
    },
    {
     "name": "stdout",
     "output_type": "stream",
     "text": [
      "epoch: 2, [batch: 4704 / 6720], examples_per_second: 3034.0520, train_label_loss: 0.5331, \n"
     ]
    },
    {
     "name": "stdout",
     "output_type": "stream",
     "text": [
      "epoch: 2, [batch: 5376 / 6720], examples_per_second: 3069.8896, train_label_loss: 1.4921, \n"
     ]
    },
    {
     "name": "stdout",
     "output_type": "stream",
     "text": [
      "epoch: 2, [batch: 6048 / 6720], examples_per_second: 3031.4886, train_label_loss: 0.8198, \n"
     ]
    },
    {
     "name": "stdout",
     "output_type": "stream",
     "text": [
      "=============================================================\n",
      "epoch: 2, source_val_acc_label: 0.6564, target_val_acc_label: 0.8905, source_val_label_loss: 0.9135, target_val_label_loss: 8.3979, \n",
      "=============================================================\n"
     ]
    },
    {
     "name": "stdout",
     "output_type": "stream",
     "text": [
      "epoch: 3, [batch: 1 / 6720], examples_per_second: 3.0538, train_label_loss: 1.3638, \n"
     ]
    },
    {
     "name": "stdout",
     "output_type": "stream",
     "text": [
      "epoch: 3, [batch: 672 / 6720], examples_per_second: 3464.8307, train_label_loss: 0.8093, \n"
     ]
    },
    {
     "name": "stdout",
     "output_type": "stream",
     "text": [
      "epoch: 3, [batch: 1344 / 6720], examples_per_second: 3114.4628, train_label_loss: 0.7750, \n"
     ]
    },
    {
     "name": "stdout",
     "output_type": "stream",
     "text": [
      "epoch: 3, [batch: 2016 / 6720], examples_per_second: 3489.4128, train_label_loss: 0.8859, \n"
     ]
    },
    {
     "name": "stdout",
     "output_type": "stream",
     "text": [
      "epoch: 3, [batch: 2688 / 6720], examples_per_second: 3432.9337, train_label_loss: 0.8712, \n"
     ]
    },
    {
     "name": "stdout",
     "output_type": "stream",
     "text": [
      "epoch: 3, [batch: 3360 / 6720], examples_per_second: 3300.6965, train_label_loss: 0.5707, \n"
     ]
    },
    {
     "name": "stdout",
     "output_type": "stream",
     "text": [
      "epoch: 3, [batch: 4032 / 6720], examples_per_second: 3029.6106, train_label_loss: 0.6337, \n"
     ]
    },
    {
     "name": "stdout",
     "output_type": "stream",
     "text": [
      "epoch: 3, [batch: 4704 / 6720], examples_per_second: 3011.4369, train_label_loss: 0.6053, \n"
     ]
    },
    {
     "name": "stdout",
     "output_type": "stream",
     "text": [
      "epoch: 3, [batch: 5376 / 6720], examples_per_second: 3079.8108, train_label_loss: 0.5851, \n"
     ]
    },
    {
     "name": "stdout",
     "output_type": "stream",
     "text": [
      "epoch: 3, [batch: 6048 / 6720], examples_per_second: 3048.9318, train_label_loss: 0.9987, \n"
     ]
    },
    {
     "name": "stdout",
     "output_type": "stream",
     "text": [
      "=============================================================\n",
      "epoch: 3, source_val_acc_label: 0.6859, target_val_acc_label: 0.8297, source_val_label_loss: 0.8350, target_val_label_loss: 15.7052, \n",
      "=============================================================\n"
     ]
    },
    {
     "name": "stdout",
     "output_type": "stream",
     "text": [
      "epoch: 4, [batch: 1 / 6720], examples_per_second: 3.0483, train_label_loss: 0.7805, \n"
     ]
    },
    {
     "name": "stdout",
     "output_type": "stream",
     "text": [
      "epoch: 4, [batch: 672 / 6720], examples_per_second: 3462.5404, train_label_loss: 0.5612, \n"
     ]
    },
    {
     "name": "stdout",
     "output_type": "stream",
     "text": [
      "epoch: 4, [batch: 1344 / 6720], examples_per_second: 3449.2451, train_label_loss: 0.6041, \n"
     ]
    },
    {
     "name": "stdout",
     "output_type": "stream",
     "text": [
      "epoch: 4, [batch: 2016 / 6720], examples_per_second: 3744.1608, train_label_loss: 0.6663, \n"
     ]
    },
    {
     "name": "stdout",
     "output_type": "stream",
     "text": [
      "epoch: 4, [batch: 2688 / 6720], examples_per_second: 3859.9734, train_label_loss: 0.7645, \n"
     ]
    },
    {
     "name": "stdout",
     "output_type": "stream",
     "text": [
      "epoch: 4, [batch: 3360 / 6720], examples_per_second: 3885.6371, train_label_loss: 0.5324, \n"
     ]
    },
    {
     "name": "stdout",
     "output_type": "stream",
     "text": [
      "epoch: 4, [batch: 4032 / 6720], examples_per_second: 3701.6614, train_label_loss: 0.8781, \n"
     ]
    },
    {
     "name": "stdout",
     "output_type": "stream",
     "text": [
      "epoch: 4, [batch: 4704 / 6720], examples_per_second: 3685.0127, train_label_loss: 0.7575, \n"
     ]
    },
    {
     "name": "stdout",
     "output_type": "stream",
     "text": [
      "epoch: 4, [batch: 5376 / 6720], examples_per_second: 3815.7938, train_label_loss: 0.5452, \n"
     ]
    },
    {
     "name": "stdout",
     "output_type": "stream",
     "text": [
      "epoch: 4, [batch: 6048 / 6720], examples_per_second: 4273.7504, train_label_loss: 0.5929, \n"
     ]
    },
    {
     "name": "stdout",
     "output_type": "stream",
     "text": [
      "=============================================================\n",
      "epoch: 4, source_val_acc_label: 0.6814, target_val_acc_label: 0.7933, source_val_label_loss: 0.8445, target_val_label_loss: 22.6768, \n",
      "=============================================================\n"
     ]
    },
    {
     "name": "stdout",
     "output_type": "stream",
     "text": [
      "epoch: 5, [batch: 1 / 6720], examples_per_second: 4.6573, train_label_loss: 1.0322, \n"
     ]
    },
    {
     "name": "stdout",
     "output_type": "stream",
     "text": [
      "epoch: 5, [batch: 672 / 6720], examples_per_second: 4903.5789, train_label_loss: 0.9310, \n"
     ]
    },
    {
     "name": "stdout",
     "output_type": "stream",
     "text": [
      "epoch: 5, [batch: 1344 / 6720], examples_per_second: 4889.6273, train_label_loss: 0.8138, \n"
     ]
    },
    {
     "name": "stdout",
     "output_type": "stream",
     "text": [
      "epoch: 5, [batch: 2016 / 6720], examples_per_second: 5054.9827, train_label_loss: 1.3276, \n"
     ]
    },
    {
     "name": "stdout",
     "output_type": "stream",
     "text": [
      "epoch: 5, [batch: 2688 / 6720], examples_per_second: 5293.9467, train_label_loss: 0.9610, \n"
     ]
    },
    {
     "name": "stdout",
     "output_type": "stream",
     "text": [
      "epoch: 5, [batch: 3360 / 6720], examples_per_second: 5019.5932, train_label_loss: 1.3942, \n"
     ]
    },
    {
     "name": "stdout",
     "output_type": "stream",
     "text": [
      "epoch: 5, [batch: 4032 / 6720], examples_per_second: 5093.0461, train_label_loss: 0.4917, \n"
     ]
    },
    {
     "name": "stdout",
     "output_type": "stream",
     "text": [
      "epoch: 5, [batch: 4704 / 6720], examples_per_second: 5296.0411, train_label_loss: 0.6671, \n"
     ]
    },
    {
     "name": "stdout",
     "output_type": "stream",
     "text": [
      "epoch: 5, [batch: 5376 / 6720], examples_per_second: 5098.3360, train_label_loss: 0.7692, \n"
     ]
    },
    {
     "name": "stdout",
     "output_type": "stream",
     "text": [
      "epoch: 5, [batch: 6048 / 6720], examples_per_second: 5094.5103, train_label_loss: 0.5834, \n"
     ]
    },
    {
     "name": "stdout",
     "output_type": "stream",
     "text": [
      "=============================================================\n",
      "epoch: 5, source_val_acc_label: 0.6962, target_val_acc_label: 0.7664, source_val_label_loss: 0.8020, target_val_label_loss: 29.2115, \n",
      "=============================================================\n"
     ]
    },
    {
     "name": "stdout",
     "output_type": "stream",
     "text": [
      "Patience (3) exhausted\n"
     ]
    }
   ],
   "source": [
    "###################################\n",
    "# train\n",
    "###################################\n",
    "jig = PTN_Train_Eval_Test_Jig(model, p.BEST_MODEL_PATH, p.device)\n",
    "\n",
    "jig.train(\n",
    "    train_iterable=datasets.source.processed.train,\n",
    "    source_val_iterable=datasets.source.processed.val,\n",
    "    target_val_iterable=datasets.target.processed.val,\n",
    "    num_epochs=p.n_epoch,\n",
    "    num_logs_per_epoch=p.NUM_LOGS_PER_EPOCH,\n",
    "    patience=p.patience,\n",
    "    optimizer=optimizer,\n",
    "    criteria_for_best=p.criteria_for_best,\n",
    ")"
   ]
  },
  {
   "cell_type": "code",
   "execution_count": 23,
   "id": "31e8fabf",
   "metadata": {
    "execution": {
     "iopub.execute_input": "2022-03-28T17:25:57.354469Z",
     "iopub.status.busy": "2022-03-28T17:25:57.354042Z",
     "iopub.status.idle": "2022-03-28T17:25:57.386677Z",
     "shell.execute_reply": "2022-03-28T17:25:57.385903Z"
    },
    "papermill": {
     "duration": 0.076229,
     "end_time": "2022-03-28T17:25:57.386866",
     "exception": false,
     "start_time": "2022-03-28T17:25:57.310637",
     "status": "completed"
    },
    "tags": []
   },
   "outputs": [],
   "source": [
    "total_experiment_time_secs = time.time() - start_time_secs"
   ]
  },
  {
   "cell_type": "code",
   "execution_count": 24,
   "id": "87b9595b",
   "metadata": {
    "execution": {
     "iopub.execute_input": "2022-03-28T17:25:57.478803Z",
     "iopub.status.busy": "2022-03-28T17:25:57.478099Z",
     "iopub.status.idle": "2022-03-28T17:28:36.533451Z",
     "shell.execute_reply": "2022-03-28T17:28:36.532636Z"
    },
    "papermill": {
     "duration": 159.10279,
     "end_time": "2022-03-28T17:28:36.533640",
     "exception": false,
     "start_time": "2022-03-28T17:25:57.430850",
     "status": "completed"
    },
    "tags": []
   },
   "outputs": [],
   "source": [
    "###################################\n",
    "# Evaluate the model\n",
    "###################################\n",
    "source_test_label_accuracy, source_test_label_loss = jig.test(datasets.source.processed.test)\n",
    "target_test_label_accuracy, target_test_label_loss = jig.test(datasets.target.processed.test)\n",
    "\n",
    "source_val_label_accuracy, source_val_label_loss = jig.test(datasets.source.processed.val)\n",
    "target_val_label_accuracy, target_val_label_loss = jig.test(datasets.target.processed.val)\n",
    "\n",
    "history = jig.get_history()\n",
    "\n",
    "total_epochs_trained = len(history[\"epoch_indices\"])\n",
    "\n",
    "val_dl = Iterable_Aggregator((datasets.source.original.val,datasets.target.original.val))\n",
    "\n",
    "confusion = ptn_confusion_by_domain_over_dataloader(model, p.device, val_dl)\n",
    "per_domain_accuracy = per_domain_accuracy_from_confusion(confusion)\n",
    "\n",
    "# Add a key to per_domain_accuracy for if it was a source domain\n",
    "for domain, accuracy in per_domain_accuracy.items():\n",
    "    per_domain_accuracy[domain] = {\n",
    "        \"accuracy\": accuracy,\n",
    "        \"source?\": domain in p.domains_source\n",
    "    }\n",
    "\n",
    "# Do an independent accuracy assesment JUST TO BE SURE!\n",
    "# _source_test_label_accuracy = independent_accuracy_assesment(model, datasets.source.processed.test, p.device)\n",
    "# _target_test_label_accuracy = independent_accuracy_assesment(model, datasets.target.processed.test, p.device)\n",
    "# _source_val_label_accuracy = independent_accuracy_assesment(model, datasets.source.processed.val, p.device)\n",
    "# _target_val_label_accuracy = independent_accuracy_assesment(model, datasets.target.processed.val, p.device)\n",
    "\n",
    "# assert(_source_test_label_accuracy == source_test_label_accuracy)\n",
    "# assert(_target_test_label_accuracy == target_test_label_accuracy)\n",
    "# assert(_source_val_label_accuracy == source_val_label_accuracy)\n",
    "# assert(_target_val_label_accuracy == target_val_label_accuracy)\n",
    "\n",
    "experiment = {\n",
    "    \"experiment_name\": p.experiment_name,\n",
    "    \"parameters\": dict(p),\n",
    "    \"results\": {\n",
    "        \"source_test_label_accuracy\": source_test_label_accuracy,\n",
    "        \"source_test_label_loss\": source_test_label_loss,\n",
    "        \"target_test_label_accuracy\": target_test_label_accuracy,\n",
    "        \"target_test_label_loss\": target_test_label_loss,\n",
    "        \"source_val_label_accuracy\": source_val_label_accuracy,\n",
    "        \"source_val_label_loss\": source_val_label_loss,\n",
    "        \"target_val_label_accuracy\": target_val_label_accuracy,\n",
    "        \"target_val_label_loss\": target_val_label_loss,\n",
    "        \"total_epochs_trained\": total_epochs_trained,\n",
    "        \"total_experiment_time_secs\": total_experiment_time_secs,\n",
    "        \"confusion\": confusion,\n",
    "        \"per_domain_accuracy\": per_domain_accuracy,\n",
    "    },\n",
    "    \"history\": history,\n",
    "    \"dataset_metrics\": get_dataset_metrics(datasets, \"ptn\"),\n",
    "}"
   ]
  },
  {
   "cell_type": "code",
   "execution_count": 25,
   "id": "54a21829",
   "metadata": {
    "execution": {
     "iopub.execute_input": "2022-03-28T17:28:36.617997Z",
     "iopub.status.busy": "2022-03-28T17:28:36.617422Z",
     "iopub.status.idle": "2022-03-28T17:28:36.833191Z",
     "shell.execute_reply": "2022-03-28T17:28:36.833879Z"
    },
    "papermill": {
     "duration": 0.258374,
     "end_time": "2022-03-28T17:28:36.834091",
     "exception": false,
     "start_time": "2022-03-28T17:28:36.575717",
     "status": "completed"
    },
    "tags": []
   },
   "outputs": [
    {
     "data": {
      "image/png": "[encoded data removed]",
      "text/plain": [
       "<Figure size 1080x504 with 1 Axes>"
      ]
     },
     "metadata": {
      "needs_background": "light"
     },
     "output_type": "display_data"
    }
   ],
   "source": [
    "ax = get_loss_curve(experiment)\n",
    "plt.show()"
   ]
  },
  {
   "cell_type": "code",
   "execution_count": 26,
   "id": "fd8a0f60",
   "metadata": {
    "execution": {
     "iopub.execute_input": "2022-03-28T17:28:36.919244Z",
     "iopub.status.busy": "2022-03-28T17:28:36.918677Z",
     "iopub.status.idle": "2022-03-28T17:28:37.267635Z",
     "shell.execute_reply": "2022-03-28T17:28:37.267214Z"
    },
    "papermill": {
     "duration": 0.390972,
     "end_time": "2022-03-28T17:28:37.267725",
     "exception": false,
     "start_time": "2022-03-28T17:28:36.876753",
     "status": "completed"
    },
    "tags": []
   },
   "outputs": [
    {
     "data": {
      "text/plain": [
       "<AxesSubplot:title={'center':'Results'}>"
      ]
     },
     "execution_count": 26,
     "metadata": {},
     "output_type": "execute_result"
    },
    {
     "data": {
      "image/png": "[encoded data removed]",
      "text/plain": [
       "<Figure size 1080x504 with 1 Axes>"
      ]
     },
     "metadata": {
      "needs_background": "light"
     },
     "output_type": "display_data"
    }
   ],
   "source": [
    "get_results_table(experiment)"
   ]
  },
  {
   "cell_type": "code",
   "execution_count": 27,
   "id": "cf8dc689",
   "metadata": {
    "execution": {
     "iopub.execute_input": "2022-03-28T17:28:37.351914Z",
     "iopub.status.busy": "2022-03-28T17:28:37.351536Z",
     "iopub.status.idle": "2022-03-28T17:28:37.587442Z",
     "shell.execute_reply": "2022-03-28T17:28:37.587086Z"
    },
    "papermill": {
     "duration": 0.278915,
     "end_time": "2022-03-28T17:28:37.587543",
     "exception": false,
     "start_time": "2022-03-28T17:28:37.308628",
     "status": "completed"
    },
    "tags": []
   },
   "outputs": [
    {
     "data": {
      "text/plain": [
       "<AxesSubplot:title={'center':'Per Domain Validation Accuracy'}, xlabel='domain'>"
      ]
     },
     "execution_count": 27,
     "metadata": {},
     "output_type": "execute_result"
    },
    {
     "data": {
      "image/png": "[encoded data removed]",
      "text/plain": [
       "<Figure size 1080x504 with 1 Axes>"
      ]
     },
     "metadata": {
      "needs_background": "light"
     },
     "output_type": "display_data"
    }
   ],
   "source": [
    "get_domain_accuracies(experiment)"
   ]
  },
  {
   "cell_type": "code",
   "execution_count": 28,
   "id": "a74ae082",
   "metadata": {
    "execution": {
     "iopub.execute_input": "2022-03-28T17:28:37.674167Z",
     "iopub.status.busy": "2022-03-28T17:28:37.673787Z",
     "iopub.status.idle": "2022-03-28T17:28:37.696591Z",
     "shell.execute_reply": "2022-03-28T17:28:37.696250Z"
    },
    "papermill": {
     "duration": 0.067169,
     "end_time": "2022-03-28T17:28:37.696676",
     "exception": false,
     "start_time": "2022-03-28T17:28:37.629507",
     "status": "completed"
    },
    "tags": []
   },
   "outputs": [
    {
     "name": "stdout",
     "output_type": "stream",
     "text": [
      "Source Test Label Accuracy: 0.58310546875 Target Test Label Accuracy: 0.9163633818589025\n",
      "Source Val Label Accuracy: 0.5841471354166666 Target Val Label Accuracy: 0.9100400457665904\n"
     ]
    }
   ],
   "source": [
    "print(\"Source Test Label Accuracy:\", experiment[\"results\"][\"source_test_label_accuracy\"], \"Target Test Label Accuracy:\", experiment[\"results\"][\"target_test_label_accuracy\"])\n",
    "print(\"Source Val Label Accuracy:\", experiment[\"results\"][\"source_val_label_accuracy\"], \"Target Val Label Accuracy:\", experiment[\"results\"][\"target_val_label_accuracy\"])"
   ]
  },
  {
   "cell_type": "code",
   "execution_count": 29,
   "id": "dacca602",
   "metadata": {
    "execution": {
     "iopub.execute_input": "2022-03-28T17:28:37.783695Z",
     "iopub.status.busy": "2022-03-28T17:28:37.783301Z",
     "iopub.status.idle": "2022-03-28T17:28:37.806085Z",
     "shell.execute_reply": "2022-03-28T17:28:37.805690Z"
    },
    "papermill": {
     "duration": 0.067422,
     "end_time": "2022-03-28T17:28:37.806170",
     "exception": false,
     "start_time": "2022-03-28T17:28:37.738748",
     "status": "completed"
    },
    "tags": [
     "experiment_json"
    ]
   },
   "outputs": [
    {
     "data": {
      "text/plain": [
       "'{\"experiment_name\": \"tl_3-jitter5v2:oracle.run1.framed -> cores\", \"parameters\": {\"experiment_name\": \"tl_3-jitter5v2:oracle.run1.framed -> cores\", \"device\": \"cuda\", \"lr\": 0.0001, \"x_shape\": [2, 256], \"n_shot\": 3, \"n_query\": 2, \"train_k_factor\": 3, \"val_k_factor\": 2, \"test_k_factor\": 2, \"torch_default_dtype\": \"torch.float32\", \"n_epoch\": 50, \"patience\": 3, \"criteria_for_best\": \"target_accuracy\", \"x_net\": [{\"class\": \"nnReshape\", \"kargs\": {\"shape\": [-1, 1, 2, 256]}}, {\"class\": \"Conv2d\", \"kargs\": {\"in_channels\": 1, \"out_channels\": 256, \"kernel_size\": [1, 7], \"bias\": false, \"padding\": [0, 3]}}, {\"class\": \"ReLU\", \"kargs\": {\"inplace\": true}}, {\"class\": \"BatchNorm2d\", \"kargs\": {\"num_features\": 256}}, {\"class\": \"Conv2d\", \"kargs\": {\"in_channels\": 256, \"out_channels\": 80, \"kernel_size\": [2, 7], \"bias\": true, \"padding\": [0, 3]}}, {\"class\": \"ReLU\", \"kargs\": {\"inplace\": true}}, {\"class\": \"BatchNorm2d\", \"kargs\": {\"num_features\": 80}}, {\"class\": \"Flatten\", \"kargs\": {}}, {\"class\": \"Linear\", \"kargs\": {\"in_features\": 20480, \"out_features\": 256}}, {\"class\": \"ReLU\", \"kargs\": {\"inplace\": true}}, {\"class\": \"BatchNorm1d\", \"kargs\": {\"num_features\": 256}}, {\"class\": \"Linear\", \"kargs\": {\"in_features\": 256, \"out_features\": 256}}], \"NUM_LOGS_PER_EPOCH\": 10, \"BEST_MODEL_PATH\": \"./best_model.pth\", \"n_way\": 16, \"datasets\": [{\"labels\": [\"1-10.\", \"1-11.\", \"1-15.\", \"1-16.\", \"1-17.\", \"1-18.\", \"1-19.\", \"10-4.\", \"10-7.\", \"11-1.\", \"11-14.\", \"11-17.\", \"11-20.\", \"11-7.\", \"13-20.\", \"13-8.\", \"14-10.\", \"14-11.\", \"14-14.\", \"14-7.\", \"15-1.\", \"15-20.\", \"16-1.\", \"16-16.\", \"17-10.\", \"17-11.\", \"17-2.\", \"19-1.\", \"19-16.\", \"19-19.\", \"19-20.\", \"19-3.\", \"2-10.\", \"2-11.\", \"2-17.\", \"2-18.\", \"2-20.\", \"2-3.\", \"2-4.\", \"2-5.\", \"2-6.\", \"2-7.\", \"2-8.\", \"3-13.\", \"3-18.\", \"3-3.\", \"4-1.\", \"4-10.\", \"4-11.\", \"4-19.\", \"5-5.\", \"6-15.\", \"7-10.\", \"7-14.\", \"8-18.\", \"8-20.\", \"8-3.\", \"8-8.\"], \"domains\": [1, 2, 3, 4, 5], \"num_examples_per_domain_per_label\": -1, \"pickle_path\": \"/root/csc500-main/datasets/cores.stratified_ds.2022A.pkl\", \"source_or_target_dataset\": \"target\", \"x_transforms\": [\"unit_mag\", \"jitter_256_5\", \"lowpass_+/-10MHz\", \"take_200\"], \"episode_transforms\": [], \"domain_prefix\": \"C_\"}, {\"labels\": [\"3123D52\", \"3123D65\", \"3123D79\", \"3123D80\", \"3123D54\", \"3123D70\", \"3123D7B\", \"3123D89\", \"3123D58\", \"3123D76\", \"3123D7D\", \"3123EFE\", \"3123D64\", \"3123D78\", \"3123D7E\", \"3124E4A\"], \"domains\": [32, 38, 8, 44, 14, 50, 20, 26], \"num_examples_per_domain_per_label\": 2000, \"pickle_path\": \"/root/csc500-main/datasets/oracle.Run1_framed_2000Examples_stratified_ds.2022A.pkl\", \"source_or_target_dataset\": \"source\", \"x_transforms\": [\"unit_mag\", \"jitter_256_5\", \"take_200\", \"resample_20Msps_to_25Msps\"], \"episode_transforms\": [], \"domain_prefix\": \"O_\"}], \"seed\": 154325, \"dataset_seed\": 154325, \"domains_source\": [\"O_32\", \"O_38\", \"O_8\", \"O_44\", \"O_14\", \"O_50\", \"O_20\", \"O_26\"], \"domains_target\": [\"C_1\", \"C_2\", \"C_3\", \"C_4\", \"C_5\"]}, \"results\": {\"source_test_label_accuracy\": 0.58310546875, \"source_test_label_loss\": 1.1099541187286377, \"target_test_label_accuracy\": 0.9163633818589025, \"target_test_label_loss\": 3.4392013549804688, \"source_val_label_accuracy\": 0.5841471354166666, \"source_val_label_loss\": 1.105441689491272, \"target_val_label_accuracy\": 0.9100400457665904, \"target_val_label_loss\": 3.7726008892059326, \"total_epochs_trained\": 5, \"total_experiment_time_secs\": 1026.9953455924988, \"confusion\": {\"O_8\": {\"13\": {\"0\": 37, \"6\": 18, \"4\": 45, \"13\": 75, \"10\": 28, \"14\": 24, \"7\": 10, \"5\": 2, \"11\": 1}, \"9\": {\"9\": 240}, \"15\": {\"12\": 53, \"15\": 159, \"7\": 3, \"8\": 23, \"2\": 2}, \"2\": {\"3\": 49, \"2\": 174, \"15\": 3, \"0\": 1, \"7\": 11, \"12\": 1, \"6\": 1}, \"3\": {\"3\": 162, \"2\": 43, \"12\": 33, \"15\": 2}, \"8\": {\"8\": 209, \"15\": 22, \"13\": 1, \"12\": 1, \"11\": 1, \"14\": 1, \"6\": 3, \"4\": 2}, \"5\": {\"5\": 182, \"1\": 30, \"10\": 13, \"14\": 5, \"11\": 10}, \"14\": {\"10\": 68, \"14\": 84, \"4\": 35, \"6\": 6, \"13\": 26, \"5\": 7, \"1\": 10, \"11\": 4}, \"1\": {\"1\": 135, \"5\": 9, \"11\": 84, \"8\": 2, \"10\": 6, \"14\": 4}, \"0\": {\"13\": 36, \"0\": 128, \"7\": 31, \"6\": 21, \"4\": 19, \"10\": 3, \"14\": 2}, \"10\": {\"10\": 121, \"1\": 6, \"14\": 64, \"13\": 22, \"4\": 22, \"5\": 5}, \"6\": {\"13\": 16, \"6\": 110, \"8\": 12, \"0\": 19, \"7\": 57, \"4\": 25, \"10\": 1}, \"11\": {\"11\": 112, \"14\": 5, \"1\": 98, \"5\": 22, \"8\": 2, \"10\": 1}, \"7\": {\"7\": 127, \"6\": 67, \"0\": 30, \"12\": 1, \"13\": 8, \"4\": 5, \"2\": 1, \"15\": 1}, \"4\": {\"14\": 37, \"4\": 74, \"6\": 48, \"8\": 1, \"13\": 48, \"10\": 21, \"0\": 6, \"7\": 5}, \"12\": {\"3\": 37, \"15\": 73, \"12\": 127, \"8\": 2, \"2\": 1}}, \"O_38\": {\"13\": {\"13\": 111, \"2\": 19, \"10\": 15, \"15\": 80, \"8\": 7, \"1\": 6, \"14\": 2}, \"12\": {\"4\": 27, \"12\": 191, \"10\": 17, \"14\": 4, \"11\": 1}, \"2\": {\"2\": 198, \"14\": 26, \"13\": 14, \"11\": 2}, \"9\": {\"9\": 125, \"6\": 82, \"3\": 30, \"5\": 3}, \"15\": {\"1\": 31, \"15\": 119, \"13\": 62, \"8\": 16, \"10\": 7, \"5\": 3, \"0\": 2}, \"5\": {\"8\": 53, \"5\": 82, \"6\": 18, \"13\": 5, \"9\": 15, \"7\": 22, \"1\": 8, \"3\": 8, \"0\": 24, \"15\": 4, \"10\": 1}, \"14\": {\"14\": 153, \"11\": 72, \"2\": 10, \"13\": 1, \"10\": 2, \"12\": 2}, \"0\": {\"0\": 51, \"7\": 70, \"5\": 31, \"8\": 62, \"3\": 11, \"10\": 7, \"15\": 4, \"6\": 1, \"1\": 1, \"9\": 1, \"13\": 1}, \"3\": {\"3\": 212, \"6\": 4, \"9\": 12, \"0\": 3, \"5\": 3, \"7\": 5, \"8\": 1}, \"1\": {\"1\": 215, \"15\": 19, \"13\": 2, \"8\": 2, \"5\": 1, \"6\": 1}, \"11\": {\"14\": 85, \"11\": 145, \"12\": 1, \"10\": 5, \"2\": 4}, \"7\": {\"7\": 159, \"0\": 52, \"8\": 15, \"3\": 3, \"5\": 11}, \"8\": {\"13\": 4, \"8\": 116, \"15\": 15, \"0\": 47, \"5\": 42, \"10\": 5, \"7\": 7, \"1\": 4}, \"4\": {\"4\": 208, \"12\": 32}, \"10\": {\"10\": 159, \"13\": 20, \"12\": 23, \"14\": 6, \"15\": 12, \"8\": 11, \"0\": 3, \"5\": 1, \"2\": 5}, \"6\": {\"9\": 72, \"6\": 164, \"5\": 3, \"1\": 1}}, \"O_26\": {\"10\": {\"6\": 34, \"4\": 14, \"0\": 39, \"14\": 29, \"10\": 80, \"9\": 5, \"8\": 27, \"1\": 8, \"15\": 2, \"7\": 2}, \"12\": {\"12\": 213, \"11\": 27}, \"1\": {\"0\": 28, \"14\": 51, \"3\": 3, \"4\": 45, \"1\": 78, \"7\": 15, \"8\": 5, \"10\": 14, \"6\": 1}, \"0\": {\"10\": 54, \"6\": 7, \"0\": 44, \"1\": 30, \"8\": 22, \"9\": 4, \"4\": 39, \"14\": 35, \"7\": 5}, \"15\": {\"8\": 35, \"15\": 50, \"9\": 51, \"5\": 41, \"7\": 16, \"2\": 9, \"6\": 10, \"13\": 21, \"10\": 4, \"0\": 1, \"3\": 2}, \"13\": {\"5\": 45, \"13\": 134, \"9\": 20, \"6\": 11, \"2\": 14, \"15\": 15, \"3\": 1}, \"8\": {\"10\": 28, \"8\": 63, \"15\": 17, \"0\": 27, \"7\": 20, \"5\": 2, \"4\": 20, \"9\": 30, \"6\": 15, \"1\": 4, \"14\": 10, \"2\": 3, \"13\": 1}, \"3\": {\"2\": 66, \"3\": 133, \"7\": 33, \"5\": 2, \"15\": 5, \"4\": 1}, \"11\": {\"11\": 215, \"12\": 25}, \"4\": {\"14\": 40, \"10\": 23, \"1\": 36, \"4\": 61, \"0\": 31, \"7\": 26, \"15\": 4, \"8\": 15, \"9\": 1, \"2\": 1, \"3\": 1, \"6\": 1}, \"6\": {\"6\": 158, \"10\": 23, \"9\": 28, \"0\": 8, \"15\": 8, \"8\": 10, \"5\": 1, \"13\": 4}, \"7\": {\"7\": 116, \"3\": 42, \"2\": 28, \"4\": 19, \"8\": 15, \"1\": 5, \"14\": 3, \"15\": 5, \"5\": 1, \"9\": 2, \"0\": 3, \"10\": 1}, \"14\": {\"1\": 62, \"14\": 48, \"4\": 38, \"10\": 20, \"8\": 10, \"0\": 48, \"7\": 10, \"15\": 2, \"2\": 1, \"6\": 1}, \"2\": {\"2\": 97, \"3\": 67, \"5\": 25, \"7\": 22, \"15\": 13, \"8\": 4, \"9\": 6, \"4\": 4, \"13\": 2}, \"5\": {\"15\": 38, \"8\": 14, \"5\": 78, \"13\": 52, \"9\": 26, \"2\": 28, \"6\": 3, \"7\": 1}, \"9\": {\"6\": 40, \"8\": 30, \"9\": 58, \"15\": 52, \"5\": 16, \"2\": 5, \"13\": 21, \"7\": 9, \"10\": 4, \"3\": 2, \"4\": 1, \"0\": 2}}, \"O_20\": {\"5\": {\"1\": 40, \"12\": 49, \"0\": 38, \"15\": 24, \"5\": 66, \"3\": 19, \"2\": 1, \"4\": 2, \"13\": 1}, \"15\": {\"15\": 91, \"0\": 55, \"5\": 22, \"12\": 10, \"1\": 47, \"13\": 11, \"3\": 3, \"9\": 1}, \"9\": {\"3\": 35, \"12\": 30, \"2\": 46, \"7\": 37, \"8\": 2, \"9\": 52, \"13\": 19, \"0\": 2, \"1\": 12, \"15\": 4, \"5\": 1}, \"7\": {\"3\": 15, \"7\": 117, \"13\": 5, \"2\": 41, \"9\": 34, \"1\": 1, \"10\": 1, \"8\": 16, \"6\": 5, \"12\": 4, \"0\": 1}, \"3\": {\"12\": 47, \"9\": 35, \"3\": 58, \"7\": 19, \"5\": 18, \"2\": 13, \"0\": 7, \"1\": 8, \"8\": 19, \"4\": 13, \"15\": 2, \"13\": 1}, \"8\": {\"8\": 98, \"3\": 17, \"10\": 36, \"4\": 54, \"7\": 17, \"2\": 1, \"9\": 6, \"12\": 4, \"14\": 5, \"5\": 1, \"6\": 1}, \"4\": {\"8\": 43, \"4\": 126, \"0\": 1, \"3\": 17, \"12\": 17, \"5\": 11, \"7\": 5, \"10\": 18, \"1\": 2}, \"6\": {\"6\": 171, \"14\": 41, \"10\": 8, \"7\": 12, \"8\": 7, \"9\": 1}, \"2\": {\"2\": 83, \"9\": 59, \"15\": 1, \"3\": 11, \"7\": 48, \"13\": 17, \"12\": 14, \"8\": 1, \"0\": 3, \"5\": 1, \"1\": 2}, \"12\": {\"9\": 24, \"12\": 51, \"3\": 47, \"0\": 15, \"4\": 8, \"2\": 11, \"5\": 33, \"15\": 16, \"13\": 7, \"1\": 24, \"7\": 3, \"8\": 1}, \"0\": {\"12\": 32, \"5\": 44, \"0\": 58, \"4\": 1, \"3\": 12, \"1\": 38, \"15\": 41, \"9\": 4, \"13\": 4, \"2\": 5, \"8\": 1}, \"13\": {\"2\": 47, \"13\": 153, \"15\": 10, \"9\": 13, \"1\": 5, \"3\": 2, \"0\": 3, \"7\": 5, \"5\": 1, \"12\": 1}, \"10\": {\"10\": 139, \"8\": 30, \"14\": 53, \"4\": 15, \"6\": 3}, \"11\": {\"11\": 239, \"2\": 1}, \"14\": {\"10\": 52, \"14\": 135, \"6\": 38, \"8\": 10, \"7\": 3, \"4\": 2}, \"1\": {\"15\": 44, \"1\": 53, \"5\": 45, \"0\": 49, \"12\": 21, \"3\": 14, \"2\": 3, \"9\": 3, \"13\": 8}}, \"O_50\": {\"1\": {\"6\": 28, \"1\": 124, \"4\": 27, \"15\": 56, \"2\": 2, \"14\": 1, \"5\": 2}, \"2\": {\"2\": 217, \"0\": 23}, \"8\": {\"8\": 229, \"10\": 6, \"3\": 5}, \"7\": {\"0\": 1, \"7\": 128, \"13\": 55, \"5\": 37, \"10\": 15, \"8\": 2, \"6\": 2}, \"14\": {\"14\": 226, \"12\": 7, \"2\": 1, \"11\": 4, \"9\": 2}, \"6\": {\"6\": 113, \"5\": 36, \"4\": 38, \"1\": 26, \"15\": 5, \"13\": 21, \"7\": 1}, \"3\": {\"3\": 231, \"8\": 9}, \"4\": {\"4\": 68, \"1\": 58, \"15\": 37, \"7\": 7, \"6\": 35, \"5\": 24, \"13\": 11}, \"12\": {\"12\": 189, \"14\": 18, \"9\": 32, \"11\": 1}, \"15\": {\"15\": 147, \"1\": 54, \"11\": 7, \"4\": 30, \"6\": 2}, \"11\": {\"11\": 179, \"14\": 19, \"9\": 28, \"15\": 11, \"12\": 3}, \"0\": {\"10\": 13, \"0\": 188, \"2\": 34, \"6\": 3, \"5\": 1, \"13\": 1}, \"9\": {\"9\": 168, \"11\": 36, \"12\": 34, \"14\": 2}, \"10\": {\"10\": 194, \"0\": 14, \"13\": 5, \"7\": 17, \"5\": 3, \"8\": 7}, \"5\": {\"6\": 40, \"5\": 50, \"13\": 50, \"7\": 68, \"1\": 8, \"4\": 17, \"15\": 2, \"10\": 3, \"0\": 1, \"2\": 1}, \"13\": {\"5\": 46, \"13\": 118, \"7\": 36, \"2\": 1, \"0\": 7, \"6\": 18, \"10\": 5, \"1\": 1, \"4\": 8}}, \"O_32\": {\"2\": {\"4\": 35, \"2\": 180, \"7\": 1, \"0\": 24}, \"6\": {\"6\": 239, \"12\": 1}, \"5\": {\"5\": 47, \"11\": 7, \"7\": 20, \"3\": 21, \"13\": 43, \"0\": 20, \"4\": 22, \"8\": 46, \"14\": 14}, \"12\": {\"12\": 238, \"6\": 2}, \"13\": {\"7\": 20, \"11\": 10, \"13\": 64, \"0\": 12, \"8\": 36, \"5\": 49, \"14\": 17, \"3\": 25, \"4\": 7}, \"9\": {\"9\": 237, \"12\": 3}, \"11\": {\"3\": 13, \"11\": 157, \"14\": 53, \"7\": 8, \"13\": 6, \"5\": 3}, \"1\": {\"1\": 235, \"10\": 5}, \"3\": {\"3\": 220, \"14\": 2, \"11\": 5, \"5\": 8, \"13\": 5}, \"7\": {\"7\": 91, \"5\": 24, \"13\": 24, \"14\": 40, \"4\": 20, \"11\": 13, \"0\": 9, \"8\": 15, \"2\": 4}, \"14\": {\"11\": 69, \"7\": 51, \"14\": 64, \"3\": 8, \"4\": 12, \"13\": 13, \"5\": 15, \"2\": 4, \"8\": 2, \"0\": 2}, \"8\": {\"13\": 47, \"5\": 49, \"8\": 111, \"4\": 6, \"7\": 6, \"15\": 4, \"14\": 5, \"3\": 4, \"0\": 8}, \"4\": {\"4\": 89, \"5\": 9, \"7\": 29, \"13\": 7, \"0\": 68, \"2\": 31, \"8\": 4, \"14\": 3}, \"0\": {\"4\": 75, \"0\": 79, \"8\": 13, \"7\": 13, \"2\": 31, \"5\": 17, \"14\": 6, \"13\": 6}, \"10\": {\"10\": 236, \"1\": 4}, \"15\": {\"15\": 231, \"8\": 4, \"3\": 5}}, \"O_44\": {\"13\": {\"4\": 3, \"13\": 139, \"9\": 36, \"6\": 25, \"11\": 36, \"7\": 1}, \"4\": {\"4\": 145, \"14\": 84, \"15\": 9, \"13\": 2}, \"6\": {\"11\": 17, \"6\": 158, \"7\": 8, \"13\": 37, \"9\": 20}, \"0\": {\"0\": 112, \"5\": 24, \"15\": 23, \"8\": 81}, \"10\": {\"1\": 26, \"2\": 14, \"10\": 162, \"12\": 37, \"3\": 1}, \"7\": {\"7\": 141, \"2\": 39, \"9\": 47, \"13\": 1, \"6\": 9, \"3\": 2, \"1\": 1}, \"14\": {\"14\": 132, \"4\": 64, \"15\": 36, \"5\": 7, \"0\": 1}, \"15\": {\"14\": 22, \"5\": 8, \"15\": 168, \"4\": 3, \"0\": 29, \"8\": 10}, \"5\": {\"5\": 175, \"8\": 12, \"0\": 25, \"14\": 8, \"15\": 20}, \"2\": {\"2\": 162, \"1\": 19, \"7\": 35, \"12\": 1, \"10\": 15, \"3\": 7, \"6\": 1}, \"9\": {\"7\": 37, \"9\": 127, \"6\": 31, \"13\": 33, \"2\": 9, \"11\": 1, \"14\": 1, \"3\": 1}, \"12\": {\"1\": 54, \"12\": 163, \"10\": 23}, \"8\": {\"0\": 102, \"8\": 112, \"15\": 17, \"5\": 9}, \"3\": {\"3\": 212, \"1\": 23, \"2\": 4, \"12\": 1}, \"1\": {\"1\": 123, \"3\": 33, \"2\": 11, \"12\": 52, \"10\": 20, \"7\": 1}, \"11\": {\"13\": 38, \"11\": 170, \"6\": 31, \"9\": 1}}, \"O_14\": {\"1\": {\"1\": 153, \"5\": 69, \"4\": 17, \"3\": 1}, \"15\": {\"15\": 181, \"7\": 59}, \"10\": {\"10\": 157, \"0\": 70, \"11\": 8, \"14\": 2, \"3\": 3}, \"2\": {\"3\": 27, \"2\": 73, \"4\": 25, \"13\": 19, \"14\": 27, \"6\": 27, \"5\": 32, \"1\": 3, \"7\": 6, \"15\": 1}, \"9\": {\"9\": 229, \"11\": 7, \"12\": 4}, \"5\": {\"5\": 115, \"1\": 52, \"4\": 46, \"2\": 17, \"7\": 6, \"3\": 4}, \"7\": {\"7\": 199, \"15\": 40, \"1\": 1}, \"13\": {\"6\": 73, \"13\": 63, \"5\": 9, \"14\": 62, \"2\": 22, \"3\": 5, \"4\": 3, \"10\": 2, \"1\": 1}, \"8\": {\"8\": 239, \"0\": 1}, \"6\": {\"13\": 81, \"6\": 100, \"14\": 30, \"2\": 26, \"5\": 3}, \"3\": {\"3\": 176, \"14\": 11, \"8\": 3, \"2\": 11, \"4\": 28, \"0\": 5, \"5\": 1, \"10\": 5}, \"12\": {\"12\": 239, \"9\": 1}, \"0\": {\"0\": 145, \"10\": 73, \"3\": 4, \"11\": 5, \"8\": 12, \"9\": 1}, \"4\": {\"4\": 118, \"5\": 44, \"3\": 26, \"1\": 26, \"2\": 21, \"8\": 1, \"13\": 1, \"14\": 2, \"6\": 1}, \"14\": {\"3\": 13, \"14\": 148, \"6\": 32, \"13\": 31, \"2\": 13, \"4\": 3}, \"11\": {\"9\": 31, \"11\": 179, \"0\": 12, \"10\": 18}}, \"C_2\": {\"21\": {\"21\": 120}, \"4\": {\"4\": 88, \"19\": 6, \"40\": 8, \"12\": 1, \"45\": 8, \"9\": 12, \"44\": 1, \"32\": 2, \"1\": 2, \"48\": 2}, \"6\": {\"6\": 99, \"25\": 11, \"50\": 8, \"46\": 4, \"8\": 1, \"30\": 1}, \"10\": {\"10\": 112}, \"33\": {\"33\": 28}, \"56\": {\"56\": 122}, \"20\": {\"45\": 2, \"20\": 106, \"26\": 1, \"53\": 12, \"50\": 6, \"51\": 4, \"8\": 1}, \"24\": {\"24\": 89, \"38\": 7}, \"45\": {\"45\": 86, \"4\": 16, \"9\": 6, \"40\": 10, \"35\": 2, \"19\": 4, \"44\": 4}, \"32\": {\"32\": 27, \"34\": 1}, \"27\": {\"27\": 142, \"48\": 2, \"54\": 2, \"17\": 2}, \"53\": {\"53\": 132, \"20\": 4}, \"8\": {\"8\": 160}, \"54\": {\"54\": 92, \"12\": 1, \"48\": 6, \"40\": 1, \"27\": 1, \"34\": 2, \"17\": 5}, \"50\": {\"50\": 124, \"46\": 1, \"25\": 3, \"6\": 5, \"18\": 1}, \"44\": {\"44\": 68, \"19\": 16, \"4\": 1, \"14\": 1, \"45\": 3, \"29\": 5, \"55\": 2, \"40\": 2, \"9\": 2}, \"5\": {\"5\": 116, \"47\": 2, \"57\": 1, \"55\": 1}, \"38\": {\"38\": 19, \"24\": 1}, \"19\": {\"19\": 111, \"55\": 2, \"4\": 1, \"9\": 2, \"44\": 5, \"29\": 4, \"45\": 1, \"40\": 6}, \"1\": {\"1\": 106, \"14\": 1, \"55\": 3, \"57\": 2}, \"30\": {\"30\": 143, \"41\": 1}, \"15\": {\"15\": 138, \"7\": 6}, \"23\": {\"23\": 146}, \"35\": {\"40\": 4, \"35\": 15, \"44\": 1, \"15\": 1, \"4\": 2, \"29\": 3, \"9\": 4, \"32\": 2}, \"22\": {\"22\": 128}, \"40\": {\"19\": 24, \"40\": 73, \"9\": 20, \"55\": 4, \"4\": 5, \"44\": 5, \"29\": 6, \"45\": 2, \"47\": 1}, \"46\": {\"46\": 108, \"15\": 1, \"6\": 4, \"52\": 9, \"50\": 2, \"10\": 1, \"16\": 1}, \"3\": {\"3\": 88, \"21\": 4}, \"48\": {\"48\": 148}, \"52\": {\"52\": 119, \"46\": 5}, \"2\": {\"2\": 32}, \"26\": {\"26\": 22, \"36\": 2}, \"17\": {\"17\": 99, \"40\": 1, \"54\": 3, \"32\": 1}, \"55\": {\"55\": 136, \"57\": 2, \"1\": 6}, \"51\": {\"51\": 109, \"45\": 1, \"12\": 1, \"53\": 5, \"20\": 6}, \"42\": {\"42\": 36}, \"41\": {\"18\": 4, \"41\": 16}, \"31\": {\"31\": 28}, \"16\": {\"16\": 138}, \"36\": {\"36\": 111, \"54\": 1, \"23\": 2, \"8\": 1, \"30\": 1}, \"49\": {\"49\": 23, \"2\": 1}, \"0\": {\"0\": 48}, \"18\": {\"18\": 46, \"41\": 2}, \"25\": {\"25\": 124, \"6\": 14, \"8\": 4, \"50\": 3, \"27\": 1}, \"9\": {\"9\": 91, \"45\": 4, \"40\": 9, \"1\": 2, \"4\": 10, \"29\": 3, \"19\": 3}, \"47\": {\"47\": 132}, \"7\": {\"7\": 29, \"15\": 7}, \"37\": {\"37\": 36}, \"13\": {\"13\": 116}, \"14\": {\"14\": 10, \"56\": 4, \"1\": 4, \"22\": 2, \"57\": 1, \"47\": 1, \"0\": 2}, \"34\": {\"34\": 28}, \"57\": {\"57\": 137, \"42\": 1, \"55\": 1, \"1\": 1}, \"11\": {\"11\": 138}, \"39\": {\"39\": 28}, \"12\": {\"50\": 4, \"12\": 58, \"53\": 9, \"45\": 3, \"8\": 7, \"20\": 9, \"3\": 1, \"36\": 1}, \"28\": {\"28\": 28}, \"29\": {\"29\": 125, \"40\": 1, \"44\": 2}, \"43\": {\"43\": 140}}, \"C_5\": {\"12\": {\"38\": 4, \"18\": 2, \"53\": 14, \"12\": 36, \"4\": 1, \"20\": 6, \"25\": 4, \"7\": 6, \"21\": 4, \"17\": 4, \"51\": 10, \"8\": 3, \"30\": 1, \"50\": 1}, \"8\": {\"8\": 141, \"25\": 1}, \"29\": {\"29\": 128, \"22\": 2, \"28\": 1, \"44\": 1}, \"57\": {\"57\": 126}, \"38\": {\"30\": 1, \"38\": 26, \"53\": 2, \"26\": 1, \"6\": 2}, \"23\": {\"23\": 124}, \"56\": {\"56\": 138}, \"49\": {\"49\": 36}, \"4\": {\"4\": 69, \"19\": 14, \"5\": 3, \"12\": 1, \"6\": 1, \"40\": 2, \"45\": 4, \"55\": 2, \"27\": 4}, \"48\": {\"48\": 129, \"9\": 6, \"55\": 1}, \"21\": {\"21\": 144}, \"30\": {\"30\": 113, \"17\": 6, \"55\": 6, \"26\": 2, \"12\": 1}, \"1\": {\"1\": 146, \"17\": 1, \"55\": 1}, \"34\": {\"34\": 33, \"28\": 3}, \"35\": {\"35\": 34, \"56\": 1, \"2\": 1}, \"55\": {\"55\": 148, \"1\": 3, \"48\": 1}, \"5\": {\"5\": 97, \"29\": 6, \"44\": 2, \"40\": 11, \"19\": 6}, \"52\": {\"52\": 120, \"11\": 2, \"16\": 4}, \"6\": {\"6\": 114, \"8\": 5, \"18\": 1, \"1\": 3, \"25\": 1, \"30\": 2, \"17\": 2}, \"36\": {\"36\": 84, \"14\": 2, \"28\": 2, \"57\": 2, \"9\": 2}, \"41\": {\"41\": 28}, \"3\": {\"3\": 87, \"52\": 1, \"46\": 10, \"11\": 1, \"14\": 1}, \"28\": {\"28\": 28, \"34\": 4}, \"18\": {\"18\": 64}, \"25\": {\"25\": 127, \"20\": 2, \"18\": 2, \"8\": 4, \"12\": 1}, \"47\": {\"47\": 100}, \"13\": {\"13\": 157, \"15\": 1, \"10\": 2}, \"11\": {\"11\": 136, \"15\": 5, \"43\": 3}, \"53\": {\"53\": 140, \"20\": 3, \"8\": 1}, \"33\": {\"33\": 32}, \"46\": {\"3\": 8, \"46\": 139, \"0\": 1}, \"50\": {\"50\": 133, \"20\": 6, \"21\": 6, \"51\": 3}, \"10\": {\"10\": 68}, \"15\": {\"15\": 135, \"43\": 1, \"11\": 2}, \"44\": {\"44\": 134, \"5\": 2, \"40\": 4}, \"2\": {\"2\": 27, \"35\": 1}, \"7\": {\"7\": 32}, \"43\": {\"43\": 134, \"24\": 1, \"11\": 1, \"16\": 2}, \"32\": {\"32\": 28, \"9\": 2, \"55\": 2}, \"0\": {\"0\": 122, \"2\": 2}, \"39\": {\"39\": 20}, \"26\": {\"26\": 24}, \"27\": {\"32\": 3, \"27\": 106, \"9\": 1, \"45\": 2}, \"54\": {\"54\": 112}, \"17\": {\"30\": 12, \"26\": 1, \"17\": 88, \"6\": 3, \"32\": 2, \"45\": 2, \"55\": 4, \"9\": 1, \"12\": 1, \"1\": 2}, \"14\": {\"3\": 6, \"14\": 25, \"46\": 3, \"0\": 1, \"34\": 1, \"54\": 2, \"57\": 1, \"36\": 4, \"2\": 1}, \"16\": {\"16\": 148}, \"9\": {\"9\": 121, \"4\": 1, \"45\": 4, \"48\": 14, \"27\": 5, \"55\": 2, \"19\": 1}, \"19\": {\"19\": 145, \"5\": 2, \"44\": 2, \"40\": 2, \"4\": 1}, \"20\": {\"20\": 136, \"50\": 2}, \"37\": {\"37\": 24}, \"24\": {\"24\": 80}, \"40\": {\"40\": 90, \"28\": 1, \"29\": 5, \"33\": 1, \"5\": 12, \"57\": 1, \"19\": 5, \"44\": 1, \"4\": 2, \"56\": 3, \"27\": 1}, \"45\": {\"45\": 95, \"9\": 6, \"4\": 2, \"27\": 17, \"48\": 3, \"55\": 1}, \"22\": {\"22\": 28}, \"42\": {\"42\": 38, \"35\": 1, \"0\": 1}, \"51\": {\"51\": 112, \"21\": 3, \"53\": 3}, \"31\": {\"31\": 36}}, \"C_1\": {\"27\": {\"27\": 142}, \"2\": {\"2\": 35, \"17\": 1}, \"33\": {\"33\": 32}, \"45\": {\"45\": 151, \"42\": 1, \"7\": 4}, \"38\": {\"38\": 24}, \"4\": {\"57\": 3, \"4\": 64, \"17\": 2, \"29\": 19, \"1\": 11, \"19\": 10, \"40\": 17, \"48\": 1, \"56\": 3, \"6\": 1, \"50\": 1}, \"31\": {\"31\": 28}, \"55\": {\"55\": 132, \"42\": 1, \"54\": 7}, \"32\": {\"32\": 32}, \"57\": {\"57\": 128, \"1\": 8, \"19\": 3, \"40\": 1}, \"14\": {\"14\": 5, \"30\": 1, \"53\": 4, \"8\": 2, \"18\": 1, \"12\": 1, \"9\": 5, \"45\": 1, \"25\": 2, \"41\": 1, \"7\": 1}, \"16\": {\"16\": 140}, \"34\": {\"34\": 24}, \"56\": {\"56\": 121, \"57\": 5}, \"24\": {\"24\": 89, \"22\": 18, \"31\": 1}, \"30\": {\"30\": 107, \"9\": 5}, \"17\": {\"17\": 64}, \"13\": {\"13\": 128, \"12\": 5, \"51\": 4, \"16\": 1}, \"39\": {\"39\": 28}, \"50\": {\"17\": 2, \"50\": 82, \"30\": 2, \"6\": 11, \"2\": 2, \"48\": 19, \"8\": 4, \"5\": 14, \"4\": 4, \"9\": 4, \"53\": 2}, \"20\": {\"20\": 137, \"12\": 1, \"13\": 1, \"51\": 1}, \"41\": {\"41\": 24}, \"53\": {\"53\": 126}, \"48\": {\"8\": 9, \"17\": 7, \"48\": 88, \"2\": 1, \"50\": 7, \"30\": 4, \"6\": 7, \"5\": 15, \"4\": 2, \"9\": 2}, \"36\": {\"36\": 64}, \"8\": {\"8\": 136, \"6\": 2, \"30\": 2}, \"15\": {\"15\": 128, \"21\": 4}, \"40\": {\"35\": 1, \"40\": 91, \"44\": 2, \"19\": 17, \"4\": 5, \"29\": 28, \"56\": 8, \"57\": 3, \"1\": 1}, \"37\": {\"37\": 30, \"16\": 2}, \"21\": {\"15\": 15, \"21\": 104, \"23\": 1}, \"35\": {\"35\": 30, \"44\": 4, \"57\": 2}, \"49\": {\"49\": 30, \"23\": 2}, \"26\": {\"26\": 24}, \"28\": {\"28\": 27, \"11\": 1}, \"12\": {\"12\": 115, \"13\": 1}, \"5\": {\"5\": 129, \"48\": 3, \"9\": 8, \"6\": 7, \"45\": 1, \"17\": 2, \"50\": 1, \"8\": 1}, \"29\": {\"29\": 102, \"19\": 13, \"40\": 4, \"47\": 6, \"56\": 8, \"57\": 3, \"27\": 1, \"44\": 3}, \"47\": {\"47\": 140}, \"10\": {\"10\": 93, \"11\": 1, \"52\": 2}, \"18\": {\"18\": 68, \"25\": 1, \"50\": 1, \"5\": 2}, \"9\": {\"9\": 125, \"30\": 1}, \"3\": {\"3\": 139, \"36\": 1}, \"52\": {\"52\": 124, \"11\": 8}, \"25\": {\"25\": 136}, \"19\": {\"19\": 156}, \"11\": {\"52\": 17, \"11\": 112, \"10\": 3, \"15\": 2, \"21\": 2}, \"7\": {\"7\": 26, \"45\": 2}, \"23\": {\"23\": 132, \"49\": 3, \"39\": 1}, \"44\": {\"44\": 123, \"35\": 2, \"56\": 3, \"57\": 2, \"19\": 2}, \"42\": {\"42\": 40}, \"54\": {\"54\": 95, \"55\": 9}, \"1\": {\"1\": 86, \"57\": 14}, \"46\": {\"12\": 4, \"46\": 72, \"51\": 9, \"53\": 16, \"20\": 3, \"8\": 1, \"5\": 1, \"48\": 6, \"50\": 2, \"13\": 7, \"6\": 3, \"37\": 1, \"4\": 1, \"25\": 2}, \"6\": {\"2\": 4, \"5\": 6, \"6\": 60, \"48\": 8, \"9\": 3, \"8\": 7, \"50\": 1, \"17\": 4, \"30\": 2, \"4\": 1}, \"43\": {\"43\": 144}, \"51\": {\"51\": 139, \"13\": 3}, \"22\": {\"22\": 114, \"24\": 19, \"28\": 1, \"52\": 1, \"10\": 1}, \"0\": {\"0\": 126, \"23\": 1, \"49\": 1}}, \"C_4\": {\"32\": {\"32\": 23, \"46\": 1}, \"2\": {\"2\": 36}, \"41\": {\"41\": 36}, \"11\": {\"11\": 99, \"52\": 1, \"15\": 2}, \"57\": {\"57\": 97, \"55\": 1, \"56\": 2}, \"6\": {\"6\": 93, \"3\": 7, \"37\": 1, \"51\": 5, \"53\": 5, \"20\": 1}, \"23\": {\"23\": 136}, \"52\": {\"52\": 111, \"31\": 4, \"16\": 1}, \"38\": {\"38\": 37, \"0\": 3}, \"50\": {\"50\": 92, \"53\": 13, \"21\": 16, \"36\": 1, \"12\": 1, \"6\": 3, \"20\": 4, \"25\": 1, \"3\": 1}, \"55\": {\"55\": 152}, \"46\": {\"46\": 127, \"41\": 2, \"49\": 4, \"5\": 9, \"0\": 3, \"22\": 4, \"43\": 1, \"47\": 3, \"38\": 1}, \"37\": {\"37\": 24}, \"20\": {\"50\": 1, \"20\": 109, \"25\": 1, \"3\": 7}, \"49\": {\"46\": 2, \"49\": 18}, \"45\": {\"45\": 45, \"12\": 2, \"9\": 13, \"35\": 2, \"44\": 6, \"17\": 2, \"4\": 12, \"19\": 3, \"27\": 10, \"54\": 1}, \"54\": {\"54\": 100, \"5\": 1, \"9\": 1, \"28\": 2, \"48\": 4}, \"3\": {\"3\": 106, \"6\": 5, \"20\": 9, \"36\": 2, \"25\": 2}, \"13\": {\"13\": 152}, \"18\": {\"18\": 108}, \"21\": {\"21\": 110, \"50\": 10, \"8\": 2, \"27\": 1, \"54\": 2, \"12\": 1}, \"43\": {\"43\": 144}, \"47\": {\"47\": 120}, \"4\": {\"4\": 117, \"26\": 1, \"40\": 6, \"9\": 5, \"48\": 2, \"12\": 1}, \"12\": {\"21\": 24, \"50\": 10, \"12\": 35, \"30\": 1, \"20\": 5, \"53\": 4, \"17\": 2, \"8\": 3, \"6\": 2, \"36\": 2, \"18\": 2, \"25\": 1, \"4\": 1}, \"9\": {\"9\": 104, \"48\": 6, \"4\": 7, \"54\": 2, \"27\": 6, \"33\": 2, \"40\": 1}, \"7\": {\"7\": 24}, \"56\": {\"56\": 112}, \"28\": {\"28\": 32}, \"44\": {\"44\": 93, \"4\": 8, \"29\": 5, \"19\": 19, \"35\": 1, \"40\": 4, \"55\": 2}, \"24\": {\"24\": 55, \"11\": 1}, \"33\": {\"33\": 32, \"57\": 2, \"9\": 1, \"29\": 1}, \"35\": {\"35\": 28, \"1\": 1, \"57\": 4, \"56\": 1, \"29\": 4, \"14\": 2}, \"51\": {\"51\": 133, \"53\": 5}, \"39\": {\"39\": 20}, \"36\": {\"36\": 78, \"20\": 2, \"25\": 6, \"3\": 4, \"8\": 1, \"52\": 1}, \"19\": {\"44\": 4, \"4\": 1, \"19\": 129, \"40\": 6}, \"0\": {\"0\": 74, \"7\": 1, \"38\": 2, \"46\": 1, \"22\": 2}, \"15\": {\"15\": 133, \"16\": 1, \"52\": 1, \"11\": 1}, \"29\": {\"29\": 124}, \"30\": {\"30\": 34, \"8\": 2, \"21\": 2, \"25\": 3, \"54\": 2, \"48\": 1}, \"1\": {\"1\": 40}, \"22\": {\"22\": 128}, \"40\": {\"40\": 117, \"19\": 9, \"29\": 9, \"4\": 2, \"44\": 5, \"9\": 1, \"55\": 2, \"56\": 1}, \"8\": {\"8\": 120, \"36\": 2, \"25\": 2, \"30\": 1, \"18\": 2, \"45\": 1}, \"53\": {\"53\": 136, \"50\": 2}, \"34\": {\"34\": 24}, \"10\": {\"10\": 122}, \"31\": {\"31\": 21, \"52\": 7}, \"17\": {\"17\": 69, \"8\": 1, \"27\": 8, \"48\": 2}, \"16\": {\"16\": 95, \"15\": 1}, \"42\": {\"42\": 32}, \"27\": {\"27\": 117, \"48\": 11, \"17\": 10, \"9\": 4}, \"14\": {\"38\": 1, \"57\": 1, \"14\": 8, \"0\": 1, \"29\": 2, \"46\": 1, \"49\": 1, \"47\": 1}, \"25\": {\"25\": 107, \"36\": 10, \"8\": 2, \"20\": 3}, \"48\": {\"48\": 130, \"9\": 2}, \"26\": {\"26\": 23, \"54\": 1}, \"5\": {\"5\": 99, \"46\": 6, \"32\": 2, \"18\": 1}}, \"C_3\": {\"14\": {\"1\": 3, \"14\": 22, \"56\": 6, \"28\": 3, \"29\": 1, \"34\": 1, \"22\": 2, \"57\": 2}, \"18\": {\"18\": 84}, \"30\": {\"30\": 120}, \"16\": {\"16\": 156}, \"1\": {\"1\": 87, \"34\": 3, \"57\": 10}, \"20\": {\"20\": 120, \"50\": 12}, \"7\": {\"7\": 36}, \"52\": {\"52\": 129, \"46\": 1}, \"9\": {\"9\": 132, \"27\": 1, \"42\": 1, \"35\": 2, \"29\": 3, \"4\": 1}, \"23\": {\"23\": 144}, \"55\": {\"55\": 164}, \"29\": {\"29\": 124, \"9\": 2}, \"56\": {\"56\": 133, \"0\": 1}, \"3\": {\"3\": 115, \"50\": 3, \"52\": 5, \"25\": 1}, \"42\": {\"42\": 28}, \"6\": {\"6\": 69, \"41\": 2, \"46\": 1, \"50\": 2, \"36\": 2, \"18\": 6, \"20\": 1, \"30\": 2, \"52\": 1, \"38\": 1, \"25\": 1}, \"5\": {\"5\": 114, \"47\": 1, \"48\": 1}, \"27\": {\"27\": 144}, \"47\": {\"47\": 91, \"55\": 1}, \"39\": {\"39\": 15, \"5\": 1}, \"34\": {\"34\": 25, \"35\": 5, \"1\": 2}, \"4\": {\"4\": 89, \"32\": 2, \"9\": 6, \"19\": 15, \"48\": 1, \"57\": 1, \"40\": 9, \"45\": 1, \"29\": 2}, \"24\": {\"24\": 104}, \"46\": {\"46\": 99, \"52\": 10, \"20\": 5, \"26\": 1, \"16\": 1, \"3\": 1, \"15\": 1}, \"50\": {\"50\": 100, \"46\": 2, \"20\": 19, \"3\": 3, \"25\": 2}, \"38\": {\"38\": 28}, \"54\": {\"54\": 86, \"17\": 8, \"4\": 2, \"30\": 2, \"48\": 2}, \"35\": {\"35\": 20, \"55\": 2, \"34\": 3, \"56\": 2, \"1\": 1}, \"2\": {\"2\": 31, \"36\": 1}, \"41\": {\"41\": 27, \"6\": 1}, \"57\": {\"57\": 112, \"1\": 5, \"35\": 1}, \"25\": {\"25\": 150}, \"48\": {\"48\": 116}, \"33\": {\"33\": 27, \"30\": 1}, \"45\": {\"45\": 42, \"4\": 9, \"40\": 3, \"9\": 2, \"19\": 2, \"48\": 2}, \"13\": {\"13\": 126}, \"36\": {\"36\": 77, \"6\": 5, \"19\": 1, \"8\": 2, \"18\": 4, \"25\": 2, \"30\": 4, \"2\": 3, \"32\": 1, \"45\": 1}, \"43\": {\"43\": 132}, \"28\": {\"28\": 23, \"1\": 2, \"14\": 2, \"34\": 1}, \"0\": {\"0\": 116, \"56\": 8}, \"12\": {\"20\": 2, \"12\": 72, \"25\": 1, \"45\": 1, \"51\": 2, \"53\": 7, \"17\": 1, \"38\": 2, \"40\": 1, \"8\": 3}, \"31\": {\"31\": 28}, \"40\": {\"4\": 2, \"40\": 62, \"19\": 22, \"29\": 12, \"9\": 4, \"44\": 7, \"57\": 2, \"35\": 1, \"45\": 2, \"27\": 1, \"5\": 1}, \"44\": {\"44\": 55, \"56\": 2, \"40\": 5, \"19\": 12, \"29\": 6, \"22\": 2, \"27\": 2, \"14\": 1, \"4\": 1, \"9\": 2}, \"32\": {\"55\": 1, \"45\": 1, \"32\": 25, \"40\": 1}, \"26\": {\"26\": 24}, \"8\": {\"8\": 112, \"25\": 2, \"36\": 2}, \"10\": {\"10\": 64}, \"15\": {\"15\": 142}, \"21\": {\"21\": 128}, \"37\": {\"37\": 28}, \"17\": {\"17\": 104, \"54\": 4}, \"51\": {\"51\": 115, \"12\": 4, \"53\": 3, \"21\": 2}, \"53\": {\"53\": 140, \"51\": 2, \"50\": 1, \"12\": 1}, \"19\": {\"19\": 117, \"40\": 13, \"44\": 1, \"4\": 2, \"27\": 2, \"29\": 1}, \"49\": {\"49\": 19, \"31\": 1}, \"11\": {\"11\": 138}, \"22\": {\"14\": 1, \"22\": 129}}}, \"per_domain_accuracy\": {\"O_8\": {\"accuracy\": 0.5778645833333333, \"source?\": true}, \"O_38\": {\"accuracy\": 0.6270833333333333, \"source?\": true}, \"O_26\": {\"accuracy\": 0.4234375, \"source?\": true}, \"O_20\": {\"accuracy\": 0.4401041666666667, \"source?\": true}, \"O_50\": {\"accuracy\": 0.6690104166666667, \"source?\": true}, \"O_32\": {\"accuracy\": 0.6557291666666667, \"source?\": true}, \"O_44\": {\"accuracy\": 0.6252604166666667, \"source?\": true}, \"O_14\": {\"accuracy\": 0.6546875, \"source?\": true}, \"C_2\": {\"accuracy\": 0.9085582386363636, \"source?\": false}, \"C_5\": {\"accuracy\": 0.9243328651685393, \"source?\": false}, \"C_1\": {\"accuracy\": 0.8913118131868132, \"source?\": false}, \"C_4\": {\"accuracy\": 0.9019461077844312, \"source?\": false}, \"C_3\": {\"accuracy\": 0.9245248538011696, \"source?\": false}}}, \"history\": {\"epoch_indices\": [1, 2, 3, 4, 5], \"train_label_loss\": [1.6554441724194302, 0.9251418347293068, 0.867181931258667, 0.8278446256316134, 0.7977685902666832], \"source_val_label_loss\": [1.105441689491272, 0.9134600758552551, 0.8349814414978027, 0.8445385694503784, 0.8020476698875427], \"target_val_label_loss\": [3.7726008892059326, 8.397928237915039, 15.705227851867676, 22.67676544189453, 29.211545944213867], \"source_val_acc_label\": [0.5841471354166666, 0.6563802083333333, 0.6859049479166667, 0.6814127604166667, 0.69619140625], \"target_val_acc_label\": [0.9100400457665904, 0.8905177345537757, 0.8296982265446224, 0.7933352402745996, 0.7664473684210527]}, \"dataset_metrics\": {\"source\": {\"train\": {\"n_unique_x\": 179200, \"n_unique_y\": 16, \"n_batch/episode\": 6720}, \"val\": {\"n_unique_x\": 38400, \"n_unique_y\": 16, \"n_batch/episode\": 960}, \"test\": {\"n_unique_x\": 38400, \"n_unique_y\": 16, \"n_batch/episode\": 960}}, \"target\": {\"train\": {\"n_unique_x\": 175127, \"n_unique_y\": 58, \"n_batch/episode\": 6303}, \"val\": {\"n_unique_x\": 37135, \"n_unique_y\": 58, \"n_batch/episode\": 874}, \"test\": {\"n_unique_x\": 37673, \"n_unique_y\": 58, \"n_batch/episode\": 893}}}}'"
      ]
     },
     "execution_count": 29,
     "metadata": {},
     "output_type": "execute_result"
    }
   ],
   "source": [
    "json.dumps(experiment)"
   ]
  }
 ],
 "metadata": {
  "celltoolbar": "Tags",
  "kernelspec": {
   "display_name": "Python 3 (ipykernel)",
   "language": "python",
   "name": "python3"
  },
  "language_info": {
   "codemirror_mode": {
    "name": "ipython",
    "version": 3
   },
   "file_extension": ".py",
   "mimetype": "text/x-python",
   "name": "python",
   "nbconvert_exporter": "python",
   "pygments_lexer": "ipython3",
   "version": "3.8.12"
  },
  "papermill": {
   "default_parameters": {},
   "duration": 1193.240033,
   "end_time": "2022-03-28T17:28:40.269673",
   "environment_variables": {},
   "exception": null,
   "input_path": "/root/csc500-main/csc500-notebooks/templates/tl_ptn_template.ipynb",
   "output_path": "trial.ipynb",
   "parameters": {
    "parameters": {
     "BEST_MODEL_PATH": "./best_model.pth",
     "NUM_LOGS_PER_EPOCH": 10,
     "criteria_for_best": "target_accuracy",
     "dataset_seed": 154325,
     "datasets": [
      {
       "domain_prefix": "C_",
       "domains": [
        1,
        2,
        3,
        4,
        5
       ],
       "episode_transforms": [],
       "labels": [
        "1-10.",
        "1-11.",
        "1-15.",
        "1-16.",
        "1-17.",
        "1-18.",
        "1-19.",
        "10-4.",
        "10-7.",
        "11-1.",
        "11-14.",
        "11-17.",
        "11-20.",
        "11-7.",
        "13-20.",
        "13-8.",
        "14-10.",
        "14-11.",
        "14-14.",
        "14-7.",
        "15-1.",
        "15-20.",
        "16-1.",
        "16-16.",
        "17-10.",
        "17-11.",
        "17-2.",
        "19-1.",
        "19-16.",
        "19-19.",
        "19-20.",
        "19-3.",
        "2-10.",
        "2-11.",
        "2-17.",
        "2-18.",
        "2-20.",
        "2-3.",
        "2-4.",
        "2-5.",
        "2-6.",
        "2-7.",
        "2-8.",
        "3-13.",
        "3-18.",
        "3-3.",
        "4-1.",
        "4-10.",
        "4-11.",
        "4-19.",
        "5-5.",
        "6-15.",
        "7-10.",
        "7-14.",
        "8-18.",
        "8-20.",
        "8-3.",
        "8-8."
       ],
       "num_examples_per_domain_per_label": -1,
       "pickle_path": "/root/csc500-main/datasets/cores.stratified_ds.2022A.pkl",
       "source_or_target_dataset": "target",
       "x_transforms": [
        "unit_mag",
        "jitter_256_5",
        "lowpass_+/-10MHz",
        "take_200"
       ]
      },
      {
       "domain_prefix": "O_",
       "domains": [
        32,
        38,
        8,
        44,
        14,
        50,
        20,
        26
       ],
       "episode_transforms": [],
       "labels": [
        "3123D52",
        "3123D65",
        "3123D79",
        "3123D80",
        "3123D54",
        "3123D70",
        "3123D7B",
        "3123D89",
        "3123D58",
        "3123D76",
        "3123D7D",
        "3123EFE",
        "3123D64",
        "3123D78",
        "3123D7E",
        "3124E4A"
       ],
       "num_examples_per_domain_per_label": 2000,
       "pickle_path": "/root/csc500-main/datasets/oracle.Run1_framed_2000Examples_stratified_ds.2022A.pkl",
       "source_or_target_dataset": "source",
       "x_transforms": [
        "unit_mag",
        "jitter_256_5",
        "take_200",
        "resample_20Msps_to_25Msps"
       ]
      }
     ],
     "device": "cuda",
     "experiment_name": "tl_3-jitter5v2:oracle.run1.framed -> cores",
     "lr": 0.0001,
     "n_epoch": 50,
     "n_query": 2,
     "n_shot": 3,
     "n_way": 16,
     "patience": 3,
     "seed": 154325,
     "test_k_factor": 2,
     "torch_default_dtype": "torch.float32",
     "train_k_factor": 3,
     "val_k_factor": 2,
     "x_net": [
      {
       "class": "nnReshape",
       "kargs": {
        "shape": [
         -1,
         1,
         2,
         256
        ]
       }
      },
      {
       "class": "Conv2d",
       "kargs": {
        "bias": false,
        "in_channels": 1,
        "kernel_size": [
         1,
         7
        ],
        "out_channels": 256,
        "padding": [
         0,
         3
        ]
       }
      },
      {
       "class": "ReLU",
       "kargs": {
        "inplace": true
       }
      },
      {
       "class": "BatchNorm2d",
       "kargs": {
        "num_features": 256
       }
      },
      {
       "class": "Conv2d",
       "kargs": {
        "bias": true,
        "in_channels": 256,
        "kernel_size": [
         2,
         7
        ],
        "out_channels": 80,
        "padding": [
         0,
         3
        ]
       }
      },
      {
       "class": "ReLU",
       "kargs": {
        "inplace": true
       }
      },
      {
       "class": "BatchNorm2d",
       "kargs": {
        "num_features": 80
       }
      },
      {
       "class": "Flatten",
       "kargs": {}
      },
      {
       "class": "Linear",
       "kargs": {
        "in_features": 20480,
        "out_features": 256
       }
      },
      {
       "class": "ReLU",
       "kargs": {
        "inplace": true
       }
      },
      {
       "class": "BatchNorm1d",
       "kargs": {
        "num_features": 256
       }
      },
      {
       "class": "Linear",
       "kargs": {
        "in_features": 256,
        "out_features": 256
       }
      }
     ],
     "x_shape": [
      2,
      256
     ]
    }
   },
   "start_time": "2022-03-28T17:08:47.029640",
   "version": "2.3.4"
  }
 },
 "nbformat": 4,
 "nbformat_minor": 5
}