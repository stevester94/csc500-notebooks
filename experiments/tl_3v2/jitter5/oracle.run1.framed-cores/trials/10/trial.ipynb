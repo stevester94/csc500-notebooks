{
 "cells": [
  {
   "cell_type": "markdown",
   "id": "9fea5f46",
   "metadata": {
    "papermill": {
     "duration": 0.03153,
     "end_time": "2022-03-28T17:28:41.180167",
     "exception": false,
     "start_time": "2022-03-28T17:28:41.148637",
     "status": "completed"
    },
    "tags": []
   },
   "source": [
    "# Transfer Learning Template"
   ]
  },
  {
   "cell_type": "code",
   "execution_count": 1,
   "id": "0902182a",
   "metadata": {
    "execution": {
     "iopub.execute_input": "2022-03-28T17:28:41.246095Z",
     "iopub.status.busy": "2022-03-28T17:28:41.245238Z",
     "iopub.status.idle": "2022-03-28T17:28:43.014985Z",
     "shell.execute_reply": "2022-03-28T17:28:43.015691Z"
    },
    "papermill": {
     "duration": 1.809774,
     "end_time": "2022-03-28T17:28:43.016028",
     "exception": false,
     "start_time": "2022-03-28T17:28:41.206254",
     "status": "completed"
    },
    "tags": []
   },
   "outputs": [],
   "source": [
    "%load_ext autoreload\n",
    "%autoreload 2\n",
    "%matplotlib inline\n",
    "\n",
    "    \n",
    "import os, json, sys, time, random\n",
    "import numpy as np\n",
    "import torch\n",
    "from torch.optim import Adam\n",
    "from  easydict import EasyDict\n",
    "import matplotlib.pyplot as plt\n",
    "\n",
    "from steves_models.steves_ptn import Steves_Prototypical_Network\n",
    "\n",
    "from steves_utils.lazy_iterable_wrapper import Lazy_Iterable_Wrapper\n",
    "from steves_utils.iterable_aggregator import Iterable_Aggregator\n",
    "from steves_utils.ptn_train_eval_test_jig import  PTN_Train_Eval_Test_Jig\n",
    "from steves_utils.torch_sequential_builder import build_sequential\n",
    "from steves_utils.torch_utils import get_dataset_metrics, ptn_confusion_by_domain_over_dataloader\n",
    "from steves_utils.utils_v2 import (per_domain_accuracy_from_confusion, get_datasets_base_path)\n",
    "from steves_utils.PTN.utils import independent_accuracy_assesment\n",
    "\n",
    "from torch.utils.data import DataLoader\n",
    "\n",
    "from steves_utils.stratified_dataset.episodic_accessor import Episodic_Accessor_Factory\n",
    "\n",
    "from steves_utils.ptn_do_report import (\n",
    "    get_loss_curve,\n",
    "    get_results_table,\n",
    "    get_parameters_table,\n",
    "    get_domain_accuracies,\n",
    ")\n",
    "\n",
    "from steves_utils.transforms import get_chained_transform"
   ]
  },
  {
   "cell_type": "markdown",
   "id": "41c840b4",
   "metadata": {
    "papermill": {
     "duration": 0.019078,
     "end_time": "2022-03-28T17:28:43.059137",
     "exception": false,
     "start_time": "2022-03-28T17:28:43.040059",
     "status": "completed"
    },
    "tags": []
   },
   "source": [
    "# Allowed Parameters\n",
    "These are allowed parameters, not defaults\n",
    "Each of these values need to be present in the injected parameters (the notebook will raise an exception if they are not present)\n",
    "\n",
    "Papermill uses the cell tag \"parameters\" to inject the real parameters below this cell.\n",
    "Enable tags to see what I mean"
   ]
  },
  {
   "cell_type": "code",
   "execution_count": 2,
   "id": "fd44eb83",
   "metadata": {
    "execution": {
     "iopub.execute_input": "2022-03-28T17:28:43.102497Z",
     "iopub.status.busy": "2022-03-28T17:28:43.101834Z",
     "iopub.status.idle": "2022-03-28T17:28:43.125060Z",
     "shell.execute_reply": "2022-03-28T17:28:43.125711Z"
    },
    "papermill": {
     "duration": 0.047755,
     "end_time": "2022-03-28T17:28:43.125920",
     "exception": false,
     "start_time": "2022-03-28T17:28:43.078165",
     "status": "completed"
    },
    "tags": []
   },
   "outputs": [],
   "source": [
    "required_parameters = {\n",
    "    \"experiment_name\",\n",
    "    \"lr\",\n",
    "    \"device\",\n",
    "    \"seed\",\n",
    "    \"dataset_seed\",\n",
    "    \"n_shot\",\n",
    "    \"n_query\",\n",
    "    \"n_way\",\n",
    "    \"train_k_factor\",\n",
    "    \"val_k_factor\",\n",
    "    \"test_k_factor\",\n",
    "    \"n_epoch\",\n",
    "    \"patience\",\n",
    "    \"criteria_for_best\",\n",
    "    \"x_net\",\n",
    "    \"datasets\",\n",
    "    \"torch_default_dtype\",\n",
    "    \"NUM_LOGS_PER_EPOCH\",\n",
    "    \"BEST_MODEL_PATH\",\n",
    "    \"x_shape\",\n",
    "}"
   ]
  },
  {
   "cell_type": "code",
   "execution_count": 3,
   "id": "fa3f0049",
   "metadata": {
    "execution": {
     "iopub.execute_input": "2022-03-28T17:28:43.184637Z",
     "iopub.status.busy": "2022-03-28T17:28:43.183721Z",
     "iopub.status.idle": "2022-03-28T17:28:43.205601Z",
     "shell.execute_reply": "2022-03-28T17:28:43.206239Z"
    },
    "papermill": {
     "duration": 0.055901,
     "end_time": "2022-03-28T17:28:43.206452",
     "exception": false,
     "start_time": "2022-03-28T17:28:43.150551",
     "status": "completed"
    },
    "tags": [
     "parameters"
    ]
   },
   "outputs": [],
   "source": [
    "from steves_utils.CORES.utils import (\n",
    "    ALL_NODES,\n",
    "    ALL_NODES_MINIMUM_1000_EXAMPLES,\n",
    "    ALL_DAYS\n",
    ")\n",
    "\n",
    "from steves_utils.ORACLE.utils_v2 import (\n",
    "    ALL_DISTANCES_FEET_NARROWED,\n",
    "    ALL_RUNS,\n",
    "    ALL_SERIAL_NUMBERS,\n",
    ")\n",
    "\n",
    "standalone_parameters = {}\n",
    "standalone_parameters[\"experiment_name\"] = \"STANDALONE PTN\"\n",
    "standalone_parameters[\"lr\"] = 0.001\n",
    "standalone_parameters[\"device\"] = \"cuda\"\n",
    "\n",
    "standalone_parameters[\"seed\"] = 1337\n",
    "standalone_parameters[\"dataset_seed\"] = 1337\n",
    "\n",
    "standalone_parameters[\"n_way\"] = 8\n",
    "standalone_parameters[\"n_shot\"] = 3\n",
    "standalone_parameters[\"n_query\"]  = 2\n",
    "standalone_parameters[\"train_k_factor\"] = 1\n",
    "standalone_parameters[\"val_k_factor\"] = 2\n",
    "standalone_parameters[\"test_k_factor\"] = 2\n",
    "\n",
    "\n",
    "standalone_parameters[\"n_epoch\"] = 50\n",
    "\n",
    "standalone_parameters[\"patience\"] = 10\n",
    "standalone_parameters[\"criteria_for_best\"] = \"source_loss\"\n",
    "\n",
    "standalone_parameters[\"datasets\"] = [\n",
    "    {\n",
    "        \"labels\": ALL_SERIAL_NUMBERS,\n",
    "        \"domains\": ALL_DISTANCES_FEET_NARROWED,\n",
    "        \"num_examples_per_domain_per_label\": 100,\n",
    "        \"pickle_path\": os.path.join(get_datasets_base_path(), \"oracle.Run1_framed_2000Examples_stratified_ds.2022A.pkl\"),\n",
    "        \"source_or_target_dataset\": \"source\",\n",
    "        \"x_transforms\": [\"unit_mag\", \"minus_two\"],\n",
    "        \"episode_transforms\": [],\n",
    "        \"domain_prefix\": \"ORACLE_\"\n",
    "    },\n",
    "    {\n",
    "        \"labels\": ALL_NODES,\n",
    "        \"domains\": ALL_DAYS,\n",
    "        \"num_examples_per_domain_per_label\": 100,\n",
    "        \"pickle_path\": os.path.join(get_datasets_base_path(), \"cores.stratified_ds.2022A.pkl\"),\n",
    "        \"source_or_target_dataset\": \"target\",\n",
    "        \"x_transforms\": [\"unit_power\", \"times_zero\"],\n",
    "        \"episode_transforms\": [],\n",
    "        \"domain_prefix\": \"CORES_\"\n",
    "    }   \n",
    "]\n",
    "\n",
    "standalone_parameters[\"torch_default_dtype\"] = \"torch.float32\" \n",
    "\n",
    "\n",
    "\n",
    "standalone_parameters[\"x_net\"] =     [\n",
    "    {\"class\": \"nnReshape\", \"kargs\": {\"shape\":[-1, 1, 2, 256]}},\n",
    "    {\"class\": \"Conv2d\", \"kargs\": { \"in_channels\":1, \"out_channels\":256, \"kernel_size\":(1,7), \"bias\":False, \"padding\":(0,3), },},\n",
    "    {\"class\": \"ReLU\", \"kargs\": {\"inplace\": True}},\n",
    "    {\"class\": \"BatchNorm2d\", \"kargs\": {\"num_features\":256}},\n",
    "\n",
    "    {\"class\": \"Conv2d\", \"kargs\": { \"in_channels\":256, \"out_channels\":80, \"kernel_size\":(2,7), \"bias\":True, \"padding\":(0,3), },},\n",
    "    {\"class\": \"ReLU\", \"kargs\": {\"inplace\": True}},\n",
    "    {\"class\": \"BatchNorm2d\", \"kargs\": {\"num_features\":80}},\n",
    "    {\"class\": \"Flatten\", \"kargs\": {}},\n",
    "\n",
    "    {\"class\": \"Linear\", \"kargs\": {\"in_features\": 80*256, \"out_features\": 256}}, # 80 units per IQ pair\n",
    "    {\"class\": \"ReLU\", \"kargs\": {\"inplace\": True}},\n",
    "    {\"class\": \"BatchNorm1d\", \"kargs\": {\"num_features\":256}},\n",
    "\n",
    "    {\"class\": \"Linear\", \"kargs\": {\"in_features\": 256, \"out_features\": 256}},\n",
    "]\n",
    "\n",
    "# Parameters relevant to results\n",
    "# These parameters will basically never need to change\n",
    "standalone_parameters[\"NUM_LOGS_PER_EPOCH\"] = 10\n",
    "standalone_parameters[\"BEST_MODEL_PATH\"] = \"./best_model.pth\"\n",
    "\n",
    "\n",
    "\n",
    "\n"
   ]
  },
  {
   "cell_type": "code",
   "execution_count": 4,
   "id": "0e659392",
   "metadata": {
    "execution": {
     "iopub.execute_input": "2022-03-28T17:28:43.268376Z",
     "iopub.status.busy": "2022-03-28T17:28:43.267390Z",
     "iopub.status.idle": "2022-03-28T17:28:43.290639Z",
     "shell.execute_reply": "2022-03-28T17:28:43.289912Z"
    },
    "papermill": {
     "duration": 0.059176,
     "end_time": "2022-03-28T17:28:43.290809",
     "exception": false,
     "start_time": "2022-03-28T17:28:43.231633",
     "status": "completed"
    },
    "tags": [
     "injected-parameters"
    ]
   },
   "outputs": [],
   "source": [
    "# Parameters\n",
    "parameters = {\n",
    "    \"experiment_name\": \"tl_3-jitter5v2:oracle.run1.framed -> cores\",\n",
    "    \"device\": \"cuda\",\n",
    "    \"lr\": 0.0001,\n",
    "    \"x_shape\": [2, 256],\n",
    "    \"n_shot\": 3,\n",
    "    \"n_query\": 2,\n",
    "    \"train_k_factor\": 3,\n",
    "    \"val_k_factor\": 2,\n",
    "    \"test_k_factor\": 2,\n",
    "    \"torch_default_dtype\": \"torch.float32\",\n",
    "    \"n_epoch\": 50,\n",
    "    \"patience\": 3,\n",
    "    \"criteria_for_best\": \"target_accuracy\",\n",
    "    \"x_net\": [\n",
    "        {\"class\": \"nnReshape\", \"kargs\": {\"shape\": [-1, 1, 2, 256]}},\n",
    "        {\n",
    "            \"class\": \"Conv2d\",\n",
    "            \"kargs\": {\n",
    "                \"in_channels\": 1,\n",
    "                \"out_channels\": 256,\n",
    "                \"kernel_size\": [1, 7],\n",
    "                \"bias\": False,\n",
    "                \"padding\": [0, 3],\n",
    "            },\n",
    "        },\n",
    "        {\"class\": \"ReLU\", \"kargs\": {\"inplace\": True}},\n",
    "        {\"class\": \"BatchNorm2d\", \"kargs\": {\"num_features\": 256}},\n",
    "        {\n",
    "            \"class\": \"Conv2d\",\n",
    "            \"kargs\": {\n",
    "                \"in_channels\": 256,\n",
    "                \"out_channels\": 80,\n",
    "                \"kernel_size\": [2, 7],\n",
    "                \"bias\": True,\n",
    "                \"padding\": [0, 3],\n",
    "            },\n",
    "        },\n",
    "        {\"class\": \"ReLU\", \"kargs\": {\"inplace\": True}},\n",
    "        {\"class\": \"BatchNorm2d\", \"kargs\": {\"num_features\": 80}},\n",
    "        {\"class\": \"Flatten\", \"kargs\": {}},\n",
    "        {\"class\": \"Linear\", \"kargs\": {\"in_features\": 20480, \"out_features\": 256}},\n",
    "        {\"class\": \"ReLU\", \"kargs\": {\"inplace\": True}},\n",
    "        {\"class\": \"BatchNorm1d\", \"kargs\": {\"num_features\": 256}},\n",
    "        {\"class\": \"Linear\", \"kargs\": {\"in_features\": 256, \"out_features\": 256}},\n",
    "    ],\n",
    "    \"NUM_LOGS_PER_EPOCH\": 10,\n",
    "    \"BEST_MODEL_PATH\": \"./best_model.pth\",\n",
    "    \"n_way\": 16,\n",
    "    \"datasets\": [\n",
    "        {\n",
    "            \"labels\": [\n",
    "                \"1-10.\",\n",
    "                \"1-11.\",\n",
    "                \"1-15.\",\n",
    "                \"1-16.\",\n",
    "                \"1-17.\",\n",
    "                \"1-18.\",\n",
    "                \"1-19.\",\n",
    "                \"10-4.\",\n",
    "                \"10-7.\",\n",
    "                \"11-1.\",\n",
    "                \"11-14.\",\n",
    "                \"11-17.\",\n",
    "                \"11-20.\",\n",
    "                \"11-7.\",\n",
    "                \"13-20.\",\n",
    "                \"13-8.\",\n",
    "                \"14-10.\",\n",
    "                \"14-11.\",\n",
    "                \"14-14.\",\n",
    "                \"14-7.\",\n",
    "                \"15-1.\",\n",
    "                \"15-20.\",\n",
    "                \"16-1.\",\n",
    "                \"16-16.\",\n",
    "                \"17-10.\",\n",
    "                \"17-11.\",\n",
    "                \"17-2.\",\n",
    "                \"19-1.\",\n",
    "                \"19-16.\",\n",
    "                \"19-19.\",\n",
    "                \"19-20.\",\n",
    "                \"19-3.\",\n",
    "                \"2-10.\",\n",
    "                \"2-11.\",\n",
    "                \"2-17.\",\n",
    "                \"2-18.\",\n",
    "                \"2-20.\",\n",
    "                \"2-3.\",\n",
    "                \"2-4.\",\n",
    "                \"2-5.\",\n",
    "                \"2-6.\",\n",
    "                \"2-7.\",\n",
    "                \"2-8.\",\n",
    "                \"3-13.\",\n",
    "                \"3-18.\",\n",
    "                \"3-3.\",\n",
    "                \"4-1.\",\n",
    "                \"4-10.\",\n",
    "                \"4-11.\",\n",
    "                \"4-19.\",\n",
    "                \"5-5.\",\n",
    "                \"6-15.\",\n",
    "                \"7-10.\",\n",
    "                \"7-14.\",\n",
    "                \"8-18.\",\n",
    "                \"8-20.\",\n",
    "                \"8-3.\",\n",
    "                \"8-8.\",\n",
    "            ],\n",
    "            \"domains\": [1, 2, 3, 4, 5],\n",
    "            \"num_examples_per_domain_per_label\": -1,\n",
    "            \"pickle_path\": \"/root/csc500-main/datasets/cores.stratified_ds.2022A.pkl\",\n",
    "            \"source_or_target_dataset\": \"target\",\n",
    "            \"x_transforms\": [\n",
    "                \"unit_mag\",\n",
    "                \"jitter_256_5\",\n",
    "                \"lowpass_+/-10MHz\",\n",
    "                \"take_200\",\n",
    "            ],\n",
    "            \"episode_transforms\": [],\n",
    "            \"domain_prefix\": \"C_\",\n",
    "        },\n",
    "        {\n",
    "            \"labels\": [\n",
    "                \"3123D52\",\n",
    "                \"3123D65\",\n",
    "                \"3123D79\",\n",
    "                \"3123D80\",\n",
    "                \"3123D54\",\n",
    "                \"3123D70\",\n",
    "                \"3123D7B\",\n",
    "                \"3123D89\",\n",
    "                \"3123D58\",\n",
    "                \"3123D76\",\n",
    "                \"3123D7D\",\n",
    "                \"3123EFE\",\n",
    "                \"3123D64\",\n",
    "                \"3123D78\",\n",
    "                \"3123D7E\",\n",
    "                \"3124E4A\",\n",
    "            ],\n",
    "            \"domains\": [32, 38, 8, 44, 14, 50, 20, 26],\n",
    "            \"num_examples_per_domain_per_label\": 2000,\n",
    "            \"pickle_path\": \"/root/csc500-main/datasets/oracle.Run1_framed_2000Examples_stratified_ds.2022A.pkl\",\n",
    "            \"source_or_target_dataset\": \"source\",\n",
    "            \"x_transforms\": [\n",
    "                \"unit_mag\",\n",
    "                \"jitter_256_5\",\n",
    "                \"take_200\",\n",
    "                \"resample_20Msps_to_25Msps\",\n",
    "            ],\n",
    "            \"episode_transforms\": [],\n",
    "            \"domain_prefix\": \"O_\",\n",
    "        },\n",
    "    ],\n",
    "    \"seed\": 7,\n",
    "    \"dataset_seed\": 7,\n",
    "}\n"
   ]
  },
  {
   "cell_type": "code",
   "execution_count": 5,
   "id": "8fa1cc33",
   "metadata": {
    "execution": {
     "iopub.execute_input": "2022-03-28T17:28:43.341660Z",
     "iopub.status.busy": "2022-03-28T17:28:43.341281Z",
     "iopub.status.idle": "2022-03-28T17:28:43.364423Z",
     "shell.execute_reply": "2022-03-28T17:28:43.363696Z"
    },
    "papermill": {
     "duration": 0.048966,
     "end_time": "2022-03-28T17:28:43.364588",
     "exception": false,
     "start_time": "2022-03-28T17:28:43.315622",
     "status": "completed"
    },
    "tags": []
   },
   "outputs": [],
   "source": [
    "# Set this to True if you want to run this template directly\n",
    "STANDALONE = False\n",
    "if STANDALONE:\n",
    "    print(\"parameters not injected, running with standalone_parameters\")\n",
    "    parameters = standalone_parameters\n",
    "\n",
    "if not 'parameters' in locals() and not 'parameters' in globals():\n",
    "    raise Exception(\"Parameter injection failed\")\n",
    "\n",
    "#Use an easy dict for all the parameters\n",
    "p = EasyDict(parameters)\n",
    "\n",
    "if \"x_shape\" not in p:\n",
    "    p.x_shape = [2,256] # Default to this if we dont supply x_shape\n",
    "\n",
    "\n",
    "supplied_keys = set(p.keys())\n",
    "\n",
    "if  supplied_keys != required_parameters:\n",
    "    print(\"Parameters are incorrect\")\n",
    "    if len(supplied_keys - required_parameters)>0: print(\"Shouldn't have:\", str(supplied_keys - required_parameters))\n",
    "    if len(required_parameters - supplied_keys)>0: print(\"Need to have:\", str(required_parameters - supplied_keys))\n",
    "    raise RuntimeError(\"Parameters are incorrect\")"
   ]
  },
  {
   "cell_type": "code",
   "execution_count": 6,
   "id": "3a028d58",
   "metadata": {
    "execution": {
     "iopub.execute_input": "2022-03-28T17:28:43.413777Z",
     "iopub.status.busy": "2022-03-28T17:28:43.413404Z",
     "iopub.status.idle": "2022-03-28T17:28:43.438042Z",
     "shell.execute_reply": "2022-03-28T17:28:43.437278Z"
    },
    "papermill": {
     "duration": 0.047855,
     "end_time": "2022-03-28T17:28:43.438207",
     "exception": false,
     "start_time": "2022-03-28T17:28:43.390352",
     "status": "completed"
    },
    "tags": []
   },
   "outputs": [],
   "source": [
    "###################################\n",
    "# Set the RNGs and make it all deterministic\n",
    "###################################\n",
    "np.random.seed(p.seed)\n",
    "random.seed(p.seed)\n",
    "torch.manual_seed(p.seed)\n",
    "\n",
    "torch.use_deterministic_algorithms(True) "
   ]
  },
  {
   "cell_type": "code",
   "execution_count": 7,
   "id": "b691acf6",
   "metadata": {
    "execution": {
     "iopub.execute_input": "2022-03-28T17:28:43.488737Z",
     "iopub.status.busy": "2022-03-28T17:28:43.488365Z",
     "iopub.status.idle": "2022-03-28T17:28:43.513096Z",
     "shell.execute_reply": "2022-03-28T17:28:43.512378Z"
    },
    "papermill": {
     "duration": 0.0474,
     "end_time": "2022-03-28T17:28:43.513260",
     "exception": false,
     "start_time": "2022-03-28T17:28:43.465860",
     "status": "completed"
    },
    "tags": []
   },
   "outputs": [],
   "source": [
    "###########################################\n",
    "# The stratified datasets honor this\n",
    "###########################################\n",
    "torch.set_default_dtype(eval(p.torch_default_dtype))"
   ]
  },
  {
   "cell_type": "code",
   "execution_count": 8,
   "id": "b5fba671",
   "metadata": {
    "execution": {
     "iopub.execute_input": "2022-03-28T17:28:43.563514Z",
     "iopub.status.busy": "2022-03-28T17:28:43.563135Z",
     "iopub.status.idle": "2022-03-28T17:28:43.621811Z",
     "shell.execute_reply": "2022-03-28T17:28:43.621054Z"
    },
    "papermill": {
     "duration": 0.08077,
     "end_time": "2022-03-28T17:28:43.621991",
     "exception": false,
     "start_time": "2022-03-28T17:28:43.541221",
     "status": "completed"
    },
    "tags": []
   },
   "outputs": [],
   "source": [
    "###################################\n",
    "# Build the network(s)\n",
    "# Note: It's critical to do this AFTER setting the RNG\n",
    "###################################\n",
    "x_net = build_sequential(p.x_net)"
   ]
  },
  {
   "cell_type": "code",
   "execution_count": 9,
   "id": "5d7e61cc",
   "metadata": {
    "execution": {
     "iopub.execute_input": "2022-03-28T17:28:43.670488Z",
     "iopub.status.busy": "2022-03-28T17:28:43.670118Z",
     "iopub.status.idle": "2022-03-28T17:28:43.694570Z",
     "shell.execute_reply": "2022-03-28T17:28:43.693853Z"
    },
    "papermill": {
     "duration": 0.047269,
     "end_time": "2022-03-28T17:28:43.694736",
     "exception": false,
     "start_time": "2022-03-28T17:28:43.647467",
     "status": "completed"
    },
    "tags": []
   },
   "outputs": [],
   "source": [
    "start_time_secs = time.time()"
   ]
  },
  {
   "cell_type": "code",
   "execution_count": 10,
   "id": "c6b67dfd",
   "metadata": {
    "execution": {
     "iopub.execute_input": "2022-03-28T17:28:43.746672Z",
     "iopub.status.busy": "2022-03-28T17:28:43.746111Z",
     "iopub.status.idle": "2022-03-28T17:28:43.769712Z",
     "shell.execute_reply": "2022-03-28T17:28:43.768999Z"
    },
    "papermill": {
     "duration": 0.047768,
     "end_time": "2022-03-28T17:28:43.769878",
     "exception": false,
     "start_time": "2022-03-28T17:28:43.722110",
     "status": "completed"
    },
    "tags": []
   },
   "outputs": [],
   "source": [
    "p.domains_source = []\n",
    "p.domains_target = []\n",
    "\n",
    "\n",
    "train_original_source = []\n",
    "val_original_source   = []\n",
    "test_original_source  = []\n",
    "\n",
    "train_original_target = []\n",
    "val_original_target   = []\n",
    "test_original_target  = []"
   ]
  },
  {
   "cell_type": "code",
   "execution_count": 11,
   "id": "e3d9c3d3",
   "metadata": {
    "execution": {
     "iopub.execute_input": "2022-03-28T17:28:43.818069Z",
     "iopub.status.busy": "2022-03-28T17:28:43.817700Z",
     "iopub.status.idle": "2022-03-28T17:28:43.838076Z",
     "shell.execute_reply": "2022-03-28T17:28:43.837350Z"
    },
    "papermill": {
     "duration": 0.042386,
     "end_time": "2022-03-28T17:28:43.838242",
     "exception": false,
     "start_time": "2022-03-28T17:28:43.795856",
     "status": "completed"
    },
    "tags": []
   },
   "outputs": [],
   "source": [
    "# global_x_transform_func = lambda x: normalize(x.to(torch.get_default_dtype()), \"unit_power\") # unit_power, unit_mag\n",
    "# global_x_transform_func = lambda x: normalize(x, \"unit_power\") # unit_power, unit_mag"
   ]
  },
  {
   "cell_type": "code",
   "execution_count": 12,
   "id": "acb78fd2",
   "metadata": {
    "execution": {
     "iopub.execute_input": "2022-03-28T17:28:43.897740Z",
     "iopub.status.busy": "2022-03-28T17:28:43.896887Z",
     "iopub.status.idle": "2022-03-28T17:28:43.918247Z",
     "shell.execute_reply": "2022-03-28T17:28:43.917479Z"
    },
    "papermill": {
     "duration": 0.053818,
     "end_time": "2022-03-28T17:28:43.918413",
     "exception": false,
     "start_time": "2022-03-28T17:28:43.864595",
     "status": "completed"
    },
    "tags": []
   },
   "outputs": [],
   "source": [
    "def add_dataset(\n",
    "    labels,\n",
    "    domains,\n",
    "    pickle_path,\n",
    "    x_transforms,\n",
    "    episode_transforms,\n",
    "    domain_prefix,\n",
    "    num_examples_per_domain_per_label,\n",
    "    source_or_target_dataset:str,\n",
    "    iterator_seed=p.seed,\n",
    "    dataset_seed=p.dataset_seed,\n",
    "    n_shot=p.n_shot,\n",
    "    n_way=p.n_way,\n",
    "    n_query=p.n_query,\n",
    "    train_val_test_k_factors=(p.train_k_factor,p.val_k_factor,p.test_k_factor),\n",
    "):\n",
    "   \n",
    "    if x_transforms == []: x_transform = None\n",
    "    else: x_transform = get_chained_transform(x_transforms)\n",
    "    \n",
    "    if episode_transforms == []: episode_transform = None\n",
    "    else: raise Exception(\"episode_transforms not implemented\")\n",
    "    \n",
    "    episode_transform = lambda tup, _prefix=domain_prefix: (_prefix + str(tup[0]), tup[1])\n",
    "\n",
    "\n",
    "    eaf = Episodic_Accessor_Factory(\n",
    "        labels=labels,\n",
    "        domains=domains,\n",
    "        num_examples_per_domain_per_label=num_examples_per_domain_per_label,\n",
    "        iterator_seed=iterator_seed,\n",
    "        dataset_seed=dataset_seed,\n",
    "        n_shot=n_shot,\n",
    "        n_way=n_way,\n",
    "        n_query=n_query,\n",
    "        train_val_test_k_factors=train_val_test_k_factors,\n",
    "        pickle_path=pickle_path,\n",
    "        x_transform_func=x_transform,\n",
    "    )\n",
    "\n",
    "    train, val, test = eaf.get_train(), eaf.get_val(), eaf.get_test()\n",
    "    train = Lazy_Iterable_Wrapper(train, episode_transform)\n",
    "    val = Lazy_Iterable_Wrapper(val, episode_transform)\n",
    "    test = Lazy_Iterable_Wrapper(test, episode_transform)\n",
    "\n",
    "    if source_or_target_dataset==\"source\":\n",
    "        train_original_source.append(train)\n",
    "        val_original_source.append(val)\n",
    "        test_original_source.append(test)\n",
    "\n",
    "        p.domains_source.extend(\n",
    "            [domain_prefix + str(u) for u in domains]\n",
    "        )\n",
    "    elif source_or_target_dataset==\"target\":\n",
    "        train_original_target.append(train)\n",
    "        val_original_target.append(val)\n",
    "        test_original_target.append(test)\n",
    "        p.domains_target.extend(\n",
    "            [domain_prefix + str(u) for u in domains]\n",
    "        )\n",
    "    else:\n",
    "        raise Exception(f\"invalid source_or_target_dataset: {source_or_target_dataset}\")\n",
    "    "
   ]
  },
  {
   "cell_type": "code",
   "execution_count": 13,
   "id": "fe266617",
   "metadata": {
    "execution": {
     "iopub.execute_input": "2022-03-28T17:28:43.967294Z",
     "iopub.status.busy": "2022-03-28T17:28:43.966924Z",
     "iopub.status.idle": "2022-03-28T17:30:34.035335Z",
     "shell.execute_reply": "2022-03-28T17:30:34.034611Z"
    },
    "papermill": {
     "duration": 110.091292,
     "end_time": "2022-03-28T17:30:34.035521",
     "exception": false,
     "start_time": "2022-03-28T17:28:43.944229",
     "status": "completed"
    },
    "tags": []
   },
   "outputs": [],
   "source": [
    "for ds in p.datasets:\n",
    "    add_dataset(**ds)"
   ]
  },
  {
   "cell_type": "code",
   "execution_count": 14,
   "id": "b90d65ac",
   "metadata": {
    "execution": {
     "iopub.execute_input": "2022-03-28T17:30:34.085874Z",
     "iopub.status.busy": "2022-03-28T17:30:34.085299Z",
     "iopub.status.idle": "2022-03-28T17:30:34.111449Z",
     "shell.execute_reply": "2022-03-28T17:30:34.110730Z"
    },
    "papermill": {
     "duration": 0.050458,
     "end_time": "2022-03-28T17:30:34.111641",
     "exception": false,
     "start_time": "2022-03-28T17:30:34.061183",
     "status": "completed"
    },
    "tags": []
   },
   "outputs": [],
   "source": [
    "# from steves_utils.CORES.utils import (\n",
    "#     ALL_NODES,\n",
    "#     ALL_NODES_MINIMUM_1000_EXAMPLES,\n",
    "#     ALL_DAYS\n",
    "# )\n",
    "\n",
    "# add_dataset(\n",
    "#     labels=ALL_NODES,\n",
    "#     domains = ALL_DAYS,\n",
    "#     num_examples_per_domain_per_label=100,\n",
    "#     pickle_path=os.path.join(get_datasets_base_path(), \"cores.stratified_ds.2022A.pkl\"),\n",
    "#     source_or_target_dataset=\"target\",\n",
    "#     x_transform_func=global_x_transform_func,\n",
    "#     domain_modifier=lambda u: f\"cores_{u}\"\n",
    "# )"
   ]
  },
  {
   "cell_type": "code",
   "execution_count": 15,
   "id": "76db484d",
   "metadata": {
    "execution": {
     "iopub.execute_input": "2022-03-28T17:30:34.162771Z",
     "iopub.status.busy": "2022-03-28T17:30:34.162366Z",
     "iopub.status.idle": "2022-03-28T17:30:34.185103Z",
     "shell.execute_reply": "2022-03-28T17:30:34.184393Z"
    },
    "papermill": {
     "duration": 0.046096,
     "end_time": "2022-03-28T17:30:34.185271",
     "exception": false,
     "start_time": "2022-03-28T17:30:34.139175",
     "status": "completed"
    },
    "tags": []
   },
   "outputs": [],
   "source": [
    "# from steves_utils.ORACLE.utils_v2 import (\n",
    "#     ALL_DISTANCES_FEET,\n",
    "#     ALL_RUNS,\n",
    "#     ALL_SERIAL_NUMBERS,\n",
    "# )\n",
    "\n",
    "\n",
    "# add_dataset(\n",
    "#     labels=ALL_SERIAL_NUMBERS,\n",
    "#     domains = list(set(ALL_DISTANCES_FEET) - {2,62}),\n",
    "#     num_examples_per_domain_per_label=100,\n",
    "#     pickle_path=os.path.join(get_datasets_base_path(), \"oracle.Run2_framed_2000Examples_stratified_ds.2022A.pkl\"),\n",
    "#     source_or_target_dataset=\"source\",\n",
    "#     x_transform_func=global_x_transform_func,\n",
    "#     domain_modifier=lambda u: f\"oracle1_{u}\"\n",
    "# )\n"
   ]
  },
  {
   "cell_type": "code",
   "execution_count": 16,
   "id": "97dea9d2",
   "metadata": {
    "execution": {
     "iopub.execute_input": "2022-03-28T17:30:34.236068Z",
     "iopub.status.busy": "2022-03-28T17:30:34.235690Z",
     "iopub.status.idle": "2022-03-28T17:30:34.254612Z",
     "shell.execute_reply": "2022-03-28T17:30:34.253901Z"
    },
    "papermill": {
     "duration": 0.042488,
     "end_time": "2022-03-28T17:30:34.254771",
     "exception": false,
     "start_time": "2022-03-28T17:30:34.212283",
     "status": "completed"
    },
    "tags": []
   },
   "outputs": [],
   "source": [
    "# from steves_utils.ORACLE.utils_v2 import (\n",
    "#     ALL_DISTANCES_FEET,\n",
    "#     ALL_RUNS,\n",
    "#     ALL_SERIAL_NUMBERS,\n",
    "# )\n",
    "\n",
    "\n",
    "# add_dataset(\n",
    "#     labels=ALL_SERIAL_NUMBERS,\n",
    "#     domains = list(set(ALL_DISTANCES_FEET) - {2,62,56}),\n",
    "#     num_examples_per_domain_per_label=100,\n",
    "#     pickle_path=os.path.join(get_datasets_base_path(), \"oracle.Run2_framed_2000Examples_stratified_ds.2022A.pkl\"),\n",
    "#     source_or_target_dataset=\"source\",\n",
    "#     x_transform_func=global_x_transform_func,\n",
    "#     domain_modifier=lambda u: f\"oracle2_{u}\"\n",
    "# )"
   ]
  },
  {
   "cell_type": "code",
   "execution_count": 17,
   "id": "6f289866",
   "metadata": {
    "execution": {
     "iopub.execute_input": "2022-03-28T17:30:34.306887Z",
     "iopub.status.busy": "2022-03-28T17:30:34.306512Z",
     "iopub.status.idle": "2022-03-28T17:30:34.325356Z",
     "shell.execute_reply": "2022-03-28T17:30:34.324542Z"
    },
    "papermill": {
     "duration": 0.042384,
     "end_time": "2022-03-28T17:30:34.325512",
     "exception": false,
     "start_time": "2022-03-28T17:30:34.283128",
     "status": "completed"
    },
    "tags": []
   },
   "outputs": [],
   "source": [
    "# add_dataset(\n",
    "#     labels=list(range(19)),\n",
    "#     domains = [0,1,2],\n",
    "#     num_examples_per_domain_per_label=100,\n",
    "#     pickle_path=os.path.join(get_datasets_base_path(), \"metehan.stratified_ds.2022A.pkl\"),\n",
    "#     source_or_target_dataset=\"target\",\n",
    "#     x_transform_func=global_x_transform_func,\n",
    "#     domain_modifier=lambda u: f\"met_{u}\"\n",
    "# )"
   ]
  },
  {
   "cell_type": "code",
   "execution_count": 18,
   "id": "86a863c3",
   "metadata": {
    "execution": {
     "iopub.execute_input": "2022-03-28T17:30:34.377230Z",
     "iopub.status.busy": "2022-03-28T17:30:34.376852Z",
     "iopub.status.idle": "2022-03-28T17:30:34.399775Z",
     "shell.execute_reply": "2022-03-28T17:30:34.398928Z"
    },
    "papermill": {
     "duration": 0.047372,
     "end_time": "2022-03-28T17:30:34.399936",
     "exception": false,
     "start_time": "2022-03-28T17:30:34.352564",
     "status": "completed"
    },
    "tags": []
   },
   "outputs": [],
   "source": [
    "# # from steves_utils.wisig.utils import (\n",
    "# #     ALL_NODES_MINIMUM_100_EXAMPLES,\n",
    "# #     ALL_NODES_MINIMUM_500_EXAMPLES,\n",
    "# #     ALL_NODES_MINIMUM_1000_EXAMPLES,\n",
    "# #     ALL_DAYS\n",
    "# # )\n",
    "\n",
    "# import steves_utils.wisig.utils as wisig\n",
    "\n",
    "\n",
    "# add_dataset(\n",
    "#     labels=wisig.ALL_NODES_MINIMUM_100_EXAMPLES,\n",
    "#     domains = wisig.ALL_DAYS,\n",
    "#     num_examples_per_domain_per_label=100,\n",
    "#     pickle_path=os.path.join(get_datasets_base_path(), \"wisig.node3-19.stratified_ds.2022A.pkl\"),\n",
    "#     source_or_target_dataset=\"target\",\n",
    "#     x_transform_func=global_x_transform_func,\n",
    "#     domain_modifier=lambda u: f\"wisig_{u}\"\n",
    "# )"
   ]
  },
  {
   "cell_type": "code",
   "execution_count": 19,
   "id": "fd5442bc",
   "metadata": {
    "execution": {
     "iopub.execute_input": "2022-03-28T17:30:34.457739Z",
     "iopub.status.busy": "2022-03-28T17:30:34.457148Z",
     "iopub.status.idle": "2022-03-28T17:30:34.479719Z",
     "shell.execute_reply": "2022-03-28T17:30:34.478989Z"
    },
    "papermill": {
     "duration": 0.052233,
     "end_time": "2022-03-28T17:30:34.479878",
     "exception": false,
     "start_time": "2022-03-28T17:30:34.427645",
     "status": "completed"
    },
    "tags": []
   },
   "outputs": [],
   "source": [
    "###################################\n",
    "# Build the dataset\n",
    "###################################\n",
    "train_original_source = Iterable_Aggregator(train_original_source, p.seed)\n",
    "val_original_source = Iterable_Aggregator(val_original_source, p.seed)\n",
    "test_original_source = Iterable_Aggregator(test_original_source, p.seed)\n",
    "\n",
    "\n",
    "train_original_target = Iterable_Aggregator(train_original_target, p.seed)\n",
    "val_original_target = Iterable_Aggregator(val_original_target, p.seed)\n",
    "test_original_target = Iterable_Aggregator(test_original_target, p.seed)\n",
    "\n",
    "# For CNN We only use X and Y. And we only train on the source.\n",
    "# Properly form the data using a transform lambda and Lazy_Iterable_Wrapper. Finally wrap them in a dataloader\n",
    "\n",
    "transform_lambda = lambda ex: ex[1] # Original is (<domain>, <episode>) so we strip down to episode only\n",
    "\n",
    "train_processed_source = Lazy_Iterable_Wrapper(train_original_source, transform_lambda)\n",
    "val_processed_source   = Lazy_Iterable_Wrapper(val_original_source, transform_lambda)\n",
    "test_processed_source  = Lazy_Iterable_Wrapper(test_original_source, transform_lambda)\n",
    "\n",
    "train_processed_target = Lazy_Iterable_Wrapper(train_original_target, transform_lambda)\n",
    "val_processed_target   = Lazy_Iterable_Wrapper(val_original_target, transform_lambda)\n",
    "test_processed_target  = Lazy_Iterable_Wrapper(test_original_target, transform_lambda)\n",
    "\n",
    "datasets = EasyDict({\n",
    "    \"source\": {\n",
    "        \"original\": {\"train\":train_original_source, \"val\":val_original_source, \"test\":test_original_source},\n",
    "        \"processed\": {\"train\":train_processed_source, \"val\":val_processed_source, \"test\":test_processed_source}\n",
    "    },\n",
    "    \"target\": {\n",
    "        \"original\": {\"train\":train_original_target, \"val\":val_original_target, \"test\":test_original_target},\n",
    "        \"processed\": {\"train\":train_processed_target, \"val\":val_processed_target, \"test\":test_processed_target}\n",
    "    },\n",
    "})"
   ]
  },
  {
   "cell_type": "code",
   "execution_count": 20,
   "id": "5b3c01fc",
   "metadata": {
    "execution": {
     "iopub.execute_input": "2022-03-28T17:30:34.531761Z",
     "iopub.status.busy": "2022-03-28T17:30:34.531370Z",
     "iopub.status.idle": "2022-03-28T17:30:48.803698Z",
     "shell.execute_reply": "2022-03-28T17:30:48.804404Z"
    },
    "papermill": {
     "duration": 14.298898,
     "end_time": "2022-03-28T17:30:48.804628",
     "exception": false,
     "start_time": "2022-03-28T17:30:34.505730",
     "status": "completed"
    },
    "tags": []
   },
   "outputs": [
    {
     "name": "stdout",
     "output_type": "stream",
     "text": [
      "{'O_8', 'O_50', 'O_26', 'O_32', 'O_44', 'O_14', 'O_20', 'O_38'}\n"
     ]
    },
    {
     "name": "stdout",
     "output_type": "stream",
     "text": [
      "{'C_4', 'C_3', 'C_5', 'C_1', 'C_2'}\n"
     ]
    },
    {
     "name": "stdout",
     "output_type": "stream",
     "text": [
      "tensor([[[0., 0., 0.,  ..., 0., 0., 0.],\n",
      "         [0., 0., 0.,  ..., 0., 0., 0.]],\n",
      "\n",
      "        [[0., 0., 0.,  ..., 0., 0., 0.],\n",
      "         [0., 0., 0.,  ..., 0., 0., 0.]],\n",
      "\n",
      "        [[0., 0., 0.,  ..., 0., 0., 0.],\n",
      "         [0., 0., 0.,  ..., 0., 0., 0.]],\n",
      "\n",
      "        ...,\n",
      "\n",
      "        [[0., 0., 0.,  ..., 0., 0., 0.],\n",
      "         [0., 0., 0.,  ..., 0., 0., 0.]],\n",
      "\n",
      "        [[0., 0., 0.,  ..., 0., 0., 0.],\n",
      "         [0., 0., 0.,  ..., 0., 0., 0.]],\n",
      "\n",
      "        [[0., 0., 0.,  ..., 0., 0., 0.],\n",
      "         [0., 0., 0.,  ..., 0., 0., 0.]]])\n"
     ]
    }
   ],
   "source": [
    "from steves_utils.transforms import get_average_magnitude, get_average_power\n",
    "\n",
    "print(set([u for u,_ in val_original_source]))\n",
    "print(set([u for u,_ in val_original_target]))\n",
    "\n",
    "s_x, s_y, q_x, q_y, _ = next(iter(train_processed_source))\n",
    "print(s_x)\n",
    "\n",
    "# for ds in [\n",
    "#     train_processed_source,\n",
    "#     val_processed_source,\n",
    "#     test_processed_source,\n",
    "#     train_processed_target,\n",
    "#     val_processed_target,\n",
    "#     test_processed_target\n",
    "# ]:\n",
    "#     for s_x, s_y, q_x, q_y, _ in ds:\n",
    "#         for X in (s_x, q_x):\n",
    "#             for x in X:\n",
    "#                 assert np.isclose(get_average_magnitude(x.numpy()), 1.0)\n",
    "#                 assert np.isclose(get_average_power(x.numpy()), 1.0)\n",
    "                "
   ]
  },
  {
   "cell_type": "code",
   "execution_count": 21,
   "id": "bbdacba1",
   "metadata": {
    "execution": {
     "iopub.execute_input": "2022-03-28T17:30:48.862929Z",
     "iopub.status.busy": "2022-03-28T17:30:48.861912Z",
     "iopub.status.idle": "2022-03-28T17:30:48.982223Z",
     "shell.execute_reply": "2022-03-28T17:30:48.982525Z"
    },
    "papermill": {
     "duration": 0.151242,
     "end_time": "2022-03-28T17:30:48.982626",
     "exception": false,
     "start_time": "2022-03-28T17:30:48.831384",
     "status": "completed"
    },
    "tags": []
   },
   "outputs": [
    {
     "name": "stdout",
     "output_type": "stream",
     "text": [
      "(2, 256)\n"
     ]
    }
   ],
   "source": [
    "###################################\n",
    "# Build the model\n",
    "###################################\n",
    "# easfsl only wants a tuple for the shape\n",
    "model = Steves_Prototypical_Network(x_net, device=p.device, x_shape=tuple(p.x_shape))\n",
    "optimizer = Adam(params=model.parameters(), lr=p.lr)"
   ]
  },
  {
   "cell_type": "code",
   "execution_count": 22,
   "id": "22b39ac5",
   "metadata": {
    "execution": {
     "iopub.execute_input": "2022-03-28T17:30:49.030539Z",
     "iopub.status.busy": "2022-03-28T17:30:49.030053Z",
     "iopub.status.idle": "2022-03-28T17:50:36.481634Z",
     "shell.execute_reply": "2022-03-28T17:50:36.481292Z"
    },
    "papermill": {
     "duration": 1187.477016,
     "end_time": "2022-03-28T17:50:36.481717",
     "exception": false,
     "start_time": "2022-03-28T17:30:49.004701",
     "status": "completed"
    },
    "tags": []
   },
   "outputs": [
    {
     "name": "stdout",
     "output_type": "stream",
     "text": [
      "epoch: 1, [batch: 1 / 6720], examples_per_second: 33.7835, train_label_loss: 2.8155, \n"
     ]
    },
    {
     "name": "stdout",
     "output_type": "stream",
     "text": [
      "epoch: 1, [batch: 672 / 6720], examples_per_second: 3314.9714, train_label_loss: 2.8151, \n"
     ]
    },
    {
     "name": "stdout",
     "output_type": "stream",
     "text": [
      "epoch: 1, [batch: 1344 / 6720], examples_per_second: 3432.3205, train_label_loss: 1.8766, \n"
     ]
    },
    {
     "name": "stdout",
     "output_type": "stream",
     "text": [
      "epoch: 1, [batch: 2016 / 6720], examples_per_second: 3418.7041, train_label_loss: 1.3668, \n"
     ]
    },
    {
     "name": "stdout",
     "output_type": "stream",
     "text": [
      "epoch: 1, [batch: 2688 / 6720], examples_per_second: 2926.2116, train_label_loss: 1.3206, \n"
     ]
    },
    {
     "name": "stdout",
     "output_type": "stream",
     "text": [
      "epoch: 1, [batch: 3360 / 6720], examples_per_second: 2930.5370, train_label_loss: 1.3785, \n"
     ]
    },
    {
     "name": "stdout",
     "output_type": "stream",
     "text": [
      "epoch: 1, [batch: 4032 / 6720], examples_per_second: 2973.6983, train_label_loss: 1.5059, \n"
     ]
    },
    {
     "name": "stdout",
     "output_type": "stream",
     "text": [
      "epoch: 1, [batch: 4704 / 6720], examples_per_second: 3016.1477, train_label_loss: 2.0780, \n"
     ]
    },
    {
     "name": "stdout",
     "output_type": "stream",
     "text": [
      "epoch: 1, [batch: 5376 / 6720], examples_per_second: 3391.9202, train_label_loss: 1.9527, \n"
     ]
    },
    {
     "name": "stdout",
     "output_type": "stream",
     "text": [
      "epoch: 1, [batch: 6048 / 6720], examples_per_second: 3431.2214, train_label_loss: 1.2625, \n"
     ]
    },
    {
     "name": "stdout",
     "output_type": "stream",
     "text": [
      "=============================================================\n",
      "epoch: 1, source_val_acc_label: 0.4092, target_val_acc_label: 0.8073, source_val_label_loss: 1.5179, target_val_label_loss: 1.2919, \n",
      "=============================================================\n"
     ]
    },
    {
     "name": "stdout",
     "output_type": "stream",
     "text": [
      "New best\n"
     ]
    },
    {
     "name": "stdout",
     "output_type": "stream",
     "text": [
      "epoch: 2, [batch: 1 / 6720], examples_per_second: 2.9149, train_label_loss: 2.0518, \n"
     ]
    },
    {
     "name": "stdout",
     "output_type": "stream",
     "text": [
      "epoch: 2, [batch: 672 / 6720], examples_per_second: 3345.0043, train_label_loss: 1.7958, \n"
     ]
    },
    {
     "name": "stdout",
     "output_type": "stream",
     "text": [
      "epoch: 2, [batch: 1344 / 6720], examples_per_second: 3423.1306, train_label_loss: 1.1059, \n"
     ]
    },
    {
     "name": "stdout",
     "output_type": "stream",
     "text": [
      "epoch: 2, [batch: 2016 / 6720], examples_per_second: 3388.9792, train_label_loss: 0.7636, \n"
     ]
    },
    {
     "name": "stdout",
     "output_type": "stream",
     "text": [
      "epoch: 2, [batch: 2688 / 6720], examples_per_second: 2963.2683, train_label_loss: 0.9506, \n"
     ]
    },
    {
     "name": "stdout",
     "output_type": "stream",
     "text": [
      "epoch: 2, [batch: 3360 / 6720], examples_per_second: 2985.1287, train_label_loss: 0.8276, \n"
     ]
    },
    {
     "name": "stdout",
     "output_type": "stream",
     "text": [
      "epoch: 2, [batch: 4032 / 6720], examples_per_second: 2996.6778, train_label_loss: 0.6793, \n"
     ]
    },
    {
     "name": "stdout",
     "output_type": "stream",
     "text": [
      "epoch: 2, [batch: 4704 / 6720], examples_per_second: 3154.3773, train_label_loss: 1.4387, \n"
     ]
    },
    {
     "name": "stdout",
     "output_type": "stream",
     "text": [
      "epoch: 2, [batch: 5376 / 6720], examples_per_second: 3473.3078, train_label_loss: 0.4156, \n"
     ]
    },
    {
     "name": "stdout",
     "output_type": "stream",
     "text": [
      "epoch: 2, [batch: 6048 / 6720], examples_per_second: 3541.6596, train_label_loss: 0.5690, \n"
     ]
    },
    {
     "name": "stdout",
     "output_type": "stream",
     "text": [
      "=============================================================\n",
      "epoch: 2, source_val_acc_label: 0.6389, target_val_acc_label: 0.9616, source_val_label_loss: 0.9599, target_val_label_loss: 0.1468, \n",
      "=============================================================\n"
     ]
    },
    {
     "name": "stdout",
     "output_type": "stream",
     "text": [
      "New best\n"
     ]
    },
    {
     "name": "stdout",
     "output_type": "stream",
     "text": [
      "epoch: 3, [batch: 1 / 6720], examples_per_second: 2.8938, train_label_loss: 0.5475, \n"
     ]
    },
    {
     "name": "stdout",
     "output_type": "stream",
     "text": [
      "epoch: 3, [batch: 672 / 6720], examples_per_second: 3273.9315, train_label_loss: 1.2285, \n"
     ]
    },
    {
     "name": "stdout",
     "output_type": "stream",
     "text": [
      "epoch: 3, [batch: 1344 / 6720], examples_per_second: 3405.5274, train_label_loss: 0.7577, \n"
     ]
    },
    {
     "name": "stdout",
     "output_type": "stream",
     "text": [
      "epoch: 3, [batch: 2016 / 6720], examples_per_second: 3384.5179, train_label_loss: 0.8577, \n"
     ]
    },
    {
     "name": "stdout",
     "output_type": "stream",
     "text": [
      "epoch: 3, [batch: 2688 / 6720], examples_per_second: 2997.1224, train_label_loss: 1.1180, \n"
     ]
    },
    {
     "name": "stdout",
     "output_type": "stream",
     "text": [
      "epoch: 3, [batch: 3360 / 6720], examples_per_second: 3052.7695, train_label_loss: 0.8790, \n"
     ]
    },
    {
     "name": "stdout",
     "output_type": "stream",
     "text": [
      "epoch: 3, [batch: 4032 / 6720], examples_per_second: 3033.2199, train_label_loss: 1.2269, \n"
     ]
    },
    {
     "name": "stdout",
     "output_type": "stream",
     "text": [
      "epoch: 3, [batch: 4704 / 6720], examples_per_second: 3149.9044, train_label_loss: 0.7803, \n"
     ]
    },
    {
     "name": "stdout",
     "output_type": "stream",
     "text": [
      "epoch: 3, [batch: 5376 / 6720], examples_per_second: 3420.2907, train_label_loss: 0.8366, \n"
     ]
    },
    {
     "name": "stdout",
     "output_type": "stream",
     "text": [
      "epoch: 3, [batch: 6048 / 6720], examples_per_second: 3457.2453, train_label_loss: 0.6265, \n"
     ]
    },
    {
     "name": "stdout",
     "output_type": "stream",
     "text": [
      "=============================================================\n",
      "epoch: 3, source_val_acc_label: 0.6213, target_val_acc_label: 0.9596, source_val_label_loss: 1.0018, target_val_label_loss: 0.1653, \n",
      "=============================================================\n"
     ]
    },
    {
     "name": "stdout",
     "output_type": "stream",
     "text": [
      "epoch: 4, [batch: 1 / 6720], examples_per_second: 2.8732, train_label_loss: 0.9432, \n"
     ]
    },
    {
     "name": "stdout",
     "output_type": "stream",
     "text": [
      "epoch: 4, [batch: 672 / 6720], examples_per_second: 3347.9083, train_label_loss: 0.5441, \n"
     ]
    },
    {
     "name": "stdout",
     "output_type": "stream",
     "text": [
      "epoch: 4, [batch: 1344 / 6720], examples_per_second: 3464.3825, train_label_loss: 0.5872, \n"
     ]
    },
    {
     "name": "stdout",
     "output_type": "stream",
     "text": [
      "epoch: 4, [batch: 2016 / 6720], examples_per_second: 3564.8764, train_label_loss: 0.7816, \n"
     ]
    },
    {
     "name": "stdout",
     "output_type": "stream",
     "text": [
      "epoch: 4, [batch: 2688 / 6720], examples_per_second: 2943.5026, train_label_loss: 0.6766, \n"
     ]
    },
    {
     "name": "stdout",
     "output_type": "stream",
     "text": [
      "epoch: 4, [batch: 3360 / 6720], examples_per_second: 2972.6859, train_label_loss: 0.7160, \n"
     ]
    },
    {
     "name": "stdout",
     "output_type": "stream",
     "text": [
      "epoch: 4, [batch: 4032 / 6720], examples_per_second: 3020.4580, train_label_loss: 0.6826, \n"
     ]
    },
    {
     "name": "stdout",
     "output_type": "stream",
     "text": [
      "epoch: 4, [batch: 4704 / 6720], examples_per_second: 3072.8768, train_label_loss: 1.0801, \n"
     ]
    },
    {
     "name": "stdout",
     "output_type": "stream",
     "text": [
      "epoch: 4, [batch: 5376 / 6720], examples_per_second: 3382.8167, train_label_loss: 0.9496, \n"
     ]
    },
    {
     "name": "stdout",
     "output_type": "stream",
     "text": [
      "epoch: 4, [batch: 6048 / 6720], examples_per_second: 3508.2962, train_label_loss: 1.0229, \n"
     ]
    },
    {
     "name": "stdout",
     "output_type": "stream",
     "text": [
      "=============================================================\n",
      "epoch: 4, source_val_acc_label: 0.6813, target_val_acc_label: 0.9554, source_val_label_loss: 0.8559, target_val_label_loss: 0.1797, \n",
      "=============================================================\n"
     ]
    },
    {
     "name": "stdout",
     "output_type": "stream",
     "text": [
      "epoch: 5, [batch: 1 / 6720], examples_per_second: 2.9162, train_label_loss: 1.2822, \n"
     ]
    },
    {
     "name": "stdout",
     "output_type": "stream",
     "text": [
      "epoch: 5, [batch: 672 / 6720], examples_per_second: 3391.8587, train_label_loss: 0.6929, \n"
     ]
    },
    {
     "name": "stdout",
     "output_type": "stream",
     "text": [
      "epoch: 5, [batch: 1344 / 6720], examples_per_second: 3464.0980, train_label_loss: 0.6449, \n"
     ]
    },
    {
     "name": "stdout",
     "output_type": "stream",
     "text": [
      "epoch: 5, [batch: 2016 / 6720], examples_per_second: 3378.6843, train_label_loss: 0.6125, \n"
     ]
    },
    {
     "name": "stdout",
     "output_type": "stream",
     "text": [
      "epoch: 5, [batch: 2688 / 6720], examples_per_second: 3033.5875, train_label_loss: 0.5111, \n"
     ]
    },
    {
     "name": "stdout",
     "output_type": "stream",
     "text": [
      "epoch: 5, [batch: 3360 / 6720], examples_per_second: 3006.1691, train_label_loss: 0.7090, \n"
     ]
    },
    {
     "name": "stdout",
     "output_type": "stream",
     "text": [
      "epoch: 5, [batch: 4032 / 6720], examples_per_second: 3033.3146, train_label_loss: 0.9737, \n"
     ]
    },
    {
     "name": "stdout",
     "output_type": "stream",
     "text": [
      "epoch: 5, [batch: 4704 / 6720], examples_per_second: 3048.4245, train_label_loss: 1.0691, \n"
     ]
    },
    {
     "name": "stdout",
     "output_type": "stream",
     "text": [
      "epoch: 5, [batch: 5376 / 6720], examples_per_second: 3424.9997, train_label_loss: 0.6221, \n"
     ]
    },
    {
     "name": "stdout",
     "output_type": "stream",
     "text": [
      "epoch: 5, [batch: 6048 / 6720], examples_per_second: 3402.8493, train_label_loss: 0.6305, \n"
     ]
    },
    {
     "name": "stdout",
     "output_type": "stream",
     "text": [
      "=============================================================\n",
      "epoch: 5, source_val_acc_label: 0.6919, target_val_acc_label: 0.9463, source_val_label_loss: 0.8318, target_val_label_loss: 0.2239, \n",
      "=============================================================\n"
     ]
    },
    {
     "name": "stdout",
     "output_type": "stream",
     "text": [
      "epoch: 6, [batch: 1 / 6720], examples_per_second: 3.2459, train_label_loss: 0.6302, \n"
     ]
    },
    {
     "name": "stdout",
     "output_type": "stream",
     "text": [
      "epoch: 6, [batch: 672 / 6720], examples_per_second: 3642.9883, train_label_loss: 0.9618, \n"
     ]
    },
    {
     "name": "stdout",
     "output_type": "stream",
     "text": [
      "epoch: 6, [batch: 1344 / 6720], examples_per_second: 3680.0955, train_label_loss: 0.7110, \n"
     ]
    },
    {
     "name": "stdout",
     "output_type": "stream",
     "text": [
      "epoch: 6, [batch: 2016 / 6720], examples_per_second: 3667.5398, train_label_loss: 0.8431, \n"
     ]
    },
    {
     "name": "stdout",
     "output_type": "stream",
     "text": [
      "epoch: 6, [batch: 2688 / 6720], examples_per_second: 3385.5744, train_label_loss: 0.4705, \n"
     ]
    },
    {
     "name": "stdout",
     "output_type": "stream",
     "text": [
      "epoch: 6, [batch: 3360 / 6720], examples_per_second: 3995.2060, train_label_loss: 0.6871, \n"
     ]
    },
    {
     "name": "stdout",
     "output_type": "stream",
     "text": [
      "epoch: 6, [batch: 4032 / 6720], examples_per_second: 3991.4873, train_label_loss: 0.5876, \n"
     ]
    },
    {
     "name": "stdout",
     "output_type": "stream",
     "text": [
      "epoch: 6, [batch: 4704 / 6720], examples_per_second: 4010.9943, train_label_loss: 0.9528, \n"
     ]
    },
    {
     "name": "stdout",
     "output_type": "stream",
     "text": [
      "epoch: 6, [batch: 5376 / 6720], examples_per_second: 3995.2798, train_label_loss: 0.9197, \n"
     ]
    },
    {
     "name": "stdout",
     "output_type": "stream",
     "text": [
      "epoch: 6, [batch: 6048 / 6720], examples_per_second: 3901.4103, train_label_loss: 0.5220, \n"
     ]
    },
    {
     "name": "stdout",
     "output_type": "stream",
     "text": [
      "=============================================================\n",
      "epoch: 6, source_val_acc_label: 0.6781, target_val_acc_label: 0.9390, source_val_label_loss: 0.8950, target_val_label_loss: 0.2537, \n",
      "=============================================================\n"
     ]
    },
    {
     "name": "stdout",
     "output_type": "stream",
     "text": [
      "Patience (3) exhausted\n"
     ]
    }
   ],
   "source": [
    "###################################\n",
    "# train\n",
    "###################################\n",
    "jig = PTN_Train_Eval_Test_Jig(model, p.BEST_MODEL_PATH, p.device)\n",
    "\n",
    "jig.train(\n",
    "    train_iterable=datasets.source.processed.train,\n",
    "    source_val_iterable=datasets.source.processed.val,\n",
    "    target_val_iterable=datasets.target.processed.val,\n",
    "    num_epochs=p.n_epoch,\n",
    "    num_logs_per_epoch=p.NUM_LOGS_PER_EPOCH,\n",
    "    patience=p.patience,\n",
    "    optimizer=optimizer,\n",
    "    criteria_for_best=p.criteria_for_best,\n",
    ")"
   ]
  },
  {
   "cell_type": "code",
   "execution_count": 23,
   "id": "31e8fabf",
   "metadata": {
    "execution": {
     "iopub.execute_input": "2022-03-28T17:50:36.567836Z",
     "iopub.status.busy": "2022-03-28T17:50:36.567436Z",
     "iopub.status.idle": "2022-03-28T17:50:36.601610Z",
     "shell.execute_reply": "2022-03-28T17:50:36.600906Z"
    },
    "papermill": {
     "duration": 0.079411,
     "end_time": "2022-03-28T17:50:36.601774",
     "exception": false,
     "start_time": "2022-03-28T17:50:36.522363",
     "status": "completed"
    },
    "tags": []
   },
   "outputs": [],
   "source": [
    "total_experiment_time_secs = time.time() - start_time_secs"
   ]
  },
  {
   "cell_type": "code",
   "execution_count": 24,
   "id": "87b9595b",
   "metadata": {
    "execution": {
     "iopub.execute_input": "2022-03-28T17:50:36.695408Z",
     "iopub.status.busy": "2022-03-28T17:50:36.695014Z",
     "iopub.status.idle": "2022-03-28T17:53:09.829649Z",
     "shell.execute_reply": "2022-03-28T17:53:09.830162Z"
    },
    "papermill": {
     "duration": 153.182906,
     "end_time": "2022-03-28T17:53:09.830355",
     "exception": false,
     "start_time": "2022-03-28T17:50:36.647449",
     "status": "completed"
    },
    "tags": []
   },
   "outputs": [],
   "source": [
    "###################################\n",
    "# Evaluate the model\n",
    "###################################\n",
    "source_test_label_accuracy, source_test_label_loss = jig.test(datasets.source.processed.test)\n",
    "target_test_label_accuracy, target_test_label_loss = jig.test(datasets.target.processed.test)\n",
    "\n",
    "source_val_label_accuracy, source_val_label_loss = jig.test(datasets.source.processed.val)\n",
    "target_val_label_accuracy, target_val_label_loss = jig.test(datasets.target.processed.val)\n",
    "\n",
    "history = jig.get_history()\n",
    "\n",
    "total_epochs_trained = len(history[\"epoch_indices\"])\n",
    "\n",
    "val_dl = Iterable_Aggregator((datasets.source.original.val,datasets.target.original.val))\n",
    "\n",
    "confusion = ptn_confusion_by_domain_over_dataloader(model, p.device, val_dl)\n",
    "per_domain_accuracy = per_domain_accuracy_from_confusion(confusion)\n",
    "\n",
    "# Add a key to per_domain_accuracy for if it was a source domain\n",
    "for domain, accuracy in per_domain_accuracy.items():\n",
    "    per_domain_accuracy[domain] = {\n",
    "        \"accuracy\": accuracy,\n",
    "        \"source?\": domain in p.domains_source\n",
    "    }\n",
    "\n",
    "# Do an independent accuracy assesment JUST TO BE SURE!\n",
    "# _source_test_label_accuracy = independent_accuracy_assesment(model, datasets.source.processed.test, p.device)\n",
    "# _target_test_label_accuracy = independent_accuracy_assesment(model, datasets.target.processed.test, p.device)\n",
    "# _source_val_label_accuracy = independent_accuracy_assesment(model, datasets.source.processed.val, p.device)\n",
    "# _target_val_label_accuracy = independent_accuracy_assesment(model, datasets.target.processed.val, p.device)\n",
    "\n",
    "# assert(_source_test_label_accuracy == source_test_label_accuracy)\n",
    "# assert(_target_test_label_accuracy == target_test_label_accuracy)\n",
    "# assert(_source_val_label_accuracy == source_val_label_accuracy)\n",
    "# assert(_target_val_label_accuracy == target_val_label_accuracy)\n",
    "\n",
    "experiment = {\n",
    "    \"experiment_name\": p.experiment_name,\n",
    "    \"parameters\": dict(p),\n",
    "    \"results\": {\n",
    "        \"source_test_label_accuracy\": source_test_label_accuracy,\n",
    "        \"source_test_label_loss\": source_test_label_loss,\n",
    "        \"target_test_label_accuracy\": target_test_label_accuracy,\n",
    "        \"target_test_label_loss\": target_test_label_loss,\n",
    "        \"source_val_label_accuracy\": source_val_label_accuracy,\n",
    "        \"source_val_label_loss\": source_val_label_loss,\n",
    "        \"target_val_label_accuracy\": target_val_label_accuracy,\n",
    "        \"target_val_label_loss\": target_val_label_loss,\n",
    "        \"total_epochs_trained\": total_epochs_trained,\n",
    "        \"total_experiment_time_secs\": total_experiment_time_secs,\n",
    "        \"confusion\": confusion,\n",
    "        \"per_domain_accuracy\": per_domain_accuracy,\n",
    "    },\n",
    "    \"history\": history,\n",
    "    \"dataset_metrics\": get_dataset_metrics(datasets, \"ptn\"),\n",
    "}"
   ]
  },
  {
   "cell_type": "code",
   "execution_count": 25,
   "id": "54a21829",
   "metadata": {
    "execution": {
     "iopub.execute_input": "2022-03-28T17:53:09.923195Z",
     "iopub.status.busy": "2022-03-28T17:53:09.922768Z",
     "iopub.status.idle": "2022-03-28T17:53:10.149363Z",
     "shell.execute_reply": "2022-03-28T17:53:10.149999Z"
    },
    "papermill": {
     "duration": 0.274886,
     "end_time": "2022-03-28T17:53:10.150202",
     "exception": false,
     "start_time": "2022-03-28T17:53:09.875316",
     "status": "completed"
    },
    "tags": []
   },
   "outputs": [
    {
     "data": {
      "image/png": "[encoded data removed]",
      "text/plain": [
       "<Figure size 1080x504 with 1 Axes>"
      ]
     },
     "metadata": {
      "needs_background": "light"
     },
     "output_type": "display_data"
    }
   ],
   "source": [
    "ax = get_loss_curve(experiment)\n",
    "plt.show()"
   ]
  },
  {
   "cell_type": "code",
   "execution_count": 26,
   "id": "fd8a0f60",
   "metadata": {
    "execution": {
     "iopub.execute_input": "2022-03-28T17:53:10.253917Z",
     "iopub.status.busy": "2022-03-28T17:53:10.253267Z",
     "iopub.status.idle": "2022-03-28T17:53:10.600706Z",
     "shell.execute_reply": "2022-03-28T17:53:10.601197Z"
    },
    "papermill": {
     "duration": 0.398963,
     "end_time": "2022-03-28T17:53:10.601369",
     "exception": false,
     "start_time": "2022-03-28T17:53:10.202406",
     "status": "completed"
    },
    "tags": []
   },
   "outputs": [
    {
     "data": {
      "text/plain": [
       "<AxesSubplot:title={'center':'Results'}>"
      ]
     },
     "execution_count": 26,
     "metadata": {},
     "output_type": "execute_result"
    },
    {
     "data": {
      "image/png": "[encoded data removed]",
      "text/plain": [
       "<Figure size 1080x504 with 1 Axes>"
      ]
     },
     "metadata": {
      "needs_background": "light"
     },
     "output_type": "display_data"
    }
   ],
   "source": [
    "get_results_table(experiment)"
   ]
  },
  {
   "cell_type": "code",
   "execution_count": 27,
   "id": "cf8dc689",
   "metadata": {
    "execution": {
     "iopub.execute_input": "2022-03-28T17:53:10.698579Z",
     "iopub.status.busy": "2022-03-28T17:53:10.698176Z",
     "iopub.status.idle": "2022-03-28T17:53:10.948383Z",
     "shell.execute_reply": "2022-03-28T17:53:10.948858Z"
    },
    "papermill": {
     "duration": 0.299038,
     "end_time": "2022-03-28T17:53:10.949034",
     "exception": false,
     "start_time": "2022-03-28T17:53:10.649996",
     "status": "completed"
    },
    "tags": []
   },
   "outputs": [
    {
     "data": {
      "text/plain": [
       "<AxesSubplot:title={'center':'Per Domain Validation Accuracy'}, xlabel='domain'>"
      ]
     },
     "execution_count": 27,
     "metadata": {},
     "output_type": "execute_result"
    },
    {
     "data": {
      "image/png": "[encoded data removed]",
      "text/plain": [
       "<Figure size 1080x504 with 1 Axes>"
      ]
     },
     "metadata": {
      "needs_background": "light"
     },
     "output_type": "display_data"
    }
   ],
   "source": [
    "get_domain_accuracies(experiment)"
   ]
  },
  {
   "cell_type": "code",
   "execution_count": 28,
   "id": "a74ae082",
   "metadata": {
    "execution": {
     "iopub.execute_input": "2022-03-28T17:53:11.047490Z",
     "iopub.status.busy": "2022-03-28T17:53:11.046909Z",
     "iopub.status.idle": "2022-03-28T17:53:11.075733Z",
     "shell.execute_reply": "2022-03-28T17:53:11.074981Z"
    },
    "papermill": {
     "duration": 0.078805,
     "end_time": "2022-03-28T17:53:11.075911",
     "exception": false,
     "start_time": "2022-03-28T17:53:10.997106",
     "status": "completed"
    },
    "tags": []
   },
   "outputs": [
    {
     "name": "stdout",
     "output_type": "stream",
     "text": [
      "Source Test Label Accuracy: 0.6421549479166667 Target Test Label Accuracy: 0.9622881355932204\n",
      "Source Val Label Accuracy: 0.6389322916666667 Target Val Label Accuracy: 0.9615714285714285\n"
     ]
    }
   ],
   "source": [
    "print(\"Source Test Label Accuracy:\", experiment[\"results\"][\"source_test_label_accuracy\"], \"Target Test Label Accuracy:\", experiment[\"results\"][\"target_test_label_accuracy\"])\n",
    "print(\"Source Val Label Accuracy:\", experiment[\"results\"][\"source_val_label_accuracy\"], \"Target Val Label Accuracy:\", experiment[\"results\"][\"target_val_label_accuracy\"])"
   ]
  },
  {
   "cell_type": "code",
   "execution_count": 29,
   "id": "dacca602",
   "metadata": {
    "execution": {
     "iopub.execute_input": "2022-03-28T17:53:11.172437Z",
     "iopub.status.busy": "2022-03-28T17:53:11.172057Z",
     "iopub.status.idle": "2022-03-28T17:53:11.200277Z",
     "shell.execute_reply": "2022-03-28T17:53:11.200836Z"
    },
    "papermill": {
     "duration": 0.076079,
     "end_time": "2022-03-28T17:53:11.200987",
     "exception": false,
     "start_time": "2022-03-28T17:53:11.124908",
     "status": "completed"
    },
    "tags": [
     "experiment_json"
    ]
   },
   "outputs": [
    {
     "data": {
      "text/plain": [
       "'{\"experiment_name\": \"tl_3-jitter5v2:oracle.run1.framed -> cores\", \"parameters\": {\"experiment_name\": \"tl_3-jitter5v2:oracle.run1.framed -> cores\", \"device\": \"cuda\", \"lr\": 0.0001, \"x_shape\": [2, 256], \"n_shot\": 3, \"n_query\": 2, \"train_k_factor\": 3, \"val_k_factor\": 2, \"test_k_factor\": 2, \"torch_default_dtype\": \"torch.float32\", \"n_epoch\": 50, \"patience\": 3, \"criteria_for_best\": \"target_accuracy\", \"x_net\": [{\"class\": \"nnReshape\", \"kargs\": {\"shape\": [-1, 1, 2, 256]}}, {\"class\": \"Conv2d\", \"kargs\": {\"in_channels\": 1, \"out_channels\": 256, \"kernel_size\": [1, 7], \"bias\": false, \"padding\": [0, 3]}}, {\"class\": \"ReLU\", \"kargs\": {\"inplace\": true}}, {\"class\": \"BatchNorm2d\", \"kargs\": {\"num_features\": 256}}, {\"class\": \"Conv2d\", \"kargs\": {\"in_channels\": 256, \"out_channels\": 80, \"kernel_size\": [2, 7], \"bias\": true, \"padding\": [0, 3]}}, {\"class\": \"ReLU\", \"kargs\": {\"inplace\": true}}, {\"class\": \"BatchNorm2d\", \"kargs\": {\"num_features\": 80}}, {\"class\": \"Flatten\", \"kargs\": {}}, {\"class\": \"Linear\", \"kargs\": {\"in_features\": 20480, \"out_features\": 256}}, {\"class\": \"ReLU\", \"kargs\": {\"inplace\": true}}, {\"class\": \"BatchNorm1d\", \"kargs\": {\"num_features\": 256}}, {\"class\": \"Linear\", \"kargs\": {\"in_features\": 256, \"out_features\": 256}}], \"NUM_LOGS_PER_EPOCH\": 10, \"BEST_MODEL_PATH\": \"./best_model.pth\", \"n_way\": 16, \"datasets\": [{\"labels\": [\"1-10.\", \"1-11.\", \"1-15.\", \"1-16.\", \"1-17.\", \"1-18.\", \"1-19.\", \"10-4.\", \"10-7.\", \"11-1.\", \"11-14.\", \"11-17.\", \"11-20.\", \"11-7.\", \"13-20.\", \"13-8.\", \"14-10.\", \"14-11.\", \"14-14.\", \"14-7.\", \"15-1.\", \"15-20.\", \"16-1.\", \"16-16.\", \"17-10.\", \"17-11.\", \"17-2.\", \"19-1.\", \"19-16.\", \"19-19.\", \"19-20.\", \"19-3.\", \"2-10.\", \"2-11.\", \"2-17.\", \"2-18.\", \"2-20.\", \"2-3.\", \"2-4.\", \"2-5.\", \"2-6.\", \"2-7.\", \"2-8.\", \"3-13.\", \"3-18.\", \"3-3.\", \"4-1.\", \"4-10.\", \"4-11.\", \"4-19.\", \"5-5.\", \"6-15.\", \"7-10.\", \"7-14.\", \"8-18.\", \"8-20.\", \"8-3.\", \"8-8.\"], \"domains\": [1, 2, 3, 4, 5], \"num_examples_per_domain_per_label\": -1, \"pickle_path\": \"/root/csc500-main/datasets/cores.stratified_ds.2022A.pkl\", \"source_or_target_dataset\": \"target\", \"x_transforms\": [\"unit_mag\", \"jitter_256_5\", \"lowpass_+/-10MHz\", \"take_200\"], \"episode_transforms\": [], \"domain_prefix\": \"C_\"}, {\"labels\": [\"3123D52\", \"3123D65\", \"3123D79\", \"3123D80\", \"3123D54\", \"3123D70\", \"3123D7B\", \"3123D89\", \"3123D58\", \"3123D76\", \"3123D7D\", \"3123EFE\", \"3123D64\", \"3123D78\", \"3123D7E\", \"3124E4A\"], \"domains\": [32, 38, 8, 44, 14, 50, 20, 26], \"num_examples_per_domain_per_label\": 2000, \"pickle_path\": \"/root/csc500-main/datasets/oracle.Run1_framed_2000Examples_stratified_ds.2022A.pkl\", \"source_or_target_dataset\": \"source\", \"x_transforms\": [\"unit_mag\", \"jitter_256_5\", \"take_200\", \"resample_20Msps_to_25Msps\"], \"episode_transforms\": [], \"domain_prefix\": \"O_\"}], \"seed\": 7, \"dataset_seed\": 7, \"domains_source\": [\"O_32\", \"O_38\", \"O_8\", \"O_44\", \"O_14\", \"O_50\", \"O_20\", \"O_26\"], \"domains_target\": [\"C_1\", \"C_2\", \"C_3\", \"C_4\", \"C_5\"]}, \"results\": {\"source_test_label_accuracy\": 0.6421549479166667, \"source_test_label_loss\": 0.9528277516365051, \"target_test_label_accuracy\": 0.9622881355932204, \"target_test_label_loss\": 0.15606795251369476, \"source_val_label_accuracy\": 0.6389322916666667, \"source_val_label_loss\": 0.9599068760871887, \"target_val_label_accuracy\": 0.9615714285714285, \"target_val_label_loss\": 0.14682509005069733, \"total_epochs_trained\": 6, \"total_experiment_time_secs\": 1312.9069683551788, \"confusion\": {\"O_26\": {\"0\": {\"4\": 41, \"1\": 19, \"10\": 39, \"8\": 26, \"14\": 48, \"0\": 56, \"7\": 8, \"9\": 2, \"6\": 1}, \"4\": {\"8\": 14, \"0\": 34, \"10\": 12, \"4\": 79, \"7\": 14, \"14\": 45, \"1\": 41, \"15\": 1}, \"14\": {\"8\": 7, \"4\": 55, \"14\": 58, \"1\": 51, \"0\": 48, \"10\": 16, \"7\": 4, \"9\": 1}, \"12\": {\"12\": 240}, \"8\": {\"7\": 27, \"10\": 30, \"8\": 74, \"9\": 24, \"4\": 18, \"15\": 15, \"6\": 10, \"14\": 12, \"0\": 23, \"1\": 2, \"3\": 2, \"2\": 3}, \"7\": {\"7\": 141, \"5\": 1, \"4\": 22, \"3\": 30, \"8\": 12, \"2\": 19, \"15\": 1, \"0\": 4, \"1\": 6, \"14\": 3, \"10\": 1}, \"13\": {\"13\": 156, \"5\": 55, \"2\": 9, \"15\": 8, \"6\": 4, \"9\": 8}, \"5\": {\"15\": 51, \"9\": 22, \"5\": 107, \"13\": 37, \"2\": 19, \"8\": 2, \"3\": 2}, \"15\": {\"5\": 42, \"15\": 76, \"9\": 64, \"13\": 13, \"8\": 19, \"7\": 7, \"2\": 8, \"10\": 3, \"6\": 5, \"3\": 2, \"0\": 1}, \"10\": {\"6\": 28, \"0\": 38, \"8\": 34, \"4\": 14, \"10\": 93, \"14\": 23, \"9\": 4, \"7\": 1, \"1\": 4, \"15\": 1}, \"3\": {\"3\": 148, \"2\": 58, \"7\": 31, \"8\": 2, \"5\": 1}, \"9\": {\"9\": 98, \"15\": 64, \"13\": 8, \"8\": 22, \"5\": 12, \"2\": 3, \"0\": 1, \"6\": 25, \"7\": 4, \"10\": 3}, \"6\": {\"6\": 158, \"8\": 12, \"9\": 21, \"10\": 31, \"0\": 3, \"15\": 10, \"13\": 3, \"14\": 1, \"5\": 1}, \"1\": {\"10\": 6, \"1\": 88, \"4\": 62, \"14\": 46, \"0\": 19, \"7\": 10, \"8\": 8, \"2\": 1}, \"11\": {\"11\": 234, \"12\": 6}, \"2\": {\"5\": 30, \"15\": 14, \"13\": 2, \"3\": 74, \"2\": 85, \"7\": 27, \"8\": 6, \"9\": 2}}, \"O_44\": {\"1\": {\"1\": 119, \"12\": 51, \"3\": 32, \"10\": 26, \"2\": 12}, \"11\": {\"11\": 177, \"13\": 35, \"6\": 28}, \"3\": {\"3\": 213, \"1\": 24, \"2\": 2, \"12\": 1}, \"6\": {\"6\": 157, \"9\": 19, \"11\": 20, \"13\": 31, \"7\": 12, \"2\": 1}, \"7\": {\"7\": 157, \"9\": 35, \"6\": 8, \"2\": 38, \"3\": 2}, \"5\": {\"5\": 199, \"0\": 16, \"15\": 10, \"8\": 4, \"14\": 11}, \"2\": {\"1\": 9, \"2\": 172, \"7\": 34, \"10\": 25}, \"15\": {\"15\": 155, \"14\": 39, \"0\": 19, \"4\": 1, \"8\": 11, \"5\": 15}, \"10\": {\"10\": 160, \"1\": 33, \"2\": 22, \"3\": 1, \"12\": 24}, \"13\": {\"11\": 35, \"13\": 136, \"6\": 34, \"9\": 26, \"4\": 4, \"7\": 5}, \"8\": {\"0\": 91, \"8\": 134, \"15\": 13, \"5\": 2}, \"4\": {\"4\": 166, \"14\": 68, \"15\": 3, \"9\": 1, \"13\": 1, \"5\": 1}, \"9\": {\"11\": 1, \"9\": 125, \"13\": 29, \"7\": 55, \"6\": 28, \"2\": 1, \"3\": 1}, \"14\": {\"4\": 89, \"14\": 117, \"5\": 11, \"0\": 2, \"15\": 21}, \"0\": {\"0\": 132, \"8\": 72, \"5\": 27, \"15\": 9}, \"12\": {\"10\": 27, \"12\": 165, \"1\": 45, \"3\": 3}}, \"O_50\": {\"15\": {\"15\": 151, \"4\": 26, \"1\": 51, \"11\": 12}, \"4\": {\"6\": 37, \"4\": 67, \"15\": 65, \"1\": 40, \"2\": 1, \"13\": 5, \"7\": 6, \"5\": 18, \"0\": 1}, \"6\": {\"1\": 24, \"6\": 112, \"4\": 39, \"13\": 26, \"7\": 2, \"5\": 33, \"0\": 3, \"10\": 1}, \"2\": {\"2\": 215, \"0\": 24, \"6\": 1}, \"5\": {\"7\": 53, \"5\": 61, \"6\": 49, \"13\": 46, \"10\": 5, \"4\": 20, \"1\": 4, \"15\": 2}, \"9\": {\"9\": 180, \"11\": 35, \"12\": 25}, \"8\": {\"8\": 228, \"3\": 7, \"10\": 5}, \"12\": {\"14\": 11, \"12\": 203, \"9\": 23, \"11\": 3}, \"10\": {\"0\": 7, \"10\": 207, \"8\": 6, \"7\": 13, \"13\": 6, \"5\": 1}, \"1\": {\"4\": 43, \"6\": 28, \"1\": 115, \"15\": 48, \"2\": 2, \"5\": 3, \"14\": 1}, \"0\": {\"0\": 198, \"2\": 25, \"10\": 13, \"13\": 4}, \"3\": {\"3\": 235, \"8\": 5}, \"13\": {\"13\": 122, \"5\": 44, \"6\": 20, \"7\": 49, \"4\": 3, \"10\": 1, \"0\": 1}, \"11\": {\"11\": 205, \"9\": 21, \"15\": 5, \"14\": 8, \"12\": 1}, \"7\": {\"7\": 146, \"5\": 40, \"10\": 15, \"13\": 39}, \"14\": {\"14\": 228, \"12\": 9, \"11\": 2, \"9\": 1}}, \"O_38\": {\"15\": {\"8\": 13, \"15\": 115, \"10\": 12, \"13\": 81, \"5\": 5, \"1\": 13, \"0\": 1}, \"11\": {\"14\": 67, \"11\": 166, \"12\": 4, \"10\": 2, \"2\": 1}, \"10\": {\"10\": 154, \"12\": 26, \"14\": 3, \"13\": 16, \"0\": 6, \"15\": 12, \"8\": 17, \"2\": 4, \"5\": 1, \"11\": 1}, \"14\": {\"11\": 72, \"14\": 149, \"2\": 16, \"10\": 3}, \"6\": {\"6\": 158, \"5\": 10, \"9\": 71, \"3\": 1}, \"4\": {\"4\": 212, \"12\": 28}, \"13\": {\"13\": 103, \"15\": 83, \"10\": 23, \"8\": 7, \"1\": 8, \"2\": 15, \"5\": 1}, \"3\": {\"9\": 34, \"3\": 189, \"5\": 4, \"6\": 5, \"7\": 6, \"0\": 2}, \"7\": {\"0\": 62, \"7\": 158, \"5\": 11, \"8\": 5, \"3\": 4}, \"8\": {\"8\": 133, \"7\": 10, \"5\": 43, \"0\": 36, \"10\": 8, \"15\": 7, \"13\": 3}, \"1\": {\"1\": 217, \"13\": 4, \"15\": 18, \"8\": 1}, \"5\": {\"5\": 73, \"8\": 77, \"1\": 7, \"6\": 10, \"7\": 17, \"0\": 33, \"10\": 3, \"13\": 3, \"15\": 6, \"3\": 8, \"9\": 3}, \"0\": {\"7\": 62, \"3\": 8, \"8\": 67, \"5\": 36, \"0\": 56, \"10\": 5, \"15\": 3, \"9\": 2, \"6\": 1}, \"2\": {\"2\": 216, \"14\": 22, \"13\": 2}, \"12\": {\"12\": 210, \"10\": 12, \"4\": 17, \"14\": 1}, \"9\": {\"6\": 99, \"9\": 113, \"3\": 23, \"5\": 4, \"7\": 1}}, \"O_20\": {\"10\": {\"8\": 22, \"14\": 55, \"10\": 154, \"4\": 9}, \"7\": {\"6\": 2, \"7\": 139, \"9\": 24, \"2\": 40, \"8\": 15, \"10\": 3, \"3\": 13, \"12\": 2, \"4\": 2}, \"4\": {\"4\": 181, \"8\": 34, \"10\": 9, \"3\": 11, \"12\": 4, \"0\": 1}, \"13\": {\"13\": 207, \"2\": 9, \"9\": 5, \"15\": 10, \"12\": 6, \"7\": 1, \"1\": 2}, \"1\": {\"15\": 49, \"0\": 51, \"1\": 70, \"5\": 29, \"12\": 33, \"13\": 4, \"9\": 2, \"3\": 1, \"2\": 1}, \"0\": {\"15\": 40, \"0\": 75, \"5\": 42, \"3\": 14, \"12\": 21, \"1\": 43, \"9\": 2, \"4\": 3}, \"12\": {\"0\": 14, \"9\": 30, \"12\": 79, \"5\": 31, \"3\": 46, \"2\": 7, \"15\": 6, \"1\": 24, \"4\": 2, \"7\": 1}, \"5\": {\"0\": 57, \"12\": 36, \"4\": 1, \"5\": 97, \"15\": 9, \"9\": 1, \"1\": 31, \"3\": 8}, \"6\": {\"6\": 208, \"10\": 5, \"14\": 23, \"8\": 3, \"7\": 1}, \"2\": {\"9\": 60, \"3\": 16, \"2\": 88, \"7\": 35, \"0\": 4, \"13\": 24, \"15\": 2, \"12\": 8, \"1\": 2, \"5\": 1}, \"8\": {\"8\": 127, \"7\": 14, \"4\": 51, \"3\": 6, \"10\": 31, \"6\": 3, \"14\": 7, \"2\": 1}, \"11\": {\"11\": 240}, \"9\": {\"7\": 25, \"1\": 2, \"2\": 72, \"12\": 21, \"3\": 29, \"9\": 79, \"13\": 7, \"5\": 2, \"15\": 2, \"0\": 1}, \"14\": {\"10\": 44, \"14\": 160, \"6\": 31, \"8\": 5}, \"15\": {\"1\": 54, \"15\": 123, \"13\": 6, \"0\": 46, \"12\": 7, \"5\": 3, \"2\": 1}, \"3\": {\"3\": 75, \"12\": 46, \"4\": 21, \"5\": 11, \"9\": 32, \"8\": 15, \"7\": 10, \"1\": 12, \"2\": 13, \"0\": 5}}, \"O_14\": {\"14\": {\"14\": 168, \"13\": 33, \"2\": 13, \"3\": 6, \"6\": 20}, \"0\": {\"0\": 158, \"10\": 64, \"3\": 10, \"9\": 1, \"11\": 7}, \"4\": {\"5\": 40, \"4\": 156, \"3\": 26, \"13\": 3, \"2\": 8, \"1\": 7}, \"11\": {\"11\": 197, \"9\": 18, \"10\": 12, \"0\": 13}, \"13\": {\"6\": 93, \"13\": 49, \"14\": 69, \"2\": 19, \"3\": 2, \"15\": 4, \"5\": 4}, \"9\": {\"9\": 237, \"11\": 1, \"12\": 2}, \"3\": {\"4\": 19, \"3\": 204, \"2\": 10, \"5\": 1, \"14\": 3, \"0\": 2, \"13\": 1}, \"6\": {\"6\": 120, \"13\": 71, \"14\": 30, \"2\": 19}, \"1\": {\"1\": 212, \"4\": 5, \"5\": 23}, \"5\": {\"4\": 58, \"5\": 148, \"1\": 25, \"2\": 7, \"3\": 2}, \"12\": {\"12\": 236, \"9\": 4}, \"10\": {\"10\": 196, \"0\": 43, \"14\": 1}, \"8\": {\"8\": 240}, \"7\": {\"7\": 214, \"15\": 26}, \"15\": {\"15\": 210, \"7\": 30}, \"2\": {\"2\": 104, \"14\": 38, \"6\": 33, \"13\": 17, \"5\": 25, \"3\": 11, \"4\": 7, \"15\": 5}}, \"O_32\": {\"11\": {\"14\": 51, \"11\": 175, \"7\": 10, \"5\": 1, \"13\": 3}, \"1\": {\"1\": 237, \"10\": 3}, \"2\": {\"2\": 189, \"0\": 15, \"4\": 30, \"14\": 2, \"5\": 2, \"7\": 2}, \"0\": {\"0\": 102, \"4\": 58, \"5\": 14, \"7\": 13, \"8\": 25, \"2\": 23, \"14\": 3, \"13\": 2}, \"3\": {\"3\": 224, \"13\": 7, \"11\": 1, \"5\": 6, \"8\": 2}, \"8\": {\"8\": 168, \"0\": 14, \"5\": 29, \"13\": 22, \"3\": 3, \"15\": 1, \"4\": 2, \"7\": 1}, \"12\": {\"12\": 240}, \"5\": {\"13\": 62, \"5\": 62, \"4\": 14, \"3\": 11, \"7\": 28, \"8\": 22, \"0\": 22, \"11\": 4, \"14\": 13, \"2\": 2}, \"15\": {\"15\": 235, \"3\": 3, \"8\": 2}, \"7\": {\"14\": 50, \"0\": 6, \"7\": 89, \"5\": 31, \"2\": 4, \"13\": 19, \"11\": 9, \"4\": 32}, \"4\": {\"2\": 42, \"4\": 91, \"0\": 56, \"7\": 22, \"5\": 12, \"14\": 4, \"8\": 6, \"13\": 7}, \"14\": {\"7\": 58, \"2\": 5, \"14\": 72, \"11\": 66, \"13\": 13, \"8\": 2, \"5\": 11, \"0\": 2, \"4\": 9, \"3\": 2}, \"10\": {\"10\": 239, \"1\": 1}, \"6\": {\"6\": 240}, \"13\": {\"13\": 70, \"3\": 20, \"8\": 36, \"7\": 20, \"14\": 11, \"5\": 57, \"0\": 14, \"4\": 10, \"11\": 2}, \"9\": {\"9\": 239, \"12\": 1}}, \"O_8\": {\"9\": {\"9\": 240}, \"11\": {\"1\": 100, \"11\": 121, \"5\": 15, \"4\": 2, \"8\": 1, \"14\": 1}, \"8\": {\"8\": 230, \"15\": 8, \"4\": 1, \"7\": 1}, \"4\": {\"4\": 122, \"14\": 36, \"13\": 39, \"0\": 4, \"7\": 3, \"10\": 12, \"6\": 24}, \"13\": {\"13\": 82, \"6\": 17, \"4\": 53, \"14\": 18, \"0\": 55, \"10\": 14, \"7\": 1}, \"14\": {\"14\": 103, \"4\": 43, \"10\": 64, \"13\": 13, \"1\": 11, \"11\": 4, \"6\": 1, \"5\": 1}, \"2\": {\"3\": 44, \"2\": 181, \"15\": 5, \"7\": 7, \"12\": 2, \"6\": 1}, \"3\": {\"3\": 193, \"2\": 26, \"12\": 20, \"15\": 1}, \"1\": {\"11\": 70, \"1\": 155, \"5\": 9, \"14\": 6}, \"0\": {\"13\": 42, \"0\": 161, \"7\": 22, \"6\": 6, \"4\": 7, \"10\": 2}, \"5\": {\"5\": 200, \"1\": 21, \"10\": 13, \"11\": 3, \"14\": 3}, \"15\": {\"12\": 40, \"15\": 184, \"7\": 1, \"8\": 14, \"3\": 1}, \"10\": {\"14\": 66, \"10\": 145, \"4\": 10, \"13\": 13, \"0\": 2, \"5\": 4}, \"12\": {\"12\": 123, \"15\": 74, \"3\": 40, \"8\": 3}, \"6\": {\"0\": 10, \"6\": 122, \"13\": 15, \"4\": 30, \"7\": 61, \"14\": 1, \"8\": 1}, \"7\": {\"7\": 173, \"0\": 15, \"13\": 3, \"6\": 47, \"8\": 1, \"4\": 1}}, \"C_5\": {\"26\": {\"26\": 24}, \"7\": {\"7\": 32}, \"56\": {\"56\": 142}, \"36\": {\"36\": 90, \"57\": 1, \"40\": 1}, \"47\": {\"47\": 100}, \"2\": {\"2\": 26, \"35\": 2}, \"15\": {\"15\": 152}, \"14\": {\"36\": 2, \"14\": 15, \"47\": 3, \"35\": 2, \"57\": 7, \"33\": 1, \"46\": 3, \"56\": 2, \"49\": 4, \"3\": 2, \"54\": 1, \"31\": 2}, \"27\": {\"27\": 146}, \"40\": {\"40\": 122, \"5\": 2}, \"49\": {\"49\": 36}, \"45\": {\"27\": 21, \"45\": 83, \"33\": 1, \"55\": 4, \"9\": 11, \"48\": 3, \"1\": 1}, \"46\": {\"46\": 130, \"3\": 6}, \"11\": {\"11\": 129, \"43\": 1}, \"30\": {\"30\": 106, \"17\": 6}, \"0\": {\"0\": 122, \"35\": 1, \"56\": 1}, \"10\": {\"10\": 67, \"24\": 1}, \"1\": {\"1\": 148}, \"42\": {\"42\": 38, \"2\": 1, \"0\": 1}, \"54\": {\"54\": 112}, \"55\": {\"55\": 144, \"48\": 8}, \"23\": {\"23\": 124}, \"25\": {\"25\": 139, \"8\": 12, \"53\": 1}, \"28\": {\"28\": 32}, \"32\": {\"32\": 32}, \"9\": {\"9\": 139, \"48\": 2, \"27\": 1}, \"39\": {\"39\": 20}, \"3\": {\"46\": 8, \"3\": 91, \"31\": 1}, \"29\": {\"29\": 116, \"44\": 2}, \"17\": {\"17\": 108, \"30\": 6, \"26\": 2}, \"35\": {\"35\": 32, \"0\": 1, \"2\": 3}, \"44\": {\"44\": 152}, \"5\": {\"5\": 127, \"19\": 1}, \"33\": {\"33\": 32}, \"34\": {\"33\": 1, \"34\": 35}, \"13\": {\"15\": 3, \"13\": 132, \"11\": 2, \"24\": 1}, \"41\": {\"41\": 28}, \"6\": {\"6\": 121, \"8\": 4, \"1\": 2, \"55\": 1}, \"51\": {\"51\": 137, \"53\": 1}, \"50\": {\"50\": 116, \"20\": 24, \"25\": 2, \"51\": 2}, \"37\": {\"37\": 24}, \"19\": {\"19\": 140, \"5\": 4}, \"57\": {\"57\": 132}, \"21\": {\"21\": 144}, \"24\": {\"24\": 80}, \"8\": {\"8\": 130}, \"12\": {\"12\": 96}, \"48\": {\"48\": 128, \"55\": 4}, \"43\": {\"43\": 150}, \"53\": {\"53\": 146, \"25\": 2}, \"38\": {\"38\": 32}, \"16\": {\"16\": 141, \"52\": 1}, \"22\": {\"22\": 28}, \"4\": {\"4\": 100}, \"18\": {\"18\": 64}, \"20\": {\"50\": 10, \"20\": 134}, \"52\": {\"52\": 140}, \"31\": {\"31\": 36}}, \"C_1\": {\"41\": {\"41\": 23, \"13\": 1}, \"40\": {\"40\": 110}, \"45\": {\"45\": 138}, \"51\": {\"51\": 145, \"13\": 2, \"20\": 1}, \"5\": {\"5\": 150, \"8\": 1, \"6\": 3}, \"30\": {\"30\": 115, \"9\": 5}, \"42\": {\"45\": 2, \"42\": 38}, \"46\": {\"46\": 133, \"53\": 3}, \"48\": {\"48\": 128, \"6\": 3, \"50\": 3}, \"53\": {\"53\": 144}, \"47\": {\"47\": 152}, \"49\": {\"49\": 32}, \"36\": {\"36\": 64}, \"32\": {\"32\": 32}, \"34\": {\"34\": 24}, \"29\": {\"29\": 140}, \"35\": {\"35\": 36}, \"3\": {\"3\": 109, \"12\": 24, \"20\": 1}, \"16\": {\"16\": 140}, \"26\": {\"26\": 24}, \"57\": {\"57\": 125, \"1\": 14, \"19\": 5}, \"44\": {\"44\": 126, \"35\": 2}, \"0\": {\"0\": 145, \"23\": 7}, \"4\": {\"4\": 132}, \"31\": {\"31\": 27, \"15\": 1}, \"11\": {\"11\": 138, \"28\": 1, \"52\": 1}, \"6\": {\"6\": 94, \"48\": 1, \"5\": 1}, \"54\": {\"54\": 96, \"55\": 8}, \"17\": {\"17\": 63, \"2\": 1}, \"20\": {\"20\": 127, \"51\": 1}, \"13\": {\"13\": 148, \"51\": 2}, \"33\": {\"33\": 32}, \"24\": {\"52\": 7, \"24\": 89, \"22\": 9, \"21\": 2, \"10\": 1}, \"52\": {\"52\": 112, \"22\": 11, \"24\": 6, \"10\": 2, \"11\": 1}, \"2\": {\"2\": 33, \"17\": 3}, \"19\": {\"19\": 137, \"57\": 11, \"1\": 8}, \"39\": {\"39\": 28}, \"8\": {\"8\": 140}, \"21\": {\"21\": 110, \"23\": 1, \"15\": 12, \"24\": 1}, \"10\": {\"10\": 88, \"22\": 3, \"52\": 5}, \"37\": {\"37\": 32}, \"25\": {\"25\": 142, \"14\": 1, \"18\": 1}, \"27\": {\"27\": 130}, \"23\": {\"23\": 130, \"0\": 5, \"49\": 1}, \"1\": {\"1\": 93, \"57\": 5, \"19\": 2}, \"50\": {\"50\": 152}, \"12\": {\"12\": 97, \"3\": 19}, \"18\": {\"18\": 72}, \"38\": {\"38\": 24}, \"14\": {\"37\": 2, \"30\": 2, \"25\": 1, \"45\": 2, \"9\": 3, \"14\": 6, \"18\": 3, \"7\": 2, \"53\": 2, \"5\": 1}, \"56\": {\"56\": 142}, \"55\": {\"54\": 7, \"55\": 152, \"42\": 1}, \"9\": {\"9\": 137, \"30\": 1}, \"15\": {\"15\": 145, \"23\": 1}, \"28\": {\"28\": 26, \"22\": 1, \"24\": 1}, \"7\": {\"7\": 28}, \"43\": {\"43\": 136}, \"22\": {\"10\": 1, \"22\": 108, \"11\": 7, \"28\": 2, \"24\": 7, \"52\": 11}}, \"C_3\": {\"1\": {\"1\": 95, \"35\": 3, \"57\": 2}, \"9\": {\"9\": 124}, \"22\": {\"22\": 133, \"14\": 1, \"0\": 2}, \"43\": {\"43\": 136}, \"49\": {\"49\": 20}, \"50\": {\"50\": 120, \"20\": 13, \"6\": 2, \"25\": 1, \"18\": 1, \"46\": 1}, \"53\": {\"53\": 135, \"12\": 1}, \"10\": {\"10\": 64}, \"48\": {\"48\": 114, \"27\": 2}, \"8\": {\"8\": 138}, \"31\": {\"31\": 28}, \"56\": {\"56\": 134}, \"25\": {\"25\": 116, \"8\": 18, \"50\": 7, \"36\": 1}, \"28\": {\"28\": 28}, \"38\": {\"38\": 27, \"50\": 1}, \"5\": {\"5\": 116}, \"12\": {\"12\": 91, \"8\": 1}, \"6\": {\"25\": 3, \"6\": 62, \"41\": 2, \"18\": 14, \"23\": 3, \"46\": 3, \"3\": 1}, \"19\": {\"19\": 152}, \"26\": {\"26\": 24}, \"32\": {\"32\": 28}, \"33\": {\"33\": 28}, \"3\": {\"3\": 111, \"46\": 2, \"20\": 2, \"52\": 3}, \"51\": {\"51\": 128}, \"16\": {\"16\": 137, \"46\": 1}, \"46\": {\"46\": 123, \"52\": 9, \"3\": 2, \"16\": 4, \"15\": 1, \"23\": 1}, \"7\": {\"7\": 33, \"43\": 3}, \"47\": {\"47\": 89, \"55\": 2, \"48\": 1}, \"39\": {\"39\": 16}, \"40\": {\"40\": 136}, \"14\": {\"35\": 7, \"14\": 13, \"0\": 1, \"29\": 2, \"56\": 5, \"57\": 5, \"34\": 2, \"22\": 5}, \"37\": {\"37\": 28}, \"2\": {\"2\": 32}, \"21\": {\"21\": 120}, \"35\": {\"35\": 28}, \"54\": {\"54\": 100}, \"52\": {\"52\": 110, \"46\": 6}, \"29\": {\"29\": 118}, \"20\": {\"20\": 128, \"50\": 4}, \"18\": {\"18\": 82, \"41\": 1, \"6\": 1}, \"11\": {\"11\": 142}, \"0\": {\"0\": 124}, \"36\": {\"36\": 100}, \"17\": {\"17\": 107, \"54\": 1}, \"30\": {\"30\": 114}, \"42\": {\"42\": 28}, \"45\": {\"45\": 55, \"4\": 4, \"27\": 1}, \"4\": {\"4\": 147, \"45\": 1}, \"23\": {\"23\": 134}, \"13\": {\"13\": 128}, \"15\": {\"15\": 127, \"18\": 1}, \"57\": {\"57\": 123, \"35\": 1}, \"27\": {\"27\": 134}, \"44\": {\"44\": 88}, \"34\": {\"34\": 28, \"1\": 1, \"28\": 2, \"14\": 1}, \"41\": {\"41\": 28}, \"24\": {\"24\": 104}, \"55\": {\"55\": 117, \"47\": 1}}, \"C_4\": {\"52\": {\"52\": 114, \"31\": 2}, \"6\": {\"6\": 103, \"31\": 1, \"51\": 6, \"3\": 1, \"16\": 1}, \"14\": {\"14\": 11, \"29\": 3, \"1\": 1, \"35\": 1}, \"49\": {\"49\": 19, \"32\": 1}, \"0\": {\"0\": 80}, \"46\": {\"46\": 147, \"32\": 6, \"5\": 2, \"22\": 1}, \"41\": {\"41\": 36}, \"24\": {\"24\": 54, \"43\": 1, \"7\": 1}, \"25\": {\"25\": 135, \"3\": 3, \"21\": 1, \"50\": 2, \"8\": 7, \"36\": 3, \"20\": 1}, \"40\": {\"40\": 138}, \"38\": {\"0\": 2, \"38\": 38}, \"13\": {\"13\": 147, \"10\": 5}, \"9\": {\"9\": 108}, \"45\": {\"45\": 95, \"9\": 1}, \"43\": {\"43\": 144}, \"10\": {\"10\": 129, \"13\": 1}, \"15\": {\"15\": 126, \"16\": 1, \"52\": 1}, \"39\": {\"39\": 20}, \"4\": {\"4\": 132}, \"53\": {\"53\": 130, \"51\": 1, \"50\": 1}, \"1\": {\"1\": 39, \"55\": 1}, \"28\": {\"28\": 32}, \"54\": {\"54\": 104, \"48\": 4}, \"21\": {\"21\": 128, \"50\": 4}, \"7\": {\"7\": 22, \"32\": 1, \"18\": 1}, \"8\": {\"8\": 136}, \"42\": {\"42\": 32}, \"11\": {\"11\": 101, \"5\": 1, \"15\": 2}, \"33\": {\"33\": 36}, \"27\": {\"27\": 140, \"17\": 2}, \"19\": {\"19\": 139, \"44\": 5}, \"2\": {\"2\": 36}, \"3\": {\"3\": 96, \"25\": 3, \"36\": 8, \"20\": 13}, \"57\": {\"57\": 96, \"35\": 4}, \"20\": {\"20\": 105, \"3\": 5, \"25\": 2}, \"23\": {\"23\": 127, \"18\": 1}, \"22\": {\"22\": 127, \"43\": 1}, \"29\": {\"29\": 124}, \"36\": {\"36\": 80, \"3\": 9, \"8\": 1, \"20\": 1, \"21\": 1}, \"51\": {\"51\": 132}, \"31\": {\"31\": 26, \"52\": 2}, \"12\": {\"12\": 92}, \"56\": {\"56\": 138}, \"5\": {\"5\": 106, \"23\": 1, \"46\": 1}, \"35\": {\"35\": 35, \"57\": 4, \"55\": 1}, \"17\": {\"17\": 75, \"27\": 5}, \"32\": {\"32\": 22, \"49\": 1, \"46\": 1}, \"47\": {\"47\": 120}, \"18\": {\"18\": 106, \"46\": 1, \"23\": 1}, \"26\": {\"54\": 2, \"26\": 22}, \"50\": {\"21\": 10, \"50\": 97, \"53\": 4, \"8\": 2, \"25\": 8, \"51\": 1}, \"55\": {\"55\": 124}, \"34\": {\"34\": 24}, \"30\": {\"30\": 43, \"8\": 1}, \"37\": {\"37\": 24}, \"44\": {\"44\": 123, \"19\": 9}, \"48\": {\"48\": 112, \"17\": 1, \"28\": 2, \"54\": 2, \"27\": 1}, \"16\": {\"16\": 96}}, \"C_2\": {\"11\": {\"11\": 130}, \"21\": {\"21\": 120}, \"19\": {\"19\": 140}, \"20\": {\"20\": 109, \"53\": 17, \"12\": 2}, \"9\": {\"9\": 135, \"40\": 5}, \"10\": {\"10\": 112}, \"37\": {\"37\": 36}, \"32\": {\"32\": 28}, \"3\": {\"3\": 88, \"21\": 2, \"52\": 1, \"51\": 1}, \"39\": {\"39\": 28}, \"45\": {\"45\": 120, \"9\": 3, \"4\": 4, \"40\": 1}, \"50\": {\"50\": 124, \"6\": 9, \"25\": 3}, \"40\": {\"40\": 131, \"9\": 8, \"4\": 1}, \"46\": {\"46\": 98, \"52\": 11, \"16\": 8, \"15\": 7, \"3\": 1, \"7\": 1, \"6\": 2}, \"12\": {\"12\": 90, \"20\": 2}, \"13\": {\"13\": 116}, \"47\": {\"47\": 132}, \"15\": {\"15\": 142}, \"54\": {\"54\": 108}, \"48\": {\"48\": 148}, \"23\": {\"23\": 142}, \"29\": {\"29\": 128}, \"38\": {\"38\": 20}, \"53\": {\"53\": 117, \"20\": 19}, \"27\": {\"27\": 150}, \"43\": {\"43\": 144}, \"35\": {\"35\": 32}, \"0\": {\"0\": 48}, \"52\": {\"52\": 116, \"16\": 5, \"46\": 2, \"6\": 1}, \"8\": {\"8\": 126, \"25\": 2}, \"24\": {\"10\": 4, \"24\": 90, \"38\": 2}, \"18\": {\"18\": 46, \"30\": 2}, \"25\": {\"8\": 30, \"36\": 3, \"25\": 111, \"50\": 2, \"6\": 2}, \"57\": {\"57\": 130, \"55\": 5, \"1\": 1}, \"55\": {\"57\": 13, \"55\": 109, \"1\": 12}, \"36\": {\"36\": 116}, \"17\": {\"17\": 103, \"32\": 1}, \"2\": {\"2\": 32}, \"34\": {\"34\": 27, \"48\": 1}, \"1\": {\"1\": 92, \"57\": 6, \"14\": 1, \"55\": 13}, \"51\": {\"51\": 136}, \"31\": {\"31\": 28}, \"49\": {\"49\": 24}, \"14\": {\"55\": 3, \"14\": 12, \"29\": 3, \"0\": 2, \"56\": 3, \"1\": 1}, \"33\": {\"33\": 28}, \"41\": {\"41\": 17, \"30\": 2, \"18\": 1}, \"28\": {\"28\": 27, \"23\": 1}, \"5\": {\"5\": 120}, \"16\": {\"16\": 150}, \"4\": {\"4\": 128}, \"22\": {\"22\": 136}, \"6\": {\"50\": 5, \"6\": 107, \"25\": 3, \"16\": 1, \"46\": 2}, \"30\": {\"30\": 122, \"41\": 1, \"18\": 1}, \"26\": {\"26\": 24}, \"56\": {\"56\": 142}, \"42\": {\"42\": 36}, \"44\": {\"44\": 100}, \"7\": {\"7\": 36}}}, \"per_domain_accuracy\": {\"O_26\": {\"accuracy\": 0.49244791666666665, \"source?\": true}, \"O_44\": {\"accuracy\": 0.646875, \"source?\": true}, \"O_50\": {\"accuracy\": 0.69609375, \"source?\": true}, \"O_38\": {\"accuracy\": 0.6307291666666667, \"source?\": true}, \"O_20\": {\"accuracy\": 0.5473958333333333, \"source?\": true}, \"O_14\": {\"accuracy\": 0.7419270833333333, \"source?\": true}, \"O_32\": {\"accuracy\": 0.6958333333333333, \"source?\": true}, \"O_8\": {\"accuracy\": 0.66015625, \"source?\": true}, \"C_5\": {\"accuracy\": 0.964036312849162, \"source?\": false}, \"C_1\": {\"accuracy\": 0.9543138586956522, \"source?\": false}, \"C_3\": {\"accuracy\": 0.9693014705882353, \"source?\": false}, \"C_4\": {\"accuracy\": 0.9644201807228916, \"source?\": false}, \"C_2\": {\"accuracy\": 0.9564985795454546, \"source?\": false}}}, \"history\": {\"epoch_indices\": [1, 2, 3, 4, 5, 6], \"train_label_loss\": [1.7809887806397109, 1.020791588776878, 0.8943338255797114, 0.8615630689431869, 0.8319393823012, 0.8128557511560973], \"source_val_label_loss\": [1.5179073810577393, 0.9599068760871887, 1.0018354654312134, 0.8559073805809021, 0.8318297863006592, 0.8949882984161377], \"target_val_label_loss\": [1.2919212579727173, 0.14682509005069733, 0.1652667373418808, 0.17970125377178192, 0.2238834947347641, 0.2536598742008209], \"source_val_acc_label\": [0.40921223958333336, 0.6389322916666667, 0.6213216145833333, 0.6813151041666666, 0.6918619791666667, 0.6780598958333334], \"target_val_acc_label\": [0.80725, 0.9615714285714285, 0.9595714285714285, 0.9554285714285714, 0.9462857142857143, 0.9389642857142857]}, \"dataset_metrics\": {\"source\": {\"train\": {\"n_unique_x\": 179200, \"n_unique_y\": 16, \"n_batch/episode\": 6720}, \"val\": {\"n_unique_x\": 38400, \"n_unique_y\": 16, \"n_batch/episode\": 960}, \"test\": {\"n_unique_x\": 38400, \"n_unique_y\": 16, \"n_batch/episode\": 960}}, \"target\": {\"train\": {\"n_unique_x\": 175203, \"n_unique_y\": 58, \"n_batch/episode\": 6321}, \"val\": {\"n_unique_x\": 37151, \"n_unique_y\": 58, \"n_batch/episode\": 875}, \"test\": {\"n_unique_x\": 37548, \"n_unique_y\": 58, \"n_batch/episode\": 885}}}}'"
      ]
     },
     "execution_count": 29,
     "metadata": {},
     "output_type": "execute_result"
    }
   ],
   "source": [
    "json.dumps(experiment)"
   ]
  }
 ],
 "metadata": {
  "celltoolbar": "Tags",
  "kernelspec": {
   "display_name": "Python 3 (ipykernel)",
   "language": "python",
   "name": "python3"
  },
  "language_info": {
   "codemirror_mode": {
    "name": "ipython",
    "version": 3
   },
   "file_extension": ".py",
   "mimetype": "text/x-python",
   "name": "python",
   "nbconvert_exporter": "python",
   "pygments_lexer": "ipython3",
   "version": "3.8.12"
  },
  "papermill": {
   "default_parameters": {},
   "duration": 1473.152403,
   "end_time": "2022-03-28T17:53:13.567949",
   "environment_variables": {},
   "exception": null,
   "input_path": "/root/csc500-main/csc500-notebooks/templates/tl_ptn_template.ipynb",
   "output_path": "trial.ipynb",
   "parameters": {
    "parameters": {
     "BEST_MODEL_PATH": "./best_model.pth",
     "NUM_LOGS_PER_EPOCH": 10,
     "criteria_for_best": "target_accuracy",
     "dataset_seed": 7,
     "datasets": [
      {
       "domain_prefix": "C_",
       "domains": [
        1,
        2,
        3,
        4,
        5
       ],
       "episode_transforms": [],
       "labels": [
        "1-10.",
        "1-11.",
        "1-15.",
        "1-16.",
        "1-17.",
        "1-18.",
        "1-19.",
        "10-4.",
        "10-7.",
        "11-1.",
        "11-14.",
        "11-17.",
        "11-20.",
        "11-7.",
        "13-20.",
        "13-8.",
        "14-10.",
        "14-11.",
        "14-14.",
        "14-7.",
        "15-1.",
        "15-20.",
        "16-1.",
        "16-16.",
        "17-10.",
        "17-11.",
        "17-2.",
        "19-1.",
        "19-16.",
        "19-19.",
        "19-20.",
        "19-3.",
        "2-10.",
        "2-11.",
        "2-17.",
        "2-18.",
        "2-20.",
        "2-3.",
        "2-4.",
        "2-5.",
        "2-6.",
        "2-7.",
        "2-8.",
        "3-13.",
        "3-18.",
        "3-3.",
        "4-1.",
        "4-10.",
        "4-11.",
        "4-19.",
        "5-5.",
        "6-15.",
        "7-10.",
        "7-14.",
        "8-18.",
        "8-20.",
        "8-3.",
        "8-8."
       ],
       "num_examples_per_domain_per_label": -1,
       "pickle_path": "/root/csc500-main/datasets/cores.stratified_ds.2022A.pkl",
       "source_or_target_dataset": "target",
       "x_transforms": [
        "unit_mag",
        "jitter_256_5",
        "lowpass_+/-10MHz",
        "take_200"
       ]
      },
      {
       "domain_prefix": "O_",
       "domains": [
        32,
        38,
        8,
        44,
        14,
        50,
        20,
        26
       ],
       "episode_transforms": [],
       "labels": [
        "3123D52",
        "3123D65",
        "3123D79",
        "3123D80",
        "3123D54",
        "3123D70",
        "3123D7B",
        "3123D89",
        "3123D58",
        "3123D76",
        "3123D7D",
        "3123EFE",
        "3123D64",
        "3123D78",
        "3123D7E",
        "3124E4A"
       ],
       "num_examples_per_domain_per_label": 2000,
       "pickle_path": "/root/csc500-main/datasets/oracle.Run1_framed_2000Examples_stratified_ds.2022A.pkl",
       "source_or_target_dataset": "source",
       "x_transforms": [
        "unit_mag",
        "jitter_256_5",
        "take_200",
        "resample_20Msps_to_25Msps"
       ]
      }
     ],
     "device": "cuda",
     "experiment_name": "tl_3-jitter5v2:oracle.run1.framed -> cores",
     "lr": 0.0001,
     "n_epoch": 50,
     "n_query": 2,
     "n_shot": 3,
     "n_way": 16,
     "patience": 3,
     "seed": 7,
     "test_k_factor": 2,
     "torch_default_dtype": "torch.float32",
     "train_k_factor": 3,
     "val_k_factor": 2,
     "x_net": [
      {
       "class": "nnReshape",
       "kargs": {
        "shape": [
         -1,
         1,
         2,
         256
        ]
       }
      },
      {
       "class": "Conv2d",
       "kargs": {
        "bias": false,
        "in_channels": 1,
        "kernel_size": [
         1,
         7
        ],
        "out_channels": 256,
        "padding": [
         0,
         3
        ]
       }
      },
      {
       "class": "ReLU",
       "kargs": {
        "inplace": true
       }
      },
      {
       "class": "BatchNorm2d",
       "kargs": {
        "num_features": 256
       }
      },
      {
       "class": "Conv2d",
       "kargs": {
        "bias": true,
        "in_channels": 256,
        "kernel_size": [
         2,
         7
        ],
        "out_channels": 80,
        "padding": [
         0,
         3
        ]
       }
      },
      {
       "class": "ReLU",
       "kargs": {
        "inplace": true
       }
      },
      {
       "class": "BatchNorm2d",
       "kargs": {
        "num_features": 80
       }
      },
      {
       "class": "Flatten",
       "kargs": {}
      },
      {
       "class": "Linear",
       "kargs": {
        "in_features": 20480,
        "out_features": 256
       }
      },
      {
       "class": "ReLU",
       "kargs": {
        "inplace": true
       }
      },
      {
       "class": "BatchNorm1d",
       "kargs": {
        "num_features": 256
       }
      },
      {
       "class": "Linear",
       "kargs": {
        "in_features": 256,
        "out_features": 256
       }
      }
     ],
     "x_shape": [
      2,
      256
     ]
    }
   },
   "start_time": "2022-03-28T17:28:40.415546",
   "version": "2.3.4"
  }
 },
 "nbformat": 4,
 "nbformat_minor": 5
}