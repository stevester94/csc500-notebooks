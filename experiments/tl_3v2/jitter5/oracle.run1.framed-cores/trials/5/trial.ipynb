{
 "cells": [
  {
   "cell_type": "markdown",
   "id": "9fea5f46",
   "metadata": {
    "papermill": {
     "duration": 0.032401,
     "end_time": "2022-03-28T16:37:49.944782",
     "exception": false,
     "start_time": "2022-03-28T16:37:49.912381",
     "status": "completed"
    },
    "tags": []
   },
   "source": [
    "# Transfer Learning Template"
   ]
  },
  {
   "cell_type": "code",
   "execution_count": 1,
   "id": "0902182a",
   "metadata": {
    "execution": {
     "iopub.execute_input": "2022-03-28T16:37:50.005505Z",
     "iopub.status.busy": "2022-03-28T16:37:49.993422Z",
     "iopub.status.idle": "2022-03-28T16:37:51.931523Z",
     "shell.execute_reply": "2022-03-28T16:37:51.931020Z"
    },
    "papermill": {
     "duration": 1.964778,
     "end_time": "2022-03-28T16:37:51.931648",
     "exception": false,
     "start_time": "2022-03-28T16:37:49.966870",
     "status": "completed"
    },
    "tags": []
   },
   "outputs": [],
   "source": [
    "%load_ext autoreload\n",
    "%autoreload 2\n",
    "%matplotlib inline\n",
    "\n",
    "    \n",
    "import os, json, sys, time, random\n",
    "import numpy as np\n",
    "import torch\n",
    "from torch.optim import Adam\n",
    "from  easydict import EasyDict\n",
    "import matplotlib.pyplot as plt\n",
    "\n",
    "from steves_models.steves_ptn import Steves_Prototypical_Network\n",
    "\n",
    "from steves_utils.lazy_iterable_wrapper import Lazy_Iterable_Wrapper\n",
    "from steves_utils.iterable_aggregator import Iterable_Aggregator\n",
    "from steves_utils.ptn_train_eval_test_jig import  PTN_Train_Eval_Test_Jig\n",
    "from steves_utils.torch_sequential_builder import build_sequential\n",
    "from steves_utils.torch_utils import get_dataset_metrics, ptn_confusion_by_domain_over_dataloader\n",
    "from steves_utils.utils_v2 import (per_domain_accuracy_from_confusion, get_datasets_base_path)\n",
    "from steves_utils.PTN.utils import independent_accuracy_assesment\n",
    "\n",
    "from torch.utils.data import DataLoader\n",
    "\n",
    "from steves_utils.stratified_dataset.episodic_accessor import Episodic_Accessor_Factory\n",
    "\n",
    "from steves_utils.ptn_do_report import (\n",
    "    get_loss_curve,\n",
    "    get_results_table,\n",
    "    get_parameters_table,\n",
    "    get_domain_accuracies,\n",
    ")\n",
    "\n",
    "from steves_utils.transforms import get_chained_transform"
   ]
  },
  {
   "cell_type": "markdown",
   "id": "41c840b4",
   "metadata": {
    "papermill": {
     "duration": 0.019083,
     "end_time": "2022-03-28T16:37:51.970724",
     "exception": false,
     "start_time": "2022-03-28T16:37:51.951641",
     "status": "completed"
    },
    "tags": []
   },
   "source": [
    "# Allowed Parameters\n",
    "These are allowed parameters, not defaults\n",
    "Each of these values need to be present in the injected parameters (the notebook will raise an exception if they are not present)\n",
    "\n",
    "Papermill uses the cell tag \"parameters\" to inject the real parameters below this cell.\n",
    "Enable tags to see what I mean"
   ]
  },
  {
   "cell_type": "code",
   "execution_count": 2,
   "id": "fd44eb83",
   "metadata": {
    "execution": {
     "iopub.execute_input": "2022-03-28T16:37:52.015008Z",
     "iopub.status.busy": "2022-03-28T16:37:52.014604Z",
     "iopub.status.idle": "2022-03-28T16:37:52.040108Z",
     "shell.execute_reply": "2022-03-28T16:37:52.039744Z"
    },
    "papermill": {
     "duration": 0.050221,
     "end_time": "2022-03-28T16:37:52.040209",
     "exception": false,
     "start_time": "2022-03-28T16:37:51.989988",
     "status": "completed"
    },
    "tags": []
   },
   "outputs": [],
   "source": [
    "required_parameters = {\n",
    "    \"experiment_name\",\n",
    "    \"lr\",\n",
    "    \"device\",\n",
    "    \"seed\",\n",
    "    \"dataset_seed\",\n",
    "    \"n_shot\",\n",
    "    \"n_query\",\n",
    "    \"n_way\",\n",
    "    \"train_k_factor\",\n",
    "    \"val_k_factor\",\n",
    "    \"test_k_factor\",\n",
    "    \"n_epoch\",\n",
    "    \"patience\",\n",
    "    \"criteria_for_best\",\n",
    "    \"x_net\",\n",
    "    \"datasets\",\n",
    "    \"torch_default_dtype\",\n",
    "    \"NUM_LOGS_PER_EPOCH\",\n",
    "    \"BEST_MODEL_PATH\",\n",
    "    \"x_shape\",\n",
    "}"
   ]
  },
  {
   "cell_type": "code",
   "execution_count": 3,
   "id": "fa3f0049",
   "metadata": {
    "execution": {
     "iopub.execute_input": "2022-03-28T16:37:52.094781Z",
     "iopub.status.busy": "2022-03-28T16:37:52.094319Z",
     "iopub.status.idle": "2022-03-28T16:37:52.118985Z",
     "shell.execute_reply": "2022-03-28T16:37:52.118610Z"
    },
    "papermill": {
     "duration": 0.058957,
     "end_time": "2022-03-28T16:37:52.119085",
     "exception": false,
     "start_time": "2022-03-28T16:37:52.060128",
     "status": "completed"
    },
    "tags": [
     "parameters"
    ]
   },
   "outputs": [],
   "source": [
    "from steves_utils.CORES.utils import (\n",
    "    ALL_NODES,\n",
    "    ALL_NODES_MINIMUM_1000_EXAMPLES,\n",
    "    ALL_DAYS\n",
    ")\n",
    "\n",
    "from steves_utils.ORACLE.utils_v2 import (\n",
    "    ALL_DISTANCES_FEET_NARROWED,\n",
    "    ALL_RUNS,\n",
    "    ALL_SERIAL_NUMBERS,\n",
    ")\n",
    "\n",
    "standalone_parameters = {}\n",
    "standalone_parameters[\"experiment_name\"] = \"STANDALONE PTN\"\n",
    "standalone_parameters[\"lr\"] = 0.001\n",
    "standalone_parameters[\"device\"] = \"cuda\"\n",
    "\n",
    "standalone_parameters[\"seed\"] = 1337\n",
    "standalone_parameters[\"dataset_seed\"] = 1337\n",
    "\n",
    "standalone_parameters[\"n_way\"] = 8\n",
    "standalone_parameters[\"n_shot\"] = 3\n",
    "standalone_parameters[\"n_query\"]  = 2\n",
    "standalone_parameters[\"train_k_factor\"] = 1\n",
    "standalone_parameters[\"val_k_factor\"] = 2\n",
    "standalone_parameters[\"test_k_factor\"] = 2\n",
    "\n",
    "\n",
    "standalone_parameters[\"n_epoch\"] = 50\n",
    "\n",
    "standalone_parameters[\"patience\"] = 10\n",
    "standalone_parameters[\"criteria_for_best\"] = \"source_loss\"\n",
    "\n",
    "standalone_parameters[\"datasets\"] = [\n",
    "    {\n",
    "        \"labels\": ALL_SERIAL_NUMBERS,\n",
    "        \"domains\": ALL_DISTANCES_FEET_NARROWED,\n",
    "        \"num_examples_per_domain_per_label\": 100,\n",
    "        \"pickle_path\": os.path.join(get_datasets_base_path(), \"oracle.Run1_framed_2000Examples_stratified_ds.2022A.pkl\"),\n",
    "        \"source_or_target_dataset\": \"source\",\n",
    "        \"x_transforms\": [\"unit_mag\", \"minus_two\"],\n",
    "        \"episode_transforms\": [],\n",
    "        \"domain_prefix\": \"ORACLE_\"\n",
    "    },\n",
    "    {\n",
    "        \"labels\": ALL_NODES,\n",
    "        \"domains\": ALL_DAYS,\n",
    "        \"num_examples_per_domain_per_label\": 100,\n",
    "        \"pickle_path\": os.path.join(get_datasets_base_path(), \"cores.stratified_ds.2022A.pkl\"),\n",
    "        \"source_or_target_dataset\": \"target\",\n",
    "        \"x_transforms\": [\"unit_power\", \"times_zero\"],\n",
    "        \"episode_transforms\": [],\n",
    "        \"domain_prefix\": \"CORES_\"\n",
    "    }   \n",
    "]\n",
    "\n",
    "standalone_parameters[\"torch_default_dtype\"] = \"torch.float32\" \n",
    "\n",
    "\n",
    "\n",
    "standalone_parameters[\"x_net\"] =     [\n",
    "    {\"class\": \"nnReshape\", \"kargs\": {\"shape\":[-1, 1, 2, 256]}},\n",
    "    {\"class\": \"Conv2d\", \"kargs\": { \"in_channels\":1, \"out_channels\":256, \"kernel_size\":(1,7), \"bias\":False, \"padding\":(0,3), },},\n",
    "    {\"class\": \"ReLU\", \"kargs\": {\"inplace\": True}},\n",
    "    {\"class\": \"BatchNorm2d\", \"kargs\": {\"num_features\":256}},\n",
    "\n",
    "    {\"class\": \"Conv2d\", \"kargs\": { \"in_channels\":256, \"out_channels\":80, \"kernel_size\":(2,7), \"bias\":True, \"padding\":(0,3), },},\n",
    "    {\"class\": \"ReLU\", \"kargs\": {\"inplace\": True}},\n",
    "    {\"class\": \"BatchNorm2d\", \"kargs\": {\"num_features\":80}},\n",
    "    {\"class\": \"Flatten\", \"kargs\": {}},\n",
    "\n",
    "    {\"class\": \"Linear\", \"kargs\": {\"in_features\": 80*256, \"out_features\": 256}}, # 80 units per IQ pair\n",
    "    {\"class\": \"ReLU\", \"kargs\": {\"inplace\": True}},\n",
    "    {\"class\": \"BatchNorm1d\", \"kargs\": {\"num_features\":256}},\n",
    "\n",
    "    {\"class\": \"Linear\", \"kargs\": {\"in_features\": 256, \"out_features\": 256}},\n",
    "]\n",
    "\n",
    "# Parameters relevant to results\n",
    "# These parameters will basically never need to change\n",
    "standalone_parameters[\"NUM_LOGS_PER_EPOCH\"] = 10\n",
    "standalone_parameters[\"BEST_MODEL_PATH\"] = \"./best_model.pth\"\n",
    "\n",
    "\n",
    "\n",
    "\n"
   ]
  },
  {
   "cell_type": "code",
   "execution_count": 4,
   "id": "f4ee9fdf",
   "metadata": {
    "execution": {
     "iopub.execute_input": "2022-03-28T16:37:52.175107Z",
     "iopub.status.busy": "2022-03-28T16:37:52.171990Z",
     "iopub.status.idle": "2022-03-28T16:37:52.198921Z",
     "shell.execute_reply": "2022-03-28T16:37:52.198495Z"
    },
    "papermill": {
     "duration": 0.060096,
     "end_time": "2022-03-28T16:37:52.199021",
     "exception": false,
     "start_time": "2022-03-28T16:37:52.138925",
     "status": "completed"
    },
    "tags": [
     "injected-parameters"
    ]
   },
   "outputs": [],
   "source": [
    "# Parameters\n",
    "parameters = {\n",
    "    \"experiment_name\": \"tl_3-jitter5v2:oracle.run1.framed -> cores\",\n",
    "    \"device\": \"cuda\",\n",
    "    \"lr\": 0.0001,\n",
    "    \"x_shape\": [2, 256],\n",
    "    \"n_shot\": 3,\n",
    "    \"n_query\": 2,\n",
    "    \"train_k_factor\": 3,\n",
    "    \"val_k_factor\": 2,\n",
    "    \"test_k_factor\": 2,\n",
    "    \"torch_default_dtype\": \"torch.float32\",\n",
    "    \"n_epoch\": 50,\n",
    "    \"patience\": 3,\n",
    "    \"criteria_for_best\": \"target_accuracy\",\n",
    "    \"x_net\": [\n",
    "        {\"class\": \"nnReshape\", \"kargs\": {\"shape\": [-1, 1, 2, 256]}},\n",
    "        {\n",
    "            \"class\": \"Conv2d\",\n",
    "            \"kargs\": {\n",
    "                \"in_channels\": 1,\n",
    "                \"out_channels\": 256,\n",
    "                \"kernel_size\": [1, 7],\n",
    "                \"bias\": False,\n",
    "                \"padding\": [0, 3],\n",
    "            },\n",
    "        },\n",
    "        {\"class\": \"ReLU\", \"kargs\": {\"inplace\": True}},\n",
    "        {\"class\": \"BatchNorm2d\", \"kargs\": {\"num_features\": 256}},\n",
    "        {\n",
    "            \"class\": \"Conv2d\",\n",
    "            \"kargs\": {\n",
    "                \"in_channels\": 256,\n",
    "                \"out_channels\": 80,\n",
    "                \"kernel_size\": [2, 7],\n",
    "                \"bias\": True,\n",
    "                \"padding\": [0, 3],\n",
    "            },\n",
    "        },\n",
    "        {\"class\": \"ReLU\", \"kargs\": {\"inplace\": True}},\n",
    "        {\"class\": \"BatchNorm2d\", \"kargs\": {\"num_features\": 80}},\n",
    "        {\"class\": \"Flatten\", \"kargs\": {}},\n",
    "        {\"class\": \"Linear\", \"kargs\": {\"in_features\": 20480, \"out_features\": 256}},\n",
    "        {\"class\": \"ReLU\", \"kargs\": {\"inplace\": True}},\n",
    "        {\"class\": \"BatchNorm1d\", \"kargs\": {\"num_features\": 256}},\n",
    "        {\"class\": \"Linear\", \"kargs\": {\"in_features\": 256, \"out_features\": 256}},\n",
    "    ],\n",
    "    \"NUM_LOGS_PER_EPOCH\": 10,\n",
    "    \"BEST_MODEL_PATH\": \"./best_model.pth\",\n",
    "    \"n_way\": 16,\n",
    "    \"datasets\": [\n",
    "        {\n",
    "            \"labels\": [\n",
    "                \"1-10.\",\n",
    "                \"1-11.\",\n",
    "                \"1-15.\",\n",
    "                \"1-16.\",\n",
    "                \"1-17.\",\n",
    "                \"1-18.\",\n",
    "                \"1-19.\",\n",
    "                \"10-4.\",\n",
    "                \"10-7.\",\n",
    "                \"11-1.\",\n",
    "                \"11-14.\",\n",
    "                \"11-17.\",\n",
    "                \"11-20.\",\n",
    "                \"11-7.\",\n",
    "                \"13-20.\",\n",
    "                \"13-8.\",\n",
    "                \"14-10.\",\n",
    "                \"14-11.\",\n",
    "                \"14-14.\",\n",
    "                \"14-7.\",\n",
    "                \"15-1.\",\n",
    "                \"15-20.\",\n",
    "                \"16-1.\",\n",
    "                \"16-16.\",\n",
    "                \"17-10.\",\n",
    "                \"17-11.\",\n",
    "                \"17-2.\",\n",
    "                \"19-1.\",\n",
    "                \"19-16.\",\n",
    "                \"19-19.\",\n",
    "                \"19-20.\",\n",
    "                \"19-3.\",\n",
    "                \"2-10.\",\n",
    "                \"2-11.\",\n",
    "                \"2-17.\",\n",
    "                \"2-18.\",\n",
    "                \"2-20.\",\n",
    "                \"2-3.\",\n",
    "                \"2-4.\",\n",
    "                \"2-5.\",\n",
    "                \"2-6.\",\n",
    "                \"2-7.\",\n",
    "                \"2-8.\",\n",
    "                \"3-13.\",\n",
    "                \"3-18.\",\n",
    "                \"3-3.\",\n",
    "                \"4-1.\",\n",
    "                \"4-10.\",\n",
    "                \"4-11.\",\n",
    "                \"4-19.\",\n",
    "                \"5-5.\",\n",
    "                \"6-15.\",\n",
    "                \"7-10.\",\n",
    "                \"7-14.\",\n",
    "                \"8-18.\",\n",
    "                \"8-20.\",\n",
    "                \"8-3.\",\n",
    "                \"8-8.\",\n",
    "            ],\n",
    "            \"domains\": [1, 2, 3, 4, 5],\n",
    "            \"num_examples_per_domain_per_label\": -1,\n",
    "            \"pickle_path\": \"/root/csc500-main/datasets/cores.stratified_ds.2022A.pkl\",\n",
    "            \"source_or_target_dataset\": \"target\",\n",
    "            \"x_transforms\": [\"jitter_256_5\", \"lowpass_+/-10MHz\", \"take_200\"],\n",
    "            \"episode_transforms\": [],\n",
    "            \"domain_prefix\": \"C_\",\n",
    "        },\n",
    "        {\n",
    "            \"labels\": [\n",
    "                \"3123D52\",\n",
    "                \"3123D65\",\n",
    "                \"3123D79\",\n",
    "                \"3123D80\",\n",
    "                \"3123D54\",\n",
    "                \"3123D70\",\n",
    "                \"3123D7B\",\n",
    "                \"3123D89\",\n",
    "                \"3123D58\",\n",
    "                \"3123D76\",\n",
    "                \"3123D7D\",\n",
    "                \"3123EFE\",\n",
    "                \"3123D64\",\n",
    "                \"3123D78\",\n",
    "                \"3123D7E\",\n",
    "                \"3124E4A\",\n",
    "            ],\n",
    "            \"domains\": [32, 38, 8, 44, 14, 50, 20, 26],\n",
    "            \"num_examples_per_domain_per_label\": 2000,\n",
    "            \"pickle_path\": \"/root/csc500-main/datasets/oracle.Run1_framed_2000Examples_stratified_ds.2022A.pkl\",\n",
    "            \"source_or_target_dataset\": \"source\",\n",
    "            \"x_transforms\": [\"jitter_256_5\", \"take_200\", \"resample_20Msps_to_25Msps\"],\n",
    "            \"episode_transforms\": [],\n",
    "            \"domain_prefix\": \"O_\",\n",
    "        },\n",
    "    ],\n",
    "    \"seed\": 420,\n",
    "    \"dataset_seed\": 420,\n",
    "}\n"
   ]
  },
  {
   "cell_type": "code",
   "execution_count": 5,
   "id": "8fa1cc33",
   "metadata": {
    "execution": {
     "iopub.execute_input": "2022-03-28T16:37:52.246972Z",
     "iopub.status.busy": "2022-03-28T16:37:52.246574Z",
     "iopub.status.idle": "2022-03-28T16:37:52.272251Z",
     "shell.execute_reply": "2022-03-28T16:37:52.271877Z"
    },
    "papermill": {
     "duration": 0.052751,
     "end_time": "2022-03-28T16:37:52.272356",
     "exception": false,
     "start_time": "2022-03-28T16:37:52.219605",
     "status": "completed"
    },
    "tags": []
   },
   "outputs": [],
   "source": [
    "# Set this to True if you want to run this template directly\n",
    "STANDALONE = False\n",
    "if STANDALONE:\n",
    "    print(\"parameters not injected, running with standalone_parameters\")\n",
    "    parameters = standalone_parameters\n",
    "\n",
    "if not 'parameters' in locals() and not 'parameters' in globals():\n",
    "    raise Exception(\"Parameter injection failed\")\n",
    "\n",
    "#Use an easy dict for all the parameters\n",
    "p = EasyDict(parameters)\n",
    "\n",
    "if \"x_shape\" not in p:\n",
    "    p.x_shape = [2,256] # Default to this if we dont supply x_shape\n",
    "\n",
    "\n",
    "supplied_keys = set(p.keys())\n",
    "\n",
    "if  supplied_keys != required_parameters:\n",
    "    print(\"Parameters are incorrect\")\n",
    "    if len(supplied_keys - required_parameters)>0: print(\"Shouldn't have:\", str(supplied_keys - required_parameters))\n",
    "    if len(required_parameters - supplied_keys)>0: print(\"Need to have:\", str(required_parameters - supplied_keys))\n",
    "    raise RuntimeError(\"Parameters are incorrect\")"
   ]
  },
  {
   "cell_type": "code",
   "execution_count": 6,
   "id": "3a028d58",
   "metadata": {
    "execution": {
     "iopub.execute_input": "2022-03-28T16:37:52.316253Z",
     "iopub.status.busy": "2022-03-28T16:37:52.315804Z",
     "iopub.status.idle": "2022-03-28T16:37:52.341736Z",
     "shell.execute_reply": "2022-03-28T16:37:52.341303Z"
    },
    "papermill": {
     "duration": 0.049371,
     "end_time": "2022-03-28T16:37:52.341845",
     "exception": false,
     "start_time": "2022-03-28T16:37:52.292474",
     "status": "completed"
    },
    "tags": []
   },
   "outputs": [],
   "source": [
    "###################################\n",
    "# Set the RNGs and make it all deterministic\n",
    "###################################\n",
    "np.random.seed(p.seed)\n",
    "random.seed(p.seed)\n",
    "torch.manual_seed(p.seed)\n",
    "\n",
    "torch.use_deterministic_algorithms(True) "
   ]
  },
  {
   "cell_type": "code",
   "execution_count": 7,
   "id": "b691acf6",
   "metadata": {
    "execution": {
     "iopub.execute_input": "2022-03-28T16:37:52.389103Z",
     "iopub.status.busy": "2022-03-28T16:37:52.388474Z",
     "iopub.status.idle": "2022-03-28T16:37:52.416593Z",
     "shell.execute_reply": "2022-03-28T16:37:52.415855Z"
    },
    "papermill": {
     "duration": 0.052612,
     "end_time": "2022-03-28T16:37:52.416777",
     "exception": false,
     "start_time": "2022-03-28T16:37:52.364165",
     "status": "completed"
    },
    "tags": []
   },
   "outputs": [],
   "source": [
    "###########################################\n",
    "# The stratified datasets honor this\n",
    "###########################################\n",
    "torch.set_default_dtype(eval(p.torch_default_dtype))"
   ]
  },
  {
   "cell_type": "code",
   "execution_count": 8,
   "id": "b5fba671",
   "metadata": {
    "execution": {
     "iopub.execute_input": "2022-03-28T16:37:52.470333Z",
     "iopub.status.busy": "2022-03-28T16:37:52.469666Z",
     "iopub.status.idle": "2022-03-28T16:37:52.524629Z",
     "shell.execute_reply": "2022-03-28T16:37:52.525316Z"
    },
    "papermill": {
     "duration": 0.080969,
     "end_time": "2022-03-28T16:37:52.525554",
     "exception": false,
     "start_time": "2022-03-28T16:37:52.444585",
     "status": "completed"
    },
    "tags": []
   },
   "outputs": [],
   "source": [
    "###################################\n",
    "# Build the network(s)\n",
    "# Note: It's critical to do this AFTER setting the RNG\n",
    "###################################\n",
    "x_net = build_sequential(p.x_net)"
   ]
  },
  {
   "cell_type": "code",
   "execution_count": 9,
   "id": "5d7e61cc",
   "metadata": {
    "execution": {
     "iopub.execute_input": "2022-03-28T16:37:52.579418Z",
     "iopub.status.busy": "2022-03-28T16:37:52.579041Z",
     "iopub.status.idle": "2022-03-28T16:37:52.605011Z",
     "shell.execute_reply": "2022-03-28T16:37:52.604288Z"
    },
    "papermill": {
     "duration": 0.049983,
     "end_time": "2022-03-28T16:37:52.605186",
     "exception": false,
     "start_time": "2022-03-28T16:37:52.555203",
     "status": "completed"
    },
    "tags": []
   },
   "outputs": [],
   "source": [
    "start_time_secs = time.time()"
   ]
  },
  {
   "cell_type": "code",
   "execution_count": 10,
   "id": "c6b67dfd",
   "metadata": {
    "execution": {
     "iopub.execute_input": "2022-03-28T16:37:52.662345Z",
     "iopub.status.busy": "2022-03-28T16:37:52.661959Z",
     "iopub.status.idle": "2022-03-28T16:37:52.686746Z",
     "shell.execute_reply": "2022-03-28T16:37:52.687426Z"
    },
    "papermill": {
     "duration": 0.058108,
     "end_time": "2022-03-28T16:37:52.687641",
     "exception": false,
     "start_time": "2022-03-28T16:37:52.629533",
     "status": "completed"
    },
    "tags": []
   },
   "outputs": [],
   "source": [
    "p.domains_source = []\n",
    "p.domains_target = []\n",
    "\n",
    "\n",
    "train_original_source = []\n",
    "val_original_source   = []\n",
    "test_original_source  = []\n",
    "\n",
    "train_original_target = []\n",
    "val_original_target   = []\n",
    "test_original_target  = []"
   ]
  },
  {
   "cell_type": "code",
   "execution_count": 11,
   "id": "e3d9c3d3",
   "metadata": {
    "execution": {
     "iopub.execute_input": "2022-03-28T16:37:52.740739Z",
     "iopub.status.busy": "2022-03-28T16:37:52.740366Z",
     "iopub.status.idle": "2022-03-28T16:37:52.764689Z",
     "shell.execute_reply": "2022-03-28T16:37:52.763877Z"
    },
    "papermill": {
     "duration": 0.047459,
     "end_time": "2022-03-28T16:37:52.764845",
     "exception": false,
     "start_time": "2022-03-28T16:37:52.717386",
     "status": "completed"
    },
    "tags": []
   },
   "outputs": [],
   "source": [
    "# global_x_transform_func = lambda x: normalize(x.to(torch.get_default_dtype()), \"unit_power\") # unit_power, unit_mag\n",
    "# global_x_transform_func = lambda x: normalize(x, \"unit_power\") # unit_power, unit_mag"
   ]
  },
  {
   "cell_type": "code",
   "execution_count": 12,
   "id": "acb78fd2",
   "metadata": {
    "execution": {
     "iopub.execute_input": "2022-03-28T16:37:52.821879Z",
     "iopub.status.busy": "2022-03-28T16:37:52.821281Z",
     "iopub.status.idle": "2022-03-28T16:37:52.844928Z",
     "shell.execute_reply": "2022-03-28T16:37:52.844095Z"
    },
    "papermill": {
     "duration": 0.051458,
     "end_time": "2022-03-28T16:37:52.845095",
     "exception": false,
     "start_time": "2022-03-28T16:37:52.793637",
     "status": "completed"
    },
    "tags": []
   },
   "outputs": [],
   "source": [
    "def add_dataset(\n",
    "    labels,\n",
    "    domains,\n",
    "    pickle_path,\n",
    "    x_transforms,\n",
    "    episode_transforms,\n",
    "    domain_prefix,\n",
    "    num_examples_per_domain_per_label,\n",
    "    source_or_target_dataset:str,\n",
    "    iterator_seed=p.seed,\n",
    "    dataset_seed=p.dataset_seed,\n",
    "    n_shot=p.n_shot,\n",
    "    n_way=p.n_way,\n",
    "    n_query=p.n_query,\n",
    "    train_val_test_k_factors=(p.train_k_factor,p.val_k_factor,p.test_k_factor),\n",
    "):\n",
    "   \n",
    "    if x_transforms == []: x_transform = None\n",
    "    else: x_transform = get_chained_transform(x_transforms)\n",
    "    \n",
    "    if episode_transforms == []: episode_transform = None\n",
    "    else: raise Exception(\"episode_transforms not implemented\")\n",
    "    \n",
    "    episode_transform = lambda tup, _prefix=domain_prefix: (_prefix + str(tup[0]), tup[1])\n",
    "\n",
    "\n",
    "    eaf = Episodic_Accessor_Factory(\n",
    "        labels=labels,\n",
    "        domains=domains,\n",
    "        num_examples_per_domain_per_label=num_examples_per_domain_per_label,\n",
    "        iterator_seed=iterator_seed,\n",
    "        dataset_seed=dataset_seed,\n",
    "        n_shot=n_shot,\n",
    "        n_way=n_way,\n",
    "        n_query=n_query,\n",
    "        train_val_test_k_factors=train_val_test_k_factors,\n",
    "        pickle_path=pickle_path,\n",
    "        x_transform_func=x_transform,\n",
    "    )\n",
    "\n",
    "    train, val, test = eaf.get_train(), eaf.get_val(), eaf.get_test()\n",
    "    train = Lazy_Iterable_Wrapper(train, episode_transform)\n",
    "    val = Lazy_Iterable_Wrapper(val, episode_transform)\n",
    "    test = Lazy_Iterable_Wrapper(test, episode_transform)\n",
    "\n",
    "    if source_or_target_dataset==\"source\":\n",
    "        train_original_source.append(train)\n",
    "        val_original_source.append(val)\n",
    "        test_original_source.append(test)\n",
    "\n",
    "        p.domains_source.extend(\n",
    "            [domain_prefix + str(u) for u in domains]\n",
    "        )\n",
    "    elif source_or_target_dataset==\"target\":\n",
    "        train_original_target.append(train)\n",
    "        val_original_target.append(val)\n",
    "        test_original_target.append(test)\n",
    "        p.domains_target.extend(\n",
    "            [domain_prefix + str(u) for u in domains]\n",
    "        )\n",
    "    else:\n",
    "        raise Exception(f\"invalid source_or_target_dataset: {source_or_target_dataset}\")\n",
    "    "
   ]
  },
  {
   "cell_type": "code",
   "execution_count": 13,
   "id": "fe266617",
   "metadata": {
    "execution": {
     "iopub.execute_input": "2022-03-28T16:37:52.896911Z",
     "iopub.status.busy": "2022-03-28T16:37:52.896543Z",
     "iopub.status.idle": "2022-03-28T16:38:57.142509Z",
     "shell.execute_reply": "2022-03-28T16:38:57.141712Z"
    },
    "papermill": {
     "duration": 64.270427,
     "end_time": "2022-03-28T16:38:57.142701",
     "exception": false,
     "start_time": "2022-03-28T16:37:52.872274",
     "status": "completed"
    },
    "tags": []
   },
   "outputs": [],
   "source": [
    "for ds in p.datasets:\n",
    "    add_dataset(**ds)"
   ]
  },
  {
   "cell_type": "code",
   "execution_count": 14,
   "id": "b90d65ac",
   "metadata": {
    "execution": {
     "iopub.execute_input": "2022-03-28T16:38:57.193370Z",
     "iopub.status.busy": "2022-03-28T16:38:57.192790Z",
     "iopub.status.idle": "2022-03-28T16:38:57.217810Z",
     "shell.execute_reply": "2022-03-28T16:38:57.216987Z"
    },
    "papermill": {
     "duration": 0.048918,
     "end_time": "2022-03-28T16:38:57.217968",
     "exception": false,
     "start_time": "2022-03-28T16:38:57.169050",
     "status": "completed"
    },
    "tags": []
   },
   "outputs": [],
   "source": [
    "# from steves_utils.CORES.utils import (\n",
    "#     ALL_NODES,\n",
    "#     ALL_NODES_MINIMUM_1000_EXAMPLES,\n",
    "#     ALL_DAYS\n",
    "# )\n",
    "\n",
    "# add_dataset(\n",
    "#     labels=ALL_NODES,\n",
    "#     domains = ALL_DAYS,\n",
    "#     num_examples_per_domain_per_label=100,\n",
    "#     pickle_path=os.path.join(get_datasets_base_path(), \"cores.stratified_ds.2022A.pkl\"),\n",
    "#     source_or_target_dataset=\"target\",\n",
    "#     x_transform_func=global_x_transform_func,\n",
    "#     domain_modifier=lambda u: f\"cores_{u}\"\n",
    "# )"
   ]
  },
  {
   "cell_type": "code",
   "execution_count": 15,
   "id": "76db484d",
   "metadata": {
    "execution": {
     "iopub.execute_input": "2022-03-28T16:38:57.267678Z",
     "iopub.status.busy": "2022-03-28T16:38:57.267277Z",
     "iopub.status.idle": "2022-03-28T16:38:57.284693Z",
     "shell.execute_reply": "2022-03-28T16:38:57.283877Z"
    },
    "papermill": {
     "duration": 0.04063,
     "end_time": "2022-03-28T16:38:57.284849",
     "exception": false,
     "start_time": "2022-03-28T16:38:57.244219",
     "status": "completed"
    },
    "tags": []
   },
   "outputs": [],
   "source": [
    "# from steves_utils.ORACLE.utils_v2 import (\n",
    "#     ALL_DISTANCES_FEET,\n",
    "#     ALL_RUNS,\n",
    "#     ALL_SERIAL_NUMBERS,\n",
    "# )\n",
    "\n",
    "\n",
    "# add_dataset(\n",
    "#     labels=ALL_SERIAL_NUMBERS,\n",
    "#     domains = list(set(ALL_DISTANCES_FEET) - {2,62}),\n",
    "#     num_examples_per_domain_per_label=100,\n",
    "#     pickle_path=os.path.join(get_datasets_base_path(), \"oracle.Run2_framed_2000Examples_stratified_ds.2022A.pkl\"),\n",
    "#     source_or_target_dataset=\"source\",\n",
    "#     x_transform_func=global_x_transform_func,\n",
    "#     domain_modifier=lambda u: f\"oracle1_{u}\"\n",
    "# )\n"
   ]
  },
  {
   "cell_type": "code",
   "execution_count": 16,
   "id": "97dea9d2",
   "metadata": {
    "execution": {
     "iopub.execute_input": "2022-03-28T16:38:57.342714Z",
     "iopub.status.busy": "2022-03-28T16:38:57.342142Z",
     "iopub.status.idle": "2022-03-28T16:38:57.355489Z",
     "shell.execute_reply": "2022-03-28T16:38:57.354694Z"
    },
    "papermill": {
     "duration": 0.043727,
     "end_time": "2022-03-28T16:38:57.355667",
     "exception": false,
     "start_time": "2022-03-28T16:38:57.311940",
     "status": "completed"
    },
    "tags": []
   },
   "outputs": [],
   "source": [
    "# from steves_utils.ORACLE.utils_v2 import (\n",
    "#     ALL_DISTANCES_FEET,\n",
    "#     ALL_RUNS,\n",
    "#     ALL_SERIAL_NUMBERS,\n",
    "# )\n",
    "\n",
    "\n",
    "# add_dataset(\n",
    "#     labels=ALL_SERIAL_NUMBERS,\n",
    "#     domains = list(set(ALL_DISTANCES_FEET) - {2,62,56}),\n",
    "#     num_examples_per_domain_per_label=100,\n",
    "#     pickle_path=os.path.join(get_datasets_base_path(), \"oracle.Run2_framed_2000Examples_stratified_ds.2022A.pkl\"),\n",
    "#     source_or_target_dataset=\"source\",\n",
    "#     x_transform_func=global_x_transform_func,\n",
    "#     domain_modifier=lambda u: f\"oracle2_{u}\"\n",
    "# )"
   ]
  },
  {
   "cell_type": "code",
   "execution_count": 17,
   "id": "6f289866",
   "metadata": {
    "execution": {
     "iopub.execute_input": "2022-03-28T16:38:57.405945Z",
     "iopub.status.busy": "2022-03-28T16:38:57.405569Z",
     "iopub.status.idle": "2022-03-28T16:38:57.426160Z",
     "shell.execute_reply": "2022-03-28T16:38:57.425374Z"
    },
    "papermill": {
     "duration": 0.044914,
     "end_time": "2022-03-28T16:38:57.426314",
     "exception": false,
     "start_time": "2022-03-28T16:38:57.381400",
     "status": "completed"
    },
    "tags": []
   },
   "outputs": [],
   "source": [
    "# add_dataset(\n",
    "#     labels=list(range(19)),\n",
    "#     domains = [0,1,2],\n",
    "#     num_examples_per_domain_per_label=100,\n",
    "#     pickle_path=os.path.join(get_datasets_base_path(), \"metehan.stratified_ds.2022A.pkl\"),\n",
    "#     source_or_target_dataset=\"target\",\n",
    "#     x_transform_func=global_x_transform_func,\n",
    "#     domain_modifier=lambda u: f\"met_{u}\"\n",
    "# )"
   ]
  },
  {
   "cell_type": "code",
   "execution_count": 18,
   "id": "86a863c3",
   "metadata": {
    "execution": {
     "iopub.execute_input": "2022-03-28T16:38:57.476657Z",
     "iopub.status.busy": "2022-03-28T16:38:57.475933Z",
     "iopub.status.idle": "2022-03-28T16:38:57.498122Z",
     "shell.execute_reply": "2022-03-28T16:38:57.497325Z"
    },
    "papermill": {
     "duration": 0.045747,
     "end_time": "2022-03-28T16:38:57.498276",
     "exception": false,
     "start_time": "2022-03-28T16:38:57.452529",
     "status": "completed"
    },
    "tags": []
   },
   "outputs": [],
   "source": [
    "# # from steves_utils.wisig.utils import (\n",
    "# #     ALL_NODES_MINIMUM_100_EXAMPLES,\n",
    "# #     ALL_NODES_MINIMUM_500_EXAMPLES,\n",
    "# #     ALL_NODES_MINIMUM_1000_EXAMPLES,\n",
    "# #     ALL_DAYS\n",
    "# # )\n",
    "\n",
    "# import steves_utils.wisig.utils as wisig\n",
    "\n",
    "\n",
    "# add_dataset(\n",
    "#     labels=wisig.ALL_NODES_MINIMUM_100_EXAMPLES,\n",
    "#     domains = wisig.ALL_DAYS,\n",
    "#     num_examples_per_domain_per_label=100,\n",
    "#     pickle_path=os.path.join(get_datasets_base_path(), \"wisig.node3-19.stratified_ds.2022A.pkl\"),\n",
    "#     source_or_target_dataset=\"target\",\n",
    "#     x_transform_func=global_x_transform_func,\n",
    "#     domain_modifier=lambda u: f\"wisig_{u}\"\n",
    "# )"
   ]
  },
  {
   "cell_type": "code",
   "execution_count": 19,
   "id": "fd5442bc",
   "metadata": {
    "execution": {
     "iopub.execute_input": "2022-03-28T16:38:57.554482Z",
     "iopub.status.busy": "2022-03-28T16:38:57.553897Z",
     "iopub.status.idle": "2022-03-28T16:38:57.578553Z",
     "shell.execute_reply": "2022-03-28T16:38:57.577753Z"
    },
    "papermill": {
     "duration": 0.054363,
     "end_time": "2022-03-28T16:38:57.578707",
     "exception": false,
     "start_time": "2022-03-28T16:38:57.524344",
     "status": "completed"
    },
    "tags": []
   },
   "outputs": [],
   "source": [
    "###################################\n",
    "# Build the dataset\n",
    "###################################\n",
    "train_original_source = Iterable_Aggregator(train_original_source, p.seed)\n",
    "val_original_source = Iterable_Aggregator(val_original_source, p.seed)\n",
    "test_original_source = Iterable_Aggregator(test_original_source, p.seed)\n",
    "\n",
    "\n",
    "train_original_target = Iterable_Aggregator(train_original_target, p.seed)\n",
    "val_original_target = Iterable_Aggregator(val_original_target, p.seed)\n",
    "test_original_target = Iterable_Aggregator(test_original_target, p.seed)\n",
    "\n",
    "# For CNN We only use X and Y. And we only train on the source.\n",
    "# Properly form the data using a transform lambda and Lazy_Iterable_Wrapper. Finally wrap them in a dataloader\n",
    "\n",
    "transform_lambda = lambda ex: ex[1] # Original is (<domain>, <episode>) so we strip down to episode only\n",
    "\n",
    "train_processed_source = Lazy_Iterable_Wrapper(train_original_source, transform_lambda)\n",
    "val_processed_source   = Lazy_Iterable_Wrapper(val_original_source, transform_lambda)\n",
    "test_processed_source  = Lazy_Iterable_Wrapper(test_original_source, transform_lambda)\n",
    "\n",
    "train_processed_target = Lazy_Iterable_Wrapper(train_original_target, transform_lambda)\n",
    "val_processed_target   = Lazy_Iterable_Wrapper(val_original_target, transform_lambda)\n",
    "test_processed_target  = Lazy_Iterable_Wrapper(test_original_target, transform_lambda)\n",
    "\n",
    "datasets = EasyDict({\n",
    "    \"source\": {\n",
    "        \"original\": {\"train\":train_original_source, \"val\":val_original_source, \"test\":test_original_source},\n",
    "        \"processed\": {\"train\":train_processed_source, \"val\":val_processed_source, \"test\":test_processed_source}\n",
    "    },\n",
    "    \"target\": {\n",
    "        \"original\": {\"train\":train_original_target, \"val\":val_original_target, \"test\":test_original_target},\n",
    "        \"processed\": {\"train\":train_processed_target, \"val\":val_processed_target, \"test\":test_processed_target}\n",
    "    },\n",
    "})"
   ]
  },
  {
   "cell_type": "code",
   "execution_count": 20,
   "id": "5b3c01fc",
   "metadata": {
    "execution": {
     "iopub.execute_input": "2022-03-28T16:38:57.629656Z",
     "iopub.status.busy": "2022-03-28T16:38:57.628801Z",
     "iopub.status.idle": "2022-03-28T16:39:11.539734Z",
     "shell.execute_reply": "2022-03-28T16:39:11.538919Z"
    },
    "papermill": {
     "duration": 13.935115,
     "end_time": "2022-03-28T16:39:11.539930",
     "exception": false,
     "start_time": "2022-03-28T16:38:57.604815",
     "status": "completed"
    },
    "tags": []
   },
   "outputs": [
    {
     "name": "stdout",
     "output_type": "stream",
     "text": [
      "{'O_38', 'O_20', 'O_14', 'O_8', 'O_32', 'O_44', 'O_26', 'O_50'}\n"
     ]
    },
    {
     "name": "stdout",
     "output_type": "stream",
     "text": [
      "{'C_4', 'C_2', 'C_1', 'C_5', 'C_3'}\n"
     ]
    },
    {
     "name": "stdout",
     "output_type": "stream",
     "text": [
      "tensor([[[0., 0., 0.,  ..., 0., 0., 0.],\n",
      "         [0., 0., 0.,  ..., 0., 0., 0.]],\n",
      "\n",
      "        [[0., 0., 0.,  ..., 0., 0., 0.],\n",
      "         [0., 0., 0.,  ..., 0., 0., 0.]],\n",
      "\n",
      "        [[0., 0., 0.,  ..., 0., 0., 0.],\n",
      "         [0., 0., 0.,  ..., 0., 0., 0.]],\n",
      "\n",
      "        ...,\n",
      "\n",
      "        [[0., 0., 0.,  ..., 0., 0., 0.],\n",
      "         [0., 0., 0.,  ..., 0., 0., 0.]],\n",
      "\n",
      "        [[0., 0., 0.,  ..., 0., 0., 0.],\n",
      "         [0., 0., 0.,  ..., 0., 0., 0.]],\n",
      "\n",
      "        [[0., 0., 0.,  ..., 0., 0., 0.],\n",
      "         [0., 0., 0.,  ..., 0., 0., 0.]]])\n"
     ]
    }
   ],
   "source": [
    "from steves_utils.transforms import get_average_magnitude, get_average_power\n",
    "\n",
    "print(set([u for u,_ in val_original_source]))\n",
    "print(set([u for u,_ in val_original_target]))\n",
    "\n",
    "s_x, s_y, q_x, q_y, _ = next(iter(train_processed_source))\n",
    "print(s_x)\n",
    "\n",
    "# for ds in [\n",
    "#     train_processed_source,\n",
    "#     val_processed_source,\n",
    "#     test_processed_source,\n",
    "#     train_processed_target,\n",
    "#     val_processed_target,\n",
    "#     test_processed_target\n",
    "# ]:\n",
    "#     for s_x, s_y, q_x, q_y, _ in ds:\n",
    "#         for X in (s_x, q_x):\n",
    "#             for x in X:\n",
    "#                 assert np.isclose(get_average_magnitude(x.numpy()), 1.0)\n",
    "#                 assert np.isclose(get_average_power(x.numpy()), 1.0)\n",
    "                "
   ]
  },
  {
   "cell_type": "code",
   "execution_count": 21,
   "id": "bbdacba1",
   "metadata": {
    "execution": {
     "iopub.execute_input": "2022-03-28T16:39:11.601901Z",
     "iopub.status.busy": "2022-03-28T16:39:11.601060Z",
     "iopub.status.idle": "2022-03-28T16:39:11.781186Z",
     "shell.execute_reply": "2022-03-28T16:39:11.781504Z"
    },
    "papermill": {
     "duration": 0.212227,
     "end_time": "2022-03-28T16:39:11.781655",
     "exception": false,
     "start_time": "2022-03-28T16:39:11.569428",
     "status": "completed"
    },
    "tags": []
   },
   "outputs": [
    {
     "name": "stdout",
     "output_type": "stream",
     "text": [
      "(2, 256)\n"
     ]
    }
   ],
   "source": [
    "###################################\n",
    "# Build the model\n",
    "###################################\n",
    "# easfsl only wants a tuple for the shape\n",
    "model = Steves_Prototypical_Network(x_net, device=p.device, x_shape=tuple(p.x_shape))\n",
    "optimizer = Adam(params=model.parameters(), lr=p.lr)"
   ]
  },
  {
   "cell_type": "code",
   "execution_count": 22,
   "id": "22b39ac5",
   "metadata": {
    "execution": {
     "iopub.execute_input": "2022-03-28T16:39:11.834176Z",
     "iopub.status.busy": "2022-03-28T16:39:11.833802Z",
     "iopub.status.idle": "2022-03-28T17:21:20.580421Z",
     "shell.execute_reply": "2022-03-28T17:21:20.580074Z"
    },
    "papermill": {
     "duration": 2528.775815,
     "end_time": "2022-03-28T17:21:20.580507",
     "exception": false,
     "start_time": "2022-03-28T16:39:11.804692",
     "status": "completed"
    },
    "tags": []
   },
   "outputs": [
    {
     "name": "stdout",
     "output_type": "stream",
     "text": [
      "epoch: 1, [batch: 1 / 6720], examples_per_second: 32.4845, train_label_loss: 2.7628, \n"
     ]
    },
    {
     "name": "stdout",
     "output_type": "stream",
     "text": [
      "epoch: 1, [batch: 672 / 6720], examples_per_second: 3762.3922, train_label_loss: 1.2115, \n"
     ]
    },
    {
     "name": "stdout",
     "output_type": "stream",
     "text": [
      "epoch: 1, [batch: 1344 / 6720], examples_per_second: 3831.3993, train_label_loss: 1.2146, \n"
     ]
    },
    {
     "name": "stdout",
     "output_type": "stream",
     "text": [
      "epoch: 1, [batch: 2016 / 6720], examples_per_second: 3866.3633, train_label_loss: 0.9794, \n"
     ]
    },
    {
     "name": "stdout",
     "output_type": "stream",
     "text": [
      "epoch: 1, [batch: 2688 / 6720], examples_per_second: 3844.9987, train_label_loss: 1.0785, \n"
     ]
    },
    {
     "name": "stdout",
     "output_type": "stream",
     "text": [
      "epoch: 1, [batch: 3360 / 6720], examples_per_second: 3906.2408, train_label_loss: 0.3956, \n"
     ]
    },
    {
     "name": "stdout",
     "output_type": "stream",
     "text": [
      "epoch: 1, [batch: 4032 / 6720], examples_per_second: 4062.0630, train_label_loss: 0.4192, \n"
     ]
    },
    {
     "name": "stdout",
     "output_type": "stream",
     "text": [
      "epoch: 1, [batch: 4704 / 6720], examples_per_second: 3905.9304, train_label_loss: 0.4784, \n"
     ]
    },
    {
     "name": "stdout",
     "output_type": "stream",
     "text": [
      "epoch: 1, [batch: 5376 / 6720], examples_per_second: 3942.3772, train_label_loss: 0.5136, \n"
     ]
    },
    {
     "name": "stdout",
     "output_type": "stream",
     "text": [
      "epoch: 1, [batch: 6048 / 6720], examples_per_second: 4165.0097, train_label_loss: 0.9428, \n"
     ]
    },
    {
     "name": "stdout",
     "output_type": "stream",
     "text": [
      "=============================================================\n",
      "epoch: 1, source_val_acc_label: 0.5781, target_val_acc_label: 0.5448, source_val_label_loss: 38.0833, target_val_label_loss: 450.2516, \n",
      "=============================================================\n"
     ]
    },
    {
     "name": "stdout",
     "output_type": "stream",
     "text": [
      "New best\n"
     ]
    },
    {
     "name": "stdout",
     "output_type": "stream",
     "text": [
      "epoch: 2, [batch: 1 / 6720], examples_per_second: 4.4088, train_label_loss: 0.6642, \n"
     ]
    },
    {
     "name": "stdout",
     "output_type": "stream",
     "text": [
      "epoch: 2, [batch: 672 / 6720], examples_per_second: 3832.7647, train_label_loss: 0.6811, \n"
     ]
    },
    {
     "name": "stdout",
     "output_type": "stream",
     "text": [
      "epoch: 2, [batch: 1344 / 6720], examples_per_second: 3887.1489, train_label_loss: 0.9198, \n"
     ]
    },
    {
     "name": "stdout",
     "output_type": "stream",
     "text": [
      "epoch: 2, [batch: 2016 / 6720], examples_per_second: 3466.7466, train_label_loss: 0.6051, \n"
     ]
    },
    {
     "name": "stdout",
     "output_type": "stream",
     "text": [
      "epoch: 2, [batch: 2688 / 6720], examples_per_second: 2932.7241, train_label_loss: 0.9777, \n"
     ]
    },
    {
     "name": "stdout",
     "output_type": "stream",
     "text": [
      "epoch: 2, [batch: 3360 / 6720], examples_per_second: 2959.9572, train_label_loss: 0.6027, \n"
     ]
    },
    {
     "name": "stdout",
     "output_type": "stream",
     "text": [
      "epoch: 2, [batch: 4032 / 6720], examples_per_second: 2949.4590, train_label_loss: 1.0111, \n"
     ]
    },
    {
     "name": "stdout",
     "output_type": "stream",
     "text": [
      "epoch: 2, [batch: 4704 / 6720], examples_per_second: 2949.9145, train_label_loss: 0.7223, \n"
     ]
    },
    {
     "name": "stdout",
     "output_type": "stream",
     "text": [
      "epoch: 2, [batch: 5376 / 6720], examples_per_second: 3007.3571, train_label_loss: 0.3650, \n"
     ]
    },
    {
     "name": "stdout",
     "output_type": "stream",
     "text": [
      "epoch: 2, [batch: 6048 / 6720], examples_per_second: 3224.0374, train_label_loss: 0.4379, \n"
     ]
    },
    {
     "name": "stdout",
     "output_type": "stream",
     "text": [
      "=============================================================\n",
      "epoch: 2, source_val_acc_label: 0.7983, target_val_acc_label: 0.7067, source_val_label_loss: 0.5791, target_val_label_loss: 195.6438, \n",
      "=============================================================\n"
     ]
    },
    {
     "name": "stdout",
     "output_type": "stream",
     "text": [
      "New best\n"
     ]
    },
    {
     "name": "stdout",
     "output_type": "stream",
     "text": [
      "epoch: 3, [batch: 1 / 6720], examples_per_second: 3.2027, train_label_loss: 0.8614, \n"
     ]
    },
    {
     "name": "stdout",
     "output_type": "stream",
     "text": [
      "epoch: 3, [batch: 672 / 6720], examples_per_second: 3248.4231, train_label_loss: 0.3745, \n"
     ]
    },
    {
     "name": "stdout",
     "output_type": "stream",
     "text": [
      "epoch: 3, [batch: 1344 / 6720], examples_per_second: 3436.0720, train_label_loss: 0.7510, \n"
     ]
    },
    {
     "name": "stdout",
     "output_type": "stream",
     "text": [
      "epoch: 3, [batch: 2016 / 6720], examples_per_second: 3414.4346, train_label_loss: 0.4403, \n"
     ]
    },
    {
     "name": "stdout",
     "output_type": "stream",
     "text": [
      "epoch: 3, [batch: 2688 / 6720], examples_per_second: 3066.1685, train_label_loss: 0.6426, \n"
     ]
    },
    {
     "name": "stdout",
     "output_type": "stream",
     "text": [
      "epoch: 3, [batch: 3360 / 6720], examples_per_second: 3048.3544, train_label_loss: 0.5472, \n"
     ]
    },
    {
     "name": "stdout",
     "output_type": "stream",
     "text": [
      "epoch: 3, [batch: 4032 / 6720], examples_per_second: 3032.6740, train_label_loss: 0.6567, \n"
     ]
    },
    {
     "name": "stdout",
     "output_type": "stream",
     "text": [
      "epoch: 3, [batch: 4704 / 6720], examples_per_second: 3027.9687, train_label_loss: 0.7080, \n"
     ]
    },
    {
     "name": "stdout",
     "output_type": "stream",
     "text": [
      "epoch: 3, [batch: 5376 / 6720], examples_per_second: 3017.4307, train_label_loss: 0.5191, \n"
     ]
    },
    {
     "name": "stdout",
     "output_type": "stream",
     "text": [
      "epoch: 3, [batch: 6048 / 6720], examples_per_second: 3237.8993, train_label_loss: 0.6781, \n"
     ]
    },
    {
     "name": "stdout",
     "output_type": "stream",
     "text": [
      "=============================================================\n",
      "epoch: 3, source_val_acc_label: 0.8164, target_val_acc_label: 0.7102, source_val_label_loss: 0.5335, target_val_label_loss: 199.7580, \n",
      "=============================================================\n"
     ]
    },
    {
     "name": "stdout",
     "output_type": "stream",
     "text": [
      "New best\n"
     ]
    },
    {
     "name": "stdout",
     "output_type": "stream",
     "text": [
      "epoch: 4, [batch: 1 / 6720], examples_per_second: 3.2280, train_label_loss: 0.5685, \n"
     ]
    },
    {
     "name": "stdout",
     "output_type": "stream",
     "text": [
      "epoch: 4, [batch: 672 / 6720], examples_per_second: 3249.6863, train_label_loss: 0.3500, \n"
     ]
    },
    {
     "name": "stdout",
     "output_type": "stream",
     "text": [
      "epoch: 4, [batch: 1344 / 6720], examples_per_second: 3487.4651, train_label_loss: 0.5091, \n"
     ]
    },
    {
     "name": "stdout",
     "output_type": "stream",
     "text": [
      "epoch: 4, [batch: 2016 / 6720], examples_per_second: 3532.2223, train_label_loss: 0.5818, \n"
     ]
    },
    {
     "name": "stdout",
     "output_type": "stream",
     "text": [
      "epoch: 4, [batch: 2688 / 6720], examples_per_second: 3010.9257, train_label_loss: 0.7464, \n"
     ]
    },
    {
     "name": "stdout",
     "output_type": "stream",
     "text": [
      "epoch: 4, [batch: 3360 / 6720], examples_per_second: 3037.4573, train_label_loss: 0.7115, \n"
     ]
    },
    {
     "name": "stdout",
     "output_type": "stream",
     "text": [
      "epoch: 4, [batch: 4032 / 6720], examples_per_second: 3089.4178, train_label_loss: 0.4836, \n"
     ]
    },
    {
     "name": "stdout",
     "output_type": "stream",
     "text": [
      "epoch: 4, [batch: 4704 / 6720], examples_per_second: 3028.6623, train_label_loss: 0.6695, \n"
     ]
    },
    {
     "name": "stdout",
     "output_type": "stream",
     "text": [
      "epoch: 4, [batch: 5376 / 6720], examples_per_second: 3078.0775, train_label_loss: 0.5439, \n"
     ]
    },
    {
     "name": "stdout",
     "output_type": "stream",
     "text": [
      "epoch: 4, [batch: 6048 / 6720], examples_per_second: 3121.2566, train_label_loss: 0.2200, \n"
     ]
    },
    {
     "name": "stdout",
     "output_type": "stream",
     "text": [
      "=============================================================\n",
      "epoch: 4, source_val_acc_label: 0.8375, target_val_acc_label: 0.7829, source_val_label_loss: 0.4497, target_val_label_loss: 144.0687, \n",
      "=============================================================\n"
     ]
    },
    {
     "name": "stdout",
     "output_type": "stream",
     "text": [
      "New best\n"
     ]
    },
    {
     "name": "stdout",
     "output_type": "stream",
     "text": [
      "epoch: 5, [batch: 1 / 6720], examples_per_second: 3.2357, train_label_loss: 0.6701, \n"
     ]
    },
    {
     "name": "stdout",
     "output_type": "stream",
     "text": [
      "epoch: 5, [batch: 672 / 6720], examples_per_second: 3172.4352, train_label_loss: 0.5587, \n"
     ]
    },
    {
     "name": "stdout",
     "output_type": "stream",
     "text": [
      "epoch: 5, [batch: 1344 / 6720], examples_per_second: 3510.4615, train_label_loss: 0.3192, \n"
     ]
    },
    {
     "name": "stdout",
     "output_type": "stream",
     "text": [
      "epoch: 5, [batch: 2016 / 6720], examples_per_second: 3548.4758, train_label_loss: 0.2992, \n"
     ]
    },
    {
     "name": "stdout",
     "output_type": "stream",
     "text": [
      "epoch: 5, [batch: 2688 / 6720], examples_per_second: 3006.6009, train_label_loss: 0.3797, \n"
     ]
    },
    {
     "name": "stdout",
     "output_type": "stream",
     "text": [
      "epoch: 5, [batch: 3360 / 6720], examples_per_second: 3001.6026, train_label_loss: 0.5328, \n"
     ]
    },
    {
     "name": "stdout",
     "output_type": "stream",
     "text": [
      "epoch: 5, [batch: 4032 / 6720], examples_per_second: 3003.6167, train_label_loss: 3.2015, \n"
     ]
    },
    {
     "name": "stdout",
     "output_type": "stream",
     "text": [
      "epoch: 5, [batch: 4704 / 6720], examples_per_second: 2987.1431, train_label_loss: 0.4199, \n"
     ]
    },
    {
     "name": "stdout",
     "output_type": "stream",
     "text": [
      "epoch: 5, [batch: 5376 / 6720], examples_per_second: 2997.1831, train_label_loss: 0.9283, \n"
     ]
    },
    {
     "name": "stdout",
     "output_type": "stream",
     "text": [
      "epoch: 5, [batch: 6048 / 6720], examples_per_second: 3007.8860, train_label_loss: 0.8874, \n"
     ]
    },
    {
     "name": "stdout",
     "output_type": "stream",
     "text": [
      "=============================================================\n",
      "epoch: 5, source_val_acc_label: 0.8375, target_val_acc_label: 0.8772, source_val_label_loss: 0.6287, target_val_label_loss: 85.2179, \n",
      "=============================================================\n"
     ]
    },
    {
     "name": "stdout",
     "output_type": "stream",
     "text": [
      "New best\n"
     ]
    },
    {
     "name": "stdout",
     "output_type": "stream",
     "text": [
      "epoch: 6, [batch: 1 / 6720], examples_per_second: 3.2923, train_label_loss: 0.7660, \n"
     ]
    },
    {
     "name": "stdout",
     "output_type": "stream",
     "text": [
      "epoch: 6, [batch: 672 / 6720], examples_per_second: 3158.3977, train_label_loss: 0.5563, \n"
     ]
    },
    {
     "name": "stdout",
     "output_type": "stream",
     "text": [
      "epoch: 6, [batch: 1344 / 6720], examples_per_second: 3439.8652, train_label_loss: 1.0229, \n"
     ]
    },
    {
     "name": "stdout",
     "output_type": "stream",
     "text": [
      "epoch: 6, [batch: 2016 / 6720], examples_per_second: 3511.9553, train_label_loss: 0.7358, \n"
     ]
    },
    {
     "name": "stdout",
     "output_type": "stream",
     "text": [
      "epoch: 6, [batch: 2688 / 6720], examples_per_second: 3047.5363, train_label_loss: 0.4043, \n"
     ]
    },
    {
     "name": "stdout",
     "output_type": "stream",
     "text": [
      "epoch: 6, [batch: 3360 / 6720], examples_per_second: 3021.8257, train_label_loss: 0.2578, \n"
     ]
    },
    {
     "name": "stdout",
     "output_type": "stream",
     "text": [
      "epoch: 6, [batch: 4032 / 6720], examples_per_second: 2998.5926, train_label_loss: 0.3804, \n"
     ]
    },
    {
     "name": "stdout",
     "output_type": "stream",
     "text": [
      "epoch: 6, [batch: 4704 / 6720], examples_per_second: 2976.8991, train_label_loss: 0.3699, \n"
     ]
    },
    {
     "name": "stdout",
     "output_type": "stream",
     "text": [
      "epoch: 6, [batch: 5376 / 6720], examples_per_second: 2966.0200, train_label_loss: 0.8008, \n"
     ]
    },
    {
     "name": "stdout",
     "output_type": "stream",
     "text": [
      "epoch: 6, [batch: 6048 / 6720], examples_per_second: 2982.3361, train_label_loss: 0.5591, \n"
     ]
    },
    {
     "name": "stdout",
     "output_type": "stream",
     "text": [
      "=============================================================\n",
      "epoch: 6, source_val_acc_label: 0.8281, target_val_acc_label: 0.8510, source_val_label_loss: 0.7325, target_val_label_loss: 67.7301, \n",
      "=============================================================\n"
     ]
    },
    {
     "name": "stdout",
     "output_type": "stream",
     "text": [
      "epoch: 7, [batch: 1 / 6720], examples_per_second: 3.3274, train_label_loss: 0.1982, \n"
     ]
    },
    {
     "name": "stdout",
     "output_type": "stream",
     "text": [
      "epoch: 7, [batch: 672 / 6720], examples_per_second: 3074.1389, train_label_loss: 0.2463, \n"
     ]
    },
    {
     "name": "stdout",
     "output_type": "stream",
     "text": [
      "epoch: 7, [batch: 1344 / 6720], examples_per_second: 3453.5042, train_label_loss: 0.3784, \n"
     ]
    },
    {
     "name": "stdout",
     "output_type": "stream",
     "text": [
      "epoch: 7, [batch: 2016 / 6720], examples_per_second: 3587.3648, train_label_loss: 0.3144, \n"
     ]
    },
    {
     "name": "stdout",
     "output_type": "stream",
     "text": [
      "epoch: 7, [batch: 2688 / 6720], examples_per_second: 3062.1085, train_label_loss: 0.2588, \n"
     ]
    },
    {
     "name": "stdout",
     "output_type": "stream",
     "text": [
      "epoch: 7, [batch: 3360 / 6720], examples_per_second: 3012.4668, train_label_loss: 0.4415, \n"
     ]
    },
    {
     "name": "stdout",
     "output_type": "stream",
     "text": [
      "epoch: 7, [batch: 4032 / 6720], examples_per_second: 3020.0962, train_label_loss: 0.2009, \n"
     ]
    },
    {
     "name": "stdout",
     "output_type": "stream",
     "text": [
      "epoch: 7, [batch: 4704 / 6720], examples_per_second: 2982.1836, train_label_loss: 0.4629, \n"
     ]
    },
    {
     "name": "stdout",
     "output_type": "stream",
     "text": [
      "epoch: 7, [batch: 5376 / 6720], examples_per_second: 2958.1643, train_label_loss: 0.3526, \n"
     ]
    },
    {
     "name": "stdout",
     "output_type": "stream",
     "text": [
      "epoch: 7, [batch: 6048 / 6720], examples_per_second: 2971.0608, train_label_loss: 0.1822, \n"
     ]
    },
    {
     "name": "stdout",
     "output_type": "stream",
     "text": [
      "=============================================================\n",
      "epoch: 7, source_val_acc_label: 0.8661, target_val_acc_label: 0.8782, source_val_label_loss: 0.3849, target_val_label_loss: 50.8146, \n",
      "=============================================================\n"
     ]
    },
    {
     "name": "stdout",
     "output_type": "stream",
     "text": [
      "New best\n"
     ]
    },
    {
     "name": "stdout",
     "output_type": "stream",
     "text": [
      "epoch: 8, [batch: 1 / 6720], examples_per_second: 3.3729, train_label_loss: 0.2621, \n"
     ]
    },
    {
     "name": "stdout",
     "output_type": "stream",
     "text": [
      "epoch: 8, [batch: 672 / 6720], examples_per_second: 3039.2995, train_label_loss: 0.2454, \n"
     ]
    },
    {
     "name": "stdout",
     "output_type": "stream",
     "text": [
      "epoch: 8, [batch: 1344 / 6720], examples_per_second: 3469.1402, train_label_loss: 0.2207, \n"
     ]
    },
    {
     "name": "stdout",
     "output_type": "stream",
     "text": [
      "epoch: 8, [batch: 2016 / 6720], examples_per_second: 3460.7937, train_label_loss: 0.2548, \n"
     ]
    },
    {
     "name": "stdout",
     "output_type": "stream",
     "text": [
      "epoch: 8, [batch: 2688 / 6720], examples_per_second: 3222.5049, train_label_loss: 0.2931, \n"
     ]
    },
    {
     "name": "stdout",
     "output_type": "stream",
     "text": [
      "epoch: 8, [batch: 3360 / 6720], examples_per_second: 3033.6601, train_label_loss: 0.5426, \n"
     ]
    },
    {
     "name": "stdout",
     "output_type": "stream",
     "text": [
      "epoch: 8, [batch: 4032 / 6720], examples_per_second: 3005.6652, train_label_loss: 0.3047, \n"
     ]
    },
    {
     "name": "stdout",
     "output_type": "stream",
     "text": [
      "epoch: 8, [batch: 4704 / 6720], examples_per_second: 2990.0186, train_label_loss: 0.2635, \n"
     ]
    },
    {
     "name": "stdout",
     "output_type": "stream",
     "text": [
      "epoch: 8, [batch: 5376 / 6720], examples_per_second: 3023.6816, train_label_loss: 0.1084, \n"
     ]
    },
    {
     "name": "stdout",
     "output_type": "stream",
     "text": [
      "epoch: 8, [batch: 6048 / 6720], examples_per_second: 3022.8923, train_label_loss: 0.3548, \n"
     ]
    },
    {
     "name": "stdout",
     "output_type": "stream",
     "text": [
      "=============================================================\n",
      "epoch: 8, source_val_acc_label: 0.8702, target_val_acc_label: 0.8654, source_val_label_loss: 0.3628, target_val_label_loss: 72.8171, \n",
      "=============================================================\n"
     ]
    },
    {
     "name": "stdout",
     "output_type": "stream",
     "text": [
      "epoch: 9, [batch: 1 / 6720], examples_per_second: 3.2421, train_label_loss: 0.5791, \n"
     ]
    },
    {
     "name": "stdout",
     "output_type": "stream",
     "text": [
      "epoch: 9, [batch: 672 / 6720], examples_per_second: 3365.4831, train_label_loss: 2.3247, \n"
     ]
    },
    {
     "name": "stdout",
     "output_type": "stream",
     "text": [
      "epoch: 9, [batch: 1344 / 6720], examples_per_second: 3716.1566, train_label_loss: 0.4241, \n"
     ]
    },
    {
     "name": "stdout",
     "output_type": "stream",
     "text": [
      "epoch: 9, [batch: 2016 / 6720], examples_per_second: 3935.7537, train_label_loss: 0.7895, \n"
     ]
    },
    {
     "name": "stdout",
     "output_type": "stream",
     "text": [
      "epoch: 9, [batch: 2688 / 6720], examples_per_second: 3451.9964, train_label_loss: 0.2195, \n"
     ]
    },
    {
     "name": "stdout",
     "output_type": "stream",
     "text": [
      "epoch: 9, [batch: 3360 / 6720], examples_per_second: 3391.9059, train_label_loss: 0.5979, \n"
     ]
    },
    {
     "name": "stdout",
     "output_type": "stream",
     "text": [
      "epoch: 9, [batch: 4032 / 6720], examples_per_second: 3406.2458, train_label_loss: 0.6164, \n"
     ]
    },
    {
     "name": "stdout",
     "output_type": "stream",
     "text": [
      "epoch: 9, [batch: 4704 / 6720], examples_per_second: 3510.4657, train_label_loss: 0.2776, \n"
     ]
    },
    {
     "name": "stdout",
     "output_type": "stream",
     "text": [
      "epoch: 9, [batch: 5376 / 6720], examples_per_second: 3853.2804, train_label_loss: 0.2774, \n"
     ]
    },
    {
     "name": "stdout",
     "output_type": "stream",
     "text": [
      "epoch: 9, [batch: 6048 / 6720], examples_per_second: 3848.9648, train_label_loss: 0.5221, \n"
     ]
    },
    {
     "name": "stdout",
     "output_type": "stream",
     "text": [
      "=============================================================\n",
      "epoch: 9, source_val_acc_label: 0.8177, target_val_acc_label: 0.9095, source_val_label_loss: 0.5675, target_val_label_loss: 57.6987, \n",
      "=============================================================\n"
     ]
    },
    {
     "name": "stdout",
     "output_type": "stream",
     "text": [
      "New best\n"
     ]
    },
    {
     "name": "stdout",
     "output_type": "stream",
     "text": [
      "epoch: 10, [batch: 1 / 6720], examples_per_second: 4.0184, train_label_loss: 0.1398, \n"
     ]
    },
    {
     "name": "stdout",
     "output_type": "stream",
     "text": [
      "epoch: 10, [batch: 672 / 6720], examples_per_second: 3908.2951, train_label_loss: 1.2014, \n"
     ]
    },
    {
     "name": "stdout",
     "output_type": "stream",
     "text": [
      "epoch: 10, [batch: 1344 / 6720], examples_per_second: 4311.5546, train_label_loss: 0.4975, \n"
     ]
    },
    {
     "name": "stdout",
     "output_type": "stream",
     "text": [
      "epoch: 10, [batch: 2016 / 6720], examples_per_second: 4564.1043, train_label_loss: 0.5133, \n"
     ]
    },
    {
     "name": "stdout",
     "output_type": "stream",
     "text": [
      "epoch: 10, [batch: 2688 / 6720], examples_per_second: 4047.9575, train_label_loss: 0.2399, \n"
     ]
    },
    {
     "name": "stdout",
     "output_type": "stream",
     "text": [
      "epoch: 10, [batch: 3360 / 6720], examples_per_second: 3977.0674, train_label_loss: 0.4393, \n"
     ]
    },
    {
     "name": "stdout",
     "output_type": "stream",
     "text": [
      "epoch: 10, [batch: 4032 / 6720], examples_per_second: 3987.8615, train_label_loss: 0.1550, \n"
     ]
    },
    {
     "name": "stdout",
     "output_type": "stream",
     "text": [
      "epoch: 10, [batch: 4704 / 6720], examples_per_second: 3939.7839, train_label_loss: 0.2952, \n"
     ]
    },
    {
     "name": "stdout",
     "output_type": "stream",
     "text": [
      "epoch: 10, [batch: 5376 / 6720], examples_per_second: 3869.1039, train_label_loss: 0.2072, \n"
     ]
    },
    {
     "name": "stdout",
     "output_type": "stream",
     "text": [
      "epoch: 10, [batch: 6048 / 6720], examples_per_second: 3859.6568, train_label_loss: 0.6169, \n"
     ]
    },
    {
     "name": "stdout",
     "output_type": "stream",
     "text": [
      "=============================================================\n",
      "epoch: 10, source_val_acc_label: 0.8342, target_val_acc_label: 0.8799, source_val_label_loss: 0.5499, target_val_label_loss: 78.1086, \n",
      "=============================================================\n"
     ]
    },
    {
     "name": "stdout",
     "output_type": "stream",
     "text": [
      "epoch: 11, [batch: 1 / 6720], examples_per_second: 3.7378, train_label_loss: 0.5848, \n"
     ]
    },
    {
     "name": "stdout",
     "output_type": "stream",
     "text": [
      "epoch: 11, [batch: 672 / 6720], examples_per_second: 3012.2775, train_label_loss: 0.5409, \n"
     ]
    },
    {
     "name": "stdout",
     "output_type": "stream",
     "text": [
      "epoch: 11, [batch: 1344 / 6720], examples_per_second: 3412.1199, train_label_loss: 0.0911, \n"
     ]
    },
    {
     "name": "stdout",
     "output_type": "stream",
     "text": [
      "epoch: 11, [batch: 2016 / 6720], examples_per_second: 3386.5625, train_label_loss: 0.3616, \n"
     ]
    },
    {
     "name": "stdout",
     "output_type": "stream",
     "text": [
      "epoch: 11, [batch: 2688 / 6720], examples_per_second: 3276.3379, train_label_loss: 0.1424, \n"
     ]
    },
    {
     "name": "stdout",
     "output_type": "stream",
     "text": [
      "epoch: 11, [batch: 3360 / 6720], examples_per_second: 2972.0708, train_label_loss: 0.4915, \n"
     ]
    },
    {
     "name": "stdout",
     "output_type": "stream",
     "text": [
      "epoch: 11, [batch: 4032 / 6720], examples_per_second: 3019.2650, train_label_loss: 0.3465, \n"
     ]
    },
    {
     "name": "stdout",
     "output_type": "stream",
     "text": [
      "epoch: 11, [batch: 4704 / 6720], examples_per_second: 2949.8090, train_label_loss: 0.7125, \n"
     ]
    },
    {
     "name": "stdout",
     "output_type": "stream",
     "text": [
      "epoch: 11, [batch: 5376 / 6720], examples_per_second: 2984.7959, train_label_loss: 0.1487, \n"
     ]
    },
    {
     "name": "stdout",
     "output_type": "stream",
     "text": [
      "epoch: 11, [batch: 6048 / 6720], examples_per_second: 2947.1129, train_label_loss: 0.1886, \n"
     ]
    },
    {
     "name": "stdout",
     "output_type": "stream",
     "text": [
      "=============================================================\n",
      "epoch: 11, source_val_acc_label: 0.8701, target_val_acc_label: 0.8764, source_val_label_loss: 0.3722, target_val_label_loss: 55.8022, \n",
      "=============================================================\n"
     ]
    },
    {
     "name": "stdout",
     "output_type": "stream",
     "text": [
      "epoch: 12, [batch: 1 / 6720], examples_per_second: 3.3309, train_label_loss: 0.1771, \n"
     ]
    },
    {
     "name": "stdout",
     "output_type": "stream",
     "text": [
      "epoch: 12, [batch: 672 / 6720], examples_per_second: 3082.2857, train_label_loss: 0.5207, \n"
     ]
    },
    {
     "name": "stdout",
     "output_type": "stream",
     "text": [
      "epoch: 12, [batch: 1344 / 6720], examples_per_second: 3393.9425, train_label_loss: 0.5736, \n"
     ]
    },
    {
     "name": "stdout",
     "output_type": "stream",
     "text": [
      "epoch: 12, [batch: 2016 / 6720], examples_per_second: 3462.0851, train_label_loss: 0.6695, \n"
     ]
    },
    {
     "name": "stdout",
     "output_type": "stream",
     "text": [
      "epoch: 12, [batch: 2688 / 6720], examples_per_second: 3258.6833, train_label_loss: 0.2384, \n"
     ]
    },
    {
     "name": "stdout",
     "output_type": "stream",
     "text": [
      "epoch: 12, [batch: 3360 / 6720], examples_per_second: 2950.2850, train_label_loss: 0.3926, \n"
     ]
    },
    {
     "name": "stdout",
     "output_type": "stream",
     "text": [
      "epoch: 12, [batch: 4032 / 6720], examples_per_second: 2959.5730, train_label_loss: 0.9277, \n"
     ]
    },
    {
     "name": "stdout",
     "output_type": "stream",
     "text": [
      "epoch: 12, [batch: 4704 / 6720], examples_per_second: 2955.4273, train_label_loss: 0.3143, \n"
     ]
    },
    {
     "name": "stdout",
     "output_type": "stream",
     "text": [
      "epoch: 12, [batch: 5376 / 6720], examples_per_second: 2979.7598, train_label_loss: 0.4682, \n"
     ]
    },
    {
     "name": "stdout",
     "output_type": "stream",
     "text": [
      "epoch: 12, [batch: 6048 / 6720], examples_per_second: 2999.5714, train_label_loss: 0.5715, \n"
     ]
    },
    {
     "name": "stdout",
     "output_type": "stream",
     "text": [
      "=============================================================\n",
      "epoch: 12, source_val_acc_label: 0.8631, target_val_acc_label: 0.8784, source_val_label_loss: 0.3967, target_val_label_loss: 54.5392, \n",
      "=============================================================\n"
     ]
    },
    {
     "name": "stdout",
     "output_type": "stream",
     "text": [
      "epoch: 13, [batch: 1 / 6720], examples_per_second: 3.3152, train_label_loss: 0.9140, \n"
     ]
    },
    {
     "name": "stdout",
     "output_type": "stream",
     "text": [
      "epoch: 13, [batch: 672 / 6720], examples_per_second: 2951.2964, train_label_loss: 0.3038, \n"
     ]
    },
    {
     "name": "stdout",
     "output_type": "stream",
     "text": [
      "epoch: 13, [batch: 1344 / 6720], examples_per_second: 3366.2568, train_label_loss: 0.2081, \n"
     ]
    },
    {
     "name": "stdout",
     "output_type": "stream",
     "text": [
      "epoch: 13, [batch: 2016 / 6720], examples_per_second: 3431.1454, train_label_loss: 0.2866, \n"
     ]
    },
    {
     "name": "stdout",
     "output_type": "stream",
     "text": [
      "epoch: 13, [batch: 2688 / 6720], examples_per_second: 3302.8478, train_label_loss: 0.5935, \n"
     ]
    },
    {
     "name": "stdout",
     "output_type": "stream",
     "text": [
      "epoch: 13, [batch: 3360 / 6720], examples_per_second: 2977.3381, train_label_loss: 0.3552, \n"
     ]
    },
    {
     "name": "stdout",
     "output_type": "stream",
     "text": [
      "epoch: 13, [batch: 4032 / 6720], examples_per_second: 2985.0901, train_label_loss: 0.1976, \n"
     ]
    },
    {
     "name": "stdout",
     "output_type": "stream",
     "text": [
      "epoch: 13, [batch: 4704 / 6720], examples_per_second: 3008.0296, train_label_loss: 0.1863, \n"
     ]
    },
    {
     "name": "stdout",
     "output_type": "stream",
     "text": [
      "epoch: 13, [batch: 5376 / 6720], examples_per_second: 3003.8869, train_label_loss: 0.1633, \n"
     ]
    },
    {
     "name": "stdout",
     "output_type": "stream",
     "text": [
      "epoch: 13, [batch: 6048 / 6720], examples_per_second: 2993.5285, train_label_loss: 0.3935, \n"
     ]
    },
    {
     "name": "stdout",
     "output_type": "stream",
     "text": [
      "=============================================================\n",
      "epoch: 13, source_val_acc_label: 0.8811, target_val_acc_label: 0.8902, source_val_label_loss: 0.3453, target_val_label_loss: 44.1488, \n",
      "=============================================================\n"
     ]
    },
    {
     "name": "stdout",
     "output_type": "stream",
     "text": [
      "Patience (3) exhausted\n"
     ]
    }
   ],
   "source": [
    "###################################\n",
    "# train\n",
    "###################################\n",
    "jig = PTN_Train_Eval_Test_Jig(model, p.BEST_MODEL_PATH, p.device)\n",
    "\n",
    "jig.train(\n",
    "    train_iterable=datasets.source.processed.train,\n",
    "    source_val_iterable=datasets.source.processed.val,\n",
    "    target_val_iterable=datasets.target.processed.val,\n",
    "    num_epochs=p.n_epoch,\n",
    "    num_logs_per_epoch=p.NUM_LOGS_PER_EPOCH,\n",
    "    patience=p.patience,\n",
    "    optimizer=optimizer,\n",
    "    criteria_for_best=p.criteria_for_best,\n",
    ")"
   ]
  },
  {
   "cell_type": "code",
   "execution_count": 23,
   "id": "31e8fabf",
   "metadata": {
    "execution": {
     "iopub.execute_input": "2022-03-28T17:21:20.710502Z",
     "iopub.status.busy": "2022-03-28T17:21:20.710130Z",
     "iopub.status.idle": "2022-03-28T17:21:20.743685Z",
     "shell.execute_reply": "2022-03-28T17:21:20.742828Z"
    },
    "papermill": {
     "duration": 0.099594,
     "end_time": "2022-03-28T17:21:20.743855",
     "exception": false,
     "start_time": "2022-03-28T17:21:20.644261",
     "status": "completed"
    },
    "tags": []
   },
   "outputs": [],
   "source": [
    "total_experiment_time_secs = time.time() - start_time_secs"
   ]
  },
  {
   "cell_type": "code",
   "execution_count": 24,
   "id": "87b9595b",
   "metadata": {
    "execution": {
     "iopub.execute_input": "2022-03-28T17:21:20.879238Z",
     "iopub.status.busy": "2022-03-28T17:21:20.878457Z",
     "iopub.status.idle": "2022-03-28T17:24:38.512680Z",
     "shell.execute_reply": "2022-03-28T17:24:38.513418Z"
    },
    "papermill": {
     "duration": 197.702944,
     "end_time": "2022-03-28T17:24:38.513652",
     "exception": false,
     "start_time": "2022-03-28T17:21:20.810708",
     "status": "completed"
    },
    "tags": []
   },
   "outputs": [],
   "source": [
    "###################################\n",
    "# Evaluate the model\n",
    "###################################\n",
    "source_test_label_accuracy, source_test_label_loss = jig.test(datasets.source.processed.test)\n",
    "target_test_label_accuracy, target_test_label_loss = jig.test(datasets.target.processed.test)\n",
    "\n",
    "source_val_label_accuracy, source_val_label_loss = jig.test(datasets.source.processed.val)\n",
    "target_val_label_accuracy, target_val_label_loss = jig.test(datasets.target.processed.val)\n",
    "\n",
    "history = jig.get_history()\n",
    "\n",
    "total_epochs_trained = len(history[\"epoch_indices\"])\n",
    "\n",
    "val_dl = Iterable_Aggregator((datasets.source.original.val,datasets.target.original.val))\n",
    "\n",
    "confusion = ptn_confusion_by_domain_over_dataloader(model, p.device, val_dl)\n",
    "per_domain_accuracy = per_domain_accuracy_from_confusion(confusion)\n",
    "\n",
    "# Add a key to per_domain_accuracy for if it was a source domain\n",
    "for domain, accuracy in per_domain_accuracy.items():\n",
    "    per_domain_accuracy[domain] = {\n",
    "        \"accuracy\": accuracy,\n",
    "        \"source?\": domain in p.domains_source\n",
    "    }\n",
    "\n",
    "# Do an independent accuracy assesment JUST TO BE SURE!\n",
    "# _source_test_label_accuracy = independent_accuracy_assesment(model, datasets.source.processed.test, p.device)\n",
    "# _target_test_label_accuracy = independent_accuracy_assesment(model, datasets.target.processed.test, p.device)\n",
    "# _source_val_label_accuracy = independent_accuracy_assesment(model, datasets.source.processed.val, p.device)\n",
    "# _target_val_label_accuracy = independent_accuracy_assesment(model, datasets.target.processed.val, p.device)\n",
    "\n",
    "# assert(_source_test_label_accuracy == source_test_label_accuracy)\n",
    "# assert(_target_test_label_accuracy == target_test_label_accuracy)\n",
    "# assert(_source_val_label_accuracy == source_val_label_accuracy)\n",
    "# assert(_target_val_label_accuracy == target_val_label_accuracy)\n",
    "\n",
    "experiment = {\n",
    "    \"experiment_name\": p.experiment_name,\n",
    "    \"parameters\": dict(p),\n",
    "    \"results\": {\n",
    "        \"source_test_label_accuracy\": source_test_label_accuracy,\n",
    "        \"source_test_label_loss\": source_test_label_loss,\n",
    "        \"target_test_label_accuracy\": target_test_label_accuracy,\n",
    "        \"target_test_label_loss\": target_test_label_loss,\n",
    "        \"source_val_label_accuracy\": source_val_label_accuracy,\n",
    "        \"source_val_label_loss\": source_val_label_loss,\n",
    "        \"target_val_label_accuracy\": target_val_label_accuracy,\n",
    "        \"target_val_label_loss\": target_val_label_loss,\n",
    "        \"total_epochs_trained\": total_epochs_trained,\n",
    "        \"total_experiment_time_secs\": total_experiment_time_secs,\n",
    "        \"confusion\": confusion,\n",
    "        \"per_domain_accuracy\": per_domain_accuracy,\n",
    "    },\n",
    "    \"history\": history,\n",
    "    \"dataset_metrics\": get_dataset_metrics(datasets, \"ptn\"),\n",
    "}"
   ]
  },
  {
   "cell_type": "code",
   "execution_count": 25,
   "id": "54a21829",
   "metadata": {
    "execution": {
     "iopub.execute_input": "2022-03-28T17:24:38.659310Z",
     "iopub.status.busy": "2022-03-28T17:24:38.658918Z",
     "iopub.status.idle": "2022-03-28T17:24:38.870226Z",
     "shell.execute_reply": "2022-03-28T17:24:38.870702Z"
    },
    "papermill": {
     "duration": 0.279615,
     "end_time": "2022-03-28T17:24:38.870930",
     "exception": false,
     "start_time": "2022-03-28T17:24:38.591315",
     "status": "completed"
    },
    "tags": []
   },
   "outputs": [
    {
     "data": {
      "image/png": "[encoded data removed]",
      "text/plain": [
       "<Figure size 1080x504 with 1 Axes>"
      ]
     },
     "metadata": {
      "needs_background": "light"
     },
     "output_type": "display_data"
    }
   ],
   "source": [
    "ax = get_loss_curve(experiment)\n",
    "plt.show()"
   ]
  },
  {
   "cell_type": "code",
   "execution_count": 26,
   "id": "fd8a0f60",
   "metadata": {
    "execution": {
     "iopub.execute_input": "2022-03-28T17:24:39.009750Z",
     "iopub.status.busy": "2022-03-28T17:24:39.009369Z",
     "iopub.status.idle": "2022-03-28T17:24:39.380198Z",
     "shell.execute_reply": "2022-03-28T17:24:39.380745Z"
    },
    "papermill": {
     "duration": 0.442553,
     "end_time": "2022-03-28T17:24:39.380976",
     "exception": false,
     "start_time": "2022-03-28T17:24:38.938423",
     "status": "completed"
    },
    "tags": []
   },
   "outputs": [
    {
     "data": {
      "text/plain": [
       "<AxesSubplot:title={'center':'Results'}>"
      ]
     },
     "execution_count": 26,
     "metadata": {},
     "output_type": "execute_result"
    },
    {
     "data": {
      "image/png": "[encoded data removed]",
      "text/plain": [
       "<Figure size 1080x504 with 1 Axes>"
      ]
     },
     "metadata": {
      "needs_background": "light"
     },
     "output_type": "display_data"
    }
   ],
   "source": [
    "get_results_table(experiment)"
   ]
  },
  {
   "cell_type": "code",
   "execution_count": 27,
   "id": "cf8dc689",
   "metadata": {
    "execution": {
     "iopub.execute_input": "2022-03-28T17:24:39.519791Z",
     "iopub.status.busy": "2022-03-28T17:24:39.519367Z",
     "iopub.status.idle": "2022-03-28T17:24:39.760315Z",
     "shell.execute_reply": "2022-03-28T17:24:39.759508Z"
    },
    "papermill": {
     "duration": 0.308309,
     "end_time": "2022-03-28T17:24:39.760486",
     "exception": false,
     "start_time": "2022-03-28T17:24:39.452177",
     "status": "completed"
    },
    "tags": []
   },
   "outputs": [
    {
     "data": {
      "text/plain": [
       "<AxesSubplot:title={'center':'Per Domain Validation Accuracy'}, xlabel='domain'>"
      ]
     },
     "execution_count": 27,
     "metadata": {},
     "output_type": "execute_result"
    },
    {
     "data": {
      "image/png": "[encoded data removed]",
      "text/plain": [
       "<Figure size 1080x504 with 1 Axes>"
      ]
     },
     "metadata": {
      "needs_background": "light"
     },
     "output_type": "display_data"
    }
   ],
   "source": [
    "get_domain_accuracies(experiment)"
   ]
  },
  {
   "cell_type": "code",
   "execution_count": 28,
   "id": "a74ae082",
   "metadata": {
    "execution": {
     "iopub.execute_input": "2022-03-28T17:24:39.904252Z",
     "iopub.status.busy": "2022-03-28T17:24:39.903709Z",
     "iopub.status.idle": "2022-03-28T17:24:39.931451Z",
     "shell.execute_reply": "2022-03-28T17:24:39.930612Z"
    },
    "papermill": {
     "duration": 0.099439,
     "end_time": "2022-03-28T17:24:39.931635",
     "exception": false,
     "start_time": "2022-03-28T17:24:39.832196",
     "status": "completed"
    },
    "tags": []
   },
   "outputs": [
    {
     "name": "stdout",
     "output_type": "stream",
     "text": [
      "Source Test Label Accuracy: 0.82138671875 Target Test Label Accuracy: 0.9079782731376975\n",
      "Source Val Label Accuracy: 0.8177083333333334 Target Val Label Accuracy: 0.9095357142857143\n"
     ]
    }
   ],
   "source": [
    "print(\"Source Test Label Accuracy:\", experiment[\"results\"][\"source_test_label_accuracy\"], \"Target Test Label Accuracy:\", experiment[\"results\"][\"target_test_label_accuracy\"])\n",
    "print(\"Source Val Label Accuracy:\", experiment[\"results\"][\"source_val_label_accuracy\"], \"Target Val Label Accuracy:\", experiment[\"results\"][\"target_val_label_accuracy\"])"
   ]
  },
  {
   "cell_type": "code",
   "execution_count": 29,
   "id": "dacca602",
   "metadata": {
    "execution": {
     "iopub.execute_input": "2022-03-28T17:24:40.074575Z",
     "iopub.status.busy": "2022-03-28T17:24:40.074200Z",
     "iopub.status.idle": "2022-03-28T17:24:40.099792Z",
     "shell.execute_reply": "2022-03-28T17:24:40.100480Z"
    },
    "papermill": {
     "duration": 0.097126,
     "end_time": "2022-03-28T17:24:40.100672",
     "exception": false,
     "start_time": "2022-03-28T17:24:40.003546",
     "status": "completed"
    },
    "tags": [
     "experiment_json"
    ]
   },
   "outputs": [
    {
     "data": {
      "text/plain": [
       "'{\"experiment_name\": \"tl_3-jitter5v2:oracle.run1.framed -> cores\", \"parameters\": {\"experiment_name\": \"tl_3-jitter5v2:oracle.run1.framed -> cores\", \"device\": \"cuda\", \"lr\": 0.0001, \"x_shape\": [2, 256], \"n_shot\": 3, \"n_query\": 2, \"train_k_factor\": 3, \"val_k_factor\": 2, \"test_k_factor\": 2, \"torch_default_dtype\": \"torch.float32\", \"n_epoch\": 50, \"patience\": 3, \"criteria_for_best\": \"target_accuracy\", \"x_net\": [{\"class\": \"nnReshape\", \"kargs\": {\"shape\": [-1, 1, 2, 256]}}, {\"class\": \"Conv2d\", \"kargs\": {\"in_channels\": 1, \"out_channels\": 256, \"kernel_size\": [1, 7], \"bias\": false, \"padding\": [0, 3]}}, {\"class\": \"ReLU\", \"kargs\": {\"inplace\": true}}, {\"class\": \"BatchNorm2d\", \"kargs\": {\"num_features\": 256}}, {\"class\": \"Conv2d\", \"kargs\": {\"in_channels\": 256, \"out_channels\": 80, \"kernel_size\": [2, 7], \"bias\": true, \"padding\": [0, 3]}}, {\"class\": \"ReLU\", \"kargs\": {\"inplace\": true}}, {\"class\": \"BatchNorm2d\", \"kargs\": {\"num_features\": 80}}, {\"class\": \"Flatten\", \"kargs\": {}}, {\"class\": \"Linear\", \"kargs\": {\"in_features\": 20480, \"out_features\": 256}}, {\"class\": \"ReLU\", \"kargs\": {\"inplace\": true}}, {\"class\": \"BatchNorm1d\", \"kargs\": {\"num_features\": 256}}, {\"class\": \"Linear\", \"kargs\": {\"in_features\": 256, \"out_features\": 256}}], \"NUM_LOGS_PER_EPOCH\": 10, \"BEST_MODEL_PATH\": \"./best_model.pth\", \"n_way\": 16, \"datasets\": [{\"labels\": [\"1-10.\", \"1-11.\", \"1-15.\", \"1-16.\", \"1-17.\", \"1-18.\", \"1-19.\", \"10-4.\", \"10-7.\", \"11-1.\", \"11-14.\", \"11-17.\", \"11-20.\", \"11-7.\", \"13-20.\", \"13-8.\", \"14-10.\", \"14-11.\", \"14-14.\", \"14-7.\", \"15-1.\", \"15-20.\", \"16-1.\", \"16-16.\", \"17-10.\", \"17-11.\", \"17-2.\", \"19-1.\", \"19-16.\", \"19-19.\", \"19-20.\", \"19-3.\", \"2-10.\", \"2-11.\", \"2-17.\", \"2-18.\", \"2-20.\", \"2-3.\", \"2-4.\", \"2-5.\", \"2-6.\", \"2-7.\", \"2-8.\", \"3-13.\", \"3-18.\", \"3-3.\", \"4-1.\", \"4-10.\", \"4-11.\", \"4-19.\", \"5-5.\", \"6-15.\", \"7-10.\", \"7-14.\", \"8-18.\", \"8-20.\", \"8-3.\", \"8-8.\"], \"domains\": [1, 2, 3, 4, 5], \"num_examples_per_domain_per_label\": -1, \"pickle_path\": \"/root/csc500-main/datasets/cores.stratified_ds.2022A.pkl\", \"source_or_target_dataset\": \"target\", \"x_transforms\": [\"jitter_256_5\", \"lowpass_+/-10MHz\", \"take_200\"], \"episode_transforms\": [], \"domain_prefix\": \"C_\"}, {\"labels\": [\"3123D52\", \"3123D65\", \"3123D79\", \"3123D80\", \"3123D54\", \"3123D70\", \"3123D7B\", \"3123D89\", \"3123D58\", \"3123D76\", \"3123D7D\", \"3123EFE\", \"3123D64\", \"3123D78\", \"3123D7E\", \"3124E4A\"], \"domains\": [32, 38, 8, 44, 14, 50, 20, 26], \"num_examples_per_domain_per_label\": 2000, \"pickle_path\": \"/root/csc500-main/datasets/oracle.Run1_framed_2000Examples_stratified_ds.2022A.pkl\", \"source_or_target_dataset\": \"source\", \"x_transforms\": [\"jitter_256_5\", \"take_200\", \"resample_20Msps_to_25Msps\"], \"episode_transforms\": [], \"domain_prefix\": \"O_\"}], \"seed\": 420, \"dataset_seed\": 420, \"domains_source\": [\"O_32\", \"O_38\", \"O_8\", \"O_44\", \"O_14\", \"O_50\", \"O_20\", \"O_26\"], \"domains_target\": [\"C_1\", \"C_2\", \"C_3\", \"C_4\", \"C_5\"]}, \"results\": {\"source_test_label_accuracy\": 0.82138671875, \"source_test_label_loss\": 0.5628308653831482, \"target_test_label_accuracy\": 0.9079782731376975, \"target_test_label_loss\": 63.05458450317383, \"source_val_label_accuracy\": 0.8177083333333334, \"source_val_label_loss\": 0.5674758553504944, \"target_val_label_accuracy\": 0.9095357142857143, \"target_val_label_loss\": 57.69871520996094, \"total_epochs_trained\": 13, \"total_experiment_time_secs\": 2608.138295173645, \"confusion\": {\"O_14\": {\"15\": {\"15\": 240}, \"5\": {\"5\": 201, \"7\": 9, \"4\": 22, \"3\": 2, \"0\": 2, \"2\": 4}, \"7\": {\"7\": 228, \"5\": 12}, \"4\": {\"4\": 221, \"5\": 19}, \"10\": {\"10\": 234, \"4\": 6}, \"11\": {\"11\": 240}, \"12\": {\"12\": 240}, \"0\": {\"0\": 199, \"4\": 4, \"3\": 27, \"10\": 4, \"14\": 5, \"5\": 1}, \"14\": {\"14\": 153, \"13\": 44, \"2\": 18, \"6\": 19, \"3\": 6}, \"8\": {\"8\": 240}, \"13\": {\"6\": 109, \"13\": 54, \"14\": 53, \"2\": 16, \"5\": 1, \"15\": 5, \"3\": 2}, \"6\": {\"6\": 146, \"14\": 23, \"13\": 66, \"2\": 5}, \"1\": {\"1\": 240}, \"3\": {\"0\": 16, \"3\": 209, \"14\": 7, \"2\": 7, \"6\": 1}, \"9\": {\"9\": 240}, \"2\": {\"3\": 18, \"2\": 122, \"13\": 18, \"14\": 39, \"5\": 24, \"6\": 12, \"4\": 3, \"0\": 3, \"10\": 1}}, \"O_20\": {\"4\": {\"4\": 232, \"12\": 4, \"10\": 2, \"6\": 2}, \"10\": {\"10\": 233, \"4\": 7}, \"15\": {\"15\": 193, \"1\": 20, \"12\": 15, \"2\": 6, \"13\": 5, \"7\": 1}, \"0\": {\"0\": 234, \"8\": 2, \"3\": 1, \"5\": 3}, \"6\": {\"6\": 220, \"7\": 17, \"4\": 2, \"2\": 1}, \"3\": {\"3\": 166, \"1\": 6, \"5\": 17, \"8\": 31, \"6\": 1, \"9\": 16, \"0\": 3}, \"7\": {\"7\": 167, \"6\": 10, \"2\": 25, \"9\": 30, \"3\": 1, \"12\": 6, \"4\": 1}, \"2\": {\"2\": 141, \"12\": 62, \"7\": 20, \"4\": 1, \"15\": 11, \"9\": 2, \"13\": 2, \"6\": 1}, \"8\": {\"8\": 204, \"14\": 12, \"3\": 24}, \"11\": {\"11\": 239, \"0\": 1}, \"14\": {\"14\": 208, \"8\": 32}, \"12\": {\"12\": 157, \"2\": 52, \"15\": 19, \"7\": 8, \"4\": 4}, \"13\": {\"13\": 229, \"2\": 8, \"12\": 3}, \"9\": {\"9\": 171, \"7\": 25, \"1\": 29, \"3\": 8, \"15\": 2, \"2\": 4, \"5\": 1}, \"5\": {\"3\": 35, \"1\": 40, \"5\": 162, \"9\": 2, \"8\": 1}, \"1\": {\"1\": 169, \"5\": 28, \"15\": 12, \"9\": 27, \"2\": 1, \"3\": 3}}, \"O_50\": {\"5\": {\"7\": 60, \"5\": 69, \"6\": 68, \"4\": 23, \"13\": 10, \"15\": 9, \"1\": 1}, \"12\": {\"12\": 210, \"9\": 24, \"11\": 6}, \"14\": {\"14\": 240}, \"4\": {\"4\": 181, \"7\": 14, \"15\": 26, \"6\": 5, \"5\": 14}, \"13\": {\"13\": 235, \"1\": 4, \"5\": 1}, \"10\": {\"10\": 231, \"0\": 3, \"8\": 6}, \"9\": {\"11\": 21, \"9\": 199, \"12\": 20}, \"15\": {\"11\": 6, \"15\": 212, \"6\": 19, \"5\": 2, \"4\": 1}, \"6\": {\"6\": 171, \"5\": 46, \"15\": 18, \"13\": 2, \"7\": 1, \"4\": 2}, \"2\": {\"2\": 219, \"0\": 21}, \"0\": {\"0\": 211, \"10\": 7, \"2\": 22}, \"11\": {\"11\": 201, \"9\": 26, \"12\": 8, \"15\": 5}, \"3\": {\"3\": 240}, \"8\": {\"8\": 235, \"10\": 5}, \"7\": {\"7\": 210, \"5\": 21, \"4\": 9}, \"1\": {\"1\": 234, \"13\": 4, \"11\": 2}}, \"O_26\": {\"7\": {\"7\": 164, \"9\": 2, \"3\": 20, \"2\": 27, \"8\": 25, \"0\": 2}, \"6\": {\"15\": 28, \"6\": 184, \"5\": 6, \"10\": 17, \"0\": 3, \"14\": 1, \"1\": 1}, \"14\": {\"14\": 152, \"0\": 31, \"10\": 30, \"1\": 27}, \"15\": {\"15\": 144, \"9\": 5, \"5\": 57, \"6\": 18, \"1\": 2, \"10\": 11, \"2\": 1, \"14\": 1, \"0\": 1}, \"5\": {\"5\": 198, \"15\": 40, \"6\": 1, \"10\": 1}, \"10\": {\"10\": 124, \"15\": 12, \"14\": 39, \"0\": 52, \"6\": 9, \"8\": 1, \"1\": 3}, \"4\": {\"4\": 234, \"7\": 1, \"3\": 4, \"8\": 1}, \"11\": {\"11\": 240}, \"13\": {\"13\": 216, \"3\": 2, \"9\": 20, \"2\": 2}, \"2\": {\"9\": 24, \"2\": 110, \"7\": 55, \"3\": 38, \"0\": 2, \"8\": 11}, \"0\": {\"10\": 48, \"0\": 135, \"15\": 5, \"14\": 45, \"7\": 1, \"8\": 5, \"1\": 1}, \"12\": {\"12\": 240}, \"3\": {\"3\": 171, \"2\": 30, \"7\": 37, \"4\": 1, \"8\": 1}, \"9\": {\"13\": 25, \"9\": 193, \"2\": 8, \"7\": 3, \"3\": 1, \"8\": 10}, \"8\": {\"8\": 145, \"0\": 22, \"9\": 18, \"2\": 6, \"7\": 48, \"3\": 1}, \"1\": {\"14\": 52, \"1\": 177, \"10\": 10, \"15\": 1}}, \"O_32\": {\"7\": {\"5\": 35, \"7\": 143, \"14\": 27, \"0\": 34, \"8\": 1}, \"2\": {\"2\": 207, \"4\": 33}, \"5\": {\"5\": 121, \"0\": 45, \"7\": 46, \"8\": 23, \"14\": 5}, \"6\": {\"6\": 240}, \"13\": {\"3\": 54, \"13\": 168, \"4\": 18}, \"4\": {\"4\": 192, \"2\": 41, \"13\": 3, \"3\": 4}, \"3\": {\"3\": 205, \"13\": 34, \"4\": 1}, \"0\": {\"0\": 128, \"8\": 23, \"5\": 35, \"14\": 6, \"7\": 48}, \"9\": {\"9\": 226, \"12\": 14}, \"12\": {\"12\": 240}, \"8\": {\"8\": 182, \"0\": 38, \"14\": 1, \"5\": 18, \"7\": 1}, \"14\": {\"0\": 15, \"14\": 156, \"7\": 45, \"5\": 11, \"8\": 3, \"2\": 8, \"3\": 1, \"4\": 1}, \"15\": {\"15\": 237, \"8\": 2, \"0\": 1}, \"11\": {\"11\": 239, \"13\": 1}, \"10\": {\"10\": 240}, \"1\": {\"1\": 240}}, \"O_44\": {\"11\": {\"11\": 238, \"13\": 2}, \"7\": {\"7\": 187, \"9\": 40, \"10\": 8, \"6\": 5}, \"6\": {\"13\": 41, \"6\": 187, \"9\": 12}, \"12\": {\"12\": 220, \"3\": 20}, \"4\": {\"4\": 132, \"14\": 101, \"15\": 4, \"13\": 2, \"9\": 1}, \"13\": {\"13\": 174, \"6\": 53, \"9\": 9, \"7\": 1, \"11\": 3}, \"8\": {\"8\": 182, \"0\": 43, \"15\": 9, \"5\": 6}, \"5\": {\"5\": 203, \"14\": 20, \"8\": 5, \"15\": 12}, \"14\": {\"14\": 151, \"15\": 17, \"4\": 65, \"5\": 6, \"9\": 1}, \"3\": {\"12\": 39, \"3\": 201}, \"10\": {\"10\": 201, \"1\": 8, \"7\": 17, \"2\": 14}, \"1\": {\"1\": 218, \"2\": 22}, \"2\": {\"2\": 219, \"10\": 8, \"1\": 13}, \"15\": {\"15\": 186, \"5\": 15, \"4\": 5, \"14\": 17, \"8\": 16, \"0\": 1}, \"9\": {\"9\": 112, \"7\": 68, \"6\": 28, \"13\": 28, \"4\": 2, \"2\": 2}, \"0\": {\"8\": 32, \"0\": 202, \"15\": 5, \"4\": 1}}, \"O_8\": {\"10\": {\"5\": 15, \"10\": 173, \"13\": 37, \"6\": 4, \"4\": 11}, \"6\": {\"6\": 190, \"7\": 33, \"13\": 15, \"10\": 2}, \"13\": {\"13\": 154, \"7\": 22, \"10\": 42, \"6\": 21, \"5\": 1}, \"3\": {\"3\": 240}, \"9\": {\"9\": 240}, \"1\": {\"11\": 63, \"1\": 168, \"5\": 7, \"10\": 2}, \"5\": {\"5\": 172, \"1\": 23, \"10\": 31, \"14\": 6, \"11\": 7, \"4\": 1}, \"11\": {\"1\": 95, \"11\": 122, \"5\": 12, \"8\": 4, \"14\": 6, \"4\": 1}, \"4\": {\"4\": 221, \"6\": 6, \"14\": 13}, \"14\": {\"14\": 204, \"4\": 36}, \"12\": {\"12\": 198, \"15\": 42}, \"7\": {\"7\": 171, \"6\": 56, \"13\": 13}, \"0\": {\"0\": 240}, \"15\": {\"15\": 203, \"12\": 37}, \"2\": {\"2\": 195, \"3\": 27, \"12\": 10, \"15\": 7, \"7\": 1}, \"8\": {\"8\": 240}}, \"O_38\": {\"4\": {\"4\": 237, \"10\": 1, \"7\": 1, \"0\": 1}, \"7\": {\"7\": 227, \"0\": 5, \"5\": 4, \"8\": 3, \"9\": 1}, \"12\": {\"12\": 240}, \"10\": {\"0\": 30, \"10\": 189, \"13\": 19, \"4\": 2}, \"0\": {\"0\": 159, \"7\": 16, \"10\": 39, \"13\": 13, \"5\": 3, \"3\": 7, \"8\": 2, \"4\": 1}, \"1\": {\"1\": 239, \"6\": 1}, \"5\": {\"7\": 25, \"8\": 82, \"5\": 114, \"13\": 3, \"9\": 13, \"15\": 3}, \"15\": {\"15\": 217, \"5\": 10, \"8\": 12, \"1\": 1}, \"9\": {\"9\": 236, \"5\": 4}, \"11\": {\"11\": 240}, \"14\": {\"14\": 220, \"2\": 19, \"10\": 1}, \"6\": {\"6\": 239, \"1\": 1}, \"8\": {\"8\": 130, \"7\": 22, \"13\": 2, \"5\": 75, \"15\": 3, \"0\": 7, \"12\": 1}, \"3\": {\"3\": 238, \"0\": 2}, \"2\": {\"2\": 224, \"13\": 3, \"14\": 13}, \"13\": {\"13\": 206, \"10\": 18, \"2\": 7, \"0\": 8, \"14\": 1}}, \"C_4\": {\"42\": {\"42\": 22, \"26\": 2, \"34\": 1, \"17\": 1, \"54\": 4, \"28\": 1, \"55\": 1}, \"0\": {\"0\": 79, \"22\": 1}, \"1\": {\"1\": 39, \"57\": 1}, \"39\": {\"39\": 13, \"47\": 2, \"0\": 2, \"57\": 1, \"52\": 1, \"40\": 1}, \"28\": {\"34\": 2, \"28\": 27, \"18\": 2, \"26\": 1}, \"53\": {\"53\": 109, \"54\": 3, \"23\": 10, \"55\": 2}, \"19\": {\"34\": 1, \"19\": 142, \"26\": 1}, \"34\": {\"34\": 9, \"28\": 5, \"26\": 6, \"23\": 1, \"38\": 2, \"53\": 1}, \"33\": {\"33\": 28, \"32\": 1, \"35\": 3, \"38\": 1, \"49\": 1, \"17\": 2}, \"32\": {\"32\": 17, \"55\": 2, \"2\": 1, \"14\": 1, \"27\": 1, \"37\": 1, \"56\": 1}, \"10\": {\"10\": 136}, \"46\": {\"46\": 119, \"22\": 7, \"0\": 5, \"5\": 1, \"52\": 1, \"56\": 1}, \"20\": {\"20\": 122}, \"5\": {\"5\": 108}, \"40\": {\"40\": 120, \"57\": 1, \"44\": 3}, \"51\": {\"51\": 138, \"27\": 2, \"14\": 1, \"36\": 1, \"47\": 1, \"40\": 1}, \"37\": {\"37\": 16, \"14\": 1, \"27\": 2, \"57\": 1, \"7\": 1, \"46\": 2, \"36\": 1}, \"17\": {\"17\": 67, \"33\": 1, \"54\": 6, \"55\": 6}, \"45\": {\"45\": 96}, \"13\": {\"13\": 126, \"2\": 1, \"22\": 5, \"56\": 7, \"52\": 1, \"0\": 1, \"46\": 1}, \"27\": {\"27\": 107, \"51\": 10, \"57\": 7, \"9\": 5, \"4\": 10, \"29\": 2, \"47\": 1, \"48\": 2}, \"24\": {\"24\": 51, \"43\": 5}, \"30\": {\"30\": 44}, \"31\": {\"31\": 21, \"23\": 1, \"55\": 2, \"33\": 1, \"29\": 1, \"35\": 2}, \"41\": {\"41\": 32, \"32\": 1, \"49\": 1, \"10\": 1, \"13\": 1}, \"36\": {\"37\": 2, \"36\": 73, \"7\": 2, \"51\": 4, \"29\": 5, \"9\": 1, \"48\": 1, \"55\": 1, \"27\": 3}, \"16\": {\"16\": 77, \"11\": 8, \"15\": 9, \"53\": 1, \"43\": 1}, \"22\": {\"22\": 128}, \"44\": {\"44\": 132}, \"9\": {\"9\": 129, \"4\": 11}, \"57\": {\"47\": 2, \"57\": 91, \"44\": 3, \"40\": 1, \"29\": 3}, \"8\": {\"8\": 135, \"12\": 2, \"40\": 1}, \"23\": {\"23\": 91, \"42\": 3, \"54\": 5, \"35\": 1, \"53\": 14, \"17\": 7, \"55\": 11}, \"47\": {\"47\": 118, \"40\": 2}, \"43\": {\"43\": 138}, \"49\": {\"49\": 6, \"36\": 1, \"27\": 1, \"37\": 2, \"56\": 2, \"14\": 3, \"1\": 1, \"41\": 4}, \"3\": {\"3\": 119, \"50\": 5}, \"12\": {\"12\": 90, \"45\": 1, \"21\": 1}, \"38\": {\"33\": 2, \"38\": 24, \"27\": 1, \"7\": 2, \"14\": 2, \"35\": 1, \"2\": 3, \"32\": 2, \"29\": 1, \"17\": 1, \"54\": 1}, \"7\": {\"49\": 2, \"7\": 8, \"36\": 3, \"51\": 4, \"1\": 2, \"56\": 1, \"39\": 1, \"37\": 1, \"0\": 1, \"2\": 1}, \"14\": {\"27\": 1, \"14\": 8, \"1\": 1, \"51\": 2, \"57\": 1, \"29\": 1, \"39\": 1, \"55\": 1}, \"15\": {\"15\": 122, \"11\": 15, \"16\": 8, \"53\": 1}, \"25\": {\"34\": 2, \"28\": 1, \"25\": 115, \"26\": 2, \"11\": 1, \"18\": 4, \"16\": 1, \"23\": 2}, \"26\": {\"26\": 17, \"38\": 1, \"34\": 1, \"42\": 1, \"17\": 4}, \"21\": {\"21\": 131, \"30\": 1}, \"48\": {\"48\": 144}, \"56\": {\"56\": 134}, \"11\": {\"11\": 80, \"15\": 16, \"16\": 8}, \"2\": {\"2\": 27, \"56\": 5, \"36\": 1, \"29\": 1, \"57\": 2}, \"6\": {\"3\": 8, \"6\": 102, \"5\": 1, \"50\": 1}, \"55\": {\"55\": 114, \"33\": 2, \"54\": 14, \"35\": 1, \"17\": 2, \"36\": 1, \"23\": 4, \"38\": 1, \"42\": 1}, \"54\": {\"54\": 75, \"33\": 2, \"23\": 3, \"35\": 2, \"42\": 1, \"17\": 17, \"55\": 8}, \"29\": {\"29\": 85, \"0\": 2, \"1\": 3, \"57\": 13, \"40\": 3, \"27\": 5, \"47\": 1, \"36\": 3, \"44\": 2, \"14\": 1, \"39\": 2, \"56\": 4}, \"50\": {\"50\": 115, \"3\": 7}, \"52\": {\"52\": 116}, \"35\": {\"55\": 8, \"33\": 4, \"35\": 17, \"54\": 4, \"32\": 3, \"17\": 4}, \"4\": {\"4\": 102, \"57\": 2, \"27\": 2, \"48\": 3, \"9\": 9, \"44\": 1, \"40\": 1}, \"18\": {\"18\": 107, \"25\": 1}}, \"C_5\": {\"43\": {\"43\": 132, \"37\": 3, \"0\": 2, \"14\": 1, \"13\": 5, \"24\": 1, \"56\": 2, \"29\": 1, \"52\": 4, \"44\": 1}, \"35\": {\"35\": 27, \"39\": 1, \"49\": 3, \"38\": 1, \"36\": 1, \"26\": 1, \"54\": 1, \"34\": 1}, \"54\": {\"35\": 2, \"54\": 80, \"17\": 16, \"31\": 2, \"33\": 1, \"55\": 6, \"53\": 1, \"34\": 1, \"42\": 1, \"23\": 2}, \"22\": {\"22\": 28}, \"16\": {\"16\": 119, \"11\": 21, \"15\": 5, \"24\": 1}, \"5\": {\"5\": 128}, \"28\": {\"28\": 32}, \"14\": {\"14\": 34, \"44\": 3, \"47\": 3, \"57\": 1, \"0\": 1, \"39\": 1, \"40\": 1}, \"51\": {\"14\": 2, \"51\": 102, \"27\": 14, \"48\": 1, \"44\": 1, \"8\": 2, \"5\": 1, \"49\": 1, \"56\": 1, \"39\": 2, \"57\": 1}, \"19\": {\"28\": 2, \"19\": 137, \"55\": 1}, \"31\": {\"31\": 31, \"42\": 2, \"54\": 1, \"55\": 2}, \"10\": {\"10\": 68}, \"21\": {\"21\": 136}, \"3\": {\"3\": 98, \"46\": 1, \"56\": 1}, \"57\": {\"57\": 130, \"47\": 2}, \"9\": {\"9\": 146}, \"8\": {\"8\": 92, \"1\": 9, \"48\": 12, \"7\": 1, \"57\": 1, \"30\": 5, \"20\": 8, \"47\": 3, \"21\": 1}, \"46\": {\"46\": 132, \"0\": 5, \"40\": 1, \"56\": 2}, \"23\": {\"23\": 111, \"36\": 1, \"17\": 4, \"53\": 1, \"54\": 4, \"31\": 1, \"49\": 1, \"29\": 1}, \"37\": {\"40\": 1, \"37\": 18, \"43\": 1, \"27\": 1, \"13\": 2, \"5\": 1}, \"34\": {\"34\": 31, \"33\": 1, \"55\": 3, \"54\": 1}, \"4\": {\"4\": 100}, \"6\": {\"6\": 115, \"45\": 7, \"50\": 6}, \"48\": {\"48\": 133, \"1\": 2, \"9\": 1}, \"44\": {\"44\": 136, \"40\": 1, \"0\": 1}, \"40\": {\"40\": 116, \"44\": 8}, \"12\": {\"12\": 96}, \"30\": {\"30\": 128}, \"39\": {\"14\": 5, \"39\": 10, \"7\": 4, \"47\": 1}, \"45\": {\"45\": 119, \"6\": 4, \"50\": 1}, \"36\": {\"36\": 82, \"31\": 1, \"35\": 2, \"39\": 1, \"17\": 1, \"54\": 1, \"32\": 1, \"38\": 1, \"29\": 1, \"51\": 1}, \"27\": {\"27\": 123, \"2\": 1, \"14\": 2, \"5\": 1, \"47\": 2, \"29\": 4, \"44\": 2, \"48\": 1, \"57\": 2, \"51\": 1, \"8\": 1}, \"32\": {\"32\": 23, \"33\": 2, \"17\": 1, \"38\": 3, \"41\": 1, \"36\": 2}, \"52\": {\"52\": 130}, \"0\": {\"0\": 122, \"56\": 2}, \"26\": {\"26\": 13, \"31\": 2, \"42\": 1, \"33\": 1, \"25\": 1, \"19\": 1, \"38\": 1, \"34\": 2, \"53\": 1, \"28\": 1}, \"1\": {\"1\": 148}, \"53\": {\"53\": 117, \"23\": 3, \"17\": 2, \"55\": 16, \"33\": 1, \"42\": 1, \"54\": 6}, \"25\": {\"25\": 131, \"26\": 2, \"53\": 1, \"18\": 1, \"16\": 3, \"19\": 5, \"28\": 1}, \"24\": {\"24\": 79, \"49\": 1}, \"7\": {\"7\": 27, \"8\": 5}, \"18\": {\"18\": 64}, \"20\": {\"20\": 144}, \"33\": {\"33\": 22, \"31\": 3, \"55\": 2, \"54\": 4, \"17\": 1}, \"55\": {\"55\": 119, \"26\": 1, \"53\": 16, \"54\": 3, \"17\": 1}, \"41\": {\"41\": 20, \"32\": 1, \"38\": 1, \"1\": 1, \"14\": 1, \"57\": 1, \"2\": 1, \"36\": 1, \"7\": 1}, \"42\": {\"55\": 3, \"42\": 28, \"31\": 1, \"23\": 1, \"17\": 1, \"53\": 5, \"34\": 1}, \"49\": {\"49\": 31, \"41\": 1, \"35\": 3, \"33\": 1}, \"13\": {\"13\": 102, \"56\": 23, \"0\": 4, \"43\": 8, \"46\": 4, \"5\": 1, \"40\": 2, \"3\": 1, \"52\": 1, \"21\": 2}, \"38\": {\"38\": 13, \"23\": 1, \"29\": 2, \"17\": 4, \"7\": 1, \"32\": 4, \"8\": 1, \"14\": 2, \"35\": 2, \"39\": 1, \"51\": 1}, \"2\": {\"2\": 26, \"39\": 1, \"22\": 1}, \"47\": {\"47\": 100}, \"17\": {\"17\": 103, \"54\": 12, \"38\": 1}, \"11\": {\"11\": 123, \"16\": 22, \"15\": 9}, \"29\": {\"29\": 99, \"27\": 20, \"5\": 1, \"56\": 5, \"40\": 3, \"44\": 3, \"2\": 1}, \"50\": {\"50\": 138}, \"56\": {\"56\": 147, \"0\": 1}, \"15\": {\"15\": 119, \"11\": 21, \"16\": 2}}, \"C_2\": {\"49\": {\"49\": 19, \"55\": 1, \"36\": 1, \"23\": 2, \"54\": 1}, \"13\": {\"13\": 112, \"3\": 2, \"38\": 1, \"50\": 1}, \"37\": {\"37\": 35, \"56\": 1}, \"41\": {\"41\": 15, \"50\": 1, \"30\": 2, \"3\": 1, \"4\": 1}, \"15\": {\"15\": 135, \"28\": 3, \"16\": 3, \"11\": 1}, \"56\": {\"56\": 135, \"22\": 4, \"11\": 1, \"0\": 2}, \"14\": {\"14\": 18, \"56\": 2, \"2\": 1, \"9\": 2, \"29\": 1}, \"3\": {\"3\": 80, \"6\": 11, \"46\": 1}, \"38\": {\"38\": 15, \"46\": 2, \"3\": 1, \"13\": 2}, \"43\": {\"43\": 126, \"24\": 10, \"37\": 2}, \"33\": {\"39\": 1, \"33\": 9, \"36\": 3, \"7\": 1, \"31\": 3, \"22\": 1, \"29\": 1, \"55\": 1, \"0\": 1, \"32\": 2, \"1\": 2, \"51\": 2, \"2\": 1}, \"47\": {\"47\": 135, \"0\": 3}, \"30\": {\"30\": 144}, \"39\": {\"39\": 18, \"57\": 1, \"55\": 1, \"17\": 1, \"31\": 4, \"22\": 1, \"1\": 1, \"14\": 1}, \"12\": {\"12\": 92}, \"6\": {\"6\": 109, \"3\": 11, \"46\": 3, \"50\": 1}, \"51\": {\"51\": 122, \"27\": 4, \"57\": 1, \"29\": 1, \"48\": 1, \"2\": 2, \"4\": 1, \"33\": 1, \"9\": 1}, \"5\": {\"5\": 115, \"46\": 5}, \"34\": {\"34\": 19, \"35\": 4, \"19\": 2, \"25\": 1, \"54\": 2}, \"35\": {\"35\": 22, \"54\": 5, \"55\": 1, \"17\": 1, \"53\": 2, \"34\": 1}, \"0\": {\"0\": 45, \"47\": 3}, \"7\": {\"7\": 33, \"33\": 1, \"36\": 2}, \"24\": {\"24\": 87, \"43\": 9}, \"8\": {\"8\": 124, \"20\": 9, \"48\": 1, \"27\": 2}, \"20\": {\"20\": 124}, \"36\": {\"7\": 2, \"36\": 103, \"33\": 1, \"29\": 5, \"51\": 4, \"55\": 1}, \"42\": {\"42\": 29, \"55\": 2, \"23\": 2, \"17\": 3}, \"1\": {\"1\": 106, \"57\": 5, \"47\": 1}, \"4\": {\"4\": 131, \"9\": 1, \"48\": 5, \"44\": 1, \"40\": 5, \"27\": 3, \"57\": 1, \"29\": 1}, \"28\": {\"15\": 3, \"28\": 25}, \"50\": {\"50\": 122, \"3\": 6, \"21\": 1, \"30\": 1, \"6\": 6}, \"45\": {\"45\": 124, \"6\": 4}, \"18\": {\"18\": 48}, \"57\": {\"57\": 111, \"40\": 3, \"1\": 2, \"47\": 4}, \"46\": {\"46\": 114, \"6\": 2, \"5\": 9, \"3\": 2, \"47\": 1}, \"23\": {\"23\": 109, \"34\": 1, \"54\": 11, \"53\": 17, \"55\": 2, \"49\": 3, \"42\": 5}, \"27\": {\"27\": 136, \"4\": 1, \"30\": 1}, \"19\": {\"19\": 134}, \"22\": {\"22\": 134, \"56\": 2}, \"17\": {\"17\": 95, \"55\": 4, \"31\": 1, \"42\": 1, \"23\": 1, \"36\": 1, \"53\": 1}, \"55\": {\"55\": 123, \"31\": 1, \"17\": 8, \"42\": 2, \"54\": 1, \"23\": 1}, \"44\": {\"44\": 95, \"40\": 3, \"1\": 1, \"45\": 1}, \"26\": {\"23\": 2, \"26\": 16, \"53\": 3, \"25\": 1, \"31\": 1, \"54\": 1}, \"31\": {\"31\": 24, \"17\": 2, \"36\": 1, \"39\": 1}, \"16\": {\"16\": 115, \"28\": 2, \"15\": 13}, \"11\": {\"11\": 124, \"16\": 3, \"15\": 1}, \"25\": {\"25\": 117, \"18\": 1, \"23\": 1, \"19\": 1, \"15\": 3, \"34\": 1, \"26\": 1, \"16\": 1}, \"54\": {\"54\": 91, \"35\": 1, \"23\": 14, \"53\": 2}, \"32\": {\"32\": 21, \"33\": 1, \"36\": 3, \"2\": 3}, \"52\": {\"52\": 124}, \"40\": {\"40\": 122, \"2\": 1, \"29\": 1, \"4\": 1, \"9\": 2, \"48\": 1, \"1\": 1, \"44\": 1, \"57\": 2}, \"2\": {\"2\": 27, \"51\": 4, \"32\": 1}, \"10\": {\"10\": 110}, \"53\": {\"53\": 112, \"23\": 14, \"55\": 1, \"54\": 6, \"26\": 1, \"49\": 2}, \"9\": {\"9\": 120, \"1\": 3, \"40\": 1, \"29\": 7, \"27\": 8, \"4\": 1, \"57\": 3, \"36\": 2, \"47\": 1, \"14\": 1, \"2\": 1, \"44\": 2}, \"21\": {\"21\": 120}, \"48\": {\"48\": 138}, \"29\": {\"9\": 23, \"29\": 78, \"2\": 2, \"27\": 1, \"33\": 1, \"1\": 5, \"36\": 9, \"56\": 2, \"4\": 2, \"57\": 3, \"51\": 1, \"44\": 1}}, \"C_1\": {\"9\": {\"9\": 140, \"51\": 1, \"47\": 1}, \"25\": {\"25\": 119, \"19\": 3, \"54\": 1, \"18\": 1, \"15\": 1, \"16\": 3}, \"41\": {\"7\": 2, \"41\": 18, \"37\": 1, \"30\": 1, \"55\": 1, \"13\": 1}, \"29\": {\"7\": 3, \"29\": 99, \"57\": 1, \"38\": 1, \"40\": 3, \"47\": 11, \"9\": 6, \"1\": 8, \"27\": 5, \"55\": 2, \"44\": 1}, \"46\": {\"46\": 124, \"6\": 1, \"5\": 3}, \"4\": {\"4\": 132}, \"31\": {\"31\": 22, \"38\": 3, \"27\": 2, \"32\": 1}, \"36\": {\"36\": 63, \"21\": 1}, \"20\": {\"20\": 128}, \"7\": {\"7\": 20, \"29\": 4, \"32\": 1, \"55\": 1, \"1\": 1, \"41\": 1}, \"6\": {\"6\": 96}, \"16\": {\"16\": 134, \"53\": 2, \"15\": 1, \"25\": 1}, \"17\": {\"17\": 64}, \"50\": {\"50\": 148}, \"57\": {\"57\": 144}, \"23\": {\"23\": 135, \"15\": 1}, \"3\": {\"3\": 124, \"20\": 2}, \"53\": {\"53\": 136, \"26\": 2, \"54\": 2}, \"49\": {\"49\": 30, \"13\": 1, \"39\": 1}, \"56\": {\"56\": 152}, \"51\": {\"51\": 134, \"13\": 1, \"32\": 1, \"9\": 3, \"0\": 1, \"41\": 1, \"8\": 1}, \"26\": {\"26\": 20, \"54\": 1, \"53\": 2, \"25\": 1}, \"43\": {\"43\": 126, \"55\": 11, \"17\": 1, \"31\": 2, \"29\": 1, \"53\": 1, \"37\": 1, \"33\": 1}, \"22\": {\"22\": 133, \"52\": 2, \"21\": 1}, \"45\": {\"45\": 146}, \"13\": {\"13\": 150, \"12\": 2}, \"12\": {\"12\": 115, \"13\": 1}, \"54\": {\"54\": 103, \"17\": 1}, \"24\": {\"24\": 104, \"23\": 4}, \"44\": {\"44\": 136}, \"28\": {\"28\": 27, \"10\": 1}, \"33\": {\"33\": 30, \"55\": 2}, \"38\": {\"38\": 12, \"47\": 1, \"27\": 1, \"7\": 2, \"37\": 4, \"22\": 1, \"31\": 1, \"52\": 1, \"32\": 1}, \"0\": {\"0\": 138, \"22\": 5, \"21\": 1}, \"47\": {\"47\": 144, \"27\": 9, \"38\": 1}, \"42\": {\"42\": 33, \"54\": 1, \"55\": 2, \"19\": 1, \"17\": 1, \"43\": 1, \"53\": 1}, \"34\": {\"34\": 20, \"53\": 1, \"26\": 1, \"19\": 1, \"54\": 1}, \"48\": {\"48\": 132, \"8\": 5, \"55\": 1, \"2\": 2, \"29\": 1, \"50\": 1}, \"35\": {\"35\": 34, \"19\": 2}, \"2\": {\"2\": 31, \"48\": 5}, \"30\": {\"30\": 120}, \"18\": {\"18\": 72}, \"37\": {\"44\": 1, \"37\": 20, \"55\": 4, \"3\": 1, \"36\": 1, \"22\": 1, \"21\": 1, \"13\": 1, \"29\": 1, \"32\": 1}, \"1\": {\"29\": 9, \"37\": 1, \"7\": 3, \"1\": 62, \"47\": 5, \"9\": 7, \"57\": 3, \"51\": 2, \"40\": 1, \"55\": 1, \"32\": 2, \"27\": 3, \"56\": 1}, \"11\": {\"11\": 136, \"10\": 1, \"15\": 1}, \"55\": {\"41\": 1, \"55\": 121, \"38\": 1, \"1\": 2, \"43\": 3, \"33\": 2}, \"15\": {\"15\": 143, \"16\": 2, \"11\": 2, \"10\": 3}, \"10\": {\"10\": 90, \"15\": 4, \"11\": 1, \"28\": 1}, \"27\": {\"27\": 145, \"47\": 13, \"29\": 1, \"52\": 1}, \"19\": {\"19\": 144, \"54\": 1, \"34\": 1}, \"14\": {\"30\": 7, \"14\": 15, \"45\": 1, \"6\": 1}, \"8\": {\"8\": 140}, \"5\": {\"5\": 135, \"46\": 1}, \"39\": {\"39\": 18, \"47\": 3, \"27\": 1, \"32\": 2, \"43\": 1, \"31\": 1, \"22\": 1, \"21\": 1}, \"52\": {\"52\": 118, \"22\": 4}, \"21\": {\"21\": 124}, \"40\": {\"40\": 147, \"57\": 3, \"47\": 1, \"56\": 1}, \"32\": {\"32\": 27, \"47\": 1, \"7\": 1, \"38\": 1, \"27\": 1, \"51\": 1}}, \"C_3\": {\"56\": {\"56\": 120}, \"4\": {\"4\": 109, \"8\": 1, \"48\": 3, \"27\": 22, \"9\": 7, \"33\": 1, \"40\": 2, \"44\": 1}, \"34\": {\"34\": 25, \"25\": 1, \"23\": 2, \"54\": 1, \"35\": 2, \"19\": 1}, \"52\": {\"52\": 136}, \"32\": {\"32\": 21, \"36\": 4, \"2\": 2, \"38\": 1}, \"46\": {\"46\": 108, \"5\": 12, \"3\": 11, \"0\": 1, \"48\": 1, \"6\": 3}, \"12\": {\"12\": 88, \"50\": 2, \"46\": 1, \"8\": 1}, \"20\": {\"20\": 130, \"52\": 2}, \"54\": {\"34\": 2, \"54\": 82, \"23\": 13, \"53\": 2, \"28\": 1}, \"22\": {\"22\": 140}, \"26\": {\"31\": 4, \"26\": 15, \"55\": 5}, \"31\": {\"31\": 23, \"35\": 1, \"26\": 2, \"55\": 2}, \"10\": {\"10\": 64}, \"27\": {\"27\": 131, \"33\": 1, \"47\": 1, \"8\": 7, \"9\": 1, \"48\": 2, \"4\": 1}, \"40\": {\"40\": 127, \"44\": 4, \"57\": 3, \"1\": 2}, \"28\": {\"28\": 27, \"18\": 1}, \"5\": {\"5\": 116}, \"30\": {\"30\": 120}, \"7\": {\"22\": 6, \"7\": 25, \"40\": 1, \"47\": 1, \"0\": 3}, \"18\": {\"18\": 83, \"25\": 1}, \"39\": {\"29\": 1, \"39\": 10, \"38\": 2, \"1\": 1, \"33\": 2}, \"50\": {\"5\": 1, \"50\": 111, \"3\": 18, \"6\": 1, \"21\": 2, \"46\": 2, \"12\": 1}, \"49\": {\"7\": 3, \"49\": 9, \"44\": 1, \"5\": 1, \"24\": 2, \"43\": 2, \"22\": 2}, \"43\": {\"43\": 110, \"24\": 10, \"49\": 2}, \"29\": {\"39\": 2, \"2\": 1, \"44\": 1, \"29\": 75, \"40\": 2, \"9\": 7, \"32\": 2, \"1\": 3, \"36\": 3, \"51\": 3, \"57\": 8, \"22\": 2, \"0\": 1, \"56\": 3, \"48\": 1}, \"35\": {\"35\": 19, \"42\": 3, \"55\": 2, \"23\": 1, \"54\": 1, \"17\": 1, \"34\": 1}, \"13\": {\"13\": 119, \"43\": 2, \"21\": 2, \"52\": 1}, \"36\": {\"36\": 88, \"32\": 1, \"29\": 1, \"51\": 7, \"1\": 1, \"2\": 2}, \"11\": {\"11\": 139, \"15\": 7}, \"57\": {\"57\": 98, \"1\": 10, \"0\": 1, \"47\": 2, \"40\": 6, \"44\": 3, \"9\": 3, \"29\": 1}, \"9\": {\"33\": 2, \"9\": 116, \"44\": 1, \"57\": 3, \"29\": 2, \"27\": 1, \"1\": 1, \"4\": 2, \"40\": 2}, \"25\": {\"25\": 117, \"53\": 2, \"28\": 2, \"15\": 3, \"18\": 1, \"23\": 1, \"19\": 3, \"16\": 1}, \"16\": {\"11\": 5, \"16\": 101, \"15\": 19, \"55\": 1}, \"53\": {\"53\": 103, \"23\": 8, \"54\": 4, \"55\": 2, \"15\": 1}, \"33\": {\"33\": 24, \"57\": 2, \"48\": 2}, \"51\": {\"51\": 117, \"36\": 6, \"2\": 1, \"29\": 2, \"57\": 1, \"1\": 1}, \"44\": {\"44\": 84, \"40\": 1, \"1\": 1, \"48\": 2}, \"48\": {\"48\": 114}, \"6\": {\"6\": 79, \"3\": 7, \"50\": 1, \"46\": 1}, \"23\": {\"23\": 132, \"34\": 1, \"54\": 8, \"53\": 3}, \"1\": {\"1\": 86, \"57\": 11, \"29\": 1, \"22\": 1, \"44\": 1}, \"17\": {\"55\": 5, \"17\": 100, \"31\": 1, \"36\": 2}, \"21\": {\"21\": 122}, \"14\": {\"38\": 2, \"14\": 22, \"51\": 1, \"36\": 1, \"29\": 3, \"17\": 1, \"22\": 1, \"2\": 2, \"7\": 1, \"57\": 1, \"32\": 4, \"56\": 1}, \"55\": {\"55\": 133, \"26\": 2, \"14\": 1, \"31\": 1, \"42\": 1, \"17\": 6}, \"41\": {\"41\": 26, \"52\": 1, \"20\": 1}, \"3\": {\"3\": 137, \"6\": 1}, \"38\": {\"38\": 25, \"1\": 2, \"29\": 1}, \"2\": {\"32\": 2, \"2\": 21, \"39\": 1, \"36\": 6, \"55\": 1, \"51\": 1}, \"8\": {\"8\": 128, \"27\": 12, \"48\": 1, \"4\": 1}, \"37\": {\"37\": 26, \"29\": 1, \"51\": 1}, \"45\": {\"46\": 1, \"45\": 56, \"12\": 2, \"6\": 1}, \"42\": {\"42\": 20, \"34\": 2, \"31\": 3, \"29\": 1, \"35\": 2}, \"24\": {\"24\": 93, \"49\": 1, \"43\": 10}, \"15\": {\"15\": 115, \"16\": 18, \"11\": 3}, \"0\": {\"0\": 119, \"47\": 5}, \"47\": {\"47\": 92}, \"19\": {\"19\": 116, \"18\": 1, \"16\": 1, \"25\": 2}}}, \"per_domain_accuracy\": {\"O_14\": {\"accuracy\": 0.83515625, \"source?\": true}, \"O_20\": {\"accuracy\": 0.8138020833333334, \"source?\": true}, \"O_50\": {\"accuracy\": 0.8588541666666667, \"source?\": true}, \"O_26\": {\"accuracy\": 0.7361979166666667, \"source?\": true}, \"O_32\": {\"accuracy\": 0.8239583333333333, \"source?\": true}, \"O_44\": {\"accuracy\": 0.7846354166666667, \"source?\": true}, \"O_8\": {\"accuracy\": 0.8153645833333333, \"source?\": true}, \"O_38\": {\"accuracy\": 0.8736979166666666, \"source?\": true}, \"C_4\": {\"accuracy\": 0.8903443113772455, \"source?\": false}, \"C_5\": {\"accuracy\": 0.9004888268156425, \"source?\": false}, \"C_2\": {\"accuracy\": 0.9082142857142858, \"source?\": false}, \"C_1\": {\"accuracy\": 0.9465013586956522, \"source?\": false}, \"C_3\": {\"accuracy\": 0.899264705882353, \"source?\": false}}}, \"history\": {\"epoch_indices\": [1, 2, 3, 4, 5, 6, 7, 8, 9, 10, 11, 12, 13], \"train_label_loss\": [0.8222148705373651, 1.5173269598966552, 0.5652207312795023, 0.547856496997355, 0.8039214494344334, 0.5437587838852778, 0.4313584219024051, 0.3487004258398277, 0.44060517629841345, 0.45687537515713345, 0.4059375296380105, 0.43653258725756866, 0.34087090226350397], \"source_val_label_loss\": [38.08328628540039, 0.579143226146698, 0.5334736108779907, 0.4497348368167877, 0.6287453174591064, 0.7324772477149963, 0.38490402698516846, 0.362753689289093, 0.5674758553504944, 0.5498833060264587, 0.3722371757030487, 0.3967498242855072, 0.3453395962715149], \"target_val_label_loss\": [450.2516174316406, 195.64378356933594, 199.75799560546875, 144.06874084472656, 85.2178955078125, 67.73008728027344, 50.81464385986328, 72.81709289550781, 57.69871520996094, 78.10861206054688, 55.80217361450195, 54.539154052734375, 44.148807525634766], \"source_val_acc_label\": [0.5780598958333333, 0.79833984375, 0.81640625, 0.8375325520833333, 0.8375325520833333, 0.8280598958333333, 0.86611328125, 0.8702473958333333, 0.8177083333333334, 0.8342447916666667, 0.8700846354166667, 0.8630533854166667, 0.8811197916666667], \"target_val_acc_label\": [0.5447857142857143, 0.7067142857142857, 0.7102142857142857, 0.7828928571428572, 0.8772142857142857, 0.851, 0.87825, 0.8653571428571428, 0.9095357142857143, 0.8798571428571429, 0.8763928571428572, 0.8784285714285714, 0.89025]}, \"dataset_metrics\": {\"source\": {\"train\": {\"n_unique_x\": 179200, \"n_unique_y\": 16, \"n_batch/episode\": 6720}, \"val\": {\"n_unique_x\": 38400, \"n_unique_y\": 16, \"n_batch/episode\": 960}, \"test\": {\"n_unique_x\": 38400, \"n_unique_y\": 16, \"n_batch/episode\": 960}}, \"target\": {\"train\": {\"n_unique_x\": 175158, \"n_unique_y\": 58, \"n_batch/episode\": 6317}, \"val\": {\"n_unique_x\": 37216, \"n_unique_y\": 58, \"n_batch/episode\": 875}, \"test\": {\"n_unique_x\": 37596, \"n_unique_y\": 58, \"n_batch/episode\": 886}}}}'"
      ]
     },
     "execution_count": 29,
     "metadata": {},
     "output_type": "execute_result"
    }
   ],
   "source": [
    "json.dumps(experiment)"
   ]
  }
 ],
 "metadata": {
  "celltoolbar": "Tags",
  "kernelspec": {
   "display_name": "Python 3 (ipykernel)",
   "language": "python",
   "name": "python3"
  },
  "language_info": {
   "codemirror_mode": {
    "name": "ipython",
    "version": 3
   },
   "file_extension": ".py",
   "mimetype": "text/x-python",
   "name": "python",
   "nbconvert_exporter": "python",
   "pygments_lexer": "ipython3",
   "version": "3.8.12"
  },
  "papermill": {
   "default_parameters": {},
   "duration": 2813.913777,
   "end_time": "2022-03-28T17:24:43.089971",
   "environment_variables": {},
   "exception": null,
   "input_path": "/root/csc500-main/csc500-notebooks/templates/tl_ptn_template.ipynb",
   "output_path": "trial.ipynb",
   "parameters": {
    "parameters": {
     "BEST_MODEL_PATH": "./best_model.pth",
     "NUM_LOGS_PER_EPOCH": 10,
     "criteria_for_best": "target_accuracy",
     "dataset_seed": 420,
     "datasets": [
      {
       "domain_prefix": "C_",
       "domains": [
        1,
        2,
        3,
        4,
        5
       ],
       "episode_transforms": [],
       "labels": [
        "1-10.",
        "1-11.",
        "1-15.",
        "1-16.",
        "1-17.",
        "1-18.",
        "1-19.",
        "10-4.",
        "10-7.",
        "11-1.",
        "11-14.",
        "11-17.",
        "11-20.",
        "11-7.",
        "13-20.",
        "13-8.",
        "14-10.",
        "14-11.",
        "14-14.",
        "14-7.",
        "15-1.",
        "15-20.",
        "16-1.",
        "16-16.",
        "17-10.",
        "17-11.",
        "17-2.",
        "19-1.",
        "19-16.",
        "19-19.",
        "19-20.",
        "19-3.",
        "2-10.",
        "2-11.",
        "2-17.",
        "2-18.",
        "2-20.",
        "2-3.",
        "2-4.",
        "2-5.",
        "2-6.",
        "2-7.",
        "2-8.",
        "3-13.",
        "3-18.",
        "3-3.",
        "4-1.",
        "4-10.",
        "4-11.",
        "4-19.",
        "5-5.",
        "6-15.",
        "7-10.",
        "7-14.",
        "8-18.",
        "8-20.",
        "8-3.",
        "8-8."
       ],
       "num_examples_per_domain_per_label": -1,
       "pickle_path": "/root/csc500-main/datasets/cores.stratified_ds.2022A.pkl",
       "source_or_target_dataset": "target",
       "x_transforms": [
        "jitter_256_5",
        "lowpass_+/-10MHz",
        "take_200"
       ]
      },
      {
       "domain_prefix": "O_",
       "domains": [
        32,
        38,
        8,
        44,
        14,
        50,
        20,
        26
       ],
       "episode_transforms": [],
       "labels": [
        "3123D52",
        "3123D65",
        "3123D79",
        "3123D80",
        "3123D54",
        "3123D70",
        "3123D7B",
        "3123D89",
        "3123D58",
        "3123D76",
        "3123D7D",
        "3123EFE",
        "3123D64",
        "3123D78",
        "3123D7E",
        "3124E4A"
       ],
       "num_examples_per_domain_per_label": 2000,
       "pickle_path": "/root/csc500-main/datasets/oracle.Run1_framed_2000Examples_stratified_ds.2022A.pkl",
       "source_or_target_dataset": "source",
       "x_transforms": [
        "jitter_256_5",
        "take_200",
        "resample_20Msps_to_25Msps"
       ]
      }
     ],
     "device": "cuda",
     "experiment_name": "tl_3-jitter5v2:oracle.run1.framed -> cores",
     "lr": 0.0001,
     "n_epoch": 50,
     "n_query": 2,
     "n_shot": 3,
     "n_way": 16,
     "patience": 3,
     "seed": 420,
     "test_k_factor": 2,
     "torch_default_dtype": "torch.float32",
     "train_k_factor": 3,
     "val_k_factor": 2,
     "x_net": [
      {
       "class": "nnReshape",
       "kargs": {
        "shape": [
         -1,
         1,
         2,
         256
        ]
       }
      },
      {
       "class": "Conv2d",
       "kargs": {
        "bias": false,
        "in_channels": 1,
        "kernel_size": [
         1,
         7
        ],
        "out_channels": 256,
        "padding": [
         0,
         3
        ]
       }
      },
      {
       "class": "ReLU",
       "kargs": {
        "inplace": true
       }
      },
      {
       "class": "BatchNorm2d",
       "kargs": {
        "num_features": 256
       }
      },
      {
       "class": "Conv2d",
       "kargs": {
        "bias": true,
        "in_channels": 256,
        "kernel_size": [
         2,
         7
        ],
        "out_channels": 80,
        "padding": [
         0,
         3
        ]
       }
      },
      {
       "class": "ReLU",
       "kargs": {
        "inplace": true
       }
      },
      {
       "class": "BatchNorm2d",
       "kargs": {
        "num_features": 80
       }
      },
      {
       "class": "Flatten",
       "kargs": {}
      },
      {
       "class": "Linear",
       "kargs": {
        "in_features": 20480,
        "out_features": 256
       }
      },
      {
       "class": "ReLU",
       "kargs": {
        "inplace": true
       }
      },
      {
       "class": "BatchNorm1d",
       "kargs": {
        "num_features": 256
       }
      },
      {
       "class": "Linear",
       "kargs": {
        "in_features": 256,
        "out_features": 256
       }
      }
     ],
     "x_shape": [
      2,
      256
     ]
    }
   },
   "start_time": "2022-03-28T16:37:49.176194",
   "version": "2.3.4"
  }
 },
 "nbformat": 4,
 "nbformat_minor": 5
}