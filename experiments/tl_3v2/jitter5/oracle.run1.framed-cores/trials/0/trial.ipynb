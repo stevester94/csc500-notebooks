{
 "cells": [
  {
   "cell_type": "markdown",
   "id": "9fea5f46",
   "metadata": {
    "papermill": {
     "duration": 0.02925,
     "end_time": "2022-03-28T15:42:47.503934",
     "exception": false,
     "start_time": "2022-03-28T15:42:47.474684",
     "status": "completed"
    },
    "tags": []
   },
   "source": [
    "# Transfer Learning Template"
   ]
  },
  {
   "cell_type": "code",
   "execution_count": 1,
   "id": "0902182a",
   "metadata": {
    "execution": {
     "iopub.execute_input": "2022-03-28T15:42:47.566072Z",
     "iopub.status.busy": "2022-03-28T15:42:47.564882Z",
     "iopub.status.idle": "2022-03-28T15:42:49.401664Z",
     "shell.execute_reply": "2022-03-28T15:42:49.400792Z"
    },
    "papermill": {
     "duration": 1.874769,
     "end_time": "2022-03-28T15:42:49.401866",
     "exception": false,
     "start_time": "2022-03-28T15:42:47.527097",
     "status": "completed"
    },
    "tags": []
   },
   "outputs": [],
   "source": [
    "%load_ext autoreload\n",
    "%autoreload 2\n",
    "%matplotlib inline\n",
    "\n",
    "    \n",
    "import os, json, sys, time, random\n",
    "import numpy as np\n",
    "import torch\n",
    "from torch.optim import Adam\n",
    "from  easydict import EasyDict\n",
    "import matplotlib.pyplot as plt\n",
    "\n",
    "from steves_models.steves_ptn import Steves_Prototypical_Network\n",
    "\n",
    "from steves_utils.lazy_iterable_wrapper import Lazy_Iterable_Wrapper\n",
    "from steves_utils.iterable_aggregator import Iterable_Aggregator\n",
    "from steves_utils.ptn_train_eval_test_jig import  PTN_Train_Eval_Test_Jig\n",
    "from steves_utils.torch_sequential_builder import build_sequential\n",
    "from steves_utils.torch_utils import get_dataset_metrics, ptn_confusion_by_domain_over_dataloader\n",
    "from steves_utils.utils_v2 import (per_domain_accuracy_from_confusion, get_datasets_base_path)\n",
    "from steves_utils.PTN.utils import independent_accuracy_assesment\n",
    "\n",
    "from torch.utils.data import DataLoader\n",
    "\n",
    "from steves_utils.stratified_dataset.episodic_accessor import Episodic_Accessor_Factory\n",
    "\n",
    "from steves_utils.ptn_do_report import (\n",
    "    get_loss_curve,\n",
    "    get_results_table,\n",
    "    get_parameters_table,\n",
    "    get_domain_accuracies,\n",
    ")\n",
    "\n",
    "from steves_utils.transforms import get_chained_transform"
   ]
  },
  {
   "cell_type": "markdown",
   "id": "41c840b4",
   "metadata": {
    "papermill": {
     "duration": 0.019738,
     "end_time": "2022-03-28T15:42:49.445829",
     "exception": false,
     "start_time": "2022-03-28T15:42:49.426091",
     "status": "completed"
    },
    "tags": []
   },
   "source": [
    "# Allowed Parameters\n",
    "These are allowed parameters, not defaults\n",
    "Each of these values need to be present in the injected parameters (the notebook will raise an exception if they are not present)\n",
    "\n",
    "Papermill uses the cell tag \"parameters\" to inject the real parameters below this cell.\n",
    "Enable tags to see what I mean"
   ]
  },
  {
   "cell_type": "code",
   "execution_count": 2,
   "id": "fd44eb83",
   "metadata": {
    "execution": {
     "iopub.execute_input": "2022-03-28T15:42:49.490361Z",
     "iopub.status.busy": "2022-03-28T15:42:49.489702Z",
     "iopub.status.idle": "2022-03-28T15:42:49.509914Z",
     "shell.execute_reply": "2022-03-28T15:42:49.509077Z"
    },
    "papermill": {
     "duration": 0.044527,
     "end_time": "2022-03-28T15:42:49.510083",
     "exception": false,
     "start_time": "2022-03-28T15:42:49.465556",
     "status": "completed"
    },
    "tags": []
   },
   "outputs": [],
   "source": [
    "required_parameters = {\n",
    "    \"experiment_name\",\n",
    "    \"lr\",\n",
    "    \"device\",\n",
    "    \"seed\",\n",
    "    \"dataset_seed\",\n",
    "    \"n_shot\",\n",
    "    \"n_query\",\n",
    "    \"n_way\",\n",
    "    \"train_k_factor\",\n",
    "    \"val_k_factor\",\n",
    "    \"test_k_factor\",\n",
    "    \"n_epoch\",\n",
    "    \"patience\",\n",
    "    \"criteria_for_best\",\n",
    "    \"x_net\",\n",
    "    \"datasets\",\n",
    "    \"torch_default_dtype\",\n",
    "    \"NUM_LOGS_PER_EPOCH\",\n",
    "    \"BEST_MODEL_PATH\",\n",
    "    \"x_shape\",\n",
    "}"
   ]
  },
  {
   "cell_type": "code",
   "execution_count": 3,
   "id": "fa3f0049",
   "metadata": {
    "execution": {
     "iopub.execute_input": "2022-03-28T15:42:49.566599Z",
     "iopub.status.busy": "2022-03-28T15:42:49.565874Z",
     "iopub.status.idle": "2022-03-28T15:42:49.585848Z",
     "shell.execute_reply": "2022-03-28T15:42:49.585016Z"
    },
    "papermill": {
     "duration": 0.049552,
     "end_time": "2022-03-28T15:42:49.586017",
     "exception": false,
     "start_time": "2022-03-28T15:42:49.536465",
     "status": "completed"
    },
    "tags": [
     "parameters"
    ]
   },
   "outputs": [],
   "source": [
    "from steves_utils.CORES.utils import (\n",
    "    ALL_NODES,\n",
    "    ALL_NODES_MINIMUM_1000_EXAMPLES,\n",
    "    ALL_DAYS\n",
    ")\n",
    "\n",
    "from steves_utils.ORACLE.utils_v2 import (\n",
    "    ALL_DISTANCES_FEET_NARROWED,\n",
    "    ALL_RUNS,\n",
    "    ALL_SERIAL_NUMBERS,\n",
    ")\n",
    "\n",
    "standalone_parameters = {}\n",
    "standalone_parameters[\"experiment_name\"] = \"STANDALONE PTN\"\n",
    "standalone_parameters[\"lr\"] = 0.001\n",
    "standalone_parameters[\"device\"] = \"cuda\"\n",
    "\n",
    "standalone_parameters[\"seed\"] = 1337\n",
    "standalone_parameters[\"dataset_seed\"] = 1337\n",
    "\n",
    "standalone_parameters[\"n_way\"] = 8\n",
    "standalone_parameters[\"n_shot\"] = 3\n",
    "standalone_parameters[\"n_query\"]  = 2\n",
    "standalone_parameters[\"train_k_factor\"] = 1\n",
    "standalone_parameters[\"val_k_factor\"] = 2\n",
    "standalone_parameters[\"test_k_factor\"] = 2\n",
    "\n",
    "\n",
    "standalone_parameters[\"n_epoch\"] = 50\n",
    "\n",
    "standalone_parameters[\"patience\"] = 10\n",
    "standalone_parameters[\"criteria_for_best\"] = \"source_loss\"\n",
    "\n",
    "standalone_parameters[\"datasets\"] = [\n",
    "    {\n",
    "        \"labels\": ALL_SERIAL_NUMBERS,\n",
    "        \"domains\": ALL_DISTANCES_FEET_NARROWED,\n",
    "        \"num_examples_per_domain_per_label\": 100,\n",
    "        \"pickle_path\": os.path.join(get_datasets_base_path(), \"oracle.Run1_framed_2000Examples_stratified_ds.2022A.pkl\"),\n",
    "        \"source_or_target_dataset\": \"source\",\n",
    "        \"x_transforms\": [\"unit_mag\", \"minus_two\"],\n",
    "        \"episode_transforms\": [],\n",
    "        \"domain_prefix\": \"ORACLE_\"\n",
    "    },\n",
    "    {\n",
    "        \"labels\": ALL_NODES,\n",
    "        \"domains\": ALL_DAYS,\n",
    "        \"num_examples_per_domain_per_label\": 100,\n",
    "        \"pickle_path\": os.path.join(get_datasets_base_path(), \"cores.stratified_ds.2022A.pkl\"),\n",
    "        \"source_or_target_dataset\": \"target\",\n",
    "        \"x_transforms\": [\"unit_power\", \"times_zero\"],\n",
    "        \"episode_transforms\": [],\n",
    "        \"domain_prefix\": \"CORES_\"\n",
    "    }   \n",
    "]\n",
    "\n",
    "standalone_parameters[\"torch_default_dtype\"] = \"torch.float32\" \n",
    "\n",
    "\n",
    "\n",
    "standalone_parameters[\"x_net\"] =     [\n",
    "    {\"class\": \"nnReshape\", \"kargs\": {\"shape\":[-1, 1, 2, 256]}},\n",
    "    {\"class\": \"Conv2d\", \"kargs\": { \"in_channels\":1, \"out_channels\":256, \"kernel_size\":(1,7), \"bias\":False, \"padding\":(0,3), },},\n",
    "    {\"class\": \"ReLU\", \"kargs\": {\"inplace\": True}},\n",
    "    {\"class\": \"BatchNorm2d\", \"kargs\": {\"num_features\":256}},\n",
    "\n",
    "    {\"class\": \"Conv2d\", \"kargs\": { \"in_channels\":256, \"out_channels\":80, \"kernel_size\":(2,7), \"bias\":True, \"padding\":(0,3), },},\n",
    "    {\"class\": \"ReLU\", \"kargs\": {\"inplace\": True}},\n",
    "    {\"class\": \"BatchNorm2d\", \"kargs\": {\"num_features\":80}},\n",
    "    {\"class\": \"Flatten\", \"kargs\": {}},\n",
    "\n",
    "    {\"class\": \"Linear\", \"kargs\": {\"in_features\": 80*256, \"out_features\": 256}}, # 80 units per IQ pair\n",
    "    {\"class\": \"ReLU\", \"kargs\": {\"inplace\": True}},\n",
    "    {\"class\": \"BatchNorm1d\", \"kargs\": {\"num_features\":256}},\n",
    "\n",
    "    {\"class\": \"Linear\", \"kargs\": {\"in_features\": 256, \"out_features\": 256}},\n",
    "]\n",
    "\n",
    "# Parameters relevant to results\n",
    "# These parameters will basically never need to change\n",
    "standalone_parameters[\"NUM_LOGS_PER_EPOCH\"] = 10\n",
    "standalone_parameters[\"BEST_MODEL_PATH\"] = \"./best_model.pth\"\n",
    "\n",
    "\n",
    "\n",
    "\n"
   ]
  },
  {
   "cell_type": "code",
   "execution_count": 4,
   "id": "7f59407a",
   "metadata": {
    "execution": {
     "iopub.execute_input": "2022-03-28T15:42:49.643384Z",
     "iopub.status.busy": "2022-03-28T15:42:49.640501Z",
     "iopub.status.idle": "2022-03-28T15:42:49.662592Z",
     "shell.execute_reply": "2022-03-28T15:42:49.661764Z"
    },
    "papermill": {
     "duration": 0.049774,
     "end_time": "2022-03-28T15:42:49.662761",
     "exception": false,
     "start_time": "2022-03-28T15:42:49.612987",
     "status": "completed"
    },
    "tags": [
     "injected-parameters"
    ]
   },
   "outputs": [],
   "source": [
    "# Parameters\n",
    "parameters = {\n",
    "    \"experiment_name\": \"tl_3-jitter5v2:oracle.run1.framed -> cores\",\n",
    "    \"device\": \"cuda\",\n",
    "    \"lr\": 0.0001,\n",
    "    \"x_shape\": [2, 256],\n",
    "    \"n_shot\": 3,\n",
    "    \"n_query\": 2,\n",
    "    \"train_k_factor\": 3,\n",
    "    \"val_k_factor\": 2,\n",
    "    \"test_k_factor\": 2,\n",
    "    \"torch_default_dtype\": \"torch.float32\",\n",
    "    \"n_epoch\": 50,\n",
    "    \"patience\": 3,\n",
    "    \"criteria_for_best\": \"target_accuracy\",\n",
    "    \"x_net\": [\n",
    "        {\"class\": \"nnReshape\", \"kargs\": {\"shape\": [-1, 1, 2, 256]}},\n",
    "        {\n",
    "            \"class\": \"Conv2d\",\n",
    "            \"kargs\": {\n",
    "                \"in_channels\": 1,\n",
    "                \"out_channels\": 256,\n",
    "                \"kernel_size\": [1, 7],\n",
    "                \"bias\": False,\n",
    "                \"padding\": [0, 3],\n",
    "            },\n",
    "        },\n",
    "        {\"class\": \"ReLU\", \"kargs\": {\"inplace\": True}},\n",
    "        {\"class\": \"BatchNorm2d\", \"kargs\": {\"num_features\": 256}},\n",
    "        {\n",
    "            \"class\": \"Conv2d\",\n",
    "            \"kargs\": {\n",
    "                \"in_channels\": 256,\n",
    "                \"out_channels\": 80,\n",
    "                \"kernel_size\": [2, 7],\n",
    "                \"bias\": True,\n",
    "                \"padding\": [0, 3],\n",
    "            },\n",
    "        },\n",
    "        {\"class\": \"ReLU\", \"kargs\": {\"inplace\": True}},\n",
    "        {\"class\": \"BatchNorm2d\", \"kargs\": {\"num_features\": 80}},\n",
    "        {\"class\": \"Flatten\", \"kargs\": {}},\n",
    "        {\"class\": \"Linear\", \"kargs\": {\"in_features\": 20480, \"out_features\": 256}},\n",
    "        {\"class\": \"ReLU\", \"kargs\": {\"inplace\": True}},\n",
    "        {\"class\": \"BatchNorm1d\", \"kargs\": {\"num_features\": 256}},\n",
    "        {\"class\": \"Linear\", \"kargs\": {\"in_features\": 256, \"out_features\": 256}},\n",
    "    ],\n",
    "    \"NUM_LOGS_PER_EPOCH\": 10,\n",
    "    \"BEST_MODEL_PATH\": \"./best_model.pth\",\n",
    "    \"n_way\": 16,\n",
    "    \"datasets\": [\n",
    "        {\n",
    "            \"labels\": [\n",
    "                \"1-10.\",\n",
    "                \"1-11.\",\n",
    "                \"1-15.\",\n",
    "                \"1-16.\",\n",
    "                \"1-17.\",\n",
    "                \"1-18.\",\n",
    "                \"1-19.\",\n",
    "                \"10-4.\",\n",
    "                \"10-7.\",\n",
    "                \"11-1.\",\n",
    "                \"11-14.\",\n",
    "                \"11-17.\",\n",
    "                \"11-20.\",\n",
    "                \"11-7.\",\n",
    "                \"13-20.\",\n",
    "                \"13-8.\",\n",
    "                \"14-10.\",\n",
    "                \"14-11.\",\n",
    "                \"14-14.\",\n",
    "                \"14-7.\",\n",
    "                \"15-1.\",\n",
    "                \"15-20.\",\n",
    "                \"16-1.\",\n",
    "                \"16-16.\",\n",
    "                \"17-10.\",\n",
    "                \"17-11.\",\n",
    "                \"17-2.\",\n",
    "                \"19-1.\",\n",
    "                \"19-16.\",\n",
    "                \"19-19.\",\n",
    "                \"19-20.\",\n",
    "                \"19-3.\",\n",
    "                \"2-10.\",\n",
    "                \"2-11.\",\n",
    "                \"2-17.\",\n",
    "                \"2-18.\",\n",
    "                \"2-20.\",\n",
    "                \"2-3.\",\n",
    "                \"2-4.\",\n",
    "                \"2-5.\",\n",
    "                \"2-6.\",\n",
    "                \"2-7.\",\n",
    "                \"2-8.\",\n",
    "                \"3-13.\",\n",
    "                \"3-18.\",\n",
    "                \"3-3.\",\n",
    "                \"4-1.\",\n",
    "                \"4-10.\",\n",
    "                \"4-11.\",\n",
    "                \"4-19.\",\n",
    "                \"5-5.\",\n",
    "                \"6-15.\",\n",
    "                \"7-10.\",\n",
    "                \"7-14.\",\n",
    "                \"8-18.\",\n",
    "                \"8-20.\",\n",
    "                \"8-3.\",\n",
    "                \"8-8.\",\n",
    "            ],\n",
    "            \"domains\": [1, 2, 3, 4, 5],\n",
    "            \"num_examples_per_domain_per_label\": -1,\n",
    "            \"pickle_path\": \"/root/csc500-main/datasets/cores.stratified_ds.2022A.pkl\",\n",
    "            \"source_or_target_dataset\": \"target\",\n",
    "            \"x_transforms\": [\n",
    "                \"unit_power\",\n",
    "                \"jitter_256_5\",\n",
    "                \"lowpass_+/-10MHz\",\n",
    "                \"take_200\",\n",
    "            ],\n",
    "            \"episode_transforms\": [],\n",
    "            \"domain_prefix\": \"C_\",\n",
    "        },\n",
    "        {\n",
    "            \"labels\": [\n",
    "                \"3123D52\",\n",
    "                \"3123D65\",\n",
    "                \"3123D79\",\n",
    "                \"3123D80\",\n",
    "                \"3123D54\",\n",
    "                \"3123D70\",\n",
    "                \"3123D7B\",\n",
    "                \"3123D89\",\n",
    "                \"3123D58\",\n",
    "                \"3123D76\",\n",
    "                \"3123D7D\",\n",
    "                \"3123EFE\",\n",
    "                \"3123D64\",\n",
    "                \"3123D78\",\n",
    "                \"3123D7E\",\n",
    "                \"3124E4A\",\n",
    "            ],\n",
    "            \"domains\": [32, 38, 8, 44, 14, 50, 20, 26],\n",
    "            \"num_examples_per_domain_per_label\": 2000,\n",
    "            \"pickle_path\": \"/root/csc500-main/datasets/oracle.Run1_framed_2000Examples_stratified_ds.2022A.pkl\",\n",
    "            \"source_or_target_dataset\": \"source\",\n",
    "            \"x_transforms\": [\n",
    "                \"unit_power\",\n",
    "                \"jitter_256_5\",\n",
    "                \"take_200\",\n",
    "                \"resample_20Msps_to_25Msps\",\n",
    "            ],\n",
    "            \"episode_transforms\": [],\n",
    "            \"domain_prefix\": \"O_\",\n",
    "        },\n",
    "    ],\n",
    "    \"seed\": 1337,\n",
    "    \"dataset_seed\": 1337,\n",
    "}\n"
   ]
  },
  {
   "cell_type": "code",
   "execution_count": 5,
   "id": "8fa1cc33",
   "metadata": {
    "execution": {
     "iopub.execute_input": "2022-03-28T15:42:49.719765Z",
     "iopub.status.busy": "2022-03-28T15:42:49.719357Z",
     "iopub.status.idle": "2022-03-28T15:42:49.737014Z",
     "shell.execute_reply": "2022-03-28T15:42:49.736188Z"
    },
    "papermill": {
     "duration": 0.042185,
     "end_time": "2022-03-28T15:42:49.737175",
     "exception": false,
     "start_time": "2022-03-28T15:42:49.694990",
     "status": "completed"
    },
    "tags": []
   },
   "outputs": [],
   "source": [
    "# Set this to True if you want to run this template directly\n",
    "STANDALONE = False\n",
    "if STANDALONE:\n",
    "    print(\"parameters not injected, running with standalone_parameters\")\n",
    "    parameters = standalone_parameters\n",
    "\n",
    "if not 'parameters' in locals() and not 'parameters' in globals():\n",
    "    raise Exception(\"Parameter injection failed\")\n",
    "\n",
    "#Use an easy dict for all the parameters\n",
    "p = EasyDict(parameters)\n",
    "\n",
    "if \"x_shape\" not in p:\n",
    "    p.x_shape = [2,256] # Default to this if we dont supply x_shape\n",
    "\n",
    "\n",
    "supplied_keys = set(p.keys())\n",
    "\n",
    "if  supplied_keys != required_parameters:\n",
    "    print(\"Parameters are incorrect\")\n",
    "    if len(supplied_keys - required_parameters)>0: print(\"Shouldn't have:\", str(supplied_keys - required_parameters))\n",
    "    if len(required_parameters - supplied_keys)>0: print(\"Need to have:\", str(required_parameters - supplied_keys))\n",
    "    raise RuntimeError(\"Parameters are incorrect\")"
   ]
  },
  {
   "cell_type": "code",
   "execution_count": 6,
   "id": "3a028d58",
   "metadata": {
    "execution": {
     "iopub.execute_input": "2022-03-28T15:42:49.786206Z",
     "iopub.status.busy": "2022-03-28T15:42:49.785828Z",
     "iopub.status.idle": "2022-03-28T15:42:49.803652Z",
     "shell.execute_reply": "2022-03-28T15:42:49.802791Z"
    },
    "papermill": {
     "duration": 0.040335,
     "end_time": "2022-03-28T15:42:49.803813",
     "exception": false,
     "start_time": "2022-03-28T15:42:49.763478",
     "status": "completed"
    },
    "tags": []
   },
   "outputs": [],
   "source": [
    "###################################\n",
    "# Set the RNGs and make it all deterministic\n",
    "###################################\n",
    "np.random.seed(p.seed)\n",
    "random.seed(p.seed)\n",
    "torch.manual_seed(p.seed)\n",
    "\n",
    "torch.use_deterministic_algorithms(True) "
   ]
  },
  {
   "cell_type": "code",
   "execution_count": 7,
   "id": "b691acf6",
   "metadata": {
    "execution": {
     "iopub.execute_input": "2022-03-28T15:42:49.853705Z",
     "iopub.status.busy": "2022-03-28T15:42:49.853329Z",
     "iopub.status.idle": "2022-03-28T15:42:49.870760Z",
     "shell.execute_reply": "2022-03-28T15:42:49.869937Z"
    },
    "papermill": {
     "duration": 0.039732,
     "end_time": "2022-03-28T15:42:49.870916",
     "exception": false,
     "start_time": "2022-03-28T15:42:49.831184",
     "status": "completed"
    },
    "tags": []
   },
   "outputs": [],
   "source": [
    "###########################################\n",
    "# The stratified datasets honor this\n",
    "###########################################\n",
    "torch.set_default_dtype(eval(p.torch_default_dtype))"
   ]
  },
  {
   "cell_type": "code",
   "execution_count": 8,
   "id": "b5fba671",
   "metadata": {
    "execution": {
     "iopub.execute_input": "2022-03-28T15:42:49.919846Z",
     "iopub.status.busy": "2022-03-28T15:42:49.919450Z",
     "iopub.status.idle": "2022-03-28T15:42:49.969695Z",
     "shell.execute_reply": "2022-03-28T15:42:49.970352Z"
    },
    "papermill": {
     "duration": 0.074016,
     "end_time": "2022-03-28T15:42:49.970539",
     "exception": false,
     "start_time": "2022-03-28T15:42:49.896523",
     "status": "completed"
    },
    "tags": []
   },
   "outputs": [],
   "source": [
    "###################################\n",
    "# Build the network(s)\n",
    "# Note: It's critical to do this AFTER setting the RNG\n",
    "###################################\n",
    "x_net = build_sequential(p.x_net)"
   ]
  },
  {
   "cell_type": "code",
   "execution_count": 9,
   "id": "5d7e61cc",
   "metadata": {
    "execution": {
     "iopub.execute_input": "2022-03-28T15:42:50.020983Z",
     "iopub.status.busy": "2022-03-28T15:42:50.019792Z",
     "iopub.status.idle": "2022-03-28T15:42:50.042544Z",
     "shell.execute_reply": "2022-03-28T15:42:50.041723Z"
    },
    "papermill": {
     "duration": 0.046586,
     "end_time": "2022-03-28T15:42:50.042709",
     "exception": false,
     "start_time": "2022-03-28T15:42:49.996123",
     "status": "completed"
    },
    "tags": []
   },
   "outputs": [],
   "source": [
    "start_time_secs = time.time()"
   ]
  },
  {
   "cell_type": "code",
   "execution_count": 10,
   "id": "c6b67dfd",
   "metadata": {
    "execution": {
     "iopub.execute_input": "2022-03-28T15:42:50.093969Z",
     "iopub.status.busy": "2022-03-28T15:42:50.093407Z",
     "iopub.status.idle": "2022-03-28T15:42:50.110551Z",
     "shell.execute_reply": "2022-03-28T15:42:50.109741Z"
    },
    "papermill": {
     "duration": 0.040546,
     "end_time": "2022-03-28T15:42:50.110710",
     "exception": false,
     "start_time": "2022-03-28T15:42:50.070164",
     "status": "completed"
    },
    "tags": []
   },
   "outputs": [],
   "source": [
    "p.domains_source = []\n",
    "p.domains_target = []\n",
    "\n",
    "\n",
    "train_original_source = []\n",
    "val_original_source   = []\n",
    "test_original_source  = []\n",
    "\n",
    "train_original_target = []\n",
    "val_original_target   = []\n",
    "test_original_target  = []"
   ]
  },
  {
   "cell_type": "code",
   "execution_count": 11,
   "id": "e3d9c3d3",
   "metadata": {
    "execution": {
     "iopub.execute_input": "2022-03-28T15:42:50.161017Z",
     "iopub.status.busy": "2022-03-28T15:42:50.160649Z",
     "iopub.status.idle": "2022-03-28T15:42:50.177896Z",
     "shell.execute_reply": "2022-03-28T15:42:50.177056Z"
    },
    "papermill": {
     "duration": 0.039616,
     "end_time": "2022-03-28T15:42:50.178048",
     "exception": false,
     "start_time": "2022-03-28T15:42:50.138432",
     "status": "completed"
    },
    "tags": []
   },
   "outputs": [],
   "source": [
    "# global_x_transform_func = lambda x: normalize(x.to(torch.get_default_dtype()), \"unit_power\") # unit_power, unit_mag\n",
    "# global_x_transform_func = lambda x: normalize(x, \"unit_power\") # unit_power, unit_mag"
   ]
  },
  {
   "cell_type": "code",
   "execution_count": 12,
   "id": "acb78fd2",
   "metadata": {
    "execution": {
     "iopub.execute_input": "2022-03-28T15:42:50.230951Z",
     "iopub.status.busy": "2022-03-28T15:42:50.230558Z",
     "iopub.status.idle": "2022-03-28T15:42:50.248856Z",
     "shell.execute_reply": "2022-03-28T15:42:50.248033Z"
    },
    "papermill": {
     "duration": 0.045067,
     "end_time": "2022-03-28T15:42:50.249011",
     "exception": false,
     "start_time": "2022-03-28T15:42:50.203944",
     "status": "completed"
    },
    "tags": []
   },
   "outputs": [],
   "source": [
    "def add_dataset(\n",
    "    labels,\n",
    "    domains,\n",
    "    pickle_path,\n",
    "    x_transforms,\n",
    "    episode_transforms,\n",
    "    domain_prefix,\n",
    "    num_examples_per_domain_per_label,\n",
    "    source_or_target_dataset:str,\n",
    "    iterator_seed=p.seed,\n",
    "    dataset_seed=p.dataset_seed,\n",
    "    n_shot=p.n_shot,\n",
    "    n_way=p.n_way,\n",
    "    n_query=p.n_query,\n",
    "    train_val_test_k_factors=(p.train_k_factor,p.val_k_factor,p.test_k_factor),\n",
    "):\n",
    "   \n",
    "    if x_transforms == []: x_transform = None\n",
    "    else: x_transform = get_chained_transform(x_transforms)\n",
    "    \n",
    "    if episode_transforms == []: episode_transform = None\n",
    "    else: raise Exception(\"episode_transforms not implemented\")\n",
    "    \n",
    "    episode_transform = lambda tup, _prefix=domain_prefix: (_prefix + str(tup[0]), tup[1])\n",
    "\n",
    "\n",
    "    eaf = Episodic_Accessor_Factory(\n",
    "        labels=labels,\n",
    "        domains=domains,\n",
    "        num_examples_per_domain_per_label=num_examples_per_domain_per_label,\n",
    "        iterator_seed=iterator_seed,\n",
    "        dataset_seed=dataset_seed,\n",
    "        n_shot=n_shot,\n",
    "        n_way=n_way,\n",
    "        n_query=n_query,\n",
    "        train_val_test_k_factors=train_val_test_k_factors,\n",
    "        pickle_path=pickle_path,\n",
    "        x_transform_func=x_transform,\n",
    "    )\n",
    "\n",
    "    train, val, test = eaf.get_train(), eaf.get_val(), eaf.get_test()\n",
    "    train = Lazy_Iterable_Wrapper(train, episode_transform)\n",
    "    val = Lazy_Iterable_Wrapper(val, episode_transform)\n",
    "    test = Lazy_Iterable_Wrapper(test, episode_transform)\n",
    "\n",
    "    if source_or_target_dataset==\"source\":\n",
    "        train_original_source.append(train)\n",
    "        val_original_source.append(val)\n",
    "        test_original_source.append(test)\n",
    "\n",
    "        p.domains_source.extend(\n",
    "            [domain_prefix + str(u) for u in domains]\n",
    "        )\n",
    "    elif source_or_target_dataset==\"target\":\n",
    "        train_original_target.append(train)\n",
    "        val_original_target.append(val)\n",
    "        test_original_target.append(test)\n",
    "        p.domains_target.extend(\n",
    "            [domain_prefix + str(u) for u in domains]\n",
    "        )\n",
    "    else:\n",
    "        raise Exception(f\"invalid source_or_target_dataset: {source_or_target_dataset}\")\n",
    "    "
   ]
  },
  {
   "cell_type": "code",
   "execution_count": 13,
   "id": "fe266617",
   "metadata": {
    "execution": {
     "iopub.execute_input": "2022-03-28T15:42:50.298984Z",
     "iopub.status.busy": "2022-03-28T15:42:50.298617Z",
     "iopub.status.idle": "2022-03-28T15:44:40.584003Z",
     "shell.execute_reply": "2022-03-28T15:44:40.583179Z"
    },
    "papermill": {
     "duration": 110.308091,
     "end_time": "2022-03-28T15:44:40.584182",
     "exception": false,
     "start_time": "2022-03-28T15:42:50.276091",
     "status": "completed"
    },
    "tags": []
   },
   "outputs": [],
   "source": [
    "for ds in p.datasets:\n",
    "    add_dataset(**ds)"
   ]
  },
  {
   "cell_type": "code",
   "execution_count": 14,
   "id": "b90d65ac",
   "metadata": {
    "execution": {
     "iopub.execute_input": "2022-03-28T15:44:40.634005Z",
     "iopub.status.busy": "2022-03-28T15:44:40.633359Z",
     "iopub.status.idle": "2022-03-28T15:44:40.656225Z",
     "shell.execute_reply": "2022-03-28T15:44:40.655395Z"
    },
    "papermill": {
     "duration": 0.046917,
     "end_time": "2022-03-28T15:44:40.656377",
     "exception": false,
     "start_time": "2022-03-28T15:44:40.609460",
     "status": "completed"
    },
    "tags": []
   },
   "outputs": [],
   "source": [
    "# from steves_utils.CORES.utils import (\n",
    "#     ALL_NODES,\n",
    "#     ALL_NODES_MINIMUM_1000_EXAMPLES,\n",
    "#     ALL_DAYS\n",
    "# )\n",
    "\n",
    "# add_dataset(\n",
    "#     labels=ALL_NODES,\n",
    "#     domains = ALL_DAYS,\n",
    "#     num_examples_per_domain_per_label=100,\n",
    "#     pickle_path=os.path.join(get_datasets_base_path(), \"cores.stratified_ds.2022A.pkl\"),\n",
    "#     source_or_target_dataset=\"target\",\n",
    "#     x_transform_func=global_x_transform_func,\n",
    "#     domain_modifier=lambda u: f\"cores_{u}\"\n",
    "# )"
   ]
  },
  {
   "cell_type": "code",
   "execution_count": 15,
   "id": "76db484d",
   "metadata": {
    "execution": {
     "iopub.execute_input": "2022-03-28T15:44:40.712256Z",
     "iopub.status.busy": "2022-03-28T15:44:40.705769Z",
     "iopub.status.idle": "2022-03-28T15:44:40.725815Z",
     "shell.execute_reply": "2022-03-28T15:44:40.725021Z"
    },
    "papermill": {
     "duration": 0.043095,
     "end_time": "2022-03-28T15:44:40.725966",
     "exception": false,
     "start_time": "2022-03-28T15:44:40.682871",
     "status": "completed"
    },
    "tags": []
   },
   "outputs": [],
   "source": [
    "# from steves_utils.ORACLE.utils_v2 import (\n",
    "#     ALL_DISTANCES_FEET,\n",
    "#     ALL_RUNS,\n",
    "#     ALL_SERIAL_NUMBERS,\n",
    "# )\n",
    "\n",
    "\n",
    "# add_dataset(\n",
    "#     labels=ALL_SERIAL_NUMBERS,\n",
    "#     domains = list(set(ALL_DISTANCES_FEET) - {2,62}),\n",
    "#     num_examples_per_domain_per_label=100,\n",
    "#     pickle_path=os.path.join(get_datasets_base_path(), \"oracle.Run2_framed_2000Examples_stratified_ds.2022A.pkl\"),\n",
    "#     source_or_target_dataset=\"source\",\n",
    "#     x_transform_func=global_x_transform_func,\n",
    "#     domain_modifier=lambda u: f\"oracle1_{u}\"\n",
    "# )\n"
   ]
  },
  {
   "cell_type": "code",
   "execution_count": 16,
   "id": "97dea9d2",
   "metadata": {
    "execution": {
     "iopub.execute_input": "2022-03-28T15:44:40.775833Z",
     "iopub.status.busy": "2022-03-28T15:44:40.774944Z",
     "iopub.status.idle": "2022-03-28T15:44:40.797641Z",
     "shell.execute_reply": "2022-03-28T15:44:40.796538Z"
    },
    "papermill": {
     "duration": 0.046205,
     "end_time": "2022-03-28T15:44:40.797847",
     "exception": false,
     "start_time": "2022-03-28T15:44:40.751642",
     "status": "completed"
    },
    "tags": []
   },
   "outputs": [],
   "source": [
    "# from steves_utils.ORACLE.utils_v2 import (\n",
    "#     ALL_DISTANCES_FEET,\n",
    "#     ALL_RUNS,\n",
    "#     ALL_SERIAL_NUMBERS,\n",
    "# )\n",
    "\n",
    "\n",
    "# add_dataset(\n",
    "#     labels=ALL_SERIAL_NUMBERS,\n",
    "#     domains = list(set(ALL_DISTANCES_FEET) - {2,62,56}),\n",
    "#     num_examples_per_domain_per_label=100,\n",
    "#     pickle_path=os.path.join(get_datasets_base_path(), \"oracle.Run2_framed_2000Examples_stratified_ds.2022A.pkl\"),\n",
    "#     source_or_target_dataset=\"source\",\n",
    "#     x_transform_func=global_x_transform_func,\n",
    "#     domain_modifier=lambda u: f\"oracle2_{u}\"\n",
    "# )"
   ]
  },
  {
   "cell_type": "code",
   "execution_count": 17,
   "id": "6f289866",
   "metadata": {
    "execution": {
     "iopub.execute_input": "2022-03-28T15:44:40.851397Z",
     "iopub.status.busy": "2022-03-28T15:44:40.850995Z",
     "iopub.status.idle": "2022-03-28T15:44:40.868101Z",
     "shell.execute_reply": "2022-03-28T15:44:40.867202Z"
    },
    "papermill": {
     "duration": 0.041719,
     "end_time": "2022-03-28T15:44:40.868280",
     "exception": false,
     "start_time": "2022-03-28T15:44:40.826561",
     "status": "completed"
    },
    "tags": []
   },
   "outputs": [],
   "source": [
    "# add_dataset(\n",
    "#     labels=list(range(19)),\n",
    "#     domains = [0,1,2],\n",
    "#     num_examples_per_domain_per_label=100,\n",
    "#     pickle_path=os.path.join(get_datasets_base_path(), \"metehan.stratified_ds.2022A.pkl\"),\n",
    "#     source_or_target_dataset=\"target\",\n",
    "#     x_transform_func=global_x_transform_func,\n",
    "#     domain_modifier=lambda u: f\"met_{u}\"\n",
    "# )"
   ]
  },
  {
   "cell_type": "code",
   "execution_count": 18,
   "id": "86a863c3",
   "metadata": {
    "execution": {
     "iopub.execute_input": "2022-03-28T15:44:40.923047Z",
     "iopub.status.busy": "2022-03-28T15:44:40.922643Z",
     "iopub.status.idle": "2022-03-28T15:44:40.942169Z",
     "shell.execute_reply": "2022-03-28T15:44:40.941425Z"
    },
    "papermill": {
     "duration": 0.044848,
     "end_time": "2022-03-28T15:44:40.942344",
     "exception": false,
     "start_time": "2022-03-28T15:44:40.897496",
     "status": "completed"
    },
    "tags": []
   },
   "outputs": [],
   "source": [
    "# # from steves_utils.wisig.utils import (\n",
    "# #     ALL_NODES_MINIMUM_100_EXAMPLES,\n",
    "# #     ALL_NODES_MINIMUM_500_EXAMPLES,\n",
    "# #     ALL_NODES_MINIMUM_1000_EXAMPLES,\n",
    "# #     ALL_DAYS\n",
    "# # )\n",
    "\n",
    "# import steves_utils.wisig.utils as wisig\n",
    "\n",
    "\n",
    "# add_dataset(\n",
    "#     labels=wisig.ALL_NODES_MINIMUM_100_EXAMPLES,\n",
    "#     domains = wisig.ALL_DAYS,\n",
    "#     num_examples_per_domain_per_label=100,\n",
    "#     pickle_path=os.path.join(get_datasets_base_path(), \"wisig.node3-19.stratified_ds.2022A.pkl\"),\n",
    "#     source_or_target_dataset=\"target\",\n",
    "#     x_transform_func=global_x_transform_func,\n",
    "#     domain_modifier=lambda u: f\"wisig_{u}\"\n",
    "# )"
   ]
  },
  {
   "cell_type": "code",
   "execution_count": 19,
   "id": "fd5442bc",
   "metadata": {
    "execution": {
     "iopub.execute_input": "2022-03-28T15:44:40.996548Z",
     "iopub.status.busy": "2022-03-28T15:44:40.996147Z",
     "iopub.status.idle": "2022-03-28T15:44:41.020064Z",
     "shell.execute_reply": "2022-03-28T15:44:41.019198Z"
    },
    "papermill": {
     "duration": 0.051188,
     "end_time": "2022-03-28T15:44:41.020241",
     "exception": false,
     "start_time": "2022-03-28T15:44:40.969053",
     "status": "completed"
    },
    "tags": []
   },
   "outputs": [],
   "source": [
    "###################################\n",
    "# Build the dataset\n",
    "###################################\n",
    "train_original_source = Iterable_Aggregator(train_original_source, p.seed)\n",
    "val_original_source = Iterable_Aggregator(val_original_source, p.seed)\n",
    "test_original_source = Iterable_Aggregator(test_original_source, p.seed)\n",
    "\n",
    "\n",
    "train_original_target = Iterable_Aggregator(train_original_target, p.seed)\n",
    "val_original_target = Iterable_Aggregator(val_original_target, p.seed)\n",
    "test_original_target = Iterable_Aggregator(test_original_target, p.seed)\n",
    "\n",
    "# For CNN We only use X and Y. And we only train on the source.\n",
    "# Properly form the data using a transform lambda and Lazy_Iterable_Wrapper. Finally wrap them in a dataloader\n",
    "\n",
    "transform_lambda = lambda ex: ex[1] # Original is (<domain>, <episode>) so we strip down to episode only\n",
    "\n",
    "train_processed_source = Lazy_Iterable_Wrapper(train_original_source, transform_lambda)\n",
    "val_processed_source   = Lazy_Iterable_Wrapper(val_original_source, transform_lambda)\n",
    "test_processed_source  = Lazy_Iterable_Wrapper(test_original_source, transform_lambda)\n",
    "\n",
    "train_processed_target = Lazy_Iterable_Wrapper(train_original_target, transform_lambda)\n",
    "val_processed_target   = Lazy_Iterable_Wrapper(val_original_target, transform_lambda)\n",
    "test_processed_target  = Lazy_Iterable_Wrapper(test_original_target, transform_lambda)\n",
    "\n",
    "datasets = EasyDict({\n",
    "    \"source\": {\n",
    "        \"original\": {\"train\":train_original_source, \"val\":val_original_source, \"test\":test_original_source},\n",
    "        \"processed\": {\"train\":train_processed_source, \"val\":val_processed_source, \"test\":test_processed_source}\n",
    "    },\n",
    "    \"target\": {\n",
    "        \"original\": {\"train\":train_original_target, \"val\":val_original_target, \"test\":test_original_target},\n",
    "        \"processed\": {\"train\":train_processed_target, \"val\":val_processed_target, \"test\":test_processed_target}\n",
    "    },\n",
    "})"
   ]
  },
  {
   "cell_type": "code",
   "execution_count": 20,
   "id": "5b3c01fc",
   "metadata": {
    "execution": {
     "iopub.execute_input": "2022-03-28T15:44:41.072150Z",
     "iopub.status.busy": "2022-03-28T15:44:41.071762Z",
     "iopub.status.idle": "2022-03-28T15:44:55.004130Z",
     "shell.execute_reply": "2022-03-28T15:44:55.003215Z"
    },
    "papermill": {
     "duration": 13.957953,
     "end_time": "2022-03-28T15:44:55.004311",
     "exception": false,
     "start_time": "2022-03-28T15:44:41.046358",
     "status": "completed"
    },
    "tags": []
   },
   "outputs": [
    {
     "name": "stdout",
     "output_type": "stream",
     "text": [
      "{'O_50', 'O_26', 'O_8', 'O_32', 'O_38', 'O_44', 'O_14', 'O_20'}\n"
     ]
    },
    {
     "name": "stdout",
     "output_type": "stream",
     "text": [
      "{'C_4', 'C_5', 'C_3', 'C_2', 'C_1'}\n"
     ]
    },
    {
     "name": "stdout",
     "output_type": "stream",
     "text": [
      "tensor([[[0., 0., 0.,  ..., 0., 0., 0.],\n",
      "         [0., 0., 0.,  ..., 0., 0., 0.]],\n",
      "\n",
      "        [[0., 0., 0.,  ..., 0., 0., 0.],\n",
      "         [0., 0., 0.,  ..., 0., 0., 0.]],\n",
      "\n",
      "        [[0., 0., 0.,  ..., 0., 0., 0.],\n",
      "         [0., 0., 0.,  ..., 0., 0., 0.]],\n",
      "\n",
      "        ...,\n",
      "\n",
      "        [[0., 0., 0.,  ..., 0., 0., 0.],\n",
      "         [0., 0., 0.,  ..., 0., 0., 0.]],\n",
      "\n",
      "        [[0., 0., 0.,  ..., 0., 0., 0.],\n",
      "         [0., 0., 0.,  ..., 0., 0., 0.]],\n",
      "\n",
      "        [[0., 0., 0.,  ..., 0., 0., 0.],\n",
      "         [0., 0., 0.,  ..., 0., 0., 0.]]])\n"
     ]
    }
   ],
   "source": [
    "from steves_utils.transforms import get_average_magnitude, get_average_power\n",
    "\n",
    "print(set([u for u,_ in val_original_source]))\n",
    "print(set([u for u,_ in val_original_target]))\n",
    "\n",
    "s_x, s_y, q_x, q_y, _ = next(iter(train_processed_source))\n",
    "print(s_x)\n",
    "\n",
    "# for ds in [\n",
    "#     train_processed_source,\n",
    "#     val_processed_source,\n",
    "#     test_processed_source,\n",
    "#     train_processed_target,\n",
    "#     val_processed_target,\n",
    "#     test_processed_target\n",
    "# ]:\n",
    "#     for s_x, s_y, q_x, q_y, _ in ds:\n",
    "#         for X in (s_x, q_x):\n",
    "#             for x in X:\n",
    "#                 assert np.isclose(get_average_magnitude(x.numpy()), 1.0)\n",
    "#                 assert np.isclose(get_average_power(x.numpy()), 1.0)\n",
    "                "
   ]
  },
  {
   "cell_type": "code",
   "execution_count": 21,
   "id": "bbdacba1",
   "metadata": {
    "execution": {
     "iopub.execute_input": "2022-03-28T15:44:55.066112Z",
     "iopub.status.busy": "2022-03-28T15:44:55.065415Z",
     "iopub.status.idle": "2022-03-28T15:44:55.187030Z",
     "shell.execute_reply": "2022-03-28T15:44:55.187771Z"
    },
    "papermill": {
     "duration": 0.156636,
     "end_time": "2022-03-28T15:44:55.187989",
     "exception": false,
     "start_time": "2022-03-28T15:44:55.031353",
     "status": "completed"
    },
    "tags": []
   },
   "outputs": [
    {
     "name": "stdout",
     "output_type": "stream",
     "text": [
      "(2, 256)\n"
     ]
    }
   ],
   "source": [
    "###################################\n",
    "# Build the model\n",
    "###################################\n",
    "# easfsl only wants a tuple for the shape\n",
    "model = Steves_Prototypical_Network(x_net, device=p.device, x_shape=tuple(p.x_shape))\n",
    "optimizer = Adam(params=model.parameters(), lr=p.lr)"
   ]
  },
  {
   "cell_type": "code",
   "execution_count": 22,
   "id": "22b39ac5",
   "metadata": {
    "execution": {
     "iopub.execute_input": "2022-03-28T15:44:55.240966Z",
     "iopub.status.busy": "2022-03-28T15:44:55.240582Z",
     "iopub.status.idle": "2022-03-28T16:12:49.390379Z",
     "shell.execute_reply": "2022-03-28T16:12:49.390035Z"
    },
    "papermill": {
     "duration": 1674.17549,
     "end_time": "2022-03-28T16:12:49.390465",
     "exception": false,
     "start_time": "2022-03-28T15:44:55.214975",
     "status": "completed"
    },
    "tags": []
   },
   "outputs": [
    {
     "name": "stdout",
     "output_type": "stream",
     "text": [
      "epoch: 1, [batch: 1 / 6720], examples_per_second: 34.3007, train_label_loss: 2.8249, \n"
     ]
    },
    {
     "name": "stdout",
     "output_type": "stream",
     "text": [
      "epoch: 1, [batch: 672 / 6720], examples_per_second: 4013.4195, train_label_loss: 2.8081, \n"
     ]
    },
    {
     "name": "stdout",
     "output_type": "stream",
     "text": [
      "epoch: 1, [batch: 1344 / 6720], examples_per_second: 4296.2766, train_label_loss: 1.5871, \n"
     ]
    },
    {
     "name": "stdout",
     "output_type": "stream",
     "text": [
      "epoch: 1, [batch: 2016 / 6720], examples_per_second: 4136.4716, train_label_loss: 1.3643, \n"
     ]
    },
    {
     "name": "stdout",
     "output_type": "stream",
     "text": [
      "epoch: 1, [batch: 2688 / 6720], examples_per_second: 3833.5737, train_label_loss: 1.9284, \n"
     ]
    },
    {
     "name": "stdout",
     "output_type": "stream",
     "text": [
      "epoch: 1, [batch: 3360 / 6720], examples_per_second: 3912.7272, train_label_loss: 1.5524, \n"
     ]
    },
    {
     "name": "stdout",
     "output_type": "stream",
     "text": [
      "epoch: 1, [batch: 4032 / 6720], examples_per_second: 3911.2034, train_label_loss: 1.3517, \n"
     ]
    },
    {
     "name": "stdout",
     "output_type": "stream",
     "text": [
      "epoch: 1, [batch: 4704 / 6720], examples_per_second: 3997.7148, train_label_loss: 1.3246, \n"
     ]
    },
    {
     "name": "stdout",
     "output_type": "stream",
     "text": [
      "epoch: 1, [batch: 5376 / 6720], examples_per_second: 3883.7830, train_label_loss: 0.9292, \n"
     ]
    },
    {
     "name": "stdout",
     "output_type": "stream",
     "text": [
      "epoch: 1, [batch: 6048 / 6720], examples_per_second: 3993.2071, train_label_loss: 0.7966, \n"
     ]
    },
    {
     "name": "stdout",
     "output_type": "stream",
     "text": [
      "=============================================================\n",
      "epoch: 1, source_val_acc_label: 0.6372, target_val_acc_label: 0.7288, source_val_label_loss: 1.1644, target_val_label_loss: 38.3112, \n",
      "=============================================================\n"
     ]
    },
    {
     "name": "stdout",
     "output_type": "stream",
     "text": [
      "New best\n"
     ]
    },
    {
     "name": "stdout",
     "output_type": "stream",
     "text": [
      "epoch: 2, [batch: 1 / 6720], examples_per_second: 4.0252, train_label_loss: 1.3911, \n"
     ]
    },
    {
     "name": "stdout",
     "output_type": "stream",
     "text": [
      "epoch: 2, [batch: 672 / 6720], examples_per_second: 4372.5003, train_label_loss: 0.8770, \n"
     ]
    },
    {
     "name": "stdout",
     "output_type": "stream",
     "text": [
      "epoch: 2, [batch: 1344 / 6720], examples_per_second: 4206.4836, train_label_loss: 0.7213, \n"
     ]
    },
    {
     "name": "stdout",
     "output_type": "stream",
     "text": [
      "epoch: 2, [batch: 2016 / 6720], examples_per_second: 3843.5635, train_label_loss: 1.3111, \n"
     ]
    },
    {
     "name": "stdout",
     "output_type": "stream",
     "text": [
      "epoch: 2, [batch: 2688 / 6720], examples_per_second: 3781.3981, train_label_loss: 0.9091, \n"
     ]
    },
    {
     "name": "stdout",
     "output_type": "stream",
     "text": [
      "epoch: 2, [batch: 3360 / 6720], examples_per_second: 3864.8705, train_label_loss: 0.9858, \n"
     ]
    },
    {
     "name": "stdout",
     "output_type": "stream",
     "text": [
      "epoch: 2, [batch: 4032 / 6720], examples_per_second: 3877.8069, train_label_loss: 0.9220, \n"
     ]
    },
    {
     "name": "stdout",
     "output_type": "stream",
     "text": [
      "epoch: 2, [batch: 4704 / 6720], examples_per_second: 3865.5377, train_label_loss: 1.0612, \n"
     ]
    },
    {
     "name": "stdout",
     "output_type": "stream",
     "text": [
      "epoch: 2, [batch: 5376 / 6720], examples_per_second: 3906.6335, train_label_loss: 1.1549, \n"
     ]
    },
    {
     "name": "stdout",
     "output_type": "stream",
     "text": [
      "epoch: 2, [batch: 6048 / 6720], examples_per_second: 3942.2092, train_label_loss: 0.6919, \n"
     ]
    },
    {
     "name": "stdout",
     "output_type": "stream",
     "text": [
      "=============================================================\n",
      "epoch: 2, source_val_acc_label: 0.6397, target_val_acc_label: 0.9443, source_val_label_loss: 0.9445, target_val_label_loss: 0.8425, \n",
      "=============================================================\n"
     ]
    },
    {
     "name": "stdout",
     "output_type": "stream",
     "text": [
      "New best\n"
     ]
    },
    {
     "name": "stdout",
     "output_type": "stream",
     "text": [
      "epoch: 3, [batch: 1 / 6720], examples_per_second: 4.2386, train_label_loss: 1.1555, \n"
     ]
    },
    {
     "name": "stdout",
     "output_type": "stream",
     "text": [
      "epoch: 3, [batch: 672 / 6720], examples_per_second: 4274.7223, train_label_loss: 0.5493, \n"
     ]
    },
    {
     "name": "stdout",
     "output_type": "stream",
     "text": [
      "epoch: 3, [batch: 1344 / 6720], examples_per_second: 4221.5105, train_label_loss: 0.7688, \n"
     ]
    },
    {
     "name": "stdout",
     "output_type": "stream",
     "text": [
      "epoch: 3, [batch: 2016 / 6720], examples_per_second: 4224.3660, train_label_loss: 0.6551, \n"
     ]
    },
    {
     "name": "stdout",
     "output_type": "stream",
     "text": [
      "epoch: 3, [batch: 2688 / 6720], examples_per_second: 4175.7634, train_label_loss: 0.6642, \n"
     ]
    },
    {
     "name": "stdout",
     "output_type": "stream",
     "text": [
      "epoch: 3, [batch: 3360 / 6720], examples_per_second: 4162.0397, train_label_loss: 1.1813, \n"
     ]
    },
    {
     "name": "stdout",
     "output_type": "stream",
     "text": [
      "epoch: 3, [batch: 4032 / 6720], examples_per_second: 4229.4842, train_label_loss: 1.1414, \n"
     ]
    },
    {
     "name": "stdout",
     "output_type": "stream",
     "text": [
      "epoch: 3, [batch: 4704 / 6720], examples_per_second: 4810.7543, train_label_loss: 0.7407, \n"
     ]
    },
    {
     "name": "stdout",
     "output_type": "stream",
     "text": [
      "epoch: 3, [batch: 5376 / 6720], examples_per_second: 4907.6779, train_label_loss: 0.9640, \n"
     ]
    },
    {
     "name": "stdout",
     "output_type": "stream",
     "text": [
      "epoch: 3, [batch: 6048 / 6720], examples_per_second: 4896.7145, train_label_loss: 0.5202, \n"
     ]
    },
    {
     "name": "stdout",
     "output_type": "stream",
     "text": [
      "=============================================================\n",
      "epoch: 3, source_val_acc_label: 0.6683, target_val_acc_label: 0.9295, source_val_label_loss: 0.8871, target_val_label_loss: 1.1638, \n",
      "=============================================================\n"
     ]
    },
    {
     "name": "stdout",
     "output_type": "stream",
     "text": [
      "epoch: 4, [batch: 1 / 6720], examples_per_second: 5.3912, train_label_loss: 0.8274, \n"
     ]
    },
    {
     "name": "stdout",
     "output_type": "stream",
     "text": [
      "epoch: 4, [batch: 672 / 6720], examples_per_second: 4964.3342, train_label_loss: 0.6847, \n"
     ]
    },
    {
     "name": "stdout",
     "output_type": "stream",
     "text": [
      "epoch: 4, [batch: 1344 / 6720], examples_per_second: 5143.5766, train_label_loss: 1.3456, \n"
     ]
    },
    {
     "name": "stdout",
     "output_type": "stream",
     "text": [
      "epoch: 4, [batch: 2016 / 6720], examples_per_second: 5025.0131, train_label_loss: 1.0863, \n"
     ]
    },
    {
     "name": "stdout",
     "output_type": "stream",
     "text": [
      "epoch: 4, [batch: 2688 / 6720], examples_per_second: 5192.0353, train_label_loss: 0.8941, \n"
     ]
    },
    {
     "name": "stdout",
     "output_type": "stream",
     "text": [
      "epoch: 4, [batch: 3360 / 6720], examples_per_second: 5334.0245, train_label_loss: 0.4875, \n"
     ]
    },
    {
     "name": "stdout",
     "output_type": "stream",
     "text": [
      "epoch: 4, [batch: 4032 / 6720], examples_per_second: 5430.9582, train_label_loss: 1.1672, \n"
     ]
    },
    {
     "name": "stdout",
     "output_type": "stream",
     "text": [
      "epoch: 4, [batch: 4704 / 6720], examples_per_second: 5481.7280, train_label_loss: 0.7191, \n"
     ]
    },
    {
     "name": "stdout",
     "output_type": "stream",
     "text": [
      "epoch: 4, [batch: 5376 / 6720], examples_per_second: 4936.8329, train_label_loss: 1.1566, \n"
     ]
    },
    {
     "name": "stdout",
     "output_type": "stream",
     "text": [
      "epoch: 4, [batch: 6048 / 6720], examples_per_second: 4854.4152, train_label_loss: 0.8176, \n"
     ]
    },
    {
     "name": "stdout",
     "output_type": "stream",
     "text": [
      "=============================================================\n",
      "epoch: 4, source_val_acc_label: 0.6751, target_val_acc_label: 0.9344, source_val_label_loss: 0.8674, target_val_label_loss: 0.8711, \n",
      "=============================================================\n"
     ]
    },
    {
     "name": "stdout",
     "output_type": "stream",
     "text": [
      "epoch: 5, [batch: 1 / 6720], examples_per_second: 5.3065, train_label_loss: 0.7465, \n"
     ]
    },
    {
     "name": "stdout",
     "output_type": "stream",
     "text": [
      "epoch: 5, [batch: 672 / 6720], examples_per_second: 4894.3777, train_label_loss: 0.6293, \n"
     ]
    },
    {
     "name": "stdout",
     "output_type": "stream",
     "text": [
      "epoch: 5, [batch: 1344 / 6720], examples_per_second: 4948.1139, train_label_loss: 0.6578, \n"
     ]
    },
    {
     "name": "stdout",
     "output_type": "stream",
     "text": [
      "epoch: 5, [batch: 2016 / 6720], examples_per_second: 4910.9726, train_label_loss: 1.2028, \n"
     ]
    },
    {
     "name": "stdout",
     "output_type": "stream",
     "text": [
      "epoch: 5, [batch: 2688 / 6720], examples_per_second: 4536.3005, train_label_loss: 0.8084, \n"
     ]
    },
    {
     "name": "stdout",
     "output_type": "stream",
     "text": [
      "epoch: 5, [batch: 3360 / 6720], examples_per_second: 3930.0230, train_label_loss: 0.5826, \n"
     ]
    },
    {
     "name": "stdout",
     "output_type": "stream",
     "text": [
      "epoch: 5, [batch: 4032 / 6720], examples_per_second: 3938.6191, train_label_loss: 0.6774, \n"
     ]
    },
    {
     "name": "stdout",
     "output_type": "stream",
     "text": [
      "epoch: 5, [batch: 4704 / 6720], examples_per_second: 3909.5586, train_label_loss: 0.6849, \n"
     ]
    },
    {
     "name": "stdout",
     "output_type": "stream",
     "text": [
      "epoch: 5, [batch: 5376 / 6720], examples_per_second: 3991.0399, train_label_loss: 1.2093, \n"
     ]
    },
    {
     "name": "stdout",
     "output_type": "stream",
     "text": [
      "epoch: 5, [batch: 6048 / 6720], examples_per_second: 4025.6332, train_label_loss: 0.6800, \n"
     ]
    },
    {
     "name": "stdout",
     "output_type": "stream",
     "text": [
      "=============================================================\n",
      "epoch: 5, source_val_acc_label: 0.6982, target_val_acc_label: 0.9551, source_val_label_loss: 0.8011, target_val_label_loss: 0.3722, \n",
      "=============================================================\n"
     ]
    },
    {
     "name": "stdout",
     "output_type": "stream",
     "text": [
      "New best\n"
     ]
    },
    {
     "name": "stdout",
     "output_type": "stream",
     "text": [
      "epoch: 6, [batch: 1 / 6720], examples_per_second: 4.0396, train_label_loss: 0.7043, \n"
     ]
    },
    {
     "name": "stdout",
     "output_type": "stream",
     "text": [
      "epoch: 6, [batch: 672 / 6720], examples_per_second: 3893.1663, train_label_loss: 1.0093, \n"
     ]
    },
    {
     "name": "stdout",
     "output_type": "stream",
     "text": [
      "epoch: 6, [batch: 1344 / 6720], examples_per_second: 4025.1855, train_label_loss: 1.1082, \n"
     ]
    },
    {
     "name": "stdout",
     "output_type": "stream",
     "text": [
      "epoch: 6, [batch: 2016 / 6720], examples_per_second: 4275.5651, train_label_loss: 0.7261, \n"
     ]
    },
    {
     "name": "stdout",
     "output_type": "stream",
     "text": [
      "epoch: 6, [batch: 2688 / 6720], examples_per_second: 4446.3027, train_label_loss: 0.4605, \n"
     ]
    },
    {
     "name": "stdout",
     "output_type": "stream",
     "text": [
      "epoch: 6, [batch: 3360 / 6720], examples_per_second: 3866.4927, train_label_loss: 0.4160, \n"
     ]
    },
    {
     "name": "stdout",
     "output_type": "stream",
     "text": [
      "epoch: 6, [batch: 4032 / 6720], examples_per_second: 4018.9004, train_label_loss: 0.6844, \n"
     ]
    },
    {
     "name": "stdout",
     "output_type": "stream",
     "text": [
      "epoch: 6, [batch: 4704 / 6720], examples_per_second: 3929.6896, train_label_loss: 0.8824, \n"
     ]
    },
    {
     "name": "stdout",
     "output_type": "stream",
     "text": [
      "epoch: 6, [batch: 5376 / 6720], examples_per_second: 3941.2874, train_label_loss: 0.9062, \n"
     ]
    },
    {
     "name": "stdout",
     "output_type": "stream",
     "text": [
      "epoch: 6, [batch: 6048 / 6720], examples_per_second: 3870.6633, train_label_loss: 0.7557, \n"
     ]
    },
    {
     "name": "stdout",
     "output_type": "stream",
     "text": [
      "=============================================================\n",
      "epoch: 6, source_val_acc_label: 0.6948, target_val_acc_label: 0.9525, source_val_label_loss: 0.8121, target_val_label_loss: 0.3817, \n",
      "=============================================================\n"
     ]
    },
    {
     "name": "stdout",
     "output_type": "stream",
     "text": [
      "epoch: 7, [batch: 1 / 6720], examples_per_second: 4.0422, train_label_loss: 0.4566, \n"
     ]
    },
    {
     "name": "stdout",
     "output_type": "stream",
     "text": [
      "epoch: 7, [batch: 672 / 6720], examples_per_second: 3821.4710, train_label_loss: 1.1861, \n"
     ]
    },
    {
     "name": "stdout",
     "output_type": "stream",
     "text": [
      "epoch: 7, [batch: 1344 / 6720], examples_per_second: 4055.3634, train_label_loss: 0.5987, \n"
     ]
    },
    {
     "name": "stdout",
     "output_type": "stream",
     "text": [
      "epoch: 7, [batch: 2016 / 6720], examples_per_second: 4451.4925, train_label_loss: 1.0035, \n"
     ]
    },
    {
     "name": "stdout",
     "output_type": "stream",
     "text": [
      "epoch: 7, [batch: 2688 / 6720], examples_per_second: 4648.1591, train_label_loss: 0.7732, \n"
     ]
    },
    {
     "name": "stdout",
     "output_type": "stream",
     "text": [
      "epoch: 7, [batch: 3360 / 6720], examples_per_second: 3934.9685, train_label_loss: 1.1552, \n"
     ]
    },
    {
     "name": "stdout",
     "output_type": "stream",
     "text": [
      "epoch: 7, [batch: 4032 / 6720], examples_per_second: 3931.9877, train_label_loss: 0.5920, \n"
     ]
    },
    {
     "name": "stdout",
     "output_type": "stream",
     "text": [
      "epoch: 7, [batch: 4704 / 6720], examples_per_second: 3901.1886, train_label_loss: 0.6202, \n"
     ]
    },
    {
     "name": "stdout",
     "output_type": "stream",
     "text": [
      "epoch: 7, [batch: 5376 / 6720], examples_per_second: 3911.7621, train_label_loss: 0.3910, \n"
     ]
    },
    {
     "name": "stdout",
     "output_type": "stream",
     "text": [
      "epoch: 7, [batch: 6048 / 6720], examples_per_second: 3931.2082, train_label_loss: 0.5096, \n"
     ]
    },
    {
     "name": "stdout",
     "output_type": "stream",
     "text": [
      "=============================================================\n",
      "epoch: 7, source_val_acc_label: 0.7080, target_val_acc_label: 0.9789, source_val_label_loss: 0.7727, target_val_label_loss: 0.4199, \n",
      "=============================================================\n"
     ]
    },
    {
     "name": "stdout",
     "output_type": "stream",
     "text": [
      "New best\n"
     ]
    },
    {
     "name": "stdout",
     "output_type": "stream",
     "text": [
      "epoch: 8, [batch: 1 / 6720], examples_per_second: 4.0026, train_label_loss: 1.2085, \n"
     ]
    },
    {
     "name": "stdout",
     "output_type": "stream",
     "text": [
      "epoch: 8, [batch: 672 / 6720], examples_per_second: 4006.7081, train_label_loss: 1.1244, \n"
     ]
    },
    {
     "name": "stdout",
     "output_type": "stream",
     "text": [
      "epoch: 8, [batch: 1344 / 6720], examples_per_second: 4188.7586, train_label_loss: 0.9911, \n"
     ]
    },
    {
     "name": "stdout",
     "output_type": "stream",
     "text": [
      "epoch: 8, [batch: 2016 / 6720], examples_per_second: 4556.9009, train_label_loss: 0.4283, \n"
     ]
    },
    {
     "name": "stdout",
     "output_type": "stream",
     "text": [
      "epoch: 8, [batch: 2688 / 6720], examples_per_second: 4680.2631, train_label_loss: 0.6507, \n"
     ]
    },
    {
     "name": "stdout",
     "output_type": "stream",
     "text": [
      "epoch: 8, [batch: 3360 / 6720], examples_per_second: 3900.4328, train_label_loss: 1.0466, \n"
     ]
    },
    {
     "name": "stdout",
     "output_type": "stream",
     "text": [
      "epoch: 8, [batch: 4032 / 6720], examples_per_second: 3969.8146, train_label_loss: 1.0307, \n"
     ]
    },
    {
     "name": "stdout",
     "output_type": "stream",
     "text": [
      "epoch: 8, [batch: 4704 / 6720], examples_per_second: 3898.8278, train_label_loss: 0.5638, \n"
     ]
    },
    {
     "name": "stdout",
     "output_type": "stream",
     "text": [
      "epoch: 8, [batch: 5376 / 6720], examples_per_second: 3982.8812, train_label_loss: 0.8995, \n"
     ]
    },
    {
     "name": "stdout",
     "output_type": "stream",
     "text": [
      "epoch: 8, [batch: 6048 / 6720], examples_per_second: 3891.4062, train_label_loss: 0.8059, \n"
     ]
    },
    {
     "name": "stdout",
     "output_type": "stream",
     "text": [
      "=============================================================\n",
      "epoch: 8, source_val_acc_label: 0.7483, target_val_acc_label: 0.9580, source_val_label_loss: 0.6722, target_val_label_loss: 2.6230, \n",
      "=============================================================\n"
     ]
    },
    {
     "name": "stdout",
     "output_type": "stream",
     "text": [
      "epoch: 9, [batch: 1 / 6720], examples_per_second: 4.0154, train_label_loss: 0.3327, \n"
     ]
    },
    {
     "name": "stdout",
     "output_type": "stream",
     "text": [
      "epoch: 9, [batch: 672 / 6720], examples_per_second: 3832.4177, train_label_loss: 0.6861, \n"
     ]
    },
    {
     "name": "stdout",
     "output_type": "stream",
     "text": [
      "epoch: 9, [batch: 1344 / 6720], examples_per_second: 4112.9178, train_label_loss: 0.5293, \n"
     ]
    },
    {
     "name": "stdout",
     "output_type": "stream",
     "text": [
      "epoch: 9, [batch: 2016 / 6720], examples_per_second: 4268.2436, train_label_loss: 0.6221, \n"
     ]
    },
    {
     "name": "stdout",
     "output_type": "stream",
     "text": [
      "epoch: 9, [batch: 2688 / 6720], examples_per_second: 4515.4077, train_label_loss: 0.4347, \n"
     ]
    },
    {
     "name": "stdout",
     "output_type": "stream",
     "text": [
      "epoch: 9, [batch: 3360 / 6720], examples_per_second: 3883.5131, train_label_loss: 1.2486, \n"
     ]
    },
    {
     "name": "stdout",
     "output_type": "stream",
     "text": [
      "epoch: 9, [batch: 4032 / 6720], examples_per_second: 3859.7623, train_label_loss: 0.7908, \n"
     ]
    },
    {
     "name": "stdout",
     "output_type": "stream",
     "text": [
      "epoch: 9, [batch: 4704 / 6720], examples_per_second: 3864.9007, train_label_loss: 0.3867, \n"
     ]
    },
    {
     "name": "stdout",
     "output_type": "stream",
     "text": [
      "epoch: 9, [batch: 5376 / 6720], examples_per_second: 3940.5500, train_label_loss: 0.4760, \n"
     ]
    },
    {
     "name": "stdout",
     "output_type": "stream",
     "text": [
      "epoch: 9, [batch: 6048 / 6720], examples_per_second: 4040.6159, train_label_loss: 0.5174, \n"
     ]
    },
    {
     "name": "stdout",
     "output_type": "stream",
     "text": [
      "=============================================================\n",
      "epoch: 9, source_val_acc_label: 0.7655, target_val_acc_label: 0.9546, source_val_label_loss: 0.6292, target_val_label_loss: 2.0378, \n",
      "=============================================================\n"
     ]
    },
    {
     "name": "stdout",
     "output_type": "stream",
     "text": [
      "epoch: 10, [batch: 1 / 6720], examples_per_second: 4.0787, train_label_loss: 0.7358, \n"
     ]
    },
    {
     "name": "stdout",
     "output_type": "stream",
     "text": [
      "epoch: 10, [batch: 672 / 6720], examples_per_second: 3892.6117, train_label_loss: 0.4539, \n"
     ]
    },
    {
     "name": "stdout",
     "output_type": "stream",
     "text": [
      "epoch: 10, [batch: 1344 / 6720], examples_per_second: 4103.7772, train_label_loss: 0.7590, \n"
     ]
    },
    {
     "name": "stdout",
     "output_type": "stream",
     "text": [
      "epoch: 10, [batch: 2016 / 6720], examples_per_second: 4456.7594, train_label_loss: 0.2295, \n"
     ]
    },
    {
     "name": "stdout",
     "output_type": "stream",
     "text": [
      "epoch: 10, [batch: 2688 / 6720], examples_per_second: 4606.0762, train_label_loss: 0.7121, \n"
     ]
    },
    {
     "name": "stdout",
     "output_type": "stream",
     "text": [
      "epoch: 10, [batch: 3360 / 6720], examples_per_second: 3952.5600, train_label_loss: 0.5290, \n"
     ]
    },
    {
     "name": "stdout",
     "output_type": "stream",
     "text": [
      "epoch: 10, [batch: 4032 / 6720], examples_per_second: 3972.8555, train_label_loss: 0.5033, \n"
     ]
    },
    {
     "name": "stdout",
     "output_type": "stream",
     "text": [
      "epoch: 10, [batch: 4704 / 6720], examples_per_second: 3836.8950, train_label_loss: 0.6126, \n"
     ]
    },
    {
     "name": "stdout",
     "output_type": "stream",
     "text": [
      "epoch: 10, [batch: 5376 / 6720], examples_per_second: 3901.8935, train_label_loss: 0.5804, \n"
     ]
    },
    {
     "name": "stdout",
     "output_type": "stream",
     "text": [
      "epoch: 10, [batch: 6048 / 6720], examples_per_second: 3962.2511, train_label_loss: 0.3255, \n"
     ]
    },
    {
     "name": "stdout",
     "output_type": "stream",
     "text": [
      "=============================================================\n",
      "epoch: 10, source_val_acc_label: 0.7753, target_val_acc_label: 0.9450, source_val_label_loss: 0.6030, target_val_label_loss: 3.1509, \n",
      "=============================================================\n"
     ]
    },
    {
     "name": "stdout",
     "output_type": "stream",
     "text": [
      "epoch: 11, [batch: 1 / 6720], examples_per_second: 4.0865, train_label_loss: 0.8051, \n"
     ]
    },
    {
     "name": "stdout",
     "output_type": "stream",
     "text": [
      "epoch: 11, [batch: 672 / 6720], examples_per_second: 3912.8202, train_label_loss: 0.3967, \n"
     ]
    },
    {
     "name": "stdout",
     "output_type": "stream",
     "text": [
      "epoch: 11, [batch: 1344 / 6720], examples_per_second: 4148.4693, train_label_loss: 0.7523, \n"
     ]
    },
    {
     "name": "stdout",
     "output_type": "stream",
     "text": [
      "epoch: 11, [batch: 2016 / 6720], examples_per_second: 4559.2882, train_label_loss: 0.3443, \n"
     ]
    },
    {
     "name": "stdout",
     "output_type": "stream",
     "text": [
      "epoch: 11, [batch: 2688 / 6720], examples_per_second: 4467.9878, train_label_loss: 0.6118, \n"
     ]
    },
    {
     "name": "stdout",
     "output_type": "stream",
     "text": [
      "epoch: 11, [batch: 3360 / 6720], examples_per_second: 4576.2629, train_label_loss: 0.6329, \n"
     ]
    },
    {
     "name": "stdout",
     "output_type": "stream",
     "text": [
      "epoch: 11, [batch: 4032 / 6720], examples_per_second: 4586.5871, train_label_loss: 0.5205, \n"
     ]
    },
    {
     "name": "stdout",
     "output_type": "stream",
     "text": [
      "epoch: 11, [batch: 4704 / 6720], examples_per_second: 4488.6102, train_label_loss: 0.3526, \n"
     ]
    },
    {
     "name": "stdout",
     "output_type": "stream",
     "text": [
      "epoch: 11, [batch: 5376 / 6720], examples_per_second: 4353.2467, train_label_loss: 0.6830, \n"
     ]
    },
    {
     "name": "stdout",
     "output_type": "stream",
     "text": [
      "epoch: 11, [batch: 6048 / 6720], examples_per_second: 4356.9280, train_label_loss: 0.3525, \n"
     ]
    },
    {
     "name": "stdout",
     "output_type": "stream",
     "text": [
      "=============================================================\n",
      "epoch: 11, source_val_acc_label: 0.7877, target_val_acc_label: 0.9395, source_val_label_loss: 0.5748, target_val_label_loss: 3.8958, \n",
      "=============================================================\n"
     ]
    },
    {
     "name": "stdout",
     "output_type": "stream",
     "text": [
      "Patience (3) exhausted\n"
     ]
    }
   ],
   "source": [
    "###################################\n",
    "# train\n",
    "###################################\n",
    "jig = PTN_Train_Eval_Test_Jig(model, p.BEST_MODEL_PATH, p.device)\n",
    "\n",
    "jig.train(\n",
    "    train_iterable=datasets.source.processed.train,\n",
    "    source_val_iterable=datasets.source.processed.val,\n",
    "    target_val_iterable=datasets.target.processed.val,\n",
    "    num_epochs=p.n_epoch,\n",
    "    num_logs_per_epoch=p.NUM_LOGS_PER_EPOCH,\n",
    "    patience=p.patience,\n",
    "    optimizer=optimizer,\n",
    "    criteria_for_best=p.criteria_for_best,\n",
    ")"
   ]
  },
  {
   "cell_type": "code",
   "execution_count": 23,
   "id": "31e8fabf",
   "metadata": {
    "execution": {
     "iopub.execute_input": "2022-03-28T16:12:49.507372Z",
     "iopub.status.busy": "2022-03-28T16:12:49.507001Z",
     "iopub.status.idle": "2022-03-28T16:12:49.540169Z",
     "shell.execute_reply": "2022-03-28T16:12:49.539479Z"
    },
    "papermill": {
     "duration": 0.094667,
     "end_time": "2022-03-28T16:12:49.540326",
     "exception": false,
     "start_time": "2022-03-28T16:12:49.445659",
     "status": "completed"
    },
    "tags": []
   },
   "outputs": [],
   "source": [
    "total_experiment_time_secs = time.time() - start_time_secs"
   ]
  },
  {
   "cell_type": "code",
   "execution_count": 24,
   "id": "87b9595b",
   "metadata": {
    "execution": {
     "iopub.execute_input": "2022-03-28T16:12:49.676124Z",
     "iopub.status.busy": "2022-03-28T16:12:49.675220Z",
     "iopub.status.idle": "2022-03-28T16:15:05.228191Z",
     "shell.execute_reply": "2022-03-28T16:15:05.227804Z"
    },
    "papermill": {
     "duration": 135.618633,
     "end_time": "2022-03-28T16:15:05.228290",
     "exception": false,
     "start_time": "2022-03-28T16:12:49.609657",
     "status": "completed"
    },
    "tags": []
   },
   "outputs": [],
   "source": [
    "###################################\n",
    "# Evaluate the model\n",
    "###################################\n",
    "source_test_label_accuracy, source_test_label_loss = jig.test(datasets.source.processed.test)\n",
    "target_test_label_accuracy, target_test_label_loss = jig.test(datasets.target.processed.test)\n",
    "\n",
    "source_val_label_accuracy, source_val_label_loss = jig.test(datasets.source.processed.val)\n",
    "target_val_label_accuracy, target_val_label_loss = jig.test(datasets.target.processed.val)\n",
    "\n",
    "history = jig.get_history()\n",
    "\n",
    "total_epochs_trained = len(history[\"epoch_indices\"])\n",
    "\n",
    "val_dl = Iterable_Aggregator((datasets.source.original.val,datasets.target.original.val))\n",
    "\n",
    "confusion = ptn_confusion_by_domain_over_dataloader(model, p.device, val_dl)\n",
    "per_domain_accuracy = per_domain_accuracy_from_confusion(confusion)\n",
    "\n",
    "# Add a key to per_domain_accuracy for if it was a source domain\n",
    "for domain, accuracy in per_domain_accuracy.items():\n",
    "    per_domain_accuracy[domain] = {\n",
    "        \"accuracy\": accuracy,\n",
    "        \"source?\": domain in p.domains_source\n",
    "    }\n",
    "\n",
    "# Do an independent accuracy assesment JUST TO BE SURE!\n",
    "# _source_test_label_accuracy = independent_accuracy_assesment(model, datasets.source.processed.test, p.device)\n",
    "# _target_test_label_accuracy = independent_accuracy_assesment(model, datasets.target.processed.test, p.device)\n",
    "# _source_val_label_accuracy = independent_accuracy_assesment(model, datasets.source.processed.val, p.device)\n",
    "# _target_val_label_accuracy = independent_accuracy_assesment(model, datasets.target.processed.val, p.device)\n",
    "\n",
    "# assert(_source_test_label_accuracy == source_test_label_accuracy)\n",
    "# assert(_target_test_label_accuracy == target_test_label_accuracy)\n",
    "# assert(_source_val_label_accuracy == source_val_label_accuracy)\n",
    "# assert(_target_val_label_accuracy == target_val_label_accuracy)\n",
    "\n",
    "experiment = {\n",
    "    \"experiment_name\": p.experiment_name,\n",
    "    \"parameters\": dict(p),\n",
    "    \"results\": {\n",
    "        \"source_test_label_accuracy\": source_test_label_accuracy,\n",
    "        \"source_test_label_loss\": source_test_label_loss,\n",
    "        \"target_test_label_accuracy\": target_test_label_accuracy,\n",
    "        \"target_test_label_loss\": target_test_label_loss,\n",
    "        \"source_val_label_accuracy\": source_val_label_accuracy,\n",
    "        \"source_val_label_loss\": source_val_label_loss,\n",
    "        \"target_val_label_accuracy\": target_val_label_accuracy,\n",
    "        \"target_val_label_loss\": target_val_label_loss,\n",
    "        \"total_epochs_trained\": total_epochs_trained,\n",
    "        \"total_experiment_time_secs\": total_experiment_time_secs,\n",
    "        \"confusion\": confusion,\n",
    "        \"per_domain_accuracy\": per_domain_accuracy,\n",
    "    },\n",
    "    \"history\": history,\n",
    "    \"dataset_metrics\": get_dataset_metrics(datasets, \"ptn\"),\n",
    "}"
   ]
  },
  {
   "cell_type": "code",
   "execution_count": 25,
   "id": "54a21829",
   "metadata": {
    "execution": {
     "iopub.execute_input": "2022-03-28T16:15:05.348807Z",
     "iopub.status.busy": "2022-03-28T16:15:05.348427Z",
     "iopub.status.idle": "2022-03-28T16:15:05.574357Z",
     "shell.execute_reply": "2022-03-28T16:15:05.575050Z"
    },
    "papermill": {
     "duration": 0.28895,
     "end_time": "2022-03-28T16:15:05.575264",
     "exception": false,
     "start_time": "2022-03-28T16:15:05.286314",
     "status": "completed"
    },
    "tags": []
   },
   "outputs": [
    {
     "data": {
      "image/png": "[encoded data removed]",
      "text/plain": [
       "<Figure size 1080x504 with 1 Axes>"
      ]
     },
     "metadata": {
      "needs_background": "light"
     },
     "output_type": "display_data"
    }
   ],
   "source": [
    "ax = get_loss_curve(experiment)\n",
    "plt.show()"
   ]
  },
  {
   "cell_type": "code",
   "execution_count": 26,
   "id": "fd8a0f60",
   "metadata": {
    "execution": {
     "iopub.execute_input": "2022-03-28T16:15:05.699478Z",
     "iopub.status.busy": "2022-03-28T16:15:05.699100Z",
     "iopub.status.idle": "2022-03-28T16:15:06.083187Z",
     "shell.execute_reply": "2022-03-28T16:15:06.083918Z"
    },
    "papermill": {
     "duration": 0.447241,
     "end_time": "2022-03-28T16:15:06.084131",
     "exception": false,
     "start_time": "2022-03-28T16:15:05.636890",
     "status": "completed"
    },
    "tags": []
   },
   "outputs": [
    {
     "data": {
      "text/plain": [
       "<AxesSubplot:title={'center':'Results'}>"
      ]
     },
     "execution_count": 26,
     "metadata": {},
     "output_type": "execute_result"
    },
    {
     "data": {
      "image/png": "[encoded data removed]",
      "text/plain": [
       "<Figure size 1080x504 with 1 Axes>"
      ]
     },
     "metadata": {
      "needs_background": "light"
     },
     "output_type": "display_data"
    }
   ],
   "source": [
    "get_results_table(experiment)"
   ]
  },
  {
   "cell_type": "code",
   "execution_count": 27,
   "id": "cf8dc689",
   "metadata": {
    "execution": {
     "iopub.execute_input": "2022-03-28T16:15:06.211679Z",
     "iopub.status.busy": "2022-03-28T16:15:06.211286Z",
     "iopub.status.idle": "2022-03-28T16:15:06.447592Z",
     "shell.execute_reply": "2022-03-28T16:15:06.448283Z"
    },
    "papermill": {
     "duration": 0.301164,
     "end_time": "2022-03-28T16:15:06.448496",
     "exception": false,
     "start_time": "2022-03-28T16:15:06.147332",
     "status": "completed"
    },
    "tags": []
   },
   "outputs": [
    {
     "data": {
      "text/plain": [
       "<AxesSubplot:title={'center':'Per Domain Validation Accuracy'}, xlabel='domain'>"
      ]
     },
     "execution_count": 27,
     "metadata": {},
     "output_type": "execute_result"
    },
    {
     "data": {
      "image/png": "[encoded data removed]",
      "text/plain": [
       "<Figure size 1080x504 with 1 Axes>"
      ]
     },
     "metadata": {
      "needs_background": "light"
     },
     "output_type": "display_data"
    }
   ],
   "source": [
    "get_domain_accuracies(experiment)"
   ]
  },
  {
   "cell_type": "code",
   "execution_count": 28,
   "id": "a74ae082",
   "metadata": {
    "execution": {
     "iopub.execute_input": "2022-03-28T16:15:06.580035Z",
     "iopub.status.busy": "2022-03-28T16:15:06.579648Z",
     "iopub.status.idle": "2022-03-28T16:15:06.606565Z",
     "shell.execute_reply": "2022-03-28T16:15:06.605805Z"
    },
    "papermill": {
     "duration": 0.093177,
     "end_time": "2022-03-28T16:15:06.606730",
     "exception": false,
     "start_time": "2022-03-28T16:15:06.513553",
     "status": "completed"
    },
    "tags": []
   },
   "outputs": [
    {
     "name": "stdout",
     "output_type": "stream",
     "text": [
      "Source Test Label Accuracy: 0.7080729166666667 Target Test Label Accuracy: 0.9784301346801347\n",
      "Source Val Label Accuracy: 0.7079752604166667 Target Val Label Accuracy: 0.9788812785388128\n"
     ]
    }
   ],
   "source": [
    "print(\"Source Test Label Accuracy:\", experiment[\"results\"][\"source_test_label_accuracy\"], \"Target Test Label Accuracy:\", experiment[\"results\"][\"target_test_label_accuracy\"])\n",
    "print(\"Source Val Label Accuracy:\", experiment[\"results\"][\"source_val_label_accuracy\"], \"Target Val Label Accuracy:\", experiment[\"results\"][\"target_val_label_accuracy\"])"
   ]
  },
  {
   "cell_type": "code",
   "execution_count": 29,
   "id": "dacca602",
   "metadata": {
    "execution": {
     "iopub.execute_input": "2022-03-28T16:15:06.738907Z",
     "iopub.status.busy": "2022-03-28T16:15:06.738021Z",
     "iopub.status.idle": "2022-03-28T16:15:06.762032Z",
     "shell.execute_reply": "2022-03-28T16:15:06.762720Z"
    },
    "papermill": {
     "duration": 0.087311,
     "end_time": "2022-03-28T16:15:06.762913",
     "exception": false,
     "start_time": "2022-03-28T16:15:06.675602",
     "status": "completed"
    },
    "tags": [
     "experiment_json"
    ]
   },
   "outputs": [
    {
     "data": {
      "text/plain": [
       "'{\"experiment_name\": \"tl_3-jitter5v2:oracle.run1.framed -> cores\", \"parameters\": {\"experiment_name\": \"tl_3-jitter5v2:oracle.run1.framed -> cores\", \"device\": \"cuda\", \"lr\": 0.0001, \"x_shape\": [2, 256], \"n_shot\": 3, \"n_query\": 2, \"train_k_factor\": 3, \"val_k_factor\": 2, \"test_k_factor\": 2, \"torch_default_dtype\": \"torch.float32\", \"n_epoch\": 50, \"patience\": 3, \"criteria_for_best\": \"target_accuracy\", \"x_net\": [{\"class\": \"nnReshape\", \"kargs\": {\"shape\": [-1, 1, 2, 256]}}, {\"class\": \"Conv2d\", \"kargs\": {\"in_channels\": 1, \"out_channels\": 256, \"kernel_size\": [1, 7], \"bias\": false, \"padding\": [0, 3]}}, {\"class\": \"ReLU\", \"kargs\": {\"inplace\": true}}, {\"class\": \"BatchNorm2d\", \"kargs\": {\"num_features\": 256}}, {\"class\": \"Conv2d\", \"kargs\": {\"in_channels\": 256, \"out_channels\": 80, \"kernel_size\": [2, 7], \"bias\": true, \"padding\": [0, 3]}}, {\"class\": \"ReLU\", \"kargs\": {\"inplace\": true}}, {\"class\": \"BatchNorm2d\", \"kargs\": {\"num_features\": 80}}, {\"class\": \"Flatten\", \"kargs\": {}}, {\"class\": \"Linear\", \"kargs\": {\"in_features\": 20480, \"out_features\": 256}}, {\"class\": \"ReLU\", \"kargs\": {\"inplace\": true}}, {\"class\": \"BatchNorm1d\", \"kargs\": {\"num_features\": 256}}, {\"class\": \"Linear\", \"kargs\": {\"in_features\": 256, \"out_features\": 256}}], \"NUM_LOGS_PER_EPOCH\": 10, \"BEST_MODEL_PATH\": \"./best_model.pth\", \"n_way\": 16, \"datasets\": [{\"labels\": [\"1-10.\", \"1-11.\", \"1-15.\", \"1-16.\", \"1-17.\", \"1-18.\", \"1-19.\", \"10-4.\", \"10-7.\", \"11-1.\", \"11-14.\", \"11-17.\", \"11-20.\", \"11-7.\", \"13-20.\", \"13-8.\", \"14-10.\", \"14-11.\", \"14-14.\", \"14-7.\", \"15-1.\", \"15-20.\", \"16-1.\", \"16-16.\", \"17-10.\", \"17-11.\", \"17-2.\", \"19-1.\", \"19-16.\", \"19-19.\", \"19-20.\", \"19-3.\", \"2-10.\", \"2-11.\", \"2-17.\", \"2-18.\", \"2-20.\", \"2-3.\", \"2-4.\", \"2-5.\", \"2-6.\", \"2-7.\", \"2-8.\", \"3-13.\", \"3-18.\", \"3-3.\", \"4-1.\", \"4-10.\", \"4-11.\", \"4-19.\", \"5-5.\", \"6-15.\", \"7-10.\", \"7-14.\", \"8-18.\", \"8-20.\", \"8-3.\", \"8-8.\"], \"domains\": [1, 2, 3, 4, 5], \"num_examples_per_domain_per_label\": -1, \"pickle_path\": \"/root/csc500-main/datasets/cores.stratified_ds.2022A.pkl\", \"source_or_target_dataset\": \"target\", \"x_transforms\": [\"unit_power\", \"jitter_256_5\", \"lowpass_+/-10MHz\", \"take_200\"], \"episode_transforms\": [], \"domain_prefix\": \"C_\"}, {\"labels\": [\"3123D52\", \"3123D65\", \"3123D79\", \"3123D80\", \"3123D54\", \"3123D70\", \"3123D7B\", \"3123D89\", \"3123D58\", \"3123D76\", \"3123D7D\", \"3123EFE\", \"3123D64\", \"3123D78\", \"3123D7E\", \"3124E4A\"], \"domains\": [32, 38, 8, 44, 14, 50, 20, 26], \"num_examples_per_domain_per_label\": 2000, \"pickle_path\": \"/root/csc500-main/datasets/oracle.Run1_framed_2000Examples_stratified_ds.2022A.pkl\", \"source_or_target_dataset\": \"source\", \"x_transforms\": [\"unit_power\", \"jitter_256_5\", \"take_200\", \"resample_20Msps_to_25Msps\"], \"episode_transforms\": [], \"domain_prefix\": \"O_\"}], \"seed\": 1337, \"dataset_seed\": 1337, \"domains_source\": [\"O_32\", \"O_38\", \"O_8\", \"O_44\", \"O_14\", \"O_50\", \"O_20\", \"O_26\"], \"domains_target\": [\"C_1\", \"C_2\", \"C_3\", \"C_4\", \"C_5\"]}, \"results\": {\"source_test_label_accuracy\": 0.7080729166666667, \"source_test_label_loss\": 0.7749440670013428, \"target_test_label_accuracy\": 0.9784301346801347, \"target_test_label_loss\": 0.5171776413917542, \"source_val_label_accuracy\": 0.7079752604166667, \"source_val_label_loss\": 0.7727406620979309, \"target_val_label_accuracy\": 0.9788812785388128, \"target_val_label_loss\": 0.41992297768592834, \"total_epochs_trained\": 11, \"total_experiment_time_secs\": 1799.4978005886078, \"confusion\": {\"O_14\": {\"15\": {\"15\": 237, \"7\": 2, \"13\": 1}, \"3\": {\"3\": 211, \"4\": 20, \"5\": 2, \"2\": 2, \"14\": 3, \"10\": 2}, \"6\": {\"6\": 135, \"14\": 13, \"13\": 82, \"2\": 10}, \"1\": {\"1\": 203, \"5\": 26, \"4\": 11}, \"8\": {\"8\": 240}, \"10\": {\"10\": 216, \"0\": 21, \"3\": 3}, \"9\": {\"9\": 238, \"12\": 1, \"11\": 1}, \"13\": {\"14\": 60, \"13\": 75, \"2\": 20, \"5\": 3, \"6\": 73, \"3\": 5, \"15\": 4}, \"12\": {\"12\": 239, \"9\": 1}, \"5\": {\"1\": 39, \"4\": 47, \"5\": 134, \"3\": 4, \"2\": 11, \"6\": 1, \"7\": 4}, \"0\": {\"0\": 186, \"10\": 52, \"11\": 2}, \"2\": {\"2\": 111, \"6\": 20, \"4\": 7, \"3\": 16, \"5\": 26, \"14\": 33, \"13\": 21, \"15\": 3, \"7\": 3}, \"11\": {\"11\": 204, \"0\": 9, \"9\": 27}, \"14\": {\"14\": 182, \"13\": 32, \"2\": 13, \"6\": 8, \"3\": 5}, \"7\": {\"7\": 239, \"15\": 1}, \"4\": {\"4\": 174, \"5\": 36, \"1\": 19, \"3\": 4, \"2\": 7}}, \"O_20\": {\"3\": {\"3\": 111, \"7\": 12, \"9\": 31, \"1\": 3, \"12\": 44, \"4\": 5, \"8\": 9, \"2\": 15, \"5\": 7, \"13\": 1, \"0\": 2}, \"15\": {\"15\": 133, \"5\": 8, \"13\": 13, \"1\": 60, \"12\": 7, \"0\": 19}, \"8\": {\"4\": 46, \"8\": 170, \"7\": 8, \"6\": 1, \"3\": 3, \"14\": 3, \"10\": 7, \"2\": 2}, \"4\": {\"4\": 163, \"8\": 46, \"3\": 19, \"5\": 3, \"10\": 3, \"12\": 3, \"7\": 1, \"0\": 1, \"2\": 1}, \"14\": {\"6\": 19, \"14\": 182, \"10\": 36, \"8\": 3}, \"0\": {\"12\": 7, \"5\": 70, \"0\": 105, \"15\": 31, \"1\": 20, \"3\": 4, \"4\": 1, \"2\": 2}, \"7\": {\"7\": 164, \"2\": 32, \"9\": 19, \"13\": 1, \"3\": 17, \"8\": 7}, \"6\": {\"6\": 212, \"14\": 25, \"7\": 2, \"8\": 1}, \"10\": {\"6\": 3, \"14\": 37, \"10\": 193, \"8\": 6, \"4\": 1}, \"5\": {\"5\": 111, \"1\": 36, \"3\": 11, \"0\": 54, \"15\": 8, \"12\": 19, \"2\": 1}, \"2\": {\"2\": 84, \"9\": 80, \"12\": 14, \"7\": 27, \"13\": 19, \"1\": 3, \"3\": 13}, \"12\": {\"12\": 101, \"3\": 47, \"5\": 25, \"9\": 15, \"1\": 30, \"13\": 4, \"2\": 15, \"0\": 2, \"15\": 1}, \"9\": {\"9\": 102, \"13\": 6, \"7\": 22, \"12\": 18, \"2\": 62, \"3\": 27, \"1\": 1, \"15\": 1, \"0\": 1}, \"1\": {\"1\": 111, \"12\": 26, \"3\": 3, \"0\": 16, \"5\": 32, \"15\": 45, \"13\": 3, \"2\": 1, \"9\": 3}, \"11\": {\"11\": 239, \"7\": 1}, \"13\": {\"2\": 18, \"13\": 197, \"12\": 5, \"15\": 10, \"9\": 4, \"1\": 4, \"5\": 1, \"0\": 1}}, \"O_38\": {\"5\": {\"8\": 78, \"0\": 7, \"9\": 15, \"5\": 102, \"15\": 11, \"3\": 5, \"7\": 20, \"6\": 2}, \"8\": {\"8\": 150, \"7\": 8, \"0\": 33, \"15\": 4, \"5\": 40, \"13\": 3, \"10\": 2}, \"11\": {\"11\": 225, \"14\": 12, \"10\": 3}, \"1\": {\"1\": 225, \"15\": 15}, \"10\": {\"10\": 188, \"12\": 5, \"13\": 28, \"8\": 4, \"7\": 3, \"0\": 3, \"14\": 3, \"15\": 1, \"11\": 3, \"2\": 1, \"4\": 1}, \"15\": {\"15\": 192, \"13\": 27, \"5\": 6, \"1\": 10, \"2\": 1, \"8\": 4}, \"3\": {\"3\": 202, \"7\": 26, \"5\": 1, \"9\": 5, \"0\": 6}, \"7\": {\"7\": 155, \"0\": 55, \"8\": 10, \"3\": 11, \"5\": 9}, \"4\": {\"4\": 222, \"12\": 18}, \"14\": {\"14\": 207, \"2\": 23, \"10\": 7, \"12\": 2, \"13\": 1}, \"9\": {\"9\": 190, \"6\": 39, \"3\": 4, \"5\": 6, \"8\": 1}, \"12\": {\"12\": 223, \"4\": 13, \"10\": 3, \"14\": 1}, \"6\": {\"6\": 223, \"9\": 17}, \"2\": {\"2\": 216, \"13\": 8, \"14\": 16}, \"0\": {\"0\": 93, \"7\": 61, \"8\": 39, \"3\": 17, \"5\": 16, \"15\": 1, \"10\": 10, \"13\": 1, \"12\": 1, \"9\": 1}, \"13\": {\"13\": 186, \"15\": 24, \"10\": 12, \"2\": 10, \"1\": 2, \"5\": 1, \"8\": 5}}, \"O_8\": {\"9\": {\"9\": 240}, \"10\": {\"10\": 161, \"13\": 16, \"14\": 51, \"5\": 3, \"4\": 6, \"0\": 2, \"6\": 1}, \"13\": {\"13\": 83, \"4\": 52, \"6\": 18, \"14\": 24, \"0\": 38, \"10\": 24, \"7\": 1}, \"0\": {\"0\": 201, \"4\": 1, \"13\": 27, \"7\": 9, \"6\": 1, \"10\": 1}, \"1\": {\"1\": 174, \"11\": 49, \"5\": 13, \"14\": 3, \"10\": 1}, \"15\": {\"15\": 189, \"12\": 40, \"2\": 1, \"8\": 9, \"3\": 1}, \"5\": {\"5\": 202, \"1\": 14, \"10\": 12, \"14\": 12}, \"3\": {\"2\": 21, \"3\": 208, \"12\": 8, \"15\": 3}, \"6\": {\"13\": 10, \"4\": 21, \"6\": 149, \"7\": 55, \"0\": 4, \"14\": 1}, \"11\": {\"11\": 161, \"1\": 77, \"5\": 2}, \"8\": {\"15\": 9, \"8\": 231}, \"4\": {\"13\": 49, \"0\": 5, \"4\": 109, \"6\": 32, \"14\": 37, \"10\": 8}, \"12\": {\"12\": 128, \"15\": 74, \"3\": 34, \"8\": 2, \"2\": 2}, \"14\": {\"10\": 65, \"14\": 120, \"1\": 6, \"13\": 19, \"4\": 27, \"5\": 1, \"6\": 2}, \"2\": {\"7\": 8, \"2\": 200, \"3\": 28, \"15\": 4}, \"7\": {\"7\": 191, \"13\": 2, \"6\": 42, \"0\": 4, \"4\": 1}}, \"O_50\": {\"7\": {\"7\": 165, \"13\": 33, \"5\": 38, \"6\": 4}, \"3\": {\"3\": 235, \"8\": 5}, \"8\": {\"8\": 230, \"10\": 8, \"3\": 2}, \"2\": {\"2\": 215, \"0\": 25}, \"14\": {\"14\": 232, \"12\": 7, \"11\": 1}, \"4\": {\"15\": 51, \"4\": 129, \"1\": 12, \"5\": 20, \"6\": 22, \"13\": 3, \"7\": 3}, \"6\": {\"6\": 158, \"15\": 5, \"1\": 8, \"4\": 19, \"5\": 21, \"13\": 27, \"7\": 2}, \"15\": {\"15\": 177, \"1\": 29, \"11\": 8, \"4\": 24, \"6\": 2}, \"10\": {\"10\": 216, \"13\": 9, \"0\": 11, \"8\": 4}, \"11\": {\"11\": 201, \"9\": 25, \"15\": 6, \"12\": 8}, \"13\": {\"7\": 24, \"13\": 166, \"5\": 30, \"6\": 16, \"10\": 3, \"0\": 1}, \"9\": {\"11\": 34, \"9\": 174, \"12\": 32}, \"0\": {\"0\": 198, \"10\": 17, \"2\": 24, \"13\": 1}, \"1\": {\"15\": 34, \"1\": 172, \"6\": 20, \"4\": 9, \"11\": 3, \"5\": 1, \"2\": 1}, \"12\": {\"12\": 205, \"14\": 4, \"9\": 21, \"11\": 10}, \"5\": {\"5\": 90, \"4\": 29, \"7\": 58, \"6\": 31, \"13\": 20, \"1\": 11, \"15\": 1}}, \"O_32\": {\"8\": {\"8\": 168, \"14\": 7, \"13\": 11, \"0\": 23, \"5\": 22, \"3\": 3, \"7\": 6}, \"14\": {\"14\": 103, \"11\": 49, \"3\": 11, \"0\": 11, \"7\": 39, \"13\": 11, \"5\": 5, \"4\": 4, \"2\": 1, \"8\": 6}, \"2\": {\"2\": 180, \"4\": 54, \"0\": 4, \"7\": 1, \"14\": 1}, \"0\": {\"5\": 9, \"0\": 173, \"8\": 21, \"7\": 15, \"14\": 6, \"13\": 2, \"4\": 8, \"2\": 6}, \"1\": {\"1\": 235, \"10\": 5}, \"10\": {\"10\": 237, \"1\": 3}, \"11\": {\"11\": 190, \"5\": 1, \"14\": 39, \"7\": 6, \"3\": 3, \"13\": 1}, \"5\": {\"7\": 34, \"14\": 14, \"3\": 24, \"13\": 53, \"5\": 55, \"8\": 29, \"4\": 19, \"0\": 11, \"11\": 1}, \"15\": {\"15\": 239, \"8\": 1}, \"3\": {\"3\": 220, \"5\": 6, \"14\": 3, \"8\": 2, \"13\": 3, \"11\": 6}, \"12\": {\"12\": 240}, \"7\": {\"5\": 25, \"7\": 92, \"13\": 36, \"14\": 39, \"11\": 3, \"4\": 32, \"0\": 5, \"8\": 5, \"2\": 3}, \"13\": {\"13\": 94, \"5\": 44, \"0\": 8, \"4\": 16, \"14\": 17, \"8\": 9, \"7\": 39, \"3\": 10, \"11\": 2, \"2\": 1}, \"6\": {\"6\": 240}, \"4\": {\"4\": 153, \"2\": 40, \"7\": 26, \"13\": 9, \"0\": 6, \"14\": 3, \"5\": 3}, \"9\": {\"9\": 239, \"12\": 1}}, \"O_26\": {\"4\": {\"4\": 91, \"14\": 20, \"0\": 27, \"8\": 39, \"7\": 30, \"1\": 16, \"10\": 14, \"3\": 1, \"5\": 1, \"15\": 1}, \"12\": {\"12\": 237, \"11\": 3}, \"10\": {\"10\": 82, \"4\": 16, \"0\": 59, \"8\": 40, \"14\": 22, \"5\": 1, \"1\": 2, \"6\": 12, \"15\": 5, \"9\": 1}, \"0\": {\"8\": 27, \"10\": 47, \"14\": 46, \"0\": 67, \"6\": 9, \"4\": 32, \"1\": 6, \"7\": 4, \"15\": 2}, \"13\": {\"13\": 170, \"5\": 43, \"9\": 18, \"15\": 6, \"2\": 3}, \"9\": {\"9\": 107, \"13\": 17, \"15\": 77, \"7\": 1, \"5\": 19, \"6\": 10, \"8\": 6, \"10\": 1, \"2\": 2}, \"3\": {\"3\": 146, \"2\": 67, \"7\": 26, \"5\": 1}, \"2\": {\"5\": 26, \"7\": 32, \"2\": 87, \"3\": 76, \"8\": 1, \"15\": 12, \"9\": 3, \"4\": 1, \"10\": 1, \"13\": 1}, \"5\": {\"8\": 3, \"5\": 144, \"15\": 35, \"9\": 15, \"13\": 24, \"2\": 12, \"7\": 6, \"3\": 1}, \"14\": {\"4\": 24, \"14\": 103, \"1\": 61, \"10\": 13, \"0\": 32, \"8\": 6, \"7\": 1}, \"8\": {\"8\": 100, \"4\": 39, \"14\": 5, \"15\": 27, \"7\": 14, \"10\": 17, \"6\": 10, \"0\": 16, \"1\": 1, \"5\": 5, \"9\": 6}, \"7\": {\"8\": 15, \"7\": 144, \"15\": 3, \"2\": 30, \"3\": 20, \"5\": 6, \"4\": 20, \"0\": 1, \"10\": 1}, \"6\": {\"6\": 180, \"10\": 15, \"8\": 10, \"9\": 23, \"15\": 7, \"0\": 5}, \"11\": {\"11\": 239, \"12\": 1}, \"15\": {\"15\": 89, \"9\": 70, \"5\": 15, \"8\": 25, \"6\": 16, \"2\": 4, \"13\": 11, \"10\": 4, \"7\": 5, \"4\": 1}, \"1\": {\"1\": 129, \"4\": 14, \"14\": 76, \"10\": 4, \"0\": 11, \"7\": 5, \"8\": 1}}, \"O_44\": {\"12\": {\"12\": 194, \"1\": 39, \"10\": 6, \"3\": 1}, \"7\": {\"7\": 160, \"2\": 38, \"9\": 36, \"10\": 1, \"6\": 4, \"13\": 1}, \"5\": {\"5\": 194, \"8\": 8, \"15\": 11, \"0\": 16, \"14\": 9, \"4\": 2}, \"15\": {\"14\": 24, \"15\": 165, \"5\": 13, \"4\": 2, \"0\": 27, \"8\": 9}, \"8\": {\"8\": 139, \"0\": 86, \"15\": 11, \"5\": 4}, \"2\": {\"2\": 171, \"1\": 4, \"7\": 37, \"10\": 24, \"3\": 1, \"9\": 1, \"6\": 2}, \"13\": {\"6\": 41, \"9\": 31, \"13\": 155, \"7\": 3, \"11\": 9, \"4\": 1}, \"4\": {\"4\": 180, \"14\": 58, \"15\": 2}, \"0\": {\"8\": 77, \"0\": 132, \"5\": 21, \"15\": 10}, \"6\": {\"9\": 31, \"6\": 159, \"13\": 36, \"7\": 11, \"11\": 3}, \"9\": {\"13\": 32, \"9\": 140, \"6\": 21, \"7\": 45, \"1\": 1, \"2\": 1}, \"11\": {\"11\": 214, \"13\": 14, \"6\": 11, \"9\": 1}, \"10\": {\"1\": 18, \"10\": 180, \"12\": 8, \"2\": 34}, \"14\": {\"4\": 85, \"14\": 121, \"5\": 13, \"15\": 21}, \"1\": {\"1\": 144, \"3\": 16, \"12\": 53, \"10\": 16, \"2\": 11}, \"3\": {\"3\": 217, \"1\": 18, \"12\": 5}}, \"C_3\": {\"43\": {\"43\": 128}, \"9\": {\"9\": 150}, \"6\": {\"6\": 74, \"18\": 4, \"26\": 4, \"17\": 1, \"30\": 2, \"38\": 1, \"16\": 1, \"2\": 1}, \"3\": {\"3\": 140, \"52\": 4}, \"16\": {\"16\": 134}, \"51\": {\"51\": 126, \"20\": 2}, \"31\": {\"31\": 28}, \"46\": {\"46\": 134}, \"19\": {\"19\": 121, \"40\": 2, \"4\": 1}, \"8\": {\"8\": 146, \"38\": 1, \"25\": 1, \"21\": 1, \"37\": 1, \"53\": 2}, \"18\": {\"18\": 84}, \"37\": {\"37\": 28}, \"24\": {\"24\": 100, \"43\": 4}, \"10\": {\"10\": 64}, \"44\": {\"44\": 87, \"4\": 1}, \"14\": {\"14\": 24, \"1\": 3, \"34\": 2, \"22\": 2, \"9\": 3, \"29\": 3, \"48\": 1, \"47\": 1, \"40\": 1}, \"38\": {\"38\": 28}, \"53\": {\"53\": 133, \"50\": 4, \"2\": 1, \"3\": 2}, \"20\": {\"20\": 132}, \"32\": {\"32\": 28}, \"36\": {\"36\": 98, \"46\": 2}, \"33\": {\"33\": 28}, \"56\": {\"56\": 136}, \"23\": {\"23\": 130}, \"54\": {\"54\": 99, \"9\": 1}, \"21\": {\"21\": 123, \"51\": 2, \"13\": 1}, \"28\": {\"28\": 28}, \"26\": {\"26\": 24}, \"48\": {\"48\": 116}, \"52\": {\"52\": 118}, \"39\": {\"39\": 16}, \"22\": {\"22\": 137, \"56\": 3}, \"13\": {\"13\": 128}, \"2\": {\"2\": 32}, \"34\": {\"34\": 32}, \"27\": {\"27\": 132}, \"45\": {\"45\": 59, \"33\": 1}, \"35\": {\"35\": 28}, \"29\": {\"29\": 128}, \"25\": {\"25\": 131, \"50\": 5, \"8\": 6, \"43\": 1, \"55\": 1}, \"0\": {\"0\": 124}, \"41\": {\"41\": 28}, \"11\": {\"11\": 142}, \"5\": {\"5\": 107, \"23\": 1}, \"1\": {\"1\": 100}, \"57\": {\"57\": 116}, \"17\": {\"17\": 106, \"10\": 1, \"24\": 1}, \"7\": {\"7\": 36}, \"12\": {\"12\": 87, \"20\": 2, \"21\": 2, \"36\": 1}, \"47\": {\"47\": 91, \"48\": 1}, \"40\": {\"40\": 132, \"9\": 2, \"19\": 2}, \"15\": {\"15\": 141, \"43\": 1}, \"42\": {\"42\": 28}, \"55\": {\"55\": 150}, \"49\": {\"49\": 20}, \"30\": {\"30\": 118, \"23\": 1, \"17\": 1}, \"50\": {\"50\": 130, \"25\": 4}, \"4\": {\"4\": 136}}, \"C_4\": {\"35\": {\"35\": 40}, \"25\": {\"25\": 130, \"3\": 2, \"21\": 2}, \"24\": {\"24\": 56}, \"48\": {\"48\": 138}, \"51\": {\"51\": 138, \"6\": 2, \"20\": 2, \"50\": 2}, \"13\": {\"13\": 120}, \"14\": {\"14\": 10, \"1\": 1, \"57\": 3, \"35\": 2}, \"32\": {\"0\": 1, \"32\": 22, \"46\": 1}, \"30\": {\"30\": 44}, \"34\": {\"34\": 23, \"28\": 1}, \"9\": {\"9\": 135, \"40\": 1}, \"1\": {\"1\": 40}, \"0\": {\"0\": 76, \"46\": 3, \"32\": 1}, \"38\": {\"38\": 40}, \"22\": {\"22\": 126, \"38\": 1, \"43\": 1}, \"40\": {\"40\": 117, \"4\": 3}, \"6\": {\"6\": 100, \"51\": 5, \"20\": 4, \"3\": 3}, \"16\": {\"16\": 93, \"2\": 1, \"52\": 2}, \"11\": {\"11\": 104}, \"20\": {\"20\": 122}, \"17\": {\"17\": 80}, \"26\": {\"26\": 24}, \"54\": {\"54\": 108}, \"55\": {\"55\": 154}, \"50\": {\"50\": 103, \"21\": 19, \"8\": 4, \"3\": 3, \"55\": 1, \"25\": 2}, \"19\": {\"19\": 135, \"44\": 7}, \"44\": {\"44\": 116, \"19\": 6}, \"47\": {\"47\": 120}, \"33\": {\"33\": 36}, \"5\": {\"5\": 101, \"47\": 1, \"52\": 1, \"23\": 3, \"18\": 2}, \"18\": {\"18\": 108}, \"21\": {\"21\": 123, \"50\": 1}, \"41\": {\"41\": 36}, \"23\": {\"23\": 128}, \"39\": {\"39\": 20}, \"37\": {\"37\": 24}, \"8\": {\"8\": 144}, \"49\": {\"49\": 20}, \"53\": {\"53\": 133, \"21\": 3, \"3\": 2, \"13\": 1, \"25\": 1}, \"31\": {\"31\": 28}, \"28\": {\"28\": 32}, \"3\": {\"3\": 122, \"50\": 2}, \"27\": {\"27\": 138}, \"46\": {\"46\": 119, \"32\": 2, \"5\": 1, \"47\": 3, \"22\": 1, \"0\": 1, \"43\": 1}, \"12\": {\"12\": 76, \"21\": 4, \"36\": 4, \"6\": 2, \"20\": 4, \"51\": 2}, \"7\": {\"7\": 24}, \"4\": {\"4\": 131, \"40\": 1}, \"42\": {\"42\": 32}, \"43\": {\"43\": 130}, \"29\": {\"29\": 120}, \"57\": {\"57\": 100}, \"52\": {\"52\": 103, \"24\": 1}, \"45\": {\"45\": 88, \"4\": 4, \"19\": 2, \"17\": 2}, \"36\": {\"36\": 92}, \"10\": {\"10\": 126}, \"15\": {\"15\": 134}, \"56\": {\"56\": 124}, \"2\": {\"2\": 36}}, \"C_5\": {\"47\": {\"47\": 100}, \"53\": {\"53\": 142, \"50\": 8}, \"29\": {\"29\": 126}, \"52\": {\"52\": 130}, \"55\": {\"55\": 137, \"27\": 2, \"17\": 4, \"45\": 1}, \"17\": {\"17\": 116}, \"42\": {\"42\": 40}, \"33\": {\"33\": 32}, \"11\": {\"11\": 148}, \"19\": {\"19\": 115, \"45\": 1, \"34\": 2}, \"1\": {\"1\": 144}, \"44\": {\"44\": 142}, \"49\": {\"49\": 36}, \"4\": {\"4\": 100}, \"6\": {\"1\": 1, \"6\": 102, \"8\": 4, \"30\": 4, \"18\": 3, \"17\": 1, \"42\": 1}, \"39\": {\"39\": 20}, \"50\": {\"50\": 128, \"53\": 16, \"23\": 2, \"25\": 2}, \"56\": {\"56\": 130}, \"25\": {\"25\": 128, \"50\": 11, \"8\": 3, \"53\": 2}, \"28\": {\"28\": 32}, \"35\": {\"35\": 35, \"36\": 1}, \"24\": {\"24\": 79, \"15\": 1}, \"21\": {\"21\": 132}, \"45\": {\"45\": 114, \"32\": 1, \"17\": 3, \"19\": 2, \"4\": 1, \"27\": 3}, \"16\": {\"16\": 142, \"52\": 1, \"43\": 1}, \"37\": {\"37\": 24}, \"57\": {\"57\": 132}, \"34\": {\"34\": 36}, \"38\": {\"38\": 32}, \"48\": {\"48\": 126, \"9\": 4}, \"26\": {\"26\": 24}, \"9\": {\"9\": 150, \"48\": 2}, \"18\": {\"18\": 64}, \"3\": {\"3\": 99, \"49\": 1}, \"23\": {\"23\": 124}, \"15\": {\"15\": 152, \"43\": 1, \"24\": 1}, \"10\": {\"10\": 68}, \"46\": {\"46\": 148}, \"22\": {\"22\": 28}, \"54\": {\"54\": 111, \"1\": 1}, \"27\": {\"27\": 160}, \"41\": {\"41\": 28}, \"31\": {\"31\": 36}, \"0\": {\"0\": 123, \"47\": 1}, \"7\": {\"7\": 32}, \"2\": {\"2\": 28}, \"14\": {\"14\": 28, \"28\": 4, \"47\": 2, \"46\": 4, \"57\": 5, \"36\": 1}, \"40\": {\"40\": 112, \"5\": 12}, \"5\": {\"5\": 120, \"40\": 6, \"27\": 2}, \"12\": {\"12\": 76, \"21\": 2, \"51\": 6, \"38\": 2, \"56\": 1, \"7\": 3, \"20\": 4, \"18\": 1, \"16\": 1}, \"43\": {\"43\": 142}, \"13\": {\"13\": 148}, \"36\": {\"36\": 92}, \"8\": {\"8\": 149, \"25\": 1}, \"32\": {\"32\": 31, \"45\": 1}, \"30\": {\"30\": 125, \"1\": 2, \"25\": 1}, \"51\": {\"51\": 137, \"20\": 1}, \"20\": {\"20\": 138}}, \"C_1\": {\"46\": {\"46\": 111, \"41\": 1, \"12\": 8, \"31\": 1, \"27\": 1, \"6\": 1, \"20\": 6, \"16\": 1, \"51\": 6, \"43\": 1, \"14\": 2, \"22\": 1}, \"16\": {\"16\": 134}, \"26\": {\"26\": 24}, \"10\": {\"10\": 96}, \"9\": {\"9\": 156}, \"28\": {\"28\": 28}, \"51\": {\"51\": 156}, \"1\": {\"1\": 90, \"57\": 10}, \"55\": {\"55\": 148}, \"27\": {\"27\": 124}, \"22\": {\"22\": 115, \"24\": 9}, \"52\": {\"52\": 126}, \"3\": {\"3\": 140}, \"33\": {\"33\": 32}, \"47\": {\"47\": 120}, \"42\": {\"42\": 40}, \"12\": {\"12\": 116}, \"23\": {\"23\": 132}, \"49\": {\"49\": 32}, \"7\": {\"7\": 28}, \"4\": {\"4\": 120, \"17\": 4, \"29\": 2, \"40\": 6}, \"50\": {\"50\": 130, \"2\": 2, \"30\": 2}, \"19\": {\"19\": 152, \"57\": 1, \"56\": 1}, \"11\": {\"11\": 140}, \"31\": {\"31\": 28}, \"41\": {\"41\": 24}, \"56\": {\"56\": 133, \"19\": 2, \"1\": 1, \"57\": 2}, \"0\": {\"0\": 147, \"31\": 1}, \"57\": {\"57\": 122, \"19\": 2, \"1\": 2, \"56\": 2}, \"53\": {\"53\": 140}, \"43\": {\"43\": 144}, \"37\": {\"37\": 32}, \"2\": {\"2\": 36}, \"6\": {\"6\": 92, \"48\": 2, \"9\": 2}, \"13\": {\"13\": 147, \"53\": 2, \"3\": 1}, \"18\": {\"18\": 72}, \"36\": {\"36\": 64}, \"29\": {\"29\": 134, \"19\": 4, \"56\": 2}, \"39\": {\"39\": 28}, \"17\": {\"17\": 64}, \"21\": {\"21\": 124}, \"25\": {\"25\": 127, \"16\": 1, \"36\": 2, \"13\": 2}, \"45\": {\"45\": 142}, \"38\": {\"38\": 24}, \"30\": {\"30\": 118, \"9\": 2}, \"24\": {\"24\": 97, \"22\": 7, \"21\": 4}, \"20\": {\"20\": 140}, \"8\": {\"8\": 140}, \"35\": {\"35\": 36}, \"54\": {\"54\": 104}, \"5\": {\"5\": 144, \"2\": 2, \"17\": 1, \"6\": 1}, \"48\": {\"48\": 144}, \"15\": {\"15\": 142}, \"34\": {\"34\": 24}, \"14\": {\"34\": 3, \"14\": 13, \"16\": 1, \"8\": 3, \"51\": 1, \"20\": 1, \"54\": 1, \"5\": 1}, \"32\": {\"32\": 32}, \"40\": {\"40\": 142, \"35\": 1, \"57\": 2, \"29\": 3}, \"44\": {\"44\": 136}}, \"C_2\": {\"36\": {\"36\": 114, \"8\": 2}, \"5\": {\"5\": 119, \"23\": 1}, \"45\": {\"45\": 123, \"4\": 2, \"17\": 3}, \"49\": {\"49\": 24}, \"50\": {\"50\": 132, \"25\": 3, \"53\": 1}, \"4\": {\"4\": 138}, \"43\": {\"43\": 148}, \"41\": {\"41\": 20}, \"37\": {\"37\": 36}, \"12\": {\"12\": 92}, \"33\": {\"33\": 28}, \"7\": {\"7\": 36}, \"56\": {\"56\": 139, \"22\": 1}, \"14\": {\"14\": 19, \"42\": 3, \"29\": 1, \"48\": 1}, \"52\": {\"52\": 124}, \"44\": {\"44\": 96}, \"48\": {\"48\": 144}, \"20\": {\"20\": 128}, \"55\": {\"55\": 144}, \"32\": {\"32\": 28}, \"40\": {\"17\": 2, \"40\": 127, \"9\": 2, \"35\": 1, \"19\": 4}, \"54\": {\"54\": 106, \"47\": 1, \"9\": 1}, \"17\": {\"17\": 104}, \"38\": {\"38\": 20}, \"24\": {\"24\": 95, \"43\": 1}, \"1\": {\"1\": 109, \"57\": 2, \"48\": 1}, \"6\": {\"6\": 122, \"30\": 1, \"16\": 1}, \"34\": {\"34\": 28}, \"11\": {\"11\": 136}, \"9\": {\"9\": 149, \"29\": 1}, \"8\": {\"8\": 152}, \"22\": {\"56\": 4, \"22\": 132}, \"26\": {\"26\": 24}, \"23\": {\"23\": 146}, \"10\": {\"10\": 112}, \"18\": {\"18\": 47, \"30\": 1}, \"13\": {\"13\": 116}, \"30\": {\"30\": 128}, \"42\": {\"48\": 1, \"42\": 35}, \"31\": {\"31\": 28}, \"46\": {\"46\": 125, \"15\": 2, \"39\": 1}, \"57\": {\"57\": 142}, \"47\": {\"47\": 138}, \"35\": {\"35\": 32}, \"15\": {\"15\": 131, \"43\": 1}, \"25\": {\"25\": 122, \"50\": 6, \"8\": 3, \"23\": 1, \"3\": 4}, \"19\": {\"19\": 136}, \"51\": {\"51\": 122, \"6\": 3, \"20\": 2, \"53\": 1}, \"53\": {\"53\": 132, \"25\": 2}, \"21\": {\"21\": 120}, \"39\": {\"39\": 28}, \"2\": {\"2\": 32}, \"16\": {\"16\": 150}, \"0\": {\"0\": 47, \"57\": 1}, \"3\": {\"3\": 92}, \"27\": {\"27\": 142}, \"28\": {\"28\": 28}, \"29\": {\"29\": 128}}}, \"per_domain_accuracy\": {\"O_14\": {\"accuracy\": 0.7875, \"source?\": true}, \"O_20\": {\"accuracy\": 0.6192708333333333, \"source?\": true}, \"O_38\": {\"accuracy\": 0.7809895833333333, \"source?\": true}, \"O_8\": {\"accuracy\": 0.7153645833333333, \"source?\": true}, \"O_50\": {\"accuracy\": 0.7716145833333333, \"source?\": true}, \"O_32\": {\"accuracy\": 0.7442708333333333, \"source?\": true}, \"O_26\": {\"accuracy\": 0.55078125, \"source?\": true}, \"O_44\": {\"accuracy\": 0.6940104166666666, \"source?\": true}, \"C_3\": {\"accuracy\": 0.9818313953488372, \"source?\": false}, \"C_4\": {\"accuracy\": 0.9738636363636364, \"source?\": false}, \"C_5\": {\"accuracy\": 0.9729399441340782, \"source?\": false}, \"C_1\": {\"accuracy\": 0.9778005464480874, \"source?\": false}, \"C_2\": {\"accuracy\": 0.9878177966101694, \"source?\": false}}}, \"history\": {\"epoch_indices\": [1, 2, 3, 4, 5, 6, 7, 8, 9, 10, 11], \"train_label_loss\": [1.6211817780287847, 0.9354992284040365, 0.8764279793504448, 0.8392451680487111, 0.8133259519446818, 0.7890765191809762, 0.7471804213089247, 0.6609348991431208, 0.5949727062668119, 0.5590781109884293, 0.5337845170637593], \"source_val_label_loss\": [1.1644384860992432, 0.9444587826728821, 0.8871335983276367, 0.8674086928367615, 0.8011198043823242, 0.8120583891868591, 0.7727406620979309, 0.6721965074539185, 0.6292259693145752, 0.6030207276344299, 0.5747827887535095], \"target_val_label_loss\": [38.311222076416016, 0.8425070643424988, 1.1637756824493408, 0.8711318373680115, 0.37218034267425537, 0.3817127048969269, 0.41992297768592834, 2.6229913234710693, 2.0377516746520996, 3.1509451866149902, 3.8958253860473633], \"source_val_acc_label\": [0.6371744791666667, 0.6397135416666667, 0.6683268229166667, 0.6751302083333334, 0.6982421875, 0.6947916666666667, 0.7079752604166667, 0.7483072916666667, 0.7654947916666667, 0.7753255208333333, 0.7877278645833333], \"target_val_acc_label\": [0.7288099315068494, 0.9443493150684932, 0.929544805936073, 0.9344320776255708, 0.9551227168949772, 0.9524828767123288, 0.9788812785388128, 0.957976598173516, 0.9545519406392694, 0.9450271118721462, 0.9394977168949772]}, \"dataset_metrics\": {\"source\": {\"train\": {\"n_unique_x\": 179200, \"n_unique_y\": 16, \"n_batch/episode\": 6720}, \"val\": {\"n_unique_x\": 38400, \"n_unique_y\": 16, \"n_batch/episode\": 960}, \"test\": {\"n_unique_x\": 38400, \"n_unique_y\": 16, \"n_batch/episode\": 960}}, \"target\": {\"train\": {\"n_unique_x\": 175212, \"n_unique_y\": 58, \"n_batch/episode\": 6322}, \"val\": {\"n_unique_x\": 37196, \"n_unique_y\": 58, \"n_batch/episode\": 876}, \"test\": {\"n_unique_x\": 37634, \"n_unique_y\": 58, \"n_batch/episode\": 891}}}}'"
      ]
     },
     "execution_count": 29,
     "metadata": {},
     "output_type": "execute_result"
    }
   ],
   "source": [
    "json.dumps(experiment)"
   ]
  }
 ],
 "metadata": {
  "celltoolbar": "Tags",
  "kernelspec": {
   "display_name": "Python 3 (ipykernel)",
   "language": "python",
   "name": "python3"
  },
  "language_info": {
   "codemirror_mode": {
    "name": "ipython",
    "version": 3
   },
   "file_extension": ".py",
   "mimetype": "text/x-python",
   "name": "python",
   "nbconvert_exporter": "python",
   "pygments_lexer": "ipython3",
   "version": "3.8.12"
  },
  "papermill": {
   "default_parameters": {},
   "duration": 1943.061664,
   "end_time": "2022-03-28T16:15:09.250152",
   "environment_variables": {},
   "exception": null,
   "input_path": "/root/csc500-main/csc500-notebooks/templates/tl_ptn_template.ipynb",
   "output_path": "trial.ipynb",
   "parameters": {
    "parameters": {
     "BEST_MODEL_PATH": "./best_model.pth",
     "NUM_LOGS_PER_EPOCH": 10,
     "criteria_for_best": "target_accuracy",
     "dataset_seed": 1337,
     "datasets": [
      {
       "domain_prefix": "C_",
       "domains": [
        1,
        2,
        3,
        4,
        5
       ],
       "episode_transforms": [],
       "labels": [
        "1-10.",
        "1-11.",
        "1-15.",
        "1-16.",
        "1-17.",
        "1-18.",
        "1-19.",
        "10-4.",
        "10-7.",
        "11-1.",
        "11-14.",
        "11-17.",
        "11-20.",
        "11-7.",
        "13-20.",
        "13-8.",
        "14-10.",
        "14-11.",
        "14-14.",
        "14-7.",
        "15-1.",
        "15-20.",
        "16-1.",
        "16-16.",
        "17-10.",
        "17-11.",
        "17-2.",
        "19-1.",
        "19-16.",
        "19-19.",
        "19-20.",
        "19-3.",
        "2-10.",
        "2-11.",
        "2-17.",
        "2-18.",
        "2-20.",
        "2-3.",
        "2-4.",
        "2-5.",
        "2-6.",
        "2-7.",
        "2-8.",
        "3-13.",
        "3-18.",
        "3-3.",
        "4-1.",
        "4-10.",
        "4-11.",
        "4-19.",
        "5-5.",
        "6-15.",
        "7-10.",
        "7-14.",
        "8-18.",
        "8-20.",
        "8-3.",
        "8-8."
       ],
       "num_examples_per_domain_per_label": -1,
       "pickle_path": "/root/csc500-main/datasets/cores.stratified_ds.2022A.pkl",
       "source_or_target_dataset": "target",
       "x_transforms": [
        "unit_power",
        "jitter_256_5",
        "lowpass_+/-10MHz",
        "take_200"
       ]
      },
      {
       "domain_prefix": "O_",
       "domains": [
        32,
        38,
        8,
        44,
        14,
        50,
        20,
        26
       ],
       "episode_transforms": [],
       "labels": [
        "3123D52",
        "3123D65",
        "3123D79",
        "3123D80",
        "3123D54",
        "3123D70",
        "3123D7B",
        "3123D89",
        "3123D58",
        "3123D76",
        "3123D7D",
        "3123EFE",
        "3123D64",
        "3123D78",
        "3123D7E",
        "3124E4A"
       ],
       "num_examples_per_domain_per_label": 2000,
       "pickle_path": "/root/csc500-main/datasets/oracle.Run1_framed_2000Examples_stratified_ds.2022A.pkl",
       "source_or_target_dataset": "source",
       "x_transforms": [
        "unit_power",
        "jitter_256_5",
        "take_200",
        "resample_20Msps_to_25Msps"
       ]
      }
     ],
     "device": "cuda",
     "experiment_name": "tl_3-jitter5v2:oracle.run1.framed -> cores",
     "lr": 0.0001,
     "n_epoch": 50,
     "n_query": 2,
     "n_shot": 3,
     "n_way": 16,
     "patience": 3,
     "seed": 1337,
     "test_k_factor": 2,
     "torch_default_dtype": "torch.float32",
     "train_k_factor": 3,
     "val_k_factor": 2,
     "x_net": [
      {
       "class": "nnReshape",
       "kargs": {
        "shape": [
         -1,
         1,
         2,
         256
        ]
       }
      },
      {
       "class": "Conv2d",
       "kargs": {
        "bias": false,
        "in_channels": 1,
        "kernel_size": [
         1,
         7
        ],
        "out_channels": 256,
        "padding": [
         0,
         3
        ]
       }
      },
      {
       "class": "ReLU",
       "kargs": {
        "inplace": true
       }
      },
      {
       "class": "BatchNorm2d",
       "kargs": {
        "num_features": 256
       }
      },
      {
       "class": "Conv2d",
       "kargs": {
        "bias": true,
        "in_channels": 256,
        "kernel_size": [
         2,
         7
        ],
        "out_channels": 80,
        "padding": [
         0,
         3
        ]
       }
      },
      {
       "class": "ReLU",
       "kargs": {
        "inplace": true
       }
      },
      {
       "class": "BatchNorm2d",
       "kargs": {
        "num_features": 80
       }
      },
      {
       "class": "Flatten",
       "kargs": {}
      },
      {
       "class": "Linear",
       "kargs": {
        "in_features": 20480,
        "out_features": 256
       }
      },
      {
       "class": "ReLU",
       "kargs": {
        "inplace": true
       }
      },
      {
       "class": "BatchNorm1d",
       "kargs": {
        "num_features": 256
       }
      },
      {
       "class": "Linear",
       "kargs": {
        "in_features": 256,
        "out_features": 256
       }
      }
     ],
     "x_shape": [
      2,
      256
     ]
    }
   },
   "start_time": "2022-03-28T15:42:46.188488",
   "version": "2.3.4"
  }
 },
 "nbformat": 4,
 "nbformat_minor": 5
}