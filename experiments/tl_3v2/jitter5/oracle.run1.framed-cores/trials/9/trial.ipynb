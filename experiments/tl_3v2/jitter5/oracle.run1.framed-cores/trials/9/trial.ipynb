{
 "cells": [
  {
   "cell_type": "markdown",
   "id": "9fea5f46",
   "metadata": {
    "papermill": {
     "duration": 0.028573,
     "end_time": "2022-03-28T17:25:18.568175",
     "exception": false,
     "start_time": "2022-03-28T17:25:18.539602",
     "status": "completed"
    },
    "tags": []
   },
   "source": [
    "# Transfer Learning Template"
   ]
  },
  {
   "cell_type": "code",
   "execution_count": 1,
   "id": "0902182a",
   "metadata": {
    "execution": {
     "iopub.execute_input": "2022-03-28T17:25:18.632632Z",
     "iopub.status.busy": "2022-03-28T17:25:18.625359Z",
     "iopub.status.idle": "2022-03-28T17:25:20.594813Z",
     "shell.execute_reply": "2022-03-28T17:25:20.594372Z"
    },
    "papermill": {
     "duration": 2.002372,
     "end_time": "2022-03-28T17:25:20.594917",
     "exception": false,
     "start_time": "2022-03-28T17:25:18.592545",
     "status": "completed"
    },
    "tags": []
   },
   "outputs": [],
   "source": [
    "%load_ext autoreload\n",
    "%autoreload 2\n",
    "%matplotlib inline\n",
    "\n",
    "    \n",
    "import os, json, sys, time, random\n",
    "import numpy as np\n",
    "import torch\n",
    "from torch.optim import Adam\n",
    "from  easydict import EasyDict\n",
    "import matplotlib.pyplot as plt\n",
    "\n",
    "from steves_models.steves_ptn import Steves_Prototypical_Network\n",
    "\n",
    "from steves_utils.lazy_iterable_wrapper import Lazy_Iterable_Wrapper\n",
    "from steves_utils.iterable_aggregator import Iterable_Aggregator\n",
    "from steves_utils.ptn_train_eval_test_jig import  PTN_Train_Eval_Test_Jig\n",
    "from steves_utils.torch_sequential_builder import build_sequential\n",
    "from steves_utils.torch_utils import get_dataset_metrics, ptn_confusion_by_domain_over_dataloader\n",
    "from steves_utils.utils_v2 import (per_domain_accuracy_from_confusion, get_datasets_base_path)\n",
    "from steves_utils.PTN.utils import independent_accuracy_assesment\n",
    "\n",
    "from torch.utils.data import DataLoader\n",
    "\n",
    "from steves_utils.stratified_dataset.episodic_accessor import Episodic_Accessor_Factory\n",
    "\n",
    "from steves_utils.ptn_do_report import (\n",
    "    get_loss_curve,\n",
    "    get_results_table,\n",
    "    get_parameters_table,\n",
    "    get_domain_accuracies,\n",
    ")\n",
    "\n",
    "from steves_utils.transforms import get_chained_transform"
   ]
  },
  {
   "cell_type": "markdown",
   "id": "41c840b4",
   "metadata": {
    "papermill": {
     "duration": 0.01961,
     "end_time": "2022-03-28T17:25:20.634798",
     "exception": false,
     "start_time": "2022-03-28T17:25:20.615188",
     "status": "completed"
    },
    "tags": []
   },
   "source": [
    "# Allowed Parameters\n",
    "These are allowed parameters, not defaults\n",
    "Each of these values need to be present in the injected parameters (the notebook will raise an exception if they are not present)\n",
    "\n",
    "Papermill uses the cell tag \"parameters\" to inject the real parameters below this cell.\n",
    "Enable tags to see what I mean"
   ]
  },
  {
   "cell_type": "code",
   "execution_count": 2,
   "id": "fd44eb83",
   "metadata": {
    "execution": {
     "iopub.execute_input": "2022-03-28T17:25:20.677417Z",
     "iopub.status.busy": "2022-03-28T17:25:20.676828Z",
     "iopub.status.idle": "2022-03-28T17:25:20.694477Z",
     "shell.execute_reply": "2022-03-28T17:25:20.695131Z"
    },
    "papermill": {
     "duration": 0.040996,
     "end_time": "2022-03-28T17:25:20.695307",
     "exception": false,
     "start_time": "2022-03-28T17:25:20.654311",
     "status": "completed"
    },
    "tags": []
   },
   "outputs": [],
   "source": [
    "required_parameters = {\n",
    "    \"experiment_name\",\n",
    "    \"lr\",\n",
    "    \"device\",\n",
    "    \"seed\",\n",
    "    \"dataset_seed\",\n",
    "    \"n_shot\",\n",
    "    \"n_query\",\n",
    "    \"n_way\",\n",
    "    \"train_k_factor\",\n",
    "    \"val_k_factor\",\n",
    "    \"test_k_factor\",\n",
    "    \"n_epoch\",\n",
    "    \"patience\",\n",
    "    \"criteria_for_best\",\n",
    "    \"x_net\",\n",
    "    \"datasets\",\n",
    "    \"torch_default_dtype\",\n",
    "    \"NUM_LOGS_PER_EPOCH\",\n",
    "    \"BEST_MODEL_PATH\",\n",
    "    \"x_shape\",\n",
    "}"
   ]
  },
  {
   "cell_type": "code",
   "execution_count": 3,
   "id": "fa3f0049",
   "metadata": {
    "execution": {
     "iopub.execute_input": "2022-03-28T17:25:20.751316Z",
     "iopub.status.busy": "2022-03-28T17:25:20.750432Z",
     "iopub.status.idle": "2022-03-28T17:25:20.770105Z",
     "shell.execute_reply": "2022-03-28T17:25:20.770760Z"
    },
    "papermill": {
     "duration": 0.04935,
     "end_time": "2022-03-28T17:25:20.770936",
     "exception": false,
     "start_time": "2022-03-28T17:25:20.721586",
     "status": "completed"
    },
    "tags": [
     "parameters"
    ]
   },
   "outputs": [],
   "source": [
    "from steves_utils.CORES.utils import (\n",
    "    ALL_NODES,\n",
    "    ALL_NODES_MINIMUM_1000_EXAMPLES,\n",
    "    ALL_DAYS\n",
    ")\n",
    "\n",
    "from steves_utils.ORACLE.utils_v2 import (\n",
    "    ALL_DISTANCES_FEET_NARROWED,\n",
    "    ALL_RUNS,\n",
    "    ALL_SERIAL_NUMBERS,\n",
    ")\n",
    "\n",
    "standalone_parameters = {}\n",
    "standalone_parameters[\"experiment_name\"] = \"STANDALONE PTN\"\n",
    "standalone_parameters[\"lr\"] = 0.001\n",
    "standalone_parameters[\"device\"] = \"cuda\"\n",
    "\n",
    "standalone_parameters[\"seed\"] = 1337\n",
    "standalone_parameters[\"dataset_seed\"] = 1337\n",
    "\n",
    "standalone_parameters[\"n_way\"] = 8\n",
    "standalone_parameters[\"n_shot\"] = 3\n",
    "standalone_parameters[\"n_query\"]  = 2\n",
    "standalone_parameters[\"train_k_factor\"] = 1\n",
    "standalone_parameters[\"val_k_factor\"] = 2\n",
    "standalone_parameters[\"test_k_factor\"] = 2\n",
    "\n",
    "\n",
    "standalone_parameters[\"n_epoch\"] = 50\n",
    "\n",
    "standalone_parameters[\"patience\"] = 10\n",
    "standalone_parameters[\"criteria_for_best\"] = \"source_loss\"\n",
    "\n",
    "standalone_parameters[\"datasets\"] = [\n",
    "    {\n",
    "        \"labels\": ALL_SERIAL_NUMBERS,\n",
    "        \"domains\": ALL_DISTANCES_FEET_NARROWED,\n",
    "        \"num_examples_per_domain_per_label\": 100,\n",
    "        \"pickle_path\": os.path.join(get_datasets_base_path(), \"oracle.Run1_framed_2000Examples_stratified_ds.2022A.pkl\"),\n",
    "        \"source_or_target_dataset\": \"source\",\n",
    "        \"x_transforms\": [\"unit_mag\", \"minus_two\"],\n",
    "        \"episode_transforms\": [],\n",
    "        \"domain_prefix\": \"ORACLE_\"\n",
    "    },\n",
    "    {\n",
    "        \"labels\": ALL_NODES,\n",
    "        \"domains\": ALL_DAYS,\n",
    "        \"num_examples_per_domain_per_label\": 100,\n",
    "        \"pickle_path\": os.path.join(get_datasets_base_path(), \"cores.stratified_ds.2022A.pkl\"),\n",
    "        \"source_or_target_dataset\": \"target\",\n",
    "        \"x_transforms\": [\"unit_power\", \"times_zero\"],\n",
    "        \"episode_transforms\": [],\n",
    "        \"domain_prefix\": \"CORES_\"\n",
    "    }   \n",
    "]\n",
    "\n",
    "standalone_parameters[\"torch_default_dtype\"] = \"torch.float32\" \n",
    "\n",
    "\n",
    "\n",
    "standalone_parameters[\"x_net\"] =     [\n",
    "    {\"class\": \"nnReshape\", \"kargs\": {\"shape\":[-1, 1, 2, 256]}},\n",
    "    {\"class\": \"Conv2d\", \"kargs\": { \"in_channels\":1, \"out_channels\":256, \"kernel_size\":(1,7), \"bias\":False, \"padding\":(0,3), },},\n",
    "    {\"class\": \"ReLU\", \"kargs\": {\"inplace\": True}},\n",
    "    {\"class\": \"BatchNorm2d\", \"kargs\": {\"num_features\":256}},\n",
    "\n",
    "    {\"class\": \"Conv2d\", \"kargs\": { \"in_channels\":256, \"out_channels\":80, \"kernel_size\":(2,7), \"bias\":True, \"padding\":(0,3), },},\n",
    "    {\"class\": \"ReLU\", \"kargs\": {\"inplace\": True}},\n",
    "    {\"class\": \"BatchNorm2d\", \"kargs\": {\"num_features\":80}},\n",
    "    {\"class\": \"Flatten\", \"kargs\": {}},\n",
    "\n",
    "    {\"class\": \"Linear\", \"kargs\": {\"in_features\": 80*256, \"out_features\": 256}}, # 80 units per IQ pair\n",
    "    {\"class\": \"ReLU\", \"kargs\": {\"inplace\": True}},\n",
    "    {\"class\": \"BatchNorm1d\", \"kargs\": {\"num_features\":256}},\n",
    "\n",
    "    {\"class\": \"Linear\", \"kargs\": {\"in_features\": 256, \"out_features\": 256}},\n",
    "]\n",
    "\n",
    "# Parameters relevant to results\n",
    "# These parameters will basically never need to change\n",
    "standalone_parameters[\"NUM_LOGS_PER_EPOCH\"] = 10\n",
    "standalone_parameters[\"BEST_MODEL_PATH\"] = \"./best_model.pth\"\n",
    "\n",
    "\n",
    "\n",
    "\n"
   ]
  },
  {
   "cell_type": "code",
   "execution_count": 4,
   "id": "719e1c6c",
   "metadata": {
    "execution": {
     "iopub.execute_input": "2022-03-28T17:25:20.824254Z",
     "iopub.status.busy": "2022-03-28T17:25:20.823608Z",
     "iopub.status.idle": "2022-03-28T17:25:20.841772Z",
     "shell.execute_reply": "2022-03-28T17:25:20.842488Z"
    },
    "papermill": {
     "duration": 0.047524,
     "end_time": "2022-03-28T17:25:20.842681",
     "exception": false,
     "start_time": "2022-03-28T17:25:20.795157",
     "status": "completed"
    },
    "tags": [
     "injected-parameters"
    ]
   },
   "outputs": [],
   "source": [
    "# Parameters\n",
    "parameters = {\n",
    "    \"experiment_name\": \"tl_3-jitter5v2:oracle.run1.framed -> cores\",\n",
    "    \"device\": \"cuda\",\n",
    "    \"lr\": 0.0001,\n",
    "    \"x_shape\": [2, 256],\n",
    "    \"n_shot\": 3,\n",
    "    \"n_query\": 2,\n",
    "    \"train_k_factor\": 3,\n",
    "    \"val_k_factor\": 2,\n",
    "    \"test_k_factor\": 2,\n",
    "    \"torch_default_dtype\": \"torch.float32\",\n",
    "    \"n_epoch\": 50,\n",
    "    \"patience\": 3,\n",
    "    \"criteria_for_best\": \"target_accuracy\",\n",
    "    \"x_net\": [\n",
    "        {\"class\": \"nnReshape\", \"kargs\": {\"shape\": [-1, 1, 2, 256]}},\n",
    "        {\n",
    "            \"class\": \"Conv2d\",\n",
    "            \"kargs\": {\n",
    "                \"in_channels\": 1,\n",
    "                \"out_channels\": 256,\n",
    "                \"kernel_size\": [1, 7],\n",
    "                \"bias\": False,\n",
    "                \"padding\": [0, 3],\n",
    "            },\n",
    "        },\n",
    "        {\"class\": \"ReLU\", \"kargs\": {\"inplace\": True}},\n",
    "        {\"class\": \"BatchNorm2d\", \"kargs\": {\"num_features\": 256}},\n",
    "        {\n",
    "            \"class\": \"Conv2d\",\n",
    "            \"kargs\": {\n",
    "                \"in_channels\": 256,\n",
    "                \"out_channels\": 80,\n",
    "                \"kernel_size\": [2, 7],\n",
    "                \"bias\": True,\n",
    "                \"padding\": [0, 3],\n",
    "            },\n",
    "        },\n",
    "        {\"class\": \"ReLU\", \"kargs\": {\"inplace\": True}},\n",
    "        {\"class\": \"BatchNorm2d\", \"kargs\": {\"num_features\": 80}},\n",
    "        {\"class\": \"Flatten\", \"kargs\": {}},\n",
    "        {\"class\": \"Linear\", \"kargs\": {\"in_features\": 20480, \"out_features\": 256}},\n",
    "        {\"class\": \"ReLU\", \"kargs\": {\"inplace\": True}},\n",
    "        {\"class\": \"BatchNorm1d\", \"kargs\": {\"num_features\": 256}},\n",
    "        {\"class\": \"Linear\", \"kargs\": {\"in_features\": 256, \"out_features\": 256}},\n",
    "    ],\n",
    "    \"NUM_LOGS_PER_EPOCH\": 10,\n",
    "    \"BEST_MODEL_PATH\": \"./best_model.pth\",\n",
    "    \"n_way\": 16,\n",
    "    \"datasets\": [\n",
    "        {\n",
    "            \"labels\": [\n",
    "                \"1-10.\",\n",
    "                \"1-11.\",\n",
    "                \"1-15.\",\n",
    "                \"1-16.\",\n",
    "                \"1-17.\",\n",
    "                \"1-18.\",\n",
    "                \"1-19.\",\n",
    "                \"10-4.\",\n",
    "                \"10-7.\",\n",
    "                \"11-1.\",\n",
    "                \"11-14.\",\n",
    "                \"11-17.\",\n",
    "                \"11-20.\",\n",
    "                \"11-7.\",\n",
    "                \"13-20.\",\n",
    "                \"13-8.\",\n",
    "                \"14-10.\",\n",
    "                \"14-11.\",\n",
    "                \"14-14.\",\n",
    "                \"14-7.\",\n",
    "                \"15-1.\",\n",
    "                \"15-20.\",\n",
    "                \"16-1.\",\n",
    "                \"16-16.\",\n",
    "                \"17-10.\",\n",
    "                \"17-11.\",\n",
    "                \"17-2.\",\n",
    "                \"19-1.\",\n",
    "                \"19-16.\",\n",
    "                \"19-19.\",\n",
    "                \"19-20.\",\n",
    "                \"19-3.\",\n",
    "                \"2-10.\",\n",
    "                \"2-11.\",\n",
    "                \"2-17.\",\n",
    "                \"2-18.\",\n",
    "                \"2-20.\",\n",
    "                \"2-3.\",\n",
    "                \"2-4.\",\n",
    "                \"2-5.\",\n",
    "                \"2-6.\",\n",
    "                \"2-7.\",\n",
    "                \"2-8.\",\n",
    "                \"3-13.\",\n",
    "                \"3-18.\",\n",
    "                \"3-3.\",\n",
    "                \"4-1.\",\n",
    "                \"4-10.\",\n",
    "                \"4-11.\",\n",
    "                \"4-19.\",\n",
    "                \"5-5.\",\n",
    "                \"6-15.\",\n",
    "                \"7-10.\",\n",
    "                \"7-14.\",\n",
    "                \"8-18.\",\n",
    "                \"8-20.\",\n",
    "                \"8-3.\",\n",
    "                \"8-8.\",\n",
    "            ],\n",
    "            \"domains\": [1, 2, 3, 4, 5],\n",
    "            \"num_examples_per_domain_per_label\": -1,\n",
    "            \"pickle_path\": \"/root/csc500-main/datasets/cores.stratified_ds.2022A.pkl\",\n",
    "            \"source_or_target_dataset\": \"target\",\n",
    "            \"x_transforms\": [\n",
    "                \"unit_power\",\n",
    "                \"jitter_256_5\",\n",
    "                \"lowpass_+/-10MHz\",\n",
    "                \"take_200\",\n",
    "            ],\n",
    "            \"episode_transforms\": [],\n",
    "            \"domain_prefix\": \"C_\",\n",
    "        },\n",
    "        {\n",
    "            \"labels\": [\n",
    "                \"3123D52\",\n",
    "                \"3123D65\",\n",
    "                \"3123D79\",\n",
    "                \"3123D80\",\n",
    "                \"3123D54\",\n",
    "                \"3123D70\",\n",
    "                \"3123D7B\",\n",
    "                \"3123D89\",\n",
    "                \"3123D58\",\n",
    "                \"3123D76\",\n",
    "                \"3123D7D\",\n",
    "                \"3123EFE\",\n",
    "                \"3123D64\",\n",
    "                \"3123D78\",\n",
    "                \"3123D7E\",\n",
    "                \"3124E4A\",\n",
    "            ],\n",
    "            \"domains\": [32, 38, 8, 44, 14, 50, 20, 26],\n",
    "            \"num_examples_per_domain_per_label\": 2000,\n",
    "            \"pickle_path\": \"/root/csc500-main/datasets/oracle.Run1_framed_2000Examples_stratified_ds.2022A.pkl\",\n",
    "            \"source_or_target_dataset\": \"source\",\n",
    "            \"x_transforms\": [\n",
    "                \"unit_power\",\n",
    "                \"jitter_256_5\",\n",
    "                \"take_200\",\n",
    "                \"resample_20Msps_to_25Msps\",\n",
    "            ],\n",
    "            \"episode_transforms\": [],\n",
    "            \"domain_prefix\": \"O_\",\n",
    "        },\n",
    "    ],\n",
    "    \"seed\": 7,\n",
    "    \"dataset_seed\": 7,\n",
    "}\n"
   ]
  },
  {
   "cell_type": "code",
   "execution_count": 5,
   "id": "8fa1cc33",
   "metadata": {
    "execution": {
     "iopub.execute_input": "2022-03-28T17:25:20.891090Z",
     "iopub.status.busy": "2022-03-28T17:25:20.890498Z",
     "iopub.status.idle": "2022-03-28T17:25:20.907986Z",
     "shell.execute_reply": "2022-03-28T17:25:20.907267Z"
    },
    "papermill": {
     "duration": 0.040641,
     "end_time": "2022-03-28T17:25:20.908138",
     "exception": false,
     "start_time": "2022-03-28T17:25:20.867497",
     "status": "completed"
    },
    "tags": []
   },
   "outputs": [],
   "source": [
    "# Set this to True if you want to run this template directly\n",
    "STANDALONE = False\n",
    "if STANDALONE:\n",
    "    print(\"parameters not injected, running with standalone_parameters\")\n",
    "    parameters = standalone_parameters\n",
    "\n",
    "if not 'parameters' in locals() and not 'parameters' in globals():\n",
    "    raise Exception(\"Parameter injection failed\")\n",
    "\n",
    "#Use an easy dict for all the parameters\n",
    "p = EasyDict(parameters)\n",
    "\n",
    "if \"x_shape\" not in p:\n",
    "    p.x_shape = [2,256] # Default to this if we dont supply x_shape\n",
    "\n",
    "\n",
    "supplied_keys = set(p.keys())\n",
    "\n",
    "if  supplied_keys != required_parameters:\n",
    "    print(\"Parameters are incorrect\")\n",
    "    if len(supplied_keys - required_parameters)>0: print(\"Shouldn't have:\", str(supplied_keys - required_parameters))\n",
    "    if len(required_parameters - supplied_keys)>0: print(\"Need to have:\", str(required_parameters - supplied_keys))\n",
    "    raise RuntimeError(\"Parameters are incorrect\")"
   ]
  },
  {
   "cell_type": "code",
   "execution_count": 6,
   "id": "3a028d58",
   "metadata": {
    "execution": {
     "iopub.execute_input": "2022-03-28T17:25:20.960097Z",
     "iopub.status.busy": "2022-03-28T17:25:20.956147Z",
     "iopub.status.idle": "2022-03-28T17:25:20.974481Z",
     "shell.execute_reply": "2022-03-28T17:25:20.973797Z"
    },
    "papermill": {
     "duration": 0.040611,
     "end_time": "2022-03-28T17:25:20.974632",
     "exception": false,
     "start_time": "2022-03-28T17:25:20.934021",
     "status": "completed"
    },
    "tags": []
   },
   "outputs": [],
   "source": [
    "###################################\n",
    "# Set the RNGs and make it all deterministic\n",
    "###################################\n",
    "np.random.seed(p.seed)\n",
    "random.seed(p.seed)\n",
    "torch.manual_seed(p.seed)\n",
    "\n",
    "torch.use_deterministic_algorithms(True) "
   ]
  },
  {
   "cell_type": "code",
   "execution_count": 7,
   "id": "b691acf6",
   "metadata": {
    "execution": {
     "iopub.execute_input": "2022-03-28T17:25:21.028201Z",
     "iopub.status.busy": "2022-03-28T17:25:21.022797Z",
     "iopub.status.idle": "2022-03-28T17:25:21.040443Z",
     "shell.execute_reply": "2022-03-28T17:25:21.041096Z"
    },
    "papermill": {
     "duration": 0.039612,
     "end_time": "2022-03-28T17:25:21.041271",
     "exception": false,
     "start_time": "2022-03-28T17:25:21.001659",
     "status": "completed"
    },
    "tags": []
   },
   "outputs": [],
   "source": [
    "###########################################\n",
    "# The stratified datasets honor this\n",
    "###########################################\n",
    "torch.set_default_dtype(eval(p.torch_default_dtype))"
   ]
  },
  {
   "cell_type": "code",
   "execution_count": 8,
   "id": "b5fba671",
   "metadata": {
    "execution": {
     "iopub.execute_input": "2022-03-28T17:25:21.088463Z",
     "iopub.status.busy": "2022-03-28T17:25:21.088104Z",
     "iopub.status.idle": "2022-03-28T17:25:21.139344Z",
     "shell.execute_reply": "2022-03-28T17:25:21.140014Z"
    },
    "papermill": {
     "duration": 0.073469,
     "end_time": "2022-03-28T17:25:21.140189",
     "exception": false,
     "start_time": "2022-03-28T17:25:21.066720",
     "status": "completed"
    },
    "tags": []
   },
   "outputs": [],
   "source": [
    "###################################\n",
    "# Build the network(s)\n",
    "# Note: It's critical to do this AFTER setting the RNG\n",
    "###################################\n",
    "x_net = build_sequential(p.x_net)"
   ]
  },
  {
   "cell_type": "code",
   "execution_count": 9,
   "id": "5d7e61cc",
   "metadata": {
    "execution": {
     "iopub.execute_input": "2022-03-28T17:25:21.189723Z",
     "iopub.status.busy": "2022-03-28T17:25:21.189182Z",
     "iopub.status.idle": "2022-03-28T17:25:21.211351Z",
     "shell.execute_reply": "2022-03-28T17:25:21.210627Z"
    },
    "papermill": {
     "duration": 0.045331,
     "end_time": "2022-03-28T17:25:21.211502",
     "exception": false,
     "start_time": "2022-03-28T17:25:21.166171",
     "status": "completed"
    },
    "tags": []
   },
   "outputs": [],
   "source": [
    "start_time_secs = time.time()"
   ]
  },
  {
   "cell_type": "code",
   "execution_count": 10,
   "id": "c6b67dfd",
   "metadata": {
    "execution": {
     "iopub.execute_input": "2022-03-28T17:25:21.263072Z",
     "iopub.status.busy": "2022-03-28T17:25:21.262707Z",
     "iopub.status.idle": "2022-03-28T17:25:21.281723Z",
     "shell.execute_reply": "2022-03-28T17:25:21.282345Z"
    },
    "papermill": {
     "duration": 0.042356,
     "end_time": "2022-03-28T17:25:21.282525",
     "exception": false,
     "start_time": "2022-03-28T17:25:21.240169",
     "status": "completed"
    },
    "tags": []
   },
   "outputs": [],
   "source": [
    "p.domains_source = []\n",
    "p.domains_target = []\n",
    "\n",
    "\n",
    "train_original_source = []\n",
    "val_original_source   = []\n",
    "test_original_source  = []\n",
    "\n",
    "train_original_target = []\n",
    "val_original_target   = []\n",
    "test_original_target  = []"
   ]
  },
  {
   "cell_type": "code",
   "execution_count": 11,
   "id": "e3d9c3d3",
   "metadata": {
    "execution": {
     "iopub.execute_input": "2022-03-28T17:25:21.331699Z",
     "iopub.status.busy": "2022-03-28T17:25:21.331321Z",
     "iopub.status.idle": "2022-03-28T17:25:21.351987Z",
     "shell.execute_reply": "2022-03-28T17:25:21.351248Z"
    },
    "papermill": {
     "duration": 0.042811,
     "end_time": "2022-03-28T17:25:21.352135",
     "exception": false,
     "start_time": "2022-03-28T17:25:21.309324",
     "status": "completed"
    },
    "tags": []
   },
   "outputs": [],
   "source": [
    "# global_x_transform_func = lambda x: normalize(x.to(torch.get_default_dtype()), \"unit_power\") # unit_power, unit_mag\n",
    "# global_x_transform_func = lambda x: normalize(x, \"unit_power\") # unit_power, unit_mag"
   ]
  },
  {
   "cell_type": "code",
   "execution_count": 12,
   "id": "acb78fd2",
   "metadata": {
    "execution": {
     "iopub.execute_input": "2022-03-28T17:25:21.403805Z",
     "iopub.status.busy": "2022-03-28T17:25:21.403225Z",
     "iopub.status.idle": "2022-03-28T17:25:21.432724Z",
     "shell.execute_reply": "2022-03-28T17:25:21.432040Z"
    },
    "papermill": {
     "duration": 0.056513,
     "end_time": "2022-03-28T17:25:21.432873",
     "exception": false,
     "start_time": "2022-03-28T17:25:21.376360",
     "status": "completed"
    },
    "tags": []
   },
   "outputs": [],
   "source": [
    "def add_dataset(\n",
    "    labels,\n",
    "    domains,\n",
    "    pickle_path,\n",
    "    x_transforms,\n",
    "    episode_transforms,\n",
    "    domain_prefix,\n",
    "    num_examples_per_domain_per_label,\n",
    "    source_or_target_dataset:str,\n",
    "    iterator_seed=p.seed,\n",
    "    dataset_seed=p.dataset_seed,\n",
    "    n_shot=p.n_shot,\n",
    "    n_way=p.n_way,\n",
    "    n_query=p.n_query,\n",
    "    train_val_test_k_factors=(p.train_k_factor,p.val_k_factor,p.test_k_factor),\n",
    "):\n",
    "   \n",
    "    if x_transforms == []: x_transform = None\n",
    "    else: x_transform = get_chained_transform(x_transforms)\n",
    "    \n",
    "    if episode_transforms == []: episode_transform = None\n",
    "    else: raise Exception(\"episode_transforms not implemented\")\n",
    "    \n",
    "    episode_transform = lambda tup, _prefix=domain_prefix: (_prefix + str(tup[0]), tup[1])\n",
    "\n",
    "\n",
    "    eaf = Episodic_Accessor_Factory(\n",
    "        labels=labels,\n",
    "        domains=domains,\n",
    "        num_examples_per_domain_per_label=num_examples_per_domain_per_label,\n",
    "        iterator_seed=iterator_seed,\n",
    "        dataset_seed=dataset_seed,\n",
    "        n_shot=n_shot,\n",
    "        n_way=n_way,\n",
    "        n_query=n_query,\n",
    "        train_val_test_k_factors=train_val_test_k_factors,\n",
    "        pickle_path=pickle_path,\n",
    "        x_transform_func=x_transform,\n",
    "    )\n",
    "\n",
    "    train, val, test = eaf.get_train(), eaf.get_val(), eaf.get_test()\n",
    "    train = Lazy_Iterable_Wrapper(train, episode_transform)\n",
    "    val = Lazy_Iterable_Wrapper(val, episode_transform)\n",
    "    test = Lazy_Iterable_Wrapper(test, episode_transform)\n",
    "\n",
    "    if source_or_target_dataset==\"source\":\n",
    "        train_original_source.append(train)\n",
    "        val_original_source.append(val)\n",
    "        test_original_source.append(test)\n",
    "\n",
    "        p.domains_source.extend(\n",
    "            [domain_prefix + str(u) for u in domains]\n",
    "        )\n",
    "    elif source_or_target_dataset==\"target\":\n",
    "        train_original_target.append(train)\n",
    "        val_original_target.append(val)\n",
    "        test_original_target.append(test)\n",
    "        p.domains_target.extend(\n",
    "            [domain_prefix + str(u) for u in domains]\n",
    "        )\n",
    "    else:\n",
    "        raise Exception(f\"invalid source_or_target_dataset: {source_or_target_dataset}\")\n",
    "    "
   ]
  },
  {
   "cell_type": "code",
   "execution_count": 13,
   "id": "fe266617",
   "metadata": {
    "execution": {
     "iopub.execute_input": "2022-03-28T17:25:21.479778Z",
     "iopub.status.busy": "2022-03-28T17:25:21.479412Z",
     "iopub.status.idle": "2022-03-28T17:27:13.003277Z",
     "shell.execute_reply": "2022-03-28T17:27:13.002487Z"
    },
    "papermill": {
     "duration": 111.546445,
     "end_time": "2022-03-28T17:27:13.003466",
     "exception": false,
     "start_time": "2022-03-28T17:25:21.457021",
     "status": "completed"
    },
    "tags": []
   },
   "outputs": [],
   "source": [
    "for ds in p.datasets:\n",
    "    add_dataset(**ds)"
   ]
  },
  {
   "cell_type": "code",
   "execution_count": 14,
   "id": "b90d65ac",
   "metadata": {
    "execution": {
     "iopub.execute_input": "2022-03-28T17:27:13.064654Z",
     "iopub.status.busy": "2022-03-28T17:27:13.064275Z",
     "iopub.status.idle": "2022-03-28T17:27:13.090686Z",
     "shell.execute_reply": "2022-03-28T17:27:13.089863Z"
    },
    "papermill": {
     "duration": 0.051353,
     "end_time": "2022-03-28T17:27:13.090851",
     "exception": false,
     "start_time": "2022-03-28T17:27:13.039498",
     "status": "completed"
    },
    "tags": []
   },
   "outputs": [],
   "source": [
    "# from steves_utils.CORES.utils import (\n",
    "#     ALL_NODES,\n",
    "#     ALL_NODES_MINIMUM_1000_EXAMPLES,\n",
    "#     ALL_DAYS\n",
    "# )\n",
    "\n",
    "# add_dataset(\n",
    "#     labels=ALL_NODES,\n",
    "#     domains = ALL_DAYS,\n",
    "#     num_examples_per_domain_per_label=100,\n",
    "#     pickle_path=os.path.join(get_datasets_base_path(), \"cores.stratified_ds.2022A.pkl\"),\n",
    "#     source_or_target_dataset=\"target\",\n",
    "#     x_transform_func=global_x_transform_func,\n",
    "#     domain_modifier=lambda u: f\"cores_{u}\"\n",
    "# )"
   ]
  },
  {
   "cell_type": "code",
   "execution_count": 15,
   "id": "76db484d",
   "metadata": {
    "execution": {
     "iopub.execute_input": "2022-03-28T17:27:13.141618Z",
     "iopub.status.busy": "2022-03-28T17:27:13.141248Z",
     "iopub.status.idle": "2022-03-28T17:27:13.160990Z",
     "shell.execute_reply": "2022-03-28T17:27:13.160163Z"
    },
    "papermill": {
     "duration": 0.043773,
     "end_time": "2022-03-28T17:27:13.161147",
     "exception": false,
     "start_time": "2022-03-28T17:27:13.117374",
     "status": "completed"
    },
    "tags": []
   },
   "outputs": [],
   "source": [
    "# from steves_utils.ORACLE.utils_v2 import (\n",
    "#     ALL_DISTANCES_FEET,\n",
    "#     ALL_RUNS,\n",
    "#     ALL_SERIAL_NUMBERS,\n",
    "# )\n",
    "\n",
    "\n",
    "# add_dataset(\n",
    "#     labels=ALL_SERIAL_NUMBERS,\n",
    "#     domains = list(set(ALL_DISTANCES_FEET) - {2,62}),\n",
    "#     num_examples_per_domain_per_label=100,\n",
    "#     pickle_path=os.path.join(get_datasets_base_path(), \"oracle.Run2_framed_2000Examples_stratified_ds.2022A.pkl\"),\n",
    "#     source_or_target_dataset=\"source\",\n",
    "#     x_transform_func=global_x_transform_func,\n",
    "#     domain_modifier=lambda u: f\"oracle1_{u}\"\n",
    "# )\n"
   ]
  },
  {
   "cell_type": "code",
   "execution_count": 16,
   "id": "97dea9d2",
   "metadata": {
    "execution": {
     "iopub.execute_input": "2022-03-28T17:27:13.212590Z",
     "iopub.status.busy": "2022-03-28T17:27:13.212221Z",
     "iopub.status.idle": "2022-03-28T17:27:13.229368Z",
     "shell.execute_reply": "2022-03-28T17:27:13.228662Z"
    },
    "papermill": {
     "duration": 0.040854,
     "end_time": "2022-03-28T17:27:13.229525",
     "exception": false,
     "start_time": "2022-03-28T17:27:13.188671",
     "status": "completed"
    },
    "tags": []
   },
   "outputs": [],
   "source": [
    "# from steves_utils.ORACLE.utils_v2 import (\n",
    "#     ALL_DISTANCES_FEET,\n",
    "#     ALL_RUNS,\n",
    "#     ALL_SERIAL_NUMBERS,\n",
    "# )\n",
    "\n",
    "\n",
    "# add_dataset(\n",
    "#     labels=ALL_SERIAL_NUMBERS,\n",
    "#     domains = list(set(ALL_DISTANCES_FEET) - {2,62,56}),\n",
    "#     num_examples_per_domain_per_label=100,\n",
    "#     pickle_path=os.path.join(get_datasets_base_path(), \"oracle.Run2_framed_2000Examples_stratified_ds.2022A.pkl\"),\n",
    "#     source_or_target_dataset=\"source\",\n",
    "#     x_transform_func=global_x_transform_func,\n",
    "#     domain_modifier=lambda u: f\"oracle2_{u}\"\n",
    "# )"
   ]
  },
  {
   "cell_type": "code",
   "execution_count": 17,
   "id": "6f289866",
   "metadata": {
    "execution": {
     "iopub.execute_input": "2022-03-28T17:27:13.281005Z",
     "iopub.status.busy": "2022-03-28T17:27:13.280578Z",
     "iopub.status.idle": "2022-03-28T17:27:13.303765Z",
     "shell.execute_reply": "2022-03-28T17:27:13.304433Z"
    },
    "papermill": {
     "duration": 0.047961,
     "end_time": "2022-03-28T17:27:13.304613",
     "exception": false,
     "start_time": "2022-03-28T17:27:13.256652",
     "status": "completed"
    },
    "tags": []
   },
   "outputs": [],
   "source": [
    "# add_dataset(\n",
    "#     labels=list(range(19)),\n",
    "#     domains = [0,1,2],\n",
    "#     num_examples_per_domain_per_label=100,\n",
    "#     pickle_path=os.path.join(get_datasets_base_path(), \"metehan.stratified_ds.2022A.pkl\"),\n",
    "#     source_or_target_dataset=\"target\",\n",
    "#     x_transform_func=global_x_transform_func,\n",
    "#     domain_modifier=lambda u: f\"met_{u}\"\n",
    "# )"
   ]
  },
  {
   "cell_type": "code",
   "execution_count": 18,
   "id": "86a863c3",
   "metadata": {
    "execution": {
     "iopub.execute_input": "2022-03-28T17:27:13.357127Z",
     "iopub.status.busy": "2022-03-28T17:27:13.356567Z",
     "iopub.status.idle": "2022-03-28T17:27:13.373436Z",
     "shell.execute_reply": "2022-03-28T17:27:13.372731Z"
    },
    "papermill": {
     "duration": 0.041045,
     "end_time": "2022-03-28T17:27:13.373592",
     "exception": false,
     "start_time": "2022-03-28T17:27:13.332547",
     "status": "completed"
    },
    "tags": []
   },
   "outputs": [],
   "source": [
    "# # from steves_utils.wisig.utils import (\n",
    "# #     ALL_NODES_MINIMUM_100_EXAMPLES,\n",
    "# #     ALL_NODES_MINIMUM_500_EXAMPLES,\n",
    "# #     ALL_NODES_MINIMUM_1000_EXAMPLES,\n",
    "# #     ALL_DAYS\n",
    "# # )\n",
    "\n",
    "# import steves_utils.wisig.utils as wisig\n",
    "\n",
    "\n",
    "# add_dataset(\n",
    "#     labels=wisig.ALL_NODES_MINIMUM_100_EXAMPLES,\n",
    "#     domains = wisig.ALL_DAYS,\n",
    "#     num_examples_per_domain_per_label=100,\n",
    "#     pickle_path=os.path.join(get_datasets_base_path(), \"wisig.node3-19.stratified_ds.2022A.pkl\"),\n",
    "#     source_or_target_dataset=\"target\",\n",
    "#     x_transform_func=global_x_transform_func,\n",
    "#     domain_modifier=lambda u: f\"wisig_{u}\"\n",
    "# )"
   ]
  },
  {
   "cell_type": "code",
   "execution_count": 19,
   "id": "fd5442bc",
   "metadata": {
    "execution": {
     "iopub.execute_input": "2022-03-28T17:27:13.431846Z",
     "iopub.status.busy": "2022-03-28T17:27:13.429881Z",
     "iopub.status.idle": "2022-03-28T17:27:13.450938Z",
     "shell.execute_reply": "2022-03-28T17:27:13.450228Z"
    },
    "papermill": {
     "duration": 0.04996,
     "end_time": "2022-03-28T17:27:13.451094",
     "exception": false,
     "start_time": "2022-03-28T17:27:13.401134",
     "status": "completed"
    },
    "tags": []
   },
   "outputs": [],
   "source": [
    "###################################\n",
    "# Build the dataset\n",
    "###################################\n",
    "train_original_source = Iterable_Aggregator(train_original_source, p.seed)\n",
    "val_original_source = Iterable_Aggregator(val_original_source, p.seed)\n",
    "test_original_source = Iterable_Aggregator(test_original_source, p.seed)\n",
    "\n",
    "\n",
    "train_original_target = Iterable_Aggregator(train_original_target, p.seed)\n",
    "val_original_target = Iterable_Aggregator(val_original_target, p.seed)\n",
    "test_original_target = Iterable_Aggregator(test_original_target, p.seed)\n",
    "\n",
    "# For CNN We only use X and Y. And we only train on the source.\n",
    "# Properly form the data using a transform lambda and Lazy_Iterable_Wrapper. Finally wrap them in a dataloader\n",
    "\n",
    "transform_lambda = lambda ex: ex[1] # Original is (<domain>, <episode>) so we strip down to episode only\n",
    "\n",
    "train_processed_source = Lazy_Iterable_Wrapper(train_original_source, transform_lambda)\n",
    "val_processed_source   = Lazy_Iterable_Wrapper(val_original_source, transform_lambda)\n",
    "test_processed_source  = Lazy_Iterable_Wrapper(test_original_source, transform_lambda)\n",
    "\n",
    "train_processed_target = Lazy_Iterable_Wrapper(train_original_target, transform_lambda)\n",
    "val_processed_target   = Lazy_Iterable_Wrapper(val_original_target, transform_lambda)\n",
    "test_processed_target  = Lazy_Iterable_Wrapper(test_original_target, transform_lambda)\n",
    "\n",
    "datasets = EasyDict({\n",
    "    \"source\": {\n",
    "        \"original\": {\"train\":train_original_source, \"val\":val_original_source, \"test\":test_original_source},\n",
    "        \"processed\": {\"train\":train_processed_source, \"val\":val_processed_source, \"test\":test_processed_source}\n",
    "    },\n",
    "    \"target\": {\n",
    "        \"original\": {\"train\":train_original_target, \"val\":val_original_target, \"test\":test_original_target},\n",
    "        \"processed\": {\"train\":train_processed_target, \"val\":val_processed_target, \"test\":test_processed_target}\n",
    "    },\n",
    "})"
   ]
  },
  {
   "cell_type": "code",
   "execution_count": 20,
   "id": "5b3c01fc",
   "metadata": {
    "execution": {
     "iopub.execute_input": "2022-03-28T17:27:13.503766Z",
     "iopub.status.busy": "2022-03-28T17:27:13.503375Z",
     "iopub.status.idle": "2022-03-28T17:27:27.906162Z",
     "shell.execute_reply": "2022-03-28T17:27:27.906854Z"
    },
    "papermill": {
     "duration": 14.429092,
     "end_time": "2022-03-28T17:27:27.907093",
     "exception": false,
     "start_time": "2022-03-28T17:27:13.478001",
     "status": "completed"
    },
    "tags": []
   },
   "outputs": [
    {
     "name": "stdout",
     "output_type": "stream",
     "text": [
      "{'O_8', 'O_32', 'O_44', 'O_26', 'O_20', 'O_38', 'O_14', 'O_50'}\n"
     ]
    },
    {
     "name": "stdout",
     "output_type": "stream",
     "text": [
      "{'C_5', 'C_4', 'C_2', 'C_3', 'C_1'}\n"
     ]
    },
    {
     "name": "stdout",
     "output_type": "stream",
     "text": [
      "tensor([[[0., 0., 0.,  ..., 0., 0., 0.],\n",
      "         [0., 0., 0.,  ..., 0., 0., 0.]],\n",
      "\n",
      "        [[0., 0., 0.,  ..., 0., 0., 0.],\n",
      "         [0., 0., 0.,  ..., 0., 0., 0.]],\n",
      "\n",
      "        [[0., 0., 0.,  ..., 0., 0., 0.],\n",
      "         [0., 0., 0.,  ..., 0., 0., 0.]],\n",
      "\n",
      "        ...,\n",
      "\n",
      "        [[0., 0., 0.,  ..., 0., 0., 0.],\n",
      "         [0., 0., 0.,  ..., 0., 0., 0.]],\n",
      "\n",
      "        [[0., 0., 0.,  ..., 0., 0., 0.],\n",
      "         [0., 0., 0.,  ..., 0., 0., 0.]],\n",
      "\n",
      "        [[0., 0., 0.,  ..., 0., 0., 0.],\n",
      "         [0., 0., 0.,  ..., 0., 0., 0.]]])\n"
     ]
    }
   ],
   "source": [
    "from steves_utils.transforms import get_average_magnitude, get_average_power\n",
    "\n",
    "print(set([u for u,_ in val_original_source]))\n",
    "print(set([u for u,_ in val_original_target]))\n",
    "\n",
    "s_x, s_y, q_x, q_y, _ = next(iter(train_processed_source))\n",
    "print(s_x)\n",
    "\n",
    "# for ds in [\n",
    "#     train_processed_source,\n",
    "#     val_processed_source,\n",
    "#     test_processed_source,\n",
    "#     train_processed_target,\n",
    "#     val_processed_target,\n",
    "#     test_processed_target\n",
    "# ]:\n",
    "#     for s_x, s_y, q_x, q_y, _ in ds:\n",
    "#         for X in (s_x, q_x):\n",
    "#             for x in X:\n",
    "#                 assert np.isclose(get_average_magnitude(x.numpy()), 1.0)\n",
    "#                 assert np.isclose(get_average_power(x.numpy()), 1.0)\n",
    "                "
   ]
  },
  {
   "cell_type": "code",
   "execution_count": 21,
   "id": "bbdacba1",
   "metadata": {
    "execution": {
     "iopub.execute_input": "2022-03-28T17:27:27.966313Z",
     "iopub.status.busy": "2022-03-28T17:27:27.965741Z",
     "iopub.status.idle": "2022-03-28T17:27:28.079178Z",
     "shell.execute_reply": "2022-03-28T17:27:28.078229Z"
    },
    "papermill": {
     "duration": 0.146431,
     "end_time": "2022-03-28T17:27:28.079426",
     "exception": false,
     "start_time": "2022-03-28T17:27:27.932995",
     "status": "completed"
    },
    "tags": []
   },
   "outputs": [
    {
     "name": "stdout",
     "output_type": "stream",
     "text": [
      "(2, 256)\n"
     ]
    }
   ],
   "source": [
    "###################################\n",
    "# Build the model\n",
    "###################################\n",
    "# easfsl only wants a tuple for the shape\n",
    "model = Steves_Prototypical_Network(x_net, device=p.device, x_shape=tuple(p.x_shape))\n",
    "optimizer = Adam(params=model.parameters(), lr=p.lr)"
   ]
  },
  {
   "cell_type": "code",
   "execution_count": 22,
   "id": "22b39ac5",
   "metadata": {
    "execution": {
     "iopub.execute_input": "2022-03-28T17:27:28.140520Z",
     "iopub.status.busy": "2022-03-28T17:27:28.140146Z",
     "iopub.status.idle": "2022-03-28T17:47:02.378610Z",
     "shell.execute_reply": "2022-03-28T17:47:02.378262Z"
    },
    "papermill": {
     "duration": 1174.267271,
     "end_time": "2022-03-28T17:47:02.378697",
     "exception": false,
     "start_time": "2022-03-28T17:27:28.111426",
     "status": "completed"
    },
    "tags": []
   },
   "outputs": [
    {
     "name": "stdout",
     "output_type": "stream",
     "text": [
      "epoch: 1, [batch: 1 / 6720], examples_per_second: 32.4577, train_label_loss: 2.8040, \n"
     ]
    },
    {
     "name": "stdout",
     "output_type": "stream",
     "text": [
      "epoch: 1, [batch: 672 / 6720], examples_per_second: 3825.4269, train_label_loss: 2.7865, \n"
     ]
    },
    {
     "name": "stdout",
     "output_type": "stream",
     "text": [
      "epoch: 1, [batch: 1344 / 6720], examples_per_second: 3928.5225, train_label_loss: 2.2347, \n"
     ]
    },
    {
     "name": "stdout",
     "output_type": "stream",
     "text": [
      "epoch: 1, [batch: 2016 / 6720], examples_per_second: 3872.0169, train_label_loss: 1.4884, \n"
     ]
    },
    {
     "name": "stdout",
     "output_type": "stream",
     "text": [
      "epoch: 1, [batch: 2688 / 6720], examples_per_second: 4343.4179, train_label_loss: 1.2084, \n"
     ]
    },
    {
     "name": "stdout",
     "output_type": "stream",
     "text": [
      "epoch: 1, [batch: 3360 / 6720], examples_per_second: 4434.2672, train_label_loss: 1.2533, \n"
     ]
    },
    {
     "name": "stdout",
     "output_type": "stream",
     "text": [
      "epoch: 1, [batch: 4032 / 6720], examples_per_second: 4049.8264, train_label_loss: 1.4834, \n"
     ]
    },
    {
     "name": "stdout",
     "output_type": "stream",
     "text": [
      "epoch: 1, [batch: 4704 / 6720], examples_per_second: 3909.3210, train_label_loss: 2.2827, \n"
     ]
    },
    {
     "name": "stdout",
     "output_type": "stream",
     "text": [
      "epoch: 1, [batch: 5376 / 6720], examples_per_second: 3944.8247, train_label_loss: 1.7328, \n"
     ]
    },
    {
     "name": "stdout",
     "output_type": "stream",
     "text": [
      "epoch: 1, [batch: 6048 / 6720], examples_per_second: 3954.0304, train_label_loss: 0.9157, \n"
     ]
    },
    {
     "name": "stdout",
     "output_type": "stream",
     "text": [
      "=============================================================\n",
      "epoch: 1, source_val_acc_label: 0.6261, target_val_acc_label: 0.9367, source_val_label_loss: 1.0458, target_val_label_loss: 0.7707, \n",
      "=============================================================\n"
     ]
    },
    {
     "name": "stdout",
     "output_type": "stream",
     "text": [
      "New best\n"
     ]
    },
    {
     "name": "stdout",
     "output_type": "stream",
     "text": [
      "epoch: 2, [batch: 1 / 6720], examples_per_second: 4.0653, train_label_loss: 1.5972, \n"
     ]
    },
    {
     "name": "stdout",
     "output_type": "stream",
     "text": [
      "epoch: 2, [batch: 672 / 6720], examples_per_second: 3930.8639, train_label_loss: 1.1224, \n"
     ]
    },
    {
     "name": "stdout",
     "output_type": "stream",
     "text": [
      "epoch: 2, [batch: 1344 / 6720], examples_per_second: 3937.8393, train_label_loss: 0.7967, \n"
     ]
    },
    {
     "name": "stdout",
     "output_type": "stream",
     "text": [
      "epoch: 2, [batch: 2016 / 6720], examples_per_second: 3967.5957, train_label_loss: 0.6781, \n"
     ]
    },
    {
     "name": "stdout",
     "output_type": "stream",
     "text": [
      "epoch: 2, [batch: 2688 / 6720], examples_per_second: 3340.4241, train_label_loss: 0.9177, \n"
     ]
    },
    {
     "name": "stdout",
     "output_type": "stream",
     "text": [
      "epoch: 2, [batch: 3360 / 6720], examples_per_second: 3505.6641, train_label_loss: 0.9769, \n"
     ]
    },
    {
     "name": "stdout",
     "output_type": "stream",
     "text": [
      "epoch: 2, [batch: 4032 / 6720], examples_per_second: 3522.1825, train_label_loss: 0.6185, \n"
     ]
    },
    {
     "name": "stdout",
     "output_type": "stream",
     "text": [
      "epoch: 2, [batch: 4704 / 6720], examples_per_second: 3028.4970, train_label_loss: 1.3144, \n"
     ]
    },
    {
     "name": "stdout",
     "output_type": "stream",
     "text": [
      "epoch: 2, [batch: 5376 / 6720], examples_per_second: 3061.8336, train_label_loss: 0.4971, \n"
     ]
    },
    {
     "name": "stdout",
     "output_type": "stream",
     "text": [
      "epoch: 2, [batch: 6048 / 6720], examples_per_second: 3036.1359, train_label_loss: 0.5859, \n"
     ]
    },
    {
     "name": "stdout",
     "output_type": "stream",
     "text": [
      "=============================================================\n",
      "epoch: 2, source_val_acc_label: 0.6469, target_val_acc_label: 0.9597, source_val_label_loss: 0.9356, target_val_label_loss: 0.1633, \n",
      "=============================================================\n"
     ]
    },
    {
     "name": "stdout",
     "output_type": "stream",
     "text": [
      "New best\n"
     ]
    },
    {
     "name": "stdout",
     "output_type": "stream",
     "text": [
      "epoch: 3, [batch: 1 / 6720], examples_per_second: 2.8703, train_label_loss: 0.5535, \n"
     ]
    },
    {
     "name": "stdout",
     "output_type": "stream",
     "text": [
      "epoch: 3, [batch: 672 / 6720], examples_per_second: 3094.7961, train_label_loss: 1.2690, \n"
     ]
    },
    {
     "name": "stdout",
     "output_type": "stream",
     "text": [
      "epoch: 3, [batch: 1344 / 6720], examples_per_second: 3486.7203, train_label_loss: 0.7540, \n"
     ]
    },
    {
     "name": "stdout",
     "output_type": "stream",
     "text": [
      "epoch: 3, [batch: 2016 / 6720], examples_per_second: 3588.2965, train_label_loss: 0.8855, \n"
     ]
    },
    {
     "name": "stdout",
     "output_type": "stream",
     "text": [
      "epoch: 3, [batch: 2688 / 6720], examples_per_second: 3492.5513, train_label_loss: 1.1577, \n"
     ]
    },
    {
     "name": "stdout",
     "output_type": "stream",
     "text": [
      "epoch: 3, [batch: 3360 / 6720], examples_per_second: 3489.0984, train_label_loss: 0.9523, \n"
     ]
    },
    {
     "name": "stdout",
     "output_type": "stream",
     "text": [
      "epoch: 3, [batch: 4032 / 6720], examples_per_second: 3560.5008, train_label_loss: 1.1106, \n"
     ]
    },
    {
     "name": "stdout",
     "output_type": "stream",
     "text": [
      "epoch: 3, [batch: 4704 / 6720], examples_per_second: 3041.5050, train_label_loss: 0.4874, \n"
     ]
    },
    {
     "name": "stdout",
     "output_type": "stream",
     "text": [
      "epoch: 3, [batch: 5376 / 6720], examples_per_second: 3023.6434, train_label_loss: 0.8147, \n"
     ]
    },
    {
     "name": "stdout",
     "output_type": "stream",
     "text": [
      "epoch: 3, [batch: 6048 / 6720], examples_per_second: 3010.3142, train_label_loss: 0.5745, \n"
     ]
    },
    {
     "name": "stdout",
     "output_type": "stream",
     "text": [
      "=============================================================\n",
      "epoch: 3, source_val_acc_label: 0.6353, target_val_acc_label: 0.9561, source_val_label_loss: 0.9677, target_val_label_loss: 0.1826, \n",
      "=============================================================\n"
     ]
    },
    {
     "name": "stdout",
     "output_type": "stream",
     "text": [
      "epoch: 4, [batch: 1 / 6720], examples_per_second: 2.8228, train_label_loss: 0.8842, \n"
     ]
    },
    {
     "name": "stdout",
     "output_type": "stream",
     "text": [
      "epoch: 4, [batch: 672 / 6720], examples_per_second: 3092.8048, train_label_loss: 0.4951, \n"
     ]
    },
    {
     "name": "stdout",
     "output_type": "stream",
     "text": [
      "epoch: 4, [batch: 1344 / 6720], examples_per_second: 3419.3723, train_label_loss: 0.7208, \n"
     ]
    },
    {
     "name": "stdout",
     "output_type": "stream",
     "text": [
      "epoch: 4, [batch: 2016 / 6720], examples_per_second: 3494.0831, train_label_loss: 0.5995, \n"
     ]
    },
    {
     "name": "stdout",
     "output_type": "stream",
     "text": [
      "epoch: 4, [batch: 2688 / 6720], examples_per_second: 3438.3201, train_label_loss: 0.5453, \n"
     ]
    },
    {
     "name": "stdout",
     "output_type": "stream",
     "text": [
      "epoch: 4, [batch: 3360 / 6720], examples_per_second: 3433.0302, train_label_loss: 0.7177, \n"
     ]
    },
    {
     "name": "stdout",
     "output_type": "stream",
     "text": [
      "epoch: 4, [batch: 4032 / 6720], examples_per_second: 3522.0257, train_label_loss: 0.6210, \n"
     ]
    },
    {
     "name": "stdout",
     "output_type": "stream",
     "text": [
      "epoch: 4, [batch: 4704 / 6720], examples_per_second: 3047.3590, train_label_loss: 1.0468, \n"
     ]
    },
    {
     "name": "stdout",
     "output_type": "stream",
     "text": [
      "epoch: 4, [batch: 5376 / 6720], examples_per_second: 3007.6689, train_label_loss: 0.7691, \n"
     ]
    },
    {
     "name": "stdout",
     "output_type": "stream",
     "text": [
      "epoch: 4, [batch: 6048 / 6720], examples_per_second: 2961.5146, train_label_loss: 0.8950, \n"
     ]
    },
    {
     "name": "stdout",
     "output_type": "stream",
     "text": [
      "=============================================================\n",
      "epoch: 4, source_val_acc_label: 0.6856, target_val_acc_label: 0.9501, source_val_label_loss: 0.8388, target_val_label_loss: 0.1959, \n",
      "=============================================================\n"
     ]
    },
    {
     "name": "stdout",
     "output_type": "stream",
     "text": [
      "epoch: 5, [batch: 1 / 6720], examples_per_second: 2.8327, train_label_loss: 1.2864, \n"
     ]
    },
    {
     "name": "stdout",
     "output_type": "stream",
     "text": [
      "epoch: 5, [batch: 672 / 6720], examples_per_second: 3063.6210, train_label_loss: 0.7046, \n"
     ]
    },
    {
     "name": "stdout",
     "output_type": "stream",
     "text": [
      "epoch: 5, [batch: 1344 / 6720], examples_per_second: 3446.6815, train_label_loss: 0.5656, \n"
     ]
    },
    {
     "name": "stdout",
     "output_type": "stream",
     "text": [
      "epoch: 5, [batch: 2016 / 6720], examples_per_second: 3461.5848, train_label_loss: 0.5093, \n"
     ]
    },
    {
     "name": "stdout",
     "output_type": "stream",
     "text": [
      "epoch: 5, [batch: 2688 / 6720], examples_per_second: 3475.3808, train_label_loss: 0.6448, \n"
     ]
    },
    {
     "name": "stdout",
     "output_type": "stream",
     "text": [
      "epoch: 5, [batch: 3360 / 6720], examples_per_second: 3378.8319, train_label_loss: 0.5689, \n"
     ]
    },
    {
     "name": "stdout",
     "output_type": "stream",
     "text": [
      "epoch: 5, [batch: 4032 / 6720], examples_per_second: 3524.9043, train_label_loss: 0.8522, \n"
     ]
    },
    {
     "name": "stdout",
     "output_type": "stream",
     "text": [
      "epoch: 5, [batch: 4704 / 6720], examples_per_second: 2975.7650, train_label_loss: 1.0548, \n"
     ]
    },
    {
     "name": "stdout",
     "output_type": "stream",
     "text": [
      "epoch: 5, [batch: 5376 / 6720], examples_per_second: 2999.9517, train_label_loss: 0.5992, \n"
     ]
    },
    {
     "name": "stdout",
     "output_type": "stream",
     "text": [
      "epoch: 5, [batch: 6048 / 6720], examples_per_second: 3030.9749, train_label_loss: 0.4207, \n"
     ]
    },
    {
     "name": "stdout",
     "output_type": "stream",
     "text": [
      "=============================================================\n",
      "epoch: 5, source_val_acc_label: 0.7009, target_val_acc_label: 0.9475, source_val_label_loss: 0.8005, target_val_label_loss: 0.2123, \n",
      "=============================================================\n"
     ]
    },
    {
     "name": "stdout",
     "output_type": "stream",
     "text": [
      "epoch: 6, [batch: 1 / 6720], examples_per_second: 2.8513, train_label_loss: 0.5017, \n"
     ]
    },
    {
     "name": "stdout",
     "output_type": "stream",
     "text": [
      "epoch: 6, [batch: 672 / 6720], examples_per_second: 3054.6345, train_label_loss: 1.0186, \n"
     ]
    },
    {
     "name": "stdout",
     "output_type": "stream",
     "text": [
      "epoch: 6, [batch: 1344 / 6720], examples_per_second: 3436.1137, train_label_loss: 0.6186, \n"
     ]
    },
    {
     "name": "stdout",
     "output_type": "stream",
     "text": [
      "epoch: 6, [batch: 2016 / 6720], examples_per_second: 3502.5844, train_label_loss: 0.8014, \n"
     ]
    },
    {
     "name": "stdout",
     "output_type": "stream",
     "text": [
      "epoch: 6, [batch: 2688 / 6720], examples_per_second: 3534.5792, train_label_loss: 0.4725, \n"
     ]
    },
    {
     "name": "stdout",
     "output_type": "stream",
     "text": [
      "epoch: 6, [batch: 3360 / 6720], examples_per_second: 3463.5741, train_label_loss: 0.7688, \n"
     ]
    },
    {
     "name": "stdout",
     "output_type": "stream",
     "text": [
      "epoch: 6, [batch: 4032 / 6720], examples_per_second: 3430.4031, train_label_loss: 0.6338, \n"
     ]
    },
    {
     "name": "stdout",
     "output_type": "stream",
     "text": [
      "epoch: 6, [batch: 4704 / 6720], examples_per_second: 2989.1672, train_label_loss: 0.9079, \n"
     ]
    },
    {
     "name": "stdout",
     "output_type": "stream",
     "text": [
      "epoch: 6, [batch: 5376 / 6720], examples_per_second: 3013.6686, train_label_loss: 0.8074, \n"
     ]
    },
    {
     "name": "stdout",
     "output_type": "stream",
     "text": [
      "epoch: 6, [batch: 6048 / 6720], examples_per_second: 2960.3401, train_label_loss: 0.4632, \n"
     ]
    },
    {
     "name": "stdout",
     "output_type": "stream",
     "text": [
      "=============================================================\n",
      "epoch: 6, source_val_acc_label: 0.6887, target_val_acc_label: 0.9445, source_val_label_loss: 0.8228, target_val_label_loss: 0.2153, \n",
      "=============================================================\n"
     ]
    },
    {
     "name": "stdout",
     "output_type": "stream",
     "text": [
      "Patience (3) exhausted\n"
     ]
    }
   ],
   "source": [
    "###################################\n",
    "# train\n",
    "###################################\n",
    "jig = PTN_Train_Eval_Test_Jig(model, p.BEST_MODEL_PATH, p.device)\n",
    "\n",
    "jig.train(\n",
    "    train_iterable=datasets.source.processed.train,\n",
    "    source_val_iterable=datasets.source.processed.val,\n",
    "    target_val_iterable=datasets.target.processed.val,\n",
    "    num_epochs=p.n_epoch,\n",
    "    num_logs_per_epoch=p.NUM_LOGS_PER_EPOCH,\n",
    "    patience=p.patience,\n",
    "    optimizer=optimizer,\n",
    "    criteria_for_best=p.criteria_for_best,\n",
    ")"
   ]
  },
  {
   "cell_type": "code",
   "execution_count": 23,
   "id": "31e8fabf",
   "metadata": {
    "execution": {
     "iopub.execute_input": "2022-03-28T17:47:02.468587Z",
     "iopub.status.busy": "2022-03-28T17:47:02.468212Z",
     "iopub.status.idle": "2022-03-28T17:47:02.499516Z",
     "shell.execute_reply": "2022-03-28T17:47:02.498793Z"
    },
    "papermill": {
     "duration": 0.079097,
     "end_time": "2022-03-28T17:47:02.499727",
     "exception": false,
     "start_time": "2022-03-28T17:47:02.420630",
     "status": "completed"
    },
    "tags": []
   },
   "outputs": [],
   "source": [
    "total_experiment_time_secs = time.time() - start_time_secs"
   ]
  },
  {
   "cell_type": "code",
   "execution_count": 24,
   "id": "87b9595b",
   "metadata": {
    "execution": {
     "iopub.execute_input": "2022-03-28T17:47:02.600475Z",
     "iopub.status.busy": "2022-03-28T17:47:02.598945Z",
     "iopub.status.idle": "2022-03-28T17:50:20.736706Z",
     "shell.execute_reply": "2022-03-28T17:50:20.735963Z"
    },
    "papermill": {
     "duration": 198.189111,
     "end_time": "2022-03-28T17:50:20.736896",
     "exception": false,
     "start_time": "2022-03-28T17:47:02.547785",
     "status": "completed"
    },
    "tags": []
   },
   "outputs": [],
   "source": [
    "###################################\n",
    "# Evaluate the model\n",
    "###################################\n",
    "source_test_label_accuracy, source_test_label_loss = jig.test(datasets.source.processed.test)\n",
    "target_test_label_accuracy, target_test_label_loss = jig.test(datasets.target.processed.test)\n",
    "\n",
    "source_val_label_accuracy, source_val_label_loss = jig.test(datasets.source.processed.val)\n",
    "target_val_label_accuracy, target_val_label_loss = jig.test(datasets.target.processed.val)\n",
    "\n",
    "history = jig.get_history()\n",
    "\n",
    "total_epochs_trained = len(history[\"epoch_indices\"])\n",
    "\n",
    "val_dl = Iterable_Aggregator((datasets.source.original.val,datasets.target.original.val))\n",
    "\n",
    "confusion = ptn_confusion_by_domain_over_dataloader(model, p.device, val_dl)\n",
    "per_domain_accuracy = per_domain_accuracy_from_confusion(confusion)\n",
    "\n",
    "# Add a key to per_domain_accuracy for if it was a source domain\n",
    "for domain, accuracy in per_domain_accuracy.items():\n",
    "    per_domain_accuracy[domain] = {\n",
    "        \"accuracy\": accuracy,\n",
    "        \"source?\": domain in p.domains_source\n",
    "    }\n",
    "\n",
    "# Do an independent accuracy assesment JUST TO BE SURE!\n",
    "# _source_test_label_accuracy = independent_accuracy_assesment(model, datasets.source.processed.test, p.device)\n",
    "# _target_test_label_accuracy = independent_accuracy_assesment(model, datasets.target.processed.test, p.device)\n",
    "# _source_val_label_accuracy = independent_accuracy_assesment(model, datasets.source.processed.val, p.device)\n",
    "# _target_val_label_accuracy = independent_accuracy_assesment(model, datasets.target.processed.val, p.device)\n",
    "\n",
    "# assert(_source_test_label_accuracy == source_test_label_accuracy)\n",
    "# assert(_target_test_label_accuracy == target_test_label_accuracy)\n",
    "# assert(_source_val_label_accuracy == source_val_label_accuracy)\n",
    "# assert(_target_val_label_accuracy == target_val_label_accuracy)\n",
    "\n",
    "experiment = {\n",
    "    \"experiment_name\": p.experiment_name,\n",
    "    \"parameters\": dict(p),\n",
    "    \"results\": {\n",
    "        \"source_test_label_accuracy\": source_test_label_accuracy,\n",
    "        \"source_test_label_loss\": source_test_label_loss,\n",
    "        \"target_test_label_accuracy\": target_test_label_accuracy,\n",
    "        \"target_test_label_loss\": target_test_label_loss,\n",
    "        \"source_val_label_accuracy\": source_val_label_accuracy,\n",
    "        \"source_val_label_loss\": source_val_label_loss,\n",
    "        \"target_val_label_accuracy\": target_val_label_accuracy,\n",
    "        \"target_val_label_loss\": target_val_label_loss,\n",
    "        \"total_epochs_trained\": total_epochs_trained,\n",
    "        \"total_experiment_time_secs\": total_experiment_time_secs,\n",
    "        \"confusion\": confusion,\n",
    "        \"per_domain_accuracy\": per_domain_accuracy,\n",
    "    },\n",
    "    \"history\": history,\n",
    "    \"dataset_metrics\": get_dataset_metrics(datasets, \"ptn\"),\n",
    "}"
   ]
  },
  {
   "cell_type": "code",
   "execution_count": 25,
   "id": "54a21829",
   "metadata": {
    "execution": {
     "iopub.execute_input": "2022-03-28T17:50:20.831828Z",
     "iopub.status.busy": "2022-03-28T17:50:20.830890Z",
     "iopub.status.idle": "2022-03-28T17:50:21.053931Z",
     "shell.execute_reply": "2022-03-28T17:50:21.054619Z"
    },
    "papermill": {
     "duration": 0.270901,
     "end_time": "2022-03-28T17:50:21.054809",
     "exception": false,
     "start_time": "2022-03-28T17:50:20.783908",
     "status": "completed"
    },
    "tags": []
   },
   "outputs": [
    {
     "data": {
      "image/png": "[encoded data removed]",
      "text/plain": [
       "<Figure size 1080x504 with 1 Axes>"
      ]
     },
     "metadata": {
      "needs_background": "light"
     },
     "output_type": "display_data"
    }
   ],
   "source": [
    "ax = get_loss_curve(experiment)\n",
    "plt.show()"
   ]
  },
  {
   "cell_type": "code",
   "execution_count": 26,
   "id": "fd8a0f60",
   "metadata": {
    "execution": {
     "iopub.execute_input": "2022-03-28T17:50:21.150696Z",
     "iopub.status.busy": "2022-03-28T17:50:21.150326Z",
     "iopub.status.idle": "2022-03-28T17:50:21.483038Z",
     "shell.execute_reply": "2022-03-28T17:50:21.483774Z"
    },
    "papermill": {
     "duration": 0.380294,
     "end_time": "2022-03-28T17:50:21.483964",
     "exception": false,
     "start_time": "2022-03-28T17:50:21.103670",
     "status": "completed"
    },
    "tags": []
   },
   "outputs": [
    {
     "data": {
      "text/plain": [
       "<AxesSubplot:title={'center':'Results'}>"
      ]
     },
     "execution_count": 26,
     "metadata": {},
     "output_type": "execute_result"
    },
    {
     "data": {
      "image/png": "[encoded data removed]",
      "text/plain": [
       "<Figure size 1080x504 with 1 Axes>"
      ]
     },
     "metadata": {
      "needs_background": "light"
     },
     "output_type": "display_data"
    }
   ],
   "source": [
    "get_results_table(experiment)"
   ]
  },
  {
   "cell_type": "code",
   "execution_count": 27,
   "id": "cf8dc689",
   "metadata": {
    "execution": {
     "iopub.execute_input": "2022-03-28T17:50:21.582790Z",
     "iopub.status.busy": "2022-03-28T17:50:21.582413Z",
     "iopub.status.idle": "2022-03-28T17:50:21.819438Z",
     "shell.execute_reply": "2022-03-28T17:50:21.820147Z"
    },
    "papermill": {
     "duration": 0.286408,
     "end_time": "2022-03-28T17:50:21.820332",
     "exception": false,
     "start_time": "2022-03-28T17:50:21.533924",
     "status": "completed"
    },
    "tags": []
   },
   "outputs": [
    {
     "data": {
      "text/plain": [
       "<AxesSubplot:title={'center':'Per Domain Validation Accuracy'}, xlabel='domain'>"
      ]
     },
     "execution_count": 27,
     "metadata": {},
     "output_type": "execute_result"
    },
    {
     "data": {
      "image/png": "[encoded data removed]",
      "text/plain": [
       "<Figure size 1080x504 with 1 Axes>"
      ]
     },
     "metadata": {
      "needs_background": "light"
     },
     "output_type": "display_data"
    }
   ],
   "source": [
    "get_domain_accuracies(experiment)"
   ]
  },
  {
   "cell_type": "code",
   "execution_count": 28,
   "id": "a74ae082",
   "metadata": {
    "execution": {
     "iopub.execute_input": "2022-03-28T17:50:21.921290Z",
     "iopub.status.busy": "2022-03-28T17:50:21.920720Z",
     "iopub.status.idle": "2022-03-28T17:50:21.945699Z",
     "shell.execute_reply": "2022-03-28T17:50:21.944885Z"
    },
    "papermill": {
     "duration": 0.074764,
     "end_time": "2022-03-28T17:50:21.945857",
     "exception": false,
     "start_time": "2022-03-28T17:50:21.871093",
     "status": "completed"
    },
    "tags": []
   },
   "outputs": [
    {
     "name": "stdout",
     "output_type": "stream",
     "text": [
      "Source Test Label Accuracy: 0.6495442708333333 Target Test Label Accuracy: 0.9605225988700565\n",
      "Source Val Label Accuracy: 0.6469075520833333 Target Val Label Accuracy: 0.9596785714285714\n"
     ]
    }
   ],
   "source": [
    "print(\"Source Test Label Accuracy:\", experiment[\"results\"][\"source_test_label_accuracy\"], \"Target Test Label Accuracy:\", experiment[\"results\"][\"target_test_label_accuracy\"])\n",
    "print(\"Source Val Label Accuracy:\", experiment[\"results\"][\"source_val_label_accuracy\"], \"Target Val Label Accuracy:\", experiment[\"results\"][\"target_val_label_accuracy\"])"
   ]
  },
  {
   "cell_type": "code",
   "execution_count": 29,
   "id": "dacca602",
   "metadata": {
    "execution": {
     "iopub.execute_input": "2022-03-28T17:50:22.047664Z",
     "iopub.status.busy": "2022-03-28T17:50:22.047266Z",
     "iopub.status.idle": "2022-03-28T17:50:22.066738Z",
     "shell.execute_reply": "2022-03-28T17:50:22.067414Z"
    },
    "papermill": {
     "duration": 0.069535,
     "end_time": "2022-03-28T17:50:22.067632",
     "exception": false,
     "start_time": "2022-03-28T17:50:21.998097",
     "status": "completed"
    },
    "tags": [
     "experiment_json"
    ]
   },
   "outputs": [
    {
     "data": {
      "text/plain": [
       "'{\"experiment_name\": \"tl_3-jitter5v2:oracle.run1.framed -> cores\", \"parameters\": {\"experiment_name\": \"tl_3-jitter5v2:oracle.run1.framed -> cores\", \"device\": \"cuda\", \"lr\": 0.0001, \"x_shape\": [2, 256], \"n_shot\": 3, \"n_query\": 2, \"train_k_factor\": 3, \"val_k_factor\": 2, \"test_k_factor\": 2, \"torch_default_dtype\": \"torch.float32\", \"n_epoch\": 50, \"patience\": 3, \"criteria_for_best\": \"target_accuracy\", \"x_net\": [{\"class\": \"nnReshape\", \"kargs\": {\"shape\": [-1, 1, 2, 256]}}, {\"class\": \"Conv2d\", \"kargs\": {\"in_channels\": 1, \"out_channels\": 256, \"kernel_size\": [1, 7], \"bias\": false, \"padding\": [0, 3]}}, {\"class\": \"ReLU\", \"kargs\": {\"inplace\": true}}, {\"class\": \"BatchNorm2d\", \"kargs\": {\"num_features\": 256}}, {\"class\": \"Conv2d\", \"kargs\": {\"in_channels\": 256, \"out_channels\": 80, \"kernel_size\": [2, 7], \"bias\": true, \"padding\": [0, 3]}}, {\"class\": \"ReLU\", \"kargs\": {\"inplace\": true}}, {\"class\": \"BatchNorm2d\", \"kargs\": {\"num_features\": 80}}, {\"class\": \"Flatten\", \"kargs\": {}}, {\"class\": \"Linear\", \"kargs\": {\"in_features\": 20480, \"out_features\": 256}}, {\"class\": \"ReLU\", \"kargs\": {\"inplace\": true}}, {\"class\": \"BatchNorm1d\", \"kargs\": {\"num_features\": 256}}, {\"class\": \"Linear\", \"kargs\": {\"in_features\": 256, \"out_features\": 256}}], \"NUM_LOGS_PER_EPOCH\": 10, \"BEST_MODEL_PATH\": \"./best_model.pth\", \"n_way\": 16, \"datasets\": [{\"labels\": [\"1-10.\", \"1-11.\", \"1-15.\", \"1-16.\", \"1-17.\", \"1-18.\", \"1-19.\", \"10-4.\", \"10-7.\", \"11-1.\", \"11-14.\", \"11-17.\", \"11-20.\", \"11-7.\", \"13-20.\", \"13-8.\", \"14-10.\", \"14-11.\", \"14-14.\", \"14-7.\", \"15-1.\", \"15-20.\", \"16-1.\", \"16-16.\", \"17-10.\", \"17-11.\", \"17-2.\", \"19-1.\", \"19-16.\", \"19-19.\", \"19-20.\", \"19-3.\", \"2-10.\", \"2-11.\", \"2-17.\", \"2-18.\", \"2-20.\", \"2-3.\", \"2-4.\", \"2-5.\", \"2-6.\", \"2-7.\", \"2-8.\", \"3-13.\", \"3-18.\", \"3-3.\", \"4-1.\", \"4-10.\", \"4-11.\", \"4-19.\", \"5-5.\", \"6-15.\", \"7-10.\", \"7-14.\", \"8-18.\", \"8-20.\", \"8-3.\", \"8-8.\"], \"domains\": [1, 2, 3, 4, 5], \"num_examples_per_domain_per_label\": -1, \"pickle_path\": \"/root/csc500-main/datasets/cores.stratified_ds.2022A.pkl\", \"source_or_target_dataset\": \"target\", \"x_transforms\": [\"unit_power\", \"jitter_256_5\", \"lowpass_+/-10MHz\", \"take_200\"], \"episode_transforms\": [], \"domain_prefix\": \"C_\"}, {\"labels\": [\"3123D52\", \"3123D65\", \"3123D79\", \"3123D80\", \"3123D54\", \"3123D70\", \"3123D7B\", \"3123D89\", \"3123D58\", \"3123D76\", \"3123D7D\", \"3123EFE\", \"3123D64\", \"3123D78\", \"3123D7E\", \"3124E4A\"], \"domains\": [32, 38, 8, 44, 14, 50, 20, 26], \"num_examples_per_domain_per_label\": 2000, \"pickle_path\": \"/root/csc500-main/datasets/oracle.Run1_framed_2000Examples_stratified_ds.2022A.pkl\", \"source_or_target_dataset\": \"source\", \"x_transforms\": [\"unit_power\", \"jitter_256_5\", \"take_200\", \"resample_20Msps_to_25Msps\"], \"episode_transforms\": [], \"domain_prefix\": \"O_\"}], \"seed\": 7, \"dataset_seed\": 7, \"domains_source\": [\"O_32\", \"O_38\", \"O_8\", \"O_44\", \"O_14\", \"O_50\", \"O_20\", \"O_26\"], \"domains_target\": [\"C_1\", \"C_2\", \"C_3\", \"C_4\", \"C_5\"]}, \"results\": {\"source_test_label_accuracy\": 0.6495442708333333, \"source_test_label_loss\": 0.9267385601997375, \"target_test_label_accuracy\": 0.9605225988700565, \"target_test_label_loss\": 0.16923445463180542, \"source_val_label_accuracy\": 0.6469075520833333, \"source_val_label_loss\": 0.9355596899986267, \"target_val_label_accuracy\": 0.9596785714285714, \"target_val_label_loss\": 0.163302943110466, \"total_epochs_trained\": 6, \"total_experiment_time_secs\": 1301.2874920368195, \"confusion\": {\"O_26\": {\"0\": {\"14\": 50, \"0\": 61, \"10\": 40, \"8\": 21, \"4\": 41, \"1\": 20, \"6\": 4, \"7\": 3}, \"4\": {\"4\": 86, \"14\": 48, \"10\": 9, \"0\": 22, \"8\": 19, \"7\": 16, \"1\": 40}, \"14\": {\"14\": 68, \"1\": 51, \"4\": 39, \"0\": 45, \"10\": 24, \"7\": 6, \"8\": 7}, \"12\": {\"12\": 239, \"11\": 1}, \"8\": {\"8\": 88, \"10\": 37, \"4\": 16, \"7\": 29, \"1\": 5, \"0\": 22, \"9\": 14, \"15\": 17, \"14\": 7, \"6\": 4, \"2\": 1}, \"7\": {\"4\": 17, \"2\": 14, \"7\": 160, \"3\": 27, \"8\": 9, \"15\": 1, \"1\": 5, \"14\": 4, \"9\": 1, \"0\": 2}, \"13\": {\"13\": 160, \"5\": 58, \"15\": 10, \"9\": 6, \"2\": 4, \"6\": 2}, \"5\": {\"5\": 129, \"2\": 8, \"13\": 30, \"8\": 3, \"15\": 42, \"9\": 27, \"6\": 1}, \"15\": {\"5\": 30, \"15\": 76, \"9\": 71, \"13\": 10, \"8\": 19, \"7\": 9, \"2\": 12, \"4\": 2, \"6\": 8, \"10\": 2, \"3\": 1}, \"10\": {\"6\": 21, \"0\": 48, \"10\": 95, \"8\": 41, \"4\": 14, \"14\": 13, \"1\": 4, \"9\": 3, \"15\": 1}, \"3\": {\"3\": 136, \"2\": 65, \"7\": 37, \"15\": 1, \"5\": 1}, \"9\": {\"9\": 97, \"5\": 24, \"15\": 72, \"13\": 8, \"8\": 9, \"2\": 4, \"6\": 22, \"10\": 2, \"7\": 2}, \"6\": {\"6\": 160, \"0\": 7, \"8\": 10, \"9\": 29, \"10\": 23, \"15\": 7, \"14\": 1, \"13\": 2, \"5\": 1}, \"1\": {\"10\": 9, \"1\": 100, \"4\": 55, \"14\": 45, \"8\": 7, \"0\": 16, \"7\": 7, \"3\": 1}, \"11\": {\"11\": 237, \"12\": 3}, \"2\": {\"5\": 29, \"2\": 88, \"13\": 2, \"3\": 74, \"7\": 25, \"15\": 13, \"8\": 7, \"9\": 2}}, \"O_44\": {\"1\": {\"1\": 125, \"3\": 33, \"12\": 47, \"10\": 25, \"2\": 10}, \"11\": {\"11\": 164, \"13\": 44, \"6\": 31, \"9\": 1}, \"3\": {\"3\": 207, \"1\": 31, \"7\": 1, \"12\": 1}, \"6\": {\"6\": 142, \"9\": 15, \"13\": 35, \"11\": 33, \"7\": 15}, \"7\": {\"7\": 154, \"2\": 41, \"6\": 8, \"9\": 33, \"10\": 2, \"13\": 1, \"1\": 1}, \"5\": {\"5\": 199, \"0\": 14, \"14\": 9, \"15\": 11, \"8\": 6, \"4\": 1}, \"2\": {\"2\": 175, \"7\": 39, \"10\": 14, \"1\": 11, \"3\": 1}, \"15\": {\"15\": 154, \"14\": 37, \"0\": 20, \"8\": 11, \"5\": 16, \"4\": 2}, \"10\": {\"10\": 162, \"1\": 35, \"2\": 19, \"12\": 24}, \"13\": {\"13\": 133, \"11\": 37, \"6\": 36, \"9\": 26, \"4\": 4, \"7\": 4}, \"8\": {\"0\": 90, \"8\": 136, \"15\": 13, \"5\": 1}, \"4\": {\"14\": 74, \"4\": 161, \"15\": 4, \"13\": 1}, \"9\": {\"13\": 28, \"9\": 128, \"7\": 54, \"6\": 26, \"2\": 3, \"3\": 1}, \"14\": {\"4\": 84, \"14\": 120, \"5\": 12, \"15\": 24}, \"0\": {\"0\": 139, \"8\": 73, \"5\": 19, \"15\": 9}, \"12\": {\"10\": 17, \"12\": 177, \"1\": 45, \"3\": 1}}, \"O_50\": {\"15\": {\"15\": 156, \"4\": 34, \"1\": 40, \"6\": 1, \"11\": 8, \"5\": 1}, \"4\": {\"4\": 68, \"5\": 23, \"15\": 58, \"6\": 37, \"1\": 44, \"2\": 1, \"7\": 7, \"13\": 1, \"0\": 1}, \"6\": {\"6\": 112, \"5\": 40, \"4\": 38, \"13\": 27, \"7\": 2, \"0\": 3, \"1\": 18}, \"2\": {\"2\": 210, \"0\": 30}, \"5\": {\"7\": 51, \"5\": 55, \"6\": 54, \"13\": 46, \"4\": 25, \"1\": 5, \"10\": 3, \"15\": 1}, \"9\": {\"11\": 38, \"9\": 180, \"12\": 21, \"14\": 1}, \"8\": {\"8\": 231, \"3\": 5, \"10\": 4}, \"12\": {\"14\": 10, \"12\": 204, \"9\": 21, \"11\": 5}, \"10\": {\"10\": 209, \"0\": 8, \"8\": 7, \"13\": 6, \"7\": 9, \"5\": 1}, \"1\": {\"15\": 50, \"5\": 7, \"4\": 41, \"6\": 19, \"1\": 120, \"2\": 2, \"11\": 1}, \"0\": {\"0\": 208, \"2\": 18, \"10\": 11, \"13\": 3}, \"3\": {\"3\": 237, \"8\": 3}, \"13\": {\"5\": 50, \"13\": 113, \"10\": 4, \"6\": 24, \"4\": 1, \"7\": 47, \"0\": 1}, \"11\": {\"11\": 207, \"9\": 21, \"1\": 1, \"14\": 6, \"15\": 5}, \"7\": {\"7\": 144, \"10\": 14, \"5\": 28, \"13\": 52, \"6\": 2}, \"14\": {\"14\": 229, \"12\": 8, \"11\": 2, \"9\": 1}}, \"O_38\": {\"15\": {\"8\": 11, \"15\": 118, \"13\": 82, \"5\": 9, \"10\": 5, \"1\": 14, \"0\": 1}, \"11\": {\"11\": 167, \"14\": 69, \"12\": 3, \"2\": 1}, \"10\": {\"10\": 161, \"13\": 16, \"14\": 3, \"8\": 17, \"0\": 9, \"12\": 19, \"15\": 11, \"2\": 2, \"5\": 2}, \"14\": {\"14\": 153, \"11\": 69, \"2\": 17, \"10\": 1}, \"6\": {\"6\": 165, \"5\": 8, \"9\": 66, \"0\": 1}, \"4\": {\"4\": 207, \"12\": 33}, \"13\": {\"13\": 114, \"15\": 80, \"8\": 9, \"10\": 17, \"2\": 12, \"1\": 8}, \"3\": {\"9\": 35, \"3\": 182, \"5\": 8, \"6\": 5, \"0\": 2, \"7\": 8}, \"7\": {\"0\": 53, \"7\": 162, \"5\": 14, \"3\": 3, \"8\": 8}, \"8\": {\"0\": 36, \"8\": 135, \"7\": 9, \"5\": 44, \"15\": 10, \"13\": 2, \"10\": 4}, \"1\": {\"1\": 213, \"15\": 24, \"13\": 2, \"5\": 1}, \"5\": {\"5\": 75, \"8\": 74, \"7\": 21, \"3\": 8, \"15\": 7, \"10\": 2, \"0\": 30, \"13\": 4, \"1\": 5, \"6\": 13, \"9\": 1}, \"0\": {\"7\": 60, \"3\": 9, \"8\": 77, \"0\": 52, \"10\": 5, \"5\": 31, \"4\": 1, \"12\": 1, \"15\": 3, \"9\": 1}, \"2\": {\"2\": 216, \"14\": 18, \"10\": 3, \"13\": 2, \"15\": 1}, \"12\": {\"12\": 216, \"10\": 9, \"4\": 15}, \"9\": {\"6\": 101, \"9\": 113, \"3\": 24, \"5\": 2}}, \"O_20\": {\"10\": {\"10\": 168, \"14\": 49, \"8\": 16, \"4\": 6, \"6\": 1}, \"7\": {\"6\": 7, \"9\": 29, \"7\": 129, \"2\": 42, \"3\": 19, \"8\": 11, \"12\": 3}, \"4\": {\"4\": 173, \"10\": 6, \"8\": 52, \"3\": 8, \"5\": 1}, \"13\": {\"13\": 212, \"2\": 12, \"9\": 8, \"15\": 5, \"1\": 2, \"12\": 1}, \"1\": {\"15\": 44, \"0\": 42, \"1\": 74, \"5\": 47, \"12\": 21, \"13\": 1, \"2\": 3, \"3\": 7, \"9\": 1}, \"0\": {\"15\": 45, \"5\": 49, \"0\": 68, \"9\": 7, \"1\": 43, \"12\": 16, \"2\": 3, \"3\": 9}, \"12\": {\"5\": 30, \"12\": 96, \"3\": 41, \"9\": 24, \"2\": 12, \"15\": 5, \"1\": 21, \"0\": 9, \"13\": 1, \"7\": 1}, \"5\": {\"5\": 112, \"0\": 44, \"1\": 39, \"12\": 29, \"3\": 13, \"15\": 1, \"9\": 2}, \"6\": {\"6\": 209, \"14\": 23, \"8\": 3, \"10\": 5}, \"2\": {\"12\": 17, \"7\": 38, \"8\": 2, \"9\": 73, \"2\": 81, \"13\": 11, \"1\": 6, \"5\": 2, \"3\": 10}, \"8\": {\"8\": 140, \"4\": 46, \"3\": 9, \"10\": 19, \"7\": 15, \"6\": 1, \"14\": 8, \"2\": 1, \"9\": 1}, \"11\": {\"11\": 240}, \"9\": {\"9\": 87, \"0\": 2, \"3\": 27, \"13\": 7, \"2\": 72, \"7\": 21, \"8\": 2, \"12\": 19, \"1\": 3}, \"14\": {\"14\": 145, \"10\": 66, \"6\": 27, \"4\": 1, \"8\": 1}, \"15\": {\"1\": 53, \"15\": 133, \"0\": 31, \"5\": 7, \"13\": 11, \"12\": 5}, \"3\": {\"3\": 91, \"8\": 16, \"9\": 23, \"12\": 55, \"7\": 17, \"4\": 12, \"2\": 10, \"1\": 5, \"0\": 3, \"5\": 8}}, \"O_14\": {\"14\": {\"14\": 165, \"2\": 16, \"13\": 34, \"6\": 18, \"3\": 5, \"10\": 2}, \"0\": {\"10\": 67, \"0\": 164, \"3\": 4, \"11\": 5}, \"4\": {\"5\": 44, \"4\": 162, \"3\": 17, \"1\": 12, \"2\": 5}, \"11\": {\"11\": 195, \"9\": 18, \"10\": 20, \"0\": 7}, \"13\": {\"6\": 82, \"14\": 64, \"13\": 59, \"2\": 27, \"5\": 7, \"3\": 1}, \"9\": {\"9\": 236, \"12\": 2, \"11\": 2}, \"3\": {\"3\": 208, \"2\": 11, \"4\": 17, \"14\": 3, \"0\": 1}, \"6\": {\"6\": 121, \"13\": 69, \"14\": 30, \"2\": 20}, \"1\": {\"1\": 218, \"5\": 21, \"4\": 1}, \"5\": {\"4\": 64, \"5\": 137, \"1\": 30, \"2\": 6, \"3\": 2, \"13\": 1}, \"12\": {\"12\": 236, \"9\": 4}, \"10\": {\"0\": 28, \"10\": 211, \"11\": 1}, \"8\": {\"8\": 240}, \"7\": {\"7\": 223, \"15\": 17}, \"15\": {\"15\": 205, \"7\": 35}, \"2\": {\"2\": 105, \"6\": 37, \"14\": 29, \"13\": 26, \"5\": 24, \"3\": 11, \"4\": 6, \"15\": 2}}, \"O_32\": {\"11\": {\"14\": 57, \"11\": 173, \"3\": 4, \"7\": 4, \"13\": 2}, \"1\": {\"1\": 240}, \"2\": {\"2\": 180, \"4\": 41, \"0\": 14, \"7\": 4, \"5\": 1}, \"0\": {\"0\": 109, \"4\": 60, \"8\": 20, \"7\": 12, \"2\": 18, \"13\": 6, \"5\": 13, \"14\": 2}, \"3\": {\"3\": 222, \"8\": 2, \"5\": 5, \"13\": 9, \"11\": 2}, \"8\": {\"8\": 157, \"0\": 16, \"5\": 23, \"13\": 40, \"3\": 2, \"15\": 1, \"4\": 1}, \"12\": {\"12\": 240}, \"5\": {\"13\": 70, \"5\": 51, \"4\": 14, \"3\": 13, \"7\": 36, \"8\": 25, \"0\": 22, \"11\": 1, \"14\": 8}, \"15\": {\"15\": 236, \"3\": 2, \"8\": 2}, \"7\": {\"14\": 45, \"0\": 8, \"7\": 86, \"13\": 22, \"2\": 8, \"5\": 39, \"4\": 26, \"11\": 5, \"3\": 1}, \"4\": {\"2\": 37, \"4\": 77, \"8\": 8, \"0\": 73, \"7\": 23, \"13\": 5, \"5\": 12, \"14\": 5}, \"14\": {\"14\": 87, \"2\": 1, \"5\": 9, \"11\": 67, \"13\": 8, \"7\": 53, \"4\": 7, \"0\": 4, \"3\": 3, \"8\": 1}, \"10\": {\"10\": 239, \"1\": 1}, \"6\": {\"6\": 240}, \"13\": {\"13\": 78, \"8\": 39, \"0\": 19, \"5\": 58, \"7\": 17, \"4\": 6, \"3\": 15, \"14\": 7, \"11\": 1}, \"9\": {\"9\": 239, \"12\": 1}}, \"O_8\": {\"9\": {\"9\": 240}, \"11\": {\"11\": 120, \"1\": 103, \"5\": 13, \"8\": 3, \"14\": 1}, \"8\": {\"8\": 229, \"15\": 11}, \"4\": {\"4\": 125, \"13\": 41, \"14\": 34, \"6\": 34, \"10\": 5, \"0\": 1}, \"13\": {\"13\": 91, \"0\": 61, \"14\": 26, \"10\": 15, \"4\": 36, \"6\": 6, \"7\": 5}, \"14\": {\"10\": 67, \"4\": 45, \"14\": 94, \"1\": 15, \"11\": 2, \"13\": 14, \"6\": 2, \"5\": 1}, \"2\": {\"3\": 44, \"2\": 182, \"15\": 6, \"7\": 7, \"12\": 1}, \"3\": {\"3\": 205, \"2\": 17, \"12\": 17, \"15\": 1}, \"1\": {\"1\": 147, \"11\": 81, \"14\": 8, \"5\": 4}, \"0\": {\"0\": 178, \"13\": 42, \"6\": 2, \"10\": 3, \"4\": 4, \"7\": 11}, \"5\": {\"5\": 203, \"10\": 14, \"11\": 3, \"14\": 7, \"1\": 13}, \"15\": {\"12\": 42, \"15\": 182, \"8\": 15, \"3\": 1}, \"10\": {\"10\": 158, \"14\": 44, \"13\": 25, \"4\": 7, \"5\": 4, \"0\": 2}, \"12\": {\"12\": 129, \"15\": 78, \"3\": 29, \"8\": 4}, \"6\": {\"0\": 6, \"6\": 138, \"4\": 29, \"7\": 60, \"13\": 6, \"14\": 1}, \"7\": {\"7\": 167, \"13\": 3, \"6\": 59, \"0\": 7, \"4\": 3, \"8\": 1}}, \"C_5\": {\"26\": {\"26\": 24}, \"7\": {\"7\": 32}, \"56\": {\"56\": 142}, \"36\": {\"36\": 91, \"40\": 1}, \"47\": {\"47\": 100}, \"2\": {\"2\": 28}, \"15\": {\"15\": 151, \"11\": 1}, \"14\": {\"36\": 6, \"49\": 7, \"47\": 3, \"14\": 18, \"35\": 2, \"57\": 4, \"33\": 1, \"0\": 1, \"31\": 2}, \"27\": {\"27\": 146}, \"40\": {\"40\": 120, \"34\": 1, \"28\": 2, \"45\": 1}, \"49\": {\"49\": 33, \"14\": 3}, \"45\": {\"27\": 18, \"32\": 1, \"45\": 77, \"33\": 1, \"30\": 1, \"9\": 11, \"48\": 14, \"1\": 1}, \"46\": {\"46\": 133, \"3\": 3}, \"11\": {\"11\": 127, \"15\": 2, \"43\": 1}, \"30\": {\"30\": 112}, \"0\": {\"0\": 121, \"35\": 1, \"2\": 1, \"56\": 1}, \"10\": {\"10\": 60, \"13\": 7, \"24\": 1}, \"1\": {\"1\": 130, \"55\": 18}, \"42\": {\"42\": 38, \"2\": 1, \"0\": 1}, \"54\": {\"54\": 112}, \"55\": {\"55\": 138, \"1\": 14}, \"23\": {\"23\": 124}, \"25\": {\"25\": 135, \"42\": 1, \"18\": 2, \"23\": 11, \"8\": 1, \"50\": 2}, \"28\": {\"28\": 32}, \"32\": {\"32\": 32}, \"9\": {\"9\": 133, \"45\": 1, \"48\": 6, \"27\": 2}, \"39\": {\"39\": 20}, \"3\": {\"46\": 4, \"3\": 96}, \"29\": {\"29\": 118}, \"17\": {\"17\": 115, \"45\": 1}, \"35\": {\"35\": 36}, \"44\": {\"44\": 152}, \"5\": {\"5\": 127, \"40\": 1}, \"33\": {\"33\": 32}, \"34\": {\"34\": 36}, \"13\": {\"15\": 3, \"10\": 18, \"13\": 114, \"11\": 2, \"24\": 1}, \"41\": {\"39\": 2, \"41\": 26}, \"6\": {\"6\": 118, \"8\": 4, \"30\": 2, \"55\": 2, \"1\": 1, \"18\": 1}, \"51\": {\"51\": 137, \"53\": 1}, \"50\": {\"50\": 104, \"20\": 31, \"23\": 2, \"25\": 6, \"16\": 1}, \"37\": {\"37\": 24}, \"19\": {\"19\": 144}, \"57\": {\"57\": 132}, \"21\": {\"21\": 144}, \"24\": {\"24\": 79, \"43\": 1}, \"8\": {\"8\": 130}, \"12\": {\"12\": 94, \"7\": 2}, \"48\": {\"48\": 126, \"9\": 6}, \"43\": {\"43\": 144, \"15\": 4, \"11\": 2}, \"53\": {\"53\": 148}, \"38\": {\"38\": 32}, \"16\": {\"16\": 130, \"52\": 12}, \"22\": {\"22\": 28}, \"4\": {\"4\": 100}, \"18\": {\"18\": 64}, \"20\": {\"20\": 135, \"50\": 9}, \"52\": {\"16\": 7, \"52\": 133}, \"31\": {\"31\": 36}}, \"C_1\": {\"41\": {\"41\": 24}, \"40\": {\"40\": 110}, \"45\": {\"45\": 137, \"7\": 1}, \"51\": {\"51\": 146, \"13\": 2}, \"5\": {\"5\": 151, \"6\": 1, \"9\": 2}, \"30\": {\"30\": 120}, \"42\": {\"42\": 40}, \"46\": {\"46\": 132, \"53\": 4}, \"48\": {\"48\": 134}, \"53\": {\"53\": 144}, \"47\": {\"47\": 152}, \"49\": {\"49\": 26, \"23\": 5, \"15\": 1}, \"36\": {\"36\": 64}, \"32\": {\"32\": 32}, \"34\": {\"34\": 24}, \"29\": {\"29\": 140}, \"35\": {\"35\": 33, \"44\": 3}, \"3\": {\"3\": 134}, \"16\": {\"16\": 140}, \"26\": {\"26\": 24}, \"57\": {\"57\": 138, \"1\": 4, \"56\": 2}, \"44\": {\"35\": 8, \"44\": 120}, \"0\": {\"0\": 152}, \"4\": {\"4\": 132}, \"31\": {\"31\": 28}, \"11\": {\"11\": 127, \"52\": 8, \"10\": 5}, \"6\": {\"6\": 95, \"48\": 1}, \"54\": {\"54\": 102, \"55\": 2}, \"17\": {\"17\": 64}, \"20\": {\"20\": 128}, \"13\": {\"13\": 150}, \"33\": {\"33\": 32}, \"24\": {\"24\": 88, \"21\": 13, \"22\": 3, \"15\": 4}, \"52\": {\"11\": 6, \"52\": 118, \"10\": 8}, \"2\": {\"2\": 36}, \"19\": {\"19\": 154, \"1\": 2}, \"39\": {\"39\": 28}, \"8\": {\"8\": 140}, \"21\": {\"21\": 90, \"22\": 4, \"15\": 11, \"24\": 19}, \"10\": {\"10\": 78, \"52\": 12, \"11\": 5, \"15\": 1}, \"37\": {\"37\": 32}, \"25\": {\"25\": 141, \"18\": 3}, \"27\": {\"27\": 130}, \"23\": {\"23\": 124, \"49\": 5, \"15\": 6, \"0\": 1}, \"1\": {\"1\": 99, \"57\": 1}, \"50\": {\"50\": 152}, \"12\": {\"12\": 115, \"13\": 1}, \"18\": {\"18\": 71, \"25\": 1}, \"38\": {\"38\": 24}, \"14\": {\"37\": 1, \"30\": 2, \"25\": 1, \"45\": 5, \"46\": 1, \"14\": 6, \"18\": 1, \"55\": 2, \"53\": 2, \"7\": 2, \"5\": 1}, \"56\": {\"56\": 138, \"57\": 4}, \"55\": {\"55\": 158, \"54\": 2}, \"9\": {\"9\": 138}, \"15\": {\"15\": 145, \"23\": 1}, \"28\": {\"28\": 28}, \"7\": {\"7\": 27, \"45\": 1}, \"43\": {\"43\": 136}, \"22\": {\"22\": 117, \"21\": 9, \"24\": 5, \"15\": 3, \"11\": 2}}, \"C_3\": {\"1\": {\"1\": 89, \"35\": 2, \"34\": 5, \"57\": 3, \"28\": 1}, \"9\": {\"9\": 124}, \"22\": {\"22\": 136}, \"43\": {\"43\": 136}, \"49\": {\"49\": 20}, \"50\": {\"50\": 106, \"20\": 17, \"46\": 4, \"52\": 7, \"18\": 2, \"3\": 1, \"25\": 1}, \"53\": {\"53\": 136}, \"10\": {\"10\": 64}, \"48\": {\"48\": 114, \"9\": 2}, \"8\": {\"8\": 137, \"36\": 1}, \"31\": {\"31\": 28}, \"56\": {\"56\": 134}, \"25\": {\"25\": 115, \"23\": 2, \"6\": 7, \"33\": 3, \"52\": 2, \"50\": 1, \"30\": 4, \"20\": 1, \"18\": 4, \"46\": 3}, \"28\": {\"28\": 28}, \"38\": {\"38\": 28}, \"5\": {\"5\": 116}, \"12\": {\"12\": 89, \"38\": 2, \"8\": 1}, \"6\": {\"6\": 53, \"41\": 2, \"18\": 16, \"25\": 11, \"46\": 3, \"23\": 3}, \"19\": {\"19\": 148, \"40\": 4}, \"26\": {\"26\": 24}, \"32\": {\"32\": 28}, \"33\": {\"33\": 28}, \"3\": {\"3\": 101, \"16\": 2, \"46\": 1, \"50\": 2, \"52\": 11, \"20\": 1}, \"51\": {\"51\": 128}, \"16\": {\"16\": 137, \"46\": 1}, \"46\": {\"46\": 133, \"41\": 1, \"52\": 2, \"15\": 2, \"16\": 1, \"23\": 1}, \"7\": {\"7\": 35, \"43\": 1}, \"47\": {\"47\": 88, \"55\": 4}, \"39\": {\"39\": 16}, \"40\": {\"40\": 133, \"19\": 3}, \"14\": {\"14\": 23, \"0\": 1, \"56\": 5, \"34\": 2, \"35\": 2, \"22\": 5, \"28\": 2}, \"37\": {\"37\": 28}, \"2\": {\"2\": 32}, \"21\": {\"21\": 120}, \"35\": {\"35\": 28}, \"54\": {\"54\": 100}, \"52\": {\"52\": 112, \"3\": 3, \"50\": 1}, \"29\": {\"29\": 118}, \"20\": {\"20\": 118, \"50\": 14}, \"18\": {\"18\": 79, \"6\": 2, \"25\": 3}, \"11\": {\"11\": 142}, \"0\": {\"0\": 124}, \"36\": {\"36\": 100}, \"17\": {\"17\": 107, \"54\": 1}, \"30\": {\"30\": 114}, \"42\": {\"42\": 28}, \"45\": {\"45\": 59, \"27\": 1}, \"4\": {\"4\": 148}, \"23\": {\"23\": 132, \"55\": 1, \"47\": 1}, \"13\": {\"13\": 128}, \"15\": {\"15\": 125, \"47\": 2, \"5\": 1}, \"57\": {\"57\": 122, \"1\": 2}, \"27\": {\"27\": 134}, \"44\": {\"44\": 88}, \"34\": {\"34\": 31, \"1\": 1}, \"41\": {\"41\": 27, \"6\": 1}, \"24\": {\"24\": 103, \"43\": 1}, \"55\": {\"55\": 118}}, \"C_4\": {\"52\": {\"52\": 116}, \"6\": {\"6\": 85, \"53\": 9, \"50\": 2, \"15\": 1, \"51\": 3, \"3\": 3, \"20\": 7, \"16\": 1, \"36\": 1}, \"14\": {\"14\": 14, \"1\": 1, \"35\": 1}, \"49\": {\"49\": 20}, \"0\": {\"0\": 79, \"38\": 1}, \"46\": {\"46\": 153, \"32\": 2, \"5\": 1}, \"41\": {\"41\": 36}, \"24\": {\"24\": 54, \"43\": 1, \"38\": 1}, \"25\": {\"25\": 129, \"3\": 5, \"18\": 6, \"36\": 8, \"23\": 4}, \"40\": {\"40\": 138}, \"38\": {\"0\": 1, \"38\": 39}, \"13\": {\"10\": 16, \"13\": 136}, \"9\": {\"9\": 107, \"4\": 1}, \"45\": {\"45\": 96}, \"43\": {\"43\": 144}, \"10\": {\"10\": 120, \"13\": 10}, \"15\": {\"15\": 119, \"11\": 1, \"16\": 6, \"46\": 1, \"43\": 1}, \"39\": {\"39\": 20}, \"4\": {\"4\": 132}, \"53\": {\"53\": 124, \"6\": 5, \"20\": 1, \"51\": 1, \"25\": 1}, \"1\": {\"1\": 37, \"57\": 2, \"14\": 1}, \"28\": {\"28\": 32}, \"54\": {\"54\": 105, \"48\": 3}, \"21\": {\"21\": 132}, \"7\": {\"7\": 22, \"32\": 1, \"0\": 1}, \"8\": {\"8\": 136}, \"42\": {\"42\": 31, \"34\": 1}, \"11\": {\"11\": 100, \"5\": 1, \"46\": 1, \"43\": 1, \"0\": 1}, \"33\": {\"33\": 36}, \"27\": {\"27\": 132, \"17\": 10}, \"19\": {\"19\": 144}, \"2\": {\"2\": 35, \"38\": 1}, \"3\": {\"3\": 91, \"20\": 14, \"25\": 9, \"6\": 3, \"50\": 1, \"36\": 1, \"53\": 1}, \"57\": {\"57\": 96, \"35\": 4}, \"20\": {\"20\": 103, \"3\": 4, \"23\": 1, \"50\": 3, \"25\": 1}, \"23\": {\"23\": 128}, \"22\": {\"22\": 127, \"43\": 1}, \"29\": {\"29\": 124}, \"36\": {\"36\": 82, \"25\": 3, \"3\": 5, \"42\": 1, \"47\": 1}, \"51\": {\"51\": 132}, \"31\": {\"31\": 26, \"41\": 2}, \"12\": {\"12\": 92}, \"56\": {\"56\": 138}, \"5\": {\"5\": 102, \"46\": 3, \"47\": 2, \"28\": 1}, \"35\": {\"35\": 37, \"57\": 3}, \"17\": {\"17\": 76, \"27\": 4}, \"32\": {\"32\": 24}, \"47\": {\"47\": 120}, \"18\": {\"18\": 102, \"42\": 1, \"29\": 1, \"47\": 1, \"25\": 3}, \"26\": {\"26\": 24}, \"50\": {\"21\": 5, \"50\": 87, \"36\": 1, \"20\": 10, \"53\": 6, \"8\": 3, \"25\": 6, \"6\": 2, \"3\": 1, \"51\": 1}, \"55\": {\"55\": 124}, \"34\": {\"34\": 22, \"42\": 2}, \"30\": {\"30\": 44}, \"37\": {\"37\": 24}, \"44\": {\"44\": 128, \"19\": 4}, \"48\": {\"48\": 114, \"54\": 3, \"4\": 1}, \"16\": {\"16\": 96}}, \"C_2\": {\"11\": {\"11\": 130}, \"21\": {\"21\": 120}, \"19\": {\"19\": 140}, \"20\": {\"20\": 122, \"53\": 4, \"36\": 1, \"8\": 1}, \"9\": {\"9\": 140}, \"10\": {\"10\": 112}, \"37\": {\"37\": 36}, \"32\": {\"32\": 28}, \"3\": {\"3\": 86, \"52\": 3, \"21\": 3}, \"39\": {\"39\": 28}, \"45\": {\"45\": 125, \"4\": 2, \"9\": 1}, \"50\": {\"50\": 118, \"41\": 1, \"6\": 11, \"52\": 1, \"25\": 3, \"46\": 1, \"30\": 1}, \"40\": {\"40\": 136, \"35\": 4}, \"46\": {\"46\": 100, \"7\": 2, \"52\": 7, \"15\": 12, \"16\": 7}, \"12\": {\"12\": 91, \"20\": 1}, \"13\": {\"13\": 116}, \"47\": {\"47\": 132}, \"15\": {\"15\": 139, \"7\": 3}, \"54\": {\"54\": 107, \"17\": 1}, \"48\": {\"48\": 148}, \"23\": {\"23\": 142}, \"29\": {\"29\": 128}, \"38\": {\"38\": 20}, \"53\": {\"53\": 132, \"20\": 4}, \"27\": {\"27\": 150}, \"43\": {\"43\": 140, \"24\": 3, \"5\": 1}, \"35\": {\"40\": 4, \"35\": 28}, \"0\": {\"0\": 48}, \"52\": {\"52\": 121, \"15\": 1, \"16\": 2}, \"8\": {\"8\": 128}, \"24\": {\"24\": 88, \"10\": 5, \"38\": 2, \"43\": 1}, \"18\": {\"18\": 47, \"41\": 1}, \"25\": {\"25\": 122, \"18\": 5, \"6\": 12, \"30\": 9}, \"57\": {\"57\": 120, \"55\": 16}, \"55\": {\"55\": 119, \"57\": 12, \"1\": 3}, \"36\": {\"36\": 116}, \"17\": {\"17\": 104}, \"2\": {\"2\": 31, \"34\": 1}, \"34\": {\"34\": 28}, \"1\": {\"1\": 95, \"14\": 1, \"57\": 7, \"55\": 9}, \"51\": {\"51\": 136}, \"31\": {\"31\": 28}, \"49\": {\"49\": 24}, \"14\": {\"14\": 16, \"0\": 2, \"56\": 3, \"1\": 1, \"55\": 2}, \"33\": {\"33\": 28}, \"41\": {\"41\": 20}, \"28\": {\"28\": 27, \"23\": 1}, \"5\": {\"5\": 120}, \"16\": {\"16\": 150}, \"4\": {\"4\": 128}, \"22\": {\"22\": 136}, \"6\": {\"6\": 103, \"50\": 6, \"25\": 6, \"49\": 2, \"15\": 1}, \"30\": {\"30\": 123, \"18\": 1}, \"26\": {\"26\": 24}, \"56\": {\"56\": 142}, \"42\": {\"42\": 36}, \"44\": {\"44\": 100}, \"7\": {\"7\": 32, \"15\": 4}}}, \"per_domain_accuracy\": {\"O_26\": {\"accuracy\": 0.515625, \"source?\": true}, \"O_44\": {\"accuracy\": 0.6447916666666667, \"source?\": true}, \"O_50\": {\"accuracy\": 0.6986979166666667, \"source?\": true}, \"O_38\": {\"accuracy\": 0.6377604166666667, \"source?\": true}, \"O_20\": {\"accuracy\": 0.5619791666666667, \"source?\": true}, \"O_14\": {\"accuracy\": 0.7513020833333334, \"source?\": true}, \"O_32\": {\"accuracy\": 0.6911458333333333, \"source?\": true}, \"O_8\": {\"accuracy\": 0.6739583333333333, \"source?\": true}, \"C_5\": {\"accuracy\": 0.9502444134078212, \"source?\": false}, \"C_1\": {\"accuracy\": 0.9660326086956522, \"source?\": false}, \"C_3\": {\"accuracy\": 0.9632352941176471, \"source?\": false}, \"C_4\": {\"accuracy\": 0.9536897590361446, \"source?\": false}, \"C_2\": {\"accuracy\": 0.96484375, \"source?\": false}}}, \"history\": {\"epoch_indices\": [1, 2, 3, 4, 5, 6], \"train_label_loss\": [1.6928058086007478, 0.9350703953321846, 0.8759081994094664, 0.8390854947801147, 0.8079361698168906, 0.7853660394969796], \"source_val_label_loss\": [1.0458290576934814, 0.9355596899986267, 0.9677318930625916, 0.8388275504112244, 0.8004872798919678, 0.8228307366371155], \"target_val_label_loss\": [0.7707422971725464, 0.163302943110466, 0.1826057881116867, 0.19592495262622833, 0.21232843399047852, 0.21526075899600983], \"source_val_acc_label\": [0.6261067708333333, 0.6469075520833333, 0.63525390625, 0.68564453125, 0.7009114583333333, 0.688671875], \"target_val_acc_label\": [0.9367142857142857, 0.9596785714285714, 0.9561071428571428, 0.9500714285714286, 0.9474642857142858, 0.9445]}, \"dataset_metrics\": {\"source\": {\"train\": {\"n_unique_x\": 179200, \"n_unique_y\": 16, \"n_batch/episode\": 6720}, \"val\": {\"n_unique_x\": 38400, \"n_unique_y\": 16, \"n_batch/episode\": 960}, \"test\": {\"n_unique_x\": 38400, \"n_unique_y\": 16, \"n_batch/episode\": 960}}, \"target\": {\"train\": {\"n_unique_x\": 175203, \"n_unique_y\": 58, \"n_batch/episode\": 6321}, \"val\": {\"n_unique_x\": 37151, \"n_unique_y\": 58, \"n_batch/episode\": 875}, \"test\": {\"n_unique_x\": 37548, \"n_unique_y\": 58, \"n_batch/episode\": 885}}}}'"
      ]
     },
     "execution_count": 29,
     "metadata": {},
     "output_type": "execute_result"
    }
   ],
   "source": [
    "json.dumps(experiment)"
   ]
  }
 ],
 "metadata": {
  "celltoolbar": "Tags",
  "kernelspec": {
   "display_name": "Python 3 (ipykernel)",
   "language": "python",
   "name": "python3"
  },
  "language_info": {
   "codemirror_mode": {
    "name": "ipython",
    "version": 3
   },
   "file_extension": ".py",
   "mimetype": "text/x-python",
   "name": "python",
   "nbconvert_exporter": "python",
   "pygments_lexer": "ipython3",
   "version": "3.8.12"
  },
  "papermill": {
   "default_parameters": {},
   "duration": 1507.65733,
   "end_time": "2022-03-28T17:50:25.455788",
   "environment_variables": {},
   "exception": null,
   "input_path": "/root/csc500-main/csc500-notebooks/templates/tl_ptn_template.ipynb",
   "output_path": "trial.ipynb",
   "parameters": {
    "parameters": {
     "BEST_MODEL_PATH": "./best_model.pth",
     "NUM_LOGS_PER_EPOCH": 10,
     "criteria_for_best": "target_accuracy",
     "dataset_seed": 7,
     "datasets": [
      {
       "domain_prefix": "C_",
       "domains": [
        1,
        2,
        3,
        4,
        5
       ],
       "episode_transforms": [],
       "labels": [
        "1-10.",
        "1-11.",
        "1-15.",
        "1-16.",
        "1-17.",
        "1-18.",
        "1-19.",
        "10-4.",
        "10-7.",
        "11-1.",
        "11-14.",
        "11-17.",
        "11-20.",
        "11-7.",
        "13-20.",
        "13-8.",
        "14-10.",
        "14-11.",
        "14-14.",
        "14-7.",
        "15-1.",
        "15-20.",
        "16-1.",
        "16-16.",
        "17-10.",
        "17-11.",
        "17-2.",
        "19-1.",
        "19-16.",
        "19-19.",
        "19-20.",
        "19-3.",
        "2-10.",
        "2-11.",
        "2-17.",
        "2-18.",
        "2-20.",
        "2-3.",
        "2-4.",
        "2-5.",
        "2-6.",
        "2-7.",
        "2-8.",
        "3-13.",
        "3-18.",
        "3-3.",
        "4-1.",
        "4-10.",
        "4-11.",
        "4-19.",
        "5-5.",
        "6-15.",
        "7-10.",
        "7-14.",
        "8-18.",
        "8-20.",
        "8-3.",
        "8-8."
       ],
       "num_examples_per_domain_per_label": -1,
       "pickle_path": "/root/csc500-main/datasets/cores.stratified_ds.2022A.pkl",
       "source_or_target_dataset": "target",
       "x_transforms": [
        "unit_power",
        "jitter_256_5",
        "lowpass_+/-10MHz",
        "take_200"
       ]
      },
      {
       "domain_prefix": "O_",
       "domains": [
        32,
        38,
        8,
        44,
        14,
        50,
        20,
        26
       ],
       "episode_transforms": [],
       "labels": [
        "3123D52",
        "3123D65",
        "3123D79",
        "3123D80",
        "3123D54",
        "3123D70",
        "3123D7B",
        "3123D89",
        "3123D58",
        "3123D76",
        "3123D7D",
        "3123EFE",
        "3123D64",
        "3123D78",
        "3123D7E",
        "3124E4A"
       ],
       "num_examples_per_domain_per_label": 2000,
       "pickle_path": "/root/csc500-main/datasets/oracle.Run1_framed_2000Examples_stratified_ds.2022A.pkl",
       "source_or_target_dataset": "source",
       "x_transforms": [
        "unit_power",
        "jitter_256_5",
        "take_200",
        "resample_20Msps_to_25Msps"
       ]
      }
     ],
     "device": "cuda",
     "experiment_name": "tl_3-jitter5v2:oracle.run1.framed -> cores",
     "lr": 0.0001,
     "n_epoch": 50,
     "n_query": 2,
     "n_shot": 3,
     "n_way": 16,
     "patience": 3,
     "seed": 7,
     "test_k_factor": 2,
     "torch_default_dtype": "torch.float32",
     "train_k_factor": 3,
     "val_k_factor": 2,
     "x_net": [
      {
       "class": "nnReshape",
       "kargs": {
        "shape": [
         -1,
         1,
         2,
         256
        ]
       }
      },
      {
       "class": "Conv2d",
       "kargs": {
        "bias": false,
        "in_channels": 1,
        "kernel_size": [
         1,
         7
        ],
        "out_channels": 256,
        "padding": [
         0,
         3
        ]
       }
      },
      {
       "class": "ReLU",
       "kargs": {
        "inplace": true
       }
      },
      {
       "class": "BatchNorm2d",
       "kargs": {
        "num_features": 256
       }
      },
      {
       "class": "Conv2d",
       "kargs": {
        "bias": true,
        "in_channels": 256,
        "kernel_size": [
         2,
         7
        ],
        "out_channels": 80,
        "padding": [
         0,
         3
        ]
       }
      },
      {
       "class": "ReLU",
       "kargs": {
        "inplace": true
       }
      },
      {
       "class": "BatchNorm2d",
       "kargs": {
        "num_features": 80
       }
      },
      {
       "class": "Flatten",
       "kargs": {}
      },
      {
       "class": "Linear",
       "kargs": {
        "in_features": 20480,
        "out_features": 256
       }
      },
      {
       "class": "ReLU",
       "kargs": {
        "inplace": true
       }
      },
      {
       "class": "BatchNorm1d",
       "kargs": {
        "num_features": 256
       }
      },
      {
       "class": "Linear",
       "kargs": {
        "in_features": 256,
        "out_features": 256
       }
      }
     ],
     "x_shape": [
      2,
      256
     ]
    }
   },
   "start_time": "2022-03-28T17:25:17.798458",
   "version": "2.3.4"
  }
 },
 "nbformat": 4,
 "nbformat_minor": 5
}