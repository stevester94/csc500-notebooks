{
 "cells": [
  {
   "cell_type": "markdown",
   "id": "9fea5f46",
   "metadata": {
    "papermill": {
     "duration": 0.023834,
     "end_time": "2022-03-28T17:24:44.197171",
     "exception": false,
     "start_time": "2022-03-28T17:24:44.173337",
     "status": "completed"
    },
    "tags": []
   },
   "source": [
    "# Transfer Learning Template"
   ]
  },
  {
   "cell_type": "code",
   "execution_count": 1,
   "id": "0902182a",
   "metadata": {
    "execution": {
     "iopub.execute_input": "2022-03-28T17:24:44.255901Z",
     "iopub.status.busy": "2022-03-28T17:24:44.255450Z",
     "iopub.status.idle": "2022-03-28T17:24:46.149074Z",
     "shell.execute_reply": "2022-03-28T17:24:46.148166Z"
    },
    "papermill": {
     "duration": 1.932207,
     "end_time": "2022-03-28T17:24:46.149289",
     "exception": false,
     "start_time": "2022-03-28T17:24:44.217082",
     "status": "completed"
    },
    "tags": []
   },
   "outputs": [],
   "source": [
    "%load_ext autoreload\n",
    "%autoreload 2\n",
    "%matplotlib inline\n",
    "\n",
    "    \n",
    "import os, json, sys, time, random\n",
    "import numpy as np\n",
    "import torch\n",
    "from torch.optim import Adam\n",
    "from  easydict import EasyDict\n",
    "import matplotlib.pyplot as plt\n",
    "\n",
    "from steves_models.steves_ptn import Steves_Prototypical_Network\n",
    "\n",
    "from steves_utils.lazy_iterable_wrapper import Lazy_Iterable_Wrapper\n",
    "from steves_utils.iterable_aggregator import Iterable_Aggregator\n",
    "from steves_utils.ptn_train_eval_test_jig import  PTN_Train_Eval_Test_Jig\n",
    "from steves_utils.torch_sequential_builder import build_sequential\n",
    "from steves_utils.torch_utils import get_dataset_metrics, ptn_confusion_by_domain_over_dataloader\n",
    "from steves_utils.utils_v2 import (per_domain_accuracy_from_confusion, get_datasets_base_path)\n",
    "from steves_utils.PTN.utils import independent_accuracy_assesment\n",
    "\n",
    "from torch.utils.data import DataLoader\n",
    "\n",
    "from steves_utils.stratified_dataset.episodic_accessor import Episodic_Accessor_Factory\n",
    "\n",
    "from steves_utils.ptn_do_report import (\n",
    "    get_loss_curve,\n",
    "    get_results_table,\n",
    "    get_parameters_table,\n",
    "    get_domain_accuracies,\n",
    ")\n",
    "\n",
    "from steves_utils.transforms import get_chained_transform"
   ]
  },
  {
   "cell_type": "markdown",
   "id": "41c840b4",
   "metadata": {
    "papermill": {
     "duration": 0.026778,
     "end_time": "2022-03-28T17:24:46.199128",
     "exception": false,
     "start_time": "2022-03-28T17:24:46.172350",
     "status": "completed"
    },
    "tags": []
   },
   "source": [
    "# Allowed Parameters\n",
    "These are allowed parameters, not defaults\n",
    "Each of these values need to be present in the injected parameters (the notebook will raise an exception if they are not present)\n",
    "\n",
    "Papermill uses the cell tag \"parameters\" to inject the real parameters below this cell.\n",
    "Enable tags to see what I mean"
   ]
  },
  {
   "cell_type": "code",
   "execution_count": 2,
   "id": "fd44eb83",
   "metadata": {
    "execution": {
     "iopub.execute_input": "2022-03-28T17:24:46.243154Z",
     "iopub.status.busy": "2022-03-28T17:24:46.242768Z",
     "iopub.status.idle": "2022-03-28T17:24:46.270258Z",
     "shell.execute_reply": "2022-03-28T17:24:46.269427Z"
    },
    "papermill": {
     "duration": 0.052142,
     "end_time": "2022-03-28T17:24:46.270427",
     "exception": false,
     "start_time": "2022-03-28T17:24:46.218285",
     "status": "completed"
    },
    "tags": []
   },
   "outputs": [],
   "source": [
    "required_parameters = {\n",
    "    \"experiment_name\",\n",
    "    \"lr\",\n",
    "    \"device\",\n",
    "    \"seed\",\n",
    "    \"dataset_seed\",\n",
    "    \"n_shot\",\n",
    "    \"n_query\",\n",
    "    \"n_way\",\n",
    "    \"train_k_factor\",\n",
    "    \"val_k_factor\",\n",
    "    \"test_k_factor\",\n",
    "    \"n_epoch\",\n",
    "    \"patience\",\n",
    "    \"criteria_for_best\",\n",
    "    \"x_net\",\n",
    "    \"datasets\",\n",
    "    \"torch_default_dtype\",\n",
    "    \"NUM_LOGS_PER_EPOCH\",\n",
    "    \"BEST_MODEL_PATH\",\n",
    "    \"x_shape\",\n",
    "}"
   ]
  },
  {
   "cell_type": "code",
   "execution_count": 3,
   "id": "fa3f0049",
   "metadata": {
    "execution": {
     "iopub.execute_input": "2022-03-28T17:24:46.329137Z",
     "iopub.status.busy": "2022-03-28T17:24:46.328219Z",
     "iopub.status.idle": "2022-03-28T17:24:46.352104Z",
     "shell.execute_reply": "2022-03-28T17:24:46.351252Z"
    },
    "papermill": {
     "duration": 0.057289,
     "end_time": "2022-03-28T17:24:46.352262",
     "exception": false,
     "start_time": "2022-03-28T17:24:46.294973",
     "status": "completed"
    },
    "tags": [
     "parameters"
    ]
   },
   "outputs": [],
   "source": [
    "from steves_utils.CORES.utils import (\n",
    "    ALL_NODES,\n",
    "    ALL_NODES_MINIMUM_1000_EXAMPLES,\n",
    "    ALL_DAYS\n",
    ")\n",
    "\n",
    "from steves_utils.ORACLE.utils_v2 import (\n",
    "    ALL_DISTANCES_FEET_NARROWED,\n",
    "    ALL_RUNS,\n",
    "    ALL_SERIAL_NUMBERS,\n",
    ")\n",
    "\n",
    "standalone_parameters = {}\n",
    "standalone_parameters[\"experiment_name\"] = \"STANDALONE PTN\"\n",
    "standalone_parameters[\"lr\"] = 0.001\n",
    "standalone_parameters[\"device\"] = \"cuda\"\n",
    "\n",
    "standalone_parameters[\"seed\"] = 1337\n",
    "standalone_parameters[\"dataset_seed\"] = 1337\n",
    "\n",
    "standalone_parameters[\"n_way\"] = 8\n",
    "standalone_parameters[\"n_shot\"] = 3\n",
    "standalone_parameters[\"n_query\"]  = 2\n",
    "standalone_parameters[\"train_k_factor\"] = 1\n",
    "standalone_parameters[\"val_k_factor\"] = 2\n",
    "standalone_parameters[\"test_k_factor\"] = 2\n",
    "\n",
    "\n",
    "standalone_parameters[\"n_epoch\"] = 50\n",
    "\n",
    "standalone_parameters[\"patience\"] = 10\n",
    "standalone_parameters[\"criteria_for_best\"] = \"source_loss\"\n",
    "\n",
    "standalone_parameters[\"datasets\"] = [\n",
    "    {\n",
    "        \"labels\": ALL_SERIAL_NUMBERS,\n",
    "        \"domains\": ALL_DISTANCES_FEET_NARROWED,\n",
    "        \"num_examples_per_domain_per_label\": 100,\n",
    "        \"pickle_path\": os.path.join(get_datasets_base_path(), \"oracle.Run1_framed_2000Examples_stratified_ds.2022A.pkl\"),\n",
    "        \"source_or_target_dataset\": \"source\",\n",
    "        \"x_transforms\": [\"unit_mag\", \"minus_two\"],\n",
    "        \"episode_transforms\": [],\n",
    "        \"domain_prefix\": \"ORACLE_\"\n",
    "    },\n",
    "    {\n",
    "        \"labels\": ALL_NODES,\n",
    "        \"domains\": ALL_DAYS,\n",
    "        \"num_examples_per_domain_per_label\": 100,\n",
    "        \"pickle_path\": os.path.join(get_datasets_base_path(), \"cores.stratified_ds.2022A.pkl\"),\n",
    "        \"source_or_target_dataset\": \"target\",\n",
    "        \"x_transforms\": [\"unit_power\", \"times_zero\"],\n",
    "        \"episode_transforms\": [],\n",
    "        \"domain_prefix\": \"CORES_\"\n",
    "    }   \n",
    "]\n",
    "\n",
    "standalone_parameters[\"torch_default_dtype\"] = \"torch.float32\" \n",
    "\n",
    "\n",
    "\n",
    "standalone_parameters[\"x_net\"] =     [\n",
    "    {\"class\": \"nnReshape\", \"kargs\": {\"shape\":[-1, 1, 2, 256]}},\n",
    "    {\"class\": \"Conv2d\", \"kargs\": { \"in_channels\":1, \"out_channels\":256, \"kernel_size\":(1,7), \"bias\":False, \"padding\":(0,3), },},\n",
    "    {\"class\": \"ReLU\", \"kargs\": {\"inplace\": True}},\n",
    "    {\"class\": \"BatchNorm2d\", \"kargs\": {\"num_features\":256}},\n",
    "\n",
    "    {\"class\": \"Conv2d\", \"kargs\": { \"in_channels\":256, \"out_channels\":80, \"kernel_size\":(2,7), \"bias\":True, \"padding\":(0,3), },},\n",
    "    {\"class\": \"ReLU\", \"kargs\": {\"inplace\": True}},\n",
    "    {\"class\": \"BatchNorm2d\", \"kargs\": {\"num_features\":80}},\n",
    "    {\"class\": \"Flatten\", \"kargs\": {}},\n",
    "\n",
    "    {\"class\": \"Linear\", \"kargs\": {\"in_features\": 80*256, \"out_features\": 256}}, # 80 units per IQ pair\n",
    "    {\"class\": \"ReLU\", \"kargs\": {\"inplace\": True}},\n",
    "    {\"class\": \"BatchNorm1d\", \"kargs\": {\"num_features\":256}},\n",
    "\n",
    "    {\"class\": \"Linear\", \"kargs\": {\"in_features\": 256, \"out_features\": 256}},\n",
    "]\n",
    "\n",
    "# Parameters relevant to results\n",
    "# These parameters will basically never need to change\n",
    "standalone_parameters[\"NUM_LOGS_PER_EPOCH\"] = 10\n",
    "standalone_parameters[\"BEST_MODEL_PATH\"] = \"./best_model.pth\"\n",
    "\n",
    "\n",
    "\n",
    "\n"
   ]
  },
  {
   "cell_type": "code",
   "execution_count": 4,
   "id": "0a3b995d",
   "metadata": {
    "execution": {
     "iopub.execute_input": "2022-03-28T17:24:46.413272Z",
     "iopub.status.busy": "2022-03-28T17:24:46.412302Z",
     "iopub.status.idle": "2022-03-28T17:24:46.435658Z",
     "shell.execute_reply": "2022-03-28T17:24:46.434827Z"
    },
    "papermill": {
     "duration": 0.057861,
     "end_time": "2022-03-28T17:24:46.435815",
     "exception": false,
     "start_time": "2022-03-28T17:24:46.377954",
     "status": "completed"
    },
    "tags": [
     "injected-parameters"
    ]
   },
   "outputs": [],
   "source": [
    "# Parameters\n",
    "parameters = {\n",
    "    \"experiment_name\": \"tl_3-jitter5v2:oracle.run1.framed -> cores\",\n",
    "    \"device\": \"cuda\",\n",
    "    \"lr\": 0.0001,\n",
    "    \"x_shape\": [2, 256],\n",
    "    \"n_shot\": 3,\n",
    "    \"n_query\": 2,\n",
    "    \"train_k_factor\": 3,\n",
    "    \"val_k_factor\": 2,\n",
    "    \"test_k_factor\": 2,\n",
    "    \"torch_default_dtype\": \"torch.float32\",\n",
    "    \"n_epoch\": 50,\n",
    "    \"patience\": 3,\n",
    "    \"criteria_for_best\": \"target_accuracy\",\n",
    "    \"x_net\": [\n",
    "        {\"class\": \"nnReshape\", \"kargs\": {\"shape\": [-1, 1, 2, 256]}},\n",
    "        {\n",
    "            \"class\": \"Conv2d\",\n",
    "            \"kargs\": {\n",
    "                \"in_channels\": 1,\n",
    "                \"out_channels\": 256,\n",
    "                \"kernel_size\": [1, 7],\n",
    "                \"bias\": False,\n",
    "                \"padding\": [0, 3],\n",
    "            },\n",
    "        },\n",
    "        {\"class\": \"ReLU\", \"kargs\": {\"inplace\": True}},\n",
    "        {\"class\": \"BatchNorm2d\", \"kargs\": {\"num_features\": 256}},\n",
    "        {\n",
    "            \"class\": \"Conv2d\",\n",
    "            \"kargs\": {\n",
    "                \"in_channels\": 256,\n",
    "                \"out_channels\": 80,\n",
    "                \"kernel_size\": [2, 7],\n",
    "                \"bias\": True,\n",
    "                \"padding\": [0, 3],\n",
    "            },\n",
    "        },\n",
    "        {\"class\": \"ReLU\", \"kargs\": {\"inplace\": True}},\n",
    "        {\"class\": \"BatchNorm2d\", \"kargs\": {\"num_features\": 80}},\n",
    "        {\"class\": \"Flatten\", \"kargs\": {}},\n",
    "        {\"class\": \"Linear\", \"kargs\": {\"in_features\": 20480, \"out_features\": 256}},\n",
    "        {\"class\": \"ReLU\", \"kargs\": {\"inplace\": True}},\n",
    "        {\"class\": \"BatchNorm1d\", \"kargs\": {\"num_features\": 256}},\n",
    "        {\"class\": \"Linear\", \"kargs\": {\"in_features\": 256, \"out_features\": 256}},\n",
    "    ],\n",
    "    \"NUM_LOGS_PER_EPOCH\": 10,\n",
    "    \"BEST_MODEL_PATH\": \"./best_model.pth\",\n",
    "    \"n_way\": 16,\n",
    "    \"datasets\": [\n",
    "        {\n",
    "            \"labels\": [\n",
    "                \"1-10.\",\n",
    "                \"1-11.\",\n",
    "                \"1-15.\",\n",
    "                \"1-16.\",\n",
    "                \"1-17.\",\n",
    "                \"1-18.\",\n",
    "                \"1-19.\",\n",
    "                \"10-4.\",\n",
    "                \"10-7.\",\n",
    "                \"11-1.\",\n",
    "                \"11-14.\",\n",
    "                \"11-17.\",\n",
    "                \"11-20.\",\n",
    "                \"11-7.\",\n",
    "                \"13-20.\",\n",
    "                \"13-8.\",\n",
    "                \"14-10.\",\n",
    "                \"14-11.\",\n",
    "                \"14-14.\",\n",
    "                \"14-7.\",\n",
    "                \"15-1.\",\n",
    "                \"15-20.\",\n",
    "                \"16-1.\",\n",
    "                \"16-16.\",\n",
    "                \"17-10.\",\n",
    "                \"17-11.\",\n",
    "                \"17-2.\",\n",
    "                \"19-1.\",\n",
    "                \"19-16.\",\n",
    "                \"19-19.\",\n",
    "                \"19-20.\",\n",
    "                \"19-3.\",\n",
    "                \"2-10.\",\n",
    "                \"2-11.\",\n",
    "                \"2-17.\",\n",
    "                \"2-18.\",\n",
    "                \"2-20.\",\n",
    "                \"2-3.\",\n",
    "                \"2-4.\",\n",
    "                \"2-5.\",\n",
    "                \"2-6.\",\n",
    "                \"2-7.\",\n",
    "                \"2-8.\",\n",
    "                \"3-13.\",\n",
    "                \"3-18.\",\n",
    "                \"3-3.\",\n",
    "                \"4-1.\",\n",
    "                \"4-10.\",\n",
    "                \"4-11.\",\n",
    "                \"4-19.\",\n",
    "                \"5-5.\",\n",
    "                \"6-15.\",\n",
    "                \"7-10.\",\n",
    "                \"7-14.\",\n",
    "                \"8-18.\",\n",
    "                \"8-20.\",\n",
    "                \"8-3.\",\n",
    "                \"8-8.\",\n",
    "            ],\n",
    "            \"domains\": [1, 2, 3, 4, 5],\n",
    "            \"num_examples_per_domain_per_label\": -1,\n",
    "            \"pickle_path\": \"/root/csc500-main/datasets/cores.stratified_ds.2022A.pkl\",\n",
    "            \"source_or_target_dataset\": \"target\",\n",
    "            \"x_transforms\": [\"jitter_256_5\", \"lowpass_+/-10MHz\", \"take_200\"],\n",
    "            \"episode_transforms\": [],\n",
    "            \"domain_prefix\": \"C_\",\n",
    "        },\n",
    "        {\n",
    "            \"labels\": [\n",
    "                \"3123D52\",\n",
    "                \"3123D65\",\n",
    "                \"3123D79\",\n",
    "                \"3123D80\",\n",
    "                \"3123D54\",\n",
    "                \"3123D70\",\n",
    "                \"3123D7B\",\n",
    "                \"3123D89\",\n",
    "                \"3123D58\",\n",
    "                \"3123D76\",\n",
    "                \"3123D7D\",\n",
    "                \"3123EFE\",\n",
    "                \"3123D64\",\n",
    "                \"3123D78\",\n",
    "                \"3123D7E\",\n",
    "                \"3124E4A\",\n",
    "            ],\n",
    "            \"domains\": [32, 38, 8, 44, 14, 50, 20, 26],\n",
    "            \"num_examples_per_domain_per_label\": 2000,\n",
    "            \"pickle_path\": \"/root/csc500-main/datasets/oracle.Run1_framed_2000Examples_stratified_ds.2022A.pkl\",\n",
    "            \"source_or_target_dataset\": \"source\",\n",
    "            \"x_transforms\": [\"jitter_256_5\", \"take_200\", \"resample_20Msps_to_25Msps\"],\n",
    "            \"episode_transforms\": [],\n",
    "            \"domain_prefix\": \"O_\",\n",
    "        },\n",
    "    ],\n",
    "    \"seed\": 154325,\n",
    "    \"dataset_seed\": 154325,\n",
    "}\n"
   ]
  },
  {
   "cell_type": "code",
   "execution_count": 5,
   "id": "8fa1cc33",
   "metadata": {
    "execution": {
     "iopub.execute_input": "2022-03-28T17:24:46.490476Z",
     "iopub.status.busy": "2022-03-28T17:24:46.489592Z",
     "iopub.status.idle": "2022-03-28T17:24:46.511432Z",
     "shell.execute_reply": "2022-03-28T17:24:46.510631Z"
    },
    "papermill": {
     "duration": 0.047686,
     "end_time": "2022-03-28T17:24:46.511623",
     "exception": false,
     "start_time": "2022-03-28T17:24:46.463937",
     "status": "completed"
    },
    "tags": []
   },
   "outputs": [],
   "source": [
    "# Set this to True if you want to run this template directly\n",
    "STANDALONE = False\n",
    "if STANDALONE:\n",
    "    print(\"parameters not injected, running with standalone_parameters\")\n",
    "    parameters = standalone_parameters\n",
    "\n",
    "if not 'parameters' in locals() and not 'parameters' in globals():\n",
    "    raise Exception(\"Parameter injection failed\")\n",
    "\n",
    "#Use an easy dict for all the parameters\n",
    "p = EasyDict(parameters)\n",
    "\n",
    "if \"x_shape\" not in p:\n",
    "    p.x_shape = [2,256] # Default to this if we dont supply x_shape\n",
    "\n",
    "\n",
    "supplied_keys = set(p.keys())\n",
    "\n",
    "if  supplied_keys != required_parameters:\n",
    "    print(\"Parameters are incorrect\")\n",
    "    if len(supplied_keys - required_parameters)>0: print(\"Shouldn't have:\", str(supplied_keys - required_parameters))\n",
    "    if len(required_parameters - supplied_keys)>0: print(\"Need to have:\", str(required_parameters - supplied_keys))\n",
    "    raise RuntimeError(\"Parameters are incorrect\")"
   ]
  },
  {
   "cell_type": "code",
   "execution_count": 6,
   "id": "3a028d58",
   "metadata": {
    "execution": {
     "iopub.execute_input": "2022-03-28T17:24:46.562868Z",
     "iopub.status.busy": "2022-03-28T17:24:46.560113Z",
     "iopub.status.idle": "2022-03-28T17:24:46.582707Z",
     "shell.execute_reply": "2022-03-28T17:24:46.581907Z"
    },
    "papermill": {
     "duration": 0.045064,
     "end_time": "2022-03-28T17:24:46.582861",
     "exception": false,
     "start_time": "2022-03-28T17:24:46.537797",
     "status": "completed"
    },
    "tags": []
   },
   "outputs": [],
   "source": [
    "###################################\n",
    "# Set the RNGs and make it all deterministic\n",
    "###################################\n",
    "np.random.seed(p.seed)\n",
    "random.seed(p.seed)\n",
    "torch.manual_seed(p.seed)\n",
    "\n",
    "torch.use_deterministic_algorithms(True) "
   ]
  },
  {
   "cell_type": "code",
   "execution_count": 7,
   "id": "b691acf6",
   "metadata": {
    "execution": {
     "iopub.execute_input": "2022-03-28T17:24:46.633529Z",
     "iopub.status.busy": "2022-03-28T17:24:46.633086Z",
     "iopub.status.idle": "2022-03-28T17:24:46.657991Z",
     "shell.execute_reply": "2022-03-28T17:24:46.657190Z"
    },
    "papermill": {
     "duration": 0.048554,
     "end_time": "2022-03-28T17:24:46.658146",
     "exception": false,
     "start_time": "2022-03-28T17:24:46.609592",
     "status": "completed"
    },
    "tags": []
   },
   "outputs": [],
   "source": [
    "###########################################\n",
    "# The stratified datasets honor this\n",
    "###########################################\n",
    "torch.set_default_dtype(eval(p.torch_default_dtype))"
   ]
  },
  {
   "cell_type": "code",
   "execution_count": 8,
   "id": "b5fba671",
   "metadata": {
    "execution": {
     "iopub.execute_input": "2022-03-28T17:24:46.706262Z",
     "iopub.status.busy": "2022-03-28T17:24:46.705706Z",
     "iopub.status.idle": "2022-03-28T17:24:46.763652Z",
     "shell.execute_reply": "2022-03-28T17:24:46.762825Z"
    },
    "papermill": {
     "duration": 0.081152,
     "end_time": "2022-03-28T17:24:46.763808",
     "exception": false,
     "start_time": "2022-03-28T17:24:46.682656",
     "status": "completed"
    },
    "tags": []
   },
   "outputs": [],
   "source": [
    "###################################\n",
    "# Build the network(s)\n",
    "# Note: It's critical to do this AFTER setting the RNG\n",
    "###################################\n",
    "x_net = build_sequential(p.x_net)"
   ]
  },
  {
   "cell_type": "code",
   "execution_count": 9,
   "id": "5d7e61cc",
   "metadata": {
    "execution": {
     "iopub.execute_input": "2022-03-28T17:24:46.814399Z",
     "iopub.status.busy": "2022-03-28T17:24:46.814038Z",
     "iopub.status.idle": "2022-03-28T17:24:46.837538Z",
     "shell.execute_reply": "2022-03-28T17:24:46.836736Z"
    },
    "papermill": {
     "duration": 0.047043,
     "end_time": "2022-03-28T17:24:46.837692",
     "exception": false,
     "start_time": "2022-03-28T17:24:46.790649",
     "status": "completed"
    },
    "tags": []
   },
   "outputs": [],
   "source": [
    "start_time_secs = time.time()"
   ]
  },
  {
   "cell_type": "code",
   "execution_count": 10,
   "id": "c6b67dfd",
   "metadata": {
    "execution": {
     "iopub.execute_input": "2022-03-28T17:24:46.887231Z",
     "iopub.status.busy": "2022-03-28T17:24:46.886871Z",
     "iopub.status.idle": "2022-03-28T17:24:46.913922Z",
     "shell.execute_reply": "2022-03-28T17:24:46.913122Z"
    },
    "papermill": {
     "duration": 0.051006,
     "end_time": "2022-03-28T17:24:46.914080",
     "exception": false,
     "start_time": "2022-03-28T17:24:46.863074",
     "status": "completed"
    },
    "tags": []
   },
   "outputs": [],
   "source": [
    "p.domains_source = []\n",
    "p.domains_target = []\n",
    "\n",
    "\n",
    "train_original_source = []\n",
    "val_original_source   = []\n",
    "test_original_source  = []\n",
    "\n",
    "train_original_target = []\n",
    "val_original_target   = []\n",
    "test_original_target  = []"
   ]
  },
  {
   "cell_type": "code",
   "execution_count": 11,
   "id": "e3d9c3d3",
   "metadata": {
    "execution": {
     "iopub.execute_input": "2022-03-28T17:24:46.962009Z",
     "iopub.status.busy": "2022-03-28T17:24:46.961647Z",
     "iopub.status.idle": "2022-03-28T17:24:46.985954Z",
     "shell.execute_reply": "2022-03-28T17:24:46.986627Z"
    },
    "papermill": {
     "duration": 0.047338,
     "end_time": "2022-03-28T17:24:46.986805",
     "exception": false,
     "start_time": "2022-03-28T17:24:46.939467",
     "status": "completed"
    },
    "tags": []
   },
   "outputs": [],
   "source": [
    "# global_x_transform_func = lambda x: normalize(x.to(torch.get_default_dtype()), \"unit_power\") # unit_power, unit_mag\n",
    "# global_x_transform_func = lambda x: normalize(x, \"unit_power\") # unit_power, unit_mag"
   ]
  },
  {
   "cell_type": "code",
   "execution_count": 12,
   "id": "acb78fd2",
   "metadata": {
    "execution": {
     "iopub.execute_input": "2022-03-28T17:24:47.040460Z",
     "iopub.status.busy": "2022-03-28T17:24:47.039884Z",
     "iopub.status.idle": "2022-03-28T17:24:47.066430Z",
     "shell.execute_reply": "2022-03-28T17:24:47.065727Z"
    },
    "papermill": {
     "duration": 0.054765,
     "end_time": "2022-03-28T17:24:47.066582",
     "exception": false,
     "start_time": "2022-03-28T17:24:47.011817",
     "status": "completed"
    },
    "tags": []
   },
   "outputs": [],
   "source": [
    "def add_dataset(\n",
    "    labels,\n",
    "    domains,\n",
    "    pickle_path,\n",
    "    x_transforms,\n",
    "    episode_transforms,\n",
    "    domain_prefix,\n",
    "    num_examples_per_domain_per_label,\n",
    "    source_or_target_dataset:str,\n",
    "    iterator_seed=p.seed,\n",
    "    dataset_seed=p.dataset_seed,\n",
    "    n_shot=p.n_shot,\n",
    "    n_way=p.n_way,\n",
    "    n_query=p.n_query,\n",
    "    train_val_test_k_factors=(p.train_k_factor,p.val_k_factor,p.test_k_factor),\n",
    "):\n",
    "   \n",
    "    if x_transforms == []: x_transform = None\n",
    "    else: x_transform = get_chained_transform(x_transforms)\n",
    "    \n",
    "    if episode_transforms == []: episode_transform = None\n",
    "    else: raise Exception(\"episode_transforms not implemented\")\n",
    "    \n",
    "    episode_transform = lambda tup, _prefix=domain_prefix: (_prefix + str(tup[0]), tup[1])\n",
    "\n",
    "\n",
    "    eaf = Episodic_Accessor_Factory(\n",
    "        labels=labels,\n",
    "        domains=domains,\n",
    "        num_examples_per_domain_per_label=num_examples_per_domain_per_label,\n",
    "        iterator_seed=iterator_seed,\n",
    "        dataset_seed=dataset_seed,\n",
    "        n_shot=n_shot,\n",
    "        n_way=n_way,\n",
    "        n_query=n_query,\n",
    "        train_val_test_k_factors=train_val_test_k_factors,\n",
    "        pickle_path=pickle_path,\n",
    "        x_transform_func=x_transform,\n",
    "    )\n",
    "\n",
    "    train, val, test = eaf.get_train(), eaf.get_val(), eaf.get_test()\n",
    "    train = Lazy_Iterable_Wrapper(train, episode_transform)\n",
    "    val = Lazy_Iterable_Wrapper(val, episode_transform)\n",
    "    test = Lazy_Iterable_Wrapper(test, episode_transform)\n",
    "\n",
    "    if source_or_target_dataset==\"source\":\n",
    "        train_original_source.append(train)\n",
    "        val_original_source.append(val)\n",
    "        test_original_source.append(test)\n",
    "\n",
    "        p.domains_source.extend(\n",
    "            [domain_prefix + str(u) for u in domains]\n",
    "        )\n",
    "    elif source_or_target_dataset==\"target\":\n",
    "        train_original_target.append(train)\n",
    "        val_original_target.append(val)\n",
    "        test_original_target.append(test)\n",
    "        p.domains_target.extend(\n",
    "            [domain_prefix + str(u) for u in domains]\n",
    "        )\n",
    "    else:\n",
    "        raise Exception(f\"invalid source_or_target_dataset: {source_or_target_dataset}\")\n",
    "    "
   ]
  },
  {
   "cell_type": "code",
   "execution_count": 13,
   "id": "fe266617",
   "metadata": {
    "execution": {
     "iopub.execute_input": "2022-03-28T17:24:47.114457Z",
     "iopub.status.busy": "2022-03-28T17:24:47.114085Z",
     "iopub.status.idle": "2022-03-28T17:25:52.173624Z",
     "shell.execute_reply": "2022-03-28T17:25:52.172841Z"
    },
    "papermill": {
     "duration": 65.081986,
     "end_time": "2022-03-28T17:25:52.173804",
     "exception": false,
     "start_time": "2022-03-28T17:24:47.091818",
     "status": "completed"
    },
    "tags": []
   },
   "outputs": [],
   "source": [
    "for ds in p.datasets:\n",
    "    add_dataset(**ds)"
   ]
  },
  {
   "cell_type": "code",
   "execution_count": 14,
   "id": "b90d65ac",
   "metadata": {
    "execution": {
     "iopub.execute_input": "2022-03-28T17:25:52.227586Z",
     "iopub.status.busy": "2022-03-28T17:25:52.227207Z",
     "iopub.status.idle": "2022-03-28T17:25:52.251813Z",
     "shell.execute_reply": "2022-03-28T17:25:52.251078Z"
    },
    "papermill": {
     "duration": 0.048824,
     "end_time": "2022-03-28T17:25:52.251977",
     "exception": false,
     "start_time": "2022-03-28T17:25:52.203153",
     "status": "completed"
    },
    "tags": []
   },
   "outputs": [],
   "source": [
    "# from steves_utils.CORES.utils import (\n",
    "#     ALL_NODES,\n",
    "#     ALL_NODES_MINIMUM_1000_EXAMPLES,\n",
    "#     ALL_DAYS\n",
    "# )\n",
    "\n",
    "# add_dataset(\n",
    "#     labels=ALL_NODES,\n",
    "#     domains = ALL_DAYS,\n",
    "#     num_examples_per_domain_per_label=100,\n",
    "#     pickle_path=os.path.join(get_datasets_base_path(), \"cores.stratified_ds.2022A.pkl\"),\n",
    "#     source_or_target_dataset=\"target\",\n",
    "#     x_transform_func=global_x_transform_func,\n",
    "#     domain_modifier=lambda u: f\"cores_{u}\"\n",
    "# )"
   ]
  },
  {
   "cell_type": "code",
   "execution_count": 15,
   "id": "76db484d",
   "metadata": {
    "execution": {
     "iopub.execute_input": "2022-03-28T17:25:52.302528Z",
     "iopub.status.busy": "2022-03-28T17:25:52.302158Z",
     "iopub.status.idle": "2022-03-28T17:25:52.323850Z",
     "shell.execute_reply": "2022-03-28T17:25:52.323095Z"
    },
    "papermill": {
     "duration": 0.045246,
     "end_time": "2022-03-28T17:25:52.324009",
     "exception": false,
     "start_time": "2022-03-28T17:25:52.278763",
     "status": "completed"
    },
    "tags": []
   },
   "outputs": [],
   "source": [
    "# from steves_utils.ORACLE.utils_v2 import (\n",
    "#     ALL_DISTANCES_FEET,\n",
    "#     ALL_RUNS,\n",
    "#     ALL_SERIAL_NUMBERS,\n",
    "# )\n",
    "\n",
    "\n",
    "# add_dataset(\n",
    "#     labels=ALL_SERIAL_NUMBERS,\n",
    "#     domains = list(set(ALL_DISTANCES_FEET) - {2,62}),\n",
    "#     num_examples_per_domain_per_label=100,\n",
    "#     pickle_path=os.path.join(get_datasets_base_path(), \"oracle.Run2_framed_2000Examples_stratified_ds.2022A.pkl\"),\n",
    "#     source_or_target_dataset=\"source\",\n",
    "#     x_transform_func=global_x_transform_func,\n",
    "#     domain_modifier=lambda u: f\"oracle1_{u}\"\n",
    "# )\n"
   ]
  },
  {
   "cell_type": "code",
   "execution_count": 16,
   "id": "97dea9d2",
   "metadata": {
    "execution": {
     "iopub.execute_input": "2022-03-28T17:25:52.374424Z",
     "iopub.status.busy": "2022-03-28T17:25:52.374052Z",
     "iopub.status.idle": "2022-03-28T17:25:52.395593Z",
     "shell.execute_reply": "2022-03-28T17:25:52.394872Z"
    },
    "papermill": {
     "duration": 0.0447,
     "end_time": "2022-03-28T17:25:52.395748",
     "exception": false,
     "start_time": "2022-03-28T17:25:52.351048",
     "status": "completed"
    },
    "tags": []
   },
   "outputs": [],
   "source": [
    "# from steves_utils.ORACLE.utils_v2 import (\n",
    "#     ALL_DISTANCES_FEET,\n",
    "#     ALL_RUNS,\n",
    "#     ALL_SERIAL_NUMBERS,\n",
    "# )\n",
    "\n",
    "\n",
    "# add_dataset(\n",
    "#     labels=ALL_SERIAL_NUMBERS,\n",
    "#     domains = list(set(ALL_DISTANCES_FEET) - {2,62,56}),\n",
    "#     num_examples_per_domain_per_label=100,\n",
    "#     pickle_path=os.path.join(get_datasets_base_path(), \"oracle.Run2_framed_2000Examples_stratified_ds.2022A.pkl\"),\n",
    "#     source_or_target_dataset=\"source\",\n",
    "#     x_transform_func=global_x_transform_func,\n",
    "#     domain_modifier=lambda u: f\"oracle2_{u}\"\n",
    "# )"
   ]
  },
  {
   "cell_type": "code",
   "execution_count": 17,
   "id": "6f289866",
   "metadata": {
    "execution": {
     "iopub.execute_input": "2022-03-28T17:25:52.446045Z",
     "iopub.status.busy": "2022-03-28T17:25:52.445673Z",
     "iopub.status.idle": "2022-03-28T17:25:52.467316Z",
     "shell.execute_reply": "2022-03-28T17:25:52.466616Z"
    },
    "papermill": {
     "duration": 0.04467,
     "end_time": "2022-03-28T17:25:52.467471",
     "exception": false,
     "start_time": "2022-03-28T17:25:52.422801",
     "status": "completed"
    },
    "tags": []
   },
   "outputs": [],
   "source": [
    "# add_dataset(\n",
    "#     labels=list(range(19)),\n",
    "#     domains = [0,1,2],\n",
    "#     num_examples_per_domain_per_label=100,\n",
    "#     pickle_path=os.path.join(get_datasets_base_path(), \"metehan.stratified_ds.2022A.pkl\"),\n",
    "#     source_or_target_dataset=\"target\",\n",
    "#     x_transform_func=global_x_transform_func,\n",
    "#     domain_modifier=lambda u: f\"met_{u}\"\n",
    "# )"
   ]
  },
  {
   "cell_type": "code",
   "execution_count": 18,
   "id": "86a863c3",
   "metadata": {
    "execution": {
     "iopub.execute_input": "2022-03-28T17:25:52.518934Z",
     "iopub.status.busy": "2022-03-28T17:25:52.518567Z",
     "iopub.status.idle": "2022-03-28T17:25:52.541834Z",
     "shell.execute_reply": "2022-03-28T17:25:52.541048Z"
    },
    "papermill": {
     "duration": 0.046832,
     "end_time": "2022-03-28T17:25:52.541990",
     "exception": false,
     "start_time": "2022-03-28T17:25:52.495158",
     "status": "completed"
    },
    "tags": []
   },
   "outputs": [],
   "source": [
    "# # from steves_utils.wisig.utils import (\n",
    "# #     ALL_NODES_MINIMUM_100_EXAMPLES,\n",
    "# #     ALL_NODES_MINIMUM_500_EXAMPLES,\n",
    "# #     ALL_NODES_MINIMUM_1000_EXAMPLES,\n",
    "# #     ALL_DAYS\n",
    "# # )\n",
    "\n",
    "# import steves_utils.wisig.utils as wisig\n",
    "\n",
    "\n",
    "# add_dataset(\n",
    "#     labels=wisig.ALL_NODES_MINIMUM_100_EXAMPLES,\n",
    "#     domains = wisig.ALL_DAYS,\n",
    "#     num_examples_per_domain_per_label=100,\n",
    "#     pickle_path=os.path.join(get_datasets_base_path(), \"wisig.node3-19.stratified_ds.2022A.pkl\"),\n",
    "#     source_or_target_dataset=\"target\",\n",
    "#     x_transform_func=global_x_transform_func,\n",
    "#     domain_modifier=lambda u: f\"wisig_{u}\"\n",
    "# )"
   ]
  },
  {
   "cell_type": "code",
   "execution_count": 19,
   "id": "fd5442bc",
   "metadata": {
    "execution": {
     "iopub.execute_input": "2022-03-28T17:25:52.597314Z",
     "iopub.status.busy": "2022-03-28T17:25:52.596864Z",
     "iopub.status.idle": "2022-03-28T17:25:52.618537Z",
     "shell.execute_reply": "2022-03-28T17:25:52.617749Z"
    },
    "papermill": {
     "duration": 0.050676,
     "end_time": "2022-03-28T17:25:52.618691",
     "exception": false,
     "start_time": "2022-03-28T17:25:52.568015",
     "status": "completed"
    },
    "tags": []
   },
   "outputs": [],
   "source": [
    "###################################\n",
    "# Build the dataset\n",
    "###################################\n",
    "train_original_source = Iterable_Aggregator(train_original_source, p.seed)\n",
    "val_original_source = Iterable_Aggregator(val_original_source, p.seed)\n",
    "test_original_source = Iterable_Aggregator(test_original_source, p.seed)\n",
    "\n",
    "\n",
    "train_original_target = Iterable_Aggregator(train_original_target, p.seed)\n",
    "val_original_target = Iterable_Aggregator(val_original_target, p.seed)\n",
    "test_original_target = Iterable_Aggregator(test_original_target, p.seed)\n",
    "\n",
    "# For CNN We only use X and Y. And we only train on the source.\n",
    "# Properly form the data using a transform lambda and Lazy_Iterable_Wrapper. Finally wrap them in a dataloader\n",
    "\n",
    "transform_lambda = lambda ex: ex[1] # Original is (<domain>, <episode>) so we strip down to episode only\n",
    "\n",
    "train_processed_source = Lazy_Iterable_Wrapper(train_original_source, transform_lambda)\n",
    "val_processed_source   = Lazy_Iterable_Wrapper(val_original_source, transform_lambda)\n",
    "test_processed_source  = Lazy_Iterable_Wrapper(test_original_source, transform_lambda)\n",
    "\n",
    "train_processed_target = Lazy_Iterable_Wrapper(train_original_target, transform_lambda)\n",
    "val_processed_target   = Lazy_Iterable_Wrapper(val_original_target, transform_lambda)\n",
    "test_processed_target  = Lazy_Iterable_Wrapper(test_original_target, transform_lambda)\n",
    "\n",
    "datasets = EasyDict({\n",
    "    \"source\": {\n",
    "        \"original\": {\"train\":train_original_source, \"val\":val_original_source, \"test\":test_original_source},\n",
    "        \"processed\": {\"train\":train_processed_source, \"val\":val_processed_source, \"test\":test_processed_source}\n",
    "    },\n",
    "    \"target\": {\n",
    "        \"original\": {\"train\":train_original_target, \"val\":val_original_target, \"test\":test_original_target},\n",
    "        \"processed\": {\"train\":train_processed_target, \"val\":val_processed_target, \"test\":test_processed_target}\n",
    "    },\n",
    "})"
   ]
  },
  {
   "cell_type": "code",
   "execution_count": 20,
   "id": "5b3c01fc",
   "metadata": {
    "execution": {
     "iopub.execute_input": "2022-03-28T17:25:52.668828Z",
     "iopub.status.busy": "2022-03-28T17:25:52.668206Z",
     "iopub.status.idle": "2022-03-28T17:26:07.022155Z",
     "shell.execute_reply": "2022-03-28T17:26:07.021414Z"
    },
    "papermill": {
     "duration": 14.377651,
     "end_time": "2022-03-28T17:26:07.022330",
     "exception": false,
     "start_time": "2022-03-28T17:25:52.644679",
     "status": "completed"
    },
    "tags": []
   },
   "outputs": [
    {
     "name": "stdout",
     "output_type": "stream",
     "text": [
      "{'O_50', 'O_32', 'O_44', 'O_38', 'O_8', 'O_14', 'O_26', 'O_20'}\n"
     ]
    },
    {
     "name": "stdout",
     "output_type": "stream",
     "text": [
      "{'C_5', 'C_1', 'C_2', 'C_4', 'C_3'}\n"
     ]
    },
    {
     "name": "stdout",
     "output_type": "stream",
     "text": [
      "tensor([[[0., 0., 0.,  ..., 0., 0., 0.],\n",
      "         [0., 0., 0.,  ..., 0., 0., 0.]],\n",
      "\n",
      "        [[0., 0., 0.,  ..., 0., 0., 0.],\n",
      "         [0., 0., 0.,  ..., 0., 0., 0.]],\n",
      "\n",
      "        [[0., 0., 0.,  ..., 0., 0., 0.],\n",
      "         [0., 0., 0.,  ..., 0., 0., 0.]],\n",
      "\n",
      "        ...,\n",
      "\n",
      "        [[0., 0., 0.,  ..., 0., 0., 0.],\n",
      "         [0., 0., 0.,  ..., 0., 0., 0.]],\n",
      "\n",
      "        [[0., 0., 0.,  ..., 0., 0., 0.],\n",
      "         [0., 0., 0.,  ..., 0., 0., 0.]],\n",
      "\n",
      "        [[0., 0., 0.,  ..., 0., 0., 0.],\n",
      "         [0., 0., 0.,  ..., 0., 0., 0.]]])\n"
     ]
    }
   ],
   "source": [
    "from steves_utils.transforms import get_average_magnitude, get_average_power\n",
    "\n",
    "print(set([u for u,_ in val_original_source]))\n",
    "print(set([u for u,_ in val_original_target]))\n",
    "\n",
    "s_x, s_y, q_x, q_y, _ = next(iter(train_processed_source))\n",
    "print(s_x)\n",
    "\n",
    "# for ds in [\n",
    "#     train_processed_source,\n",
    "#     val_processed_source,\n",
    "#     test_processed_source,\n",
    "#     train_processed_target,\n",
    "#     val_processed_target,\n",
    "#     test_processed_target\n",
    "# ]:\n",
    "#     for s_x, s_y, q_x, q_y, _ in ds:\n",
    "#         for X in (s_x, q_x):\n",
    "#             for x in X:\n",
    "#                 assert np.isclose(get_average_magnitude(x.numpy()), 1.0)\n",
    "#                 assert np.isclose(get_average_power(x.numpy()), 1.0)\n",
    "                "
   ]
  },
  {
   "cell_type": "code",
   "execution_count": 21,
   "id": "bbdacba1",
   "metadata": {
    "execution": {
     "iopub.execute_input": "2022-03-28T17:26:07.080096Z",
     "iopub.status.busy": "2022-03-28T17:26:07.079715Z",
     "iopub.status.idle": "2022-03-28T17:26:07.282605Z",
     "shell.execute_reply": "2022-03-28T17:26:07.282926Z"
    },
    "papermill": {
     "duration": 0.234497,
     "end_time": "2022-03-28T17:26:07.283055",
     "exception": false,
     "start_time": "2022-03-28T17:26:07.048558",
     "status": "completed"
    },
    "tags": []
   },
   "outputs": [
    {
     "name": "stdout",
     "output_type": "stream",
     "text": [
      "(2, 256)\n"
     ]
    }
   ],
   "source": [
    "###################################\n",
    "# Build the model\n",
    "###################################\n",
    "# easfsl only wants a tuple for the shape\n",
    "model = Steves_Prototypical_Network(x_net, device=p.device, x_shape=tuple(p.x_shape))\n",
    "optimizer = Adam(params=model.parameters(), lr=p.lr)"
   ]
  },
  {
   "cell_type": "code",
   "execution_count": 22,
   "id": "22b39ac5",
   "metadata": {
    "execution": {
     "iopub.execute_input": "2022-03-28T17:26:07.333439Z",
     "iopub.status.busy": "2022-03-28T17:26:07.333067Z",
     "iopub.status.idle": "2022-03-28T17:51:03.710895Z",
     "shell.execute_reply": "2022-03-28T17:51:03.710551Z"
    },
    "papermill": {
     "duration": 1496.405028,
     "end_time": "2022-03-28T17:51:03.710982",
     "exception": false,
     "start_time": "2022-03-28T17:26:07.305954",
     "status": "completed"
    },
    "tags": []
   },
   "outputs": [
    {
     "name": "stdout",
     "output_type": "stream",
     "text": [
      "epoch: 1, [batch: 1 / 6720], examples_per_second: 32.4157, train_label_loss: 2.7495, \n"
     ]
    },
    {
     "name": "stdout",
     "output_type": "stream",
     "text": [
      "epoch: 1, [batch: 672 / 6720], examples_per_second: 4057.1184, train_label_loss: 1.0859, \n"
     ]
    },
    {
     "name": "stdout",
     "output_type": "stream",
     "text": [
      "epoch: 1, [batch: 1344 / 6720], examples_per_second: 4414.1177, train_label_loss: 0.8360, \n"
     ]
    },
    {
     "name": "stdout",
     "output_type": "stream",
     "text": [
      "epoch: 1, [batch: 2016 / 6720], examples_per_second: 4243.5121, train_label_loss: 1.1579, \n"
     ]
    },
    {
     "name": "stdout",
     "output_type": "stream",
     "text": [
      "epoch: 1, [batch: 2688 / 6720], examples_per_second: 4378.4736, train_label_loss: 0.7498, \n"
     ]
    },
    {
     "name": "stdout",
     "output_type": "stream",
     "text": [
      "epoch: 1, [batch: 3360 / 6720], examples_per_second: 4707.3301, train_label_loss: 0.7424, \n"
     ]
    },
    {
     "name": "stdout",
     "output_type": "stream",
     "text": [
      "epoch: 1, [batch: 4032 / 6720], examples_per_second: 5292.7630, train_label_loss: 0.5980, \n"
     ]
    },
    {
     "name": "stdout",
     "output_type": "stream",
     "text": [
      "epoch: 1, [batch: 4704 / 6720], examples_per_second: 5082.8990, train_label_loss: 0.5550, \n"
     ]
    },
    {
     "name": "stdout",
     "output_type": "stream",
     "text": [
      "epoch: 1, [batch: 5376 / 6720], examples_per_second: 3940.3933, train_label_loss: 0.4828, \n"
     ]
    },
    {
     "name": "stdout",
     "output_type": "stream",
     "text": [
      "epoch: 1, [batch: 6048 / 6720], examples_per_second: 3895.5677, train_label_loss: 0.3085, \n"
     ]
    },
    {
     "name": "stdout",
     "output_type": "stream",
     "text": [
      "=============================================================\n",
      "epoch: 1, source_val_acc_label: 0.5354, target_val_acc_label: 0.6353, source_val_label_loss: 352.7811, target_val_label_loss: 3335.3931, \n",
      "=============================================================\n"
     ]
    },
    {
     "name": "stdout",
     "output_type": "stream",
     "text": [
      "New best\n"
     ]
    },
    {
     "name": "stdout",
     "output_type": "stream",
     "text": [
      "epoch: 2, [batch: 1 / 6720], examples_per_second: 3.9804, train_label_loss: 567.4746, \n"
     ]
    },
    {
     "name": "stdout",
     "output_type": "stream",
     "text": [
      "epoch: 2, [batch: 672 / 6720], examples_per_second: 3892.6925, train_label_loss: 0.4406, \n"
     ]
    },
    {
     "name": "stdout",
     "output_type": "stream",
     "text": [
      "epoch: 2, [batch: 1344 / 6720], examples_per_second: 4004.9954, train_label_loss: 0.9022, \n"
     ]
    },
    {
     "name": "stdout",
     "output_type": "stream",
     "text": [
      "epoch: 2, [batch: 2016 / 6720], examples_per_second: 3948.3597, train_label_loss: 0.4310, \n"
     ]
    },
    {
     "name": "stdout",
     "output_type": "stream",
     "text": [
      "epoch: 2, [batch: 2688 / 6720], examples_per_second: 3914.4687, train_label_loss: 0.4911, \n"
     ]
    },
    {
     "name": "stdout",
     "output_type": "stream",
     "text": [
      "epoch: 2, [batch: 3360 / 6720], examples_per_second: 4029.9736, train_label_loss: 0.5196, \n"
     ]
    },
    {
     "name": "stdout",
     "output_type": "stream",
     "text": [
      "epoch: 2, [batch: 4032 / 6720], examples_per_second: 4306.5337, train_label_loss: 0.8282, \n"
     ]
    },
    {
     "name": "stdout",
     "output_type": "stream",
     "text": [
      "epoch: 2, [batch: 4704 / 6720], examples_per_second: 4441.9924, train_label_loss: 0.7445, \n"
     ]
    },
    {
     "name": "stdout",
     "output_type": "stream",
     "text": [
      "epoch: 2, [batch: 5376 / 6720], examples_per_second: 3944.5528, train_label_loss: 0.7337, \n"
     ]
    },
    {
     "name": "stdout",
     "output_type": "stream",
     "text": [
      "epoch: 2, [batch: 6048 / 6720], examples_per_second: 3883.2464, train_label_loss: 0.5722, \n"
     ]
    },
    {
     "name": "stdout",
     "output_type": "stream",
     "text": [
      "=============================================================\n",
      "epoch: 2, source_val_acc_label: 0.7896, target_val_acc_label: 0.7900, source_val_label_loss: 0.5829, target_val_label_loss: 203.0424, \n",
      "=============================================================\n"
     ]
    },
    {
     "name": "stdout",
     "output_type": "stream",
     "text": [
      "New best\n"
     ]
    },
    {
     "name": "stdout",
     "output_type": "stream",
     "text": [
      "epoch: 3, [batch: 1 / 6720], examples_per_second: 3.0131, train_label_loss: 0.5210, \n"
     ]
    },
    {
     "name": "stdout",
     "output_type": "stream",
     "text": [
      "epoch: 3, [batch: 672 / 6720], examples_per_second: 2967.2358, train_label_loss: 0.5943, \n"
     ]
    },
    {
     "name": "stdout",
     "output_type": "stream",
     "text": [
      "epoch: 3, [batch: 1344 / 6720], examples_per_second: 2972.4912, train_label_loss: 0.4268, \n"
     ]
    },
    {
     "name": "stdout",
     "output_type": "stream",
     "text": [
      "epoch: 3, [batch: 2016 / 6720], examples_per_second: 2938.9887, train_label_loss: 0.6485, \n"
     ]
    },
    {
     "name": "stdout",
     "output_type": "stream",
     "text": [
      "epoch: 3, [batch: 2688 / 6720], examples_per_second: 2955.5002, train_label_loss: 0.4991, \n"
     ]
    },
    {
     "name": "stdout",
     "output_type": "stream",
     "text": [
      "epoch: 3, [batch: 3360 / 6720], examples_per_second: 3279.4683, train_label_loss: 0.4066, \n"
     ]
    },
    {
     "name": "stdout",
     "output_type": "stream",
     "text": [
      "epoch: 3, [batch: 4032 / 6720], examples_per_second: 3437.3894, train_label_loss: 0.4839, \n"
     ]
    },
    {
     "name": "stdout",
     "output_type": "stream",
     "text": [
      "epoch: 3, [batch: 4704 / 6720], examples_per_second: 3393.3178, train_label_loss: 0.4981, \n"
     ]
    },
    {
     "name": "stdout",
     "output_type": "stream",
     "text": [
      "epoch: 3, [batch: 5376 / 6720], examples_per_second: 3225.7075, train_label_loss: 0.4634, \n"
     ]
    },
    {
     "name": "stdout",
     "output_type": "stream",
     "text": [
      "epoch: 3, [batch: 6048 / 6720], examples_per_second: 3400.0246, train_label_loss: 0.5429, \n"
     ]
    },
    {
     "name": "stdout",
     "output_type": "stream",
     "text": [
      "=============================================================\n",
      "epoch: 3, source_val_acc_label: 0.8169, target_val_acc_label: 0.7841, source_val_label_loss: 0.5424, target_val_label_loss: 66.9830, \n",
      "=============================================================\n"
     ]
    },
    {
     "name": "stdout",
     "output_type": "stream",
     "text": [
      "epoch: 4, [batch: 1 / 6720], examples_per_second: 2.9675, train_label_loss: 0.3451, \n"
     ]
    },
    {
     "name": "stdout",
     "output_type": "stream",
     "text": [
      "epoch: 4, [batch: 672 / 6720], examples_per_second: 2942.0552, train_label_loss: 0.3974, \n"
     ]
    },
    {
     "name": "stdout",
     "output_type": "stream",
     "text": [
      "epoch: 4, [batch: 1344 / 6720], examples_per_second: 3047.7863, train_label_loss: 1.0257, \n"
     ]
    },
    {
     "name": "stdout",
     "output_type": "stream",
     "text": [
      "epoch: 4, [batch: 2016 / 6720], examples_per_second: 2996.8206, train_label_loss: 0.1938, \n"
     ]
    },
    {
     "name": "stdout",
     "output_type": "stream",
     "text": [
      "epoch: 4, [batch: 2688 / 6720], examples_per_second: 3005.2337, train_label_loss: 0.4686, \n"
     ]
    },
    {
     "name": "stdout",
     "output_type": "stream",
     "text": [
      "epoch: 4, [batch: 3360 / 6720], examples_per_second: 3379.7465, train_label_loss: 0.1548, \n"
     ]
    },
    {
     "name": "stdout",
     "output_type": "stream",
     "text": [
      "epoch: 4, [batch: 4032 / 6720], examples_per_second: 3474.0309, train_label_loss: 0.5374, \n"
     ]
    },
    {
     "name": "stdout",
     "output_type": "stream",
     "text": [
      "epoch: 4, [batch: 4704 / 6720], examples_per_second: 3372.6004, train_label_loss: 0.4763, \n"
     ]
    },
    {
     "name": "stdout",
     "output_type": "stream",
     "text": [
      "epoch: 4, [batch: 5376 / 6720], examples_per_second: 3315.8049, train_label_loss: 0.2307, \n"
     ]
    },
    {
     "name": "stdout",
     "output_type": "stream",
     "text": [
      "epoch: 4, [batch: 6048 / 6720], examples_per_second: 3462.8282, train_label_loss: 0.4742, \n"
     ]
    },
    {
     "name": "stdout",
     "output_type": "stream",
     "text": [
      "=============================================================\n",
      "epoch: 4, source_val_acc_label: 0.8685, target_val_acc_label: 0.8101, source_val_label_loss: 0.3748, target_val_label_loss: 105.8957, \n",
      "=============================================================\n"
     ]
    },
    {
     "name": "stdout",
     "output_type": "stream",
     "text": [
      "New best\n"
     ]
    },
    {
     "name": "stdout",
     "output_type": "stream",
     "text": [
      "epoch: 5, [batch: 1 / 6720], examples_per_second: 3.0232, train_label_loss: 0.6320, \n"
     ]
    },
    {
     "name": "stdout",
     "output_type": "stream",
     "text": [
      "epoch: 5, [batch: 672 / 6720], examples_per_second: 2947.7847, train_label_loss: 0.4720, \n"
     ]
    },
    {
     "name": "stdout",
     "output_type": "stream",
     "text": [
      "epoch: 5, [batch: 1344 / 6720], examples_per_second: 3008.0520, train_label_loss: 0.2701, \n"
     ]
    },
    {
     "name": "stdout",
     "output_type": "stream",
     "text": [
      "epoch: 5, [batch: 2016 / 6720], examples_per_second: 3027.7010, train_label_loss: 0.6134, \n"
     ]
    },
    {
     "name": "stdout",
     "output_type": "stream",
     "text": [
      "epoch: 5, [batch: 2688 / 6720], examples_per_second: 2970.7073, train_label_loss: 0.2028, \n"
     ]
    },
    {
     "name": "stdout",
     "output_type": "stream",
     "text": [
      "epoch: 5, [batch: 3360 / 6720], examples_per_second: 3366.4927, train_label_loss: 0.6943, \n"
     ]
    },
    {
     "name": "stdout",
     "output_type": "stream",
     "text": [
      "epoch: 5, [batch: 4032 / 6720], examples_per_second: 3522.8998, train_label_loss: 0.1768, \n"
     ]
    },
    {
     "name": "stdout",
     "output_type": "stream",
     "text": [
      "epoch: 5, [batch: 4704 / 6720], examples_per_second: 3447.2716, train_label_loss: 0.3004, \n"
     ]
    },
    {
     "name": "stdout",
     "output_type": "stream",
     "text": [
      "epoch: 5, [batch: 5376 / 6720], examples_per_second: 3272.3238, train_label_loss: 0.1607, \n"
     ]
    },
    {
     "name": "stdout",
     "output_type": "stream",
     "text": [
      "epoch: 5, [batch: 6048 / 6720], examples_per_second: 3463.7570, train_label_loss: 0.5544, \n"
     ]
    },
    {
     "name": "stdout",
     "output_type": "stream",
     "text": [
      "=============================================================\n",
      "epoch: 5, source_val_acc_label: 0.8543, target_val_acc_label: 0.7673, source_val_label_loss: 0.4067, target_val_label_loss: 255.6743, \n",
      "=============================================================\n"
     ]
    },
    {
     "name": "stdout",
     "output_type": "stream",
     "text": [
      "epoch: 6, [batch: 1 / 6720], examples_per_second: 3.0312, train_label_loss: 0.2571, \n"
     ]
    },
    {
     "name": "stdout",
     "output_type": "stream",
     "text": [
      "epoch: 6, [batch: 672 / 6720], examples_per_second: 2960.6270, train_label_loss: 0.2220, \n"
     ]
    },
    {
     "name": "stdout",
     "output_type": "stream",
     "text": [
      "epoch: 6, [batch: 1344 / 6720], examples_per_second: 3045.0053, train_label_loss: 0.4559, \n"
     ]
    },
    {
     "name": "stdout",
     "output_type": "stream",
     "text": [
      "epoch: 6, [batch: 2016 / 6720], examples_per_second: 3001.6262, train_label_loss: 0.3361, \n"
     ]
    },
    {
     "name": "stdout",
     "output_type": "stream",
     "text": [
      "epoch: 6, [batch: 2688 / 6720], examples_per_second: 3030.7174, train_label_loss: 0.2462, \n"
     ]
    },
    {
     "name": "stdout",
     "output_type": "stream",
     "text": [
      "epoch: 6, [batch: 3360 / 6720], examples_per_second: 3312.1463, train_label_loss: 0.4754, \n"
     ]
    },
    {
     "name": "stdout",
     "output_type": "stream",
     "text": [
      "epoch: 6, [batch: 4032 / 6720], examples_per_second: 3464.9060, train_label_loss: 0.5347, \n"
     ]
    },
    {
     "name": "stdout",
     "output_type": "stream",
     "text": [
      "epoch: 6, [batch: 4704 / 6720], examples_per_second: 3466.0252, train_label_loss: 0.2182, \n"
     ]
    },
    {
     "name": "stdout",
     "output_type": "stream",
     "text": [
      "epoch: 6, [batch: 5376 / 6720], examples_per_second: 3240.7201, train_label_loss: 0.2791, \n"
     ]
    },
    {
     "name": "stdout",
     "output_type": "stream",
     "text": [
      "epoch: 6, [batch: 6048 / 6720], examples_per_second: 3471.1173, train_label_loss: 0.2509, \n"
     ]
    },
    {
     "name": "stdout",
     "output_type": "stream",
     "text": [
      "=============================================================\n",
      "epoch: 6, source_val_acc_label: 0.8669, target_val_acc_label: 0.7667, source_val_label_loss: 0.3772, target_val_label_loss: 325.6694, \n",
      "=============================================================\n"
     ]
    },
    {
     "name": "stdout",
     "output_type": "stream",
     "text": [
      "epoch: 7, [batch: 1 / 6720], examples_per_second: 3.0052, train_label_loss: 0.2945, \n"
     ]
    },
    {
     "name": "stdout",
     "output_type": "stream",
     "text": [
      "epoch: 7, [batch: 672 / 6720], examples_per_second: 3000.0547, train_label_loss: 0.2635, \n"
     ]
    },
    {
     "name": "stdout",
     "output_type": "stream",
     "text": [
      "epoch: 7, [batch: 1344 / 6720], examples_per_second: 2989.3820, train_label_loss: 0.2787, \n"
     ]
    },
    {
     "name": "stdout",
     "output_type": "stream",
     "text": [
      "epoch: 7, [batch: 2016 / 6720], examples_per_second: 3021.4815, train_label_loss: 0.2160, \n"
     ]
    },
    {
     "name": "stdout",
     "output_type": "stream",
     "text": [
      "epoch: 7, [batch: 2688 / 6720], examples_per_second: 2998.9040, train_label_loss: 0.2188, \n"
     ]
    },
    {
     "name": "stdout",
     "output_type": "stream",
     "text": [
      "epoch: 7, [batch: 3360 / 6720], examples_per_second: 3312.8151, train_label_loss: 0.0386, \n"
     ]
    },
    {
     "name": "stdout",
     "output_type": "stream",
     "text": [
      "epoch: 7, [batch: 4032 / 6720], examples_per_second: 3384.0627, train_label_loss: 0.4825, \n"
     ]
    },
    {
     "name": "stdout",
     "output_type": "stream",
     "text": [
      "epoch: 7, [batch: 4704 / 6720], examples_per_second: 3426.9708, train_label_loss: 0.3812, \n"
     ]
    },
    {
     "name": "stdout",
     "output_type": "stream",
     "text": [
      "epoch: 7, [batch: 5376 / 6720], examples_per_second: 3599.8819, train_label_loss: 0.2322, \n"
     ]
    },
    {
     "name": "stdout",
     "output_type": "stream",
     "text": [
      "epoch: 7, [batch: 6048 / 6720], examples_per_second: 3746.4429, train_label_loss: 0.2244, \n"
     ]
    },
    {
     "name": "stdout",
     "output_type": "stream",
     "text": [
      "=============================================================\n",
      "epoch: 7, source_val_acc_label: 0.8612, target_val_acc_label: 0.7531, source_val_label_loss: 0.3925, target_val_label_loss: 421.6295, \n",
      "=============================================================\n"
     ]
    },
    {
     "name": "stdout",
     "output_type": "stream",
     "text": [
      "epoch: 8, [batch: 1 / 6720], examples_per_second: 3.4262, train_label_loss: 0.3026, \n"
     ]
    },
    {
     "name": "stdout",
     "output_type": "stream",
     "text": [
      "epoch: 8, [batch: 672 / 6720], examples_per_second: 3349.6141, train_label_loss: 0.2540, \n"
     ]
    },
    {
     "name": "stdout",
     "output_type": "stream",
     "text": [
      "epoch: 8, [batch: 1344 / 6720], examples_per_second: 3658.3574, train_label_loss: 0.3080, \n"
     ]
    },
    {
     "name": "stdout",
     "output_type": "stream",
     "text": [
      "epoch: 8, [batch: 2016 / 6720], examples_per_second: 3976.8973, train_label_loss: 0.3117, \n"
     ]
    },
    {
     "name": "stdout",
     "output_type": "stream",
     "text": [
      "epoch: 8, [batch: 2688 / 6720], examples_per_second: 3971.5433, train_label_loss: 0.2726, \n"
     ]
    },
    {
     "name": "stdout",
     "output_type": "stream",
     "text": [
      "epoch: 8, [batch: 3360 / 6720], examples_per_second: 3940.0357, train_label_loss: 0.7100, \n"
     ]
    },
    {
     "name": "stdout",
     "output_type": "stream",
     "text": [
      "epoch: 8, [batch: 4032 / 6720], examples_per_second: 3927.4919, train_label_loss: 0.3809, \n"
     ]
    },
    {
     "name": "stdout",
     "output_type": "stream",
     "text": [
      "epoch: 8, [batch: 4704 / 6720], examples_per_second: 3860.2718, train_label_loss: 0.0607, \n"
     ]
    },
    {
     "name": "stdout",
     "output_type": "stream",
     "text": [
      "epoch: 8, [batch: 5376 / 6720], examples_per_second: 4211.5884, train_label_loss: 0.2026, \n"
     ]
    },
    {
     "name": "stdout",
     "output_type": "stream",
     "text": [
      "epoch: 8, [batch: 6048 / 6720], examples_per_second: 4372.0841, train_label_loss: 0.2607, \n"
     ]
    },
    {
     "name": "stdout",
     "output_type": "stream",
     "text": [
      "=============================================================\n",
      "epoch: 8, source_val_acc_label: 0.8759, target_val_acc_label: 0.7411, source_val_label_loss: 0.3465, target_val_label_loss: 541.8007, \n",
      "=============================================================\n"
     ]
    },
    {
     "name": "stdout",
     "output_type": "stream",
     "text": [
      "Patience (3) exhausted\n"
     ]
    }
   ],
   "source": [
    "###################################\n",
    "# train\n",
    "###################################\n",
    "jig = PTN_Train_Eval_Test_Jig(model, p.BEST_MODEL_PATH, p.device)\n",
    "\n",
    "jig.train(\n",
    "    train_iterable=datasets.source.processed.train,\n",
    "    source_val_iterable=datasets.source.processed.val,\n",
    "    target_val_iterable=datasets.target.processed.val,\n",
    "    num_epochs=p.n_epoch,\n",
    "    num_logs_per_epoch=p.NUM_LOGS_PER_EPOCH,\n",
    "    patience=p.patience,\n",
    "    optimizer=optimizer,\n",
    "    criteria_for_best=p.criteria_for_best,\n",
    ")"
   ]
  },
  {
   "cell_type": "code",
   "execution_count": 23,
   "id": "31e8fabf",
   "metadata": {
    "execution": {
     "iopub.execute_input": "2022-03-28T17:51:03.811639Z",
     "iopub.status.busy": "2022-03-28T17:51:03.811052Z",
     "iopub.status.idle": "2022-03-28T17:51:03.844033Z",
     "shell.execute_reply": "2022-03-28T17:51:03.843300Z"
    },
    "papermill": {
     "duration": 0.085701,
     "end_time": "2022-03-28T17:51:03.844273",
     "exception": false,
     "start_time": "2022-03-28T17:51:03.758572",
     "status": "completed"
    },
    "tags": []
   },
   "outputs": [],
   "source": [
    "total_experiment_time_secs = time.time() - start_time_secs"
   ]
  },
  {
   "cell_type": "code",
   "execution_count": 24,
   "id": "87b9595b",
   "metadata": {
    "execution": {
     "iopub.execute_input": "2022-03-28T17:51:03.952699Z",
     "iopub.status.busy": "2022-03-28T17:51:03.951822Z",
     "iopub.status.idle": "2022-03-28T17:53:39.216111Z",
     "shell.execute_reply": "2022-03-28T17:53:39.215176Z"
    },
    "papermill": {
     "duration": 155.321194,
     "end_time": "2022-03-28T17:53:39.216300",
     "exception": false,
     "start_time": "2022-03-28T17:51:03.895106",
     "status": "completed"
    },
    "tags": []
   },
   "outputs": [],
   "source": [
    "###################################\n",
    "# Evaluate the model\n",
    "###################################\n",
    "source_test_label_accuracy, source_test_label_loss = jig.test(datasets.source.processed.test)\n",
    "target_test_label_accuracy, target_test_label_loss = jig.test(datasets.target.processed.test)\n",
    "\n",
    "source_val_label_accuracy, source_val_label_loss = jig.test(datasets.source.processed.val)\n",
    "target_val_label_accuracy, target_val_label_loss = jig.test(datasets.target.processed.val)\n",
    "\n",
    "history = jig.get_history()\n",
    "\n",
    "total_epochs_trained = len(history[\"epoch_indices\"])\n",
    "\n",
    "val_dl = Iterable_Aggregator((datasets.source.original.val,datasets.target.original.val))\n",
    "\n",
    "confusion = ptn_confusion_by_domain_over_dataloader(model, p.device, val_dl)\n",
    "per_domain_accuracy = per_domain_accuracy_from_confusion(confusion)\n",
    "\n",
    "# Add a key to per_domain_accuracy for if it was a source domain\n",
    "for domain, accuracy in per_domain_accuracy.items():\n",
    "    per_domain_accuracy[domain] = {\n",
    "        \"accuracy\": accuracy,\n",
    "        \"source?\": domain in p.domains_source\n",
    "    }\n",
    "\n",
    "# Do an independent accuracy assesment JUST TO BE SURE!\n",
    "# _source_test_label_accuracy = independent_accuracy_assesment(model, datasets.source.processed.test, p.device)\n",
    "# _target_test_label_accuracy = independent_accuracy_assesment(model, datasets.target.processed.test, p.device)\n",
    "# _source_val_label_accuracy = independent_accuracy_assesment(model, datasets.source.processed.val, p.device)\n",
    "# _target_val_label_accuracy = independent_accuracy_assesment(model, datasets.target.processed.val, p.device)\n",
    "\n",
    "# assert(_source_test_label_accuracy == source_test_label_accuracy)\n",
    "# assert(_target_test_label_accuracy == target_test_label_accuracy)\n",
    "# assert(_source_val_label_accuracy == source_val_label_accuracy)\n",
    "# assert(_target_val_label_accuracy == target_val_label_accuracy)\n",
    "\n",
    "experiment = {\n",
    "    \"experiment_name\": p.experiment_name,\n",
    "    \"parameters\": dict(p),\n",
    "    \"results\": {\n",
    "        \"source_test_label_accuracy\": source_test_label_accuracy,\n",
    "        \"source_test_label_loss\": source_test_label_loss,\n",
    "        \"target_test_label_accuracy\": target_test_label_accuracy,\n",
    "        \"target_test_label_loss\": target_test_label_loss,\n",
    "        \"source_val_label_accuracy\": source_val_label_accuracy,\n",
    "        \"source_val_label_loss\": source_val_label_loss,\n",
    "        \"target_val_label_accuracy\": target_val_label_accuracy,\n",
    "        \"target_val_label_loss\": target_val_label_loss,\n",
    "        \"total_epochs_trained\": total_epochs_trained,\n",
    "        \"total_experiment_time_secs\": total_experiment_time_secs,\n",
    "        \"confusion\": confusion,\n",
    "        \"per_domain_accuracy\": per_domain_accuracy,\n",
    "    },\n",
    "    \"history\": history,\n",
    "    \"dataset_metrics\": get_dataset_metrics(datasets, \"ptn\"),\n",
    "}"
   ]
  },
  {
   "cell_type": "code",
   "execution_count": 25,
   "id": "54a21829",
   "metadata": {
    "execution": {
     "iopub.execute_input": "2022-03-28T17:53:39.319578Z",
     "iopub.status.busy": "2022-03-28T17:53:39.319188Z",
     "iopub.status.idle": "2022-03-28T17:53:39.548403Z",
     "shell.execute_reply": "2022-03-28T17:53:39.549078Z"
    },
    "papermill": {
     "duration": 0.279576,
     "end_time": "2022-03-28T17:53:39.549293",
     "exception": false,
     "start_time": "2022-03-28T17:53:39.269717",
     "status": "completed"
    },
    "tags": []
   },
   "outputs": [
    {
     "data": {
      "image/png": "[encoded data removed]",
      "text/plain": [
       "<Figure size 1080x504 with 1 Axes>"
      ]
     },
     "metadata": {
      "needs_background": "light"
     },
     "output_type": "display_data"
    }
   ],
   "source": [
    "ax = get_loss_curve(experiment)\n",
    "plt.show()"
   ]
  },
  {
   "cell_type": "code",
   "execution_count": 26,
   "id": "fd8a0f60",
   "metadata": {
    "execution": {
     "iopub.execute_input": "2022-03-28T17:53:39.650393Z",
     "iopub.status.busy": "2022-03-28T17:53:39.649815Z",
     "iopub.status.idle": "2022-03-28T17:53:39.976316Z",
     "shell.execute_reply": "2022-03-28T17:53:39.977005Z"
    },
    "papermill": {
     "duration": 0.376768,
     "end_time": "2022-03-28T17:53:39.977228",
     "exception": false,
     "start_time": "2022-03-28T17:53:39.600460",
     "status": "completed"
    },
    "tags": []
   },
   "outputs": [
    {
     "data": {
      "text/plain": [
       "<AxesSubplot:title={'center':'Results'}>"
      ]
     },
     "execution_count": 26,
     "metadata": {},
     "output_type": "execute_result"
    },
    {
     "data": {
      "image/png": "[encoded data removed]",
      "text/plain": [
       "<Figure size 1080x504 with 1 Axes>"
      ]
     },
     "metadata": {
      "needs_background": "light"
     },
     "output_type": "display_data"
    }
   ],
   "source": [
    "get_results_table(experiment)"
   ]
  },
  {
   "cell_type": "code",
   "execution_count": 27,
   "id": "cf8dc689",
   "metadata": {
    "execution": {
     "iopub.execute_input": "2022-03-28T17:53:40.083017Z",
     "iopub.status.busy": "2022-03-28T17:53:40.082649Z",
     "iopub.status.idle": "2022-03-28T17:53:40.321748Z",
     "shell.execute_reply": "2022-03-28T17:53:40.320917Z"
    },
    "papermill": {
     "duration": 0.291527,
     "end_time": "2022-03-28T17:53:40.321923",
     "exception": false,
     "start_time": "2022-03-28T17:53:40.030396",
     "status": "completed"
    },
    "tags": []
   },
   "outputs": [
    {
     "data": {
      "text/plain": [
       "<AxesSubplot:title={'center':'Per Domain Validation Accuracy'}, xlabel='domain'>"
      ]
     },
     "execution_count": 27,
     "metadata": {},
     "output_type": "execute_result"
    },
    {
     "data": {
      "image/png": "[encoded data removed]",
      "text/plain": [
       "<Figure size 1080x504 with 1 Axes>"
      ]
     },
     "metadata": {
      "needs_background": "light"
     },
     "output_type": "display_data"
    }
   ],
   "source": [
    "get_domain_accuracies(experiment)"
   ]
  },
  {
   "cell_type": "code",
   "execution_count": 28,
   "id": "a74ae082",
   "metadata": {
    "execution": {
     "iopub.execute_input": "2022-03-28T17:53:40.433536Z",
     "iopub.status.busy": "2022-03-28T17:53:40.432965Z",
     "iopub.status.idle": "2022-03-28T17:53:40.460121Z",
     "shell.execute_reply": "2022-03-28T17:53:40.459364Z"
    },
    "papermill": {
     "duration": 0.083567,
     "end_time": "2022-03-28T17:53:40.460289",
     "exception": false,
     "start_time": "2022-03-28T17:53:40.376722",
     "status": "completed"
    },
    "tags": []
   },
   "outputs": [
    {
     "name": "stdout",
     "output_type": "stream",
     "text": [
      "Source Test Label Accuracy: 0.86923828125 Target Test Label Accuracy: 0.8173992161254199\n",
      "Source Val Label Accuracy: 0.8684895833333334 Target Val Label Accuracy: 0.8101044050343249\n"
     ]
    }
   ],
   "source": [
    "print(\"Source Test Label Accuracy:\", experiment[\"results\"][\"source_test_label_accuracy\"], \"Target Test Label Accuracy:\", experiment[\"results\"][\"target_test_label_accuracy\"])\n",
    "print(\"Source Val Label Accuracy:\", experiment[\"results\"][\"source_val_label_accuracy\"], \"Target Val Label Accuracy:\", experiment[\"results\"][\"target_val_label_accuracy\"])"
   ]
  },
  {
   "cell_type": "code",
   "execution_count": 29,
   "id": "dacca602",
   "metadata": {
    "execution": {
     "iopub.execute_input": "2022-03-28T17:53:40.571148Z",
     "iopub.status.busy": "2022-03-28T17:53:40.570786Z",
     "iopub.status.idle": "2022-03-28T17:53:40.596225Z",
     "shell.execute_reply": "2022-03-28T17:53:40.596690Z"
    },
    "papermill": {
     "duration": 0.079454,
     "end_time": "2022-03-28T17:53:40.596838",
     "exception": false,
     "start_time": "2022-03-28T17:53:40.517384",
     "status": "completed"
    },
    "tags": [
     "experiment_json"
    ]
   },
   "outputs": [
    {
     "data": {
      "text/plain": [
       "'{\"experiment_name\": \"tl_3-jitter5v2:oracle.run1.framed -> cores\", \"parameters\": {\"experiment_name\": \"tl_3-jitter5v2:oracle.run1.framed -> cores\", \"device\": \"cuda\", \"lr\": 0.0001, \"x_shape\": [2, 256], \"n_shot\": 3, \"n_query\": 2, \"train_k_factor\": 3, \"val_k_factor\": 2, \"test_k_factor\": 2, \"torch_default_dtype\": \"torch.float32\", \"n_epoch\": 50, \"patience\": 3, \"criteria_for_best\": \"target_accuracy\", \"x_net\": [{\"class\": \"nnReshape\", \"kargs\": {\"shape\": [-1, 1, 2, 256]}}, {\"class\": \"Conv2d\", \"kargs\": {\"in_channels\": 1, \"out_channels\": 256, \"kernel_size\": [1, 7], \"bias\": false, \"padding\": [0, 3]}}, {\"class\": \"ReLU\", \"kargs\": {\"inplace\": true}}, {\"class\": \"BatchNorm2d\", \"kargs\": {\"num_features\": 256}}, {\"class\": \"Conv2d\", \"kargs\": {\"in_channels\": 256, \"out_channels\": 80, \"kernel_size\": [2, 7], \"bias\": true, \"padding\": [0, 3]}}, {\"class\": \"ReLU\", \"kargs\": {\"inplace\": true}}, {\"class\": \"BatchNorm2d\", \"kargs\": {\"num_features\": 80}}, {\"class\": \"Flatten\", \"kargs\": {}}, {\"class\": \"Linear\", \"kargs\": {\"in_features\": 20480, \"out_features\": 256}}, {\"class\": \"ReLU\", \"kargs\": {\"inplace\": true}}, {\"class\": \"BatchNorm1d\", \"kargs\": {\"num_features\": 256}}, {\"class\": \"Linear\", \"kargs\": {\"in_features\": 256, \"out_features\": 256}}], \"NUM_LOGS_PER_EPOCH\": 10, \"BEST_MODEL_PATH\": \"./best_model.pth\", \"n_way\": 16, \"datasets\": [{\"labels\": [\"1-10.\", \"1-11.\", \"1-15.\", \"1-16.\", \"1-17.\", \"1-18.\", \"1-19.\", \"10-4.\", \"10-7.\", \"11-1.\", \"11-14.\", \"11-17.\", \"11-20.\", \"11-7.\", \"13-20.\", \"13-8.\", \"14-10.\", \"14-11.\", \"14-14.\", \"14-7.\", \"15-1.\", \"15-20.\", \"16-1.\", \"16-16.\", \"17-10.\", \"17-11.\", \"17-2.\", \"19-1.\", \"19-16.\", \"19-19.\", \"19-20.\", \"19-3.\", \"2-10.\", \"2-11.\", \"2-17.\", \"2-18.\", \"2-20.\", \"2-3.\", \"2-4.\", \"2-5.\", \"2-6.\", \"2-7.\", \"2-8.\", \"3-13.\", \"3-18.\", \"3-3.\", \"4-1.\", \"4-10.\", \"4-11.\", \"4-19.\", \"5-5.\", \"6-15.\", \"7-10.\", \"7-14.\", \"8-18.\", \"8-20.\", \"8-3.\", \"8-8.\"], \"domains\": [1, 2, 3, 4, 5], \"num_examples_per_domain_per_label\": -1, \"pickle_path\": \"/root/csc500-main/datasets/cores.stratified_ds.2022A.pkl\", \"source_or_target_dataset\": \"target\", \"x_transforms\": [\"jitter_256_5\", \"lowpass_+/-10MHz\", \"take_200\"], \"episode_transforms\": [], \"domain_prefix\": \"C_\"}, {\"labels\": [\"3123D52\", \"3123D65\", \"3123D79\", \"3123D80\", \"3123D54\", \"3123D70\", \"3123D7B\", \"3123D89\", \"3123D58\", \"3123D76\", \"3123D7D\", \"3123EFE\", \"3123D64\", \"3123D78\", \"3123D7E\", \"3124E4A\"], \"domains\": [32, 38, 8, 44, 14, 50, 20, 26], \"num_examples_per_domain_per_label\": 2000, \"pickle_path\": \"/root/csc500-main/datasets/oracle.Run1_framed_2000Examples_stratified_ds.2022A.pkl\", \"source_or_target_dataset\": \"source\", \"x_transforms\": [\"jitter_256_5\", \"take_200\", \"resample_20Msps_to_25Msps\"], \"episode_transforms\": [], \"domain_prefix\": \"O_\"}], \"seed\": 154325, \"dataset_seed\": 154325, \"domains_source\": [\"O_32\", \"O_38\", \"O_8\", \"O_44\", \"O_14\", \"O_50\", \"O_20\", \"O_26\"], \"domains_target\": [\"C_1\", \"C_2\", \"C_3\", \"C_4\", \"C_5\"]}, \"results\": {\"source_test_label_accuracy\": 0.86923828125, \"source_test_label_loss\": 0.3800394833087921, \"target_test_label_accuracy\": 0.8173992161254199, \"target_test_label_loss\": 103.61192321777344, \"source_val_label_accuracy\": 0.8684895833333334, \"source_val_label_loss\": 0.3747919499874115, \"target_val_label_accuracy\": 0.8101044050343249, \"target_val_label_loss\": 105.89570617675781, \"total_epochs_trained\": 8, \"total_experiment_time_secs\": 1577.0063388347626, \"confusion\": {\"O_8\": {\"13\": {\"10\": 39, \"7\": 15, \"13\": 185, \"5\": 1}, \"9\": {\"9\": 240}, \"15\": {\"15\": 209, \"12\": 31}, \"2\": {\"2\": 194, \"12\": 10, \"15\": 2, \"3\": 34}, \"3\": {\"3\": 240}, \"8\": {\"8\": 239, \"6\": 1}, \"5\": {\"1\": 25, \"5\": 183, \"11\": 10, \"10\": 21, \"4\": 1}, \"14\": {\"14\": 224, \"4\": 16}, \"1\": {\"1\": 179, \"5\": 5, \"11\": 54, \"10\": 2}, \"0\": {\"0\": 240}, \"10\": {\"10\": 203, \"13\": 26, \"4\": 1, \"5\": 8, \"6\": 2}, \"6\": {\"6\": 222, \"7\": 18}, \"11\": {\"1\": 113, \"11\": 115, \"14\": 7, \"5\": 4, \"10\": 1}, \"7\": {\"6\": 25, \"7\": 212, \"13\": 3}, \"4\": {\"4\": 239, \"14\": 1}, \"12\": {\"12\": 177, \"15\": 63}}, \"O_38\": {\"13\": {\"13\": 223, \"2\": 3, \"10\": 10, \"0\": 4}, \"12\": {\"12\": 240}, \"2\": {\"2\": 219, \"14\": 21}, \"9\": {\"9\": 233, \"5\": 5, \"7\": 2}, \"15\": {\"1\": 6, \"15\": 219, \"5\": 6, \"8\": 9}, \"5\": {\"5\": 121, \"8\": 79, \"7\": 18, \"9\": 16, \"0\": 1, \"15\": 5}, \"14\": {\"14\": 227, \"2\": 13}, \"0\": {\"7\": 22, \"0\": 164, \"3\": 13, \"13\": 12, \"10\": 28, \"5\": 1}, \"3\": {\"3\": 240}, \"1\": {\"1\": 240}, \"11\": {\"11\": 240}, \"7\": {\"7\": 236, \"8\": 2, \"5\": 2}, \"8\": {\"8\": 121, \"5\": 82, \"7\": 17, \"0\": 6, \"15\": 12, \"13\": 2}, \"4\": {\"4\": 237, \"10\": 3}, \"10\": {\"10\": 221, \"13\": 10, \"0\": 7, \"4\": 2}, \"6\": {\"6\": 240}}, \"O_26\": {\"10\": {\"10\": 177, \"14\": 45, \"15\": 4, \"0\": 10, \"6\": 4}, \"12\": {\"12\": 240}, \"1\": {\"1\": 190, \"14\": 40, \"6\": 2, \"10\": 5, \"15\": 2, \"5\": 1}, \"0\": {\"0\": 175, \"10\": 36, \"15\": 2, \"14\": 26, \"8\": 1}, \"15\": {\"15\": 160, \"5\": 50, \"6\": 20, \"10\": 8, \"1\": 1, \"14\": 1}, \"13\": {\"13\": 203, \"9\": 22, \"3\": 5, \"2\": 9, \"7\": 1}, \"8\": {\"8\": 182, \"9\": 29, \"7\": 25, \"2\": 3, \"0\": 1}, \"3\": {\"2\": 3, \"3\": 223, \"7\": 14}, \"11\": {\"11\": 240}, \"4\": {\"4\": 240}, \"6\": {\"6\": 222, \"15\": 16, \"1\": 1, \"5\": 1}, \"7\": {\"7\": 199, \"8\": 20, \"2\": 11, \"3\": 10}, \"14\": {\"1\": 8, \"14\": 185, \"10\": 39, \"0\": 6, \"15\": 2}, \"2\": {\"2\": 152, \"0\": 3, \"3\": 29, \"8\": 11, \"7\": 34, \"9\": 11}, \"5\": {\"5\": 188, \"15\": 51, \"6\": 1}, \"9\": {\"9\": 173, \"8\": 34, \"2\": 12, \"13\": 19, \"7\": 2}}, \"O_20\": {\"5\": {\"1\": 53, \"5\": 166, \"9\": 2, \"3\": 19}, \"15\": {\"15\": 207, \"12\": 13, \"9\": 1, \"1\": 17, \"2\": 2}, \"9\": {\"9\": 179, \"7\": 24, \"3\": 12, \"1\": 16, \"5\": 5, \"2\": 4}, \"7\": {\"7\": 196, \"9\": 18, \"2\": 21, \"3\": 1, \"6\": 2, \"12\": 2}, \"3\": {\"9\": 30, \"3\": 157, \"8\": 25, \"5\": 25, \"1\": 3}, \"8\": {\"8\": 213, \"3\": 17, \"14\": 10}, \"4\": {\"4\": 228, \"12\": 12}, \"6\": {\"6\": 239, \"7\": 1}, \"2\": {\"2\": 187, \"7\": 31, \"12\": 16, \"9\": 2, \"13\": 3, \"15\": 1}, \"12\": {\"12\": 191, \"2\": 16, \"4\": 10, \"15\": 22, \"7\": 1}, \"0\": {\"0\": 238, \"5\": 2}, \"13\": {\"2\": 9, \"13\": 231}, \"10\": {\"10\": 240}, \"11\": {\"11\": 240}, \"14\": {\"14\": 230, \"6\": 1, \"8\": 9}, \"1\": {\"9\": 7, \"1\": 178, \"5\": 50, \"3\": 2, \"15\": 2, \"12\": 1}}, \"O_50\": {\"1\": {\"1\": 235, \"13\": 5}, \"2\": {\"2\": 231, \"0\": 9}, \"8\": {\"8\": 240}, \"7\": {\"7\": 226, \"5\": 10, \"4\": 4}, \"14\": {\"14\": 240}, \"6\": {\"6\": 194, \"5\": 39, \"15\": 7}, \"3\": {\"3\": 240}, \"4\": {\"4\": 216, \"7\": 16, \"5\": 5, \"15\": 2, \"6\": 1}, \"12\": {\"12\": 227, \"11\": 5, \"9\": 8}, \"15\": {\"15\": 229, \"6\": 8, \"11\": 2, \"5\": 1}, \"11\": {\"11\": 231, \"15\": 4, \"9\": 3, \"12\": 2}, \"0\": {\"0\": 229, \"2\": 11}, \"9\": {\"9\": 206, \"12\": 18, \"11\": 16}, \"10\": {\"10\": 239, \"8\": 1}, \"5\": {\"6\": 45, \"1\": 1, \"4\": 10, \"7\": 66, \"15\": 3, \"5\": 106, \"13\": 9}, \"13\": {\"13\": 240}}, \"O_32\": {\"2\": {\"2\": 211, \"4\": 29}, \"6\": {\"6\": 240}, \"5\": {\"5\": 128, \"0\": 29, \"7\": 50, \"8\": 25, \"14\": 8}, \"12\": {\"12\": 240}, \"13\": {\"4\": 24, \"13\": 188, \"3\": 26, \"11\": 2}, \"9\": {\"9\": 238, \"12\": 2}, \"11\": {\"11\": 240}, \"1\": {\"1\": 240}, \"3\": {\"3\": 235, \"13\": 5}, \"7\": {\"7\": 169, \"5\": 28, \"0\": 17, \"14\": 23, \"8\": 3}, \"14\": {\"14\": 154, \"7\": 56, \"0\": 5, \"3\": 1, \"5\": 11, \"8\": 6, \"4\": 4, \"2\": 2, \"13\": 1}, \"8\": {\"8\": 200, \"0\": 21, \"14\": 4, \"5\": 11, \"4\": 3, \"3\": 1}, \"4\": {\"4\": 208, \"13\": 3, \"2\": 29}, \"0\": {\"5\": 14, \"0\": 175, \"8\": 23, \"7\": 25, \"4\": 1, \"14\": 2}, \"10\": {\"10\": 240}, \"15\": {\"15\": 239, \"8\": 1}}, \"O_44\": {\"13\": {\"13\": 200, \"6\": 34, \"9\": 6}, \"4\": {\"4\": 142, \"14\": 95, \"9\": 1, \"15\": 2}, \"6\": {\"6\": 195, \"13\": 35, \"9\": 10}, \"0\": {\"0\": 213, \"8\": 27}, \"10\": {\"10\": 228, \"2\": 5, \"1\": 4, \"7\": 3}, \"7\": {\"7\": 222, \"9\": 17, \"10\": 1}, \"14\": {\"14\": 164, \"4\": 55, \"5\": 9, \"15\": 12}, \"15\": {\"14\": 15, \"5\": 6, \"15\": 204, \"8\": 12, \"0\": 2, \"4\": 1}, \"5\": {\"5\": 211, \"14\": 11, \"15\": 18}, \"2\": {\"2\": 230, \"1\": 10}, \"9\": {\"9\": 120, \"13\": 9, \"7\": 73, \"6\": 37, \"4\": 1}, \"12\": {\"12\": 230, \"3\": 10}, \"8\": {\"8\": 164, \"0\": 68, \"15\": 2, \"5\": 6}, \"3\": {\"3\": 234, \"12\": 6}, \"1\": {\"1\": 233, \"2\": 7}, \"11\": {\"11\": 240}}, \"O_14\": {\"1\": {\"1\": 240}, \"15\": {\"15\": 240}, \"10\": {\"10\": 240}, \"2\": {\"4\": 25, \"6\": 14, \"14\": 34, \"2\": 127, \"5\": 21, \"13\": 10, \"3\": 9}, \"9\": {\"9\": 240}, \"5\": {\"5\": 228, \"7\": 1, \"2\": 11}, \"7\": {\"7\": 238, \"5\": 2}, \"13\": {\"6\": 94, \"13\": 51, \"15\": 11, \"14\": 69, \"2\": 12, \"4\": 3}, \"8\": {\"8\": 240}, \"6\": {\"13\": 62, \"6\": 149, \"14\": 23, \"2\": 6}, \"3\": {\"3\": 233, \"14\": 5, \"13\": 2}, \"12\": {\"12\": 240}, \"0\": {\"0\": 230, \"3\": 8, \"10\": 2}, \"4\": {\"4\": 237, \"2\": 2, \"5\": 1}, \"14\": {\"14\": 212, \"13\": 16, \"3\": 4, \"6\": 2, \"2\": 6}, \"11\": {\"11\": 240}}, \"C_2\": {\"21\": {\"21\": 57, \"50\": 10, \"6\": 8, \"3\": 18, \"5\": 3, \"46\": 10, \"12\": 9, \"52\": 1, \"45\": 2, \"20\": 2}, \"4\": {\"4\": 67, \"41\": 1, \"1\": 7, \"44\": 1, \"27\": 6, \"0\": 1, \"45\": 2, \"48\": 19, \"57\": 4, \"9\": 7, \"22\": 3, \"40\": 3, \"8\": 2, \"47\": 6, \"50\": 1}, \"6\": {\"6\": 115, \"46\": 3, \"3\": 5, \"5\": 1}, \"10\": {\"10\": 80, \"15\": 8, \"16\": 13, \"11\": 10, \"49\": 1}, \"33\": {\"33\": 16, \"32\": 1, \"17\": 2, \"14\": 1, \"39\": 2, \"12\": 1, \"57\": 2, \"55\": 1, \"29\": 1, \"2\": 1}, \"56\": {\"56\": 59, \"45\": 6, \"41\": 2, \"47\": 8, \"5\": 3, \"22\": 17, \"57\": 4, \"0\": 4, \"50\": 3, \"4\": 1, \"48\": 4, \"51\": 5, \"40\": 1, \"30\": 1, \"36\": 2, \"1\": 1, \"27\": 1}, \"20\": {\"20\": 132}, \"24\": {\"24\": 88, \"43\": 6, \"53\": 2}, \"45\": {\"45\": 126, \"6\": 1, \"46\": 1}, \"32\": {\"32\": 17, \"26\": 1, \"44\": 1, \"35\": 1, \"29\": 1, \"4\": 1, \"27\": 2, \"9\": 1, \"57\": 1, \"36\": 2}, \"27\": {\"8\": 10, \"56\": 6, \"27\": 87, \"30\": 2, \"0\": 1, \"20\": 4, \"48\": 11, \"4\": 5, \"57\": 4, \"22\": 2, \"51\": 12, \"41\": 1, \"47\": 2, \"36\": 1}, \"53\": {\"53\": 121, \"31\": 2, \"23\": 6, \"43\": 6, \"24\": 1}, \"8\": {\"8\": 144, \"48\": 2, \"20\": 11, \"27\": 2, \"52\": 1}, \"54\": {\"33\": 1, \"54\": 89, \"55\": 7, \"42\": 4, \"35\": 2, \"17\": 4, \"23\": 1}, \"50\": {\"50\": 127, \"12\": 5, \"6\": 1, \"3\": 1}, \"44\": {\"44\": 84, \"47\": 2, \"40\": 5, \"22\": 1, \"45\": 3, \"56\": 1, \"48\": 1, \"1\": 2, \"3\": 1}, \"5\": {\"5\": 118, \"46\": 2}, \"38\": {\"38\": 18, \"36\": 1, \"51\": 1}, \"19\": {\"19\": 132}, \"1\": {\"1\": 51, \"32\": 1, \"4\": 6, \"44\": 14, \"56\": 6, \"57\": 11, \"40\": 12, \"9\": 4, \"45\": 1, \"36\": 2, \"5\": 1, \"22\": 2, \"27\": 1}, \"30\": {\"30\": 144}, \"15\": {\"15\": 130, \"11\": 10, \"16\": 4}, \"23\": {\"23\": 117, \"49\": 3, \"53\": 22, \"55\": 2, \"43\": 1, \"54\": 1}, \"35\": {\"35\": 28, \"54\": 3, \"55\": 1}, \"22\": {\"40\": 5, \"5\": 8, \"22\": 71, \"46\": 4, \"47\": 8, \"45\": 7, \"50\": 5, \"56\": 10, \"48\": 3, \"57\": 3, \"6\": 2, \"0\": 1, \"3\": 1}, \"40\": {\"40\": 83, \"1\": 5, \"22\": 9, \"4\": 3, \"45\": 8, \"48\": 9, \"5\": 1, \"56\": 3, \"44\": 12, \"47\": 2, \"57\": 2, \"27\": 1, \"50\": 1, \"12\": 1}, \"46\": {\"46\": 118, \"5\": 6, \"3\": 2}, \"3\": {\"3\": 91, \"46\": 1}, \"48\": {\"48\": 78, \"41\": 1, \"50\": 4, \"30\": 20, \"47\": 20, \"20\": 4, \"0\": 6, \"45\": 6, \"52\": 2, \"56\": 2, \"40\": 1, \"8\": 3, \"22\": 1}, \"52\": {\"52\": 124}, \"2\": {\"2\": 21, \"36\": 3, \"41\": 2, \"51\": 3, \"57\": 2, \"38\": 1}, \"26\": {\"26\": 19, \"17\": 1, \"49\": 1, \"39\": 1, \"55\": 1, \"53\": 1}, \"17\": {\"17\": 85, \"55\": 14, \"54\": 2, \"33\": 1, \"29\": 1, \"23\": 1}, \"55\": {\"17\": 16, \"55\": 118, \"42\": 1, \"31\": 1, \"39\": 2, \"54\": 1, \"53\": 2, \"49\": 1, \"23\": 2}, \"51\": {\"51\": 120, \"27\": 1, \"47\": 1}, \"42\": {\"54\": 2, \"42\": 28, \"17\": 1, \"55\": 2, \"35\": 1, \"23\": 2}, \"41\": {\"41\": 15, \"0\": 1, \"36\": 1, \"56\": 1, \"27\": 1, \"50\": 1}, \"31\": {\"31\": 24, \"53\": 3, \"7\": 1}, \"16\": {\"16\": 114, \"11\": 12, \"15\": 11, \"28\": 1}, \"36\": {\"36\": 102, \"51\": 4, \"2\": 3, \"33\": 1, \"27\": 3, \"38\": 1, \"32\": 1, \"56\": 1}, \"49\": {\"49\": 11, \"7\": 1, \"55\": 1, \"39\": 2, \"28\": 1, \"23\": 4, \"34\": 2, \"42\": 1, \"2\": 1}, \"0\": {\"0\": 35, \"30\": 2, \"48\": 1, \"45\": 2, \"22\": 1, \"50\": 3, \"46\": 1, \"5\": 1, \"3\": 2}, \"18\": {\"18\": 46, \"25\": 2}, \"25\": {\"15\": 6, \"25\": 136, \"11\": 1, \"28\": 1, \"10\": 1, \"16\": 1}, \"9\": {\"9\": 94, \"57\": 4, \"1\": 7, \"29\": 5, \"14\": 1, \"4\": 6, \"44\": 2, \"40\": 2, \"32\": 1}, \"47\": {\"47\": 64, \"0\": 3, \"5\": 1, \"48\": 13, \"20\": 4, \"45\": 3, \"30\": 25, \"8\": 2, \"27\": 1, \"50\": 3, \"22\": 3, \"56\": 3, \"52\": 6, \"6\": 1}, \"7\": {\"7\": 27, \"37\": 5, \"53\": 2, \"31\": 1, \"24\": 1}, \"37\": {\"7\": 3, \"37\": 32, \"57\": 1}, \"13\": {\"36\": 11, \"41\": 2, \"13\": 75, \"57\": 3, \"47\": 2, \"2\": 2, \"21\": 2, \"56\": 4, \"27\": 4, \"51\": 8, \"7\": 1, \"38\": 1, \"22\": 1}, \"14\": {\"14\": 17, \"33\": 1, \"32\": 1, \"29\": 3, \"9\": 2}, \"34\": {\"25\": 2, \"34\": 21, \"49\": 3, \"23\": 1, \"42\": 1}, \"57\": {\"57\": 90, \"1\": 10, \"56\": 12, \"44\": 2, \"40\": 7, \"51\": 5, \"48\": 2, \"22\": 6, \"2\": 1, \"47\": 1, \"27\": 1, \"36\": 1, \"4\": 1, \"9\": 1}, \"11\": {\"15\": 8, \"11\": 119, \"25\": 1, \"10\": 3, \"16\": 7}, \"39\": {\"33\": 1, \"39\": 23, \"32\": 1, \"36\": 1, \"17\": 1, \"41\": 1}, \"12\": {\"12\": 90, \"50\": 2}, \"28\": {\"28\": 24, \"11\": 2, \"15\": 1, \"16\": 1}, \"29\": {\"29\": 110, \"1\": 2, \"9\": 8, \"57\": 4, \"14\": 2, \"44\": 1, \"27\": 1}, \"43\": {\"43\": 130, \"24\": 3, \"11\": 1, \"23\": 1, \"15\": 1, \"53\": 4}}, \"C_5\": {\"12\": {\"12\": 96}, \"8\": {\"1\": 6, \"8\": 100, \"20\": 18, \"7\": 4, \"47\": 1, \"30\": 6, \"51\": 1, \"13\": 1, \"57\": 1, \"48\": 2, \"21\": 1, \"52\": 1}, \"29\": {\"29\": 121, \"36\": 5, \"27\": 4, \"44\": 2}, \"57\": {\"4\": 4, \"8\": 5, \"57\": 64, \"47\": 5, \"12\": 2, \"5\": 2, \"52\": 3, \"1\": 11, \"9\": 10, \"48\": 3, \"56\": 5, \"30\": 6, \"44\": 1, \"46\": 1, \"6\": 1, \"13\": 1, \"45\": 2}, \"38\": {\"8\": 3, \"38\": 21, \"2\": 1, \"13\": 1, \"41\": 2, \"14\": 2, \"7\": 1, \"32\": 1}, \"23\": {\"23\": 106, \"53\": 12, \"24\": 2, \"43\": 1, \"42\": 2, \"17\": 1}, \"56\": {\"56\": 79, \"3\": 3, \"0\": 23, \"46\": 18, \"8\": 2, \"47\": 3, \"52\": 3, \"50\": 1, \"48\": 1, \"45\": 2, \"9\": 2, \"57\": 1}, \"49\": {\"49\": 27, \"23\": 1, \"17\": 1, \"42\": 1, \"53\": 3, \"54\": 1, \"41\": 1, \"35\": 1}, \"4\": {\"4\": 47, \"30\": 8, \"1\": 6, \"6\": 2, \"9\": 19, \"22\": 1, \"5\": 5, \"48\": 5, \"12\": 2, \"57\": 2, \"40\": 2, \"44\": 1}, \"48\": {\"48\": 53, \"4\": 8, \"30\": 15, \"8\": 2, \"1\": 18, \"52\": 2, \"9\": 13, \"47\": 2, \"57\": 8, \"5\": 2, \"56\": 1, \"44\": 2, \"40\": 1, \"7\": 2, \"20\": 2, \"13\": 1, \"46\": 3, \"6\": 1}, \"21\": {\"21\": 144}, \"30\": {\"30\": 127, \"9\": 1}, \"1\": {\"1\": 142, \"30\": 4, \"4\": 1, \"48\": 1}, \"34\": {\"34\": 35, \"54\": 1}, \"35\": {\"35\": 27, \"38\": 1, \"54\": 5, \"36\": 2, \"33\": 1}, \"55\": {\"49\": 5, \"55\": 118, \"35\": 2, \"53\": 13, \"36\": 1, \"54\": 2, \"17\": 7, \"23\": 4}, \"5\": {\"5\": 69, \"44\": 12, \"3\": 1, \"4\": 5, \"6\": 4, \"22\": 4, \"50\": 3, \"9\": 3, \"40\": 5, \"45\": 9, \"57\": 3, \"48\": 1, \"0\": 2, \"47\": 1}, \"52\": {\"52\": 126}, \"6\": {\"6\": 120, \"50\": 6, \"45\": 2}, \"36\": {\"36\": 68, \"54\": 5, \"32\": 4, \"29\": 9, \"35\": 1, \"17\": 2, \"43\": 2, \"27\": 1}, \"41\": {\"41\": 18, \"2\": 1, \"13\": 3, \"38\": 2, \"53\": 1, \"39\": 1, \"37\": 1, \"14\": 1}, \"3\": {\"3\": 100}, \"28\": {\"28\": 32}, \"18\": {\"18\": 60, \"25\": 4}, \"25\": {\"25\": 124, \"16\": 5, \"11\": 5, \"15\": 2}, \"47\": {\"47\": 59, \"30\": 9, \"9\": 3, \"56\": 6, \"1\": 10, \"8\": 2, \"46\": 1, \"57\": 5, \"52\": 4, \"48\": 1}, \"13\": {\"13\": 115, \"8\": 6, \"2\": 1, \"47\": 3, \"14\": 3, \"51\": 21, \"39\": 1, \"12\": 1, \"20\": 1, \"56\": 1, \"57\": 2, \"45\": 1, \"21\": 2, \"7\": 1, \"48\": 1}, \"11\": {\"11\": 115, \"16\": 17, \"15\": 11, \"25\": 1}, \"53\": {\"53\": 125, \"23\": 15, \"14\": 1, \"24\": 1, \"2\": 1, \"42\": 1}, \"33\": {\"33\": 28, \"55\": 2, \"2\": 1, \"49\": 1}, \"46\": {\"46\": 145, \"0\": 2, \"3\": 1}, \"50\": {\"50\": 146, \"3\": 2}, \"10\": {\"10\": 45, \"11\": 4, \"53\": 1, \"16\": 7, \"42\": 2, \"15\": 4, \"24\": 4, \"23\": 1}, \"15\": {\"15\": 103, \"16\": 26, \"11\": 9}, \"44\": {\"44\": 94, \"56\": 1, \"5\": 13, \"40\": 22, \"9\": 3, \"4\": 3, \"57\": 1, \"22\": 1, \"6\": 2}, \"2\": {\"2\": 21, \"37\": 3, \"13\": 1, \"49\": 1, \"43\": 1, \"35\": 1}, \"7\": {\"7\": 29, \"8\": 2, \"30\": 1}, \"43\": {\"43\": 132, \"37\": 3, \"51\": 2, \"42\": 1}, \"32\": {\"32\": 27, \"36\": 2, \"29\": 1, \"17\": 2}, \"0\": {\"3\": 3, \"0\": 112, \"47\": 1, \"46\": 4, \"56\": 4}, \"39\": {\"7\": 1, \"39\": 10, \"13\": 3, \"14\": 4, \"51\": 2}, \"26\": {\"53\": 2, \"26\": 18, \"17\": 3, \"38\": 1}, \"27\": {\"27\": 83, \"9\": 3, \"17\": 2, \"5\": 2, \"48\": 4, \"57\": 1, \"51\": 4, \"30\": 1, \"8\": 1, \"13\": 2, \"39\": 1, \"32\": 1, \"2\": 1, \"14\": 1, \"44\": 4, \"40\": 1}, \"54\": {\"54\": 92, \"35\": 7, \"53\": 1, \"34\": 1, \"33\": 1, \"36\": 6, \"17\": 3, \"55\": 1}, \"17\": {\"17\": 104, \"32\": 2, \"36\": 4, \"27\": 3, \"54\": 3}, \"14\": {\"14\": 28, \"37\": 1, \"7\": 2, \"13\": 4, \"8\": 2, \"51\": 1, \"39\": 3, \"2\": 1, \"27\": 1, \"40\": 1}, \"16\": {\"16\": 110, \"15\": 22, \"10\": 1, \"18\": 1, \"11\": 14}, \"9\": {\"9\": 75, \"40\": 4, \"45\": 3, \"0\": 1, \"47\": 5, \"4\": 6, \"30\": 22, \"1\": 22, \"57\": 4, \"20\": 1, \"12\": 1, \"48\": 1, \"46\": 1, \"6\": 1, \"5\": 1}, \"19\": {\"19\": 151, \"34\": 1}, \"20\": {\"20\": 138}, \"37\": {\"2\": 2, \"37\": 15, \"13\": 1, \"14\": 3, \"43\": 3}, \"24\": {\"24\": 78, \"53\": 1, \"42\": 1}, \"40\": {\"40\": 66, \"57\": 3, \"0\": 1, \"22\": 4, \"44\": 20, \"6\": 2, \"5\": 14, \"4\": 5, \"45\": 1, \"9\": 3, \"48\": 1, \"50\": 2}, \"45\": {\"45\": 121, \"50\": 1, \"6\": 2}, \"22\": {\"4\": 1, \"22\": 21, \"40\": 1, \"5\": 4, \"0\": 1}, \"42\": {\"42\": 35, \"35\": 1, \"43\": 1, \"24\": 1, \"53\": 1, \"11\": 1}, \"51\": {\"51\": 100, \"13\": 13, \"43\": 1, \"8\": 2, \"9\": 1, \"20\": 1}, \"31\": {\"31\": 32, \"11\": 1, \"53\": 1, \"42\": 2}}, \"C_1\": {\"27\": {\"27\": 86, \"57\": 12, \"44\": 4, \"47\": 26, \"1\": 1, \"4\": 2, \"51\": 2, \"36\": 1, \"40\": 6, \"46\": 1, \"5\": 1}, \"2\": {\"2\": 26, \"8\": 1, \"48\": 2, \"57\": 1, \"50\": 2, \"9\": 1, \"30\": 2, \"4\": 1}, \"33\": {\"38\": 1, \"33\": 30, \"37\": 1}, \"45\": {\"45\": 156}, \"38\": {\"32\": 1, \"38\": 10, \"33\": 2, \"39\": 4, \"37\": 2, \"41\": 2, \"9\": 1, \"8\": 1, \"36\": 1}, \"4\": {\"57\": 9, \"4\": 80, \"40\": 4, \"50\": 9, \"5\": 1, \"44\": 4, \"30\": 3, \"6\": 5, \"45\": 1, \"48\": 4, \"56\": 6, \"2\": 2, \"8\": 2, \"47\": 2}, \"31\": {\"31\": 27, \"38\": 1}, \"55\": {\"31\": 1, \"55\": 130, \"38\": 1, \"39\": 1, \"7\": 1, \"43\": 3, \"37\": 1, \"51\": 2}, \"32\": {\"33\": 2, \"55\": 3, \"32\": 23, \"7\": 3, \"37\": 1}, \"57\": {\"57\": 76, \"56\": 4, \"50\": 6, \"44\": 10, \"45\": 1, \"36\": 1, \"40\": 22, \"46\": 1, \"30\": 1, \"5\": 4, \"47\": 6, \"48\": 1, \"4\": 2, \"27\": 1, \"0\": 1, \"8\": 1, \"20\": 1, \"9\": 1}, \"14\": {\"14\": 23, \"30\": 1}, \"16\": {\"16\": 113, \"15\": 13, \"10\": 10, \"25\": 3, \"11\": 1}, \"34\": {\"34\": 23, \"54\": 1}, \"56\": {\"56\": 95, \"45\": 15, \"5\": 7, \"0\": 4, \"44\": 1, \"20\": 2, \"46\": 2}, \"24\": {\"24\": 90, \"23\": 11, \"53\": 7}, \"30\": {\"30\": 112}, \"17\": {\"17\": 58, \"55\": 4, \"43\": 1, \"42\": 1}, \"13\": {\"13\": 137, \"22\": 1}, \"39\": {\"39\": 18, \"33\": 3, \"49\": 2, \"27\": 1, \"37\": 1, \"31\": 1, \"51\": 1, \"43\": 1}, \"50\": {\"50\": 146}, \"20\": {\"20\": 139, \"21\": 1}, \"41\": {\"41\": 23, \"48\": 1}, \"53\": {\"24\": 10, \"53\": 106, \"23\": 10}, \"48\": {\"14\": 2, \"48\": 103, \"2\": 4, \"30\": 5, \"8\": 23, \"13\": 2, \"36\": 1, \"21\": 2}, \"36\": {\"36\": 57, \"8\": 2, \"13\": 1, \"21\": 2, \"51\": 2}, \"8\": {\"8\": 89, \"14\": 3, \"48\": 14, \"9\": 2, \"6\": 3, \"30\": 8, \"21\": 3, \"50\": 8, \"13\": 8, \"36\": 1, \"52\": 1}, \"15\": {\"15\": 107, \"16\": 20, \"10\": 2, \"25\": 2, \"11\": 1}, \"40\": {\"57\": 19, \"40\": 109, \"44\": 12, \"46\": 1, \"50\": 2, \"56\": 3, \"27\": 4, \"47\": 3, \"4\": 2, \"5\": 1}, \"37\": {\"37\": 23, \"8\": 1, \"51\": 1, \"5\": 1, \"32\": 1, \"6\": 1, \"38\": 1, \"36\": 2, \"9\": 1}, \"21\": {\"21\": 115, \"22\": 1, \"13\": 2, \"52\": 1, \"48\": 1}, \"35\": {\"35\": 36}, \"49\": {\"39\": 2, \"49\": 24, \"38\": 1, \"41\": 1, \"31\": 2, \"33\": 2}, \"26\": {\"26\": 21, \"34\": 1, \"54\": 1, \"53\": 1}, \"28\": {\"28\": 27, \"10\": 1}, \"12\": {\"12\": 85, \"3\": 13, \"22\": 1, \"20\": 9, \"13\": 2, \"21\": 1, \"52\": 5}, \"5\": {\"5\": 152}, \"29\": {\"29\": 116, \"40\": 3, \"47\": 9, \"1\": 10, \"57\": 1, \"27\": 1}, \"47\": {\"47\": 99, \"27\": 19, \"57\": 8, \"9\": 1, \"1\": 1, \"40\": 7, \"51\": 1, \"29\": 1, \"44\": 2, \"4\": 1}, \"10\": {\"10\": 78, \"15\": 6, \"16\": 9, \"11\": 1, \"28\": 2}, \"18\": {\"18\": 71, \"50\": 1}, \"9\": {\"47\": 2, \"9\": 102, \"8\": 4, \"38\": 1, \"36\": 5, \"51\": 7, \"48\": 2, \"27\": 3}, \"3\": {\"5\": 2, \"3\": 56, \"12\": 4, \"46\": 10, \"22\": 15, \"20\": 20, \"45\": 4, \"13\": 2, \"6\": 1, \"0\": 13, \"52\": 10, \"21\": 3}, \"52\": {\"52\": 126, \"22\": 5, \"21\": 1}, \"25\": {\"25\": 125, \"10\": 1, \"15\": 6, \"11\": 1, \"16\": 3}, \"19\": {\"19\": 147, \"34\": 3, \"54\": 6}, \"11\": {\"11\": 130, \"10\": 1, \"16\": 3, \"15\": 2}, \"7\": {\"7\": 21, \"41\": 1, \"29\": 1, \"32\": 1, \"17\": 1, \"51\": 3}, \"23\": {\"23\": 108, \"53\": 13, \"24\": 13, \"28\": 1, \"16\": 1}, \"44\": {\"44\": 104, \"5\": 4, \"45\": 5, \"57\": 5, \"56\": 10, \"50\": 2, \"6\": 1, \"52\": 1}, \"42\": {\"42\": 32, \"34\": 1, \"54\": 1, \"17\": 3, \"43\": 2, \"55\": 1}, \"54\": {\"54\": 101, \"42\": 3}, \"1\": {\"1\": 82, \"29\": 12, \"27\": 1, \"47\": 4, \"40\": 1}, \"46\": {\"46\": 128}, \"6\": {\"6\": 96}, \"43\": {\"43\": 134, \"7\": 1, \"42\": 2, \"32\": 1, \"55\": 5, \"24\": 1}, \"51\": {\"51\": 135, \"36\": 2, \"9\": 5}, \"22\": {\"52\": 7, \"22\": 126, \"0\": 1, \"20\": 2}, \"0\": {\"0\": 128}}, \"C_4\": {\"32\": {\"32\": 20, \"31\": 2, \"42\": 1, \"38\": 1}, \"2\": {\"2\": 27, \"51\": 1, \"54\": 1, \"39\": 2, \"36\": 5}, \"41\": {\"41\": 28, \"37\": 3, \"24\": 1, \"2\": 1, \"36\": 1, \"7\": 2}, \"11\": {\"11\": 78, \"23\": 2, \"16\": 14, \"15\": 5, \"24\": 1, \"10\": 2}, \"57\": {\"57\": 69, \"29\": 6, \"27\": 3, \"1\": 2, \"4\": 5, \"44\": 3, \"40\": 2, \"56\": 3, \"51\": 3, \"2\": 1, \"36\": 2, \"9\": 1}, \"6\": {\"6\": 111, \"22\": 1}, \"23\": {\"23\": 105, \"7\": 1, \"31\": 4, \"53\": 12, \"43\": 9, \"55\": 3, \"49\": 1, \"42\": 1}, \"52\": {\"52\": 116}, \"38\": {\"32\": 7, \"38\": 28, \"7\": 1, \"57\": 1, \"13\": 1, \"42\": 1, \"55\": 1}, \"50\": {\"50\": 128, \"3\": 3, \"6\": 1}, \"55\": {\"55\": 138, \"49\": 1, \"17\": 4, \"54\": 1, \"43\": 3, \"33\": 3, \"38\": 1, \"23\": 1}, \"46\": {\"46\": 149, \"6\": 1, \"5\": 1, \"40\": 1, \"22\": 2}, \"37\": {\"20\": 1, \"37\": 15, \"45\": 2, \"51\": 1, \"39\": 1, \"7\": 2, \"13\": 1, \"4\": 1}, \"20\": {\"52\": 2, \"20\": 116}, \"49\": {\"41\": 3, \"37\": 4, \"43\": 2, \"7\": 3, \"49\": 5, \"51\": 1, \"36\": 1, \"53\": 1}, \"45\": {\"45\": 96}, \"54\": {\"54\": 85, \"38\": 2, \"33\": 4, \"23\": 1, \"55\": 9, \"17\": 4, \"35\": 2, \"32\": 1}, \"3\": {\"3\": 115, \"50\": 5, \"6\": 2, \"5\": 2}, \"13\": {\"13\": 123, \"36\": 7, \"2\": 1, \"51\": 17, \"56\": 1, \"47\": 1, \"37\": 1, \"48\": 1}, \"18\": {\"18\": 106, \"15\": 1, \"25\": 1}, \"21\": {\"21\": 126}, \"43\": {\"49\": 2, \"43\": 137, \"24\": 1, \"53\": 3, \"41\": 1}, \"47\": {\"45\": 3, \"47\": 66, \"52\": 15, \"48\": 7, \"40\": 1, \"20\": 4, \"50\": 1, \"0\": 4, \"12\": 5, \"21\": 11, \"30\": 2, \"8\": 1}, \"4\": {\"4\": 53, \"9\": 19, \"27\": 7, \"57\": 5, \"47\": 6, \"48\": 10, \"44\": 15, \"56\": 3, \"45\": 5, \"40\": 3, \"21\": 3, \"8\": 1, \"12\": 1, \"29\": 1}, \"12\": {\"12\": 92}, \"9\": {\"9\": 48, \"8\": 3, \"4\": 12, \"1\": 1, \"47\": 8, \"48\": 11, \"20\": 1, \"27\": 8, \"40\": 11, \"45\": 6, \"44\": 7, \"56\": 3, \"57\": 3, \"21\": 2, \"30\": 1, \"12\": 1, \"29\": 1, \"51\": 1}, \"7\": {\"7\": 14, \"9\": 1, \"49\": 3, \"41\": 1, \"37\": 3, \"32\": 1, \"36\": 1}, \"56\": {\"56\": 62, \"44\": 6, \"40\": 10, \"1\": 1, \"50\": 7, \"3\": 2, \"47\": 1, \"46\": 12, \"48\": 3, \"9\": 1, \"0\": 2, \"30\": 1, \"5\": 1, \"45\": 2, \"4\": 1}, \"28\": {\"28\": 23, \"34\": 7, \"26\": 2}, \"44\": {\"45\": 3, \"44\": 79, \"47\": 3, \"4\": 6, \"56\": 5, \"57\": 4, \"40\": 20, \"9\": 4, \"3\": 2, \"6\": 1, \"48\": 3, \"0\": 1, \"50\": 1}, \"24\": {\"24\": 52, \"43\": 2, \"53\": 2}, \"33\": {\"33\": 27, \"54\": 5, \"38\": 2, \"17\": 1, \"55\": 1}, \"35\": {\"35\": 28, \"19\": 3, \"33\": 3, \"28\": 2, \"54\": 2, \"32\": 1, \"14\": 1}, \"51\": {\"51\": 129, \"39\": 1, \"8\": 1, \"13\": 6, \"36\": 1}, \"39\": {\"36\": 2, \"39\": 14, \"51\": 2, \"13\": 1, \"56\": 1}, \"36\": {\"36\": 75, \"51\": 10, \"37\": 1, \"13\": 4, \"53\": 1, \"2\": 1}, \"19\": {\"19\": 140}, \"0\": {\"0\": 71, \"3\": 1, \"22\": 3, \"45\": 1, \"46\": 2, \"56\": 1, \"5\": 1}, \"15\": {\"15\": 121, \"16\": 4, \"10\": 2, \"11\": 8, \"53\": 1}, \"29\": {\"29\": 113, \"57\": 5, \"4\": 3, \"2\": 1, \"14\": 1, \"54\": 1}, \"30\": {\"30\": 44}, \"1\": {\"30\": 2, \"56\": 2, \"27\": 1, \"1\": 23, \"51\": 1, \"44\": 5, \"45\": 1, \"40\": 1, \"57\": 3, \"12\": 1}, \"22\": {\"22\": 128}, \"40\": {\"56\": 19, \"40\": 52, \"30\": 2, \"1\": 5, \"9\": 14, \"48\": 10, \"47\": 3, \"44\": 19, \"45\": 5, \"50\": 3, \"0\": 1, \"4\": 3, \"46\": 6, \"5\": 1, \"21\": 2, \"57\": 1}, \"8\": {\"8\": 125, \"9\": 1, \"52\": 2}, \"53\": {\"53\": 128, \"24\": 3, \"43\": 4, \"23\": 3}, \"34\": {\"34\": 20, \"28\": 2, \"42\": 2}, \"10\": {\"10\": 75, \"16\": 12, \"15\": 27, \"53\": 4, \"11\": 3, \"25\": 1}, \"31\": {\"31\": 23, \"41\": 1, \"42\": 1, \"23\": 1, \"55\": 1, \"32\": 1}, \"17\": {\"17\": 64, \"55\": 4, \"33\": 4, \"54\": 4, \"27\": 2, \"35\": 1, \"29\": 1}, \"16\": {\"16\": 77, \"11\": 3, \"10\": 1, \"15\": 14, \"25\": 1}, \"42\": {\"49\": 1, \"31\": 2, \"53\": 2, \"42\": 21, \"26\": 1, \"23\": 4, \"32\": 1}, \"27\": {\"27\": 93, \"4\": 11, \"2\": 1, \"46\": 1, \"47\": 4, \"56\": 1, \"51\": 5, \"45\": 4, \"40\": 2, \"9\": 8, \"57\": 4, \"29\": 2, \"48\": 4, \"8\": 2}, \"14\": {\"14\": 12, \"29\": 1, \"36\": 1, \"57\": 2}, \"25\": {\"25\": 106, \"16\": 3, \"11\": 5, \"15\": 4, \"18\": 4}, \"48\": {\"21\": 13, \"48\": 77, \"9\": 2, \"56\": 5, \"8\": 7, \"45\": 7, \"40\": 3, \"44\": 1, \"47\": 12, \"20\": 2, \"50\": 2, \"30\": 1}, \"26\": {\"26\": 18, \"49\": 1, \"34\": 1, \"17\": 2, \"28\": 1, \"25\": 1}, \"5\": {\"5\": 107, \"22\": 1}}, \"C_3\": {\"14\": {\"14\": 35, \"57\": 3, \"32\": 2}, \"18\": {\"18\": 84}, \"30\": {\"30\": 120}, \"16\": {\"16\": 108, \"11\": 26, \"15\": 22}, \"1\": {\"9\": 15, \"29\": 1, \"1\": 48, \"57\": 13, \"44\": 7, \"4\": 8, \"51\": 1, \"40\": 3, \"56\": 2, \"45\": 1, \"22\": 1}, \"20\": {\"20\": 129, \"30\": 2, \"47\": 1}, \"7\": {\"7\": 17, \"45\": 1, \"36\": 2, \"2\": 3, \"8\": 1, \"51\": 4, \"41\": 2, \"56\": 2, \"38\": 1, \"27\": 2, \"30\": 1}, \"52\": {\"52\": 130}, \"9\": {\"9\": 77, \"1\": 18, \"40\": 11, \"57\": 8, \"56\": 2, \"4\": 8, \"27\": 3, \"48\": 2, \"22\": 5, \"39\": 2, \"44\": 4}, \"23\": {\"23\": 132, \"55\": 4, \"53\": 7, \"17\": 1}, \"55\": {\"55\": 152, \"26\": 2, \"54\": 1, \"23\": 3, \"53\": 3, \"43\": 2, \"17\": 1}, \"29\": {\"29\": 112, \"9\": 2, \"57\": 5, \"4\": 3, \"32\": 2, \"40\": 1, \"1\": 1}, \"56\": {\"56\": 67, \"6\": 3, \"45\": 3, \"3\": 1, \"46\": 5, \"48\": 5, \"0\": 6, \"5\": 12, \"50\": 7, \"27\": 2, \"47\": 4, \"22\": 14, \"52\": 2, \"57\": 1, \"30\": 2}, \"3\": {\"3\": 120, \"50\": 2, \"6\": 2}, \"42\": {\"42\": 19, \"14\": 1, \"55\": 1, \"54\": 2, \"35\": 2, \"34\": 1, \"23\": 2}, \"6\": {\"6\": 85, \"3\": 1, \"50\": 1, \"5\": 1}, \"5\": {\"5\": 116}, \"27\": {\"27\": 82, \"48\": 16, \"45\": 1, \"51\": 2, \"4\": 2, \"56\": 6, \"47\": 6, \"44\": 1, \"30\": 4, \"0\": 2, \"8\": 15, \"9\": 4, \"1\": 1, \"33\": 1, \"50\": 1}, \"47\": {\"47\": 47, \"41\": 4, \"30\": 6, \"50\": 3, \"48\": 4, \"52\": 4, \"22\": 5, \"0\": 5, \"20\": 6, \"6\": 1, \"56\": 3, \"8\": 1, \"46\": 2, \"12\": 1}, \"39\": {\"38\": 2, \"39\": 8, \"57\": 1, \"33\": 2, \"36\": 2, \"7\": 1}, \"34\": {\"35\": 4, \"54\": 4, \"34\": 21, \"16\": 1, \"19\": 1, \"57\": 1}, \"4\": {\"27\": 12, \"4\": 66, \"47\": 6, \"40\": 6, \"45\": 2, \"22\": 7, \"1\": 7, \"44\": 3, \"9\": 7, \"30\": 1, \"8\": 3, \"57\": 1, \"48\": 3, \"56\": 2}, \"24\": {\"24\": 99, \"31\": 1, \"23\": 1, \"43\": 2, \"11\": 1}, \"46\": {\"46\": 99, \"3\": 14, \"5\": 5}, \"50\": {\"46\": 4, \"50\": 106, \"3\": 8, \"12\": 7, \"6\": 1}, \"38\": {\"38\": 24, \"51\": 2, \"56\": 1, \"36\": 1}, \"54\": {\"34\": 3, \"54\": 88, \"42\": 4, \"55\": 3, \"23\": 1, \"53\": 1}, \"35\": {\"54\": 2, \"35\": 24, \"34\": 1, \"19\": 1}, \"2\": {\"2\": 20, \"39\": 1, \"33\": 3, \"27\": 1, \"36\": 2, \"7\": 3, \"47\": 1, \"51\": 1}, \"41\": {\"41\": 17, \"20\": 4, \"52\": 2, \"36\": 1, \"47\": 1, \"39\": 1, \"30\": 2}, \"57\": {\"57\": 75, \"1\": 17, \"29\": 3, \"40\": 5, \"9\": 10, \"36\": 2, \"51\": 1, \"27\": 1, \"7\": 1, \"14\": 1, \"38\": 1, \"44\": 1}, \"25\": {\"25\": 132, \"16\": 6, \"18\": 2, \"28\": 1, \"15\": 5, \"11\": 3, \"24\": 1}, \"48\": {\"48\": 69, \"45\": 1, \"27\": 2, \"56\": 4, \"22\": 5, \"47\": 8, \"0\": 6, \"52\": 7, \"20\": 4, \"30\": 7, \"8\": 1, \"41\": 1, \"50\": 1}, \"33\": {\"33\": 17, \"41\": 2, \"27\": 4, \"51\": 3, \"2\": 1, \"36\": 1}, \"45\": {\"45\": 60}, \"13\": {\"13\": 94, \"39\": 1, \"51\": 12, \"36\": 6, \"21\": 2, \"27\": 5, \"20\": 1, \"57\": 2, \"37\": 1, \"7\": 1, \"56\": 1}, \"36\": {\"36\": 80, \"39\": 2, \"2\": 3, \"7\": 4, \"13\": 1, \"9\": 1, \"51\": 4, \"33\": 2, \"57\": 1, \"17\": 1, \"38\": 1}, \"43\": {\"43\": 121, \"49\": 2, \"26\": 5, \"53\": 4}, \"28\": {\"28\": 27, \"25\": 1}, \"0\": {\"0\": 65, \"30\": 14, \"5\": 6, \"48\": 2, \"50\": 2, \"47\": 5, \"22\": 15, \"56\": 10, \"45\": 3, \"12\": 2}, \"12\": {\"12\": 91, \"3\": 1}, \"31\": {\"31\": 22, \"53\": 2, \"23\": 1, \"26\": 2, \"24\": 1}, \"40\": {\"40\": 70, \"47\": 1, \"22\": 5, \"44\": 9, \"9\": 6, \"0\": 3, \"5\": 1, \"1\": 5, \"4\": 9, \"6\": 2, \"50\": 2, \"48\": 2, \"3\": 1}, \"44\": {\"44\": 69, \"45\": 1, \"40\": 7, \"0\": 4, \"22\": 1, \"1\": 5, \"9\": 1}, \"32\": {\"32\": 20, \"29\": 2, \"40\": 1, \"57\": 1, \"1\": 1, \"47\": 1, \"17\": 1, \"53\": 1}, \"26\": {\"26\": 22, \"49\": 1, \"31\": 1}, \"8\": {\"8\": 103, \"20\": 6, \"52\": 3, \"27\": 2, \"48\": 1, \"56\": 1}, \"10\": {\"10\": 45, \"16\": 11, \"15\": 2, \"11\": 3, \"25\": 2, \"24\": 1}, \"15\": {\"15\": 106, \"24\": 2, \"11\": 11, \"16\": 21, \"25\": 1, \"43\": 1}, \"21\": {\"50\": 17, \"21\": 63, \"12\": 4, \"3\": 21, \"45\": 1, \"5\": 3, \"6\": 5, \"46\": 8, \"52\": 2, \"41\": 2, \"56\": 2}, \"37\": {\"37\": 27, \"36\": 1}, \"17\": {\"2\": 2, \"39\": 2, \"17\": 99, \"55\": 3, \"36\": 1, \"32\": 1}, \"51\": {\"51\": 122, \"38\": 2}, \"53\": {\"53\": 125, \"26\": 5, \"43\": 2, \"24\": 3, \"55\": 7, \"23\": 1, \"16\": 1}, \"19\": {\"19\": 136}, \"49\": {\"49\": 15, \"4\": 1, \"43\": 1, \"53\": 1, \"38\": 1, \"36\": 1}, \"11\": {\"11\": 115, \"16\": 13, \"10\": 2, \"15\": 8}, \"22\": {\"22\": 75, \"5\": 14, \"0\": 11, \"41\": 2, \"46\": 5, \"3\": 1, \"47\": 2, \"56\": 8, \"48\": 3, \"52\": 3, \"9\": 1, \"45\": 1, \"30\": 1, \"6\": 2, \"50\": 1}}}, \"per_domain_accuracy\": {\"O_8\": {\"accuracy\": 0.8596354166666667, \"source?\": true}, \"O_38\": {\"accuracy\": 0.8908854166666667, \"source?\": true}, \"O_26\": {\"accuracy\": 0.8200520833333333, \"source?\": true}, \"O_20\": {\"accuracy\": 0.8645833333333334, \"source?\": true}, \"O_50\": {\"accuracy\": 0.9190104166666667, \"source?\": true}, \"O_32\": {\"accuracy\": 0.87109375, \"source?\": true}, \"O_44\": {\"accuracy\": 0.8411458333333334, \"source?\": true}, \"O_14\": {\"accuracy\": 0.8815104166666666, \"source?\": true}, \"C_2\": {\"accuracy\": 0.7993607954545454, \"source?\": false}, \"C_5\": {\"accuracy\": 0.8070575842696629, \"source?\": false}, \"C_1\": {\"accuracy\": 0.8447802197802198, \"source?\": false}, \"C_4\": {\"accuracy\": 0.8085703592814372, \"source?\": false}, \"C_3\": {\"accuracy\": 0.7889254385964912, \"source?\": false}}}, \"history\": {\"epoch_indices\": [1, 2, 3, 4, 5, 6, 7, 8], \"train_label_loss\": [0.7800344523308532, 1.1081264084848088, 0.6440856887515457, 0.4168242332181849, 0.37882455217685285, 0.3596786015240165, 0.3510160571141612, 0.35057036147253323], \"source_val_label_loss\": [352.7810974121094, 0.5828811526298523, 0.5423799157142639, 0.3747919499874115, 0.40667298436164856, 0.37717682123184204, 0.39249110221862793, 0.34650158882141113], \"target_val_label_loss\": [3335.39306640625, 203.04241943359375, 66.98299407958984, 105.89570617675781, 255.67425537109375, 325.66943359375, 421.6295471191406, 541.8007202148438], \"source_val_acc_label\": [0.53544921875, 0.7895833333333333, 0.8169270833333333, 0.8684895833333334, 0.854296875, 0.8669270833333333, 0.8611653645833334, 0.87587890625], \"target_val_acc_label\": [0.6352617276887872, 0.7899742562929062, 0.784146167048055, 0.8101044050343249, 0.7673054919908466, 0.7666618993135011, 0.7531106979405034, 0.7411327231121282]}, \"dataset_metrics\": {\"source\": {\"train\": {\"n_unique_x\": 179200, \"n_unique_y\": 16, \"n_batch/episode\": 6720}, \"val\": {\"n_unique_x\": 38400, \"n_unique_y\": 16, \"n_batch/episode\": 960}, \"test\": {\"n_unique_x\": 38400, \"n_unique_y\": 16, \"n_batch/episode\": 960}}, \"target\": {\"train\": {\"n_unique_x\": 175127, \"n_unique_y\": 58, \"n_batch/episode\": 6303}, \"val\": {\"n_unique_x\": 37135, \"n_unique_y\": 58, \"n_batch/episode\": 874}, \"test\": {\"n_unique_x\": 37673, \"n_unique_y\": 58, \"n_batch/episode\": 893}}}}'"
      ]
     },
     "execution_count": 29,
     "metadata": {},
     "output_type": "execute_result"
    }
   ],
   "source": [
    "json.dumps(experiment)"
   ]
  }
 ],
 "metadata": {
  "celltoolbar": "Tags",
  "kernelspec": {
   "display_name": "Python 3 (ipykernel)",
   "language": "python",
   "name": "python3"
  },
  "language_info": {
   "codemirror_mode": {
    "name": "ipython",
    "version": 3
   },
   "file_extension": ".py",
   "mimetype": "text/x-python",
   "name": "python",
   "nbconvert_exporter": "python",
   "pygments_lexer": "ipython3",
   "version": "3.8.12"
  },
  "papermill": {
   "default_parameters": {},
   "duration": 1740.747496,
   "end_time": "2022-03-28T17:53:44.082225",
   "environment_variables": {},
   "exception": null,
   "input_path": "/root/csc500-main/csc500-notebooks/templates/tl_ptn_template.ipynb",
   "output_path": "trial.ipynb",
   "parameters": {
    "parameters": {
     "BEST_MODEL_PATH": "./best_model.pth",
     "NUM_LOGS_PER_EPOCH": 10,
     "criteria_for_best": "target_accuracy",
     "dataset_seed": 154325,
     "datasets": [
      {
       "domain_prefix": "C_",
       "domains": [
        1,
        2,
        3,
        4,
        5
       ],
       "episode_transforms": [],
       "labels": [
        "1-10.",
        "1-11.",
        "1-15.",
        "1-16.",
        "1-17.",
        "1-18.",
        "1-19.",
        "10-4.",
        "10-7.",
        "11-1.",
        "11-14.",
        "11-17.",
        "11-20.",
        "11-7.",
        "13-20.",
        "13-8.",
        "14-10.",
        "14-11.",
        "14-14.",
        "14-7.",
        "15-1.",
        "15-20.",
        "16-1.",
        "16-16.",
        "17-10.",
        "17-11.",
        "17-2.",
        "19-1.",
        "19-16.",
        "19-19.",
        "19-20.",
        "19-3.",
        "2-10.",
        "2-11.",
        "2-17.",
        "2-18.",
        "2-20.",
        "2-3.",
        "2-4.",
        "2-5.",
        "2-6.",
        "2-7.",
        "2-8.",
        "3-13.",
        "3-18.",
        "3-3.",
        "4-1.",
        "4-10.",
        "4-11.",
        "4-19.",
        "5-5.",
        "6-15.",
        "7-10.",
        "7-14.",
        "8-18.",
        "8-20.",
        "8-3.",
        "8-8."
       ],
       "num_examples_per_domain_per_label": -1,
       "pickle_path": "/root/csc500-main/datasets/cores.stratified_ds.2022A.pkl",
       "source_or_target_dataset": "target",
       "x_transforms": [
        "jitter_256_5",
        "lowpass_+/-10MHz",
        "take_200"
       ]
      },
      {
       "domain_prefix": "O_",
       "domains": [
        32,
        38,
        8,
        44,
        14,
        50,
        20,
        26
       ],
       "episode_transforms": [],
       "labels": [
        "3123D52",
        "3123D65",
        "3123D79",
        "3123D80",
        "3123D54",
        "3123D70",
        "3123D7B",
        "3123D89",
        "3123D58",
        "3123D76",
        "3123D7D",
        "3123EFE",
        "3123D64",
        "3123D78",
        "3123D7E",
        "3124E4A"
       ],
       "num_examples_per_domain_per_label": 2000,
       "pickle_path": "/root/csc500-main/datasets/oracle.Run1_framed_2000Examples_stratified_ds.2022A.pkl",
       "source_or_target_dataset": "source",
       "x_transforms": [
        "jitter_256_5",
        "take_200",
        "resample_20Msps_to_25Msps"
       ]
      }
     ],
     "device": "cuda",
     "experiment_name": "tl_3-jitter5v2:oracle.run1.framed -> cores",
     "lr": 0.0001,
     "n_epoch": 50,
     "n_query": 2,
     "n_shot": 3,
     "n_way": 16,
     "patience": 3,
     "seed": 154325,
     "test_k_factor": 2,
     "torch_default_dtype": "torch.float32",
     "train_k_factor": 3,
     "val_k_factor": 2,
     "x_net": [
      {
       "class": "nnReshape",
       "kargs": {
        "shape": [
         -1,
         1,
         2,
         256
        ]
       }
      },
      {
       "class": "Conv2d",
       "kargs": {
        "bias": false,
        "in_channels": 1,
        "kernel_size": [
         1,
         7
        ],
        "out_channels": 256,
        "padding": [
         0,
         3
        ]
       }
      },
      {
       "class": "ReLU",
       "kargs": {
        "inplace": true
       }
      },
      {
       "class": "BatchNorm2d",
       "kargs": {
        "num_features": 256
       }
      },
      {
       "class": "Conv2d",
       "kargs": {
        "bias": true,
        "in_channels": 256,
        "kernel_size": [
         2,
         7
        ],
        "out_channels": 80,
        "padding": [
         0,
         3
        ]
       }
      },
      {
       "class": "ReLU",
       "kargs": {
        "inplace": true
       }
      },
      {
       "class": "BatchNorm2d",
       "kargs": {
        "num_features": 80
       }
      },
      {
       "class": "Flatten",
       "kargs": {}
      },
      {
       "class": "Linear",
       "kargs": {
        "in_features": 20480,
        "out_features": 256
       }
      },
      {
       "class": "ReLU",
       "kargs": {
        "inplace": true
       }
      },
      {
       "class": "BatchNorm1d",
       "kargs": {
        "num_features": 256
       }
      },
      {
       "class": "Linear",
       "kargs": {
        "in_features": 256,
        "out_features": 256
       }
      }
     ],
     "x_shape": [
      2,
      256
     ]
    }
   },
   "start_time": "2022-03-28T17:24:43.334729",
   "version": "2.3.4"
  }
 },
 "nbformat": 4,
 "nbformat_minor": 5
}