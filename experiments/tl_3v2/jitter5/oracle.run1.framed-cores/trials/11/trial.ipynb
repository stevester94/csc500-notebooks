{
 "cells": [
  {
   "cell_type": "markdown",
   "id": "9fea5f46",
   "metadata": {
    "papermill": {
     "duration": 0.032498,
     "end_time": "2022-03-28T17:50:26.473204",
     "exception": false,
     "start_time": "2022-03-28T17:50:26.440706",
     "status": "completed"
    },
    "tags": []
   },
   "source": [
    "# Transfer Learning Template"
   ]
  },
  {
   "cell_type": "code",
   "execution_count": 1,
   "id": "0902182a",
   "metadata": {
    "execution": {
     "iopub.execute_input": "2022-03-28T17:50:26.534256Z",
     "iopub.status.busy": "2022-03-28T17:50:26.533422Z",
     "iopub.status.idle": "2022-03-28T17:50:28.425688Z",
     "shell.execute_reply": "2022-03-28T17:50:28.426008Z"
    },
    "papermill": {
     "duration": 1.93052,
     "end_time": "2022-03-28T17:50:28.426217",
     "exception": false,
     "start_time": "2022-03-28T17:50:26.495697",
     "status": "completed"
    },
    "tags": []
   },
   "outputs": [],
   "source": [
    "%load_ext autoreload\n",
    "%autoreload 2\n",
    "%matplotlib inline\n",
    "\n",
    "    \n",
    "import os, json, sys, time, random\n",
    "import numpy as np\n",
    "import torch\n",
    "from torch.optim import Adam\n",
    "from  easydict import EasyDict\n",
    "import matplotlib.pyplot as plt\n",
    "\n",
    "from steves_models.steves_ptn import Steves_Prototypical_Network\n",
    "\n",
    "from steves_utils.lazy_iterable_wrapper import Lazy_Iterable_Wrapper\n",
    "from steves_utils.iterable_aggregator import Iterable_Aggregator\n",
    "from steves_utils.ptn_train_eval_test_jig import  PTN_Train_Eval_Test_Jig\n",
    "from steves_utils.torch_sequential_builder import build_sequential\n",
    "from steves_utils.torch_utils import get_dataset_metrics, ptn_confusion_by_domain_over_dataloader\n",
    "from steves_utils.utils_v2 import (per_domain_accuracy_from_confusion, get_datasets_base_path)\n",
    "from steves_utils.PTN.utils import independent_accuracy_assesment\n",
    "\n",
    "from torch.utils.data import DataLoader\n",
    "\n",
    "from steves_utils.stratified_dataset.episodic_accessor import Episodic_Accessor_Factory\n",
    "\n",
    "from steves_utils.ptn_do_report import (\n",
    "    get_loss_curve,\n",
    "    get_results_table,\n",
    "    get_parameters_table,\n",
    "    get_domain_accuracies,\n",
    ")\n",
    "\n",
    "from steves_utils.transforms import get_chained_transform"
   ]
  },
  {
   "cell_type": "markdown",
   "id": "41c840b4",
   "metadata": {
    "papermill": {
     "duration": 0.018983,
     "end_time": "2022-03-28T17:50:28.465303",
     "exception": false,
     "start_time": "2022-03-28T17:50:28.446320",
     "status": "completed"
    },
    "tags": []
   },
   "source": [
    "# Allowed Parameters\n",
    "These are allowed parameters, not defaults\n",
    "Each of these values need to be present in the injected parameters (the notebook will raise an exception if they are not present)\n",
    "\n",
    "Papermill uses the cell tag \"parameters\" to inject the real parameters below this cell.\n",
    "Enable tags to see what I mean"
   ]
  },
  {
   "cell_type": "code",
   "execution_count": 2,
   "id": "fd44eb83",
   "metadata": {
    "execution": {
     "iopub.execute_input": "2022-03-28T17:50:28.506540Z",
     "iopub.status.busy": "2022-03-28T17:50:28.506165Z",
     "iopub.status.idle": "2022-03-28T17:50:28.524394Z",
     "shell.execute_reply": "2022-03-28T17:50:28.524079Z"
    },
    "papermill": {
     "duration": 0.040172,
     "end_time": "2022-03-28T17:50:28.524463",
     "exception": false,
     "start_time": "2022-03-28T17:50:28.484291",
     "status": "completed"
    },
    "tags": []
   },
   "outputs": [],
   "source": [
    "required_parameters = {\n",
    "    \"experiment_name\",\n",
    "    \"lr\",\n",
    "    \"device\",\n",
    "    \"seed\",\n",
    "    \"dataset_seed\",\n",
    "    \"n_shot\",\n",
    "    \"n_query\",\n",
    "    \"n_way\",\n",
    "    \"train_k_factor\",\n",
    "    \"val_k_factor\",\n",
    "    \"test_k_factor\",\n",
    "    \"n_epoch\",\n",
    "    \"patience\",\n",
    "    \"criteria_for_best\",\n",
    "    \"x_net\",\n",
    "    \"datasets\",\n",
    "    \"torch_default_dtype\",\n",
    "    \"NUM_LOGS_PER_EPOCH\",\n",
    "    \"BEST_MODEL_PATH\",\n",
    "    \"x_shape\",\n",
    "}"
   ]
  },
  {
   "cell_type": "code",
   "execution_count": 3,
   "id": "fa3f0049",
   "metadata": {
    "execution": {
     "iopub.execute_input": "2022-03-28T17:50:28.576608Z",
     "iopub.status.busy": "2022-03-28T17:50:28.576202Z",
     "iopub.status.idle": "2022-03-28T17:50:28.594739Z",
     "shell.execute_reply": "2022-03-28T17:50:28.594426Z"
    },
    "papermill": {
     "duration": 0.051295,
     "end_time": "2022-03-28T17:50:28.594807",
     "exception": false,
     "start_time": "2022-03-28T17:50:28.543512",
     "status": "completed"
    },
    "tags": [
     "parameters"
    ]
   },
   "outputs": [],
   "source": [
    "from steves_utils.CORES.utils import (\n",
    "    ALL_NODES,\n",
    "    ALL_NODES_MINIMUM_1000_EXAMPLES,\n",
    "    ALL_DAYS\n",
    ")\n",
    "\n",
    "from steves_utils.ORACLE.utils_v2 import (\n",
    "    ALL_DISTANCES_FEET_NARROWED,\n",
    "    ALL_RUNS,\n",
    "    ALL_SERIAL_NUMBERS,\n",
    ")\n",
    "\n",
    "standalone_parameters = {}\n",
    "standalone_parameters[\"experiment_name\"] = \"STANDALONE PTN\"\n",
    "standalone_parameters[\"lr\"] = 0.001\n",
    "standalone_parameters[\"device\"] = \"cuda\"\n",
    "\n",
    "standalone_parameters[\"seed\"] = 1337\n",
    "standalone_parameters[\"dataset_seed\"] = 1337\n",
    "\n",
    "standalone_parameters[\"n_way\"] = 8\n",
    "standalone_parameters[\"n_shot\"] = 3\n",
    "standalone_parameters[\"n_query\"]  = 2\n",
    "standalone_parameters[\"train_k_factor\"] = 1\n",
    "standalone_parameters[\"val_k_factor\"] = 2\n",
    "standalone_parameters[\"test_k_factor\"] = 2\n",
    "\n",
    "\n",
    "standalone_parameters[\"n_epoch\"] = 50\n",
    "\n",
    "standalone_parameters[\"patience\"] = 10\n",
    "standalone_parameters[\"criteria_for_best\"] = \"source_loss\"\n",
    "\n",
    "standalone_parameters[\"datasets\"] = [\n",
    "    {\n",
    "        \"labels\": ALL_SERIAL_NUMBERS,\n",
    "        \"domains\": ALL_DISTANCES_FEET_NARROWED,\n",
    "        \"num_examples_per_domain_per_label\": 100,\n",
    "        \"pickle_path\": os.path.join(get_datasets_base_path(), \"oracle.Run1_framed_2000Examples_stratified_ds.2022A.pkl\"),\n",
    "        \"source_or_target_dataset\": \"source\",\n",
    "        \"x_transforms\": [\"unit_mag\", \"minus_two\"],\n",
    "        \"episode_transforms\": [],\n",
    "        \"domain_prefix\": \"ORACLE_\"\n",
    "    },\n",
    "    {\n",
    "        \"labels\": ALL_NODES,\n",
    "        \"domains\": ALL_DAYS,\n",
    "        \"num_examples_per_domain_per_label\": 100,\n",
    "        \"pickle_path\": os.path.join(get_datasets_base_path(), \"cores.stratified_ds.2022A.pkl\"),\n",
    "        \"source_or_target_dataset\": \"target\",\n",
    "        \"x_transforms\": [\"unit_power\", \"times_zero\"],\n",
    "        \"episode_transforms\": [],\n",
    "        \"domain_prefix\": \"CORES_\"\n",
    "    }   \n",
    "]\n",
    "\n",
    "standalone_parameters[\"torch_default_dtype\"] = \"torch.float32\" \n",
    "\n",
    "\n",
    "\n",
    "standalone_parameters[\"x_net\"] =     [\n",
    "    {\"class\": \"nnReshape\", \"kargs\": {\"shape\":[-1, 1, 2, 256]}},\n",
    "    {\"class\": \"Conv2d\", \"kargs\": { \"in_channels\":1, \"out_channels\":256, \"kernel_size\":(1,7), \"bias\":False, \"padding\":(0,3), },},\n",
    "    {\"class\": \"ReLU\", \"kargs\": {\"inplace\": True}},\n",
    "    {\"class\": \"BatchNorm2d\", \"kargs\": {\"num_features\":256}},\n",
    "\n",
    "    {\"class\": \"Conv2d\", \"kargs\": { \"in_channels\":256, \"out_channels\":80, \"kernel_size\":(2,7), \"bias\":True, \"padding\":(0,3), },},\n",
    "    {\"class\": \"ReLU\", \"kargs\": {\"inplace\": True}},\n",
    "    {\"class\": \"BatchNorm2d\", \"kargs\": {\"num_features\":80}},\n",
    "    {\"class\": \"Flatten\", \"kargs\": {}},\n",
    "\n",
    "    {\"class\": \"Linear\", \"kargs\": {\"in_features\": 80*256, \"out_features\": 256}}, # 80 units per IQ pair\n",
    "    {\"class\": \"ReLU\", \"kargs\": {\"inplace\": True}},\n",
    "    {\"class\": \"BatchNorm1d\", \"kargs\": {\"num_features\":256}},\n",
    "\n",
    "    {\"class\": \"Linear\", \"kargs\": {\"in_features\": 256, \"out_features\": 256}},\n",
    "]\n",
    "\n",
    "# Parameters relevant to results\n",
    "# These parameters will basically never need to change\n",
    "standalone_parameters[\"NUM_LOGS_PER_EPOCH\"] = 10\n",
    "standalone_parameters[\"BEST_MODEL_PATH\"] = \"./best_model.pth\"\n",
    "\n",
    "\n",
    "\n",
    "\n"
   ]
  },
  {
   "cell_type": "code",
   "execution_count": 4,
   "id": "2e3fd312",
   "metadata": {
    "execution": {
     "iopub.execute_input": "2022-03-28T17:50:28.648061Z",
     "iopub.status.busy": "2022-03-28T17:50:28.640756Z",
     "iopub.status.idle": "2022-03-28T17:50:28.665497Z",
     "shell.execute_reply": "2022-03-28T17:50:28.665793Z"
    },
    "papermill": {
     "duration": 0.051744,
     "end_time": "2022-03-28T17:50:28.665873",
     "exception": false,
     "start_time": "2022-03-28T17:50:28.614129",
     "status": "completed"
    },
    "tags": [
     "injected-parameters"
    ]
   },
   "outputs": [],
   "source": [
    "# Parameters\n",
    "parameters = {\n",
    "    \"experiment_name\": \"tl_3-jitter5v2:oracle.run1.framed -> cores\",\n",
    "    \"device\": \"cuda\",\n",
    "    \"lr\": 0.0001,\n",
    "    \"x_shape\": [2, 256],\n",
    "    \"n_shot\": 3,\n",
    "    \"n_query\": 2,\n",
    "    \"train_k_factor\": 3,\n",
    "    \"val_k_factor\": 2,\n",
    "    \"test_k_factor\": 2,\n",
    "    \"torch_default_dtype\": \"torch.float32\",\n",
    "    \"n_epoch\": 50,\n",
    "    \"patience\": 3,\n",
    "    \"criteria_for_best\": \"target_accuracy\",\n",
    "    \"x_net\": [\n",
    "        {\"class\": \"nnReshape\", \"kargs\": {\"shape\": [-1, 1, 2, 256]}},\n",
    "        {\n",
    "            \"class\": \"Conv2d\",\n",
    "            \"kargs\": {\n",
    "                \"in_channels\": 1,\n",
    "                \"out_channels\": 256,\n",
    "                \"kernel_size\": [1, 7],\n",
    "                \"bias\": False,\n",
    "                \"padding\": [0, 3],\n",
    "            },\n",
    "        },\n",
    "        {\"class\": \"ReLU\", \"kargs\": {\"inplace\": True}},\n",
    "        {\"class\": \"BatchNorm2d\", \"kargs\": {\"num_features\": 256}},\n",
    "        {\n",
    "            \"class\": \"Conv2d\",\n",
    "            \"kargs\": {\n",
    "                \"in_channels\": 256,\n",
    "                \"out_channels\": 80,\n",
    "                \"kernel_size\": [2, 7],\n",
    "                \"bias\": True,\n",
    "                \"padding\": [0, 3],\n",
    "            },\n",
    "        },\n",
    "        {\"class\": \"ReLU\", \"kargs\": {\"inplace\": True}},\n",
    "        {\"class\": \"BatchNorm2d\", \"kargs\": {\"num_features\": 80}},\n",
    "        {\"class\": \"Flatten\", \"kargs\": {}},\n",
    "        {\"class\": \"Linear\", \"kargs\": {\"in_features\": 20480, \"out_features\": 256}},\n",
    "        {\"class\": \"ReLU\", \"kargs\": {\"inplace\": True}},\n",
    "        {\"class\": \"BatchNorm1d\", \"kargs\": {\"num_features\": 256}},\n",
    "        {\"class\": \"Linear\", \"kargs\": {\"in_features\": 256, \"out_features\": 256}},\n",
    "    ],\n",
    "    \"NUM_LOGS_PER_EPOCH\": 10,\n",
    "    \"BEST_MODEL_PATH\": \"./best_model.pth\",\n",
    "    \"n_way\": 16,\n",
    "    \"datasets\": [\n",
    "        {\n",
    "            \"labels\": [\n",
    "                \"1-10.\",\n",
    "                \"1-11.\",\n",
    "                \"1-15.\",\n",
    "                \"1-16.\",\n",
    "                \"1-17.\",\n",
    "                \"1-18.\",\n",
    "                \"1-19.\",\n",
    "                \"10-4.\",\n",
    "                \"10-7.\",\n",
    "                \"11-1.\",\n",
    "                \"11-14.\",\n",
    "                \"11-17.\",\n",
    "                \"11-20.\",\n",
    "                \"11-7.\",\n",
    "                \"13-20.\",\n",
    "                \"13-8.\",\n",
    "                \"14-10.\",\n",
    "                \"14-11.\",\n",
    "                \"14-14.\",\n",
    "                \"14-7.\",\n",
    "                \"15-1.\",\n",
    "                \"15-20.\",\n",
    "                \"16-1.\",\n",
    "                \"16-16.\",\n",
    "                \"17-10.\",\n",
    "                \"17-11.\",\n",
    "                \"17-2.\",\n",
    "                \"19-1.\",\n",
    "                \"19-16.\",\n",
    "                \"19-19.\",\n",
    "                \"19-20.\",\n",
    "                \"19-3.\",\n",
    "                \"2-10.\",\n",
    "                \"2-11.\",\n",
    "                \"2-17.\",\n",
    "                \"2-18.\",\n",
    "                \"2-20.\",\n",
    "                \"2-3.\",\n",
    "                \"2-4.\",\n",
    "                \"2-5.\",\n",
    "                \"2-6.\",\n",
    "                \"2-7.\",\n",
    "                \"2-8.\",\n",
    "                \"3-13.\",\n",
    "                \"3-18.\",\n",
    "                \"3-3.\",\n",
    "                \"4-1.\",\n",
    "                \"4-10.\",\n",
    "                \"4-11.\",\n",
    "                \"4-19.\",\n",
    "                \"5-5.\",\n",
    "                \"6-15.\",\n",
    "                \"7-10.\",\n",
    "                \"7-14.\",\n",
    "                \"8-18.\",\n",
    "                \"8-20.\",\n",
    "                \"8-3.\",\n",
    "                \"8-8.\",\n",
    "            ],\n",
    "            \"domains\": [1, 2, 3, 4, 5],\n",
    "            \"num_examples_per_domain_per_label\": -1,\n",
    "            \"pickle_path\": \"/root/csc500-main/datasets/cores.stratified_ds.2022A.pkl\",\n",
    "            \"source_or_target_dataset\": \"target\",\n",
    "            \"x_transforms\": [\"jitter_256_5\", \"lowpass_+/-10MHz\", \"take_200\"],\n",
    "            \"episode_transforms\": [],\n",
    "            \"domain_prefix\": \"C_\",\n",
    "        },\n",
    "        {\n",
    "            \"labels\": [\n",
    "                \"3123D52\",\n",
    "                \"3123D65\",\n",
    "                \"3123D79\",\n",
    "                \"3123D80\",\n",
    "                \"3123D54\",\n",
    "                \"3123D70\",\n",
    "                \"3123D7B\",\n",
    "                \"3123D89\",\n",
    "                \"3123D58\",\n",
    "                \"3123D76\",\n",
    "                \"3123D7D\",\n",
    "                \"3123EFE\",\n",
    "                \"3123D64\",\n",
    "                \"3123D78\",\n",
    "                \"3123D7E\",\n",
    "                \"3124E4A\",\n",
    "            ],\n",
    "            \"domains\": [32, 38, 8, 44, 14, 50, 20, 26],\n",
    "            \"num_examples_per_domain_per_label\": 2000,\n",
    "            \"pickle_path\": \"/root/csc500-main/datasets/oracle.Run1_framed_2000Examples_stratified_ds.2022A.pkl\",\n",
    "            \"source_or_target_dataset\": \"source\",\n",
    "            \"x_transforms\": [\"jitter_256_5\", \"take_200\", \"resample_20Msps_to_25Msps\"],\n",
    "            \"episode_transforms\": [],\n",
    "            \"domain_prefix\": \"O_\",\n",
    "        },\n",
    "    ],\n",
    "    \"seed\": 7,\n",
    "    \"dataset_seed\": 7,\n",
    "}\n"
   ]
  },
  {
   "cell_type": "code",
   "execution_count": 5,
   "id": "8fa1cc33",
   "metadata": {
    "execution": {
     "iopub.execute_input": "2022-03-28T17:50:28.711316Z",
     "iopub.status.busy": "2022-03-28T17:50:28.710947Z",
     "iopub.status.idle": "2022-03-28T17:50:28.730534Z",
     "shell.execute_reply": "2022-03-28T17:50:28.730212Z"
    },
    "papermill": {
     "duration": 0.045333,
     "end_time": "2022-03-28T17:50:28.730604",
     "exception": false,
     "start_time": "2022-03-28T17:50:28.685271",
     "status": "completed"
    },
    "tags": []
   },
   "outputs": [],
   "source": [
    "# Set this to True if you want to run this template directly\n",
    "STANDALONE = False\n",
    "if STANDALONE:\n",
    "    print(\"parameters not injected, running with standalone_parameters\")\n",
    "    parameters = standalone_parameters\n",
    "\n",
    "if not 'parameters' in locals() and not 'parameters' in globals():\n",
    "    raise Exception(\"Parameter injection failed\")\n",
    "\n",
    "#Use an easy dict for all the parameters\n",
    "p = EasyDict(parameters)\n",
    "\n",
    "if \"x_shape\" not in p:\n",
    "    p.x_shape = [2,256] # Default to this if we dont supply x_shape\n",
    "\n",
    "\n",
    "supplied_keys = set(p.keys())\n",
    "\n",
    "if  supplied_keys != required_parameters:\n",
    "    print(\"Parameters are incorrect\")\n",
    "    if len(supplied_keys - required_parameters)>0: print(\"Shouldn't have:\", str(supplied_keys - required_parameters))\n",
    "    if len(required_parameters - supplied_keys)>0: print(\"Need to have:\", str(required_parameters - supplied_keys))\n",
    "    raise RuntimeError(\"Parameters are incorrect\")"
   ]
  },
  {
   "cell_type": "code",
   "execution_count": 6,
   "id": "3a028d58",
   "metadata": {
    "execution": {
     "iopub.execute_input": "2022-03-28T17:50:28.774146Z",
     "iopub.status.busy": "2022-03-28T17:50:28.773788Z",
     "iopub.status.idle": "2022-03-28T17:50:28.793747Z",
     "shell.execute_reply": "2022-03-28T17:50:28.793433Z"
    },
    "papermill": {
     "duration": 0.043502,
     "end_time": "2022-03-28T17:50:28.793815",
     "exception": false,
     "start_time": "2022-03-28T17:50:28.750313",
     "status": "completed"
    },
    "tags": []
   },
   "outputs": [],
   "source": [
    "###################################\n",
    "# Set the RNGs and make it all deterministic\n",
    "###################################\n",
    "np.random.seed(p.seed)\n",
    "random.seed(p.seed)\n",
    "torch.manual_seed(p.seed)\n",
    "\n",
    "torch.use_deterministic_algorithms(True) "
   ]
  },
  {
   "cell_type": "code",
   "execution_count": 7,
   "id": "b691acf6",
   "metadata": {
    "execution": {
     "iopub.execute_input": "2022-03-28T17:50:28.836641Z",
     "iopub.status.busy": "2022-03-28T17:50:28.836282Z",
     "iopub.status.idle": "2022-03-28T17:50:28.857454Z",
     "shell.execute_reply": "2022-03-28T17:50:28.857140Z"
    },
    "papermill": {
     "duration": 0.044093,
     "end_time": "2022-03-28T17:50:28.857522",
     "exception": false,
     "start_time": "2022-03-28T17:50:28.813429",
     "status": "completed"
    },
    "tags": []
   },
   "outputs": [],
   "source": [
    "###########################################\n",
    "# The stratified datasets honor this\n",
    "###########################################\n",
    "torch.set_default_dtype(eval(p.torch_default_dtype))"
   ]
  },
  {
   "cell_type": "code",
   "execution_count": 8,
   "id": "b5fba671",
   "metadata": {
    "execution": {
     "iopub.execute_input": "2022-03-28T17:50:28.900455Z",
     "iopub.status.busy": "2022-03-28T17:50:28.899414Z",
     "iopub.status.idle": "2022-03-28T17:50:28.953641Z",
     "shell.execute_reply": "2022-03-28T17:50:28.953940Z"
    },
    "papermill": {
     "duration": 0.076645,
     "end_time": "2022-03-28T17:50:28.954020",
     "exception": false,
     "start_time": "2022-03-28T17:50:28.877375",
     "status": "completed"
    },
    "tags": []
   },
   "outputs": [],
   "source": [
    "###################################\n",
    "# Build the network(s)\n",
    "# Note: It's critical to do this AFTER setting the RNG\n",
    "###################################\n",
    "x_net = build_sequential(p.x_net)"
   ]
  },
  {
   "cell_type": "code",
   "execution_count": 9,
   "id": "5d7e61cc",
   "metadata": {
    "execution": {
     "iopub.execute_input": "2022-03-28T17:50:28.996925Z",
     "iopub.status.busy": "2022-03-28T17:50:28.996569Z",
     "iopub.status.idle": "2022-03-28T17:50:29.018170Z",
     "shell.execute_reply": "2022-03-28T17:50:29.017806Z"
    },
    "papermill": {
     "duration": 0.044457,
     "end_time": "2022-03-28T17:50:29.018238",
     "exception": false,
     "start_time": "2022-03-28T17:50:28.973781",
     "status": "completed"
    },
    "tags": []
   },
   "outputs": [],
   "source": [
    "start_time_secs = time.time()"
   ]
  },
  {
   "cell_type": "code",
   "execution_count": 10,
   "id": "c6b67dfd",
   "metadata": {
    "execution": {
     "iopub.execute_input": "2022-03-28T17:50:29.062488Z",
     "iopub.status.busy": "2022-03-28T17:50:29.062127Z",
     "iopub.status.idle": "2022-03-28T17:50:29.082060Z",
     "shell.execute_reply": "2022-03-28T17:50:29.081699Z"
    },
    "papermill": {
     "duration": 0.043897,
     "end_time": "2022-03-28T17:50:29.082128",
     "exception": false,
     "start_time": "2022-03-28T17:50:29.038231",
     "status": "completed"
    },
    "tags": []
   },
   "outputs": [],
   "source": [
    "p.domains_source = []\n",
    "p.domains_target = []\n",
    "\n",
    "\n",
    "train_original_source = []\n",
    "val_original_source   = []\n",
    "test_original_source  = []\n",
    "\n",
    "train_original_target = []\n",
    "val_original_target   = []\n",
    "test_original_target  = []"
   ]
  },
  {
   "cell_type": "code",
   "execution_count": 11,
   "id": "e3d9c3d3",
   "metadata": {
    "execution": {
     "iopub.execute_input": "2022-03-28T17:50:29.124773Z",
     "iopub.status.busy": "2022-03-28T17:50:29.124413Z",
     "iopub.status.idle": "2022-03-28T17:50:29.140522Z",
     "shell.execute_reply": "2022-03-28T17:50:29.140209Z"
    },
    "papermill": {
     "duration": 0.038324,
     "end_time": "2022-03-28T17:50:29.140590",
     "exception": false,
     "start_time": "2022-03-28T17:50:29.102266",
     "status": "completed"
    },
    "tags": []
   },
   "outputs": [],
   "source": [
    "# global_x_transform_func = lambda x: normalize(x.to(torch.get_default_dtype()), \"unit_power\") # unit_power, unit_mag\n",
    "# global_x_transform_func = lambda x: normalize(x, \"unit_power\") # unit_power, unit_mag"
   ]
  },
  {
   "cell_type": "code",
   "execution_count": 12,
   "id": "acb78fd2",
   "metadata": {
    "execution": {
     "iopub.execute_input": "2022-03-28T17:50:29.193419Z",
     "iopub.status.busy": "2022-03-28T17:50:29.193042Z",
     "iopub.status.idle": "2022-03-28T17:50:29.210153Z",
     "shell.execute_reply": "2022-03-28T17:50:29.209824Z"
    },
    "papermill": {
     "duration": 0.049429,
     "end_time": "2022-03-28T17:50:29.210222",
     "exception": false,
     "start_time": "2022-03-28T17:50:29.160793",
     "status": "completed"
    },
    "tags": []
   },
   "outputs": [],
   "source": [
    "def add_dataset(\n",
    "    labels,\n",
    "    domains,\n",
    "    pickle_path,\n",
    "    x_transforms,\n",
    "    episode_transforms,\n",
    "    domain_prefix,\n",
    "    num_examples_per_domain_per_label,\n",
    "    source_or_target_dataset:str,\n",
    "    iterator_seed=p.seed,\n",
    "    dataset_seed=p.dataset_seed,\n",
    "    n_shot=p.n_shot,\n",
    "    n_way=p.n_way,\n",
    "    n_query=p.n_query,\n",
    "    train_val_test_k_factors=(p.train_k_factor,p.val_k_factor,p.test_k_factor),\n",
    "):\n",
    "   \n",
    "    if x_transforms == []: x_transform = None\n",
    "    else: x_transform = get_chained_transform(x_transforms)\n",
    "    \n",
    "    if episode_transforms == []: episode_transform = None\n",
    "    else: raise Exception(\"episode_transforms not implemented\")\n",
    "    \n",
    "    episode_transform = lambda tup, _prefix=domain_prefix: (_prefix + str(tup[0]), tup[1])\n",
    "\n",
    "\n",
    "    eaf = Episodic_Accessor_Factory(\n",
    "        labels=labels,\n",
    "        domains=domains,\n",
    "        num_examples_per_domain_per_label=num_examples_per_domain_per_label,\n",
    "        iterator_seed=iterator_seed,\n",
    "        dataset_seed=dataset_seed,\n",
    "        n_shot=n_shot,\n",
    "        n_way=n_way,\n",
    "        n_query=n_query,\n",
    "        train_val_test_k_factors=train_val_test_k_factors,\n",
    "        pickle_path=pickle_path,\n",
    "        x_transform_func=x_transform,\n",
    "    )\n",
    "\n",
    "    train, val, test = eaf.get_train(), eaf.get_val(), eaf.get_test()\n",
    "    train = Lazy_Iterable_Wrapper(train, episode_transform)\n",
    "    val = Lazy_Iterable_Wrapper(val, episode_transform)\n",
    "    test = Lazy_Iterable_Wrapper(test, episode_transform)\n",
    "\n",
    "    if source_or_target_dataset==\"source\":\n",
    "        train_original_source.append(train)\n",
    "        val_original_source.append(val)\n",
    "        test_original_source.append(test)\n",
    "\n",
    "        p.domains_source.extend(\n",
    "            [domain_prefix + str(u) for u in domains]\n",
    "        )\n",
    "    elif source_or_target_dataset==\"target\":\n",
    "        train_original_target.append(train)\n",
    "        val_original_target.append(val)\n",
    "        test_original_target.append(test)\n",
    "        p.domains_target.extend(\n",
    "            [domain_prefix + str(u) for u in domains]\n",
    "        )\n",
    "    else:\n",
    "        raise Exception(f\"invalid source_or_target_dataset: {source_or_target_dataset}\")\n",
    "    "
   ]
  },
  {
   "cell_type": "code",
   "execution_count": 13,
   "id": "fe266617",
   "metadata": {
    "execution": {
     "iopub.execute_input": "2022-03-28T17:50:29.253629Z",
     "iopub.status.busy": "2022-03-28T17:50:29.253268Z",
     "iopub.status.idle": "2022-03-28T17:51:33.042392Z",
     "shell.execute_reply": "2022-03-28T17:51:33.041865Z"
    },
    "papermill": {
     "duration": 63.81206,
     "end_time": "2022-03-28T17:51:33.042515",
     "exception": false,
     "start_time": "2022-03-28T17:50:29.230455",
     "status": "completed"
    },
    "tags": []
   },
   "outputs": [],
   "source": [
    "for ds in p.datasets:\n",
    "    add_dataset(**ds)"
   ]
  },
  {
   "cell_type": "code",
   "execution_count": 14,
   "id": "b90d65ac",
   "metadata": {
    "execution": {
     "iopub.execute_input": "2022-03-28T17:51:33.107961Z",
     "iopub.status.busy": "2022-03-28T17:51:33.107568Z",
     "iopub.status.idle": "2022-03-28T17:51:33.134338Z",
     "shell.execute_reply": "2022-03-28T17:51:33.133526Z"
    },
    "papermill": {
     "duration": 0.061611,
     "end_time": "2022-03-28T17:51:33.134500",
     "exception": false,
     "start_time": "2022-03-28T17:51:33.072889",
     "status": "completed"
    },
    "tags": []
   },
   "outputs": [],
   "source": [
    "# from steves_utils.CORES.utils import (\n",
    "#     ALL_NODES,\n",
    "#     ALL_NODES_MINIMUM_1000_EXAMPLES,\n",
    "#     ALL_DAYS\n",
    "# )\n",
    "\n",
    "# add_dataset(\n",
    "#     labels=ALL_NODES,\n",
    "#     domains = ALL_DAYS,\n",
    "#     num_examples_per_domain_per_label=100,\n",
    "#     pickle_path=os.path.join(get_datasets_base_path(), \"cores.stratified_ds.2022A.pkl\"),\n",
    "#     source_or_target_dataset=\"target\",\n",
    "#     x_transform_func=global_x_transform_func,\n",
    "#     domain_modifier=lambda u: f\"cores_{u}\"\n",
    "# )"
   ]
  },
  {
   "cell_type": "code",
   "execution_count": 15,
   "id": "76db484d",
   "metadata": {
    "execution": {
     "iopub.execute_input": "2022-03-28T17:51:33.191882Z",
     "iopub.status.busy": "2022-03-28T17:51:33.185669Z",
     "iopub.status.idle": "2022-03-28T17:51:33.205788Z",
     "shell.execute_reply": "2022-03-28T17:51:33.204989Z"
    },
    "papermill": {
     "duration": 0.044824,
     "end_time": "2022-03-28T17:51:33.205947",
     "exception": false,
     "start_time": "2022-03-28T17:51:33.161123",
     "status": "completed"
    },
    "tags": []
   },
   "outputs": [],
   "source": [
    "# from steves_utils.ORACLE.utils_v2 import (\n",
    "#     ALL_DISTANCES_FEET,\n",
    "#     ALL_RUNS,\n",
    "#     ALL_SERIAL_NUMBERS,\n",
    "# )\n",
    "\n",
    "\n",
    "# add_dataset(\n",
    "#     labels=ALL_SERIAL_NUMBERS,\n",
    "#     domains = list(set(ALL_DISTANCES_FEET) - {2,62}),\n",
    "#     num_examples_per_domain_per_label=100,\n",
    "#     pickle_path=os.path.join(get_datasets_base_path(), \"oracle.Run2_framed_2000Examples_stratified_ds.2022A.pkl\"),\n",
    "#     source_or_target_dataset=\"source\",\n",
    "#     x_transform_func=global_x_transform_func,\n",
    "#     domain_modifier=lambda u: f\"oracle1_{u}\"\n",
    "# )\n"
   ]
  },
  {
   "cell_type": "code",
   "execution_count": 16,
   "id": "97dea9d2",
   "metadata": {
    "execution": {
     "iopub.execute_input": "2022-03-28T17:51:33.262172Z",
     "iopub.status.busy": "2022-03-28T17:51:33.258900Z",
     "iopub.status.idle": "2022-03-28T17:51:33.279294Z",
     "shell.execute_reply": "2022-03-28T17:51:33.278490Z"
    },
    "papermill": {
     "duration": 0.04592,
     "end_time": "2022-03-28T17:51:33.279454",
     "exception": false,
     "start_time": "2022-03-28T17:51:33.233534",
     "status": "completed"
    },
    "tags": []
   },
   "outputs": [],
   "source": [
    "# from steves_utils.ORACLE.utils_v2 import (\n",
    "#     ALL_DISTANCES_FEET,\n",
    "#     ALL_RUNS,\n",
    "#     ALL_SERIAL_NUMBERS,\n",
    "# )\n",
    "\n",
    "\n",
    "# add_dataset(\n",
    "#     labels=ALL_SERIAL_NUMBERS,\n",
    "#     domains = list(set(ALL_DISTANCES_FEET) - {2,62,56}),\n",
    "#     num_examples_per_domain_per_label=100,\n",
    "#     pickle_path=os.path.join(get_datasets_base_path(), \"oracle.Run2_framed_2000Examples_stratified_ds.2022A.pkl\"),\n",
    "#     source_or_target_dataset=\"source\",\n",
    "#     x_transform_func=global_x_transform_func,\n",
    "#     domain_modifier=lambda u: f\"oracle2_{u}\"\n",
    "# )"
   ]
  },
  {
   "cell_type": "code",
   "execution_count": 17,
   "id": "6f289866",
   "metadata": {
    "execution": {
     "iopub.execute_input": "2022-03-28T17:51:33.334326Z",
     "iopub.status.busy": "2022-03-28T17:51:33.333179Z",
     "iopub.status.idle": "2022-03-28T17:51:33.354192Z",
     "shell.execute_reply": "2022-03-28T17:51:33.353369Z"
    },
    "papermill": {
     "duration": 0.046347,
     "end_time": "2022-03-28T17:51:33.354360",
     "exception": false,
     "start_time": "2022-03-28T17:51:33.308013",
     "status": "completed"
    },
    "tags": []
   },
   "outputs": [],
   "source": [
    "# add_dataset(\n",
    "#     labels=list(range(19)),\n",
    "#     domains = [0,1,2],\n",
    "#     num_examples_per_domain_per_label=100,\n",
    "#     pickle_path=os.path.join(get_datasets_base_path(), \"metehan.stratified_ds.2022A.pkl\"),\n",
    "#     source_or_target_dataset=\"target\",\n",
    "#     x_transform_func=global_x_transform_func,\n",
    "#     domain_modifier=lambda u: f\"met_{u}\"\n",
    "# )"
   ]
  },
  {
   "cell_type": "code",
   "execution_count": 18,
   "id": "86a863c3",
   "metadata": {
    "execution": {
     "iopub.execute_input": "2022-03-28T17:51:33.407099Z",
     "iopub.status.busy": "2022-03-28T17:51:33.406307Z",
     "iopub.status.idle": "2022-03-28T17:51:33.427131Z",
     "shell.execute_reply": "2022-03-28T17:51:33.426318Z"
    },
    "papermill": {
     "duration": 0.045133,
     "end_time": "2022-03-28T17:51:33.427294",
     "exception": false,
     "start_time": "2022-03-28T17:51:33.382161",
     "status": "completed"
    },
    "tags": []
   },
   "outputs": [],
   "source": [
    "# # from steves_utils.wisig.utils import (\n",
    "# #     ALL_NODES_MINIMUM_100_EXAMPLES,\n",
    "# #     ALL_NODES_MINIMUM_500_EXAMPLES,\n",
    "# #     ALL_NODES_MINIMUM_1000_EXAMPLES,\n",
    "# #     ALL_DAYS\n",
    "# # )\n",
    "\n",
    "# import steves_utils.wisig.utils as wisig\n",
    "\n",
    "\n",
    "# add_dataset(\n",
    "#     labels=wisig.ALL_NODES_MINIMUM_100_EXAMPLES,\n",
    "#     domains = wisig.ALL_DAYS,\n",
    "#     num_examples_per_domain_per_label=100,\n",
    "#     pickle_path=os.path.join(get_datasets_base_path(), \"wisig.node3-19.stratified_ds.2022A.pkl\"),\n",
    "#     source_or_target_dataset=\"target\",\n",
    "#     x_transform_func=global_x_transform_func,\n",
    "#     domain_modifier=lambda u: f\"wisig_{u}\"\n",
    "# )"
   ]
  },
  {
   "cell_type": "code",
   "execution_count": 19,
   "id": "fd5442bc",
   "metadata": {
    "execution": {
     "iopub.execute_input": "2022-03-28T17:51:33.485747Z",
     "iopub.status.busy": "2022-03-28T17:51:33.485078Z",
     "iopub.status.idle": "2022-03-28T17:51:33.515925Z",
     "shell.execute_reply": "2022-03-28T17:51:33.515189Z"
    },
    "papermill": {
     "duration": 0.060728,
     "end_time": "2022-03-28T17:51:33.516078",
     "exception": false,
     "start_time": "2022-03-28T17:51:33.455350",
     "status": "completed"
    },
    "tags": []
   },
   "outputs": [],
   "source": [
    "###################################\n",
    "# Build the dataset\n",
    "###################################\n",
    "train_original_source = Iterable_Aggregator(train_original_source, p.seed)\n",
    "val_original_source = Iterable_Aggregator(val_original_source, p.seed)\n",
    "test_original_source = Iterable_Aggregator(test_original_source, p.seed)\n",
    "\n",
    "\n",
    "train_original_target = Iterable_Aggregator(train_original_target, p.seed)\n",
    "val_original_target = Iterable_Aggregator(val_original_target, p.seed)\n",
    "test_original_target = Iterable_Aggregator(test_original_target, p.seed)\n",
    "\n",
    "# For CNN We only use X and Y. And we only train on the source.\n",
    "# Properly form the data using a transform lambda and Lazy_Iterable_Wrapper. Finally wrap them in a dataloader\n",
    "\n",
    "transform_lambda = lambda ex: ex[1] # Original is (<domain>, <episode>) so we strip down to episode only\n",
    "\n",
    "train_processed_source = Lazy_Iterable_Wrapper(train_original_source, transform_lambda)\n",
    "val_processed_source   = Lazy_Iterable_Wrapper(val_original_source, transform_lambda)\n",
    "test_processed_source  = Lazy_Iterable_Wrapper(test_original_source, transform_lambda)\n",
    "\n",
    "train_processed_target = Lazy_Iterable_Wrapper(train_original_target, transform_lambda)\n",
    "val_processed_target   = Lazy_Iterable_Wrapper(val_original_target, transform_lambda)\n",
    "test_processed_target  = Lazy_Iterable_Wrapper(test_original_target, transform_lambda)\n",
    "\n",
    "datasets = EasyDict({\n",
    "    \"source\": {\n",
    "        \"original\": {\"train\":train_original_source, \"val\":val_original_source, \"test\":test_original_source},\n",
    "        \"processed\": {\"train\":train_processed_source, \"val\":val_processed_source, \"test\":test_processed_source}\n",
    "    },\n",
    "    \"target\": {\n",
    "        \"original\": {\"train\":train_original_target, \"val\":val_original_target, \"test\":test_original_target},\n",
    "        \"processed\": {\"train\":train_processed_target, \"val\":val_processed_target, \"test\":test_processed_target}\n",
    "    },\n",
    "})"
   ]
  },
  {
   "cell_type": "code",
   "execution_count": 20,
   "id": "5b3c01fc",
   "metadata": {
    "execution": {
     "iopub.execute_input": "2022-03-28T17:51:33.568584Z",
     "iopub.status.busy": "2022-03-28T17:51:33.566398Z",
     "iopub.status.idle": "2022-03-28T17:51:48.060625Z",
     "shell.execute_reply": "2022-03-28T17:51:48.061311Z"
    },
    "papermill": {
     "duration": 14.518129,
     "end_time": "2022-03-28T17:51:48.061533",
     "exception": false,
     "start_time": "2022-03-28T17:51:33.543404",
     "status": "completed"
    },
    "tags": []
   },
   "outputs": [
    {
     "name": "stdout",
     "output_type": "stream",
     "text": [
      "{'O_32', 'O_14', 'O_8', 'O_26', 'O_50', 'O_44', 'O_20', 'O_38'}\n"
     ]
    },
    {
     "name": "stdout",
     "output_type": "stream",
     "text": [
      "{'C_5', 'C_4', 'C_1', 'C_3', 'C_2'}\n"
     ]
    },
    {
     "name": "stdout",
     "output_type": "stream",
     "text": [
      "tensor([[[0., 0., 0.,  ..., 0., 0., 0.],\n",
      "         [0., 0., 0.,  ..., 0., 0., 0.]],\n",
      "\n",
      "        [[0., 0., 0.,  ..., 0., 0., 0.],\n",
      "         [0., 0., 0.,  ..., 0., 0., 0.]],\n",
      "\n",
      "        [[0., 0., 0.,  ..., 0., 0., 0.],\n",
      "         [0., 0., 0.,  ..., 0., 0., 0.]],\n",
      "\n",
      "        ...,\n",
      "\n",
      "        [[0., 0., 0.,  ..., 0., 0., 0.],\n",
      "         [0., 0., 0.,  ..., 0., 0., 0.]],\n",
      "\n",
      "        [[0., 0., 0.,  ..., 0., 0., 0.],\n",
      "         [0., 0., 0.,  ..., 0., 0., 0.]],\n",
      "\n",
      "        [[0., 0., 0.,  ..., 0., 0., 0.],\n",
      "         [0., 0., 0.,  ..., 0., 0., 0.]]])\n"
     ]
    }
   ],
   "source": [
    "from steves_utils.transforms import get_average_magnitude, get_average_power\n",
    "\n",
    "print(set([u for u,_ in val_original_source]))\n",
    "print(set([u for u,_ in val_original_target]))\n",
    "\n",
    "s_x, s_y, q_x, q_y, _ = next(iter(train_processed_source))\n",
    "print(s_x)\n",
    "\n",
    "# for ds in [\n",
    "#     train_processed_source,\n",
    "#     val_processed_source,\n",
    "#     test_processed_source,\n",
    "#     train_processed_target,\n",
    "#     val_processed_target,\n",
    "#     test_processed_target\n",
    "# ]:\n",
    "#     for s_x, s_y, q_x, q_y, _ in ds:\n",
    "#         for X in (s_x, q_x):\n",
    "#             for x in X:\n",
    "#                 assert np.isclose(get_average_magnitude(x.numpy()), 1.0)\n",
    "#                 assert np.isclose(get_average_power(x.numpy()), 1.0)\n",
    "                "
   ]
  },
  {
   "cell_type": "code",
   "execution_count": 21,
   "id": "bbdacba1",
   "metadata": {
    "execution": {
     "iopub.execute_input": "2022-03-28T17:51:48.119229Z",
     "iopub.status.busy": "2022-03-28T17:51:48.118852Z",
     "iopub.status.idle": "2022-03-28T17:51:48.378579Z",
     "shell.execute_reply": "2022-03-28T17:51:48.378889Z"
    },
    "papermill": {
     "duration": 0.288643,
     "end_time": "2022-03-28T17:51:48.379008",
     "exception": false,
     "start_time": "2022-03-28T17:51:48.090365",
     "status": "completed"
    },
    "tags": []
   },
   "outputs": [
    {
     "name": "stdout",
     "output_type": "stream",
     "text": [
      "(2, 256)\n"
     ]
    }
   ],
   "source": [
    "###################################\n",
    "# Build the model\n",
    "###################################\n",
    "# easfsl only wants a tuple for the shape\n",
    "model = Steves_Prototypical_Network(x_net, device=p.device, x_shape=tuple(p.x_shape))\n",
    "optimizer = Adam(params=model.parameters(), lr=p.lr)"
   ]
  },
  {
   "cell_type": "code",
   "execution_count": 22,
   "id": "22b39ac5",
   "metadata": {
    "execution": {
     "iopub.execute_input": "2022-03-28T17:51:48.428120Z",
     "iopub.status.busy": "2022-03-28T17:51:48.427750Z",
     "iopub.status.idle": "2022-03-28T18:13:24.500278Z",
     "shell.execute_reply": "2022-03-28T18:13:24.499939Z"
    },
    "papermill": {
     "duration": 1296.098254,
     "end_time": "2022-03-28T18:13:24.500360",
     "exception": false,
     "start_time": "2022-03-28T17:51:48.402106",
     "status": "completed"
    },
    "tags": []
   },
   "outputs": [
    {
     "name": "stdout",
     "output_type": "stream",
     "text": [
      "epoch: 1, [batch: 1 / 6720], examples_per_second: 32.5803, train_label_loss: 2.7404, \n"
     ]
    },
    {
     "name": "stdout",
     "output_type": "stream",
     "text": [
      "epoch: 1, [batch: 672 / 6720], examples_per_second: 4082.2797, train_label_loss: 1.2458, \n"
     ]
    },
    {
     "name": "stdout",
     "output_type": "stream",
     "text": [
      "epoch: 1, [batch: 1344 / 6720], examples_per_second: 4667.3018, train_label_loss: 0.9348, \n"
     ]
    },
    {
     "name": "stdout",
     "output_type": "stream",
     "text": [
      "epoch: 1, [batch: 2016 / 6720], examples_per_second: 4936.8145, train_label_loss: 0.9134, \n"
     ]
    },
    {
     "name": "stdout",
     "output_type": "stream",
     "text": [
      "epoch: 1, [batch: 2688 / 6720], examples_per_second: 5224.1274, train_label_loss: 0.4760, \n"
     ]
    },
    {
     "name": "stdout",
     "output_type": "stream",
     "text": [
      "epoch: 1, [batch: 3360 / 6720], examples_per_second: 5314.9274, train_label_loss: 0.3487, \n"
     ]
    },
    {
     "name": "stdout",
     "output_type": "stream",
     "text": [
      "epoch: 1, [batch: 4032 / 6720], examples_per_second: 5151.5887, train_label_loss: 0.5081, \n"
     ]
    },
    {
     "name": "stdout",
     "output_type": "stream",
     "text": [
      "epoch: 1, [batch: 4704 / 6720], examples_per_second: 4679.9325, train_label_loss: 0.7271, \n"
     ]
    },
    {
     "name": "stdout",
     "output_type": "stream",
     "text": [
      "epoch: 1, [batch: 5376 / 6720], examples_per_second: 4955.1373, train_label_loss: 0.6053, \n"
     ]
    },
    {
     "name": "stdout",
     "output_type": "stream",
     "text": [
      "epoch: 1, [batch: 6048 / 6720], examples_per_second: 5218.8165, train_label_loss: 0.4155, \n"
     ]
    },
    {
     "name": "stdout",
     "output_type": "stream",
     "text": [
      "=============================================================\n",
      "epoch: 1, source_val_acc_label: 0.5487, target_val_acc_label: 0.6152, source_val_label_loss: 271.9879, target_val_label_loss: 2781.0708, \n",
      "=============================================================\n"
     ]
    },
    {
     "name": "stdout",
     "output_type": "stream",
     "text": [
      "New best\n"
     ]
    },
    {
     "name": "stdout",
     "output_type": "stream",
     "text": [
      "epoch: 2, [batch: 1 / 6720], examples_per_second: 5.4207, train_label_loss: 34.4906, \n"
     ]
    },
    {
     "name": "stdout",
     "output_type": "stream",
     "text": [
      "epoch: 2, [batch: 672 / 6720], examples_per_second: 5097.4910, train_label_loss: 1.1520, \n"
     ]
    },
    {
     "name": "stdout",
     "output_type": "stream",
     "text": [
      "epoch: 2, [batch: 1344 / 6720], examples_per_second: 5260.0782, train_label_loss: 0.6193, \n"
     ]
    },
    {
     "name": "stdout",
     "output_type": "stream",
     "text": [
      "epoch: 2, [batch: 2016 / 6720], examples_per_second: 5120.4339, train_label_loss: 0.6143, \n"
     ]
    },
    {
     "name": "stdout",
     "output_type": "stream",
     "text": [
      "epoch: 2, [batch: 2688 / 6720], examples_per_second: 4996.9630, train_label_loss: 0.9858, \n"
     ]
    },
    {
     "name": "stdout",
     "output_type": "stream",
     "text": [
      "epoch: 2, [batch: 3360 / 6720], examples_per_second: 5398.8001, train_label_loss: 0.7253, \n"
     ]
    },
    {
     "name": "stdout",
     "output_type": "stream",
     "text": [
      "epoch: 2, [batch: 4032 / 6720], examples_per_second: 5143.0152, train_label_loss: 0.5847, \n"
     ]
    },
    {
     "name": "stdout",
     "output_type": "stream",
     "text": [
      "epoch: 2, [batch: 4704 / 6720], examples_per_second: 4950.2373, train_label_loss: 0.6802, \n"
     ]
    },
    {
     "name": "stdout",
     "output_type": "stream",
     "text": [
      "epoch: 2, [batch: 5376 / 6720], examples_per_second: 5060.1903, train_label_loss: 0.4587, \n"
     ]
    },
    {
     "name": "stdout",
     "output_type": "stream",
     "text": [
      "epoch: 2, [batch: 6048 / 6720], examples_per_second: 4319.6886, train_label_loss: 0.6381, \n"
     ]
    },
    {
     "name": "stdout",
     "output_type": "stream",
     "text": [
      "=============================================================\n",
      "epoch: 2, source_val_acc_label: 0.8028, target_val_acc_label: 0.6438, source_val_label_loss: 0.5466, target_val_label_loss: 324.0558, \n",
      "=============================================================\n"
     ]
    },
    {
     "name": "stdout",
     "output_type": "stream",
     "text": [
      "New best\n"
     ]
    },
    {
     "name": "stdout",
     "output_type": "stream",
     "text": [
      "epoch: 3, [batch: 1 / 6720], examples_per_second: 3.3056, train_label_loss: 0.2369, \n"
     ]
    },
    {
     "name": "stdout",
     "output_type": "stream",
     "text": [
      "epoch: 3, [batch: 672 / 6720], examples_per_second: 2905.9929, train_label_loss: 0.3986, \n"
     ]
    },
    {
     "name": "stdout",
     "output_type": "stream",
     "text": [
      "epoch: 3, [batch: 1344 / 6720], examples_per_second: 2958.2792, train_label_loss: 0.2078, \n"
     ]
    },
    {
     "name": "stdout",
     "output_type": "stream",
     "text": [
      "epoch: 3, [batch: 2016 / 6720], examples_per_second: 2998.3530, train_label_loss: 0.2835, \n"
     ]
    },
    {
     "name": "stdout",
     "output_type": "stream",
     "text": [
      "epoch: 3, [batch: 2688 / 6720], examples_per_second: 2973.0947, train_label_loss: 0.3629, \n"
     ]
    },
    {
     "name": "stdout",
     "output_type": "stream",
     "text": [
      "epoch: 3, [batch: 3360 / 6720], examples_per_second: 2997.9269, train_label_loss: 0.3402, \n"
     ]
    },
    {
     "name": "stdout",
     "output_type": "stream",
     "text": [
      "epoch: 3, [batch: 4032 / 6720], examples_per_second: 2962.5587, train_label_loss: 0.2818, \n"
     ]
    },
    {
     "name": "stdout",
     "output_type": "stream",
     "text": [
      "epoch: 3, [batch: 4704 / 6720], examples_per_second: 3358.8835, train_label_loss: 0.3845, \n"
     ]
    },
    {
     "name": "stdout",
     "output_type": "stream",
     "text": [
      "epoch: 3, [batch: 5376 / 6720], examples_per_second: 3453.3568, train_label_loss: 0.7235, \n"
     ]
    },
    {
     "name": "stdout",
     "output_type": "stream",
     "text": [
      "epoch: 3, [batch: 6048 / 6720], examples_per_second: 3835.9599, train_label_loss: 0.1806, \n"
     ]
    },
    {
     "name": "stdout",
     "output_type": "stream",
     "text": [
      "=============================================================\n",
      "epoch: 3, source_val_acc_label: 0.8444, target_val_acc_label: 0.6581, source_val_label_loss: 0.4304, target_val_label_loss: 344.0038, \n",
      "=============================================================\n"
     ]
    },
    {
     "name": "stdout",
     "output_type": "stream",
     "text": [
      "New best\n"
     ]
    },
    {
     "name": "stdout",
     "output_type": "stream",
     "text": [
      "epoch: 4, [batch: 1 / 6720], examples_per_second: 3.1745, train_label_loss: 0.4420, \n"
     ]
    },
    {
     "name": "stdout",
     "output_type": "stream",
     "text": [
      "epoch: 4, [batch: 672 / 6720], examples_per_second: 2991.8223, train_label_loss: 0.3074, \n"
     ]
    },
    {
     "name": "stdout",
     "output_type": "stream",
     "text": [
      "epoch: 4, [batch: 1344 / 6720], examples_per_second: 3017.3532, train_label_loss: 0.2991, \n"
     ]
    },
    {
     "name": "stdout",
     "output_type": "stream",
     "text": [
      "epoch: 4, [batch: 2016 / 6720], examples_per_second: 2969.3645, train_label_loss: 0.3446, \n"
     ]
    },
    {
     "name": "stdout",
     "output_type": "stream",
     "text": [
      "epoch: 4, [batch: 2688 / 6720], examples_per_second: 2952.8466, train_label_loss: 0.3374, \n"
     ]
    },
    {
     "name": "stdout",
     "output_type": "stream",
     "text": [
      "epoch: 4, [batch: 3360 / 6720], examples_per_second: 2959.1022, train_label_loss: 0.5042, \n"
     ]
    },
    {
     "name": "stdout",
     "output_type": "stream",
     "text": [
      "epoch: 4, [batch: 4032 / 6720], examples_per_second: 2986.5944, train_label_loss: 0.1266, \n"
     ]
    },
    {
     "name": "stdout",
     "output_type": "stream",
     "text": [
      "epoch: 4, [batch: 4704 / 6720], examples_per_second: 3242.3567, train_label_loss: 0.3935, \n"
     ]
    },
    {
     "name": "stdout",
     "output_type": "stream",
     "text": [
      "epoch: 4, [batch: 5376 / 6720], examples_per_second: 3419.6582, train_label_loss: 0.2736, \n"
     ]
    },
    {
     "name": "stdout",
     "output_type": "stream",
     "text": [
      "epoch: 4, [batch: 6048 / 6720], examples_per_second: 3750.0756, train_label_loss: 0.4506, \n"
     ]
    },
    {
     "name": "stdout",
     "output_type": "stream",
     "text": [
      "=============================================================\n",
      "epoch: 4, source_val_acc_label: 0.8600, target_val_acc_label: 0.6114, source_val_label_loss: 0.4033, target_val_label_loss: 435.9894, \n",
      "=============================================================\n"
     ]
    },
    {
     "name": "stdout",
     "output_type": "stream",
     "text": [
      "epoch: 5, [batch: 1 / 6720], examples_per_second: 3.1805, train_label_loss: 0.4187, \n"
     ]
    },
    {
     "name": "stdout",
     "output_type": "stream",
     "text": [
      "epoch: 5, [batch: 672 / 6720], examples_per_second: 2975.3033, train_label_loss: 0.3634, \n"
     ]
    },
    {
     "name": "stdout",
     "output_type": "stream",
     "text": [
      "epoch: 5, [batch: 1344 / 6720], examples_per_second: 3025.4693, train_label_loss: 0.4048, \n"
     ]
    },
    {
     "name": "stdout",
     "output_type": "stream",
     "text": [
      "epoch: 5, [batch: 2016 / 6720], examples_per_second: 2985.3674, train_label_loss: 0.2355, \n"
     ]
    },
    {
     "name": "stdout",
     "output_type": "stream",
     "text": [
      "epoch: 5, [batch: 2688 / 6720], examples_per_second: 2955.0918, train_label_loss: 0.2253, \n"
     ]
    },
    {
     "name": "stdout",
     "output_type": "stream",
     "text": [
      "epoch: 5, [batch: 3360 / 6720], examples_per_second: 2997.8605, train_label_loss: 0.2634, \n"
     ]
    },
    {
     "name": "stdout",
     "output_type": "stream",
     "text": [
      "epoch: 5, [batch: 4032 / 6720], examples_per_second: 2965.2247, train_label_loss: 0.3212, \n"
     ]
    },
    {
     "name": "stdout",
     "output_type": "stream",
     "text": [
      "epoch: 5, [batch: 4704 / 6720], examples_per_second: 3290.0132, train_label_loss: 0.2438, \n"
     ]
    },
    {
     "name": "stdout",
     "output_type": "stream",
     "text": [
      "epoch: 5, [batch: 5376 / 6720], examples_per_second: 3520.3647, train_label_loss: 0.1854, \n"
     ]
    },
    {
     "name": "stdout",
     "output_type": "stream",
     "text": [
      "epoch: 5, [batch: 6048 / 6720], examples_per_second: 3858.3884, train_label_loss: 0.1397, \n"
     ]
    },
    {
     "name": "stdout",
     "output_type": "stream",
     "text": [
      "=============================================================\n",
      "epoch: 5, source_val_acc_label: 0.8776, target_val_acc_label: 0.6258, source_val_label_loss: 0.3437, target_val_label_loss: 451.9506, \n",
      "=============================================================\n"
     ]
    },
    {
     "name": "stdout",
     "output_type": "stream",
     "text": [
      "epoch: 6, [batch: 1 / 6720], examples_per_second: 3.1900, train_label_loss: 0.4016, \n"
     ]
    },
    {
     "name": "stdout",
     "output_type": "stream",
     "text": [
      "epoch: 6, [batch: 672 / 6720], examples_per_second: 2931.7692, train_label_loss: 0.2398, \n"
     ]
    },
    {
     "name": "stdout",
     "output_type": "stream",
     "text": [
      "epoch: 6, [batch: 1344 / 6720], examples_per_second: 2942.9076, train_label_loss: 0.1499, \n"
     ]
    },
    {
     "name": "stdout",
     "output_type": "stream",
     "text": [
      "epoch: 6, [batch: 2016 / 6720], examples_per_second: 3005.7168, train_label_loss: 0.3329, \n"
     ]
    },
    {
     "name": "stdout",
     "output_type": "stream",
     "text": [
      "epoch: 6, [batch: 2688 / 6720], examples_per_second: 3001.8450, train_label_loss: 0.1028, \n"
     ]
    },
    {
     "name": "stdout",
     "output_type": "stream",
     "text": [
      "epoch: 6, [batch: 3360 / 6720], examples_per_second: 3016.3555, train_label_loss: 0.2839, \n"
     ]
    },
    {
     "name": "stdout",
     "output_type": "stream",
     "text": [
      "epoch: 6, [batch: 4032 / 6720], examples_per_second: 2985.5049, train_label_loss: 0.1954, \n"
     ]
    },
    {
     "name": "stdout",
     "output_type": "stream",
     "text": [
      "epoch: 6, [batch: 4704 / 6720], examples_per_second: 3232.6609, train_label_loss: 0.3452, \n"
     ]
    },
    {
     "name": "stdout",
     "output_type": "stream",
     "text": [
      "epoch: 6, [batch: 5376 / 6720], examples_per_second: 3450.8208, train_label_loss: 0.5733, \n"
     ]
    },
    {
     "name": "stdout",
     "output_type": "stream",
     "text": [
      "epoch: 6, [batch: 6048 / 6720], examples_per_second: 3873.6907, train_label_loss: 0.3403, \n"
     ]
    },
    {
     "name": "stdout",
     "output_type": "stream",
     "text": [
      "=============================================================\n",
      "epoch: 6, source_val_acc_label: 0.8856, target_val_acc_label: 0.6316, source_val_label_loss: 0.3305, target_val_label_loss: 498.6421, \n",
      "=============================================================\n"
     ]
    },
    {
     "name": "stdout",
     "output_type": "stream",
     "text": [
      "epoch: 7, [batch: 1 / 6720], examples_per_second: 3.1752, train_label_loss: 0.3641, \n"
     ]
    },
    {
     "name": "stdout",
     "output_type": "stream",
     "text": [
      "epoch: 7, [batch: 672 / 6720], examples_per_second: 3032.9015, train_label_loss: 0.3234, \n"
     ]
    },
    {
     "name": "stdout",
     "output_type": "stream",
     "text": [
      "epoch: 7, [batch: 1344 / 6720], examples_per_second: 3023.2730, train_label_loss: 0.3816, \n"
     ]
    },
    {
     "name": "stdout",
     "output_type": "stream",
     "text": [
      "epoch: 7, [batch: 2016 / 6720], examples_per_second: 3007.5688, train_label_loss: 0.4060, \n"
     ]
    },
    {
     "name": "stdout",
     "output_type": "stream",
     "text": [
      "epoch: 7, [batch: 2688 / 6720], examples_per_second: 3037.0576, train_label_loss: 0.2218, \n"
     ]
    },
    {
     "name": "stdout",
     "output_type": "stream",
     "text": [
      "epoch: 7, [batch: 3360 / 6720], examples_per_second: 3016.4605, train_label_loss: 0.4284, \n"
     ]
    },
    {
     "name": "stdout",
     "output_type": "stream",
     "text": [
      "epoch: 7, [batch: 4032 / 6720], examples_per_second: 2999.6224, train_label_loss: 0.2915, \n"
     ]
    },
    {
     "name": "stdout",
     "output_type": "stream",
     "text": [
      "epoch: 7, [batch: 4704 / 6720], examples_per_second: 3092.2834, train_label_loss: 0.1952, \n"
     ]
    },
    {
     "name": "stdout",
     "output_type": "stream",
     "text": [
      "epoch: 7, [batch: 5376 / 6720], examples_per_second: 3440.2962, train_label_loss: 0.3041, \n"
     ]
    },
    {
     "name": "stdout",
     "output_type": "stream",
     "text": [
      "epoch: 7, [batch: 6048 / 6720], examples_per_second: 3778.0310, train_label_loss: 0.2895, \n"
     ]
    },
    {
     "name": "stdout",
     "output_type": "stream",
     "text": [
      "=============================================================\n",
      "epoch: 7, source_val_acc_label: 0.8840, target_val_acc_label: 0.6127, source_val_label_loss: 0.3313, target_val_label_loss: 600.8027, \n",
      "=============================================================\n"
     ]
    },
    {
     "name": "stdout",
     "output_type": "stream",
     "text": [
      "Patience (3) exhausted\n"
     ]
    }
   ],
   "source": [
    "###################################\n",
    "# train\n",
    "###################################\n",
    "jig = PTN_Train_Eval_Test_Jig(model, p.BEST_MODEL_PATH, p.device)\n",
    "\n",
    "jig.train(\n",
    "    train_iterable=datasets.source.processed.train,\n",
    "    source_val_iterable=datasets.source.processed.val,\n",
    "    target_val_iterable=datasets.target.processed.val,\n",
    "    num_epochs=p.n_epoch,\n",
    "    num_logs_per_epoch=p.NUM_LOGS_PER_EPOCH,\n",
    "    patience=p.patience,\n",
    "    optimizer=optimizer,\n",
    "    criteria_for_best=p.criteria_for_best,\n",
    ")"
   ]
  },
  {
   "cell_type": "code",
   "execution_count": 23,
   "id": "31e8fabf",
   "metadata": {
    "execution": {
     "iopub.execute_input": "2022-03-28T18:13:24.596108Z",
     "iopub.status.busy": "2022-03-28T18:13:24.595748Z",
     "iopub.status.idle": "2022-03-28T18:13:24.628491Z",
     "shell.execute_reply": "2022-03-28T18:13:24.627759Z"
    },
    "papermill": {
     "duration": 0.083012,
     "end_time": "2022-03-28T18:13:24.628646",
     "exception": false,
     "start_time": "2022-03-28T18:13:24.545634",
     "status": "completed"
    },
    "tags": []
   },
   "outputs": [],
   "source": [
    "total_experiment_time_secs = time.time() - start_time_secs"
   ]
  },
  {
   "cell_type": "code",
   "execution_count": 24,
   "id": "87b9595b",
   "metadata": {
    "execution": {
     "iopub.execute_input": "2022-03-28T18:13:24.734225Z",
     "iopub.status.busy": "2022-03-28T18:13:24.733181Z",
     "iopub.status.idle": "2022-03-28T18:16:56.281968Z",
     "shell.execute_reply": "2022-03-28T18:16:56.281385Z"
    },
    "papermill": {
     "duration": 211.602709,
     "end_time": "2022-03-28T18:16:56.282124",
     "exception": false,
     "start_time": "2022-03-28T18:13:24.679415",
     "status": "completed"
    },
    "tags": []
   },
   "outputs": [],
   "source": [
    "###################################\n",
    "# Evaluate the model\n",
    "###################################\n",
    "source_test_label_accuracy, source_test_label_loss = jig.test(datasets.source.processed.test)\n",
    "target_test_label_accuracy, target_test_label_loss = jig.test(datasets.target.processed.test)\n",
    "\n",
    "source_val_label_accuracy, source_val_label_loss = jig.test(datasets.source.processed.val)\n",
    "target_val_label_accuracy, target_val_label_loss = jig.test(datasets.target.processed.val)\n",
    "\n",
    "history = jig.get_history()\n",
    "\n",
    "total_epochs_trained = len(history[\"epoch_indices\"])\n",
    "\n",
    "val_dl = Iterable_Aggregator((datasets.source.original.val,datasets.target.original.val))\n",
    "\n",
    "confusion = ptn_confusion_by_domain_over_dataloader(model, p.device, val_dl)\n",
    "per_domain_accuracy = per_domain_accuracy_from_confusion(confusion)\n",
    "\n",
    "# Add a key to per_domain_accuracy for if it was a source domain\n",
    "for domain, accuracy in per_domain_accuracy.items():\n",
    "    per_domain_accuracy[domain] = {\n",
    "        \"accuracy\": accuracy,\n",
    "        \"source?\": domain in p.domains_source\n",
    "    }\n",
    "\n",
    "# Do an independent accuracy assesment JUST TO BE SURE!\n",
    "# _source_test_label_accuracy = independent_accuracy_assesment(model, datasets.source.processed.test, p.device)\n",
    "# _target_test_label_accuracy = independent_accuracy_assesment(model, datasets.target.processed.test, p.device)\n",
    "# _source_val_label_accuracy = independent_accuracy_assesment(model, datasets.source.processed.val, p.device)\n",
    "# _target_val_label_accuracy = independent_accuracy_assesment(model, datasets.target.processed.val, p.device)\n",
    "\n",
    "# assert(_source_test_label_accuracy == source_test_label_accuracy)\n",
    "# assert(_target_test_label_accuracy == target_test_label_accuracy)\n",
    "# assert(_source_val_label_accuracy == source_val_label_accuracy)\n",
    "# assert(_target_val_label_accuracy == target_val_label_accuracy)\n",
    "\n",
    "experiment = {\n",
    "    \"experiment_name\": p.experiment_name,\n",
    "    \"parameters\": dict(p),\n",
    "    \"results\": {\n",
    "        \"source_test_label_accuracy\": source_test_label_accuracy,\n",
    "        \"source_test_label_loss\": source_test_label_loss,\n",
    "        \"target_test_label_accuracy\": target_test_label_accuracy,\n",
    "        \"target_test_label_loss\": target_test_label_loss,\n",
    "        \"source_val_label_accuracy\": source_val_label_accuracy,\n",
    "        \"source_val_label_loss\": source_val_label_loss,\n",
    "        \"target_val_label_accuracy\": target_val_label_accuracy,\n",
    "        \"target_val_label_loss\": target_val_label_loss,\n",
    "        \"total_epochs_trained\": total_epochs_trained,\n",
    "        \"total_experiment_time_secs\": total_experiment_time_secs,\n",
    "        \"confusion\": confusion,\n",
    "        \"per_domain_accuracy\": per_domain_accuracy,\n",
    "    },\n",
    "    \"history\": history,\n",
    "    \"dataset_metrics\": get_dataset_metrics(datasets, \"ptn\"),\n",
    "}"
   ]
  },
  {
   "cell_type": "code",
   "execution_count": 25,
   "id": "54a21829",
   "metadata": {
    "execution": {
     "iopub.execute_input": "2022-03-28T18:16:56.394485Z",
     "iopub.status.busy": "2022-03-28T18:16:56.394110Z",
     "iopub.status.idle": "2022-03-28T18:16:56.610227Z",
     "shell.execute_reply": "2022-03-28T18:16:56.610893Z"
    },
    "papermill": {
     "duration": 0.265389,
     "end_time": "2022-03-28T18:16:56.611081",
     "exception": false,
     "start_time": "2022-03-28T18:16:56.345692",
     "status": "completed"
    },
    "tags": []
   },
   "outputs": [
    {
     "data": {
      "image/png": "[encoded data removed]",
      "text/plain": [
       "<Figure size 1080x504 with 1 Axes>"
      ]
     },
     "metadata": {
      "needs_background": "light"
     },
     "output_type": "display_data"
    }
   ],
   "source": [
    "ax = get_loss_curve(experiment)\n",
    "plt.show()"
   ]
  },
  {
   "cell_type": "code",
   "execution_count": 26,
   "id": "fd8a0f60",
   "metadata": {
    "execution": {
     "iopub.execute_input": "2022-03-28T18:16:56.711488Z",
     "iopub.status.busy": "2022-03-28T18:16:56.710644Z",
     "iopub.status.idle": "2022-03-28T18:16:57.069905Z",
     "shell.execute_reply": "2022-03-28T18:16:57.070577Z"
    },
    "papermill": {
     "duration": 0.407932,
     "end_time": "2022-03-28T18:16:57.070769",
     "exception": false,
     "start_time": "2022-03-28T18:16:56.662837",
     "status": "completed"
    },
    "tags": []
   },
   "outputs": [
    {
     "data": {
      "text/plain": [
       "<AxesSubplot:title={'center':'Results'}>"
      ]
     },
     "execution_count": 26,
     "metadata": {},
     "output_type": "execute_result"
    },
    {
     "data": {
      "image/png": "[encoded data removed]",
      "text/plain": [
       "<Figure size 1080x504 with 1 Axes>"
      ]
     },
     "metadata": {
      "needs_background": "light"
     },
     "output_type": "display_data"
    }
   ],
   "source": [
    "get_results_table(experiment)"
   ]
  },
  {
   "cell_type": "code",
   "execution_count": 27,
   "id": "cf8dc689",
   "metadata": {
    "execution": {
     "iopub.execute_input": "2022-03-28T18:16:57.173712Z",
     "iopub.status.busy": "2022-03-28T18:16:57.173086Z",
     "iopub.status.idle": "2022-03-28T18:16:57.408169Z",
     "shell.execute_reply": "2022-03-28T18:16:57.408838Z"
    },
    "papermill": {
     "duration": 0.286427,
     "end_time": "2022-03-28T18:16:57.409030",
     "exception": false,
     "start_time": "2022-03-28T18:16:57.122603",
     "status": "completed"
    },
    "tags": []
   },
   "outputs": [
    {
     "data": {
      "text/plain": [
       "<AxesSubplot:title={'center':'Per Domain Validation Accuracy'}, xlabel='domain'>"
      ]
     },
     "execution_count": 27,
     "metadata": {},
     "output_type": "execute_result"
    },
    {
     "data": {
      "image/png": "[encoded data removed]",
      "text/plain": [
       "<Figure size 1080x504 with 1 Axes>"
      ]
     },
     "metadata": {
      "needs_background": "light"
     },
     "output_type": "display_data"
    }
   ],
   "source": [
    "get_domain_accuracies(experiment)"
   ]
  },
  {
   "cell_type": "code",
   "execution_count": 28,
   "id": "a74ae082",
   "metadata": {
    "execution": {
     "iopub.execute_input": "2022-03-28T18:16:57.516431Z",
     "iopub.status.busy": "2022-03-28T18:16:57.516054Z",
     "iopub.status.idle": "2022-03-28T18:16:57.544712Z",
     "shell.execute_reply": "2022-03-28T18:16:57.544015Z"
    },
    "papermill": {
     "duration": 0.082099,
     "end_time": "2022-03-28T18:16:57.544866",
     "exception": false,
     "start_time": "2022-03-28T18:16:57.462767",
     "status": "completed"
    },
    "tags": []
   },
   "outputs": [
    {
     "name": "stdout",
     "output_type": "stream",
     "text": [
      "Source Test Label Accuracy: 0.8501627604166667 Target Test Label Accuracy: 0.6600282485875706\n",
      "Source Val Label Accuracy: 0.84443359375 Target Val Label Accuracy: 0.6580714285714285\n"
     ]
    }
   ],
   "source": [
    "print(\"Source Test Label Accuracy:\", experiment[\"results\"][\"source_test_label_accuracy\"], \"Target Test Label Accuracy:\", experiment[\"results\"][\"target_test_label_accuracy\"])\n",
    "print(\"Source Val Label Accuracy:\", experiment[\"results\"][\"source_val_label_accuracy\"], \"Target Val Label Accuracy:\", experiment[\"results\"][\"target_val_label_accuracy\"])"
   ]
  },
  {
   "cell_type": "code",
   "execution_count": 29,
   "id": "dacca602",
   "metadata": {
    "execution": {
     "iopub.execute_input": "2022-03-28T18:16:57.657173Z",
     "iopub.status.busy": "2022-03-28T18:16:57.656553Z",
     "iopub.status.idle": "2022-03-28T18:16:57.685825Z",
     "shell.execute_reply": "2022-03-28T18:16:57.686487Z"
    },
    "papermill": {
     "duration": 0.082938,
     "end_time": "2022-03-28T18:16:57.686671",
     "exception": false,
     "start_time": "2022-03-28T18:16:57.603733",
     "status": "completed"
    },
    "tags": [
     "experiment_json"
    ]
   },
   "outputs": [
    {
     "data": {
      "text/plain": [
       "'{\"experiment_name\": \"tl_3-jitter5v2:oracle.run1.framed -> cores\", \"parameters\": {\"experiment_name\": \"tl_3-jitter5v2:oracle.run1.framed -> cores\", \"device\": \"cuda\", \"lr\": 0.0001, \"x_shape\": [2, 256], \"n_shot\": 3, \"n_query\": 2, \"train_k_factor\": 3, \"val_k_factor\": 2, \"test_k_factor\": 2, \"torch_default_dtype\": \"torch.float32\", \"n_epoch\": 50, \"patience\": 3, \"criteria_for_best\": \"target_accuracy\", \"x_net\": [{\"class\": \"nnReshape\", \"kargs\": {\"shape\": [-1, 1, 2, 256]}}, {\"class\": \"Conv2d\", \"kargs\": {\"in_channels\": 1, \"out_channels\": 256, \"kernel_size\": [1, 7], \"bias\": false, \"padding\": [0, 3]}}, {\"class\": \"ReLU\", \"kargs\": {\"inplace\": true}}, {\"class\": \"BatchNorm2d\", \"kargs\": {\"num_features\": 256}}, {\"class\": \"Conv2d\", \"kargs\": {\"in_channels\": 256, \"out_channels\": 80, \"kernel_size\": [2, 7], \"bias\": true, \"padding\": [0, 3]}}, {\"class\": \"ReLU\", \"kargs\": {\"inplace\": true}}, {\"class\": \"BatchNorm2d\", \"kargs\": {\"num_features\": 80}}, {\"class\": \"Flatten\", \"kargs\": {}}, {\"class\": \"Linear\", \"kargs\": {\"in_features\": 20480, \"out_features\": 256}}, {\"class\": \"ReLU\", \"kargs\": {\"inplace\": true}}, {\"class\": \"BatchNorm1d\", \"kargs\": {\"num_features\": 256}}, {\"class\": \"Linear\", \"kargs\": {\"in_features\": 256, \"out_features\": 256}}], \"NUM_LOGS_PER_EPOCH\": 10, \"BEST_MODEL_PATH\": \"./best_model.pth\", \"n_way\": 16, \"datasets\": [{\"labels\": [\"1-10.\", \"1-11.\", \"1-15.\", \"1-16.\", \"1-17.\", \"1-18.\", \"1-19.\", \"10-4.\", \"10-7.\", \"11-1.\", \"11-14.\", \"11-17.\", \"11-20.\", \"11-7.\", \"13-20.\", \"13-8.\", \"14-10.\", \"14-11.\", \"14-14.\", \"14-7.\", \"15-1.\", \"15-20.\", \"16-1.\", \"16-16.\", \"17-10.\", \"17-11.\", \"17-2.\", \"19-1.\", \"19-16.\", \"19-19.\", \"19-20.\", \"19-3.\", \"2-10.\", \"2-11.\", \"2-17.\", \"2-18.\", \"2-20.\", \"2-3.\", \"2-4.\", \"2-5.\", \"2-6.\", \"2-7.\", \"2-8.\", \"3-13.\", \"3-18.\", \"3-3.\", \"4-1.\", \"4-10.\", \"4-11.\", \"4-19.\", \"5-5.\", \"6-15.\", \"7-10.\", \"7-14.\", \"8-18.\", \"8-20.\", \"8-3.\", \"8-8.\"], \"domains\": [1, 2, 3, 4, 5], \"num_examples_per_domain_per_label\": -1, \"pickle_path\": \"/root/csc500-main/datasets/cores.stratified_ds.2022A.pkl\", \"source_or_target_dataset\": \"target\", \"x_transforms\": [\"jitter_256_5\", \"lowpass_+/-10MHz\", \"take_200\"], \"episode_transforms\": [], \"domain_prefix\": \"C_\"}, {\"labels\": [\"3123D52\", \"3123D65\", \"3123D79\", \"3123D80\", \"3123D54\", \"3123D70\", \"3123D7B\", \"3123D89\", \"3123D58\", \"3123D76\", \"3123D7D\", \"3123EFE\", \"3123D64\", \"3123D78\", \"3123D7E\", \"3124E4A\"], \"domains\": [32, 38, 8, 44, 14, 50, 20, 26], \"num_examples_per_domain_per_label\": 2000, \"pickle_path\": \"/root/csc500-main/datasets/oracle.Run1_framed_2000Examples_stratified_ds.2022A.pkl\", \"source_or_target_dataset\": \"source\", \"x_transforms\": [\"jitter_256_5\", \"take_200\", \"resample_20Msps_to_25Msps\"], \"episode_transforms\": [], \"domain_prefix\": \"O_\"}], \"seed\": 7, \"dataset_seed\": 7, \"domains_source\": [\"O_32\", \"O_38\", \"O_8\", \"O_44\", \"O_14\", \"O_50\", \"O_20\", \"O_26\"], \"domains_target\": [\"C_1\", \"C_2\", \"C_3\", \"C_4\", \"C_5\"]}, \"results\": {\"source_test_label_accuracy\": 0.8501627604166667, \"source_test_label_loss\": 0.41354280710220337, \"target_test_label_accuracy\": 0.6600282485875706, \"target_test_label_loss\": 339.86279296875, \"source_val_label_accuracy\": 0.84443359375, \"source_val_label_loss\": 0.43035441637039185, \"target_val_label_accuracy\": 0.6580714285714285, \"target_val_label_loss\": 344.0038146972656, \"total_epochs_trained\": 7, \"total_experiment_time_secs\": 1375.6088457107544, \"confusion\": {\"O_26\": {\"0\": {\"0\": 166, \"14\": 24, \"10\": 44, \"8\": 2, \"1\": 2, \"7\": 1, \"2\": 1}, \"4\": {\"4\": 240}, \"14\": {\"14\": 171, \"10\": 48, \"0\": 9, \"1\": 11, \"6\": 1}, \"12\": {\"12\": 240}, \"8\": {\"7\": 50, \"8\": 164, \"9\": 23, \"2\": 2, \"0\": 1}, \"7\": {\"7\": 179, \"8\": 35, \"3\": 12, \"2\": 13, \"9\": 1}, \"13\": {\"13\": 212, \"9\": 13, \"3\": 2, \"2\": 13}, \"5\": {\"5\": 200, \"15\": 34, \"6\": 6}, \"15\": {\"5\": 48, \"15\": 148, \"6\": 32, \"1\": 4, \"10\": 7, \"14\": 1}, \"10\": {\"6\": 7, \"10\": 161, \"14\": 42, \"0\": 22, \"15\": 7, \"1\": 1}, \"3\": {\"3\": 203, \"2\": 5, \"7\": 29, \"8\": 3}, \"9\": {\"9\": 182, \"8\": 28, \"13\": 15, \"2\": 11, \"7\": 3, \"3\": 1}, \"6\": {\"6\": 202, \"15\": 27, \"10\": 6, \"14\": 2, \"5\": 3}, \"1\": {\"1\": 191, \"14\": 40, \"15\": 2, \"10\": 6, \"6\": 1}, \"11\": {\"11\": 240}, \"2\": {\"2\": 164, \"7\": 29, \"3\": 21, \"9\": 8, \"8\": 13, \"0\": 2, \"13\": 2, \"10\": 1}}, \"O_44\": {\"1\": {\"1\": 228, \"2\": 12}, \"11\": {\"11\": 240}, \"3\": {\"3\": 228, \"12\": 12}, \"6\": {\"13\": 47, \"6\": 186, \"9\": 5, \"7\": 2}, \"7\": {\"7\": 204, \"9\": 27, \"6\": 2, \"10\": 7}, \"5\": {\"5\": 209, \"15\": 16, \"14\": 11, \"8\": 3, \"4\": 1}, \"2\": {\"2\": 223, \"1\": 13, \"10\": 3, \"7\": 1}, \"15\": {\"15\": 194, \"8\": 14, \"14\": 19, \"5\": 11, \"0\": 2}, \"10\": {\"10\": 224, \"7\": 6, \"1\": 7, \"2\": 3}, \"13\": {\"13\": 191, \"6\": 41, \"11\": 3, \"9\": 4, \"7\": 1}, \"8\": {\"15\": 8, \"8\": 157, \"0\": 71, \"5\": 4}, \"4\": {\"14\": 102, \"4\": 134, \"15\": 2, \"9\": 1, \"5\": 1}, \"9\": {\"4\": 1, \"9\": 127, \"7\": 56, \"6\": 31, \"13\": 24, \"2\": 1}, \"14\": {\"4\": 64, \"14\": 149, \"5\": 12, \"15\": 15}, \"0\": {\"0\": 203, \"8\": 36, \"15\": 1}, \"12\": {\"12\": 227, \"3\": 13}}, \"O_50\": {\"15\": {\"15\": 229, \"6\": 7, \"4\": 1, \"11\": 3}, \"4\": {\"4\": 199, \"5\": 12, \"15\": 14, \"7\": 12, \"6\": 3}, \"6\": {\"6\": 183, \"5\": 48, \"15\": 9}, \"2\": {\"2\": 210, \"0\": 30}, \"5\": {\"7\": 60, \"5\": 83, \"6\": 66, \"4\": 16, \"13\": 5, \"15\": 9, \"1\": 1}, \"9\": {\"9\": 210, \"11\": 16, \"12\": 14}, \"8\": {\"8\": 238, \"10\": 2}, \"12\": {\"12\": 222, \"9\": 15, \"11\": 3}, \"10\": {\"10\": 236, \"0\": 3, \"8\": 1}, \"1\": {\"1\": 231, \"13\": 9}, \"0\": {\"0\": 220, \"2\": 16, \"10\": 4}, \"3\": {\"3\": 240}, \"13\": {\"13\": 239, \"1\": 1}, \"11\": {\"11\": 219, \"15\": 5, \"9\": 10, \"12\": 6}, \"7\": {\"7\": 222, \"5\": 15, \"4\": 3}, \"14\": {\"14\": 240}}, \"O_38\": {\"15\": {\"15\": 218, \"8\": 8, \"1\": 5, \"5\": 9}, \"11\": {\"11\": 240}, \"10\": {\"10\": 207, \"0\": 19, \"13\": 12, \"4\": 2}, \"14\": {\"14\": 226, \"2\": 14}, \"6\": {\"6\": 240}, \"4\": {\"4\": 240}, \"13\": {\"10\": 16, \"13\": 215, \"0\": 4, \"2\": 5}, \"3\": {\"3\": 240}, \"7\": {\"7\": 235, \"8\": 1, \"0\": 2, \"9\": 1, \"5\": 1}, \"8\": {\"8\": 130, \"5\": 82, \"7\": 21, \"15\": 3, \"13\": 4}, \"1\": {\"1\": 240}, \"5\": {\"5\": 104, \"15\": 9, \"8\": 96, \"7\": 18, \"9\": 12, \"13\": 1}, \"0\": {\"3\": 17, \"7\": 26, \"0\": 158, \"10\": 30, \"13\": 7, \"8\": 1, \"5\": 1}, \"2\": {\"2\": 225, \"14\": 15}, \"12\": {\"12\": 240}, \"9\": {\"9\": 236, \"5\": 4}}, \"O_20\": {\"10\": {\"10\": 240}, \"7\": {\"6\": 3, \"7\": 173, \"9\": 37, \"2\": 18, \"1\": 3, \"12\": 4, \"4\": 1, \"3\": 1}, \"4\": {\"4\": 225, \"7\": 5, \"12\": 6, \"6\": 3, \"10\": 1}, \"13\": {\"13\": 224, \"2\": 6, \"12\": 1, \"15\": 9}, \"1\": {\"5\": 44, \"3\": 2, \"9\": 29, \"1\": 157, \"15\": 8}, \"0\": {\"0\": 232, \"8\": 5, \"3\": 2, \"5\": 1}, \"12\": {\"15\": 30, \"12\": 146, \"2\": 52, \"4\": 5, \"7\": 5, \"13\": 1, \"1\": 1}, \"5\": {\"5\": 173, \"9\": 4, \"3\": 23, \"1\": 40}, \"6\": {\"6\": 229, \"7\": 8, \"4\": 3}, \"2\": {\"12\": 65, \"2\": 139, \"7\": 26, \"15\": 4, \"13\": 4, \"9\": 1, \"1\": 1}, \"8\": {\"8\": 210, \"3\": 17, \"14\": 13}, \"11\": {\"11\": 240}, \"9\": {\"9\": 174, \"7\": 30, \"1\": 23, \"5\": 8, \"3\": 5}, \"14\": {\"14\": 228, \"8\": 12}, \"15\": {\"1\": 16, \"15\": 184, \"13\": 7, \"12\": 20, \"2\": 12, \"5\": 1}, \"3\": {\"3\": 157, \"5\": 28, \"1\": 7, \"8\": 17, \"9\": 28, \"7\": 1, \"0\": 2}}, \"O_14\": {\"14\": {\"13\": 22, \"2\": 18, \"14\": 191, \"6\": 3, \"3\": 6}, \"0\": {\"0\": 222, \"3\": 13, \"10\": 2, \"14\": 3}, \"4\": {\"4\": 237, \"2\": 2, \"5\": 1}, \"11\": {\"11\": 240}, \"13\": {\"6\": 92, \"14\": 55, \"2\": 23, \"13\": 55, \"15\": 14, \"3\": 1}, \"9\": {\"9\": 240}, \"3\": {\"3\": 228, \"0\": 4, \"14\": 7, \"2\": 1}, \"6\": {\"6\": 163, \"13\": 57, \"14\": 14, \"2\": 4, \"3\": 2}, \"1\": {\"1\": 240}, \"5\": {\"5\": 215, \"2\": 11, \"4\": 3, \"3\": 3, \"7\": 8}, \"12\": {\"12\": 240}, \"10\": {\"10\": 239, \"4\": 1}, \"8\": {\"8\": 240}, \"7\": {\"7\": 235, \"5\": 5}, \"15\": {\"15\": 240}, \"2\": {\"13\": 9, \"2\": 125, \"14\": 29, \"6\": 28, \"5\": 29, \"4\": 6, \"3\": 12, \"7\": 2}}, \"O_32\": {\"11\": {\"11\": 239, \"13\": 1}, \"1\": {\"1\": 240}, \"2\": {\"2\": 210, \"4\": 30}, \"0\": {\"0\": 147, \"5\": 23, \"8\": 23, \"7\": 42, \"14\": 5}, \"3\": {\"13\": 19, \"3\": 221}, \"8\": {\"5\": 21, \"8\": 192, \"7\": 3, \"0\": 21, \"15\": 1, \"4\": 2}, \"12\": {\"12\": 240}, \"5\": {\"5\": 127, \"0\": 34, \"7\": 49, \"8\": 26, \"14\": 4}, \"15\": {\"15\": 238, \"8\": 2}, \"7\": {\"7\": 131, \"0\": 35, \"5\": 42, \"14\": 27, \"8\": 5}, \"4\": {\"4\": 192, \"2\": 41, \"13\": 7}, \"14\": {\"7\": 45, \"0\": 13, \"14\": 174, \"8\": 4, \"5\": 2, \"2\": 1, \"4\": 1}, \"10\": {\"10\": 240}, \"6\": {\"6\": 240}, \"13\": {\"13\": 190, \"8\": 1, \"4\": 21, \"3\": 28}, \"9\": {\"9\": 235, \"2\": 1, \"12\": 4}}, \"O_8\": {\"9\": {\"9\": 240}, \"11\": {\"11\": 135, \"4\": 4, \"1\": 91, \"8\": 2, \"5\": 4, \"14\": 3, \"10\": 1}, \"8\": {\"8\": 238, \"6\": 2}, \"4\": {\"4\": 231, \"14\": 5, \"6\": 4}, \"13\": {\"10\": 34, \"13\": 177, \"5\": 3, \"7\": 26}, \"14\": {\"14\": 218, \"4\": 21, \"11\": 1}, \"2\": {\"2\": 196, \"3\": 27, \"15\": 3, \"12\": 14}, \"3\": {\"3\": 240}, \"1\": {\"1\": 180, \"11\": 48, \"5\": 6, \"4\": 2, \"6\": 2, \"10\": 2}, \"0\": {\"0\": 240}, \"5\": {\"5\": 172, \"4\": 3, \"11\": 6, \"1\": 20, \"10\": 33, \"14\": 2, \"13\": 4}, \"15\": {\"12\": 42, \"15\": 198}, \"10\": {\"10\": 170, \"6\": 2, \"4\": 2, \"13\": 46, \"5\": 19, \"1\": 1}, \"12\": {\"12\": 180, \"15\": 60}, \"6\": {\"6\": 182, \"7\": 47, \"10\": 8, \"1\": 2, \"4\": 1}, \"7\": {\"7\": 205, \"6\": 33, \"13\": 1, \"10\": 1}}, \"C_5\": {\"26\": {\"2\": 1, \"26\": 8, \"42\": 4, \"10\": 1, \"38\": 1, \"24\": 1, \"43\": 1, \"55\": 1, \"23\": 3, \"27\": 1, \"53\": 1, \"15\": 1}, \"7\": {\"7\": 21, \"27\": 6, \"38\": 1, \"48\": 1, \"12\": 1, \"8\": 1, \"41\": 1}, \"56\": {\"56\": 89, \"46\": 8, \"8\": 1, \"0\": 18, \"47\": 4, \"50\": 1, \"21\": 1, \"14\": 1, \"1\": 6, \"9\": 3, \"52\": 2, \"3\": 7, \"13\": 1}, \"36\": {\"49\": 1, \"36\": 50, \"29\": 6, \"33\": 3, \"32\": 1, \"35\": 2, \"54\": 12, \"24\": 2, \"23\": 2, \"44\": 1, \"17\": 3, \"40\": 1, \"31\": 1, \"2\": 1, \"53\": 1, \"55\": 4, \"43\": 1}, \"47\": {\"0\": 7, \"7\": 1, \"47\": 32, \"13\": 2, \"9\": 6, \"57\": 7, \"52\": 3, \"41\": 1, \"56\": 8, \"1\": 8, \"8\": 4, \"46\": 9, \"40\": 1, \"48\": 2, \"30\": 2, \"27\": 2, \"20\": 2, \"21\": 1, \"51\": 1, \"4\": 1}, \"2\": {\"36\": 1, \"2\": 11, \"39\": 1, \"37\": 4, \"27\": 1, \"32\": 1, \"51\": 1, \"43\": 1, \"38\": 2, \"14\": 3, \"17\": 1, \"49\": 1}, \"15\": {\"15\": 85, \"11\": 21, \"10\": 5, \"16\": 19, \"26\": 2, \"25\": 17, \"54\": 2, \"31\": 1}, \"14\": {\"7\": 4, \"14\": 14, \"47\": 2, \"57\": 2, \"27\": 4, \"1\": 2, \"9\": 2, \"13\": 4, \"8\": 2, \"48\": 2, \"2\": 1, \"39\": 3, \"51\": 2}, \"27\": {\"2\": 2, \"7\": 5, \"27\": 79, \"37\": 2, \"41\": 3, \"57\": 3, \"14\": 5, \"48\": 8, \"40\": 1, \"43\": 4, \"30\": 1, \"8\": 3, \"44\": 6, \"1\": 1, \"13\": 9, \"51\": 12, \"47\": 1, \"17\": 1}, \"40\": {\"40\": 64, \"14\": 2, \"0\": 3, \"7\": 1, \"22\": 2, \"44\": 15, \"27\": 3, \"5\": 9, \"1\": 2, \"9\": 3, \"3\": 1, \"30\": 1, \"13\": 3, \"47\": 2, \"4\": 5, \"8\": 1, \"6\": 2, \"57\": 1, \"48\": 4}, \"49\": {\"36\": 4, \"49\": 19, \"33\": 1, \"54\": 2, \"35\": 3, \"31\": 2, \"55\": 3, \"42\": 1, \"24\": 1}, \"45\": {\"45\": 124}, \"46\": {\"46\": 135, \"56\": 1}, \"11\": {\"11\": 80, \"15\": 17, \"10\": 4, \"16\": 15, \"25\": 14}, \"30\": {\"30\": 111, \"20\": 1}, \"0\": {\"0\": 92, \"56\": 7, \"47\": 2, \"45\": 2, \"40\": 1, \"3\": 8, \"46\": 8, \"57\": 1, \"8\": 1, \"52\": 2}, \"10\": {\"10\": 47, \"26\": 2, \"15\": 2, \"54\": 2, \"11\": 3, \"31\": 1, \"23\": 4, \"24\": 3, \"55\": 2, \"33\": 1, \"16\": 1}, \"1\": {\"1\": 56, \"9\": 19, \"3\": 2, \"12\": 6, \"30\": 19, \"8\": 7, \"45\": 2, \"20\": 11, \"21\": 4, \"48\": 6, \"57\": 11, \"47\": 1, \"6\": 1, \"0\": 1, \"27\": 1, \"46\": 1}, \"42\": {\"42\": 25, \"10\": 2, \"15\": 1, \"26\": 3, \"53\": 3, \"23\": 3, \"55\": 2, \"16\": 1}, \"54\": {\"54\": 74, \"32\": 2, \"49\": 3, \"35\": 3, \"42\": 1, \"10\": 3, \"23\": 5, \"36\": 7, \"16\": 1, \"25\": 1, \"55\": 7, \"17\": 1, \"53\": 1, \"29\": 1, \"24\": 2}, \"55\": {\"54\": 6, \"32\": 2, \"55\": 82, \"35\": 2, \"24\": 7, \"31\": 1, \"42\": 5, \"17\": 5, \"23\": 12, \"53\": 15, \"36\": 2, \"29\": 2, \"11\": 1, \"33\": 2, \"10\": 1, \"37\": 1, \"13\": 1, \"43\": 5}, \"23\": {\"42\": 3, \"55\": 4, \"23\": 77, \"43\": 2, \"33\": 1, \"16\": 1, \"17\": 11, \"53\": 12, \"27\": 1, \"54\": 4, \"15\": 1, \"10\": 1, \"31\": 1, \"26\": 2, \"24\": 2, \"51\": 1}, \"25\": {\"25\": 83, \"16\": 27, \"11\": 15, \"18\": 3, \"19\": 1, \"23\": 1, \"15\": 15, \"54\": 3, \"53\": 2, \"24\": 1, \"55\": 1}, \"28\": {\"28\": 23, \"15\": 2, \"11\": 3, \"16\": 1, \"25\": 2, \"19\": 1}, \"32\": {\"32\": 19, \"51\": 1, \"2\": 3, \"36\": 4, \"17\": 1, \"31\": 1, \"33\": 2, \"55\": 1}, \"9\": {\"46\": 6, \"1\": 20, \"9\": 59, \"30\": 30, \"50\": 2, \"20\": 3, \"0\": 1, \"45\": 1, \"4\": 6, \"51\": 1, \"48\": 1, \"57\": 1, \"27\": 1, \"6\": 2, \"47\": 3, \"12\": 1, \"13\": 1, \"56\": 1, \"8\": 2}, \"39\": {\"39\": 8, \"13\": 2, \"51\": 1, \"14\": 5, \"37\": 1, \"7\": 1, \"27\": 1, \"38\": 1}, \"3\": {\"3\": 100}, \"29\": {\"32\": 3, \"29\": 96, \"33\": 2, \"54\": 2, \"36\": 5, \"55\": 2, \"43\": 3, \"24\": 1, \"17\": 1, \"49\": 1, \"44\": 2}, \"17\": {\"17\": 86, \"32\": 1, \"33\": 1, \"55\": 2, \"51\": 4, \"43\": 13, \"23\": 4, \"24\": 3, \"41\": 1, \"54\": 1}, \"35\": {\"34\": 3, \"49\": 3, \"35\": 19, \"42\": 2, \"24\": 3, \"33\": 1, \"36\": 2, \"31\": 2, \"55\": 1}, \"44\": {\"44\": 107, \"7\": 3, \"5\": 2, \"30\": 1, \"22\": 5, \"40\": 13, \"13\": 2, \"48\": 8, \"47\": 2, \"4\": 1, \"14\": 1, \"45\": 1, \"51\": 1, \"57\": 1, \"27\": 2, \"8\": 1, \"1\": 1}, \"5\": {\"5\": 52, \"57\": 3, \"4\": 9, \"1\": 7, \"40\": 4, \"47\": 2, \"45\": 13, \"48\": 3, \"44\": 2, \"9\": 7, \"6\": 5, \"50\": 5, \"56\": 5, \"3\": 6, \"22\": 1, \"30\": 3, \"0\": 1}, \"33\": {\"49\": 2, \"33\": 16, \"23\": 1, \"38\": 1, \"55\": 6, \"24\": 1, \"32\": 1, \"53\": 1, \"2\": 1, \"35\": 2}, \"34\": {\"35\": 1, \"34\": 26, \"31\": 1, \"19\": 5, \"55\": 2, \"49\": 1}, \"13\": {\"47\": 9, \"13\": 58, \"48\": 8, \"21\": 5, \"57\": 11, \"27\": 11, \"8\": 15, \"9\": 1, \"30\": 1, \"43\": 2, \"56\": 3, \"52\": 4, \"55\": 1, \"14\": 2, \"38\": 1, \"41\": 1, \"7\": 1, \"0\": 1, \"51\": 2, \"46\": 1}, \"41\": {\"41\": 16, \"47\": 1, \"37\": 3, \"17\": 1, \"51\": 1, \"57\": 1, \"8\": 2, \"43\": 1, \"20\": 1, \"48\": 1}, \"6\": {\"6\": 114, \"45\": 3, \"50\": 11}, \"51\": {\"39\": 1, \"42\": 1, \"51\": 78, \"13\": 8, \"38\": 5, \"43\": 18, \"41\": 2, \"17\": 4, \"1\": 1, \"48\": 7, \"8\": 2, \"27\": 6, \"57\": 2, \"47\": 1, \"14\": 1, \"23\": 1}, \"50\": {\"6\": 5, \"50\": 139}, \"37\": {\"41\": 5, \"47\": 2, \"37\": 12, \"13\": 1, \"7\": 1, \"38\": 1, \"8\": 1, \"43\": 1}, \"19\": {\"19\": 122, \"28\": 2, \"15\": 3, \"36\": 1, \"11\": 5, \"53\": 1, \"16\": 2, \"25\": 3, \"31\": 3, \"55\": 1, \"54\": 1}, \"57\": {\"47\": 10, \"57\": 47, \"56\": 3, \"45\": 1, \"1\": 20, \"8\": 9, \"13\": 5, \"52\": 2, \"48\": 12, \"30\": 1, \"9\": 8, \"27\": 2, \"46\": 2, \"20\": 2, \"7\": 1, \"4\": 4, \"5\": 1, \"43\": 1, \"0\": 1}, \"21\": {\"21\": 127, \"20\": 4, \"13\": 1, \"0\": 1, \"52\": 6, \"1\": 1, \"57\": 1, \"46\": 2, \"8\": 1}, \"24\": {\"55\": 10, \"24\": 46, \"42\": 2, \"23\": 10, \"35\": 1, \"17\": 2, \"10\": 3, \"49\": 1, \"26\": 1, \"43\": 1, \"54\": 1, \"53\": 2}, \"8\": {\"57\": 9, \"12\": 1, \"8\": 78, \"21\": 2, \"7\": 3, \"13\": 9, \"14\": 1, \"48\": 7, \"20\": 2, \"1\": 8, \"47\": 5, \"9\": 2, \"0\": 1, \"51\": 1, \"46\": 1}, \"12\": {\"12\": 96}, \"48\": {\"57\": 15, \"12\": 2, \"8\": 18, \"13\": 11, \"41\": 1, \"48\": 46, \"30\": 5, \"9\": 4, \"20\": 6, \"1\": 5, \"40\": 2, \"47\": 1, \"27\": 7, \"4\": 2, \"52\": 1, \"14\": 1, \"51\": 2, \"56\": 2, \"44\": 1}, \"43\": {\"37\": 5, \"13\": 6, \"43\": 85, \"51\": 26, \"41\": 3, \"27\": 8, \"17\": 6, \"53\": 2, \"55\": 3, \"23\": 1, \"48\": 3, \"2\": 1, \"47\": 1}, \"53\": {\"26\": 1, \"49\": 1, \"53\": 103, \"23\": 9, \"17\": 8, \"55\": 15, \"15\": 2, \"11\": 1, \"51\": 1, \"42\": 3, \"24\": 1, \"31\": 1, \"25\": 1, \"43\": 1}, \"38\": {\"38\": 13, \"43\": 3, \"7\": 3, \"51\": 3, \"14\": 2, \"23\": 1, \"27\": 6, \"57\": 1}, \"16\": {\"16\": 73, \"25\": 21, \"11\": 19, \"10\": 3, \"15\": 22, \"18\": 3, \"26\": 1}, \"22\": {\"46\": 2, \"22\": 14, \"40\": 1, \"8\": 1, \"21\": 1, \"44\": 5, \"27\": 1, \"5\": 1, \"0\": 1, \"48\": 1}, \"4\": {\"12\": 2, \"4\": 40, \"1\": 4, \"30\": 17, \"5\": 4, \"45\": 7, \"6\": 4, \"9\": 11, \"46\": 7, \"57\": 1, \"40\": 1, \"56\": 1, \"50\": 1}, \"18\": {\"18\": 56, \"11\": 2, \"25\": 2, \"15\": 3, \"19\": 1}, \"20\": {\"20\": 117, \"47\": 1, \"8\": 5, \"9\": 4, \"21\": 9, \"30\": 1, \"56\": 1, \"1\": 3, \"12\": 2, \"48\": 1}, \"52\": {\"52\": 126, \"21\": 7, \"20\": 1, \"0\": 2, \"9\": 1, \"48\": 1, \"47\": 1, \"1\": 1}, \"31\": {\"31\": 27, \"24\": 2, \"49\": 1, \"54\": 2, \"26\": 1, \"11\": 1, \"35\": 1, \"29\": 1}}, \"C_1\": {\"41\": {\"51\": 2, \"41\": 12, \"2\": 1, \"49\": 2, \"8\": 1, \"55\": 1, \"17\": 1, \"33\": 3, \"37\": 1}, \"40\": {\"40\": 79, \"47\": 5, \"4\": 7, \"27\": 6, \"36\": 1, \"8\": 1, \"44\": 4, \"57\": 5, \"50\": 1, \"29\": 1}, \"45\": {\"45\": 138}, \"51\": {\"36\": 6, \"51\": 95, \"31\": 2, \"37\": 3, \"9\": 23, \"41\": 1, \"38\": 2, \"49\": 5, \"17\": 1, \"48\": 4, \"55\": 2, \"39\": 1, \"27\": 1, \"47\": 1, \"4\": 1}, \"5\": {\"5\": 154}, \"30\": {\"46\": 1, \"30\": 110, \"13\": 1, \"8\": 4, \"57\": 1, \"45\": 1, \"50\": 2}, \"42\": {\"34\": 2, \"42\": 23, \"1\": 2, \"23\": 2, \"54\": 1, \"7\": 1, \"53\": 2, \"17\": 1, \"29\": 1, \"28\": 1, \"24\": 3, \"55\": 1}, \"46\": {\"46\": 136}, \"48\": {\"30\": 8, \"6\": 2, \"48\": 82, \"8\": 21, \"50\": 6, \"2\": 1, \"14\": 3, \"36\": 2, \"13\": 8, \"56\": 1}, \"53\": {\"53\": 81, \"42\": 2, \"23\": 21, \"28\": 3, \"11\": 2, \"17\": 4, \"25\": 8, \"39\": 1, \"10\": 5, \"55\": 5, \"51\": 1, \"24\": 7, \"26\": 1, \"15\": 3}, \"47\": {\"32\": 2, \"40\": 10, \"47\": 77, \"27\": 25, \"29\": 5, \"51\": 5, \"9\": 4, \"7\": 1, \"57\": 2, \"44\": 2, \"55\": 6, \"8\": 1, \"38\": 1, \"41\": 2, \"37\": 1, \"1\": 2, \"36\": 3, \"4\": 3}, \"49\": {\"51\": 3, \"49\": 11, \"41\": 2, \"17\": 1, \"24\": 1, \"33\": 1, \"9\": 3, \"55\": 2, \"32\": 2, \"39\": 1, \"31\": 1, \"38\": 1, \"37\": 1, \"7\": 2}, \"36\": {\"48\": 9, \"51\": 3, \"36\": 28, \"2\": 4, \"8\": 8, \"9\": 9, \"55\": 1, \"57\": 1, \"21\": 1}, \"32\": {\"42\": 1, \"49\": 4, \"31\": 3, \"32\": 12, \"17\": 2, \"9\": 2, \"47\": 3, \"38\": 2, \"29\": 1, \"39\": 1, \"55\": 1}, \"34\": {\"34\": 14, \"53\": 3, \"23\": 2, \"55\": 1, \"15\": 1, \"19\": 1, \"24\": 1, \"25\": 1}, \"29\": {\"29\": 69, \"32\": 2, \"1\": 15, \"47\": 21, \"43\": 6, \"57\": 1, \"38\": 1, \"40\": 5, \"27\": 10, \"4\": 2, \"55\": 4, \"51\": 2, \"7\": 1, \"24\": 1}, \"35\": {\"35\": 35, \"19\": 1}, \"3\": {\"3\": 134}, \"16\": {\"11\": 14, \"26\": 2, \"16\": 69, \"28\": 1, \"25\": 16, \"23\": 3, \"15\": 20, \"54\": 1, \"53\": 2, \"10\": 9, \"18\": 1, \"19\": 2}, \"26\": {\"26\": 9, \"10\": 4, \"23\": 2, \"28\": 2, \"17\": 1, \"19\": 1, \"53\": 4, \"25\": 1}, \"57\": {\"57\": 64, \"2\": 4, \"50\": 4, \"30\": 6, \"4\": 13, \"48\": 8, \"21\": 1, \"56\": 2, \"36\": 2, \"27\": 3, \"9\": 5, \"8\": 10, \"51\": 3, \"44\": 5, \"40\": 5, \"41\": 1, \"47\": 5, \"45\": 2, \"0\": 1}, \"44\": {\"4\": 14, \"44\": 82, \"6\": 3, \"45\": 5, \"56\": 6, \"0\": 4, \"50\": 7, \"57\": 4, \"40\": 3}, \"0\": {\"0\": 152}, \"4\": {\"48\": 10, \"4\": 56, \"2\": 1, \"36\": 2, \"8\": 5, \"56\": 11, \"5\": 2, \"0\": 1, \"44\": 21, \"50\": 7, \"13\": 1, \"30\": 6, \"6\": 2, \"9\": 1, \"57\": 4, \"40\": 1, \"45\": 1}, \"31\": {\"51\": 3, \"37\": 2, \"38\": 1, \"31\": 11, \"49\": 3, \"17\": 1, \"39\": 5, \"7\": 2}, \"11\": {\"11\": 84, \"16\": 13, \"18\": 9, \"28\": 1, \"25\": 9, \"19\": 2, \"15\": 17, \"34\": 1, \"10\": 2, \"53\": 2}, \"6\": {\"6\": 87, \"50\": 9}, \"54\": {\"54\": 78, \"26\": 2, \"34\": 1, \"43\": 4, \"19\": 6, \"24\": 2, \"23\": 5, \"11\": 1, \"15\": 3, \"42\": 1, \"29\": 1}, \"17\": {\"39\": 3, \"33\": 7, \"32\": 1, \"17\": 33, \"38\": 3, \"55\": 6, \"31\": 3, \"24\": 1, \"51\": 1, \"37\": 1, \"7\": 2, \"26\": 1, \"9\": 1, \"23\": 1}, \"20\": {\"20\": 128}, \"13\": {\"20\": 10, \"13\": 116, \"12\": 7, \"14\": 2, \"30\": 2, \"0\": 3, \"50\": 1, \"46\": 2, \"8\": 3, \"3\": 2, \"21\": 1, \"22\": 1}, \"33\": {\"39\": 1, \"33\": 20, \"55\": 2, \"47\": 1, \"38\": 1, \"17\": 4, \"7\": 2, \"57\": 1}, \"24\": {\"17\": 8, \"24\": 58, \"42\": 1, \"23\": 17, \"53\": 4, \"55\": 10, \"7\": 1, \"39\": 3, \"15\": 1, \"29\": 1, \"43\": 2, \"25\": 1, \"27\": 1}, \"52\": {\"52\": 120, \"22\": 9, \"21\": 3}, \"2\": {\"2\": 25, \"30\": 1, \"9\": 3, \"8\": 5, \"36\": 1, \"13\": 1}, \"19\": {\"19\": 132, \"54\": 7, \"11\": 4, \"53\": 2, \"15\": 5, \"23\": 1, \"10\": 2, \"43\": 1, \"16\": 2}, \"39\": {\"17\": 2, \"39\": 14, \"36\": 1, \"49\": 3, \"41\": 1, \"13\": 1, \"29\": 1, \"26\": 1, \"31\": 2, \"51\": 1, \"33\": 1}, \"8\": {\"8\": 91, \"30\": 13, \"14\": 3, \"48\": 13, \"50\": 4, \"2\": 3, \"36\": 2, \"13\": 1, \"21\": 3, \"22\": 1, \"9\": 2, \"45\": 1, \"6\": 2, \"57\": 1}, \"21\": {\"21\": 100, \"22\": 5, \"0\": 4, \"12\": 2, \"3\": 3, \"57\": 1, \"52\": 9}, \"10\": {\"10\": 46, \"25\": 8, \"16\": 7, \"34\": 1, \"26\": 1, \"11\": 5, \"15\": 8, \"23\": 4, \"53\": 12, \"19\": 2, \"28\": 2}, \"37\": {\"37\": 18, \"51\": 2, \"17\": 2, \"41\": 1, \"33\": 2, \"9\": 1, \"55\": 1, \"31\": 1, \"4\": 1, \"36\": 2, \"49\": 1}, \"25\": {\"11\": 12, \"25\": 84, \"10\": 10, \"16\": 14, \"15\": 14, \"18\": 3, \"53\": 4, \"19\": 1, \"23\": 2}, \"27\": {\"27\": 71, \"47\": 24, \"7\": 2, \"32\": 2, \"40\": 8, \"29\": 8, \"44\": 1, \"4\": 3, \"57\": 3, \"9\": 2, \"1\": 3, \"55\": 1, \"51\": 2}, \"23\": {\"53\": 18, \"23\": 86, \"24\": 10, \"26\": 1, \"33\": 1, \"28\": 2, \"15\": 4, \"16\": 3, \"54\": 3, \"10\": 2, \"43\": 1, \"55\": 3, \"39\": 1, \"19\": 1}, \"1\": {\"32\": 1, \"1\": 69, \"29\": 11, \"55\": 9, \"39\": 1, \"43\": 3, \"17\": 1, \"40\": 1, \"9\": 1, \"47\": 3}, \"50\": {\"50\": 152}, \"12\": {\"12\": 105, \"21\": 2, \"57\": 1, \"3\": 6, \"13\": 2}, \"18\": {\"18\": 61, \"11\": 8, \"16\": 1, \"28\": 1, \"53\": 1}, \"38\": {\"26\": 1, \"31\": 1, \"17\": 4, \"55\": 1, \"51\": 2, \"49\": 2, \"36\": 1, \"22\": 1, \"2\": 1, \"47\": 2, \"38\": 3, \"32\": 2, \"39\": 1, \"8\": 1, \"7\": 1}, \"14\": {\"13\": 1, \"30\": 2, \"8\": 2, \"14\": 15, \"6\": 2, \"20\": 2}, \"56\": {\"56\": 125, \"6\": 3, \"45\": 12, \"50\": 1, \"21\": 1}, \"55\": {\"55\": 97, \"37\": 3, \"17\": 6, \"7\": 4, \"51\": 13, \"47\": 6, \"39\": 3, \"24\": 3, \"57\": 1, \"27\": 7, \"1\": 3, \"9\": 4, \"43\": 4, \"33\": 2, \"54\": 1, \"49\": 2, \"23\": 1}, \"9\": {\"9\": 106, \"37\": 3, \"48\": 3, \"55\": 3, \"2\": 1, \"8\": 6, \"36\": 5, \"51\": 7, \"57\": 3, \"13\": 1}, \"15\": {\"15\": 93, \"26\": 1, \"11\": 10, \"16\": 20, \"25\": 13, \"10\": 6, \"19\": 1, \"23\": 1, \"28\": 1}, \"28\": {\"28\": 13, \"25\": 3, \"53\": 3, \"42\": 1, \"23\": 2, \"10\": 3, \"54\": 1, \"24\": 1, \"34\": 1}, \"7\": {\"7\": 13, \"31\": 1, \"55\": 1, \"33\": 2, \"47\": 2, \"39\": 1, \"38\": 1, \"27\": 2, \"32\": 1, \"29\": 1, \"49\": 3}, \"43\": {\"43\": 109, \"24\": 6, \"54\": 3, \"23\": 4, \"29\": 1, \"55\": 3, \"42\": 4, \"1\": 5, \"26\": 1}, \"22\": {\"22\": 105, \"21\": 8, \"12\": 1, \"52\": 9, \"0\": 11, \"8\": 1, \"48\": 1}}, \"C_3\": {\"1\": {\"1\": 61, \"9\": 10, \"13\": 4, \"57\": 6, \"26\": 1, \"40\": 5, \"44\": 3, \"29\": 6, \"4\": 1, \"51\": 1, \"36\": 2}, \"9\": {\"9\": 60, \"40\": 9, \"44\": 2, \"13\": 2, \"36\": 4, \"22\": 5, \"57\": 9, \"4\": 13, \"2\": 1, \"51\": 5, \"48\": 4, \"29\": 3, \"1\": 4, \"27\": 1, \"56\": 2}, \"22\": {\"22\": 51, \"9\": 2, \"12\": 1, \"45\": 2, \"47\": 5, \"40\": 12, \"4\": 11, \"6\": 2, \"46\": 5, \"7\": 1, \"27\": 10, \"5\": 11, \"0\": 5, \"48\": 4, \"8\": 1, \"56\": 5, \"57\": 1, \"13\": 1, \"30\": 2, \"20\": 1, \"50\": 2, \"3\": 1}, \"43\": {\"31\": 2, \"43\": 69, \"26\": 6, \"49\": 3, \"37\": 4, \"24\": 10, \"32\": 1, \"54\": 6, \"23\": 6, \"25\": 1, \"10\": 4, \"17\": 4, \"53\": 9, \"55\": 6, \"57\": 1, \"42\": 1, \"36\": 2, \"13\": 1}, \"49\": {\"38\": 1, \"53\": 1, \"49\": 13, \"17\": 1, \"32\": 2, \"43\": 1, \"33\": 1}, \"50\": {\"50\": 116, \"46\": 8, \"3\": 11, \"12\": 2, \"6\": 1}, \"53\": {\"53\": 96, \"54\": 2, \"37\": 1, \"51\": 1, \"24\": 3, \"26\": 2, \"11\": 2, \"16\": 1, \"36\": 1, \"23\": 10, \"55\": 3, \"43\": 12, \"17\": 2}, \"10\": {\"10\": 32, \"23\": 2, \"15\": 6, \"25\": 6, \"11\": 8, \"18\": 1, \"24\": 3, \"16\": 3, \"43\": 2, \"54\": 1}, \"48\": {\"48\": 39, \"8\": 8, \"30\": 8, \"45\": 2, \"47\": 9, \"41\": 3, \"4\": 5, \"56\": 9, \"27\": 10, \"52\": 4, \"40\": 1, \"0\": 6, \"44\": 1, \"20\": 3, \"22\": 3, \"50\": 1, \"9\": 2, \"46\": 1, \"12\": 1}, \"8\": {\"8\": 66, \"13\": 2, \"20\": 17, \"30\": 6, \"33\": 2, \"56\": 1, \"47\": 3, \"48\": 4, \"52\": 13, \"21\": 2, \"27\": 14, \"50\": 2, \"7\": 1, \"0\": 2, \"4\": 1, \"12\": 2}, \"31\": {\"31\": 11, \"53\": 3, \"23\": 5, \"49\": 1, \"42\": 1, \"37\": 2, \"35\": 1, \"26\": 1, \"43\": 1, \"32\": 1, \"36\": 1}, \"56\": {\"56\": 42, \"48\": 10, \"0\": 16, \"6\": 1, \"4\": 12, \"57\": 1, \"46\": 4, \"47\": 8, \"45\": 1, \"5\": 8, \"8\": 3, \"27\": 5, \"20\": 1, \"22\": 13, \"30\": 2, \"50\": 2, \"52\": 2, \"2\": 1, \"13\": 1, \"3\": 1}, \"25\": {\"25\": 68, \"10\": 7, \"16\": 18, \"11\": 18, \"24\": 3, \"43\": 1, \"19\": 3, \"15\": 13, \"23\": 1, \"53\": 5, \"18\": 3, \"17\": 1, \"55\": 1}, \"28\": {\"10\": 2, \"28\": 21, \"11\": 1, \"19\": 2, \"23\": 1, \"34\": 1}, \"38\": {\"38\": 14, \"2\": 3, \"33\": 4, \"13\": 1, \"7\": 1, \"27\": 2, \"41\": 2, \"51\": 1}, \"5\": {\"5\": 115, \"46\": 1}, \"12\": {\"12\": 91, \"50\": 1}, \"6\": {\"6\": 86, \"3\": 2}, \"19\": {\"25\": 1, \"19\": 137, \"16\": 3, \"28\": 2, \"34\": 2, \"18\": 2, \"10\": 1, \"15\": 4}, \"26\": {\"26\": 16, \"43\": 3, \"24\": 3, \"53\": 1, \"37\": 1}, \"32\": {\"32\": 22, \"49\": 3, \"17\": 1, \"57\": 1, \"9\": 1}, \"33\": {\"38\": 5, \"51\": 1, \"33\": 12, \"2\": 1, \"9\": 2, \"13\": 2, \"41\": 2, \"27\": 1, \"22\": 1, \"7\": 1}, \"3\": {\"3\": 117, \"5\": 1}, \"51\": {\"38\": 4, \"51\": 88, \"36\": 7, \"39\": 1, \"48\": 3, \"17\": 10, \"2\": 2, \"27\": 1, \"13\": 7, \"56\": 1, \"33\": 1, \"9\": 1, \"24\": 1, \"4\": 1}, \"16\": {\"25\": 17, \"16\": 71, \"54\": 2, \"15\": 12, \"10\": 6, \"18\": 1, \"11\": 24, \"53\": 3, \"23\": 1, \"28\": 1}, \"46\": {\"46\": 133, \"5\": 5, \"3\": 2}, \"7\": {\"7\": 14, \"39\": 1, \"0\": 1, \"38\": 1, \"3\": 1, \"36\": 2, \"41\": 1, \"21\": 1, \"27\": 2, \"30\": 1, \"47\": 1, \"52\": 2, \"17\": 1, \"2\": 2, \"13\": 2, \"33\": 1, \"51\": 1, \"48\": 1}, \"47\": {\"7\": 1, \"47\": 41, \"56\": 5, \"5\": 1, \"30\": 9, \"41\": 1, \"4\": 1, \"0\": 11, \"46\": 4, \"52\": 4, \"27\": 2, \"48\": 2, \"20\": 8, \"8\": 1, \"22\": 1}, \"39\": {\"2\": 1, \"39\": 7, \"4\": 1, \"13\": 2, \"57\": 1, \"33\": 2, \"38\": 1, \"7\": 1}, \"40\": {\"40\": 65, \"4\": 15, \"22\": 9, \"0\": 5, \"57\": 10, \"44\": 11, \"27\": 3, \"56\": 2, \"1\": 3, \"9\": 6, \"48\": 2, \"30\": 1, \"45\": 2, \"8\": 1, \"13\": 1}, \"14\": {\"14\": 31, \"29\": 2, \"40\": 1, \"1\": 1, \"31\": 1, \"9\": 1, \"26\": 1, \"17\": 1, \"57\": 1}, \"37\": {\"51\": 2, \"43\": 2, \"37\": 14, \"27\": 1, \"32\": 1, \"36\": 4, \"24\": 2, \"13\": 2}, \"2\": {\"38\": 2, \"2\": 19, \"49\": 1, \"33\": 3, \"51\": 2, \"13\": 2, \"27\": 1, \"36\": 1, \"9\": 1}, \"21\": {\"21\": 120}, \"35\": {\"54\": 5, \"19\": 1, \"35\": 15, \"43\": 2, \"42\": 3, \"14\": 1, \"24\": 1}, \"54\": {\"14\": 2, \"54\": 62, \"43\": 2, \"42\": 3, \"31\": 1, \"25\": 1, \"35\": 1, \"11\": 1, \"55\": 12, \"23\": 4, \"24\": 8, \"10\": 1, \"53\": 1, \"16\": 1}, \"52\": {\"52\": 100, \"20\": 11, \"50\": 3, \"41\": 1, \"21\": 1}, \"29\": {\"29\": 83, \"17\": 4, \"14\": 1, \"1\": 7, \"36\": 2, \"9\": 8, \"55\": 1, \"57\": 8, \"40\": 1, \"23\": 1, \"32\": 1, \"37\": 1}, \"20\": {\"20\": 116, \"8\": 3, \"52\": 4, \"56\": 1, \"48\": 2, \"30\": 2, \"21\": 1, \"50\": 1, \"6\": 2}, \"18\": {\"18\": 60, \"11\": 7, \"16\": 5, \"15\": 9, \"19\": 1, \"25\": 2}, \"11\": {\"53\": 4, \"11\": 74, \"10\": 4, \"25\": 19, \"15\": 14, \"16\": 19, \"24\": 1, \"23\": 2, \"26\": 1, \"43\": 2, \"18\": 1, \"54\": 1}, \"0\": {\"0\": 78, \"7\": 1, \"45\": 2, \"41\": 1, \"8\": 1, \"47\": 10, \"30\": 5, \"46\": 8, \"4\": 1, \"22\": 2, \"48\": 2, \"5\": 6, \"50\": 3, \"56\": 2, \"20\": 1, \"6\": 1}, \"36\": {\"51\": 13, \"36\": 53, \"17\": 11, \"37\": 2, \"2\": 3, \"13\": 5, \"9\": 4, \"8\": 1, \"27\": 1, \"57\": 3, \"29\": 1, \"32\": 1, \"49\": 1, \"4\": 1}, \"17\": {\"17\": 71, \"39\": 1, \"36\": 19, \"51\": 7, \"32\": 1, \"37\": 2, \"53\": 2, \"55\": 2, \"23\": 1, \"29\": 1, \"13\": 1}, \"30\": {\"30\": 114}, \"42\": {\"42\": 20, \"54\": 3, \"53\": 1, \"31\": 2, \"23\": 1, \"35\": 1}, \"45\": {\"45\": 59, \"6\": 1}, \"4\": {\"48\": 12, \"33\": 3, \"4\": 54, \"13\": 5, \"22\": 9, \"47\": 3, \"1\": 1, \"27\": 11, \"0\": 4, \"40\": 7, \"2\": 1, \"56\": 10, \"20\": 4, \"8\": 10, \"57\": 4, \"9\": 4, \"38\": 2, \"12\": 1, \"7\": 2, \"52\": 1}, \"23\": {\"43\": 10, \"31\": 4, \"23\": 70, \"54\": 7, \"53\": 4, \"15\": 2, \"55\": 9, \"24\": 16, \"17\": 2, \"11\": 6, \"16\": 2, \"26\": 1, \"34\": 1}, \"13\": {\"13\": 53, \"39\": 2, \"17\": 6, \"37\": 1, \"36\": 14, \"9\": 2, \"7\": 3, \"2\": 3, \"51\": 13, \"29\": 1, \"0\": 3, \"20\": 1, \"48\": 4, \"8\": 4, \"1\": 1, \"4\": 5, \"27\": 6, \"57\": 4, \"49\": 1, \"41\": 1}, \"15\": {\"15\": 72, \"10\": 7, \"16\": 17, \"18\": 3, \"25\": 12, \"11\": 9, \"24\": 1, \"54\": 4, \"19\": 1, \"34\": 1, \"23\": 1}, \"57\": {\"57\": 57, \"49\": 1, \"51\": 1, \"32\": 1, \"9\": 16, \"2\": 2, \"40\": 7, \"4\": 6, \"13\": 2, \"1\": 11, \"29\": 9, \"44\": 2, \"22\": 3, \"36\": 4, \"48\": 2}, \"27\": {\"20\": 7, \"27\": 81, \"30\": 3, \"8\": 25, \"33\": 1, \"4\": 2, \"48\": 5, \"52\": 5, \"56\": 1, \"0\": 1, \"50\": 2, \"22\": 1}, \"44\": {\"44\": 58, \"9\": 2, \"57\": 1, \"40\": 15, \"4\": 3, \"1\": 6, \"22\": 1, \"45\": 1, \"29\": 1}, \"34\": {\"34\": 23, \"24\": 1, \"54\": 3, \"31\": 2, \"11\": 1, \"28\": 1, \"19\": 1}, \"41\": {\"41\": 11, \"47\": 2, \"30\": 1, \"27\": 3, \"52\": 5, \"8\": 2, \"20\": 1, \"0\": 2, \"7\": 1}, \"24\": {\"24\": 46, \"37\": 1, \"43\": 12, \"23\": 16, \"26\": 3, \"54\": 8, \"11\": 1, \"55\": 6, \"10\": 1, \"53\": 5, \"49\": 2, \"34\": 1, \"15\": 2}, \"55\": {\"37\": 2, \"55\": 54, \"32\": 1, \"23\": 7, \"54\": 9, \"24\": 6, \"43\": 11, \"34\": 1, \"57\": 2, \"9\": 2, \"16\": 1, \"1\": 2, \"29\": 5, \"53\": 9, \"42\": 1, \"17\": 3, \"14\": 1, \"36\": 1}}, \"C_4\": {\"52\": {\"52\": 116}, \"6\": {\"6\": 110, \"5\": 2}, \"14\": {\"13\": 1, \"40\": 1, \"14\": 9, \"33\": 1, \"54\": 2, \"29\": 1, \"38\": 1}, \"49\": {\"13\": 4, \"51\": 2, \"49\": 8, \"43\": 1, \"36\": 1, \"41\": 1, \"39\": 1, \"54\": 1, \"27\": 1}, \"0\": {\"0\": 72, \"8\": 1, \"48\": 1, \"3\": 1, \"52\": 1, \"46\": 1, \"5\": 2, \"45\": 1}, \"46\": {\"46\": 152, \"22\": 4}, \"41\": {\"41\": 27, \"49\": 3, \"39\": 1, \"17\": 3, \"37\": 2}, \"24\": {\"24\": 32, \"10\": 3, \"49\": 3, \"43\": 9, \"23\": 2, \"38\": 1, \"41\": 2, \"55\": 2, \"54\": 2}, \"25\": {\"10\": 8, \"25\": 97, \"11\": 12, \"34\": 1, \"28\": 1, \"15\": 11, \"19\": 1, \"53\": 5, \"18\": 4, \"16\": 8, \"23\": 3, \"54\": 1}, \"40\": {\"40\": 54, \"45\": 5, \"48\": 9, \"30\": 2, \"0\": 2, \"27\": 2, \"44\": 12, \"56\": 14, \"12\": 1, \"13\": 2, \"4\": 4, \"21\": 3, \"9\": 9, \"46\": 5, \"8\": 3, \"47\": 4, \"20\": 1, \"57\": 2, \"3\": 2, \"5\": 2}, \"38\": {\"14\": 2, \"54\": 6, \"38\": 21, \"49\": 1, \"26\": 1, \"35\": 2, \"32\": 2, \"55\": 2, \"57\": 1, \"42\": 2}, \"13\": {\"13\": 54, \"56\": 3, \"39\": 2, \"27\": 18, \"40\": 1, \"51\": 13, \"4\": 11, \"57\": 6, \"20\": 4, \"47\": 11, \"36\": 4, \"5\": 1, \"52\": 1, \"48\": 10, \"9\": 7, \"43\": 1, \"8\": 2, \"46\": 1, \"7\": 1, \"2\": 1}, \"9\": {\"9\": 39, \"4\": 7, \"40\": 6, \"56\": 7, \"21\": 7, \"27\": 10, \"47\": 4, \"8\": 9, \"48\": 10, \"13\": 3, \"44\": 1, \"5\": 1, \"57\": 1, \"51\": 2, \"20\": 1}, \"45\": {\"45\": 96}, \"43\": {\"43\": 83, \"24\": 9, \"36\": 4, \"49\": 1, \"7\": 2, \"31\": 1, \"17\": 9, \"55\": 9, \"33\": 1, \"32\": 2, \"23\": 10, \"35\": 1, \"42\": 1, \"15\": 1, \"51\": 3, \"53\": 3, \"41\": 2, \"29\": 1, \"13\": 1}, \"10\": {\"24\": 5, \"10\": 63, \"25\": 9, \"16\": 14, \"42\": 1, \"53\": 8, \"11\": 6, \"15\": 14, \"23\": 4, \"55\": 3, \"54\": 1, \"43\": 1, \"19\": 1}, \"15\": {\"15\": 76, \"34\": 3, \"16\": 8, \"42\": 1, \"11\": 20, \"53\": 1, \"25\": 8, \"10\": 8, \"18\": 1, \"54\": 1, \"23\": 1}, \"39\": {\"39\": 8, \"27\": 3, \"36\": 3, \"7\": 3, \"13\": 1, \"29\": 1, \"1\": 1}, \"4\": {\"4\": 51, \"39\": 1, \"27\": 15, \"36\": 2, \"13\": 5, \"47\": 7, \"48\": 10, \"56\": 9, \"8\": 2, \"57\": 2, \"9\": 10, \"51\": 5, \"40\": 6, \"21\": 1, \"43\": 1, \"12\": 1, \"2\": 2, \"44\": 1, \"3\": 1}, \"53\": {\"53\": 78, \"43\": 9, \"23\": 22, \"42\": 3, \"55\": 4, \"11\": 2, \"16\": 1, \"25\": 2, \"54\": 2, \"15\": 3, \"10\": 2, \"24\": 1, \"32\": 1, \"17\": 1, \"51\": 1}, \"1\": {\"1\": 12, \"39\": 1, \"36\": 2, \"40\": 2, \"57\": 10, \"55\": 1, \"44\": 2, \"37\": 3, \"4\": 1, \"33\": 1, \"29\": 1, \"56\": 2, \"13\": 1, \"2\": 1}, \"28\": {\"28\": 26, \"19\": 2, \"34\": 1, \"16\": 1, \"10\": 1, \"26\": 1}, \"54\": {\"38\": 4, \"54\": 61, \"17\": 5, \"33\": 5, \"26\": 2, \"32\": 4, \"31\": 3, \"35\": 5, \"23\": 6, \"55\": 9, \"24\": 1, \"53\": 2, \"41\": 1}, \"21\": {\"21\": 132}, \"7\": {\"7\": 11, \"39\": 1, \"17\": 1, \"36\": 6, \"43\": 1, \"51\": 1, \"27\": 1, \"13\": 2}, \"8\": {\"8\": 98, \"4\": 2, \"20\": 15, \"21\": 7, \"9\": 2, \"50\": 2, \"52\": 2, \"12\": 1, \"13\": 2, \"48\": 3, \"47\": 1, \"27\": 1}, \"42\": {\"53\": 4, \"42\": 15, \"41\": 1, \"17\": 3, \"23\": 2, \"43\": 2, \"49\": 1, \"24\": 1, \"55\": 1, \"26\": 1, \"15\": 1}, \"11\": {\"28\": 1, \"11\": 49, \"15\": 12, \"16\": 6, \"10\": 15, \"53\": 2, \"24\": 1, \"25\": 12, \"18\": 5, \"34\": 1}, \"33\": {\"33\": 16, \"42\": 2, \"43\": 2, \"7\": 2, \"54\": 4, \"32\": 2, \"35\": 2, \"17\": 1, \"1\": 1, \"53\": 2, \"38\": 1, \"14\": 1}, \"27\": {\"27\": 96, \"51\": 9, \"52\": 1, \"47\": 3, \"48\": 9, \"13\": 9, \"57\": 1, \"4\": 4, \"8\": 4, \"9\": 5, \"39\": 1}, \"19\": {\"19\": 134, \"11\": 1, \"18\": 1, \"26\": 3, \"28\": 1, \"38\": 1, \"24\": 1, \"16\": 2}, \"2\": {\"39\": 2, \"57\": 3, \"51\": 6, \"49\": 1, \"17\": 1, \"2\": 13, \"13\": 3, \"44\": 1, \"4\": 2, \"1\": 1, \"36\": 1, \"23\": 1, \"27\": 1}, \"3\": {\"3\": 114, \"5\": 3, \"50\": 3}, \"57\": {\"39\": 5, \"4\": 6, \"57\": 55, \"13\": 7, \"29\": 4, \"1\": 4, \"37\": 1, \"2\": 3, \"40\": 5, \"17\": 2, \"36\": 1, \"33\": 1, \"44\": 3, \"9\": 1, \"56\": 1, \"27\": 1}, \"20\": {\"20\": 111, \"47\": 1}, \"23\": {\"23\": 79, \"24\": 7, \"43\": 11, \"42\": 2, \"53\": 12, \"10\": 1, \"16\": 3, \"15\": 6, \"55\": 3, \"36\": 1, \"17\": 2, \"54\": 1}, \"22\": {\"22\": 128}, \"29\": {\"29\": 98, \"57\": 3, \"2\": 4, \"14\": 3, \"39\": 1, \"33\": 1, \"55\": 3, \"44\": 1, \"54\": 1, \"56\": 1, \"37\": 1, \"32\": 1, \"41\": 1, \"17\": 2, \"36\": 1, \"4\": 1, \"43\": 1}, \"36\": {\"36\": 57, \"41\": 1, \"27\": 7, \"7\": 2, \"13\": 7, \"51\": 11, \"17\": 1, \"43\": 1, \"40\": 1, \"4\": 1, \"29\": 1, \"8\": 1, \"57\": 1}, \"51\": {\"41\": 3, \"51\": 85, \"27\": 18, \"36\": 7, \"13\": 9, \"9\": 1, \"47\": 2, \"29\": 1, \"39\": 2, \"37\": 1, \"7\": 2, \"57\": 1}, \"31\": {\"31\": 21, \"24\": 3, \"38\": 1, \"26\": 1, \"54\": 1, \"15\": 1}, \"12\": {\"12\": 92}, \"56\": {\"56\": 64, \"46\": 5, \"0\": 4, \"30\": 1, \"51\": 1, \"21\": 1, \"9\": 7, \"4\": 4, \"48\": 7, \"57\": 2, \"47\": 9, \"40\": 12, \"5\": 2, \"44\": 5, \"13\": 1, \"3\": 2, \"27\": 4, \"8\": 1, \"52\": 1, \"45\": 4, \"50\": 1}, \"5\": {\"5\": 108}, \"35\": {\"35\": 23, \"33\": 1, \"34\": 3, \"38\": 1, \"42\": 2, \"54\": 3, \"55\": 1, \"26\": 2, \"1\": 1, \"32\": 2, \"29\": 1}, \"17\": {\"36\": 4, \"17\": 45, \"41\": 3, \"33\": 3, \"49\": 4, \"43\": 2, \"7\": 1, \"35\": 1, \"54\": 1, \"29\": 2, \"55\": 3, \"23\": 3, \"51\": 2, \"53\": 2, \"32\": 2, \"2\": 1, \"24\": 1}, \"32\": {\"42\": 2, \"14\": 1, \"32\": 8, \"55\": 1, \"33\": 2, \"38\": 1, \"54\": 4, \"53\": 2, \"57\": 1, \"24\": 1, \"49\": 1}, \"47\": {\"47\": 57, \"52\": 16, \"3\": 2, \"48\": 7, \"0\": 6, \"9\": 3, \"21\": 5, \"45\": 1, \"56\": 4, \"20\": 7, \"46\": 3, \"27\": 3, \"1\": 1, \"8\": 3, \"13\": 2}, \"18\": {\"18\": 90, \"10\": 3, \"25\": 5, \"19\": 3, \"11\": 2, \"13\": 1, \"15\": 1, \"26\": 1, \"16\": 2}, \"26\": {\"26\": 9, \"15\": 2, \"34\": 3, \"10\": 4, \"31\": 1, \"23\": 1, \"49\": 1, \"54\": 1, \"28\": 1, \"35\": 1}, \"50\": {\"50\": 113, \"6\": 1, \"3\": 8}, \"55\": {\"54\": 10, \"55\": 62, \"38\": 1, \"33\": 2, \"32\": 1, \"53\": 6, \"43\": 13, \"23\": 6, \"17\": 7, \"57\": 1, \"51\": 4, \"14\": 1, \"36\": 1, \"24\": 2, \"42\": 1, \"35\": 2, \"29\": 2, \"2\": 1, \"15\": 1}, \"34\": {\"15\": 2, \"19\": 1, \"25\": 3, \"26\": 2, \"28\": 1, \"34\": 8, \"18\": 2, \"10\": 1, \"16\": 2, \"23\": 1, \"55\": 1}, \"30\": {\"30\": 44}, \"37\": {\"37\": 17, \"27\": 2, \"36\": 1, \"51\": 1, \"21\": 1, \"41\": 1, \"8\": 1}, \"44\": {\"44\": 78, \"4\": 12, \"40\": 12, \"9\": 6, \"48\": 6, \"56\": 4, \"8\": 4, \"46\": 1, \"1\": 2, \"57\": 4, \"45\": 1, \"47\": 2}, \"48\": {\"48\": 41, \"47\": 15, \"3\": 3, \"52\": 2, \"20\": 11, \"27\": 9, \"9\": 10, \"4\": 3, \"13\": 3, \"8\": 11, \"40\": 4, \"21\": 2, \"51\": 1, \"50\": 1, \"12\": 1, \"56\": 1}, \"16\": {\"16\": 48, \"34\": 2, \"15\": 8, \"25\": 9, \"54\": 2, \"28\": 1, \"11\": 15, \"23\": 1, \"10\": 4, \"18\": 3, \"53\": 2, \"38\": 1}}, \"C_2\": {\"11\": {\"11\": 64, \"10\": 13, \"28\": 2, \"16\": 12, \"34\": 1, \"15\": 21, \"23\": 4, \"25\": 9, \"55\": 1, \"54\": 1, \"43\": 2}, \"21\": {\"50\": 2, \"21\": 116, \"52\": 2}, \"19\": {\"19\": 131, \"16\": 3, \"25\": 1, \"15\": 2, \"18\": 1, \"11\": 1, \"54\": 1}, \"20\": {\"12\": 5, \"20\": 91, \"8\": 8, \"52\": 8, \"47\": 1, \"48\": 2, \"30\": 9, \"27\": 1, \"21\": 2, \"22\": 1}, \"9\": {\"32\": 2, \"40\": 3, \"9\": 69, \"33\": 3, \"29\": 9, \"2\": 3, \"1\": 25, \"37\": 1, \"56\": 7, \"13\": 5, \"22\": 1, \"51\": 2, \"57\": 5, \"17\": 1, \"55\": 2, \"38\": 1, \"54\": 1}, \"10\": {\"11\": 14, \"10\": 56, \"25\": 7, \"15\": 10, \"16\": 4, \"53\": 5, \"55\": 1, \"24\": 5, \"43\": 3, \"23\": 4, \"34\": 1, \"26\": 1, \"54\": 1}, \"37\": {\"37\": 20, \"24\": 1, \"31\": 2, \"51\": 3, \"43\": 1, \"36\": 2, \"7\": 1, \"41\": 2, \"17\": 1, \"53\": 2, \"0\": 1}, \"32\": {\"32\": 14, \"2\": 3, \"36\": 2, \"56\": 1, \"1\": 5, \"33\": 1, \"55\": 1, \"13\": 1}, \"3\": {\"3\": 89, \"6\": 2, \"46\": 1}, \"39\": {\"39\": 12, \"38\": 2, \"24\": 1, \"31\": 6, \"23\": 2, \"43\": 1, \"1\": 1, \"32\": 1, \"17\": 1, \"9\": 1}, \"45\": {\"45\": 127, \"6\": 1}, \"50\": {\"50\": 123, \"3\": 5, \"12\": 5, \"46\": 3}, \"40\": {\"9\": 2, \"40\": 60, \"27\": 3, \"22\": 10, \"48\": 5, \"0\": 1, \"8\": 4, \"52\": 1, \"4\": 10, \"44\": 5, \"47\": 5, \"56\": 14, \"30\": 2, \"1\": 3, \"5\": 1, \"57\": 9, \"45\": 2, \"41\": 1, \"3\": 1, \"55\": 1}, \"46\": {\"46\": 123, \"5\": 4, \"6\": 1}, \"12\": {\"12\": 89, \"50\": 3}, \"13\": {\"37\": 4, \"13\": 60, \"57\": 6, \"33\": 2, \"41\": 1, \"51\": 10, \"56\": 3, \"17\": 7, \"36\": 4, \"27\": 3, \"53\": 1, \"29\": 1, \"8\": 1, \"48\": 2, \"1\": 3, \"9\": 2, \"2\": 1, \"38\": 1, \"32\": 1, \"22\": 2, \"4\": 1}, \"47\": {\"47\": 68, \"46\": 7, \"8\": 4, \"48\": 9, \"30\": 15, \"4\": 5, \"52\": 6, \"56\": 2, \"0\": 2, \"22\": 2, \"20\": 7, \"5\": 2, \"27\": 3}, \"15\": {\"15\": 82, \"43\": 1, \"28\": 2, \"25\": 12, \"10\": 2, \"11\": 19, \"16\": 22, \"23\": 1, \"19\": 1}, \"54\": {\"35\": 1, \"23\": 8, \"54\": 66, \"26\": 2, \"43\": 9, \"42\": 5, \"53\": 6, \"55\": 5, \"10\": 1, \"24\": 2, \"13\": 1, \"11\": 1, \"9\": 1}, \"48\": {\"47\": 10, \"50\": 2, \"12\": 3, \"48\": 43, \"13\": 2, \"27\": 20, \"56\": 7, \"8\": 13, \"22\": 2, \"20\": 7, \"4\": 9, \"40\": 4, \"30\": 8, \"57\": 5, \"0\": 3, \"45\": 3, \"52\": 5, \"51\": 2}, \"23\": {\"23\": 69, \"10\": 5, \"15\": 1, \"43\": 21, \"53\": 12, \"24\": 14, \"31\": 1, \"54\": 6, \"55\": 7, \"29\": 1, \"11\": 2, \"35\": 1, \"16\": 2}, \"29\": {\"29\": 75, \"54\": 2, \"32\": 3, \"2\": 2, \"9\": 10, \"39\": 1, \"14\": 1, \"1\": 14, \"42\": 1, \"23\": 1, \"17\": 5, \"57\": 1, \"40\": 2, \"43\": 1, \"55\": 6, \"44\": 2, \"56\": 1}, \"38\": {\"38\": 8, \"48\": 1, \"57\": 1, \"2\": 2, \"36\": 2, \"13\": 4, \"33\": 2}, \"53\": {\"53\": 93, \"24\": 7, \"26\": 4, \"23\": 11, \"31\": 1, \"43\": 7, \"17\": 7, \"10\": 1, \"49\": 3, \"15\": 2}, \"27\": {\"27\": 118, \"47\": 4, \"52\": 4, \"48\": 5, \"4\": 4, \"20\": 3, \"8\": 12}, \"43\": {\"53\": 7, \"39\": 2, \"31\": 1, \"32\": 1, \"26\": 3, \"43\": 67, \"17\": 3, \"23\": 20, \"24\": 14, \"37\": 1, \"49\": 1, \"42\": 3, \"54\": 9, \"55\": 4, \"7\": 1, \"51\": 1, \"15\": 1, \"29\": 1, \"38\": 1, \"18\": 1, \"10\": 1, \"36\": 1}, \"35\": {\"35\": 18, \"54\": 3, \"55\": 1, \"42\": 6, \"23\": 1, \"10\": 1, \"43\": 1, \"29\": 1}, \"0\": {\"52\": 2, \"47\": 4, \"0\": 26, \"5\": 3, \"30\": 5, \"33\": 1, \"46\": 2, \"50\": 3, \"27\": 1, \"22\": 1}, \"52\": {\"52\": 103, \"8\": 1, \"30\": 7, \"12\": 2, \"50\": 2, \"21\": 4, \"20\": 2, \"46\": 1, \"3\": 1, \"5\": 1}, \"8\": {\"8\": 62, \"52\": 11, \"41\": 1, \"27\": 9, \"48\": 12, \"47\": 3, \"20\": 16, \"12\": 1, \"51\": 3, \"30\": 6, \"45\": 1, \"0\": 1, \"13\": 1, \"6\": 1}, \"24\": {\"24\": 45, \"55\": 3, \"26\": 2, \"43\": 10, \"23\": 12, \"54\": 3, \"17\": 3, \"53\": 5, \"10\": 5, \"15\": 2, \"16\": 1, \"31\": 1, \"38\": 2, \"42\": 1, \"36\": 1}, \"18\": {\"18\": 42, \"16\": 4, \"25\": 1, \"11\": 1}, \"25\": {\"25\": 79, \"16\": 16, \"11\": 15, \"18\": 4, \"43\": 1, \"15\": 17, \"10\": 6, \"23\": 3, \"54\": 1, \"53\": 2, \"19\": 2, \"28\": 1, \"24\": 1}, \"57\": {\"13\": 6, \"1\": 6, \"57\": 51, \"4\": 16, \"33\": 3, \"51\": 10, \"22\": 10, \"17\": 1, \"36\": 1, \"56\": 12, \"9\": 5, \"27\": 6, \"40\": 6, \"8\": 1, \"47\": 1, \"0\": 1}, \"55\": {\"55\": 64, \"14\": 2, \"24\": 6, \"17\": 6, \"43\": 10, \"16\": 1, \"29\": 8, \"54\": 13, \"1\": 5, \"53\": 7, \"9\": 6, \"23\": 3, \"42\": 1, \"39\": 1, \"10\": 1}, \"36\": {\"51\": 14, \"38\": 1, \"36\": 74, \"14\": 1, \"33\": 2, \"1\": 2, \"24\": 1, \"2\": 1, \"29\": 3, \"7\": 1, \"13\": 9, \"56\": 2, \"17\": 1, \"9\": 1, \"31\": 1, \"57\": 1, \"43\": 1}, \"17\": {\"17\": 66, \"39\": 3, \"37\": 3, \"7\": 8, \"43\": 2, \"29\": 2, \"36\": 5, \"53\": 2, \"9\": 2, \"57\": 1, \"13\": 2, \"14\": 1, \"31\": 1, \"2\": 1, \"32\": 2, \"49\": 1, \"55\": 1, \"51\": 1}, \"2\": {\"38\": 3, \"36\": 2, \"2\": 16, \"57\": 1, \"51\": 1, \"7\": 1, \"33\": 3, \"13\": 1, \"32\": 1, \"17\": 1, \"29\": 1, \"37\": 1}, \"34\": {\"34\": 14, \"15\": 2, \"11\": 1, \"42\": 4, \"23\": 1, \"28\": 1, \"35\": 1, \"24\": 1, \"26\": 1, \"18\": 1, \"16\": 1}, \"1\": {\"1\": 64, \"2\": 2, \"9\": 14, \"14\": 3, \"29\": 4, \"51\": 3, \"40\": 1, \"13\": 6, \"22\": 1, \"57\": 5, \"44\": 4, \"56\": 2, \"7\": 1, \"48\": 1, \"36\": 1}, \"51\": {\"20\": 1, \"51\": 103, \"41\": 1, \"56\": 2, \"37\": 1, \"52\": 1, \"27\": 7, \"4\": 4, \"36\": 10, \"48\": 2, \"57\": 1, \"1\": 2, \"8\": 1}, \"31\": {\"17\": 2, \"31\": 13, \"36\": 2, \"23\": 2, \"43\": 1, \"37\": 3, \"55\": 1, \"39\": 2, \"7\": 2}, \"49\": {\"49\": 17, \"10\": 1, \"43\": 1, \"24\": 1, \"26\": 1, \"53\": 1, \"37\": 1, \"42\": 1}, \"14\": {\"17\": 1, \"14\": 13, \"29\": 3, \"55\": 2, \"1\": 1, \"33\": 1, \"31\": 1, \"36\": 1, \"32\": 1}, \"33\": {\"37\": 3, \"13\": 1, \"33\": 6, \"9\": 1, \"56\": 2, \"31\": 3, \"32\": 2, \"27\": 1, \"51\": 2, \"17\": 1, \"41\": 1, \"4\": 1, \"38\": 1, \"57\": 2, \"8\": 1}, \"41\": {\"41\": 12, \"27\": 1, \"30\": 1, \"38\": 1, \"48\": 1, \"4\": 2, \"52\": 1, \"20\": 1}, \"28\": {\"11\": 1, \"28\": 16, \"54\": 2, \"16\": 1, \"10\": 2, \"34\": 3, \"15\": 2, \"24\": 1}, \"5\": {\"5\": 117, \"46\": 3}, \"16\": {\"25\": 15, \"16\": 80, \"18\": 5, \"11\": 19, \"34\": 1, \"10\": 5, \"15\": 19, \"23\": 2, \"19\": 4}, \"4\": {\"41\": 2, \"4\": 37, \"22\": 9, \"8\": 5, \"48\": 12, \"20\": 5, \"56\": 9, \"40\": 8, \"47\": 8, \"0\": 3, \"36\": 1, \"30\": 2, \"51\": 2, \"27\": 13, \"45\": 4, \"57\": 3, \"33\": 1, \"13\": 1, \"44\": 1, \"1\": 1, \"52\": 1}, \"22\": {\"50\": 2, \"41\": 1, \"27\": 4, \"12\": 2, \"40\": 21, \"45\": 4, \"22\": 37, \"4\": 7, \"0\": 4, \"57\": 3, \"56\": 16, \"51\": 2, \"52\": 1, \"44\": 2, \"20\": 1, \"13\": 2, \"8\": 2, \"5\": 3, \"30\": 1, \"48\": 10, \"47\": 5, \"9\": 3, \"46\": 2, \"1\": 1}, \"6\": {\"6\": 113, \"3\": 3, \"46\": 2}, \"30\": {\"30\": 124}, \"26\": {\"24\": 2, \"33\": 1, \"53\": 3, \"2\": 1, \"26\": 11, \"31\": 1, \"23\": 1, \"17\": 1, \"49\": 1, \"10\": 1, \"43\": 1}, \"56\": {\"32\": 1, \"56\": 59, \"4\": 14, \"9\": 3, \"40\": 10, \"57\": 15, \"47\": 4, \"1\": 10, \"22\": 10, \"27\": 2, \"48\": 7, \"44\": 3, \"51\": 1, \"41\": 1, \"5\": 1, \"8\": 1}, \"42\": {\"43\": 5, \"42\": 18, \"23\": 2, \"24\": 2, \"54\": 4, \"10\": 1, \"35\": 3, \"34\": 1}, \"44\": {\"44\": 75, \"48\": 2, \"1\": 5, \"40\": 10, \"56\": 2, \"22\": 1, \"4\": 3, \"9\": 2}, \"7\": {\"7\": 20, \"39\": 1, \"13\": 2, \"36\": 5, \"53\": 3, \"17\": 2, \"37\": 1, \"2\": 1, \"55\": 1}}}, \"per_domain_accuracy\": {\"O_26\": {\"accuracy\": 0.79765625, \"source?\": true}, \"O_44\": {\"accuracy\": 0.8135416666666667, \"source?\": true}, \"O_50\": {\"accuracy\": 0.8908854166666667, \"source?\": true}, \"O_38\": {\"accuracy\": 0.8838541666666667, \"source?\": true}, \"O_20\": {\"accuracy\": 0.8153645833333333, \"source?\": true}, \"O_14\": {\"accuracy\": 0.8723958333333334, \"source?\": true}, \"O_32\": {\"accuracy\": 0.8479166666666667, \"source?\": true}, \"O_8\": {\"accuracy\": 0.8338541666666667, \"source?\": true}, \"C_5\": {\"accuracy\": 0.6462988826815642, \"source?\": false}, \"C_1\": {\"accuracy\": 0.7116168478260869, \"source?\": false}, \"C_3\": {\"accuracy\": 0.6327205882352941, \"source?\": false}, \"C_4\": {\"accuracy\": 0.670933734939759, \"source?\": false}, \"C_2\": {\"accuracy\": 0.6264204545454546, \"source?\": false}}}, \"history\": {\"epoch_indices\": [1, 2, 3, 4, 5, 6, 7], \"train_label_loss\": [0.7788868078418697, 1.6165381732374606, 0.3958188761918185, 0.35257253339347827, 0.3338054928152511, 0.3304648166494666, 0.3150329271555945], \"source_val_label_loss\": [271.98785400390625, 0.5465660095214844, 0.43035441637039185, 0.4033156633377075, 0.34367600083351135, 0.3305300176143646, 0.33134961128234863], \"target_val_label_loss\": [2781.07080078125, 324.0557861328125, 344.0038146972656, 435.9893798828125, 451.9505920410156, 498.6420593261719, 600.802734375], \"source_val_acc_label\": [0.5486979166666667, 0.8027994791666667, 0.84443359375, 0.8600260416666666, 0.8776041666666666, 0.88564453125, 0.883984375], \"target_val_acc_label\": [0.6151785714285715, 0.64375, 0.6580714285714285, 0.6113571428571428, 0.6258214285714285, 0.6316428571428572, 0.6127142857142858]}, \"dataset_metrics\": {\"source\": {\"train\": {\"n_unique_x\": 179200, \"n_unique_y\": 16, \"n_batch/episode\": 6720}, \"val\": {\"n_unique_x\": 38400, \"n_unique_y\": 16, \"n_batch/episode\": 960}, \"test\": {\"n_unique_x\": 38400, \"n_unique_y\": 16, \"n_batch/episode\": 960}}, \"target\": {\"train\": {\"n_unique_x\": 175203, \"n_unique_y\": 58, \"n_batch/episode\": 6321}, \"val\": {\"n_unique_x\": 37151, \"n_unique_y\": 58, \"n_batch/episode\": 875}, \"test\": {\"n_unique_x\": 37548, \"n_unique_y\": 58, \"n_batch/episode\": 885}}}}'"
      ]
     },
     "execution_count": 29,
     "metadata": {},
     "output_type": "execute_result"
    }
   ],
   "source": [
    "json.dumps(experiment)"
   ]
  }
 ],
 "metadata": {
  "celltoolbar": "Tags",
  "kernelspec": {
   "display_name": "Python 3 (ipykernel)",
   "language": "python",
   "name": "python3"
  },
  "language_info": {
   "codemirror_mode": {
    "name": "ipython",
    "version": 3
   },
   "file_extension": ".py",
   "mimetype": "text/x-python",
   "name": "python",
   "nbconvert_exporter": "python",
   "pygments_lexer": "ipython3",
   "version": "3.8.12"
  },
  "papermill": {
   "default_parameters": {},
   "duration": 1595.736156,
   "end_time": "2022-03-28T18:17:01.344940",
   "environment_variables": {},
   "exception": null,
   "input_path": "/root/csc500-main/csc500-notebooks/templates/tl_ptn_template.ipynb",
   "output_path": "trial.ipynb",
   "parameters": {
    "parameters": {
     "BEST_MODEL_PATH": "./best_model.pth",
     "NUM_LOGS_PER_EPOCH": 10,
     "criteria_for_best": "target_accuracy",
     "dataset_seed": 7,
     "datasets": [
      {
       "domain_prefix": "C_",
       "domains": [
        1,
        2,
        3,
        4,
        5
       ],
       "episode_transforms": [],
       "labels": [
        "1-10.",
        "1-11.",
        "1-15.",
        "1-16.",
        "1-17.",
        "1-18.",
        "1-19.",
        "10-4.",
        "10-7.",
        "11-1.",
        "11-14.",
        "11-17.",
        "11-20.",
        "11-7.",
        "13-20.",
        "13-8.",
        "14-10.",
        "14-11.",
        "14-14.",
        "14-7.",
        "15-1.",
        "15-20.",
        "16-1.",
        "16-16.",
        "17-10.",
        "17-11.",
        "17-2.",
        "19-1.",
        "19-16.",
        "19-19.",
        "19-20.",
        "19-3.",
        "2-10.",
        "2-11.",
        "2-17.",
        "2-18.",
        "2-20.",
        "2-3.",
        "2-4.",
        "2-5.",
        "2-6.",
        "2-7.",
        "2-8.",
        "3-13.",
        "3-18.",
        "3-3.",
        "4-1.",
        "4-10.",
        "4-11.",
        "4-19.",
        "5-5.",
        "6-15.",
        "7-10.",
        "7-14.",
        "8-18.",
        "8-20.",
        "8-3.",
        "8-8."
       ],
       "num_examples_per_domain_per_label": -1,
       "pickle_path": "/root/csc500-main/datasets/cores.stratified_ds.2022A.pkl",
       "source_or_target_dataset": "target",
       "x_transforms": [
        "jitter_256_5",
        "lowpass_+/-10MHz",
        "take_200"
       ]
      },
      {
       "domain_prefix": "O_",
       "domains": [
        32,
        38,
        8,
        44,
        14,
        50,
        20,
        26
       ],
       "episode_transforms": [],
       "labels": [
        "3123D52",
        "3123D65",
        "3123D79",
        "3123D80",
        "3123D54",
        "3123D70",
        "3123D7B",
        "3123D89",
        "3123D58",
        "3123D76",
        "3123D7D",
        "3123EFE",
        "3123D64",
        "3123D78",
        "3123D7E",
        "3124E4A"
       ],
       "num_examples_per_domain_per_label": 2000,
       "pickle_path": "/root/csc500-main/datasets/oracle.Run1_framed_2000Examples_stratified_ds.2022A.pkl",
       "source_or_target_dataset": "source",
       "x_transforms": [
        "jitter_256_5",
        "take_200",
        "resample_20Msps_to_25Msps"
       ]
      }
     ],
     "device": "cuda",
     "experiment_name": "tl_3-jitter5v2:oracle.run1.framed -> cores",
     "lr": 0.0001,
     "n_epoch": 50,
     "n_query": 2,
     "n_shot": 3,
     "n_way": 16,
     "patience": 3,
     "seed": 7,
     "test_k_factor": 2,
     "torch_default_dtype": "torch.float32",
     "train_k_factor": 3,
     "val_k_factor": 2,
     "x_net": [
      {
       "class": "nnReshape",
       "kargs": {
        "shape": [
         -1,
         1,
         2,
         256
        ]
       }
      },
      {
       "class": "Conv2d",
       "kargs": {
        "bias": false,
        "in_channels": 1,
        "kernel_size": [
         1,
         7
        ],
        "out_channels": 256,
        "padding": [
         0,
         3
        ]
       }
      },
      {
       "class": "ReLU",
       "kargs": {
        "inplace": true
       }
      },
      {
       "class": "BatchNorm2d",
       "kargs": {
        "num_features": 256
       }
      },
      {
       "class": "Conv2d",
       "kargs": {
        "bias": true,
        "in_channels": 256,
        "kernel_size": [
         2,
         7
        ],
        "out_channels": 80,
        "padding": [
         0,
         3
        ]
       }
      },
      {
       "class": "ReLU",
       "kargs": {
        "inplace": true
       }
      },
      {
       "class": "BatchNorm2d",
       "kargs": {
        "num_features": 80
       }
      },
      {
       "class": "Flatten",
       "kargs": {}
      },
      {
       "class": "Linear",
       "kargs": {
        "in_features": 20480,
        "out_features": 256
       }
      },
      {
       "class": "ReLU",
       "kargs": {
        "inplace": true
       }
      },
      {
       "class": "BatchNorm1d",
       "kargs": {
        "num_features": 256
       }
      },
      {
       "class": "Linear",
       "kargs": {
        "in_features": 256,
        "out_features": 256
       }
      }
     ],
     "x_shape": [
      2,
      256
     ]
    }
   },
   "start_time": "2022-03-28T17:50:25.608784",
   "version": "2.3.4"
  }
 },
 "nbformat": 4,
 "nbformat_minor": 5
}