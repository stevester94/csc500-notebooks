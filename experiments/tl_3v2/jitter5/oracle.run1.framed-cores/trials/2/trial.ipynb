{
 "cells": [
  {
   "cell_type": "markdown",
   "id": "9fea5f46",
   "metadata": {
    "papermill": {
     "duration": 0.028336,
     "end_time": "2022-03-28T16:14:07.752122",
     "exception": false,
     "start_time": "2022-03-28T16:14:07.723786",
     "status": "completed"
    },
    "tags": []
   },
   "source": [
    "# Transfer Learning Template"
   ]
  },
  {
   "cell_type": "code",
   "execution_count": 1,
   "id": "0902182a",
   "metadata": {
    "execution": {
     "iopub.execute_input": "2022-03-28T16:14:07.817019Z",
     "iopub.status.busy": "2022-03-28T16:14:07.816158Z",
     "iopub.status.idle": "2022-03-28T16:14:09.740541Z",
     "shell.execute_reply": "2022-03-28T16:14:09.740030Z"
    },
    "papermill": {
     "duration": 1.964191,
     "end_time": "2022-03-28T16:14:09.740647",
     "exception": false,
     "start_time": "2022-03-28T16:14:07.776456",
     "status": "completed"
    },
    "tags": []
   },
   "outputs": [],
   "source": [
    "%load_ext autoreload\n",
    "%autoreload 2\n",
    "%matplotlib inline\n",
    "\n",
    "    \n",
    "import os, json, sys, time, random\n",
    "import numpy as np\n",
    "import torch\n",
    "from torch.optim import Adam\n",
    "from  easydict import EasyDict\n",
    "import matplotlib.pyplot as plt\n",
    "\n",
    "from steves_models.steves_ptn import Steves_Prototypical_Network\n",
    "\n",
    "from steves_utils.lazy_iterable_wrapper import Lazy_Iterable_Wrapper\n",
    "from steves_utils.iterable_aggregator import Iterable_Aggregator\n",
    "from steves_utils.ptn_train_eval_test_jig import  PTN_Train_Eval_Test_Jig\n",
    "from steves_utils.torch_sequential_builder import build_sequential\n",
    "from steves_utils.torch_utils import get_dataset_metrics, ptn_confusion_by_domain_over_dataloader\n",
    "from steves_utils.utils_v2 import (per_domain_accuracy_from_confusion, get_datasets_base_path)\n",
    "from steves_utils.PTN.utils import independent_accuracy_assesment\n",
    "\n",
    "from torch.utils.data import DataLoader\n",
    "\n",
    "from steves_utils.stratified_dataset.episodic_accessor import Episodic_Accessor_Factory\n",
    "\n",
    "from steves_utils.ptn_do_report import (\n",
    "    get_loss_curve,\n",
    "    get_results_table,\n",
    "    get_parameters_table,\n",
    "    get_domain_accuracies,\n",
    ")\n",
    "\n",
    "from steves_utils.transforms import get_chained_transform"
   ]
  },
  {
   "cell_type": "markdown",
   "id": "41c840b4",
   "metadata": {
    "papermill": {
     "duration": 0.020085,
     "end_time": "2022-03-28T16:14:09.781160",
     "exception": false,
     "start_time": "2022-03-28T16:14:09.761075",
     "status": "completed"
    },
    "tags": []
   },
   "source": [
    "# Allowed Parameters\n",
    "These are allowed parameters, not defaults\n",
    "Each of these values need to be present in the injected parameters (the notebook will raise an exception if they are not present)\n",
    "\n",
    "Papermill uses the cell tag \"parameters\" to inject the real parameters below this cell.\n",
    "Enable tags to see what I mean"
   ]
  },
  {
   "cell_type": "code",
   "execution_count": 2,
   "id": "fd44eb83",
   "metadata": {
    "execution": {
     "iopub.execute_input": "2022-03-28T16:14:09.826529Z",
     "iopub.status.busy": "2022-03-28T16:14:09.826144Z",
     "iopub.status.idle": "2022-03-28T16:14:09.853902Z",
     "shell.execute_reply": "2022-03-28T16:14:09.853531Z"
    },
    "papermill": {
     "duration": 0.053162,
     "end_time": "2022-03-28T16:14:09.853975",
     "exception": false,
     "start_time": "2022-03-28T16:14:09.800813",
     "status": "completed"
    },
    "tags": []
   },
   "outputs": [],
   "source": [
    "required_parameters = {\n",
    "    \"experiment_name\",\n",
    "    \"lr\",\n",
    "    \"device\",\n",
    "    \"seed\",\n",
    "    \"dataset_seed\",\n",
    "    \"n_shot\",\n",
    "    \"n_query\",\n",
    "    \"n_way\",\n",
    "    \"train_k_factor\",\n",
    "    \"val_k_factor\",\n",
    "    \"test_k_factor\",\n",
    "    \"n_epoch\",\n",
    "    \"patience\",\n",
    "    \"criteria_for_best\",\n",
    "    \"x_net\",\n",
    "    \"datasets\",\n",
    "    \"torch_default_dtype\",\n",
    "    \"NUM_LOGS_PER_EPOCH\",\n",
    "    \"BEST_MODEL_PATH\",\n",
    "    \"x_shape\",\n",
    "}"
   ]
  },
  {
   "cell_type": "code",
   "execution_count": 3,
   "id": "fa3f0049",
   "metadata": {
    "execution": {
     "iopub.execute_input": "2022-03-28T16:14:09.906600Z",
     "iopub.status.busy": "2022-03-28T16:14:09.906190Z",
     "iopub.status.idle": "2022-03-28T16:14:09.934418Z",
     "shell.execute_reply": "2022-03-28T16:14:09.934096Z"
    },
    "papermill": {
     "duration": 0.060523,
     "end_time": "2022-03-28T16:14:09.934488",
     "exception": false,
     "start_time": "2022-03-28T16:14:09.873965",
     "status": "completed"
    },
    "tags": [
     "parameters"
    ]
   },
   "outputs": [],
   "source": [
    "from steves_utils.CORES.utils import (\n",
    "    ALL_NODES,\n",
    "    ALL_NODES_MINIMUM_1000_EXAMPLES,\n",
    "    ALL_DAYS\n",
    ")\n",
    "\n",
    "from steves_utils.ORACLE.utils_v2 import (\n",
    "    ALL_DISTANCES_FEET_NARROWED,\n",
    "    ALL_RUNS,\n",
    "    ALL_SERIAL_NUMBERS,\n",
    ")\n",
    "\n",
    "standalone_parameters = {}\n",
    "standalone_parameters[\"experiment_name\"] = \"STANDALONE PTN\"\n",
    "standalone_parameters[\"lr\"] = 0.001\n",
    "standalone_parameters[\"device\"] = \"cuda\"\n",
    "\n",
    "standalone_parameters[\"seed\"] = 1337\n",
    "standalone_parameters[\"dataset_seed\"] = 1337\n",
    "\n",
    "standalone_parameters[\"n_way\"] = 8\n",
    "standalone_parameters[\"n_shot\"] = 3\n",
    "standalone_parameters[\"n_query\"]  = 2\n",
    "standalone_parameters[\"train_k_factor\"] = 1\n",
    "standalone_parameters[\"val_k_factor\"] = 2\n",
    "standalone_parameters[\"test_k_factor\"] = 2\n",
    "\n",
    "\n",
    "standalone_parameters[\"n_epoch\"] = 50\n",
    "\n",
    "standalone_parameters[\"patience\"] = 10\n",
    "standalone_parameters[\"criteria_for_best\"] = \"source_loss\"\n",
    "\n",
    "standalone_parameters[\"datasets\"] = [\n",
    "    {\n",
    "        \"labels\": ALL_SERIAL_NUMBERS,\n",
    "        \"domains\": ALL_DISTANCES_FEET_NARROWED,\n",
    "        \"num_examples_per_domain_per_label\": 100,\n",
    "        \"pickle_path\": os.path.join(get_datasets_base_path(), \"oracle.Run1_framed_2000Examples_stratified_ds.2022A.pkl\"),\n",
    "        \"source_or_target_dataset\": \"source\",\n",
    "        \"x_transforms\": [\"unit_mag\", \"minus_two\"],\n",
    "        \"episode_transforms\": [],\n",
    "        \"domain_prefix\": \"ORACLE_\"\n",
    "    },\n",
    "    {\n",
    "        \"labels\": ALL_NODES,\n",
    "        \"domains\": ALL_DAYS,\n",
    "        \"num_examples_per_domain_per_label\": 100,\n",
    "        \"pickle_path\": os.path.join(get_datasets_base_path(), \"cores.stratified_ds.2022A.pkl\"),\n",
    "        \"source_or_target_dataset\": \"target\",\n",
    "        \"x_transforms\": [\"unit_power\", \"times_zero\"],\n",
    "        \"episode_transforms\": [],\n",
    "        \"domain_prefix\": \"CORES_\"\n",
    "    }   \n",
    "]\n",
    "\n",
    "standalone_parameters[\"torch_default_dtype\"] = \"torch.float32\" \n",
    "\n",
    "\n",
    "\n",
    "standalone_parameters[\"x_net\"] =     [\n",
    "    {\"class\": \"nnReshape\", \"kargs\": {\"shape\":[-1, 1, 2, 256]}},\n",
    "    {\"class\": \"Conv2d\", \"kargs\": { \"in_channels\":1, \"out_channels\":256, \"kernel_size\":(1,7), \"bias\":False, \"padding\":(0,3), },},\n",
    "    {\"class\": \"ReLU\", \"kargs\": {\"inplace\": True}},\n",
    "    {\"class\": \"BatchNorm2d\", \"kargs\": {\"num_features\":256}},\n",
    "\n",
    "    {\"class\": \"Conv2d\", \"kargs\": { \"in_channels\":256, \"out_channels\":80, \"kernel_size\":(2,7), \"bias\":True, \"padding\":(0,3), },},\n",
    "    {\"class\": \"ReLU\", \"kargs\": {\"inplace\": True}},\n",
    "    {\"class\": \"BatchNorm2d\", \"kargs\": {\"num_features\":80}},\n",
    "    {\"class\": \"Flatten\", \"kargs\": {}},\n",
    "\n",
    "    {\"class\": \"Linear\", \"kargs\": {\"in_features\": 80*256, \"out_features\": 256}}, # 80 units per IQ pair\n",
    "    {\"class\": \"ReLU\", \"kargs\": {\"inplace\": True}},\n",
    "    {\"class\": \"BatchNorm1d\", \"kargs\": {\"num_features\":256}},\n",
    "\n",
    "    {\"class\": \"Linear\", \"kargs\": {\"in_features\": 256, \"out_features\": 256}},\n",
    "]\n",
    "\n",
    "# Parameters relevant to results\n",
    "# These parameters will basically never need to change\n",
    "standalone_parameters[\"NUM_LOGS_PER_EPOCH\"] = 10\n",
    "standalone_parameters[\"BEST_MODEL_PATH\"] = \"./best_model.pth\"\n",
    "\n",
    "\n",
    "\n",
    "\n"
   ]
  },
  {
   "cell_type": "code",
   "execution_count": 4,
   "id": "a6ac7643",
   "metadata": {
    "execution": {
     "iopub.execute_input": "2022-03-28T16:14:09.989431Z",
     "iopub.status.busy": "2022-03-28T16:14:09.988988Z",
     "iopub.status.idle": "2022-03-28T16:14:10.016747Z",
     "shell.execute_reply": "2022-03-28T16:14:10.017034Z"
    },
    "papermill": {
     "duration": 0.062712,
     "end_time": "2022-03-28T16:14:10.017117",
     "exception": false,
     "start_time": "2022-03-28T16:14:09.954405",
     "status": "completed"
    },
    "tags": [
     "injected-parameters"
    ]
   },
   "outputs": [],
   "source": [
    "# Parameters\n",
    "parameters = {\n",
    "    \"experiment_name\": \"tl_3-jitter5v2:oracle.run1.framed -> cores\",\n",
    "    \"device\": \"cuda\",\n",
    "    \"lr\": 0.0001,\n",
    "    \"x_shape\": [2, 256],\n",
    "    \"n_shot\": 3,\n",
    "    \"n_query\": 2,\n",
    "    \"train_k_factor\": 3,\n",
    "    \"val_k_factor\": 2,\n",
    "    \"test_k_factor\": 2,\n",
    "    \"torch_default_dtype\": \"torch.float32\",\n",
    "    \"n_epoch\": 50,\n",
    "    \"patience\": 3,\n",
    "    \"criteria_for_best\": \"target_accuracy\",\n",
    "    \"x_net\": [\n",
    "        {\"class\": \"nnReshape\", \"kargs\": {\"shape\": [-1, 1, 2, 256]}},\n",
    "        {\n",
    "            \"class\": \"Conv2d\",\n",
    "            \"kargs\": {\n",
    "                \"in_channels\": 1,\n",
    "                \"out_channels\": 256,\n",
    "                \"kernel_size\": [1, 7],\n",
    "                \"bias\": False,\n",
    "                \"padding\": [0, 3],\n",
    "            },\n",
    "        },\n",
    "        {\"class\": \"ReLU\", \"kargs\": {\"inplace\": True}},\n",
    "        {\"class\": \"BatchNorm2d\", \"kargs\": {\"num_features\": 256}},\n",
    "        {\n",
    "            \"class\": \"Conv2d\",\n",
    "            \"kargs\": {\n",
    "                \"in_channels\": 256,\n",
    "                \"out_channels\": 80,\n",
    "                \"kernel_size\": [2, 7],\n",
    "                \"bias\": True,\n",
    "                \"padding\": [0, 3],\n",
    "            },\n",
    "        },\n",
    "        {\"class\": \"ReLU\", \"kargs\": {\"inplace\": True}},\n",
    "        {\"class\": \"BatchNorm2d\", \"kargs\": {\"num_features\": 80}},\n",
    "        {\"class\": \"Flatten\", \"kargs\": {}},\n",
    "        {\"class\": \"Linear\", \"kargs\": {\"in_features\": 20480, \"out_features\": 256}},\n",
    "        {\"class\": \"ReLU\", \"kargs\": {\"inplace\": True}},\n",
    "        {\"class\": \"BatchNorm1d\", \"kargs\": {\"num_features\": 256}},\n",
    "        {\"class\": \"Linear\", \"kargs\": {\"in_features\": 256, \"out_features\": 256}},\n",
    "    ],\n",
    "    \"NUM_LOGS_PER_EPOCH\": 10,\n",
    "    \"BEST_MODEL_PATH\": \"./best_model.pth\",\n",
    "    \"n_way\": 16,\n",
    "    \"datasets\": [\n",
    "        {\n",
    "            \"labels\": [\n",
    "                \"1-10.\",\n",
    "                \"1-11.\",\n",
    "                \"1-15.\",\n",
    "                \"1-16.\",\n",
    "                \"1-17.\",\n",
    "                \"1-18.\",\n",
    "                \"1-19.\",\n",
    "                \"10-4.\",\n",
    "                \"10-7.\",\n",
    "                \"11-1.\",\n",
    "                \"11-14.\",\n",
    "                \"11-17.\",\n",
    "                \"11-20.\",\n",
    "                \"11-7.\",\n",
    "                \"13-20.\",\n",
    "                \"13-8.\",\n",
    "                \"14-10.\",\n",
    "                \"14-11.\",\n",
    "                \"14-14.\",\n",
    "                \"14-7.\",\n",
    "                \"15-1.\",\n",
    "                \"15-20.\",\n",
    "                \"16-1.\",\n",
    "                \"16-16.\",\n",
    "                \"17-10.\",\n",
    "                \"17-11.\",\n",
    "                \"17-2.\",\n",
    "                \"19-1.\",\n",
    "                \"19-16.\",\n",
    "                \"19-19.\",\n",
    "                \"19-20.\",\n",
    "                \"19-3.\",\n",
    "                \"2-10.\",\n",
    "                \"2-11.\",\n",
    "                \"2-17.\",\n",
    "                \"2-18.\",\n",
    "                \"2-20.\",\n",
    "                \"2-3.\",\n",
    "                \"2-4.\",\n",
    "                \"2-5.\",\n",
    "                \"2-6.\",\n",
    "                \"2-7.\",\n",
    "                \"2-8.\",\n",
    "                \"3-13.\",\n",
    "                \"3-18.\",\n",
    "                \"3-3.\",\n",
    "                \"4-1.\",\n",
    "                \"4-10.\",\n",
    "                \"4-11.\",\n",
    "                \"4-19.\",\n",
    "                \"5-5.\",\n",
    "                \"6-15.\",\n",
    "                \"7-10.\",\n",
    "                \"7-14.\",\n",
    "                \"8-18.\",\n",
    "                \"8-20.\",\n",
    "                \"8-3.\",\n",
    "                \"8-8.\",\n",
    "            ],\n",
    "            \"domains\": [1, 2, 3, 4, 5],\n",
    "            \"num_examples_per_domain_per_label\": -1,\n",
    "            \"pickle_path\": \"/root/csc500-main/datasets/cores.stratified_ds.2022A.pkl\",\n",
    "            \"source_or_target_dataset\": \"target\",\n",
    "            \"x_transforms\": [\"jitter_256_5\", \"lowpass_+/-10MHz\", \"take_200\"],\n",
    "            \"episode_transforms\": [],\n",
    "            \"domain_prefix\": \"C_\",\n",
    "        },\n",
    "        {\n",
    "            \"labels\": [\n",
    "                \"3123D52\",\n",
    "                \"3123D65\",\n",
    "                \"3123D79\",\n",
    "                \"3123D80\",\n",
    "                \"3123D54\",\n",
    "                \"3123D70\",\n",
    "                \"3123D7B\",\n",
    "                \"3123D89\",\n",
    "                \"3123D58\",\n",
    "                \"3123D76\",\n",
    "                \"3123D7D\",\n",
    "                \"3123EFE\",\n",
    "                \"3123D64\",\n",
    "                \"3123D78\",\n",
    "                \"3123D7E\",\n",
    "                \"3124E4A\",\n",
    "            ],\n",
    "            \"domains\": [32, 38, 8, 44, 14, 50, 20, 26],\n",
    "            \"num_examples_per_domain_per_label\": 2000,\n",
    "            \"pickle_path\": \"/root/csc500-main/datasets/oracle.Run1_framed_2000Examples_stratified_ds.2022A.pkl\",\n",
    "            \"source_or_target_dataset\": \"source\",\n",
    "            \"x_transforms\": [\"jitter_256_5\", \"take_200\", \"resample_20Msps_to_25Msps\"],\n",
    "            \"episode_transforms\": [],\n",
    "            \"domain_prefix\": \"O_\",\n",
    "        },\n",
    "    ],\n",
    "    \"seed\": 1337,\n",
    "    \"dataset_seed\": 1337,\n",
    "}\n"
   ]
  },
  {
   "cell_type": "code",
   "execution_count": 5,
   "id": "8fa1cc33",
   "metadata": {
    "execution": {
     "iopub.execute_input": "2022-03-28T16:14:10.064352Z",
     "iopub.status.busy": "2022-03-28T16:14:10.063977Z",
     "iopub.status.idle": "2022-03-28T16:14:10.091878Z",
     "shell.execute_reply": "2022-03-28T16:14:10.091554Z"
    },
    "papermill": {
     "duration": 0.054526,
     "end_time": "2022-03-28T16:14:10.091949",
     "exception": false,
     "start_time": "2022-03-28T16:14:10.037423",
     "status": "completed"
    },
    "tags": []
   },
   "outputs": [],
   "source": [
    "# Set this to True if you want to run this template directly\n",
    "STANDALONE = False\n",
    "if STANDALONE:\n",
    "    print(\"parameters not injected, running with standalone_parameters\")\n",
    "    parameters = standalone_parameters\n",
    "\n",
    "if not 'parameters' in locals() and not 'parameters' in globals():\n",
    "    raise Exception(\"Parameter injection failed\")\n",
    "\n",
    "#Use an easy dict for all the parameters\n",
    "p = EasyDict(parameters)\n",
    "\n",
    "if \"x_shape\" not in p:\n",
    "    p.x_shape = [2,256] # Default to this if we dont supply x_shape\n",
    "\n",
    "\n",
    "supplied_keys = set(p.keys())\n",
    "\n",
    "if  supplied_keys != required_parameters:\n",
    "    print(\"Parameters are incorrect\")\n",
    "    if len(supplied_keys - required_parameters)>0: print(\"Shouldn't have:\", str(supplied_keys - required_parameters))\n",
    "    if len(required_parameters - supplied_keys)>0: print(\"Need to have:\", str(required_parameters - supplied_keys))\n",
    "    raise RuntimeError(\"Parameters are incorrect\")"
   ]
  },
  {
   "cell_type": "code",
   "execution_count": 6,
   "id": "3a028d58",
   "metadata": {
    "execution": {
     "iopub.execute_input": "2022-03-28T16:14:10.135464Z",
     "iopub.status.busy": "2022-03-28T16:14:10.135095Z",
     "iopub.status.idle": "2022-03-28T16:14:10.162030Z",
     "shell.execute_reply": "2022-03-28T16:14:10.162701Z"
    },
    "papermill": {
     "duration": 0.050951,
     "end_time": "2022-03-28T16:14:10.162879",
     "exception": false,
     "start_time": "2022-03-28T16:14:10.111928",
     "status": "completed"
    },
    "tags": []
   },
   "outputs": [],
   "source": [
    "###################################\n",
    "# Set the RNGs and make it all deterministic\n",
    "###################################\n",
    "np.random.seed(p.seed)\n",
    "random.seed(p.seed)\n",
    "torch.manual_seed(p.seed)\n",
    "\n",
    "torch.use_deterministic_algorithms(True) "
   ]
  },
  {
   "cell_type": "code",
   "execution_count": 7,
   "id": "b691acf6",
   "metadata": {
    "execution": {
     "iopub.execute_input": "2022-03-28T16:14:10.211963Z",
     "iopub.status.busy": "2022-03-28T16:14:10.211595Z",
     "iopub.status.idle": "2022-03-28T16:14:10.238746Z",
     "shell.execute_reply": "2022-03-28T16:14:10.238035Z"
    },
    "papermill": {
     "duration": 0.051205,
     "end_time": "2022-03-28T16:14:10.238900",
     "exception": false,
     "start_time": "2022-03-28T16:14:10.187695",
     "status": "completed"
    },
    "tags": []
   },
   "outputs": [],
   "source": [
    "###########################################\n",
    "# The stratified datasets honor this\n",
    "###########################################\n",
    "torch.set_default_dtype(eval(p.torch_default_dtype))"
   ]
  },
  {
   "cell_type": "code",
   "execution_count": 8,
   "id": "b5fba671",
   "metadata": {
    "execution": {
     "iopub.execute_input": "2022-03-28T16:14:10.291102Z",
     "iopub.status.busy": "2022-03-28T16:14:10.290733Z",
     "iopub.status.idle": "2022-03-28T16:14:10.358486Z",
     "shell.execute_reply": "2022-03-28T16:14:10.357763Z"
    },
    "papermill": {
     "duration": 0.092213,
     "end_time": "2022-03-28T16:14:10.358641",
     "exception": false,
     "start_time": "2022-03-28T16:14:10.266428",
     "status": "completed"
    },
    "tags": []
   },
   "outputs": [],
   "source": [
    "###################################\n",
    "# Build the network(s)\n",
    "# Note: It's critical to do this AFTER setting the RNG\n",
    "###################################\n",
    "x_net = build_sequential(p.x_net)"
   ]
  },
  {
   "cell_type": "code",
   "execution_count": 9,
   "id": "5d7e61cc",
   "metadata": {
    "execution": {
     "iopub.execute_input": "2022-03-28T16:14:10.408863Z",
     "iopub.status.busy": "2022-03-28T16:14:10.408499Z",
     "iopub.status.idle": "2022-03-28T16:14:10.436902Z",
     "shell.execute_reply": "2022-03-28T16:14:10.436189Z"
    },
    "papermill": {
     "duration": 0.052592,
     "end_time": "2022-03-28T16:14:10.437055",
     "exception": false,
     "start_time": "2022-03-28T16:14:10.384463",
     "status": "completed"
    },
    "tags": []
   },
   "outputs": [],
   "source": [
    "start_time_secs = time.time()"
   ]
  },
  {
   "cell_type": "code",
   "execution_count": 10,
   "id": "c6b67dfd",
   "metadata": {
    "execution": {
     "iopub.execute_input": "2022-03-28T16:14:10.490706Z",
     "iopub.status.busy": "2022-03-28T16:14:10.490144Z",
     "iopub.status.idle": "2022-03-28T16:14:10.516132Z",
     "shell.execute_reply": "2022-03-28T16:14:10.515390Z"
    },
    "papermill": {
     "duration": 0.050639,
     "end_time": "2022-03-28T16:14:10.516286",
     "exception": false,
     "start_time": "2022-03-28T16:14:10.465647",
     "status": "completed"
    },
    "tags": []
   },
   "outputs": [],
   "source": [
    "p.domains_source = []\n",
    "p.domains_target = []\n",
    "\n",
    "\n",
    "train_original_source = []\n",
    "val_original_source   = []\n",
    "test_original_source  = []\n",
    "\n",
    "train_original_target = []\n",
    "val_original_target   = []\n",
    "test_original_target  = []"
   ]
  },
  {
   "cell_type": "code",
   "execution_count": 11,
   "id": "e3d9c3d3",
   "metadata": {
    "execution": {
     "iopub.execute_input": "2022-03-28T16:14:10.567723Z",
     "iopub.status.busy": "2022-03-28T16:14:10.567332Z",
     "iopub.status.idle": "2022-03-28T16:14:10.597433Z",
     "shell.execute_reply": "2022-03-28T16:14:10.598112Z"
    },
    "papermill": {
     "duration": 0.054563,
     "end_time": "2022-03-28T16:14:10.598291",
     "exception": false,
     "start_time": "2022-03-28T16:14:10.543728",
     "status": "completed"
    },
    "tags": []
   },
   "outputs": [],
   "source": [
    "# global_x_transform_func = lambda x: normalize(x.to(torch.get_default_dtype()), \"unit_power\") # unit_power, unit_mag\n",
    "# global_x_transform_func = lambda x: normalize(x, \"unit_power\") # unit_power, unit_mag"
   ]
  },
  {
   "cell_type": "code",
   "execution_count": 12,
   "id": "acb78fd2",
   "metadata": {
    "execution": {
     "iopub.execute_input": "2022-03-28T16:14:10.654028Z",
     "iopub.status.busy": "2022-03-28T16:14:10.653641Z",
     "iopub.status.idle": "2022-03-28T16:14:10.682770Z",
     "shell.execute_reply": "2022-03-28T16:14:10.682056Z"
    },
    "papermill": {
     "duration": 0.058815,
     "end_time": "2022-03-28T16:14:10.682924",
     "exception": false,
     "start_time": "2022-03-28T16:14:10.624109",
     "status": "completed"
    },
    "tags": []
   },
   "outputs": [],
   "source": [
    "def add_dataset(\n",
    "    labels,\n",
    "    domains,\n",
    "    pickle_path,\n",
    "    x_transforms,\n",
    "    episode_transforms,\n",
    "    domain_prefix,\n",
    "    num_examples_per_domain_per_label,\n",
    "    source_or_target_dataset:str,\n",
    "    iterator_seed=p.seed,\n",
    "    dataset_seed=p.dataset_seed,\n",
    "    n_shot=p.n_shot,\n",
    "    n_way=p.n_way,\n",
    "    n_query=p.n_query,\n",
    "    train_val_test_k_factors=(p.train_k_factor,p.val_k_factor,p.test_k_factor),\n",
    "):\n",
    "   \n",
    "    if x_transforms == []: x_transform = None\n",
    "    else: x_transform = get_chained_transform(x_transforms)\n",
    "    \n",
    "    if episode_transforms == []: episode_transform = None\n",
    "    else: raise Exception(\"episode_transforms not implemented\")\n",
    "    \n",
    "    episode_transform = lambda tup, _prefix=domain_prefix: (_prefix + str(tup[0]), tup[1])\n",
    "\n",
    "\n",
    "    eaf = Episodic_Accessor_Factory(\n",
    "        labels=labels,\n",
    "        domains=domains,\n",
    "        num_examples_per_domain_per_label=num_examples_per_domain_per_label,\n",
    "        iterator_seed=iterator_seed,\n",
    "        dataset_seed=dataset_seed,\n",
    "        n_shot=n_shot,\n",
    "        n_way=n_way,\n",
    "        n_query=n_query,\n",
    "        train_val_test_k_factors=train_val_test_k_factors,\n",
    "        pickle_path=pickle_path,\n",
    "        x_transform_func=x_transform,\n",
    "    )\n",
    "\n",
    "    train, val, test = eaf.get_train(), eaf.get_val(), eaf.get_test()\n",
    "    train = Lazy_Iterable_Wrapper(train, episode_transform)\n",
    "    val = Lazy_Iterable_Wrapper(val, episode_transform)\n",
    "    test = Lazy_Iterable_Wrapper(test, episode_transform)\n",
    "\n",
    "    if source_or_target_dataset==\"source\":\n",
    "        train_original_source.append(train)\n",
    "        val_original_source.append(val)\n",
    "        test_original_source.append(test)\n",
    "\n",
    "        p.domains_source.extend(\n",
    "            [domain_prefix + str(u) for u in domains]\n",
    "        )\n",
    "    elif source_or_target_dataset==\"target\":\n",
    "        train_original_target.append(train)\n",
    "        val_original_target.append(val)\n",
    "        test_original_target.append(test)\n",
    "        p.domains_target.extend(\n",
    "            [domain_prefix + str(u) for u in domains]\n",
    "        )\n",
    "    else:\n",
    "        raise Exception(f\"invalid source_or_target_dataset: {source_or_target_dataset}\")\n",
    "    "
   ]
  },
  {
   "cell_type": "code",
   "execution_count": 13,
   "id": "fe266617",
   "metadata": {
    "execution": {
     "iopub.execute_input": "2022-03-28T16:14:10.736815Z",
     "iopub.status.busy": "2022-03-28T16:14:10.736450Z",
     "iopub.status.idle": "2022-03-28T16:15:15.264231Z",
     "shell.execute_reply": "2022-03-28T16:15:15.263366Z"
    },
    "papermill": {
     "duration": 64.552809,
     "end_time": "2022-03-28T16:15:15.264419",
     "exception": false,
     "start_time": "2022-03-28T16:14:10.711610",
     "status": "completed"
    },
    "tags": []
   },
   "outputs": [],
   "source": [
    "for ds in p.datasets:\n",
    "    add_dataset(**ds)"
   ]
  },
  {
   "cell_type": "code",
   "execution_count": 14,
   "id": "b90d65ac",
   "metadata": {
    "execution": {
     "iopub.execute_input": "2022-03-28T16:15:15.315084Z",
     "iopub.status.busy": "2022-03-28T16:15:15.314708Z",
     "iopub.status.idle": "2022-03-28T16:15:15.339264Z",
     "shell.execute_reply": "2022-03-28T16:15:15.338440Z"
    },
    "papermill": {
     "duration": 0.049352,
     "end_time": "2022-03-28T16:15:15.339434",
     "exception": false,
     "start_time": "2022-03-28T16:15:15.290082",
     "status": "completed"
    },
    "tags": []
   },
   "outputs": [],
   "source": [
    "# from steves_utils.CORES.utils import (\n",
    "#     ALL_NODES,\n",
    "#     ALL_NODES_MINIMUM_1000_EXAMPLES,\n",
    "#     ALL_DAYS\n",
    "# )\n",
    "\n",
    "# add_dataset(\n",
    "#     labels=ALL_NODES,\n",
    "#     domains = ALL_DAYS,\n",
    "#     num_examples_per_domain_per_label=100,\n",
    "#     pickle_path=os.path.join(get_datasets_base_path(), \"cores.stratified_ds.2022A.pkl\"),\n",
    "#     source_or_target_dataset=\"target\",\n",
    "#     x_transform_func=global_x_transform_func,\n",
    "#     domain_modifier=lambda u: f\"cores_{u}\"\n",
    "# )"
   ]
  },
  {
   "cell_type": "code",
   "execution_count": 15,
   "id": "76db484d",
   "metadata": {
    "execution": {
     "iopub.execute_input": "2022-03-28T16:15:15.396443Z",
     "iopub.status.busy": "2022-03-28T16:15:15.396066Z",
     "iopub.status.idle": "2022-03-28T16:15:15.419967Z",
     "shell.execute_reply": "2022-03-28T16:15:15.419330Z"
    },
    "papermill": {
     "duration": 0.04946,
     "end_time": "2022-03-28T16:15:15.420108",
     "exception": false,
     "start_time": "2022-03-28T16:15:15.370648",
     "status": "completed"
    },
    "tags": []
   },
   "outputs": [],
   "source": [
    "# from steves_utils.ORACLE.utils_v2 import (\n",
    "#     ALL_DISTANCES_FEET,\n",
    "#     ALL_RUNS,\n",
    "#     ALL_SERIAL_NUMBERS,\n",
    "# )\n",
    "\n",
    "\n",
    "# add_dataset(\n",
    "#     labels=ALL_SERIAL_NUMBERS,\n",
    "#     domains = list(set(ALL_DISTANCES_FEET) - {2,62}),\n",
    "#     num_examples_per_domain_per_label=100,\n",
    "#     pickle_path=os.path.join(get_datasets_base_path(), \"oracle.Run2_framed_2000Examples_stratified_ds.2022A.pkl\"),\n",
    "#     source_or_target_dataset=\"source\",\n",
    "#     x_transform_func=global_x_transform_func,\n",
    "#     domain_modifier=lambda u: f\"oracle1_{u}\"\n",
    "# )\n"
   ]
  },
  {
   "cell_type": "code",
   "execution_count": 16,
   "id": "97dea9d2",
   "metadata": {
    "execution": {
     "iopub.execute_input": "2022-03-28T16:15:15.473457Z",
     "iopub.status.busy": "2022-03-28T16:15:15.472890Z",
     "iopub.status.idle": "2022-03-28T16:15:15.497651Z",
     "shell.execute_reply": "2022-03-28T16:15:15.496714Z"
    },
    "papermill": {
     "duration": 0.049365,
     "end_time": "2022-03-28T16:15:15.497808",
     "exception": false,
     "start_time": "2022-03-28T16:15:15.448443",
     "status": "completed"
    },
    "tags": []
   },
   "outputs": [],
   "source": [
    "# from steves_utils.ORACLE.utils_v2 import (\n",
    "#     ALL_DISTANCES_FEET,\n",
    "#     ALL_RUNS,\n",
    "#     ALL_SERIAL_NUMBERS,\n",
    "# )\n",
    "\n",
    "\n",
    "# add_dataset(\n",
    "#     labels=ALL_SERIAL_NUMBERS,\n",
    "#     domains = list(set(ALL_DISTANCES_FEET) - {2,62,56}),\n",
    "#     num_examples_per_domain_per_label=100,\n",
    "#     pickle_path=os.path.join(get_datasets_base_path(), \"oracle.Run2_framed_2000Examples_stratified_ds.2022A.pkl\"),\n",
    "#     source_or_target_dataset=\"source\",\n",
    "#     x_transform_func=global_x_transform_func,\n",
    "#     domain_modifier=lambda u: f\"oracle2_{u}\"\n",
    "# )"
   ]
  },
  {
   "cell_type": "code",
   "execution_count": 17,
   "id": "6f289866",
   "metadata": {
    "execution": {
     "iopub.execute_input": "2022-03-28T16:15:15.556135Z",
     "iopub.status.busy": "2022-03-28T16:15:15.550084Z",
     "iopub.status.idle": "2022-03-28T16:15:15.574276Z",
     "shell.execute_reply": "2022-03-28T16:15:15.573472Z"
    },
    "papermill": {
     "duration": 0.049356,
     "end_time": "2022-03-28T16:15:15.574429",
     "exception": false,
     "start_time": "2022-03-28T16:15:15.525073",
     "status": "completed"
    },
    "tags": []
   },
   "outputs": [],
   "source": [
    "# add_dataset(\n",
    "#     labels=list(range(19)),\n",
    "#     domains = [0,1,2],\n",
    "#     num_examples_per_domain_per_label=100,\n",
    "#     pickle_path=os.path.join(get_datasets_base_path(), \"metehan.stratified_ds.2022A.pkl\"),\n",
    "#     source_or_target_dataset=\"target\",\n",
    "#     x_transform_func=global_x_transform_func,\n",
    "#     domain_modifier=lambda u: f\"met_{u}\"\n",
    "# )"
   ]
  },
  {
   "cell_type": "code",
   "execution_count": 18,
   "id": "86a863c3",
   "metadata": {
    "execution": {
     "iopub.execute_input": "2022-03-28T16:15:15.626318Z",
     "iopub.status.busy": "2022-03-28T16:15:15.625762Z",
     "iopub.status.idle": "2022-03-28T16:15:15.646374Z",
     "shell.execute_reply": "2022-03-28T16:15:15.645569Z"
    },
    "papermill": {
     "duration": 0.04574,
     "end_time": "2022-03-28T16:15:15.646540",
     "exception": false,
     "start_time": "2022-03-28T16:15:15.600800",
     "status": "completed"
    },
    "tags": []
   },
   "outputs": [],
   "source": [
    "# # from steves_utils.wisig.utils import (\n",
    "# #     ALL_NODES_MINIMUM_100_EXAMPLES,\n",
    "# #     ALL_NODES_MINIMUM_500_EXAMPLES,\n",
    "# #     ALL_NODES_MINIMUM_1000_EXAMPLES,\n",
    "# #     ALL_DAYS\n",
    "# # )\n",
    "\n",
    "# import steves_utils.wisig.utils as wisig\n",
    "\n",
    "\n",
    "# add_dataset(\n",
    "#     labels=wisig.ALL_NODES_MINIMUM_100_EXAMPLES,\n",
    "#     domains = wisig.ALL_DAYS,\n",
    "#     num_examples_per_domain_per_label=100,\n",
    "#     pickle_path=os.path.join(get_datasets_base_path(), \"wisig.node3-19.stratified_ds.2022A.pkl\"),\n",
    "#     source_or_target_dataset=\"target\",\n",
    "#     x_transform_func=global_x_transform_func,\n",
    "#     domain_modifier=lambda u: f\"wisig_{u}\"\n",
    "# )"
   ]
  },
  {
   "cell_type": "code",
   "execution_count": 19,
   "id": "fd5442bc",
   "metadata": {
    "execution": {
     "iopub.execute_input": "2022-03-28T16:15:15.708686Z",
     "iopub.status.busy": "2022-03-28T16:15:15.704194Z",
     "iopub.status.idle": "2022-03-28T16:15:15.723958Z",
     "shell.execute_reply": "2022-03-28T16:15:15.723106Z"
    },
    "papermill": {
     "duration": 0.051024,
     "end_time": "2022-03-28T16:15:15.724112",
     "exception": false,
     "start_time": "2022-03-28T16:15:15.673088",
     "status": "completed"
    },
    "tags": []
   },
   "outputs": [],
   "source": [
    "###################################\n",
    "# Build the dataset\n",
    "###################################\n",
    "train_original_source = Iterable_Aggregator(train_original_source, p.seed)\n",
    "val_original_source = Iterable_Aggregator(val_original_source, p.seed)\n",
    "test_original_source = Iterable_Aggregator(test_original_source, p.seed)\n",
    "\n",
    "\n",
    "train_original_target = Iterable_Aggregator(train_original_target, p.seed)\n",
    "val_original_target = Iterable_Aggregator(val_original_target, p.seed)\n",
    "test_original_target = Iterable_Aggregator(test_original_target, p.seed)\n",
    "\n",
    "# For CNN We only use X and Y. And we only train on the source.\n",
    "# Properly form the data using a transform lambda and Lazy_Iterable_Wrapper. Finally wrap them in a dataloader\n",
    "\n",
    "transform_lambda = lambda ex: ex[1] # Original is (<domain>, <episode>) so we strip down to episode only\n",
    "\n",
    "train_processed_source = Lazy_Iterable_Wrapper(train_original_source, transform_lambda)\n",
    "val_processed_source   = Lazy_Iterable_Wrapper(val_original_source, transform_lambda)\n",
    "test_processed_source  = Lazy_Iterable_Wrapper(test_original_source, transform_lambda)\n",
    "\n",
    "train_processed_target = Lazy_Iterable_Wrapper(train_original_target, transform_lambda)\n",
    "val_processed_target   = Lazy_Iterable_Wrapper(val_original_target, transform_lambda)\n",
    "test_processed_target  = Lazy_Iterable_Wrapper(test_original_target, transform_lambda)\n",
    "\n",
    "datasets = EasyDict({\n",
    "    \"source\": {\n",
    "        \"original\": {\"train\":train_original_source, \"val\":val_original_source, \"test\":test_original_source},\n",
    "        \"processed\": {\"train\":train_processed_source, \"val\":val_processed_source, \"test\":test_processed_source}\n",
    "    },\n",
    "    \"target\": {\n",
    "        \"original\": {\"train\":train_original_target, \"val\":val_original_target, \"test\":test_original_target},\n",
    "        \"processed\": {\"train\":train_processed_target, \"val\":val_processed_target, \"test\":test_processed_target}\n",
    "    },\n",
    "})"
   ]
  },
  {
   "cell_type": "code",
   "execution_count": 20,
   "id": "5b3c01fc",
   "metadata": {
    "execution": {
     "iopub.execute_input": "2022-03-28T16:15:15.778734Z",
     "iopub.status.busy": "2022-03-28T16:15:15.777724Z",
     "iopub.status.idle": "2022-03-28T16:15:29.785744Z",
     "shell.execute_reply": "2022-03-28T16:15:29.784941Z"
    },
    "papermill": {
     "duration": 14.033991,
     "end_time": "2022-03-28T16:15:29.785969",
     "exception": false,
     "start_time": "2022-03-28T16:15:15.751978",
     "status": "completed"
    },
    "tags": []
   },
   "outputs": [
    {
     "name": "stdout",
     "output_type": "stream",
     "text": [
      "{'O_14', 'O_26', 'O_20', 'O_32', 'O_44', 'O_50', 'O_38', 'O_8'}\n"
     ]
    },
    {
     "name": "stdout",
     "output_type": "stream",
     "text": [
      "{'C_4', 'C_5', 'C_3', 'C_2', 'C_1'}\n"
     ]
    },
    {
     "name": "stdout",
     "output_type": "stream",
     "text": [
      "tensor([[[0., 0., 0.,  ..., 0., 0., 0.],\n",
      "         [0., 0., 0.,  ..., 0., 0., 0.]],\n",
      "\n",
      "        [[0., 0., 0.,  ..., 0., 0., 0.],\n",
      "         [0., 0., 0.,  ..., 0., 0., 0.]],\n",
      "\n",
      "        [[0., 0., 0.,  ..., 0., 0., 0.],\n",
      "         [0., 0., 0.,  ..., 0., 0., 0.]],\n",
      "\n",
      "        ...,\n",
      "\n",
      "        [[0., 0., 0.,  ..., 0., 0., 0.],\n",
      "         [0., 0., 0.,  ..., 0., 0., 0.]],\n",
      "\n",
      "        [[0., 0., 0.,  ..., 0., 0., 0.],\n",
      "         [0., 0., 0.,  ..., 0., 0., 0.]],\n",
      "\n",
      "        [[0., 0., 0.,  ..., 0., 0., 0.],\n",
      "         [0., 0., 0.,  ..., 0., 0., 0.]]])\n"
     ]
    }
   ],
   "source": [
    "from steves_utils.transforms import get_average_magnitude, get_average_power\n",
    "\n",
    "print(set([u for u,_ in val_original_source]))\n",
    "print(set([u for u,_ in val_original_target]))\n",
    "\n",
    "s_x, s_y, q_x, q_y, _ = next(iter(train_processed_source))\n",
    "print(s_x)\n",
    "\n",
    "# for ds in [\n",
    "#     train_processed_source,\n",
    "#     val_processed_source,\n",
    "#     test_processed_source,\n",
    "#     train_processed_target,\n",
    "#     val_processed_target,\n",
    "#     test_processed_target\n",
    "# ]:\n",
    "#     for s_x, s_y, q_x, q_y, _ in ds:\n",
    "#         for X in (s_x, q_x):\n",
    "#             for x in X:\n",
    "#                 assert np.isclose(get_average_magnitude(x.numpy()), 1.0)\n",
    "#                 assert np.isclose(get_average_power(x.numpy()), 1.0)\n",
    "                "
   ]
  },
  {
   "cell_type": "code",
   "execution_count": 21,
   "id": "bbdacba1",
   "metadata": {
    "execution": {
     "iopub.execute_input": "2022-03-28T16:15:29.845924Z",
     "iopub.status.busy": "2022-03-28T16:15:29.845552Z",
     "iopub.status.idle": "2022-03-28T16:15:30.042599Z",
     "shell.execute_reply": "2022-03-28T16:15:30.042270Z"
    },
    "papermill": {
     "duration": 0.226283,
     "end_time": "2022-03-28T16:15:30.042682",
     "exception": false,
     "start_time": "2022-03-28T16:15:29.816399",
     "status": "completed"
    },
    "tags": []
   },
   "outputs": [
    {
     "name": "stdout",
     "output_type": "stream",
     "text": [
      "(2, 256)\n"
     ]
    }
   ],
   "source": [
    "###################################\n",
    "# Build the model\n",
    "###################################\n",
    "# easfsl only wants a tuple for the shape\n",
    "model = Steves_Prototypical_Network(x_net, device=p.device, x_shape=tuple(p.x_shape))\n",
    "optimizer = Adam(params=model.parameters(), lr=p.lr)"
   ]
  },
  {
   "cell_type": "code",
   "execution_count": 22,
   "id": "22b39ac5",
   "metadata": {
    "execution": {
     "iopub.execute_input": "2022-03-28T16:15:30.092054Z",
     "iopub.status.busy": "2022-03-28T16:15:30.091675Z",
     "iopub.status.idle": "2022-03-28T16:37:25.968418Z",
     "shell.execute_reply": "2022-03-28T16:37:25.968076Z"
    },
    "papermill": {
     "duration": 1315.902876,
     "end_time": "2022-03-28T16:37:25.968502",
     "exception": false,
     "start_time": "2022-03-28T16:15:30.065626",
     "status": "completed"
    },
    "tags": []
   },
   "outputs": [
    {
     "name": "stdout",
     "output_type": "stream",
     "text": [
      "epoch: 1, [batch: 1 / 6720], examples_per_second: 32.2163, train_label_loss: 2.7107, \n"
     ]
    },
    {
     "name": "stdout",
     "output_type": "stream",
     "text": [
      "epoch: 1, [batch: 672 / 6720], examples_per_second: 4738.7395, train_label_loss: 1.2214, \n"
     ]
    },
    {
     "name": "stdout",
     "output_type": "stream",
     "text": [
      "epoch: 1, [batch: 1344 / 6720], examples_per_second: 5221.0832, train_label_loss: 0.9149, \n"
     ]
    },
    {
     "name": "stdout",
     "output_type": "stream",
     "text": [
      "epoch: 1, [batch: 2016 / 6720], examples_per_second: 5100.6183, train_label_loss: 0.6589, \n"
     ]
    },
    {
     "name": "stdout",
     "output_type": "stream",
     "text": [
      "epoch: 1, [batch: 2688 / 6720], examples_per_second: 5117.7494, train_label_loss: 0.7535, \n"
     ]
    },
    {
     "name": "stdout",
     "output_type": "stream",
     "text": [
      "epoch: 1, [batch: 3360 / 6720], examples_per_second: 4928.6098, train_label_loss: 0.6312, \n"
     ]
    },
    {
     "name": "stdout",
     "output_type": "stream",
     "text": [
      "epoch: 1, [batch: 4032 / 6720], examples_per_second: 4937.8408, train_label_loss: 0.5370, \n"
     ]
    },
    {
     "name": "stdout",
     "output_type": "stream",
     "text": [
      "epoch: 1, [batch: 4704 / 6720], examples_per_second: 4912.7724, train_label_loss: 0.5388, \n"
     ]
    },
    {
     "name": "stdout",
     "output_type": "stream",
     "text": [
      "epoch: 1, [batch: 5376 / 6720], examples_per_second: 4898.9095, train_label_loss: 0.3364, \n"
     ]
    },
    {
     "name": "stdout",
     "output_type": "stream",
     "text": [
      "epoch: 1, [batch: 6048 / 6720], examples_per_second: 4974.1139, train_label_loss: 0.5053, \n"
     ]
    },
    {
     "name": "stdout",
     "output_type": "stream",
     "text": [
      "=============================================================\n",
      "epoch: 1, source_val_acc_label: 0.5040, target_val_acc_label: 0.4988, source_val_label_loss: 7.1517, target_val_label_loss: 2641.9348, \n",
      "=============================================================\n"
     ]
    },
    {
     "name": "stdout",
     "output_type": "stream",
     "text": [
      "New best\n"
     ]
    },
    {
     "name": "stdout",
     "output_type": "stream",
     "text": [
      "epoch: 2, [batch: 1 / 6720], examples_per_second: 4.4124, train_label_loss: 22.1018, \n"
     ]
    },
    {
     "name": "stdout",
     "output_type": "stream",
     "text": [
      "epoch: 2, [batch: 672 / 6720], examples_per_second: 3816.8561, train_label_loss: 0.8886, \n"
     ]
    },
    {
     "name": "stdout",
     "output_type": "stream",
     "text": [
      "epoch: 2, [batch: 1344 / 6720], examples_per_second: 3880.5353, train_label_loss: 0.5763, \n"
     ]
    },
    {
     "name": "stdout",
     "output_type": "stream",
     "text": [
      "epoch: 2, [batch: 2016 / 6720], examples_per_second: 3881.9694, train_label_loss: 0.6395, \n"
     ]
    },
    {
     "name": "stdout",
     "output_type": "stream",
     "text": [
      "epoch: 2, [batch: 2688 / 6720], examples_per_second: 3870.0098, train_label_loss: 0.6520, \n"
     ]
    },
    {
     "name": "stdout",
     "output_type": "stream",
     "text": [
      "epoch: 2, [batch: 3360 / 6720], examples_per_second: 3920.9102, train_label_loss: 0.6098, \n"
     ]
    },
    {
     "name": "stdout",
     "output_type": "stream",
     "text": [
      "epoch: 2, [batch: 4032 / 6720], examples_per_second: 3920.6737, train_label_loss: 0.5239, \n"
     ]
    },
    {
     "name": "stdout",
     "output_type": "stream",
     "text": [
      "epoch: 2, [batch: 4704 / 6720], examples_per_second: 3899.5877, train_label_loss: 0.4550, \n"
     ]
    },
    {
     "name": "stdout",
     "output_type": "stream",
     "text": [
      "epoch: 2, [batch: 5376 / 6720], examples_per_second: 4105.2001, train_label_loss: 0.7569, \n"
     ]
    },
    {
     "name": "stdout",
     "output_type": "stream",
     "text": [
      "epoch: 2, [batch: 6048 / 6720], examples_per_second: 4454.1407, train_label_loss: 0.6920, \n"
     ]
    },
    {
     "name": "stdout",
     "output_type": "stream",
     "text": [
      "=============================================================\n",
      "epoch: 2, source_val_acc_label: 0.8240, target_val_acc_label: 0.5670, source_val_label_loss: 0.4900, target_val_label_loss: 714.9317, \n",
      "=============================================================\n"
     ]
    },
    {
     "name": "stdout",
     "output_type": "stream",
     "text": [
      "New best\n"
     ]
    },
    {
     "name": "stdout",
     "output_type": "stream",
     "text": [
      "epoch: 3, [batch: 1 / 6720], examples_per_second: 4.3337, train_label_loss: 0.3325, \n"
     ]
    },
    {
     "name": "stdout",
     "output_type": "stream",
     "text": [
      "epoch: 3, [batch: 672 / 6720], examples_per_second: 4001.8070, train_label_loss: 0.2492, \n"
     ]
    },
    {
     "name": "stdout",
     "output_type": "stream",
     "text": [
      "epoch: 3, [batch: 1344 / 6720], examples_per_second: 3980.5168, train_label_loss: 0.5018, \n"
     ]
    },
    {
     "name": "stdout",
     "output_type": "stream",
     "text": [
      "epoch: 3, [batch: 2016 / 6720], examples_per_second: 3934.7179, train_label_loss: 0.2551, \n"
     ]
    },
    {
     "name": "stdout",
     "output_type": "stream",
     "text": [
      "epoch: 3, [batch: 2688 / 6720], examples_per_second: 3939.0437, train_label_loss: 0.4558, \n"
     ]
    },
    {
     "name": "stdout",
     "output_type": "stream",
     "text": [
      "epoch: 3, [batch: 3360 / 6720], examples_per_second: 3955.8199, train_label_loss: 0.4844, \n"
     ]
    },
    {
     "name": "stdout",
     "output_type": "stream",
     "text": [
      "epoch: 3, [batch: 4032 / 6720], examples_per_second: 4057.1555, train_label_loss: 0.4731, \n"
     ]
    },
    {
     "name": "stdout",
     "output_type": "stream",
     "text": [
      "epoch: 3, [batch: 4704 / 6720], examples_per_second: 4026.5279, train_label_loss: 0.3127, \n"
     ]
    },
    {
     "name": "stdout",
     "output_type": "stream",
     "text": [
      "epoch: 3, [batch: 5376 / 6720], examples_per_second: 4002.9416, train_label_loss: 0.2822, \n"
     ]
    },
    {
     "name": "stdout",
     "output_type": "stream",
     "text": [
      "epoch: 3, [batch: 6048 / 6720], examples_per_second: 4363.8566, train_label_loss: 0.1872, \n"
     ]
    },
    {
     "name": "stdout",
     "output_type": "stream",
     "text": [
      "=============================================================\n",
      "epoch: 3, source_val_acc_label: 0.8459, target_val_acc_label: 0.5919, source_val_label_loss: 0.4264, target_val_label_loss: 598.4197, \n",
      "=============================================================\n"
     ]
    },
    {
     "name": "stdout",
     "output_type": "stream",
     "text": [
      "New best\n"
     ]
    },
    {
     "name": "stdout",
     "output_type": "stream",
     "text": [
      "epoch: 4, [batch: 1 / 6720], examples_per_second: 4.3759, train_label_loss: 0.1615, \n"
     ]
    },
    {
     "name": "stdout",
     "output_type": "stream",
     "text": [
      "epoch: 4, [batch: 672 / 6720], examples_per_second: 3932.9407, train_label_loss: 0.3757, \n"
     ]
    },
    {
     "name": "stdout",
     "output_type": "stream",
     "text": [
      "epoch: 4, [batch: 1344 / 6720], examples_per_second: 4002.9279, train_label_loss: 0.4813, \n"
     ]
    },
    {
     "name": "stdout",
     "output_type": "stream",
     "text": [
      "epoch: 4, [batch: 2016 / 6720], examples_per_second: 4040.1723, train_label_loss: 0.4290, \n"
     ]
    },
    {
     "name": "stdout",
     "output_type": "stream",
     "text": [
      "epoch: 4, [batch: 2688 / 6720], examples_per_second: 3973.4876, train_label_loss: 0.3993, \n"
     ]
    },
    {
     "name": "stdout",
     "output_type": "stream",
     "text": [
      "epoch: 4, [batch: 3360 / 6720], examples_per_second: 3874.4441, train_label_loss: 0.2033, \n"
     ]
    },
    {
     "name": "stdout",
     "output_type": "stream",
     "text": [
      "epoch: 4, [batch: 4032 / 6720], examples_per_second: 3935.2415, train_label_loss: 0.3402, \n"
     ]
    },
    {
     "name": "stdout",
     "output_type": "stream",
     "text": [
      "epoch: 4, [batch: 4704 / 6720], examples_per_second: 3901.6740, train_label_loss: 0.2739, \n"
     ]
    },
    {
     "name": "stdout",
     "output_type": "stream",
     "text": [
      "epoch: 4, [batch: 5376 / 6720], examples_per_second: 3856.0390, train_label_loss: 0.2189, \n"
     ]
    },
    {
     "name": "stdout",
     "output_type": "stream",
     "text": [
      "epoch: 4, [batch: 6048 / 6720], examples_per_second: 4239.4516, train_label_loss: 0.2768, \n"
     ]
    },
    {
     "name": "stdout",
     "output_type": "stream",
     "text": [
      "=============================================================\n",
      "epoch: 4, source_val_acc_label: 0.8726, target_val_acc_label: 0.7571, source_val_label_loss: 0.3517, target_val_label_loss: 240.8918, \n",
      "=============================================================\n"
     ]
    },
    {
     "name": "stdout",
     "output_type": "stream",
     "text": [
      "New best\n"
     ]
    },
    {
     "name": "stdout",
     "output_type": "stream",
     "text": [
      "epoch: 5, [batch: 1 / 6720], examples_per_second: 4.5185, train_label_loss: 0.3112, \n"
     ]
    },
    {
     "name": "stdout",
     "output_type": "stream",
     "text": [
      "epoch: 5, [batch: 672 / 6720], examples_per_second: 3831.2521, train_label_loss: 0.1799, \n"
     ]
    },
    {
     "name": "stdout",
     "output_type": "stream",
     "text": [
      "epoch: 5, [batch: 1344 / 6720], examples_per_second: 3951.5574, train_label_loss: 0.5900, \n"
     ]
    },
    {
     "name": "stdout",
     "output_type": "stream",
     "text": [
      "epoch: 5, [batch: 2016 / 6720], examples_per_second: 3861.8005, train_label_loss: 0.4460, \n"
     ]
    },
    {
     "name": "stdout",
     "output_type": "stream",
     "text": [
      "epoch: 5, [batch: 2688 / 6720], examples_per_second: 3827.6486, train_label_loss: 0.1623, \n"
     ]
    },
    {
     "name": "stdout",
     "output_type": "stream",
     "text": [
      "epoch: 5, [batch: 3360 / 6720], examples_per_second: 3901.8155, train_label_loss: 0.4809, \n"
     ]
    },
    {
     "name": "stdout",
     "output_type": "stream",
     "text": [
      "epoch: 5, [batch: 4032 / 6720], examples_per_second: 3952.1174, train_label_loss: 0.3290, \n"
     ]
    },
    {
     "name": "stdout",
     "output_type": "stream",
     "text": [
      "epoch: 5, [batch: 4704 / 6720], examples_per_second: 3916.3867, train_label_loss: 0.1641, \n"
     ]
    },
    {
     "name": "stdout",
     "output_type": "stream",
     "text": [
      "epoch: 5, [batch: 5376 / 6720], examples_per_second: 3990.3626, train_label_loss: 0.4441, \n"
     ]
    },
    {
     "name": "stdout",
     "output_type": "stream",
     "text": [
      "epoch: 5, [batch: 6048 / 6720], examples_per_second: 4035.3291, train_label_loss: 0.3606, \n"
     ]
    },
    {
     "name": "stdout",
     "output_type": "stream",
     "text": [
      "=============================================================\n",
      "epoch: 5, source_val_acc_label: 0.8684, target_val_acc_label: 0.7333, source_val_label_loss: 0.3607, target_val_label_loss: 389.0884, \n",
      "=============================================================\n"
     ]
    },
    {
     "name": "stdout",
     "output_type": "stream",
     "text": [
      "epoch: 6, [batch: 1 / 6720], examples_per_second: 4.4348, train_label_loss: 0.3892, \n"
     ]
    },
    {
     "name": "stdout",
     "output_type": "stream",
     "text": [
      "epoch: 6, [batch: 672 / 6720], examples_per_second: 3898.8232, train_label_loss: 0.4313, \n"
     ]
    },
    {
     "name": "stdout",
     "output_type": "stream",
     "text": [
      "epoch: 6, [batch: 1344 / 6720], examples_per_second: 4031.2969, train_label_loss: 0.4202, \n"
     ]
    },
    {
     "name": "stdout",
     "output_type": "stream",
     "text": [
      "epoch: 6, [batch: 2016 / 6720], examples_per_second: 4057.0799, train_label_loss: 0.3095, \n"
     ]
    },
    {
     "name": "stdout",
     "output_type": "stream",
     "text": [
      "epoch: 6, [batch: 2688 / 6720], examples_per_second: 4042.0341, train_label_loss: 0.2036, \n"
     ]
    },
    {
     "name": "stdout",
     "output_type": "stream",
     "text": [
      "epoch: 6, [batch: 3360 / 6720], examples_per_second: 4022.1712, train_label_loss: 0.2779, \n"
     ]
    },
    {
     "name": "stdout",
     "output_type": "stream",
     "text": [
      "epoch: 6, [batch: 4032 / 6720], examples_per_second: 4026.1084, train_label_loss: 0.2810, \n"
     ]
    },
    {
     "name": "stdout",
     "output_type": "stream",
     "text": [
      "epoch: 6, [batch: 4704 / 6720], examples_per_second: 3886.9355, train_label_loss: 0.4593, \n"
     ]
    },
    {
     "name": "stdout",
     "output_type": "stream",
     "text": [
      "epoch: 6, [batch: 5376 / 6720], examples_per_second: 3427.5863, train_label_loss: 0.3872, \n"
     ]
    },
    {
     "name": "stdout",
     "output_type": "stream",
     "text": [
      "epoch: 6, [batch: 6048 / 6720], examples_per_second: 3162.5930, train_label_loss: 0.0984, \n"
     ]
    },
    {
     "name": "stdout",
     "output_type": "stream",
     "text": [
      "=============================================================\n",
      "epoch: 6, source_val_acc_label: 0.8867, target_val_acc_label: 0.6891, source_val_label_loss: 0.3156, target_val_label_loss: 748.6068, \n",
      "=============================================================\n"
     ]
    },
    {
     "name": "stdout",
     "output_type": "stream",
     "text": [
      "epoch: 7, [batch: 1 / 6720], examples_per_second: 3.2471, train_label_loss: 0.1410, \n"
     ]
    },
    {
     "name": "stdout",
     "output_type": "stream",
     "text": [
      "epoch: 7, [batch: 672 / 6720], examples_per_second: 2968.3758, train_label_loss: 0.5817, \n"
     ]
    },
    {
     "name": "stdout",
     "output_type": "stream",
     "text": [
      "epoch: 7, [batch: 1344 / 6720], examples_per_second: 3070.0932, train_label_loss: 0.3814, \n"
     ]
    },
    {
     "name": "stdout",
     "output_type": "stream",
     "text": [
      "epoch: 7, [batch: 2016 / 6720], examples_per_second: 2961.5816, train_label_loss: 0.3119, \n"
     ]
    },
    {
     "name": "stdout",
     "output_type": "stream",
     "text": [
      "epoch: 7, [batch: 2688 / 6720], examples_per_second: 3029.4731, train_label_loss: 0.5465, \n"
     ]
    },
    {
     "name": "stdout",
     "output_type": "stream",
     "text": [
      "epoch: 7, [batch: 3360 / 6720], examples_per_second: 2997.8598, train_label_loss: 0.5477, \n"
     ]
    },
    {
     "name": "stdout",
     "output_type": "stream",
     "text": [
      "epoch: 7, [batch: 4032 / 6720], examples_per_second: 3311.5916, train_label_loss: 0.1715, \n"
     ]
    },
    {
     "name": "stdout",
     "output_type": "stream",
     "text": [
      "epoch: 7, [batch: 4704 / 6720], examples_per_second: 3485.5424, train_label_loss: 0.3861, \n"
     ]
    },
    {
     "name": "stdout",
     "output_type": "stream",
     "text": [
      "epoch: 7, [batch: 5376 / 6720], examples_per_second: 3624.0690, train_label_loss: 0.3029, \n"
     ]
    },
    {
     "name": "stdout",
     "output_type": "stream",
     "text": [
      "epoch: 7, [batch: 6048 / 6720], examples_per_second: 3115.8447, train_label_loss: 0.2799, \n"
     ]
    },
    {
     "name": "stdout",
     "output_type": "stream",
     "text": [
      "=============================================================\n",
      "epoch: 7, source_val_acc_label: 0.8825, target_val_acc_label: 0.6420, source_val_label_loss: 0.3249, target_val_label_loss: 1192.8456, \n",
      "=============================================================\n"
     ]
    },
    {
     "name": "stdout",
     "output_type": "stream",
     "text": [
      "epoch: 8, [batch: 1 / 6720], examples_per_second: 3.2535, train_label_loss: 0.2492, \n"
     ]
    },
    {
     "name": "stdout",
     "output_type": "stream",
     "text": [
      "epoch: 8, [batch: 672 / 6720], examples_per_second: 3386.4372, train_label_loss: 0.6091, \n"
     ]
    },
    {
     "name": "stdout",
     "output_type": "stream",
     "text": [
      "epoch: 8, [batch: 1344 / 6720], examples_per_second: 3482.6863, train_label_loss: 0.2928, \n"
     ]
    },
    {
     "name": "stdout",
     "output_type": "stream",
     "text": [
      "epoch: 8, [batch: 2016 / 6720], examples_per_second: 3459.2859, train_label_loss: 0.3961, \n"
     ]
    },
    {
     "name": "stdout",
     "output_type": "stream",
     "text": [
      "epoch: 8, [batch: 2688 / 6720], examples_per_second: 3344.7710, train_label_loss: 0.2861, \n"
     ]
    },
    {
     "name": "stdout",
     "output_type": "stream",
     "text": [
      "epoch: 8, [batch: 3360 / 6720], examples_per_second: 3378.2438, train_label_loss: 0.2439, \n"
     ]
    },
    {
     "name": "stdout",
     "output_type": "stream",
     "text": [
      "epoch: 8, [batch: 4032 / 6720], examples_per_second: 3584.5674, train_label_loss: 0.1723, \n"
     ]
    },
    {
     "name": "stdout",
     "output_type": "stream",
     "text": [
      "epoch: 8, [batch: 4704 / 6720], examples_per_second: 4250.2932, train_label_loss: 0.1748, \n"
     ]
    },
    {
     "name": "stdout",
     "output_type": "stream",
     "text": [
      "epoch: 8, [batch: 5376 / 6720], examples_per_second: 4760.6245, train_label_loss: 0.5424, \n"
     ]
    },
    {
     "name": "stdout",
     "output_type": "stream",
     "text": [
      "epoch: 8, [batch: 6048 / 6720], examples_per_second: 3926.4682, train_label_loss: 0.3266, \n"
     ]
    },
    {
     "name": "stdout",
     "output_type": "stream",
     "text": [
      "=============================================================\n",
      "epoch: 8, source_val_acc_label: 0.8850, target_val_acc_label: 0.6469, source_val_label_loss: 0.3229, target_val_label_loss: 1408.5779, \n",
      "=============================================================\n"
     ]
    },
    {
     "name": "stdout",
     "output_type": "stream",
     "text": [
      "Patience (3) exhausted\n"
     ]
    }
   ],
   "source": [
    "###################################\n",
    "# train\n",
    "###################################\n",
    "jig = PTN_Train_Eval_Test_Jig(model, p.BEST_MODEL_PATH, p.device)\n",
    "\n",
    "jig.train(\n",
    "    train_iterable=datasets.source.processed.train,\n",
    "    source_val_iterable=datasets.source.processed.val,\n",
    "    target_val_iterable=datasets.target.processed.val,\n",
    "    num_epochs=p.n_epoch,\n",
    "    num_logs_per_epoch=p.NUM_LOGS_PER_EPOCH,\n",
    "    patience=p.patience,\n",
    "    optimizer=optimizer,\n",
    "    criteria_for_best=p.criteria_for_best,\n",
    ")"
   ]
  },
  {
   "cell_type": "code",
   "execution_count": 23,
   "id": "31e8fabf",
   "metadata": {
    "execution": {
     "iopub.execute_input": "2022-03-28T16:37:26.070530Z",
     "iopub.status.busy": "2022-03-28T16:37:26.070160Z",
     "iopub.status.idle": "2022-03-28T16:37:26.102927Z",
     "shell.execute_reply": "2022-03-28T16:37:26.102113Z"
    },
    "papermill": {
     "duration": 0.086187,
     "end_time": "2022-03-28T16:37:26.103097",
     "exception": false,
     "start_time": "2022-03-28T16:37:26.016910",
     "status": "completed"
    },
    "tags": []
   },
   "outputs": [],
   "source": [
    "total_experiment_time_secs = time.time() - start_time_secs"
   ]
  },
  {
   "cell_type": "code",
   "execution_count": 24,
   "id": "87b9595b",
   "metadata": {
    "execution": {
     "iopub.execute_input": "2022-03-28T16:37:26.217279Z",
     "iopub.status.busy": "2022-03-28T16:37:26.216405Z",
     "iopub.status.idle": "2022-03-28T16:40:12.955112Z",
     "shell.execute_reply": "2022-03-28T16:40:12.955835Z"
    },
    "papermill": {
     "duration": 166.798204,
     "end_time": "2022-03-28T16:40:12.956062",
     "exception": false,
     "start_time": "2022-03-28T16:37:26.157858",
     "status": "completed"
    },
    "tags": []
   },
   "outputs": [],
   "source": [
    "###################################\n",
    "# Evaluate the model\n",
    "###################################\n",
    "source_test_label_accuracy, source_test_label_loss = jig.test(datasets.source.processed.test)\n",
    "target_test_label_accuracy, target_test_label_loss = jig.test(datasets.target.processed.test)\n",
    "\n",
    "source_val_label_accuracy, source_val_label_loss = jig.test(datasets.source.processed.val)\n",
    "target_val_label_accuracy, target_val_label_loss = jig.test(datasets.target.processed.val)\n",
    "\n",
    "history = jig.get_history()\n",
    "\n",
    "total_epochs_trained = len(history[\"epoch_indices\"])\n",
    "\n",
    "val_dl = Iterable_Aggregator((datasets.source.original.val,datasets.target.original.val))\n",
    "\n",
    "confusion = ptn_confusion_by_domain_over_dataloader(model, p.device, val_dl)\n",
    "per_domain_accuracy = per_domain_accuracy_from_confusion(confusion)\n",
    "\n",
    "# Add a key to per_domain_accuracy for if it was a source domain\n",
    "for domain, accuracy in per_domain_accuracy.items():\n",
    "    per_domain_accuracy[domain] = {\n",
    "        \"accuracy\": accuracy,\n",
    "        \"source?\": domain in p.domains_source\n",
    "    }\n",
    "\n",
    "# Do an independent accuracy assesment JUST TO BE SURE!\n",
    "# _source_test_label_accuracy = independent_accuracy_assesment(model, datasets.source.processed.test, p.device)\n",
    "# _target_test_label_accuracy = independent_accuracy_assesment(model, datasets.target.processed.test, p.device)\n",
    "# _source_val_label_accuracy = independent_accuracy_assesment(model, datasets.source.processed.val, p.device)\n",
    "# _target_val_label_accuracy = independent_accuracy_assesment(model, datasets.target.processed.val, p.device)\n",
    "\n",
    "# assert(_source_test_label_accuracy == source_test_label_accuracy)\n",
    "# assert(_target_test_label_accuracy == target_test_label_accuracy)\n",
    "# assert(_source_val_label_accuracy == source_val_label_accuracy)\n",
    "# assert(_target_val_label_accuracy == target_val_label_accuracy)\n",
    "\n",
    "experiment = {\n",
    "    \"experiment_name\": p.experiment_name,\n",
    "    \"parameters\": dict(p),\n",
    "    \"results\": {\n",
    "        \"source_test_label_accuracy\": source_test_label_accuracy,\n",
    "        \"source_test_label_loss\": source_test_label_loss,\n",
    "        \"target_test_label_accuracy\": target_test_label_accuracy,\n",
    "        \"target_test_label_loss\": target_test_label_loss,\n",
    "        \"source_val_label_accuracy\": source_val_label_accuracy,\n",
    "        \"source_val_label_loss\": source_val_label_loss,\n",
    "        \"target_val_label_accuracy\": target_val_label_accuracy,\n",
    "        \"target_val_label_loss\": target_val_label_loss,\n",
    "        \"total_epochs_trained\": total_epochs_trained,\n",
    "        \"total_experiment_time_secs\": total_experiment_time_secs,\n",
    "        \"confusion\": confusion,\n",
    "        \"per_domain_accuracy\": per_domain_accuracy,\n",
    "    },\n",
    "    \"history\": history,\n",
    "    \"dataset_metrics\": get_dataset_metrics(datasets, \"ptn\"),\n",
    "}"
   ]
  },
  {
   "cell_type": "code",
   "execution_count": 25,
   "id": "54a21829",
   "metadata": {
    "execution": {
     "iopub.execute_input": "2022-03-28T16:40:13.066794Z",
     "iopub.status.busy": "2022-03-28T16:40:13.066223Z",
     "iopub.status.idle": "2022-03-28T16:40:13.285665Z",
     "shell.execute_reply": "2022-03-28T16:40:13.286356Z"
    },
    "papermill": {
     "duration": 0.274079,
     "end_time": "2022-03-28T16:40:13.286570",
     "exception": false,
     "start_time": "2022-03-28T16:40:13.012491",
     "status": "completed"
    },
    "tags": []
   },
   "outputs": [
    {
     "data": {
      "image/png": "[encoded data removed]",
      "text/plain": [
       "<Figure size 1080x504 with 1 Axes>"
      ]
     },
     "metadata": {
      "needs_background": "light"
     },
     "output_type": "display_data"
    }
   ],
   "source": [
    "ax = get_loss_curve(experiment)\n",
    "plt.show()"
   ]
  },
  {
   "cell_type": "code",
   "execution_count": 26,
   "id": "fd8a0f60",
   "metadata": {
    "execution": {
     "iopub.execute_input": "2022-03-28T16:40:13.396652Z",
     "iopub.status.busy": "2022-03-28T16:40:13.396281Z",
     "iopub.status.idle": "2022-03-28T16:40:13.786433Z",
     "shell.execute_reply": "2022-03-28T16:40:13.787107Z"
    },
    "papermill": {
     "duration": 0.444787,
     "end_time": "2022-03-28T16:40:13.787319",
     "exception": false,
     "start_time": "2022-03-28T16:40:13.342532",
     "status": "completed"
    },
    "tags": []
   },
   "outputs": [
    {
     "data": {
      "text/plain": [
       "<AxesSubplot:title={'center':'Results'}>"
      ]
     },
     "execution_count": 26,
     "metadata": {},
     "output_type": "execute_result"
    },
    {
     "data": {
      "image/png": "[encoded data removed]",
      "text/plain": [
       "<Figure size 1080x504 with 1 Axes>"
      ]
     },
     "metadata": {
      "needs_background": "light"
     },
     "output_type": "display_data"
    }
   ],
   "source": [
    "get_results_table(experiment)"
   ]
  },
  {
   "cell_type": "code",
   "execution_count": 27,
   "id": "cf8dc689",
   "metadata": {
    "execution": {
     "iopub.execute_input": "2022-03-28T16:40:13.950156Z",
     "iopub.status.busy": "2022-03-28T16:40:13.949767Z",
     "iopub.status.idle": "2022-03-28T16:40:14.192909Z",
     "shell.execute_reply": "2022-03-28T16:40:14.193604Z"
    },
    "papermill": {
     "duration": 0.297879,
     "end_time": "2022-03-28T16:40:14.193862",
     "exception": false,
     "start_time": "2022-03-28T16:40:13.895983",
     "status": "completed"
    },
    "tags": []
   },
   "outputs": [
    {
     "data": {
      "text/plain": [
       "<AxesSubplot:title={'center':'Per Domain Validation Accuracy'}, xlabel='domain'>"
      ]
     },
     "execution_count": 27,
     "metadata": {},
     "output_type": "execute_result"
    },
    {
     "data": {
      "image/png": "[encoded data removed]",
      "text/plain": [
       "<Figure size 1080x504 with 1 Axes>"
      ]
     },
     "metadata": {
      "needs_background": "light"
     },
     "output_type": "display_data"
    }
   ],
   "source": [
    "get_domain_accuracies(experiment)"
   ]
  },
  {
   "cell_type": "code",
   "execution_count": 28,
   "id": "a74ae082",
   "metadata": {
    "execution": {
     "iopub.execute_input": "2022-03-28T16:40:14.311191Z",
     "iopub.status.busy": "2022-03-28T16:40:14.310623Z",
     "iopub.status.idle": "2022-03-28T16:40:14.341625Z",
     "shell.execute_reply": "2022-03-28T16:40:14.340906Z"
    },
    "papermill": {
     "duration": 0.088245,
     "end_time": "2022-03-28T16:40:14.341784",
     "exception": false,
     "start_time": "2022-03-28T16:40:14.253539",
     "status": "completed"
    },
    "tags": []
   },
   "outputs": [
    {
     "name": "stdout",
     "output_type": "stream",
     "text": [
      "Source Test Label Accuracy: 0.87802734375 Target Test Label Accuracy: 0.7535423681257014\n",
      "Source Val Label Accuracy: 0.87255859375 Target Val Label Accuracy: 0.7570990296803652\n"
     ]
    }
   ],
   "source": [
    "print(\"Source Test Label Accuracy:\", experiment[\"results\"][\"source_test_label_accuracy\"], \"Target Test Label Accuracy:\", experiment[\"results\"][\"target_test_label_accuracy\"])\n",
    "print(\"Source Val Label Accuracy:\", experiment[\"results\"][\"source_val_label_accuracy\"], \"Target Val Label Accuracy:\", experiment[\"results\"][\"target_val_label_accuracy\"])"
   ]
  },
  {
   "cell_type": "code",
   "execution_count": 29,
   "id": "dacca602",
   "metadata": {
    "execution": {
     "iopub.execute_input": "2022-03-28T16:40:14.452191Z",
     "iopub.status.busy": "2022-03-28T16:40:14.451829Z",
     "iopub.status.idle": "2022-03-28T16:40:14.478576Z",
     "shell.execute_reply": "2022-03-28T16:40:14.479246Z"
    },
    "papermill": {
     "duration": 0.082234,
     "end_time": "2022-03-28T16:40:14.479427",
     "exception": false,
     "start_time": "2022-03-28T16:40:14.397193",
     "status": "completed"
    },
    "tags": [
     "experiment_json"
    ]
   },
   "outputs": [
    {
     "data": {
      "text/plain": [
       "'{\"experiment_name\": \"tl_3-jitter5v2:oracle.run1.framed -> cores\", \"parameters\": {\"experiment_name\": \"tl_3-jitter5v2:oracle.run1.framed -> cores\", \"device\": \"cuda\", \"lr\": 0.0001, \"x_shape\": [2, 256], \"n_shot\": 3, \"n_query\": 2, \"train_k_factor\": 3, \"val_k_factor\": 2, \"test_k_factor\": 2, \"torch_default_dtype\": \"torch.float32\", \"n_epoch\": 50, \"patience\": 3, \"criteria_for_best\": \"target_accuracy\", \"x_net\": [{\"class\": \"nnReshape\", \"kargs\": {\"shape\": [-1, 1, 2, 256]}}, {\"class\": \"Conv2d\", \"kargs\": {\"in_channels\": 1, \"out_channels\": 256, \"kernel_size\": [1, 7], \"bias\": false, \"padding\": [0, 3]}}, {\"class\": \"ReLU\", \"kargs\": {\"inplace\": true}}, {\"class\": \"BatchNorm2d\", \"kargs\": {\"num_features\": 256}}, {\"class\": \"Conv2d\", \"kargs\": {\"in_channels\": 256, \"out_channels\": 80, \"kernel_size\": [2, 7], \"bias\": true, \"padding\": [0, 3]}}, {\"class\": \"ReLU\", \"kargs\": {\"inplace\": true}}, {\"class\": \"BatchNorm2d\", \"kargs\": {\"num_features\": 80}}, {\"class\": \"Flatten\", \"kargs\": {}}, {\"class\": \"Linear\", \"kargs\": {\"in_features\": 20480, \"out_features\": 256}}, {\"class\": \"ReLU\", \"kargs\": {\"inplace\": true}}, {\"class\": \"BatchNorm1d\", \"kargs\": {\"num_features\": 256}}, {\"class\": \"Linear\", \"kargs\": {\"in_features\": 256, \"out_features\": 256}}], \"NUM_LOGS_PER_EPOCH\": 10, \"BEST_MODEL_PATH\": \"./best_model.pth\", \"n_way\": 16, \"datasets\": [{\"labels\": [\"1-10.\", \"1-11.\", \"1-15.\", \"1-16.\", \"1-17.\", \"1-18.\", \"1-19.\", \"10-4.\", \"10-7.\", \"11-1.\", \"11-14.\", \"11-17.\", \"11-20.\", \"11-7.\", \"13-20.\", \"13-8.\", \"14-10.\", \"14-11.\", \"14-14.\", \"14-7.\", \"15-1.\", \"15-20.\", \"16-1.\", \"16-16.\", \"17-10.\", \"17-11.\", \"17-2.\", \"19-1.\", \"19-16.\", \"19-19.\", \"19-20.\", \"19-3.\", \"2-10.\", \"2-11.\", \"2-17.\", \"2-18.\", \"2-20.\", \"2-3.\", \"2-4.\", \"2-5.\", \"2-6.\", \"2-7.\", \"2-8.\", \"3-13.\", \"3-18.\", \"3-3.\", \"4-1.\", \"4-10.\", \"4-11.\", \"4-19.\", \"5-5.\", \"6-15.\", \"7-10.\", \"7-14.\", \"8-18.\", \"8-20.\", \"8-3.\", \"8-8.\"], \"domains\": [1, 2, 3, 4, 5], \"num_examples_per_domain_per_label\": -1, \"pickle_path\": \"/root/csc500-main/datasets/cores.stratified_ds.2022A.pkl\", \"source_or_target_dataset\": \"target\", \"x_transforms\": [\"jitter_256_5\", \"lowpass_+/-10MHz\", \"take_200\"], \"episode_transforms\": [], \"domain_prefix\": \"C_\"}, {\"labels\": [\"3123D52\", \"3123D65\", \"3123D79\", \"3123D80\", \"3123D54\", \"3123D70\", \"3123D7B\", \"3123D89\", \"3123D58\", \"3123D76\", \"3123D7D\", \"3123EFE\", \"3123D64\", \"3123D78\", \"3123D7E\", \"3124E4A\"], \"domains\": [32, 38, 8, 44, 14, 50, 20, 26], \"num_examples_per_domain_per_label\": 2000, \"pickle_path\": \"/root/csc500-main/datasets/oracle.Run1_framed_2000Examples_stratified_ds.2022A.pkl\", \"source_or_target_dataset\": \"source\", \"x_transforms\": [\"jitter_256_5\", \"take_200\", \"resample_20Msps_to_25Msps\"], \"episode_transforms\": [], \"domain_prefix\": \"O_\"}], \"seed\": 1337, \"dataset_seed\": 1337, \"domains_source\": [\"O_32\", \"O_38\", \"O_8\", \"O_44\", \"O_14\", \"O_50\", \"O_20\", \"O_26\"], \"domains_target\": [\"C_1\", \"C_2\", \"C_3\", \"C_4\", \"C_5\"]}, \"results\": {\"source_test_label_accuracy\": 0.87802734375, \"source_test_label_loss\": 0.3491626977920532, \"target_test_label_accuracy\": 0.7535423681257014, \"target_test_label_loss\": 249.7028350830078, \"source_val_label_accuracy\": 0.87255859375, \"source_val_label_loss\": 0.35168492794036865, \"target_val_label_accuracy\": 0.7570990296803652, \"target_val_label_loss\": 240.89178466796875, \"total_epochs_trained\": 8, \"total_experiment_time_secs\": 1395.6659152507782, \"confusion\": {\"O_14\": {\"15\": {\"15\": 240}, \"3\": {\"3\": 235, \"14\": 4, \"0\": 1}, \"6\": {\"13\": 65, \"6\": 145, \"2\": 10, \"14\": 20}, \"1\": {\"1\": 240}, \"8\": {\"8\": 240}, \"10\": {\"10\": 240}, \"9\": {\"9\": 240}, \"13\": {\"14\": 75, \"13\": 57, \"2\": 8, \"15\": 15, \"6\": 85}, \"12\": {\"12\": 240}, \"5\": {\"5\": 221, \"4\": 4, \"3\": 2, \"2\": 11, \"7\": 2}, \"0\": {\"0\": 237, \"10\": 1, \"3\": 2}, \"2\": {\"2\": 151, \"6\": 17, \"4\": 5, \"14\": 29, \"13\": 9, \"5\": 26, \"3\": 3}, \"11\": {\"11\": 240}, \"14\": {\"14\": 191, \"13\": 25, \"2\": 7, \"6\": 12, \"3\": 5}, \"7\": {\"7\": 240}, \"4\": {\"4\": 232, \"2\": 5, \"5\": 3}}, \"O_20\": {\"3\": {\"9\": 22, \"3\": 173, \"5\": 26, \"8\": 14, \"1\": 5}, \"15\": {\"15\": 207, \"13\": 1, \"1\": 13, \"12\": 15, \"2\": 4}, \"8\": {\"8\": 217, \"3\": 12, \"14\": 11}, \"4\": {\"4\": 237, \"12\": 2, \"2\": 1}, \"14\": {\"8\": 11, \"14\": 229}, \"0\": {\"0\": 232, \"8\": 1, \"5\": 6, \"3\": 1}, \"7\": {\"7\": 197, \"9\": 26, \"2\": 15, \"12\": 1, \"3\": 1}, \"6\": {\"6\": 237, \"7\": 3}, \"10\": {\"10\": 240}, \"5\": {\"5\": 191, \"1\": 32, \"3\": 17}, \"2\": {\"2\": 187, \"12\": 37, \"7\": 12, \"15\": 3, \"13\": 1}, \"12\": {\"12\": 199, \"2\": 22, \"4\": 4, \"15\": 13, \"7\": 2}, \"9\": {\"9\": 207, \"1\": 5, \"7\": 17, \"3\": 11}, \"1\": {\"1\": 186, \"5\": 37, \"9\": 13, \"3\": 3, \"15\": 1}, \"11\": {\"11\": 240}, \"13\": {\"13\": 238, \"15\": 2}}, \"O_38\": {\"5\": {\"8\": 95, \"5\": 103, \"9\": 19, \"15\": 8, \"7\": 14, \"0\": 1}, \"8\": {\"8\": 145, \"7\": 17, \"5\": 65, \"13\": 1, \"0\": 2, \"15\": 10}, \"11\": {\"11\": 240}, \"1\": {\"1\": 240}, \"10\": {\"10\": 217, \"0\": 8, \"13\": 12, \"4\": 3}, \"15\": {\"15\": 228, \"8\": 3, \"1\": 5, \"5\": 4}, \"3\": {\"3\": 240}, \"7\": {\"7\": 228, \"8\": 4, \"5\": 4, \"0\": 4}, \"4\": {\"4\": 240}, \"14\": {\"14\": 223, \"2\": 15, \"13\": 2}, \"9\": {\"9\": 238, \"7\": 1, \"5\": 1}, \"12\": {\"12\": 240}, \"6\": {\"6\": 240}, \"2\": {\"2\": 226, \"14\": 14}, \"0\": {\"7\": 29, \"0\": 162, \"10\": 23, \"3\": 15, \"13\": 9, \"5\": 1, \"8\": 1}, \"13\": {\"13\": 231, \"10\": 8, \"2\": 1}}, \"O_8\": {\"9\": {\"9\": 240}, \"10\": {\"10\": 201, \"13\": 29, \"6\": 4, \"4\": 1, \"5\": 3, \"1\": 2}, \"13\": {\"13\": 179, \"7\": 14, \"10\": 44, \"6\": 3}, \"0\": {\"0\": 240}, \"1\": {\"1\": 186, \"11\": 48, \"5\": 6}, \"15\": {\"15\": 225, \"12\": 15}, \"5\": {\"5\": 201, \"10\": 25, \"1\": 11, \"11\": 3}, \"3\": {\"3\": 240}, \"6\": {\"6\": 197, \"10\": 4, \"7\": 38, \"13\": 1}, \"11\": {\"11\": 135, \"5\": 5, \"1\": 96, \"14\": 3, \"10\": 1}, \"8\": {\"8\": 240}, \"4\": {\"4\": 234, \"6\": 3, \"5\": 1, \"14\": 1, \"11\": 1}, \"12\": {\"12\": 193, \"15\": 47}, \"14\": {\"14\": 221, \"4\": 16, \"11\": 3}, \"2\": {\"2\": 191, \"3\": 40, \"12\": 6, \"15\": 3}, \"7\": {\"7\": 210, \"6\": 29, \"13\": 1}}, \"O_50\": {\"7\": {\"7\": 226, \"5\": 12, \"4\": 2}, \"3\": {\"3\": 240}, \"8\": {\"8\": 236, \"10\": 4}, \"2\": {\"2\": 220, \"0\": 20}, \"14\": {\"14\": 240}, \"4\": {\"4\": 211, \"7\": 13, \"5\": 10, \"6\": 5, \"15\": 1}, \"6\": {\"6\": 195, \"5\": 38, \"15\": 7}, \"15\": {\"15\": 227, \"11\": 2, \"6\": 10, \"9\": 1}, \"10\": {\"10\": 237, \"0\": 3}, \"11\": {\"11\": 222, \"9\": 8, \"15\": 2, \"12\": 8}, \"13\": {\"13\": 239, \"1\": 1}, \"9\": {\"11\": 19, \"9\": 202, \"12\": 19}, \"0\": {\"0\": 218, \"10\": 6, \"2\": 16}, \"1\": {\"1\": 239, \"13\": 1}, \"12\": {\"12\": 225, \"9\": 11, \"11\": 4}, \"5\": {\"5\": 100, \"4\": 14, \"7\": 57, \"6\": 56, \"13\": 8, \"15\": 5}}, \"O_32\": {\"8\": {\"8\": 205, \"7\": 2, \"0\": 19, \"14\": 6, \"5\": 7, \"4\": 1}, \"14\": {\"14\": 167, \"7\": 50, \"2\": 4, \"4\": 3, \"0\": 3, \"5\": 5, \"8\": 6, \"3\": 2}, \"2\": {\"2\": 214, \"4\": 25, \"14\": 1}, \"0\": {\"0\": 178, \"7\": 32, \"8\": 21, \"14\": 5, \"5\": 4}, \"1\": {\"1\": 240}, \"10\": {\"10\": 240}, \"11\": {\"11\": 240}, \"5\": {\"5\": 120, \"14\": 7, \"7\": 54, \"8\": 33, \"0\": 26}, \"15\": {\"15\": 238, \"5\": 2}, \"3\": {\"3\": 238, \"13\": 2}, \"12\": {\"12\": 240}, \"7\": {\"7\": 173, \"0\": 19, \"14\": 25, \"5\": 22, \"8\": 1}, \"13\": {\"13\": 191, \"3\": 19, \"4\": 30}, \"6\": {\"6\": 240}, \"4\": {\"4\": 203, \"2\": 34, \"13\": 3}, \"9\": {\"9\": 239, \"12\": 1}}, \"O_26\": {\"4\": {\"4\": 239, \"3\": 1}, \"12\": {\"12\": 240}, \"10\": {\"14\": 53, \"10\": 155, \"6\": 3, \"0\": 24, \"15\": 5}, \"0\": {\"0\": 166, \"14\": 26, \"8\": 5, \"10\": 41, \"15\": 2}, \"13\": {\"2\": 10, \"13\": 214, \"3\": 1, \"9\": 15}, \"9\": {\"2\": 9, \"13\": 7, \"9\": 194, \"8\": 29, \"7\": 1}, \"3\": {\"3\": 220, \"7\": 13, \"2\": 7}, \"2\": {\"2\": 160, \"7\": 19, \"3\": 33, \"8\": 4, \"9\": 17, \"10\": 2, \"15\": 3, \"0\": 2}, \"5\": {\"5\": 210, \"15\": 30}, \"14\": {\"1\": 7, \"14\": 174, \"0\": 15, \"10\": 42, \"15\": 2}, \"8\": {\"8\": 188, \"7\": 31, \"9\": 19, \"0\": 1, \"3\": 1}, \"7\": {\"7\": 190, \"8\": 22, \"3\": 10, \"2\": 13, \"9\": 5}, \"6\": {\"6\": 214, \"10\": 6, \"15\": 17, \"5\": 3}, \"11\": {\"11\": 240}, \"15\": {\"15\": 168, \"5\": 42, \"14\": 1, \"0\": 1, \"10\": 7, \"6\": 20, \"1\": 1}, \"1\": {\"1\": 187, \"14\": 45, \"10\": 4, \"15\": 3, \"6\": 1}}, \"O_44\": {\"12\": {\"12\": 238, \"3\": 2}, \"7\": {\"7\": 221, \"9\": 18, \"10\": 1}, \"5\": {\"5\": 209, \"15\": 15, \"14\": 11, \"4\": 3, \"8\": 2}, \"15\": {\"15\": 208, \"8\": 11, \"14\": 11, \"5\": 9, \"4\": 1}, \"8\": {\"0\": 57, \"8\": 173, \"15\": 8, \"5\": 2}, \"2\": {\"2\": 228, \"1\": 11, \"10\": 1}, \"13\": {\"13\": 199, \"6\": 36, \"9\": 5}, \"4\": {\"4\": 151, \"14\": 89}, \"0\": {\"8\": 26, \"0\": 214}, \"6\": {\"6\": 191, \"13\": 33, \"9\": 16}, \"9\": {\"7\": 81, \"9\": 109, \"6\": 26, \"13\": 21, \"2\": 3}, \"11\": {\"11\": 240}, \"10\": {\"10\": 222, \"2\": 7, \"1\": 9, \"7\": 2}, \"14\": {\"4\": 65, \"14\": 157, \"5\": 10, \"15\": 8}, \"1\": {\"1\": 226, \"2\": 14}, \"3\": {\"3\": 237, \"12\": 3}}, \"C_3\": {\"43\": {\"43\": 78, \"49\": 3, \"55\": 19, \"23\": 6, \"24\": 4, \"17\": 8, \"53\": 1, \"54\": 1, \"8\": 1, \"37\": 3, \"34\": 2, \"42\": 1, \"26\": 1}, \"9\": {\"9\": 80, \"20\": 4, \"48\": 11, \"1\": 4, \"29\": 4, \"57\": 13, \"47\": 4, \"4\": 24, \"8\": 3, \"52\": 1, \"27\": 2}, \"6\": {\"6\": 88}, \"3\": {\"3\": 144}, \"16\": {\"18\": 2, \"16\": 72, \"15\": 16, \"11\": 25, \"25\": 7, \"53\": 6, \"10\": 2, \"19\": 1, \"28\": 3}, \"51\": {\"51\": 98, \"38\": 4, \"36\": 11, \"55\": 4, \"13\": 7, \"43\": 1, \"7\": 1, \"29\": 1, \"17\": 1}, \"31\": {\"24\": 1, \"43\": 5, \"31\": 13, \"37\": 1, \"26\": 3, \"23\": 2, \"36\": 1, \"53\": 1, \"17\": 1}, \"46\": {\"46\": 134}, \"19\": {\"19\": 97, \"15\": 6, \"25\": 2, \"11\": 3, \"53\": 9, \"24\": 1, \"34\": 1, \"54\": 1, \"23\": 4}, \"8\": {\"8\": 97, \"13\": 6, \"57\": 9, \"41\": 2, \"29\": 7, \"27\": 17, \"1\": 2, \"9\": 4, \"4\": 1, \"48\": 3, \"33\": 1, \"36\": 1, \"7\": 1, \"55\": 1}, \"18\": {\"18\": 65, \"28\": 1, \"25\": 16, \"16\": 2}, \"37\": {\"43\": 3, \"37\": 18, \"54\": 1, \"31\": 2, \"17\": 1, \"53\": 1, \"55\": 1, \"42\": 1}, \"24\": {\"24\": 70, \"43\": 7, \"37\": 1, \"23\": 7, \"53\": 3, \"10\": 2, \"51\": 1, \"16\": 1, \"55\": 1, \"31\": 3, \"42\": 1, \"34\": 1, \"54\": 5, \"15\": 1}, \"10\": {\"16\": 3, \"10\": 33, \"15\": 11, \"28\": 2, \"11\": 7, \"53\": 5, \"25\": 1, \"23\": 2}, \"44\": {\"44\": 85, \"30\": 1, \"5\": 1, \"40\": 1}, \"14\": {\"14\": 29, \"13\": 2, \"36\": 1, \"29\": 1, \"7\": 2, \"51\": 1, \"32\": 3, \"27\": 1}, \"38\": {\"38\": 26, \"29\": 1, \"2\": 1}, \"53\": {\"53\": 60, \"23\": 20, \"26\": 1, \"37\": 2, \"54\": 11, \"35\": 1, \"43\": 12, \"49\": 1, \"24\": 12, \"15\": 7, \"16\": 4, \"11\": 3, \"19\": 3, \"10\": 1, \"36\": 2}, \"20\": {\"20\": 122, \"48\": 4, \"8\": 1, \"41\": 1, \"47\": 1, \"4\": 1, \"9\": 1, \"52\": 1}, \"32\": {\"32\": 19, \"38\": 4, \"51\": 1, \"27\": 2, \"2\": 1, \"36\": 1}, \"36\": {\"32\": 2, \"38\": 2, \"36\": 68, \"51\": 11, \"17\": 4, \"55\": 5, \"2\": 4, \"13\": 2, \"27\": 1, \"7\": 1}, \"33\": {\"33\": 11, \"38\": 1, \"39\": 1, \"41\": 2, \"7\": 2, \"9\": 1, \"27\": 4, \"29\": 3, \"1\": 1, \"8\": 2}, \"56\": {\"56\": 109, \"22\": 10, \"46\": 1, \"40\": 2, \"0\": 14}, \"23\": {\"16\": 5, \"53\": 11, \"23\": 72, \"31\": 4, \"54\": 13, \"49\": 2, \"15\": 4, \"55\": 1, \"24\": 7, \"11\": 1, \"19\": 1, \"42\": 2, \"17\": 3, \"43\": 4}, \"54\": {\"54\": 65, \"23\": 9, \"26\": 3, \"37\": 1, \"34\": 1, \"31\": 1, \"24\": 7, \"55\": 2, \"43\": 5, \"42\": 2, \"17\": 2, \"10\": 1, \"19\": 1}, \"21\": {\"21\": 126}, \"28\": {\"28\": 25, \"25\": 2, \"16\": 1}, \"26\": {\"54\": 1, \"26\": 15, \"31\": 2, \"49\": 1, \"24\": 1, \"23\": 2, \"43\": 2}, \"48\": {\"48\": 79, \"52\": 4, \"47\": 9, \"1\": 8, \"30\": 3, \"20\": 10, \"4\": 1, \"0\": 1, \"40\": 1}, \"52\": {\"52\": 112, \"20\": 6}, \"39\": {\"39\": 7, \"27\": 2, \"33\": 2, \"7\": 1, \"51\": 1, \"38\": 2, \"14\": 1}, \"22\": {\"22\": 125, \"56\": 5, \"0\": 9, \"40\": 1}, \"13\": {\"13\": 101, \"38\": 3, \"35\": 1, \"7\": 2, \"36\": 3, \"8\": 4, \"27\": 2, \"51\": 7, \"29\": 1, \"32\": 1, \"57\": 3}, \"2\": {\"51\": 3, \"2\": 15, \"13\": 1, \"38\": 5, \"36\": 2, \"55\": 1, \"33\": 1, \"7\": 3, \"32\": 1}, \"34\": {\"31\": 2, \"35\": 4, \"34\": 19, \"49\": 2, \"55\": 1, \"24\": 1, \"43\": 2, \"17\": 1}, \"27\": {\"29\": 6, \"27\": 70, \"41\": 1, \"33\": 2, \"57\": 16, \"8\": 20, \"13\": 3, \"7\": 1, \"14\": 2, \"48\": 1, \"9\": 4, \"47\": 1, \"4\": 4, \"1\": 1}, \"45\": {\"45\": 60}, \"35\": {\"2\": 1, \"24\": 2, \"35\": 13, \"42\": 4, \"13\": 1, \"51\": 1, \"49\": 1, \"55\": 4, \"10\": 1}, \"29\": {\"29\": 56, \"27\": 14, \"33\": 3, \"7\": 1, \"13\": 2, \"9\": 12, \"14\": 3, \"8\": 13, \"38\": 1, \"1\": 2, \"36\": 1, \"20\": 1, \"57\": 11, \"48\": 3, \"41\": 1, \"51\": 1, \"4\": 3}, \"25\": {\"11\": 7, \"25\": 109, \"10\": 3, \"18\": 14, \"16\": 4, \"28\": 1, \"15\": 6}, \"0\": {\"0\": 118, \"22\": 2, \"56\": 4}, \"41\": {\"41\": 13, \"1\": 3, \"52\": 3, \"20\": 5, \"33\": 1, \"9\": 2, \"47\": 1}, \"11\": {\"11\": 78, \"15\": 24, \"25\": 6, \"16\": 15, \"42\": 1, \"10\": 10, \"53\": 6, \"18\": 2}, \"5\": {\"5\": 108}, \"1\": {\"1\": 77, \"56\": 1, \"47\": 5, \"48\": 14, \"9\": 2, \"4\": 1}, \"57\": {\"27\": 13, \"57\": 48, \"41\": 1, \"9\": 18, \"14\": 2, \"8\": 7, \"29\": 9, \"1\": 9, \"47\": 2, \"48\": 2, \"4\": 4, \"20\": 1}, \"17\": {\"54\": 4, \"35\": 1, \"43\": 12, \"17\": 61, \"36\": 5, \"10\": 1, \"24\": 2, \"55\": 14, \"53\": 1, \"51\": 4, \"34\": 1, \"31\": 1, \"15\": 1}, \"7\": {\"51\": 1, \"57\": 3, \"29\": 2, \"47\": 2, \"7\": 12, \"33\": 2, \"20\": 2, \"27\": 3, \"1\": 1, \"2\": 2, \"9\": 1, \"36\": 1, \"38\": 1, \"13\": 2, \"8\": 1}, \"12\": {\"12\": 92}, \"47\": {\"47\": 64, \"52\": 4, \"22\": 1, \"41\": 4, \"1\": 8, \"9\": 1, \"0\": 2, \"48\": 7, \"56\": 1}, \"40\": {\"40\": 115, \"30\": 12, \"22\": 3, \"0\": 5, \"46\": 1}, \"15\": {\"15\": 96, \"10\": 5, \"25\": 1, \"53\": 4, \"11\": 19, \"16\": 7, \"19\": 5, \"31\": 1, \"28\": 1, \"23\": 2, \"24\": 1}, \"42\": {\"55\": 5, \"42\": 16, \"35\": 4, \"24\": 1, \"51\": 1, \"43\": 1}, \"55\": {\"55\": 109, \"2\": 1, \"49\": 1, \"36\": 10, \"53\": 2, \"51\": 8, \"13\": 2, \"17\": 7, \"24\": 1, \"54\": 3, \"23\": 1, \"35\": 1, \"42\": 2, \"43\": 2}, \"49\": {\"26\": 1, \"35\": 2, \"49\": 6, \"7\": 1, \"24\": 5, \"51\": 1, \"34\": 1, \"43\": 1, \"55\": 1, \"2\": 1}, \"30\": {\"30\": 115, \"40\": 4, \"3\": 1}, \"50\": {\"50\": 126, \"3\": 5, \"6\": 1, \"46\": 2}, \"4\": {\"4\": 81, \"20\": 3, \"7\": 1, \"47\": 3, \"9\": 19, \"56\": 1, \"1\": 9, \"8\": 1, \"48\": 10, \"27\": 2, \"29\": 4, \"57\": 2}}, \"C_4\": {\"35\": {\"38\": 3, \"35\": 14, \"32\": 2, \"49\": 2, \"24\": 1, \"53\": 1, \"7\": 2, \"54\": 2, \"23\": 4, \"17\": 2, \"55\": 4, \"31\": 1, \"37\": 1, \"36\": 1}, \"25\": {\"25\": 90, \"11\": 14, \"18\": 9, \"28\": 4, \"15\": 11, \"10\": 2, \"16\": 2, \"34\": 2}, \"24\": {\"32\": 4, \"24\": 29, \"31\": 4, \"43\": 3, \"23\": 2, \"55\": 1, \"35\": 1, \"53\": 4, \"17\": 3, \"54\": 1, \"42\": 1, \"41\": 2, \"38\": 1}, \"48\": {\"48\": 118, \"20\": 3, \"4\": 2, \"47\": 9, \"9\": 6}, \"51\": {\"51\": 117, \"14\": 1, \"27\": 11, \"36\": 6, \"43\": 1, \"39\": 1, \"7\": 2, \"4\": 2, \"2\": 1, \"8\": 2}, \"13\": {\"13\": 101, \"29\": 6, \"39\": 2, \"57\": 3, \"2\": 3, \"27\": 3, \"8\": 2}, \"14\": {\"13\": 2, \"14\": 8, \"39\": 3, \"2\": 1, \"37\": 1, \"52\": 1}, \"32\": {\"38\": 1, \"35\": 2, \"55\": 6, \"32\": 8, \"27\": 1, \"37\": 2, \"49\": 1, \"43\": 1, \"54\": 2}, \"30\": {\"30\": 43, \"50\": 1}, \"34\": {\"24\": 1, \"34\": 17, \"28\": 1, \"19\": 3, \"17\": 1, \"23\": 1}, \"9\": {\"9\": 80, \"4\": 16, \"29\": 2, \"47\": 7, \"48\": 20, \"57\": 2, \"8\": 5, \"20\": 2, \"1\": 1, \"13\": 1}, \"1\": {\"1\": 31, \"47\": 7, \"48\": 1, \"52\": 1}, \"0\": {\"0\": 79, \"56\": 1}, \"38\": {\"35\": 1, \"32\": 2, \"38\": 28, \"37\": 2, \"39\": 2, \"43\": 1, \"51\": 2, \"36\": 1, \"27\": 1}, \"22\": {\"22\": 128}, \"40\": {\"40\": 111, \"0\": 2, \"44\": 5, \"56\": 2}, \"6\": {\"6\": 110, \"3\": 2}, \"16\": {\"16\": 52, \"11\": 7, \"15\": 16, \"53\": 1, \"17\": 1, \"10\": 14, \"25\": 3, \"34\": 1, \"18\": 1}, \"11\": {\"16\": 10, \"11\": 59, \"15\": 19, \"10\": 11, \"25\": 2, \"53\": 3}, \"20\": {\"20\": 119, \"47\": 1, \"52\": 1, \"9\": 1}, \"17\": {\"17\": 42, \"33\": 7, \"32\": 4, \"19\": 1, \"54\": 4, \"38\": 2, \"35\": 1, \"51\": 2, \"43\": 4, \"41\": 1, \"36\": 1, \"55\": 10, \"24\": 1}, \"26\": {\"54\": 2, \"19\": 3, \"26\": 9, \"28\": 2, \"16\": 1, \"42\": 1, \"10\": 1, \"55\": 1, \"23\": 1, \"34\": 2, \"53\": 1}, \"54\": {\"55\": 13, \"33\": 3, \"54\": 67, \"7\": 2, \"31\": 1, \"49\": 2, \"38\": 6, \"17\": 1, \"35\": 2, \"53\": 1, \"32\": 2, \"41\": 2, \"24\": 1, \"43\": 4, \"23\": 1}, \"55\": {\"54\": 12, \"55\": 96, \"32\": 4, \"37\": 1, \"23\": 2, \"38\": 6, \"35\": 4, \"49\": 3, \"33\": 1, \"43\": 18, \"36\": 2, \"17\": 3, \"7\": 1, \"51\": 1}, \"50\": {\"50\": 124, \"3\": 6, \"25\": 1, \"6\": 1}, \"19\": {\"19\": 108, \"31\": 1, \"24\": 2, \"26\": 4, \"32\": 2, \"42\": 3, \"16\": 2, \"23\": 9, \"17\": 1, \"53\": 5, \"55\": 2, \"41\": 1, \"11\": 1, \"43\": 1}, \"44\": {\"44\": 118, \"5\": 1, \"40\": 1, \"46\": 2}, \"47\": {\"47\": 111, \"1\": 3, \"48\": 4, \"57\": 1, \"29\": 1}, \"33\": {\"54\": 5, \"33\": 16, \"49\": 2, \"38\": 1, \"31\": 2, \"35\": 1, \"17\": 4, \"43\": 2, \"41\": 1, \"37\": 1, \"36\": 1}, \"5\": {\"5\": 108}, \"18\": {\"18\": 82, \"25\": 17, \"28\": 3, \"16\": 1, \"11\": 4, \"15\": 1}, \"21\": {\"21\": 124}, \"41\": {\"39\": 2, \"7\": 1, \"43\": 4, \"41\": 16, \"35\": 1, \"23\": 2, \"54\": 1, \"51\": 1, \"32\": 1, \"24\": 4, \"36\": 1, \"38\": 1, \"2\": 1}, \"23\": {\"41\": 3, \"23\": 69, \"10\": 4, \"49\": 2, \"54\": 3, \"53\": 19, \"31\": 3, \"42\": 3, \"11\": 1, \"15\": 2, \"43\": 9, \"24\": 2, \"19\": 2, \"55\": 6}, \"39\": {\"39\": 18, \"27\": 2}, \"37\": {\"39\": 2, \"37\": 11, \"26\": 1, \"51\": 1, \"32\": 2, \"49\": 2, \"38\": 1, \"33\": 2, \"4\": 1, \"35\": 1}, \"8\": {\"8\": 99, \"9\": 13, \"29\": 9, \"4\": 9, \"39\": 1, \"27\": 3, \"13\": 5, \"48\": 2, \"57\": 3}, \"49\": {\"31\": 3, \"35\": 2, \"17\": 2, \"32\": 2, \"49\": 5, \"24\": 1, \"39\": 2, \"37\": 1, \"42\": 1, \"51\": 1}, \"53\": {\"53\": 86, \"24\": 3, \"15\": 3, \"49\": 3, \"23\": 25, \"10\": 3, \"19\": 2, \"43\": 5, \"42\": 2, \"16\": 4, \"55\": 1, \"25\": 1, \"11\": 2}, \"31\": {\"24\": 6, \"31\": 15, \"54\": 1, \"35\": 1, \"23\": 1, \"53\": 1, \"43\": 1, \"42\": 2}, \"28\": {\"28\": 20, \"34\": 1, \"15\": 2, \"25\": 3, \"42\": 2, \"10\": 1, \"19\": 2, \"11\": 1}, \"3\": {\"3\": 119, \"6\": 1, \"50\": 3, \"12\": 1}, \"27\": {\"14\": 1, \"27\": 103, \"39\": 6, \"4\": 1, \"2\": 3, \"29\": 5, \"8\": 8, \"36\": 1, \"57\": 1, \"51\": 4, \"9\": 1, \"13\": 4}, \"46\": {\"46\": 126, \"22\": 2}, \"12\": {\"12\": 90, \"30\": 2}, \"7\": {\"7\": 10, \"43\": 3, \"32\": 2, \"36\": 1, \"51\": 1, \"27\": 2, \"54\": 2, \"55\": 1, \"41\": 2}, \"4\": {\"47\": 6, \"29\": 8, \"48\": 8, \"4\": 66, \"8\": 9, \"9\": 17, \"57\": 13, \"13\": 2, \"20\": 1, \"52\": 1, \"1\": 1}, \"42\": {\"24\": 2, \"42\": 13, \"31\": 3, \"19\": 4, \"16\": 1, \"17\": 1, \"54\": 1, \"10\": 1, \"23\": 1, \"28\": 1, \"41\": 1, \"26\": 2, \"35\": 1}, \"43\": {\"43\": 90, \"55\": 18, \"31\": 2, \"7\": 1, \"24\": 5, \"54\": 8, \"32\": 2, \"41\": 1, \"33\": 1, \"23\": 1, \"38\": 1}, \"29\": {\"29\": 62, \"13\": 7, \"39\": 1, \"9\": 8, \"8\": 17, \"2\": 1, \"57\": 9, \"4\": 11, \"48\": 1, \"27\": 2, \"47\": 1}, \"57\": {\"57\": 68, \"13\": 4, \"14\": 1, \"8\": 2, \"29\": 5, \"48\": 1, \"27\": 1, \"47\": 7, \"4\": 7, \"1\": 1, \"9\": 3}, \"52\": {\"52\": 104}, \"45\": {\"45\": 96}, \"36\": {\"36\": 63, \"7\": 1, \"27\": 4, \"41\": 1, \"55\": 3, \"43\": 2, \"51\": 13, \"13\": 1, \"54\": 2, \"2\": 1, \"19\": 1}, \"10\": {\"10\": 70, \"15\": 20, \"16\": 6, \"53\": 11, \"42\": 1, \"25\": 3, \"11\": 3, \"23\": 9, \"24\": 1, \"26\": 1, \"18\": 1}, \"15\": {\"10\": 22, \"15\": 77, \"25\": 7, \"18\": 3, \"19\": 3, \"11\": 14, \"53\": 3, \"16\": 4, \"23\": 1}, \"56\": {\"56\": 122, \"0\": 2}, \"2\": {\"14\": 2, \"29\": 2, \"2\": 17, \"39\": 3, \"8\": 1, \"27\": 4, \"57\": 1, \"1\": 1, \"35\": 1, \"13\": 1, \"9\": 2, \"36\": 1}}, \"C_5\": {\"47\": {\"47\": 93, \"1\": 2, \"57\": 5}, \"53\": {\"53\": 87, \"26\": 1, \"31\": 6, \"23\": 16, \"10\": 4, \"42\": 2, \"49\": 1, \"55\": 5, \"11\": 1, \"43\": 1, \"24\": 10, \"15\": 3, \"51\": 1, \"19\": 3, \"17\": 5, \"54\": 2, \"16\": 2}, \"29\": {\"39\": 1, \"29\": 78, \"48\": 16, \"8\": 5, \"20\": 6, \"13\": 7, \"1\": 2, \"57\": 8, \"14\": 1, \"47\": 1, \"27\": 1}, \"52\": {\"52\": 126, \"1\": 1, \"46\": 1, \"21\": 2}, \"55\": {\"17\": 22, \"55\": 81, \"23\": 10, \"26\": 1, \"33\": 1, \"24\": 2, \"42\": 1, \"53\": 3, \"54\": 14, \"51\": 2, \"43\": 3, \"41\": 1, \"34\": 2, \"38\": 1}, \"17\": {\"17\": 67, \"49\": 5, \"55\": 16, \"38\": 3, \"34\": 2, \"24\": 2, \"32\": 1, \"35\": 1, \"43\": 2, \"23\": 6, \"54\": 8, \"41\": 1, \"33\": 1, \"53\": 1}, \"42\": {\"53\": 4, \"26\": 3, \"42\": 22, \"11\": 2, \"31\": 3, \"15\": 3, \"23\": 1, \"24\": 1, \"19\": 1}, \"33\": {\"55\": 3, \"33\": 15, \"42\": 2, \"15\": 1, \"34\": 2, \"24\": 2, \"31\": 2, \"23\": 1, \"35\": 1, \"41\": 1, \"54\": 1, \"10\": 1}, \"11\": {\"11\": 96, \"16\": 20, \"25\": 5, \"15\": 25, \"10\": 1, \"53\": 1}, \"19\": {\"19\": 94, \"31\": 3, \"33\": 1, \"11\": 2, \"10\": 1, \"23\": 6, \"53\": 3, \"55\": 3, \"15\": 1, \"26\": 1, \"25\": 1, \"34\": 1, \"24\": 1}, \"1\": {\"1\": 139, \"47\": 3, \"30\": 1, \"48\": 1}, \"44\": {\"44\": 133, \"5\": 7, \"45\": 2}, \"49\": {\"49\": 22, \"17\": 3, \"34\": 2, \"41\": 2, \"54\": 1, \"43\": 2, \"35\": 3, \"37\": 1}, \"4\": {\"4\": 98, \"45\": 2}, \"6\": {\"6\": 116}, \"39\": {\"39\": 12, \"7\": 3, \"2\": 4, \"8\": 1}, \"50\": {\"50\": 148}, \"56\": {\"52\": 3, \"56\": 122, \"9\": 1, \"0\": 3, \"46\": 1}, \"25\": {\"28\": 3, \"25\": 104, \"16\": 14, \"15\": 7, \"18\": 3, \"11\": 12, \"19\": 1}, \"28\": {\"28\": 23, \"16\": 3, \"18\": 2, \"11\": 1, \"25\": 2, \"15\": 1}, \"35\": {\"35\": 16, \"39\": 1, \"49\": 3, \"54\": 1, \"43\": 3, \"13\": 1, \"51\": 3, \"23\": 1, \"32\": 1, \"41\": 1, \"31\": 1, \"36\": 2, \"38\": 1, \"17\": 1}, \"24\": {\"24\": 46, \"34\": 1, \"15\": 2, \"17\": 1, \"31\": 4, \"35\": 1, \"23\": 11, \"41\": 1, \"53\": 5, \"54\": 1, \"55\": 3, \"38\": 2, \"16\": 1, \"10\": 1}, \"21\": {\"21\": 132}, \"45\": {\"45\": 124}, \"16\": {\"16\": 81, \"15\": 17, \"11\": 29, \"25\": 4, \"23\": 2, \"26\": 2, \"10\": 2, \"18\": 3, \"24\": 1, \"53\": 2, \"19\": 1}, \"37\": {\"37\": 13, \"38\": 1, \"14\": 1, \"24\": 2, \"39\": 2, \"20\": 1, \"51\": 1, \"43\": 2, \"49\": 1}, \"57\": {\"47\": 14, \"57\": 104, \"48\": 5, \"20\": 3, \"1\": 4, \"13\": 1, \"29\": 1}, \"34\": {\"17\": 4, \"34\": 20, \"33\": 4, \"54\": 3, \"41\": 2, \"35\": 1, \"55\": 2}, \"38\": {\"38\": 15, \"54\": 3, \"35\": 1, \"2\": 2, \"49\": 1, \"36\": 2, \"14\": 1, \"8\": 1, \"32\": 1, \"41\": 1, \"17\": 2, \"55\": 2}, \"48\": {\"48\": 85, \"57\": 18, \"7\": 1, \"29\": 5, \"20\": 14, \"47\": 5, \"1\": 1, \"8\": 1}, \"26\": {\"53\": 1, \"26\": 10, \"16\": 3, \"33\": 1, \"19\": 2, \"31\": 1, \"17\": 1, \"15\": 1, \"34\": 1, \"23\": 1, \"28\": 1, \"54\": 1}, \"9\": {\"9\": 138, \"4\": 2, \"30\": 9, \"0\": 1, \"46\": 2}, \"18\": {\"18\": 60, \"10\": 1, \"25\": 1, \"11\": 1, \"16\": 1}, \"3\": {\"3\": 100}, \"23\": {\"17\": 7, \"38\": 1, \"42\": 1, \"54\": 4, \"24\": 9, \"31\": 2, \"23\": 74, \"53\": 13, \"55\": 7, \"16\": 1, \"51\": 2, \"33\": 1, \"43\": 1, \"19\": 1}, \"15\": {\"10\": 4, \"15\": 100, \"16\": 15, \"42\": 3, \"11\": 20, \"25\": 3, \"53\": 7, \"23\": 1, \"55\": 1}, \"10\": {\"53\": 9, \"10\": 31, \"31\": 2, \"15\": 6, \"11\": 4, \"16\": 1, \"24\": 5, \"42\": 5, \"34\": 2, \"23\": 2, \"17\": 1}, \"46\": {\"46\": 130, \"0\": 10, \"40\": 6, \"22\": 1, \"9\": 1}, \"22\": {\"46\": 3, \"22\": 18, \"3\": 4, \"56\": 1, \"45\": 1, \"44\": 1}, \"54\": {\"55\": 11, \"54\": 77, \"17\": 8, \"49\": 1, \"35\": 4, \"43\": 2, \"34\": 2, \"31\": 1, \"53\": 3, \"24\": 1, \"51\": 1, \"23\": 1}, \"27\": {\"27\": 100, \"14\": 7, \"8\": 24, \"7\": 4, \"36\": 6, \"29\": 9, \"48\": 1, \"13\": 2, \"51\": 1, \"43\": 4, \"2\": 1, \"57\": 1}, \"41\": {\"39\": 1, \"49\": 1, \"14\": 2, \"27\": 1, \"17\": 1, \"41\": 8, \"54\": 1, \"38\": 3, \"33\": 1, \"31\": 1, \"34\": 1, \"35\": 1, \"43\": 3, \"51\": 2, \"13\": 1}, \"31\": {\"31\": 32, \"53\": 1, \"26\": 2, \"15\": 1}, \"0\": {\"0\": 110, \"46\": 12, \"40\": 1, \"22\": 1}, \"7\": {\"7\": 26, \"27\": 1, \"14\": 1, \"8\": 3, \"51\": 1}, \"2\": {\"48\": 1, \"7\": 1, \"2\": 14, \"43\": 2, \"51\": 2, \"35\": 1, \"32\": 4, \"39\": 1, \"27\": 1, \"8\": 1}, \"14\": {\"14\": 25, \"29\": 5, \"8\": 4, \"27\": 2, \"13\": 3, \"36\": 2, \"7\": 3}, \"40\": {\"40\": 120, \"44\": 1, \"46\": 2, \"0\": 1}, \"5\": {\"5\": 127, \"44\": 1}, \"12\": {\"12\": 96}, \"43\": {\"43\": 107, \"36\": 5, \"27\": 3, \"51\": 17, \"23\": 1, \"38\": 1, \"37\": 1, \"55\": 1, \"14\": 1, \"8\": 2, \"53\": 1, \"54\": 2}, \"13\": {\"57\": 2, \"13\": 117, \"48\": 4, \"20\": 4, \"29\": 5, \"8\": 13, \"7\": 1, \"56\": 1, \"27\": 1}, \"36\": {\"36\": 64, \"2\": 1, \"37\": 1, \"27\": 6, \"20\": 1, \"35\": 2, \"51\": 7, \"32\": 3, \"13\": 1, \"8\": 1, \"7\": 2, \"43\": 3}, \"8\": {\"2\": 1, \"8\": 98, \"20\": 5, \"14\": 4, \"29\": 8, \"27\": 10, \"7\": 4, \"57\": 2, \"48\": 6, \"13\": 10, \"51\": 1, \"43\": 1}, \"32\": {\"32\": 23, \"35\": 2, \"36\": 2, \"14\": 1, \"38\": 1, \"27\": 1, \"51\": 2}, \"30\": {\"30\": 123, \"9\": 5}, \"51\": {\"2\": 2, \"51\": 99, \"23\": 1, \"27\": 4, \"36\": 6, \"39\": 1, \"35\": 2, \"43\": 14, \"8\": 2, \"32\": 1, \"7\": 3, \"14\": 1, \"54\": 1, \"55\": 1}, \"20\": {\"20\": 129, \"48\": 8, \"57\": 1}}, \"C_1\": {\"46\": {\"46\": 140}, \"16\": {\"10\": 11, \"16\": 79, \"25\": 7, \"53\": 5, \"18\": 2, \"11\": 12, \"15\": 13, \"26\": 3, \"28\": 2}, \"26\": {\"28\": 4, \"26\": 6, \"53\": 3, \"10\": 1, \"15\": 3, \"19\": 2, \"11\": 1, \"35\": 2, \"16\": 1, \"23\": 1}, \"10\": {\"16\": 7, \"26\": 1, \"10\": 56, \"11\": 6, \"53\": 4, \"15\": 20, \"25\": 1, \"19\": 1}, \"9\": {\"9\": 116, \"1\": 4, \"8\": 6, \"7\": 3, \"17\": 1, \"48\": 12, \"43\": 5, \"32\": 2, \"36\": 2, \"55\": 3, \"51\": 2}, \"28\": {\"28\": 22, \"19\": 1, \"11\": 1, \"23\": 1, \"34\": 2, \"17\": 1}, \"51\": {\"51\": 101, \"9\": 13, \"7\": 3, \"32\": 3, \"43\": 9, \"48\": 2, \"49\": 2, \"8\": 2, \"36\": 1, \"55\": 16, \"38\": 1, \"41\": 1, \"37\": 2}, \"1\": {\"1\": 56, \"8\": 11, \"29\": 8, \"48\": 8, \"36\": 3, \"2\": 3, \"9\": 5, \"47\": 2, \"30\": 2, \"7\": 1, \"57\": 1}, \"55\": {\"42\": 2, \"55\": 97, \"51\": 17, \"32\": 3, \"7\": 2, \"49\": 2, \"38\": 1, \"37\": 5, \"43\": 13, \"9\": 5, \"39\": 1}, \"27\": {\"27\": 95, \"47\": 7, \"30\": 4, \"21\": 8, \"57\": 7, \"8\": 1, \"52\": 2}, \"22\": {\"52\": 14, \"22\": 104, \"0\": 1, \"21\": 2, \"13\": 2, \"14\": 1}, \"52\": {\"52\": 113, \"22\": 10, \"21\": 3}, \"3\": {\"3\": 140}, \"33\": {\"33\": 15, \"41\": 1, \"43\": 1, \"37\": 1, \"39\": 3, \"24\": 1, \"31\": 5, \"34\": 1, \"55\": 1, \"17\": 1, \"49\": 2}, \"47\": {\"1\": 4, \"47\": 90, \"48\": 2, \"30\": 3, \"27\": 11, \"52\": 1, \"9\": 1, \"36\": 2, \"21\": 2, \"8\": 1, \"57\": 1, \"29\": 2}, \"42\": {\"33\": 1, \"42\": 21, \"19\": 1, \"17\": 9, \"34\": 1, \"31\": 2, \"24\": 1, \"36\": 1, \"8\": 1, \"23\": 1, \"37\": 1}, \"12\": {\"12\": 116}, \"23\": {\"23\": 82, \"28\": 1, \"26\": 1, \"31\": 1, \"24\": 18, \"54\": 12, \"17\": 2, \"53\": 8, \"15\": 3, \"51\": 1, \"37\": 1, \"43\": 2}, \"49\": {\"49\": 12, \"55\": 4, \"41\": 2, \"43\": 4, \"37\": 2, \"36\": 2, \"39\": 3, \"31\": 1, \"33\": 1, \"32\": 1}, \"7\": {\"9\": 4, \"7\": 22, \"1\": 1, \"51\": 1}, \"4\": {\"4\": 128, \"40\": 4}, \"50\": {\"50\": 133, \"6\": 1}, \"19\": {\"19\": 122, \"11\": 1, \"35\": 3, \"26\": 2, \"34\": 4, \"53\": 9, \"24\": 1, \"54\": 3, \"23\": 5, \"16\": 1, \"10\": 1, \"15\": 2}, \"11\": {\"11\": 91, \"16\": 16, \"15\": 17, \"26\": 1, \"53\": 2, \"25\": 5, \"10\": 6, \"18\": 2}, \"31\": {\"31\": 19, \"33\": 3, \"38\": 2, \"55\": 1, \"24\": 1, \"17\": 1, \"42\": 1}, \"41\": {\"41\": 14, \"49\": 1, \"39\": 3, \"51\": 3, \"38\": 1, \"29\": 1, \"1\": 1}, \"56\": {\"56\": 138}, \"0\": {\"0\": 148}, \"57\": {\"57\": 105, \"2\": 1, \"13\": 2, \"22\": 1, \"27\": 4, \"30\": 7, \"12\": 1, \"21\": 4, \"14\": 1, \"1\": 1, \"29\": 1}, \"53\": {\"53\": 91, \"23\": 11, \"19\": 3, \"34\": 2, \"24\": 5, \"42\": 1, \"10\": 2, \"15\": 9, \"16\": 4, \"54\": 3, \"26\": 2, \"35\": 1, \"33\": 1, \"28\": 2, \"11\": 2, \"55\": 1}, \"43\": {\"37\": 1, \"43\": 108, \"39\": 1, \"41\": 1, \"49\": 4, \"32\": 2, \"51\": 10, \"9\": 2, \"55\": 13, \"23\": 1, \"7\": 1}, \"37\": {\"43\": 5, \"37\": 10, \"36\": 4, \"33\": 1, \"39\": 1, \"31\": 1, \"55\": 5, \"49\": 2, \"48\": 2, \"32\": 1}, \"2\": {\"2\": 28, \"48\": 1, \"41\": 1, \"8\": 5, \"36\": 1}, \"6\": {\"6\": 96}, \"13\": {\"13\": 145, \"52\": 2, \"21\": 2, \"2\": 1}, \"18\": {\"18\": 64, \"25\": 5, \"53\": 1, \"16\": 1, \"11\": 1}, \"36\": {\"36\": 50, \"1\": 4, \"8\": 4, \"48\": 3, \"9\": 1, \"51\": 1, \"32\": 1}, \"29\": {\"29\": 74, \"47\": 19, \"9\": 4, \"30\": 7, \"1\": 12, \"14\": 1, \"2\": 1, \"27\": 5, \"36\": 2, \"48\": 5, \"8\": 5, \"57\": 5}, \"39\": {\"39\": 13, \"33\": 1, \"55\": 2, \"1\": 1, \"41\": 1, \"51\": 1, \"31\": 1, \"37\": 2, \"43\": 4, \"7\": 1, \"9\": 1}, \"17\": {\"17\": 42, \"42\": 7, \"54\": 4, \"43\": 3, \"19\": 1, \"24\": 1, \"53\": 1, \"31\": 3, \"23\": 1, \"55\": 1}, \"21\": {\"21\": 119, \"27\": 1, \"22\": 1, \"52\": 3}, \"25\": {\"25\": 86, \"18\": 3, \"26\": 1, \"10\": 9, \"16\": 8, \"15\": 11, \"11\": 12, \"24\": 1, \"53\": 1}, \"45\": {\"45\": 142}, \"38\": {\"30\": 2, \"38\": 10, \"36\": 2, \"1\": 1, \"29\": 1, \"55\": 2, \"32\": 2, \"43\": 1, \"49\": 1, \"51\": 1, \"31\": 1}, \"30\": {\"30\": 112, \"57\": 4, \"27\": 2, \"47\": 1, \"21\": 1}, \"24\": {\"24\": 71, \"31\": 1, \"39\": 1, \"17\": 3, \"23\": 15, \"53\": 2, \"54\": 9, \"55\": 1, \"15\": 2, \"43\": 2, \"42\": 1}, \"20\": {\"20\": 140}, \"8\": {\"8\": 87, \"27\": 3, \"1\": 5, \"2\": 8, \"48\": 21, \"47\": 6, \"9\": 2, \"36\": 5, \"29\": 3}, \"35\": {\"54\": 2, \"35\": 28, \"23\": 3, \"42\": 1, \"17\": 1, \"19\": 1}, \"54\": {\"54\": 81, \"35\": 3, \"17\": 1, \"24\": 8, \"23\": 7, \"42\": 4}, \"5\": {\"5\": 148}, \"48\": {\"1\": 3, \"2\": 4, \"48\": 83, \"36\": 3, \"29\": 11, \"8\": 21, \"9\": 11, \"51\": 1, \"47\": 5, \"14\": 1, \"30\": 1}, \"15\": {\"25\": 5, \"10\": 14, \"15\": 84, \"18\": 2, \"23\": 2, \"54\": 1, \"19\": 3, \"53\": 8, \"16\": 15, \"11\": 7, \"34\": 1}, \"34\": {\"34\": 15, \"23\": 1, \"43\": 1, \"24\": 2, \"35\": 1, \"11\": 1, \"17\": 1, \"42\": 1, \"28\": 1}, \"14\": {\"14\": 22, \"1\": 1, \"48\": 1}, \"32\": {\"32\": 16, \"51\": 5, \"55\": 4, \"49\": 2, \"48\": 1, \"24\": 1, \"41\": 1, \"38\": 1, \"7\": 1}, \"40\": {\"40\": 140, \"56\": 2, \"0\": 2, \"45\": 2, \"4\": 1, \"6\": 1}, \"44\": {\"44\": 136}}, \"C_2\": {\"36\": {\"33\": 4, \"36\": 80, \"32\": 3, \"7\": 2, \"39\": 1, \"55\": 9, \"27\": 1, \"13\": 1, \"51\": 10, \"17\": 3, \"37\": 1, \"43\": 1}, \"5\": {\"5\": 120}, \"45\": {\"45\": 128}, \"49\": {\"49\": 7, \"43\": 2, \"10\": 3, \"34\": 1, \"36\": 1, \"17\": 2, \"11\": 1, \"39\": 1, \"26\": 1, \"28\": 1, \"54\": 1, \"53\": 2, \"37\": 1}, \"50\": {\"50\": 130, \"6\": 3, \"12\": 2, \"3\": 1}, \"4\": {\"4\": 67, \"56\": 1, \"48\": 21, \"1\": 4, \"29\": 4, \"9\": 14, \"20\": 15, \"8\": 4, \"47\": 4, \"57\": 4}, \"43\": {\"43\": 92, \"24\": 11, \"42\": 1, \"37\": 4, \"7\": 1, \"54\": 5, \"17\": 9, \"23\": 6, \"15\": 1, \"55\": 10, \"39\": 2, \"31\": 3, \"36\": 1, \"53\": 2}, \"41\": {\"41\": 16, \"52\": 1, \"27\": 2, \"8\": 1}, \"37\": {\"37\": 21, \"43\": 5, \"41\": 1, \"7\": 1, \"24\": 2, \"36\": 2, \"55\": 1, \"53\": 1, \"33\": 1, \"51\": 1}, \"12\": {\"12\": 91, \"50\": 1}, \"33\": {\"33\": 9, \"36\": 2, \"14\": 2, \"7\": 2, \"27\": 3, \"31\": 1, \"2\": 2, \"51\": 2, \"37\": 2, \"41\": 1, \"8\": 1, \"32\": 1}, \"7\": {\"36\": 5, \"7\": 20, \"54\": 1, \"39\": 3, \"31\": 2, \"55\": 1, \"24\": 1, \"51\": 1, \"32\": 1, \"43\": 1}, \"56\": {\"56\": 97, \"40\": 2, \"47\": 12, \"48\": 3, \"22\": 10, \"0\": 2, \"30\": 3, \"52\": 6, \"1\": 4, \"4\": 1}, \"14\": {\"14\": 18, \"41\": 1, \"9\": 1, \"29\": 3, \"8\": 1}, \"52\": {\"52\": 124}, \"44\": {\"44\": 96}, \"48\": {\"48\": 109, \"4\": 5, \"57\": 2, \"1\": 7, \"56\": 3, \"47\": 15, \"9\": 1, \"52\": 1, \"29\": 1}, \"20\": {\"20\": 116, \"57\": 4, \"9\": 2, \"30\": 1, \"1\": 1, \"4\": 2, \"48\": 1, \"8\": 1}, \"55\": {\"36\": 10, \"55\": 116, \"32\": 1, \"39\": 2, \"7\": 2, \"2\": 1, \"51\": 5, \"43\": 3, \"33\": 1, \"17\": 2, \"8\": 1}, \"32\": {\"32\": 18, \"54\": 2, \"36\": 1, \"2\": 2, \"33\": 3, \"13\": 2}, \"40\": {\"40\": 109, \"30\": 10, \"5\": 2, \"48\": 1, \"0\": 2, \"22\": 7, \"1\": 1, \"50\": 1, \"52\": 2, \"56\": 1}, \"54\": {\"54\": 79, \"17\": 1, \"42\": 3, \"23\": 11, \"26\": 1, \"43\": 2, \"11\": 1, \"19\": 1, \"31\": 1, \"10\": 1, \"7\": 1, \"37\": 2, \"16\": 2, \"24\": 1, \"53\": 1}, \"17\": {\"24\": 4, \"55\": 7, \"35\": 3, \"17\": 68, \"43\": 7, \"7\": 3, \"36\": 4, \"13\": 1, \"23\": 2, \"39\": 1, \"53\": 1, \"31\": 2, \"54\": 1}, \"38\": {\"41\": 1, \"38\": 14, \"2\": 1, \"13\": 3, \"20\": 1}, \"24\": {\"24\": 60, \"23\": 5, \"10\": 2, \"54\": 8, \"53\": 5, \"43\": 13, \"37\": 1, \"7\": 1, \"15\": 1}, \"1\": {\"48\": 13, \"1\": 78, \"47\": 13, \"56\": 6, \"9\": 2}, \"6\": {\"6\": 124}, \"34\": {\"34\": 11, \"26\": 1, \"23\": 1, \"10\": 2, \"19\": 3, \"24\": 1, \"53\": 6, \"11\": 2, \"28\": 1}, \"11\": {\"11\": 62, \"15\": 27, \"10\": 12, \"53\": 8, \"23\": 5, \"16\": 19, \"28\": 1, \"18\": 1, \"19\": 1}, \"9\": {\"4\": 29, \"48\": 8, \"9\": 60, \"1\": 2, \"8\": 11, \"13\": 2, \"20\": 9, \"29\": 5, \"27\": 6, \"57\": 17, \"47\": 1}, \"8\": {\"8\": 104, \"41\": 1, \"2\": 1, \"9\": 5, \"20\": 8, \"29\": 7, \"27\": 7, \"57\": 6, \"48\": 3, \"1\": 1, \"4\": 6, \"14\": 2, \"51\": 1}, \"22\": {\"22\": 126, \"56\": 3, \"40\": 1, \"0\": 5, \"30\": 1}, \"26\": {\"24\": 2, \"26\": 17, \"35\": 1, \"19\": 1, \"53\": 1, \"23\": 1, \"10\": 1}, \"23\": {\"24\": 7, \"34\": 3, \"23\": 85, \"42\": 2, \"54\": 15, \"53\": 11, \"11\": 2, \"43\": 10, \"10\": 2, \"17\": 2, \"55\": 2, \"19\": 3, \"26\": 1, \"7\": 1}, \"10\": {\"34\": 2, \"10\": 58, \"28\": 1, \"15\": 12, \"53\": 10, \"11\": 17, \"43\": 2, \"16\": 3, \"49\": 1, \"55\": 1, \"24\": 3, \"23\": 2}, \"18\": {\"18\": 41, \"28\": 2, \"16\": 1, \"25\": 3, \"11\": 1}, \"13\": {\"13\": 93, \"41\": 1, \"27\": 9, \"36\": 2, \"29\": 2, \"51\": 3, \"2\": 1, \"8\": 3, \"14\": 1, \"57\": 1}, \"30\": {\"30\": 121, \"47\": 1, \"40\": 3, \"52\": 2, \"0\": 1}, \"42\": {\"31\": 5, \"42\": 22, \"24\": 1, \"17\": 2, \"54\": 4, \"26\": 1, \"43\": 1}, \"31\": {\"42\": 2, \"31\": 13, \"7\": 1, \"16\": 1, \"43\": 2, \"24\": 1, \"35\": 1, \"17\": 2, \"10\": 1, \"39\": 2, \"11\": 1, \"37\": 1}, \"46\": {\"46\": 127, \"5\": 1}, \"57\": {\"57\": 89, \"8\": 8, \"27\": 6, \"1\": 2, \"9\": 8, \"29\": 7, \"47\": 2, \"13\": 1, \"48\": 3, \"20\": 5, \"4\": 11}, \"47\": {\"47\": 104, \"56\": 9, \"1\": 10, \"0\": 1, \"48\": 12, \"20\": 2}, \"35\": {\"19\": 1, \"17\": 3, \"36\": 1, \"35\": 20, \"23\": 1, \"39\": 1, \"34\": 2, \"42\": 1, \"24\": 1, \"43\": 1}, \"15\": {\"34\": 2, \"15\": 66, \"18\": 1, \"11\": 19, \"26\": 2, \"53\": 3, \"16\": 23, \"10\": 13, \"23\": 1, \"49\": 1, \"19\": 1}, \"25\": {\"25\": 104, \"16\": 19, \"53\": 1, \"15\": 5, \"19\": 1, \"10\": 1, \"18\": 2, \"11\": 3}, \"19\": {\"19\": 96, \"15\": 4, \"34\": 4, \"26\": 1, \"11\": 2, \"10\": 4, \"24\": 1, \"16\": 4, \"53\": 4, \"23\": 9, \"54\": 2, \"28\": 1, \"49\": 2, \"25\": 1, \"43\": 1}, \"51\": {\"51\": 90, \"36\": 8, \"8\": 3, \"13\": 9, \"37\": 1, \"29\": 1, \"27\": 10, \"2\": 3, \"55\": 2, \"32\": 1}, \"53\": {\"53\": 65, \"24\": 13, \"54\": 3, \"28\": 2, \"16\": 2, \"26\": 4, \"42\": 2, \"17\": 1, \"23\": 22, \"11\": 2, \"10\": 4, \"43\": 9, \"15\": 2, \"55\": 2, \"49\": 1}, \"21\": {\"21\": 120}, \"39\": {\"39\": 18, \"42\": 2, \"33\": 2, \"55\": 1, \"13\": 2, \"41\": 1, \"1\": 1, \"8\": 1}, \"2\": {\"33\": 1, \"2\": 16, \"41\": 4, \"51\": 3, \"13\": 2, \"32\": 1, \"27\": 3, \"57\": 1, \"38\": 1}, \"16\": {\"34\": 1, \"16\": 91, \"26\": 1, \"11\": 19, \"15\": 17, \"25\": 7, \"53\": 4, \"10\": 10}, \"0\": {\"0\": 46, \"22\": 2}, \"3\": {\"3\": 91, \"6\": 1}, \"27\": {\"8\": 15, \"27\": 93, \"13\": 8, \"51\": 8, \"29\": 7, \"57\": 3, \"36\": 1, \"2\": 2, \"4\": 1, \"41\": 2, \"9\": 2}, \"28\": {\"10\": 2, \"49\": 3, \"28\": 12, \"53\": 3, \"15\": 2, \"23\": 2, \"11\": 1, \"19\": 1, \"24\": 2}, \"29\": {\"14\": 2, \"4\": 3, \"41\": 2, \"29\": 63, \"48\": 2, \"9\": 12, \"13\": 3, \"8\": 18, \"27\": 10, \"57\": 9, \"51\": 1, \"20\": 1, \"1\": 1, \"36\": 1}}}, \"per_domain_accuracy\": {\"O_14\": {\"accuracy\": 0.8825520833333333, \"source?\": true}, \"O_20\": {\"accuracy\": 0.88984375, \"source?\": true}, \"O_38\": {\"accuracy\": 0.89609375, \"source?\": true}, \"O_8\": {\"accuracy\": 0.86796875, \"source?\": true}, \"O_50\": {\"accuracy\": 0.90546875, \"source?\": true}, \"O_32\": {\"accuracy\": 0.8765625, \"source?\": true}, \"O_26\": {\"accuracy\": 0.82265625, \"source?\": true}, \"O_44\": {\"accuracy\": 0.8393229166666667, \"source?\": true}, \"C_3\": {\"accuracy\": 0.7303779069767442, \"source?\": false}, \"C_4\": {\"accuracy\": 0.7541666666666667, \"source?\": false}, \"C_5\": {\"accuracy\": 0.7800279329608939, \"source?\": false}, \"C_1\": {\"accuracy\": 0.789275956284153, \"source?\": false}, \"C_2\": {\"accuracy\": 0.729343220338983, \"source?\": false}}}, \"history\": {\"epoch_indices\": [1, 2, 3, 4, 5, 6, 7, 8], \"train_label_loss\": [0.7815319769162064, 0.7472818542061196, 0.4149382096382656, 0.4218312983279161, 0.3430936934664801, 0.3295727022269386, 0.31978400963070314, 0.3134916890362677], \"source_val_label_loss\": [7.15167236328125, 0.48997628688812256, 0.4264180660247803, 0.35168492794036865, 0.360662579536438, 0.31562715768814087, 0.3249264657497406, 0.32289713621139526], \"target_val_label_loss\": [2641.934814453125, 714.9317016601562, 598.4197387695312, 240.89178466796875, 389.08843994140625, 748.6067504882812, 1192.8455810546875, 1408.577880859375], \"source_val_acc_label\": [0.5039713541666667, 0.8240234375, 0.8459309895833333, 0.87255859375, 0.8684244791666667, 0.88671875, 0.88251953125, 0.8850260416666667], \"target_val_acc_label\": [0.498787100456621, 0.5670305365296804, 0.591859303652968, 0.7570990296803652, 0.7332691210045662, 0.689105308219178, 0.641980593607306, 0.6469392123287672]}, \"dataset_metrics\": {\"source\": {\"train\": {\"n_unique_x\": 179200, \"n_unique_y\": 16, \"n_batch/episode\": 6720}, \"val\": {\"n_unique_x\": 38400, \"n_unique_y\": 16, \"n_batch/episode\": 960}, \"test\": {\"n_unique_x\": 38400, \"n_unique_y\": 16, \"n_batch/episode\": 960}}, \"target\": {\"train\": {\"n_unique_x\": 175212, \"n_unique_y\": 58, \"n_batch/episode\": 6322}, \"val\": {\"n_unique_x\": 37196, \"n_unique_y\": 58, \"n_batch/episode\": 876}, \"test\": {\"n_unique_x\": 37634, \"n_unique_y\": 58, \"n_batch/episode\": 891}}}}'"
      ]
     },
     "execution_count": 29,
     "metadata": {},
     "output_type": "execute_result"
    }
   ],
   "source": [
    "json.dumps(experiment)"
   ]
  }
 ],
 "metadata": {
  "celltoolbar": "Tags",
  "kernelspec": {
   "display_name": "Python 3 (ipykernel)",
   "language": "python",
   "name": "python3"
  },
  "language_info": {
   "codemirror_mode": {
    "name": "ipython",
    "version": 3
   },
   "file_extension": ".py",
   "mimetype": "text/x-python",
   "name": "python",
   "nbconvert_exporter": "python",
   "pygments_lexer": "ipython3",
   "version": "3.8.12"
  },
  "papermill": {
   "default_parameters": {},
   "duration": 1570.624639,
   "end_time": "2022-03-28T16:40:17.349090",
   "environment_variables": {},
   "exception": null,
   "input_path": "/root/csc500-main/csc500-notebooks/templates/tl_ptn_template.ipynb",
   "output_path": "trial.ipynb",
   "parameters": {
    "parameters": {
     "BEST_MODEL_PATH": "./best_model.pth",
     "NUM_LOGS_PER_EPOCH": 10,
     "criteria_for_best": "target_accuracy",
     "dataset_seed": 1337,
     "datasets": [
      {
       "domain_prefix": "C_",
       "domains": [
        1,
        2,
        3,
        4,
        5
       ],
       "episode_transforms": [],
       "labels": [
        "1-10.",
        "1-11.",
        "1-15.",
        "1-16.",
        "1-17.",
        "1-18.",
        "1-19.",
        "10-4.",
        "10-7.",
        "11-1.",
        "11-14.",
        "11-17.",
        "11-20.",
        "11-7.",
        "13-20.",
        "13-8.",
        "14-10.",
        "14-11.",
        "14-14.",
        "14-7.",
        "15-1.",
        "15-20.",
        "16-1.",
        "16-16.",
        "17-10.",
        "17-11.",
        "17-2.",
        "19-1.",
        "19-16.",
        "19-19.",
        "19-20.",
        "19-3.",
        "2-10.",
        "2-11.",
        "2-17.",
        "2-18.",
        "2-20.",
        "2-3.",
        "2-4.",
        "2-5.",
        "2-6.",
        "2-7.",
        "2-8.",
        "3-13.",
        "3-18.",
        "3-3.",
        "4-1.",
        "4-10.",
        "4-11.",
        "4-19.",
        "5-5.",
        "6-15.",
        "7-10.",
        "7-14.",
        "8-18.",
        "8-20.",
        "8-3.",
        "8-8."
       ],
       "num_examples_per_domain_per_label": -1,
       "pickle_path": "/root/csc500-main/datasets/cores.stratified_ds.2022A.pkl",
       "source_or_target_dataset": "target",
       "x_transforms": [
        "jitter_256_5",
        "lowpass_+/-10MHz",
        "take_200"
       ]
      },
      {
       "domain_prefix": "O_",
       "domains": [
        32,
        38,
        8,
        44,
        14,
        50,
        20,
        26
       ],
       "episode_transforms": [],
       "labels": [
        "3123D52",
        "3123D65",
        "3123D79",
        "3123D80",
        "3123D54",
        "3123D70",
        "3123D7B",
        "3123D89",
        "3123D58",
        "3123D76",
        "3123D7D",
        "3123EFE",
        "3123D64",
        "3123D78",
        "3123D7E",
        "3124E4A"
       ],
       "num_examples_per_domain_per_label": 2000,
       "pickle_path": "/root/csc500-main/datasets/oracle.Run1_framed_2000Examples_stratified_ds.2022A.pkl",
       "source_or_target_dataset": "source",
       "x_transforms": [
        "jitter_256_5",
        "take_200",
        "resample_20Msps_to_25Msps"
       ]
      }
     ],
     "device": "cuda",
     "experiment_name": "tl_3-jitter5v2:oracle.run1.framed -> cores",
     "lr": 0.0001,
     "n_epoch": 50,
     "n_query": 2,
     "n_shot": 3,
     "n_way": 16,
     "patience": 3,
     "seed": 1337,
     "test_k_factor": 2,
     "torch_default_dtype": "torch.float32",
     "train_k_factor": 3,
     "val_k_factor": 2,
     "x_net": [
      {
       "class": "nnReshape",
       "kargs": {
        "shape": [
         -1,
         1,
         2,
         256
        ]
       }
      },
      {
       "class": "Conv2d",
       "kargs": {
        "bias": false,
        "in_channels": 1,
        "kernel_size": [
         1,
         7
        ],
        "out_channels": 256,
        "padding": [
         0,
         3
        ]
       }
      },
      {
       "class": "ReLU",
       "kargs": {
        "inplace": true
       }
      },
      {
       "class": "BatchNorm2d",
       "kargs": {
        "num_features": 256
       }
      },
      {
       "class": "Conv2d",
       "kargs": {
        "bias": true,
        "in_channels": 256,
        "kernel_size": [
         2,
         7
        ],
        "out_channels": 80,
        "padding": [
         0,
         3
        ]
       }
      },
      {
       "class": "ReLU",
       "kargs": {
        "inplace": true
       }
      },
      {
       "class": "BatchNorm2d",
       "kargs": {
        "num_features": 80
       }
      },
      {
       "class": "Flatten",
       "kargs": {}
      },
      {
       "class": "Linear",
       "kargs": {
        "in_features": 20480,
        "out_features": 256
       }
      },
      {
       "class": "ReLU",
       "kargs": {
        "inplace": true
       }
      },
      {
       "class": "BatchNorm1d",
       "kargs": {
        "num_features": 256
       }
      },
      {
       "class": "Linear",
       "kargs": {
        "in_features": 256,
        "out_features": 256
       }
      }
     ],
     "x_shape": [
      2,
      256
     ]
    }
   },
   "start_time": "2022-03-28T16:14:06.724451",
   "version": "2.3.4"
  }
 },
 "nbformat": 4,
 "nbformat_minor": 5
}