{
 "cells": [
  {
   "cell_type": "markdown",
   "id": "9fea5f46",
   "metadata": {
    "papermill": {
     "duration": 0.029602,
     "end_time": "2022-03-28T15:53:13.014940",
     "exception": false,
     "start_time": "2022-03-28T15:53:12.985338",
     "status": "completed"
    },
    "tags": []
   },
   "source": [
    "# Transfer Learning Template"
   ]
  },
  {
   "cell_type": "code",
   "execution_count": 1,
   "id": "0902182a",
   "metadata": {
    "execution": {
     "iopub.execute_input": "2022-03-28T15:53:13.078075Z",
     "iopub.status.busy": "2022-03-28T15:53:13.077212Z",
     "iopub.status.idle": "2022-03-28T15:53:14.918054Z",
     "shell.execute_reply": "2022-03-28T15:53:14.918726Z"
    },
    "papermill": {
     "duration": 1.879813,
     "end_time": "2022-03-28T15:53:14.919067",
     "exception": false,
     "start_time": "2022-03-28T15:53:13.039254",
     "status": "completed"
    },
    "tags": []
   },
   "outputs": [],
   "source": [
    "%load_ext autoreload\n",
    "%autoreload 2\n",
    "%matplotlib inline\n",
    "\n",
    "    \n",
    "import os, json, sys, time, random\n",
    "import numpy as np\n",
    "import torch\n",
    "from torch.optim import Adam\n",
    "from  easydict import EasyDict\n",
    "import matplotlib.pyplot as plt\n",
    "\n",
    "from steves_models.steves_ptn import Steves_Prototypical_Network\n",
    "\n",
    "from steves_utils.lazy_iterable_wrapper import Lazy_Iterable_Wrapper\n",
    "from steves_utils.iterable_aggregator import Iterable_Aggregator\n",
    "from steves_utils.ptn_train_eval_test_jig import  PTN_Train_Eval_Test_Jig\n",
    "from steves_utils.torch_sequential_builder import build_sequential\n",
    "from steves_utils.torch_utils import get_dataset_metrics, ptn_confusion_by_domain_over_dataloader\n",
    "from steves_utils.utils_v2 import (per_domain_accuracy_from_confusion, get_datasets_base_path)\n",
    "from steves_utils.PTN.utils import independent_accuracy_assesment\n",
    "\n",
    "from torch.utils.data import DataLoader\n",
    "\n",
    "from steves_utils.stratified_dataset.episodic_accessor import Episodic_Accessor_Factory\n",
    "\n",
    "from steves_utils.ptn_do_report import (\n",
    "    get_loss_curve,\n",
    "    get_results_table,\n",
    "    get_parameters_table,\n",
    "    get_domain_accuracies,\n",
    ")\n",
    "\n",
    "from steves_utils.transforms import get_chained_transform"
   ]
  },
  {
   "cell_type": "markdown",
   "id": "41c840b4",
   "metadata": {
    "papermill": {
     "duration": 0.019835,
     "end_time": "2022-03-28T15:53:14.964253",
     "exception": false,
     "start_time": "2022-03-28T15:53:14.944418",
     "status": "completed"
    },
    "tags": []
   },
   "source": [
    "# Allowed Parameters\n",
    "These are allowed parameters, not defaults\n",
    "Each of these values need to be present in the injected parameters (the notebook will raise an exception if they are not present)\n",
    "\n",
    "Papermill uses the cell tag \"parameters\" to inject the real parameters below this cell.\n",
    "Enable tags to see what I mean"
   ]
  },
  {
   "cell_type": "code",
   "execution_count": 2,
   "id": "fd44eb83",
   "metadata": {
    "execution": {
     "iopub.execute_input": "2022-03-28T15:53:15.007604Z",
     "iopub.status.busy": "2022-03-28T15:53:15.007199Z",
     "iopub.status.idle": "2022-03-28T15:53:15.028814Z",
     "shell.execute_reply": "2022-03-28T15:53:15.027999Z"
    },
    "papermill": {
     "duration": 0.044843,
     "end_time": "2022-03-28T15:53:15.028971",
     "exception": false,
     "start_time": "2022-03-28T15:53:14.984128",
     "status": "completed"
    },
    "tags": []
   },
   "outputs": [],
   "source": [
    "required_parameters = {\n",
    "    \"experiment_name\",\n",
    "    \"lr\",\n",
    "    \"device\",\n",
    "    \"seed\",\n",
    "    \"dataset_seed\",\n",
    "    \"n_shot\",\n",
    "    \"n_query\",\n",
    "    \"n_way\",\n",
    "    \"train_k_factor\",\n",
    "    \"val_k_factor\",\n",
    "    \"test_k_factor\",\n",
    "    \"n_epoch\",\n",
    "    \"patience\",\n",
    "    \"criteria_for_best\",\n",
    "    \"x_net\",\n",
    "    \"datasets\",\n",
    "    \"torch_default_dtype\",\n",
    "    \"NUM_LOGS_PER_EPOCH\",\n",
    "    \"BEST_MODEL_PATH\",\n",
    "    \"x_shape\",\n",
    "}"
   ]
  },
  {
   "cell_type": "code",
   "execution_count": 3,
   "id": "fa3f0049",
   "metadata": {
    "execution": {
     "iopub.execute_input": "2022-03-28T15:53:15.084488Z",
     "iopub.status.busy": "2022-03-28T15:53:15.080758Z",
     "iopub.status.idle": "2022-03-28T15:53:15.106405Z",
     "shell.execute_reply": "2022-03-28T15:53:15.105706Z"
    },
    "papermill": {
     "duration": 0.053172,
     "end_time": "2022-03-28T15:53:15.106572",
     "exception": false,
     "start_time": "2022-03-28T15:53:15.053400",
     "status": "completed"
    },
    "tags": [
     "parameters"
    ]
   },
   "outputs": [],
   "source": [
    "from steves_utils.CORES.utils import (\n",
    "    ALL_NODES,\n",
    "    ALL_NODES_MINIMUM_1000_EXAMPLES,\n",
    "    ALL_DAYS\n",
    ")\n",
    "\n",
    "from steves_utils.ORACLE.utils_v2 import (\n",
    "    ALL_DISTANCES_FEET_NARROWED,\n",
    "    ALL_RUNS,\n",
    "    ALL_SERIAL_NUMBERS,\n",
    ")\n",
    "\n",
    "standalone_parameters = {}\n",
    "standalone_parameters[\"experiment_name\"] = \"STANDALONE PTN\"\n",
    "standalone_parameters[\"lr\"] = 0.001\n",
    "standalone_parameters[\"device\"] = \"cuda\"\n",
    "\n",
    "standalone_parameters[\"seed\"] = 1337\n",
    "standalone_parameters[\"dataset_seed\"] = 1337\n",
    "\n",
    "standalone_parameters[\"n_way\"] = 8\n",
    "standalone_parameters[\"n_shot\"] = 3\n",
    "standalone_parameters[\"n_query\"]  = 2\n",
    "standalone_parameters[\"train_k_factor\"] = 1\n",
    "standalone_parameters[\"val_k_factor\"] = 2\n",
    "standalone_parameters[\"test_k_factor\"] = 2\n",
    "\n",
    "\n",
    "standalone_parameters[\"n_epoch\"] = 50\n",
    "\n",
    "standalone_parameters[\"patience\"] = 10\n",
    "standalone_parameters[\"criteria_for_best\"] = \"source_loss\"\n",
    "\n",
    "standalone_parameters[\"datasets\"] = [\n",
    "    {\n",
    "        \"labels\": ALL_SERIAL_NUMBERS,\n",
    "        \"domains\": ALL_DISTANCES_FEET_NARROWED,\n",
    "        \"num_examples_per_domain_per_label\": 100,\n",
    "        \"pickle_path\": os.path.join(get_datasets_base_path(), \"oracle.Run1_framed_2000Examples_stratified_ds.2022A.pkl\"),\n",
    "        \"source_or_target_dataset\": \"source\",\n",
    "        \"x_transforms\": [\"unit_mag\", \"minus_two\"],\n",
    "        \"episode_transforms\": [],\n",
    "        \"domain_prefix\": \"ORACLE_\"\n",
    "    },\n",
    "    {\n",
    "        \"labels\": ALL_NODES,\n",
    "        \"domains\": ALL_DAYS,\n",
    "        \"num_examples_per_domain_per_label\": 100,\n",
    "        \"pickle_path\": os.path.join(get_datasets_base_path(), \"cores.stratified_ds.2022A.pkl\"),\n",
    "        \"source_or_target_dataset\": \"target\",\n",
    "        \"x_transforms\": [\"unit_power\", \"times_zero\"],\n",
    "        \"episode_transforms\": [],\n",
    "        \"domain_prefix\": \"CORES_\"\n",
    "    }   \n",
    "]\n",
    "\n",
    "standalone_parameters[\"torch_default_dtype\"] = \"torch.float32\" \n",
    "\n",
    "\n",
    "\n",
    "standalone_parameters[\"x_net\"] =     [\n",
    "    {\"class\": \"nnReshape\", \"kargs\": {\"shape\":[-1, 1, 2, 256]}},\n",
    "    {\"class\": \"Conv2d\", \"kargs\": { \"in_channels\":1, \"out_channels\":256, \"kernel_size\":(1,7), \"bias\":False, \"padding\":(0,3), },},\n",
    "    {\"class\": \"ReLU\", \"kargs\": {\"inplace\": True}},\n",
    "    {\"class\": \"BatchNorm2d\", \"kargs\": {\"num_features\":256}},\n",
    "\n",
    "    {\"class\": \"Conv2d\", \"kargs\": { \"in_channels\":256, \"out_channels\":80, \"kernel_size\":(2,7), \"bias\":True, \"padding\":(0,3), },},\n",
    "    {\"class\": \"ReLU\", \"kargs\": {\"inplace\": True}},\n",
    "    {\"class\": \"BatchNorm2d\", \"kargs\": {\"num_features\":80}},\n",
    "    {\"class\": \"Flatten\", \"kargs\": {}},\n",
    "\n",
    "    {\"class\": \"Linear\", \"kargs\": {\"in_features\": 80*256, \"out_features\": 256}}, # 80 units per IQ pair\n",
    "    {\"class\": \"ReLU\", \"kargs\": {\"inplace\": True}},\n",
    "    {\"class\": \"BatchNorm1d\", \"kargs\": {\"num_features\":256}},\n",
    "\n",
    "    {\"class\": \"Linear\", \"kargs\": {\"in_features\": 256, \"out_features\": 256}},\n",
    "]\n",
    "\n",
    "# Parameters relevant to results\n",
    "# These parameters will basically never need to change\n",
    "standalone_parameters[\"NUM_LOGS_PER_EPOCH\"] = 10\n",
    "standalone_parameters[\"BEST_MODEL_PATH\"] = \"./best_model.pth\"\n",
    "\n",
    "\n",
    "\n",
    "\n"
   ]
  },
  {
   "cell_type": "code",
   "execution_count": 4,
   "id": "f296d0de",
   "metadata": {
    "execution": {
     "iopub.execute_input": "2022-03-28T15:53:15.163437Z",
     "iopub.status.busy": "2022-03-28T15:53:15.162692Z",
     "iopub.status.idle": "2022-03-28T15:53:15.184006Z",
     "shell.execute_reply": "2022-03-28T15:53:15.183151Z"
    },
    "papermill": {
     "duration": 0.051723,
     "end_time": "2022-03-28T15:53:15.184167",
     "exception": false,
     "start_time": "2022-03-28T15:53:15.132444",
     "status": "completed"
    },
    "tags": [
     "injected-parameters"
    ]
   },
   "outputs": [],
   "source": [
    "# Parameters\n",
    "parameters = {\n",
    "    \"experiment_name\": \"tl_3-jitter5v2:oracle.run1.framed -> cores\",\n",
    "    \"device\": \"cuda\",\n",
    "    \"lr\": 0.0001,\n",
    "    \"x_shape\": [2, 256],\n",
    "    \"n_shot\": 3,\n",
    "    \"n_query\": 2,\n",
    "    \"train_k_factor\": 3,\n",
    "    \"val_k_factor\": 2,\n",
    "    \"test_k_factor\": 2,\n",
    "    \"torch_default_dtype\": \"torch.float32\",\n",
    "    \"n_epoch\": 50,\n",
    "    \"patience\": 3,\n",
    "    \"criteria_for_best\": \"target_accuracy\",\n",
    "    \"x_net\": [\n",
    "        {\"class\": \"nnReshape\", \"kargs\": {\"shape\": [-1, 1, 2, 256]}},\n",
    "        {\n",
    "            \"class\": \"Conv2d\",\n",
    "            \"kargs\": {\n",
    "                \"in_channels\": 1,\n",
    "                \"out_channels\": 256,\n",
    "                \"kernel_size\": [1, 7],\n",
    "                \"bias\": False,\n",
    "                \"padding\": [0, 3],\n",
    "            },\n",
    "        },\n",
    "        {\"class\": \"ReLU\", \"kargs\": {\"inplace\": True}},\n",
    "        {\"class\": \"BatchNorm2d\", \"kargs\": {\"num_features\": 256}},\n",
    "        {\n",
    "            \"class\": \"Conv2d\",\n",
    "            \"kargs\": {\n",
    "                \"in_channels\": 256,\n",
    "                \"out_channels\": 80,\n",
    "                \"kernel_size\": [2, 7],\n",
    "                \"bias\": True,\n",
    "                \"padding\": [0, 3],\n",
    "            },\n",
    "        },\n",
    "        {\"class\": \"ReLU\", \"kargs\": {\"inplace\": True}},\n",
    "        {\"class\": \"BatchNorm2d\", \"kargs\": {\"num_features\": 80}},\n",
    "        {\"class\": \"Flatten\", \"kargs\": {}},\n",
    "        {\"class\": \"Linear\", \"kargs\": {\"in_features\": 20480, \"out_features\": 256}},\n",
    "        {\"class\": \"ReLU\", \"kargs\": {\"inplace\": True}},\n",
    "        {\"class\": \"BatchNorm1d\", \"kargs\": {\"num_features\": 256}},\n",
    "        {\"class\": \"Linear\", \"kargs\": {\"in_features\": 256, \"out_features\": 256}},\n",
    "    ],\n",
    "    \"NUM_LOGS_PER_EPOCH\": 10,\n",
    "    \"BEST_MODEL_PATH\": \"./best_model.pth\",\n",
    "    \"n_way\": 16,\n",
    "    \"datasets\": [\n",
    "        {\n",
    "            \"labels\": [\n",
    "                \"1-10.\",\n",
    "                \"1-11.\",\n",
    "                \"1-15.\",\n",
    "                \"1-16.\",\n",
    "                \"1-17.\",\n",
    "                \"1-18.\",\n",
    "                \"1-19.\",\n",
    "                \"10-4.\",\n",
    "                \"10-7.\",\n",
    "                \"11-1.\",\n",
    "                \"11-14.\",\n",
    "                \"11-17.\",\n",
    "                \"11-20.\",\n",
    "                \"11-7.\",\n",
    "                \"13-20.\",\n",
    "                \"13-8.\",\n",
    "                \"14-10.\",\n",
    "                \"14-11.\",\n",
    "                \"14-14.\",\n",
    "                \"14-7.\",\n",
    "                \"15-1.\",\n",
    "                \"15-20.\",\n",
    "                \"16-1.\",\n",
    "                \"16-16.\",\n",
    "                \"17-10.\",\n",
    "                \"17-11.\",\n",
    "                \"17-2.\",\n",
    "                \"19-1.\",\n",
    "                \"19-16.\",\n",
    "                \"19-19.\",\n",
    "                \"19-20.\",\n",
    "                \"19-3.\",\n",
    "                \"2-10.\",\n",
    "                \"2-11.\",\n",
    "                \"2-17.\",\n",
    "                \"2-18.\",\n",
    "                \"2-20.\",\n",
    "                \"2-3.\",\n",
    "                \"2-4.\",\n",
    "                \"2-5.\",\n",
    "                \"2-6.\",\n",
    "                \"2-7.\",\n",
    "                \"2-8.\",\n",
    "                \"3-13.\",\n",
    "                \"3-18.\",\n",
    "                \"3-3.\",\n",
    "                \"4-1.\",\n",
    "                \"4-10.\",\n",
    "                \"4-11.\",\n",
    "                \"4-19.\",\n",
    "                \"5-5.\",\n",
    "                \"6-15.\",\n",
    "                \"7-10.\",\n",
    "                \"7-14.\",\n",
    "                \"8-18.\",\n",
    "                \"8-20.\",\n",
    "                \"8-3.\",\n",
    "                \"8-8.\",\n",
    "            ],\n",
    "            \"domains\": [1, 2, 3, 4, 5],\n",
    "            \"num_examples_per_domain_per_label\": -1,\n",
    "            \"pickle_path\": \"/root/csc500-main/datasets/cores.stratified_ds.2022A.pkl\",\n",
    "            \"source_or_target_dataset\": \"target\",\n",
    "            \"x_transforms\": [\n",
    "                \"unit_mag\",\n",
    "                \"jitter_256_5\",\n",
    "                \"lowpass_+/-10MHz\",\n",
    "                \"take_200\",\n",
    "            ],\n",
    "            \"episode_transforms\": [],\n",
    "            \"domain_prefix\": \"C_\",\n",
    "        },\n",
    "        {\n",
    "            \"labels\": [\n",
    "                \"3123D52\",\n",
    "                \"3123D65\",\n",
    "                \"3123D79\",\n",
    "                \"3123D80\",\n",
    "                \"3123D54\",\n",
    "                \"3123D70\",\n",
    "                \"3123D7B\",\n",
    "                \"3123D89\",\n",
    "                \"3123D58\",\n",
    "                \"3123D76\",\n",
    "                \"3123D7D\",\n",
    "                \"3123EFE\",\n",
    "                \"3123D64\",\n",
    "                \"3123D78\",\n",
    "                \"3123D7E\",\n",
    "                \"3124E4A\",\n",
    "            ],\n",
    "            \"domains\": [32, 38, 8, 44, 14, 50, 20, 26],\n",
    "            \"num_examples_per_domain_per_label\": 2000,\n",
    "            \"pickle_path\": \"/root/csc500-main/datasets/oracle.Run1_framed_2000Examples_stratified_ds.2022A.pkl\",\n",
    "            \"source_or_target_dataset\": \"source\",\n",
    "            \"x_transforms\": [\n",
    "                \"unit_mag\",\n",
    "                \"jitter_256_5\",\n",
    "                \"take_200\",\n",
    "                \"resample_20Msps_to_25Msps\",\n",
    "            ],\n",
    "            \"episode_transforms\": [],\n",
    "            \"domain_prefix\": \"O_\",\n",
    "        },\n",
    "    ],\n",
    "    \"seed\": 1337,\n",
    "    \"dataset_seed\": 1337,\n",
    "}\n"
   ]
  },
  {
   "cell_type": "code",
   "execution_count": 5,
   "id": "8fa1cc33",
   "metadata": {
    "execution": {
     "iopub.execute_input": "2022-03-28T15:53:15.236007Z",
     "iopub.status.busy": "2022-03-28T15:53:15.235628Z",
     "iopub.status.idle": "2022-03-28T15:53:15.256282Z",
     "shell.execute_reply": "2022-03-28T15:53:15.255455Z"
    },
    "papermill": {
     "duration": 0.045062,
     "end_time": "2022-03-28T15:53:15.256438",
     "exception": false,
     "start_time": "2022-03-28T15:53:15.211376",
     "status": "completed"
    },
    "tags": []
   },
   "outputs": [],
   "source": [
    "# Set this to True if you want to run this template directly\n",
    "STANDALONE = False\n",
    "if STANDALONE:\n",
    "    print(\"parameters not injected, running with standalone_parameters\")\n",
    "    parameters = standalone_parameters\n",
    "\n",
    "if not 'parameters' in locals() and not 'parameters' in globals():\n",
    "    raise Exception(\"Parameter injection failed\")\n",
    "\n",
    "#Use an easy dict for all the parameters\n",
    "p = EasyDict(parameters)\n",
    "\n",
    "if \"x_shape\" not in p:\n",
    "    p.x_shape = [2,256] # Default to this if we dont supply x_shape\n",
    "\n",
    "\n",
    "supplied_keys = set(p.keys())\n",
    "\n",
    "if  supplied_keys != required_parameters:\n",
    "    print(\"Parameters are incorrect\")\n",
    "    if len(supplied_keys - required_parameters)>0: print(\"Shouldn't have:\", str(supplied_keys - required_parameters))\n",
    "    if len(required_parameters - supplied_keys)>0: print(\"Need to have:\", str(required_parameters - supplied_keys))\n",
    "    raise RuntimeError(\"Parameters are incorrect\")"
   ]
  },
  {
   "cell_type": "code",
   "execution_count": 6,
   "id": "3a028d58",
   "metadata": {
    "execution": {
     "iopub.execute_input": "2022-03-28T15:53:15.311454Z",
     "iopub.status.busy": "2022-03-28T15:53:15.310796Z",
     "iopub.status.idle": "2022-03-28T15:53:15.328053Z",
     "shell.execute_reply": "2022-03-28T15:53:15.328689Z"
    },
    "papermill": {
     "duration": 0.043051,
     "end_time": "2022-03-28T15:53:15.328875",
     "exception": false,
     "start_time": "2022-03-28T15:53:15.285824",
     "status": "completed"
    },
    "tags": []
   },
   "outputs": [],
   "source": [
    "###################################\n",
    "# Set the RNGs and make it all deterministic\n",
    "###################################\n",
    "np.random.seed(p.seed)\n",
    "random.seed(p.seed)\n",
    "torch.manual_seed(p.seed)\n",
    "\n",
    "torch.use_deterministic_algorithms(True) "
   ]
  },
  {
   "cell_type": "code",
   "execution_count": 7,
   "id": "b691acf6",
   "metadata": {
    "execution": {
     "iopub.execute_input": "2022-03-28T15:53:15.376634Z",
     "iopub.status.busy": "2022-03-28T15:53:15.376032Z",
     "iopub.status.idle": "2022-03-28T15:53:15.394961Z",
     "shell.execute_reply": "2022-03-28T15:53:15.394151Z"
    },
    "papermill": {
     "duration": 0.041796,
     "end_time": "2022-03-28T15:53:15.395122",
     "exception": false,
     "start_time": "2022-03-28T15:53:15.353326",
     "status": "completed"
    },
    "tags": []
   },
   "outputs": [],
   "source": [
    "###########################################\n",
    "# The stratified datasets honor this\n",
    "###########################################\n",
    "torch.set_default_dtype(eval(p.torch_default_dtype))"
   ]
  },
  {
   "cell_type": "code",
   "execution_count": 8,
   "id": "b5fba671",
   "metadata": {
    "execution": {
     "iopub.execute_input": "2022-03-28T15:53:15.446402Z",
     "iopub.status.busy": "2022-03-28T15:53:15.445878Z",
     "iopub.status.idle": "2022-03-28T15:53:15.498683Z",
     "shell.execute_reply": "2022-03-28T15:53:15.497931Z"
    },
    "papermill": {
     "duration": 0.075979,
     "end_time": "2022-03-28T15:53:15.498857",
     "exception": false,
     "start_time": "2022-03-28T15:53:15.422878",
     "status": "completed"
    },
    "tags": []
   },
   "outputs": [],
   "source": [
    "###################################\n",
    "# Build the network(s)\n",
    "# Note: It's critical to do this AFTER setting the RNG\n",
    "###################################\n",
    "x_net = build_sequential(p.x_net)"
   ]
  },
  {
   "cell_type": "code",
   "execution_count": 9,
   "id": "5d7e61cc",
   "metadata": {
    "execution": {
     "iopub.execute_input": "2022-03-28T15:53:15.550108Z",
     "iopub.status.busy": "2022-03-28T15:53:15.549734Z",
     "iopub.status.idle": "2022-03-28T15:53:15.572461Z",
     "shell.execute_reply": "2022-03-28T15:53:15.571741Z"
    },
    "papermill": {
     "duration": 0.047106,
     "end_time": "2022-03-28T15:53:15.572625",
     "exception": false,
     "start_time": "2022-03-28T15:53:15.525519",
     "status": "completed"
    },
    "tags": []
   },
   "outputs": [],
   "source": [
    "start_time_secs = time.time()"
   ]
  },
  {
   "cell_type": "code",
   "execution_count": 10,
   "id": "c6b67dfd",
   "metadata": {
    "execution": {
     "iopub.execute_input": "2022-03-28T15:53:15.625711Z",
     "iopub.status.busy": "2022-03-28T15:53:15.625055Z",
     "iopub.status.idle": "2022-03-28T15:53:15.644353Z",
     "shell.execute_reply": "2022-03-28T15:53:15.643514Z"
    },
    "papermill": {
     "duration": 0.044561,
     "end_time": "2022-03-28T15:53:15.644508",
     "exception": false,
     "start_time": "2022-03-28T15:53:15.599947",
     "status": "completed"
    },
    "tags": []
   },
   "outputs": [],
   "source": [
    "p.domains_source = []\n",
    "p.domains_target = []\n",
    "\n",
    "\n",
    "train_original_source = []\n",
    "val_original_source   = []\n",
    "test_original_source  = []\n",
    "\n",
    "train_original_target = []\n",
    "val_original_target   = []\n",
    "test_original_target  = []"
   ]
  },
  {
   "cell_type": "code",
   "execution_count": 11,
   "id": "e3d9c3d3",
   "metadata": {
    "execution": {
     "iopub.execute_input": "2022-03-28T15:53:15.695478Z",
     "iopub.status.busy": "2022-03-28T15:53:15.695109Z",
     "iopub.status.idle": "2022-03-28T15:53:15.714252Z",
     "shell.execute_reply": "2022-03-28T15:53:15.713438Z"
    },
    "papermill": {
     "duration": 0.042493,
     "end_time": "2022-03-28T15:53:15.714406",
     "exception": false,
     "start_time": "2022-03-28T15:53:15.671913",
     "status": "completed"
    },
    "tags": []
   },
   "outputs": [],
   "source": [
    "# global_x_transform_func = lambda x: normalize(x.to(torch.get_default_dtype()), \"unit_power\") # unit_power, unit_mag\n",
    "# global_x_transform_func = lambda x: normalize(x, \"unit_power\") # unit_power, unit_mag"
   ]
  },
  {
   "cell_type": "code",
   "execution_count": 12,
   "id": "acb78fd2",
   "metadata": {
    "execution": {
     "iopub.execute_input": "2022-03-28T15:53:15.769410Z",
     "iopub.status.busy": "2022-03-28T15:53:15.768544Z",
     "iopub.status.idle": "2022-03-28T15:53:15.788563Z",
     "shell.execute_reply": "2022-03-28T15:53:15.787756Z"
    },
    "papermill": {
     "duration": 0.048075,
     "end_time": "2022-03-28T15:53:15.788718",
     "exception": false,
     "start_time": "2022-03-28T15:53:15.740643",
     "status": "completed"
    },
    "tags": []
   },
   "outputs": [],
   "source": [
    "def add_dataset(\n",
    "    labels,\n",
    "    domains,\n",
    "    pickle_path,\n",
    "    x_transforms,\n",
    "    episode_transforms,\n",
    "    domain_prefix,\n",
    "    num_examples_per_domain_per_label,\n",
    "    source_or_target_dataset:str,\n",
    "    iterator_seed=p.seed,\n",
    "    dataset_seed=p.dataset_seed,\n",
    "    n_shot=p.n_shot,\n",
    "    n_way=p.n_way,\n",
    "    n_query=p.n_query,\n",
    "    train_val_test_k_factors=(p.train_k_factor,p.val_k_factor,p.test_k_factor),\n",
    "):\n",
    "   \n",
    "    if x_transforms == []: x_transform = None\n",
    "    else: x_transform = get_chained_transform(x_transforms)\n",
    "    \n",
    "    if episode_transforms == []: episode_transform = None\n",
    "    else: raise Exception(\"episode_transforms not implemented\")\n",
    "    \n",
    "    episode_transform = lambda tup, _prefix=domain_prefix: (_prefix + str(tup[0]), tup[1])\n",
    "\n",
    "\n",
    "    eaf = Episodic_Accessor_Factory(\n",
    "        labels=labels,\n",
    "        domains=domains,\n",
    "        num_examples_per_domain_per_label=num_examples_per_domain_per_label,\n",
    "        iterator_seed=iterator_seed,\n",
    "        dataset_seed=dataset_seed,\n",
    "        n_shot=n_shot,\n",
    "        n_way=n_way,\n",
    "        n_query=n_query,\n",
    "        train_val_test_k_factors=train_val_test_k_factors,\n",
    "        pickle_path=pickle_path,\n",
    "        x_transform_func=x_transform,\n",
    "    )\n",
    "\n",
    "    train, val, test = eaf.get_train(), eaf.get_val(), eaf.get_test()\n",
    "    train = Lazy_Iterable_Wrapper(train, episode_transform)\n",
    "    val = Lazy_Iterable_Wrapper(val, episode_transform)\n",
    "    test = Lazy_Iterable_Wrapper(test, episode_transform)\n",
    "\n",
    "    if source_or_target_dataset==\"source\":\n",
    "        train_original_source.append(train)\n",
    "        val_original_source.append(val)\n",
    "        test_original_source.append(test)\n",
    "\n",
    "        p.domains_source.extend(\n",
    "            [domain_prefix + str(u) for u in domains]\n",
    "        )\n",
    "    elif source_or_target_dataset==\"target\":\n",
    "        train_original_target.append(train)\n",
    "        val_original_target.append(val)\n",
    "        test_original_target.append(test)\n",
    "        p.domains_target.extend(\n",
    "            [domain_prefix + str(u) for u in domains]\n",
    "        )\n",
    "    else:\n",
    "        raise Exception(f\"invalid source_or_target_dataset: {source_or_target_dataset}\")\n",
    "    "
   ]
  },
  {
   "cell_type": "code",
   "execution_count": 13,
   "id": "fe266617",
   "metadata": {
    "execution": {
     "iopub.execute_input": "2022-03-28T15:53:15.842945Z",
     "iopub.status.busy": "2022-03-28T15:53:15.842576Z",
     "iopub.status.idle": "2022-03-28T15:55:05.722705Z",
     "shell.execute_reply": "2022-03-28T15:55:05.721976Z"
    },
    "papermill": {
     "duration": 109.903963,
     "end_time": "2022-03-28T15:55:05.722894",
     "exception": false,
     "start_time": "2022-03-28T15:53:15.818931",
     "status": "completed"
    },
    "tags": []
   },
   "outputs": [],
   "source": [
    "for ds in p.datasets:\n",
    "    add_dataset(**ds)"
   ]
  },
  {
   "cell_type": "code",
   "execution_count": 14,
   "id": "b90d65ac",
   "metadata": {
    "execution": {
     "iopub.execute_input": "2022-03-28T15:55:05.774227Z",
     "iopub.status.busy": "2022-03-28T15:55:05.773846Z",
     "iopub.status.idle": "2022-03-28T15:55:05.797827Z",
     "shell.execute_reply": "2022-03-28T15:55:05.797017Z"
    },
    "papermill": {
     "duration": 0.04836,
     "end_time": "2022-03-28T15:55:05.797981",
     "exception": false,
     "start_time": "2022-03-28T15:55:05.749621",
     "status": "completed"
    },
    "tags": []
   },
   "outputs": [],
   "source": [
    "# from steves_utils.CORES.utils import (\n",
    "#     ALL_NODES,\n",
    "#     ALL_NODES_MINIMUM_1000_EXAMPLES,\n",
    "#     ALL_DAYS\n",
    "# )\n",
    "\n",
    "# add_dataset(\n",
    "#     labels=ALL_NODES,\n",
    "#     domains = ALL_DAYS,\n",
    "#     num_examples_per_domain_per_label=100,\n",
    "#     pickle_path=os.path.join(get_datasets_base_path(), \"cores.stratified_ds.2022A.pkl\"),\n",
    "#     source_or_target_dataset=\"target\",\n",
    "#     x_transform_func=global_x_transform_func,\n",
    "#     domain_modifier=lambda u: f\"cores_{u}\"\n",
    "# )"
   ]
  },
  {
   "cell_type": "code",
   "execution_count": 15,
   "id": "76db484d",
   "metadata": {
    "execution": {
     "iopub.execute_input": "2022-03-28T15:55:05.856829Z",
     "iopub.status.busy": "2022-03-28T15:55:05.856084Z",
     "iopub.status.idle": "2022-03-28T15:55:05.873889Z",
     "shell.execute_reply": "2022-03-28T15:55:05.873088Z"
    },
    "papermill": {
     "duration": 0.049299,
     "end_time": "2022-03-28T15:55:05.874046",
     "exception": false,
     "start_time": "2022-03-28T15:55:05.824747",
     "status": "completed"
    },
    "tags": []
   },
   "outputs": [],
   "source": [
    "# from steves_utils.ORACLE.utils_v2 import (\n",
    "#     ALL_DISTANCES_FEET,\n",
    "#     ALL_RUNS,\n",
    "#     ALL_SERIAL_NUMBERS,\n",
    "# )\n",
    "\n",
    "\n",
    "# add_dataset(\n",
    "#     labels=ALL_SERIAL_NUMBERS,\n",
    "#     domains = list(set(ALL_DISTANCES_FEET) - {2,62}),\n",
    "#     num_examples_per_domain_per_label=100,\n",
    "#     pickle_path=os.path.join(get_datasets_base_path(), \"oracle.Run2_framed_2000Examples_stratified_ds.2022A.pkl\"),\n",
    "#     source_or_target_dataset=\"source\",\n",
    "#     x_transform_func=global_x_transform_func,\n",
    "#     domain_modifier=lambda u: f\"oracle1_{u}\"\n",
    "# )\n"
   ]
  },
  {
   "cell_type": "code",
   "execution_count": 16,
   "id": "97dea9d2",
   "metadata": {
    "execution": {
     "iopub.execute_input": "2022-03-28T15:55:05.925610Z",
     "iopub.status.busy": "2022-03-28T15:55:05.924574Z",
     "iopub.status.idle": "2022-03-28T15:55:05.946149Z",
     "shell.execute_reply": "2022-03-28T15:55:05.945358Z"
    },
    "papermill": {
     "duration": 0.045174,
     "end_time": "2022-03-28T15:55:05.946298",
     "exception": false,
     "start_time": "2022-03-28T15:55:05.901124",
     "status": "completed"
    },
    "tags": []
   },
   "outputs": [],
   "source": [
    "# from steves_utils.ORACLE.utils_v2 import (\n",
    "#     ALL_DISTANCES_FEET,\n",
    "#     ALL_RUNS,\n",
    "#     ALL_SERIAL_NUMBERS,\n",
    "# )\n",
    "\n",
    "\n",
    "# add_dataset(\n",
    "#     labels=ALL_SERIAL_NUMBERS,\n",
    "#     domains = list(set(ALL_DISTANCES_FEET) - {2,62,56}),\n",
    "#     num_examples_per_domain_per_label=100,\n",
    "#     pickle_path=os.path.join(get_datasets_base_path(), \"oracle.Run2_framed_2000Examples_stratified_ds.2022A.pkl\"),\n",
    "#     source_or_target_dataset=\"source\",\n",
    "#     x_transform_func=global_x_transform_func,\n",
    "#     domain_modifier=lambda u: f\"oracle2_{u}\"\n",
    "# )"
   ]
  },
  {
   "cell_type": "code",
   "execution_count": 17,
   "id": "6f289866",
   "metadata": {
    "execution": {
     "iopub.execute_input": "2022-03-28T15:55:06.004382Z",
     "iopub.status.busy": "2022-03-28T15:55:06.003992Z",
     "iopub.status.idle": "2022-03-28T15:55:06.027963Z",
     "shell.execute_reply": "2022-03-28T15:55:06.026973Z"
    },
    "papermill": {
     "duration": 0.048576,
     "end_time": "2022-03-28T15:55:06.028133",
     "exception": false,
     "start_time": "2022-03-28T15:55:05.979557",
     "status": "completed"
    },
    "tags": []
   },
   "outputs": [],
   "source": [
    "# add_dataset(\n",
    "#     labels=list(range(19)),\n",
    "#     domains = [0,1,2],\n",
    "#     num_examples_per_domain_per_label=100,\n",
    "#     pickle_path=os.path.join(get_datasets_base_path(), \"metehan.stratified_ds.2022A.pkl\"),\n",
    "#     source_or_target_dataset=\"target\",\n",
    "#     x_transform_func=global_x_transform_func,\n",
    "#     domain_modifier=lambda u: f\"met_{u}\"\n",
    "# )"
   ]
  },
  {
   "cell_type": "code",
   "execution_count": 18,
   "id": "86a863c3",
   "metadata": {
    "execution": {
     "iopub.execute_input": "2022-03-28T15:55:06.080410Z",
     "iopub.status.busy": "2022-03-28T15:55:06.080027Z",
     "iopub.status.idle": "2022-03-28T15:55:06.097571Z",
     "shell.execute_reply": "2022-03-28T15:55:06.096753Z"
    },
    "papermill": {
     "duration": 0.041404,
     "end_time": "2022-03-28T15:55:06.097728",
     "exception": false,
     "start_time": "2022-03-28T15:55:06.056324",
     "status": "completed"
    },
    "tags": []
   },
   "outputs": [],
   "source": [
    "# # from steves_utils.wisig.utils import (\n",
    "# #     ALL_NODES_MINIMUM_100_EXAMPLES,\n",
    "# #     ALL_NODES_MINIMUM_500_EXAMPLES,\n",
    "# #     ALL_NODES_MINIMUM_1000_EXAMPLES,\n",
    "# #     ALL_DAYS\n",
    "# # )\n",
    "\n",
    "# import steves_utils.wisig.utils as wisig\n",
    "\n",
    "\n",
    "# add_dataset(\n",
    "#     labels=wisig.ALL_NODES_MINIMUM_100_EXAMPLES,\n",
    "#     domains = wisig.ALL_DAYS,\n",
    "#     num_examples_per_domain_per_label=100,\n",
    "#     pickle_path=os.path.join(get_datasets_base_path(), \"wisig.node3-19.stratified_ds.2022A.pkl\"),\n",
    "#     source_or_target_dataset=\"target\",\n",
    "#     x_transform_func=global_x_transform_func,\n",
    "#     domain_modifier=lambda u: f\"wisig_{u}\"\n",
    "# )"
   ]
  },
  {
   "cell_type": "code",
   "execution_count": 19,
   "id": "fd5442bc",
   "metadata": {
    "execution": {
     "iopub.execute_input": "2022-03-28T15:55:06.151883Z",
     "iopub.status.busy": "2022-03-28T15:55:06.151489Z",
     "iopub.status.idle": "2022-03-28T15:55:06.168574Z",
     "shell.execute_reply": "2022-03-28T15:55:06.169242Z"
    },
    "papermill": {
     "duration": 0.04407,
     "end_time": "2022-03-28T15:55:06.169441",
     "exception": false,
     "start_time": "2022-03-28T15:55:06.125371",
     "status": "completed"
    },
    "tags": []
   },
   "outputs": [],
   "source": [
    "###################################\n",
    "# Build the dataset\n",
    "###################################\n",
    "train_original_source = Iterable_Aggregator(train_original_source, p.seed)\n",
    "val_original_source = Iterable_Aggregator(val_original_source, p.seed)\n",
    "test_original_source = Iterable_Aggregator(test_original_source, p.seed)\n",
    "\n",
    "\n",
    "train_original_target = Iterable_Aggregator(train_original_target, p.seed)\n",
    "val_original_target = Iterable_Aggregator(val_original_target, p.seed)\n",
    "test_original_target = Iterable_Aggregator(test_original_target, p.seed)\n",
    "\n",
    "# For CNN We only use X and Y. And we only train on the source.\n",
    "# Properly form the data using a transform lambda and Lazy_Iterable_Wrapper. Finally wrap them in a dataloader\n",
    "\n",
    "transform_lambda = lambda ex: ex[1] # Original is (<domain>, <episode>) so we strip down to episode only\n",
    "\n",
    "train_processed_source = Lazy_Iterable_Wrapper(train_original_source, transform_lambda)\n",
    "val_processed_source   = Lazy_Iterable_Wrapper(val_original_source, transform_lambda)\n",
    "test_processed_source  = Lazy_Iterable_Wrapper(test_original_source, transform_lambda)\n",
    "\n",
    "train_processed_target = Lazy_Iterable_Wrapper(train_original_target, transform_lambda)\n",
    "val_processed_target   = Lazy_Iterable_Wrapper(val_original_target, transform_lambda)\n",
    "test_processed_target  = Lazy_Iterable_Wrapper(test_original_target, transform_lambda)\n",
    "\n",
    "datasets = EasyDict({\n",
    "    \"source\": {\n",
    "        \"original\": {\"train\":train_original_source, \"val\":val_original_source, \"test\":test_original_source},\n",
    "        \"processed\": {\"train\":train_processed_source, \"val\":val_processed_source, \"test\":test_processed_source}\n",
    "    },\n",
    "    \"target\": {\n",
    "        \"original\": {\"train\":train_original_target, \"val\":val_original_target, \"test\":test_original_target},\n",
    "        \"processed\": {\"train\":train_processed_target, \"val\":val_processed_target, \"test\":test_processed_target}\n",
    "    },\n",
    "})"
   ]
  },
  {
   "cell_type": "code",
   "execution_count": 20,
   "id": "5b3c01fc",
   "metadata": {
    "execution": {
     "iopub.execute_input": "2022-03-28T15:55:06.224076Z",
     "iopub.status.busy": "2022-03-28T15:55:06.223694Z",
     "iopub.status.idle": "2022-03-28T15:55:20.443138Z",
     "shell.execute_reply": "2022-03-28T15:55:20.442771Z"
    },
    "papermill": {
     "duration": 14.245881,
     "end_time": "2022-03-28T15:55:20.443235",
     "exception": false,
     "start_time": "2022-03-28T15:55:06.197354",
     "status": "completed"
    },
    "tags": []
   },
   "outputs": [
    {
     "name": "stdout",
     "output_type": "stream",
     "text": [
      "{'O_50', 'O_8', 'O_26', 'O_44', 'O_20', 'O_14', 'O_32', 'O_38'}\n"
     ]
    },
    {
     "name": "stdout",
     "output_type": "stream",
     "text": [
      "{'C_4', 'C_1', 'C_3', 'C_2', 'C_5'}\n"
     ]
    },
    {
     "name": "stdout",
     "output_type": "stream",
     "text": [
      "tensor([[[0., 0., 0.,  ..., 0., 0., 0.],\n",
      "         [0., 0., 0.,  ..., 0., 0., 0.]],\n",
      "\n",
      "        [[0., 0., 0.,  ..., 0., 0., 0.],\n",
      "         [0., 0., 0.,  ..., 0., 0., 0.]],\n",
      "\n",
      "        [[0., 0., 0.,  ..., 0., 0., 0.],\n",
      "         [0., 0., 0.,  ..., 0., 0., 0.]],\n",
      "\n",
      "        ...,\n",
      "\n",
      "        [[0., 0., 0.,  ..., 0., 0., 0.],\n",
      "         [0., 0., 0.,  ..., 0., 0., 0.]],\n",
      "\n",
      "        [[0., 0., 0.,  ..., 0., 0., 0.],\n",
      "         [0., 0., 0.,  ..., 0., 0., 0.]],\n",
      "\n",
      "        [[0., 0., 0.,  ..., 0., 0., 0.],\n",
      "         [0., 0., 0.,  ..., 0., 0., 0.]]])\n"
     ]
    }
   ],
   "source": [
    "from steves_utils.transforms import get_average_magnitude, get_average_power\n",
    "\n",
    "print(set([u for u,_ in val_original_source]))\n",
    "print(set([u for u,_ in val_original_target]))\n",
    "\n",
    "s_x, s_y, q_x, q_y, _ = next(iter(train_processed_source))\n",
    "print(s_x)\n",
    "\n",
    "# for ds in [\n",
    "#     train_processed_source,\n",
    "#     val_processed_source,\n",
    "#     test_processed_source,\n",
    "#     train_processed_target,\n",
    "#     val_processed_target,\n",
    "#     test_processed_target\n",
    "# ]:\n",
    "#     for s_x, s_y, q_x, q_y, _ in ds:\n",
    "#         for X in (s_x, q_x):\n",
    "#             for x in X:\n",
    "#                 assert np.isclose(get_average_magnitude(x.numpy()), 1.0)\n",
    "#                 assert np.isclose(get_average_power(x.numpy()), 1.0)\n",
    "                "
   ]
  },
  {
   "cell_type": "code",
   "execution_count": 21,
   "id": "bbdacba1",
   "metadata": {
    "execution": {
     "iopub.execute_input": "2022-03-28T15:55:20.503030Z",
     "iopub.status.busy": "2022-03-28T15:55:20.501708Z",
     "iopub.status.idle": "2022-03-28T15:55:20.596461Z",
     "shell.execute_reply": "2022-03-28T15:55:20.596784Z"
    },
    "papermill": {
     "duration": 0.126116,
     "end_time": "2022-03-28T15:55:20.596936",
     "exception": false,
     "start_time": "2022-03-28T15:55:20.470820",
     "status": "completed"
    },
    "tags": []
   },
   "outputs": [
    {
     "name": "stdout",
     "output_type": "stream",
     "text": [
      "(2, 256)\n"
     ]
    }
   ],
   "source": [
    "###################################\n",
    "# Build the model\n",
    "###################################\n",
    "# easfsl only wants a tuple for the shape\n",
    "model = Steves_Prototypical_Network(x_net, device=p.device, x_shape=tuple(p.x_shape))\n",
    "optimizer = Adam(params=model.parameters(), lr=p.lr)"
   ]
  },
  {
   "cell_type": "code",
   "execution_count": 22,
   "id": "22b39ac5",
   "metadata": {
    "execution": {
     "iopub.execute_input": "2022-03-28T15:55:20.648635Z",
     "iopub.status.busy": "2022-03-28T15:55:20.648078Z",
     "iopub.status.idle": "2022-03-28T16:11:16.772636Z",
     "shell.execute_reply": "2022-03-28T16:11:16.772295Z"
    },
    "papermill": {
     "duration": 956.150448,
     "end_time": "2022-03-28T16:11:16.772725",
     "exception": false,
     "start_time": "2022-03-28T15:55:20.622277",
     "status": "completed"
    },
    "tags": []
   },
   "outputs": [
    {
     "name": "stdout",
     "output_type": "stream",
     "text": [
      "epoch: 1, [batch: 1 / 6720], examples_per_second: 32.8675, train_label_loss: 2.8178, \n"
     ]
    },
    {
     "name": "stdout",
     "output_type": "stream",
     "text": [
      "epoch: 1, [batch: 672 / 6720], examples_per_second: 3871.9455, train_label_loss: 2.8009, \n"
     ]
    },
    {
     "name": "stdout",
     "output_type": "stream",
     "text": [
      "epoch: 1, [batch: 1344 / 6720], examples_per_second: 3846.6186, train_label_loss: 1.8171, \n"
     ]
    },
    {
     "name": "stdout",
     "output_type": "stream",
     "text": [
      "epoch: 1, [batch: 2016 / 6720], examples_per_second: 3955.5729, train_label_loss: 1.3143, \n"
     ]
    },
    {
     "name": "stdout",
     "output_type": "stream",
     "text": [
      "epoch: 1, [batch: 2688 / 6720], examples_per_second: 3902.5800, train_label_loss: 1.9120, \n"
     ]
    },
    {
     "name": "stdout",
     "output_type": "stream",
     "text": [
      "epoch: 1, [batch: 3360 / 6720], examples_per_second: 3968.7886, train_label_loss: 1.6137, \n"
     ]
    },
    {
     "name": "stdout",
     "output_type": "stream",
     "text": [
      "epoch: 1, [batch: 4032 / 6720], examples_per_second: 3930.9500, train_label_loss: 1.4511, \n"
     ]
    },
    {
     "name": "stdout",
     "output_type": "stream",
     "text": [
      "epoch: 1, [batch: 4704 / 6720], examples_per_second: 4121.7153, train_label_loss: 0.9954, \n"
     ]
    },
    {
     "name": "stdout",
     "output_type": "stream",
     "text": [
      "epoch: 1, [batch: 5376 / 6720], examples_per_second: 4435.9510, train_label_loss: 0.9369, \n"
     ]
    },
    {
     "name": "stdout",
     "output_type": "stream",
     "text": [
      "epoch: 1, [batch: 6048 / 6720], examples_per_second: 4286.1017, train_label_loss: 0.8580, \n"
     ]
    },
    {
     "name": "stdout",
     "output_type": "stream",
     "text": [
      "=============================================================\n",
      "epoch: 1, source_val_acc_label: 0.6316, target_val_acc_label: 0.9543, source_val_label_loss: 1.0958, target_val_label_loss: 0.5300, \n",
      "=============================================================\n"
     ]
    },
    {
     "name": "stdout",
     "output_type": "stream",
     "text": [
      "New best\n"
     ]
    },
    {
     "name": "stdout",
     "output_type": "stream",
     "text": [
      "epoch: 2, [batch: 1 / 6720], examples_per_second: 4.0260, train_label_loss: 1.3365, \n"
     ]
    },
    {
     "name": "stdout",
     "output_type": "stream",
     "text": [
      "epoch: 2, [batch: 672 / 6720], examples_per_second: 3812.8744, train_label_loss: 0.9949, \n"
     ]
    },
    {
     "name": "stdout",
     "output_type": "stream",
     "text": [
      "epoch: 2, [batch: 1344 / 6720], examples_per_second: 3967.9041, train_label_loss: 0.7402, \n"
     ]
    },
    {
     "name": "stdout",
     "output_type": "stream",
     "text": [
      "epoch: 2, [batch: 2016 / 6720], examples_per_second: 3948.1614, train_label_loss: 1.2982, \n"
     ]
    },
    {
     "name": "stdout",
     "output_type": "stream",
     "text": [
      "epoch: 2, [batch: 2688 / 6720], examples_per_second: 3877.6025, train_label_loss: 0.9884, \n"
     ]
    },
    {
     "name": "stdout",
     "output_type": "stream",
     "text": [
      "epoch: 2, [batch: 3360 / 6720], examples_per_second: 3836.8860, train_label_loss: 1.0588, \n"
     ]
    },
    {
     "name": "stdout",
     "output_type": "stream",
     "text": [
      "epoch: 2, [batch: 4032 / 6720], examples_per_second: 3889.5721, train_label_loss: 0.7738, \n"
     ]
    },
    {
     "name": "stdout",
     "output_type": "stream",
     "text": [
      "epoch: 2, [batch: 4704 / 6720], examples_per_second: 4268.0648, train_label_loss: 1.1918, \n"
     ]
    },
    {
     "name": "stdout",
     "output_type": "stream",
     "text": [
      "epoch: 2, [batch: 5376 / 6720], examples_per_second: 4570.8300, train_label_loss: 1.2426, \n"
     ]
    },
    {
     "name": "stdout",
     "output_type": "stream",
     "text": [
      "epoch: 2, [batch: 6048 / 6720], examples_per_second: 4165.7904, train_label_loss: 0.7308, \n"
     ]
    },
    {
     "name": "stdout",
     "output_type": "stream",
     "text": [
      "=============================================================\n",
      "epoch: 2, source_val_acc_label: 0.6527, target_val_acc_label: 0.9581, source_val_label_loss: 0.9264, target_val_label_loss: 0.2266, \n",
      "=============================================================\n"
     ]
    },
    {
     "name": "stdout",
     "output_type": "stream",
     "text": [
      "New best\n"
     ]
    },
    {
     "name": "stdout",
     "output_type": "stream",
     "text": [
      "epoch: 3, [batch: 1 / 6720], examples_per_second: 3.9720, train_label_loss: 1.1444, \n"
     ]
    },
    {
     "name": "stdout",
     "output_type": "stream",
     "text": [
      "epoch: 3, [batch: 672 / 6720], examples_per_second: 3881.1921, train_label_loss: 0.5235, \n"
     ]
    },
    {
     "name": "stdout",
     "output_type": "stream",
     "text": [
      "epoch: 3, [batch: 1344 / 6720], examples_per_second: 3880.2753, train_label_loss: 0.7300, \n"
     ]
    },
    {
     "name": "stdout",
     "output_type": "stream",
     "text": [
      "epoch: 3, [batch: 2016 / 6720], examples_per_second: 3889.2024, train_label_loss: 0.7124, \n"
     ]
    },
    {
     "name": "stdout",
     "output_type": "stream",
     "text": [
      "epoch: 3, [batch: 2688 / 6720], examples_per_second: 3939.6753, train_label_loss: 0.7438, \n"
     ]
    },
    {
     "name": "stdout",
     "output_type": "stream",
     "text": [
      "epoch: 3, [batch: 3360 / 6720], examples_per_second: 4002.5872, train_label_loss: 1.2142, \n"
     ]
    },
    {
     "name": "stdout",
     "output_type": "stream",
     "text": [
      "epoch: 3, [batch: 4032 / 6720], examples_per_second: 4073.6632, train_label_loss: 1.1056, \n"
     ]
    },
    {
     "name": "stdout",
     "output_type": "stream",
     "text": [
      "epoch: 3, [batch: 4704 / 6720], examples_per_second: 4375.7178, train_label_loss: 0.6628, \n"
     ]
    },
    {
     "name": "stdout",
     "output_type": "stream",
     "text": [
      "epoch: 3, [batch: 5376 / 6720], examples_per_second: 4673.8738, train_label_loss: 1.0408, \n"
     ]
    },
    {
     "name": "stdout",
     "output_type": "stream",
     "text": [
      "epoch: 3, [batch: 6048 / 6720], examples_per_second: 4510.7003, train_label_loss: 0.6266, \n"
     ]
    },
    {
     "name": "stdout",
     "output_type": "stream",
     "text": [
      "=============================================================\n",
      "epoch: 3, source_val_acc_label: 0.6613, target_val_acc_label: 0.9557, source_val_label_loss: 0.8936, target_val_label_loss: 0.2248, \n",
      "=============================================================\n"
     ]
    },
    {
     "name": "stdout",
     "output_type": "stream",
     "text": [
      "epoch: 4, [batch: 1 / 6720], examples_per_second: 4.0188, train_label_loss: 0.9736, \n"
     ]
    },
    {
     "name": "stdout",
     "output_type": "stream",
     "text": [
      "epoch: 4, [batch: 672 / 6720], examples_per_second: 3937.1541, train_label_loss: 0.6624, \n"
     ]
    },
    {
     "name": "stdout",
     "output_type": "stream",
     "text": [
      "epoch: 4, [batch: 1344 / 6720], examples_per_second: 3994.3583, train_label_loss: 1.4181, \n"
     ]
    },
    {
     "name": "stdout",
     "output_type": "stream",
     "text": [
      "epoch: 4, [batch: 2016 / 6720], examples_per_second: 3898.9237, train_label_loss: 1.0769, \n"
     ]
    },
    {
     "name": "stdout",
     "output_type": "stream",
     "text": [
      "epoch: 4, [batch: 2688 / 6720], examples_per_second: 3882.5399, train_label_loss: 0.8081, \n"
     ]
    },
    {
     "name": "stdout",
     "output_type": "stream",
     "text": [
      "epoch: 4, [batch: 3360 / 6720], examples_per_second: 3886.4903, train_label_loss: 0.5758, \n"
     ]
    },
    {
     "name": "stdout",
     "output_type": "stream",
     "text": [
      "epoch: 4, [batch: 4032 / 6720], examples_per_second: 4052.1318, train_label_loss: 1.1420, \n"
     ]
    },
    {
     "name": "stdout",
     "output_type": "stream",
     "text": [
      "epoch: 4, [batch: 4704 / 6720], examples_per_second: 4286.8112, train_label_loss: 0.6640, \n"
     ]
    },
    {
     "name": "stdout",
     "output_type": "stream",
     "text": [
      "epoch: 4, [batch: 5376 / 6720], examples_per_second: 4377.6008, train_label_loss: 1.1590, \n"
     ]
    },
    {
     "name": "stdout",
     "output_type": "stream",
     "text": [
      "epoch: 4, [batch: 6048 / 6720], examples_per_second: 4169.7627, train_label_loss: 0.7960, \n"
     ]
    },
    {
     "name": "stdout",
     "output_type": "stream",
     "text": [
      "=============================================================\n",
      "epoch: 4, source_val_acc_label: 0.6794, target_val_acc_label: 0.9512, source_val_label_loss: 0.8527, target_val_label_loss: 0.2392, \n",
      "=============================================================\n"
     ]
    },
    {
     "name": "stdout",
     "output_type": "stream",
     "text": [
      "epoch: 5, [batch: 1 / 6720], examples_per_second: 4.0329, train_label_loss: 0.7507, \n"
     ]
    },
    {
     "name": "stdout",
     "output_type": "stream",
     "text": [
      "epoch: 5, [batch: 672 / 6720], examples_per_second: 3853.0075, train_label_loss: 0.6954, \n"
     ]
    },
    {
     "name": "stdout",
     "output_type": "stream",
     "text": [
      "epoch: 5, [batch: 1344 / 6720], examples_per_second: 3850.5878, train_label_loss: 0.6483, \n"
     ]
    },
    {
     "name": "stdout",
     "output_type": "stream",
     "text": [
      "epoch: 5, [batch: 2016 / 6720], examples_per_second: 3879.6355, train_label_loss: 1.1821, \n"
     ]
    },
    {
     "name": "stdout",
     "output_type": "stream",
     "text": [
      "epoch: 5, [batch: 2688 / 6720], examples_per_second: 3842.0599, train_label_loss: 0.7346, \n"
     ]
    },
    {
     "name": "stdout",
     "output_type": "stream",
     "text": [
      "epoch: 5, [batch: 3360 / 6720], examples_per_second: 3949.4960, train_label_loss: 0.5964, \n"
     ]
    },
    {
     "name": "stdout",
     "output_type": "stream",
     "text": [
      "epoch: 5, [batch: 4032 / 6720], examples_per_second: 4007.0757, train_label_loss: 0.6863, \n"
     ]
    },
    {
     "name": "stdout",
     "output_type": "stream",
     "text": [
      "epoch: 5, [batch: 4704 / 6720], examples_per_second: 4247.9668, train_label_loss: 0.6514, \n"
     ]
    },
    {
     "name": "stdout",
     "output_type": "stream",
     "text": [
      "epoch: 5, [batch: 5376 / 6720], examples_per_second: 4613.8538, train_label_loss: 1.1004, \n"
     ]
    },
    {
     "name": "stdout",
     "output_type": "stream",
     "text": [
      "epoch: 5, [batch: 6048 / 6720], examples_per_second: 4436.4998, train_label_loss: 0.4395, \n"
     ]
    },
    {
     "name": "stdout",
     "output_type": "stream",
     "text": [
      "=============================================================\n",
      "epoch: 5, source_val_acc_label: 0.6888, target_val_acc_label: 0.9461, source_val_label_loss: 0.8161, target_val_label_loss: 0.2471, \n",
      "=============================================================\n"
     ]
    },
    {
     "name": "stdout",
     "output_type": "stream",
     "text": [
      "epoch: 6, [batch: 1 / 6720], examples_per_second: 3.9875, train_label_loss: 0.6721, \n"
     ]
    },
    {
     "name": "stdout",
     "output_type": "stream",
     "text": [
      "epoch: 6, [batch: 672 / 6720], examples_per_second: 3917.2246, train_label_loss: 1.0045, \n"
     ]
    },
    {
     "name": "stdout",
     "output_type": "stream",
     "text": [
      "epoch: 6, [batch: 1344 / 6720], examples_per_second: 3951.6940, train_label_loss: 1.1310, \n"
     ]
    },
    {
     "name": "stdout",
     "output_type": "stream",
     "text": [
      "epoch: 6, [batch: 2016 / 6720], examples_per_second: 3882.1779, train_label_loss: 0.6866, \n"
     ]
    },
    {
     "name": "stdout",
     "output_type": "stream",
     "text": [
      "epoch: 6, [batch: 2688 / 6720], examples_per_second: 3856.3613, train_label_loss: 0.4587, \n"
     ]
    },
    {
     "name": "stdout",
     "output_type": "stream",
     "text": [
      "epoch: 6, [batch: 3360 / 6720], examples_per_second: 3924.9258, train_label_loss: 0.4532, \n"
     ]
    },
    {
     "name": "stdout",
     "output_type": "stream",
     "text": [
      "epoch: 6, [batch: 4032 / 6720], examples_per_second: 3903.0512, train_label_loss: 0.7010, \n"
     ]
    },
    {
     "name": "stdout",
     "output_type": "stream",
     "text": [
      "epoch: 6, [batch: 4704 / 6720], examples_per_second: 4188.0304, train_label_loss: 0.9784, \n"
     ]
    },
    {
     "name": "stdout",
     "output_type": "stream",
     "text": [
      "epoch: 6, [batch: 5376 / 6720], examples_per_second: 4615.3294, train_label_loss: 0.9076, \n"
     ]
    },
    {
     "name": "stdout",
     "output_type": "stream",
     "text": [
      "epoch: 6, [batch: 6048 / 6720], examples_per_second: 4257.5152, train_label_loss: 0.6296, \n"
     ]
    },
    {
     "name": "stdout",
     "output_type": "stream",
     "text": [
      "=============================================================\n",
      "epoch: 6, source_val_acc_label: 0.6972, target_val_acc_label: 0.9432, source_val_label_loss: 0.7999, target_val_label_loss: 0.2738, \n",
      "=============================================================\n"
     ]
    },
    {
     "name": "stdout",
     "output_type": "stream",
     "text": [
      "Patience (3) exhausted\n"
     ]
    }
   ],
   "source": [
    "###################################\n",
    "# train\n",
    "###################################\n",
    "jig = PTN_Train_Eval_Test_Jig(model, p.BEST_MODEL_PATH, p.device)\n",
    "\n",
    "jig.train(\n",
    "    train_iterable=datasets.source.processed.train,\n",
    "    source_val_iterable=datasets.source.processed.val,\n",
    "    target_val_iterable=datasets.target.processed.val,\n",
    "    num_epochs=p.n_epoch,\n",
    "    num_logs_per_epoch=p.NUM_LOGS_PER_EPOCH,\n",
    "    patience=p.patience,\n",
    "    optimizer=optimizer,\n",
    "    criteria_for_best=p.criteria_for_best,\n",
    ")"
   ]
  },
  {
   "cell_type": "code",
   "execution_count": 23,
   "id": "31e8fabf",
   "metadata": {
    "execution": {
     "iopub.execute_input": "2022-03-28T16:11:16.866378Z",
     "iopub.status.busy": "2022-03-28T16:11:16.865930Z",
     "iopub.status.idle": "2022-03-28T16:11:16.897690Z",
     "shell.execute_reply": "2022-03-28T16:11:16.896952Z"
    },
    "papermill": {
     "duration": 0.076875,
     "end_time": "2022-03-28T16:11:16.897861",
     "exception": false,
     "start_time": "2022-03-28T16:11:16.820986",
     "status": "completed"
    },
    "tags": []
   },
   "outputs": [],
   "source": [
    "total_experiment_time_secs = time.time() - start_time_secs"
   ]
  },
  {
   "cell_type": "code",
   "execution_count": 24,
   "id": "87b9595b",
   "metadata": {
    "execution": {
     "iopub.execute_input": "2022-03-28T16:11:16.997036Z",
     "iopub.status.busy": "2022-03-28T16:11:16.996642Z",
     "iopub.status.idle": "2022-03-28T16:14:01.956437Z",
     "shell.execute_reply": "2022-03-28T16:14:01.955637Z"
    },
    "papermill": {
     "duration": 165.008381,
     "end_time": "2022-03-28T16:14:01.956637",
     "exception": false,
     "start_time": "2022-03-28T16:11:16.948256",
     "status": "completed"
    },
    "tags": []
   },
   "outputs": [],
   "source": [
    "###################################\n",
    "# Evaluate the model\n",
    "###################################\n",
    "source_test_label_accuracy, source_test_label_loss = jig.test(datasets.source.processed.test)\n",
    "target_test_label_accuracy, target_test_label_loss = jig.test(datasets.target.processed.test)\n",
    "\n",
    "source_val_label_accuracy, source_val_label_loss = jig.test(datasets.source.processed.val)\n",
    "target_val_label_accuracy, target_val_label_loss = jig.test(datasets.target.processed.val)\n",
    "\n",
    "history = jig.get_history()\n",
    "\n",
    "total_epochs_trained = len(history[\"epoch_indices\"])\n",
    "\n",
    "val_dl = Iterable_Aggregator((datasets.source.original.val,datasets.target.original.val))\n",
    "\n",
    "confusion = ptn_confusion_by_domain_over_dataloader(model, p.device, val_dl)\n",
    "per_domain_accuracy = per_domain_accuracy_from_confusion(confusion)\n",
    "\n",
    "# Add a key to per_domain_accuracy for if it was a source domain\n",
    "for domain, accuracy in per_domain_accuracy.items():\n",
    "    per_domain_accuracy[domain] = {\n",
    "        \"accuracy\": accuracy,\n",
    "        \"source?\": domain in p.domains_source\n",
    "    }\n",
    "\n",
    "# Do an independent accuracy assesment JUST TO BE SURE!\n",
    "# _source_test_label_accuracy = independent_accuracy_assesment(model, datasets.source.processed.test, p.device)\n",
    "# _target_test_label_accuracy = independent_accuracy_assesment(model, datasets.target.processed.test, p.device)\n",
    "# _source_val_label_accuracy = independent_accuracy_assesment(model, datasets.source.processed.val, p.device)\n",
    "# _target_val_label_accuracy = independent_accuracy_assesment(model, datasets.target.processed.val, p.device)\n",
    "\n",
    "# assert(_source_test_label_accuracy == source_test_label_accuracy)\n",
    "# assert(_target_test_label_accuracy == target_test_label_accuracy)\n",
    "# assert(_source_val_label_accuracy == source_val_label_accuracy)\n",
    "# assert(_target_val_label_accuracy == target_val_label_accuracy)\n",
    "\n",
    "experiment = {\n",
    "    \"experiment_name\": p.experiment_name,\n",
    "    \"parameters\": dict(p),\n",
    "    \"results\": {\n",
    "        \"source_test_label_accuracy\": source_test_label_accuracy,\n",
    "        \"source_test_label_loss\": source_test_label_loss,\n",
    "        \"target_test_label_accuracy\": target_test_label_accuracy,\n",
    "        \"target_test_label_loss\": target_test_label_loss,\n",
    "        \"source_val_label_accuracy\": source_val_label_accuracy,\n",
    "        \"source_val_label_loss\": source_val_label_loss,\n",
    "        \"target_val_label_accuracy\": target_val_label_accuracy,\n",
    "        \"target_val_label_loss\": target_val_label_loss,\n",
    "        \"total_epochs_trained\": total_epochs_trained,\n",
    "        \"total_experiment_time_secs\": total_experiment_time_secs,\n",
    "        \"confusion\": confusion,\n",
    "        \"per_domain_accuracy\": per_domain_accuracy,\n",
    "    },\n",
    "    \"history\": history,\n",
    "    \"dataset_metrics\": get_dataset_metrics(datasets, \"ptn\"),\n",
    "}"
   ]
  },
  {
   "cell_type": "code",
   "execution_count": 25,
   "id": "54a21829",
   "metadata": {
    "execution": {
     "iopub.execute_input": "2022-03-28T16:14:02.050175Z",
     "iopub.status.busy": "2022-03-28T16:14:02.049600Z",
     "iopub.status.idle": "2022-03-28T16:14:02.270128Z",
     "shell.execute_reply": "2022-03-28T16:14:02.270828Z"
    },
    "papermill": {
     "duration": 0.266233,
     "end_time": "2022-03-28T16:14:02.271027",
     "exception": false,
     "start_time": "2022-03-28T16:14:02.004794",
     "status": "completed"
    },
    "tags": []
   },
   "outputs": [
    {
     "data": {
      "image/png": "[encoded data removed]",
      "text/plain": [
       "<Figure size 1080x504 with 1 Axes>"
      ]
     },
     "metadata": {
      "needs_background": "light"
     },
     "output_type": "display_data"
    }
   ],
   "source": [
    "ax = get_loss_curve(experiment)\n",
    "plt.show()"
   ]
  },
  {
   "cell_type": "code",
   "execution_count": 26,
   "id": "fd8a0f60",
   "metadata": {
    "execution": {
     "iopub.execute_input": "2022-03-28T16:14:02.364135Z",
     "iopub.status.busy": "2022-03-28T16:14:02.363761Z",
     "iopub.status.idle": "2022-03-28T16:14:02.675614Z",
     "shell.execute_reply": "2022-03-28T16:14:02.676296Z"
    },
    "papermill": {
     "duration": 0.359172,
     "end_time": "2022-03-28T16:14:02.676494",
     "exception": false,
     "start_time": "2022-03-28T16:14:02.317322",
     "status": "completed"
    },
    "tags": []
   },
   "outputs": [
    {
     "data": {
      "text/plain": [
       "<AxesSubplot:title={'center':'Results'}>"
      ]
     },
     "execution_count": 26,
     "metadata": {},
     "output_type": "execute_result"
    },
    {
     "data": {
      "image/png": "[encoded data removed]",
      "text/plain": [
       "<Figure size 1080x504 with 1 Axes>"
      ]
     },
     "metadata": {
      "needs_background": "light"
     },
     "output_type": "display_data"
    }
   ],
   "source": [
    "get_results_table(experiment)"
   ]
  },
  {
   "cell_type": "code",
   "execution_count": 27,
   "id": "cf8dc689",
   "metadata": {
    "execution": {
     "iopub.execute_input": "2022-03-28T16:14:02.777219Z",
     "iopub.status.busy": "2022-03-28T16:14:02.776652Z",
     "iopub.status.idle": "2022-03-28T16:14:03.021227Z",
     "shell.execute_reply": "2022-03-28T16:14:03.021911Z"
    },
    "papermill": {
     "duration": 0.293566,
     "end_time": "2022-03-28T16:14:03.022119",
     "exception": false,
     "start_time": "2022-03-28T16:14:02.728553",
     "status": "completed"
    },
    "tags": []
   },
   "outputs": [
    {
     "data": {
      "text/plain": [
       "<AxesSubplot:title={'center':'Per Domain Validation Accuracy'}, xlabel='domain'>"
      ]
     },
     "execution_count": 27,
     "metadata": {},
     "output_type": "execute_result"
    },
    {
     "data": {
      "image/png": "[encoded data removed]",
      "text/plain": [
       "<Figure size 1080x504 with 1 Axes>"
      ]
     },
     "metadata": {
      "needs_background": "light"
     },
     "output_type": "display_data"
    }
   ],
   "source": [
    "get_domain_accuracies(experiment)"
   ]
  },
  {
   "cell_type": "code",
   "execution_count": 28,
   "id": "a74ae082",
   "metadata": {
    "execution": {
     "iopub.execute_input": "2022-03-28T16:14:03.122695Z",
     "iopub.status.busy": "2022-03-28T16:14:03.122118Z",
     "iopub.status.idle": "2022-03-28T16:14:03.147619Z",
     "shell.execute_reply": "2022-03-28T16:14:03.148301Z"
    },
    "papermill": {
     "duration": 0.075736,
     "end_time": "2022-03-28T16:14:03.148487",
     "exception": false,
     "start_time": "2022-03-28T16:14:03.072751",
     "status": "completed"
    },
    "tags": []
   },
   "outputs": [
    {
     "name": "stdout",
     "output_type": "stream",
     "text": [
      "Source Test Label Accuracy: 0.6608723958333333 Target Test Label Accuracy: 0.9579475308641975\n",
      "Source Val Label Accuracy: 0.6526692708333334 Target Val Label Accuracy: 0.9580836187214612\n"
     ]
    }
   ],
   "source": [
    "print(\"Source Test Label Accuracy:\", experiment[\"results\"][\"source_test_label_accuracy\"], \"Target Test Label Accuracy:\", experiment[\"results\"][\"target_test_label_accuracy\"])\n",
    "print(\"Source Val Label Accuracy:\", experiment[\"results\"][\"source_val_label_accuracy\"], \"Target Val Label Accuracy:\", experiment[\"results\"][\"target_val_label_accuracy\"])"
   ]
  },
  {
   "cell_type": "code",
   "execution_count": 29,
   "id": "dacca602",
   "metadata": {
    "execution": {
     "iopub.execute_input": "2022-03-28T16:14:03.251699Z",
     "iopub.status.busy": "2022-03-28T16:14:03.251313Z",
     "iopub.status.idle": "2022-03-28T16:14:03.278874Z",
     "shell.execute_reply": "2022-03-28T16:14:03.279585Z"
    },
    "papermill": {
     "duration": 0.078148,
     "end_time": "2022-03-28T16:14:03.279769",
     "exception": false,
     "start_time": "2022-03-28T16:14:03.201621",
     "status": "completed"
    },
    "tags": [
     "experiment_json"
    ]
   },
   "outputs": [
    {
     "data": {
      "text/plain": [
       "'{\"experiment_name\": \"tl_3-jitter5v2:oracle.run1.framed -> cores\", \"parameters\": {\"experiment_name\": \"tl_3-jitter5v2:oracle.run1.framed -> cores\", \"device\": \"cuda\", \"lr\": 0.0001, \"x_shape\": [2, 256], \"n_shot\": 3, \"n_query\": 2, \"train_k_factor\": 3, \"val_k_factor\": 2, \"test_k_factor\": 2, \"torch_default_dtype\": \"torch.float32\", \"n_epoch\": 50, \"patience\": 3, \"criteria_for_best\": \"target_accuracy\", \"x_net\": [{\"class\": \"nnReshape\", \"kargs\": {\"shape\": [-1, 1, 2, 256]}}, {\"class\": \"Conv2d\", \"kargs\": {\"in_channels\": 1, \"out_channels\": 256, \"kernel_size\": [1, 7], \"bias\": false, \"padding\": [0, 3]}}, {\"class\": \"ReLU\", \"kargs\": {\"inplace\": true}}, {\"class\": \"BatchNorm2d\", \"kargs\": {\"num_features\": 256}}, {\"class\": \"Conv2d\", \"kargs\": {\"in_channels\": 256, \"out_channels\": 80, \"kernel_size\": [2, 7], \"bias\": true, \"padding\": [0, 3]}}, {\"class\": \"ReLU\", \"kargs\": {\"inplace\": true}}, {\"class\": \"BatchNorm2d\", \"kargs\": {\"num_features\": 80}}, {\"class\": \"Flatten\", \"kargs\": {}}, {\"class\": \"Linear\", \"kargs\": {\"in_features\": 20480, \"out_features\": 256}}, {\"class\": \"ReLU\", \"kargs\": {\"inplace\": true}}, {\"class\": \"BatchNorm1d\", \"kargs\": {\"num_features\": 256}}, {\"class\": \"Linear\", \"kargs\": {\"in_features\": 256, \"out_features\": 256}}], \"NUM_LOGS_PER_EPOCH\": 10, \"BEST_MODEL_PATH\": \"./best_model.pth\", \"n_way\": 16, \"datasets\": [{\"labels\": [\"1-10.\", \"1-11.\", \"1-15.\", \"1-16.\", \"1-17.\", \"1-18.\", \"1-19.\", \"10-4.\", \"10-7.\", \"11-1.\", \"11-14.\", \"11-17.\", \"11-20.\", \"11-7.\", \"13-20.\", \"13-8.\", \"14-10.\", \"14-11.\", \"14-14.\", \"14-7.\", \"15-1.\", \"15-20.\", \"16-1.\", \"16-16.\", \"17-10.\", \"17-11.\", \"17-2.\", \"19-1.\", \"19-16.\", \"19-19.\", \"19-20.\", \"19-3.\", \"2-10.\", \"2-11.\", \"2-17.\", \"2-18.\", \"2-20.\", \"2-3.\", \"2-4.\", \"2-5.\", \"2-6.\", \"2-7.\", \"2-8.\", \"3-13.\", \"3-18.\", \"3-3.\", \"4-1.\", \"4-10.\", \"4-11.\", \"4-19.\", \"5-5.\", \"6-15.\", \"7-10.\", \"7-14.\", \"8-18.\", \"8-20.\", \"8-3.\", \"8-8.\"], \"domains\": [1, 2, 3, 4, 5], \"num_examples_per_domain_per_label\": -1, \"pickle_path\": \"/root/csc500-main/datasets/cores.stratified_ds.2022A.pkl\", \"source_or_target_dataset\": \"target\", \"x_transforms\": [\"unit_mag\", \"jitter_256_5\", \"lowpass_+/-10MHz\", \"take_200\"], \"episode_transforms\": [], \"domain_prefix\": \"C_\"}, {\"labels\": [\"3123D52\", \"3123D65\", \"3123D79\", \"3123D80\", \"3123D54\", \"3123D70\", \"3123D7B\", \"3123D89\", \"3123D58\", \"3123D76\", \"3123D7D\", \"3123EFE\", \"3123D64\", \"3123D78\", \"3123D7E\", \"3124E4A\"], \"domains\": [32, 38, 8, 44, 14, 50, 20, 26], \"num_examples_per_domain_per_label\": 2000, \"pickle_path\": \"/root/csc500-main/datasets/oracle.Run1_framed_2000Examples_stratified_ds.2022A.pkl\", \"source_or_target_dataset\": \"source\", \"x_transforms\": [\"unit_mag\", \"jitter_256_5\", \"take_200\", \"resample_20Msps_to_25Msps\"], \"episode_transforms\": [], \"domain_prefix\": \"O_\"}], \"seed\": 1337, \"dataset_seed\": 1337, \"domains_source\": [\"O_32\", \"O_38\", \"O_8\", \"O_44\", \"O_14\", \"O_50\", \"O_20\", \"O_26\"], \"domains_target\": [\"C_1\", \"C_2\", \"C_3\", \"C_4\", \"C_5\"]}, \"results\": {\"source_test_label_accuracy\": 0.6608723958333333, \"source_test_label_loss\": 0.9113377332687378, \"target_test_label_accuracy\": 0.9579475308641975, \"target_test_label_loss\": 0.23143155872821808, \"source_val_label_accuracy\": 0.6526692708333334, \"source_val_label_loss\": 0.9263597130775452, \"target_val_label_accuracy\": 0.9580836187214612, \"target_val_label_loss\": 0.22657759487628937, \"total_epochs_trained\": 6, \"total_experiment_time_secs\": 1081.3248732089996, \"confusion\": {\"O_14\": {\"15\": {\"15\": 209, \"7\": 31}, \"3\": {\"3\": 213, \"4\": 17, \"0\": 4, \"14\": 2, \"13\": 1, \"10\": 1, \"2\": 2}, \"6\": {\"6\": 133, \"13\": 64, \"2\": 20, \"14\": 23}, \"1\": {\"1\": 203, \"5\": 29, \"4\": 8}, \"8\": {\"8\": 240}, \"10\": {\"10\": 197, \"0\": 41, \"3\": 2}, \"9\": {\"9\": 239, \"12\": 1}, \"13\": {\"14\": 80, \"6\": 67, \"2\": 23, \"13\": 65, \"5\": 4, \"15\": 1}, \"12\": {\"12\": 239, \"9\": 1}, \"5\": {\"1\": 45, \"5\": 122, \"4\": 59, \"2\": 10, \"7\": 2, \"15\": 2}, \"0\": {\"0\": 172, \"10\": 59, \"11\": 4, \"3\": 5}, \"2\": {\"6\": 38, \"3\": 13, \"2\": 109, \"4\": 12, \"14\": 26, \"5\": 24, \"15\": 4, \"13\": 12, \"7\": 2}, \"11\": {\"11\": 198, \"9\": 21, \"0\": 4, \"10\": 17}, \"14\": {\"14\": 156, \"6\": 20, \"2\": 15, \"13\": 45, \"3\": 3, \"10\": 1}, \"7\": {\"7\": 223, \"15\": 16, \"1\": 1}, \"4\": {\"3\": 14, \"5\": 54, \"4\": 159, \"2\": 5, \"1\": 7, \"14\": 1}}, \"O_20\": {\"3\": {\"3\": 95, \"5\": 10, \"0\": 4, \"12\": 43, \"2\": 19, \"7\": 16, \"8\": 13, \"9\": 24, \"1\": 4, \"4\": 11, \"15\": 1}, \"15\": {\"15\": 130, \"12\": 7, \"13\": 15, \"5\": 11, \"1\": 44, \"2\": 2, \"0\": 29, \"9\": 2}, \"8\": {\"8\": 141, \"4\": 45, \"7\": 14, \"10\": 22, \"3\": 14, \"6\": 2, \"14\": 2}, \"4\": {\"10\": 7, \"4\": 169, \"3\": 12, \"8\": 49, \"5\": 2, \"14\": 1}, \"14\": {\"6\": 26, \"14\": 151, \"10\": 60, \"4\": 1, \"8\": 2}, \"0\": {\"1\": 51, \"3\": 6, \"0\": 71, \"12\": 17, \"5\": 52, \"15\": 40, \"9\": 2, \"13\": 1}, \"7\": {\"3\": 19, \"8\": 7, \"7\": 150, \"2\": 32, \"6\": 2, \"9\": 29, \"12\": 1}, \"6\": {\"6\": 213, \"10\": 3, \"14\": 20, \"7\": 3, \"8\": 1}, \"10\": {\"10\": 164, \"4\": 11, \"14\": 49, \"8\": 14, \"6\": 2}, \"5\": {\"5\": 103, \"15\": 5, \"0\": 69, \"1\": 29, \"12\": 22, \"3\": 11, \"9\": 1}, \"2\": {\"2\": 75, \"3\": 8, \"9\": 93, \"13\": 15, \"12\": 10, \"7\": 31, \"8\": 3, \"5\": 3, \"0\": 1, \"15\": 1}, \"12\": {\"12\": 98, \"1\": 23, \"3\": 48, \"0\": 9, \"7\": 3, \"9\": 20, \"5\": 25, \"2\": 9, \"13\": 3, \"15\": 2}, \"9\": {\"3\": 20, \"13\": 9, \"7\": 33, \"12\": 17, \"2\": 68, \"9\": 87, \"5\": 2, \"1\": 3, \"0\": 1}, \"1\": {\"1\": 68, \"15\": 45, \"5\": 55, \"0\": 39, \"12\": 21, \"3\": 3, \"9\": 4, \"2\": 3, \"13\": 2}, \"11\": {\"11\": 239, \"7\": 1}, \"13\": {\"13\": 202, \"15\": 8, \"1\": 6, \"2\": 15, \"5\": 1, \"12\": 1, \"9\": 6, \"0\": 1}}, \"O_38\": {\"5\": {\"8\": 58, \"7\": 24, \"9\": 5, \"5\": 82, \"15\": 9, \"0\": 37, \"1\": 3, \"3\": 7, \"6\": 12, \"13\": 3}, \"8\": {\"8\": 134, \"7\": 11, \"15\": 6, \"0\": 40, \"10\": 9, \"6\": 1, \"5\": 37, \"13\": 2}, \"11\": {\"11\": 160, \"14\": 77, \"10\": 1, \"12\": 2}, \"1\": {\"1\": 226, \"5\": 2, \"15\": 11, \"13\": 1}, \"10\": {\"10\": 148, \"8\": 25, \"12\": 25, \"0\": 3, \"2\": 6, \"13\": 21, \"5\": 3, \"7\": 1, \"14\": 4, \"15\": 2, \"4\": 1, \"11\": 1}, \"15\": {\"15\": 115, \"13\": 84, \"10\": 2, \"1\": 21, \"8\": 11, \"5\": 6, \"0\": 1}, \"3\": {\"3\": 192, \"9\": 24, \"5\": 4, \"7\": 16, \"0\": 3, \"6\": 1}, \"7\": {\"7\": 160, \"0\": 57, \"8\": 9, \"3\": 6, \"5\": 8}, \"4\": {\"4\": 215, \"12\": 25}, \"14\": {\"11\": 52, \"14\": 160, \"2\": 26, \"10\": 2}, \"9\": {\"9\": 133, \"6\": 79, \"3\": 25, \"8\": 1, \"5\": 2}, \"12\": {\"12\": 208, \"10\": 15, \"4\": 16, \"11\": 1}, \"6\": {\"5\": 3, \"6\": 175, \"9\": 61, \"3\": 1}, \"2\": {\"2\": 222, \"14\": 16, \"10\": 2}, \"0\": {\"8\": 54, \"7\": 62, \"0\": 62, \"5\": 31, \"3\": 16, \"15\": 1, \"10\": 8, \"13\": 3, \"9\": 2, \"6\": 1}, \"13\": {\"13\": 132, \"15\": 66, \"10\": 17, \"2\": 13, \"1\": 5, \"0\": 1, \"8\": 5, \"5\": 1}}, \"O_8\": {\"9\": {\"9\": 240}, \"10\": {\"10\": 156, \"14\": 53, \"5\": 7, \"13\": 15, \"4\": 8, \"0\": 1}, \"13\": {\"0\": 59, \"4\": 41, \"13\": 81, \"14\": 33, \"6\": 12, \"10\": 14}, \"0\": {\"10\": 4, \"0\": 174, \"13\": 44, \"7\": 7, \"4\": 3, \"6\": 6, \"14\": 2}, \"1\": {\"1\": 159, \"11\": 74, \"5\": 7}, \"15\": {\"15\": 186, \"12\": 38, \"8\": 16}, \"5\": {\"5\": 210, \"11\": 5, \"1\": 15, \"10\": 7, \"14\": 3}, \"3\": {\"2\": 24, \"3\": 202, \"12\": 11, \"15\": 3}, \"6\": {\"13\": 9, \"6\": 147, \"7\": 52, \"4\": 23, \"0\": 6, \"8\": 1, \"14\": 2}, \"11\": {\"11\": 130, \"1\": 101, \"5\": 9}, \"8\": {\"8\": 229, \"15\": 10, \"11\": 1}, \"4\": {\"13\": 47, \"4\": 118, \"14\": 34, \"10\": 5, \"6\": 29, \"0\": 6, \"1\": 1}, \"12\": {\"12\": 126, \"15\": 69, \"8\": 6, \"3\": 37, \"7\": 1, \"2\": 1}, \"14\": {\"10\": 51, \"4\": 36, \"14\": 120, \"11\": 2, \"1\": 14, \"13\": 13, \"5\": 3, \"0\": 1}, \"2\": {\"3\": 37, \"2\": 192, \"7\": 8, \"15\": 2, \"12\": 1}, \"7\": {\"7\": 194, \"4\": 3, \"0\": 11, \"6\": 31, \"13\": 1}}, \"O_50\": {\"7\": {\"7\": 151, \"5\": 28, \"10\": 15, \"13\": 43, \"6\": 3}, \"3\": {\"3\": 236, \"8\": 4}, \"8\": {\"8\": 228, \"10\": 11, \"3\": 1}, \"2\": {\"2\": 215, \"0\": 24, \"1\": 1}, \"14\": {\"14\": 235, \"11\": 3, \"12\": 2}, \"4\": {\"15\": 51, \"6\": 41, \"4\": 93, \"1\": 33, \"7\": 2, \"5\": 15, \"13\": 4, \"14\": 1}, \"6\": {\"6\": 119, \"4\": 47, \"0\": 3, \"13\": 27, \"1\": 8, \"5\": 34, \"15\": 1, \"2\": 1}, \"15\": {\"15\": 163, \"1\": 45, \"4\": 22, \"11\": 10}, \"10\": {\"10\": 212, \"7\": 8, \"13\": 5, \"8\": 6, \"0\": 9}, \"11\": {\"11\": 199, \"9\": 24, \"15\": 7, \"14\": 7, \"12\": 3}, \"13\": {\"13\": 109, \"7\": 50, \"5\": 56, \"10\": 4, \"6\": 20, \"0\": 1}, \"9\": {\"11\": 41, \"9\": 169, \"12\": 26, \"14\": 4}, \"0\": {\"0\": 189, \"10\": 18, \"2\": 30, \"13\": 2, \"6\": 1}, \"1\": {\"15\": 50, \"1\": 121, \"4\": 45, \"6\": 21, \"2\": 1, \"11\": 1, \"5\": 1}, \"12\": {\"12\": 207, \"14\": 12, \"9\": 18, \"11\": 3}, \"5\": {\"5\": 70, \"6\": 55, \"7\": 52, \"13\": 38, \"4\": 17, \"1\": 7, \"15\": 1}}, \"O_32\": {\"8\": {\"13\": 38, \"8\": 164, \"3\": 4, \"5\": 22, \"7\": 2, \"0\": 8, \"4\": 2}, \"14\": {\"11\": 66, \"4\": 11, \"14\": 71, \"7\": 59, \"5\": 12, \"0\": 4, \"2\": 2, \"3\": 6, \"13\": 9}, \"2\": {\"2\": 177, \"0\": 15, \"4\": 47, \"7\": 1}, \"0\": {\"4\": 73, \"2\": 13, \"5\": 14, \"0\": 95, \"8\": 21, \"7\": 14, \"14\": 1, \"13\": 9}, \"1\": {\"1\": 237, \"10\": 3}, \"10\": {\"10\": 239, \"6\": 1}, \"11\": {\"11\": 158, \"14\": 67, \"7\": 8, \"3\": 2, \"13\": 4, \"5\": 1}, \"5\": {\"7\": 40, \"11\": 3, \"3\": 27, \"13\": 47, \"14\": 18, \"8\": 31, \"5\": 43, \"0\": 15, \"4\": 16}, \"15\": {\"15\": 236, \"8\": 4}, \"3\": {\"3\": 217, \"5\": 10, \"8\": 4, \"13\": 5, \"11\": 4}, \"12\": {\"12\": 240}, \"7\": {\"13\": 17, \"14\": 38, \"7\": 114, \"5\": 18, \"0\": 11, \"11\": 6, \"4\": 31, \"8\": 2, \"2\": 2, \"3\": 1}, \"13\": {\"13\": 79, \"3\": 18, \"8\": 33, \"0\": 15, \"7\": 24, \"5\": 52, \"14\": 9, \"4\": 10}, \"6\": {\"6\": 240}, \"4\": {\"7\": 27, \"2\": 45, \"4\": 91, \"5\": 5, \"0\": 63, \"14\": 4, \"13\": 5}, \"9\": {\"9\": 238, \"12\": 1, \"2\": 1}}, \"O_26\": {\"4\": {\"1\": 37, \"14\": 34, \"8\": 26, \"4\": 87, \"7\": 12, \"0\": 30, \"10\": 14}, \"12\": {\"12\": 234, \"11\": 6}, \"10\": {\"14\": 16, \"0\": 59, \"8\": 37, \"10\": 97, \"4\": 8, \"9\": 1, \"1\": 8, \"15\": 2, \"6\": 12}, \"0\": {\"8\": 31, \"10\": 58, \"14\": 42, \"6\": 5, \"4\": 37, \"0\": 37, \"1\": 25, \"7\": 4, \"15\": 1}, \"13\": {\"5\": 52, \"13\": 155, \"6\": 2, \"9\": 15, \"15\": 14, \"2\": 2}, \"9\": {\"5\": 31, \"15\": 72, \"9\": 84, \"6\": 24, \"8\": 10, \"7\": 3, \"13\": 13, \"10\": 2, \"2\": 1}, \"3\": {\"3\": 151, \"2\": 61, \"7\": 26, \"4\": 1, \"15\": 1}, \"2\": {\"2\": 93, \"3\": 79, \"7\": 25, \"5\": 22, \"8\": 2, \"9\": 10, \"15\": 8, \"0\": 1}, \"5\": {\"2\": 14, \"5\": 107, \"15\": 52, \"13\": 28, \"9\": 32, \"8\": 2, \"3\": 1, \"7\": 4}, \"14\": {\"0\": 50, \"1\": 49, \"4\": 36, \"14\": 73, \"10\": 21, \"8\": 9, \"7\": 2}, \"8\": {\"8\": 101, \"1\": 5, \"15\": 10, \"10\": 44, \"0\": 18, \"4\": 14, \"14\": 10, \"9\": 10, \"7\": 17, \"2\": 3, \"6\": 8}, \"7\": {\"8\": 14, \"3\": 25, \"7\": 150, \"2\": 27, \"4\": 9, \"9\": 1, \"15\": 2, \"1\": 2, \"10\": 1, \"0\": 6, \"14\": 2, \"5\": 1}, \"6\": {\"6\": 172, \"10\": 21, \"15\": 13, \"8\": 6, \"9\": 24, \"13\": 2, \"0\": 2}, \"11\": {\"11\": 232, \"12\": 8}, \"15\": {\"9\": 74, \"5\": 38, \"8\": 22, \"0\": 1, \"15\": 69, \"13\": 15, \"2\": 9, \"7\": 3, \"6\": 8, \"10\": 1}, \"1\": {\"1\": 102, \"4\": 36, \"14\": 64, \"10\": 12, \"0\": 19, \"7\": 5, \"8\": 2}}, \"O_44\": {\"12\": {\"12\": 174, \"1\": 47, \"10\": 17, \"3\": 1, \"2\": 1}, \"7\": {\"7\": 161, \"2\": 35, \"9\": 34, \"3\": 2, \"10\": 1, \"6\": 6, \"13\": 1}, \"5\": {\"5\": 182, \"15\": 10, \"8\": 7, \"0\": 27, \"14\": 13, \"4\": 1}, \"15\": {\"14\": 13, \"15\": 185, \"5\": 10, \"4\": 3, \"8\": 10, \"0\": 19}, \"8\": {\"8\": 148, \"0\": 78, \"15\": 9, \"5\": 4, \"14\": 1}, \"2\": {\"2\": 172, \"1\": 7, \"10\": 15, \"7\": 44, \"9\": 1, \"3\": 1}, \"13\": {\"13\": 142, \"9\": 31, \"6\": 34, \"11\": 29, \"7\": 3, \"4\": 1}, \"4\": {\"4\": 164, \"14\": 73, \"13\": 1, \"15\": 2}, \"0\": {\"8\": 75, \"0\": 129, \"15\": 13, \"5\": 23}, \"6\": {\"9\": 34, \"6\": 136, \"13\": 37, \"11\": 23, \"2\": 1, \"7\": 9}, \"9\": {\"9\": 138, \"7\": 48, \"6\": 17, \"13\": 33, \"3\": 3, \"2\": 1}, \"11\": {\"11\": 175, \"13\": 34, \"6\": 30, \"9\": 1}, \"10\": {\"1\": 26, \"10\": 171, \"2\": 14, \"12\": 29}, \"14\": {\"14\": 128, \"4\": 78, \"15\": 21, \"5\": 13}, \"1\": {\"1\": 124, \"12\": 53, \"3\": 30, \"10\": 22, \"2\": 10, \"7\": 1}, \"3\": {\"3\": 201, \"1\": 35, \"7\": 1, \"12\": 1, \"2\": 2}}, \"C_3\": {\"43\": {\"43\": 128}, \"9\": {\"9\": 150}, \"6\": {\"6\": 63, \"41\": 2, \"18\": 12, \"26\": 3, \"36\": 1, \"46\": 2, \"8\": 1, \"25\": 1, \"2\": 1, \"16\": 1, \"23\": 1}, \"3\": {\"3\": 136, \"20\": 3, \"16\": 1, \"52\": 4}, \"16\": {\"16\": 134}, \"51\": {\"51\": 128}, \"31\": {\"31\": 28}, \"46\": {\"46\": 116, \"16\": 8, \"50\": 1, \"52\": 4, \"20\": 3, \"41\": 1, \"26\": 1}, \"19\": {\"19\": 106, \"40\": 16, \"9\": 2}, \"8\": {\"8\": 152}, \"18\": {\"18\": 82, \"6\": 1, \"41\": 1}, \"37\": {\"37\": 28}, \"24\": {\"24\": 104}, \"10\": {\"10\": 64}, \"44\": {\"44\": 88}, \"14\": {\"9\": 2, \"28\": 2, \"22\": 7, \"14\": 11, \"56\": 3, \"57\": 3, \"1\": 2, \"29\": 2, \"34\": 4, \"35\": 4}, \"38\": {\"38\": 28}, \"53\": {\"53\": 136, \"8\": 2, \"50\": 2}, \"20\": {\"20\": 125, \"50\": 7}, \"32\": {\"32\": 28}, \"36\": {\"36\": 95, \"12\": 2, \"2\": 3}, \"33\": {\"33\": 27, \"30\": 1}, \"56\": {\"56\": 136}, \"23\": {\"23\": 130}, \"54\": {\"54\": 96, \"17\": 4}, \"21\": {\"21\": 126}, \"28\": {\"28\": 28}, \"26\": {\"26\": 24}, \"48\": {\"48\": 114, \"27\": 1, \"55\": 1}, \"52\": {\"52\": 117, \"16\": 1}, \"39\": {\"39\": 16}, \"22\": {\"22\": 139, \"56\": 1}, \"13\": {\"13\": 128}, \"2\": {\"2\": 31, \"36\": 1}, \"34\": {\"34\": 27, \"1\": 2, \"28\": 2, \"35\": 1}, \"27\": {\"27\": 132}, \"45\": {\"45\": 56, \"4\": 4}, \"35\": {\"35\": 28}, \"29\": {\"29\": 128}, \"25\": {\"25\": 119, \"38\": 1, \"50\": 7, \"20\": 4, \"36\": 2, \"8\": 10, \"18\": 1}, \"0\": {\"0\": 124}, \"41\": {\"41\": 28}, \"11\": {\"11\": 142}, \"5\": {\"5\": 107, \"39\": 1}, \"1\": {\"1\": 95, \"34\": 3, \"57\": 2}, \"57\": {\"57\": 114, \"35\": 2}, \"17\": {\"17\": 106, \"10\": 1, \"24\": 1}, \"7\": {\"7\": 34, \"11\": 2}, \"12\": {\"12\": 92}, \"47\": {\"47\": 88, \"42\": 1, \"55\": 3}, \"40\": {\"40\": 109, \"19\": 26, \"27\": 1}, \"15\": {\"15\": 140, \"23\": 2}, \"42\": {\"42\": 27, \"48\": 1}, \"55\": {\"55\": 141, \"47\": 8, \"9\": 1}, \"49\": {\"49\": 20}, \"30\": {\"33\": 2, \"30\": 112, \"23\": 1, \"2\": 2, \"17\": 1, \"18\": 2}, \"50\": {\"50\": 117, \"20\": 12, \"25\": 4, \"52\": 1}, \"4\": {\"4\": 136}}, \"C_4\": {\"35\": {\"35\": 38, \"57\": 2}, \"25\": {\"25\": 104, \"20\": 5, \"8\": 8, \"3\": 4, \"53\": 1, \"18\": 1, \"36\": 8, \"21\": 2, \"50\": 1}, \"24\": {\"24\": 56}, \"48\": {\"48\": 134, \"28\": 1, \"54\": 3}, \"51\": {\"51\": 141, \"6\": 1, \"53\": 2}, \"13\": {\"13\": 120}, \"14\": {\"35\": 5, \"1\": 1, \"14\": 3, \"29\": 1, \"38\": 1, \"57\": 2, \"56\": 3}, \"32\": {\"32\": 24}, \"30\": {\"30\": 44}, \"34\": {\"34\": 24}, \"9\": {\"9\": 135, \"4\": 1}, \"1\": {\"1\": 39, \"49\": 1}, \"0\": {\"0\": 75, \"38\": 4, \"2\": 1}, \"38\": {\"38\": 39, \"2\": 1}, \"22\": {\"22\": 128}, \"40\": {\"40\": 114, \"19\": 6}, \"6\": {\"20\": 1, \"6\": 98, \"53\": 4, \"25\": 1, \"51\": 3, \"3\": 2, \"52\": 1, \"36\": 2}, \"16\": {\"16\": 94, \"18\": 1, \"52\": 1}, \"11\": {\"11\": 104}, \"20\": {\"20\": 99, \"3\": 21, \"36\": 2}, \"17\": {\"17\": 70, \"4\": 1, \"54\": 2, \"27\": 5, \"9\": 2}, \"26\": {\"26\": 24}, \"54\": {\"54\": 105, \"48\": 2, \"28\": 1}, \"55\": {\"55\": 154}, \"50\": {\"50\": 103, \"21\": 13, \"53\": 6, \"36\": 3, \"20\": 2, \"25\": 2, \"57\": 1, \"8\": 1, \"6\": 1}, \"19\": {\"19\": 141, \"44\": 1}, \"44\": {\"44\": 113, \"19\": 9}, \"47\": {\"47\": 120}, \"33\": {\"33\": 35, \"55\": 1}, \"5\": {\"5\": 106, \"47\": 1, \"23\": 1}, \"18\": {\"18\": 104, \"23\": 2, \"50\": 2}, \"21\": {\"21\": 121, \"50\": 3}, \"41\": {\"41\": 36}, \"23\": {\"23\": 128}, \"39\": {\"39\": 20}, \"37\": {\"37\": 24}, \"8\": {\"8\": 144}, \"49\": {\"49\": 20}, \"53\": {\"53\": 140}, \"31\": {\"31\": 28}, \"28\": {\"28\": 32}, \"3\": {\"3\": 89, \"20\": 20, \"36\": 13, \"25\": 2}, \"27\": {\"27\": 133, \"17\": 5}, \"46\": {\"46\": 118, \"32\": 3, \"5\": 5, \"49\": 2}, \"12\": {\"12\": 92}, \"7\": {\"7\": 23, \"46\": 1}, \"4\": {\"4\": 128, \"40\": 2, \"48\": 2}, \"42\": {\"42\": 31, \"34\": 1}, \"43\": {\"43\": 128, \"11\": 1, \"7\": 1}, \"29\": {\"29\": 120}, \"57\": {\"57\": 96, \"35\": 4}, \"52\": {\"52\": 103, \"31\": 1}, \"45\": {\"45\": 96}, \"36\": {\"36\": 89, \"3\": 1, \"25\": 2}, \"10\": {\"10\": 125, \"13\": 1}, \"15\": {\"15\": 134}, \"56\": {\"56\": 124}, \"2\": {\"2\": 36}}, \"C_5\": {\"47\": {\"47\": 100}, \"53\": {\"53\": 150}, \"29\": {\"29\": 126}, \"52\": {\"52\": 125, \"16\": 5}, \"55\": {\"55\": 137, \"30\": 7}, \"17\": {\"17\": 114, \"30\": 2}, \"42\": {\"42\": 40}, \"33\": {\"33\": 32}, \"11\": {\"11\": 148}, \"19\": {\"19\": 115, \"5\": 1, \"40\": 2}, \"1\": {\"1\": 139, \"55\": 3, \"30\": 1, \"54\": 1}, \"44\": {\"44\": 142}, \"49\": {\"49\": 35, \"14\": 1}, \"4\": {\"4\": 100}, \"6\": {\"6\": 111, \"8\": 2, \"17\": 2, \"30\": 1}, \"39\": {\"39\": 18, \"41\": 2}, \"50\": {\"50\": 131, \"25\": 1, \"20\": 11, \"51\": 3, \"21\": 1, \"16\": 1}, \"56\": {\"56\": 130}, \"25\": {\"25\": 132, \"8\": 10, \"20\": 1, \"6\": 1}, \"28\": {\"28\": 32}, \"35\": {\"35\": 34, \"0\": 1, \"56\": 1}, \"24\": {\"24\": 76, \"46\": 1, \"15\": 3}, \"21\": {\"21\": 132}, \"45\": {\"45\": 100, \"30\": 2, \"9\": 11, \"48\": 6, \"32\": 1, \"1\": 1, \"27\": 3}, \"16\": {\"16\": 141, \"23\": 2, \"52\": 1}, \"37\": {\"37\": 24}, \"57\": {\"57\": 131, \"14\": 1}, \"34\": {\"34\": 35, \"28\": 1}, \"38\": {\"38\": 32}, \"48\": {\"9\": 17, \"48\": 113}, \"26\": {\"26\": 24}, \"9\": {\"9\": 126, \"48\": 19, \"27\": 6, \"45\": 1}, \"18\": {\"18\": 64}, \"3\": {\"3\": 88, \"46\": 12}, \"23\": {\"23\": 124}, \"15\": {\"15\": 150, \"11\": 2, \"43\": 1, \"52\": 1}, \"10\": {\"10\": 68}, \"46\": {\"3\": 7, \"46\": 141}, \"22\": {\"22\": 28}, \"54\": {\"54\": 111, \"48\": 1}, \"27\": {\"27\": 158, \"9\": 2}, \"41\": {\"39\": 2, \"41\": 26}, \"31\": {\"31\": 36}, \"0\": {\"0\": 123, \"56\": 1}, \"7\": {\"7\": 31, \"51\": 1}, \"2\": {\"2\": 26, \"35\": 2}, \"14\": {\"49\": 4, \"14\": 16, \"54\": 3, \"36\": 2, \"46\": 7, \"3\": 1, \"57\": 9, \"31\": 2}, \"40\": {\"40\": 112, \"5\": 5, \"28\": 1, \"33\": 2, \"43\": 1, \"34\": 2, \"19\": 1}, \"5\": {\"5\": 126, \"19\": 2}, \"12\": {\"12\": 95, \"7\": 1}, \"43\": {\"43\": 140, \"11\": 2}, \"13\": {\"13\": 145, \"15\": 1, \"11\": 2}, \"36\": {\"36\": 90, \"57\": 2}, \"8\": {\"8\": 150}, \"32\": {\"32\": 30, \"27\": 1, \"45\": 1}, \"30\": {\"55\": 2, \"30\": 122, \"17\": 4}, \"51\": {\"51\": 136, \"25\": 1, \"20\": 1}, \"20\": {\"20\": 120, \"50\": 18}}, \"C_1\": {\"46\": {\"46\": 131, \"53\": 8, \"13\": 1}, \"16\": {\"16\": 134}, \"26\": {\"26\": 24}, \"10\": {\"10\": 95, \"52\": 1}, \"9\": {\"9\": 153, \"14\": 1, \"30\": 2}, \"28\": {\"28\": 28}, \"51\": {\"51\": 142, \"13\": 14}, \"1\": {\"1\": 82, \"57\": 17, \"19\": 1}, \"55\": {\"55\": 135, \"42\": 9, \"45\": 4}, \"27\": {\"27\": 124}, \"22\": {\"22\": 119, \"28\": 1, \"24\": 1, \"21\": 2, \"15\": 1}, \"52\": {\"10\": 6, \"52\": 103, \"11\": 17}, \"3\": {\"3\": 126, \"51\": 3, \"12\": 7, \"13\": 1, \"41\": 1, \"20\": 2}, \"33\": {\"33\": 32}, \"47\": {\"47\": 120}, \"42\": {\"42\": 33, \"55\": 7}, \"12\": {\"12\": 110, \"3\": 5, \"51\": 1}, \"23\": {\"23\": 129, \"15\": 2, \"0\": 1}, \"49\": {\"49\": 32}, \"7\": {\"7\": 19, \"55\": 5, \"45\": 4}, \"4\": {\"4\": 127, \"40\": 4, \"57\": 1}, \"50\": {\"9\": 2, \"6\": 5, \"50\": 118, \"48\": 7, \"4\": 1, \"46\": 1}, \"19\": {\"19\": 154}, \"11\": {\"11\": 126, \"52\": 14}, \"31\": {\"31\": 26, \"49\": 2}, \"41\": {\"41\": 24}, \"56\": {\"56\": 138}, \"0\": {\"0\": 143, \"23\": 5}, \"57\": {\"57\": 105, \"1\": 21, \"19\": 2}, \"53\": {\"53\": 140}, \"43\": {\"43\": 144}, \"37\": {\"37\": 32}, \"2\": {\"2\": 35, \"17\": 1}, \"6\": {\"6\": 94, \"48\": 2}, \"13\": {\"13\": 135, \"51\": 15}, \"18\": {\"18\": 72}, \"36\": {\"36\": 64}, \"29\": {\"29\": 138, \"57\": 2}, \"39\": {\"39\": 28}, \"17\": {\"17\": 64}, \"21\": {\"21\": 112, \"15\": 11, \"24\": 1}, \"25\": {\"25\": 131, \"18\": 1}, \"45\": {\"45\": 135, \"7\": 6, \"55\": 1}, \"38\": {\"38\": 23, \"0\": 1}, \"30\": {\"30\": 117, \"9\": 3}, \"24\": {\"24\": 104, \"10\": 1, \"21\": 2, \"52\": 1}, \"20\": {\"20\": 140}, \"8\": {\"8\": 140}, \"35\": {\"35\": 35, \"44\": 1}, \"54\": {\"54\": 104}, \"5\": {\"5\": 138, \"6\": 1, \"30\": 1, \"48\": 4, \"9\": 3, \"8\": 1}, \"48\": {\"48\": 137, \"50\": 4, \"6\": 3}, \"15\": {\"15\": 136, \"21\": 5, \"0\": 1}, \"34\": {\"34\": 24}, \"14\": {\"42\": 2, \"53\": 2, \"26\": 2, \"25\": 4, \"30\": 2, \"9\": 2, \"14\": 8, \"51\": 1, \"37\": 1}, \"32\": {\"32\": 32}, \"40\": {\"40\": 146, \"56\": 1, \"57\": 1}, \"44\": {\"44\": 135, \"35\": 1}}, \"C_2\": {\"36\": {\"36\": 111, \"8\": 3, \"27\": 1, \"20\": 1}, \"5\": {\"5\": 120}, \"45\": {\"4\": 7, \"45\": 119, \"40\": 1, \"32\": 1}, \"49\": {\"49\": 23, \"54\": 1}, \"50\": {\"50\": 126, \"6\": 6, \"20\": 2, \"25\": 2}, \"4\": {\"4\": 138}, \"43\": {\"43\": 148}, \"41\": {\"41\": 16, \"18\": 4}, \"37\": {\"37\": 36}, \"12\": {\"12\": 92}, \"33\": {\"33\": 24, \"48\": 3, \"42\": 1}, \"7\": {\"7\": 31, \"15\": 5}, \"56\": {\"56\": 139, \"22\": 1}, \"14\": {\"56\": 9, \"14\": 10, \"1\": 1, \"57\": 3, \"29\": 1}, \"52\": {\"52\": 116, \"16\": 8}, \"44\": {\"44\": 96}, \"48\": {\"48\": 143, \"33\": 1}, \"20\": {\"20\": 124, \"53\": 3, \"8\": 1}, \"55\": {\"55\": 141, \"57\": 3}, \"32\": {\"32\": 25, \"48\": 3}, \"40\": {\"40\": 117, \"35\": 1, \"9\": 14, \"19\": 2, \"4\": 2}, \"54\": {\"54\": 106, \"17\": 2}, \"17\": {\"17\": 104}, \"38\": {\"38\": 19, \"24\": 1}, \"24\": {\"24\": 95, \"38\": 1}, \"1\": {\"1\": 110, \"55\": 2}, \"6\": {\"6\": 119, \"25\": 1, \"50\": 4}, \"34\": {\"34\": 28}, \"11\": {\"11\": 136}, \"9\": {\"9\": 146, \"40\": 3, \"35\": 1}, \"8\": {\"8\": 152}, \"22\": {\"22\": 135, \"56\": 1}, \"26\": {\"26\": 24}, \"23\": {\"23\": 146}, \"10\": {\"10\": 112}, \"18\": {\"18\": 48}, \"13\": {\"13\": 116}, \"30\": {\"30\": 128}, \"42\": {\"42\": 36}, \"31\": {\"31\": 28}, \"46\": {\"46\": 106, \"52\": 6, \"6\": 1, \"16\": 9, \"15\": 6}, \"57\": {\"57\": 142}, \"47\": {\"47\": 138}, \"35\": {\"35\": 29, \"40\": 1, \"9\": 2}, \"15\": {\"7\": 7, \"15\": 125}, \"25\": {\"25\": 113, \"6\": 8, \"36\": 3, \"8\": 8, \"20\": 2, \"50\": 2}, \"19\": {\"19\": 131, \"40\": 2, \"9\": 3}, \"51\": {\"51\": 128}, \"53\": {\"53\": 130, \"20\": 2, \"25\": 2}, \"21\": {\"21\": 120}, \"39\": {\"39\": 27, \"2\": 1}, \"2\": {\"2\": 32}, \"16\": {\"16\": 149, \"46\": 1}, \"0\": {\"0\": 48}, \"3\": {\"3\": 92}, \"27\": {\"27\": 142}, \"28\": {\"28\": 28}, \"29\": {\"29\": 128}}}, \"per_domain_accuracy\": {\"O_14\": {\"accuracy\": 0.74921875, \"source?\": true}, \"O_20\": {\"accuracy\": 0.5614583333333333, \"source?\": true}, \"O_38\": {\"accuracy\": 0.6572916666666667, \"source?\": true}, \"O_8\": {\"accuracy\": 0.69375, \"source?\": true}, \"O_50\": {\"accuracy\": 0.7072916666666667, \"source?\": true}, \"O_32\": {\"accuracy\": 0.6872395833333333, \"source?\": true}, \"O_26\": {\"accuracy\": 0.50625, \"source?\": true}, \"O_44\": {\"accuracy\": 0.6588541666666666, \"source?\": true}, \"C_3\": {\"accuracy\": 0.9563953488372093, \"source?\": false}, \"C_4\": {\"accuracy\": 0.9556818181818182, \"source?\": false}, \"C_5\": {\"accuracy\": 0.9568784916201117, \"source?\": false}, \"C_1\": {\"accuracy\": 0.9520150273224044, \"source?\": false}, \"C_2\": {\"accuracy\": 0.9694562146892656, \"source?\": false}}}, \"history\": {\"epoch_indices\": [1, 2, 3, 4, 5, 6], \"train_label_loss\": [1.6154212333661104, 0.9285187514986666, 0.868116809942183, 0.8307519296405925, 0.8066214737038881, 0.7845768069249711], \"source_val_label_loss\": [1.0958263874053955, 0.9263597130775452, 0.8935534358024597, 0.8526932597160339, 0.8161432147026062, 0.7999188303947449], \"target_val_label_loss\": [0.5299631953239441, 0.22657759487628937, 0.22484183311462402, 0.23919764161109924, 0.24706438183784485, 0.2738301753997803], \"source_val_acc_label\": [0.6315755208333333, 0.6526692708333334, 0.6612955729166666, 0.6793619791666666, 0.68876953125, 0.69716796875], \"target_val_acc_label\": [0.9542665525114156, 0.9580836187214612, 0.9557291666666666, 0.951234303652968, 0.94613299086758, 0.9432434360730594]}, \"dataset_metrics\": {\"source\": {\"train\": {\"n_unique_x\": 179200, \"n_unique_y\": 16, \"n_batch/episode\": 6720}, \"val\": {\"n_unique_x\": 38400, \"n_unique_y\": 16, \"n_batch/episode\": 960}, \"test\": {\"n_unique_x\": 38400, \"n_unique_y\": 16, \"n_batch/episode\": 960}}, \"target\": {\"train\": {\"n_unique_x\": 175212, \"n_unique_y\": 58, \"n_batch/episode\": 6322}, \"val\": {\"n_unique_x\": 37196, \"n_unique_y\": 58, \"n_batch/episode\": 876}, \"test\": {\"n_unique_x\": 37634, \"n_unique_y\": 58, \"n_batch/episode\": 891}}}}'"
      ]
     },
     "execution_count": 29,
     "metadata": {},
     "output_type": "execute_result"
    }
   ],
   "source": [
    "json.dumps(experiment)"
   ]
  }
 ],
 "metadata": {
  "celltoolbar": "Tags",
  "kernelspec": {
   "display_name": "Python 3 (ipykernel)",
   "language": "python",
   "name": "python3"
  },
  "language_info": {
   "codemirror_mode": {
    "name": "ipython",
    "version": 3
   },
   "file_extension": ".py",
   "mimetype": "text/x-python",
   "name": "python",
   "nbconvert_exporter": "python",
   "pygments_lexer": "ipython3",
   "version": "3.8.12"
  },
  "papermill": {
   "default_parameters": {},
   "duration": 1254.889782,
   "end_time": "2022-03-28T16:14:06.570989",
   "environment_variables": {},
   "exception": null,
   "input_path": "/root/csc500-main/csc500-notebooks/templates/tl_ptn_template.ipynb",
   "output_path": "trial.ipynb",
   "parameters": {
    "parameters": {
     "BEST_MODEL_PATH": "./best_model.pth",
     "NUM_LOGS_PER_EPOCH": 10,
     "criteria_for_best": "target_accuracy",
     "dataset_seed": 1337,
     "datasets": [
      {
       "domain_prefix": "C_",
       "domains": [
        1,
        2,
        3,
        4,
        5
       ],
       "episode_transforms": [],
       "labels": [
        "1-10.",
        "1-11.",
        "1-15.",
        "1-16.",
        "1-17.",
        "1-18.",
        "1-19.",
        "10-4.",
        "10-7.",
        "11-1.",
        "11-14.",
        "11-17.",
        "11-20.",
        "11-7.",
        "13-20.",
        "13-8.",
        "14-10.",
        "14-11.",
        "14-14.",
        "14-7.",
        "15-1.",
        "15-20.",
        "16-1.",
        "16-16.",
        "17-10.",
        "17-11.",
        "17-2.",
        "19-1.",
        "19-16.",
        "19-19.",
        "19-20.",
        "19-3.",
        "2-10.",
        "2-11.",
        "2-17.",
        "2-18.",
        "2-20.",
        "2-3.",
        "2-4.",
        "2-5.",
        "2-6.",
        "2-7.",
        "2-8.",
        "3-13.",
        "3-18.",
        "3-3.",
        "4-1.",
        "4-10.",
        "4-11.",
        "4-19.",
        "5-5.",
        "6-15.",
        "7-10.",
        "7-14.",
        "8-18.",
        "8-20.",
        "8-3.",
        "8-8."
       ],
       "num_examples_per_domain_per_label": -1,
       "pickle_path": "/root/csc500-main/datasets/cores.stratified_ds.2022A.pkl",
       "source_or_target_dataset": "target",
       "x_transforms": [
        "unit_mag",
        "jitter_256_5",
        "lowpass_+/-10MHz",
        "take_200"
       ]
      },
      {
       "domain_prefix": "O_",
       "domains": [
        32,
        38,
        8,
        44,
        14,
        50,
        20,
        26
       ],
       "episode_transforms": [],
       "labels": [
        "3123D52",
        "3123D65",
        "3123D79",
        "3123D80",
        "3123D54",
        "3123D70",
        "3123D7B",
        "3123D89",
        "3123D58",
        "3123D76",
        "3123D7D",
        "3123EFE",
        "3123D64",
        "3123D78",
        "3123D7E",
        "3124E4A"
       ],
       "num_examples_per_domain_per_label": 2000,
       "pickle_path": "/root/csc500-main/datasets/oracle.Run1_framed_2000Examples_stratified_ds.2022A.pkl",
       "source_or_target_dataset": "source",
       "x_transforms": [
        "unit_mag",
        "jitter_256_5",
        "take_200",
        "resample_20Msps_to_25Msps"
       ]
      }
     ],
     "device": "cuda",
     "experiment_name": "tl_3-jitter5v2:oracle.run1.framed -> cores",
     "lr": 0.0001,
     "n_epoch": 50,
     "n_query": 2,
     "n_shot": 3,
     "n_way": 16,
     "patience": 3,
     "seed": 1337,
     "test_k_factor": 2,
     "torch_default_dtype": "torch.float32",
     "train_k_factor": 3,
     "val_k_factor": 2,
     "x_net": [
      {
       "class": "nnReshape",
       "kargs": {
        "shape": [
         -1,
         1,
         2,
         256
        ]
       }
      },
      {
       "class": "Conv2d",
       "kargs": {
        "bias": false,
        "in_channels": 1,
        "kernel_size": [
         1,
         7
        ],
        "out_channels": 256,
        "padding": [
         0,
         3
        ]
       }
      },
      {
       "class": "ReLU",
       "kargs": {
        "inplace": true
       }
      },
      {
       "class": "BatchNorm2d",
       "kargs": {
        "num_features": 256
       }
      },
      {
       "class": "Conv2d",
       "kargs": {
        "bias": true,
        "in_channels": 256,
        "kernel_size": [
         2,
         7
        ],
        "out_channels": 80,
        "padding": [
         0,
         3
        ]
       }
      },
      {
       "class": "ReLU",
       "kargs": {
        "inplace": true
       }
      },
      {
       "class": "BatchNorm2d",
       "kargs": {
        "num_features": 80
       }
      },
      {
       "class": "Flatten",
       "kargs": {}
      },
      {
       "class": "Linear",
       "kargs": {
        "in_features": 20480,
        "out_features": 256
       }
      },
      {
       "class": "ReLU",
       "kargs": {
        "inplace": true
       }
      },
      {
       "class": "BatchNorm1d",
       "kargs": {
        "num_features": 256
       }
      },
      {
       "class": "Linear",
       "kargs": {
        "in_features": 256,
        "out_features": 256
       }
      }
     ],
     "x_shape": [
      2,
      256
     ]
    }
   },
   "start_time": "2022-03-28T15:53:11.681207",
   "version": "2.3.4"
  }
 },
 "nbformat": 4,
 "nbformat_minor": 5
}