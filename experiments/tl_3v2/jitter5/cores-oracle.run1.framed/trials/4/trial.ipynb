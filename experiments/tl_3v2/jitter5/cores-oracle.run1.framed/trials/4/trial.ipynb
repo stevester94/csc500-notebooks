{
 "cells": [
  {
   "cell_type": "markdown",
   "id": "9fea5f46",
   "metadata": {
    "papermill": {
     "duration": 0.030595,
     "end_time": "2022-03-28T12:45:58.887164",
     "exception": false,
     "start_time": "2022-03-28T12:45:58.856569",
     "status": "completed"
    },
    "tags": []
   },
   "source": [
    "# Transfer Learning Template"
   ]
  },
  {
   "cell_type": "code",
   "execution_count": 1,
   "id": "0902182a",
   "metadata": {
    "execution": {
     "iopub.execute_input": "2022-03-28T12:45:58.952471Z",
     "iopub.status.busy": "2022-03-28T12:45:58.951597Z",
     "iopub.status.idle": "2022-03-28T12:46:00.918472Z",
     "shell.execute_reply": "2022-03-28T12:46:00.918102Z"
    },
    "papermill": {
     "duration": 2.007502,
     "end_time": "2022-03-28T12:46:00.918559",
     "exception": false,
     "start_time": "2022-03-28T12:45:58.911057",
     "status": "completed"
    },
    "tags": []
   },
   "outputs": [],
   "source": [
    "%load_ext autoreload\n",
    "%autoreload 2\n",
    "%matplotlib inline\n",
    "\n",
    "    \n",
    "import os, json, sys, time, random\n",
    "import numpy as np\n",
    "import torch\n",
    "from torch.optim import Adam\n",
    "from  easydict import EasyDict\n",
    "import matplotlib.pyplot as plt\n",
    "\n",
    "from steves_models.steves_ptn import Steves_Prototypical_Network\n",
    "\n",
    "from steves_utils.lazy_iterable_wrapper import Lazy_Iterable_Wrapper\n",
    "from steves_utils.iterable_aggregator import Iterable_Aggregator\n",
    "from steves_utils.ptn_train_eval_test_jig import  PTN_Train_Eval_Test_Jig\n",
    "from steves_utils.torch_sequential_builder import build_sequential\n",
    "from steves_utils.torch_utils import get_dataset_metrics, ptn_confusion_by_domain_over_dataloader\n",
    "from steves_utils.utils_v2 import (per_domain_accuracy_from_confusion, get_datasets_base_path)\n",
    "from steves_utils.PTN.utils import independent_accuracy_assesment\n",
    "\n",
    "from torch.utils.data import DataLoader\n",
    "\n",
    "from steves_utils.stratified_dataset.episodic_accessor import Episodic_Accessor_Factory\n",
    "\n",
    "from steves_utils.ptn_do_report import (\n",
    "    get_loss_curve,\n",
    "    get_results_table,\n",
    "    get_parameters_table,\n",
    "    get_domain_accuracies,\n",
    ")\n",
    "\n",
    "from steves_utils.transforms import get_chained_transform"
   ]
  },
  {
   "cell_type": "markdown",
   "id": "41c840b4",
   "metadata": {
    "papermill": {
     "duration": 0.019526,
     "end_time": "2022-03-28T12:46:00.957880",
     "exception": false,
     "start_time": "2022-03-28T12:46:00.938354",
     "status": "completed"
    },
    "tags": []
   },
   "source": [
    "# Allowed Parameters\n",
    "These are allowed parameters, not defaults\n",
    "Each of these values need to be present in the injected parameters (the notebook will raise an exception if they are not present)\n",
    "\n",
    "Papermill uses the cell tag \"parameters\" to inject the real parameters below this cell.\n",
    "Enable tags to see what I mean"
   ]
  },
  {
   "cell_type": "code",
   "execution_count": 2,
   "id": "fd44eb83",
   "metadata": {
    "execution": {
     "iopub.execute_input": "2022-03-28T12:46:01.001022Z",
     "iopub.status.busy": "2022-03-28T12:46:01.000333Z",
     "iopub.status.idle": "2022-03-28T12:46:01.019145Z",
     "shell.execute_reply": "2022-03-28T12:46:01.018774Z"
    },
    "papermill": {
     "duration": 0.04185,
     "end_time": "2022-03-28T12:46:01.019216",
     "exception": false,
     "start_time": "2022-03-28T12:46:00.977366",
     "status": "completed"
    },
    "tags": []
   },
   "outputs": [],
   "source": [
    "required_parameters = {\n",
    "    \"experiment_name\",\n",
    "    \"lr\",\n",
    "    \"device\",\n",
    "    \"seed\",\n",
    "    \"dataset_seed\",\n",
    "    \"n_shot\",\n",
    "    \"n_query\",\n",
    "    \"n_way\",\n",
    "    \"train_k_factor\",\n",
    "    \"val_k_factor\",\n",
    "    \"test_k_factor\",\n",
    "    \"n_epoch\",\n",
    "    \"patience\",\n",
    "    \"criteria_for_best\",\n",
    "    \"x_net\",\n",
    "    \"datasets\",\n",
    "    \"torch_default_dtype\",\n",
    "    \"NUM_LOGS_PER_EPOCH\",\n",
    "    \"BEST_MODEL_PATH\",\n",
    "    \"x_shape\",\n",
    "}"
   ]
  },
  {
   "cell_type": "code",
   "execution_count": 3,
   "id": "fa3f0049",
   "metadata": {
    "execution": {
     "iopub.execute_input": "2022-03-28T12:46:01.068177Z",
     "iopub.status.busy": "2022-03-28T12:46:01.060301Z",
     "iopub.status.idle": "2022-03-28T12:46:01.087497Z",
     "shell.execute_reply": "2022-03-28T12:46:01.087129Z"
    },
    "papermill": {
     "duration": 0.048627,
     "end_time": "2022-03-28T12:46:01.087578",
     "exception": false,
     "start_time": "2022-03-28T12:46:01.038951",
     "status": "completed"
    },
    "tags": [
     "parameters"
    ]
   },
   "outputs": [],
   "source": [
    "from steves_utils.CORES.utils import (\n",
    "    ALL_NODES,\n",
    "    ALL_NODES_MINIMUM_1000_EXAMPLES,\n",
    "    ALL_DAYS\n",
    ")\n",
    "\n",
    "from steves_utils.ORACLE.utils_v2 import (\n",
    "    ALL_DISTANCES_FEET_NARROWED,\n",
    "    ALL_RUNS,\n",
    "    ALL_SERIAL_NUMBERS,\n",
    ")\n",
    "\n",
    "standalone_parameters = {}\n",
    "standalone_parameters[\"experiment_name\"] = \"STANDALONE PTN\"\n",
    "standalone_parameters[\"lr\"] = 0.001\n",
    "standalone_parameters[\"device\"] = \"cuda\"\n",
    "\n",
    "standalone_parameters[\"seed\"] = 1337\n",
    "standalone_parameters[\"dataset_seed\"] = 1337\n",
    "\n",
    "standalone_parameters[\"n_way\"] = 8\n",
    "standalone_parameters[\"n_shot\"] = 3\n",
    "standalone_parameters[\"n_query\"]  = 2\n",
    "standalone_parameters[\"train_k_factor\"] = 1\n",
    "standalone_parameters[\"val_k_factor\"] = 2\n",
    "standalone_parameters[\"test_k_factor\"] = 2\n",
    "\n",
    "\n",
    "standalone_parameters[\"n_epoch\"] = 50\n",
    "\n",
    "standalone_parameters[\"patience\"] = 10\n",
    "standalone_parameters[\"criteria_for_best\"] = \"source_loss\"\n",
    "\n",
    "standalone_parameters[\"datasets\"] = [\n",
    "    {\n",
    "        \"labels\": ALL_SERIAL_NUMBERS,\n",
    "        \"domains\": ALL_DISTANCES_FEET_NARROWED,\n",
    "        \"num_examples_per_domain_per_label\": 100,\n",
    "        \"pickle_path\": os.path.join(get_datasets_base_path(), \"oracle.Run1_framed_2000Examples_stratified_ds.2022A.pkl\"),\n",
    "        \"source_or_target_dataset\": \"source\",\n",
    "        \"x_transforms\": [\"unit_mag\", \"minus_two\"],\n",
    "        \"episode_transforms\": [],\n",
    "        \"domain_prefix\": \"ORACLE_\"\n",
    "    },\n",
    "    {\n",
    "        \"labels\": ALL_NODES,\n",
    "        \"domains\": ALL_DAYS,\n",
    "        \"num_examples_per_domain_per_label\": 100,\n",
    "        \"pickle_path\": os.path.join(get_datasets_base_path(), \"cores.stratified_ds.2022A.pkl\"),\n",
    "        \"source_or_target_dataset\": \"target\",\n",
    "        \"x_transforms\": [\"unit_power\", \"times_zero\"],\n",
    "        \"episode_transforms\": [],\n",
    "        \"domain_prefix\": \"CORES_\"\n",
    "    }   \n",
    "]\n",
    "\n",
    "standalone_parameters[\"torch_default_dtype\"] = \"torch.float32\" \n",
    "\n",
    "\n",
    "\n",
    "standalone_parameters[\"x_net\"] =     [\n",
    "    {\"class\": \"nnReshape\", \"kargs\": {\"shape\":[-1, 1, 2, 256]}},\n",
    "    {\"class\": \"Conv2d\", \"kargs\": { \"in_channels\":1, \"out_channels\":256, \"kernel_size\":(1,7), \"bias\":False, \"padding\":(0,3), },},\n",
    "    {\"class\": \"ReLU\", \"kargs\": {\"inplace\": True}},\n",
    "    {\"class\": \"BatchNorm2d\", \"kargs\": {\"num_features\":256}},\n",
    "\n",
    "    {\"class\": \"Conv2d\", \"kargs\": { \"in_channels\":256, \"out_channels\":80, \"kernel_size\":(2,7), \"bias\":True, \"padding\":(0,3), },},\n",
    "    {\"class\": \"ReLU\", \"kargs\": {\"inplace\": True}},\n",
    "    {\"class\": \"BatchNorm2d\", \"kargs\": {\"num_features\":80}},\n",
    "    {\"class\": \"Flatten\", \"kargs\": {}},\n",
    "\n",
    "    {\"class\": \"Linear\", \"kargs\": {\"in_features\": 80*256, \"out_features\": 256}}, # 80 units per IQ pair\n",
    "    {\"class\": \"ReLU\", \"kargs\": {\"inplace\": True}},\n",
    "    {\"class\": \"BatchNorm1d\", \"kargs\": {\"num_features\":256}},\n",
    "\n",
    "    {\"class\": \"Linear\", \"kargs\": {\"in_features\": 256, \"out_features\": 256}},\n",
    "]\n",
    "\n",
    "# Parameters relevant to results\n",
    "# These parameters will basically never need to change\n",
    "standalone_parameters[\"NUM_LOGS_PER_EPOCH\"] = 10\n",
    "standalone_parameters[\"BEST_MODEL_PATH\"] = \"./best_model.pth\"\n",
    "\n",
    "\n",
    "\n",
    "\n"
   ]
  },
  {
   "cell_type": "code",
   "execution_count": 4,
   "id": "bb4f6669",
   "metadata": {
    "execution": {
     "iopub.execute_input": "2022-03-28T12:46:01.136760Z",
     "iopub.status.busy": "2022-03-28T12:46:01.136320Z",
     "iopub.status.idle": "2022-03-28T12:46:01.155175Z",
     "shell.execute_reply": "2022-03-28T12:46:01.154802Z"
    },
    "papermill": {
     "duration": 0.047944,
     "end_time": "2022-03-28T12:46:01.155245",
     "exception": false,
     "start_time": "2022-03-28T12:46:01.107301",
     "status": "completed"
    },
    "tags": [
     "injected-parameters"
    ]
   },
   "outputs": [],
   "source": [
    "# Parameters\n",
    "parameters = {\n",
    "    \"experiment_name\": \"tl_3-jitter5v2:cores -> oracle.run1.framed\",\n",
    "    \"device\": \"cuda\",\n",
    "    \"lr\": 0.0001,\n",
    "    \"x_shape\": [2, 256],\n",
    "    \"n_shot\": 3,\n",
    "    \"n_query\": 2,\n",
    "    \"train_k_factor\": 3,\n",
    "    \"val_k_factor\": 2,\n",
    "    \"test_k_factor\": 2,\n",
    "    \"torch_default_dtype\": \"torch.float32\",\n",
    "    \"n_epoch\": 50,\n",
    "    \"patience\": 3,\n",
    "    \"criteria_for_best\": \"target_accuracy\",\n",
    "    \"x_net\": [\n",
    "        {\"class\": \"nnReshape\", \"kargs\": {\"shape\": [-1, 1, 2, 256]}},\n",
    "        {\n",
    "            \"class\": \"Conv2d\",\n",
    "            \"kargs\": {\n",
    "                \"in_channels\": 1,\n",
    "                \"out_channels\": 256,\n",
    "                \"kernel_size\": [1, 7],\n",
    "                \"bias\": False,\n",
    "                \"padding\": [0, 3],\n",
    "            },\n",
    "        },\n",
    "        {\"class\": \"ReLU\", \"kargs\": {\"inplace\": True}},\n",
    "        {\"class\": \"BatchNorm2d\", \"kargs\": {\"num_features\": 256}},\n",
    "        {\n",
    "            \"class\": \"Conv2d\",\n",
    "            \"kargs\": {\n",
    "                \"in_channels\": 256,\n",
    "                \"out_channels\": 80,\n",
    "                \"kernel_size\": [2, 7],\n",
    "                \"bias\": True,\n",
    "                \"padding\": [0, 3],\n",
    "            },\n",
    "        },\n",
    "        {\"class\": \"ReLU\", \"kargs\": {\"inplace\": True}},\n",
    "        {\"class\": \"BatchNorm2d\", \"kargs\": {\"num_features\": 80}},\n",
    "        {\"class\": \"Flatten\", \"kargs\": {}},\n",
    "        {\"class\": \"Linear\", \"kargs\": {\"in_features\": 20480, \"out_features\": 256}},\n",
    "        {\"class\": \"ReLU\", \"kargs\": {\"inplace\": True}},\n",
    "        {\"class\": \"BatchNorm1d\", \"kargs\": {\"num_features\": 256}},\n",
    "        {\"class\": \"Linear\", \"kargs\": {\"in_features\": 256, \"out_features\": 256}},\n",
    "    ],\n",
    "    \"NUM_LOGS_PER_EPOCH\": 10,\n",
    "    \"BEST_MODEL_PATH\": \"./best_model.pth\",\n",
    "    \"n_way\": 16,\n",
    "    \"datasets\": [\n",
    "        {\n",
    "            \"labels\": [\n",
    "                \"1-10.\",\n",
    "                \"1-11.\",\n",
    "                \"1-15.\",\n",
    "                \"1-16.\",\n",
    "                \"1-17.\",\n",
    "                \"1-18.\",\n",
    "                \"1-19.\",\n",
    "                \"10-4.\",\n",
    "                \"10-7.\",\n",
    "                \"11-1.\",\n",
    "                \"11-14.\",\n",
    "                \"11-17.\",\n",
    "                \"11-20.\",\n",
    "                \"11-7.\",\n",
    "                \"13-20.\",\n",
    "                \"13-8.\",\n",
    "                \"14-10.\",\n",
    "                \"14-11.\",\n",
    "                \"14-14.\",\n",
    "                \"14-7.\",\n",
    "                \"15-1.\",\n",
    "                \"15-20.\",\n",
    "                \"16-1.\",\n",
    "                \"16-16.\",\n",
    "                \"17-10.\",\n",
    "                \"17-11.\",\n",
    "                \"17-2.\",\n",
    "                \"19-1.\",\n",
    "                \"19-16.\",\n",
    "                \"19-19.\",\n",
    "                \"19-20.\",\n",
    "                \"19-3.\",\n",
    "                \"2-10.\",\n",
    "                \"2-11.\",\n",
    "                \"2-17.\",\n",
    "                \"2-18.\",\n",
    "                \"2-20.\",\n",
    "                \"2-3.\",\n",
    "                \"2-4.\",\n",
    "                \"2-5.\",\n",
    "                \"2-6.\",\n",
    "                \"2-7.\",\n",
    "                \"2-8.\",\n",
    "                \"3-13.\",\n",
    "                \"3-18.\",\n",
    "                \"3-3.\",\n",
    "                \"4-1.\",\n",
    "                \"4-10.\",\n",
    "                \"4-11.\",\n",
    "                \"4-19.\",\n",
    "                \"5-5.\",\n",
    "                \"6-15.\",\n",
    "                \"7-10.\",\n",
    "                \"7-14.\",\n",
    "                \"8-18.\",\n",
    "                \"8-20.\",\n",
    "                \"8-3.\",\n",
    "                \"8-8.\",\n",
    "            ],\n",
    "            \"domains\": [1, 2, 3, 4, 5],\n",
    "            \"num_examples_per_domain_per_label\": -1,\n",
    "            \"pickle_path\": \"/root/csc500-main/datasets/cores.stratified_ds.2022A.pkl\",\n",
    "            \"source_or_target_dataset\": \"source\",\n",
    "            \"x_transforms\": [\n",
    "                \"unit_mag\",\n",
    "                \"jitter_256_5\",\n",
    "                \"lowpass_+/-10MHz\",\n",
    "                \"take_200\",\n",
    "            ],\n",
    "            \"episode_transforms\": [],\n",
    "            \"domain_prefix\": \"C_\",\n",
    "        },\n",
    "        {\n",
    "            \"labels\": [\n",
    "                \"3123D52\",\n",
    "                \"3123D65\",\n",
    "                \"3123D79\",\n",
    "                \"3123D80\",\n",
    "                \"3123D54\",\n",
    "                \"3123D70\",\n",
    "                \"3123D7B\",\n",
    "                \"3123D89\",\n",
    "                \"3123D58\",\n",
    "                \"3123D76\",\n",
    "                \"3123D7D\",\n",
    "                \"3123EFE\",\n",
    "                \"3123D64\",\n",
    "                \"3123D78\",\n",
    "                \"3123D7E\",\n",
    "                \"3124E4A\",\n",
    "            ],\n",
    "            \"domains\": [32, 38, 8, 44, 14, 50, 20, 26],\n",
    "            \"num_examples_per_domain_per_label\": 2000,\n",
    "            \"pickle_path\": \"/root/csc500-main/datasets/oracle.Run1_framed_2000Examples_stratified_ds.2022A.pkl\",\n",
    "            \"source_or_target_dataset\": \"target\",\n",
    "            \"x_transforms\": [\n",
    "                \"unit_mag\",\n",
    "                \"jitter_256_5\",\n",
    "                \"take_200\",\n",
    "                \"resample_20Msps_to_25Msps\",\n",
    "            ],\n",
    "            \"episode_transforms\": [],\n",
    "            \"domain_prefix\": \"O_\",\n",
    "        },\n",
    "    ],\n",
    "    \"seed\": 420,\n",
    "    \"dataset_seed\": 420,\n",
    "}\n"
   ]
  },
  {
   "cell_type": "code",
   "execution_count": 5,
   "id": "8fa1cc33",
   "metadata": {
    "execution": {
     "iopub.execute_input": "2022-03-28T12:46:01.199703Z",
     "iopub.status.busy": "2022-03-28T12:46:01.199305Z",
     "iopub.status.idle": "2022-03-28T12:46:01.216228Z",
     "shell.execute_reply": "2022-03-28T12:46:01.215910Z"
    },
    "papermill": {
     "duration": 0.040727,
     "end_time": "2022-03-28T12:46:01.216299",
     "exception": false,
     "start_time": "2022-03-28T12:46:01.175572",
     "status": "completed"
    },
    "tags": []
   },
   "outputs": [],
   "source": [
    "# Set this to True if you want to run this template directly\n",
    "STANDALONE = False\n",
    "if STANDALONE:\n",
    "    print(\"parameters not injected, running with standalone_parameters\")\n",
    "    parameters = standalone_parameters\n",
    "\n",
    "if not 'parameters' in locals() and not 'parameters' in globals():\n",
    "    raise Exception(\"Parameter injection failed\")\n",
    "\n",
    "#Use an easy dict for all the parameters\n",
    "p = EasyDict(parameters)\n",
    "\n",
    "if \"x_shape\" not in p:\n",
    "    p.x_shape = [2,256] # Default to this if we dont supply x_shape\n",
    "\n",
    "\n",
    "supplied_keys = set(p.keys())\n",
    "\n",
    "if  supplied_keys != required_parameters:\n",
    "    print(\"Parameters are incorrect\")\n",
    "    if len(supplied_keys - required_parameters)>0: print(\"Shouldn't have:\", str(supplied_keys - required_parameters))\n",
    "    if len(required_parameters - supplied_keys)>0: print(\"Need to have:\", str(required_parameters - supplied_keys))\n",
    "    raise RuntimeError(\"Parameters are incorrect\")"
   ]
  },
  {
   "cell_type": "code",
   "execution_count": 6,
   "id": "3a028d58",
   "metadata": {
    "execution": {
     "iopub.execute_input": "2022-03-28T12:46:01.258992Z",
     "iopub.status.busy": "2022-03-28T12:46:01.258308Z",
     "iopub.status.idle": "2022-03-28T12:46:01.275230Z",
     "shell.execute_reply": "2022-03-28T12:46:01.274865Z"
    },
    "papermill": {
     "duration": 0.038956,
     "end_time": "2022-03-28T12:46:01.275300",
     "exception": false,
     "start_time": "2022-03-28T12:46:01.236344",
     "status": "completed"
    },
    "tags": []
   },
   "outputs": [],
   "source": [
    "###################################\n",
    "# Set the RNGs and make it all deterministic\n",
    "###################################\n",
    "np.random.seed(p.seed)\n",
    "random.seed(p.seed)\n",
    "torch.manual_seed(p.seed)\n",
    "\n",
    "torch.use_deterministic_algorithms(True) "
   ]
  },
  {
   "cell_type": "code",
   "execution_count": 7,
   "id": "b691acf6",
   "metadata": {
    "execution": {
     "iopub.execute_input": "2022-03-28T12:46:01.318334Z",
     "iopub.status.busy": "2022-03-28T12:46:01.317965Z",
     "iopub.status.idle": "2022-03-28T12:46:01.334403Z",
     "shell.execute_reply": "2022-03-28T12:46:01.334037Z"
    },
    "papermill": {
     "duration": 0.038792,
     "end_time": "2022-03-28T12:46:01.334474",
     "exception": false,
     "start_time": "2022-03-28T12:46:01.295682",
     "status": "completed"
    },
    "tags": []
   },
   "outputs": [],
   "source": [
    "###########################################\n",
    "# The stratified datasets honor this\n",
    "###########################################\n",
    "torch.set_default_dtype(eval(p.torch_default_dtype))"
   ]
  },
  {
   "cell_type": "code",
   "execution_count": 8,
   "id": "b5fba671",
   "metadata": {
    "execution": {
     "iopub.execute_input": "2022-03-28T12:46:01.377516Z",
     "iopub.status.busy": "2022-03-28T12:46:01.377145Z",
     "iopub.status.idle": "2022-03-28T12:46:01.427425Z",
     "shell.execute_reply": "2022-03-28T12:46:01.427068Z"
    },
    "papermill": {
     "duration": 0.072925,
     "end_time": "2022-03-28T12:46:01.427494",
     "exception": false,
     "start_time": "2022-03-28T12:46:01.354569",
     "status": "completed"
    },
    "tags": []
   },
   "outputs": [],
   "source": [
    "###################################\n",
    "# Build the network(s)\n",
    "# Note: It's critical to do this AFTER setting the RNG\n",
    "###################################\n",
    "x_net = build_sequential(p.x_net)"
   ]
  },
  {
   "cell_type": "code",
   "execution_count": 9,
   "id": "5d7e61cc",
   "metadata": {
    "execution": {
     "iopub.execute_input": "2022-03-28T12:46:01.471421Z",
     "iopub.status.busy": "2022-03-28T12:46:01.470746Z",
     "iopub.status.idle": "2022-03-28T12:46:01.493713Z",
     "shell.execute_reply": "2022-03-28T12:46:01.492903Z"
    },
    "papermill": {
     "duration": 0.045955,
     "end_time": "2022-03-28T12:46:01.493866",
     "exception": false,
     "start_time": "2022-03-28T12:46:01.447911",
     "status": "completed"
    },
    "tags": []
   },
   "outputs": [],
   "source": [
    "start_time_secs = time.time()"
   ]
  },
  {
   "cell_type": "code",
   "execution_count": 10,
   "id": "c6b67dfd",
   "metadata": {
    "execution": {
     "iopub.execute_input": "2022-03-28T12:46:01.542957Z",
     "iopub.status.busy": "2022-03-28T12:46:01.542591Z",
     "iopub.status.idle": "2022-03-28T12:46:01.559705Z",
     "shell.execute_reply": "2022-03-28T12:46:01.558880Z"
    },
    "papermill": {
     "duration": 0.040281,
     "end_time": "2022-03-28T12:46:01.559858",
     "exception": false,
     "start_time": "2022-03-28T12:46:01.519577",
     "status": "completed"
    },
    "tags": []
   },
   "outputs": [],
   "source": [
    "p.domains_source = []\n",
    "p.domains_target = []\n",
    "\n",
    "\n",
    "train_original_source = []\n",
    "val_original_source   = []\n",
    "test_original_source  = []\n",
    "\n",
    "train_original_target = []\n",
    "val_original_target   = []\n",
    "test_original_target  = []"
   ]
  },
  {
   "cell_type": "code",
   "execution_count": 11,
   "id": "e3d9c3d3",
   "metadata": {
    "execution": {
     "iopub.execute_input": "2022-03-28T12:46:01.607907Z",
     "iopub.status.busy": "2022-03-28T12:46:01.607527Z",
     "iopub.status.idle": "2022-03-28T12:46:01.623983Z",
     "shell.execute_reply": "2022-03-28T12:46:01.623416Z"
    },
    "papermill": {
     "duration": 0.038948,
     "end_time": "2022-03-28T12:46:01.624106",
     "exception": false,
     "start_time": "2022-03-28T12:46:01.585158",
     "status": "completed"
    },
    "tags": []
   },
   "outputs": [],
   "source": [
    "# global_x_transform_func = lambda x: normalize(x.to(torch.get_default_dtype()), \"unit_power\") # unit_power, unit_mag\n",
    "# global_x_transform_func = lambda x: normalize(x, \"unit_power\") # unit_power, unit_mag"
   ]
  },
  {
   "cell_type": "code",
   "execution_count": 12,
   "id": "acb78fd2",
   "metadata": {
    "execution": {
     "iopub.execute_input": "2022-03-28T12:46:01.676879Z",
     "iopub.status.busy": "2022-03-28T12:46:01.676293Z",
     "iopub.status.idle": "2022-03-28T12:46:01.694352Z",
     "shell.execute_reply": "2022-03-28T12:46:01.693545Z"
    },
    "papermill": {
     "duration": 0.045437,
     "end_time": "2022-03-28T12:46:01.694506",
     "exception": false,
     "start_time": "2022-03-28T12:46:01.649069",
     "status": "completed"
    },
    "tags": []
   },
   "outputs": [],
   "source": [
    "def add_dataset(\n",
    "    labels,\n",
    "    domains,\n",
    "    pickle_path,\n",
    "    x_transforms,\n",
    "    episode_transforms,\n",
    "    domain_prefix,\n",
    "    num_examples_per_domain_per_label,\n",
    "    source_or_target_dataset:str,\n",
    "    iterator_seed=p.seed,\n",
    "    dataset_seed=p.dataset_seed,\n",
    "    n_shot=p.n_shot,\n",
    "    n_way=p.n_way,\n",
    "    n_query=p.n_query,\n",
    "    train_val_test_k_factors=(p.train_k_factor,p.val_k_factor,p.test_k_factor),\n",
    "):\n",
    "   \n",
    "    if x_transforms == []: x_transform = None\n",
    "    else: x_transform = get_chained_transform(x_transforms)\n",
    "    \n",
    "    if episode_transforms == []: episode_transform = None\n",
    "    else: raise Exception(\"episode_transforms not implemented\")\n",
    "    \n",
    "    episode_transform = lambda tup, _prefix=domain_prefix: (_prefix + str(tup[0]), tup[1])\n",
    "\n",
    "\n",
    "    eaf = Episodic_Accessor_Factory(\n",
    "        labels=labels,\n",
    "        domains=domains,\n",
    "        num_examples_per_domain_per_label=num_examples_per_domain_per_label,\n",
    "        iterator_seed=iterator_seed,\n",
    "        dataset_seed=dataset_seed,\n",
    "        n_shot=n_shot,\n",
    "        n_way=n_way,\n",
    "        n_query=n_query,\n",
    "        train_val_test_k_factors=train_val_test_k_factors,\n",
    "        pickle_path=pickle_path,\n",
    "        x_transform_func=x_transform,\n",
    "    )\n",
    "\n",
    "    train, val, test = eaf.get_train(), eaf.get_val(), eaf.get_test()\n",
    "    train = Lazy_Iterable_Wrapper(train, episode_transform)\n",
    "    val = Lazy_Iterable_Wrapper(val, episode_transform)\n",
    "    test = Lazy_Iterable_Wrapper(test, episode_transform)\n",
    "\n",
    "    if source_or_target_dataset==\"source\":\n",
    "        train_original_source.append(train)\n",
    "        val_original_source.append(val)\n",
    "        test_original_source.append(test)\n",
    "\n",
    "        p.domains_source.extend(\n",
    "            [domain_prefix + str(u) for u in domains]\n",
    "        )\n",
    "    elif source_or_target_dataset==\"target\":\n",
    "        train_original_target.append(train)\n",
    "        val_original_target.append(val)\n",
    "        test_original_target.append(test)\n",
    "        p.domains_target.extend(\n",
    "            [domain_prefix + str(u) for u in domains]\n",
    "        )\n",
    "    else:\n",
    "        raise Exception(f\"invalid source_or_target_dataset: {source_or_target_dataset}\")\n",
    "    "
   ]
  },
  {
   "cell_type": "code",
   "execution_count": 13,
   "id": "fe266617",
   "metadata": {
    "execution": {
     "iopub.execute_input": "2022-03-28T12:46:01.744085Z",
     "iopub.status.busy": "2022-03-28T12:46:01.743691Z",
     "iopub.status.idle": "2022-03-28T12:47:52.092920Z",
     "shell.execute_reply": "2022-03-28T12:47:52.092148Z"
    },
    "papermill": {
     "duration": 110.372545,
     "end_time": "2022-03-28T12:47:52.093109",
     "exception": false,
     "start_time": "2022-03-28T12:46:01.720564",
     "status": "completed"
    },
    "tags": []
   },
   "outputs": [],
   "source": [
    "for ds in p.datasets:\n",
    "    add_dataset(**ds)"
   ]
  },
  {
   "cell_type": "code",
   "execution_count": 14,
   "id": "b90d65ac",
   "metadata": {
    "execution": {
     "iopub.execute_input": "2022-03-28T12:47:52.142975Z",
     "iopub.status.busy": "2022-03-28T12:47:52.142594Z",
     "iopub.status.idle": "2022-03-28T12:47:52.166881Z",
     "shell.execute_reply": "2022-03-28T12:47:52.166164Z"
    },
    "papermill": {
     "duration": 0.048314,
     "end_time": "2022-03-28T12:47:52.167037",
     "exception": false,
     "start_time": "2022-03-28T12:47:52.118723",
     "status": "completed"
    },
    "tags": []
   },
   "outputs": [],
   "source": [
    "# from steves_utils.CORES.utils import (\n",
    "#     ALL_NODES,\n",
    "#     ALL_NODES_MINIMUM_1000_EXAMPLES,\n",
    "#     ALL_DAYS\n",
    "# )\n",
    "\n",
    "# add_dataset(\n",
    "#     labels=ALL_NODES,\n",
    "#     domains = ALL_DAYS,\n",
    "#     num_examples_per_domain_per_label=100,\n",
    "#     pickle_path=os.path.join(get_datasets_base_path(), \"cores.stratified_ds.2022A.pkl\"),\n",
    "#     source_or_target_dataset=\"target\",\n",
    "#     x_transform_func=global_x_transform_func,\n",
    "#     domain_modifier=lambda u: f\"cores_{u}\"\n",
    "# )"
   ]
  },
  {
   "cell_type": "code",
   "execution_count": 15,
   "id": "76db484d",
   "metadata": {
    "execution": {
     "iopub.execute_input": "2022-03-28T12:47:52.219316Z",
     "iopub.status.busy": "2022-03-28T12:47:52.218942Z",
     "iopub.status.idle": "2022-03-28T12:47:52.242426Z",
     "shell.execute_reply": "2022-03-28T12:47:52.241702Z"
    },
    "papermill": {
     "duration": 0.047253,
     "end_time": "2022-03-28T12:47:52.242583",
     "exception": false,
     "start_time": "2022-03-28T12:47:52.195330",
     "status": "completed"
    },
    "tags": []
   },
   "outputs": [],
   "source": [
    "# from steves_utils.ORACLE.utils_v2 import (\n",
    "#     ALL_DISTANCES_FEET,\n",
    "#     ALL_RUNS,\n",
    "#     ALL_SERIAL_NUMBERS,\n",
    "# )\n",
    "\n",
    "\n",
    "# add_dataset(\n",
    "#     labels=ALL_SERIAL_NUMBERS,\n",
    "#     domains = list(set(ALL_DISTANCES_FEET) - {2,62}),\n",
    "#     num_examples_per_domain_per_label=100,\n",
    "#     pickle_path=os.path.join(get_datasets_base_path(), \"oracle.Run2_framed_2000Examples_stratified_ds.2022A.pkl\"),\n",
    "#     source_or_target_dataset=\"source\",\n",
    "#     x_transform_func=global_x_transform_func,\n",
    "#     domain_modifier=lambda u: f\"oracle1_{u}\"\n",
    "# )\n"
   ]
  },
  {
   "cell_type": "code",
   "execution_count": 16,
   "id": "97dea9d2",
   "metadata": {
    "execution": {
     "iopub.execute_input": "2022-03-28T12:47:52.293829Z",
     "iopub.status.busy": "2022-03-28T12:47:52.293457Z",
     "iopub.status.idle": "2022-03-28T12:47:52.315029Z",
     "shell.execute_reply": "2022-03-28T12:47:52.314318Z"
    },
    "papermill": {
     "duration": 0.045768,
     "end_time": "2022-03-28T12:47:52.315186",
     "exception": false,
     "start_time": "2022-03-28T12:47:52.269418",
     "status": "completed"
    },
    "tags": []
   },
   "outputs": [],
   "source": [
    "# from steves_utils.ORACLE.utils_v2 import (\n",
    "#     ALL_DISTANCES_FEET,\n",
    "#     ALL_RUNS,\n",
    "#     ALL_SERIAL_NUMBERS,\n",
    "# )\n",
    "\n",
    "\n",
    "# add_dataset(\n",
    "#     labels=ALL_SERIAL_NUMBERS,\n",
    "#     domains = list(set(ALL_DISTANCES_FEET) - {2,62,56}),\n",
    "#     num_examples_per_domain_per_label=100,\n",
    "#     pickle_path=os.path.join(get_datasets_base_path(), \"oracle.Run2_framed_2000Examples_stratified_ds.2022A.pkl\"),\n",
    "#     source_or_target_dataset=\"source\",\n",
    "#     x_transform_func=global_x_transform_func,\n",
    "#     domain_modifier=lambda u: f\"oracle2_{u}\"\n",
    "# )"
   ]
  },
  {
   "cell_type": "code",
   "execution_count": 17,
   "id": "6f289866",
   "metadata": {
    "execution": {
     "iopub.execute_input": "2022-03-28T12:47:52.370160Z",
     "iopub.status.busy": "2022-03-28T12:47:52.369787Z",
     "iopub.status.idle": "2022-03-28T12:47:52.390719Z",
     "shell.execute_reply": "2022-03-28T12:47:52.389919Z"
    },
    "papermill": {
     "duration": 0.044988,
     "end_time": "2022-03-28T12:47:52.390876",
     "exception": false,
     "start_time": "2022-03-28T12:47:52.345888",
     "status": "completed"
    },
    "tags": []
   },
   "outputs": [],
   "source": [
    "# add_dataset(\n",
    "#     labels=list(range(19)),\n",
    "#     domains = [0,1,2],\n",
    "#     num_examples_per_domain_per_label=100,\n",
    "#     pickle_path=os.path.join(get_datasets_base_path(), \"metehan.stratified_ds.2022A.pkl\"),\n",
    "#     source_or_target_dataset=\"target\",\n",
    "#     x_transform_func=global_x_transform_func,\n",
    "#     domain_modifier=lambda u: f\"met_{u}\"\n",
    "# )"
   ]
  },
  {
   "cell_type": "code",
   "execution_count": 18,
   "id": "86a863c3",
   "metadata": {
    "execution": {
     "iopub.execute_input": "2022-03-28T12:47:52.443052Z",
     "iopub.status.busy": "2022-03-28T12:47:52.442680Z",
     "iopub.status.idle": "2022-03-28T12:47:52.465538Z",
     "shell.execute_reply": "2022-03-28T12:47:52.464730Z"
    },
    "papermill": {
     "duration": 0.047566,
     "end_time": "2022-03-28T12:47:52.465695",
     "exception": false,
     "start_time": "2022-03-28T12:47:52.418129",
     "status": "completed"
    },
    "tags": []
   },
   "outputs": [],
   "source": [
    "# # from steves_utils.wisig.utils import (\n",
    "# #     ALL_NODES_MINIMUM_100_EXAMPLES,\n",
    "# #     ALL_NODES_MINIMUM_500_EXAMPLES,\n",
    "# #     ALL_NODES_MINIMUM_1000_EXAMPLES,\n",
    "# #     ALL_DAYS\n",
    "# # )\n",
    "\n",
    "# import steves_utils.wisig.utils as wisig\n",
    "\n",
    "\n",
    "# add_dataset(\n",
    "#     labels=wisig.ALL_NODES_MINIMUM_100_EXAMPLES,\n",
    "#     domains = wisig.ALL_DAYS,\n",
    "#     num_examples_per_domain_per_label=100,\n",
    "#     pickle_path=os.path.join(get_datasets_base_path(), \"wisig.node3-19.stratified_ds.2022A.pkl\"),\n",
    "#     source_or_target_dataset=\"target\",\n",
    "#     x_transform_func=global_x_transform_func,\n",
    "#     domain_modifier=lambda u: f\"wisig_{u}\"\n",
    "# )"
   ]
  },
  {
   "cell_type": "code",
   "execution_count": 19,
   "id": "fd5442bc",
   "metadata": {
    "execution": {
     "iopub.execute_input": "2022-03-28T12:47:52.519141Z",
     "iopub.status.busy": "2022-03-28T12:47:52.518756Z",
     "iopub.status.idle": "2022-03-28T12:47:52.537171Z",
     "shell.execute_reply": "2022-03-28T12:47:52.536371Z"
    },
    "papermill": {
     "duration": 0.044458,
     "end_time": "2022-03-28T12:47:52.537336",
     "exception": false,
     "start_time": "2022-03-28T12:47:52.492878",
     "status": "completed"
    },
    "tags": []
   },
   "outputs": [],
   "source": [
    "###################################\n",
    "# Build the dataset\n",
    "###################################\n",
    "train_original_source = Iterable_Aggregator(train_original_source, p.seed)\n",
    "val_original_source = Iterable_Aggregator(val_original_source, p.seed)\n",
    "test_original_source = Iterable_Aggregator(test_original_source, p.seed)\n",
    "\n",
    "\n",
    "train_original_target = Iterable_Aggregator(train_original_target, p.seed)\n",
    "val_original_target = Iterable_Aggregator(val_original_target, p.seed)\n",
    "test_original_target = Iterable_Aggregator(test_original_target, p.seed)\n",
    "\n",
    "# For CNN We only use X and Y. And we only train on the source.\n",
    "# Properly form the data using a transform lambda and Lazy_Iterable_Wrapper. Finally wrap them in a dataloader\n",
    "\n",
    "transform_lambda = lambda ex: ex[1] # Original is (<domain>, <episode>) so we strip down to episode only\n",
    "\n",
    "train_processed_source = Lazy_Iterable_Wrapper(train_original_source, transform_lambda)\n",
    "val_processed_source   = Lazy_Iterable_Wrapper(val_original_source, transform_lambda)\n",
    "test_processed_source  = Lazy_Iterable_Wrapper(test_original_source, transform_lambda)\n",
    "\n",
    "train_processed_target = Lazy_Iterable_Wrapper(train_original_target, transform_lambda)\n",
    "val_processed_target   = Lazy_Iterable_Wrapper(val_original_target, transform_lambda)\n",
    "test_processed_target  = Lazy_Iterable_Wrapper(test_original_target, transform_lambda)\n",
    "\n",
    "datasets = EasyDict({\n",
    "    \"source\": {\n",
    "        \"original\": {\"train\":train_original_source, \"val\":val_original_source, \"test\":test_original_source},\n",
    "        \"processed\": {\"train\":train_processed_source, \"val\":val_processed_source, \"test\":test_processed_source}\n",
    "    },\n",
    "    \"target\": {\n",
    "        \"original\": {\"train\":train_original_target, \"val\":val_original_target, \"test\":test_original_target},\n",
    "        \"processed\": {\"train\":train_processed_target, \"val\":val_processed_target, \"test\":test_processed_target}\n",
    "    },\n",
    "})"
   ]
  },
  {
   "cell_type": "code",
   "execution_count": 20,
   "id": "5b3c01fc",
   "metadata": {
    "execution": {
     "iopub.execute_input": "2022-03-28T12:47:52.592451Z",
     "iopub.status.busy": "2022-03-28T12:47:52.592036Z",
     "iopub.status.idle": "2022-03-28T12:48:06.523342Z",
     "shell.execute_reply": "2022-03-28T12:48:06.522190Z"
    },
    "papermill": {
     "duration": 13.956333,
     "end_time": "2022-03-28T12:48:06.523641",
     "exception": false,
     "start_time": "2022-03-28T12:47:52.567308",
     "status": "completed"
    },
    "tags": []
   },
   "outputs": [
    {
     "name": "stdout",
     "output_type": "stream",
     "text": [
      "{'C_2', 'C_3', 'C_4', 'C_1', 'C_5'}\n"
     ]
    },
    {
     "name": "stdout",
     "output_type": "stream",
     "text": [
      "{'O_26', 'O_44', 'O_20', 'O_14', 'O_8', 'O_32', 'O_50', 'O_38'}\n"
     ]
    },
    {
     "name": "stdout",
     "output_type": "stream",
     "text": [
      "tensor([[[0., 0., 0.,  ..., 0., 0., 0.],\n",
      "         [0., 0., 0.,  ..., 0., 0., 0.]],\n",
      "\n",
      "        [[0., 0., 0.,  ..., 0., 0., 0.],\n",
      "         [0., 0., 0.,  ..., 0., 0., 0.]],\n",
      "\n",
      "        [[0., 0., 0.,  ..., 0., 0., 0.],\n",
      "         [0., 0., 0.,  ..., 0., 0., 0.]],\n",
      "\n",
      "        ...,\n",
      "\n",
      "        [[0., 0., 0.,  ..., 0., 0., 0.],\n",
      "         [0., 0., 0.,  ..., 0., 0., 0.]],\n",
      "\n",
      "        [[0., 0., 0.,  ..., 0., 0., 0.],\n",
      "         [0., 0., 0.,  ..., 0., 0., 0.]],\n",
      "\n",
      "        [[0., 0., 0.,  ..., 0., 0., 0.],\n",
      "         [0., 0., 0.,  ..., 0., 0., 0.]]])\n"
     ]
    }
   ],
   "source": [
    "from steves_utils.transforms import get_average_magnitude, get_average_power\n",
    "\n",
    "print(set([u for u,_ in val_original_source]))\n",
    "print(set([u for u,_ in val_original_target]))\n",
    "\n",
    "s_x, s_y, q_x, q_y, _ = next(iter(train_processed_source))\n",
    "print(s_x)\n",
    "\n",
    "# for ds in [\n",
    "#     train_processed_source,\n",
    "#     val_processed_source,\n",
    "#     test_processed_source,\n",
    "#     train_processed_target,\n",
    "#     val_processed_target,\n",
    "#     test_processed_target\n",
    "# ]:\n",
    "#     for s_x, s_y, q_x, q_y, _ in ds:\n",
    "#         for X in (s_x, q_x):\n",
    "#             for x in X:\n",
    "#                 assert np.isclose(get_average_magnitude(x.numpy()), 1.0)\n",
    "#                 assert np.isclose(get_average_power(x.numpy()), 1.0)\n",
    "                "
   ]
  },
  {
   "cell_type": "code",
   "execution_count": 21,
   "id": "bbdacba1",
   "metadata": {
    "execution": {
     "iopub.execute_input": "2022-03-28T12:48:06.582698Z",
     "iopub.status.busy": "2022-03-28T12:48:06.581847Z",
     "iopub.status.idle": "2022-03-28T12:48:06.682239Z",
     "shell.execute_reply": "2022-03-28T12:48:06.682915Z"
    },
    "papermill": {
     "duration": 0.130683,
     "end_time": "2022-03-28T12:48:06.683152",
     "exception": false,
     "start_time": "2022-03-28T12:48:06.552469",
     "status": "completed"
    },
    "tags": []
   },
   "outputs": [
    {
     "name": "stdout",
     "output_type": "stream",
     "text": [
      "(2, 256)\n"
     ]
    }
   ],
   "source": [
    "###################################\n",
    "# Build the model\n",
    "###################################\n",
    "# easfsl only wants a tuple for the shape\n",
    "model = Steves_Prototypical_Network(x_net, device=p.device, x_shape=tuple(p.x_shape))\n",
    "optimizer = Adam(params=model.parameters(), lr=p.lr)"
   ]
  },
  {
   "cell_type": "code",
   "execution_count": 22,
   "id": "22b39ac5",
   "metadata": {
    "execution": {
     "iopub.execute_input": "2022-03-28T12:48:06.741194Z",
     "iopub.status.busy": "2022-03-28T12:48:06.740808Z",
     "iopub.status.idle": "2022-03-28T13:17:30.607366Z",
     "shell.execute_reply": "2022-03-28T13:17:30.607016Z"
    },
    "papermill": {
     "duration": 1763.893242,
     "end_time": "2022-03-28T13:17:30.607454",
     "exception": false,
     "start_time": "2022-03-28T12:48:06.714212",
     "status": "completed"
    },
    "tags": []
   },
   "outputs": [
    {
     "name": "stdout",
     "output_type": "stream",
     "text": [
      "epoch: 1, [batch: 1 / 6315], examples_per_second: 34.8609, train_label_loss: 2.7269, \n"
     ]
    },
    {
     "name": "stdout",
     "output_type": "stream",
     "text": [
      "epoch: 1, [batch: 632 / 6315], examples_per_second: 3807.6393, train_label_loss: 0.0080, \n"
     ]
    },
    {
     "name": "stdout",
     "output_type": "stream",
     "text": [
      "epoch: 1, [batch: 1263 / 6315], examples_per_second: 3875.2433, train_label_loss: 0.0881, \n"
     ]
    },
    {
     "name": "stdout",
     "output_type": "stream",
     "text": [
      "epoch: 1, [batch: 1895 / 6315], examples_per_second: 3885.4528, train_label_loss: 0.0002, \n"
     ]
    },
    {
     "name": "stdout",
     "output_type": "stream",
     "text": [
      "epoch: 1, [batch: 2526 / 6315], examples_per_second: 3847.9495, train_label_loss: 0.0007, \n"
     ]
    },
    {
     "name": "stdout",
     "output_type": "stream",
     "text": [
      "epoch: 1, [batch: 3158 / 6315], examples_per_second: 3875.2575, train_label_loss: 0.0002, \n"
     ]
    },
    {
     "name": "stdout",
     "output_type": "stream",
     "text": [
      "epoch: 1, [batch: 3789 / 6315], examples_per_second: 4088.5101, train_label_loss: 0.0040, \n"
     ]
    },
    {
     "name": "stdout",
     "output_type": "stream",
     "text": [
      "epoch: 1, [batch: 4420 / 6315], examples_per_second: 4337.7924, train_label_loss: 0.0071, \n"
     ]
    },
    {
     "name": "stdout",
     "output_type": "stream",
     "text": [
      "epoch: 1, [batch: 5052 / 6315], examples_per_second: 5017.7796, train_label_loss: 0.0004, \n"
     ]
    },
    {
     "name": "stdout",
     "output_type": "stream",
     "text": [
      "epoch: 1, [batch: 5683 / 6315], examples_per_second: 4036.6553, train_label_loss: 0.0004, \n"
     ]
    },
    {
     "name": "stdout",
     "output_type": "stream",
     "text": [
      "=============================================================\n",
      "epoch: 1, source_val_acc_label: 0.9909, target_val_acc_label: 0.3290, source_val_label_loss: 0.1337, target_val_label_loss: 1.9522, \n",
      "=============================================================\n"
     ]
    },
    {
     "name": "stdout",
     "output_type": "stream",
     "text": [
      "New best\n"
     ]
    },
    {
     "name": "stdout",
     "output_type": "stream",
     "text": [
      "epoch: 2, [batch: 1 / 6307], examples_per_second: 4.1672, train_label_loss: 0.0004, \n"
     ]
    },
    {
     "name": "stdout",
     "output_type": "stream",
     "text": [
      "epoch: 2, [batch: 631 / 6307], examples_per_second: 3942.4653, train_label_loss: 0.0081, \n"
     ]
    },
    {
     "name": "stdout",
     "output_type": "stream",
     "text": [
      "epoch: 2, [batch: 1262 / 6307], examples_per_second: 3977.2599, train_label_loss: 0.0020, \n"
     ]
    },
    {
     "name": "stdout",
     "output_type": "stream",
     "text": [
      "epoch: 2, [batch: 1892 / 6307], examples_per_second: 3945.0707, train_label_loss: 0.0000, \n"
     ]
    },
    {
     "name": "stdout",
     "output_type": "stream",
     "text": [
      "epoch: 2, [batch: 2523 / 6307], examples_per_second: 3921.8445, train_label_loss: 0.0035, \n"
     ]
    },
    {
     "name": "stdout",
     "output_type": "stream",
     "text": [
      "epoch: 2, [batch: 3154 / 6307], examples_per_second: 3972.9505, train_label_loss: 0.0000, \n"
     ]
    },
    {
     "name": "stdout",
     "output_type": "stream",
     "text": [
      "epoch: 2, [batch: 3784 / 6307], examples_per_second: 4023.0580, train_label_loss: 0.0001, \n"
     ]
    },
    {
     "name": "stdout",
     "output_type": "stream",
     "text": [
      "epoch: 2, [batch: 4415 / 6307], examples_per_second: 4341.8040, train_label_loss: 0.0767, \n"
     ]
    },
    {
     "name": "stdout",
     "output_type": "stream",
     "text": [
      "epoch: 2, [batch: 5045 / 6307], examples_per_second: 4466.1952, train_label_loss: 0.0001, \n"
     ]
    },
    {
     "name": "stdout",
     "output_type": "stream",
     "text": [
      "epoch: 2, [batch: 5676 / 6307], examples_per_second: 3876.0574, train_label_loss: 0.0009, \n"
     ]
    },
    {
     "name": "stdout",
     "output_type": "stream",
     "text": [
      "=============================================================\n",
      "epoch: 2, source_val_acc_label: 0.9963, target_val_acc_label: 0.3295, source_val_label_loss: 0.0482, target_val_label_loss: 2.1071, \n",
      "=============================================================\n"
     ]
    },
    {
     "name": "stdout",
     "output_type": "stream",
     "text": [
      "New best\n"
     ]
    },
    {
     "name": "stdout",
     "output_type": "stream",
     "text": [
      "epoch: 3, [batch: 1 / 6326], examples_per_second: 4.0766, train_label_loss: 0.0000, \n"
     ]
    },
    {
     "name": "stdout",
     "output_type": "stream",
     "text": [
      "epoch: 3, [batch: 633 / 6326], examples_per_second: 3824.4224, train_label_loss: 0.0000, \n"
     ]
    },
    {
     "name": "stdout",
     "output_type": "stream",
     "text": [
      "epoch: 3, [batch: 1266 / 6326], examples_per_second: 3889.5089, train_label_loss: 0.0004, \n"
     ]
    },
    {
     "name": "stdout",
     "output_type": "stream",
     "text": [
      "epoch: 3, [batch: 1898 / 6326], examples_per_second: 4028.5510, train_label_loss: 0.0000, \n"
     ]
    },
    {
     "name": "stdout",
     "output_type": "stream",
     "text": [
      "epoch: 3, [batch: 2531 / 6326], examples_per_second: 3896.8612, train_label_loss: 0.0000, \n"
     ]
    },
    {
     "name": "stdout",
     "output_type": "stream",
     "text": [
      "epoch: 3, [batch: 3163 / 6326], examples_per_second: 3872.7245, train_label_loss: 0.0001, \n"
     ]
    },
    {
     "name": "stdout",
     "output_type": "stream",
     "text": [
      "epoch: 3, [batch: 3796 / 6326], examples_per_second: 3997.6179, train_label_loss: 0.0013, \n"
     ]
    },
    {
     "name": "stdout",
     "output_type": "stream",
     "text": [
      "epoch: 3, [batch: 4428 / 6326], examples_per_second: 4451.5105, train_label_loss: 0.0002, \n"
     ]
    },
    {
     "name": "stdout",
     "output_type": "stream",
     "text": [
      "epoch: 3, [batch: 5061 / 6326], examples_per_second: 4847.6107, train_label_loss: 0.0037, \n"
     ]
    },
    {
     "name": "stdout",
     "output_type": "stream",
     "text": [
      "epoch: 3, [batch: 5693 / 6326], examples_per_second: 3999.1541, train_label_loss: 0.0025, \n"
     ]
    },
    {
     "name": "stdout",
     "output_type": "stream",
     "text": [
      "=============================================================\n",
      "epoch: 3, source_val_acc_label: 0.9960, target_val_acc_label: 0.3001, source_val_label_loss: 0.0297, target_val_label_loss: 2.3553, \n",
      "=============================================================\n"
     ]
    },
    {
     "name": "stdout",
     "output_type": "stream",
     "text": [
      "epoch: 4, [batch: 1 / 6302], examples_per_second: 4.0744, train_label_loss: 0.2510, \n"
     ]
    },
    {
     "name": "stdout",
     "output_type": "stream",
     "text": [
      "epoch: 4, [batch: 631 / 6302], examples_per_second: 3858.6535, train_label_loss: 0.0000, \n"
     ]
    },
    {
     "name": "stdout",
     "output_type": "stream",
     "text": [
      "epoch: 4, [batch: 1261 / 6302], examples_per_second: 4014.4404, train_label_loss: 0.0000, \n"
     ]
    },
    {
     "name": "stdout",
     "output_type": "stream",
     "text": [
      "epoch: 4, [batch: 1891 / 6302], examples_per_second: 3992.3719, train_label_loss: 0.0000, \n"
     ]
    },
    {
     "name": "stdout",
     "output_type": "stream",
     "text": [
      "epoch: 4, [batch: 2521 / 6302], examples_per_second: 3877.2932, train_label_loss: 0.0000, \n"
     ]
    },
    {
     "name": "stdout",
     "output_type": "stream",
     "text": [
      "epoch: 4, [batch: 3151 / 6302], examples_per_second: 3913.5099, train_label_loss: 0.0266, \n"
     ]
    },
    {
     "name": "stdout",
     "output_type": "stream",
     "text": [
      "epoch: 4, [batch: 3781 / 6302], examples_per_second: 4070.1354, train_label_loss: 0.0001, \n"
     ]
    },
    {
     "name": "stdout",
     "output_type": "stream",
     "text": [
      "epoch: 4, [batch: 4411 / 6302], examples_per_second: 4320.7291, train_label_loss: 0.0130, \n"
     ]
    },
    {
     "name": "stdout",
     "output_type": "stream",
     "text": [
      "epoch: 4, [batch: 5041 / 6302], examples_per_second: 4574.2521, train_label_loss: 0.0006, \n"
     ]
    },
    {
     "name": "stdout",
     "output_type": "stream",
     "text": [
      "epoch: 4, [batch: 5671 / 6302], examples_per_second: 3874.2924, train_label_loss: 0.0001, \n"
     ]
    },
    {
     "name": "stdout",
     "output_type": "stream",
     "text": [
      "=============================================================\n",
      "epoch: 4, source_val_acc_label: 0.9980, target_val_acc_label: 0.3438, source_val_label_loss: 0.0332, target_val_label_loss: 2.0086, \n",
      "=============================================================\n"
     ]
    },
    {
     "name": "stdout",
     "output_type": "stream",
     "text": [
      "New best\n"
     ]
    },
    {
     "name": "stdout",
     "output_type": "stream",
     "text": [
      "epoch: 5, [batch: 1 / 6324], examples_per_second: 4.1726, train_label_loss: 0.0001, \n"
     ]
    },
    {
     "name": "stdout",
     "output_type": "stream",
     "text": [
      "epoch: 5, [batch: 633 / 6324], examples_per_second: 3885.0853, train_label_loss: 0.0002, \n"
     ]
    },
    {
     "name": "stdout",
     "output_type": "stream",
     "text": [
      "epoch: 5, [batch: 1265 / 6324], examples_per_second: 3966.2361, train_label_loss: 0.0554, \n"
     ]
    },
    {
     "name": "stdout",
     "output_type": "stream",
     "text": [
      "epoch: 5, [batch: 1897 / 6324], examples_per_second: 3953.1812, train_label_loss: 0.0006, \n"
     ]
    },
    {
     "name": "stdout",
     "output_type": "stream",
     "text": [
      "epoch: 5, [batch: 2530 / 6324], examples_per_second: 3926.2843, train_label_loss: 0.0001, \n"
     ]
    },
    {
     "name": "stdout",
     "output_type": "stream",
     "text": [
      "epoch: 5, [batch: 3162 / 6324], examples_per_second: 3889.5990, train_label_loss: 0.0003, \n"
     ]
    },
    {
     "name": "stdout",
     "output_type": "stream",
     "text": [
      "epoch: 5, [batch: 3794 / 6324], examples_per_second: 4001.1956, train_label_loss: 0.0000, \n"
     ]
    },
    {
     "name": "stdout",
     "output_type": "stream",
     "text": [
      "epoch: 5, [batch: 4427 / 6324], examples_per_second: 4209.3381, train_label_loss: 0.0000, \n"
     ]
    },
    {
     "name": "stdout",
     "output_type": "stream",
     "text": [
      "epoch: 5, [batch: 5059 / 6324], examples_per_second: 4545.5999, train_label_loss: 0.0000, \n"
     ]
    },
    {
     "name": "stdout",
     "output_type": "stream",
     "text": [
      "epoch: 5, [batch: 5691 / 6324], examples_per_second: 3855.7535, train_label_loss: 0.0000, \n"
     ]
    },
    {
     "name": "stdout",
     "output_type": "stream",
     "text": [
      "=============================================================\n",
      "epoch: 5, source_val_acc_label: 0.9982, target_val_acc_label: 0.3553, source_val_label_loss: 0.0206, target_val_label_loss: 2.0044, \n",
      "=============================================================\n"
     ]
    },
    {
     "name": "stdout",
     "output_type": "stream",
     "text": [
      "New best\n"
     ]
    },
    {
     "name": "stdout",
     "output_type": "stream",
     "text": [
      "epoch: 6, [batch: 1 / 6313], examples_per_second: 4.0299, train_label_loss: 0.0000, \n"
     ]
    },
    {
     "name": "stdout",
     "output_type": "stream",
     "text": [
      "epoch: 6, [batch: 632 / 6313], examples_per_second: 3904.7876, train_label_loss: 0.0000, \n"
     ]
    },
    {
     "name": "stdout",
     "output_type": "stream",
     "text": [
      "epoch: 6, [batch: 1263 / 6313], examples_per_second: 3977.9429, train_label_loss: 0.0000, \n"
     ]
    },
    {
     "name": "stdout",
     "output_type": "stream",
     "text": [
      "epoch: 6, [batch: 1894 / 6313], examples_per_second: 3970.1733, train_label_loss: 0.0000, \n"
     ]
    },
    {
     "name": "stdout",
     "output_type": "stream",
     "text": [
      "epoch: 6, [batch: 2525 / 6313], examples_per_second: 3942.4438, train_label_loss: 0.0000, \n"
     ]
    },
    {
     "name": "stdout",
     "output_type": "stream",
     "text": [
      "epoch: 6, [batch: 3157 / 6313], examples_per_second: 4010.3080, train_label_loss: 0.0000, \n"
     ]
    },
    {
     "name": "stdout",
     "output_type": "stream",
     "text": [
      "epoch: 6, [batch: 3788 / 6313], examples_per_second: 4170.4405, train_label_loss: 0.0001, \n"
     ]
    },
    {
     "name": "stdout",
     "output_type": "stream",
     "text": [
      "epoch: 6, [batch: 4419 / 6313], examples_per_second: 4234.2459, train_label_loss: 0.0001, \n"
     ]
    },
    {
     "name": "stdout",
     "output_type": "stream",
     "text": [
      "epoch: 6, [batch: 5050 / 6313], examples_per_second: 4404.3323, train_label_loss: 0.0001, \n"
     ]
    },
    {
     "name": "stdout",
     "output_type": "stream",
     "text": [
      "epoch: 6, [batch: 5681 / 6313], examples_per_second: 3890.2561, train_label_loss: 0.0000, \n"
     ]
    },
    {
     "name": "stdout",
     "output_type": "stream",
     "text": [
      "=============================================================\n",
      "epoch: 6, source_val_acc_label: 0.9986, target_val_acc_label: 0.3615, source_val_label_loss: 0.0284, target_val_label_loss: 2.0237, \n",
      "=============================================================\n"
     ]
    },
    {
     "name": "stdout",
     "output_type": "stream",
     "text": [
      "New best\n"
     ]
    },
    {
     "name": "stdout",
     "output_type": "stream",
     "text": [
      "epoch: 7, [batch: 1 / 6295], examples_per_second: 4.1038, train_label_loss: 0.0000, \n"
     ]
    },
    {
     "name": "stdout",
     "output_type": "stream",
     "text": [
      "epoch: 7, [batch: 630 / 6295], examples_per_second: 3807.7386, train_label_loss: 0.0002, \n"
     ]
    },
    {
     "name": "stdout",
     "output_type": "stream",
     "text": [
      "epoch: 7, [batch: 1259 / 6295], examples_per_second: 3995.8690, train_label_loss: 0.0000, \n"
     ]
    },
    {
     "name": "stdout",
     "output_type": "stream",
     "text": [
      "epoch: 7, [batch: 1889 / 6295], examples_per_second: 4073.3678, train_label_loss: 0.0000, \n"
     ]
    },
    {
     "name": "stdout",
     "output_type": "stream",
     "text": [
      "epoch: 7, [batch: 2518 / 6295], examples_per_second: 4100.4799, train_label_loss: 0.0000, \n"
     ]
    },
    {
     "name": "stdout",
     "output_type": "stream",
     "text": [
      "epoch: 7, [batch: 3148 / 6295], examples_per_second: 4000.4592, train_label_loss: 0.0000, \n"
     ]
    },
    {
     "name": "stdout",
     "output_type": "stream",
     "text": [
      "epoch: 7, [batch: 3777 / 6295], examples_per_second: 4309.5579, train_label_loss: 0.0000, \n"
     ]
    },
    {
     "name": "stdout",
     "output_type": "stream",
     "text": [
      "epoch: 7, [batch: 4406 / 6295], examples_per_second: 4235.8035, train_label_loss: 0.0000, \n"
     ]
    },
    {
     "name": "stdout",
     "output_type": "stream",
     "text": [
      "epoch: 7, [batch: 5036 / 6295], examples_per_second: 4254.8739, train_label_loss: 0.0000, \n"
     ]
    },
    {
     "name": "stdout",
     "output_type": "stream",
     "text": [
      "epoch: 7, [batch: 5665 / 6295], examples_per_second: 3927.6750, train_label_loss: 0.0000, \n"
     ]
    },
    {
     "name": "stdout",
     "output_type": "stream",
     "text": [
      "=============================================================\n",
      "epoch: 7, source_val_acc_label: 0.9983, target_val_acc_label: 0.3548, source_val_label_loss: 0.0303, target_val_label_loss: 2.0175, \n",
      "=============================================================\n"
     ]
    },
    {
     "name": "stdout",
     "output_type": "stream",
     "text": [
      "epoch: 8, [batch: 1 / 6293], examples_per_second: 4.0699, train_label_loss: 0.0000, \n"
     ]
    },
    {
     "name": "stdout",
     "output_type": "stream",
     "text": [
      "epoch: 8, [batch: 630 / 6293], examples_per_second: 3852.1788, train_label_loss: 0.0000, \n"
     ]
    },
    {
     "name": "stdout",
     "output_type": "stream",
     "text": [
      "epoch: 8, [batch: 1259 / 6293], examples_per_second: 3859.9836, train_label_loss: 0.0000, \n"
     ]
    },
    {
     "name": "stdout",
     "output_type": "stream",
     "text": [
      "epoch: 8, [batch: 1888 / 6293], examples_per_second: 3921.1971, train_label_loss: 0.0001, \n"
     ]
    },
    {
     "name": "stdout",
     "output_type": "stream",
     "text": [
      "epoch: 8, [batch: 2517 / 6293], examples_per_second: 3784.1118, train_label_loss: 0.0001, \n"
     ]
    },
    {
     "name": "stdout",
     "output_type": "stream",
     "text": [
      "epoch: 8, [batch: 3147 / 6293], examples_per_second: 3818.8518, train_label_loss: 0.0000, \n"
     ]
    },
    {
     "name": "stdout",
     "output_type": "stream",
     "text": [
      "epoch: 8, [batch: 3776 / 6293], examples_per_second: 4174.7853, train_label_loss: 0.0018, \n"
     ]
    },
    {
     "name": "stdout",
     "output_type": "stream",
     "text": [
      "epoch: 8, [batch: 4405 / 6293], examples_per_second: 4255.5566, train_label_loss: 0.0000, \n"
     ]
    },
    {
     "name": "stdout",
     "output_type": "stream",
     "text": [
      "epoch: 8, [batch: 5034 / 6293], examples_per_second: 4333.2427, train_label_loss: 0.0004, \n"
     ]
    },
    {
     "name": "stdout",
     "output_type": "stream",
     "text": [
      "epoch: 8, [batch: 5663 / 6293], examples_per_second: 4489.1121, train_label_loss: 0.0000, \n"
     ]
    },
    {
     "name": "stdout",
     "output_type": "stream",
     "text": [
      "=============================================================\n",
      "epoch: 8, source_val_acc_label: 0.9988, target_val_acc_label: 0.3642, source_val_label_loss: 0.0135, target_val_label_loss: 2.0650, \n",
      "=============================================================\n"
     ]
    },
    {
     "name": "stdout",
     "output_type": "stream",
     "text": [
      "New best\n"
     ]
    },
    {
     "name": "stdout",
     "output_type": "stream",
     "text": [
      "epoch: 9, [batch: 1 / 6315], examples_per_second: 4.7064, train_label_loss: 0.0000, \n"
     ]
    },
    {
     "name": "stdout",
     "output_type": "stream",
     "text": [
      "epoch: 9, [batch: 632 / 6315], examples_per_second: 4118.0613, train_label_loss: 0.0000, \n"
     ]
    },
    {
     "name": "stdout",
     "output_type": "stream",
     "text": [
      "epoch: 9, [batch: 1263 / 6315], examples_per_second: 4974.2440, train_label_loss: 0.0000, \n"
     ]
    },
    {
     "name": "stdout",
     "output_type": "stream",
     "text": [
      "epoch: 9, [batch: 1895 / 6315], examples_per_second: 5356.5429, train_label_loss: 0.0000, \n"
     ]
    },
    {
     "name": "stdout",
     "output_type": "stream",
     "text": [
      "epoch: 9, [batch: 2526 / 6315], examples_per_second: 5241.8519, train_label_loss: 0.0004, \n"
     ]
    },
    {
     "name": "stdout",
     "output_type": "stream",
     "text": [
      "epoch: 9, [batch: 3158 / 6315], examples_per_second: 4918.0574, train_label_loss: 0.0000, \n"
     ]
    },
    {
     "name": "stdout",
     "output_type": "stream",
     "text": [
      "epoch: 9, [batch: 3789 / 6315], examples_per_second: 5072.7328, train_label_loss: 0.0000, \n"
     ]
    },
    {
     "name": "stdout",
     "output_type": "stream",
     "text": [
      "epoch: 9, [batch: 4420 / 6315], examples_per_second: 4891.1504, train_label_loss: 0.0000, \n"
     ]
    },
    {
     "name": "stdout",
     "output_type": "stream",
     "text": [
      "epoch: 9, [batch: 5052 / 6315], examples_per_second: 4999.8649, train_label_loss: 0.0000, \n"
     ]
    },
    {
     "name": "stdout",
     "output_type": "stream",
     "text": [
      "epoch: 9, [batch: 5683 / 6315], examples_per_second: 5062.0617, train_label_loss: 0.0000, \n"
     ]
    },
    {
     "name": "stdout",
     "output_type": "stream",
     "text": [
      "=============================================================\n",
      "epoch: 9, source_val_acc_label: 0.9985, target_val_acc_label: 0.3178, source_val_label_loss: 0.0269, target_val_label_loss: 2.4362, \n",
      "=============================================================\n"
     ]
    },
    {
     "name": "stdout",
     "output_type": "stream",
     "text": [
      "epoch: 10, [batch: 1 / 6306], examples_per_second: 5.6125, train_label_loss: 0.0000, \n"
     ]
    },
    {
     "name": "stdout",
     "output_type": "stream",
     "text": [
      "epoch: 10, [batch: 631 / 6306], examples_per_second: 4866.8569, train_label_loss: 0.0000, \n"
     ]
    },
    {
     "name": "stdout",
     "output_type": "stream",
     "text": [
      "epoch: 10, [batch: 1262 / 6306], examples_per_second: 4993.6452, train_label_loss: 0.0000, \n"
     ]
    },
    {
     "name": "stdout",
     "output_type": "stream",
     "text": [
      "epoch: 10, [batch: 1892 / 6306], examples_per_second: 5097.7407, train_label_loss: 0.0000, \n"
     ]
    },
    {
     "name": "stdout",
     "output_type": "stream",
     "text": [
      "epoch: 10, [batch: 2523 / 6306], examples_per_second: 4846.9380, train_label_loss: 0.0000, \n"
     ]
    },
    {
     "name": "stdout",
     "output_type": "stream",
     "text": [
      "epoch: 10, [batch: 3153 / 6306], examples_per_second: 4913.6061, train_label_loss: 0.0000, \n"
     ]
    },
    {
     "name": "stdout",
     "output_type": "stream",
     "text": [
      "epoch: 10, [batch: 3784 / 6306], examples_per_second: 5017.0384, train_label_loss: 0.0000, \n"
     ]
    },
    {
     "name": "stdout",
     "output_type": "stream",
     "text": [
      "epoch: 10, [batch: 4414 / 6306], examples_per_second: 4843.6122, train_label_loss: 0.0000, \n"
     ]
    },
    {
     "name": "stdout",
     "output_type": "stream",
     "text": [
      "epoch: 10, [batch: 5045 / 6306], examples_per_second: 3978.7903, train_label_loss: 0.0000, \n"
     ]
    },
    {
     "name": "stdout",
     "output_type": "stream",
     "text": [
      "epoch: 10, [batch: 5675 / 6306], examples_per_second: 3844.9700, train_label_loss: 0.0000, \n"
     ]
    },
    {
     "name": "stdout",
     "output_type": "stream",
     "text": [
      "=============================================================\n",
      "epoch: 10, source_val_acc_label: 0.9985, target_val_acc_label: 0.2916, source_val_label_loss: 0.0177, target_val_label_loss: 2.8929, \n",
      "=============================================================\n"
     ]
    },
    {
     "name": "stdout",
     "output_type": "stream",
     "text": [
      "epoch: 11, [batch: 1 / 6303], examples_per_second: 4.0768, train_label_loss: 0.0200, \n"
     ]
    },
    {
     "name": "stdout",
     "output_type": "stream",
     "text": [
      "epoch: 11, [batch: 631 / 6303], examples_per_second: 3856.8521, train_label_loss: 0.0000, \n"
     ]
    },
    {
     "name": "stdout",
     "output_type": "stream",
     "text": [
      "epoch: 11, [batch: 1261 / 6303], examples_per_second: 4090.1969, train_label_loss: 0.0002, \n"
     ]
    },
    {
     "name": "stdout",
     "output_type": "stream",
     "text": [
      "epoch: 11, [batch: 1891 / 6303], examples_per_second: 3955.4718, train_label_loss: 0.0000, \n"
     ]
    },
    {
     "name": "stdout",
     "output_type": "stream",
     "text": [
      "epoch: 11, [batch: 2521 / 6303], examples_per_second: 3853.6399, train_label_loss: 0.0000, \n"
     ]
    },
    {
     "name": "stdout",
     "output_type": "stream",
     "text": [
      "epoch: 11, [batch: 3152 / 6303], examples_per_second: 3976.2911, train_label_loss: 0.0001, \n"
     ]
    },
    {
     "name": "stdout",
     "output_type": "stream",
     "text": [
      "epoch: 11, [batch: 3782 / 6303], examples_per_second: 4299.4477, train_label_loss: 0.0001, \n"
     ]
    },
    {
     "name": "stdout",
     "output_type": "stream",
     "text": [
      "epoch: 11, [batch: 4412 / 6303], examples_per_second: 4406.5548, train_label_loss: 0.0019, \n"
     ]
    },
    {
     "name": "stdout",
     "output_type": "stream",
     "text": [
      "epoch: 11, [batch: 5042 / 6303], examples_per_second: 4012.5062, train_label_loss: 0.0000, \n"
     ]
    },
    {
     "name": "stdout",
     "output_type": "stream",
     "text": [
      "epoch: 11, [batch: 5672 / 6303], examples_per_second: 3848.0280, train_label_loss: 0.0000, \n"
     ]
    },
    {
     "name": "stdout",
     "output_type": "stream",
     "text": [
      "=============================================================\n",
      "epoch: 11, source_val_acc_label: 0.9988, target_val_acc_label: 0.3418, source_val_label_loss: 0.0295, target_val_label_loss: 2.6114, \n",
      "=============================================================\n"
     ]
    },
    {
     "name": "stdout",
     "output_type": "stream",
     "text": [
      "epoch: 12, [batch: 1 / 6313], examples_per_second: 4.0662, train_label_loss: 0.0000, \n"
     ]
    },
    {
     "name": "stdout",
     "output_type": "stream",
     "text": [
      "epoch: 12, [batch: 632 / 6313], examples_per_second: 3852.6695, train_label_loss: 0.0000, \n"
     ]
    },
    {
     "name": "stdout",
     "output_type": "stream",
     "text": [
      "epoch: 12, [batch: 1263 / 6313], examples_per_second: 4008.9491, train_label_loss: 0.0000, \n"
     ]
    },
    {
     "name": "stdout",
     "output_type": "stream",
     "text": [
      "epoch: 12, [batch: 1894 / 6313], examples_per_second: 3936.5597, train_label_loss: 0.0000, \n"
     ]
    },
    {
     "name": "stdout",
     "output_type": "stream",
     "text": [
      "epoch: 12, [batch: 2525 / 6313], examples_per_second: 3982.7422, train_label_loss: 0.0000, \n"
     ]
    },
    {
     "name": "stdout",
     "output_type": "stream",
     "text": [
      "epoch: 12, [batch: 3157 / 6313], examples_per_second: 4182.7738, train_label_loss: 0.0000, \n"
     ]
    },
    {
     "name": "stdout",
     "output_type": "stream",
     "text": [
      "epoch: 12, [batch: 3788 / 6313], examples_per_second: 4483.1038, train_label_loss: 0.0000, \n"
     ]
    },
    {
     "name": "stdout",
     "output_type": "stream",
     "text": [
      "epoch: 12, [batch: 4419 / 6313], examples_per_second: 4757.2460, train_label_loss: 0.0000, \n"
     ]
    },
    {
     "name": "stdout",
     "output_type": "stream",
     "text": [
      "epoch: 12, [batch: 5050 / 6313], examples_per_second: 4067.5258, train_label_loss: 0.0000, \n"
     ]
    },
    {
     "name": "stdout",
     "output_type": "stream",
     "text": [
      "epoch: 12, [batch: 5681 / 6313], examples_per_second: 3845.7047, train_label_loss: 0.0002, \n"
     ]
    },
    {
     "name": "stdout",
     "output_type": "stream",
     "text": [
      "=============================================================\n",
      "epoch: 12, source_val_acc_label: 0.9988, target_val_acc_label: 0.3605, source_val_label_loss: 0.0629, target_val_label_loss: 2.3471, \n",
      "=============================================================\n"
     ]
    },
    {
     "name": "stdout",
     "output_type": "stream",
     "text": [
      "Patience (3) exhausted\n"
     ]
    }
   ],
   "source": [
    "###################################\n",
    "# train\n",
    "###################################\n",
    "jig = PTN_Train_Eval_Test_Jig(model, p.BEST_MODEL_PATH, p.device)\n",
    "\n",
    "jig.train(\n",
    "    train_iterable=datasets.source.processed.train,\n",
    "    source_val_iterable=datasets.source.processed.val,\n",
    "    target_val_iterable=datasets.target.processed.val,\n",
    "    num_epochs=p.n_epoch,\n",
    "    num_logs_per_epoch=p.NUM_LOGS_PER_EPOCH,\n",
    "    patience=p.patience,\n",
    "    optimizer=optimizer,\n",
    "    criteria_for_best=p.criteria_for_best,\n",
    ")"
   ]
  },
  {
   "cell_type": "code",
   "execution_count": 23,
   "id": "31e8fabf",
   "metadata": {
    "execution": {
     "iopub.execute_input": "2022-03-28T13:17:30.734973Z",
     "iopub.status.busy": "2022-03-28T13:17:30.734604Z",
     "iopub.status.idle": "2022-03-28T13:17:30.766680Z",
     "shell.execute_reply": "2022-03-28T13:17:30.767345Z"
    },
    "papermill": {
     "duration": 0.099044,
     "end_time": "2022-03-28T13:17:30.767554",
     "exception": false,
     "start_time": "2022-03-28T13:17:30.668510",
     "status": "completed"
    },
    "tags": []
   },
   "outputs": [],
   "source": [
    "total_experiment_time_secs = time.time() - start_time_secs"
   ]
  },
  {
   "cell_type": "code",
   "execution_count": 24,
   "id": "87b9595b",
   "metadata": {
    "execution": {
     "iopub.execute_input": "2022-03-28T13:17:30.916423Z",
     "iopub.status.busy": "2022-03-28T13:17:30.915525Z",
     "iopub.status.idle": "2022-03-28T13:20:14.179396Z",
     "shell.execute_reply": "2022-03-28T13:20:14.180102Z"
    },
    "papermill": {
     "duration": 163.337754,
     "end_time": "2022-03-28T13:20:14.180338",
     "exception": false,
     "start_time": "2022-03-28T13:17:30.842584",
     "status": "completed"
    },
    "tags": []
   },
   "outputs": [],
   "source": [
    "###################################\n",
    "# Evaluate the model\n",
    "###################################\n",
    "source_test_label_accuracy, source_test_label_loss = jig.test(datasets.source.processed.test)\n",
    "target_test_label_accuracy, target_test_label_loss = jig.test(datasets.target.processed.test)\n",
    "\n",
    "source_val_label_accuracy, source_val_label_loss = jig.test(datasets.source.processed.val)\n",
    "target_val_label_accuracy, target_val_label_loss = jig.test(datasets.target.processed.val)\n",
    "\n",
    "history = jig.get_history()\n",
    "\n",
    "total_epochs_trained = len(history[\"epoch_indices\"])\n",
    "\n",
    "val_dl = Iterable_Aggregator((datasets.source.original.val,datasets.target.original.val))\n",
    "\n",
    "confusion = ptn_confusion_by_domain_over_dataloader(model, p.device, val_dl)\n",
    "per_domain_accuracy = per_domain_accuracy_from_confusion(confusion)\n",
    "\n",
    "# Add a key to per_domain_accuracy for if it was a source domain\n",
    "for domain, accuracy in per_domain_accuracy.items():\n",
    "    per_domain_accuracy[domain] = {\n",
    "        \"accuracy\": accuracy,\n",
    "        \"source?\": domain in p.domains_source\n",
    "    }\n",
    "\n",
    "# Do an independent accuracy assesment JUST TO BE SURE!\n",
    "# _source_test_label_accuracy = independent_accuracy_assesment(model, datasets.source.processed.test, p.device)\n",
    "# _target_test_label_accuracy = independent_accuracy_assesment(model, datasets.target.processed.test, p.device)\n",
    "# _source_val_label_accuracy = independent_accuracy_assesment(model, datasets.source.processed.val, p.device)\n",
    "# _target_val_label_accuracy = independent_accuracy_assesment(model, datasets.target.processed.val, p.device)\n",
    "\n",
    "# assert(_source_test_label_accuracy == source_test_label_accuracy)\n",
    "# assert(_target_test_label_accuracy == target_test_label_accuracy)\n",
    "# assert(_source_val_label_accuracy == source_val_label_accuracy)\n",
    "# assert(_target_val_label_accuracy == target_val_label_accuracy)\n",
    "\n",
    "experiment = {\n",
    "    \"experiment_name\": p.experiment_name,\n",
    "    \"parameters\": dict(p),\n",
    "    \"results\": {\n",
    "        \"source_test_label_accuracy\": source_test_label_accuracy,\n",
    "        \"source_test_label_loss\": source_test_label_loss,\n",
    "        \"target_test_label_accuracy\": target_test_label_accuracy,\n",
    "        \"target_test_label_loss\": target_test_label_loss,\n",
    "        \"source_val_label_accuracy\": source_val_label_accuracy,\n",
    "        \"source_val_label_loss\": source_val_label_loss,\n",
    "        \"target_val_label_accuracy\": target_val_label_accuracy,\n",
    "        \"target_val_label_loss\": target_val_label_loss,\n",
    "        \"total_epochs_trained\": total_epochs_trained,\n",
    "        \"total_experiment_time_secs\": total_experiment_time_secs,\n",
    "        \"confusion\": confusion,\n",
    "        \"per_domain_accuracy\": per_domain_accuracy,\n",
    "    },\n",
    "    \"history\": history,\n",
    "    \"dataset_metrics\": get_dataset_metrics(datasets, \"ptn\"),\n",
    "}"
   ]
  },
  {
   "cell_type": "code",
   "execution_count": 25,
   "id": "54a21829",
   "metadata": {
    "execution": {
     "iopub.execute_input": "2022-03-28T13:20:14.312761Z",
     "iopub.status.busy": "2022-03-28T13:20:14.310942Z",
     "iopub.status.idle": "2022-03-28T13:20:14.529703Z",
     "shell.execute_reply": "2022-03-28T13:20:14.530393Z"
    },
    "papermill": {
     "duration": 0.283986,
     "end_time": "2022-03-28T13:20:14.530605",
     "exception": false,
     "start_time": "2022-03-28T13:20:14.246619",
     "status": "completed"
    },
    "tags": []
   },
   "outputs": [
    {
     "data": {
      "image/png": "[encoded data removed]",
      "text/plain": [
       "<Figure size 1080x504 with 1 Axes>"
      ]
     },
     "metadata": {
      "needs_background": "light"
     },
     "output_type": "display_data"
    }
   ],
   "source": [
    "ax = get_loss_curve(experiment)\n",
    "plt.show()"
   ]
  },
  {
   "cell_type": "code",
   "execution_count": 26,
   "id": "fd8a0f60",
   "metadata": {
    "execution": {
     "iopub.execute_input": "2022-03-28T13:20:14.663381Z",
     "iopub.status.busy": "2022-03-28T13:20:14.663007Z",
     "iopub.status.idle": "2022-03-28T13:20:14.978303Z",
     "shell.execute_reply": "2022-03-28T13:20:14.979015Z"
    },
    "papermill": {
     "duration": 0.382866,
     "end_time": "2022-03-28T13:20:14.979231",
     "exception": false,
     "start_time": "2022-03-28T13:20:14.596365",
     "status": "completed"
    },
    "tags": []
   },
   "outputs": [
    {
     "data": {
      "text/plain": [
       "<AxesSubplot:title={'center':'Results'}>"
      ]
     },
     "execution_count": 26,
     "metadata": {},
     "output_type": "execute_result"
    },
    {
     "data": {
      "image/png": "[encoded data removed]",
      "text/plain": [
       "<Figure size 1080x504 with 1 Axes>"
      ]
     },
     "metadata": {
      "needs_background": "light"
     },
     "output_type": "display_data"
    }
   ],
   "source": [
    "get_results_table(experiment)"
   ]
  },
  {
   "cell_type": "code",
   "execution_count": 27,
   "id": "cf8dc689",
   "metadata": {
    "execution": {
     "iopub.execute_input": "2022-03-28T13:20:15.120247Z",
     "iopub.status.busy": "2022-03-28T13:20:15.119607Z",
     "iopub.status.idle": "2022-03-28T13:20:15.358136Z",
     "shell.execute_reply": "2022-03-28T13:20:15.358832Z"
    },
    "papermill": {
     "duration": 0.307583,
     "end_time": "2022-03-28T13:20:15.359051",
     "exception": false,
     "start_time": "2022-03-28T13:20:15.051468",
     "status": "completed"
    },
    "tags": []
   },
   "outputs": [
    {
     "data": {
      "text/plain": [
       "<AxesSubplot:title={'center':'Per Domain Validation Accuracy'}, xlabel='domain'>"
      ]
     },
     "execution_count": 27,
     "metadata": {},
     "output_type": "execute_result"
    },
    {
     "data": {
      "image/png": "[encoded data removed]",
      "text/plain": [
       "<Figure size 1080x504 with 1 Axes>"
      ]
     },
     "metadata": {
      "needs_background": "light"
     },
     "output_type": "display_data"
    }
   ],
   "source": [
    "get_domain_accuracies(experiment)"
   ]
  },
  {
   "cell_type": "code",
   "execution_count": 28,
   "id": "a74ae082",
   "metadata": {
    "execution": {
     "iopub.execute_input": "2022-03-28T13:20:15.498886Z",
     "iopub.status.busy": "2022-03-28T13:20:15.498508Z",
     "iopub.status.idle": "2022-03-28T13:20:15.524536Z",
     "shell.execute_reply": "2022-03-28T13:20:15.525226Z"
    },
    "papermill": {
     "duration": 0.097887,
     "end_time": "2022-03-28T13:20:15.525428",
     "exception": false,
     "start_time": "2022-03-28T13:20:15.427541",
     "status": "completed"
    },
    "tags": []
   },
   "outputs": [
    {
     "name": "stdout",
     "output_type": "stream",
     "text": [
      "Source Test Label Accuracy: 0.9991182279909706 Target Test Label Accuracy: 0.36370442708333334\n",
      "Source Val Label Accuracy: 0.9988214285714285 Target Val Label Accuracy: 0.36419270833333334\n"
     ]
    }
   ],
   "source": [
    "print(\"Source Test Label Accuracy:\", experiment[\"results\"][\"source_test_label_accuracy\"], \"Target Test Label Accuracy:\", experiment[\"results\"][\"target_test_label_accuracy\"])\n",
    "print(\"Source Val Label Accuracy:\", experiment[\"results\"][\"source_val_label_accuracy\"], \"Target Val Label Accuracy:\", experiment[\"results\"][\"target_val_label_accuracy\"])"
   ]
  },
  {
   "cell_type": "code",
   "execution_count": 29,
   "id": "dacca602",
   "metadata": {
    "execution": {
     "iopub.execute_input": "2022-03-28T13:20:15.667328Z",
     "iopub.status.busy": "2022-03-28T13:20:15.666953Z",
     "iopub.status.idle": "2022-03-28T13:20:15.689811Z",
     "shell.execute_reply": "2022-03-28T13:20:15.690499Z"
    },
    "papermill": {
     "duration": 0.093143,
     "end_time": "2022-03-28T13:20:15.690699",
     "exception": false,
     "start_time": "2022-03-28T13:20:15.597556",
     "status": "completed"
    },
    "tags": [
     "experiment_json"
    ]
   },
   "outputs": [
    {
     "data": {
      "text/plain": [
       "'{\"experiment_name\": \"tl_3-jitter5v2:cores -> oracle.run1.framed\", \"parameters\": {\"experiment_name\": \"tl_3-jitter5v2:cores -> oracle.run1.framed\", \"device\": \"cuda\", \"lr\": 0.0001, \"x_shape\": [2, 256], \"n_shot\": 3, \"n_query\": 2, \"train_k_factor\": 3, \"val_k_factor\": 2, \"test_k_factor\": 2, \"torch_default_dtype\": \"torch.float32\", \"n_epoch\": 50, \"patience\": 3, \"criteria_for_best\": \"target_accuracy\", \"x_net\": [{\"class\": \"nnReshape\", \"kargs\": {\"shape\": [-1, 1, 2, 256]}}, {\"class\": \"Conv2d\", \"kargs\": {\"in_channels\": 1, \"out_channels\": 256, \"kernel_size\": [1, 7], \"bias\": false, \"padding\": [0, 3]}}, {\"class\": \"ReLU\", \"kargs\": {\"inplace\": true}}, {\"class\": \"BatchNorm2d\", \"kargs\": {\"num_features\": 256}}, {\"class\": \"Conv2d\", \"kargs\": {\"in_channels\": 256, \"out_channels\": 80, \"kernel_size\": [2, 7], \"bias\": true, \"padding\": [0, 3]}}, {\"class\": \"ReLU\", \"kargs\": {\"inplace\": true}}, {\"class\": \"BatchNorm2d\", \"kargs\": {\"num_features\": 80}}, {\"class\": \"Flatten\", \"kargs\": {}}, {\"class\": \"Linear\", \"kargs\": {\"in_features\": 20480, \"out_features\": 256}}, {\"class\": \"ReLU\", \"kargs\": {\"inplace\": true}}, {\"class\": \"BatchNorm1d\", \"kargs\": {\"num_features\": 256}}, {\"class\": \"Linear\", \"kargs\": {\"in_features\": 256, \"out_features\": 256}}], \"NUM_LOGS_PER_EPOCH\": 10, \"BEST_MODEL_PATH\": \"./best_model.pth\", \"n_way\": 16, \"datasets\": [{\"labels\": [\"1-10.\", \"1-11.\", \"1-15.\", \"1-16.\", \"1-17.\", \"1-18.\", \"1-19.\", \"10-4.\", \"10-7.\", \"11-1.\", \"11-14.\", \"11-17.\", \"11-20.\", \"11-7.\", \"13-20.\", \"13-8.\", \"14-10.\", \"14-11.\", \"14-14.\", \"14-7.\", \"15-1.\", \"15-20.\", \"16-1.\", \"16-16.\", \"17-10.\", \"17-11.\", \"17-2.\", \"19-1.\", \"19-16.\", \"19-19.\", \"19-20.\", \"19-3.\", \"2-10.\", \"2-11.\", \"2-17.\", \"2-18.\", \"2-20.\", \"2-3.\", \"2-4.\", \"2-5.\", \"2-6.\", \"2-7.\", \"2-8.\", \"3-13.\", \"3-18.\", \"3-3.\", \"4-1.\", \"4-10.\", \"4-11.\", \"4-19.\", \"5-5.\", \"6-15.\", \"7-10.\", \"7-14.\", \"8-18.\", \"8-20.\", \"8-3.\", \"8-8.\"], \"domains\": [1, 2, 3, 4, 5], \"num_examples_per_domain_per_label\": -1, \"pickle_path\": \"/root/csc500-main/datasets/cores.stratified_ds.2022A.pkl\", \"source_or_target_dataset\": \"source\", \"x_transforms\": [\"unit_mag\", \"jitter_256_5\", \"lowpass_+/-10MHz\", \"take_200\"], \"episode_transforms\": [], \"domain_prefix\": \"C_\"}, {\"labels\": [\"3123D52\", \"3123D65\", \"3123D79\", \"3123D80\", \"3123D54\", \"3123D70\", \"3123D7B\", \"3123D89\", \"3123D58\", \"3123D76\", \"3123D7D\", \"3123EFE\", \"3123D64\", \"3123D78\", \"3123D7E\", \"3124E4A\"], \"domains\": [32, 38, 8, 44, 14, 50, 20, 26], \"num_examples_per_domain_per_label\": 2000, \"pickle_path\": \"/root/csc500-main/datasets/oracle.Run1_framed_2000Examples_stratified_ds.2022A.pkl\", \"source_or_target_dataset\": \"target\", \"x_transforms\": [\"unit_mag\", \"jitter_256_5\", \"take_200\", \"resample_20Msps_to_25Msps\"], \"episode_transforms\": [], \"domain_prefix\": \"O_\"}], \"seed\": 420, \"dataset_seed\": 420, \"domains_source\": [\"C_1\", \"C_2\", \"C_3\", \"C_4\", \"C_5\"], \"domains_target\": [\"O_32\", \"O_38\", \"O_8\", \"O_44\", \"O_14\", \"O_50\", \"O_20\", \"O_26\"]}, \"results\": {\"source_test_label_accuracy\": 0.9991182279909706, \"source_test_label_loss\": 0.008790969848632812, \"target_test_label_accuracy\": 0.36370442708333334, \"target_test_label_loss\": 2.0740811824798584, \"source_val_label_accuracy\": 0.9988214285714285, \"source_val_label_loss\": 0.013451578095555305, \"target_val_label_accuracy\": 0.36419270833333334, \"target_val_label_loss\": 2.065035581588745, \"total_epochs_trained\": 12, \"total_experiment_time_secs\": 1889.272967338562, \"confusion\": {\"C_4\": {\"42\": {\"42\": 32}, \"0\": {\"0\": 80}, \"1\": {\"1\": 40}, \"39\": {\"39\": 20}, \"28\": {\"28\": 32}, \"53\": {\"53\": 124}, \"19\": {\"19\": 144}, \"34\": {\"34\": 24}, \"33\": {\"33\": 36}, \"32\": {\"32\": 24}, \"10\": {\"10\": 136}, \"46\": {\"46\": 134}, \"20\": {\"20\": 122}, \"5\": {\"5\": 105, \"47\": 1, \"15\": 1, \"18\": 1}, \"40\": {\"40\": 124}, \"51\": {\"51\": 144}, \"37\": {\"37\": 24}, \"17\": {\"17\": 80}, \"45\": {\"45\": 96}, \"13\": {\"13\": 142}, \"27\": {\"27\": 144}, \"24\": {\"24\": 56}, \"30\": {\"30\": 44}, \"31\": {\"31\": 28}, \"41\": {\"41\": 34, \"10\": 1, \"13\": 1}, \"36\": {\"36\": 92}, \"16\": {\"16\": 96}, \"22\": {\"22\": 128}, \"44\": {\"44\": 132}, \"9\": {\"9\": 140}, \"57\": {\"57\": 100}, \"8\": {\"8\": 138}, \"23\": {\"23\": 132}, \"47\": {\"47\": 120}, \"43\": {\"43\": 138}, \"49\": {\"49\": 20}, \"3\": {\"3\": 124}, \"12\": {\"12\": 92}, \"38\": {\"38\": 40}, \"7\": {\"7\": 24}, \"14\": {\"14\": 16}, \"15\": {\"15\": 146}, \"25\": {\"25\": 128}, \"26\": {\"26\": 24}, \"21\": {\"21\": 132}, \"48\": {\"48\": 144}, \"56\": {\"56\": 134}, \"11\": {\"11\": 104}, \"2\": {\"2\": 36}, \"6\": {\"6\": 111, \"3\": 1}, \"55\": {\"55\": 140}, \"54\": {\"54\": 108}, \"29\": {\"29\": 124}, \"50\": {\"50\": 119, \"3\": 3}, \"52\": {\"52\": 116}, \"35\": {\"35\": 40}, \"4\": {\"4\": 120}, \"18\": {\"18\": 108}}, \"C_5\": {\"43\": {\"43\": 152}, \"35\": {\"35\": 36}, \"54\": {\"54\": 112}, \"22\": {\"22\": 28}, \"16\": {\"16\": 146}, \"5\": {\"5\": 128}, \"28\": {\"28\": 32}, \"14\": {\"14\": 44}, \"51\": {\"51\": 128}, \"19\": {\"19\": 140}, \"31\": {\"31\": 36}, \"10\": {\"10\": 68}, \"21\": {\"21\": 136}, \"3\": {\"3\": 100}, \"57\": {\"57\": 132}, \"9\": {\"9\": 145, \"27\": 1}, \"8\": {\"8\": 132}, \"46\": {\"46\": 140}, \"23\": {\"23\": 124}, \"37\": {\"37\": 24}, \"34\": {\"34\": 36}, \"4\": {\"4\": 100}, \"6\": {\"6\": 128}, \"48\": {\"48\": 136}, \"44\": {\"44\": 138}, \"40\": {\"40\": 124}, \"12\": {\"12\": 96}, \"30\": {\"30\": 128}, \"39\": {\"39\": 20}, \"45\": {\"45\": 122, \"17\": 2}, \"36\": {\"36\": 92}, \"27\": {\"27\": 140}, \"32\": {\"32\": 32}, \"52\": {\"52\": 130}, \"0\": {\"0\": 124}, \"26\": {\"26\": 24}, \"1\": {\"1\": 148}, \"53\": {\"53\": 146}, \"25\": {\"25\": 144}, \"24\": {\"24\": 80}, \"7\": {\"7\": 32}, \"18\": {\"18\": 64}, \"20\": {\"20\": 144}, \"33\": {\"33\": 32}, \"55\": {\"55\": 140}, \"41\": {\"41\": 28}, \"42\": {\"42\": 39, \"14\": 1}, \"49\": {\"49\": 36}, \"13\": {\"13\": 148}, \"38\": {\"38\": 32}, \"2\": {\"2\": 28}, \"47\": {\"47\": 100}, \"17\": {\"17\": 116}, \"11\": {\"11\": 154}, \"29\": {\"29\": 132}, \"50\": {\"50\": 135, \"18\": 2, \"20\": 1}, \"56\": {\"56\": 148}, \"15\": {\"15\": 142}}, \"C_2\": {\"49\": {\"49\": 24}, \"13\": {\"13\": 116}, \"37\": {\"37\": 36}, \"41\": {\"41\": 20}, \"15\": {\"15\": 142}, \"56\": {\"56\": 141, \"5\": 1}, \"14\": {\"14\": 24}, \"3\": {\"3\": 91, \"30\": 1}, \"38\": {\"38\": 20}, \"43\": {\"43\": 138}, \"33\": {\"33\": 28}, \"47\": {\"47\": 138}, \"30\": {\"30\": 144}, \"39\": {\"39\": 28}, \"12\": {\"12\": 92}, \"6\": {\"6\": 124}, \"51\": {\"51\": 134}, \"5\": {\"5\": 120}, \"34\": {\"34\": 28}, \"35\": {\"35\": 32}, \"0\": {\"0\": 48}, \"7\": {\"7\": 36}, \"24\": {\"24\": 96}, \"8\": {\"8\": 136}, \"20\": {\"20\": 124}, \"36\": {\"36\": 116}, \"42\": {\"42\": 36}, \"1\": {\"1\": 112}, \"4\": {\"4\": 148}, \"28\": {\"28\": 28}, \"50\": {\"50\": 136}, \"45\": {\"45\": 126, \"17\": 2}, \"18\": {\"18\": 48}, \"57\": {\"57\": 120}, \"46\": {\"46\": 128}, \"23\": {\"23\": 148}, \"27\": {\"27\": 138}, \"19\": {\"19\": 134}, \"22\": {\"22\": 136}, \"17\": {\"17\": 104}, \"55\": {\"55\": 136}, \"44\": {\"44\": 100}, \"26\": {\"26\": 24}, \"31\": {\"31\": 28}, \"16\": {\"16\": 130}, \"11\": {\"11\": 128}, \"25\": {\"25\": 126}, \"54\": {\"54\": 108}, \"32\": {\"32\": 28}, \"52\": {\"52\": 124}, \"40\": {\"40\": 132}, \"2\": {\"2\": 32}, \"10\": {\"10\": 110}, \"53\": {\"53\": 136}, \"9\": {\"9\": 150}, \"21\": {\"21\": 120}, \"48\": {\"48\": 138}, \"29\": {\"29\": 128}}, \"C_1\": {\"9\": {\"9\": 142}, \"25\": {\"25\": 128}, \"41\": {\"41\": 24}, \"29\": {\"29\": 140}, \"46\": {\"46\": 128}, \"4\": {\"4\": 132}, \"31\": {\"31\": 28}, \"36\": {\"36\": 64}, \"20\": {\"20\": 128}, \"7\": {\"7\": 28}, \"6\": {\"6\": 96}, \"16\": {\"16\": 138}, \"17\": {\"17\": 64}, \"50\": {\"50\": 148}, \"57\": {\"57\": 144}, \"23\": {\"23\": 136}, \"3\": {\"3\": 125, \"36\": 1}, \"53\": {\"53\": 140}, \"49\": {\"49\": 32}, \"56\": {\"56\": 152}, \"51\": {\"51\": 142}, \"26\": {\"26\": 24}, \"43\": {\"43\": 144}, \"22\": {\"22\": 136}, \"45\": {\"45\": 146}, \"13\": {\"13\": 152}, \"12\": {\"12\": 116}, \"54\": {\"54\": 104}, \"24\": {\"24\": 107, \"21\": 1}, \"44\": {\"44\": 136}, \"28\": {\"28\": 28}, \"33\": {\"33\": 32}, \"38\": {\"38\": 24}, \"0\": {\"0\": 144}, \"47\": {\"47\": 154}, \"42\": {\"42\": 40}, \"34\": {\"34\": 24}, \"48\": {\"48\": 142}, \"35\": {\"35\": 36}, \"2\": {\"2\": 36}, \"30\": {\"30\": 120}, \"18\": {\"18\": 72}, \"37\": {\"37\": 32}, \"1\": {\"1\": 99, \"57\": 1}, \"11\": {\"11\": 138}, \"55\": {\"55\": 130}, \"15\": {\"15\": 150}, \"10\": {\"10\": 96}, \"27\": {\"27\": 160}, \"19\": {\"19\": 146}, \"14\": {\"14\": 24}, \"8\": {\"8\": 140}, \"5\": {\"5\": 136}, \"39\": {\"39\": 28}, \"52\": {\"52\": 122}, \"21\": {\"21\": 124}, \"40\": {\"40\": 152}, \"32\": {\"32\": 32}}, \"C_3\": {\"56\": {\"56\": 120}, \"4\": {\"4\": 146}, \"34\": {\"34\": 32}, \"52\": {\"52\": 136}, \"32\": {\"32\": 28}, \"46\": {\"46\": 136}, \"12\": {\"12\": 90, \"51\": 2}, \"20\": {\"20\": 132}, \"54\": {\"54\": 100}, \"22\": {\"22\": 140}, \"26\": {\"26\": 24}, \"31\": {\"31\": 28}, \"10\": {\"10\": 64}, \"27\": {\"27\": 144}, \"40\": {\"40\": 136}, \"28\": {\"28\": 28}, \"5\": {\"5\": 116}, \"30\": {\"30\": 120}, \"7\": {\"7\": 36}, \"18\": {\"18\": 84}, \"39\": {\"39\": 16}, \"50\": {\"50\": 136}, \"49\": {\"49\": 20}, \"43\": {\"43\": 122}, \"29\": {\"29\": 114}, \"35\": {\"35\": 28}, \"13\": {\"13\": 122, \"43\": 1, \"11\": 1}, \"36\": {\"36\": 100}, \"11\": {\"11\": 146}, \"57\": {\"57\": 124}, \"9\": {\"9\": 130}, \"25\": {\"25\": 130}, \"16\": {\"16\": 126}, \"53\": {\"53\": 118}, \"33\": {\"33\": 28}, \"51\": {\"51\": 128}, \"44\": {\"44\": 88}, \"48\": {\"48\": 114}, \"6\": {\"6\": 87, \"52\": 1}, \"23\": {\"23\": 144}, \"1\": {\"1\": 100}, \"17\": {\"38\": 2, \"17\": 106}, \"21\": {\"21\": 122}, \"14\": {\"14\": 40}, \"55\": {\"55\": 144}, \"41\": {\"41\": 28}, \"3\": {\"3\": 137, \"16\": 1}, \"38\": {\"38\": 28}, \"2\": {\"2\": 32}, \"8\": {\"8\": 142}, \"37\": {\"37\": 28}, \"45\": {\"17\": 2, \"45\": 58}, \"42\": {\"42\": 28}, \"24\": {\"24\": 104}, \"15\": {\"15\": 136}, \"0\": {\"0\": 124}, \"47\": {\"47\": 92}, \"19\": {\"19\": 120}}, \"O_14\": {\"15\": {\"15\": 117, \"7\": 58, \"5\": 17, \"14\": 5, \"1\": 17, \"2\": 12, \"4\": 9, \"13\": 3, \"6\": 1, \"3\": 1}, \"5\": {\"5\": 49, \"1\": 54, \"3\": 30, \"2\": 27, \"7\": 21, \"4\": 26, \"14\": 10, \"8\": 1, \"13\": 5, \"15\": 13, \"0\": 2, \"6\": 2}, \"7\": {\"15\": 41, \"7\": 154, \"3\": 2, \"1\": 17, \"5\": 21, \"4\": 3, \"2\": 2}, \"4\": {\"8\": 9, \"1\": 16, \"5\": 34, \"14\": 15, \"3\": 41, \"10\": 15, \"4\": 46, \"6\": 12, \"13\": 8, \"0\": 10, \"2\": 27, \"15\": 3, \"7\": 2, \"11\": 2}, \"10\": {\"11\": 20, \"10\": 137, \"3\": 18, \"4\": 9, \"0\": 36, \"13\": 8, \"14\": 7, \"9\": 3, \"2\": 1, \"6\": 1}, \"11\": {\"9\": 15, \"11\": 138, \"0\": 47, \"14\": 11, \"10\": 14, \"3\": 3, \"12\": 7, \"13\": 2, \"8\": 3}, \"12\": {\"12\": 184, \"9\": 50, \"11\": 5, \"8\": 1}, \"0\": {\"11\": 38, \"8\": 11, \"0\": 73, \"3\": 31, \"10\": 49, \"5\": 3, \"9\": 9, \"13\": 1, \"14\": 18, \"4\": 6, \"12\": 1}, \"14\": {\"6\": 23, \"14\": 53, \"13\": 48, \"5\": 7, \"0\": 10, \"2\": 45, \"4\": 13, \"10\": 15, \"3\": 16, \"7\": 1, \"15\": 2, \"11\": 4, \"1\": 3}, \"8\": {\"8\": 184, \"1\": 23, \"0\": 6, \"9\": 18, \"4\": 2, \"5\": 1, \"3\": 6}, \"13\": {\"13\": 64, \"2\": 26, \"15\": 7, \"6\": 68, \"14\": 36, \"4\": 17, \"5\": 10, \"11\": 1, \"10\": 6, \"3\": 3, \"7\": 1, \"0\": 1}, \"6\": {\"13\": 68, \"14\": 42, \"3\": 11, \"6\": 71, \"2\": 25, \"10\": 5, \"4\": 9, \"15\": 3, \"5\": 6}, \"1\": {\"1\": 97, \"5\": 42, \"7\": 22, \"8\": 22, \"4\": 25, \"3\": 20, \"15\": 5, \"0\": 3, \"2\": 3, \"10\": 1}, \"3\": {\"4\": 40, \"3\": 51, \"0\": 23, \"14\": 22, \"2\": 26, \"10\": 22, \"5\": 16, \"8\": 7, \"6\": 6, \"1\": 16, \"11\": 2, \"13\": 8, \"7\": 1}, \"9\": {\"9\": 151, \"11\": 21, \"12\": 37, \"8\": 16, \"0\": 10, \"10\": 5}, \"2\": {\"5\": 29, \"6\": 34, \"3\": 16, \"14\": 36, \"4\": 39, \"2\": 34, \"15\": 9, \"13\": 23, \"1\": 7, \"10\": 6, \"0\": 2, \"7\": 5}}, \"O_20\": {\"4\": {\"7\": 15, \"14\": 17, \"5\": 13, \"8\": 35, \"4\": 60, \"6\": 9, \"10\": 28, \"1\": 4, \"3\": 15, \"0\": 13, \"2\": 5, \"12\": 13, \"9\": 6, \"13\": 2, \"11\": 2, \"15\": 3}, \"10\": {\"8\": 20, \"7\": 11, \"12\": 11, \"2\": 7, \"4\": 36, \"10\": 61, \"14\": 40, \"3\": 16, \"9\": 7, \"6\": 22, \"1\": 3, \"5\": 2, \"15\": 2, \"0\": 1, \"13\": 1}, \"15\": {\"0\": 23, \"12\": 23, \"10\": 3, \"1\": 32, \"15\": 29, \"5\": 27, \"7\": 9, \"3\": 11, \"13\": 33, \"2\": 27, \"4\": 8, \"8\": 4, \"9\": 11}, \"0\": {\"1\": 19, \"13\": 21, \"14\": 3, \"12\": 12, \"6\": 3, \"0\": 42, \"5\": 28, \"9\": 13, \"4\": 9, \"10\": 4, \"8\": 15, \"15\": 33, \"3\": 20, \"7\": 10, \"2\": 7, \"11\": 1}, \"6\": {\"7\": 19, \"6\": 55, \"10\": 23, \"13\": 7, \"14\": 36, \"8\": 23, \"2\": 13, \"11\": 21, \"3\": 9, \"9\": 5, \"4\": 17, \"12\": 5, \"5\": 1, \"15\": 1, \"1\": 1, \"0\": 4}, \"3\": {\"13\": 12, \"5\": 13, \"12\": 24, \"2\": 26, \"11\": 2, \"7\": 15, \"0\": 18, \"1\": 24, \"9\": 27, \"8\": 11, \"14\": 4, \"4\": 21, \"3\": 18, \"15\": 12, \"10\": 10, \"6\": 3}, \"7\": {\"13\": 19, \"8\": 14, \"10\": 6, \"2\": 23, \"9\": 19, \"3\": 20, \"12\": 7, \"11\": 15, \"14\": 10, \"6\": 20, \"4\": 18, \"7\": 28, \"5\": 13, \"15\": 8, \"1\": 9, \"0\": 11}, \"2\": {\"8\": 10, \"13\": 20, \"1\": 24, \"15\": 19, \"9\": 33, \"7\": 19, \"0\": 9, \"12\": 20, \"4\": 6, \"2\": 31, \"3\": 16, \"11\": 8, \"5\": 8, \"6\": 8, \"14\": 3, \"10\": 6}, \"8\": {\"5\": 13, \"4\": 34, \"14\": 30, \"10\": 25, \"8\": 39, \"3\": 3, \"7\": 21, \"9\": 9, \"2\": 5, \"12\": 10, \"6\": 30, \"0\": 11, \"13\": 3, \"11\": 5, \"1\": 1, \"15\": 1}, \"11\": {\"11\": 149, \"8\": 6, \"13\": 18, \"6\": 19, \"3\": 4, \"1\": 3, \"7\": 16, \"2\": 6, \"9\": 5, \"15\": 1, \"12\": 1, \"5\": 3, \"14\": 4, \"10\": 1, \"4\": 4}, \"14\": {\"4\": 27, \"8\": 33, \"14\": 68, \"6\": 47, \"10\": 39, \"7\": 7, \"5\": 3, \"11\": 2, \"12\": 5, \"9\": 4, \"1\": 1, \"2\": 2, \"0\": 1, \"3\": 1}, \"12\": {\"12\": 23, \"0\": 21, \"9\": 22, \"3\": 27, \"7\": 11, \"1\": 23, \"5\": 28, \"4\": 14, \"2\": 17, \"11\": 1, \"15\": 21, \"10\": 8, \"13\": 15, \"8\": 5, \"14\": 3, \"6\": 1}, \"13\": {\"13\": 69, \"9\": 21, \"2\": 12, \"3\": 12, \"15\": 27, \"11\": 18, \"8\": 4, \"1\": 19, \"12\": 11, \"0\": 14, \"6\": 2, \"7\": 24, \"5\": 7}, \"9\": {\"12\": 29, \"8\": 6, \"1\": 15, \"15\": 15, \"9\": 25, \"2\": 36, \"4\": 13, \"6\": 11, \"5\": 19, \"7\": 13, \"3\": 25, \"14\": 2, \"13\": 18, \"0\": 6, \"10\": 4, \"11\": 3}, \"5\": {\"15\": 27, \"7\": 12, \"3\": 17, \"5\": 20, \"0\": 30, \"1\": 34, \"2\": 14, \"12\": 23, \"14\": 4, \"9\": 19, \"13\": 9, \"8\": 14, \"6\": 4, \"4\": 9, \"10\": 4}, \"1\": {\"5\": 24, \"15\": 31, \"8\": 4, \"3\": 19, \"2\": 24, \"0\": 17, \"1\": 36, \"12\": 29, \"9\": 18, \"7\": 11, \"13\": 17, \"10\": 2, \"4\": 3, \"11\": 3, \"14\": 1, \"6\": 1}}, \"O_50\": {\"5\": {\"5\": 52, \"7\": 41, \"13\": 43, \"4\": 25, \"1\": 14, \"0\": 6, \"10\": 26, \"15\": 9, \"6\": 17, \"8\": 4, \"2\": 2, \"3\": 1}, \"12\": {\"11\": 17, \"9\": 41, \"14\": 65, \"12\": 116, \"2\": 1}, \"14\": {\"14\": 117, \"12\": 48, \"11\": 31, \"9\": 19, \"1\": 8, \"2\": 14, \"15\": 1, \"0\": 1, \"6\": 1}, \"4\": {\"13\": 21, \"6\": 20, \"4\": 52, \"1\": 47, \"11\": 13, \"15\": 40, \"5\": 27, \"14\": 2, \"7\": 10, \"0\": 3, \"2\": 2, \"9\": 2, \"10\": 1}, \"13\": {\"10\": 26, \"13\": 55, \"7\": 51, \"15\": 6, \"5\": 41, \"6\": 23, \"1\": 8, \"8\": 3, \"4\": 21, \"0\": 5, \"2\": 1}, \"10\": {\"10\": 99, \"7\": 17, \"8\": 40, \"13\": 23, \"1\": 2, \"0\": 34, \"5\": 16, \"2\": 5, \"4\": 1, \"3\": 1, \"6\": 2}, \"9\": {\"9\": 112, \"15\": 7, \"11\": 57, \"12\": 38, \"2\": 1, \"1\": 2, \"14\": 22, \"4\": 1}, \"15\": {\"15\": 80, \"4\": 39, \"6\": 25, \"1\": 42, \"11\": 35, \"9\": 4, \"0\": 1, \"12\": 2, \"5\": 3, \"13\": 4, \"2\": 1, \"7\": 3, \"14\": 1}, \"6\": {\"13\": 27, \"1\": 36, \"6\": 67, \"7\": 13, \"4\": 24, \"15\": 39, \"10\": 6, \"5\": 10, \"11\": 2, \"2\": 4, \"0\": 8, \"14\": 3, \"9\": 1}, \"2\": {\"2\": 129, \"6\": 5, \"14\": 9, \"0\": 83, \"10\": 6, \"4\": 2, \"15\": 1, \"5\": 1, \"1\": 2, \"12\": 1, \"13\": 1}, \"0\": {\"0\": 108, \"5\": 5, \"10\": 46, \"2\": 68, \"13\": 2, \"8\": 8, \"6\": 1, \"1\": 1, \"7\": 1}, \"11\": {\"15\": 29, \"11\": 90, \"14\": 24, \"9\": 48, \"1\": 20, \"4\": 6, \"12\": 21, \"2\": 1, \"6\": 1}, \"3\": {\"3\": 198, \"8\": 41, \"7\": 1}, \"8\": {\"8\": 149, \"3\": 37, \"0\": 4, \"10\": 46, \"7\": 2, \"2\": 1, \"13\": 1}, \"7\": {\"13\": 56, \"7\": 86, \"5\": 42, \"10\": 25, \"0\": 1, \"4\": 9, \"3\": 8, \"8\": 3, \"1\": 2, \"6\": 7, \"15\": 1}, \"1\": {\"15\": 46, \"11\": 13, \"1\": 80, \"6\": 30, \"4\": 30, \"5\": 10, \"2\": 13, \"13\": 6, \"14\": 4, \"7\": 2, \"0\": 3, \"9\": 3}}, \"O_26\": {\"7\": {\"7\": 18, \"2\": 26, \"4\": 30, \"3\": 35, \"15\": 16, \"5\": 15, \"14\": 21, \"1\": 13, \"10\": 14, \"8\": 20, \"9\": 14, \"0\": 10, \"6\": 7, \"13\": 1}, \"6\": {\"0\": 12, \"8\": 28, \"1\": 5, \"9\": 27, \"6\": 41, \"4\": 15, \"15\": 23, \"11\": 1, \"14\": 12, \"5\": 13, \"10\": 22, \"2\": 4, \"12\": 10, \"13\": 16, \"3\": 6, \"7\": 5}, \"14\": {\"10\": 38, \"1\": 39, \"8\": 19, \"14\": 27, \"4\": 20, \"0\": 26, \"7\": 24, \"9\": 14, \"3\": 12, \"6\": 5, \"5\": 5, \"2\": 7, \"15\": 3, \"13\": 1}, \"15\": {\"15\": 38, \"13\": 28, \"7\": 9, \"5\": 30, \"9\": 31, \"0\": 9, \"10\": 9, \"3\": 15, \"6\": 22, \"2\": 23, \"4\": 6, \"8\": 13, \"14\": 5, \"1\": 1, \"12\": 1}, \"5\": {\"13\": 50, \"15\": 20, \"5\": 52, \"3\": 7, \"9\": 15, \"2\": 21, \"7\": 12, \"6\": 14, \"8\": 18, \"1\": 3, \"14\": 8, \"0\": 6, \"10\": 10, \"4\": 4}, \"10\": {\"1\": 16, \"8\": 16, \"4\": 21, \"9\": 24, \"0\": 25, \"15\": 11, \"10\": 31, \"5\": 13, \"6\": 16, \"14\": 31, \"7\": 18, \"2\": 4, \"13\": 2, \"3\": 10, \"12\": 2}, \"4\": {\"8\": 17, \"4\": 38, \"3\": 17, \"5\": 7, \"10\": 28, \"1\": 20, \"15\": 13, \"6\": 9, \"0\": 20, \"7\": 14, \"9\": 7, \"2\": 10, \"14\": 38, \"13\": 2}, \"11\": {\"11\": 223, \"13\": 5, \"12\": 10, \"8\": 1, \"6\": 1}, \"13\": {\"13\": 70, \"9\": 16, \"6\": 28, \"15\": 36, \"7\": 5, \"8\": 11, \"2\": 15, \"5\": 39, \"3\": 2, \"0\": 3, \"11\": 7, \"10\": 4, \"1\": 1, \"12\": 2, \"14\": 1}, \"2\": {\"13\": 14, \"5\": 33, \"3\": 44, \"2\": 43, \"4\": 13, \"15\": 12, \"7\": 26, \"1\": 6, \"8\": 13, \"14\": 12, \"9\": 10, \"6\": 4, \"10\": 4, \"0\": 6}, \"0\": {\"8\": 18, \"7\": 17, \"9\": 13, \"4\": 25, \"14\": 28, \"10\": 32, \"15\": 18, \"12\": 3, \"6\": 12, \"1\": 22, \"0\": 27, \"3\": 9, \"5\": 8, \"2\": 6, \"13\": 2}, \"12\": {\"12\": 194, \"8\": 4, \"9\": 2, \"11\": 18, \"6\": 6, \"5\": 1, \"0\": 3, \"10\": 5, \"14\": 1, \"13\": 4, \"4\": 2}, \"3\": {\"10\": 7, \"5\": 17, \"9\": 13, \"2\": 45, \"3\": 55, \"4\": 20, \"7\": 29, \"0\": 7, \"6\": 1, \"8\": 10, \"14\": 14, \"1\": 8, \"15\": 11, \"13\": 3}, \"9\": {\"4\": 11, \"13\": 27, \"0\": 15, \"8\": 13, \"3\": 10, \"9\": 29, \"5\": 18, \"10\": 11, \"7\": 9, \"15\": 31, \"2\": 15, \"6\": 35, \"12\": 5, \"14\": 8, \"1\": 3}, \"8\": {\"15\": 21, \"13\": 11, \"6\": 15, \"14\": 17, \"7\": 20, \"10\": 19, \"9\": 18, \"4\": 16, \"0\": 30, \"8\": 28, \"2\": 14, \"3\": 11, \"1\": 11, \"5\": 9}, \"1\": {\"0\": 24, \"10\": 23, \"3\": 9, \"1\": 61, \"4\": 31, \"5\": 4, \"8\": 12, \"6\": 6, \"14\": 41, \"2\": 4, \"7\": 14, \"15\": 1, \"12\": 1, \"9\": 9}}, \"O_32\": {\"7\": {\"4\": 26, \"7\": 56, \"14\": 42, \"13\": 26, \"2\": 26, \"11\": 23, \"5\": 24, \"3\": 5, \"8\": 5, \"0\": 6, \"9\": 1}, \"2\": {\"13\": 10, \"2\": 86, \"5\": 13, \"11\": 6, \"7\": 23, \"4\": 46, \"14\": 15, \"0\": 35, \"8\": 3, \"9\": 3}, \"5\": {\"5\": 54, \"13\": 37, \"3\": 23, \"0\": 10, \"14\": 10, \"4\": 28, \"8\": 23, \"7\": 29, \"2\": 14, \"11\": 12}, \"6\": {\"6\": 222, \"12\": 10, \"10\": 4, \"1\": 4}, \"13\": {\"0\": 17, \"11\": 15, \"3\": 27, \"13\": 45, \"14\": 23, \"4\": 13, \"7\": 30, \"8\": 23, \"2\": 10, \"5\": 37}, \"4\": {\"11\": 7, \"7\": 31, \"2\": 55, \"4\": 47, \"5\": 22, \"0\": 17, \"13\": 28, \"14\": 14, \"3\": 5, \"8\": 13, \"9\": 1}, \"3\": {\"7\": 11, \"13\": 37, \"3\": 103, \"5\": 41, \"11\": 16, \"8\": 20, \"14\": 7, \"0\": 2, \"15\": 2, \"4\": 1}, \"0\": {\"0\": 92, \"5\": 16, \"8\": 36, \"14\": 16, \"2\": 22, \"11\": 6, \"7\": 16, \"13\": 15, \"4\": 16, \"9\": 3, \"3\": 2}, \"9\": {\"9\": 209, \"12\": 26, \"2\": 3, \"4\": 1, \"0\": 1}, \"12\": {\"12\": 213, \"6\": 11, \"9\": 15, \"10\": 1}, \"8\": {\"2\": 4, \"13\": 30, \"0\": 38, \"8\": 92, \"3\": 17, \"15\": 9, \"7\": 6, \"4\": 7, \"5\": 24, \"14\": 6, \"11\": 7}, \"14\": {\"14\": 58, \"11\": 61, \"0\": 16, \"2\": 15, \"7\": 27, \"4\": 15, \"13\": 15, \"3\": 10, \"5\": 14, \"8\": 9}, \"15\": {\"15\": 217, \"8\": 14, \"3\": 7, \"5\": 2}, \"11\": {\"11\": 95, \"14\": 61, \"13\": 18, \"0\": 5, \"7\": 24, \"3\": 12, \"5\": 10, \"4\": 8, \"8\": 6, \"2\": 1}, \"10\": {\"1\": 46, \"10\": 188, \"6\": 2, \"12\": 4}, \"1\": {\"1\": 212, \"10\": 28}}, \"O_44\": {\"11\": {\"11\": 178, \"14\": 3, \"13\": 28, \"6\": 20, \"9\": 8, \"7\": 2, \"5\": 1}, \"7\": {\"7\": 64, \"13\": 18, \"10\": 10, \"9\": 48, \"1\": 16, \"2\": 49, \"3\": 7, \"6\": 26, \"12\": 1, \"4\": 1}, \"6\": {\"6\": 96, \"7\": 23, \"13\": 52, \"9\": 44, \"2\": 9, \"11\": 15, \"4\": 1}, \"12\": {\"1\": 63, \"3\": 30, \"12\": 99, \"2\": 9, \"7\": 5, \"10\": 34}, \"4\": {\"15\": 14, \"4\": 120, \"14\": 69, \"0\": 5, \"5\": 13, \"13\": 7, \"9\": 9, \"6\": 3}, \"13\": {\"13\": 87, \"11\": 25, \"9\": 50, \"6\": 58, \"2\": 2, \"7\": 8, \"14\": 2, \"4\": 6, \"1\": 1, \"10\": 1}, \"8\": {\"8\": 121, \"0\": 65, \"5\": 19, \"15\": 32, \"4\": 2, \"14\": 1}, \"5\": {\"0\": 51, \"5\": 112, \"14\": 23, \"4\": 17, \"8\": 18, \"15\": 19}, \"14\": {\"15\": 34, \"4\": 86, \"14\": 74, \"5\": 26, \"0\": 11, \"8\": 2, \"7\": 1, \"13\": 1, \"9\": 5}, \"3\": {\"1\": 66, \"7\": 9, \"12\": 34, \"3\": 115, \"10\": 4, \"2\": 10, \"9\": 2}, \"10\": {\"10\": 87, \"1\": 40, \"2\": 39, \"12\": 47, \"7\": 14, \"3\": 8, \"9\": 3, \"6\": 2}, \"1\": {\"12\": 70, \"2\": 22, \"1\": 51, \"10\": 36, \"3\": 49, \"7\": 7, \"9\": 4, \"14\": 1}, \"2\": {\"7\": 58, \"10\": 41, \"12\": 14, \"2\": 70, \"9\": 18, \"13\": 3, \"3\": 8, \"1\": 21, \"6\": 7}, \"15\": {\"15\": 82, \"0\": 50, \"4\": 19, \"5\": 29, \"14\": 40, \"8\": 20}, \"9\": {\"7\": 45, \"6\": 39, \"9\": 51, \"11\": 4, \"3\": 6, \"2\": 31, \"13\": 48, \"1\": 5, \"4\": 6, \"10\": 3, \"14\": 2}, \"0\": {\"8\": 71, \"15\": 49, \"0\": 64, \"5\": 47, \"14\": 6, \"4\": 3}}, \"O_8\": {\"10\": {\"13\": 39, \"10\": 37, \"5\": 31, \"14\": 36, \"6\": 12, \"1\": 15, \"4\": 24, \"0\": 20, \"11\": 11, \"8\": 5, \"7\": 10}, \"6\": {\"0\": 21, \"10\": 18, \"15\": 14, \"13\": 25, \"1\": 6, \"7\": 36, \"12\": 8, \"4\": 27, \"8\": 19, \"14\": 14, \"6\": 44, \"11\": 3, \"5\": 2, \"2\": 3}, \"13\": {\"4\": 34, \"10\": 26, \"1\": 11, \"0\": 42, \"6\": 25, \"13\": 42, \"7\": 19, \"14\": 20, \"11\": 4, \"5\": 13, \"2\": 2, \"15\": 1, \"8\": 1}, \"3\": {\"12\": 39, \"2\": 69, \"3\": 75, \"6\": 7, \"15\": 32, \"7\": 10, \"8\": 6, \"4\": 1, \"0\": 1}, \"9\": {\"9\": 235, \"13\": 1, \"14\": 1, \"10\": 1, \"5\": 2}, \"1\": {\"1\": 63, \"11\": 54, \"5\": 33, \"14\": 31, \"10\": 20, \"4\": 6, \"6\": 10, \"8\": 15, \"13\": 4, \"7\": 1, \"15\": 2, \"2\": 1}, \"5\": {\"5\": 81, \"10\": 42, \"1\": 44, \"14\": 20, \"11\": 19, \"4\": 14, \"6\": 4, \"13\": 11, \"0\": 3, \"8\": 1, \"7\": 1}, \"11\": {\"1\": 65, \"11\": 73, \"4\": 10, \"14\": 21, \"5\": 23, \"0\": 2, \"8\": 22, \"13\": 3, \"7\": 1, \"10\": 7, \"15\": 8, \"6\": 4, \"12\": 1}, \"4\": {\"13\": 39, \"4\": 31, \"1\": 11, \"11\": 7, \"6\": 29, \"14\": 25, \"10\": 21, \"7\": 24, \"0\": 30, \"5\": 10, \"8\": 8, \"15\": 3, \"2\": 2}, \"14\": {\"4\": 26, \"11\": 14, \"15\": 5, \"13\": 27, \"0\": 9, \"14\": 38, \"7\": 13, \"10\": 25, \"5\": 24, \"6\": 26, \"1\": 27, \"8\": 5, \"2\": 1}, \"12\": {\"2\": 35, \"13\": 1, \"12\": 65, \"11\": 3, \"15\": 56, \"8\": 20, \"3\": 37, \"7\": 9, \"6\": 6, \"14\": 3, \"1\": 5}, \"7\": {\"4\": 18, \"6\": 47, \"2\": 18, \"13\": 20, \"10\": 11, \"7\": 41, \"0\": 33, \"8\": 16, \"15\": 8, \"14\": 10, \"12\": 5, \"11\": 2, \"3\": 6, \"5\": 1, \"1\": 4}, \"0\": {\"0\": 48, \"10\": 10, \"14\": 25, \"3\": 2, \"6\": 35, \"13\": 47, \"1\": 5, \"4\": 22, \"2\": 4, \"5\": 7, \"7\": 29, \"12\": 1, \"15\": 3, \"8\": 1, \"11\": 1}, \"15\": {\"4\": 6, \"15\": 54, \"3\": 23, \"12\": 52, \"8\": 33, \"6\": 18, \"7\": 19, \"0\": 2, \"13\": 2, \"2\": 28, \"14\": 1, \"11\": 1, \"10\": 1}, \"2\": {\"15\": 20, \"13\": 2, \"2\": 75, \"3\": 73, \"8\": 7, \"12\": 16, \"7\": 22, \"4\": 3, \"6\": 13, \"0\": 8, \"14\": 1}, \"8\": {\"2\": 7, \"11\": 15, \"8\": 69, \"15\": 39, \"3\": 7, \"14\": 10, \"7\": 19, \"4\": 9, \"12\": 19, \"6\": 23, \"1\": 17, \"10\": 2, \"13\": 3, \"0\": 1}}, \"O_38\": {\"4\": {\"4\": 188, \"12\": 49, \"14\": 1, \"7\": 1, \"10\": 1}, \"7\": {\"7\": 106, \"12\": 4, \"8\": 23, \"5\": 27, \"0\": 46, \"9\": 7, \"10\": 11, \"3\": 7, \"15\": 2, \"13\": 5, \"4\": 1, \"6\": 1}, \"12\": {\"4\": 38, \"12\": 178, \"10\": 4, \"11\": 5, \"14\": 8, \"0\": 3, \"7\": 4}, \"10\": {\"7\": 21, \"10\": 74, \"13\": 25, \"11\": 12, \"8\": 19, \"2\": 14, \"14\": 20, \"0\": 14, \"15\": 20, \"12\": 9, \"5\": 10, \"1\": 1, \"4\": 1}, \"0\": {\"7\": 42, \"0\": 62, \"3\": 26, \"12\": 13, \"8\": 36, \"4\": 4, \"5\": 25, \"9\": 9, \"13\": 6, \"1\": 3, \"10\": 5, \"15\": 4, \"6\": 5}, \"1\": {\"15\": 34, \"1\": 149, \"5\": 10, \"9\": 7, \"13\": 11, \"6\": 24, \"0\": 2, \"8\": 1, \"10\": 1, \"3\": 1}, \"5\": {\"8\": 41, \"1\": 12, \"3\": 7, \"0\": 25, \"7\": 16, \"15\": 15, \"6\": 33, \"5\": 61, \"13\": 14, \"9\": 11, \"2\": 3, \"10\": 2}, \"15\": {\"5\": 20, \"10\": 24, \"8\": 18, \"13\": 49, \"1\": 38, \"15\": 63, \"6\": 9, \"0\": 8, \"2\": 8, \"7\": 1, \"14\": 2}, \"9\": {\"6\": 77, \"9\": 88, \"3\": 37, \"5\": 19, \"7\": 6, \"1\": 7, \"0\": 2, \"15\": 1, \"8\": 3}, \"11\": {\"11\": 110, \"14\": 90, \"2\": 17, \"10\": 10, \"12\": 4, \"4\": 8, \"13\": 1}, \"14\": {\"14\": 118, \"2\": 39, \"11\": 61, \"10\": 11, \"12\": 5, \"13\": 3, \"7\": 1, \"0\": 1, \"4\": 1}, \"6\": {\"9\": 85, \"6\": 108, \"0\": 3, \"5\": 19, \"1\": 11, \"3\": 9, \"8\": 3, \"10\": 1, \"13\": 1}, \"8\": {\"7\": 25, \"8\": 61, \"0\": 41, \"5\": 44, \"10\": 16, \"9\": 1, \"13\": 17, \"12\": 2, \"6\": 4, \"15\": 21, \"3\": 2, \"1\": 5, \"4\": 1}, \"3\": {\"6\": 17, \"3\": 136, \"8\": 5, \"5\": 11, \"9\": 33, \"7\": 11, \"0\": 25, \"1\": 2}, \"2\": {\"2\": 145, \"5\": 1, \"15\": 10, \"14\": 24, \"11\": 11, \"13\": 32, \"10\": 14, \"1\": 3}, \"13\": {\"13\": 89, \"8\": 16, \"15\": 54, \"5\": 9, \"1\": 19, \"10\": 20, \"2\": 25, \"7\": 2, \"14\": 1, \"11\": 3, \"0\": 2}}}, \"per_domain_accuracy\": {\"C_4\": {\"accuracy\": 0.9983158682634731, \"source?\": true}, \"C_5\": {\"accuracy\": 0.9987779329608939, \"source?\": true}, \"C_2\": {\"accuracy\": 0.9992857142857143, \"source?\": true}, \"C_1\": {\"accuracy\": 0.9994904891304348, \"source?\": true}, \"C_3\": {\"accuracy\": 0.9981617647058824, \"source?\": true}, \"O_14\": {\"accuracy\": 0.41744791666666664, \"source?\": false}, \"O_20\": {\"accuracy\": 0.19609375, \"source?\": false}, \"O_50\": {\"accuracy\": 0.4140625, \"source?\": false}, \"O_26\": {\"accuracy\": 0.25390625, \"source?\": false}, \"O_32\": {\"accuracy\": 0.51796875, \"source?\": false}, \"O_44\": {\"accuracy\": 0.38307291666666665, \"source?\": false}, \"O_8\": {\"accuracy\": 0.27890625, \"source?\": false}, \"O_38\": {\"accuracy\": 0.45208333333333334, \"source?\": false}}}, \"history\": {\"epoch_indices\": [1, 2, 3, 4, 5, 6, 7, 8, 9, 10, 11, 12], \"train_label_loss\": [0.04184128422976436, 0.016246139777393885, 0.007727679842612933, 0.0065724135948649455, 0.005146324067798938, 0.004033995677789682, 0.0040221166349442726, 0.002959581239752937, 0.0029408728229400258, 0.0024565954278648627, 0.001995573136417423, 0.002603951715083013], \"source_val_label_loss\": [0.1336728036403656, 0.04815411940217018, 0.029669780284166336, 0.0332457460463047, 0.02058497816324234, 0.028351398184895515, 0.030256764963269234, 0.013451578095555305, 0.0269375778734684, 0.017736729234457016, 0.02954324148595333, 0.06292220205068588], \"target_val_label_loss\": [1.9521574974060059, 2.107130765914917, 2.3552756309509277, 2.0085721015930176, 2.004375696182251, 2.0237479209899902, 2.017512321472168, 2.065035581588745, 2.4362032413482666, 2.892935037612915, 2.611401319503784, 2.3471362590789795], \"source_val_acc_label\": [0.9908571428571429, 0.9963214285714286, 0.9959642857142857, 0.998, 0.99825, 0.9985714285714286, 0.9982857142857143, 0.9988214285714285, 0.9985357142857143, 0.9984642857142857, 0.9987857142857143, 0.9988214285714285], \"target_val_acc_label\": [0.32900390625, 0.32952473958333334, 0.30009765625, 0.34384765625, 0.3553385416666667, 0.3615234375, 0.35478515625, 0.36419270833333334, 0.31780598958333334, 0.2916341145833333, 0.341796875, 0.3605143229166667]}, \"dataset_metrics\": {\"source\": {\"train\": {\"n_unique_x\": 175175, \"n_unique_y\": 58, \"n_batch/episode\": 6317}, \"val\": {\"n_unique_x\": 37216, \"n_unique_y\": 58, \"n_batch/episode\": 875}, \"test\": {\"n_unique_x\": 37596, \"n_unique_y\": 58, \"n_batch/episode\": 886}}, \"target\": {\"train\": {\"n_unique_x\": 179200, \"n_unique_y\": 16, \"n_batch/episode\": 6720}, \"val\": {\"n_unique_x\": 38400, \"n_unique_y\": 16, \"n_batch/episode\": 960}, \"test\": {\"n_unique_x\": 38400, \"n_unique_y\": 16, \"n_batch/episode\": 960}}}}'"
      ]
     },
     "execution_count": 29,
     "metadata": {},
     "output_type": "execute_result"
    }
   ],
   "source": [
    "json.dumps(experiment)"
   ]
  }
 ],
 "metadata": {
  "celltoolbar": "Tags",
  "kernelspec": {
   "display_name": "Python 3 (ipykernel)",
   "language": "python",
   "name": "python3"
  },
  "language_info": {
   "codemirror_mode": {
    "name": "ipython",
    "version": 3
   },
   "file_extension": ".py",
   "mimetype": "text/x-python",
   "name": "python",
   "nbconvert_exporter": "python",
   "pygments_lexer": "ipython3",
   "version": "3.8.12"
  },
  "papermill": {
   "default_parameters": {},
   "duration": 2060.847318,
   "end_time": "2022-03-28T13:20:18.980515",
   "environment_variables": {},
   "exception": null,
   "input_path": "/root/csc500-main/csc500-notebooks/templates/tl_ptn_template.ipynb",
   "output_path": "trial.ipynb",
   "parameters": {
    "parameters": {
     "BEST_MODEL_PATH": "./best_model.pth",
     "NUM_LOGS_PER_EPOCH": 10,
     "criteria_for_best": "target_accuracy",
     "dataset_seed": 420,
     "datasets": [
      {
       "domain_prefix": "C_",
       "domains": [
        1,
        2,
        3,
        4,
        5
       ],
       "episode_transforms": [],
       "labels": [
        "1-10.",
        "1-11.",
        "1-15.",
        "1-16.",
        "1-17.",
        "1-18.",
        "1-19.",
        "10-4.",
        "10-7.",
        "11-1.",
        "11-14.",
        "11-17.",
        "11-20.",
        "11-7.",
        "13-20.",
        "13-8.",
        "14-10.",
        "14-11.",
        "14-14.",
        "14-7.",
        "15-1.",
        "15-20.",
        "16-1.",
        "16-16.",
        "17-10.",
        "17-11.",
        "17-2.",
        "19-1.",
        "19-16.",
        "19-19.",
        "19-20.",
        "19-3.",
        "2-10.",
        "2-11.",
        "2-17.",
        "2-18.",
        "2-20.",
        "2-3.",
        "2-4.",
        "2-5.",
        "2-6.",
        "2-7.",
        "2-8.",
        "3-13.",
        "3-18.",
        "3-3.",
        "4-1.",
        "4-10.",
        "4-11.",
        "4-19.",
        "5-5.",
        "6-15.",
        "7-10.",
        "7-14.",
        "8-18.",
        "8-20.",
        "8-3.",
        "8-8."
       ],
       "num_examples_per_domain_per_label": -1,
       "pickle_path": "/root/csc500-main/datasets/cores.stratified_ds.2022A.pkl",
       "source_or_target_dataset": "source",
       "x_transforms": [
        "unit_mag",
        "jitter_256_5",
        "lowpass_+/-10MHz",
        "take_200"
       ]
      },
      {
       "domain_prefix": "O_",
       "domains": [
        32,
        38,
        8,
        44,
        14,
        50,
        20,
        26
       ],
       "episode_transforms": [],
       "labels": [
        "3123D52",
        "3123D65",
        "3123D79",
        "3123D80",
        "3123D54",
        "3123D70",
        "3123D7B",
        "3123D89",
        "3123D58",
        "3123D76",
        "3123D7D",
        "3123EFE",
        "3123D64",
        "3123D78",
        "3123D7E",
        "3124E4A"
       ],
       "num_examples_per_domain_per_label": 2000,
       "pickle_path": "/root/csc500-main/datasets/oracle.Run1_framed_2000Examples_stratified_ds.2022A.pkl",
       "source_or_target_dataset": "target",
       "x_transforms": [
        "unit_mag",
        "jitter_256_5",
        "take_200",
        "resample_20Msps_to_25Msps"
       ]
      }
     ],
     "device": "cuda",
     "experiment_name": "tl_3-jitter5v2:cores -> oracle.run1.framed",
     "lr": 0.0001,
     "n_epoch": 50,
     "n_query": 2,
     "n_shot": 3,
     "n_way": 16,
     "patience": 3,
     "seed": 420,
     "test_k_factor": 2,
     "torch_default_dtype": "torch.float32",
     "train_k_factor": 3,
     "val_k_factor": 2,
     "x_net": [
      {
       "class": "nnReshape",
       "kargs": {
        "shape": [
         -1,
         1,
         2,
         256
        ]
       }
      },
      {
       "class": "Conv2d",
       "kargs": {
        "bias": false,
        "in_channels": 1,
        "kernel_size": [
         1,
         7
        ],
        "out_channels": 256,
        "padding": [
         0,
         3
        ]
       }
      },
      {
       "class": "ReLU",
       "kargs": {
        "inplace": true
       }
      },
      {
       "class": "BatchNorm2d",
       "kargs": {
        "num_features": 256
       }
      },
      {
       "class": "Conv2d",
       "kargs": {
        "bias": true,
        "in_channels": 256,
        "kernel_size": [
         2,
         7
        ],
        "out_channels": 80,
        "padding": [
         0,
         3
        ]
       }
      },
      {
       "class": "ReLU",
       "kargs": {
        "inplace": true
       }
      },
      {
       "class": "BatchNorm2d",
       "kargs": {
        "num_features": 80
       }
      },
      {
       "class": "Flatten",
       "kargs": {}
      },
      {
       "class": "Linear",
       "kargs": {
        "in_features": 20480,
        "out_features": 256
       }
      },
      {
       "class": "ReLU",
       "kargs": {
        "inplace": true
       }
      },
      {
       "class": "BatchNorm1d",
       "kargs": {
        "num_features": 256
       }
      },
      {
       "class": "Linear",
       "kargs": {
        "in_features": 256,
        "out_features": 256
       }
      }
     ],
     "x_shape": [
      2,
      256
     ]
    }
   },
   "start_time": "2022-03-28T12:45:58.133197",
   "version": "2.3.4"
  }
 },
 "nbformat": 4,
 "nbformat_minor": 5
}