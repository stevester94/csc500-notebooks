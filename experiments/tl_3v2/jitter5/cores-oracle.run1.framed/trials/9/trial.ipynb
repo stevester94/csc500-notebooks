{
 "cells": [
  {
   "cell_type": "markdown",
   "id": "9fea5f46",
   "metadata": {
    "papermill": {
     "duration": 0.026181,
     "end_time": "2022-03-28T14:00:15.851863",
     "exception": false,
     "start_time": "2022-03-28T14:00:15.825682",
     "status": "completed"
    },
    "tags": []
   },
   "source": [
    "# Transfer Learning Template"
   ]
  },
  {
   "cell_type": "code",
   "execution_count": 1,
   "id": "0902182a",
   "metadata": {
    "execution": {
     "iopub.execute_input": "2022-03-28T14:00:15.909198Z",
     "iopub.status.busy": "2022-03-28T14:00:15.897821Z",
     "iopub.status.idle": "2022-03-28T14:00:17.719017Z",
     "shell.execute_reply": "2022-03-28T14:00:17.719332Z"
    },
    "papermill": {
     "duration": 1.848263,
     "end_time": "2022-03-28T14:00:17.719542",
     "exception": false,
     "start_time": "2022-03-28T14:00:15.871279",
     "status": "completed"
    },
    "tags": []
   },
   "outputs": [],
   "source": [
    "%load_ext autoreload\n",
    "%autoreload 2\n",
    "%matplotlib inline\n",
    "\n",
    "    \n",
    "import os, json, sys, time, random\n",
    "import numpy as np\n",
    "import torch\n",
    "from torch.optim import Adam\n",
    "from  easydict import EasyDict\n",
    "import matplotlib.pyplot as plt\n",
    "\n",
    "from steves_models.steves_ptn import Steves_Prototypical_Network\n",
    "\n",
    "from steves_utils.lazy_iterable_wrapper import Lazy_Iterable_Wrapper\n",
    "from steves_utils.iterable_aggregator import Iterable_Aggregator\n",
    "from steves_utils.ptn_train_eval_test_jig import  PTN_Train_Eval_Test_Jig\n",
    "from steves_utils.torch_sequential_builder import build_sequential\n",
    "from steves_utils.torch_utils import get_dataset_metrics, ptn_confusion_by_domain_over_dataloader\n",
    "from steves_utils.utils_v2 import (per_domain_accuracy_from_confusion, get_datasets_base_path)\n",
    "from steves_utils.PTN.utils import independent_accuracy_assesment\n",
    "\n",
    "from torch.utils.data import DataLoader\n",
    "\n",
    "from steves_utils.stratified_dataset.episodic_accessor import Episodic_Accessor_Factory\n",
    "\n",
    "from steves_utils.ptn_do_report import (\n",
    "    get_loss_curve,\n",
    "    get_results_table,\n",
    "    get_parameters_table,\n",
    "    get_domain_accuracies,\n",
    ")\n",
    "\n",
    "from steves_utils.transforms import get_chained_transform"
   ]
  },
  {
   "cell_type": "markdown",
   "id": "41c840b4",
   "metadata": {
    "papermill": {
     "duration": 0.020053,
     "end_time": "2022-03-28T14:00:17.759771",
     "exception": false,
     "start_time": "2022-03-28T14:00:17.739718",
     "status": "completed"
    },
    "tags": []
   },
   "source": [
    "# Allowed Parameters\n",
    "These are allowed parameters, not defaults\n",
    "Each of these values need to be present in the injected parameters (the notebook will raise an exception if they are not present)\n",
    "\n",
    "Papermill uses the cell tag \"parameters\" to inject the real parameters below this cell.\n",
    "Enable tags to see what I mean"
   ]
  },
  {
   "cell_type": "code",
   "execution_count": 2,
   "id": "fd44eb83",
   "metadata": {
    "execution": {
     "iopub.execute_input": "2022-03-28T14:00:17.803628Z",
     "iopub.status.busy": "2022-03-28T14:00:17.803240Z",
     "iopub.status.idle": "2022-03-28T14:00:17.824033Z",
     "shell.execute_reply": "2022-03-28T14:00:17.824332Z"
    },
    "papermill": {
     "duration": 0.044805,
     "end_time": "2022-03-28T14:00:17.824418",
     "exception": false,
     "start_time": "2022-03-28T14:00:17.779613",
     "status": "completed"
    },
    "tags": []
   },
   "outputs": [],
   "source": [
    "required_parameters = {\n",
    "    \"experiment_name\",\n",
    "    \"lr\",\n",
    "    \"device\",\n",
    "    \"seed\",\n",
    "    \"dataset_seed\",\n",
    "    \"n_shot\",\n",
    "    \"n_query\",\n",
    "    \"n_way\",\n",
    "    \"train_k_factor\",\n",
    "    \"val_k_factor\",\n",
    "    \"test_k_factor\",\n",
    "    \"n_epoch\",\n",
    "    \"patience\",\n",
    "    \"criteria_for_best\",\n",
    "    \"x_net\",\n",
    "    \"datasets\",\n",
    "    \"torch_default_dtype\",\n",
    "    \"NUM_LOGS_PER_EPOCH\",\n",
    "    \"BEST_MODEL_PATH\",\n",
    "    \"x_shape\",\n",
    "}"
   ]
  },
  {
   "cell_type": "code",
   "execution_count": 3,
   "id": "fa3f0049",
   "metadata": {
    "execution": {
     "iopub.execute_input": "2022-03-28T14:00:17.873874Z",
     "iopub.status.busy": "2022-03-28T14:00:17.873455Z",
     "iopub.status.idle": "2022-03-28T14:00:17.897759Z",
     "shell.execute_reply": "2022-03-28T14:00:17.897402Z"
    },
    "papermill": {
     "duration": 0.05343,
     "end_time": "2022-03-28T14:00:17.897831",
     "exception": false,
     "start_time": "2022-03-28T14:00:17.844401",
     "status": "completed"
    },
    "tags": [
     "parameters"
    ]
   },
   "outputs": [],
   "source": [
    "from steves_utils.CORES.utils import (\n",
    "    ALL_NODES,\n",
    "    ALL_NODES_MINIMUM_1000_EXAMPLES,\n",
    "    ALL_DAYS\n",
    ")\n",
    "\n",
    "from steves_utils.ORACLE.utils_v2 import (\n",
    "    ALL_DISTANCES_FEET_NARROWED,\n",
    "    ALL_RUNS,\n",
    "    ALL_SERIAL_NUMBERS,\n",
    ")\n",
    "\n",
    "standalone_parameters = {}\n",
    "standalone_parameters[\"experiment_name\"] = \"STANDALONE PTN\"\n",
    "standalone_parameters[\"lr\"] = 0.001\n",
    "standalone_parameters[\"device\"] = \"cuda\"\n",
    "\n",
    "standalone_parameters[\"seed\"] = 1337\n",
    "standalone_parameters[\"dataset_seed\"] = 1337\n",
    "\n",
    "standalone_parameters[\"n_way\"] = 8\n",
    "standalone_parameters[\"n_shot\"] = 3\n",
    "standalone_parameters[\"n_query\"]  = 2\n",
    "standalone_parameters[\"train_k_factor\"] = 1\n",
    "standalone_parameters[\"val_k_factor\"] = 2\n",
    "standalone_parameters[\"test_k_factor\"] = 2\n",
    "\n",
    "\n",
    "standalone_parameters[\"n_epoch\"] = 50\n",
    "\n",
    "standalone_parameters[\"patience\"] = 10\n",
    "standalone_parameters[\"criteria_for_best\"] = \"source_loss\"\n",
    "\n",
    "standalone_parameters[\"datasets\"] = [\n",
    "    {\n",
    "        \"labels\": ALL_SERIAL_NUMBERS,\n",
    "        \"domains\": ALL_DISTANCES_FEET_NARROWED,\n",
    "        \"num_examples_per_domain_per_label\": 100,\n",
    "        \"pickle_path\": os.path.join(get_datasets_base_path(), \"oracle.Run1_framed_2000Examples_stratified_ds.2022A.pkl\"),\n",
    "        \"source_or_target_dataset\": \"source\",\n",
    "        \"x_transforms\": [\"unit_mag\", \"minus_two\"],\n",
    "        \"episode_transforms\": [],\n",
    "        \"domain_prefix\": \"ORACLE_\"\n",
    "    },\n",
    "    {\n",
    "        \"labels\": ALL_NODES,\n",
    "        \"domains\": ALL_DAYS,\n",
    "        \"num_examples_per_domain_per_label\": 100,\n",
    "        \"pickle_path\": os.path.join(get_datasets_base_path(), \"cores.stratified_ds.2022A.pkl\"),\n",
    "        \"source_or_target_dataset\": \"target\",\n",
    "        \"x_transforms\": [\"unit_power\", \"times_zero\"],\n",
    "        \"episode_transforms\": [],\n",
    "        \"domain_prefix\": \"CORES_\"\n",
    "    }   \n",
    "]\n",
    "\n",
    "standalone_parameters[\"torch_default_dtype\"] = \"torch.float32\" \n",
    "\n",
    "\n",
    "\n",
    "standalone_parameters[\"x_net\"] =     [\n",
    "    {\"class\": \"nnReshape\", \"kargs\": {\"shape\":[-1, 1, 2, 256]}},\n",
    "    {\"class\": \"Conv2d\", \"kargs\": { \"in_channels\":1, \"out_channels\":256, \"kernel_size\":(1,7), \"bias\":False, \"padding\":(0,3), },},\n",
    "    {\"class\": \"ReLU\", \"kargs\": {\"inplace\": True}},\n",
    "    {\"class\": \"BatchNorm2d\", \"kargs\": {\"num_features\":256}},\n",
    "\n",
    "    {\"class\": \"Conv2d\", \"kargs\": { \"in_channels\":256, \"out_channels\":80, \"kernel_size\":(2,7), \"bias\":True, \"padding\":(0,3), },},\n",
    "    {\"class\": \"ReLU\", \"kargs\": {\"inplace\": True}},\n",
    "    {\"class\": \"BatchNorm2d\", \"kargs\": {\"num_features\":80}},\n",
    "    {\"class\": \"Flatten\", \"kargs\": {}},\n",
    "\n",
    "    {\"class\": \"Linear\", \"kargs\": {\"in_features\": 80*256, \"out_features\": 256}}, # 80 units per IQ pair\n",
    "    {\"class\": \"ReLU\", \"kargs\": {\"inplace\": True}},\n",
    "    {\"class\": \"BatchNorm1d\", \"kargs\": {\"num_features\":256}},\n",
    "\n",
    "    {\"class\": \"Linear\", \"kargs\": {\"in_features\": 256, \"out_features\": 256}},\n",
    "]\n",
    "\n",
    "# Parameters relevant to results\n",
    "# These parameters will basically never need to change\n",
    "standalone_parameters[\"NUM_LOGS_PER_EPOCH\"] = 10\n",
    "standalone_parameters[\"BEST_MODEL_PATH\"] = \"./best_model.pth\"\n",
    "\n",
    "\n",
    "\n",
    "\n"
   ]
  },
  {
   "cell_type": "code",
   "execution_count": 4,
   "id": "4c2e558b",
   "metadata": {
    "execution": {
     "iopub.execute_input": "2022-03-28T14:00:17.947825Z",
     "iopub.status.busy": "2022-03-28T14:00:17.947379Z",
     "iopub.status.idle": "2022-03-28T14:00:17.966978Z",
     "shell.execute_reply": "2022-03-28T14:00:17.966660Z"
    },
    "papermill": {
     "duration": 0.049131,
     "end_time": "2022-03-28T14:00:17.967049",
     "exception": false,
     "start_time": "2022-03-28T14:00:17.917918",
     "status": "completed"
    },
    "tags": [
     "injected-parameters"
    ]
   },
   "outputs": [],
   "source": [
    "# Parameters\n",
    "parameters = {\n",
    "    \"experiment_name\": \"tl_3-jitter5v2:cores -> oracle.run1.framed\",\n",
    "    \"device\": \"cuda\",\n",
    "    \"lr\": 0.0001,\n",
    "    \"x_shape\": [2, 256],\n",
    "    \"n_shot\": 3,\n",
    "    \"n_query\": 2,\n",
    "    \"train_k_factor\": 3,\n",
    "    \"val_k_factor\": 2,\n",
    "    \"test_k_factor\": 2,\n",
    "    \"torch_default_dtype\": \"torch.float32\",\n",
    "    \"n_epoch\": 50,\n",
    "    \"patience\": 3,\n",
    "    \"criteria_for_best\": \"target_accuracy\",\n",
    "    \"x_net\": [\n",
    "        {\"class\": \"nnReshape\", \"kargs\": {\"shape\": [-1, 1, 2, 256]}},\n",
    "        {\n",
    "            \"class\": \"Conv2d\",\n",
    "            \"kargs\": {\n",
    "                \"in_channels\": 1,\n",
    "                \"out_channels\": 256,\n",
    "                \"kernel_size\": [1, 7],\n",
    "                \"bias\": False,\n",
    "                \"padding\": [0, 3],\n",
    "            },\n",
    "        },\n",
    "        {\"class\": \"ReLU\", \"kargs\": {\"inplace\": True}},\n",
    "        {\"class\": \"BatchNorm2d\", \"kargs\": {\"num_features\": 256}},\n",
    "        {\n",
    "            \"class\": \"Conv2d\",\n",
    "            \"kargs\": {\n",
    "                \"in_channels\": 256,\n",
    "                \"out_channels\": 80,\n",
    "                \"kernel_size\": [2, 7],\n",
    "                \"bias\": True,\n",
    "                \"padding\": [0, 3],\n",
    "            },\n",
    "        },\n",
    "        {\"class\": \"ReLU\", \"kargs\": {\"inplace\": True}},\n",
    "        {\"class\": \"BatchNorm2d\", \"kargs\": {\"num_features\": 80}},\n",
    "        {\"class\": \"Flatten\", \"kargs\": {}},\n",
    "        {\"class\": \"Linear\", \"kargs\": {\"in_features\": 20480, \"out_features\": 256}},\n",
    "        {\"class\": \"ReLU\", \"kargs\": {\"inplace\": True}},\n",
    "        {\"class\": \"BatchNorm1d\", \"kargs\": {\"num_features\": 256}},\n",
    "        {\"class\": \"Linear\", \"kargs\": {\"in_features\": 256, \"out_features\": 256}},\n",
    "    ],\n",
    "    \"NUM_LOGS_PER_EPOCH\": 10,\n",
    "    \"BEST_MODEL_PATH\": \"./best_model.pth\",\n",
    "    \"n_way\": 16,\n",
    "    \"datasets\": [\n",
    "        {\n",
    "            \"labels\": [\n",
    "                \"1-10.\",\n",
    "                \"1-11.\",\n",
    "                \"1-15.\",\n",
    "                \"1-16.\",\n",
    "                \"1-17.\",\n",
    "                \"1-18.\",\n",
    "                \"1-19.\",\n",
    "                \"10-4.\",\n",
    "                \"10-7.\",\n",
    "                \"11-1.\",\n",
    "                \"11-14.\",\n",
    "                \"11-17.\",\n",
    "                \"11-20.\",\n",
    "                \"11-7.\",\n",
    "                \"13-20.\",\n",
    "                \"13-8.\",\n",
    "                \"14-10.\",\n",
    "                \"14-11.\",\n",
    "                \"14-14.\",\n",
    "                \"14-7.\",\n",
    "                \"15-1.\",\n",
    "                \"15-20.\",\n",
    "                \"16-1.\",\n",
    "                \"16-16.\",\n",
    "                \"17-10.\",\n",
    "                \"17-11.\",\n",
    "                \"17-2.\",\n",
    "                \"19-1.\",\n",
    "                \"19-16.\",\n",
    "                \"19-19.\",\n",
    "                \"19-20.\",\n",
    "                \"19-3.\",\n",
    "                \"2-10.\",\n",
    "                \"2-11.\",\n",
    "                \"2-17.\",\n",
    "                \"2-18.\",\n",
    "                \"2-20.\",\n",
    "                \"2-3.\",\n",
    "                \"2-4.\",\n",
    "                \"2-5.\",\n",
    "                \"2-6.\",\n",
    "                \"2-7.\",\n",
    "                \"2-8.\",\n",
    "                \"3-13.\",\n",
    "                \"3-18.\",\n",
    "                \"3-3.\",\n",
    "                \"4-1.\",\n",
    "                \"4-10.\",\n",
    "                \"4-11.\",\n",
    "                \"4-19.\",\n",
    "                \"5-5.\",\n",
    "                \"6-15.\",\n",
    "                \"7-10.\",\n",
    "                \"7-14.\",\n",
    "                \"8-18.\",\n",
    "                \"8-20.\",\n",
    "                \"8-3.\",\n",
    "                \"8-8.\",\n",
    "            ],\n",
    "            \"domains\": [1, 2, 3, 4, 5],\n",
    "            \"num_examples_per_domain_per_label\": -1,\n",
    "            \"pickle_path\": \"/root/csc500-main/datasets/cores.stratified_ds.2022A.pkl\",\n",
    "            \"source_or_target_dataset\": \"source\",\n",
    "            \"x_transforms\": [\n",
    "                \"unit_power\",\n",
    "                \"jitter_256_5\",\n",
    "                \"lowpass_+/-10MHz\",\n",
    "                \"take_200\",\n",
    "            ],\n",
    "            \"episode_transforms\": [],\n",
    "            \"domain_prefix\": \"C_\",\n",
    "        },\n",
    "        {\n",
    "            \"labels\": [\n",
    "                \"3123D52\",\n",
    "                \"3123D65\",\n",
    "                \"3123D79\",\n",
    "                \"3123D80\",\n",
    "                \"3123D54\",\n",
    "                \"3123D70\",\n",
    "                \"3123D7B\",\n",
    "                \"3123D89\",\n",
    "                \"3123D58\",\n",
    "                \"3123D76\",\n",
    "                \"3123D7D\",\n",
    "                \"3123EFE\",\n",
    "                \"3123D64\",\n",
    "                \"3123D78\",\n",
    "                \"3123D7E\",\n",
    "                \"3124E4A\",\n",
    "            ],\n",
    "            \"domains\": [32, 38, 8, 44, 14, 50, 20, 26],\n",
    "            \"num_examples_per_domain_per_label\": 2000,\n",
    "            \"pickle_path\": \"/root/csc500-main/datasets/oracle.Run1_framed_2000Examples_stratified_ds.2022A.pkl\",\n",
    "            \"source_or_target_dataset\": \"target\",\n",
    "            \"x_transforms\": [\n",
    "                \"unit_power\",\n",
    "                \"jitter_256_5\",\n",
    "                \"take_200\",\n",
    "                \"resample_20Msps_to_25Msps\",\n",
    "            ],\n",
    "            \"episode_transforms\": [],\n",
    "            \"domain_prefix\": \"O_\",\n",
    "        },\n",
    "    ],\n",
    "    \"seed\": 7,\n",
    "    \"dataset_seed\": 7,\n",
    "}\n"
   ]
  },
  {
   "cell_type": "code",
   "execution_count": 5,
   "id": "8fa1cc33",
   "metadata": {
    "execution": {
     "iopub.execute_input": "2022-03-28T14:00:18.010890Z",
     "iopub.status.busy": "2022-03-28T14:00:18.010464Z",
     "iopub.status.idle": "2022-03-28T14:00:18.027088Z",
     "shell.execute_reply": "2022-03-28T14:00:18.026769Z"
    },
    "papermill": {
     "duration": 0.039887,
     "end_time": "2022-03-28T14:00:18.027159",
     "exception": false,
     "start_time": "2022-03-28T14:00:17.987272",
     "status": "completed"
    },
    "tags": []
   },
   "outputs": [],
   "source": [
    "# Set this to True if you want to run this template directly\n",
    "STANDALONE = False\n",
    "if STANDALONE:\n",
    "    print(\"parameters not injected, running with standalone_parameters\")\n",
    "    parameters = standalone_parameters\n",
    "\n",
    "if not 'parameters' in locals() and not 'parameters' in globals():\n",
    "    raise Exception(\"Parameter injection failed\")\n",
    "\n",
    "#Use an easy dict for all the parameters\n",
    "p = EasyDict(parameters)\n",
    "\n",
    "if \"x_shape\" not in p:\n",
    "    p.x_shape = [2,256] # Default to this if we dont supply x_shape\n",
    "\n",
    "\n",
    "supplied_keys = set(p.keys())\n",
    "\n",
    "if  supplied_keys != required_parameters:\n",
    "    print(\"Parameters are incorrect\")\n",
    "    if len(supplied_keys - required_parameters)>0: print(\"Shouldn't have:\", str(supplied_keys - required_parameters))\n",
    "    if len(required_parameters - supplied_keys)>0: print(\"Need to have:\", str(required_parameters - supplied_keys))\n",
    "    raise RuntimeError(\"Parameters are incorrect\")"
   ]
  },
  {
   "cell_type": "code",
   "execution_count": 6,
   "id": "3a028d58",
   "metadata": {
    "execution": {
     "iopub.execute_input": "2022-03-28T14:00:18.069333Z",
     "iopub.status.busy": "2022-03-28T14:00:18.068965Z",
     "iopub.status.idle": "2022-03-28T14:00:18.086165Z",
     "shell.execute_reply": "2022-03-28T14:00:18.085466Z"
    },
    "papermill": {
     "duration": 0.039423,
     "end_time": "2022-03-28T14:00:18.086318",
     "exception": false,
     "start_time": "2022-03-28T14:00:18.046895",
     "status": "completed"
    },
    "tags": []
   },
   "outputs": [],
   "source": [
    "###################################\n",
    "# Set the RNGs and make it all deterministic\n",
    "###################################\n",
    "np.random.seed(p.seed)\n",
    "random.seed(p.seed)\n",
    "torch.manual_seed(p.seed)\n",
    "\n",
    "torch.use_deterministic_algorithms(True) "
   ]
  },
  {
   "cell_type": "code",
   "execution_count": 7,
   "id": "b691acf6",
   "metadata": {
    "execution": {
     "iopub.execute_input": "2022-03-28T14:00:18.134467Z",
     "iopub.status.busy": "2022-03-28T14:00:18.134100Z",
     "iopub.status.idle": "2022-03-28T14:00:18.151041Z",
     "shell.execute_reply": "2022-03-28T14:00:18.150334Z"
    },
    "papermill": {
     "duration": 0.039192,
     "end_time": "2022-03-28T14:00:18.151198",
     "exception": false,
     "start_time": "2022-03-28T14:00:18.112006",
     "status": "completed"
    },
    "tags": []
   },
   "outputs": [],
   "source": [
    "###########################################\n",
    "# The stratified datasets honor this\n",
    "###########################################\n",
    "torch.set_default_dtype(eval(p.torch_default_dtype))"
   ]
  },
  {
   "cell_type": "code",
   "execution_count": 8,
   "id": "b5fba671",
   "metadata": {
    "execution": {
     "iopub.execute_input": "2022-03-28T14:00:18.202195Z",
     "iopub.status.busy": "2022-03-28T14:00:18.201639Z",
     "iopub.status.idle": "2022-03-28T14:00:18.252688Z",
     "shell.execute_reply": "2022-03-28T14:00:18.251877Z"
    },
    "papermill": {
     "duration": 0.073667,
     "end_time": "2022-03-28T14:00:18.252847",
     "exception": false,
     "start_time": "2022-03-28T14:00:18.179180",
     "status": "completed"
    },
    "tags": []
   },
   "outputs": [],
   "source": [
    "###################################\n",
    "# Build the network(s)\n",
    "# Note: It's critical to do this AFTER setting the RNG\n",
    "###################################\n",
    "x_net = build_sequential(p.x_net)"
   ]
  },
  {
   "cell_type": "code",
   "execution_count": 9,
   "id": "5d7e61cc",
   "metadata": {
    "execution": {
     "iopub.execute_input": "2022-03-28T14:00:18.300360Z",
     "iopub.status.busy": "2022-03-28T14:00:18.299997Z",
     "iopub.status.idle": "2022-03-28T14:00:18.322847Z",
     "shell.execute_reply": "2022-03-28T14:00:18.322140Z"
    },
    "papermill": {
     "duration": 0.045424,
     "end_time": "2022-03-28T14:00:18.323003",
     "exception": false,
     "start_time": "2022-03-28T14:00:18.277579",
     "status": "completed"
    },
    "tags": []
   },
   "outputs": [],
   "source": [
    "start_time_secs = time.time()"
   ]
  },
  {
   "cell_type": "code",
   "execution_count": 10,
   "id": "c6b67dfd",
   "metadata": {
    "execution": {
     "iopub.execute_input": "2022-03-28T14:00:18.373719Z",
     "iopub.status.busy": "2022-03-28T14:00:18.373347Z",
     "iopub.status.idle": "2022-03-28T14:00:18.390773Z",
     "shell.execute_reply": "2022-03-28T14:00:18.390067Z"
    },
    "papermill": {
     "duration": 0.039965,
     "end_time": "2022-03-28T14:00:18.390929",
     "exception": false,
     "start_time": "2022-03-28T14:00:18.350964",
     "status": "completed"
    },
    "tags": []
   },
   "outputs": [],
   "source": [
    "p.domains_source = []\n",
    "p.domains_target = []\n",
    "\n",
    "\n",
    "train_original_source = []\n",
    "val_original_source   = []\n",
    "test_original_source  = []\n",
    "\n",
    "train_original_target = []\n",
    "val_original_target   = []\n",
    "test_original_target  = []"
   ]
  },
  {
   "cell_type": "code",
   "execution_count": 11,
   "id": "e3d9c3d3",
   "metadata": {
    "execution": {
     "iopub.execute_input": "2022-03-28T14:00:18.439144Z",
     "iopub.status.busy": "2022-03-28T14:00:18.438777Z",
     "iopub.status.idle": "2022-03-28T14:00:18.455760Z",
     "shell.execute_reply": "2022-03-28T14:00:18.455019Z"
    },
    "papermill": {
     "duration": 0.039228,
     "end_time": "2022-03-28T14:00:18.455918",
     "exception": false,
     "start_time": "2022-03-28T14:00:18.416690",
     "status": "completed"
    },
    "tags": []
   },
   "outputs": [],
   "source": [
    "# global_x_transform_func = lambda x: normalize(x.to(torch.get_default_dtype()), \"unit_power\") # unit_power, unit_mag\n",
    "# global_x_transform_func = lambda x: normalize(x, \"unit_power\") # unit_power, unit_mag"
   ]
  },
  {
   "cell_type": "code",
   "execution_count": 12,
   "id": "acb78fd2",
   "metadata": {
    "execution": {
     "iopub.execute_input": "2022-03-28T14:00:18.513059Z",
     "iopub.status.busy": "2022-03-28T14:00:18.512448Z",
     "iopub.status.idle": "2022-03-28T14:00:18.531769Z",
     "shell.execute_reply": "2022-03-28T14:00:18.531042Z"
    },
    "papermill": {
     "duration": 0.04873,
     "end_time": "2022-03-28T14:00:18.531925",
     "exception": false,
     "start_time": "2022-03-28T14:00:18.483195",
     "status": "completed"
    },
    "tags": []
   },
   "outputs": [],
   "source": [
    "def add_dataset(\n",
    "    labels,\n",
    "    domains,\n",
    "    pickle_path,\n",
    "    x_transforms,\n",
    "    episode_transforms,\n",
    "    domain_prefix,\n",
    "    num_examples_per_domain_per_label,\n",
    "    source_or_target_dataset:str,\n",
    "    iterator_seed=p.seed,\n",
    "    dataset_seed=p.dataset_seed,\n",
    "    n_shot=p.n_shot,\n",
    "    n_way=p.n_way,\n",
    "    n_query=p.n_query,\n",
    "    train_val_test_k_factors=(p.train_k_factor,p.val_k_factor,p.test_k_factor),\n",
    "):\n",
    "   \n",
    "    if x_transforms == []: x_transform = None\n",
    "    else: x_transform = get_chained_transform(x_transforms)\n",
    "    \n",
    "    if episode_transforms == []: episode_transform = None\n",
    "    else: raise Exception(\"episode_transforms not implemented\")\n",
    "    \n",
    "    episode_transform = lambda tup, _prefix=domain_prefix: (_prefix + str(tup[0]), tup[1])\n",
    "\n",
    "\n",
    "    eaf = Episodic_Accessor_Factory(\n",
    "        labels=labels,\n",
    "        domains=domains,\n",
    "        num_examples_per_domain_per_label=num_examples_per_domain_per_label,\n",
    "        iterator_seed=iterator_seed,\n",
    "        dataset_seed=dataset_seed,\n",
    "        n_shot=n_shot,\n",
    "        n_way=n_way,\n",
    "        n_query=n_query,\n",
    "        train_val_test_k_factors=train_val_test_k_factors,\n",
    "        pickle_path=pickle_path,\n",
    "        x_transform_func=x_transform,\n",
    "    )\n",
    "\n",
    "    train, val, test = eaf.get_train(), eaf.get_val(), eaf.get_test()\n",
    "    train = Lazy_Iterable_Wrapper(train, episode_transform)\n",
    "    val = Lazy_Iterable_Wrapper(val, episode_transform)\n",
    "    test = Lazy_Iterable_Wrapper(test, episode_transform)\n",
    "\n",
    "    if source_or_target_dataset==\"source\":\n",
    "        train_original_source.append(train)\n",
    "        val_original_source.append(val)\n",
    "        test_original_source.append(test)\n",
    "\n",
    "        p.domains_source.extend(\n",
    "            [domain_prefix + str(u) for u in domains]\n",
    "        )\n",
    "    elif source_or_target_dataset==\"target\":\n",
    "        train_original_target.append(train)\n",
    "        val_original_target.append(val)\n",
    "        test_original_target.append(test)\n",
    "        p.domains_target.extend(\n",
    "            [domain_prefix + str(u) for u in domains]\n",
    "        )\n",
    "    else:\n",
    "        raise Exception(f\"invalid source_or_target_dataset: {source_or_target_dataset}\")\n",
    "    "
   ]
  },
  {
   "cell_type": "code",
   "execution_count": 13,
   "id": "fe266617",
   "metadata": {
    "execution": {
     "iopub.execute_input": "2022-03-28T14:00:18.585849Z",
     "iopub.status.busy": "2022-03-28T14:00:18.585291Z",
     "iopub.status.idle": "2022-03-28T14:02:09.468365Z",
     "shell.execute_reply": "2022-03-28T14:02:09.467619Z"
    },
    "papermill": {
     "duration": 110.906916,
     "end_time": "2022-03-28T14:02:09.468552",
     "exception": false,
     "start_time": "2022-03-28T14:00:18.561636",
     "status": "completed"
    },
    "tags": []
   },
   "outputs": [],
   "source": [
    "for ds in p.datasets:\n",
    "    add_dataset(**ds)"
   ]
  },
  {
   "cell_type": "code",
   "execution_count": 14,
   "id": "b90d65ac",
   "metadata": {
    "execution": {
     "iopub.execute_input": "2022-03-28T14:02:09.518947Z",
     "iopub.status.busy": "2022-03-28T14:02:09.518190Z",
     "iopub.status.idle": "2022-03-28T14:02:09.542875Z",
     "shell.execute_reply": "2022-03-28T14:02:09.542167Z"
    },
    "papermill": {
     "duration": 0.048807,
     "end_time": "2022-03-28T14:02:09.543032",
     "exception": false,
     "start_time": "2022-03-28T14:02:09.494225",
     "status": "completed"
    },
    "tags": []
   },
   "outputs": [],
   "source": [
    "# from steves_utils.CORES.utils import (\n",
    "#     ALL_NODES,\n",
    "#     ALL_NODES_MINIMUM_1000_EXAMPLES,\n",
    "#     ALL_DAYS\n",
    "# )\n",
    "\n",
    "# add_dataset(\n",
    "#     labels=ALL_NODES,\n",
    "#     domains = ALL_DAYS,\n",
    "#     num_examples_per_domain_per_label=100,\n",
    "#     pickle_path=os.path.join(get_datasets_base_path(), \"cores.stratified_ds.2022A.pkl\"),\n",
    "#     source_or_target_dataset=\"target\",\n",
    "#     x_transform_func=global_x_transform_func,\n",
    "#     domain_modifier=lambda u: f\"cores_{u}\"\n",
    "# )"
   ]
  },
  {
   "cell_type": "code",
   "execution_count": 15,
   "id": "76db484d",
   "metadata": {
    "execution": {
     "iopub.execute_input": "2022-03-28T14:02:09.594670Z",
     "iopub.status.busy": "2022-03-28T14:02:09.594299Z",
     "iopub.status.idle": "2022-03-28T14:02:09.615945Z",
     "shell.execute_reply": "2022-03-28T14:02:09.615196Z"
    },
    "papermill": {
     "duration": 0.045184,
     "end_time": "2022-03-28T14:02:09.616101",
     "exception": false,
     "start_time": "2022-03-28T14:02:09.570917",
     "status": "completed"
    },
    "tags": []
   },
   "outputs": [],
   "source": [
    "# from steves_utils.ORACLE.utils_v2 import (\n",
    "#     ALL_DISTANCES_FEET,\n",
    "#     ALL_RUNS,\n",
    "#     ALL_SERIAL_NUMBERS,\n",
    "# )\n",
    "\n",
    "\n",
    "# add_dataset(\n",
    "#     labels=ALL_SERIAL_NUMBERS,\n",
    "#     domains = list(set(ALL_DISTANCES_FEET) - {2,62}),\n",
    "#     num_examples_per_domain_per_label=100,\n",
    "#     pickle_path=os.path.join(get_datasets_base_path(), \"oracle.Run2_framed_2000Examples_stratified_ds.2022A.pkl\"),\n",
    "#     source_or_target_dataset=\"source\",\n",
    "#     x_transform_func=global_x_transform_func,\n",
    "#     domain_modifier=lambda u: f\"oracle1_{u}\"\n",
    "# )\n"
   ]
  },
  {
   "cell_type": "code",
   "execution_count": 16,
   "id": "97dea9d2",
   "metadata": {
    "execution": {
     "iopub.execute_input": "2022-03-28T14:02:09.667222Z",
     "iopub.status.busy": "2022-03-28T14:02:09.666844Z",
     "iopub.status.idle": "2022-03-28T14:02:09.683019Z",
     "shell.execute_reply": "2022-03-28T14:02:09.683728Z"
    },
    "papermill": {
     "duration": 0.040431,
     "end_time": "2022-03-28T14:02:09.683910",
     "exception": false,
     "start_time": "2022-03-28T14:02:09.643479",
     "status": "completed"
    },
    "tags": []
   },
   "outputs": [],
   "source": [
    "# from steves_utils.ORACLE.utils_v2 import (\n",
    "#     ALL_DISTANCES_FEET,\n",
    "#     ALL_RUNS,\n",
    "#     ALL_SERIAL_NUMBERS,\n",
    "# )\n",
    "\n",
    "\n",
    "# add_dataset(\n",
    "#     labels=ALL_SERIAL_NUMBERS,\n",
    "#     domains = list(set(ALL_DISTANCES_FEET) - {2,62,56}),\n",
    "#     num_examples_per_domain_per_label=100,\n",
    "#     pickle_path=os.path.join(get_datasets_base_path(), \"oracle.Run2_framed_2000Examples_stratified_ds.2022A.pkl\"),\n",
    "#     source_or_target_dataset=\"source\",\n",
    "#     x_transform_func=global_x_transform_func,\n",
    "#     domain_modifier=lambda u: f\"oracle2_{u}\"\n",
    "# )"
   ]
  },
  {
   "cell_type": "code",
   "execution_count": 17,
   "id": "6f289866",
   "metadata": {
    "execution": {
     "iopub.execute_input": "2022-03-28T14:02:09.735061Z",
     "iopub.status.busy": "2022-03-28T14:02:09.734322Z",
     "iopub.status.idle": "2022-03-28T14:02:09.756965Z",
     "shell.execute_reply": "2022-03-28T14:02:09.756256Z"
    },
    "papermill": {
     "duration": 0.045719,
     "end_time": "2022-03-28T14:02:09.757120",
     "exception": false,
     "start_time": "2022-03-28T14:02:09.711401",
     "status": "completed"
    },
    "tags": []
   },
   "outputs": [],
   "source": [
    "# add_dataset(\n",
    "#     labels=list(range(19)),\n",
    "#     domains = [0,1,2],\n",
    "#     num_examples_per_domain_per_label=100,\n",
    "#     pickle_path=os.path.join(get_datasets_base_path(), \"metehan.stratified_ds.2022A.pkl\"),\n",
    "#     source_or_target_dataset=\"target\",\n",
    "#     x_transform_func=global_x_transform_func,\n",
    "#     domain_modifier=lambda u: f\"met_{u}\"\n",
    "# )"
   ]
  },
  {
   "cell_type": "code",
   "execution_count": 18,
   "id": "86a863c3",
   "metadata": {
    "execution": {
     "iopub.execute_input": "2022-03-28T14:02:09.808231Z",
     "iopub.status.busy": "2022-03-28T14:02:09.807858Z",
     "iopub.status.idle": "2022-03-28T14:02:09.834499Z",
     "shell.execute_reply": "2022-03-28T14:02:09.833789Z"
    },
    "papermill": {
     "duration": 0.05035,
     "end_time": "2022-03-28T14:02:09.834653",
     "exception": false,
     "start_time": "2022-03-28T14:02:09.784303",
     "status": "completed"
    },
    "tags": []
   },
   "outputs": [],
   "source": [
    "# # from steves_utils.wisig.utils import (\n",
    "# #     ALL_NODES_MINIMUM_100_EXAMPLES,\n",
    "# #     ALL_NODES_MINIMUM_500_EXAMPLES,\n",
    "# #     ALL_NODES_MINIMUM_1000_EXAMPLES,\n",
    "# #     ALL_DAYS\n",
    "# # )\n",
    "\n",
    "# import steves_utils.wisig.utils as wisig\n",
    "\n",
    "\n",
    "# add_dataset(\n",
    "#     labels=wisig.ALL_NODES_MINIMUM_100_EXAMPLES,\n",
    "#     domains = wisig.ALL_DAYS,\n",
    "#     num_examples_per_domain_per_label=100,\n",
    "#     pickle_path=os.path.join(get_datasets_base_path(), \"wisig.node3-19.stratified_ds.2022A.pkl\"),\n",
    "#     source_or_target_dataset=\"target\",\n",
    "#     x_transform_func=global_x_transform_func,\n",
    "#     domain_modifier=lambda u: f\"wisig_{u}\"\n",
    "# )"
   ]
  },
  {
   "cell_type": "code",
   "execution_count": 19,
   "id": "fd5442bc",
   "metadata": {
    "execution": {
     "iopub.execute_input": "2022-03-28T14:02:09.887736Z",
     "iopub.status.busy": "2022-03-28T14:02:09.887341Z",
     "iopub.status.idle": "2022-03-28T14:02:09.907020Z",
     "shell.execute_reply": "2022-03-28T14:02:09.906218Z"
    },
    "papermill": {
     "duration": 0.046449,
     "end_time": "2022-03-28T14:02:09.907173",
     "exception": false,
     "start_time": "2022-03-28T14:02:09.860724",
     "status": "completed"
    },
    "tags": []
   },
   "outputs": [],
   "source": [
    "###################################\n",
    "# Build the dataset\n",
    "###################################\n",
    "train_original_source = Iterable_Aggregator(train_original_source, p.seed)\n",
    "val_original_source = Iterable_Aggregator(val_original_source, p.seed)\n",
    "test_original_source = Iterable_Aggregator(test_original_source, p.seed)\n",
    "\n",
    "\n",
    "train_original_target = Iterable_Aggregator(train_original_target, p.seed)\n",
    "val_original_target = Iterable_Aggregator(val_original_target, p.seed)\n",
    "test_original_target = Iterable_Aggregator(test_original_target, p.seed)\n",
    "\n",
    "# For CNN We only use X and Y. And we only train on the source.\n",
    "# Properly form the data using a transform lambda and Lazy_Iterable_Wrapper. Finally wrap them in a dataloader\n",
    "\n",
    "transform_lambda = lambda ex: ex[1] # Original is (<domain>, <episode>) so we strip down to episode only\n",
    "\n",
    "train_processed_source = Lazy_Iterable_Wrapper(train_original_source, transform_lambda)\n",
    "val_processed_source   = Lazy_Iterable_Wrapper(val_original_source, transform_lambda)\n",
    "test_processed_source  = Lazy_Iterable_Wrapper(test_original_source, transform_lambda)\n",
    "\n",
    "train_processed_target = Lazy_Iterable_Wrapper(train_original_target, transform_lambda)\n",
    "val_processed_target   = Lazy_Iterable_Wrapper(val_original_target, transform_lambda)\n",
    "test_processed_target  = Lazy_Iterable_Wrapper(test_original_target, transform_lambda)\n",
    "\n",
    "datasets = EasyDict({\n",
    "    \"source\": {\n",
    "        \"original\": {\"train\":train_original_source, \"val\":val_original_source, \"test\":test_original_source},\n",
    "        \"processed\": {\"train\":train_processed_source, \"val\":val_processed_source, \"test\":test_processed_source}\n",
    "    },\n",
    "    \"target\": {\n",
    "        \"original\": {\"train\":train_original_target, \"val\":val_original_target, \"test\":test_original_target},\n",
    "        \"processed\": {\"train\":train_processed_target, \"val\":val_processed_target, \"test\":test_processed_target}\n",
    "    },\n",
    "})"
   ]
  },
  {
   "cell_type": "code",
   "execution_count": 20,
   "id": "5b3c01fc",
   "metadata": {
    "execution": {
     "iopub.execute_input": "2022-03-28T14:02:09.965043Z",
     "iopub.status.busy": "2022-03-28T14:02:09.964474Z",
     "iopub.status.idle": "2022-03-28T14:02:24.037321Z",
     "shell.execute_reply": "2022-03-28T14:02:24.036603Z"
    },
    "papermill": {
     "duration": 14.099956,
     "end_time": "2022-03-28T14:02:24.037503",
     "exception": false,
     "start_time": "2022-03-28T14:02:09.937547",
     "status": "completed"
    },
    "tags": []
   },
   "outputs": [
    {
     "name": "stdout",
     "output_type": "stream",
     "text": [
      "{'C_1', 'C_2', 'C_4', 'C_3', 'C_5'}\n"
     ]
    },
    {
     "name": "stdout",
     "output_type": "stream",
     "text": [
      "{'O_26', 'O_38', 'O_14', 'O_44', 'O_8', 'O_20', 'O_32', 'O_50'}\n"
     ]
    },
    {
     "name": "stdout",
     "output_type": "stream",
     "text": [
      "tensor([[[0., 0., 0.,  ..., 0., 0., 0.],\n",
      "         [0., 0., 0.,  ..., 0., 0., 0.]],\n",
      "\n",
      "        [[0., 0., 0.,  ..., 0., 0., 0.],\n",
      "         [0., 0., 0.,  ..., 0., 0., 0.]],\n",
      "\n",
      "        [[0., 0., 0.,  ..., 0., 0., 0.],\n",
      "         [0., 0., 0.,  ..., 0., 0., 0.]],\n",
      "\n",
      "        ...,\n",
      "\n",
      "        [[0., 0., 0.,  ..., 0., 0., 0.],\n",
      "         [0., 0., 0.,  ..., 0., 0., 0.]],\n",
      "\n",
      "        [[0., 0., 0.,  ..., 0., 0., 0.],\n",
      "         [0., 0., 0.,  ..., 0., 0., 0.]],\n",
      "\n",
      "        [[0., 0., 0.,  ..., 0., 0., 0.],\n",
      "         [0., 0., 0.,  ..., 0., 0., 0.]]])\n"
     ]
    }
   ],
   "source": [
    "from steves_utils.transforms import get_average_magnitude, get_average_power\n",
    "\n",
    "print(set([u for u,_ in val_original_source]))\n",
    "print(set([u for u,_ in val_original_target]))\n",
    "\n",
    "s_x, s_y, q_x, q_y, _ = next(iter(train_processed_source))\n",
    "print(s_x)\n",
    "\n",
    "# for ds in [\n",
    "#     train_processed_source,\n",
    "#     val_processed_source,\n",
    "#     test_processed_source,\n",
    "#     train_processed_target,\n",
    "#     val_processed_target,\n",
    "#     test_processed_target\n",
    "# ]:\n",
    "#     for s_x, s_y, q_x, q_y, _ in ds:\n",
    "#         for X in (s_x, q_x):\n",
    "#             for x in X:\n",
    "#                 assert np.isclose(get_average_magnitude(x.numpy()), 1.0)\n",
    "#                 assert np.isclose(get_average_power(x.numpy()), 1.0)\n",
    "                "
   ]
  },
  {
   "cell_type": "code",
   "execution_count": 21,
   "id": "bbdacba1",
   "metadata": {
    "execution": {
     "iopub.execute_input": "2022-03-28T14:02:24.094795Z",
     "iopub.status.busy": "2022-03-28T14:02:24.094414Z",
     "iopub.status.idle": "2022-03-28T14:02:24.271563Z",
     "shell.execute_reply": "2022-03-28T14:02:24.271158Z"
    },
    "papermill": {
     "duration": 0.205055,
     "end_time": "2022-03-28T14:02:24.271675",
     "exception": false,
     "start_time": "2022-03-28T14:02:24.066620",
     "status": "completed"
    },
    "tags": []
   },
   "outputs": [
    {
     "name": "stdout",
     "output_type": "stream",
     "text": [
      "(2, 256)\n"
     ]
    }
   ],
   "source": [
    "###################################\n",
    "# Build the model\n",
    "###################################\n",
    "# easfsl only wants a tuple for the shape\n",
    "model = Steves_Prototypical_Network(x_net, device=p.device, x_shape=tuple(p.x_shape))\n",
    "optimizer = Adam(params=model.parameters(), lr=p.lr)"
   ]
  },
  {
   "cell_type": "code",
   "execution_count": 22,
   "id": "22b39ac5",
   "metadata": {
    "execution": {
     "iopub.execute_input": "2022-03-28T14:02:24.323570Z",
     "iopub.status.busy": "2022-03-28T14:02:24.323166Z",
     "iopub.status.idle": "2022-03-28T14:26:53.743945Z",
     "shell.execute_reply": "2022-03-28T14:26:53.743603Z"
    },
    "papermill": {
     "duration": 1469.449205,
     "end_time": "2022-03-28T14:26:53.744031",
     "exception": false,
     "start_time": "2022-03-28T14:02:24.294826",
     "status": "completed"
    },
    "tags": []
   },
   "outputs": [
    {
     "name": "stdout",
     "output_type": "stream",
     "text": [
      "epoch: 1, [batch: 1 / 6316], examples_per_second: 34.0116, train_label_loss: 2.7360, \n"
     ]
    },
    {
     "name": "stdout",
     "output_type": "stream",
     "text": [
      "epoch: 1, [batch: 632 / 6316], examples_per_second: 3787.6860, train_label_loss: 0.0243, \n"
     ]
    },
    {
     "name": "stdout",
     "output_type": "stream",
     "text": [
      "epoch: 1, [batch: 1264 / 6316], examples_per_second: 3869.6050, train_label_loss: 0.0073, \n"
     ]
    },
    {
     "name": "stdout",
     "output_type": "stream",
     "text": [
      "epoch: 1, [batch: 1895 / 6316], examples_per_second: 3809.8145, train_label_loss: 0.0671, \n"
     ]
    },
    {
     "name": "stdout",
     "output_type": "stream",
     "text": [
      "epoch: 1, [batch: 2527 / 6316], examples_per_second: 3737.7482, train_label_loss: 0.0196, \n"
     ]
    },
    {
     "name": "stdout",
     "output_type": "stream",
     "text": [
      "epoch: 1, [batch: 3158 / 6316], examples_per_second: 3794.3286, train_label_loss: 0.0015, \n"
     ]
    },
    {
     "name": "stdout",
     "output_type": "stream",
     "text": [
      "epoch: 1, [batch: 3790 / 6316], examples_per_second: 3778.7647, train_label_loss: 0.0000, \n"
     ]
    },
    {
     "name": "stdout",
     "output_type": "stream",
     "text": [
      "epoch: 1, [batch: 4421 / 6316], examples_per_second: 3765.9885, train_label_loss: 0.0002, \n"
     ]
    },
    {
     "name": "stdout",
     "output_type": "stream",
     "text": [
      "epoch: 1, [batch: 5053 / 6316], examples_per_second: 3849.7263, train_label_loss: 0.0551, \n"
     ]
    },
    {
     "name": "stdout",
     "output_type": "stream",
     "text": [
      "epoch: 1, [batch: 5684 / 6316], examples_per_second: 3822.6868, train_label_loss: 0.0212, \n"
     ]
    },
    {
     "name": "stdout",
     "output_type": "stream",
     "text": [
      "=============================================================\n",
      "epoch: 1, source_val_acc_label: 0.9958, target_val_acc_label: 0.3558, source_val_label_loss: 0.0569, target_val_label_loss: 1.8231, \n",
      "=============================================================\n"
     ]
    },
    {
     "name": "stdout",
     "output_type": "stream",
     "text": [
      "New best\n"
     ]
    },
    {
     "name": "stdout",
     "output_type": "stream",
     "text": [
      "epoch: 2, [batch: 1 / 6296], examples_per_second: 4.6748, train_label_loss: 0.0000, \n"
     ]
    },
    {
     "name": "stdout",
     "output_type": "stream",
     "text": [
      "epoch: 2, [batch: 630 / 6296], examples_per_second: 3864.8962, train_label_loss: 0.0190, \n"
     ]
    },
    {
     "name": "stdout",
     "output_type": "stream",
     "text": [
      "epoch: 2, [batch: 1260 / 6296], examples_per_second: 3798.5221, train_label_loss: 0.0000, \n"
     ]
    },
    {
     "name": "stdout",
     "output_type": "stream",
     "text": [
      "epoch: 2, [batch: 1889 / 6296], examples_per_second: 3883.5213, train_label_loss: 0.0001, \n"
     ]
    },
    {
     "name": "stdout",
     "output_type": "stream",
     "text": [
      "epoch: 2, [batch: 2519 / 6296], examples_per_second: 3800.1478, train_label_loss: 0.0033, \n"
     ]
    },
    {
     "name": "stdout",
     "output_type": "stream",
     "text": [
      "epoch: 2, [batch: 3148 / 6296], examples_per_second: 3836.9285, train_label_loss: 0.0002, \n"
     ]
    },
    {
     "name": "stdout",
     "output_type": "stream",
     "text": [
      "epoch: 2, [batch: 3778 / 6296], examples_per_second: 3912.3817, train_label_loss: 0.0159, \n"
     ]
    },
    {
     "name": "stdout",
     "output_type": "stream",
     "text": [
      "epoch: 2, [batch: 4407 / 6296], examples_per_second: 3830.4622, train_label_loss: 0.0009, \n"
     ]
    },
    {
     "name": "stdout",
     "output_type": "stream",
     "text": [
      "epoch: 2, [batch: 5037 / 6296], examples_per_second: 3961.9245, train_label_loss: 0.0830, \n"
     ]
    },
    {
     "name": "stdout",
     "output_type": "stream",
     "text": [
      "epoch: 2, [batch: 5666 / 6296], examples_per_second: 3988.9509, train_label_loss: 0.0002, \n"
     ]
    },
    {
     "name": "stdout",
     "output_type": "stream",
     "text": [
      "=============================================================\n",
      "epoch: 2, source_val_acc_label: 0.9992, target_val_acc_label: 0.3635, source_val_label_loss: 0.0074, target_val_label_loss: 1.9604, \n",
      "=============================================================\n"
     ]
    },
    {
     "name": "stdout",
     "output_type": "stream",
     "text": [
      "New best\n"
     ]
    },
    {
     "name": "stdout",
     "output_type": "stream",
     "text": [
      "epoch: 3, [batch: 1 / 6299], examples_per_second: 4.7016, train_label_loss: 0.1311, \n"
     ]
    },
    {
     "name": "stdout",
     "output_type": "stream",
     "text": [
      "epoch: 3, [batch: 630 / 6299], examples_per_second: 3836.2519, train_label_loss: 0.0002, \n"
     ]
    },
    {
     "name": "stdout",
     "output_type": "stream",
     "text": [
      "epoch: 3, [batch: 1260 / 6299], examples_per_second: 3838.8196, train_label_loss: 0.0001, \n"
     ]
    },
    {
     "name": "stdout",
     "output_type": "stream",
     "text": [
      "epoch: 3, [batch: 1890 / 6299], examples_per_second: 3841.5858, train_label_loss: 0.0000, \n"
     ]
    },
    {
     "name": "stdout",
     "output_type": "stream",
     "text": [
      "epoch: 3, [batch: 2520 / 6299], examples_per_second: 3810.6438, train_label_loss: 0.0004, \n"
     ]
    },
    {
     "name": "stdout",
     "output_type": "stream",
     "text": [
      "epoch: 3, [batch: 3150 / 6299], examples_per_second: 3787.4702, train_label_loss: 0.0001, \n"
     ]
    },
    {
     "name": "stdout",
     "output_type": "stream",
     "text": [
      "epoch: 3, [batch: 3779 / 6299], examples_per_second: 3807.4999, train_label_loss: 0.0000, \n"
     ]
    },
    {
     "name": "stdout",
     "output_type": "stream",
     "text": [
      "epoch: 3, [batch: 4409 / 6299], examples_per_second: 3988.0449, train_label_loss: 0.0000, \n"
     ]
    },
    {
     "name": "stdout",
     "output_type": "stream",
     "text": [
      "epoch: 3, [batch: 5039 / 6299], examples_per_second: 3953.5822, train_label_loss: 0.0000, \n"
     ]
    },
    {
     "name": "stdout",
     "output_type": "stream",
     "text": [
      "epoch: 3, [batch: 5669 / 6299], examples_per_second: 4045.2311, train_label_loss: 0.0002, \n"
     ]
    },
    {
     "name": "stdout",
     "output_type": "stream",
     "text": [
      "=============================================================\n",
      "epoch: 3, source_val_acc_label: 0.9986, target_val_acc_label: 0.3352, source_val_label_loss: 0.0087, target_val_label_loss: 2.0871, \n",
      "=============================================================\n"
     ]
    },
    {
     "name": "stdout",
     "output_type": "stream",
     "text": [
      "epoch: 4, [batch: 1 / 6316], examples_per_second: 4.6807, train_label_loss: 0.0002, \n"
     ]
    },
    {
     "name": "stdout",
     "output_type": "stream",
     "text": [
      "epoch: 4, [batch: 632 / 6316], examples_per_second: 4028.2282, train_label_loss: 0.0004, \n"
     ]
    },
    {
     "name": "stdout",
     "output_type": "stream",
     "text": [
      "epoch: 4, [batch: 1264 / 6316], examples_per_second: 3990.1450, train_label_loss: 0.0002, \n"
     ]
    },
    {
     "name": "stdout",
     "output_type": "stream",
     "text": [
      "epoch: 4, [batch: 1895 / 6316], examples_per_second: 3982.5732, train_label_loss: 0.0002, \n"
     ]
    },
    {
     "name": "stdout",
     "output_type": "stream",
     "text": [
      "epoch: 4, [batch: 2527 / 6316], examples_per_second: 3794.7613, train_label_loss: 0.0097, \n"
     ]
    },
    {
     "name": "stdout",
     "output_type": "stream",
     "text": [
      "epoch: 4, [batch: 3158 / 6316], examples_per_second: 3838.0867, train_label_loss: 0.0001, \n"
     ]
    },
    {
     "name": "stdout",
     "output_type": "stream",
     "text": [
      "epoch: 4, [batch: 3790 / 6316], examples_per_second: 3929.7332, train_label_loss: 0.0003, \n"
     ]
    },
    {
     "name": "stdout",
     "output_type": "stream",
     "text": [
      "epoch: 4, [batch: 4421 / 6316], examples_per_second: 4029.9422, train_label_loss: 0.0001, \n"
     ]
    },
    {
     "name": "stdout",
     "output_type": "stream",
     "text": [
      "epoch: 4, [batch: 5053 / 6316], examples_per_second: 3960.0396, train_label_loss: 0.0000, \n"
     ]
    },
    {
     "name": "stdout",
     "output_type": "stream",
     "text": [
      "epoch: 4, [batch: 5684 / 6316], examples_per_second: 3891.0917, train_label_loss: 0.0238, \n"
     ]
    },
    {
     "name": "stdout",
     "output_type": "stream",
     "text": [
      "=============================================================\n",
      "epoch: 4, source_val_acc_label: 0.9992, target_val_acc_label: 0.3529, source_val_label_loss: 0.0084, target_val_label_loss: 2.0546, \n",
      "=============================================================\n"
     ]
    },
    {
     "name": "stdout",
     "output_type": "stream",
     "text": [
      "epoch: 5, [batch: 1 / 6313], examples_per_second: 4.4748, train_label_loss: 0.0000, \n"
     ]
    },
    {
     "name": "stdout",
     "output_type": "stream",
     "text": [
      "epoch: 5, [batch: 632 / 6313], examples_per_second: 3798.8926, train_label_loss: 0.0001, \n"
     ]
    },
    {
     "name": "stdout",
     "output_type": "stream",
     "text": [
      "epoch: 5, [batch: 1263 / 6313], examples_per_second: 3841.5060, train_label_loss: 0.0003, \n"
     ]
    },
    {
     "name": "stdout",
     "output_type": "stream",
     "text": [
      "epoch: 5, [batch: 1894 / 6313], examples_per_second: 3921.5340, train_label_loss: 0.0000, \n"
     ]
    },
    {
     "name": "stdout",
     "output_type": "stream",
     "text": [
      "epoch: 5, [batch: 2525 / 6313], examples_per_second: 4013.9375, train_label_loss: 0.0000, \n"
     ]
    },
    {
     "name": "stdout",
     "output_type": "stream",
     "text": [
      "epoch: 5, [batch: 3157 / 6313], examples_per_second: 3898.3096, train_label_loss: 0.0000, \n"
     ]
    },
    {
     "name": "stdout",
     "output_type": "stream",
     "text": [
      "epoch: 5, [batch: 3788 / 6313], examples_per_second: 3823.1734, train_label_loss: 0.0001, \n"
     ]
    },
    {
     "name": "stdout",
     "output_type": "stream",
     "text": [
      "epoch: 5, [batch: 4419 / 6313], examples_per_second: 3822.4182, train_label_loss: 0.0000, \n"
     ]
    },
    {
     "name": "stdout",
     "output_type": "stream",
     "text": [
      "epoch: 5, [batch: 5050 / 6313], examples_per_second: 3892.0759, train_label_loss: 0.0000, \n"
     ]
    },
    {
     "name": "stdout",
     "output_type": "stream",
     "text": [
      "epoch: 5, [batch: 5681 / 6313], examples_per_second: 3822.9687, train_label_loss: 0.0595, \n"
     ]
    },
    {
     "name": "stdout",
     "output_type": "stream",
     "text": [
      "=============================================================\n",
      "epoch: 5, source_val_acc_label: 0.9989, target_val_acc_label: 0.3320, source_val_label_loss: 0.0074, target_val_label_loss: 2.2456, \n",
      "=============================================================\n"
     ]
    },
    {
     "name": "stdout",
     "output_type": "stream",
     "text": [
      "epoch: 6, [batch: 1 / 6307], examples_per_second: 4.4446, train_label_loss: 0.0000, \n"
     ]
    },
    {
     "name": "stdout",
     "output_type": "stream",
     "text": [
      "epoch: 6, [batch: 631 / 6307], examples_per_second: 3790.4906, train_label_loss: 0.0000, \n"
     ]
    },
    {
     "name": "stdout",
     "output_type": "stream",
     "text": [
      "epoch: 6, [batch: 1262 / 6307], examples_per_second: 3967.8083, train_label_loss: 0.0767, \n"
     ]
    },
    {
     "name": "stdout",
     "output_type": "stream",
     "text": [
      "epoch: 6, [batch: 1892 / 6307], examples_per_second: 3924.4561, train_label_loss: 0.0000, \n"
     ]
    },
    {
     "name": "stdout",
     "output_type": "stream",
     "text": [
      "epoch: 6, [batch: 2523 / 6307], examples_per_second: 3830.1783, train_label_loss: 0.0002, \n"
     ]
    },
    {
     "name": "stdout",
     "output_type": "stream",
     "text": [
      "epoch: 6, [batch: 3154 / 6307], examples_per_second: 3886.1062, train_label_loss: 0.0000, \n"
     ]
    },
    {
     "name": "stdout",
     "output_type": "stream",
     "text": [
      "epoch: 6, [batch: 3784 / 6307], examples_per_second: 3915.8072, train_label_loss: 0.0000, \n"
     ]
    },
    {
     "name": "stdout",
     "output_type": "stream",
     "text": [
      "epoch: 6, [batch: 4415 / 6307], examples_per_second: 3840.7208, train_label_loss: 0.0000, \n"
     ]
    },
    {
     "name": "stdout",
     "output_type": "stream",
     "text": [
      "epoch: 6, [batch: 5045 / 6307], examples_per_second: 3893.7765, train_label_loss: 0.0000, \n"
     ]
    },
    {
     "name": "stdout",
     "output_type": "stream",
     "text": [
      "epoch: 6, [batch: 5676 / 6307], examples_per_second: 3921.6484, train_label_loss: 0.0000, \n"
     ]
    },
    {
     "name": "stdout",
     "output_type": "stream",
     "text": [
      "=============================================================\n",
      "epoch: 6, source_val_acc_label: 0.9993, target_val_acc_label: 0.3738, source_val_label_loss: 0.0077, target_val_label_loss: 1.9523, \n",
      "=============================================================\n"
     ]
    },
    {
     "name": "stdout",
     "output_type": "stream",
     "text": [
      "New best\n"
     ]
    },
    {
     "name": "stdout",
     "output_type": "stream",
     "text": [
      "epoch: 7, [batch: 1 / 6303], examples_per_second: 4.5323, train_label_loss: 0.0000, \n"
     ]
    },
    {
     "name": "stdout",
     "output_type": "stream",
     "text": [
      "epoch: 7, [batch: 631 / 6303], examples_per_second: 3772.8237, train_label_loss: 0.0000, \n"
     ]
    },
    {
     "name": "stdout",
     "output_type": "stream",
     "text": [
      "epoch: 7, [batch: 1261 / 6303], examples_per_second: 3864.1483, train_label_loss: 0.0005, \n"
     ]
    },
    {
     "name": "stdout",
     "output_type": "stream",
     "text": [
      "epoch: 7, [batch: 1891 / 6303], examples_per_second: 3916.2552, train_label_loss: 0.0000, \n"
     ]
    },
    {
     "name": "stdout",
     "output_type": "stream",
     "text": [
      "epoch: 7, [batch: 2521 / 6303], examples_per_second: 3867.7039, train_label_loss: 0.0000, \n"
     ]
    },
    {
     "name": "stdout",
     "output_type": "stream",
     "text": [
      "epoch: 7, [batch: 3152 / 6303], examples_per_second: 3919.3715, train_label_loss: 0.0000, \n"
     ]
    },
    {
     "name": "stdout",
     "output_type": "stream",
     "text": [
      "epoch: 7, [batch: 3782 / 6303], examples_per_second: 3853.0680, train_label_loss: 0.0000, \n"
     ]
    },
    {
     "name": "stdout",
     "output_type": "stream",
     "text": [
      "epoch: 7, [batch: 4412 / 6303], examples_per_second: 3792.3532, train_label_loss: 0.0000, \n"
     ]
    },
    {
     "name": "stdout",
     "output_type": "stream",
     "text": [
      "epoch: 7, [batch: 5042 / 6303], examples_per_second: 3815.6165, train_label_loss: 0.0000, \n"
     ]
    },
    {
     "name": "stdout",
     "output_type": "stream",
     "text": [
      "epoch: 7, [batch: 5672 / 6303], examples_per_second: 3980.6958, train_label_loss: 0.0000, \n"
     ]
    },
    {
     "name": "stdout",
     "output_type": "stream",
     "text": [
      "=============================================================\n",
      "epoch: 7, source_val_acc_label: 0.9986, target_val_acc_label: 0.3420, source_val_label_loss: 0.0087, target_val_label_loss: 2.1682, \n",
      "=============================================================\n"
     ]
    },
    {
     "name": "stdout",
     "output_type": "stream",
     "text": [
      "epoch: 8, [batch: 1 / 6292], examples_per_second: 4.5216, train_label_loss: 0.0000, \n"
     ]
    },
    {
     "name": "stdout",
     "output_type": "stream",
     "text": [
      "epoch: 8, [batch: 630 / 6292], examples_per_second: 3856.6413, train_label_loss: 0.0000, \n"
     ]
    },
    {
     "name": "stdout",
     "output_type": "stream",
     "text": [
      "epoch: 8, [batch: 1259 / 6292], examples_per_second: 3879.8613, train_label_loss: 0.0000, \n"
     ]
    },
    {
     "name": "stdout",
     "output_type": "stream",
     "text": [
      "epoch: 8, [batch: 1888 / 6292], examples_per_second: 3900.8312, train_label_loss: 0.0005, \n"
     ]
    },
    {
     "name": "stdout",
     "output_type": "stream",
     "text": [
      "epoch: 8, [batch: 2517 / 6292], examples_per_second: 3884.3800, train_label_loss: 0.0007, \n"
     ]
    },
    {
     "name": "stdout",
     "output_type": "stream",
     "text": [
      "epoch: 8, [batch: 3146 / 6292], examples_per_second: 3840.9809, train_label_loss: 0.0000, \n"
     ]
    },
    {
     "name": "stdout",
     "output_type": "stream",
     "text": [
      "epoch: 8, [batch: 3775 / 6292], examples_per_second: 3853.7582, train_label_loss: 0.0004, \n"
     ]
    },
    {
     "name": "stdout",
     "output_type": "stream",
     "text": [
      "epoch: 8, [batch: 4404 / 6292], examples_per_second: 3845.8377, train_label_loss: 0.0005, \n"
     ]
    },
    {
     "name": "stdout",
     "output_type": "stream",
     "text": [
      "epoch: 8, [batch: 5033 / 6292], examples_per_second: 3923.7899, train_label_loss: 0.0000, \n"
     ]
    },
    {
     "name": "stdout",
     "output_type": "stream",
     "text": [
      "epoch: 8, [batch: 5662 / 6292], examples_per_second: 3929.2011, train_label_loss: 0.0000, \n"
     ]
    },
    {
     "name": "stdout",
     "output_type": "stream",
     "text": [
      "=============================================================\n",
      "epoch: 8, source_val_acc_label: 0.9993, target_val_acc_label: 0.3540, source_val_label_loss: 0.0066, target_val_label_loss: 2.0287, \n",
      "=============================================================\n"
     ]
    },
    {
     "name": "stdout",
     "output_type": "stream",
     "text": [
      "epoch: 9, [batch: 1 / 6305], examples_per_second: 4.5015, train_label_loss: 0.0000, \n"
     ]
    },
    {
     "name": "stdout",
     "output_type": "stream",
     "text": [
      "epoch: 9, [batch: 631 / 6305], examples_per_second: 4157.7610, train_label_loss: 0.0000, \n"
     ]
    },
    {
     "name": "stdout",
     "output_type": "stream",
     "text": [
      "epoch: 9, [batch: 1261 / 6305], examples_per_second: 4382.6310, train_label_loss: 0.0000, \n"
     ]
    },
    {
     "name": "stdout",
     "output_type": "stream",
     "text": [
      "epoch: 9, [batch: 1892 / 6305], examples_per_second: 4351.7218, train_label_loss: 0.0145, \n"
     ]
    },
    {
     "name": "stdout",
     "output_type": "stream",
     "text": [
      "epoch: 9, [batch: 2522 / 6305], examples_per_second: 4119.9899, train_label_loss: 0.0009, \n"
     ]
    },
    {
     "name": "stdout",
     "output_type": "stream",
     "text": [
      "epoch: 9, [batch: 3153 / 6305], examples_per_second: 4123.4572, train_label_loss: 0.0000, \n"
     ]
    },
    {
     "name": "stdout",
     "output_type": "stream",
     "text": [
      "epoch: 9, [batch: 3783 / 6305], examples_per_second: 4320.6561, train_label_loss: 0.0000, \n"
     ]
    },
    {
     "name": "stdout",
     "output_type": "stream",
     "text": [
      "epoch: 9, [batch: 4413 / 6305], examples_per_second: 5182.4989, train_label_loss: 0.0000, \n"
     ]
    },
    {
     "name": "stdout",
     "output_type": "stream",
     "text": [
      "epoch: 9, [batch: 5044 / 6305], examples_per_second: 5133.9914, train_label_loss: 0.0000, \n"
     ]
    },
    {
     "name": "stdout",
     "output_type": "stream",
     "text": [
      "epoch: 9, [batch: 5674 / 6305], examples_per_second: 5057.8444, train_label_loss: 0.0000, \n"
     ]
    },
    {
     "name": "stdout",
     "output_type": "stream",
     "text": [
      "=============================================================\n",
      "epoch: 9, source_val_acc_label: 0.9994, target_val_acc_label: 0.3574, source_val_label_loss: 0.0071, target_val_label_loss: 2.0690, \n",
      "=============================================================\n"
     ]
    },
    {
     "name": "stdout",
     "output_type": "stream",
     "text": [
      "epoch: 10, [batch: 1 / 6298], examples_per_second: 5.3800, train_label_loss: 0.0000, \n"
     ]
    },
    {
     "name": "stdout",
     "output_type": "stream",
     "text": [
      "epoch: 10, [batch: 630 / 6298], examples_per_second: 4763.7319, train_label_loss: 0.0003, \n"
     ]
    },
    {
     "name": "stdout",
     "output_type": "stream",
     "text": [
      "epoch: 10, [batch: 1260 / 6298], examples_per_second: 4932.8664, train_label_loss: 0.0000, \n"
     ]
    },
    {
     "name": "stdout",
     "output_type": "stream",
     "text": [
      "epoch: 10, [batch: 1890 / 6298], examples_per_second: 4867.3209, train_label_loss: 0.0000, \n"
     ]
    },
    {
     "name": "stdout",
     "output_type": "stream",
     "text": [
      "epoch: 10, [batch: 2519 / 6298], examples_per_second: 4931.9646, train_label_loss: 0.0000, \n"
     ]
    },
    {
     "name": "stdout",
     "output_type": "stream",
     "text": [
      "epoch: 10, [batch: 3149 / 6298], examples_per_second: 4967.0685, train_label_loss: 0.0000, \n"
     ]
    },
    {
     "name": "stdout",
     "output_type": "stream",
     "text": [
      "epoch: 10, [batch: 3779 / 6298], examples_per_second: 4693.6009, train_label_loss: 0.0000, \n"
     ]
    },
    {
     "name": "stdout",
     "output_type": "stream",
     "text": [
      "epoch: 10, [batch: 4408 / 6298], examples_per_second: 4876.4653, train_label_loss: 0.0001, \n"
     ]
    },
    {
     "name": "stdout",
     "output_type": "stream",
     "text": [
      "epoch: 10, [batch: 5038 / 6298], examples_per_second: 5201.6950, train_label_loss: 0.0000, \n"
     ]
    },
    {
     "name": "stdout",
     "output_type": "stream",
     "text": [
      "epoch: 10, [batch: 5668 / 6298], examples_per_second: 5286.8901, train_label_loss: 0.0000, \n"
     ]
    },
    {
     "name": "stdout",
     "output_type": "stream",
     "text": [
      "=============================================================\n",
      "epoch: 10, source_val_acc_label: 0.9995, target_val_acc_label: 0.3485, source_val_label_loss: 0.0077, target_val_label_loss: 2.2842, \n",
      "=============================================================\n"
     ]
    },
    {
     "name": "stdout",
     "output_type": "stream",
     "text": [
      "Patience (3) exhausted\n"
     ]
    }
   ],
   "source": [
    "###################################\n",
    "# train\n",
    "###################################\n",
    "jig = PTN_Train_Eval_Test_Jig(model, p.BEST_MODEL_PATH, p.device)\n",
    "\n",
    "jig.train(\n",
    "    train_iterable=datasets.source.processed.train,\n",
    "    source_val_iterable=datasets.source.processed.val,\n",
    "    target_val_iterable=datasets.target.processed.val,\n",
    "    num_epochs=p.n_epoch,\n",
    "    num_logs_per_epoch=p.NUM_LOGS_PER_EPOCH,\n",
    "    patience=p.patience,\n",
    "    optimizer=optimizer,\n",
    "    criteria_for_best=p.criteria_for_best,\n",
    ")"
   ]
  },
  {
   "cell_type": "code",
   "execution_count": 23,
   "id": "31e8fabf",
   "metadata": {
    "execution": {
     "iopub.execute_input": "2022-03-28T14:26:53.854126Z",
     "iopub.status.busy": "2022-03-28T14:26:53.853250Z",
     "iopub.status.idle": "2022-03-28T14:26:53.887573Z",
     "shell.execute_reply": "2022-03-28T14:26:53.886856Z"
    },
    "papermill": {
     "duration": 0.09096,
     "end_time": "2022-03-28T14:26:53.887742",
     "exception": false,
     "start_time": "2022-03-28T14:26:53.796782",
     "status": "completed"
    },
    "tags": []
   },
   "outputs": [],
   "source": [
    "total_experiment_time_secs = time.time() - start_time_secs"
   ]
  },
  {
   "cell_type": "code",
   "execution_count": 24,
   "id": "87b9595b",
   "metadata": {
    "execution": {
     "iopub.execute_input": "2022-03-28T14:26:54.002482Z",
     "iopub.status.busy": "2022-03-28T14:26:54.001827Z",
     "iopub.status.idle": "2022-03-28T14:29:15.514699Z",
     "shell.execute_reply": "2022-03-28T14:29:15.513977Z"
    },
    "papermill": {
     "duration": 141.569325,
     "end_time": "2022-03-28T14:29:15.514879",
     "exception": false,
     "start_time": "2022-03-28T14:26:53.945554",
     "status": "completed"
    },
    "tags": []
   },
   "outputs": [],
   "source": [
    "###################################\n",
    "# Evaluate the model\n",
    "###################################\n",
    "source_test_label_accuracy, source_test_label_loss = jig.test(datasets.source.processed.test)\n",
    "target_test_label_accuracy, target_test_label_loss = jig.test(datasets.target.processed.test)\n",
    "\n",
    "source_val_label_accuracy, source_val_label_loss = jig.test(datasets.source.processed.val)\n",
    "target_val_label_accuracy, target_val_label_loss = jig.test(datasets.target.processed.val)\n",
    "\n",
    "history = jig.get_history()\n",
    "\n",
    "total_epochs_trained = len(history[\"epoch_indices\"])\n",
    "\n",
    "val_dl = Iterable_Aggregator((datasets.source.original.val,datasets.target.original.val))\n",
    "\n",
    "confusion = ptn_confusion_by_domain_over_dataloader(model, p.device, val_dl)\n",
    "per_domain_accuracy = per_domain_accuracy_from_confusion(confusion)\n",
    "\n",
    "# Add a key to per_domain_accuracy for if it was a source domain\n",
    "for domain, accuracy in per_domain_accuracy.items():\n",
    "    per_domain_accuracy[domain] = {\n",
    "        \"accuracy\": accuracy,\n",
    "        \"source?\": domain in p.domains_source\n",
    "    }\n",
    "\n",
    "# Do an independent accuracy assesment JUST TO BE SURE!\n",
    "# _source_test_label_accuracy = independent_accuracy_assesment(model, datasets.source.processed.test, p.device)\n",
    "# _target_test_label_accuracy = independent_accuracy_assesment(model, datasets.target.processed.test, p.device)\n",
    "# _source_val_label_accuracy = independent_accuracy_assesment(model, datasets.source.processed.val, p.device)\n",
    "# _target_val_label_accuracy = independent_accuracy_assesment(model, datasets.target.processed.val, p.device)\n",
    "\n",
    "# assert(_source_test_label_accuracy == source_test_label_accuracy)\n",
    "# assert(_target_test_label_accuracy == target_test_label_accuracy)\n",
    "# assert(_source_val_label_accuracy == source_val_label_accuracy)\n",
    "# assert(_target_val_label_accuracy == target_val_label_accuracy)\n",
    "\n",
    "experiment = {\n",
    "    \"experiment_name\": p.experiment_name,\n",
    "    \"parameters\": dict(p),\n",
    "    \"results\": {\n",
    "        \"source_test_label_accuracy\": source_test_label_accuracy,\n",
    "        \"source_test_label_loss\": source_test_label_loss,\n",
    "        \"target_test_label_accuracy\": target_test_label_accuracy,\n",
    "        \"target_test_label_loss\": target_test_label_loss,\n",
    "        \"source_val_label_accuracy\": source_val_label_accuracy,\n",
    "        \"source_val_label_loss\": source_val_label_loss,\n",
    "        \"target_val_label_accuracy\": target_val_label_accuracy,\n",
    "        \"target_val_label_loss\": target_val_label_loss,\n",
    "        \"total_epochs_trained\": total_epochs_trained,\n",
    "        \"total_experiment_time_secs\": total_experiment_time_secs,\n",
    "        \"confusion\": confusion,\n",
    "        \"per_domain_accuracy\": per_domain_accuracy,\n",
    "    },\n",
    "    \"history\": history,\n",
    "    \"dataset_metrics\": get_dataset_metrics(datasets, \"ptn\"),\n",
    "}"
   ]
  },
  {
   "cell_type": "code",
   "execution_count": 25,
   "id": "54a21829",
   "metadata": {
    "execution": {
     "iopub.execute_input": "2022-03-28T14:29:15.639209Z",
     "iopub.status.busy": "2022-03-28T14:29:15.638635Z",
     "iopub.status.idle": "2022-03-28T14:29:15.856061Z",
     "shell.execute_reply": "2022-03-28T14:29:15.855199Z"
    },
    "papermill": {
     "duration": 0.284029,
     "end_time": "2022-03-28T14:29:15.856231",
     "exception": false,
     "start_time": "2022-03-28T14:29:15.572202",
     "status": "completed"
    },
    "tags": []
   },
   "outputs": [
    {
     "data": {
      "image/png": "[encoded data removed]",
      "text/plain": [
       "<Figure size 1080x504 with 1 Axes>"
      ]
     },
     "metadata": {
      "needs_background": "light"
     },
     "output_type": "display_data"
    }
   ],
   "source": [
    "ax = get_loss_curve(experiment)\n",
    "plt.show()"
   ]
  },
  {
   "cell_type": "code",
   "execution_count": 26,
   "id": "fd8a0f60",
   "metadata": {
    "execution": {
     "iopub.execute_input": "2022-03-28T14:29:15.977017Z",
     "iopub.status.busy": "2022-03-28T14:29:15.976650Z",
     "iopub.status.idle": "2022-03-28T14:29:16.291244Z",
     "shell.execute_reply": "2022-03-28T14:29:16.291699Z"
    },
    "papermill": {
     "duration": 0.37395,
     "end_time": "2022-03-28T14:29:16.291848",
     "exception": false,
     "start_time": "2022-03-28T14:29:15.917898",
     "status": "completed"
    },
    "tags": []
   },
   "outputs": [
    {
     "data": {
      "text/plain": [
       "<AxesSubplot:title={'center':'Results'}>"
      ]
     },
     "execution_count": 26,
     "metadata": {},
     "output_type": "execute_result"
    },
    {
     "data": {
      "image/png": "[encoded data removed]",
      "text/plain": [
       "<Figure size 1080x504 with 1 Axes>"
      ]
     },
     "metadata": {
      "needs_background": "light"
     },
     "output_type": "display_data"
    }
   ],
   "source": [
    "get_results_table(experiment)"
   ]
  },
  {
   "cell_type": "code",
   "execution_count": 27,
   "id": "cf8dc689",
   "metadata": {
    "execution": {
     "iopub.execute_input": "2022-03-28T14:29:16.414171Z",
     "iopub.status.busy": "2022-03-28T14:29:16.413359Z",
     "iopub.status.idle": "2022-03-28T14:29:16.655568Z",
     "shell.execute_reply": "2022-03-28T14:29:16.655154Z"
    },
    "papermill": {
     "duration": 0.303977,
     "end_time": "2022-03-28T14:29:16.655668",
     "exception": false,
     "start_time": "2022-03-28T14:29:16.351691",
     "status": "completed"
    },
    "tags": []
   },
   "outputs": [
    {
     "data": {
      "text/plain": [
       "<AxesSubplot:title={'center':'Per Domain Validation Accuracy'}, xlabel='domain'>"
      ]
     },
     "execution_count": 27,
     "metadata": {},
     "output_type": "execute_result"
    },
    {
     "data": {
      "image/png": "[encoded data removed]",
      "text/plain": [
       "<Figure size 1080x504 with 1 Axes>"
      ]
     },
     "metadata": {
      "needs_background": "light"
     },
     "output_type": "display_data"
    }
   ],
   "source": [
    "get_domain_accuracies(experiment)"
   ]
  },
  {
   "cell_type": "code",
   "execution_count": 28,
   "id": "a74ae082",
   "metadata": {
    "execution": {
     "iopub.execute_input": "2022-03-28T14:29:16.775358Z",
     "iopub.status.busy": "2022-03-28T14:29:16.774972Z",
     "iopub.status.idle": "2022-03-28T14:29:16.800729Z",
     "shell.execute_reply": "2022-03-28T14:29:16.800344Z"
    },
    "papermill": {
     "duration": 0.08726,
     "end_time": "2022-03-28T14:29:16.800824",
     "exception": false,
     "start_time": "2022-03-28T14:29:16.713564",
     "status": "completed"
    },
    "tags": []
   },
   "outputs": [
    {
     "name": "stdout",
     "output_type": "stream",
     "text": [
      "Source Test Label Accuracy: 0.9991878531073446 Target Test Label Accuracy: 0.36712239583333334\n",
      "Source Val Label Accuracy: 0.9993214285714286 Target Val Label Accuracy: 0.373828125\n"
     ]
    }
   ],
   "source": [
    "print(\"Source Test Label Accuracy:\", experiment[\"results\"][\"source_test_label_accuracy\"], \"Target Test Label Accuracy:\", experiment[\"results\"][\"target_test_label_accuracy\"])\n",
    "print(\"Source Val Label Accuracy:\", experiment[\"results\"][\"source_val_label_accuracy\"], \"Target Val Label Accuracy:\", experiment[\"results\"][\"target_val_label_accuracy\"])"
   ]
  },
  {
   "cell_type": "code",
   "execution_count": 29,
   "id": "dacca602",
   "metadata": {
    "execution": {
     "iopub.execute_input": "2022-03-28T14:29:16.920914Z",
     "iopub.status.busy": "2022-03-28T14:29:16.920540Z",
     "iopub.status.idle": "2022-03-28T14:29:16.948101Z",
     "shell.execute_reply": "2022-03-28T14:29:16.947737Z"
    },
    "papermill": {
     "duration": 0.088759,
     "end_time": "2022-03-28T14:29:16.948193",
     "exception": false,
     "start_time": "2022-03-28T14:29:16.859434",
     "status": "completed"
    },
    "tags": [
     "experiment_json"
    ]
   },
   "outputs": [
    {
     "data": {
      "text/plain": [
       "'{\"experiment_name\": \"tl_3-jitter5v2:cores -> oracle.run1.framed\", \"parameters\": {\"experiment_name\": \"tl_3-jitter5v2:cores -> oracle.run1.framed\", \"device\": \"cuda\", \"lr\": 0.0001, \"x_shape\": [2, 256], \"n_shot\": 3, \"n_query\": 2, \"train_k_factor\": 3, \"val_k_factor\": 2, \"test_k_factor\": 2, \"torch_default_dtype\": \"torch.float32\", \"n_epoch\": 50, \"patience\": 3, \"criteria_for_best\": \"target_accuracy\", \"x_net\": [{\"class\": \"nnReshape\", \"kargs\": {\"shape\": [-1, 1, 2, 256]}}, {\"class\": \"Conv2d\", \"kargs\": {\"in_channels\": 1, \"out_channels\": 256, \"kernel_size\": [1, 7], \"bias\": false, \"padding\": [0, 3]}}, {\"class\": \"ReLU\", \"kargs\": {\"inplace\": true}}, {\"class\": \"BatchNorm2d\", \"kargs\": {\"num_features\": 256}}, {\"class\": \"Conv2d\", \"kargs\": {\"in_channels\": 256, \"out_channels\": 80, \"kernel_size\": [2, 7], \"bias\": true, \"padding\": [0, 3]}}, {\"class\": \"ReLU\", \"kargs\": {\"inplace\": true}}, {\"class\": \"BatchNorm2d\", \"kargs\": {\"num_features\": 80}}, {\"class\": \"Flatten\", \"kargs\": {}}, {\"class\": \"Linear\", \"kargs\": {\"in_features\": 20480, \"out_features\": 256}}, {\"class\": \"ReLU\", \"kargs\": {\"inplace\": true}}, {\"class\": \"BatchNorm1d\", \"kargs\": {\"num_features\": 256}}, {\"class\": \"Linear\", \"kargs\": {\"in_features\": 256, \"out_features\": 256}}], \"NUM_LOGS_PER_EPOCH\": 10, \"BEST_MODEL_PATH\": \"./best_model.pth\", \"n_way\": 16, \"datasets\": [{\"labels\": [\"1-10.\", \"1-11.\", \"1-15.\", \"1-16.\", \"1-17.\", \"1-18.\", \"1-19.\", \"10-4.\", \"10-7.\", \"11-1.\", \"11-14.\", \"11-17.\", \"11-20.\", \"11-7.\", \"13-20.\", \"13-8.\", \"14-10.\", \"14-11.\", \"14-14.\", \"14-7.\", \"15-1.\", \"15-20.\", \"16-1.\", \"16-16.\", \"17-10.\", \"17-11.\", \"17-2.\", \"19-1.\", \"19-16.\", \"19-19.\", \"19-20.\", \"19-3.\", \"2-10.\", \"2-11.\", \"2-17.\", \"2-18.\", \"2-20.\", \"2-3.\", \"2-4.\", \"2-5.\", \"2-6.\", \"2-7.\", \"2-8.\", \"3-13.\", \"3-18.\", \"3-3.\", \"4-1.\", \"4-10.\", \"4-11.\", \"4-19.\", \"5-5.\", \"6-15.\", \"7-10.\", \"7-14.\", \"8-18.\", \"8-20.\", \"8-3.\", \"8-8.\"], \"domains\": [1, 2, 3, 4, 5], \"num_examples_per_domain_per_label\": -1, \"pickle_path\": \"/root/csc500-main/datasets/cores.stratified_ds.2022A.pkl\", \"source_or_target_dataset\": \"source\", \"x_transforms\": [\"unit_power\", \"jitter_256_5\", \"lowpass_+/-10MHz\", \"take_200\"], \"episode_transforms\": [], \"domain_prefix\": \"C_\"}, {\"labels\": [\"3123D52\", \"3123D65\", \"3123D79\", \"3123D80\", \"3123D54\", \"3123D70\", \"3123D7B\", \"3123D89\", \"3123D58\", \"3123D76\", \"3123D7D\", \"3123EFE\", \"3123D64\", \"3123D78\", \"3123D7E\", \"3124E4A\"], \"domains\": [32, 38, 8, 44, 14, 50, 20, 26], \"num_examples_per_domain_per_label\": 2000, \"pickle_path\": \"/root/csc500-main/datasets/oracle.Run1_framed_2000Examples_stratified_ds.2022A.pkl\", \"source_or_target_dataset\": \"target\", \"x_transforms\": [\"unit_power\", \"jitter_256_5\", \"take_200\", \"resample_20Msps_to_25Msps\"], \"episode_transforms\": [], \"domain_prefix\": \"O_\"}], \"seed\": 7, \"dataset_seed\": 7, \"domains_source\": [\"C_1\", \"C_2\", \"C_3\", \"C_4\", \"C_5\"], \"domains_target\": [\"O_32\", \"O_38\", \"O_8\", \"O_44\", \"O_14\", \"O_50\", \"O_20\", \"O_26\"]}, \"results\": {\"source_test_label_accuracy\": 0.9991878531073446, \"source_test_label_loss\": 0.004445748403668404, \"target_test_label_accuracy\": 0.36712239583333334, \"target_test_label_loss\": 1.950568675994873, \"source_val_label_accuracy\": 0.9993214285714286, \"source_val_label_loss\": 0.007735843770205975, \"target_val_label_accuracy\": 0.373828125, \"target_val_label_loss\": 1.9523475170135498, \"total_epochs_trained\": 10, \"total_experiment_time_secs\": 1595.564287662506, \"confusion\": {\"C_5\": {\"26\": {\"26\": 24}, \"7\": {\"7\": 32}, \"56\": {\"56\": 142}, \"36\": {\"36\": 92}, \"47\": {\"47\": 100}, \"2\": {\"2\": 28}, \"15\": {\"15\": 152}, \"14\": {\"14\": 44}, \"27\": {\"27\": 146}, \"40\": {\"40\": 124}, \"49\": {\"49\": 36}, \"45\": {\"45\": 121, \"17\": 2, \"6\": 1}, \"46\": {\"46\": 136}, \"11\": {\"11\": 130}, \"30\": {\"30\": 112}, \"0\": {\"0\": 124}, \"10\": {\"10\": 68}, \"1\": {\"1\": 148}, \"42\": {\"42\": 38, \"10\": 1, \"3\": 1}, \"54\": {\"54\": 112}, \"55\": {\"55\": 152}, \"23\": {\"23\": 124}, \"25\": {\"25\": 152}, \"28\": {\"28\": 32}, \"32\": {\"32\": 32}, \"9\": {\"9\": 142}, \"39\": {\"39\": 20}, \"3\": {\"3\": 100}, \"29\": {\"29\": 118}, \"17\": {\"17\": 116}, \"35\": {\"35\": 36}, \"44\": {\"44\": 152}, \"5\": {\"5\": 128}, \"33\": {\"33\": 32}, \"34\": {\"34\": 36}, \"13\": {\"13\": 138}, \"41\": {\"41\": 28}, \"6\": {\"6\": 126, \"20\": 2}, \"51\": {\"51\": 138}, \"50\": {\"50\": 143, \"20\": 1}, \"37\": {\"37\": 24}, \"19\": {\"19\": 144}, \"57\": {\"57\": 132}, \"21\": {\"21\": 144}, \"24\": {\"24\": 80}, \"8\": {\"8\": 130}, \"12\": {\"12\": 96}, \"48\": {\"48\": 132}, \"43\": {\"43\": 150}, \"53\": {\"53\": 148}, \"38\": {\"38\": 32}, \"16\": {\"16\": 142}, \"22\": {\"22\": 28}, \"4\": {\"4\": 100}, \"18\": {\"18\": 64}, \"20\": {\"20\": 144}, \"52\": {\"52\": 140}, \"31\": {\"31\": 36}}, \"C_1\": {\"41\": {\"41\": 24}, \"40\": {\"40\": 110}, \"45\": {\"45\": 138}, \"51\": {\"51\": 148}, \"5\": {\"5\": 154}, \"30\": {\"30\": 120}, \"42\": {\"42\": 40}, \"46\": {\"46\": 136}, \"48\": {\"48\": 134}, \"53\": {\"53\": 144}, \"47\": {\"47\": 152}, \"49\": {\"49\": 32}, \"36\": {\"36\": 64}, \"32\": {\"32\": 32}, \"34\": {\"34\": 24}, \"29\": {\"29\": 140}, \"35\": {\"35\": 36}, \"3\": {\"3\": 134}, \"16\": {\"16\": 140}, \"26\": {\"26\": 24}, \"57\": {\"57\": 144}, \"44\": {\"44\": 128}, \"0\": {\"0\": 152}, \"4\": {\"4\": 132}, \"31\": {\"31\": 28}, \"11\": {\"11\": 140}, \"6\": {\"6\": 96}, \"54\": {\"54\": 104}, \"17\": {\"17\": 64}, \"20\": {\"20\": 128}, \"13\": {\"13\": 150}, \"33\": {\"33\": 32}, \"24\": {\"24\": 108}, \"52\": {\"52\": 132}, \"2\": {\"2\": 36}, \"19\": {\"19\": 156}, \"39\": {\"39\": 28}, \"8\": {\"8\": 140}, \"21\": {\"21\": 124}, \"10\": {\"10\": 96}, \"37\": {\"37\": 32}, \"25\": {\"25\": 144}, \"27\": {\"27\": 130}, \"23\": {\"23\": 136}, \"1\": {\"1\": 100}, \"50\": {\"50\": 152}, \"12\": {\"12\": 116}, \"18\": {\"18\": 72}, \"38\": {\"38\": 24}, \"14\": {\"14\": 24}, \"56\": {\"56\": 142}, \"55\": {\"55\": 160}, \"9\": {\"9\": 138}, \"15\": {\"15\": 146}, \"28\": {\"28\": 28}, \"7\": {\"7\": 28}, \"43\": {\"43\": 136}, \"22\": {\"22\": 136}}, \"C_3\": {\"1\": {\"1\": 100}, \"9\": {\"9\": 124}, \"22\": {\"22\": 136}, \"43\": {\"43\": 136}, \"49\": {\"49\": 20}, \"50\": {\"50\": 138}, \"53\": {\"53\": 136}, \"10\": {\"10\": 64}, \"48\": {\"48\": 116}, \"8\": {\"8\": 138}, \"31\": {\"31\": 28}, \"56\": {\"56\": 134}, \"25\": {\"25\": 142}, \"28\": {\"28\": 28}, \"38\": {\"38\": 28}, \"5\": {\"5\": 116}, \"12\": {\"12\": 92}, \"6\": {\"6\": 88}, \"19\": {\"19\": 152}, \"26\": {\"26\": 24}, \"32\": {\"32\": 28}, \"33\": {\"33\": 28}, \"3\": {\"3\": 118}, \"51\": {\"51\": 128}, \"16\": {\"16\": 138}, \"46\": {\"46\": 140}, \"7\": {\"7\": 36}, \"47\": {\"47\": 92}, \"39\": {\"39\": 16}, \"40\": {\"40\": 136}, \"14\": {\"14\": 39, \"0\": 1}, \"37\": {\"37\": 28}, \"2\": {\"2\": 32}, \"21\": {\"21\": 120}, \"35\": {\"35\": 28}, \"54\": {\"54\": 100}, \"52\": {\"52\": 116}, \"29\": {\"29\": 118}, \"20\": {\"20\": 132}, \"18\": {\"18\": 84}, \"11\": {\"11\": 142}, \"0\": {\"0\": 124}, \"36\": {\"36\": 100}, \"17\": {\"17\": 108}, \"30\": {\"30\": 114}, \"42\": {\"42\": 28}, \"45\": {\"45\": 59, \"33\": 1}, \"4\": {\"4\": 148}, \"23\": {\"23\": 134}, \"13\": {\"13\": 128}, \"15\": {\"15\": 128}, \"57\": {\"57\": 123, \"0\": 1}, \"27\": {\"27\": 134}, \"44\": {\"44\": 88}, \"34\": {\"34\": 32}, \"41\": {\"41\": 28}, \"24\": {\"24\": 104}, \"55\": {\"55\": 118}}, \"C_4\": {\"52\": {\"52\": 116}, \"6\": {\"6\": 112}, \"14\": {\"14\": 16}, \"49\": {\"49\": 20}, \"0\": {\"0\": 80}, \"46\": {\"46\": 155, \"15\": 1}, \"41\": {\"41\": 36}, \"24\": {\"24\": 56}, \"25\": {\"25\": 152}, \"40\": {\"40\": 138}, \"38\": {\"38\": 40}, \"13\": {\"13\": 152}, \"9\": {\"9\": 108}, \"45\": {\"45\": 96}, \"43\": {\"43\": 144}, \"10\": {\"10\": 130}, \"15\": {\"15\": 128}, \"39\": {\"39\": 20}, \"4\": {\"4\": 132}, \"53\": {\"53\": 132}, \"1\": {\"1\": 40}, \"28\": {\"28\": 32}, \"54\": {\"54\": 108}, \"21\": {\"21\": 132}, \"7\": {\"7\": 24}, \"8\": {\"8\": 136}, \"42\": {\"42\": 32}, \"11\": {\"11\": 104}, \"33\": {\"33\": 36}, \"27\": {\"27\": 142}, \"19\": {\"19\": 144}, \"2\": {\"2\": 36}, \"3\": {\"3\": 120}, \"57\": {\"57\": 100}, \"20\": {\"20\": 112}, \"23\": {\"23\": 128}, \"22\": {\"22\": 128}, \"29\": {\"29\": 124}, \"36\": {\"36\": 92}, \"51\": {\"51\": 132}, \"31\": {\"31\": 28}, \"12\": {\"12\": 92}, \"56\": {\"56\": 138}, \"5\": {\"5\": 108}, \"35\": {\"35\": 40}, \"17\": {\"17\": 80}, \"32\": {\"32\": 24}, \"47\": {\"47\": 120}, \"18\": {\"18\": 107, \"22\": 1}, \"26\": {\"26\": 24}, \"50\": {\"50\": 120, \"53\": 1, \"51\": 1}, \"55\": {\"55\": 124}, \"34\": {\"34\": 24}, \"30\": {\"30\": 44}, \"37\": {\"37\": 24}, \"44\": {\"44\": 132}, \"48\": {\"48\": 118}, \"16\": {\"16\": 96}}, \"C_2\": {\"11\": {\"11\": 130}, \"21\": {\"21\": 120}, \"19\": {\"19\": 140}, \"20\": {\"20\": 128}, \"9\": {\"9\": 140}, \"10\": {\"10\": 112}, \"37\": {\"37\": 36}, \"32\": {\"32\": 28}, \"3\": {\"3\": 92}, \"39\": {\"39\": 28}, \"45\": {\"45\": 128}, \"50\": {\"50\": 136}, \"40\": {\"40\": 140}, \"46\": {\"46\": 128}, \"12\": {\"12\": 92}, \"13\": {\"13\": 116}, \"47\": {\"15\": 2, \"47\": 130}, \"15\": {\"15\": 142}, \"54\": {\"54\": 108}, \"48\": {\"48\": 148}, \"23\": {\"23\": 142}, \"29\": {\"29\": 128}, \"38\": {\"38\": 20}, \"53\": {\"53\": 136}, \"27\": {\"27\": 150}, \"43\": {\"43\": 144}, \"35\": {\"35\": 32}, \"0\": {\"0\": 48}, \"52\": {\"52\": 124}, \"8\": {\"8\": 128}, \"24\": {\"24\": 96}, \"18\": {\"18\": 48}, \"25\": {\"25\": 148}, \"57\": {\"57\": 136}, \"55\": {\"55\": 134}, \"36\": {\"36\": 116}, \"17\": {\"17\": 104}, \"2\": {\"2\": 32}, \"34\": {\"34\": 28}, \"1\": {\"1\": 112}, \"51\": {\"51\": 136}, \"31\": {\"31\": 28}, \"49\": {\"49\": 24}, \"14\": {\"14\": 24}, \"33\": {\"33\": 28}, \"41\": {\"41\": 20}, \"28\": {\"28\": 28}, \"5\": {\"5\": 119, \"31\": 1}, \"16\": {\"16\": 150}, \"4\": {\"4\": 128}, \"22\": {\"22\": 136}, \"6\": {\"6\": 118}, \"30\": {\"30\": 123, \"18\": 1}, \"26\": {\"26\": 24}, \"56\": {\"56\": 142}, \"42\": {\"42\": 36}, \"44\": {\"44\": 100}, \"7\": {\"7\": 36}}, \"O_26\": {\"0\": {\"3\": 4, \"9\": 14, \"1\": 35, \"6\": 20, \"14\": 28, \"7\": 16, \"0\": 33, \"10\": 27, \"4\": 19, \"15\": 6, \"8\": 22, \"13\": 2, \"2\": 7, \"5\": 4, \"12\": 3}, \"4\": {\"0\": 25, \"1\": 30, \"4\": 28, \"5\": 5, \"14\": 30, \"10\": 30, \"6\": 16, \"3\": 9, \"8\": 21, \"7\": 15, \"9\": 17, \"12\": 2, \"2\": 7, \"15\": 4, \"13\": 1}, \"14\": {\"1\": 48, \"4\": 31, \"10\": 27, \"9\": 5, \"14\": 34, \"7\": 18, \"0\": 31, \"8\": 22, \"3\": 6, \"2\": 1, \"6\": 11, \"5\": 3, \"15\": 2, \"12\": 1}, \"12\": {\"12\": 193, \"0\": 4, \"6\": 17, \"10\": 4, \"11\": 13, \"4\": 3, \"14\": 2, \"9\": 3, \"1\": 1}, \"8\": {\"10\": 22, \"14\": 24, \"8\": 28, \"15\": 16, \"7\": 19, \"0\": 26, \"1\": 7, \"9\": 18, \"6\": 24, \"5\": 12, \"2\": 11, \"12\": 2, \"3\": 10, \"13\": 3, \"4\": 17, \"11\": 1}, \"7\": {\"2\": 29, \"4\": 34, \"5\": 13, \"7\": 34, \"15\": 17, \"3\": 30, \"8\": 15, \"14\": 12, \"1\": 8, \"0\": 11, \"10\": 9, \"13\": 3, \"9\": 19, \"6\": 6}, \"13\": {\"8\": 2, \"11\": 4, \"5\": 47, \"15\": 39, \"13\": 84, \"6\": 10, \"10\": 3, \"7\": 9, \"2\": 18, \"9\": 13, \"3\": 8, \"1\": 1, \"0\": 1, \"4\": 1}, \"5\": {\"13\": 52, \"15\": 38, \"9\": 15, \"2\": 26, \"5\": 54, \"11\": 1, \"6\": 8, \"3\": 13, \"8\": 10, \"4\": 3, \"1\": 2, \"10\": 5, \"7\": 11, \"0\": 2}, \"15\": {\"15\": 44, \"6\": 11, \"0\": 5, \"3\": 13, \"5\": 27, \"7\": 19, \"14\": 5, \"8\": 16, \"2\": 19, \"9\": 25, \"4\": 3, \"13\": 41, \"10\": 11, \"1\": 1}, \"10\": {\"1\": 24, \"14\": 33, \"5\": 5, \"0\": 25, \"8\": 25, \"4\": 21, \"7\": 8, \"10\": 35, \"9\": 10, \"15\": 13, \"6\": 27, \"12\": 5, \"2\": 5, \"3\": 3, \"13\": 1}, \"3\": {\"13\": 7, \"8\": 8, \"5\": 17, \"3\": 67, \"7\": 34, \"2\": 48, \"10\": 2, \"4\": 6, \"15\": 16, \"9\": 14, \"0\": 4, \"6\": 1, \"14\": 6, \"1\": 10}, \"9\": {\"7\": 19, \"6\": 33, \"4\": 15, \"8\": 17, \"13\": 16, \"15\": 20, \"10\": 13, \"14\": 9, \"5\": 23, \"9\": 31, \"0\": 10, \"12\": 4, \"3\": 10, \"2\": 15, \"1\": 5}, \"6\": {\"6\": 53, \"2\": 5, \"15\": 17, \"10\": 26, \"8\": 18, \"14\": 10, \"0\": 15, \"7\": 14, \"12\": 6, \"9\": 27, \"3\": 4, \"4\": 13, \"5\": 8, \"13\": 15, \"1\": 6, \"11\": 3}, \"1\": {\"1\": 44, \"10\": 24, \"8\": 21, \"14\": 39, \"4\": 39, \"9\": 10, \"7\": 13, \"0\": 20, \"3\": 11, \"6\": 10, \"2\": 7, \"13\": 1, \"15\": 1}, \"11\": {\"11\": 209, \"12\": 20, \"6\": 4, \"10\": 1, \"13\": 4, \"9\": 1, \"8\": 1}, \"2\": {\"5\": 25, \"3\": 45, \"2\": 47, \"9\": 13, \"8\": 15, \"7\": 28, \"0\": 4, \"15\": 15, \"13\": 15, \"14\": 6, \"4\": 9, \"10\": 5, \"6\": 7, \"1\": 6}}, \"O_44\": {\"1\": {\"10\": 36, \"1\": 53, \"3\": 64, \"9\": 1, \"12\": 58, \"2\": 23, \"7\": 5}, \"11\": {\"11\": 141, \"13\": 49, \"4\": 5, \"6\": 31, \"7\": 4, \"9\": 7, \"14\": 2, \"2\": 1}, \"3\": {\"12\": 35, \"3\": 132, \"1\": 51, \"10\": 15, \"7\": 3, \"4\": 1, \"2\": 3}, \"6\": {\"6\": 95, \"9\": 35, \"13\": 54, \"7\": 20, \"14\": 2, \"11\": 22, \"2\": 10, \"4\": 2}, \"7\": {\"13\": 11, \"2\": 52, \"10\": 13, \"9\": 48, \"6\": 14, \"11\": 2, \"12\": 2, \"7\": 85, \"4\": 5, \"3\": 6, \"1\": 2}, \"5\": {\"5\": 114, \"15\": 18, \"14\": 35, \"0\": 38, \"8\": 21, \"4\": 14}, \"2\": {\"2\": 79, \"7\": 60, \"10\": 47, \"6\": 7, \"9\": 14, \"1\": 18, \"3\": 8, \"12\": 7}, \"15\": {\"15\": 86, \"14\": 44, \"4\": 14, \"0\": 46, \"8\": 28, \"5\": 22}, \"10\": {\"10\": 101, \"1\": 45, \"12\": 41, \"9\": 1, \"2\": 37, \"3\": 11, \"7\": 4}, \"13\": {\"6\": 55, \"11\": 30, \"13\": 87, \"9\": 29, \"14\": 3, \"4\": 18, \"7\": 14, \"2\": 4}, \"8\": {\"15\": 22, \"0\": 72, \"5\": 16, \"8\": 124, \"4\": 2, \"14\": 4}, \"4\": {\"14\": 66, \"4\": 108, \"6\": 2, \"9\": 6, \"0\": 5, \"15\": 19, \"5\": 13, \"11\": 3, \"13\": 14, \"7\": 4}, \"9\": {\"6\": 30, \"13\": 41, \"2\": 15, \"9\": 77, \"7\": 58, \"11\": 9, \"3\": 3, \"1\": 2, \"10\": 1, \"4\": 3, \"14\": 1}, \"14\": {\"5\": 31, \"4\": 70, \"15\": 29, \"14\": 89, \"9\": 3, \"13\": 5, \"8\": 3, \"0\": 7, \"7\": 2, \"3\": 1}, \"0\": {\"4\": 3, \"15\": 35, \"8\": 83, \"0\": 69, \"5\": 34, \"14\": 16}, \"12\": {\"10\": 40, \"1\": 57, \"9\": 1, \"3\": 33, \"12\": 105, \"2\": 4}}, \"O_50\": {\"15\": {\"15\": 90, \"4\": 31, \"1\": 44, \"11\": 28, \"6\": 27, \"0\": 2, \"9\": 3, \"14\": 5, \"13\": 2, \"10\": 2, \"5\": 5, \"2\": 1}, \"4\": {\"4\": 50, \"1\": 52, \"5\": 20, \"15\": 36, \"7\": 21, \"6\": 29, \"14\": 5, \"13\": 17, \"10\": 2, \"11\": 4, \"2\": 3, \"0\": 1}, \"6\": {\"0\": 5, \"6\": 75, \"1\": 24, \"13\": 28, \"4\": 33, \"10\": 6, \"7\": 16, \"15\": 24, \"5\": 22, \"2\": 3, \"11\": 4}, \"2\": {\"2\": 150, \"0\": 67, \"14\": 11, \"5\": 2, \"1\": 5, \"4\": 2, \"9\": 1, \"10\": 2}, \"5\": {\"10\": 20, \"7\": 39, \"5\": 48, \"4\": 33, \"1\": 14, \"6\": 21, \"0\": 3, \"8\": 5, \"13\": 45, \"15\": 9, \"14\": 1, \"2\": 2}, \"9\": {\"11\": 43, \"14\": 31, \"9\": 115, \"12\": 48, \"15\": 3}, \"8\": {\"10\": 41, \"3\": 44, \"8\": 142, \"0\": 8, \"5\": 4, \"7\": 1}, \"12\": {\"14\": 54, \"12\": 137, \"9\": 42, \"11\": 5, \"15\": 1, \"2\": 1}, \"10\": {\"3\": 5, \"8\": 44, \"10\": 82, \"0\": 34, \"7\": 28, \"2\": 6, \"6\": 3, \"5\": 19, \"13\": 17, \"4\": 2}, \"1\": {\"6\": 31, \"4\": 30, \"2\": 5, \"15\": 55, \"1\": 77, \"5\": 9, \"11\": 15, \"13\": 6, \"0\": 8, \"10\": 2, \"14\": 1, \"9\": 1}, \"0\": {\"0\": 124, \"1\": 4, \"6\": 6, \"2\": 55, \"10\": 31, \"13\": 4, \"4\": 3, \"14\": 1, \"5\": 7, \"7\": 2, \"8\": 2, \"15\": 1}, \"3\": {\"8\": 62, \"3\": 171, \"10\": 6, \"7\": 1}, \"13\": {\"7\": 61, \"10\": 33, \"4\": 17, \"5\": 37, \"6\": 30, \"1\": 6, \"13\": 48, \"3\": 1, \"0\": 4, \"15\": 3}, \"11\": {\"14\": 39, \"11\": 96, \"9\": 54, \"15\": 27, \"12\": 7, \"4\": 9, \"1\": 7, \"2\": 1}, \"7\": {\"7\": 89, \"5\": 40, \"13\": 52, \"6\": 11, \"10\": 29, \"4\": 9, \"8\": 5, \"0\": 1, \"15\": 1, \"1\": 3}, \"14\": {\"14\": 136, \"12\": 30, \"6\": 2, \"9\": 22, \"15\": 4, \"2\": 18, \"1\": 5, \"11\": 21, \"0\": 2}}, \"O_38\": {\"15\": {\"5\": 15, \"8\": 17, \"10\": 25, \"13\": 52, \"15\": 70, \"1\": 27, \"6\": 2, \"11\": 2, \"2\": 21, \"7\": 3, \"0\": 5, \"14\": 1}, \"11\": {\"11\": 100, \"14\": 101, \"2\": 14, \"13\": 4, \"10\": 12, \"4\": 4, \"12\": 4, \"15\": 1}, \"10\": {\"10\": 93, \"7\": 9, \"14\": 7, \"8\": 31, \"12\": 7, \"13\": 24, \"0\": 17, \"11\": 12, \"15\": 21, \"2\": 11, \"4\": 3, \"5\": 3, \"1\": 2}, \"14\": {\"11\": 82, \"14\": 114, \"12\": 4, \"10\": 13, \"2\": 25, \"13\": 1, \"15\": 1}, \"6\": {\"6\": 103, \"9\": 69, \"0\": 7, \"3\": 12, \"5\": 29, \"13\": 1, \"15\": 1, \"1\": 12, \"7\": 5, \"8\": 1}, \"4\": {\"4\": 158, \"11\": 3, \"12\": 65, \"10\": 7, \"7\": 3, \"14\": 1, \"8\": 1, \"0\": 2}, \"13\": {\"5\": 9, \"1\": 25, \"13\": 63, \"8\": 18, \"15\": 58, \"2\": 35, \"10\": 25, \"0\": 3, \"7\": 1, \"14\": 1, \"11\": 1, \"6\": 1}, \"3\": {\"6\": 16, \"7\": 14, \"9\": 51, \"3\": 140, \"0\": 13, \"5\": 6}, \"7\": {\"5\": 30, \"0\": 44, \"7\": 92, \"10\": 10, \"6\": 5, \"1\": 2, \"8\": 41, \"3\": 12, \"15\": 2, \"9\": 2}, \"8\": {\"8\": 56, \"7\": 41, \"15\": 28, \"5\": 38, \"10\": 15, \"13\": 8, \"0\": 37, \"6\": 2, \"1\": 11, \"2\": 2, \"12\": 1, \"9\": 1}, \"1\": {\"1\": 118, \"15\": 32, \"6\": 23, \"13\": 28, \"5\": 20, \"8\": 9, \"10\": 2, \"0\": 2, \"9\": 4, \"2\": 2}, \"5\": {\"7\": 27, \"8\": 40, \"15\": 23, \"13\": 22, \"5\": 49, \"9\": 10, \"0\": 26, \"6\": 14, \"1\": 21, \"10\": 2, \"3\": 6}, \"0\": {\"7\": 52, \"3\": 17, \"15\": 7, \"0\": 59, \"13\": 10, \"8\": 45, \"9\": 3, \"5\": 28, \"10\": 10, \"1\": 1, \"4\": 2, \"12\": 2, \"6\": 4}, \"2\": {\"2\": 136, \"11\": 10, \"13\": 23, \"14\": 30, \"10\": 24, \"15\": 13, \"1\": 2, \"5\": 1, \"8\": 1}, \"12\": {\"4\": 54, \"12\": 166, \"11\": 9, \"14\": 7, \"10\": 4}, \"9\": {\"6\": 92, \"9\": 105, \"3\": 24, \"1\": 5, \"7\": 5, \"5\": 4, \"15\": 1, \"13\": 2, \"0\": 2}}, \"O_20\": {\"10\": {\"8\": 30, \"6\": 13, \"5\": 7, \"14\": 47, \"12\": 12, \"3\": 10, \"4\": 23, \"10\": 64, \"7\": 9, \"0\": 4, \"1\": 5, \"2\": 8, \"9\": 5, \"15\": 2, \"13\": 1}, \"7\": {\"15\": 11, \"3\": 10, \"7\": 41, \"8\": 11, \"2\": 33, \"14\": 12, \"5\": 7, \"4\": 8, \"12\": 13, \"10\": 9, \"9\": 25, \"11\": 7, \"0\": 9, \"13\": 15, \"6\": 21, \"1\": 8}, \"4\": {\"8\": 20, \"4\": 32, \"0\": 23, \"12\": 18, \"1\": 13, \"10\": 38, \"15\": 3, \"5\": 21, \"6\": 11, \"14\": 15, \"3\": 28, \"7\": 7, \"2\": 8, \"9\": 2, \"13\": 1}, \"13\": {\"6\": 7, \"10\": 1, \"7\": 19, \"13\": 60, \"12\": 8, \"8\": 6, \"2\": 32, \"15\": 24, \"1\": 16, \"3\": 9, \"11\": 14, \"0\": 11, \"9\": 24, \"5\": 8, \"4\": 1}, \"1\": {\"6\": 2, \"2\": 25, \"12\": 25, \"7\": 9, \"10\": 5, \"1\": 32, \"15\": 39, \"3\": 20, \"5\": 22, \"0\": 22, \"13\": 7, \"8\": 3, \"9\": 22, \"4\": 7}, \"0\": {\"13\": 9, \"15\": 33, \"0\": 46, \"4\": 20, \"9\": 11, \"14\": 6, \"12\": 25, \"5\": 26, \"3\": 13, \"8\": 12, \"1\": 24, \"7\": 6, \"2\": 4, \"10\": 5}, \"12\": {\"3\": 16, \"5\": 21, \"13\": 15, \"7\": 16, \"4\": 14, \"6\": 8, \"10\": 9, \"15\": 21, \"0\": 23, \"12\": 29, \"14\": 3, \"9\": 20, \"1\": 27, \"2\": 15, \"8\": 3}, \"5\": {\"15\": 24, \"3\": 27, \"13\": 6, \"5\": 27, \"11\": 2, \"2\": 13, \"10\": 14, \"4\": 16, \"1\": 28, \"0\": 35, \"12\": 25, \"7\": 6, \"6\": 2, \"9\": 10, \"8\": 5}, \"6\": {\"6\": 82, \"14\": 34, \"2\": 13, \"10\": 24, \"8\": 21, \"9\": 13, \"4\": 8, \"7\": 17, \"11\": 11, \"3\": 5, \"5\": 2, \"0\": 2, \"15\": 2, \"13\": 3, \"12\": 2, \"1\": 1}, \"2\": {\"12\": 17, \"6\": 3, \"7\": 34, \"9\": 29, \"3\": 23, \"2\": 39, \"0\": 13, \"15\": 12, \"8\": 11, \"4\": 4, \"11\": 5, \"13\": 26, \"1\": 11, \"5\": 10, \"10\": 3}, \"8\": {\"14\": 41, \"0\": 18, \"10\": 34, \"4\": 31, \"6\": 15, \"13\": 1, \"7\": 12, \"9\": 8, \"8\": 39, \"15\": 3, \"5\": 12, \"3\": 11, \"12\": 7, \"1\": 4, \"2\": 4}, \"11\": {\"11\": 176, \"15\": 3, \"13\": 22, \"2\": 10, \"7\": 13, \"6\": 6, \"1\": 1, \"12\": 3, \"14\": 1, \"9\": 4, \"0\": 1}, \"9\": {\"3\": 15, \"6\": 9, \"15\": 20, \"13\": 20, \"2\": 34, \"14\": 2, \"1\": 24, \"12\": 24, \"7\": 25, \"11\": 3, \"9\": 29, \"0\": 12, \"8\": 6, \"4\": 3, \"10\": 5, \"5\": 9}, \"14\": {\"14\": 74, \"8\": 39, \"10\": 49, \"7\": 6, \"4\": 17, \"2\": 5, \"6\": 37, \"5\": 2, \"12\": 3, \"3\": 3, \"0\": 3, \"1\": 1, \"13\": 1}, \"15\": {\"1\": 33, \"9\": 23, \"2\": 17, \"15\": 49, \"13\": 23, \"3\": 14, \"12\": 17, \"0\": 30, \"4\": 2, \"7\": 9, \"5\": 20, \"10\": 1, \"11\": 1, \"8\": 1}, \"3\": {\"5\": 27, \"7\": 10, \"10\": 13, \"12\": 26, \"8\": 13, \"0\": 17, \"3\": 29, \"2\": 21, \"9\": 20, \"1\": 18, \"13\": 7, \"4\": 12, \"14\": 7, \"15\": 17, \"11\": 2, \"6\": 1}}, \"O_14\": {\"14\": {\"4\": 6, \"3\": 20, \"10\": 9, \"2\": 35, \"14\": 81, \"6\": 40, \"0\": 18, \"5\": 6, \"13\": 22, \"11\": 2, \"7\": 1}, \"0\": {\"3\": 34, \"0\": 78, \"10\": 48, \"4\": 8, \"9\": 14, \"2\": 6, \"8\": 4, \"11\": 35, \"5\": 3, \"13\": 2, \"14\": 7, \"6\": 1}, \"4\": {\"2\": 26, \"10\": 5, \"5\": 33, \"1\": 18, \"4\": 73, \"3\": 37, \"13\": 9, \"7\": 3, \"14\": 8, \"6\": 6, \"0\": 9, \"15\": 6, \"8\": 7}, \"11\": {\"11\": 137, \"10\": 27, \"9\": 28, \"12\": 15, \"0\": 27, \"5\": 1, \"14\": 3, \"3\": 2}, \"13\": {\"6\": 66, \"13\": 79, \"14\": 40, \"10\": 12, \"2\": 20, \"4\": 9, \"0\": 3, \"15\": 1, \"11\": 1, \"3\": 6, \"5\": 2, \"7\": 1}, \"9\": {\"0\": 28, \"9\": 128, \"3\": 3, \"10\": 10, \"12\": 49, \"8\": 4, \"11\": 18}, \"3\": {\"4\": 49, \"3\": 61, \"2\": 31, \"13\": 6, \"1\": 7, \"6\": 7, \"5\": 26, \"0\": 19, \"11\": 3, \"14\": 20, \"10\": 11}, \"6\": {\"2\": 34, \"13\": 67, \"15\": 2, \"3\": 6, \"14\": 48, \"6\": 59, \"10\": 4, \"4\": 16, \"5\": 3, \"0\": 1}, \"1\": {\"7\": 15, \"15\": 14, \"5\": 42, \"1\": 114, \"2\": 3, \"3\": 5, \"8\": 31, \"4\": 15, \"6\": 1}, \"5\": {\"4\": 46, \"5\": 54, \"15\": 18, \"1\": 38, \"14\": 7, \"3\": 20, \"2\": 36, \"13\": 3, \"7\": 8, \"8\": 4, \"6\": 4, \"0\": 2}, \"12\": {\"12\": 172, \"9\": 55, \"11\": 10, \"0\": 3}, \"10\": {\"11\": 25, \"10\": 116, \"3\": 11, \"0\": 48, \"9\": 7, \"4\": 8, \"14\": 12, \"13\": 3, \"6\": 6, \"2\": 4}, \"8\": {\"8\": 184, \"5\": 9, \"0\": 3, \"1\": 29, \"3\": 8, \"9\": 3, \"12\": 1, \"14\": 1, \"4\": 2}, \"7\": {\"7\": 142, \"15\": 68, \"5\": 13, \"1\": 15, \"4\": 2}, \"15\": {\"15\": 141, \"1\": 14, \"7\": 53, \"13\": 1, \"2\": 4, \"5\": 23, \"6\": 2, \"4\": 2}, \"2\": {\"3\": 17, \"14\": 33, \"6\": 45, \"2\": 51, \"5\": 17, \"13\": 29, \"7\": 5, \"0\": 6, \"4\": 19, \"10\": 3, \"1\": 5, \"15\": 9, \"11\": 1}}, \"O_32\": {\"11\": {\"14\": 58, \"11\": 103, \"13\": 12, \"7\": 25, \"4\": 6, \"3\": 19, \"5\": 14, \"8\": 1, \"0\": 2}, \"1\": {\"1\": 195, \"10\": 45}, \"2\": {\"2\": 82, \"0\": 34, \"4\": 43, \"5\": 19, \"13\": 6, \"8\": 10, \"7\": 28, \"14\": 12, \"11\": 3, \"9\": 3}, \"0\": {\"5\": 16, \"0\": 69, \"2\": 34, \"4\": 33, \"11\": 4, \"9\": 3, \"8\": 43, \"7\": 11, \"13\": 16, \"14\": 9, \"3\": 2}, \"3\": {\"3\": 128, \"8\": 22, \"0\": 2, \"13\": 31, \"5\": 28, \"11\": 8, \"7\": 6, \"15\": 5, \"14\": 10}, \"8\": {\"8\": 94, \"4\": 7, \"0\": 36, \"2\": 5, \"13\": 32, \"5\": 27, \"3\": 19, \"15\": 16, \"7\": 2, \"14\": 1, \"11\": 1}, \"12\": {\"12\": 215, \"9\": 10, \"6\": 11, \"10\": 4}, \"5\": {\"3\": 28, \"4\": 29, \"8\": 19, \"7\": 24, \"0\": 21, \"5\": 42, \"2\": 17, \"13\": 36, \"14\": 14, \"11\": 9, \"15\": 1}, \"15\": {\"15\": 214, \"8\": 19, \"3\": 4, \"0\": 1, \"13\": 2}, \"7\": {\"11\": 16, \"7\": 49, \"13\": 18, \"5\": 36, \"14\": 40, \"2\": 29, \"4\": 27, \"0\": 18, \"3\": 4, \"8\": 3}, \"4\": {\"4\": 59, \"5\": 27, \"2\": 47, \"8\": 16, \"0\": 25, \"7\": 26, \"13\": 21, \"3\": 4, \"14\": 5, \"11\": 9, \"9\": 1}, \"14\": {\"0\": 14, \"11\": 62, \"14\": 65, \"7\": 35, \"8\": 7, \"13\": 16, \"4\": 12, \"2\": 12, \"5\": 9, \"3\": 8}, \"10\": {\"10\": 186, \"1\": 50, \"12\": 2, \"6\": 2}, \"6\": {\"6\": 223, \"9\": 3, \"10\": 5, \"1\": 1, \"12\": 8}, \"13\": {\"13\": 43, \"3\": 33, \"8\": 36, \"0\": 22, \"14\": 16, \"5\": 38, \"2\": 8, \"7\": 19, \"4\": 19, \"11\": 6}, \"9\": {\"9\": 207, \"12\": 24, \"0\": 1, \"2\": 6, \"5\": 1, \"4\": 1}}, \"O_8\": {\"9\": {\"9\": 235, \"0\": 2, \"10\": 1, \"5\": 2}, \"11\": {\"1\": 64, \"4\": 5, \"5\": 27, \"8\": 36, \"11\": 88, \"14\": 9, \"15\": 4, \"6\": 2, \"13\": 2, \"12\": 1, \"10\": 2}, \"8\": {\"3\": 5, \"15\": 37, \"6\": 15, \"11\": 20, \"14\": 14, \"8\": 84, \"1\": 19, \"13\": 7, \"7\": 6, \"5\": 2, \"4\": 9, \"12\": 14, \"10\": 6, \"0\": 1, \"2\": 1}, \"4\": {\"15\": 12, \"14\": 31, \"10\": 29, \"11\": 7, \"4\": 35, \"13\": 25, \"6\": 29, \"7\": 22, \"1\": 13, \"5\": 17, \"0\": 13, \"8\": 5, \"12\": 1, \"2\": 1}, \"13\": {\"10\": 23, \"13\": 54, \"0\": 42, \"4\": 27, \"14\": 23, \"6\": 26, \"7\": 19, \"2\": 5, \"15\": 6, \"8\": 5, \"1\": 2, \"5\": 7, \"11\": 1}, \"14\": {\"14\": 34, \"10\": 36, \"4\": 25, \"13\": 30, \"0\": 20, \"5\": 23, \"8\": 13, \"11\": 8, \"1\": 15, \"6\": 24, \"7\": 8, \"15\": 3, \"2\": 1}, \"2\": {\"3\": 75, \"7\": 23, \"15\": 20, \"2\": 83, \"12\": 17, \"4\": 2, \"6\": 11, \"0\": 6, \"10\": 1, \"13\": 2}, \"3\": {\"3\": 90, \"2\": 61, \"12\": 38, \"6\": 7, \"15\": 22, \"7\": 17, \"4\": 1, \"8\": 1, \"14\": 1, \"10\": 1, \"0\": 1}, \"1\": {\"5\": 35, \"1\": 75, \"15\": 4, \"8\": 15, \"13\": 5, \"14\": 25, \"11\": 44, \"10\": 12, \"4\": 14, \"0\": 3, \"6\": 7, \"7\": 1}, \"0\": {\"14\": 16, \"6\": 37, \"7\": 45, \"4\": 19, \"8\": 3, \"0\": 46, \"3\": 7, \"13\": 33, \"1\": 1, \"10\": 16, \"2\": 7, \"15\": 8, \"5\": 2}, \"5\": {\"5\": 112, \"6\": 2, \"4\": 7, \"14\": 33, \"10\": 30, \"1\": 30, \"11\": 14, \"8\": 4, \"13\": 6, \"0\": 2}, \"15\": {\"7\": 19, \"8\": 27, \"15\": 55, \"3\": 18, \"4\": 6, \"12\": 53, \"1\": 5, \"13\": 7, \"6\": 18, \"2\": 19, \"14\": 4, \"0\": 5, \"11\": 3, \"5\": 1}, \"10\": {\"14\": 36, \"4\": 21, \"1\": 12, \"6\": 20, \"13\": 38, \"10\": 35, \"5\": 40, \"11\": 5, \"7\": 8, \"0\": 21, \"15\": 3, \"8\": 1}, \"12\": {\"3\": 34, \"12\": 76, \"15\": 61, \"8\": 21, \"2\": 25, \"7\": 10, \"13\": 2, \"6\": 5, \"0\": 2, \"4\": 2, \"11\": 1, \"1\": 1}, \"6\": {\"0\": 24, \"2\": 11, \"13\": 22, \"10\": 18, \"14\": 19, \"7\": 39, \"5\": 6, \"4\": 25, \"6\": 34, \"15\": 17, \"3\": 5, \"8\": 11, \"1\": 4, \"12\": 2, \"11\": 3}, \"7\": {\"2\": 21, \"15\": 25, \"0\": 28, \"4\": 30, \"8\": 11, \"6\": 30, \"7\": 41, \"13\": 12, \"1\": 1, \"10\": 14, \"3\": 13, \"12\": 7, \"5\": 1, \"14\": 6}}}, \"per_domain_accuracy\": {\"C_5\": {\"accuracy\": 0.9986033519553073, \"source?\": true}, \"C_1\": {\"accuracy\": 1.0, \"source?\": true}, \"C_3\": {\"accuracy\": 0.9994485294117647, \"source?\": true}, \"C_4\": {\"accuracy\": 0.9992469879518072, \"source?\": true}, \"C_2\": {\"accuracy\": 0.9992897727272727, \"source?\": true}, \"O_26\": {\"accuracy\": 0.26510416666666664, \"source?\": false}, \"O_44\": {\"accuracy\": 0.40234375, \"source?\": false}, \"O_50\": {\"accuracy\": 0.4244791666666667, \"source?\": false}, \"O_38\": {\"accuracy\": 0.42239583333333336, \"source?\": false}, \"O_20\": {\"accuracy\": 0.22083333333333333, \"source?\": false}, \"O_14\": {\"accuracy\": 0.4348958333333333, \"source?\": false}, \"O_32\": {\"accuracy\": 0.5140625, \"source?\": false}, \"O_8\": {\"accuracy\": 0.3065104166666667, \"source?\": false}}}, \"history\": {\"epoch_indices\": [1, 2, 3, 4, 5, 6, 7, 8, 9, 10], \"train_label_loss\": [0.04646209415395761, 0.012262478924821522, 0.008892248682493964, 0.008368784961969017, 0.005102400783272674, 0.0043351533716877565, 0.0036460739283875844, 0.0034411904074253884, 0.0038748539081940284, 0.0025770500471763618], \"source_val_label_loss\": [0.05689149722456932, 0.007422968279570341, 0.008673403412103653, 0.008435312658548355, 0.007383613847196102, 0.007735843770205975, 0.008690942078828812, 0.006588482763618231, 0.007062411867082119, 0.007716424763202667], \"target_val_label_loss\": [1.8230650424957275, 1.960426688194275, 2.087111234664917, 2.054593086242676, 2.2456107139587402, 1.9523475170135498, 2.168177843093872, 2.0287013053894043, 2.068950891494751, 2.284170389175415], \"source_val_acc_label\": [0.9958214285714285, 0.99925, 0.9985714285714286, 0.9991785714285715, 0.9989285714285714, 0.9993214285714286, 0.9986071428571428, 0.9992857142857143, 0.9994285714285714, 0.9994642857142857], \"target_val_acc_label\": [0.3557942708333333, 0.3634765625, 0.33518880208333335, 0.3528645833333333, 0.33203125, 0.373828125, 0.3419596354166667, 0.35403645833333336, 0.35738932291666664, 0.3485026041666667]}, \"dataset_metrics\": {\"source\": {\"train\": {\"n_unique_x\": 175229, \"n_unique_y\": 58, \"n_batch/episode\": 6323}, \"val\": {\"n_unique_x\": 37151, \"n_unique_y\": 58, \"n_batch/episode\": 875}, \"test\": {\"n_unique_x\": 37548, \"n_unique_y\": 58, \"n_batch/episode\": 885}}, \"target\": {\"train\": {\"n_unique_x\": 179200, \"n_unique_y\": 16, \"n_batch/episode\": 6720}, \"val\": {\"n_unique_x\": 38400, \"n_unique_y\": 16, \"n_batch/episode\": 960}, \"test\": {\"n_unique_x\": 38400, \"n_unique_y\": 16, \"n_batch/episode\": 960}}}}'"
      ]
     },
     "execution_count": 29,
     "metadata": {},
     "output_type": "execute_result"
    }
   ],
   "source": [
    "json.dumps(experiment)"
   ]
  }
 ],
 "metadata": {
  "celltoolbar": "Tags",
  "kernelspec": {
   "display_name": "Python 3 (ipykernel)",
   "language": "python",
   "name": "python3"
  },
  "language_info": {
   "codemirror_mode": {
    "name": "ipython",
    "version": 3
   },
   "file_extension": ".py",
   "mimetype": "text/x-python",
   "name": "python",
   "nbconvert_exporter": "python",
   "pygments_lexer": "ipython3",
   "version": "3.8.12"
  },
  "papermill": {
   "default_parameters": {},
   "duration": 1744.538091,
   "end_time": "2022-03-28T14:29:19.619385",
   "environment_variables": {},
   "exception": null,
   "input_path": "/root/csc500-main/csc500-notebooks/templates/tl_ptn_template.ipynb",
   "output_path": "trial.ipynb",
   "parameters": {
    "parameters": {
     "BEST_MODEL_PATH": "./best_model.pth",
     "NUM_LOGS_PER_EPOCH": 10,
     "criteria_for_best": "target_accuracy",
     "dataset_seed": 7,
     "datasets": [
      {
       "domain_prefix": "C_",
       "domains": [
        1,
        2,
        3,
        4,
        5
       ],
       "episode_transforms": [],
       "labels": [
        "1-10.",
        "1-11.",
        "1-15.",
        "1-16.",
        "1-17.",
        "1-18.",
        "1-19.",
        "10-4.",
        "10-7.",
        "11-1.",
        "11-14.",
        "11-17.",
        "11-20.",
        "11-7.",
        "13-20.",
        "13-8.",
        "14-10.",
        "14-11.",
        "14-14.",
        "14-7.",
        "15-1.",
        "15-20.",
        "16-1.",
        "16-16.",
        "17-10.",
        "17-11.",
        "17-2.",
        "19-1.",
        "19-16.",
        "19-19.",
        "19-20.",
        "19-3.",
        "2-10.",
        "2-11.",
        "2-17.",
        "2-18.",
        "2-20.",
        "2-3.",
        "2-4.",
        "2-5.",
        "2-6.",
        "2-7.",
        "2-8.",
        "3-13.",
        "3-18.",
        "3-3.",
        "4-1.",
        "4-10.",
        "4-11.",
        "4-19.",
        "5-5.",
        "6-15.",
        "7-10.",
        "7-14.",
        "8-18.",
        "8-20.",
        "8-3.",
        "8-8."
       ],
       "num_examples_per_domain_per_label": -1,
       "pickle_path": "/root/csc500-main/datasets/cores.stratified_ds.2022A.pkl",
       "source_or_target_dataset": "source",
       "x_transforms": [
        "unit_power",
        "jitter_256_5",
        "lowpass_+/-10MHz",
        "take_200"
       ]
      },
      {
       "domain_prefix": "O_",
       "domains": [
        32,
        38,
        8,
        44,
        14,
        50,
        20,
        26
       ],
       "episode_transforms": [],
       "labels": [
        "3123D52",
        "3123D65",
        "3123D79",
        "3123D80",
        "3123D54",
        "3123D70",
        "3123D7B",
        "3123D89",
        "3123D58",
        "3123D76",
        "3123D7D",
        "3123EFE",
        "3123D64",
        "3123D78",
        "3123D7E",
        "3124E4A"
       ],
       "num_examples_per_domain_per_label": 2000,
       "pickle_path": "/root/csc500-main/datasets/oracle.Run1_framed_2000Examples_stratified_ds.2022A.pkl",
       "source_or_target_dataset": "target",
       "x_transforms": [
        "unit_power",
        "jitter_256_5",
        "take_200",
        "resample_20Msps_to_25Msps"
       ]
      }
     ],
     "device": "cuda",
     "experiment_name": "tl_3-jitter5v2:cores -> oracle.run1.framed",
     "lr": 0.0001,
     "n_epoch": 50,
     "n_query": 2,
     "n_shot": 3,
     "n_way": 16,
     "patience": 3,
     "seed": 7,
     "test_k_factor": 2,
     "torch_default_dtype": "torch.float32",
     "train_k_factor": 3,
     "val_k_factor": 2,
     "x_net": [
      {
       "class": "nnReshape",
       "kargs": {
        "shape": [
         -1,
         1,
         2,
         256
        ]
       }
      },
      {
       "class": "Conv2d",
       "kargs": {
        "bias": false,
        "in_channels": 1,
        "kernel_size": [
         1,
         7
        ],
        "out_channels": 256,
        "padding": [
         0,
         3
        ]
       }
      },
      {
       "class": "ReLU",
       "kargs": {
        "inplace": true
       }
      },
      {
       "class": "BatchNorm2d",
       "kargs": {
        "num_features": 256
       }
      },
      {
       "class": "Conv2d",
       "kargs": {
        "bias": true,
        "in_channels": 256,
        "kernel_size": [
         2,
         7
        ],
        "out_channels": 80,
        "padding": [
         0,
         3
        ]
       }
      },
      {
       "class": "ReLU",
       "kargs": {
        "inplace": true
       }
      },
      {
       "class": "BatchNorm2d",
       "kargs": {
        "num_features": 80
       }
      },
      {
       "class": "Flatten",
       "kargs": {}
      },
      {
       "class": "Linear",
       "kargs": {
        "in_features": 20480,
        "out_features": 256
       }
      },
      {
       "class": "ReLU",
       "kargs": {
        "inplace": true
       }
      },
      {
       "class": "BatchNorm1d",
       "kargs": {
        "num_features": 256
       }
      },
      {
       "class": "Linear",
       "kargs": {
        "in_features": 256,
        "out_features": 256
       }
      }
     ],
     "x_shape": [
      2,
      256
     ]
    }
   },
   "start_time": "2022-03-28T14:00:15.081294",
   "version": "2.3.4"
  }
 },
 "nbformat": 4,
 "nbformat_minor": 5
}