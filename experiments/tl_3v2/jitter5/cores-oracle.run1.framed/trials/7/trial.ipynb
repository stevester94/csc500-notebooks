{
 "cells": [
  {
   "cell_type": "markdown",
   "id": "9fea5f46",
   "metadata": {
    "papermill": {
     "duration": 0.029288,
     "end_time": "2022-03-28T13:30:54.529115",
     "exception": false,
     "start_time": "2022-03-28T13:30:54.499827",
     "status": "completed"
    },
    "tags": []
   },
   "source": [
    "# Transfer Learning Template"
   ]
  },
  {
   "cell_type": "code",
   "execution_count": 1,
   "id": "0902182a",
   "metadata": {
    "execution": {
     "iopub.execute_input": "2022-03-28T13:30:54.590988Z",
     "iopub.status.busy": "2022-03-28T13:30:54.590148Z",
     "iopub.status.idle": "2022-03-28T13:30:56.412915Z",
     "shell.execute_reply": "2022-03-28T13:30:56.412464Z"
    },
    "papermill": {
     "duration": 1.86431,
     "end_time": "2022-03-28T13:30:56.413021",
     "exception": false,
     "start_time": "2022-03-28T13:30:54.548711",
     "status": "completed"
    },
    "tags": []
   },
   "outputs": [],
   "source": [
    "%load_ext autoreload\n",
    "%autoreload 2\n",
    "%matplotlib inline\n",
    "\n",
    "    \n",
    "import os, json, sys, time, random\n",
    "import numpy as np\n",
    "import torch\n",
    "from torch.optim import Adam\n",
    "from  easydict import EasyDict\n",
    "import matplotlib.pyplot as plt\n",
    "\n",
    "from steves_models.steves_ptn import Steves_Prototypical_Network\n",
    "\n",
    "from steves_utils.lazy_iterable_wrapper import Lazy_Iterable_Wrapper\n",
    "from steves_utils.iterable_aggregator import Iterable_Aggregator\n",
    "from steves_utils.ptn_train_eval_test_jig import  PTN_Train_Eval_Test_Jig\n",
    "from steves_utils.torch_sequential_builder import build_sequential\n",
    "from steves_utils.torch_utils import get_dataset_metrics, ptn_confusion_by_domain_over_dataloader\n",
    "from steves_utils.utils_v2 import (per_domain_accuracy_from_confusion, get_datasets_base_path)\n",
    "from steves_utils.PTN.utils import independent_accuracy_assesment\n",
    "\n",
    "from torch.utils.data import DataLoader\n",
    "\n",
    "from steves_utils.stratified_dataset.episodic_accessor import Episodic_Accessor_Factory\n",
    "\n",
    "from steves_utils.ptn_do_report import (\n",
    "    get_loss_curve,\n",
    "    get_results_table,\n",
    "    get_parameters_table,\n",
    "    get_domain_accuracies,\n",
    ")\n",
    "\n",
    "from steves_utils.transforms import get_chained_transform"
   ]
  },
  {
   "cell_type": "markdown",
   "id": "41c840b4",
   "metadata": {
    "papermill": {
     "duration": 0.01959,
     "end_time": "2022-03-28T13:30:56.456161",
     "exception": false,
     "start_time": "2022-03-28T13:30:56.436571",
     "status": "completed"
    },
    "tags": []
   },
   "source": [
    "# Allowed Parameters\n",
    "These are allowed parameters, not defaults\n",
    "Each of these values need to be present in the injected parameters (the notebook will raise an exception if they are not present)\n",
    "\n",
    "Papermill uses the cell tag \"parameters\" to inject the real parameters below this cell.\n",
    "Enable tags to see what I mean"
   ]
  },
  {
   "cell_type": "code",
   "execution_count": 2,
   "id": "fd44eb83",
   "metadata": {
    "execution": {
     "iopub.execute_input": "2022-03-28T13:30:56.500337Z",
     "iopub.status.busy": "2022-03-28T13:30:56.499951Z",
     "iopub.status.idle": "2022-03-28T13:30:56.524275Z",
     "shell.execute_reply": "2022-03-28T13:30:56.523551Z"
    },
    "papermill": {
     "duration": 0.049014,
     "end_time": "2022-03-28T13:30:56.524446",
     "exception": false,
     "start_time": "2022-03-28T13:30:56.475432",
     "status": "completed"
    },
    "tags": []
   },
   "outputs": [],
   "source": [
    "required_parameters = {\n",
    "    \"experiment_name\",\n",
    "    \"lr\",\n",
    "    \"device\",\n",
    "    \"seed\",\n",
    "    \"dataset_seed\",\n",
    "    \"n_shot\",\n",
    "    \"n_query\",\n",
    "    \"n_way\",\n",
    "    \"train_k_factor\",\n",
    "    \"val_k_factor\",\n",
    "    \"test_k_factor\",\n",
    "    \"n_epoch\",\n",
    "    \"patience\",\n",
    "    \"criteria_for_best\",\n",
    "    \"x_net\",\n",
    "    \"datasets\",\n",
    "    \"torch_default_dtype\",\n",
    "    \"NUM_LOGS_PER_EPOCH\",\n",
    "    \"BEST_MODEL_PATH\",\n",
    "    \"x_shape\",\n",
    "}"
   ]
  },
  {
   "cell_type": "code",
   "execution_count": 3,
   "id": "fa3f0049",
   "metadata": {
    "execution": {
     "iopub.execute_input": "2022-03-28T13:30:56.584160Z",
     "iopub.status.busy": "2022-03-28T13:30:56.581696Z",
     "iopub.status.idle": "2022-03-28T13:30:56.607315Z",
     "shell.execute_reply": "2022-03-28T13:30:56.606593Z"
    },
    "papermill": {
     "duration": 0.058676,
     "end_time": "2022-03-28T13:30:56.607484",
     "exception": false,
     "start_time": "2022-03-28T13:30:56.548808",
     "status": "completed"
    },
    "tags": [
     "parameters"
    ]
   },
   "outputs": [],
   "source": [
    "from steves_utils.CORES.utils import (\n",
    "    ALL_NODES,\n",
    "    ALL_NODES_MINIMUM_1000_EXAMPLES,\n",
    "    ALL_DAYS\n",
    ")\n",
    "\n",
    "from steves_utils.ORACLE.utils_v2 import (\n",
    "    ALL_DISTANCES_FEET_NARROWED,\n",
    "    ALL_RUNS,\n",
    "    ALL_SERIAL_NUMBERS,\n",
    ")\n",
    "\n",
    "standalone_parameters = {}\n",
    "standalone_parameters[\"experiment_name\"] = \"STANDALONE PTN\"\n",
    "standalone_parameters[\"lr\"] = 0.001\n",
    "standalone_parameters[\"device\"] = \"cuda\"\n",
    "\n",
    "standalone_parameters[\"seed\"] = 1337\n",
    "standalone_parameters[\"dataset_seed\"] = 1337\n",
    "\n",
    "standalone_parameters[\"n_way\"] = 8\n",
    "standalone_parameters[\"n_shot\"] = 3\n",
    "standalone_parameters[\"n_query\"]  = 2\n",
    "standalone_parameters[\"train_k_factor\"] = 1\n",
    "standalone_parameters[\"val_k_factor\"] = 2\n",
    "standalone_parameters[\"test_k_factor\"] = 2\n",
    "\n",
    "\n",
    "standalone_parameters[\"n_epoch\"] = 50\n",
    "\n",
    "standalone_parameters[\"patience\"] = 10\n",
    "standalone_parameters[\"criteria_for_best\"] = \"source_loss\"\n",
    "\n",
    "standalone_parameters[\"datasets\"] = [\n",
    "    {\n",
    "        \"labels\": ALL_SERIAL_NUMBERS,\n",
    "        \"domains\": ALL_DISTANCES_FEET_NARROWED,\n",
    "        \"num_examples_per_domain_per_label\": 100,\n",
    "        \"pickle_path\": os.path.join(get_datasets_base_path(), \"oracle.Run1_framed_2000Examples_stratified_ds.2022A.pkl\"),\n",
    "        \"source_or_target_dataset\": \"source\",\n",
    "        \"x_transforms\": [\"unit_mag\", \"minus_two\"],\n",
    "        \"episode_transforms\": [],\n",
    "        \"domain_prefix\": \"ORACLE_\"\n",
    "    },\n",
    "    {\n",
    "        \"labels\": ALL_NODES,\n",
    "        \"domains\": ALL_DAYS,\n",
    "        \"num_examples_per_domain_per_label\": 100,\n",
    "        \"pickle_path\": os.path.join(get_datasets_base_path(), \"cores.stratified_ds.2022A.pkl\"),\n",
    "        \"source_or_target_dataset\": \"target\",\n",
    "        \"x_transforms\": [\"unit_power\", \"times_zero\"],\n",
    "        \"episode_transforms\": [],\n",
    "        \"domain_prefix\": \"CORES_\"\n",
    "    }   \n",
    "]\n",
    "\n",
    "standalone_parameters[\"torch_default_dtype\"] = \"torch.float32\" \n",
    "\n",
    "\n",
    "\n",
    "standalone_parameters[\"x_net\"] =     [\n",
    "    {\"class\": \"nnReshape\", \"kargs\": {\"shape\":[-1, 1, 2, 256]}},\n",
    "    {\"class\": \"Conv2d\", \"kargs\": { \"in_channels\":1, \"out_channels\":256, \"kernel_size\":(1,7), \"bias\":False, \"padding\":(0,3), },},\n",
    "    {\"class\": \"ReLU\", \"kargs\": {\"inplace\": True}},\n",
    "    {\"class\": \"BatchNorm2d\", \"kargs\": {\"num_features\":256}},\n",
    "\n",
    "    {\"class\": \"Conv2d\", \"kargs\": { \"in_channels\":256, \"out_channels\":80, \"kernel_size\":(2,7), \"bias\":True, \"padding\":(0,3), },},\n",
    "    {\"class\": \"ReLU\", \"kargs\": {\"inplace\": True}},\n",
    "    {\"class\": \"BatchNorm2d\", \"kargs\": {\"num_features\":80}},\n",
    "    {\"class\": \"Flatten\", \"kargs\": {}},\n",
    "\n",
    "    {\"class\": \"Linear\", \"kargs\": {\"in_features\": 80*256, \"out_features\": 256}}, # 80 units per IQ pair\n",
    "    {\"class\": \"ReLU\", \"kargs\": {\"inplace\": True}},\n",
    "    {\"class\": \"BatchNorm1d\", \"kargs\": {\"num_features\":256}},\n",
    "\n",
    "    {\"class\": \"Linear\", \"kargs\": {\"in_features\": 256, \"out_features\": 256}},\n",
    "]\n",
    "\n",
    "# Parameters relevant to results\n",
    "# These parameters will basically never need to change\n",
    "standalone_parameters[\"NUM_LOGS_PER_EPOCH\"] = 10\n",
    "standalone_parameters[\"BEST_MODEL_PATH\"] = \"./best_model.pth\"\n",
    "\n",
    "\n",
    "\n",
    "\n"
   ]
  },
  {
   "cell_type": "code",
   "execution_count": 4,
   "id": "c083f1e2",
   "metadata": {
    "execution": {
     "iopub.execute_input": "2022-03-28T13:30:56.668311Z",
     "iopub.status.busy": "2022-03-28T13:30:56.662205Z",
     "iopub.status.idle": "2022-03-28T13:30:56.690954Z",
     "shell.execute_reply": "2022-03-28T13:30:56.690271Z"
    },
    "papermill": {
     "duration": 0.056823,
     "end_time": "2022-03-28T13:30:56.691124",
     "exception": false,
     "start_time": "2022-03-28T13:30:56.634301",
     "status": "completed"
    },
    "tags": [
     "injected-parameters"
    ]
   },
   "outputs": [],
   "source": [
    "# Parameters\n",
    "parameters = {\n",
    "    \"experiment_name\": \"tl_3-jitter5v2:cores -> oracle.run1.framed\",\n",
    "    \"device\": \"cuda\",\n",
    "    \"lr\": 0.0001,\n",
    "    \"x_shape\": [2, 256],\n",
    "    \"n_shot\": 3,\n",
    "    \"n_query\": 2,\n",
    "    \"train_k_factor\": 3,\n",
    "    \"val_k_factor\": 2,\n",
    "    \"test_k_factor\": 2,\n",
    "    \"torch_default_dtype\": \"torch.float32\",\n",
    "    \"n_epoch\": 50,\n",
    "    \"patience\": 3,\n",
    "    \"criteria_for_best\": \"target_accuracy\",\n",
    "    \"x_net\": [\n",
    "        {\"class\": \"nnReshape\", \"kargs\": {\"shape\": [-1, 1, 2, 256]}},\n",
    "        {\n",
    "            \"class\": \"Conv2d\",\n",
    "            \"kargs\": {\n",
    "                \"in_channels\": 1,\n",
    "                \"out_channels\": 256,\n",
    "                \"kernel_size\": [1, 7],\n",
    "                \"bias\": False,\n",
    "                \"padding\": [0, 3],\n",
    "            },\n",
    "        },\n",
    "        {\"class\": \"ReLU\", \"kargs\": {\"inplace\": True}},\n",
    "        {\"class\": \"BatchNorm2d\", \"kargs\": {\"num_features\": 256}},\n",
    "        {\n",
    "            \"class\": \"Conv2d\",\n",
    "            \"kargs\": {\n",
    "                \"in_channels\": 256,\n",
    "                \"out_channels\": 80,\n",
    "                \"kernel_size\": [2, 7],\n",
    "                \"bias\": True,\n",
    "                \"padding\": [0, 3],\n",
    "            },\n",
    "        },\n",
    "        {\"class\": \"ReLU\", \"kargs\": {\"inplace\": True}},\n",
    "        {\"class\": \"BatchNorm2d\", \"kargs\": {\"num_features\": 80}},\n",
    "        {\"class\": \"Flatten\", \"kargs\": {}},\n",
    "        {\"class\": \"Linear\", \"kargs\": {\"in_features\": 20480, \"out_features\": 256}},\n",
    "        {\"class\": \"ReLU\", \"kargs\": {\"inplace\": True}},\n",
    "        {\"class\": \"BatchNorm1d\", \"kargs\": {\"num_features\": 256}},\n",
    "        {\"class\": \"Linear\", \"kargs\": {\"in_features\": 256, \"out_features\": 256}},\n",
    "    ],\n",
    "    \"NUM_LOGS_PER_EPOCH\": 10,\n",
    "    \"BEST_MODEL_PATH\": \"./best_model.pth\",\n",
    "    \"n_way\": 16,\n",
    "    \"datasets\": [\n",
    "        {\n",
    "            \"labels\": [\n",
    "                \"1-10.\",\n",
    "                \"1-11.\",\n",
    "                \"1-15.\",\n",
    "                \"1-16.\",\n",
    "                \"1-17.\",\n",
    "                \"1-18.\",\n",
    "                \"1-19.\",\n",
    "                \"10-4.\",\n",
    "                \"10-7.\",\n",
    "                \"11-1.\",\n",
    "                \"11-14.\",\n",
    "                \"11-17.\",\n",
    "                \"11-20.\",\n",
    "                \"11-7.\",\n",
    "                \"13-20.\",\n",
    "                \"13-8.\",\n",
    "                \"14-10.\",\n",
    "                \"14-11.\",\n",
    "                \"14-14.\",\n",
    "                \"14-7.\",\n",
    "                \"15-1.\",\n",
    "                \"15-20.\",\n",
    "                \"16-1.\",\n",
    "                \"16-16.\",\n",
    "                \"17-10.\",\n",
    "                \"17-11.\",\n",
    "                \"17-2.\",\n",
    "                \"19-1.\",\n",
    "                \"19-16.\",\n",
    "                \"19-19.\",\n",
    "                \"19-20.\",\n",
    "                \"19-3.\",\n",
    "                \"2-10.\",\n",
    "                \"2-11.\",\n",
    "                \"2-17.\",\n",
    "                \"2-18.\",\n",
    "                \"2-20.\",\n",
    "                \"2-3.\",\n",
    "                \"2-4.\",\n",
    "                \"2-5.\",\n",
    "                \"2-6.\",\n",
    "                \"2-7.\",\n",
    "                \"2-8.\",\n",
    "                \"3-13.\",\n",
    "                \"3-18.\",\n",
    "                \"3-3.\",\n",
    "                \"4-1.\",\n",
    "                \"4-10.\",\n",
    "                \"4-11.\",\n",
    "                \"4-19.\",\n",
    "                \"5-5.\",\n",
    "                \"6-15.\",\n",
    "                \"7-10.\",\n",
    "                \"7-14.\",\n",
    "                \"8-18.\",\n",
    "                \"8-20.\",\n",
    "                \"8-3.\",\n",
    "                \"8-8.\",\n",
    "            ],\n",
    "            \"domains\": [1, 2, 3, 4, 5],\n",
    "            \"num_examples_per_domain_per_label\": -1,\n",
    "            \"pickle_path\": \"/root/csc500-main/datasets/cores.stratified_ds.2022A.pkl\",\n",
    "            \"source_or_target_dataset\": \"source\",\n",
    "            \"x_transforms\": [\n",
    "                \"unit_mag\",\n",
    "                \"jitter_256_5\",\n",
    "                \"lowpass_+/-10MHz\",\n",
    "                \"take_200\",\n",
    "            ],\n",
    "            \"episode_transforms\": [],\n",
    "            \"domain_prefix\": \"C_\",\n",
    "        },\n",
    "        {\n",
    "            \"labels\": [\n",
    "                \"3123D52\",\n",
    "                \"3123D65\",\n",
    "                \"3123D79\",\n",
    "                \"3123D80\",\n",
    "                \"3123D54\",\n",
    "                \"3123D70\",\n",
    "                \"3123D7B\",\n",
    "                \"3123D89\",\n",
    "                \"3123D58\",\n",
    "                \"3123D76\",\n",
    "                \"3123D7D\",\n",
    "                \"3123EFE\",\n",
    "                \"3123D64\",\n",
    "                \"3123D78\",\n",
    "                \"3123D7E\",\n",
    "                \"3124E4A\",\n",
    "            ],\n",
    "            \"domains\": [32, 38, 8, 44, 14, 50, 20, 26],\n",
    "            \"num_examples_per_domain_per_label\": 2000,\n",
    "            \"pickle_path\": \"/root/csc500-main/datasets/oracle.Run1_framed_2000Examples_stratified_ds.2022A.pkl\",\n",
    "            \"source_or_target_dataset\": \"target\",\n",
    "            \"x_transforms\": [\n",
    "                \"unit_mag\",\n",
    "                \"jitter_256_5\",\n",
    "                \"take_200\",\n",
    "                \"resample_20Msps_to_25Msps\",\n",
    "            ],\n",
    "            \"episode_transforms\": [],\n",
    "            \"domain_prefix\": \"O_\",\n",
    "        },\n",
    "    ],\n",
    "    \"seed\": 154325,\n",
    "    \"dataset_seed\": 154325,\n",
    "}\n"
   ]
  },
  {
   "cell_type": "code",
   "execution_count": 5,
   "id": "8fa1cc33",
   "metadata": {
    "execution": {
     "iopub.execute_input": "2022-03-28T13:30:56.744173Z",
     "iopub.status.busy": "2022-03-28T13:30:56.743599Z",
     "iopub.status.idle": "2022-03-28T13:30:56.767328Z",
     "shell.execute_reply": "2022-03-28T13:30:56.768030Z"
    },
    "papermill": {
     "duration": 0.051935,
     "end_time": "2022-03-28T13:30:56.768236",
     "exception": false,
     "start_time": "2022-03-28T13:30:56.716301",
     "status": "completed"
    },
    "tags": []
   },
   "outputs": [],
   "source": [
    "# Set this to True if you want to run this template directly\n",
    "STANDALONE = False\n",
    "if STANDALONE:\n",
    "    print(\"parameters not injected, running with standalone_parameters\")\n",
    "    parameters = standalone_parameters\n",
    "\n",
    "if not 'parameters' in locals() and not 'parameters' in globals():\n",
    "    raise Exception(\"Parameter injection failed\")\n",
    "\n",
    "#Use an easy dict for all the parameters\n",
    "p = EasyDict(parameters)\n",
    "\n",
    "if \"x_shape\" not in p:\n",
    "    p.x_shape = [2,256] # Default to this if we dont supply x_shape\n",
    "\n",
    "\n",
    "supplied_keys = set(p.keys())\n",
    "\n",
    "if  supplied_keys != required_parameters:\n",
    "    print(\"Parameters are incorrect\")\n",
    "    if len(supplied_keys - required_parameters)>0: print(\"Shouldn't have:\", str(supplied_keys - required_parameters))\n",
    "    if len(required_parameters - supplied_keys)>0: print(\"Need to have:\", str(required_parameters - supplied_keys))\n",
    "    raise RuntimeError(\"Parameters are incorrect\")"
   ]
  },
  {
   "cell_type": "code",
   "execution_count": 6,
   "id": "3a028d58",
   "metadata": {
    "execution": {
     "iopub.execute_input": "2022-03-28T13:30:56.819111Z",
     "iopub.status.busy": "2022-03-28T13:30:56.818742Z",
     "iopub.status.idle": "2022-03-28T13:30:56.843778Z",
     "shell.execute_reply": "2022-03-28T13:30:56.844453Z"
    },
    "papermill": {
     "duration": 0.049774,
     "end_time": "2022-03-28T13:30:56.844675",
     "exception": false,
     "start_time": "2022-03-28T13:30:56.794901",
     "status": "completed"
    },
    "tags": []
   },
   "outputs": [],
   "source": [
    "###################################\n",
    "# Set the RNGs and make it all deterministic\n",
    "###################################\n",
    "np.random.seed(p.seed)\n",
    "random.seed(p.seed)\n",
    "torch.manual_seed(p.seed)\n",
    "\n",
    "torch.use_deterministic_algorithms(True) "
   ]
  },
  {
   "cell_type": "code",
   "execution_count": 7,
   "id": "b691acf6",
   "metadata": {
    "execution": {
     "iopub.execute_input": "2022-03-28T13:30:56.898319Z",
     "iopub.status.busy": "2022-03-28T13:30:56.897766Z",
     "iopub.status.idle": "2022-03-28T13:30:56.922139Z",
     "shell.execute_reply": "2022-03-28T13:30:56.922803Z"
    },
    "papermill": {
     "duration": 0.049254,
     "end_time": "2022-03-28T13:30:56.923009",
     "exception": false,
     "start_time": "2022-03-28T13:30:56.873755",
     "status": "completed"
    },
    "tags": []
   },
   "outputs": [],
   "source": [
    "###########################################\n",
    "# The stratified datasets honor this\n",
    "###########################################\n",
    "torch.set_default_dtype(eval(p.torch_default_dtype))"
   ]
  },
  {
   "cell_type": "code",
   "execution_count": 8,
   "id": "b5fba671",
   "metadata": {
    "execution": {
     "iopub.execute_input": "2022-03-28T13:30:56.971507Z",
     "iopub.status.busy": "2022-03-28T13:30:56.971136Z",
     "iopub.status.idle": "2022-03-28T13:30:57.032070Z",
     "shell.execute_reply": "2022-03-28T13:30:57.031300Z"
    },
    "papermill": {
     "duration": 0.083813,
     "end_time": "2022-03-28T13:30:57.032248",
     "exception": false,
     "start_time": "2022-03-28T13:30:56.948435",
     "status": "completed"
    },
    "tags": []
   },
   "outputs": [],
   "source": [
    "###################################\n",
    "# Build the network(s)\n",
    "# Note: It's critical to do this AFTER setting the RNG\n",
    "###################################\n",
    "x_net = build_sequential(p.x_net)"
   ]
  },
  {
   "cell_type": "code",
   "execution_count": 9,
   "id": "5d7e61cc",
   "metadata": {
    "execution": {
     "iopub.execute_input": "2022-03-28T13:30:57.081418Z",
     "iopub.status.busy": "2022-03-28T13:30:57.081048Z",
     "iopub.status.idle": "2022-03-28T13:30:57.105468Z",
     "shell.execute_reply": "2022-03-28T13:30:57.106134Z"
    },
    "papermill": {
     "duration": 0.048768,
     "end_time": "2022-03-28T13:30:57.106338",
     "exception": false,
     "start_time": "2022-03-28T13:30:57.057570",
     "status": "completed"
    },
    "tags": []
   },
   "outputs": [],
   "source": [
    "start_time_secs = time.time()"
   ]
  },
  {
   "cell_type": "code",
   "execution_count": 10,
   "id": "c6b67dfd",
   "metadata": {
    "execution": {
     "iopub.execute_input": "2022-03-28T13:30:57.157542Z",
     "iopub.status.busy": "2022-03-28T13:30:57.157172Z",
     "iopub.status.idle": "2022-03-28T13:30:57.181631Z",
     "shell.execute_reply": "2022-03-28T13:30:57.180916Z"
    },
    "papermill": {
     "duration": 0.049225,
     "end_time": "2022-03-28T13:30:57.181798",
     "exception": false,
     "start_time": "2022-03-28T13:30:57.132573",
     "status": "completed"
    },
    "tags": []
   },
   "outputs": [],
   "source": [
    "p.domains_source = []\n",
    "p.domains_target = []\n",
    "\n",
    "\n",
    "train_original_source = []\n",
    "val_original_source   = []\n",
    "test_original_source  = []\n",
    "\n",
    "train_original_target = []\n",
    "val_original_target   = []\n",
    "test_original_target  = []"
   ]
  },
  {
   "cell_type": "code",
   "execution_count": 11,
   "id": "e3d9c3d3",
   "metadata": {
    "execution": {
     "iopub.execute_input": "2022-03-28T13:30:57.232152Z",
     "iopub.status.busy": "2022-03-28T13:30:57.231784Z",
     "iopub.status.idle": "2022-03-28T13:30:57.255812Z",
     "shell.execute_reply": "2022-03-28T13:30:57.256482Z"
    },
    "papermill": {
     "duration": 0.04824,
     "end_time": "2022-03-28T13:30:57.256680",
     "exception": false,
     "start_time": "2022-03-28T13:30:57.208440",
     "status": "completed"
    },
    "tags": []
   },
   "outputs": [],
   "source": [
    "# global_x_transform_func = lambda x: normalize(x.to(torch.get_default_dtype()), \"unit_power\") # unit_power, unit_mag\n",
    "# global_x_transform_func = lambda x: normalize(x, \"unit_power\") # unit_power, unit_mag"
   ]
  },
  {
   "cell_type": "code",
   "execution_count": 12,
   "id": "acb78fd2",
   "metadata": {
    "execution": {
     "iopub.execute_input": "2022-03-28T13:30:57.317950Z",
     "iopub.status.busy": "2022-03-28T13:30:57.317145Z",
     "iopub.status.idle": "2022-03-28T13:30:57.338773Z",
     "shell.execute_reply": "2022-03-28T13:30:57.338057Z"
    },
    "papermill": {
     "duration": 0.0551,
     "end_time": "2022-03-28T13:30:57.338939",
     "exception": false,
     "start_time": "2022-03-28T13:30:57.283839",
     "status": "completed"
    },
    "tags": []
   },
   "outputs": [],
   "source": [
    "def add_dataset(\n",
    "    labels,\n",
    "    domains,\n",
    "    pickle_path,\n",
    "    x_transforms,\n",
    "    episode_transforms,\n",
    "    domain_prefix,\n",
    "    num_examples_per_domain_per_label,\n",
    "    source_or_target_dataset:str,\n",
    "    iterator_seed=p.seed,\n",
    "    dataset_seed=p.dataset_seed,\n",
    "    n_shot=p.n_shot,\n",
    "    n_way=p.n_way,\n",
    "    n_query=p.n_query,\n",
    "    train_val_test_k_factors=(p.train_k_factor,p.val_k_factor,p.test_k_factor),\n",
    "):\n",
    "   \n",
    "    if x_transforms == []: x_transform = None\n",
    "    else: x_transform = get_chained_transform(x_transforms)\n",
    "    \n",
    "    if episode_transforms == []: episode_transform = None\n",
    "    else: raise Exception(\"episode_transforms not implemented\")\n",
    "    \n",
    "    episode_transform = lambda tup, _prefix=domain_prefix: (_prefix + str(tup[0]), tup[1])\n",
    "\n",
    "\n",
    "    eaf = Episodic_Accessor_Factory(\n",
    "        labels=labels,\n",
    "        domains=domains,\n",
    "        num_examples_per_domain_per_label=num_examples_per_domain_per_label,\n",
    "        iterator_seed=iterator_seed,\n",
    "        dataset_seed=dataset_seed,\n",
    "        n_shot=n_shot,\n",
    "        n_way=n_way,\n",
    "        n_query=n_query,\n",
    "        train_val_test_k_factors=train_val_test_k_factors,\n",
    "        pickle_path=pickle_path,\n",
    "        x_transform_func=x_transform,\n",
    "    )\n",
    "\n",
    "    train, val, test = eaf.get_train(), eaf.get_val(), eaf.get_test()\n",
    "    train = Lazy_Iterable_Wrapper(train, episode_transform)\n",
    "    val = Lazy_Iterable_Wrapper(val, episode_transform)\n",
    "    test = Lazy_Iterable_Wrapper(test, episode_transform)\n",
    "\n",
    "    if source_or_target_dataset==\"source\":\n",
    "        train_original_source.append(train)\n",
    "        val_original_source.append(val)\n",
    "        test_original_source.append(test)\n",
    "\n",
    "        p.domains_source.extend(\n",
    "            [domain_prefix + str(u) for u in domains]\n",
    "        )\n",
    "    elif source_or_target_dataset==\"target\":\n",
    "        train_original_target.append(train)\n",
    "        val_original_target.append(val)\n",
    "        test_original_target.append(test)\n",
    "        p.domains_target.extend(\n",
    "            [domain_prefix + str(u) for u in domains]\n",
    "        )\n",
    "    else:\n",
    "        raise Exception(f\"invalid source_or_target_dataset: {source_or_target_dataset}\")\n",
    "    "
   ]
  },
  {
   "cell_type": "code",
   "execution_count": 13,
   "id": "fe266617",
   "metadata": {
    "execution": {
     "iopub.execute_input": "2022-03-28T13:30:57.389366Z",
     "iopub.status.busy": "2022-03-28T13:30:57.388816Z",
     "iopub.status.idle": "2022-03-28T13:32:49.137506Z",
     "shell.execute_reply": "2022-03-28T13:32:49.136771Z"
    },
    "papermill": {
     "duration": 111.772578,
     "end_time": "2022-03-28T13:32:49.137692",
     "exception": false,
     "start_time": "2022-03-28T13:30:57.365114",
     "status": "completed"
    },
    "tags": []
   },
   "outputs": [],
   "source": [
    "for ds in p.datasets:\n",
    "    add_dataset(**ds)"
   ]
  },
  {
   "cell_type": "code",
   "execution_count": 14,
   "id": "b90d65ac",
   "metadata": {
    "execution": {
     "iopub.execute_input": "2022-03-28T13:32:49.189597Z",
     "iopub.status.busy": "2022-03-28T13:32:49.189214Z",
     "iopub.status.idle": "2022-03-28T13:32:49.214507Z",
     "shell.execute_reply": "2022-03-28T13:32:49.213683Z"
    },
    "papermill": {
     "duration": 0.049873,
     "end_time": "2022-03-28T13:32:49.214677",
     "exception": false,
     "start_time": "2022-03-28T13:32:49.164804",
     "status": "completed"
    },
    "tags": []
   },
   "outputs": [],
   "source": [
    "# from steves_utils.CORES.utils import (\n",
    "#     ALL_NODES,\n",
    "#     ALL_NODES_MINIMUM_1000_EXAMPLES,\n",
    "#     ALL_DAYS\n",
    "# )\n",
    "\n",
    "# add_dataset(\n",
    "#     labels=ALL_NODES,\n",
    "#     domains = ALL_DAYS,\n",
    "#     num_examples_per_domain_per_label=100,\n",
    "#     pickle_path=os.path.join(get_datasets_base_path(), \"cores.stratified_ds.2022A.pkl\"),\n",
    "#     source_or_target_dataset=\"target\",\n",
    "#     x_transform_func=global_x_transform_func,\n",
    "#     domain_modifier=lambda u: f\"cores_{u}\"\n",
    "# )"
   ]
  },
  {
   "cell_type": "code",
   "execution_count": 15,
   "id": "76db484d",
   "metadata": {
    "execution": {
     "iopub.execute_input": "2022-03-28T13:32:49.265681Z",
     "iopub.status.busy": "2022-03-28T13:32:49.265225Z",
     "iopub.status.idle": "2022-03-28T13:32:49.290070Z",
     "shell.execute_reply": "2022-03-28T13:32:49.289327Z"
    },
    "papermill": {
     "duration": 0.049089,
     "end_time": "2022-03-28T13:32:49.290236",
     "exception": false,
     "start_time": "2022-03-28T13:32:49.241147",
     "status": "completed"
    },
    "tags": []
   },
   "outputs": [],
   "source": [
    "# from steves_utils.ORACLE.utils_v2 import (\n",
    "#     ALL_DISTANCES_FEET,\n",
    "#     ALL_RUNS,\n",
    "#     ALL_SERIAL_NUMBERS,\n",
    "# )\n",
    "\n",
    "\n",
    "# add_dataset(\n",
    "#     labels=ALL_SERIAL_NUMBERS,\n",
    "#     domains = list(set(ALL_DISTANCES_FEET) - {2,62}),\n",
    "#     num_examples_per_domain_per_label=100,\n",
    "#     pickle_path=os.path.join(get_datasets_base_path(), \"oracle.Run2_framed_2000Examples_stratified_ds.2022A.pkl\"),\n",
    "#     source_or_target_dataset=\"source\",\n",
    "#     x_transform_func=global_x_transform_func,\n",
    "#     domain_modifier=lambda u: f\"oracle1_{u}\"\n",
    "# )\n"
   ]
  },
  {
   "cell_type": "code",
   "execution_count": 16,
   "id": "97dea9d2",
   "metadata": {
    "execution": {
     "iopub.execute_input": "2022-03-28T13:32:49.341770Z",
     "iopub.status.busy": "2022-03-28T13:32:49.341388Z",
     "iopub.status.idle": "2022-03-28T13:32:49.365811Z",
     "shell.execute_reply": "2022-03-28T13:32:49.365010Z"
    },
    "papermill": {
     "duration": 0.04863,
     "end_time": "2022-03-28T13:32:49.365977",
     "exception": false,
     "start_time": "2022-03-28T13:32:49.317347",
     "status": "completed"
    },
    "tags": []
   },
   "outputs": [],
   "source": [
    "# from steves_utils.ORACLE.utils_v2 import (\n",
    "#     ALL_DISTANCES_FEET,\n",
    "#     ALL_RUNS,\n",
    "#     ALL_SERIAL_NUMBERS,\n",
    "# )\n",
    "\n",
    "\n",
    "# add_dataset(\n",
    "#     labels=ALL_SERIAL_NUMBERS,\n",
    "#     domains = list(set(ALL_DISTANCES_FEET) - {2,62,56}),\n",
    "#     num_examples_per_domain_per_label=100,\n",
    "#     pickle_path=os.path.join(get_datasets_base_path(), \"oracle.Run2_framed_2000Examples_stratified_ds.2022A.pkl\"),\n",
    "#     source_or_target_dataset=\"source\",\n",
    "#     x_transform_func=global_x_transform_func,\n",
    "#     domain_modifier=lambda u: f\"oracle2_{u}\"\n",
    "# )"
   ]
  },
  {
   "cell_type": "code",
   "execution_count": 17,
   "id": "6f289866",
   "metadata": {
    "execution": {
     "iopub.execute_input": "2022-03-28T13:32:49.418424Z",
     "iopub.status.busy": "2022-03-28T13:32:49.417858Z",
     "iopub.status.idle": "2022-03-28T13:32:49.443232Z",
     "shell.execute_reply": "2022-03-28T13:32:49.442520Z"
    },
    "papermill": {
     "duration": 0.050398,
     "end_time": "2022-03-28T13:32:49.443398",
     "exception": false,
     "start_time": "2022-03-28T13:32:49.393000",
     "status": "completed"
    },
    "tags": []
   },
   "outputs": [],
   "source": [
    "# add_dataset(\n",
    "#     labels=list(range(19)),\n",
    "#     domains = [0,1,2],\n",
    "#     num_examples_per_domain_per_label=100,\n",
    "#     pickle_path=os.path.join(get_datasets_base_path(), \"metehan.stratified_ds.2022A.pkl\"),\n",
    "#     source_or_target_dataset=\"target\",\n",
    "#     x_transform_func=global_x_transform_func,\n",
    "#     domain_modifier=lambda u: f\"met_{u}\"\n",
    "# )"
   ]
  },
  {
   "cell_type": "code",
   "execution_count": 18,
   "id": "86a863c3",
   "metadata": {
    "execution": {
     "iopub.execute_input": "2022-03-28T13:32:49.498119Z",
     "iopub.status.busy": "2022-03-28T13:32:49.496832Z",
     "iopub.status.idle": "2022-03-28T13:32:49.520797Z",
     "shell.execute_reply": "2022-03-28T13:32:49.520402Z"
    },
    "papermill": {
     "duration": 0.048848,
     "end_time": "2022-03-28T13:32:49.520885",
     "exception": false,
     "start_time": "2022-03-28T13:32:49.472037",
     "status": "completed"
    },
    "tags": []
   },
   "outputs": [],
   "source": [
    "# # from steves_utils.wisig.utils import (\n",
    "# #     ALL_NODES_MINIMUM_100_EXAMPLES,\n",
    "# #     ALL_NODES_MINIMUM_500_EXAMPLES,\n",
    "# #     ALL_NODES_MINIMUM_1000_EXAMPLES,\n",
    "# #     ALL_DAYS\n",
    "# # )\n",
    "\n",
    "# import steves_utils.wisig.utils as wisig\n",
    "\n",
    "\n",
    "# add_dataset(\n",
    "#     labels=wisig.ALL_NODES_MINIMUM_100_EXAMPLES,\n",
    "#     domains = wisig.ALL_DAYS,\n",
    "#     num_examples_per_domain_per_label=100,\n",
    "#     pickle_path=os.path.join(get_datasets_base_path(), \"wisig.node3-19.stratified_ds.2022A.pkl\"),\n",
    "#     source_or_target_dataset=\"target\",\n",
    "#     x_transform_func=global_x_transform_func,\n",
    "#     domain_modifier=lambda u: f\"wisig_{u}\"\n",
    "# )"
   ]
  },
  {
   "cell_type": "code",
   "execution_count": 19,
   "id": "fd5442bc",
   "metadata": {
    "execution": {
     "iopub.execute_input": "2022-03-28T13:32:49.569077Z",
     "iopub.status.busy": "2022-03-28T13:32:49.568309Z",
     "iopub.status.idle": "2022-03-28T13:32:49.590388Z",
     "shell.execute_reply": "2022-03-28T13:32:49.589983Z"
    },
    "papermill": {
     "duration": 0.048215,
     "end_time": "2022-03-28T13:32:49.590481",
     "exception": false,
     "start_time": "2022-03-28T13:32:49.542266",
     "status": "completed"
    },
    "tags": []
   },
   "outputs": [],
   "source": [
    "###################################\n",
    "# Build the dataset\n",
    "###################################\n",
    "train_original_source = Iterable_Aggregator(train_original_source, p.seed)\n",
    "val_original_source = Iterable_Aggregator(val_original_source, p.seed)\n",
    "test_original_source = Iterable_Aggregator(test_original_source, p.seed)\n",
    "\n",
    "\n",
    "train_original_target = Iterable_Aggregator(train_original_target, p.seed)\n",
    "val_original_target = Iterable_Aggregator(val_original_target, p.seed)\n",
    "test_original_target = Iterable_Aggregator(test_original_target, p.seed)\n",
    "\n",
    "# For CNN We only use X and Y. And we only train on the source.\n",
    "# Properly form the data using a transform lambda and Lazy_Iterable_Wrapper. Finally wrap them in a dataloader\n",
    "\n",
    "transform_lambda = lambda ex: ex[1] # Original is (<domain>, <episode>) so we strip down to episode only\n",
    "\n",
    "train_processed_source = Lazy_Iterable_Wrapper(train_original_source, transform_lambda)\n",
    "val_processed_source   = Lazy_Iterable_Wrapper(val_original_source, transform_lambda)\n",
    "test_processed_source  = Lazy_Iterable_Wrapper(test_original_source, transform_lambda)\n",
    "\n",
    "train_processed_target = Lazy_Iterable_Wrapper(train_original_target, transform_lambda)\n",
    "val_processed_target   = Lazy_Iterable_Wrapper(val_original_target, transform_lambda)\n",
    "test_processed_target  = Lazy_Iterable_Wrapper(test_original_target, transform_lambda)\n",
    "\n",
    "datasets = EasyDict({\n",
    "    \"source\": {\n",
    "        \"original\": {\"train\":train_original_source, \"val\":val_original_source, \"test\":test_original_source},\n",
    "        \"processed\": {\"train\":train_processed_source, \"val\":val_processed_source, \"test\":test_processed_source}\n",
    "    },\n",
    "    \"target\": {\n",
    "        \"original\": {\"train\":train_original_target, \"val\":val_original_target, \"test\":test_original_target},\n",
    "        \"processed\": {\"train\":train_processed_target, \"val\":val_processed_target, \"test\":test_processed_target}\n",
    "    },\n",
    "})"
   ]
  },
  {
   "cell_type": "code",
   "execution_count": 20,
   "id": "5b3c01fc",
   "metadata": {
    "execution": {
     "iopub.execute_input": "2022-03-28T13:32:49.637499Z",
     "iopub.status.busy": "2022-03-28T13:32:49.636918Z",
     "iopub.status.idle": "2022-03-28T13:33:03.692124Z",
     "shell.execute_reply": "2022-03-28T13:33:03.691233Z"
    },
    "papermill": {
     "duration": 14.080174,
     "end_time": "2022-03-28T13:33:03.692304",
     "exception": false,
     "start_time": "2022-03-28T13:32:49.612130",
     "status": "completed"
    },
    "tags": []
   },
   "outputs": [
    {
     "name": "stdout",
     "output_type": "stream",
     "text": [
      "{'C_4', 'C_2', 'C_5', 'C_1', 'C_3'}\n"
     ]
    },
    {
     "name": "stdout",
     "output_type": "stream",
     "text": [
      "{'O_32', 'O_44', 'O_14', 'O_20', 'O_50', 'O_8', 'O_26', 'O_38'}\n"
     ]
    },
    {
     "name": "stdout",
     "output_type": "stream",
     "text": [
      "tensor([[[0., 0., 0.,  ..., 0., 0., 0.],\n",
      "         [0., 0., 0.,  ..., 0., 0., 0.]],\n",
      "\n",
      "        [[0., 0., 0.,  ..., 0., 0., 0.],\n",
      "         [0., 0., 0.,  ..., 0., 0., 0.]],\n",
      "\n",
      "        [[0., 0., 0.,  ..., 0., 0., 0.],\n",
      "         [0., 0., 0.,  ..., 0., 0., 0.]],\n",
      "\n",
      "        ...,\n",
      "\n",
      "        [[0., 0., 0.,  ..., 0., 0., 0.],\n",
      "         [0., 0., 0.,  ..., 0., 0., 0.]],\n",
      "\n",
      "        [[0., 0., 0.,  ..., 0., 0., 0.],\n",
      "         [0., 0., 0.,  ..., 0., 0., 0.]],\n",
      "\n",
      "        [[0., 0., 0.,  ..., 0., 0., 0.],\n",
      "         [0., 0., 0.,  ..., 0., 0., 0.]]])\n"
     ]
    }
   ],
   "source": [
    "from steves_utils.transforms import get_average_magnitude, get_average_power\n",
    "\n",
    "print(set([u for u,_ in val_original_source]))\n",
    "print(set([u for u,_ in val_original_target]))\n",
    "\n",
    "s_x, s_y, q_x, q_y, _ = next(iter(train_processed_source))\n",
    "print(s_x)\n",
    "\n",
    "# for ds in [\n",
    "#     train_processed_source,\n",
    "#     val_processed_source,\n",
    "#     test_processed_source,\n",
    "#     train_processed_target,\n",
    "#     val_processed_target,\n",
    "#     test_processed_target\n",
    "# ]:\n",
    "#     for s_x, s_y, q_x, q_y, _ in ds:\n",
    "#         for X in (s_x, q_x):\n",
    "#             for x in X:\n",
    "#                 assert np.isclose(get_average_magnitude(x.numpy()), 1.0)\n",
    "#                 assert np.isclose(get_average_power(x.numpy()), 1.0)\n",
    "                "
   ]
  },
  {
   "cell_type": "code",
   "execution_count": 21,
   "id": "bbdacba1",
   "metadata": {
    "execution": {
     "iopub.execute_input": "2022-03-28T13:33:03.743760Z",
     "iopub.status.busy": "2022-03-28T13:33:03.743363Z",
     "iopub.status.idle": "2022-03-28T13:33:03.874496Z",
     "shell.execute_reply": "2022-03-28T13:33:03.874822Z"
    },
    "papermill": {
     "duration": 0.157993,
     "end_time": "2022-03-28T13:33:03.874953",
     "exception": false,
     "start_time": "2022-03-28T13:33:03.716960",
     "status": "completed"
    },
    "tags": []
   },
   "outputs": [
    {
     "name": "stdout",
     "output_type": "stream",
     "text": [
      "(2, 256)\n"
     ]
    }
   ],
   "source": [
    "###################################\n",
    "# Build the model\n",
    "###################################\n",
    "# easfsl only wants a tuple for the shape\n",
    "model = Steves_Prototypical_Network(x_net, device=p.device, x_shape=tuple(p.x_shape))\n",
    "optimizer = Adam(params=model.parameters(), lr=p.lr)"
   ]
  },
  {
   "cell_type": "code",
   "execution_count": 22,
   "id": "22b39ac5",
   "metadata": {
    "execution": {
     "iopub.execute_input": "2022-03-28T13:33:03.924756Z",
     "iopub.status.busy": "2022-03-28T13:33:03.924384Z",
     "iopub.status.idle": "2022-03-28T13:57:29.136721Z",
     "shell.execute_reply": "2022-03-28T13:57:29.136370Z"
    },
    "papermill": {
     "duration": 1465.239132,
     "end_time": "2022-03-28T13:57:29.136809",
     "exception": false,
     "start_time": "2022-03-28T13:33:03.897677",
     "status": "completed"
    },
    "tags": []
   },
   "outputs": [
    {
     "name": "stdout",
     "output_type": "stream",
     "text": [
      "epoch: 1, [batch: 1 / 6297], examples_per_second: 33.5221, train_label_loss: 2.8281, \n"
     ]
    },
    {
     "name": "stdout",
     "output_type": "stream",
     "text": [
      "epoch: 1, [batch: 630 / 6297], examples_per_second: 3896.4454, train_label_loss: 0.1447, \n"
     ]
    },
    {
     "name": "stdout",
     "output_type": "stream",
     "text": [
      "epoch: 1, [batch: 1260 / 6297], examples_per_second: 4005.2124, train_label_loss: 0.0375, \n"
     ]
    },
    {
     "name": "stdout",
     "output_type": "stream",
     "text": [
      "epoch: 1, [batch: 1889 / 6297], examples_per_second: 4323.7146, train_label_loss: 0.0028, \n"
     ]
    },
    {
     "name": "stdout",
     "output_type": "stream",
     "text": [
      "epoch: 1, [batch: 2519 / 6297], examples_per_second: 4267.7126, train_label_loss: 0.0048, \n"
     ]
    },
    {
     "name": "stdout",
     "output_type": "stream",
     "text": [
      "epoch: 1, [batch: 3149 / 6297], examples_per_second: 4248.6372, train_label_loss: 0.0010, \n"
     ]
    },
    {
     "name": "stdout",
     "output_type": "stream",
     "text": [
      "epoch: 1, [batch: 3778 / 6297], examples_per_second: 3917.8511, train_label_loss: 0.0011, \n"
     ]
    },
    {
     "name": "stdout",
     "output_type": "stream",
     "text": [
      "epoch: 1, [batch: 4408 / 6297], examples_per_second: 3914.8919, train_label_loss: 0.0001, \n"
     ]
    },
    {
     "name": "stdout",
     "output_type": "stream",
     "text": [
      "epoch: 1, [batch: 5037 / 6297], examples_per_second: 3992.2649, train_label_loss: 0.0002, \n"
     ]
    },
    {
     "name": "stdout",
     "output_type": "stream",
     "text": [
      "epoch: 1, [batch: 5667 / 6297], examples_per_second: 4022.5771, train_label_loss: 0.0000, \n"
     ]
    },
    {
     "name": "stdout",
     "output_type": "stream",
     "text": [
      "=============================================================\n",
      "epoch: 1, source_val_acc_label: 0.9979, target_val_acc_label: 0.3328, source_val_label_loss: 0.0103, target_val_label_loss: 1.9282, \n",
      "=============================================================\n"
     ]
    },
    {
     "name": "stdout",
     "output_type": "stream",
     "text": [
      "New best\n"
     ]
    },
    {
     "name": "stdout",
     "output_type": "stream",
     "text": [
      "epoch: 2, [batch: 1 / 6333], examples_per_second: 4.0558, train_label_loss: 0.0000, \n"
     ]
    },
    {
     "name": "stdout",
     "output_type": "stream",
     "text": [
      "epoch: 2, [batch: 634 / 6333], examples_per_second: 3898.4837, train_label_loss: 0.0081, \n"
     ]
    },
    {
     "name": "stdout",
     "output_type": "stream",
     "text": [
      "epoch: 2, [batch: 1267 / 6333], examples_per_second: 3927.1714, train_label_loss: 0.0135, \n"
     ]
    },
    {
     "name": "stdout",
     "output_type": "stream",
     "text": [
      "epoch: 2, [batch: 1900 / 6333], examples_per_second: 4297.4199, train_label_loss: 0.0001, \n"
     ]
    },
    {
     "name": "stdout",
     "output_type": "stream",
     "text": [
      "epoch: 2, [batch: 2533 / 6333], examples_per_second: 4339.4572, train_label_loss: 0.0003, \n"
     ]
    },
    {
     "name": "stdout",
     "output_type": "stream",
     "text": [
      "epoch: 2, [batch: 3167 / 6333], examples_per_second: 4121.2365, train_label_loss: 0.0004, \n"
     ]
    },
    {
     "name": "stdout",
     "output_type": "stream",
     "text": [
      "epoch: 2, [batch: 3800 / 6333], examples_per_second: 3844.7976, train_label_loss: 0.0000, \n"
     ]
    },
    {
     "name": "stdout",
     "output_type": "stream",
     "text": [
      "epoch: 2, [batch: 4433 / 6333], examples_per_second: 3776.9492, train_label_loss: 0.0003, \n"
     ]
    },
    {
     "name": "stdout",
     "output_type": "stream",
     "text": [
      "epoch: 2, [batch: 5066 / 6333], examples_per_second: 3815.9545, train_label_loss: 0.0050, \n"
     ]
    },
    {
     "name": "stdout",
     "output_type": "stream",
     "text": [
      "epoch: 2, [batch: 5699 / 6333], examples_per_second: 3816.5590, train_label_loss: 0.0003, \n"
     ]
    },
    {
     "name": "stdout",
     "output_type": "stream",
     "text": [
      "=============================================================\n",
      "epoch: 2, source_val_acc_label: 0.9978, target_val_acc_label: 0.3109, source_val_label_loss: 0.0121, target_val_label_loss: 2.2864, \n",
      "=============================================================\n"
     ]
    },
    {
     "name": "stdout",
     "output_type": "stream",
     "text": [
      "epoch: 3, [batch: 1 / 6305], examples_per_second: 4.1021, train_label_loss: 0.0000, \n"
     ]
    },
    {
     "name": "stdout",
     "output_type": "stream",
     "text": [
      "epoch: 3, [batch: 631 / 6305], examples_per_second: 3978.4977, train_label_loss: 0.0409, \n"
     ]
    },
    {
     "name": "stdout",
     "output_type": "stream",
     "text": [
      "epoch: 3, [batch: 1261 / 6305], examples_per_second: 4021.9034, train_label_loss: 0.0000, \n"
     ]
    },
    {
     "name": "stdout",
     "output_type": "stream",
     "text": [
      "epoch: 3, [batch: 1892 / 6305], examples_per_second: 4475.5725, train_label_loss: 0.0006, \n"
     ]
    },
    {
     "name": "stdout",
     "output_type": "stream",
     "text": [
      "epoch: 3, [batch: 2522 / 6305], examples_per_second: 4366.4313, train_label_loss: 0.0006, \n"
     ]
    },
    {
     "name": "stdout",
     "output_type": "stream",
     "text": [
      "epoch: 3, [batch: 3153 / 6305], examples_per_second: 4044.6113, train_label_loss: 0.0003, \n"
     ]
    },
    {
     "name": "stdout",
     "output_type": "stream",
     "text": [
      "epoch: 3, [batch: 3783 / 6305], examples_per_second: 3934.6695, train_label_loss: 0.0000, \n"
     ]
    },
    {
     "name": "stdout",
     "output_type": "stream",
     "text": [
      "epoch: 3, [batch: 4413 / 6305], examples_per_second: 3953.0188, train_label_loss: 0.0000, \n"
     ]
    },
    {
     "name": "stdout",
     "output_type": "stream",
     "text": [
      "epoch: 3, [batch: 5044 / 6305], examples_per_second: 3970.1117, train_label_loss: 0.0026, \n"
     ]
    },
    {
     "name": "stdout",
     "output_type": "stream",
     "text": [
      "epoch: 3, [batch: 5674 / 6305], examples_per_second: 3958.6697, train_label_loss: 0.0754, \n"
     ]
    },
    {
     "name": "stdout",
     "output_type": "stream",
     "text": [
      "=============================================================\n",
      "epoch: 3, source_val_acc_label: 0.9987, target_val_acc_label: 0.3652, source_val_label_loss: 0.0090, target_val_label_loss: 1.8691, \n",
      "=============================================================\n"
     ]
    },
    {
     "name": "stdout",
     "output_type": "stream",
     "text": [
      "New best\n"
     ]
    },
    {
     "name": "stdout",
     "output_type": "stream",
     "text": [
      "epoch: 4, [batch: 1 / 6323], examples_per_second: 4.1871, train_label_loss: 0.0000, \n"
     ]
    },
    {
     "name": "stdout",
     "output_type": "stream",
     "text": [
      "epoch: 4, [batch: 633 / 6323], examples_per_second: 3830.4417, train_label_loss: 0.0000, \n"
     ]
    },
    {
     "name": "stdout",
     "output_type": "stream",
     "text": [
      "epoch: 4, [batch: 1265 / 6323], examples_per_second: 3810.0847, train_label_loss: 0.0052, \n"
     ]
    },
    {
     "name": "stdout",
     "output_type": "stream",
     "text": [
      "epoch: 4, [batch: 1897 / 6323], examples_per_second: 4185.4673, train_label_loss: 0.0002, \n"
     ]
    },
    {
     "name": "stdout",
     "output_type": "stream",
     "text": [
      "epoch: 4, [batch: 2529 / 6323], examples_per_second: 4349.0266, train_label_loss: 0.0000, \n"
     ]
    },
    {
     "name": "stdout",
     "output_type": "stream",
     "text": [
      "epoch: 4, [batch: 3162 / 6323], examples_per_second: 4192.0957, train_label_loss: 0.0000, \n"
     ]
    },
    {
     "name": "stdout",
     "output_type": "stream",
     "text": [
      "epoch: 4, [batch: 3794 / 6323], examples_per_second: 3869.2059, train_label_loss: 0.0044, \n"
     ]
    },
    {
     "name": "stdout",
     "output_type": "stream",
     "text": [
      "epoch: 4, [batch: 4426 / 6323], examples_per_second: 3817.9601, train_label_loss: 0.0787, \n"
     ]
    },
    {
     "name": "stdout",
     "output_type": "stream",
     "text": [
      "epoch: 4, [batch: 5058 / 6323], examples_per_second: 3932.3744, train_label_loss: 0.0002, \n"
     ]
    },
    {
     "name": "stdout",
     "output_type": "stream",
     "text": [
      "epoch: 4, [batch: 5690 / 6323], examples_per_second: 4025.8188, train_label_loss: 0.0000, \n"
     ]
    },
    {
     "name": "stdout",
     "output_type": "stream",
     "text": [
      "=============================================================\n",
      "epoch: 4, source_val_acc_label: 0.9986, target_val_acc_label: 0.3168, source_val_label_loss: 0.0091, target_val_label_loss: 2.1669, \n",
      "=============================================================\n"
     ]
    },
    {
     "name": "stdout",
     "output_type": "stream",
     "text": [
      "epoch: 5, [batch: 1 / 6317], examples_per_second: 4.1363, train_label_loss: 0.0005, \n"
     ]
    },
    {
     "name": "stdout",
     "output_type": "stream",
     "text": [
      "epoch: 5, [batch: 632 / 6317], examples_per_second: 3840.1639, train_label_loss: 0.0000, \n"
     ]
    },
    {
     "name": "stdout",
     "output_type": "stream",
     "text": [
      "epoch: 5, [batch: 1264 / 6317], examples_per_second: 3989.4652, train_label_loss: 0.0000, \n"
     ]
    },
    {
     "name": "stdout",
     "output_type": "stream",
     "text": [
      "epoch: 5, [batch: 1895 / 6317], examples_per_second: 4403.8905, train_label_loss: 0.0000, \n"
     ]
    },
    {
     "name": "stdout",
     "output_type": "stream",
     "text": [
      "epoch: 5, [batch: 2527 / 6317], examples_per_second: 4498.8101, train_label_loss: 0.0002, \n"
     ]
    },
    {
     "name": "stdout",
     "output_type": "stream",
     "text": [
      "epoch: 5, [batch: 3159 / 6317], examples_per_second: 4794.2779, train_label_loss: 0.0001, \n"
     ]
    },
    {
     "name": "stdout",
     "output_type": "stream",
     "text": [
      "epoch: 5, [batch: 3790 / 6317], examples_per_second: 4081.3084, train_label_loss: 0.0001, \n"
     ]
    },
    {
     "name": "stdout",
     "output_type": "stream",
     "text": [
      "epoch: 5, [batch: 4422 / 6317], examples_per_second: 3937.3767, train_label_loss: 0.0000, \n"
     ]
    },
    {
     "name": "stdout",
     "output_type": "stream",
     "text": [
      "epoch: 5, [batch: 5053 / 6317], examples_per_second: 3996.9235, train_label_loss: 0.0006, \n"
     ]
    },
    {
     "name": "stdout",
     "output_type": "stream",
     "text": [
      "epoch: 5, [batch: 5685 / 6317], examples_per_second: 4013.8982, train_label_loss: 0.0000, \n"
     ]
    },
    {
     "name": "stdout",
     "output_type": "stream",
     "text": [
      "=============================================================\n",
      "epoch: 5, source_val_acc_label: 0.9991, target_val_acc_label: 0.3624, source_val_label_loss: 0.0068, target_val_label_loss: 1.8913, \n",
      "=============================================================\n"
     ]
    },
    {
     "name": "stdout",
     "output_type": "stream",
     "text": [
      "epoch: 6, [batch: 1 / 6329], examples_per_second: 4.1362, train_label_loss: 0.0003, \n"
     ]
    },
    {
     "name": "stdout",
     "output_type": "stream",
     "text": [
      "epoch: 6, [batch: 633 / 6329], examples_per_second: 3832.8082, train_label_loss: 0.0000, \n"
     ]
    },
    {
     "name": "stdout",
     "output_type": "stream",
     "text": [
      "epoch: 6, [batch: 1266 / 6329], examples_per_second: 3826.1300, train_label_loss: 0.0009, \n"
     ]
    },
    {
     "name": "stdout",
     "output_type": "stream",
     "text": [
      "epoch: 6, [batch: 1899 / 6329], examples_per_second: 4078.8733, train_label_loss: 0.0000, \n"
     ]
    },
    {
     "name": "stdout",
     "output_type": "stream",
     "text": [
      "epoch: 6, [batch: 2532 / 6329], examples_per_second: 4123.6561, train_label_loss: 0.0023, \n"
     ]
    },
    {
     "name": "stdout",
     "output_type": "stream",
     "text": [
      "epoch: 6, [batch: 3165 / 6329], examples_per_second: 4324.1188, train_label_loss: 0.0000, \n"
     ]
    },
    {
     "name": "stdout",
     "output_type": "stream",
     "text": [
      "epoch: 6, [batch: 3797 / 6329], examples_per_second: 4360.4517, train_label_loss: 0.0012, \n"
     ]
    },
    {
     "name": "stdout",
     "output_type": "stream",
     "text": [
      "epoch: 6, [batch: 4430 / 6329], examples_per_second: 4524.9480, train_label_loss: 0.0002, \n"
     ]
    },
    {
     "name": "stdout",
     "output_type": "stream",
     "text": [
      "epoch: 6, [batch: 5063 / 6329], examples_per_second: 4466.8619, train_label_loss: 0.0000, \n"
     ]
    },
    {
     "name": "stdout",
     "output_type": "stream",
     "text": [
      "epoch: 6, [batch: 5696 / 6329], examples_per_second: 4345.3581, train_label_loss: 0.0001, \n"
     ]
    },
    {
     "name": "stdout",
     "output_type": "stream",
     "text": [
      "=============================================================\n",
      "epoch: 6, source_val_acc_label: 0.9991, target_val_acc_label: 0.3722, source_val_label_loss: 0.0057, target_val_label_loss: 1.9023, \n",
      "=============================================================\n"
     ]
    },
    {
     "name": "stdout",
     "output_type": "stream",
     "text": [
      "New best\n"
     ]
    },
    {
     "name": "stdout",
     "output_type": "stream",
     "text": [
      "epoch: 7, [batch: 1 / 6316], examples_per_second: 4.7671, train_label_loss: 0.0000, \n"
     ]
    },
    {
     "name": "stdout",
     "output_type": "stream",
     "text": [
      "epoch: 7, [batch: 632 / 6316], examples_per_second: 4842.6858, train_label_loss: 0.0001, \n"
     ]
    },
    {
     "name": "stdout",
     "output_type": "stream",
     "text": [
      "epoch: 7, [batch: 1264 / 6316], examples_per_second: 5051.1028, train_label_loss: 0.0001, \n"
     ]
    },
    {
     "name": "stdout",
     "output_type": "stream",
     "text": [
      "epoch: 7, [batch: 1895 / 6316], examples_per_second: 5209.8269, train_label_loss: 0.0000, \n"
     ]
    },
    {
     "name": "stdout",
     "output_type": "stream",
     "text": [
      "epoch: 7, [batch: 2527 / 6316], examples_per_second: 4841.2363, train_label_loss: 0.0000, \n"
     ]
    },
    {
     "name": "stdout",
     "output_type": "stream",
     "text": [
      "epoch: 7, [batch: 3158 / 6316], examples_per_second: 4863.9163, train_label_loss: 0.0000, \n"
     ]
    },
    {
     "name": "stdout",
     "output_type": "stream",
     "text": [
      "epoch: 7, [batch: 3790 / 6316], examples_per_second: 5119.9894, train_label_loss: 0.0007, \n"
     ]
    },
    {
     "name": "stdout",
     "output_type": "stream",
     "text": [
      "epoch: 7, [batch: 4421 / 6316], examples_per_second: 5100.6459, train_label_loss: 0.0000, \n"
     ]
    },
    {
     "name": "stdout",
     "output_type": "stream",
     "text": [
      "epoch: 7, [batch: 5053 / 6316], examples_per_second: 5152.6823, train_label_loss: 0.0000, \n"
     ]
    },
    {
     "name": "stdout",
     "output_type": "stream",
     "text": [
      "epoch: 7, [batch: 5684 / 6316], examples_per_second: 4939.9982, train_label_loss: 0.1126, \n"
     ]
    },
    {
     "name": "stdout",
     "output_type": "stream",
     "text": [
      "=============================================================\n",
      "epoch: 7, source_val_acc_label: 0.9992, target_val_acc_label: 0.3598, source_val_label_loss: 0.0071, target_val_label_loss: 1.9786, \n",
      "=============================================================\n"
     ]
    },
    {
     "name": "stdout",
     "output_type": "stream",
     "text": [
      "epoch: 8, [batch: 1 / 6315], examples_per_second: 5.3237, train_label_loss: 0.0000, \n"
     ]
    },
    {
     "name": "stdout",
     "output_type": "stream",
     "text": [
      "epoch: 8, [batch: 632 / 6315], examples_per_second: 5087.9745, train_label_loss: 0.0000, \n"
     ]
    },
    {
     "name": "stdout",
     "output_type": "stream",
     "text": [
      "epoch: 8, [batch: 1263 / 6315], examples_per_second: 5146.8997, train_label_loss: 0.0000, \n"
     ]
    },
    {
     "name": "stdout",
     "output_type": "stream",
     "text": [
      "epoch: 8, [batch: 1895 / 6315], examples_per_second: 4847.7630, train_label_loss: 0.0000, \n"
     ]
    },
    {
     "name": "stdout",
     "output_type": "stream",
     "text": [
      "epoch: 8, [batch: 2526 / 6315], examples_per_second: 4872.5214, train_label_loss: 0.0001, \n"
     ]
    },
    {
     "name": "stdout",
     "output_type": "stream",
     "text": [
      "epoch: 8, [batch: 3158 / 6315], examples_per_second: 4449.6265, train_label_loss: 0.0000, \n"
     ]
    },
    {
     "name": "stdout",
     "output_type": "stream",
     "text": [
      "epoch: 8, [batch: 3789 / 6315], examples_per_second: 3783.2944, train_label_loss: 0.0000, \n"
     ]
    },
    {
     "name": "stdout",
     "output_type": "stream",
     "text": [
      "epoch: 8, [batch: 4420 / 6315], examples_per_second: 3783.6153, train_label_loss: 0.0159, \n"
     ]
    },
    {
     "name": "stdout",
     "output_type": "stream",
     "text": [
      "epoch: 8, [batch: 5052 / 6315], examples_per_second: 3878.3217, train_label_loss: 0.0001, \n"
     ]
    },
    {
     "name": "stdout",
     "output_type": "stream",
     "text": [
      "epoch: 8, [batch: 5683 / 6315], examples_per_second: 3869.8020, train_label_loss: 0.0000, \n"
     ]
    },
    {
     "name": "stdout",
     "output_type": "stream",
     "text": [
      "=============================================================\n",
      "epoch: 8, source_val_acc_label: 0.9994, target_val_acc_label: 0.3641, source_val_label_loss: 0.0055, target_val_label_loss: 1.9879, \n",
      "=============================================================\n"
     ]
    },
    {
     "name": "stdout",
     "output_type": "stream",
     "text": [
      "epoch: 9, [batch: 1 / 6317], examples_per_second: 4.0409, train_label_loss: 0.0000, \n"
     ]
    },
    {
     "name": "stdout",
     "output_type": "stream",
     "text": [
      "epoch: 9, [batch: 632 / 6317], examples_per_second: 3804.0847, train_label_loss: 0.0028, \n"
     ]
    },
    {
     "name": "stdout",
     "output_type": "stream",
     "text": [
      "epoch: 9, [batch: 1264 / 6317], examples_per_second: 3866.6157, train_label_loss: 0.0000, \n"
     ]
    },
    {
     "name": "stdout",
     "output_type": "stream",
     "text": [
      "epoch: 9, [batch: 1895 / 6317], examples_per_second: 4419.7237, train_label_loss: 0.0000, \n"
     ]
    },
    {
     "name": "stdout",
     "output_type": "stream",
     "text": [
      "epoch: 9, [batch: 2527 / 6317], examples_per_second: 4426.8423, train_label_loss: 0.0000, \n"
     ]
    },
    {
     "name": "stdout",
     "output_type": "stream",
     "text": [
      "epoch: 9, [batch: 3159 / 6317], examples_per_second: 4310.6749, train_label_loss: 0.0000, \n"
     ]
    },
    {
     "name": "stdout",
     "output_type": "stream",
     "text": [
      "epoch: 9, [batch: 3790 / 6317], examples_per_second: 3970.8595, train_label_loss: 0.0000, \n"
     ]
    },
    {
     "name": "stdout",
     "output_type": "stream",
     "text": [
      "epoch: 9, [batch: 4422 / 6317], examples_per_second: 3987.1037, train_label_loss: 0.0000, \n"
     ]
    },
    {
     "name": "stdout",
     "output_type": "stream",
     "text": [
      "epoch: 9, [batch: 5053 / 6317], examples_per_second: 4056.4145, train_label_loss: 0.0008, \n"
     ]
    },
    {
     "name": "stdout",
     "output_type": "stream",
     "text": [
      "epoch: 9, [batch: 5685 / 6317], examples_per_second: 3943.3003, train_label_loss: 0.0000, \n"
     ]
    },
    {
     "name": "stdout",
     "output_type": "stream",
     "text": [
      "=============================================================\n",
      "epoch: 9, source_val_acc_label: 0.9994, target_val_acc_label: 0.3326, source_val_label_loss: 0.0060, target_val_label_loss: 2.2012, \n",
      "=============================================================\n"
     ]
    },
    {
     "name": "stdout",
     "output_type": "stream",
     "text": [
      "epoch: 10, [batch: 1 / 6296], examples_per_second: 4.0614, train_label_loss: 0.0000, \n"
     ]
    },
    {
     "name": "stdout",
     "output_type": "stream",
     "text": [
      "epoch: 10, [batch: 630 / 6296], examples_per_second: 3855.0914, train_label_loss: 0.0000, \n"
     ]
    },
    {
     "name": "stdout",
     "output_type": "stream",
     "text": [
      "epoch: 10, [batch: 1260 / 6296], examples_per_second: 3954.0965, train_label_loss: 0.0001, \n"
     ]
    },
    {
     "name": "stdout",
     "output_type": "stream",
     "text": [
      "epoch: 10, [batch: 1889 / 6296], examples_per_second: 4510.6775, train_label_loss: 0.0000, \n"
     ]
    },
    {
     "name": "stdout",
     "output_type": "stream",
     "text": [
      "epoch: 10, [batch: 2519 / 6296], examples_per_second: 4481.8298, train_label_loss: 0.0000, \n"
     ]
    },
    {
     "name": "stdout",
     "output_type": "stream",
     "text": [
      "epoch: 10, [batch: 3148 / 6296], examples_per_second: 4407.8352, train_label_loss: 0.0000, \n"
     ]
    },
    {
     "name": "stdout",
     "output_type": "stream",
     "text": [
      "epoch: 10, [batch: 3778 / 6296], examples_per_second: 3929.3525, train_label_loss: 0.0000, \n"
     ]
    },
    {
     "name": "stdout",
     "output_type": "stream",
     "text": [
      "epoch: 10, [batch: 4407 / 6296], examples_per_second: 3756.6277, train_label_loss: 0.0000, \n"
     ]
    },
    {
     "name": "stdout",
     "output_type": "stream",
     "text": [
      "epoch: 10, [batch: 5037 / 6296], examples_per_second: 3824.0317, train_label_loss: 0.0003, \n"
     ]
    },
    {
     "name": "stdout",
     "output_type": "stream",
     "text": [
      "epoch: 10, [batch: 5666 / 6296], examples_per_second: 3794.1963, train_label_loss: 0.0085, \n"
     ]
    },
    {
     "name": "stdout",
     "output_type": "stream",
     "text": [
      "=============================================================\n",
      "epoch: 10, source_val_acc_label: 0.9994, target_val_acc_label: 0.3241, source_val_label_loss: 0.0070, target_val_label_loss: 2.4007, \n",
      "=============================================================\n"
     ]
    },
    {
     "name": "stdout",
     "output_type": "stream",
     "text": [
      "Patience (3) exhausted\n"
     ]
    }
   ],
   "source": [
    "###################################\n",
    "# train\n",
    "###################################\n",
    "jig = PTN_Train_Eval_Test_Jig(model, p.BEST_MODEL_PATH, p.device)\n",
    "\n",
    "jig.train(\n",
    "    train_iterable=datasets.source.processed.train,\n",
    "    source_val_iterable=datasets.source.processed.val,\n",
    "    target_val_iterable=datasets.target.processed.val,\n",
    "    num_epochs=p.n_epoch,\n",
    "    num_logs_per_epoch=p.NUM_LOGS_PER_EPOCH,\n",
    "    patience=p.patience,\n",
    "    optimizer=optimizer,\n",
    "    criteria_for_best=p.criteria_for_best,\n",
    ")"
   ]
  },
  {
   "cell_type": "code",
   "execution_count": 23,
   "id": "31e8fabf",
   "metadata": {
    "execution": {
     "iopub.execute_input": "2022-03-28T13:57:29.250591Z",
     "iopub.status.busy": "2022-03-28T13:57:29.250222Z",
     "iopub.status.idle": "2022-03-28T13:57:29.282998Z",
     "shell.execute_reply": "2022-03-28T13:57:29.282204Z"
    },
    "papermill": {
     "duration": 0.091584,
     "end_time": "2022-03-28T13:57:29.283162",
     "exception": false,
     "start_time": "2022-03-28T13:57:29.191578",
     "status": "completed"
    },
    "tags": []
   },
   "outputs": [],
   "source": [
    "total_experiment_time_secs = time.time() - start_time_secs"
   ]
  },
  {
   "cell_type": "code",
   "execution_count": 24,
   "id": "87b9595b",
   "metadata": {
    "execution": {
     "iopub.execute_input": "2022-03-28T13:57:29.399218Z",
     "iopub.status.busy": "2022-03-28T13:57:29.398825Z",
     "iopub.status.idle": "2022-03-28T14:00:10.845787Z",
     "shell.execute_reply": "2022-03-28T14:00:10.846499Z"
    },
    "papermill": {
     "duration": 161.506637,
     "end_time": "2022-03-28T14:00:10.846728",
     "exception": false,
     "start_time": "2022-03-28T13:57:29.340091",
     "status": "completed"
    },
    "tags": []
   },
   "outputs": [],
   "source": [
    "###################################\n",
    "# Evaluate the model\n",
    "###################################\n",
    "source_test_label_accuracy, source_test_label_loss = jig.test(datasets.source.processed.test)\n",
    "target_test_label_accuracy, target_test_label_loss = jig.test(datasets.target.processed.test)\n",
    "\n",
    "source_val_label_accuracy, source_val_label_loss = jig.test(datasets.source.processed.val)\n",
    "target_val_label_accuracy, target_val_label_loss = jig.test(datasets.target.processed.val)\n",
    "\n",
    "history = jig.get_history()\n",
    "\n",
    "total_epochs_trained = len(history[\"epoch_indices\"])\n",
    "\n",
    "val_dl = Iterable_Aggregator((datasets.source.original.val,datasets.target.original.val))\n",
    "\n",
    "confusion = ptn_confusion_by_domain_over_dataloader(model, p.device, val_dl)\n",
    "per_domain_accuracy = per_domain_accuracy_from_confusion(confusion)\n",
    "\n",
    "# Add a key to per_domain_accuracy for if it was a source domain\n",
    "for domain, accuracy in per_domain_accuracy.items():\n",
    "    per_domain_accuracy[domain] = {\n",
    "        \"accuracy\": accuracy,\n",
    "        \"source?\": domain in p.domains_source\n",
    "    }\n",
    "\n",
    "# Do an independent accuracy assesment JUST TO BE SURE!\n",
    "# _source_test_label_accuracy = independent_accuracy_assesment(model, datasets.source.processed.test, p.device)\n",
    "# _target_test_label_accuracy = independent_accuracy_assesment(model, datasets.target.processed.test, p.device)\n",
    "# _source_val_label_accuracy = independent_accuracy_assesment(model, datasets.source.processed.val, p.device)\n",
    "# _target_val_label_accuracy = independent_accuracy_assesment(model, datasets.target.processed.val, p.device)\n",
    "\n",
    "# assert(_source_test_label_accuracy == source_test_label_accuracy)\n",
    "# assert(_target_test_label_accuracy == target_test_label_accuracy)\n",
    "# assert(_source_val_label_accuracy == source_val_label_accuracy)\n",
    "# assert(_target_val_label_accuracy == target_val_label_accuracy)\n",
    "\n",
    "experiment = {\n",
    "    \"experiment_name\": p.experiment_name,\n",
    "    \"parameters\": dict(p),\n",
    "    \"results\": {\n",
    "        \"source_test_label_accuracy\": source_test_label_accuracy,\n",
    "        \"source_test_label_loss\": source_test_label_loss,\n",
    "        \"target_test_label_accuracy\": target_test_label_accuracy,\n",
    "        \"target_test_label_loss\": target_test_label_loss,\n",
    "        \"source_val_label_accuracy\": source_val_label_accuracy,\n",
    "        \"source_val_label_loss\": source_val_label_loss,\n",
    "        \"target_val_label_accuracy\": target_val_label_accuracy,\n",
    "        \"target_val_label_loss\": target_val_label_loss,\n",
    "        \"total_epochs_trained\": total_epochs_trained,\n",
    "        \"total_experiment_time_secs\": total_experiment_time_secs,\n",
    "        \"confusion\": confusion,\n",
    "        \"per_domain_accuracy\": per_domain_accuracy,\n",
    "    },\n",
    "    \"history\": history,\n",
    "    \"dataset_metrics\": get_dataset_metrics(datasets, \"ptn\"),\n",
    "}"
   ]
  },
  {
   "cell_type": "code",
   "execution_count": 25,
   "id": "54a21829",
   "metadata": {
    "execution": {
     "iopub.execute_input": "2022-03-28T14:00:10.966296Z",
     "iopub.status.busy": "2022-03-28T14:00:10.965918Z",
     "iopub.status.idle": "2022-03-28T14:00:11.189629Z",
     "shell.execute_reply": "2022-03-28T14:00:11.190324Z"
    },
    "papermill": {
     "duration": 0.283063,
     "end_time": "2022-03-28T14:00:11.190547",
     "exception": false,
     "start_time": "2022-03-28T14:00:10.907484",
     "status": "completed"
    },
    "tags": []
   },
   "outputs": [
    {
     "data": {
      "image/png": "[encoded data removed]",
      "text/plain": [
       "<Figure size 1080x504 with 1 Axes>"
      ]
     },
     "metadata": {
      "needs_background": "light"
     },
     "output_type": "display_data"
    }
   ],
   "source": [
    "ax = get_loss_curve(experiment)\n",
    "plt.show()"
   ]
  },
  {
   "cell_type": "code",
   "execution_count": 26,
   "id": "fd8a0f60",
   "metadata": {
    "execution": {
     "iopub.execute_input": "2022-03-28T14:00:11.307431Z",
     "iopub.status.busy": "2022-03-28T14:00:11.307061Z",
     "iopub.status.idle": "2022-03-28T14:00:11.678313Z",
     "shell.execute_reply": "2022-03-28T14:00:11.678986Z"
    },
    "papermill": {
     "duration": 0.431136,
     "end_time": "2022-03-28T14:00:11.679174",
     "exception": false,
     "start_time": "2022-03-28T14:00:11.248038",
     "status": "completed"
    },
    "tags": []
   },
   "outputs": [
    {
     "data": {
      "text/plain": [
       "<AxesSubplot:title={'center':'Results'}>"
      ]
     },
     "execution_count": 26,
     "metadata": {},
     "output_type": "execute_result"
    },
    {
     "data": {
      "image/png": "[encoded data removed]",
      "text/plain": [
       "<Figure size 1080x504 with 1 Axes>"
      ]
     },
     "metadata": {
      "needs_background": "light"
     },
     "output_type": "display_data"
    }
   ],
   "source": [
    "get_results_table(experiment)"
   ]
  },
  {
   "cell_type": "code",
   "execution_count": 27,
   "id": "cf8dc689",
   "metadata": {
    "execution": {
     "iopub.execute_input": "2022-03-28T14:00:11.797027Z",
     "iopub.status.busy": "2022-03-28T14:00:11.796659Z",
     "iopub.status.idle": "2022-03-28T14:00:12.038080Z",
     "shell.execute_reply": "2022-03-28T14:00:12.038760Z"
    },
    "papermill": {
     "duration": 0.300947,
     "end_time": "2022-03-28T14:00:12.038949",
     "exception": false,
     "start_time": "2022-03-28T14:00:11.738002",
     "status": "completed"
    },
    "tags": []
   },
   "outputs": [
    {
     "data": {
      "text/plain": [
       "<AxesSubplot:title={'center':'Per Domain Validation Accuracy'}, xlabel='domain'>"
      ]
     },
     "execution_count": 27,
     "metadata": {},
     "output_type": "execute_result"
    },
    {
     "data": {
      "image/png": "[encoded data removed]",
      "text/plain": [
       "<Figure size 1080x504 with 1 Axes>"
      ]
     },
     "metadata": {
      "needs_background": "light"
     },
     "output_type": "display_data"
    }
   ],
   "source": [
    "get_domain_accuracies(experiment)"
   ]
  },
  {
   "cell_type": "code",
   "execution_count": 28,
   "id": "a74ae082",
   "metadata": {
    "execution": {
     "iopub.execute_input": "2022-03-28T14:00:12.159704Z",
     "iopub.status.busy": "2022-03-28T14:00:12.159318Z",
     "iopub.status.idle": "2022-03-28T14:00:12.181468Z",
     "shell.execute_reply": "2022-03-28T14:00:12.180763Z"
    },
    "papermill": {
     "duration": 0.082543,
     "end_time": "2022-03-28T14:00:12.181625",
     "exception": false,
     "start_time": "2022-03-28T14:00:12.099082",
     "status": "completed"
    },
    "tags": []
   },
   "outputs": [
    {
     "name": "stdout",
     "output_type": "stream",
     "text": [
      "Source Test Label Accuracy: 0.999265117581187 Target Test Label Accuracy: 0.37005208333333334\n",
      "Source Val Label Accuracy: 0.9991418764302059 Target Val Label Accuracy: 0.37216796875\n"
     ]
    }
   ],
   "source": [
    "print(\"Source Test Label Accuracy:\", experiment[\"results\"][\"source_test_label_accuracy\"], \"Target Test Label Accuracy:\", experiment[\"results\"][\"target_test_label_accuracy\"])\n",
    "print(\"Source Val Label Accuracy:\", experiment[\"results\"][\"source_val_label_accuracy\"], \"Target Val Label Accuracy:\", experiment[\"results\"][\"target_val_label_accuracy\"])"
   ]
  },
  {
   "cell_type": "code",
   "execution_count": 29,
   "id": "dacca602",
   "metadata": {
    "execution": {
     "iopub.execute_input": "2022-03-28T14:00:12.303918Z",
     "iopub.status.busy": "2022-03-28T14:00:12.303548Z",
     "iopub.status.idle": "2022-03-28T14:00:12.328694Z",
     "shell.execute_reply": "2022-03-28T14:00:12.329361Z"
    },
    "papermill": {
     "duration": 0.085095,
     "end_time": "2022-03-28T14:00:12.329543",
     "exception": false,
     "start_time": "2022-03-28T14:00:12.244448",
     "status": "completed"
    },
    "tags": [
     "experiment_json"
    ]
   },
   "outputs": [
    {
     "data": {
      "text/plain": [
       "'{\"experiment_name\": \"tl_3-jitter5v2:cores -> oracle.run1.framed\", \"parameters\": {\"experiment_name\": \"tl_3-jitter5v2:cores -> oracle.run1.framed\", \"device\": \"cuda\", \"lr\": 0.0001, \"x_shape\": [2, 256], \"n_shot\": 3, \"n_query\": 2, \"train_k_factor\": 3, \"val_k_factor\": 2, \"test_k_factor\": 2, \"torch_default_dtype\": \"torch.float32\", \"n_epoch\": 50, \"patience\": 3, \"criteria_for_best\": \"target_accuracy\", \"x_net\": [{\"class\": \"nnReshape\", \"kargs\": {\"shape\": [-1, 1, 2, 256]}}, {\"class\": \"Conv2d\", \"kargs\": {\"in_channels\": 1, \"out_channels\": 256, \"kernel_size\": [1, 7], \"bias\": false, \"padding\": [0, 3]}}, {\"class\": \"ReLU\", \"kargs\": {\"inplace\": true}}, {\"class\": \"BatchNorm2d\", \"kargs\": {\"num_features\": 256}}, {\"class\": \"Conv2d\", \"kargs\": {\"in_channels\": 256, \"out_channels\": 80, \"kernel_size\": [2, 7], \"bias\": true, \"padding\": [0, 3]}}, {\"class\": \"ReLU\", \"kargs\": {\"inplace\": true}}, {\"class\": \"BatchNorm2d\", \"kargs\": {\"num_features\": 80}}, {\"class\": \"Flatten\", \"kargs\": {}}, {\"class\": \"Linear\", \"kargs\": {\"in_features\": 20480, \"out_features\": 256}}, {\"class\": \"ReLU\", \"kargs\": {\"inplace\": true}}, {\"class\": \"BatchNorm1d\", \"kargs\": {\"num_features\": 256}}, {\"class\": \"Linear\", \"kargs\": {\"in_features\": 256, \"out_features\": 256}}], \"NUM_LOGS_PER_EPOCH\": 10, \"BEST_MODEL_PATH\": \"./best_model.pth\", \"n_way\": 16, \"datasets\": [{\"labels\": [\"1-10.\", \"1-11.\", \"1-15.\", \"1-16.\", \"1-17.\", \"1-18.\", \"1-19.\", \"10-4.\", \"10-7.\", \"11-1.\", \"11-14.\", \"11-17.\", \"11-20.\", \"11-7.\", \"13-20.\", \"13-8.\", \"14-10.\", \"14-11.\", \"14-14.\", \"14-7.\", \"15-1.\", \"15-20.\", \"16-1.\", \"16-16.\", \"17-10.\", \"17-11.\", \"17-2.\", \"19-1.\", \"19-16.\", \"19-19.\", \"19-20.\", \"19-3.\", \"2-10.\", \"2-11.\", \"2-17.\", \"2-18.\", \"2-20.\", \"2-3.\", \"2-4.\", \"2-5.\", \"2-6.\", \"2-7.\", \"2-8.\", \"3-13.\", \"3-18.\", \"3-3.\", \"4-1.\", \"4-10.\", \"4-11.\", \"4-19.\", \"5-5.\", \"6-15.\", \"7-10.\", \"7-14.\", \"8-18.\", \"8-20.\", \"8-3.\", \"8-8.\"], \"domains\": [1, 2, 3, 4, 5], \"num_examples_per_domain_per_label\": -1, \"pickle_path\": \"/root/csc500-main/datasets/cores.stratified_ds.2022A.pkl\", \"source_or_target_dataset\": \"source\", \"x_transforms\": [\"unit_mag\", \"jitter_256_5\", \"lowpass_+/-10MHz\", \"take_200\"], \"episode_transforms\": [], \"domain_prefix\": \"C_\"}, {\"labels\": [\"3123D52\", \"3123D65\", \"3123D79\", \"3123D80\", \"3123D54\", \"3123D70\", \"3123D7B\", \"3123D89\", \"3123D58\", \"3123D76\", \"3123D7D\", \"3123EFE\", \"3123D64\", \"3123D78\", \"3123D7E\", \"3124E4A\"], \"domains\": [32, 38, 8, 44, 14, 50, 20, 26], \"num_examples_per_domain_per_label\": 2000, \"pickle_path\": \"/root/csc500-main/datasets/oracle.Run1_framed_2000Examples_stratified_ds.2022A.pkl\", \"source_or_target_dataset\": \"target\", \"x_transforms\": [\"unit_mag\", \"jitter_256_5\", \"take_200\", \"resample_20Msps_to_25Msps\"], \"episode_transforms\": [], \"domain_prefix\": \"O_\"}], \"seed\": 154325, \"dataset_seed\": 154325, \"domains_source\": [\"C_1\", \"C_2\", \"C_3\", \"C_4\", \"C_5\"], \"domains_target\": [\"O_32\", \"O_38\", \"O_8\", \"O_44\", \"O_14\", \"O_50\", \"O_20\", \"O_26\"]}, \"results\": {\"source_test_label_accuracy\": 0.999265117581187, \"source_test_label_loss\": 0.005740866530686617, \"target_test_label_accuracy\": 0.37005208333333334, \"target_test_label_loss\": 1.9153050184249878, \"source_val_label_accuracy\": 0.9991418764302059, \"source_val_label_loss\": 0.00567164970561862, \"target_val_label_accuracy\": 0.37216796875, \"target_val_label_loss\": 1.9023420810699463, \"total_epochs_trained\": 10, \"total_experiment_time_secs\": 1592.1764504909515, \"confusion\": {\"C_2\": {\"21\": {\"21\": 120}, \"4\": {\"4\": 130}, \"6\": {\"6\": 124}, \"10\": {\"10\": 112}, \"33\": {\"33\": 28}, \"56\": {\"56\": 122}, \"20\": {\"20\": 132}, \"24\": {\"24\": 96}, \"45\": {\"45\": 126, \"17\": 2}, \"32\": {\"32\": 28}, \"27\": {\"27\": 148}, \"53\": {\"53\": 136}, \"8\": {\"8\": 160}, \"54\": {\"54\": 108}, \"50\": {\"50\": 134}, \"44\": {\"44\": 100}, \"5\": {\"5\": 120}, \"38\": {\"38\": 20}, \"19\": {\"19\": 132}, \"1\": {\"1\": 112}, \"30\": {\"30\": 144}, \"15\": {\"15\": 144}, \"23\": {\"23\": 146}, \"35\": {\"35\": 32}, \"22\": {\"22\": 128}, \"40\": {\"40\": 140}, \"46\": {\"46\": 126}, \"3\": {\"3\": 92}, \"48\": {\"48\": 148}, \"52\": {\"52\": 124}, \"2\": {\"2\": 32}, \"26\": {\"26\": 24}, \"17\": {\"17\": 104}, \"55\": {\"55\": 144}, \"51\": {\"51\": 122}, \"42\": {\"42\": 36}, \"41\": {\"41\": 20}, \"31\": {\"31\": 28}, \"16\": {\"16\": 138}, \"36\": {\"36\": 116}, \"49\": {\"49\": 24}, \"0\": {\"0\": 48}, \"18\": {\"18\": 48}, \"25\": {\"25\": 146}, \"9\": {\"9\": 122}, \"47\": {\"47\": 132}, \"7\": {\"7\": 36}, \"37\": {\"37\": 36}, \"13\": {\"13\": 116}, \"14\": {\"14\": 24}, \"34\": {\"34\": 28}, \"57\": {\"57\": 140}, \"11\": {\"11\": 138}, \"39\": {\"39\": 28}, \"12\": {\"12\": 92}, \"28\": {\"28\": 28}, \"29\": {\"29\": 128}, \"43\": {\"43\": 140}}, \"C_5\": {\"12\": {\"12\": 96}, \"8\": {\"8\": 142}, \"29\": {\"29\": 132}, \"57\": {\"57\": 126}, \"38\": {\"38\": 32}, \"23\": {\"23\": 124}, \"56\": {\"56\": 138}, \"49\": {\"49\": 36}, \"4\": {\"4\": 100}, \"48\": {\"48\": 136}, \"21\": {\"21\": 144}, \"30\": {\"30\": 128}, \"1\": {\"1\": 148}, \"34\": {\"34\": 36}, \"35\": {\"35\": 36}, \"55\": {\"55\": 152}, \"5\": {\"5\": 122}, \"52\": {\"52\": 126}, \"6\": {\"6\": 126, \"18\": 1, \"17\": 1}, \"36\": {\"36\": 92}, \"41\": {\"41\": 28}, \"3\": {\"3\": 100}, \"28\": {\"28\": 32}, \"18\": {\"18\": 64}, \"25\": {\"25\": 136}, \"47\": {\"47\": 100}, \"13\": {\"13\": 160}, \"11\": {\"11\": 144}, \"53\": {\"53\": 144}, \"33\": {\"33\": 32}, \"46\": {\"46\": 148}, \"50\": {\"50\": 144, \"18\": 1, \"8\": 2, \"25\": 1}, \"10\": {\"10\": 68}, \"15\": {\"15\": 138}, \"44\": {\"44\": 140}, \"2\": {\"2\": 28}, \"7\": {\"7\": 32}, \"43\": {\"43\": 138}, \"32\": {\"32\": 32}, \"0\": {\"0\": 124}, \"39\": {\"39\": 20}, \"26\": {\"26\": 24}, \"27\": {\"27\": 112}, \"54\": {\"54\": 112}, \"17\": {\"17\": 116}, \"14\": {\"14\": 44}, \"16\": {\"16\": 148}, \"9\": {\"9\": 148}, \"19\": {\"19\": 152}, \"20\": {\"20\": 138}, \"37\": {\"37\": 24}, \"24\": {\"24\": 80}, \"40\": {\"40\": 122}, \"45\": {\"45\": 123, \"17\": 1}, \"22\": {\"22\": 28}, \"42\": {\"42\": 38, \"15\": 1, \"43\": 1}, \"51\": {\"51\": 118}, \"31\": {\"31\": 36}}, \"C_1\": {\"27\": {\"27\": 142}, \"2\": {\"2\": 36}, \"33\": {\"33\": 32}, \"45\": {\"45\": 156}, \"38\": {\"38\": 24}, \"4\": {\"4\": 132}, \"31\": {\"31\": 28}, \"55\": {\"55\": 140}, \"32\": {\"32\": 32}, \"57\": {\"57\": 140}, \"14\": {\"14\": 24}, \"16\": {\"16\": 140}, \"34\": {\"34\": 24}, \"56\": {\"56\": 126}, \"24\": {\"24\": 106, \"22\": 2}, \"30\": {\"30\": 112}, \"17\": {\"17\": 64}, \"13\": {\"13\": 138}, \"39\": {\"39\": 28}, \"50\": {\"50\": 146}, \"20\": {\"20\": 140}, \"41\": {\"41\": 24}, \"53\": {\"53\": 126}, \"48\": {\"48\": 142}, \"36\": {\"36\": 64}, \"8\": {\"8\": 140}, \"15\": {\"15\": 132}, \"40\": {\"40\": 156}, \"37\": {\"37\": 32}, \"21\": {\"21\": 120}, \"35\": {\"35\": 36}, \"49\": {\"49\": 32}, \"26\": {\"26\": 24}, \"28\": {\"28\": 28}, \"12\": {\"12\": 116}, \"5\": {\"5\": 152}, \"29\": {\"29\": 140}, \"47\": {\"47\": 140}, \"10\": {\"10\": 96}, \"18\": {\"18\": 71, \"50\": 1}, \"9\": {\"9\": 126}, \"3\": {\"3\": 139, \"22\": 1}, \"52\": {\"52\": 132}, \"25\": {\"25\": 136}, \"19\": {\"19\": 156}, \"11\": {\"11\": 135, \"10\": 1}, \"7\": {\"7\": 28}, \"23\": {\"23\": 136}, \"44\": {\"44\": 132}, \"42\": {\"42\": 40}, \"54\": {\"54\": 104}, \"1\": {\"1\": 100}, \"46\": {\"46\": 128}, \"6\": {\"6\": 96}, \"43\": {\"43\": 144}, \"51\": {\"51\": 142}, \"22\": {\"22\": 135, \"24\": 1}, \"0\": {\"0\": 128}}, \"C_4\": {\"32\": {\"32\": 24}, \"2\": {\"2\": 36}, \"41\": {\"41\": 36}, \"11\": {\"11\": 102}, \"57\": {\"57\": 100}, \"6\": {\"6\": 111, \"51\": 1}, \"23\": {\"23\": 136}, \"52\": {\"52\": 116}, \"38\": {\"38\": 40}, \"50\": {\"50\": 132}, \"55\": {\"55\": 152}, \"46\": {\"46\": 154}, \"37\": {\"37\": 24}, \"20\": {\"20\": 118}, \"49\": {\"49\": 20}, \"45\": {\"45\": 96}, \"54\": {\"54\": 108}, \"3\": {\"3\": 123, \"18\": 1}, \"13\": {\"13\": 152}, \"18\": {\"18\": 108}, \"21\": {\"21\": 126}, \"43\": {\"43\": 144}, \"47\": {\"47\": 120}, \"4\": {\"4\": 132}, \"12\": {\"12\": 92}, \"9\": {\"9\": 128}, \"7\": {\"7\": 24}, \"56\": {\"56\": 112}, \"28\": {\"28\": 32}, \"44\": {\"44\": 132}, \"24\": {\"24\": 56}, \"33\": {\"33\": 36}, \"35\": {\"35\": 40}, \"51\": {\"51\": 138}, \"39\": {\"39\": 20}, \"36\": {\"36\": 92}, \"19\": {\"19\": 140}, \"0\": {\"0\": 80}, \"15\": {\"15\": 136}, \"29\": {\"29\": 124}, \"30\": {\"30\": 44}, \"1\": {\"1\": 40}, \"22\": {\"22\": 128}, \"40\": {\"40\": 146}, \"8\": {\"8\": 128}, \"53\": {\"53\": 138}, \"34\": {\"34\": 24}, \"10\": {\"10\": 122}, \"31\": {\"31\": 28}, \"17\": {\"17\": 80}, \"16\": {\"16\": 96}, \"42\": {\"42\": 32}, \"27\": {\"27\": 142}, \"14\": {\"14\": 16}, \"25\": {\"25\": 122}, \"48\": {\"48\": 132}, \"26\": {\"26\": 24}, \"5\": {\"5\": 107, \"18\": 1}}, \"C_3\": {\"14\": {\"14\": 38, \"0\": 2}, \"18\": {\"18\": 84}, \"30\": {\"30\": 120}, \"16\": {\"16\": 156}, \"1\": {\"1\": 100}, \"20\": {\"20\": 132}, \"7\": {\"7\": 36}, \"52\": {\"52\": 130}, \"9\": {\"9\": 140}, \"23\": {\"23\": 144}, \"55\": {\"55\": 164}, \"29\": {\"29\": 126}, \"56\": {\"56\": 134}, \"3\": {\"3\": 124}, \"42\": {\"42\": 28}, \"6\": {\"6\": 87, \"18\": 1}, \"5\": {\"5\": 115, \"18\": 1}, \"27\": {\"27\": 144}, \"47\": {\"47\": 92}, \"39\": {\"39\": 16}, \"34\": {\"34\": 32}, \"4\": {\"4\": 126}, \"24\": {\"24\": 104}, \"46\": {\"46\": 118}, \"50\": {\"50\": 126}, \"38\": {\"38\": 28}, \"54\": {\"54\": 100}, \"35\": {\"35\": 28}, \"2\": {\"2\": 32}, \"41\": {\"41\": 28}, \"57\": {\"57\": 118}, \"25\": {\"25\": 150}, \"48\": {\"48\": 116}, \"33\": {\"33\": 28}, \"45\": {\"45\": 60}, \"13\": {\"13\": 126}, \"36\": {\"36\": 100}, \"43\": {\"43\": 132}, \"28\": {\"28\": 28}, \"0\": {\"0\": 124}, \"12\": {\"12\": 92}, \"31\": {\"31\": 28}, \"40\": {\"40\": 116}, \"44\": {\"44\": 88}, \"32\": {\"32\": 28}, \"26\": {\"26\": 24}, \"8\": {\"8\": 116}, \"10\": {\"10\": 64}, \"15\": {\"15\": 142}, \"21\": {\"21\": 128}, \"37\": {\"37\": 28}, \"17\": {\"17\": 108}, \"51\": {\"51\": 124}, \"53\": {\"53\": 144}, \"19\": {\"19\": 136}, \"49\": {\"49\": 20}, \"11\": {\"11\": 138}, \"22\": {\"22\": 130}}, \"O_8\": {\"13\": {\"13\": 41, \"0\": 31, \"4\": 35, \"6\": 22, \"10\": 36, \"14\": 25, \"7\": 26, \"11\": 3, \"5\": 8, \"1\": 8, \"8\": 3, \"15\": 1, \"2\": 1}, \"9\": {\"9\": 228, \"5\": 8, \"10\": 4}, \"15\": {\"8\": 34, \"15\": 65, \"7\": 16, \"3\": 24, \"2\": 15, \"12\": 58, \"11\": 5, \"4\": 3, \"6\": 13, \"13\": 1, \"1\": 1, \"14\": 1, \"0\": 3, \"10\": 1}, \"2\": {\"3\": 76, \"2\": 77, \"12\": 20, \"13\": 4, \"0\": 12, \"7\": 19, \"15\": 17, \"8\": 4, \"6\": 9, \"4\": 1, \"14\": 1}, \"3\": {\"15\": 21, \"3\": 112, \"8\": 4, \"2\": 49, \"7\": 10, \"12\": 39, \"0\": 2, \"4\": 1, \"6\": 2}, \"8\": {\"15\": 39, \"11\": 25, \"8\": 87, \"3\": 3, \"12\": 19, \"6\": 15, \"0\": 2, \"1\": 13, \"14\": 7, \"13\": 5, \"7\": 11, \"2\": 4, \"4\": 8, \"10\": 2}, \"5\": {\"5\": 90, \"14\": 18, \"10\": 31, \"1\": 50, \"13\": 14, \"11\": 20, \"4\": 13, \"6\": 1, \"8\": 1, \"9\": 1, \"0\": 1}, \"14\": {\"4\": 33, \"0\": 21, \"10\": 31, \"6\": 9, \"5\": 20, \"8\": 12, \"14\": 36, \"13\": 25, \"1\": 23, \"7\": 11, \"11\": 16, \"15\": 3}, \"1\": {\"1\": 64, \"14\": 27, \"11\": 76, \"10\": 13, \"5\": 31, \"6\": 1, \"13\": 7, \"8\": 8, \"4\": 10, \"7\": 2, \"0\": 1}, \"0\": {\"5\": 2, \"0\": 57, \"13\": 38, \"4\": 29, \"8\": 5, \"6\": 33, \"7\": 30, \"2\": 6, \"15\": 5, \"10\": 17, \"14\": 13, \"3\": 2, \"1\": 1, \"11\": 2}, \"10\": {\"0\": 16, \"5\": 32, \"10\": 46, \"11\": 14, \"1\": 26, \"4\": 20, \"6\": 14, \"13\": 33, \"14\": 31, \"8\": 4, \"7\": 4}, \"6\": {\"0\": 22, \"8\": 18, \"7\": 41, \"10\": 17, \"2\": 1, \"5\": 3, \"13\": 33, \"4\": 38, \"6\": 23, \"14\": 19, \"3\": 5, \"15\": 6, \"1\": 7, \"11\": 4, \"12\": 3}, \"11\": {\"5\": 15, \"14\": 23, \"10\": 9, \"4\": 9, \"11\": 92, \"1\": 62, \"8\": 20, \"13\": 3, \"15\": 2, \"6\": 4, \"7\": 1}, \"7\": {\"13\": 19, \"8\": 19, \"7\": 39, \"4\": 22, \"6\": 30, \"0\": 33, \"12\": 9, \"14\": 15, \"15\": 19, \"10\": 10, \"2\": 17, \"3\": 4, \"11\": 3, \"1\": 1}, \"4\": {\"6\": 28, \"13\": 40, \"15\": 5, \"0\": 16, \"7\": 19, \"10\": 25, \"8\": 19, \"14\": 27, \"5\": 10, \"1\": 8, \"4\": 31, \"11\": 10, \"12\": 1, \"3\": 1}, \"12\": {\"3\": 49, \"12\": 70, \"8\": 30, \"15\": 58, \"2\": 19, \"14\": 1, \"7\": 7, \"6\": 3, \"0\": 2, \"11\": 1}}, \"O_38\": {\"13\": {\"10\": 18, \"1\": 33, \"13\": 72, \"2\": 30, \"15\": 61, \"8\": 14, \"0\": 1, \"5\": 7, \"7\": 1, \"11\": 1, \"14\": 2}, \"12\": {\"12\": 182, \"0\": 4, \"10\": 11, \"4\": 36, \"11\": 5, \"7\": 2}, \"2\": {\"2\": 141, \"14\": 32, \"10\": 11, \"11\": 14, \"13\": 32, \"1\": 5, \"15\": 5}, \"9\": {\"3\": 25, \"9\": 101, \"5\": 15, \"6\": 82, \"10\": 1, \"7\": 3, \"8\": 2, \"0\": 7, \"15\": 2, \"1\": 2}, \"15\": {\"1\": 46, \"13\": 46, \"15\": 79, \"2\": 17, \"10\": 10, \"14\": 1, \"8\": 12, \"5\": 19, \"0\": 7, \"6\": 3}, \"5\": {\"1\": 12, \"6\": 22, \"9\": 16, \"15\": 15, \"7\": 31, \"8\": 40, \"5\": 63, \"10\": 5, \"0\": 18, \"13\": 12, \"3\": 6}, \"14\": {\"11\": 68, \"14\": 137, \"10\": 13, \"2\": 14, \"12\": 3, \"4\": 1, \"15\": 2, \"13\": 2}, \"0\": {\"0\": 59, \"5\": 28, \"7\": 60, \"10\": 6, \"9\": 8, \"3\": 16, \"8\": 37, \"1\": 5, \"6\": 7, \"15\": 6, \"13\": 4, \"2\": 1, \"12\": 2, \"14\": 1}, \"3\": {\"3\": 159, \"6\": 17, \"0\": 18, \"7\": 9, \"9\": 31, \"8\": 1, \"5\": 5}, \"1\": {\"1\": 128, \"10\": 2, \"15\": 46, \"6\": 11, \"2\": 2, \"5\": 15, \"13\": 26, \"8\": 7, \"9\": 2, \"0\": 1}, \"11\": {\"14\": 90, \"12\": 9, \"11\": 93, \"2\": 32, \"10\": 13, \"13\": 1, \"15\": 2}, \"7\": {\"7\": 90, \"8\": 37, \"0\": 55, \"4\": 4, \"6\": 9, \"5\": 24, \"3\": 9, \"9\": 6, \"12\": 2, \"13\": 1, \"10\": 3}, \"8\": {\"10\": 25, \"15\": 23, \"8\": 52, \"13\": 17, \"7\": 23, \"5\": 29, \"1\": 11, \"0\": 51, \"9\": 5, \"12\": 2, \"6\": 2}, \"4\": {\"4\": 172, \"12\": 56, \"7\": 6, \"10\": 4, \"0\": 2}, \"10\": {\"12\": 11, \"10\": 91, \"11\": 9, \"0\": 8, \"15\": 28, \"2\": 14, \"14\": 16, \"7\": 5, \"8\": 18, \"13\": 28, \"5\": 8, \"1\": 3, \"6\": 1}, \"6\": {\"3\": 13, \"9\": 78, \"5\": 22, \"6\": 104, \"0\": 4, \"8\": 4, \"1\": 10, \"13\": 1, \"15\": 2, \"7\": 2}}, \"O_26\": {\"10\": {\"9\": 14, \"8\": 29, \"14\": 23, \"4\": 22, \"7\": 13, \"6\": 23, \"10\": 28, \"12\": 3, \"0\": 21, \"2\": 10, \"15\": 11, \"1\": 27, \"5\": 7, \"3\": 3, \"13\": 6}, \"12\": {\"12\": 208, \"11\": 18, \"10\": 5, \"6\": 5, \"8\": 1, \"0\": 2, \"1\": 1}, \"1\": {\"0\": 30, \"4\": 29, \"3\": 14, \"7\": 19, \"14\": 28, \"10\": 16, \"2\": 6, \"1\": 50, \"13\": 4, \"8\": 15, \"9\": 9, \"15\": 7, \"6\": 7, \"12\": 2, \"5\": 4}, \"0\": {\"0\": 29, \"3\": 10, \"10\": 22, \"7\": 22, \"8\": 30, \"4\": 23, \"5\": 5, \"1\": 24, \"15\": 6, \"2\": 7, \"6\": 20, \"9\": 13, \"13\": 1, \"12\": 3, \"14\": 25}, \"15\": {\"7\": 22, \"8\": 15, \"15\": 34, \"9\": 31, \"0\": 10, \"2\": 27, \"10\": 9, \"5\": 31, \"1\": 6, \"6\": 7, \"13\": 24, \"3\": 7, \"14\": 8, \"4\": 9}, \"13\": {\"8\": 9, \"13\": 77, \"0\": 5, \"15\": 37, \"5\": 49, \"14\": 4, \"2\": 10, \"6\": 12, \"12\": 2, \"7\": 4, \"10\": 4, \"9\": 16, \"11\": 4, \"3\": 4, \"4\": 1, \"1\": 2}, \"8\": {\"0\": 14, \"8\": 25, \"9\": 22, \"15\": 13, \"2\": 15, \"6\": 22, \"5\": 21, \"14\": 18, \"4\": 19, \"10\": 20, \"13\": 16, \"7\": 16, \"1\": 10, \"3\": 9}, \"3\": {\"5\": 12, \"3\": 65, \"2\": 43, \"15\": 9, \"9\": 11, \"7\": 39, \"0\": 5, \"8\": 12, \"4\": 13, \"14\": 16, \"13\": 4, \"10\": 3, \"6\": 4, \"1\": 4}, \"11\": {\"11\": 204, \"8\": 2, \"12\": 25, \"6\": 3, \"13\": 4, \"5\": 1, \"10\": 1}, \"4\": {\"15\": 10, \"0\": 26, \"10\": 24, \"14\": 28, \"7\": 20, \"1\": 32, \"4\": 30, \"5\": 2, \"6\": 11, \"3\": 14, \"8\": 21, \"9\": 12, \"2\": 7, \"13\": 3}, \"6\": {\"10\": 27, \"6\": 52, \"0\": 20, \"15\": 20, \"12\": 7, \"5\": 8, \"2\": 4, \"9\": 38, \"7\": 9, \"13\": 17, \"8\": 14, \"4\": 4, \"14\": 13, \"1\": 4, \"3\": 3}, \"7\": {\"8\": 18, \"3\": 31, \"7\": 28, \"4\": 25, \"2\": 38, \"14\": 19, \"1\": 9, \"13\": 5, \"5\": 15, \"10\": 10, \"9\": 11, \"0\": 14, \"6\": 5, \"15\": 12}, \"14\": {\"4\": 38, \"10\": 19, \"7\": 22, \"1\": 27, \"9\": 19, \"6\": 18, \"12\": 6, \"8\": 16, \"14\": 22, \"0\": 34, \"3\": 8, \"15\": 3, \"13\": 1, \"2\": 3, \"5\": 4}, \"2\": {\"7\": 26, \"2\": 45, \"15\": 21, \"0\": 11, \"5\": 23, \"4\": 10, \"13\": 17, \"3\": 53, \"10\": 4, \"9\": 13, \"6\": 4, \"8\": 6, \"1\": 4, \"14\": 3}, \"5\": {\"8\": 16, \"6\": 16, \"0\": 9, \"5\": 51, \"15\": 34, \"14\": 5, \"13\": 39, \"4\": 4, \"7\": 13, \"3\": 12, \"9\": 16, \"2\": 19, \"10\": 2, \"1\": 3, \"11\": 1}, \"9\": {\"9\": 40, \"12\": 4, \"6\": 23, \"3\": 14, \"0\": 12, \"15\": 23, \"5\": 23, \"13\": 15, \"10\": 11, \"14\": 12, \"7\": 14, \"8\": 19, \"1\": 4, \"4\": 9, \"2\": 16, \"11\": 1}}, \"O_20\": {\"5\": {\"12\": 32, \"15\": 26, \"5\": 23, \"0\": 36, \"13\": 11, \"1\": 24, \"2\": 14, \"4\": 17, \"9\": 18, \"10\": 7, \"3\": 12, \"7\": 11, \"8\": 8, \"6\": 1}, \"15\": {\"15\": 44, \"12\": 18, \"0\": 34, \"1\": 33, \"2\": 10, \"13\": 26, \"10\": 3, \"4\": 5, \"5\": 30, \"9\": 18, \"7\": 10, \"3\": 8, \"8\": 1}, \"9\": {\"15\": 15, \"9\": 25, \"2\": 24, \"3\": 27, \"7\": 21, \"4\": 10, \"0\": 7, \"10\": 8, \"1\": 17, \"13\": 21, \"12\": 28, \"6\": 4, \"8\": 10, \"11\": 2, \"5\": 19, \"14\": 2}, \"7\": {\"6\": 28, \"4\": 13, \"3\": 16, \"8\": 19, \"10\": 9, \"2\": 26, \"5\": 15, \"15\": 10, \"13\": 18, \"7\": 30, \"12\": 8, \"14\": 10, \"11\": 13, \"0\": 5, \"9\": 13, \"1\": 7}, \"3\": {\"7\": 25, \"5\": 30, \"8\": 8, \"2\": 26, \"4\": 20, \"9\": 23, \"12\": 17, \"10\": 13, \"15\": 13, \"1\": 15, \"3\": 27, \"13\": 8, \"0\": 11, \"14\": 3, \"6\": 1}, \"8\": {\"15\": 6, \"6\": 23, \"4\": 34, \"1\": 2, \"9\": 9, \"14\": 31, \"8\": 44, \"0\": 16, \"2\": 9, \"10\": 19, \"12\": 8, \"7\": 16, \"3\": 4, \"5\": 14, \"13\": 4, \"11\": 1}, \"4\": {\"5\": 19, \"8\": 36, \"14\": 10, \"6\": 8, \"4\": 39, \"0\": 21, \"7\": 10, \"1\": 12, \"10\": 22, \"9\": 12, \"3\": 19, \"2\": 8, \"15\": 8, \"12\": 13, \"13\": 3}, \"6\": {\"3\": 6, \"9\": 3, \"6\": 76, \"14\": 47, \"7\": 19, \"8\": 29, \"2\": 9, \"11\": 14, \"4\": 10, \"12\": 1, \"10\": 21, \"5\": 2, \"0\": 1, \"13\": 1, \"1\": 1}, \"2\": {\"8\": 8, \"13\": 29, \"12\": 24, \"4\": 13, \"0\": 3, \"2\": 40, \"9\": 26, \"1\": 18, \"3\": 20, \"14\": 3, \"11\": 6, \"10\": 10, \"6\": 2, \"15\": 9, \"7\": 23, \"5\": 6}, \"12\": {\"15\": 22, \"9\": 24, \"2\": 13, \"13\": 12, \"12\": 27, \"0\": 17, \"1\": 23, \"5\": 28, \"3\": 31, \"10\": 10, \"4\": 14, \"8\": 4, \"7\": 12, \"6\": 2, \"14\": 1}, \"0\": {\"1\": 18, \"6\": 3, \"9\": 15, \"2\": 8, \"4\": 20, \"3\": 14, \"5\": 38, \"0\": 48, \"12\": 17, \"15\": 28, \"13\": 12, \"8\": 9, \"7\": 7, \"10\": 3}, \"13\": {\"3\": 10, \"2\": 37, \"15\": 20, \"12\": 15, \"13\": 60, \"1\": 18, \"7\": 19, \"0\": 14, \"9\": 18, \"5\": 13, \"11\": 9, \"6\": 4, \"4\": 2, \"10\": 1}, \"10\": {\"6\": 25, \"4\": 33, \"14\": 36, \"9\": 11, \"7\": 15, \"10\": 59, \"3\": 12, \"15\": 3, \"8\": 17, \"11\": 6, \"12\": 6, \"0\": 3, \"2\": 6, \"1\": 2, \"5\": 5, \"13\": 1}, \"11\": {\"11\": 168, \"2\": 15, \"7\": 12, \"6\": 17, \"13\": 12, \"14\": 5, \"9\": 3, \"10\": 4, \"8\": 2, \"15\": 1, \"3\": 1}, \"14\": {\"4\": 15, \"10\": 25, \"8\": 41, \"14\": 67, \"5\": 2, \"6\": 46, \"7\": 16, \"9\": 6, \"13\": 2, \"12\": 3, \"11\": 4, \"2\": 4, \"0\": 2, \"3\": 7}, \"1\": {\"8\": 4, \"15\": 28, \"5\": 22, \"12\": 26, \"0\": 32, \"1\": 43, \"3\": 14, \"9\": 17, \"2\": 17, \"7\": 8, \"10\": 6, \"13\": 12, \"4\": 9, \"6\": 2}}, \"O_50\": {\"1\": {\"4\": 41, \"6\": 28, \"1\": 76, \"14\": 8, \"15\": 45, \"11\": 15, \"2\": 7, \"5\": 8, \"13\": 7, \"7\": 3, \"0\": 2}, \"2\": {\"2\": 141, \"0\": 65, \"7\": 2, \"10\": 9, \"1\": 9, \"6\": 3, \"14\": 6, \"13\": 3, \"5\": 1, \"15\": 1}, \"8\": {\"3\": 41, \"8\": 140, \"10\": 46, \"0\": 7, \"7\": 3, \"2\": 1, \"5\": 1, \"13\": 1}, \"7\": {\"7\": 93, \"10\": 29, \"13\": 46, \"5\": 38, \"8\": 6, \"6\": 17, \"0\": 4, \"4\": 4, \"1\": 2, \"3\": 1}, \"14\": {\"12\": 39, \"14\": 135, \"9\": 20, \"2\": 14, \"15\": 6, \"1\": 11, \"11\": 13, \"6\": 1, \"0\": 1}, \"6\": {\"13\": 33, \"6\": 77, \"1\": 26, \"7\": 16, \"5\": 23, \"4\": 26, \"15\": 23, \"10\": 5, \"2\": 4, \"11\": 2, \"0\": 4, \"14\": 1}, \"3\": {\"3\": 193, \"8\": 43, \"10\": 3, \"7\": 1}, \"4\": {\"1\": 48, \"4\": 57, \"5\": 34, \"7\": 18, \"9\": 1, \"6\": 22, \"13\": 20, \"0\": 3, \"15\": 27, \"2\": 1, \"11\": 7, \"14\": 2}, \"12\": {\"12\": 147, \"14\": 37, \"9\": 42, \"11\": 13, \"15\": 1}, \"15\": {\"15\": 93, \"4\": 30, \"5\": 7, \"6\": 31, \"11\": 29, \"14\": 7, \"1\": 31, \"9\": 6, \"7\": 4, \"13\": 2}, \"11\": {\"15\": 36, \"9\": 53, \"11\": 100, \"2\": 3, \"14\": 20, \"12\": 8, \"4\": 8, \"1\": 9, \"6\": 3}, \"0\": {\"10\": 42, \"6\": 9, \"0\": 106, \"2\": 63, \"7\": 1, \"13\": 10, \"1\": 2, \"5\": 6, \"14\": 1}, \"9\": {\"9\": 108, \"11\": 51, \"12\": 55, \"14\": 24, \"1\": 1, \"15\": 1}, \"10\": {\"8\": 25, \"10\": 108, \"13\": 18, \"3\": 1, \"7\": 32, \"0\": 37, \"5\": 17, \"6\": 1, \"4\": 1}, \"5\": {\"0\": 5, \"4\": 31, \"1\": 19, \"5\": 53, \"13\": 51, \"7\": 41, \"10\": 17, \"6\": 14, \"2\": 6, \"8\": 2, \"15\": 1}, \"13\": {\"7\": 53, \"13\": 59, \"10\": 23, \"5\": 43, \"1\": 16, \"4\": 10, \"6\": 18, \"0\": 16, \"15\": 1, \"2\": 1}}, \"O_32\": {\"2\": {\"4\": 49, \"2\": 90, \"7\": 24, \"0\": 40, \"14\": 7, \"13\": 11, \"11\": 1, \"9\": 1, \"8\": 8, \"5\": 9}, \"6\": {\"6\": 226, \"12\": 9, \"10\": 5}, \"5\": {\"11\": 9, \"7\": 29, \"2\": 17, \"13\": 38, \"3\": 21, \"14\": 15, \"0\": 22, \"5\": 41, \"8\": 28, \"4\": 20}, \"12\": {\"12\": 208, \"10\": 7, \"6\": 14, \"9\": 11}, \"13\": {\"11\": 16, \"5\": 38, \"8\": 24, \"3\": 40, \"7\": 23, \"14\": 14, \"4\": 26, \"0\": 11, \"2\": 10, \"13\": 38}, \"9\": {\"12\": 26, \"9\": 210, \"0\": 2, \"2\": 2}, \"11\": {\"7\": 29, \"11\": 95, \"14\": 55, \"5\": 15, \"3\": 18, \"4\": 3, \"13\": 15, \"8\": 3, \"0\": 6, \"2\": 1}, \"1\": {\"10\": 39, \"1\": 199, \"6\": 2}, \"3\": {\"3\": 135, \"14\": 11, \"11\": 17, \"8\": 21, \"13\": 30, \"5\": 19, \"7\": 4, \"15\": 3}, \"7\": {\"7\": 40, \"8\": 10, \"3\": 10, \"4\": 34, \"2\": 10, \"11\": 27, \"5\": 41, \"14\": 33, \"0\": 11, \"13\": 24}, \"14\": {\"4\": 15, \"11\": 58, \"8\": 8, \"14\": 58, \"5\": 14, \"3\": 13, \"0\": 17, \"13\": 18, \"7\": 36, \"2\": 3}, \"8\": {\"5\": 25, \"8\": 89, \"0\": 35, \"4\": 16, \"13\": 29, \"3\": 18, \"7\": 10, \"11\": 5, \"15\": 5, \"14\": 5, \"2\": 3}, \"4\": {\"4\": 60, \"14\": 8, \"5\": 28, \"2\": 44, \"7\": 41, \"11\": 7, \"0\": 25, \"8\": 6, \"3\": 3, \"13\": 18}, \"0\": {\"14\": 15, \"13\": 21, \"0\": 75, \"2\": 29, \"8\": 42, \"4\": 28, \"11\": 10, \"7\": 12, \"5\": 8}, \"10\": {\"10\": 194, \"1\": 42, \"6\": 4}, \"15\": {\"3\": 6, \"15\": 209, \"0\": 4, \"8\": 18, \"13\": 2, \"5\": 1}}, \"O_44\": {\"13\": {\"13\": 69, \"7\": 25, \"6\": 52, \"11\": 29, \"2\": 3, \"9\": 44, \"4\": 16, \"14\": 2}, \"4\": {\"14\": 73, \"4\": 110, \"13\": 10, \"0\": 3, \"9\": 5, \"15\": 25, \"5\": 11, \"1\": 1, \"3\": 1, \"7\": 1}, \"6\": {\"13\": 42, \"2\": 9, \"9\": 55, \"6\": 99, \"7\": 16, \"11\": 17, \"14\": 1, \"10\": 1}, \"0\": {\"0\": 93, \"14\": 15, \"15\": 35, \"8\": 68, \"5\": 26, \"4\": 3}, \"10\": {\"2\": 46, \"1\": 35, \"10\": 83, \"12\": 63, \"7\": 5, \"3\": 5, \"9\": 3}, \"7\": {\"13\": 14, \"7\": 57, \"9\": 54, \"3\": 16, \"6\": 32, \"2\": 47, \"11\": 2, \"10\": 3, \"1\": 12, \"12\": 1, \"4\": 2}, \"14\": {\"4\": 68, \"15\": 36, \"14\": 80, \"0\": 21, \"5\": 28, \"13\": 2, \"8\": 3, \"9\": 2}, \"15\": {\"14\": 31, \"0\": 48, \"15\": 87, \"8\": 38, \"5\": 21, \"4\": 15}, \"5\": {\"0\": 42, \"8\": 26, \"5\": 110, \"15\": 22, \"14\": 29, \"4\": 11}, \"2\": {\"2\": 83, \"10\": 48, \"1\": 26, \"7\": 39, \"6\": 8, \"3\": 6, \"9\": 19, \"12\": 10, \"13\": 1}, \"9\": {\"9\": 66, \"7\": 52, \"4\": 3, \"13\": 46, \"6\": 44, \"2\": 17, \"1\": 4, \"14\": 2, \"3\": 1, \"10\": 2, \"11\": 3}, \"12\": {\"12\": 111, \"1\": 58, \"10\": 38, \"3\": 23, \"2\": 9, \"7\": 1}, \"8\": {\"0\": 79, \"8\": 105, \"15\": 33, \"5\": 19, \"14\": 4}, \"3\": {\"3\": 116, \"1\": 56, \"12\": 38, \"7\": 7, \"2\": 15, \"9\": 3, \"10\": 5}, \"1\": {\"12\": 59, \"3\": 57, \"2\": 28, \"1\": 53, \"10\": 33, \"7\": 8, \"9\": 2}, \"11\": {\"9\": 10, \"11\": 161, \"13\": 35, \"6\": 28, \"4\": 4, \"7\": 2}}, \"O_14\": {\"1\": {\"5\": 49, \"1\": 93, \"7\": 15, \"4\": 36, \"3\": 17, \"15\": 3, \"8\": 16, \"2\": 9, \"0\": 1, \"14\": 1}, \"15\": {\"15\": 140, \"1\": 17, \"5\": 12, \"7\": 63, \"4\": 3, \"2\": 3, \"13\": 1, \"6\": 1}, \"10\": {\"10\": 118, \"11\": 31, \"9\": 2, \"3\": 13, \"0\": 57, \"14\": 5, \"6\": 4, \"13\": 2, \"4\": 6, \"8\": 1, \"2\": 1}, \"2\": {\"3\": 27, \"14\": 34, \"6\": 24, \"4\": 29, \"13\": 15, \"2\": 55, \"5\": 30, \"15\": 8, \"0\": 7, \"10\": 1, \"7\": 5, \"1\": 4, \"8\": 1}, \"9\": {\"12\": 49, \"11\": 29, \"9\": 132, \"0\": 21, \"3\": 2, \"8\": 3, \"10\": 4}, \"5\": {\"5\": 45, \"6\": 6, \"2\": 28, \"3\": 26, \"1\": 47, \"4\": 41, \"7\": 24, \"13\": 4, \"14\": 6, \"15\": 10, \"8\": 1, \"0\": 1, \"10\": 1}, \"7\": {\"7\": 147, \"2\": 4, \"15\": 52, \"1\": 22, \"8\": 1, \"5\": 10, \"3\": 2, \"13\": 1, \"4\": 1}, \"13\": {\"13\": 64, \"6\": 62, \"5\": 11, \"2\": 32, \"14\": 38, \"10\": 4, \"11\": 1, \"3\": 12, \"4\": 13, \"1\": 1, \"0\": 2}, \"8\": {\"8\": 174, \"9\": 12, \"0\": 8, \"7\": 1, \"3\": 13, \"1\": 20, \"12\": 1, \"5\": 3, \"4\": 6, \"14\": 1, \"11\": 1}, \"6\": {\"13\": 63, \"6\": 72, \"14\": 38, \"10\": 6, \"2\": 22, \"15\": 4, \"4\": 17, \"5\": 8, \"0\": 1, \"1\": 1, \"3\": 8}, \"3\": {\"3\": 45, \"14\": 26, \"11\": 3, \"6\": 9, \"2\": 22, \"13\": 10, \"1\": 15, \"4\": 45, \"10\": 14, \"0\": 22, \"5\": 22, \"8\": 7}, \"12\": {\"12\": 185, \"9\": 43, \"11\": 12}, \"0\": {\"8\": 10, \"10\": 47, \"11\": 43, \"3\": 23, \"14\": 6, \"0\": 84, \"9\": 12, \"4\": 8, \"2\": 4, \"5\": 3}, \"4\": {\"3\": 36, \"5\": 33, \"2\": 30, \"1\": 36, \"14\": 14, \"4\": 50, \"6\": 15, \"8\": 9, \"0\": 6, \"13\": 8, \"10\": 2, \"15\": 1}, \"14\": {\"4\": 16, \"14\": 80, \"0\": 7, \"3\": 26, \"10\": 9, \"6\": 28, \"2\": 24, \"13\": 39, \"11\": 2, \"5\": 9}, \"11\": {\"9\": 38, \"0\": 36, \"11\": 124, \"13\": 1, \"12\": 13, \"10\": 27, \"14\": 1}}}, \"per_domain_accuracy\": {\"C_2\": {\"accuracy\": 0.9996448863636364, \"source?\": true}, \"C_5\": {\"accuracy\": 0.9984199438202247, \"source?\": true}, \"C_1\": {\"accuracy\": 0.9989697802197802, \"source?\": true}, \"C_4\": {\"accuracy\": 0.999438622754491, \"source?\": true}, \"C_3\": {\"accuracy\": 0.9992690058479532, \"source?\": true}, \"O_8\": {\"accuracy\": 0.3015625, \"source?\": false}, \"O_38\": {\"accuracy\": 0.44869791666666664, \"source?\": false}, \"O_26\": {\"accuracy\": 0.25729166666666664, \"source?\": false}, \"O_20\": {\"accuracy\": 0.21354166666666666, \"source?\": false}, \"O_50\": {\"accuracy\": 0.4390625, \"source?\": false}, \"O_32\": {\"accuracy\": 0.5122395833333333, \"source?\": false}, \"O_44\": {\"accuracy\": 0.38619791666666664, \"source?\": false}, \"O_14\": {\"accuracy\": 0.41875, \"source?\": false}}}, \"history\": {\"epoch_indices\": [1, 2, 3, 4, 5, 6, 7, 8, 9, 10], \"train_label_loss\": [0.04804918073792266, 0.01455234944585815, 0.01000230538955195, 0.006442123695821224, 0.005563375626005138, 0.003264302010924653, 0.003551122437217865, 0.002781706471790036, 0.0030629439182161106, 0.002391548251582747], \"source_val_label_loss\": [0.010325289331376553, 0.012058350257575512, 0.009047402068972588, 0.009083370678126812, 0.006764918565750122, 0.00567164970561862, 0.007065881043672562, 0.0054735844023525715, 0.005984246730804443, 0.006955963559448719], \"target_val_label_loss\": [1.928235650062561, 2.2863969802856445, 1.8691074848175049, 2.166853189468384, 1.891298532485962, 1.9023420810699463, 1.9785587787628174, 1.9879117012023926, 2.201228380203247, 2.400662660598755], \"source_val_acc_label\": [0.9978546910755148, 0.9978189359267735, 0.9987128146453089, 0.9985697940503433, 0.9990703661327232, 0.9991418764302059, 0.9992491418764302, 0.9993921624713958, 0.9994279176201373, 0.9993921624713958], \"target_val_acc_label\": [0.33277994791666665, 0.3108723958333333, 0.36516927083333334, 0.316796875, 0.3624348958333333, 0.37216796875, 0.35979817708333334, 0.3641276041666667, 0.3326171875, 0.32412109375]}, \"dataset_metrics\": {\"source\": {\"train\": {\"n_unique_x\": 175222, \"n_unique_y\": 58, \"n_batch/episode\": 6312}, \"val\": {\"n_unique_x\": 37135, \"n_unique_y\": 58, \"n_batch/episode\": 874}, \"test\": {\"n_unique_x\": 37673, \"n_unique_y\": 58, \"n_batch/episode\": 893}}, \"target\": {\"train\": {\"n_unique_x\": 179200, \"n_unique_y\": 16, \"n_batch/episode\": 6720}, \"val\": {\"n_unique_x\": 38400, \"n_unique_y\": 16, \"n_batch/episode\": 960}, \"test\": {\"n_unique_x\": 38400, \"n_unique_y\": 16, \"n_batch/episode\": 960}}}}'"
      ]
     },
     "execution_count": 29,
     "metadata": {},
     "output_type": "execute_result"
    }
   ],
   "source": [
    "json.dumps(experiment)"
   ]
  }
 ],
 "metadata": {
  "celltoolbar": "Tags",
  "kernelspec": {
   "display_name": "Python 3 (ipykernel)",
   "language": "python",
   "name": "python3"
  },
  "language_info": {
   "codemirror_mode": {
    "name": "ipython",
    "version": 3
   },
   "file_extension": ".py",
   "mimetype": "text/x-python",
   "name": "python",
   "nbconvert_exporter": "python",
   "pygments_lexer": "ipython3",
   "version": "3.8.12"
  },
  "papermill": {
   "default_parameters": {},
   "duration": 1761.264084,
   "end_time": "2022-03-28T14:00:14.905964",
   "environment_variables": {},
   "exception": null,
   "input_path": "/root/csc500-main/csc500-notebooks/templates/tl_ptn_template.ipynb",
   "output_path": "trial.ipynb",
   "parameters": {
    "parameters": {
     "BEST_MODEL_PATH": "./best_model.pth",
     "NUM_LOGS_PER_EPOCH": 10,
     "criteria_for_best": "target_accuracy",
     "dataset_seed": 154325,
     "datasets": [
      {
       "domain_prefix": "C_",
       "domains": [
        1,
        2,
        3,
        4,
        5
       ],
       "episode_transforms": [],
       "labels": [
        "1-10.",
        "1-11.",
        "1-15.",
        "1-16.",
        "1-17.",
        "1-18.",
        "1-19.",
        "10-4.",
        "10-7.",
        "11-1.",
        "11-14.",
        "11-17.",
        "11-20.",
        "11-7.",
        "13-20.",
        "13-8.",
        "14-10.",
        "14-11.",
        "14-14.",
        "14-7.",
        "15-1.",
        "15-20.",
        "16-1.",
        "16-16.",
        "17-10.",
        "17-11.",
        "17-2.",
        "19-1.",
        "19-16.",
        "19-19.",
        "19-20.",
        "19-3.",
        "2-10.",
        "2-11.",
        "2-17.",
        "2-18.",
        "2-20.",
        "2-3.",
        "2-4.",
        "2-5.",
        "2-6.",
        "2-7.",
        "2-8.",
        "3-13.",
        "3-18.",
        "3-3.",
        "4-1.",
        "4-10.",
        "4-11.",
        "4-19.",
        "5-5.",
        "6-15.",
        "7-10.",
        "7-14.",
        "8-18.",
        "8-20.",
        "8-3.",
        "8-8."
       ],
       "num_examples_per_domain_per_label": -1,
       "pickle_path": "/root/csc500-main/datasets/cores.stratified_ds.2022A.pkl",
       "source_or_target_dataset": "source",
       "x_transforms": [
        "unit_mag",
        "jitter_256_5",
        "lowpass_+/-10MHz",
        "take_200"
       ]
      },
      {
       "domain_prefix": "O_",
       "domains": [
        32,
        38,
        8,
        44,
        14,
        50,
        20,
        26
       ],
       "episode_transforms": [],
       "labels": [
        "3123D52",
        "3123D65",
        "3123D79",
        "3123D80",
        "3123D54",
        "3123D70",
        "3123D7B",
        "3123D89",
        "3123D58",
        "3123D76",
        "3123D7D",
        "3123EFE",
        "3123D64",
        "3123D78",
        "3123D7E",
        "3124E4A"
       ],
       "num_examples_per_domain_per_label": 2000,
       "pickle_path": "/root/csc500-main/datasets/oracle.Run1_framed_2000Examples_stratified_ds.2022A.pkl",
       "source_or_target_dataset": "target",
       "x_transforms": [
        "unit_mag",
        "jitter_256_5",
        "take_200",
        "resample_20Msps_to_25Msps"
       ]
      }
     ],
     "device": "cuda",
     "experiment_name": "tl_3-jitter5v2:cores -> oracle.run1.framed",
     "lr": 0.0001,
     "n_epoch": 50,
     "n_query": 2,
     "n_shot": 3,
     "n_way": 16,
     "patience": 3,
     "seed": 154325,
     "test_k_factor": 2,
     "torch_default_dtype": "torch.float32",
     "train_k_factor": 3,
     "val_k_factor": 2,
     "x_net": [
      {
       "class": "nnReshape",
       "kargs": {
        "shape": [
         -1,
         1,
         2,
         256
        ]
       }
      },
      {
       "class": "Conv2d",
       "kargs": {
        "bias": false,
        "in_channels": 1,
        "kernel_size": [
         1,
         7
        ],
        "out_channels": 256,
        "padding": [
         0,
         3
        ]
       }
      },
      {
       "class": "ReLU",
       "kargs": {
        "inplace": true
       }
      },
      {
       "class": "BatchNorm2d",
       "kargs": {
        "num_features": 256
       }
      },
      {
       "class": "Conv2d",
       "kargs": {
        "bias": true,
        "in_channels": 256,
        "kernel_size": [
         2,
         7
        ],
        "out_channels": 80,
        "padding": [
         0,
         3
        ]
       }
      },
      {
       "class": "ReLU",
       "kargs": {
        "inplace": true
       }
      },
      {
       "class": "BatchNorm2d",
       "kargs": {
        "num_features": 80
       }
      },
      {
       "class": "Flatten",
       "kargs": {}
      },
      {
       "class": "Linear",
       "kargs": {
        "in_features": 20480,
        "out_features": 256
       }
      },
      {
       "class": "ReLU",
       "kargs": {
        "inplace": true
       }
      },
      {
       "class": "BatchNorm1d",
       "kargs": {
        "num_features": 256
       }
      },
      {
       "class": "Linear",
       "kargs": {
        "in_features": 256,
        "out_features": 256
       }
      }
     ],
     "x_shape": [
      2,
      256
     ]
    }
   },
   "start_time": "2022-03-28T13:30:53.641880",
   "version": "2.3.4"
  }
 },
 "nbformat": 4,
 "nbformat_minor": 5
}