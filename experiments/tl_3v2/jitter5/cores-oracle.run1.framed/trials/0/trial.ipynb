{
 "cells": [
  {
   "cell_type": "markdown",
   "id": "9fea5f46",
   "metadata": {
    "papermill": {
     "duration": 0.029417,
     "end_time": "2022-03-28T12:00:55.067941",
     "exception": false,
     "start_time": "2022-03-28T12:00:55.038524",
     "status": "completed"
    },
    "tags": []
   },
   "source": [
    "# Transfer Learning Template"
   ]
  },
  {
   "cell_type": "code",
   "execution_count": 1,
   "id": "0902182a",
   "metadata": {
    "execution": {
     "iopub.execute_input": "2022-03-28T12:00:55.130360Z",
     "iopub.status.busy": "2022-03-28T12:00:55.129490Z",
     "iopub.status.idle": "2022-03-28T12:00:56.929038Z",
     "shell.execute_reply": "2022-03-28T12:00:56.928194Z"
    },
    "papermill": {
     "duration": 1.838696,
     "end_time": "2022-03-28T12:00:56.929239",
     "exception": false,
     "start_time": "2022-03-28T12:00:55.090543",
     "status": "completed"
    },
    "tags": []
   },
   "outputs": [],
   "source": [
    "%load_ext autoreload\n",
    "%autoreload 2\n",
    "%matplotlib inline\n",
    "\n",
    "    \n",
    "import os, json, sys, time, random\n",
    "import numpy as np\n",
    "import torch\n",
    "from torch.optim import Adam\n",
    "from  easydict import EasyDict\n",
    "import matplotlib.pyplot as plt\n",
    "\n",
    "from steves_models.steves_ptn import Steves_Prototypical_Network\n",
    "\n",
    "from steves_utils.lazy_iterable_wrapper import Lazy_Iterable_Wrapper\n",
    "from steves_utils.iterable_aggregator import Iterable_Aggregator\n",
    "from steves_utils.ptn_train_eval_test_jig import  PTN_Train_Eval_Test_Jig\n",
    "from steves_utils.torch_sequential_builder import build_sequential\n",
    "from steves_utils.torch_utils import get_dataset_metrics, ptn_confusion_by_domain_over_dataloader\n",
    "from steves_utils.utils_v2 import (per_domain_accuracy_from_confusion, get_datasets_base_path)\n",
    "from steves_utils.PTN.utils import independent_accuracy_assesment\n",
    "\n",
    "from torch.utils.data import DataLoader\n",
    "\n",
    "from steves_utils.stratified_dataset.episodic_accessor import Episodic_Accessor_Factory\n",
    "\n",
    "from steves_utils.ptn_do_report import (\n",
    "    get_loss_curve,\n",
    "    get_results_table,\n",
    "    get_parameters_table,\n",
    "    get_domain_accuracies,\n",
    ")\n",
    "\n",
    "from steves_utils.transforms import get_chained_transform"
   ]
  },
  {
   "cell_type": "markdown",
   "id": "41c840b4",
   "metadata": {
    "papermill": {
     "duration": 0.019475,
     "end_time": "2022-03-28T12:00:56.973023",
     "exception": false,
     "start_time": "2022-03-28T12:00:56.953548",
     "status": "completed"
    },
    "tags": []
   },
   "source": [
    "# Allowed Parameters\n",
    "These are allowed parameters, not defaults\n",
    "Each of these values need to be present in the injected parameters (the notebook will raise an exception if they are not present)\n",
    "\n",
    "Papermill uses the cell tag \"parameters\" to inject the real parameters below this cell.\n",
    "Enable tags to see what I mean"
   ]
  },
  {
   "cell_type": "code",
   "execution_count": 2,
   "id": "fd44eb83",
   "metadata": {
    "execution": {
     "iopub.execute_input": "2022-03-28T12:00:57.016417Z",
     "iopub.status.busy": "2022-03-28T12:00:57.015909Z",
     "iopub.status.idle": "2022-03-28T12:00:57.039732Z",
     "shell.execute_reply": "2022-03-28T12:00:57.038873Z"
    },
    "papermill": {
     "duration": 0.047553,
     "end_time": "2022-03-28T12:00:57.039891",
     "exception": false,
     "start_time": "2022-03-28T12:00:56.992338",
     "status": "completed"
    },
    "tags": []
   },
   "outputs": [],
   "source": [
    "required_parameters = {\n",
    "    \"experiment_name\",\n",
    "    \"lr\",\n",
    "    \"device\",\n",
    "    \"seed\",\n",
    "    \"dataset_seed\",\n",
    "    \"n_shot\",\n",
    "    \"n_query\",\n",
    "    \"n_way\",\n",
    "    \"train_k_factor\",\n",
    "    \"val_k_factor\",\n",
    "    \"test_k_factor\",\n",
    "    \"n_epoch\",\n",
    "    \"patience\",\n",
    "    \"criteria_for_best\",\n",
    "    \"x_net\",\n",
    "    \"datasets\",\n",
    "    \"torch_default_dtype\",\n",
    "    \"NUM_LOGS_PER_EPOCH\",\n",
    "    \"BEST_MODEL_PATH\",\n",
    "    \"x_shape\",\n",
    "}"
   ]
  },
  {
   "cell_type": "code",
   "execution_count": 3,
   "id": "fa3f0049",
   "metadata": {
    "execution": {
     "iopub.execute_input": "2022-03-28T12:00:57.101812Z",
     "iopub.status.busy": "2022-03-28T12:00:57.100899Z",
     "iopub.status.idle": "2022-03-28T12:00:57.123165Z",
     "shell.execute_reply": "2022-03-28T12:00:57.122340Z"
    },
    "papermill": {
     "duration": 0.056253,
     "end_time": "2022-03-28T12:00:57.123326",
     "exception": false,
     "start_time": "2022-03-28T12:00:57.067073",
     "status": "completed"
    },
    "tags": [
     "parameters"
    ]
   },
   "outputs": [],
   "source": [
    "from steves_utils.CORES.utils import (\n",
    "    ALL_NODES,\n",
    "    ALL_NODES_MINIMUM_1000_EXAMPLES,\n",
    "    ALL_DAYS\n",
    ")\n",
    "\n",
    "from steves_utils.ORACLE.utils_v2 import (\n",
    "    ALL_DISTANCES_FEET_NARROWED,\n",
    "    ALL_RUNS,\n",
    "    ALL_SERIAL_NUMBERS,\n",
    ")\n",
    "\n",
    "standalone_parameters = {}\n",
    "standalone_parameters[\"experiment_name\"] = \"STANDALONE PTN\"\n",
    "standalone_parameters[\"lr\"] = 0.001\n",
    "standalone_parameters[\"device\"] = \"cuda\"\n",
    "\n",
    "standalone_parameters[\"seed\"] = 1337\n",
    "standalone_parameters[\"dataset_seed\"] = 1337\n",
    "\n",
    "standalone_parameters[\"n_way\"] = 8\n",
    "standalone_parameters[\"n_shot\"] = 3\n",
    "standalone_parameters[\"n_query\"]  = 2\n",
    "standalone_parameters[\"train_k_factor\"] = 1\n",
    "standalone_parameters[\"val_k_factor\"] = 2\n",
    "standalone_parameters[\"test_k_factor\"] = 2\n",
    "\n",
    "\n",
    "standalone_parameters[\"n_epoch\"] = 50\n",
    "\n",
    "standalone_parameters[\"patience\"] = 10\n",
    "standalone_parameters[\"criteria_for_best\"] = \"source_loss\"\n",
    "\n",
    "standalone_parameters[\"datasets\"] = [\n",
    "    {\n",
    "        \"labels\": ALL_SERIAL_NUMBERS,\n",
    "        \"domains\": ALL_DISTANCES_FEET_NARROWED,\n",
    "        \"num_examples_per_domain_per_label\": 100,\n",
    "        \"pickle_path\": os.path.join(get_datasets_base_path(), \"oracle.Run1_framed_2000Examples_stratified_ds.2022A.pkl\"),\n",
    "        \"source_or_target_dataset\": \"source\",\n",
    "        \"x_transforms\": [\"unit_mag\", \"minus_two\"],\n",
    "        \"episode_transforms\": [],\n",
    "        \"domain_prefix\": \"ORACLE_\"\n",
    "    },\n",
    "    {\n",
    "        \"labels\": ALL_NODES,\n",
    "        \"domains\": ALL_DAYS,\n",
    "        \"num_examples_per_domain_per_label\": 100,\n",
    "        \"pickle_path\": os.path.join(get_datasets_base_path(), \"cores.stratified_ds.2022A.pkl\"),\n",
    "        \"source_or_target_dataset\": \"target\",\n",
    "        \"x_transforms\": [\"unit_power\", \"times_zero\"],\n",
    "        \"episode_transforms\": [],\n",
    "        \"domain_prefix\": \"CORES_\"\n",
    "    }   \n",
    "]\n",
    "\n",
    "standalone_parameters[\"torch_default_dtype\"] = \"torch.float32\" \n",
    "\n",
    "\n",
    "\n",
    "standalone_parameters[\"x_net\"] =     [\n",
    "    {\"class\": \"nnReshape\", \"kargs\": {\"shape\":[-1, 1, 2, 256]}},\n",
    "    {\"class\": \"Conv2d\", \"kargs\": { \"in_channels\":1, \"out_channels\":256, \"kernel_size\":(1,7), \"bias\":False, \"padding\":(0,3), },},\n",
    "    {\"class\": \"ReLU\", \"kargs\": {\"inplace\": True}},\n",
    "    {\"class\": \"BatchNorm2d\", \"kargs\": {\"num_features\":256}},\n",
    "\n",
    "    {\"class\": \"Conv2d\", \"kargs\": { \"in_channels\":256, \"out_channels\":80, \"kernel_size\":(2,7), \"bias\":True, \"padding\":(0,3), },},\n",
    "    {\"class\": \"ReLU\", \"kargs\": {\"inplace\": True}},\n",
    "    {\"class\": \"BatchNorm2d\", \"kargs\": {\"num_features\":80}},\n",
    "    {\"class\": \"Flatten\", \"kargs\": {}},\n",
    "\n",
    "    {\"class\": \"Linear\", \"kargs\": {\"in_features\": 80*256, \"out_features\": 256}}, # 80 units per IQ pair\n",
    "    {\"class\": \"ReLU\", \"kargs\": {\"inplace\": True}},\n",
    "    {\"class\": \"BatchNorm1d\", \"kargs\": {\"num_features\":256}},\n",
    "\n",
    "    {\"class\": \"Linear\", \"kargs\": {\"in_features\": 256, \"out_features\": 256}},\n",
    "]\n",
    "\n",
    "# Parameters relevant to results\n",
    "# These parameters will basically never need to change\n",
    "standalone_parameters[\"NUM_LOGS_PER_EPOCH\"] = 10\n",
    "standalone_parameters[\"BEST_MODEL_PATH\"] = \"./best_model.pth\"\n",
    "\n",
    "\n",
    "\n",
    "\n"
   ]
  },
  {
   "cell_type": "code",
   "execution_count": 4,
   "id": "af2cd7b3",
   "metadata": {
    "execution": {
     "iopub.execute_input": "2022-03-28T12:00:57.185862Z",
     "iopub.status.busy": "2022-03-28T12:00:57.184703Z",
     "iopub.status.idle": "2022-03-28T12:00:57.207498Z",
     "shell.execute_reply": "2022-03-28T12:00:57.206671Z"
    },
    "papermill": {
     "duration": 0.056139,
     "end_time": "2022-03-28T12:00:57.207712",
     "exception": false,
     "start_time": "2022-03-28T12:00:57.151573",
     "status": "completed"
    },
    "tags": [
     "injected-parameters"
    ]
   },
   "outputs": [],
   "source": [
    "# Parameters\n",
    "parameters = {\n",
    "    \"experiment_name\": \"tl_3-jitter5v2:cores -> oracle.run1.framed\",\n",
    "    \"device\": \"cuda\",\n",
    "    \"lr\": 0.0001,\n",
    "    \"x_shape\": [2, 256],\n",
    "    \"n_shot\": 3,\n",
    "    \"n_query\": 2,\n",
    "    \"train_k_factor\": 3,\n",
    "    \"val_k_factor\": 2,\n",
    "    \"test_k_factor\": 2,\n",
    "    \"torch_default_dtype\": \"torch.float32\",\n",
    "    \"n_epoch\": 50,\n",
    "    \"patience\": 3,\n",
    "    \"criteria_for_best\": \"target_accuracy\",\n",
    "    \"x_net\": [\n",
    "        {\"class\": \"nnReshape\", \"kargs\": {\"shape\": [-1, 1, 2, 256]}},\n",
    "        {\n",
    "            \"class\": \"Conv2d\",\n",
    "            \"kargs\": {\n",
    "                \"in_channels\": 1,\n",
    "                \"out_channels\": 256,\n",
    "                \"kernel_size\": [1, 7],\n",
    "                \"bias\": False,\n",
    "                \"padding\": [0, 3],\n",
    "            },\n",
    "        },\n",
    "        {\"class\": \"ReLU\", \"kargs\": {\"inplace\": True}},\n",
    "        {\"class\": \"BatchNorm2d\", \"kargs\": {\"num_features\": 256}},\n",
    "        {\n",
    "            \"class\": \"Conv2d\",\n",
    "            \"kargs\": {\n",
    "                \"in_channels\": 256,\n",
    "                \"out_channels\": 80,\n",
    "                \"kernel_size\": [2, 7],\n",
    "                \"bias\": True,\n",
    "                \"padding\": [0, 3],\n",
    "            },\n",
    "        },\n",
    "        {\"class\": \"ReLU\", \"kargs\": {\"inplace\": True}},\n",
    "        {\"class\": \"BatchNorm2d\", \"kargs\": {\"num_features\": 80}},\n",
    "        {\"class\": \"Flatten\", \"kargs\": {}},\n",
    "        {\"class\": \"Linear\", \"kargs\": {\"in_features\": 20480, \"out_features\": 256}},\n",
    "        {\"class\": \"ReLU\", \"kargs\": {\"inplace\": True}},\n",
    "        {\"class\": \"BatchNorm1d\", \"kargs\": {\"num_features\": 256}},\n",
    "        {\"class\": \"Linear\", \"kargs\": {\"in_features\": 256, \"out_features\": 256}},\n",
    "    ],\n",
    "    \"NUM_LOGS_PER_EPOCH\": 10,\n",
    "    \"BEST_MODEL_PATH\": \"./best_model.pth\",\n",
    "    \"n_way\": 16,\n",
    "    \"datasets\": [\n",
    "        {\n",
    "            \"labels\": [\n",
    "                \"1-10.\",\n",
    "                \"1-11.\",\n",
    "                \"1-15.\",\n",
    "                \"1-16.\",\n",
    "                \"1-17.\",\n",
    "                \"1-18.\",\n",
    "                \"1-19.\",\n",
    "                \"10-4.\",\n",
    "                \"10-7.\",\n",
    "                \"11-1.\",\n",
    "                \"11-14.\",\n",
    "                \"11-17.\",\n",
    "                \"11-20.\",\n",
    "                \"11-7.\",\n",
    "                \"13-20.\",\n",
    "                \"13-8.\",\n",
    "                \"14-10.\",\n",
    "                \"14-11.\",\n",
    "                \"14-14.\",\n",
    "                \"14-7.\",\n",
    "                \"15-1.\",\n",
    "                \"15-20.\",\n",
    "                \"16-1.\",\n",
    "                \"16-16.\",\n",
    "                \"17-10.\",\n",
    "                \"17-11.\",\n",
    "                \"17-2.\",\n",
    "                \"19-1.\",\n",
    "                \"19-16.\",\n",
    "                \"19-19.\",\n",
    "                \"19-20.\",\n",
    "                \"19-3.\",\n",
    "                \"2-10.\",\n",
    "                \"2-11.\",\n",
    "                \"2-17.\",\n",
    "                \"2-18.\",\n",
    "                \"2-20.\",\n",
    "                \"2-3.\",\n",
    "                \"2-4.\",\n",
    "                \"2-5.\",\n",
    "                \"2-6.\",\n",
    "                \"2-7.\",\n",
    "                \"2-8.\",\n",
    "                \"3-13.\",\n",
    "                \"3-18.\",\n",
    "                \"3-3.\",\n",
    "                \"4-1.\",\n",
    "                \"4-10.\",\n",
    "                \"4-11.\",\n",
    "                \"4-19.\",\n",
    "                \"5-5.\",\n",
    "                \"6-15.\",\n",
    "                \"7-10.\",\n",
    "                \"7-14.\",\n",
    "                \"8-18.\",\n",
    "                \"8-20.\",\n",
    "                \"8-3.\",\n",
    "                \"8-8.\",\n",
    "            ],\n",
    "            \"domains\": [1, 2, 3, 4, 5],\n",
    "            \"num_examples_per_domain_per_label\": -1,\n",
    "            \"pickle_path\": \"/root/csc500-main/datasets/cores.stratified_ds.2022A.pkl\",\n",
    "            \"source_or_target_dataset\": \"source\",\n",
    "            \"x_transforms\": [\n",
    "                \"unit_power\",\n",
    "                \"jitter_256_5\",\n",
    "                \"lowpass_+/-10MHz\",\n",
    "                \"take_200\",\n",
    "            ],\n",
    "            \"episode_transforms\": [],\n",
    "            \"domain_prefix\": \"C_\",\n",
    "        },\n",
    "        {\n",
    "            \"labels\": [\n",
    "                \"3123D52\",\n",
    "                \"3123D65\",\n",
    "                \"3123D79\",\n",
    "                \"3123D80\",\n",
    "                \"3123D54\",\n",
    "                \"3123D70\",\n",
    "                \"3123D7B\",\n",
    "                \"3123D89\",\n",
    "                \"3123D58\",\n",
    "                \"3123D76\",\n",
    "                \"3123D7D\",\n",
    "                \"3123EFE\",\n",
    "                \"3123D64\",\n",
    "                \"3123D78\",\n",
    "                \"3123D7E\",\n",
    "                \"3124E4A\",\n",
    "            ],\n",
    "            \"domains\": [32, 38, 8, 44, 14, 50, 20, 26],\n",
    "            \"num_examples_per_domain_per_label\": 2000,\n",
    "            \"pickle_path\": \"/root/csc500-main/datasets/oracle.Run1_framed_2000Examples_stratified_ds.2022A.pkl\",\n",
    "            \"source_or_target_dataset\": \"target\",\n",
    "            \"x_transforms\": [\n",
    "                \"unit_power\",\n",
    "                \"jitter_256_5\",\n",
    "                \"take_200\",\n",
    "                \"resample_20Msps_to_25Msps\",\n",
    "            ],\n",
    "            \"episode_transforms\": [],\n",
    "            \"domain_prefix\": \"O_\",\n",
    "        },\n",
    "    ],\n",
    "    \"seed\": 1337,\n",
    "    \"dataset_seed\": 1337,\n",
    "}\n"
   ]
  },
  {
   "cell_type": "code",
   "execution_count": 5,
   "id": "8fa1cc33",
   "metadata": {
    "execution": {
     "iopub.execute_input": "2022-03-28T12:00:57.260281Z",
     "iopub.status.busy": "2022-03-28T12:00:57.259807Z",
     "iopub.status.idle": "2022-03-28T12:00:57.282750Z",
     "shell.execute_reply": "2022-03-28T12:00:57.281923Z"
    },
    "papermill": {
     "duration": 0.050031,
     "end_time": "2022-03-28T12:00:57.282909",
     "exception": false,
     "start_time": "2022-03-28T12:00:57.232878",
     "status": "completed"
    },
    "tags": []
   },
   "outputs": [],
   "source": [
    "# Set this to True if you want to run this template directly\n",
    "STANDALONE = False\n",
    "if STANDALONE:\n",
    "    print(\"parameters not injected, running with standalone_parameters\")\n",
    "    parameters = standalone_parameters\n",
    "\n",
    "if not 'parameters' in locals() and not 'parameters' in globals():\n",
    "    raise Exception(\"Parameter injection failed\")\n",
    "\n",
    "#Use an easy dict for all the parameters\n",
    "p = EasyDict(parameters)\n",
    "\n",
    "if \"x_shape\" not in p:\n",
    "    p.x_shape = [2,256] # Default to this if we dont supply x_shape\n",
    "\n",
    "\n",
    "supplied_keys = set(p.keys())\n",
    "\n",
    "if  supplied_keys != required_parameters:\n",
    "    print(\"Parameters are incorrect\")\n",
    "    if len(supplied_keys - required_parameters)>0: print(\"Shouldn't have:\", str(supplied_keys - required_parameters))\n",
    "    if len(required_parameters - supplied_keys)>0: print(\"Need to have:\", str(required_parameters - supplied_keys))\n",
    "    raise RuntimeError(\"Parameters are incorrect\")"
   ]
  },
  {
   "cell_type": "code",
   "execution_count": 6,
   "id": "3a028d58",
   "metadata": {
    "execution": {
     "iopub.execute_input": "2022-03-28T12:00:57.335200Z",
     "iopub.status.busy": "2022-03-28T12:00:57.334682Z",
     "iopub.status.idle": "2022-03-28T12:00:57.357808Z",
     "shell.execute_reply": "2022-03-28T12:00:57.356990Z"
    },
    "papermill": {
     "duration": 0.047357,
     "end_time": "2022-03-28T12:00:57.357965",
     "exception": false,
     "start_time": "2022-03-28T12:00:57.310608",
     "status": "completed"
    },
    "tags": []
   },
   "outputs": [],
   "source": [
    "###################################\n",
    "# Set the RNGs and make it all deterministic\n",
    "###################################\n",
    "np.random.seed(p.seed)\n",
    "random.seed(p.seed)\n",
    "torch.manual_seed(p.seed)\n",
    "\n",
    "torch.use_deterministic_algorithms(True) "
   ]
  },
  {
   "cell_type": "code",
   "execution_count": 7,
   "id": "b691acf6",
   "metadata": {
    "execution": {
     "iopub.execute_input": "2022-03-28T12:00:57.408120Z",
     "iopub.status.busy": "2022-03-28T12:00:57.407745Z",
     "iopub.status.idle": "2022-03-28T12:00:57.431993Z",
     "shell.execute_reply": "2022-03-28T12:00:57.431137Z"
    },
    "papermill": {
     "duration": 0.047797,
     "end_time": "2022-03-28T12:00:57.432151",
     "exception": false,
     "start_time": "2022-03-28T12:00:57.384354",
     "status": "completed"
    },
    "tags": []
   },
   "outputs": [],
   "source": [
    "###########################################\n",
    "# The stratified datasets honor this\n",
    "###########################################\n",
    "torch.set_default_dtype(eval(p.torch_default_dtype))"
   ]
  },
  {
   "cell_type": "code",
   "execution_count": 8,
   "id": "b5fba671",
   "metadata": {
    "execution": {
     "iopub.execute_input": "2022-03-28T12:00:57.482925Z",
     "iopub.status.busy": "2022-03-28T12:00:57.482025Z",
     "iopub.status.idle": "2022-03-28T12:00:57.540612Z",
     "shell.execute_reply": "2022-03-28T12:00:57.539844Z"
    },
    "papermill": {
     "duration": 0.081664,
     "end_time": "2022-03-28T12:00:57.540793",
     "exception": false,
     "start_time": "2022-03-28T12:00:57.459129",
     "status": "completed"
    },
    "tags": []
   },
   "outputs": [],
   "source": [
    "###################################\n",
    "# Build the network(s)\n",
    "# Note: It's critical to do this AFTER setting the RNG\n",
    "###################################\n",
    "x_net = build_sequential(p.x_net)"
   ]
  },
  {
   "cell_type": "code",
   "execution_count": 9,
   "id": "5d7e61cc",
   "metadata": {
    "execution": {
     "iopub.execute_input": "2022-03-28T12:00:57.590516Z",
     "iopub.status.busy": "2022-03-28T12:00:57.590143Z",
     "iopub.status.idle": "2022-03-28T12:00:57.617562Z",
     "shell.execute_reply": "2022-03-28T12:00:57.616749Z"
    },
    "papermill": {
     "duration": 0.051717,
     "end_time": "2022-03-28T12:00:57.617718",
     "exception": false,
     "start_time": "2022-03-28T12:00:57.566001",
     "status": "completed"
    },
    "tags": []
   },
   "outputs": [],
   "source": [
    "start_time_secs = time.time()"
   ]
  },
  {
   "cell_type": "code",
   "execution_count": 10,
   "id": "c6b67dfd",
   "metadata": {
    "execution": {
     "iopub.execute_input": "2022-03-28T12:00:57.667939Z",
     "iopub.status.busy": "2022-03-28T12:00:57.667508Z",
     "iopub.status.idle": "2022-03-28T12:00:57.691762Z",
     "shell.execute_reply": "2022-03-28T12:00:57.690935Z"
    },
    "papermill": {
     "duration": 0.048118,
     "end_time": "2022-03-28T12:00:57.691918",
     "exception": false,
     "start_time": "2022-03-28T12:00:57.643800",
     "status": "completed"
    },
    "tags": []
   },
   "outputs": [],
   "source": [
    "p.domains_source = []\n",
    "p.domains_target = []\n",
    "\n",
    "\n",
    "train_original_source = []\n",
    "val_original_source   = []\n",
    "test_original_source  = []\n",
    "\n",
    "train_original_target = []\n",
    "val_original_target   = []\n",
    "test_original_target  = []"
   ]
  },
  {
   "cell_type": "code",
   "execution_count": 11,
   "id": "e3d9c3d3",
   "metadata": {
    "execution": {
     "iopub.execute_input": "2022-03-28T12:00:57.743265Z",
     "iopub.status.busy": "2022-03-28T12:00:57.742891Z",
     "iopub.status.idle": "2022-03-28T12:00:57.767104Z",
     "shell.execute_reply": "2022-03-28T12:00:57.766290Z"
    },
    "papermill": {
     "duration": 0.047873,
     "end_time": "2022-03-28T12:00:57.767259",
     "exception": false,
     "start_time": "2022-03-28T12:00:57.719386",
     "status": "completed"
    },
    "tags": []
   },
   "outputs": [],
   "source": [
    "# global_x_transform_func = lambda x: normalize(x.to(torch.get_default_dtype()), \"unit_power\") # unit_power, unit_mag\n",
    "# global_x_transform_func = lambda x: normalize(x, \"unit_power\") # unit_power, unit_mag"
   ]
  },
  {
   "cell_type": "code",
   "execution_count": 12,
   "id": "acb78fd2",
   "metadata": {
    "execution": {
     "iopub.execute_input": "2022-03-28T12:00:57.830397Z",
     "iopub.status.busy": "2022-03-28T12:00:57.829597Z",
     "iopub.status.idle": "2022-03-28T12:00:57.849871Z",
     "shell.execute_reply": "2022-03-28T12:00:57.849055Z"
    },
    "papermill": {
     "duration": 0.053,
     "end_time": "2022-03-28T12:00:57.850029",
     "exception": false,
     "start_time": "2022-03-28T12:00:57.797029",
     "status": "completed"
    },
    "tags": []
   },
   "outputs": [],
   "source": [
    "def add_dataset(\n",
    "    labels,\n",
    "    domains,\n",
    "    pickle_path,\n",
    "    x_transforms,\n",
    "    episode_transforms,\n",
    "    domain_prefix,\n",
    "    num_examples_per_domain_per_label,\n",
    "    source_or_target_dataset:str,\n",
    "    iterator_seed=p.seed,\n",
    "    dataset_seed=p.dataset_seed,\n",
    "    n_shot=p.n_shot,\n",
    "    n_way=p.n_way,\n",
    "    n_query=p.n_query,\n",
    "    train_val_test_k_factors=(p.train_k_factor,p.val_k_factor,p.test_k_factor),\n",
    "):\n",
    "   \n",
    "    if x_transforms == []: x_transform = None\n",
    "    else: x_transform = get_chained_transform(x_transforms)\n",
    "    \n",
    "    if episode_transforms == []: episode_transform = None\n",
    "    else: raise Exception(\"episode_transforms not implemented\")\n",
    "    \n",
    "    episode_transform = lambda tup, _prefix=domain_prefix: (_prefix + str(tup[0]), tup[1])\n",
    "\n",
    "\n",
    "    eaf = Episodic_Accessor_Factory(\n",
    "        labels=labels,\n",
    "        domains=domains,\n",
    "        num_examples_per_domain_per_label=num_examples_per_domain_per_label,\n",
    "        iterator_seed=iterator_seed,\n",
    "        dataset_seed=dataset_seed,\n",
    "        n_shot=n_shot,\n",
    "        n_way=n_way,\n",
    "        n_query=n_query,\n",
    "        train_val_test_k_factors=train_val_test_k_factors,\n",
    "        pickle_path=pickle_path,\n",
    "        x_transform_func=x_transform,\n",
    "    )\n",
    "\n",
    "    train, val, test = eaf.get_train(), eaf.get_val(), eaf.get_test()\n",
    "    train = Lazy_Iterable_Wrapper(train, episode_transform)\n",
    "    val = Lazy_Iterable_Wrapper(val, episode_transform)\n",
    "    test = Lazy_Iterable_Wrapper(test, episode_transform)\n",
    "\n",
    "    if source_or_target_dataset==\"source\":\n",
    "        train_original_source.append(train)\n",
    "        val_original_source.append(val)\n",
    "        test_original_source.append(test)\n",
    "\n",
    "        p.domains_source.extend(\n",
    "            [domain_prefix + str(u) for u in domains]\n",
    "        )\n",
    "    elif source_or_target_dataset==\"target\":\n",
    "        train_original_target.append(train)\n",
    "        val_original_target.append(val)\n",
    "        test_original_target.append(test)\n",
    "        p.domains_target.extend(\n",
    "            [domain_prefix + str(u) for u in domains]\n",
    "        )\n",
    "    else:\n",
    "        raise Exception(f\"invalid source_or_target_dataset: {source_or_target_dataset}\")\n",
    "    "
   ]
  },
  {
   "cell_type": "code",
   "execution_count": 13,
   "id": "fe266617",
   "metadata": {
    "execution": {
     "iopub.execute_input": "2022-03-28T12:00:57.901700Z",
     "iopub.status.busy": "2022-03-28T12:00:57.901331Z",
     "iopub.status.idle": "2022-03-28T12:02:48.942072Z",
     "shell.execute_reply": "2022-03-28T12:02:48.941162Z"
    },
    "papermill": {
     "duration": 111.065253,
     "end_time": "2022-03-28T12:02:48.942259",
     "exception": false,
     "start_time": "2022-03-28T12:00:57.877006",
     "status": "completed"
    },
    "tags": []
   },
   "outputs": [],
   "source": [
    "for ds in p.datasets:\n",
    "    add_dataset(**ds)"
   ]
  },
  {
   "cell_type": "code",
   "execution_count": 14,
   "id": "b90d65ac",
   "metadata": {
    "execution": {
     "iopub.execute_input": "2022-03-28T12:02:48.994737Z",
     "iopub.status.busy": "2022-03-28T12:02:48.994159Z",
     "iopub.status.idle": "2022-03-28T12:02:49.018405Z",
     "shell.execute_reply": "2022-03-28T12:02:49.017575Z"
    },
    "papermill": {
     "duration": 0.049023,
     "end_time": "2022-03-28T12:02:49.018572",
     "exception": false,
     "start_time": "2022-03-28T12:02:48.969549",
     "status": "completed"
    },
    "tags": []
   },
   "outputs": [],
   "source": [
    "# from steves_utils.CORES.utils import (\n",
    "#     ALL_NODES,\n",
    "#     ALL_NODES_MINIMUM_1000_EXAMPLES,\n",
    "#     ALL_DAYS\n",
    "# )\n",
    "\n",
    "# add_dataset(\n",
    "#     labels=ALL_NODES,\n",
    "#     domains = ALL_DAYS,\n",
    "#     num_examples_per_domain_per_label=100,\n",
    "#     pickle_path=os.path.join(get_datasets_base_path(), \"cores.stratified_ds.2022A.pkl\"),\n",
    "#     source_or_target_dataset=\"target\",\n",
    "#     x_transform_func=global_x_transform_func,\n",
    "#     domain_modifier=lambda u: f\"cores_{u}\"\n",
    "# )"
   ]
  },
  {
   "cell_type": "code",
   "execution_count": 15,
   "id": "76db484d",
   "metadata": {
    "execution": {
     "iopub.execute_input": "2022-03-28T12:02:49.070064Z",
     "iopub.status.busy": "2022-03-28T12:02:49.069486Z",
     "iopub.status.idle": "2022-03-28T12:02:49.092211Z",
     "shell.execute_reply": "2022-03-28T12:02:49.091463Z"
    },
    "papermill": {
     "duration": 0.047087,
     "end_time": "2022-03-28T12:02:49.092377",
     "exception": false,
     "start_time": "2022-03-28T12:02:49.045290",
     "status": "completed"
    },
    "tags": []
   },
   "outputs": [],
   "source": [
    "# from steves_utils.ORACLE.utils_v2 import (\n",
    "#     ALL_DISTANCES_FEET,\n",
    "#     ALL_RUNS,\n",
    "#     ALL_SERIAL_NUMBERS,\n",
    "# )\n",
    "\n",
    "\n",
    "# add_dataset(\n",
    "#     labels=ALL_SERIAL_NUMBERS,\n",
    "#     domains = list(set(ALL_DISTANCES_FEET) - {2,62}),\n",
    "#     num_examples_per_domain_per_label=100,\n",
    "#     pickle_path=os.path.join(get_datasets_base_path(), \"oracle.Run2_framed_2000Examples_stratified_ds.2022A.pkl\"),\n",
    "#     source_or_target_dataset=\"source\",\n",
    "#     x_transform_func=global_x_transform_func,\n",
    "#     domain_modifier=lambda u: f\"oracle1_{u}\"\n",
    "# )\n"
   ]
  },
  {
   "cell_type": "code",
   "execution_count": 16,
   "id": "97dea9d2",
   "metadata": {
    "execution": {
     "iopub.execute_input": "2022-03-28T12:02:49.147073Z",
     "iopub.status.busy": "2022-03-28T12:02:49.146472Z",
     "iopub.status.idle": "2022-03-28T12:02:49.170226Z",
     "shell.execute_reply": "2022-03-28T12:02:49.169402Z"
    },
    "papermill": {
     "duration": 0.048232,
     "end_time": "2022-03-28T12:02:49.170394",
     "exception": false,
     "start_time": "2022-03-28T12:02:49.122162",
     "status": "completed"
    },
    "tags": []
   },
   "outputs": [],
   "source": [
    "# from steves_utils.ORACLE.utils_v2 import (\n",
    "#     ALL_DISTANCES_FEET,\n",
    "#     ALL_RUNS,\n",
    "#     ALL_SERIAL_NUMBERS,\n",
    "# )\n",
    "\n",
    "\n",
    "# add_dataset(\n",
    "#     labels=ALL_SERIAL_NUMBERS,\n",
    "#     domains = list(set(ALL_DISTANCES_FEET) - {2,62,56}),\n",
    "#     num_examples_per_domain_per_label=100,\n",
    "#     pickle_path=os.path.join(get_datasets_base_path(), \"oracle.Run2_framed_2000Examples_stratified_ds.2022A.pkl\"),\n",
    "#     source_or_target_dataset=\"source\",\n",
    "#     x_transform_func=global_x_transform_func,\n",
    "#     domain_modifier=lambda u: f\"oracle2_{u}\"\n",
    "# )"
   ]
  },
  {
   "cell_type": "code",
   "execution_count": 17,
   "id": "6f289866",
   "metadata": {
    "execution": {
     "iopub.execute_input": "2022-03-28T12:02:49.223808Z",
     "iopub.status.busy": "2022-03-28T12:02:49.222230Z",
     "iopub.status.idle": "2022-03-28T12:02:49.243892Z",
     "shell.execute_reply": "2022-03-28T12:02:49.243056Z"
    },
    "papermill": {
     "duration": 0.046855,
     "end_time": "2022-03-28T12:02:49.244057",
     "exception": false,
     "start_time": "2022-03-28T12:02:49.197202",
     "status": "completed"
    },
    "tags": []
   },
   "outputs": [],
   "source": [
    "# add_dataset(\n",
    "#     labels=list(range(19)),\n",
    "#     domains = [0,1,2],\n",
    "#     num_examples_per_domain_per_label=100,\n",
    "#     pickle_path=os.path.join(get_datasets_base_path(), \"metehan.stratified_ds.2022A.pkl\"),\n",
    "#     source_or_target_dataset=\"target\",\n",
    "#     x_transform_func=global_x_transform_func,\n",
    "#     domain_modifier=lambda u: f\"met_{u}\"\n",
    "# )"
   ]
  },
  {
   "cell_type": "code",
   "execution_count": 18,
   "id": "86a863c3",
   "metadata": {
    "execution": {
     "iopub.execute_input": "2022-03-28T12:02:49.299747Z",
     "iopub.status.busy": "2022-03-28T12:02:49.299360Z",
     "iopub.status.idle": "2022-03-28T12:02:49.323749Z",
     "shell.execute_reply": "2022-03-28T12:02:49.322892Z"
    },
    "papermill": {
     "duration": 0.049511,
     "end_time": "2022-03-28T12:02:49.323913",
     "exception": false,
     "start_time": "2022-03-28T12:02:49.274402",
     "status": "completed"
    },
    "tags": []
   },
   "outputs": [],
   "source": [
    "# # from steves_utils.wisig.utils import (\n",
    "# #     ALL_NODES_MINIMUM_100_EXAMPLES,\n",
    "# #     ALL_NODES_MINIMUM_500_EXAMPLES,\n",
    "# #     ALL_NODES_MINIMUM_1000_EXAMPLES,\n",
    "# #     ALL_DAYS\n",
    "# # )\n",
    "\n",
    "# import steves_utils.wisig.utils as wisig\n",
    "\n",
    "\n",
    "# add_dataset(\n",
    "#     labels=wisig.ALL_NODES_MINIMUM_100_EXAMPLES,\n",
    "#     domains = wisig.ALL_DAYS,\n",
    "#     num_examples_per_domain_per_label=100,\n",
    "#     pickle_path=os.path.join(get_datasets_base_path(), \"wisig.node3-19.stratified_ds.2022A.pkl\"),\n",
    "#     source_or_target_dataset=\"target\",\n",
    "#     x_transform_func=global_x_transform_func,\n",
    "#     domain_modifier=lambda u: f\"wisig_{u}\"\n",
    "# )"
   ]
  },
  {
   "cell_type": "code",
   "execution_count": 19,
   "id": "fd5442bc",
   "metadata": {
    "execution": {
     "iopub.execute_input": "2022-03-28T12:02:49.383387Z",
     "iopub.status.busy": "2022-03-28T12:02:49.382747Z",
     "iopub.status.idle": "2022-03-28T12:02:49.404252Z",
     "shell.execute_reply": "2022-03-28T12:02:49.403390Z"
    },
    "papermill": {
     "duration": 0.052278,
     "end_time": "2022-03-28T12:02:49.404417",
     "exception": false,
     "start_time": "2022-03-28T12:02:49.352139",
     "status": "completed"
    },
    "tags": []
   },
   "outputs": [],
   "source": [
    "###################################\n",
    "# Build the dataset\n",
    "###################################\n",
    "train_original_source = Iterable_Aggregator(train_original_source, p.seed)\n",
    "val_original_source = Iterable_Aggregator(val_original_source, p.seed)\n",
    "test_original_source = Iterable_Aggregator(test_original_source, p.seed)\n",
    "\n",
    "\n",
    "train_original_target = Iterable_Aggregator(train_original_target, p.seed)\n",
    "val_original_target = Iterable_Aggregator(val_original_target, p.seed)\n",
    "test_original_target = Iterable_Aggregator(test_original_target, p.seed)\n",
    "\n",
    "# For CNN We only use X and Y. And we only train on the source.\n",
    "# Properly form the data using a transform lambda and Lazy_Iterable_Wrapper. Finally wrap them in a dataloader\n",
    "\n",
    "transform_lambda = lambda ex: ex[1] # Original is (<domain>, <episode>) so we strip down to episode only\n",
    "\n",
    "train_processed_source = Lazy_Iterable_Wrapper(train_original_source, transform_lambda)\n",
    "val_processed_source   = Lazy_Iterable_Wrapper(val_original_source, transform_lambda)\n",
    "test_processed_source  = Lazy_Iterable_Wrapper(test_original_source, transform_lambda)\n",
    "\n",
    "train_processed_target = Lazy_Iterable_Wrapper(train_original_target, transform_lambda)\n",
    "val_processed_target   = Lazy_Iterable_Wrapper(val_original_target, transform_lambda)\n",
    "test_processed_target  = Lazy_Iterable_Wrapper(test_original_target, transform_lambda)\n",
    "\n",
    "datasets = EasyDict({\n",
    "    \"source\": {\n",
    "        \"original\": {\"train\":train_original_source, \"val\":val_original_source, \"test\":test_original_source},\n",
    "        \"processed\": {\"train\":train_processed_source, \"val\":val_processed_source, \"test\":test_processed_source}\n",
    "    },\n",
    "    \"target\": {\n",
    "        \"original\": {\"train\":train_original_target, \"val\":val_original_target, \"test\":test_original_target},\n",
    "        \"processed\": {\"train\":train_processed_target, \"val\":val_processed_target, \"test\":test_processed_target}\n",
    "    },\n",
    "})"
   ]
  },
  {
   "cell_type": "code",
   "execution_count": 20,
   "id": "5b3c01fc",
   "metadata": {
    "execution": {
     "iopub.execute_input": "2022-03-28T12:02:49.458280Z",
     "iopub.status.busy": "2022-03-28T12:02:49.457902Z",
     "iopub.status.idle": "2022-03-28T12:03:03.624872Z",
     "shell.execute_reply": "2022-03-28T12:03:03.624003Z"
    },
    "papermill": {
     "duration": 14.192164,
     "end_time": "2022-03-28T12:03:03.625055",
     "exception": false,
     "start_time": "2022-03-28T12:02:49.432891",
     "status": "completed"
    },
    "tags": []
   },
   "outputs": [
    {
     "name": "stdout",
     "output_type": "stream",
     "text": [
      "{'C_2', 'C_3', 'C_5', 'C_4', 'C_1'}\n"
     ]
    },
    {
     "name": "stdout",
     "output_type": "stream",
     "text": [
      "{'O_44', 'O_14', 'O_38', 'O_50', 'O_26', 'O_20', 'O_32', 'O_8'}\n"
     ]
    },
    {
     "name": "stdout",
     "output_type": "stream",
     "text": [
      "tensor([[[0., 0., 0.,  ..., 0., 0., 0.],\n",
      "         [0., 0., 0.,  ..., 0., 0., 0.]],\n",
      "\n",
      "        [[0., 0., 0.,  ..., 0., 0., 0.],\n",
      "         [0., 0., 0.,  ..., 0., 0., 0.]],\n",
      "\n",
      "        [[0., 0., 0.,  ..., 0., 0., 0.],\n",
      "         [0., 0., 0.,  ..., 0., 0., 0.]],\n",
      "\n",
      "        ...,\n",
      "\n",
      "        [[0., 0., 0.,  ..., 0., 0., 0.],\n",
      "         [0., 0., 0.,  ..., 0., 0., 0.]],\n",
      "\n",
      "        [[0., 0., 0.,  ..., 0., 0., 0.],\n",
      "         [0., 0., 0.,  ..., 0., 0., 0.]],\n",
      "\n",
      "        [[0., 0., 0.,  ..., 0., 0., 0.],\n",
      "         [0., 0., 0.,  ..., 0., 0., 0.]]])\n"
     ]
    }
   ],
   "source": [
    "from steves_utils.transforms import get_average_magnitude, get_average_power\n",
    "\n",
    "print(set([u for u,_ in val_original_source]))\n",
    "print(set([u for u,_ in val_original_target]))\n",
    "\n",
    "s_x, s_y, q_x, q_y, _ = next(iter(train_processed_source))\n",
    "print(s_x)\n",
    "\n",
    "# for ds in [\n",
    "#     train_processed_source,\n",
    "#     val_processed_source,\n",
    "#     test_processed_source,\n",
    "#     train_processed_target,\n",
    "#     val_processed_target,\n",
    "#     test_processed_target\n",
    "# ]:\n",
    "#     for s_x, s_y, q_x, q_y, _ in ds:\n",
    "#         for X in (s_x, q_x):\n",
    "#             for x in X:\n",
    "#                 assert np.isclose(get_average_magnitude(x.numpy()), 1.0)\n",
    "#                 assert np.isclose(get_average_power(x.numpy()), 1.0)\n",
    "                "
   ]
  },
  {
   "cell_type": "code",
   "execution_count": 21,
   "id": "bbdacba1",
   "metadata": {
    "execution": {
     "iopub.execute_input": "2022-03-28T12:03:03.679182Z",
     "iopub.status.busy": "2022-03-28T12:03:03.678482Z",
     "iopub.status.idle": "2022-03-28T12:03:03.775226Z",
     "shell.execute_reply": "2022-03-28T12:03:03.775553Z"
    },
    "papermill": {
     "duration": 0.123829,
     "end_time": "2022-03-28T12:03:03.775692",
     "exception": false,
     "start_time": "2022-03-28T12:03:03.651863",
     "status": "completed"
    },
    "tags": []
   },
   "outputs": [
    {
     "name": "stdout",
     "output_type": "stream",
     "text": [
      "(2, 256)\n"
     ]
    }
   ],
   "source": [
    "###################################\n",
    "# Build the model\n",
    "###################################\n",
    "# easfsl only wants a tuple for the shape\n",
    "model = Steves_Prototypical_Network(x_net, device=p.device, x_shape=tuple(p.x_shape))\n",
    "optimizer = Adam(params=model.parameters(), lr=p.lr)"
   ]
  },
  {
   "cell_type": "code",
   "execution_count": 22,
   "id": "22b39ac5",
   "metadata": {
    "execution": {
     "iopub.execute_input": "2022-03-28T12:03:03.826785Z",
     "iopub.status.busy": "2022-03-28T12:03:03.826411Z",
     "iopub.status.idle": "2022-03-28T12:24:47.524583Z",
     "shell.execute_reply": "2022-03-28T12:24:47.524239Z"
    },
    "papermill": {
     "duration": 1303.725801,
     "end_time": "2022-03-28T12:24:47.524668",
     "exception": false,
     "start_time": "2022-03-28T12:03:03.798867",
     "status": "completed"
    },
    "tags": []
   },
   "outputs": [
    {
     "name": "stdout",
     "output_type": "stream",
     "text": [
      "epoch: 1, [batch: 1 / 6320], examples_per_second: 33.3144, train_label_loss: 2.7351, \n"
     ]
    },
    {
     "name": "stdout",
     "output_type": "stream",
     "text": [
      "epoch: 1, [batch: 632 / 6320], examples_per_second: 4475.3177, train_label_loss: 0.0020, \n"
     ]
    },
    {
     "name": "stdout",
     "output_type": "stream",
     "text": [
      "epoch: 1, [batch: 1264 / 6320], examples_per_second: 3959.2983, train_label_loss: 0.0034, \n"
     ]
    },
    {
     "name": "stdout",
     "output_type": "stream",
     "text": [
      "epoch: 1, [batch: 1896 / 6320], examples_per_second: 3864.9757, train_label_loss: 0.0077, \n"
     ]
    },
    {
     "name": "stdout",
     "output_type": "stream",
     "text": [
      "epoch: 1, [batch: 2528 / 6320], examples_per_second: 3858.3275, train_label_loss: 0.0027, \n"
     ]
    },
    {
     "name": "stdout",
     "output_type": "stream",
     "text": [
      "epoch: 1, [batch: 3160 / 6320], examples_per_second: 3916.0874, train_label_loss: 0.0129, \n"
     ]
    },
    {
     "name": "stdout",
     "output_type": "stream",
     "text": [
      "epoch: 1, [batch: 3792 / 6320], examples_per_second: 3951.9916, train_label_loss: 0.0003, \n"
     ]
    },
    {
     "name": "stdout",
     "output_type": "stream",
     "text": [
      "epoch: 1, [batch: 4424 / 6320], examples_per_second: 3938.6587, train_label_loss: 0.0021, \n"
     ]
    },
    {
     "name": "stdout",
     "output_type": "stream",
     "text": [
      "epoch: 1, [batch: 5056 / 6320], examples_per_second: 3967.0675, train_label_loss: 0.0095, \n"
     ]
    },
    {
     "name": "stdout",
     "output_type": "stream",
     "text": [
      "epoch: 1, [batch: 5688 / 6320], examples_per_second: 3801.6204, train_label_loss: 0.0022, \n"
     ]
    },
    {
     "name": "stdout",
     "output_type": "stream",
     "text": [
      "=============================================================\n",
      "epoch: 1, source_val_acc_label: 0.9976, target_val_acc_label: 0.3428, source_val_label_loss: 0.0105, target_val_label_loss: 1.8827, \n",
      "=============================================================\n"
     ]
    },
    {
     "name": "stdout",
     "output_type": "stream",
     "text": [
      "New best\n"
     ]
    },
    {
     "name": "stdout",
     "output_type": "stream",
     "text": [
      "epoch: 2, [batch: 1 / 6305], examples_per_second: 4.0927, train_label_loss: 0.0007, \n"
     ]
    },
    {
     "name": "stdout",
     "output_type": "stream",
     "text": [
      "epoch: 2, [batch: 631 / 6305], examples_per_second: 4314.9186, train_label_loss: 0.0000, \n"
     ]
    },
    {
     "name": "stdout",
     "output_type": "stream",
     "text": [
      "epoch: 2, [batch: 1261 / 6305], examples_per_second: 4280.5832, train_label_loss: 0.0090, \n"
     ]
    },
    {
     "name": "stdout",
     "output_type": "stream",
     "text": [
      "epoch: 2, [batch: 1892 / 6305], examples_per_second: 3816.1876, train_label_loss: 0.0002, \n"
     ]
    },
    {
     "name": "stdout",
     "output_type": "stream",
     "text": [
      "epoch: 2, [batch: 2522 / 6305], examples_per_second: 3844.5862, train_label_loss: 0.0027, \n"
     ]
    },
    {
     "name": "stdout",
     "output_type": "stream",
     "text": [
      "epoch: 2, [batch: 3153 / 6305], examples_per_second: 3880.5823, train_label_loss: 0.0007, \n"
     ]
    },
    {
     "name": "stdout",
     "output_type": "stream",
     "text": [
      "epoch: 2, [batch: 3783 / 6305], examples_per_second: 3856.0604, train_label_loss: 0.0823, \n"
     ]
    },
    {
     "name": "stdout",
     "output_type": "stream",
     "text": [
      "epoch: 2, [batch: 4413 / 6305], examples_per_second: 3887.9540, train_label_loss: 0.0001, \n"
     ]
    },
    {
     "name": "stdout",
     "output_type": "stream",
     "text": [
      "epoch: 2, [batch: 5044 / 6305], examples_per_second: 3986.5884, train_label_loss: 0.0004, \n"
     ]
    },
    {
     "name": "stdout",
     "output_type": "stream",
     "text": [
      "epoch: 2, [batch: 5674 / 6305], examples_per_second: 4009.7765, train_label_loss: 0.0007, \n"
     ]
    },
    {
     "name": "stdout",
     "output_type": "stream",
     "text": [
      "=============================================================\n",
      "epoch: 2, source_val_acc_label: 0.9937, target_val_acc_label: 0.2745, source_val_label_loss: 0.0295, target_val_label_loss: 2.4976, \n",
      "=============================================================\n"
     ]
    },
    {
     "name": "stdout",
     "output_type": "stream",
     "text": [
      "epoch: 3, [batch: 1 / 6307], examples_per_second: 4.1529, train_label_loss: 0.0460, \n"
     ]
    },
    {
     "name": "stdout",
     "output_type": "stream",
     "text": [
      "epoch: 3, [batch: 631 / 6307], examples_per_second: 4184.6751, train_label_loss: 0.0000, \n"
     ]
    },
    {
     "name": "stdout",
     "output_type": "stream",
     "text": [
      "epoch: 3, [batch: 1262 / 6307], examples_per_second: 4383.6841, train_label_loss: 0.0381, \n"
     ]
    },
    {
     "name": "stdout",
     "output_type": "stream",
     "text": [
      "epoch: 3, [batch: 1892 / 6307], examples_per_second: 4324.3613, train_label_loss: 0.0002, \n"
     ]
    },
    {
     "name": "stdout",
     "output_type": "stream",
     "text": [
      "epoch: 3, [batch: 2523 / 6307], examples_per_second: 4265.9878, train_label_loss: 0.0006, \n"
     ]
    },
    {
     "name": "stdout",
     "output_type": "stream",
     "text": [
      "epoch: 3, [batch: 3154 / 6307], examples_per_second: 4242.4138, train_label_loss: 0.0240, \n"
     ]
    },
    {
     "name": "stdout",
     "output_type": "stream",
     "text": [
      "epoch: 3, [batch: 3784 / 6307], examples_per_second: 4321.8234, train_label_loss: 0.0003, \n"
     ]
    },
    {
     "name": "stdout",
     "output_type": "stream",
     "text": [
      "epoch: 3, [batch: 4415 / 6307], examples_per_second: 4121.8179, train_label_loss: 0.0002, \n"
     ]
    },
    {
     "name": "stdout",
     "output_type": "stream",
     "text": [
      "epoch: 3, [batch: 5045 / 6307], examples_per_second: 4220.6321, train_label_loss: 0.0000, \n"
     ]
    },
    {
     "name": "stdout",
     "output_type": "stream",
     "text": [
      "epoch: 3, [batch: 5676 / 6307], examples_per_second: 4499.0360, train_label_loss: 0.0052, \n"
     ]
    },
    {
     "name": "stdout",
     "output_type": "stream",
     "text": [
      "=============================================================\n",
      "epoch: 3, source_val_acc_label: 0.9988, target_val_acc_label: 0.3478, source_val_label_loss: 0.0087, target_val_label_loss: 1.9271, \n",
      "=============================================================\n"
     ]
    },
    {
     "name": "stdout",
     "output_type": "stream",
     "text": [
      "New best\n"
     ]
    },
    {
     "name": "stdout",
     "output_type": "stream",
     "text": [
      "epoch: 4, [batch: 1 / 6315], examples_per_second: 5.3654, train_label_loss: 0.0000, \n"
     ]
    },
    {
     "name": "stdout",
     "output_type": "stream",
     "text": [
      "epoch: 4, [batch: 632 / 6315], examples_per_second: 4771.3076, train_label_loss: 0.0002, \n"
     ]
    },
    {
     "name": "stdout",
     "output_type": "stream",
     "text": [
      "epoch: 4, [batch: 1263 / 6315], examples_per_second: 4932.0691, train_label_loss: 0.0000, \n"
     ]
    },
    {
     "name": "stdout",
     "output_type": "stream",
     "text": [
      "epoch: 4, [batch: 1895 / 6315], examples_per_second: 5037.1150, train_label_loss: 0.0016, \n"
     ]
    },
    {
     "name": "stdout",
     "output_type": "stream",
     "text": [
      "epoch: 4, [batch: 2526 / 6315], examples_per_second: 4921.6787, train_label_loss: 0.0000, \n"
     ]
    },
    {
     "name": "stdout",
     "output_type": "stream",
     "text": [
      "epoch: 4, [batch: 3158 / 6315], examples_per_second: 5093.5691, train_label_loss: 0.0001, \n"
     ]
    },
    {
     "name": "stdout",
     "output_type": "stream",
     "text": [
      "epoch: 4, [batch: 3789 / 6315], examples_per_second: 5088.4088, train_label_loss: 0.0000, \n"
     ]
    },
    {
     "name": "stdout",
     "output_type": "stream",
     "text": [
      "epoch: 4, [batch: 4420 / 6315], examples_per_second: 5409.2018, train_label_loss: 0.0000, \n"
     ]
    },
    {
     "name": "stdout",
     "output_type": "stream",
     "text": [
      "epoch: 4, [batch: 5052 / 6315], examples_per_second: 5157.3231, train_label_loss: 0.0004, \n"
     ]
    },
    {
     "name": "stdout",
     "output_type": "stream",
     "text": [
      "epoch: 4, [batch: 5683 / 6315], examples_per_second: 5233.1958, train_label_loss: 0.0004, \n"
     ]
    },
    {
     "name": "stdout",
     "output_type": "stream",
     "text": [
      "=============================================================\n",
      "epoch: 4, source_val_acc_label: 0.9988, target_val_acc_label: 0.3378, source_val_label_loss: 0.0086, target_val_label_loss: 2.0551, \n",
      "=============================================================\n"
     ]
    },
    {
     "name": "stdout",
     "output_type": "stream",
     "text": [
      "epoch: 5, [batch: 1 / 6313], examples_per_second: 5.4787, train_label_loss: 0.0000, \n"
     ]
    },
    {
     "name": "stdout",
     "output_type": "stream",
     "text": [
      "epoch: 5, [batch: 632 / 6313], examples_per_second: 5162.3296, train_label_loss: 0.1266, \n"
     ]
    },
    {
     "name": "stdout",
     "output_type": "stream",
     "text": [
      "epoch: 5, [batch: 1263 / 6313], examples_per_second: 4988.8718, train_label_loss: 0.0000, \n"
     ]
    },
    {
     "name": "stdout",
     "output_type": "stream",
     "text": [
      "epoch: 5, [batch: 1894 / 6313], examples_per_second: 4852.1330, train_label_loss: 0.0001, \n"
     ]
    },
    {
     "name": "stdout",
     "output_type": "stream",
     "text": [
      "epoch: 5, [batch: 2525 / 6313], examples_per_second: 4891.7759, train_label_loss: 0.0000, \n"
     ]
    },
    {
     "name": "stdout",
     "output_type": "stream",
     "text": [
      "epoch: 5, [batch: 3157 / 6313], examples_per_second: 5199.1757, train_label_loss: 0.0000, \n"
     ]
    },
    {
     "name": "stdout",
     "output_type": "stream",
     "text": [
      "epoch: 5, [batch: 3788 / 6313], examples_per_second: 4883.1526, train_label_loss: 0.0001, \n"
     ]
    },
    {
     "name": "stdout",
     "output_type": "stream",
     "text": [
      "epoch: 5, [batch: 4419 / 6313], examples_per_second: 5083.6429, train_label_loss: 0.0000, \n"
     ]
    },
    {
     "name": "stdout",
     "output_type": "stream",
     "text": [
      "epoch: 5, [batch: 5050 / 6313], examples_per_second: 4086.8712, train_label_loss: 0.0000, \n"
     ]
    },
    {
     "name": "stdout",
     "output_type": "stream",
     "text": [
      "epoch: 5, [batch: 5681 / 6313], examples_per_second: 3992.5874, train_label_loss: 0.0000, \n"
     ]
    },
    {
     "name": "stdout",
     "output_type": "stream",
     "text": [
      "=============================================================\n",
      "epoch: 5, source_val_acc_label: 0.9992, target_val_acc_label: 0.3606, source_val_label_loss: 0.0082, target_val_label_loss: 2.0054, \n",
      "=============================================================\n"
     ]
    },
    {
     "name": "stdout",
     "output_type": "stream",
     "text": [
      "New best\n"
     ]
    },
    {
     "name": "stdout",
     "output_type": "stream",
     "text": [
      "epoch: 6, [batch: 1 / 6317], examples_per_second: 4.0933, train_label_loss: 0.0000, \n"
     ]
    },
    {
     "name": "stdout",
     "output_type": "stream",
     "text": [
      "epoch: 6, [batch: 632 / 6317], examples_per_second: 3774.6685, train_label_loss: 0.0000, \n"
     ]
    },
    {
     "name": "stdout",
     "output_type": "stream",
     "text": [
      "epoch: 6, [batch: 1264 / 6317], examples_per_second: 3800.1142, train_label_loss: 0.0001, \n"
     ]
    },
    {
     "name": "stdout",
     "output_type": "stream",
     "text": [
      "epoch: 6, [batch: 1895 / 6317], examples_per_second: 3764.3811, train_label_loss: 0.0003, \n"
     ]
    },
    {
     "name": "stdout",
     "output_type": "stream",
     "text": [
      "epoch: 6, [batch: 2527 / 6317], examples_per_second: 3815.0136, train_label_loss: 0.0006, \n"
     ]
    },
    {
     "name": "stdout",
     "output_type": "stream",
     "text": [
      "epoch: 6, [batch: 3159 / 6317], examples_per_second: 3827.3477, train_label_loss: 0.0000, \n"
     ]
    },
    {
     "name": "stdout",
     "output_type": "stream",
     "text": [
      "epoch: 6, [batch: 3790 / 6317], examples_per_second: 4197.6333, train_label_loss: 0.0000, \n"
     ]
    },
    {
     "name": "stdout",
     "output_type": "stream",
     "text": [
      "epoch: 6, [batch: 4422 / 6317], examples_per_second: 4418.5392, train_label_loss: 0.0001, \n"
     ]
    },
    {
     "name": "stdout",
     "output_type": "stream",
     "text": [
      "epoch: 6, [batch: 5053 / 6317], examples_per_second: 3895.6439, train_label_loss: 0.0000, \n"
     ]
    },
    {
     "name": "stdout",
     "output_type": "stream",
     "text": [
      "epoch: 6, [batch: 5685 / 6317], examples_per_second: 3837.3645, train_label_loss: 0.0008, \n"
     ]
    },
    {
     "name": "stdout",
     "output_type": "stream",
     "text": [
      "=============================================================\n",
      "epoch: 6, source_val_acc_label: 0.9988, target_val_acc_label: 0.2797, source_val_label_loss: 0.0115, target_val_label_loss: 2.6636, \n",
      "=============================================================\n"
     ]
    },
    {
     "name": "stdout",
     "output_type": "stream",
     "text": [
      "epoch: 7, [batch: 1 / 6322], examples_per_second: 4.0473, train_label_loss: 0.0000, \n"
     ]
    },
    {
     "name": "stdout",
     "output_type": "stream",
     "text": [
      "epoch: 7, [batch: 633 / 6322], examples_per_second: 3806.4292, train_label_loss: 0.0000, \n"
     ]
    },
    {
     "name": "stdout",
     "output_type": "stream",
     "text": [
      "epoch: 7, [batch: 1265 / 6322], examples_per_second: 3831.6182, train_label_loss: 0.0000, \n"
     ]
    },
    {
     "name": "stdout",
     "output_type": "stream",
     "text": [
      "epoch: 7, [batch: 1897 / 6322], examples_per_second: 3850.6035, train_label_loss: 0.0000, \n"
     ]
    },
    {
     "name": "stdout",
     "output_type": "stream",
     "text": [
      "epoch: 7, [batch: 2529 / 6322], examples_per_second: 4073.3011, train_label_loss: 0.0000, \n"
     ]
    },
    {
     "name": "stdout",
     "output_type": "stream",
     "text": [
      "epoch: 7, [batch: 3161 / 6322], examples_per_second: 4038.6046, train_label_loss: 0.0013, \n"
     ]
    },
    {
     "name": "stdout",
     "output_type": "stream",
     "text": [
      "epoch: 7, [batch: 3793 / 6322], examples_per_second: 4153.1181, train_label_loss: 0.0000, \n"
     ]
    },
    {
     "name": "stdout",
     "output_type": "stream",
     "text": [
      "epoch: 7, [batch: 4425 / 6322], examples_per_second: 4382.2690, train_label_loss: 0.0004, \n"
     ]
    },
    {
     "name": "stdout",
     "output_type": "stream",
     "text": [
      "epoch: 7, [batch: 5057 / 6322], examples_per_second: 3949.4446, train_label_loss: 0.0000, \n"
     ]
    },
    {
     "name": "stdout",
     "output_type": "stream",
     "text": [
      "epoch: 7, [batch: 5689 / 6322], examples_per_second: 3965.8363, train_label_loss: 0.0000, \n"
     ]
    },
    {
     "name": "stdout",
     "output_type": "stream",
     "text": [
      "=============================================================\n",
      "epoch: 7, source_val_acc_label: 0.9991, target_val_acc_label: 0.3599, source_val_label_loss: 0.0077, target_val_label_loss: 1.9616, \n",
      "=============================================================\n"
     ]
    },
    {
     "name": "stdout",
     "output_type": "stream",
     "text": [
      "epoch: 8, [batch: 1 / 6297], examples_per_second: 4.0573, train_label_loss: 0.0001, \n"
     ]
    },
    {
     "name": "stdout",
     "output_type": "stream",
     "text": [
      "epoch: 8, [batch: 630 / 6297], examples_per_second: 3886.4392, train_label_loss: 0.0000, \n"
     ]
    },
    {
     "name": "stdout",
     "output_type": "stream",
     "text": [
      "epoch: 8, [batch: 1260 / 6297], examples_per_second: 3917.5498, train_label_loss: 0.0000, \n"
     ]
    },
    {
     "name": "stdout",
     "output_type": "stream",
     "text": [
      "epoch: 8, [batch: 1889 / 6297], examples_per_second: 3924.5581, train_label_loss: 0.0000, \n"
     ]
    },
    {
     "name": "stdout",
     "output_type": "stream",
     "text": [
      "epoch: 8, [batch: 2519 / 6297], examples_per_second: 3821.1403, train_label_loss: 0.0000, \n"
     ]
    },
    {
     "name": "stdout",
     "output_type": "stream",
     "text": [
      "epoch: 8, [batch: 3149 / 6297], examples_per_second: 4055.1898, train_label_loss: 0.0000, \n"
     ]
    },
    {
     "name": "stdout",
     "output_type": "stream",
     "text": [
      "epoch: 8, [batch: 3778 / 6297], examples_per_second: 4344.1763, train_label_loss: 0.0000, \n"
     ]
    },
    {
     "name": "stdout",
     "output_type": "stream",
     "text": [
      "epoch: 8, [batch: 4408 / 6297], examples_per_second: 4665.0439, train_label_loss: 0.0000, \n"
     ]
    },
    {
     "name": "stdout",
     "output_type": "stream",
     "text": [
      "epoch: 8, [batch: 5037 / 6297], examples_per_second: 3915.9781, train_label_loss: 0.0000, \n"
     ]
    },
    {
     "name": "stdout",
     "output_type": "stream",
     "text": [
      "epoch: 8, [batch: 5667 / 6297], examples_per_second: 3805.9484, train_label_loss: 0.0004, \n"
     ]
    },
    {
     "name": "stdout",
     "output_type": "stream",
     "text": [
      "=============================================================\n",
      "epoch: 8, source_val_acc_label: 0.9990, target_val_acc_label: 0.3158, source_val_label_loss: 0.0083, target_val_label_loss: 2.3411, \n",
      "=============================================================\n"
     ]
    },
    {
     "name": "stdout",
     "output_type": "stream",
     "text": [
      "epoch: 9, [batch: 1 / 6315], examples_per_second: 4.1363, train_label_loss: 0.0000, \n"
     ]
    },
    {
     "name": "stdout",
     "output_type": "stream",
     "text": [
      "epoch: 9, [batch: 632 / 6315], examples_per_second: 3867.5319, train_label_loss: 1.0215, \n"
     ]
    },
    {
     "name": "stdout",
     "output_type": "stream",
     "text": [
      "epoch: 9, [batch: 1263 / 6315], examples_per_second: 4101.4012, train_label_loss: 0.0000, \n"
     ]
    },
    {
     "name": "stdout",
     "output_type": "stream",
     "text": [
      "epoch: 9, [batch: 1895 / 6315], examples_per_second: 4124.2558, train_label_loss: 0.0000, \n"
     ]
    },
    {
     "name": "stdout",
     "output_type": "stream",
     "text": [
      "epoch: 9, [batch: 2526 / 6315], examples_per_second: 4002.2802, train_label_loss: 0.0002, \n"
     ]
    },
    {
     "name": "stdout",
     "output_type": "stream",
     "text": [
      "epoch: 9, [batch: 3158 / 6315], examples_per_second: 4272.6116, train_label_loss: 0.0000, \n"
     ]
    },
    {
     "name": "stdout",
     "output_type": "stream",
     "text": [
      "epoch: 9, [batch: 3789 / 6315], examples_per_second: 4559.4606, train_label_loss: 0.0000, \n"
     ]
    },
    {
     "name": "stdout",
     "output_type": "stream",
     "text": [
      "epoch: 9, [batch: 4420 / 6315], examples_per_second: 4890.7019, train_label_loss: 0.0000, \n"
     ]
    },
    {
     "name": "stdout",
     "output_type": "stream",
     "text": [
      "epoch: 9, [batch: 5052 / 6315], examples_per_second: 4096.7972, train_label_loss: 0.0000, \n"
     ]
    },
    {
     "name": "stdout",
     "output_type": "stream",
     "text": [
      "epoch: 9, [batch: 5683 / 6315], examples_per_second: 3971.6352, train_label_loss: 0.0000, \n"
     ]
    },
    {
     "name": "stdout",
     "output_type": "stream",
     "text": [
      "=============================================================\n",
      "epoch: 9, source_val_acc_label: 0.9989, target_val_acc_label: 0.3138, source_val_label_loss: 0.0106, target_val_label_loss: 2.6989, \n",
      "=============================================================\n"
     ]
    },
    {
     "name": "stdout",
     "output_type": "stream",
     "text": [
      "Patience (3) exhausted\n"
     ]
    }
   ],
   "source": [
    "###################################\n",
    "# train\n",
    "###################################\n",
    "jig = PTN_Train_Eval_Test_Jig(model, p.BEST_MODEL_PATH, p.device)\n",
    "\n",
    "jig.train(\n",
    "    train_iterable=datasets.source.processed.train,\n",
    "    source_val_iterable=datasets.source.processed.val,\n",
    "    target_val_iterable=datasets.target.processed.val,\n",
    "    num_epochs=p.n_epoch,\n",
    "    num_logs_per_epoch=p.NUM_LOGS_PER_EPOCH,\n",
    "    patience=p.patience,\n",
    "    optimizer=optimizer,\n",
    "    criteria_for_best=p.criteria_for_best,\n",
    ")"
   ]
  },
  {
   "cell_type": "code",
   "execution_count": 23,
   "id": "31e8fabf",
   "metadata": {
    "execution": {
     "iopub.execute_input": "2022-03-28T12:24:47.629930Z",
     "iopub.status.busy": "2022-03-28T12:24:47.629560Z",
     "iopub.status.idle": "2022-03-28T12:24:47.663125Z",
     "shell.execute_reply": "2022-03-28T12:24:47.662455Z"
    },
    "papermill": {
     "duration": 0.088871,
     "end_time": "2022-03-28T12:24:47.663280",
     "exception": false,
     "start_time": "2022-03-28T12:24:47.574409",
     "status": "completed"
    },
    "tags": []
   },
   "outputs": [],
   "source": [
    "total_experiment_time_secs = time.time() - start_time_secs"
   ]
  },
  {
   "cell_type": "code",
   "execution_count": 24,
   "id": "87b9595b",
   "metadata": {
    "execution": {
     "iopub.execute_input": "2022-03-28T12:24:47.787248Z",
     "iopub.status.busy": "2022-03-28T12:24:47.786717Z",
     "iopub.status.idle": "2022-03-28T12:27:29.748085Z",
     "shell.execute_reply": "2022-03-28T12:27:29.747300Z"
    },
    "papermill": {
     "duration": 162.030037,
     "end_time": "2022-03-28T12:27:29.748276",
     "exception": false,
     "start_time": "2022-03-28T12:24:47.718239",
     "status": "completed"
    },
    "tags": []
   },
   "outputs": [],
   "source": [
    "###################################\n",
    "# Evaluate the model\n",
    "###################################\n",
    "source_test_label_accuracy, source_test_label_loss = jig.test(datasets.source.processed.test)\n",
    "target_test_label_accuracy, target_test_label_loss = jig.test(datasets.target.processed.test)\n",
    "\n",
    "source_val_label_accuracy, source_val_label_loss = jig.test(datasets.source.processed.val)\n",
    "target_val_label_accuracy, target_val_label_loss = jig.test(datasets.target.processed.val)\n",
    "\n",
    "history = jig.get_history()\n",
    "\n",
    "total_epochs_trained = len(history[\"epoch_indices\"])\n",
    "\n",
    "val_dl = Iterable_Aggregator((datasets.source.original.val,datasets.target.original.val))\n",
    "\n",
    "confusion = ptn_confusion_by_domain_over_dataloader(model, p.device, val_dl)\n",
    "per_domain_accuracy = per_domain_accuracy_from_confusion(confusion)\n",
    "\n",
    "# Add a key to per_domain_accuracy for if it was a source domain\n",
    "for domain, accuracy in per_domain_accuracy.items():\n",
    "    per_domain_accuracy[domain] = {\n",
    "        \"accuracy\": accuracy,\n",
    "        \"source?\": domain in p.domains_source\n",
    "    }\n",
    "\n",
    "# Do an independent accuracy assesment JUST TO BE SURE!\n",
    "# _source_test_label_accuracy = independent_accuracy_assesment(model, datasets.source.processed.test, p.device)\n",
    "# _target_test_label_accuracy = independent_accuracy_assesment(model, datasets.target.processed.test, p.device)\n",
    "# _source_val_label_accuracy = independent_accuracy_assesment(model, datasets.source.processed.val, p.device)\n",
    "# _target_val_label_accuracy = independent_accuracy_assesment(model, datasets.target.processed.val, p.device)\n",
    "\n",
    "# assert(_source_test_label_accuracy == source_test_label_accuracy)\n",
    "# assert(_target_test_label_accuracy == target_test_label_accuracy)\n",
    "# assert(_source_val_label_accuracy == source_val_label_accuracy)\n",
    "# assert(_target_val_label_accuracy == target_val_label_accuracy)\n",
    "\n",
    "experiment = {\n",
    "    \"experiment_name\": p.experiment_name,\n",
    "    \"parameters\": dict(p),\n",
    "    \"results\": {\n",
    "        \"source_test_label_accuracy\": source_test_label_accuracy,\n",
    "        \"source_test_label_loss\": source_test_label_loss,\n",
    "        \"target_test_label_accuracy\": target_test_label_accuracy,\n",
    "        \"target_test_label_loss\": target_test_label_loss,\n",
    "        \"source_val_label_accuracy\": source_val_label_accuracy,\n",
    "        \"source_val_label_loss\": source_val_label_loss,\n",
    "        \"target_val_label_accuracy\": target_val_label_accuracy,\n",
    "        \"target_val_label_loss\": target_val_label_loss,\n",
    "        \"total_epochs_trained\": total_epochs_trained,\n",
    "        \"total_experiment_time_secs\": total_experiment_time_secs,\n",
    "        \"confusion\": confusion,\n",
    "        \"per_domain_accuracy\": per_domain_accuracy,\n",
    "    },\n",
    "    \"history\": history,\n",
    "    \"dataset_metrics\": get_dataset_metrics(datasets, \"ptn\"),\n",
    "}"
   ]
  },
  {
   "cell_type": "code",
   "execution_count": 25,
   "id": "54a21829",
   "metadata": {
    "execution": {
     "iopub.execute_input": "2022-03-28T12:27:29.861411Z",
     "iopub.status.busy": "2022-03-28T12:27:29.861031Z",
     "iopub.status.idle": "2022-03-28T12:27:30.086526Z",
     "shell.execute_reply": "2022-03-28T12:27:30.087232Z"
    },
    "papermill": {
     "duration": 0.281297,
     "end_time": "2022-03-28T12:27:30.087456",
     "exception": false,
     "start_time": "2022-03-28T12:27:29.806159",
     "status": "completed"
    },
    "tags": []
   },
   "outputs": [
    {
     "data": {
      "image/png": "[encoded data removed]",
      "text/plain": [
       "<Figure size 1080x504 with 1 Axes>"
      ]
     },
     "metadata": {
      "needs_background": "light"
     },
     "output_type": "display_data"
    }
   ],
   "source": [
    "ax = get_loss_curve(experiment)\n",
    "plt.show()"
   ]
  },
  {
   "cell_type": "code",
   "execution_count": 26,
   "id": "fd8a0f60",
   "metadata": {
    "execution": {
     "iopub.execute_input": "2022-03-28T12:27:30.202700Z",
     "iopub.status.busy": "2022-03-28T12:27:30.202129Z",
     "iopub.status.idle": "2022-03-28T12:27:30.570733Z",
     "shell.execute_reply": "2022-03-28T12:27:30.571419Z"
    },
    "papermill": {
     "duration": 0.42648,
     "end_time": "2022-03-28T12:27:30.571648",
     "exception": false,
     "start_time": "2022-03-28T12:27:30.145168",
     "status": "completed"
    },
    "tags": []
   },
   "outputs": [
    {
     "data": {
      "text/plain": [
       "<AxesSubplot:title={'center':'Results'}>"
      ]
     },
     "execution_count": 26,
     "metadata": {},
     "output_type": "execute_result"
    },
    {
     "data": {
      "image/png": "[encoded data removed]",
      "text/plain": [
       "<Figure size 1080x504 with 1 Axes>"
      ]
     },
     "metadata": {
      "needs_background": "light"
     },
     "output_type": "display_data"
    }
   ],
   "source": [
    "get_results_table(experiment)"
   ]
  },
  {
   "cell_type": "code",
   "execution_count": 27,
   "id": "cf8dc689",
   "metadata": {
    "execution": {
     "iopub.execute_input": "2022-03-28T12:27:30.691095Z",
     "iopub.status.busy": "2022-03-28T12:27:30.690713Z",
     "iopub.status.idle": "2022-03-28T12:27:30.928710Z",
     "shell.execute_reply": "2022-03-28T12:27:30.927961Z"
    },
    "papermill": {
     "duration": 0.296149,
     "end_time": "2022-03-28T12:27:30.928877",
     "exception": false,
     "start_time": "2022-03-28T12:27:30.632728",
     "status": "completed"
    },
    "tags": []
   },
   "outputs": [
    {
     "data": {
      "text/plain": [
       "<AxesSubplot:title={'center':'Per Domain Validation Accuracy'}, xlabel='domain'>"
      ]
     },
     "execution_count": 27,
     "metadata": {},
     "output_type": "execute_result"
    },
    {
     "data": {
      "image/png": "[encoded data removed]",
      "text/plain": [
       "<Figure size 1080x504 with 1 Axes>"
      ]
     },
     "metadata": {
      "needs_background": "light"
     },
     "output_type": "display_data"
    }
   ],
   "source": [
    "get_domain_accuracies(experiment)"
   ]
  },
  {
   "cell_type": "code",
   "execution_count": 28,
   "id": "a74ae082",
   "metadata": {
    "execution": {
     "iopub.execute_input": "2022-03-28T12:27:31.048254Z",
     "iopub.status.busy": "2022-03-28T12:27:31.047875Z",
     "iopub.status.idle": "2022-03-28T12:27:31.075481Z",
     "shell.execute_reply": "2022-03-28T12:27:31.074757Z"
    },
    "papermill": {
     "duration": 0.087509,
     "end_time": "2022-03-28T12:27:31.075654",
     "exception": false,
     "start_time": "2022-03-28T12:27:30.988145",
     "status": "completed"
    },
    "tags": []
   },
   "outputs": [
    {
     "name": "stdout",
     "output_type": "stream",
     "text": [
      "Source Test Label Accuracy: 0.9991933221099888 Target Test Label Accuracy: 0.36380208333333336\n",
      "Source Val Label Accuracy: 0.99917950913242 Target Val Label Accuracy: 0.36064453125\n"
     ]
    }
   ],
   "source": [
    "print(\"Source Test Label Accuracy:\", experiment[\"results\"][\"source_test_label_accuracy\"], \"Target Test Label Accuracy:\", experiment[\"results\"][\"target_test_label_accuracy\"])\n",
    "print(\"Source Val Label Accuracy:\", experiment[\"results\"][\"source_val_label_accuracy\"], \"Target Val Label Accuracy:\", experiment[\"results\"][\"target_val_label_accuracy\"])"
   ]
  },
  {
   "cell_type": "code",
   "execution_count": 29,
   "id": "dacca602",
   "metadata": {
    "execution": {
     "iopub.execute_input": "2022-03-28T12:27:31.195664Z",
     "iopub.status.busy": "2022-03-28T12:27:31.195220Z",
     "iopub.status.idle": "2022-03-28T12:27:31.224642Z",
     "shell.execute_reply": "2022-03-28T12:27:31.225332Z"
    },
    "papermill": {
     "duration": 0.089834,
     "end_time": "2022-03-28T12:27:31.225516",
     "exception": false,
     "start_time": "2022-03-28T12:27:31.135682",
     "status": "completed"
    },
    "tags": [
     "experiment_json"
    ]
   },
   "outputs": [
    {
     "data": {
      "text/plain": [
       "'{\"experiment_name\": \"tl_3-jitter5v2:cores -> oracle.run1.framed\", \"parameters\": {\"experiment_name\": \"tl_3-jitter5v2:cores -> oracle.run1.framed\", \"device\": \"cuda\", \"lr\": 0.0001, \"x_shape\": [2, 256], \"n_shot\": 3, \"n_query\": 2, \"train_k_factor\": 3, \"val_k_factor\": 2, \"test_k_factor\": 2, \"torch_default_dtype\": \"torch.float32\", \"n_epoch\": 50, \"patience\": 3, \"criteria_for_best\": \"target_accuracy\", \"x_net\": [{\"class\": \"nnReshape\", \"kargs\": {\"shape\": [-1, 1, 2, 256]}}, {\"class\": \"Conv2d\", \"kargs\": {\"in_channels\": 1, \"out_channels\": 256, \"kernel_size\": [1, 7], \"bias\": false, \"padding\": [0, 3]}}, {\"class\": \"ReLU\", \"kargs\": {\"inplace\": true}}, {\"class\": \"BatchNorm2d\", \"kargs\": {\"num_features\": 256}}, {\"class\": \"Conv2d\", \"kargs\": {\"in_channels\": 256, \"out_channels\": 80, \"kernel_size\": [2, 7], \"bias\": true, \"padding\": [0, 3]}}, {\"class\": \"ReLU\", \"kargs\": {\"inplace\": true}}, {\"class\": \"BatchNorm2d\", \"kargs\": {\"num_features\": 80}}, {\"class\": \"Flatten\", \"kargs\": {}}, {\"class\": \"Linear\", \"kargs\": {\"in_features\": 20480, \"out_features\": 256}}, {\"class\": \"ReLU\", \"kargs\": {\"inplace\": true}}, {\"class\": \"BatchNorm1d\", \"kargs\": {\"num_features\": 256}}, {\"class\": \"Linear\", \"kargs\": {\"in_features\": 256, \"out_features\": 256}}], \"NUM_LOGS_PER_EPOCH\": 10, \"BEST_MODEL_PATH\": \"./best_model.pth\", \"n_way\": 16, \"datasets\": [{\"labels\": [\"1-10.\", \"1-11.\", \"1-15.\", \"1-16.\", \"1-17.\", \"1-18.\", \"1-19.\", \"10-4.\", \"10-7.\", \"11-1.\", \"11-14.\", \"11-17.\", \"11-20.\", \"11-7.\", \"13-20.\", \"13-8.\", \"14-10.\", \"14-11.\", \"14-14.\", \"14-7.\", \"15-1.\", \"15-20.\", \"16-1.\", \"16-16.\", \"17-10.\", \"17-11.\", \"17-2.\", \"19-1.\", \"19-16.\", \"19-19.\", \"19-20.\", \"19-3.\", \"2-10.\", \"2-11.\", \"2-17.\", \"2-18.\", \"2-20.\", \"2-3.\", \"2-4.\", \"2-5.\", \"2-6.\", \"2-7.\", \"2-8.\", \"3-13.\", \"3-18.\", \"3-3.\", \"4-1.\", \"4-10.\", \"4-11.\", \"4-19.\", \"5-5.\", \"6-15.\", \"7-10.\", \"7-14.\", \"8-18.\", \"8-20.\", \"8-3.\", \"8-8.\"], \"domains\": [1, 2, 3, 4, 5], \"num_examples_per_domain_per_label\": -1, \"pickle_path\": \"/root/csc500-main/datasets/cores.stratified_ds.2022A.pkl\", \"source_or_target_dataset\": \"source\", \"x_transforms\": [\"unit_power\", \"jitter_256_5\", \"lowpass_+/-10MHz\", \"take_200\"], \"episode_transforms\": [], \"domain_prefix\": \"C_\"}, {\"labels\": [\"3123D52\", \"3123D65\", \"3123D79\", \"3123D80\", \"3123D54\", \"3123D70\", \"3123D7B\", \"3123D89\", \"3123D58\", \"3123D76\", \"3123D7D\", \"3123EFE\", \"3123D64\", \"3123D78\", \"3123D7E\", \"3124E4A\"], \"domains\": [32, 38, 8, 44, 14, 50, 20, 26], \"num_examples_per_domain_per_label\": 2000, \"pickle_path\": \"/root/csc500-main/datasets/oracle.Run1_framed_2000Examples_stratified_ds.2022A.pkl\", \"source_or_target_dataset\": \"target\", \"x_transforms\": [\"unit_power\", \"jitter_256_5\", \"take_200\", \"resample_20Msps_to_25Msps\"], \"episode_transforms\": [], \"domain_prefix\": \"O_\"}], \"seed\": 1337, \"dataset_seed\": 1337, \"domains_source\": [\"C_1\", \"C_2\", \"C_3\", \"C_4\", \"C_5\"], \"domains_target\": [\"O_32\", \"O_38\", \"O_8\", \"O_44\", \"O_14\", \"O_50\", \"O_20\", \"O_26\"]}, \"results\": {\"source_test_label_accuracy\": 0.9991933221099888, \"source_test_label_loss\": 0.007946860045194626, \"target_test_label_accuracy\": 0.36380208333333336, \"target_test_label_loss\": 1.9959381818771362, \"source_val_label_accuracy\": 0.99917950913242, \"source_val_label_loss\": 0.008211290463805199, \"target_val_label_accuracy\": 0.36064453125, \"target_val_label_loss\": 2.0054116249084473, \"total_epochs_trained\": 9, \"total_experiment_time_secs\": 1430.0453910827637, \"confusion\": {\"C_3\": {\"43\": {\"43\": 128}, \"9\": {\"9\": 150}, \"6\": {\"6\": 87, \"15\": 1}, \"3\": {\"3\": 144}, \"16\": {\"16\": 134}, \"51\": {\"51\": 128}, \"31\": {\"31\": 28}, \"46\": {\"46\": 134}, \"19\": {\"19\": 124}, \"8\": {\"8\": 152}, \"18\": {\"18\": 84}, \"37\": {\"37\": 28}, \"24\": {\"24\": 104}, \"10\": {\"10\": 64}, \"44\": {\"44\": 88}, \"14\": {\"14\": 40}, \"38\": {\"38\": 28}, \"53\": {\"53\": 140}, \"20\": {\"20\": 132}, \"32\": {\"32\": 28}, \"36\": {\"36\": 100}, \"33\": {\"33\": 28}, \"56\": {\"56\": 136}, \"23\": {\"23\": 130}, \"54\": {\"54\": 100}, \"21\": {\"21\": 126}, \"28\": {\"28\": 28}, \"26\": {\"26\": 24}, \"48\": {\"48\": 116}, \"52\": {\"52\": 118}, \"39\": {\"39\": 16}, \"22\": {\"22\": 140}, \"13\": {\"13\": 128}, \"2\": {\"2\": 32}, \"34\": {\"34\": 32}, \"27\": {\"27\": 132}, \"45\": {\"45\": 60}, \"35\": {\"35\": 28}, \"29\": {\"29\": 128}, \"25\": {\"25\": 144}, \"0\": {\"0\": 124}, \"41\": {\"41\": 28}, \"11\": {\"11\": 142}, \"5\": {\"5\": 108}, \"1\": {\"1\": 100}, \"57\": {\"57\": 116}, \"17\": {\"17\": 106, \"10\": 1, \"24\": 1}, \"7\": {\"7\": 36}, \"12\": {\"12\": 92}, \"47\": {\"47\": 92}, \"40\": {\"40\": 136}, \"15\": {\"15\": 142}, \"42\": {\"42\": 28}, \"55\": {\"55\": 150}, \"49\": {\"49\": 20}, \"30\": {\"30\": 120}, \"50\": {\"50\": 134}, \"4\": {\"4\": 136}}, \"C_4\": {\"35\": {\"35\": 40}, \"25\": {\"25\": 134}, \"24\": {\"24\": 56}, \"48\": {\"48\": 138}, \"51\": {\"51\": 144}, \"13\": {\"13\": 120}, \"14\": {\"14\": 12, \"1\": 1, \"57\": 2, \"0\": 1}, \"32\": {\"32\": 24}, \"30\": {\"30\": 44}, \"34\": {\"34\": 24}, \"9\": {\"9\": 136}, \"1\": {\"1\": 40}, \"0\": {\"0\": 80}, \"38\": {\"38\": 40}, \"22\": {\"22\": 128}, \"40\": {\"40\": 120}, \"6\": {\"6\": 108, \"51\": 2, \"3\": 2}, \"16\": {\"16\": 96}, \"11\": {\"11\": 104}, \"20\": {\"20\": 122}, \"17\": {\"17\": 80}, \"26\": {\"26\": 24}, \"54\": {\"54\": 108}, \"55\": {\"55\": 154}, \"50\": {\"50\": 129, \"22\": 1, \"3\": 2}, \"19\": {\"19\": 142}, \"44\": {\"44\": 122}, \"47\": {\"47\": 120}, \"33\": {\"33\": 36}, \"5\": {\"5\": 108}, \"18\": {\"18\": 108}, \"21\": {\"21\": 124}, \"41\": {\"41\": 36}, \"23\": {\"23\": 128}, \"39\": {\"39\": 20}, \"37\": {\"37\": 24}, \"8\": {\"8\": 144}, \"49\": {\"49\": 20}, \"53\": {\"53\": 140}, \"31\": {\"31\": 28}, \"28\": {\"28\": 32}, \"3\": {\"3\": 123, \"50\": 1}, \"27\": {\"27\": 138}, \"46\": {\"46\": 128}, \"12\": {\"12\": 92}, \"7\": {\"7\": 24}, \"4\": {\"4\": 132}, \"42\": {\"42\": 32}, \"43\": {\"43\": 130}, \"29\": {\"29\": 120}, \"57\": {\"57\": 100}, \"52\": {\"52\": 104}, \"45\": {\"45\": 96}, \"36\": {\"36\": 92}, \"10\": {\"10\": 126}, \"15\": {\"15\": 134}, \"56\": {\"56\": 124}, \"2\": {\"2\": 36}}, \"C_5\": {\"47\": {\"47\": 100}, \"53\": {\"53\": 150}, \"29\": {\"29\": 126}, \"52\": {\"52\": 130}, \"55\": {\"55\": 144}, \"17\": {\"17\": 116}, \"42\": {\"42\": 40}, \"33\": {\"33\": 32}, \"11\": {\"11\": 148}, \"19\": {\"19\": 118}, \"1\": {\"1\": 144}, \"44\": {\"44\": 142}, \"49\": {\"49\": 36}, \"4\": {\"4\": 100}, \"6\": {\"6\": 115, \"17\": 1}, \"39\": {\"39\": 20}, \"50\": {\"50\": 146, \"18\": 2}, \"56\": {\"56\": 130}, \"25\": {\"25\": 144}, \"28\": {\"28\": 32}, \"35\": {\"35\": 36}, \"24\": {\"24\": 80}, \"21\": {\"21\": 132}, \"45\": {\"45\": 123, \"9\": 1}, \"16\": {\"16\": 144}, \"37\": {\"37\": 24}, \"57\": {\"57\": 132}, \"34\": {\"34\": 36}, \"38\": {\"38\": 32}, \"48\": {\"48\": 130}, \"26\": {\"26\": 24}, \"9\": {\"9\": 152}, \"18\": {\"18\": 64}, \"3\": {\"3\": 100}, \"23\": {\"23\": 124}, \"15\": {\"15\": 154}, \"10\": {\"10\": 68}, \"46\": {\"46\": 148}, \"22\": {\"22\": 28}, \"54\": {\"54\": 112}, \"27\": {\"27\": 160}, \"41\": {\"41\": 28}, \"31\": {\"31\": 36}, \"0\": {\"0\": 124}, \"7\": {\"7\": 32}, \"2\": {\"2\": 28}, \"14\": {\"14\": 43, \"46\": 1}, \"40\": {\"40\": 124}, \"5\": {\"5\": 128}, \"12\": {\"12\": 96}, \"43\": {\"43\": 142}, \"13\": {\"13\": 148}, \"36\": {\"36\": 92}, \"8\": {\"8\": 150}, \"32\": {\"32\": 32}, \"30\": {\"30\": 128}, \"51\": {\"51\": 138}, \"20\": {\"20\": 138}}, \"C_1\": {\"46\": {\"46\": 140}, \"16\": {\"16\": 134}, \"26\": {\"26\": 24}, \"10\": {\"10\": 96}, \"9\": {\"9\": 156}, \"28\": {\"28\": 28}, \"51\": {\"51\": 156}, \"1\": {\"1\": 100}, \"55\": {\"55\": 148}, \"27\": {\"27\": 124}, \"22\": {\"22\": 124}, \"52\": {\"52\": 126}, \"3\": {\"3\": 140}, \"33\": {\"33\": 32}, \"47\": {\"47\": 120}, \"42\": {\"42\": 40}, \"12\": {\"12\": 116}, \"23\": {\"23\": 132}, \"49\": {\"49\": 32}, \"7\": {\"7\": 28}, \"4\": {\"4\": 132}, \"50\": {\"50\": 134}, \"19\": {\"19\": 154}, \"11\": {\"11\": 140}, \"31\": {\"31\": 28}, \"41\": {\"41\": 24}, \"56\": {\"56\": 138}, \"0\": {\"0\": 148}, \"57\": {\"57\": 128}, \"53\": {\"53\": 140}, \"43\": {\"43\": 144}, \"37\": {\"37\": 32}, \"2\": {\"2\": 36}, \"6\": {\"6\": 96}, \"13\": {\"13\": 150}, \"18\": {\"18\": 72}, \"36\": {\"36\": 64}, \"29\": {\"29\": 140}, \"39\": {\"39\": 28}, \"17\": {\"17\": 64}, \"21\": {\"21\": 124}, \"25\": {\"25\": 132}, \"45\": {\"45\": 142}, \"38\": {\"38\": 24}, \"30\": {\"30\": 120}, \"24\": {\"24\": 108}, \"20\": {\"20\": 140}, \"8\": {\"8\": 140}, \"35\": {\"35\": 36}, \"54\": {\"54\": 104}, \"5\": {\"5\": 148}, \"48\": {\"48\": 144}, \"15\": {\"15\": 142}, \"34\": {\"34\": 24}, \"14\": {\"14\": 23, \"8\": 1}, \"32\": {\"32\": 32}, \"40\": {\"40\": 148}, \"44\": {\"44\": 136}}, \"C_2\": {\"36\": {\"36\": 116}, \"5\": {\"5\": 120}, \"45\": {\"45\": 128}, \"49\": {\"49\": 24}, \"50\": {\"50\": 136}, \"4\": {\"4\": 138}, \"43\": {\"43\": 148}, \"41\": {\"41\": 20}, \"37\": {\"37\": 36}, \"12\": {\"12\": 92}, \"33\": {\"33\": 28}, \"7\": {\"7\": 36}, \"56\": {\"56\": 140}, \"14\": {\"14\": 23, \"0\": 1}, \"52\": {\"52\": 124}, \"44\": {\"44\": 96}, \"48\": {\"48\": 144}, \"20\": {\"20\": 128}, \"55\": {\"55\": 144}, \"32\": {\"32\": 28}, \"40\": {\"40\": 136}, \"54\": {\"54\": 107, \"32\": 1}, \"17\": {\"17\": 104}, \"38\": {\"38\": 20}, \"24\": {\"24\": 96}, \"1\": {\"1\": 112}, \"6\": {\"6\": 124}, \"34\": {\"34\": 28}, \"11\": {\"11\": 136}, \"9\": {\"9\": 150}, \"8\": {\"8\": 152}, \"22\": {\"22\": 136}, \"26\": {\"26\": 24}, \"23\": {\"23\": 146}, \"10\": {\"10\": 112}, \"18\": {\"18\": 48}, \"13\": {\"13\": 116}, \"30\": {\"30\": 128}, \"42\": {\"42\": 36}, \"31\": {\"31\": 28}, \"46\": {\"46\": 128}, \"57\": {\"57\": 142}, \"47\": {\"47\": 138}, \"35\": {\"35\": 32}, \"15\": {\"15\": 132}, \"25\": {\"25\": 136}, \"19\": {\"19\": 136}, \"51\": {\"51\": 128}, \"53\": {\"53\": 134}, \"21\": {\"21\": 120}, \"39\": {\"39\": 28}, \"2\": {\"2\": 32}, \"16\": {\"16\": 150}, \"0\": {\"0\": 48}, \"3\": {\"3\": 92}, \"27\": {\"27\": 142}, \"28\": {\"28\": 28}, \"29\": {\"29\": 128}}, \"O_14\": {\"15\": {\"15\": 138, \"7\": 58, \"2\": 9, \"6\": 2, \"1\": 15, \"4\": 4, \"5\": 11, \"13\": 2, \"14\": 1}, \"3\": {\"14\": 22, \"0\": 26, \"5\": 24, \"3\": 63, \"6\": 8, \"13\": 9, \"8\": 6, \"2\": 25, \"10\": 9, \"4\": 34, \"1\": 13, \"11\": 1}, \"6\": {\"6\": 71, \"2\": 30, \"14\": 37, \"5\": 6, \"13\": 60, \"4\": 14, \"10\": 6, \"3\": 8, \"0\": 2, \"11\": 2, \"7\": 1, \"15\": 2, \"1\": 1}, \"1\": {\"3\": 18, \"1\": 87, \"7\": 29, \"4\": 35, \"5\": 32, \"15\": 11, \"8\": 14, \"2\": 6, \"14\": 4, \"10\": 1, \"0\": 2, \"9\": 1}, \"8\": {\"8\": 172, \"4\": 7, \"1\": 21, \"3\": 15, \"5\": 9, \"0\": 11, \"9\": 2, \"2\": 1, \"14\": 1, \"11\": 1}, \"10\": {\"10\": 118, \"14\": 12, \"6\": 13, \"0\": 38, \"11\": 26, \"2\": 2, \"4\": 7, \"3\": 12, \"9\": 3, \"13\": 8, \"1\": 1}, \"9\": {\"11\": 25, \"9\": 146, \"12\": 39, \"10\": 2, \"8\": 8, \"0\": 19, \"3\": 1}, \"13\": {\"6\": 61, \"4\": 14, \"13\": 71, \"5\": 7, \"7\": 4, \"14\": 33, \"10\": 11, \"3\": 8, \"2\": 22, \"11\": 2, \"0\": 4, \"15\": 1, \"8\": 1, \"1\": 1}, \"12\": {\"12\": 177, \"9\": 51, \"11\": 12}, \"5\": {\"3\": 21, \"7\": 17, \"13\": 4, \"4\": 37, \"15\": 18, \"5\": 46, \"1\": 46, \"2\": 30, \"10\": 3, \"0\": 4, \"14\": 7, \"8\": 3, \"6\": 4}, \"0\": {\"0\": 87, \"3\": 35, \"14\": 14, \"11\": 34, \"4\": 10, \"10\": 26, \"9\": 9, \"8\": 7, \"1\": 3, \"2\": 7, \"5\": 4, \"13\": 3, \"6\": 1}, \"2\": {\"3\": 26, \"15\": 12, \"4\": 21, \"0\": 6, \"5\": 33, \"14\": 24, \"2\": 40, \"13\": 32, \"6\": 25, \"1\": 14, \"7\": 5, \"8\": 1, \"10\": 1}, \"11\": {\"11\": 142, \"10\": 18, \"0\": 37, \"9\": 21, \"12\": 17, \"14\": 1, \"3\": 2, \"2\": 1, \"13\": 1}, \"14\": {\"2\": 46, \"0\": 12, \"5\": 11, \"6\": 28, \"14\": 60, \"13\": 33, \"8\": 2, \"3\": 24, \"10\": 11, \"11\": 3, \"4\": 9, \"7\": 1}, \"7\": {\"15\": 61, \"5\": 14, \"7\": 134, \"1\": 26, \"2\": 4, \"4\": 1}, \"4\": {\"4\": 61, \"2\": 23, \"7\": 1, \"1\": 23, \"6\": 12, \"5\": 26, \"3\": 43, \"13\": 7, \"8\": 6, \"14\": 20, \"10\": 7, \"15\": 2, \"0\": 9}}, \"O_20\": {\"3\": {\"1\": 19, \"10\": 8, \"4\": 16, \"2\": 18, \"15\": 11, \"12\": 28, \"8\": 13, \"7\": 23, \"3\": 28, \"9\": 18, \"13\": 20, \"5\": 16, \"0\": 11, \"11\": 4, \"6\": 3, \"14\": 4}, \"15\": {\"0\": 24, \"13\": 21, \"7\": 11, \"5\": 20, \"2\": 23, \"1\": 32, \"3\": 13, \"15\": 33, \"12\": 29, \"9\": 18, \"11\": 2, \"4\": 2, \"6\": 5, \"8\": 6, \"10\": 1}, \"8\": {\"8\": 34, \"4\": 42, \"6\": 23, \"2\": 7, \"14\": 32, \"0\": 16, \"9\": 6, \"3\": 12, \"10\": 12, \"7\": 23, \"15\": 6, \"5\": 8, \"12\": 10, \"13\": 1, \"1\": 7, \"11\": 1}, \"4\": {\"4\": 38, \"10\": 43, \"0\": 20, \"12\": 15, \"14\": 16, \"6\": 6, \"3\": 18, \"5\": 13, \"8\": 16, \"13\": 4, \"9\": 11, \"1\": 15, \"15\": 7, \"7\": 12, \"2\": 5, \"11\": 1}, \"14\": {\"6\": 39, \"14\": 61, \"3\": 10, \"8\": 31, \"10\": 36, \"0\": 6, \"2\": 4, \"4\": 18, \"9\": 2, \"15\": 1, \"11\": 5, \"13\": 2, \"7\": 20, \"12\": 3, \"5\": 2}, \"0\": {\"1\": 26, \"4\": 18, \"0\": 41, \"12\": 12, \"13\": 13, \"3\": 14, \"15\": 22, \"5\": 34, \"6\": 5, \"8\": 15, \"2\": 10, \"9\": 10, \"14\": 5, \"7\": 9, \"11\": 3, \"10\": 3}, \"7\": {\"2\": 20, \"4\": 15, \"6\": 27, \"13\": 16, \"5\": 6, \"9\": 21, \"15\": 11, \"8\": 21, \"11\": 16, \"1\": 10, \"7\": 31, \"14\": 14, \"12\": 10, \"3\": 10, \"0\": 5, \"10\": 7}, \"6\": {\"6\": 73, \"11\": 28, \"3\": 8, \"14\": 32, \"10\": 24, \"2\": 6, \"13\": 4, \"7\": 23, \"9\": 7, \"4\": 11, \"12\": 3, \"8\": 16, \"0\": 2, \"15\": 1, \"5\": 2}, \"10\": {\"10\": 61, \"4\": 31, \"5\": 6, \"13\": 2, \"9\": 15, \"14\": 34, \"2\": 5, \"12\": 9, \"7\": 15, \"8\": 20, \"11\": 6, \"6\": 17, \"1\": 5, \"3\": 9, \"0\": 4, \"15\": 1}, \"5\": {\"13\": 12, \"10\": 10, \"15\": 22, \"9\": 13, \"3\": 21, \"12\": 26, \"1\": 21, \"5\": 33, \"4\": 19, \"0\": 33, \"6\": 2, \"8\": 10, \"2\": 10, \"7\": 7, \"14\": 1}, \"2\": {\"13\": 26, \"7\": 14, \"9\": 31, \"5\": 14, \"2\": 37, \"15\": 11, \"12\": 23, \"11\": 8, \"3\": 16, \"0\": 8, \"1\": 21, \"10\": 9, \"14\": 5, \"8\": 3, \"6\": 5, \"4\": 9}, \"12\": {\"3\": 30, \"15\": 19, \"7\": 10, \"14\": 1, \"2\": 18, \"9\": 27, \"12\": 38, \"1\": 30, \"4\": 9, \"10\": 6, \"5\": 16, \"13\": 10, \"0\": 12, \"8\": 11, \"6\": 2, \"11\": 1}, \"9\": {\"9\": 28, \"6\": 9, \"1\": 21, \"12\": 29, \"3\": 26, \"2\": 26, \"5\": 9, \"10\": 12, \"13\": 25, \"7\": 22, \"8\": 6, \"4\": 7, \"14\": 2, \"15\": 12, \"11\": 4, \"0\": 2}, \"1\": {\"1\": 44, \"4\": 7, \"9\": 20, \"5\": 31, \"12\": 36, \"3\": 17, \"0\": 12, \"6\": 2, \"2\": 18, \"15\": 26, \"13\": 11, \"10\": 4, \"14\": 2, \"7\": 6, \"8\": 4}, \"11\": {\"11\": 150, \"13\": 14, \"15\": 2, \"2\": 16, \"6\": 19, \"7\": 18, \"14\": 4, \"9\": 7, \"8\": 4, \"0\": 1, \"3\": 3, \"5\": 1, \"4\": 1}, \"13\": {\"7\": 25, \"3\": 9, \"12\": 16, \"13\": 56, \"6\": 7, \"5\": 12, \"2\": 27, \"11\": 14, \"0\": 5, \"15\": 21, \"9\": 22, \"1\": 18, \"8\": 2, \"10\": 4, \"4\": 1, \"14\": 1}}, \"O_38\": {\"5\": {\"10\": 8, \"7\": 32, \"8\": 34, \"5\": 44, \"3\": 10, \"9\": 13, \"15\": 19, \"1\": 16, \"0\": 21, \"13\": 16, \"6\": 27}, \"8\": {\"0\": 39, \"7\": 22, \"5\": 28, \"15\": 30, \"8\": 58, \"13\": 23, \"9\": 1, \"1\": 8, \"10\": 24, \"3\": 1, \"6\": 4, \"4\": 2}, \"11\": {\"11\": 98, \"15\": 3, \"2\": 26, \"14\": 78, \"10\": 19, \"12\": 11, \"13\": 4, \"4\": 1}, \"1\": {\"1\": 98, \"5\": 20, \"15\": 55, \"8\": 16, \"3\": 1, \"13\": 22, \"6\": 16, \"9\": 5, \"0\": 5, \"10\": 1, \"2\": 1}, \"10\": {\"2\": 22, \"10\": 84, \"13\": 27, \"7\": 6, \"8\": 22, \"15\": 15, \"14\": 21, \"11\": 13, \"0\": 5, \"1\": 2, \"6\": 2, \"5\": 7, \"12\": 10, \"4\": 4}, \"15\": {\"2\": 16, \"10\": 15, \"8\": 19, \"15\": 60, \"13\": 65, \"5\": 16, \"1\": 37, \"14\": 2, \"6\": 3, \"11\": 3, \"9\": 1, \"0\": 1, \"7\": 2}, \"3\": {\"3\": 145, \"8\": 4, \"0\": 13, \"9\": 41, \"7\": 14, \"6\": 16, \"5\": 7}, \"7\": {\"7\": 88, \"0\": 45, \"9\": 7, \"5\": 18, \"10\": 11, \"8\": 40, \"13\": 3, \"3\": 20, \"12\": 3, \"6\": 1, \"4\": 1, \"15\": 3}, \"4\": {\"8\": 2, \"4\": 161, \"12\": 61, \"14\": 3, \"7\": 3, \"0\": 1, \"10\": 7, \"13\": 1, \"11\": 1}, \"14\": {\"11\": 72, \"14\": 115, \"10\": 11, \"2\": 30, \"12\": 7, \"13\": 3, \"8\": 1, \"4\": 1}, \"9\": {\"6\": 80, \"1\": 6, \"9\": 97, \"3\": 27, \"5\": 14, \"0\": 7, \"8\": 5, \"7\": 3, \"15\": 1}, \"12\": {\"12\": 173, \"4\": 51, \"14\": 9, \"10\": 5, \"11\": 2}, \"6\": {\"1\": 18, \"5\": 23, \"6\": 103, \"9\": 75, \"8\": 4, \"3\": 10, \"0\": 4, \"7\": 2, \"15\": 1}, \"2\": {\"13\": 32, \"2\": 125, \"14\": 35, \"10\": 14, \"1\": 3, \"11\": 18, \"15\": 12, \"5\": 1}, \"0\": {\"8\": 37, \"5\": 28, \"0\": 67, \"7\": 47, \"13\": 8, \"12\": 5, \"9\": 2, \"3\": 20, \"10\": 11, \"6\": 3, \"15\": 7, \"1\": 5}, \"13\": {\"15\": 39, \"10\": 20, \"13\": 97, \"8\": 12, \"2\": 37, \"1\": 19, \"5\": 7, \"11\": 2, \"14\": 5, \"7\": 2}}, \"O_8\": {\"9\": {\"9\": 223, \"5\": 9, \"10\": 6, \"13\": 1, \"0\": 1}, \"10\": {\"5\": 29, \"7\": 14, \"6\": 16, \"0\": 22, \"1\": 18, \"14\": 38, \"13\": 30, \"4\": 26, \"10\": 35, \"9\": 2, \"8\": 2, \"2\": 2, \"11\": 6}, \"13\": {\"0\": 38, \"7\": 24, \"6\": 26, \"1\": 11, \"14\": 30, \"4\": 23, \"13\": 27, \"5\": 15, \"10\": 32, \"11\": 6, \"15\": 3, \"8\": 3, \"2\": 2}, \"0\": {\"15\": 7, \"7\": 39, \"0\": 66, \"4\": 23, \"14\": 20, \"13\": 31, \"5\": 3, \"6\": 18, \"10\": 19, \"3\": 4, \"2\": 5, \"9\": 1, \"1\": 2, \"12\": 1, \"11\": 1}, \"1\": {\"11\": 59, \"7\": 1, \"1\": 79, \"13\": 6, \"5\": 31, \"4\": 9, \"14\": 23, \"8\": 15, \"12\": 1, \"0\": 3, \"10\": 9, \"6\": 4}, \"15\": {\"8\": 38, \"12\": 46, \"3\": 24, \"0\": 5, \"7\": 14, \"15\": 60, \"13\": 5, \"6\": 13, \"14\": 5, \"1\": 3, \"11\": 1, \"2\": 19, \"10\": 1, \"4\": 6}, \"5\": {\"5\": 83, \"1\": 45, \"10\": 33, \"11\": 22, \"8\": 1, \"14\": 30, \"13\": 10, \"6\": 2, \"9\": 5, \"4\": 6, \"0\": 3}, \"3\": {\"8\": 10, \"3\": 85, \"12\": 34, \"15\": 18, \"2\": 78, \"0\": 3, \"6\": 3, \"7\": 9}, \"6\": {\"14\": 16, \"4\": 32, \"13\": 26, \"0\": 25, \"1\": 5, \"11\": 5, \"8\": 17, \"2\": 15, \"7\": 25, \"15\": 13, \"5\": 5, \"6\": 29, \"10\": 12, \"3\": 9, \"12\": 6}, \"11\": {\"1\": 64, \"14\": 10, \"11\": 76, \"10\": 12, \"4\": 11, \"8\": 23, \"5\": 21, \"6\": 7, \"15\": 5, \"2\": 1, \"13\": 5, \"0\": 1, \"7\": 4}, \"8\": {\"4\": 15, \"1\": 22, \"2\": 3, \"12\": 29, \"8\": 62, \"6\": 21, \"13\": 5, \"11\": 17, \"15\": 33, \"14\": 9, \"7\": 13, \"10\": 2, \"3\": 3, \"0\": 4, \"5\": 2}, \"4\": {\"7\": 21, \"13\": 28, \"10\": 21, \"2\": 4, \"4\": 29, \"6\": 31, \"8\": 11, \"1\": 14, \"5\": 9, \"14\": 31, \"0\": 30, \"11\": 3, \"15\": 6, \"12\": 1, \"3\": 1}, \"12\": {\"8\": 29, \"2\": 28, \"12\": 64, \"13\": 2, \"15\": 40, \"3\": 43, \"14\": 3, \"6\": 10, \"7\": 11, \"4\": 5, \"0\": 2, \"11\": 3}, \"14\": {\"1\": 25, \"11\": 15, \"14\": 46, \"5\": 26, \"10\": 26, \"13\": 30, \"8\": 6, \"4\": 21, \"6\": 11, \"0\": 10, \"7\": 18, \"12\": 1, \"15\": 3, \"2\": 2}, \"2\": {\"12\": 28, \"0\": 8, \"3\": 74, \"2\": 71, \"15\": 23, \"7\": 24, \"11\": 1, \"6\": 4, \"4\": 2, \"8\": 5}, \"7\": {\"2\": 29, \"13\": 26, \"15\": 11, \"8\": 10, \"0\": 30, \"4\": 20, \"7\": 43, \"11\": 1, \"6\": 33, \"14\": 13, \"3\": 12, \"12\": 6, \"10\": 6}}, \"O_50\": {\"7\": {\"5\": 51, \"13\": 47, \"10\": 32, \"7\": 75, \"0\": 7, \"4\": 4, \"6\": 14, \"15\": 1, \"8\": 6, \"1\": 2, \"3\": 1}, \"3\": {\"3\": 197, \"8\": 41, \"10\": 2}, \"8\": {\"8\": 159, \"3\": 32, \"0\": 8, \"10\": 32, \"7\": 4, \"13\": 2, \"2\": 2, \"5\": 1}, \"2\": {\"2\": 133, \"0\": 72, \"6\": 6, \"11\": 1, \"14\": 9, \"15\": 2, \"1\": 7, \"10\": 5, \"5\": 2, \"13\": 2, \"4\": 1}, \"14\": {\"14\": 133, \"11\": 26, \"2\": 10, \"12\": 35, \"15\": 5, \"9\": 20, \"1\": 6, \"6\": 2, \"4\": 3}, \"4\": {\"15\": 30, \"5\": 18, \"4\": 47, \"10\": 4, \"1\": 59, \"0\": 5, \"7\": 11, \"14\": 2, \"13\": 29, \"11\": 5, \"6\": 26, \"2\": 2, \"12\": 1, \"9\": 1}, \"6\": {\"1\": 34, \"6\": 69, \"13\": 33, \"15\": 30, \"7\": 15, \"0\": 10, \"2\": 5, \"4\": 26, \"10\": 3, \"5\": 11, \"14\": 2, \"11\": 2}, \"15\": {\"15\": 77, \"4\": 32, \"1\": 42, \"11\": 39, \"9\": 3, \"6\": 28, \"13\": 5, \"5\": 3, \"14\": 9, \"2\": 1, \"12\": 1}, \"10\": {\"10\": 95, \"0\": 30, \"3\": 3, \"13\": 22, \"7\": 24, \"8\": 46, \"4\": 3, \"6\": 5, \"5\": 10, \"2\": 2}, \"11\": {\"11\": 93, \"9\": 60, \"14\": 27, \"4\": 10, \"15\": 29, \"1\": 13, \"12\": 8}, \"13\": {\"4\": 16, \"5\": 42, \"6\": 23, \"7\": 58, \"13\": 56, \"10\": 21, \"0\": 12, \"1\": 6, \"8\": 2, \"15\": 3, \"2\": 1}, \"9\": {\"11\": 43, \"9\": 87, \"14\": 25, \"12\": 70, \"4\": 3, \"15\": 6, \"1\": 3, \"2\": 3}, \"0\": {\"2\": 60, \"10\": 36, \"13\": 11, \"0\": 91, \"5\": 7, \"15\": 3, \"4\": 5, \"6\": 8, \"8\": 5, \"11\": 1, \"7\": 6, \"1\": 7}, \"1\": {\"4\": 43, \"13\": 8, \"6\": 38, \"0\": 9, \"1\": 69, \"15\": 32, \"11\": 10, \"14\": 5, \"5\": 11, \"2\": 12, \"10\": 1, \"7\": 1, \"9\": 1}, \"12\": {\"12\": 147, \"14\": 44, \"9\": 35, \"11\": 12, \"2\": 1, \"15\": 1}, \"5\": {\"3\": 6, \"7\": 39, \"5\": 59, \"13\": 36, \"15\": 9, \"10\": 15, \"1\": 16, \"6\": 22, \"4\": 24, \"0\": 10, \"2\": 4}}, \"O_32\": {\"8\": {\"5\": 25, \"11\": 3, \"2\": 15, \"8\": 84, \"14\": 6, \"0\": 37, \"13\": 22, \"15\": 7, \"3\": 14, \"4\": 13, \"7\": 13, \"9\": 1}, \"14\": {\"14\": 60, \"11\": 59, \"7\": 43, \"0\": 19, \"13\": 16, \"4\": 7, \"5\": 10, \"8\": 10, \"3\": 6, \"2\": 10}, \"2\": {\"9\": 2, \"0\": 36, \"7\": 17, \"2\": 86, \"4\": 58, \"5\": 10, \"13\": 14, \"8\": 2, \"14\": 12, \"3\": 1, \"11\": 2}, \"0\": {\"13\": 15, \"5\": 9, \"0\": 103, \"4\": 18, \"9\": 4, \"8\": 34, \"2\": 23, \"14\": 16, \"7\": 10, \"11\": 5, \"3\": 2, \"15\": 1}, \"1\": {\"1\": 192, \"10\": 46, \"6\": 2}, \"10\": {\"10\": 184, \"1\": 53, \"6\": 3}, \"11\": {\"14\": 66, \"11\": 95, \"7\": 34, \"4\": 4, \"5\": 5, \"3\": 12, \"0\": 3, \"8\": 3, \"13\": 16, \"2\": 2}, \"5\": {\"5\": 60, \"13\": 39, \"3\": 20, \"14\": 10, \"4\": 33, \"11\": 12, \"8\": 20, \"7\": 23, \"2\": 16, \"0\": 7}, \"15\": {\"15\": 221, \"8\": 10, \"5\": 2, \"3\": 4, \"0\": 2, \"13\": 1}, \"3\": {\"5\": 28, \"3\": 122, \"13\": 29, \"11\": 17, \"7\": 12, \"8\": 19, \"14\": 9, \"4\": 3, \"0\": 1}, \"12\": {\"12\": 199, \"6\": 16, \"9\": 24, \"10\": 1}, \"7\": {\"14\": 44, \"0\": 17, \"11\": 26, \"7\": 49, \"3\": 6, \"5\": 25, \"8\": 12, \"13\": 18, \"4\": 32, \"2\": 11}, \"13\": {\"13\": 35, \"11\": 14, \"8\": 25, \"5\": 35, \"3\": 39, \"7\": 33, \"4\": 19, \"14\": 17, \"2\": 12, \"0\": 11}, \"6\": {\"6\": 222, \"12\": 12, \"10\": 6}, \"4\": {\"14\": 15, \"4\": 52, \"2\": 47, \"5\": 23, \"13\": 31, \"7\": 29, \"0\": 23, \"8\": 13, \"3\": 5, \"11\": 2}, \"9\": {\"9\": 207, \"2\": 5, \"12\": 20, \"0\": 4, \"8\": 1, \"4\": 2, \"7\": 1}}, \"O_26\": {\"4\": {\"1\": 34, \"4\": 29, \"2\": 14, \"6\": 9, \"14\": 32, \"10\": 25, \"7\": 13, \"5\": 3, \"9\": 11, \"15\": 5, \"3\": 14, \"8\": 18, \"0\": 27, \"13\": 4, \"12\": 2}, \"12\": {\"12\": 199, \"6\": 10, \"9\": 2, \"11\": 15, \"10\": 3, \"8\": 4, \"5\": 2, \"0\": 3, \"13\": 1, \"14\": 1}, \"10\": {\"6\": 15, \"9\": 17, \"10\": 22, \"5\": 9, \"0\": 47, \"4\": 27, \"13\": 7, \"1\": 20, \"7\": 14, \"3\": 9, \"15\": 11, \"14\": 12, \"12\": 3, \"2\": 3, \"8\": 23, \"11\": 1}, \"0\": {\"9\": 11, \"14\": 33, \"4\": 32, \"6\": 25, \"10\": 29, \"15\": 7, \"8\": 20, \"0\": 23, \"1\": 23, \"3\": 12, \"13\": 3, \"5\": 5, \"2\": 3, \"7\": 12, \"12\": 2}, \"13\": {\"0\": 3, \"5\": 52, \"13\": 62, \"8\": 6, \"7\": 5, \"9\": 25, \"10\": 6, \"1\": 3, \"15\": 36, \"2\": 11, \"6\": 16, \"11\": 4, \"3\": 3, \"14\": 3, \"4\": 4, \"12\": 1}, \"9\": {\"5\": 12, \"4\": 12, \"13\": 27, \"6\": 26, \"3\": 9, \"9\": 42, \"8\": 18, \"14\": 12, \"15\": 27, \"10\": 13, \"0\": 10, \"7\": 11, \"2\": 18, \"1\": 1, \"12\": 2}, \"3\": {\"8\": 14, \"1\": 12, \"2\": 45, \"3\": 56, \"0\": 8, \"4\": 13, \"7\": 28, \"5\": 14, \"13\": 9, \"15\": 9, \"10\": 7, \"9\": 8, \"6\": 4, \"14\": 13}, \"2\": {\"2\": 41, \"7\": 34, \"4\": 12, \"1\": 5, \"3\": 41, \"15\": 22, \"0\": 4, \"13\": 20, \"10\": 8, \"5\": 22, \"8\": 13, \"14\": 9, \"9\": 8, \"6\": 1}, \"5\": {\"8\": 18, \"5\": 38, \"7\": 14, \"6\": 18, \"2\": 26, \"13\": 41, \"15\": 24, \"4\": 6, \"3\": 13, \"9\": 19, \"0\": 8, \"10\": 9, \"1\": 2, \"14\": 4}, \"14\": {\"7\": 18, \"1\": 39, \"4\": 29, \"5\": 4, \"0\": 33, \"13\": 2, \"2\": 5, \"10\": 25, \"9\": 14, \"8\": 20, \"15\": 5, \"14\": 26, \"6\": 10, \"12\": 3, \"3\": 7}, \"8\": {\"3\": 12, \"4\": 24, \"10\": 23, \"1\": 14, \"2\": 12, \"15\": 12, \"9\": 18, \"6\": 24, \"8\": 20, \"14\": 23, \"0\": 16, \"7\": 18, \"12\": 1, \"5\": 13, \"13\": 10}, \"7\": {\"4\": 22, \"3\": 36, \"8\": 23, \"2\": 25, \"13\": 5, \"9\": 11, \"7\": 31, \"1\": 9, \"10\": 15, \"0\": 16, \"14\": 11, \"6\": 8, \"5\": 12, \"15\": 16}, \"6\": {\"15\": 20, \"13\": 7, \"1\": 5, \"5\": 16, \"9\": 15, \"2\": 7, \"0\": 32, \"7\": 7, \"10\": 22, \"14\": 21, \"6\": 44, \"8\": 20, \"4\": 16, \"12\": 7, \"11\": 1}, \"11\": {\"0\": 2, \"12\": 17, \"11\": 209, \"8\": 2, \"5\": 5, \"13\": 3, \"15\": 1, \"6\": 1}, \"15\": {\"8\": 17, \"6\": 22, \"13\": 28, \"15\": 42, \"0\": 9, \"5\": 31, \"4\": 7, \"7\": 15, \"2\": 16, \"14\": 8, \"9\": 20, \"3\": 14, \"10\": 8, \"1\": 2, \"11\": 1}, \"1\": {\"8\": 10, \"14\": 50, \"10\": 24, \"1\": 55, \"6\": 7, \"0\": 21, \"4\": 29, \"3\": 13, \"12\": 1, \"2\": 8, \"15\": 2, \"5\": 2, \"7\": 16, \"9\": 1, \"13\": 1}}, \"O_44\": {\"12\": {\"12\": 95, \"3\": 24, \"10\": 39, \"1\": 68, \"2\": 12, \"7\": 2}, \"7\": {\"9\": 50, \"10\": 12, \"7\": 71, \"2\": 51, \"13\": 16, \"6\": 20, \"12\": 2, \"3\": 12, \"1\": 5, \"11\": 1}, \"5\": {\"4\": 15, \"5\": 105, \"14\": 31, \"0\": 41, \"8\": 26, \"15\": 22}, \"15\": {\"15\": 94, \"14\": 29, \"0\": 36, \"8\": 30, \"4\": 30, \"5\": 21}, \"8\": {\"15\": 32, \"5\": 21, \"8\": 97, \"0\": 82, \"4\": 1, \"14\": 7}, \"2\": {\"2\": 90, \"3\": 8, \"1\": 24, \"6\": 8, \"10\": 39, \"7\": 47, \"9\": 15, \"12\": 7, \"11\": 1, \"13\": 1}, \"13\": {\"13\": 80, \"7\": 13, \"6\": 55, \"9\": 43, \"11\": 34, \"4\": 11, \"10\": 1, \"2\": 3}, \"4\": {\"4\": 120, \"0\": 3, \"14\": 64, \"15\": 26, \"13\": 7, \"5\": 11, \"8\": 1, \"11\": 1, \"6\": 2, \"9\": 4, \"7\": 1}, \"0\": {\"8\": 79, \"15\": 37, \"5\": 30, \"4\": 5, \"0\": 77, \"14\": 12}, \"6\": {\"2\": 10, \"13\": 52, \"6\": 101, \"9\": 39, \"10\": 1, \"7\": 23, \"11\": 10, \"4\": 3, \"12\": 1}, \"9\": {\"13\": 51, \"9\": 67, \"7\": 49, \"2\": 19, \"6\": 35, \"11\": 2, \"1\": 2, \"4\": 3, \"3\": 3, \"14\": 5, \"10\": 4}, \"11\": {\"6\": 19, \"11\": 167, \"13\": 43, \"9\": 7, \"7\": 2, \"4\": 2}, \"10\": {\"12\": 53, \"10\": 84, \"1\": 41, \"6\": 2, \"7\": 6, \"2\": 42, \"3\": 11, \"9\": 1}, \"14\": {\"4\": 84, \"0\": 9, \"14\": 74, \"5\": 33, \"15\": 31, \"9\": 2, \"8\": 3, \"11\": 1, \"3\": 2, \"13\": 1}, \"1\": {\"1\": 50, \"12\": 60, \"2\": 27, \"3\": 55, \"10\": 37, \"7\": 11}, \"3\": {\"12\": 34, \"3\": 120, \"2\": 16, \"7\": 11, \"1\": 47, \"10\": 11, \"9\": 1}}}, \"per_domain_accuracy\": {\"C_3\": {\"accuracy\": 0.9994549418604651, \"source?\": true}, \"C_4\": {\"accuracy\": 0.9977272727272727, \"source?\": true}, \"C_5\": {\"accuracy\": 0.9991270949720671, \"source?\": true}, \"C_1\": {\"accuracy\": 0.9998292349726776, \"source?\": true}, \"C_2\": {\"accuracy\": 0.9996468926553672, \"source?\": true}, \"O_14\": {\"accuracy\": 0.4200520833333333, \"source?\": false}, \"O_20\": {\"accuracy\": 0.2046875, \"source?\": false}, \"O_38\": {\"accuracy\": 0.4200520833333333, \"source?\": false}, \"O_8\": {\"accuracy\": 0.28072916666666664, \"source?\": false}, \"O_50\": {\"accuracy\": 0.41328125, \"source?\": false}, \"O_32\": {\"accuracy\": 0.51328125, \"source?\": false}, \"O_26\": {\"accuracy\": 0.24453125, \"source?\": false}, \"O_44\": {\"accuracy\": 0.3885416666666667, \"source?\": false}}}, \"history\": {\"epoch_indices\": [1, 2, 3, 4, 5, 6, 7, 8, 9], \"train_label_loss\": [0.045340193316301146, 0.01259354515959584, 0.008378440720360984, 0.006416747946748599, 0.00600530123338007, 0.0037834456269735276, 0.003908521128405791, 0.0029451237389818566, 0.0024900653381214927], \"source_val_label_loss\": [0.010469131171703339, 0.029497820883989334, 0.008721625432372093, 0.008593489415943623, 0.008211290463805199, 0.011515181511640549, 0.0077057029120624065, 0.008329188451170921, 0.010573163628578186], \"target_val_label_loss\": [1.882681965827942, 2.4975762367248535, 1.92707359790802, 2.0551376342773438, 2.0054116249084473, 2.6635727882385254, 1.961634635925293, 2.3411436080932617, 2.6989340782165527], \"source_val_acc_label\": [0.9976455479452054, 0.9936501141552512, 0.9988227739726028, 0.998787100456621, 0.99917950913242, 0.9988227739726028, 0.9991081621004566, 0.9989654680365296, 0.9988584474885844], \"target_val_acc_label\": [0.34283854166666666, 0.27451171875, 0.3477864583333333, 0.3377604166666667, 0.36064453125, 0.2796549479166667, 0.35989583333333336, 0.3157552083333333, 0.3138020833333333]}, \"dataset_metrics\": {\"source\": {\"train\": {\"n_unique_x\": 175135, \"n_unique_y\": 58, \"n_batch/episode\": 6284}, \"val\": {\"n_unique_x\": 37196, \"n_unique_y\": 58, \"n_batch/episode\": 876}, \"test\": {\"n_unique_x\": 37634, \"n_unique_y\": 58, \"n_batch/episode\": 891}}, \"target\": {\"train\": {\"n_unique_x\": 179200, \"n_unique_y\": 16, \"n_batch/episode\": 6720}, \"val\": {\"n_unique_x\": 38400, \"n_unique_y\": 16, \"n_batch/episode\": 960}, \"test\": {\"n_unique_x\": 38400, \"n_unique_y\": 16, \"n_batch/episode\": 960}}}}'"
      ]
     },
     "execution_count": 29,
     "metadata": {},
     "output_type": "execute_result"
    }
   ],
   "source": [
    "json.dumps(experiment)"
   ]
  }
 ],
 "metadata": {
  "celltoolbar": "Tags",
  "kernelspec": {
   "display_name": "Python 3 (ipykernel)",
   "language": "python",
   "name": "python3"
  },
  "language_info": {
   "codemirror_mode": {
    "name": "ipython",
    "version": 3
   },
   "file_extension": ".py",
   "mimetype": "text/x-python",
   "name": "python",
   "nbconvert_exporter": "python",
   "pygments_lexer": "ipython3",
   "version": "3.8.12"
  },
  "papermill": {
   "default_parameters": {},
   "duration": 1601.071983,
   "end_time": "2022-03-28T12:27:34.792043",
   "environment_variables": {},
   "exception": null,
   "input_path": "/root/csc500-main/csc500-notebooks/templates/tl_ptn_template.ipynb",
   "output_path": "trial.ipynb",
   "parameters": {
    "parameters": {
     "BEST_MODEL_PATH": "./best_model.pth",
     "NUM_LOGS_PER_EPOCH": 10,
     "criteria_for_best": "target_accuracy",
     "dataset_seed": 1337,
     "datasets": [
      {
       "domain_prefix": "C_",
       "domains": [
        1,
        2,
        3,
        4,
        5
       ],
       "episode_transforms": [],
       "labels": [
        "1-10.",
        "1-11.",
        "1-15.",
        "1-16.",
        "1-17.",
        "1-18.",
        "1-19.",
        "10-4.",
        "10-7.",
        "11-1.",
        "11-14.",
        "11-17.",
        "11-20.",
        "11-7.",
        "13-20.",
        "13-8.",
        "14-10.",
        "14-11.",
        "14-14.",
        "14-7.",
        "15-1.",
        "15-20.",
        "16-1.",
        "16-16.",
        "17-10.",
        "17-11.",
        "17-2.",
        "19-1.",
        "19-16.",
        "19-19.",
        "19-20.",
        "19-3.",
        "2-10.",
        "2-11.",
        "2-17.",
        "2-18.",
        "2-20.",
        "2-3.",
        "2-4.",
        "2-5.",
        "2-6.",
        "2-7.",
        "2-8.",
        "3-13.",
        "3-18.",
        "3-3.",
        "4-1.",
        "4-10.",
        "4-11.",
        "4-19.",
        "5-5.",
        "6-15.",
        "7-10.",
        "7-14.",
        "8-18.",
        "8-20.",
        "8-3.",
        "8-8."
       ],
       "num_examples_per_domain_per_label": -1,
       "pickle_path": "/root/csc500-main/datasets/cores.stratified_ds.2022A.pkl",
       "source_or_target_dataset": "source",
       "x_transforms": [
        "unit_power",
        "jitter_256_5",
        "lowpass_+/-10MHz",
        "take_200"
       ]
      },
      {
       "domain_prefix": "O_",
       "domains": [
        32,
        38,
        8,
        44,
        14,
        50,
        20,
        26
       ],
       "episode_transforms": [],
       "labels": [
        "3123D52",
        "3123D65",
        "3123D79",
        "3123D80",
        "3123D54",
        "3123D70",
        "3123D7B",
        "3123D89",
        "3123D58",
        "3123D76",
        "3123D7D",
        "3123EFE",
        "3123D64",
        "3123D78",
        "3123D7E",
        "3124E4A"
       ],
       "num_examples_per_domain_per_label": 2000,
       "pickle_path": "/root/csc500-main/datasets/oracle.Run1_framed_2000Examples_stratified_ds.2022A.pkl",
       "source_or_target_dataset": "target",
       "x_transforms": [
        "unit_power",
        "jitter_256_5",
        "take_200",
        "resample_20Msps_to_25Msps"
       ]
      }
     ],
     "device": "cuda",
     "experiment_name": "tl_3-jitter5v2:cores -> oracle.run1.framed",
     "lr": 0.0001,
     "n_epoch": 50,
     "n_query": 2,
     "n_shot": 3,
     "n_way": 16,
     "patience": 3,
     "seed": 1337,
     "test_k_factor": 2,
     "torch_default_dtype": "torch.float32",
     "train_k_factor": 3,
     "val_k_factor": 2,
     "x_net": [
      {
       "class": "nnReshape",
       "kargs": {
        "shape": [
         -1,
         1,
         2,
         256
        ]
       }
      },
      {
       "class": "Conv2d",
       "kargs": {
        "bias": false,
        "in_channels": 1,
        "kernel_size": [
         1,
         7
        ],
        "out_channels": 256,
        "padding": [
         0,
         3
        ]
       }
      },
      {
       "class": "ReLU",
       "kargs": {
        "inplace": true
       }
      },
      {
       "class": "BatchNorm2d",
       "kargs": {
        "num_features": 256
       }
      },
      {
       "class": "Conv2d",
       "kargs": {
        "bias": true,
        "in_channels": 256,
        "kernel_size": [
         2,
         7
        ],
        "out_channels": 80,
        "padding": [
         0,
         3
        ]
       }
      },
      {
       "class": "ReLU",
       "kargs": {
        "inplace": true
       }
      },
      {
       "class": "BatchNorm2d",
       "kargs": {
        "num_features": 80
       }
      },
      {
       "class": "Flatten",
       "kargs": {}
      },
      {
       "class": "Linear",
       "kargs": {
        "in_features": 20480,
        "out_features": 256
       }
      },
      {
       "class": "ReLU",
       "kargs": {
        "inplace": true
       }
      },
      {
       "class": "BatchNorm1d",
       "kargs": {
        "num_features": 256
       }
      },
      {
       "class": "Linear",
       "kargs": {
        "in_features": 256,
        "out_features": 256
       }
      }
     ],
     "x_shape": [
      2,
      256
     ]
    }
   },
   "start_time": "2022-03-28T12:00:53.720060",
   "version": "2.3.4"
  }
 },
 "nbformat": 4,
 "nbformat_minor": 5
}