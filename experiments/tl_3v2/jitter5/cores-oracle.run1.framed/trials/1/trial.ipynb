{
 "cells": [
  {
   "cell_type": "markdown",
   "id": "9fea5f46",
   "metadata": {
    "papermill": {
     "duration": 0.029831,
     "end_time": "2022-03-28T12:11:28.710475",
     "exception": false,
     "start_time": "2022-03-28T12:11:28.680644",
     "status": "completed"
    },
    "tags": []
   },
   "source": [
    "# Transfer Learning Template"
   ]
  },
  {
   "cell_type": "code",
   "execution_count": 1,
   "id": "0902182a",
   "metadata": {
    "execution": {
     "iopub.execute_input": "2022-03-28T12:11:28.773171Z",
     "iopub.status.busy": "2022-03-28T12:11:28.772304Z",
     "iopub.status.idle": "2022-03-28T12:11:30.633750Z",
     "shell.execute_reply": "2022-03-28T12:11:30.632838Z"
    },
    "papermill": {
     "duration": 1.901034,
     "end_time": "2022-03-28T12:11:30.633953",
     "exception": false,
     "start_time": "2022-03-28T12:11:28.732919",
     "status": "completed"
    },
    "tags": []
   },
   "outputs": [],
   "source": [
    "%load_ext autoreload\n",
    "%autoreload 2\n",
    "%matplotlib inline\n",
    "\n",
    "    \n",
    "import os, json, sys, time, random\n",
    "import numpy as np\n",
    "import torch\n",
    "from torch.optim import Adam\n",
    "from  easydict import EasyDict\n",
    "import matplotlib.pyplot as plt\n",
    "\n",
    "from steves_models.steves_ptn import Steves_Prototypical_Network\n",
    "\n",
    "from steves_utils.lazy_iterable_wrapper import Lazy_Iterable_Wrapper\n",
    "from steves_utils.iterable_aggregator import Iterable_Aggregator\n",
    "from steves_utils.ptn_train_eval_test_jig import  PTN_Train_Eval_Test_Jig\n",
    "from steves_utils.torch_sequential_builder import build_sequential\n",
    "from steves_utils.torch_utils import get_dataset_metrics, ptn_confusion_by_domain_over_dataloader\n",
    "from steves_utils.utils_v2 import (per_domain_accuracy_from_confusion, get_datasets_base_path)\n",
    "from steves_utils.PTN.utils import independent_accuracy_assesment\n",
    "\n",
    "from torch.utils.data import DataLoader\n",
    "\n",
    "from steves_utils.stratified_dataset.episodic_accessor import Episodic_Accessor_Factory\n",
    "\n",
    "from steves_utils.ptn_do_report import (\n",
    "    get_loss_curve,\n",
    "    get_results_table,\n",
    "    get_parameters_table,\n",
    "    get_domain_accuracies,\n",
    ")\n",
    "\n",
    "from steves_utils.transforms import get_chained_transform"
   ]
  },
  {
   "cell_type": "markdown",
   "id": "41c840b4",
   "metadata": {
    "papermill": {
     "duration": 0.019573,
     "end_time": "2022-03-28T12:11:30.681658",
     "exception": false,
     "start_time": "2022-03-28T12:11:30.662085",
     "status": "completed"
    },
    "tags": []
   },
   "source": [
    "# Allowed Parameters\n",
    "These are allowed parameters, not defaults\n",
    "Each of these values need to be present in the injected parameters (the notebook will raise an exception if they are not present)\n",
    "\n",
    "Papermill uses the cell tag \"parameters\" to inject the real parameters below this cell.\n",
    "Enable tags to see what I mean"
   ]
  },
  {
   "cell_type": "code",
   "execution_count": 2,
   "id": "fd44eb83",
   "metadata": {
    "execution": {
     "iopub.execute_input": "2022-03-28T12:11:30.724234Z",
     "iopub.status.busy": "2022-03-28T12:11:30.723684Z",
     "iopub.status.idle": "2022-03-28T12:11:30.743667Z",
     "shell.execute_reply": "2022-03-28T12:11:30.742963Z"
    },
    "papermill": {
     "duration": 0.042828,
     "end_time": "2022-03-28T12:11:30.743835",
     "exception": false,
     "start_time": "2022-03-28T12:11:30.701007",
     "status": "completed"
    },
    "tags": []
   },
   "outputs": [],
   "source": [
    "required_parameters = {\n",
    "    \"experiment_name\",\n",
    "    \"lr\",\n",
    "    \"device\",\n",
    "    \"seed\",\n",
    "    \"dataset_seed\",\n",
    "    \"n_shot\",\n",
    "    \"n_query\",\n",
    "    \"n_way\",\n",
    "    \"train_k_factor\",\n",
    "    \"val_k_factor\",\n",
    "    \"test_k_factor\",\n",
    "    \"n_epoch\",\n",
    "    \"patience\",\n",
    "    \"criteria_for_best\",\n",
    "    \"x_net\",\n",
    "    \"datasets\",\n",
    "    \"torch_default_dtype\",\n",
    "    \"NUM_LOGS_PER_EPOCH\",\n",
    "    \"BEST_MODEL_PATH\",\n",
    "    \"x_shape\",\n",
    "}"
   ]
  },
  {
   "cell_type": "code",
   "execution_count": 3,
   "id": "fa3f0049",
   "metadata": {
    "execution": {
     "iopub.execute_input": "2022-03-28T12:11:30.797507Z",
     "iopub.status.busy": "2022-03-28T12:11:30.796871Z",
     "iopub.status.idle": "2022-03-28T12:11:30.816934Z",
     "shell.execute_reply": "2022-03-28T12:11:30.816257Z"
    },
    "papermill": {
     "duration": 0.048702,
     "end_time": "2022-03-28T12:11:30.817092",
     "exception": false,
     "start_time": "2022-03-28T12:11:30.768390",
     "status": "completed"
    },
    "tags": [
     "parameters"
    ]
   },
   "outputs": [],
   "source": [
    "from steves_utils.CORES.utils import (\n",
    "    ALL_NODES,\n",
    "    ALL_NODES_MINIMUM_1000_EXAMPLES,\n",
    "    ALL_DAYS\n",
    ")\n",
    "\n",
    "from steves_utils.ORACLE.utils_v2 import (\n",
    "    ALL_DISTANCES_FEET_NARROWED,\n",
    "    ALL_RUNS,\n",
    "    ALL_SERIAL_NUMBERS,\n",
    ")\n",
    "\n",
    "standalone_parameters = {}\n",
    "standalone_parameters[\"experiment_name\"] = \"STANDALONE PTN\"\n",
    "standalone_parameters[\"lr\"] = 0.001\n",
    "standalone_parameters[\"device\"] = \"cuda\"\n",
    "\n",
    "standalone_parameters[\"seed\"] = 1337\n",
    "standalone_parameters[\"dataset_seed\"] = 1337\n",
    "\n",
    "standalone_parameters[\"n_way\"] = 8\n",
    "standalone_parameters[\"n_shot\"] = 3\n",
    "standalone_parameters[\"n_query\"]  = 2\n",
    "standalone_parameters[\"train_k_factor\"] = 1\n",
    "standalone_parameters[\"val_k_factor\"] = 2\n",
    "standalone_parameters[\"test_k_factor\"] = 2\n",
    "\n",
    "\n",
    "standalone_parameters[\"n_epoch\"] = 50\n",
    "\n",
    "standalone_parameters[\"patience\"] = 10\n",
    "standalone_parameters[\"criteria_for_best\"] = \"source_loss\"\n",
    "\n",
    "standalone_parameters[\"datasets\"] = [\n",
    "    {\n",
    "        \"labels\": ALL_SERIAL_NUMBERS,\n",
    "        \"domains\": ALL_DISTANCES_FEET_NARROWED,\n",
    "        \"num_examples_per_domain_per_label\": 100,\n",
    "        \"pickle_path\": os.path.join(get_datasets_base_path(), \"oracle.Run1_framed_2000Examples_stratified_ds.2022A.pkl\"),\n",
    "        \"source_or_target_dataset\": \"source\",\n",
    "        \"x_transforms\": [\"unit_mag\", \"minus_two\"],\n",
    "        \"episode_transforms\": [],\n",
    "        \"domain_prefix\": \"ORACLE_\"\n",
    "    },\n",
    "    {\n",
    "        \"labels\": ALL_NODES,\n",
    "        \"domains\": ALL_DAYS,\n",
    "        \"num_examples_per_domain_per_label\": 100,\n",
    "        \"pickle_path\": os.path.join(get_datasets_base_path(), \"cores.stratified_ds.2022A.pkl\"),\n",
    "        \"source_or_target_dataset\": \"target\",\n",
    "        \"x_transforms\": [\"unit_power\", \"times_zero\"],\n",
    "        \"episode_transforms\": [],\n",
    "        \"domain_prefix\": \"CORES_\"\n",
    "    }   \n",
    "]\n",
    "\n",
    "standalone_parameters[\"torch_default_dtype\"] = \"torch.float32\" \n",
    "\n",
    "\n",
    "\n",
    "standalone_parameters[\"x_net\"] =     [\n",
    "    {\"class\": \"nnReshape\", \"kargs\": {\"shape\":[-1, 1, 2, 256]}},\n",
    "    {\"class\": \"Conv2d\", \"kargs\": { \"in_channels\":1, \"out_channels\":256, \"kernel_size\":(1,7), \"bias\":False, \"padding\":(0,3), },},\n",
    "    {\"class\": \"ReLU\", \"kargs\": {\"inplace\": True}},\n",
    "    {\"class\": \"BatchNorm2d\", \"kargs\": {\"num_features\":256}},\n",
    "\n",
    "    {\"class\": \"Conv2d\", \"kargs\": { \"in_channels\":256, \"out_channels\":80, \"kernel_size\":(2,7), \"bias\":True, \"padding\":(0,3), },},\n",
    "    {\"class\": \"ReLU\", \"kargs\": {\"inplace\": True}},\n",
    "    {\"class\": \"BatchNorm2d\", \"kargs\": {\"num_features\":80}},\n",
    "    {\"class\": \"Flatten\", \"kargs\": {}},\n",
    "\n",
    "    {\"class\": \"Linear\", \"kargs\": {\"in_features\": 80*256, \"out_features\": 256}}, # 80 units per IQ pair\n",
    "    {\"class\": \"ReLU\", \"kargs\": {\"inplace\": True}},\n",
    "    {\"class\": \"BatchNorm1d\", \"kargs\": {\"num_features\":256}},\n",
    "\n",
    "    {\"class\": \"Linear\", \"kargs\": {\"in_features\": 256, \"out_features\": 256}},\n",
    "]\n",
    "\n",
    "# Parameters relevant to results\n",
    "# These parameters will basically never need to change\n",
    "standalone_parameters[\"NUM_LOGS_PER_EPOCH\"] = 10\n",
    "standalone_parameters[\"BEST_MODEL_PATH\"] = \"./best_model.pth\"\n",
    "\n",
    "\n",
    "\n",
    "\n"
   ]
  },
  {
   "cell_type": "code",
   "execution_count": 4,
   "id": "07633942",
   "metadata": {
    "execution": {
     "iopub.execute_input": "2022-03-28T12:11:30.875088Z",
     "iopub.status.busy": "2022-03-28T12:11:30.874396Z",
     "iopub.status.idle": "2022-03-28T12:11:30.895687Z",
     "shell.execute_reply": "2022-03-28T12:11:30.894842Z"
    },
    "papermill": {
     "duration": 0.050937,
     "end_time": "2022-03-28T12:11:30.895842",
     "exception": false,
     "start_time": "2022-03-28T12:11:30.844905",
     "status": "completed"
    },
    "tags": [
     "injected-parameters"
    ]
   },
   "outputs": [],
   "source": [
    "# Parameters\n",
    "parameters = {\n",
    "    \"experiment_name\": \"tl_3-jitter5v2:cores -> oracle.run1.framed\",\n",
    "    \"device\": \"cuda\",\n",
    "    \"lr\": 0.0001,\n",
    "    \"x_shape\": [2, 256],\n",
    "    \"n_shot\": 3,\n",
    "    \"n_query\": 2,\n",
    "    \"train_k_factor\": 3,\n",
    "    \"val_k_factor\": 2,\n",
    "    \"test_k_factor\": 2,\n",
    "    \"torch_default_dtype\": \"torch.float32\",\n",
    "    \"n_epoch\": 50,\n",
    "    \"patience\": 3,\n",
    "    \"criteria_for_best\": \"target_accuracy\",\n",
    "    \"x_net\": [\n",
    "        {\"class\": \"nnReshape\", \"kargs\": {\"shape\": [-1, 1, 2, 256]}},\n",
    "        {\n",
    "            \"class\": \"Conv2d\",\n",
    "            \"kargs\": {\n",
    "                \"in_channels\": 1,\n",
    "                \"out_channels\": 256,\n",
    "                \"kernel_size\": [1, 7],\n",
    "                \"bias\": False,\n",
    "                \"padding\": [0, 3],\n",
    "            },\n",
    "        },\n",
    "        {\"class\": \"ReLU\", \"kargs\": {\"inplace\": True}},\n",
    "        {\"class\": \"BatchNorm2d\", \"kargs\": {\"num_features\": 256}},\n",
    "        {\n",
    "            \"class\": \"Conv2d\",\n",
    "            \"kargs\": {\n",
    "                \"in_channels\": 256,\n",
    "                \"out_channels\": 80,\n",
    "                \"kernel_size\": [2, 7],\n",
    "                \"bias\": True,\n",
    "                \"padding\": [0, 3],\n",
    "            },\n",
    "        },\n",
    "        {\"class\": \"ReLU\", \"kargs\": {\"inplace\": True}},\n",
    "        {\"class\": \"BatchNorm2d\", \"kargs\": {\"num_features\": 80}},\n",
    "        {\"class\": \"Flatten\", \"kargs\": {}},\n",
    "        {\"class\": \"Linear\", \"kargs\": {\"in_features\": 20480, \"out_features\": 256}},\n",
    "        {\"class\": \"ReLU\", \"kargs\": {\"inplace\": True}},\n",
    "        {\"class\": \"BatchNorm1d\", \"kargs\": {\"num_features\": 256}},\n",
    "        {\"class\": \"Linear\", \"kargs\": {\"in_features\": 256, \"out_features\": 256}},\n",
    "    ],\n",
    "    \"NUM_LOGS_PER_EPOCH\": 10,\n",
    "    \"BEST_MODEL_PATH\": \"./best_model.pth\",\n",
    "    \"n_way\": 16,\n",
    "    \"datasets\": [\n",
    "        {\n",
    "            \"labels\": [\n",
    "                \"1-10.\",\n",
    "                \"1-11.\",\n",
    "                \"1-15.\",\n",
    "                \"1-16.\",\n",
    "                \"1-17.\",\n",
    "                \"1-18.\",\n",
    "                \"1-19.\",\n",
    "                \"10-4.\",\n",
    "                \"10-7.\",\n",
    "                \"11-1.\",\n",
    "                \"11-14.\",\n",
    "                \"11-17.\",\n",
    "                \"11-20.\",\n",
    "                \"11-7.\",\n",
    "                \"13-20.\",\n",
    "                \"13-8.\",\n",
    "                \"14-10.\",\n",
    "                \"14-11.\",\n",
    "                \"14-14.\",\n",
    "                \"14-7.\",\n",
    "                \"15-1.\",\n",
    "                \"15-20.\",\n",
    "                \"16-1.\",\n",
    "                \"16-16.\",\n",
    "                \"17-10.\",\n",
    "                \"17-11.\",\n",
    "                \"17-2.\",\n",
    "                \"19-1.\",\n",
    "                \"19-16.\",\n",
    "                \"19-19.\",\n",
    "                \"19-20.\",\n",
    "                \"19-3.\",\n",
    "                \"2-10.\",\n",
    "                \"2-11.\",\n",
    "                \"2-17.\",\n",
    "                \"2-18.\",\n",
    "                \"2-20.\",\n",
    "                \"2-3.\",\n",
    "                \"2-4.\",\n",
    "                \"2-5.\",\n",
    "                \"2-6.\",\n",
    "                \"2-7.\",\n",
    "                \"2-8.\",\n",
    "                \"3-13.\",\n",
    "                \"3-18.\",\n",
    "                \"3-3.\",\n",
    "                \"4-1.\",\n",
    "                \"4-10.\",\n",
    "                \"4-11.\",\n",
    "                \"4-19.\",\n",
    "                \"5-5.\",\n",
    "                \"6-15.\",\n",
    "                \"7-10.\",\n",
    "                \"7-14.\",\n",
    "                \"8-18.\",\n",
    "                \"8-20.\",\n",
    "                \"8-3.\",\n",
    "                \"8-8.\",\n",
    "            ],\n",
    "            \"domains\": [1, 2, 3, 4, 5],\n",
    "            \"num_examples_per_domain_per_label\": -1,\n",
    "            \"pickle_path\": \"/root/csc500-main/datasets/cores.stratified_ds.2022A.pkl\",\n",
    "            \"source_or_target_dataset\": \"source\",\n",
    "            \"x_transforms\": [\n",
    "                \"unit_mag\",\n",
    "                \"jitter_256_5\",\n",
    "                \"lowpass_+/-10MHz\",\n",
    "                \"take_200\",\n",
    "            ],\n",
    "            \"episode_transforms\": [],\n",
    "            \"domain_prefix\": \"C_\",\n",
    "        },\n",
    "        {\n",
    "            \"labels\": [\n",
    "                \"3123D52\",\n",
    "                \"3123D65\",\n",
    "                \"3123D79\",\n",
    "                \"3123D80\",\n",
    "                \"3123D54\",\n",
    "                \"3123D70\",\n",
    "                \"3123D7B\",\n",
    "                \"3123D89\",\n",
    "                \"3123D58\",\n",
    "                \"3123D76\",\n",
    "                \"3123D7D\",\n",
    "                \"3123EFE\",\n",
    "                \"3123D64\",\n",
    "                \"3123D78\",\n",
    "                \"3123D7E\",\n",
    "                \"3124E4A\",\n",
    "            ],\n",
    "            \"domains\": [32, 38, 8, 44, 14, 50, 20, 26],\n",
    "            \"num_examples_per_domain_per_label\": 2000,\n",
    "            \"pickle_path\": \"/root/csc500-main/datasets/oracle.Run1_framed_2000Examples_stratified_ds.2022A.pkl\",\n",
    "            \"source_or_target_dataset\": \"target\",\n",
    "            \"x_transforms\": [\n",
    "                \"unit_mag\",\n",
    "                \"jitter_256_5\",\n",
    "                \"take_200\",\n",
    "                \"resample_20Msps_to_25Msps\",\n",
    "            ],\n",
    "            \"episode_transforms\": [],\n",
    "            \"domain_prefix\": \"O_\",\n",
    "        },\n",
    "    ],\n",
    "    \"seed\": 1337,\n",
    "    \"dataset_seed\": 1337,\n",
    "}\n"
   ]
  },
  {
   "cell_type": "code",
   "execution_count": 5,
   "id": "8fa1cc33",
   "metadata": {
    "execution": {
     "iopub.execute_input": "2022-03-28T12:11:30.948870Z",
     "iopub.status.busy": "2022-03-28T12:11:30.948437Z",
     "iopub.status.idle": "2022-03-28T12:11:30.967396Z",
     "shell.execute_reply": "2022-03-28T12:11:30.966561Z"
    },
    "papermill": {
     "duration": 0.043022,
     "end_time": "2022-03-28T12:11:30.967566",
     "exception": false,
     "start_time": "2022-03-28T12:11:30.924544",
     "status": "completed"
    },
    "tags": []
   },
   "outputs": [],
   "source": [
    "# Set this to True if you want to run this template directly\n",
    "STANDALONE = False\n",
    "if STANDALONE:\n",
    "    print(\"parameters not injected, running with standalone_parameters\")\n",
    "    parameters = standalone_parameters\n",
    "\n",
    "if not 'parameters' in locals() and not 'parameters' in globals():\n",
    "    raise Exception(\"Parameter injection failed\")\n",
    "\n",
    "#Use an easy dict for all the parameters\n",
    "p = EasyDict(parameters)\n",
    "\n",
    "if \"x_shape\" not in p:\n",
    "    p.x_shape = [2,256] # Default to this if we dont supply x_shape\n",
    "\n",
    "\n",
    "supplied_keys = set(p.keys())\n",
    "\n",
    "if  supplied_keys != required_parameters:\n",
    "    print(\"Parameters are incorrect\")\n",
    "    if len(supplied_keys - required_parameters)>0: print(\"Shouldn't have:\", str(supplied_keys - required_parameters))\n",
    "    if len(required_parameters - supplied_keys)>0: print(\"Need to have:\", str(required_parameters - supplied_keys))\n",
    "    raise RuntimeError(\"Parameters are incorrect\")"
   ]
  },
  {
   "cell_type": "code",
   "execution_count": 6,
   "id": "3a028d58",
   "metadata": {
    "execution": {
     "iopub.execute_input": "2022-03-28T12:11:31.018669Z",
     "iopub.status.busy": "2022-03-28T12:11:31.018250Z",
     "iopub.status.idle": "2022-03-28T12:11:31.039143Z",
     "shell.execute_reply": "2022-03-28T12:11:31.038319Z"
    },
    "papermill": {
     "duration": 0.042873,
     "end_time": "2022-03-28T12:11:31.039300",
     "exception": false,
     "start_time": "2022-03-28T12:11:30.996427",
     "status": "completed"
    },
    "tags": []
   },
   "outputs": [],
   "source": [
    "###################################\n",
    "# Set the RNGs and make it all deterministic\n",
    "###################################\n",
    "np.random.seed(p.seed)\n",
    "random.seed(p.seed)\n",
    "torch.manual_seed(p.seed)\n",
    "\n",
    "torch.use_deterministic_algorithms(True) "
   ]
  },
  {
   "cell_type": "code",
   "execution_count": 7,
   "id": "b691acf6",
   "metadata": {
    "execution": {
     "iopub.execute_input": "2022-03-28T12:11:31.091640Z",
     "iopub.status.busy": "2022-03-28T12:11:31.090881Z",
     "iopub.status.idle": "2022-03-28T12:11:31.112799Z",
     "shell.execute_reply": "2022-03-28T12:11:31.112083Z"
    },
    "papermill": {
     "duration": 0.044302,
     "end_time": "2022-03-28T12:11:31.112953",
     "exception": false,
     "start_time": "2022-03-28T12:11:31.068651",
     "status": "completed"
    },
    "tags": []
   },
   "outputs": [],
   "source": [
    "###########################################\n",
    "# The stratified datasets honor this\n",
    "###########################################\n",
    "torch.set_default_dtype(eval(p.torch_default_dtype))"
   ]
  },
  {
   "cell_type": "code",
   "execution_count": 8,
   "id": "b5fba671",
   "metadata": {
    "execution": {
     "iopub.execute_input": "2022-03-28T12:11:31.162548Z",
     "iopub.status.busy": "2022-03-28T12:11:31.161893Z",
     "iopub.status.idle": "2022-03-28T12:11:31.215403Z",
     "shell.execute_reply": "2022-03-28T12:11:31.214673Z"
    },
    "papermill": {
     "duration": 0.076222,
     "end_time": "2022-03-28T12:11:31.215573",
     "exception": false,
     "start_time": "2022-03-28T12:11:31.139351",
     "status": "completed"
    },
    "tags": []
   },
   "outputs": [],
   "source": [
    "###################################\n",
    "# Build the network(s)\n",
    "# Note: It's critical to do this AFTER setting the RNG\n",
    "###################################\n",
    "x_net = build_sequential(p.x_net)"
   ]
  },
  {
   "cell_type": "code",
   "execution_count": 9,
   "id": "5d7e61cc",
   "metadata": {
    "execution": {
     "iopub.execute_input": "2022-03-28T12:11:31.263723Z",
     "iopub.status.busy": "2022-03-28T12:11:31.263329Z",
     "iopub.status.idle": "2022-03-28T12:11:31.286172Z",
     "shell.execute_reply": "2022-03-28T12:11:31.285376Z"
    },
    "papermill": {
     "duration": 0.045725,
     "end_time": "2022-03-28T12:11:31.286344",
     "exception": false,
     "start_time": "2022-03-28T12:11:31.240619",
     "status": "completed"
    },
    "tags": []
   },
   "outputs": [],
   "source": [
    "start_time_secs = time.time()"
   ]
  },
  {
   "cell_type": "code",
   "execution_count": 10,
   "id": "c6b67dfd",
   "metadata": {
    "execution": {
     "iopub.execute_input": "2022-03-28T12:11:31.337072Z",
     "iopub.status.busy": "2022-03-28T12:11:31.336493Z",
     "iopub.status.idle": "2022-03-28T12:11:31.351674Z",
     "shell.execute_reply": "2022-03-28T12:11:31.352359Z"
    },
    "papermill": {
     "duration": 0.040908,
     "end_time": "2022-03-28T12:11:31.352539",
     "exception": false,
     "start_time": "2022-03-28T12:11:31.311631",
     "status": "completed"
    },
    "tags": []
   },
   "outputs": [],
   "source": [
    "p.domains_source = []\n",
    "p.domains_target = []\n",
    "\n",
    "\n",
    "train_original_source = []\n",
    "val_original_source   = []\n",
    "test_original_source  = []\n",
    "\n",
    "train_original_target = []\n",
    "val_original_target   = []\n",
    "test_original_target  = []"
   ]
  },
  {
   "cell_type": "code",
   "execution_count": 11,
   "id": "e3d9c3d3",
   "metadata": {
    "execution": {
     "iopub.execute_input": "2022-03-28T12:11:31.404337Z",
     "iopub.status.busy": "2022-03-28T12:11:31.403898Z",
     "iopub.status.idle": "2022-03-28T12:11:31.421118Z",
     "shell.execute_reply": "2022-03-28T12:11:31.420408Z"
    },
    "papermill": {
     "duration": 0.0397,
     "end_time": "2022-03-28T12:11:31.421271",
     "exception": false,
     "start_time": "2022-03-28T12:11:31.381571",
     "status": "completed"
    },
    "tags": []
   },
   "outputs": [],
   "source": [
    "# global_x_transform_func = lambda x: normalize(x.to(torch.get_default_dtype()), \"unit_power\") # unit_power, unit_mag\n",
    "# global_x_transform_func = lambda x: normalize(x, \"unit_power\") # unit_power, unit_mag"
   ]
  },
  {
   "cell_type": "code",
   "execution_count": 12,
   "id": "acb78fd2",
   "metadata": {
    "execution": {
     "iopub.execute_input": "2022-03-28T12:11:31.475296Z",
     "iopub.status.busy": "2022-03-28T12:11:31.474694Z",
     "iopub.status.idle": "2022-03-28T12:11:31.493353Z",
     "shell.execute_reply": "2022-03-28T12:11:31.492628Z"
    },
    "papermill": {
     "duration": 0.045727,
     "end_time": "2022-03-28T12:11:31.493508",
     "exception": false,
     "start_time": "2022-03-28T12:11:31.447781",
     "status": "completed"
    },
    "tags": []
   },
   "outputs": [],
   "source": [
    "def add_dataset(\n",
    "    labels,\n",
    "    domains,\n",
    "    pickle_path,\n",
    "    x_transforms,\n",
    "    episode_transforms,\n",
    "    domain_prefix,\n",
    "    num_examples_per_domain_per_label,\n",
    "    source_or_target_dataset:str,\n",
    "    iterator_seed=p.seed,\n",
    "    dataset_seed=p.dataset_seed,\n",
    "    n_shot=p.n_shot,\n",
    "    n_way=p.n_way,\n",
    "    n_query=p.n_query,\n",
    "    train_val_test_k_factors=(p.train_k_factor,p.val_k_factor,p.test_k_factor),\n",
    "):\n",
    "   \n",
    "    if x_transforms == []: x_transform = None\n",
    "    else: x_transform = get_chained_transform(x_transforms)\n",
    "    \n",
    "    if episode_transforms == []: episode_transform = None\n",
    "    else: raise Exception(\"episode_transforms not implemented\")\n",
    "    \n",
    "    episode_transform = lambda tup, _prefix=domain_prefix: (_prefix + str(tup[0]), tup[1])\n",
    "\n",
    "\n",
    "    eaf = Episodic_Accessor_Factory(\n",
    "        labels=labels,\n",
    "        domains=domains,\n",
    "        num_examples_per_domain_per_label=num_examples_per_domain_per_label,\n",
    "        iterator_seed=iterator_seed,\n",
    "        dataset_seed=dataset_seed,\n",
    "        n_shot=n_shot,\n",
    "        n_way=n_way,\n",
    "        n_query=n_query,\n",
    "        train_val_test_k_factors=train_val_test_k_factors,\n",
    "        pickle_path=pickle_path,\n",
    "        x_transform_func=x_transform,\n",
    "    )\n",
    "\n",
    "    train, val, test = eaf.get_train(), eaf.get_val(), eaf.get_test()\n",
    "    train = Lazy_Iterable_Wrapper(train, episode_transform)\n",
    "    val = Lazy_Iterable_Wrapper(val, episode_transform)\n",
    "    test = Lazy_Iterable_Wrapper(test, episode_transform)\n",
    "\n",
    "    if source_or_target_dataset==\"source\":\n",
    "        train_original_source.append(train)\n",
    "        val_original_source.append(val)\n",
    "        test_original_source.append(test)\n",
    "\n",
    "        p.domains_source.extend(\n",
    "            [domain_prefix + str(u) for u in domains]\n",
    "        )\n",
    "    elif source_or_target_dataset==\"target\":\n",
    "        train_original_target.append(train)\n",
    "        val_original_target.append(val)\n",
    "        test_original_target.append(test)\n",
    "        p.domains_target.extend(\n",
    "            [domain_prefix + str(u) for u in domains]\n",
    "        )\n",
    "    else:\n",
    "        raise Exception(f\"invalid source_or_target_dataset: {source_or_target_dataset}\")\n",
    "    "
   ]
  },
  {
   "cell_type": "code",
   "execution_count": 13,
   "id": "fe266617",
   "metadata": {
    "execution": {
     "iopub.execute_input": "2022-03-28T12:11:31.545176Z",
     "iopub.status.busy": "2022-03-28T12:11:31.543117Z",
     "iopub.status.idle": "2022-03-28T12:13:22.121386Z",
     "shell.execute_reply": "2022-03-28T12:13:22.120585Z"
    },
    "papermill": {
     "duration": 110.601377,
     "end_time": "2022-03-28T12:13:22.121582",
     "exception": false,
     "start_time": "2022-03-28T12:11:31.520205",
     "status": "completed"
    },
    "tags": []
   },
   "outputs": [],
   "source": [
    "for ds in p.datasets:\n",
    "    add_dataset(**ds)"
   ]
  },
  {
   "cell_type": "code",
   "execution_count": 14,
   "id": "b90d65ac",
   "metadata": {
    "execution": {
     "iopub.execute_input": "2022-03-28T12:13:22.170783Z",
     "iopub.status.busy": "2022-03-28T12:13:22.170391Z",
     "iopub.status.idle": "2022-03-28T12:13:22.195156Z",
     "shell.execute_reply": "2022-03-28T12:13:22.194396Z"
    },
    "papermill": {
     "duration": 0.048815,
     "end_time": "2022-03-28T12:13:22.195312",
     "exception": false,
     "start_time": "2022-03-28T12:13:22.146497",
     "status": "completed"
    },
    "tags": []
   },
   "outputs": [],
   "source": [
    "# from steves_utils.CORES.utils import (\n",
    "#     ALL_NODES,\n",
    "#     ALL_NODES_MINIMUM_1000_EXAMPLES,\n",
    "#     ALL_DAYS\n",
    "# )\n",
    "\n",
    "# add_dataset(\n",
    "#     labels=ALL_NODES,\n",
    "#     domains = ALL_DAYS,\n",
    "#     num_examples_per_domain_per_label=100,\n",
    "#     pickle_path=os.path.join(get_datasets_base_path(), \"cores.stratified_ds.2022A.pkl\"),\n",
    "#     source_or_target_dataset=\"target\",\n",
    "#     x_transform_func=global_x_transform_func,\n",
    "#     domain_modifier=lambda u: f\"cores_{u}\"\n",
    "# )"
   ]
  },
  {
   "cell_type": "code",
   "execution_count": 15,
   "id": "76db484d",
   "metadata": {
    "execution": {
     "iopub.execute_input": "2022-03-28T12:13:22.248788Z",
     "iopub.status.busy": "2022-03-28T12:13:22.248044Z",
     "iopub.status.idle": "2022-03-28T12:13:22.270353Z",
     "shell.execute_reply": "2022-03-28T12:13:22.269553Z"
    },
    "papermill": {
     "duration": 0.045552,
     "end_time": "2022-03-28T12:13:22.270511",
     "exception": false,
     "start_time": "2022-03-28T12:13:22.224959",
     "status": "completed"
    },
    "tags": []
   },
   "outputs": [],
   "source": [
    "# from steves_utils.ORACLE.utils_v2 import (\n",
    "#     ALL_DISTANCES_FEET,\n",
    "#     ALL_RUNS,\n",
    "#     ALL_SERIAL_NUMBERS,\n",
    "# )\n",
    "\n",
    "\n",
    "# add_dataset(\n",
    "#     labels=ALL_SERIAL_NUMBERS,\n",
    "#     domains = list(set(ALL_DISTANCES_FEET) - {2,62}),\n",
    "#     num_examples_per_domain_per_label=100,\n",
    "#     pickle_path=os.path.join(get_datasets_base_path(), \"oracle.Run2_framed_2000Examples_stratified_ds.2022A.pkl\"),\n",
    "#     source_or_target_dataset=\"source\",\n",
    "#     x_transform_func=global_x_transform_func,\n",
    "#     domain_modifier=lambda u: f\"oracle1_{u}\"\n",
    "# )\n"
   ]
  },
  {
   "cell_type": "code",
   "execution_count": 16,
   "id": "97dea9d2",
   "metadata": {
    "execution": {
     "iopub.execute_input": "2022-03-28T12:13:22.320621Z",
     "iopub.status.busy": "2022-03-28T12:13:22.319915Z",
     "iopub.status.idle": "2022-03-28T12:13:22.341956Z",
     "shell.execute_reply": "2022-03-28T12:13:22.341192Z"
    },
    "papermill": {
     "duration": 0.045645,
     "end_time": "2022-03-28T12:13:22.342112",
     "exception": false,
     "start_time": "2022-03-28T12:13:22.296467",
     "status": "completed"
    },
    "tags": []
   },
   "outputs": [],
   "source": [
    "# from steves_utils.ORACLE.utils_v2 import (\n",
    "#     ALL_DISTANCES_FEET,\n",
    "#     ALL_RUNS,\n",
    "#     ALL_SERIAL_NUMBERS,\n",
    "# )\n",
    "\n",
    "\n",
    "# add_dataset(\n",
    "#     labels=ALL_SERIAL_NUMBERS,\n",
    "#     domains = list(set(ALL_DISTANCES_FEET) - {2,62,56}),\n",
    "#     num_examples_per_domain_per_label=100,\n",
    "#     pickle_path=os.path.join(get_datasets_base_path(), \"oracle.Run2_framed_2000Examples_stratified_ds.2022A.pkl\"),\n",
    "#     source_or_target_dataset=\"source\",\n",
    "#     x_transform_func=global_x_transform_func,\n",
    "#     domain_modifier=lambda u: f\"oracle2_{u}\"\n",
    "# )"
   ]
  },
  {
   "cell_type": "code",
   "execution_count": 17,
   "id": "6f289866",
   "metadata": {
    "execution": {
     "iopub.execute_input": "2022-03-28T12:13:22.391923Z",
     "iopub.status.busy": "2022-03-28T12:13:22.391250Z",
     "iopub.status.idle": "2022-03-28T12:13:22.413364Z",
     "shell.execute_reply": "2022-03-28T12:13:22.412558Z"
    },
    "papermill": {
     "duration": 0.045578,
     "end_time": "2022-03-28T12:13:22.413526",
     "exception": false,
     "start_time": "2022-03-28T12:13:22.367948",
     "status": "completed"
    },
    "tags": []
   },
   "outputs": [],
   "source": [
    "# add_dataset(\n",
    "#     labels=list(range(19)),\n",
    "#     domains = [0,1,2],\n",
    "#     num_examples_per_domain_per_label=100,\n",
    "#     pickle_path=os.path.join(get_datasets_base_path(), \"metehan.stratified_ds.2022A.pkl\"),\n",
    "#     source_or_target_dataset=\"target\",\n",
    "#     x_transform_func=global_x_transform_func,\n",
    "#     domain_modifier=lambda u: f\"met_{u}\"\n",
    "# )"
   ]
  },
  {
   "cell_type": "code",
   "execution_count": 18,
   "id": "86a863c3",
   "metadata": {
    "execution": {
     "iopub.execute_input": "2022-03-28T12:13:22.463716Z",
     "iopub.status.busy": "2022-03-28T12:13:22.463317Z",
     "iopub.status.idle": "2022-03-28T12:13:22.485445Z",
     "shell.execute_reply": "2022-03-28T12:13:22.484773Z"
    },
    "papermill": {
     "duration": 0.045729,
     "end_time": "2022-03-28T12:13:22.485606",
     "exception": false,
     "start_time": "2022-03-28T12:13:22.439877",
     "status": "completed"
    },
    "tags": []
   },
   "outputs": [],
   "source": [
    "# # from steves_utils.wisig.utils import (\n",
    "# #     ALL_NODES_MINIMUM_100_EXAMPLES,\n",
    "# #     ALL_NODES_MINIMUM_500_EXAMPLES,\n",
    "# #     ALL_NODES_MINIMUM_1000_EXAMPLES,\n",
    "# #     ALL_DAYS\n",
    "# # )\n",
    "\n",
    "# import steves_utils.wisig.utils as wisig\n",
    "\n",
    "\n",
    "# add_dataset(\n",
    "#     labels=wisig.ALL_NODES_MINIMUM_100_EXAMPLES,\n",
    "#     domains = wisig.ALL_DAYS,\n",
    "#     num_examples_per_domain_per_label=100,\n",
    "#     pickle_path=os.path.join(get_datasets_base_path(), \"wisig.node3-19.stratified_ds.2022A.pkl\"),\n",
    "#     source_or_target_dataset=\"target\",\n",
    "#     x_transform_func=global_x_transform_func,\n",
    "#     domain_modifier=lambda u: f\"wisig_{u}\"\n",
    "# )"
   ]
  },
  {
   "cell_type": "code",
   "execution_count": 19,
   "id": "fd5442bc",
   "metadata": {
    "execution": {
     "iopub.execute_input": "2022-03-28T12:13:22.541556Z",
     "iopub.status.busy": "2022-03-28T12:13:22.540617Z",
     "iopub.status.idle": "2022-03-28T12:13:22.561376Z",
     "shell.execute_reply": "2022-03-28T12:13:22.560585Z"
    },
    "papermill": {
     "duration": 0.049911,
     "end_time": "2022-03-28T12:13:22.561531",
     "exception": false,
     "start_time": "2022-03-28T12:13:22.511620",
     "status": "completed"
    },
    "tags": []
   },
   "outputs": [],
   "source": [
    "###################################\n",
    "# Build the dataset\n",
    "###################################\n",
    "train_original_source = Iterable_Aggregator(train_original_source, p.seed)\n",
    "val_original_source = Iterable_Aggregator(val_original_source, p.seed)\n",
    "test_original_source = Iterable_Aggregator(test_original_source, p.seed)\n",
    "\n",
    "\n",
    "train_original_target = Iterable_Aggregator(train_original_target, p.seed)\n",
    "val_original_target = Iterable_Aggregator(val_original_target, p.seed)\n",
    "test_original_target = Iterable_Aggregator(test_original_target, p.seed)\n",
    "\n",
    "# For CNN We only use X and Y. And we only train on the source.\n",
    "# Properly form the data using a transform lambda and Lazy_Iterable_Wrapper. Finally wrap them in a dataloader\n",
    "\n",
    "transform_lambda = lambda ex: ex[1] # Original is (<domain>, <episode>) so we strip down to episode only\n",
    "\n",
    "train_processed_source = Lazy_Iterable_Wrapper(train_original_source, transform_lambda)\n",
    "val_processed_source   = Lazy_Iterable_Wrapper(val_original_source, transform_lambda)\n",
    "test_processed_source  = Lazy_Iterable_Wrapper(test_original_source, transform_lambda)\n",
    "\n",
    "train_processed_target = Lazy_Iterable_Wrapper(train_original_target, transform_lambda)\n",
    "val_processed_target   = Lazy_Iterable_Wrapper(val_original_target, transform_lambda)\n",
    "test_processed_target  = Lazy_Iterable_Wrapper(test_original_target, transform_lambda)\n",
    "\n",
    "datasets = EasyDict({\n",
    "    \"source\": {\n",
    "        \"original\": {\"train\":train_original_source, \"val\":val_original_source, \"test\":test_original_source},\n",
    "        \"processed\": {\"train\":train_processed_source, \"val\":val_processed_source, \"test\":test_processed_source}\n",
    "    },\n",
    "    \"target\": {\n",
    "        \"original\": {\"train\":train_original_target, \"val\":val_original_target, \"test\":test_original_target},\n",
    "        \"processed\": {\"train\":train_processed_target, \"val\":val_processed_target, \"test\":test_processed_target}\n",
    "    },\n",
    "})"
   ]
  },
  {
   "cell_type": "code",
   "execution_count": 20,
   "id": "5b3c01fc",
   "metadata": {
    "execution": {
     "iopub.execute_input": "2022-03-28T12:13:22.613714Z",
     "iopub.status.busy": "2022-03-28T12:13:22.612504Z",
     "iopub.status.idle": "2022-03-28T12:13:36.781304Z",
     "shell.execute_reply": "2022-03-28T12:13:36.782130Z"
    },
    "papermill": {
     "duration": 14.194375,
     "end_time": "2022-03-28T12:13:36.782348",
     "exception": false,
     "start_time": "2022-03-28T12:13:22.587973",
     "status": "completed"
    },
    "tags": []
   },
   "outputs": [
    {
     "name": "stdout",
     "output_type": "stream",
     "text": [
      "{'C_2', 'C_4', 'C_3', 'C_1', 'C_5'}\n"
     ]
    },
    {
     "name": "stdout",
     "output_type": "stream",
     "text": [
      "{'O_50', 'O_20', 'O_8', 'O_38', 'O_26', 'O_32', 'O_44', 'O_14'}\n"
     ]
    },
    {
     "name": "stdout",
     "output_type": "stream",
     "text": [
      "tensor([[[0., 0., 0.,  ..., 0., 0., 0.],\n",
      "         [0., 0., 0.,  ..., 0., 0., 0.]],\n",
      "\n",
      "        [[0., 0., 0.,  ..., 0., 0., 0.],\n",
      "         [0., 0., 0.,  ..., 0., 0., 0.]],\n",
      "\n",
      "        [[0., 0., 0.,  ..., 0., 0., 0.],\n",
      "         [0., 0., 0.,  ..., 0., 0., 0.]],\n",
      "\n",
      "        ...,\n",
      "\n",
      "        [[0., 0., 0.,  ..., 0., 0., 0.],\n",
      "         [0., 0., 0.,  ..., 0., 0., 0.]],\n",
      "\n",
      "        [[0., 0., 0.,  ..., 0., 0., 0.],\n",
      "         [0., 0., 0.,  ..., 0., 0., 0.]],\n",
      "\n",
      "        [[0., 0., 0.,  ..., 0., 0., 0.],\n",
      "         [0., 0., 0.,  ..., 0., 0., 0.]]])\n"
     ]
    }
   ],
   "source": [
    "from steves_utils.transforms import get_average_magnitude, get_average_power\n",
    "\n",
    "print(set([u for u,_ in val_original_source]))\n",
    "print(set([u for u,_ in val_original_target]))\n",
    "\n",
    "s_x, s_y, q_x, q_y, _ = next(iter(train_processed_source))\n",
    "print(s_x)\n",
    "\n",
    "# for ds in [\n",
    "#     train_processed_source,\n",
    "#     val_processed_source,\n",
    "#     test_processed_source,\n",
    "#     train_processed_target,\n",
    "#     val_processed_target,\n",
    "#     test_processed_target\n",
    "# ]:\n",
    "#     for s_x, s_y, q_x, q_y, _ in ds:\n",
    "#         for X in (s_x, q_x):\n",
    "#             for x in X:\n",
    "#                 assert np.isclose(get_average_magnitude(x.numpy()), 1.0)\n",
    "#                 assert np.isclose(get_average_power(x.numpy()), 1.0)\n",
    "                "
   ]
  },
  {
   "cell_type": "code",
   "execution_count": 21,
   "id": "bbdacba1",
   "metadata": {
    "execution": {
     "iopub.execute_input": "2022-03-28T12:13:36.835652Z",
     "iopub.status.busy": "2022-03-28T12:13:36.835228Z",
     "iopub.status.idle": "2022-03-28T12:13:36.981259Z",
     "shell.execute_reply": "2022-03-28T12:13:36.980568Z"
    },
    "papermill": {
     "duration": 0.173601,
     "end_time": "2022-03-28T12:13:36.981433",
     "exception": false,
     "start_time": "2022-03-28T12:13:36.807832",
     "status": "completed"
    },
    "tags": []
   },
   "outputs": [
    {
     "name": "stdout",
     "output_type": "stream",
     "text": [
      "(2, 256)\n"
     ]
    }
   ],
   "source": [
    "###################################\n",
    "# Build the model\n",
    "###################################\n",
    "# easfsl only wants a tuple for the shape\n",
    "model = Steves_Prototypical_Network(x_net, device=p.device, x_shape=tuple(p.x_shape))\n",
    "optimizer = Adam(params=model.parameters(), lr=p.lr)"
   ]
  },
  {
   "cell_type": "code",
   "execution_count": 22,
   "id": "22b39ac5",
   "metadata": {
    "execution": {
     "iopub.execute_input": "2022-03-28T12:13:37.038095Z",
     "iopub.status.busy": "2022-03-28T12:13:37.037686Z",
     "iopub.status.idle": "2022-03-28T12:40:31.984344Z",
     "shell.execute_reply": "2022-03-28T12:40:31.983999Z"
    },
    "papermill": {
     "duration": 1614.973738,
     "end_time": "2022-03-28T12:40:31.984428",
     "exception": false,
     "start_time": "2022-03-28T12:13:37.010690",
     "status": "completed"
    },
    "tags": []
   },
   "outputs": [
    {
     "name": "stdout",
     "output_type": "stream",
     "text": [
      "epoch: 1, [batch: 1 / 6320], examples_per_second: 34.7100, train_label_loss: 2.7327, \n"
     ]
    },
    {
     "name": "stdout",
     "output_type": "stream",
     "text": [
      "epoch: 1, [batch: 632 / 6320], examples_per_second: 3908.4316, train_label_loss: 0.0116, \n"
     ]
    },
    {
     "name": "stdout",
     "output_type": "stream",
     "text": [
      "epoch: 1, [batch: 1264 / 6320], examples_per_second: 3923.0895, train_label_loss: 0.0068, \n"
     ]
    },
    {
     "name": "stdout",
     "output_type": "stream",
     "text": [
      "epoch: 1, [batch: 1896 / 6320], examples_per_second: 3936.9247, train_label_loss: 0.0004, \n"
     ]
    },
    {
     "name": "stdout",
     "output_type": "stream",
     "text": [
      "epoch: 1, [batch: 2528 / 6320], examples_per_second: 4251.6644, train_label_loss: 0.0086, \n"
     ]
    },
    {
     "name": "stdout",
     "output_type": "stream",
     "text": [
      "epoch: 1, [batch: 3160 / 6320], examples_per_second: 4419.8940, train_label_loss: 0.0034, \n"
     ]
    },
    {
     "name": "stdout",
     "output_type": "stream",
     "text": [
      "epoch: 1, [batch: 3792 / 6320], examples_per_second: 3846.2641, train_label_loss: 0.0004, \n"
     ]
    },
    {
     "name": "stdout",
     "output_type": "stream",
     "text": [
      "epoch: 1, [batch: 4424 / 6320], examples_per_second: 3771.4410, train_label_loss: 0.0033, \n"
     ]
    },
    {
     "name": "stdout",
     "output_type": "stream",
     "text": [
      "epoch: 1, [batch: 5056 / 6320], examples_per_second: 3770.6866, train_label_loss: 0.0156, \n"
     ]
    },
    {
     "name": "stdout",
     "output_type": "stream",
     "text": [
      "epoch: 1, [batch: 5688 / 6320], examples_per_second: 3852.5369, train_label_loss: 0.0005, \n"
     ]
    },
    {
     "name": "stdout",
     "output_type": "stream",
     "text": [
      "=============================================================\n",
      "epoch: 1, source_val_acc_label: 0.9883, target_val_acc_label: 0.3189, source_val_label_loss: 0.3660, target_val_label_loss: 2.0075, \n",
      "=============================================================\n"
     ]
    },
    {
     "name": "stdout",
     "output_type": "stream",
     "text": [
      "New best\n"
     ]
    },
    {
     "name": "stdout",
     "output_type": "stream",
     "text": [
      "epoch: 2, [batch: 1 / 6305], examples_per_second: 4.0796, train_label_loss: 0.0083, \n"
     ]
    },
    {
     "name": "stdout",
     "output_type": "stream",
     "text": [
      "epoch: 2, [batch: 631 / 6305], examples_per_second: 3809.3094, train_label_loss: 0.0000, \n"
     ]
    },
    {
     "name": "stdout",
     "output_type": "stream",
     "text": [
      "epoch: 2, [batch: 1261 / 6305], examples_per_second: 3833.6863, train_label_loss: 0.0002, \n"
     ]
    },
    {
     "name": "stdout",
     "output_type": "stream",
     "text": [
      "epoch: 2, [batch: 1892 / 6305], examples_per_second: 3842.2415, train_label_loss: 0.0011, \n"
     ]
    },
    {
     "name": "stdout",
     "output_type": "stream",
     "text": [
      "epoch: 2, [batch: 2522 / 6305], examples_per_second: 4385.4851, train_label_loss: 0.0002, \n"
     ]
    },
    {
     "name": "stdout",
     "output_type": "stream",
     "text": [
      "epoch: 2, [batch: 3153 / 6305], examples_per_second: 4632.8826, train_label_loss: 0.0001, \n"
     ]
    },
    {
     "name": "stdout",
     "output_type": "stream",
     "text": [
      "epoch: 2, [batch: 3783 / 6305], examples_per_second: 4176.6728, train_label_loss: 0.0006, \n"
     ]
    },
    {
     "name": "stdout",
     "output_type": "stream",
     "text": [
      "epoch: 2, [batch: 4413 / 6305], examples_per_second: 3796.9662, train_label_loss: 0.0000, \n"
     ]
    },
    {
     "name": "stdout",
     "output_type": "stream",
     "text": [
      "epoch: 2, [batch: 5044 / 6305], examples_per_second: 3834.1713, train_label_loss: 0.0016, \n"
     ]
    },
    {
     "name": "stdout",
     "output_type": "stream",
     "text": [
      "epoch: 2, [batch: 5674 / 6305], examples_per_second: 4005.9812, train_label_loss: 0.0004, \n"
     ]
    },
    {
     "name": "stdout",
     "output_type": "stream",
     "text": [
      "=============================================================\n",
      "epoch: 2, source_val_acc_label: 0.9937, target_val_acc_label: 0.2681, source_val_label_loss: 0.0248, target_val_label_loss: 2.5996, \n",
      "=============================================================\n"
     ]
    },
    {
     "name": "stdout",
     "output_type": "stream",
     "text": [
      "epoch: 3, [batch: 1 / 6307], examples_per_second: 4.1766, train_label_loss: 0.0000, \n"
     ]
    },
    {
     "name": "stdout",
     "output_type": "stream",
     "text": [
      "epoch: 3, [batch: 631 / 6307], examples_per_second: 3956.7587, train_label_loss: 0.0000, \n"
     ]
    },
    {
     "name": "stdout",
     "output_type": "stream",
     "text": [
      "epoch: 3, [batch: 1262 / 6307], examples_per_second: 3981.8695, train_label_loss: 0.0020, \n"
     ]
    },
    {
     "name": "stdout",
     "output_type": "stream",
     "text": [
      "epoch: 3, [batch: 1892 / 6307], examples_per_second: 3954.3739, train_label_loss: 0.0002, \n"
     ]
    },
    {
     "name": "stdout",
     "output_type": "stream",
     "text": [
      "epoch: 3, [batch: 2523 / 6307], examples_per_second: 4386.9845, train_label_loss: 0.0025, \n"
     ]
    },
    {
     "name": "stdout",
     "output_type": "stream",
     "text": [
      "epoch: 3, [batch: 3154 / 6307], examples_per_second: 4460.1525, train_label_loss: 0.0036, \n"
     ]
    },
    {
     "name": "stdout",
     "output_type": "stream",
     "text": [
      "epoch: 3, [batch: 3784 / 6307], examples_per_second: 4578.8476, train_label_loss: 0.0007, \n"
     ]
    },
    {
     "name": "stdout",
     "output_type": "stream",
     "text": [
      "epoch: 3, [batch: 4415 / 6307], examples_per_second: 3911.5397, train_label_loss: 0.0388, \n"
     ]
    },
    {
     "name": "stdout",
     "output_type": "stream",
     "text": [
      "epoch: 3, [batch: 5045 / 6307], examples_per_second: 4003.9264, train_label_loss: 0.0007, \n"
     ]
    },
    {
     "name": "stdout",
     "output_type": "stream",
     "text": [
      "epoch: 3, [batch: 5676 / 6307], examples_per_second: 3945.1616, train_label_loss: 0.0254, \n"
     ]
    },
    {
     "name": "stdout",
     "output_type": "stream",
     "text": [
      "=============================================================\n",
      "epoch: 3, source_val_acc_label: 0.9980, target_val_acc_label: 0.3035, source_val_label_loss: 0.0117, target_val_label_loss: 2.4212, \n",
      "=============================================================\n"
     ]
    },
    {
     "name": "stdout",
     "output_type": "stream",
     "text": [
      "epoch: 4, [batch: 1 / 6315], examples_per_second: 4.0527, train_label_loss: 0.0006, \n"
     ]
    },
    {
     "name": "stdout",
     "output_type": "stream",
     "text": [
      "epoch: 4, [batch: 632 / 6315], examples_per_second: 3833.5099, train_label_loss: 0.0000, \n"
     ]
    },
    {
     "name": "stdout",
     "output_type": "stream",
     "text": [
      "epoch: 4, [batch: 1263 / 6315], examples_per_second: 3798.4287, train_label_loss: 0.0000, \n"
     ]
    },
    {
     "name": "stdout",
     "output_type": "stream",
     "text": [
      "epoch: 4, [batch: 1895 / 6315], examples_per_second: 3886.7033, train_label_loss: 0.0049, \n"
     ]
    },
    {
     "name": "stdout",
     "output_type": "stream",
     "text": [
      "epoch: 4, [batch: 2526 / 6315], examples_per_second: 4224.2936, train_label_loss: 0.0000, \n"
     ]
    },
    {
     "name": "stdout",
     "output_type": "stream",
     "text": [
      "epoch: 4, [batch: 3158 / 6315], examples_per_second: 4408.5926, train_label_loss: 0.0001, \n"
     ]
    },
    {
     "name": "stdout",
     "output_type": "stream",
     "text": [
      "epoch: 4, [batch: 3789 / 6315], examples_per_second: 4332.1481, train_label_loss: 0.0001, \n"
     ]
    },
    {
     "name": "stdout",
     "output_type": "stream",
     "text": [
      "epoch: 4, [batch: 4420 / 6315], examples_per_second: 3892.3335, train_label_loss: 0.0000, \n"
     ]
    },
    {
     "name": "stdout",
     "output_type": "stream",
     "text": [
      "epoch: 4, [batch: 5052 / 6315], examples_per_second: 4022.1308, train_label_loss: 0.0000, \n"
     ]
    },
    {
     "name": "stdout",
     "output_type": "stream",
     "text": [
      "epoch: 4, [batch: 5683 / 6315], examples_per_second: 4040.2477, train_label_loss: 0.0001, \n"
     ]
    },
    {
     "name": "stdout",
     "output_type": "stream",
     "text": [
      "=============================================================\n",
      "epoch: 4, source_val_acc_label: 0.9990, target_val_acc_label: 0.3398, source_val_label_loss: 0.0066, target_val_label_loss: 2.0277, \n",
      "=============================================================\n"
     ]
    },
    {
     "name": "stdout",
     "output_type": "stream",
     "text": [
      "New best\n"
     ]
    },
    {
     "name": "stdout",
     "output_type": "stream",
     "text": [
      "epoch: 5, [batch: 1 / 6313], examples_per_second: 4.0690, train_label_loss: 0.0000, \n"
     ]
    },
    {
     "name": "stdout",
     "output_type": "stream",
     "text": [
      "epoch: 5, [batch: 632 / 6313], examples_per_second: 4007.3405, train_label_loss: 0.0223, \n"
     ]
    },
    {
     "name": "stdout",
     "output_type": "stream",
     "text": [
      "epoch: 5, [batch: 1263 / 6313], examples_per_second: 3930.4522, train_label_loss: 0.0002, \n"
     ]
    },
    {
     "name": "stdout",
     "output_type": "stream",
     "text": [
      "epoch: 5, [batch: 1894 / 6313], examples_per_second: 3893.2466, train_label_loss: 0.0000, \n"
     ]
    },
    {
     "name": "stdout",
     "output_type": "stream",
     "text": [
      "epoch: 5, [batch: 2525 / 6313], examples_per_second: 4177.7915, train_label_loss: 0.0000, \n"
     ]
    },
    {
     "name": "stdout",
     "output_type": "stream",
     "text": [
      "epoch: 5, [batch: 3157 / 6313], examples_per_second: 4234.8077, train_label_loss: 0.0000, \n"
     ]
    },
    {
     "name": "stdout",
     "output_type": "stream",
     "text": [
      "epoch: 5, [batch: 3788 / 6313], examples_per_second: 4264.4007, train_label_loss: 0.0000, \n"
     ]
    },
    {
     "name": "stdout",
     "output_type": "stream",
     "text": [
      "epoch: 5, [batch: 4419 / 6313], examples_per_second: 4420.8857, train_label_loss: 0.0000, \n"
     ]
    },
    {
     "name": "stdout",
     "output_type": "stream",
     "text": [
      "epoch: 5, [batch: 5050 / 6313], examples_per_second: 4396.9726, train_label_loss: 0.0000, \n"
     ]
    },
    {
     "name": "stdout",
     "output_type": "stream",
     "text": [
      "epoch: 5, [batch: 5681 / 6313], examples_per_second: 4453.2544, train_label_loss: 0.0000, \n"
     ]
    },
    {
     "name": "stdout",
     "output_type": "stream",
     "text": [
      "=============================================================\n",
      "epoch: 5, source_val_acc_label: 0.9991, target_val_acc_label: 0.3682, source_val_label_loss: 0.0076, target_val_label_loss: 1.9215, \n",
      "=============================================================\n"
     ]
    },
    {
     "name": "stdout",
     "output_type": "stream",
     "text": [
      "New best\n"
     ]
    },
    {
     "name": "stdout",
     "output_type": "stream",
     "text": [
      "epoch: 6, [batch: 1 / 6317], examples_per_second: 4.6720, train_label_loss: 0.0000, \n"
     ]
    },
    {
     "name": "stdout",
     "output_type": "stream",
     "text": [
      "epoch: 6, [batch: 632 / 6317], examples_per_second: 5042.0087, train_label_loss: 0.0055, \n"
     ]
    },
    {
     "name": "stdout",
     "output_type": "stream",
     "text": [
      "epoch: 6, [batch: 1264 / 6317], examples_per_second: 5141.9672, train_label_loss: 0.0004, \n"
     ]
    },
    {
     "name": "stdout",
     "output_type": "stream",
     "text": [
      "epoch: 6, [batch: 1895 / 6317], examples_per_second: 5075.7160, train_label_loss: 0.0001, \n"
     ]
    },
    {
     "name": "stdout",
     "output_type": "stream",
     "text": [
      "epoch: 6, [batch: 2527 / 6317], examples_per_second: 5340.5715, train_label_loss: 0.0000, \n"
     ]
    },
    {
     "name": "stdout",
     "output_type": "stream",
     "text": [
      "epoch: 6, [batch: 3159 / 6317], examples_per_second: 5310.1761, train_label_loss: 0.0000, \n"
     ]
    },
    {
     "name": "stdout",
     "output_type": "stream",
     "text": [
      "epoch: 6, [batch: 3790 / 6317], examples_per_second: 4918.2664, train_label_loss: 0.0002, \n"
     ]
    },
    {
     "name": "stdout",
     "output_type": "stream",
     "text": [
      "epoch: 6, [batch: 4422 / 6317], examples_per_second: 4945.2351, train_label_loss: 0.0000, \n"
     ]
    },
    {
     "name": "stdout",
     "output_type": "stream",
     "text": [
      "epoch: 6, [batch: 5053 / 6317], examples_per_second: 4956.7984, train_label_loss: 0.0000, \n"
     ]
    },
    {
     "name": "stdout",
     "output_type": "stream",
     "text": [
      "epoch: 6, [batch: 5685 / 6317], examples_per_second: 4928.0926, train_label_loss: 0.0439, \n"
     ]
    },
    {
     "name": "stdout",
     "output_type": "stream",
     "text": [
      "=============================================================\n",
      "epoch: 6, source_val_acc_label: 0.9978, target_val_acc_label: 0.3123, source_val_label_loss: 0.0123, target_val_label_loss: 2.3857, \n",
      "=============================================================\n"
     ]
    },
    {
     "name": "stdout",
     "output_type": "stream",
     "text": [
      "epoch: 7, [batch: 1 / 6322], examples_per_second: 5.4282, train_label_loss: 0.0002, \n"
     ]
    },
    {
     "name": "stdout",
     "output_type": "stream",
     "text": [
      "epoch: 7, [batch: 633 / 6322], examples_per_second: 4898.6030, train_label_loss: 0.0000, \n"
     ]
    },
    {
     "name": "stdout",
     "output_type": "stream",
     "text": [
      "epoch: 7, [batch: 1265 / 6322], examples_per_second: 4992.6203, train_label_loss: 0.0000, \n"
     ]
    },
    {
     "name": "stdout",
     "output_type": "stream",
     "text": [
      "epoch: 7, [batch: 1897 / 6322], examples_per_second: 5074.0424, train_label_loss: 0.0000, \n"
     ]
    },
    {
     "name": "stdout",
     "output_type": "stream",
     "text": [
      "epoch: 7, [batch: 2529 / 6322], examples_per_second: 4847.5067, train_label_loss: 0.0001, \n"
     ]
    },
    {
     "name": "stdout",
     "output_type": "stream",
     "text": [
      "epoch: 7, [batch: 3161 / 6322], examples_per_second: 4861.1889, train_label_loss: 0.0000, \n"
     ]
    },
    {
     "name": "stdout",
     "output_type": "stream",
     "text": [
      "epoch: 7, [batch: 3793 / 6322], examples_per_second: 3907.3256, train_label_loss: 0.0000, \n"
     ]
    },
    {
     "name": "stdout",
     "output_type": "stream",
     "text": [
      "epoch: 7, [batch: 4425 / 6322], examples_per_second: 3835.3003, train_label_loss: 0.0004, \n"
     ]
    },
    {
     "name": "stdout",
     "output_type": "stream",
     "text": [
      "epoch: 7, [batch: 5057 / 6322], examples_per_second: 3850.9037, train_label_loss: 0.0000, \n"
     ]
    },
    {
     "name": "stdout",
     "output_type": "stream",
     "text": [
      "epoch: 7, [batch: 5689 / 6322], examples_per_second: 3853.2315, train_label_loss: 0.0000, \n"
     ]
    },
    {
     "name": "stdout",
     "output_type": "stream",
     "text": [
      "=============================================================\n",
      "epoch: 7, source_val_acc_label: 0.9994, target_val_acc_label: 0.3920, source_val_label_loss: 0.0073, target_val_label_loss: 1.7340, \n",
      "=============================================================\n"
     ]
    },
    {
     "name": "stdout",
     "output_type": "stream",
     "text": [
      "New best\n"
     ]
    },
    {
     "name": "stdout",
     "output_type": "stream",
     "text": [
      "epoch: 8, [batch: 1 / 6297], examples_per_second: 4.0796, train_label_loss: 0.0000, \n"
     ]
    },
    {
     "name": "stdout",
     "output_type": "stream",
     "text": [
      "epoch: 8, [batch: 630 / 6297], examples_per_second: 3813.1322, train_label_loss: 0.0000, \n"
     ]
    },
    {
     "name": "stdout",
     "output_type": "stream",
     "text": [
      "epoch: 8, [batch: 1260 / 6297], examples_per_second: 3822.1772, train_label_loss: 0.0000, \n"
     ]
    },
    {
     "name": "stdout",
     "output_type": "stream",
     "text": [
      "epoch: 8, [batch: 1889 / 6297], examples_per_second: 4017.4489, train_label_loss: 0.0000, \n"
     ]
    },
    {
     "name": "stdout",
     "output_type": "stream",
     "text": [
      "epoch: 8, [batch: 2519 / 6297], examples_per_second: 4397.5161, train_label_loss: 0.0000, \n"
     ]
    },
    {
     "name": "stdout",
     "output_type": "stream",
     "text": [
      "epoch: 8, [batch: 3149 / 6297], examples_per_second: 4655.8632, train_label_loss: 0.0000, \n"
     ]
    },
    {
     "name": "stdout",
     "output_type": "stream",
     "text": [
      "epoch: 8, [batch: 3778 / 6297], examples_per_second: 4380.7397, train_label_loss: 0.0000, \n"
     ]
    },
    {
     "name": "stdout",
     "output_type": "stream",
     "text": [
      "epoch: 8, [batch: 4408 / 6297], examples_per_second: 3784.8338, train_label_loss: 0.0000, \n"
     ]
    },
    {
     "name": "stdout",
     "output_type": "stream",
     "text": [
      "epoch: 8, [batch: 5037 / 6297], examples_per_second: 3879.5302, train_label_loss: 0.0000, \n"
     ]
    },
    {
     "name": "stdout",
     "output_type": "stream",
     "text": [
      "epoch: 8, [batch: 5667 / 6297], examples_per_second: 3924.6812, train_label_loss: 0.0005, \n"
     ]
    },
    {
     "name": "stdout",
     "output_type": "stream",
     "text": [
      "=============================================================\n",
      "epoch: 8, source_val_acc_label: 0.9994, target_val_acc_label: 0.3747, source_val_label_loss: 0.0070, target_val_label_loss: 1.8558, \n",
      "=============================================================\n"
     ]
    },
    {
     "name": "stdout",
     "output_type": "stream",
     "text": [
      "epoch: 9, [batch: 1 / 6315], examples_per_second: 4.0801, train_label_loss: 0.0000, \n"
     ]
    },
    {
     "name": "stdout",
     "output_type": "stream",
     "text": [
      "epoch: 9, [batch: 632 / 6315], examples_per_second: 3806.6384, train_label_loss: 1.3633, \n"
     ]
    },
    {
     "name": "stdout",
     "output_type": "stream",
     "text": [
      "epoch: 9, [batch: 1263 / 6315], examples_per_second: 3897.3411, train_label_loss: 0.0000, \n"
     ]
    },
    {
     "name": "stdout",
     "output_type": "stream",
     "text": [
      "epoch: 9, [batch: 1895 / 6315], examples_per_second: 3892.2763, train_label_loss: 0.0000, \n"
     ]
    },
    {
     "name": "stdout",
     "output_type": "stream",
     "text": [
      "epoch: 9, [batch: 2526 / 6315], examples_per_second: 4409.6311, train_label_loss: 0.0137, \n"
     ]
    },
    {
     "name": "stdout",
     "output_type": "stream",
     "text": [
      "epoch: 9, [batch: 3158 / 6315], examples_per_second: 4439.9752, train_label_loss: 0.0000, \n"
     ]
    },
    {
     "name": "stdout",
     "output_type": "stream",
     "text": [
      "epoch: 9, [batch: 3789 / 6315], examples_per_second: 4588.7639, train_label_loss: 0.0000, \n"
     ]
    },
    {
     "name": "stdout",
     "output_type": "stream",
     "text": [
      "epoch: 9, [batch: 4420 / 6315], examples_per_second: 3828.0504, train_label_loss: 0.0001, \n"
     ]
    },
    {
     "name": "stdout",
     "output_type": "stream",
     "text": [
      "epoch: 9, [batch: 5052 / 6315], examples_per_second: 3892.2822, train_label_loss: 0.0000, \n"
     ]
    },
    {
     "name": "stdout",
     "output_type": "stream",
     "text": [
      "epoch: 9, [batch: 5683 / 6315], examples_per_second: 4015.1161, train_label_loss: 0.0000, \n"
     ]
    },
    {
     "name": "stdout",
     "output_type": "stream",
     "text": [
      "=============================================================\n",
      "epoch: 9, source_val_acc_label: 0.9989, target_val_acc_label: 0.3483, source_val_label_loss: 0.0080, target_val_label_loss: 2.0967, \n",
      "=============================================================\n"
     ]
    },
    {
     "name": "stdout",
     "output_type": "stream",
     "text": [
      "epoch: 10, [batch: 1 / 6284], examples_per_second: 4.1228, train_label_loss: 0.0000, \n"
     ]
    },
    {
     "name": "stdout",
     "output_type": "stream",
     "text": [
      "epoch: 10, [batch: 629 / 6284], examples_per_second: 3885.3169, train_label_loss: 0.0000, \n"
     ]
    },
    {
     "name": "stdout",
     "output_type": "stream",
     "text": [
      "epoch: 10, [batch: 1257 / 6284], examples_per_second: 3968.5066, train_label_loss: 0.0001, \n"
     ]
    },
    {
     "name": "stdout",
     "output_type": "stream",
     "text": [
      "epoch: 10, [batch: 1885 / 6284], examples_per_second: 3935.7119, train_label_loss: 0.0000, \n"
     ]
    },
    {
     "name": "stdout",
     "output_type": "stream",
     "text": [
      "epoch: 10, [batch: 2514 / 6284], examples_per_second: 4258.5577, train_label_loss: 0.0000, \n"
     ]
    },
    {
     "name": "stdout",
     "output_type": "stream",
     "text": [
      "epoch: 10, [batch: 3142 / 6284], examples_per_second: 4508.5740, train_label_loss: 0.0000, \n"
     ]
    },
    {
     "name": "stdout",
     "output_type": "stream",
     "text": [
      "epoch: 10, [batch: 3770 / 6284], examples_per_second: 4475.5260, train_label_loss: 0.0000, \n"
     ]
    },
    {
     "name": "stdout",
     "output_type": "stream",
     "text": [
      "epoch: 10, [batch: 4399 / 6284], examples_per_second: 3811.5490, train_label_loss: 0.0000, \n"
     ]
    },
    {
     "name": "stdout",
     "output_type": "stream",
     "text": [
      "epoch: 10, [batch: 5027 / 6284], examples_per_second: 3801.7357, train_label_loss: 0.0001, \n"
     ]
    },
    {
     "name": "stdout",
     "output_type": "stream",
     "text": [
      "epoch: 10, [batch: 5655 / 6284], examples_per_second: 3931.1046, train_label_loss: 0.0000, \n"
     ]
    },
    {
     "name": "stdout",
     "output_type": "stream",
     "text": [
      "=============================================================\n",
      "epoch: 10, source_val_acc_label: 0.9984, target_val_acc_label: 0.3358, source_val_label_loss: 0.0126, target_val_label_loss: 2.3665, \n",
      "=============================================================\n"
     ]
    },
    {
     "name": "stdout",
     "output_type": "stream",
     "text": [
      "epoch: 11, [batch: 1 / 6335], examples_per_second: 4.1570, train_label_loss: 0.0000, \n"
     ]
    },
    {
     "name": "stdout",
     "output_type": "stream",
     "text": [
      "epoch: 11, [batch: 634 / 6335], examples_per_second: 3936.0486, train_label_loss: 0.0000, \n"
     ]
    },
    {
     "name": "stdout",
     "output_type": "stream",
     "text": [
      "epoch: 11, [batch: 1267 / 6335], examples_per_second: 4011.9485, train_label_loss: 0.0000, \n"
     ]
    },
    {
     "name": "stdout",
     "output_type": "stream",
     "text": [
      "epoch: 11, [batch: 1901 / 6335], examples_per_second: 3963.1159, train_label_loss: 0.0000, \n"
     ]
    },
    {
     "name": "stdout",
     "output_type": "stream",
     "text": [
      "epoch: 11, [batch: 2534 / 6335], examples_per_second: 4138.6779, train_label_loss: 0.0000, \n"
     ]
    },
    {
     "name": "stdout",
     "output_type": "stream",
     "text": [
      "epoch: 11, [batch: 3168 / 6335], examples_per_second: 4631.9825, train_label_loss: 0.0000, \n"
     ]
    },
    {
     "name": "stdout",
     "output_type": "stream",
     "text": [
      "epoch: 11, [batch: 3801 / 6335], examples_per_second: 4793.4913, train_label_loss: 0.0000, \n"
     ]
    },
    {
     "name": "stdout",
     "output_type": "stream",
     "text": [
      "epoch: 11, [batch: 4434 / 6335], examples_per_second: 3789.0695, train_label_loss: 0.0000, \n"
     ]
    },
    {
     "name": "stdout",
     "output_type": "stream",
     "text": [
      "epoch: 11, [batch: 5068 / 6335], examples_per_second: 3801.7620, train_label_loss: 0.0000, \n"
     ]
    },
    {
     "name": "stdout",
     "output_type": "stream",
     "text": [
      "epoch: 11, [batch: 5701 / 6335], examples_per_second: 3919.3002, train_label_loss: 0.0006, \n"
     ]
    },
    {
     "name": "stdout",
     "output_type": "stream",
     "text": [
      "=============================================================\n",
      "epoch: 11, source_val_acc_label: 0.9992, target_val_acc_label: 0.3364, source_val_label_loss: 0.0083, target_val_label_loss: 2.3327, \n",
      "=============================================================\n"
     ]
    },
    {
     "name": "stdout",
     "output_type": "stream",
     "text": [
      "Patience (3) exhausted\n"
     ]
    }
   ],
   "source": [
    "###################################\n",
    "# train\n",
    "###################################\n",
    "jig = PTN_Train_Eval_Test_Jig(model, p.BEST_MODEL_PATH, p.device)\n",
    "\n",
    "jig.train(\n",
    "    train_iterable=datasets.source.processed.train,\n",
    "    source_val_iterable=datasets.source.processed.val,\n",
    "    target_val_iterable=datasets.target.processed.val,\n",
    "    num_epochs=p.n_epoch,\n",
    "    num_logs_per_epoch=p.NUM_LOGS_PER_EPOCH,\n",
    "    patience=p.patience,\n",
    "    optimizer=optimizer,\n",
    "    criteria_for_best=p.criteria_for_best,\n",
    ")"
   ]
  },
  {
   "cell_type": "code",
   "execution_count": 23,
   "id": "31e8fabf",
   "metadata": {
    "execution": {
     "iopub.execute_input": "2022-03-28T12:40:32.101835Z",
     "iopub.status.busy": "2022-03-28T12:40:32.101279Z",
     "iopub.status.idle": "2022-03-28T12:40:32.135578Z",
     "shell.execute_reply": "2022-03-28T12:40:32.134813Z"
    },
    "papermill": {
     "duration": 0.094627,
     "end_time": "2022-03-28T12:40:32.135735",
     "exception": false,
     "start_time": "2022-03-28T12:40:32.041108",
     "status": "completed"
    },
    "tags": []
   },
   "outputs": [],
   "source": [
    "total_experiment_time_secs = time.time() - start_time_secs"
   ]
  },
  {
   "cell_type": "code",
   "execution_count": 24,
   "id": "87b9595b",
   "metadata": {
    "execution": {
     "iopub.execute_input": "2022-03-28T12:40:32.263934Z",
     "iopub.status.busy": "2022-03-28T12:40:32.263310Z",
     "iopub.status.idle": "2022-03-28T12:43:10.468614Z",
     "shell.execute_reply": "2022-03-28T12:43:10.467742Z"
    },
    "papermill": {
     "duration": 158.270739,
     "end_time": "2022-03-28T12:43:10.468789",
     "exception": false,
     "start_time": "2022-03-28T12:40:32.198050",
     "status": "completed"
    },
    "tags": []
   },
   "outputs": [],
   "source": [
    "###################################\n",
    "# Evaluate the model\n",
    "###################################\n",
    "source_test_label_accuracy, source_test_label_loss = jig.test(datasets.source.processed.test)\n",
    "target_test_label_accuracy, target_test_label_loss = jig.test(datasets.target.processed.test)\n",
    "\n",
    "source_val_label_accuracy, source_val_label_loss = jig.test(datasets.source.processed.val)\n",
    "target_val_label_accuracy, target_val_label_loss = jig.test(datasets.target.processed.val)\n",
    "\n",
    "history = jig.get_history()\n",
    "\n",
    "total_epochs_trained = len(history[\"epoch_indices\"])\n",
    "\n",
    "val_dl = Iterable_Aggregator((datasets.source.original.val,datasets.target.original.val))\n",
    "\n",
    "confusion = ptn_confusion_by_domain_over_dataloader(model, p.device, val_dl)\n",
    "per_domain_accuracy = per_domain_accuracy_from_confusion(confusion)\n",
    "\n",
    "# Add a key to per_domain_accuracy for if it was a source domain\n",
    "for domain, accuracy in per_domain_accuracy.items():\n",
    "    per_domain_accuracy[domain] = {\n",
    "        \"accuracy\": accuracy,\n",
    "        \"source?\": domain in p.domains_source\n",
    "    }\n",
    "\n",
    "# Do an independent accuracy assesment JUST TO BE SURE!\n",
    "# _source_test_label_accuracy = independent_accuracy_assesment(model, datasets.source.processed.test, p.device)\n",
    "# _target_test_label_accuracy = independent_accuracy_assesment(model, datasets.target.processed.test, p.device)\n",
    "# _source_val_label_accuracy = independent_accuracy_assesment(model, datasets.source.processed.val, p.device)\n",
    "# _target_val_label_accuracy = independent_accuracy_assesment(model, datasets.target.processed.val, p.device)\n",
    "\n",
    "# assert(_source_test_label_accuracy == source_test_label_accuracy)\n",
    "# assert(_target_test_label_accuracy == target_test_label_accuracy)\n",
    "# assert(_source_val_label_accuracy == source_val_label_accuracy)\n",
    "# assert(_target_val_label_accuracy == target_val_label_accuracy)\n",
    "\n",
    "experiment = {\n",
    "    \"experiment_name\": p.experiment_name,\n",
    "    \"parameters\": dict(p),\n",
    "    \"results\": {\n",
    "        \"source_test_label_accuracy\": source_test_label_accuracy,\n",
    "        \"source_test_label_loss\": source_test_label_loss,\n",
    "        \"target_test_label_accuracy\": target_test_label_accuracy,\n",
    "        \"target_test_label_loss\": target_test_label_loss,\n",
    "        \"source_val_label_accuracy\": source_val_label_accuracy,\n",
    "        \"source_val_label_loss\": source_val_label_loss,\n",
    "        \"target_val_label_accuracy\": target_val_label_accuracy,\n",
    "        \"target_val_label_loss\": target_val_label_loss,\n",
    "        \"total_epochs_trained\": total_epochs_trained,\n",
    "        \"total_experiment_time_secs\": total_experiment_time_secs,\n",
    "        \"confusion\": confusion,\n",
    "        \"per_domain_accuracy\": per_domain_accuracy,\n",
    "    },\n",
    "    \"history\": history,\n",
    "    \"dataset_metrics\": get_dataset_metrics(datasets, \"ptn\"),\n",
    "}"
   ]
  },
  {
   "cell_type": "code",
   "execution_count": 25,
   "id": "54a21829",
   "metadata": {
    "execution": {
     "iopub.execute_input": "2022-03-28T12:43:10.603263Z",
     "iopub.status.busy": "2022-03-28T12:43:10.602620Z",
     "iopub.status.idle": "2022-03-28T12:43:10.818743Z",
     "shell.execute_reply": "2022-03-28T12:43:10.819446Z"
    },
    "papermill": {
     "duration": 0.287755,
     "end_time": "2022-03-28T12:43:10.819668",
     "exception": false,
     "start_time": "2022-03-28T12:43:10.531913",
     "status": "completed"
    },
    "tags": []
   },
   "outputs": [
    {
     "data": {
      "image/png": "[encoded data removed]",
      "text/plain": [
       "<Figure size 1080x504 with 1 Axes>"
      ]
     },
     "metadata": {
      "needs_background": "light"
     },
     "output_type": "display_data"
    }
   ],
   "source": [
    "ax = get_loss_curve(experiment)\n",
    "plt.show()"
   ]
  },
  {
   "cell_type": "code",
   "execution_count": 26,
   "id": "fd8a0f60",
   "metadata": {
    "execution": {
     "iopub.execute_input": "2022-03-28T12:43:10.941239Z",
     "iopub.status.busy": "2022-03-28T12:43:10.940864Z",
     "iopub.status.idle": "2022-03-28T12:43:11.269422Z",
     "shell.execute_reply": "2022-03-28T12:43:11.269718Z"
    },
    "papermill": {
     "duration": 0.389975,
     "end_time": "2022-03-28T12:43:11.269805",
     "exception": false,
     "start_time": "2022-03-28T12:43:10.879830",
     "status": "completed"
    },
    "tags": []
   },
   "outputs": [
    {
     "data": {
      "text/plain": [
       "<AxesSubplot:title={'center':'Results'}>"
      ]
     },
     "execution_count": 26,
     "metadata": {},
     "output_type": "execute_result"
    },
    {
     "data": {
      "image/png": "[encoded data removed]",
      "text/plain": [
       "<Figure size 1080x504 with 1 Axes>"
      ]
     },
     "metadata": {
      "needs_background": "light"
     },
     "output_type": "display_data"
    }
   ],
   "source": [
    "get_results_table(experiment)"
   ]
  },
  {
   "cell_type": "code",
   "execution_count": 27,
   "id": "cf8dc689",
   "metadata": {
    "execution": {
     "iopub.execute_input": "2022-03-28T12:43:11.394661Z",
     "iopub.status.busy": "2022-03-28T12:43:11.394091Z",
     "iopub.status.idle": "2022-03-28T12:43:11.638147Z",
     "shell.execute_reply": "2022-03-28T12:43:11.638844Z"
    },
    "papermill": {
     "duration": 0.309007,
     "end_time": "2022-03-28T12:43:11.639103",
     "exception": false,
     "start_time": "2022-03-28T12:43:11.330096",
     "status": "completed"
    },
    "tags": []
   },
   "outputs": [
    {
     "data": {
      "text/plain": [
       "<AxesSubplot:title={'center':'Per Domain Validation Accuracy'}, xlabel='domain'>"
      ]
     },
     "execution_count": 27,
     "metadata": {},
     "output_type": "execute_result"
    },
    {
     "data": {
      "image/png": "[encoded data removed]",
      "text/plain": [
       "<Figure size 1080x504 with 1 Axes>"
      ]
     },
     "metadata": {
      "needs_background": "light"
     },
     "output_type": "display_data"
    }
   ],
   "source": [
    "get_domain_accuracies(experiment)"
   ]
  },
  {
   "cell_type": "code",
   "execution_count": 28,
   "id": "a74ae082",
   "metadata": {
    "execution": {
     "iopub.execute_input": "2022-03-28T12:43:11.763851Z",
     "iopub.status.busy": "2022-03-28T12:43:11.763469Z",
     "iopub.status.idle": "2022-03-28T12:43:11.791260Z",
     "shell.execute_reply": "2022-03-28T12:43:11.790455Z"
    },
    "papermill": {
     "duration": 0.090147,
     "end_time": "2022-03-28T12:43:11.791414",
     "exception": false,
     "start_time": "2022-03-28T12:43:11.701267",
     "status": "completed"
    },
    "tags": []
   },
   "outputs": [
    {
     "name": "stdout",
     "output_type": "stream",
     "text": [
      "Source Test Label Accuracy: 0.9991582491582491 Target Test Label Accuracy: 0.39847005208333336\n",
      "Source Val Label Accuracy: 0.9993935502283106 Target Val Label Accuracy: 0.3919596354166667\n"
     ]
    }
   ],
   "source": [
    "print(\"Source Test Label Accuracy:\", experiment[\"results\"][\"source_test_label_accuracy\"], \"Target Test Label Accuracy:\", experiment[\"results\"][\"target_test_label_accuracy\"])\n",
    "print(\"Source Val Label Accuracy:\", experiment[\"results\"][\"source_val_label_accuracy\"], \"Target Val Label Accuracy:\", experiment[\"results\"][\"target_val_label_accuracy\"])"
   ]
  },
  {
   "cell_type": "code",
   "execution_count": 29,
   "id": "dacca602",
   "metadata": {
    "execution": {
     "iopub.execute_input": "2022-03-28T12:43:11.918336Z",
     "iopub.status.busy": "2022-03-28T12:43:11.917407Z",
     "iopub.status.idle": "2022-03-28T12:43:11.940049Z",
     "shell.execute_reply": "2022-03-28T12:43:11.940565Z"
    },
    "papermill": {
     "duration": 0.085461,
     "end_time": "2022-03-28T12:43:11.940702",
     "exception": false,
     "start_time": "2022-03-28T12:43:11.855241",
     "status": "completed"
    },
    "tags": [
     "experiment_json"
    ]
   },
   "outputs": [
    {
     "data": {
      "text/plain": [
       "'{\"experiment_name\": \"tl_3-jitter5v2:cores -> oracle.run1.framed\", \"parameters\": {\"experiment_name\": \"tl_3-jitter5v2:cores -> oracle.run1.framed\", \"device\": \"cuda\", \"lr\": 0.0001, \"x_shape\": [2, 256], \"n_shot\": 3, \"n_query\": 2, \"train_k_factor\": 3, \"val_k_factor\": 2, \"test_k_factor\": 2, \"torch_default_dtype\": \"torch.float32\", \"n_epoch\": 50, \"patience\": 3, \"criteria_for_best\": \"target_accuracy\", \"x_net\": [{\"class\": \"nnReshape\", \"kargs\": {\"shape\": [-1, 1, 2, 256]}}, {\"class\": \"Conv2d\", \"kargs\": {\"in_channels\": 1, \"out_channels\": 256, \"kernel_size\": [1, 7], \"bias\": false, \"padding\": [0, 3]}}, {\"class\": \"ReLU\", \"kargs\": {\"inplace\": true}}, {\"class\": \"BatchNorm2d\", \"kargs\": {\"num_features\": 256}}, {\"class\": \"Conv2d\", \"kargs\": {\"in_channels\": 256, \"out_channels\": 80, \"kernel_size\": [2, 7], \"bias\": true, \"padding\": [0, 3]}}, {\"class\": \"ReLU\", \"kargs\": {\"inplace\": true}}, {\"class\": \"BatchNorm2d\", \"kargs\": {\"num_features\": 80}}, {\"class\": \"Flatten\", \"kargs\": {}}, {\"class\": \"Linear\", \"kargs\": {\"in_features\": 20480, \"out_features\": 256}}, {\"class\": \"ReLU\", \"kargs\": {\"inplace\": true}}, {\"class\": \"BatchNorm1d\", \"kargs\": {\"num_features\": 256}}, {\"class\": \"Linear\", \"kargs\": {\"in_features\": 256, \"out_features\": 256}}], \"NUM_LOGS_PER_EPOCH\": 10, \"BEST_MODEL_PATH\": \"./best_model.pth\", \"n_way\": 16, \"datasets\": [{\"labels\": [\"1-10.\", \"1-11.\", \"1-15.\", \"1-16.\", \"1-17.\", \"1-18.\", \"1-19.\", \"10-4.\", \"10-7.\", \"11-1.\", \"11-14.\", \"11-17.\", \"11-20.\", \"11-7.\", \"13-20.\", \"13-8.\", \"14-10.\", \"14-11.\", \"14-14.\", \"14-7.\", \"15-1.\", \"15-20.\", \"16-1.\", \"16-16.\", \"17-10.\", \"17-11.\", \"17-2.\", \"19-1.\", \"19-16.\", \"19-19.\", \"19-20.\", \"19-3.\", \"2-10.\", \"2-11.\", \"2-17.\", \"2-18.\", \"2-20.\", \"2-3.\", \"2-4.\", \"2-5.\", \"2-6.\", \"2-7.\", \"2-8.\", \"3-13.\", \"3-18.\", \"3-3.\", \"4-1.\", \"4-10.\", \"4-11.\", \"4-19.\", \"5-5.\", \"6-15.\", \"7-10.\", \"7-14.\", \"8-18.\", \"8-20.\", \"8-3.\", \"8-8.\"], \"domains\": [1, 2, 3, 4, 5], \"num_examples_per_domain_per_label\": -1, \"pickle_path\": \"/root/csc500-main/datasets/cores.stratified_ds.2022A.pkl\", \"source_or_target_dataset\": \"source\", \"x_transforms\": [\"unit_mag\", \"jitter_256_5\", \"lowpass_+/-10MHz\", \"take_200\"], \"episode_transforms\": [], \"domain_prefix\": \"C_\"}, {\"labels\": [\"3123D52\", \"3123D65\", \"3123D79\", \"3123D80\", \"3123D54\", \"3123D70\", \"3123D7B\", \"3123D89\", \"3123D58\", \"3123D76\", \"3123D7D\", \"3123EFE\", \"3123D64\", \"3123D78\", \"3123D7E\", \"3124E4A\"], \"domains\": [32, 38, 8, 44, 14, 50, 20, 26], \"num_examples_per_domain_per_label\": 2000, \"pickle_path\": \"/root/csc500-main/datasets/oracle.Run1_framed_2000Examples_stratified_ds.2022A.pkl\", \"source_or_target_dataset\": \"target\", \"x_transforms\": [\"unit_mag\", \"jitter_256_5\", \"take_200\", \"resample_20Msps_to_25Msps\"], \"episode_transforms\": [], \"domain_prefix\": \"O_\"}], \"seed\": 1337, \"dataset_seed\": 1337, \"domains_source\": [\"C_1\", \"C_2\", \"C_3\", \"C_4\", \"C_5\"], \"domains_target\": [\"O_32\", \"O_38\", \"O_8\", \"O_44\", \"O_14\", \"O_50\", \"O_20\", \"O_26\"]}, \"results\": {\"source_test_label_accuracy\": 0.9991582491582491, \"source_test_label_loss\": 0.005652023013681173, \"target_test_label_accuracy\": 0.39847005208333336, \"target_test_label_loss\": 1.7205240726470947, \"source_val_label_accuracy\": 0.9993935502283106, \"source_val_label_loss\": 0.007313874084502459, \"target_val_label_accuracy\": 0.3919596354166667, \"target_val_label_loss\": 1.7339825630187988, \"total_epochs_trained\": 11, \"total_experiment_time_secs\": 1740.8490335941315, \"confusion\": {\"C_3\": {\"43\": {\"43\": 128}, \"9\": {\"9\": 150}, \"6\": {\"6\": 87, \"26\": 1}, \"3\": {\"3\": 144}, \"16\": {\"16\": 134}, \"51\": {\"51\": 128}, \"31\": {\"31\": 28}, \"46\": {\"46\": 134}, \"19\": {\"19\": 124}, \"8\": {\"8\": 152}, \"18\": {\"18\": 84}, \"37\": {\"37\": 28}, \"24\": {\"24\": 104}, \"10\": {\"10\": 64}, \"44\": {\"44\": 88}, \"14\": {\"14\": 40}, \"38\": {\"38\": 28}, \"53\": {\"53\": 140}, \"20\": {\"20\": 132}, \"32\": {\"32\": 28}, \"36\": {\"36\": 100}, \"33\": {\"33\": 28}, \"56\": {\"56\": 136}, \"23\": {\"23\": 130}, \"54\": {\"54\": 100}, \"21\": {\"21\": 126}, \"28\": {\"28\": 28}, \"26\": {\"26\": 24}, \"48\": {\"48\": 116}, \"52\": {\"52\": 118}, \"39\": {\"39\": 16}, \"22\": {\"22\": 140}, \"13\": {\"13\": 128}, \"2\": {\"2\": 32}, \"34\": {\"34\": 32}, \"27\": {\"27\": 132}, \"45\": {\"45\": 60}, \"35\": {\"35\": 28}, \"29\": {\"29\": 128}, \"25\": {\"25\": 144}, \"0\": {\"0\": 124}, \"41\": {\"41\": 28}, \"11\": {\"11\": 142}, \"5\": {\"5\": 108}, \"1\": {\"1\": 100}, \"57\": {\"57\": 116}, \"17\": {\"17\": 106, \"10\": 1, \"24\": 1}, \"7\": {\"7\": 36}, \"12\": {\"12\": 92}, \"47\": {\"47\": 92}, \"40\": {\"40\": 136}, \"15\": {\"15\": 142}, \"42\": {\"42\": 28}, \"55\": {\"55\": 150}, \"49\": {\"49\": 20}, \"30\": {\"30\": 120}, \"50\": {\"50\": 134}, \"4\": {\"4\": 136}}, \"C_4\": {\"35\": {\"35\": 40}, \"25\": {\"25\": 134}, \"24\": {\"24\": 56}, \"48\": {\"48\": 138}, \"51\": {\"51\": 144}, \"13\": {\"13\": 120}, \"14\": {\"14\": 16}, \"32\": {\"32\": 24}, \"30\": {\"30\": 44}, \"34\": {\"34\": 24}, \"9\": {\"9\": 136}, \"1\": {\"1\": 40}, \"0\": {\"0\": 80}, \"38\": {\"38\": 40}, \"22\": {\"22\": 128}, \"40\": {\"40\": 120}, \"6\": {\"6\": 111, \"52\": 1}, \"16\": {\"16\": 96}, \"11\": {\"11\": 104}, \"20\": {\"20\": 122}, \"17\": {\"17\": 80}, \"26\": {\"26\": 24}, \"54\": {\"54\": 108}, \"55\": {\"55\": 154}, \"50\": {\"50\": 129, \"43\": 1, \"3\": 2}, \"19\": {\"19\": 142}, \"44\": {\"44\": 122}, \"47\": {\"47\": 120}, \"33\": {\"33\": 36}, \"5\": {\"5\": 107, \"16\": 1}, \"18\": {\"18\": 108}, \"21\": {\"21\": 124}, \"41\": {\"41\": 36}, \"23\": {\"23\": 128}, \"39\": {\"39\": 20}, \"37\": {\"37\": 24}, \"8\": {\"8\": 144}, \"49\": {\"49\": 20}, \"53\": {\"53\": 140}, \"31\": {\"31\": 28}, \"28\": {\"28\": 32}, \"3\": {\"3\": 123, \"50\": 1}, \"27\": {\"27\": 138}, \"46\": {\"46\": 127, \"47\": 1}, \"12\": {\"12\": 92}, \"7\": {\"7\": 24}, \"4\": {\"4\": 132}, \"42\": {\"42\": 32}, \"43\": {\"43\": 130}, \"29\": {\"29\": 120}, \"57\": {\"57\": 100}, \"52\": {\"52\": 104}, \"45\": {\"45\": 96}, \"36\": {\"36\": 92}, \"10\": {\"10\": 126}, \"15\": {\"15\": 134}, \"56\": {\"56\": 124}, \"2\": {\"2\": 36}}, \"C_5\": {\"47\": {\"47\": 100}, \"53\": {\"53\": 150}, \"29\": {\"29\": 126}, \"52\": {\"52\": 130}, \"55\": {\"55\": 144}, \"17\": {\"17\": 116}, \"42\": {\"42\": 40}, \"33\": {\"33\": 32}, \"11\": {\"11\": 148}, \"19\": {\"19\": 118}, \"1\": {\"1\": 144}, \"44\": {\"44\": 142}, \"49\": {\"49\": 36}, \"4\": {\"4\": 100}, \"6\": {\"6\": 116}, \"39\": {\"39\": 20}, \"50\": {\"50\": 145, \"25\": 1, \"20\": 1, \"6\": 1}, \"56\": {\"56\": 130}, \"25\": {\"25\": 144}, \"28\": {\"28\": 32}, \"35\": {\"35\": 36}, \"24\": {\"24\": 80}, \"21\": {\"21\": 132}, \"45\": {\"45\": 123, \"9\": 1}, \"16\": {\"16\": 144}, \"37\": {\"37\": 24}, \"57\": {\"57\": 132}, \"34\": {\"34\": 36}, \"38\": {\"38\": 32}, \"48\": {\"48\": 130}, \"26\": {\"26\": 24}, \"9\": {\"9\": 152}, \"18\": {\"18\": 63, \"50\": 1}, \"3\": {\"3\": 100}, \"23\": {\"23\": 124}, \"15\": {\"15\": 154}, \"10\": {\"10\": 68}, \"46\": {\"46\": 148}, \"22\": {\"22\": 28}, \"54\": {\"54\": 112}, \"27\": {\"27\": 160}, \"41\": {\"41\": 28}, \"31\": {\"31\": 36}, \"0\": {\"0\": 124}, \"7\": {\"7\": 32}, \"2\": {\"2\": 28}, \"14\": {\"14\": 43, \"57\": 1}, \"40\": {\"40\": 124}, \"5\": {\"5\": 128}, \"12\": {\"12\": 96}, \"43\": {\"43\": 142}, \"13\": {\"13\": 148}, \"36\": {\"36\": 92}, \"8\": {\"8\": 150}, \"32\": {\"32\": 32}, \"30\": {\"30\": 128}, \"51\": {\"51\": 138}, \"20\": {\"20\": 138}}, \"C_1\": {\"46\": {\"46\": 140}, \"16\": {\"16\": 134}, \"26\": {\"26\": 24}, \"10\": {\"10\": 96}, \"9\": {\"9\": 156}, \"28\": {\"28\": 28}, \"51\": {\"51\": 156}, \"1\": {\"1\": 100}, \"55\": {\"55\": 148}, \"27\": {\"27\": 124}, \"22\": {\"22\": 124}, \"52\": {\"52\": 126}, \"3\": {\"3\": 140}, \"33\": {\"33\": 32}, \"47\": {\"47\": 120}, \"42\": {\"42\": 40}, \"12\": {\"12\": 116}, \"23\": {\"23\": 132}, \"49\": {\"49\": 32}, \"7\": {\"7\": 28}, \"4\": {\"4\": 132}, \"50\": {\"50\": 134}, \"19\": {\"19\": 154}, \"11\": {\"11\": 140}, \"31\": {\"31\": 28}, \"41\": {\"41\": 24}, \"56\": {\"56\": 138}, \"0\": {\"0\": 148}, \"57\": {\"57\": 128}, \"53\": {\"53\": 140}, \"43\": {\"43\": 144}, \"37\": {\"37\": 32}, \"2\": {\"2\": 36}, \"6\": {\"6\": 96}, \"13\": {\"13\": 150}, \"18\": {\"18\": 72}, \"36\": {\"36\": 64}, \"29\": {\"29\": 140}, \"39\": {\"39\": 28}, \"17\": {\"17\": 64}, \"21\": {\"21\": 124}, \"25\": {\"25\": 132}, \"45\": {\"45\": 142}, \"38\": {\"38\": 24}, \"30\": {\"30\": 120}, \"24\": {\"24\": 108}, \"20\": {\"20\": 140}, \"8\": {\"8\": 140}, \"35\": {\"35\": 36}, \"54\": {\"54\": 104}, \"5\": {\"5\": 148}, \"48\": {\"48\": 144}, \"15\": {\"15\": 142}, \"34\": {\"34\": 24}, \"14\": {\"14\": 24}, \"32\": {\"32\": 32}, \"40\": {\"40\": 148}, \"44\": {\"44\": 136}}, \"C_2\": {\"36\": {\"36\": 116}, \"5\": {\"5\": 120}, \"45\": {\"45\": 128}, \"49\": {\"49\": 24}, \"50\": {\"50\": 136}, \"4\": {\"4\": 138}, \"43\": {\"43\": 148}, \"41\": {\"41\": 20}, \"37\": {\"37\": 36}, \"12\": {\"12\": 92}, \"33\": {\"33\": 28}, \"7\": {\"7\": 36}, \"56\": {\"56\": 140}, \"14\": {\"14\": 23, \"0\": 1}, \"52\": {\"52\": 124}, \"44\": {\"44\": 96}, \"48\": {\"48\": 144}, \"20\": {\"20\": 128}, \"55\": {\"55\": 144}, \"32\": {\"32\": 28}, \"40\": {\"40\": 136}, \"54\": {\"54\": 108}, \"17\": {\"17\": 104}, \"38\": {\"38\": 20}, \"24\": {\"24\": 96}, \"1\": {\"1\": 112}, \"6\": {\"6\": 124}, \"34\": {\"34\": 28}, \"11\": {\"11\": 136}, \"9\": {\"9\": 150}, \"8\": {\"8\": 152}, \"22\": {\"22\": 136}, \"26\": {\"26\": 24}, \"23\": {\"23\": 146}, \"10\": {\"10\": 112}, \"18\": {\"18\": 48}, \"13\": {\"13\": 116}, \"30\": {\"30\": 128}, \"42\": {\"42\": 36}, \"31\": {\"31\": 28}, \"46\": {\"46\": 128}, \"57\": {\"57\": 142}, \"47\": {\"47\": 138}, \"35\": {\"35\": 32}, \"15\": {\"15\": 132}, \"25\": {\"25\": 136}, \"19\": {\"19\": 136}, \"51\": {\"51\": 128}, \"53\": {\"53\": 134}, \"21\": {\"21\": 120}, \"39\": {\"39\": 28}, \"2\": {\"2\": 32}, \"16\": {\"16\": 150}, \"0\": {\"0\": 48}, \"3\": {\"3\": 92}, \"27\": {\"27\": 142}, \"28\": {\"28\": 28}, \"29\": {\"29\": 128}}, \"O_14\": {\"15\": {\"15\": 149, \"7\": 59, \"1\": 9, \"5\": 10, \"4\": 4, \"2\": 7, \"13\": 1, \"6\": 1}, \"3\": {\"14\": 20, \"10\": 13, \"4\": 38, \"3\": 68, \"2\": 27, \"5\": 31, \"0\": 18, \"8\": 7, \"1\": 11, \"13\": 4, \"6\": 3}, \"6\": {\"6\": 70, \"13\": 63, \"10\": 5, \"2\": 40, \"4\": 16, \"14\": 32, \"15\": 7, \"3\": 4, \"5\": 3}, \"1\": {\"5\": 66, \"3\": 14, \"1\": 91, \"4\": 26, \"2\": 10, \"7\": 9, \"15\": 18, \"8\": 6}, \"8\": {\"8\": 201, \"1\": 10, \"3\": 10, \"0\": 8, \"5\": 3, \"4\": 6, \"9\": 2}, \"10\": {\"0\": 54, \"10\": 120, \"3\": 15, \"6\": 5, \"13\": 10, \"2\": 1, \"14\": 12, \"11\": 14, \"4\": 5, \"8\": 1, \"9\": 2, \"1\": 1}, \"9\": {\"9\": 151, \"0\": 10, \"12\": 35, \"11\": 31, \"8\": 8, \"10\": 5}, \"13\": {\"6\": 61, \"14\": 37, \"2\": 34, \"3\": 7, \"4\": 8, \"13\": 67, \"1\": 3, \"10\": 9, \"0\": 6, \"15\": 3, \"5\": 4, \"11\": 1}, \"12\": {\"12\": 194, \"9\": 41, \"11\": 5}, \"5\": {\"3\": 26, \"8\": 5, \"5\": 54, \"7\": 9, \"4\": 43, \"2\": 31, \"1\": 47, \"13\": 4, \"14\": 7, \"15\": 10, \"6\": 3, \"0\": 1}, \"0\": {\"0\": 100, \"10\": 45, \"3\": 19, \"9\": 20, \"8\": 8, \"4\": 5, \"14\": 12, \"11\": 25, \"5\": 2, \"13\": 1, \"2\": 3}, \"2\": {\"2\": 54, \"6\": 37, \"5\": 26, \"3\": 17, \"14\": 32, \"15\": 10, \"13\": 14, \"4\": 27, \"10\": 4, \"0\": 3, \"1\": 13, \"7\": 2, \"8\": 1}, \"11\": {\"11\": 152, \"10\": 16, \"0\": 29, \"9\": 32, \"12\": 8, \"8\": 1, \"14\": 1, \"3\": 1}, \"14\": {\"3\": 29, \"5\": 10, \"14\": 65, \"6\": 29, \"2\": 24, \"13\": 34, \"0\": 13, \"4\": 15, \"10\": 18, \"11\": 1, \"1\": 1, \"7\": 1}, \"7\": {\"7\": 149, \"15\": 58, \"1\": 19, \"2\": 4, \"5\": 8, \"13\": 1, \"14\": 1}, \"4\": {\"3\": 44, \"14\": 21, \"4\": 50, \"7\": 2, \"2\": 28, \"1\": 29, \"13\": 9, \"5\": 31, \"10\": 4, \"15\": 4, \"6\": 13, \"0\": 3, \"8\": 2}}, \"O_20\": {\"3\": {\"2\": 22, \"12\": 18, \"4\": 23, \"9\": 25, \"6\": 5, \"5\": 18, \"3\": 23, \"15\": 22, \"14\": 8, \"1\": 20, \"13\": 11, \"7\": 18, \"8\": 12, \"10\": 6, \"0\": 9}, \"15\": {\"5\": 42, \"13\": 19, \"9\": 19, \"3\": 17, \"7\": 12, \"15\": 42, \"0\": 23, \"1\": 24, \"4\": 2, \"2\": 12, \"12\": 23, \"8\": 4, \"11\": 1}, \"8\": {\"4\": 35, \"12\": 7, \"10\": 9, \"8\": 49, \"5\": 15, \"9\": 9, \"7\": 17, \"14\": 33, \"6\": 22, \"0\": 24, \"2\": 7, \"3\": 7, \"13\": 4, \"1\": 2}, \"4\": {\"13\": 2, \"4\": 49, \"8\": 35, \"10\": 26, \"6\": 12, \"0\": 15, \"1\": 6, \"14\": 23, \"5\": 15, \"7\": 11, \"3\": 20, \"2\": 7, \"12\": 9, \"9\": 7, \"15\": 3}, \"14\": {\"6\": 65, \"14\": 62, \"7\": 13, \"8\": 26, \"4\": 11, \"10\": 43, \"0\": 3, \"3\": 7, \"13\": 2, \"5\": 1, \"2\": 3, \"11\": 2, \"12\": 1, \"9\": 1}, \"0\": {\"2\": 6, \"4\": 12, \"0\": 78, \"3\": 15, \"12\": 16, \"9\": 7, \"5\": 33, \"1\": 10, \"15\": 27, \"7\": 8, \"8\": 16, \"13\": 7, \"6\": 3, \"14\": 2}, \"7\": {\"3\": 18, \"10\": 18, \"4\": 10, \"6\": 25, \"8\": 22, \"7\": 30, \"2\": 27, \"12\": 9, \"5\": 11, \"9\": 24, \"1\": 6, \"13\": 16, \"0\": 2, \"14\": 13, \"11\": 7, \"15\": 2}, \"6\": {\"6\": 85, \"0\": 3, \"8\": 14, \"14\": 37, \"12\": 5, \"7\": 18, \"2\": 14, \"11\": 15, \"10\": 23, \"4\": 12, \"9\": 7, \"5\": 1, \"13\": 3, \"3\": 3}, \"10\": {\"10\": 79, \"4\": 29, \"8\": 16, \"14\": 49, \"6\": 19, \"3\": 14, \"0\": 1, \"7\": 13, \"9\": 7, \"2\": 5, \"12\": 6, \"13\": 1, \"11\": 1}, \"5\": {\"2\": 13, \"5\": 37, \"15\": 32, \"12\": 22, \"1\": 42, \"7\": 8, \"9\": 7, \"8\": 10, \"3\": 14, \"4\": 12, \"13\": 7, \"0\": 34, \"10\": 1, \"14\": 1}, \"2\": {\"11\": 9, \"2\": 31, \"10\": 10, \"7\": 22, \"14\": 5, \"12\": 23, \"13\": 27, \"9\": 23, \"3\": 20, \"4\": 4, \"15\": 19, \"5\": 8, \"1\": 18, \"8\": 7, \"6\": 11, \"0\": 3}, \"12\": {\"8\": 3, \"9\": 24, \"7\": 18, \"4\": 11, \"2\": 26, \"12\": 37, \"1\": 22, \"13\": 11, \"3\": 39, \"5\": 15, \"10\": 5, \"0\": 11, \"15\": 16, \"14\": 1, \"6\": 1}, \"9\": {\"10\": 15, \"3\": 23, \"4\": 9, \"2\": 22, \"8\": 9, \"9\": 31, \"11\": 5, \"12\": 20, \"1\": 19, \"13\": 23, \"0\": 5, \"15\": 19, \"7\": 22, \"6\": 7, \"5\": 9, \"14\": 2}, \"1\": {\"15\": 30, \"2\": 21, \"5\": 22, \"3\": 24, \"12\": 37, \"1\": 32, \"4\": 12, \"0\": 17, \"10\": 3, \"13\": 12, \"7\": 8, \"9\": 16, \"6\": 1, \"11\": 1, \"8\": 2, \"14\": 2}, \"11\": {\"11\": 165, \"13\": 20, \"6\": 24, \"5\": 2, \"7\": 15, \"14\": 3, \"9\": 2, \"2\": 5, \"10\": 3, \"8\": 1}, \"13\": {\"3\": 13, \"7\": 21, \"13\": 65, \"12\": 23, \"5\": 14, \"9\": 20, \"11\": 16, \"2\": 23, \"0\": 7, \"15\": 23, \"8\": 3, \"1\": 9, \"6\": 2, \"10\": 1}}, \"O_38\": {\"5\": {\"1\": 18, \"8\": 34, \"0\": 31, \"3\": 5, \"7\": 35, \"6\": 24, \"15\": 18, \"5\": 50, \"13\": 14, \"9\": 6, \"10\": 5}, \"8\": {\"8\": 80, \"0\": 30, \"7\": 23, \"5\": 30, \"1\": 12, \"10\": 18, \"15\": 25, \"13\": 11, \"9\": 1, \"6\": 7, \"2\": 1, \"12\": 1, \"3\": 1}, \"11\": {\"11\": 108, \"10\": 13, \"14\": 86, \"2\": 19, \"12\": 10, \"13\": 2, \"15\": 2}, \"1\": {\"1\": 139, \"13\": 24, \"6\": 6, \"15\": 35, \"5\": 24, \"8\": 9, \"9\": 3}, \"10\": {\"15\": 26, \"10\": 93, \"8\": 23, \"13\": 35, \"2\": 18, \"14\": 16, \"12\": 5, \"7\": 6, \"11\": 11, \"1\": 1, \"5\": 3, \"4\": 2, \"0\": 1}, \"15\": {\"10\": 19, \"15\": 77, \"8\": 20, \"2\": 15, \"1\": 28, \"6\": 1, \"13\": 57, \"5\": 17, \"7\": 3, \"9\": 1, \"0\": 2}, \"3\": {\"3\": 149, \"7\": 11, \"0\": 21, \"9\": 34, \"6\": 19, \"5\": 5, \"8\": 1}, \"7\": {\"9\": 2, \"0\": 49, \"7\": 120, \"5\": 23, \"15\": 4, \"8\": 25, \"6\": 3, \"10\": 5, \"13\": 2, \"3\": 6, \"12\": 1}, \"4\": {\"4\": 198, \"12\": 38, \"15\": 1, \"10\": 2, \"7\": 1}, \"14\": {\"11\": 78, \"14\": 115, \"10\": 14, \"2\": 27, \"13\": 3, \"12\": 3}, \"9\": {\"9\": 98, \"6\": 85, \"3\": 39, \"5\": 14, \"1\": 2, \"0\": 1, \"8\": 1}, \"12\": {\"12\": 192, \"14\": 5, \"4\": 35, \"0\": 1, \"11\": 3, \"2\": 1, \"10\": 3}, \"6\": {\"5\": 21, \"6\": 112, \"9\": 76, \"1\": 7, \"3\": 8, \"0\": 6, \"7\": 6, \"8\": 4}, \"2\": {\"14\": 39, \"15\": 11, \"2\": 143, \"10\": 10, \"11\": 12, \"13\": 23, \"1\": 2}, \"0\": {\"8\": 55, \"0\": 57, \"7\": 40, \"5\": 29, \"15\": 8, \"6\": 8, \"3\": 18, \"4\": 3, \"9\": 5, \"1\": 6, \"10\": 6, \"13\": 4, \"12\": 1}, \"13\": {\"13\": 89, \"15\": 40, \"10\": 33, \"0\": 3, \"5\": 7, \"2\": 30, \"1\": 21, \"7\": 1, \"14\": 4, \"11\": 2, \"8\": 10}}, \"O_8\": {\"9\": {\"9\": 234, \"13\": 1, \"5\": 3, \"10\": 2}, \"10\": {\"5\": 32, \"10\": 40, \"0\": 19, \"1\": 17, \"14\": 36, \"4\": 36, \"11\": 6, \"6\": 19, \"13\": 31, \"8\": 1, \"7\": 3}, \"13\": {\"0\": 47, \"5\": 13, \"8\": 4, \"13\": 39, \"7\": 22, \"6\": 25, \"14\": 22, \"10\": 32, \"4\": 25, \"1\": 6, \"12\": 1, \"2\": 3, \"11\": 1}, \"0\": {\"0\": 53, \"13\": 35, \"4\": 22, \"6\": 23, \"7\": 50, \"10\": 18, \"14\": 17, \"2\": 9, \"5\": 2, \"15\": 3, \"3\": 3, \"8\": 1, \"9\": 1, \"1\": 2, \"12\": 1}, \"1\": {\"11\": 59, \"13\": 7, \"5\": 30, \"10\": 12, \"14\": 24, \"1\": 75, \"7\": 2, \"4\": 16, \"8\": 12, \"6\": 3}, \"15\": {\"15\": 75, \"3\": 19, \"2\": 14, \"12\": 68, \"6\": 11, \"7\": 14, \"14\": 2, \"4\": 5, \"8\": 27, \"13\": 1, \"1\": 2, \"0\": 2}, \"5\": {\"5\": 93, \"10\": 24, \"1\": 44, \"11\": 28, \"4\": 8, \"14\": 29, \"13\": 7, \"8\": 1, \"9\": 1, \"6\": 1, \"7\": 2, \"0\": 2}, \"3\": {\"2\": 63, \"12\": 36, \"3\": 104, \"7\": 5, \"8\": 1, \"6\": 4, \"15\": 26, \"0\": 1}, \"6\": {\"4\": 32, \"6\": 44, \"10\": 17, \"12\": 3, \"7\": 34, \"0\": 29, \"11\": 4, \"14\": 12, \"2\": 7, \"13\": 21, \"15\": 16, \"8\": 15, \"1\": 4, \"5\": 2}, \"11\": {\"1\": 73, \"11\": 94, \"13\": 3, \"5\": 27, \"14\": 12, \"8\": 9, \"4\": 9, \"10\": 7, \"15\": 2, \"6\": 3, \"7\": 1}, \"8\": {\"12\": 23, \"15\": 39, \"8\": 82, \"10\": 3, \"4\": 17, \"1\": 14, \"11\": 13, \"7\": 8, \"6\": 23, \"5\": 1, \"2\": 2, \"0\": 4, \"14\": 4, \"13\": 3, \"3\": 4}, \"4\": {\"10\": 27, \"8\": 7, \"15\": 6, \"6\": 24, \"4\": 37, \"14\": 35, \"7\": 24, \"13\": 32, \"11\": 5, \"0\": 26, \"12\": 1, \"1\": 9, \"5\": 6, \"2\": 1}, \"12\": {\"12\": 85, \"15\": 54, \"8\": 19, \"2\": 24, \"3\": 45, \"7\": 7, \"4\": 3, \"6\": 3}, \"14\": {\"14\": 35, \"1\": 18, \"5\": 20, \"10\": 35, \"13\": 23, \"4\": 30, \"0\": 15, \"11\": 21, \"6\": 24, \"8\": 5, \"7\": 12, \"15\": 1, \"12\": 1}, \"2\": {\"3\": 59, \"2\": 80, \"8\": 4, \"12\": 30, \"15\": 25, \"7\": 21, \"6\": 11, \"13\": 3, \"0\": 5, \"4\": 2}, \"7\": {\"3\": 6, \"7\": 50, \"8\": 6, \"6\": 44, \"2\": 19, \"0\": 37, \"4\": 18, \"11\": 3, \"13\": 17, \"10\": 7, \"15\": 15, \"14\": 9, \"1\": 2, \"12\": 7}}, \"O_50\": {\"7\": {\"5\": 42, \"7\": 80, \"1\": 3, \"13\": 53, \"10\": 35, \"4\": 3, \"6\": 13, \"8\": 6, \"3\": 1, \"0\": 4}, \"3\": {\"3\": 207, \"8\": 29, \"10\": 1, \"7\": 2, \"13\": 1}, \"8\": {\"3\": 45, \"8\": 142, \"10\": 40, \"2\": 1, \"7\": 4, \"0\": 8}, \"2\": {\"0\": 49, \"2\": 169, \"8\": 1, \"14\": 9, \"1\": 6, \"6\": 5, \"5\": 1}, \"14\": {\"14\": 127, \"12\": 47, \"9\": 13, \"11\": 30, \"15\": 1, \"1\": 10, \"6\": 1, \"4\": 2, \"2\": 8, \"0\": 1}, \"4\": {\"11\": 12, \"13\": 21, \"15\": 46, \"14\": 2, \"7\": 9, \"5\": 23, \"6\": 26, \"4\": 49, \"1\": 44, \"0\": 4, \"2\": 3, \"10\": 1}, \"6\": {\"6\": 74, \"4\": 31, \"13\": 32, \"1\": 33, \"15\": 18, \"5\": 18, \"7\": 13, \"0\": 10, \"10\": 5, \"2\": 5, \"11\": 1}, \"15\": {\"15\": 95, \"1\": 48, \"5\": 6, \"11\": 24, \"6\": 16, \"9\": 1, \"4\": 39, \"14\": 8, \"13\": 2, \"0\": 1}, \"10\": {\"13\": 23, \"7\": 36, \"10\": 101, \"0\": 32, \"8\": 33, \"5\": 9, \"6\": 4, \"2\": 2}, \"11\": {\"11\": 126, \"9\": 44, \"15\": 30, \"1\": 14, \"12\": 7, \"14\": 14, \"4\": 4, \"2\": 1}, \"13\": {\"5\": 43, \"13\": 75, \"7\": 47, \"2\": 1, \"6\": 21, \"10\": 25, \"1\": 9, \"8\": 1, \"4\": 12, \"0\": 5, \"15\": 1}, \"9\": {\"11\": 53, \"14\": 24, \"9\": 113, \"12\": 47, \"15\": 3}, \"0\": {\"2\": 54, \"0\": 117, \"13\": 9, \"5\": 9, \"6\": 4, \"10\": 30, \"4\": 3, \"1\": 6, \"8\": 4, \"7\": 4}, \"1\": {\"6\": 19, \"1\": 83, \"5\": 12, \"0\": 8, \"15\": 38, \"2\": 6, \"4\": 50, \"9\": 1, \"11\": 11, \"14\": 6, \"13\": 5, \"10\": 1}, \"12\": {\"9\": 36, \"14\": 39, \"12\": 156, \"11\": 8, \"1\": 1}, \"5\": {\"13\": 36, \"5\": 53, \"10\": 20, \"7\": 47, \"4\": 25, \"6\": 21, \"1\": 17, \"2\": 3, \"15\": 4, \"3\": 1, \"0\": 10, \"8\": 1, \"11\": 2}}, \"O_32\": {\"8\": {\"5\": 31, \"0\": 49, \"8\": 80, \"3\": 16, \"14\": 7, \"4\": 12, \"13\": 28, \"7\": 5, \"2\": 5, \"11\": 3, \"15\": 4}, \"14\": {\"0\": 11, \"11\": 58, \"5\": 12, \"2\": 12, \"7\": 34, \"14\": 67, \"13\": 18, \"4\": 13, \"8\": 9, \"3\": 6}, \"2\": {\"2\": 102, \"5\": 7, \"7\": 19, \"0\": 31, \"4\": 62, \"13\": 7, \"8\": 4, \"14\": 6, \"9\": 2}, \"0\": {\"4\": 27, \"8\": 39, \"0\": 82, \"2\": 39, \"7\": 15, \"13\": 17, \"14\": 7, \"5\": 10, \"3\": 3, \"11\": 1}, \"1\": {\"10\": 34, \"1\": 206}, \"10\": {\"10\": 201, \"1\": 33, \"6\": 4, \"12\": 2}, \"11\": {\"0\": 1, \"11\": 101, \"7\": 28, \"14\": 71, \"4\": 4, \"3\": 16, \"13\": 7, \"5\": 9, \"8\": 3}, \"5\": {\"4\": 32, \"11\": 14, \"5\": 51, \"7\": 23, \"14\": 18, \"3\": 23, \"13\": 41, \"2\": 10, \"8\": 20, \"0\": 8}, \"15\": {\"15\": 226, \"8\": 6, \"5\": 1, \"13\": 2, \"3\": 4, \"0\": 1}, \"3\": {\"3\": 132, \"5\": 20, \"14\": 13, \"13\": 31, \"8\": 19, \"15\": 2, \"7\": 10, \"0\": 1, \"11\": 10, \"4\": 2}, \"12\": {\"12\": 219, \"9\": 9, \"6\": 12}, \"7\": {\"0\": 19, \"13\": 28, \"7\": 53, \"3\": 12, \"11\": 20, \"5\": 18, \"14\": 43, \"8\": 7, \"4\": 26, \"2\": 14}, \"13\": {\"13\": 39, \"11\": 5, \"8\": 35, \"3\": 35, \"0\": 17, \"14\": 19, \"5\": 35, \"4\": 24, \"2\": 8, \"7\": 23}, \"6\": {\"6\": 232, \"12\": 5, \"10\": 3}, \"4\": {\"14\": 15, \"4\": 56, \"2\": 46, \"13\": 25, \"5\": 26, \"7\": 33, \"0\": 26, \"8\": 10, \"11\": 3}, \"9\": {\"9\": 220, \"12\": 18, \"2\": 1, \"4\": 1}}, \"O_26\": {\"4\": {\"6\": 11, \"4\": 32, \"1\": 33, \"10\": 22, \"8\": 21, \"0\": 22, \"9\": 11, \"7\": 23, \"3\": 7, \"5\": 9, \"2\": 11, \"14\": 32, \"15\": 5, \"13\": 1}, \"12\": {\"12\": 220, \"11\": 16, \"6\": 3, \"10\": 1}, \"10\": {\"4\": 19, \"10\": 29, \"2\": 6, \"0\": 38, \"8\": 24, \"1\": 21, \"15\": 10, \"14\": 35, \"9\": 11, \"7\": 11, \"6\": 24, \"13\": 6, \"3\": 2, \"5\": 3, \"12\": 1}, \"0\": {\"0\": 29, \"1\": 23, \"2\": 4, \"14\": 34, \"10\": 20, \"6\": 22, \"15\": 11, \"5\": 3, \"4\": 32, \"8\": 25, \"9\": 14, \"12\": 3, \"7\": 10, \"13\": 4, \"3\": 6}, \"13\": {\"5\": 38, \"15\": 33, \"8\": 8, \"6\": 16, \"13\": 81, \"9\": 17, \"3\": 9, \"10\": 1, \"0\": 3, \"2\": 17, \"7\": 9, \"11\": 2, \"4\": 3, \"14\": 2, \"12\": 1}, \"9\": {\"15\": 34, \"3\": 6, \"0\": 15, \"10\": 15, \"7\": 13, \"4\": 7, \"14\": 4, \"9\": 36, \"8\": 18, \"6\": 31, \"13\": 20, \"2\": 15, \"5\": 18, \"12\": 2, \"1\": 6}, \"3\": {\"8\": 14, \"7\": 38, \"3\": 60, \"6\": 1, \"14\": 7, \"2\": 58, \"13\": 6, \"4\": 11, \"5\": 13, \"0\": 8, \"15\": 8, \"9\": 7, \"1\": 7, \"10\": 2}, \"2\": {\"8\": 10, \"2\": 49, \"5\": 23, \"15\": 15, \"3\": 57, \"1\": 5, \"7\": 37, \"13\": 12, \"4\": 9, \"6\": 4, \"9\": 10, \"14\": 4, \"0\": 2, \"10\": 3}, \"5\": {\"13\": 51, \"8\": 8, \"10\": 7, \"9\": 12, \"2\": 28, \"15\": 32, \"5\": 52, \"6\": 10, \"3\": 19, \"7\": 12, \"4\": 2, \"1\": 3, \"0\": 3, \"14\": 1}, \"14\": {\"0\": 29, \"4\": 32, \"10\": 32, \"7\": 10, \"15\": 10, \"6\": 9, \"3\": 9, \"14\": 27, \"1\": 44, \"8\": 19, \"9\": 8, \"5\": 6, \"2\": 3, \"13\": 2}, \"8\": {\"13\": 9, \"14\": 16, \"6\": 19, \"9\": 26, \"0\": 20, \"4\": 26, \"7\": 19, \"3\": 12, \"10\": 21, \"15\": 20, \"1\": 14, \"8\": 18, \"2\": 7, \"5\": 13}, \"7\": {\"7\": 36, \"9\": 11, \"2\": 27, \"8\": 18, \"3\": 35, \"14\": 16, \"15\": 9, \"0\": 14, \"10\": 11, \"4\": 27, \"5\": 9, \"13\": 6, \"1\": 16, \"6\": 5}, \"6\": {\"10\": 24, \"15\": 26, \"6\": 54, \"7\": 6, \"0\": 20, \"9\": 28, \"4\": 11, \"14\": 7, \"8\": 20, \"13\": 20, \"12\": 2, \"5\": 11, \"2\": 2, \"3\": 2, \"1\": 5, \"11\": 2}, \"11\": {\"11\": 216, \"13\": 4, \"1\": 1, \"12\": 17, \"9\": 1, \"15\": 1}, \"15\": {\"2\": 13, \"6\": 15, \"5\": 29, \"9\": 21, \"1\": 4, \"10\": 15, \"13\": 32, \"4\": 7, \"15\": 40, \"3\": 18, \"0\": 9, \"8\": 16, \"7\": 13, \"14\": 7, \"11\": 1}, \"1\": {\"9\": 5, \"7\": 16, \"5\": 4, \"2\": 6, \"1\": 51, \"10\": 20, \"4\": 33, \"3\": 6, \"14\": 47, \"0\": 20, \"6\": 9, \"8\": 18, \"15\": 4, \"13\": 1}}, \"O_44\": {\"12\": {\"1\": 59, \"12\": 94, \"10\": 54, \"3\": 23, \"2\": 9, \"7\": 1}, \"7\": {\"7\": 75, \"9\": 49, \"6\": 13, \"1\": 10, \"2\": 61, \"13\": 17, \"10\": 9, \"12\": 2, \"3\": 4}, \"5\": {\"5\": 113, \"8\": 34, \"0\": 36, \"15\": 14, \"14\": 28, \"4\": 15}, \"15\": {\"14\": 43, \"15\": 92, \"4\": 19, \"0\": 41, \"5\": 13, \"8\": 32}, \"8\": {\"15\": 28, \"8\": 118, \"0\": 69, \"5\": 23, \"14\": 2}, \"2\": {\"2\": 87, \"1\": 27, \"10\": 36, \"3\": 12, \"7\": 49, \"9\": 19, \"12\": 6, \"6\": 4}, \"13\": {\"13\": 72, \"2\": 2, \"6\": 54, \"11\": 38, \"7\": 12, \"9\": 50, \"4\": 11, \"14\": 1}, \"4\": {\"14\": 79, \"4\": 102, \"5\": 17, \"0\": 5, \"15\": 27, \"13\": 6, \"9\": 4}, \"0\": {\"0\": 72, \"15\": 36, \"8\": 84, \"5\": 41, \"14\": 5, \"4\": 2}, \"6\": {\"2\": 8, \"13\": 69, \"6\": 95, \"11\": 13, \"9\": 35, \"7\": 19, \"4\": 1}, \"9\": {\"6\": 49, \"13\": 43, \"7\": 47, \"9\": 65, \"2\": 23, \"11\": 6, \"4\": 4, \"1\": 1, \"3\": 2}, \"11\": {\"11\": 169, \"9\": 5, \"13\": 37, \"6\": 21, \"7\": 6, \"4\": 2}, \"10\": {\"12\": 59, \"10\": 98, \"7\": 4, \"2\": 28, \"13\": 1, \"1\": 42, \"3\": 6, \"9\": 2}, \"14\": {\"4\": 74, \"15\": 40, \"14\": 69, \"5\": 35, \"8\": 6, \"0\": 9, \"13\": 6, \"11\": 1}, \"1\": {\"3\": 51, \"10\": 31, \"1\": 65, \"7\": 5, \"12\": 66, \"2\": 22}, \"3\": {\"3\": 121, \"12\": 28, \"1\": 64, \"10\": 15, \"2\": 7, \"9\": 2, \"7\": 3}}}, \"per_domain_accuracy\": {\"C_3\": {\"accuracy\": 0.9994549418604651, \"source?\": true}, \"C_4\": {\"accuracy\": 0.9986742424242424, \"source?\": true}, \"C_5\": {\"accuracy\": 0.9989525139664804, \"source?\": true}, \"C_1\": {\"accuracy\": 1.0, \"source?\": true}, \"C_2\": {\"accuracy\": 0.9998234463276836, \"source?\": true}, \"O_14\": {\"accuracy\": 0.4518229166666667, \"source?\": false}, \"O_20\": {\"accuracy\": 0.23307291666666666, \"source?\": false}, \"O_38\": {\"accuracy\": 0.4739583333333333, \"source?\": false}, \"O_8\": {\"accuracy\": 0.3177083333333333, \"source?\": false}, \"O_50\": {\"accuracy\": 0.46015625, \"source?\": false}, \"O_32\": {\"accuracy\": 0.53828125, \"source?\": false}, \"O_26\": {\"accuracy\": 0.2682291666666667, \"source?\": false}, \"O_44\": {\"accuracy\": 0.3924479166666667, \"source?\": false}}}, \"history\": {\"epoch_indices\": [1, 2, 3, 4, 5, 6, 7, 8, 9, 10, 11], \"train_label_loss\": [0.040847195882543416, 0.01427364682476836, 0.008498614094511409, 0.006216806877551038, 0.00511585708594482, 0.004403869089536704, 0.0044947718134371395, 0.0032389111448767353, 0.002839218167902358, 0.002924627376177098, 0.0018646043662943273], \"source_val_label_loss\": [0.3659765422344208, 0.02475588023662567, 0.011704716831445694, 0.006599760614335537, 0.007560196798294783, 0.012270107865333557, 0.007313874084502459, 0.007022680249065161, 0.008031739853322506, 0.012568037025630474, 0.00830601155757904], \"target_val_label_loss\": [2.0074925422668457, 2.599555015563965, 2.421236038208008, 2.0276618003845215, 1.921548843383789, 2.3857333660125732, 1.7339825630187988, 1.8557771444320679, 2.0967233180999756, 2.3664610385894775, 2.332749605178833], \"source_val_acc_label\": [0.9882990867579908, 0.9937214611872146, 0.9980022831050228, 0.9990011415525114, 0.9990724885844748, 0.9978239155251142, 0.9993935502283106, 0.9993578767123288, 0.9988584474885844, 0.9984303652968036, 0.9992151826484018], \"target_val_acc_label\": [0.31891276041666666, 0.26813151041666666, 0.30345052083333335, 0.33984375, 0.3681640625, 0.31227213541666665, 0.3919596354166667, 0.3746744791666667, 0.3483072916666667, 0.33583984375, 0.33642578125]}, \"dataset_metrics\": {\"source\": {\"train\": {\"n_unique_x\": 175173, \"n_unique_y\": 58, \"n_batch/episode\": 6325}, \"val\": {\"n_unique_x\": 37196, \"n_unique_y\": 58, \"n_batch/episode\": 876}, \"test\": {\"n_unique_x\": 37634, \"n_unique_y\": 58, \"n_batch/episode\": 891}}, \"target\": {\"train\": {\"n_unique_x\": 179200, \"n_unique_y\": 16, \"n_batch/episode\": 6720}, \"val\": {\"n_unique_x\": 38400, \"n_unique_y\": 16, \"n_batch/episode\": 960}, \"test\": {\"n_unique_x\": 38400, \"n_unique_y\": 16, \"n_batch/episode\": 960}}}}'"
      ]
     },
     "execution_count": 29,
     "metadata": {},
     "output_type": "execute_result"
    }
   ],
   "source": [
    "json.dumps(experiment)"
   ]
  }
 ],
 "metadata": {
  "celltoolbar": "Tags",
  "kernelspec": {
   "display_name": "Python 3 (ipykernel)",
   "language": "python",
   "name": "python3"
  },
  "language_info": {
   "codemirror_mode": {
    "name": "ipython",
    "version": 3
   },
   "file_extension": ".py",
   "mimetype": "text/x-python",
   "name": "python",
   "nbconvert_exporter": "python",
   "pygments_lexer": "ipython3",
   "version": "3.8.12"
  },
  "papermill": {
   "default_parameters": {},
   "duration": 1907.144969,
   "end_time": "2022-03-28T12:43:14.615682",
   "environment_variables": {},
   "exception": null,
   "input_path": "/root/csc500-main/csc500-notebooks/templates/tl_ptn_template.ipynb",
   "output_path": "trial.ipynb",
   "parameters": {
    "parameters": {
     "BEST_MODEL_PATH": "./best_model.pth",
     "NUM_LOGS_PER_EPOCH": 10,
     "criteria_for_best": "target_accuracy",
     "dataset_seed": 1337,
     "datasets": [
      {
       "domain_prefix": "C_",
       "domains": [
        1,
        2,
        3,
        4,
        5
       ],
       "episode_transforms": [],
       "labels": [
        "1-10.",
        "1-11.",
        "1-15.",
        "1-16.",
        "1-17.",
        "1-18.",
        "1-19.",
        "10-4.",
        "10-7.",
        "11-1.",
        "11-14.",
        "11-17.",
        "11-20.",
        "11-7.",
        "13-20.",
        "13-8.",
        "14-10.",
        "14-11.",
        "14-14.",
        "14-7.",
        "15-1.",
        "15-20.",
        "16-1.",
        "16-16.",
        "17-10.",
        "17-11.",
        "17-2.",
        "19-1.",
        "19-16.",
        "19-19.",
        "19-20.",
        "19-3.",
        "2-10.",
        "2-11.",
        "2-17.",
        "2-18.",
        "2-20.",
        "2-3.",
        "2-4.",
        "2-5.",
        "2-6.",
        "2-7.",
        "2-8.",
        "3-13.",
        "3-18.",
        "3-3.",
        "4-1.",
        "4-10.",
        "4-11.",
        "4-19.",
        "5-5.",
        "6-15.",
        "7-10.",
        "7-14.",
        "8-18.",
        "8-20.",
        "8-3.",
        "8-8."
       ],
       "num_examples_per_domain_per_label": -1,
       "pickle_path": "/root/csc500-main/datasets/cores.stratified_ds.2022A.pkl",
       "source_or_target_dataset": "source",
       "x_transforms": [
        "unit_mag",
        "jitter_256_5",
        "lowpass_+/-10MHz",
        "take_200"
       ]
      },
      {
       "domain_prefix": "O_",
       "domains": [
        32,
        38,
        8,
        44,
        14,
        50,
        20,
        26
       ],
       "episode_transforms": [],
       "labels": [
        "3123D52",
        "3123D65",
        "3123D79",
        "3123D80",
        "3123D54",
        "3123D70",
        "3123D7B",
        "3123D89",
        "3123D58",
        "3123D76",
        "3123D7D",
        "3123EFE",
        "3123D64",
        "3123D78",
        "3123D7E",
        "3124E4A"
       ],
       "num_examples_per_domain_per_label": 2000,
       "pickle_path": "/root/csc500-main/datasets/oracle.Run1_framed_2000Examples_stratified_ds.2022A.pkl",
       "source_or_target_dataset": "target",
       "x_transforms": [
        "unit_mag",
        "jitter_256_5",
        "take_200",
        "resample_20Msps_to_25Msps"
       ]
      }
     ],
     "device": "cuda",
     "experiment_name": "tl_3-jitter5v2:cores -> oracle.run1.framed",
     "lr": 0.0001,
     "n_epoch": 50,
     "n_query": 2,
     "n_shot": 3,
     "n_way": 16,
     "patience": 3,
     "seed": 1337,
     "test_k_factor": 2,
     "torch_default_dtype": "torch.float32",
     "train_k_factor": 3,
     "val_k_factor": 2,
     "x_net": [
      {
       "class": "nnReshape",
       "kargs": {
        "shape": [
         -1,
         1,
         2,
         256
        ]
       }
      },
      {
       "class": "Conv2d",
       "kargs": {
        "bias": false,
        "in_channels": 1,
        "kernel_size": [
         1,
         7
        ],
        "out_channels": 256,
        "padding": [
         0,
         3
        ]
       }
      },
      {
       "class": "ReLU",
       "kargs": {
        "inplace": true
       }
      },
      {
       "class": "BatchNorm2d",
       "kargs": {
        "num_features": 256
       }
      },
      {
       "class": "Conv2d",
       "kargs": {
        "bias": true,
        "in_channels": 256,
        "kernel_size": [
         2,
         7
        ],
        "out_channels": 80,
        "padding": [
         0,
         3
        ]
       }
      },
      {
       "class": "ReLU",
       "kargs": {
        "inplace": true
       }
      },
      {
       "class": "BatchNorm2d",
       "kargs": {
        "num_features": 80
       }
      },
      {
       "class": "Flatten",
       "kargs": {}
      },
      {
       "class": "Linear",
       "kargs": {
        "in_features": 20480,
        "out_features": 256
       }
      },
      {
       "class": "ReLU",
       "kargs": {
        "inplace": true
       }
      },
      {
       "class": "BatchNorm1d",
       "kargs": {
        "num_features": 256
       }
      },
      {
       "class": "Linear",
       "kargs": {
        "in_features": 256,
        "out_features": 256
       }
      }
     ],
     "x_shape": [
      2,
      256
     ]
    }
   },
   "start_time": "2022-03-28T12:11:27.470713",
   "version": "2.3.4"
  }
 },
 "nbformat": 4,
 "nbformat_minor": 5
}