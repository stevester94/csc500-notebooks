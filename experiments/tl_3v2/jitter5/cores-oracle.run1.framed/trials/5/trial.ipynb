{
 "cells": [
  {
   "cell_type": "markdown",
   "id": "9fea5f46",
   "metadata": {
    "papermill": {
     "duration": 0.029458,
     "end_time": "2022-03-28T13:10:04.122125",
     "exception": false,
     "start_time": "2022-03-28T13:10:04.092667",
     "status": "completed"
    },
    "tags": []
   },
   "source": [
    "# Transfer Learning Template"
   ]
  },
  {
   "cell_type": "code",
   "execution_count": 1,
   "id": "0902182a",
   "metadata": {
    "execution": {
     "iopub.execute_input": "2022-03-28T13:10:04.183785Z",
     "iopub.status.busy": "2022-03-28T13:10:04.171021Z",
     "iopub.status.idle": "2022-03-28T13:10:06.030681Z",
     "shell.execute_reply": "2022-03-28T13:10:06.030014Z"
    },
    "papermill": {
     "duration": 1.885866,
     "end_time": "2022-03-28T13:10:06.030851",
     "exception": false,
     "start_time": "2022-03-28T13:10:04.144985",
     "status": "completed"
    },
    "tags": []
   },
   "outputs": [],
   "source": [
    "%load_ext autoreload\n",
    "%autoreload 2\n",
    "%matplotlib inline\n",
    "\n",
    "    \n",
    "import os, json, sys, time, random\n",
    "import numpy as np\n",
    "import torch\n",
    "from torch.optim import Adam\n",
    "from  easydict import EasyDict\n",
    "import matplotlib.pyplot as plt\n",
    "\n",
    "from steves_models.steves_ptn import Steves_Prototypical_Network\n",
    "\n",
    "from steves_utils.lazy_iterable_wrapper import Lazy_Iterable_Wrapper\n",
    "from steves_utils.iterable_aggregator import Iterable_Aggregator\n",
    "from steves_utils.ptn_train_eval_test_jig import  PTN_Train_Eval_Test_Jig\n",
    "from steves_utils.torch_sequential_builder import build_sequential\n",
    "from steves_utils.torch_utils import get_dataset_metrics, ptn_confusion_by_domain_over_dataloader\n",
    "from steves_utils.utils_v2 import (per_domain_accuracy_from_confusion, get_datasets_base_path)\n",
    "from steves_utils.PTN.utils import independent_accuracy_assesment\n",
    "\n",
    "from torch.utils.data import DataLoader\n",
    "\n",
    "from steves_utils.stratified_dataset.episodic_accessor import Episodic_Accessor_Factory\n",
    "\n",
    "from steves_utils.ptn_do_report import (\n",
    "    get_loss_curve,\n",
    "    get_results_table,\n",
    "    get_parameters_table,\n",
    "    get_domain_accuracies,\n",
    ")\n",
    "\n",
    "from steves_utils.transforms import get_chained_transform"
   ]
  },
  {
   "cell_type": "markdown",
   "id": "41c840b4",
   "metadata": {
    "papermill": {
     "duration": 0.027262,
     "end_time": "2022-03-28T13:10:06.087878",
     "exception": false,
     "start_time": "2022-03-28T13:10:06.060616",
     "status": "completed"
    },
    "tags": []
   },
   "source": [
    "# Allowed Parameters\n",
    "These are allowed parameters, not defaults\n",
    "Each of these values need to be present in the injected parameters (the notebook will raise an exception if they are not present)\n",
    "\n",
    "Papermill uses the cell tag \"parameters\" to inject the real parameters below this cell.\n",
    "Enable tags to see what I mean"
   ]
  },
  {
   "cell_type": "code",
   "execution_count": 2,
   "id": "fd44eb83",
   "metadata": {
    "execution": {
     "iopub.execute_input": "2022-03-28T13:10:06.130114Z",
     "iopub.status.busy": "2022-03-28T13:10:06.129731Z",
     "iopub.status.idle": "2022-03-28T13:10:06.152232Z",
     "shell.execute_reply": "2022-03-28T13:10:06.151504Z"
    },
    "papermill": {
     "duration": 0.045657,
     "end_time": "2022-03-28T13:10:06.152391",
     "exception": false,
     "start_time": "2022-03-28T13:10:06.106734",
     "status": "completed"
    },
    "tags": []
   },
   "outputs": [],
   "source": [
    "required_parameters = {\n",
    "    \"experiment_name\",\n",
    "    \"lr\",\n",
    "    \"device\",\n",
    "    \"seed\",\n",
    "    \"dataset_seed\",\n",
    "    \"n_shot\",\n",
    "    \"n_query\",\n",
    "    \"n_way\",\n",
    "    \"train_k_factor\",\n",
    "    \"val_k_factor\",\n",
    "    \"test_k_factor\",\n",
    "    \"n_epoch\",\n",
    "    \"patience\",\n",
    "    \"criteria_for_best\",\n",
    "    \"x_net\",\n",
    "    \"datasets\",\n",
    "    \"torch_default_dtype\",\n",
    "    \"NUM_LOGS_PER_EPOCH\",\n",
    "    \"BEST_MODEL_PATH\",\n",
    "    \"x_shape\",\n",
    "}"
   ]
  },
  {
   "cell_type": "code",
   "execution_count": 3,
   "id": "fa3f0049",
   "metadata": {
    "execution": {
     "iopub.execute_input": "2022-03-28T13:10:06.208088Z",
     "iopub.status.busy": "2022-03-28T13:10:06.207183Z",
     "iopub.status.idle": "2022-03-28T13:10:06.231496Z",
     "shell.execute_reply": "2022-03-28T13:10:06.230704Z"
    },
    "papermill": {
     "duration": 0.0537,
     "end_time": "2022-03-28T13:10:06.231807",
     "exception": false,
     "start_time": "2022-03-28T13:10:06.178107",
     "status": "completed"
    },
    "tags": [
     "parameters"
    ]
   },
   "outputs": [],
   "source": [
    "from steves_utils.CORES.utils import (\n",
    "    ALL_NODES,\n",
    "    ALL_NODES_MINIMUM_1000_EXAMPLES,\n",
    "    ALL_DAYS\n",
    ")\n",
    "\n",
    "from steves_utils.ORACLE.utils_v2 import (\n",
    "    ALL_DISTANCES_FEET_NARROWED,\n",
    "    ALL_RUNS,\n",
    "    ALL_SERIAL_NUMBERS,\n",
    ")\n",
    "\n",
    "standalone_parameters = {}\n",
    "standalone_parameters[\"experiment_name\"] = \"STANDALONE PTN\"\n",
    "standalone_parameters[\"lr\"] = 0.001\n",
    "standalone_parameters[\"device\"] = \"cuda\"\n",
    "\n",
    "standalone_parameters[\"seed\"] = 1337\n",
    "standalone_parameters[\"dataset_seed\"] = 1337\n",
    "\n",
    "standalone_parameters[\"n_way\"] = 8\n",
    "standalone_parameters[\"n_shot\"] = 3\n",
    "standalone_parameters[\"n_query\"]  = 2\n",
    "standalone_parameters[\"train_k_factor\"] = 1\n",
    "standalone_parameters[\"val_k_factor\"] = 2\n",
    "standalone_parameters[\"test_k_factor\"] = 2\n",
    "\n",
    "\n",
    "standalone_parameters[\"n_epoch\"] = 50\n",
    "\n",
    "standalone_parameters[\"patience\"] = 10\n",
    "standalone_parameters[\"criteria_for_best\"] = \"source_loss\"\n",
    "\n",
    "standalone_parameters[\"datasets\"] = [\n",
    "    {\n",
    "        \"labels\": ALL_SERIAL_NUMBERS,\n",
    "        \"domains\": ALL_DISTANCES_FEET_NARROWED,\n",
    "        \"num_examples_per_domain_per_label\": 100,\n",
    "        \"pickle_path\": os.path.join(get_datasets_base_path(), \"oracle.Run1_framed_2000Examples_stratified_ds.2022A.pkl\"),\n",
    "        \"source_or_target_dataset\": \"source\",\n",
    "        \"x_transforms\": [\"unit_mag\", \"minus_two\"],\n",
    "        \"episode_transforms\": [],\n",
    "        \"domain_prefix\": \"ORACLE_\"\n",
    "    },\n",
    "    {\n",
    "        \"labels\": ALL_NODES,\n",
    "        \"domains\": ALL_DAYS,\n",
    "        \"num_examples_per_domain_per_label\": 100,\n",
    "        \"pickle_path\": os.path.join(get_datasets_base_path(), \"cores.stratified_ds.2022A.pkl\"),\n",
    "        \"source_or_target_dataset\": \"target\",\n",
    "        \"x_transforms\": [\"unit_power\", \"times_zero\"],\n",
    "        \"episode_transforms\": [],\n",
    "        \"domain_prefix\": \"CORES_\"\n",
    "    }   \n",
    "]\n",
    "\n",
    "standalone_parameters[\"torch_default_dtype\"] = \"torch.float32\" \n",
    "\n",
    "\n",
    "\n",
    "standalone_parameters[\"x_net\"] =     [\n",
    "    {\"class\": \"nnReshape\", \"kargs\": {\"shape\":[-1, 1, 2, 256]}},\n",
    "    {\"class\": \"Conv2d\", \"kargs\": { \"in_channels\":1, \"out_channels\":256, \"kernel_size\":(1,7), \"bias\":False, \"padding\":(0,3), },},\n",
    "    {\"class\": \"ReLU\", \"kargs\": {\"inplace\": True}},\n",
    "    {\"class\": \"BatchNorm2d\", \"kargs\": {\"num_features\":256}},\n",
    "\n",
    "    {\"class\": \"Conv2d\", \"kargs\": { \"in_channels\":256, \"out_channels\":80, \"kernel_size\":(2,7), \"bias\":True, \"padding\":(0,3), },},\n",
    "    {\"class\": \"ReLU\", \"kargs\": {\"inplace\": True}},\n",
    "    {\"class\": \"BatchNorm2d\", \"kargs\": {\"num_features\":80}},\n",
    "    {\"class\": \"Flatten\", \"kargs\": {}},\n",
    "\n",
    "    {\"class\": \"Linear\", \"kargs\": {\"in_features\": 80*256, \"out_features\": 256}}, # 80 units per IQ pair\n",
    "    {\"class\": \"ReLU\", \"kargs\": {\"inplace\": True}},\n",
    "    {\"class\": \"BatchNorm1d\", \"kargs\": {\"num_features\":256}},\n",
    "\n",
    "    {\"class\": \"Linear\", \"kargs\": {\"in_features\": 256, \"out_features\": 256}},\n",
    "]\n",
    "\n",
    "# Parameters relevant to results\n",
    "# These parameters will basically never need to change\n",
    "standalone_parameters[\"NUM_LOGS_PER_EPOCH\"] = 10\n",
    "standalone_parameters[\"BEST_MODEL_PATH\"] = \"./best_model.pth\"\n",
    "\n",
    "\n",
    "\n",
    "\n"
   ]
  },
  {
   "cell_type": "code",
   "execution_count": 4,
   "id": "767998b8",
   "metadata": {
    "execution": {
     "iopub.execute_input": "2022-03-28T13:10:06.285122Z",
     "iopub.status.busy": "2022-03-28T13:10:06.284654Z",
     "iopub.status.idle": "2022-03-28T13:10:06.311005Z",
     "shell.execute_reply": "2022-03-28T13:10:06.310252Z"
    },
    "papermill": {
     "duration": 0.059058,
     "end_time": "2022-03-28T13:10:06.311207",
     "exception": false,
     "start_time": "2022-03-28T13:10:06.252149",
     "status": "completed"
    },
    "tags": [
     "injected-parameters"
    ]
   },
   "outputs": [],
   "source": [
    "# Parameters\n",
    "parameters = {\n",
    "    \"experiment_name\": \"tl_3-jitter5v2:cores -> oracle.run1.framed\",\n",
    "    \"device\": \"cuda\",\n",
    "    \"lr\": 0.0001,\n",
    "    \"x_shape\": [2, 256],\n",
    "    \"n_shot\": 3,\n",
    "    \"n_query\": 2,\n",
    "    \"train_k_factor\": 3,\n",
    "    \"val_k_factor\": 2,\n",
    "    \"test_k_factor\": 2,\n",
    "    \"torch_default_dtype\": \"torch.float32\",\n",
    "    \"n_epoch\": 50,\n",
    "    \"patience\": 3,\n",
    "    \"criteria_for_best\": \"target_accuracy\",\n",
    "    \"x_net\": [\n",
    "        {\"class\": \"nnReshape\", \"kargs\": {\"shape\": [-1, 1, 2, 256]}},\n",
    "        {\n",
    "            \"class\": \"Conv2d\",\n",
    "            \"kargs\": {\n",
    "                \"in_channels\": 1,\n",
    "                \"out_channels\": 256,\n",
    "                \"kernel_size\": [1, 7],\n",
    "                \"bias\": False,\n",
    "                \"padding\": [0, 3],\n",
    "            },\n",
    "        },\n",
    "        {\"class\": \"ReLU\", \"kargs\": {\"inplace\": True}},\n",
    "        {\"class\": \"BatchNorm2d\", \"kargs\": {\"num_features\": 256}},\n",
    "        {\n",
    "            \"class\": \"Conv2d\",\n",
    "            \"kargs\": {\n",
    "                \"in_channels\": 256,\n",
    "                \"out_channels\": 80,\n",
    "                \"kernel_size\": [2, 7],\n",
    "                \"bias\": True,\n",
    "                \"padding\": [0, 3],\n",
    "            },\n",
    "        },\n",
    "        {\"class\": \"ReLU\", \"kargs\": {\"inplace\": True}},\n",
    "        {\"class\": \"BatchNorm2d\", \"kargs\": {\"num_features\": 80}},\n",
    "        {\"class\": \"Flatten\", \"kargs\": {}},\n",
    "        {\"class\": \"Linear\", \"kargs\": {\"in_features\": 20480, \"out_features\": 256}},\n",
    "        {\"class\": \"ReLU\", \"kargs\": {\"inplace\": True}},\n",
    "        {\"class\": \"BatchNorm1d\", \"kargs\": {\"num_features\": 256}},\n",
    "        {\"class\": \"Linear\", \"kargs\": {\"in_features\": 256, \"out_features\": 256}},\n",
    "    ],\n",
    "    \"NUM_LOGS_PER_EPOCH\": 10,\n",
    "    \"BEST_MODEL_PATH\": \"./best_model.pth\",\n",
    "    \"n_way\": 16,\n",
    "    \"datasets\": [\n",
    "        {\n",
    "            \"labels\": [\n",
    "                \"1-10.\",\n",
    "                \"1-11.\",\n",
    "                \"1-15.\",\n",
    "                \"1-16.\",\n",
    "                \"1-17.\",\n",
    "                \"1-18.\",\n",
    "                \"1-19.\",\n",
    "                \"10-4.\",\n",
    "                \"10-7.\",\n",
    "                \"11-1.\",\n",
    "                \"11-14.\",\n",
    "                \"11-17.\",\n",
    "                \"11-20.\",\n",
    "                \"11-7.\",\n",
    "                \"13-20.\",\n",
    "                \"13-8.\",\n",
    "                \"14-10.\",\n",
    "                \"14-11.\",\n",
    "                \"14-14.\",\n",
    "                \"14-7.\",\n",
    "                \"15-1.\",\n",
    "                \"15-20.\",\n",
    "                \"16-1.\",\n",
    "                \"16-16.\",\n",
    "                \"17-10.\",\n",
    "                \"17-11.\",\n",
    "                \"17-2.\",\n",
    "                \"19-1.\",\n",
    "                \"19-16.\",\n",
    "                \"19-19.\",\n",
    "                \"19-20.\",\n",
    "                \"19-3.\",\n",
    "                \"2-10.\",\n",
    "                \"2-11.\",\n",
    "                \"2-17.\",\n",
    "                \"2-18.\",\n",
    "                \"2-20.\",\n",
    "                \"2-3.\",\n",
    "                \"2-4.\",\n",
    "                \"2-5.\",\n",
    "                \"2-6.\",\n",
    "                \"2-7.\",\n",
    "                \"2-8.\",\n",
    "                \"3-13.\",\n",
    "                \"3-18.\",\n",
    "                \"3-3.\",\n",
    "                \"4-1.\",\n",
    "                \"4-10.\",\n",
    "                \"4-11.\",\n",
    "                \"4-19.\",\n",
    "                \"5-5.\",\n",
    "                \"6-15.\",\n",
    "                \"7-10.\",\n",
    "                \"7-14.\",\n",
    "                \"8-18.\",\n",
    "                \"8-20.\",\n",
    "                \"8-3.\",\n",
    "                \"8-8.\",\n",
    "            ],\n",
    "            \"domains\": [1, 2, 3, 4, 5],\n",
    "            \"num_examples_per_domain_per_label\": -1,\n",
    "            \"pickle_path\": \"/root/csc500-main/datasets/cores.stratified_ds.2022A.pkl\",\n",
    "            \"source_or_target_dataset\": \"source\",\n",
    "            \"x_transforms\": [\"jitter_256_5\", \"lowpass_+/-10MHz\", \"take_200\"],\n",
    "            \"episode_transforms\": [],\n",
    "            \"domain_prefix\": \"C_\",\n",
    "        },\n",
    "        {\n",
    "            \"labels\": [\n",
    "                \"3123D52\",\n",
    "                \"3123D65\",\n",
    "                \"3123D79\",\n",
    "                \"3123D80\",\n",
    "                \"3123D54\",\n",
    "                \"3123D70\",\n",
    "                \"3123D7B\",\n",
    "                \"3123D89\",\n",
    "                \"3123D58\",\n",
    "                \"3123D76\",\n",
    "                \"3123D7D\",\n",
    "                \"3123EFE\",\n",
    "                \"3123D64\",\n",
    "                \"3123D78\",\n",
    "                \"3123D7E\",\n",
    "                \"3124E4A\",\n",
    "            ],\n",
    "            \"domains\": [32, 38, 8, 44, 14, 50, 20, 26],\n",
    "            \"num_examples_per_domain_per_label\": 2000,\n",
    "            \"pickle_path\": \"/root/csc500-main/datasets/oracle.Run1_framed_2000Examples_stratified_ds.2022A.pkl\",\n",
    "            \"source_or_target_dataset\": \"target\",\n",
    "            \"x_transforms\": [\"jitter_256_5\", \"take_200\", \"resample_20Msps_to_25Msps\"],\n",
    "            \"episode_transforms\": [],\n",
    "            \"domain_prefix\": \"O_\",\n",
    "        },\n",
    "    ],\n",
    "    \"seed\": 420,\n",
    "    \"dataset_seed\": 420,\n",
    "}\n"
   ]
  },
  {
   "cell_type": "code",
   "execution_count": 5,
   "id": "8fa1cc33",
   "metadata": {
    "execution": {
     "iopub.execute_input": "2022-03-28T13:10:06.367317Z",
     "iopub.status.busy": "2022-03-28T13:10:06.366661Z",
     "iopub.status.idle": "2022-03-28T13:10:06.391177Z",
     "shell.execute_reply": "2022-03-28T13:10:06.390415Z"
    },
    "papermill": {
     "duration": 0.053489,
     "end_time": "2022-03-28T13:10:06.391368",
     "exception": false,
     "start_time": "2022-03-28T13:10:06.337879",
     "status": "completed"
    },
    "tags": []
   },
   "outputs": [],
   "source": [
    "# Set this to True if you want to run this template directly\n",
    "STANDALONE = False\n",
    "if STANDALONE:\n",
    "    print(\"parameters not injected, running with standalone_parameters\")\n",
    "    parameters = standalone_parameters\n",
    "\n",
    "if not 'parameters' in locals() and not 'parameters' in globals():\n",
    "    raise Exception(\"Parameter injection failed\")\n",
    "\n",
    "#Use an easy dict for all the parameters\n",
    "p = EasyDict(parameters)\n",
    "\n",
    "if \"x_shape\" not in p:\n",
    "    p.x_shape = [2,256] # Default to this if we dont supply x_shape\n",
    "\n",
    "\n",
    "supplied_keys = set(p.keys())\n",
    "\n",
    "if  supplied_keys != required_parameters:\n",
    "    print(\"Parameters are incorrect\")\n",
    "    if len(supplied_keys - required_parameters)>0: print(\"Shouldn't have:\", str(supplied_keys - required_parameters))\n",
    "    if len(required_parameters - supplied_keys)>0: print(\"Need to have:\", str(required_parameters - supplied_keys))\n",
    "    raise RuntimeError(\"Parameters are incorrect\")"
   ]
  },
  {
   "cell_type": "code",
   "execution_count": 6,
   "id": "3a028d58",
   "metadata": {
    "execution": {
     "iopub.execute_input": "2022-03-28T13:10:06.442976Z",
     "iopub.status.busy": "2022-03-28T13:10:06.442303Z",
     "iopub.status.idle": "2022-03-28T13:10:06.473990Z",
     "shell.execute_reply": "2022-03-28T13:10:06.474510Z"
    },
    "papermill": {
     "duration": 0.056748,
     "end_time": "2022-03-28T13:10:06.474719",
     "exception": false,
     "start_time": "2022-03-28T13:10:06.417971",
     "status": "completed"
    },
    "tags": []
   },
   "outputs": [],
   "source": [
    "###################################\n",
    "# Set the RNGs and make it all deterministic\n",
    "###################################\n",
    "np.random.seed(p.seed)\n",
    "random.seed(p.seed)\n",
    "torch.manual_seed(p.seed)\n",
    "\n",
    "torch.use_deterministic_algorithms(True) "
   ]
  },
  {
   "cell_type": "code",
   "execution_count": 7,
   "id": "b691acf6",
   "metadata": {
    "execution": {
     "iopub.execute_input": "2022-03-28T13:10:06.529254Z",
     "iopub.status.busy": "2022-03-28T13:10:06.528738Z",
     "iopub.status.idle": "2022-03-28T13:10:06.557963Z",
     "shell.execute_reply": "2022-03-28T13:10:06.558611Z"
    },
    "papermill": {
     "duration": 0.056105,
     "end_time": "2022-03-28T13:10:06.558849",
     "exception": false,
     "start_time": "2022-03-28T13:10:06.502744",
     "status": "completed"
    },
    "tags": []
   },
   "outputs": [],
   "source": [
    "###########################################\n",
    "# The stratified datasets honor this\n",
    "###########################################\n",
    "torch.set_default_dtype(eval(p.torch_default_dtype))"
   ]
  },
  {
   "cell_type": "code",
   "execution_count": 8,
   "id": "b5fba671",
   "metadata": {
    "execution": {
     "iopub.execute_input": "2022-03-28T13:10:06.606515Z",
     "iopub.status.busy": "2022-03-28T13:10:06.606141Z",
     "iopub.status.idle": "2022-03-28T13:10:06.684737Z",
     "shell.execute_reply": "2022-03-28T13:10:06.685391Z"
    },
    "papermill": {
     "duration": 0.101745,
     "end_time": "2022-03-28T13:10:06.685638",
     "exception": false,
     "start_time": "2022-03-28T13:10:06.583893",
     "status": "completed"
    },
    "tags": []
   },
   "outputs": [],
   "source": [
    "###################################\n",
    "# Build the network(s)\n",
    "# Note: It's critical to do this AFTER setting the RNG\n",
    "###################################\n",
    "x_net = build_sequential(p.x_net)"
   ]
  },
  {
   "cell_type": "code",
   "execution_count": 9,
   "id": "5d7e61cc",
   "metadata": {
    "execution": {
     "iopub.execute_input": "2022-03-28T13:10:06.735250Z",
     "iopub.status.busy": "2022-03-28T13:10:06.734407Z",
     "iopub.status.idle": "2022-03-28T13:10:06.756714Z",
     "shell.execute_reply": "2022-03-28T13:10:06.756019Z"
    },
    "papermill": {
     "duration": 0.047454,
     "end_time": "2022-03-28T13:10:06.756887",
     "exception": false,
     "start_time": "2022-03-28T13:10:06.709433",
     "status": "completed"
    },
    "tags": []
   },
   "outputs": [],
   "source": [
    "start_time_secs = time.time()"
   ]
  },
  {
   "cell_type": "code",
   "execution_count": 10,
   "id": "c6b67dfd",
   "metadata": {
    "execution": {
     "iopub.execute_input": "2022-03-28T13:10:06.807249Z",
     "iopub.status.busy": "2022-03-28T13:10:06.806873Z",
     "iopub.status.idle": "2022-03-28T13:10:06.830057Z",
     "shell.execute_reply": "2022-03-28T13:10:06.829251Z"
    },
    "papermill": {
     "duration": 0.046965,
     "end_time": "2022-03-28T13:10:06.830211",
     "exception": false,
     "start_time": "2022-03-28T13:10:06.783246",
     "status": "completed"
    },
    "tags": []
   },
   "outputs": [],
   "source": [
    "p.domains_source = []\n",
    "p.domains_target = []\n",
    "\n",
    "\n",
    "train_original_source = []\n",
    "val_original_source   = []\n",
    "test_original_source  = []\n",
    "\n",
    "train_original_target = []\n",
    "val_original_target   = []\n",
    "test_original_target  = []"
   ]
  },
  {
   "cell_type": "code",
   "execution_count": 11,
   "id": "e3d9c3d3",
   "metadata": {
    "execution": {
     "iopub.execute_input": "2022-03-28T13:10:06.878354Z",
     "iopub.status.busy": "2022-03-28T13:10:06.877992Z",
     "iopub.status.idle": "2022-03-28T13:10:06.897147Z",
     "shell.execute_reply": "2022-03-28T13:10:06.896421Z"
    },
    "papermill": {
     "duration": 0.041158,
     "end_time": "2022-03-28T13:10:06.897301",
     "exception": false,
     "start_time": "2022-03-28T13:10:06.856143",
     "status": "completed"
    },
    "tags": []
   },
   "outputs": [],
   "source": [
    "# global_x_transform_func = lambda x: normalize(x.to(torch.get_default_dtype()), \"unit_power\") # unit_power, unit_mag\n",
    "# global_x_transform_func = lambda x: normalize(x, \"unit_power\") # unit_power, unit_mag"
   ]
  },
  {
   "cell_type": "code",
   "execution_count": 12,
   "id": "acb78fd2",
   "metadata": {
    "execution": {
     "iopub.execute_input": "2022-03-28T13:10:06.956105Z",
     "iopub.status.busy": "2022-03-28T13:10:06.955637Z",
     "iopub.status.idle": "2022-03-28T13:10:06.975458Z",
     "shell.execute_reply": "2022-03-28T13:10:06.974755Z"
    },
    "papermill": {
     "duration": 0.052341,
     "end_time": "2022-03-28T13:10:06.975647",
     "exception": false,
     "start_time": "2022-03-28T13:10:06.923306",
     "status": "completed"
    },
    "tags": []
   },
   "outputs": [],
   "source": [
    "def add_dataset(\n",
    "    labels,\n",
    "    domains,\n",
    "    pickle_path,\n",
    "    x_transforms,\n",
    "    episode_transforms,\n",
    "    domain_prefix,\n",
    "    num_examples_per_domain_per_label,\n",
    "    source_or_target_dataset:str,\n",
    "    iterator_seed=p.seed,\n",
    "    dataset_seed=p.dataset_seed,\n",
    "    n_shot=p.n_shot,\n",
    "    n_way=p.n_way,\n",
    "    n_query=p.n_query,\n",
    "    train_val_test_k_factors=(p.train_k_factor,p.val_k_factor,p.test_k_factor),\n",
    "):\n",
    "   \n",
    "    if x_transforms == []: x_transform = None\n",
    "    else: x_transform = get_chained_transform(x_transforms)\n",
    "    \n",
    "    if episode_transforms == []: episode_transform = None\n",
    "    else: raise Exception(\"episode_transforms not implemented\")\n",
    "    \n",
    "    episode_transform = lambda tup, _prefix=domain_prefix: (_prefix + str(tup[0]), tup[1])\n",
    "\n",
    "\n",
    "    eaf = Episodic_Accessor_Factory(\n",
    "        labels=labels,\n",
    "        domains=domains,\n",
    "        num_examples_per_domain_per_label=num_examples_per_domain_per_label,\n",
    "        iterator_seed=iterator_seed,\n",
    "        dataset_seed=dataset_seed,\n",
    "        n_shot=n_shot,\n",
    "        n_way=n_way,\n",
    "        n_query=n_query,\n",
    "        train_val_test_k_factors=train_val_test_k_factors,\n",
    "        pickle_path=pickle_path,\n",
    "        x_transform_func=x_transform,\n",
    "    )\n",
    "\n",
    "    train, val, test = eaf.get_train(), eaf.get_val(), eaf.get_test()\n",
    "    train = Lazy_Iterable_Wrapper(train, episode_transform)\n",
    "    val = Lazy_Iterable_Wrapper(val, episode_transform)\n",
    "    test = Lazy_Iterable_Wrapper(test, episode_transform)\n",
    "\n",
    "    if source_or_target_dataset==\"source\":\n",
    "        train_original_source.append(train)\n",
    "        val_original_source.append(val)\n",
    "        test_original_source.append(test)\n",
    "\n",
    "        p.domains_source.extend(\n",
    "            [domain_prefix + str(u) for u in domains]\n",
    "        )\n",
    "    elif source_or_target_dataset==\"target\":\n",
    "        train_original_target.append(train)\n",
    "        val_original_target.append(val)\n",
    "        test_original_target.append(test)\n",
    "        p.domains_target.extend(\n",
    "            [domain_prefix + str(u) for u in domains]\n",
    "        )\n",
    "    else:\n",
    "        raise Exception(f\"invalid source_or_target_dataset: {source_or_target_dataset}\")\n",
    "    "
   ]
  },
  {
   "cell_type": "code",
   "execution_count": 13,
   "id": "fe266617",
   "metadata": {
    "execution": {
     "iopub.execute_input": "2022-03-28T13:10:07.027127Z",
     "iopub.status.busy": "2022-03-28T13:10:07.026767Z",
     "iopub.status.idle": "2022-03-28T13:11:10.492211Z",
     "shell.execute_reply": "2022-03-28T13:11:10.492882Z"
    },
    "papermill": {
     "duration": 63.489945,
     "end_time": "2022-03-28T13:11:10.493124",
     "exception": false,
     "start_time": "2022-03-28T13:10:07.003179",
     "status": "completed"
    },
    "tags": []
   },
   "outputs": [],
   "source": [
    "for ds in p.datasets:\n",
    "    add_dataset(**ds)"
   ]
  },
  {
   "cell_type": "code",
   "execution_count": 14,
   "id": "b90d65ac",
   "metadata": {
    "execution": {
     "iopub.execute_input": "2022-03-28T13:11:10.541943Z",
     "iopub.status.busy": "2022-03-28T13:11:10.541253Z",
     "iopub.status.idle": "2022-03-28T13:11:10.567659Z",
     "shell.execute_reply": "2022-03-28T13:11:10.566838Z"
    },
    "papermill": {
     "duration": 0.049874,
     "end_time": "2022-03-28T13:11:10.567814",
     "exception": false,
     "start_time": "2022-03-28T13:11:10.517940",
     "status": "completed"
    },
    "tags": []
   },
   "outputs": [],
   "source": [
    "# from steves_utils.CORES.utils import (\n",
    "#     ALL_NODES,\n",
    "#     ALL_NODES_MINIMUM_1000_EXAMPLES,\n",
    "#     ALL_DAYS\n",
    "# )\n",
    "\n",
    "# add_dataset(\n",
    "#     labels=ALL_NODES,\n",
    "#     domains = ALL_DAYS,\n",
    "#     num_examples_per_domain_per_label=100,\n",
    "#     pickle_path=os.path.join(get_datasets_base_path(), \"cores.stratified_ds.2022A.pkl\"),\n",
    "#     source_or_target_dataset=\"target\",\n",
    "#     x_transform_func=global_x_transform_func,\n",
    "#     domain_modifier=lambda u: f\"cores_{u}\"\n",
    "# )"
   ]
  },
  {
   "cell_type": "code",
   "execution_count": 15,
   "id": "76db484d",
   "metadata": {
    "execution": {
     "iopub.execute_input": "2022-03-28T13:11:10.619221Z",
     "iopub.status.busy": "2022-03-28T13:11:10.618858Z",
     "iopub.status.idle": "2022-03-28T13:11:10.641424Z",
     "shell.execute_reply": "2022-03-28T13:11:10.640726Z"
    },
    "papermill": {
     "duration": 0.04514,
     "end_time": "2022-03-28T13:11:10.641576",
     "exception": false,
     "start_time": "2022-03-28T13:11:10.596436",
     "status": "completed"
    },
    "tags": []
   },
   "outputs": [],
   "source": [
    "# from steves_utils.ORACLE.utils_v2 import (\n",
    "#     ALL_DISTANCES_FEET,\n",
    "#     ALL_RUNS,\n",
    "#     ALL_SERIAL_NUMBERS,\n",
    "# )\n",
    "\n",
    "\n",
    "# add_dataset(\n",
    "#     labels=ALL_SERIAL_NUMBERS,\n",
    "#     domains = list(set(ALL_DISTANCES_FEET) - {2,62}),\n",
    "#     num_examples_per_domain_per_label=100,\n",
    "#     pickle_path=os.path.join(get_datasets_base_path(), \"oracle.Run2_framed_2000Examples_stratified_ds.2022A.pkl\"),\n",
    "#     source_or_target_dataset=\"source\",\n",
    "#     x_transform_func=global_x_transform_func,\n",
    "#     domain_modifier=lambda u: f\"oracle1_{u}\"\n",
    "# )\n"
   ]
  },
  {
   "cell_type": "code",
   "execution_count": 16,
   "id": "97dea9d2",
   "metadata": {
    "execution": {
     "iopub.execute_input": "2022-03-28T13:11:10.690324Z",
     "iopub.status.busy": "2022-03-28T13:11:10.689928Z",
     "iopub.status.idle": "2022-03-28T13:11:10.710772Z",
     "shell.execute_reply": "2022-03-28T13:11:10.710083Z"
    },
    "papermill": {
     "duration": 0.043842,
     "end_time": "2022-03-28T13:11:10.710925",
     "exception": false,
     "start_time": "2022-03-28T13:11:10.667083",
     "status": "completed"
    },
    "tags": []
   },
   "outputs": [],
   "source": [
    "# from steves_utils.ORACLE.utils_v2 import (\n",
    "#     ALL_DISTANCES_FEET,\n",
    "#     ALL_RUNS,\n",
    "#     ALL_SERIAL_NUMBERS,\n",
    "# )\n",
    "\n",
    "\n",
    "# add_dataset(\n",
    "#     labels=ALL_SERIAL_NUMBERS,\n",
    "#     domains = list(set(ALL_DISTANCES_FEET) - {2,62,56}),\n",
    "#     num_examples_per_domain_per_label=100,\n",
    "#     pickle_path=os.path.join(get_datasets_base_path(), \"oracle.Run2_framed_2000Examples_stratified_ds.2022A.pkl\"),\n",
    "#     source_or_target_dataset=\"source\",\n",
    "#     x_transform_func=global_x_transform_func,\n",
    "#     domain_modifier=lambda u: f\"oracle2_{u}\"\n",
    "# )"
   ]
  },
  {
   "cell_type": "code",
   "execution_count": 17,
   "id": "6f289866",
   "metadata": {
    "execution": {
     "iopub.execute_input": "2022-03-28T13:11:10.761002Z",
     "iopub.status.busy": "2022-03-28T13:11:10.760640Z",
     "iopub.status.idle": "2022-03-28T13:11:10.785572Z",
     "shell.execute_reply": "2022-03-28T13:11:10.784575Z"
    },
    "papermill": {
     "duration": 0.04756,
     "end_time": "2022-03-28T13:11:10.785798",
     "exception": false,
     "start_time": "2022-03-28T13:11:10.738238",
     "status": "completed"
    },
    "tags": []
   },
   "outputs": [],
   "source": [
    "# add_dataset(\n",
    "#     labels=list(range(19)),\n",
    "#     domains = [0,1,2],\n",
    "#     num_examples_per_domain_per_label=100,\n",
    "#     pickle_path=os.path.join(get_datasets_base_path(), \"metehan.stratified_ds.2022A.pkl\"),\n",
    "#     source_or_target_dataset=\"target\",\n",
    "#     x_transform_func=global_x_transform_func,\n",
    "#     domain_modifier=lambda u: f\"met_{u}\"\n",
    "# )"
   ]
  },
  {
   "cell_type": "code",
   "execution_count": 18,
   "id": "86a863c3",
   "metadata": {
    "execution": {
     "iopub.execute_input": "2022-03-28T13:11:10.833728Z",
     "iopub.status.busy": "2022-03-28T13:11:10.833364Z",
     "iopub.status.idle": "2022-03-28T13:11:10.854026Z",
     "shell.execute_reply": "2022-03-28T13:11:10.853313Z"
    },
    "papermill": {
     "duration": 0.043461,
     "end_time": "2022-03-28T13:11:10.854184",
     "exception": false,
     "start_time": "2022-03-28T13:11:10.810723",
     "status": "completed"
    },
    "tags": []
   },
   "outputs": [],
   "source": [
    "# # from steves_utils.wisig.utils import (\n",
    "# #     ALL_NODES_MINIMUM_100_EXAMPLES,\n",
    "# #     ALL_NODES_MINIMUM_500_EXAMPLES,\n",
    "# #     ALL_NODES_MINIMUM_1000_EXAMPLES,\n",
    "# #     ALL_DAYS\n",
    "# # )\n",
    "\n",
    "# import steves_utils.wisig.utils as wisig\n",
    "\n",
    "\n",
    "# add_dataset(\n",
    "#     labels=wisig.ALL_NODES_MINIMUM_100_EXAMPLES,\n",
    "#     domains = wisig.ALL_DAYS,\n",
    "#     num_examples_per_domain_per_label=100,\n",
    "#     pickle_path=os.path.join(get_datasets_base_path(), \"wisig.node3-19.stratified_ds.2022A.pkl\"),\n",
    "#     source_or_target_dataset=\"target\",\n",
    "#     x_transform_func=global_x_transform_func,\n",
    "#     domain_modifier=lambda u: f\"wisig_{u}\"\n",
    "# )"
   ]
  },
  {
   "cell_type": "code",
   "execution_count": 19,
   "id": "fd5442bc",
   "metadata": {
    "execution": {
     "iopub.execute_input": "2022-03-28T13:11:10.907616Z",
     "iopub.status.busy": "2022-03-28T13:11:10.907234Z",
     "iopub.status.idle": "2022-03-28T13:11:10.927429Z",
     "shell.execute_reply": "2022-03-28T13:11:10.926633Z"
    },
    "papermill": {
     "duration": 0.045088,
     "end_time": "2022-03-28T13:11:10.927595",
     "exception": false,
     "start_time": "2022-03-28T13:11:10.882507",
     "status": "completed"
    },
    "tags": []
   },
   "outputs": [],
   "source": [
    "###################################\n",
    "# Build the dataset\n",
    "###################################\n",
    "train_original_source = Iterable_Aggregator(train_original_source, p.seed)\n",
    "val_original_source = Iterable_Aggregator(val_original_source, p.seed)\n",
    "test_original_source = Iterable_Aggregator(test_original_source, p.seed)\n",
    "\n",
    "\n",
    "train_original_target = Iterable_Aggregator(train_original_target, p.seed)\n",
    "val_original_target = Iterable_Aggregator(val_original_target, p.seed)\n",
    "test_original_target = Iterable_Aggregator(test_original_target, p.seed)\n",
    "\n",
    "# For CNN We only use X and Y. And we only train on the source.\n",
    "# Properly form the data using a transform lambda and Lazy_Iterable_Wrapper. Finally wrap them in a dataloader\n",
    "\n",
    "transform_lambda = lambda ex: ex[1] # Original is (<domain>, <episode>) so we strip down to episode only\n",
    "\n",
    "train_processed_source = Lazy_Iterable_Wrapper(train_original_source, transform_lambda)\n",
    "val_processed_source   = Lazy_Iterable_Wrapper(val_original_source, transform_lambda)\n",
    "test_processed_source  = Lazy_Iterable_Wrapper(test_original_source, transform_lambda)\n",
    "\n",
    "train_processed_target = Lazy_Iterable_Wrapper(train_original_target, transform_lambda)\n",
    "val_processed_target   = Lazy_Iterable_Wrapper(val_original_target, transform_lambda)\n",
    "test_processed_target  = Lazy_Iterable_Wrapper(test_original_target, transform_lambda)\n",
    "\n",
    "datasets = EasyDict({\n",
    "    \"source\": {\n",
    "        \"original\": {\"train\":train_original_source, \"val\":val_original_source, \"test\":test_original_source},\n",
    "        \"processed\": {\"train\":train_processed_source, \"val\":val_processed_source, \"test\":test_processed_source}\n",
    "    },\n",
    "    \"target\": {\n",
    "        \"original\": {\"train\":train_original_target, \"val\":val_original_target, \"test\":test_original_target},\n",
    "        \"processed\": {\"train\":train_processed_target, \"val\":val_processed_target, \"test\":test_processed_target}\n",
    "    },\n",
    "})"
   ]
  },
  {
   "cell_type": "code",
   "execution_count": 20,
   "id": "5b3c01fc",
   "metadata": {
    "execution": {
     "iopub.execute_input": "2022-03-28T13:11:10.981024Z",
     "iopub.status.busy": "2022-03-28T13:11:10.980472Z",
     "iopub.status.idle": "2022-03-28T13:11:25.336333Z",
     "shell.execute_reply": "2022-03-28T13:11:25.335456Z"
    },
    "papermill": {
     "duration": 14.379556,
     "end_time": "2022-03-28T13:11:25.336504",
     "exception": false,
     "start_time": "2022-03-28T13:11:10.956948",
     "status": "completed"
    },
    "tags": []
   },
   "outputs": [
    {
     "name": "stdout",
     "output_type": "stream",
     "text": [
      "{'C_1', 'C_4', 'C_5', 'C_2', 'C_3'}\n"
     ]
    },
    {
     "name": "stdout",
     "output_type": "stream",
     "text": [
      "{'O_20', 'O_14', 'O_44', 'O_32', 'O_26', 'O_8', 'O_38', 'O_50'}\n"
     ]
    },
    {
     "name": "stdout",
     "output_type": "stream",
     "text": [
      "tensor([[[0., 0., 0.,  ..., 0., 0., 0.],\n",
      "         [0., 0., 0.,  ..., 0., 0., 0.]],\n",
      "\n",
      "        [[0., 0., 0.,  ..., 0., 0., 0.],\n",
      "         [0., 0., 0.,  ..., 0., 0., 0.]],\n",
      "\n",
      "        [[0., 0., 0.,  ..., 0., 0., 0.],\n",
      "         [0., 0., 0.,  ..., 0., 0., 0.]],\n",
      "\n",
      "        ...,\n",
      "\n",
      "        [[0., 0., 0.,  ..., 0., 0., 0.],\n",
      "         [0., 0., 0.,  ..., 0., 0., 0.]],\n",
      "\n",
      "        [[0., 0., 0.,  ..., 0., 0., 0.],\n",
      "         [0., 0., 0.,  ..., 0., 0., 0.]],\n",
      "\n",
      "        [[0., 0., 0.,  ..., 0., 0., 0.],\n",
      "         [0., 0., 0.,  ..., 0., 0., 0.]]])\n"
     ]
    }
   ],
   "source": [
    "from steves_utils.transforms import get_average_magnitude, get_average_power\n",
    "\n",
    "print(set([u for u,_ in val_original_source]))\n",
    "print(set([u for u,_ in val_original_target]))\n",
    "\n",
    "s_x, s_y, q_x, q_y, _ = next(iter(train_processed_source))\n",
    "print(s_x)\n",
    "\n",
    "# for ds in [\n",
    "#     train_processed_source,\n",
    "#     val_processed_source,\n",
    "#     test_processed_source,\n",
    "#     train_processed_target,\n",
    "#     val_processed_target,\n",
    "#     test_processed_target\n",
    "# ]:\n",
    "#     for s_x, s_y, q_x, q_y, _ in ds:\n",
    "#         for X in (s_x, q_x):\n",
    "#             for x in X:\n",
    "#                 assert np.isclose(get_average_magnitude(x.numpy()), 1.0)\n",
    "#                 assert np.isclose(get_average_power(x.numpy()), 1.0)\n",
    "                "
   ]
  },
  {
   "cell_type": "code",
   "execution_count": 21,
   "id": "bbdacba1",
   "metadata": {
    "execution": {
     "iopub.execute_input": "2022-03-28T13:11:25.392444Z",
     "iopub.status.busy": "2022-03-28T13:11:25.391109Z",
     "iopub.status.idle": "2022-03-28T13:11:25.563310Z",
     "shell.execute_reply": "2022-03-28T13:11:25.562946Z"
    },
    "papermill": {
     "duration": 0.198382,
     "end_time": "2022-03-28T13:11:25.563416",
     "exception": false,
     "start_time": "2022-03-28T13:11:25.365034",
     "status": "completed"
    },
    "tags": []
   },
   "outputs": [
    {
     "name": "stdout",
     "output_type": "stream",
     "text": [
      "(2, 256)\n"
     ]
    }
   ],
   "source": [
    "###################################\n",
    "# Build the model\n",
    "###################################\n",
    "# easfsl only wants a tuple for the shape\n",
    "model = Steves_Prototypical_Network(x_net, device=p.device, x_shape=tuple(p.x_shape))\n",
    "optimizer = Adam(params=model.parameters(), lr=p.lr)"
   ]
  },
  {
   "cell_type": "code",
   "execution_count": 22,
   "id": "22b39ac5",
   "metadata": {
    "execution": {
     "iopub.execute_input": "2022-03-28T13:11:25.629071Z",
     "iopub.status.busy": "2022-03-28T13:11:25.628060Z",
     "iopub.status.idle": "2022-03-28T13:28:04.478281Z",
     "shell.execute_reply": "2022-03-28T13:28:04.477939Z"
    },
    "papermill": {
     "duration": 998.889657,
     "end_time": "2022-03-28T13:28:04.478367",
     "exception": false,
     "start_time": "2022-03-28T13:11:25.588710",
     "status": "completed"
    },
    "tags": []
   },
   "outputs": [
    {
     "name": "stdout",
     "output_type": "stream",
     "text": [
      "epoch: 1, [batch: 1 / 6315], examples_per_second: 34.4009, train_label_loss: 2.2979, \n"
     ]
    },
    {
     "name": "stdout",
     "output_type": "stream",
     "text": [
      "epoch: 1, [batch: 632 / 6315], examples_per_second: 3745.9756, train_label_loss: 0.1314, \n"
     ]
    },
    {
     "name": "stdout",
     "output_type": "stream",
     "text": [
      "epoch: 1, [batch: 1263 / 6315], examples_per_second: 3841.6566, train_label_loss: 0.0833, \n"
     ]
    },
    {
     "name": "stdout",
     "output_type": "stream",
     "text": [
      "epoch: 1, [batch: 1895 / 6315], examples_per_second: 3926.1275, train_label_loss: 0.0016, \n"
     ]
    },
    {
     "name": "stdout",
     "output_type": "stream",
     "text": [
      "epoch: 1, [batch: 2526 / 6315], examples_per_second: 4131.9583, train_label_loss: 0.0112, \n"
     ]
    },
    {
     "name": "stdout",
     "output_type": "stream",
     "text": [
      "epoch: 1, [batch: 3158 / 6315], examples_per_second: 4729.2613, train_label_loss: 0.0054, \n"
     ]
    },
    {
     "name": "stdout",
     "output_type": "stream",
     "text": [
      "epoch: 1, [batch: 3789 / 6315], examples_per_second: 3922.9539, train_label_loss: 0.0010, \n"
     ]
    },
    {
     "name": "stdout",
     "output_type": "stream",
     "text": [
      "epoch: 1, [batch: 4420 / 6315], examples_per_second: 3996.2490, train_label_loss: 0.0001, \n"
     ]
    },
    {
     "name": "stdout",
     "output_type": "stream",
     "text": [
      "epoch: 1, [batch: 5052 / 6315], examples_per_second: 3973.4926, train_label_loss: 0.0011, \n"
     ]
    },
    {
     "name": "stdout",
     "output_type": "stream",
     "text": [
      "epoch: 1, [batch: 5683 / 6315], examples_per_second: 3945.7875, train_label_loss: 0.0002, \n"
     ]
    },
    {
     "name": "stdout",
     "output_type": "stream",
     "text": [
      "=============================================================\n",
      "epoch: 1, source_val_acc_label: 0.9839, target_val_acc_label: 0.3168, source_val_label_loss: 1.2510, target_val_label_loss: 11.4533, \n",
      "=============================================================\n"
     ]
    },
    {
     "name": "stdout",
     "output_type": "stream",
     "text": [
      "New best\n"
     ]
    },
    {
     "name": "stdout",
     "output_type": "stream",
     "text": [
      "epoch: 2, [batch: 1 / 6307], examples_per_second: 4.1426, train_label_loss: 0.0900, \n"
     ]
    },
    {
     "name": "stdout",
     "output_type": "stream",
     "text": [
      "epoch: 2, [batch: 631 / 6307], examples_per_second: 3918.2272, train_label_loss: 0.0060, \n"
     ]
    },
    {
     "name": "stdout",
     "output_type": "stream",
     "text": [
      "epoch: 2, [batch: 1262 / 6307], examples_per_second: 3840.4518, train_label_loss: 0.0000, \n"
     ]
    },
    {
     "name": "stdout",
     "output_type": "stream",
     "text": [
      "epoch: 2, [batch: 1892 / 6307], examples_per_second: 4017.3946, train_label_loss: 0.0000, \n"
     ]
    },
    {
     "name": "stdout",
     "output_type": "stream",
     "text": [
      "epoch: 2, [batch: 2523 / 6307], examples_per_second: 4529.3311, train_label_loss: 0.1338, \n"
     ]
    },
    {
     "name": "stdout",
     "output_type": "stream",
     "text": [
      "epoch: 2, [batch: 3154 / 6307], examples_per_second: 4676.3516, train_label_loss: 0.0001, \n"
     ]
    },
    {
     "name": "stdout",
     "output_type": "stream",
     "text": [
      "epoch: 2, [batch: 3784 / 6307], examples_per_second: 4136.8069, train_label_loss: 0.0016, \n"
     ]
    },
    {
     "name": "stdout",
     "output_type": "stream",
     "text": [
      "epoch: 2, [batch: 4415 / 6307], examples_per_second: 4083.7176, train_label_loss: 0.0772, \n"
     ]
    },
    {
     "name": "stdout",
     "output_type": "stream",
     "text": [
      "epoch: 2, [batch: 5045 / 6307], examples_per_second: 4013.6641, train_label_loss: 0.0002, \n"
     ]
    },
    {
     "name": "stdout",
     "output_type": "stream",
     "text": [
      "epoch: 2, [batch: 5676 / 6307], examples_per_second: 3963.0518, train_label_loss: 0.0110, \n"
     ]
    },
    {
     "name": "stdout",
     "output_type": "stream",
     "text": [
      "=============================================================\n",
      "epoch: 2, source_val_acc_label: 0.9960, target_val_acc_label: 0.4170, source_val_label_loss: 0.0737, target_val_label_loss: 1.6350, \n",
      "=============================================================\n"
     ]
    },
    {
     "name": "stdout",
     "output_type": "stream",
     "text": [
      "New best\n"
     ]
    },
    {
     "name": "stdout",
     "output_type": "stream",
     "text": [
      "epoch: 3, [batch: 1 / 6326], examples_per_second: 4.1454, train_label_loss: 0.0000, \n"
     ]
    },
    {
     "name": "stdout",
     "output_type": "stream",
     "text": [
      "epoch: 3, [batch: 633 / 6326], examples_per_second: 3833.7845, train_label_loss: 0.0000, \n"
     ]
    },
    {
     "name": "stdout",
     "output_type": "stream",
     "text": [
      "epoch: 3, [batch: 1266 / 6326], examples_per_second: 3827.3050, train_label_loss: 0.0008, \n"
     ]
    },
    {
     "name": "stdout",
     "output_type": "stream",
     "text": [
      "epoch: 3, [batch: 1898 / 6326], examples_per_second: 3900.8037, train_label_loss: 0.0004, \n"
     ]
    },
    {
     "name": "stdout",
     "output_type": "stream",
     "text": [
      "epoch: 3, [batch: 2531 / 6326], examples_per_second: 4257.0298, train_label_loss: 0.1492, \n"
     ]
    },
    {
     "name": "stdout",
     "output_type": "stream",
     "text": [
      "epoch: 3, [batch: 3163 / 6326], examples_per_second: 4273.4107, train_label_loss: 0.0000, \n"
     ]
    },
    {
     "name": "stdout",
     "output_type": "stream",
     "text": [
      "epoch: 3, [batch: 3796 / 6326], examples_per_second: 4315.4478, train_label_loss: 0.0374, \n"
     ]
    },
    {
     "name": "stdout",
     "output_type": "stream",
     "text": [
      "epoch: 3, [batch: 4428 / 6326], examples_per_second: 4389.3087, train_label_loss: 0.0003, \n"
     ]
    },
    {
     "name": "stdout",
     "output_type": "stream",
     "text": [
      "epoch: 3, [batch: 5061 / 6326], examples_per_second: 4336.8299, train_label_loss: 0.0008, \n"
     ]
    },
    {
     "name": "stdout",
     "output_type": "stream",
     "text": [
      "epoch: 3, [batch: 5693 / 6326], examples_per_second: 4392.3112, train_label_loss: 0.0001, \n"
     ]
    },
    {
     "name": "stdout",
     "output_type": "stream",
     "text": [
      "=============================================================\n",
      "epoch: 3, source_val_acc_label: 0.9950, target_val_acc_label: 0.4692, source_val_label_loss: 0.0467, target_val_label_loss: 1.6432, \n",
      "=============================================================\n"
     ]
    },
    {
     "name": "stdout",
     "output_type": "stream",
     "text": [
      "New best\n"
     ]
    },
    {
     "name": "stdout",
     "output_type": "stream",
     "text": [
      "epoch: 4, [batch: 1 / 6302], examples_per_second: 4.6503, train_label_loss: 0.0000, \n"
     ]
    },
    {
     "name": "stdout",
     "output_type": "stream",
     "text": [
      "epoch: 4, [batch: 631 / 6302], examples_per_second: 4750.3620, train_label_loss: 0.0017, \n"
     ]
    },
    {
     "name": "stdout",
     "output_type": "stream",
     "text": [
      "epoch: 4, [batch: 1261 / 6302], examples_per_second: 4985.6611, train_label_loss: 0.0008, \n"
     ]
    },
    {
     "name": "stdout",
     "output_type": "stream",
     "text": [
      "epoch: 4, [batch: 1891 / 6302], examples_per_second: 5005.4437, train_label_loss: 0.0017, \n"
     ]
    },
    {
     "name": "stdout",
     "output_type": "stream",
     "text": [
      "epoch: 4, [batch: 2521 / 6302], examples_per_second: 4953.2255, train_label_loss: 0.0011, \n"
     ]
    },
    {
     "name": "stdout",
     "output_type": "stream",
     "text": [
      "epoch: 4, [batch: 3151 / 6302], examples_per_second: 5087.5417, train_label_loss: 0.0017, \n"
     ]
    },
    {
     "name": "stdout",
     "output_type": "stream",
     "text": [
      "epoch: 4, [batch: 3781 / 6302], examples_per_second: 5131.2196, train_label_loss: 0.0003, \n"
     ]
    },
    {
     "name": "stdout",
     "output_type": "stream",
     "text": [
      "epoch: 4, [batch: 4411 / 6302], examples_per_second: 5027.3339, train_label_loss: 0.0000, \n"
     ]
    },
    {
     "name": "stdout",
     "output_type": "stream",
     "text": [
      "epoch: 4, [batch: 5041 / 6302], examples_per_second: 5132.7582, train_label_loss: 0.0000, \n"
     ]
    },
    {
     "name": "stdout",
     "output_type": "stream",
     "text": [
      "epoch: 4, [batch: 5671 / 6302], examples_per_second: 5086.2759, train_label_loss: 0.0001, \n"
     ]
    },
    {
     "name": "stdout",
     "output_type": "stream",
     "text": [
      "=============================================================\n",
      "epoch: 4, source_val_acc_label: 0.9967, target_val_acc_label: 0.4360, source_val_label_loss: 0.0377, target_val_label_loss: 1.5797, \n",
      "=============================================================\n"
     ]
    },
    {
     "name": "stdout",
     "output_type": "stream",
     "text": [
      "epoch: 5, [batch: 1 / 6324], examples_per_second: 5.4287, train_label_loss: 0.0000, \n"
     ]
    },
    {
     "name": "stdout",
     "output_type": "stream",
     "text": [
      "epoch: 5, [batch: 633 / 6324], examples_per_second: 4632.3425, train_label_loss: 0.0069, \n"
     ]
    },
    {
     "name": "stdout",
     "output_type": "stream",
     "text": [
      "epoch: 5, [batch: 1265 / 6324], examples_per_second: 4922.0696, train_label_loss: 0.0003, \n"
     ]
    },
    {
     "name": "stdout",
     "output_type": "stream",
     "text": [
      "epoch: 5, [batch: 1897 / 6324], examples_per_second: 4845.4280, train_label_loss: 0.0000, \n"
     ]
    },
    {
     "name": "stdout",
     "output_type": "stream",
     "text": [
      "epoch: 5, [batch: 2530 / 6324], examples_per_second: 4812.7546, train_label_loss: 0.0000, \n"
     ]
    },
    {
     "name": "stdout",
     "output_type": "stream",
     "text": [
      "epoch: 5, [batch: 3162 / 6324], examples_per_second: 4803.3850, train_label_loss: 0.0002, \n"
     ]
    },
    {
     "name": "stdout",
     "output_type": "stream",
     "text": [
      "epoch: 5, [batch: 3794 / 6324], examples_per_second: 4999.6376, train_label_loss: 0.0001, \n"
     ]
    },
    {
     "name": "stdout",
     "output_type": "stream",
     "text": [
      "epoch: 5, [batch: 4427 / 6324], examples_per_second: 5012.3098, train_label_loss: 0.0000, \n"
     ]
    },
    {
     "name": "stdout",
     "output_type": "stream",
     "text": [
      "epoch: 5, [batch: 5059 / 6324], examples_per_second: 4901.2885, train_label_loss: 0.0007, \n"
     ]
    },
    {
     "name": "stdout",
     "output_type": "stream",
     "text": [
      "epoch: 5, [batch: 5691 / 6324], examples_per_second: 4979.7029, train_label_loss: 0.0000, \n"
     ]
    },
    {
     "name": "stdout",
     "output_type": "stream",
     "text": [
      "=============================================================\n",
      "epoch: 5, source_val_acc_label: 0.9972, target_val_acc_label: 0.4174, source_val_label_loss: 0.0432, target_val_label_loss: 1.5946, \n",
      "=============================================================\n"
     ]
    },
    {
     "name": "stdout",
     "output_type": "stream",
     "text": [
      "epoch: 6, [batch: 1 / 6313], examples_per_second: 4.2313, train_label_loss: 0.0000, \n"
     ]
    },
    {
     "name": "stdout",
     "output_type": "stream",
     "text": [
      "epoch: 6, [batch: 632 / 6313], examples_per_second: 3772.8342, train_label_loss: 0.0000, \n"
     ]
    },
    {
     "name": "stdout",
     "output_type": "stream",
     "text": [
      "epoch: 6, [batch: 1263 / 6313], examples_per_second: 3956.5548, train_label_loss: 0.0001, \n"
     ]
    },
    {
     "name": "stdout",
     "output_type": "stream",
     "text": [
      "epoch: 6, [batch: 1894 / 6313], examples_per_second: 3953.1277, train_label_loss: 0.0002, \n"
     ]
    },
    {
     "name": "stdout",
     "output_type": "stream",
     "text": [
      "epoch: 6, [batch: 2525 / 6313], examples_per_second: 3842.2433, train_label_loss: 0.0000, \n"
     ]
    },
    {
     "name": "stdout",
     "output_type": "stream",
     "text": [
      "epoch: 6, [batch: 3157 / 6313], examples_per_second: 3804.0856, train_label_loss: 0.0015, \n"
     ]
    },
    {
     "name": "stdout",
     "output_type": "stream",
     "text": [
      "epoch: 6, [batch: 3788 / 6313], examples_per_second: 3792.9714, train_label_loss: 0.0003, \n"
     ]
    },
    {
     "name": "stdout",
     "output_type": "stream",
     "text": [
      "epoch: 6, [batch: 4419 / 6313], examples_per_second: 3787.3513, train_label_loss: 0.0008, \n"
     ]
    },
    {
     "name": "stdout",
     "output_type": "stream",
     "text": [
      "epoch: 6, [batch: 5050 / 6313], examples_per_second: 4323.5125, train_label_loss: 0.0034, \n"
     ]
    },
    {
     "name": "stdout",
     "output_type": "stream",
     "text": [
      "epoch: 6, [batch: 5681 / 6313], examples_per_second: 4516.7897, train_label_loss: 0.0001, \n"
     ]
    },
    {
     "name": "stdout",
     "output_type": "stream",
     "text": [
      "=============================================================\n",
      "epoch: 6, source_val_acc_label: 0.9973, target_val_acc_label: 0.4170, source_val_label_loss: 0.0361, target_val_label_loss: 1.7051, \n",
      "=============================================================\n"
     ]
    },
    {
     "name": "stdout",
     "output_type": "stream",
     "text": [
      "epoch: 7, [batch: 1 / 6295], examples_per_second: 4.2316, train_label_loss: 0.0000, \n"
     ]
    },
    {
     "name": "stdout",
     "output_type": "stream",
     "text": [
      "epoch: 7, [batch: 630 / 6295], examples_per_second: 3924.7510, train_label_loss: 0.0006, \n"
     ]
    },
    {
     "name": "stdout",
     "output_type": "stream",
     "text": [
      "epoch: 7, [batch: 1259 / 6295], examples_per_second: 3896.7434, train_label_loss: 0.0000, \n"
     ]
    },
    {
     "name": "stdout",
     "output_type": "stream",
     "text": [
      "epoch: 7, [batch: 1889 / 6295], examples_per_second: 3927.4387, train_label_loss: 0.0000, \n"
     ]
    },
    {
     "name": "stdout",
     "output_type": "stream",
     "text": [
      "epoch: 7, [batch: 2518 / 6295], examples_per_second: 4056.4235, train_label_loss: 0.0005, \n"
     ]
    },
    {
     "name": "stdout",
     "output_type": "stream",
     "text": [
      "epoch: 7, [batch: 3148 / 6295], examples_per_second: 3962.8246, train_label_loss: 0.0049, \n"
     ]
    },
    {
     "name": "stdout",
     "output_type": "stream",
     "text": [
      "epoch: 7, [batch: 3777 / 6295], examples_per_second: 4018.1286, train_label_loss: 0.0000, \n"
     ]
    },
    {
     "name": "stdout",
     "output_type": "stream",
     "text": [
      "epoch: 7, [batch: 4406 / 6295], examples_per_second: 3793.1337, train_label_loss: 0.0000, \n"
     ]
    },
    {
     "name": "stdout",
     "output_type": "stream",
     "text": [
      "epoch: 7, [batch: 5036 / 6295], examples_per_second: 4234.8302, train_label_loss: 0.0000, \n"
     ]
    },
    {
     "name": "stdout",
     "output_type": "stream",
     "text": [
      "epoch: 7, [batch: 5665 / 6295], examples_per_second: 4429.9203, train_label_loss: 0.0000, \n"
     ]
    },
    {
     "name": "stdout",
     "output_type": "stream",
     "text": [
      "=============================================================\n",
      "epoch: 7, source_val_acc_label: 0.9978, target_val_acc_label: 0.3997, source_val_label_loss: 0.0225, target_val_label_loss: 4.8570, \n",
      "=============================================================\n"
     ]
    },
    {
     "name": "stdout",
     "output_type": "stream",
     "text": [
      "Patience (3) exhausted\n"
     ]
    }
   ],
   "source": [
    "###################################\n",
    "# train\n",
    "###################################\n",
    "jig = PTN_Train_Eval_Test_Jig(model, p.BEST_MODEL_PATH, p.device)\n",
    "\n",
    "jig.train(\n",
    "    train_iterable=datasets.source.processed.train,\n",
    "    source_val_iterable=datasets.source.processed.val,\n",
    "    target_val_iterable=datasets.target.processed.val,\n",
    "    num_epochs=p.n_epoch,\n",
    "    num_logs_per_epoch=p.NUM_LOGS_PER_EPOCH,\n",
    "    patience=p.patience,\n",
    "    optimizer=optimizer,\n",
    "    criteria_for_best=p.criteria_for_best,\n",
    ")"
   ]
  },
  {
   "cell_type": "code",
   "execution_count": 23,
   "id": "31e8fabf",
   "metadata": {
    "execution": {
     "iopub.execute_input": "2022-03-28T13:28:04.573175Z",
     "iopub.status.busy": "2022-03-28T13:28:04.572609Z",
     "iopub.status.idle": "2022-03-28T13:28:04.607038Z",
     "shell.execute_reply": "2022-03-28T13:28:04.606196Z"
    },
    "papermill": {
     "duration": 0.084113,
     "end_time": "2022-03-28T13:28:04.607214",
     "exception": false,
     "start_time": "2022-03-28T13:28:04.523101",
     "status": "completed"
    },
    "tags": []
   },
   "outputs": [],
   "source": [
    "total_experiment_time_secs = time.time() - start_time_secs"
   ]
  },
  {
   "cell_type": "code",
   "execution_count": 24,
   "id": "87b9595b",
   "metadata": {
    "execution": {
     "iopub.execute_input": "2022-03-28T13:28:04.711205Z",
     "iopub.status.busy": "2022-03-28T13:28:04.710353Z",
     "iopub.status.idle": "2022-03-28T13:30:49.465370Z",
     "shell.execute_reply": "2022-03-28T13:30:49.464632Z"
    },
    "papermill": {
     "duration": 164.807863,
     "end_time": "2022-03-28T13:30:49.465555",
     "exception": false,
     "start_time": "2022-03-28T13:28:04.657692",
     "status": "completed"
    },
    "tags": []
   },
   "outputs": [],
   "source": [
    "###################################\n",
    "# Evaluate the model\n",
    "###################################\n",
    "source_test_label_accuracy, source_test_label_loss = jig.test(datasets.source.processed.test)\n",
    "target_test_label_accuracy, target_test_label_loss = jig.test(datasets.target.processed.test)\n",
    "\n",
    "source_val_label_accuracy, source_val_label_loss = jig.test(datasets.source.processed.val)\n",
    "target_val_label_accuracy, target_val_label_loss = jig.test(datasets.target.processed.val)\n",
    "\n",
    "history = jig.get_history()\n",
    "\n",
    "total_epochs_trained = len(history[\"epoch_indices\"])\n",
    "\n",
    "val_dl = Iterable_Aggregator((datasets.source.original.val,datasets.target.original.val))\n",
    "\n",
    "confusion = ptn_confusion_by_domain_over_dataloader(model, p.device, val_dl)\n",
    "per_domain_accuracy = per_domain_accuracy_from_confusion(confusion)\n",
    "\n",
    "# Add a key to per_domain_accuracy for if it was a source domain\n",
    "for domain, accuracy in per_domain_accuracy.items():\n",
    "    per_domain_accuracy[domain] = {\n",
    "        \"accuracy\": accuracy,\n",
    "        \"source?\": domain in p.domains_source\n",
    "    }\n",
    "\n",
    "# Do an independent accuracy assesment JUST TO BE SURE!\n",
    "# _source_test_label_accuracy = independent_accuracy_assesment(model, datasets.source.processed.test, p.device)\n",
    "# _target_test_label_accuracy = independent_accuracy_assesment(model, datasets.target.processed.test, p.device)\n",
    "# _source_val_label_accuracy = independent_accuracy_assesment(model, datasets.source.processed.val, p.device)\n",
    "# _target_val_label_accuracy = independent_accuracy_assesment(model, datasets.target.processed.val, p.device)\n",
    "\n",
    "# assert(_source_test_label_accuracy == source_test_label_accuracy)\n",
    "# assert(_target_test_label_accuracy == target_test_label_accuracy)\n",
    "# assert(_source_val_label_accuracy == source_val_label_accuracy)\n",
    "# assert(_target_val_label_accuracy == target_val_label_accuracy)\n",
    "\n",
    "experiment = {\n",
    "    \"experiment_name\": p.experiment_name,\n",
    "    \"parameters\": dict(p),\n",
    "    \"results\": {\n",
    "        \"source_test_label_accuracy\": source_test_label_accuracy,\n",
    "        \"source_test_label_loss\": source_test_label_loss,\n",
    "        \"target_test_label_accuracy\": target_test_label_accuracy,\n",
    "        \"target_test_label_loss\": target_test_label_loss,\n",
    "        \"source_val_label_accuracy\": source_val_label_accuracy,\n",
    "        \"source_val_label_loss\": source_val_label_loss,\n",
    "        \"target_val_label_accuracy\": target_val_label_accuracy,\n",
    "        \"target_val_label_loss\": target_val_label_loss,\n",
    "        \"total_epochs_trained\": total_epochs_trained,\n",
    "        \"total_experiment_time_secs\": total_experiment_time_secs,\n",
    "        \"confusion\": confusion,\n",
    "        \"per_domain_accuracy\": per_domain_accuracy,\n",
    "    },\n",
    "    \"history\": history,\n",
    "    \"dataset_metrics\": get_dataset_metrics(datasets, \"ptn\"),\n",
    "}"
   ]
  },
  {
   "cell_type": "code",
   "execution_count": 25,
   "id": "54a21829",
   "metadata": {
    "execution": {
     "iopub.execute_input": "2022-03-28T13:30:49.566513Z",
     "iopub.status.busy": "2022-03-28T13:30:49.565699Z",
     "iopub.status.idle": "2022-03-28T13:30:49.784938Z",
     "shell.execute_reply": "2022-03-28T13:30:49.785613Z"
    },
    "papermill": {
     "duration": 0.2689,
     "end_time": "2022-03-28T13:30:49.785807",
     "exception": false,
     "start_time": "2022-03-28T13:30:49.516907",
     "status": "completed"
    },
    "tags": []
   },
   "outputs": [
    {
     "data": {
      "image/png": "[encoded data removed]",
      "text/plain": [
       "<Figure size 1080x504 with 1 Axes>"
      ]
     },
     "metadata": {
      "needs_background": "light"
     },
     "output_type": "display_data"
    }
   ],
   "source": [
    "ax = get_loss_curve(experiment)\n",
    "plt.show()"
   ]
  },
  {
   "cell_type": "code",
   "execution_count": 26,
   "id": "fd8a0f60",
   "metadata": {
    "execution": {
     "iopub.execute_input": "2022-03-28T13:30:49.881430Z",
     "iopub.status.busy": "2022-03-28T13:30:49.881071Z",
     "iopub.status.idle": "2022-03-28T13:30:50.202728Z",
     "shell.execute_reply": "2022-03-28T13:30:50.203046Z"
    },
    "papermill": {
     "duration": 0.36951,
     "end_time": "2022-03-28T13:30:50.203169",
     "exception": false,
     "start_time": "2022-03-28T13:30:49.833659",
     "status": "completed"
    },
    "tags": []
   },
   "outputs": [
    {
     "data": {
      "text/plain": [
       "<AxesSubplot:title={'center':'Results'}>"
      ]
     },
     "execution_count": 26,
     "metadata": {},
     "output_type": "execute_result"
    },
    {
     "data": {
      "image/png": "[encoded data removed]",
      "text/plain": [
       "<Figure size 1080x504 with 1 Axes>"
      ]
     },
     "metadata": {
      "needs_background": "light"
     },
     "output_type": "display_data"
    }
   ],
   "source": [
    "get_results_table(experiment)"
   ]
  },
  {
   "cell_type": "code",
   "execution_count": 27,
   "id": "cf8dc689",
   "metadata": {
    "execution": {
     "iopub.execute_input": "2022-03-28T13:30:50.302905Z",
     "iopub.status.busy": "2022-03-28T13:30:50.302534Z",
     "iopub.status.idle": "2022-03-28T13:30:50.541071Z",
     "shell.execute_reply": "2022-03-28T13:30:50.541741Z"
    },
    "papermill": {
     "duration": 0.290889,
     "end_time": "2022-03-28T13:30:50.541954",
     "exception": false,
     "start_time": "2022-03-28T13:30:50.251065",
     "status": "completed"
    },
    "tags": []
   },
   "outputs": [
    {
     "data": {
      "text/plain": [
       "<AxesSubplot:title={'center':'Per Domain Validation Accuracy'}, xlabel='domain'>"
      ]
     },
     "execution_count": 27,
     "metadata": {},
     "output_type": "execute_result"
    },
    {
     "data": {
      "image/png": "[encoded data removed]",
      "text/plain": [
       "<Figure size 1080x504 with 1 Axes>"
      ]
     },
     "metadata": {
      "needs_background": "light"
     },
     "output_type": "display_data"
    }
   ],
   "source": [
    "get_domain_accuracies(experiment)"
   ]
  },
  {
   "cell_type": "code",
   "execution_count": 28,
   "id": "a74ae082",
   "metadata": {
    "execution": {
     "iopub.execute_input": "2022-03-28T13:30:50.648210Z",
     "iopub.status.busy": "2022-03-28T13:30:50.647828Z",
     "iopub.status.idle": "2022-03-28T13:30:50.674148Z",
     "shell.execute_reply": "2022-03-28T13:30:50.674807Z"
    },
    "papermill": {
     "duration": 0.080669,
     "end_time": "2022-03-28T13:30:50.675009",
     "exception": false,
     "start_time": "2022-03-28T13:30:50.594340",
     "status": "completed"
    },
    "tags": []
   },
   "outputs": [
    {
     "name": "stdout",
     "output_type": "stream",
     "text": [
      "Source Test Label Accuracy: 0.9956616817155757 Target Test Label Accuracy: 0.47099609375\n",
      "Source Val Label Accuracy: 0.995 Target Val Label Accuracy: 0.46917317708333334\n"
     ]
    }
   ],
   "source": [
    "print(\"Source Test Label Accuracy:\", experiment[\"results\"][\"source_test_label_accuracy\"], \"Target Test Label Accuracy:\", experiment[\"results\"][\"target_test_label_accuracy\"])\n",
    "print(\"Source Val Label Accuracy:\", experiment[\"results\"][\"source_val_label_accuracy\"], \"Target Val Label Accuracy:\", experiment[\"results\"][\"target_val_label_accuracy\"])"
   ]
  },
  {
   "cell_type": "code",
   "execution_count": 29,
   "id": "dacca602",
   "metadata": {
    "execution": {
     "iopub.execute_input": "2022-03-28T13:30:50.783483Z",
     "iopub.status.busy": "2022-03-28T13:30:50.783101Z",
     "iopub.status.idle": "2022-03-28T13:30:50.806026Z",
     "shell.execute_reply": "2022-03-28T13:30:50.806684Z"
    },
    "papermill": {
     "duration": 0.077315,
     "end_time": "2022-03-28T13:30:50.806908",
     "exception": false,
     "start_time": "2022-03-28T13:30:50.729593",
     "status": "completed"
    },
    "tags": [
     "experiment_json"
    ]
   },
   "outputs": [
    {
     "data": {
      "text/plain": [
       "'{\"experiment_name\": \"tl_3-jitter5v2:cores -> oracle.run1.framed\", \"parameters\": {\"experiment_name\": \"tl_3-jitter5v2:cores -> oracle.run1.framed\", \"device\": \"cuda\", \"lr\": 0.0001, \"x_shape\": [2, 256], \"n_shot\": 3, \"n_query\": 2, \"train_k_factor\": 3, \"val_k_factor\": 2, \"test_k_factor\": 2, \"torch_default_dtype\": \"torch.float32\", \"n_epoch\": 50, \"patience\": 3, \"criteria_for_best\": \"target_accuracy\", \"x_net\": [{\"class\": \"nnReshape\", \"kargs\": {\"shape\": [-1, 1, 2, 256]}}, {\"class\": \"Conv2d\", \"kargs\": {\"in_channels\": 1, \"out_channels\": 256, \"kernel_size\": [1, 7], \"bias\": false, \"padding\": [0, 3]}}, {\"class\": \"ReLU\", \"kargs\": {\"inplace\": true}}, {\"class\": \"BatchNorm2d\", \"kargs\": {\"num_features\": 256}}, {\"class\": \"Conv2d\", \"kargs\": {\"in_channels\": 256, \"out_channels\": 80, \"kernel_size\": [2, 7], \"bias\": true, \"padding\": [0, 3]}}, {\"class\": \"ReLU\", \"kargs\": {\"inplace\": true}}, {\"class\": \"BatchNorm2d\", \"kargs\": {\"num_features\": 80}}, {\"class\": \"Flatten\", \"kargs\": {}}, {\"class\": \"Linear\", \"kargs\": {\"in_features\": 20480, \"out_features\": 256}}, {\"class\": \"ReLU\", \"kargs\": {\"inplace\": true}}, {\"class\": \"BatchNorm1d\", \"kargs\": {\"num_features\": 256}}, {\"class\": \"Linear\", \"kargs\": {\"in_features\": 256, \"out_features\": 256}}], \"NUM_LOGS_PER_EPOCH\": 10, \"BEST_MODEL_PATH\": \"./best_model.pth\", \"n_way\": 16, \"datasets\": [{\"labels\": [\"1-10.\", \"1-11.\", \"1-15.\", \"1-16.\", \"1-17.\", \"1-18.\", \"1-19.\", \"10-4.\", \"10-7.\", \"11-1.\", \"11-14.\", \"11-17.\", \"11-20.\", \"11-7.\", \"13-20.\", \"13-8.\", \"14-10.\", \"14-11.\", \"14-14.\", \"14-7.\", \"15-1.\", \"15-20.\", \"16-1.\", \"16-16.\", \"17-10.\", \"17-11.\", \"17-2.\", \"19-1.\", \"19-16.\", \"19-19.\", \"19-20.\", \"19-3.\", \"2-10.\", \"2-11.\", \"2-17.\", \"2-18.\", \"2-20.\", \"2-3.\", \"2-4.\", \"2-5.\", \"2-6.\", \"2-7.\", \"2-8.\", \"3-13.\", \"3-18.\", \"3-3.\", \"4-1.\", \"4-10.\", \"4-11.\", \"4-19.\", \"5-5.\", \"6-15.\", \"7-10.\", \"7-14.\", \"8-18.\", \"8-20.\", \"8-3.\", \"8-8.\"], \"domains\": [1, 2, 3, 4, 5], \"num_examples_per_domain_per_label\": -1, \"pickle_path\": \"/root/csc500-main/datasets/cores.stratified_ds.2022A.pkl\", \"source_or_target_dataset\": \"source\", \"x_transforms\": [\"jitter_256_5\", \"lowpass_+/-10MHz\", \"take_200\"], \"episode_transforms\": [], \"domain_prefix\": \"C_\"}, {\"labels\": [\"3123D52\", \"3123D65\", \"3123D79\", \"3123D80\", \"3123D54\", \"3123D70\", \"3123D7B\", \"3123D89\", \"3123D58\", \"3123D76\", \"3123D7D\", \"3123EFE\", \"3123D64\", \"3123D78\", \"3123D7E\", \"3124E4A\"], \"domains\": [32, 38, 8, 44, 14, 50, 20, 26], \"num_examples_per_domain_per_label\": 2000, \"pickle_path\": \"/root/csc500-main/datasets/oracle.Run1_framed_2000Examples_stratified_ds.2022A.pkl\", \"source_or_target_dataset\": \"target\", \"x_transforms\": [\"jitter_256_5\", \"take_200\", \"resample_20Msps_to_25Msps\"], \"episode_transforms\": [], \"domain_prefix\": \"O_\"}], \"seed\": 420, \"dataset_seed\": 420, \"domains_source\": [\"C_1\", \"C_2\", \"C_3\", \"C_4\", \"C_5\"], \"domains_target\": [\"O_32\", \"O_38\", \"O_8\", \"O_44\", \"O_14\", \"O_50\", \"O_20\", \"O_26\"]}, \"results\": {\"source_test_label_accuracy\": 0.9956616817155757, \"source_test_label_loss\": 0.019642766565084457, \"target_test_label_accuracy\": 0.47099609375, \"target_test_label_loss\": 1.6398526430130005, \"source_val_label_accuracy\": 0.995, \"source_val_label_loss\": 0.04667404666543007, \"target_val_label_accuracy\": 0.46917317708333334, \"target_val_label_loss\": 1.6431974172592163, \"total_epochs_trained\": 7, \"total_experiment_time_secs\": 1077.849360704422, \"confusion\": {\"C_4\": {\"42\": {\"42\": 32}, \"0\": {\"0\": 80}, \"1\": {\"1\": 40}, \"39\": {\"39\": 20}, \"28\": {\"28\": 31, \"34\": 1}, \"53\": {\"53\": 124}, \"19\": {\"19\": 144}, \"34\": {\"34\": 24}, \"33\": {\"33\": 36}, \"32\": {\"32\": 24}, \"10\": {\"10\": 136}, \"46\": {\"46\": 134}, \"20\": {\"20\": 122}, \"5\": {\"5\": 107, \"3\": 1}, \"40\": {\"40\": 124}, \"51\": {\"51\": 144}, \"37\": {\"37\": 24}, \"17\": {\"17\": 80}, \"45\": {\"45\": 96}, \"13\": {\"13\": 142}, \"27\": {\"27\": 144}, \"24\": {\"24\": 56}, \"30\": {\"30\": 44}, \"31\": {\"31\": 25, \"55\": 3}, \"41\": {\"41\": 34, \"38\": 1, \"13\": 1}, \"36\": {\"36\": 90, \"51\": 2}, \"16\": {\"16\": 96}, \"22\": {\"22\": 128}, \"44\": {\"44\": 132}, \"9\": {\"9\": 140}, \"57\": {\"57\": 100}, \"8\": {\"8\": 138}, \"23\": {\"23\": 132}, \"47\": {\"47\": 120}, \"43\": {\"43\": 138}, \"49\": {\"49\": 19, \"7\": 1}, \"3\": {\"3\": 120, \"50\": 4}, \"12\": {\"12\": 92}, \"38\": {\"38\": 40}, \"7\": {\"49\": 2, \"7\": 22}, \"14\": {\"14\": 14, \"37\": 1, \"43\": 1}, \"15\": {\"15\": 145, \"18\": 1}, \"25\": {\"25\": 128}, \"26\": {\"26\": 21, \"54\": 2, \"36\": 1}, \"21\": {\"21\": 132}, \"48\": {\"48\": 144}, \"56\": {\"56\": 134}, \"11\": {\"11\": 104}, \"2\": {\"2\": 36}, \"6\": {\"6\": 104, \"3\": 6, \"5\": 1, \"50\": 1}, \"55\": {\"55\": 140}, \"54\": {\"54\": 108}, \"29\": {\"29\": 124}, \"50\": {\"50\": 118, \"6\": 1, \"3\": 3}, \"52\": {\"52\": 116}, \"35\": {\"35\": 40}, \"4\": {\"4\": 120}, \"18\": {\"18\": 108}}, \"C_5\": {\"43\": {\"43\": 152}, \"35\": {\"35\": 36}, \"54\": {\"54\": 112}, \"22\": {\"22\": 28}, \"16\": {\"16\": 146}, \"5\": {\"5\": 128}, \"28\": {\"28\": 32}, \"14\": {\"14\": 44}, \"51\": {\"51\": 128}, \"19\": {\"19\": 140}, \"31\": {\"31\": 36}, \"10\": {\"10\": 68}, \"21\": {\"21\": 136}, \"3\": {\"3\": 96, \"22\": 1, \"44\": 3}, \"57\": {\"57\": 132}, \"9\": {\"9\": 143, \"30\": 1, \"21\": 2}, \"8\": {\"8\": 132}, \"46\": {\"46\": 140}, \"23\": {\"23\": 124}, \"37\": {\"37\": 24}, \"34\": {\"34\": 36}, \"4\": {\"4\": 99, \"20\": 1}, \"6\": {\"6\": 119, \"45\": 8, \"50\": 1}, \"48\": {\"48\": 135, \"1\": 1}, \"44\": {\"44\": 138}, \"40\": {\"40\": 124}, \"12\": {\"12\": 96}, \"30\": {\"30\": 126, \"9\": 2}, \"39\": {\"39\": 20}, \"45\": {\"45\": 115, \"6\": 7, \"50\": 2}, \"36\": {\"36\": 92}, \"27\": {\"27\": 140}, \"32\": {\"32\": 32}, \"52\": {\"52\": 130}, \"0\": {\"0\": 124}, \"26\": {\"26\": 24}, \"1\": {\"1\": 148}, \"53\": {\"53\": 146}, \"25\": {\"25\": 144}, \"24\": {\"24\": 80}, \"7\": {\"7\": 32}, \"18\": {\"18\": 64}, \"20\": {\"20\": 144}, \"33\": {\"33\": 31, \"41\": 1}, \"55\": {\"55\": 140}, \"41\": {\"33\": 1, \"41\": 27}, \"42\": {\"42\": 38, \"44\": 1, \"36\": 1}, \"49\": {\"49\": 36}, \"13\": {\"13\": 148}, \"38\": {\"38\": 32}, \"2\": {\"2\": 28}, \"47\": {\"47\": 100}, \"17\": {\"17\": 116}, \"11\": {\"11\": 152, \"15\": 2}, \"29\": {\"29\": 132}, \"50\": {\"50\": 136, \"6\": 1, \"45\": 1}, \"56\": {\"56\": 148}, \"15\": {\"15\": 141, \"11\": 1}}, \"C_2\": {\"49\": {\"49\": 24}, \"13\": {\"13\": 116}, \"37\": {\"37\": 36}, \"41\": {\"41\": 19, \"1\": 1}, \"15\": {\"15\": 142}, \"56\": {\"56\": 139, \"5\": 1, \"46\": 1, \"0\": 1}, \"14\": {\"14\": 24}, \"3\": {\"3\": 92}, \"38\": {\"38\": 20}, \"43\": {\"43\": 138}, \"33\": {\"33\": 28}, \"47\": {\"47\": 138}, \"30\": {\"30\": 144}, \"39\": {\"39\": 28}, \"12\": {\"12\": 92}, \"6\": {\"6\": 124}, \"51\": {\"51\": 134}, \"5\": {\"5\": 120}, \"34\": {\"34\": 28}, \"35\": {\"35\": 32}, \"0\": {\"0\": 48}, \"7\": {\"7\": 35, \"42\": 1}, \"24\": {\"24\": 96}, \"8\": {\"8\": 136}, \"20\": {\"20\": 124}, \"36\": {\"36\": 116}, \"42\": {\"42\": 36}, \"1\": {\"1\": 111, \"52\": 1}, \"4\": {\"4\": 148}, \"28\": {\"28\": 28}, \"50\": {\"50\": 136}, \"45\": {\"45\": 123, \"6\": 5}, \"18\": {\"18\": 48}, \"57\": {\"57\": 120}, \"46\": {\"46\": 128}, \"23\": {\"23\": 148}, \"27\": {\"27\": 138}, \"19\": {\"19\": 134}, \"22\": {\"22\": 136}, \"17\": {\"17\": 104}, \"55\": {\"55\": 136}, \"44\": {\"44\": 100}, \"26\": {\"26\": 24}, \"31\": {\"31\": 28}, \"16\": {\"16\": 130}, \"11\": {\"11\": 128}, \"25\": {\"25\": 126}, \"54\": {\"54\": 108}, \"32\": {\"32\": 28}, \"52\": {\"52\": 124}, \"40\": {\"40\": 131, \"29\": 1}, \"2\": {\"2\": 32}, \"10\": {\"10\": 110}, \"53\": {\"53\": 136}, \"9\": {\"9\": 150}, \"21\": {\"21\": 119, \"1\": 1}, \"48\": {\"48\": 138}, \"29\": {\"29\": 128}}, \"C_1\": {\"9\": {\"9\": 142}, \"25\": {\"25\": 128}, \"41\": {\"41\": 24}, \"29\": {\"29\": 140}, \"46\": {\"46\": 127, \"50\": 1}, \"4\": {\"4\": 132}, \"31\": {\"31\": 28}, \"36\": {\"36\": 62, \"57\": 1, \"29\": 1}, \"20\": {\"20\": 128}, \"7\": {\"7\": 28}, \"6\": {\"6\": 96}, \"16\": {\"16\": 138}, \"17\": {\"17\": 64}, \"50\": {\"50\": 148}, \"57\": {\"57\": 141, \"29\": 3}, \"23\": {\"23\": 136}, \"3\": {\"3\": 123, \"56\": 2, \"0\": 1}, \"53\": {\"53\": 140}, \"49\": {\"49\": 32}, \"56\": {\"56\": 152}, \"51\": {\"51\": 142}, \"26\": {\"26\": 24}, \"43\": {\"49\": 5, \"43\": 139}, \"22\": {\"22\": 135, \"21\": 1}, \"45\": {\"45\": 146}, \"13\": {\"13\": 152}, \"12\": {\"12\": 116}, \"54\": {\"54\": 104}, \"24\": {\"24\": 108}, \"44\": {\"44\": 136}, \"28\": {\"28\": 28}, \"33\": {\"33\": 32}, \"38\": {\"38\": 21, \"36\": 2, \"29\": 1}, \"0\": {\"0\": 144}, \"47\": {\"47\": 154}, \"42\": {\"42\": 38, \"55\": 1, \"19\": 1}, \"34\": {\"34\": 24}, \"48\": {\"48\": 142}, \"35\": {\"35\": 36}, \"2\": {\"2\": 36}, \"30\": {\"30\": 120}, \"18\": {\"18\": 72}, \"37\": {\"37\": 31, \"29\": 1}, \"1\": {\"1\": 100}, \"11\": {\"11\": 138}, \"55\": {\"55\": 130}, \"15\": {\"15\": 150}, \"10\": {\"10\": 96}, \"27\": {\"27\": 160}, \"19\": {\"19\": 146}, \"14\": {\"30\": 3, \"14\": 21}, \"8\": {\"8\": 140}, \"5\": {\"5\": 136}, \"39\": {\"39\": 26, \"47\": 2}, \"52\": {\"52\": 122}, \"21\": {\"21\": 124}, \"40\": {\"40\": 152}, \"32\": {\"32\": 32}}, \"C_3\": {\"56\": {\"56\": 120}, \"4\": {\"4\": 145, \"20\": 1}, \"34\": {\"34\": 32}, \"52\": {\"52\": 136}, \"32\": {\"32\": 28}, \"46\": {\"46\": 136}, \"12\": {\"12\": 87, \"45\": 3, \"46\": 2}, \"20\": {\"20\": 131, \"9\": 1}, \"54\": {\"54\": 100}, \"22\": {\"22\": 140}, \"26\": {\"26\": 24}, \"31\": {\"31\": 28}, \"10\": {\"10\": 64}, \"27\": {\"27\": 144}, \"40\": {\"40\": 136}, \"28\": {\"28\": 28}, \"5\": {\"5\": 115, \"3\": 1}, \"30\": {\"30\": 120}, \"7\": {\"7\": 36}, \"18\": {\"18\": 84}, \"39\": {\"39\": 16}, \"50\": {\"50\": 132, \"3\": 1, \"21\": 2, \"46\": 1}, \"49\": {\"49\": 20}, \"43\": {\"43\": 122}, \"29\": {\"29\": 114}, \"35\": {\"35\": 28}, \"13\": {\"13\": 122, \"43\": 2}, \"36\": {\"36\": 100}, \"11\": {\"11\": 146}, \"57\": {\"57\": 124}, \"9\": {\"9\": 130}, \"25\": {\"25\": 130}, \"16\": {\"16\": 126}, \"53\": {\"53\": 118}, \"33\": {\"33\": 28}, \"51\": {\"51\": 128}, \"44\": {\"44\": 88}, \"48\": {\"48\": 111, \"52\": 1, \"41\": 1, \"1\": 1}, \"6\": {\"6\": 88}, \"23\": {\"23\": 144}, \"1\": {\"1\": 100}, \"17\": {\"38\": 2, \"17\": 104, \"53\": 2}, \"21\": {\"21\": 121, \"50\": 1}, \"14\": {\"14\": 38, \"13\": 2}, \"55\": {\"55\": 144}, \"41\": {\"41\": 28}, \"3\": {\"3\": 137, \"50\": 1}, \"38\": {\"38\": 28}, \"2\": {\"2\": 32}, \"8\": {\"8\": 142}, \"37\": {\"37\": 28}, \"45\": {\"45\": 56, \"12\": 4}, \"42\": {\"42\": 28}, \"24\": {\"24\": 104}, \"15\": {\"15\": 136}, \"0\": {\"0\": 124}, \"47\": {\"47\": 92}, \"19\": {\"19\": 120}}, \"O_14\": {\"15\": {\"15\": 240}, \"5\": {\"12\": 61, \"2\": 25, \"13\": 3, \"5\": 71, \"0\": 43, \"4\": 3, \"8\": 12, \"14\": 12, \"3\": 7, \"6\": 1, \"7\": 2}, \"7\": {\"8\": 49, \"7\": 112, \"2\": 3, \"3\": 57, \"0\": 10, \"5\": 4, \"6\": 3, \"13\": 2}, \"4\": {\"12\": 55, \"4\": 126, \"5\": 11, \"2\": 14, \"10\": 21, \"0\": 5, \"9\": 6, \"13\": 1, \"1\": 1}, \"10\": {\"10\": 172, \"9\": 36, \"4\": 27, \"1\": 4, \"5\": 1}, \"11\": {\"11\": 240}, \"12\": {\"12\": 95, \"5\": 56, \"2\": 19, \"4\": 54, \"8\": 4, \"7\": 1, \"0\": 10, \"10\": 1}, \"0\": {\"5\": 37, \"3\": 32, \"13\": 14, \"2\": 27, \"0\": 35, \"14\": 28, \"6\": 21, \"4\": 21, \"7\": 8, \"12\": 15, \"8\": 2}, \"14\": {\"5\": 19, \"14\": 79, \"2\": 43, \"6\": 28, \"13\": 30, \"0\": 30, \"4\": 2, \"7\": 1, \"3\": 7, \"12\": 1}, \"8\": {\"8\": 139, \"7\": 48, \"5\": 23, \"12\": 27, \"0\": 2, \"3\": 1}, \"13\": {\"3\": 14, \"6\": 78, \"13\": 46, \"4\": 5, \"14\": 40, \"0\": 12, \"15\": 14, \"2\": 23, \"5\": 5, \"12\": 3}, \"6\": {\"3\": 31, \"6\": 98, \"2\": 11, \"14\": 24, \"13\": 59, \"0\": 14, \"7\": 1, \"5\": 2}, \"1\": {\"1\": 136, \"9\": 96, \"10\": 6, \"4\": 2}, \"3\": {\"3\": 103, \"7\": 37, \"2\": 11, \"0\": 30, \"6\": 37, \"5\": 5, \"13\": 9, \"8\": 1, \"14\": 7}, \"9\": {\"4\": 4, \"1\": 105, \"9\": 93, \"10\": 38}, \"2\": {\"5\": 24, \"6\": 22, \"14\": 30, \"4\": 27, \"2\": 34, \"7\": 3, \"0\": 33, \"13\": 16, \"12\": 30, \"3\": 20, \"8\": 1}}, \"O_20\": {\"4\": {\"4\": 101, \"6\": 31, \"10\": 41, \"12\": 25, \"13\": 5, \"2\": 8, \"7\": 12, \"1\": 2, \"15\": 5, \"14\": 7, \"8\": 1, \"5\": 1, \"3\": 1}, \"10\": {\"10\": 181, \"4\": 53, \"15\": 1, \"6\": 2, \"12\": 1, \"13\": 2}, \"15\": {\"1\": 21, \"13\": 51, \"15\": 24, \"7\": 27, \"5\": 18, \"2\": 36, \"6\": 15, \"9\": 16, \"12\": 15, \"3\": 11, \"14\": 3, \"8\": 2, \"4\": 1}, \"0\": {\"0\": 171, \"8\": 20, \"11\": 33, \"5\": 7, \"3\": 6, \"1\": 1, \"14\": 2}, \"6\": {\"6\": 44, \"5\": 9, \"15\": 19, \"13\": 17, \"9\": 11, \"7\": 33, \"14\": 20, \"12\": 35, \"3\": 5, \"2\": 21, \"4\": 8, \"1\": 8, \"8\": 9, \"10\": 1}, \"3\": {\"5\": 32, \"3\": 42, \"14\": 27, \"0\": 13, \"15\": 5, \"7\": 14, \"8\": 42, \"2\": 8, \"1\": 21, \"6\": 3, \"9\": 29, \"12\": 4}, \"7\": {\"13\": 33, \"3\": 14, \"7\": 29, \"5\": 10, \"14\": 17, \"6\": 14, \"9\": 26, \"2\": 31, \"15\": 26, \"12\": 14, \"8\": 8, \"1\": 18}, \"2\": {\"6\": 14, \"12\": 31, \"4\": 4, \"15\": 26, \"9\": 15, \"13\": 51, \"5\": 20, \"7\": 29, \"1\": 14, \"3\": 5, \"2\": 28, \"14\": 2, \"0\": 1}, \"8\": {\"8\": 74, \"3\": 38, \"5\": 27, \"14\": 41, \"1\": 14, \"9\": 14, \"0\": 26, \"6\": 4, \"7\": 1, \"15\": 1}, \"11\": {\"11\": 204, \"0\": 34, \"5\": 2}, \"14\": {\"14\": 77, \"3\": 29, \"8\": 49, \"5\": 23, \"0\": 10, \"1\": 12, \"7\": 6, \"9\": 14, \"15\": 3, \"12\": 4, \"6\": 9, \"2\": 3, \"4\": 1}, \"12\": {\"6\": 28, \"13\": 36, \"5\": 12, \"4\": 9, \"15\": 24, \"2\": 33, \"12\": 46, \"7\": 24, \"9\": 9, \"1\": 10, \"14\": 4, \"8\": 2, \"3\": 3}, \"13\": {\"13\": 122, \"2\": 45, \"7\": 12, \"15\": 30, \"12\": 24, \"6\": 5, \"9\": 1, \"3\": 1}, \"9\": {\"8\": 17, \"9\": 29, \"7\": 20, \"5\": 29, \"3\": 31, \"1\": 45, \"2\": 13, \"14\": 14, \"12\": 6, \"15\": 28, \"13\": 4, \"6\": 3, \"0\": 1}, \"5\": {\"8\": 36, \"5\": 40, \"3\": 30, \"9\": 36, \"1\": 45, \"6\": 3, \"12\": 2, \"14\": 18, \"7\": 16, \"2\": 3, \"15\": 10, \"0\": 1}, \"1\": {\"5\": 29, \"8\": 18, \"15\": 32, \"1\": 32, \"9\": 28, \"7\": 24, \"2\": 22, \"14\": 10, \"3\": 35, \"12\": 3, \"13\": 4, \"6\": 3}}, \"O_50\": {\"5\": {\"7\": 50, \"15\": 34, \"5\": 60, \"6\": 27, \"11\": 17, \"9\": 10, \"13\": 7, \"3\": 15, \"1\": 1, \"4\": 19}, \"12\": {\"9\": 47, \"11\": 22, \"12\": 162, \"6\": 5, \"3\": 2, \"15\": 2}, \"14\": {\"14\": 99, \"2\": 84, \"0\": 54, \"10\": 3}, \"4\": {\"4\": 102, \"7\": 103, \"5\": 24, \"9\": 3, \"6\": 6, \"15\": 2}, \"13\": {\"1\": 36, \"13\": 186, \"5\": 3, \"11\": 5, \"3\": 6, \"8\": 4}, \"10\": {\"8\": 30, \"10\": 156, \"0\": 41, \"14\": 1, \"1\": 10, \"2\": 2}, \"9\": {\"11\": 14, \"15\": 32, \"9\": 97, \"6\": 33, \"12\": 45, \"5\": 9, \"3\": 5, \"4\": 5}, \"15\": {\"3\": 30, \"5\": 39, \"15\": 68, \"6\": 73, \"11\": 13, \"9\": 15, \"4\": 2}, \"6\": {\"5\": 34, \"7\": 3, \"15\": 70, \"9\": 23, \"6\": 56, \"3\": 35, \"12\": 3, \"11\": 15, \"4\": 1}, \"2\": {\"14\": 87, \"0\": 45, \"10\": 4, \"2\": 104}, \"0\": {\"0\": 112, \"10\": 47, \"14\": 45, \"2\": 36}, \"11\": {\"3\": 47, \"6\": 17, \"11\": 125, \"5\": 9, \"15\": 11, \"9\": 10, \"12\": 10, \"13\": 11}, \"3\": {\"15\": 34, \"3\": 85, \"5\": 18, \"11\": 51, \"6\": 42, \"9\": 6, \"13\": 4}, \"8\": {\"8\": 136, \"10\": 27, \"1\": 72, \"13\": 5}, \"7\": {\"4\": 96, \"7\": 125, \"5\": 18, \"15\": 1}, \"1\": {\"8\": 71, \"1\": 94, \"13\": 53, \"10\": 21, \"3\": 1}}, \"O_26\": {\"7\": {\"7\": 56, \"0\": 10, \"12\": 30, \"9\": 31, \"8\": 57, \"13\": 6, \"3\": 34, \"2\": 15, \"10\": 1}, \"6\": {\"5\": 37, \"1\": 43, \"14\": 11, \"10\": 14, \"15\": 55, \"6\": 76, \"2\": 1, \"0\": 2, \"11\": 1}, \"14\": {\"10\": 65, \"0\": 49, \"14\": 64, \"6\": 11, \"1\": 41, \"15\": 5, \"2\": 5}, \"15\": {\"0\": 8, \"15\": 71, \"6\": 61, \"10\": 26, \"5\": 43, \"1\": 20, \"11\": 4, \"14\": 6, \"2\": 1}, \"5\": {\"5\": 87, \"15\": 66, \"6\": 41, \"11\": 36, \"1\": 8, \"10\": 2}, \"10\": {\"14\": 59, \"0\": 53, \"1\": 22, \"10\": 87, \"15\": 8, \"6\": 7, \"2\": 4}, \"4\": {\"4\": 225, \"13\": 4, \"3\": 6, \"12\": 4, \"7\": 1}, \"11\": {\"11\": 141, \"1\": 5, \"5\": 71, \"6\": 11, \"15\": 11, \"2\": 1}, \"13\": {\"8\": 7, \"13\": 131, \"9\": 33, \"7\": 5, \"12\": 11, \"4\": 14, \"2\": 13, \"3\": 26}, \"2\": {\"8\": 43, \"9\": 41, \"2\": 69, \"0\": 29, \"13\": 6, \"3\": 9, \"12\": 13, \"7\": 18, \"10\": 9, \"15\": 1, \"14\": 2}, \"0\": {\"6\": 1, \"2\": 28, \"0\": 96, \"14\": 51, \"10\": 33, \"7\": 6, \"8\": 16, \"9\": 5, \"1\": 2, \"15\": 2}, \"12\": {\"8\": 31, \"3\": 60, \"13\": 29, \"12\": 47, \"9\": 26, \"0\": 3, \"7\": 37, \"2\": 7}, \"3\": {\"8\": 20, \"13\": 41, \"3\": 59, \"12\": 46, \"7\": 39, \"9\": 26, \"2\": 5, \"4\": 3, \"10\": 1}, \"9\": {\"3\": 31, \"12\": 25, \"7\": 24, \"8\": 32, \"13\": 32, \"2\": 40, \"9\": 38, \"0\": 16, \"10\": 1, \"4\": 1}, \"8\": {\"7\": 56, \"8\": 60, \"9\": 25, \"12\": 19, \"3\": 21, \"2\": 27, \"0\": 24, \"13\": 5, \"14\": 1, \"10\": 2}, \"1\": {\"6\": 33, \"1\": 142, \"14\": 18, \"10\": 17, \"0\": 6, \"15\": 14, \"11\": 6, \"5\": 4}}, \"O_32\": {\"7\": {\"7\": 91, \"14\": 50, \"0\": 30, \"8\": 8, \"5\": 61}, \"2\": {\"2\": 116, \"4\": 79, \"8\": 7, \"1\": 23, \"14\": 10, \"0\": 2, \"3\": 1, \"13\": 2}, \"5\": {\"5\": 107, \"7\": 49, \"0\": 39, \"8\": 26, \"15\": 5, \"14\": 13, \"2\": 1}, \"6\": {\"6\": 226, \"10\": 14}, \"13\": {\"4\": 20, \"13\": 87, \"9\": 53, \"11\": 8, \"3\": 55, \"1\": 15, \"2\": 2}, \"4\": {\"2\": 49, \"4\": 76, \"1\": 44, \"13\": 33, \"3\": 30, \"14\": 2, \"8\": 3, \"9\": 3}, \"3\": {\"13\": 56, \"3\": 79, \"1\": 69, \"4\": 24, \"9\": 9, \"2\": 3}, \"0\": {\"0\": 76, \"14\": 50, \"5\": 53, \"7\": 27, \"8\": 32, \"15\": 2}, \"9\": {\"9\": 85, \"13\": 63, \"11\": 41, \"3\": 16, \"12\": 27, \"1\": 2, \"4\": 3, \"10\": 3}, \"12\": {\"12\": 194, \"10\": 25, \"9\": 15, \"11\": 6}, \"8\": {\"0\": 65, \"5\": 25, \"8\": 110, \"14\": 11, \"7\": 6, \"15\": 7, \"1\": 7, \"2\": 4, \"4\": 5}, \"14\": {\"14\": 81, \"0\": 38, \"7\": 50, \"8\": 5, \"2\": 37, \"5\": 24, \"4\": 3, \"15\": 1, \"1\": 1}, \"15\": {\"8\": 11, \"15\": 216, \"5\": 5, \"0\": 6, \"7\": 2}, \"11\": {\"11\": 172, \"9\": 46, \"13\": 14, \"12\": 8}, \"10\": {\"10\": 216, \"12\": 22, \"6\": 2}, \"1\": {\"1\": 126, \"4\": 42, \"2\": 11, \"8\": 20, \"3\": 32, \"13\": 8, \"14\": 1}}, \"O_44\": {\"11\": {\"11\": 240}, \"7\": {\"10\": 40, \"7\": 86, \"9\": 64, \"4\": 29, \"14\": 9, \"6\": 4, \"5\": 8}, \"6\": {\"13\": 60, \"6\": 148, \"9\": 31, \"7\": 1}, \"12\": {\"3\": 95, \"12\": 145}, \"4\": {\"4\": 26, \"10\": 41, \"7\": 49, \"15\": 10, \"9\": 33, \"5\": 19, \"1\": 8, \"2\": 26, \"14\": 21, \"6\": 3, \"8\": 3, \"13\": 1}, \"13\": {\"13\": 171, \"6\": 53, \"9\": 14, \"11\": 2}, \"8\": {\"15\": 57, \"1\": 35, \"8\": 86, \"0\": 43, \"5\": 9, \"10\": 1, \"4\": 3, \"3\": 1, \"14\": 4, \"2\": 1}, \"5\": {\"7\": 17, \"10\": 37, \"4\": 29, \"5\": 57, \"14\": 48, \"1\": 5, \"15\": 20, \"2\": 19, \"8\": 4, \"9\": 4}, \"14\": {\"14\": 63, \"5\": 36, \"9\": 14, \"15\": 23, \"10\": 43, \"7\": 15, \"8\": 3, \"4\": 36, \"2\": 7}, \"3\": {\"12\": 120, \"3\": 111, \"0\": 9}, \"10\": {\"7\": 58, \"4\": 33, \"5\": 23, \"1\": 10, \"9\": 39, \"6\": 1, \"10\": 46, \"14\": 24, \"8\": 1, \"15\": 4, \"0\": 1}, \"1\": {\"1\": 96, \"5\": 6, \"8\": 24, \"2\": 40, \"15\": 22, \"0\": 46, \"14\": 4, \"4\": 2}, \"2\": {\"2\": 147, \"1\": 40, \"10\": 5, \"5\": 14, \"4\": 12, \"0\": 1, \"14\": 10, \"8\": 3, \"15\": 7, \"9\": 1}, \"15\": {\"15\": 80, \"1\": 27, \"5\": 26, \"8\": 41, \"14\": 33, \"0\": 4, \"2\": 7, \"10\": 8, \"4\": 14}, \"9\": {\"9\": 67, \"5\": 9, \"13\": 28, \"6\": 36, \"7\": 42, \"14\": 14, \"10\": 21, \"4\": 16, \"2\": 7}, \"0\": {\"8\": 29, \"0\": 148, \"3\": 5, \"1\": 53, \"15\": 3, \"2\": 1, \"5\": 1}}, \"O_8\": {\"10\": {\"5\": 50, \"13\": 42, \"6\": 43, \"10\": 45, \"7\": 51, \"1\": 4, \"4\": 4, \"11\": 1}, \"6\": {\"5\": 35, \"6\": 90, \"1\": 19, \"4\": 13, \"7\": 50, \"10\": 26, \"13\": 2, \"11\": 4, \"8\": 1}, \"13\": {\"5\": 26, \"7\": 40, \"13\": 116, \"10\": 52, \"6\": 6}, \"3\": {\"3\": 214, \"2\": 23, \"9\": 3}, \"9\": {\"9\": 222, \"3\": 18}, \"1\": {\"13\": 3, \"1\": 90, \"6\": 25, \"11\": 34, \"5\": 24, \"4\": 29, \"8\": 11, \"7\": 11, \"10\": 13}, \"5\": {\"13\": 51, \"10\": 49, \"6\": 24, \"7\": 37, \"1\": 17, \"5\": 44, \"4\": 12, \"11\": 4, \"12\": 1, \"8\": 1}, \"11\": {\"4\": 26, \"6\": 7, \"1\": 53, \"8\": 62, \"14\": 22, \"11\": 64, \"5\": 5, \"10\": 1}, \"4\": {\"4\": 135, \"6\": 5, \"14\": 35, \"5\": 3, \"11\": 26, \"8\": 12, \"1\": 22, \"10\": 1, \"7\": 1}, \"14\": {\"14\": 170, \"4\": 26, \"8\": 34, \"11\": 10}, \"12\": {\"15\": 87, \"12\": 146, \"2\": 7}, \"7\": {\"5\": 31, \"7\": 74, \"6\": 42, \"10\": 63, \"13\": 27, \"1\": 1, \"4\": 2}, \"0\": {\"0\": 239, \"14\": 1}, \"15\": {\"15\": 129, \"12\": 98, \"2\": 13}, \"2\": {\"2\": 132, \"3\": 46, \"13\": 3, \"12\": 19, \"15\": 37, \"5\": 3}, \"8\": {\"4\": 20, \"8\": 97, \"11\": 72, \"14\": 33, \"1\": 18}}, \"O_38\": {\"4\": {\"4\": 239, \"0\": 1}, \"7\": {\"2\": 67, \"7\": 94, \"8\": 6, \"14\": 61, \"9\": 2, \"13\": 5, \"5\": 1, \"0\": 3, \"4\": 1}, \"12\": {\"12\": 239, \"5\": 1}, \"10\": {\"10\": 159, \"0\": 59, \"4\": 5, \"13\": 16, \"3\": 1}, \"0\": {\"13\": 75, \"0\": 51, \"7\": 8, \"10\": 89, \"2\": 8, \"3\": 6, \"4\": 1, \"14\": 2}, \"1\": {\"1\": 125, \"6\": 110, \"15\": 5}, \"5\": {\"2\": 26, \"5\": 75, \"9\": 31, \"15\": 25, \"7\": 6, \"8\": 76, \"12\": 1}, \"15\": {\"5\": 22, \"15\": 181, \"8\": 24, \"1\": 6, \"12\": 1, \"6\": 6}, \"9\": {\"9\": 164, \"2\": 31, \"5\": 30, \"8\": 11, \"7\": 3, \"13\": 1}, \"11\": {\"11\": 240}, \"14\": {\"14\": 123, \"2\": 28, \"8\": 7, \"7\": 73, \"5\": 1, \"4\": 6, \"0\": 2}, \"6\": {\"6\": 118, \"1\": 122}, \"8\": {\"2\": 38, \"5\": 72, \"8\": 55, \"15\": 29, \"12\": 14, \"9\": 10, \"7\": 19, \"14\": 2, \"13\": 1}, \"3\": {\"3\": 234, \"11\": 6}, \"2\": {\"9\": 19, \"2\": 108, \"8\": 10, \"7\": 84, \"14\": 11, \"5\": 5, \"13\": 2, \"0\": 1}, \"13\": {\"0\": 63, \"10\": 16, \"13\": 147, \"7\": 10, \"2\": 4}}}, \"per_domain_accuracy\": {\"C_4\": {\"accuracy\": 0.9936377245508982, \"source?\": true}, \"C_5\": {\"accuracy\": 0.9933659217877095, \"source?\": true}, \"C_2\": {\"accuracy\": 0.9976785714285714, \"source?\": true}, \"C_1\": {\"accuracy\": 0.9955842391304348, \"source?\": true}, \"C_3\": {\"accuracy\": 0.9946691176470588, \"source?\": true}, \"O_14\": {\"accuracy\": 0.47369791666666666, \"source?\": false}, \"O_20\": {\"accuracy\": 0.32395833333333335, \"source?\": false}, \"O_50\": {\"accuracy\": 0.46015625, \"source?\": false}, \"O_26\": {\"accuracy\": 0.37734375, \"source?\": false}, \"O_32\": {\"accuracy\": 0.5359375, \"source?\": false}, \"O_44\": {\"accuracy\": 0.4471354166666667, \"source?\": false}, \"O_8\": {\"accuracy\": 0.52265625, \"source?\": false}, \"O_38\": {\"accuracy\": 0.6125, \"source?\": false}}}, \"history\": {\"epoch_indices\": [1, 2, 3, 4, 5, 6, 7], \"train_label_loss\": [0.05169840324657244, 0.18898283257894827, 0.018941128758204858, 0.06915941639066667, 0.011009077510820394, 0.009935480843583457, 0.010174571242708302], \"source_val_label_loss\": [1.2510429620742798, 0.07367131859064102, 0.04667404666543007, 0.037713583558797836, 0.04321422800421715, 0.03606268763542175, 0.022501569241285324], \"target_val_label_loss\": [11.453254699707031, 1.6350042819976807, 1.6431974172592163, 1.5796668529510498, 1.5945847034454346, 1.7051079273223877, 4.857046127319336], \"source_val_acc_label\": [0.9839285714285714, 0.996, 0.995, 0.9966785714285714, 0.99725, 0.9972857142857143, 0.9977857142857143], \"target_val_acc_label\": [0.3167643229166667, 0.41695963541666664, 0.46917317708333334, 0.43597005208333334, 0.4173828125, 0.4169921875, 0.3997395833333333]}, \"dataset_metrics\": {\"source\": {\"train\": {\"n_unique_x\": 175174, \"n_unique_y\": 58, \"n_batch/episode\": 6293}, \"val\": {\"n_unique_x\": 37216, \"n_unique_y\": 58, \"n_batch/episode\": 875}, \"test\": {\"n_unique_x\": 37596, \"n_unique_y\": 58, \"n_batch/episode\": 886}}, \"target\": {\"train\": {\"n_unique_x\": 179200, \"n_unique_y\": 16, \"n_batch/episode\": 6720}, \"val\": {\"n_unique_x\": 38400, \"n_unique_y\": 16, \"n_batch/episode\": 960}, \"test\": {\"n_unique_x\": 38400, \"n_unique_y\": 16, \"n_batch/episode\": 960}}}}'"
      ]
     },
     "execution_count": 29,
     "metadata": {},
     "output_type": "execute_result"
    }
   ],
   "source": [
    "json.dumps(experiment)"
   ]
  }
 ],
 "metadata": {
  "celltoolbar": "Tags",
  "kernelspec": {
   "display_name": "Python 3 (ipykernel)",
   "language": "python",
   "name": "python3"
  },
  "language_info": {
   "codemirror_mode": {
    "name": "ipython",
    "version": 3
   },
   "file_extension": ".py",
   "mimetype": "text/x-python",
   "name": "python",
   "nbconvert_exporter": "python",
   "pygments_lexer": "ipython3",
   "version": "3.8.12"
  },
  "papermill": {
   "default_parameters": {},
   "duration": 1250.201487,
   "end_time": "2022-03-28T13:30:53.479156",
   "environment_variables": {},
   "exception": null,
   "input_path": "/root/csc500-main/csc500-notebooks/templates/tl_ptn_template.ipynb",
   "output_path": "trial.ipynb",
   "parameters": {
    "parameters": {
     "BEST_MODEL_PATH": "./best_model.pth",
     "NUM_LOGS_PER_EPOCH": 10,
     "criteria_for_best": "target_accuracy",
     "dataset_seed": 420,
     "datasets": [
      {
       "domain_prefix": "C_",
       "domains": [
        1,
        2,
        3,
        4,
        5
       ],
       "episode_transforms": [],
       "labels": [
        "1-10.",
        "1-11.",
        "1-15.",
        "1-16.",
        "1-17.",
        "1-18.",
        "1-19.",
        "10-4.",
        "10-7.",
        "11-1.",
        "11-14.",
        "11-17.",
        "11-20.",
        "11-7.",
        "13-20.",
        "13-8.",
        "14-10.",
        "14-11.",
        "14-14.",
        "14-7.",
        "15-1.",
        "15-20.",
        "16-1.",
        "16-16.",
        "17-10.",
        "17-11.",
        "17-2.",
        "19-1.",
        "19-16.",
        "19-19.",
        "19-20.",
        "19-3.",
        "2-10.",
        "2-11.",
        "2-17.",
        "2-18.",
        "2-20.",
        "2-3.",
        "2-4.",
        "2-5.",
        "2-6.",
        "2-7.",
        "2-8.",
        "3-13.",
        "3-18.",
        "3-3.",
        "4-1.",
        "4-10.",
        "4-11.",
        "4-19.",
        "5-5.",
        "6-15.",
        "7-10.",
        "7-14.",
        "8-18.",
        "8-20.",
        "8-3.",
        "8-8."
       ],
       "num_examples_per_domain_per_label": -1,
       "pickle_path": "/root/csc500-main/datasets/cores.stratified_ds.2022A.pkl",
       "source_or_target_dataset": "source",
       "x_transforms": [
        "jitter_256_5",
        "lowpass_+/-10MHz",
        "take_200"
       ]
      },
      {
       "domain_prefix": "O_",
       "domains": [
        32,
        38,
        8,
        44,
        14,
        50,
        20,
        26
       ],
       "episode_transforms": [],
       "labels": [
        "3123D52",
        "3123D65",
        "3123D79",
        "3123D80",
        "3123D54",
        "3123D70",
        "3123D7B",
        "3123D89",
        "3123D58",
        "3123D76",
        "3123D7D",
        "3123EFE",
        "3123D64",
        "3123D78",
        "3123D7E",
        "3124E4A"
       ],
       "num_examples_per_domain_per_label": 2000,
       "pickle_path": "/root/csc500-main/datasets/oracle.Run1_framed_2000Examples_stratified_ds.2022A.pkl",
       "source_or_target_dataset": "target",
       "x_transforms": [
        "jitter_256_5",
        "take_200",
        "resample_20Msps_to_25Msps"
       ]
      }
     ],
     "device": "cuda",
     "experiment_name": "tl_3-jitter5v2:cores -> oracle.run1.framed",
     "lr": 0.0001,
     "n_epoch": 50,
     "n_query": 2,
     "n_shot": 3,
     "n_way": 16,
     "patience": 3,
     "seed": 420,
     "test_k_factor": 2,
     "torch_default_dtype": "torch.float32",
     "train_k_factor": 3,
     "val_k_factor": 2,
     "x_net": [
      {
       "class": "nnReshape",
       "kargs": {
        "shape": [
         -1,
         1,
         2,
         256
        ]
       }
      },
      {
       "class": "Conv2d",
       "kargs": {
        "bias": false,
        "in_channels": 1,
        "kernel_size": [
         1,
         7
        ],
        "out_channels": 256,
        "padding": [
         0,
         3
        ]
       }
      },
      {
       "class": "ReLU",
       "kargs": {
        "inplace": true
       }
      },
      {
       "class": "BatchNorm2d",
       "kargs": {
        "num_features": 256
       }
      },
      {
       "class": "Conv2d",
       "kargs": {
        "bias": true,
        "in_channels": 256,
        "kernel_size": [
         2,
         7
        ],
        "out_channels": 80,
        "padding": [
         0,
         3
        ]
       }
      },
      {
       "class": "ReLU",
       "kargs": {
        "inplace": true
       }
      },
      {
       "class": "BatchNorm2d",
       "kargs": {
        "num_features": 80
       }
      },
      {
       "class": "Flatten",
       "kargs": {}
      },
      {
       "class": "Linear",
       "kargs": {
        "in_features": 20480,
        "out_features": 256
       }
      },
      {
       "class": "ReLU",
       "kargs": {
        "inplace": true
       }
      },
      {
       "class": "BatchNorm1d",
       "kargs": {
        "num_features": 256
       }
      },
      {
       "class": "Linear",
       "kargs": {
        "in_features": 256,
        "out_features": 256
       }
      }
     ],
     "x_shape": [
      2,
      256
     ]
    }
   },
   "start_time": "2022-03-28T13:10:03.277669",
   "version": "2.3.4"
  }
 },
 "nbformat": 4,
 "nbformat_minor": 5
}