{
 "cells": [
  {
   "cell_type": "markdown",
   "id": "9fea5f46",
   "metadata": {
    "papermill": {
     "duration": 0.028543,
     "end_time": "2022-03-28T14:25:28.516112",
     "exception": false,
     "start_time": "2022-03-28T14:25:28.487569",
     "status": "completed"
    },
    "tags": []
   },
   "source": [
    "# Transfer Learning Template"
   ]
  },
  {
   "cell_type": "code",
   "execution_count": 1,
   "id": "0902182a",
   "metadata": {
    "execution": {
     "iopub.execute_input": "2022-03-28T14:25:28.577490Z",
     "iopub.status.busy": "2022-03-28T14:25:28.567341Z",
     "iopub.status.idle": "2022-03-28T14:25:30.407691Z",
     "shell.execute_reply": "2022-03-28T14:25:30.407305Z"
    },
    "papermill": {
     "duration": 1.868567,
     "end_time": "2022-03-28T14:25:30.407776",
     "exception": false,
     "start_time": "2022-03-28T14:25:28.539209",
     "status": "completed"
    },
    "tags": []
   },
   "outputs": [],
   "source": [
    "%load_ext autoreload\n",
    "%autoreload 2\n",
    "%matplotlib inline\n",
    "\n",
    "    \n",
    "import os, json, sys, time, random\n",
    "import numpy as np\n",
    "import torch\n",
    "from torch.optim import Adam\n",
    "from  easydict import EasyDict\n",
    "import matplotlib.pyplot as plt\n",
    "\n",
    "from steves_models.steves_ptn import Steves_Prototypical_Network\n",
    "\n",
    "from steves_utils.lazy_iterable_wrapper import Lazy_Iterable_Wrapper\n",
    "from steves_utils.iterable_aggregator import Iterable_Aggregator\n",
    "from steves_utils.ptn_train_eval_test_jig import  PTN_Train_Eval_Test_Jig\n",
    "from steves_utils.torch_sequential_builder import build_sequential\n",
    "from steves_utils.torch_utils import get_dataset_metrics, ptn_confusion_by_domain_over_dataloader\n",
    "from steves_utils.utils_v2 import (per_domain_accuracy_from_confusion, get_datasets_base_path)\n",
    "from steves_utils.PTN.utils import independent_accuracy_assesment\n",
    "\n",
    "from torch.utils.data import DataLoader\n",
    "\n",
    "from steves_utils.stratified_dataset.episodic_accessor import Episodic_Accessor_Factory\n",
    "\n",
    "from steves_utils.ptn_do_report import (\n",
    "    get_loss_curve,\n",
    "    get_results_table,\n",
    "    get_parameters_table,\n",
    "    get_domain_accuracies,\n",
    ")\n",
    "\n",
    "from steves_utils.transforms import get_chained_transform"
   ]
  },
  {
   "cell_type": "markdown",
   "id": "41c840b4",
   "metadata": {
    "papermill": {
     "duration": 0.019751,
     "end_time": "2022-03-28T14:25:30.447401",
     "exception": false,
     "start_time": "2022-03-28T14:25:30.427650",
     "status": "completed"
    },
    "tags": []
   },
   "source": [
    "# Allowed Parameters\n",
    "These are allowed parameters, not defaults\n",
    "Each of these values need to be present in the injected parameters (the notebook will raise an exception if they are not present)\n",
    "\n",
    "Papermill uses the cell tag \"parameters\" to inject the real parameters below this cell.\n",
    "Enable tags to see what I mean"
   ]
  },
  {
   "cell_type": "code",
   "execution_count": 2,
   "id": "fd44eb83",
   "metadata": {
    "execution": {
     "iopub.execute_input": "2022-03-28T14:25:30.491876Z",
     "iopub.status.busy": "2022-03-28T14:25:30.491478Z",
     "iopub.status.idle": "2022-03-28T14:25:30.513352Z",
     "shell.execute_reply": "2022-03-28T14:25:30.512541Z"
    },
    "papermill": {
     "duration": 0.046447,
     "end_time": "2022-03-28T14:25:30.513507",
     "exception": false,
     "start_time": "2022-03-28T14:25:30.467060",
     "status": "completed"
    },
    "tags": []
   },
   "outputs": [],
   "source": [
    "required_parameters = {\n",
    "    \"experiment_name\",\n",
    "    \"lr\",\n",
    "    \"device\",\n",
    "    \"seed\",\n",
    "    \"dataset_seed\",\n",
    "    \"n_shot\",\n",
    "    \"n_query\",\n",
    "    \"n_way\",\n",
    "    \"train_k_factor\",\n",
    "    \"val_k_factor\",\n",
    "    \"test_k_factor\",\n",
    "    \"n_epoch\",\n",
    "    \"patience\",\n",
    "    \"criteria_for_best\",\n",
    "    \"x_net\",\n",
    "    \"datasets\",\n",
    "    \"torch_default_dtype\",\n",
    "    \"NUM_LOGS_PER_EPOCH\",\n",
    "    \"BEST_MODEL_PATH\",\n",
    "    \"x_shape\",\n",
    "}"
   ]
  },
  {
   "cell_type": "code",
   "execution_count": 3,
   "id": "fa3f0049",
   "metadata": {
    "execution": {
     "iopub.execute_input": "2022-03-28T14:25:30.570953Z",
     "iopub.status.busy": "2022-03-28T14:25:30.570537Z",
     "iopub.status.idle": "2022-03-28T14:25:30.590957Z",
     "shell.execute_reply": "2022-03-28T14:25:30.590140Z"
    },
    "papermill": {
     "duration": 0.051922,
     "end_time": "2022-03-28T14:25:30.591111",
     "exception": false,
     "start_time": "2022-03-28T14:25:30.539189",
     "status": "completed"
    },
    "tags": [
     "parameters"
    ]
   },
   "outputs": [],
   "source": [
    "from steves_utils.CORES.utils import (\n",
    "    ALL_NODES,\n",
    "    ALL_NODES_MINIMUM_1000_EXAMPLES,\n",
    "    ALL_DAYS\n",
    ")\n",
    "\n",
    "from steves_utils.ORACLE.utils_v2 import (\n",
    "    ALL_DISTANCES_FEET_NARROWED,\n",
    "    ALL_RUNS,\n",
    "    ALL_SERIAL_NUMBERS,\n",
    ")\n",
    "\n",
    "standalone_parameters = {}\n",
    "standalone_parameters[\"experiment_name\"] = \"STANDALONE PTN\"\n",
    "standalone_parameters[\"lr\"] = 0.001\n",
    "standalone_parameters[\"device\"] = \"cuda\"\n",
    "\n",
    "standalone_parameters[\"seed\"] = 1337\n",
    "standalone_parameters[\"dataset_seed\"] = 1337\n",
    "\n",
    "standalone_parameters[\"n_way\"] = 8\n",
    "standalone_parameters[\"n_shot\"] = 3\n",
    "standalone_parameters[\"n_query\"]  = 2\n",
    "standalone_parameters[\"train_k_factor\"] = 1\n",
    "standalone_parameters[\"val_k_factor\"] = 2\n",
    "standalone_parameters[\"test_k_factor\"] = 2\n",
    "\n",
    "\n",
    "standalone_parameters[\"n_epoch\"] = 50\n",
    "\n",
    "standalone_parameters[\"patience\"] = 10\n",
    "standalone_parameters[\"criteria_for_best\"] = \"source_loss\"\n",
    "\n",
    "standalone_parameters[\"datasets\"] = [\n",
    "    {\n",
    "        \"labels\": ALL_SERIAL_NUMBERS,\n",
    "        \"domains\": ALL_DISTANCES_FEET_NARROWED,\n",
    "        \"num_examples_per_domain_per_label\": 100,\n",
    "        \"pickle_path\": os.path.join(get_datasets_base_path(), \"oracle.Run1_framed_2000Examples_stratified_ds.2022A.pkl\"),\n",
    "        \"source_or_target_dataset\": \"source\",\n",
    "        \"x_transforms\": [\"unit_mag\", \"minus_two\"],\n",
    "        \"episode_transforms\": [],\n",
    "        \"domain_prefix\": \"ORACLE_\"\n",
    "    },\n",
    "    {\n",
    "        \"labels\": ALL_NODES,\n",
    "        \"domains\": ALL_DAYS,\n",
    "        \"num_examples_per_domain_per_label\": 100,\n",
    "        \"pickle_path\": os.path.join(get_datasets_base_path(), \"cores.stratified_ds.2022A.pkl\"),\n",
    "        \"source_or_target_dataset\": \"target\",\n",
    "        \"x_transforms\": [\"unit_power\", \"times_zero\"],\n",
    "        \"episode_transforms\": [],\n",
    "        \"domain_prefix\": \"CORES_\"\n",
    "    }   \n",
    "]\n",
    "\n",
    "standalone_parameters[\"torch_default_dtype\"] = \"torch.float32\" \n",
    "\n",
    "\n",
    "\n",
    "standalone_parameters[\"x_net\"] =     [\n",
    "    {\"class\": \"nnReshape\", \"kargs\": {\"shape\":[-1, 1, 2, 256]}},\n",
    "    {\"class\": \"Conv2d\", \"kargs\": { \"in_channels\":1, \"out_channels\":256, \"kernel_size\":(1,7), \"bias\":False, \"padding\":(0,3), },},\n",
    "    {\"class\": \"ReLU\", \"kargs\": {\"inplace\": True}},\n",
    "    {\"class\": \"BatchNorm2d\", \"kargs\": {\"num_features\":256}},\n",
    "\n",
    "    {\"class\": \"Conv2d\", \"kargs\": { \"in_channels\":256, \"out_channels\":80, \"kernel_size\":(2,7), \"bias\":True, \"padding\":(0,3), },},\n",
    "    {\"class\": \"ReLU\", \"kargs\": {\"inplace\": True}},\n",
    "    {\"class\": \"BatchNorm2d\", \"kargs\": {\"num_features\":80}},\n",
    "    {\"class\": \"Flatten\", \"kargs\": {}},\n",
    "\n",
    "    {\"class\": \"Linear\", \"kargs\": {\"in_features\": 80*256, \"out_features\": 256}}, # 80 units per IQ pair\n",
    "    {\"class\": \"ReLU\", \"kargs\": {\"inplace\": True}},\n",
    "    {\"class\": \"BatchNorm1d\", \"kargs\": {\"num_features\":256}},\n",
    "\n",
    "    {\"class\": \"Linear\", \"kargs\": {\"in_features\": 256, \"out_features\": 256}},\n",
    "]\n",
    "\n",
    "# Parameters relevant to results\n",
    "# These parameters will basically never need to change\n",
    "standalone_parameters[\"NUM_LOGS_PER_EPOCH\"] = 10\n",
    "standalone_parameters[\"BEST_MODEL_PATH\"] = \"./best_model.pth\"\n",
    "\n",
    "\n",
    "\n",
    "\n"
   ]
  },
  {
   "cell_type": "code",
   "execution_count": 4,
   "id": "2c3154b6",
   "metadata": {
    "execution": {
     "iopub.execute_input": "2022-03-28T14:25:30.654041Z",
     "iopub.status.busy": "2022-03-28T14:25:30.653078Z",
     "iopub.status.idle": "2022-03-28T14:25:30.672304Z",
     "shell.execute_reply": "2022-03-28T14:25:30.671484Z"
    },
    "papermill": {
     "duration": 0.053706,
     "end_time": "2022-03-28T14:25:30.672459",
     "exception": false,
     "start_time": "2022-03-28T14:25:30.618753",
     "status": "completed"
    },
    "tags": [
     "injected-parameters"
    ]
   },
   "outputs": [],
   "source": [
    "# Parameters\n",
    "parameters = {\n",
    "    \"experiment_name\": \"tl_3-jitter5v2:cores -> oracle.run1.framed\",\n",
    "    \"device\": \"cuda\",\n",
    "    \"lr\": 0.0001,\n",
    "    \"x_shape\": [2, 256],\n",
    "    \"n_shot\": 3,\n",
    "    \"n_query\": 2,\n",
    "    \"train_k_factor\": 3,\n",
    "    \"val_k_factor\": 2,\n",
    "    \"test_k_factor\": 2,\n",
    "    \"torch_default_dtype\": \"torch.float32\",\n",
    "    \"n_epoch\": 50,\n",
    "    \"patience\": 3,\n",
    "    \"criteria_for_best\": \"target_accuracy\",\n",
    "    \"x_net\": [\n",
    "        {\"class\": \"nnReshape\", \"kargs\": {\"shape\": [-1, 1, 2, 256]}},\n",
    "        {\n",
    "            \"class\": \"Conv2d\",\n",
    "            \"kargs\": {\n",
    "                \"in_channels\": 1,\n",
    "                \"out_channels\": 256,\n",
    "                \"kernel_size\": [1, 7],\n",
    "                \"bias\": False,\n",
    "                \"padding\": [0, 3],\n",
    "            },\n",
    "        },\n",
    "        {\"class\": \"ReLU\", \"kargs\": {\"inplace\": True}},\n",
    "        {\"class\": \"BatchNorm2d\", \"kargs\": {\"num_features\": 256}},\n",
    "        {\n",
    "            \"class\": \"Conv2d\",\n",
    "            \"kargs\": {\n",
    "                \"in_channels\": 256,\n",
    "                \"out_channels\": 80,\n",
    "                \"kernel_size\": [2, 7],\n",
    "                \"bias\": True,\n",
    "                \"padding\": [0, 3],\n",
    "            },\n",
    "        },\n",
    "        {\"class\": \"ReLU\", \"kargs\": {\"inplace\": True}},\n",
    "        {\"class\": \"BatchNorm2d\", \"kargs\": {\"num_features\": 80}},\n",
    "        {\"class\": \"Flatten\", \"kargs\": {}},\n",
    "        {\"class\": \"Linear\", \"kargs\": {\"in_features\": 20480, \"out_features\": 256}},\n",
    "        {\"class\": \"ReLU\", \"kargs\": {\"inplace\": True}},\n",
    "        {\"class\": \"BatchNorm1d\", \"kargs\": {\"num_features\": 256}},\n",
    "        {\"class\": \"Linear\", \"kargs\": {\"in_features\": 256, \"out_features\": 256}},\n",
    "    ],\n",
    "    \"NUM_LOGS_PER_EPOCH\": 10,\n",
    "    \"BEST_MODEL_PATH\": \"./best_model.pth\",\n",
    "    \"n_way\": 16,\n",
    "    \"datasets\": [\n",
    "        {\n",
    "            \"labels\": [\n",
    "                \"1-10.\",\n",
    "                \"1-11.\",\n",
    "                \"1-15.\",\n",
    "                \"1-16.\",\n",
    "                \"1-17.\",\n",
    "                \"1-18.\",\n",
    "                \"1-19.\",\n",
    "                \"10-4.\",\n",
    "                \"10-7.\",\n",
    "                \"11-1.\",\n",
    "                \"11-14.\",\n",
    "                \"11-17.\",\n",
    "                \"11-20.\",\n",
    "                \"11-7.\",\n",
    "                \"13-20.\",\n",
    "                \"13-8.\",\n",
    "                \"14-10.\",\n",
    "                \"14-11.\",\n",
    "                \"14-14.\",\n",
    "                \"14-7.\",\n",
    "                \"15-1.\",\n",
    "                \"15-20.\",\n",
    "                \"16-1.\",\n",
    "                \"16-16.\",\n",
    "                \"17-10.\",\n",
    "                \"17-11.\",\n",
    "                \"17-2.\",\n",
    "                \"19-1.\",\n",
    "                \"19-16.\",\n",
    "                \"19-19.\",\n",
    "                \"19-20.\",\n",
    "                \"19-3.\",\n",
    "                \"2-10.\",\n",
    "                \"2-11.\",\n",
    "                \"2-17.\",\n",
    "                \"2-18.\",\n",
    "                \"2-20.\",\n",
    "                \"2-3.\",\n",
    "                \"2-4.\",\n",
    "                \"2-5.\",\n",
    "                \"2-6.\",\n",
    "                \"2-7.\",\n",
    "                \"2-8.\",\n",
    "                \"3-13.\",\n",
    "                \"3-18.\",\n",
    "                \"3-3.\",\n",
    "                \"4-1.\",\n",
    "                \"4-10.\",\n",
    "                \"4-11.\",\n",
    "                \"4-19.\",\n",
    "                \"5-5.\",\n",
    "                \"6-15.\",\n",
    "                \"7-10.\",\n",
    "                \"7-14.\",\n",
    "                \"8-18.\",\n",
    "                \"8-20.\",\n",
    "                \"8-3.\",\n",
    "                \"8-8.\",\n",
    "            ],\n",
    "            \"domains\": [1, 2, 3, 4, 5],\n",
    "            \"num_examples_per_domain_per_label\": -1,\n",
    "            \"pickle_path\": \"/root/csc500-main/datasets/cores.stratified_ds.2022A.pkl\",\n",
    "            \"source_or_target_dataset\": \"source\",\n",
    "            \"x_transforms\": [\n",
    "                \"unit_mag\",\n",
    "                \"jitter_256_5\",\n",
    "                \"lowpass_+/-10MHz\",\n",
    "                \"take_200\",\n",
    "            ],\n",
    "            \"episode_transforms\": [],\n",
    "            \"domain_prefix\": \"C_\",\n",
    "        },\n",
    "        {\n",
    "            \"labels\": [\n",
    "                \"3123D52\",\n",
    "                \"3123D65\",\n",
    "                \"3123D79\",\n",
    "                \"3123D80\",\n",
    "                \"3123D54\",\n",
    "                \"3123D70\",\n",
    "                \"3123D7B\",\n",
    "                \"3123D89\",\n",
    "                \"3123D58\",\n",
    "                \"3123D76\",\n",
    "                \"3123D7D\",\n",
    "                \"3123EFE\",\n",
    "                \"3123D64\",\n",
    "                \"3123D78\",\n",
    "                \"3123D7E\",\n",
    "                \"3124E4A\",\n",
    "            ],\n",
    "            \"domains\": [32, 38, 8, 44, 14, 50, 20, 26],\n",
    "            \"num_examples_per_domain_per_label\": 2000,\n",
    "            \"pickle_path\": \"/root/csc500-main/datasets/oracle.Run1_framed_2000Examples_stratified_ds.2022A.pkl\",\n",
    "            \"source_or_target_dataset\": \"target\",\n",
    "            \"x_transforms\": [\n",
    "                \"unit_mag\",\n",
    "                \"jitter_256_5\",\n",
    "                \"take_200\",\n",
    "                \"resample_20Msps_to_25Msps\",\n",
    "            ],\n",
    "            \"episode_transforms\": [],\n",
    "            \"domain_prefix\": \"O_\",\n",
    "        },\n",
    "    ],\n",
    "    \"seed\": 7,\n",
    "    \"dataset_seed\": 7,\n",
    "}\n"
   ]
  },
  {
   "cell_type": "code",
   "execution_count": 5,
   "id": "8fa1cc33",
   "metadata": {
    "execution": {
     "iopub.execute_input": "2022-03-28T14:25:30.721662Z",
     "iopub.status.busy": "2022-03-28T14:25:30.721288Z",
     "iopub.status.idle": "2022-03-28T14:25:30.738980Z",
     "shell.execute_reply": "2022-03-28T14:25:30.738178Z"
    },
    "papermill": {
     "duration": 0.042185,
     "end_time": "2022-03-28T14:25:30.739135",
     "exception": false,
     "start_time": "2022-03-28T14:25:30.696950",
     "status": "completed"
    },
    "tags": []
   },
   "outputs": [],
   "source": [
    "# Set this to True if you want to run this template directly\n",
    "STANDALONE = False\n",
    "if STANDALONE:\n",
    "    print(\"parameters not injected, running with standalone_parameters\")\n",
    "    parameters = standalone_parameters\n",
    "\n",
    "if not 'parameters' in locals() and not 'parameters' in globals():\n",
    "    raise Exception(\"Parameter injection failed\")\n",
    "\n",
    "#Use an easy dict for all the parameters\n",
    "p = EasyDict(parameters)\n",
    "\n",
    "if \"x_shape\" not in p:\n",
    "    p.x_shape = [2,256] # Default to this if we dont supply x_shape\n",
    "\n",
    "\n",
    "supplied_keys = set(p.keys())\n",
    "\n",
    "if  supplied_keys != required_parameters:\n",
    "    print(\"Parameters are incorrect\")\n",
    "    if len(supplied_keys - required_parameters)>0: print(\"Shouldn't have:\", str(supplied_keys - required_parameters))\n",
    "    if len(required_parameters - supplied_keys)>0: print(\"Need to have:\", str(required_parameters - supplied_keys))\n",
    "    raise RuntimeError(\"Parameters are incorrect\")"
   ]
  },
  {
   "cell_type": "code",
   "execution_count": 6,
   "id": "3a028d58",
   "metadata": {
    "execution": {
     "iopub.execute_input": "2022-03-28T14:25:30.790131Z",
     "iopub.status.busy": "2022-03-28T14:25:30.789762Z",
     "iopub.status.idle": "2022-03-28T14:25:30.807352Z",
     "shell.execute_reply": "2022-03-28T14:25:30.806547Z"
    },
    "papermill": {
     "duration": 0.040894,
     "end_time": "2022-03-28T14:25:30.807506",
     "exception": false,
     "start_time": "2022-03-28T14:25:30.766612",
     "status": "completed"
    },
    "tags": []
   },
   "outputs": [],
   "source": [
    "###################################\n",
    "# Set the RNGs and make it all deterministic\n",
    "###################################\n",
    "np.random.seed(p.seed)\n",
    "random.seed(p.seed)\n",
    "torch.manual_seed(p.seed)\n",
    "\n",
    "torch.use_deterministic_algorithms(True) "
   ]
  },
  {
   "cell_type": "code",
   "execution_count": 7,
   "id": "b691acf6",
   "metadata": {
    "execution": {
     "iopub.execute_input": "2022-03-28T14:25:30.859220Z",
     "iopub.status.busy": "2022-03-28T14:25:30.858211Z",
     "iopub.status.idle": "2022-03-28T14:25:30.878718Z",
     "shell.execute_reply": "2022-03-28T14:25:30.877915Z"
    },
    "papermill": {
     "duration": 0.04397,
     "end_time": "2022-03-28T14:25:30.878872",
     "exception": false,
     "start_time": "2022-03-28T14:25:30.834902",
     "status": "completed"
    },
    "tags": []
   },
   "outputs": [],
   "source": [
    "###########################################\n",
    "# The stratified datasets honor this\n",
    "###########################################\n",
    "torch.set_default_dtype(eval(p.torch_default_dtype))"
   ]
  },
  {
   "cell_type": "code",
   "execution_count": 8,
   "id": "b5fba671",
   "metadata": {
    "execution": {
     "iopub.execute_input": "2022-03-28T14:25:30.931037Z",
     "iopub.status.busy": "2022-03-28T14:25:30.930672Z",
     "iopub.status.idle": "2022-03-28T14:25:30.984851Z",
     "shell.execute_reply": "2022-03-28T14:25:30.984133Z"
    },
    "papermill": {
     "duration": 0.078574,
     "end_time": "2022-03-28T14:25:30.985007",
     "exception": false,
     "start_time": "2022-03-28T14:25:30.906433",
     "status": "completed"
    },
    "tags": []
   },
   "outputs": [],
   "source": [
    "###################################\n",
    "# Build the network(s)\n",
    "# Note: It's critical to do this AFTER setting the RNG\n",
    "###################################\n",
    "x_net = build_sequential(p.x_net)"
   ]
  },
  {
   "cell_type": "code",
   "execution_count": 9,
   "id": "5d7e61cc",
   "metadata": {
    "execution": {
     "iopub.execute_input": "2022-03-28T14:25:31.034829Z",
     "iopub.status.busy": "2022-03-28T14:25:31.034463Z",
     "iopub.status.idle": "2022-03-28T14:25:31.060720Z",
     "shell.execute_reply": "2022-03-28T14:25:31.060009Z"
    },
    "papermill": {
     "duration": 0.051342,
     "end_time": "2022-03-28T14:25:31.060876",
     "exception": false,
     "start_time": "2022-03-28T14:25:31.009534",
     "status": "completed"
    },
    "tags": []
   },
   "outputs": [],
   "source": [
    "start_time_secs = time.time()"
   ]
  },
  {
   "cell_type": "code",
   "execution_count": 10,
   "id": "c6b67dfd",
   "metadata": {
    "execution": {
     "iopub.execute_input": "2022-03-28T14:25:31.111872Z",
     "iopub.status.busy": "2022-03-28T14:25:31.111301Z",
     "iopub.status.idle": "2022-03-28T14:25:31.132594Z",
     "shell.execute_reply": "2022-03-28T14:25:31.131782Z"
    },
    "papermill": {
     "duration": 0.045568,
     "end_time": "2022-03-28T14:25:31.132750",
     "exception": false,
     "start_time": "2022-03-28T14:25:31.087182",
     "status": "completed"
    },
    "tags": []
   },
   "outputs": [],
   "source": [
    "p.domains_source = []\n",
    "p.domains_target = []\n",
    "\n",
    "\n",
    "train_original_source = []\n",
    "val_original_source   = []\n",
    "test_original_source  = []\n",
    "\n",
    "train_original_target = []\n",
    "val_original_target   = []\n",
    "test_original_target  = []"
   ]
  },
  {
   "cell_type": "code",
   "execution_count": 11,
   "id": "e3d9c3d3",
   "metadata": {
    "execution": {
     "iopub.execute_input": "2022-03-28T14:25:31.184811Z",
     "iopub.status.busy": "2022-03-28T14:25:31.184443Z",
     "iopub.status.idle": "2022-03-28T14:25:31.201601Z",
     "shell.execute_reply": "2022-03-28T14:25:31.200791Z"
    },
    "papermill": {
     "duration": 0.040067,
     "end_time": "2022-03-28T14:25:31.201757",
     "exception": false,
     "start_time": "2022-03-28T14:25:31.161690",
     "status": "completed"
    },
    "tags": []
   },
   "outputs": [],
   "source": [
    "# global_x_transform_func = lambda x: normalize(x.to(torch.get_default_dtype()), \"unit_power\") # unit_power, unit_mag\n",
    "# global_x_transform_func = lambda x: normalize(x, \"unit_power\") # unit_power, unit_mag"
   ]
  },
  {
   "cell_type": "code",
   "execution_count": 12,
   "id": "acb78fd2",
   "metadata": {
    "execution": {
     "iopub.execute_input": "2022-03-28T14:25:31.257152Z",
     "iopub.status.busy": "2022-03-28T14:25:31.256766Z",
     "iopub.status.idle": "2022-03-28T14:25:31.276483Z",
     "shell.execute_reply": "2022-03-28T14:25:31.275734Z"
    },
    "papermill": {
     "duration": 0.048802,
     "end_time": "2022-03-28T14:25:31.276638",
     "exception": false,
     "start_time": "2022-03-28T14:25:31.227836",
     "status": "completed"
    },
    "tags": []
   },
   "outputs": [],
   "source": [
    "def add_dataset(\n",
    "    labels,\n",
    "    domains,\n",
    "    pickle_path,\n",
    "    x_transforms,\n",
    "    episode_transforms,\n",
    "    domain_prefix,\n",
    "    num_examples_per_domain_per_label,\n",
    "    source_or_target_dataset:str,\n",
    "    iterator_seed=p.seed,\n",
    "    dataset_seed=p.dataset_seed,\n",
    "    n_shot=p.n_shot,\n",
    "    n_way=p.n_way,\n",
    "    n_query=p.n_query,\n",
    "    train_val_test_k_factors=(p.train_k_factor,p.val_k_factor,p.test_k_factor),\n",
    "):\n",
    "   \n",
    "    if x_transforms == []: x_transform = None\n",
    "    else: x_transform = get_chained_transform(x_transforms)\n",
    "    \n",
    "    if episode_transforms == []: episode_transform = None\n",
    "    else: raise Exception(\"episode_transforms not implemented\")\n",
    "    \n",
    "    episode_transform = lambda tup, _prefix=domain_prefix: (_prefix + str(tup[0]), tup[1])\n",
    "\n",
    "\n",
    "    eaf = Episodic_Accessor_Factory(\n",
    "        labels=labels,\n",
    "        domains=domains,\n",
    "        num_examples_per_domain_per_label=num_examples_per_domain_per_label,\n",
    "        iterator_seed=iterator_seed,\n",
    "        dataset_seed=dataset_seed,\n",
    "        n_shot=n_shot,\n",
    "        n_way=n_way,\n",
    "        n_query=n_query,\n",
    "        train_val_test_k_factors=train_val_test_k_factors,\n",
    "        pickle_path=pickle_path,\n",
    "        x_transform_func=x_transform,\n",
    "    )\n",
    "\n",
    "    train, val, test = eaf.get_train(), eaf.get_val(), eaf.get_test()\n",
    "    train = Lazy_Iterable_Wrapper(train, episode_transform)\n",
    "    val = Lazy_Iterable_Wrapper(val, episode_transform)\n",
    "    test = Lazy_Iterable_Wrapper(test, episode_transform)\n",
    "\n",
    "    if source_or_target_dataset==\"source\":\n",
    "        train_original_source.append(train)\n",
    "        val_original_source.append(val)\n",
    "        test_original_source.append(test)\n",
    "\n",
    "        p.domains_source.extend(\n",
    "            [domain_prefix + str(u) for u in domains]\n",
    "        )\n",
    "    elif source_or_target_dataset==\"target\":\n",
    "        train_original_target.append(train)\n",
    "        val_original_target.append(val)\n",
    "        test_original_target.append(test)\n",
    "        p.domains_target.extend(\n",
    "            [domain_prefix + str(u) for u in domains]\n",
    "        )\n",
    "    else:\n",
    "        raise Exception(f\"invalid source_or_target_dataset: {source_or_target_dataset}\")\n",
    "    "
   ]
  },
  {
   "cell_type": "code",
   "execution_count": 13,
   "id": "fe266617",
   "metadata": {
    "execution": {
     "iopub.execute_input": "2022-03-28T14:25:31.329263Z",
     "iopub.status.busy": "2022-03-28T14:25:31.327934Z",
     "iopub.status.idle": "2022-03-28T14:27:20.558522Z",
     "shell.execute_reply": "2022-03-28T14:27:20.557787Z"
    },
    "papermill": {
     "duration": 109.254632,
     "end_time": "2022-03-28T14:27:20.558713",
     "exception": false,
     "start_time": "2022-03-28T14:25:31.304081",
     "status": "completed"
    },
    "tags": []
   },
   "outputs": [],
   "source": [
    "for ds in p.datasets:\n",
    "    add_dataset(**ds)"
   ]
  },
  {
   "cell_type": "code",
   "execution_count": 14,
   "id": "b90d65ac",
   "metadata": {
    "execution": {
     "iopub.execute_input": "2022-03-28T14:27:20.609609Z",
     "iopub.status.busy": "2022-03-28T14:27:20.609145Z",
     "iopub.status.idle": "2022-03-28T14:27:20.632684Z",
     "shell.execute_reply": "2022-03-28T14:27:20.631970Z"
    },
    "papermill": {
     "duration": 0.047114,
     "end_time": "2022-03-28T14:27:20.632842",
     "exception": false,
     "start_time": "2022-03-28T14:27:20.585728",
     "status": "completed"
    },
    "tags": []
   },
   "outputs": [],
   "source": [
    "# from steves_utils.CORES.utils import (\n",
    "#     ALL_NODES,\n",
    "#     ALL_NODES_MINIMUM_1000_EXAMPLES,\n",
    "#     ALL_DAYS\n",
    "# )\n",
    "\n",
    "# add_dataset(\n",
    "#     labels=ALL_NODES,\n",
    "#     domains = ALL_DAYS,\n",
    "#     num_examples_per_domain_per_label=100,\n",
    "#     pickle_path=os.path.join(get_datasets_base_path(), \"cores.stratified_ds.2022A.pkl\"),\n",
    "#     source_or_target_dataset=\"target\",\n",
    "#     x_transform_func=global_x_transform_func,\n",
    "#     domain_modifier=lambda u: f\"cores_{u}\"\n",
    "# )"
   ]
  },
  {
   "cell_type": "code",
   "execution_count": 15,
   "id": "76db484d",
   "metadata": {
    "execution": {
     "iopub.execute_input": "2022-03-28T14:27:20.684303Z",
     "iopub.status.busy": "2022-03-28T14:27:20.683929Z",
     "iopub.status.idle": "2022-03-28T14:27:20.706001Z",
     "shell.execute_reply": "2022-03-28T14:27:20.705288Z"
    },
    "papermill": {
     "duration": 0.046051,
     "end_time": "2022-03-28T14:27:20.706155",
     "exception": false,
     "start_time": "2022-03-28T14:27:20.660104",
     "status": "completed"
    },
    "tags": []
   },
   "outputs": [],
   "source": [
    "# from steves_utils.ORACLE.utils_v2 import (\n",
    "#     ALL_DISTANCES_FEET,\n",
    "#     ALL_RUNS,\n",
    "#     ALL_SERIAL_NUMBERS,\n",
    "# )\n",
    "\n",
    "\n",
    "# add_dataset(\n",
    "#     labels=ALL_SERIAL_NUMBERS,\n",
    "#     domains = list(set(ALL_DISTANCES_FEET) - {2,62}),\n",
    "#     num_examples_per_domain_per_label=100,\n",
    "#     pickle_path=os.path.join(get_datasets_base_path(), \"oracle.Run2_framed_2000Examples_stratified_ds.2022A.pkl\"),\n",
    "#     source_or_target_dataset=\"source\",\n",
    "#     x_transform_func=global_x_transform_func,\n",
    "#     domain_modifier=lambda u: f\"oracle1_{u}\"\n",
    "# )\n"
   ]
  },
  {
   "cell_type": "code",
   "execution_count": 16,
   "id": "97dea9d2",
   "metadata": {
    "execution": {
     "iopub.execute_input": "2022-03-28T14:27:20.757014Z",
     "iopub.status.busy": "2022-03-28T14:27:20.756646Z",
     "iopub.status.idle": "2022-03-28T14:27:20.773517Z",
     "shell.execute_reply": "2022-03-28T14:27:20.772724Z"
    },
    "papermill": {
     "duration": 0.04061,
     "end_time": "2022-03-28T14:27:20.773673",
     "exception": false,
     "start_time": "2022-03-28T14:27:20.733063",
     "status": "completed"
    },
    "tags": []
   },
   "outputs": [],
   "source": [
    "# from steves_utils.ORACLE.utils_v2 import (\n",
    "#     ALL_DISTANCES_FEET,\n",
    "#     ALL_RUNS,\n",
    "#     ALL_SERIAL_NUMBERS,\n",
    "# )\n",
    "\n",
    "\n",
    "# add_dataset(\n",
    "#     labels=ALL_SERIAL_NUMBERS,\n",
    "#     domains = list(set(ALL_DISTANCES_FEET) - {2,62,56}),\n",
    "#     num_examples_per_domain_per_label=100,\n",
    "#     pickle_path=os.path.join(get_datasets_base_path(), \"oracle.Run2_framed_2000Examples_stratified_ds.2022A.pkl\"),\n",
    "#     source_or_target_dataset=\"source\",\n",
    "#     x_transform_func=global_x_transform_func,\n",
    "#     domain_modifier=lambda u: f\"oracle2_{u}\"\n",
    "# )"
   ]
  },
  {
   "cell_type": "code",
   "execution_count": 17,
   "id": "6f289866",
   "metadata": {
    "execution": {
     "iopub.execute_input": "2022-03-28T14:27:20.824270Z",
     "iopub.status.busy": "2022-03-28T14:27:20.823902Z",
     "iopub.status.idle": "2022-03-28T14:27:20.840968Z",
     "shell.execute_reply": "2022-03-28T14:27:20.840225Z"
    },
    "papermill": {
     "duration": 0.040388,
     "end_time": "2022-03-28T14:27:20.841124",
     "exception": false,
     "start_time": "2022-03-28T14:27:20.800736",
     "status": "completed"
    },
    "tags": []
   },
   "outputs": [],
   "source": [
    "# add_dataset(\n",
    "#     labels=list(range(19)),\n",
    "#     domains = [0,1,2],\n",
    "#     num_examples_per_domain_per_label=100,\n",
    "#     pickle_path=os.path.join(get_datasets_base_path(), \"metehan.stratified_ds.2022A.pkl\"),\n",
    "#     source_or_target_dataset=\"target\",\n",
    "#     x_transform_func=global_x_transform_func,\n",
    "#     domain_modifier=lambda u: f\"met_{u}\"\n",
    "# )"
   ]
  },
  {
   "cell_type": "code",
   "execution_count": 18,
   "id": "86a863c3",
   "metadata": {
    "execution": {
     "iopub.execute_input": "2022-03-28T14:27:20.895273Z",
     "iopub.status.busy": "2022-03-28T14:27:20.894900Z",
     "iopub.status.idle": "2022-03-28T14:27:20.916950Z",
     "shell.execute_reply": "2022-03-28T14:27:20.917633Z"
    },
    "papermill": {
     "duration": 0.046991,
     "end_time": "2022-03-28T14:27:20.917814",
     "exception": false,
     "start_time": "2022-03-28T14:27:20.870823",
     "status": "completed"
    },
    "tags": []
   },
   "outputs": [],
   "source": [
    "# # from steves_utils.wisig.utils import (\n",
    "# #     ALL_NODES_MINIMUM_100_EXAMPLES,\n",
    "# #     ALL_NODES_MINIMUM_500_EXAMPLES,\n",
    "# #     ALL_NODES_MINIMUM_1000_EXAMPLES,\n",
    "# #     ALL_DAYS\n",
    "# # )\n",
    "\n",
    "# import steves_utils.wisig.utils as wisig\n",
    "\n",
    "\n",
    "# add_dataset(\n",
    "#     labels=wisig.ALL_NODES_MINIMUM_100_EXAMPLES,\n",
    "#     domains = wisig.ALL_DAYS,\n",
    "#     num_examples_per_domain_per_label=100,\n",
    "#     pickle_path=os.path.join(get_datasets_base_path(), \"wisig.node3-19.stratified_ds.2022A.pkl\"),\n",
    "#     source_or_target_dataset=\"target\",\n",
    "#     x_transform_func=global_x_transform_func,\n",
    "#     domain_modifier=lambda u: f\"wisig_{u}\"\n",
    "# )"
   ]
  },
  {
   "cell_type": "code",
   "execution_count": 19,
   "id": "fd5442bc",
   "metadata": {
    "execution": {
     "iopub.execute_input": "2022-03-28T14:27:20.975359Z",
     "iopub.status.busy": "2022-03-28T14:27:20.974975Z",
     "iopub.status.idle": "2022-03-28T14:27:20.998347Z",
     "shell.execute_reply": "2022-03-28T14:27:20.997535Z"
    },
    "papermill": {
     "duration": 0.053517,
     "end_time": "2022-03-28T14:27:20.998506",
     "exception": false,
     "start_time": "2022-03-28T14:27:20.944989",
     "status": "completed"
    },
    "tags": []
   },
   "outputs": [],
   "source": [
    "###################################\n",
    "# Build the dataset\n",
    "###################################\n",
    "train_original_source = Iterable_Aggregator(train_original_source, p.seed)\n",
    "val_original_source = Iterable_Aggregator(val_original_source, p.seed)\n",
    "test_original_source = Iterable_Aggregator(test_original_source, p.seed)\n",
    "\n",
    "\n",
    "train_original_target = Iterable_Aggregator(train_original_target, p.seed)\n",
    "val_original_target = Iterable_Aggregator(val_original_target, p.seed)\n",
    "test_original_target = Iterable_Aggregator(test_original_target, p.seed)\n",
    "\n",
    "# For CNN We only use X and Y. And we only train on the source.\n",
    "# Properly form the data using a transform lambda and Lazy_Iterable_Wrapper. Finally wrap them in a dataloader\n",
    "\n",
    "transform_lambda = lambda ex: ex[1] # Original is (<domain>, <episode>) so we strip down to episode only\n",
    "\n",
    "train_processed_source = Lazy_Iterable_Wrapper(train_original_source, transform_lambda)\n",
    "val_processed_source   = Lazy_Iterable_Wrapper(val_original_source, transform_lambda)\n",
    "test_processed_source  = Lazy_Iterable_Wrapper(test_original_source, transform_lambda)\n",
    "\n",
    "train_processed_target = Lazy_Iterable_Wrapper(train_original_target, transform_lambda)\n",
    "val_processed_target   = Lazy_Iterable_Wrapper(val_original_target, transform_lambda)\n",
    "test_processed_target  = Lazy_Iterable_Wrapper(test_original_target, transform_lambda)\n",
    "\n",
    "datasets = EasyDict({\n",
    "    \"source\": {\n",
    "        \"original\": {\"train\":train_original_source, \"val\":val_original_source, \"test\":test_original_source},\n",
    "        \"processed\": {\"train\":train_processed_source, \"val\":val_processed_source, \"test\":test_processed_source}\n",
    "    },\n",
    "    \"target\": {\n",
    "        \"original\": {\"train\":train_original_target, \"val\":val_original_target, \"test\":test_original_target},\n",
    "        \"processed\": {\"train\":train_processed_target, \"val\":val_processed_target, \"test\":test_processed_target}\n",
    "    },\n",
    "})"
   ]
  },
  {
   "cell_type": "code",
   "execution_count": 20,
   "id": "5b3c01fc",
   "metadata": {
    "execution": {
     "iopub.execute_input": "2022-03-28T14:27:21.052958Z",
     "iopub.status.busy": "2022-03-28T14:27:21.052391Z",
     "iopub.status.idle": "2022-03-28T14:27:35.121813Z",
     "shell.execute_reply": "2022-03-28T14:27:35.122515Z"
    },
    "papermill": {
     "duration": 14.09702,
     "end_time": "2022-03-28T14:27:35.122725",
     "exception": false,
     "start_time": "2022-03-28T14:27:21.025705",
     "status": "completed"
    },
    "tags": []
   },
   "outputs": [
    {
     "name": "stdout",
     "output_type": "stream",
     "text": [
      "{'C_1', 'C_4', 'C_3', 'C_5', 'C_2'}\n"
     ]
    },
    {
     "name": "stdout",
     "output_type": "stream",
     "text": [
      "{'O_44', 'O_26', 'O_32', 'O_8', 'O_38', 'O_20', 'O_50', 'O_14'}\n"
     ]
    },
    {
     "name": "stdout",
     "output_type": "stream",
     "text": [
      "tensor([[[0., 0., 0.,  ..., 0., 0., 0.],\n",
      "         [0., 0., 0.,  ..., 0., 0., 0.]],\n",
      "\n",
      "        [[0., 0., 0.,  ..., 0., 0., 0.],\n",
      "         [0., 0., 0.,  ..., 0., 0., 0.]],\n",
      "\n",
      "        [[0., 0., 0.,  ..., 0., 0., 0.],\n",
      "         [0., 0., 0.,  ..., 0., 0., 0.]],\n",
      "\n",
      "        ...,\n",
      "\n",
      "        [[0., 0., 0.,  ..., 0., 0., 0.],\n",
      "         [0., 0., 0.,  ..., 0., 0., 0.]],\n",
      "\n",
      "        [[0., 0., 0.,  ..., 0., 0., 0.],\n",
      "         [0., 0., 0.,  ..., 0., 0., 0.]],\n",
      "\n",
      "        [[0., 0., 0.,  ..., 0., 0., 0.],\n",
      "         [0., 0., 0.,  ..., 0., 0., 0.]]])\n"
     ]
    }
   ],
   "source": [
    "from steves_utils.transforms import get_average_magnitude, get_average_power\n",
    "\n",
    "print(set([u for u,_ in val_original_source]))\n",
    "print(set([u for u,_ in val_original_target]))\n",
    "\n",
    "s_x, s_y, q_x, q_y, _ = next(iter(train_processed_source))\n",
    "print(s_x)\n",
    "\n",
    "# for ds in [\n",
    "#     train_processed_source,\n",
    "#     val_processed_source,\n",
    "#     test_processed_source,\n",
    "#     train_processed_target,\n",
    "#     val_processed_target,\n",
    "#     test_processed_target\n",
    "# ]:\n",
    "#     for s_x, s_y, q_x, q_y, _ in ds:\n",
    "#         for X in (s_x, q_x):\n",
    "#             for x in X:\n",
    "#                 assert np.isclose(get_average_magnitude(x.numpy()), 1.0)\n",
    "#                 assert np.isclose(get_average_power(x.numpy()), 1.0)\n",
    "                "
   ]
  },
  {
   "cell_type": "code",
   "execution_count": 21,
   "id": "bbdacba1",
   "metadata": {
    "execution": {
     "iopub.execute_input": "2022-03-28T14:27:35.175591Z",
     "iopub.status.busy": "2022-03-28T14:27:35.175078Z",
     "iopub.status.idle": "2022-03-28T14:27:35.325605Z",
     "shell.execute_reply": "2022-03-28T14:27:35.325920Z"
    },
    "papermill": {
     "duration": 0.17725,
     "end_time": "2022-03-28T14:27:35.326017",
     "exception": false,
     "start_time": "2022-03-28T14:27:35.148767",
     "status": "completed"
    },
    "tags": []
   },
   "outputs": [
    {
     "name": "stdout",
     "output_type": "stream",
     "text": [
      "(2, 256)\n"
     ]
    }
   ],
   "source": [
    "###################################\n",
    "# Build the model\n",
    "###################################\n",
    "# easfsl only wants a tuple for the shape\n",
    "model = Steves_Prototypical_Network(x_net, device=p.device, x_shape=tuple(p.x_shape))\n",
    "optimizer = Adam(params=model.parameters(), lr=p.lr)"
   ]
  },
  {
   "cell_type": "code",
   "execution_count": 22,
   "id": "22b39ac5",
   "metadata": {
    "execution": {
     "iopub.execute_input": "2022-03-28T14:27:35.375208Z",
     "iopub.status.busy": "2022-03-28T14:27:35.374821Z",
     "iopub.status.idle": "2022-03-28T14:57:00.449575Z",
     "shell.execute_reply": "2022-03-28T14:57:00.449233Z"
    },
    "papermill": {
     "duration": 1765.100921,
     "end_time": "2022-03-28T14:57:00.449657",
     "exception": false,
     "start_time": "2022-03-28T14:27:35.348736",
     "status": "completed"
    },
    "tags": []
   },
   "outputs": [
    {
     "name": "stdout",
     "output_type": "stream",
     "text": [
      "epoch: 1, [batch: 1 / 6316], examples_per_second: 34.5368, train_label_loss: 2.7559, \n"
     ]
    },
    {
     "name": "stdout",
     "output_type": "stream",
     "text": [
      "epoch: 1, [batch: 632 / 6316], examples_per_second: 4463.4466, train_label_loss: 0.0093, \n"
     ]
    },
    {
     "name": "stdout",
     "output_type": "stream",
     "text": [
      "epoch: 1, [batch: 1264 / 6316], examples_per_second: 5103.0228, train_label_loss: 0.0103, \n"
     ]
    },
    {
     "name": "stdout",
     "output_type": "stream",
     "text": [
      "epoch: 1, [batch: 1895 / 6316], examples_per_second: 4952.3259, train_label_loss: 0.0406, \n"
     ]
    },
    {
     "name": "stdout",
     "output_type": "stream",
     "text": [
      "epoch: 1, [batch: 2527 / 6316], examples_per_second: 4788.9290, train_label_loss: 0.0109, \n"
     ]
    },
    {
     "name": "stdout",
     "output_type": "stream",
     "text": [
      "epoch: 1, [batch: 3158 / 6316], examples_per_second: 4857.6398, train_label_loss: 0.0013, \n"
     ]
    },
    {
     "name": "stdout",
     "output_type": "stream",
     "text": [
      "epoch: 1, [batch: 3790 / 6316], examples_per_second: 4921.4943, train_label_loss: 0.0003, \n"
     ]
    },
    {
     "name": "stdout",
     "output_type": "stream",
     "text": [
      "epoch: 1, [batch: 4421 / 6316], examples_per_second: 5130.6411, train_label_loss: 0.0096, \n"
     ]
    },
    {
     "name": "stdout",
     "output_type": "stream",
     "text": [
      "epoch: 1, [batch: 5053 / 6316], examples_per_second: 5148.7243, train_label_loss: 0.0130, \n"
     ]
    },
    {
     "name": "stdout",
     "output_type": "stream",
     "text": [
      "epoch: 1, [batch: 5684 / 6316], examples_per_second: 5272.4927, train_label_loss: 0.0029, \n"
     ]
    },
    {
     "name": "stdout",
     "output_type": "stream",
     "text": [
      "=============================================================\n",
      "epoch: 1, source_val_acc_label: 0.9986, target_val_acc_label: 0.3605, source_val_label_loss: 0.0137, target_val_label_loss: 1.8002, \n",
      "=============================================================\n"
     ]
    },
    {
     "name": "stdout",
     "output_type": "stream",
     "text": [
      "New best\n"
     ]
    },
    {
     "name": "stdout",
     "output_type": "stream",
     "text": [
      "epoch: 2, [batch: 1 / 6296], examples_per_second: 5.3924, train_label_loss: 0.0099, \n"
     ]
    },
    {
     "name": "stdout",
     "output_type": "stream",
     "text": [
      "epoch: 2, [batch: 630 / 6296], examples_per_second: 4925.0231, train_label_loss: 0.0464, \n"
     ]
    },
    {
     "name": "stdout",
     "output_type": "stream",
     "text": [
      "epoch: 2, [batch: 1260 / 6296], examples_per_second: 5206.3888, train_label_loss: 0.0000, \n"
     ]
    },
    {
     "name": "stdout",
     "output_type": "stream",
     "text": [
      "epoch: 2, [batch: 1889 / 6296], examples_per_second: 5233.9327, train_label_loss: 0.0001, \n"
     ]
    },
    {
     "name": "stdout",
     "output_type": "stream",
     "text": [
      "epoch: 2, [batch: 2519 / 6296], examples_per_second: 5317.1028, train_label_loss: 0.0072, \n"
     ]
    },
    {
     "name": "stdout",
     "output_type": "stream",
     "text": [
      "epoch: 2, [batch: 3148 / 6296], examples_per_second: 5145.3484, train_label_loss: 0.0001, \n"
     ]
    },
    {
     "name": "stdout",
     "output_type": "stream",
     "text": [
      "epoch: 2, [batch: 3778 / 6296], examples_per_second: 5328.1685, train_label_loss: 0.0000, \n"
     ]
    },
    {
     "name": "stdout",
     "output_type": "stream",
     "text": [
      "epoch: 2, [batch: 4407 / 6296], examples_per_second: 4898.2084, train_label_loss: 0.0000, \n"
     ]
    },
    {
     "name": "stdout",
     "output_type": "stream",
     "text": [
      "epoch: 2, [batch: 5037 / 6296], examples_per_second: 3824.5948, train_label_loss: 0.0003, \n"
     ]
    },
    {
     "name": "stdout",
     "output_type": "stream",
     "text": [
      "epoch: 2, [batch: 5666 / 6296], examples_per_second: 3919.3434, train_label_loss: 0.0005, \n"
     ]
    },
    {
     "name": "stdout",
     "output_type": "stream",
     "text": [
      "=============================================================\n",
      "epoch: 2, source_val_acc_label: 0.9988, target_val_acc_label: 0.3721, source_val_label_loss: 0.0062, target_val_label_loss: 1.8349, \n",
      "=============================================================\n"
     ]
    },
    {
     "name": "stdout",
     "output_type": "stream",
     "text": [
      "New best\n"
     ]
    },
    {
     "name": "stdout",
     "output_type": "stream",
     "text": [
      "epoch: 3, [batch: 1 / 6299], examples_per_second: 4.0458, train_label_loss: 0.1567, \n"
     ]
    },
    {
     "name": "stdout",
     "output_type": "stream",
     "text": [
      "epoch: 3, [batch: 630 / 6299], examples_per_second: 3780.0003, train_label_loss: 0.0000, \n"
     ]
    },
    {
     "name": "stdout",
     "output_type": "stream",
     "text": [
      "epoch: 3, [batch: 1260 / 6299], examples_per_second: 3883.5914, train_label_loss: 0.0023, \n"
     ]
    },
    {
     "name": "stdout",
     "output_type": "stream",
     "text": [
      "epoch: 3, [batch: 1890 / 6299], examples_per_second: 3876.7623, train_label_loss: 0.0001, \n"
     ]
    },
    {
     "name": "stdout",
     "output_type": "stream",
     "text": [
      "epoch: 3, [batch: 2520 / 6299], examples_per_second: 3846.9349, train_label_loss: 0.0004, \n"
     ]
    },
    {
     "name": "stdout",
     "output_type": "stream",
     "text": [
      "epoch: 3, [batch: 3150 / 6299], examples_per_second: 4066.3412, train_label_loss: 0.0026, \n"
     ]
    },
    {
     "name": "stdout",
     "output_type": "stream",
     "text": [
      "epoch: 3, [batch: 3779 / 6299], examples_per_second: 4276.5107, train_label_loss: 0.0002, \n"
     ]
    },
    {
     "name": "stdout",
     "output_type": "stream",
     "text": [
      "epoch: 3, [batch: 4409 / 6299], examples_per_second: 4489.5604, train_label_loss: 0.0002, \n"
     ]
    },
    {
     "name": "stdout",
     "output_type": "stream",
     "text": [
      "epoch: 3, [batch: 5039 / 6299], examples_per_second: 3858.7540, train_label_loss: 0.0002, \n"
     ]
    },
    {
     "name": "stdout",
     "output_type": "stream",
     "text": [
      "epoch: 3, [batch: 5669 / 6299], examples_per_second: 3849.4728, train_label_loss: 0.0002, \n"
     ]
    },
    {
     "name": "stdout",
     "output_type": "stream",
     "text": [
      "=============================================================\n",
      "epoch: 3, source_val_acc_label: 0.9990, target_val_acc_label: 0.3334, source_val_label_loss: 0.0069, target_val_label_loss: 2.0864, \n",
      "=============================================================\n"
     ]
    },
    {
     "name": "stdout",
     "output_type": "stream",
     "text": [
      "epoch: 4, [batch: 1 / 6316], examples_per_second: 4.1682, train_label_loss: 0.0000, \n"
     ]
    },
    {
     "name": "stdout",
     "output_type": "stream",
     "text": [
      "epoch: 4, [batch: 632 / 6316], examples_per_second: 3796.5867, train_label_loss: 0.0016, \n"
     ]
    },
    {
     "name": "stdout",
     "output_type": "stream",
     "text": [
      "epoch: 4, [batch: 1264 / 6316], examples_per_second: 3839.3612, train_label_loss: 0.0000, \n"
     ]
    },
    {
     "name": "stdout",
     "output_type": "stream",
     "text": [
      "epoch: 4, [batch: 1895 / 6316], examples_per_second: 3898.6718, train_label_loss: 0.0005, \n"
     ]
    },
    {
     "name": "stdout",
     "output_type": "stream",
     "text": [
      "epoch: 4, [batch: 2527 / 6316], examples_per_second: 3890.7646, train_label_loss: 0.0000, \n"
     ]
    },
    {
     "name": "stdout",
     "output_type": "stream",
     "text": [
      "epoch: 4, [batch: 3158 / 6316], examples_per_second: 4122.6392, train_label_loss: 0.0053, \n"
     ]
    },
    {
     "name": "stdout",
     "output_type": "stream",
     "text": [
      "epoch: 4, [batch: 3790 / 6316], examples_per_second: 4486.6381, train_label_loss: 0.0006, \n"
     ]
    },
    {
     "name": "stdout",
     "output_type": "stream",
     "text": [
      "epoch: 4, [batch: 4421 / 6316], examples_per_second: 4717.0751, train_label_loss: 0.0004, \n"
     ]
    },
    {
     "name": "stdout",
     "output_type": "stream",
     "text": [
      "epoch: 4, [batch: 5053 / 6316], examples_per_second: 4026.0886, train_label_loss: 0.0000, \n"
     ]
    },
    {
     "name": "stdout",
     "output_type": "stream",
     "text": [
      "epoch: 4, [batch: 5684 / 6316], examples_per_second: 3886.0315, train_label_loss: 0.0000, \n"
     ]
    },
    {
     "name": "stdout",
     "output_type": "stream",
     "text": [
      "=============================================================\n",
      "epoch: 4, source_val_acc_label: 0.9994, target_val_acc_label: 0.3934, source_val_label_loss: 0.0046, target_val_label_loss: 1.7475, \n",
      "=============================================================\n"
     ]
    },
    {
     "name": "stdout",
     "output_type": "stream",
     "text": [
      "New best\n"
     ]
    },
    {
     "name": "stdout",
     "output_type": "stream",
     "text": [
      "epoch: 5, [batch: 1 / 6313], examples_per_second: 4.1244, train_label_loss: 0.0000, \n"
     ]
    },
    {
     "name": "stdout",
     "output_type": "stream",
     "text": [
      "epoch: 5, [batch: 632 / 6313], examples_per_second: 3783.8234, train_label_loss: 0.0004, \n"
     ]
    },
    {
     "name": "stdout",
     "output_type": "stream",
     "text": [
      "epoch: 5, [batch: 1263 / 6313], examples_per_second: 3837.6066, train_label_loss: 0.0001, \n"
     ]
    },
    {
     "name": "stdout",
     "output_type": "stream",
     "text": [
      "epoch: 5, [batch: 1894 / 6313], examples_per_second: 3892.4630, train_label_loss: 0.0000, \n"
     ]
    },
    {
     "name": "stdout",
     "output_type": "stream",
     "text": [
      "epoch: 5, [batch: 2525 / 6313], examples_per_second: 3908.6959, train_label_loss: 0.0000, \n"
     ]
    },
    {
     "name": "stdout",
     "output_type": "stream",
     "text": [
      "epoch: 5, [batch: 3157 / 6313], examples_per_second: 3904.9634, train_label_loss: 0.0001, \n"
     ]
    },
    {
     "name": "stdout",
     "output_type": "stream",
     "text": [
      "epoch: 5, [batch: 3788 / 6313], examples_per_second: 4225.0919, train_label_loss: 0.0000, \n"
     ]
    },
    {
     "name": "stdout",
     "output_type": "stream",
     "text": [
      "epoch: 5, [batch: 4419 / 6313], examples_per_second: 4618.7516, train_label_loss: 0.0000, \n"
     ]
    },
    {
     "name": "stdout",
     "output_type": "stream",
     "text": [
      "epoch: 5, [batch: 5050 / 6313], examples_per_second: 3885.9096, train_label_loss: 0.0000, \n"
     ]
    },
    {
     "name": "stdout",
     "output_type": "stream",
     "text": [
      "epoch: 5, [batch: 5681 / 6313], examples_per_second: 4022.0223, train_label_loss: 0.0002, \n"
     ]
    },
    {
     "name": "stdout",
     "output_type": "stream",
     "text": [
      "=============================================================\n",
      "epoch: 5, source_val_acc_label: 0.9979, target_val_acc_label: 0.3194, source_val_label_loss: 0.0098, target_val_label_loss: 2.2793, \n",
      "=============================================================\n"
     ]
    },
    {
     "name": "stdout",
     "output_type": "stream",
     "text": [
      "epoch: 6, [batch: 1 / 6307], examples_per_second: 4.1185, train_label_loss: 0.0000, \n"
     ]
    },
    {
     "name": "stdout",
     "output_type": "stream",
     "text": [
      "epoch: 6, [batch: 631 / 6307], examples_per_second: 3887.3076, train_label_loss: 0.0000, \n"
     ]
    },
    {
     "name": "stdout",
     "output_type": "stream",
     "text": [
      "epoch: 6, [batch: 1262 / 6307], examples_per_second: 4036.3861, train_label_loss: 0.0000, \n"
     ]
    },
    {
     "name": "stdout",
     "output_type": "stream",
     "text": [
      "epoch: 6, [batch: 1892 / 6307], examples_per_second: 3890.9179, train_label_loss: 0.0002, \n"
     ]
    },
    {
     "name": "stdout",
     "output_type": "stream",
     "text": [
      "epoch: 6, [batch: 2523 / 6307], examples_per_second: 3894.6277, train_label_loss: 0.0000, \n"
     ]
    },
    {
     "name": "stdout",
     "output_type": "stream",
     "text": [
      "epoch: 6, [batch: 3154 / 6307], examples_per_second: 3972.7585, train_label_loss: 0.0000, \n"
     ]
    },
    {
     "name": "stdout",
     "output_type": "stream",
     "text": [
      "epoch: 6, [batch: 3784 / 6307], examples_per_second: 4423.8334, train_label_loss: 0.0000, \n"
     ]
    },
    {
     "name": "stdout",
     "output_type": "stream",
     "text": [
      "epoch: 6, [batch: 4415 / 6307], examples_per_second: 4763.1710, train_label_loss: 0.0000, \n"
     ]
    },
    {
     "name": "stdout",
     "output_type": "stream",
     "text": [
      "epoch: 6, [batch: 5045 / 6307], examples_per_second: 3812.4544, train_label_loss: 0.0000, \n"
     ]
    },
    {
     "name": "stdout",
     "output_type": "stream",
     "text": [
      "epoch: 6, [batch: 5676 / 6307], examples_per_second: 3796.6267, train_label_loss: 0.0019, \n"
     ]
    },
    {
     "name": "stdout",
     "output_type": "stream",
     "text": [
      "=============================================================\n",
      "epoch: 6, source_val_acc_label: 0.9990, target_val_acc_label: 0.3281, source_val_label_loss: 0.0109, target_val_label_loss: 2.1375, \n",
      "=============================================================\n"
     ]
    },
    {
     "name": "stdout",
     "output_type": "stream",
     "text": [
      "epoch: 7, [batch: 1 / 6303], examples_per_second: 4.1225, train_label_loss: 0.0000, \n"
     ]
    },
    {
     "name": "stdout",
     "output_type": "stream",
     "text": [
      "epoch: 7, [batch: 631 / 6303], examples_per_second: 3948.7477, train_label_loss: 0.0001, \n"
     ]
    },
    {
     "name": "stdout",
     "output_type": "stream",
     "text": [
      "epoch: 7, [batch: 1261 / 6303], examples_per_second: 3959.2407, train_label_loss: 0.0046, \n"
     ]
    },
    {
     "name": "stdout",
     "output_type": "stream",
     "text": [
      "epoch: 7, [batch: 1891 / 6303], examples_per_second: 3974.3258, train_label_loss: 0.0000, \n"
     ]
    },
    {
     "name": "stdout",
     "output_type": "stream",
     "text": [
      "epoch: 7, [batch: 2521 / 6303], examples_per_second: 3981.0889, train_label_loss: 0.0000, \n"
     ]
    },
    {
     "name": "stdout",
     "output_type": "stream",
     "text": [
      "epoch: 7, [batch: 3152 / 6303], examples_per_second: 4231.0985, train_label_loss: 0.0000, \n"
     ]
    },
    {
     "name": "stdout",
     "output_type": "stream",
     "text": [
      "epoch: 7, [batch: 3782 / 6303], examples_per_second: 4399.4995, train_label_loss: 0.0000, \n"
     ]
    },
    {
     "name": "stdout",
     "output_type": "stream",
     "text": [
      "epoch: 7, [batch: 4412 / 6303], examples_per_second: 4643.1661, train_label_loss: 0.0000, \n"
     ]
    },
    {
     "name": "stdout",
     "output_type": "stream",
     "text": [
      "epoch: 7, [batch: 5042 / 6303], examples_per_second: 4063.3208, train_label_loss: 0.0000, \n"
     ]
    },
    {
     "name": "stdout",
     "output_type": "stream",
     "text": [
      "epoch: 7, [batch: 5672 / 6303], examples_per_second: 4053.5320, train_label_loss: 0.0000, \n"
     ]
    },
    {
     "name": "stdout",
     "output_type": "stream",
     "text": [
      "=============================================================\n",
      "epoch: 7, source_val_acc_label: 0.9990, target_val_acc_label: 0.3406, source_val_label_loss: 0.0063, target_val_label_loss: 2.1185, \n",
      "=============================================================\n"
     ]
    },
    {
     "name": "stdout",
     "output_type": "stream",
     "text": [
      "epoch: 8, [batch: 1 / 6292], examples_per_second: 4.1824, train_label_loss: 0.0000, \n"
     ]
    },
    {
     "name": "stdout",
     "output_type": "stream",
     "text": [
      "epoch: 8, [batch: 630 / 6292], examples_per_second: 3941.5303, train_label_loss: 0.0046, \n"
     ]
    },
    {
     "name": "stdout",
     "output_type": "stream",
     "text": [
      "epoch: 8, [batch: 1259 / 6292], examples_per_second: 4048.6338, train_label_loss: 0.0000, \n"
     ]
    },
    {
     "name": "stdout",
     "output_type": "stream",
     "text": [
      "epoch: 8, [batch: 1888 / 6292], examples_per_second: 3983.5650, train_label_loss: 0.0000, \n"
     ]
    },
    {
     "name": "stdout",
     "output_type": "stream",
     "text": [
      "epoch: 8, [batch: 2517 / 6292], examples_per_second: 3982.2029, train_label_loss: 0.0008, \n"
     ]
    },
    {
     "name": "stdout",
     "output_type": "stream",
     "text": [
      "epoch: 8, [batch: 3146 / 6292], examples_per_second: 4033.0846, train_label_loss: 0.0000, \n"
     ]
    },
    {
     "name": "stdout",
     "output_type": "stream",
     "text": [
      "epoch: 8, [batch: 3775 / 6292], examples_per_second: 4354.5740, train_label_loss: 0.0002, \n"
     ]
    },
    {
     "name": "stdout",
     "output_type": "stream",
     "text": [
      "epoch: 8, [batch: 4404 / 6292], examples_per_second: 4347.6793, train_label_loss: 0.0000, \n"
     ]
    },
    {
     "name": "stdout",
     "output_type": "stream",
     "text": [
      "epoch: 8, [batch: 5033 / 6292], examples_per_second: 4137.1827, train_label_loss: 0.0000, \n"
     ]
    },
    {
     "name": "stdout",
     "output_type": "stream",
     "text": [
      "epoch: 8, [batch: 5662 / 6292], examples_per_second: 3881.8921, train_label_loss: 0.0000, \n"
     ]
    },
    {
     "name": "stdout",
     "output_type": "stream",
     "text": [
      "=============================================================\n",
      "epoch: 8, source_val_acc_label: 0.9997, target_val_acc_label: 0.3957, source_val_label_loss: 0.0050, target_val_label_loss: 1.7270, \n",
      "=============================================================\n"
     ]
    },
    {
     "name": "stdout",
     "output_type": "stream",
     "text": [
      "New best\n"
     ]
    },
    {
     "name": "stdout",
     "output_type": "stream",
     "text": [
      "epoch: 9, [batch: 1 / 6305], examples_per_second: 4.1335, train_label_loss: 0.0006, \n"
     ]
    },
    {
     "name": "stdout",
     "output_type": "stream",
     "text": [
      "epoch: 9, [batch: 631 / 6305], examples_per_second: 3877.0593, train_label_loss: 0.0000, \n"
     ]
    },
    {
     "name": "stdout",
     "output_type": "stream",
     "text": [
      "epoch: 9, [batch: 1261 / 6305], examples_per_second: 3913.0684, train_label_loss: 0.0000, \n"
     ]
    },
    {
     "name": "stdout",
     "output_type": "stream",
     "text": [
      "epoch: 9, [batch: 1892 / 6305], examples_per_second: 3927.6479, train_label_loss: 0.0000, \n"
     ]
    },
    {
     "name": "stdout",
     "output_type": "stream",
     "text": [
      "epoch: 9, [batch: 2522 / 6305], examples_per_second: 3912.9867, train_label_loss: 0.0000, \n"
     ]
    },
    {
     "name": "stdout",
     "output_type": "stream",
     "text": [
      "epoch: 9, [batch: 3153 / 6305], examples_per_second: 4032.3546, train_label_loss: 0.0000, \n"
     ]
    },
    {
     "name": "stdout",
     "output_type": "stream",
     "text": [
      "epoch: 9, [batch: 3783 / 6305], examples_per_second: 4352.5594, train_label_loss: 0.0003, \n"
     ]
    },
    {
     "name": "stdout",
     "output_type": "stream",
     "text": [
      "epoch: 9, [batch: 4413 / 6305], examples_per_second: 4459.8481, train_label_loss: 0.0000, \n"
     ]
    },
    {
     "name": "stdout",
     "output_type": "stream",
     "text": [
      "epoch: 9, [batch: 5044 / 6305], examples_per_second: 3891.2437, train_label_loss: 0.0000, \n"
     ]
    },
    {
     "name": "stdout",
     "output_type": "stream",
     "text": [
      "epoch: 9, [batch: 5674 / 6305], examples_per_second: 3903.4983, train_label_loss: 0.0000, \n"
     ]
    },
    {
     "name": "stdout",
     "output_type": "stream",
     "text": [
      "=============================================================\n",
      "epoch: 9, source_val_acc_label: 0.9995, target_val_acc_label: 0.3659, source_val_label_loss: 0.0057, target_val_label_loss: 2.0807, \n",
      "=============================================================\n"
     ]
    },
    {
     "name": "stdout",
     "output_type": "stream",
     "text": [
      "epoch: 10, [batch: 1 / 6298], examples_per_second: 4.1296, train_label_loss: 0.0000, \n"
     ]
    },
    {
     "name": "stdout",
     "output_type": "stream",
     "text": [
      "epoch: 10, [batch: 630 / 6298], examples_per_second: 3795.7858, train_label_loss: 0.0002, \n"
     ]
    },
    {
     "name": "stdout",
     "output_type": "stream",
     "text": [
      "epoch: 10, [batch: 1260 / 6298], examples_per_second: 3908.1609, train_label_loss: 0.0000, \n"
     ]
    },
    {
     "name": "stdout",
     "output_type": "stream",
     "text": [
      "epoch: 10, [batch: 1890 / 6298], examples_per_second: 3956.0240, train_label_loss: 0.0000, \n"
     ]
    },
    {
     "name": "stdout",
     "output_type": "stream",
     "text": [
      "epoch: 10, [batch: 2519 / 6298], examples_per_second: 3794.9113, train_label_loss: 0.0000, \n"
     ]
    },
    {
     "name": "stdout",
     "output_type": "stream",
     "text": [
      "epoch: 10, [batch: 3149 / 6298], examples_per_second: 4034.9023, train_label_loss: 0.0000, \n"
     ]
    },
    {
     "name": "stdout",
     "output_type": "stream",
     "text": [
      "epoch: 10, [batch: 3779 / 6298], examples_per_second: 4499.7477, train_label_loss: 0.0000, \n"
     ]
    },
    {
     "name": "stdout",
     "output_type": "stream",
     "text": [
      "epoch: 10, [batch: 4408 / 6298], examples_per_second: 4595.0918, train_label_loss: 0.0008, \n"
     ]
    },
    {
     "name": "stdout",
     "output_type": "stream",
     "text": [
      "epoch: 10, [batch: 5038 / 6298], examples_per_second: 4099.5500, train_label_loss: 0.0000, \n"
     ]
    },
    {
     "name": "stdout",
     "output_type": "stream",
     "text": [
      "epoch: 10, [batch: 5668 / 6298], examples_per_second: 3884.0610, train_label_loss: 0.0713, \n"
     ]
    },
    {
     "name": "stdout",
     "output_type": "stream",
     "text": [
      "=============================================================\n",
      "epoch: 10, source_val_acc_label: 0.9995, target_val_acc_label: 0.3701, source_val_label_loss: 0.0049, target_val_label_loss: 1.9670, \n",
      "=============================================================\n"
     ]
    },
    {
     "name": "stdout",
     "output_type": "stream",
     "text": [
      "epoch: 11, [batch: 1 / 6323], examples_per_second: 4.1291, train_label_loss: 0.0000, \n"
     ]
    },
    {
     "name": "stdout",
     "output_type": "stream",
     "text": [
      "epoch: 11, [batch: 633 / 6323], examples_per_second: 3970.2191, train_label_loss: 0.0000, \n"
     ]
    },
    {
     "name": "stdout",
     "output_type": "stream",
     "text": [
      "epoch: 11, [batch: 1265 / 6323], examples_per_second: 4014.2090, train_label_loss: 0.0000, \n"
     ]
    },
    {
     "name": "stdout",
     "output_type": "stream",
     "text": [
      "epoch: 11, [batch: 1897 / 6323], examples_per_second: 4042.3992, train_label_loss: 0.0164, \n"
     ]
    },
    {
     "name": "stdout",
     "output_type": "stream",
     "text": [
      "epoch: 11, [batch: 2529 / 6323], examples_per_second: 4025.9275, train_label_loss: 0.0000, \n"
     ]
    },
    {
     "name": "stdout",
     "output_type": "stream",
     "text": [
      "epoch: 11, [batch: 3162 / 6323], examples_per_second: 4069.8722, train_label_loss: 0.0000, \n"
     ]
    },
    {
     "name": "stdout",
     "output_type": "stream",
     "text": [
      "epoch: 11, [batch: 3794 / 6323], examples_per_second: 4538.9713, train_label_loss: 0.0000, \n"
     ]
    },
    {
     "name": "stdout",
     "output_type": "stream",
     "text": [
      "epoch: 11, [batch: 4426 / 6323], examples_per_second: 4426.6428, train_label_loss: 0.0011, \n"
     ]
    },
    {
     "name": "stdout",
     "output_type": "stream",
     "text": [
      "epoch: 11, [batch: 5058 / 6323], examples_per_second: 4401.4868, train_label_loss: 0.0000, \n"
     ]
    },
    {
     "name": "stdout",
     "output_type": "stream",
     "text": [
      "epoch: 11, [batch: 5690 / 6323], examples_per_second: 4006.0159, train_label_loss: 0.0000, \n"
     ]
    },
    {
     "name": "stdout",
     "output_type": "stream",
     "text": [
      "=============================================================\n",
      "epoch: 11, source_val_acc_label: 0.9996, target_val_acc_label: 0.3186, source_val_label_loss: 0.0051, target_val_label_loss: 2.5094, \n",
      "=============================================================\n"
     ]
    },
    {
     "name": "stdout",
     "output_type": "stream",
     "text": [
      "epoch: 12, [batch: 1 / 6325], examples_per_second: 4.1145, train_label_loss: 0.0000, \n"
     ]
    },
    {
     "name": "stdout",
     "output_type": "stream",
     "text": [
      "epoch: 12, [batch: 633 / 6325], examples_per_second: 3849.1097, train_label_loss: 0.0000, \n"
     ]
    },
    {
     "name": "stdout",
     "output_type": "stream",
     "text": [
      "epoch: 12, [batch: 1265 / 6325], examples_per_second: 3913.4104, train_label_loss: 0.0000, \n"
     ]
    },
    {
     "name": "stdout",
     "output_type": "stream",
     "text": [
      "epoch: 12, [batch: 1898 / 6325], examples_per_second: 3827.6369, train_label_loss: 0.0000, \n"
     ]
    },
    {
     "name": "stdout",
     "output_type": "stream",
     "text": [
      "epoch: 12, [batch: 2530 / 6325], examples_per_second: 3816.9740, train_label_loss: 0.0000, \n"
     ]
    },
    {
     "name": "stdout",
     "output_type": "stream",
     "text": [
      "epoch: 12, [batch: 3163 / 6325], examples_per_second: 3844.5265, train_label_loss: 0.0000, \n"
     ]
    },
    {
     "name": "stdout",
     "output_type": "stream",
     "text": [
      "epoch: 12, [batch: 3795 / 6325], examples_per_second: 4085.0439, train_label_loss: 0.1619, \n"
     ]
    },
    {
     "name": "stdout",
     "output_type": "stream",
     "text": [
      "epoch: 12, [batch: 4427 / 6325], examples_per_second: 4405.6447, train_label_loss: 0.0000, \n"
     ]
    },
    {
     "name": "stdout",
     "output_type": "stream",
     "text": [
      "epoch: 12, [batch: 5060 / 6325], examples_per_second: 4307.8342, train_label_loss: 0.0000, \n"
     ]
    },
    {
     "name": "stdout",
     "output_type": "stream",
     "text": [
      "epoch: 12, [batch: 5692 / 6325], examples_per_second: 3900.5341, train_label_loss: 0.0000, \n"
     ]
    },
    {
     "name": "stdout",
     "output_type": "stream",
     "text": [
      "=============================================================\n",
      "epoch: 12, source_val_acc_label: 0.9998, target_val_acc_label: 0.3556, source_val_label_loss: 0.0052, target_val_label_loss: 2.0960, \n",
      "=============================================================\n"
     ]
    },
    {
     "name": "stdout",
     "output_type": "stream",
     "text": [
      "Patience (3) exhausted\n"
     ]
    }
   ],
   "source": [
    "###################################\n",
    "# train\n",
    "###################################\n",
    "jig = PTN_Train_Eval_Test_Jig(model, p.BEST_MODEL_PATH, p.device)\n",
    "\n",
    "jig.train(\n",
    "    train_iterable=datasets.source.processed.train,\n",
    "    source_val_iterable=datasets.source.processed.val,\n",
    "    target_val_iterable=datasets.target.processed.val,\n",
    "    num_epochs=p.n_epoch,\n",
    "    num_logs_per_epoch=p.NUM_LOGS_PER_EPOCH,\n",
    "    patience=p.patience,\n",
    "    optimizer=optimizer,\n",
    "    criteria_for_best=p.criteria_for_best,\n",
    ")"
   ]
  },
  {
   "cell_type": "code",
   "execution_count": 23,
   "id": "31e8fabf",
   "metadata": {
    "execution": {
     "iopub.execute_input": "2022-03-28T14:57:00.575731Z",
     "iopub.status.busy": "2022-03-28T14:57:00.575316Z",
     "iopub.status.idle": "2022-03-28T14:57:00.608781Z",
     "shell.execute_reply": "2022-03-28T14:57:00.608071Z"
    },
    "papermill": {
     "duration": 0.098238,
     "end_time": "2022-03-28T14:57:00.608939",
     "exception": false,
     "start_time": "2022-03-28T14:57:00.510701",
     "status": "completed"
    },
    "tags": []
   },
   "outputs": [],
   "source": [
    "total_experiment_time_secs = time.time() - start_time_secs"
   ]
  },
  {
   "cell_type": "code",
   "execution_count": 24,
   "id": "87b9595b",
   "metadata": {
    "execution": {
     "iopub.execute_input": "2022-03-28T14:57:00.744381Z",
     "iopub.status.busy": "2022-03-28T14:57:00.743783Z",
     "iopub.status.idle": "2022-03-28T14:59:45.122010Z",
     "shell.execute_reply": "2022-03-28T14:59:45.122732Z"
    },
    "papermill": {
     "duration": 164.448226,
     "end_time": "2022-03-28T14:59:45.122961",
     "exception": false,
     "start_time": "2022-03-28T14:57:00.674735",
     "status": "completed"
    },
    "tags": []
   },
   "outputs": [],
   "source": [
    "###################################\n",
    "# Evaluate the model\n",
    "###################################\n",
    "source_test_label_accuracy, source_test_label_loss = jig.test(datasets.source.processed.test)\n",
    "target_test_label_accuracy, target_test_label_loss = jig.test(datasets.target.processed.test)\n",
    "\n",
    "source_val_label_accuracy, source_val_label_loss = jig.test(datasets.source.processed.val)\n",
    "target_val_label_accuracy, target_val_label_loss = jig.test(datasets.target.processed.val)\n",
    "\n",
    "history = jig.get_history()\n",
    "\n",
    "total_epochs_trained = len(history[\"epoch_indices\"])\n",
    "\n",
    "val_dl = Iterable_Aggregator((datasets.source.original.val,datasets.target.original.val))\n",
    "\n",
    "confusion = ptn_confusion_by_domain_over_dataloader(model, p.device, val_dl)\n",
    "per_domain_accuracy = per_domain_accuracy_from_confusion(confusion)\n",
    "\n",
    "# Add a key to per_domain_accuracy for if it was a source domain\n",
    "for domain, accuracy in per_domain_accuracy.items():\n",
    "    per_domain_accuracy[domain] = {\n",
    "        \"accuracy\": accuracy,\n",
    "        \"source?\": domain in p.domains_source\n",
    "    }\n",
    "\n",
    "# Do an independent accuracy assesment JUST TO BE SURE!\n",
    "# _source_test_label_accuracy = independent_accuracy_assesment(model, datasets.source.processed.test, p.device)\n",
    "# _target_test_label_accuracy = independent_accuracy_assesment(model, datasets.target.processed.test, p.device)\n",
    "# _source_val_label_accuracy = independent_accuracy_assesment(model, datasets.source.processed.val, p.device)\n",
    "# _target_val_label_accuracy = independent_accuracy_assesment(model, datasets.target.processed.val, p.device)\n",
    "\n",
    "# assert(_source_test_label_accuracy == source_test_label_accuracy)\n",
    "# assert(_target_test_label_accuracy == target_test_label_accuracy)\n",
    "# assert(_source_val_label_accuracy == source_val_label_accuracy)\n",
    "# assert(_target_val_label_accuracy == target_val_label_accuracy)\n",
    "\n",
    "experiment = {\n",
    "    \"experiment_name\": p.experiment_name,\n",
    "    \"parameters\": dict(p),\n",
    "    \"results\": {\n",
    "        \"source_test_label_accuracy\": source_test_label_accuracy,\n",
    "        \"source_test_label_loss\": source_test_label_loss,\n",
    "        \"target_test_label_accuracy\": target_test_label_accuracy,\n",
    "        \"target_test_label_loss\": target_test_label_loss,\n",
    "        \"source_val_label_accuracy\": source_val_label_accuracy,\n",
    "        \"source_val_label_loss\": source_val_label_loss,\n",
    "        \"target_val_label_accuracy\": target_val_label_accuracy,\n",
    "        \"target_val_label_loss\": target_val_label_loss,\n",
    "        \"total_epochs_trained\": total_epochs_trained,\n",
    "        \"total_experiment_time_secs\": total_experiment_time_secs,\n",
    "        \"confusion\": confusion,\n",
    "        \"per_domain_accuracy\": per_domain_accuracy,\n",
    "    },\n",
    "    \"history\": history,\n",
    "    \"dataset_metrics\": get_dataset_metrics(datasets, \"ptn\"),\n",
    "}"
   ]
  },
  {
   "cell_type": "code",
   "execution_count": 25,
   "id": "54a21829",
   "metadata": {
    "execution": {
     "iopub.execute_input": "2022-03-28T14:59:45.254066Z",
     "iopub.status.busy": "2022-03-28T14:59:45.253687Z",
     "iopub.status.idle": "2022-03-28T14:59:45.477992Z",
     "shell.execute_reply": "2022-03-28T14:59:45.478670Z"
    },
    "papermill": {
     "duration": 0.289466,
     "end_time": "2022-03-28T14:59:45.478903",
     "exception": false,
     "start_time": "2022-03-28T14:59:45.189437",
     "status": "completed"
    },
    "tags": []
   },
   "outputs": [
    {
     "data": {
      "image/png": "[encoded data removed]",
      "text/plain": [
       "<Figure size 1080x504 with 1 Axes>"
      ]
     },
     "metadata": {
      "needs_background": "light"
     },
     "output_type": "display_data"
    }
   ],
   "source": [
    "ax = get_loss_curve(experiment)\n",
    "plt.show()"
   ]
  },
  {
   "cell_type": "code",
   "execution_count": 26,
   "id": "fd8a0f60",
   "metadata": {
    "execution": {
     "iopub.execute_input": "2022-03-28T14:59:45.608911Z",
     "iopub.status.busy": "2022-03-28T14:59:45.608533Z",
     "iopub.status.idle": "2022-03-28T14:59:45.985390Z",
     "shell.execute_reply": "2022-03-28T14:59:45.986074Z"
    },
    "papermill": {
     "duration": 0.441136,
     "end_time": "2022-03-28T14:59:45.986289",
     "exception": false,
     "start_time": "2022-03-28T14:59:45.545153",
     "status": "completed"
    },
    "tags": []
   },
   "outputs": [
    {
     "data": {
      "text/plain": [
       "<AxesSubplot:title={'center':'Results'}>"
      ]
     },
     "execution_count": 26,
     "metadata": {},
     "output_type": "execute_result"
    },
    {
     "data": {
      "image/png": "[encoded data removed]",
      "text/plain": [
       "<Figure size 1080x504 with 1 Axes>"
      ]
     },
     "metadata": {
      "needs_background": "light"
     },
     "output_type": "display_data"
    }
   ],
   "source": [
    "get_results_table(experiment)"
   ]
  },
  {
   "cell_type": "code",
   "execution_count": 27,
   "id": "cf8dc689",
   "metadata": {
    "execution": {
     "iopub.execute_input": "2022-03-28T14:59:46.123884Z",
     "iopub.status.busy": "2022-03-28T14:59:46.123496Z",
     "iopub.status.idle": "2022-03-28T14:59:46.362832Z",
     "shell.execute_reply": "2022-03-28T14:59:46.362086Z"
    },
    "papermill": {
     "duration": 0.306115,
     "end_time": "2022-03-28T14:59:46.363014",
     "exception": false,
     "start_time": "2022-03-28T14:59:46.056899",
     "status": "completed"
    },
    "tags": []
   },
   "outputs": [
    {
     "data": {
      "text/plain": [
       "<AxesSubplot:title={'center':'Per Domain Validation Accuracy'}, xlabel='domain'>"
      ]
     },
     "execution_count": 27,
     "metadata": {},
     "output_type": "execute_result"
    },
    {
     "data": {
      "image/png": "[encoded data removed]",
      "text/plain": [
       "<Figure size 1080x504 with 1 Axes>"
      ]
     },
     "metadata": {
      "needs_background": "light"
     },
     "output_type": "display_data"
    }
   ],
   "source": [
    "get_domain_accuracies(experiment)"
   ]
  },
  {
   "cell_type": "code",
   "execution_count": 28,
   "id": "a74ae082",
   "metadata": {
    "execution": {
     "iopub.execute_input": "2022-03-28T14:59:46.503267Z",
     "iopub.status.busy": "2022-03-28T14:59:46.502697Z",
     "iopub.status.idle": "2022-03-28T14:59:46.530353Z",
     "shell.execute_reply": "2022-03-28T14:59:46.529529Z"
    },
    "papermill": {
     "duration": 0.096278,
     "end_time": "2022-03-28T14:59:46.530517",
     "exception": false,
     "start_time": "2022-03-28T14:59:46.434239",
     "status": "completed"
    },
    "tags": []
   },
   "outputs": [
    {
     "name": "stdout",
     "output_type": "stream",
     "text": [
      "Source Test Label Accuracy: 0.9994350282485875 Target Test Label Accuracy: 0.38603515625\n",
      "Source Val Label Accuracy: 0.9996785714285714 Target Val Label Accuracy: 0.39573567708333335\n"
     ]
    }
   ],
   "source": [
    "print(\"Source Test Label Accuracy:\", experiment[\"results\"][\"source_test_label_accuracy\"], \"Target Test Label Accuracy:\", experiment[\"results\"][\"target_test_label_accuracy\"])\n",
    "print(\"Source Val Label Accuracy:\", experiment[\"results\"][\"source_val_label_accuracy\"], \"Target Val Label Accuracy:\", experiment[\"results\"][\"target_val_label_accuracy\"])"
   ]
  },
  {
   "cell_type": "code",
   "execution_count": 29,
   "id": "dacca602",
   "metadata": {
    "execution": {
     "iopub.execute_input": "2022-03-28T14:59:46.665043Z",
     "iopub.status.busy": "2022-03-28T14:59:46.664679Z",
     "iopub.status.idle": "2022-03-28T14:59:46.694062Z",
     "shell.execute_reply": "2022-03-28T14:59:46.694727Z"
    },
    "papermill": {
     "duration": 0.095925,
     "end_time": "2022-03-28T14:59:46.694927",
     "exception": false,
     "start_time": "2022-03-28T14:59:46.599002",
     "status": "completed"
    },
    "tags": [
     "experiment_json"
    ]
   },
   "outputs": [
    {
     "data": {
      "text/plain": [
       "'{\"experiment_name\": \"tl_3-jitter5v2:cores -> oracle.run1.framed\", \"parameters\": {\"experiment_name\": \"tl_3-jitter5v2:cores -> oracle.run1.framed\", \"device\": \"cuda\", \"lr\": 0.0001, \"x_shape\": [2, 256], \"n_shot\": 3, \"n_query\": 2, \"train_k_factor\": 3, \"val_k_factor\": 2, \"test_k_factor\": 2, \"torch_default_dtype\": \"torch.float32\", \"n_epoch\": 50, \"patience\": 3, \"criteria_for_best\": \"target_accuracy\", \"x_net\": [{\"class\": \"nnReshape\", \"kargs\": {\"shape\": [-1, 1, 2, 256]}}, {\"class\": \"Conv2d\", \"kargs\": {\"in_channels\": 1, \"out_channels\": 256, \"kernel_size\": [1, 7], \"bias\": false, \"padding\": [0, 3]}}, {\"class\": \"ReLU\", \"kargs\": {\"inplace\": true}}, {\"class\": \"BatchNorm2d\", \"kargs\": {\"num_features\": 256}}, {\"class\": \"Conv2d\", \"kargs\": {\"in_channels\": 256, \"out_channels\": 80, \"kernel_size\": [2, 7], \"bias\": true, \"padding\": [0, 3]}}, {\"class\": \"ReLU\", \"kargs\": {\"inplace\": true}}, {\"class\": \"BatchNorm2d\", \"kargs\": {\"num_features\": 80}}, {\"class\": \"Flatten\", \"kargs\": {}}, {\"class\": \"Linear\", \"kargs\": {\"in_features\": 20480, \"out_features\": 256}}, {\"class\": \"ReLU\", \"kargs\": {\"inplace\": true}}, {\"class\": \"BatchNorm1d\", \"kargs\": {\"num_features\": 256}}, {\"class\": \"Linear\", \"kargs\": {\"in_features\": 256, \"out_features\": 256}}], \"NUM_LOGS_PER_EPOCH\": 10, \"BEST_MODEL_PATH\": \"./best_model.pth\", \"n_way\": 16, \"datasets\": [{\"labels\": [\"1-10.\", \"1-11.\", \"1-15.\", \"1-16.\", \"1-17.\", \"1-18.\", \"1-19.\", \"10-4.\", \"10-7.\", \"11-1.\", \"11-14.\", \"11-17.\", \"11-20.\", \"11-7.\", \"13-20.\", \"13-8.\", \"14-10.\", \"14-11.\", \"14-14.\", \"14-7.\", \"15-1.\", \"15-20.\", \"16-1.\", \"16-16.\", \"17-10.\", \"17-11.\", \"17-2.\", \"19-1.\", \"19-16.\", \"19-19.\", \"19-20.\", \"19-3.\", \"2-10.\", \"2-11.\", \"2-17.\", \"2-18.\", \"2-20.\", \"2-3.\", \"2-4.\", \"2-5.\", \"2-6.\", \"2-7.\", \"2-8.\", \"3-13.\", \"3-18.\", \"3-3.\", \"4-1.\", \"4-10.\", \"4-11.\", \"4-19.\", \"5-5.\", \"6-15.\", \"7-10.\", \"7-14.\", \"8-18.\", \"8-20.\", \"8-3.\", \"8-8.\"], \"domains\": [1, 2, 3, 4, 5], \"num_examples_per_domain_per_label\": -1, \"pickle_path\": \"/root/csc500-main/datasets/cores.stratified_ds.2022A.pkl\", \"source_or_target_dataset\": \"source\", \"x_transforms\": [\"unit_mag\", \"jitter_256_5\", \"lowpass_+/-10MHz\", \"take_200\"], \"episode_transforms\": [], \"domain_prefix\": \"C_\"}, {\"labels\": [\"3123D52\", \"3123D65\", \"3123D79\", \"3123D80\", \"3123D54\", \"3123D70\", \"3123D7B\", \"3123D89\", \"3123D58\", \"3123D76\", \"3123D7D\", \"3123EFE\", \"3123D64\", \"3123D78\", \"3123D7E\", \"3124E4A\"], \"domains\": [32, 38, 8, 44, 14, 50, 20, 26], \"num_examples_per_domain_per_label\": 2000, \"pickle_path\": \"/root/csc500-main/datasets/oracle.Run1_framed_2000Examples_stratified_ds.2022A.pkl\", \"source_or_target_dataset\": \"target\", \"x_transforms\": [\"unit_mag\", \"jitter_256_5\", \"take_200\", \"resample_20Msps_to_25Msps\"], \"episode_transforms\": [], \"domain_prefix\": \"O_\"}], \"seed\": 7, \"dataset_seed\": 7, \"domains_source\": [\"C_1\", \"C_2\", \"C_3\", \"C_4\", \"C_5\"], \"domains_target\": [\"O_32\", \"O_38\", \"O_8\", \"O_44\", \"O_14\", \"O_50\", \"O_20\", \"O_26\"]}, \"results\": {\"source_test_label_accuracy\": 0.9994350282485875, \"source_test_label_loss\": 0.004577262327075005, \"target_test_label_accuracy\": 0.38603515625, \"target_test_label_loss\": 1.7411755323410034, \"source_val_label_accuracy\": 0.9996785714285714, \"source_val_label_loss\": 0.0050090462900698185, \"target_val_label_accuracy\": 0.39573567708333335, \"target_val_label_loss\": 1.7269924879074097, \"total_epochs_trained\": 12, \"total_experiment_time_secs\": 1889.5479047298431, \"confusion\": {\"C_5\": {\"26\": {\"26\": 24}, \"7\": {\"7\": 32}, \"56\": {\"56\": 142}, \"36\": {\"36\": 92}, \"47\": {\"47\": 100}, \"2\": {\"2\": 28}, \"15\": {\"15\": 152}, \"14\": {\"14\": 44}, \"27\": {\"27\": 146}, \"40\": {\"40\": 124}, \"49\": {\"49\": 36}, \"45\": {\"45\": 124}, \"46\": {\"46\": 136}, \"11\": {\"11\": 130}, \"30\": {\"30\": 112}, \"0\": {\"0\": 124}, \"10\": {\"10\": 68}, \"1\": {\"1\": 148}, \"42\": {\"42\": 38, \"2\": 1, \"47\": 1}, \"54\": {\"54\": 112}, \"55\": {\"55\": 152}, \"23\": {\"23\": 124}, \"25\": {\"25\": 152}, \"28\": {\"28\": 32}, \"32\": {\"32\": 32}, \"9\": {\"9\": 142}, \"39\": {\"39\": 20}, \"3\": {\"3\": 100}, \"29\": {\"29\": 118}, \"17\": {\"17\": 116}, \"35\": {\"35\": 36}, \"44\": {\"44\": 152}, \"5\": {\"5\": 128}, \"33\": {\"33\": 32}, \"34\": {\"34\": 36}, \"13\": {\"13\": 138}, \"41\": {\"41\": 28}, \"6\": {\"6\": 128}, \"51\": {\"51\": 138}, \"50\": {\"50\": 144}, \"37\": {\"37\": 24}, \"19\": {\"19\": 144}, \"57\": {\"57\": 132}, \"21\": {\"21\": 144}, \"24\": {\"24\": 80}, \"8\": {\"8\": 130}, \"12\": {\"12\": 96}, \"48\": {\"48\": 132}, \"43\": {\"43\": 150}, \"53\": {\"53\": 148}, \"38\": {\"38\": 32}, \"16\": {\"16\": 142}, \"22\": {\"22\": 28}, \"4\": {\"4\": 100}, \"18\": {\"18\": 64}, \"20\": {\"20\": 144}, \"52\": {\"52\": 140}, \"31\": {\"31\": 36}}, \"C_1\": {\"41\": {\"41\": 24}, \"40\": {\"40\": 110}, \"45\": {\"45\": 138}, \"51\": {\"51\": 148}, \"5\": {\"5\": 153, \"9\": 1}, \"30\": {\"30\": 120}, \"42\": {\"42\": 40}, \"46\": {\"46\": 136}, \"48\": {\"48\": 134}, \"53\": {\"53\": 144}, \"47\": {\"47\": 152}, \"49\": {\"49\": 32}, \"36\": {\"36\": 64}, \"32\": {\"32\": 32}, \"34\": {\"34\": 24}, \"29\": {\"29\": 140}, \"35\": {\"35\": 36}, \"3\": {\"3\": 134}, \"16\": {\"16\": 140}, \"26\": {\"26\": 24}, \"57\": {\"57\": 144}, \"44\": {\"44\": 127, \"35\": 1}, \"0\": {\"0\": 152}, \"4\": {\"4\": 132}, \"31\": {\"31\": 28}, \"11\": {\"11\": 140}, \"6\": {\"6\": 96}, \"54\": {\"54\": 104}, \"17\": {\"17\": 64}, \"20\": {\"20\": 128}, \"13\": {\"13\": 150}, \"33\": {\"33\": 32}, \"24\": {\"24\": 108}, \"52\": {\"52\": 132}, \"2\": {\"2\": 36}, \"19\": {\"19\": 156}, \"39\": {\"39\": 28}, \"8\": {\"8\": 140}, \"21\": {\"21\": 124}, \"10\": {\"10\": 96}, \"37\": {\"37\": 32}, \"25\": {\"25\": 144}, \"27\": {\"27\": 130}, \"23\": {\"23\": 136}, \"1\": {\"1\": 100}, \"50\": {\"50\": 152}, \"12\": {\"12\": 116}, \"18\": {\"18\": 72}, \"38\": {\"38\": 24}, \"14\": {\"14\": 24}, \"56\": {\"56\": 142}, \"55\": {\"55\": 160}, \"9\": {\"9\": 138}, \"15\": {\"15\": 146}, \"28\": {\"28\": 28}, \"7\": {\"7\": 28}, \"43\": {\"43\": 136}, \"22\": {\"22\": 136}}, \"C_3\": {\"1\": {\"1\": 100}, \"9\": {\"9\": 124}, \"22\": {\"22\": 136}, \"43\": {\"43\": 136}, \"49\": {\"49\": 20}, \"50\": {\"50\": 138}, \"53\": {\"53\": 136}, \"10\": {\"10\": 64}, \"48\": {\"48\": 116}, \"8\": {\"8\": 138}, \"31\": {\"31\": 28}, \"56\": {\"56\": 134}, \"25\": {\"25\": 142}, \"28\": {\"28\": 28}, \"38\": {\"38\": 28}, \"5\": {\"5\": 116}, \"12\": {\"12\": 92}, \"6\": {\"6\": 88}, \"19\": {\"19\": 152}, \"26\": {\"26\": 24}, \"32\": {\"32\": 28}, \"33\": {\"33\": 28}, \"3\": {\"3\": 117, \"16\": 1}, \"51\": {\"51\": 128}, \"16\": {\"16\": 138}, \"46\": {\"46\": 140}, \"7\": {\"7\": 36}, \"47\": {\"47\": 92}, \"39\": {\"39\": 16}, \"40\": {\"40\": 136}, \"14\": {\"14\": 40}, \"37\": {\"37\": 28}, \"2\": {\"2\": 32}, \"21\": {\"21\": 120}, \"35\": {\"35\": 28}, \"54\": {\"54\": 100}, \"52\": {\"52\": 116}, \"29\": {\"29\": 118}, \"20\": {\"20\": 132}, \"18\": {\"18\": 84}, \"11\": {\"11\": 142}, \"0\": {\"0\": 124}, \"36\": {\"36\": 100}, \"17\": {\"17\": 108}, \"30\": {\"30\": 114}, \"42\": {\"42\": 28}, \"45\": {\"45\": 60}, \"4\": {\"4\": 148}, \"23\": {\"23\": 134}, \"13\": {\"13\": 128}, \"15\": {\"15\": 128}, \"57\": {\"57\": 124}, \"27\": {\"27\": 134}, \"44\": {\"44\": 88}, \"34\": {\"34\": 32}, \"41\": {\"41\": 28}, \"24\": {\"24\": 104}, \"55\": {\"55\": 118}}, \"C_4\": {\"52\": {\"52\": 116}, \"6\": {\"6\": 112}, \"14\": {\"14\": 16}, \"49\": {\"49\": 20}, \"0\": {\"0\": 80}, \"46\": {\"46\": 156}, \"41\": {\"41\": 36}, \"24\": {\"24\": 56}, \"25\": {\"25\": 152}, \"40\": {\"40\": 138}, \"38\": {\"38\": 40}, \"13\": {\"13\": 152}, \"9\": {\"9\": 108}, \"45\": {\"45\": 95, \"17\": 1}, \"43\": {\"43\": 144}, \"10\": {\"10\": 130}, \"15\": {\"15\": 128}, \"39\": {\"39\": 20}, \"4\": {\"4\": 132}, \"53\": {\"53\": 132}, \"1\": {\"1\": 40}, \"28\": {\"28\": 32}, \"54\": {\"54\": 108}, \"21\": {\"21\": 132}, \"7\": {\"7\": 24}, \"8\": {\"8\": 136}, \"42\": {\"42\": 32}, \"11\": {\"11\": 104}, \"33\": {\"33\": 36}, \"27\": {\"27\": 142}, \"19\": {\"19\": 144}, \"2\": {\"2\": 36}, \"3\": {\"3\": 119, \"20\": 1}, \"57\": {\"57\": 100}, \"20\": {\"20\": 112}, \"23\": {\"23\": 128}, \"22\": {\"22\": 128}, \"29\": {\"29\": 124}, \"36\": {\"36\": 92}, \"51\": {\"51\": 132}, \"31\": {\"31\": 28}, \"12\": {\"12\": 92}, \"56\": {\"56\": 138}, \"5\": {\"5\": 108}, \"35\": {\"35\": 40}, \"17\": {\"17\": 80}, \"32\": {\"32\": 24}, \"47\": {\"47\": 120}, \"18\": {\"18\": 107, \"22\": 1}, \"26\": {\"26\": 24}, \"50\": {\"50\": 121, \"3\": 1}, \"55\": {\"55\": 124}, \"34\": {\"34\": 24}, \"30\": {\"30\": 44}, \"37\": {\"37\": 24}, \"44\": {\"44\": 132}, \"48\": {\"48\": 118}, \"16\": {\"16\": 96}}, \"C_2\": {\"11\": {\"11\": 130}, \"21\": {\"21\": 120}, \"19\": {\"19\": 140}, \"20\": {\"20\": 128}, \"9\": {\"9\": 140}, \"10\": {\"10\": 112}, \"37\": {\"37\": 36}, \"32\": {\"32\": 28}, \"3\": {\"3\": 92}, \"39\": {\"39\": 28}, \"45\": {\"45\": 128}, \"50\": {\"50\": 136}, \"40\": {\"40\": 140}, \"46\": {\"46\": 128}, \"12\": {\"12\": 92}, \"13\": {\"13\": 116}, \"47\": {\"47\": 132}, \"15\": {\"15\": 142}, \"54\": {\"54\": 108}, \"48\": {\"48\": 148}, \"23\": {\"23\": 142}, \"29\": {\"29\": 128}, \"38\": {\"38\": 20}, \"53\": {\"53\": 136}, \"27\": {\"27\": 150}, \"43\": {\"43\": 144}, \"35\": {\"35\": 32}, \"0\": {\"0\": 48}, \"52\": {\"52\": 124}, \"8\": {\"8\": 128}, \"24\": {\"24\": 96}, \"18\": {\"18\": 48}, \"25\": {\"25\": 148}, \"57\": {\"57\": 136}, \"55\": {\"55\": 134}, \"36\": {\"36\": 116}, \"17\": {\"17\": 104}, \"2\": {\"2\": 32}, \"34\": {\"34\": 28}, \"1\": {\"1\": 112}, \"51\": {\"51\": 136}, \"31\": {\"31\": 28}, \"49\": {\"49\": 24}, \"14\": {\"14\": 24}, \"33\": {\"33\": 28}, \"41\": {\"41\": 20}, \"28\": {\"28\": 28}, \"5\": {\"5\": 120}, \"16\": {\"16\": 150}, \"4\": {\"4\": 128}, \"22\": {\"22\": 136}, \"6\": {\"6\": 118}, \"30\": {\"30\": 124}, \"26\": {\"26\": 24}, \"56\": {\"56\": 142}, \"42\": {\"42\": 36}, \"44\": {\"44\": 100}, \"7\": {\"7\": 36}}, \"O_26\": {\"0\": {\"9\": 21, \"0\": 37, \"8\": 30, \"10\": 25, \"14\": 18, \"1\": 21, \"15\": 12, \"3\": 10, \"5\": 7, \"2\": 4, \"6\": 20, \"7\": 17, \"4\": 13, \"13\": 5}, \"4\": {\"14\": 34, \"0\": 26, \"7\": 20, \"4\": 30, \"3\": 9, \"1\": 30, \"8\": 15, \"9\": 11, \"2\": 16, \"5\": 13, \"10\": 23, \"15\": 6, \"13\": 5, \"6\": 2}, \"14\": {\"0\": 32, \"6\": 12, \"9\": 15, \"10\": 20, \"4\": 22, \"1\": 27, \"14\": 24, \"2\": 13, \"7\": 25, \"5\": 10, \"8\": 17, \"15\": 11, \"13\": 5, \"3\": 7}, \"12\": {\"12\": 202, \"6\": 7, \"11\": 27, \"10\": 2, \"9\": 1, \"0\": 1}, \"8\": {\"0\": 23, \"13\": 11, \"10\": 24, \"1\": 11, \"8\": 15, \"7\": 25, \"3\": 9, \"4\": 18, \"9\": 15, \"14\": 26, \"15\": 25, \"2\": 11, \"5\": 17, \"6\": 10}, \"7\": {\"2\": 35, \"7\": 39, \"15\": 10, \"0\": 7, \"3\": 48, \"4\": 21, \"1\": 19, \"5\": 13, \"9\": 6, \"14\": 13, \"10\": 9, \"8\": 15, \"13\": 5}, \"13\": {\"10\": 8, \"9\": 24, \"2\": 12, \"13\": 56, \"15\": 21, \"6\": 20, \"5\": 52, \"4\": 2, \"8\": 19, \"1\": 4, \"0\": 6, \"7\": 2, \"14\": 5, \"3\": 6, \"11\": 2, \"12\": 1}, \"5\": {\"6\": 9, \"5\": 42, \"13\": 37, \"4\": 11, \"10\": 16, \"7\": 14, \"1\": 4, \"2\": 31, \"15\": 19, \"8\": 13, \"3\": 16, \"9\": 19, \"14\": 5, \"0\": 4}, \"15\": {\"4\": 5, \"9\": 31, \"13\": 29, \"7\": 12, \"0\": 20, \"8\": 23, \"5\": 22, \"6\": 19, \"15\": 36, \"2\": 11, \"1\": 4, \"3\": 8, \"14\": 4, \"10\": 16}, \"10\": {\"10\": 33, \"9\": 20, \"7\": 10, \"0\": 28, \"8\": 24, \"14\": 19, \"4\": 20, \"6\": 30, \"5\": 10, \"2\": 4, \"1\": 12, \"15\": 14, \"13\": 11, \"3\": 5}, \"3\": {\"2\": 60, \"3\": 84, \"13\": 5, \"1\": 9, \"5\": 12, \"4\": 17, \"0\": 3, \"8\": 6, \"7\": 27, \"15\": 4, \"10\": 3, \"14\": 8, \"9\": 2}, \"9\": {\"6\": 49, \"5\": 22, \"9\": 50, \"11\": 1, \"14\": 5, \"0\": 18, \"13\": 23, \"8\": 17, \"10\": 14, \"15\": 20, \"2\": 4, \"4\": 7, \"3\": 2, \"1\": 6, \"7\": 1, \"12\": 1}, \"6\": {\"9\": 33, \"5\": 8, \"6\": 83, \"8\": 13, \"10\": 21, \"7\": 3, \"14\": 5, \"13\": 22, \"2\": 5, \"0\": 21, \"15\": 16, \"11\": 1, \"1\": 3, \"12\": 1, \"4\": 5}, \"1\": {\"10\": 10, \"7\": 19, \"3\": 22, \"9\": 5, \"1\": 67, \"0\": 11, \"14\": 23, \"4\": 38, \"15\": 2, \"5\": 6, \"2\": 12, \"8\": 21, \"6\": 3, \"13\": 1}, \"11\": {\"11\": 206, \"6\": 4, \"12\": 27, \"13\": 1, \"0\": 1, \"10\": 1}, \"2\": {\"0\": 5, \"15\": 15, \"13\": 14, \"2\": 39, \"7\": 33, \"4\": 17, \"3\": 58, \"10\": 6, \"5\": 23, \"1\": 6, \"8\": 8, \"9\": 10, \"14\": 6}}, \"O_44\": {\"1\": {\"1\": 47, \"3\": 47, \"12\": 75, \"7\": 6, \"10\": 38, \"2\": 26, \"6\": 1}, \"11\": {\"11\": 173, \"13\": 37, \"6\": 14, \"4\": 2, \"9\": 6, \"7\": 5, \"14\": 2, \"2\": 1}, \"3\": {\"3\": 106, \"1\": 52, \"12\": 25, \"7\": 24, \"10\": 15, \"9\": 2, \"2\": 15, \"6\": 1}, \"6\": {\"7\": 32, \"9\": 40, \"6\": 95, \"13\": 50, \"11\": 17, \"2\": 5, \"4\": 1}, \"7\": {\"7\": 78, \"9\": 44, \"2\": 42, \"3\": 15, \"6\": 34, \"13\": 5, \"1\": 10, \"12\": 2, \"10\": 9, \"11\": 1}, \"5\": {\"5\": 99, \"15\": 29, \"0\": 53, \"4\": 7, \"14\": 14, \"8\": 38}, \"2\": {\"12\": 13, \"7\": 58, \"2\": 77, \"3\": 18, \"10\": 30, \"6\": 3, \"1\": 30, \"9\": 10, \"11\": 1}, \"15\": {\"14\": 37, \"15\": 97, \"4\": 30, \"5\": 20, \"8\": 22, \"0\": 34}, \"10\": {\"12\": 65, \"3\": 11, \"10\": 97, \"1\": 37, \"2\": 28, \"7\": 2}, \"13\": {\"6\": 41, \"13\": 102, \"11\": 29, \"4\": 17, \"9\": 36, \"7\": 7, \"2\": 2, \"14\": 6}, \"8\": {\"8\": 107, \"5\": 25, \"0\": 83, \"4\": 4, \"15\": 18, \"14\": 3}, \"4\": {\"14\": 71, \"4\": 118, \"15\": 28, \"5\": 8, \"13\": 10, \"0\": 3, \"8\": 2}, \"9\": {\"6\": 46, \"11\": 5, \"9\": 70, \"13\": 45, \"7\": 60, \"3\": 3, \"1\": 1, \"2\": 10}, \"14\": {\"14\": 77, \"5\": 19, \"4\": 76, \"15\": 50, \"13\": 7, \"8\": 6, \"0\": 5}, \"0\": {\"0\": 90, \"15\": 28, \"5\": 47, \"8\": 67, \"14\": 8}, \"12\": {\"10\": 48, \"12\": 126, \"1\": 50, \"3\": 13, \"2\": 3}}, \"O_50\": {\"15\": {\"15\": 102, \"4\": 35, \"1\": 51, \"14\": 6, \"6\": 16, \"11\": 21, \"2\": 1, \"5\": 3, \"13\": 4, \"9\": 1}, \"4\": {\"4\": 61, \"15\": 30, \"13\": 12, \"1\": 66, \"6\": 19, \"5\": 28, \"14\": 4, \"11\": 3, \"0\": 2, \"7\": 5, \"2\": 7, \"10\": 3}, \"6\": {\"6\": 78, \"13\": 41, \"1\": 8, \"7\": 18, \"4\": 26, \"5\": 28, \"10\": 7, \"2\": 9, \"15\": 13, \"0\": 10, \"11\": 1, \"14\": 1}, \"2\": {\"2\": 143, \"0\": 54, \"10\": 6, \"1\": 12, \"6\": 8, \"13\": 6, \"14\": 4, \"4\": 4, \"15\": 1, \"5\": 1, \"7\": 1}, \"5\": {\"13\": 41, \"7\": 36, \"5\": 61, \"4\": 24, \"0\": 14, \"2\": 6, \"10\": 20, \"1\": 15, \"14\": 1, \"15\": 7, \"6\": 13, \"8\": 2}, \"9\": {\"11\": 47, \"9\": 119, \"12\": 61, \"14\": 13}, \"8\": {\"0\": 4, \"8\": 153, \"10\": 32, \"3\": 42, \"7\": 8, \"5\": 1}, \"12\": {\"11\": 16, \"12\": 141, \"9\": 55, \"14\": 27, \"15\": 1}, \"10\": {\"10\": 105, \"2\": 6, \"0\": 27, \"7\": 42, \"6\": 4, \"8\": 29, \"13\": 15, \"5\": 11, \"4\": 1}, \"1\": {\"4\": 47, \"1\": 79, \"15\": 47, \"11\": 12, \"5\": 5, \"14\": 12, \"2\": 15, \"6\": 17, \"0\": 5, \"13\": 1}, \"0\": {\"2\": 56, \"1\": 6, \"0\": 107, \"6\": 6, \"10\": 36, \"4\": 2, \"13\": 10, \"7\": 5, \"5\": 10, \"8\": 2}, \"3\": {\"8\": 49, \"3\": 190, \"7\": 1}, \"13\": {\"7\": 47, \"5\": 33, \"13\": 39, \"10\": 33, \"2\": 5, \"6\": 44, \"4\": 15, \"0\": 17, \"8\": 3, \"1\": 3, \"15\": 1}, \"11\": {\"11\": 116, \"12\": 19, \"9\": 39, \"14\": 40, \"15\": 16, \"4\": 1, \"1\": 8, \"6\": 1}, \"7\": {\"7\": 90, \"10\": 43, \"5\": 33, \"8\": 9, \"4\": 7, \"13\": 45, \"6\": 9, \"1\": 1, \"0\": 3}, \"14\": {\"12\": 23, \"1\": 8, \"14\": 160, \"11\": 31, \"15\": 9, \"2\": 2, \"9\": 3, \"4\": 3, \"0\": 1}}, \"O_38\": {\"15\": {\"5\": 11, \"15\": 79, \"10\": 23, \"13\": 51, \"0\": 8, \"2\": 4, \"8\": 17, \"1\": 40, \"11\": 2, \"14\": 5}, \"11\": {\"14\": 90, \"11\": 86, \"10\": 6, \"2\": 49, \"12\": 4, \"13\": 3, \"4\": 1, \"8\": 1}, \"10\": {\"10\": 80, \"8\": 28, \"14\": 4, \"13\": 42, \"15\": 38, \"12\": 9, \"0\": 10, \"5\": 6, \"7\": 6, \"11\": 5, \"2\": 6, \"4\": 3, \"1\": 3}, \"14\": {\"11\": 72, \"14\": 111, \"12\": 5, \"2\": 45, \"10\": 4, \"13\": 2, \"15\": 1}, \"6\": {\"6\": 116, \"7\": 7, \"9\": 67, \"0\": 4, \"3\": 11, \"5\": 28, \"8\": 7}, \"4\": {\"4\": 169, \"8\": 8, \"12\": 39, \"10\": 11, \"0\": 5, \"7\": 5, \"13\": 2, \"14\": 1}, \"13\": {\"0\": 4, \"2\": 25, \"14\": 2, \"13\": 87, \"10\": 34, \"8\": 11, \"15\": 48, \"1\": 21, \"11\": 5, \"5\": 3}, \"3\": {\"9\": 32, \"3\": 148, \"7\": 17, \"0\": 10, \"5\": 5, \"6\": 26, \"8\": 2}, \"7\": {\"8\": 29, \"7\": 102, \"0\": 43, \"3\": 12, \"5\": 21, \"9\": 22, \"6\": 7, \"15\": 1, \"4\": 1, \"10\": 1, \"1\": 1}, \"8\": {\"0\": 42, \"5\": 42, \"15\": 17, \"8\": 66, \"7\": 23, \"13\": 10, \"12\": 1, \"1\": 19, \"10\": 13, \"6\": 5, \"4\": 1, \"9\": 1}, \"1\": {\"15\": 63, \"1\": 115, \"8\": 14, \"13\": 17, \"5\": 19, \"10\": 4, \"0\": 5, \"6\": 2, \"7\": 1}, \"5\": {\"7\": 30, \"9\": 15, \"1\": 22, \"8\": 47, \"15\": 7, \"10\": 7, \"5\": 55, \"13\": 6, \"0\": 23, \"6\": 25, \"3\": 3}, \"0\": {\"7\": 33, \"6\": 13, \"5\": 27, \"8\": 45, \"0\": 71, \"1\": 9, \"3\": 12, \"12\": 1, \"9\": 10, \"15\": 7, \"10\": 10, \"13\": 2}, \"2\": {\"2\": 150, \"11\": 20, \"14\": 39, \"15\": 5, \"10\": 7, \"13\": 19}, \"12\": {\"12\": 190, \"14\": 6, \"0\": 2, \"4\": 27, \"11\": 8, \"13\": 1, \"8\": 2, \"10\": 3, \"15\": 1}, \"9\": {\"9\": 102, \"3\": 38, \"6\": 78, \"5\": 11, \"8\": 2, \"7\": 4, \"0\": 5}}, \"O_20\": {\"10\": {\"10\": 70, \"14\": 31, \"6\": 29, \"3\": 17, \"12\": 7, \"9\": 15, \"11\": 2, \"4\": 27, \"7\": 17, \"8\": 12, \"2\": 10, \"15\": 1, \"1\": 1, \"5\": 1}, \"7\": {\"2\": 35, \"13\": 16, \"7\": 30, \"3\": 17, \"9\": 24, \"0\": 2, \"6\": 23, \"8\": 15, \"4\": 14, \"10\": 15, \"5\": 5, \"12\": 4, \"14\": 16, \"1\": 8, \"11\": 13, \"15\": 3}, \"4\": {\"10\": 17, \"12\": 16, \"7\": 10, \"13\": 8, \"4\": 43, \"8\": 31, \"14\": 14, \"2\": 14, \"5\": 24, \"3\": 20, \"9\": 14, \"15\": 8, \"1\": 12, \"0\": 6, \"6\": 3}, \"13\": {\"3\": 11, \"9\": 20, \"13\": 72, \"12\": 13, \"7\": 19, \"14\": 4, \"5\": 12, \"2\": 34, \"15\": 22, \"11\": 5, \"8\": 6, \"1\": 14, \"4\": 3, \"0\": 5}, \"1\": {\"1\": 45, \"2\": 9, \"12\": 23, \"15\": 33, \"3\": 26, \"0\": 22, \"13\": 8, \"5\": 33, \"9\": 16, \"4\": 12, \"7\": 7, \"10\": 4, \"8\": 2}, \"0\": {\"1\": 17, \"0\": 76, \"5\": 46, \"15\": 47, \"4\": 11, \"8\": 14, \"13\": 5, \"12\": 10, \"3\": 6, \"2\": 2, \"7\": 2, \"9\": 4}, \"12\": {\"7\": 17, \"13\": 14, \"9\": 34, \"1\": 33, \"3\": 32, \"2\": 19, \"12\": 27, \"5\": 18, \"15\": 10, \"0\": 8, \"4\": 12, \"10\": 7, \"8\": 7, \"14\": 2}, \"5\": {\"1\": 32, \"2\": 10, \"12\": 24, \"8\": 11, \"7\": 5, \"5\": 33, \"9\": 17, \"0\": 35, \"3\": 21, \"15\": 27, \"13\": 10, \"4\": 13, \"6\": 1, \"10\": 1}, \"6\": {\"11\": 26, \"14\": 58, \"6\": 79, \"3\": 4, \"10\": 19, \"2\": 6, \"8\": 10, \"4\": 7, \"9\": 4, \"7\": 23, \"13\": 3, \"12\": 1}, \"2\": {\"1\": 14, \"9\": 35, \"6\": 7, \"7\": 19, \"13\": 26, \"2\": 28, \"5\": 11, \"12\": 20, \"15\": 5, \"4\": 11, \"3\": 24, \"10\": 13, \"8\": 11, \"11\": 5, \"14\": 6, \"0\": 5}, \"8\": {\"14\": 18, \"9\": 10, \"8\": 46, \"6\": 10, \"4\": 39, \"0\": 9, \"2\": 18, \"11\": 2, \"3\": 15, \"10\": 12, \"12\": 12, \"7\": 21, \"1\": 5, \"5\": 12, \"15\": 5, \"13\": 6}, \"11\": {\"6\": 35, \"11\": 148, \"14\": 10, \"1\": 2, \"10\": 7, \"7\": 10, \"13\": 11, \"2\": 7, \"8\": 3, \"3\": 2, \"9\": 4, \"15\": 1}, \"9\": {\"9\": 32, \"13\": 20, \"7\": 25, \"5\": 13, \"3\": 31, \"14\": 1, \"4\": 16, \"10\": 14, \"12\": 18, \"1\": 25, \"11\": 2, \"2\": 22, \"8\": 8, \"6\": 5, \"15\": 7, \"0\": 1}, \"14\": {\"14\": 65, \"6\": 58, \"8\": 27, \"4\": 17, \"10\": 35, \"11\": 5, \"7\": 16, \"3\": 2, \"9\": 7, \"2\": 4, \"1\": 1, \"5\": 1, \"12\": 2}, \"15\": {\"2\": 12, \"3\": 10, \"1\": 33, \"5\": 39, \"0\": 40, \"12\": 20, \"13\": 17, \"15\": 47, \"9\": 6, \"4\": 8, \"7\": 5, \"8\": 2, \"10\": 1}, \"3\": {\"13\": 14, \"9\": 21, \"10\": 10, \"7\": 23, \"3\": 29, \"15\": 12, \"2\": 23, \"4\": 26, \"14\": 4, \"12\": 24, \"5\": 13, \"1\": 24, \"8\": 10, \"0\": 6, \"6\": 1}}, \"O_14\": {\"14\": {\"6\": 23, \"3\": 34, \"1\": 2, \"2\": 31, \"5\": 8, \"13\": 22, \"14\": 75, \"0\": 16, \"4\": 14, \"10\": 15}, \"0\": {\"14\": 10, \"0\": 104, \"10\": 54, \"11\": 32, \"3\": 12, \"8\": 17, \"9\": 6, \"2\": 3, \"4\": 2}, \"4\": {\"4\": 56, \"14\": 16, \"3\": 44, \"1\": 22, \"5\": 32, \"6\": 23, \"10\": 5, \"8\": 2, \"2\": 26, \"13\": 11, \"15\": 2, \"0\": 1}, \"11\": {\"0\": 27, \"9\": 47, \"11\": 160, \"12\": 3, \"10\": 3}, \"13\": {\"13\": 77, \"6\": 57, \"4\": 26, \"14\": 28, \"10\": 7, \"2\": 15, \"5\": 11, \"1\": 2, \"15\": 4, \"7\": 4, \"0\": 1, \"3\": 8}, \"9\": {\"9\": 151, \"12\": 20, \"11\": 55, \"0\": 11, \"8\": 3}, \"3\": {\"14\": 26, \"3\": 82, \"13\": 3, \"8\": 19, \"6\": 6, \"4\": 28, \"5\": 14, \"0\": 21, \"2\": 26, \"10\": 11, \"1\": 4}, \"6\": {\"2\": 32, \"13\": 57, \"4\": 19, \"14\": 28, \"15\": 4, \"6\": 76, \"3\": 6, \"10\": 4, \"5\": 9, \"1\": 5}, \"1\": {\"1\": 114, \"5\": 49, \"7\": 16, \"2\": 15, \"4\": 23, \"3\": 13, \"15\": 8, \"14\": 2}, \"5\": {\"3\": 16, \"1\": 58, \"5\": 46, \"2\": 42, \"4\": 32, \"7\": 22, \"6\": 11, \"14\": 6, \"15\": 1, \"13\": 5, \"10\": 1}, \"12\": {\"12\": 195, \"9\": 44, \"11\": 1}, \"10\": {\"10\": 146, \"11\": 6, \"0\": 55, \"13\": 6, \"3\": 9, \"8\": 2, \"4\": 7, \"14\": 5, \"2\": 2, \"9\": 2}, \"8\": {\"8\": 186, \"10\": 8, \"0\": 15, \"4\": 3, \"3\": 24, \"11\": 1, \"9\": 1, \"14\": 1, \"1\": 1}, \"7\": {\"7\": 144, \"13\": 1, \"15\": 54, \"2\": 2, \"5\": 15, \"1\": 23, \"4\": 1}, \"15\": {\"7\": 57, \"15\": 170, \"2\": 2, \"6\": 4, \"1\": 2, \"5\": 3, \"4\": 1, \"13\": 1}, \"2\": {\"5\": 39, \"6\": 25, \"3\": 18, \"7\": 13, \"2\": 53, \"4\": 24, \"15\": 15, \"14\": 17, \"13\": 15, \"10\": 3, \"1\": 14, \"0\": 3, \"8\": 1}}, \"O_32\": {\"11\": {\"14\": 47, \"7\": 15, \"3\": 34, \"11\": 115, \"5\": 6, \"8\": 5, \"13\": 16, \"4\": 1, \"0\": 1}, \"1\": {\"1\": 206, \"10\": 34}, \"2\": {\"2\": 127, \"4\": 53, \"0\": 21, \"14\": 4, \"5\": 13, \"13\": 9, \"7\": 10, \"8\": 3}, \"0\": {\"7\": 15, \"0\": 97, \"4\": 31, \"5\": 15, \"8\": 33, \"13\": 12, \"14\": 12, \"2\": 22, \"15\": 1, \"11\": 1, \"3\": 1}, \"3\": {\"3\": 131, \"11\": 37, \"7\": 8, \"14\": 12, \"8\": 18, \"13\": 15, \"5\": 13, \"0\": 3, \"15\": 2, \"4\": 1}, \"8\": {\"13\": 24, \"5\": 29, \"8\": 77, \"0\": 42, \"4\": 17, \"15\": 9, \"7\": 12, \"14\": 15, \"3\": 6, \"2\": 3, \"11\": 6}, \"12\": {\"12\": 222, \"9\": 9, \"6\": 9}, \"5\": {\"13\": 44, \"4\": 31, \"7\": 36, \"5\": 48, \"14\": 11, \"2\": 15, \"3\": 11, \"0\": 11, \"8\": 22, \"11\": 11}, \"15\": {\"8\": 19, \"15\": 214, \"0\": 1, \"3\": 2, \"13\": 2, \"11\": 1, \"5\": 1}, \"7\": {\"7\": 52, \"4\": 25, \"14\": 26, \"5\": 37, \"0\": 10, \"13\": 35, \"8\": 12, \"2\": 19, \"11\": 18, \"3\": 6}, \"4\": {\"2\": 77, \"7\": 36, \"0\": 19, \"8\": 7, \"14\": 6, \"4\": 54, \"5\": 19, \"13\": 19, \"11\": 3}, \"14\": {\"14\": 59, \"2\": 2, \"13\": 17, \"5\": 11, \"11\": 79, \"8\": 10, \"7\": 20, \"4\": 6, \"0\": 24, \"3\": 12}, \"10\": {\"10\": 216, \"1\": 17, \"6\": 7}, \"6\": {\"6\": 227, \"10\": 5, \"12\": 8}, \"13\": {\"3\": 28, \"13\": 63, \"7\": 29, \"5\": 39, \"2\": 4, \"14\": 16, \"8\": 23, \"4\": 19, \"0\": 11, \"11\": 8}, \"9\": {\"9\": 223, \"2\": 2, \"12\": 13, \"0\": 2}}, \"O_8\": {\"9\": {\"9\": 229, \"5\": 9, \"10\": 2}, \"11\": {\"5\": 38, \"14\": 23, \"11\": 84, \"13\": 5, \"1\": 50, \"10\": 16, \"8\": 8, \"0\": 3, \"6\": 2, \"4\": 11}, \"8\": {\"8\": 96, \"15\": 30, \"1\": 6, \"14\": 7, \"7\": 21, \"6\": 29, \"0\": 9, \"4\": 14, \"12\": 12, \"2\": 4, \"10\": 3, \"11\": 3, \"13\": 6}, \"4\": {\"4\": 35, \"13\": 42, \"6\": 24, \"0\": 24, \"14\": 26, \"10\": 33, \"7\": 16, \"11\": 5, \"8\": 15, \"5\": 4, \"1\": 15, \"15\": 1}, \"13\": {\"0\": 34, \"7\": 31, \"6\": 19, \"5\": 3, \"4\": 35, \"13\": 48, \"10\": 26, \"15\": 4, \"1\": 8, \"8\": 7, \"14\": 20, \"11\": 4, \"3\": 1}, \"14\": {\"6\": 14, \"1\": 34, \"13\": 34, \"14\": 32, \"10\": 38, \"4\": 32, \"0\": 14, \"8\": 4, \"5\": 16, \"7\": 6, \"11\": 15, \"15\": 1}, \"2\": {\"2\": 98, \"12\": 44, \"3\": 48, \"15\": 31, \"7\": 12, \"8\": 3, \"0\": 1, \"6\": 3}, \"3\": {\"3\": 105, \"2\": 78, \"12\": 41, \"15\": 14, \"7\": 2}, \"1\": {\"5\": 40, \"11\": 49, \"14\": 32, \"0\": 6, \"1\": 68, \"10\": 17, \"8\": 5, \"13\": 9, \"4\": 12, \"6\": 2}, \"0\": {\"13\": 38, \"4\": 32, \"6\": 29, \"0\": 50, \"15\": 4, \"7\": 38, \"12\": 3, \"14\": 17, \"8\": 7, \"10\": 19, \"5\": 1, \"3\": 1, \"1\": 1}, \"5\": {\"5\": 102, \"11\": 34, \"4\": 8, \"1\": 43, \"13\": 7, \"10\": 21, \"14\": 16, \"9\": 3, \"0\": 5, \"6\": 1}, \"15\": {\"12\": 60, \"8\": 28, \"15\": 73, \"3\": 18, \"6\": 13, \"2\": 23, \"7\": 19, \"0\": 3, \"10\": 1, \"13\": 1, \"4\": 1}, \"10\": {\"7\": 6, \"13\": 28, \"8\": 2, \"0\": 15, \"1\": 42, \"5\": 20, \"14\": 32, \"10\": 51, \"4\": 26, \"11\": 11, \"6\": 6, \"9\": 1}, \"12\": {\"2\": 36, \"3\": 50, \"15\": 56, \"12\": 71, \"8\": 15, \"7\": 9, \"6\": 3}, \"6\": {\"13\": 32, \"14\": 13, \"4\": 36, \"15\": 7, \"8\": 27, \"6\": 40, \"1\": 4, \"0\": 27, \"7\": 38, \"2\": 4, \"10\": 8, \"12\": 2, \"3\": 2}, \"7\": {\"7\": 66, \"15\": 28, \"2\": 11, \"4\": 16, \"8\": 19, \"6\": 34, \"0\": 25, \"12\": 6, \"10\": 6, \"13\": 16, \"14\": 9, \"1\": 2, \"3\": 2}}}, \"per_domain_accuracy\": {\"C_5\": {\"accuracy\": 0.9996508379888268, \"source?\": true}, \"C_1\": {\"accuracy\": 0.9996603260869565, \"source?\": true}, \"C_3\": {\"accuracy\": 0.9998161764705882, \"source?\": true}, \"C_4\": {\"accuracy\": 0.9992469879518072, \"source?\": true}, \"C_2\": {\"accuracy\": 1.0, \"source?\": true}, \"O_26\": {\"accuracy\": 0.2716145833333333, \"source?\": false}, \"O_44\": {\"accuracy\": 0.40598958333333335, \"source?\": false}, \"O_50\": {\"accuracy\": 0.45416666666666666, \"source?\": false}, \"O_38\": {\"accuracy\": 0.44973958333333336, \"source?\": false}, \"O_20\": {\"accuracy\": 0.2265625, \"source?\": false}, \"O_14\": {\"accuracy\": 0.4778645833333333, \"source?\": false}, \"O_32\": {\"accuracy\": 0.5549479166666667, \"source?\": false}, \"O_8\": {\"accuracy\": 0.325, \"source?\": false}}}, \"history\": {\"epoch_indices\": [1, 2, 3, 4, 5, 6, 7, 8, 9, 10, 11, 12], \"train_label_loss\": [0.04511496808808661, 0.020090011852653, 0.008572415175719264, 0.006794985343820199, 0.004578909043743331, 0.004521100456240401, 0.003928279324573969, 0.003590066924657491, 0.002307627029772708, 0.002684908527450237, 0.001672454237861546, 0.002222061089059858], \"source_val_label_loss\": [0.013742733746767044, 0.006225830875337124, 0.006856403313577175, 0.004588322248309851, 0.009792749769985676, 0.01092090830206871, 0.006283072289079428, 0.0050090462900698185, 0.005734632723033428, 0.004917045123875141, 0.005085613112896681, 0.005240478552877903], \"target_val_label_loss\": [1.8001948595046997, 1.8348666429519653, 2.086435079574585, 1.7475202083587646, 2.2793076038360596, 2.1375441551208496, 2.1184794902801514, 1.7269924879074097, 2.080678939819336, 1.9670084714889526, 2.5093579292297363, 2.096031665802002], \"source_val_acc_label\": [0.9986071428571428, 0.9988214285714285, 0.9989642857142857, 0.9993928571428572, 0.9978571428571429, 0.999, 0.9989642857142857, 0.9996785714285714, 0.9994642857142857, 0.9995, 0.9995714285714286, 0.9997857142857143], \"target_val_acc_label\": [0.3604817708333333, 0.37213541666666666, 0.33343098958333334, 0.393359375, 0.31943359375, 0.32809244791666664, 0.34059244791666665, 0.39573567708333335, 0.3658528645833333, 0.37005208333333334, 0.31858723958333335, 0.3556315104166667]}, \"dataset_metrics\": {\"source\": {\"train\": {\"n_unique_x\": 175219, \"n_unique_y\": 58, \"n_batch/episode\": 6318}, \"val\": {\"n_unique_x\": 37151, \"n_unique_y\": 58, \"n_batch/episode\": 875}, \"test\": {\"n_unique_x\": 37548, \"n_unique_y\": 58, \"n_batch/episode\": 885}}, \"target\": {\"train\": {\"n_unique_x\": 179200, \"n_unique_y\": 16, \"n_batch/episode\": 6720}, \"val\": {\"n_unique_x\": 38400, \"n_unique_y\": 16, \"n_batch/episode\": 960}, \"test\": {\"n_unique_x\": 38400, \"n_unique_y\": 16, \"n_batch/episode\": 960}}}}'"
      ]
     },
     "execution_count": 29,
     "metadata": {},
     "output_type": "execute_result"
    }
   ],
   "source": [
    "json.dumps(experiment)"
   ]
  }
 ],
 "metadata": {
  "celltoolbar": "Tags",
  "kernelspec": {
   "display_name": "Python 3 (ipykernel)",
   "language": "python",
   "name": "python3"
  },
  "language_info": {
   "codemirror_mode": {
    "name": "ipython",
    "version": 3
   },
   "file_extension": ".py",
   "mimetype": "text/x-python",
   "name": "python",
   "nbconvert_exporter": "python",
   "pygments_lexer": "ipython3",
   "version": "3.8.12"
  },
  "papermill": {
   "default_parameters": {},
   "duration": 2061.647582,
   "end_time": "2022-03-28T14:59:49.378598",
   "environment_variables": {},
   "exception": null,
   "input_path": "/root/csc500-main/csc500-notebooks/templates/tl_ptn_template.ipynb",
   "output_path": "trial.ipynb",
   "parameters": {
    "parameters": {
     "BEST_MODEL_PATH": "./best_model.pth",
     "NUM_LOGS_PER_EPOCH": 10,
     "criteria_for_best": "target_accuracy",
     "dataset_seed": 7,
     "datasets": [
      {
       "domain_prefix": "C_",
       "domains": [
        1,
        2,
        3,
        4,
        5
       ],
       "episode_transforms": [],
       "labels": [
        "1-10.",
        "1-11.",
        "1-15.",
        "1-16.",
        "1-17.",
        "1-18.",
        "1-19.",
        "10-4.",
        "10-7.",
        "11-1.",
        "11-14.",
        "11-17.",
        "11-20.",
        "11-7.",
        "13-20.",
        "13-8.",
        "14-10.",
        "14-11.",
        "14-14.",
        "14-7.",
        "15-1.",
        "15-20.",
        "16-1.",
        "16-16.",
        "17-10.",
        "17-11.",
        "17-2.",
        "19-1.",
        "19-16.",
        "19-19.",
        "19-20.",
        "19-3.",
        "2-10.",
        "2-11.",
        "2-17.",
        "2-18.",
        "2-20.",
        "2-3.",
        "2-4.",
        "2-5.",
        "2-6.",
        "2-7.",
        "2-8.",
        "3-13.",
        "3-18.",
        "3-3.",
        "4-1.",
        "4-10.",
        "4-11.",
        "4-19.",
        "5-5.",
        "6-15.",
        "7-10.",
        "7-14.",
        "8-18.",
        "8-20.",
        "8-3.",
        "8-8."
       ],
       "num_examples_per_domain_per_label": -1,
       "pickle_path": "/root/csc500-main/datasets/cores.stratified_ds.2022A.pkl",
       "source_or_target_dataset": "source",
       "x_transforms": [
        "unit_mag",
        "jitter_256_5",
        "lowpass_+/-10MHz",
        "take_200"
       ]
      },
      {
       "domain_prefix": "O_",
       "domains": [
        32,
        38,
        8,
        44,
        14,
        50,
        20,
        26
       ],
       "episode_transforms": [],
       "labels": [
        "3123D52",
        "3123D65",
        "3123D79",
        "3123D80",
        "3123D54",
        "3123D70",
        "3123D7B",
        "3123D89",
        "3123D58",
        "3123D76",
        "3123D7D",
        "3123EFE",
        "3123D64",
        "3123D78",
        "3123D7E",
        "3124E4A"
       ],
       "num_examples_per_domain_per_label": 2000,
       "pickle_path": "/root/csc500-main/datasets/oracle.Run1_framed_2000Examples_stratified_ds.2022A.pkl",
       "source_or_target_dataset": "target",
       "x_transforms": [
        "unit_mag",
        "jitter_256_5",
        "take_200",
        "resample_20Msps_to_25Msps"
       ]
      }
     ],
     "device": "cuda",
     "experiment_name": "tl_3-jitter5v2:cores -> oracle.run1.framed",
     "lr": 0.0001,
     "n_epoch": 50,
     "n_query": 2,
     "n_shot": 3,
     "n_way": 16,
     "patience": 3,
     "seed": 7,
     "test_k_factor": 2,
     "torch_default_dtype": "torch.float32",
     "train_k_factor": 3,
     "val_k_factor": 2,
     "x_net": [
      {
       "class": "nnReshape",
       "kargs": {
        "shape": [
         -1,
         1,
         2,
         256
        ]
       }
      },
      {
       "class": "Conv2d",
       "kargs": {
        "bias": false,
        "in_channels": 1,
        "kernel_size": [
         1,
         7
        ],
        "out_channels": 256,
        "padding": [
         0,
         3
        ]
       }
      },
      {
       "class": "ReLU",
       "kargs": {
        "inplace": true
       }
      },
      {
       "class": "BatchNorm2d",
       "kargs": {
        "num_features": 256
       }
      },
      {
       "class": "Conv2d",
       "kargs": {
        "bias": true,
        "in_channels": 256,
        "kernel_size": [
         2,
         7
        ],
        "out_channels": 80,
        "padding": [
         0,
         3
        ]
       }
      },
      {
       "class": "ReLU",
       "kargs": {
        "inplace": true
       }
      },
      {
       "class": "BatchNorm2d",
       "kargs": {
        "num_features": 80
       }
      },
      {
       "class": "Flatten",
       "kargs": {}
      },
      {
       "class": "Linear",
       "kargs": {
        "in_features": 20480,
        "out_features": 256
       }
      },
      {
       "class": "ReLU",
       "kargs": {
        "inplace": true
       }
      },
      {
       "class": "BatchNorm1d",
       "kargs": {
        "num_features": 256
       }
      },
      {
       "class": "Linear",
       "kargs": {
        "in_features": 256,
        "out_features": 256
       }
      }
     ],
     "x_shape": [
      2,
      256
     ]
    }
   },
   "start_time": "2022-03-28T14:25:27.731016",
   "version": "2.3.4"
  }
 },
 "nbformat": 4,
 "nbformat_minor": 5
}