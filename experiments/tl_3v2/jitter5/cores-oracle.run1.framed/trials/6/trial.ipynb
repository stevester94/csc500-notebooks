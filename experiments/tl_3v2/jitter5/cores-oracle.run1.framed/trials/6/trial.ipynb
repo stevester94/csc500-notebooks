{
 "cells": [
  {
   "cell_type": "markdown",
   "id": "9fea5f46",
   "metadata": {
    "papermill": {
     "duration": 0.027512,
     "end_time": "2022-03-28T13:20:20.038274",
     "exception": false,
     "start_time": "2022-03-28T13:20:20.010762",
     "status": "completed"
    },
    "tags": []
   },
   "source": [
    "# Transfer Learning Template"
   ]
  },
  {
   "cell_type": "code",
   "execution_count": 1,
   "id": "0902182a",
   "metadata": {
    "execution": {
     "iopub.execute_input": "2022-03-28T13:20:20.101393Z",
     "iopub.status.busy": "2022-03-28T13:20:20.100055Z",
     "iopub.status.idle": "2022-03-28T13:20:21.928233Z",
     "shell.execute_reply": "2022-03-28T13:20:21.928924Z"
    },
    "papermill": {
     "duration": 1.867125,
     "end_time": "2022-03-28T13:20:21.929259",
     "exception": false,
     "start_time": "2022-03-28T13:20:20.062134",
     "status": "completed"
    },
    "tags": []
   },
   "outputs": [],
   "source": [
    "%load_ext autoreload\n",
    "%autoreload 2\n",
    "%matplotlib inline\n",
    "\n",
    "    \n",
    "import os, json, sys, time, random\n",
    "import numpy as np\n",
    "import torch\n",
    "from torch.optim import Adam\n",
    "from  easydict import EasyDict\n",
    "import matplotlib.pyplot as plt\n",
    "\n",
    "from steves_models.steves_ptn import Steves_Prototypical_Network\n",
    "\n",
    "from steves_utils.lazy_iterable_wrapper import Lazy_Iterable_Wrapper\n",
    "from steves_utils.iterable_aggregator import Iterable_Aggregator\n",
    "from steves_utils.ptn_train_eval_test_jig import  PTN_Train_Eval_Test_Jig\n",
    "from steves_utils.torch_sequential_builder import build_sequential\n",
    "from steves_utils.torch_utils import get_dataset_metrics, ptn_confusion_by_domain_over_dataloader\n",
    "from steves_utils.utils_v2 import (per_domain_accuracy_from_confusion, get_datasets_base_path)\n",
    "from steves_utils.PTN.utils import independent_accuracy_assesment\n",
    "\n",
    "from torch.utils.data import DataLoader\n",
    "\n",
    "from steves_utils.stratified_dataset.episodic_accessor import Episodic_Accessor_Factory\n",
    "\n",
    "from steves_utils.ptn_do_report import (\n",
    "    get_loss_curve,\n",
    "    get_results_table,\n",
    "    get_parameters_table,\n",
    "    get_domain_accuracies,\n",
    ")\n",
    "\n",
    "from steves_utils.transforms import get_chained_transform"
   ]
  },
  {
   "cell_type": "markdown",
   "id": "41c840b4",
   "metadata": {
    "papermill": {
     "duration": 0.023338,
     "end_time": "2022-03-28T13:20:21.978635",
     "exception": false,
     "start_time": "2022-03-28T13:20:21.955297",
     "status": "completed"
    },
    "tags": []
   },
   "source": [
    "# Allowed Parameters\n",
    "These are allowed parameters, not defaults\n",
    "Each of these values need to be present in the injected parameters (the notebook will raise an exception if they are not present)\n",
    "\n",
    "Papermill uses the cell tag \"parameters\" to inject the real parameters below this cell.\n",
    "Enable tags to see what I mean"
   ]
  },
  {
   "cell_type": "code",
   "execution_count": 2,
   "id": "fd44eb83",
   "metadata": {
    "execution": {
     "iopub.execute_input": "2022-03-28T13:20:22.023331Z",
     "iopub.status.busy": "2022-03-28T13:20:22.022941Z",
     "iopub.status.idle": "2022-03-28T13:20:22.041425Z",
     "shell.execute_reply": "2022-03-28T13:20:22.042111Z"
    },
    "papermill": {
     "duration": 0.042629,
     "end_time": "2022-03-28T13:20:22.042329",
     "exception": false,
     "start_time": "2022-03-28T13:20:21.999700",
     "status": "completed"
    },
    "tags": []
   },
   "outputs": [],
   "source": [
    "required_parameters = {\n",
    "    \"experiment_name\",\n",
    "    \"lr\",\n",
    "    \"device\",\n",
    "    \"seed\",\n",
    "    \"dataset_seed\",\n",
    "    \"n_shot\",\n",
    "    \"n_query\",\n",
    "    \"n_way\",\n",
    "    \"train_k_factor\",\n",
    "    \"val_k_factor\",\n",
    "    \"test_k_factor\",\n",
    "    \"n_epoch\",\n",
    "    \"patience\",\n",
    "    \"criteria_for_best\",\n",
    "    \"x_net\",\n",
    "    \"datasets\",\n",
    "    \"torch_default_dtype\",\n",
    "    \"NUM_LOGS_PER_EPOCH\",\n",
    "    \"BEST_MODEL_PATH\",\n",
    "    \"x_shape\",\n",
    "}"
   ]
  },
  {
   "cell_type": "code",
   "execution_count": 3,
   "id": "fa3f0049",
   "metadata": {
    "execution": {
     "iopub.execute_input": "2022-03-28T13:20:22.097869Z",
     "iopub.status.busy": "2022-03-28T13:20:22.097424Z",
     "iopub.status.idle": "2022-03-28T13:20:22.118041Z",
     "shell.execute_reply": "2022-03-28T13:20:22.118740Z"
    },
    "papermill": {
     "duration": 0.050597,
     "end_time": "2022-03-28T13:20:22.118961",
     "exception": false,
     "start_time": "2022-03-28T13:20:22.068364",
     "status": "completed"
    },
    "tags": [
     "parameters"
    ]
   },
   "outputs": [],
   "source": [
    "from steves_utils.CORES.utils import (\n",
    "    ALL_NODES,\n",
    "    ALL_NODES_MINIMUM_1000_EXAMPLES,\n",
    "    ALL_DAYS\n",
    ")\n",
    "\n",
    "from steves_utils.ORACLE.utils_v2 import (\n",
    "    ALL_DISTANCES_FEET_NARROWED,\n",
    "    ALL_RUNS,\n",
    "    ALL_SERIAL_NUMBERS,\n",
    ")\n",
    "\n",
    "standalone_parameters = {}\n",
    "standalone_parameters[\"experiment_name\"] = \"STANDALONE PTN\"\n",
    "standalone_parameters[\"lr\"] = 0.001\n",
    "standalone_parameters[\"device\"] = \"cuda\"\n",
    "\n",
    "standalone_parameters[\"seed\"] = 1337\n",
    "standalone_parameters[\"dataset_seed\"] = 1337\n",
    "\n",
    "standalone_parameters[\"n_way\"] = 8\n",
    "standalone_parameters[\"n_shot\"] = 3\n",
    "standalone_parameters[\"n_query\"]  = 2\n",
    "standalone_parameters[\"train_k_factor\"] = 1\n",
    "standalone_parameters[\"val_k_factor\"] = 2\n",
    "standalone_parameters[\"test_k_factor\"] = 2\n",
    "\n",
    "\n",
    "standalone_parameters[\"n_epoch\"] = 50\n",
    "\n",
    "standalone_parameters[\"patience\"] = 10\n",
    "standalone_parameters[\"criteria_for_best\"] = \"source_loss\"\n",
    "\n",
    "standalone_parameters[\"datasets\"] = [\n",
    "    {\n",
    "        \"labels\": ALL_SERIAL_NUMBERS,\n",
    "        \"domains\": ALL_DISTANCES_FEET_NARROWED,\n",
    "        \"num_examples_per_domain_per_label\": 100,\n",
    "        \"pickle_path\": os.path.join(get_datasets_base_path(), \"oracle.Run1_framed_2000Examples_stratified_ds.2022A.pkl\"),\n",
    "        \"source_or_target_dataset\": \"source\",\n",
    "        \"x_transforms\": [\"unit_mag\", \"minus_two\"],\n",
    "        \"episode_transforms\": [],\n",
    "        \"domain_prefix\": \"ORACLE_\"\n",
    "    },\n",
    "    {\n",
    "        \"labels\": ALL_NODES,\n",
    "        \"domains\": ALL_DAYS,\n",
    "        \"num_examples_per_domain_per_label\": 100,\n",
    "        \"pickle_path\": os.path.join(get_datasets_base_path(), \"cores.stratified_ds.2022A.pkl\"),\n",
    "        \"source_or_target_dataset\": \"target\",\n",
    "        \"x_transforms\": [\"unit_power\", \"times_zero\"],\n",
    "        \"episode_transforms\": [],\n",
    "        \"domain_prefix\": \"CORES_\"\n",
    "    }   \n",
    "]\n",
    "\n",
    "standalone_parameters[\"torch_default_dtype\"] = \"torch.float32\" \n",
    "\n",
    "\n",
    "\n",
    "standalone_parameters[\"x_net\"] =     [\n",
    "    {\"class\": \"nnReshape\", \"kargs\": {\"shape\":[-1, 1, 2, 256]}},\n",
    "    {\"class\": \"Conv2d\", \"kargs\": { \"in_channels\":1, \"out_channels\":256, \"kernel_size\":(1,7), \"bias\":False, \"padding\":(0,3), },},\n",
    "    {\"class\": \"ReLU\", \"kargs\": {\"inplace\": True}},\n",
    "    {\"class\": \"BatchNorm2d\", \"kargs\": {\"num_features\":256}},\n",
    "\n",
    "    {\"class\": \"Conv2d\", \"kargs\": { \"in_channels\":256, \"out_channels\":80, \"kernel_size\":(2,7), \"bias\":True, \"padding\":(0,3), },},\n",
    "    {\"class\": \"ReLU\", \"kargs\": {\"inplace\": True}},\n",
    "    {\"class\": \"BatchNorm2d\", \"kargs\": {\"num_features\":80}},\n",
    "    {\"class\": \"Flatten\", \"kargs\": {}},\n",
    "\n",
    "    {\"class\": \"Linear\", \"kargs\": {\"in_features\": 80*256, \"out_features\": 256}}, # 80 units per IQ pair\n",
    "    {\"class\": \"ReLU\", \"kargs\": {\"inplace\": True}},\n",
    "    {\"class\": \"BatchNorm1d\", \"kargs\": {\"num_features\":256}},\n",
    "\n",
    "    {\"class\": \"Linear\", \"kargs\": {\"in_features\": 256, \"out_features\": 256}},\n",
    "]\n",
    "\n",
    "# Parameters relevant to results\n",
    "# These parameters will basically never need to change\n",
    "standalone_parameters[\"NUM_LOGS_PER_EPOCH\"] = 10\n",
    "standalone_parameters[\"BEST_MODEL_PATH\"] = \"./best_model.pth\"\n",
    "\n",
    "\n",
    "\n",
    "\n"
   ]
  },
  {
   "cell_type": "code",
   "execution_count": 4,
   "id": "43114a80",
   "metadata": {
    "execution": {
     "iopub.execute_input": "2022-03-28T13:20:22.174592Z",
     "iopub.status.busy": "2022-03-28T13:20:22.173908Z",
     "iopub.status.idle": "2022-03-28T13:20:22.193956Z",
     "shell.execute_reply": "2022-03-28T13:20:22.194671Z"
    },
    "papermill": {
     "duration": 0.050171,
     "end_time": "2022-03-28T13:20:22.194888",
     "exception": false,
     "start_time": "2022-03-28T13:20:22.144717",
     "status": "completed"
    },
    "tags": [
     "injected-parameters"
    ]
   },
   "outputs": [],
   "source": [
    "# Parameters\n",
    "parameters = {\n",
    "    \"experiment_name\": \"tl_3-jitter5v2:cores -> oracle.run1.framed\",\n",
    "    \"device\": \"cuda\",\n",
    "    \"lr\": 0.0001,\n",
    "    \"x_shape\": [2, 256],\n",
    "    \"n_shot\": 3,\n",
    "    \"n_query\": 2,\n",
    "    \"train_k_factor\": 3,\n",
    "    \"val_k_factor\": 2,\n",
    "    \"test_k_factor\": 2,\n",
    "    \"torch_default_dtype\": \"torch.float32\",\n",
    "    \"n_epoch\": 50,\n",
    "    \"patience\": 3,\n",
    "    \"criteria_for_best\": \"target_accuracy\",\n",
    "    \"x_net\": [\n",
    "        {\"class\": \"nnReshape\", \"kargs\": {\"shape\": [-1, 1, 2, 256]}},\n",
    "        {\n",
    "            \"class\": \"Conv2d\",\n",
    "            \"kargs\": {\n",
    "                \"in_channels\": 1,\n",
    "                \"out_channels\": 256,\n",
    "                \"kernel_size\": [1, 7],\n",
    "                \"bias\": False,\n",
    "                \"padding\": [0, 3],\n",
    "            },\n",
    "        },\n",
    "        {\"class\": \"ReLU\", \"kargs\": {\"inplace\": True}},\n",
    "        {\"class\": \"BatchNorm2d\", \"kargs\": {\"num_features\": 256}},\n",
    "        {\n",
    "            \"class\": \"Conv2d\",\n",
    "            \"kargs\": {\n",
    "                \"in_channels\": 256,\n",
    "                \"out_channels\": 80,\n",
    "                \"kernel_size\": [2, 7],\n",
    "                \"bias\": True,\n",
    "                \"padding\": [0, 3],\n",
    "            },\n",
    "        },\n",
    "        {\"class\": \"ReLU\", \"kargs\": {\"inplace\": True}},\n",
    "        {\"class\": \"BatchNorm2d\", \"kargs\": {\"num_features\": 80}},\n",
    "        {\"class\": \"Flatten\", \"kargs\": {}},\n",
    "        {\"class\": \"Linear\", \"kargs\": {\"in_features\": 20480, \"out_features\": 256}},\n",
    "        {\"class\": \"ReLU\", \"kargs\": {\"inplace\": True}},\n",
    "        {\"class\": \"BatchNorm1d\", \"kargs\": {\"num_features\": 256}},\n",
    "        {\"class\": \"Linear\", \"kargs\": {\"in_features\": 256, \"out_features\": 256}},\n",
    "    ],\n",
    "    \"NUM_LOGS_PER_EPOCH\": 10,\n",
    "    \"BEST_MODEL_PATH\": \"./best_model.pth\",\n",
    "    \"n_way\": 16,\n",
    "    \"datasets\": [\n",
    "        {\n",
    "            \"labels\": [\n",
    "                \"1-10.\",\n",
    "                \"1-11.\",\n",
    "                \"1-15.\",\n",
    "                \"1-16.\",\n",
    "                \"1-17.\",\n",
    "                \"1-18.\",\n",
    "                \"1-19.\",\n",
    "                \"10-4.\",\n",
    "                \"10-7.\",\n",
    "                \"11-1.\",\n",
    "                \"11-14.\",\n",
    "                \"11-17.\",\n",
    "                \"11-20.\",\n",
    "                \"11-7.\",\n",
    "                \"13-20.\",\n",
    "                \"13-8.\",\n",
    "                \"14-10.\",\n",
    "                \"14-11.\",\n",
    "                \"14-14.\",\n",
    "                \"14-7.\",\n",
    "                \"15-1.\",\n",
    "                \"15-20.\",\n",
    "                \"16-1.\",\n",
    "                \"16-16.\",\n",
    "                \"17-10.\",\n",
    "                \"17-11.\",\n",
    "                \"17-2.\",\n",
    "                \"19-1.\",\n",
    "                \"19-16.\",\n",
    "                \"19-19.\",\n",
    "                \"19-20.\",\n",
    "                \"19-3.\",\n",
    "                \"2-10.\",\n",
    "                \"2-11.\",\n",
    "                \"2-17.\",\n",
    "                \"2-18.\",\n",
    "                \"2-20.\",\n",
    "                \"2-3.\",\n",
    "                \"2-4.\",\n",
    "                \"2-5.\",\n",
    "                \"2-6.\",\n",
    "                \"2-7.\",\n",
    "                \"2-8.\",\n",
    "                \"3-13.\",\n",
    "                \"3-18.\",\n",
    "                \"3-3.\",\n",
    "                \"4-1.\",\n",
    "                \"4-10.\",\n",
    "                \"4-11.\",\n",
    "                \"4-19.\",\n",
    "                \"5-5.\",\n",
    "                \"6-15.\",\n",
    "                \"7-10.\",\n",
    "                \"7-14.\",\n",
    "                \"8-18.\",\n",
    "                \"8-20.\",\n",
    "                \"8-3.\",\n",
    "                \"8-8.\",\n",
    "            ],\n",
    "            \"domains\": [1, 2, 3, 4, 5],\n",
    "            \"num_examples_per_domain_per_label\": -1,\n",
    "            \"pickle_path\": \"/root/csc500-main/datasets/cores.stratified_ds.2022A.pkl\",\n",
    "            \"source_or_target_dataset\": \"source\",\n",
    "            \"x_transforms\": [\n",
    "                \"unit_power\",\n",
    "                \"jitter_256_5\",\n",
    "                \"lowpass_+/-10MHz\",\n",
    "                \"take_200\",\n",
    "            ],\n",
    "            \"episode_transforms\": [],\n",
    "            \"domain_prefix\": \"C_\",\n",
    "        },\n",
    "        {\n",
    "            \"labels\": [\n",
    "                \"3123D52\",\n",
    "                \"3123D65\",\n",
    "                \"3123D79\",\n",
    "                \"3123D80\",\n",
    "                \"3123D54\",\n",
    "                \"3123D70\",\n",
    "                \"3123D7B\",\n",
    "                \"3123D89\",\n",
    "                \"3123D58\",\n",
    "                \"3123D76\",\n",
    "                \"3123D7D\",\n",
    "                \"3123EFE\",\n",
    "                \"3123D64\",\n",
    "                \"3123D78\",\n",
    "                \"3123D7E\",\n",
    "                \"3124E4A\",\n",
    "            ],\n",
    "            \"domains\": [32, 38, 8, 44, 14, 50, 20, 26],\n",
    "            \"num_examples_per_domain_per_label\": 2000,\n",
    "            \"pickle_path\": \"/root/csc500-main/datasets/oracle.Run1_framed_2000Examples_stratified_ds.2022A.pkl\",\n",
    "            \"source_or_target_dataset\": \"target\",\n",
    "            \"x_transforms\": [\n",
    "                \"unit_power\",\n",
    "                \"jitter_256_5\",\n",
    "                \"take_200\",\n",
    "                \"resample_20Msps_to_25Msps\",\n",
    "            ],\n",
    "            \"episode_transforms\": [],\n",
    "            \"domain_prefix\": \"O_\",\n",
    "        },\n",
    "    ],\n",
    "    \"seed\": 154325,\n",
    "    \"dataset_seed\": 154325,\n",
    "}\n"
   ]
  },
  {
   "cell_type": "code",
   "execution_count": 5,
   "id": "8fa1cc33",
   "metadata": {
    "execution": {
     "iopub.execute_input": "2022-03-28T13:20:22.247781Z",
     "iopub.status.busy": "2022-03-28T13:20:22.247381Z",
     "iopub.status.idle": "2022-03-28T13:20:22.266561Z",
     "shell.execute_reply": "2022-03-28T13:20:22.267267Z"
    },
    "papermill": {
     "duration": 0.044476,
     "end_time": "2022-03-28T13:20:22.267503",
     "exception": false,
     "start_time": "2022-03-28T13:20:22.223027",
     "status": "completed"
    },
    "tags": []
   },
   "outputs": [],
   "source": [
    "# Set this to True if you want to run this template directly\n",
    "STANDALONE = False\n",
    "if STANDALONE:\n",
    "    print(\"parameters not injected, running with standalone_parameters\")\n",
    "    parameters = standalone_parameters\n",
    "\n",
    "if not 'parameters' in locals() and not 'parameters' in globals():\n",
    "    raise Exception(\"Parameter injection failed\")\n",
    "\n",
    "#Use an easy dict for all the parameters\n",
    "p = EasyDict(parameters)\n",
    "\n",
    "if \"x_shape\" not in p:\n",
    "    p.x_shape = [2,256] # Default to this if we dont supply x_shape\n",
    "\n",
    "\n",
    "supplied_keys = set(p.keys())\n",
    "\n",
    "if  supplied_keys != required_parameters:\n",
    "    print(\"Parameters are incorrect\")\n",
    "    if len(supplied_keys - required_parameters)>0: print(\"Shouldn't have:\", str(supplied_keys - required_parameters))\n",
    "    if len(required_parameters - supplied_keys)>0: print(\"Need to have:\", str(required_parameters - supplied_keys))\n",
    "    raise RuntimeError(\"Parameters are incorrect\")"
   ]
  },
  {
   "cell_type": "code",
   "execution_count": 6,
   "id": "3a028d58",
   "metadata": {
    "execution": {
     "iopub.execute_input": "2022-03-28T13:20:22.322830Z",
     "iopub.status.busy": "2022-03-28T13:20:22.322438Z",
     "iopub.status.idle": "2022-03-28T13:20:22.340580Z",
     "shell.execute_reply": "2022-03-28T13:20:22.341251Z"
    },
    "papermill": {
     "duration": 0.042939,
     "end_time": "2022-03-28T13:20:22.341476",
     "exception": false,
     "start_time": "2022-03-28T13:20:22.298537",
     "status": "completed"
    },
    "tags": []
   },
   "outputs": [],
   "source": [
    "###################################\n",
    "# Set the RNGs and make it all deterministic\n",
    "###################################\n",
    "np.random.seed(p.seed)\n",
    "random.seed(p.seed)\n",
    "torch.manual_seed(p.seed)\n",
    "\n",
    "torch.use_deterministic_algorithms(True) "
   ]
  },
  {
   "cell_type": "code",
   "execution_count": 7,
   "id": "b691acf6",
   "metadata": {
    "execution": {
     "iopub.execute_input": "2022-03-28T13:20:22.397136Z",
     "iopub.status.busy": "2022-03-28T13:20:22.396748Z",
     "iopub.status.idle": "2022-03-28T13:20:22.414170Z",
     "shell.execute_reply": "2022-03-28T13:20:22.414839Z"
    },
    "papermill": {
     "duration": 0.04293,
     "end_time": "2022-03-28T13:20:22.415062",
     "exception": false,
     "start_time": "2022-03-28T13:20:22.372132",
     "status": "completed"
    },
    "tags": []
   },
   "outputs": [],
   "source": [
    "###########################################\n",
    "# The stratified datasets honor this\n",
    "###########################################\n",
    "torch.set_default_dtype(eval(p.torch_default_dtype))"
   ]
  },
  {
   "cell_type": "code",
   "execution_count": 8,
   "id": "b5fba671",
   "metadata": {
    "execution": {
     "iopub.execute_input": "2022-03-28T13:20:22.467781Z",
     "iopub.status.busy": "2022-03-28T13:20:22.467283Z",
     "iopub.status.idle": "2022-03-28T13:20:22.518324Z",
     "shell.execute_reply": "2022-03-28T13:20:22.519005Z"
    },
    "papermill": {
     "duration": 0.075556,
     "end_time": "2022-03-28T13:20:22.519239",
     "exception": false,
     "start_time": "2022-03-28T13:20:22.443683",
     "status": "completed"
    },
    "tags": []
   },
   "outputs": [],
   "source": [
    "###################################\n",
    "# Build the network(s)\n",
    "# Note: It's critical to do this AFTER setting the RNG\n",
    "###################################\n",
    "x_net = build_sequential(p.x_net)"
   ]
  },
  {
   "cell_type": "code",
   "execution_count": 9,
   "id": "5d7e61cc",
   "metadata": {
    "execution": {
     "iopub.execute_input": "2022-03-28T13:20:22.570193Z",
     "iopub.status.busy": "2022-03-28T13:20:22.569607Z",
     "iopub.status.idle": "2022-03-28T13:20:22.590110Z",
     "shell.execute_reply": "2022-03-28T13:20:22.591060Z"
    },
    "papermill": {
     "duration": 0.045377,
     "end_time": "2022-03-28T13:20:22.591361",
     "exception": false,
     "start_time": "2022-03-28T13:20:22.545984",
     "status": "completed"
    },
    "tags": []
   },
   "outputs": [],
   "source": [
    "start_time_secs = time.time()"
   ]
  },
  {
   "cell_type": "code",
   "execution_count": 10,
   "id": "c6b67dfd",
   "metadata": {
    "execution": {
     "iopub.execute_input": "2022-03-28T13:20:22.643011Z",
     "iopub.status.busy": "2022-03-28T13:20:22.642618Z",
     "iopub.status.idle": "2022-03-28T13:20:22.660064Z",
     "shell.execute_reply": "2022-03-28T13:20:22.660711Z"
    },
    "papermill": {
     "duration": 0.043206,
     "end_time": "2022-03-28T13:20:22.660925",
     "exception": false,
     "start_time": "2022-03-28T13:20:22.617719",
     "status": "completed"
    },
    "tags": []
   },
   "outputs": [],
   "source": [
    "p.domains_source = []\n",
    "p.domains_target = []\n",
    "\n",
    "\n",
    "train_original_source = []\n",
    "val_original_source   = []\n",
    "test_original_source  = []\n",
    "\n",
    "train_original_target = []\n",
    "val_original_target   = []\n",
    "test_original_target  = []"
   ]
  },
  {
   "cell_type": "code",
   "execution_count": 11,
   "id": "e3d9c3d3",
   "metadata": {
    "execution": {
     "iopub.execute_input": "2022-03-28T13:20:22.725280Z",
     "iopub.status.busy": "2022-03-28T13:20:22.724890Z",
     "iopub.status.idle": "2022-03-28T13:20:22.743452Z",
     "shell.execute_reply": "2022-03-28T13:20:22.742699Z"
    },
    "papermill": {
     "duration": 0.043099,
     "end_time": "2022-03-28T13:20:22.743673",
     "exception": false,
     "start_time": "2022-03-28T13:20:22.700574",
     "status": "completed"
    },
    "tags": []
   },
   "outputs": [],
   "source": [
    "# global_x_transform_func = lambda x: normalize(x.to(torch.get_default_dtype()), \"unit_power\") # unit_power, unit_mag\n",
    "# global_x_transform_func = lambda x: normalize(x, \"unit_power\") # unit_power, unit_mag"
   ]
  },
  {
   "cell_type": "code",
   "execution_count": 12,
   "id": "acb78fd2",
   "metadata": {
    "execution": {
     "iopub.execute_input": "2022-03-28T13:20:22.804215Z",
     "iopub.status.busy": "2022-03-28T13:20:22.803528Z",
     "iopub.status.idle": "2022-03-28T13:20:22.824225Z",
     "shell.execute_reply": "2022-03-28T13:20:22.824893Z"
    },
    "papermill": {
     "duration": 0.053159,
     "end_time": "2022-03-28T13:20:22.825125",
     "exception": false,
     "start_time": "2022-03-28T13:20:22.771966",
     "status": "completed"
    },
    "tags": []
   },
   "outputs": [],
   "source": [
    "def add_dataset(\n",
    "    labels,\n",
    "    domains,\n",
    "    pickle_path,\n",
    "    x_transforms,\n",
    "    episode_transforms,\n",
    "    domain_prefix,\n",
    "    num_examples_per_domain_per_label,\n",
    "    source_or_target_dataset:str,\n",
    "    iterator_seed=p.seed,\n",
    "    dataset_seed=p.dataset_seed,\n",
    "    n_shot=p.n_shot,\n",
    "    n_way=p.n_way,\n",
    "    n_query=p.n_query,\n",
    "    train_val_test_k_factors=(p.train_k_factor,p.val_k_factor,p.test_k_factor),\n",
    "):\n",
    "   \n",
    "    if x_transforms == []: x_transform = None\n",
    "    else: x_transform = get_chained_transform(x_transforms)\n",
    "    \n",
    "    if episode_transforms == []: episode_transform = None\n",
    "    else: raise Exception(\"episode_transforms not implemented\")\n",
    "    \n",
    "    episode_transform = lambda tup, _prefix=domain_prefix: (_prefix + str(tup[0]), tup[1])\n",
    "\n",
    "\n",
    "    eaf = Episodic_Accessor_Factory(\n",
    "        labels=labels,\n",
    "        domains=domains,\n",
    "        num_examples_per_domain_per_label=num_examples_per_domain_per_label,\n",
    "        iterator_seed=iterator_seed,\n",
    "        dataset_seed=dataset_seed,\n",
    "        n_shot=n_shot,\n",
    "        n_way=n_way,\n",
    "        n_query=n_query,\n",
    "        train_val_test_k_factors=train_val_test_k_factors,\n",
    "        pickle_path=pickle_path,\n",
    "        x_transform_func=x_transform,\n",
    "    )\n",
    "\n",
    "    train, val, test = eaf.get_train(), eaf.get_val(), eaf.get_test()\n",
    "    train = Lazy_Iterable_Wrapper(train, episode_transform)\n",
    "    val = Lazy_Iterable_Wrapper(val, episode_transform)\n",
    "    test = Lazy_Iterable_Wrapper(test, episode_transform)\n",
    "\n",
    "    if source_or_target_dataset==\"source\":\n",
    "        train_original_source.append(train)\n",
    "        val_original_source.append(val)\n",
    "        test_original_source.append(test)\n",
    "\n",
    "        p.domains_source.extend(\n",
    "            [domain_prefix + str(u) for u in domains]\n",
    "        )\n",
    "    elif source_or_target_dataset==\"target\":\n",
    "        train_original_target.append(train)\n",
    "        val_original_target.append(val)\n",
    "        test_original_target.append(test)\n",
    "        p.domains_target.extend(\n",
    "            [domain_prefix + str(u) for u in domains]\n",
    "        )\n",
    "    else:\n",
    "        raise Exception(f\"invalid source_or_target_dataset: {source_or_target_dataset}\")\n",
    "    "
   ]
  },
  {
   "cell_type": "code",
   "execution_count": 13,
   "id": "fe266617",
   "metadata": {
    "execution": {
     "iopub.execute_input": "2022-03-28T13:20:22.875995Z",
     "iopub.status.busy": "2022-03-28T13:20:22.875604Z",
     "iopub.status.idle": "2022-03-28T13:22:12.640799Z",
     "shell.execute_reply": "2022-03-28T13:22:12.640056Z"
    },
    "papermill": {
     "duration": 109.790139,
     "end_time": "2022-03-28T13:22:12.640989",
     "exception": false,
     "start_time": "2022-03-28T13:20:22.850850",
     "status": "completed"
    },
    "tags": []
   },
   "outputs": [],
   "source": [
    "for ds in p.datasets:\n",
    "    add_dataset(**ds)"
   ]
  },
  {
   "cell_type": "code",
   "execution_count": 14,
   "id": "b90d65ac",
   "metadata": {
    "execution": {
     "iopub.execute_input": "2022-03-28T13:22:12.691118Z",
     "iopub.status.busy": "2022-03-28T13:22:12.690232Z",
     "iopub.status.idle": "2022-03-28T13:22:12.716740Z",
     "shell.execute_reply": "2022-03-28T13:22:12.715913Z"
    },
    "papermill": {
     "duration": 0.050199,
     "end_time": "2022-03-28T13:22:12.716899",
     "exception": false,
     "start_time": "2022-03-28T13:22:12.666700",
     "status": "completed"
    },
    "tags": []
   },
   "outputs": [],
   "source": [
    "# from steves_utils.CORES.utils import (\n",
    "#     ALL_NODES,\n",
    "#     ALL_NODES_MINIMUM_1000_EXAMPLES,\n",
    "#     ALL_DAYS\n",
    "# )\n",
    "\n",
    "# add_dataset(\n",
    "#     labels=ALL_NODES,\n",
    "#     domains = ALL_DAYS,\n",
    "#     num_examples_per_domain_per_label=100,\n",
    "#     pickle_path=os.path.join(get_datasets_base_path(), \"cores.stratified_ds.2022A.pkl\"),\n",
    "#     source_or_target_dataset=\"target\",\n",
    "#     x_transform_func=global_x_transform_func,\n",
    "#     domain_modifier=lambda u: f\"cores_{u}\"\n",
    "# )"
   ]
  },
  {
   "cell_type": "code",
   "execution_count": 15,
   "id": "76db484d",
   "metadata": {
    "execution": {
     "iopub.execute_input": "2022-03-28T13:22:12.770524Z",
     "iopub.status.busy": "2022-03-28T13:22:12.769300Z",
     "iopub.status.idle": "2022-03-28T13:22:12.790448Z",
     "shell.execute_reply": "2022-03-28T13:22:12.791128Z"
    },
    "papermill": {
     "duration": 0.046766,
     "end_time": "2022-03-28T13:22:12.791308",
     "exception": false,
     "start_time": "2022-03-28T13:22:12.744542",
     "status": "completed"
    },
    "tags": []
   },
   "outputs": [],
   "source": [
    "# from steves_utils.ORACLE.utils_v2 import (\n",
    "#     ALL_DISTANCES_FEET,\n",
    "#     ALL_RUNS,\n",
    "#     ALL_SERIAL_NUMBERS,\n",
    "# )\n",
    "\n",
    "\n",
    "# add_dataset(\n",
    "#     labels=ALL_SERIAL_NUMBERS,\n",
    "#     domains = list(set(ALL_DISTANCES_FEET) - {2,62}),\n",
    "#     num_examples_per_domain_per_label=100,\n",
    "#     pickle_path=os.path.join(get_datasets_base_path(), \"oracle.Run2_framed_2000Examples_stratified_ds.2022A.pkl\"),\n",
    "#     source_or_target_dataset=\"source\",\n",
    "#     x_transform_func=global_x_transform_func,\n",
    "#     domain_modifier=lambda u: f\"oracle1_{u}\"\n",
    "# )\n"
   ]
  },
  {
   "cell_type": "code",
   "execution_count": 16,
   "id": "97dea9d2",
   "metadata": {
    "execution": {
     "iopub.execute_input": "2022-03-28T13:22:12.844096Z",
     "iopub.status.busy": "2022-03-28T13:22:12.843723Z",
     "iopub.status.idle": "2022-03-28T13:22:12.860859Z",
     "shell.execute_reply": "2022-03-28T13:22:12.860050Z"
    },
    "papermill": {
     "duration": 0.040832,
     "end_time": "2022-03-28T13:22:12.861014",
     "exception": false,
     "start_time": "2022-03-28T13:22:12.820182",
     "status": "completed"
    },
    "tags": []
   },
   "outputs": [],
   "source": [
    "# from steves_utils.ORACLE.utils_v2 import (\n",
    "#     ALL_DISTANCES_FEET,\n",
    "#     ALL_RUNS,\n",
    "#     ALL_SERIAL_NUMBERS,\n",
    "# )\n",
    "\n",
    "\n",
    "# add_dataset(\n",
    "#     labels=ALL_SERIAL_NUMBERS,\n",
    "#     domains = list(set(ALL_DISTANCES_FEET) - {2,62,56}),\n",
    "#     num_examples_per_domain_per_label=100,\n",
    "#     pickle_path=os.path.join(get_datasets_base_path(), \"oracle.Run2_framed_2000Examples_stratified_ds.2022A.pkl\"),\n",
    "#     source_or_target_dataset=\"source\",\n",
    "#     x_transform_func=global_x_transform_func,\n",
    "#     domain_modifier=lambda u: f\"oracle2_{u}\"\n",
    "# )"
   ]
  },
  {
   "cell_type": "code",
   "execution_count": 17,
   "id": "6f289866",
   "metadata": {
    "execution": {
     "iopub.execute_input": "2022-03-28T13:22:12.911785Z",
     "iopub.status.busy": "2022-03-28T13:22:12.909232Z",
     "iopub.status.idle": "2022-03-28T13:22:12.929470Z",
     "shell.execute_reply": "2022-03-28T13:22:12.928659Z"
    },
    "papermill": {
     "duration": 0.043417,
     "end_time": "2022-03-28T13:22:12.929624",
     "exception": false,
     "start_time": "2022-03-28T13:22:12.886207",
     "status": "completed"
    },
    "tags": []
   },
   "outputs": [],
   "source": [
    "# add_dataset(\n",
    "#     labels=list(range(19)),\n",
    "#     domains = [0,1,2],\n",
    "#     num_examples_per_domain_per_label=100,\n",
    "#     pickle_path=os.path.join(get_datasets_base_path(), \"metehan.stratified_ds.2022A.pkl\"),\n",
    "#     source_or_target_dataset=\"target\",\n",
    "#     x_transform_func=global_x_transform_func,\n",
    "#     domain_modifier=lambda u: f\"met_{u}\"\n",
    "# )"
   ]
  },
  {
   "cell_type": "code",
   "execution_count": 18,
   "id": "86a863c3",
   "metadata": {
    "execution": {
     "iopub.execute_input": "2022-03-28T13:22:12.982148Z",
     "iopub.status.busy": "2022-03-28T13:22:12.981774Z",
     "iopub.status.idle": "2022-03-28T13:22:13.014721Z",
     "shell.execute_reply": "2022-03-28T13:22:13.014009Z"
    },
    "papermill": {
     "duration": 0.057692,
     "end_time": "2022-03-28T13:22:13.014879",
     "exception": false,
     "start_time": "2022-03-28T13:22:12.957187",
     "status": "completed"
    },
    "tags": []
   },
   "outputs": [],
   "source": [
    "# # from steves_utils.wisig.utils import (\n",
    "# #     ALL_NODES_MINIMUM_100_EXAMPLES,\n",
    "# #     ALL_NODES_MINIMUM_500_EXAMPLES,\n",
    "# #     ALL_NODES_MINIMUM_1000_EXAMPLES,\n",
    "# #     ALL_DAYS\n",
    "# # )\n",
    "\n",
    "# import steves_utils.wisig.utils as wisig\n",
    "\n",
    "\n",
    "# add_dataset(\n",
    "#     labels=wisig.ALL_NODES_MINIMUM_100_EXAMPLES,\n",
    "#     domains = wisig.ALL_DAYS,\n",
    "#     num_examples_per_domain_per_label=100,\n",
    "#     pickle_path=os.path.join(get_datasets_base_path(), \"wisig.node3-19.stratified_ds.2022A.pkl\"),\n",
    "#     source_or_target_dataset=\"target\",\n",
    "#     x_transform_func=global_x_transform_func,\n",
    "#     domain_modifier=lambda u: f\"wisig_{u}\"\n",
    "# )"
   ]
  },
  {
   "cell_type": "code",
   "execution_count": 19,
   "id": "fd5442bc",
   "metadata": {
    "execution": {
     "iopub.execute_input": "2022-03-28T13:22:13.071984Z",
     "iopub.status.busy": "2022-03-28T13:22:13.071596Z",
     "iopub.status.idle": "2022-03-28T13:22:13.092619Z",
     "shell.execute_reply": "2022-03-28T13:22:13.091908Z"
    },
    "papermill": {
     "duration": 0.048862,
     "end_time": "2022-03-28T13:22:13.092773",
     "exception": false,
     "start_time": "2022-03-28T13:22:13.043911",
     "status": "completed"
    },
    "tags": []
   },
   "outputs": [],
   "source": [
    "###################################\n",
    "# Build the dataset\n",
    "###################################\n",
    "train_original_source = Iterable_Aggregator(train_original_source, p.seed)\n",
    "val_original_source = Iterable_Aggregator(val_original_source, p.seed)\n",
    "test_original_source = Iterable_Aggregator(test_original_source, p.seed)\n",
    "\n",
    "\n",
    "train_original_target = Iterable_Aggregator(train_original_target, p.seed)\n",
    "val_original_target = Iterable_Aggregator(val_original_target, p.seed)\n",
    "test_original_target = Iterable_Aggregator(test_original_target, p.seed)\n",
    "\n",
    "# For CNN We only use X and Y. And we only train on the source.\n",
    "# Properly form the data using a transform lambda and Lazy_Iterable_Wrapper. Finally wrap them in a dataloader\n",
    "\n",
    "transform_lambda = lambda ex: ex[1] # Original is (<domain>, <episode>) so we strip down to episode only\n",
    "\n",
    "train_processed_source = Lazy_Iterable_Wrapper(train_original_source, transform_lambda)\n",
    "val_processed_source   = Lazy_Iterable_Wrapper(val_original_source, transform_lambda)\n",
    "test_processed_source  = Lazy_Iterable_Wrapper(test_original_source, transform_lambda)\n",
    "\n",
    "train_processed_target = Lazy_Iterable_Wrapper(train_original_target, transform_lambda)\n",
    "val_processed_target   = Lazy_Iterable_Wrapper(val_original_target, transform_lambda)\n",
    "test_processed_target  = Lazy_Iterable_Wrapper(test_original_target, transform_lambda)\n",
    "\n",
    "datasets = EasyDict({\n",
    "    \"source\": {\n",
    "        \"original\": {\"train\":train_original_source, \"val\":val_original_source, \"test\":test_original_source},\n",
    "        \"processed\": {\"train\":train_processed_source, \"val\":val_processed_source, \"test\":test_processed_source}\n",
    "    },\n",
    "    \"target\": {\n",
    "        \"original\": {\"train\":train_original_target, \"val\":val_original_target, \"test\":test_original_target},\n",
    "        \"processed\": {\"train\":train_processed_target, \"val\":val_processed_target, \"test\":test_processed_target}\n",
    "    },\n",
    "})"
   ]
  },
  {
   "cell_type": "code",
   "execution_count": 20,
   "id": "5b3c01fc",
   "metadata": {
    "execution": {
     "iopub.execute_input": "2022-03-28T13:22:13.143774Z",
     "iopub.status.busy": "2022-03-28T13:22:13.143398Z",
     "iopub.status.idle": "2022-03-28T13:22:27.017980Z",
     "shell.execute_reply": "2022-03-28T13:22:27.018676Z"
    },
    "papermill": {
     "duration": 13.900072,
     "end_time": "2022-03-28T13:22:27.018898",
     "exception": false,
     "start_time": "2022-03-28T13:22:13.118826",
     "status": "completed"
    },
    "tags": []
   },
   "outputs": [
    {
     "name": "stdout",
     "output_type": "stream",
     "text": [
      "{'C_4', 'C_5', 'C_1', 'C_2', 'C_3'}\n"
     ]
    },
    {
     "name": "stdout",
     "output_type": "stream",
     "text": [
      "{'O_26', 'O_20', 'O_32', 'O_44', 'O_8', 'O_14', 'O_38', 'O_50'}\n"
     ]
    },
    {
     "name": "stdout",
     "output_type": "stream",
     "text": [
      "tensor([[[0., 0., 0.,  ..., 0., 0., 0.],\n",
      "         [0., 0., 0.,  ..., 0., 0., 0.]],\n",
      "\n",
      "        [[0., 0., 0.,  ..., 0., 0., 0.],\n",
      "         [0., 0., 0.,  ..., 0., 0., 0.]],\n",
      "\n",
      "        [[0., 0., 0.,  ..., 0., 0., 0.],\n",
      "         [0., 0., 0.,  ..., 0., 0., 0.]],\n",
      "\n",
      "        ...,\n",
      "\n",
      "        [[0., 0., 0.,  ..., 0., 0., 0.],\n",
      "         [0., 0., 0.,  ..., 0., 0., 0.]],\n",
      "\n",
      "        [[0., 0., 0.,  ..., 0., 0., 0.],\n",
      "         [0., 0., 0.,  ..., 0., 0., 0.]],\n",
      "\n",
      "        [[0., 0., 0.,  ..., 0., 0., 0.],\n",
      "         [0., 0., 0.,  ..., 0., 0., 0.]]])\n"
     ]
    }
   ],
   "source": [
    "from steves_utils.transforms import get_average_magnitude, get_average_power\n",
    "\n",
    "print(set([u for u,_ in val_original_source]))\n",
    "print(set([u for u,_ in val_original_target]))\n",
    "\n",
    "s_x, s_y, q_x, q_y, _ = next(iter(train_processed_source))\n",
    "print(s_x)\n",
    "\n",
    "# for ds in [\n",
    "#     train_processed_source,\n",
    "#     val_processed_source,\n",
    "#     test_processed_source,\n",
    "#     train_processed_target,\n",
    "#     val_processed_target,\n",
    "#     test_processed_target\n",
    "# ]:\n",
    "#     for s_x, s_y, q_x, q_y, _ in ds:\n",
    "#         for X in (s_x, q_x):\n",
    "#             for x in X:\n",
    "#                 assert np.isclose(get_average_magnitude(x.numpy()), 1.0)\n",
    "#                 assert np.isclose(get_average_power(x.numpy()), 1.0)\n",
    "                "
   ]
  },
  {
   "cell_type": "code",
   "execution_count": 21,
   "id": "bbdacba1",
   "metadata": {
    "execution": {
     "iopub.execute_input": "2022-03-28T13:22:27.071778Z",
     "iopub.status.busy": "2022-03-28T13:22:27.071387Z",
     "iopub.status.idle": "2022-03-28T13:22:27.263992Z",
     "shell.execute_reply": "2022-03-28T13:22:27.264314Z"
    },
    "papermill": {
     "duration": 0.21957,
     "end_time": "2022-03-28T13:22:27.264458",
     "exception": false,
     "start_time": "2022-03-28T13:22:27.044888",
     "status": "completed"
    },
    "tags": []
   },
   "outputs": [
    {
     "name": "stdout",
     "output_type": "stream",
     "text": [
      "(2, 256)\n"
     ]
    }
   ],
   "source": [
    "###################################\n",
    "# Build the model\n",
    "###################################\n",
    "# easfsl only wants a tuple for the shape\n",
    "model = Steves_Prototypical_Network(x_net, device=p.device, x_shape=tuple(p.x_shape))\n",
    "optimizer = Adam(params=model.parameters(), lr=p.lr)"
   ]
  },
  {
   "cell_type": "code",
   "execution_count": 22,
   "id": "22b39ac5",
   "metadata": {
    "execution": {
     "iopub.execute_input": "2022-03-28T13:22:27.316511Z",
     "iopub.status.busy": "2022-03-28T13:22:27.316118Z",
     "iopub.status.idle": "2022-03-28T13:46:37.699410Z",
     "shell.execute_reply": "2022-03-28T13:46:37.699066Z"
    },
    "papermill": {
     "duration": 1450.411615,
     "end_time": "2022-03-28T13:46:37.699496",
     "exception": false,
     "start_time": "2022-03-28T13:22:27.287881",
     "status": "completed"
    },
    "tags": []
   },
   "outputs": [
    {
     "name": "stdout",
     "output_type": "stream",
     "text": [
      "epoch: 1, [batch: 1 / 6297], examples_per_second: 34.2407, train_label_loss: 2.7450, \n"
     ]
    },
    {
     "name": "stdout",
     "output_type": "stream",
     "text": [
      "epoch: 1, [batch: 630 / 6297], examples_per_second: 3902.6217, train_label_loss: 0.1039, \n"
     ]
    },
    {
     "name": "stdout",
     "output_type": "stream",
     "text": [
      "epoch: 1, [batch: 1260 / 6297], examples_per_second: 4251.8873, train_label_loss: 0.0286, \n"
     ]
    },
    {
     "name": "stdout",
     "output_type": "stream",
     "text": [
      "epoch: 1, [batch: 1889 / 6297], examples_per_second: 4740.3272, train_label_loss: 0.0184, \n"
     ]
    },
    {
     "name": "stdout",
     "output_type": "stream",
     "text": [
      "epoch: 1, [batch: 2519 / 6297], examples_per_second: 3878.9385, train_label_loss: 0.0134, \n"
     ]
    },
    {
     "name": "stdout",
     "output_type": "stream",
     "text": [
      "epoch: 1, [batch: 3149 / 6297], examples_per_second: 3992.5944, train_label_loss: 0.0004, \n"
     ]
    },
    {
     "name": "stdout",
     "output_type": "stream",
     "text": [
      "epoch: 1, [batch: 3778 / 6297], examples_per_second: 3935.9008, train_label_loss: 0.0002, \n"
     ]
    },
    {
     "name": "stdout",
     "output_type": "stream",
     "text": [
      "epoch: 1, [batch: 4408 / 6297], examples_per_second: 3812.8780, train_label_loss: 0.0018, \n"
     ]
    },
    {
     "name": "stdout",
     "output_type": "stream",
     "text": [
      "epoch: 1, [batch: 5037 / 6297], examples_per_second: 3809.6845, train_label_loss: 0.0000, \n"
     ]
    },
    {
     "name": "stdout",
     "output_type": "stream",
     "text": [
      "epoch: 1, [batch: 5667 / 6297], examples_per_second: 3796.6097, train_label_loss: 0.0001, \n"
     ]
    },
    {
     "name": "stdout",
     "output_type": "stream",
     "text": [
      "=============================================================\n",
      "epoch: 1, source_val_acc_label: 0.9958, target_val_acc_label: 0.3363, source_val_label_loss: 0.0254, target_val_label_loss: 1.8964, \n",
      "=============================================================\n"
     ]
    },
    {
     "name": "stdout",
     "output_type": "stream",
     "text": [
      "New best\n"
     ]
    },
    {
     "name": "stdout",
     "output_type": "stream",
     "text": [
      "epoch: 2, [batch: 1 / 6333], examples_per_second: 4.1103, train_label_loss: 0.0006, \n"
     ]
    },
    {
     "name": "stdout",
     "output_type": "stream",
     "text": [
      "epoch: 2, [batch: 634 / 6333], examples_per_second: 4035.2530, train_label_loss: 0.0041, \n"
     ]
    },
    {
     "name": "stdout",
     "output_type": "stream",
     "text": [
      "epoch: 2, [batch: 1267 / 6333], examples_per_second: 4410.7931, train_label_loss: 0.0002, \n"
     ]
    },
    {
     "name": "stdout",
     "output_type": "stream",
     "text": [
      "epoch: 2, [batch: 1900 / 6333], examples_per_second: 4772.9251, train_label_loss: 0.0000, \n"
     ]
    },
    {
     "name": "stdout",
     "output_type": "stream",
     "text": [
      "epoch: 2, [batch: 2533 / 6333], examples_per_second: 3925.6351, train_label_loss: 0.0008, \n"
     ]
    },
    {
     "name": "stdout",
     "output_type": "stream",
     "text": [
      "epoch: 2, [batch: 3167 / 6333], examples_per_second: 3877.9525, train_label_loss: 0.0183, \n"
     ]
    },
    {
     "name": "stdout",
     "output_type": "stream",
     "text": [
      "epoch: 2, [batch: 3800 / 6333], examples_per_second: 3950.7087, train_label_loss: 0.0002, \n"
     ]
    },
    {
     "name": "stdout",
     "output_type": "stream",
     "text": [
      "epoch: 2, [batch: 4433 / 6333], examples_per_second: 3831.9575, train_label_loss: 0.0001, \n"
     ]
    },
    {
     "name": "stdout",
     "output_type": "stream",
     "text": [
      "epoch: 2, [batch: 5066 / 6333], examples_per_second: 3939.2514, train_label_loss: 0.0401, \n"
     ]
    },
    {
     "name": "stdout",
     "output_type": "stream",
     "text": [
      "epoch: 2, [batch: 5699 / 6333], examples_per_second: 3964.7627, train_label_loss: 0.0959, \n"
     ]
    },
    {
     "name": "stdout",
     "output_type": "stream",
     "text": [
      "=============================================================\n",
      "epoch: 2, source_val_acc_label: 0.9982, target_val_acc_label: 0.3624, source_val_label_loss: 0.0105, target_val_label_loss: 1.9520, \n",
      "=============================================================\n"
     ]
    },
    {
     "name": "stdout",
     "output_type": "stream",
     "text": [
      "New best\n"
     ]
    },
    {
     "name": "stdout",
     "output_type": "stream",
     "text": [
      "epoch: 3, [batch: 1 / 6305], examples_per_second: 4.1483, train_label_loss: 0.0009, \n"
     ]
    },
    {
     "name": "stdout",
     "output_type": "stream",
     "text": [
      "epoch: 3, [batch: 631 / 6305], examples_per_second: 4102.6099, train_label_loss: 0.0004, \n"
     ]
    },
    {
     "name": "stdout",
     "output_type": "stream",
     "text": [
      "epoch: 3, [batch: 1261 / 6305], examples_per_second: 4296.6857, train_label_loss: 0.0000, \n"
     ]
    },
    {
     "name": "stdout",
     "output_type": "stream",
     "text": [
      "epoch: 3, [batch: 1892 / 6305], examples_per_second: 4536.2946, train_label_loss: 0.0012, \n"
     ]
    },
    {
     "name": "stdout",
     "output_type": "stream",
     "text": [
      "epoch: 3, [batch: 2522 / 6305], examples_per_second: 4302.5719, train_label_loss: 0.0088, \n"
     ]
    },
    {
     "name": "stdout",
     "output_type": "stream",
     "text": [
      "epoch: 3, [batch: 3153 / 6305], examples_per_second: 4237.8533, train_label_loss: 0.0001, \n"
     ]
    },
    {
     "name": "stdout",
     "output_type": "stream",
     "text": [
      "epoch: 3, [batch: 3783 / 6305], examples_per_second: 4329.5014, train_label_loss: 0.0000, \n"
     ]
    },
    {
     "name": "stdout",
     "output_type": "stream",
     "text": [
      "epoch: 3, [batch: 4413 / 6305], examples_per_second: 4321.3949, train_label_loss: 0.0000, \n"
     ]
    },
    {
     "name": "stdout",
     "output_type": "stream",
     "text": [
      "epoch: 3, [batch: 5044 / 6305], examples_per_second: 4181.5399, train_label_loss: 0.0015, \n"
     ]
    },
    {
     "name": "stdout",
     "output_type": "stream",
     "text": [
      "epoch: 3, [batch: 5674 / 6305], examples_per_second: 4269.1062, train_label_loss: 0.0000, \n"
     ]
    },
    {
     "name": "stdout",
     "output_type": "stream",
     "text": [
      "=============================================================\n",
      "epoch: 3, source_val_acc_label: 0.9981, target_val_acc_label: 0.3683, source_val_label_loss: 0.0086, target_val_label_loss: 1.8461, \n",
      "=============================================================\n"
     ]
    },
    {
     "name": "stdout",
     "output_type": "stream",
     "text": [
      "New best\n"
     ]
    },
    {
     "name": "stdout",
     "output_type": "stream",
     "text": [
      "epoch: 4, [batch: 1 / 6323], examples_per_second: 5.4022, train_label_loss: 0.0001, \n"
     ]
    },
    {
     "name": "stdout",
     "output_type": "stream",
     "text": [
      "epoch: 4, [batch: 633 / 6323], examples_per_second: 4858.9967, train_label_loss: 0.0000, \n"
     ]
    },
    {
     "name": "stdout",
     "output_type": "stream",
     "text": [
      "epoch: 4, [batch: 1265 / 6323], examples_per_second: 5253.7935, train_label_loss: 0.0003, \n"
     ]
    },
    {
     "name": "stdout",
     "output_type": "stream",
     "text": [
      "epoch: 4, [batch: 1897 / 6323], examples_per_second: 5238.5615, train_label_loss: 0.0001, \n"
     ]
    },
    {
     "name": "stdout",
     "output_type": "stream",
     "text": [
      "epoch: 4, [batch: 2529 / 6323], examples_per_second: 5194.2170, train_label_loss: 0.0001, \n"
     ]
    },
    {
     "name": "stdout",
     "output_type": "stream",
     "text": [
      "epoch: 4, [batch: 3162 / 6323], examples_per_second: 5249.1984, train_label_loss: 0.0000, \n"
     ]
    },
    {
     "name": "stdout",
     "output_type": "stream",
     "text": [
      "epoch: 4, [batch: 3794 / 6323], examples_per_second: 5328.9377, train_label_loss: 0.0001, \n"
     ]
    },
    {
     "name": "stdout",
     "output_type": "stream",
     "text": [
      "epoch: 4, [batch: 4426 / 6323], examples_per_second: 4974.1536, train_label_loss: 0.0001, \n"
     ]
    },
    {
     "name": "stdout",
     "output_type": "stream",
     "text": [
      "epoch: 4, [batch: 5058 / 6323], examples_per_second: 5015.7306, train_label_loss: 0.0252, \n"
     ]
    },
    {
     "name": "stdout",
     "output_type": "stream",
     "text": [
      "epoch: 4, [batch: 5690 / 6323], examples_per_second: 4973.9374, train_label_loss: 0.0000, \n"
     ]
    },
    {
     "name": "stdout",
     "output_type": "stream",
     "text": [
      "=============================================================\n",
      "epoch: 4, source_val_acc_label: 0.9986, target_val_acc_label: 0.3554, source_val_label_loss: 0.0064, target_val_label_loss: 1.9358, \n",
      "=============================================================\n"
     ]
    },
    {
     "name": "stdout",
     "output_type": "stream",
     "text": [
      "epoch: 5, [batch: 1 / 6317], examples_per_second: 5.4106, train_label_loss: 0.0000, \n"
     ]
    },
    {
     "name": "stdout",
     "output_type": "stream",
     "text": [
      "epoch: 5, [batch: 632 / 6317], examples_per_second: 4816.9466, train_label_loss: 0.0001, \n"
     ]
    },
    {
     "name": "stdout",
     "output_type": "stream",
     "text": [
      "epoch: 5, [batch: 1264 / 6317], examples_per_second: 4862.6256, train_label_loss: 0.0000, \n"
     ]
    },
    {
     "name": "stdout",
     "output_type": "stream",
     "text": [
      "epoch: 5, [batch: 1895 / 6317], examples_per_second: 4925.5081, train_label_loss: 0.0000, \n"
     ]
    },
    {
     "name": "stdout",
     "output_type": "stream",
     "text": [
      "epoch: 5, [batch: 2527 / 6317], examples_per_second: 4789.0134, train_label_loss: 0.0000, \n"
     ]
    },
    {
     "name": "stdout",
     "output_type": "stream",
     "text": [
      "epoch: 5, [batch: 3159 / 6317], examples_per_second: 4874.3030, train_label_loss: 0.0001, \n"
     ]
    },
    {
     "name": "stdout",
     "output_type": "stream",
     "text": [
      "epoch: 5, [batch: 3790 / 6317], examples_per_second: 4919.7811, train_label_loss: 0.1330, \n"
     ]
    },
    {
     "name": "stdout",
     "output_type": "stream",
     "text": [
      "epoch: 5, [batch: 4422 / 6317], examples_per_second: 5187.8206, train_label_loss: 0.0000, \n"
     ]
    },
    {
     "name": "stdout",
     "output_type": "stream",
     "text": [
      "epoch: 5, [batch: 5053 / 6317], examples_per_second: 4750.6405, train_label_loss: 0.0107, \n"
     ]
    },
    {
     "name": "stdout",
     "output_type": "stream",
     "text": [
      "epoch: 5, [batch: 5685 / 6317], examples_per_second: 4094.4640, train_label_loss: 0.0000, \n"
     ]
    },
    {
     "name": "stdout",
     "output_type": "stream",
     "text": [
      "=============================================================\n",
      "epoch: 5, source_val_acc_label: 0.9979, target_val_acc_label: 0.3387, source_val_label_loss: 0.0091, target_val_label_loss: 2.0789, \n",
      "=============================================================\n"
     ]
    },
    {
     "name": "stdout",
     "output_type": "stream",
     "text": [
      "epoch: 6, [batch: 1 / 6329], examples_per_second: 4.1480, train_label_loss: 0.0083, \n"
     ]
    },
    {
     "name": "stdout",
     "output_type": "stream",
     "text": [
      "epoch: 6, [batch: 633 / 6329], examples_per_second: 3880.8595, train_label_loss: 0.0000, \n"
     ]
    },
    {
     "name": "stdout",
     "output_type": "stream",
     "text": [
      "epoch: 6, [batch: 1266 / 6329], examples_per_second: 3942.9487, train_label_loss: 0.0031, \n"
     ]
    },
    {
     "name": "stdout",
     "output_type": "stream",
     "text": [
      "epoch: 6, [batch: 1899 / 6329], examples_per_second: 3964.8829, train_label_loss: 0.0021, \n"
     ]
    },
    {
     "name": "stdout",
     "output_type": "stream",
     "text": [
      "epoch: 6, [batch: 2532 / 6329], examples_per_second: 3971.6774, train_label_loss: 0.0001, \n"
     ]
    },
    {
     "name": "stdout",
     "output_type": "stream",
     "text": [
      "epoch: 6, [batch: 3165 / 6329], examples_per_second: 3934.9354, train_label_loss: 0.0000, \n"
     ]
    },
    {
     "name": "stdout",
     "output_type": "stream",
     "text": [
      "epoch: 6, [batch: 3797 / 6329], examples_per_second: 4192.3498, train_label_loss: 0.0001, \n"
     ]
    },
    {
     "name": "stdout",
     "output_type": "stream",
     "text": [
      "epoch: 6, [batch: 4430 / 6329], examples_per_second: 4442.3607, train_label_loss: 0.0007, \n"
     ]
    },
    {
     "name": "stdout",
     "output_type": "stream",
     "text": [
      "epoch: 6, [batch: 5063 / 6329], examples_per_second: 4810.7621, train_label_loss: 0.0000, \n"
     ]
    },
    {
     "name": "stdout",
     "output_type": "stream",
     "text": [
      "epoch: 6, [batch: 5696 / 6329], examples_per_second: 3968.7115, train_label_loss: 0.0163, \n"
     ]
    },
    {
     "name": "stdout",
     "output_type": "stream",
     "text": [
      "=============================================================\n",
      "epoch: 6, source_val_acc_label: 0.9992, target_val_acc_label: 0.3873, source_val_label_loss: 0.0050, target_val_label_loss: 1.8272, \n",
      "=============================================================\n"
     ]
    },
    {
     "name": "stdout",
     "output_type": "stream",
     "text": [
      "New best\n"
     ]
    },
    {
     "name": "stdout",
     "output_type": "stream",
     "text": [
      "epoch: 7, [batch: 1 / 6316], examples_per_second: 4.1638, train_label_loss: 0.0000, \n"
     ]
    },
    {
     "name": "stdout",
     "output_type": "stream",
     "text": [
      "epoch: 7, [batch: 632 / 6316], examples_per_second: 3871.9962, train_label_loss: 0.0000, \n"
     ]
    },
    {
     "name": "stdout",
     "output_type": "stream",
     "text": [
      "epoch: 7, [batch: 1264 / 6316], examples_per_second: 3806.1407, train_label_loss: 0.0006, \n"
     ]
    },
    {
     "name": "stdout",
     "output_type": "stream",
     "text": [
      "epoch: 7, [batch: 1895 / 6316], examples_per_second: 3809.9056, train_label_loss: 0.0005, \n"
     ]
    },
    {
     "name": "stdout",
     "output_type": "stream",
     "text": [
      "epoch: 7, [batch: 2527 / 6316], examples_per_second: 3793.5633, train_label_loss: 0.0000, \n"
     ]
    },
    {
     "name": "stdout",
     "output_type": "stream",
     "text": [
      "epoch: 7, [batch: 3158 / 6316], examples_per_second: 3840.0323, train_label_loss: 0.0031, \n"
     ]
    },
    {
     "name": "stdout",
     "output_type": "stream",
     "text": [
      "epoch: 7, [batch: 3790 / 6316], examples_per_second: 4092.3883, train_label_loss: 0.0001, \n"
     ]
    },
    {
     "name": "stdout",
     "output_type": "stream",
     "text": [
      "epoch: 7, [batch: 4421 / 6316], examples_per_second: 4389.9905, train_label_loss: 0.0000, \n"
     ]
    },
    {
     "name": "stdout",
     "output_type": "stream",
     "text": [
      "epoch: 7, [batch: 5053 / 6316], examples_per_second: 4768.1779, train_label_loss: 0.0000, \n"
     ]
    },
    {
     "name": "stdout",
     "output_type": "stream",
     "text": [
      "epoch: 7, [batch: 5684 / 6316], examples_per_second: 4007.8713, train_label_loss: 0.0147, \n"
     ]
    },
    {
     "name": "stdout",
     "output_type": "stream",
     "text": [
      "=============================================================\n",
      "epoch: 7, source_val_acc_label: 0.9994, target_val_acc_label: 0.3571, source_val_label_loss: 0.0064, target_val_label_loss: 2.0504, \n",
      "=============================================================\n"
     ]
    },
    {
     "name": "stdout",
     "output_type": "stream",
     "text": [
      "epoch: 8, [batch: 1 / 6315], examples_per_second: 4.1075, train_label_loss: 0.0000, \n"
     ]
    },
    {
     "name": "stdout",
     "output_type": "stream",
     "text": [
      "epoch: 8, [batch: 632 / 6315], examples_per_second: 3821.2993, train_label_loss: 0.0002, \n"
     ]
    },
    {
     "name": "stdout",
     "output_type": "stream",
     "text": [
      "epoch: 8, [batch: 1263 / 6315], examples_per_second: 3913.9435, train_label_loss: 0.0001, \n"
     ]
    },
    {
     "name": "stdout",
     "output_type": "stream",
     "text": [
      "epoch: 8, [batch: 1895 / 6315], examples_per_second: 3882.3522, train_label_loss: 0.0000, \n"
     ]
    },
    {
     "name": "stdout",
     "output_type": "stream",
     "text": [
      "epoch: 8, [batch: 2526 / 6315], examples_per_second: 3873.9128, train_label_loss: 0.0000, \n"
     ]
    },
    {
     "name": "stdout",
     "output_type": "stream",
     "text": [
      "epoch: 8, [batch: 3158 / 6315], examples_per_second: 3933.7372, train_label_loss: 0.0000, \n"
     ]
    },
    {
     "name": "stdout",
     "output_type": "stream",
     "text": [
      "epoch: 8, [batch: 3789 / 6315], examples_per_second: 3982.0993, train_label_loss: 0.0000, \n"
     ]
    },
    {
     "name": "stdout",
     "output_type": "stream",
     "text": [
      "epoch: 8, [batch: 4420 / 6315], examples_per_second: 4163.3020, train_label_loss: 0.0002, \n"
     ]
    },
    {
     "name": "stdout",
     "output_type": "stream",
     "text": [
      "epoch: 8, [batch: 5052 / 6315], examples_per_second: 4408.2970, train_label_loss: 0.0000, \n"
     ]
    },
    {
     "name": "stdout",
     "output_type": "stream",
     "text": [
      "epoch: 8, [batch: 5683 / 6315], examples_per_second: 3830.3469, train_label_loss: 0.0000, \n"
     ]
    },
    {
     "name": "stdout",
     "output_type": "stream",
     "text": [
      "=============================================================\n",
      "epoch: 8, source_val_acc_label: 0.9992, target_val_acc_label: 0.3284, source_val_label_loss: 0.0051, target_val_label_loss: 2.3143, \n",
      "=============================================================\n"
     ]
    },
    {
     "name": "stdout",
     "output_type": "stream",
     "text": [
      "epoch: 9, [batch: 1 / 6317], examples_per_second: 4.0901, train_label_loss: 0.0040, \n"
     ]
    },
    {
     "name": "stdout",
     "output_type": "stream",
     "text": [
      "epoch: 9, [batch: 632 / 6317], examples_per_second: 3783.3984, train_label_loss: 0.0000, \n"
     ]
    },
    {
     "name": "stdout",
     "output_type": "stream",
     "text": [
      "epoch: 9, [batch: 1264 / 6317], examples_per_second: 3855.9367, train_label_loss: 0.0000, \n"
     ]
    },
    {
     "name": "stdout",
     "output_type": "stream",
     "text": [
      "epoch: 9, [batch: 1895 / 6317], examples_per_second: 3845.5642, train_label_loss: 0.0014, \n"
     ]
    },
    {
     "name": "stdout",
     "output_type": "stream",
     "text": [
      "epoch: 9, [batch: 2527 / 6317], examples_per_second: 3961.6900, train_label_loss: 0.0000, \n"
     ]
    },
    {
     "name": "stdout",
     "output_type": "stream",
     "text": [
      "epoch: 9, [batch: 3159 / 6317], examples_per_second: 3976.0544, train_label_loss: 0.0000, \n"
     ]
    },
    {
     "name": "stdout",
     "output_type": "stream",
     "text": [
      "epoch: 9, [batch: 3790 / 6317], examples_per_second: 4108.2412, train_label_loss: 0.0000, \n"
     ]
    },
    {
     "name": "stdout",
     "output_type": "stream",
     "text": [
      "epoch: 9, [batch: 4422 / 6317], examples_per_second: 4190.5275, train_label_loss: 0.0000, \n"
     ]
    },
    {
     "name": "stdout",
     "output_type": "stream",
     "text": [
      "epoch: 9, [batch: 5053 / 6317], examples_per_second: 4389.8757, train_label_loss: 0.0000, \n"
     ]
    },
    {
     "name": "stdout",
     "output_type": "stream",
     "text": [
      "epoch: 9, [batch: 5685 / 6317], examples_per_second: 3865.9424, train_label_loss: 0.0002, \n"
     ]
    },
    {
     "name": "stdout",
     "output_type": "stream",
     "text": [
      "=============================================================\n",
      "epoch: 9, source_val_acc_label: 0.9995, target_val_acc_label: 0.3390, source_val_label_loss: 0.0050, target_val_label_loss: 2.3343, \n",
      "=============================================================\n"
     ]
    },
    {
     "name": "stdout",
     "output_type": "stream",
     "text": [
      "epoch: 10, [batch: 1 / 6296], examples_per_second: 4.1154, train_label_loss: 0.0000, \n"
     ]
    },
    {
     "name": "stdout",
     "output_type": "stream",
     "text": [
      "epoch: 10, [batch: 630 / 6296], examples_per_second: 3906.2165, train_label_loss: 0.0000, \n"
     ]
    },
    {
     "name": "stdout",
     "output_type": "stream",
     "text": [
      "epoch: 10, [batch: 1260 / 6296], examples_per_second: 3913.8180, train_label_loss: 0.0001, \n"
     ]
    },
    {
     "name": "stdout",
     "output_type": "stream",
     "text": [
      "epoch: 10, [batch: 1889 / 6296], examples_per_second: 3899.0665, train_label_loss: 0.0000, \n"
     ]
    },
    {
     "name": "stdout",
     "output_type": "stream",
     "text": [
      "epoch: 10, [batch: 2519 / 6296], examples_per_second: 3972.0357, train_label_loss: 0.0000, \n"
     ]
    },
    {
     "name": "stdout",
     "output_type": "stream",
     "text": [
      "epoch: 10, [batch: 3148 / 6296], examples_per_second: 3978.7554, train_label_loss: 0.0000, \n"
     ]
    },
    {
     "name": "stdout",
     "output_type": "stream",
     "text": [
      "epoch: 10, [batch: 3778 / 6296], examples_per_second: 4162.0038, train_label_loss: 0.0000, \n"
     ]
    },
    {
     "name": "stdout",
     "output_type": "stream",
     "text": [
      "epoch: 10, [batch: 4407 / 6296], examples_per_second: 4245.8299, train_label_loss: 0.0000, \n"
     ]
    },
    {
     "name": "stdout",
     "output_type": "stream",
     "text": [
      "epoch: 10, [batch: 5037 / 6296], examples_per_second: 4407.3074, train_label_loss: 0.0000, \n"
     ]
    },
    {
     "name": "stdout",
     "output_type": "stream",
     "text": [
      "epoch: 10, [batch: 5666 / 6296], examples_per_second: 3918.6808, train_label_loss: 0.0025, \n"
     ]
    },
    {
     "name": "stdout",
     "output_type": "stream",
     "text": [
      "=============================================================\n",
      "epoch: 10, source_val_acc_label: 0.9994, target_val_acc_label: 0.3289, source_val_label_loss: 0.0056, target_val_label_loss: 2.3727, \n",
      "=============================================================\n"
     ]
    },
    {
     "name": "stdout",
     "output_type": "stream",
     "text": [
      "Patience (3) exhausted\n"
     ]
    }
   ],
   "source": [
    "###################################\n",
    "# train\n",
    "###################################\n",
    "jig = PTN_Train_Eval_Test_Jig(model, p.BEST_MODEL_PATH, p.device)\n",
    "\n",
    "jig.train(\n",
    "    train_iterable=datasets.source.processed.train,\n",
    "    source_val_iterable=datasets.source.processed.val,\n",
    "    target_val_iterable=datasets.target.processed.val,\n",
    "    num_epochs=p.n_epoch,\n",
    "    num_logs_per_epoch=p.NUM_LOGS_PER_EPOCH,\n",
    "    patience=p.patience,\n",
    "    optimizer=optimizer,\n",
    "    criteria_for_best=p.criteria_for_best,\n",
    ")"
   ]
  },
  {
   "cell_type": "code",
   "execution_count": 23,
   "id": "31e8fabf",
   "metadata": {
    "execution": {
     "iopub.execute_input": "2022-03-28T13:46:37.815507Z",
     "iopub.status.busy": "2022-03-28T13:46:37.814946Z",
     "iopub.status.idle": "2022-03-28T13:46:37.849398Z",
     "shell.execute_reply": "2022-03-28T13:46:37.848710Z"
    },
    "papermill": {
     "duration": 0.095006,
     "end_time": "2022-03-28T13:46:37.849560",
     "exception": false,
     "start_time": "2022-03-28T13:46:37.754554",
     "status": "completed"
    },
    "tags": []
   },
   "outputs": [],
   "source": [
    "total_experiment_time_secs = time.time() - start_time_secs"
   ]
  },
  {
   "cell_type": "code",
   "execution_count": 24,
   "id": "87b9595b",
   "metadata": {
    "execution": {
     "iopub.execute_input": "2022-03-28T13:46:37.973627Z",
     "iopub.status.busy": "2022-03-28T13:46:37.964909Z",
     "iopub.status.idle": "2022-03-28T13:49:22.356343Z",
     "shell.execute_reply": "2022-03-28T13:49:22.357016Z"
    },
    "papermill": {
     "duration": 164.447962,
     "end_time": "2022-03-28T13:49:22.357247",
     "exception": false,
     "start_time": "2022-03-28T13:46:37.909285",
     "status": "completed"
    },
    "tags": []
   },
   "outputs": [],
   "source": [
    "###################################\n",
    "# Evaluate the model\n",
    "###################################\n",
    "source_test_label_accuracy, source_test_label_loss = jig.test(datasets.source.processed.test)\n",
    "target_test_label_accuracy, target_test_label_loss = jig.test(datasets.target.processed.test)\n",
    "\n",
    "source_val_label_accuracy, source_val_label_loss = jig.test(datasets.source.processed.val)\n",
    "target_val_label_accuracy, target_val_label_loss = jig.test(datasets.target.processed.val)\n",
    "\n",
    "history = jig.get_history()\n",
    "\n",
    "total_epochs_trained = len(history[\"epoch_indices\"])\n",
    "\n",
    "val_dl = Iterable_Aggregator((datasets.source.original.val,datasets.target.original.val))\n",
    "\n",
    "confusion = ptn_confusion_by_domain_over_dataloader(model, p.device, val_dl)\n",
    "per_domain_accuracy = per_domain_accuracy_from_confusion(confusion)\n",
    "\n",
    "# Add a key to per_domain_accuracy for if it was a source domain\n",
    "for domain, accuracy in per_domain_accuracy.items():\n",
    "    per_domain_accuracy[domain] = {\n",
    "        \"accuracy\": accuracy,\n",
    "        \"source?\": domain in p.domains_source\n",
    "    }\n",
    "\n",
    "# Do an independent accuracy assesment JUST TO BE SURE!\n",
    "# _source_test_label_accuracy = independent_accuracy_assesment(model, datasets.source.processed.test, p.device)\n",
    "# _target_test_label_accuracy = independent_accuracy_assesment(model, datasets.target.processed.test, p.device)\n",
    "# _source_val_label_accuracy = independent_accuracy_assesment(model, datasets.source.processed.val, p.device)\n",
    "# _target_val_label_accuracy = independent_accuracy_assesment(model, datasets.target.processed.val, p.device)\n",
    "\n",
    "# assert(_source_test_label_accuracy == source_test_label_accuracy)\n",
    "# assert(_target_test_label_accuracy == target_test_label_accuracy)\n",
    "# assert(_source_val_label_accuracy == source_val_label_accuracy)\n",
    "# assert(_target_val_label_accuracy == target_val_label_accuracy)\n",
    "\n",
    "experiment = {\n",
    "    \"experiment_name\": p.experiment_name,\n",
    "    \"parameters\": dict(p),\n",
    "    \"results\": {\n",
    "        \"source_test_label_accuracy\": source_test_label_accuracy,\n",
    "        \"source_test_label_loss\": source_test_label_loss,\n",
    "        \"target_test_label_accuracy\": target_test_label_accuracy,\n",
    "        \"target_test_label_loss\": target_test_label_loss,\n",
    "        \"source_val_label_accuracy\": source_val_label_accuracy,\n",
    "        \"source_val_label_loss\": source_val_label_loss,\n",
    "        \"target_val_label_accuracy\": target_val_label_accuracy,\n",
    "        \"target_val_label_loss\": target_val_label_loss,\n",
    "        \"total_epochs_trained\": total_epochs_trained,\n",
    "        \"total_experiment_time_secs\": total_experiment_time_secs,\n",
    "        \"confusion\": confusion,\n",
    "        \"per_domain_accuracy\": per_domain_accuracy,\n",
    "    },\n",
    "    \"history\": history,\n",
    "    \"dataset_metrics\": get_dataset_metrics(datasets, \"ptn\"),\n",
    "}"
   ]
  },
  {
   "cell_type": "code",
   "execution_count": 25,
   "id": "54a21829",
   "metadata": {
    "execution": {
     "iopub.execute_input": "2022-03-28T13:49:22.472782Z",
     "iopub.status.busy": "2022-03-28T13:49:22.472411Z",
     "iopub.status.idle": "2022-03-28T13:49:22.690103Z",
     "shell.execute_reply": "2022-03-28T13:49:22.689295Z"
    },
    "papermill": {
     "duration": 0.274608,
     "end_time": "2022-03-28T13:49:22.690259",
     "exception": false,
     "start_time": "2022-03-28T13:49:22.415651",
     "status": "completed"
    },
    "tags": []
   },
   "outputs": [
    {
     "data": {
      "image/png": "[encoded data removed]",
      "text/plain": [
       "<Figure size 1080x504 with 1 Axes>"
      ]
     },
     "metadata": {
      "needs_background": "light"
     },
     "output_type": "display_data"
    }
   ],
   "source": [
    "ax = get_loss_curve(experiment)\n",
    "plt.show()"
   ]
  },
  {
   "cell_type": "code",
   "execution_count": 26,
   "id": "fd8a0f60",
   "metadata": {
    "execution": {
     "iopub.execute_input": "2022-03-28T13:49:22.806217Z",
     "iopub.status.busy": "2022-03-28T13:49:22.805847Z",
     "iopub.status.idle": "2022-03-28T13:49:23.173347Z",
     "shell.execute_reply": "2022-03-28T13:49:23.174026Z"
    },
    "papermill": {
     "duration": 0.426385,
     "end_time": "2022-03-28T13:49:23.174223",
     "exception": false,
     "start_time": "2022-03-28T13:49:22.747838",
     "status": "completed"
    },
    "tags": []
   },
   "outputs": [
    {
     "data": {
      "text/plain": [
       "<AxesSubplot:title={'center':'Results'}>"
      ]
     },
     "execution_count": 26,
     "metadata": {},
     "output_type": "execute_result"
    },
    {
     "data": {
      "image/png": "[encoded data removed]",
      "text/plain": [
       "<Figure size 1080x504 with 1 Axes>"
      ]
     },
     "metadata": {
      "needs_background": "light"
     },
     "output_type": "display_data"
    }
   ],
   "source": [
    "get_results_table(experiment)"
   ]
  },
  {
   "cell_type": "code",
   "execution_count": 27,
   "id": "cf8dc689",
   "metadata": {
    "execution": {
     "iopub.execute_input": "2022-03-28T13:49:23.292331Z",
     "iopub.status.busy": "2022-03-28T13:49:23.291766Z",
     "iopub.status.idle": "2022-03-28T13:49:23.529340Z",
     "shell.execute_reply": "2022-03-28T13:49:23.528617Z"
    },
    "papermill": {
     "duration": 0.29599,
     "end_time": "2022-03-28T13:49:23.529501",
     "exception": false,
     "start_time": "2022-03-28T13:49:23.233511",
     "status": "completed"
    },
    "tags": []
   },
   "outputs": [
    {
     "data": {
      "text/plain": [
       "<AxesSubplot:title={'center':'Per Domain Validation Accuracy'}, xlabel='domain'>"
      ]
     },
     "execution_count": 27,
     "metadata": {},
     "output_type": "execute_result"
    },
    {
     "data": {
      "image/png": "[encoded data removed]",
      "text/plain": [
       "<Figure size 1080x504 with 1 Axes>"
      ]
     },
     "metadata": {
      "needs_background": "light"
     },
     "output_type": "display_data"
    }
   ],
   "source": [
    "get_domain_accuracies(experiment)"
   ]
  },
  {
   "cell_type": "code",
   "execution_count": 28,
   "id": "a74ae082",
   "metadata": {
    "execution": {
     "iopub.execute_input": "2022-03-28T13:49:23.655303Z",
     "iopub.status.busy": "2022-03-28T13:49:23.654927Z",
     "iopub.status.idle": "2022-03-28T13:49:23.681742Z",
     "shell.execute_reply": "2022-03-28T13:49:23.680937Z"
    },
    "papermill": {
     "duration": 0.090203,
     "end_time": "2022-03-28T13:49:23.681898",
     "exception": false,
     "start_time": "2022-03-28T13:49:23.591695",
     "status": "completed"
    },
    "tags": []
   },
   "outputs": [
    {
     "name": "stdout",
     "output_type": "stream",
     "text": [
      "Source Test Label Accuracy: 0.9994050951847704 Target Test Label Accuracy: 0.39401041666666664\n",
      "Source Val Label Accuracy: 0.9992133867276888 Target Val Label Accuracy: 0.3873046875\n"
     ]
    }
   ],
   "source": [
    "print(\"Source Test Label Accuracy:\", experiment[\"results\"][\"source_test_label_accuracy\"], \"Target Test Label Accuracy:\", experiment[\"results\"][\"target_test_label_accuracy\"])\n",
    "print(\"Source Val Label Accuracy:\", experiment[\"results\"][\"source_val_label_accuracy\"], \"Target Val Label Accuracy:\", experiment[\"results\"][\"target_val_label_accuracy\"])"
   ]
  },
  {
   "cell_type": "code",
   "execution_count": 29,
   "id": "dacca602",
   "metadata": {
    "execution": {
     "iopub.execute_input": "2022-03-28T13:49:23.819248Z",
     "iopub.status.busy": "2022-03-28T13:49:23.818661Z",
     "iopub.status.idle": "2022-03-28T13:49:23.844197Z",
     "shell.execute_reply": "2022-03-28T13:49:23.843772Z"
    },
    "papermill": {
     "duration": 0.096929,
     "end_time": "2022-03-28T13:49:23.844295",
     "exception": false,
     "start_time": "2022-03-28T13:49:23.747366",
     "status": "completed"
    },
    "tags": [
     "experiment_json"
    ]
   },
   "outputs": [
    {
     "data": {
      "text/plain": [
       "'{\"experiment_name\": \"tl_3-jitter5v2:cores -> oracle.run1.framed\", \"parameters\": {\"experiment_name\": \"tl_3-jitter5v2:cores -> oracle.run1.framed\", \"device\": \"cuda\", \"lr\": 0.0001, \"x_shape\": [2, 256], \"n_shot\": 3, \"n_query\": 2, \"train_k_factor\": 3, \"val_k_factor\": 2, \"test_k_factor\": 2, \"torch_default_dtype\": \"torch.float32\", \"n_epoch\": 50, \"patience\": 3, \"criteria_for_best\": \"target_accuracy\", \"x_net\": [{\"class\": \"nnReshape\", \"kargs\": {\"shape\": [-1, 1, 2, 256]}}, {\"class\": \"Conv2d\", \"kargs\": {\"in_channels\": 1, \"out_channels\": 256, \"kernel_size\": [1, 7], \"bias\": false, \"padding\": [0, 3]}}, {\"class\": \"ReLU\", \"kargs\": {\"inplace\": true}}, {\"class\": \"BatchNorm2d\", \"kargs\": {\"num_features\": 256}}, {\"class\": \"Conv2d\", \"kargs\": {\"in_channels\": 256, \"out_channels\": 80, \"kernel_size\": [2, 7], \"bias\": true, \"padding\": [0, 3]}}, {\"class\": \"ReLU\", \"kargs\": {\"inplace\": true}}, {\"class\": \"BatchNorm2d\", \"kargs\": {\"num_features\": 80}}, {\"class\": \"Flatten\", \"kargs\": {}}, {\"class\": \"Linear\", \"kargs\": {\"in_features\": 20480, \"out_features\": 256}}, {\"class\": \"ReLU\", \"kargs\": {\"inplace\": true}}, {\"class\": \"BatchNorm1d\", \"kargs\": {\"num_features\": 256}}, {\"class\": \"Linear\", \"kargs\": {\"in_features\": 256, \"out_features\": 256}}], \"NUM_LOGS_PER_EPOCH\": 10, \"BEST_MODEL_PATH\": \"./best_model.pth\", \"n_way\": 16, \"datasets\": [{\"labels\": [\"1-10.\", \"1-11.\", \"1-15.\", \"1-16.\", \"1-17.\", \"1-18.\", \"1-19.\", \"10-4.\", \"10-7.\", \"11-1.\", \"11-14.\", \"11-17.\", \"11-20.\", \"11-7.\", \"13-20.\", \"13-8.\", \"14-10.\", \"14-11.\", \"14-14.\", \"14-7.\", \"15-1.\", \"15-20.\", \"16-1.\", \"16-16.\", \"17-10.\", \"17-11.\", \"17-2.\", \"19-1.\", \"19-16.\", \"19-19.\", \"19-20.\", \"19-3.\", \"2-10.\", \"2-11.\", \"2-17.\", \"2-18.\", \"2-20.\", \"2-3.\", \"2-4.\", \"2-5.\", \"2-6.\", \"2-7.\", \"2-8.\", \"3-13.\", \"3-18.\", \"3-3.\", \"4-1.\", \"4-10.\", \"4-11.\", \"4-19.\", \"5-5.\", \"6-15.\", \"7-10.\", \"7-14.\", \"8-18.\", \"8-20.\", \"8-3.\", \"8-8.\"], \"domains\": [1, 2, 3, 4, 5], \"num_examples_per_domain_per_label\": -1, \"pickle_path\": \"/root/csc500-main/datasets/cores.stratified_ds.2022A.pkl\", \"source_or_target_dataset\": \"source\", \"x_transforms\": [\"unit_power\", \"jitter_256_5\", \"lowpass_+/-10MHz\", \"take_200\"], \"episode_transforms\": [], \"domain_prefix\": \"C_\"}, {\"labels\": [\"3123D52\", \"3123D65\", \"3123D79\", \"3123D80\", \"3123D54\", \"3123D70\", \"3123D7B\", \"3123D89\", \"3123D58\", \"3123D76\", \"3123D7D\", \"3123EFE\", \"3123D64\", \"3123D78\", \"3123D7E\", \"3124E4A\"], \"domains\": [32, 38, 8, 44, 14, 50, 20, 26], \"num_examples_per_domain_per_label\": 2000, \"pickle_path\": \"/root/csc500-main/datasets/oracle.Run1_framed_2000Examples_stratified_ds.2022A.pkl\", \"source_or_target_dataset\": \"target\", \"x_transforms\": [\"unit_power\", \"jitter_256_5\", \"take_200\", \"resample_20Msps_to_25Msps\"], \"episode_transforms\": [], \"domain_prefix\": \"O_\"}], \"seed\": 154325, \"dataset_seed\": 154325, \"domains_source\": [\"C_1\", \"C_2\", \"C_3\", \"C_4\", \"C_5\"], \"domains_target\": [\"O_32\", \"O_38\", \"O_8\", \"O_44\", \"O_14\", \"O_50\", \"O_20\", \"O_26\"]}, \"results\": {\"source_test_label_accuracy\": 0.9994050951847704, \"source_test_label_loss\": 0.005429413635283709, \"target_test_label_accuracy\": 0.39401041666666664, \"target_test_label_loss\": 1.8141071796417236, \"source_val_label_accuracy\": 0.9992133867276888, \"source_val_label_loss\": 0.0050031766295433044, \"target_val_label_accuracy\": 0.3873046875, \"target_val_label_loss\": 1.8271644115447998, \"total_epochs_trained\": 10, \"total_experiment_time_secs\": 1575.2579953670502, \"confusion\": {\"C_2\": {\"21\": {\"21\": 120}, \"4\": {\"4\": 130}, \"6\": {\"6\": 124}, \"10\": {\"10\": 112}, \"33\": {\"33\": 28}, \"56\": {\"56\": 122}, \"20\": {\"20\": 132}, \"24\": {\"24\": 96}, \"45\": {\"45\": 127, \"17\": 1}, \"32\": {\"32\": 28}, \"27\": {\"27\": 148}, \"53\": {\"53\": 136}, \"8\": {\"8\": 160}, \"54\": {\"54\": 108}, \"50\": {\"50\": 134}, \"44\": {\"44\": 100}, \"5\": {\"5\": 120}, \"38\": {\"38\": 20}, \"19\": {\"19\": 132}, \"1\": {\"1\": 112}, \"30\": {\"30\": 144}, \"15\": {\"15\": 144}, \"23\": {\"23\": 146}, \"35\": {\"35\": 32}, \"22\": {\"22\": 128}, \"40\": {\"40\": 140}, \"46\": {\"46\": 126}, \"3\": {\"3\": 92}, \"48\": {\"48\": 148}, \"52\": {\"52\": 124}, \"2\": {\"2\": 32}, \"26\": {\"26\": 24}, \"17\": {\"17\": 104}, \"55\": {\"55\": 144}, \"51\": {\"51\": 122}, \"42\": {\"42\": 36}, \"41\": {\"41\": 20}, \"31\": {\"31\": 28}, \"16\": {\"16\": 138}, \"36\": {\"36\": 116}, \"49\": {\"49\": 24}, \"0\": {\"0\": 48}, \"18\": {\"18\": 48}, \"25\": {\"25\": 146}, \"9\": {\"9\": 122}, \"47\": {\"47\": 132}, \"7\": {\"7\": 36}, \"37\": {\"37\": 36}, \"13\": {\"13\": 116}, \"14\": {\"14\": 24}, \"34\": {\"34\": 28}, \"57\": {\"57\": 140}, \"11\": {\"11\": 138}, \"39\": {\"39\": 28}, \"12\": {\"12\": 92}, \"28\": {\"28\": 28}, \"29\": {\"29\": 128}, \"43\": {\"43\": 140}}, \"C_5\": {\"12\": {\"12\": 96}, \"8\": {\"8\": 142}, \"29\": {\"29\": 132}, \"57\": {\"57\": 126}, \"38\": {\"38\": 32}, \"23\": {\"23\": 124}, \"56\": {\"56\": 138}, \"49\": {\"49\": 36}, \"4\": {\"4\": 100}, \"48\": {\"48\": 136}, \"21\": {\"21\": 144}, \"30\": {\"30\": 128}, \"1\": {\"1\": 148}, \"34\": {\"34\": 36}, \"35\": {\"35\": 36}, \"55\": {\"55\": 152}, \"5\": {\"5\": 122}, \"52\": {\"52\": 126}, \"6\": {\"6\": 125, \"18\": 1, \"17\": 2}, \"36\": {\"36\": 92}, \"41\": {\"41\": 28}, \"3\": {\"3\": 100}, \"28\": {\"28\": 32}, \"18\": {\"18\": 64}, \"25\": {\"25\": 136}, \"47\": {\"47\": 100}, \"13\": {\"13\": 160}, \"11\": {\"11\": 144}, \"53\": {\"53\": 144}, \"33\": {\"33\": 32}, \"46\": {\"46\": 148}, \"50\": {\"50\": 144, \"18\": 2, \"25\": 1, \"20\": 1}, \"10\": {\"10\": 68}, \"15\": {\"15\": 138}, \"44\": {\"44\": 140}, \"2\": {\"2\": 28}, \"7\": {\"7\": 32}, \"43\": {\"43\": 138}, \"32\": {\"32\": 32}, \"0\": {\"0\": 124}, \"39\": {\"39\": 20}, \"26\": {\"26\": 24}, \"27\": {\"27\": 112}, \"54\": {\"54\": 112}, \"17\": {\"17\": 116}, \"14\": {\"14\": 44}, \"16\": {\"16\": 148}, \"9\": {\"9\": 148}, \"19\": {\"19\": 152}, \"20\": {\"20\": 138}, \"37\": {\"37\": 24}, \"24\": {\"24\": 80}, \"40\": {\"40\": 122}, \"45\": {\"45\": 122, \"17\": 1, \"9\": 1}, \"22\": {\"22\": 28}, \"42\": {\"42\": 38, \"56\": 1, \"43\": 1}, \"51\": {\"51\": 118}, \"31\": {\"31\": 36}}, \"C_1\": {\"27\": {\"27\": 142}, \"2\": {\"2\": 36}, \"33\": {\"33\": 32}, \"45\": {\"45\": 156}, \"38\": {\"38\": 24}, \"4\": {\"4\": 132}, \"31\": {\"31\": 28}, \"55\": {\"55\": 140}, \"32\": {\"32\": 32}, \"57\": {\"57\": 140}, \"14\": {\"14\": 24}, \"16\": {\"16\": 140}, \"34\": {\"34\": 24}, \"56\": {\"56\": 126}, \"24\": {\"24\": 108}, \"30\": {\"30\": 112}, \"17\": {\"17\": 64}, \"13\": {\"13\": 138}, \"39\": {\"39\": 28}, \"50\": {\"50\": 146}, \"20\": {\"20\": 140}, \"41\": {\"41\": 24}, \"53\": {\"53\": 126}, \"48\": {\"48\": 142}, \"36\": {\"36\": 64}, \"8\": {\"8\": 139, \"14\": 1}, \"15\": {\"15\": 132}, \"40\": {\"40\": 156}, \"37\": {\"37\": 32}, \"21\": {\"21\": 120}, \"35\": {\"35\": 36}, \"49\": {\"49\": 32}, \"26\": {\"26\": 24}, \"28\": {\"28\": 28}, \"12\": {\"12\": 116}, \"5\": {\"5\": 152}, \"29\": {\"29\": 140}, \"47\": {\"47\": 140}, \"10\": {\"10\": 96}, \"18\": {\"18\": 71, \"48\": 1}, \"9\": {\"9\": 126}, \"3\": {\"3\": 140}, \"52\": {\"52\": 132}, \"25\": {\"25\": 136}, \"19\": {\"19\": 156}, \"11\": {\"11\": 135, \"10\": 1}, \"7\": {\"7\": 28}, \"23\": {\"23\": 136}, \"44\": {\"44\": 132}, \"42\": {\"42\": 40}, \"54\": {\"54\": 104}, \"1\": {\"1\": 100}, \"46\": {\"46\": 128}, \"6\": {\"6\": 96}, \"43\": {\"43\": 144}, \"51\": {\"51\": 142}, \"22\": {\"22\": 136}, \"0\": {\"0\": 128}}, \"C_4\": {\"32\": {\"32\": 24}, \"2\": {\"2\": 36}, \"41\": {\"41\": 36}, \"11\": {\"11\": 102}, \"57\": {\"57\": 100}, \"6\": {\"6\": 112}, \"23\": {\"23\": 136}, \"52\": {\"52\": 116}, \"38\": {\"38\": 40}, \"50\": {\"50\": 131, \"3\": 1}, \"55\": {\"55\": 152}, \"46\": {\"46\": 154}, \"37\": {\"37\": 24}, \"20\": {\"20\": 118}, \"49\": {\"49\": 20}, \"45\": {\"45\": 96}, \"54\": {\"54\": 108}, \"3\": {\"3\": 124}, \"13\": {\"13\": 152}, \"18\": {\"18\": 108}, \"21\": {\"21\": 126}, \"43\": {\"43\": 144}, \"47\": {\"47\": 120}, \"4\": {\"4\": 132}, \"12\": {\"12\": 92}, \"9\": {\"9\": 128}, \"7\": {\"7\": 24}, \"56\": {\"56\": 112}, \"28\": {\"28\": 32}, \"44\": {\"44\": 132}, \"24\": {\"24\": 56}, \"33\": {\"33\": 36}, \"35\": {\"35\": 40}, \"51\": {\"51\": 138}, \"39\": {\"39\": 20}, \"36\": {\"36\": 92}, \"19\": {\"19\": 140}, \"0\": {\"0\": 80}, \"15\": {\"15\": 136}, \"29\": {\"29\": 124}, \"30\": {\"30\": 44}, \"1\": {\"1\": 40}, \"22\": {\"22\": 128}, \"40\": {\"40\": 146}, \"8\": {\"8\": 128}, \"53\": {\"53\": 138}, \"34\": {\"34\": 24}, \"10\": {\"10\": 122}, \"31\": {\"31\": 28}, \"17\": {\"17\": 80}, \"16\": {\"16\": 96}, \"42\": {\"42\": 32}, \"27\": {\"27\": 142}, \"14\": {\"14\": 16}, \"25\": {\"25\": 122}, \"48\": {\"48\": 132}, \"26\": {\"26\": 24}, \"5\": {\"5\": 108}}, \"C_3\": {\"14\": {\"14\": 38, \"0\": 2}, \"18\": {\"18\": 84}, \"30\": {\"30\": 120}, \"16\": {\"16\": 156}, \"1\": {\"1\": 100}, \"20\": {\"20\": 132}, \"7\": {\"7\": 36}, \"52\": {\"52\": 130}, \"9\": {\"9\": 140}, \"23\": {\"23\": 144}, \"55\": {\"55\": 164}, \"29\": {\"29\": 126}, \"56\": {\"56\": 133, \"22\": 1}, \"3\": {\"3\": 124}, \"42\": {\"42\": 28}, \"6\": {\"6\": 86, \"12\": 1, \"15\": 1}, \"5\": {\"5\": 116}, \"27\": {\"27\": 144}, \"47\": {\"47\": 92}, \"39\": {\"39\": 16}, \"34\": {\"34\": 32}, \"4\": {\"4\": 126}, \"24\": {\"24\": 104}, \"46\": {\"46\": 118}, \"50\": {\"50\": 126}, \"38\": {\"38\": 28}, \"54\": {\"54\": 100}, \"35\": {\"35\": 28}, \"2\": {\"2\": 32}, \"41\": {\"41\": 28}, \"57\": {\"57\": 118}, \"25\": {\"25\": 150}, \"48\": {\"48\": 116}, \"33\": {\"33\": 28}, \"45\": {\"45\": 59, \"17\": 1}, \"13\": {\"13\": 126}, \"36\": {\"36\": 100}, \"43\": {\"43\": 132}, \"28\": {\"28\": 28}, \"0\": {\"0\": 124}, \"12\": {\"12\": 92}, \"31\": {\"31\": 28}, \"40\": {\"40\": 116}, \"44\": {\"44\": 88}, \"32\": {\"32\": 28}, \"26\": {\"26\": 24}, \"8\": {\"8\": 116}, \"10\": {\"10\": 64}, \"15\": {\"15\": 142}, \"21\": {\"21\": 128}, \"37\": {\"37\": 28}, \"17\": {\"17\": 108}, \"51\": {\"51\": 124}, \"53\": {\"53\": 144}, \"19\": {\"19\": 136}, \"49\": {\"49\": 20}, \"11\": {\"11\": 138}, \"22\": {\"22\": 130}}, \"O_8\": {\"13\": {\"0\": 31, \"8\": 4, \"4\": 30, \"6\": 20, \"13\": 44, \"10\": 38, \"7\": 25, \"14\": 27, \"1\": 4, \"15\": 1, \"11\": 7, \"5\": 7, \"2\": 1, \"12\": 1}, \"9\": {\"9\": 236, \"5\": 3, \"10\": 1}, \"15\": {\"12\": 58, \"15\": 53, \"3\": 39, \"8\": 30, \"2\": 20, \"6\": 12, \"7\": 24, \"4\": 1, \"13\": 1, \"11\": 1, \"0\": 1}, \"2\": {\"2\": 72, \"15\": 24, \"3\": 46, \"0\": 16, \"12\": 34, \"7\": 23, \"13\": 3, \"6\": 13, \"14\": 1, \"8\": 7, \"4\": 1}, \"3\": {\"2\": 51, \"12\": 51, \"3\": 95, \"15\": 29, \"7\": 7, \"0\": 1, \"6\": 1, \"8\": 5}, \"8\": {\"12\": 16, \"1\": 9, \"15\": 28, \"8\": 91, \"11\": 19, \"4\": 12, \"2\": 5, \"0\": 6, \"6\": 23, \"13\": 6, \"14\": 3, \"10\": 3, \"3\": 3, \"7\": 16}, \"5\": {\"6\": 2, \"5\": 87, \"10\": 25, \"1\": 49, \"11\": 33, \"14\": 15, \"9\": 2, \"13\": 12, \"8\": 4, \"0\": 4, \"4\": 7}, \"14\": {\"6\": 16, \"14\": 32, \"1\": 28, \"13\": 17, \"10\": 39, \"4\": 35, \"7\": 14, \"11\": 8, \"5\": 27, \"8\": 5, \"0\": 19}, \"1\": {\"5\": 37, \"6\": 5, \"11\": 70, \"10\": 16, \"1\": 58, \"4\": 8, \"14\": 23, \"15\": 1, \"13\": 6, \"0\": 3, \"8\": 12, \"7\": 1}, \"0\": {\"8\": 5, \"10\": 21, \"0\": 55, \"13\": 38, \"7\": 39, \"15\": 3, \"11\": 3, \"6\": 29, \"4\": 21, \"2\": 6, \"14\": 15, \"5\": 5}, \"10\": {\"10\": 59, \"8\": 1, \"4\": 17, \"5\": 32, \"1\": 17, \"13\": 37, \"6\": 12, \"14\": 36, \"0\": 17, \"11\": 9, \"7\": 3}, \"6\": {\"8\": 31, \"2\": 8, \"7\": 39, \"15\": 8, \"3\": 4, \"12\": 4, \"14\": 20, \"13\": 17, \"4\": 31, \"6\": 26, \"1\": 8, \"0\": 26, \"10\": 14, \"11\": 4}, \"11\": {\"14\": 11, \"6\": 6, \"1\": 55, \"11\": 95, \"5\": 34, \"4\": 9, \"10\": 14, \"7\": 3, \"8\": 11, \"13\": 2}, \"7\": {\"14\": 7, \"2\": 13, \"8\": 21, \"13\": 20, \"0\": 39, \"4\": 28, \"6\": 40, \"10\": 8, \"3\": 5, \"7\": 39, \"15\": 14, \"12\": 4, \"11\": 1, \"1\": 1}, \"4\": {\"6\": 25, \"8\": 9, \"11\": 14, \"2\": 2, \"7\": 23, \"5\": 9, \"13\": 28, \"4\": 41, \"15\": 3, \"14\": 27, \"0\": 18, \"1\": 16, \"10\": 25}, \"12\": {\"15\": 50, \"12\": 94, \"3\": 37, \"8\": 23, \"2\": 27, \"7\": 3, \"6\": 4, \"4\": 1, \"0\": 1}}, \"O_38\": {\"13\": {\"2\": 28, \"1\": 23, \"15\": 55, \"11\": 5, \"13\": 80, \"8\": 16, \"5\": 8, \"14\": 9, \"0\": 4, \"10\": 12}, \"12\": {\"12\": 182, \"4\": 34, \"14\": 11, \"11\": 5, \"8\": 4, \"10\": 3, \"15\": 1}, \"2\": {\"2\": 145, \"10\": 8, \"13\": 22, \"14\": 35, \"11\": 17, \"15\": 8, \"1\": 5}, \"9\": {\"9\": 84, \"6\": 83, \"3\": 46, \"5\": 15, \"8\": 3, \"1\": 3, \"0\": 2, \"7\": 3, \"10\": 1}, \"15\": {\"13\": 53, \"1\": 38, \"15\": 78, \"14\": 1, \"5\": 15, \"8\": 18, \"10\": 16, \"2\": 14, \"0\": 4, \"6\": 2, \"7\": 1}, \"5\": {\"15\": 18, \"5\": 47, \"9\": 15, \"0\": 34, \"6\": 27, \"8\": 35, \"7\": 28, \"3\": 5, \"1\": 14, \"10\": 9, \"13\": 8}, \"14\": {\"14\": 137, \"11\": 67, \"10\": 13, \"12\": 7, \"2\": 15, \"13\": 1}, \"0\": {\"8\": 48, \"0\": 72, \"7\": 57, \"13\": 4, \"5\": 15, \"3\": 21, \"6\": 7, \"9\": 2, \"15\": 6, \"10\": 4, \"14\": 1, \"1\": 1, \"12\": 2}, \"3\": {\"3\": 163, \"0\": 12, \"7\": 13, \"6\": 15, \"9\": 32, \"8\": 1, \"5\": 4}, \"1\": {\"1\": 136, \"15\": 37, \"8\": 7, \"10\": 2, \"13\": 36, \"5\": 9, \"6\": 11, \"9\": 1, \"0\": 1}, \"11\": {\"14\": 90, \"11\": 97, \"10\": 15, \"2\": 22, \"12\": 9, \"15\": 3, \"8\": 2, \"13\": 1, \"5\": 1}, \"7\": {\"7\": 116, \"5\": 29, \"0\": 39, \"3\": 7, \"9\": 5, \"4\": 7, \"10\": 8, \"13\": 1, \"6\": 5, \"8\": 23}, \"8\": {\"13\": 19, \"1\": 7, \"7\": 19, \"5\": 37, \"10\": 30, \"8\": 57, \"15\": 24, \"0\": 41, \"6\": 3, \"9\": 3}, \"4\": {\"4\": 183, \"12\": 47, \"7\": 3, \"10\": 5, \"0\": 1, \"8\": 1}, \"10\": {\"12\": 7, \"10\": 98, \"0\": 10, \"13\": 27, \"8\": 18, \"4\": 6, \"5\": 8, \"14\": 11, \"11\": 20, \"7\": 7, \"15\": 22, \"2\": 5, \"1\": 1}, \"6\": {\"3\": 15, \"6\": 108, \"9\": 80, \"5\": 18, \"0\": 7, \"8\": 2, \"1\": 8, \"7\": 1, \"15\": 1}}, \"O_26\": {\"10\": {\"6\": 18, \"10\": 29, \"9\": 17, \"14\": 31, \"15\": 12, \"0\": 30, \"1\": 25, \"4\": 16, \"13\": 7, \"3\": 8, \"5\": 10, \"7\": 12, \"8\": 19, \"2\": 6}, \"12\": {\"12\": 211, \"11\": 16, \"9\": 3, \"13\": 3, \"6\": 6, \"5\": 1}, \"1\": {\"4\": 34, \"7\": 19, \"9\": 2, \"10\": 29, \"8\": 19, \"1\": 49, \"0\": 19, \"14\": 35, \"5\": 4, \"6\": 8, \"3\": 13, \"2\": 8, \"15\": 1}, \"0\": {\"0\": 30, \"4\": 32, \"8\": 21, \"10\": 38, \"5\": 6, \"13\": 1, \"9\": 13, \"1\": 15, \"14\": 29, \"7\": 16, \"6\": 20, \"3\": 11, \"2\": 5, \"15\": 3}, \"15\": {\"15\": 36, \"7\": 17, \"6\": 22, \"8\": 23, \"9\": 25, \"4\": 6, \"5\": 20, \"13\": 32, \"0\": 7, \"1\": 3, \"14\": 4, \"2\": 25, \"10\": 11, \"3\": 9}, \"13\": {\"13\": 64, \"2\": 10, \"12\": 1, \"6\": 27, \"15\": 24, \"5\": 46, \"8\": 12, \"11\": 4, \"9\": 27, \"7\": 8, \"1\": 2, \"3\": 5, \"10\": 6, \"4\": 3, \"0\": 1}, \"8\": {\"4\": 16, \"0\": 30, \"14\": 17, \"8\": 20, \"6\": 22, \"15\": 15, \"2\": 13, \"5\": 21, \"1\": 16, \"3\": 9, \"10\": 25, \"7\": 19, \"9\": 12, \"13\": 5}, \"3\": {\"2\": 47, \"14\": 16, \"0\": 8, \"3\": 53, \"4\": 11, \"7\": 41, \"13\": 3, \"9\": 8, \"5\": 16, \"10\": 6, \"15\": 11, \"1\": 10, \"8\": 7, \"6\": 3}, \"11\": {\"11\": 214, \"13\": 3, \"12\": 21, \"5\": 2}, \"4\": {\"0\": 19, \"10\": 21, \"14\": 35, \"3\": 17, \"7\": 26, \"1\": 34, \"5\": 9, \"15\": 8, \"9\": 10, \"4\": 24, \"8\": 18, \"6\": 6, \"2\": 10, \"13\": 3}, \"6\": {\"9\": 50, \"8\": 18, \"0\": 17, \"6\": 42, \"15\": 26, \"13\": 19, \"5\": 14, \"10\": 22, \"4\": 3, \"14\": 6, \"7\": 7, \"2\": 8, \"3\": 1, \"12\": 3, \"1\": 3, \"11\": 1}, \"7\": {\"7\": 27, \"3\": 55, \"14\": 13, \"1\": 20, \"4\": 20, \"8\": 12, \"5\": 7, \"15\": 17, \"2\": 29, \"6\": 4, \"0\": 13, \"10\": 14, \"13\": 3, \"9\": 6}, \"14\": {\"0\": 28, \"10\": 21, \"4\": 30, \"7\": 27, \"6\": 6, \"3\": 26, \"1\": 27, \"14\": 35, \"8\": 16, \"2\": 10, \"15\": 4, \"5\": 4, \"9\": 3, \"12\": 1, \"13\": 2}, \"2\": {\"7\": 28, \"5\": 29, \"2\": 41, \"15\": 18, \"0\": 6, \"14\": 9, \"4\": 14, \"8\": 9, \"13\": 9, \"6\": 6, \"3\": 50, \"9\": 10, \"1\": 7, \"10\": 4}, \"5\": {\"8\": 16, \"6\": 16, \"2\": 19, \"9\": 25, \"15\": 24, \"1\": 3, \"5\": 43, \"7\": 7, \"4\": 6, \"13\": 55, \"10\": 12, \"14\": 3, \"3\": 10, \"0\": 1}, \"9\": {\"10\": 12, \"0\": 17, \"12\": 2, \"6\": 33, \"11\": 1, \"13\": 27, \"2\": 15, \"9\": 50, \"8\": 12, \"5\": 17, \"15\": 18, \"3\": 7, \"14\": 6, \"4\": 9, \"7\": 12, \"1\": 2}}, \"O_20\": {\"5\": {\"4\": 17, \"12\": 35, \"15\": 26, \"13\": 14, \"5\": 24, \"2\": 13, \"8\": 12, \"0\": 35, \"1\": 30, \"9\": 7, \"3\": 14, \"10\": 2, \"7\": 10, \"11\": 1}, \"15\": {\"15\": 44, \"2\": 11, \"5\": 26, \"13\": 28, \"1\": 38, \"12\": 28, \"0\": 25, \"4\": 3, \"7\": 6, \"9\": 18, \"8\": 4, \"3\": 9}, \"9\": {\"9\": 30, \"12\": 25, \"10\": 10, \"11\": 5, \"15\": 8, \"2\": 31, \"14\": 4, \"3\": 21, \"0\": 13, \"13\": 22, \"6\": 8, \"5\": 13, \"1\": 18, \"4\": 12, \"8\": 8, \"7\": 12}, \"7\": {\"6\": 24, \"8\": 26, \"3\": 14, \"13\": 16, \"7\": 34, \"12\": 8, \"4\": 17, \"2\": 19, \"9\": 11, \"10\": 10, \"0\": 9, \"5\": 10, \"11\": 25, \"14\": 9, \"15\": 4, \"1\": 4}, \"3\": {\"1\": 15, \"6\": 4, \"0\": 13, \"7\": 23, \"9\": 26, \"8\": 16, \"12\": 31, \"4\": 15, \"2\": 28, \"3\": 26, \"13\": 12, \"5\": 17, \"15\": 4, \"10\": 5, \"11\": 3, \"14\": 2}, \"8\": {\"10\": 20, \"8\": 46, \"6\": 22, \"15\": 1, \"4\": 28, \"7\": 25, \"12\": 10, \"3\": 9, \"0\": 10, \"9\": 11, \"2\": 17, \"5\": 4, \"14\": 27, \"13\": 4, \"1\": 4, \"11\": 2}, \"4\": {\"12\": 13, \"6\": 8, \"4\": 48, \"10\": 30, \"15\": 4, \"14\": 11, \"1\": 8, \"8\": 37, \"3\": 17, \"2\": 10, \"9\": 11, \"7\": 13, \"5\": 14, \"0\": 11, \"11\": 2, \"13\": 3}, \"6\": {\"14\": 49, \"6\": 69, \"7\": 21, \"9\": 4, \"11\": 16, \"8\": 22, \"10\": 30, \"4\": 9, \"2\": 5, \"13\": 5, \"3\": 7, \"12\": 2, \"1\": 1}, \"2\": {\"7\": 22, \"9\": 30, \"13\": 24, \"15\": 18, \"12\": 16, \"3\": 19, \"2\": 29, \"8\": 12, \"5\": 15, \"1\": 20, \"4\": 9, \"6\": 5, \"0\": 6, \"10\": 6, \"11\": 9}, \"12\": {\"1\": 27, \"15\": 16, \"9\": 31, \"8\": 13, \"0\": 20, \"2\": 25, \"4\": 13, \"12\": 28, \"5\": 20, \"13\": 10, \"3\": 25, \"7\": 7, \"10\": 3, \"6\": 1, \"11\": 1}, \"0\": {\"5\": 30, \"0\": 66, \"3\": 7, \"1\": 21, \"15\": 31, \"4\": 10, \"12\": 23, \"8\": 15, \"9\": 15, \"11\": 1, \"13\": 8, \"2\": 10, \"7\": 3}, \"13\": {\"9\": 21, \"7\": 13, \"12\": 16, \"5\": 13, \"3\": 4, \"0\": 17, \"2\": 31, \"15\": 28, \"13\": 58, \"11\": 15, \"1\": 15, \"8\": 5, \"6\": 4}, \"10\": {\"3\": 18, \"14\": 35, \"10\": 69, \"2\": 9, \"8\": 15, \"4\": 34, \"6\": 36, \"9\": 8, \"11\": 2, \"5\": 1, \"7\": 7, \"12\": 3, \"13\": 1, \"1\": 2}, \"11\": {\"11\": 169, \"7\": 21, \"2\": 14, \"6\": 13, \"8\": 3, \"13\": 12, \"9\": 1, \"4\": 1, \"14\": 2, \"15\": 1, \"10\": 3}, \"14\": {\"14\": 63, \"11\": 6, \"8\": 32, \"7\": 13, \"10\": 36, \"6\": 59, \"3\": 7, \"4\": 15, \"9\": 2, \"12\": 1, \"2\": 5, \"13\": 1}, \"1\": {\"2\": 14, \"0\": 35, \"9\": 18, \"12\": 34, \"5\": 30, \"15\": 26, \"13\": 9, \"3\": 17, \"1\": 40, \"4\": 11, \"8\": 2, \"10\": 1, \"7\": 3}}, \"O_50\": {\"1\": {\"6\": 30, \"15\": 52, \"1\": 70, \"4\": 46, \"11\": 7, \"14\": 4, \"0\": 6, \"2\": 7, \"5\": 8, \"13\": 7, \"9\": 2, \"7\": 1}, \"2\": {\"2\": 160, \"0\": 58, \"14\": 6, \"1\": 6, \"6\": 6, \"13\": 1, \"10\": 3}, \"8\": {\"3\": 41, \"8\": 144, \"10\": 34, \"0\": 12, \"7\": 8, \"5\": 1}, \"7\": {\"10\": 30, \"7\": 89, \"5\": 30, \"6\": 10, \"13\": 63, \"8\": 4, \"4\": 2, \"1\": 2, \"0\": 7, \"3\": 2, \"15\": 1}, \"14\": {\"12\": 48, \"14\": 136, \"11\": 24, \"15\": 6, \"9\": 14, \"1\": 6, \"2\": 2, \"6\": 3, \"4\": 1}, \"6\": {\"1\": 28, \"13\": 34, \"6\": 82, \"5\": 23, \"10\": 4, \"7\": 17, \"4\": 13, \"15\": 19, \"0\": 7, \"11\": 4, \"2\": 8, \"14\": 1}, \"3\": {\"3\": 193, \"8\": 45, \"10\": 2}, \"4\": {\"1\": 53, \"4\": 54, \"7\": 15, \"15\": 30, \"11\": 11, \"6\": 24, \"2\": 3, \"0\": 2, \"13\": 18, \"5\": 27, \"14\": 2, \"9\": 1}, \"12\": {\"12\": 140, \"14\": 46, \"9\": 32, \"11\": 22}, \"15\": {\"15\": 104, \"11\": 35, \"1\": 36, \"6\": 16, \"4\": 25, \"14\": 10, \"9\": 6, \"12\": 2, \"5\": 3, \"13\": 2, \"7\": 1}, \"11\": {\"15\": 33, \"9\": 54, \"14\": 23, \"11\": 97, \"1\": 12, \"12\": 12, \"4\": 7, \"6\": 2}, \"0\": {\"10\": 43, \"2\": 73, \"0\": 90, \"13\": 11, \"4\": 3, \"6\": 5, \"5\": 8, \"8\": 3, \"1\": 2, \"7\": 2}, \"9\": {\"9\": 123, \"11\": 57, \"14\": 15, \"12\": 42, \"1\": 2, \"15\": 1}, \"10\": {\"10\": 110, \"7\": 32, \"13\": 20, \"8\": 29, \"0\": 33, \"5\": 8, \"2\": 4, \"6\": 4}, \"5\": {\"1\": 19, \"5\": 57, \"6\": 22, \"13\": 61, \"10\": 13, \"4\": 17, \"2\": 2, \"7\": 45, \"15\": 3, \"0\": 1}, \"13\": {\"7\": 58, \"4\": 13, \"13\": 60, \"10\": 18, \"0\": 11, \"5\": 48, \"6\": 21, \"15\": 2, \"2\": 3, \"1\": 5, \"14\": 1}}, \"O_32\": {\"2\": {\"7\": 22, \"4\": 49, \"2\": 115, \"0\": 27, \"13\": 6, \"14\": 5, \"8\": 6, \"5\": 5, \"9\": 2, \"11\": 3}, \"6\": {\"6\": 229, \"12\": 3, \"10\": 7, \"1\": 1}, \"5\": {\"3\": 20, \"7\": 22, \"13\": 35, \"4\": 38, \"14\": 13, \"8\": 22, \"0\": 18, \"5\": 44, \"11\": 11, \"2\": 17}, \"12\": {\"12\": 226, \"9\": 9, \"6\": 5}, \"13\": {\"7\": 15, \"3\": 29, \"5\": 31, \"8\": 42, \"14\": 21, \"13\": 48, \"2\": 7, \"4\": 23, \"11\": 16, \"0\": 8}, \"9\": {\"9\": 218, \"12\": 18, \"2\": 4}, \"11\": {\"3\": 19, \"11\": 89, \"14\": 73, \"0\": 3, \"13\": 18, \"5\": 9, \"7\": 24, \"4\": 2, \"8\": 3}, \"1\": {\"1\": 208, \"10\": 31, \"6\": 1}, \"3\": {\"3\": 125, \"8\": 25, \"11\": 21, \"13\": 34, \"14\": 8, \"5\": 19, \"15\": 2, \"7\": 4, \"4\": 2}, \"7\": {\"7\": 51, \"3\": 7, \"4\": 32, \"13\": 27, \"5\": 30, \"0\": 9, \"11\": 20, \"2\": 23, \"14\": 33, \"8\": 8}, \"14\": {\"11\": 66, \"0\": 26, \"14\": 43, \"3\": 8, \"13\": 14, \"7\": 29, \"4\": 22, \"2\": 5, \"5\": 18, \"8\": 9}, \"8\": {\"8\": 85, \"0\": 36, \"5\": 26, \"13\": 28, \"4\": 15, \"15\": 6, \"3\": 16, \"7\": 7, \"14\": 11, \"11\": 3, \"2\": 7}, \"4\": {\"4\": 67, \"14\": 14, \"13\": 22, \"7\": 33, \"2\": 42, \"11\": 8, \"5\": 19, \"0\": 26, \"8\": 9}, \"0\": {\"14\": 10, \"0\": 108, \"8\": 37, \"2\": 14, \"13\": 14, \"9\": 1, \"5\": 9, \"7\": 12, \"4\": 28, \"11\": 5, \"15\": 2}, \"10\": {\"10\": 192, \"1\": 43, \"12\": 1, \"6\": 4}, \"15\": {\"15\": 224, \"8\": 14, \"3\": 2}}, \"O_44\": {\"13\": {\"4\": 11, \"13\": 90, \"9\": 45, \"6\": 48, \"11\": 31, \"7\": 10, \"14\": 2, \"3\": 1, \"2\": 2}, \"4\": {\"4\": 114, \"5\": 14, \"15\": 18, \"14\": 73, \"13\": 10, \"8\": 1, \"9\": 5, \"0\": 3, \"11\": 1, \"3\": 1}, \"6\": {\"6\": 100, \"7\": 24, \"9\": 36, \"13\": 56, \"11\": 12, \"2\": 8, \"3\": 1, \"4\": 1, \"10\": 2}, \"0\": {\"8\": 68, \"15\": 39, \"0\": 75, \"5\": 48, \"4\": 4, \"14\": 6}, \"10\": {\"10\": 96, \"1\": 38, \"2\": 39, \"12\": 48, \"3\": 15, \"7\": 4}, \"7\": {\"6\": 33, \"2\": 51, \"7\": 66, \"3\": 16, \"10\": 6, \"1\": 7, \"9\": 42, \"13\": 17, \"12\": 2}, \"14\": {\"4\": 67, \"14\": 88, \"5\": 33, \"9\": 1, \"8\": 4, \"15\": 36, \"0\": 11}, \"15\": {\"14\": 41, \"15\": 91, \"5\": 26, \"4\": 18, \"0\": 37, \"8\": 27}, \"5\": {\"15\": 28, \"5\": 107, \"14\": 30, \"8\": 21, \"4\": 7, \"0\": 47}, \"2\": {\"10\": 48, \"7\": 47, \"1\": 30, \"2\": 68, \"9\": 13, \"12\": 7, \"13\": 5, \"6\": 9, \"3\": 13}, \"9\": {\"9\": 79, \"13\": 50, \"6\": 24, \"10\": 4, \"7\": 49, \"2\": 20, \"11\": 5, \"4\": 5, \"1\": 2, \"3\": 2}, \"12\": {\"1\": 51, \"12\": 114, \"10\": 45, \"3\": 22, \"2\": 8}, \"8\": {\"0\": 86, \"5\": 15, \"8\": 105, \"15\": 30, \"4\": 2, \"14\": 2}, \"3\": {\"3\": 151, \"12\": 26, \"1\": 41, \"7\": 11, \"2\": 5, \"10\": 3, \"9\": 3}, \"1\": {\"1\": 68, \"7\": 7, \"12\": 56, \"3\": 47, \"2\": 24, \"6\": 1, \"10\": 37}, \"11\": {\"11\": 180, \"9\": 6, \"6\": 22, \"2\": 1, \"13\": 27, \"7\": 4}}, \"O_14\": {\"1\": {\"4\": 31, \"5\": 50, \"1\": 93, \"3\": 22, \"8\": 14, \"7\": 15, \"14\": 1, \"2\": 8, \"15\": 3, \"13\": 1, \"6\": 2}, \"15\": {\"15\": 161, \"7\": 49, \"5\": 11, \"6\": 5, \"1\": 4, \"14\": 1, \"2\": 7, \"13\": 1, \"4\": 1}, \"10\": {\"10\": 129, \"6\": 3, \"0\": 59, \"4\": 8, \"3\": 10, \"14\": 13, \"11\": 12, \"13\": 4, \"5\": 1, \"9\": 1}, \"2\": {\"2\": 38, \"6\": 38, \"4\": 25, \"5\": 29, \"3\": 26, \"14\": 33, \"13\": 22, \"10\": 4, \"1\": 9, \"7\": 4, \"15\": 8, \"0\": 4}, \"9\": {\"9\": 153, \"12\": 45, \"11\": 30, \"8\": 7, \"0\": 5}, \"5\": {\"1\": 52, \"14\": 9, \"15\": 18, \"5\": 59, \"2\": 27, \"3\": 18, \"4\": 31, \"7\": 17, \"6\": 3, \"13\": 5, \"8\": 1}, \"7\": {\"7\": 150, \"15\": 49, \"1\": 23, \"5\": 13, \"3\": 1, \"13\": 1, \"4\": 1, \"2\": 2}, \"13\": {\"13\": 70, \"4\": 14, \"6\": 55, \"3\": 7, \"14\": 46, \"10\": 7, \"2\": 24, \"0\": 4, \"11\": 1, \"5\": 6, \"7\": 2, \"15\": 3, \"1\": 1}, \"8\": {\"8\": 200, \"0\": 9, \"4\": 4, \"1\": 14, \"9\": 5, \"5\": 1, \"3\": 6, \"7\": 1}, \"6\": {\"13\": 69, \"6\": 84, \"14\": 36, \"1\": 1, \"2\": 27, \"4\": 7, \"15\": 1, \"10\": 5, \"3\": 4, \"5\": 5, \"0\": 1}, \"3\": {\"10\": 14, \"14\": 31, \"0\": 21, \"5\": 23, \"2\": 24, \"4\": 40, \"3\": 55, \"1\": 16, \"6\": 3, \"8\": 5, \"13\": 6, \"7\": 1, \"11\": 1}, \"12\": {\"12\": 199, \"9\": 40, \"11\": 1}, \"0\": {\"0\": 98, \"10\": 47, \"3\": 29, \"11\": 34, \"9\": 8, \"14\": 4, \"8\": 11, \"4\": 9}, \"4\": {\"1\": 31, \"5\": 28, \"4\": 48, \"13\": 7, \"3\": 39, \"2\": 26, \"10\": 11, \"6\": 15, \"14\": 19, \"7\": 3, \"15\": 4, \"0\": 8, \"8\": 1}, \"14\": {\"5\": 11, \"6\": 31, \"3\": 32, \"14\": 71, \"2\": 27, \"0\": 6, \"4\": 16, \"10\": 9, \"13\": 32, \"11\": 1, \"1\": 4}, \"11\": {\"11\": 146, \"0\": 37, \"3\": 1, \"9\": 32, \"10\": 17, \"12\": 5, \"14\": 2}}}, \"per_domain_accuracy\": {\"C_2\": {\"accuracy\": 0.9998224431818182, \"source?\": true}, \"C_5\": {\"accuracy\": 0.9980688202247191, \"source?\": true}, \"C_1\": {\"accuracy\": 0.9994848901098901, \"source?\": true}, \"C_4\": {\"accuracy\": 0.999812874251497, \"source?\": true}, \"C_3\": {\"accuracy\": 0.9989035087719298, \"source?\": true}, \"O_8\": {\"accuracy\": 0.3065104166666667, \"source?\": false}, \"O_38\": {\"accuracy\": 0.46432291666666664, \"source?\": false}, \"O_26\": {\"accuracy\": 0.2520833333333333, \"source?\": false}, \"O_20\": {\"accuracy\": 0.21953125, \"source?\": false}, \"O_50\": {\"accuracy\": 0.44505208333333335, \"source?\": false}, \"O_32\": {\"accuracy\": 0.5395833333333333, \"source?\": false}, \"O_44\": {\"accuracy\": 0.41458333333333336, \"source?\": false}, \"O_14\": {\"accuracy\": 0.45677083333333335, \"source?\": false}}}, \"history\": {\"epoch_indices\": [1, 2, 3, 4, 5, 6, 7, 8, 9, 10], \"train_label_loss\": [0.05156375528478701, 0.013872723558202254, 0.008616122764759211, 0.006022913283286646, 0.005145777734924332, 0.0036177516846498557, 0.0033348531222770583, 0.0030930235904136354, 0.00304765085614989, 0.0024711821491633867], \"source_val_label_loss\": [0.02540402300655842, 0.010542810894548893, 0.008560823276638985, 0.006362765096127987, 0.009090808220207691, 0.0050031766295433044, 0.006353880278766155, 0.005144250113517046, 0.004984482657164335, 0.005617777816951275], \"target_val_label_loss\": [1.8964487314224243, 1.9520337581634521, 1.8460588455200195, 1.9358196258544922, 2.078902006149292, 1.8271644115447998, 2.0503571033477783, 2.314267158508301, 2.33427095413208, 2.3727190494537354], \"source_val_acc_label\": [0.9957808924485125, 0.9981764874141876, 0.9981049771167048, 0.9985697940503433, 0.9979262013729977, 0.9992133867276888, 0.9993921624713958, 0.9992491418764302, 0.9994994279176201, 0.9993921624713958], \"target_val_acc_label\": [0.336328125, 0.3624348958333333, 0.3683268229166667, 0.35543619791666664, 0.338671875, 0.3873046875, 0.35712890625, 0.32841796875, 0.3389973958333333, 0.32890625]}, \"dataset_metrics\": {\"source\": {\"train\": {\"n_unique_x\": 175222, \"n_unique_y\": 58, \"n_batch/episode\": 6312}, \"val\": {\"n_unique_x\": 37135, \"n_unique_y\": 58, \"n_batch/episode\": 874}, \"test\": {\"n_unique_x\": 37673, \"n_unique_y\": 58, \"n_batch/episode\": 893}}, \"target\": {\"train\": {\"n_unique_x\": 179200, \"n_unique_y\": 16, \"n_batch/episode\": 6720}, \"val\": {\"n_unique_x\": 38400, \"n_unique_y\": 16, \"n_batch/episode\": 960}, \"test\": {\"n_unique_x\": 38400, \"n_unique_y\": 16, \"n_batch/episode\": 960}}}}'"
      ]
     },
     "execution_count": 29,
     "metadata": {},
     "output_type": "execute_result"
    }
   ],
   "source": [
    "json.dumps(experiment)"
   ]
  }
 ],
 "metadata": {
  "celltoolbar": "Tags",
  "kernelspec": {
   "display_name": "Python 3 (ipykernel)",
   "language": "python",
   "name": "python3"
  },
  "language_info": {
   "codemirror_mode": {
    "name": "ipython",
    "version": 3
   },
   "file_extension": ".py",
   "mimetype": "text/x-python",
   "name": "python",
   "nbconvert_exporter": "python",
   "pygments_lexer": "ipython3",
   "version": "3.8.12"
  },
  "papermill": {
   "default_parameters": {},
   "duration": 1747.252565,
   "end_time": "2022-03-28T13:49:26.423660",
   "environment_variables": {},
   "exception": null,
   "input_path": "/root/csc500-main/csc500-notebooks/templates/tl_ptn_template.ipynb",
   "output_path": "trial.ipynb",
   "parameters": {
    "parameters": {
     "BEST_MODEL_PATH": "./best_model.pth",
     "NUM_LOGS_PER_EPOCH": 10,
     "criteria_for_best": "target_accuracy",
     "dataset_seed": 154325,
     "datasets": [
      {
       "domain_prefix": "C_",
       "domains": [
        1,
        2,
        3,
        4,
        5
       ],
       "episode_transforms": [],
       "labels": [
        "1-10.",
        "1-11.",
        "1-15.",
        "1-16.",
        "1-17.",
        "1-18.",
        "1-19.",
        "10-4.",
        "10-7.",
        "11-1.",
        "11-14.",
        "11-17.",
        "11-20.",
        "11-7.",
        "13-20.",
        "13-8.",
        "14-10.",
        "14-11.",
        "14-14.",
        "14-7.",
        "15-1.",
        "15-20.",
        "16-1.",
        "16-16.",
        "17-10.",
        "17-11.",
        "17-2.",
        "19-1.",
        "19-16.",
        "19-19.",
        "19-20.",
        "19-3.",
        "2-10.",
        "2-11.",
        "2-17.",
        "2-18.",
        "2-20.",
        "2-3.",
        "2-4.",
        "2-5.",
        "2-6.",
        "2-7.",
        "2-8.",
        "3-13.",
        "3-18.",
        "3-3.",
        "4-1.",
        "4-10.",
        "4-11.",
        "4-19.",
        "5-5.",
        "6-15.",
        "7-10.",
        "7-14.",
        "8-18.",
        "8-20.",
        "8-3.",
        "8-8."
       ],
       "num_examples_per_domain_per_label": -1,
       "pickle_path": "/root/csc500-main/datasets/cores.stratified_ds.2022A.pkl",
       "source_or_target_dataset": "source",
       "x_transforms": [
        "unit_power",
        "jitter_256_5",
        "lowpass_+/-10MHz",
        "take_200"
       ]
      },
      {
       "domain_prefix": "O_",
       "domains": [
        32,
        38,
        8,
        44,
        14,
        50,
        20,
        26
       ],
       "episode_transforms": [],
       "labels": [
        "3123D52",
        "3123D65",
        "3123D79",
        "3123D80",
        "3123D54",
        "3123D70",
        "3123D7B",
        "3123D89",
        "3123D58",
        "3123D76",
        "3123D7D",
        "3123EFE",
        "3123D64",
        "3123D78",
        "3123D7E",
        "3124E4A"
       ],
       "num_examples_per_domain_per_label": 2000,
       "pickle_path": "/root/csc500-main/datasets/oracle.Run1_framed_2000Examples_stratified_ds.2022A.pkl",
       "source_or_target_dataset": "target",
       "x_transforms": [
        "unit_power",
        "jitter_256_5",
        "take_200",
        "resample_20Msps_to_25Msps"
       ]
      }
     ],
     "device": "cuda",
     "experiment_name": "tl_3-jitter5v2:cores -> oracle.run1.framed",
     "lr": 0.0001,
     "n_epoch": 50,
     "n_query": 2,
     "n_shot": 3,
     "n_way": 16,
     "patience": 3,
     "seed": 154325,
     "test_k_factor": 2,
     "torch_default_dtype": "torch.float32",
     "train_k_factor": 3,
     "val_k_factor": 2,
     "x_net": [
      {
       "class": "nnReshape",
       "kargs": {
        "shape": [
         -1,
         1,
         2,
         256
        ]
       }
      },
      {
       "class": "Conv2d",
       "kargs": {
        "bias": false,
        "in_channels": 1,
        "kernel_size": [
         1,
         7
        ],
        "out_channels": 256,
        "padding": [
         0,
         3
        ]
       }
      },
      {
       "class": "ReLU",
       "kargs": {
        "inplace": true
       }
      },
      {
       "class": "BatchNorm2d",
       "kargs": {
        "num_features": 256
       }
      },
      {
       "class": "Conv2d",
       "kargs": {
        "bias": true,
        "in_channels": 256,
        "kernel_size": [
         2,
         7
        ],
        "out_channels": 80,
        "padding": [
         0,
         3
        ]
       }
      },
      {
       "class": "ReLU",
       "kargs": {
        "inplace": true
       }
      },
      {
       "class": "BatchNorm2d",
       "kargs": {
        "num_features": 80
       }
      },
      {
       "class": "Flatten",
       "kargs": {}
      },
      {
       "class": "Linear",
       "kargs": {
        "in_features": 20480,
        "out_features": 256
       }
      },
      {
       "class": "ReLU",
       "kargs": {
        "inplace": true
       }
      },
      {
       "class": "BatchNorm1d",
       "kargs": {
        "num_features": 256
       }
      },
      {
       "class": "Linear",
       "kargs": {
        "in_features": 256,
        "out_features": 256
       }
      }
     ],
     "x_shape": [
      2,
      256
     ]
    }
   },
   "start_time": "2022-03-28T13:20:19.171095",
   "version": "2.3.4"
  }
 },
 "nbformat": 4,
 "nbformat_minor": 5
}