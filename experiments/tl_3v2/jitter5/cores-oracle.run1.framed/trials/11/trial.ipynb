{
 "cells": [
  {
   "cell_type": "markdown",
   "id": "9fea5f46",
   "metadata": {
    "papermill": {
     "duration": 0.031336,
     "end_time": "2022-03-28T14:29:20.564219",
     "exception": false,
     "start_time": "2022-03-28T14:29:20.532883",
     "status": "completed"
    },
    "tags": []
   },
   "source": [
    "# Transfer Learning Template"
   ]
  },
  {
   "cell_type": "code",
   "execution_count": 1,
   "id": "0902182a",
   "metadata": {
    "execution": {
     "iopub.execute_input": "2022-03-28T14:29:20.626079Z",
     "iopub.status.busy": "2022-03-28T14:29:20.614801Z",
     "iopub.status.idle": "2022-03-28T14:29:22.504383Z",
     "shell.execute_reply": "2022-03-28T14:29:22.503899Z"
    },
    "papermill": {
     "duration": 1.917289,
     "end_time": "2022-03-28T14:29:22.504490",
     "exception": false,
     "start_time": "2022-03-28T14:29:20.587201",
     "status": "completed"
    },
    "tags": []
   },
   "outputs": [],
   "source": [
    "%load_ext autoreload\n",
    "%autoreload 2\n",
    "%matplotlib inline\n",
    "\n",
    "    \n",
    "import os, json, sys, time, random\n",
    "import numpy as np\n",
    "import torch\n",
    "from torch.optim import Adam\n",
    "from  easydict import EasyDict\n",
    "import matplotlib.pyplot as plt\n",
    "\n",
    "from steves_models.steves_ptn import Steves_Prototypical_Network\n",
    "\n",
    "from steves_utils.lazy_iterable_wrapper import Lazy_Iterable_Wrapper\n",
    "from steves_utils.iterable_aggregator import Iterable_Aggregator\n",
    "from steves_utils.ptn_train_eval_test_jig import  PTN_Train_Eval_Test_Jig\n",
    "from steves_utils.torch_sequential_builder import build_sequential\n",
    "from steves_utils.torch_utils import get_dataset_metrics, ptn_confusion_by_domain_over_dataloader\n",
    "from steves_utils.utils_v2 import (per_domain_accuracy_from_confusion, get_datasets_base_path)\n",
    "from steves_utils.PTN.utils import independent_accuracy_assesment\n",
    "\n",
    "from torch.utils.data import DataLoader\n",
    "\n",
    "from steves_utils.stratified_dataset.episodic_accessor import Episodic_Accessor_Factory\n",
    "\n",
    "from steves_utils.ptn_do_report import (\n",
    "    get_loss_curve,\n",
    "    get_results_table,\n",
    "    get_parameters_table,\n",
    "    get_domain_accuracies,\n",
    ")\n",
    "\n",
    "from steves_utils.transforms import get_chained_transform"
   ]
  },
  {
   "cell_type": "markdown",
   "id": "41c840b4",
   "metadata": {
    "papermill": {
     "duration": 0.019385,
     "end_time": "2022-03-28T14:29:22.543941",
     "exception": false,
     "start_time": "2022-03-28T14:29:22.524556",
     "status": "completed"
    },
    "tags": []
   },
   "source": [
    "# Allowed Parameters\n",
    "These are allowed parameters, not defaults\n",
    "Each of these values need to be present in the injected parameters (the notebook will raise an exception if they are not present)\n",
    "\n",
    "Papermill uses the cell tag \"parameters\" to inject the real parameters below this cell.\n",
    "Enable tags to see what I mean"
   ]
  },
  {
   "cell_type": "code",
   "execution_count": 2,
   "id": "fd44eb83",
   "metadata": {
    "execution": {
     "iopub.execute_input": "2022-03-28T14:29:22.588517Z",
     "iopub.status.busy": "2022-03-28T14:29:22.588130Z",
     "iopub.status.idle": "2022-03-28T14:29:22.608646Z",
     "shell.execute_reply": "2022-03-28T14:29:22.608270Z"
    },
    "papermill": {
     "duration": 0.045393,
     "end_time": "2022-03-28T14:29:22.608727",
     "exception": false,
     "start_time": "2022-03-28T14:29:22.563334",
     "status": "completed"
    },
    "tags": []
   },
   "outputs": [],
   "source": [
    "required_parameters = {\n",
    "    \"experiment_name\",\n",
    "    \"lr\",\n",
    "    \"device\",\n",
    "    \"seed\",\n",
    "    \"dataset_seed\",\n",
    "    \"n_shot\",\n",
    "    \"n_query\",\n",
    "    \"n_way\",\n",
    "    \"train_k_factor\",\n",
    "    \"val_k_factor\",\n",
    "    \"test_k_factor\",\n",
    "    \"n_epoch\",\n",
    "    \"patience\",\n",
    "    \"criteria_for_best\",\n",
    "    \"x_net\",\n",
    "    \"datasets\",\n",
    "    \"torch_default_dtype\",\n",
    "    \"NUM_LOGS_PER_EPOCH\",\n",
    "    \"BEST_MODEL_PATH\",\n",
    "    \"x_shape\",\n",
    "}"
   ]
  },
  {
   "cell_type": "code",
   "execution_count": 3,
   "id": "fa3f0049",
   "metadata": {
    "execution": {
     "iopub.execute_input": "2022-03-28T14:29:22.662176Z",
     "iopub.status.busy": "2022-03-28T14:29:22.661754Z",
     "iopub.status.idle": "2022-03-28T14:29:22.680343Z",
     "shell.execute_reply": "2022-03-28T14:29:22.679970Z"
    },
    "papermill": {
     "duration": 0.051869,
     "end_time": "2022-03-28T14:29:22.680423",
     "exception": false,
     "start_time": "2022-03-28T14:29:22.628554",
     "status": "completed"
    },
    "tags": [
     "parameters"
    ]
   },
   "outputs": [],
   "source": [
    "from steves_utils.CORES.utils import (\n",
    "    ALL_NODES,\n",
    "    ALL_NODES_MINIMUM_1000_EXAMPLES,\n",
    "    ALL_DAYS\n",
    ")\n",
    "\n",
    "from steves_utils.ORACLE.utils_v2 import (\n",
    "    ALL_DISTANCES_FEET_NARROWED,\n",
    "    ALL_RUNS,\n",
    "    ALL_SERIAL_NUMBERS,\n",
    ")\n",
    "\n",
    "standalone_parameters = {}\n",
    "standalone_parameters[\"experiment_name\"] = \"STANDALONE PTN\"\n",
    "standalone_parameters[\"lr\"] = 0.001\n",
    "standalone_parameters[\"device\"] = \"cuda\"\n",
    "\n",
    "standalone_parameters[\"seed\"] = 1337\n",
    "standalone_parameters[\"dataset_seed\"] = 1337\n",
    "\n",
    "standalone_parameters[\"n_way\"] = 8\n",
    "standalone_parameters[\"n_shot\"] = 3\n",
    "standalone_parameters[\"n_query\"]  = 2\n",
    "standalone_parameters[\"train_k_factor\"] = 1\n",
    "standalone_parameters[\"val_k_factor\"] = 2\n",
    "standalone_parameters[\"test_k_factor\"] = 2\n",
    "\n",
    "\n",
    "standalone_parameters[\"n_epoch\"] = 50\n",
    "\n",
    "standalone_parameters[\"patience\"] = 10\n",
    "standalone_parameters[\"criteria_for_best\"] = \"source_loss\"\n",
    "\n",
    "standalone_parameters[\"datasets\"] = [\n",
    "    {\n",
    "        \"labels\": ALL_SERIAL_NUMBERS,\n",
    "        \"domains\": ALL_DISTANCES_FEET_NARROWED,\n",
    "        \"num_examples_per_domain_per_label\": 100,\n",
    "        \"pickle_path\": os.path.join(get_datasets_base_path(), \"oracle.Run1_framed_2000Examples_stratified_ds.2022A.pkl\"),\n",
    "        \"source_or_target_dataset\": \"source\",\n",
    "        \"x_transforms\": [\"unit_mag\", \"minus_two\"],\n",
    "        \"episode_transforms\": [],\n",
    "        \"domain_prefix\": \"ORACLE_\"\n",
    "    },\n",
    "    {\n",
    "        \"labels\": ALL_NODES,\n",
    "        \"domains\": ALL_DAYS,\n",
    "        \"num_examples_per_domain_per_label\": 100,\n",
    "        \"pickle_path\": os.path.join(get_datasets_base_path(), \"cores.stratified_ds.2022A.pkl\"),\n",
    "        \"source_or_target_dataset\": \"target\",\n",
    "        \"x_transforms\": [\"unit_power\", \"times_zero\"],\n",
    "        \"episode_transforms\": [],\n",
    "        \"domain_prefix\": \"CORES_\"\n",
    "    }   \n",
    "]\n",
    "\n",
    "standalone_parameters[\"torch_default_dtype\"] = \"torch.float32\" \n",
    "\n",
    "\n",
    "\n",
    "standalone_parameters[\"x_net\"] =     [\n",
    "    {\"class\": \"nnReshape\", \"kargs\": {\"shape\":[-1, 1, 2, 256]}},\n",
    "    {\"class\": \"Conv2d\", \"kargs\": { \"in_channels\":1, \"out_channels\":256, \"kernel_size\":(1,7), \"bias\":False, \"padding\":(0,3), },},\n",
    "    {\"class\": \"ReLU\", \"kargs\": {\"inplace\": True}},\n",
    "    {\"class\": \"BatchNorm2d\", \"kargs\": {\"num_features\":256}},\n",
    "\n",
    "    {\"class\": \"Conv2d\", \"kargs\": { \"in_channels\":256, \"out_channels\":80, \"kernel_size\":(2,7), \"bias\":True, \"padding\":(0,3), },},\n",
    "    {\"class\": \"ReLU\", \"kargs\": {\"inplace\": True}},\n",
    "    {\"class\": \"BatchNorm2d\", \"kargs\": {\"num_features\":80}},\n",
    "    {\"class\": \"Flatten\", \"kargs\": {}},\n",
    "\n",
    "    {\"class\": \"Linear\", \"kargs\": {\"in_features\": 80*256, \"out_features\": 256}}, # 80 units per IQ pair\n",
    "    {\"class\": \"ReLU\", \"kargs\": {\"inplace\": True}},\n",
    "    {\"class\": \"BatchNorm1d\", \"kargs\": {\"num_features\":256}},\n",
    "\n",
    "    {\"class\": \"Linear\", \"kargs\": {\"in_features\": 256, \"out_features\": 256}},\n",
    "]\n",
    "\n",
    "# Parameters relevant to results\n",
    "# These parameters will basically never need to change\n",
    "standalone_parameters[\"NUM_LOGS_PER_EPOCH\"] = 10\n",
    "standalone_parameters[\"BEST_MODEL_PATH\"] = \"./best_model.pth\"\n",
    "\n",
    "\n",
    "\n",
    "\n"
   ]
  },
  {
   "cell_type": "code",
   "execution_count": 4,
   "id": "e3d9d221",
   "metadata": {
    "execution": {
     "iopub.execute_input": "2022-03-28T14:29:22.736660Z",
     "iopub.status.busy": "2022-03-28T14:29:22.735685Z",
     "iopub.status.idle": "2022-03-28T14:29:22.755000Z",
     "shell.execute_reply": "2022-03-28T14:29:22.754282Z"
    },
    "papermill": {
     "duration": 0.054951,
     "end_time": "2022-03-28T14:29:22.755165",
     "exception": false,
     "start_time": "2022-03-28T14:29:22.700214",
     "status": "completed"
    },
    "tags": [
     "injected-parameters"
    ]
   },
   "outputs": [],
   "source": [
    "# Parameters\n",
    "parameters = {\n",
    "    \"experiment_name\": \"tl_3-jitter5v2:cores -> oracle.run1.framed\",\n",
    "    \"device\": \"cuda\",\n",
    "    \"lr\": 0.0001,\n",
    "    \"x_shape\": [2, 256],\n",
    "    \"n_shot\": 3,\n",
    "    \"n_query\": 2,\n",
    "    \"train_k_factor\": 3,\n",
    "    \"val_k_factor\": 2,\n",
    "    \"test_k_factor\": 2,\n",
    "    \"torch_default_dtype\": \"torch.float32\",\n",
    "    \"n_epoch\": 50,\n",
    "    \"patience\": 3,\n",
    "    \"criteria_for_best\": \"target_accuracy\",\n",
    "    \"x_net\": [\n",
    "        {\"class\": \"nnReshape\", \"kargs\": {\"shape\": [-1, 1, 2, 256]}},\n",
    "        {\n",
    "            \"class\": \"Conv2d\",\n",
    "            \"kargs\": {\n",
    "                \"in_channels\": 1,\n",
    "                \"out_channels\": 256,\n",
    "                \"kernel_size\": [1, 7],\n",
    "                \"bias\": False,\n",
    "                \"padding\": [0, 3],\n",
    "            },\n",
    "        },\n",
    "        {\"class\": \"ReLU\", \"kargs\": {\"inplace\": True}},\n",
    "        {\"class\": \"BatchNorm2d\", \"kargs\": {\"num_features\": 256}},\n",
    "        {\n",
    "            \"class\": \"Conv2d\",\n",
    "            \"kargs\": {\n",
    "                \"in_channels\": 256,\n",
    "                \"out_channels\": 80,\n",
    "                \"kernel_size\": [2, 7],\n",
    "                \"bias\": True,\n",
    "                \"padding\": [0, 3],\n",
    "            },\n",
    "        },\n",
    "        {\"class\": \"ReLU\", \"kargs\": {\"inplace\": True}},\n",
    "        {\"class\": \"BatchNorm2d\", \"kargs\": {\"num_features\": 80}},\n",
    "        {\"class\": \"Flatten\", \"kargs\": {}},\n",
    "        {\"class\": \"Linear\", \"kargs\": {\"in_features\": 20480, \"out_features\": 256}},\n",
    "        {\"class\": \"ReLU\", \"kargs\": {\"inplace\": True}},\n",
    "        {\"class\": \"BatchNorm1d\", \"kargs\": {\"num_features\": 256}},\n",
    "        {\"class\": \"Linear\", \"kargs\": {\"in_features\": 256, \"out_features\": 256}},\n",
    "    ],\n",
    "    \"NUM_LOGS_PER_EPOCH\": 10,\n",
    "    \"BEST_MODEL_PATH\": \"./best_model.pth\",\n",
    "    \"n_way\": 16,\n",
    "    \"datasets\": [\n",
    "        {\n",
    "            \"labels\": [\n",
    "                \"1-10.\",\n",
    "                \"1-11.\",\n",
    "                \"1-15.\",\n",
    "                \"1-16.\",\n",
    "                \"1-17.\",\n",
    "                \"1-18.\",\n",
    "                \"1-19.\",\n",
    "                \"10-4.\",\n",
    "                \"10-7.\",\n",
    "                \"11-1.\",\n",
    "                \"11-14.\",\n",
    "                \"11-17.\",\n",
    "                \"11-20.\",\n",
    "                \"11-7.\",\n",
    "                \"13-20.\",\n",
    "                \"13-8.\",\n",
    "                \"14-10.\",\n",
    "                \"14-11.\",\n",
    "                \"14-14.\",\n",
    "                \"14-7.\",\n",
    "                \"15-1.\",\n",
    "                \"15-20.\",\n",
    "                \"16-1.\",\n",
    "                \"16-16.\",\n",
    "                \"17-10.\",\n",
    "                \"17-11.\",\n",
    "                \"17-2.\",\n",
    "                \"19-1.\",\n",
    "                \"19-16.\",\n",
    "                \"19-19.\",\n",
    "                \"19-20.\",\n",
    "                \"19-3.\",\n",
    "                \"2-10.\",\n",
    "                \"2-11.\",\n",
    "                \"2-17.\",\n",
    "                \"2-18.\",\n",
    "                \"2-20.\",\n",
    "                \"2-3.\",\n",
    "                \"2-4.\",\n",
    "                \"2-5.\",\n",
    "                \"2-6.\",\n",
    "                \"2-7.\",\n",
    "                \"2-8.\",\n",
    "                \"3-13.\",\n",
    "                \"3-18.\",\n",
    "                \"3-3.\",\n",
    "                \"4-1.\",\n",
    "                \"4-10.\",\n",
    "                \"4-11.\",\n",
    "                \"4-19.\",\n",
    "                \"5-5.\",\n",
    "                \"6-15.\",\n",
    "                \"7-10.\",\n",
    "                \"7-14.\",\n",
    "                \"8-18.\",\n",
    "                \"8-20.\",\n",
    "                \"8-3.\",\n",
    "                \"8-8.\",\n",
    "            ],\n",
    "            \"domains\": [1, 2, 3, 4, 5],\n",
    "            \"num_examples_per_domain_per_label\": -1,\n",
    "            \"pickle_path\": \"/root/csc500-main/datasets/cores.stratified_ds.2022A.pkl\",\n",
    "            \"source_or_target_dataset\": \"source\",\n",
    "            \"x_transforms\": [\"jitter_256_5\", \"lowpass_+/-10MHz\", \"take_200\"],\n",
    "            \"episode_transforms\": [],\n",
    "            \"domain_prefix\": \"C_\",\n",
    "        },\n",
    "        {\n",
    "            \"labels\": [\n",
    "                \"3123D52\",\n",
    "                \"3123D65\",\n",
    "                \"3123D79\",\n",
    "                \"3123D80\",\n",
    "                \"3123D54\",\n",
    "                \"3123D70\",\n",
    "                \"3123D7B\",\n",
    "                \"3123D89\",\n",
    "                \"3123D58\",\n",
    "                \"3123D76\",\n",
    "                \"3123D7D\",\n",
    "                \"3123EFE\",\n",
    "                \"3123D64\",\n",
    "                \"3123D78\",\n",
    "                \"3123D7E\",\n",
    "                \"3124E4A\",\n",
    "            ],\n",
    "            \"domains\": [32, 38, 8, 44, 14, 50, 20, 26],\n",
    "            \"num_examples_per_domain_per_label\": 2000,\n",
    "            \"pickle_path\": \"/root/csc500-main/datasets/oracle.Run1_framed_2000Examples_stratified_ds.2022A.pkl\",\n",
    "            \"source_or_target_dataset\": \"target\",\n",
    "            \"x_transforms\": [\"jitter_256_5\", \"take_200\", \"resample_20Msps_to_25Msps\"],\n",
    "            \"episode_transforms\": [],\n",
    "            \"domain_prefix\": \"O_\",\n",
    "        },\n",
    "    ],\n",
    "    \"seed\": 7,\n",
    "    \"dataset_seed\": 7,\n",
    "}\n"
   ]
  },
  {
   "cell_type": "code",
   "execution_count": 5,
   "id": "8fa1cc33",
   "metadata": {
    "execution": {
     "iopub.execute_input": "2022-03-28T14:29:22.808569Z",
     "iopub.status.busy": "2022-03-28T14:29:22.807943Z",
     "iopub.status.idle": "2022-03-28T14:29:22.826264Z",
     "shell.execute_reply": "2022-03-28T14:29:22.825450Z"
    },
    "papermill": {
     "duration": 0.042203,
     "end_time": "2022-03-28T14:29:22.826428",
     "exception": false,
     "start_time": "2022-03-28T14:29:22.784225",
     "status": "completed"
    },
    "tags": []
   },
   "outputs": [],
   "source": [
    "# Set this to True if you want to run this template directly\n",
    "STANDALONE = False\n",
    "if STANDALONE:\n",
    "    print(\"parameters not injected, running with standalone_parameters\")\n",
    "    parameters = standalone_parameters\n",
    "\n",
    "if not 'parameters' in locals() and not 'parameters' in globals():\n",
    "    raise Exception(\"Parameter injection failed\")\n",
    "\n",
    "#Use an easy dict for all the parameters\n",
    "p = EasyDict(parameters)\n",
    "\n",
    "if \"x_shape\" not in p:\n",
    "    p.x_shape = [2,256] # Default to this if we dont supply x_shape\n",
    "\n",
    "\n",
    "supplied_keys = set(p.keys())\n",
    "\n",
    "if  supplied_keys != required_parameters:\n",
    "    print(\"Parameters are incorrect\")\n",
    "    if len(supplied_keys - required_parameters)>0: print(\"Shouldn't have:\", str(supplied_keys - required_parameters))\n",
    "    if len(required_parameters - supplied_keys)>0: print(\"Need to have:\", str(required_parameters - supplied_keys))\n",
    "    raise RuntimeError(\"Parameters are incorrect\")"
   ]
  },
  {
   "cell_type": "code",
   "execution_count": 6,
   "id": "3a028d58",
   "metadata": {
    "execution": {
     "iopub.execute_input": "2022-03-28T14:29:22.874290Z",
     "iopub.status.busy": "2022-03-28T14:29:22.873914Z",
     "iopub.status.idle": "2022-03-28T14:29:22.891760Z",
     "shell.execute_reply": "2022-03-28T14:29:22.890913Z"
    },
    "papermill": {
     "duration": 0.039949,
     "end_time": "2022-03-28T14:29:22.891927",
     "exception": false,
     "start_time": "2022-03-28T14:29:22.851978",
     "status": "completed"
    },
    "tags": []
   },
   "outputs": [],
   "source": [
    "###################################\n",
    "# Set the RNGs and make it all deterministic\n",
    "###################################\n",
    "np.random.seed(p.seed)\n",
    "random.seed(p.seed)\n",
    "torch.manual_seed(p.seed)\n",
    "\n",
    "torch.use_deterministic_algorithms(True) "
   ]
  },
  {
   "cell_type": "code",
   "execution_count": 7,
   "id": "b691acf6",
   "metadata": {
    "execution": {
     "iopub.execute_input": "2022-03-28T14:29:22.944308Z",
     "iopub.status.busy": "2022-03-28T14:29:22.942287Z",
     "iopub.status.idle": "2022-03-28T14:29:22.962199Z",
     "shell.execute_reply": "2022-03-28T14:29:22.962871Z"
    },
    "papermill": {
     "duration": 0.044146,
     "end_time": "2022-03-28T14:29:22.963067",
     "exception": false,
     "start_time": "2022-03-28T14:29:22.918921",
     "status": "completed"
    },
    "tags": []
   },
   "outputs": [],
   "source": [
    "###########################################\n",
    "# The stratified datasets honor this\n",
    "###########################################\n",
    "torch.set_default_dtype(eval(p.torch_default_dtype))"
   ]
  },
  {
   "cell_type": "code",
   "execution_count": 8,
   "id": "b5fba671",
   "metadata": {
    "execution": {
     "iopub.execute_input": "2022-03-28T14:29:23.016134Z",
     "iopub.status.busy": "2022-03-28T14:29:23.014971Z",
     "iopub.status.idle": "2022-03-28T14:29:23.068579Z",
     "shell.execute_reply": "2022-03-28T14:29:23.067833Z"
    },
    "papermill": {
     "duration": 0.078423,
     "end_time": "2022-03-28T14:29:23.068749",
     "exception": false,
     "start_time": "2022-03-28T14:29:22.990326",
     "status": "completed"
    },
    "tags": []
   },
   "outputs": [],
   "source": [
    "###################################\n",
    "# Build the network(s)\n",
    "# Note: It's critical to do this AFTER setting the RNG\n",
    "###################################\n",
    "x_net = build_sequential(p.x_net)"
   ]
  },
  {
   "cell_type": "code",
   "execution_count": 9,
   "id": "5d7e61cc",
   "metadata": {
    "execution": {
     "iopub.execute_input": "2022-03-28T14:29:23.117826Z",
     "iopub.status.busy": "2022-03-28T14:29:23.117455Z",
     "iopub.status.idle": "2022-03-28T14:29:23.139805Z",
     "shell.execute_reply": "2022-03-28T14:29:23.138966Z"
    },
    "papermill": {
     "duration": 0.046134,
     "end_time": "2022-03-28T14:29:23.139972",
     "exception": false,
     "start_time": "2022-03-28T14:29:23.093838",
     "status": "completed"
    },
    "tags": []
   },
   "outputs": [],
   "source": [
    "start_time_secs = time.time()"
   ]
  },
  {
   "cell_type": "code",
   "execution_count": 10,
   "id": "c6b67dfd",
   "metadata": {
    "execution": {
     "iopub.execute_input": "2022-03-28T14:29:23.188724Z",
     "iopub.status.busy": "2022-03-28T14:29:23.188353Z",
     "iopub.status.idle": "2022-03-28T14:29:23.205891Z",
     "shell.execute_reply": "2022-03-28T14:29:23.205063Z"
    },
    "papermill": {
     "duration": 0.041091,
     "end_time": "2022-03-28T14:29:23.206057",
     "exception": false,
     "start_time": "2022-03-28T14:29:23.164966",
     "status": "completed"
    },
    "tags": []
   },
   "outputs": [],
   "source": [
    "p.domains_source = []\n",
    "p.domains_target = []\n",
    "\n",
    "\n",
    "train_original_source = []\n",
    "val_original_source   = []\n",
    "test_original_source  = []\n",
    "\n",
    "train_original_target = []\n",
    "val_original_target   = []\n",
    "test_original_target  = []"
   ]
  },
  {
   "cell_type": "code",
   "execution_count": 11,
   "id": "e3d9c3d3",
   "metadata": {
    "execution": {
     "iopub.execute_input": "2022-03-28T14:29:23.256509Z",
     "iopub.status.busy": "2022-03-28T14:29:23.255950Z",
     "iopub.status.idle": "2022-03-28T14:29:23.273313Z",
     "shell.execute_reply": "2022-03-28T14:29:23.272517Z"
    },
    "papermill": {
     "duration": 0.040761,
     "end_time": "2022-03-28T14:29:23.273508",
     "exception": false,
     "start_time": "2022-03-28T14:29:23.232747",
     "status": "completed"
    },
    "tags": []
   },
   "outputs": [],
   "source": [
    "# global_x_transform_func = lambda x: normalize(x.to(torch.get_default_dtype()), \"unit_power\") # unit_power, unit_mag\n",
    "# global_x_transform_func = lambda x: normalize(x, \"unit_power\") # unit_power, unit_mag"
   ]
  },
  {
   "cell_type": "code",
   "execution_count": 12,
   "id": "acb78fd2",
   "metadata": {
    "execution": {
     "iopub.execute_input": "2022-03-28T14:29:23.328935Z",
     "iopub.status.busy": "2022-03-28T14:29:23.328297Z",
     "iopub.status.idle": "2022-03-28T14:29:23.346437Z",
     "shell.execute_reply": "2022-03-28T14:29:23.345626Z"
    },
    "papermill": {
     "duration": 0.048482,
     "end_time": "2022-03-28T14:29:23.346593",
     "exception": false,
     "start_time": "2022-03-28T14:29:23.298111",
     "status": "completed"
    },
    "tags": []
   },
   "outputs": [],
   "source": [
    "def add_dataset(\n",
    "    labels,\n",
    "    domains,\n",
    "    pickle_path,\n",
    "    x_transforms,\n",
    "    episode_transforms,\n",
    "    domain_prefix,\n",
    "    num_examples_per_domain_per_label,\n",
    "    source_or_target_dataset:str,\n",
    "    iterator_seed=p.seed,\n",
    "    dataset_seed=p.dataset_seed,\n",
    "    n_shot=p.n_shot,\n",
    "    n_way=p.n_way,\n",
    "    n_query=p.n_query,\n",
    "    train_val_test_k_factors=(p.train_k_factor,p.val_k_factor,p.test_k_factor),\n",
    "):\n",
    "   \n",
    "    if x_transforms == []: x_transform = None\n",
    "    else: x_transform = get_chained_transform(x_transforms)\n",
    "    \n",
    "    if episode_transforms == []: episode_transform = None\n",
    "    else: raise Exception(\"episode_transforms not implemented\")\n",
    "    \n",
    "    episode_transform = lambda tup, _prefix=domain_prefix: (_prefix + str(tup[0]), tup[1])\n",
    "\n",
    "\n",
    "    eaf = Episodic_Accessor_Factory(\n",
    "        labels=labels,\n",
    "        domains=domains,\n",
    "        num_examples_per_domain_per_label=num_examples_per_domain_per_label,\n",
    "        iterator_seed=iterator_seed,\n",
    "        dataset_seed=dataset_seed,\n",
    "        n_shot=n_shot,\n",
    "        n_way=n_way,\n",
    "        n_query=n_query,\n",
    "        train_val_test_k_factors=train_val_test_k_factors,\n",
    "        pickle_path=pickle_path,\n",
    "        x_transform_func=x_transform,\n",
    "    )\n",
    "\n",
    "    train, val, test = eaf.get_train(), eaf.get_val(), eaf.get_test()\n",
    "    train = Lazy_Iterable_Wrapper(train, episode_transform)\n",
    "    val = Lazy_Iterable_Wrapper(val, episode_transform)\n",
    "    test = Lazy_Iterable_Wrapper(test, episode_transform)\n",
    "\n",
    "    if source_or_target_dataset==\"source\":\n",
    "        train_original_source.append(train)\n",
    "        val_original_source.append(val)\n",
    "        test_original_source.append(test)\n",
    "\n",
    "        p.domains_source.extend(\n",
    "            [domain_prefix + str(u) for u in domains]\n",
    "        )\n",
    "    elif source_or_target_dataset==\"target\":\n",
    "        train_original_target.append(train)\n",
    "        val_original_target.append(val)\n",
    "        test_original_target.append(test)\n",
    "        p.domains_target.extend(\n",
    "            [domain_prefix + str(u) for u in domains]\n",
    "        )\n",
    "    else:\n",
    "        raise Exception(f\"invalid source_or_target_dataset: {source_or_target_dataset}\")\n",
    "    "
   ]
  },
  {
   "cell_type": "code",
   "execution_count": 13,
   "id": "fe266617",
   "metadata": {
    "execution": {
     "iopub.execute_input": "2022-03-28T14:29:23.404986Z",
     "iopub.status.busy": "2022-03-28T14:29:23.402006Z",
     "iopub.status.idle": "2022-03-28T14:30:27.555396Z",
     "shell.execute_reply": "2022-03-28T14:30:27.554653Z"
    },
    "papermill": {
     "duration": 64.183208,
     "end_time": "2022-03-28T14:30:27.555602",
     "exception": false,
     "start_time": "2022-03-28T14:29:23.372394",
     "status": "completed"
    },
    "tags": []
   },
   "outputs": [],
   "source": [
    "for ds in p.datasets:\n",
    "    add_dataset(**ds)"
   ]
  },
  {
   "cell_type": "code",
   "execution_count": 14,
   "id": "b90d65ac",
   "metadata": {
    "execution": {
     "iopub.execute_input": "2022-03-28T14:30:27.606295Z",
     "iopub.status.busy": "2022-03-28T14:30:27.605815Z",
     "iopub.status.idle": "2022-03-28T14:30:27.631491Z",
     "shell.execute_reply": "2022-03-28T14:30:27.630688Z"
    },
    "papermill": {
     "duration": 0.050026,
     "end_time": "2022-03-28T14:30:27.631664",
     "exception": false,
     "start_time": "2022-03-28T14:30:27.581638",
     "status": "completed"
    },
    "tags": []
   },
   "outputs": [],
   "source": [
    "# from steves_utils.CORES.utils import (\n",
    "#     ALL_NODES,\n",
    "#     ALL_NODES_MINIMUM_1000_EXAMPLES,\n",
    "#     ALL_DAYS\n",
    "# )\n",
    "\n",
    "# add_dataset(\n",
    "#     labels=ALL_NODES,\n",
    "#     domains = ALL_DAYS,\n",
    "#     num_examples_per_domain_per_label=100,\n",
    "#     pickle_path=os.path.join(get_datasets_base_path(), \"cores.stratified_ds.2022A.pkl\"),\n",
    "#     source_or_target_dataset=\"target\",\n",
    "#     x_transform_func=global_x_transform_func,\n",
    "#     domain_modifier=lambda u: f\"cores_{u}\"\n",
    "# )"
   ]
  },
  {
   "cell_type": "code",
   "execution_count": 15,
   "id": "76db484d",
   "metadata": {
    "execution": {
     "iopub.execute_input": "2022-03-28T14:30:27.684971Z",
     "iopub.status.busy": "2022-03-28T14:30:27.684597Z",
     "iopub.status.idle": "2022-03-28T14:30:27.701500Z",
     "shell.execute_reply": "2022-03-28T14:30:27.700693Z"
    },
    "papermill": {
     "duration": 0.040749,
     "end_time": "2022-03-28T14:30:27.701657",
     "exception": false,
     "start_time": "2022-03-28T14:30:27.660908",
     "status": "completed"
    },
    "tags": []
   },
   "outputs": [],
   "source": [
    "# from steves_utils.ORACLE.utils_v2 import (\n",
    "#     ALL_DISTANCES_FEET,\n",
    "#     ALL_RUNS,\n",
    "#     ALL_SERIAL_NUMBERS,\n",
    "# )\n",
    "\n",
    "\n",
    "# add_dataset(\n",
    "#     labels=ALL_SERIAL_NUMBERS,\n",
    "#     domains = list(set(ALL_DISTANCES_FEET) - {2,62}),\n",
    "#     num_examples_per_domain_per_label=100,\n",
    "#     pickle_path=os.path.join(get_datasets_base_path(), \"oracle.Run2_framed_2000Examples_stratified_ds.2022A.pkl\"),\n",
    "#     source_or_target_dataset=\"source\",\n",
    "#     x_transform_func=global_x_transform_func,\n",
    "#     domain_modifier=lambda u: f\"oracle1_{u}\"\n",
    "# )\n"
   ]
  },
  {
   "cell_type": "code",
   "execution_count": 16,
   "id": "97dea9d2",
   "metadata": {
    "execution": {
     "iopub.execute_input": "2022-03-28T14:30:27.761907Z",
     "iopub.status.busy": "2022-03-28T14:30:27.761084Z",
     "iopub.status.idle": "2022-03-28T14:30:27.773015Z",
     "shell.execute_reply": "2022-03-28T14:30:27.772203Z"
    },
    "papermill": {
     "duration": 0.04475,
     "end_time": "2022-03-28T14:30:27.773172",
     "exception": false,
     "start_time": "2022-03-28T14:30:27.728422",
     "status": "completed"
    },
    "tags": []
   },
   "outputs": [],
   "source": [
    "# from steves_utils.ORACLE.utils_v2 import (\n",
    "#     ALL_DISTANCES_FEET,\n",
    "#     ALL_RUNS,\n",
    "#     ALL_SERIAL_NUMBERS,\n",
    "# )\n",
    "\n",
    "\n",
    "# add_dataset(\n",
    "#     labels=ALL_SERIAL_NUMBERS,\n",
    "#     domains = list(set(ALL_DISTANCES_FEET) - {2,62,56}),\n",
    "#     num_examples_per_domain_per_label=100,\n",
    "#     pickle_path=os.path.join(get_datasets_base_path(), \"oracle.Run2_framed_2000Examples_stratified_ds.2022A.pkl\"),\n",
    "#     source_or_target_dataset=\"source\",\n",
    "#     x_transform_func=global_x_transform_func,\n",
    "#     domain_modifier=lambda u: f\"oracle2_{u}\"\n",
    "# )"
   ]
  },
  {
   "cell_type": "code",
   "execution_count": 17,
   "id": "6f289866",
   "metadata": {
    "execution": {
     "iopub.execute_input": "2022-03-28T14:30:27.826055Z",
     "iopub.status.busy": "2022-03-28T14:30:27.825439Z",
     "iopub.status.idle": "2022-03-28T14:30:27.845932Z",
     "shell.execute_reply": "2022-03-28T14:30:27.845119Z"
    },
    "papermill": {
     "duration": 0.043432,
     "end_time": "2022-03-28T14:30:27.846090",
     "exception": false,
     "start_time": "2022-03-28T14:30:27.802658",
     "status": "completed"
    },
    "tags": []
   },
   "outputs": [],
   "source": [
    "# add_dataset(\n",
    "#     labels=list(range(19)),\n",
    "#     domains = [0,1,2],\n",
    "#     num_examples_per_domain_per_label=100,\n",
    "#     pickle_path=os.path.join(get_datasets_base_path(), \"metehan.stratified_ds.2022A.pkl\"),\n",
    "#     source_or_target_dataset=\"target\",\n",
    "#     x_transform_func=global_x_transform_func,\n",
    "#     domain_modifier=lambda u: f\"met_{u}\"\n",
    "# )"
   ]
  },
  {
   "cell_type": "code",
   "execution_count": 18,
   "id": "86a863c3",
   "metadata": {
    "execution": {
     "iopub.execute_input": "2022-03-28T14:30:27.900174Z",
     "iopub.status.busy": "2022-03-28T14:30:27.899316Z",
     "iopub.status.idle": "2022-03-28T14:30:27.924166Z",
     "shell.execute_reply": "2022-03-28T14:30:27.924845Z"
    },
    "papermill": {
     "duration": 0.052242,
     "end_time": "2022-03-28T14:30:27.925083",
     "exception": false,
     "start_time": "2022-03-28T14:30:27.872841",
     "status": "completed"
    },
    "tags": []
   },
   "outputs": [],
   "source": [
    "# # from steves_utils.wisig.utils import (\n",
    "# #     ALL_NODES_MINIMUM_100_EXAMPLES,\n",
    "# #     ALL_NODES_MINIMUM_500_EXAMPLES,\n",
    "# #     ALL_NODES_MINIMUM_1000_EXAMPLES,\n",
    "# #     ALL_DAYS\n",
    "# # )\n",
    "\n",
    "# import steves_utils.wisig.utils as wisig\n",
    "\n",
    "\n",
    "# add_dataset(\n",
    "#     labels=wisig.ALL_NODES_MINIMUM_100_EXAMPLES,\n",
    "#     domains = wisig.ALL_DAYS,\n",
    "#     num_examples_per_domain_per_label=100,\n",
    "#     pickle_path=os.path.join(get_datasets_base_path(), \"wisig.node3-19.stratified_ds.2022A.pkl\"),\n",
    "#     source_or_target_dataset=\"target\",\n",
    "#     x_transform_func=global_x_transform_func,\n",
    "#     domain_modifier=lambda u: f\"wisig_{u}\"\n",
    "# )"
   ]
  },
  {
   "cell_type": "code",
   "execution_count": 19,
   "id": "fd5442bc",
   "metadata": {
    "execution": {
     "iopub.execute_input": "2022-03-28T14:30:27.984052Z",
     "iopub.status.busy": "2022-03-28T14:30:27.983189Z",
     "iopub.status.idle": "2022-03-28T14:30:28.005922Z",
     "shell.execute_reply": "2022-03-28T14:30:28.005204Z"
    },
    "papermill": {
     "duration": 0.053609,
     "end_time": "2022-03-28T14:30:28.006094",
     "exception": false,
     "start_time": "2022-03-28T14:30:27.952485",
     "status": "completed"
    },
    "tags": []
   },
   "outputs": [],
   "source": [
    "###################################\n",
    "# Build the dataset\n",
    "###################################\n",
    "train_original_source = Iterable_Aggregator(train_original_source, p.seed)\n",
    "val_original_source = Iterable_Aggregator(val_original_source, p.seed)\n",
    "test_original_source = Iterable_Aggregator(test_original_source, p.seed)\n",
    "\n",
    "\n",
    "train_original_target = Iterable_Aggregator(train_original_target, p.seed)\n",
    "val_original_target = Iterable_Aggregator(val_original_target, p.seed)\n",
    "test_original_target = Iterable_Aggregator(test_original_target, p.seed)\n",
    "\n",
    "# For CNN We only use X and Y. And we only train on the source.\n",
    "# Properly form the data using a transform lambda and Lazy_Iterable_Wrapper. Finally wrap them in a dataloader\n",
    "\n",
    "transform_lambda = lambda ex: ex[1] # Original is (<domain>, <episode>) so we strip down to episode only\n",
    "\n",
    "train_processed_source = Lazy_Iterable_Wrapper(train_original_source, transform_lambda)\n",
    "val_processed_source   = Lazy_Iterable_Wrapper(val_original_source, transform_lambda)\n",
    "test_processed_source  = Lazy_Iterable_Wrapper(test_original_source, transform_lambda)\n",
    "\n",
    "train_processed_target = Lazy_Iterable_Wrapper(train_original_target, transform_lambda)\n",
    "val_processed_target   = Lazy_Iterable_Wrapper(val_original_target, transform_lambda)\n",
    "test_processed_target  = Lazy_Iterable_Wrapper(test_original_target, transform_lambda)\n",
    "\n",
    "datasets = EasyDict({\n",
    "    \"source\": {\n",
    "        \"original\": {\"train\":train_original_source, \"val\":val_original_source, \"test\":test_original_source},\n",
    "        \"processed\": {\"train\":train_processed_source, \"val\":val_processed_source, \"test\":test_processed_source}\n",
    "    },\n",
    "    \"target\": {\n",
    "        \"original\": {\"train\":train_original_target, \"val\":val_original_target, \"test\":test_original_target},\n",
    "        \"processed\": {\"train\":train_processed_target, \"val\":val_processed_target, \"test\":test_processed_target}\n",
    "    },\n",
    "})"
   ]
  },
  {
   "cell_type": "code",
   "execution_count": 20,
   "id": "5b3c01fc",
   "metadata": {
    "execution": {
     "iopub.execute_input": "2022-03-28T14:30:28.059810Z",
     "iopub.status.busy": "2022-03-28T14:30:28.059403Z",
     "iopub.status.idle": "2022-03-28T14:30:42.061290Z",
     "shell.execute_reply": "2022-03-28T14:30:42.060545Z"
    },
    "papermill": {
     "duration": 14.028241,
     "end_time": "2022-03-28T14:30:42.061469",
     "exception": false,
     "start_time": "2022-03-28T14:30:28.033228",
     "status": "completed"
    },
    "tags": []
   },
   "outputs": [
    {
     "name": "stdout",
     "output_type": "stream",
     "text": [
      "{'C_2', 'C_1', 'C_5', 'C_4', 'C_3'}\n"
     ]
    },
    {
     "name": "stdout",
     "output_type": "stream",
     "text": [
      "{'O_26', 'O_8', 'O_14', 'O_50', 'O_44', 'O_32', 'O_38', 'O_20'}\n"
     ]
    },
    {
     "name": "stdout",
     "output_type": "stream",
     "text": [
      "tensor([[[0., 0., 0.,  ..., 0., 0., 0.],\n",
      "         [0., 0., 0.,  ..., 0., 0., 0.]],\n",
      "\n",
      "        [[0., 0., 0.,  ..., 0., 0., 0.],\n",
      "         [0., 0., 0.,  ..., 0., 0., 0.]],\n",
      "\n",
      "        [[0., 0., 0.,  ..., 0., 0., 0.],\n",
      "         [0., 0., 0.,  ..., 0., 0., 0.]],\n",
      "\n",
      "        ...,\n",
      "\n",
      "        [[0., 0., 0.,  ..., 0., 0., 0.],\n",
      "         [0., 0., 0.,  ..., 0., 0., 0.]],\n",
      "\n",
      "        [[0., 0., 0.,  ..., 0., 0., 0.],\n",
      "         [0., 0., 0.,  ..., 0., 0., 0.]],\n",
      "\n",
      "        [[0., 0., 0.,  ..., 0., 0., 0.],\n",
      "         [0., 0., 0.,  ..., 0., 0., 0.]]])\n"
     ]
    }
   ],
   "source": [
    "from steves_utils.transforms import get_average_magnitude, get_average_power\n",
    "\n",
    "print(set([u for u,_ in val_original_source]))\n",
    "print(set([u for u,_ in val_original_target]))\n",
    "\n",
    "s_x, s_y, q_x, q_y, _ = next(iter(train_processed_source))\n",
    "print(s_x)\n",
    "\n",
    "# for ds in [\n",
    "#     train_processed_source,\n",
    "#     val_processed_source,\n",
    "#     test_processed_source,\n",
    "#     train_processed_target,\n",
    "#     val_processed_target,\n",
    "#     test_processed_target\n",
    "# ]:\n",
    "#     for s_x, s_y, q_x, q_y, _ in ds:\n",
    "#         for X in (s_x, q_x):\n",
    "#             for x in X:\n",
    "#                 assert np.isclose(get_average_magnitude(x.numpy()), 1.0)\n",
    "#                 assert np.isclose(get_average_power(x.numpy()), 1.0)\n",
    "                "
   ]
  },
  {
   "cell_type": "code",
   "execution_count": 21,
   "id": "bbdacba1",
   "metadata": {
    "execution": {
     "iopub.execute_input": "2022-03-28T14:30:42.119366Z",
     "iopub.status.busy": "2022-03-28T14:30:42.118968Z",
     "iopub.status.idle": "2022-03-28T14:30:42.287261Z",
     "shell.execute_reply": "2022-03-28T14:30:42.286570Z"
    },
    "papermill": {
     "duration": 0.195727,
     "end_time": "2022-03-28T14:30:42.287447",
     "exception": false,
     "start_time": "2022-03-28T14:30:42.091720",
     "status": "completed"
    },
    "tags": []
   },
   "outputs": [
    {
     "name": "stdout",
     "output_type": "stream",
     "text": [
      "(2, 256)\n"
     ]
    }
   ],
   "source": [
    "###################################\n",
    "# Build the model\n",
    "###################################\n",
    "# easfsl only wants a tuple for the shape\n",
    "model = Steves_Prototypical_Network(x_net, device=p.device, x_shape=tuple(p.x_shape))\n",
    "optimizer = Adam(params=model.parameters(), lr=p.lr)"
   ]
  },
  {
   "cell_type": "code",
   "execution_count": 22,
   "id": "22b39ac5",
   "metadata": {
    "execution": {
     "iopub.execute_input": "2022-03-28T14:30:42.355503Z",
     "iopub.status.busy": "2022-03-28T14:30:42.354676Z",
     "iopub.status.idle": "2022-03-28T14:58:20.323705Z",
     "shell.execute_reply": "2022-03-28T14:58:20.323335Z"
    },
    "papermill": {
     "duration": 1658.00881,
     "end_time": "2022-03-28T14:58:20.323793",
     "exception": false,
     "start_time": "2022-03-28T14:30:42.314983",
     "status": "completed"
    },
    "tags": []
   },
   "outputs": [
    {
     "name": "stdout",
     "output_type": "stream",
     "text": [
      "epoch: 1, [batch: 1 / 6316], examples_per_second: 34.0060, train_label_loss: 2.1602, \n"
     ]
    },
    {
     "name": "stdout",
     "output_type": "stream",
     "text": [
      "epoch: 1, [batch: 632 / 6316], examples_per_second: 3740.6793, train_label_loss: 0.1435, \n"
     ]
    },
    {
     "name": "stdout",
     "output_type": "stream",
     "text": [
      "epoch: 1, [batch: 1264 / 6316], examples_per_second: 3887.0878, train_label_loss: 0.0133, \n"
     ]
    },
    {
     "name": "stdout",
     "output_type": "stream",
     "text": [
      "epoch: 1, [batch: 1895 / 6316], examples_per_second: 3789.9084, train_label_loss: 0.0107, \n"
     ]
    },
    {
     "name": "stdout",
     "output_type": "stream",
     "text": [
      "epoch: 1, [batch: 2527 / 6316], examples_per_second: 4047.7717, train_label_loss: 0.0483, \n"
     ]
    },
    {
     "name": "stdout",
     "output_type": "stream",
     "text": [
      "epoch: 1, [batch: 3158 / 6316], examples_per_second: 4319.7164, train_label_loss: 0.0034, \n"
     ]
    },
    {
     "name": "stdout",
     "output_type": "stream",
     "text": [
      "epoch: 1, [batch: 3790 / 6316], examples_per_second: 4126.3465, train_label_loss: 0.0002, \n"
     ]
    },
    {
     "name": "stdout",
     "output_type": "stream",
     "text": [
      "epoch: 1, [batch: 4421 / 6316], examples_per_second: 3842.2816, train_label_loss: 0.0063, \n"
     ]
    },
    {
     "name": "stdout",
     "output_type": "stream",
     "text": [
      "epoch: 1, [batch: 5053 / 6316], examples_per_second: 3919.3505, train_label_loss: 0.0367, \n"
     ]
    },
    {
     "name": "stdout",
     "output_type": "stream",
     "text": [
      "epoch: 1, [batch: 5684 / 6316], examples_per_second: 3851.0711, train_label_loss: 0.0008, \n"
     ]
    },
    {
     "name": "stdout",
     "output_type": "stream",
     "text": [
      "=============================================================\n",
      "epoch: 1, source_val_acc_label: 0.9956, target_val_acc_label: 0.3119, source_val_label_loss: 0.0751, target_val_label_loss: 22.1876, \n",
      "=============================================================\n"
     ]
    },
    {
     "name": "stdout",
     "output_type": "stream",
     "text": [
      "New best\n"
     ]
    },
    {
     "name": "stdout",
     "output_type": "stream",
     "text": [
      "epoch: 2, [batch: 1 / 6296], examples_per_second: 4.1312, train_label_loss: 0.0526, \n"
     ]
    },
    {
     "name": "stdout",
     "output_type": "stream",
     "text": [
      "epoch: 2, [batch: 630 / 6296], examples_per_second: 3815.4209, train_label_loss: 0.0545, \n"
     ]
    },
    {
     "name": "stdout",
     "output_type": "stream",
     "text": [
      "epoch: 2, [batch: 1260 / 6296], examples_per_second: 3845.4558, train_label_loss: 0.0016, \n"
     ]
    },
    {
     "name": "stdout",
     "output_type": "stream",
     "text": [
      "epoch: 2, [batch: 1889 / 6296], examples_per_second: 3848.9351, train_label_loss: 0.0043, \n"
     ]
    },
    {
     "name": "stdout",
     "output_type": "stream",
     "text": [
      "epoch: 2, [batch: 2519 / 6296], examples_per_second: 4074.5126, train_label_loss: 0.0074, \n"
     ]
    },
    {
     "name": "stdout",
     "output_type": "stream",
     "text": [
      "epoch: 2, [batch: 3148 / 6296], examples_per_second: 4337.4494, train_label_loss: 0.0110, \n"
     ]
    },
    {
     "name": "stdout",
     "output_type": "stream",
     "text": [
      "epoch: 2, [batch: 3778 / 6296], examples_per_second: 4107.2712, train_label_loss: 0.0021, \n"
     ]
    },
    {
     "name": "stdout",
     "output_type": "stream",
     "text": [
      "epoch: 2, [batch: 4407 / 6296], examples_per_second: 3801.0518, train_label_loss: 0.0118, \n"
     ]
    },
    {
     "name": "stdout",
     "output_type": "stream",
     "text": [
      "epoch: 2, [batch: 5037 / 6296], examples_per_second: 3863.7468, train_label_loss: 0.2187, \n"
     ]
    },
    {
     "name": "stdout",
     "output_type": "stream",
     "text": [
      "epoch: 2, [batch: 5666 / 6296], examples_per_second: 3906.9391, train_label_loss: 0.0021, \n"
     ]
    },
    {
     "name": "stdout",
     "output_type": "stream",
     "text": [
      "=============================================================\n",
      "epoch: 2, source_val_acc_label: 0.9975, target_val_acc_label: 0.4362, source_val_label_loss: 0.0131, target_val_label_loss: 2.1926, \n",
      "=============================================================\n"
     ]
    },
    {
     "name": "stdout",
     "output_type": "stream",
     "text": [
      "New best\n"
     ]
    },
    {
     "name": "stdout",
     "output_type": "stream",
     "text": [
      "epoch: 3, [batch: 1 / 6299], examples_per_second: 4.0717, train_label_loss: 1.1579, \n"
     ]
    },
    {
     "name": "stdout",
     "output_type": "stream",
     "text": [
      "epoch: 3, [batch: 630 / 6299], examples_per_second: 3898.8944, train_label_loss: 0.0170, \n"
     ]
    },
    {
     "name": "stdout",
     "output_type": "stream",
     "text": [
      "epoch: 3, [batch: 1260 / 6299], examples_per_second: 3922.4700, train_label_loss: 0.0001, \n"
     ]
    },
    {
     "name": "stdout",
     "output_type": "stream",
     "text": [
      "epoch: 3, [batch: 1890 / 6299], examples_per_second: 3953.6749, train_label_loss: 0.0020, \n"
     ]
    },
    {
     "name": "stdout",
     "output_type": "stream",
     "text": [
      "epoch: 3, [batch: 2520 / 6299], examples_per_second: 4372.3002, train_label_loss: 0.0000, \n"
     ]
    },
    {
     "name": "stdout",
     "output_type": "stream",
     "text": [
      "epoch: 3, [batch: 3150 / 6299], examples_per_second: 4657.2011, train_label_loss: 0.0508, \n"
     ]
    },
    {
     "name": "stdout",
     "output_type": "stream",
     "text": [
      "epoch: 3, [batch: 3779 / 6299], examples_per_second: 4078.0183, train_label_loss: 0.0013, \n"
     ]
    },
    {
     "name": "stdout",
     "output_type": "stream",
     "text": [
      "epoch: 3, [batch: 4409 / 6299], examples_per_second: 3788.1152, train_label_loss: 0.0000, \n"
     ]
    },
    {
     "name": "stdout",
     "output_type": "stream",
     "text": [
      "epoch: 3, [batch: 5039 / 6299], examples_per_second: 3874.2141, train_label_loss: 0.0016, \n"
     ]
    },
    {
     "name": "stdout",
     "output_type": "stream",
     "text": [
      "epoch: 3, [batch: 5669 / 6299], examples_per_second: 3954.2009, train_label_loss: 0.0000, \n"
     ]
    },
    {
     "name": "stdout",
     "output_type": "stream",
     "text": [
      "=============================================================\n",
      "epoch: 3, source_val_acc_label: 0.9980, target_val_acc_label: 0.4723, source_val_label_loss: 0.0105, target_val_label_loss: 1.7356, \n",
      "=============================================================\n"
     ]
    },
    {
     "name": "stdout",
     "output_type": "stream",
     "text": [
      "New best\n"
     ]
    },
    {
     "name": "stdout",
     "output_type": "stream",
     "text": [
      "epoch: 4, [batch: 1 / 6316], examples_per_second: 4.1228, train_label_loss: 0.0042, \n"
     ]
    },
    {
     "name": "stdout",
     "output_type": "stream",
     "text": [
      "epoch: 4, [batch: 632 / 6316], examples_per_second: 3818.0008, train_label_loss: 0.0004, \n"
     ]
    },
    {
     "name": "stdout",
     "output_type": "stream",
     "text": [
      "epoch: 4, [batch: 1264 / 6316], examples_per_second: 3974.7513, train_label_loss: 0.0116, \n"
     ]
    },
    {
     "name": "stdout",
     "output_type": "stream",
     "text": [
      "epoch: 4, [batch: 1895 / 6316], examples_per_second: 3914.1481, train_label_loss: 0.0171, \n"
     ]
    },
    {
     "name": "stdout",
     "output_type": "stream",
     "text": [
      "epoch: 4, [batch: 2527 / 6316], examples_per_second: 4381.2880, train_label_loss: 0.0005, \n"
     ]
    },
    {
     "name": "stdout",
     "output_type": "stream",
     "text": [
      "epoch: 4, [batch: 3158 / 6316], examples_per_second: 4449.9583, train_label_loss: 0.0006, \n"
     ]
    },
    {
     "name": "stdout",
     "output_type": "stream",
     "text": [
      "epoch: 4, [batch: 3790 / 6316], examples_per_second: 4245.6791, train_label_loss: 0.0000, \n"
     ]
    },
    {
     "name": "stdout",
     "output_type": "stream",
     "text": [
      "epoch: 4, [batch: 4421 / 6316], examples_per_second: 3996.0948, train_label_loss: 0.0000, \n"
     ]
    },
    {
     "name": "stdout",
     "output_type": "stream",
     "text": [
      "epoch: 4, [batch: 5053 / 6316], examples_per_second: 4017.3450, train_label_loss: 0.0002, \n"
     ]
    },
    {
     "name": "stdout",
     "output_type": "stream",
     "text": [
      "epoch: 4, [batch: 5684 / 6316], examples_per_second: 3862.3921, train_label_loss: 0.0003, \n"
     ]
    },
    {
     "name": "stdout",
     "output_type": "stream",
     "text": [
      "=============================================================\n",
      "epoch: 4, source_val_acc_label: 0.9981, target_val_acc_label: 0.3954, source_val_label_loss: 0.0100, target_val_label_loss: 5.2917, \n",
      "=============================================================\n"
     ]
    },
    {
     "name": "stdout",
     "output_type": "stream",
     "text": [
      "epoch: 5, [batch: 1 / 6313], examples_per_second: 4.1310, train_label_loss: 0.0006, \n"
     ]
    },
    {
     "name": "stdout",
     "output_type": "stream",
     "text": [
      "epoch: 5, [batch: 632 / 6313], examples_per_second: 3793.3624, train_label_loss: 0.0130, \n"
     ]
    },
    {
     "name": "stdout",
     "output_type": "stream",
     "text": [
      "epoch: 5, [batch: 1263 / 6313], examples_per_second: 3787.1742, train_label_loss: 0.0001, \n"
     ]
    },
    {
     "name": "stdout",
     "output_type": "stream",
     "text": [
      "epoch: 5, [batch: 1894 / 6313], examples_per_second: 3834.7853, train_label_loss: 0.0001, \n"
     ]
    },
    {
     "name": "stdout",
     "output_type": "stream",
     "text": [
      "epoch: 5, [batch: 2525 / 6313], examples_per_second: 4193.7932, train_label_loss: 0.0017, \n"
     ]
    },
    {
     "name": "stdout",
     "output_type": "stream",
     "text": [
      "epoch: 5, [batch: 3157 / 6313], examples_per_second: 4365.2176, train_label_loss: 0.0000, \n"
     ]
    },
    {
     "name": "stdout",
     "output_type": "stream",
     "text": [
      "epoch: 5, [batch: 3788 / 6313], examples_per_second: 4190.6884, train_label_loss: 0.0069, \n"
     ]
    },
    {
     "name": "stdout",
     "output_type": "stream",
     "text": [
      "epoch: 5, [batch: 4419 / 6313], examples_per_second: 3930.4152, train_label_loss: 0.0000, \n"
     ]
    },
    {
     "name": "stdout",
     "output_type": "stream",
     "text": [
      "epoch: 5, [batch: 5050 / 6313], examples_per_second: 3957.5399, train_label_loss: 0.0000, \n"
     ]
    },
    {
     "name": "stdout",
     "output_type": "stream",
     "text": [
      "epoch: 5, [batch: 5681 / 6313], examples_per_second: 4033.7156, train_label_loss: 0.0007, \n"
     ]
    },
    {
     "name": "stdout",
     "output_type": "stream",
     "text": [
      "=============================================================\n",
      "epoch: 5, source_val_acc_label: 0.9969, target_val_acc_label: 0.3776, source_val_label_loss: 0.0159, target_val_label_loss: 6.6110, \n",
      "=============================================================\n"
     ]
    },
    {
     "name": "stdout",
     "output_type": "stream",
     "text": [
      "epoch: 6, [batch: 1 / 6307], examples_per_second: 4.1067, train_label_loss: 0.0009, \n"
     ]
    },
    {
     "name": "stdout",
     "output_type": "stream",
     "text": [
      "epoch: 6, [batch: 631 / 6307], examples_per_second: 3964.1606, train_label_loss: 0.0000, \n"
     ]
    },
    {
     "name": "stdout",
     "output_type": "stream",
     "text": [
      "epoch: 6, [batch: 1262 / 6307], examples_per_second: 4028.8754, train_label_loss: 0.0006, \n"
     ]
    },
    {
     "name": "stdout",
     "output_type": "stream",
     "text": [
      "epoch: 6, [batch: 1892 / 6307], examples_per_second: 4069.2656, train_label_loss: 0.0012, \n"
     ]
    },
    {
     "name": "stdout",
     "output_type": "stream",
     "text": [
      "epoch: 6, [batch: 2523 / 6307], examples_per_second: 4249.2611, train_label_loss: 0.0001, \n"
     ]
    },
    {
     "name": "stdout",
     "output_type": "stream",
     "text": [
      "epoch: 6, [batch: 3154 / 6307], examples_per_second: 4557.8179, train_label_loss: 0.0000, \n"
     ]
    },
    {
     "name": "stdout",
     "output_type": "stream",
     "text": [
      "epoch: 6, [batch: 3784 / 6307], examples_per_second: 3963.2924, train_label_loss: 0.0000, \n"
     ]
    },
    {
     "name": "stdout",
     "output_type": "stream",
     "text": [
      "epoch: 6, [batch: 4415 / 6307], examples_per_second: 3947.7143, train_label_loss: 0.0000, \n"
     ]
    },
    {
     "name": "stdout",
     "output_type": "stream",
     "text": [
      "epoch: 6, [batch: 5045 / 6307], examples_per_second: 3989.6970, train_label_loss: 0.0000, \n"
     ]
    },
    {
     "name": "stdout",
     "output_type": "stream",
     "text": [
      "epoch: 6, [batch: 5676 / 6307], examples_per_second: 3977.9093, train_label_loss: 0.0090, \n"
     ]
    },
    {
     "name": "stdout",
     "output_type": "stream",
     "text": [
      "=============================================================\n",
      "epoch: 6, source_val_acc_label: 0.9985, target_val_acc_label: 0.4188, source_val_label_loss: 0.0109, target_val_label_loss: 1.7413, \n",
      "=============================================================\n"
     ]
    },
    {
     "name": "stdout",
     "output_type": "stream",
     "text": [
      "epoch: 7, [batch: 1 / 6303], examples_per_second: 4.1103, train_label_loss: 0.0078, \n"
     ]
    },
    {
     "name": "stdout",
     "output_type": "stream",
     "text": [
      "epoch: 7, [batch: 631 / 6303], examples_per_second: 3835.3664, train_label_loss: 0.0013, \n"
     ]
    },
    {
     "name": "stdout",
     "output_type": "stream",
     "text": [
      "epoch: 7, [batch: 1261 / 6303], examples_per_second: 3971.3439, train_label_loss: 0.0000, \n"
     ]
    },
    {
     "name": "stdout",
     "output_type": "stream",
     "text": [
      "epoch: 7, [batch: 1891 / 6303], examples_per_second: 4096.6628, train_label_loss: 0.0000, \n"
     ]
    },
    {
     "name": "stdout",
     "output_type": "stream",
     "text": [
      "epoch: 7, [batch: 2521 / 6303], examples_per_second: 4386.5484, train_label_loss: 0.0000, \n"
     ]
    },
    {
     "name": "stdout",
     "output_type": "stream",
     "text": [
      "epoch: 7, [batch: 3152 / 6303], examples_per_second: 4850.5558, train_label_loss: 0.0000, \n"
     ]
    },
    {
     "name": "stdout",
     "output_type": "stream",
     "text": [
      "epoch: 7, [batch: 3782 / 6303], examples_per_second: 4136.3972, train_label_loss: 0.0000, \n"
     ]
    },
    {
     "name": "stdout",
     "output_type": "stream",
     "text": [
      "epoch: 7, [batch: 4412 / 6303], examples_per_second: 3944.2876, train_label_loss: 0.0000, \n"
     ]
    },
    {
     "name": "stdout",
     "output_type": "stream",
     "text": [
      "epoch: 7, [batch: 5042 / 6303], examples_per_second: 3933.2715, train_label_loss: 0.0013, \n"
     ]
    },
    {
     "name": "stdout",
     "output_type": "stream",
     "text": [
      "epoch: 7, [batch: 5672 / 6303], examples_per_second: 4022.8939, train_label_loss: 0.0005, \n"
     ]
    },
    {
     "name": "stdout",
     "output_type": "stream",
     "text": [
      "=============================================================\n",
      "epoch: 7, source_val_acc_label: 0.9982, target_val_acc_label: 0.4742, source_val_label_loss: 0.0169, target_val_label_loss: 1.6974, \n",
      "=============================================================\n"
     ]
    },
    {
     "name": "stdout",
     "output_type": "stream",
     "text": [
      "New best\n"
     ]
    },
    {
     "name": "stdout",
     "output_type": "stream",
     "text": [
      "epoch: 8, [batch: 1 / 6292], examples_per_second: 4.1229, train_label_loss: 0.0001, \n"
     ]
    },
    {
     "name": "stdout",
     "output_type": "stream",
     "text": [
      "epoch: 8, [batch: 630 / 6292], examples_per_second: 3813.7411, train_label_loss: 0.0000, \n"
     ]
    },
    {
     "name": "stdout",
     "output_type": "stream",
     "text": [
      "epoch: 8, [batch: 1259 / 6292], examples_per_second: 3918.0913, train_label_loss: 0.0000, \n"
     ]
    },
    {
     "name": "stdout",
     "output_type": "stream",
     "text": [
      "epoch: 8, [batch: 1888 / 6292], examples_per_second: 3993.5151, train_label_loss: 0.0000, \n"
     ]
    },
    {
     "name": "stdout",
     "output_type": "stream",
     "text": [
      "epoch: 8, [batch: 2517 / 6292], examples_per_second: 4341.2567, train_label_loss: 0.0000, \n"
     ]
    },
    {
     "name": "stdout",
     "output_type": "stream",
     "text": [
      "epoch: 8, [batch: 3146 / 6292], examples_per_second: 4459.8079, train_label_loss: 0.0013, \n"
     ]
    },
    {
     "name": "stdout",
     "output_type": "stream",
     "text": [
      "epoch: 8, [batch: 3775 / 6292], examples_per_second: 4035.0931, train_label_loss: 0.0005, \n"
     ]
    },
    {
     "name": "stdout",
     "output_type": "stream",
     "text": [
      "epoch: 8, [batch: 4404 / 6292], examples_per_second: 3812.0514, train_label_loss: 0.0002, \n"
     ]
    },
    {
     "name": "stdout",
     "output_type": "stream",
     "text": [
      "epoch: 8, [batch: 5033 / 6292], examples_per_second: 3935.1258, train_label_loss: 0.0005, \n"
     ]
    },
    {
     "name": "stdout",
     "output_type": "stream",
     "text": [
      "epoch: 8, [batch: 5662 / 6292], examples_per_second: 3819.2304, train_label_loss: 0.0000, \n"
     ]
    },
    {
     "name": "stdout",
     "output_type": "stream",
     "text": [
      "=============================================================\n",
      "epoch: 8, source_val_acc_label: 0.9994, target_val_acc_label: 0.4449, source_val_label_loss: 0.0071, target_val_label_loss: 1.7500, \n",
      "=============================================================\n"
     ]
    },
    {
     "name": "stdout",
     "output_type": "stream",
     "text": [
      "epoch: 9, [batch: 1 / 6305], examples_per_second: 4.0586, train_label_loss: 0.0114, \n"
     ]
    },
    {
     "name": "stdout",
     "output_type": "stream",
     "text": [
      "epoch: 9, [batch: 631 / 6305], examples_per_second: 3841.3183, train_label_loss: 0.0000, \n"
     ]
    },
    {
     "name": "stdout",
     "output_type": "stream",
     "text": [
      "epoch: 9, [batch: 1261 / 6305], examples_per_second: 3811.8053, train_label_loss: 0.0001, \n"
     ]
    },
    {
     "name": "stdout",
     "output_type": "stream",
     "text": [
      "epoch: 9, [batch: 1892 / 6305], examples_per_second: 3918.8734, train_label_loss: 0.0000, \n"
     ]
    },
    {
     "name": "stdout",
     "output_type": "stream",
     "text": [
      "epoch: 9, [batch: 2522 / 6305], examples_per_second: 4230.0989, train_label_loss: 0.0001, \n"
     ]
    },
    {
     "name": "stdout",
     "output_type": "stream",
     "text": [
      "epoch: 9, [batch: 3153 / 6305], examples_per_second: 4540.6240, train_label_loss: 0.0000, \n"
     ]
    },
    {
     "name": "stdout",
     "output_type": "stream",
     "text": [
      "epoch: 9, [batch: 3783 / 6305], examples_per_second: 3939.2353, train_label_loss: 0.0000, \n"
     ]
    },
    {
     "name": "stdout",
     "output_type": "stream",
     "text": [
      "epoch: 9, [batch: 4413 / 6305], examples_per_second: 3900.1814, train_label_loss: 0.0000, \n"
     ]
    },
    {
     "name": "stdout",
     "output_type": "stream",
     "text": [
      "epoch: 9, [batch: 5044 / 6305], examples_per_second: 3957.0767, train_label_loss: 0.0003, \n"
     ]
    },
    {
     "name": "stdout",
     "output_type": "stream",
     "text": [
      "epoch: 9, [batch: 5674 / 6305], examples_per_second: 4031.0233, train_label_loss: 0.0000, \n"
     ]
    },
    {
     "name": "stdout",
     "output_type": "stream",
     "text": [
      "=============================================================\n",
      "epoch: 9, source_val_acc_label: 0.9996, target_val_acc_label: 0.4103, source_val_label_loss: 0.0053, target_val_label_loss: 1.7581, \n",
      "=============================================================\n"
     ]
    },
    {
     "name": "stdout",
     "output_type": "stream",
     "text": [
      "epoch: 10, [batch: 1 / 6298], examples_per_second: 4.1111, train_label_loss: 0.0000, \n"
     ]
    },
    {
     "name": "stdout",
     "output_type": "stream",
     "text": [
      "epoch: 10, [batch: 630 / 6298], examples_per_second: 3869.9232, train_label_loss: 0.0014, \n"
     ]
    },
    {
     "name": "stdout",
     "output_type": "stream",
     "text": [
      "epoch: 10, [batch: 1260 / 6298], examples_per_second: 3922.1164, train_label_loss: 0.0027, \n"
     ]
    },
    {
     "name": "stdout",
     "output_type": "stream",
     "text": [
      "epoch: 10, [batch: 1890 / 6298], examples_per_second: 4222.7430, train_label_loss: 0.0000, \n"
     ]
    },
    {
     "name": "stdout",
     "output_type": "stream",
     "text": [
      "epoch: 10, [batch: 2519 / 6298], examples_per_second: 4252.3091, train_label_loss: 0.0000, \n"
     ]
    },
    {
     "name": "stdout",
     "output_type": "stream",
     "text": [
      "epoch: 10, [batch: 3149 / 6298], examples_per_second: 4348.7702, train_label_loss: 0.0000, \n"
     ]
    },
    {
     "name": "stdout",
     "output_type": "stream",
     "text": [
      "epoch: 10, [batch: 3779 / 6298], examples_per_second: 3856.4814, train_label_loss: 0.0001, \n"
     ]
    },
    {
     "name": "stdout",
     "output_type": "stream",
     "text": [
      "epoch: 10, [batch: 4408 / 6298], examples_per_second: 3869.4378, train_label_loss: 0.0001, \n"
     ]
    },
    {
     "name": "stdout",
     "output_type": "stream",
     "text": [
      "epoch: 10, [batch: 5038 / 6298], examples_per_second: 3839.6345, train_label_loss: 0.0000, \n"
     ]
    },
    {
     "name": "stdout",
     "output_type": "stream",
     "text": [
      "epoch: 10, [batch: 5668 / 6298], examples_per_second: 3855.0509, train_label_loss: 0.0003, \n"
     ]
    },
    {
     "name": "stdout",
     "output_type": "stream",
     "text": [
      "=============================================================\n",
      "epoch: 10, source_val_acc_label: 0.9996, target_val_acc_label: 0.4415, source_val_label_loss: 0.0058, target_val_label_loss: 1.6667, \n",
      "=============================================================\n"
     ]
    },
    {
     "name": "stdout",
     "output_type": "stream",
     "text": [
      "epoch: 11, [batch: 1 / 6323], examples_per_second: 4.1252, train_label_loss: 0.0000, \n"
     ]
    },
    {
     "name": "stdout",
     "output_type": "stream",
     "text": [
      "epoch: 11, [batch: 633 / 6323], examples_per_second: 3797.5300, train_label_loss: 0.0000, \n"
     ]
    },
    {
     "name": "stdout",
     "output_type": "stream",
     "text": [
      "epoch: 11, [batch: 1265 / 6323], examples_per_second: 3990.2362, train_label_loss: 0.0000, \n"
     ]
    },
    {
     "name": "stdout",
     "output_type": "stream",
     "text": [
      "epoch: 11, [batch: 1897 / 6323], examples_per_second: 4205.8538, train_label_loss: 0.0000, \n"
     ]
    },
    {
     "name": "stdout",
     "output_type": "stream",
     "text": [
      "epoch: 11, [batch: 2529 / 6323], examples_per_second: 4483.9015, train_label_loss: 0.0000, \n"
     ]
    },
    {
     "name": "stdout",
     "output_type": "stream",
     "text": [
      "epoch: 11, [batch: 3162 / 6323], examples_per_second: 4612.2125, train_label_loss: 0.0000, \n"
     ]
    },
    {
     "name": "stdout",
     "output_type": "stream",
     "text": [
      "epoch: 11, [batch: 3794 / 6323], examples_per_second: 4632.2480, train_label_loss: 0.0000, \n"
     ]
    },
    {
     "name": "stdout",
     "output_type": "stream",
     "text": [
      "epoch: 11, [batch: 4426 / 6323], examples_per_second: 4528.7944, train_label_loss: 0.0000, \n"
     ]
    },
    {
     "name": "stdout",
     "output_type": "stream",
     "text": [
      "epoch: 11, [batch: 5058 / 6323], examples_per_second: 4552.9126, train_label_loss: 0.0001, \n"
     ]
    },
    {
     "name": "stdout",
     "output_type": "stream",
     "text": [
      "epoch: 11, [batch: 5690 / 6323], examples_per_second: 4554.9036, train_label_loss: 0.0000, \n"
     ]
    },
    {
     "name": "stdout",
     "output_type": "stream",
     "text": [
      "=============================================================\n",
      "epoch: 11, source_val_acc_label: 0.9993, target_val_acc_label: 0.4708, source_val_label_loss: 0.0098, target_val_label_loss: 1.7864, \n",
      "=============================================================\n"
     ]
    },
    {
     "name": "stdout",
     "output_type": "stream",
     "text": [
      "Patience (3) exhausted\n"
     ]
    }
   ],
   "source": [
    "###################################\n",
    "# train\n",
    "###################################\n",
    "jig = PTN_Train_Eval_Test_Jig(model, p.BEST_MODEL_PATH, p.device)\n",
    "\n",
    "jig.train(\n",
    "    train_iterable=datasets.source.processed.train,\n",
    "    source_val_iterable=datasets.source.processed.val,\n",
    "    target_val_iterable=datasets.target.processed.val,\n",
    "    num_epochs=p.n_epoch,\n",
    "    num_logs_per_epoch=p.NUM_LOGS_PER_EPOCH,\n",
    "    patience=p.patience,\n",
    "    optimizer=optimizer,\n",
    "    criteria_for_best=p.criteria_for_best,\n",
    ")"
   ]
  },
  {
   "cell_type": "code",
   "execution_count": 23,
   "id": "31e8fabf",
   "metadata": {
    "execution": {
     "iopub.execute_input": "2022-03-28T14:58:20.442079Z",
     "iopub.status.busy": "2022-03-28T14:58:20.441449Z",
     "iopub.status.idle": "2022-03-28T14:58:20.473967Z",
     "shell.execute_reply": "2022-03-28T14:58:20.473132Z"
    },
    "papermill": {
     "duration": 0.093308,
     "end_time": "2022-03-28T14:58:20.474150",
     "exception": false,
     "start_time": "2022-03-28T14:58:20.380842",
     "status": "completed"
    },
    "tags": []
   },
   "outputs": [],
   "source": [
    "total_experiment_time_secs = time.time() - start_time_secs"
   ]
  },
  {
   "cell_type": "code",
   "execution_count": 24,
   "id": "87b9595b",
   "metadata": {
    "execution": {
     "iopub.execute_input": "2022-03-28T14:58:20.606348Z",
     "iopub.status.busy": "2022-03-28T14:58:20.605954Z",
     "iopub.status.idle": "2022-03-28T15:00:38.967698Z",
     "shell.execute_reply": "2022-03-28T15:00:38.968416Z"
    },
    "papermill": {
     "duration": 138.425315,
     "end_time": "2022-03-28T15:00:38.968635",
     "exception": false,
     "start_time": "2022-03-28T14:58:20.543320",
     "status": "completed"
    },
    "tags": []
   },
   "outputs": [],
   "source": [
    "###################################\n",
    "# Evaluate the model\n",
    "###################################\n",
    "source_test_label_accuracy, source_test_label_loss = jig.test(datasets.source.processed.test)\n",
    "target_test_label_accuracy, target_test_label_loss = jig.test(datasets.target.processed.test)\n",
    "\n",
    "source_val_label_accuracy, source_val_label_loss = jig.test(datasets.source.processed.val)\n",
    "target_val_label_accuracy, target_val_label_loss = jig.test(datasets.target.processed.val)\n",
    "\n",
    "history = jig.get_history()\n",
    "\n",
    "total_epochs_trained = len(history[\"epoch_indices\"])\n",
    "\n",
    "val_dl = Iterable_Aggregator((datasets.source.original.val,datasets.target.original.val))\n",
    "\n",
    "confusion = ptn_confusion_by_domain_over_dataloader(model, p.device, val_dl)\n",
    "per_domain_accuracy = per_domain_accuracy_from_confusion(confusion)\n",
    "\n",
    "# Add a key to per_domain_accuracy for if it was a source domain\n",
    "for domain, accuracy in per_domain_accuracy.items():\n",
    "    per_domain_accuracy[domain] = {\n",
    "        \"accuracy\": accuracy,\n",
    "        \"source?\": domain in p.domains_source\n",
    "    }\n",
    "\n",
    "# Do an independent accuracy assesment JUST TO BE SURE!\n",
    "# _source_test_label_accuracy = independent_accuracy_assesment(model, datasets.source.processed.test, p.device)\n",
    "# _target_test_label_accuracy = independent_accuracy_assesment(model, datasets.target.processed.test, p.device)\n",
    "# _source_val_label_accuracy = independent_accuracy_assesment(model, datasets.source.processed.val, p.device)\n",
    "# _target_val_label_accuracy = independent_accuracy_assesment(model, datasets.target.processed.val, p.device)\n",
    "\n",
    "# assert(_source_test_label_accuracy == source_test_label_accuracy)\n",
    "# assert(_target_test_label_accuracy == target_test_label_accuracy)\n",
    "# assert(_source_val_label_accuracy == source_val_label_accuracy)\n",
    "# assert(_target_val_label_accuracy == target_val_label_accuracy)\n",
    "\n",
    "experiment = {\n",
    "    \"experiment_name\": p.experiment_name,\n",
    "    \"parameters\": dict(p),\n",
    "    \"results\": {\n",
    "        \"source_test_label_accuracy\": source_test_label_accuracy,\n",
    "        \"source_test_label_loss\": source_test_label_loss,\n",
    "        \"target_test_label_accuracy\": target_test_label_accuracy,\n",
    "        \"target_test_label_loss\": target_test_label_loss,\n",
    "        \"source_val_label_accuracy\": source_val_label_accuracy,\n",
    "        \"source_val_label_loss\": source_val_label_loss,\n",
    "        \"target_val_label_accuracy\": target_val_label_accuracy,\n",
    "        \"target_val_label_loss\": target_val_label_loss,\n",
    "        \"total_epochs_trained\": total_epochs_trained,\n",
    "        \"total_experiment_time_secs\": total_experiment_time_secs,\n",
    "        \"confusion\": confusion,\n",
    "        \"per_domain_accuracy\": per_domain_accuracy,\n",
    "    },\n",
    "    \"history\": history,\n",
    "    \"dataset_metrics\": get_dataset_metrics(datasets, \"ptn\"),\n",
    "}"
   ]
  },
  {
   "cell_type": "code",
   "execution_count": 25,
   "id": "54a21829",
   "metadata": {
    "execution": {
     "iopub.execute_input": "2022-03-28T15:00:39.093734Z",
     "iopub.status.busy": "2022-03-28T15:00:39.093138Z",
     "iopub.status.idle": "2022-03-28T15:00:39.302722Z",
     "shell.execute_reply": "2022-03-28T15:00:39.303408Z"
    },
    "papermill": {
     "duration": 0.271076,
     "end_time": "2022-03-28T15:00:39.303639",
     "exception": false,
     "start_time": "2022-03-28T15:00:39.032563",
     "status": "completed"
    },
    "tags": []
   },
   "outputs": [
    {
     "data": {
      "image/png": "[encoded data removed]",
      "text/plain": [
       "<Figure size 1080x504 with 1 Axes>"
      ]
     },
     "metadata": {
      "needs_background": "light"
     },
     "output_type": "display_data"
    }
   ],
   "source": [
    "ax = get_loss_curve(experiment)\n",
    "plt.show()"
   ]
  },
  {
   "cell_type": "code",
   "execution_count": 26,
   "id": "fd8a0f60",
   "metadata": {
    "execution": {
     "iopub.execute_input": "2022-03-28T15:00:39.429618Z",
     "iopub.status.busy": "2022-03-28T15:00:39.429250Z",
     "iopub.status.idle": "2022-03-28T15:00:39.764261Z",
     "shell.execute_reply": "2022-03-28T15:00:39.764929Z"
    },
    "papermill": {
     "duration": 0.396444,
     "end_time": "2022-03-28T15:00:39.765112",
     "exception": false,
     "start_time": "2022-03-28T15:00:39.368668",
     "status": "completed"
    },
    "tags": []
   },
   "outputs": [
    {
     "data": {
      "text/plain": [
       "<AxesSubplot:title={'center':'Results'}>"
      ]
     },
     "execution_count": 26,
     "metadata": {},
     "output_type": "execute_result"
    },
    {
     "data": {
      "image/png": "[encoded data removed]",
      "text/plain": [
       "<Figure size 1080x504 with 1 Axes>"
      ]
     },
     "metadata": {
      "needs_background": "light"
     },
     "output_type": "display_data"
    }
   ],
   "source": [
    "get_results_table(experiment)"
   ]
  },
  {
   "cell_type": "code",
   "execution_count": 27,
   "id": "cf8dc689",
   "metadata": {
    "execution": {
     "iopub.execute_input": "2022-03-28T15:00:39.892580Z",
     "iopub.status.busy": "2022-03-28T15:00:39.892206Z",
     "iopub.status.idle": "2022-03-28T15:00:40.127287Z",
     "shell.execute_reply": "2022-03-28T15:00:40.128010Z"
    },
    "papermill": {
     "duration": 0.299323,
     "end_time": "2022-03-28T15:00:40.128198",
     "exception": false,
     "start_time": "2022-03-28T15:00:39.828875",
     "status": "completed"
    },
    "tags": []
   },
   "outputs": [
    {
     "data": {
      "text/plain": [
       "<AxesSubplot:title={'center':'Per Domain Validation Accuracy'}, xlabel='domain'>"
      ]
     },
     "execution_count": 27,
     "metadata": {},
     "output_type": "execute_result"
    },
    {
     "data": {
      "image/png": "[encoded data removed]",
      "text/plain": [
       "<Figure size 1080x504 with 1 Axes>"
      ]
     },
     "metadata": {
      "needs_background": "light"
     },
     "output_type": "display_data"
    }
   ],
   "source": [
    "get_domain_accuracies(experiment)"
   ]
  },
  {
   "cell_type": "code",
   "execution_count": 28,
   "id": "a74ae082",
   "metadata": {
    "execution": {
     "iopub.execute_input": "2022-03-28T15:00:40.260975Z",
     "iopub.status.busy": "2022-03-28T15:00:40.260601Z",
     "iopub.status.idle": "2022-03-28T15:00:40.282437Z",
     "shell.execute_reply": "2022-03-28T15:00:40.283108Z"
    },
    "papermill": {
     "duration": 0.087113,
     "end_time": "2022-03-28T15:00:40.283295",
     "exception": false,
     "start_time": "2022-03-28T15:00:40.196182",
     "status": "completed"
    },
    "tags": []
   },
   "outputs": [
    {
     "name": "stdout",
     "output_type": "stream",
     "text": [
      "Source Test Label Accuracy: 0.9973870056497175 Target Test Label Accuracy: 0.4708658854166667\n",
      "Source Val Label Accuracy: 0.99825 Target Val Label Accuracy: 0.47418619791666666\n"
     ]
    }
   ],
   "source": [
    "print(\"Source Test Label Accuracy:\", experiment[\"results\"][\"source_test_label_accuracy\"], \"Target Test Label Accuracy:\", experiment[\"results\"][\"target_test_label_accuracy\"])\n",
    "print(\"Source Val Label Accuracy:\", experiment[\"results\"][\"source_val_label_accuracy\"], \"Target Val Label Accuracy:\", experiment[\"results\"][\"target_val_label_accuracy\"])"
   ]
  },
  {
   "cell_type": "code",
   "execution_count": 29,
   "id": "dacca602",
   "metadata": {
    "execution": {
     "iopub.execute_input": "2022-03-28T15:00:40.413440Z",
     "iopub.status.busy": "2022-03-28T15:00:40.413066Z",
     "iopub.status.idle": "2022-03-28T15:00:40.433967Z",
     "shell.execute_reply": "2022-03-28T15:00:40.434634Z"
    },
    "papermill": {
     "duration": 0.084688,
     "end_time": "2022-03-28T15:00:40.434816",
     "exception": false,
     "start_time": "2022-03-28T15:00:40.350128",
     "status": "completed"
    },
    "tags": [
     "experiment_json"
    ]
   },
   "outputs": [
    {
     "data": {
      "text/plain": [
       "'{\"experiment_name\": \"tl_3-jitter5v2:cores -> oracle.run1.framed\", \"parameters\": {\"experiment_name\": \"tl_3-jitter5v2:cores -> oracle.run1.framed\", \"device\": \"cuda\", \"lr\": 0.0001, \"x_shape\": [2, 256], \"n_shot\": 3, \"n_query\": 2, \"train_k_factor\": 3, \"val_k_factor\": 2, \"test_k_factor\": 2, \"torch_default_dtype\": \"torch.float32\", \"n_epoch\": 50, \"patience\": 3, \"criteria_for_best\": \"target_accuracy\", \"x_net\": [{\"class\": \"nnReshape\", \"kargs\": {\"shape\": [-1, 1, 2, 256]}}, {\"class\": \"Conv2d\", \"kargs\": {\"in_channels\": 1, \"out_channels\": 256, \"kernel_size\": [1, 7], \"bias\": false, \"padding\": [0, 3]}}, {\"class\": \"ReLU\", \"kargs\": {\"inplace\": true}}, {\"class\": \"BatchNorm2d\", \"kargs\": {\"num_features\": 256}}, {\"class\": \"Conv2d\", \"kargs\": {\"in_channels\": 256, \"out_channels\": 80, \"kernel_size\": [2, 7], \"bias\": true, \"padding\": [0, 3]}}, {\"class\": \"ReLU\", \"kargs\": {\"inplace\": true}}, {\"class\": \"BatchNorm2d\", \"kargs\": {\"num_features\": 80}}, {\"class\": \"Flatten\", \"kargs\": {}}, {\"class\": \"Linear\", \"kargs\": {\"in_features\": 20480, \"out_features\": 256}}, {\"class\": \"ReLU\", \"kargs\": {\"inplace\": true}}, {\"class\": \"BatchNorm1d\", \"kargs\": {\"num_features\": 256}}, {\"class\": \"Linear\", \"kargs\": {\"in_features\": 256, \"out_features\": 256}}], \"NUM_LOGS_PER_EPOCH\": 10, \"BEST_MODEL_PATH\": \"./best_model.pth\", \"n_way\": 16, \"datasets\": [{\"labels\": [\"1-10.\", \"1-11.\", \"1-15.\", \"1-16.\", \"1-17.\", \"1-18.\", \"1-19.\", \"10-4.\", \"10-7.\", \"11-1.\", \"11-14.\", \"11-17.\", \"11-20.\", \"11-7.\", \"13-20.\", \"13-8.\", \"14-10.\", \"14-11.\", \"14-14.\", \"14-7.\", \"15-1.\", \"15-20.\", \"16-1.\", \"16-16.\", \"17-10.\", \"17-11.\", \"17-2.\", \"19-1.\", \"19-16.\", \"19-19.\", \"19-20.\", \"19-3.\", \"2-10.\", \"2-11.\", \"2-17.\", \"2-18.\", \"2-20.\", \"2-3.\", \"2-4.\", \"2-5.\", \"2-6.\", \"2-7.\", \"2-8.\", \"3-13.\", \"3-18.\", \"3-3.\", \"4-1.\", \"4-10.\", \"4-11.\", \"4-19.\", \"5-5.\", \"6-15.\", \"7-10.\", \"7-14.\", \"8-18.\", \"8-20.\", \"8-3.\", \"8-8.\"], \"domains\": [1, 2, 3, 4, 5], \"num_examples_per_domain_per_label\": -1, \"pickle_path\": \"/root/csc500-main/datasets/cores.stratified_ds.2022A.pkl\", \"source_or_target_dataset\": \"source\", \"x_transforms\": [\"jitter_256_5\", \"lowpass_+/-10MHz\", \"take_200\"], \"episode_transforms\": [], \"domain_prefix\": \"C_\"}, {\"labels\": [\"3123D52\", \"3123D65\", \"3123D79\", \"3123D80\", \"3123D54\", \"3123D70\", \"3123D7B\", \"3123D89\", \"3123D58\", \"3123D76\", \"3123D7D\", \"3123EFE\", \"3123D64\", \"3123D78\", \"3123D7E\", \"3124E4A\"], \"domains\": [32, 38, 8, 44, 14, 50, 20, 26], \"num_examples_per_domain_per_label\": 2000, \"pickle_path\": \"/root/csc500-main/datasets/oracle.Run1_framed_2000Examples_stratified_ds.2022A.pkl\", \"source_or_target_dataset\": \"target\", \"x_transforms\": [\"jitter_256_5\", \"take_200\", \"resample_20Msps_to_25Msps\"], \"episode_transforms\": [], \"domain_prefix\": \"O_\"}], \"seed\": 7, \"dataset_seed\": 7, \"domains_source\": [\"C_1\", \"C_2\", \"C_3\", \"C_4\", \"C_5\"], \"domains_target\": [\"O_32\", \"O_38\", \"O_8\", \"O_44\", \"O_14\", \"O_50\", \"O_20\", \"O_26\"]}, \"results\": {\"source_test_label_accuracy\": 0.9973870056497175, \"source_test_label_loss\": 0.03112567774951458, \"target_test_label_accuracy\": 0.4708658854166667, \"target_test_label_loss\": 1.6989247798919678, \"source_val_label_accuracy\": 0.99825, \"source_val_label_loss\": 0.016946464776992798, \"target_val_label_accuracy\": 0.47418619791666666, \"target_val_label_loss\": 1.6973620653152466, \"total_epochs_trained\": 11, \"total_experiment_time_secs\": 1737.3338031768799, \"confusion\": {\"C_5\": {\"26\": {\"26\": 24}, \"7\": {\"7\": 32}, \"56\": {\"56\": 142}, \"36\": {\"36\": 92}, \"47\": {\"47\": 100}, \"2\": {\"2\": 28}, \"15\": {\"15\": 152}, \"14\": {\"14\": 44}, \"27\": {\"27\": 146}, \"40\": {\"40\": 124}, \"49\": {\"49\": 36}, \"45\": {\"45\": 120, \"6\": 4}, \"46\": {\"46\": 134, \"56\": 2}, \"11\": {\"11\": 129, \"15\": 1}, \"30\": {\"30\": 112}, \"0\": {\"0\": 124}, \"10\": {\"10\": 68}, \"1\": {\"1\": 148}, \"42\": {\"42\": 38, \"2\": 1, \"1\": 1}, \"54\": {\"54\": 112}, \"55\": {\"55\": 152}, \"23\": {\"23\": 124}, \"25\": {\"25\": 152}, \"28\": {\"28\": 32}, \"32\": {\"32\": 32}, \"9\": {\"9\": 142}, \"39\": {\"39\": 20}, \"3\": {\"3\": 100}, \"29\": {\"29\": 118}, \"17\": {\"17\": 116}, \"35\": {\"39\": 1, \"35\": 35}, \"44\": {\"44\": 152}, \"5\": {\"5\": 128}, \"33\": {\"33\": 31, \"8\": 1}, \"34\": {\"34\": 36}, \"13\": {\"13\": 138}, \"41\": {\"41\": 28}, \"6\": {\"6\": 128}, \"51\": {\"51\": 138}, \"50\": {\"50\": 144}, \"37\": {\"37\": 24}, \"19\": {\"19\": 144}, \"57\": {\"57\": 132}, \"21\": {\"21\": 144}, \"24\": {\"24\": 80}, \"8\": {\"8\": 130}, \"12\": {\"12\": 96}, \"48\": {\"48\": 132}, \"43\": {\"43\": 150}, \"53\": {\"53\": 148}, \"38\": {\"38\": 31, \"7\": 1}, \"16\": {\"16\": 142}, \"22\": {\"22\": 28}, \"4\": {\"4\": 100}, \"18\": {\"18\": 64}, \"20\": {\"20\": 144}, \"52\": {\"52\": 140}, \"31\": {\"31\": 36}}, \"C_1\": {\"41\": {\"41\": 24}, \"40\": {\"40\": 110}, \"45\": {\"45\": 138}, \"51\": {\"51\": 148}, \"5\": {\"5\": 154}, \"30\": {\"30\": 120}, \"42\": {\"42\": 40}, \"46\": {\"46\": 136}, \"48\": {\"48\": 134}, \"53\": {\"53\": 144}, \"47\": {\"47\": 152}, \"49\": {\"49\": 32}, \"36\": {\"36\": 64}, \"32\": {\"32\": 32}, \"34\": {\"34\": 24}, \"29\": {\"29\": 140}, \"35\": {\"35\": 36}, \"3\": {\"3\": 134}, \"16\": {\"16\": 140}, \"26\": {\"26\": 24}, \"57\": {\"57\": 144}, \"44\": {\"44\": 128}, \"0\": {\"0\": 152}, \"4\": {\"4\": 132}, \"31\": {\"31\": 28}, \"11\": {\"11\": 140}, \"6\": {\"6\": 96}, \"54\": {\"54\": 104}, \"17\": {\"17\": 64}, \"20\": {\"20\": 127, \"12\": 1}, \"13\": {\"13\": 150}, \"33\": {\"33\": 32}, \"24\": {\"24\": 108}, \"52\": {\"52\": 132}, \"2\": {\"2\": 36}, \"19\": {\"19\": 156}, \"39\": {\"47\": 2, \"39\": 23, \"24\": 1, \"43\": 1, \"31\": 1}, \"8\": {\"8\": 140}, \"21\": {\"21\": 124}, \"10\": {\"10\": 96}, \"37\": {\"37\": 32}, \"25\": {\"25\": 144}, \"27\": {\"27\": 130}, \"23\": {\"23\": 136}, \"1\": {\"1\": 100}, \"50\": {\"50\": 152}, \"12\": {\"12\": 116}, \"18\": {\"18\": 72}, \"38\": {\"38\": 24}, \"14\": {\"14\": 23, \"30\": 1}, \"56\": {\"56\": 142}, \"55\": {\"55\": 160}, \"9\": {\"9\": 138}, \"15\": {\"15\": 146}, \"28\": {\"28\": 28}, \"7\": {\"7\": 28}, \"43\": {\"43\": 136}, \"22\": {\"22\": 136}}, \"C_3\": {\"1\": {\"1\": 100}, \"9\": {\"9\": 123, \"29\": 1}, \"22\": {\"22\": 136}, \"43\": {\"43\": 136}, \"49\": {\"49\": 20}, \"50\": {\"50\": 137, \"3\": 1}, \"53\": {\"53\": 136}, \"10\": {\"10\": 64}, \"48\": {\"48\": 116}, \"8\": {\"8\": 138}, \"31\": {\"31\": 28}, \"56\": {\"56\": 134}, \"25\": {\"25\": 142}, \"28\": {\"28\": 28}, \"38\": {\"38\": 28}, \"5\": {\"5\": 116}, \"12\": {\"12\": 92}, \"6\": {\"6\": 88}, \"19\": {\"19\": 152}, \"26\": {\"26\": 24}, \"32\": {\"32\": 28}, \"33\": {\"33\": 28}, \"3\": {\"3\": 118}, \"51\": {\"51\": 128}, \"16\": {\"16\": 138}, \"46\": {\"46\": 140}, \"7\": {\"7\": 36}, \"47\": {\"47\": 92}, \"39\": {\"39\": 16}, \"40\": {\"40\": 136}, \"14\": {\"14\": 39, \"1\": 1}, \"37\": {\"37\": 28}, \"2\": {\"2\": 32}, \"21\": {\"21\": 120}, \"35\": {\"35\": 28}, \"54\": {\"54\": 100}, \"52\": {\"52\": 116}, \"29\": {\"29\": 118}, \"20\": {\"20\": 132}, \"18\": {\"18\": 84}, \"11\": {\"11\": 142}, \"0\": {\"0\": 124}, \"36\": {\"36\": 100}, \"17\": {\"17\": 107, \"2\": 1}, \"30\": {\"30\": 114}, \"42\": {\"42\": 28}, \"45\": {\"45\": 59, \"6\": 1}, \"4\": {\"4\": 148}, \"23\": {\"23\": 134}, \"13\": {\"13\": 128}, \"15\": {\"15\": 128}, \"57\": {\"57\": 124}, \"27\": {\"27\": 134}, \"44\": {\"44\": 88}, \"34\": {\"34\": 32}, \"41\": {\"41\": 28}, \"24\": {\"24\": 104}, \"55\": {\"55\": 118}}, \"C_4\": {\"52\": {\"52\": 116}, \"6\": {\"6\": 112}, \"14\": {\"14\": 15, \"29\": 1}, \"49\": {\"49\": 19, \"24\": 1}, \"0\": {\"0\": 79, \"46\": 1}, \"46\": {\"46\": 155, \"22\": 1}, \"41\": {\"41\": 36}, \"24\": {\"24\": 55, \"7\": 1}, \"25\": {\"25\": 152}, \"40\": {\"40\": 138}, \"38\": {\"38\": 39, \"0\": 1}, \"13\": {\"13\": 152}, \"9\": {\"9\": 107, \"4\": 1}, \"45\": {\"45\": 95, \"50\": 1}, \"43\": {\"43\": 144}, \"10\": {\"10\": 130}, \"15\": {\"15\": 128}, \"39\": {\"39\": 20}, \"4\": {\"4\": 132}, \"53\": {\"53\": 132}, \"1\": {\"1\": 40}, \"28\": {\"28\": 32}, \"54\": {\"54\": 108}, \"21\": {\"21\": 132}, \"7\": {\"7\": 22, \"24\": 1, \"2\": 1}, \"8\": {\"8\": 136}, \"42\": {\"42\": 32}, \"11\": {\"11\": 104}, \"33\": {\"33\": 36}, \"27\": {\"27\": 142}, \"19\": {\"19\": 144}, \"2\": {\"2\": 35, \"49\": 1}, \"3\": {\"3\": 120}, \"57\": {\"57\": 100}, \"20\": {\"20\": 112}, \"23\": {\"23\": 128}, \"22\": {\"22\": 128}, \"29\": {\"29\": 124}, \"36\": {\"36\": 92}, \"51\": {\"51\": 132}, \"31\": {\"31\": 26, \"48\": 1, \"32\": 1}, \"12\": {\"12\": 92}, \"56\": {\"56\": 138}, \"5\": {\"5\": 108}, \"35\": {\"35\": 40}, \"17\": {\"17\": 80}, \"32\": {\"32\": 23, \"29\": 1}, \"47\": {\"47\": 120}, \"18\": {\"18\": 107, \"47\": 1}, \"26\": {\"26\": 23, \"23\": 1}, \"50\": {\"50\": 121, \"3\": 1}, \"55\": {\"55\": 124}, \"34\": {\"34\": 24}, \"30\": {\"30\": 44}, \"37\": {\"37\": 24}, \"44\": {\"44\": 132}, \"48\": {\"48\": 118}, \"16\": {\"16\": 96}}, \"C_2\": {\"11\": {\"11\": 130}, \"21\": {\"21\": 120}, \"19\": {\"19\": 140}, \"20\": {\"20\": 128}, \"9\": {\"9\": 140}, \"10\": {\"10\": 112}, \"37\": {\"37\": 36}, \"32\": {\"32\": 28}, \"3\": {\"3\": 92}, \"39\": {\"39\": 28}, \"45\": {\"45\": 127, \"6\": 1}, \"50\": {\"50\": 136}, \"40\": {\"40\": 139, \"57\": 1}, \"46\": {\"46\": 128}, \"12\": {\"12\": 92}, \"13\": {\"13\": 116}, \"47\": {\"47\": 132}, \"15\": {\"15\": 142}, \"54\": {\"54\": 108}, \"48\": {\"48\": 148}, \"23\": {\"23\": 142}, \"29\": {\"29\": 127, \"9\": 1}, \"38\": {\"38\": 20}, \"53\": {\"53\": 136}, \"27\": {\"27\": 150}, \"43\": {\"43\": 144}, \"35\": {\"35\": 30, \"9\": 2}, \"0\": {\"0\": 48}, \"52\": {\"52\": 124}, \"8\": {\"8\": 128}, \"24\": {\"24\": 96}, \"18\": {\"18\": 48}, \"25\": {\"25\": 148}, \"57\": {\"57\": 136}, \"55\": {\"55\": 134}, \"36\": {\"36\": 116}, \"17\": {\"17\": 104}, \"2\": {\"2\": 32}, \"34\": {\"34\": 28}, \"1\": {\"1\": 112}, \"51\": {\"51\": 136}, \"31\": {\"31\": 28}, \"49\": {\"49\": 24}, \"14\": {\"14\": 24}, \"33\": {\"33\": 28}, \"41\": {\"41\": 19, \"20\": 1}, \"28\": {\"28\": 28}, \"5\": {\"5\": 118, \"46\": 2}, \"16\": {\"16\": 150}, \"4\": {\"4\": 128}, \"22\": {\"22\": 136}, \"6\": {\"6\": 118}, \"30\": {\"30\": 124}, \"26\": {\"26\": 24}, \"56\": {\"56\": 142}, \"42\": {\"42\": 36}, \"44\": {\"44\": 100}, \"7\": {\"7\": 36}}, \"O_26\": {\"0\": {\"10\": 45, \"0\": 81, \"2\": 31, \"14\": 34, \"7\": 7, \"15\": 8, \"8\": 18, \"9\": 8, \"6\": 5, \"5\": 1, \"1\": 2}, \"4\": {\"4\": 207, \"13\": 16, \"12\": 5, \"3\": 10, \"9\": 1, \"7\": 1}, \"14\": {\"1\": 31, \"10\": 58, \"15\": 19, \"6\": 23, \"14\": 55, \"0\": 37, \"5\": 5, \"2\": 8, \"9\": 1, \"11\": 2, \"7\": 1}, \"12\": {\"13\": 23, \"12\": 127, \"9\": 30, \"3\": 8, \"8\": 21, \"7\": 21, \"0\": 3, \"4\": 5, \"2\": 2}, \"8\": {\"3\": 31, \"8\": 47, \"2\": 44, \"0\": 19, \"9\": 32, \"7\": 44, \"13\": 16, \"12\": 4, \"14\": 3}, \"7\": {\"7\": 57, \"8\": 46, \"3\": 36, \"2\": 26, \"9\": 35, \"0\": 17, \"13\": 18, \"4\": 1, \"12\": 4}, \"13\": {\"13\": 102, \"4\": 23, \"9\": 30, \"2\": 10, \"3\": 39, \"7\": 18, \"12\": 7, \"8\": 9, \"0\": 1, \"14\": 1}, \"5\": {\"10\": 4, \"5\": 63, \"11\": 26, \"6\": 45, \"15\": 56, \"14\": 6, \"1\": 38, \"0\": 2}, \"15\": {\"11\": 12, \"15\": 63, \"5\": 43, \"14\": 22, \"6\": 54, \"0\": 6, \"1\": 23, \"10\": 12, \"2\": 5}, \"10\": {\"10\": 55, \"0\": 46, \"6\": 21, \"14\": 54, \"15\": 25, \"1\": 31, \"2\": 2, \"5\": 4, \"7\": 2}, \"3\": {\"7\": 49, \"12\": 9, \"2\": 7, \"13\": 49, \"3\": 60, \"8\": 27, \"9\": 34, \"4\": 5}, \"9\": {\"12\": 17, \"2\": 24, \"3\": 38, \"8\": 39, \"0\": 15, \"9\": 38, \"7\": 28, \"5\": 1, \"13\": 36, \"10\": 2, \"14\": 1, \"4\": 1}, \"6\": {\"15\": 33, \"6\": 62, \"5\": 34, \"1\": 49, \"14\": 30, \"11\": 12, \"10\": 18, \"0\": 2}, \"1\": {\"1\": 98, \"6\": 40, \"10\": 16, \"14\": 23, \"5\": 18, \"15\": 20, \"0\": 6, \"11\": 18, \"2\": 1}, \"11\": {\"10\": 1, \"5\": 42, \"15\": 21, \"6\": 30, \"11\": 113, \"1\": 33}, \"2\": {\"10\": 10, \"2\": 63, \"0\": 27, \"9\": 25, \"7\": 32, \"3\": 12, \"8\": 38, \"5\": 1, \"13\": 18, \"14\": 8, \"15\": 1, \"6\": 3, \"1\": 1, \"12\": 1}}, \"O_44\": {\"1\": {\"2\": 56, \"1\": 139, \"15\": 6, \"3\": 1, \"8\": 21, \"0\": 15, \"10\": 2}, \"11\": {\"11\": 240}, \"3\": {\"12\": 99, \"3\": 131, \"1\": 2, \"0\": 6, \"8\": 2}, \"6\": {\"13\": 71, \"6\": 124, \"9\": 31, \"4\": 5, \"7\": 8, \"14\": 1}, \"7\": {\"4\": 31, \"10\": 39, \"14\": 15, \"9\": 45, \"7\": 87, \"5\": 11, \"6\": 8, \"15\": 4}, \"5\": {\"4\": 40, \"5\": 76, \"14\": 63, \"15\": 29, \"8\": 9, \"7\": 11, \"9\": 5, \"0\": 2, \"2\": 3, \"10\": 2}, \"2\": {\"2\": 119, \"1\": 39, \"10\": 10, \"15\": 20, \"5\": 13, \"9\": 2, \"14\": 12, \"7\": 2, \"8\": 13, \"4\": 10}, \"15\": {\"14\": 34, \"15\": 65, \"0\": 6, \"5\": 30, \"8\": 55, \"10\": 5, \"2\": 19, \"4\": 13, \"1\": 8, \"9\": 4, \"7\": 1}, \"10\": {\"9\": 30, \"7\": 46, \"15\": 10, \"10\": 96, \"2\": 15, \"14\": 20, \"4\": 19, \"1\": 3, \"13\": 1}, \"13\": {\"6\": 65, \"13\": 155, \"9\": 11, \"11\": 7, \"7\": 1, \"4\": 1}, \"8\": {\"15\": 48, \"0\": 52, \"2\": 14, \"8\": 90, \"14\": 8, \"5\": 11, \"4\": 3, \"3\": 1, \"1\": 12, \"9\": 1}, \"4\": {\"4\": 34, \"15\": 14, \"7\": 51, \"14\": 19, \"5\": 21, \"2\": 19, \"9\": 43, \"8\": 14, \"10\": 13, \"6\": 10, \"13\": 2}, \"9\": {\"4\": 26, \"6\": 35, \"7\": 46, \"15\": 5, \"9\": 40, \"10\": 16, \"5\": 7, \"13\": 46, \"2\": 8, \"14\": 11}, \"14\": {\"4\": 40, \"8\": 5, \"15\": 34, \"14\": 57, \"5\": 56, \"7\": 22, \"10\": 6, \"9\": 15, \"2\": 5}, \"0\": {\"2\": 7, \"1\": 3, \"0\": 157, \"8\": 53, \"15\": 10, \"3\": 9, \"12\": 1}, \"12\": {\"12\": 129, \"3\": 108, \"0\": 3}}, \"O_50\": {\"15\": {\"6\": 52, \"5\": 41, \"15\": 90, \"11\": 29, \"9\": 24, \"3\": 1, \"4\": 2, \"7\": 1}, \"4\": {\"7\": 94, \"4\": 112, \"9\": 2, \"6\": 5, \"5\": 19, \"15\": 7, \"11\": 1}, \"6\": {\"15\": 63, \"5\": 43, \"6\": 75, \"9\": 15, \"11\": 26, \"3\": 13, \"12\": 4, \"4\": 1}, \"2\": {\"2\": 99, \"0\": 70, \"14\": 64, \"10\": 7}, \"5\": {\"7\": 37, \"4\": 25, \"5\": 83, \"3\": 21, \"15\": 28, \"6\": 26, \"13\": 8, \"11\": 11, \"9\": 1}, \"9\": {\"9\": 105, \"5\": 6, \"12\": 64, \"11\": 9, \"15\": 39, \"6\": 12, \"4\": 3, \"7\": 1, \"13\": 1}, \"8\": {\"10\": 34, \"8\": 151, \"1\": 40, \"13\": 15}, \"12\": {\"12\": 157, \"9\": 54, \"6\": 4, \"11\": 21, \"15\": 4}, \"10\": {\"0\": 48, \"10\": 147, \"8\": 37, \"2\": 5, \"1\": 2, \"14\": 1}, \"1\": {\"1\": 125, \"10\": 17, \"8\": 31, \"13\": 65, \"2\": 2}, \"0\": {\"2\": 65, \"0\": 108, \"10\": 55, \"14\": 12}, \"3\": {\"6\": 28, \"3\": 169, \"5\": 19, \"13\": 13, \"15\": 5, \"11\": 5, \"12\": 1}, \"13\": {\"1\": 46, \"13\": 160, \"11\": 9, \"8\": 7, \"3\": 18}, \"11\": {\"12\": 37, \"11\": 132, \"9\": 17, \"15\": 31, \"6\": 16, \"5\": 3, \"1\": 1, \"13\": 3}, \"7\": {\"7\": 131, \"4\": 68, \"5\": 37, \"9\": 1, \"6\": 2, \"15\": 1}, \"14\": {\"14\": 121, \"0\": 56, \"2\": 62, \"10\": 1}}, \"O_38\": {\"15\": {\"15\": 166, \"8\": 24, \"5\": 22, \"12\": 6, \"1\": 15, \"6\": 7}, \"11\": {\"11\": 234, \"3\": 6}, \"10\": {\"13\": 26, \"10\": 163, \"0\": 40, \"4\": 7, \"3\": 4}, \"14\": {\"14\": 158, \"7\": 21, \"4\": 7, \"2\": 39, \"13\": 7, \"8\": 4, \"5\": 2, \"0\": 1, \"12\": 1}, \"6\": {\"6\": 121, \"1\": 116, \"15\": 3}, \"4\": {\"4\": 218, \"13\": 5, \"2\": 1, \"10\": 9, \"14\": 4, \"0\": 2, \"7\": 1}, \"13\": {\"10\": 25, \"0\": 60, \"13\": 135, \"2\": 7, \"7\": 9, \"14\": 2, \"4\": 2}, \"3\": {\"3\": 239, \"0\": 1}, \"7\": {\"2\": 53, \"7\": 125, \"5\": 6, \"8\": 11, \"14\": 30, \"13\": 3, \"0\": 3, \"9\": 9}, \"8\": {\"8\": 61, \"5\": 67, \"15\": 25, \"9\": 20, \"2\": 31, \"7\": 23, \"14\": 7, \"12\": 6}, \"1\": {\"1\": 144, \"6\": 89, \"15\": 7}, \"5\": {\"15\": 31, \"9\": 22, \"8\": 64, \"5\": 76, \"12\": 4, \"7\": 21, \"2\": 15, \"14\": 5, \"0\": 1, \"13\": 1}, \"0\": {\"3\": 15, \"8\": 1, \"13\": 73, \"2\": 8, \"10\": 55, \"7\": 9, \"0\": 75, \"4\": 2, \"14\": 2}, \"2\": {\"2\": 102, \"7\": 46, \"14\": 60, \"5\": 8, \"8\": 17, \"9\": 6, \"13\": 1}, \"12\": {\"12\": 224, \"8\": 8, \"15\": 4, \"14\": 3, \"5\": 1}, \"9\": {\"8\": 13, \"7\": 16, \"9\": 159, \"5\": 37, \"2\": 13, \"15\": 1, \"13\": 1}}, \"O_20\": {\"10\": {\"10\": 127, \"4\": 64, \"13\": 21, \"12\": 14, \"7\": 1, \"2\": 7, \"6\": 2, \"5\": 1, \"15\": 3}, \"7\": {\"7\": 33, \"3\": 13, \"1\": 17, \"15\": 35, \"14\": 17, \"13\": 22, \"2\": 26, \"6\": 20, \"5\": 8, \"9\": 20, \"8\": 7, \"4\": 9, \"0\": 1, \"12\": 12}, \"4\": {\"4\": 78, \"15\": 15, \"9\": 7, \"10\": 29, \"12\": 48, \"8\": 1, \"2\": 17, \"1\": 6, \"3\": 7, \"13\": 22, \"6\": 4, \"14\": 2, \"7\": 4}, \"13\": {\"13\": 93, \"6\": 26, \"12\": 27, \"2\": 27, \"9\": 5, \"4\": 8, \"15\": 25, \"7\": 19, \"10\": 6, \"1\": 4}, \"1\": {\"5\": 35, \"12\": 11, \"2\": 18, \"14\": 15, \"8\": 14, \"6\": 7, \"7\": 20, \"1\": 40, \"3\": 24, \"9\": 26, \"0\": 2, \"15\": 18, \"13\": 6, \"4\": 4}, \"0\": {\"0\": 159, \"3\": 7, \"8\": 25, \"11\": 30, \"14\": 11, \"5\": 4, \"7\": 1, \"1\": 2, \"9\": 1}, \"12\": {\"13\": 30, \"2\": 25, \"15\": 36, \"9\": 12, \"12\": 47, \"4\": 34, \"8\": 2, \"7\": 16, \"5\": 8, \"6\": 4, \"10\": 7, \"3\": 3, \"1\": 14, \"14\": 2}, \"5\": {\"9\": 30, \"1\": 43, \"12\": 10, \"3\": 36, \"15\": 17, \"8\": 18, \"6\": 1, \"5\": 36, \"14\": 19, \"2\": 7, \"7\": 17, \"0\": 4, \"13\": 2}, \"6\": {\"2\": 36, \"9\": 21, \"13\": 22, \"12\": 14, \"6\": 39, \"4\": 12, \"14\": 25, \"7\": 28, \"8\": 8, \"3\": 13, \"5\": 8, \"15\": 9, \"10\": 1, \"1\": 4}, \"2\": {\"13\": 37, \"7\": 29, \"2\": 30, \"4\": 18, \"6\": 19, \"3\": 4, \"1\": 11, \"9\": 17, \"12\": 32, \"15\": 24, \"14\": 9, \"10\": 1, \"5\": 9}, \"8\": {\"5\": 26, \"9\": 23, \"3\": 32, \"8\": 57, \"1\": 15, \"0\": 28, \"14\": 44, \"7\": 8, \"2\": 2, \"6\": 2, \"15\": 3}, \"11\": {\"11\": 209, \"0\": 30, \"8\": 1}, \"9\": {\"7\": 23, \"8\": 16, \"9\": 32, \"3\": 28, \"4\": 4, \"1\": 21, \"6\": 8, \"14\": 22, \"5\": 28, \"13\": 9, \"2\": 16, \"12\": 10, \"15\": 22, \"0\": 1}, \"14\": {\"14\": 60, \"8\": 46, \"0\": 17, \"3\": 33, \"15\": 5, \"9\": 22, \"2\": 7, \"5\": 16, \"1\": 19, \"7\": 5, \"6\": 9, \"12\": 1}, \"15\": {\"15\": 35, \"5\": 15, \"2\": 28, \"13\": 36, \"7\": 13, \"1\": 21, \"9\": 13, \"4\": 16, \"12\": 28, \"14\": 8, \"10\": 3, \"3\": 13, \"6\": 9, \"8\": 2}, \"3\": {\"8\": 32, \"14\": 42, \"5\": 38, \"3\": 42, \"0\": 6, \"7\": 15, \"9\": 18, \"2\": 11, \"13\": 1, \"15\": 9, \"1\": 19, \"6\": 4, \"4\": 1, \"12\": 2}}, \"O_14\": {\"14\": {\"2\": 35, \"13\": 33, \"0\": 43, \"6\": 25, \"5\": 12, \"14\": 66, \"8\": 8, \"3\": 15, \"7\": 2, \"12\": 1}, \"0\": {\"13\": 25, \"4\": 22, \"0\": 47, \"14\": 51, \"8\": 13, \"6\": 16, \"5\": 10, \"2\": 21, \"12\": 20, \"3\": 14, \"7\": 1}, \"4\": {\"4\": 129, \"2\": 38, \"5\": 18, \"0\": 5, \"1\": 15, \"14\": 7, \"10\": 9, \"9\": 4, \"12\": 7, \"13\": 2, \"8\": 6}, \"11\": {\"11\": 240}, \"13\": {\"6\": 63, \"12\": 6, \"10\": 2, \"3\": 25, \"0\": 19, \"14\": 31, \"2\": 19, \"13\": 52, \"7\": 2, \"15\": 12, \"4\": 7, \"8\": 2}, \"9\": {\"10\": 65, \"4\": 1, \"9\": 148, \"1\": 26}, \"3\": {\"6\": 54, \"13\": 27, \"3\": 72, \"2\": 22, \"8\": 12, \"5\": 11, \"14\": 12, \"7\": 16, \"0\": 14}, \"6\": {\"6\": 102, \"2\": 11, \"14\": 21, \"13\": 53, \"3\": 40, \"7\": 3, \"0\": 10}, \"1\": {\"4\": 7, \"1\": 207, \"10\": 10, \"9\": 16}, \"5\": {\"5\": 74, \"2\": 42, \"7\": 8, \"8\": 57, \"3\": 7, \"14\": 25, \"4\": 14, \"6\": 2, \"13\": 4, \"0\": 7}, \"12\": {\"12\": 162, \"13\": 3, \"4\": 18, \"10\": 3, \"14\": 9, \"0\": 29, \"9\": 3, \"8\": 4, \"5\": 4, \"2\": 3, \"3\": 1, \"1\": 1}, \"10\": {\"12\": 14, \"10\": 144, \"9\": 55, \"4\": 19, \"2\": 3, \"13\": 1, \"1\": 2, \"0\": 1, \"14\": 1}, \"8\": {\"7\": 19, \"8\": 128, \"5\": 43, \"4\": 4, \"13\": 1, \"0\": 12, \"3\": 13, \"12\": 1, \"14\": 8, \"2\": 10, \"6\": 1}, \"7\": {\"3\": 27, \"7\": 145, \"8\": 29, \"6\": 6, \"5\": 23, \"2\": 8, \"13\": 2}, \"15\": {\"15\": 240}, \"2\": {\"6\": 17, \"14\": 32, \"7\": 7, \"8\": 16, \"4\": 31, \"3\": 16, \"5\": 37, \"13\": 20, \"2\": 44, \"0\": 18, \"12\": 1, \"1\": 1}}, \"O_32\": {\"11\": {\"11\": 193, \"4\": 3, \"13\": 25, \"9\": 13, \"3\": 6}, \"1\": {\"1\": 237, \"4\": 1, \"9\": 2}, \"2\": {\"2\": 101, \"4\": 61, \"3\": 19, \"5\": 1, \"14\": 11, \"0\": 10, \"13\": 20, \"8\": 12, \"9\": 2, \"7\": 3}, \"0\": {\"14\": 41, \"0\": 74, \"7\": 28, \"8\": 48, \"5\": 30, \"15\": 14, \"2\": 5}, \"3\": {\"4\": 41, \"3\": 92, \"2\": 24, \"8\": 3, \"13\": 73, \"14\": 1, \"9\": 4, \"0\": 1, \"11\": 1}, \"8\": {\"0\": 58, \"4\": 8, \"7\": 17, \"2\": 21, \"15\": 8, \"8\": 76, \"3\": 5, \"14\": 30, \"5\": 17}, \"12\": {\"12\": 220, \"9\": 13, \"10\": 6, \"6\": 1}, \"5\": {\"5\": 81, \"0\": 47, \"7\": 55, \"14\": 24, \"8\": 16, \"15\": 16, \"2\": 1}, \"15\": {\"15\": 223, \"0\": 10, \"8\": 6, \"5\": 1}, \"7\": {\"7\": 75, \"5\": 55, \"14\": 60, \"0\": 34, \"8\": 14, \"15\": 1, \"2\": 1}, \"4\": {\"4\": 70, \"13\": 38, \"3\": 44, \"2\": 77, \"14\": 4, \"9\": 1, \"0\": 4, \"8\": 2}, \"14\": {\"0\": 37, \"14\": 77, \"8\": 23, \"5\": 27, \"7\": 43, \"4\": 9, \"2\": 24}, \"10\": {\"10\": 228, \"6\": 5, \"12\": 7}, \"6\": {\"6\": 226, \"10\": 11, \"12\": 3}, \"13\": {\"11\": 34, \"4\": 25, \"3\": 66, \"13\": 88, \"2\": 17, \"9\": 10}, \"9\": {\"11\": 22, \"9\": 114, \"13\": 34, \"3\": 21, \"12\": 30, \"2\": 4, \"8\": 1, \"4\": 11, \"1\": 3}}, \"O_8\": {\"9\": {\"9\": 219, \"3\": 20, \"2\": 1}, \"11\": {\"14\": 23, \"11\": 77, \"4\": 29, \"8\": 18, \"5\": 21, \"1\": 48, \"6\": 7, \"10\": 8, \"7\": 8, \"13\": 1}, \"8\": {\"6\": 7, \"14\": 34, \"1\": 22, \"4\": 45, \"8\": 99, \"11\": 29, \"7\": 3, \"10\": 1}, \"4\": {\"8\": 44, \"14\": 37, \"4\": 81, \"11\": 32, \"5\": 3, \"6\": 24, \"10\": 1, \"1\": 16, \"7\": 2}, \"13\": {\"10\": 37, \"7\": 58, \"13\": 98, \"5\": 17, \"6\": 22, \"12\": 1, \"1\": 5, \"11\": 1, \"4\": 1}, \"14\": {\"8\": 29, \"14\": 145, \"4\": 35, \"11\": 26, \"1\": 3, \"0\": 2}, \"2\": {\"3\": 49, \"2\": 126, \"12\": 26, \"15\": 38, \"13\": 1}, \"3\": {\"3\": 220, \"2\": 12, \"9\": 8}, \"1\": {\"5\": 40, \"8\": 14, \"1\": 68, \"10\": 24, \"11\": 50, \"4\": 19, \"6\": 15, \"7\": 5, \"13\": 5}, \"0\": {\"0\": 238, \"14\": 2}, \"5\": {\"10\": 45, \"5\": 78, \"1\": 32, \"11\": 13, \"7\": 6, \"13\": 29, \"6\": 12, \"15\": 3, \"4\": 10, \"14\": 3, \"8\": 6, \"12\": 3}, \"15\": {\"2\": 31, \"15\": 110, \"12\": 99}, \"10\": {\"5\": 37, \"7\": 35, \"13\": 39, \"10\": 48, \"1\": 32, \"6\": 32, \"4\": 9, \"11\": 7, \"8\": 1}, \"12\": {\"12\": 142, \"15\": 79, \"2\": 19}, \"6\": {\"6\": 63, \"5\": 15, \"1\": 21, \"8\": 9, \"10\": 37, \"7\": 43, \"4\": 33, \"11\": 5, \"13\": 14}, \"7\": {\"7\": 68, \"13\": 44, \"10\": 34, \"1\": 10, \"6\": 63, \"5\": 13, \"4\": 6, \"8\": 2}}}, \"per_domain_accuracy\": {\"C_5\": {\"accuracy\": 0.9979050279329609, \"source?\": true}, \"C_1\": {\"accuracy\": 0.9988111413043478, \"source?\": true}, \"C_3\": {\"accuracy\": 0.9990808823529411, \"source?\": true}, \"C_4\": {\"accuracy\": 0.9967996987951807, \"source?\": true}, \"C_2\": {\"accuracy\": 0.9985795454545454, \"source?\": true}, \"O_26\": {\"accuracy\": 0.33619791666666665, \"source?\": false}, \"O_44\": {\"accuracy\": 0.45286458333333335, \"source?\": false}, \"O_50\": {\"accuracy\": 0.51171875, \"source?\": false}, \"O_38\": {\"accuracy\": 0.625, \"source?\": false}, \"O_20\": {\"accuracy\": 0.2908854166666667, \"source?\": false}, \"O_14\": {\"accuracy\": 0.5208333333333334, \"source?\": false}, \"O_32\": {\"accuracy\": 0.56640625, \"source?\": false}, \"O_8\": {\"accuracy\": 0.4895833333333333, \"source?\": false}}}, \"history\": {\"epoch_indices\": [1, 2, 3, 4, 5, 6, 7, 8, 9, 10, 11], \"train_label_loss\": [0.055487119324230894, 0.07287975259929817, 0.03908112799656148, 0.014812232645100303, 0.006154161247090231, 0.01211381253235817, 0.008455163412360054, 0.006306410451930155, 0.006587510258744348, 0.004803765017101648, 0.007940143371505826], \"source_val_label_loss\": [0.07507821172475815, 0.013137862086296082, 0.010515877045691013, 0.010011915117502213, 0.015948787331581116, 0.010916456580162048, 0.016946464776992798, 0.007087492849677801, 0.005333601031452417, 0.005826425738632679, 0.009849749505519867], \"target_val_label_loss\": [22.187583923339844, 2.192593574523926, 1.7355704307556152, 5.291679382324219, 6.611016750335693, 1.7413129806518555, 1.6973620653152466, 1.7500498294830322, 1.7581385374069214, 1.666704773902893, 1.7864326238632202], \"source_val_acc_label\": [0.9956071428571428, 0.9975357142857143, 0.9979642857142857, 0.9980714285714286, 0.9968571428571429, 0.9985357142857143, 0.99825, 0.9993571428571428, 0.9996071428571428, 0.9996071428571428, 0.9992857142857143], \"target_val_acc_label\": [0.31194661458333334, 0.4361653645833333, 0.472265625, 0.39544270833333334, 0.3776041666666667, 0.4187825520833333, 0.47418619791666666, 0.44488932291666666, 0.4102864583333333, 0.44150390625, 0.47080078125]}, \"dataset_metrics\": {\"source\": {\"train\": {\"n_unique_x\": 175203, \"n_unique_y\": 58, \"n_batch/episode\": 6325}, \"val\": {\"n_unique_x\": 37151, \"n_unique_y\": 58, \"n_batch/episode\": 875}, \"test\": {\"n_unique_x\": 37548, \"n_unique_y\": 58, \"n_batch/episode\": 885}}, \"target\": {\"train\": {\"n_unique_x\": 179200, \"n_unique_y\": 16, \"n_batch/episode\": 6720}, \"val\": {\"n_unique_x\": 38400, \"n_unique_y\": 16, \"n_batch/episode\": 960}, \"test\": {\"n_unique_x\": 38400, \"n_unique_y\": 16, \"n_batch/episode\": 960}}}}'"
      ]
     },
     "execution_count": 29,
     "metadata": {},
     "output_type": "execute_result"
    }
   ],
   "source": [
    "json.dumps(experiment)"
   ]
  }
 ],
 "metadata": {
  "celltoolbar": "Tags",
  "kernelspec": {
   "display_name": "Python 3 (ipykernel)",
   "language": "python",
   "name": "python3"
  },
  "language_info": {
   "codemirror_mode": {
    "name": "ipython",
    "version": 3
   },
   "file_extension": ".py",
   "mimetype": "text/x-python",
   "name": "python",
   "nbconvert_exporter": "python",
   "pygments_lexer": "ipython3",
   "version": "3.8.12"
  },
  "papermill": {
   "default_parameters": {},
   "duration": 1883.856016,
   "end_time": "2022-03-28T15:00:43.652759",
   "environment_variables": {},
   "exception": null,
   "input_path": "/root/csc500-main/csc500-notebooks/templates/tl_ptn_template.ipynb",
   "output_path": "trial.ipynb",
   "parameters": {
    "parameters": {
     "BEST_MODEL_PATH": "./best_model.pth",
     "NUM_LOGS_PER_EPOCH": 10,
     "criteria_for_best": "target_accuracy",
     "dataset_seed": 7,
     "datasets": [
      {
       "domain_prefix": "C_",
       "domains": [
        1,
        2,
        3,
        4,
        5
       ],
       "episode_transforms": [],
       "labels": [
        "1-10.",
        "1-11.",
        "1-15.",
        "1-16.",
        "1-17.",
        "1-18.",
        "1-19.",
        "10-4.",
        "10-7.",
        "11-1.",
        "11-14.",
        "11-17.",
        "11-20.",
        "11-7.",
        "13-20.",
        "13-8.",
        "14-10.",
        "14-11.",
        "14-14.",
        "14-7.",
        "15-1.",
        "15-20.",
        "16-1.",
        "16-16.",
        "17-10.",
        "17-11.",
        "17-2.",
        "19-1.",
        "19-16.",
        "19-19.",
        "19-20.",
        "19-3.",
        "2-10.",
        "2-11.",
        "2-17.",
        "2-18.",
        "2-20.",
        "2-3.",
        "2-4.",
        "2-5.",
        "2-6.",
        "2-7.",
        "2-8.",
        "3-13.",
        "3-18.",
        "3-3.",
        "4-1.",
        "4-10.",
        "4-11.",
        "4-19.",
        "5-5.",
        "6-15.",
        "7-10.",
        "7-14.",
        "8-18.",
        "8-20.",
        "8-3.",
        "8-8."
       ],
       "num_examples_per_domain_per_label": -1,
       "pickle_path": "/root/csc500-main/datasets/cores.stratified_ds.2022A.pkl",
       "source_or_target_dataset": "source",
       "x_transforms": [
        "jitter_256_5",
        "lowpass_+/-10MHz",
        "take_200"
       ]
      },
      {
       "domain_prefix": "O_",
       "domains": [
        32,
        38,
        8,
        44,
        14,
        50,
        20,
        26
       ],
       "episode_transforms": [],
       "labels": [
        "3123D52",
        "3123D65",
        "3123D79",
        "3123D80",
        "3123D54",
        "3123D70",
        "3123D7B",
        "3123D89",
        "3123D58",
        "3123D76",
        "3123D7D",
        "3123EFE",
        "3123D64",
        "3123D78",
        "3123D7E",
        "3124E4A"
       ],
       "num_examples_per_domain_per_label": 2000,
       "pickle_path": "/root/csc500-main/datasets/oracle.Run1_framed_2000Examples_stratified_ds.2022A.pkl",
       "source_or_target_dataset": "target",
       "x_transforms": [
        "jitter_256_5",
        "take_200",
        "resample_20Msps_to_25Msps"
       ]
      }
     ],
     "device": "cuda",
     "experiment_name": "tl_3-jitter5v2:cores -> oracle.run1.framed",
     "lr": 0.0001,
     "n_epoch": 50,
     "n_query": 2,
     "n_shot": 3,
     "n_way": 16,
     "patience": 3,
     "seed": 7,
     "test_k_factor": 2,
     "torch_default_dtype": "torch.float32",
     "train_k_factor": 3,
     "val_k_factor": 2,
     "x_net": [
      {
       "class": "nnReshape",
       "kargs": {
        "shape": [
         -1,
         1,
         2,
         256
        ]
       }
      },
      {
       "class": "Conv2d",
       "kargs": {
        "bias": false,
        "in_channels": 1,
        "kernel_size": [
         1,
         7
        ],
        "out_channels": 256,
        "padding": [
         0,
         3
        ]
       }
      },
      {
       "class": "ReLU",
       "kargs": {
        "inplace": true
       }
      },
      {
       "class": "BatchNorm2d",
       "kargs": {
        "num_features": 256
       }
      },
      {
       "class": "Conv2d",
       "kargs": {
        "bias": true,
        "in_channels": 256,
        "kernel_size": [
         2,
         7
        ],
        "out_channels": 80,
        "padding": [
         0,
         3
        ]
       }
      },
      {
       "class": "ReLU",
       "kargs": {
        "inplace": true
       }
      },
      {
       "class": "BatchNorm2d",
       "kargs": {
        "num_features": 80
       }
      },
      {
       "class": "Flatten",
       "kargs": {}
      },
      {
       "class": "Linear",
       "kargs": {
        "in_features": 20480,
        "out_features": 256
       }
      },
      {
       "class": "ReLU",
       "kargs": {
        "inplace": true
       }
      },
      {
       "class": "BatchNorm1d",
       "kargs": {
        "num_features": 256
       }
      },
      {
       "class": "Linear",
       "kargs": {
        "in_features": 256,
        "out_features": 256
       }
      }
     ],
     "x_shape": [
      2,
      256
     ]
    }
   },
   "start_time": "2022-03-28T14:29:19.796743",
   "version": "2.3.4"
  }
 },
 "nbformat": 4,
 "nbformat_minor": 5
}