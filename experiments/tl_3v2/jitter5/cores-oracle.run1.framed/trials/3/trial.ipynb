{
 "cells": [
  {
   "cell_type": "markdown",
   "id": "9fea5f46",
   "metadata": {
    "papermill": {
     "duration": 0.029257,
     "end_time": "2022-03-28T12:43:15.559306",
     "exception": false,
     "start_time": "2022-03-28T12:43:15.530049",
     "status": "completed"
    },
    "tags": []
   },
   "source": [
    "# Transfer Learning Template"
   ]
  },
  {
   "cell_type": "code",
   "execution_count": 1,
   "id": "0902182a",
   "metadata": {
    "execution": {
     "iopub.execute_input": "2022-03-28T12:43:15.609871Z",
     "iopub.status.busy": "2022-03-28T12:43:15.609006Z",
     "iopub.status.idle": "2022-03-28T12:43:17.515887Z",
     "shell.execute_reply": "2022-03-28T12:43:17.515248Z"
    },
    "papermill": {
     "duration": 1.93415,
     "end_time": "2022-03-28T12:43:17.516040",
     "exception": false,
     "start_time": "2022-03-28T12:43:15.581890",
     "status": "completed"
    },
    "tags": []
   },
   "outputs": [],
   "source": [
    "%load_ext autoreload\n",
    "%autoreload 2\n",
    "%matplotlib inline\n",
    "\n",
    "    \n",
    "import os, json, sys, time, random\n",
    "import numpy as np\n",
    "import torch\n",
    "from torch.optim import Adam\n",
    "from  easydict import EasyDict\n",
    "import matplotlib.pyplot as plt\n",
    "\n",
    "from steves_models.steves_ptn import Steves_Prototypical_Network\n",
    "\n",
    "from steves_utils.lazy_iterable_wrapper import Lazy_Iterable_Wrapper\n",
    "from steves_utils.iterable_aggregator import Iterable_Aggregator\n",
    "from steves_utils.ptn_train_eval_test_jig import  PTN_Train_Eval_Test_Jig\n",
    "from steves_utils.torch_sequential_builder import build_sequential\n",
    "from steves_utils.torch_utils import get_dataset_metrics, ptn_confusion_by_domain_over_dataloader\n",
    "from steves_utils.utils_v2 import (per_domain_accuracy_from_confusion, get_datasets_base_path)\n",
    "from steves_utils.PTN.utils import independent_accuracy_assesment\n",
    "\n",
    "from torch.utils.data import DataLoader\n",
    "\n",
    "from steves_utils.stratified_dataset.episodic_accessor import Episodic_Accessor_Factory\n",
    "\n",
    "from steves_utils.ptn_do_report import (\n",
    "    get_loss_curve,\n",
    "    get_results_table,\n",
    "    get_parameters_table,\n",
    "    get_domain_accuracies,\n",
    ")\n",
    "\n",
    "from steves_utils.transforms import get_chained_transform"
   ]
  },
  {
   "cell_type": "markdown",
   "id": "41c840b4",
   "metadata": {
    "papermill": {
     "duration": 0.01902,
     "end_time": "2022-03-28T12:43:17.555357",
     "exception": false,
     "start_time": "2022-03-28T12:43:17.536337",
     "status": "completed"
    },
    "tags": []
   },
   "source": [
    "# Allowed Parameters\n",
    "These are allowed parameters, not defaults\n",
    "Each of these values need to be present in the injected parameters (the notebook will raise an exception if they are not present)\n",
    "\n",
    "Papermill uses the cell tag \"parameters\" to inject the real parameters below this cell.\n",
    "Enable tags to see what I mean"
   ]
  },
  {
   "cell_type": "code",
   "execution_count": 2,
   "id": "fd44eb83",
   "metadata": {
    "execution": {
     "iopub.execute_input": "2022-03-28T12:43:17.597727Z",
     "iopub.status.busy": "2022-03-28T12:43:17.597347Z",
     "iopub.status.idle": "2022-03-28T12:43:17.621170Z",
     "shell.execute_reply": "2022-03-28T12:43:17.620380Z"
    },
    "papermill": {
     "duration": 0.047442,
     "end_time": "2022-03-28T12:43:17.621345",
     "exception": false,
     "start_time": "2022-03-28T12:43:17.573903",
     "status": "completed"
    },
    "tags": []
   },
   "outputs": [],
   "source": [
    "required_parameters = {\n",
    "    \"experiment_name\",\n",
    "    \"lr\",\n",
    "    \"device\",\n",
    "    \"seed\",\n",
    "    \"dataset_seed\",\n",
    "    \"n_shot\",\n",
    "    \"n_query\",\n",
    "    \"n_way\",\n",
    "    \"train_k_factor\",\n",
    "    \"val_k_factor\",\n",
    "    \"test_k_factor\",\n",
    "    \"n_epoch\",\n",
    "    \"patience\",\n",
    "    \"criteria_for_best\",\n",
    "    \"x_net\",\n",
    "    \"datasets\",\n",
    "    \"torch_default_dtype\",\n",
    "    \"NUM_LOGS_PER_EPOCH\",\n",
    "    \"BEST_MODEL_PATH\",\n",
    "    \"x_shape\",\n",
    "}"
   ]
  },
  {
   "cell_type": "code",
   "execution_count": 3,
   "id": "fa3f0049",
   "metadata": {
    "execution": {
     "iopub.execute_input": "2022-03-28T12:43:17.679789Z",
     "iopub.status.busy": "2022-03-28T12:43:17.672193Z",
     "iopub.status.idle": "2022-03-28T12:43:17.701387Z",
     "shell.execute_reply": "2022-03-28T12:43:17.700606Z"
    },
    "papermill": {
     "duration": 0.055586,
     "end_time": "2022-03-28T12:43:17.701534",
     "exception": false,
     "start_time": "2022-03-28T12:43:17.645948",
     "status": "completed"
    },
    "tags": [
     "parameters"
    ]
   },
   "outputs": [],
   "source": [
    "from steves_utils.CORES.utils import (\n",
    "    ALL_NODES,\n",
    "    ALL_NODES_MINIMUM_1000_EXAMPLES,\n",
    "    ALL_DAYS\n",
    ")\n",
    "\n",
    "from steves_utils.ORACLE.utils_v2 import (\n",
    "    ALL_DISTANCES_FEET_NARROWED,\n",
    "    ALL_RUNS,\n",
    "    ALL_SERIAL_NUMBERS,\n",
    ")\n",
    "\n",
    "standalone_parameters = {}\n",
    "standalone_parameters[\"experiment_name\"] = \"STANDALONE PTN\"\n",
    "standalone_parameters[\"lr\"] = 0.001\n",
    "standalone_parameters[\"device\"] = \"cuda\"\n",
    "\n",
    "standalone_parameters[\"seed\"] = 1337\n",
    "standalone_parameters[\"dataset_seed\"] = 1337\n",
    "\n",
    "standalone_parameters[\"n_way\"] = 8\n",
    "standalone_parameters[\"n_shot\"] = 3\n",
    "standalone_parameters[\"n_query\"]  = 2\n",
    "standalone_parameters[\"train_k_factor\"] = 1\n",
    "standalone_parameters[\"val_k_factor\"] = 2\n",
    "standalone_parameters[\"test_k_factor\"] = 2\n",
    "\n",
    "\n",
    "standalone_parameters[\"n_epoch\"] = 50\n",
    "\n",
    "standalone_parameters[\"patience\"] = 10\n",
    "standalone_parameters[\"criteria_for_best\"] = \"source_loss\"\n",
    "\n",
    "standalone_parameters[\"datasets\"] = [\n",
    "    {\n",
    "        \"labels\": ALL_SERIAL_NUMBERS,\n",
    "        \"domains\": ALL_DISTANCES_FEET_NARROWED,\n",
    "        \"num_examples_per_domain_per_label\": 100,\n",
    "        \"pickle_path\": os.path.join(get_datasets_base_path(), \"oracle.Run1_framed_2000Examples_stratified_ds.2022A.pkl\"),\n",
    "        \"source_or_target_dataset\": \"source\",\n",
    "        \"x_transforms\": [\"unit_mag\", \"minus_two\"],\n",
    "        \"episode_transforms\": [],\n",
    "        \"domain_prefix\": \"ORACLE_\"\n",
    "    },\n",
    "    {\n",
    "        \"labels\": ALL_NODES,\n",
    "        \"domains\": ALL_DAYS,\n",
    "        \"num_examples_per_domain_per_label\": 100,\n",
    "        \"pickle_path\": os.path.join(get_datasets_base_path(), \"cores.stratified_ds.2022A.pkl\"),\n",
    "        \"source_or_target_dataset\": \"target\",\n",
    "        \"x_transforms\": [\"unit_power\", \"times_zero\"],\n",
    "        \"episode_transforms\": [],\n",
    "        \"domain_prefix\": \"CORES_\"\n",
    "    }   \n",
    "]\n",
    "\n",
    "standalone_parameters[\"torch_default_dtype\"] = \"torch.float32\" \n",
    "\n",
    "\n",
    "\n",
    "standalone_parameters[\"x_net\"] =     [\n",
    "    {\"class\": \"nnReshape\", \"kargs\": {\"shape\":[-1, 1, 2, 256]}},\n",
    "    {\"class\": \"Conv2d\", \"kargs\": { \"in_channels\":1, \"out_channels\":256, \"kernel_size\":(1,7), \"bias\":False, \"padding\":(0,3), },},\n",
    "    {\"class\": \"ReLU\", \"kargs\": {\"inplace\": True}},\n",
    "    {\"class\": \"BatchNorm2d\", \"kargs\": {\"num_features\":256}},\n",
    "\n",
    "    {\"class\": \"Conv2d\", \"kargs\": { \"in_channels\":256, \"out_channels\":80, \"kernel_size\":(2,7), \"bias\":True, \"padding\":(0,3), },},\n",
    "    {\"class\": \"ReLU\", \"kargs\": {\"inplace\": True}},\n",
    "    {\"class\": \"BatchNorm2d\", \"kargs\": {\"num_features\":80}},\n",
    "    {\"class\": \"Flatten\", \"kargs\": {}},\n",
    "\n",
    "    {\"class\": \"Linear\", \"kargs\": {\"in_features\": 80*256, \"out_features\": 256}}, # 80 units per IQ pair\n",
    "    {\"class\": \"ReLU\", \"kargs\": {\"inplace\": True}},\n",
    "    {\"class\": \"BatchNorm1d\", \"kargs\": {\"num_features\":256}},\n",
    "\n",
    "    {\"class\": \"Linear\", \"kargs\": {\"in_features\": 256, \"out_features\": 256}},\n",
    "]\n",
    "\n",
    "# Parameters relevant to results\n",
    "# These parameters will basically never need to change\n",
    "standalone_parameters[\"NUM_LOGS_PER_EPOCH\"] = 10\n",
    "standalone_parameters[\"BEST_MODEL_PATH\"] = \"./best_model.pth\"\n",
    "\n",
    "\n",
    "\n",
    "\n"
   ]
  },
  {
   "cell_type": "code",
   "execution_count": 4,
   "id": "45700a58",
   "metadata": {
    "execution": {
     "iopub.execute_input": "2022-03-28T12:43:17.761011Z",
     "iopub.status.busy": "2022-03-28T12:43:17.760066Z",
     "iopub.status.idle": "2022-03-28T12:43:17.781984Z",
     "shell.execute_reply": "2022-03-28T12:43:17.781193Z"
    },
    "papermill": {
     "duration": 0.056438,
     "end_time": "2022-03-28T12:43:17.782133",
     "exception": false,
     "start_time": "2022-03-28T12:43:17.725695",
     "status": "completed"
    },
    "tags": [
     "injected-parameters"
    ]
   },
   "outputs": [],
   "source": [
    "# Parameters\n",
    "parameters = {\n",
    "    \"experiment_name\": \"tl_3-jitter5v2:cores -> oracle.run1.framed\",\n",
    "    \"device\": \"cuda\",\n",
    "    \"lr\": 0.0001,\n",
    "    \"x_shape\": [2, 256],\n",
    "    \"n_shot\": 3,\n",
    "    \"n_query\": 2,\n",
    "    \"train_k_factor\": 3,\n",
    "    \"val_k_factor\": 2,\n",
    "    \"test_k_factor\": 2,\n",
    "    \"torch_default_dtype\": \"torch.float32\",\n",
    "    \"n_epoch\": 50,\n",
    "    \"patience\": 3,\n",
    "    \"criteria_for_best\": \"target_accuracy\",\n",
    "    \"x_net\": [\n",
    "        {\"class\": \"nnReshape\", \"kargs\": {\"shape\": [-1, 1, 2, 256]}},\n",
    "        {\n",
    "            \"class\": \"Conv2d\",\n",
    "            \"kargs\": {\n",
    "                \"in_channels\": 1,\n",
    "                \"out_channels\": 256,\n",
    "                \"kernel_size\": [1, 7],\n",
    "                \"bias\": False,\n",
    "                \"padding\": [0, 3],\n",
    "            },\n",
    "        },\n",
    "        {\"class\": \"ReLU\", \"kargs\": {\"inplace\": True}},\n",
    "        {\"class\": \"BatchNorm2d\", \"kargs\": {\"num_features\": 256}},\n",
    "        {\n",
    "            \"class\": \"Conv2d\",\n",
    "            \"kargs\": {\n",
    "                \"in_channels\": 256,\n",
    "                \"out_channels\": 80,\n",
    "                \"kernel_size\": [2, 7],\n",
    "                \"bias\": True,\n",
    "                \"padding\": [0, 3],\n",
    "            },\n",
    "        },\n",
    "        {\"class\": \"ReLU\", \"kargs\": {\"inplace\": True}},\n",
    "        {\"class\": \"BatchNorm2d\", \"kargs\": {\"num_features\": 80}},\n",
    "        {\"class\": \"Flatten\", \"kargs\": {}},\n",
    "        {\"class\": \"Linear\", \"kargs\": {\"in_features\": 20480, \"out_features\": 256}},\n",
    "        {\"class\": \"ReLU\", \"kargs\": {\"inplace\": True}},\n",
    "        {\"class\": \"BatchNorm1d\", \"kargs\": {\"num_features\": 256}},\n",
    "        {\"class\": \"Linear\", \"kargs\": {\"in_features\": 256, \"out_features\": 256}},\n",
    "    ],\n",
    "    \"NUM_LOGS_PER_EPOCH\": 10,\n",
    "    \"BEST_MODEL_PATH\": \"./best_model.pth\",\n",
    "    \"n_way\": 16,\n",
    "    \"datasets\": [\n",
    "        {\n",
    "            \"labels\": [\n",
    "                \"1-10.\",\n",
    "                \"1-11.\",\n",
    "                \"1-15.\",\n",
    "                \"1-16.\",\n",
    "                \"1-17.\",\n",
    "                \"1-18.\",\n",
    "                \"1-19.\",\n",
    "                \"10-4.\",\n",
    "                \"10-7.\",\n",
    "                \"11-1.\",\n",
    "                \"11-14.\",\n",
    "                \"11-17.\",\n",
    "                \"11-20.\",\n",
    "                \"11-7.\",\n",
    "                \"13-20.\",\n",
    "                \"13-8.\",\n",
    "                \"14-10.\",\n",
    "                \"14-11.\",\n",
    "                \"14-14.\",\n",
    "                \"14-7.\",\n",
    "                \"15-1.\",\n",
    "                \"15-20.\",\n",
    "                \"16-1.\",\n",
    "                \"16-16.\",\n",
    "                \"17-10.\",\n",
    "                \"17-11.\",\n",
    "                \"17-2.\",\n",
    "                \"19-1.\",\n",
    "                \"19-16.\",\n",
    "                \"19-19.\",\n",
    "                \"19-20.\",\n",
    "                \"19-3.\",\n",
    "                \"2-10.\",\n",
    "                \"2-11.\",\n",
    "                \"2-17.\",\n",
    "                \"2-18.\",\n",
    "                \"2-20.\",\n",
    "                \"2-3.\",\n",
    "                \"2-4.\",\n",
    "                \"2-5.\",\n",
    "                \"2-6.\",\n",
    "                \"2-7.\",\n",
    "                \"2-8.\",\n",
    "                \"3-13.\",\n",
    "                \"3-18.\",\n",
    "                \"3-3.\",\n",
    "                \"4-1.\",\n",
    "                \"4-10.\",\n",
    "                \"4-11.\",\n",
    "                \"4-19.\",\n",
    "                \"5-5.\",\n",
    "                \"6-15.\",\n",
    "                \"7-10.\",\n",
    "                \"7-14.\",\n",
    "                \"8-18.\",\n",
    "                \"8-20.\",\n",
    "                \"8-3.\",\n",
    "                \"8-8.\",\n",
    "            ],\n",
    "            \"domains\": [1, 2, 3, 4, 5],\n",
    "            \"num_examples_per_domain_per_label\": -1,\n",
    "            \"pickle_path\": \"/root/csc500-main/datasets/cores.stratified_ds.2022A.pkl\",\n",
    "            \"source_or_target_dataset\": \"source\",\n",
    "            \"x_transforms\": [\n",
    "                \"unit_power\",\n",
    "                \"jitter_256_5\",\n",
    "                \"lowpass_+/-10MHz\",\n",
    "                \"take_200\",\n",
    "            ],\n",
    "            \"episode_transforms\": [],\n",
    "            \"domain_prefix\": \"C_\",\n",
    "        },\n",
    "        {\n",
    "            \"labels\": [\n",
    "                \"3123D52\",\n",
    "                \"3123D65\",\n",
    "                \"3123D79\",\n",
    "                \"3123D80\",\n",
    "                \"3123D54\",\n",
    "                \"3123D70\",\n",
    "                \"3123D7B\",\n",
    "                \"3123D89\",\n",
    "                \"3123D58\",\n",
    "                \"3123D76\",\n",
    "                \"3123D7D\",\n",
    "                \"3123EFE\",\n",
    "                \"3123D64\",\n",
    "                \"3123D78\",\n",
    "                \"3123D7E\",\n",
    "                \"3124E4A\",\n",
    "            ],\n",
    "            \"domains\": [32, 38, 8, 44, 14, 50, 20, 26],\n",
    "            \"num_examples_per_domain_per_label\": 2000,\n",
    "            \"pickle_path\": \"/root/csc500-main/datasets/oracle.Run1_framed_2000Examples_stratified_ds.2022A.pkl\",\n",
    "            \"source_or_target_dataset\": \"target\",\n",
    "            \"x_transforms\": [\n",
    "                \"unit_power\",\n",
    "                \"jitter_256_5\",\n",
    "                \"take_200\",\n",
    "                \"resample_20Msps_to_25Msps\",\n",
    "            ],\n",
    "            \"episode_transforms\": [],\n",
    "            \"domain_prefix\": \"O_\",\n",
    "        },\n",
    "    ],\n",
    "    \"seed\": 420,\n",
    "    \"dataset_seed\": 420,\n",
    "}\n"
   ]
  },
  {
   "cell_type": "code",
   "execution_count": 5,
   "id": "8fa1cc33",
   "metadata": {
    "execution": {
     "iopub.execute_input": "2022-03-28T12:43:17.833412Z",
     "iopub.status.busy": "2022-03-28T12:43:17.832789Z",
     "iopub.status.idle": "2022-03-28T12:43:17.854465Z",
     "shell.execute_reply": "2022-03-28T12:43:17.853689Z"
    },
    "papermill": {
     "duration": 0.048083,
     "end_time": "2022-03-28T12:43:17.854614",
     "exception": false,
     "start_time": "2022-03-28T12:43:17.806531",
     "status": "completed"
    },
    "tags": []
   },
   "outputs": [],
   "source": [
    "# Set this to True if you want to run this template directly\n",
    "STANDALONE = False\n",
    "if STANDALONE:\n",
    "    print(\"parameters not injected, running with standalone_parameters\")\n",
    "    parameters = standalone_parameters\n",
    "\n",
    "if not 'parameters' in locals() and not 'parameters' in globals():\n",
    "    raise Exception(\"Parameter injection failed\")\n",
    "\n",
    "#Use an easy dict for all the parameters\n",
    "p = EasyDict(parameters)\n",
    "\n",
    "if \"x_shape\" not in p:\n",
    "    p.x_shape = [2,256] # Default to this if we dont supply x_shape\n",
    "\n",
    "\n",
    "supplied_keys = set(p.keys())\n",
    "\n",
    "if  supplied_keys != required_parameters:\n",
    "    print(\"Parameters are incorrect\")\n",
    "    if len(supplied_keys - required_parameters)>0: print(\"Shouldn't have:\", str(supplied_keys - required_parameters))\n",
    "    if len(required_parameters - supplied_keys)>0: print(\"Need to have:\", str(required_parameters - supplied_keys))\n",
    "    raise RuntimeError(\"Parameters are incorrect\")"
   ]
  },
  {
   "cell_type": "code",
   "execution_count": 6,
   "id": "3a028d58",
   "metadata": {
    "execution": {
     "iopub.execute_input": "2022-03-28T12:43:17.905645Z",
     "iopub.status.busy": "2022-03-28T12:43:17.904863Z",
     "iopub.status.idle": "2022-03-28T12:43:17.926050Z",
     "shell.execute_reply": "2022-03-28T12:43:17.925253Z"
    },
    "papermill": {
     "duration": 0.045014,
     "end_time": "2022-03-28T12:43:17.926197",
     "exception": false,
     "start_time": "2022-03-28T12:43:17.881183",
     "status": "completed"
    },
    "tags": []
   },
   "outputs": [],
   "source": [
    "###################################\n",
    "# Set the RNGs and make it all deterministic\n",
    "###################################\n",
    "np.random.seed(p.seed)\n",
    "random.seed(p.seed)\n",
    "torch.manual_seed(p.seed)\n",
    "\n",
    "torch.use_deterministic_algorithms(True) "
   ]
  },
  {
   "cell_type": "code",
   "execution_count": 7,
   "id": "b691acf6",
   "metadata": {
    "execution": {
     "iopub.execute_input": "2022-03-28T12:43:17.975464Z",
     "iopub.status.busy": "2022-03-28T12:43:17.975104Z",
     "iopub.status.idle": "2022-03-28T12:43:17.998699Z",
     "shell.execute_reply": "2022-03-28T12:43:17.997913Z"
    },
    "papermill": {
     "duration": 0.047437,
     "end_time": "2022-03-28T12:43:17.998847",
     "exception": false,
     "start_time": "2022-03-28T12:43:17.951410",
     "status": "completed"
    },
    "tags": []
   },
   "outputs": [],
   "source": [
    "###########################################\n",
    "# The stratified datasets honor this\n",
    "###########################################\n",
    "torch.set_default_dtype(eval(p.torch_default_dtype))"
   ]
  },
  {
   "cell_type": "code",
   "execution_count": 8,
   "id": "b5fba671",
   "metadata": {
    "execution": {
     "iopub.execute_input": "2022-03-28T12:43:18.049510Z",
     "iopub.status.busy": "2022-03-28T12:43:18.048327Z",
     "iopub.status.idle": "2022-03-28T12:43:18.105370Z",
     "shell.execute_reply": "2022-03-28T12:43:18.104583Z"
    },
    "papermill": {
     "duration": 0.079906,
     "end_time": "2022-03-28T12:43:18.105518",
     "exception": false,
     "start_time": "2022-03-28T12:43:18.025612",
     "status": "completed"
    },
    "tags": []
   },
   "outputs": [],
   "source": [
    "###################################\n",
    "# Build the network(s)\n",
    "# Note: It's critical to do this AFTER setting the RNG\n",
    "###################################\n",
    "x_net = build_sequential(p.x_net)"
   ]
  },
  {
   "cell_type": "code",
   "execution_count": 9,
   "id": "5d7e61cc",
   "metadata": {
    "execution": {
     "iopub.execute_input": "2022-03-28T12:43:18.154327Z",
     "iopub.status.busy": "2022-03-28T12:43:18.153784Z",
     "iopub.status.idle": "2022-03-28T12:43:18.178328Z",
     "shell.execute_reply": "2022-03-28T12:43:18.177541Z"
    },
    "papermill": {
     "duration": 0.047959,
     "end_time": "2022-03-28T12:43:18.178477",
     "exception": false,
     "start_time": "2022-03-28T12:43:18.130518",
     "status": "completed"
    },
    "tags": []
   },
   "outputs": [],
   "source": [
    "start_time_secs = time.time()"
   ]
  },
  {
   "cell_type": "code",
   "execution_count": 10,
   "id": "c6b67dfd",
   "metadata": {
    "execution": {
     "iopub.execute_input": "2022-03-28T12:43:18.235105Z",
     "iopub.status.busy": "2022-03-28T12:43:18.234311Z",
     "iopub.status.idle": "2022-03-28T12:43:18.259003Z",
     "shell.execute_reply": "2022-03-28T12:43:18.258219Z"
    },
    "papermill": {
     "duration": 0.053835,
     "end_time": "2022-03-28T12:43:18.259151",
     "exception": false,
     "start_time": "2022-03-28T12:43:18.205316",
     "status": "completed"
    },
    "tags": []
   },
   "outputs": [],
   "source": [
    "p.domains_source = []\n",
    "p.domains_target = []\n",
    "\n",
    "\n",
    "train_original_source = []\n",
    "val_original_source   = []\n",
    "test_original_source  = []\n",
    "\n",
    "train_original_target = []\n",
    "val_original_target   = []\n",
    "test_original_target  = []"
   ]
  },
  {
   "cell_type": "code",
   "execution_count": 11,
   "id": "e3d9c3d3",
   "metadata": {
    "execution": {
     "iopub.execute_input": "2022-03-28T12:43:18.308980Z",
     "iopub.status.busy": "2022-03-28T12:43:18.308325Z",
     "iopub.status.idle": "2022-03-28T12:43:18.330923Z",
     "shell.execute_reply": "2022-03-28T12:43:18.330136Z"
    },
    "papermill": {
     "duration": 0.045164,
     "end_time": "2022-03-28T12:43:18.331071",
     "exception": false,
     "start_time": "2022-03-28T12:43:18.285907",
     "status": "completed"
    },
    "tags": []
   },
   "outputs": [],
   "source": [
    "# global_x_transform_func = lambda x: normalize(x.to(torch.get_default_dtype()), \"unit_power\") # unit_power, unit_mag\n",
    "# global_x_transform_func = lambda x: normalize(x, \"unit_power\") # unit_power, unit_mag"
   ]
  },
  {
   "cell_type": "code",
   "execution_count": 12,
   "id": "acb78fd2",
   "metadata": {
    "execution": {
     "iopub.execute_input": "2022-03-28T12:43:18.390362Z",
     "iopub.status.busy": "2022-03-28T12:43:18.389528Z",
     "iopub.status.idle": "2022-03-28T12:43:18.409021Z",
     "shell.execute_reply": "2022-03-28T12:43:18.408314Z"
    },
    "papermill": {
     "duration": 0.051574,
     "end_time": "2022-03-28T12:43:18.409178",
     "exception": false,
     "start_time": "2022-03-28T12:43:18.357604",
     "status": "completed"
    },
    "tags": []
   },
   "outputs": [],
   "source": [
    "def add_dataset(\n",
    "    labels,\n",
    "    domains,\n",
    "    pickle_path,\n",
    "    x_transforms,\n",
    "    episode_transforms,\n",
    "    domain_prefix,\n",
    "    num_examples_per_domain_per_label,\n",
    "    source_or_target_dataset:str,\n",
    "    iterator_seed=p.seed,\n",
    "    dataset_seed=p.dataset_seed,\n",
    "    n_shot=p.n_shot,\n",
    "    n_way=p.n_way,\n",
    "    n_query=p.n_query,\n",
    "    train_val_test_k_factors=(p.train_k_factor,p.val_k_factor,p.test_k_factor),\n",
    "):\n",
    "   \n",
    "    if x_transforms == []: x_transform = None\n",
    "    else: x_transform = get_chained_transform(x_transforms)\n",
    "    \n",
    "    if episode_transforms == []: episode_transform = None\n",
    "    else: raise Exception(\"episode_transforms not implemented\")\n",
    "    \n",
    "    episode_transform = lambda tup, _prefix=domain_prefix: (_prefix + str(tup[0]), tup[1])\n",
    "\n",
    "\n",
    "    eaf = Episodic_Accessor_Factory(\n",
    "        labels=labels,\n",
    "        domains=domains,\n",
    "        num_examples_per_domain_per_label=num_examples_per_domain_per_label,\n",
    "        iterator_seed=iterator_seed,\n",
    "        dataset_seed=dataset_seed,\n",
    "        n_shot=n_shot,\n",
    "        n_way=n_way,\n",
    "        n_query=n_query,\n",
    "        train_val_test_k_factors=train_val_test_k_factors,\n",
    "        pickle_path=pickle_path,\n",
    "        x_transform_func=x_transform,\n",
    "    )\n",
    "\n",
    "    train, val, test = eaf.get_train(), eaf.get_val(), eaf.get_test()\n",
    "    train = Lazy_Iterable_Wrapper(train, episode_transform)\n",
    "    val = Lazy_Iterable_Wrapper(val, episode_transform)\n",
    "    test = Lazy_Iterable_Wrapper(test, episode_transform)\n",
    "\n",
    "    if source_or_target_dataset==\"source\":\n",
    "        train_original_source.append(train)\n",
    "        val_original_source.append(val)\n",
    "        test_original_source.append(test)\n",
    "\n",
    "        p.domains_source.extend(\n",
    "            [domain_prefix + str(u) for u in domains]\n",
    "        )\n",
    "    elif source_or_target_dataset==\"target\":\n",
    "        train_original_target.append(train)\n",
    "        val_original_target.append(val)\n",
    "        test_original_target.append(test)\n",
    "        p.domains_target.extend(\n",
    "            [domain_prefix + str(u) for u in domains]\n",
    "        )\n",
    "    else:\n",
    "        raise Exception(f\"invalid source_or_target_dataset: {source_or_target_dataset}\")\n",
    "    "
   ]
  },
  {
   "cell_type": "code",
   "execution_count": 13,
   "id": "fe266617",
   "metadata": {
    "execution": {
     "iopub.execute_input": "2022-03-28T12:43:18.456606Z",
     "iopub.status.busy": "2022-03-28T12:43:18.455929Z",
     "iopub.status.idle": "2022-03-28T12:45:08.874600Z",
     "shell.execute_reply": "2022-03-28T12:45:08.875274Z"
    },
    "papermill": {
     "duration": 110.442853,
     "end_time": "2022-03-28T12:45:08.875509",
     "exception": false,
     "start_time": "2022-03-28T12:43:18.432656",
     "status": "completed"
    },
    "tags": []
   },
   "outputs": [],
   "source": [
    "for ds in p.datasets:\n",
    "    add_dataset(**ds)"
   ]
  },
  {
   "cell_type": "code",
   "execution_count": 14,
   "id": "b90d65ac",
   "metadata": {
    "execution": {
     "iopub.execute_input": "2022-03-28T12:45:08.928873Z",
     "iopub.status.busy": "2022-03-28T12:45:08.928500Z",
     "iopub.status.idle": "2022-03-28T12:45:08.952100Z",
     "shell.execute_reply": "2022-03-28T12:45:08.951257Z"
    },
    "papermill": {
     "duration": 0.047171,
     "end_time": "2022-03-28T12:45:08.952258",
     "exception": false,
     "start_time": "2022-03-28T12:45:08.905087",
     "status": "completed"
    },
    "tags": []
   },
   "outputs": [],
   "source": [
    "# from steves_utils.CORES.utils import (\n",
    "#     ALL_NODES,\n",
    "#     ALL_NODES_MINIMUM_1000_EXAMPLES,\n",
    "#     ALL_DAYS\n",
    "# )\n",
    "\n",
    "# add_dataset(\n",
    "#     labels=ALL_NODES,\n",
    "#     domains = ALL_DAYS,\n",
    "#     num_examples_per_domain_per_label=100,\n",
    "#     pickle_path=os.path.join(get_datasets_base_path(), \"cores.stratified_ds.2022A.pkl\"),\n",
    "#     source_or_target_dataset=\"target\",\n",
    "#     x_transform_func=global_x_transform_func,\n",
    "#     domain_modifier=lambda u: f\"cores_{u}\"\n",
    "# )"
   ]
  },
  {
   "cell_type": "code",
   "execution_count": 15,
   "id": "76db484d",
   "metadata": {
    "execution": {
     "iopub.execute_input": "2022-03-28T12:45:09.010744Z",
     "iopub.status.busy": "2022-03-28T12:45:09.003148Z",
     "iopub.status.idle": "2022-03-28T12:45:09.023658Z",
     "shell.execute_reply": "2022-03-28T12:45:09.022837Z"
    },
    "papermill": {
     "duration": 0.044078,
     "end_time": "2022-03-28T12:45:09.023817",
     "exception": false,
     "start_time": "2022-03-28T12:45:08.979739",
     "status": "completed"
    },
    "tags": []
   },
   "outputs": [],
   "source": [
    "# from steves_utils.ORACLE.utils_v2 import (\n",
    "#     ALL_DISTANCES_FEET,\n",
    "#     ALL_RUNS,\n",
    "#     ALL_SERIAL_NUMBERS,\n",
    "# )\n",
    "\n",
    "\n",
    "# add_dataset(\n",
    "#     labels=ALL_SERIAL_NUMBERS,\n",
    "#     domains = list(set(ALL_DISTANCES_FEET) - {2,62}),\n",
    "#     num_examples_per_domain_per_label=100,\n",
    "#     pickle_path=os.path.join(get_datasets_base_path(), \"oracle.Run2_framed_2000Examples_stratified_ds.2022A.pkl\"),\n",
    "#     source_or_target_dataset=\"source\",\n",
    "#     x_transform_func=global_x_transform_func,\n",
    "#     domain_modifier=lambda u: f\"oracle1_{u}\"\n",
    "# )\n"
   ]
  },
  {
   "cell_type": "code",
   "execution_count": 16,
   "id": "97dea9d2",
   "metadata": {
    "execution": {
     "iopub.execute_input": "2022-03-28T12:45:09.078425Z",
     "iopub.status.busy": "2022-03-28T12:45:09.077754Z",
     "iopub.status.idle": "2022-03-28T12:45:09.098261Z",
     "shell.execute_reply": "2022-03-28T12:45:09.098932Z"
    },
    "papermill": {
     "duration": 0.045524,
     "end_time": "2022-03-28T12:45:09.099112",
     "exception": false,
     "start_time": "2022-03-28T12:45:09.053588",
     "status": "completed"
    },
    "tags": []
   },
   "outputs": [],
   "source": [
    "# from steves_utils.ORACLE.utils_v2 import (\n",
    "#     ALL_DISTANCES_FEET,\n",
    "#     ALL_RUNS,\n",
    "#     ALL_SERIAL_NUMBERS,\n",
    "# )\n",
    "\n",
    "\n",
    "# add_dataset(\n",
    "#     labels=ALL_SERIAL_NUMBERS,\n",
    "#     domains = list(set(ALL_DISTANCES_FEET) - {2,62,56}),\n",
    "#     num_examples_per_domain_per_label=100,\n",
    "#     pickle_path=os.path.join(get_datasets_base_path(), \"oracle.Run2_framed_2000Examples_stratified_ds.2022A.pkl\"),\n",
    "#     source_or_target_dataset=\"source\",\n",
    "#     x_transform_func=global_x_transform_func,\n",
    "#     domain_modifier=lambda u: f\"oracle2_{u}\"\n",
    "# )"
   ]
  },
  {
   "cell_type": "code",
   "execution_count": 17,
   "id": "6f289866",
   "metadata": {
    "execution": {
     "iopub.execute_input": "2022-03-28T12:45:09.157694Z",
     "iopub.status.busy": "2022-03-28T12:45:09.155027Z",
     "iopub.status.idle": "2022-03-28T12:45:09.174736Z",
     "shell.execute_reply": "2022-03-28T12:45:09.174031Z"
    },
    "papermill": {
     "duration": 0.045639,
     "end_time": "2022-03-28T12:45:09.174891",
     "exception": false,
     "start_time": "2022-03-28T12:45:09.129252",
     "status": "completed"
    },
    "tags": []
   },
   "outputs": [],
   "source": [
    "# add_dataset(\n",
    "#     labels=list(range(19)),\n",
    "#     domains = [0,1,2],\n",
    "#     num_examples_per_domain_per_label=100,\n",
    "#     pickle_path=os.path.join(get_datasets_base_path(), \"metehan.stratified_ds.2022A.pkl\"),\n",
    "#     source_or_target_dataset=\"target\",\n",
    "#     x_transform_func=global_x_transform_func,\n",
    "#     domain_modifier=lambda u: f\"met_{u}\"\n",
    "# )"
   ]
  },
  {
   "cell_type": "code",
   "execution_count": 18,
   "id": "86a863c3",
   "metadata": {
    "execution": {
     "iopub.execute_input": "2022-03-28T12:45:09.226229Z",
     "iopub.status.busy": "2022-03-28T12:45:09.225532Z",
     "iopub.status.idle": "2022-03-28T12:45:09.246423Z",
     "shell.execute_reply": "2022-03-28T12:45:09.245722Z"
    },
    "papermill": {
     "duration": 0.045365,
     "end_time": "2022-03-28T12:45:09.246576",
     "exception": false,
     "start_time": "2022-03-28T12:45:09.201211",
     "status": "completed"
    },
    "tags": []
   },
   "outputs": [],
   "source": [
    "# # from steves_utils.wisig.utils import (\n",
    "# #     ALL_NODES_MINIMUM_100_EXAMPLES,\n",
    "# #     ALL_NODES_MINIMUM_500_EXAMPLES,\n",
    "# #     ALL_NODES_MINIMUM_1000_EXAMPLES,\n",
    "# #     ALL_DAYS\n",
    "# # )\n",
    "\n",
    "# import steves_utils.wisig.utils as wisig\n",
    "\n",
    "\n",
    "# add_dataset(\n",
    "#     labels=wisig.ALL_NODES_MINIMUM_100_EXAMPLES,\n",
    "#     domains = wisig.ALL_DAYS,\n",
    "#     num_examples_per_domain_per_label=100,\n",
    "#     pickle_path=os.path.join(get_datasets_base_path(), \"wisig.node3-19.stratified_ds.2022A.pkl\"),\n",
    "#     source_or_target_dataset=\"target\",\n",
    "#     x_transform_func=global_x_transform_func,\n",
    "#     domain_modifier=lambda u: f\"wisig_{u}\"\n",
    "# )"
   ]
  },
  {
   "cell_type": "code",
   "execution_count": 19,
   "id": "fd5442bc",
   "metadata": {
    "execution": {
     "iopub.execute_input": "2022-03-28T12:45:09.304042Z",
     "iopub.status.busy": "2022-03-28T12:45:09.302039Z",
     "iopub.status.idle": "2022-03-28T12:45:09.322571Z",
     "shell.execute_reply": "2022-03-28T12:45:09.321761Z"
    },
    "papermill": {
     "duration": 0.04928,
     "end_time": "2022-03-28T12:45:09.322725",
     "exception": false,
     "start_time": "2022-03-28T12:45:09.273445",
     "status": "completed"
    },
    "tags": []
   },
   "outputs": [],
   "source": [
    "###################################\n",
    "# Build the dataset\n",
    "###################################\n",
    "train_original_source = Iterable_Aggregator(train_original_source, p.seed)\n",
    "val_original_source = Iterable_Aggregator(val_original_source, p.seed)\n",
    "test_original_source = Iterable_Aggregator(test_original_source, p.seed)\n",
    "\n",
    "\n",
    "train_original_target = Iterable_Aggregator(train_original_target, p.seed)\n",
    "val_original_target = Iterable_Aggregator(val_original_target, p.seed)\n",
    "test_original_target = Iterable_Aggregator(test_original_target, p.seed)\n",
    "\n",
    "# For CNN We only use X and Y. And we only train on the source.\n",
    "# Properly form the data using a transform lambda and Lazy_Iterable_Wrapper. Finally wrap them in a dataloader\n",
    "\n",
    "transform_lambda = lambda ex: ex[1] # Original is (<domain>, <episode>) so we strip down to episode only\n",
    "\n",
    "train_processed_source = Lazy_Iterable_Wrapper(train_original_source, transform_lambda)\n",
    "val_processed_source   = Lazy_Iterable_Wrapper(val_original_source, transform_lambda)\n",
    "test_processed_source  = Lazy_Iterable_Wrapper(test_original_source, transform_lambda)\n",
    "\n",
    "train_processed_target = Lazy_Iterable_Wrapper(train_original_target, transform_lambda)\n",
    "val_processed_target   = Lazy_Iterable_Wrapper(val_original_target, transform_lambda)\n",
    "test_processed_target  = Lazy_Iterable_Wrapper(test_original_target, transform_lambda)\n",
    "\n",
    "datasets = EasyDict({\n",
    "    \"source\": {\n",
    "        \"original\": {\"train\":train_original_source, \"val\":val_original_source, \"test\":test_original_source},\n",
    "        \"processed\": {\"train\":train_processed_source, \"val\":val_processed_source, \"test\":test_processed_source}\n",
    "    },\n",
    "    \"target\": {\n",
    "        \"original\": {\"train\":train_original_target, \"val\":val_original_target, \"test\":test_original_target},\n",
    "        \"processed\": {\"train\":train_processed_target, \"val\":val_processed_target, \"test\":test_processed_target}\n",
    "    },\n",
    "})"
   ]
  },
  {
   "cell_type": "code",
   "execution_count": 20,
   "id": "5b3c01fc",
   "metadata": {
    "execution": {
     "iopub.execute_input": "2022-03-28T12:45:09.381082Z",
     "iopub.status.busy": "2022-03-28T12:45:09.378520Z",
     "iopub.status.idle": "2022-03-28T12:45:23.200279Z",
     "shell.execute_reply": "2022-03-28T12:45:23.199587Z"
    },
    "papermill": {
     "duration": 13.848772,
     "end_time": "2022-03-28T12:45:23.200423",
     "exception": false,
     "start_time": "2022-03-28T12:45:09.351651",
     "status": "completed"
    },
    "tags": []
   },
   "outputs": [
    {
     "name": "stdout",
     "output_type": "stream",
     "text": [
      "{'C_3', 'C_1', 'C_4', 'C_2', 'C_5'}\n"
     ]
    },
    {
     "name": "stdout",
     "output_type": "stream",
     "text": [
      "{'O_14', 'O_20', 'O_26', 'O_8', 'O_44', 'O_50', 'O_32', 'O_38'}\n"
     ]
    },
    {
     "name": "stdout",
     "output_type": "stream",
     "text": [
      "tensor([[[0., 0., 0.,  ..., 0., 0., 0.],\n",
      "         [0., 0., 0.,  ..., 0., 0., 0.]],\n",
      "\n",
      "        [[0., 0., 0.,  ..., 0., 0., 0.],\n",
      "         [0., 0., 0.,  ..., 0., 0., 0.]],\n",
      "\n",
      "        [[0., 0., 0.,  ..., 0., 0., 0.],\n",
      "         [0., 0., 0.,  ..., 0., 0., 0.]],\n",
      "\n",
      "        ...,\n",
      "\n",
      "        [[0., 0., 0.,  ..., 0., 0., 0.],\n",
      "         [0., 0., 0.,  ..., 0., 0., 0.]],\n",
      "\n",
      "        [[0., 0., 0.,  ..., 0., 0., 0.],\n",
      "         [0., 0., 0.,  ..., 0., 0., 0.]],\n",
      "\n",
      "        [[0., 0., 0.,  ..., 0., 0., 0.],\n",
      "         [0., 0., 0.,  ..., 0., 0., 0.]]])\n"
     ]
    }
   ],
   "source": [
    "from steves_utils.transforms import get_average_magnitude, get_average_power\n",
    "\n",
    "print(set([u for u,_ in val_original_source]))\n",
    "print(set([u for u,_ in val_original_target]))\n",
    "\n",
    "s_x, s_y, q_x, q_y, _ = next(iter(train_processed_source))\n",
    "print(s_x)\n",
    "\n",
    "# for ds in [\n",
    "#     train_processed_source,\n",
    "#     val_processed_source,\n",
    "#     test_processed_source,\n",
    "#     train_processed_target,\n",
    "#     val_processed_target,\n",
    "#     test_processed_target\n",
    "# ]:\n",
    "#     for s_x, s_y, q_x, q_y, _ in ds:\n",
    "#         for X in (s_x, q_x):\n",
    "#             for x in X:\n",
    "#                 assert np.isclose(get_average_magnitude(x.numpy()), 1.0)\n",
    "#                 assert np.isclose(get_average_power(x.numpy()), 1.0)\n",
    "                "
   ]
  },
  {
   "cell_type": "code",
   "execution_count": 21,
   "id": "bbdacba1",
   "metadata": {
    "execution": {
     "iopub.execute_input": "2022-03-28T12:45:23.262895Z",
     "iopub.status.busy": "2022-03-28T12:45:23.262516Z",
     "iopub.status.idle": "2022-03-28T12:45:23.387579Z",
     "shell.execute_reply": "2022-03-28T12:45:23.386855Z"
    },
    "papermill": {
     "duration": 0.152908,
     "end_time": "2022-03-28T12:45:23.387761",
     "exception": false,
     "start_time": "2022-03-28T12:45:23.234853",
     "status": "completed"
    },
    "tags": []
   },
   "outputs": [
    {
     "name": "stdout",
     "output_type": "stream",
     "text": [
      "(2, 256)\n"
     ]
    }
   ],
   "source": [
    "###################################\n",
    "# Build the model\n",
    "###################################\n",
    "# easfsl only wants a tuple for the shape\n",
    "model = Steves_Prototypical_Network(x_net, device=p.device, x_shape=tuple(p.x_shape))\n",
    "optimizer = Adam(params=model.parameters(), lr=p.lr)"
   ]
  },
  {
   "cell_type": "code",
   "execution_count": 22,
   "id": "22b39ac5",
   "metadata": {
    "execution": {
     "iopub.execute_input": "2022-03-28T12:45:23.453707Z",
     "iopub.status.busy": "2022-03-28T12:45:23.453334Z",
     "iopub.status.idle": "2022-03-28T13:07:18.633502Z",
     "shell.execute_reply": "2022-03-28T13:07:18.633161Z"
    },
    "papermill": {
     "duration": 1315.216606,
     "end_time": "2022-03-28T13:07:18.633587",
     "exception": false,
     "start_time": "2022-03-28T12:45:23.416981",
     "status": "completed"
    },
    "tags": []
   },
   "outputs": [
    {
     "name": "stdout",
     "output_type": "stream",
     "text": [
      "epoch: 1, [batch: 1 / 6315], examples_per_second: 34.8007, train_label_loss: 2.7103, \n"
     ]
    },
    {
     "name": "stdout",
     "output_type": "stream",
     "text": [
      "epoch: 1, [batch: 632 / 6315], examples_per_second: 5014.3932, train_label_loss: 0.0076, \n"
     ]
    },
    {
     "name": "stdout",
     "output_type": "stream",
     "text": [
      "epoch: 1, [batch: 1263 / 6315], examples_per_second: 5109.2106, train_label_loss: 0.3311, \n"
     ]
    },
    {
     "name": "stdout",
     "output_type": "stream",
     "text": [
      "epoch: 1, [batch: 1895 / 6315], examples_per_second: 5075.5001, train_label_loss: 0.0006, \n"
     ]
    },
    {
     "name": "stdout",
     "output_type": "stream",
     "text": [
      "epoch: 1, [batch: 2526 / 6315], examples_per_second: 5012.0051, train_label_loss: 0.0002, \n"
     ]
    },
    {
     "name": "stdout",
     "output_type": "stream",
     "text": [
      "epoch: 1, [batch: 3158 / 6315], examples_per_second: 4835.0871, train_label_loss: 0.0013, \n"
     ]
    },
    {
     "name": "stdout",
     "output_type": "stream",
     "text": [
      "epoch: 1, [batch: 3789 / 6315], examples_per_second: 4927.4313, train_label_loss: 0.0007, \n"
     ]
    },
    {
     "name": "stdout",
     "output_type": "stream",
     "text": [
      "epoch: 1, [batch: 4420 / 6315], examples_per_second: 5213.4439, train_label_loss: 0.0056, \n"
     ]
    },
    {
     "name": "stdout",
     "output_type": "stream",
     "text": [
      "epoch: 1, [batch: 5052 / 6315], examples_per_second: 5003.4458, train_label_loss: 0.0001, \n"
     ]
    },
    {
     "name": "stdout",
     "output_type": "stream",
     "text": [
      "epoch: 1, [batch: 5683 / 6315], examples_per_second: 4864.7285, train_label_loss: 0.0082, \n"
     ]
    },
    {
     "name": "stdout",
     "output_type": "stream",
     "text": [
      "=============================================================\n",
      "epoch: 1, source_val_acc_label: 0.9942, target_val_acc_label: 0.3079, source_val_label_loss: 0.0290, target_val_label_loss: 2.1172, \n",
      "=============================================================\n"
     ]
    },
    {
     "name": "stdout",
     "output_type": "stream",
     "text": [
      "New best\n"
     ]
    },
    {
     "name": "stdout",
     "output_type": "stream",
     "text": [
      "epoch: 2, [batch: 1 / 6307], examples_per_second: 5.5086, train_label_loss: 0.0058, \n"
     ]
    },
    {
     "name": "stdout",
     "output_type": "stream",
     "text": [
      "epoch: 2, [batch: 631 / 6307], examples_per_second: 4952.8888, train_label_loss: 0.0113, \n"
     ]
    },
    {
     "name": "stdout",
     "output_type": "stream",
     "text": [
      "epoch: 2, [batch: 1262 / 6307], examples_per_second: 5274.3897, train_label_loss: 0.0000, \n"
     ]
    },
    {
     "name": "stdout",
     "output_type": "stream",
     "text": [
      "epoch: 2, [batch: 1892 / 6307], examples_per_second: 5102.1725, train_label_loss: 0.0000, \n"
     ]
    },
    {
     "name": "stdout",
     "output_type": "stream",
     "text": [
      "epoch: 2, [batch: 2523 / 6307], examples_per_second: 5081.5272, train_label_loss: 0.0008, \n"
     ]
    },
    {
     "name": "stdout",
     "output_type": "stream",
     "text": [
      "epoch: 2, [batch: 3154 / 6307], examples_per_second: 4156.2600, train_label_loss: 0.0000, \n"
     ]
    },
    {
     "name": "stdout",
     "output_type": "stream",
     "text": [
      "epoch: 2, [batch: 3784 / 6307], examples_per_second: 3877.3926, train_label_loss: 0.0000, \n"
     ]
    },
    {
     "name": "stdout",
     "output_type": "stream",
     "text": [
      "epoch: 2, [batch: 4415 / 6307], examples_per_second: 3861.5381, train_label_loss: 0.0114, \n"
     ]
    },
    {
     "name": "stdout",
     "output_type": "stream",
     "text": [
      "epoch: 2, [batch: 5045 / 6307], examples_per_second: 3888.2656, train_label_loss: 0.0011, \n"
     ]
    },
    {
     "name": "stdout",
     "output_type": "stream",
     "text": [
      "epoch: 2, [batch: 5676 / 6307], examples_per_second: 3903.7315, train_label_loss: 0.0567, \n"
     ]
    },
    {
     "name": "stdout",
     "output_type": "stream",
     "text": [
      "=============================================================\n",
      "epoch: 2, source_val_acc_label: 0.9969, target_val_acc_label: 0.3447, source_val_label_loss: 0.0746, target_val_label_loss: 2.0822, \n",
      "=============================================================\n"
     ]
    },
    {
     "name": "stdout",
     "output_type": "stream",
     "text": [
      "New best\n"
     ]
    },
    {
     "name": "stdout",
     "output_type": "stream",
     "text": [
      "epoch: 3, [batch: 1 / 6326], examples_per_second: 4.0481, train_label_loss: 0.0000, \n"
     ]
    },
    {
     "name": "stdout",
     "output_type": "stream",
     "text": [
      "epoch: 3, [batch: 633 / 6326], examples_per_second: 4015.3010, train_label_loss: 0.0000, \n"
     ]
    },
    {
     "name": "stdout",
     "output_type": "stream",
     "text": [
      "epoch: 3, [batch: 1266 / 6326], examples_per_second: 3988.5263, train_label_loss: 0.0004, \n"
     ]
    },
    {
     "name": "stdout",
     "output_type": "stream",
     "text": [
      "epoch: 3, [batch: 1898 / 6326], examples_per_second: 4276.6182, train_label_loss: 0.0001, \n"
     ]
    },
    {
     "name": "stdout",
     "output_type": "stream",
     "text": [
      "epoch: 3, [batch: 2531 / 6326], examples_per_second: 4567.6612, train_label_loss: 0.0000, \n"
     ]
    },
    {
     "name": "stdout",
     "output_type": "stream",
     "text": [
      "epoch: 3, [batch: 3163 / 6326], examples_per_second: 4222.6135, train_label_loss: 0.0000, \n"
     ]
    },
    {
     "name": "stdout",
     "output_type": "stream",
     "text": [
      "epoch: 3, [batch: 3796 / 6326], examples_per_second: 3990.8793, train_label_loss: 0.0404, \n"
     ]
    },
    {
     "name": "stdout",
     "output_type": "stream",
     "text": [
      "epoch: 3, [batch: 4428 / 6326], examples_per_second: 3877.8932, train_label_loss: 0.0000, \n"
     ]
    },
    {
     "name": "stdout",
     "output_type": "stream",
     "text": [
      "epoch: 3, [batch: 5061 / 6326], examples_per_second: 3896.9750, train_label_loss: 0.0004, \n"
     ]
    },
    {
     "name": "stdout",
     "output_type": "stream",
     "text": [
      "epoch: 3, [batch: 5693 / 6326], examples_per_second: 3935.7773, train_label_loss: 0.0000, \n"
     ]
    },
    {
     "name": "stdout",
     "output_type": "stream",
     "text": [
      "=============================================================\n",
      "epoch: 3, source_val_acc_label: 0.9969, target_val_acc_label: 0.3292, source_val_label_loss: 0.0118, target_val_label_loss: 2.1106, \n",
      "=============================================================\n"
     ]
    },
    {
     "name": "stdout",
     "output_type": "stream",
     "text": [
      "epoch: 4, [batch: 1 / 6302], examples_per_second: 4.1055, train_label_loss: 0.0750, \n"
     ]
    },
    {
     "name": "stdout",
     "output_type": "stream",
     "text": [
      "epoch: 4, [batch: 631 / 6302], examples_per_second: 3860.1746, train_label_loss: 0.0000, \n"
     ]
    },
    {
     "name": "stdout",
     "output_type": "stream",
     "text": [
      "epoch: 4, [batch: 1261 / 6302], examples_per_second: 4034.9169, train_label_loss: 0.0002, \n"
     ]
    },
    {
     "name": "stdout",
     "output_type": "stream",
     "text": [
      "epoch: 4, [batch: 1891 / 6302], examples_per_second: 4468.6958, train_label_loss: 0.0001, \n"
     ]
    },
    {
     "name": "stdout",
     "output_type": "stream",
     "text": [
      "epoch: 4, [batch: 2521 / 6302], examples_per_second: 4490.0489, train_label_loss: 0.0000, \n"
     ]
    },
    {
     "name": "stdout",
     "output_type": "stream",
     "text": [
      "epoch: 4, [batch: 3151 / 6302], examples_per_second: 4139.2923, train_label_loss: 0.0005, \n"
     ]
    },
    {
     "name": "stdout",
     "output_type": "stream",
     "text": [
      "epoch: 4, [batch: 3781 / 6302], examples_per_second: 3890.5911, train_label_loss: 0.0001, \n"
     ]
    },
    {
     "name": "stdout",
     "output_type": "stream",
     "text": [
      "epoch: 4, [batch: 4411 / 6302], examples_per_second: 3881.2055, train_label_loss: 0.0001, \n"
     ]
    },
    {
     "name": "stdout",
     "output_type": "stream",
     "text": [
      "epoch: 4, [batch: 5041 / 6302], examples_per_second: 3951.0252, train_label_loss: 0.0005, \n"
     ]
    },
    {
     "name": "stdout",
     "output_type": "stream",
     "text": [
      "epoch: 4, [batch: 5671 / 6302], examples_per_second: 3860.9846, train_label_loss: 0.0012, \n"
     ]
    },
    {
     "name": "stdout",
     "output_type": "stream",
     "text": [
      "=============================================================\n",
      "epoch: 4, source_val_acc_label: 0.9985, target_val_acc_label: 0.3201, source_val_label_loss: 0.0288, target_val_label_loss: 2.1724, \n",
      "=============================================================\n"
     ]
    },
    {
     "name": "stdout",
     "output_type": "stream",
     "text": [
      "epoch: 5, [batch: 1 / 6324], examples_per_second: 4.0964, train_label_loss: 0.0001, \n"
     ]
    },
    {
     "name": "stdout",
     "output_type": "stream",
     "text": [
      "epoch: 5, [batch: 633 / 6324], examples_per_second: 3974.2499, train_label_loss: 0.0000, \n"
     ]
    },
    {
     "name": "stdout",
     "output_type": "stream",
     "text": [
      "epoch: 5, [batch: 1265 / 6324], examples_per_second: 4045.2424, train_label_loss: 0.0001, \n"
     ]
    },
    {
     "name": "stdout",
     "output_type": "stream",
     "text": [
      "epoch: 5, [batch: 1897 / 6324], examples_per_second: 4560.7620, train_label_loss: 0.0000, \n"
     ]
    },
    {
     "name": "stdout",
     "output_type": "stream",
     "text": [
      "epoch: 5, [batch: 2530 / 6324], examples_per_second: 4517.3864, train_label_loss: 0.0768, \n"
     ]
    },
    {
     "name": "stdout",
     "output_type": "stream",
     "text": [
      "epoch: 5, [batch: 3162 / 6324], examples_per_second: 4577.8285, train_label_loss: 0.0165, \n"
     ]
    },
    {
     "name": "stdout",
     "output_type": "stream",
     "text": [
      "epoch: 5, [batch: 3794 / 6324], examples_per_second: 4006.2867, train_label_loss: 0.0000, \n"
     ]
    },
    {
     "name": "stdout",
     "output_type": "stream",
     "text": [
      "epoch: 5, [batch: 4427 / 6324], examples_per_second: 4050.2808, train_label_loss: 0.0000, \n"
     ]
    },
    {
     "name": "stdout",
     "output_type": "stream",
     "text": [
      "epoch: 5, [batch: 5059 / 6324], examples_per_second: 3960.6923, train_label_loss: 0.0000, \n"
     ]
    },
    {
     "name": "stdout",
     "output_type": "stream",
     "text": [
      "epoch: 5, [batch: 5691 / 6324], examples_per_second: 3968.4860, train_label_loss: 0.0001, \n"
     ]
    },
    {
     "name": "stdout",
     "output_type": "stream",
     "text": [
      "=============================================================\n",
      "epoch: 5, source_val_acc_label: 0.9984, target_val_acc_label: 0.3555, source_val_label_loss: 0.0132, target_val_label_loss: 2.0552, \n",
      "=============================================================\n"
     ]
    },
    {
     "name": "stdout",
     "output_type": "stream",
     "text": [
      "New best\n"
     ]
    },
    {
     "name": "stdout",
     "output_type": "stream",
     "text": [
      "epoch: 6, [batch: 1 / 6313], examples_per_second: 4.0969, train_label_loss: 0.0000, \n"
     ]
    },
    {
     "name": "stdout",
     "output_type": "stream",
     "text": [
      "epoch: 6, [batch: 632 / 6313], examples_per_second: 3832.4431, train_label_loss: 0.0000, \n"
     ]
    },
    {
     "name": "stdout",
     "output_type": "stream",
     "text": [
      "epoch: 6, [batch: 1263 / 6313], examples_per_second: 3839.9245, train_label_loss: 0.0004, \n"
     ]
    },
    {
     "name": "stdout",
     "output_type": "stream",
     "text": [
      "epoch: 6, [batch: 1894 / 6313], examples_per_second: 4188.6468, train_label_loss: 0.0000, \n"
     ]
    },
    {
     "name": "stdout",
     "output_type": "stream",
     "text": [
      "epoch: 6, [batch: 2525 / 6313], examples_per_second: 4255.2846, train_label_loss: 0.0000, \n"
     ]
    },
    {
     "name": "stdout",
     "output_type": "stream",
     "text": [
      "epoch: 6, [batch: 3157 / 6313], examples_per_second: 4210.1695, train_label_loss: 0.0000, \n"
     ]
    },
    {
     "name": "stdout",
     "output_type": "stream",
     "text": [
      "epoch: 6, [batch: 3788 / 6313], examples_per_second: 3941.1180, train_label_loss: 0.0001, \n"
     ]
    },
    {
     "name": "stdout",
     "output_type": "stream",
     "text": [
      "epoch: 6, [batch: 4419 / 6313], examples_per_second: 3958.6922, train_label_loss: 0.0000, \n"
     ]
    },
    {
     "name": "stdout",
     "output_type": "stream",
     "text": [
      "epoch: 6, [batch: 5050 / 6313], examples_per_second: 3900.5382, train_label_loss: 0.0000, \n"
     ]
    },
    {
     "name": "stdout",
     "output_type": "stream",
     "text": [
      "epoch: 6, [batch: 5681 / 6313], examples_per_second: 3891.0457, train_label_loss: 0.0000, \n"
     ]
    },
    {
     "name": "stdout",
     "output_type": "stream",
     "text": [
      "=============================================================\n",
      "epoch: 6, source_val_acc_label: 0.9987, target_val_acc_label: 0.3358, source_val_label_loss: 0.0088, target_val_label_loss: 2.1580, \n",
      "=============================================================\n"
     ]
    },
    {
     "name": "stdout",
     "output_type": "stream",
     "text": [
      "epoch: 7, [batch: 1 / 6295], examples_per_second: 4.1294, train_label_loss: 0.0000, \n"
     ]
    },
    {
     "name": "stdout",
     "output_type": "stream",
     "text": [
      "epoch: 7, [batch: 630 / 6295], examples_per_second: 3862.6652, train_label_loss: 0.0001, \n"
     ]
    },
    {
     "name": "stdout",
     "output_type": "stream",
     "text": [
      "epoch: 7, [batch: 1259 / 6295], examples_per_second: 3899.1146, train_label_loss: 0.0000, \n"
     ]
    },
    {
     "name": "stdout",
     "output_type": "stream",
     "text": [
      "epoch: 7, [batch: 1889 / 6295], examples_per_second: 4335.3430, train_label_loss: 0.0006, \n"
     ]
    },
    {
     "name": "stdout",
     "output_type": "stream",
     "text": [
      "epoch: 7, [batch: 2518 / 6295], examples_per_second: 4535.8399, train_label_loss: 0.0004, \n"
     ]
    },
    {
     "name": "stdout",
     "output_type": "stream",
     "text": [
      "epoch: 7, [batch: 3148 / 6295], examples_per_second: 4577.7360, train_label_loss: 0.0000, \n"
     ]
    },
    {
     "name": "stdout",
     "output_type": "stream",
     "text": [
      "epoch: 7, [batch: 3777 / 6295], examples_per_second: 3972.2886, train_label_loss: 0.0000, \n"
     ]
    },
    {
     "name": "stdout",
     "output_type": "stream",
     "text": [
      "epoch: 7, [batch: 4406 / 6295], examples_per_second: 3967.3794, train_label_loss: 0.0000, \n"
     ]
    },
    {
     "name": "stdout",
     "output_type": "stream",
     "text": [
      "epoch: 7, [batch: 5036 / 6295], examples_per_second: 3954.8461, train_label_loss: 0.0000, \n"
     ]
    },
    {
     "name": "stdout",
     "output_type": "stream",
     "text": [
      "epoch: 7, [batch: 5665 / 6295], examples_per_second: 3983.5000, train_label_loss: 0.0000, \n"
     ]
    },
    {
     "name": "stdout",
     "output_type": "stream",
     "text": [
      "=============================================================\n",
      "epoch: 7, source_val_acc_label: 0.9986, target_val_acc_label: 0.3503, source_val_label_loss: 0.0152, target_val_label_loss: 2.0049, \n",
      "=============================================================\n"
     ]
    },
    {
     "name": "stdout",
     "output_type": "stream",
     "text": [
      "epoch: 8, [batch: 1 / 6293], examples_per_second: 4.1880, train_label_loss: 0.0000, \n"
     ]
    },
    {
     "name": "stdout",
     "output_type": "stream",
     "text": [
      "epoch: 8, [batch: 630 / 6293], examples_per_second: 3881.3063, train_label_loss: 0.0000, \n"
     ]
    },
    {
     "name": "stdout",
     "output_type": "stream",
     "text": [
      "epoch: 8, [batch: 1259 / 6293], examples_per_second: 3919.5122, train_label_loss: 0.0000, \n"
     ]
    },
    {
     "name": "stdout",
     "output_type": "stream",
     "text": [
      "epoch: 8, [batch: 1888 / 6293], examples_per_second: 4214.2173, train_label_loss: 0.0000, \n"
     ]
    },
    {
     "name": "stdout",
     "output_type": "stream",
     "text": [
      "epoch: 8, [batch: 2517 / 6293], examples_per_second: 4459.2111, train_label_loss: 0.0001, \n"
     ]
    },
    {
     "name": "stdout",
     "output_type": "stream",
     "text": [
      "epoch: 8, [batch: 3147 / 6293], examples_per_second: 4469.8185, train_label_loss: 0.0000, \n"
     ]
    },
    {
     "name": "stdout",
     "output_type": "stream",
     "text": [
      "epoch: 8, [batch: 3776 / 6293], examples_per_second: 3844.8398, train_label_loss: 0.0000, \n"
     ]
    },
    {
     "name": "stdout",
     "output_type": "stream",
     "text": [
      "epoch: 8, [batch: 4405 / 6293], examples_per_second: 3891.8841, train_label_loss: 0.0000, \n"
     ]
    },
    {
     "name": "stdout",
     "output_type": "stream",
     "text": [
      "epoch: 8, [batch: 5034 / 6293], examples_per_second: 4031.2316, train_label_loss: 0.0013, \n"
     ]
    },
    {
     "name": "stdout",
     "output_type": "stream",
     "text": [
      "epoch: 8, [batch: 5663 / 6293], examples_per_second: 4038.6198, train_label_loss: 0.0000, \n"
     ]
    },
    {
     "name": "stdout",
     "output_type": "stream",
     "text": [
      "=============================================================\n",
      "epoch: 8, source_val_acc_label: 0.9992, target_val_acc_label: 0.3421, source_val_label_loss: 0.0061, target_val_label_loss: 2.2552, \n",
      "=============================================================\n"
     ]
    },
    {
     "name": "stdout",
     "output_type": "stream",
     "text": [
      "epoch: 9, [batch: 1 / 6315], examples_per_second: 4.1950, train_label_loss: 0.0076, \n"
     ]
    },
    {
     "name": "stdout",
     "output_type": "stream",
     "text": [
      "epoch: 9, [batch: 632 / 6315], examples_per_second: 3883.5028, train_label_loss: 0.0000, \n"
     ]
    },
    {
     "name": "stdout",
     "output_type": "stream",
     "text": [
      "epoch: 9, [batch: 1263 / 6315], examples_per_second: 3964.5632, train_label_loss: 0.0000, \n"
     ]
    },
    {
     "name": "stdout",
     "output_type": "stream",
     "text": [
      "epoch: 9, [batch: 1895 / 6315], examples_per_second: 4273.3306, train_label_loss: 0.0000, \n"
     ]
    },
    {
     "name": "stdout",
     "output_type": "stream",
     "text": [
      "epoch: 9, [batch: 2526 / 6315], examples_per_second: 4463.3781, train_label_loss: 0.0006, \n"
     ]
    },
    {
     "name": "stdout",
     "output_type": "stream",
     "text": [
      "epoch: 9, [batch: 3158 / 6315], examples_per_second: 4506.7277, train_label_loss: 0.0002, \n"
     ]
    },
    {
     "name": "stdout",
     "output_type": "stream",
     "text": [
      "epoch: 9, [batch: 3789 / 6315], examples_per_second: 3838.5825, train_label_loss: 0.0000, \n"
     ]
    },
    {
     "name": "stdout",
     "output_type": "stream",
     "text": [
      "epoch: 9, [batch: 4420 / 6315], examples_per_second: 3862.1407, train_label_loss: 0.0000, \n"
     ]
    },
    {
     "name": "stdout",
     "output_type": "stream",
     "text": [
      "epoch: 9, [batch: 5052 / 6315], examples_per_second: 3915.3262, train_label_loss: 0.0000, \n"
     ]
    },
    {
     "name": "stdout",
     "output_type": "stream",
     "text": [
      "epoch: 9, [batch: 5683 / 6315], examples_per_second: 3812.9715, train_label_loss: 0.0003, \n"
     ]
    },
    {
     "name": "stdout",
     "output_type": "stream",
     "text": [
      "=============================================================\n",
      "epoch: 9, source_val_acc_label: 0.9986, target_val_acc_label: 0.3361, source_val_label_loss: 0.0070, target_val_label_loss: 2.2222, \n",
      "=============================================================\n"
     ]
    },
    {
     "name": "stdout",
     "output_type": "stream",
     "text": [
      "Patience (3) exhausted\n"
     ]
    }
   ],
   "source": [
    "###################################\n",
    "# train\n",
    "###################################\n",
    "jig = PTN_Train_Eval_Test_Jig(model, p.BEST_MODEL_PATH, p.device)\n",
    "\n",
    "jig.train(\n",
    "    train_iterable=datasets.source.processed.train,\n",
    "    source_val_iterable=datasets.source.processed.val,\n",
    "    target_val_iterable=datasets.target.processed.val,\n",
    "    num_epochs=p.n_epoch,\n",
    "    num_logs_per_epoch=p.NUM_LOGS_PER_EPOCH,\n",
    "    patience=p.patience,\n",
    "    optimizer=optimizer,\n",
    "    criteria_for_best=p.criteria_for_best,\n",
    ")"
   ]
  },
  {
   "cell_type": "code",
   "execution_count": 23,
   "id": "31e8fabf",
   "metadata": {
    "execution": {
     "iopub.execute_input": "2022-03-28T13:07:18.738455Z",
     "iopub.status.busy": "2022-03-28T13:07:18.738075Z",
     "iopub.status.idle": "2022-03-28T13:07:18.770943Z",
     "shell.execute_reply": "2022-03-28T13:07:18.770240Z"
    },
    "papermill": {
     "duration": 0.088262,
     "end_time": "2022-03-28T13:07:18.771097",
     "exception": false,
     "start_time": "2022-03-28T13:07:18.682835",
     "status": "completed"
    },
    "tags": []
   },
   "outputs": [],
   "source": [
    "total_experiment_time_secs = time.time() - start_time_secs"
   ]
  },
  {
   "cell_type": "code",
   "execution_count": 24,
   "id": "87b9595b",
   "metadata": {
    "execution": {
     "iopub.execute_input": "2022-03-28T13:07:18.886875Z",
     "iopub.status.busy": "2022-03-28T13:07:18.886010Z",
     "iopub.status.idle": "2022-03-28T13:09:58.996966Z",
     "shell.execute_reply": "2022-03-28T13:09:58.997676Z"
    },
    "papermill": {
     "duration": 160.171152,
     "end_time": "2022-03-28T13:09:58.997897",
     "exception": false,
     "start_time": "2022-03-28T13:07:18.826745",
     "status": "completed"
    },
    "tags": []
   },
   "outputs": [],
   "source": [
    "###################################\n",
    "# Evaluate the model\n",
    "###################################\n",
    "source_test_label_accuracy, source_test_label_loss = jig.test(datasets.source.processed.test)\n",
    "target_test_label_accuracy, target_test_label_loss = jig.test(datasets.target.processed.test)\n",
    "\n",
    "source_val_label_accuracy, source_val_label_loss = jig.test(datasets.source.processed.val)\n",
    "target_val_label_accuracy, target_val_label_loss = jig.test(datasets.target.processed.val)\n",
    "\n",
    "history = jig.get_history()\n",
    "\n",
    "total_epochs_trained = len(history[\"epoch_indices\"])\n",
    "\n",
    "val_dl = Iterable_Aggregator((datasets.source.original.val,datasets.target.original.val))\n",
    "\n",
    "confusion = ptn_confusion_by_domain_over_dataloader(model, p.device, val_dl)\n",
    "per_domain_accuracy = per_domain_accuracy_from_confusion(confusion)\n",
    "\n",
    "# Add a key to per_domain_accuracy for if it was a source domain\n",
    "for domain, accuracy in per_domain_accuracy.items():\n",
    "    per_domain_accuracy[domain] = {\n",
    "        \"accuracy\": accuracy,\n",
    "        \"source?\": domain in p.domains_source\n",
    "    }\n",
    "\n",
    "# Do an independent accuracy assesment JUST TO BE SURE!\n",
    "# _source_test_label_accuracy = independent_accuracy_assesment(model, datasets.source.processed.test, p.device)\n",
    "# _target_test_label_accuracy = independent_accuracy_assesment(model, datasets.target.processed.test, p.device)\n",
    "# _source_val_label_accuracy = independent_accuracy_assesment(model, datasets.source.processed.val, p.device)\n",
    "# _target_val_label_accuracy = independent_accuracy_assesment(model, datasets.target.processed.val, p.device)\n",
    "\n",
    "# assert(_source_test_label_accuracy == source_test_label_accuracy)\n",
    "# assert(_target_test_label_accuracy == target_test_label_accuracy)\n",
    "# assert(_source_val_label_accuracy == source_val_label_accuracy)\n",
    "# assert(_target_val_label_accuracy == target_val_label_accuracy)\n",
    "\n",
    "experiment = {\n",
    "    \"experiment_name\": p.experiment_name,\n",
    "    \"parameters\": dict(p),\n",
    "    \"results\": {\n",
    "        \"source_test_label_accuracy\": source_test_label_accuracy,\n",
    "        \"source_test_label_loss\": source_test_label_loss,\n",
    "        \"target_test_label_accuracy\": target_test_label_accuracy,\n",
    "        \"target_test_label_loss\": target_test_label_loss,\n",
    "        \"source_val_label_accuracy\": source_val_label_accuracy,\n",
    "        \"source_val_label_loss\": source_val_label_loss,\n",
    "        \"target_val_label_accuracy\": target_val_label_accuracy,\n",
    "        \"target_val_label_loss\": target_val_label_loss,\n",
    "        \"total_epochs_trained\": total_epochs_trained,\n",
    "        \"total_experiment_time_secs\": total_experiment_time_secs,\n",
    "        \"confusion\": confusion,\n",
    "        \"per_domain_accuracy\": per_domain_accuracy,\n",
    "    },\n",
    "    \"history\": history,\n",
    "    \"dataset_metrics\": get_dataset_metrics(datasets, \"ptn\"),\n",
    "}"
   ]
  },
  {
   "cell_type": "code",
   "execution_count": 25,
   "id": "54a21829",
   "metadata": {
    "execution": {
     "iopub.execute_input": "2022-03-28T13:09:59.107402Z",
     "iopub.status.busy": "2022-03-28T13:09:59.107028Z",
     "iopub.status.idle": "2022-03-28T13:09:59.333008Z",
     "shell.execute_reply": "2022-03-28T13:09:59.332290Z"
    },
    "papermill": {
     "duration": 0.279272,
     "end_time": "2022-03-28T13:09:59.333172",
     "exception": false,
     "start_time": "2022-03-28T13:09:59.053900",
     "status": "completed"
    },
    "tags": []
   },
   "outputs": [
    {
     "data": {
      "image/png": "[encoded data removed]",
      "text/plain": [
       "<Figure size 1080x504 with 1 Axes>"
      ]
     },
     "metadata": {
      "needs_background": "light"
     },
     "output_type": "display_data"
    }
   ],
   "source": [
    "ax = get_loss_curve(experiment)\n",
    "plt.show()"
   ]
  },
  {
   "cell_type": "code",
   "execution_count": 26,
   "id": "fd8a0f60",
   "metadata": {
    "execution": {
     "iopub.execute_input": "2022-03-28T13:09:59.445458Z",
     "iopub.status.busy": "2022-03-28T13:09:59.443933Z",
     "iopub.status.idle": "2022-03-28T13:09:59.771912Z",
     "shell.execute_reply": "2022-03-28T13:09:59.772591Z"
    },
    "papermill": {
     "duration": 0.38228,
     "end_time": "2022-03-28T13:09:59.772779",
     "exception": false,
     "start_time": "2022-03-28T13:09:59.390499",
     "status": "completed"
    },
    "tags": []
   },
   "outputs": [
    {
     "data": {
      "text/plain": [
       "<AxesSubplot:title={'center':'Results'}>"
      ]
     },
     "execution_count": 26,
     "metadata": {},
     "output_type": "execute_result"
    },
    {
     "data": {
      "image/png": "[encoded data removed]",
      "text/plain": [
       "<Figure size 1080x504 with 1 Axes>"
      ]
     },
     "metadata": {
      "needs_background": "light"
     },
     "output_type": "display_data"
    }
   ],
   "source": [
    "get_results_table(experiment)"
   ]
  },
  {
   "cell_type": "code",
   "execution_count": 27,
   "id": "cf8dc689",
   "metadata": {
    "execution": {
     "iopub.execute_input": "2022-03-28T13:09:59.887821Z",
     "iopub.status.busy": "2022-03-28T13:09:59.887441Z",
     "iopub.status.idle": "2022-03-28T13:10:00.127709Z",
     "shell.execute_reply": "2022-03-28T13:10:00.126999Z"
    },
    "papermill": {
     "duration": 0.296903,
     "end_time": "2022-03-28T13:10:00.127891",
     "exception": false,
     "start_time": "2022-03-28T13:09:59.830988",
     "status": "completed"
    },
    "tags": []
   },
   "outputs": [
    {
     "data": {
      "text/plain": [
       "<AxesSubplot:title={'center':'Per Domain Validation Accuracy'}, xlabel='domain'>"
      ]
     },
     "execution_count": 27,
     "metadata": {},
     "output_type": "execute_result"
    },
    {
     "data": {
      "image/png": "[encoded data removed]",
      "text/plain": [
       "<Figure size 1080x504 with 1 Axes>"
      ]
     },
     "metadata": {
      "needs_background": "light"
     },
     "output_type": "display_data"
    }
   ],
   "source": [
    "get_domain_accuracies(experiment)"
   ]
  },
  {
   "cell_type": "code",
   "execution_count": 28,
   "id": "a74ae082",
   "metadata": {
    "execution": {
     "iopub.execute_input": "2022-03-28T13:10:00.245312Z",
     "iopub.status.busy": "2022-03-28T13:10:00.244927Z",
     "iopub.status.idle": "2022-03-28T13:10:00.273766Z",
     "shell.execute_reply": "2022-03-28T13:10:00.272964Z"
    },
    "papermill": {
     "duration": 0.087627,
     "end_time": "2022-03-28T13:10:00.273919",
     "exception": false,
     "start_time": "2022-03-28T13:10:00.186292",
     "status": "completed"
    },
    "tags": []
   },
   "outputs": [
    {
     "name": "stdout",
     "output_type": "stream",
     "text": [
      "Source Test Label Accuracy: 0.9981659142212189 Target Test Label Accuracy: 0.35152994791666664\n",
      "Source Val Label Accuracy: 0.9983571428571428 Target Val Label Accuracy: 0.35546875\n"
     ]
    }
   ],
   "source": [
    "print(\"Source Test Label Accuracy:\", experiment[\"results\"][\"source_test_label_accuracy\"], \"Target Test Label Accuracy:\", experiment[\"results\"][\"target_test_label_accuracy\"])\n",
    "print(\"Source Val Label Accuracy:\", experiment[\"results\"][\"source_val_label_accuracy\"], \"Target Val Label Accuracy:\", experiment[\"results\"][\"target_val_label_accuracy\"])"
   ]
  },
  {
   "cell_type": "code",
   "execution_count": 29,
   "id": "dacca602",
   "metadata": {
    "execution": {
     "iopub.execute_input": "2022-03-28T13:10:00.400375Z",
     "iopub.status.busy": "2022-03-28T13:10:00.400005Z",
     "iopub.status.idle": "2022-03-28T13:10:00.424275Z",
     "shell.execute_reply": "2022-03-28T13:10:00.424941Z"
    },
    "papermill": {
     "duration": 0.091519,
     "end_time": "2022-03-28T13:10:00.425138",
     "exception": false,
     "start_time": "2022-03-28T13:10:00.333619",
     "status": "completed"
    },
    "tags": [
     "experiment_json"
    ]
   },
   "outputs": [
    {
     "data": {
      "text/plain": [
       "'{\"experiment_name\": \"tl_3-jitter5v2:cores -> oracle.run1.framed\", \"parameters\": {\"experiment_name\": \"tl_3-jitter5v2:cores -> oracle.run1.framed\", \"device\": \"cuda\", \"lr\": 0.0001, \"x_shape\": [2, 256], \"n_shot\": 3, \"n_query\": 2, \"train_k_factor\": 3, \"val_k_factor\": 2, \"test_k_factor\": 2, \"torch_default_dtype\": \"torch.float32\", \"n_epoch\": 50, \"patience\": 3, \"criteria_for_best\": \"target_accuracy\", \"x_net\": [{\"class\": \"nnReshape\", \"kargs\": {\"shape\": [-1, 1, 2, 256]}}, {\"class\": \"Conv2d\", \"kargs\": {\"in_channels\": 1, \"out_channels\": 256, \"kernel_size\": [1, 7], \"bias\": false, \"padding\": [0, 3]}}, {\"class\": \"ReLU\", \"kargs\": {\"inplace\": true}}, {\"class\": \"BatchNorm2d\", \"kargs\": {\"num_features\": 256}}, {\"class\": \"Conv2d\", \"kargs\": {\"in_channels\": 256, \"out_channels\": 80, \"kernel_size\": [2, 7], \"bias\": true, \"padding\": [0, 3]}}, {\"class\": \"ReLU\", \"kargs\": {\"inplace\": true}}, {\"class\": \"BatchNorm2d\", \"kargs\": {\"num_features\": 80}}, {\"class\": \"Flatten\", \"kargs\": {}}, {\"class\": \"Linear\", \"kargs\": {\"in_features\": 20480, \"out_features\": 256}}, {\"class\": \"ReLU\", \"kargs\": {\"inplace\": true}}, {\"class\": \"BatchNorm1d\", \"kargs\": {\"num_features\": 256}}, {\"class\": \"Linear\", \"kargs\": {\"in_features\": 256, \"out_features\": 256}}], \"NUM_LOGS_PER_EPOCH\": 10, \"BEST_MODEL_PATH\": \"./best_model.pth\", \"n_way\": 16, \"datasets\": [{\"labels\": [\"1-10.\", \"1-11.\", \"1-15.\", \"1-16.\", \"1-17.\", \"1-18.\", \"1-19.\", \"10-4.\", \"10-7.\", \"11-1.\", \"11-14.\", \"11-17.\", \"11-20.\", \"11-7.\", \"13-20.\", \"13-8.\", \"14-10.\", \"14-11.\", \"14-14.\", \"14-7.\", \"15-1.\", \"15-20.\", \"16-1.\", \"16-16.\", \"17-10.\", \"17-11.\", \"17-2.\", \"19-1.\", \"19-16.\", \"19-19.\", \"19-20.\", \"19-3.\", \"2-10.\", \"2-11.\", \"2-17.\", \"2-18.\", \"2-20.\", \"2-3.\", \"2-4.\", \"2-5.\", \"2-6.\", \"2-7.\", \"2-8.\", \"3-13.\", \"3-18.\", \"3-3.\", \"4-1.\", \"4-10.\", \"4-11.\", \"4-19.\", \"5-5.\", \"6-15.\", \"7-10.\", \"7-14.\", \"8-18.\", \"8-20.\", \"8-3.\", \"8-8.\"], \"domains\": [1, 2, 3, 4, 5], \"num_examples_per_domain_per_label\": -1, \"pickle_path\": \"/root/csc500-main/datasets/cores.stratified_ds.2022A.pkl\", \"source_or_target_dataset\": \"source\", \"x_transforms\": [\"unit_power\", \"jitter_256_5\", \"lowpass_+/-10MHz\", \"take_200\"], \"episode_transforms\": [], \"domain_prefix\": \"C_\"}, {\"labels\": [\"3123D52\", \"3123D65\", \"3123D79\", \"3123D80\", \"3123D54\", \"3123D70\", \"3123D7B\", \"3123D89\", \"3123D58\", \"3123D76\", \"3123D7D\", \"3123EFE\", \"3123D64\", \"3123D78\", \"3123D7E\", \"3124E4A\"], \"domains\": [32, 38, 8, 44, 14, 50, 20, 26], \"num_examples_per_domain_per_label\": 2000, \"pickle_path\": \"/root/csc500-main/datasets/oracle.Run1_framed_2000Examples_stratified_ds.2022A.pkl\", \"source_or_target_dataset\": \"target\", \"x_transforms\": [\"unit_power\", \"jitter_256_5\", \"take_200\", \"resample_20Msps_to_25Msps\"], \"episode_transforms\": [], \"domain_prefix\": \"O_\"}], \"seed\": 420, \"dataset_seed\": 420, \"domains_source\": [\"C_1\", \"C_2\", \"C_3\", \"C_4\", \"C_5\"], \"domains_target\": [\"O_32\", \"O_38\", \"O_8\", \"O_44\", \"O_14\", \"O_50\", \"O_20\", \"O_26\"]}, \"results\": {\"source_test_label_accuracy\": 0.9981659142212189, \"source_test_label_loss\": 0.01073112990707159, \"target_test_label_accuracy\": 0.35152994791666664, \"target_test_label_loss\": 2.0632052421569824, \"source_val_label_accuracy\": 0.9983571428571428, \"source_val_label_loss\": 0.013220397755503654, \"target_val_label_accuracy\": 0.35546875, \"target_val_label_loss\": 2.055176258087158, \"total_epochs_trained\": 9, \"total_experiment_time_secs\": 1440.5921111106873, \"confusion\": {\"C_4\": {\"42\": {\"42\": 32}, \"0\": {\"0\": 80}, \"1\": {\"1\": 40}, \"39\": {\"39\": 20}, \"28\": {\"28\": 32}, \"53\": {\"53\": 124}, \"19\": {\"19\": 144}, \"34\": {\"34\": 24}, \"33\": {\"33\": 36}, \"32\": {\"32\": 24}, \"10\": {\"10\": 136}, \"46\": {\"46\": 134}, \"20\": {\"20\": 122}, \"5\": {\"5\": 107, \"23\": 1}, \"40\": {\"40\": 124}, \"51\": {\"51\": 144}, \"37\": {\"37\": 24}, \"17\": {\"17\": 80}, \"45\": {\"45\": 96}, \"13\": {\"13\": 142}, \"27\": {\"27\": 144}, \"24\": {\"24\": 56}, \"30\": {\"30\": 44}, \"31\": {\"31\": 28}, \"41\": {\"41\": 34, \"10\": 1, \"13\": 1}, \"36\": {\"36\": 92}, \"16\": {\"16\": 96}, \"22\": {\"22\": 128}, \"44\": {\"44\": 131, \"19\": 1}, \"9\": {\"9\": 139, \"27\": 1}, \"57\": {\"57\": 100}, \"8\": {\"8\": 138}, \"23\": {\"23\": 132}, \"47\": {\"47\": 120}, \"43\": {\"43\": 138}, \"49\": {\"49\": 20}, \"3\": {\"3\": 121, \"50\": 3}, \"12\": {\"12\": 91, \"20\": 1}, \"38\": {\"38\": 40}, \"7\": {\"7\": 24}, \"14\": {\"14\": 16}, \"15\": {\"15\": 146}, \"25\": {\"25\": 128}, \"26\": {\"26\": 24}, \"21\": {\"21\": 132}, \"48\": {\"48\": 144}, \"56\": {\"56\": 134}, \"11\": {\"11\": 103, \"15\": 1}, \"2\": {\"2\": 36}, \"6\": {\"6\": 111, \"3\": 1}, \"55\": {\"55\": 140}, \"54\": {\"54\": 108}, \"29\": {\"29\": 124}, \"50\": {\"50\": 121, \"3\": 1}, \"52\": {\"52\": 116}, \"35\": {\"35\": 40}, \"4\": {\"4\": 120}, \"18\": {\"18\": 108}}, \"C_5\": {\"43\": {\"43\": 152}, \"35\": {\"35\": 36}, \"54\": {\"54\": 112}, \"22\": {\"22\": 28}, \"16\": {\"16\": 146}, \"5\": {\"5\": 128}, \"28\": {\"28\": 32}, \"14\": {\"14\": 35, \"47\": 5, \"57\": 1, \"46\": 1, \"5\": 1, \"0\": 1}, \"51\": {\"51\": 128}, \"19\": {\"19\": 140}, \"31\": {\"31\": 36}, \"10\": {\"10\": 68}, \"21\": {\"21\": 136}, \"3\": {\"3\": 100}, \"57\": {\"57\": 132}, \"9\": {\"9\": 146}, \"8\": {\"8\": 132}, \"46\": {\"46\": 140}, \"23\": {\"23\": 124}, \"37\": {\"37\": 24}, \"34\": {\"34\": 36}, \"4\": {\"4\": 100}, \"6\": {\"6\": 127, \"17\": 1}, \"48\": {\"48\": 136}, \"44\": {\"44\": 138}, \"40\": {\"40\": 124}, \"12\": {\"12\": 96}, \"30\": {\"30\": 128}, \"39\": {\"39\": 20}, \"45\": {\"45\": 121, \"17\": 1, \"55\": 1, \"23\": 1}, \"36\": {\"36\": 92}, \"27\": {\"27\": 140}, \"32\": {\"32\": 32}, \"52\": {\"52\": 130}, \"0\": {\"0\": 124}, \"26\": {\"26\": 24}, \"1\": {\"1\": 148}, \"53\": {\"53\": 146}, \"25\": {\"25\": 144}, \"24\": {\"24\": 80}, \"7\": {\"7\": 32}, \"18\": {\"18\": 64}, \"20\": {\"20\": 143, \"51\": 1}, \"33\": {\"33\": 32}, \"55\": {\"55\": 140}, \"41\": {\"41\": 28}, \"42\": {\"42\": 39, \"43\": 1}, \"49\": {\"49\": 36}, \"13\": {\"13\": 148}, \"38\": {\"38\": 32}, \"2\": {\"2\": 28}, \"47\": {\"47\": 100}, \"17\": {\"17\": 116}, \"11\": {\"11\": 154}, \"29\": {\"29\": 132}, \"50\": {\"50\": 138}, \"56\": {\"56\": 148}, \"15\": {\"15\": 142}}, \"C_2\": {\"49\": {\"49\": 24}, \"13\": {\"13\": 116}, \"37\": {\"37\": 36}, \"41\": {\"41\": 20}, \"15\": {\"15\": 142}, \"56\": {\"56\": 142}, \"14\": {\"14\": 24}, \"3\": {\"3\": 92}, \"38\": {\"38\": 20}, \"43\": {\"43\": 138}, \"33\": {\"33\": 28}, \"47\": {\"47\": 138}, \"30\": {\"30\": 144}, \"39\": {\"39\": 28}, \"12\": {\"12\": 92}, \"6\": {\"6\": 123, \"7\": 1}, \"51\": {\"51\": 134}, \"5\": {\"5\": 120}, \"34\": {\"34\": 28}, \"35\": {\"35\": 32}, \"0\": {\"0\": 48}, \"7\": {\"7\": 36}, \"24\": {\"24\": 96}, \"8\": {\"8\": 136}, \"20\": {\"20\": 124}, \"36\": {\"36\": 116}, \"42\": {\"42\": 36}, \"1\": {\"1\": 112}, \"4\": {\"4\": 148}, \"28\": {\"28\": 28}, \"50\": {\"50\": 136}, \"45\": {\"45\": 127, \"17\": 1}, \"18\": {\"18\": 48}, \"57\": {\"57\": 120}, \"46\": {\"46\": 128}, \"23\": {\"23\": 147, \"2\": 1}, \"27\": {\"27\": 138}, \"19\": {\"19\": 134}, \"22\": {\"22\": 136}, \"17\": {\"17\": 104}, \"55\": {\"55\": 136}, \"44\": {\"44\": 100}, \"26\": {\"26\": 24}, \"31\": {\"31\": 28}, \"16\": {\"16\": 130}, \"11\": {\"11\": 128}, \"25\": {\"25\": 126}, \"54\": {\"54\": 108}, \"32\": {\"32\": 28}, \"52\": {\"52\": 124}, \"40\": {\"40\": 132}, \"2\": {\"2\": 32}, \"10\": {\"10\": 110}, \"53\": {\"53\": 136}, \"9\": {\"9\": 150}, \"21\": {\"21\": 120}, \"48\": {\"48\": 138}, \"29\": {\"29\": 128}}, \"C_1\": {\"9\": {\"9\": 142}, \"25\": {\"25\": 128}, \"41\": {\"41\": 24}, \"29\": {\"29\": 139, \"56\": 1}, \"46\": {\"46\": 128}, \"4\": {\"4\": 132}, \"31\": {\"31\": 28}, \"36\": {\"36\": 64}, \"20\": {\"20\": 128}, \"7\": {\"7\": 28}, \"6\": {\"6\": 96}, \"16\": {\"16\": 138}, \"17\": {\"17\": 64}, \"50\": {\"50\": 148}, \"57\": {\"57\": 144}, \"23\": {\"23\": 136}, \"3\": {\"3\": 125, \"36\": 1}, \"53\": {\"53\": 140}, \"49\": {\"49\": 32}, \"56\": {\"56\": 152}, \"51\": {\"51\": 142}, \"26\": {\"26\": 24}, \"43\": {\"43\": 144}, \"22\": {\"22\": 136}, \"45\": {\"45\": 146}, \"13\": {\"13\": 152}, \"12\": {\"12\": 116}, \"54\": {\"54\": 104}, \"24\": {\"24\": 107, \"22\": 1}, \"44\": {\"44\": 136}, \"28\": {\"28\": 28}, \"33\": {\"33\": 32}, \"38\": {\"38\": 24}, \"0\": {\"0\": 144}, \"47\": {\"47\": 154}, \"42\": {\"42\": 40}, \"34\": {\"34\": 24}, \"48\": {\"48\": 142}, \"35\": {\"35\": 36}, \"2\": {\"2\": 36}, \"30\": {\"30\": 120}, \"18\": {\"18\": 72}, \"37\": {\"37\": 32}, \"1\": {\"1\": 100}, \"11\": {\"11\": 138}, \"55\": {\"55\": 130}, \"15\": {\"15\": 150}, \"10\": {\"10\": 96}, \"27\": {\"27\": 160}, \"19\": {\"19\": 146}, \"14\": {\"30\": 4, \"14\": 20}, \"8\": {\"8\": 140}, \"5\": {\"5\": 136}, \"39\": {\"39\": 28}, \"52\": {\"52\": 122}, \"21\": {\"21\": 124}, \"40\": {\"40\": 152}, \"32\": {\"32\": 32}}, \"C_3\": {\"56\": {\"56\": 120}, \"4\": {\"4\": 146}, \"34\": {\"34\": 32}, \"52\": {\"52\": 136}, \"32\": {\"32\": 28}, \"46\": {\"46\": 136}, \"12\": {\"12\": 90, \"51\": 2}, \"20\": {\"20\": 132}, \"54\": {\"54\": 100}, \"22\": {\"22\": 140}, \"26\": {\"26\": 24}, \"31\": {\"31\": 28}, \"10\": {\"10\": 64}, \"27\": {\"27\": 144}, \"40\": {\"40\": 136}, \"28\": {\"28\": 28}, \"5\": {\"5\": 116}, \"30\": {\"30\": 119, \"18\": 1}, \"7\": {\"7\": 36}, \"18\": {\"18\": 84}, \"39\": {\"39\": 16}, \"50\": {\"50\": 135, \"52\": 1}, \"49\": {\"49\": 20}, \"43\": {\"43\": 122}, \"29\": {\"29\": 114}, \"35\": {\"35\": 28}, \"13\": {\"13\": 122, \"43\": 2}, \"36\": {\"36\": 100}, \"11\": {\"11\": 146}, \"57\": {\"57\": 124}, \"9\": {\"9\": 130}, \"25\": {\"25\": 130}, \"16\": {\"16\": 126}, \"53\": {\"53\": 118}, \"33\": {\"33\": 28}, \"51\": {\"51\": 128}, \"44\": {\"44\": 88}, \"48\": {\"48\": 114}, \"6\": {\"6\": 87, \"52\": 1}, \"23\": {\"23\": 144}, \"1\": {\"1\": 100}, \"17\": {\"33\": 2, \"17\": 106}, \"21\": {\"21\": 122}, \"14\": {\"14\": 40}, \"55\": {\"55\": 144}, \"41\": {\"41\": 28}, \"3\": {\"3\": 138}, \"38\": {\"38\": 28}, \"2\": {\"2\": 32}, \"8\": {\"8\": 142}, \"37\": {\"37\": 28}, \"45\": {\"45\": 60}, \"42\": {\"42\": 28}, \"24\": {\"24\": 104}, \"15\": {\"15\": 136}, \"0\": {\"0\": 124}, \"47\": {\"47\": 92}, \"19\": {\"19\": 120}}, \"O_14\": {\"15\": {\"15\": 134, \"7\": 61, \"5\": 8, \"1\": 17, \"13\": 3, \"2\": 8, \"6\": 4, \"4\": 4, \"14\": 1}, \"5\": {\"7\": 9, \"4\": 30, \"13\": 7, \"5\": 62, \"1\": 59, \"2\": 31, \"3\": 15, \"8\": 6, \"6\": 8, \"0\": 3, \"15\": 8, \"14\": 2}, \"7\": {\"5\": 13, \"1\": 21, \"7\": 126, \"15\": 72, \"2\": 5, \"8\": 2, \"14\": 1}, \"4\": {\"4\": 53, \"10\": 7, \"5\": 33, \"0\": 4, \"14\": 19, \"3\": 30, \"6\": 22, \"2\": 30, \"13\": 13, \"1\": 23, \"8\": 5, \"7\": 1}, \"10\": {\"0\": 54, \"10\": 106, \"8\": 4, \"11\": 23, \"14\": 13, \"3\": 17, \"4\": 5, \"9\": 6, \"12\": 2, \"13\": 7, \"6\": 2, \"5\": 1}, \"11\": {\"0\": 33, \"11\": 131, \"14\": 2, \"9\": 36, \"10\": 20, \"12\": 14, \"8\": 1, \"13\": 1, \"6\": 1, \"4\": 1}, \"12\": {\"12\": 167, \"9\": 56, \"11\": 14, \"10\": 3}, \"0\": {\"0\": 75, \"8\": 14, \"11\": 30, \"10\": 57, \"14\": 15, \"3\": 20, \"2\": 6, \"1\": 2, \"4\": 6, \"9\": 13, \"6\": 1, \"13\": 1}, \"14\": {\"14\": 57, \"3\": 27, \"13\": 41, \"6\": 32, \"2\": 37, \"10\": 6, \"0\": 8, \"4\": 18, \"5\": 8, \"8\": 2, \"1\": 3, \"11\": 1}, \"8\": {\"8\": 168, \"0\": 10, \"4\": 8, \"3\": 11, \"10\": 5, \"1\": 20, \"9\": 8, \"5\": 7, \"2\": 1, \"14\": 2}, \"13\": {\"6\": 62, \"14\": 35, \"3\": 13, \"2\": 25, \"13\": 53, \"4\": 23, \"10\": 7, \"0\": 5, \"7\": 2, \"11\": 5, \"5\": 6, \"1\": 3, \"15\": 1}, \"6\": {\"6\": 72, \"14\": 31, \"2\": 34, \"0\": 2, \"5\": 9, \"3\": 6, \"4\": 28, \"13\": 55, \"1\": 3}, \"1\": {\"5\": 54, \"0\": 2, \"1\": 97, \"7\": 6, \"8\": 21, \"15\": 8, \"2\": 9, \"4\": 27, \"13\": 1, \"3\": 10, \"10\": 1, \"6\": 4}, \"3\": {\"10\": 11, \"2\": 20, \"13\": 13, \"4\": 37, \"6\": 5, \"3\": 59, \"5\": 17, \"14\": 33, \"1\": 13, \"0\": 13, \"8\": 15, \"9\": 1, \"11\": 3}, \"9\": {\"9\": 116, \"11\": 42, \"8\": 7, \"12\": 38, \"3\": 2, \"14\": 1, \"0\": 23, \"10\": 11}, \"2\": {\"2\": 49, \"13\": 25, \"6\": 41, \"5\": 23, \"10\": 3, \"3\": 20, \"15\": 8, \"4\": 27, \"14\": 25, \"0\": 1, \"1\": 16, \"7\": 1, \"8\": 1}}, \"O_20\": {\"4\": {\"2\": 9, \"7\": 9, \"4\": 39, \"6\": 8, \"8\": 26, \"5\": 19, \"10\": 30, \"13\": 10, \"9\": 21, \"12\": 13, \"14\": 17, \"1\": 8, \"3\": 17, \"15\": 4, \"0\": 9, \"11\": 1}, \"10\": {\"14\": 36, \"6\": 11, \"10\": 65, \"1\": 3, \"11\": 3, \"4\": 37, \"9\": 15, \"8\": 24, \"13\": 4, \"7\": 13, \"3\": 13, \"12\": 5, \"5\": 1, \"2\": 8, \"0\": 2}, \"15\": {\"4\": 7, \"0\": 31, \"8\": 4, \"12\": 24, \"15\": 38, \"5\": 25, \"1\": 36, \"7\": 8, \"13\": 20, \"3\": 20, \"2\": 18, \"9\": 6, \"10\": 2, \"6\": 1}, \"0\": {\"8\": 21, \"3\": 12, \"4\": 14, \"15\": 28, \"5\": 36, \"1\": 21, \"0\": 39, \"12\": 24, \"10\": 8, \"13\": 14, \"7\": 4, \"2\": 10, \"9\": 6, \"14\": 3}, \"6\": {\"7\": 31, \"11\": 33, \"14\": 51, \"6\": 53, \"8\": 24, \"13\": 2, \"10\": 19, \"2\": 8, \"4\": 7, \"9\": 4, \"3\": 5, \"0\": 2, \"12\": 1}, \"3\": {\"2\": 21, \"9\": 31, \"8\": 14, \"15\": 12, \"13\": 21, \"4\": 15, \"10\": 18, \"1\": 16, \"12\": 16, \"3\": 20, \"5\": 23, \"6\": 5, \"7\": 5, \"0\": 19, \"14\": 4}, \"7\": {\"7\": 23, \"4\": 21, \"2\": 28, \"15\": 5, \"13\": 19, \"10\": 17, \"8\": 21, \"9\": 14, \"3\": 16, \"14\": 9, \"6\": 23, \"12\": 12, \"0\": 12, \"5\": 5, \"11\": 11, \"1\": 4}, \"2\": {\"2\": 29, \"9\": 27, \"1\": 11, \"7\": 22, \"13\": 28, \"6\": 6, \"3\": 19, \"12\": 21, \"5\": 9, \"11\": 9, \"15\": 12, \"8\": 12, \"4\": 12, \"10\": 7, \"14\": 6, \"0\": 10}, \"8\": {\"4\": 26, \"7\": 19, \"14\": 28, \"0\": 16, \"8\": 54, \"10\": 26, \"6\": 16, \"13\": 7, \"5\": 13, \"1\": 4, \"2\": 6, \"3\": 9, \"9\": 6, \"12\": 8, \"15\": 1, \"11\": 1}, \"11\": {\"13\": 14, \"3\": 3, \"11\": 146, \"2\": 9, \"6\": 28, \"7\": 18, \"10\": 3, \"14\": 6, \"9\": 6, \"4\": 1, \"12\": 2, \"15\": 2, \"0\": 2}, \"14\": {\"10\": 34, \"14\": 70, \"5\": 3, \"8\": 34, \"4\": 17, \"6\": 40, \"7\": 20, \"0\": 2, \"2\": 5, \"3\": 5, \"9\": 4, \"13\": 4, \"11\": 2}, \"12\": {\"9\": 20, \"12\": 29, \"5\": 27, \"15\": 20, \"1\": 26, \"10\": 9, \"13\": 20, \"0\": 14, \"4\": 21, \"2\": 19, \"3\": 22, \"6\": 1, \"8\": 4, \"7\": 8}, \"13\": {\"12\": 19, \"9\": 34, \"2\": 23, \"15\": 20, \"11\": 11, \"1\": 7, \"4\": 5, \"13\": 49, \"5\": 13, \"7\": 15, \"3\": 14, \"8\": 7, \"6\": 5, \"0\": 14, \"14\": 2, \"10\": 2}, \"9\": {\"13\": 23, \"8\": 10, \"12\": 27, \"1\": 15, \"2\": 22, \"10\": 9, \"9\": 31, \"0\": 16, \"14\": 5, \"3\": 20, \"7\": 18, \"5\": 14, \"15\": 13, \"4\": 9, \"11\": 2, \"6\": 6}, \"5\": {\"15\": 23, \"4\": 26, \"3\": 15, \"8\": 9, \"1\": 28, \"0\": 35, \"12\": 19, \"5\": 34, \"9\": 19, \"13\": 8, \"10\": 5, \"7\": 8, \"2\": 10, \"14\": 1}, \"1\": {\"5\": 34, \"1\": 27, \"15\": 32, \"12\": 31, \"13\": 14, \"0\": 25, \"2\": 22, \"10\": 2, \"3\": 21, \"7\": 3, \"9\": 17, \"4\": 8, \"8\": 4}}, \"O_50\": {\"5\": {\"5\": 53, \"7\": 46, \"13\": 32, \"4\": 25, \"0\": 17, \"10\": 24, \"15\": 6, \"6\": 22, \"1\": 7, \"2\": 6, \"8\": 2}, \"12\": {\"11\": 15, \"14\": 39, \"12\": 133, \"9\": 52, \"1\": 1}, \"14\": {\"11\": 38, \"15\": 8, \"12\": 41, \"14\": 115, \"9\": 27, \"2\": 5, \"1\": 5, \"4\": 1}, \"4\": {\"13\": 13, \"10\": 3, \"4\": 52, \"5\": 30, \"15\": 28, \"1\": 49, \"11\": 6, \"6\": 28, \"2\": 9, \"7\": 13, \"0\": 7, \"9\": 1, \"14\": 1}, \"13\": {\"10\": 19, \"7\": 52, \"13\": 48, \"5\": 47, \"0\": 14, \"1\": 2, \"2\": 4, \"4\": 19, \"6\": 29, \"8\": 2, \"15\": 4}, \"10\": {\"10\": 90, \"5\": 15, \"7\": 33, \"8\": 38, \"0\": 35, \"13\": 17, \"2\": 7, \"3\": 3, \"6\": 2}, \"9\": {\"12\": 42, \"9\": 109, \"11\": 61, \"14\": 22, \"1\": 3, \"15\": 3}, \"15\": {\"15\": 98, \"11\": 18, \"1\": 45, \"9\": 6, \"4\": 34, \"6\": 27, \"13\": 3, \"10\": 1, \"14\": 3, \"0\": 1, \"2\": 2, \"5\": 2}, \"6\": {\"13\": 27, \"15\": 27, \"6\": 69, \"5\": 11, \"0\": 7, \"7\": 11, \"1\": 38, \"4\": 38, \"2\": 6, \"10\": 4, \"11\": 1, \"14\": 1}, \"2\": {\"6\": 7, \"2\": 132, \"0\": 63, \"10\": 4, \"8\": 1, \"14\": 10, \"13\": 1, \"4\": 9, \"1\": 7, \"15\": 2, \"12\": 1, \"9\": 1, \"5\": 1, \"11\": 1}, \"0\": {\"0\": 115, \"5\": 5, \"2\": 63, \"1\": 3, \"13\": 8, \"6\": 7, \"10\": 28, \"8\": 2, \"4\": 5, \"7\": 4}, \"11\": {\"11\": 98, \"15\": 32, \"9\": 46, \"14\": 36, \"4\": 6, \"1\": 11, \"12\": 7, \"2\": 2, \"6\": 2}, \"3\": {\"3\": 173, \"8\": 59, \"10\": 7, \"7\": 1}, \"8\": {\"8\": 144, \"3\": 37, \"5\": 3, \"0\": 9, \"7\": 8, \"10\": 37, \"2\": 1, \"13\": 1}, \"7\": {\"5\": 35, \"7\": 81, \"13\": 51, \"3\": 3, \"8\": 7, \"0\": 14, \"4\": 6, \"10\": 27, \"6\": 15, \"1\": 1}, \"1\": {\"6\": 43, \"1\": 71, \"15\": 35, \"11\": 4, \"5\": 14, \"2\": 13, \"4\": 39, \"14\": 7, \"0\": 6, \"13\": 7, \"9\": 1}}, \"O_26\": {\"7\": {\"1\": 12, \"3\": 32, \"8\": 15, \"9\": 17, \"15\": 13, \"0\": 12, \"7\": 34, \"5\": 19, \"4\": 19, \"2\": 30, \"10\": 9, \"14\": 10, \"13\": 11, \"6\": 7}, \"6\": {\"6\": 48, \"7\": 11, \"0\": 23, \"14\": 13, \"10\": 17, \"15\": 24, \"9\": 30, \"8\": 26, \"13\": 9, \"1\": 6, \"12\": 7, \"5\": 16, \"3\": 3, \"4\": 5, \"11\": 2}, \"14\": {\"4\": 28, \"0\": 31, \"15\": 8, \"13\": 4, \"10\": 35, \"9\": 12, \"14\": 25, \"8\": 23, \"1\": 27, \"2\": 7, \"6\": 12, \"7\": 11, \"3\": 8, \"5\": 7, \"12\": 2}, \"15\": {\"5\": 24, \"13\": 30, \"7\": 15, \"15\": 32, \"1\": 8, \"6\": 20, \"0\": 9, \"9\": 27, \"4\": 15, \"2\": 19, \"8\": 12, \"10\": 11, \"14\": 6, \"3\": 11, \"12\": 1}, \"5\": {\"5\": 41, \"13\": 45, \"1\": 4, \"15\": 21, \"10\": 11, \"7\": 17, \"4\": 5, \"9\": 25, \"0\": 6, \"2\": 16, \"8\": 13, \"3\": 12, \"6\": 16, \"14\": 7, \"12\": 1}, \"10\": {\"6\": 29, \"1\": 25, \"9\": 19, \"7\": 11, \"15\": 12, \"10\": 31, \"13\": 6, \"4\": 28, \"14\": 21, \"8\": 21, \"0\": 19, \"3\": 6, \"2\": 3, \"12\": 1, \"5\": 8}, \"4\": {\"3\": 21, \"10\": 19, \"8\": 17, \"15\": 10, \"0\": 26, \"4\": 28, \"14\": 24, \"2\": 16, \"1\": 29, \"6\": 18, \"7\": 15, \"5\": 7, \"13\": 3, \"9\": 7}, \"11\": {\"11\": 189, \"13\": 2, \"12\": 43, \"10\": 1, \"4\": 1, \"15\": 2, \"8\": 1, \"5\": 1}, \"13\": {\"13\": 61, \"5\": 38, \"15\": 37, \"7\": 8, \"3\": 8, \"4\": 5, \"10\": 11, \"9\": 24, \"6\": 22, \"11\": 3, \"2\": 11, \"8\": 6, \"0\": 3, \"12\": 2, \"1\": 1}, \"2\": {\"15\": 25, \"5\": 26, \"13\": 18, \"3\": 40, \"7\": 37, \"0\": 13, \"9\": 4, \"6\": 6, \"8\": 11, \"2\": 32, \"4\": 10, \"1\": 4, \"14\": 9, \"10\": 5}, \"0\": {\"10\": 24, \"9\": 25, \"2\": 8, \"15\": 9, \"7\": 16, \"6\": 20, \"5\": 11, \"4\": 29, \"8\": 19, \"1\": 17, \"14\": 28, \"3\": 5, \"0\": 20, \"13\": 8, \"12\": 1}, \"12\": {\"12\": 192, \"11\": 25, \"6\": 8, \"1\": 3, \"9\": 2, \"0\": 2, \"10\": 4, \"14\": 2, \"15\": 1, \"8\": 1}, \"3\": {\"3\": 70, \"7\": 29, \"2\": 38, \"1\": 14, \"5\": 13, \"14\": 10, \"10\": 3, \"4\": 10, \"0\": 9, \"8\": 10, \"6\": 4, \"13\": 10, \"9\": 8, \"15\": 12}, \"9\": {\"10\": 21, \"13\": 23, \"0\": 17, \"3\": 9, \"1\": 14, \"9\": 30, \"6\": 21, \"4\": 13, \"14\": 5, \"15\": 29, \"7\": 10, \"8\": 14, \"5\": 22, \"12\": 1, \"2\": 11}, \"8\": {\"3\": 11, \"0\": 15, \"14\": 18, \"10\": 20, \"13\": 15, \"8\": 19, \"5\": 13, \"9\": 20, \"1\": 13, \"6\": 24, \"4\": 18, \"7\": 23, \"2\": 14, \"15\": 17}, \"1\": {\"6\": 9, \"14\": 35, \"7\": 13, \"10\": 14, \"9\": 12, \"8\": 19, \"4\": 30, \"3\": 18, \"5\": 6, \"0\": 26, \"13\": 1, \"1\": 43, \"2\": 4, \"12\": 3, \"15\": 7}}, \"O_32\": {\"7\": {\"4\": 26, \"13\": 18, \"14\": 31, \"0\": 7, \"2\": 31, \"11\": 28, \"7\": 55, \"5\": 31, \"8\": 8, \"3\": 5}, \"2\": {\"2\": 92, \"0\": 41, \"13\": 16, \"5\": 5, \"4\": 44, \"8\": 10, \"9\": 2, \"7\": 16, \"14\": 12, \"11\": 2}, \"5\": {\"5\": 53, \"13\": 29, \"4\": 33, \"8\": 15, \"0\": 14, \"11\": 8, \"7\": 36, \"2\": 10, \"3\": 22, \"14\": 20}, \"6\": {\"6\": 219, \"10\": 6, \"12\": 12, \"1\": 3}, \"13\": {\"13\": 39, \"5\": 40, \"7\": 27, \"4\": 12, \"11\": 11, \"14\": 22, \"8\": 35, \"2\": 10, \"3\": 33, \"0\": 11}, \"4\": {\"0\": 27, \"4\": 55, \"2\": 50, \"11\": 4, \"5\": 23, \"13\": 19, \"7\": 29, \"8\": 14, \"14\": 17, \"3\": 2}, \"3\": {\"14\": 5, \"3\": 127, \"5\": 27, \"7\": 24, \"8\": 11, \"13\": 30, \"11\": 11, \"4\": 1, \"0\": 2, \"15\": 2}, \"0\": {\"2\": 42, \"8\": 47, \"0\": 73, \"4\": 23, \"13\": 15, \"14\": 16, \"7\": 11, \"5\": 10, \"11\": 2, \"9\": 1}, \"9\": {\"9\": 217, \"2\": 1, \"6\": 2, \"12\": 20}, \"12\": {\"12\": 182, \"6\": 36, \"9\": 20, \"10\": 2}, \"8\": {\"8\": 80, \"14\": 12, \"11\": 5, \"0\": 29, \"13\": 28, \"3\": 17, \"15\": 15, \"4\": 20, \"5\": 22, \"7\": 6, \"2\": 6}, \"14\": {\"0\": 12, \"13\": 15, \"5\": 15, \"11\": 64, \"7\": 24, \"4\": 14, \"2\": 13, \"14\": 63, \"3\": 13, \"8\": 7}, \"15\": {\"8\": 23, \"3\": 8, \"15\": 202, \"0\": 3, \"13\": 3, \"5\": 1}, \"11\": {\"7\": 29, \"11\": 117, \"14\": 52, \"3\": 16, \"13\": 9, \"0\": 4, \"5\": 9, \"4\": 3, \"8\": 1}, \"10\": {\"10\": 190, \"1\": 39, \"6\": 10, \"12\": 1}, \"1\": {\"1\": 178, \"10\": 60, \"6\": 2}}, \"O_44\": {\"11\": {\"11\": 158, \"13\": 46, \"6\": 24, \"7\": 4, \"9\": 6, \"4\": 1, \"14\": 1}, \"7\": {\"7\": 73, \"2\": 47, \"6\": 22, \"3\": 9, \"13\": 16, \"1\": 9, \"9\": 55, \"10\": 4, \"12\": 3, \"4\": 1, \"11\": 1}, \"6\": {\"6\": 110, \"7\": 22, \"13\": 42, \"1\": 2, \"9\": 40, \"11\": 16, \"2\": 7, \"4\": 1}, \"12\": {\"1\": 58, \"12\": 107, \"10\": 46, \"3\": 21, \"2\": 7, \"7\": 1}, \"4\": {\"4\": 113, \"14\": 64, \"5\": 15, \"0\": 6, \"15\": 21, \"9\": 5, \"13\": 12, \"6\": 4}, \"13\": {\"9\": 43, \"11\": 30, \"6\": 54, \"13\": 86, \"4\": 12, \"7\": 10, \"14\": 4, \"3\": 1}, \"8\": {\"8\": 116, \"5\": 27, \"0\": 67, \"15\": 25, \"4\": 2, \"14\": 3}, \"5\": {\"0\": 45, \"5\": 114, \"14\": 23, \"8\": 28, \"4\": 16, \"15\": 14}, \"14\": {\"14\": 91, \"15\": 30, \"4\": 71, \"9\": 3, \"5\": 21, \"0\": 9, \"8\": 11, \"13\": 3, \"11\": 1}, \"3\": {\"3\": 97, \"1\": 54, \"12\": 39, \"2\": 21, \"10\": 8, \"7\": 18, \"9\": 3}, \"10\": {\"12\": 62, \"10\": 100, \"7\": 7, \"1\": 29, \"3\": 12, \"2\": 26, \"9\": 2, \"6\": 2}, \"1\": {\"3\": 47, \"1\": 56, \"12\": 61, \"2\": 31, \"10\": 38, \"7\": 7}, \"2\": {\"2\": 77, \"3\": 11, \"10\": 31, \"1\": 21, \"12\": 15, \"13\": 4, \"7\": 63, \"6\": 5, \"9\": 12, \"11\": 1}, \"15\": {\"14\": 42, \"0\": 45, \"4\": 28, \"15\": 73, \"5\": 26, \"8\": 26}, \"9\": {\"9\": 85, \"7\": 45, \"13\": 42, \"2\": 17, \"6\": 34, \"4\": 3, \"14\": 1, \"3\": 4, \"10\": 1, \"11\": 5, \"1\": 3}, \"0\": {\"8\": 69, \"0\": 62, \"15\": 38, \"5\": 52, \"14\": 16, \"4\": 3}}, \"O_8\": {\"10\": {\"0\": 28, \"13\": 28, \"1\": 19, \"14\": 30, \"10\": 34, \"8\": 6, \"6\": 14, \"5\": 23, \"2\": 1, \"4\": 28, \"11\": 16, \"7\": 10, \"15\": 2, \"9\": 1}, \"6\": {\"10\": 15, \"13\": 29, \"15\": 10, \"4\": 28, \"14\": 17, \"0\": 30, \"5\": 3, \"1\": 9, \"8\": 18, \"3\": 6, \"12\": 4, \"7\": 30, \"6\": 32, \"2\": 4, \"11\": 5}, \"13\": {\"13\": 31, \"10\": 27, \"8\": 6, \"6\": 35, \"0\": 31, \"4\": 25, \"14\": 19, \"5\": 11, \"1\": 11, \"7\": 29, \"11\": 7, \"15\": 4, \"2\": 2, \"9\": 1, \"3\": 1}, \"3\": {\"12\": 33, \"2\": 71, \"15\": 35, \"3\": 82, \"7\": 5, \"13\": 2, \"6\": 4, \"0\": 5, \"1\": 1, \"8\": 1, \"11\": 1}, \"9\": {\"9\": 213, \"14\": 2, \"10\": 3, \"5\": 21, \"4\": 1}, \"1\": {\"11\": 54, \"5\": 30, \"4\": 16, \"1\": 50, \"10\": 31, \"8\": 20, \"7\": 4, \"14\": 19, \"13\": 10, \"0\": 2, \"6\": 3, \"15\": 1}, \"5\": {\"5\": 82, \"1\": 48, \"11\": 32, \"10\": 30, \"13\": 12, \"9\": 10, \"8\": 1, \"14\": 14, \"4\": 7, \"0\": 3, \"6\": 1}, \"11\": {\"14\": 23, \"10\": 17, \"11\": 90, \"5\": 17, \"1\": 51, \"0\": 4, \"8\": 17, \"7\": 2, \"4\": 11, \"6\": 6, \"13\": 2}, \"4\": {\"10\": 28, \"11\": 11, \"13\": 32, \"6\": 29, \"0\": 30, \"4\": 37, \"14\": 27, \"5\": 10, \"8\": 10, \"7\": 15, \"12\": 2, \"1\": 6, \"15\": 3}, \"14\": {\"10\": 28, \"14\": 28, \"4\": 33, \"7\": 12, \"13\": 22, \"11\": 28, \"1\": 30, \"5\": 9, \"8\": 11, \"0\": 24, \"15\": 3, \"6\": 11, \"2\": 1}, \"12\": {\"12\": 66, \"8\": 24, \"15\": 52, \"2\": 36, \"3\": 39, \"6\": 8, \"11\": 2, \"13\": 3, \"7\": 6, \"4\": 3, \"1\": 1}, \"7\": {\"0\": 28, \"10\": 7, \"7\": 51, \"3\": 8, \"12\": 10, \"8\": 22, \"6\": 32, \"4\": 19, \"15\": 17, \"13\": 20, \"2\": 8, \"1\": 3, \"14\": 11, \"5\": 1, \"11\": 3}, \"0\": {\"0\": 48, \"10\": 14, \"4\": 30, \"13\": 34, \"6\": 32, \"3\": 6, \"7\": 26, \"2\": 4, \"14\": 14, \"5\": 7, \"8\": 10, \"11\": 5, \"15\": 5, \"1\": 4, \"12\": 1}, \"15\": {\"15\": 52, \"2\": 18, \"13\": 3, \"12\": 44, \"7\": 21, \"6\": 16, \"8\": 45, \"3\": 25, \"0\": 8, \"4\": 4, \"10\": 1, \"14\": 2, \"11\": 1}, \"2\": {\"2\": 82, \"10\": 1, \"7\": 16, \"15\": 20, \"12\": 25, \"3\": 57, \"8\": 7, \"0\": 17, \"4\": 3, \"13\": 2, \"14\": 1, \"6\": 9}, \"8\": {\"8\": 73, \"7\": 18, \"0\": 8, \"15\": 37, \"1\": 8, \"12\": 14, \"4\": 12, \"6\": 19, \"11\": 19, \"14\": 10, \"13\": 10, \"10\": 8, \"2\": 2, \"3\": 2}}, \"O_38\": {\"4\": {\"4\": 183, \"12\": 51, \"11\": 1, \"10\": 2, \"7\": 3}, \"7\": {\"7\": 102, \"5\": 29, \"12\": 4, \"3\": 7, \"0\": 39, \"8\": 21, \"6\": 10, \"10\": 12, \"1\": 2, \"9\": 10, \"4\": 4}, \"12\": {\"12\": 168, \"4\": 50, \"7\": 4, \"11\": 4, \"14\": 3, \"8\": 2, \"10\": 6, \"0\": 3}, \"10\": {\"8\": 24, \"10\": 79, \"5\": 13, \"14\": 15, \"15\": 21, \"13\": 30, \"2\": 18, \"7\": 13, \"11\": 10, \"4\": 1, \"1\": 4, \"0\": 6, \"12\": 6}, \"0\": {\"7\": 42, \"12\": 9, \"0\": 75, \"10\": 6, \"8\": 32, \"5\": 27, \"1\": 4, \"9\": 11, \"3\": 8, \"4\": 5, \"6\": 12, \"13\": 4, \"15\": 5}, \"1\": {\"1\": 125, \"13\": 25, \"8\": 17, \"2\": 3, \"15\": 37, \"5\": 18, \"6\": 6, \"0\": 2, \"10\": 3, \"9\": 4}, \"5\": {\"5\": 61, \"13\": 16, \"0\": 29, \"7\": 33, \"10\": 9, \"1\": 22, \"6\": 24, \"8\": 24, \"15\": 6, \"9\": 11, \"3\": 4, \"12\": 1}, \"15\": {\"8\": 27, \"13\": 63, \"15\": 36, \"1\": 47, \"10\": 25, \"2\": 10, \"14\": 3, \"5\": 13, \"6\": 3, \"7\": 4, \"11\": 2, \"9\": 2, \"0\": 4, \"12\": 1}, \"9\": {\"9\": 93, \"6\": 86, \"3\": 30, \"5\": 8, \"0\": 7, \"1\": 7, \"13\": 3, \"7\": 5, \"8\": 1}, \"11\": {\"14\": 91, \"10\": 11, \"12\": 11, \"11\": 92, \"2\": 25, \"13\": 3, \"4\": 7}, \"14\": {\"11\": 67, \"10\": 11, \"14\": 108, \"2\": 41, \"15\": 3, \"12\": 7, \"13\": 2, \"8\": 1}, \"6\": {\"9\": 80, \"3\": 12, \"6\": 104, \"8\": 3, \"0\": 10, \"5\": 18, \"1\": 9, \"15\": 1, \"7\": 1, \"13\": 2}, \"8\": {\"7\": 31, \"1\": 13, \"5\": 24, \"8\": 56, \"0\": 43, \"10\": 31, \"15\": 19, \"13\": 12, \"14\": 1, \"3\": 1, \"11\": 1, \"2\": 2, \"12\": 1, \"6\": 2, \"9\": 3}, \"3\": {\"9\": 45, \"3\": 147, \"0\": 15, \"6\": 18, \"5\": 6, \"7\": 8, \"4\": 1}, \"2\": {\"2\": 132, \"11\": 21, \"15\": 9, \"10\": 17, \"13\": 33, \"14\": 25, \"1\": 2, \"8\": 1}, \"13\": {\"5\": 5, \"10\": 27, \"13\": 101, \"8\": 14, \"1\": 25, \"2\": 21, \"15\": 38, \"14\": 3, \"11\": 1, \"6\": 2, \"0\": 2, \"7\": 1}}}, \"per_domain_accuracy\": {\"C_4\": {\"accuracy\": 0.9977544910179641, \"source?\": true}, \"C_5\": {\"accuracy\": 0.9973812849162011, \"source?\": true}, \"C_2\": {\"accuracy\": 0.9994642857142857, \"source?\": true}, \"C_1\": {\"accuracy\": 0.9988111413043478, \"source?\": true}, \"C_3\": {\"accuracy\": 0.9983455882352941, \"source?\": true}, \"O_14\": {\"accuracy\": 0.3971354166666667, \"source?\": false}, \"O_20\": {\"accuracy\": 0.19427083333333334, \"source?\": false}, \"O_50\": {\"accuracy\": 0.41171875, \"source?\": false}, \"O_26\": {\"accuracy\": 0.23307291666666666, \"source?\": false}, \"O_32\": {\"accuracy\": 0.5057291666666667, \"source?\": false}, \"O_44\": {\"accuracy\": 0.3953125, \"source?\": false}, \"O_8\": {\"accuracy\": 0.27369791666666665, \"source?\": false}, \"O_38\": {\"accuracy\": 0.4328125, \"source?\": false}}}, \"history\": {\"epoch_indices\": [1, 2, 3, 4, 5, 6, 7, 8, 9], \"train_label_loss\": [0.04687416167459912, 0.013954563648819156, 0.012267311926031896, 0.0063317617331356425, 0.004447664154549103, 0.0034158699430709154, 0.0036121739743406223, 0.0027126330761342676, 0.00311924468912831], \"source_val_label_loss\": [0.02899044193327427, 0.07461429387331009, 0.011846822686493397, 0.02879665046930313, 0.013220397755503654, 0.008802121505141258, 0.015169684775173664, 0.006089936010539532, 0.007000692188739777], \"target_val_label_loss\": [2.117204189300537, 2.082181215286255, 2.110607147216797, 2.1724348068237305, 2.055176258087158, 2.158045768737793, 2.0049338340759277, 2.2552332878112793, 2.222217321395874], \"source_val_acc_label\": [0.9942142857142857, 0.9969285714285714, 0.9968928571428571, 0.9984642857142857, 0.9983571428571428, 0.9987142857142857, 0.9986428571428572, 0.99925, 0.9986071428571428], \"target_val_acc_label\": [0.3079427083333333, 0.34466145833333334, 0.32919921875, 0.32005208333333335, 0.35546875, 0.3357747395833333, 0.3502604166666667, 0.3421223958333333, 0.3360677083333333]}, \"dataset_metrics\": {\"source\": {\"train\": {\"n_unique_x\": 175160, \"n_unique_y\": 58, \"n_batch/episode\": 6306}, \"val\": {\"n_unique_x\": 37216, \"n_unique_y\": 58, \"n_batch/episode\": 875}, \"test\": {\"n_unique_x\": 37596, \"n_unique_y\": 58, \"n_batch/episode\": 886}}, \"target\": {\"train\": {\"n_unique_x\": 179200, \"n_unique_y\": 16, \"n_batch/episode\": 6720}, \"val\": {\"n_unique_x\": 38400, \"n_unique_y\": 16, \"n_batch/episode\": 960}, \"test\": {\"n_unique_x\": 38400, \"n_unique_y\": 16, \"n_batch/episode\": 960}}}}'"
      ]
     },
     "execution_count": 29,
     "metadata": {},
     "output_type": "execute_result"
    }
   ],
   "source": [
    "json.dumps(experiment)"
   ]
  }
 ],
 "metadata": {
  "celltoolbar": "Tags",
  "kernelspec": {
   "display_name": "Python 3 (ipykernel)",
   "language": "python",
   "name": "python3"
  },
  "language_info": {
   "codemirror_mode": {
    "name": "ipython",
    "version": 3
   },
   "file_extension": ".py",
   "mimetype": "text/x-python",
   "name": "python",
   "nbconvert_exporter": "python",
   "pygments_lexer": "ipython3",
   "version": "3.8.12"
  },
  "papermill": {
   "default_parameters": {},
   "duration": 1608.295829,
   "end_time": "2022-03-28T13:10:03.097055",
   "environment_variables": {},
   "exception": null,
   "input_path": "/root/csc500-main/csc500-notebooks/templates/tl_ptn_template.ipynb",
   "output_path": "trial.ipynb",
   "parameters": {
    "parameters": {
     "BEST_MODEL_PATH": "./best_model.pth",
     "NUM_LOGS_PER_EPOCH": 10,
     "criteria_for_best": "target_accuracy",
     "dataset_seed": 420,
     "datasets": [
      {
       "domain_prefix": "C_",
       "domains": [
        1,
        2,
        3,
        4,
        5
       ],
       "episode_transforms": [],
       "labels": [
        "1-10.",
        "1-11.",
        "1-15.",
        "1-16.",
        "1-17.",
        "1-18.",
        "1-19.",
        "10-4.",
        "10-7.",
        "11-1.",
        "11-14.",
        "11-17.",
        "11-20.",
        "11-7.",
        "13-20.",
        "13-8.",
        "14-10.",
        "14-11.",
        "14-14.",
        "14-7.",
        "15-1.",
        "15-20.",
        "16-1.",
        "16-16.",
        "17-10.",
        "17-11.",
        "17-2.",
        "19-1.",
        "19-16.",
        "19-19.",
        "19-20.",
        "19-3.",
        "2-10.",
        "2-11.",
        "2-17.",
        "2-18.",
        "2-20.",
        "2-3.",
        "2-4.",
        "2-5.",
        "2-6.",
        "2-7.",
        "2-8.",
        "3-13.",
        "3-18.",
        "3-3.",
        "4-1.",
        "4-10.",
        "4-11.",
        "4-19.",
        "5-5.",
        "6-15.",
        "7-10.",
        "7-14.",
        "8-18.",
        "8-20.",
        "8-3.",
        "8-8."
       ],
       "num_examples_per_domain_per_label": -1,
       "pickle_path": "/root/csc500-main/datasets/cores.stratified_ds.2022A.pkl",
       "source_or_target_dataset": "source",
       "x_transforms": [
        "unit_power",
        "jitter_256_5",
        "lowpass_+/-10MHz",
        "take_200"
       ]
      },
      {
       "domain_prefix": "O_",
       "domains": [
        32,
        38,
        8,
        44,
        14,
        50,
        20,
        26
       ],
       "episode_transforms": [],
       "labels": [
        "3123D52",
        "3123D65",
        "3123D79",
        "3123D80",
        "3123D54",
        "3123D70",
        "3123D7B",
        "3123D89",
        "3123D58",
        "3123D76",
        "3123D7D",
        "3123EFE",
        "3123D64",
        "3123D78",
        "3123D7E",
        "3124E4A"
       ],
       "num_examples_per_domain_per_label": 2000,
       "pickle_path": "/root/csc500-main/datasets/oracle.Run1_framed_2000Examples_stratified_ds.2022A.pkl",
       "source_or_target_dataset": "target",
       "x_transforms": [
        "unit_power",
        "jitter_256_5",
        "take_200",
        "resample_20Msps_to_25Msps"
       ]
      }
     ],
     "device": "cuda",
     "experiment_name": "tl_3-jitter5v2:cores -> oracle.run1.framed",
     "lr": 0.0001,
     "n_epoch": 50,
     "n_query": 2,
     "n_shot": 3,
     "n_way": 16,
     "patience": 3,
     "seed": 420,
     "test_k_factor": 2,
     "torch_default_dtype": "torch.float32",
     "train_k_factor": 3,
     "val_k_factor": 2,
     "x_net": [
      {
       "class": "nnReshape",
       "kargs": {
        "shape": [
         -1,
         1,
         2,
         256
        ]
       }
      },
      {
       "class": "Conv2d",
       "kargs": {
        "bias": false,
        "in_channels": 1,
        "kernel_size": [
         1,
         7
        ],
        "out_channels": 256,
        "padding": [
         0,
         3
        ]
       }
      },
      {
       "class": "ReLU",
       "kargs": {
        "inplace": true
       }
      },
      {
       "class": "BatchNorm2d",
       "kargs": {
        "num_features": 256
       }
      },
      {
       "class": "Conv2d",
       "kargs": {
        "bias": true,
        "in_channels": 256,
        "kernel_size": [
         2,
         7
        ],
        "out_channels": 80,
        "padding": [
         0,
         3
        ]
       }
      },
      {
       "class": "ReLU",
       "kargs": {
        "inplace": true
       }
      },
      {
       "class": "BatchNorm2d",
       "kargs": {
        "num_features": 80
       }
      },
      {
       "class": "Flatten",
       "kargs": {}
      },
      {
       "class": "Linear",
       "kargs": {
        "in_features": 20480,
        "out_features": 256
       }
      },
      {
       "class": "ReLU",
       "kargs": {
        "inplace": true
       }
      },
      {
       "class": "BatchNorm1d",
       "kargs": {
        "num_features": 256
       }
      },
      {
       "class": "Linear",
       "kargs": {
        "in_features": 256,
        "out_features": 256
       }
      }
     ],
     "x_shape": [
      2,
      256
     ]
    }
   },
   "start_time": "2022-03-28T12:43:14.801226",
   "version": "2.3.4"
  }
 },
 "nbformat": 4,
 "nbformat_minor": 5
}