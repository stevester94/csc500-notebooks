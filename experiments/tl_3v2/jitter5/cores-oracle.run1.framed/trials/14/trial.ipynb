{
 "cells": [
  {
   "cell_type": "markdown",
   "id": "9fea5f46",
   "metadata": {
    "papermill": {
     "duration": 0.026413,
     "end_time": "2022-03-28T15:29:58.579373",
     "exception": false,
     "start_time": "2022-03-28T15:29:58.552960",
     "status": "completed"
    },
    "tags": []
   },
   "source": [
    "# Transfer Learning Template"
   ]
  },
  {
   "cell_type": "code",
   "execution_count": 1,
   "id": "0902182a",
   "metadata": {
    "execution": {
     "iopub.execute_input": "2022-03-28T15:29:58.646596Z",
     "iopub.status.busy": "2022-03-28T15:29:58.645741Z",
     "iopub.status.idle": "2022-03-28T15:30:00.532554Z",
     "shell.execute_reply": "2022-03-28T15:30:00.532122Z"
    },
    "papermill": {
     "duration": 1.926432,
     "end_time": "2022-03-28T15:30:00.532663",
     "exception": false,
     "start_time": "2022-03-28T15:29:58.606231",
     "status": "completed"
    },
    "tags": []
   },
   "outputs": [],
   "source": [
    "%load_ext autoreload\n",
    "%autoreload 2\n",
    "%matplotlib inline\n",
    "\n",
    "    \n",
    "import os, json, sys, time, random\n",
    "import numpy as np\n",
    "import torch\n",
    "from torch.optim import Adam\n",
    "from  easydict import EasyDict\n",
    "import matplotlib.pyplot as plt\n",
    "\n",
    "from steves_models.steves_ptn import Steves_Prototypical_Network\n",
    "\n",
    "from steves_utils.lazy_iterable_wrapper import Lazy_Iterable_Wrapper\n",
    "from steves_utils.iterable_aggregator import Iterable_Aggregator\n",
    "from steves_utils.ptn_train_eval_test_jig import  PTN_Train_Eval_Test_Jig\n",
    "from steves_utils.torch_sequential_builder import build_sequential\n",
    "from steves_utils.torch_utils import get_dataset_metrics, ptn_confusion_by_domain_over_dataloader\n",
    "from steves_utils.utils_v2 import (per_domain_accuracy_from_confusion, get_datasets_base_path)\n",
    "from steves_utils.PTN.utils import independent_accuracy_assesment\n",
    "\n",
    "from torch.utils.data import DataLoader\n",
    "\n",
    "from steves_utils.stratified_dataset.episodic_accessor import Episodic_Accessor_Factory\n",
    "\n",
    "from steves_utils.ptn_do_report import (\n",
    "    get_loss_curve,\n",
    "    get_results_table,\n",
    "    get_parameters_table,\n",
    "    get_domain_accuracies,\n",
    ")\n",
    "\n",
    "from steves_utils.transforms import get_chained_transform"
   ]
  },
  {
   "cell_type": "markdown",
   "id": "41c840b4",
   "metadata": {
    "papermill": {
     "duration": 0.019525,
     "end_time": "2022-03-28T15:30:00.572452",
     "exception": false,
     "start_time": "2022-03-28T15:30:00.552927",
     "status": "completed"
    },
    "tags": []
   },
   "source": [
    "# Allowed Parameters\n",
    "These are allowed parameters, not defaults\n",
    "Each of these values need to be present in the injected parameters (the notebook will raise an exception if they are not present)\n",
    "\n",
    "Papermill uses the cell tag \"parameters\" to inject the real parameters below this cell.\n",
    "Enable tags to see what I mean"
   ]
  },
  {
   "cell_type": "code",
   "execution_count": 2,
   "id": "fd44eb83",
   "metadata": {
    "execution": {
     "iopub.execute_input": "2022-03-28T15:30:00.616536Z",
     "iopub.status.busy": "2022-03-28T15:30:00.616021Z",
     "iopub.status.idle": "2022-03-28T15:30:00.641785Z",
     "shell.execute_reply": "2022-03-28T15:30:00.641462Z"
    },
    "papermill": {
     "duration": 0.049813,
     "end_time": "2022-03-28T15:30:00.641856",
     "exception": false,
     "start_time": "2022-03-28T15:30:00.592043",
     "status": "completed"
    },
    "tags": []
   },
   "outputs": [],
   "source": [
    "required_parameters = {\n",
    "    \"experiment_name\",\n",
    "    \"lr\",\n",
    "    \"device\",\n",
    "    \"seed\",\n",
    "    \"dataset_seed\",\n",
    "    \"n_shot\",\n",
    "    \"n_query\",\n",
    "    \"n_way\",\n",
    "    \"train_k_factor\",\n",
    "    \"val_k_factor\",\n",
    "    \"test_k_factor\",\n",
    "    \"n_epoch\",\n",
    "    \"patience\",\n",
    "    \"criteria_for_best\",\n",
    "    \"x_net\",\n",
    "    \"datasets\",\n",
    "    \"torch_default_dtype\",\n",
    "    \"NUM_LOGS_PER_EPOCH\",\n",
    "    \"BEST_MODEL_PATH\",\n",
    "    \"x_shape\",\n",
    "}"
   ]
  },
  {
   "cell_type": "code",
   "execution_count": 3,
   "id": "fa3f0049",
   "metadata": {
    "execution": {
     "iopub.execute_input": "2022-03-28T15:30:00.691714Z",
     "iopub.status.busy": "2022-03-28T15:30:00.688593Z",
     "iopub.status.idle": "2022-03-28T15:30:00.715731Z",
     "shell.execute_reply": "2022-03-28T15:30:00.716035Z"
    },
    "papermill": {
     "duration": 0.054352,
     "end_time": "2022-03-28T15:30:00.716117",
     "exception": false,
     "start_time": "2022-03-28T15:30:00.661765",
     "status": "completed"
    },
    "tags": [
     "parameters"
    ]
   },
   "outputs": [],
   "source": [
    "from steves_utils.CORES.utils import (\n",
    "    ALL_NODES,\n",
    "    ALL_NODES_MINIMUM_1000_EXAMPLES,\n",
    "    ALL_DAYS\n",
    ")\n",
    "\n",
    "from steves_utils.ORACLE.utils_v2 import (\n",
    "    ALL_DISTANCES_FEET_NARROWED,\n",
    "    ALL_RUNS,\n",
    "    ALL_SERIAL_NUMBERS,\n",
    ")\n",
    "\n",
    "standalone_parameters = {}\n",
    "standalone_parameters[\"experiment_name\"] = \"STANDALONE PTN\"\n",
    "standalone_parameters[\"lr\"] = 0.001\n",
    "standalone_parameters[\"device\"] = \"cuda\"\n",
    "\n",
    "standalone_parameters[\"seed\"] = 1337\n",
    "standalone_parameters[\"dataset_seed\"] = 1337\n",
    "\n",
    "standalone_parameters[\"n_way\"] = 8\n",
    "standalone_parameters[\"n_shot\"] = 3\n",
    "standalone_parameters[\"n_query\"]  = 2\n",
    "standalone_parameters[\"train_k_factor\"] = 1\n",
    "standalone_parameters[\"val_k_factor\"] = 2\n",
    "standalone_parameters[\"test_k_factor\"] = 2\n",
    "\n",
    "\n",
    "standalone_parameters[\"n_epoch\"] = 50\n",
    "\n",
    "standalone_parameters[\"patience\"] = 10\n",
    "standalone_parameters[\"criteria_for_best\"] = \"source_loss\"\n",
    "\n",
    "standalone_parameters[\"datasets\"] = [\n",
    "    {\n",
    "        \"labels\": ALL_SERIAL_NUMBERS,\n",
    "        \"domains\": ALL_DISTANCES_FEET_NARROWED,\n",
    "        \"num_examples_per_domain_per_label\": 100,\n",
    "        \"pickle_path\": os.path.join(get_datasets_base_path(), \"oracle.Run1_framed_2000Examples_stratified_ds.2022A.pkl\"),\n",
    "        \"source_or_target_dataset\": \"source\",\n",
    "        \"x_transforms\": [\"unit_mag\", \"minus_two\"],\n",
    "        \"episode_transforms\": [],\n",
    "        \"domain_prefix\": \"ORACLE_\"\n",
    "    },\n",
    "    {\n",
    "        \"labels\": ALL_NODES,\n",
    "        \"domains\": ALL_DAYS,\n",
    "        \"num_examples_per_domain_per_label\": 100,\n",
    "        \"pickle_path\": os.path.join(get_datasets_base_path(), \"cores.stratified_ds.2022A.pkl\"),\n",
    "        \"source_or_target_dataset\": \"target\",\n",
    "        \"x_transforms\": [\"unit_power\", \"times_zero\"],\n",
    "        \"episode_transforms\": [],\n",
    "        \"domain_prefix\": \"CORES_\"\n",
    "    }   \n",
    "]\n",
    "\n",
    "standalone_parameters[\"torch_default_dtype\"] = \"torch.float32\" \n",
    "\n",
    "\n",
    "\n",
    "standalone_parameters[\"x_net\"] =     [\n",
    "    {\"class\": \"nnReshape\", \"kargs\": {\"shape\":[-1, 1, 2, 256]}},\n",
    "    {\"class\": \"Conv2d\", \"kargs\": { \"in_channels\":1, \"out_channels\":256, \"kernel_size\":(1,7), \"bias\":False, \"padding\":(0,3), },},\n",
    "    {\"class\": \"ReLU\", \"kargs\": {\"inplace\": True}},\n",
    "    {\"class\": \"BatchNorm2d\", \"kargs\": {\"num_features\":256}},\n",
    "\n",
    "    {\"class\": \"Conv2d\", \"kargs\": { \"in_channels\":256, \"out_channels\":80, \"kernel_size\":(2,7), \"bias\":True, \"padding\":(0,3), },},\n",
    "    {\"class\": \"ReLU\", \"kargs\": {\"inplace\": True}},\n",
    "    {\"class\": \"BatchNorm2d\", \"kargs\": {\"num_features\":80}},\n",
    "    {\"class\": \"Flatten\", \"kargs\": {}},\n",
    "\n",
    "    {\"class\": \"Linear\", \"kargs\": {\"in_features\": 80*256, \"out_features\": 256}}, # 80 units per IQ pair\n",
    "    {\"class\": \"ReLU\", \"kargs\": {\"inplace\": True}},\n",
    "    {\"class\": \"BatchNorm1d\", \"kargs\": {\"num_features\":256}},\n",
    "\n",
    "    {\"class\": \"Linear\", \"kargs\": {\"in_features\": 256, \"out_features\": 256}},\n",
    "]\n",
    "\n",
    "# Parameters relevant to results\n",
    "# These parameters will basically never need to change\n",
    "standalone_parameters[\"NUM_LOGS_PER_EPOCH\"] = 10\n",
    "standalone_parameters[\"BEST_MODEL_PATH\"] = \"./best_model.pth\"\n",
    "\n",
    "\n",
    "\n",
    "\n"
   ]
  },
  {
   "cell_type": "code",
   "execution_count": 4,
   "id": "a5a44e42",
   "metadata": {
    "execution": {
     "iopub.execute_input": "2022-03-28T15:30:00.772604Z",
     "iopub.status.busy": "2022-03-28T15:30:00.764439Z",
     "iopub.status.idle": "2022-03-28T15:30:00.796794Z",
     "shell.execute_reply": "2022-03-28T15:30:00.796473Z"
    },
    "papermill": {
     "duration": 0.060926,
     "end_time": "2022-03-28T15:30:00.796864",
     "exception": false,
     "start_time": "2022-03-28T15:30:00.735938",
     "status": "completed"
    },
    "tags": [
     "injected-parameters"
    ]
   },
   "outputs": [],
   "source": [
    "# Parameters\n",
    "parameters = {\n",
    "    \"experiment_name\": \"tl_3-jitter5v2:cores -> oracle.run1.framed\",\n",
    "    \"device\": \"cuda\",\n",
    "    \"lr\": 0.0001,\n",
    "    \"x_shape\": [2, 256],\n",
    "    \"n_shot\": 3,\n",
    "    \"n_query\": 2,\n",
    "    \"train_k_factor\": 3,\n",
    "    \"val_k_factor\": 2,\n",
    "    \"test_k_factor\": 2,\n",
    "    \"torch_default_dtype\": \"torch.float32\",\n",
    "    \"n_epoch\": 50,\n",
    "    \"patience\": 3,\n",
    "    \"criteria_for_best\": \"target_accuracy\",\n",
    "    \"x_net\": [\n",
    "        {\"class\": \"nnReshape\", \"kargs\": {\"shape\": [-1, 1, 2, 256]}},\n",
    "        {\n",
    "            \"class\": \"Conv2d\",\n",
    "            \"kargs\": {\n",
    "                \"in_channels\": 1,\n",
    "                \"out_channels\": 256,\n",
    "                \"kernel_size\": [1, 7],\n",
    "                \"bias\": False,\n",
    "                \"padding\": [0, 3],\n",
    "            },\n",
    "        },\n",
    "        {\"class\": \"ReLU\", \"kargs\": {\"inplace\": True}},\n",
    "        {\"class\": \"BatchNorm2d\", \"kargs\": {\"num_features\": 256}},\n",
    "        {\n",
    "            \"class\": \"Conv2d\",\n",
    "            \"kargs\": {\n",
    "                \"in_channels\": 256,\n",
    "                \"out_channels\": 80,\n",
    "                \"kernel_size\": [2, 7],\n",
    "                \"bias\": True,\n",
    "                \"padding\": [0, 3],\n",
    "            },\n",
    "        },\n",
    "        {\"class\": \"ReLU\", \"kargs\": {\"inplace\": True}},\n",
    "        {\"class\": \"BatchNorm2d\", \"kargs\": {\"num_features\": 80}},\n",
    "        {\"class\": \"Flatten\", \"kargs\": {}},\n",
    "        {\"class\": \"Linear\", \"kargs\": {\"in_features\": 20480, \"out_features\": 256}},\n",
    "        {\"class\": \"ReLU\", \"kargs\": {\"inplace\": True}},\n",
    "        {\"class\": \"BatchNorm1d\", \"kargs\": {\"num_features\": 256}},\n",
    "        {\"class\": \"Linear\", \"kargs\": {\"in_features\": 256, \"out_features\": 256}},\n",
    "    ],\n",
    "    \"NUM_LOGS_PER_EPOCH\": 10,\n",
    "    \"BEST_MODEL_PATH\": \"./best_model.pth\",\n",
    "    \"n_way\": 16,\n",
    "    \"datasets\": [\n",
    "        {\n",
    "            \"labels\": [\n",
    "                \"1-10.\",\n",
    "                \"1-11.\",\n",
    "                \"1-15.\",\n",
    "                \"1-16.\",\n",
    "                \"1-17.\",\n",
    "                \"1-18.\",\n",
    "                \"1-19.\",\n",
    "                \"10-4.\",\n",
    "                \"10-7.\",\n",
    "                \"11-1.\",\n",
    "                \"11-14.\",\n",
    "                \"11-17.\",\n",
    "                \"11-20.\",\n",
    "                \"11-7.\",\n",
    "                \"13-20.\",\n",
    "                \"13-8.\",\n",
    "                \"14-10.\",\n",
    "                \"14-11.\",\n",
    "                \"14-14.\",\n",
    "                \"14-7.\",\n",
    "                \"15-1.\",\n",
    "                \"15-20.\",\n",
    "                \"16-1.\",\n",
    "                \"16-16.\",\n",
    "                \"17-10.\",\n",
    "                \"17-11.\",\n",
    "                \"17-2.\",\n",
    "                \"19-1.\",\n",
    "                \"19-16.\",\n",
    "                \"19-19.\",\n",
    "                \"19-20.\",\n",
    "                \"19-3.\",\n",
    "                \"2-10.\",\n",
    "                \"2-11.\",\n",
    "                \"2-17.\",\n",
    "                \"2-18.\",\n",
    "                \"2-20.\",\n",
    "                \"2-3.\",\n",
    "                \"2-4.\",\n",
    "                \"2-5.\",\n",
    "                \"2-6.\",\n",
    "                \"2-7.\",\n",
    "                \"2-8.\",\n",
    "                \"3-13.\",\n",
    "                \"3-18.\",\n",
    "                \"3-3.\",\n",
    "                \"4-1.\",\n",
    "                \"4-10.\",\n",
    "                \"4-11.\",\n",
    "                \"4-19.\",\n",
    "                \"5-5.\",\n",
    "                \"6-15.\",\n",
    "                \"7-10.\",\n",
    "                \"7-14.\",\n",
    "                \"8-18.\",\n",
    "                \"8-20.\",\n",
    "                \"8-3.\",\n",
    "                \"8-8.\",\n",
    "            ],\n",
    "            \"domains\": [1, 2, 3, 4, 5],\n",
    "            \"num_examples_per_domain_per_label\": -1,\n",
    "            \"pickle_path\": \"/root/csc500-main/datasets/cores.stratified_ds.2022A.pkl\",\n",
    "            \"source_or_target_dataset\": \"source\",\n",
    "            \"x_transforms\": [\"jitter_256_5\", \"lowpass_+/-10MHz\", \"take_200\"],\n",
    "            \"episode_transforms\": [],\n",
    "            \"domain_prefix\": \"C_\",\n",
    "        },\n",
    "        {\n",
    "            \"labels\": [\n",
    "                \"3123D52\",\n",
    "                \"3123D65\",\n",
    "                \"3123D79\",\n",
    "                \"3123D80\",\n",
    "                \"3123D54\",\n",
    "                \"3123D70\",\n",
    "                \"3123D7B\",\n",
    "                \"3123D89\",\n",
    "                \"3123D58\",\n",
    "                \"3123D76\",\n",
    "                \"3123D7D\",\n",
    "                \"3123EFE\",\n",
    "                \"3123D64\",\n",
    "                \"3123D78\",\n",
    "                \"3123D7E\",\n",
    "                \"3124E4A\",\n",
    "            ],\n",
    "            \"domains\": [32, 38, 8, 44, 14, 50, 20, 26],\n",
    "            \"num_examples_per_domain_per_label\": 2000,\n",
    "            \"pickle_path\": \"/root/csc500-main/datasets/oracle.Run1_framed_2000Examples_stratified_ds.2022A.pkl\",\n",
    "            \"source_or_target_dataset\": \"target\",\n",
    "            \"x_transforms\": [\"jitter_256_5\", \"take_200\", \"resample_20Msps_to_25Msps\"],\n",
    "            \"episode_transforms\": [],\n",
    "            \"domain_prefix\": \"O_\",\n",
    "        },\n",
    "    ],\n",
    "    \"seed\": 500,\n",
    "    \"dataset_seed\": 500,\n",
    "}\n"
   ]
  },
  {
   "cell_type": "code",
   "execution_count": 5,
   "id": "8fa1cc33",
   "metadata": {
    "execution": {
     "iopub.execute_input": "2022-03-28T15:30:00.844469Z",
     "iopub.status.busy": "2022-03-28T15:30:00.844097Z",
     "iopub.status.idle": "2022-03-28T15:30:00.867769Z",
     "shell.execute_reply": "2022-03-28T15:30:00.867442Z"
    },
    "papermill": {
     "duration": 0.050934,
     "end_time": "2022-03-28T15:30:00.867838",
     "exception": false,
     "start_time": "2022-03-28T15:30:00.816904",
     "status": "completed"
    },
    "tags": []
   },
   "outputs": [],
   "source": [
    "# Set this to True if you want to run this template directly\n",
    "STANDALONE = False\n",
    "if STANDALONE:\n",
    "    print(\"parameters not injected, running with standalone_parameters\")\n",
    "    parameters = standalone_parameters\n",
    "\n",
    "if not 'parameters' in locals() and not 'parameters' in globals():\n",
    "    raise Exception(\"Parameter injection failed\")\n",
    "\n",
    "#Use an easy dict for all the parameters\n",
    "p = EasyDict(parameters)\n",
    "\n",
    "if \"x_shape\" not in p:\n",
    "    p.x_shape = [2,256] # Default to this if we dont supply x_shape\n",
    "\n",
    "\n",
    "supplied_keys = set(p.keys())\n",
    "\n",
    "if  supplied_keys != required_parameters:\n",
    "    print(\"Parameters are incorrect\")\n",
    "    if len(supplied_keys - required_parameters)>0: print(\"Shouldn't have:\", str(supplied_keys - required_parameters))\n",
    "    if len(required_parameters - supplied_keys)>0: print(\"Need to have:\", str(required_parameters - supplied_keys))\n",
    "    raise RuntimeError(\"Parameters are incorrect\")"
   ]
  },
  {
   "cell_type": "code",
   "execution_count": 6,
   "id": "3a028d58",
   "metadata": {
    "execution": {
     "iopub.execute_input": "2022-03-28T15:30:00.910407Z",
     "iopub.status.busy": "2022-03-28T15:30:00.910042Z",
     "iopub.status.idle": "2022-03-28T15:30:00.930809Z",
     "shell.execute_reply": "2022-03-28T15:30:00.930447Z"
    },
    "papermill": {
     "duration": 0.043303,
     "end_time": "2022-03-28T15:30:00.930879",
     "exception": false,
     "start_time": "2022-03-28T15:30:00.887576",
     "status": "completed"
    },
    "tags": []
   },
   "outputs": [],
   "source": [
    "###################################\n",
    "# Set the RNGs and make it all deterministic\n",
    "###################################\n",
    "np.random.seed(p.seed)\n",
    "random.seed(p.seed)\n",
    "torch.manual_seed(p.seed)\n",
    "\n",
    "torch.use_deterministic_algorithms(True) "
   ]
  },
  {
   "cell_type": "code",
   "execution_count": 7,
   "id": "b691acf6",
   "metadata": {
    "execution": {
     "iopub.execute_input": "2022-03-28T15:30:00.974217Z",
     "iopub.status.busy": "2022-03-28T15:30:00.973853Z",
     "iopub.status.idle": "2022-03-28T15:30:00.995894Z",
     "shell.execute_reply": "2022-03-28T15:30:00.995537Z"
    },
    "papermill": {
     "duration": 0.044879,
     "end_time": "2022-03-28T15:30:00.995964",
     "exception": false,
     "start_time": "2022-03-28T15:30:00.951085",
     "status": "completed"
    },
    "tags": []
   },
   "outputs": [],
   "source": [
    "###########################################\n",
    "# The stratified datasets honor this\n",
    "###########################################\n",
    "torch.set_default_dtype(eval(p.torch_default_dtype))"
   ]
  },
  {
   "cell_type": "code",
   "execution_count": 8,
   "id": "b5fba671",
   "metadata": {
    "execution": {
     "iopub.execute_input": "2022-03-28T15:30:01.037949Z",
     "iopub.status.busy": "2022-03-28T15:30:01.037586Z",
     "iopub.status.idle": "2022-03-28T15:30:01.086075Z",
     "shell.execute_reply": "2022-03-28T15:30:01.086375Z"
    },
    "papermill": {
     "duration": 0.070538,
     "end_time": "2022-03-28T15:30:01.086455",
     "exception": false,
     "start_time": "2022-03-28T15:30:01.015917",
     "status": "completed"
    },
    "tags": []
   },
   "outputs": [],
   "source": [
    "###################################\n",
    "# Build the network(s)\n",
    "# Note: It's critical to do this AFTER setting the RNG\n",
    "###################################\n",
    "x_net = build_sequential(p.x_net)"
   ]
  },
  {
   "cell_type": "code",
   "execution_count": 9,
   "id": "5d7e61cc",
   "metadata": {
    "execution": {
     "iopub.execute_input": "2022-03-28T15:30:01.130575Z",
     "iopub.status.busy": "2022-03-28T15:30:01.130213Z",
     "iopub.status.idle": "2022-03-28T15:30:01.153251Z",
     "shell.execute_reply": "2022-03-28T15:30:01.152932Z"
    },
    "papermill": {
     "duration": 0.04657,
     "end_time": "2022-03-28T15:30:01.153321",
     "exception": false,
     "start_time": "2022-03-28T15:30:01.106751",
     "status": "completed"
    },
    "tags": []
   },
   "outputs": [],
   "source": [
    "start_time_secs = time.time()"
   ]
  },
  {
   "cell_type": "code",
   "execution_count": 10,
   "id": "c6b67dfd",
   "metadata": {
    "execution": {
     "iopub.execute_input": "2022-03-28T15:30:01.198512Z",
     "iopub.status.busy": "2022-03-28T15:30:01.198147Z",
     "iopub.status.idle": "2022-03-28T15:30:01.217873Z",
     "shell.execute_reply": "2022-03-28T15:30:01.217519Z"
    },
    "papermill": {
     "duration": 0.044054,
     "end_time": "2022-03-28T15:30:01.217942",
     "exception": false,
     "start_time": "2022-03-28T15:30:01.173888",
     "status": "completed"
    },
    "tags": []
   },
   "outputs": [],
   "source": [
    "p.domains_source = []\n",
    "p.domains_target = []\n",
    "\n",
    "\n",
    "train_original_source = []\n",
    "val_original_source   = []\n",
    "test_original_source  = []\n",
    "\n",
    "train_original_target = []\n",
    "val_original_target   = []\n",
    "test_original_target  = []"
   ]
  },
  {
   "cell_type": "code",
   "execution_count": 11,
   "id": "e3d9c3d3",
   "metadata": {
    "execution": {
     "iopub.execute_input": "2022-03-28T15:30:01.261712Z",
     "iopub.status.busy": "2022-03-28T15:30:01.261346Z",
     "iopub.status.idle": "2022-03-28T15:30:01.277013Z",
     "shell.execute_reply": "2022-03-28T15:30:01.276650Z"
    },
    "papermill": {
     "duration": 0.038387,
     "end_time": "2022-03-28T15:30:01.277083",
     "exception": false,
     "start_time": "2022-03-28T15:30:01.238696",
     "status": "completed"
    },
    "tags": []
   },
   "outputs": [],
   "source": [
    "# global_x_transform_func = lambda x: normalize(x.to(torch.get_default_dtype()), \"unit_power\") # unit_power, unit_mag\n",
    "# global_x_transform_func = lambda x: normalize(x, \"unit_power\") # unit_power, unit_mag"
   ]
  },
  {
   "cell_type": "code",
   "execution_count": 12,
   "id": "acb78fd2",
   "metadata": {
    "execution": {
     "iopub.execute_input": "2022-03-28T15:30:01.326965Z",
     "iopub.status.busy": "2022-03-28T15:30:01.326585Z",
     "iopub.status.idle": "2022-03-28T15:30:01.345033Z",
     "shell.execute_reply": "2022-03-28T15:30:01.344715Z"
    },
    "papermill": {
     "duration": 0.047452,
     "end_time": "2022-03-28T15:30:01.345102",
     "exception": false,
     "start_time": "2022-03-28T15:30:01.297650",
     "status": "completed"
    },
    "tags": []
   },
   "outputs": [],
   "source": [
    "def add_dataset(\n",
    "    labels,\n",
    "    domains,\n",
    "    pickle_path,\n",
    "    x_transforms,\n",
    "    episode_transforms,\n",
    "    domain_prefix,\n",
    "    num_examples_per_domain_per_label,\n",
    "    source_or_target_dataset:str,\n",
    "    iterator_seed=p.seed,\n",
    "    dataset_seed=p.dataset_seed,\n",
    "    n_shot=p.n_shot,\n",
    "    n_way=p.n_way,\n",
    "    n_query=p.n_query,\n",
    "    train_val_test_k_factors=(p.train_k_factor,p.val_k_factor,p.test_k_factor),\n",
    "):\n",
    "   \n",
    "    if x_transforms == []: x_transform = None\n",
    "    else: x_transform = get_chained_transform(x_transforms)\n",
    "    \n",
    "    if episode_transforms == []: episode_transform = None\n",
    "    else: raise Exception(\"episode_transforms not implemented\")\n",
    "    \n",
    "    episode_transform = lambda tup, _prefix=domain_prefix: (_prefix + str(tup[0]), tup[1])\n",
    "\n",
    "\n",
    "    eaf = Episodic_Accessor_Factory(\n",
    "        labels=labels,\n",
    "        domains=domains,\n",
    "        num_examples_per_domain_per_label=num_examples_per_domain_per_label,\n",
    "        iterator_seed=iterator_seed,\n",
    "        dataset_seed=dataset_seed,\n",
    "        n_shot=n_shot,\n",
    "        n_way=n_way,\n",
    "        n_query=n_query,\n",
    "        train_val_test_k_factors=train_val_test_k_factors,\n",
    "        pickle_path=pickle_path,\n",
    "        x_transform_func=x_transform,\n",
    "    )\n",
    "\n",
    "    train, val, test = eaf.get_train(), eaf.get_val(), eaf.get_test()\n",
    "    train = Lazy_Iterable_Wrapper(train, episode_transform)\n",
    "    val = Lazy_Iterable_Wrapper(val, episode_transform)\n",
    "    test = Lazy_Iterable_Wrapper(test, episode_transform)\n",
    "\n",
    "    if source_or_target_dataset==\"source\":\n",
    "        train_original_source.append(train)\n",
    "        val_original_source.append(val)\n",
    "        test_original_source.append(test)\n",
    "\n",
    "        p.domains_source.extend(\n",
    "            [domain_prefix + str(u) for u in domains]\n",
    "        )\n",
    "    elif source_or_target_dataset==\"target\":\n",
    "        train_original_target.append(train)\n",
    "        val_original_target.append(val)\n",
    "        test_original_target.append(test)\n",
    "        p.domains_target.extend(\n",
    "            [domain_prefix + str(u) for u in domains]\n",
    "        )\n",
    "    else:\n",
    "        raise Exception(f\"invalid source_or_target_dataset: {source_or_target_dataset}\")\n",
    "    "
   ]
  },
  {
   "cell_type": "code",
   "execution_count": 13,
   "id": "fe266617",
   "metadata": {
    "execution": {
     "iopub.execute_input": "2022-03-28T15:30:01.389297Z",
     "iopub.status.busy": "2022-03-28T15:30:01.388929Z",
     "iopub.status.idle": "2022-03-28T15:31:05.535297Z",
     "shell.execute_reply": "2022-03-28T15:31:05.534842Z"
    },
    "papermill": {
     "duration": 64.169779,
     "end_time": "2022-03-28T15:31:05.535405",
     "exception": false,
     "start_time": "2022-03-28T15:30:01.365626",
     "status": "completed"
    },
    "tags": []
   },
   "outputs": [],
   "source": [
    "for ds in p.datasets:\n",
    "    add_dataset(**ds)"
   ]
  },
  {
   "cell_type": "code",
   "execution_count": 14,
   "id": "b90d65ac",
   "metadata": {
    "execution": {
     "iopub.execute_input": "2022-03-28T15:31:05.582027Z",
     "iopub.status.busy": "2022-03-28T15:31:05.581384Z",
     "iopub.status.idle": "2022-03-28T15:31:05.605042Z",
     "shell.execute_reply": "2022-03-28T15:31:05.604656Z"
    },
    "papermill": {
     "duration": 0.046421,
     "end_time": "2022-03-28T15:31:05.605121",
     "exception": false,
     "start_time": "2022-03-28T15:31:05.558700",
     "status": "completed"
    },
    "tags": []
   },
   "outputs": [],
   "source": [
    "# from steves_utils.CORES.utils import (\n",
    "#     ALL_NODES,\n",
    "#     ALL_NODES_MINIMUM_1000_EXAMPLES,\n",
    "#     ALL_DAYS\n",
    "# )\n",
    "\n",
    "# add_dataset(\n",
    "#     labels=ALL_NODES,\n",
    "#     domains = ALL_DAYS,\n",
    "#     num_examples_per_domain_per_label=100,\n",
    "#     pickle_path=os.path.join(get_datasets_base_path(), \"cores.stratified_ds.2022A.pkl\"),\n",
    "#     source_or_target_dataset=\"target\",\n",
    "#     x_transform_func=global_x_transform_func,\n",
    "#     domain_modifier=lambda u: f\"cores_{u}\"\n",
    "# )"
   ]
  },
  {
   "cell_type": "code",
   "execution_count": 15,
   "id": "76db484d",
   "metadata": {
    "execution": {
     "iopub.execute_input": "2022-03-28T15:31:05.650156Z",
     "iopub.status.busy": "2022-03-28T15:31:05.649318Z",
     "iopub.status.idle": "2022-03-28T15:31:05.667185Z",
     "shell.execute_reply": "2022-03-28T15:31:05.666800Z"
    },
    "papermill": {
     "duration": 0.041693,
     "end_time": "2022-03-28T15:31:05.667260",
     "exception": false,
     "start_time": "2022-03-28T15:31:05.625567",
     "status": "completed"
    },
    "tags": []
   },
   "outputs": [],
   "source": [
    "# from steves_utils.ORACLE.utils_v2 import (\n",
    "#     ALL_DISTANCES_FEET,\n",
    "#     ALL_RUNS,\n",
    "#     ALL_SERIAL_NUMBERS,\n",
    "# )\n",
    "\n",
    "\n",
    "# add_dataset(\n",
    "#     labels=ALL_SERIAL_NUMBERS,\n",
    "#     domains = list(set(ALL_DISTANCES_FEET) - {2,62}),\n",
    "#     num_examples_per_domain_per_label=100,\n",
    "#     pickle_path=os.path.join(get_datasets_base_path(), \"oracle.Run2_framed_2000Examples_stratified_ds.2022A.pkl\"),\n",
    "#     source_or_target_dataset=\"source\",\n",
    "#     x_transform_func=global_x_transform_func,\n",
    "#     domain_modifier=lambda u: f\"oracle1_{u}\"\n",
    "# )\n"
   ]
  },
  {
   "cell_type": "code",
   "execution_count": 16,
   "id": "97dea9d2",
   "metadata": {
    "execution": {
     "iopub.execute_input": "2022-03-28T15:31:05.711673Z",
     "iopub.status.busy": "2022-03-28T15:31:05.710907Z",
     "iopub.status.idle": "2022-03-28T15:31:05.729213Z",
     "shell.execute_reply": "2022-03-28T15:31:05.728830Z"
    },
    "papermill": {
     "duration": 0.041226,
     "end_time": "2022-03-28T15:31:05.729289",
     "exception": false,
     "start_time": "2022-03-28T15:31:05.688063",
     "status": "completed"
    },
    "tags": []
   },
   "outputs": [],
   "source": [
    "# from steves_utils.ORACLE.utils_v2 import (\n",
    "#     ALL_DISTANCES_FEET,\n",
    "#     ALL_RUNS,\n",
    "#     ALL_SERIAL_NUMBERS,\n",
    "# )\n",
    "\n",
    "\n",
    "# add_dataset(\n",
    "#     labels=ALL_SERIAL_NUMBERS,\n",
    "#     domains = list(set(ALL_DISTANCES_FEET) - {2,62,56}),\n",
    "#     num_examples_per_domain_per_label=100,\n",
    "#     pickle_path=os.path.join(get_datasets_base_path(), \"oracle.Run2_framed_2000Examples_stratified_ds.2022A.pkl\"),\n",
    "#     source_or_target_dataset=\"source\",\n",
    "#     x_transform_func=global_x_transform_func,\n",
    "#     domain_modifier=lambda u: f\"oracle2_{u}\"\n",
    "# )"
   ]
  },
  {
   "cell_type": "code",
   "execution_count": 17,
   "id": "6f289866",
   "metadata": {
    "execution": {
     "iopub.execute_input": "2022-03-28T15:31:05.772516Z",
     "iopub.status.busy": "2022-03-28T15:31:05.771975Z",
     "iopub.status.idle": "2022-03-28T15:31:05.789679Z",
     "shell.execute_reply": "2022-03-28T15:31:05.789303Z"
    },
    "papermill": {
     "duration": 0.040023,
     "end_time": "2022-03-28T15:31:05.789752",
     "exception": false,
     "start_time": "2022-03-28T15:31:05.749729",
     "status": "completed"
    },
    "tags": []
   },
   "outputs": [],
   "source": [
    "# add_dataset(\n",
    "#     labels=list(range(19)),\n",
    "#     domains = [0,1,2],\n",
    "#     num_examples_per_domain_per_label=100,\n",
    "#     pickle_path=os.path.join(get_datasets_base_path(), \"metehan.stratified_ds.2022A.pkl\"),\n",
    "#     source_or_target_dataset=\"target\",\n",
    "#     x_transform_func=global_x_transform_func,\n",
    "#     domain_modifier=lambda u: f\"met_{u}\"\n",
    "# )"
   ]
  },
  {
   "cell_type": "code",
   "execution_count": 18,
   "id": "86a863c3",
   "metadata": {
    "execution": {
     "iopub.execute_input": "2022-03-28T15:31:05.834825Z",
     "iopub.status.busy": "2022-03-28T15:31:05.833937Z",
     "iopub.status.idle": "2022-03-28T15:31:05.853688Z",
     "shell.execute_reply": "2022-03-28T15:31:05.853308Z"
    },
    "papermill": {
     "duration": 0.043171,
     "end_time": "2022-03-28T15:31:05.853763",
     "exception": false,
     "start_time": "2022-03-28T15:31:05.810592",
     "status": "completed"
    },
    "tags": []
   },
   "outputs": [],
   "source": [
    "# # from steves_utils.wisig.utils import (\n",
    "# #     ALL_NODES_MINIMUM_100_EXAMPLES,\n",
    "# #     ALL_NODES_MINIMUM_500_EXAMPLES,\n",
    "# #     ALL_NODES_MINIMUM_1000_EXAMPLES,\n",
    "# #     ALL_DAYS\n",
    "# # )\n",
    "\n",
    "# import steves_utils.wisig.utils as wisig\n",
    "\n",
    "\n",
    "# add_dataset(\n",
    "#     labels=wisig.ALL_NODES_MINIMUM_100_EXAMPLES,\n",
    "#     domains = wisig.ALL_DAYS,\n",
    "#     num_examples_per_domain_per_label=100,\n",
    "#     pickle_path=os.path.join(get_datasets_base_path(), \"wisig.node3-19.stratified_ds.2022A.pkl\"),\n",
    "#     source_or_target_dataset=\"target\",\n",
    "#     x_transform_func=global_x_transform_func,\n",
    "#     domain_modifier=lambda u: f\"wisig_{u}\"\n",
    "# )"
   ]
  },
  {
   "cell_type": "code",
   "execution_count": 19,
   "id": "fd5442bc",
   "metadata": {
    "execution": {
     "iopub.execute_input": "2022-03-28T15:31:05.900968Z",
     "iopub.status.busy": "2022-03-28T15:31:05.900115Z",
     "iopub.status.idle": "2022-03-28T15:31:05.920475Z",
     "shell.execute_reply": "2022-03-28T15:31:05.920143Z"
    },
    "papermill": {
     "duration": 0.045959,
     "end_time": "2022-03-28T15:31:05.920551",
     "exception": false,
     "start_time": "2022-03-28T15:31:05.874592",
     "status": "completed"
    },
    "tags": []
   },
   "outputs": [],
   "source": [
    "###################################\n",
    "# Build the dataset\n",
    "###################################\n",
    "train_original_source = Iterable_Aggregator(train_original_source, p.seed)\n",
    "val_original_source = Iterable_Aggregator(val_original_source, p.seed)\n",
    "test_original_source = Iterable_Aggregator(test_original_source, p.seed)\n",
    "\n",
    "\n",
    "train_original_target = Iterable_Aggregator(train_original_target, p.seed)\n",
    "val_original_target = Iterable_Aggregator(val_original_target, p.seed)\n",
    "test_original_target = Iterable_Aggregator(test_original_target, p.seed)\n",
    "\n",
    "# For CNN We only use X and Y. And we only train on the source.\n",
    "# Properly form the data using a transform lambda and Lazy_Iterable_Wrapper. Finally wrap them in a dataloader\n",
    "\n",
    "transform_lambda = lambda ex: ex[1] # Original is (<domain>, <episode>) so we strip down to episode only\n",
    "\n",
    "train_processed_source = Lazy_Iterable_Wrapper(train_original_source, transform_lambda)\n",
    "val_processed_source   = Lazy_Iterable_Wrapper(val_original_source, transform_lambda)\n",
    "test_processed_source  = Lazy_Iterable_Wrapper(test_original_source, transform_lambda)\n",
    "\n",
    "train_processed_target = Lazy_Iterable_Wrapper(train_original_target, transform_lambda)\n",
    "val_processed_target   = Lazy_Iterable_Wrapper(val_original_target, transform_lambda)\n",
    "test_processed_target  = Lazy_Iterable_Wrapper(test_original_target, transform_lambda)\n",
    "\n",
    "datasets = EasyDict({\n",
    "    \"source\": {\n",
    "        \"original\": {\"train\":train_original_source, \"val\":val_original_source, \"test\":test_original_source},\n",
    "        \"processed\": {\"train\":train_processed_source, \"val\":val_processed_source, \"test\":test_processed_source}\n",
    "    },\n",
    "    \"target\": {\n",
    "        \"original\": {\"train\":train_original_target, \"val\":val_original_target, \"test\":test_original_target},\n",
    "        \"processed\": {\"train\":train_processed_target, \"val\":val_processed_target, \"test\":test_processed_target}\n",
    "    },\n",
    "})"
   ]
  },
  {
   "cell_type": "code",
   "execution_count": 20,
   "id": "5b3c01fc",
   "metadata": {
    "execution": {
     "iopub.execute_input": "2022-03-28T15:31:05.966700Z",
     "iopub.status.busy": "2022-03-28T15:31:05.966148Z",
     "iopub.status.idle": "2022-03-28T15:31:20.025740Z",
     "shell.execute_reply": "2022-03-28T15:31:20.024901Z"
    },
    "papermill": {
     "duration": 14.084132,
     "end_time": "2022-03-28T15:31:20.025918",
     "exception": false,
     "start_time": "2022-03-28T15:31:05.941786",
     "status": "completed"
    },
    "tags": []
   },
   "outputs": [
    {
     "name": "stdout",
     "output_type": "stream",
     "text": [
      "{'C_2', 'C_5', 'C_3', 'C_4', 'C_1'}\n"
     ]
    },
    {
     "name": "stdout",
     "output_type": "stream",
     "text": [
      "{'O_26', 'O_50', 'O_14', 'O_20', 'O_38', 'O_44', 'O_8', 'O_32'}\n"
     ]
    },
    {
     "name": "stdout",
     "output_type": "stream",
     "text": [
      "tensor([[[0., 0., 0.,  ..., 0., 0., 0.],\n",
      "         [0., 0., 0.,  ..., 0., 0., 0.]],\n",
      "\n",
      "        [[0., 0., 0.,  ..., 0., 0., 0.],\n",
      "         [0., 0., 0.,  ..., 0., 0., 0.]],\n",
      "\n",
      "        [[0., 0., 0.,  ..., 0., 0., 0.],\n",
      "         [0., 0., 0.,  ..., 0., 0., 0.]],\n",
      "\n",
      "        ...,\n",
      "\n",
      "        [[0., 0., 0.,  ..., 0., 0., 0.],\n",
      "         [0., 0., 0.,  ..., 0., 0., 0.]],\n",
      "\n",
      "        [[0., 0., 0.,  ..., 0., 0., 0.],\n",
      "         [0., 0., 0.,  ..., 0., 0., 0.]],\n",
      "\n",
      "        [[0., 0., 0.,  ..., 0., 0., 0.],\n",
      "         [0., 0., 0.,  ..., 0., 0., 0.]]])\n"
     ]
    }
   ],
   "source": [
    "from steves_utils.transforms import get_average_magnitude, get_average_power\n",
    "\n",
    "print(set([u for u,_ in val_original_source]))\n",
    "print(set([u for u,_ in val_original_target]))\n",
    "\n",
    "s_x, s_y, q_x, q_y, _ = next(iter(train_processed_source))\n",
    "print(s_x)\n",
    "\n",
    "# for ds in [\n",
    "#     train_processed_source,\n",
    "#     val_processed_source,\n",
    "#     test_processed_source,\n",
    "#     train_processed_target,\n",
    "#     val_processed_target,\n",
    "#     test_processed_target\n",
    "# ]:\n",
    "#     for s_x, s_y, q_x, q_y, _ in ds:\n",
    "#         for X in (s_x, q_x):\n",
    "#             for x in X:\n",
    "#                 assert np.isclose(get_average_magnitude(x.numpy()), 1.0)\n",
    "#                 assert np.isclose(get_average_power(x.numpy()), 1.0)\n",
    "                "
   ]
  },
  {
   "cell_type": "code",
   "execution_count": 21,
   "id": "bbdacba1",
   "metadata": {
    "execution": {
     "iopub.execute_input": "2022-03-28T15:31:20.080434Z",
     "iopub.status.busy": "2022-03-28T15:31:20.079983Z",
     "iopub.status.idle": "2022-03-28T15:31:20.189180Z",
     "shell.execute_reply": "2022-03-28T15:31:20.189543Z"
    },
    "papermill": {
     "duration": 0.13712,
     "end_time": "2022-03-28T15:31:20.189685",
     "exception": false,
     "start_time": "2022-03-28T15:31:20.052565",
     "status": "completed"
    },
    "tags": []
   },
   "outputs": [
    {
     "name": "stdout",
     "output_type": "stream",
     "text": [
      "(2, 256)\n"
     ]
    }
   ],
   "source": [
    "###################################\n",
    "# Build the model\n",
    "###################################\n",
    "# easfsl only wants a tuple for the shape\n",
    "model = Steves_Prototypical_Network(x_net, device=p.device, x_shape=tuple(p.x_shape))\n",
    "optimizer = Adam(params=model.parameters(), lr=p.lr)"
   ]
  },
  {
   "cell_type": "code",
   "execution_count": 22,
   "id": "22b39ac5",
   "metadata": {
    "execution": {
     "iopub.execute_input": "2022-03-28T15:31:20.241098Z",
     "iopub.status.busy": "2022-03-28T15:31:20.240470Z",
     "iopub.status.idle": "2022-03-28T15:50:22.122503Z",
     "shell.execute_reply": "2022-03-28T15:50:22.122160Z"
    },
    "papermill": {
     "duration": 1141.909821,
     "end_time": "2022-03-28T15:50:22.122592",
     "exception": false,
     "start_time": "2022-03-28T15:31:20.212771",
     "status": "completed"
    },
    "tags": []
   },
   "outputs": [
    {
     "name": "stdout",
     "output_type": "stream",
     "text": [
      "epoch: 1, [batch: 1 / 6317], examples_per_second: 33.6120, train_label_loss: 2.2105, \n"
     ]
    },
    {
     "name": "stdout",
     "output_type": "stream",
     "text": [
      "epoch: 1, [batch: 632 / 6317], examples_per_second: 3772.7643, train_label_loss: 0.0961, \n"
     ]
    },
    {
     "name": "stdout",
     "output_type": "stream",
     "text": [
      "epoch: 1, [batch: 1264 / 6317], examples_per_second: 3863.1334, train_label_loss: 0.0031, \n"
     ]
    },
    {
     "name": "stdout",
     "output_type": "stream",
     "text": [
      "epoch: 1, [batch: 1895 / 6317], examples_per_second: 4019.0019, train_label_loss: 0.0096, \n"
     ]
    },
    {
     "name": "stdout",
     "output_type": "stream",
     "text": [
      "epoch: 1, [batch: 2527 / 6317], examples_per_second: 4138.4224, train_label_loss: 0.0002, \n"
     ]
    },
    {
     "name": "stdout",
     "output_type": "stream",
     "text": [
      "epoch: 1, [batch: 3159 / 6317], examples_per_second: 4370.1367, train_label_loss: 0.0068, \n"
     ]
    },
    {
     "name": "stdout",
     "output_type": "stream",
     "text": [
      "epoch: 1, [batch: 3790 / 6317], examples_per_second: 3801.5206, train_label_loss: 0.0023, \n"
     ]
    },
    {
     "name": "stdout",
     "output_type": "stream",
     "text": [
      "epoch: 1, [batch: 4422 / 6317], examples_per_second: 3787.1690, train_label_loss: 0.0655, \n"
     ]
    },
    {
     "name": "stdout",
     "output_type": "stream",
     "text": [
      "epoch: 1, [batch: 5053 / 6317], examples_per_second: 3858.8426, train_label_loss: 0.0092, \n"
     ]
    },
    {
     "name": "stdout",
     "output_type": "stream",
     "text": [
      "epoch: 1, [batch: 5685 / 6317], examples_per_second: 3876.4578, train_label_loss: 0.0015, \n"
     ]
    },
    {
     "name": "stdout",
     "output_type": "stream",
     "text": [
      "=============================================================\n",
      "epoch: 1, source_val_acc_label: 0.9934, target_val_acc_label: 0.3053, source_val_label_loss: 0.3019, target_val_label_loss: 10.9079, \n",
      "=============================================================\n"
     ]
    },
    {
     "name": "stdout",
     "output_type": "stream",
     "text": [
      "New best\n"
     ]
    },
    {
     "name": "stdout",
     "output_type": "stream",
     "text": [
      "epoch: 2, [batch: 1 / 6315], examples_per_second: 4.0934, train_label_loss: 0.0739, \n"
     ]
    },
    {
     "name": "stdout",
     "output_type": "stream",
     "text": [
      "epoch: 2, [batch: 632 / 6315], examples_per_second: 3810.0670, train_label_loss: 0.0046, \n"
     ]
    },
    {
     "name": "stdout",
     "output_type": "stream",
     "text": [
      "epoch: 2, [batch: 1263 / 6315], examples_per_second: 3830.9165, train_label_loss: 0.0018, \n"
     ]
    },
    {
     "name": "stdout",
     "output_type": "stream",
     "text": [
      "epoch: 2, [batch: 1895 / 6315], examples_per_second: 4172.2135, train_label_loss: 0.0325, \n"
     ]
    },
    {
     "name": "stdout",
     "output_type": "stream",
     "text": [
      "epoch: 2, [batch: 2526 / 6315], examples_per_second: 4351.2537, train_label_loss: 0.0016, \n"
     ]
    },
    {
     "name": "stdout",
     "output_type": "stream",
     "text": [
      "epoch: 2, [batch: 3158 / 6315], examples_per_second: 4594.9286, train_label_loss: 0.0000, \n"
     ]
    },
    {
     "name": "stdout",
     "output_type": "stream",
     "text": [
      "epoch: 2, [batch: 3789 / 6315], examples_per_second: 3955.3799, train_label_loss: 0.0042, \n"
     ]
    },
    {
     "name": "stdout",
     "output_type": "stream",
     "text": [
      "epoch: 2, [batch: 4420 / 6315], examples_per_second: 3843.5891, train_label_loss: 0.0021, \n"
     ]
    },
    {
     "name": "stdout",
     "output_type": "stream",
     "text": [
      "epoch: 2, [batch: 5052 / 6315], examples_per_second: 3918.7146, train_label_loss: 0.0001, \n"
     ]
    },
    {
     "name": "stdout",
     "output_type": "stream",
     "text": [
      "epoch: 2, [batch: 5683 / 6315], examples_per_second: 3874.1711, train_label_loss: 0.0427, \n"
     ]
    },
    {
     "name": "stdout",
     "output_type": "stream",
     "text": [
      "=============================================================\n",
      "epoch: 2, source_val_acc_label: 0.9964, target_val_acc_label: 0.4145, source_val_label_loss: 0.0146, target_val_label_loss: 1.7277, \n",
      "=============================================================\n"
     ]
    },
    {
     "name": "stdout",
     "output_type": "stream",
     "text": [
      "New best\n"
     ]
    },
    {
     "name": "stdout",
     "output_type": "stream",
     "text": [
      "epoch: 3, [batch: 1 / 6325], examples_per_second: 4.1011, train_label_loss: 0.1794, \n"
     ]
    },
    {
     "name": "stdout",
     "output_type": "stream",
     "text": [
      "epoch: 3, [batch: 633 / 6325], examples_per_second: 3821.3172, train_label_loss: 0.0026, \n"
     ]
    },
    {
     "name": "stdout",
     "output_type": "stream",
     "text": [
      "epoch: 3, [batch: 1265 / 6325], examples_per_second: 3976.2673, train_label_loss: 0.0002, \n"
     ]
    },
    {
     "name": "stdout",
     "output_type": "stream",
     "text": [
      "epoch: 3, [batch: 1898 / 6325], examples_per_second: 4209.6932, train_label_loss: 0.0003, \n"
     ]
    },
    {
     "name": "stdout",
     "output_type": "stream",
     "text": [
      "epoch: 3, [batch: 2530 / 6325], examples_per_second: 4237.2848, train_label_loss: 0.0060, \n"
     ]
    },
    {
     "name": "stdout",
     "output_type": "stream",
     "text": [
      "epoch: 3, [batch: 3163 / 6325], examples_per_second: 4408.0204, train_label_loss: 0.0001, \n"
     ]
    },
    {
     "name": "stdout",
     "output_type": "stream",
     "text": [
      "epoch: 3, [batch: 3795 / 6325], examples_per_second: 3906.1545, train_label_loss: 0.0000, \n"
     ]
    },
    {
     "name": "stdout",
     "output_type": "stream",
     "text": [
      "epoch: 3, [batch: 4427 / 6325], examples_per_second: 3932.0642, train_label_loss: 0.0007, \n"
     ]
    },
    {
     "name": "stdout",
     "output_type": "stream",
     "text": [
      "epoch: 3, [batch: 5060 / 6325], examples_per_second: 3965.7581, train_label_loss: 0.0010, \n"
     ]
    },
    {
     "name": "stdout",
     "output_type": "stream",
     "text": [
      "epoch: 3, [batch: 5692 / 6325], examples_per_second: 3911.6421, train_label_loss: 0.0002, \n"
     ]
    },
    {
     "name": "stdout",
     "output_type": "stream",
     "text": [
      "=============================================================\n",
      "epoch: 3, source_val_acc_label: 0.9962, target_val_acc_label: 0.4052, source_val_label_loss: 0.0207, target_val_label_loss: 1.7014, \n",
      "=============================================================\n"
     ]
    },
    {
     "name": "stdout",
     "output_type": "stream",
     "text": [
      "epoch: 4, [batch: 1 / 6307], examples_per_second: 4.0955, train_label_loss: 0.0383, \n"
     ]
    },
    {
     "name": "stdout",
     "output_type": "stream",
     "text": [
      "epoch: 4, [batch: 631 / 6307], examples_per_second: 3912.4913, train_label_loss: 0.0021, \n"
     ]
    },
    {
     "name": "stdout",
     "output_type": "stream",
     "text": [
      "epoch: 4, [batch: 1262 / 6307], examples_per_second: 3959.9685, train_label_loss: 0.0001, \n"
     ]
    },
    {
     "name": "stdout",
     "output_type": "stream",
     "text": [
      "epoch: 4, [batch: 1892 / 6307], examples_per_second: 4205.8256, train_label_loss: 0.0224, \n"
     ]
    },
    {
     "name": "stdout",
     "output_type": "stream",
     "text": [
      "epoch: 4, [batch: 2523 / 6307], examples_per_second: 4365.3613, train_label_loss: 0.0000, \n"
     ]
    },
    {
     "name": "stdout",
     "output_type": "stream",
     "text": [
      "epoch: 4, [batch: 3154 / 6307], examples_per_second: 4257.6179, train_label_loss: 0.1823, \n"
     ]
    },
    {
     "name": "stdout",
     "output_type": "stream",
     "text": [
      "epoch: 4, [batch: 3784 / 6307], examples_per_second: 4319.1607, train_label_loss: 0.0011, \n"
     ]
    },
    {
     "name": "stdout",
     "output_type": "stream",
     "text": [
      "epoch: 4, [batch: 4415 / 6307], examples_per_second: 4305.0684, train_label_loss: 0.0524, \n"
     ]
    },
    {
     "name": "stdout",
     "output_type": "stream",
     "text": [
      "epoch: 4, [batch: 5045 / 6307], examples_per_second: 4375.3306, train_label_loss: 0.0000, \n"
     ]
    },
    {
     "name": "stdout",
     "output_type": "stream",
     "text": [
      "epoch: 4, [batch: 5676 / 6307], examples_per_second: 4235.2814, train_label_loss: 0.0002, \n"
     ]
    },
    {
     "name": "stdout",
     "output_type": "stream",
     "text": [
      "=============================================================\n",
      "epoch: 4, source_val_acc_label: 0.9976, target_val_acc_label: 0.4607, source_val_label_loss: 0.0152, target_val_label_loss: 1.6577, \n",
      "=============================================================\n"
     ]
    },
    {
     "name": "stdout",
     "output_type": "stream",
     "text": [
      "New best\n"
     ]
    },
    {
     "name": "stdout",
     "output_type": "stream",
     "text": [
      "epoch: 5, [batch: 1 / 6302], examples_per_second: 4.7268, train_label_loss: 0.0054, \n"
     ]
    },
    {
     "name": "stdout",
     "output_type": "stream",
     "text": [
      "epoch: 5, [batch: 631 / 6302], examples_per_second: 4647.2054, train_label_loss: 0.0004, \n"
     ]
    },
    {
     "name": "stdout",
     "output_type": "stream",
     "text": [
      "epoch: 5, [batch: 1261 / 6302], examples_per_second: 5108.8518, train_label_loss: 0.0001, \n"
     ]
    },
    {
     "name": "stdout",
     "output_type": "stream",
     "text": [
      "epoch: 5, [batch: 1891 / 6302], examples_per_second: 4942.9883, train_label_loss: 0.0007, \n"
     ]
    },
    {
     "name": "stdout",
     "output_type": "stream",
     "text": [
      "epoch: 5, [batch: 2521 / 6302], examples_per_second: 5050.9767, train_label_loss: 0.0000, \n"
     ]
    },
    {
     "name": "stdout",
     "output_type": "stream",
     "text": [
      "epoch: 5, [batch: 3151 / 6302], examples_per_second: 4850.5770, train_label_loss: 0.0005, \n"
     ]
    },
    {
     "name": "stdout",
     "output_type": "stream",
     "text": [
      "epoch: 5, [batch: 3781 / 6302], examples_per_second: 5068.0349, train_label_loss: 0.0595, \n"
     ]
    },
    {
     "name": "stdout",
     "output_type": "stream",
     "text": [
      "epoch: 5, [batch: 4411 / 6302], examples_per_second: 5085.1031, train_label_loss: 0.0007, \n"
     ]
    },
    {
     "name": "stdout",
     "output_type": "stream",
     "text": [
      "epoch: 5, [batch: 5041 / 6302], examples_per_second: 4890.5389, train_label_loss: 0.0129, \n"
     ]
    },
    {
     "name": "stdout",
     "output_type": "stream",
     "text": [
      "epoch: 5, [batch: 5671 / 6302], examples_per_second: 5360.3969, train_label_loss: 0.0002, \n"
     ]
    },
    {
     "name": "stdout",
     "output_type": "stream",
     "text": [
      "=============================================================\n",
      "epoch: 5, source_val_acc_label: 0.9987, target_val_acc_label: 0.4214, source_val_label_loss: 0.0104, target_val_label_loss: 1.7092, \n",
      "=============================================================\n"
     ]
    },
    {
     "name": "stdout",
     "output_type": "stream",
     "text": [
      "epoch: 6, [batch: 1 / 6311], examples_per_second: 5.6404, train_label_loss: 0.0975, \n"
     ]
    },
    {
     "name": "stdout",
     "output_type": "stream",
     "text": [
      "epoch: 6, [batch: 632 / 6311], examples_per_second: 4865.9297, train_label_loss: 0.0032, \n"
     ]
    },
    {
     "name": "stdout",
     "output_type": "stream",
     "text": [
      "epoch: 6, [batch: 1263 / 6311], examples_per_second: 5363.4772, train_label_loss: 0.0083, \n"
     ]
    },
    {
     "name": "stdout",
     "output_type": "stream",
     "text": [
      "epoch: 6, [batch: 1894 / 6311], examples_per_second: 5270.3137, train_label_loss: 0.3140, \n"
     ]
    },
    {
     "name": "stdout",
     "output_type": "stream",
     "text": [
      "epoch: 6, [batch: 2525 / 6311], examples_per_second: 5056.2278, train_label_loss: 0.0032, \n"
     ]
    },
    {
     "name": "stdout",
     "output_type": "stream",
     "text": [
      "epoch: 6, [batch: 3156 / 6311], examples_per_second: 5266.5970, train_label_loss: 0.0000, \n"
     ]
    },
    {
     "name": "stdout",
     "output_type": "stream",
     "text": [
      "epoch: 6, [batch: 3787 / 6311], examples_per_second: 5459.7667, train_label_loss: 0.0032, \n"
     ]
    },
    {
     "name": "stdout",
     "output_type": "stream",
     "text": [
      "epoch: 6, [batch: 4418 / 6311], examples_per_second: 4999.6734, train_label_loss: 0.0004, \n"
     ]
    },
    {
     "name": "stdout",
     "output_type": "stream",
     "text": [
      "epoch: 6, [batch: 5049 / 6311], examples_per_second: 4842.3774, train_label_loss: 0.0003, \n"
     ]
    },
    {
     "name": "stdout",
     "output_type": "stream",
     "text": [
      "epoch: 6, [batch: 5680 / 6311], examples_per_second: 5166.0186, train_label_loss: 0.0001, \n"
     ]
    },
    {
     "name": "stdout",
     "output_type": "stream",
     "text": [
      "=============================================================\n",
      "epoch: 6, source_val_acc_label: 0.9986, target_val_acc_label: 0.4054, source_val_label_loss: 0.0084, target_val_label_loss: 1.7447, \n",
      "=============================================================\n"
     ]
    },
    {
     "name": "stdout",
     "output_type": "stream",
     "text": [
      "epoch: 7, [batch: 1 / 6310], examples_per_second: 4.3556, train_label_loss: 0.0000, \n"
     ]
    },
    {
     "name": "stdout",
     "output_type": "stream",
     "text": [
      "epoch: 7, [batch: 631 / 6310], examples_per_second: 3835.3849, train_label_loss: 0.0008, \n"
     ]
    },
    {
     "name": "stdout",
     "output_type": "stream",
     "text": [
      "epoch: 7, [batch: 1262 / 6310], examples_per_second: 3964.1103, train_label_loss: 0.0000, \n"
     ]
    },
    {
     "name": "stdout",
     "output_type": "stream",
     "text": [
      "epoch: 7, [batch: 1893 / 6310], examples_per_second: 3949.8843, train_label_loss: 0.0001, \n"
     ]
    },
    {
     "name": "stdout",
     "output_type": "stream",
     "text": [
      "epoch: 7, [batch: 2524 / 6310], examples_per_second: 3879.8123, train_label_loss: 0.0000, \n"
     ]
    },
    {
     "name": "stdout",
     "output_type": "stream",
     "text": [
      "epoch: 7, [batch: 3155 / 6310], examples_per_second: 4060.7720, train_label_loss: 0.0585, \n"
     ]
    },
    {
     "name": "stdout",
     "output_type": "stream",
     "text": [
      "epoch: 7, [batch: 3786 / 6310], examples_per_second: 3955.3162, train_label_loss: 0.0008, \n"
     ]
    },
    {
     "name": "stdout",
     "output_type": "stream",
     "text": [
      "epoch: 7, [batch: 4417 / 6310], examples_per_second: 4035.4220, train_label_loss: 0.0000, \n"
     ]
    },
    {
     "name": "stdout",
     "output_type": "stream",
     "text": [
      "epoch: 7, [batch: 5048 / 6310], examples_per_second: 3994.9260, train_label_loss: 0.0002, \n"
     ]
    },
    {
     "name": "stdout",
     "output_type": "stream",
     "text": [
      "epoch: 7, [batch: 5679 / 6310], examples_per_second: 4355.7619, train_label_loss: 0.0002, \n"
     ]
    },
    {
     "name": "stdout",
     "output_type": "stream",
     "text": [
      "=============================================================\n",
      "epoch: 7, source_val_acc_label: 0.9989, target_val_acc_label: 0.2547, source_val_label_loss: 0.0063, target_val_label_loss: 7.3583, \n",
      "=============================================================\n"
     ]
    },
    {
     "name": "stdout",
     "output_type": "stream",
     "text": [
      "epoch: 8, [batch: 1 / 6331], examples_per_second: 4.7918, train_label_loss: 0.0002, \n"
     ]
    },
    {
     "name": "stdout",
     "output_type": "stream",
     "text": [
      "epoch: 8, [batch: 634 / 6331], examples_per_second: 3920.3739, train_label_loss: 0.0000, \n"
     ]
    },
    {
     "name": "stdout",
     "output_type": "stream",
     "text": [
      "epoch: 8, [batch: 1267 / 6331], examples_per_second: 3821.9366, train_label_loss: 0.0000, \n"
     ]
    },
    {
     "name": "stdout",
     "output_type": "stream",
     "text": [
      "epoch: 8, [batch: 1900 / 6331], examples_per_second: 3832.7692, train_label_loss: 0.0034, \n"
     ]
    },
    {
     "name": "stdout",
     "output_type": "stream",
     "text": [
      "epoch: 8, [batch: 2533 / 6331], examples_per_second: 3821.2090, train_label_loss: 0.0000, \n"
     ]
    },
    {
     "name": "stdout",
     "output_type": "stream",
     "text": [
      "epoch: 8, [batch: 3166 / 6331], examples_per_second: 3868.3345, train_label_loss: 0.0000, \n"
     ]
    },
    {
     "name": "stdout",
     "output_type": "stream",
     "text": [
      "epoch: 8, [batch: 3799 / 6331], examples_per_second: 4005.6237, train_label_loss: 0.0000, \n"
     ]
    },
    {
     "name": "stdout",
     "output_type": "stream",
     "text": [
      "epoch: 8, [batch: 4432 / 6331], examples_per_second: 3886.5376, train_label_loss: 0.0006, \n"
     ]
    },
    {
     "name": "stdout",
     "output_type": "stream",
     "text": [
      "epoch: 8, [batch: 5065 / 6331], examples_per_second: 3973.3333, train_label_loss: 0.0002, \n"
     ]
    },
    {
     "name": "stdout",
     "output_type": "stream",
     "text": [
      "epoch: 8, [batch: 5698 / 6331], examples_per_second: 3974.8240, train_label_loss: 0.0000, \n"
     ]
    },
    {
     "name": "stdout",
     "output_type": "stream",
     "text": [
      "=============================================================\n",
      "epoch: 8, source_val_acc_label: 0.9992, target_val_acc_label: 0.4594, source_val_label_loss: 0.0086, target_val_label_loss: 1.6389, \n",
      "=============================================================\n"
     ]
    },
    {
     "name": "stdout",
     "output_type": "stream",
     "text": [
      "Patience (3) exhausted\n"
     ]
    }
   ],
   "source": [
    "###################################\n",
    "# train\n",
    "###################################\n",
    "jig = PTN_Train_Eval_Test_Jig(model, p.BEST_MODEL_PATH, p.device)\n",
    "\n",
    "jig.train(\n",
    "    train_iterable=datasets.source.processed.train,\n",
    "    source_val_iterable=datasets.source.processed.val,\n",
    "    target_val_iterable=datasets.target.processed.val,\n",
    "    num_epochs=p.n_epoch,\n",
    "    num_logs_per_epoch=p.NUM_LOGS_PER_EPOCH,\n",
    "    patience=p.patience,\n",
    "    optimizer=optimizer,\n",
    "    criteria_for_best=p.criteria_for_best,\n",
    ")"
   ]
  },
  {
   "cell_type": "code",
   "execution_count": 23,
   "id": "31e8fabf",
   "metadata": {
    "execution": {
     "iopub.execute_input": "2022-03-28T15:50:22.222374Z",
     "iopub.status.busy": "2022-03-28T15:50:22.221769Z",
     "iopub.status.idle": "2022-03-28T15:50:22.253522Z",
     "shell.execute_reply": "2022-03-28T15:50:22.252818Z"
    },
    "papermill": {
     "duration": 0.084283,
     "end_time": "2022-03-28T15:50:22.253678",
     "exception": false,
     "start_time": "2022-03-28T15:50:22.169395",
     "status": "completed"
    },
    "tags": []
   },
   "outputs": [],
   "source": [
    "total_experiment_time_secs = time.time() - start_time_secs"
   ]
  },
  {
   "cell_type": "code",
   "execution_count": 24,
   "id": "87b9595b",
   "metadata": {
    "execution": {
     "iopub.execute_input": "2022-03-28T15:50:22.363247Z",
     "iopub.status.busy": "2022-03-28T15:50:22.362494Z",
     "iopub.status.idle": "2022-03-28T15:53:07.104302Z",
     "shell.execute_reply": "2022-03-28T15:53:07.104778Z"
    },
    "papermill": {
     "duration": 164.799399,
     "end_time": "2022-03-28T15:53:07.104958",
     "exception": false,
     "start_time": "2022-03-28T15:50:22.305559",
     "status": "completed"
    },
    "tags": []
   },
   "outputs": [],
   "source": [
    "###################################\n",
    "# Evaluate the model\n",
    "###################################\n",
    "source_test_label_accuracy, source_test_label_loss = jig.test(datasets.source.processed.test)\n",
    "target_test_label_accuracy, target_test_label_loss = jig.test(datasets.target.processed.test)\n",
    "\n",
    "source_val_label_accuracy, source_val_label_loss = jig.test(datasets.source.processed.val)\n",
    "target_val_label_accuracy, target_val_label_loss = jig.test(datasets.target.processed.val)\n",
    "\n",
    "history = jig.get_history()\n",
    "\n",
    "total_epochs_trained = len(history[\"epoch_indices\"])\n",
    "\n",
    "val_dl = Iterable_Aggregator((datasets.source.original.val,datasets.target.original.val))\n",
    "\n",
    "confusion = ptn_confusion_by_domain_over_dataloader(model, p.device, val_dl)\n",
    "per_domain_accuracy = per_domain_accuracy_from_confusion(confusion)\n",
    "\n",
    "# Add a key to per_domain_accuracy for if it was a source domain\n",
    "for domain, accuracy in per_domain_accuracy.items():\n",
    "    per_domain_accuracy[domain] = {\n",
    "        \"accuracy\": accuracy,\n",
    "        \"source?\": domain in p.domains_source\n",
    "    }\n",
    "\n",
    "# Do an independent accuracy assesment JUST TO BE SURE!\n",
    "# _source_test_label_accuracy = independent_accuracy_assesment(model, datasets.source.processed.test, p.device)\n",
    "# _target_test_label_accuracy = independent_accuracy_assesment(model, datasets.target.processed.test, p.device)\n",
    "# _source_val_label_accuracy = independent_accuracy_assesment(model, datasets.source.processed.val, p.device)\n",
    "# _target_val_label_accuracy = independent_accuracy_assesment(model, datasets.target.processed.val, p.device)\n",
    "\n",
    "# assert(_source_test_label_accuracy == source_test_label_accuracy)\n",
    "# assert(_target_test_label_accuracy == target_test_label_accuracy)\n",
    "# assert(_source_val_label_accuracy == source_val_label_accuracy)\n",
    "# assert(_target_val_label_accuracy == target_val_label_accuracy)\n",
    "\n",
    "experiment = {\n",
    "    \"experiment_name\": p.experiment_name,\n",
    "    \"parameters\": dict(p),\n",
    "    \"results\": {\n",
    "        \"source_test_label_accuracy\": source_test_label_accuracy,\n",
    "        \"source_test_label_loss\": source_test_label_loss,\n",
    "        \"target_test_label_accuracy\": target_test_label_accuracy,\n",
    "        \"target_test_label_loss\": target_test_label_loss,\n",
    "        \"source_val_label_accuracy\": source_val_label_accuracy,\n",
    "        \"source_val_label_loss\": source_val_label_loss,\n",
    "        \"target_val_label_accuracy\": target_val_label_accuracy,\n",
    "        \"target_val_label_loss\": target_val_label_loss,\n",
    "        \"total_epochs_trained\": total_epochs_trained,\n",
    "        \"total_experiment_time_secs\": total_experiment_time_secs,\n",
    "        \"confusion\": confusion,\n",
    "        \"per_domain_accuracy\": per_domain_accuracy,\n",
    "    },\n",
    "    \"history\": history,\n",
    "    \"dataset_metrics\": get_dataset_metrics(datasets, \"ptn\"),\n",
    "}"
   ]
  },
  {
   "cell_type": "code",
   "execution_count": 25,
   "id": "54a21829",
   "metadata": {
    "execution": {
     "iopub.execute_input": "2022-03-28T15:53:07.221964Z",
     "iopub.status.busy": "2022-03-28T15:53:07.221119Z",
     "iopub.status.idle": "2022-03-28T15:53:07.453328Z",
     "shell.execute_reply": "2022-03-28T15:53:07.454027Z"
    },
    "papermill": {
     "duration": 0.29087,
     "end_time": "2022-03-28T15:53:07.454232",
     "exception": false,
     "start_time": "2022-03-28T15:53:07.163362",
     "status": "completed"
    },
    "tags": []
   },
   "outputs": [
    {
     "data": {
      "image/png": "[encoded data removed]",
      "text/plain": [
       "<Figure size 1080x504 with 1 Axes>"
      ]
     },
     "metadata": {
      "needs_background": "light"
     },
     "output_type": "display_data"
    }
   ],
   "source": [
    "ax = get_loss_curve(experiment)\n",
    "plt.show()"
   ]
  },
  {
   "cell_type": "code",
   "execution_count": 26,
   "id": "fd8a0f60",
   "metadata": {
    "execution": {
     "iopub.execute_input": "2022-03-28T15:53:07.572445Z",
     "iopub.status.busy": "2022-03-28T15:53:07.571880Z",
     "iopub.status.idle": "2022-03-28T15:53:07.883013Z",
     "shell.execute_reply": "2022-03-28T15:53:07.882465Z"
    },
    "papermill": {
     "duration": 0.36926,
     "end_time": "2022-03-28T15:53:07.883146",
     "exception": false,
     "start_time": "2022-03-28T15:53:07.513886",
     "status": "completed"
    },
    "tags": []
   },
   "outputs": [
    {
     "data": {
      "text/plain": [
       "<AxesSubplot:title={'center':'Results'}>"
      ]
     },
     "execution_count": 26,
     "metadata": {},
     "output_type": "execute_result"
    },
    {
     "data": {
      "image/png": "[encoded data removed]",
      "text/plain": [
       "<Figure size 1080x504 with 1 Axes>"
      ]
     },
     "metadata": {
      "needs_background": "light"
     },
     "output_type": "display_data"
    }
   ],
   "source": [
    "get_results_table(experiment)"
   ]
  },
  {
   "cell_type": "code",
   "execution_count": 27,
   "id": "cf8dc689",
   "metadata": {
    "execution": {
     "iopub.execute_input": "2022-03-28T15:53:07.993815Z",
     "iopub.status.busy": "2022-03-28T15:53:07.993438Z",
     "iopub.status.idle": "2022-03-28T15:53:08.233109Z",
     "shell.execute_reply": "2022-03-28T15:53:08.232350Z"
    },
    "papermill": {
     "duration": 0.294128,
     "end_time": "2022-03-28T15:53:08.233275",
     "exception": false,
     "start_time": "2022-03-28T15:53:07.939147",
     "status": "completed"
    },
    "tags": []
   },
   "outputs": [
    {
     "data": {
      "text/plain": [
       "<AxesSubplot:title={'center':'Per Domain Validation Accuracy'}, xlabel='domain'>"
      ]
     },
     "execution_count": 27,
     "metadata": {},
     "output_type": "execute_result"
    },
    {
     "data": {
      "image/png": "[encoded data removed]",
      "text/plain": [
       "<Figure size 1080x504 with 1 Axes>"
      ]
     },
     "metadata": {
      "needs_background": "light"
     },
     "output_type": "display_data"
    }
   ],
   "source": [
    "get_domain_accuracies(experiment)"
   ]
  },
  {
   "cell_type": "code",
   "execution_count": 28,
   "id": "a74ae082",
   "metadata": {
    "execution": {
     "iopub.execute_input": "2022-03-28T15:53:08.348497Z",
     "iopub.status.busy": "2022-03-28T15:53:08.347923Z",
     "iopub.status.idle": "2022-03-28T15:53:08.375916Z",
     "shell.execute_reply": "2022-03-28T15:53:08.375077Z"
    },
    "papermill": {
     "duration": 0.085232,
     "end_time": "2022-03-28T15:53:08.376075",
     "exception": false,
     "start_time": "2022-03-28T15:53:08.290843",
     "status": "completed"
    },
    "tags": []
   },
   "outputs": [
    {
     "name": "stdout",
     "output_type": "stream",
     "text": [
      "Source Test Label Accuracy: 0.9980688202247191 Target Test Label Accuracy: 0.46490885416666666\n",
      "Source Val Label Accuracy: 0.9976428571428572 Target Val Label Accuracy: 0.4607421875\n"
     ]
    }
   ],
   "source": [
    "print(\"Source Test Label Accuracy:\", experiment[\"results\"][\"source_test_label_accuracy\"], \"Target Test Label Accuracy:\", experiment[\"results\"][\"target_test_label_accuracy\"])\n",
    "print(\"Source Val Label Accuracy:\", experiment[\"results\"][\"source_val_label_accuracy\"], \"Target Val Label Accuracy:\", experiment[\"results\"][\"target_val_label_accuracy\"])"
   ]
  },
  {
   "cell_type": "code",
   "execution_count": 29,
   "id": "dacca602",
   "metadata": {
    "execution": {
     "iopub.execute_input": "2022-03-28T15:53:08.490112Z",
     "iopub.status.busy": "2022-03-28T15:53:08.489687Z",
     "iopub.status.idle": "2022-03-28T15:53:08.515712Z",
     "shell.execute_reply": "2022-03-28T15:53:08.516237Z"
    },
    "papermill": {
     "duration": 0.082779,
     "end_time": "2022-03-28T15:53:08.516365",
     "exception": false,
     "start_time": "2022-03-28T15:53:08.433586",
     "status": "completed"
    },
    "tags": [
     "experiment_json"
    ]
   },
   "outputs": [
    {
     "data": {
      "text/plain": [
       "'{\"experiment_name\": \"tl_3-jitter5v2:cores -> oracle.run1.framed\", \"parameters\": {\"experiment_name\": \"tl_3-jitter5v2:cores -> oracle.run1.framed\", \"device\": \"cuda\", \"lr\": 0.0001, \"x_shape\": [2, 256], \"n_shot\": 3, \"n_query\": 2, \"train_k_factor\": 3, \"val_k_factor\": 2, \"test_k_factor\": 2, \"torch_default_dtype\": \"torch.float32\", \"n_epoch\": 50, \"patience\": 3, \"criteria_for_best\": \"target_accuracy\", \"x_net\": [{\"class\": \"nnReshape\", \"kargs\": {\"shape\": [-1, 1, 2, 256]}}, {\"class\": \"Conv2d\", \"kargs\": {\"in_channels\": 1, \"out_channels\": 256, \"kernel_size\": [1, 7], \"bias\": false, \"padding\": [0, 3]}}, {\"class\": \"ReLU\", \"kargs\": {\"inplace\": true}}, {\"class\": \"BatchNorm2d\", \"kargs\": {\"num_features\": 256}}, {\"class\": \"Conv2d\", \"kargs\": {\"in_channels\": 256, \"out_channels\": 80, \"kernel_size\": [2, 7], \"bias\": true, \"padding\": [0, 3]}}, {\"class\": \"ReLU\", \"kargs\": {\"inplace\": true}}, {\"class\": \"BatchNorm2d\", \"kargs\": {\"num_features\": 80}}, {\"class\": \"Flatten\", \"kargs\": {}}, {\"class\": \"Linear\", \"kargs\": {\"in_features\": 20480, \"out_features\": 256}}, {\"class\": \"ReLU\", \"kargs\": {\"inplace\": true}}, {\"class\": \"BatchNorm1d\", \"kargs\": {\"num_features\": 256}}, {\"class\": \"Linear\", \"kargs\": {\"in_features\": 256, \"out_features\": 256}}], \"NUM_LOGS_PER_EPOCH\": 10, \"BEST_MODEL_PATH\": \"./best_model.pth\", \"n_way\": 16, \"datasets\": [{\"labels\": [\"1-10.\", \"1-11.\", \"1-15.\", \"1-16.\", \"1-17.\", \"1-18.\", \"1-19.\", \"10-4.\", \"10-7.\", \"11-1.\", \"11-14.\", \"11-17.\", \"11-20.\", \"11-7.\", \"13-20.\", \"13-8.\", \"14-10.\", \"14-11.\", \"14-14.\", \"14-7.\", \"15-1.\", \"15-20.\", \"16-1.\", \"16-16.\", \"17-10.\", \"17-11.\", \"17-2.\", \"19-1.\", \"19-16.\", \"19-19.\", \"19-20.\", \"19-3.\", \"2-10.\", \"2-11.\", \"2-17.\", \"2-18.\", \"2-20.\", \"2-3.\", \"2-4.\", \"2-5.\", \"2-6.\", \"2-7.\", \"2-8.\", \"3-13.\", \"3-18.\", \"3-3.\", \"4-1.\", \"4-10.\", \"4-11.\", \"4-19.\", \"5-5.\", \"6-15.\", \"7-10.\", \"7-14.\", \"8-18.\", \"8-20.\", \"8-3.\", \"8-8.\"], \"domains\": [1, 2, 3, 4, 5], \"num_examples_per_domain_per_label\": -1, \"pickle_path\": \"/root/csc500-main/datasets/cores.stratified_ds.2022A.pkl\", \"source_or_target_dataset\": \"source\", \"x_transforms\": [\"jitter_256_5\", \"lowpass_+/-10MHz\", \"take_200\"], \"episode_transforms\": [], \"domain_prefix\": \"C_\"}, {\"labels\": [\"3123D52\", \"3123D65\", \"3123D79\", \"3123D80\", \"3123D54\", \"3123D70\", \"3123D7B\", \"3123D89\", \"3123D58\", \"3123D76\", \"3123D7D\", \"3123EFE\", \"3123D64\", \"3123D78\", \"3123D7E\", \"3124E4A\"], \"domains\": [32, 38, 8, 44, 14, 50, 20, 26], \"num_examples_per_domain_per_label\": 2000, \"pickle_path\": \"/root/csc500-main/datasets/oracle.Run1_framed_2000Examples_stratified_ds.2022A.pkl\", \"source_or_target_dataset\": \"target\", \"x_transforms\": [\"jitter_256_5\", \"take_200\", \"resample_20Msps_to_25Msps\"], \"episode_transforms\": [], \"domain_prefix\": \"O_\"}], \"seed\": 500, \"dataset_seed\": 500, \"domains_source\": [\"C_1\", \"C_2\", \"C_3\", \"C_4\", \"C_5\"], \"domains_target\": [\"O_32\", \"O_38\", \"O_8\", \"O_44\", \"O_14\", \"O_50\", \"O_20\", \"O_26\"]}, \"results\": {\"source_test_label_accuracy\": 0.9980688202247191, \"source_test_label_loss\": 0.017642023041844368, \"target_test_label_accuracy\": 0.46490885416666666, \"target_test_label_loss\": 1.653799057006836, \"source_val_label_accuracy\": 0.9976428571428572, \"source_val_label_loss\": 0.015157910995185375, \"target_val_label_accuracy\": 0.4607421875, \"target_val_label_loss\": 1.657686710357666, \"total_epochs_trained\": 8, \"total_experiment_time_secs\": 1221.0988676548004, \"confusion\": {\"C_4\": {\"38\": {\"38\": 39, \"57\": 1}, \"3\": {\"3\": 123, \"50\": 1}, \"24\": {\"24\": 56}, \"49\": {\"49\": 17, \"7\": 3}, \"7\": {\"7\": 24}, \"17\": {\"17\": 80}, \"43\": {\"43\": 148}, \"30\": {\"30\": 44}, \"44\": {\"44\": 132}, \"23\": {\"23\": 144}, \"37\": {\"37\": 22, \"43\": 2}, \"4\": {\"4\": 132}, \"57\": {\"57\": 100}, \"16\": {\"16\": 95, \"23\": 1}, \"18\": {\"18\": 105, \"34\": 2, \"46\": 1}, \"20\": {\"20\": 124}, \"45\": {\"45\": 96}, \"15\": {\"15\": 132}, \"52\": {\"52\": 116}, \"19\": {\"19\": 140}, \"54\": {\"54\": 108}, \"56\": {\"56\": 130}, \"40\": {\"40\": 134}, \"28\": {\"28\": 32}, \"2\": {\"2\": 36}, \"9\": {\"9\": 120}, \"0\": {\"0\": 80}, \"36\": {\"36\": 91, \"53\": 1}, \"55\": {\"55\": 130}, \"35\": {\"35\": 40}, \"39\": {\"39\": 20}, \"31\": {\"31\": 28}, \"14\": {\"14\": 16}, \"12\": {\"12\": 91, \"45\": 1}, \"6\": {\"6\": 111, \"3\": 1}, \"26\": {\"26\": 23, \"54\": 1}, \"50\": {\"50\": 130, \"6\": 2}, \"21\": {\"21\": 122}, \"46\": {\"46\": 140}, \"51\": {\"51\": 140}, \"41\": {\"41\": 36}, \"34\": {\"34\": 22, \"28\": 2}, \"47\": {\"47\": 120}, \"5\": {\"5\": 108}, \"1\": {\"1\": 40}, \"48\": {\"48\": 134}, \"29\": {\"29\": 118}, \"22\": {\"22\": 128}, \"10\": {\"10\": 132}, \"32\": {\"32\": 24}, \"13\": {\"13\": 112}, \"42\": {\"42\": 32}, \"27\": {\"27\": 138}, \"8\": {\"8\": 142}, \"33\": {\"33\": 36}, \"25\": {\"25\": 132}, \"11\": {\"11\": 104}, \"53\": {\"53\": 112}}, \"C_2\": {\"32\": {\"32\": 28}, \"17\": {\"17\": 104}, \"38\": {\"38\": 20}, \"2\": {\"2\": 32}, \"43\": {\"43\": 143, \"37\": 1}, \"56\": {\"56\": 144}, \"37\": {\"37\": 36}, \"49\": {\"49\": 24}, \"0\": {\"0\": 48}, \"29\": {\"29\": 128}, \"35\": {\"35\": 32}, \"18\": {\"18\": 48}, \"25\": {\"25\": 136}, \"23\": {\"23\": 124}, \"15\": {\"15\": 146}, \"21\": {\"21\": 120}, \"51\": {\"51\": 128}, \"20\": {\"20\": 138}, \"7\": {\"7\": 36}, \"50\": {\"50\": 136}, \"31\": {\"31\": 28}, \"30\": {\"30\": 140}, \"19\": {\"19\": 156}, \"9\": {\"9\": 144}, \"52\": {\"52\": 124}, \"45\": {\"45\": 127, \"6\": 1}, \"8\": {\"8\": 154}, \"55\": {\"55\": 160}, \"12\": {\"12\": 92}, \"40\": {\"40\": 138, \"44\": 1, \"29\": 1}, \"28\": {\"28\": 28}, \"36\": {\"36\": 116}, \"39\": {\"39\": 28}, \"46\": {\"46\": 122}, \"14\": {\"14\": 23, \"0\": 1}, \"57\": {\"57\": 141, \"33\": 1}, \"34\": {\"34\": 27, \"51\": 1}, \"1\": {\"1\": 111, \"52\": 1}, \"53\": {\"53\": 136}, \"48\": {\"48\": 130}, \"3\": {\"3\": 92}, \"16\": {\"16\": 152}, \"6\": {\"6\": 124}, \"10\": {\"10\": 112}, \"13\": {\"13\": 116}, \"26\": {\"26\": 24}, \"24\": {\"24\": 95, \"13\": 1}, \"44\": {\"44\": 100}, \"27\": {\"27\": 148, \"32\": 2}, \"22\": {\"22\": 128}, \"33\": {\"39\": 1, \"33\": 27}, \"47\": {\"47\": 118}, \"5\": {\"5\": 120}, \"4\": {\"4\": 138}, \"41\": {\"41\": 20}, \"11\": {\"11\": 150}, \"54\": {\"54\": 108}, \"42\": {\"42\": 36}}, \"C_3\": {\"5\": {\"5\": 116}, \"32\": {\"32\": 28}, \"33\": {\"33\": 28}, \"49\": {\"49\": 18, \"13\": 2}, \"39\": {\"39\": 16}, \"11\": {\"11\": 142}, \"8\": {\"8\": 116}, \"26\": {\"26\": 24}, \"51\": {\"51\": 122}, \"4\": {\"4\": 146}, \"52\": {\"52\": 118}, \"47\": {\"47\": 91, \"1\": 1}, \"17\": {\"17\": 105, \"53\": 2, \"24\": 1}, \"53\": {\"53\": 136}, \"2\": {\"2\": 32}, \"12\": {\"12\": 92}, \"37\": {\"37\": 28}, \"9\": {\"9\": 148}, \"13\": {\"13\": 128}, \"54\": {\"54\": 100}, \"31\": {\"31\": 28}, \"34\": {\"34\": 32}, \"24\": {\"24\": 104}, \"7\": {\"7\": 36}, \"50\": {\"50\": 116, \"46\": 1, \"3\": 1}, \"46\": {\"46\": 128}, \"44\": {\"44\": 88}, \"40\": {\"40\": 116}, \"21\": {\"21\": 127, \"50\": 1}, \"45\": {\"45\": 59, \"12\": 1}, \"16\": {\"16\": 126}, \"14\": {\"14\": 40}, \"36\": {\"36\": 100}, \"56\": {\"56\": 114}, \"10\": {\"10\": 64}, \"18\": {\"18\": 84}, \"48\": {\"48\": 116}, \"38\": {\"38\": 28}, \"27\": {\"27\": 130}, \"42\": {\"42\": 28}, \"15\": {\"15\": 133, \"18\": 1}, \"1\": {\"1\": 100}, \"28\": {\"28\": 28}, \"43\": {\"43\": 136}, \"0\": {\"0\": 124}, \"57\": {\"57\": 124}, \"3\": {\"3\": 148}, \"29\": {\"29\": 124}, \"41\": {\"41\": 27, \"48\": 1}, \"25\": {\"25\": 146}, \"6\": {\"6\": 88}, \"35\": {\"35\": 28}, \"20\": {\"20\": 126}, \"23\": {\"23\": 134}, \"22\": {\"22\": 140}, \"19\": {\"19\": 115, \"53\": 1}, \"55\": {\"55\": 124}, \"30\": {\"30\": 120}}, \"C_1\": {\"24\": {\"24\": 108}, \"25\": {\"25\": 140}, \"45\": {\"45\": 143, \"56\": 1}, \"42\": {\"42\": 38, \"51\": 1, \"19\": 1}, \"2\": {\"2\": 36}, \"9\": {\"9\": 150}, \"21\": {\"21\": 124}, \"26\": {\"26\": 24}, \"49\": {\"49\": 32}, \"39\": {\"39\": 28}, \"46\": {\"46\": 136}, \"17\": {\"17\": 64}, \"19\": {\"19\": 156}, \"23\": {\"23\": 132}, \"1\": {\"1\": 100}, \"29\": {\"29\": 140}, \"56\": {\"56\": 149, \"45\": 1}, \"37\": {\"37\": 31, \"1\": 1}, \"33\": {\"33\": 32}, \"55\": {\"55\": 142}, \"30\": {\"30\": 120}, \"0\": {\"0\": 152}, \"36\": {\"36\": 64}, \"32\": {\"32\": 32}, \"31\": {\"31\": 28}, \"15\": {\"15\": 138}, \"12\": {\"12\": 116}, \"38\": {\"38\": 24}, \"40\": {\"40\": 146}, \"14\": {\"14\": 22, \"30\": 2}, \"13\": {\"13\": 150}, \"48\": {\"48\": 148}, \"34\": {\"34\": 24}, \"44\": {\"44\": 130}, \"5\": {\"5\": 152}, \"11\": {\"11\": 140}, \"7\": {\"7\": 28}, \"18\": {\"18\": 72}, \"52\": {\"52\": 132}, \"51\": {\"51\": 142}, \"41\": {\"41\": 22, \"9\": 2}, \"16\": {\"16\": 140}, \"22\": {\"22\": 133, \"21\": 1}, \"3\": {\"3\": 140}, \"54\": {\"54\": 104}, \"27\": {\"27\": 144}, \"20\": {\"20\": 139, \"13\": 1}, \"8\": {\"8\": 138}, \"50\": {\"50\": 144}, \"57\": {\"57\": 140}, \"4\": {\"4\": 132}, \"47\": {\"47\": 146}, \"10\": {\"10\": 96}, \"35\": {\"35\": 36}, \"53\": {\"53\": 126}, \"6\": {\"6\": 96}, \"43\": {\"43\": 140}, \"28\": {\"28\": 28}}, \"C_5\": {\"35\": {\"35\": 36}, \"57\": {\"57\": 132}, \"20\": {\"20\": 144}, \"12\": {\"12\": 94, \"6\": 1, \"45\": 1}, \"32\": {\"32\": 32}, \"25\": {\"25\": 138}, \"44\": {\"44\": 148}, \"31\": {\"31\": 36}, \"11\": {\"11\": 149, \"15\": 1}, \"47\": {\"47\": 100}, \"23\": {\"23\": 124}, \"43\": {\"43\": 144}, \"37\": {\"37\": 24}, \"5\": {\"5\": 127, \"44\": 1}, \"45\": {\"45\": 122, \"6\": 2}, \"7\": {\"7\": 32}, \"13\": {\"13\": 135, \"56\": 1}, \"49\": {\"49\": 36}, \"46\": {\"46\": 148}, \"16\": {\"16\": 136}, \"54\": {\"54\": 112}, \"19\": {\"19\": 152}, \"55\": {\"55\": 150}, \"30\": {\"30\": 128}, \"34\": {\"34\": 36}, \"50\": {\"50\": 134}, \"3\": {\"3\": 100}, \"10\": {\"10\": 68}, \"27\": {\"27\": 142}, \"33\": {\"33\": 31, \"39\": 1}, \"56\": {\"56\": 142}, \"9\": {\"9\": 150}, \"14\": {\"14\": 43, \"57\": 1}, \"4\": {\"4\": 100}, \"42\": {\"42\": 40}, \"24\": {\"24\": 80}, \"39\": {\"39\": 19, \"33\": 1}, \"52\": {\"52\": 130}, \"2\": {\"2\": 28}, \"28\": {\"28\": 32}, \"53\": {\"53\": 122}, \"17\": {\"17\": 116}, \"29\": {\"29\": 132}, \"38\": {\"38\": 32}, \"15\": {\"15\": 144}, \"26\": {\"26\": 24}, \"21\": {\"21\": 144}, \"41\": {\"41\": 28}, \"48\": {\"48\": 136}, \"22\": {\"22\": 28}, \"8\": {\"8\": 148}, \"18\": {\"18\": 64}, \"0\": {\"0\": 122}, \"1\": {\"1\": 138}, \"40\": {\"40\": 124}, \"6\": {\"6\": 127, \"45\": 1}, \"51\": {\"51\": 142}, \"36\": {\"36\": 92}}, \"O_50\": {\"7\": {\"4\": 88, \"5\": 23, \"7\": 126, \"6\": 1, \"9\": 1, \"15\": 1}, \"10\": {\"10\": 138, \"8\": 40, \"1\": 12, \"0\": 42, \"2\": 4, \"14\": 4}, \"0\": {\"10\": 51, \"0\": 102, \"2\": 46, \"14\": 40, \"8\": 1}, \"11\": {\"11\": 123, \"3\": 39, \"12\": 17, \"6\": 13, \"13\": 19, \"9\": 18, \"5\": 5, \"15\": 5, \"1\": 1}, \"2\": {\"2\": 105, \"14\": 80, \"0\": 53, \"10\": 2}, \"14\": {\"2\": 87, \"14\": 87, \"0\": 66}, \"9\": {\"6\": 33, \"5\": 11, \"9\": 107, \"12\": 31, \"11\": 16, \"15\": 31, \"4\": 3, \"7\": 4, \"3\": 4}, \"13\": {\"13\": 160, \"1\": 51, \"11\": 22, \"3\": 5, \"8\": 2}, \"8\": {\"10\": 41, \"1\": 50, \"8\": 143, \"13\": 6}, \"15\": {\"11\": 9, \"5\": 49, \"6\": 67, \"15\": 69, \"3\": 35, \"7\": 2, \"9\": 8, \"4\": 1}, \"4\": {\"4\": 99, \"7\": 104, \"5\": 27, \"15\": 4, \"6\": 4, \"9\": 2}, \"5\": {\"5\": 67, \"7\": 39, \"15\": 41, \"4\": 29, \"11\": 10, \"3\": 14, \"9\": 6, \"13\": 6, \"6\": 28}, \"3\": {\"5\": 21, \"6\": 39, \"3\": 77, \"15\": 45, \"11\": 44, \"12\": 3, \"13\": 4, \"9\": 7}, \"1\": {\"1\": 117, \"8\": 44, \"13\": 57, \"3\": 2, \"10\": 14, \"11\": 4, \"0\": 2}, \"6\": {\"11\": 14, \"5\": 30, \"15\": 53, \"3\": 47, \"6\": 68, \"9\": 25, \"7\": 1, \"12\": 2}, \"12\": {\"12\": 154, \"11\": 21, \"9\": 64, \"3\": 1}}, \"O_14\": {\"14\": {\"2\": 37, \"6\": 25, \"14\": 83, \"0\": 40, \"13\": 28, \"3\": 18, \"5\": 8, \"12\": 1}, \"6\": {\"6\": 110, \"13\": 75, \"14\": 26, \"0\": 12, \"3\": 13, \"2\": 4}, \"5\": {\"0\": 31, \"5\": 78, \"12\": 45, \"2\": 25, \"3\": 9, \"4\": 16, \"14\": 8, \"7\": 23, \"8\": 5}, \"15\": {\"15\": 240}, \"11\": {\"11\": 235, \"9\": 2, \"1\": 3}, \"8\": {\"12\": 27, \"8\": 150, \"7\": 46, \"5\": 13, \"0\": 2, \"3\": 1, \"4\": 1}, \"12\": {\"12\": 84, \"5\": 56, \"0\": 11, \"4\": 56, \"8\": 10, \"7\": 1, \"2\": 17, \"10\": 5}, \"1\": {\"1\": 146, \"9\": 94}, \"2\": {\"14\": 32, \"2\": 51, \"3\": 21, \"0\": 43, \"12\": 14, \"4\": 19, \"5\": 26, \"6\": 14, \"7\": 4, \"13\": 10, \"10\": 6}, \"13\": {\"2\": 28, \"0\": 13, \"6\": 83, \"14\": 43, \"15\": 14, \"5\": 2, \"13\": 39, \"3\": 6, \"4\": 10, \"10\": 2}, \"3\": {\"3\": 110, \"0\": 36, \"7\": 16, \"14\": 11, \"6\": 33, \"2\": 14, \"13\": 13, \"5\": 7}, \"0\": {\"0\": 48, \"2\": 41, \"4\": 10, \"12\": 16, \"14\": 31, \"3\": 46, \"6\": 14, \"13\": 6, \"5\": 25, \"7\": 2, \"10\": 1}, \"9\": {\"9\": 100, \"1\": 109, \"10\": 25, \"4\": 6}, \"4\": {\"12\": 45, \"2\": 12, \"10\": 42, \"5\": 17, \"4\": 115, \"0\": 2, \"1\": 2, \"9\": 4, \"14\": 1}, \"7\": {\"8\": 24, \"3\": 30, \"7\": 145, \"5\": 25, \"0\": 9, \"14\": 2, \"2\": 3, \"6\": 1, \"12\": 1}, \"10\": {\"10\": 161, \"9\": 19, \"12\": 9, \"4\": 46, \"14\": 1, \"1\": 2, \"2\": 2}}, \"O_32\": {\"4\": {\"2\": 64, \"4\": 88, \"14\": 1, \"13\": 25, \"1\": 29, \"3\": 30, \"9\": 3}, \"14\": {\"0\": 42, \"14\": 73, \"2\": 30, \"7\": 57, \"5\": 20, \"8\": 8, \"1\": 3, \"4\": 7}, \"5\": {\"7\": 55, \"0\": 35, \"5\": 100, \"14\": 19, \"8\": 17, \"15\": 8, \"2\": 3, \"1\": 1, \"4\": 2}, \"10\": {\"10\": 208, \"12\": 32}, \"13\": {\"9\": 41, \"4\": 26, \"3\": 50, \"1\": 12, \"13\": 95, \"11\": 9, \"2\": 6, \"8\": 1}, \"9\": {\"11\": 54, \"13\": 55, \"4\": 10, \"9\": 71, \"3\": 13, \"12\": 28, \"1\": 6, \"10\": 3}, \"6\": {\"6\": 236, \"10\": 4}, \"3\": {\"3\": 95, \"9\": 11, \"2\": 14, \"1\": 40, \"13\": 61, \"4\": 18, \"0\": 1}, \"15\": {\"15\": 227, \"8\": 10, \"5\": 2, \"0\": 1}, \"7\": {\"5\": 51, \"0\": 36, \"14\": 64, \"7\": 82, \"8\": 7}, \"12\": {\"10\": 25, \"12\": 176, \"9\": 32, \"11\": 6, \"13\": 1}, \"8\": {\"0\": 57, \"7\": 12, \"1\": 17, \"8\": 109, \"15\": 3, \"5\": 23, \"2\": 4, \"14\": 13, \"3\": 1, \"4\": 1}, \"11\": {\"11\": 154, \"9\": 52, \"12\": 15, \"13\": 15, \"3\": 2, \"2\": 1, \"4\": 1}, \"2\": {\"8\": 4, \"4\": 76, \"3\": 8, \"2\": 111, \"13\": 9, \"14\": 17, \"1\": 12, \"0\": 2, \"9\": 1}, \"1\": {\"8\": 11, \"3\": 42, \"13\": 5, \"1\": 151, \"2\": 11, \"4\": 18, \"0\": 2}, \"0\": {\"8\": 48, \"0\": 51, \"5\": 51, \"15\": 1, \"14\": 52, \"7\": 35, \"2\": 1, \"4\": 1}}, \"O_44\": {\"8\": {\"0\": 64, \"8\": 83, \"3\": 4, \"1\": 34, \"10\": 2, \"15\": 43, \"14\": 4, \"5\": 3, \"2\": 2, \"4\": 1}, \"11\": {\"11\": 239, \"13\": 1}, \"14\": {\"14\": 64, \"5\": 65, \"15\": 21, \"7\": 8, \"10\": 35, \"4\": 30, \"2\": 13, \"9\": 3, \"8\": 1}, \"10\": {\"7\": 71, \"10\": 54, \"9\": 26, \"5\": 15, \"4\": 34, \"14\": 29, \"2\": 6, \"15\": 3, \"0\": 1, \"6\": 1}, \"3\": {\"3\": 157, \"12\": 72, \"0\": 11}, \"15\": {\"5\": 27, \"0\": 10, \"8\": 32, \"14\": 35, \"15\": 90, \"2\": 7, \"1\": 25, \"4\": 8, \"10\": 6}, \"2\": {\"1\": 31, \"2\": 152, \"14\": 14, \"15\": 9, \"5\": 17, \"4\": 10, \"7\": 1, \"8\": 2, \"10\": 3, \"9\": 1}, \"12\": {\"12\": 149, \"3\": 91}, \"4\": {\"2\": 26, \"1\": 9, \"14\": 18, \"4\": 39, \"10\": 31, \"8\": 3, \"9\": 32, \"5\": 29, \"7\": 37, \"15\": 10, \"6\": 6}, \"1\": {\"0\": 39, \"1\": 102, \"5\": 6, \"15\": 34, \"8\": 24, \"2\": 27, \"14\": 5, \"4\": 3}, \"0\": {\"0\": 141, \"8\": 51, \"1\": 33, \"3\": 9, \"15\": 3, \"12\": 2, \"2\": 1}, \"9\": {\"6\": 28, \"7\": 56, \"9\": 58, \"5\": 14, \"2\": 3, \"4\": 18, \"14\": 9, \"13\": 37, \"10\": 17}, \"5\": {\"5\": 50, \"14\": 46, \"10\": 30, \"2\": 23, \"4\": 36, \"15\": 24, \"7\": 15, \"9\": 6, \"1\": 8, \"8\": 2}, \"6\": {\"6\": 130, \"13\": 84, \"9\": 23, \"7\": 2, \"4\": 1}, \"7\": {\"7\": 101, \"6\": 7, \"4\": 28, \"14\": 11, \"9\": 38, \"10\": 42, \"5\": 12, \"13\": 1}, \"13\": {\"13\": 154, \"6\": 71, \"9\": 9, \"11\": 4, \"7\": 2}}, \"O_8\": {\"13\": {\"13\": 76, \"5\": 40, \"1\": 2, \"7\": 46, \"10\": 48, \"6\": 27, \"12\": 1}, \"3\": {\"3\": 213, \"9\": 13, \"2\": 14}, \"15\": {\"2\": 30, \"12\": 90, \"15\": 114, \"3\": 6}, \"4\": {\"4\": 84, \"14\": 69, \"6\": 35, \"7\": 7, \"11\": 13, \"1\": 10, \"8\": 10, \"10\": 6, \"5\": 6}, \"7\": {\"10\": 52, \"7\": 52, \"6\": 56, \"13\": 31, \"5\": 30, \"1\": 8, \"4\": 8, \"8\": 3}, \"2\": {\"2\": 128, \"3\": 45, \"12\": 36, \"15\": 27, \"13\": 3, \"9\": 1}, \"1\": {\"5\": 38, \"11\": 42, \"1\": 66, \"6\": 19, \"8\": 28, \"13\": 8, \"10\": 17, \"4\": 7, \"7\": 14, \"14\": 1}, \"0\": {\"0\": 240}, \"12\": {\"12\": 144, \"15\": 91, \"2\": 5}, \"6\": {\"6\": 63, \"13\": 16, \"4\": 41, \"5\": 35, \"11\": 11, \"7\": 33, \"10\": 22, \"1\": 13, \"8\": 5, \"14\": 1}, \"11\": {\"11\": 66, \"14\": 16, \"8\": 58, \"1\": 56, \"5\": 8, \"4\": 13, \"7\": 6, \"10\": 8, \"6\": 8, \"13\": 1}, \"9\": {\"9\": 223, \"3\": 17}, \"5\": {\"1\": 21, \"13\": 42, \"7\": 24, \"5\": 66, \"11\": 4, \"10\": 43, \"4\": 5, \"15\": 2, \"6\": 27, \"14\": 2, \"8\": 2, \"12\": 2}, \"10\": {\"6\": 38, \"10\": 40, \"5\": 44, \"7\": 49, \"11\": 6, \"4\": 12, \"13\": 45, \"1\": 4, \"8\": 2}, \"14\": {\"14\": 164, \"4\": 52, \"11\": 3, \"8\": 16, \"6\": 4, \"1\": 1}, \"8\": {\"6\": 4, \"8\": 87, \"11\": 56, \"1\": 31, \"4\": 23, \"7\": 2, \"14\": 31, \"10\": 2, \"5\": 4}}, \"O_20\": {\"6\": {\"12\": 26, \"5\": 19, \"4\": 32, \"7\": 18, \"2\": 17, \"3\": 21, \"1\": 15, \"15\": 5, \"6\": 38, \"9\": 15, \"14\": 18, \"10\": 4, \"13\": 3, \"8\": 8, \"0\": 1}, \"11\": {\"11\": 178, \"0\": 59, \"3\": 1, \"5\": 1, \"8\": 1}, \"5\": {\"3\": 35, \"7\": 31, \"1\": 29, \"8\": 24, \"15\": 12, \"6\": 19, \"5\": 33, \"14\": 9, \"9\": 26, \"12\": 9, \"2\": 8, \"0\": 4, \"4\": 1}, \"14\": {\"14\": 95, \"8\": 68, \"0\": 10, \"5\": 21, \"1\": 4, \"7\": 5, \"3\": 13, \"6\": 19, \"12\": 1, \"9\": 2, \"4\": 1, \"15\": 1}, \"2\": {\"15\": 35, \"6\": 12, \"2\": 43, \"1\": 14, \"13\": 39, \"12\": 25, \"5\": 15, \"4\": 7, \"7\": 25, \"9\": 16, \"10\": 3, \"3\": 6}, \"7\": {\"3\": 14, \"14\": 8, \"15\": 29, \"12\": 28, \"2\": 29, \"9\": 25, \"13\": 8, \"5\": 22, \"8\": 4, \"7\": 31, \"6\": 24, \"1\": 16, \"4\": 2}, \"3\": {\"8\": 59, \"3\": 41, \"14\": 18, \"0\": 10, \"9\": 21, \"7\": 14, \"1\": 26, \"5\": 26, \"6\": 8, \"2\": 6, \"12\": 6, \"15\": 2, \"4\": 2, \"13\": 1}, \"4\": {\"4\": 77, \"12\": 27, \"7\": 12, \"6\": 37, \"10\": 49, \"5\": 6, \"3\": 6, \"1\": 2, \"15\": 5, \"8\": 2, \"2\": 9, \"13\": 1, \"14\": 4, \"9\": 3}, \"9\": {\"15\": 13, \"3\": 48, \"13\": 7, \"6\": 17, \"1\": 25, \"5\": 27, \"7\": 23, \"2\": 13, \"12\": 19, \"8\": 12, \"9\": 32, \"14\": 4}, \"12\": {\"6\": 19, \"9\": 15, \"2\": 30, \"4\": 19, \"5\": 8, \"1\": 12, \"12\": 40, \"13\": 21, \"3\": 6, \"7\": 31, \"15\": 28, \"10\": 10, \"14\": 1}, \"0\": {\"11\": 46, \"0\": 136, \"3\": 16, \"5\": 8, \"14\": 4, \"9\": 2, \"8\": 26, \"1\": 2}, \"10\": {\"4\": 64, \"10\": 150, \"6\": 9, \"7\": 2, \"12\": 7, \"15\": 1, \"13\": 4, \"2\": 1, \"1\": 1, \"9\": 1}, \"8\": {\"8\": 68, \"3\": 52, \"0\": 32, \"5\": 16, \"1\": 11, \"14\": 40, \"9\": 7, \"6\": 9, \"12\": 2, \"11\": 1, \"7\": 2}, \"13\": {\"15\": 26, \"6\": 2, \"2\": 31, \"12\": 16, \"13\": 137, \"1\": 4, \"5\": 2, \"7\": 12, \"10\": 6, \"3\": 2, \"9\": 2}, \"1\": {\"12\": 21, \"2\": 19, \"3\": 35, \"9\": 39, \"7\": 20, \"5\": 24, \"1\": 36, \"15\": 17, \"14\": 9, \"13\": 5, \"8\": 6, \"6\": 7, \"4\": 2}, \"15\": {\"15\": 37, \"13\": 43, \"2\": 29, \"1\": 17, \"6\": 11, \"9\": 23, \"7\": 30, \"3\": 7, \"12\": 21, \"5\": 10, \"4\": 7, \"10\": 2, \"11\": 2, \"8\": 1}}, \"O_38\": {\"3\": {\"3\": 236, \"11\": 2, \"10\": 2}, \"8\": {\"8\": 77, \"12\": 3, \"5\": 50, \"2\": 45, \"7\": 19, \"9\": 11, \"15\": 33, \"14\": 2}, \"0\": {\"0\": 51, \"10\": 79, \"13\": 70, \"2\": 8, \"7\": 21, \"14\": 7, \"3\": 4}, \"2\": {\"7\": 72, \"14\": 21, \"8\": 12, \"2\": 109, \"9\": 15, \"13\": 1, \"5\": 10}, \"4\": {\"4\": 237, \"10\": 2, \"0\": 1}, \"7\": {\"14\": 65, \"7\": 88, \"2\": 71, \"0\": 4, \"8\": 6, \"13\": 4, \"9\": 2}, \"12\": {\"12\": 235, \"15\": 1, \"5\": 1, \"8\": 3}, \"6\": {\"6\": 112, \"1\": 127, \"15\": 1}, \"15\": {\"15\": 177, \"8\": 18, \"5\": 31, \"1\": 8, \"6\": 6}, \"11\": {\"11\": 237, \"3\": 3}, \"9\": {\"2\": 26, \"9\": 164, \"5\": 33, \"8\": 15, \"7\": 1, \"15\": 1}, \"14\": {\"14\": 133, \"7\": 63, \"2\": 27, \"13\": 6, \"0\": 4, \"4\": 6, \"8\": 1}, \"10\": {\"10\": 153, \"0\": 67, \"13\": 16, \"3\": 3, \"4\": 1}, \"5\": {\"7\": 13, \"8\": 61, \"5\": 76, \"15\": 41, \"2\": 24, \"9\": 21, \"14\": 3, \"13\": 1}, \"1\": {\"1\": 111, \"6\": 129}, \"13\": {\"13\": 132, \"0\": 64, \"10\": 20, \"7\": 8, \"2\": 15, \"14\": 1}}, \"O_26\": {\"5\": {\"5\": 75, \"11\": 56, \"15\": 61, \"6\": 36, \"1\": 6, \"10\": 4, \"14\": 2}, \"8\": {\"8\": 56, \"12\": 23, \"2\": 23, \"9\": 28, \"0\": 31, \"7\": 51, \"3\": 25, \"13\": 1, \"10\": 1, \"14\": 1}, \"4\": {\"4\": 202, \"13\": 7, \"12\": 11, \"3\": 19, \"7\": 1}, \"12\": {\"7\": 42, \"12\": 53, \"13\": 15, \"8\": 41, \"9\": 29, \"3\": 49, \"2\": 9, \"0\": 1, \"4\": 1}, \"6\": {\"15\": 59, \"6\": 71, \"10\": 30, \"11\": 16, \"1\": 20, \"14\": 21, \"5\": 15, \"0\": 7, \"2\": 1}, \"7\": {\"7\": 57, \"9\": 29, \"12\": 35, \"8\": 47, \"3\": 32, \"0\": 13, \"2\": 22, \"13\": 4, \"10\": 1}, \"10\": {\"6\": 26, \"1\": 19, \"0\": 70, \"2\": 4, \"14\": 50, \"15\": 12, \"10\": 58, \"5\": 1}, \"0\": {\"0\": 86, \"2\": 28, \"8\": 15, \"9\": 2, \"14\": 49, \"10\": 44, \"7\": 3, \"1\": 7, \"6\": 2, \"15\": 2, \"12\": 2}, \"15\": {\"6\": 47, \"5\": 45, \"15\": 70, \"0\": 15, \"14\": 6, \"10\": 22, \"11\": 25, \"1\": 7, \"9\": 1, \"2\": 2}, \"9\": {\"3\": 35, \"12\": 26, \"2\": 37, \"8\": 42, \"7\": 21, \"13\": 28, \"9\": 34, \"4\": 3, \"0\": 11, \"10\": 2, \"15\": 1}, \"11\": {\"11\": 135, \"5\": 48, \"15\": 31, \"6\": 17, \"1\": 9}, \"14\": {\"1\": 42, \"14\": 83, \"10\": 44, \"0\": 48, \"6\": 10, \"15\": 11, \"2\": 1, \"8\": 1}, \"2\": {\"2\": 75, \"7\": 18, \"8\": 35, \"10\": 9, \"0\": 20, \"3\": 17, \"12\": 19, \"9\": 32, \"5\": 2, \"14\": 4, \"13\": 5, \"15\": 4}, \"13\": {\"13\": 135, \"9\": 29, \"2\": 10, \"3\": 30, \"7\": 3, \"4\": 16, \"12\": 10, \"8\": 7}, \"3\": {\"12\": 39, \"4\": 8, \"3\": 73, \"9\": 32, \"8\": 24, \"7\": 26, \"2\": 7, \"13\": 30, \"0\": 1}, \"1\": {\"1\": 138, \"14\": 42, \"10\": 12, \"0\": 4, \"6\": 27, \"5\": 5, \"11\": 6, \"15\": 6}}}, \"per_domain_accuracy\": {\"C_4\": {\"accuracy\": 0.9964015151515152, \"source?\": true}, \"C_2\": {\"accuracy\": 0.9978932584269663, \"source?\": true}, \"C_3\": {\"accuracy\": 0.9975818452380952, \"source?\": true}, \"C_1\": {\"accuracy\": 0.9981418918918918, \"source?\": true}, \"C_5\": {\"accuracy\": 0.9980796089385475, \"source?\": true}, \"O_50\": {\"accuracy\": 0.45364583333333336, \"source?\": false}, \"O_14\": {\"accuracy\": 0.4934895833333333, \"source?\": false}, \"O_32\": {\"accuracy\": 0.5278645833333333, \"source?\": false}, \"O_44\": {\"accuracy\": 0.4591145833333333, \"source?\": false}, \"O_8\": {\"accuracy\": 0.47552083333333334, \"source?\": false}, \"O_20\": {\"accuracy\": 0.30520833333333336, \"source?\": false}, \"O_38\": {\"accuracy\": 0.60625, \"source?\": false}, \"O_26\": {\"accuracy\": 0.36484375, \"source?\": false}}}, \"history\": {\"epoch_indices\": [1, 2, 3, 4, 5, 6, 7, 8], \"train_label_loss\": [0.056384952949981644, 0.04702758786012449, 0.013326731946627061, 0.02158478066250069, 0.010957923654561922, 0.007962850348654099, 0.006135626944346457, 0.022880818642644265], \"source_val_label_loss\": [0.3018907606601715, 0.01456361822783947, 0.020714478567242622, 0.015157910995185375, 0.010358818806707859, 0.008393604308366776, 0.0063368878327310085, 0.008596986532211304], \"target_val_label_loss\": [10.907862663269043, 1.727703332901001, 1.701390266418457, 1.657686710357666, 1.7091561555862427, 1.744660496711731, 7.358255386352539, 1.638890027999878], \"source_val_acc_label\": [0.9933928571428572, 0.9964285714285714, 0.9962142857142857, 0.9976428571428572, 0.9986785714285714, 0.9986428571428572, 0.9989285714285714, 0.9992142857142857], \"target_val_acc_label\": [0.3052734375, 0.41451822916666664, 0.40517578125, 0.4607421875, 0.42141927083333336, 0.40537109375, 0.25465494791666665, 0.459375]}, \"dataset_metrics\": {\"source\": {\"train\": {\"n_unique_x\": 175174, \"n_unique_y\": 58, \"n_batch/episode\": 6311}, \"val\": {\"n_unique_x\": 37166, \"n_unique_y\": 58, \"n_batch/episode\": 875}, \"test\": {\"n_unique_x\": 37642, \"n_unique_y\": 58, \"n_batch/episode\": 890}}, \"target\": {\"train\": {\"n_unique_x\": 179200, \"n_unique_y\": 16, \"n_batch/episode\": 6720}, \"val\": {\"n_unique_x\": 38400, \"n_unique_y\": 16, \"n_batch/episode\": 960}, \"test\": {\"n_unique_x\": 38400, \"n_unique_y\": 16, \"n_batch/episode\": 960}}}}'"
      ]
     },
     "execution_count": 29,
     "metadata": {},
     "output_type": "execute_result"
    }
   ],
   "source": [
    "json.dumps(experiment)"
   ]
  }
 ],
 "metadata": {
  "celltoolbar": "Tags",
  "kernelspec": {
   "display_name": "Python 3 (ipykernel)",
   "language": "python",
   "name": "python3"
  },
  "language_info": {
   "codemirror_mode": {
    "name": "ipython",
    "version": 3
   },
   "file_extension": ".py",
   "mimetype": "text/x-python",
   "name": "python",
   "nbconvert_exporter": "python",
   "pygments_lexer": "ipython3",
   "version": "3.8.12"
  },
  "papermill": {
   "default_parameters": {},
   "duration": 1393.432097,
   "end_time": "2022-03-28T15:53:10.993295",
   "environment_variables": {},
   "exception": null,
   "input_path": "/root/csc500-main/csc500-notebooks/templates/tl_ptn_template.ipynb",
   "output_path": "trial.ipynb",
   "parameters": {
    "parameters": {
     "BEST_MODEL_PATH": "./best_model.pth",
     "NUM_LOGS_PER_EPOCH": 10,
     "criteria_for_best": "target_accuracy",
     "dataset_seed": 500,
     "datasets": [
      {
       "domain_prefix": "C_",
       "domains": [
        1,
        2,
        3,
        4,
        5
       ],
       "episode_transforms": [],
       "labels": [
        "1-10.",
        "1-11.",
        "1-15.",
        "1-16.",
        "1-17.",
        "1-18.",
        "1-19.",
        "10-4.",
        "10-7.",
        "11-1.",
        "11-14.",
        "11-17.",
        "11-20.",
        "11-7.",
        "13-20.",
        "13-8.",
        "14-10.",
        "14-11.",
        "14-14.",
        "14-7.",
        "15-1.",
        "15-20.",
        "16-1.",
        "16-16.",
        "17-10.",
        "17-11.",
        "17-2.",
        "19-1.",
        "19-16.",
        "19-19.",
        "19-20.",
        "19-3.",
        "2-10.",
        "2-11.",
        "2-17.",
        "2-18.",
        "2-20.",
        "2-3.",
        "2-4.",
        "2-5.",
        "2-6.",
        "2-7.",
        "2-8.",
        "3-13.",
        "3-18.",
        "3-3.",
        "4-1.",
        "4-10.",
        "4-11.",
        "4-19.",
        "5-5.",
        "6-15.",
        "7-10.",
        "7-14.",
        "8-18.",
        "8-20.",
        "8-3.",
        "8-8."
       ],
       "num_examples_per_domain_per_label": -1,
       "pickle_path": "/root/csc500-main/datasets/cores.stratified_ds.2022A.pkl",
       "source_or_target_dataset": "source",
       "x_transforms": [
        "jitter_256_5",
        "lowpass_+/-10MHz",
        "take_200"
       ]
      },
      {
       "domain_prefix": "O_",
       "domains": [
        32,
        38,
        8,
        44,
        14,
        50,
        20,
        26
       ],
       "episode_transforms": [],
       "labels": [
        "3123D52",
        "3123D65",
        "3123D79",
        "3123D80",
        "3123D54",
        "3123D70",
        "3123D7B",
        "3123D89",
        "3123D58",
        "3123D76",
        "3123D7D",
        "3123EFE",
        "3123D64",
        "3123D78",
        "3123D7E",
        "3124E4A"
       ],
       "num_examples_per_domain_per_label": 2000,
       "pickle_path": "/root/csc500-main/datasets/oracle.Run1_framed_2000Examples_stratified_ds.2022A.pkl",
       "source_or_target_dataset": "target",
       "x_transforms": [
        "jitter_256_5",
        "take_200",
        "resample_20Msps_to_25Msps"
       ]
      }
     ],
     "device": "cuda",
     "experiment_name": "tl_3-jitter5v2:cores -> oracle.run1.framed",
     "lr": 0.0001,
     "n_epoch": 50,
     "n_query": 2,
     "n_shot": 3,
     "n_way": 16,
     "patience": 3,
     "seed": 500,
     "test_k_factor": 2,
     "torch_default_dtype": "torch.float32",
     "train_k_factor": 3,
     "val_k_factor": 2,
     "x_net": [
      {
       "class": "nnReshape",
       "kargs": {
        "shape": [
         -1,
         1,
         2,
         256
        ]
       }
      },
      {
       "class": "Conv2d",
       "kargs": {
        "bias": false,
        "in_channels": 1,
        "kernel_size": [
         1,
         7
        ],
        "out_channels": 256,
        "padding": [
         0,
         3
        ]
       }
      },
      {
       "class": "ReLU",
       "kargs": {
        "inplace": true
       }
      },
      {
       "class": "BatchNorm2d",
       "kargs": {
        "num_features": 256
       }
      },
      {
       "class": "Conv2d",
       "kargs": {
        "bias": true,
        "in_channels": 256,
        "kernel_size": [
         2,
         7
        ],
        "out_channels": 80,
        "padding": [
         0,
         3
        ]
       }
      },
      {
       "class": "ReLU",
       "kargs": {
        "inplace": true
       }
      },
      {
       "class": "BatchNorm2d",
       "kargs": {
        "num_features": 80
       }
      },
      {
       "class": "Flatten",
       "kargs": {}
      },
      {
       "class": "Linear",
       "kargs": {
        "in_features": 20480,
        "out_features": 256
       }
      },
      {
       "class": "ReLU",
       "kargs": {
        "inplace": true
       }
      },
      {
       "class": "BatchNorm1d",
       "kargs": {
        "num_features": 256
       }
      },
      {
       "class": "Linear",
       "kargs": {
        "in_features": 256,
        "out_features": 256
       }
      }
     ],
     "x_shape": [
      2,
      256
     ]
    }
   },
   "start_time": "2022-03-28T15:29:57.561198",
   "version": "2.3.4"
  }
 },
 "nbformat": 4,
 "nbformat_minor": 5
}