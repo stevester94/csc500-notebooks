{
 "cells": [
  {
   "cell_type": "markdown",
   "id": "9fea5f46",
   "metadata": {
    "papermill": {
     "duration": 0.028201,
     "end_time": "2022-03-28T15:00:44.803998",
     "exception": false,
     "start_time": "2022-03-28T15:00:44.775797",
     "status": "completed"
    },
    "tags": []
   },
   "source": [
    "# Transfer Learning Template"
   ]
  },
  {
   "cell_type": "code",
   "execution_count": 1,
   "id": "0902182a",
   "metadata": {
    "execution": {
     "iopub.execute_input": "2022-03-28T15:00:44.873181Z",
     "iopub.status.busy": "2022-03-28T15:00:44.872343Z",
     "iopub.status.idle": "2022-03-28T15:00:46.715550Z",
     "shell.execute_reply": "2022-03-28T15:00:46.714699Z"
    },
    "papermill": {
     "duration": 1.883192,
     "end_time": "2022-03-28T15:00:46.715746",
     "exception": false,
     "start_time": "2022-03-28T15:00:44.832554",
     "status": "completed"
    },
    "tags": []
   },
   "outputs": [],
   "source": [
    "%load_ext autoreload\n",
    "%autoreload 2\n",
    "%matplotlib inline\n",
    "\n",
    "    \n",
    "import os, json, sys, time, random\n",
    "import numpy as np\n",
    "import torch\n",
    "from torch.optim import Adam\n",
    "from  easydict import EasyDict\n",
    "import matplotlib.pyplot as plt\n",
    "\n",
    "from steves_models.steves_ptn import Steves_Prototypical_Network\n",
    "\n",
    "from steves_utils.lazy_iterable_wrapper import Lazy_Iterable_Wrapper\n",
    "from steves_utils.iterable_aggregator import Iterable_Aggregator\n",
    "from steves_utils.ptn_train_eval_test_jig import  PTN_Train_Eval_Test_Jig\n",
    "from steves_utils.torch_sequential_builder import build_sequential\n",
    "from steves_utils.torch_utils import get_dataset_metrics, ptn_confusion_by_domain_over_dataloader\n",
    "from steves_utils.utils_v2 import (per_domain_accuracy_from_confusion, get_datasets_base_path)\n",
    "from steves_utils.PTN.utils import independent_accuracy_assesment\n",
    "\n",
    "from torch.utils.data import DataLoader\n",
    "\n",
    "from steves_utils.stratified_dataset.episodic_accessor import Episodic_Accessor_Factory\n",
    "\n",
    "from steves_utils.ptn_do_report import (\n",
    "    get_loss_curve,\n",
    "    get_results_table,\n",
    "    get_parameters_table,\n",
    "    get_domain_accuracies,\n",
    ")\n",
    "\n",
    "from steves_utils.transforms import get_chained_transform"
   ]
  },
  {
   "cell_type": "markdown",
   "id": "41c840b4",
   "metadata": {
    "papermill": {
     "duration": 0.019966,
     "end_time": "2022-03-28T15:00:46.760475",
     "exception": false,
     "start_time": "2022-03-28T15:00:46.740509",
     "status": "completed"
    },
    "tags": []
   },
   "source": [
    "# Allowed Parameters\n",
    "These are allowed parameters, not defaults\n",
    "Each of these values need to be present in the injected parameters (the notebook will raise an exception if they are not present)\n",
    "\n",
    "Papermill uses the cell tag \"parameters\" to inject the real parameters below this cell.\n",
    "Enable tags to see what I mean"
   ]
  },
  {
   "cell_type": "code",
   "execution_count": 2,
   "id": "fd44eb83",
   "metadata": {
    "execution": {
     "iopub.execute_input": "2022-03-28T15:00:46.805145Z",
     "iopub.status.busy": "2022-03-28T15:00:46.802662Z",
     "iopub.status.idle": "2022-03-28T15:00:46.827562Z",
     "shell.execute_reply": "2022-03-28T15:00:46.826850Z"
    },
    "papermill": {
     "duration": 0.047603,
     "end_time": "2022-03-28T15:00:46.827716",
     "exception": false,
     "start_time": "2022-03-28T15:00:46.780113",
     "status": "completed"
    },
    "tags": []
   },
   "outputs": [],
   "source": [
    "required_parameters = {\n",
    "    \"experiment_name\",\n",
    "    \"lr\",\n",
    "    \"device\",\n",
    "    \"seed\",\n",
    "    \"dataset_seed\",\n",
    "    \"n_shot\",\n",
    "    \"n_query\",\n",
    "    \"n_way\",\n",
    "    \"train_k_factor\",\n",
    "    \"val_k_factor\",\n",
    "    \"test_k_factor\",\n",
    "    \"n_epoch\",\n",
    "    \"patience\",\n",
    "    \"criteria_for_best\",\n",
    "    \"x_net\",\n",
    "    \"datasets\",\n",
    "    \"torch_default_dtype\",\n",
    "    \"NUM_LOGS_PER_EPOCH\",\n",
    "    \"BEST_MODEL_PATH\",\n",
    "    \"x_shape\",\n",
    "}"
   ]
  },
  {
   "cell_type": "code",
   "execution_count": 3,
   "id": "fa3f0049",
   "metadata": {
    "execution": {
     "iopub.execute_input": "2022-03-28T15:00:46.890370Z",
     "iopub.status.busy": "2022-03-28T15:00:46.889463Z",
     "iopub.status.idle": "2022-03-28T15:00:46.911372Z",
     "shell.execute_reply": "2022-03-28T15:00:46.910709Z"
    },
    "papermill": {
     "duration": 0.05527,
     "end_time": "2022-03-28T15:00:46.911553",
     "exception": false,
     "start_time": "2022-03-28T15:00:46.856283",
     "status": "completed"
    },
    "tags": [
     "parameters"
    ]
   },
   "outputs": [],
   "source": [
    "from steves_utils.CORES.utils import (\n",
    "    ALL_NODES,\n",
    "    ALL_NODES_MINIMUM_1000_EXAMPLES,\n",
    "    ALL_DAYS\n",
    ")\n",
    "\n",
    "from steves_utils.ORACLE.utils_v2 import (\n",
    "    ALL_DISTANCES_FEET_NARROWED,\n",
    "    ALL_RUNS,\n",
    "    ALL_SERIAL_NUMBERS,\n",
    ")\n",
    "\n",
    "standalone_parameters = {}\n",
    "standalone_parameters[\"experiment_name\"] = \"STANDALONE PTN\"\n",
    "standalone_parameters[\"lr\"] = 0.001\n",
    "standalone_parameters[\"device\"] = \"cuda\"\n",
    "\n",
    "standalone_parameters[\"seed\"] = 1337\n",
    "standalone_parameters[\"dataset_seed\"] = 1337\n",
    "\n",
    "standalone_parameters[\"n_way\"] = 8\n",
    "standalone_parameters[\"n_shot\"] = 3\n",
    "standalone_parameters[\"n_query\"]  = 2\n",
    "standalone_parameters[\"train_k_factor\"] = 1\n",
    "standalone_parameters[\"val_k_factor\"] = 2\n",
    "standalone_parameters[\"test_k_factor\"] = 2\n",
    "\n",
    "\n",
    "standalone_parameters[\"n_epoch\"] = 50\n",
    "\n",
    "standalone_parameters[\"patience\"] = 10\n",
    "standalone_parameters[\"criteria_for_best\"] = \"source_loss\"\n",
    "\n",
    "standalone_parameters[\"datasets\"] = [\n",
    "    {\n",
    "        \"labels\": ALL_SERIAL_NUMBERS,\n",
    "        \"domains\": ALL_DISTANCES_FEET_NARROWED,\n",
    "        \"num_examples_per_domain_per_label\": 100,\n",
    "        \"pickle_path\": os.path.join(get_datasets_base_path(), \"oracle.Run1_framed_2000Examples_stratified_ds.2022A.pkl\"),\n",
    "        \"source_or_target_dataset\": \"source\",\n",
    "        \"x_transforms\": [\"unit_mag\", \"minus_two\"],\n",
    "        \"episode_transforms\": [],\n",
    "        \"domain_prefix\": \"ORACLE_\"\n",
    "    },\n",
    "    {\n",
    "        \"labels\": ALL_NODES,\n",
    "        \"domains\": ALL_DAYS,\n",
    "        \"num_examples_per_domain_per_label\": 100,\n",
    "        \"pickle_path\": os.path.join(get_datasets_base_path(), \"cores.stratified_ds.2022A.pkl\"),\n",
    "        \"source_or_target_dataset\": \"target\",\n",
    "        \"x_transforms\": [\"unit_power\", \"times_zero\"],\n",
    "        \"episode_transforms\": [],\n",
    "        \"domain_prefix\": \"CORES_\"\n",
    "    }   \n",
    "]\n",
    "\n",
    "standalone_parameters[\"torch_default_dtype\"] = \"torch.float32\" \n",
    "\n",
    "\n",
    "\n",
    "standalone_parameters[\"x_net\"] =     [\n",
    "    {\"class\": \"nnReshape\", \"kargs\": {\"shape\":[-1, 1, 2, 256]}},\n",
    "    {\"class\": \"Conv2d\", \"kargs\": { \"in_channels\":1, \"out_channels\":256, \"kernel_size\":(1,7), \"bias\":False, \"padding\":(0,3), },},\n",
    "    {\"class\": \"ReLU\", \"kargs\": {\"inplace\": True}},\n",
    "    {\"class\": \"BatchNorm2d\", \"kargs\": {\"num_features\":256}},\n",
    "\n",
    "    {\"class\": \"Conv2d\", \"kargs\": { \"in_channels\":256, \"out_channels\":80, \"kernel_size\":(2,7), \"bias\":True, \"padding\":(0,3), },},\n",
    "    {\"class\": \"ReLU\", \"kargs\": {\"inplace\": True}},\n",
    "    {\"class\": \"BatchNorm2d\", \"kargs\": {\"num_features\":80}},\n",
    "    {\"class\": \"Flatten\", \"kargs\": {}},\n",
    "\n",
    "    {\"class\": \"Linear\", \"kargs\": {\"in_features\": 80*256, \"out_features\": 256}}, # 80 units per IQ pair\n",
    "    {\"class\": \"ReLU\", \"kargs\": {\"inplace\": True}},\n",
    "    {\"class\": \"BatchNorm1d\", \"kargs\": {\"num_features\":256}},\n",
    "\n",
    "    {\"class\": \"Linear\", \"kargs\": {\"in_features\": 256, \"out_features\": 256}},\n",
    "]\n",
    "\n",
    "# Parameters relevant to results\n",
    "# These parameters will basically never need to change\n",
    "standalone_parameters[\"NUM_LOGS_PER_EPOCH\"] = 10\n",
    "standalone_parameters[\"BEST_MODEL_PATH\"] = \"./best_model.pth\"\n",
    "\n",
    "\n",
    "\n",
    "\n"
   ]
  },
  {
   "cell_type": "code",
   "execution_count": 4,
   "id": "b3d820b5",
   "metadata": {
    "execution": {
     "iopub.execute_input": "2022-03-28T15:00:46.969452Z",
     "iopub.status.busy": "2022-03-28T15:00:46.957610Z",
     "iopub.status.idle": "2022-03-28T15:00:46.988825Z",
     "shell.execute_reply": "2022-03-28T15:00:46.988133Z"
    },
    "papermill": {
     "duration": 0.053222,
     "end_time": "2022-03-28T15:00:46.988977",
     "exception": false,
     "start_time": "2022-03-28T15:00:46.935755",
     "status": "completed"
    },
    "tags": [
     "injected-parameters"
    ]
   },
   "outputs": [],
   "source": [
    "# Parameters\n",
    "parameters = {\n",
    "    \"experiment_name\": \"tl_3-jitter5v2:cores -> oracle.run1.framed\",\n",
    "    \"device\": \"cuda\",\n",
    "    \"lr\": 0.0001,\n",
    "    \"x_shape\": [2, 256],\n",
    "    \"n_shot\": 3,\n",
    "    \"n_query\": 2,\n",
    "    \"train_k_factor\": 3,\n",
    "    \"val_k_factor\": 2,\n",
    "    \"test_k_factor\": 2,\n",
    "    \"torch_default_dtype\": \"torch.float32\",\n",
    "    \"n_epoch\": 50,\n",
    "    \"patience\": 3,\n",
    "    \"criteria_for_best\": \"target_accuracy\",\n",
    "    \"x_net\": [\n",
    "        {\"class\": \"nnReshape\", \"kargs\": {\"shape\": [-1, 1, 2, 256]}},\n",
    "        {\n",
    "            \"class\": \"Conv2d\",\n",
    "            \"kargs\": {\n",
    "                \"in_channels\": 1,\n",
    "                \"out_channels\": 256,\n",
    "                \"kernel_size\": [1, 7],\n",
    "                \"bias\": False,\n",
    "                \"padding\": [0, 3],\n",
    "            },\n",
    "        },\n",
    "        {\"class\": \"ReLU\", \"kargs\": {\"inplace\": True}},\n",
    "        {\"class\": \"BatchNorm2d\", \"kargs\": {\"num_features\": 256}},\n",
    "        {\n",
    "            \"class\": \"Conv2d\",\n",
    "            \"kargs\": {\n",
    "                \"in_channels\": 256,\n",
    "                \"out_channels\": 80,\n",
    "                \"kernel_size\": [2, 7],\n",
    "                \"bias\": True,\n",
    "                \"padding\": [0, 3],\n",
    "            },\n",
    "        },\n",
    "        {\"class\": \"ReLU\", \"kargs\": {\"inplace\": True}},\n",
    "        {\"class\": \"BatchNorm2d\", \"kargs\": {\"num_features\": 80}},\n",
    "        {\"class\": \"Flatten\", \"kargs\": {}},\n",
    "        {\"class\": \"Linear\", \"kargs\": {\"in_features\": 20480, \"out_features\": 256}},\n",
    "        {\"class\": \"ReLU\", \"kargs\": {\"inplace\": True}},\n",
    "        {\"class\": \"BatchNorm1d\", \"kargs\": {\"num_features\": 256}},\n",
    "        {\"class\": \"Linear\", \"kargs\": {\"in_features\": 256, \"out_features\": 256}},\n",
    "    ],\n",
    "    \"NUM_LOGS_PER_EPOCH\": 10,\n",
    "    \"BEST_MODEL_PATH\": \"./best_model.pth\",\n",
    "    \"n_way\": 16,\n",
    "    \"datasets\": [\n",
    "        {\n",
    "            \"labels\": [\n",
    "                \"1-10.\",\n",
    "                \"1-11.\",\n",
    "                \"1-15.\",\n",
    "                \"1-16.\",\n",
    "                \"1-17.\",\n",
    "                \"1-18.\",\n",
    "                \"1-19.\",\n",
    "                \"10-4.\",\n",
    "                \"10-7.\",\n",
    "                \"11-1.\",\n",
    "                \"11-14.\",\n",
    "                \"11-17.\",\n",
    "                \"11-20.\",\n",
    "                \"11-7.\",\n",
    "                \"13-20.\",\n",
    "                \"13-8.\",\n",
    "                \"14-10.\",\n",
    "                \"14-11.\",\n",
    "                \"14-14.\",\n",
    "                \"14-7.\",\n",
    "                \"15-1.\",\n",
    "                \"15-20.\",\n",
    "                \"16-1.\",\n",
    "                \"16-16.\",\n",
    "                \"17-10.\",\n",
    "                \"17-11.\",\n",
    "                \"17-2.\",\n",
    "                \"19-1.\",\n",
    "                \"19-16.\",\n",
    "                \"19-19.\",\n",
    "                \"19-20.\",\n",
    "                \"19-3.\",\n",
    "                \"2-10.\",\n",
    "                \"2-11.\",\n",
    "                \"2-17.\",\n",
    "                \"2-18.\",\n",
    "                \"2-20.\",\n",
    "                \"2-3.\",\n",
    "                \"2-4.\",\n",
    "                \"2-5.\",\n",
    "                \"2-6.\",\n",
    "                \"2-7.\",\n",
    "                \"2-8.\",\n",
    "                \"3-13.\",\n",
    "                \"3-18.\",\n",
    "                \"3-3.\",\n",
    "                \"4-1.\",\n",
    "                \"4-10.\",\n",
    "                \"4-11.\",\n",
    "                \"4-19.\",\n",
    "                \"5-5.\",\n",
    "                \"6-15.\",\n",
    "                \"7-10.\",\n",
    "                \"7-14.\",\n",
    "                \"8-18.\",\n",
    "                \"8-20.\",\n",
    "                \"8-3.\",\n",
    "                \"8-8.\",\n",
    "            ],\n",
    "            \"domains\": [1, 2, 3, 4, 5],\n",
    "            \"num_examples_per_domain_per_label\": -1,\n",
    "            \"pickle_path\": \"/root/csc500-main/datasets/cores.stratified_ds.2022A.pkl\",\n",
    "            \"source_or_target_dataset\": \"source\",\n",
    "            \"x_transforms\": [\n",
    "                \"unit_mag\",\n",
    "                \"jitter_256_5\",\n",
    "                \"lowpass_+/-10MHz\",\n",
    "                \"take_200\",\n",
    "            ],\n",
    "            \"episode_transforms\": [],\n",
    "            \"domain_prefix\": \"C_\",\n",
    "        },\n",
    "        {\n",
    "            \"labels\": [\n",
    "                \"3123D52\",\n",
    "                \"3123D65\",\n",
    "                \"3123D79\",\n",
    "                \"3123D80\",\n",
    "                \"3123D54\",\n",
    "                \"3123D70\",\n",
    "                \"3123D7B\",\n",
    "                \"3123D89\",\n",
    "                \"3123D58\",\n",
    "                \"3123D76\",\n",
    "                \"3123D7D\",\n",
    "                \"3123EFE\",\n",
    "                \"3123D64\",\n",
    "                \"3123D78\",\n",
    "                \"3123D7E\",\n",
    "                \"3124E4A\",\n",
    "            ],\n",
    "            \"domains\": [32, 38, 8, 44, 14, 50, 20, 26],\n",
    "            \"num_examples_per_domain_per_label\": 2000,\n",
    "            \"pickle_path\": \"/root/csc500-main/datasets/oracle.Run1_framed_2000Examples_stratified_ds.2022A.pkl\",\n",
    "            \"source_or_target_dataset\": \"target\",\n",
    "            \"x_transforms\": [\n",
    "                \"unit_mag\",\n",
    "                \"jitter_256_5\",\n",
    "                \"take_200\",\n",
    "                \"resample_20Msps_to_25Msps\",\n",
    "            ],\n",
    "            \"episode_transforms\": [],\n",
    "            \"domain_prefix\": \"O_\",\n",
    "        },\n",
    "    ],\n",
    "    \"seed\": 500,\n",
    "    \"dataset_seed\": 500,\n",
    "}\n"
   ]
  },
  {
   "cell_type": "code",
   "execution_count": 5,
   "id": "8fa1cc33",
   "metadata": {
    "execution": {
     "iopub.execute_input": "2022-03-28T15:00:47.041961Z",
     "iopub.status.busy": "2022-03-28T15:00:47.041592Z",
     "iopub.status.idle": "2022-03-28T15:00:47.059643Z",
     "shell.execute_reply": "2022-03-28T15:00:47.058906Z"
    },
    "papermill": {
     "duration": 0.042463,
     "end_time": "2022-03-28T15:00:47.059796",
     "exception": false,
     "start_time": "2022-03-28T15:00:47.017333",
     "status": "completed"
    },
    "tags": []
   },
   "outputs": [],
   "source": [
    "# Set this to True if you want to run this template directly\n",
    "STANDALONE = False\n",
    "if STANDALONE:\n",
    "    print(\"parameters not injected, running with standalone_parameters\")\n",
    "    parameters = standalone_parameters\n",
    "\n",
    "if not 'parameters' in locals() and not 'parameters' in globals():\n",
    "    raise Exception(\"Parameter injection failed\")\n",
    "\n",
    "#Use an easy dict for all the parameters\n",
    "p = EasyDict(parameters)\n",
    "\n",
    "if \"x_shape\" not in p:\n",
    "    p.x_shape = [2,256] # Default to this if we dont supply x_shape\n",
    "\n",
    "\n",
    "supplied_keys = set(p.keys())\n",
    "\n",
    "if  supplied_keys != required_parameters:\n",
    "    print(\"Parameters are incorrect\")\n",
    "    if len(supplied_keys - required_parameters)>0: print(\"Shouldn't have:\", str(supplied_keys - required_parameters))\n",
    "    if len(required_parameters - supplied_keys)>0: print(\"Need to have:\", str(required_parameters - supplied_keys))\n",
    "    raise RuntimeError(\"Parameters are incorrect\")"
   ]
  },
  {
   "cell_type": "code",
   "execution_count": 6,
   "id": "3a028d58",
   "metadata": {
    "execution": {
     "iopub.execute_input": "2022-03-28T15:00:47.112224Z",
     "iopub.status.busy": "2022-03-28T15:00:47.111861Z",
     "iopub.status.idle": "2022-03-28T15:00:47.134300Z",
     "shell.execute_reply": "2022-03-28T15:00:47.133613Z"
    },
    "papermill": {
     "duration": 0.045736,
     "end_time": "2022-03-28T15:00:47.134458",
     "exception": false,
     "start_time": "2022-03-28T15:00:47.088722",
     "status": "completed"
    },
    "tags": []
   },
   "outputs": [],
   "source": [
    "###################################\n",
    "# Set the RNGs and make it all deterministic\n",
    "###################################\n",
    "np.random.seed(p.seed)\n",
    "random.seed(p.seed)\n",
    "torch.manual_seed(p.seed)\n",
    "\n",
    "torch.use_deterministic_algorithms(True) "
   ]
  },
  {
   "cell_type": "code",
   "execution_count": 7,
   "id": "b691acf6",
   "metadata": {
    "execution": {
     "iopub.execute_input": "2022-03-28T15:00:47.183413Z",
     "iopub.status.busy": "2022-03-28T15:00:47.183053Z",
     "iopub.status.idle": "2022-03-28T15:00:47.205621Z",
     "shell.execute_reply": "2022-03-28T15:00:47.204805Z"
    },
    "papermill": {
     "duration": 0.045894,
     "end_time": "2022-03-28T15:00:47.205773",
     "exception": false,
     "start_time": "2022-03-28T15:00:47.159879",
     "status": "completed"
    },
    "tags": []
   },
   "outputs": [],
   "source": [
    "###########################################\n",
    "# The stratified datasets honor this\n",
    "###########################################\n",
    "torch.set_default_dtype(eval(p.torch_default_dtype))"
   ]
  },
  {
   "cell_type": "code",
   "execution_count": 8,
   "id": "b5fba671",
   "metadata": {
    "execution": {
     "iopub.execute_input": "2022-03-28T15:00:47.254074Z",
     "iopub.status.busy": "2022-03-28T15:00:47.253713Z",
     "iopub.status.idle": "2022-03-28T15:00:47.303798Z",
     "shell.execute_reply": "2022-03-28T15:00:47.303087Z"
    },
    "papermill": {
     "duration": 0.072242,
     "end_time": "2022-03-28T15:00:47.303951",
     "exception": false,
     "start_time": "2022-03-28T15:00:47.231709",
     "status": "completed"
    },
    "tags": []
   },
   "outputs": [],
   "source": [
    "###################################\n",
    "# Build the network(s)\n",
    "# Note: It's critical to do this AFTER setting the RNG\n",
    "###################################\n",
    "x_net = build_sequential(p.x_net)"
   ]
  },
  {
   "cell_type": "code",
   "execution_count": 9,
   "id": "5d7e61cc",
   "metadata": {
    "execution": {
     "iopub.execute_input": "2022-03-28T15:00:47.352154Z",
     "iopub.status.busy": "2022-03-28T15:00:47.351798Z",
     "iopub.status.idle": "2022-03-28T15:00:47.375170Z",
     "shell.execute_reply": "2022-03-28T15:00:47.374480Z"
    },
    "papermill": {
     "duration": 0.046564,
     "end_time": "2022-03-28T15:00:47.375319",
     "exception": false,
     "start_time": "2022-03-28T15:00:47.328755",
     "status": "completed"
    },
    "tags": []
   },
   "outputs": [],
   "source": [
    "start_time_secs = time.time()"
   ]
  },
  {
   "cell_type": "code",
   "execution_count": 10,
   "id": "c6b67dfd",
   "metadata": {
    "execution": {
     "iopub.execute_input": "2022-03-28T15:00:47.426820Z",
     "iopub.status.busy": "2022-03-28T15:00:47.426422Z",
     "iopub.status.idle": "2022-03-28T15:00:47.443184Z",
     "shell.execute_reply": "2022-03-28T15:00:47.442495Z"
    },
    "papermill": {
     "duration": 0.040448,
     "end_time": "2022-03-28T15:00:47.443335",
     "exception": false,
     "start_time": "2022-03-28T15:00:47.402887",
     "status": "completed"
    },
    "tags": []
   },
   "outputs": [],
   "source": [
    "p.domains_source = []\n",
    "p.domains_target = []\n",
    "\n",
    "\n",
    "train_original_source = []\n",
    "val_original_source   = []\n",
    "test_original_source  = []\n",
    "\n",
    "train_original_target = []\n",
    "val_original_target   = []\n",
    "test_original_target  = []"
   ]
  },
  {
   "cell_type": "code",
   "execution_count": 11,
   "id": "e3d9c3d3",
   "metadata": {
    "execution": {
     "iopub.execute_input": "2022-03-28T15:00:47.494795Z",
     "iopub.status.busy": "2022-03-28T15:00:47.494436Z",
     "iopub.status.idle": "2022-03-28T15:00:47.510952Z",
     "shell.execute_reply": "2022-03-28T15:00:47.510264Z"
    },
    "papermill": {
     "duration": 0.039713,
     "end_time": "2022-03-28T15:00:47.511103",
     "exception": false,
     "start_time": "2022-03-28T15:00:47.471390",
     "status": "completed"
    },
    "tags": []
   },
   "outputs": [],
   "source": [
    "# global_x_transform_func = lambda x: normalize(x.to(torch.get_default_dtype()), \"unit_power\") # unit_power, unit_mag\n",
    "# global_x_transform_func = lambda x: normalize(x, \"unit_power\") # unit_power, unit_mag"
   ]
  },
  {
   "cell_type": "code",
   "execution_count": 12,
   "id": "acb78fd2",
   "metadata": {
    "execution": {
     "iopub.execute_input": "2022-03-28T15:00:47.567980Z",
     "iopub.status.busy": "2022-03-28T15:00:47.567596Z",
     "iopub.status.idle": "2022-03-28T15:00:47.586450Z",
     "shell.execute_reply": "2022-03-28T15:00:47.585656Z"
    },
    "papermill": {
     "duration": 0.04787,
     "end_time": "2022-03-28T15:00:47.586607",
     "exception": false,
     "start_time": "2022-03-28T15:00:47.538737",
     "status": "completed"
    },
    "tags": []
   },
   "outputs": [],
   "source": [
    "def add_dataset(\n",
    "    labels,\n",
    "    domains,\n",
    "    pickle_path,\n",
    "    x_transforms,\n",
    "    episode_transforms,\n",
    "    domain_prefix,\n",
    "    num_examples_per_domain_per_label,\n",
    "    source_or_target_dataset:str,\n",
    "    iterator_seed=p.seed,\n",
    "    dataset_seed=p.dataset_seed,\n",
    "    n_shot=p.n_shot,\n",
    "    n_way=p.n_way,\n",
    "    n_query=p.n_query,\n",
    "    train_val_test_k_factors=(p.train_k_factor,p.val_k_factor,p.test_k_factor),\n",
    "):\n",
    "   \n",
    "    if x_transforms == []: x_transform = None\n",
    "    else: x_transform = get_chained_transform(x_transforms)\n",
    "    \n",
    "    if episode_transforms == []: episode_transform = None\n",
    "    else: raise Exception(\"episode_transforms not implemented\")\n",
    "    \n",
    "    episode_transform = lambda tup, _prefix=domain_prefix: (_prefix + str(tup[0]), tup[1])\n",
    "\n",
    "\n",
    "    eaf = Episodic_Accessor_Factory(\n",
    "        labels=labels,\n",
    "        domains=domains,\n",
    "        num_examples_per_domain_per_label=num_examples_per_domain_per_label,\n",
    "        iterator_seed=iterator_seed,\n",
    "        dataset_seed=dataset_seed,\n",
    "        n_shot=n_shot,\n",
    "        n_way=n_way,\n",
    "        n_query=n_query,\n",
    "        train_val_test_k_factors=train_val_test_k_factors,\n",
    "        pickle_path=pickle_path,\n",
    "        x_transform_func=x_transform,\n",
    "    )\n",
    "\n",
    "    train, val, test = eaf.get_train(), eaf.get_val(), eaf.get_test()\n",
    "    train = Lazy_Iterable_Wrapper(train, episode_transform)\n",
    "    val = Lazy_Iterable_Wrapper(val, episode_transform)\n",
    "    test = Lazy_Iterable_Wrapper(test, episode_transform)\n",
    "\n",
    "    if source_or_target_dataset==\"source\":\n",
    "        train_original_source.append(train)\n",
    "        val_original_source.append(val)\n",
    "        test_original_source.append(test)\n",
    "\n",
    "        p.domains_source.extend(\n",
    "            [domain_prefix + str(u) for u in domains]\n",
    "        )\n",
    "    elif source_or_target_dataset==\"target\":\n",
    "        train_original_target.append(train)\n",
    "        val_original_target.append(val)\n",
    "        test_original_target.append(test)\n",
    "        p.domains_target.extend(\n",
    "            [domain_prefix + str(u) for u in domains]\n",
    "        )\n",
    "    else:\n",
    "        raise Exception(f\"invalid source_or_target_dataset: {source_or_target_dataset}\")\n",
    "    "
   ]
  },
  {
   "cell_type": "code",
   "execution_count": 13,
   "id": "fe266617",
   "metadata": {
    "execution": {
     "iopub.execute_input": "2022-03-28T15:00:47.636000Z",
     "iopub.status.busy": "2022-03-28T15:00:47.635640Z",
     "iopub.status.idle": "2022-03-28T15:02:36.247418Z",
     "shell.execute_reply": "2022-03-28T15:02:36.246654Z"
    },
    "papermill": {
     "duration": 108.634956,
     "end_time": "2022-03-28T15:02:36.247631",
     "exception": false,
     "start_time": "2022-03-28T15:00:47.612675",
     "status": "completed"
    },
    "tags": []
   },
   "outputs": [],
   "source": [
    "for ds in p.datasets:\n",
    "    add_dataset(**ds)"
   ]
  },
  {
   "cell_type": "code",
   "execution_count": 14,
   "id": "b90d65ac",
   "metadata": {
    "execution": {
     "iopub.execute_input": "2022-03-28T15:02:36.298504Z",
     "iopub.status.busy": "2022-03-28T15:02:36.298124Z",
     "iopub.status.idle": "2022-03-28T15:02:36.319142Z",
     "shell.execute_reply": "2022-03-28T15:02:36.318444Z"
    },
    "papermill": {
     "duration": 0.044804,
     "end_time": "2022-03-28T15:02:36.319303",
     "exception": false,
     "start_time": "2022-03-28T15:02:36.274499",
     "status": "completed"
    },
    "tags": []
   },
   "outputs": [],
   "source": [
    "# from steves_utils.CORES.utils import (\n",
    "#     ALL_NODES,\n",
    "#     ALL_NODES_MINIMUM_1000_EXAMPLES,\n",
    "#     ALL_DAYS\n",
    "# )\n",
    "\n",
    "# add_dataset(\n",
    "#     labels=ALL_NODES,\n",
    "#     domains = ALL_DAYS,\n",
    "#     num_examples_per_domain_per_label=100,\n",
    "#     pickle_path=os.path.join(get_datasets_base_path(), \"cores.stratified_ds.2022A.pkl\"),\n",
    "#     source_or_target_dataset=\"target\",\n",
    "#     x_transform_func=global_x_transform_func,\n",
    "#     domain_modifier=lambda u: f\"cores_{u}\"\n",
    "# )"
   ]
  },
  {
   "cell_type": "code",
   "execution_count": 15,
   "id": "76db484d",
   "metadata": {
    "execution": {
     "iopub.execute_input": "2022-03-28T15:02:36.374622Z",
     "iopub.status.busy": "2022-03-28T15:02:36.373773Z",
     "iopub.status.idle": "2022-03-28T15:02:36.395098Z",
     "shell.execute_reply": "2022-03-28T15:02:36.394401Z"
    },
    "papermill": {
     "duration": 0.049769,
     "end_time": "2022-03-28T15:02:36.395272",
     "exception": false,
     "start_time": "2022-03-28T15:02:36.345503",
     "status": "completed"
    },
    "tags": []
   },
   "outputs": [],
   "source": [
    "# from steves_utils.ORACLE.utils_v2 import (\n",
    "#     ALL_DISTANCES_FEET,\n",
    "#     ALL_RUNS,\n",
    "#     ALL_SERIAL_NUMBERS,\n",
    "# )\n",
    "\n",
    "\n",
    "# add_dataset(\n",
    "#     labels=ALL_SERIAL_NUMBERS,\n",
    "#     domains = list(set(ALL_DISTANCES_FEET) - {2,62}),\n",
    "#     num_examples_per_domain_per_label=100,\n",
    "#     pickle_path=os.path.join(get_datasets_base_path(), \"oracle.Run2_framed_2000Examples_stratified_ds.2022A.pkl\"),\n",
    "#     source_or_target_dataset=\"source\",\n",
    "#     x_transform_func=global_x_transform_func,\n",
    "#     domain_modifier=lambda u: f\"oracle1_{u}\"\n",
    "# )\n"
   ]
  },
  {
   "cell_type": "code",
   "execution_count": 16,
   "id": "97dea9d2",
   "metadata": {
    "execution": {
     "iopub.execute_input": "2022-03-28T15:02:36.449639Z",
     "iopub.status.busy": "2022-03-28T15:02:36.449267Z",
     "iopub.status.idle": "2022-03-28T15:02:36.470669Z",
     "shell.execute_reply": "2022-03-28T15:02:36.469960Z"
    },
    "papermill": {
     "duration": 0.044876,
     "end_time": "2022-03-28T15:02:36.470825",
     "exception": false,
     "start_time": "2022-03-28T15:02:36.425949",
     "status": "completed"
    },
    "tags": []
   },
   "outputs": [],
   "source": [
    "# from steves_utils.ORACLE.utils_v2 import (\n",
    "#     ALL_DISTANCES_FEET,\n",
    "#     ALL_RUNS,\n",
    "#     ALL_SERIAL_NUMBERS,\n",
    "# )\n",
    "\n",
    "\n",
    "# add_dataset(\n",
    "#     labels=ALL_SERIAL_NUMBERS,\n",
    "#     domains = list(set(ALL_DISTANCES_FEET) - {2,62,56}),\n",
    "#     num_examples_per_domain_per_label=100,\n",
    "#     pickle_path=os.path.join(get_datasets_base_path(), \"oracle.Run2_framed_2000Examples_stratified_ds.2022A.pkl\"),\n",
    "#     source_or_target_dataset=\"source\",\n",
    "#     x_transform_func=global_x_transform_func,\n",
    "#     domain_modifier=lambda u: f\"oracle2_{u}\"\n",
    "# )"
   ]
  },
  {
   "cell_type": "code",
   "execution_count": 17,
   "id": "6f289866",
   "metadata": {
    "execution": {
     "iopub.execute_input": "2022-03-28T15:02:36.524000Z",
     "iopub.status.busy": "2022-03-28T15:02:36.523600Z",
     "iopub.status.idle": "2022-03-28T15:02:36.546373Z",
     "shell.execute_reply": "2022-03-28T15:02:36.545589Z"
    },
    "papermill": {
     "duration": 0.047174,
     "end_time": "2022-03-28T15:02:36.546536",
     "exception": false,
     "start_time": "2022-03-28T15:02:36.499362",
     "status": "completed"
    },
    "tags": []
   },
   "outputs": [],
   "source": [
    "# add_dataset(\n",
    "#     labels=list(range(19)),\n",
    "#     domains = [0,1,2],\n",
    "#     num_examples_per_domain_per_label=100,\n",
    "#     pickle_path=os.path.join(get_datasets_base_path(), \"metehan.stratified_ds.2022A.pkl\"),\n",
    "#     source_or_target_dataset=\"target\",\n",
    "#     x_transform_func=global_x_transform_func,\n",
    "#     domain_modifier=lambda u: f\"met_{u}\"\n",
    "# )"
   ]
  },
  {
   "cell_type": "code",
   "execution_count": 18,
   "id": "86a863c3",
   "metadata": {
    "execution": {
     "iopub.execute_input": "2022-03-28T15:02:36.598582Z",
     "iopub.status.busy": "2022-03-28T15:02:36.598208Z",
     "iopub.status.idle": "2022-03-28T15:02:36.619138Z",
     "shell.execute_reply": "2022-03-28T15:02:36.618431Z"
    },
    "papermill": {
     "duration": 0.045256,
     "end_time": "2022-03-28T15:02:36.619294",
     "exception": false,
     "start_time": "2022-03-28T15:02:36.574038",
     "status": "completed"
    },
    "tags": []
   },
   "outputs": [],
   "source": [
    "# # from steves_utils.wisig.utils import (\n",
    "# #     ALL_NODES_MINIMUM_100_EXAMPLES,\n",
    "# #     ALL_NODES_MINIMUM_500_EXAMPLES,\n",
    "# #     ALL_NODES_MINIMUM_1000_EXAMPLES,\n",
    "# #     ALL_DAYS\n",
    "# # )\n",
    "\n",
    "# import steves_utils.wisig.utils as wisig\n",
    "\n",
    "\n",
    "# add_dataset(\n",
    "#     labels=wisig.ALL_NODES_MINIMUM_100_EXAMPLES,\n",
    "#     domains = wisig.ALL_DAYS,\n",
    "#     num_examples_per_domain_per_label=100,\n",
    "#     pickle_path=os.path.join(get_datasets_base_path(), \"wisig.node3-19.stratified_ds.2022A.pkl\"),\n",
    "#     source_or_target_dataset=\"target\",\n",
    "#     x_transform_func=global_x_transform_func,\n",
    "#     domain_modifier=lambda u: f\"wisig_{u}\"\n",
    "# )"
   ]
  },
  {
   "cell_type": "code",
   "execution_count": 19,
   "id": "fd5442bc",
   "metadata": {
    "execution": {
     "iopub.execute_input": "2022-03-28T15:02:36.675331Z",
     "iopub.status.busy": "2022-03-28T15:02:36.674752Z",
     "iopub.status.idle": "2022-03-28T15:02:36.693209Z",
     "shell.execute_reply": "2022-03-28T15:02:36.692511Z"
    },
    "papermill": {
     "duration": 0.043919,
     "end_time": "2022-03-28T15:02:36.693364",
     "exception": false,
     "start_time": "2022-03-28T15:02:36.649445",
     "status": "completed"
    },
    "tags": []
   },
   "outputs": [],
   "source": [
    "###################################\n",
    "# Build the dataset\n",
    "###################################\n",
    "train_original_source = Iterable_Aggregator(train_original_source, p.seed)\n",
    "val_original_source = Iterable_Aggregator(val_original_source, p.seed)\n",
    "test_original_source = Iterable_Aggregator(test_original_source, p.seed)\n",
    "\n",
    "\n",
    "train_original_target = Iterable_Aggregator(train_original_target, p.seed)\n",
    "val_original_target = Iterable_Aggregator(val_original_target, p.seed)\n",
    "test_original_target = Iterable_Aggregator(test_original_target, p.seed)\n",
    "\n",
    "# For CNN We only use X and Y. And we only train on the source.\n",
    "# Properly form the data using a transform lambda and Lazy_Iterable_Wrapper. Finally wrap them in a dataloader\n",
    "\n",
    "transform_lambda = lambda ex: ex[1] # Original is (<domain>, <episode>) so we strip down to episode only\n",
    "\n",
    "train_processed_source = Lazy_Iterable_Wrapper(train_original_source, transform_lambda)\n",
    "val_processed_source   = Lazy_Iterable_Wrapper(val_original_source, transform_lambda)\n",
    "test_processed_source  = Lazy_Iterable_Wrapper(test_original_source, transform_lambda)\n",
    "\n",
    "train_processed_target = Lazy_Iterable_Wrapper(train_original_target, transform_lambda)\n",
    "val_processed_target   = Lazy_Iterable_Wrapper(val_original_target, transform_lambda)\n",
    "test_processed_target  = Lazy_Iterable_Wrapper(test_original_target, transform_lambda)\n",
    "\n",
    "datasets = EasyDict({\n",
    "    \"source\": {\n",
    "        \"original\": {\"train\":train_original_source, \"val\":val_original_source, \"test\":test_original_source},\n",
    "        \"processed\": {\"train\":train_processed_source, \"val\":val_processed_source, \"test\":test_processed_source}\n",
    "    },\n",
    "    \"target\": {\n",
    "        \"original\": {\"train\":train_original_target, \"val\":val_original_target, \"test\":test_original_target},\n",
    "        \"processed\": {\"train\":train_processed_target, \"val\":val_processed_target, \"test\":test_processed_target}\n",
    "    },\n",
    "})"
   ]
  },
  {
   "cell_type": "code",
   "execution_count": 20,
   "id": "5b3c01fc",
   "metadata": {
    "execution": {
     "iopub.execute_input": "2022-03-28T15:02:36.746727Z",
     "iopub.status.busy": "2022-03-28T15:02:36.746169Z",
     "iopub.status.idle": "2022-03-28T15:02:50.726217Z",
     "shell.execute_reply": "2022-03-28T15:02:50.725437Z"
    },
    "papermill": {
     "duration": 14.005792,
     "end_time": "2022-03-28T15:02:50.726394",
     "exception": false,
     "start_time": "2022-03-28T15:02:36.720602",
     "status": "completed"
    },
    "tags": []
   },
   "outputs": [
    {
     "name": "stdout",
     "output_type": "stream",
     "text": [
      "{'C_1', 'C_3', 'C_5', 'C_4', 'C_2'}\n"
     ]
    },
    {
     "name": "stdout",
     "output_type": "stream",
     "text": [
      "{'O_44', 'O_20', 'O_38', 'O_8', 'O_26', 'O_32', 'O_14', 'O_50'}\n"
     ]
    },
    {
     "name": "stdout",
     "output_type": "stream",
     "text": [
      "tensor([[[0., 0., 0.,  ..., 0., 0., 0.],\n",
      "         [0., 0., 0.,  ..., 0., 0., 0.]],\n",
      "\n",
      "        [[0., 0., 0.,  ..., 0., 0., 0.],\n",
      "         [0., 0., 0.,  ..., 0., 0., 0.]],\n",
      "\n",
      "        [[0., 0., 0.,  ..., 0., 0., 0.],\n",
      "         [0., 0., 0.,  ..., 0., 0., 0.]],\n",
      "\n",
      "        ...,\n",
      "\n",
      "        [[0., 0., 0.,  ..., 0., 0., 0.],\n",
      "         [0., 0., 0.,  ..., 0., 0., 0.]],\n",
      "\n",
      "        [[0., 0., 0.,  ..., 0., 0., 0.],\n",
      "         [0., 0., 0.,  ..., 0., 0., 0.]],\n",
      "\n",
      "        [[0., 0., 0.,  ..., 0., 0., 0.],\n",
      "         [0., 0., 0.,  ..., 0., 0., 0.]]])\n"
     ]
    }
   ],
   "source": [
    "from steves_utils.transforms import get_average_magnitude, get_average_power\n",
    "\n",
    "print(set([u for u,_ in val_original_source]))\n",
    "print(set([u for u,_ in val_original_target]))\n",
    "\n",
    "s_x, s_y, q_x, q_y, _ = next(iter(train_processed_source))\n",
    "print(s_x)\n",
    "\n",
    "# for ds in [\n",
    "#     train_processed_source,\n",
    "#     val_processed_source,\n",
    "#     test_processed_source,\n",
    "#     train_processed_target,\n",
    "#     val_processed_target,\n",
    "#     test_processed_target\n",
    "# ]:\n",
    "#     for s_x, s_y, q_x, q_y, _ in ds:\n",
    "#         for X in (s_x, q_x):\n",
    "#             for x in X:\n",
    "#                 assert np.isclose(get_average_magnitude(x.numpy()), 1.0)\n",
    "#                 assert np.isclose(get_average_power(x.numpy()), 1.0)\n",
    "                "
   ]
  },
  {
   "cell_type": "code",
   "execution_count": 21,
   "id": "bbdacba1",
   "metadata": {
    "execution": {
     "iopub.execute_input": "2022-03-28T15:02:50.779996Z",
     "iopub.status.busy": "2022-03-28T15:02:50.779618Z",
     "iopub.status.idle": "2022-03-28T15:02:50.978741Z",
     "shell.execute_reply": "2022-03-28T15:02:50.977969Z"
    },
    "papermill": {
     "duration": 0.226339,
     "end_time": "2022-03-28T15:02:50.978923",
     "exception": false,
     "start_time": "2022-03-28T15:02:50.752584",
     "status": "completed"
    },
    "tags": []
   },
   "outputs": [
    {
     "name": "stdout",
     "output_type": "stream",
     "text": [
      "(2, 256)\n"
     ]
    }
   ],
   "source": [
    "###################################\n",
    "# Build the model\n",
    "###################################\n",
    "# easfsl only wants a tuple for the shape\n",
    "model = Steves_Prototypical_Network(x_net, device=p.device, x_shape=tuple(p.x_shape))\n",
    "optimizer = Adam(params=model.parameters(), lr=p.lr)"
   ]
  },
  {
   "cell_type": "code",
   "execution_count": 22,
   "id": "22b39ac5",
   "metadata": {
    "execution": {
     "iopub.execute_input": "2022-03-28T15:02:51.036692Z",
     "iopub.status.busy": "2022-03-28T15:02:51.036316Z",
     "iopub.status.idle": "2022-03-28T15:39:57.679226Z",
     "shell.execute_reply": "2022-03-28T15:39:57.678877Z"
    },
    "papermill": {
     "duration": 2226.671526,
     "end_time": "2022-03-28T15:39:57.679311",
     "exception": false,
     "start_time": "2022-03-28T15:02:51.007785",
     "status": "completed"
    },
    "tags": []
   },
   "outputs": [
    {
     "name": "stdout",
     "output_type": "stream",
     "text": [
      "epoch: 1, [batch: 1 / 6317], examples_per_second: 34.1804, train_label_loss: 2.7860, \n"
     ]
    },
    {
     "name": "stdout",
     "output_type": "stream",
     "text": [
      "epoch: 1, [batch: 632 / 6317], examples_per_second: 3813.2886, train_label_loss: 0.1308, \n"
     ]
    },
    {
     "name": "stdout",
     "output_type": "stream",
     "text": [
      "epoch: 1, [batch: 1264 / 6317], examples_per_second: 3865.6052, train_label_loss: 0.0022, \n"
     ]
    },
    {
     "name": "stdout",
     "output_type": "stream",
     "text": [
      "epoch: 1, [batch: 1895 / 6317], examples_per_second: 3811.7246, train_label_loss: 0.0059, \n"
     ]
    },
    {
     "name": "stdout",
     "output_type": "stream",
     "text": [
      "epoch: 1, [batch: 2527 / 6317], examples_per_second: 3811.1712, train_label_loss: 0.0377, \n"
     ]
    },
    {
     "name": "stdout",
     "output_type": "stream",
     "text": [
      "epoch: 1, [batch: 3159 / 6317], examples_per_second: 3891.4167, train_label_loss: 0.0260, \n"
     ]
    },
    {
     "name": "stdout",
     "output_type": "stream",
     "text": [
      "epoch: 1, [batch: 3790 / 6317], examples_per_second: 4370.6876, train_label_loss: 0.0008, \n"
     ]
    },
    {
     "name": "stdout",
     "output_type": "stream",
     "text": [
      "epoch: 1, [batch: 4422 / 6317], examples_per_second: 4482.1621, train_label_loss: 0.0097, \n"
     ]
    },
    {
     "name": "stdout",
     "output_type": "stream",
     "text": [
      "epoch: 1, [batch: 5053 / 6317], examples_per_second: 4331.7368, train_label_loss: 0.0069, \n"
     ]
    },
    {
     "name": "stdout",
     "output_type": "stream",
     "text": [
      "epoch: 1, [batch: 5685 / 6317], examples_per_second: 3898.0090, train_label_loss: 0.0336, \n"
     ]
    },
    {
     "name": "stdout",
     "output_type": "stream",
     "text": [
      "=============================================================\n",
      "epoch: 1, source_val_acc_label: 0.9964, target_val_acc_label: 0.3322, source_val_label_loss: 0.0367, target_val_label_loss: 1.9277, \n",
      "=============================================================\n"
     ]
    },
    {
     "name": "stdout",
     "output_type": "stream",
     "text": [
      "New best\n"
     ]
    },
    {
     "name": "stdout",
     "output_type": "stream",
     "text": [
      "epoch: 2, [batch: 1 / 6315], examples_per_second: 4.1750, train_label_loss: 0.0088, \n"
     ]
    },
    {
     "name": "stdout",
     "output_type": "stream",
     "text": [
      "epoch: 2, [batch: 632 / 6315], examples_per_second: 3859.4139, train_label_loss: 0.0006, \n"
     ]
    },
    {
     "name": "stdout",
     "output_type": "stream",
     "text": [
      "epoch: 2, [batch: 1263 / 6315], examples_per_second: 3911.9903, train_label_loss: 0.0030, \n"
     ]
    },
    {
     "name": "stdout",
     "output_type": "stream",
     "text": [
      "epoch: 2, [batch: 1895 / 6315], examples_per_second: 3821.2739, train_label_loss: 0.0001, \n"
     ]
    },
    {
     "name": "stdout",
     "output_type": "stream",
     "text": [
      "epoch: 2, [batch: 2526 / 6315], examples_per_second: 3894.5216, train_label_loss: 0.0656, \n"
     ]
    },
    {
     "name": "stdout",
     "output_type": "stream",
     "text": [
      "epoch: 2, [batch: 3158 / 6315], examples_per_second: 3879.0492, train_label_loss: 0.0000, \n"
     ]
    },
    {
     "name": "stdout",
     "output_type": "stream",
     "text": [
      "epoch: 2, [batch: 3789 / 6315], examples_per_second: 4309.9825, train_label_loss: 0.0005, \n"
     ]
    },
    {
     "name": "stdout",
     "output_type": "stream",
     "text": [
      "epoch: 2, [batch: 4420 / 6315], examples_per_second: 4321.7717, train_label_loss: 0.0000, \n"
     ]
    },
    {
     "name": "stdout",
     "output_type": "stream",
     "text": [
      "epoch: 2, [batch: 5052 / 6315], examples_per_second: 4280.7262, train_label_loss: 0.0000, \n"
     ]
    },
    {
     "name": "stdout",
     "output_type": "stream",
     "text": [
      "epoch: 2, [batch: 5683 / 6315], examples_per_second: 3855.2424, train_label_loss: 0.0080, \n"
     ]
    },
    {
     "name": "stdout",
     "output_type": "stream",
     "text": [
      "=============================================================\n",
      "epoch: 2, source_val_acc_label: 0.9955, target_val_acc_label: 0.2824, source_val_label_loss: 0.0207, target_val_label_loss: 2.4650, \n",
      "=============================================================\n"
     ]
    },
    {
     "name": "stdout",
     "output_type": "stream",
     "text": [
      "epoch: 3, [batch: 1 / 6325], examples_per_second: 4.0676, train_label_loss: 0.0003, \n"
     ]
    },
    {
     "name": "stdout",
     "output_type": "stream",
     "text": [
      "epoch: 3, [batch: 633 / 6325], examples_per_second: 3865.7758, train_label_loss: 0.0162, \n"
     ]
    },
    {
     "name": "stdout",
     "output_type": "stream",
     "text": [
      "epoch: 3, [batch: 1265 / 6325], examples_per_second: 3860.1631, train_label_loss: 0.0185, \n"
     ]
    },
    {
     "name": "stdout",
     "output_type": "stream",
     "text": [
      "epoch: 3, [batch: 1898 / 6325], examples_per_second: 3885.9083, train_label_loss: 0.0000, \n"
     ]
    },
    {
     "name": "stdout",
     "output_type": "stream",
     "text": [
      "epoch: 3, [batch: 2530 / 6325], examples_per_second: 3881.6015, train_label_loss: 0.0000, \n"
     ]
    },
    {
     "name": "stdout",
     "output_type": "stream",
     "text": [
      "epoch: 3, [batch: 3163 / 6325], examples_per_second: 3966.2494, train_label_loss: 0.0001, \n"
     ]
    },
    {
     "name": "stdout",
     "output_type": "stream",
     "text": [
      "epoch: 3, [batch: 3795 / 6325], examples_per_second: 4569.2216, train_label_loss: 0.0000, \n"
     ]
    },
    {
     "name": "stdout",
     "output_type": "stream",
     "text": [
      "epoch: 3, [batch: 4427 / 6325], examples_per_second: 4497.9881, train_label_loss: 0.0038, \n"
     ]
    },
    {
     "name": "stdout",
     "output_type": "stream",
     "text": [
      "epoch: 3, [batch: 5060 / 6325], examples_per_second: 4473.0871, train_label_loss: 0.0007, \n"
     ]
    },
    {
     "name": "stdout",
     "output_type": "stream",
     "text": [
      "epoch: 3, [batch: 5692 / 6325], examples_per_second: 3985.6998, train_label_loss: 0.0000, \n"
     ]
    },
    {
     "name": "stdout",
     "output_type": "stream",
     "text": [
      "=============================================================\n",
      "epoch: 3, source_val_acc_label: 0.9980, target_val_acc_label: 0.3355, source_val_label_loss: 0.0088, target_val_label_loss: 2.0386, \n",
      "=============================================================\n"
     ]
    },
    {
     "name": "stdout",
     "output_type": "stream",
     "text": [
      "New best\n"
     ]
    },
    {
     "name": "stdout",
     "output_type": "stream",
     "text": [
      "epoch: 4, [batch: 1 / 6307], examples_per_second: 4.1467, train_label_loss: 0.0034, \n"
     ]
    },
    {
     "name": "stdout",
     "output_type": "stream",
     "text": [
      "epoch: 4, [batch: 631 / 6307], examples_per_second: 3856.1054, train_label_loss: 0.0000, \n"
     ]
    },
    {
     "name": "stdout",
     "output_type": "stream",
     "text": [
      "epoch: 4, [batch: 1262 / 6307], examples_per_second: 3934.5036, train_label_loss: 0.0006, \n"
     ]
    },
    {
     "name": "stdout",
     "output_type": "stream",
     "text": [
      "epoch: 4, [batch: 1892 / 6307], examples_per_second: 3937.0025, train_label_loss: 0.0000, \n"
     ]
    },
    {
     "name": "stdout",
     "output_type": "stream",
     "text": [
      "epoch: 4, [batch: 2523 / 6307], examples_per_second: 3785.6428, train_label_loss: 0.0002, \n"
     ]
    },
    {
     "name": "stdout",
     "output_type": "stream",
     "text": [
      "epoch: 4, [batch: 3154 / 6307], examples_per_second: 3841.4747, train_label_loss: 0.0014, \n"
     ]
    },
    {
     "name": "stdout",
     "output_type": "stream",
     "text": [
      "epoch: 4, [batch: 3784 / 6307], examples_per_second: 4273.2242, train_label_loss: 0.0000, \n"
     ]
    },
    {
     "name": "stdout",
     "output_type": "stream",
     "text": [
      "epoch: 4, [batch: 4415 / 6307], examples_per_second: 4439.1140, train_label_loss: 0.0059, \n"
     ]
    },
    {
     "name": "stdout",
     "output_type": "stream",
     "text": [
      "epoch: 4, [batch: 5045 / 6307], examples_per_second: 4538.0835, train_label_loss: 0.0000, \n"
     ]
    },
    {
     "name": "stdout",
     "output_type": "stream",
     "text": [
      "epoch: 4, [batch: 5676 / 6307], examples_per_second: 3820.2978, train_label_loss: 0.0001, \n"
     ]
    },
    {
     "name": "stdout",
     "output_type": "stream",
     "text": [
      "=============================================================\n",
      "epoch: 4, source_val_acc_label: 0.9988, target_val_acc_label: 0.3413, source_val_label_loss: 0.0069, target_val_label_loss: 2.0396, \n",
      "=============================================================\n"
     ]
    },
    {
     "name": "stdout",
     "output_type": "stream",
     "text": [
      "New best\n"
     ]
    },
    {
     "name": "stdout",
     "output_type": "stream",
     "text": [
      "epoch: 5, [batch: 1 / 6302], examples_per_second: 4.1157, train_label_loss: 0.0008, \n"
     ]
    },
    {
     "name": "stdout",
     "output_type": "stream",
     "text": [
      "epoch: 5, [batch: 631 / 6302], examples_per_second: 3887.2099, train_label_loss: 0.0000, \n"
     ]
    },
    {
     "name": "stdout",
     "output_type": "stream",
     "text": [
      "epoch: 5, [batch: 1261 / 6302], examples_per_second: 3871.6424, train_label_loss: 0.0001, \n"
     ]
    },
    {
     "name": "stdout",
     "output_type": "stream",
     "text": [
      "epoch: 5, [batch: 1891 / 6302], examples_per_second: 3849.2294, train_label_loss: 0.0000, \n"
     ]
    },
    {
     "name": "stdout",
     "output_type": "stream",
     "text": [
      "epoch: 5, [batch: 2521 / 6302], examples_per_second: 3842.3023, train_label_loss: 0.0061, \n"
     ]
    },
    {
     "name": "stdout",
     "output_type": "stream",
     "text": [
      "epoch: 5, [batch: 3151 / 6302], examples_per_second: 3926.5450, train_label_loss: 0.0001, \n"
     ]
    },
    {
     "name": "stdout",
     "output_type": "stream",
     "text": [
      "epoch: 5, [batch: 3781 / 6302], examples_per_second: 4194.1632, train_label_loss: 0.0010, \n"
     ]
    },
    {
     "name": "stdout",
     "output_type": "stream",
     "text": [
      "epoch: 5, [batch: 4411 / 6302], examples_per_second: 4355.0597, train_label_loss: 0.0092, \n"
     ]
    },
    {
     "name": "stdout",
     "output_type": "stream",
     "text": [
      "epoch: 5, [batch: 5041 / 6302], examples_per_second: 4251.9549, train_label_loss: 0.0006, \n"
     ]
    },
    {
     "name": "stdout",
     "output_type": "stream",
     "text": [
      "epoch: 5, [batch: 5671 / 6302], examples_per_second: 3939.6221, train_label_loss: 0.0001, \n"
     ]
    },
    {
     "name": "stdout",
     "output_type": "stream",
     "text": [
      "=============================================================\n",
      "epoch: 5, source_val_acc_label: 0.9987, target_val_acc_label: 0.3335, source_val_label_loss: 0.0068, target_val_label_loss: 1.9724, \n",
      "=============================================================\n"
     ]
    },
    {
     "name": "stdout",
     "output_type": "stream",
     "text": [
      "epoch: 6, [batch: 1 / 6311], examples_per_second: 4.1784, train_label_loss: 0.0000, \n"
     ]
    },
    {
     "name": "stdout",
     "output_type": "stream",
     "text": [
      "epoch: 6, [batch: 632 / 6311], examples_per_second: 3799.8636, train_label_loss: 0.0001, \n"
     ]
    },
    {
     "name": "stdout",
     "output_type": "stream",
     "text": [
      "epoch: 6, [batch: 1263 / 6311], examples_per_second: 3861.4769, train_label_loss: 0.0000, \n"
     ]
    },
    {
     "name": "stdout",
     "output_type": "stream",
     "text": [
      "epoch: 6, [batch: 1894 / 6311], examples_per_second: 3874.1124, train_label_loss: 0.0023, \n"
     ]
    },
    {
     "name": "stdout",
     "output_type": "stream",
     "text": [
      "epoch: 6, [batch: 2525 / 6311], examples_per_second: 3944.5814, train_label_loss: 0.0204, \n"
     ]
    },
    {
     "name": "stdout",
     "output_type": "stream",
     "text": [
      "epoch: 6, [batch: 3156 / 6311], examples_per_second: 3982.7239, train_label_loss: 0.0000, \n"
     ]
    },
    {
     "name": "stdout",
     "output_type": "stream",
     "text": [
      "epoch: 6, [batch: 3787 / 6311], examples_per_second: 4289.3621, train_label_loss: 0.0031, \n"
     ]
    },
    {
     "name": "stdout",
     "output_type": "stream",
     "text": [
      "epoch: 6, [batch: 4418 / 6311], examples_per_second: 4461.9055, train_label_loss: 0.0008, \n"
     ]
    },
    {
     "name": "stdout",
     "output_type": "stream",
     "text": [
      "epoch: 6, [batch: 5049 / 6311], examples_per_second: 4692.0278, train_label_loss: 0.0000, \n"
     ]
    },
    {
     "name": "stdout",
     "output_type": "stream",
     "text": [
      "epoch: 6, [batch: 5680 / 6311], examples_per_second: 4020.5682, train_label_loss: 0.0000, \n"
     ]
    },
    {
     "name": "stdout",
     "output_type": "stream",
     "text": [
      "=============================================================\n",
      "epoch: 6, source_val_acc_label: 0.9989, target_val_acc_label: 0.3416, source_val_label_loss: 0.0089, target_val_label_loss: 1.9235, \n",
      "=============================================================\n"
     ]
    },
    {
     "name": "stdout",
     "output_type": "stream",
     "text": [
      "New best\n"
     ]
    },
    {
     "name": "stdout",
     "output_type": "stream",
     "text": [
      "epoch: 7, [batch: 1 / 6310], examples_per_second: 4.0920, train_label_loss: 0.0000, \n"
     ]
    },
    {
     "name": "stdout",
     "output_type": "stream",
     "text": [
      "epoch: 7, [batch: 631 / 6310], examples_per_second: 3829.9090, train_label_loss: 0.0000, \n"
     ]
    },
    {
     "name": "stdout",
     "output_type": "stream",
     "text": [
      "epoch: 7, [batch: 1262 / 6310], examples_per_second: 3957.1646, train_label_loss: 0.0017, \n"
     ]
    },
    {
     "name": "stdout",
     "output_type": "stream",
     "text": [
      "epoch: 7, [batch: 1893 / 6310], examples_per_second: 3944.6776, train_label_loss: 0.0000, \n"
     ]
    },
    {
     "name": "stdout",
     "output_type": "stream",
     "text": [
      "epoch: 7, [batch: 2524 / 6310], examples_per_second: 3829.3970, train_label_loss: 0.0000, \n"
     ]
    },
    {
     "name": "stdout",
     "output_type": "stream",
     "text": [
      "epoch: 7, [batch: 3155 / 6310], examples_per_second: 3957.6914, train_label_loss: 0.0000, \n"
     ]
    },
    {
     "name": "stdout",
     "output_type": "stream",
     "text": [
      "epoch: 7, [batch: 3786 / 6310], examples_per_second: 4309.5652, train_label_loss: 0.0002, \n"
     ]
    },
    {
     "name": "stdout",
     "output_type": "stream",
     "text": [
      "epoch: 7, [batch: 4417 / 6310], examples_per_second: 4409.5902, train_label_loss: 0.0000, \n"
     ]
    },
    {
     "name": "stdout",
     "output_type": "stream",
     "text": [
      "epoch: 7, [batch: 5048 / 6310], examples_per_second: 4562.6619, train_label_loss: 0.0000, \n"
     ]
    },
    {
     "name": "stdout",
     "output_type": "stream",
     "text": [
      "epoch: 7, [batch: 5679 / 6310], examples_per_second: 3884.7198, train_label_loss: 0.0001, \n"
     ]
    },
    {
     "name": "stdout",
     "output_type": "stream",
     "text": [
      "=============================================================\n",
      "epoch: 7, source_val_acc_label: 0.9990, target_val_acc_label: 0.3604, source_val_label_loss: 0.0181, target_val_label_loss: 1.9017, \n",
      "=============================================================\n"
     ]
    },
    {
     "name": "stdout",
     "output_type": "stream",
     "text": [
      "New best\n"
     ]
    },
    {
     "name": "stdout",
     "output_type": "stream",
     "text": [
      "epoch: 8, [batch: 1 / 6331], examples_per_second: 4.1780, train_label_loss: 0.0000, \n"
     ]
    },
    {
     "name": "stdout",
     "output_type": "stream",
     "text": [
      "epoch: 8, [batch: 634 / 6331], examples_per_second: 3805.2997, train_label_loss: 0.0000, \n"
     ]
    },
    {
     "name": "stdout",
     "output_type": "stream",
     "text": [
      "epoch: 8, [batch: 1267 / 6331], examples_per_second: 3954.9057, train_label_loss: 0.0000, \n"
     ]
    },
    {
     "name": "stdout",
     "output_type": "stream",
     "text": [
      "epoch: 8, [batch: 1900 / 6331], examples_per_second: 3816.7256, train_label_loss: 0.0001, \n"
     ]
    },
    {
     "name": "stdout",
     "output_type": "stream",
     "text": [
      "epoch: 8, [batch: 2533 / 6331], examples_per_second: 3880.0231, train_label_loss: 0.0000, \n"
     ]
    },
    {
     "name": "stdout",
     "output_type": "stream",
     "text": [
      "epoch: 8, [batch: 3166 / 6331], examples_per_second: 3831.4440, train_label_loss: 0.0000, \n"
     ]
    },
    {
     "name": "stdout",
     "output_type": "stream",
     "text": [
      "epoch: 8, [batch: 3799 / 6331], examples_per_second: 4203.5883, train_label_loss: 0.0000, \n"
     ]
    },
    {
     "name": "stdout",
     "output_type": "stream",
     "text": [
      "epoch: 8, [batch: 4432 / 6331], examples_per_second: 4411.1541, train_label_loss: 0.0000, \n"
     ]
    },
    {
     "name": "stdout",
     "output_type": "stream",
     "text": [
      "epoch: 8, [batch: 5065 / 6331], examples_per_second: 4690.5146, train_label_loss: 0.0000, \n"
     ]
    },
    {
     "name": "stdout",
     "output_type": "stream",
     "text": [
      "epoch: 8, [batch: 5698 / 6331], examples_per_second: 3990.4714, train_label_loss: 0.0000, \n"
     ]
    },
    {
     "name": "stdout",
     "output_type": "stream",
     "text": [
      "=============================================================\n",
      "epoch: 8, source_val_acc_label: 0.9988, target_val_acc_label: 0.3340, source_val_label_loss: 0.0064, target_val_label_loss: 2.0856, \n",
      "=============================================================\n"
     ]
    },
    {
     "name": "stdout",
     "output_type": "stream",
     "text": [
      "epoch: 9, [batch: 1 / 6311], examples_per_second: 4.1298, train_label_loss: 0.0115, \n"
     ]
    },
    {
     "name": "stdout",
     "output_type": "stream",
     "text": [
      "epoch: 9, [batch: 632 / 6311], examples_per_second: 3788.3725, train_label_loss: 0.0000, \n"
     ]
    },
    {
     "name": "stdout",
     "output_type": "stream",
     "text": [
      "epoch: 9, [batch: 1263 / 6311], examples_per_second: 3898.6235, train_label_loss: 0.0000, \n"
     ]
    },
    {
     "name": "stdout",
     "output_type": "stream",
     "text": [
      "epoch: 9, [batch: 1894 / 6311], examples_per_second: 3980.1698, train_label_loss: 0.0000, \n"
     ]
    },
    {
     "name": "stdout",
     "output_type": "stream",
     "text": [
      "epoch: 9, [batch: 2525 / 6311], examples_per_second: 3919.3933, train_label_loss: 0.0000, \n"
     ]
    },
    {
     "name": "stdout",
     "output_type": "stream",
     "text": [
      "epoch: 9, [batch: 3156 / 6311], examples_per_second: 3865.5301, train_label_loss: 0.0000, \n"
     ]
    },
    {
     "name": "stdout",
     "output_type": "stream",
     "text": [
      "epoch: 9, [batch: 3787 / 6311], examples_per_second: 4199.5418, train_label_loss: 0.0000, \n"
     ]
    },
    {
     "name": "stdout",
     "output_type": "stream",
     "text": [
      "epoch: 9, [batch: 4418 / 6311], examples_per_second: 4501.8515, train_label_loss: 0.0000, \n"
     ]
    },
    {
     "name": "stdout",
     "output_type": "stream",
     "text": [
      "epoch: 9, [batch: 5049 / 6311], examples_per_second: 4519.5889, train_label_loss: 0.0001, \n"
     ]
    },
    {
     "name": "stdout",
     "output_type": "stream",
     "text": [
      "epoch: 9, [batch: 5680 / 6311], examples_per_second: 3830.5850, train_label_loss: 0.0000, \n"
     ]
    },
    {
     "name": "stdout",
     "output_type": "stream",
     "text": [
      "=============================================================\n",
      "epoch: 9, source_val_acc_label: 0.9993, target_val_acc_label: 0.3312, source_val_label_loss: 0.0051, target_val_label_loss: 2.2375, \n",
      "=============================================================\n"
     ]
    },
    {
     "name": "stdout",
     "output_type": "stream",
     "text": [
      "epoch: 10, [batch: 1 / 6309], examples_per_second: 4.1089, train_label_loss: 0.0000, \n"
     ]
    },
    {
     "name": "stdout",
     "output_type": "stream",
     "text": [
      "epoch: 10, [batch: 631 / 6309], examples_per_second: 3831.3411, train_label_loss: 0.0001, \n"
     ]
    },
    {
     "name": "stdout",
     "output_type": "stream",
     "text": [
      "epoch: 10, [batch: 1262 / 6309], examples_per_second: 3954.5355, train_label_loss: 0.0000, \n"
     ]
    },
    {
     "name": "stdout",
     "output_type": "stream",
     "text": [
      "epoch: 10, [batch: 1893 / 6309], examples_per_second: 3849.2002, train_label_loss: 0.0000, \n"
     ]
    },
    {
     "name": "stdout",
     "output_type": "stream",
     "text": [
      "epoch: 10, [batch: 2524 / 6309], examples_per_second: 3770.1618, train_label_loss: 0.0000, \n"
     ]
    },
    {
     "name": "stdout",
     "output_type": "stream",
     "text": [
      "epoch: 10, [batch: 3155 / 6309], examples_per_second: 3827.3310, train_label_loss: 0.0000, \n"
     ]
    },
    {
     "name": "stdout",
     "output_type": "stream",
     "text": [
      "epoch: 10, [batch: 3785 / 6309], examples_per_second: 4010.2412, train_label_loss: 0.0030, \n"
     ]
    },
    {
     "name": "stdout",
     "output_type": "stream",
     "text": [
      "epoch: 10, [batch: 4416 / 6309], examples_per_second: 4364.2951, train_label_loss: 0.0000, \n"
     ]
    },
    {
     "name": "stdout",
     "output_type": "stream",
     "text": [
      "epoch: 10, [batch: 5047 / 6309], examples_per_second: 4470.2183, train_label_loss: 0.0000, \n"
     ]
    },
    {
     "name": "stdout",
     "output_type": "stream",
     "text": [
      "epoch: 10, [batch: 5678 / 6309], examples_per_second: 4290.7692, train_label_loss: 0.0000, \n"
     ]
    },
    {
     "name": "stdout",
     "output_type": "stream",
     "text": [
      "=============================================================\n",
      "epoch: 10, source_val_acc_label: 0.9994, target_val_acc_label: 0.3495, source_val_label_loss: 0.0055, target_val_label_loss: 2.3819, \n",
      "=============================================================\n"
     ]
    },
    {
     "name": "stdout",
     "output_type": "stream",
     "text": [
      "epoch: 11, [batch: 1 / 6319], examples_per_second: 4.6090, train_label_loss: 0.0000, \n"
     ]
    },
    {
     "name": "stdout",
     "output_type": "stream",
     "text": [
      "epoch: 11, [batch: 632 / 6319], examples_per_second: 4118.8792, train_label_loss: 0.0000, \n"
     ]
    },
    {
     "name": "stdout",
     "output_type": "stream",
     "text": [
      "epoch: 11, [batch: 1264 / 6319], examples_per_second: 4296.0529, train_label_loss: 0.0000, \n"
     ]
    },
    {
     "name": "stdout",
     "output_type": "stream",
     "text": [
      "epoch: 11, [batch: 1896 / 6319], examples_per_second: 4974.7953, train_label_loss: 0.0000, \n"
     ]
    },
    {
     "name": "stdout",
     "output_type": "stream",
     "text": [
      "epoch: 11, [batch: 2528 / 6319], examples_per_second: 4909.9840, train_label_loss: 0.0000, \n"
     ]
    },
    {
     "name": "stdout",
     "output_type": "stream",
     "text": [
      "epoch: 11, [batch: 3160 / 6319], examples_per_second: 4889.3578, train_label_loss: 0.0417, \n"
     ]
    },
    {
     "name": "stdout",
     "output_type": "stream",
     "text": [
      "epoch: 11, [batch: 3791 / 6319], examples_per_second: 4906.9926, train_label_loss: 0.0000, \n"
     ]
    },
    {
     "name": "stdout",
     "output_type": "stream",
     "text": [
      "epoch: 11, [batch: 4423 / 6319], examples_per_second: 4785.4330, train_label_loss: 0.0013, \n"
     ]
    },
    {
     "name": "stdout",
     "output_type": "stream",
     "text": [
      "epoch: 11, [batch: 5055 / 6319], examples_per_second: 4936.3790, train_label_loss: 0.0000, \n"
     ]
    },
    {
     "name": "stdout",
     "output_type": "stream",
     "text": [
      "epoch: 11, [batch: 5687 / 6319], examples_per_second: 5119.7813, train_label_loss: 0.0000, \n"
     ]
    },
    {
     "name": "stdout",
     "output_type": "stream",
     "text": [
      "=============================================================\n",
      "epoch: 11, source_val_acc_label: 0.9993, target_val_acc_label: 0.3618, source_val_label_loss: 0.0050, target_val_label_loss: 2.1712, \n",
      "=============================================================\n"
     ]
    },
    {
     "name": "stdout",
     "output_type": "stream",
     "text": [
      "New best\n"
     ]
    },
    {
     "name": "stdout",
     "output_type": "stream",
     "text": [
      "epoch: 12, [batch: 1 / 6329], examples_per_second: 5.4757, train_label_loss: 0.0000, \n"
     ]
    },
    {
     "name": "stdout",
     "output_type": "stream",
     "text": [
      "epoch: 12, [batch: 633 / 6329], examples_per_second: 4755.8049, train_label_loss: 0.0000, \n"
     ]
    },
    {
     "name": "stdout",
     "output_type": "stream",
     "text": [
      "epoch: 12, [batch: 1266 / 6329], examples_per_second: 4902.7771, train_label_loss: 0.0000, \n"
     ]
    },
    {
     "name": "stdout",
     "output_type": "stream",
     "text": [
      "epoch: 12, [batch: 1899 / 6329], examples_per_second: 4979.7394, train_label_loss: 0.0000, \n"
     ]
    },
    {
     "name": "stdout",
     "output_type": "stream",
     "text": [
      "epoch: 12, [batch: 2532 / 6329], examples_per_second: 4776.1006, train_label_loss: 0.0000, \n"
     ]
    },
    {
     "name": "stdout",
     "output_type": "stream",
     "text": [
      "epoch: 12, [batch: 3165 / 6329], examples_per_second: 4979.6015, train_label_loss: 0.0000, \n"
     ]
    },
    {
     "name": "stdout",
     "output_type": "stream",
     "text": [
      "epoch: 12, [batch: 3797 / 6329], examples_per_second: 5106.5603, train_label_loss: 0.0000, \n"
     ]
    },
    {
     "name": "stdout",
     "output_type": "stream",
     "text": [
      "epoch: 12, [batch: 4430 / 6329], examples_per_second: 4922.9856, train_label_loss: 0.0000, \n"
     ]
    },
    {
     "name": "stdout",
     "output_type": "stream",
     "text": [
      "epoch: 12, [batch: 5063 / 6329], examples_per_second: 4195.3690, train_label_loss: 0.0000, \n"
     ]
    },
    {
     "name": "stdout",
     "output_type": "stream",
     "text": [
      "epoch: 12, [batch: 5696 / 6329], examples_per_second: 3882.8761, train_label_loss: 0.0000, \n"
     ]
    },
    {
     "name": "stdout",
     "output_type": "stream",
     "text": [
      "=============================================================\n",
      "epoch: 12, source_val_acc_label: 0.9995, target_val_acc_label: 0.3534, source_val_label_loss: 0.0056, target_val_label_loss: 2.4159, \n",
      "=============================================================\n"
     ]
    },
    {
     "name": "stdout",
     "output_type": "stream",
     "text": [
      "epoch: 13, [batch: 1 / 6336], examples_per_second: 4.1819, train_label_loss: 0.0000, \n"
     ]
    },
    {
     "name": "stdout",
     "output_type": "stream",
     "text": [
      "epoch: 13, [batch: 634 / 6336], examples_per_second: 3801.4460, train_label_loss: 0.0000, \n"
     ]
    },
    {
     "name": "stdout",
     "output_type": "stream",
     "text": [
      "epoch: 13, [batch: 1268 / 6336], examples_per_second: 3814.2846, train_label_loss: 0.0000, \n"
     ]
    },
    {
     "name": "stdout",
     "output_type": "stream",
     "text": [
      "epoch: 13, [batch: 1901 / 6336], examples_per_second: 3910.7038, train_label_loss: 0.0000, \n"
     ]
    },
    {
     "name": "stdout",
     "output_type": "stream",
     "text": [
      "epoch: 13, [batch: 2535 / 6336], examples_per_second: 3953.4543, train_label_loss: 0.0000, \n"
     ]
    },
    {
     "name": "stdout",
     "output_type": "stream",
     "text": [
      "epoch: 13, [batch: 3168 / 6336], examples_per_second: 3957.6940, train_label_loss: 0.0000, \n"
     ]
    },
    {
     "name": "stdout",
     "output_type": "stream",
     "text": [
      "epoch: 13, [batch: 3802 / 6336], examples_per_second: 4207.0646, train_label_loss: 0.0000, \n"
     ]
    },
    {
     "name": "stdout",
     "output_type": "stream",
     "text": [
      "epoch: 13, [batch: 4435 / 6336], examples_per_second: 4284.4364, train_label_loss: 0.0000, \n"
     ]
    },
    {
     "name": "stdout",
     "output_type": "stream",
     "text": [
      "epoch: 13, [batch: 5069 / 6336], examples_per_second: 4296.7072, train_label_loss: 0.0000, \n"
     ]
    },
    {
     "name": "stdout",
     "output_type": "stream",
     "text": [
      "epoch: 13, [batch: 5702 / 6336], examples_per_second: 3848.7184, train_label_loss: 0.0000, \n"
     ]
    },
    {
     "name": "stdout",
     "output_type": "stream",
     "text": [
      "=============================================================\n",
      "epoch: 13, source_val_acc_label: 0.9990, target_val_acc_label: 0.3068, source_val_label_loss: 0.0082, target_val_label_loss: 3.1187, \n",
      "=============================================================\n"
     ]
    },
    {
     "name": "stdout",
     "output_type": "stream",
     "text": [
      "epoch: 14, [batch: 1 / 6315], examples_per_second: 4.0750, train_label_loss: 0.0001, \n"
     ]
    },
    {
     "name": "stdout",
     "output_type": "stream",
     "text": [
      "epoch: 14, [batch: 632 / 6315], examples_per_second: 3841.9846, train_label_loss: 0.0000, \n"
     ]
    },
    {
     "name": "stdout",
     "output_type": "stream",
     "text": [
      "epoch: 14, [batch: 1263 / 6315], examples_per_second: 3872.1645, train_label_loss: 0.0208, \n"
     ]
    },
    {
     "name": "stdout",
     "output_type": "stream",
     "text": [
      "epoch: 14, [batch: 1895 / 6315], examples_per_second: 3967.2583, train_label_loss: 0.0000, \n"
     ]
    },
    {
     "name": "stdout",
     "output_type": "stream",
     "text": [
      "epoch: 14, [batch: 2526 / 6315], examples_per_second: 3868.4643, train_label_loss: 0.0000, \n"
     ]
    },
    {
     "name": "stdout",
     "output_type": "stream",
     "text": [
      "epoch: 14, [batch: 3158 / 6315], examples_per_second: 3867.7850, train_label_loss: 0.0000, \n"
     ]
    },
    {
     "name": "stdout",
     "output_type": "stream",
     "text": [
      "epoch: 14, [batch: 3789 / 6315], examples_per_second: 4085.0233, train_label_loss: 0.0000, \n"
     ]
    },
    {
     "name": "stdout",
     "output_type": "stream",
     "text": [
      "epoch: 14, [batch: 4420 / 6315], examples_per_second: 4328.0167, train_label_loss: 0.0183, \n"
     ]
    },
    {
     "name": "stdout",
     "output_type": "stream",
     "text": [
      "epoch: 14, [batch: 5052 / 6315], examples_per_second: 4366.4096, train_label_loss: 0.0000, \n"
     ]
    },
    {
     "name": "stdout",
     "output_type": "stream",
     "text": [
      "epoch: 14, [batch: 5683 / 6315], examples_per_second: 3949.6902, train_label_loss: 0.0000, \n"
     ]
    },
    {
     "name": "stdout",
     "output_type": "stream",
     "text": [
      "=============================================================\n",
      "epoch: 14, source_val_acc_label: 0.9992, target_val_acc_label: 0.3285, source_val_label_loss: 0.0076, target_val_label_loss: 2.7097, \n",
      "=============================================================\n"
     ]
    },
    {
     "name": "stdout",
     "output_type": "stream",
     "text": [
      "epoch: 15, [batch: 1 / 6320], examples_per_second: 4.1504, train_label_loss: 0.0031, \n"
     ]
    },
    {
     "name": "stdout",
     "output_type": "stream",
     "text": [
      "epoch: 15, [batch: 632 / 6320], examples_per_second: 3877.2590, train_label_loss: 0.0000, \n"
     ]
    },
    {
     "name": "stdout",
     "output_type": "stream",
     "text": [
      "epoch: 15, [batch: 1264 / 6320], examples_per_second: 3910.7271, train_label_loss: 0.0000, \n"
     ]
    },
    {
     "name": "stdout",
     "output_type": "stream",
     "text": [
      "epoch: 15, [batch: 1896 / 6320], examples_per_second: 3926.8421, train_label_loss: 0.0000, \n"
     ]
    },
    {
     "name": "stdout",
     "output_type": "stream",
     "text": [
      "epoch: 15, [batch: 2528 / 6320], examples_per_second: 3860.8095, train_label_loss: 0.0000, \n"
     ]
    },
    {
     "name": "stdout",
     "output_type": "stream",
     "text": [
      "epoch: 15, [batch: 3160 / 6320], examples_per_second: 3811.3768, train_label_loss: 0.0000, \n"
     ]
    },
    {
     "name": "stdout",
     "output_type": "stream",
     "text": [
      "epoch: 15, [batch: 3792 / 6320], examples_per_second: 4078.1511, train_label_loss: 0.0000, \n"
     ]
    },
    {
     "name": "stdout",
     "output_type": "stream",
     "text": [
      "epoch: 15, [batch: 4424 / 6320], examples_per_second: 4300.5305, train_label_loss: 0.0000, \n"
     ]
    },
    {
     "name": "stdout",
     "output_type": "stream",
     "text": [
      "epoch: 15, [batch: 5056 / 6320], examples_per_second: 4310.5048, train_label_loss: 0.0000, \n"
     ]
    },
    {
     "name": "stdout",
     "output_type": "stream",
     "text": [
      "epoch: 15, [batch: 5688 / 6320], examples_per_second: 3984.0983, train_label_loss: 0.0000, \n"
     ]
    },
    {
     "name": "stdout",
     "output_type": "stream",
     "text": [
      "=============================================================\n",
      "epoch: 15, source_val_acc_label: 0.9994, target_val_acc_label: 0.3444, source_val_label_loss: 0.0091, target_val_label_loss: 2.9509, \n",
      "=============================================================\n"
     ]
    },
    {
     "name": "stdout",
     "output_type": "stream",
     "text": [
      "Patience (3) exhausted\n"
     ]
    }
   ],
   "source": [
    "###################################\n",
    "# train\n",
    "###################################\n",
    "jig = PTN_Train_Eval_Test_Jig(model, p.BEST_MODEL_PATH, p.device)\n",
    "\n",
    "jig.train(\n",
    "    train_iterable=datasets.source.processed.train,\n",
    "    source_val_iterable=datasets.source.processed.val,\n",
    "    target_val_iterable=datasets.target.processed.val,\n",
    "    num_epochs=p.n_epoch,\n",
    "    num_logs_per_epoch=p.NUM_LOGS_PER_EPOCH,\n",
    "    patience=p.patience,\n",
    "    optimizer=optimizer,\n",
    "    criteria_for_best=p.criteria_for_best,\n",
    ")"
   ]
  },
  {
   "cell_type": "code",
   "execution_count": 23,
   "id": "31e8fabf",
   "metadata": {
    "execution": {
     "iopub.execute_input": "2022-03-28T15:39:57.821982Z",
     "iopub.status.busy": "2022-03-28T15:39:57.821615Z",
     "iopub.status.idle": "2022-03-28T15:39:57.855585Z",
     "shell.execute_reply": "2022-03-28T15:39:57.854729Z"
    },
    "papermill": {
     "duration": 0.107618,
     "end_time": "2022-03-28T15:39:57.855755",
     "exception": false,
     "start_time": "2022-03-28T15:39:57.748137",
     "status": "completed"
    },
    "tags": []
   },
   "outputs": [],
   "source": [
    "total_experiment_time_secs = time.time() - start_time_secs"
   ]
  },
  {
   "cell_type": "code",
   "execution_count": 24,
   "id": "87b9595b",
   "metadata": {
    "execution": {
     "iopub.execute_input": "2022-03-28T15:39:58.011440Z",
     "iopub.status.busy": "2022-03-28T15:39:58.010576Z",
     "iopub.status.idle": "2022-03-28T15:42:41.449929Z",
     "shell.execute_reply": "2022-03-28T15:42:41.450608Z"
    },
    "papermill": {
     "duration": 163.518432,
     "end_time": "2022-03-28T15:42:41.450828",
     "exception": false,
     "start_time": "2022-03-28T15:39:57.932396",
     "status": "completed"
    },
    "tags": []
   },
   "outputs": [],
   "source": [
    "###################################\n",
    "# Evaluate the model\n",
    "###################################\n",
    "source_test_label_accuracy, source_test_label_loss = jig.test(datasets.source.processed.test)\n",
    "target_test_label_accuracy, target_test_label_loss = jig.test(datasets.target.processed.test)\n",
    "\n",
    "source_val_label_accuracy, source_val_label_loss = jig.test(datasets.source.processed.val)\n",
    "target_val_label_accuracy, target_val_label_loss = jig.test(datasets.target.processed.val)\n",
    "\n",
    "history = jig.get_history()\n",
    "\n",
    "total_epochs_trained = len(history[\"epoch_indices\"])\n",
    "\n",
    "val_dl = Iterable_Aggregator((datasets.source.original.val,datasets.target.original.val))\n",
    "\n",
    "confusion = ptn_confusion_by_domain_over_dataloader(model, p.device, val_dl)\n",
    "per_domain_accuracy = per_domain_accuracy_from_confusion(confusion)\n",
    "\n",
    "# Add a key to per_domain_accuracy for if it was a source domain\n",
    "for domain, accuracy in per_domain_accuracy.items():\n",
    "    per_domain_accuracy[domain] = {\n",
    "        \"accuracy\": accuracy,\n",
    "        \"source?\": domain in p.domains_source\n",
    "    }\n",
    "\n",
    "# Do an independent accuracy assesment JUST TO BE SURE!\n",
    "# _source_test_label_accuracy = independent_accuracy_assesment(model, datasets.source.processed.test, p.device)\n",
    "# _target_test_label_accuracy = independent_accuracy_assesment(model, datasets.target.processed.test, p.device)\n",
    "# _source_val_label_accuracy = independent_accuracy_assesment(model, datasets.source.processed.val, p.device)\n",
    "# _target_val_label_accuracy = independent_accuracy_assesment(model, datasets.target.processed.val, p.device)\n",
    "\n",
    "# assert(_source_test_label_accuracy == source_test_label_accuracy)\n",
    "# assert(_target_test_label_accuracy == target_test_label_accuracy)\n",
    "# assert(_source_val_label_accuracy == source_val_label_accuracy)\n",
    "# assert(_target_val_label_accuracy == target_val_label_accuracy)\n",
    "\n",
    "experiment = {\n",
    "    \"experiment_name\": p.experiment_name,\n",
    "    \"parameters\": dict(p),\n",
    "    \"results\": {\n",
    "        \"source_test_label_accuracy\": source_test_label_accuracy,\n",
    "        \"source_test_label_loss\": source_test_label_loss,\n",
    "        \"target_test_label_accuracy\": target_test_label_accuracy,\n",
    "        \"target_test_label_loss\": target_test_label_loss,\n",
    "        \"source_val_label_accuracy\": source_val_label_accuracy,\n",
    "        \"source_val_label_loss\": source_val_label_loss,\n",
    "        \"target_val_label_accuracy\": target_val_label_accuracy,\n",
    "        \"target_val_label_loss\": target_val_label_loss,\n",
    "        \"total_epochs_trained\": total_epochs_trained,\n",
    "        \"total_experiment_time_secs\": total_experiment_time_secs,\n",
    "        \"confusion\": confusion,\n",
    "        \"per_domain_accuracy\": per_domain_accuracy,\n",
    "    },\n",
    "    \"history\": history,\n",
    "    \"dataset_metrics\": get_dataset_metrics(datasets, \"ptn\"),\n",
    "}"
   ]
  },
  {
   "cell_type": "code",
   "execution_count": 25,
   "id": "54a21829",
   "metadata": {
    "execution": {
     "iopub.execute_input": "2022-03-28T15:42:41.602708Z",
     "iopub.status.busy": "2022-03-28T15:42:41.602334Z",
     "iopub.status.idle": "2022-03-28T15:42:41.822822Z",
     "shell.execute_reply": "2022-03-28T15:42:41.823505Z"
    },
    "papermill": {
     "duration": 0.295471,
     "end_time": "2022-03-28T15:42:41.823742",
     "exception": false,
     "start_time": "2022-03-28T15:42:41.528271",
     "status": "completed"
    },
    "tags": []
   },
   "outputs": [
    {
     "data": {
      "image/png": "[encoded data removed]",
      "text/plain": [
       "<Figure size 1080x504 with 1 Axes>"
      ]
     },
     "metadata": {
      "needs_background": "light"
     },
     "output_type": "display_data"
    }
   ],
   "source": [
    "ax = get_loss_curve(experiment)\n",
    "plt.show()"
   ]
  },
  {
   "cell_type": "code",
   "execution_count": 26,
   "id": "fd8a0f60",
   "metadata": {
    "execution": {
     "iopub.execute_input": "2022-03-28T15:42:41.975546Z",
     "iopub.status.busy": "2022-03-28T15:42:41.975174Z",
     "iopub.status.idle": "2022-03-28T15:42:42.282304Z",
     "shell.execute_reply": "2022-03-28T15:42:42.282620Z"
    },
    "papermill": {
     "duration": 0.38139,
     "end_time": "2022-03-28T15:42:42.282758",
     "exception": false,
     "start_time": "2022-03-28T15:42:41.901368",
     "status": "completed"
    },
    "tags": []
   },
   "outputs": [
    {
     "data": {
      "text/plain": [
       "<AxesSubplot:title={'center':'Results'}>"
      ]
     },
     "execution_count": 26,
     "metadata": {},
     "output_type": "execute_result"
    },
    {
     "data": {
      "image/png": "[encoded data removed]",
      "text/plain": [
       "<Figure size 1080x504 with 1 Axes>"
      ]
     },
     "metadata": {
      "needs_background": "light"
     },
     "output_type": "display_data"
    }
   ],
   "source": [
    "get_results_table(experiment)"
   ]
  },
  {
   "cell_type": "code",
   "execution_count": 27,
   "id": "cf8dc689",
   "metadata": {
    "execution": {
     "iopub.execute_input": "2022-03-28T15:42:42.422451Z",
     "iopub.status.busy": "2022-03-28T15:42:42.422071Z",
     "iopub.status.idle": "2022-03-28T15:42:42.661566Z",
     "shell.execute_reply": "2022-03-28T15:42:42.662245Z"
    },
    "papermill": {
     "duration": 0.311136,
     "end_time": "2022-03-28T15:42:42.662430",
     "exception": false,
     "start_time": "2022-03-28T15:42:42.351294",
     "status": "completed"
    },
    "tags": []
   },
   "outputs": [
    {
     "data": {
      "text/plain": [
       "<AxesSubplot:title={'center':'Per Domain Validation Accuracy'}, xlabel='domain'>"
      ]
     },
     "execution_count": 27,
     "metadata": {},
     "output_type": "execute_result"
    },
    {
     "data": {
      "image/png": "[encoded data removed]",
      "text/plain": [
       "<Figure size 1080x504 with 1 Axes>"
      ]
     },
     "metadata": {
      "needs_background": "light"
     },
     "output_type": "display_data"
    }
   ],
   "source": [
    "get_domain_accuracies(experiment)"
   ]
  },
  {
   "cell_type": "code",
   "execution_count": 28,
   "id": "a74ae082",
   "metadata": {
    "execution": {
     "iopub.execute_input": "2022-03-28T15:42:42.818573Z",
     "iopub.status.busy": "2022-03-28T15:42:42.818201Z",
     "iopub.status.idle": "2022-03-28T15:42:42.844258Z",
     "shell.execute_reply": "2022-03-28T15:42:42.844938Z"
    },
    "papermill": {
     "duration": 0.103801,
     "end_time": "2022-03-28T15:42:42.845123",
     "exception": false,
     "start_time": "2022-03-28T15:42:42.741322",
     "status": "completed"
    },
    "tags": []
   },
   "outputs": [
    {
     "name": "stdout",
     "output_type": "stream",
     "text": [
      "Source Test Label Accuracy: 0.9993328651685394 Target Test Label Accuracy: 0.36324869791666664\n",
      "Source Val Label Accuracy: 0.9993214285714286 Target Val Label Accuracy: 0.36175130208333334\n"
     ]
    }
   ],
   "source": [
    "print(\"Source Test Label Accuracy:\", experiment[\"results\"][\"source_test_label_accuracy\"], \"Target Test Label Accuracy:\", experiment[\"results\"][\"target_test_label_accuracy\"])\n",
    "print(\"Source Val Label Accuracy:\", experiment[\"results\"][\"source_val_label_accuracy\"], \"Target Val Label Accuracy:\", experiment[\"results\"][\"target_val_label_accuracy\"])"
   ]
  },
  {
   "cell_type": "code",
   "execution_count": 29,
   "id": "dacca602",
   "metadata": {
    "execution": {
     "iopub.execute_input": "2022-03-28T15:42:43.002224Z",
     "iopub.status.busy": "2022-03-28T15:42:43.001861Z",
     "iopub.status.idle": "2022-03-28T15:42:43.029051Z",
     "shell.execute_reply": "2022-03-28T15:42:43.029754Z"
    },
    "papermill": {
     "duration": 0.10262,
     "end_time": "2022-03-28T15:42:43.029936",
     "exception": false,
     "start_time": "2022-03-28T15:42:42.927316",
     "status": "completed"
    },
    "tags": [
     "experiment_json"
    ]
   },
   "outputs": [
    {
     "data": {
      "text/plain": [
       "'{\"experiment_name\": \"tl_3-jitter5v2:cores -> oracle.run1.framed\", \"parameters\": {\"experiment_name\": \"tl_3-jitter5v2:cores -> oracle.run1.framed\", \"device\": \"cuda\", \"lr\": 0.0001, \"x_shape\": [2, 256], \"n_shot\": 3, \"n_query\": 2, \"train_k_factor\": 3, \"val_k_factor\": 2, \"test_k_factor\": 2, \"torch_default_dtype\": \"torch.float32\", \"n_epoch\": 50, \"patience\": 3, \"criteria_for_best\": \"target_accuracy\", \"x_net\": [{\"class\": \"nnReshape\", \"kargs\": {\"shape\": [-1, 1, 2, 256]}}, {\"class\": \"Conv2d\", \"kargs\": {\"in_channels\": 1, \"out_channels\": 256, \"kernel_size\": [1, 7], \"bias\": false, \"padding\": [0, 3]}}, {\"class\": \"ReLU\", \"kargs\": {\"inplace\": true}}, {\"class\": \"BatchNorm2d\", \"kargs\": {\"num_features\": 256}}, {\"class\": \"Conv2d\", \"kargs\": {\"in_channels\": 256, \"out_channels\": 80, \"kernel_size\": [2, 7], \"bias\": true, \"padding\": [0, 3]}}, {\"class\": \"ReLU\", \"kargs\": {\"inplace\": true}}, {\"class\": \"BatchNorm2d\", \"kargs\": {\"num_features\": 80}}, {\"class\": \"Flatten\", \"kargs\": {}}, {\"class\": \"Linear\", \"kargs\": {\"in_features\": 20480, \"out_features\": 256}}, {\"class\": \"ReLU\", \"kargs\": {\"inplace\": true}}, {\"class\": \"BatchNorm1d\", \"kargs\": {\"num_features\": 256}}, {\"class\": \"Linear\", \"kargs\": {\"in_features\": 256, \"out_features\": 256}}], \"NUM_LOGS_PER_EPOCH\": 10, \"BEST_MODEL_PATH\": \"./best_model.pth\", \"n_way\": 16, \"datasets\": [{\"labels\": [\"1-10.\", \"1-11.\", \"1-15.\", \"1-16.\", \"1-17.\", \"1-18.\", \"1-19.\", \"10-4.\", \"10-7.\", \"11-1.\", \"11-14.\", \"11-17.\", \"11-20.\", \"11-7.\", \"13-20.\", \"13-8.\", \"14-10.\", \"14-11.\", \"14-14.\", \"14-7.\", \"15-1.\", \"15-20.\", \"16-1.\", \"16-16.\", \"17-10.\", \"17-11.\", \"17-2.\", \"19-1.\", \"19-16.\", \"19-19.\", \"19-20.\", \"19-3.\", \"2-10.\", \"2-11.\", \"2-17.\", \"2-18.\", \"2-20.\", \"2-3.\", \"2-4.\", \"2-5.\", \"2-6.\", \"2-7.\", \"2-8.\", \"3-13.\", \"3-18.\", \"3-3.\", \"4-1.\", \"4-10.\", \"4-11.\", \"4-19.\", \"5-5.\", \"6-15.\", \"7-10.\", \"7-14.\", \"8-18.\", \"8-20.\", \"8-3.\", \"8-8.\"], \"domains\": [1, 2, 3, 4, 5], \"num_examples_per_domain_per_label\": -1, \"pickle_path\": \"/root/csc500-main/datasets/cores.stratified_ds.2022A.pkl\", \"source_or_target_dataset\": \"source\", \"x_transforms\": [\"unit_mag\", \"jitter_256_5\", \"lowpass_+/-10MHz\", \"take_200\"], \"episode_transforms\": [], \"domain_prefix\": \"C_\"}, {\"labels\": [\"3123D52\", \"3123D65\", \"3123D79\", \"3123D80\", \"3123D54\", \"3123D70\", \"3123D7B\", \"3123D89\", \"3123D58\", \"3123D76\", \"3123D7D\", \"3123EFE\", \"3123D64\", \"3123D78\", \"3123D7E\", \"3124E4A\"], \"domains\": [32, 38, 8, 44, 14, 50, 20, 26], \"num_examples_per_domain_per_label\": 2000, \"pickle_path\": \"/root/csc500-main/datasets/oracle.Run1_framed_2000Examples_stratified_ds.2022A.pkl\", \"source_or_target_dataset\": \"target\", \"x_transforms\": [\"unit_mag\", \"jitter_256_5\", \"take_200\", \"resample_20Msps_to_25Msps\"], \"episode_transforms\": [], \"domain_prefix\": \"O_\"}], \"seed\": 500, \"dataset_seed\": 500, \"domains_source\": [\"C_1\", \"C_2\", \"C_3\", \"C_4\", \"C_5\"], \"domains_target\": [\"O_32\", \"O_38\", \"O_8\", \"O_44\", \"O_14\", \"O_50\", \"O_20\", \"O_26\"]}, \"results\": {\"source_test_label_accuracy\": 0.9993328651685394, \"source_test_label_loss\": 0.00980367697775364, \"target_test_label_accuracy\": 0.36324869791666664, \"target_test_label_loss\": 2.151898145675659, \"source_val_label_accuracy\": 0.9993214285714286, \"source_val_label_loss\": 0.005031234119087458, \"target_val_label_accuracy\": 0.36175130208333334, \"target_val_label_loss\": 2.1711573600769043, \"total_epochs_trained\": 15, \"total_experiment_time_secs\": 2350.4793543815613, \"confusion\": {\"C_4\": {\"38\": {\"38\": 40}, \"3\": {\"3\": 124}, \"24\": {\"24\": 56}, \"49\": {\"49\": 20}, \"7\": {\"7\": 24}, \"17\": {\"17\": 80}, \"43\": {\"43\": 148}, \"30\": {\"30\": 44}, \"44\": {\"44\": 132}, \"23\": {\"23\": 144}, \"37\": {\"37\": 24}, \"4\": {\"4\": 132}, \"57\": {\"57\": 100}, \"16\": {\"16\": 96}, \"18\": {\"18\": 107, \"46\": 1}, \"20\": {\"20\": 124}, \"45\": {\"45\": 96}, \"15\": {\"15\": 132}, \"52\": {\"52\": 116}, \"19\": {\"19\": 140}, \"54\": {\"54\": 108}, \"56\": {\"56\": 130}, \"40\": {\"40\": 134}, \"28\": {\"28\": 32}, \"2\": {\"2\": 36}, \"9\": {\"9\": 120}, \"0\": {\"0\": 80}, \"36\": {\"36\": 92}, \"55\": {\"55\": 130}, \"35\": {\"35\": 40}, \"39\": {\"39\": 20}, \"31\": {\"31\": 28}, \"14\": {\"14\": 16}, \"12\": {\"12\": 92}, \"6\": {\"6\": 111, \"10\": 1}, \"26\": {\"26\": 24}, \"50\": {\"50\": 130, \"3\": 2}, \"21\": {\"21\": 122}, \"46\": {\"46\": 139, \"15\": 1}, \"51\": {\"51\": 140}, \"41\": {\"41\": 36}, \"34\": {\"34\": 24}, \"47\": {\"47\": 120}, \"5\": {\"5\": 105, \"15\": 2, \"23\": 1}, \"1\": {\"1\": 40}, \"48\": {\"48\": 134}, \"29\": {\"29\": 118}, \"22\": {\"22\": 128}, \"10\": {\"10\": 132}, \"32\": {\"32\": 24}, \"13\": {\"13\": 112}, \"42\": {\"42\": 32}, \"27\": {\"27\": 138}, \"8\": {\"8\": 142}, \"33\": {\"33\": 36}, \"25\": {\"25\": 132}, \"11\": {\"11\": 104}, \"53\": {\"53\": 112}}, \"C_2\": {\"32\": {\"32\": 28}, \"17\": {\"17\": 104}, \"38\": {\"38\": 20}, \"2\": {\"2\": 32}, \"43\": {\"43\": 144}, \"56\": {\"56\": 144}, \"37\": {\"37\": 36}, \"49\": {\"49\": 24}, \"0\": {\"0\": 48}, \"29\": {\"29\": 128}, \"35\": {\"35\": 32}, \"18\": {\"18\": 48}, \"25\": {\"25\": 136}, \"23\": {\"23\": 124}, \"15\": {\"15\": 146}, \"21\": {\"21\": 120}, \"51\": {\"51\": 128}, \"20\": {\"20\": 138}, \"7\": {\"7\": 36}, \"50\": {\"50\": 136}, \"31\": {\"31\": 28}, \"30\": {\"30\": 140}, \"19\": {\"19\": 156}, \"9\": {\"9\": 144}, \"52\": {\"52\": 124}, \"45\": {\"45\": 128}, \"8\": {\"8\": 154}, \"55\": {\"55\": 160}, \"12\": {\"12\": 92}, \"40\": {\"40\": 140}, \"28\": {\"28\": 28}, \"36\": {\"36\": 116}, \"39\": {\"39\": 28}, \"46\": {\"46\": 122}, \"14\": {\"14\": 24}, \"57\": {\"57\": 142}, \"34\": {\"34\": 28}, \"1\": {\"1\": 112}, \"53\": {\"53\": 136}, \"48\": {\"48\": 130}, \"3\": {\"3\": 92}, \"16\": {\"16\": 152}, \"6\": {\"6\": 124}, \"10\": {\"10\": 112}, \"13\": {\"13\": 116}, \"26\": {\"26\": 24}, \"24\": {\"24\": 96}, \"44\": {\"44\": 100}, \"27\": {\"27\": 150}, \"22\": {\"22\": 128}, \"33\": {\"33\": 28}, \"47\": {\"47\": 118}, \"5\": {\"5\": 120}, \"4\": {\"4\": 138}, \"41\": {\"41\": 20}, \"11\": {\"11\": 150}, \"54\": {\"54\": 108}, \"42\": {\"42\": 36}}, \"C_3\": {\"5\": {\"5\": 116}, \"32\": {\"32\": 28}, \"33\": {\"33\": 28}, \"49\": {\"49\": 20}, \"39\": {\"39\": 16}, \"11\": {\"11\": 142}, \"8\": {\"8\": 116}, \"26\": {\"26\": 24}, \"51\": {\"51\": 122}, \"4\": {\"4\": 146}, \"52\": {\"52\": 118}, \"47\": {\"47\": 92}, \"17\": {\"17\": 107, \"24\": 1}, \"53\": {\"53\": 136}, \"2\": {\"2\": 32}, \"12\": {\"12\": 92}, \"37\": {\"37\": 28}, \"9\": {\"9\": 148}, \"13\": {\"13\": 128}, \"54\": {\"54\": 100}, \"31\": {\"31\": 28}, \"34\": {\"34\": 32}, \"24\": {\"24\": 104}, \"7\": {\"7\": 36}, \"50\": {\"50\": 118}, \"46\": {\"46\": 128}, \"44\": {\"44\": 88}, \"40\": {\"40\": 116}, \"21\": {\"21\": 128}, \"45\": {\"45\": 60}, \"16\": {\"16\": 126}, \"14\": {\"14\": 40}, \"36\": {\"36\": 100}, \"56\": {\"56\": 114}, \"10\": {\"10\": 64}, \"18\": {\"18\": 84}, \"48\": {\"48\": 116}, \"38\": {\"38\": 28}, \"27\": {\"27\": 130}, \"42\": {\"42\": 28}, \"15\": {\"15\": 134}, \"1\": {\"1\": 100}, \"28\": {\"28\": 28}, \"43\": {\"43\": 136}, \"0\": {\"0\": 124}, \"57\": {\"57\": 124}, \"3\": {\"3\": 148}, \"29\": {\"29\": 124}, \"41\": {\"41\": 28}, \"25\": {\"25\": 146}, \"6\": {\"6\": 87, \"52\": 1}, \"35\": {\"35\": 28}, \"20\": {\"20\": 126}, \"23\": {\"23\": 134}, \"22\": {\"22\": 140}, \"19\": {\"19\": 116}, \"55\": {\"55\": 124}, \"30\": {\"30\": 120}}, \"C_1\": {\"24\": {\"24\": 108}, \"25\": {\"25\": 140}, \"45\": {\"45\": 144}, \"42\": {\"42\": 40}, \"2\": {\"2\": 36}, \"9\": {\"9\": 150}, \"21\": {\"21\": 124}, \"26\": {\"26\": 24}, \"49\": {\"49\": 32}, \"39\": {\"39\": 28}, \"46\": {\"46\": 135, \"20\": 1}, \"17\": {\"17\": 64}, \"19\": {\"19\": 156}, \"23\": {\"23\": 132}, \"1\": {\"1\": 100}, \"29\": {\"29\": 140}, \"56\": {\"56\": 150}, \"37\": {\"37\": 32}, \"33\": {\"33\": 32}, \"55\": {\"55\": 142}, \"30\": {\"30\": 120}, \"0\": {\"0\": 152}, \"36\": {\"36\": 64}, \"32\": {\"32\": 32}, \"31\": {\"31\": 28}, \"15\": {\"15\": 138}, \"12\": {\"12\": 116}, \"38\": {\"38\": 24}, \"40\": {\"40\": 146}, \"14\": {\"14\": 24}, \"13\": {\"13\": 150}, \"48\": {\"48\": 148}, \"34\": {\"34\": 24}, \"44\": {\"44\": 130}, \"5\": {\"5\": 152}, \"11\": {\"11\": 140}, \"7\": {\"7\": 28}, \"18\": {\"18\": 72}, \"52\": {\"52\": 132}, \"51\": {\"51\": 142}, \"41\": {\"41\": 24}, \"16\": {\"16\": 140}, \"22\": {\"22\": 134}, \"3\": {\"3\": 139, \"36\": 1}, \"54\": {\"54\": 104}, \"27\": {\"27\": 144}, \"20\": {\"20\": 140}, \"8\": {\"8\": 138}, \"50\": {\"50\": 144}, \"57\": {\"57\": 140}, \"4\": {\"4\": 132}, \"47\": {\"47\": 146}, \"10\": {\"10\": 96}, \"35\": {\"35\": 36}, \"53\": {\"53\": 126}, \"6\": {\"6\": 95, \"8\": 1}, \"43\": {\"43\": 140}, \"28\": {\"28\": 28}}, \"C_5\": {\"35\": {\"35\": 36}, \"57\": {\"57\": 132}, \"20\": {\"20\": 144}, \"12\": {\"12\": 96}, \"32\": {\"32\": 32}, \"25\": {\"25\": 138}, \"44\": {\"44\": 148}, \"31\": {\"31\": 36}, \"11\": {\"11\": 150}, \"47\": {\"47\": 100}, \"23\": {\"23\": 124}, \"43\": {\"43\": 144}, \"37\": {\"37\": 24}, \"5\": {\"5\": 128}, \"45\": {\"45\": 122, \"17\": 2}, \"7\": {\"7\": 32}, \"13\": {\"13\": 136}, \"49\": {\"49\": 36}, \"46\": {\"46\": 148}, \"16\": {\"16\": 136}, \"54\": {\"54\": 112}, \"19\": {\"19\": 152}, \"55\": {\"55\": 150}, \"30\": {\"30\": 128}, \"34\": {\"34\": 36}, \"50\": {\"50\": 134}, \"3\": {\"3\": 100}, \"10\": {\"10\": 68}, \"27\": {\"27\": 141, \"32\": 1}, \"33\": {\"33\": 32}, \"56\": {\"56\": 142}, \"9\": {\"9\": 150}, \"14\": {\"14\": 44}, \"4\": {\"4\": 100}, \"42\": {\"42\": 40}, \"24\": {\"24\": 80}, \"39\": {\"39\": 20}, \"52\": {\"52\": 130}, \"2\": {\"2\": 28}, \"28\": {\"28\": 32}, \"53\": {\"53\": 122}, \"17\": {\"17\": 116}, \"29\": {\"29\": 132}, \"38\": {\"38\": 32}, \"15\": {\"15\": 144}, \"26\": {\"26\": 24}, \"21\": {\"21\": 144}, \"41\": {\"41\": 28}, \"48\": {\"48\": 136}, \"22\": {\"22\": 28}, \"8\": {\"8\": 147, \"18\": 1}, \"18\": {\"18\": 64}, \"0\": {\"0\": 122}, \"1\": {\"1\": 138}, \"40\": {\"40\": 124}, \"6\": {\"6\": 126, \"17\": 1, \"50\": 1}, \"51\": {\"51\": 142}, \"36\": {\"36\": 92}}, \"O_50\": {\"7\": {\"4\": 13, \"10\": 32, \"7\": 73, \"5\": 39, \"13\": 55, \"8\": 12, \"6\": 12, \"15\": 3, \"0\": 1}, \"10\": {\"10\": 86, \"13\": 23, \"1\": 1, \"8\": 50, \"7\": 26, \"2\": 2, \"0\": 21, \"5\": 26, \"3\": 1, \"4\": 1, \"6\": 3}, \"0\": {\"2\": 49, \"6\": 5, \"10\": 41, \"0\": 109, \"14\": 5, \"8\": 7, \"5\": 7, \"13\": 8, \"1\": 7, \"4\": 1, \"7\": 1}, \"11\": {\"11\": 96, \"9\": 62, \"4\": 5, \"14\": 18, \"15\": 34, \"1\": 13, \"12\": 11, \"2\": 1}, \"2\": {\"2\": 133, \"0\": 80, \"6\": 3, \"1\": 5, \"4\": 3, \"10\": 5, \"11\": 1, \"5\": 1, \"14\": 8, \"13\": 1}, \"14\": {\"9\": 30, \"14\": 115, \"1\": 7, \"12\": 39, \"11\": 29, \"2\": 17, \"15\": 3}, \"9\": {\"14\": 23, \"9\": 112, \"11\": 55, \"12\": 42, \"15\": 7, \"4\": 1}, \"13\": {\"6\": 22, \"13\": 65, \"7\": 45, \"4\": 22, \"5\": 45, \"10\": 21, \"2\": 4, \"1\": 8, \"0\": 3, \"15\": 3, \"8\": 2}, \"8\": {\"8\": 154, \"3\": 42, \"10\": 34, \"7\": 4, \"13\": 1, \"0\": 4, \"5\": 1}, \"15\": {\"11\": 25, \"9\": 4, \"15\": 81, \"6\": 44, \"1\": 39, \"14\": 7, \"4\": 27, \"5\": 8, \"13\": 3, \"7\": 1, \"2\": 1}, \"4\": {\"4\": 43, \"15\": 42, \"0\": 5, \"13\": 18, \"6\": 27, \"7\": 16, \"1\": 44, \"10\": 4, \"5\": 29, \"14\": 2, \"11\": 7, \"9\": 2, \"2\": 1}, \"5\": {\"7\": 45, \"13\": 48, \"10\": 26, \"11\": 2, \"5\": 54, \"6\": 12, \"4\": 28, \"1\": 8, \"2\": 3, \"8\": 4, \"0\": 6, \"15\": 4}, \"3\": {\"3\": 194, \"8\": 40, \"7\": 5, \"10\": 1}, \"1\": {\"13\": 11, \"1\": 65, \"15\": 55, \"4\": 30, \"9\": 2, \"0\": 6, \"7\": 2, \"6\": 26, \"14\": 3, \"5\": 15, \"2\": 6, \"11\": 17, \"10\": 2}, \"6\": {\"6\": 75, \"7\": 15, \"4\": 29, \"15\": 29, \"13\": 34, \"1\": 32, \"5\": 10, \"0\": 4, \"11\": 3, \"2\": 3, \"10\": 4, \"14\": 2}, \"12\": {\"9\": 45, \"14\": 56, \"12\": 127, \"11\": 11, \"1\": 1}}, \"O_14\": {\"14\": {\"6\": 42, \"2\": 33, \"10\": 8, \"13\": 36, \"14\": 57, \"4\": 13, \"5\": 12, \"3\": 14, \"0\": 17, \"15\": 1, \"11\": 5, \"1\": 1, \"7\": 1}, \"6\": {\"14\": 38, \"2\": 28, \"6\": 74, \"13\": 48, \"10\": 11, \"5\": 8, \"3\": 9, \"15\": 6, \"4\": 14, \"0\": 2, \"1\": 1, \"7\": 1}, \"5\": {\"7\": 10, \"14\": 12, \"4\": 34, \"1\": 37, \"15\": 19, \"3\": 27, \"2\": 31, \"5\": 51, \"6\": 8, \"8\": 3, \"13\": 3, \"0\": 3, \"9\": 1, \"10\": 1}, \"15\": {\"15\": 132, \"7\": 61, \"1\": 11, \"4\": 10, \"5\": 12, \"2\": 11, \"14\": 1, \"13\": 1, \"3\": 1}, \"11\": {\"11\": 145, \"10\": 13, \"9\": 29, \"12\": 10, \"13\": 2, \"14\": 10, \"0\": 28, \"3\": 2, \"4\": 1}, \"8\": {\"0\": 7, \"8\": 161, \"1\": 27, \"9\": 12, \"7\": 2, \"5\": 10, \"3\": 14, \"4\": 5, \"10\": 1, \"2\": 1}, \"12\": {\"12\": 177, \"9\": 54, \"11\": 9}, \"1\": {\"1\": 107, \"7\": 19, \"4\": 20, \"5\": 42, \"3\": 19, \"2\": 17, \"8\": 10, \"15\": 4, \"6\": 1, \"14\": 1}, \"2\": {\"14\": 29, \"2\": 65, \"4\": 26, \"15\": 9, \"5\": 30, \"10\": 3, \"3\": 14, \"1\": 13, \"7\": 8, \"13\": 18, \"6\": 21, \"9\": 2, \"0\": 1, \"8\": 1}, \"13\": {\"13\": 77, \"14\": 37, \"6\": 57, \"10\": 7, \"15\": 3, \"3\": 5, \"1\": 2, \"0\": 4, \"2\": 32, \"4\": 11, \"11\": 1, \"5\": 4}, \"3\": {\"0\": 27, \"5\": 26, \"14\": 23, \"8\": 3, \"4\": 41, \"3\": 59, \"2\": 15, \"7\": 3, \"15\": 1, \"11\": 1, \"6\": 8, \"10\": 16, \"13\": 4, \"1\": 13}, \"0\": {\"6\": 6, \"3\": 25, \"10\": 38, \"11\": 37, \"14\": 19, \"8\": 6, \"0\": 62, \"4\": 16, \"9\": 16, \"1\": 1, \"13\": 7, \"2\": 6, \"5\": 1}, \"9\": {\"9\": 130, \"12\": 56, \"11\": 23, \"0\": 13, \"8\": 10, \"10\": 8}, \"4\": {\"10\": 9, \"14\": 5, \"4\": 54, \"3\": 44, \"0\": 13, \"5\": 42, \"8\": 3, \"13\": 9, \"1\": 19, \"2\": 25, \"6\": 10, \"15\": 6, \"7\": 1}, \"7\": {\"15\": 54, \"7\": 146, \"4\": 3, \"1\": 13, \"5\": 16, \"2\": 5, \"8\": 1, \"3\": 1, \"6\": 1}, \"10\": {\"0\": 41, \"10\": 122, \"14\": 10, \"4\": 9, \"3\": 12, \"13\": 9, \"11\": 16, \"8\": 2, \"6\": 11, \"9\": 5, \"5\": 1, \"2\": 2}}, \"O_32\": {\"4\": {\"4\": 57, \"2\": 66, \"8\": 9, \"7\": 26, \"5\": 25, \"14\": 11, \"0\": 23, \"13\": 16, \"9\": 1, \"15\": 1, \"3\": 3, \"11\": 2}, \"14\": {\"11\": 59, \"13\": 21, \"0\": 24, \"14\": 50, \"7\": 26, \"2\": 11, \"5\": 14, \"3\": 12, \"8\": 10, \"4\": 13}, \"5\": {\"7\": 27, \"13\": 35, \"5\": 54, \"4\": 32, \"14\": 20, \"11\": 8, \"8\": 18, \"3\": 32, \"0\": 6, \"2\": 8}, \"10\": {\"10\": 202, \"12\": 6, \"6\": 6, \"1\": 26}, \"13\": {\"3\": 35, \"7\": 14, \"11\": 21, \"13\": 43, \"5\": 30, \"4\": 13, \"0\": 15, \"2\": 23, \"8\": 26, \"14\": 18, \"15\": 2}, \"9\": {\"9\": 203, \"12\": 23, \"2\": 6, \"4\": 3, \"0\": 4, \"6\": 1}, \"6\": {\"6\": 220, \"10\": 6, \"12\": 13, \"1\": 1}, \"3\": {\"3\": 126, \"14\": 10, \"5\": 21, \"11\": 20, \"8\": 14, \"13\": 30, \"7\": 10, \"4\": 7, \"0\": 1, \"15\": 1}, \"15\": {\"15\": 224, \"8\": 11, \"5\": 2, \"13\": 1, \"3\": 2}, \"7\": {\"7\": 51, \"5\": 22, \"14\": 36, \"3\": 11, \"4\": 25, \"8\": 8, \"0\": 9, \"2\": 24, \"13\": 23, \"11\": 31}, \"12\": {\"12\": 204, \"9\": 24, \"6\": 9, \"10\": 3}, \"8\": {\"0\": 39, \"3\": 16, \"7\": 15, \"5\": 17, \"8\": 69, \"15\": 11, \"11\": 7, \"4\": 18, \"13\": 28, \"2\": 6, \"14\": 14}, \"11\": {\"11\": 92, \"7\": 23, \"14\": 62, \"13\": 11, \"4\": 7, \"3\": 19, \"5\": 13, \"8\": 6, \"2\": 5, \"0\": 2}, \"2\": {\"4\": 55, \"2\": 83, \"14\": 7, \"7\": 26, \"0\": 34, \"5\": 10, \"9\": 2, \"13\": 10, \"8\": 6, \"11\": 6, \"3\": 1}, \"1\": {\"10\": 43, \"1\": 197}, \"0\": {\"0\": 90, \"11\": 9, \"4\": 25, \"14\": 19, \"13\": 15, \"2\": 31, \"8\": 26, \"7\": 15, \"3\": 1, \"5\": 7, \"15\": 1, \"9\": 1}}, \"O_44\": {\"8\": {\"15\": 31, \"8\": 99, \"0\": 80, \"5\": 28, \"14\": 2}, \"11\": {\"11\": 158, \"6\": 25, \"13\": 33, \"7\": 6, \"9\": 12, \"2\": 2, \"4\": 3, \"14\": 1}, \"14\": {\"14\": 77, \"0\": 18, \"15\": 37, \"4\": 71, \"5\": 25, \"9\": 3, \"13\": 3, \"8\": 3, \"11\": 2, \"7\": 1}, \"10\": {\"1\": 39, \"12\": 50, \"10\": 89, \"7\": 5, \"2\": 46, \"3\": 10, \"9\": 1}, \"3\": {\"3\": 115, \"1\": 43, \"2\": 16, \"7\": 10, \"10\": 15, \"12\": 36, \"14\": 1, \"9\": 4}, \"15\": {\"14\": 29, \"0\": 35, \"15\": 85, \"4\": 22, \"8\": 43, \"5\": 26}, \"2\": {\"7\": 55, \"10\": 42, \"2\": 69, \"12\": 8, \"1\": 17, \"9\": 28, \"13\": 3, \"3\": 12, \"6\": 6}, \"12\": {\"3\": 28, \"1\": 62, \"12\": 90, \"10\": 51, \"2\": 8, \"7\": 1}, \"4\": {\"4\": 110, \"15\": 26, \"0\": 5, \"5\": 16, \"14\": 63, \"9\": 5, \"13\": 12, \"7\": 1, \"8\": 1, \"6\": 1}, \"1\": {\"12\": 65, \"3\": 42, \"1\": 56, \"2\": 27, \"10\": 33, \"7\": 14, \"9\": 2, \"13\": 1}, \"0\": {\"5\": 37, \"0\": 81, \"15\": 43, \"8\": 65, \"14\": 10, \"4\": 4}, \"9\": {\"6\": 30, \"9\": 63, \"2\": 24, \"7\": 61, \"13\": 39, \"1\": 5, \"10\": 2, \"3\": 7, \"4\": 5, \"11\": 3, \"14\": 1}, \"5\": {\"14\": 24, \"5\": 105, \"0\": 48, \"15\": 26, \"8\": 23, \"4\": 14}, \"6\": {\"13\": 66, \"11\": 16, \"6\": 82, \"7\": 26, \"9\": 36, \"2\": 12, \"4\": 2}, \"7\": {\"10\": 7, \"7\": 71, \"6\": 18, \"9\": 42, \"2\": 65, \"3\": 10, \"1\": 8, \"12\": 3, \"13\": 12, \"4\": 1, \"11\": 2, \"14\": 1}, \"13\": {\"9\": 49, \"11\": 36, \"4\": 9, \"13\": 75, \"6\": 43, \"7\": 19, \"14\": 4, \"2\": 5}}, \"O_8\": {\"13\": {\"8\": 6, \"4\": 24, \"13\": 40, \"7\": 23, \"5\": 14, \"10\": 30, \"0\": 30, \"2\": 4, \"1\": 9, \"6\": 24, \"14\": 26, \"15\": 6, \"11\": 2, \"12\": 2}, \"3\": {\"14\": 1, \"15\": 27, \"12\": 40, \"2\": 54, \"8\": 2, \"3\": 96, \"0\": 4, \"6\": 3, \"4\": 1, \"13\": 2, \"7\": 10}, \"15\": {\"12\": 55, \"15\": 50, \"0\": 4, \"3\": 29, \"8\": 40, \"4\": 8, \"6\": 8, \"14\": 6, \"7\": 14, \"13\": 6, \"2\": 19, \"10\": 1}, \"4\": {\"13\": 22, \"6\": 27, \"0\": 30, \"7\": 30, \"14\": 27, \"10\": 28, \"12\": 6, \"5\": 14, \"4\": 25, \"8\": 10, \"1\": 5, \"3\": 3, \"11\": 6, \"2\": 3, \"15\": 4}, \"7\": {\"14\": 19, \"8\": 12, \"0\": 31, \"7\": 34, \"6\": 31, \"12\": 9, \"15\": 17, \"2\": 18, \"13\": 20, \"4\": 25, \"10\": 11, \"3\": 11, \"1\": 2}, \"2\": {\"2\": 76, \"3\": 65, \"12\": 29, \"15\": 25, \"6\": 12, \"7\": 15, \"8\": 3, \"13\": 5, \"0\": 7, \"4\": 3}, \"1\": {\"15\": 4, \"11\": 39, \"8\": 23, \"1\": 54, \"0\": 3, \"14\": 26, \"4\": 14, \"5\": 35, \"6\": 12, \"12\": 1, \"10\": 24, \"13\": 4, \"7\": 1}, \"0\": {\"11\": 1, \"0\": 39, \"7\": 36, \"13\": 32, \"10\": 23, \"2\": 11, \"4\": 24, \"8\": 5, \"3\": 7, \"14\": 14, \"5\": 6, \"6\": 31, \"1\": 3, \"12\": 3, \"15\": 5}, \"12\": {\"15\": 41, \"12\": 68, \"2\": 30, \"6\": 7, \"7\": 11, \"3\": 43, \"8\": 28, \"4\": 8, \"10\": 1, \"14\": 2, \"11\": 1}, \"6\": {\"0\": 29, \"8\": 13, \"6\": 29, \"12\": 9, \"2\": 8, \"7\": 38, \"11\": 2, \"4\": 31, \"5\": 5, \"10\": 12, \"3\": 7, \"15\": 11, \"14\": 19, \"13\": 21, \"1\": 6}, \"11\": {\"11\": 89, \"6\": 11, \"10\": 8, \"5\": 19, \"1\": 67, \"8\": 25, \"14\": 9, \"4\": 9, \"15\": 1, \"13\": 1, \"12\": 1}, \"9\": {\"9\": 235, \"13\": 1, \"5\": 4}, \"5\": {\"1\": 39, \"5\": 71, \"10\": 30, \"13\": 11, \"14\": 38, \"0\": 9, \"11\": 19, \"6\": 5, \"4\": 12, \"8\": 3, \"7\": 1, \"9\": 1, \"12\": 1}, \"10\": {\"10\": 44, \"5\": 34, \"13\": 29, \"1\": 13, \"4\": 29, \"0\": 19, \"6\": 15, \"8\": 10, \"7\": 10, \"14\": 32, \"11\": 2, \"2\": 1, \"15\": 1, \"12\": 1}, \"14\": {\"11\": 20, \"10\": 24, \"7\": 10, \"13\": 15, \"5\": 23, \"0\": 21, \"14\": 39, \"8\": 11, \"6\": 18, \"1\": 22, \"4\": 32, \"2\": 2, \"15\": 2, \"12\": 1}, \"8\": {\"8\": 61, \"7\": 9, \"6\": 20, \"15\": 26, \"14\": 13, \"12\": 33, \"1\": 22, \"4\": 14, \"11\": 18, \"10\": 5, \"2\": 4, \"13\": 5, \"3\": 7, \"0\": 3}}, \"O_20\": {\"6\": {\"6\": 71, \"4\": 8, \"8\": 38, \"10\": 18, \"14\": 46, \"5\": 2, \"11\": 18, \"3\": 4, \"7\": 17, \"12\": 3, \"2\": 4, \"9\": 8, \"0\": 2, \"13\": 1}, \"11\": {\"11\": 146, \"7\": 23, \"13\": 25, \"9\": 9, \"6\": 17, \"0\": 2, \"10\": 4, \"12\": 1, \"2\": 2, \"8\": 4, \"14\": 2, \"5\": 1, \"3\": 2, \"4\": 1, \"15\": 1}, \"5\": {\"2\": 12, \"3\": 22, \"1\": 22, \"9\": 14, \"5\": 34, \"4\": 16, \"12\": 23, \"0\": 35, \"8\": 12, \"13\": 7, \"15\": 20, \"7\": 15, \"10\": 7, \"11\": 1}, \"14\": {\"14\": 57, \"10\": 34, \"4\": 27, \"6\": 48, \"7\": 9, \"9\": 3, \"8\": 39, \"5\": 3, \"2\": 4, \"3\": 4, \"11\": 5, \"0\": 3, \"12\": 2, \"1\": 2}, \"2\": {\"7\": 24, \"14\": 2, \"9\": 22, \"12\": 22, \"15\": 17, \"1\": 20, \"4\": 11, \"5\": 20, \"3\": 20, \"10\": 8, \"13\": 21, \"2\": 20, \"8\": 7, \"6\": 6, \"0\": 8, \"11\": 12}, \"7\": {\"12\": 16, \"7\": 28, \"13\": 12, \"3\": 13, \"15\": 12, \"5\": 13, \"6\": 19, \"4\": 7, \"11\": 14, \"0\": 13, \"9\": 20, \"1\": 11, \"2\": 29, \"14\": 7, \"10\": 12, \"8\": 14}, \"3\": {\"10\": 18, \"3\": 33, \"13\": 7, \"12\": 22, \"5\": 20, \"1\": 22, \"2\": 16, \"4\": 21, \"9\": 15, \"7\": 15, \"8\": 7, \"15\": 14, \"6\": 6, \"14\": 6, \"0\": 15, \"11\": 3}, \"4\": {\"10\": 34, \"1\": 15, \"6\": 9, \"15\": 6, \"8\": 31, \"4\": 45, \"2\": 8, \"14\": 9, \"5\": 22, \"3\": 18, \"9\": 4, \"0\": 17, \"7\": 13, \"12\": 9}, \"9\": {\"3\": 23, \"4\": 8, \"2\": 13, \"15\": 23, \"9\": 30, \"1\": 27, \"12\": 21, \"5\": 17, \"6\": 10, \"7\": 20, \"11\": 7, \"0\": 6, \"13\": 14, \"10\": 13, \"8\": 8}, \"12\": {\"2\": 17, \"10\": 9, \"4\": 16, \"5\": 31, \"13\": 15, \"1\": 22, \"7\": 10, \"12\": 33, \"9\": 21, \"15\": 18, \"3\": 16, \"0\": 19, \"8\": 7, \"11\": 2, \"14\": 3, \"6\": 1}, \"0\": {\"9\": 10, \"15\": 26, \"5\": 30, \"10\": 11, \"0\": 42, \"11\": 2, \"12\": 12, \"3\": 17, \"2\": 13, \"1\": 20, \"8\": 21, \"4\": 16, \"13\": 6, \"7\": 5, \"14\": 6, \"6\": 3}, \"10\": {\"9\": 15, \"10\": 47, \"8\": 25, \"7\": 13, \"6\": 15, \"4\": 40, \"12\": 15, \"14\": 32, \"11\": 2, \"2\": 8, \"3\": 13, \"1\": 7, \"15\": 3, \"0\": 2, \"5\": 3}, \"8\": {\"0\": 19, \"4\": 38, \"7\": 10, \"9\": 4, \"8\": 43, \"10\": 18, \"3\": 14, \"6\": 28, \"12\": 9, \"5\": 11, \"14\": 30, \"11\": 3, \"2\": 9, \"15\": 3, \"13\": 1}, \"13\": {\"11\": 20, \"8\": 3, \"6\": 7, \"13\": 50, \"15\": 34, \"9\": 17, \"4\": 2, \"5\": 15, \"7\": 20, \"1\": 16, \"2\": 25, \"0\": 9, \"12\": 16, \"3\": 5, \"14\": 1}, \"1\": {\"1\": 36, \"15\": 25, \"14\": 3, \"5\": 25, \"12\": 34, \"9\": 23, \"0\": 24, \"2\": 21, \"3\": 17, \"13\": 12, \"8\": 3, \"7\": 8, \"4\": 5, \"10\": 4}, \"15\": {\"7\": 10, \"15\": 43, \"5\": 21, \"1\": 28, \"6\": 2, \"2\": 17, \"4\": 7, \"12\": 22, \"9\": 20, \"3\": 18, \"10\": 5, \"13\": 15, \"11\": 2, \"0\": 22, \"8\": 8}}, \"O_38\": {\"3\": {\"3\": 151, \"6\": 15, \"0\": 19, \"1\": 1, \"9\": 40, \"7\": 9, \"8\": 2, \"5\": 3}, \"8\": {\"5\": 35, \"8\": 62, \"0\": 44, \"10\": 14, \"6\": 8, \"7\": 29, \"15\": 28, \"13\": 11, \"1\": 5, \"9\": 4}, \"0\": {\"0\": 72, \"8\": 55, \"7\": 38, \"4\": 4, \"12\": 2, \"6\": 3, \"9\": 10, \"3\": 14, \"5\": 19, \"15\": 9, \"10\": 7, \"13\": 4, \"1\": 3}, \"2\": {\"14\": 36, \"2\": 132, \"15\": 8, \"10\": 15, \"11\": 16, \"1\": 2, \"13\": 28, \"8\": 3}, \"4\": {\"12\": 69, \"4\": 162, \"11\": 1, \"10\": 3, \"7\": 2, \"0\": 2, \"14\": 1}, \"7\": {\"3\": 2, \"8\": 39, \"7\": 103, \"9\": 8, \"5\": 27, \"0\": 38, \"15\": 3, \"10\": 7, \"6\": 7, \"4\": 3, \"13\": 2, \"12\": 1}, \"12\": {\"12\": 182, \"4\": 48, \"14\": 3, \"8\": 1, \"10\": 3, \"0\": 2, \"11\": 1}, \"6\": {\"6\": 112, \"1\": 6, \"5\": 18, \"9\": 81, \"8\": 5, \"7\": 3, \"3\": 10, \"13\": 3, \"0\": 2}, \"15\": {\"15\": 75, \"8\": 23, \"10\": 18, \"5\": 17, \"6\": 4, \"1\": 40, \"13\": 44, \"2\": 13, \"0\": 4, \"9\": 1, \"7\": 1}, \"11\": {\"14\": 83, \"11\": 92, \"10\": 10, \"2\": 40, \"12\": 11, \"13\": 1, \"15\": 1, \"1\": 1, \"4\": 1}, \"9\": {\"9\": 97, \"6\": 88, \"8\": 2, \"5\": 13, \"1\": 8, \"3\": 28, \"7\": 1, \"0\": 3}, \"14\": {\"11\": 51, \"14\": 134, \"10\": 15, \"12\": 14, \"2\": 22, \"13\": 2, \"15\": 1, \"8\": 1}, \"10\": {\"10\": 84, \"14\": 19, \"8\": 26, \"11\": 13, \"1\": 3, \"13\": 25, \"15\": 15, \"2\": 15, \"5\": 10, \"7\": 10, \"12\": 12, \"4\": 6, \"0\": 2}, \"5\": {\"8\": 41, \"5\": 53, \"0\": 28, \"7\": 25, \"9\": 18, \"6\": 15, \"15\": 23, \"1\": 13, \"13\": 10, \"10\": 6, \"3\": 8}, \"1\": {\"1\": 132, \"5\": 14, \"15\": 40, \"6\": 12, \"13\": 22, \"8\": 8, \"9\": 8, \"0\": 3, \"2\": 1}, \"13\": {\"10\": 19, \"13\": 81, \"8\": 12, \"5\": 8, \"15\": 54, \"1\": 21, \"2\": 31, \"0\": 6, \"14\": 3, \"11\": 2, \"9\": 1, \"7\": 1, \"6\": 1}}, \"O_26\": {\"5\": {\"13\": 33, \"5\": 44, \"9\": 18, \"2\": 21, \"7\": 17, \"3\": 20, \"15\": 27, \"6\": 8, \"1\": 7, \"4\": 4, \"10\": 17, \"8\": 15, \"14\": 6, \"0\": 3}, \"8\": {\"13\": 13, \"15\": 13, \"7\": 15, \"4\": 18, \"10\": 32, \"14\": 15, \"3\": 13, \"6\": 20, \"1\": 11, \"8\": 30, \"0\": 23, \"2\": 10, \"9\": 14, \"5\": 12, \"12\": 1}, \"4\": {\"7\": 24, \"4\": 35, \"3\": 21, \"9\": 15, \"1\": 31, \"8\": 11, \"6\": 10, \"0\": 17, \"14\": 34, \"2\": 9, \"5\": 4, \"10\": 26, \"15\": 2, \"13\": 1}, \"12\": {\"12\": 198, \"9\": 4, \"1\": 3, \"6\": 12, \"10\": 2, \"11\": 12, \"8\": 1, \"14\": 2, \"13\": 1, \"0\": 3, \"15\": 1, \"5\": 1}, \"6\": {\"13\": 11, \"6\": 51, \"15\": 24, \"12\": 10, \"4\": 12, \"9\": 27, \"0\": 21, \"7\": 9, \"10\": 23, \"14\": 8, \"8\": 18, \"2\": 10, \"3\": 4, \"5\": 7, \"11\": 2, \"1\": 3}, \"7\": {\"10\": 10, \"3\": 30, \"9\": 21, \"7\": 35, \"5\": 14, \"4\": 18, \"2\": 31, \"6\": 8, \"8\": 24, \"0\": 15, \"15\": 14, \"14\": 14, \"1\": 5, \"13\": 1}, \"10\": {\"14\": 34, \"1\": 18, \"9\": 15, \"6\": 28, \"15\": 11, \"8\": 16, \"7\": 12, \"0\": 22, \"10\": 32, \"4\": 23, \"13\": 6, \"2\": 8, \"12\": 4, \"3\": 4, \"5\": 7}, \"0\": {\"4\": 24, \"0\": 35, \"9\": 17, \"14\": 30, \"7\": 16, \"10\": 31, \"8\": 18, \"1\": 15, \"6\": 19, \"3\": 13, \"15\": 6, \"5\": 8, \"2\": 4, \"12\": 3, \"13\": 1}, \"15\": {\"14\": 4, \"9\": 26, \"15\": 36, \"6\": 24, \"5\": 33, \"8\": 18, \"10\": 10, \"2\": 21, \"13\": 29, \"3\": 13, \"4\": 4, \"0\": 12, \"11\": 1, \"7\": 7, \"1\": 2}, \"9\": {\"9\": 35, \"6\": 32, \"5\": 25, \"10\": 24, \"13\": 8, \"3\": 13, \"7\": 10, \"1\": 7, \"4\": 11, \"15\": 21, \"8\": 19, \"2\": 13, \"0\": 13, \"12\": 3, \"14\": 6}, \"11\": {\"11\": 207, \"12\": 26, \"13\": 4, \"6\": 2, \"5\": 1}, \"14\": {\"7\": 17, \"15\": 5, \"5\": 5, \"0\": 28, \"8\": 16, \"1\": 31, \"4\": 27, \"10\": 25, \"6\": 11, \"9\": 12, \"14\": 39, \"12\": 2, \"2\": 10, \"3\": 9, \"13\": 3}, \"2\": {\"15\": 13, \"8\": 12, \"0\": 12, \"9\": 18, \"3\": 43, \"5\": 28, \"7\": 26, \"2\": 39, \"4\": 9, \"13\": 13, \"6\": 13, \"14\": 4, \"10\": 6, \"1\": 4}, \"13\": {\"13\": 56, \"5\": 39, \"11\": 6, \"15\": 39, \"2\": 23, \"3\": 10, \"10\": 7, \"8\": 11, \"9\": 19, \"6\": 13, \"4\": 1, \"7\": 9, \"14\": 1, \"1\": 3, \"0\": 3}, \"3\": {\"0\": 12, \"3\": 61, \"8\": 16, \"4\": 16, \"1\": 6, \"9\": 13, \"7\": 21, \"10\": 5, \"15\": 9, \"2\": 45, \"5\": 14, \"6\": 9, \"14\": 7, \"13\": 6}, \"1\": {\"14\": 35, \"1\": 57, \"3\": 12, \"5\": 5, \"7\": 21, \"8\": 12, \"4\": 34, \"10\": 17, \"0\": 24, \"15\": 4, \"9\": 8, \"2\": 5, \"6\": 5, \"13\": 1}}}, \"per_domain_accuracy\": {\"C_4\": {\"accuracy\": 0.9984848484848485, \"source?\": true}, \"C_2\": {\"accuracy\": 1.0, \"source?\": true}, \"C_3\": {\"accuracy\": 0.9996279761904762, \"source?\": true}, \"C_1\": {\"accuracy\": 0.9994932432432433, \"source?\": true}, \"C_5\": {\"accuracy\": 0.9989525139664804, \"source?\": true}, \"O_50\": {\"accuracy\": 0.4119791666666667, \"source?\": false}, \"O_14\": {\"accuracy\": 0.42161458333333335, \"source?\": false}, \"O_32\": {\"accuracy\": 0.51171875, \"source?\": false}, \"O_44\": {\"accuracy\": 0.37109375, \"source?\": false}, \"O_8\": {\"accuracy\": 0.2734375, \"source?\": false}, \"O_20\": {\"accuracy\": 0.19739583333333333, \"source?\": false}, \"O_38\": {\"accuracy\": 0.44895833333333335, \"source?\": false}, \"O_26\": {\"accuracy\": 0.2578125, \"source?\": false}}}, \"history\": {\"epoch_indices\": [1, 2, 3, 4, 5, 6, 7, 8, 9, 10, 11, 12, 13, 14, 15], \"train_label_loss\": [0.04404365912170625, 0.042983143111269925, 0.009658419423596675, 0.008119824044718098, 0.007037882417913, 0.004483797243371891, 0.003621796507105289, 0.0028521342993592033, 0.003923093263286186, 0.0018326635219058287, 0.0022382650921236565, 0.0015430138223413927, 0.0019805372268654744, 0.0027386963274469395, 0.0010539062040502045], \"source_val_label_loss\": [0.03666658699512482, 0.020706841722130775, 0.00883755087852478, 0.006914217956364155, 0.0068187229335308075, 0.008936001919209957, 0.018149374052882195, 0.006367138586938381, 0.005063511431217194, 0.005472474731504917, 0.005031234119087458, 0.00557962991297245, 0.008178675547242165, 0.007627560757100582, 0.009067364037036896], \"target_val_label_loss\": [1.9276511669158936, 2.4649972915649414, 2.0386393070220947, 2.0396487712860107, 1.9723834991455078, 1.9234782457351685, 1.901719093322754, 2.085638999938965, 2.2375142574310303, 2.3819305896759033, 2.1711573600769043, 2.4158616065979004, 3.1186931133270264, 2.709667921066284, 2.950882911682129], \"source_val_acc_label\": [0.9963928571428572, 0.9955357142857143, 0.9979642857142857, 0.9988214285714285, 0.9987142857142857, 0.9989285714285714, 0.9989642857142857, 0.9988214285714285, 0.9993214285714286, 0.9993928571428572, 0.9993214285714286, 0.9994642857142857, 0.9990357142857142, 0.99925, 0.9994285714285714], \"target_val_acc_label\": [0.3321614583333333, 0.282421875, 0.33551432291666666, 0.34130859375, 0.33346354166666664, 0.34156901041666665, 0.36041666666666666, 0.33404947916666666, 0.33115234375, 0.34954427083333334, 0.36175130208333334, 0.3533854166666667, 0.3068033854166667, 0.32854817708333334, 0.34443359375]}, \"dataset_metrics\": {\"source\": {\"train\": {\"n_unique_x\": 175191, \"n_unique_y\": 58, \"n_batch/episode\": 6305}, \"val\": {\"n_unique_x\": 37166, \"n_unique_y\": 58, \"n_batch/episode\": 875}, \"test\": {\"n_unique_x\": 37642, \"n_unique_y\": 58, \"n_batch/episode\": 890}}, \"target\": {\"train\": {\"n_unique_x\": 179200, \"n_unique_y\": 16, \"n_batch/episode\": 6720}, \"val\": {\"n_unique_x\": 38400, \"n_unique_y\": 16, \"n_batch/episode\": 960}, \"test\": {\"n_unique_x\": 38400, \"n_unique_y\": 16, \"n_batch/episode\": 960}}}}'"
      ]
     },
     "execution_count": 29,
     "metadata": {},
     "output_type": "execute_result"
    }
   ],
   "source": [
    "json.dumps(experiment)"
   ]
  }
 ],
 "metadata": {
  "celltoolbar": "Tags",
  "kernelspec": {
   "display_name": "Python 3 (ipykernel)",
   "language": "python",
   "name": "python3"
  },
  "language_info": {
   "codemirror_mode": {
    "name": "ipython",
    "version": 3
   },
   "file_extension": ".py",
   "mimetype": "text/x-python",
   "name": "python",
   "nbconvert_exporter": "python",
   "pygments_lexer": "ipython3",
   "version": "3.8.12"
  },
  "papermill": {
   "default_parameters": {},
   "duration": 2521.493282,
   "end_time": "2022-03-28T15:42:45.330890",
   "environment_variables": {},
   "exception": null,
   "input_path": "/root/csc500-main/csc500-notebooks/templates/tl_ptn_template.ipynb",
   "output_path": "trial.ipynb",
   "parameters": {
    "parameters": {
     "BEST_MODEL_PATH": "./best_model.pth",
     "NUM_LOGS_PER_EPOCH": 10,
     "criteria_for_best": "target_accuracy",
     "dataset_seed": 500,
     "datasets": [
      {
       "domain_prefix": "C_",
       "domains": [
        1,
        2,
        3,
        4,
        5
       ],
       "episode_transforms": [],
       "labels": [
        "1-10.",
        "1-11.",
        "1-15.",
        "1-16.",
        "1-17.",
        "1-18.",
        "1-19.",
        "10-4.",
        "10-7.",
        "11-1.",
        "11-14.",
        "11-17.",
        "11-20.",
        "11-7.",
        "13-20.",
        "13-8.",
        "14-10.",
        "14-11.",
        "14-14.",
        "14-7.",
        "15-1.",
        "15-20.",
        "16-1.",
        "16-16.",
        "17-10.",
        "17-11.",
        "17-2.",
        "19-1.",
        "19-16.",
        "19-19.",
        "19-20.",
        "19-3.",
        "2-10.",
        "2-11.",
        "2-17.",
        "2-18.",
        "2-20.",
        "2-3.",
        "2-4.",
        "2-5.",
        "2-6.",
        "2-7.",
        "2-8.",
        "3-13.",
        "3-18.",
        "3-3.",
        "4-1.",
        "4-10.",
        "4-11.",
        "4-19.",
        "5-5.",
        "6-15.",
        "7-10.",
        "7-14.",
        "8-18.",
        "8-20.",
        "8-3.",
        "8-8."
       ],
       "num_examples_per_domain_per_label": -1,
       "pickle_path": "/root/csc500-main/datasets/cores.stratified_ds.2022A.pkl",
       "source_or_target_dataset": "source",
       "x_transforms": [
        "unit_mag",
        "jitter_256_5",
        "lowpass_+/-10MHz",
        "take_200"
       ]
      },
      {
       "domain_prefix": "O_",
       "domains": [
        32,
        38,
        8,
        44,
        14,
        50,
        20,
        26
       ],
       "episode_transforms": [],
       "labels": [
        "3123D52",
        "3123D65",
        "3123D79",
        "3123D80",
        "3123D54",
        "3123D70",
        "3123D7B",
        "3123D89",
        "3123D58",
        "3123D76",
        "3123D7D",
        "3123EFE",
        "3123D64",
        "3123D78",
        "3123D7E",
        "3124E4A"
       ],
       "num_examples_per_domain_per_label": 2000,
       "pickle_path": "/root/csc500-main/datasets/oracle.Run1_framed_2000Examples_stratified_ds.2022A.pkl",
       "source_or_target_dataset": "target",
       "x_transforms": [
        "unit_mag",
        "jitter_256_5",
        "take_200",
        "resample_20Msps_to_25Msps"
       ]
      }
     ],
     "device": "cuda",
     "experiment_name": "tl_3-jitter5v2:cores -> oracle.run1.framed",
     "lr": 0.0001,
     "n_epoch": 50,
     "n_query": 2,
     "n_shot": 3,
     "n_way": 16,
     "patience": 3,
     "seed": 500,
     "test_k_factor": 2,
     "torch_default_dtype": "torch.float32",
     "train_k_factor": 3,
     "val_k_factor": 2,
     "x_net": [
      {
       "class": "nnReshape",
       "kargs": {
        "shape": [
         -1,
         1,
         2,
         256
        ]
       }
      },
      {
       "class": "Conv2d",
       "kargs": {
        "bias": false,
        "in_channels": 1,
        "kernel_size": [
         1,
         7
        ],
        "out_channels": 256,
        "padding": [
         0,
         3
        ]
       }
      },
      {
       "class": "ReLU",
       "kargs": {
        "inplace": true
       }
      },
      {
       "class": "BatchNorm2d",
       "kargs": {
        "num_features": 256
       }
      },
      {
       "class": "Conv2d",
       "kargs": {
        "bias": true,
        "in_channels": 256,
        "kernel_size": [
         2,
         7
        ],
        "out_channels": 80,
        "padding": [
         0,
         3
        ]
       }
      },
      {
       "class": "ReLU",
       "kargs": {
        "inplace": true
       }
      },
      {
       "class": "BatchNorm2d",
       "kargs": {
        "num_features": 80
       }
      },
      {
       "class": "Flatten",
       "kargs": {}
      },
      {
       "class": "Linear",
       "kargs": {
        "in_features": 20480,
        "out_features": 256
       }
      },
      {
       "class": "ReLU",
       "kargs": {
        "inplace": true
       }
      },
      {
       "class": "BatchNorm1d",
       "kargs": {
        "num_features": 256
       }
      },
      {
       "class": "Linear",
       "kargs": {
        "in_features": 256,
        "out_features": 256
       }
      }
     ],
     "x_shape": [
      2,
      256
     ]
    }
   },
   "start_time": "2022-03-28T15:00:43.837608",
   "version": "2.3.4"
  }
 },
 "nbformat": 4,
 "nbformat_minor": 5
}