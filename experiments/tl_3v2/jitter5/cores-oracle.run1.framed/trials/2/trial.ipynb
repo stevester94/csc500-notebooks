{
 "cells": [
  {
   "cell_type": "markdown",
   "id": "9fea5f46",
   "metadata": {
    "papermill": {
     "duration": 0.029875,
     "end_time": "2022-03-28T12:27:35.919203",
     "exception": false,
     "start_time": "2022-03-28T12:27:35.889328",
     "status": "completed"
    },
    "tags": []
   },
   "source": [
    "# Transfer Learning Template"
   ]
  },
  {
   "cell_type": "code",
   "execution_count": 1,
   "id": "0902182a",
   "metadata": {
    "execution": {
     "iopub.execute_input": "2022-03-28T12:27:35.981978Z",
     "iopub.status.busy": "2022-03-28T12:27:35.981103Z",
     "iopub.status.idle": "2022-03-28T12:27:37.818696Z",
     "shell.execute_reply": "2022-03-28T12:27:37.817802Z"
    },
    "papermill": {
     "duration": 1.875875,
     "end_time": "2022-03-28T12:27:37.818891",
     "exception": false,
     "start_time": "2022-03-28T12:27:35.943016",
     "status": "completed"
    },
    "tags": []
   },
   "outputs": [],
   "source": [
    "%load_ext autoreload\n",
    "%autoreload 2\n",
    "%matplotlib inline\n",
    "\n",
    "    \n",
    "import os, json, sys, time, random\n",
    "import numpy as np\n",
    "import torch\n",
    "from torch.optim import Adam\n",
    "from  easydict import EasyDict\n",
    "import matplotlib.pyplot as plt\n",
    "\n",
    "from steves_models.steves_ptn import Steves_Prototypical_Network\n",
    "\n",
    "from steves_utils.lazy_iterable_wrapper import Lazy_Iterable_Wrapper\n",
    "from steves_utils.iterable_aggregator import Iterable_Aggregator\n",
    "from steves_utils.ptn_train_eval_test_jig import  PTN_Train_Eval_Test_Jig\n",
    "from steves_utils.torch_sequential_builder import build_sequential\n",
    "from steves_utils.torch_utils import get_dataset_metrics, ptn_confusion_by_domain_over_dataloader\n",
    "from steves_utils.utils_v2 import (per_domain_accuracy_from_confusion, get_datasets_base_path)\n",
    "from steves_utils.PTN.utils import independent_accuracy_assesment\n",
    "\n",
    "from torch.utils.data import DataLoader\n",
    "\n",
    "from steves_utils.stratified_dataset.episodic_accessor import Episodic_Accessor_Factory\n",
    "\n",
    "from steves_utils.ptn_do_report import (\n",
    "    get_loss_curve,\n",
    "    get_results_table,\n",
    "    get_parameters_table,\n",
    "    get_domain_accuracies,\n",
    ")\n",
    "\n",
    "from steves_utils.transforms import get_chained_transform"
   ]
  },
  {
   "cell_type": "markdown",
   "id": "41c840b4",
   "metadata": {
    "papermill": {
     "duration": 0.019437,
     "end_time": "2022-03-28T12:27:37.866051",
     "exception": false,
     "start_time": "2022-03-28T12:27:37.846614",
     "status": "completed"
    },
    "tags": []
   },
   "source": [
    "# Allowed Parameters\n",
    "These are allowed parameters, not defaults\n",
    "Each of these values need to be present in the injected parameters (the notebook will raise an exception if they are not present)\n",
    "\n",
    "Papermill uses the cell tag \"parameters\" to inject the real parameters below this cell.\n",
    "Enable tags to see what I mean"
   ]
  },
  {
   "cell_type": "code",
   "execution_count": 2,
   "id": "fd44eb83",
   "metadata": {
    "execution": {
     "iopub.execute_input": "2022-03-28T12:27:37.910315Z",
     "iopub.status.busy": "2022-03-28T12:27:37.909730Z",
     "iopub.status.idle": "2022-03-28T12:27:37.932577Z",
     "shell.execute_reply": "2022-03-28T12:27:37.931744Z"
    },
    "papermill": {
     "duration": 0.0473,
     "end_time": "2022-03-28T12:27:37.932738",
     "exception": false,
     "start_time": "2022-03-28T12:27:37.885438",
     "status": "completed"
    },
    "tags": []
   },
   "outputs": [],
   "source": [
    "required_parameters = {\n",
    "    \"experiment_name\",\n",
    "    \"lr\",\n",
    "    \"device\",\n",
    "    \"seed\",\n",
    "    \"dataset_seed\",\n",
    "    \"n_shot\",\n",
    "    \"n_query\",\n",
    "    \"n_way\",\n",
    "    \"train_k_factor\",\n",
    "    \"val_k_factor\",\n",
    "    \"test_k_factor\",\n",
    "    \"n_epoch\",\n",
    "    \"patience\",\n",
    "    \"criteria_for_best\",\n",
    "    \"x_net\",\n",
    "    \"datasets\",\n",
    "    \"torch_default_dtype\",\n",
    "    \"NUM_LOGS_PER_EPOCH\",\n",
    "    \"BEST_MODEL_PATH\",\n",
    "    \"x_shape\",\n",
    "}"
   ]
  },
  {
   "cell_type": "code",
   "execution_count": 3,
   "id": "fa3f0049",
   "metadata": {
    "execution": {
     "iopub.execute_input": "2022-03-28T12:27:37.996837Z",
     "iopub.status.busy": "2022-03-28T12:27:37.995907Z",
     "iopub.status.idle": "2022-03-28T12:27:38.015571Z",
     "shell.execute_reply": "2022-03-28T12:27:38.014712Z"
    },
    "papermill": {
     "duration": 0.054278,
     "end_time": "2022-03-28T12:27:38.015734",
     "exception": false,
     "start_time": "2022-03-28T12:27:37.961456",
     "status": "completed"
    },
    "tags": [
     "parameters"
    ]
   },
   "outputs": [],
   "source": [
    "from steves_utils.CORES.utils import (\n",
    "    ALL_NODES,\n",
    "    ALL_NODES_MINIMUM_1000_EXAMPLES,\n",
    "    ALL_DAYS\n",
    ")\n",
    "\n",
    "from steves_utils.ORACLE.utils_v2 import (\n",
    "    ALL_DISTANCES_FEET_NARROWED,\n",
    "    ALL_RUNS,\n",
    "    ALL_SERIAL_NUMBERS,\n",
    ")\n",
    "\n",
    "standalone_parameters = {}\n",
    "standalone_parameters[\"experiment_name\"] = \"STANDALONE PTN\"\n",
    "standalone_parameters[\"lr\"] = 0.001\n",
    "standalone_parameters[\"device\"] = \"cuda\"\n",
    "\n",
    "standalone_parameters[\"seed\"] = 1337\n",
    "standalone_parameters[\"dataset_seed\"] = 1337\n",
    "\n",
    "standalone_parameters[\"n_way\"] = 8\n",
    "standalone_parameters[\"n_shot\"] = 3\n",
    "standalone_parameters[\"n_query\"]  = 2\n",
    "standalone_parameters[\"train_k_factor\"] = 1\n",
    "standalone_parameters[\"val_k_factor\"] = 2\n",
    "standalone_parameters[\"test_k_factor\"] = 2\n",
    "\n",
    "\n",
    "standalone_parameters[\"n_epoch\"] = 50\n",
    "\n",
    "standalone_parameters[\"patience\"] = 10\n",
    "standalone_parameters[\"criteria_for_best\"] = \"source_loss\"\n",
    "\n",
    "standalone_parameters[\"datasets\"] = [\n",
    "    {\n",
    "        \"labels\": ALL_SERIAL_NUMBERS,\n",
    "        \"domains\": ALL_DISTANCES_FEET_NARROWED,\n",
    "        \"num_examples_per_domain_per_label\": 100,\n",
    "        \"pickle_path\": os.path.join(get_datasets_base_path(), \"oracle.Run1_framed_2000Examples_stratified_ds.2022A.pkl\"),\n",
    "        \"source_or_target_dataset\": \"source\",\n",
    "        \"x_transforms\": [\"unit_mag\", \"minus_two\"],\n",
    "        \"episode_transforms\": [],\n",
    "        \"domain_prefix\": \"ORACLE_\"\n",
    "    },\n",
    "    {\n",
    "        \"labels\": ALL_NODES,\n",
    "        \"domains\": ALL_DAYS,\n",
    "        \"num_examples_per_domain_per_label\": 100,\n",
    "        \"pickle_path\": os.path.join(get_datasets_base_path(), \"cores.stratified_ds.2022A.pkl\"),\n",
    "        \"source_or_target_dataset\": \"target\",\n",
    "        \"x_transforms\": [\"unit_power\", \"times_zero\"],\n",
    "        \"episode_transforms\": [],\n",
    "        \"domain_prefix\": \"CORES_\"\n",
    "    }   \n",
    "]\n",
    "\n",
    "standalone_parameters[\"torch_default_dtype\"] = \"torch.float32\" \n",
    "\n",
    "\n",
    "\n",
    "standalone_parameters[\"x_net\"] =     [\n",
    "    {\"class\": \"nnReshape\", \"kargs\": {\"shape\":[-1, 1, 2, 256]}},\n",
    "    {\"class\": \"Conv2d\", \"kargs\": { \"in_channels\":1, \"out_channels\":256, \"kernel_size\":(1,7), \"bias\":False, \"padding\":(0,3), },},\n",
    "    {\"class\": \"ReLU\", \"kargs\": {\"inplace\": True}},\n",
    "    {\"class\": \"BatchNorm2d\", \"kargs\": {\"num_features\":256}},\n",
    "\n",
    "    {\"class\": \"Conv2d\", \"kargs\": { \"in_channels\":256, \"out_channels\":80, \"kernel_size\":(2,7), \"bias\":True, \"padding\":(0,3), },},\n",
    "    {\"class\": \"ReLU\", \"kargs\": {\"inplace\": True}},\n",
    "    {\"class\": \"BatchNorm2d\", \"kargs\": {\"num_features\":80}},\n",
    "    {\"class\": \"Flatten\", \"kargs\": {}},\n",
    "\n",
    "    {\"class\": \"Linear\", \"kargs\": {\"in_features\": 80*256, \"out_features\": 256}}, # 80 units per IQ pair\n",
    "    {\"class\": \"ReLU\", \"kargs\": {\"inplace\": True}},\n",
    "    {\"class\": \"BatchNorm1d\", \"kargs\": {\"num_features\":256}},\n",
    "\n",
    "    {\"class\": \"Linear\", \"kargs\": {\"in_features\": 256, \"out_features\": 256}},\n",
    "]\n",
    "\n",
    "# Parameters relevant to results\n",
    "# These parameters will basically never need to change\n",
    "standalone_parameters[\"NUM_LOGS_PER_EPOCH\"] = 10\n",
    "standalone_parameters[\"BEST_MODEL_PATH\"] = \"./best_model.pth\"\n",
    "\n",
    "\n",
    "\n",
    "\n"
   ]
  },
  {
   "cell_type": "code",
   "execution_count": 4,
   "id": "bddfdf1e",
   "metadata": {
    "execution": {
     "iopub.execute_input": "2022-03-28T12:27:38.077103Z",
     "iopub.status.busy": "2022-03-28T12:27:38.076130Z",
     "iopub.status.idle": "2022-03-28T12:27:38.094948Z",
     "shell.execute_reply": "2022-03-28T12:27:38.094126Z"
    },
    "papermill": {
     "duration": 0.054524,
     "end_time": "2022-03-28T12:27:38.095106",
     "exception": false,
     "start_time": "2022-03-28T12:27:38.040582",
     "status": "completed"
    },
    "tags": [
     "injected-parameters"
    ]
   },
   "outputs": [],
   "source": [
    "# Parameters\n",
    "parameters = {\n",
    "    \"experiment_name\": \"tl_3-jitter5v2:cores -> oracle.run1.framed\",\n",
    "    \"device\": \"cuda\",\n",
    "    \"lr\": 0.0001,\n",
    "    \"x_shape\": [2, 256],\n",
    "    \"n_shot\": 3,\n",
    "    \"n_query\": 2,\n",
    "    \"train_k_factor\": 3,\n",
    "    \"val_k_factor\": 2,\n",
    "    \"test_k_factor\": 2,\n",
    "    \"torch_default_dtype\": \"torch.float32\",\n",
    "    \"n_epoch\": 50,\n",
    "    \"patience\": 3,\n",
    "    \"criteria_for_best\": \"target_accuracy\",\n",
    "    \"x_net\": [\n",
    "        {\"class\": \"nnReshape\", \"kargs\": {\"shape\": [-1, 1, 2, 256]}},\n",
    "        {\n",
    "            \"class\": \"Conv2d\",\n",
    "            \"kargs\": {\n",
    "                \"in_channels\": 1,\n",
    "                \"out_channels\": 256,\n",
    "                \"kernel_size\": [1, 7],\n",
    "                \"bias\": False,\n",
    "                \"padding\": [0, 3],\n",
    "            },\n",
    "        },\n",
    "        {\"class\": \"ReLU\", \"kargs\": {\"inplace\": True}},\n",
    "        {\"class\": \"BatchNorm2d\", \"kargs\": {\"num_features\": 256}},\n",
    "        {\n",
    "            \"class\": \"Conv2d\",\n",
    "            \"kargs\": {\n",
    "                \"in_channels\": 256,\n",
    "                \"out_channels\": 80,\n",
    "                \"kernel_size\": [2, 7],\n",
    "                \"bias\": True,\n",
    "                \"padding\": [0, 3],\n",
    "            },\n",
    "        },\n",
    "        {\"class\": \"ReLU\", \"kargs\": {\"inplace\": True}},\n",
    "        {\"class\": \"BatchNorm2d\", \"kargs\": {\"num_features\": 80}},\n",
    "        {\"class\": \"Flatten\", \"kargs\": {}},\n",
    "        {\"class\": \"Linear\", \"kargs\": {\"in_features\": 20480, \"out_features\": 256}},\n",
    "        {\"class\": \"ReLU\", \"kargs\": {\"inplace\": True}},\n",
    "        {\"class\": \"BatchNorm1d\", \"kargs\": {\"num_features\": 256}},\n",
    "        {\"class\": \"Linear\", \"kargs\": {\"in_features\": 256, \"out_features\": 256}},\n",
    "    ],\n",
    "    \"NUM_LOGS_PER_EPOCH\": 10,\n",
    "    \"BEST_MODEL_PATH\": \"./best_model.pth\",\n",
    "    \"n_way\": 16,\n",
    "    \"datasets\": [\n",
    "        {\n",
    "            \"labels\": [\n",
    "                \"1-10.\",\n",
    "                \"1-11.\",\n",
    "                \"1-15.\",\n",
    "                \"1-16.\",\n",
    "                \"1-17.\",\n",
    "                \"1-18.\",\n",
    "                \"1-19.\",\n",
    "                \"10-4.\",\n",
    "                \"10-7.\",\n",
    "                \"11-1.\",\n",
    "                \"11-14.\",\n",
    "                \"11-17.\",\n",
    "                \"11-20.\",\n",
    "                \"11-7.\",\n",
    "                \"13-20.\",\n",
    "                \"13-8.\",\n",
    "                \"14-10.\",\n",
    "                \"14-11.\",\n",
    "                \"14-14.\",\n",
    "                \"14-7.\",\n",
    "                \"15-1.\",\n",
    "                \"15-20.\",\n",
    "                \"16-1.\",\n",
    "                \"16-16.\",\n",
    "                \"17-10.\",\n",
    "                \"17-11.\",\n",
    "                \"17-2.\",\n",
    "                \"19-1.\",\n",
    "                \"19-16.\",\n",
    "                \"19-19.\",\n",
    "                \"19-20.\",\n",
    "                \"19-3.\",\n",
    "                \"2-10.\",\n",
    "                \"2-11.\",\n",
    "                \"2-17.\",\n",
    "                \"2-18.\",\n",
    "                \"2-20.\",\n",
    "                \"2-3.\",\n",
    "                \"2-4.\",\n",
    "                \"2-5.\",\n",
    "                \"2-6.\",\n",
    "                \"2-7.\",\n",
    "                \"2-8.\",\n",
    "                \"3-13.\",\n",
    "                \"3-18.\",\n",
    "                \"3-3.\",\n",
    "                \"4-1.\",\n",
    "                \"4-10.\",\n",
    "                \"4-11.\",\n",
    "                \"4-19.\",\n",
    "                \"5-5.\",\n",
    "                \"6-15.\",\n",
    "                \"7-10.\",\n",
    "                \"7-14.\",\n",
    "                \"8-18.\",\n",
    "                \"8-20.\",\n",
    "                \"8-3.\",\n",
    "                \"8-8.\",\n",
    "            ],\n",
    "            \"domains\": [1, 2, 3, 4, 5],\n",
    "            \"num_examples_per_domain_per_label\": -1,\n",
    "            \"pickle_path\": \"/root/csc500-main/datasets/cores.stratified_ds.2022A.pkl\",\n",
    "            \"source_or_target_dataset\": \"source\",\n",
    "            \"x_transforms\": [\"jitter_256_5\", \"lowpass_+/-10MHz\", \"take_200\"],\n",
    "            \"episode_transforms\": [],\n",
    "            \"domain_prefix\": \"C_\",\n",
    "        },\n",
    "        {\n",
    "            \"labels\": [\n",
    "                \"3123D52\",\n",
    "                \"3123D65\",\n",
    "                \"3123D79\",\n",
    "                \"3123D80\",\n",
    "                \"3123D54\",\n",
    "                \"3123D70\",\n",
    "                \"3123D7B\",\n",
    "                \"3123D89\",\n",
    "                \"3123D58\",\n",
    "                \"3123D76\",\n",
    "                \"3123D7D\",\n",
    "                \"3123EFE\",\n",
    "                \"3123D64\",\n",
    "                \"3123D78\",\n",
    "                \"3123D7E\",\n",
    "                \"3124E4A\",\n",
    "            ],\n",
    "            \"domains\": [32, 38, 8, 44, 14, 50, 20, 26],\n",
    "            \"num_examples_per_domain_per_label\": 2000,\n",
    "            \"pickle_path\": \"/root/csc500-main/datasets/oracle.Run1_framed_2000Examples_stratified_ds.2022A.pkl\",\n",
    "            \"source_or_target_dataset\": \"target\",\n",
    "            \"x_transforms\": [\"jitter_256_5\", \"take_200\", \"resample_20Msps_to_25Msps\"],\n",
    "            \"episode_transforms\": [],\n",
    "            \"domain_prefix\": \"O_\",\n",
    "        },\n",
    "    ],\n",
    "    \"seed\": 1337,\n",
    "    \"dataset_seed\": 1337,\n",
    "}\n"
   ]
  },
  {
   "cell_type": "code",
   "execution_count": 5,
   "id": "8fa1cc33",
   "metadata": {
    "execution": {
     "iopub.execute_input": "2022-03-28T12:27:38.151437Z",
     "iopub.status.busy": "2022-03-28T12:27:38.149463Z",
     "iopub.status.idle": "2022-03-28T12:27:38.169282Z",
     "shell.execute_reply": "2022-03-28T12:27:38.168477Z"
    },
    "papermill": {
     "duration": 0.046698,
     "end_time": "2022-03-28T12:27:38.169445",
     "exception": false,
     "start_time": "2022-03-28T12:27:38.122747",
     "status": "completed"
    },
    "tags": []
   },
   "outputs": [],
   "source": [
    "# Set this to True if you want to run this template directly\n",
    "STANDALONE = False\n",
    "if STANDALONE:\n",
    "    print(\"parameters not injected, running with standalone_parameters\")\n",
    "    parameters = standalone_parameters\n",
    "\n",
    "if not 'parameters' in locals() and not 'parameters' in globals():\n",
    "    raise Exception(\"Parameter injection failed\")\n",
    "\n",
    "#Use an easy dict for all the parameters\n",
    "p = EasyDict(parameters)\n",
    "\n",
    "if \"x_shape\" not in p:\n",
    "    p.x_shape = [2,256] # Default to this if we dont supply x_shape\n",
    "\n",
    "\n",
    "supplied_keys = set(p.keys())\n",
    "\n",
    "if  supplied_keys != required_parameters:\n",
    "    print(\"Parameters are incorrect\")\n",
    "    if len(supplied_keys - required_parameters)>0: print(\"Shouldn't have:\", str(supplied_keys - required_parameters))\n",
    "    if len(required_parameters - supplied_keys)>0: print(\"Need to have:\", str(required_parameters - supplied_keys))\n",
    "    raise RuntimeError(\"Parameters are incorrect\")"
   ]
  },
  {
   "cell_type": "code",
   "execution_count": 6,
   "id": "3a028d58",
   "metadata": {
    "execution": {
     "iopub.execute_input": "2022-03-28T12:27:38.221049Z",
     "iopub.status.busy": "2022-03-28T12:27:38.219199Z",
     "iopub.status.idle": "2022-03-28T12:27:38.240772Z",
     "shell.execute_reply": "2022-03-28T12:27:38.239829Z"
    },
    "papermill": {
     "duration": 0.045256,
     "end_time": "2022-03-28T12:27:38.240934",
     "exception": false,
     "start_time": "2022-03-28T12:27:38.195678",
     "status": "completed"
    },
    "tags": []
   },
   "outputs": [],
   "source": [
    "###################################\n",
    "# Set the RNGs and make it all deterministic\n",
    "###################################\n",
    "np.random.seed(p.seed)\n",
    "random.seed(p.seed)\n",
    "torch.manual_seed(p.seed)\n",
    "\n",
    "torch.use_deterministic_algorithms(True) "
   ]
  },
  {
   "cell_type": "code",
   "execution_count": 7,
   "id": "b691acf6",
   "metadata": {
    "execution": {
     "iopub.execute_input": "2022-03-28T12:27:38.292179Z",
     "iopub.status.busy": "2022-03-28T12:27:38.290316Z",
     "iopub.status.idle": "2022-03-28T12:27:38.313892Z",
     "shell.execute_reply": "2022-03-28T12:27:38.313065Z"
    },
    "papermill": {
     "duration": 0.04623,
     "end_time": "2022-03-28T12:27:38.314052",
     "exception": false,
     "start_time": "2022-03-28T12:27:38.267822",
     "status": "completed"
    },
    "tags": []
   },
   "outputs": [],
   "source": [
    "###########################################\n",
    "# The stratified datasets honor this\n",
    "###########################################\n",
    "torch.set_default_dtype(eval(p.torch_default_dtype))"
   ]
  },
  {
   "cell_type": "code",
   "execution_count": 8,
   "id": "b5fba671",
   "metadata": {
    "execution": {
     "iopub.execute_input": "2022-03-28T12:27:38.368092Z",
     "iopub.status.busy": "2022-03-28T12:27:38.365778Z",
     "iopub.status.idle": "2022-03-28T12:27:38.421012Z",
     "shell.execute_reply": "2022-03-28T12:27:38.420259Z"
    },
    "papermill": {
     "duration": 0.078691,
     "end_time": "2022-03-28T12:27:38.421180",
     "exception": false,
     "start_time": "2022-03-28T12:27:38.342489",
     "status": "completed"
    },
    "tags": []
   },
   "outputs": [],
   "source": [
    "###################################\n",
    "# Build the network(s)\n",
    "# Note: It's critical to do this AFTER setting the RNG\n",
    "###################################\n",
    "x_net = build_sequential(p.x_net)"
   ]
  },
  {
   "cell_type": "code",
   "execution_count": 9,
   "id": "5d7e61cc",
   "metadata": {
    "execution": {
     "iopub.execute_input": "2022-03-28T12:27:38.470822Z",
     "iopub.status.busy": "2022-03-28T12:27:38.470437Z",
     "iopub.status.idle": "2022-03-28T12:27:38.496451Z",
     "shell.execute_reply": "2022-03-28T12:27:38.495616Z"
    },
    "papermill": {
     "duration": 0.050418,
     "end_time": "2022-03-28T12:27:38.496613",
     "exception": false,
     "start_time": "2022-03-28T12:27:38.446195",
     "status": "completed"
    },
    "tags": []
   },
   "outputs": [],
   "source": [
    "start_time_secs = time.time()"
   ]
  },
  {
   "cell_type": "code",
   "execution_count": 10,
   "id": "c6b67dfd",
   "metadata": {
    "execution": {
     "iopub.execute_input": "2022-03-28T12:27:38.555157Z",
     "iopub.status.busy": "2022-03-28T12:27:38.547686Z",
     "iopub.status.idle": "2022-03-28T12:27:38.568600Z",
     "shell.execute_reply": "2022-03-28T12:27:38.567730Z"
    },
    "papermill": {
     "duration": 0.045023,
     "end_time": "2022-03-28T12:27:38.568775",
     "exception": false,
     "start_time": "2022-03-28T12:27:38.523752",
     "status": "completed"
    },
    "tags": []
   },
   "outputs": [],
   "source": [
    "p.domains_source = []\n",
    "p.domains_target = []\n",
    "\n",
    "\n",
    "train_original_source = []\n",
    "val_original_source   = []\n",
    "test_original_source  = []\n",
    "\n",
    "train_original_target = []\n",
    "val_original_target   = []\n",
    "test_original_target  = []"
   ]
  },
  {
   "cell_type": "code",
   "execution_count": 11,
   "id": "e3d9c3d3",
   "metadata": {
    "execution": {
     "iopub.execute_input": "2022-03-28T12:27:38.625174Z",
     "iopub.status.busy": "2022-03-28T12:27:38.622639Z",
     "iopub.status.idle": "2022-03-28T12:27:38.645372Z",
     "shell.execute_reply": "2022-03-28T12:27:38.644544Z"
    },
    "papermill": {
     "duration": 0.047081,
     "end_time": "2022-03-28T12:27:38.645532",
     "exception": false,
     "start_time": "2022-03-28T12:27:38.598451",
     "status": "completed"
    },
    "tags": []
   },
   "outputs": [],
   "source": [
    "# global_x_transform_func = lambda x: normalize(x.to(torch.get_default_dtype()), \"unit_power\") # unit_power, unit_mag\n",
    "# global_x_transform_func = lambda x: normalize(x, \"unit_power\") # unit_power, unit_mag"
   ]
  },
  {
   "cell_type": "code",
   "execution_count": 12,
   "id": "acb78fd2",
   "metadata": {
    "execution": {
     "iopub.execute_input": "2022-03-28T12:27:38.706186Z",
     "iopub.status.busy": "2022-03-28T12:27:38.705316Z",
     "iopub.status.idle": "2022-03-28T12:27:38.723108Z",
     "shell.execute_reply": "2022-03-28T12:27:38.722277Z"
    },
    "papermill": {
     "duration": 0.051233,
     "end_time": "2022-03-28T12:27:38.723266",
     "exception": false,
     "start_time": "2022-03-28T12:27:38.672033",
     "status": "completed"
    },
    "tags": []
   },
   "outputs": [],
   "source": [
    "def add_dataset(\n",
    "    labels,\n",
    "    domains,\n",
    "    pickle_path,\n",
    "    x_transforms,\n",
    "    episode_transforms,\n",
    "    domain_prefix,\n",
    "    num_examples_per_domain_per_label,\n",
    "    source_or_target_dataset:str,\n",
    "    iterator_seed=p.seed,\n",
    "    dataset_seed=p.dataset_seed,\n",
    "    n_shot=p.n_shot,\n",
    "    n_way=p.n_way,\n",
    "    n_query=p.n_query,\n",
    "    train_val_test_k_factors=(p.train_k_factor,p.val_k_factor,p.test_k_factor),\n",
    "):\n",
    "   \n",
    "    if x_transforms == []: x_transform = None\n",
    "    else: x_transform = get_chained_transform(x_transforms)\n",
    "    \n",
    "    if episode_transforms == []: episode_transform = None\n",
    "    else: raise Exception(\"episode_transforms not implemented\")\n",
    "    \n",
    "    episode_transform = lambda tup, _prefix=domain_prefix: (_prefix + str(tup[0]), tup[1])\n",
    "\n",
    "\n",
    "    eaf = Episodic_Accessor_Factory(\n",
    "        labels=labels,\n",
    "        domains=domains,\n",
    "        num_examples_per_domain_per_label=num_examples_per_domain_per_label,\n",
    "        iterator_seed=iterator_seed,\n",
    "        dataset_seed=dataset_seed,\n",
    "        n_shot=n_shot,\n",
    "        n_way=n_way,\n",
    "        n_query=n_query,\n",
    "        train_val_test_k_factors=train_val_test_k_factors,\n",
    "        pickle_path=pickle_path,\n",
    "        x_transform_func=x_transform,\n",
    "    )\n",
    "\n",
    "    train, val, test = eaf.get_train(), eaf.get_val(), eaf.get_test()\n",
    "    train = Lazy_Iterable_Wrapper(train, episode_transform)\n",
    "    val = Lazy_Iterable_Wrapper(val, episode_transform)\n",
    "    test = Lazy_Iterable_Wrapper(test, episode_transform)\n",
    "\n",
    "    if source_or_target_dataset==\"source\":\n",
    "        train_original_source.append(train)\n",
    "        val_original_source.append(val)\n",
    "        test_original_source.append(test)\n",
    "\n",
    "        p.domains_source.extend(\n",
    "            [domain_prefix + str(u) for u in domains]\n",
    "        )\n",
    "    elif source_or_target_dataset==\"target\":\n",
    "        train_original_target.append(train)\n",
    "        val_original_target.append(val)\n",
    "        test_original_target.append(test)\n",
    "        p.domains_target.extend(\n",
    "            [domain_prefix + str(u) for u in domains]\n",
    "        )\n",
    "    else:\n",
    "        raise Exception(f\"invalid source_or_target_dataset: {source_or_target_dataset}\")\n",
    "    "
   ]
  },
  {
   "cell_type": "code",
   "execution_count": 13,
   "id": "fe266617",
   "metadata": {
    "execution": {
     "iopub.execute_input": "2022-03-28T12:27:38.778851Z",
     "iopub.status.busy": "2022-03-28T12:27:38.776920Z",
     "iopub.status.idle": "2022-03-28T12:28:43.121619Z",
     "shell.execute_reply": "2022-03-28T12:28:43.120780Z"
    },
    "papermill": {
     "duration": 64.368253,
     "end_time": "2022-03-28T12:28:43.121805",
     "exception": false,
     "start_time": "2022-03-28T12:27:38.753552",
     "status": "completed"
    },
    "tags": []
   },
   "outputs": [],
   "source": [
    "for ds in p.datasets:\n",
    "    add_dataset(**ds)"
   ]
  },
  {
   "cell_type": "code",
   "execution_count": 14,
   "id": "b90d65ac",
   "metadata": {
    "execution": {
     "iopub.execute_input": "2022-03-28T12:28:43.174189Z",
     "iopub.status.busy": "2022-03-28T12:28:43.173559Z",
     "iopub.status.idle": "2022-03-28T12:28:43.199731Z",
     "shell.execute_reply": "2022-03-28T12:28:43.198887Z"
    },
    "papermill": {
     "duration": 0.051462,
     "end_time": "2022-03-28T12:28:43.199887",
     "exception": false,
     "start_time": "2022-03-28T12:28:43.148425",
     "status": "completed"
    },
    "tags": []
   },
   "outputs": [],
   "source": [
    "# from steves_utils.CORES.utils import (\n",
    "#     ALL_NODES,\n",
    "#     ALL_NODES_MINIMUM_1000_EXAMPLES,\n",
    "#     ALL_DAYS\n",
    "# )\n",
    "\n",
    "# add_dataset(\n",
    "#     labels=ALL_NODES,\n",
    "#     domains = ALL_DAYS,\n",
    "#     num_examples_per_domain_per_label=100,\n",
    "#     pickle_path=os.path.join(get_datasets_base_path(), \"cores.stratified_ds.2022A.pkl\"),\n",
    "#     source_or_target_dataset=\"target\",\n",
    "#     x_transform_func=global_x_transform_func,\n",
    "#     domain_modifier=lambda u: f\"cores_{u}\"\n",
    "# )"
   ]
  },
  {
   "cell_type": "code",
   "execution_count": 15,
   "id": "76db484d",
   "metadata": {
    "execution": {
     "iopub.execute_input": "2022-03-28T12:28:43.249995Z",
     "iopub.status.busy": "2022-03-28T12:28:43.249352Z",
     "iopub.status.idle": "2022-03-28T12:28:43.269185Z",
     "shell.execute_reply": "2022-03-28T12:28:43.269869Z"
    },
    "papermill": {
     "duration": 0.044147,
     "end_time": "2022-03-28T12:28:43.270051",
     "exception": false,
     "start_time": "2022-03-28T12:28:43.225904",
     "status": "completed"
    },
    "tags": []
   },
   "outputs": [],
   "source": [
    "# from steves_utils.ORACLE.utils_v2 import (\n",
    "#     ALL_DISTANCES_FEET,\n",
    "#     ALL_RUNS,\n",
    "#     ALL_SERIAL_NUMBERS,\n",
    "# )\n",
    "\n",
    "\n",
    "# add_dataset(\n",
    "#     labels=ALL_SERIAL_NUMBERS,\n",
    "#     domains = list(set(ALL_DISTANCES_FEET) - {2,62}),\n",
    "#     num_examples_per_domain_per_label=100,\n",
    "#     pickle_path=os.path.join(get_datasets_base_path(), \"oracle.Run2_framed_2000Examples_stratified_ds.2022A.pkl\"),\n",
    "#     source_or_target_dataset=\"source\",\n",
    "#     x_transform_func=global_x_transform_func,\n",
    "#     domain_modifier=lambda u: f\"oracle1_{u}\"\n",
    "# )\n"
   ]
  },
  {
   "cell_type": "code",
   "execution_count": 16,
   "id": "97dea9d2",
   "metadata": {
    "execution": {
     "iopub.execute_input": "2022-03-28T12:28:43.321741Z",
     "iopub.status.busy": "2022-03-28T12:28:43.320787Z",
     "iopub.status.idle": "2022-03-28T12:28:43.344621Z",
     "shell.execute_reply": "2022-03-28T12:28:43.343805Z"
    },
    "papermill": {
     "duration": 0.047966,
     "end_time": "2022-03-28T12:28:43.344776",
     "exception": false,
     "start_time": "2022-03-28T12:28:43.296810",
     "status": "completed"
    },
    "tags": []
   },
   "outputs": [],
   "source": [
    "# from steves_utils.ORACLE.utils_v2 import (\n",
    "#     ALL_DISTANCES_FEET,\n",
    "#     ALL_RUNS,\n",
    "#     ALL_SERIAL_NUMBERS,\n",
    "# )\n",
    "\n",
    "\n",
    "# add_dataset(\n",
    "#     labels=ALL_SERIAL_NUMBERS,\n",
    "#     domains = list(set(ALL_DISTANCES_FEET) - {2,62,56}),\n",
    "#     num_examples_per_domain_per_label=100,\n",
    "#     pickle_path=os.path.join(get_datasets_base_path(), \"oracle.Run2_framed_2000Examples_stratified_ds.2022A.pkl\"),\n",
    "#     source_or_target_dataset=\"source\",\n",
    "#     x_transform_func=global_x_transform_func,\n",
    "#     domain_modifier=lambda u: f\"oracle2_{u}\"\n",
    "# )"
   ]
  },
  {
   "cell_type": "code",
   "execution_count": 17,
   "id": "6f289866",
   "metadata": {
    "execution": {
     "iopub.execute_input": "2022-03-28T12:28:43.396126Z",
     "iopub.status.busy": "2022-03-28T12:28:43.395755Z",
     "iopub.status.idle": "2022-03-28T12:28:43.412458Z",
     "shell.execute_reply": "2022-03-28T12:28:43.411643Z"
    },
    "papermill": {
     "duration": 0.040196,
     "end_time": "2022-03-28T12:28:43.412615",
     "exception": false,
     "start_time": "2022-03-28T12:28:43.372419",
     "status": "completed"
    },
    "tags": []
   },
   "outputs": [],
   "source": [
    "# add_dataset(\n",
    "#     labels=list(range(19)),\n",
    "#     domains = [0,1,2],\n",
    "#     num_examples_per_domain_per_label=100,\n",
    "#     pickle_path=os.path.join(get_datasets_base_path(), \"metehan.stratified_ds.2022A.pkl\"),\n",
    "#     source_or_target_dataset=\"target\",\n",
    "#     x_transform_func=global_x_transform_func,\n",
    "#     domain_modifier=lambda u: f\"met_{u}\"\n",
    "# )"
   ]
  },
  {
   "cell_type": "code",
   "execution_count": 18,
   "id": "86a863c3",
   "metadata": {
    "execution": {
     "iopub.execute_input": "2022-03-28T12:28:43.471366Z",
     "iopub.status.busy": "2022-03-28T12:28:43.470799Z",
     "iopub.status.idle": "2022-03-28T12:28:43.483292Z",
     "shell.execute_reply": "2022-03-28T12:28:43.482475Z"
    },
    "papermill": {
     "duration": 0.044971,
     "end_time": "2022-03-28T12:28:43.483483",
     "exception": false,
     "start_time": "2022-03-28T12:28:43.438512",
     "status": "completed"
    },
    "tags": []
   },
   "outputs": [],
   "source": [
    "# # from steves_utils.wisig.utils import (\n",
    "# #     ALL_NODES_MINIMUM_100_EXAMPLES,\n",
    "# #     ALL_NODES_MINIMUM_500_EXAMPLES,\n",
    "# #     ALL_NODES_MINIMUM_1000_EXAMPLES,\n",
    "# #     ALL_DAYS\n",
    "# # )\n",
    "\n",
    "# import steves_utils.wisig.utils as wisig\n",
    "\n",
    "\n",
    "# add_dataset(\n",
    "#     labels=wisig.ALL_NODES_MINIMUM_100_EXAMPLES,\n",
    "#     domains = wisig.ALL_DAYS,\n",
    "#     num_examples_per_domain_per_label=100,\n",
    "#     pickle_path=os.path.join(get_datasets_base_path(), \"wisig.node3-19.stratified_ds.2022A.pkl\"),\n",
    "#     source_or_target_dataset=\"target\",\n",
    "#     x_transform_func=global_x_transform_func,\n",
    "#     domain_modifier=lambda u: f\"wisig_{u}\"\n",
    "# )"
   ]
  },
  {
   "cell_type": "code",
   "execution_count": 19,
   "id": "fd5442bc",
   "metadata": {
    "execution": {
     "iopub.execute_input": "2022-03-28T12:28:43.543568Z",
     "iopub.status.busy": "2022-03-28T12:28:43.541282Z",
     "iopub.status.idle": "2022-03-28T12:28:43.560985Z",
     "shell.execute_reply": "2022-03-28T12:28:43.560172Z"
    },
    "papermill": {
     "duration": 0.049042,
     "end_time": "2022-03-28T12:28:43.561138",
     "exception": false,
     "start_time": "2022-03-28T12:28:43.512096",
     "status": "completed"
    },
    "tags": []
   },
   "outputs": [],
   "source": [
    "###################################\n",
    "# Build the dataset\n",
    "###################################\n",
    "train_original_source = Iterable_Aggregator(train_original_source, p.seed)\n",
    "val_original_source = Iterable_Aggregator(val_original_source, p.seed)\n",
    "test_original_source = Iterable_Aggregator(test_original_source, p.seed)\n",
    "\n",
    "\n",
    "train_original_target = Iterable_Aggregator(train_original_target, p.seed)\n",
    "val_original_target = Iterable_Aggregator(val_original_target, p.seed)\n",
    "test_original_target = Iterable_Aggregator(test_original_target, p.seed)\n",
    "\n",
    "# For CNN We only use X and Y. And we only train on the source.\n",
    "# Properly form the data using a transform lambda and Lazy_Iterable_Wrapper. Finally wrap them in a dataloader\n",
    "\n",
    "transform_lambda = lambda ex: ex[1] # Original is (<domain>, <episode>) so we strip down to episode only\n",
    "\n",
    "train_processed_source = Lazy_Iterable_Wrapper(train_original_source, transform_lambda)\n",
    "val_processed_source   = Lazy_Iterable_Wrapper(val_original_source, transform_lambda)\n",
    "test_processed_source  = Lazy_Iterable_Wrapper(test_original_source, transform_lambda)\n",
    "\n",
    "train_processed_target = Lazy_Iterable_Wrapper(train_original_target, transform_lambda)\n",
    "val_processed_target   = Lazy_Iterable_Wrapper(val_original_target, transform_lambda)\n",
    "test_processed_target  = Lazy_Iterable_Wrapper(test_original_target, transform_lambda)\n",
    "\n",
    "datasets = EasyDict({\n",
    "    \"source\": {\n",
    "        \"original\": {\"train\":train_original_source, \"val\":val_original_source, \"test\":test_original_source},\n",
    "        \"processed\": {\"train\":train_processed_source, \"val\":val_processed_source, \"test\":test_processed_source}\n",
    "    },\n",
    "    \"target\": {\n",
    "        \"original\": {\"train\":train_original_target, \"val\":val_original_target, \"test\":test_original_target},\n",
    "        \"processed\": {\"train\":train_processed_target, \"val\":val_processed_target, \"test\":test_processed_target}\n",
    "    },\n",
    "})"
   ]
  },
  {
   "cell_type": "code",
   "execution_count": 20,
   "id": "5b3c01fc",
   "metadata": {
    "execution": {
     "iopub.execute_input": "2022-03-28T12:28:43.614837Z",
     "iopub.status.busy": "2022-03-28T12:28:43.614323Z",
     "iopub.status.idle": "2022-03-28T12:28:57.945174Z",
     "shell.execute_reply": "2022-03-28T12:28:57.944513Z"
    },
    "papermill": {
     "duration": 14.358645,
     "end_time": "2022-03-28T12:28:57.945312",
     "exception": false,
     "start_time": "2022-03-28T12:28:43.586667",
     "status": "completed"
    },
    "tags": []
   },
   "outputs": [
    {
     "name": "stdout",
     "output_type": "stream",
     "text": [
      "{'C_4', 'C_3', 'C_1', 'C_5', 'C_2'}\n"
     ]
    },
    {
     "name": "stdout",
     "output_type": "stream",
     "text": [
      "{'O_38', 'O_14', 'O_20', 'O_8', 'O_44', 'O_26', 'O_32', 'O_50'}\n"
     ]
    },
    {
     "name": "stdout",
     "output_type": "stream",
     "text": [
      "tensor([[[0., 0., 0.,  ..., 0., 0., 0.],\n",
      "         [0., 0., 0.,  ..., 0., 0., 0.]],\n",
      "\n",
      "        [[0., 0., 0.,  ..., 0., 0., 0.],\n",
      "         [0., 0., 0.,  ..., 0., 0., 0.]],\n",
      "\n",
      "        [[0., 0., 0.,  ..., 0., 0., 0.],\n",
      "         [0., 0., 0.,  ..., 0., 0., 0.]],\n",
      "\n",
      "        ...,\n",
      "\n",
      "        [[0., 0., 0.,  ..., 0., 0., 0.],\n",
      "         [0., 0., 0.,  ..., 0., 0., 0.]],\n",
      "\n",
      "        [[0., 0., 0.,  ..., 0., 0., 0.],\n",
      "         [0., 0., 0.,  ..., 0., 0., 0.]],\n",
      "\n",
      "        [[0., 0., 0.,  ..., 0., 0., 0.],\n",
      "         [0., 0., 0.,  ..., 0., 0., 0.]]])\n"
     ]
    }
   ],
   "source": [
    "from steves_utils.transforms import get_average_magnitude, get_average_power\n",
    "\n",
    "print(set([u for u,_ in val_original_source]))\n",
    "print(set([u for u,_ in val_original_target]))\n",
    "\n",
    "s_x, s_y, q_x, q_y, _ = next(iter(train_processed_source))\n",
    "print(s_x)\n",
    "\n",
    "# for ds in [\n",
    "#     train_processed_source,\n",
    "#     val_processed_source,\n",
    "#     test_processed_source,\n",
    "#     train_processed_target,\n",
    "#     val_processed_target,\n",
    "#     test_processed_target\n",
    "# ]:\n",
    "#     for s_x, s_y, q_x, q_y, _ in ds:\n",
    "#         for X in (s_x, q_x):\n",
    "#             for x in X:\n",
    "#                 assert np.isclose(get_average_magnitude(x.numpy()), 1.0)\n",
    "#                 assert np.isclose(get_average_power(x.numpy()), 1.0)\n",
    "                "
   ]
  },
  {
   "cell_type": "code",
   "execution_count": 21,
   "id": "bbdacba1",
   "metadata": {
    "execution": {
     "iopub.execute_input": "2022-03-28T12:28:58.002186Z",
     "iopub.status.busy": "2022-03-28T12:28:58.001655Z",
     "iopub.status.idle": "2022-03-28T12:28:58.178664Z",
     "shell.execute_reply": "2022-03-28T12:28:58.178990Z"
    },
    "papermill": {
     "duration": 0.204041,
     "end_time": "2022-03-28T12:28:58.179153",
     "exception": false,
     "start_time": "2022-03-28T12:28:57.975112",
     "status": "completed"
    },
    "tags": []
   },
   "outputs": [
    {
     "name": "stdout",
     "output_type": "stream",
     "text": [
      "(2, 256)\n"
     ]
    }
   ],
   "source": [
    "###################################\n",
    "# Build the model\n",
    "###################################\n",
    "# easfsl only wants a tuple for the shape\n",
    "model = Steves_Prototypical_Network(x_net, device=p.device, x_shape=tuple(p.x_shape))\n",
    "optimizer = Adam(params=model.parameters(), lr=p.lr)"
   ]
  },
  {
   "cell_type": "code",
   "execution_count": 22,
   "id": "22b39ac5",
   "metadata": {
    "execution": {
     "iopub.execute_input": "2022-03-28T12:28:58.240822Z",
     "iopub.status.busy": "2022-03-28T12:28:58.240446Z",
     "iopub.status.idle": "2022-03-28T12:43:37.778924Z",
     "shell.execute_reply": "2022-03-28T12:43:37.778574Z"
    },
    "papermill": {
     "duration": 879.576318,
     "end_time": "2022-03-28T12:43:37.779011",
     "exception": false,
     "start_time": "2022-03-28T12:28:58.202693",
     "status": "completed"
    },
    "tags": []
   },
   "outputs": [
    {
     "name": "stdout",
     "output_type": "stream",
     "text": [
      "epoch: 1, [batch: 1 / 6320], examples_per_second: 32.4477, train_label_loss: 2.2917, \n"
     ]
    },
    {
     "name": "stdout",
     "output_type": "stream",
     "text": [
      "epoch: 1, [batch: 632 / 6320], examples_per_second: 3772.0812, train_label_loss: 0.0335, \n"
     ]
    },
    {
     "name": "stdout",
     "output_type": "stream",
     "text": [
      "epoch: 1, [batch: 1264 / 6320], examples_per_second: 3912.4494, train_label_loss: 0.0030, \n"
     ]
    },
    {
     "name": "stdout",
     "output_type": "stream",
     "text": [
      "epoch: 1, [batch: 1896 / 6320], examples_per_second: 3867.1669, train_label_loss: 0.0025, \n"
     ]
    },
    {
     "name": "stdout",
     "output_type": "stream",
     "text": [
      "epoch: 1, [batch: 2528 / 6320], examples_per_second: 3837.3478, train_label_loss: 0.0012, \n"
     ]
    },
    {
     "name": "stdout",
     "output_type": "stream",
     "text": [
      "epoch: 1, [batch: 3160 / 6320], examples_per_second: 3901.3643, train_label_loss: 0.0005, \n"
     ]
    },
    {
     "name": "stdout",
     "output_type": "stream",
     "text": [
      "epoch: 1, [batch: 3792 / 6320], examples_per_second: 4296.5530, train_label_loss: 0.0053, \n"
     ]
    },
    {
     "name": "stdout",
     "output_type": "stream",
     "text": [
      "epoch: 1, [batch: 4424 / 6320], examples_per_second: 4359.9611, train_label_loss: 0.0009, \n"
     ]
    },
    {
     "name": "stdout",
     "output_type": "stream",
     "text": [
      "epoch: 1, [batch: 5056 / 6320], examples_per_second: 3929.3373, train_label_loss: 0.0022, \n"
     ]
    },
    {
     "name": "stdout",
     "output_type": "stream",
     "text": [
      "epoch: 1, [batch: 5688 / 6320], examples_per_second: 3819.9077, train_label_loss: 0.0007, \n"
     ]
    },
    {
     "name": "stdout",
     "output_type": "stream",
     "text": [
      "=============================================================\n",
      "epoch: 1, source_val_acc_label: 0.9927, target_val_acc_label: 0.1729, source_val_label_loss: 0.0344, target_val_label_loss: 4.0834, \n",
      "=============================================================\n"
     ]
    },
    {
     "name": "stdout",
     "output_type": "stream",
     "text": [
      "New best\n"
     ]
    },
    {
     "name": "stdout",
     "output_type": "stream",
     "text": [
      "epoch: 2, [batch: 1 / 6305], examples_per_second: 4.0408, train_label_loss: 0.1194, \n"
     ]
    },
    {
     "name": "stdout",
     "output_type": "stream",
     "text": [
      "epoch: 2, [batch: 631 / 6305], examples_per_second: 3784.6952, train_label_loss: 0.0017, \n"
     ]
    },
    {
     "name": "stdout",
     "output_type": "stream",
     "text": [
      "epoch: 2, [batch: 1261 / 6305], examples_per_second: 3834.8250, train_label_loss: 0.0071, \n"
     ]
    },
    {
     "name": "stdout",
     "output_type": "stream",
     "text": [
      "epoch: 2, [batch: 1892 / 6305], examples_per_second: 3964.6340, train_label_loss: 0.0004, \n"
     ]
    },
    {
     "name": "stdout",
     "output_type": "stream",
     "text": [
      "epoch: 2, [batch: 2522 / 6305], examples_per_second: 3890.9542, train_label_loss: 0.0007, \n"
     ]
    },
    {
     "name": "stdout",
     "output_type": "stream",
     "text": [
      "epoch: 2, [batch: 3153 / 6305], examples_per_second: 4066.6185, train_label_loss: 0.0260, \n"
     ]
    },
    {
     "name": "stdout",
     "output_type": "stream",
     "text": [
      "epoch: 2, [batch: 3783 / 6305], examples_per_second: 4264.6157, train_label_loss: 0.0025, \n"
     ]
    },
    {
     "name": "stdout",
     "output_type": "stream",
     "text": [
      "epoch: 2, [batch: 4413 / 6305], examples_per_second: 4530.2665, train_label_loss: 0.0018, \n"
     ]
    },
    {
     "name": "stdout",
     "output_type": "stream",
     "text": [
      "epoch: 2, [batch: 5044 / 6305], examples_per_second: 3814.3036, train_label_loss: 0.0021, \n"
     ]
    },
    {
     "name": "stdout",
     "output_type": "stream",
     "text": [
      "epoch: 2, [batch: 5674 / 6305], examples_per_second: 3865.3609, train_label_loss: 0.0032, \n"
     ]
    },
    {
     "name": "stdout",
     "output_type": "stream",
     "text": [
      "=============================================================\n",
      "epoch: 2, source_val_acc_label: 0.9971, target_val_acc_label: 0.4064, source_val_label_loss: 0.0206, target_val_label_loss: 1.9049, \n",
      "=============================================================\n"
     ]
    },
    {
     "name": "stdout",
     "output_type": "stream",
     "text": [
      "New best\n"
     ]
    },
    {
     "name": "stdout",
     "output_type": "stream",
     "text": [
      "epoch: 3, [batch: 1 / 6307], examples_per_second: 4.0264, train_label_loss: 0.0012, \n"
     ]
    },
    {
     "name": "stdout",
     "output_type": "stream",
     "text": [
      "epoch: 3, [batch: 631 / 6307], examples_per_second: 3770.0527, train_label_loss: 0.0001, \n"
     ]
    },
    {
     "name": "stdout",
     "output_type": "stream",
     "text": [
      "epoch: 3, [batch: 1262 / 6307], examples_per_second: 3832.4780, train_label_loss: 0.0184, \n"
     ]
    },
    {
     "name": "stdout",
     "output_type": "stream",
     "text": [
      "epoch: 3, [batch: 1892 / 6307], examples_per_second: 3917.3034, train_label_loss: 0.0011, \n"
     ]
    },
    {
     "name": "stdout",
     "output_type": "stream",
     "text": [
      "epoch: 3, [batch: 2523 / 6307], examples_per_second: 3972.9133, train_label_loss: 0.0001, \n"
     ]
    },
    {
     "name": "stdout",
     "output_type": "stream",
     "text": [
      "epoch: 3, [batch: 3154 / 6307], examples_per_second: 4169.0775, train_label_loss: 0.0002, \n"
     ]
    },
    {
     "name": "stdout",
     "output_type": "stream",
     "text": [
      "epoch: 3, [batch: 3784 / 6307], examples_per_second: 4445.6831, train_label_loss: 0.0002, \n"
     ]
    },
    {
     "name": "stdout",
     "output_type": "stream",
     "text": [
      "epoch: 3, [batch: 4415 / 6307], examples_per_second: 4464.8085, train_label_loss: 0.0009, \n"
     ]
    },
    {
     "name": "stdout",
     "output_type": "stream",
     "text": [
      "epoch: 3, [batch: 5045 / 6307], examples_per_second: 3892.9108, train_label_loss: 0.0002, \n"
     ]
    },
    {
     "name": "stdout",
     "output_type": "stream",
     "text": [
      "epoch: 3, [batch: 5676 / 6307], examples_per_second: 3875.1776, train_label_loss: 0.0019, \n"
     ]
    },
    {
     "name": "stdout",
     "output_type": "stream",
     "text": [
      "=============================================================\n",
      "epoch: 3, source_val_acc_label: 0.9972, target_val_acc_label: 0.3000, source_val_label_loss: 0.0185, target_val_label_loss: 8.6504, \n",
      "=============================================================\n"
     ]
    },
    {
     "name": "stdout",
     "output_type": "stream",
     "text": [
      "epoch: 4, [batch: 1 / 6315], examples_per_second: 4.0686, train_label_loss: 0.0001, \n"
     ]
    },
    {
     "name": "stdout",
     "output_type": "stream",
     "text": [
      "epoch: 4, [batch: 632 / 6315], examples_per_second: 3792.8511, train_label_loss: 0.0034, \n"
     ]
    },
    {
     "name": "stdout",
     "output_type": "stream",
     "text": [
      "epoch: 4, [batch: 1263 / 6315], examples_per_second: 3813.0290, train_label_loss: 0.0028, \n"
     ]
    },
    {
     "name": "stdout",
     "output_type": "stream",
     "text": [
      "epoch: 4, [batch: 1895 / 6315], examples_per_second: 3911.6703, train_label_loss: 0.0015, \n"
     ]
    },
    {
     "name": "stdout",
     "output_type": "stream",
     "text": [
      "epoch: 4, [batch: 2526 / 6315], examples_per_second: 3854.3556, train_label_loss: 0.0016, \n"
     ]
    },
    {
     "name": "stdout",
     "output_type": "stream",
     "text": [
      "epoch: 4, [batch: 3158 / 6315], examples_per_second: 4157.0916, train_label_loss: 0.1380, \n"
     ]
    },
    {
     "name": "stdout",
     "output_type": "stream",
     "text": [
      "epoch: 4, [batch: 3789 / 6315], examples_per_second: 4194.3631, train_label_loss: 0.0001, \n"
     ]
    },
    {
     "name": "stdout",
     "output_type": "stream",
     "text": [
      "epoch: 4, [batch: 4420 / 6315], examples_per_second: 4295.8255, train_label_loss: 0.0003, \n"
     ]
    },
    {
     "name": "stdout",
     "output_type": "stream",
     "text": [
      "epoch: 4, [batch: 5052 / 6315], examples_per_second: 3952.5119, train_label_loss: 0.0014, \n"
     ]
    },
    {
     "name": "stdout",
     "output_type": "stream",
     "text": [
      "epoch: 4, [batch: 5683 / 6315], examples_per_second: 3888.2546, train_label_loss: 0.0068, \n"
     ]
    },
    {
     "name": "stdout",
     "output_type": "stream",
     "text": [
      "=============================================================\n",
      "epoch: 4, source_val_acc_label: 0.9975, target_val_acc_label: 0.3730, source_val_label_loss: 0.0144, target_val_label_loss: 1.9647, \n",
      "=============================================================\n"
     ]
    },
    {
     "name": "stdout",
     "output_type": "stream",
     "text": [
      "epoch: 5, [batch: 1 / 6313], examples_per_second: 4.0459, train_label_loss: 0.0495, \n"
     ]
    },
    {
     "name": "stdout",
     "output_type": "stream",
     "text": [
      "epoch: 5, [batch: 632 / 6313], examples_per_second: 3787.1710, train_label_loss: 0.0010, \n"
     ]
    },
    {
     "name": "stdout",
     "output_type": "stream",
     "text": [
      "epoch: 5, [batch: 1263 / 6313], examples_per_second: 3806.3498, train_label_loss: 0.0006, \n"
     ]
    },
    {
     "name": "stdout",
     "output_type": "stream",
     "text": [
      "epoch: 5, [batch: 1894 / 6313], examples_per_second: 3883.1796, train_label_loss: 0.0001, \n"
     ]
    },
    {
     "name": "stdout",
     "output_type": "stream",
     "text": [
      "epoch: 5, [batch: 2525 / 6313], examples_per_second: 3877.8484, train_label_loss: 0.0004, \n"
     ]
    },
    {
     "name": "stdout",
     "output_type": "stream",
     "text": [
      "epoch: 5, [batch: 3157 / 6313], examples_per_second: 4463.8394, train_label_loss: 0.0004, \n"
     ]
    },
    {
     "name": "stdout",
     "output_type": "stream",
     "text": [
      "epoch: 5, [batch: 3788 / 6313], examples_per_second: 4513.2122, train_label_loss: 0.0004, \n"
     ]
    },
    {
     "name": "stdout",
     "output_type": "stream",
     "text": [
      "epoch: 5, [batch: 4419 / 6313], examples_per_second: 4491.4524, train_label_loss: 0.0014, \n"
     ]
    },
    {
     "name": "stdout",
     "output_type": "stream",
     "text": [
      "epoch: 5, [batch: 5050 / 6313], examples_per_second: 4391.7758, train_label_loss: 0.0000, \n"
     ]
    },
    {
     "name": "stdout",
     "output_type": "stream",
     "text": [
      "epoch: 5, [batch: 5681 / 6313], examples_per_second: 4301.8781, train_label_loss: 0.0090, \n"
     ]
    },
    {
     "name": "stdout",
     "output_type": "stream",
     "text": [
      "=============================================================\n",
      "epoch: 5, source_val_acc_label: 0.9985, target_val_acc_label: 0.3257, source_val_label_loss: 0.0121, target_val_label_loss: 1.9724, \n",
      "=============================================================\n"
     ]
    },
    {
     "name": "stdout",
     "output_type": "stream",
     "text": [
      "epoch: 6, [batch: 1 / 6317], examples_per_second: 4.4326, train_label_loss: 0.0000, \n"
     ]
    },
    {
     "name": "stdout",
     "output_type": "stream",
     "text": [
      "epoch: 6, [batch: 632 / 6317], examples_per_second: 4855.4201, train_label_loss: 0.0034, \n"
     ]
    },
    {
     "name": "stdout",
     "output_type": "stream",
     "text": [
      "epoch: 6, [batch: 1264 / 6317], examples_per_second: 4959.7842, train_label_loss: 0.0004, \n"
     ]
    },
    {
     "name": "stdout",
     "output_type": "stream",
     "text": [
      "epoch: 6, [batch: 1895 / 6317], examples_per_second: 4850.4149, train_label_loss: 0.0318, \n"
     ]
    },
    {
     "name": "stdout",
     "output_type": "stream",
     "text": [
      "epoch: 6, [batch: 2527 / 6317], examples_per_second: 4873.5926, train_label_loss: 0.0029, \n"
     ]
    },
    {
     "name": "stdout",
     "output_type": "stream",
     "text": [
      "epoch: 6, [batch: 3159 / 6317], examples_per_second: 5060.3201, train_label_loss: 0.0002, \n"
     ]
    },
    {
     "name": "stdout",
     "output_type": "stream",
     "text": [
      "epoch: 6, [batch: 3790 / 6317], examples_per_second: 5273.3559, train_label_loss: 0.0000, \n"
     ]
    },
    {
     "name": "stdout",
     "output_type": "stream",
     "text": [
      "epoch: 6, [batch: 4422 / 6317], examples_per_second: 5225.1526, train_label_loss: 0.0000, \n"
     ]
    },
    {
     "name": "stdout",
     "output_type": "stream",
     "text": [
      "epoch: 6, [batch: 5053 / 6317], examples_per_second: 5147.8848, train_label_loss: 0.0003, \n"
     ]
    },
    {
     "name": "stdout",
     "output_type": "stream",
     "text": [
      "epoch: 6, [batch: 5685 / 6317], examples_per_second: 5224.3353, train_label_loss: 0.0000, \n"
     ]
    },
    {
     "name": "stdout",
     "output_type": "stream",
     "text": [
      "=============================================================\n",
      "epoch: 6, source_val_acc_label: 0.9963, target_val_acc_label: 0.3225, source_val_label_loss: 0.0280, target_val_label_loss: 1.9469, \n",
      "=============================================================\n"
     ]
    },
    {
     "name": "stdout",
     "output_type": "stream",
     "text": [
      "Patience (3) exhausted\n"
     ]
    }
   ],
   "source": [
    "###################################\n",
    "# train\n",
    "###################################\n",
    "jig = PTN_Train_Eval_Test_Jig(model, p.BEST_MODEL_PATH, p.device)\n",
    "\n",
    "jig.train(\n",
    "    train_iterable=datasets.source.processed.train,\n",
    "    source_val_iterable=datasets.source.processed.val,\n",
    "    target_val_iterable=datasets.target.processed.val,\n",
    "    num_epochs=p.n_epoch,\n",
    "    num_logs_per_epoch=p.NUM_LOGS_PER_EPOCH,\n",
    "    patience=p.patience,\n",
    "    optimizer=optimizer,\n",
    "    criteria_for_best=p.criteria_for_best,\n",
    ")"
   ]
  },
  {
   "cell_type": "code",
   "execution_count": 23,
   "id": "31e8fabf",
   "metadata": {
    "execution": {
     "iopub.execute_input": "2022-03-28T12:43:37.879391Z",
     "iopub.status.busy": "2022-03-28T12:43:37.878815Z",
     "iopub.status.idle": "2022-03-28T12:43:37.912134Z",
     "shell.execute_reply": "2022-03-28T12:43:37.911394Z"
    },
    "papermill": {
     "duration": 0.081205,
     "end_time": "2022-03-28T12:43:37.912299",
     "exception": false,
     "start_time": "2022-03-28T12:43:37.831094",
     "status": "completed"
    },
    "tags": []
   },
   "outputs": [],
   "source": [
    "total_experiment_time_secs = time.time() - start_time_secs"
   ]
  },
  {
   "cell_type": "code",
   "execution_count": 24,
   "id": "87b9595b",
   "metadata": {
    "execution": {
     "iopub.execute_input": "2022-03-28T12:43:38.007189Z",
     "iopub.status.busy": "2022-03-28T12:43:38.006581Z",
     "iopub.status.idle": "2022-03-28T12:45:54.181481Z",
     "shell.execute_reply": "2022-03-28T12:45:54.182180Z"
    },
    "papermill": {
     "duration": 136.223801,
     "end_time": "2022-03-28T12:45:54.182407",
     "exception": false,
     "start_time": "2022-03-28T12:43:37.958606",
     "status": "completed"
    },
    "tags": []
   },
   "outputs": [],
   "source": [
    "###################################\n",
    "# Evaluate the model\n",
    "###################################\n",
    "source_test_label_accuracy, source_test_label_loss = jig.test(datasets.source.processed.test)\n",
    "target_test_label_accuracy, target_test_label_loss = jig.test(datasets.target.processed.test)\n",
    "\n",
    "source_val_label_accuracy, source_val_label_loss = jig.test(datasets.source.processed.val)\n",
    "target_val_label_accuracy, target_val_label_loss = jig.test(datasets.target.processed.val)\n",
    "\n",
    "history = jig.get_history()\n",
    "\n",
    "total_epochs_trained = len(history[\"epoch_indices\"])\n",
    "\n",
    "val_dl = Iterable_Aggregator((datasets.source.original.val,datasets.target.original.val))\n",
    "\n",
    "confusion = ptn_confusion_by_domain_over_dataloader(model, p.device, val_dl)\n",
    "per_domain_accuracy = per_domain_accuracy_from_confusion(confusion)\n",
    "\n",
    "# Add a key to per_domain_accuracy for if it was a source domain\n",
    "for domain, accuracy in per_domain_accuracy.items():\n",
    "    per_domain_accuracy[domain] = {\n",
    "        \"accuracy\": accuracy,\n",
    "        \"source?\": domain in p.domains_source\n",
    "    }\n",
    "\n",
    "# Do an independent accuracy assesment JUST TO BE SURE!\n",
    "# _source_test_label_accuracy = independent_accuracy_assesment(model, datasets.source.processed.test, p.device)\n",
    "# _target_test_label_accuracy = independent_accuracy_assesment(model, datasets.target.processed.test, p.device)\n",
    "# _source_val_label_accuracy = independent_accuracy_assesment(model, datasets.source.processed.val, p.device)\n",
    "# _target_val_label_accuracy = independent_accuracy_assesment(model, datasets.target.processed.val, p.device)\n",
    "\n",
    "# assert(_source_test_label_accuracy == source_test_label_accuracy)\n",
    "# assert(_target_test_label_accuracy == target_test_label_accuracy)\n",
    "# assert(_source_val_label_accuracy == source_val_label_accuracy)\n",
    "# assert(_target_val_label_accuracy == target_val_label_accuracy)\n",
    "\n",
    "experiment = {\n",
    "    \"experiment_name\": p.experiment_name,\n",
    "    \"parameters\": dict(p),\n",
    "    \"results\": {\n",
    "        \"source_test_label_accuracy\": source_test_label_accuracy,\n",
    "        \"source_test_label_loss\": source_test_label_loss,\n",
    "        \"target_test_label_accuracy\": target_test_label_accuracy,\n",
    "        \"target_test_label_loss\": target_test_label_loss,\n",
    "        \"source_val_label_accuracy\": source_val_label_accuracy,\n",
    "        \"source_val_label_loss\": source_val_label_loss,\n",
    "        \"target_val_label_accuracy\": target_val_label_accuracy,\n",
    "        \"target_val_label_loss\": target_val_label_loss,\n",
    "        \"total_epochs_trained\": total_epochs_trained,\n",
    "        \"total_experiment_time_secs\": total_experiment_time_secs,\n",
    "        \"confusion\": confusion,\n",
    "        \"per_domain_accuracy\": per_domain_accuracy,\n",
    "    },\n",
    "    \"history\": history,\n",
    "    \"dataset_metrics\": get_dataset_metrics(datasets, \"ptn\"),\n",
    "}"
   ]
  },
  {
   "cell_type": "code",
   "execution_count": 25,
   "id": "54a21829",
   "metadata": {
    "execution": {
     "iopub.execute_input": "2022-03-28T12:45:54.278835Z",
     "iopub.status.busy": "2022-03-28T12:45:54.278455Z",
     "iopub.status.idle": "2022-03-28T12:45:54.489516Z",
     "shell.execute_reply": "2022-03-28T12:45:54.490211Z"
    },
    "papermill": {
     "duration": 0.25798,
     "end_time": "2022-03-28T12:45:54.490401",
     "exception": false,
     "start_time": "2022-03-28T12:45:54.232421",
     "status": "completed"
    },
    "tags": []
   },
   "outputs": [
    {
     "data": {
      "image/png": "[encoded data removed]",
      "text/plain": [
       "<Figure size 1080x504 with 1 Axes>"
      ]
     },
     "metadata": {
      "needs_background": "light"
     },
     "output_type": "display_data"
    }
   ],
   "source": [
    "ax = get_loss_curve(experiment)\n",
    "plt.show()"
   ]
  },
  {
   "cell_type": "code",
   "execution_count": 26,
   "id": "fd8a0f60",
   "metadata": {
    "execution": {
     "iopub.execute_input": "2022-03-28T12:45:54.584191Z",
     "iopub.status.busy": "2022-03-28T12:45:54.583817Z",
     "iopub.status.idle": "2022-03-28T12:45:54.912106Z",
     "shell.execute_reply": "2022-03-28T12:45:54.911728Z"
    },
    "papermill": {
     "duration": 0.375409,
     "end_time": "2022-03-28T12:45:54.912180",
     "exception": false,
     "start_time": "2022-03-28T12:45:54.536771",
     "status": "completed"
    },
    "tags": []
   },
   "outputs": [
    {
     "data": {
      "text/plain": [
       "<AxesSubplot:title={'center':'Results'}>"
      ]
     },
     "execution_count": 26,
     "metadata": {},
     "output_type": "execute_result"
    },
    {
     "data": {
      "image/png": "[encoded data removed]",
      "text/plain": [
       "<Figure size 1080x504 with 1 Axes>"
      ]
     },
     "metadata": {
      "needs_background": "light"
     },
     "output_type": "display_data"
    }
   ],
   "source": [
    "get_results_table(experiment)"
   ]
  },
  {
   "cell_type": "code",
   "execution_count": 27,
   "id": "cf8dc689",
   "metadata": {
    "execution": {
     "iopub.execute_input": "2022-03-28T12:45:55.006410Z",
     "iopub.status.busy": "2022-03-28T12:45:55.006037Z",
     "iopub.status.idle": "2022-03-28T12:45:55.245403Z",
     "shell.execute_reply": "2022-03-28T12:45:55.246113Z"
    },
    "papermill": {
     "duration": 0.289076,
     "end_time": "2022-03-28T12:45:55.246321",
     "exception": false,
     "start_time": "2022-03-28T12:45:54.957245",
     "status": "completed"
    },
    "tags": []
   },
   "outputs": [
    {
     "data": {
      "text/plain": [
       "<AxesSubplot:title={'center':'Per Domain Validation Accuracy'}, xlabel='domain'>"
      ]
     },
     "execution_count": 27,
     "metadata": {},
     "output_type": "execute_result"
    },
    {
     "data": {
      "image/png": "[encoded data removed]",
      "text/plain": [
       "<Figure size 1080x504 with 1 Axes>"
      ]
     },
     "metadata": {
      "needs_background": "light"
     },
     "output_type": "display_data"
    }
   ],
   "source": [
    "get_domain_accuracies(experiment)"
   ]
  },
  {
   "cell_type": "code",
   "execution_count": 28,
   "id": "a74ae082",
   "metadata": {
    "execution": {
     "iopub.execute_input": "2022-03-28T12:45:55.348440Z",
     "iopub.status.busy": "2022-03-28T12:45:55.348055Z",
     "iopub.status.idle": "2022-03-28T12:45:55.378346Z",
     "shell.execute_reply": "2022-03-28T12:45:55.377514Z"
    },
    "papermill": {
     "duration": 0.082103,
     "end_time": "2022-03-28T12:45:55.378509",
     "exception": false,
     "start_time": "2022-03-28T12:45:55.296406",
     "status": "completed"
    },
    "tags": []
   },
   "outputs": [
    {
     "name": "stdout",
     "output_type": "stream",
     "text": [
      "Source Test Label Accuracy: 0.9959666105499438 Target Test Label Accuracy: 0.4073893229166667\n",
      "Source Val Label Accuracy: 0.9971461187214612 Target Val Label Accuracy: 0.4063802083333333\n"
     ]
    }
   ],
   "source": [
    "print(\"Source Test Label Accuracy:\", experiment[\"results\"][\"source_test_label_accuracy\"], \"Target Test Label Accuracy:\", experiment[\"results\"][\"target_test_label_accuracy\"])\n",
    "print(\"Source Val Label Accuracy:\", experiment[\"results\"][\"source_val_label_accuracy\"], \"Target Val Label Accuracy:\", experiment[\"results\"][\"target_val_label_accuracy\"])"
   ]
  },
  {
   "cell_type": "code",
   "execution_count": 29,
   "id": "dacca602",
   "metadata": {
    "execution": {
     "iopub.execute_input": "2022-03-28T12:45:55.479523Z",
     "iopub.status.busy": "2022-03-28T12:45:55.478799Z",
     "iopub.status.idle": "2022-03-28T12:45:55.502793Z",
     "shell.execute_reply": "2022-03-28T12:45:55.503491Z"
    },
    "papermill": {
     "duration": 0.074502,
     "end_time": "2022-03-28T12:45:55.503695",
     "exception": false,
     "start_time": "2022-03-28T12:45:55.429193",
     "status": "completed"
    },
    "tags": [
     "experiment_json"
    ]
   },
   "outputs": [
    {
     "data": {
      "text/plain": [
       "'{\"experiment_name\": \"tl_3-jitter5v2:cores -> oracle.run1.framed\", \"parameters\": {\"experiment_name\": \"tl_3-jitter5v2:cores -> oracle.run1.framed\", \"device\": \"cuda\", \"lr\": 0.0001, \"x_shape\": [2, 256], \"n_shot\": 3, \"n_query\": 2, \"train_k_factor\": 3, \"val_k_factor\": 2, \"test_k_factor\": 2, \"torch_default_dtype\": \"torch.float32\", \"n_epoch\": 50, \"patience\": 3, \"criteria_for_best\": \"target_accuracy\", \"x_net\": [{\"class\": \"nnReshape\", \"kargs\": {\"shape\": [-1, 1, 2, 256]}}, {\"class\": \"Conv2d\", \"kargs\": {\"in_channels\": 1, \"out_channels\": 256, \"kernel_size\": [1, 7], \"bias\": false, \"padding\": [0, 3]}}, {\"class\": \"ReLU\", \"kargs\": {\"inplace\": true}}, {\"class\": \"BatchNorm2d\", \"kargs\": {\"num_features\": 256}}, {\"class\": \"Conv2d\", \"kargs\": {\"in_channels\": 256, \"out_channels\": 80, \"kernel_size\": [2, 7], \"bias\": true, \"padding\": [0, 3]}}, {\"class\": \"ReLU\", \"kargs\": {\"inplace\": true}}, {\"class\": \"BatchNorm2d\", \"kargs\": {\"num_features\": 80}}, {\"class\": \"Flatten\", \"kargs\": {}}, {\"class\": \"Linear\", \"kargs\": {\"in_features\": 20480, \"out_features\": 256}}, {\"class\": \"ReLU\", \"kargs\": {\"inplace\": true}}, {\"class\": \"BatchNorm1d\", \"kargs\": {\"num_features\": 256}}, {\"class\": \"Linear\", \"kargs\": {\"in_features\": 256, \"out_features\": 256}}], \"NUM_LOGS_PER_EPOCH\": 10, \"BEST_MODEL_PATH\": \"./best_model.pth\", \"n_way\": 16, \"datasets\": [{\"labels\": [\"1-10.\", \"1-11.\", \"1-15.\", \"1-16.\", \"1-17.\", \"1-18.\", \"1-19.\", \"10-4.\", \"10-7.\", \"11-1.\", \"11-14.\", \"11-17.\", \"11-20.\", \"11-7.\", \"13-20.\", \"13-8.\", \"14-10.\", \"14-11.\", \"14-14.\", \"14-7.\", \"15-1.\", \"15-20.\", \"16-1.\", \"16-16.\", \"17-10.\", \"17-11.\", \"17-2.\", \"19-1.\", \"19-16.\", \"19-19.\", \"19-20.\", \"19-3.\", \"2-10.\", \"2-11.\", \"2-17.\", \"2-18.\", \"2-20.\", \"2-3.\", \"2-4.\", \"2-5.\", \"2-6.\", \"2-7.\", \"2-8.\", \"3-13.\", \"3-18.\", \"3-3.\", \"4-1.\", \"4-10.\", \"4-11.\", \"4-19.\", \"5-5.\", \"6-15.\", \"7-10.\", \"7-14.\", \"8-18.\", \"8-20.\", \"8-3.\", \"8-8.\"], \"domains\": [1, 2, 3, 4, 5], \"num_examples_per_domain_per_label\": -1, \"pickle_path\": \"/root/csc500-main/datasets/cores.stratified_ds.2022A.pkl\", \"source_or_target_dataset\": \"source\", \"x_transforms\": [\"jitter_256_5\", \"lowpass_+/-10MHz\", \"take_200\"], \"episode_transforms\": [], \"domain_prefix\": \"C_\"}, {\"labels\": [\"3123D52\", \"3123D65\", \"3123D79\", \"3123D80\", \"3123D54\", \"3123D70\", \"3123D7B\", \"3123D89\", \"3123D58\", \"3123D76\", \"3123D7D\", \"3123EFE\", \"3123D64\", \"3123D78\", \"3123D7E\", \"3124E4A\"], \"domains\": [32, 38, 8, 44, 14, 50, 20, 26], \"num_examples_per_domain_per_label\": 2000, \"pickle_path\": \"/root/csc500-main/datasets/oracle.Run1_framed_2000Examples_stratified_ds.2022A.pkl\", \"source_or_target_dataset\": \"target\", \"x_transforms\": [\"jitter_256_5\", \"take_200\", \"resample_20Msps_to_25Msps\"], \"episode_transforms\": [], \"domain_prefix\": \"O_\"}], \"seed\": 1337, \"dataset_seed\": 1337, \"domains_source\": [\"C_1\", \"C_2\", \"C_3\", \"C_4\", \"C_5\"], \"domains_target\": [\"O_32\", \"O_38\", \"O_8\", \"O_44\", \"O_14\", \"O_50\", \"O_20\", \"O_26\"]}, \"results\": {\"source_test_label_accuracy\": 0.9959666105499438, \"source_test_label_loss\": 0.018253978341817856, \"target_test_label_accuracy\": 0.4073893229166667, \"target_test_label_loss\": 1.8989436626434326, \"source_val_label_accuracy\": 0.9971461187214612, \"source_val_label_loss\": 0.020612772554159164, \"target_val_label_accuracy\": 0.4063802083333333, \"target_val_label_loss\": 1.9048550128936768, \"total_epochs_trained\": 6, \"total_experiment_time_secs\": 959.4151031970978, \"confusion\": {\"C_3\": {\"43\": {\"43\": 128}, \"9\": {\"9\": 150}, \"6\": {\"6\": 88}, \"3\": {\"3\": 144}, \"16\": {\"16\": 134}, \"51\": {\"51\": 128}, \"31\": {\"31\": 28}, \"46\": {\"46\": 134}, \"19\": {\"19\": 124}, \"8\": {\"8\": 152}, \"18\": {\"18\": 84}, \"37\": {\"37\": 28}, \"24\": {\"24\": 104}, \"10\": {\"10\": 64}, \"44\": {\"44\": 87, \"40\": 1}, \"14\": {\"14\": 37, \"13\": 2, \"0\": 1}, \"38\": {\"38\": 28}, \"53\": {\"53\": 140}, \"20\": {\"20\": 132}, \"32\": {\"32\": 28}, \"36\": {\"36\": 100}, \"33\": {\"33\": 28}, \"56\": {\"56\": 136}, \"23\": {\"23\": 130}, \"54\": {\"54\": 100}, \"21\": {\"21\": 125, \"50\": 1}, \"28\": {\"28\": 28}, \"26\": {\"26\": 24}, \"48\": {\"48\": 116}, \"52\": {\"52\": 118}, \"39\": {\"39\": 16}, \"22\": {\"22\": 140}, \"13\": {\"13\": 127, \"14\": 1}, \"2\": {\"2\": 32}, \"34\": {\"34\": 32}, \"27\": {\"27\": 132}, \"45\": {\"45\": 59, \"12\": 1}, \"35\": {\"35\": 28}, \"29\": {\"29\": 128}, \"25\": {\"25\": 144}, \"0\": {\"0\": 124}, \"41\": {\"41\": 28}, \"11\": {\"11\": 141, \"15\": 1}, \"5\": {\"5\": 108}, \"1\": {\"1\": 100}, \"57\": {\"57\": 116}, \"17\": {\"17\": 106, \"10\": 1, \"24\": 1}, \"7\": {\"7\": 36}, \"12\": {\"12\": 92}, \"47\": {\"47\": 92}, \"40\": {\"40\": 136}, \"15\": {\"15\": 140, \"11\": 1, \"55\": 1}, \"42\": {\"42\": 28}, \"55\": {\"55\": 150}, \"49\": {\"49\": 20}, \"30\": {\"30\": 120}, \"50\": {\"50\": 134}, \"4\": {\"4\": 136}}, \"C_4\": {\"35\": {\"35\": 40}, \"25\": {\"25\": 134}, \"24\": {\"24\": 56}, \"48\": {\"48\": 138}, \"51\": {\"51\": 144}, \"13\": {\"13\": 120}, \"14\": {\"14\": 11, \"49\": 1, \"57\": 2, \"13\": 1, \"40\": 1}, \"32\": {\"32\": 24}, \"30\": {\"30\": 44}, \"34\": {\"34\": 23, \"54\": 1}, \"9\": {\"9\": 136}, \"1\": {\"1\": 40}, \"0\": {\"0\": 80}, \"38\": {\"38\": 40}, \"22\": {\"22\": 128}, \"40\": {\"40\": 120}, \"6\": {\"6\": 110, \"3\": 2}, \"16\": {\"16\": 96}, \"11\": {\"11\": 102, \"15\": 2}, \"20\": {\"20\": 122}, \"17\": {\"17\": 80}, \"26\": {\"26\": 24}, \"54\": {\"54\": 108}, \"55\": {\"55\": 154}, \"50\": {\"50\": 126, \"3\": 3, \"6\": 2, \"15\": 1}, \"19\": {\"19\": 142}, \"44\": {\"44\": 122}, \"47\": {\"47\": 119, \"52\": 1}, \"33\": {\"33\": 36}, \"5\": {\"5\": 108}, \"18\": {\"18\": 108}, \"21\": {\"21\": 124}, \"41\": {\"41\": 36}, \"23\": {\"23\": 128}, \"39\": {\"39\": 20}, \"37\": {\"37\": 24}, \"8\": {\"8\": 144}, \"49\": {\"49\": 20}, \"53\": {\"53\": 140}, \"31\": {\"31\": 27, \"55\": 1}, \"28\": {\"28\": 32}, \"3\": {\"3\": 120, \"6\": 2, \"50\": 1, \"44\": 1}, \"27\": {\"27\": 138}, \"46\": {\"46\": 127, \"22\": 1}, \"12\": {\"12\": 92}, \"7\": {\"7\": 24}, \"4\": {\"4\": 132}, \"42\": {\"42\": 32}, \"43\": {\"43\": 129, \"38\": 1}, \"29\": {\"29\": 120}, \"57\": {\"57\": 100}, \"52\": {\"52\": 104}, \"45\": {\"45\": 96}, \"36\": {\"36\": 91, \"54\": 1}, \"10\": {\"10\": 126}, \"15\": {\"15\": 133, \"11\": 1}, \"56\": {\"56\": 124}, \"2\": {\"2\": 36}}, \"C_5\": {\"47\": {\"47\": 100}, \"53\": {\"53\": 150}, \"29\": {\"29\": 126}, \"52\": {\"52\": 129, \"47\": 1}, \"55\": {\"55\": 143, \"53\": 1}, \"17\": {\"17\": 116}, \"42\": {\"42\": 40}, \"33\": {\"33\": 32}, \"11\": {\"11\": 148}, \"19\": {\"19\": 118}, \"1\": {\"1\": 144}, \"44\": {\"44\": 141, \"3\": 1}, \"49\": {\"49\": 36}, \"4\": {\"4\": 100}, \"6\": {\"6\": 112, \"45\": 4}, \"39\": {\"39\": 20}, \"50\": {\"50\": 147, \"6\": 1}, \"56\": {\"56\": 130}, \"25\": {\"25\": 144}, \"28\": {\"28\": 32}, \"35\": {\"35\": 36}, \"24\": {\"24\": 80}, \"21\": {\"21\": 132}, \"45\": {\"45\": 123, \"6\": 1}, \"16\": {\"16\": 144}, \"37\": {\"37\": 24}, \"57\": {\"57\": 132}, \"34\": {\"34\": 36}, \"38\": {\"38\": 32}, \"48\": {\"48\": 130}, \"26\": {\"26\": 24}, \"9\": {\"9\": 152}, \"18\": {\"18\": 64}, \"3\": {\"3\": 98, \"44\": 2}, \"23\": {\"23\": 124}, \"15\": {\"15\": 152, \"11\": 2}, \"10\": {\"10\": 68}, \"46\": {\"46\": 148}, \"22\": {\"22\": 28}, \"54\": {\"54\": 112}, \"27\": {\"27\": 160}, \"41\": {\"41\": 28}, \"31\": {\"31\": 36}, \"0\": {\"0\": 124}, \"7\": {\"7\": 32}, \"2\": {\"2\": 28}, \"14\": {\"14\": 42, \"57\": 1, \"29\": 1}, \"40\": {\"40\": 124}, \"5\": {\"5\": 128}, \"12\": {\"12\": 96}, \"43\": {\"43\": 141, \"24\": 1}, \"13\": {\"13\": 148}, \"36\": {\"36\": 92}, \"8\": {\"8\": 150}, \"32\": {\"32\": 32}, \"30\": {\"30\": 128}, \"51\": {\"51\": 138}, \"20\": {\"20\": 137, \"9\": 1}}, \"C_1\": {\"46\": {\"46\": 138, \"5\": 2}, \"16\": {\"16\": 134}, \"26\": {\"26\": 24}, \"10\": {\"10\": 96}, \"9\": {\"9\": 156}, \"28\": {\"28\": 28}, \"51\": {\"51\": 156}, \"1\": {\"1\": 100}, \"55\": {\"55\": 148}, \"27\": {\"27\": 124}, \"22\": {\"22\": 124}, \"52\": {\"52\": 126}, \"3\": {\"3\": 140}, \"33\": {\"33\": 32}, \"47\": {\"47\": 120}, \"42\": {\"42\": 40}, \"12\": {\"12\": 116}, \"23\": {\"23\": 132}, \"49\": {\"49\": 32}, \"7\": {\"7\": 28}, \"4\": {\"4\": 132}, \"50\": {\"50\": 134}, \"19\": {\"19\": 154}, \"11\": {\"11\": 140}, \"31\": {\"31\": 28}, \"41\": {\"41\": 24}, \"56\": {\"56\": 138}, \"0\": {\"0\": 148}, \"57\": {\"57\": 128}, \"53\": {\"53\": 140}, \"43\": {\"43\": 144}, \"37\": {\"37\": 32}, \"2\": {\"2\": 36}, \"6\": {\"6\": 95, \"46\": 1}, \"13\": {\"13\": 148, \"57\": 2}, \"18\": {\"18\": 72}, \"36\": {\"36\": 64}, \"29\": {\"29\": 138, \"57\": 2}, \"39\": {\"39\": 28}, \"17\": {\"17\": 64}, \"21\": {\"21\": 124}, \"25\": {\"25\": 132}, \"45\": {\"45\": 142}, \"38\": {\"21\": 4, \"38\": 19, \"36\": 1}, \"30\": {\"30\": 120}, \"24\": {\"24\": 108}, \"20\": {\"20\": 140}, \"8\": {\"8\": 140}, \"35\": {\"35\": 36}, \"54\": {\"54\": 104}, \"5\": {\"5\": 148}, \"48\": {\"48\": 144}, \"15\": {\"15\": 142}, \"34\": {\"34\": 24}, \"14\": {\"14\": 23, \"8\": 1}, \"32\": {\"32\": 32}, \"40\": {\"40\": 148}, \"44\": {\"44\": 136}}, \"C_2\": {\"36\": {\"36\": 116}, \"5\": {\"5\": 120}, \"45\": {\"45\": 128}, \"49\": {\"49\": 23, \"33\": 1}, \"50\": {\"50\": 136}, \"4\": {\"4\": 138}, \"43\": {\"43\": 148}, \"41\": {\"41\": 19, \"52\": 1}, \"37\": {\"37\": 36}, \"12\": {\"12\": 92}, \"33\": {\"33\": 28}, \"7\": {\"7\": 34, \"42\": 2}, \"56\": {\"56\": 140}, \"14\": {\"14\": 22, \"0\": 2}, \"52\": {\"52\": 124}, \"44\": {\"44\": 96}, \"48\": {\"48\": 144}, \"20\": {\"20\": 128}, \"55\": {\"55\": 144}, \"32\": {\"32\": 26, \"54\": 2}, \"40\": {\"40\": 136}, \"54\": {\"54\": 108}, \"17\": {\"17\": 104}, \"38\": {\"38\": 20}, \"24\": {\"24\": 96}, \"1\": {\"1\": 112}, \"6\": {\"6\": 124}, \"34\": {\"34\": 28}, \"11\": {\"11\": 136}, \"9\": {\"9\": 150}, \"8\": {\"8\": 152}, \"22\": {\"22\": 136}, \"26\": {\"26\": 23, \"53\": 1}, \"23\": {\"23\": 146}, \"10\": {\"10\": 112}, \"18\": {\"18\": 48}, \"13\": {\"13\": 116}, \"30\": {\"30\": 128}, \"42\": {\"42\": 35, \"7\": 1}, \"31\": {\"31\": 28}, \"46\": {\"46\": 128}, \"57\": {\"57\": 142}, \"47\": {\"47\": 138}, \"35\": {\"35\": 30, \"34\": 2}, \"15\": {\"15\": 132}, \"25\": {\"25\": 136}, \"19\": {\"19\": 136}, \"51\": {\"51\": 128}, \"53\": {\"53\": 134}, \"21\": {\"21\": 120}, \"39\": {\"39\": 28}, \"2\": {\"2\": 32}, \"16\": {\"16\": 150}, \"0\": {\"0\": 48}, \"3\": {\"3\": 92}, \"27\": {\"27\": 142}, \"28\": {\"28\": 28}, \"29\": {\"29\": 128}}, \"O_14\": {\"15\": {\"15\": 240}, \"3\": {\"7\": 43, \"3\": 78, \"13\": 26, \"0\": 21, \"2\": 10, \"6\": 42, \"8\": 3, \"14\": 12, \"5\": 5}, \"6\": {\"13\": 71, \"6\": 98, \"3\": 28, \"0\": 16, \"14\": 18, \"2\": 7, \"5\": 1, \"7\": 1}, \"1\": {\"9\": 81, \"10\": 11, \"1\": 143, \"4\": 4, \"8\": 1}, \"8\": {\"12\": 41, \"8\": 127, \"4\": 7, \"7\": 36, \"5\": 18, \"3\": 5, \"0\": 5, \"2\": 1}, \"10\": {\"10\": 134, \"2\": 11, \"4\": 45, \"1\": 9, \"9\": 34, \"12\": 5, \"5\": 2}, \"9\": {\"10\": 33, \"9\": 115, \"4\": 8, \"1\": 84}, \"13\": {\"3\": 17, \"4\": 12, \"5\": 11, \"2\": 22, \"14\": 27, \"6\": 54, \"13\": 46, \"15\": 20, \"7\": 1, \"0\": 18, \"12\": 5, \"10\": 7}, \"12\": {\"12\": 101, \"5\": 45, \"8\": 18, \"2\": 13, \"14\": 3, \"4\": 39, \"3\": 2, \"7\": 2, \"0\": 11, \"10\": 3, \"9\": 3}, \"5\": {\"0\": 22, \"12\": 58, \"6\": 2, \"5\": 49, \"2\": 34, \"8\": 14, \"4\": 22, \"7\": 8, \"14\": 14, \"3\": 16, \"13\": 1}, \"0\": {\"3\": 27, \"2\": 27, \"5\": 33, \"4\": 12, \"8\": 5, \"14\": 26, \"0\": 32, \"13\": 15, \"7\": 25, \"6\": 22, \"10\": 2, \"12\": 14}, \"2\": {\"0\": 27, \"4\": 31, \"10\": 10, \"5\": 25, \"7\": 5, \"2\": 50, \"6\": 19, \"12\": 11, \"14\": 35, \"13\": 9, \"3\": 17, \"8\": 1}, \"11\": {\"11\": 237, \"1\": 1, \"9\": 2}, \"14\": {\"2\": 41, \"13\": 16, \"0\": 32, \"6\": 42, \"14\": 59, \"3\": 24, \"5\": 20, \"4\": 2, \"7\": 2, \"12\": 2}, \"7\": {\"2\": 3, \"8\": 47, \"7\": 107, \"6\": 4, \"5\": 15, \"14\": 3, \"3\": 41, \"0\": 16, \"4\": 1, \"12\": 3}, \"4\": {\"4\": 79, \"10\": 58, \"2\": 19, \"12\": 36, \"5\": 20, \"0\": 8, \"1\": 4, \"14\": 4, \"9\": 6, \"8\": 5, \"13\": 1}}, \"O_20\": {\"3\": {\"9\": 23, \"7\": 15, \"0\": 9, \"3\": 32, \"1\": 24, \"12\": 6, \"8\": 43, \"5\": 37, \"14\": 28, \"15\": 8, \"6\": 11, \"2\": 3, \"11\": 1}, \"15\": {\"13\": 44, \"2\": 30, \"1\": 16, \"10\": 5, \"5\": 10, \"9\": 19, \"15\": 24, \"12\": 21, \"6\": 21, \"7\": 24, \"4\": 7, \"8\": 6, \"3\": 11, \"0\": 1, \"14\": 1}, \"8\": {\"3\": 37, \"5\": 38, \"8\": 56, \"0\": 24, \"15\": 2, \"14\": 34, \"2\": 5, \"12\": 2, \"9\": 21, \"1\": 11, \"7\": 6, \"6\": 1, \"10\": 1, \"4\": 2}, \"4\": {\"12\": 29, \"6\": 31, \"10\": 40, \"2\": 12, \"7\": 17, \"5\": 4, \"4\": 55, \"14\": 12, \"1\": 4, \"3\": 2, \"15\": 15, \"13\": 10, \"9\": 6, \"8\": 3}, \"14\": {\"14\": 71, \"9\": 17, \"8\": 36, \"1\": 24, \"3\": 21, \"5\": 31, \"7\": 11, \"0\": 6, \"6\": 8, \"4\": 9, \"12\": 3, \"2\": 2, \"13\": 1}, \"0\": {\"11\": 56, \"0\": 133, \"8\": 24, \"1\": 4, \"5\": 6, \"9\": 5, \"3\": 7, \"14\": 5}, \"7\": {\"5\": 18, \"12\": 34, \"15\": 20, \"3\": 16, \"2\": 22, \"1\": 15, \"8\": 16, \"7\": 24, \"14\": 12, \"9\": 17, \"6\": 22, \"13\": 10, \"4\": 11, \"10\": 3}, \"6\": {\"1\": 13, \"4\": 26, \"2\": 30, \"13\": 11, \"12\": 26, \"8\": 10, \"15\": 18, \"7\": 23, \"6\": 30, \"14\": 25, \"10\": 10, \"5\": 7, \"3\": 5, \"9\": 6}, \"10\": {\"10\": 154, \"4\": 46, \"6\": 9, \"13\": 12, \"5\": 1, \"12\": 9, \"2\": 3, \"14\": 1, \"15\": 5}, \"5\": {\"7\": 26, \"5\": 32, \"3\": 19, \"14\": 21, \"1\": 24, \"8\": 33, \"6\": 9, \"9\": 27, \"4\": 6, \"11\": 2, \"15\": 13, \"12\": 13, \"2\": 10, \"13\": 2, \"0\": 3}, \"2\": {\"2\": 32, \"15\": 28, \"7\": 24, \"13\": 46, \"5\": 8, \"9\": 13, \"12\": 27, \"1\": 15, \"10\": 3, \"6\": 16, \"14\": 5, \"4\": 16, \"3\": 6, \"8\": 1}, \"12\": {\"4\": 22, \"15\": 23, \"7\": 22, \"2\": 22, \"12\": 27, \"1\": 10, \"13\": 32, \"6\": 20, \"9\": 16, \"10\": 15, \"3\": 9, \"14\": 11, \"5\": 9, \"8\": 2}, \"9\": {\"7\": 16, \"2\": 15, \"5\": 39, \"15\": 17, \"8\": 20, \"9\": 31, \"3\": 27, \"6\": 6, \"1\": 24, \"12\": 16, \"14\": 15, \"4\": 7, \"13\": 4, \"0\": 2, \"10\": 1}, \"1\": {\"9\": 22, \"2\": 20, \"14\": 18, \"15\": 27, \"1\": 27, \"8\": 12, \"13\": 6, \"5\": 28, \"4\": 5, \"12\": 24, \"6\": 7, \"7\": 14, \"3\": 25, \"0\": 5}, \"11\": {\"0\": 57, \"11\": 178, \"5\": 1, \"1\": 2, \"8\": 2}, \"13\": {\"2\": 30, \"15\": 31, \"13\": 104, \"12\": 19, \"6\": 8, \"4\": 7, \"7\": 15, \"9\": 4, \"5\": 6, \"1\": 3, \"10\": 9, \"14\": 2, \"3\": 1, \"8\": 1}}, \"O_38\": {\"5\": {\"8\": 71, \"14\": 5, \"5\": 69, \"12\": 6, \"9\": 25, \"15\": 37, \"7\": 5, \"2\": 20, \"13\": 1, \"6\": 1}, \"8\": {\"2\": 33, \"12\": 18, \"8\": 61, \"15\": 40, \"5\": 53, \"7\": 14, \"0\": 1, \"9\": 15, \"14\": 5}, \"11\": {\"11\": 235, \"3\": 5}, \"1\": {\"6\": 112, \"1\": 118, \"15\": 10}, \"10\": {\"0\": 71, \"10\": 124, \"13\": 32, \"4\": 8, \"3\": 5}, \"15\": {\"15\": 159, \"8\": 21, \"5\": 30, \"6\": 16, \"1\": 12, \"12\": 2}, \"3\": {\"3\": 231, \"11\": 8, \"10\": 1}, \"7\": {\"9\": 5, \"2\": 53, \"7\": 85, \"14\": 62, \"5\": 7, \"8\": 12, \"13\": 7, \"4\": 3, \"0\": 6}, \"4\": {\"4\": 221, \"14\": 8, \"10\": 8, \"0\": 2, \"13\": 1}, \"14\": {\"8\": 6, \"14\": 111, \"7\": 64, \"2\": 35, \"4\": 12, \"10\": 1, \"0\": 7, \"13\": 2, \"5\": 2}, \"9\": {\"9\": 158, \"5\": 22, \"8\": 13, \"2\": 36, \"15\": 1, \"7\": 8, \"14\": 2}, \"12\": {\"12\": 226, \"5\": 7, \"8\": 6, \"15\": 1}, \"6\": {\"6\": 116, \"1\": 114, \"15\": 10}, \"2\": {\"7\": 55, \"2\": 89, \"8\": 28, \"14\": 22, \"0\": 3, \"9\": 34, \"13\": 5, \"5\": 4}, \"0\": {\"13\": 68, \"2\": 13, \"10\": 77, \"0\": 52, \"14\": 5, \"3\": 8, \"7\": 10, \"11\": 1, \"4\": 2, \"9\": 3, \"8\": 1}, \"13\": {\"13\": 133, \"4\": 1, \"10\": 20, \"0\": 59, \"2\": 10, \"8\": 2, \"7\": 9, \"14\": 3, \"9\": 3}}, \"O_8\": {\"9\": {\"9\": 224, \"3\": 16}, \"10\": {\"5\": 41, \"10\": 53, \"6\": 31, \"13\": 46, \"7\": 36, \"4\": 11, \"1\": 13, \"11\": 6, \"14\": 1, \"12\": 2}, \"13\": {\"5\": 39, \"10\": 60, \"13\": 60, \"7\": 41, \"6\": 26, \"12\": 4, \"1\": 8, \"4\": 2}, \"0\": {\"0\": 230, \"14\": 9, \"4\": 1}, \"1\": {\"6\": 26, \"11\": 36, \"1\": 63, \"7\": 16, \"5\": 30, \"4\": 18, \"8\": 27, \"10\": 17, \"13\": 6, \"14\": 1}, \"15\": {\"12\": 95, \"2\": 25, \"15\": 117, \"3\": 3}, \"5\": {\"5\": 54, \"10\": 55, \"13\": 39, \"6\": 23, \"11\": 13, \"4\": 7, \"7\": 26, \"1\": 15, \"8\": 2, \"12\": 6}, \"3\": {\"3\": 210, \"2\": 21, \"9\": 9}, \"6\": {\"6\": 47, \"1\": 29, \"5\": 30, \"4\": 41, \"8\": 7, \"7\": 26, \"11\": 8, \"10\": 22, \"13\": 27, \"14\": 3}, \"11\": {\"10\": 8, \"4\": 21, \"11\": 66, \"1\": 53, \"8\": 38, \"6\": 10, \"14\": 11, \"5\": 21, \"7\": 8, \"13\": 4}, \"8\": {\"11\": 40, \"8\": 74, \"4\": 47, \"14\": 36, \"1\": 31, \"6\": 6, \"7\": 4, \"5\": 1, \"10\": 1}, \"4\": {\"14\": 62, \"6\": 26, \"4\": 68, \"10\": 4, \"8\": 31, \"11\": 18, \"1\": 23, \"5\": 4, \"7\": 4}, \"12\": {\"12\": 132, \"15\": 97, \"2\": 11}, \"14\": {\"0\": 5, \"14\": 143, \"11\": 9, \"6\": 2, \"4\": 49, \"8\": 29, \"1\": 3}, \"2\": {\"3\": 51, \"12\": 22, \"2\": 132, \"15\": 33, \"13\": 1, \"9\": 1}, \"7\": {\"13\": 42, \"4\": 17, \"10\": 34, \"5\": 27, \"7\": 46, \"1\": 17, \"6\": 52, \"11\": 3, \"8\": 2}}, \"O_50\": {\"7\": {\"5\": 32, \"7\": 119, \"4\": 81, \"6\": 4, \"9\": 3, \"15\": 1}, \"3\": {\"3\": 62, \"5\": 22, \"11\": 56, \"15\": 37, \"7\": 2, \"6\": 41, \"13\": 9, \"12\": 4, \"9\": 7}, \"8\": {\"8\": 113, \"10\": 49, \"1\": 61, \"13\": 16, \"0\": 1}, \"2\": {\"2\": 108, \"0\": 38, \"14\": 80, \"10\": 13, \"8\": 1}, \"14\": {\"14\": 80, \"2\": 90, \"0\": 62, \"10\": 7, \"8\": 1}, \"4\": {\"7\": 108, \"5\": 30, \"4\": 80, \"15\": 12, \"9\": 8, \"3\": 1, \"6\": 1}, \"6\": {\"9\": 26, \"15\": 48, \"6\": 51, \"3\": 37, \"11\": 28, \"12\": 7, \"5\": 36, \"4\": 2, \"7\": 5}, \"15\": {\"15\": 68, \"3\": 42, \"5\": 37, \"11\": 19, \"9\": 19, \"6\": 44, \"7\": 4, \"4\": 4, \"12\": 3}, \"10\": {\"1\": 21, \"0\": 48, \"10\": 128, \"8\": 33, \"2\": 3, \"14\": 6, \"13\": 1}, \"11\": {\"3\": 40, \"13\": 19, \"11\": 90, \"9\": 13, \"15\": 19, \"12\": 25, \"6\": 30, \"1\": 2, \"5\": 2}, \"13\": {\"3\": 18, \"13\": 132, \"1\": 55, \"11\": 18, \"6\": 6, \"8\": 10, \"5\": 1}, \"9\": {\"9\": 79, \"6\": 36, \"15\": 29, \"12\": 30, \"5\": 15, \"11\": 32, \"3\": 11, \"4\": 6, \"7\": 2}, \"0\": {\"14\": 57, \"0\": 82, \"10\": 58, \"2\": 40, \"8\": 3}, \"1\": {\"1\": 85, \"8\": 67, \"10\": 26, \"13\": 51, \"11\": 7, \"0\": 2, \"14\": 1, \"3\": 1}, \"12\": {\"12\": 147, \"9\": 61, \"13\": 2, \"15\": 3, \"11\": 18, \"3\": 3, \"6\": 6}, \"5\": {\"5\": 40, \"9\": 17, \"4\": 35, \"7\": 45, \"15\": 30, \"11\": 11, \"6\": 34, \"3\": 19, \"1\": 3, \"13\": 6}}, \"O_32\": {\"8\": {\"2\": 11, \"8\": 70, \"0\": 61, \"3\": 4, \"5\": 22, \"7\": 15, \"14\": 19, \"1\": 16, \"15\": 19, \"4\": 3}, \"14\": {\"0\": 32, \"5\": 21, \"14\": 84, \"2\": 26, \"8\": 22, \"7\": 42, \"1\": 5, \"4\": 7, \"15\": 1}, \"2\": {\"3\": 14, \"2\": 97, \"4\": 67, \"1\": 19, \"14\": 17, \"8\": 15, \"0\": 4, \"9\": 1, \"13\": 6}, \"0\": {\"7\": 41, \"0\": 53, \"8\": 49, \"5\": 40, \"14\": 45, \"15\": 4, \"2\": 3, \"1\": 4, \"4\": 1}, \"1\": {\"13\": 8, \"1\": 115, \"8\": 23, \"2\": 24, \"3\": 31, \"4\": 34, \"0\": 5}, \"10\": {\"10\": 188, \"12\": 45, \"6\": 7}, \"11\": {\"9\": 55, \"11\": 135, \"13\": 20, \"12\": 24, \"10\": 1, \"3\": 2, \"4\": 3}, \"5\": {\"5\": 77, \"0\": 48, \"7\": 55, \"14\": 20, \"8\": 22, \"1\": 2, \"4\": 1, \"15\": 14, \"2\": 1}, \"15\": {\"15\": 208, \"5\": 10, \"0\": 5, \"8\": 16, \"7\": 1}, \"3\": {\"13\": 54, \"3\": 79, \"2\": 13, \"4\": 36, \"1\": 42, \"9\": 14, \"8\": 1, \"14\": 1}, \"12\": {\"12\": 157, \"10\": 42, \"9\": 22, \"11\": 19}, \"7\": {\"7\": 68, \"5\": 56, \"0\": 48, \"8\": 15, \"14\": 51, \"2\": 1, \"15\": 1}, \"13\": {\"13\": 70, \"3\": 56, \"4\": 31, \"9\": 41, \"1\": 15, \"11\": 18, \"2\": 8, \"8\": 1}, \"6\": {\"6\": 226, \"10\": 12, \"12\": 2}, \"4\": {\"13\": 31, \"2\": 51, \"4\": 62, \"14\": 4, \"3\": 37, \"1\": 38, \"9\": 7, \"0\": 4, \"8\": 5, \"11\": 1}, \"9\": {\"9\": 56, \"3\": 25, \"11\": 68, \"12\": 32, \"4\": 8, \"13\": 44, \"10\": 1, \"6\": 2, \"2\": 3, \"1\": 1}}, \"O_26\": {\"4\": {\"4\": 202, \"3\": 18, \"13\": 7, \"7\": 7, \"12\": 3, \"8\": 3}, \"12\": {\"13\": 31, \"12\": 45, \"7\": 38, \"9\": 40, \"8\": 32, \"2\": 19, \"3\": 29, \"0\": 4, \"14\": 2}, \"10\": {\"14\": 51, \"0\": 48, \"1\": 25, \"10\": 44, \"15\": 19, \"6\": 29, \"2\": 7, \"9\": 5, \"7\": 2, \"5\": 5, \"8\": 5}, \"0\": {\"7\": 10, \"10\": 41, \"14\": 44, \"0\": 57, \"8\": 11, \"2\": 43, \"12\": 4, \"9\": 9, \"6\": 5, \"15\": 9, \"1\": 7}, \"13\": {\"2\": 13, \"4\": 17, \"9\": 23, \"7\": 16, \"13\": 100, \"8\": 9, \"3\": 45, \"12\": 15, \"15\": 1, \"14\": 1}, \"9\": {\"13\": 26, \"3\": 24, \"9\": 30, \"7\": 27, \"12\": 40, \"8\": 30, \"2\": 36, \"0\": 16, \"10\": 7, \"4\": 2, \"14\": 2}, \"3\": {\"4\": 15, \"13\": 42, \"3\": 62, \"9\": 17, \"8\": 32, \"2\": 6, \"7\": 35, \"12\": 29, \"0\": 2}, \"2\": {\"5\": 2, \"2\": 50, \"7\": 21, \"10\": 20, \"0\": 41, \"8\": 26, \"12\": 16, \"13\": 12, \"9\": 28, \"3\": 12, \"14\": 6, \"15\": 4, \"6\": 2}, \"5\": {\"5\": 81, \"15\": 45, \"6\": 31, \"11\": 41, \"14\": 8, \"1\": 21, \"2\": 1, \"10\": 11, \"0\": 1}, \"14\": {\"10\": 59, \"7\": 1, \"14\": 61, \"0\": 40, \"1\": 36, \"6\": 19, \"2\": 10, \"15\": 10, \"5\": 2, \"9\": 1, \"11\": 1}, \"8\": {\"8\": 28, \"7\": 50, \"9\": 27, \"0\": 21, \"2\": 35, \"3\": 34, \"12\": 17, \"14\": 8, \"13\": 16, \"10\": 3, \"15\": 1}, \"7\": {\"3\": 49, \"2\": 29, \"12\": 19, \"8\": 49, \"7\": 42, \"13\": 18, \"0\": 8, \"9\": 22, \"14\": 3, \"10\": 1}, \"6\": {\"6\": 58, \"5\": 40, \"10\": 27, \"15\": 51, \"11\": 9, \"1\": 42, \"14\": 7, \"0\": 5, \"2\": 1}, \"11\": {\"11\": 126, \"6\": 12, \"15\": 22, \"5\": 62, \"1\": 16, \"10\": 2}, \"15\": {\"5\": 38, \"10\": 22, \"15\": 55, \"6\": 47, \"14\": 15, \"11\": 13, \"1\": 21, \"0\": 16, \"9\": 3, \"8\": 1, \"2\": 9}, \"1\": {\"15\": 15, \"14\": 29, \"1\": 110, \"5\": 11, \"6\": 32, \"10\": 25, \"0\": 7, \"11\": 10, \"2\": 1}}, \"O_44\": {\"12\": {\"12\": 126, \"3\": 109, \"0\": 5}, \"7\": {\"10\": 38, \"5\": 22, \"6\": 12, \"4\": 24, \"14\": 21, \"7\": 69, \"2\": 1, \"15\": 2, \"9\": 47, \"13\": 4}, \"5\": {\"10\": 27, \"14\": 37, \"9\": 6, \"15\": 40, \"2\": 7, \"5\": 48, \"4\": 30, \"1\": 16, \"7\": 23, \"8\": 6}, \"15\": {\"10\": 13, \"5\": 31, \"2\": 19, \"1\": 24, \"15\": 67, \"14\": 26, \"8\": 39, \"0\": 8, \"4\": 10, \"9\": 1, \"7\": 2}, \"8\": {\"0\": 67, \"8\": 84, \"1\": 23, \"5\": 10, \"10\": 2, \"3\": 5, \"15\": 37, \"14\": 7, \"4\": 2, \"2\": 2, \"12\": 1}, \"2\": {\"1\": 34, \"2\": 138, \"5\": 20, \"15\": 6, \"10\": 9, \"14\": 12, \"4\": 8, \"0\": 5, \"7\": 3, \"8\": 5}, \"13\": {\"6\": 73, \"11\": 6, \"13\": 138, \"9\": 21, \"4\": 2}, \"4\": {\"4\": 42, \"10\": 48, \"5\": 21, \"8\": 6, \"9\": 28, \"15\": 8, \"14\": 15, \"6\": 7, \"2\": 24, \"7\": 30, \"1\": 8, \"13\": 2, \"0\": 1}, \"0\": {\"0\": 121, \"15\": 8, \"8\": 37, \"1\": 47, \"2\": 6, \"12\": 3, \"3\": 18}, \"6\": {\"13\": 75, \"9\": 35, \"6\": 121, \"7\": 8, \"4\": 1}, \"9\": {\"7\": 58, \"10\": 25, \"13\": 34, \"9\": 38, \"4\": 22, \"5\": 14, \"6\": 33, \"14\": 10, \"2\": 6}, \"11\": {\"11\": 240}, \"10\": {\"14\": 30, \"4\": 41, \"5\": 24, \"10\": 41, \"15\": 6, \"9\": 33, \"7\": 42, \"1\": 6, \"2\": 9, \"6\": 7, \"0\": 1}, \"14\": {\"4\": 33, \"14\": 41, \"10\": 32, \"15\": 23, \"5\": 46, \"7\": 25, \"8\": 3, \"1\": 6, \"2\": 16, \"9\": 15}, \"1\": {\"8\": 35, \"15\": 28, \"5\": 14, \"0\": 44, \"1\": 80, \"2\": 31, \"14\": 4, \"4\": 4}, \"3\": {\"3\": 118, \"12\": 95, \"0\": 22, \"8\": 1, \"1\": 2, \"2\": 2}}}, \"per_domain_accuracy\": {\"C_3\": {\"accuracy\": 0.9978197674418605, \"source?\": true}, \"C_4\": {\"accuracy\": 0.9950757575757576, \"source?\": true}, \"C_5\": {\"accuracy\": 0.997032122905028, \"source?\": true}, \"C_1\": {\"accuracy\": 0.9977800546448088, \"source?\": true}, \"C_2\": {\"accuracy\": 0.9978813559322034, \"source?\": true}, \"O_14\": {\"accuracy\": 0.44140625, \"source?\": false}, \"O_20\": {\"accuracy\": 0.2630208333333333, \"source?\": false}, \"O_38\": {\"accuracy\": 0.5697916666666667, \"source?\": false}, \"O_8\": {\"accuracy\": 0.44765625, \"source?\": false}, \"O_50\": {\"accuracy\": 0.38125, \"source?\": false}, \"O_32\": {\"accuracy\": 0.4544270833333333, \"source?\": false}, \"O_26\": {\"accuracy\": 0.29973958333333334, \"source?\": false}, \"O_44\": {\"accuracy\": 0.39375, \"source?\": false}}}, \"history\": {\"epoch_indices\": [1, 2, 3, 4, 5, 6], \"train_label_loss\": [0.05336655132340929, 0.044855563004587484, 0.019067136038350155, 0.013667846846250114, 0.01076764242285071, 0.008893475096559493], \"source_val_label_loss\": [0.0343550369143486, 0.020612772554159164, 0.018527109175920486, 0.014423266053199768, 0.01208033598959446, 0.02796155959367752], \"target_val_label_loss\": [4.0834245681762695, 1.9048550128936768, 8.650382995605469, 1.9646693468093872, 1.9724193811416626, 1.9468553066253662], \"source_val_acc_label\": [0.9926869292237442, 0.9971461187214612, 0.997181792237443, 0.9974671803652968, 0.9984660388127854, 0.9962899543378996], \"target_val_acc_label\": [0.17291666666666666, 0.4063802083333333, 0.30003255208333335, 0.373046875, 0.32574869791666666, 0.3224609375]}, \"dataset_metrics\": {\"source\": {\"train\": {\"n_unique_x\": 175201, \"n_unique_y\": 58, \"n_batch/episode\": 6322}, \"val\": {\"n_unique_x\": 37196, \"n_unique_y\": 58, \"n_batch/episode\": 876}, \"test\": {\"n_unique_x\": 37634, \"n_unique_y\": 58, \"n_batch/episode\": 891}}, \"target\": {\"train\": {\"n_unique_x\": 179200, \"n_unique_y\": 16, \"n_batch/episode\": 6720}, \"val\": {\"n_unique_x\": 38400, \"n_unique_y\": 16, \"n_batch/episode\": 960}, \"test\": {\"n_unique_x\": 38400, \"n_unique_y\": 16, \"n_batch/episode\": 960}}}}'"
      ]
     },
     "execution_count": 29,
     "metadata": {},
     "output_type": "execute_result"
    }
   ],
   "source": [
    "json.dumps(experiment)"
   ]
  }
 ],
 "metadata": {
  "celltoolbar": "Tags",
  "kernelspec": {
   "display_name": "Python 3 (ipykernel)",
   "language": "python",
   "name": "python3"
  },
  "language_info": {
   "codemirror_mode": {
    "name": "ipython",
    "version": 3
   },
   "file_extension": ".py",
   "mimetype": "text/x-python",
   "name": "python",
   "nbconvert_exporter": "python",
   "pygments_lexer": "ipython3",
   "version": "3.8.12"
  },
  "papermill": {
   "default_parameters": {},
   "duration": 1103.013342,
   "end_time": "2022-03-28T12:45:57.975184",
   "environment_variables": {},
   "exception": null,
   "input_path": "/root/csc500-main/csc500-notebooks/templates/tl_ptn_template.ipynb",
   "output_path": "trial.ipynb",
   "parameters": {
    "parameters": {
     "BEST_MODEL_PATH": "./best_model.pth",
     "NUM_LOGS_PER_EPOCH": 10,
     "criteria_for_best": "target_accuracy",
     "dataset_seed": 1337,
     "datasets": [
      {
       "domain_prefix": "C_",
       "domains": [
        1,
        2,
        3,
        4,
        5
       ],
       "episode_transforms": [],
       "labels": [
        "1-10.",
        "1-11.",
        "1-15.",
        "1-16.",
        "1-17.",
        "1-18.",
        "1-19.",
        "10-4.",
        "10-7.",
        "11-1.",
        "11-14.",
        "11-17.",
        "11-20.",
        "11-7.",
        "13-20.",
        "13-8.",
        "14-10.",
        "14-11.",
        "14-14.",
        "14-7.",
        "15-1.",
        "15-20.",
        "16-1.",
        "16-16.",
        "17-10.",
        "17-11.",
        "17-2.",
        "19-1.",
        "19-16.",
        "19-19.",
        "19-20.",
        "19-3.",
        "2-10.",
        "2-11.",
        "2-17.",
        "2-18.",
        "2-20.",
        "2-3.",
        "2-4.",
        "2-5.",
        "2-6.",
        "2-7.",
        "2-8.",
        "3-13.",
        "3-18.",
        "3-3.",
        "4-1.",
        "4-10.",
        "4-11.",
        "4-19.",
        "5-5.",
        "6-15.",
        "7-10.",
        "7-14.",
        "8-18.",
        "8-20.",
        "8-3.",
        "8-8."
       ],
       "num_examples_per_domain_per_label": -1,
       "pickle_path": "/root/csc500-main/datasets/cores.stratified_ds.2022A.pkl",
       "source_or_target_dataset": "source",
       "x_transforms": [
        "jitter_256_5",
        "lowpass_+/-10MHz",
        "take_200"
       ]
      },
      {
       "domain_prefix": "O_",
       "domains": [
        32,
        38,
        8,
        44,
        14,
        50,
        20,
        26
       ],
       "episode_transforms": [],
       "labels": [
        "3123D52",
        "3123D65",
        "3123D79",
        "3123D80",
        "3123D54",
        "3123D70",
        "3123D7B",
        "3123D89",
        "3123D58",
        "3123D76",
        "3123D7D",
        "3123EFE",
        "3123D64",
        "3123D78",
        "3123D7E",
        "3124E4A"
       ],
       "num_examples_per_domain_per_label": 2000,
       "pickle_path": "/root/csc500-main/datasets/oracle.Run1_framed_2000Examples_stratified_ds.2022A.pkl",
       "source_or_target_dataset": "target",
       "x_transforms": [
        "jitter_256_5",
        "take_200",
        "resample_20Msps_to_25Msps"
       ]
      }
     ],
     "device": "cuda",
     "experiment_name": "tl_3-jitter5v2:cores -> oracle.run1.framed",
     "lr": 0.0001,
     "n_epoch": 50,
     "n_query": 2,
     "n_shot": 3,
     "n_way": 16,
     "patience": 3,
     "seed": 1337,
     "test_k_factor": 2,
     "torch_default_dtype": "torch.float32",
     "train_k_factor": 3,
     "val_k_factor": 2,
     "x_net": [
      {
       "class": "nnReshape",
       "kargs": {
        "shape": [
         -1,
         1,
         2,
         256
        ]
       }
      },
      {
       "class": "Conv2d",
       "kargs": {
        "bias": false,
        "in_channels": 1,
        "kernel_size": [
         1,
         7
        ],
        "out_channels": 256,
        "padding": [
         0,
         3
        ]
       }
      },
      {
       "class": "ReLU",
       "kargs": {
        "inplace": true
       }
      },
      {
       "class": "BatchNorm2d",
       "kargs": {
        "num_features": 256
       }
      },
      {
       "class": "Conv2d",
       "kargs": {
        "bias": true,
        "in_channels": 256,
        "kernel_size": [
         2,
         7
        ],
        "out_channels": 80,
        "padding": [
         0,
         3
        ]
       }
      },
      {
       "class": "ReLU",
       "kargs": {
        "inplace": true
       }
      },
      {
       "class": "BatchNorm2d",
       "kargs": {
        "num_features": 80
       }
      },
      {
       "class": "Flatten",
       "kargs": {}
      },
      {
       "class": "Linear",
       "kargs": {
        "in_features": 20480,
        "out_features": 256
       }
      },
      {
       "class": "ReLU",
       "kargs": {
        "inplace": true
       }
      },
      {
       "class": "BatchNorm1d",
       "kargs": {
        "num_features": 256
       }
      },
      {
       "class": "Linear",
       "kargs": {
        "in_features": 256,
        "out_features": 256
       }
      }
     ],
     "x_shape": [
      2,
      256
     ]
    }
   },
   "start_time": "2022-03-28T12:27:34.961842",
   "version": "2.3.4"
  }
 },
 "nbformat": 4,
 "nbformat_minor": 5
}