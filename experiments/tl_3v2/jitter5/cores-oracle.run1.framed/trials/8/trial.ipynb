{
 "cells": [
  {
   "cell_type": "markdown",
   "id": "9fea5f46",
   "metadata": {
    "papermill": {
     "duration": 0.028445,
     "end_time": "2022-03-28T13:49:27.504172",
     "exception": false,
     "start_time": "2022-03-28T13:49:27.475727",
     "status": "completed"
    },
    "tags": []
   },
   "source": [
    "# Transfer Learning Template"
   ]
  },
  {
   "cell_type": "code",
   "execution_count": 1,
   "id": "0902182a",
   "metadata": {
    "execution": {
     "iopub.execute_input": "2022-03-28T13:49:27.568266Z",
     "iopub.status.busy": "2022-03-28T13:49:27.554898Z",
     "iopub.status.idle": "2022-03-28T13:49:29.405773Z",
     "shell.execute_reply": "2022-03-28T13:49:29.405142Z"
    },
    "papermill": {
     "duration": 1.877895,
     "end_time": "2022-03-28T13:49:29.405915",
     "exception": false,
     "start_time": "2022-03-28T13:49:27.528020",
     "status": "completed"
    },
    "tags": []
   },
   "outputs": [],
   "source": [
    "%load_ext autoreload\n",
    "%autoreload 2\n",
    "%matplotlib inline\n",
    "\n",
    "    \n",
    "import os, json, sys, time, random\n",
    "import numpy as np\n",
    "import torch\n",
    "from torch.optim import Adam\n",
    "from  easydict import EasyDict\n",
    "import matplotlib.pyplot as plt\n",
    "\n",
    "from steves_models.steves_ptn import Steves_Prototypical_Network\n",
    "\n",
    "from steves_utils.lazy_iterable_wrapper import Lazy_Iterable_Wrapper\n",
    "from steves_utils.iterable_aggregator import Iterable_Aggregator\n",
    "from steves_utils.ptn_train_eval_test_jig import  PTN_Train_Eval_Test_Jig\n",
    "from steves_utils.torch_sequential_builder import build_sequential\n",
    "from steves_utils.torch_utils import get_dataset_metrics, ptn_confusion_by_domain_over_dataloader\n",
    "from steves_utils.utils_v2 import (per_domain_accuracy_from_confusion, get_datasets_base_path)\n",
    "from steves_utils.PTN.utils import independent_accuracy_assesment\n",
    "\n",
    "from torch.utils.data import DataLoader\n",
    "\n",
    "from steves_utils.stratified_dataset.episodic_accessor import Episodic_Accessor_Factory\n",
    "\n",
    "from steves_utils.ptn_do_report import (\n",
    "    get_loss_curve,\n",
    "    get_results_table,\n",
    "    get_parameters_table,\n",
    "    get_domain_accuracies,\n",
    ")\n",
    "\n",
    "from steves_utils.transforms import get_chained_transform"
   ]
  },
  {
   "cell_type": "markdown",
   "id": "41c840b4",
   "metadata": {
    "papermill": {
     "duration": 0.019513,
     "end_time": "2022-03-28T13:49:29.450967",
     "exception": false,
     "start_time": "2022-03-28T13:49:29.431454",
     "status": "completed"
    },
    "tags": []
   },
   "source": [
    "# Allowed Parameters\n",
    "These are allowed parameters, not defaults\n",
    "Each of these values need to be present in the injected parameters (the notebook will raise an exception if they are not present)\n",
    "\n",
    "Papermill uses the cell tag \"parameters\" to inject the real parameters below this cell.\n",
    "Enable tags to see what I mean"
   ]
  },
  {
   "cell_type": "code",
   "execution_count": 2,
   "id": "fd44eb83",
   "metadata": {
    "execution": {
     "iopub.execute_input": "2022-03-28T13:49:29.494998Z",
     "iopub.status.busy": "2022-03-28T13:49:29.494621Z",
     "iopub.status.idle": "2022-03-28T13:49:29.520145Z",
     "shell.execute_reply": "2022-03-28T13:49:29.519391Z"
    },
    "papermill": {
     "duration": 0.049928,
     "end_time": "2022-03-28T13:49:29.520301",
     "exception": false,
     "start_time": "2022-03-28T13:49:29.470373",
     "status": "completed"
    },
    "tags": []
   },
   "outputs": [],
   "source": [
    "required_parameters = {\n",
    "    \"experiment_name\",\n",
    "    \"lr\",\n",
    "    \"device\",\n",
    "    \"seed\",\n",
    "    \"dataset_seed\",\n",
    "    \"n_shot\",\n",
    "    \"n_query\",\n",
    "    \"n_way\",\n",
    "    \"train_k_factor\",\n",
    "    \"val_k_factor\",\n",
    "    \"test_k_factor\",\n",
    "    \"n_epoch\",\n",
    "    \"patience\",\n",
    "    \"criteria_for_best\",\n",
    "    \"x_net\",\n",
    "    \"datasets\",\n",
    "    \"torch_default_dtype\",\n",
    "    \"NUM_LOGS_PER_EPOCH\",\n",
    "    \"BEST_MODEL_PATH\",\n",
    "    \"x_shape\",\n",
    "}"
   ]
  },
  {
   "cell_type": "code",
   "execution_count": 3,
   "id": "fa3f0049",
   "metadata": {
    "execution": {
     "iopub.execute_input": "2022-03-28T13:49:29.579815Z",
     "iopub.status.busy": "2022-03-28T13:49:29.579075Z",
     "iopub.status.idle": "2022-03-28T13:49:29.601514Z",
     "shell.execute_reply": "2022-03-28T13:49:29.600792Z"
    },
    "papermill": {
     "duration": 0.051925,
     "end_time": "2022-03-28T13:49:29.601676",
     "exception": false,
     "start_time": "2022-03-28T13:49:29.549751",
     "status": "completed"
    },
    "tags": [
     "parameters"
    ]
   },
   "outputs": [],
   "source": [
    "from steves_utils.CORES.utils import (\n",
    "    ALL_NODES,\n",
    "    ALL_NODES_MINIMUM_1000_EXAMPLES,\n",
    "    ALL_DAYS\n",
    ")\n",
    "\n",
    "from steves_utils.ORACLE.utils_v2 import (\n",
    "    ALL_DISTANCES_FEET_NARROWED,\n",
    "    ALL_RUNS,\n",
    "    ALL_SERIAL_NUMBERS,\n",
    ")\n",
    "\n",
    "standalone_parameters = {}\n",
    "standalone_parameters[\"experiment_name\"] = \"STANDALONE PTN\"\n",
    "standalone_parameters[\"lr\"] = 0.001\n",
    "standalone_parameters[\"device\"] = \"cuda\"\n",
    "\n",
    "standalone_parameters[\"seed\"] = 1337\n",
    "standalone_parameters[\"dataset_seed\"] = 1337\n",
    "\n",
    "standalone_parameters[\"n_way\"] = 8\n",
    "standalone_parameters[\"n_shot\"] = 3\n",
    "standalone_parameters[\"n_query\"]  = 2\n",
    "standalone_parameters[\"train_k_factor\"] = 1\n",
    "standalone_parameters[\"val_k_factor\"] = 2\n",
    "standalone_parameters[\"test_k_factor\"] = 2\n",
    "\n",
    "\n",
    "standalone_parameters[\"n_epoch\"] = 50\n",
    "\n",
    "standalone_parameters[\"patience\"] = 10\n",
    "standalone_parameters[\"criteria_for_best\"] = \"source_loss\"\n",
    "\n",
    "standalone_parameters[\"datasets\"] = [\n",
    "    {\n",
    "        \"labels\": ALL_SERIAL_NUMBERS,\n",
    "        \"domains\": ALL_DISTANCES_FEET_NARROWED,\n",
    "        \"num_examples_per_domain_per_label\": 100,\n",
    "        \"pickle_path\": os.path.join(get_datasets_base_path(), \"oracle.Run1_framed_2000Examples_stratified_ds.2022A.pkl\"),\n",
    "        \"source_or_target_dataset\": \"source\",\n",
    "        \"x_transforms\": [\"unit_mag\", \"minus_two\"],\n",
    "        \"episode_transforms\": [],\n",
    "        \"domain_prefix\": \"ORACLE_\"\n",
    "    },\n",
    "    {\n",
    "        \"labels\": ALL_NODES,\n",
    "        \"domains\": ALL_DAYS,\n",
    "        \"num_examples_per_domain_per_label\": 100,\n",
    "        \"pickle_path\": os.path.join(get_datasets_base_path(), \"cores.stratified_ds.2022A.pkl\"),\n",
    "        \"source_or_target_dataset\": \"target\",\n",
    "        \"x_transforms\": [\"unit_power\", \"times_zero\"],\n",
    "        \"episode_transforms\": [],\n",
    "        \"domain_prefix\": \"CORES_\"\n",
    "    }   \n",
    "]\n",
    "\n",
    "standalone_parameters[\"torch_default_dtype\"] = \"torch.float32\" \n",
    "\n",
    "\n",
    "\n",
    "standalone_parameters[\"x_net\"] =     [\n",
    "    {\"class\": \"nnReshape\", \"kargs\": {\"shape\":[-1, 1, 2, 256]}},\n",
    "    {\"class\": \"Conv2d\", \"kargs\": { \"in_channels\":1, \"out_channels\":256, \"kernel_size\":(1,7), \"bias\":False, \"padding\":(0,3), },},\n",
    "    {\"class\": \"ReLU\", \"kargs\": {\"inplace\": True}},\n",
    "    {\"class\": \"BatchNorm2d\", \"kargs\": {\"num_features\":256}},\n",
    "\n",
    "    {\"class\": \"Conv2d\", \"kargs\": { \"in_channels\":256, \"out_channels\":80, \"kernel_size\":(2,7), \"bias\":True, \"padding\":(0,3), },},\n",
    "    {\"class\": \"ReLU\", \"kargs\": {\"inplace\": True}},\n",
    "    {\"class\": \"BatchNorm2d\", \"kargs\": {\"num_features\":80}},\n",
    "    {\"class\": \"Flatten\", \"kargs\": {}},\n",
    "\n",
    "    {\"class\": \"Linear\", \"kargs\": {\"in_features\": 80*256, \"out_features\": 256}}, # 80 units per IQ pair\n",
    "    {\"class\": \"ReLU\", \"kargs\": {\"inplace\": True}},\n",
    "    {\"class\": \"BatchNorm1d\", \"kargs\": {\"num_features\":256}},\n",
    "\n",
    "    {\"class\": \"Linear\", \"kargs\": {\"in_features\": 256, \"out_features\": 256}},\n",
    "]\n",
    "\n",
    "# Parameters relevant to results\n",
    "# These parameters will basically never need to change\n",
    "standalone_parameters[\"NUM_LOGS_PER_EPOCH\"] = 10\n",
    "standalone_parameters[\"BEST_MODEL_PATH\"] = \"./best_model.pth\"\n",
    "\n",
    "\n",
    "\n",
    "\n"
   ]
  },
  {
   "cell_type": "code",
   "execution_count": 4,
   "id": "bc4a2917",
   "metadata": {
    "execution": {
     "iopub.execute_input": "2022-03-28T13:49:29.663237Z",
     "iopub.status.busy": "2022-03-28T13:49:29.662285Z",
     "iopub.status.idle": "2022-03-28T13:49:29.683607Z",
     "shell.execute_reply": "2022-03-28T13:49:29.682833Z"
    },
    "papermill": {
     "duration": 0.056155,
     "end_time": "2022-03-28T13:49:29.683765",
     "exception": false,
     "start_time": "2022-03-28T13:49:29.627610",
     "status": "completed"
    },
    "tags": [
     "injected-parameters"
    ]
   },
   "outputs": [],
   "source": [
    "# Parameters\n",
    "parameters = {\n",
    "    \"experiment_name\": \"tl_3-jitter5v2:cores -> oracle.run1.framed\",\n",
    "    \"device\": \"cuda\",\n",
    "    \"lr\": 0.0001,\n",
    "    \"x_shape\": [2, 256],\n",
    "    \"n_shot\": 3,\n",
    "    \"n_query\": 2,\n",
    "    \"train_k_factor\": 3,\n",
    "    \"val_k_factor\": 2,\n",
    "    \"test_k_factor\": 2,\n",
    "    \"torch_default_dtype\": \"torch.float32\",\n",
    "    \"n_epoch\": 50,\n",
    "    \"patience\": 3,\n",
    "    \"criteria_for_best\": \"target_accuracy\",\n",
    "    \"x_net\": [\n",
    "        {\"class\": \"nnReshape\", \"kargs\": {\"shape\": [-1, 1, 2, 256]}},\n",
    "        {\n",
    "            \"class\": \"Conv2d\",\n",
    "            \"kargs\": {\n",
    "                \"in_channels\": 1,\n",
    "                \"out_channels\": 256,\n",
    "                \"kernel_size\": [1, 7],\n",
    "                \"bias\": False,\n",
    "                \"padding\": [0, 3],\n",
    "            },\n",
    "        },\n",
    "        {\"class\": \"ReLU\", \"kargs\": {\"inplace\": True}},\n",
    "        {\"class\": \"BatchNorm2d\", \"kargs\": {\"num_features\": 256}},\n",
    "        {\n",
    "            \"class\": \"Conv2d\",\n",
    "            \"kargs\": {\n",
    "                \"in_channels\": 256,\n",
    "                \"out_channels\": 80,\n",
    "                \"kernel_size\": [2, 7],\n",
    "                \"bias\": True,\n",
    "                \"padding\": [0, 3],\n",
    "            },\n",
    "        },\n",
    "        {\"class\": \"ReLU\", \"kargs\": {\"inplace\": True}},\n",
    "        {\"class\": \"BatchNorm2d\", \"kargs\": {\"num_features\": 80}},\n",
    "        {\"class\": \"Flatten\", \"kargs\": {}},\n",
    "        {\"class\": \"Linear\", \"kargs\": {\"in_features\": 20480, \"out_features\": 256}},\n",
    "        {\"class\": \"ReLU\", \"kargs\": {\"inplace\": True}},\n",
    "        {\"class\": \"BatchNorm1d\", \"kargs\": {\"num_features\": 256}},\n",
    "        {\"class\": \"Linear\", \"kargs\": {\"in_features\": 256, \"out_features\": 256}},\n",
    "    ],\n",
    "    \"NUM_LOGS_PER_EPOCH\": 10,\n",
    "    \"BEST_MODEL_PATH\": \"./best_model.pth\",\n",
    "    \"n_way\": 16,\n",
    "    \"datasets\": [\n",
    "        {\n",
    "            \"labels\": [\n",
    "                \"1-10.\",\n",
    "                \"1-11.\",\n",
    "                \"1-15.\",\n",
    "                \"1-16.\",\n",
    "                \"1-17.\",\n",
    "                \"1-18.\",\n",
    "                \"1-19.\",\n",
    "                \"10-4.\",\n",
    "                \"10-7.\",\n",
    "                \"11-1.\",\n",
    "                \"11-14.\",\n",
    "                \"11-17.\",\n",
    "                \"11-20.\",\n",
    "                \"11-7.\",\n",
    "                \"13-20.\",\n",
    "                \"13-8.\",\n",
    "                \"14-10.\",\n",
    "                \"14-11.\",\n",
    "                \"14-14.\",\n",
    "                \"14-7.\",\n",
    "                \"15-1.\",\n",
    "                \"15-20.\",\n",
    "                \"16-1.\",\n",
    "                \"16-16.\",\n",
    "                \"17-10.\",\n",
    "                \"17-11.\",\n",
    "                \"17-2.\",\n",
    "                \"19-1.\",\n",
    "                \"19-16.\",\n",
    "                \"19-19.\",\n",
    "                \"19-20.\",\n",
    "                \"19-3.\",\n",
    "                \"2-10.\",\n",
    "                \"2-11.\",\n",
    "                \"2-17.\",\n",
    "                \"2-18.\",\n",
    "                \"2-20.\",\n",
    "                \"2-3.\",\n",
    "                \"2-4.\",\n",
    "                \"2-5.\",\n",
    "                \"2-6.\",\n",
    "                \"2-7.\",\n",
    "                \"2-8.\",\n",
    "                \"3-13.\",\n",
    "                \"3-18.\",\n",
    "                \"3-3.\",\n",
    "                \"4-1.\",\n",
    "                \"4-10.\",\n",
    "                \"4-11.\",\n",
    "                \"4-19.\",\n",
    "                \"5-5.\",\n",
    "                \"6-15.\",\n",
    "                \"7-10.\",\n",
    "                \"7-14.\",\n",
    "                \"8-18.\",\n",
    "                \"8-20.\",\n",
    "                \"8-3.\",\n",
    "                \"8-8.\",\n",
    "            ],\n",
    "            \"domains\": [1, 2, 3, 4, 5],\n",
    "            \"num_examples_per_domain_per_label\": -1,\n",
    "            \"pickle_path\": \"/root/csc500-main/datasets/cores.stratified_ds.2022A.pkl\",\n",
    "            \"source_or_target_dataset\": \"source\",\n",
    "            \"x_transforms\": [\"jitter_256_5\", \"lowpass_+/-10MHz\", \"take_200\"],\n",
    "            \"episode_transforms\": [],\n",
    "            \"domain_prefix\": \"C_\",\n",
    "        },\n",
    "        {\n",
    "            \"labels\": [\n",
    "                \"3123D52\",\n",
    "                \"3123D65\",\n",
    "                \"3123D79\",\n",
    "                \"3123D80\",\n",
    "                \"3123D54\",\n",
    "                \"3123D70\",\n",
    "                \"3123D7B\",\n",
    "                \"3123D89\",\n",
    "                \"3123D58\",\n",
    "                \"3123D76\",\n",
    "                \"3123D7D\",\n",
    "                \"3123EFE\",\n",
    "                \"3123D64\",\n",
    "                \"3123D78\",\n",
    "                \"3123D7E\",\n",
    "                \"3124E4A\",\n",
    "            ],\n",
    "            \"domains\": [32, 38, 8, 44, 14, 50, 20, 26],\n",
    "            \"num_examples_per_domain_per_label\": 2000,\n",
    "            \"pickle_path\": \"/root/csc500-main/datasets/oracle.Run1_framed_2000Examples_stratified_ds.2022A.pkl\",\n",
    "            \"source_or_target_dataset\": \"target\",\n",
    "            \"x_transforms\": [\"jitter_256_5\", \"take_200\", \"resample_20Msps_to_25Msps\"],\n",
    "            \"episode_transforms\": [],\n",
    "            \"domain_prefix\": \"O_\",\n",
    "        },\n",
    "    ],\n",
    "    \"seed\": 154325,\n",
    "    \"dataset_seed\": 154325,\n",
    "}\n"
   ]
  },
  {
   "cell_type": "code",
   "execution_count": 5,
   "id": "8fa1cc33",
   "metadata": {
    "execution": {
     "iopub.execute_input": "2022-03-28T13:49:29.736002Z",
     "iopub.status.busy": "2022-03-28T13:49:29.735624Z",
     "iopub.status.idle": "2022-03-28T13:49:29.763176Z",
     "shell.execute_reply": "2022-03-28T13:49:29.762361Z"
    },
    "papermill": {
     "duration": 0.052239,
     "end_time": "2022-03-28T13:49:29.763373",
     "exception": false,
     "start_time": "2022-03-28T13:49:29.711134",
     "status": "completed"
    },
    "tags": []
   },
   "outputs": [],
   "source": [
    "# Set this to True if you want to run this template directly\n",
    "STANDALONE = False\n",
    "if STANDALONE:\n",
    "    print(\"parameters not injected, running with standalone_parameters\")\n",
    "    parameters = standalone_parameters\n",
    "\n",
    "if not 'parameters' in locals() and not 'parameters' in globals():\n",
    "    raise Exception(\"Parameter injection failed\")\n",
    "\n",
    "#Use an easy dict for all the parameters\n",
    "p = EasyDict(parameters)\n",
    "\n",
    "if \"x_shape\" not in p:\n",
    "    p.x_shape = [2,256] # Default to this if we dont supply x_shape\n",
    "\n",
    "\n",
    "supplied_keys = set(p.keys())\n",
    "\n",
    "if  supplied_keys != required_parameters:\n",
    "    print(\"Parameters are incorrect\")\n",
    "    if len(supplied_keys - required_parameters)>0: print(\"Shouldn't have:\", str(supplied_keys - required_parameters))\n",
    "    if len(required_parameters - supplied_keys)>0: print(\"Need to have:\", str(required_parameters - supplied_keys))\n",
    "    raise RuntimeError(\"Parameters are incorrect\")"
   ]
  },
  {
   "cell_type": "code",
   "execution_count": 6,
   "id": "3a028d58",
   "metadata": {
    "execution": {
     "iopub.execute_input": "2022-03-28T13:49:29.813044Z",
     "iopub.status.busy": "2022-03-28T13:49:29.812661Z",
     "iopub.status.idle": "2022-03-28T13:49:29.834234Z",
     "shell.execute_reply": "2022-03-28T13:49:29.833531Z"
    },
    "papermill": {
     "duration": 0.043471,
     "end_time": "2022-03-28T13:49:29.834408",
     "exception": false,
     "start_time": "2022-03-28T13:49:29.790937",
     "status": "completed"
    },
    "tags": []
   },
   "outputs": [],
   "source": [
    "###################################\n",
    "# Set the RNGs and make it all deterministic\n",
    "###################################\n",
    "np.random.seed(p.seed)\n",
    "random.seed(p.seed)\n",
    "torch.manual_seed(p.seed)\n",
    "\n",
    "torch.use_deterministic_algorithms(True) "
   ]
  },
  {
   "cell_type": "code",
   "execution_count": 7,
   "id": "b691acf6",
   "metadata": {
    "execution": {
     "iopub.execute_input": "2022-03-28T13:49:29.883050Z",
     "iopub.status.busy": "2022-03-28T13:49:29.882680Z",
     "iopub.status.idle": "2022-03-28T13:49:29.906940Z",
     "shell.execute_reply": "2022-03-28T13:49:29.907650Z"
    },
    "papermill": {
     "duration": 0.047625,
     "end_time": "2022-03-28T13:49:29.907861",
     "exception": false,
     "start_time": "2022-03-28T13:49:29.860236",
     "status": "completed"
    },
    "tags": []
   },
   "outputs": [],
   "source": [
    "###########################################\n",
    "# The stratified datasets honor this\n",
    "###########################################\n",
    "torch.set_default_dtype(eval(p.torch_default_dtype))"
   ]
  },
  {
   "cell_type": "code",
   "execution_count": 8,
   "id": "b5fba671",
   "metadata": {
    "execution": {
     "iopub.execute_input": "2022-03-28T13:49:29.957605Z",
     "iopub.status.busy": "2022-03-28T13:49:29.957230Z",
     "iopub.status.idle": "2022-03-28T13:49:30.014803Z",
     "shell.execute_reply": "2022-03-28T13:49:30.014023Z"
    },
    "papermill": {
     "duration": 0.080175,
     "end_time": "2022-03-28T13:49:30.014996",
     "exception": false,
     "start_time": "2022-03-28T13:49:29.934821",
     "status": "completed"
    },
    "tags": []
   },
   "outputs": [],
   "source": [
    "###################################\n",
    "# Build the network(s)\n",
    "# Note: It's critical to do this AFTER setting the RNG\n",
    "###################################\n",
    "x_net = build_sequential(p.x_net)"
   ]
  },
  {
   "cell_type": "code",
   "execution_count": 9,
   "id": "5d7e61cc",
   "metadata": {
    "execution": {
     "iopub.execute_input": "2022-03-28T13:49:30.064604Z",
     "iopub.status.busy": "2022-03-28T13:49:30.064233Z",
     "iopub.status.idle": "2022-03-28T13:49:30.087199Z",
     "shell.execute_reply": "2022-03-28T13:49:30.087908Z"
    },
    "papermill": {
     "duration": 0.04683,
     "end_time": "2022-03-28T13:49:30.088114",
     "exception": false,
     "start_time": "2022-03-28T13:49:30.041284",
     "status": "completed"
    },
    "tags": []
   },
   "outputs": [],
   "source": [
    "start_time_secs = time.time()"
   ]
  },
  {
   "cell_type": "code",
   "execution_count": 10,
   "id": "c6b67dfd",
   "metadata": {
    "execution": {
     "iopub.execute_input": "2022-03-28T13:49:30.138478Z",
     "iopub.status.busy": "2022-03-28T13:49:30.138110Z",
     "iopub.status.idle": "2022-03-28T13:49:30.161458Z",
     "shell.execute_reply": "2022-03-28T13:49:30.160726Z"
    },
    "papermill": {
     "duration": 0.046541,
     "end_time": "2022-03-28T13:49:30.161630",
     "exception": false,
     "start_time": "2022-03-28T13:49:30.115089",
     "status": "completed"
    },
    "tags": []
   },
   "outputs": [],
   "source": [
    "p.domains_source = []\n",
    "p.domains_target = []\n",
    "\n",
    "\n",
    "train_original_source = []\n",
    "val_original_source   = []\n",
    "test_original_source  = []\n",
    "\n",
    "train_original_target = []\n",
    "val_original_target   = []\n",
    "test_original_target  = []"
   ]
  },
  {
   "cell_type": "code",
   "execution_count": 11,
   "id": "e3d9c3d3",
   "metadata": {
    "execution": {
     "iopub.execute_input": "2022-03-28T13:49:30.211269Z",
     "iopub.status.busy": "2022-03-28T13:49:30.210899Z",
     "iopub.status.idle": "2022-03-28T13:49:30.234553Z",
     "shell.execute_reply": "2022-03-28T13:49:30.235224Z"
    },
    "papermill": {
     "duration": 0.046987,
     "end_time": "2022-03-28T13:49:30.235424",
     "exception": false,
     "start_time": "2022-03-28T13:49:30.188437",
     "status": "completed"
    },
    "tags": []
   },
   "outputs": [],
   "source": [
    "# global_x_transform_func = lambda x: normalize(x.to(torch.get_default_dtype()), \"unit_power\") # unit_power, unit_mag\n",
    "# global_x_transform_func = lambda x: normalize(x, \"unit_power\") # unit_power, unit_mag"
   ]
  },
  {
   "cell_type": "code",
   "execution_count": 12,
   "id": "acb78fd2",
   "metadata": {
    "execution": {
     "iopub.execute_input": "2022-03-28T13:49:30.289149Z",
     "iopub.status.busy": "2022-03-28T13:49:30.288761Z",
     "iopub.status.idle": "2022-03-28T13:49:30.308493Z",
     "shell.execute_reply": "2022-03-28T13:49:30.309167Z"
    },
    "papermill": {
     "duration": 0.04645,
     "end_time": "2022-03-28T13:49:30.309376",
     "exception": false,
     "start_time": "2022-03-28T13:49:30.262926",
     "status": "completed"
    },
    "tags": []
   },
   "outputs": [],
   "source": [
    "def add_dataset(\n",
    "    labels,\n",
    "    domains,\n",
    "    pickle_path,\n",
    "    x_transforms,\n",
    "    episode_transforms,\n",
    "    domain_prefix,\n",
    "    num_examples_per_domain_per_label,\n",
    "    source_or_target_dataset:str,\n",
    "    iterator_seed=p.seed,\n",
    "    dataset_seed=p.dataset_seed,\n",
    "    n_shot=p.n_shot,\n",
    "    n_way=p.n_way,\n",
    "    n_query=p.n_query,\n",
    "    train_val_test_k_factors=(p.train_k_factor,p.val_k_factor,p.test_k_factor),\n",
    "):\n",
    "   \n",
    "    if x_transforms == []: x_transform = None\n",
    "    else: x_transform = get_chained_transform(x_transforms)\n",
    "    \n",
    "    if episode_transforms == []: episode_transform = None\n",
    "    else: raise Exception(\"episode_transforms not implemented\")\n",
    "    \n",
    "    episode_transform = lambda tup, _prefix=domain_prefix: (_prefix + str(tup[0]), tup[1])\n",
    "\n",
    "\n",
    "    eaf = Episodic_Accessor_Factory(\n",
    "        labels=labels,\n",
    "        domains=domains,\n",
    "        num_examples_per_domain_per_label=num_examples_per_domain_per_label,\n",
    "        iterator_seed=iterator_seed,\n",
    "        dataset_seed=dataset_seed,\n",
    "        n_shot=n_shot,\n",
    "        n_way=n_way,\n",
    "        n_query=n_query,\n",
    "        train_val_test_k_factors=train_val_test_k_factors,\n",
    "        pickle_path=pickle_path,\n",
    "        x_transform_func=x_transform,\n",
    "    )\n",
    "\n",
    "    train, val, test = eaf.get_train(), eaf.get_val(), eaf.get_test()\n",
    "    train = Lazy_Iterable_Wrapper(train, episode_transform)\n",
    "    val = Lazy_Iterable_Wrapper(val, episode_transform)\n",
    "    test = Lazy_Iterable_Wrapper(test, episode_transform)\n",
    "\n",
    "    if source_or_target_dataset==\"source\":\n",
    "        train_original_source.append(train)\n",
    "        val_original_source.append(val)\n",
    "        test_original_source.append(test)\n",
    "\n",
    "        p.domains_source.extend(\n",
    "            [domain_prefix + str(u) for u in domains]\n",
    "        )\n",
    "    elif source_or_target_dataset==\"target\":\n",
    "        train_original_target.append(train)\n",
    "        val_original_target.append(val)\n",
    "        test_original_target.append(test)\n",
    "        p.domains_target.extend(\n",
    "            [domain_prefix + str(u) for u in domains]\n",
    "        )\n",
    "    else:\n",
    "        raise Exception(f\"invalid source_or_target_dataset: {source_or_target_dataset}\")\n",
    "    "
   ]
  },
  {
   "cell_type": "code",
   "execution_count": 13,
   "id": "fe266617",
   "metadata": {
    "execution": {
     "iopub.execute_input": "2022-03-28T13:49:30.362315Z",
     "iopub.status.busy": "2022-03-28T13:49:30.361947Z",
     "iopub.status.idle": "2022-03-28T13:50:34.420338Z",
     "shell.execute_reply": "2022-03-28T13:50:34.419524Z"
    },
    "papermill": {
     "duration": 64.081925,
     "end_time": "2022-03-28T13:50:34.420525",
     "exception": false,
     "start_time": "2022-03-28T13:49:30.338600",
     "status": "completed"
    },
    "tags": []
   },
   "outputs": [],
   "source": [
    "for ds in p.datasets:\n",
    "    add_dataset(**ds)"
   ]
  },
  {
   "cell_type": "code",
   "execution_count": 14,
   "id": "b90d65ac",
   "metadata": {
    "execution": {
     "iopub.execute_input": "2022-03-28T13:50:34.472557Z",
     "iopub.status.busy": "2022-03-28T13:50:34.472162Z",
     "iopub.status.idle": "2022-03-28T13:50:34.499219Z",
     "shell.execute_reply": "2022-03-28T13:50:34.498360Z"
    },
    "papermill": {
     "duration": 0.052643,
     "end_time": "2022-03-28T13:50:34.499398",
     "exception": false,
     "start_time": "2022-03-28T13:50:34.446755",
     "status": "completed"
    },
    "tags": []
   },
   "outputs": [],
   "source": [
    "# from steves_utils.CORES.utils import (\n",
    "#     ALL_NODES,\n",
    "#     ALL_NODES_MINIMUM_1000_EXAMPLES,\n",
    "#     ALL_DAYS\n",
    "# )\n",
    "\n",
    "# add_dataset(\n",
    "#     labels=ALL_NODES,\n",
    "#     domains = ALL_DAYS,\n",
    "#     num_examples_per_domain_per_label=100,\n",
    "#     pickle_path=os.path.join(get_datasets_base_path(), \"cores.stratified_ds.2022A.pkl\"),\n",
    "#     source_or_target_dataset=\"target\",\n",
    "#     x_transform_func=global_x_transform_func,\n",
    "#     domain_modifier=lambda u: f\"cores_{u}\"\n",
    "# )"
   ]
  },
  {
   "cell_type": "code",
   "execution_count": 15,
   "id": "76db484d",
   "metadata": {
    "execution": {
     "iopub.execute_input": "2022-03-28T13:50:34.552585Z",
     "iopub.status.busy": "2022-03-28T13:50:34.551280Z",
     "iopub.status.idle": "2022-03-28T13:50:34.573976Z",
     "shell.execute_reply": "2022-03-28T13:50:34.573115Z"
    },
    "papermill": {
     "duration": 0.047961,
     "end_time": "2022-03-28T13:50:34.574155",
     "exception": false,
     "start_time": "2022-03-28T13:50:34.526194",
     "status": "completed"
    },
    "tags": []
   },
   "outputs": [],
   "source": [
    "# from steves_utils.ORACLE.utils_v2 import (\n",
    "#     ALL_DISTANCES_FEET,\n",
    "#     ALL_RUNS,\n",
    "#     ALL_SERIAL_NUMBERS,\n",
    "# )\n",
    "\n",
    "\n",
    "# add_dataset(\n",
    "#     labels=ALL_SERIAL_NUMBERS,\n",
    "#     domains = list(set(ALL_DISTANCES_FEET) - {2,62}),\n",
    "#     num_examples_per_domain_per_label=100,\n",
    "#     pickle_path=os.path.join(get_datasets_base_path(), \"oracle.Run2_framed_2000Examples_stratified_ds.2022A.pkl\"),\n",
    "#     source_or_target_dataset=\"source\",\n",
    "#     x_transform_func=global_x_transform_func,\n",
    "#     domain_modifier=lambda u: f\"oracle1_{u}\"\n",
    "# )\n"
   ]
  },
  {
   "cell_type": "code",
   "execution_count": 16,
   "id": "97dea9d2",
   "metadata": {
    "execution": {
     "iopub.execute_input": "2022-03-28T13:50:34.626284Z",
     "iopub.status.busy": "2022-03-28T13:50:34.625901Z",
     "iopub.status.idle": "2022-03-28T13:50:34.642756Z",
     "shell.execute_reply": "2022-03-28T13:50:34.641907Z"
    },
    "papermill": {
     "duration": 0.041441,
     "end_time": "2022-03-28T13:50:34.642928",
     "exception": false,
     "start_time": "2022-03-28T13:50:34.601487",
     "status": "completed"
    },
    "tags": []
   },
   "outputs": [],
   "source": [
    "# from steves_utils.ORACLE.utils_v2 import (\n",
    "#     ALL_DISTANCES_FEET,\n",
    "#     ALL_RUNS,\n",
    "#     ALL_SERIAL_NUMBERS,\n",
    "# )\n",
    "\n",
    "\n",
    "# add_dataset(\n",
    "#     labels=ALL_SERIAL_NUMBERS,\n",
    "#     domains = list(set(ALL_DISTANCES_FEET) - {2,62,56}),\n",
    "#     num_examples_per_domain_per_label=100,\n",
    "#     pickle_path=os.path.join(get_datasets_base_path(), \"oracle.Run2_framed_2000Examples_stratified_ds.2022A.pkl\"),\n",
    "#     source_or_target_dataset=\"source\",\n",
    "#     x_transform_func=global_x_transform_func,\n",
    "#     domain_modifier=lambda u: f\"oracle2_{u}\"\n",
    "# )"
   ]
  },
  {
   "cell_type": "code",
   "execution_count": 17,
   "id": "6f289866",
   "metadata": {
    "execution": {
     "iopub.execute_input": "2022-03-28T13:50:34.697176Z",
     "iopub.status.busy": "2022-03-28T13:50:34.695796Z",
     "iopub.status.idle": "2022-03-28T13:50:34.717735Z",
     "shell.execute_reply": "2022-03-28T13:50:34.716907Z"
    },
    "papermill": {
     "duration": 0.047884,
     "end_time": "2022-03-28T13:50:34.717908",
     "exception": false,
     "start_time": "2022-03-28T13:50:34.670024",
     "status": "completed"
    },
    "tags": []
   },
   "outputs": [],
   "source": [
    "# add_dataset(\n",
    "#     labels=list(range(19)),\n",
    "#     domains = [0,1,2],\n",
    "#     num_examples_per_domain_per_label=100,\n",
    "#     pickle_path=os.path.join(get_datasets_base_path(), \"metehan.stratified_ds.2022A.pkl\"),\n",
    "#     source_or_target_dataset=\"target\",\n",
    "#     x_transform_func=global_x_transform_func,\n",
    "#     domain_modifier=lambda u: f\"met_{u}\"\n",
    "# )"
   ]
  },
  {
   "cell_type": "code",
   "execution_count": 18,
   "id": "86a863c3",
   "metadata": {
    "execution": {
     "iopub.execute_input": "2022-03-28T13:50:34.772499Z",
     "iopub.status.busy": "2022-03-28T13:50:34.771877Z",
     "iopub.status.idle": "2022-03-28T13:50:34.793688Z",
     "shell.execute_reply": "2022-03-28T13:50:34.792852Z"
    },
    "papermill": {
     "duration": 0.047789,
     "end_time": "2022-03-28T13:50:34.793860",
     "exception": false,
     "start_time": "2022-03-28T13:50:34.746071",
     "status": "completed"
    },
    "tags": []
   },
   "outputs": [],
   "source": [
    "# # from steves_utils.wisig.utils import (\n",
    "# #     ALL_NODES_MINIMUM_100_EXAMPLES,\n",
    "# #     ALL_NODES_MINIMUM_500_EXAMPLES,\n",
    "# #     ALL_NODES_MINIMUM_1000_EXAMPLES,\n",
    "# #     ALL_DAYS\n",
    "# # )\n",
    "\n",
    "# import steves_utils.wisig.utils as wisig\n",
    "\n",
    "\n",
    "# add_dataset(\n",
    "#     labels=wisig.ALL_NODES_MINIMUM_100_EXAMPLES,\n",
    "#     domains = wisig.ALL_DAYS,\n",
    "#     num_examples_per_domain_per_label=100,\n",
    "#     pickle_path=os.path.join(get_datasets_base_path(), \"wisig.node3-19.stratified_ds.2022A.pkl\"),\n",
    "#     source_or_target_dataset=\"target\",\n",
    "#     x_transform_func=global_x_transform_func,\n",
    "#     domain_modifier=lambda u: f\"wisig_{u}\"\n",
    "# )"
   ]
  },
  {
   "cell_type": "code",
   "execution_count": 19,
   "id": "fd5442bc",
   "metadata": {
    "execution": {
     "iopub.execute_input": "2022-03-28T13:50:34.854305Z",
     "iopub.status.busy": "2022-03-28T13:50:34.853629Z",
     "iopub.status.idle": "2022-03-28T13:50:34.872084Z",
     "shell.execute_reply": "2022-03-28T13:50:34.871213Z"
    },
    "papermill": {
     "duration": 0.05041,
     "end_time": "2022-03-28T13:50:34.872265",
     "exception": false,
     "start_time": "2022-03-28T13:50:34.821855",
     "status": "completed"
    },
    "tags": []
   },
   "outputs": [],
   "source": [
    "###################################\n",
    "# Build the dataset\n",
    "###################################\n",
    "train_original_source = Iterable_Aggregator(train_original_source, p.seed)\n",
    "val_original_source = Iterable_Aggregator(val_original_source, p.seed)\n",
    "test_original_source = Iterable_Aggregator(test_original_source, p.seed)\n",
    "\n",
    "\n",
    "train_original_target = Iterable_Aggregator(train_original_target, p.seed)\n",
    "val_original_target = Iterable_Aggregator(val_original_target, p.seed)\n",
    "test_original_target = Iterable_Aggregator(test_original_target, p.seed)\n",
    "\n",
    "# For CNN We only use X and Y. And we only train on the source.\n",
    "# Properly form the data using a transform lambda and Lazy_Iterable_Wrapper. Finally wrap them in a dataloader\n",
    "\n",
    "transform_lambda = lambda ex: ex[1] # Original is (<domain>, <episode>) so we strip down to episode only\n",
    "\n",
    "train_processed_source = Lazy_Iterable_Wrapper(train_original_source, transform_lambda)\n",
    "val_processed_source   = Lazy_Iterable_Wrapper(val_original_source, transform_lambda)\n",
    "test_processed_source  = Lazy_Iterable_Wrapper(test_original_source, transform_lambda)\n",
    "\n",
    "train_processed_target = Lazy_Iterable_Wrapper(train_original_target, transform_lambda)\n",
    "val_processed_target   = Lazy_Iterable_Wrapper(val_original_target, transform_lambda)\n",
    "test_processed_target  = Lazy_Iterable_Wrapper(test_original_target, transform_lambda)\n",
    "\n",
    "datasets = EasyDict({\n",
    "    \"source\": {\n",
    "        \"original\": {\"train\":train_original_source, \"val\":val_original_source, \"test\":test_original_source},\n",
    "        \"processed\": {\"train\":train_processed_source, \"val\":val_processed_source, \"test\":test_processed_source}\n",
    "    },\n",
    "    \"target\": {\n",
    "        \"original\": {\"train\":train_original_target, \"val\":val_original_target, \"test\":test_original_target},\n",
    "        \"processed\": {\"train\":train_processed_target, \"val\":val_processed_target, \"test\":test_processed_target}\n",
    "    },\n",
    "})"
   ]
  },
  {
   "cell_type": "code",
   "execution_count": 20,
   "id": "5b3c01fc",
   "metadata": {
    "execution": {
     "iopub.execute_input": "2022-03-28T13:50:34.926109Z",
     "iopub.status.busy": "2022-03-28T13:50:34.925713Z",
     "iopub.status.idle": "2022-03-28T13:50:48.903357Z",
     "shell.execute_reply": "2022-03-28T13:50:48.902759Z"
    },
    "papermill": {
     "duration": 14.004301,
     "end_time": "2022-03-28T13:50:48.903506",
     "exception": false,
     "start_time": "2022-03-28T13:50:34.899205",
     "status": "completed"
    },
    "tags": []
   },
   "outputs": [
    {
     "name": "stdout",
     "output_type": "stream",
     "text": [
      "{'C_5', 'C_2', 'C_3', 'C_1', 'C_4'}\n"
     ]
    },
    {
     "name": "stdout",
     "output_type": "stream",
     "text": [
      "{'O_32', 'O_50', 'O_20', 'O_14', 'O_8', 'O_26', 'O_44', 'O_38'}\n"
     ]
    },
    {
     "name": "stdout",
     "output_type": "stream",
     "text": [
      "tensor([[[0., 0., 0.,  ..., 0., 0., 0.],\n",
      "         [0., 0., 0.,  ..., 0., 0., 0.]],\n",
      "\n",
      "        [[0., 0., 0.,  ..., 0., 0., 0.],\n",
      "         [0., 0., 0.,  ..., 0., 0., 0.]],\n",
      "\n",
      "        [[0., 0., 0.,  ..., 0., 0., 0.],\n",
      "         [0., 0., 0.,  ..., 0., 0., 0.]],\n",
      "\n",
      "        ...,\n",
      "\n",
      "        [[0., 0., 0.,  ..., 0., 0., 0.],\n",
      "         [0., 0., 0.,  ..., 0., 0., 0.]],\n",
      "\n",
      "        [[0., 0., 0.,  ..., 0., 0., 0.],\n",
      "         [0., 0., 0.,  ..., 0., 0., 0.]],\n",
      "\n",
      "        [[0., 0., 0.,  ..., 0., 0., 0.],\n",
      "         [0., 0., 0.,  ..., 0., 0., 0.]]])\n"
     ]
    }
   ],
   "source": [
    "from steves_utils.transforms import get_average_magnitude, get_average_power\n",
    "\n",
    "print(set([u for u,_ in val_original_source]))\n",
    "print(set([u for u,_ in val_original_target]))\n",
    "\n",
    "s_x, s_y, q_x, q_y, _ = next(iter(train_processed_source))\n",
    "print(s_x)\n",
    "\n",
    "# for ds in [\n",
    "#     train_processed_source,\n",
    "#     val_processed_source,\n",
    "#     test_processed_source,\n",
    "#     train_processed_target,\n",
    "#     val_processed_target,\n",
    "#     test_processed_target\n",
    "# ]:\n",
    "#     for s_x, s_y, q_x, q_y, _ in ds:\n",
    "#         for X in (s_x, q_x):\n",
    "#             for x in X:\n",
    "#                 assert np.isclose(get_average_magnitude(x.numpy()), 1.0)\n",
    "#                 assert np.isclose(get_average_power(x.numpy()), 1.0)\n",
    "                "
   ]
  },
  {
   "cell_type": "code",
   "execution_count": 21,
   "id": "bbdacba1",
   "metadata": {
    "execution": {
     "iopub.execute_input": "2022-03-28T13:50:48.959206Z",
     "iopub.status.busy": "2022-03-28T13:50:48.958731Z",
     "iopub.status.idle": "2022-03-28T13:50:49.164121Z",
     "shell.execute_reply": "2022-03-28T13:50:49.163714Z"
    },
    "papermill": {
     "duration": 0.233074,
     "end_time": "2022-03-28T13:50:49.164233",
     "exception": false,
     "start_time": "2022-03-28T13:50:48.931159",
     "status": "completed"
    },
    "tags": []
   },
   "outputs": [
    {
     "name": "stdout",
     "output_type": "stream",
     "text": [
      "(2, 256)\n"
     ]
    }
   ],
   "source": [
    "###################################\n",
    "# Build the model\n",
    "###################################\n",
    "# easfsl only wants a tuple for the shape\n",
    "model = Steves_Prototypical_Network(x_net, device=p.device, x_shape=tuple(p.x_shape))\n",
    "optimizer = Adam(params=model.parameters(), lr=p.lr)"
   ]
  },
  {
   "cell_type": "code",
   "execution_count": 22,
   "id": "22b39ac5",
   "metadata": {
    "execution": {
     "iopub.execute_input": "2022-03-28T13:50:49.216231Z",
     "iopub.status.busy": "2022-03-28T13:50:49.215856Z",
     "iopub.status.idle": "2022-03-28T14:22:40.163525Z",
     "shell.execute_reply": "2022-03-28T14:22:40.163187Z"
    },
    "papermill": {
     "duration": 1910.975573,
     "end_time": "2022-03-28T14:22:40.163614",
     "exception": false,
     "start_time": "2022-03-28T13:50:49.188041",
     "status": "completed"
    },
    "tags": []
   },
   "outputs": [
    {
     "name": "stdout",
     "output_type": "stream",
     "text": [
      "epoch: 1, [batch: 1 / 6297], examples_per_second: 33.7747, train_label_loss: 2.2466, \n"
     ]
    },
    {
     "name": "stdout",
     "output_type": "stream",
     "text": [
      "epoch: 1, [batch: 630 / 6297], examples_per_second: 3741.4290, train_label_loss: 0.1208, \n"
     ]
    },
    {
     "name": "stdout",
     "output_type": "stream",
     "text": [
      "epoch: 1, [batch: 1260 / 6297], examples_per_second: 3797.1764, train_label_loss: 0.0301, \n"
     ]
    },
    {
     "name": "stdout",
     "output_type": "stream",
     "text": [
      "epoch: 1, [batch: 1889 / 6297], examples_per_second: 3914.4423, train_label_loss: 0.0022, \n"
     ]
    },
    {
     "name": "stdout",
     "output_type": "stream",
     "text": [
      "epoch: 1, [batch: 2519 / 6297], examples_per_second: 3929.6814, train_label_loss: 0.0022, \n"
     ]
    },
    {
     "name": "stdout",
     "output_type": "stream",
     "text": [
      "epoch: 1, [batch: 3149 / 6297], examples_per_second: 3958.9957, train_label_loss: 0.0001, \n"
     ]
    },
    {
     "name": "stdout",
     "output_type": "stream",
     "text": [
      "epoch: 1, [batch: 3778 / 6297], examples_per_second: 4254.3981, train_label_loss: 0.0009, \n"
     ]
    },
    {
     "name": "stdout",
     "output_type": "stream",
     "text": [
      "epoch: 1, [batch: 4408 / 6297], examples_per_second: 4484.5322, train_label_loss: 0.0079, \n"
     ]
    },
    {
     "name": "stdout",
     "output_type": "stream",
     "text": [
      "epoch: 1, [batch: 5037 / 6297], examples_per_second: 4940.8773, train_label_loss: 0.0022, \n"
     ]
    },
    {
     "name": "stdout",
     "output_type": "stream",
     "text": [
      "epoch: 1, [batch: 5667 / 6297], examples_per_second: 3829.2650, train_label_loss: 0.0016, \n"
     ]
    },
    {
     "name": "stdout",
     "output_type": "stream",
     "text": [
      "=============================================================\n",
      "epoch: 1, source_val_acc_label: 0.9854, target_val_acc_label: 0.2865, source_val_label_loss: 1.1427, target_val_label_loss: 26.7538, \n",
      "=============================================================\n"
     ]
    },
    {
     "name": "stdout",
     "output_type": "stream",
     "text": [
      "New best\n"
     ]
    },
    {
     "name": "stdout",
     "output_type": "stream",
     "text": [
      "epoch: 2, [batch: 1 / 6333], examples_per_second: 4.0236, train_label_loss: 0.0029, \n"
     ]
    },
    {
     "name": "stdout",
     "output_type": "stream",
     "text": [
      "epoch: 2, [batch: 634 / 6333], examples_per_second: 3788.9724, train_label_loss: 0.4820, \n"
     ]
    },
    {
     "name": "stdout",
     "output_type": "stream",
     "text": [
      "epoch: 2, [batch: 1267 / 6333], examples_per_second: 3967.2913, train_label_loss: 0.4095, \n"
     ]
    },
    {
     "name": "stdout",
     "output_type": "stream",
     "text": [
      "epoch: 2, [batch: 1900 / 6333], examples_per_second: 4049.1440, train_label_loss: 0.0143, \n"
     ]
    },
    {
     "name": "stdout",
     "output_type": "stream",
     "text": [
      "epoch: 2, [batch: 2533 / 6333], examples_per_second: 3973.2153, train_label_loss: 0.0000, \n"
     ]
    },
    {
     "name": "stdout",
     "output_type": "stream",
     "text": [
      "epoch: 2, [batch: 3167 / 6333], examples_per_second: 3894.9841, train_label_loss: 0.0002, \n"
     ]
    },
    {
     "name": "stdout",
     "output_type": "stream",
     "text": [
      "epoch: 2, [batch: 3800 / 6333], examples_per_second: 4185.7555, train_label_loss: 0.0000, \n"
     ]
    },
    {
     "name": "stdout",
     "output_type": "stream",
     "text": [
      "epoch: 2, [batch: 4433 / 6333], examples_per_second: 4528.2042, train_label_loss: 0.0000, \n"
     ]
    },
    {
     "name": "stdout",
     "output_type": "stream",
     "text": [
      "epoch: 2, [batch: 5066 / 6333], examples_per_second: 4919.0455, train_label_loss: 0.0000, \n"
     ]
    },
    {
     "name": "stdout",
     "output_type": "stream",
     "text": [
      "epoch: 2, [batch: 5699 / 6333], examples_per_second: 4018.4646, train_label_loss: 0.0438, \n"
     ]
    },
    {
     "name": "stdout",
     "output_type": "stream",
     "text": [
      "=============================================================\n",
      "epoch: 2, source_val_acc_label: 0.9976, target_val_acc_label: 0.3923, source_val_label_loss: 0.0222, target_val_label_loss: 1.7138, \n",
      "=============================================================\n"
     ]
    },
    {
     "name": "stdout",
     "output_type": "stream",
     "text": [
      "New best\n"
     ]
    },
    {
     "name": "stdout",
     "output_type": "stream",
     "text": [
      "epoch: 3, [batch: 1 / 6305], examples_per_second: 4.1210, train_label_loss: 0.0026, \n"
     ]
    },
    {
     "name": "stdout",
     "output_type": "stream",
     "text": [
      "epoch: 3, [batch: 631 / 6305], examples_per_second: 3989.8928, train_label_loss: 0.0000, \n"
     ]
    },
    {
     "name": "stdout",
     "output_type": "stream",
     "text": [
      "epoch: 3, [batch: 1261 / 6305], examples_per_second: 3858.2451, train_label_loss: 0.0002, \n"
     ]
    },
    {
     "name": "stdout",
     "output_type": "stream",
     "text": [
      "epoch: 3, [batch: 1892 / 6305], examples_per_second: 3790.9865, train_label_loss: 0.0000, \n"
     ]
    },
    {
     "name": "stdout",
     "output_type": "stream",
     "text": [
      "epoch: 3, [batch: 2522 / 6305], examples_per_second: 3779.2267, train_label_loss: 0.0001, \n"
     ]
    },
    {
     "name": "stdout",
     "output_type": "stream",
     "text": [
      "epoch: 3, [batch: 3153 / 6305], examples_per_second: 3904.7625, train_label_loss: 0.0074, \n"
     ]
    },
    {
     "name": "stdout",
     "output_type": "stream",
     "text": [
      "epoch: 3, [batch: 3783 / 6305], examples_per_second: 4106.1144, train_label_loss: 0.0009, \n"
     ]
    },
    {
     "name": "stdout",
     "output_type": "stream",
     "text": [
      "epoch: 3, [batch: 4413 / 6305], examples_per_second: 4394.7208, train_label_loss: 0.0003, \n"
     ]
    },
    {
     "name": "stdout",
     "output_type": "stream",
     "text": [
      "epoch: 3, [batch: 5044 / 6305], examples_per_second: 4507.9580, train_label_loss: 0.0007, \n"
     ]
    },
    {
     "name": "stdout",
     "output_type": "stream",
     "text": [
      "epoch: 3, [batch: 5674 / 6305], examples_per_second: 4235.2640, train_label_loss: 0.0000, \n"
     ]
    },
    {
     "name": "stdout",
     "output_type": "stream",
     "text": [
      "=============================================================\n",
      "epoch: 3, source_val_acc_label: 0.9967, target_val_acc_label: 0.4162, source_val_label_loss: 0.0251, target_val_label_loss: 1.5961, \n",
      "=============================================================\n"
     ]
    },
    {
     "name": "stdout",
     "output_type": "stream",
     "text": [
      "New best\n"
     ]
    },
    {
     "name": "stdout",
     "output_type": "stream",
     "text": [
      "epoch: 4, [batch: 1 / 6323], examples_per_second: 4.6381, train_label_loss: 0.0009, \n"
     ]
    },
    {
     "name": "stdout",
     "output_type": "stream",
     "text": [
      "epoch: 4, [batch: 633 / 6323], examples_per_second: 4097.4420, train_label_loss: 0.1140, \n"
     ]
    },
    {
     "name": "stdout",
     "output_type": "stream",
     "text": [
      "epoch: 4, [batch: 1265 / 6323], examples_per_second: 4479.5357, train_label_loss: 0.0002, \n"
     ]
    },
    {
     "name": "stdout",
     "output_type": "stream",
     "text": [
      "epoch: 4, [batch: 1897 / 6323], examples_per_second: 5020.3614, train_label_loss: 0.0042, \n"
     ]
    },
    {
     "name": "stdout",
     "output_type": "stream",
     "text": [
      "epoch: 4, [batch: 2529 / 6323], examples_per_second: 4953.7543, train_label_loss: 0.0001, \n"
     ]
    },
    {
     "name": "stdout",
     "output_type": "stream",
     "text": [
      "epoch: 4, [batch: 3162 / 6323], examples_per_second: 5173.2198, train_label_loss: 0.0001, \n"
     ]
    },
    {
     "name": "stdout",
     "output_type": "stream",
     "text": [
      "epoch: 4, [batch: 3794 / 6323], examples_per_second: 5096.7548, train_label_loss: 0.0000, \n"
     ]
    },
    {
     "name": "stdout",
     "output_type": "stream",
     "text": [
      "epoch: 4, [batch: 4426 / 6323], examples_per_second: 4956.6368, train_label_loss: 0.0002, \n"
     ]
    },
    {
     "name": "stdout",
     "output_type": "stream",
     "text": [
      "epoch: 4, [batch: 5058 / 6323], examples_per_second: 5285.5899, train_label_loss: 0.0136, \n"
     ]
    },
    {
     "name": "stdout",
     "output_type": "stream",
     "text": [
      "epoch: 4, [batch: 5690 / 6323], examples_per_second: 5022.5825, train_label_loss: 0.0011, \n"
     ]
    },
    {
     "name": "stdout",
     "output_type": "stream",
     "text": [
      "=============================================================\n",
      "epoch: 4, source_val_acc_label: 0.9986, target_val_acc_label: 0.4287, source_val_label_loss: 0.0123, target_val_label_loss: 1.7028, \n",
      "=============================================================\n"
     ]
    },
    {
     "name": "stdout",
     "output_type": "stream",
     "text": [
      "New best\n"
     ]
    },
    {
     "name": "stdout",
     "output_type": "stream",
     "text": [
      "epoch: 5, [batch: 1 / 6317], examples_per_second: 5.4072, train_label_loss: 0.0007, \n"
     ]
    },
    {
     "name": "stdout",
     "output_type": "stream",
     "text": [
      "epoch: 5, [batch: 632 / 6317], examples_per_second: 4903.7394, train_label_loss: 0.0001, \n"
     ]
    },
    {
     "name": "stdout",
     "output_type": "stream",
     "text": [
      "epoch: 5, [batch: 1264 / 6317], examples_per_second: 5058.5720, train_label_loss: 0.0000, \n"
     ]
    },
    {
     "name": "stdout",
     "output_type": "stream",
     "text": [
      "epoch: 5, [batch: 1895 / 6317], examples_per_second: 4877.5043, train_label_loss: 0.0000, \n"
     ]
    },
    {
     "name": "stdout",
     "output_type": "stream",
     "text": [
      "epoch: 5, [batch: 2527 / 6317], examples_per_second: 4964.3109, train_label_loss: 0.0000, \n"
     ]
    },
    {
     "name": "stdout",
     "output_type": "stream",
     "text": [
      "epoch: 5, [batch: 3159 / 6317], examples_per_second: 5241.8233, train_label_loss: 0.0014, \n"
     ]
    },
    {
     "name": "stdout",
     "output_type": "stream",
     "text": [
      "epoch: 5, [batch: 3790 / 6317], examples_per_second: 5255.0882, train_label_loss: 0.0000, \n"
     ]
    },
    {
     "name": "stdout",
     "output_type": "stream",
     "text": [
      "epoch: 5, [batch: 4422 / 6317], examples_per_second: 5187.8076, train_label_loss: 0.0547, \n"
     ]
    },
    {
     "name": "stdout",
     "output_type": "stream",
     "text": [
      "epoch: 5, [batch: 5053 / 6317], examples_per_second: 5255.6905, train_label_loss: 0.0113, \n"
     ]
    },
    {
     "name": "stdout",
     "output_type": "stream",
     "text": [
      "epoch: 5, [batch: 5685 / 6317], examples_per_second: 5298.2371, train_label_loss: 0.0001, \n"
     ]
    },
    {
     "name": "stdout",
     "output_type": "stream",
     "text": [
      "=============================================================\n",
      "epoch: 5, source_val_acc_label: 0.9989, target_val_acc_label: 0.3816, source_val_label_loss: 0.0078, target_val_label_loss: 2.3876, \n",
      "=============================================================\n"
     ]
    },
    {
     "name": "stdout",
     "output_type": "stream",
     "text": [
      "epoch: 6, [batch: 1 / 6329], examples_per_second: 5.5512, train_label_loss: 0.0014, \n"
     ]
    },
    {
     "name": "stdout",
     "output_type": "stream",
     "text": [
      "epoch: 6, [batch: 633 / 6329], examples_per_second: 4495.9300, train_label_loss: 0.0000, \n"
     ]
    },
    {
     "name": "stdout",
     "output_type": "stream",
     "text": [
      "epoch: 6, [batch: 1266 / 6329], examples_per_second: 3861.8829, train_label_loss: 0.0001, \n"
     ]
    },
    {
     "name": "stdout",
     "output_type": "stream",
     "text": [
      "epoch: 6, [batch: 1899 / 6329], examples_per_second: 3870.2548, train_label_loss: 0.0000, \n"
     ]
    },
    {
     "name": "stdout",
     "output_type": "stream",
     "text": [
      "epoch: 6, [batch: 2532 / 6329], examples_per_second: 3784.8359, train_label_loss: 0.0000, \n"
     ]
    },
    {
     "name": "stdout",
     "output_type": "stream",
     "text": [
      "epoch: 6, [batch: 3165 / 6329], examples_per_second: 3810.5748, train_label_loss: 0.0000, \n"
     ]
    },
    {
     "name": "stdout",
     "output_type": "stream",
     "text": [
      "epoch: 6, [batch: 3797 / 6329], examples_per_second: 3773.6123, train_label_loss: 0.0000, \n"
     ]
    },
    {
     "name": "stdout",
     "output_type": "stream",
     "text": [
      "epoch: 6, [batch: 4430 / 6329], examples_per_second: 3773.6394, train_label_loss: 0.0000, \n"
     ]
    },
    {
     "name": "stdout",
     "output_type": "stream",
     "text": [
      "epoch: 6, [batch: 5063 / 6329], examples_per_second: 3832.0118, train_label_loss: 0.0000, \n"
     ]
    },
    {
     "name": "stdout",
     "output_type": "stream",
     "text": [
      "epoch: 6, [batch: 5696 / 6329], examples_per_second: 3868.8250, train_label_loss: 0.0000, \n"
     ]
    },
    {
     "name": "stdout",
     "output_type": "stream",
     "text": [
      "=============================================================\n",
      "epoch: 6, source_val_acc_label: 0.9990, target_val_acc_label: 0.3476, source_val_label_loss: 0.0126, target_val_label_loss: 3.0254, \n",
      "=============================================================\n"
     ]
    },
    {
     "name": "stdout",
     "output_type": "stream",
     "text": [
      "epoch: 7, [batch: 1 / 6316], examples_per_second: 4.3137, train_label_loss: 0.0000, \n"
     ]
    },
    {
     "name": "stdout",
     "output_type": "stream",
     "text": [
      "epoch: 7, [batch: 632 / 6316], examples_per_second: 4265.7226, train_label_loss: 0.0003, \n"
     ]
    },
    {
     "name": "stdout",
     "output_type": "stream",
     "text": [
      "epoch: 7, [batch: 1264 / 6316], examples_per_second: 3865.5443, train_label_loss: 0.0000, \n"
     ]
    },
    {
     "name": "stdout",
     "output_type": "stream",
     "text": [
      "epoch: 7, [batch: 1895 / 6316], examples_per_second: 3809.6031, train_label_loss: 0.0000, \n"
     ]
    },
    {
     "name": "stdout",
     "output_type": "stream",
     "text": [
      "epoch: 7, [batch: 2527 / 6316], examples_per_second: 3827.9964, train_label_loss: 0.5931, \n"
     ]
    },
    {
     "name": "stdout",
     "output_type": "stream",
     "text": [
      "epoch: 7, [batch: 3158 / 6316], examples_per_second: 3821.7862, train_label_loss: 0.0066, \n"
     ]
    },
    {
     "name": "stdout",
     "output_type": "stream",
     "text": [
      "epoch: 7, [batch: 3790 / 6316], examples_per_second: 3933.9438, train_label_loss: 0.0008, \n"
     ]
    },
    {
     "name": "stdout",
     "output_type": "stream",
     "text": [
      "epoch: 7, [batch: 4421 / 6316], examples_per_second: 3853.7456, train_label_loss: 0.0033, \n"
     ]
    },
    {
     "name": "stdout",
     "output_type": "stream",
     "text": [
      "epoch: 7, [batch: 5053 / 6316], examples_per_second: 3925.0653, train_label_loss: 0.0045, \n"
     ]
    },
    {
     "name": "stdout",
     "output_type": "stream",
     "text": [
      "epoch: 7, [batch: 5684 / 6316], examples_per_second: 4039.4463, train_label_loss: 0.0006, \n"
     ]
    },
    {
     "name": "stdout",
     "output_type": "stream",
     "text": [
      "=============================================================\n",
      "epoch: 7, source_val_acc_label: 0.9992, target_val_acc_label: 0.3267, source_val_label_loss: 0.0104, target_val_label_loss: 3.9303, \n",
      "=============================================================\n"
     ]
    },
    {
     "name": "stdout",
     "output_type": "stream",
     "text": [
      "epoch: 8, [batch: 1 / 6315], examples_per_second: 4.3972, train_label_loss: 0.0000, \n"
     ]
    },
    {
     "name": "stdout",
     "output_type": "stream",
     "text": [
      "epoch: 8, [batch: 632 / 6315], examples_per_second: 4184.5061, train_label_loss: 0.0001, \n"
     ]
    },
    {
     "name": "stdout",
     "output_type": "stream",
     "text": [
      "epoch: 8, [batch: 1263 / 6315], examples_per_second: 3886.3681, train_label_loss: 0.0000, \n"
     ]
    },
    {
     "name": "stdout",
     "output_type": "stream",
     "text": [
      "epoch: 8, [batch: 1895 / 6315], examples_per_second: 3802.4148, train_label_loss: 0.0000, \n"
     ]
    },
    {
     "name": "stdout",
     "output_type": "stream",
     "text": [
      "epoch: 8, [batch: 2526 / 6315], examples_per_second: 3870.0898, train_label_loss: 0.0073, \n"
     ]
    },
    {
     "name": "stdout",
     "output_type": "stream",
     "text": [
      "epoch: 8, [batch: 3158 / 6315], examples_per_second: 3803.1753, train_label_loss: 0.0000, \n"
     ]
    },
    {
     "name": "stdout",
     "output_type": "stream",
     "text": [
      "epoch: 8, [batch: 3789 / 6315], examples_per_second: 3788.8038, train_label_loss: 0.0000, \n"
     ]
    },
    {
     "name": "stdout",
     "output_type": "stream",
     "text": [
      "epoch: 8, [batch: 4420 / 6315], examples_per_second: 3921.0827, train_label_loss: 0.0024, \n"
     ]
    },
    {
     "name": "stdout",
     "output_type": "stream",
     "text": [
      "epoch: 8, [batch: 5052 / 6315], examples_per_second: 4027.2583, train_label_loss: 0.0001, \n"
     ]
    },
    {
     "name": "stdout",
     "output_type": "stream",
     "text": [
      "epoch: 8, [batch: 5683 / 6315], examples_per_second: 4004.7344, train_label_loss: 0.0000, \n"
     ]
    },
    {
     "name": "stdout",
     "output_type": "stream",
     "text": [
      "=============================================================\n",
      "epoch: 8, source_val_acc_label: 0.9995, target_val_acc_label: 0.4463, source_val_label_loss: 0.0089, target_val_label_loss: 1.6027, \n",
      "=============================================================\n"
     ]
    },
    {
     "name": "stdout",
     "output_type": "stream",
     "text": [
      "New best\n"
     ]
    },
    {
     "name": "stdout",
     "output_type": "stream",
     "text": [
      "epoch: 9, [batch: 1 / 6317], examples_per_second: 4.3739, train_label_loss: 0.0000, \n"
     ]
    },
    {
     "name": "stdout",
     "output_type": "stream",
     "text": [
      "epoch: 9, [batch: 632 / 6317], examples_per_second: 4085.6194, train_label_loss: 0.0000, \n"
     ]
    },
    {
     "name": "stdout",
     "output_type": "stream",
     "text": [
      "epoch: 9, [batch: 1264 / 6317], examples_per_second: 3993.8687, train_label_loss: 0.0012, \n"
     ]
    },
    {
     "name": "stdout",
     "output_type": "stream",
     "text": [
      "epoch: 9, [batch: 1895 / 6317], examples_per_second: 3945.3560, train_label_loss: 0.0000, \n"
     ]
    },
    {
     "name": "stdout",
     "output_type": "stream",
     "text": [
      "epoch: 9, [batch: 2527 / 6317], examples_per_second: 3798.8281, train_label_loss: 0.0005, \n"
     ]
    },
    {
     "name": "stdout",
     "output_type": "stream",
     "text": [
      "epoch: 9, [batch: 3159 / 6317], examples_per_second: 3808.5505, train_label_loss: 0.0000, \n"
     ]
    },
    {
     "name": "stdout",
     "output_type": "stream",
     "text": [
      "epoch: 9, [batch: 3790 / 6317], examples_per_second: 3916.1524, train_label_loss: 0.0000, \n"
     ]
    },
    {
     "name": "stdout",
     "output_type": "stream",
     "text": [
      "epoch: 9, [batch: 4422 / 6317], examples_per_second: 3987.3912, train_label_loss: 0.0001, \n"
     ]
    },
    {
     "name": "stdout",
     "output_type": "stream",
     "text": [
      "epoch: 9, [batch: 5053 / 6317], examples_per_second: 3974.5491, train_label_loss: 0.0000, \n"
     ]
    },
    {
     "name": "stdout",
     "output_type": "stream",
     "text": [
      "epoch: 9, [batch: 5685 / 6317], examples_per_second: 3954.9128, train_label_loss: 0.0000, \n"
     ]
    },
    {
     "name": "stdout",
     "output_type": "stream",
     "text": [
      "=============================================================\n",
      "epoch: 9, source_val_acc_label: 0.9993, target_val_acc_label: 0.4772, source_val_label_loss: 0.0115, target_val_label_loss: 1.5114, \n",
      "=============================================================\n"
     ]
    },
    {
     "name": "stdout",
     "output_type": "stream",
     "text": [
      "New best\n"
     ]
    },
    {
     "name": "stdout",
     "output_type": "stream",
     "text": [
      "epoch: 10, [batch: 1 / 6296], examples_per_second: 4.3187, train_label_loss: 0.0002, \n"
     ]
    },
    {
     "name": "stdout",
     "output_type": "stream",
     "text": [
      "epoch: 10, [batch: 630 / 6296], examples_per_second: 3896.4458, train_label_loss: 0.0004, \n"
     ]
    },
    {
     "name": "stdout",
     "output_type": "stream",
     "text": [
      "epoch: 10, [batch: 1260 / 6296], examples_per_second: 3845.3674, train_label_loss: 0.0001, \n"
     ]
    },
    {
     "name": "stdout",
     "output_type": "stream",
     "text": [
      "epoch: 10, [batch: 1889 / 6296], examples_per_second: 3840.0692, train_label_loss: 0.0000, \n"
     ]
    },
    {
     "name": "stdout",
     "output_type": "stream",
     "text": [
      "epoch: 10, [batch: 2519 / 6296], examples_per_second: 3869.5567, train_label_loss: 0.0000, \n"
     ]
    },
    {
     "name": "stdout",
     "output_type": "stream",
     "text": [
      "epoch: 10, [batch: 3148 / 6296], examples_per_second: 3903.0983, train_label_loss: 0.0000, \n"
     ]
    },
    {
     "name": "stdout",
     "output_type": "stream",
     "text": [
      "epoch: 10, [batch: 3778 / 6296], examples_per_second: 3823.7348, train_label_loss: 0.0001, \n"
     ]
    },
    {
     "name": "stdout",
     "output_type": "stream",
     "text": [
      "epoch: 10, [batch: 4407 / 6296], examples_per_second: 3834.7278, train_label_loss: 0.0001, \n"
     ]
    },
    {
     "name": "stdout",
     "output_type": "stream",
     "text": [
      "epoch: 10, [batch: 5037 / 6296], examples_per_second: 3878.3328, train_label_loss: 0.0000, \n"
     ]
    },
    {
     "name": "stdout",
     "output_type": "stream",
     "text": [
      "epoch: 10, [batch: 5666 / 6296], examples_per_second: 3869.9170, train_label_loss: 0.0000, \n"
     ]
    },
    {
     "name": "stdout",
     "output_type": "stream",
     "text": [
      "=============================================================\n",
      "epoch: 10, source_val_acc_label: 0.9992, target_val_acc_label: 0.4220, source_val_label_loss: 0.0114, target_val_label_loss: 1.7137, \n",
      "=============================================================\n"
     ]
    },
    {
     "name": "stdout",
     "output_type": "stream",
     "text": [
      "epoch: 11, [batch: 1 / 6312], examples_per_second: 4.3221, train_label_loss: 0.0000, \n"
     ]
    },
    {
     "name": "stdout",
     "output_type": "stream",
     "text": [
      "epoch: 11, [batch: 632 / 6312], examples_per_second: 3844.0738, train_label_loss: 0.0000, \n"
     ]
    },
    {
     "name": "stdout",
     "output_type": "stream",
     "text": [
      "epoch: 11, [batch: 1263 / 6312], examples_per_second: 3987.6807, train_label_loss: 0.0013, \n"
     ]
    },
    {
     "name": "stdout",
     "output_type": "stream",
     "text": [
      "epoch: 11, [batch: 1894 / 6312], examples_per_second: 3970.6084, train_label_loss: 0.0000, \n"
     ]
    },
    {
     "name": "stdout",
     "output_type": "stream",
     "text": [
      "epoch: 11, [batch: 2525 / 6312], examples_per_second: 3944.7747, train_label_loss: 0.0000, \n"
     ]
    },
    {
     "name": "stdout",
     "output_type": "stream",
     "text": [
      "epoch: 11, [batch: 3156 / 6312], examples_per_second: 4038.8527, train_label_loss: 0.0001, \n"
     ]
    },
    {
     "name": "stdout",
     "output_type": "stream",
     "text": [
      "epoch: 11, [batch: 3787 / 6312], examples_per_second: 3961.0745, train_label_loss: 0.0000, \n"
     ]
    },
    {
     "name": "stdout",
     "output_type": "stream",
     "text": [
      "epoch: 11, [batch: 4418 / 6312], examples_per_second: 3992.6953, train_label_loss: 0.0000, \n"
     ]
    },
    {
     "name": "stdout",
     "output_type": "stream",
     "text": [
      "epoch: 11, [batch: 5049 / 6312], examples_per_second: 4004.8367, train_label_loss: 0.0000, \n"
     ]
    },
    {
     "name": "stdout",
     "output_type": "stream",
     "text": [
      "epoch: 11, [batch: 5680 / 6312], examples_per_second: 3956.4503, train_label_loss: 0.0000, \n"
     ]
    },
    {
     "name": "stdout",
     "output_type": "stream",
     "text": [
      "=============================================================\n",
      "epoch: 11, source_val_acc_label: 0.9986, target_val_acc_label: 0.4168, source_val_label_loss: 0.0115, target_val_label_loss: 1.6930, \n",
      "=============================================================\n"
     ]
    },
    {
     "name": "stdout",
     "output_type": "stream",
     "text": [
      "epoch: 12, [batch: 1 / 6321], examples_per_second: 4.3855, train_label_loss: 0.0002, \n"
     ]
    },
    {
     "name": "stdout",
     "output_type": "stream",
     "text": [
      "epoch: 12, [batch: 633 / 6321], examples_per_second: 3931.9913, train_label_loss: 0.0001, \n"
     ]
    },
    {
     "name": "stdout",
     "output_type": "stream",
     "text": [
      "epoch: 12, [batch: 1265 / 6321], examples_per_second: 3833.6171, train_label_loss: 0.0002, \n"
     ]
    },
    {
     "name": "stdout",
     "output_type": "stream",
     "text": [
      "epoch: 12, [batch: 1897 / 6321], examples_per_second: 3948.1226, train_label_loss: 0.0000, \n"
     ]
    },
    {
     "name": "stdout",
     "output_type": "stream",
     "text": [
      "epoch: 12, [batch: 2529 / 6321], examples_per_second: 3895.8738, train_label_loss: 0.0045, \n"
     ]
    },
    {
     "name": "stdout",
     "output_type": "stream",
     "text": [
      "epoch: 12, [batch: 3161 / 6321], examples_per_second: 3902.7121, train_label_loss: 0.0000, \n"
     ]
    },
    {
     "name": "stdout",
     "output_type": "stream",
     "text": [
      "epoch: 12, [batch: 3793 / 6321], examples_per_second: 3851.1019, train_label_loss: 0.0000, \n"
     ]
    },
    {
     "name": "stdout",
     "output_type": "stream",
     "text": [
      "epoch: 12, [batch: 4425 / 6321], examples_per_second: 3806.9514, train_label_loss: 0.0000, \n"
     ]
    },
    {
     "name": "stdout",
     "output_type": "stream",
     "text": [
      "epoch: 12, [batch: 5057 / 6321], examples_per_second: 3816.0711, train_label_loss: 0.0000, \n"
     ]
    },
    {
     "name": "stdout",
     "output_type": "stream",
     "text": [
      "epoch: 12, [batch: 5689 / 6321], examples_per_second: 3872.9263, train_label_loss: 0.0000, \n"
     ]
    },
    {
     "name": "stdout",
     "output_type": "stream",
     "text": [
      "=============================================================\n",
      "epoch: 12, source_val_acc_label: 0.9996, target_val_acc_label: 0.4553, source_val_label_loss: 0.0076, target_val_label_loss: 1.5818, \n",
      "=============================================================\n"
     ]
    },
    {
     "name": "stdout",
     "output_type": "stream",
     "text": [
      "epoch: 13, [batch: 1 / 6317], examples_per_second: 4.4674, train_label_loss: 0.0000, \n"
     ]
    },
    {
     "name": "stdout",
     "output_type": "stream",
     "text": [
      "epoch: 13, [batch: 632 / 6317], examples_per_second: 4018.1557, train_label_loss: 0.0000, \n"
     ]
    },
    {
     "name": "stdout",
     "output_type": "stream",
     "text": [
      "epoch: 13, [batch: 1264 / 6317], examples_per_second: 3938.9050, train_label_loss: 0.0000, \n"
     ]
    },
    {
     "name": "stdout",
     "output_type": "stream",
     "text": [
      "epoch: 13, [batch: 1895 / 6317], examples_per_second: 3964.2664, train_label_loss: 0.0000, \n"
     ]
    },
    {
     "name": "stdout",
     "output_type": "stream",
     "text": [
      "epoch: 13, [batch: 2527 / 6317], examples_per_second: 3936.9186, train_label_loss: 0.0000, \n"
     ]
    },
    {
     "name": "stdout",
     "output_type": "stream",
     "text": [
      "epoch: 13, [batch: 3159 / 6317], examples_per_second: 3866.3191, train_label_loss: 0.0000, \n"
     ]
    },
    {
     "name": "stdout",
     "output_type": "stream",
     "text": [
      "epoch: 13, [batch: 3790 / 6317], examples_per_second: 3870.2882, train_label_loss: 0.0003, \n"
     ]
    },
    {
     "name": "stdout",
     "output_type": "stream",
     "text": [
      "epoch: 13, [batch: 4422 / 6317], examples_per_second: 3825.5126, train_label_loss: 0.0000, \n"
     ]
    },
    {
     "name": "stdout",
     "output_type": "stream",
     "text": [
      "epoch: 13, [batch: 5053 / 6317], examples_per_second: 3939.0373, train_label_loss: 0.0000, \n"
     ]
    },
    {
     "name": "stdout",
     "output_type": "stream",
     "text": [
      "epoch: 13, [batch: 5685 / 6317], examples_per_second: 4014.0928, train_label_loss: 0.0000, \n"
     ]
    },
    {
     "name": "stdout",
     "output_type": "stream",
     "text": [
      "=============================================================\n",
      "epoch: 13, source_val_acc_label: 0.9994, target_val_acc_label: 0.4439, source_val_label_loss: 0.0118, target_val_label_loss: 1.5759, \n",
      "=============================================================\n"
     ]
    },
    {
     "name": "stdout",
     "output_type": "stream",
     "text": [
      "Patience (3) exhausted\n"
     ]
    }
   ],
   "source": [
    "###################################\n",
    "# train\n",
    "###################################\n",
    "jig = PTN_Train_Eval_Test_Jig(model, p.BEST_MODEL_PATH, p.device)\n",
    "\n",
    "jig.train(\n",
    "    train_iterable=datasets.source.processed.train,\n",
    "    source_val_iterable=datasets.source.processed.val,\n",
    "    target_val_iterable=datasets.target.processed.val,\n",
    "    num_epochs=p.n_epoch,\n",
    "    num_logs_per_epoch=p.NUM_LOGS_PER_EPOCH,\n",
    "    patience=p.patience,\n",
    "    optimizer=optimizer,\n",
    "    criteria_for_best=p.criteria_for_best,\n",
    ")"
   ]
  },
  {
   "cell_type": "code",
   "execution_count": 23,
   "id": "31e8fabf",
   "metadata": {
    "execution": {
     "iopub.execute_input": "2022-03-28T14:22:40.295415Z",
     "iopub.status.busy": "2022-03-28T14:22:40.294943Z",
     "iopub.status.idle": "2022-03-28T14:22:40.328154Z",
     "shell.execute_reply": "2022-03-28T14:22:40.327432Z"
    },
    "papermill": {
     "duration": 0.100433,
     "end_time": "2022-03-28T14:22:40.328308",
     "exception": false,
     "start_time": "2022-03-28T14:22:40.227875",
     "status": "completed"
    },
    "tags": []
   },
   "outputs": [],
   "source": [
    "total_experiment_time_secs = time.time() - start_time_secs"
   ]
  },
  {
   "cell_type": "code",
   "execution_count": 24,
   "id": "87b9595b",
   "metadata": {
    "execution": {
     "iopub.execute_input": "2022-03-28T14:22:40.463683Z",
     "iopub.status.busy": "2022-03-28T14:22:40.463284Z",
     "iopub.status.idle": "2022-03-28T14:25:22.795972Z",
     "shell.execute_reply": "2022-03-28T14:25:22.795204Z"
    },
    "papermill": {
     "duration": 162.401485,
     "end_time": "2022-03-28T14:25:22.796166",
     "exception": false,
     "start_time": "2022-03-28T14:22:40.394681",
     "status": "completed"
    },
    "tags": []
   },
   "outputs": [],
   "source": [
    "###################################\n",
    "# Evaluate the model\n",
    "###################################\n",
    "source_test_label_accuracy, source_test_label_loss = jig.test(datasets.source.processed.test)\n",
    "target_test_label_accuracy, target_test_label_loss = jig.test(datasets.target.processed.test)\n",
    "\n",
    "source_val_label_accuracy, source_val_label_loss = jig.test(datasets.source.processed.val)\n",
    "target_val_label_accuracy, target_val_label_loss = jig.test(datasets.target.processed.val)\n",
    "\n",
    "history = jig.get_history()\n",
    "\n",
    "total_epochs_trained = len(history[\"epoch_indices\"])\n",
    "\n",
    "val_dl = Iterable_Aggregator((datasets.source.original.val,datasets.target.original.val))\n",
    "\n",
    "confusion = ptn_confusion_by_domain_over_dataloader(model, p.device, val_dl)\n",
    "per_domain_accuracy = per_domain_accuracy_from_confusion(confusion)\n",
    "\n",
    "# Add a key to per_domain_accuracy for if it was a source domain\n",
    "for domain, accuracy in per_domain_accuracy.items():\n",
    "    per_domain_accuracy[domain] = {\n",
    "        \"accuracy\": accuracy,\n",
    "        \"source?\": domain in p.domains_source\n",
    "    }\n",
    "\n",
    "# Do an independent accuracy assesment JUST TO BE SURE!\n",
    "# _source_test_label_accuracy = independent_accuracy_assesment(model, datasets.source.processed.test, p.device)\n",
    "# _target_test_label_accuracy = independent_accuracy_assesment(model, datasets.target.processed.test, p.device)\n",
    "# _source_val_label_accuracy = independent_accuracy_assesment(model, datasets.source.processed.val, p.device)\n",
    "# _target_val_label_accuracy = independent_accuracy_assesment(model, datasets.target.processed.val, p.device)\n",
    "\n",
    "# assert(_source_test_label_accuracy == source_test_label_accuracy)\n",
    "# assert(_target_test_label_accuracy == target_test_label_accuracy)\n",
    "# assert(_source_val_label_accuracy == source_val_label_accuracy)\n",
    "# assert(_target_val_label_accuracy == target_val_label_accuracy)\n",
    "\n",
    "experiment = {\n",
    "    \"experiment_name\": p.experiment_name,\n",
    "    \"parameters\": dict(p),\n",
    "    \"results\": {\n",
    "        \"source_test_label_accuracy\": source_test_label_accuracy,\n",
    "        \"source_test_label_loss\": source_test_label_loss,\n",
    "        \"target_test_label_accuracy\": target_test_label_accuracy,\n",
    "        \"target_test_label_loss\": target_test_label_loss,\n",
    "        \"source_val_label_accuracy\": source_val_label_accuracy,\n",
    "        \"source_val_label_loss\": source_val_label_loss,\n",
    "        \"target_val_label_accuracy\": target_val_label_accuracy,\n",
    "        \"target_val_label_loss\": target_val_label_loss,\n",
    "        \"total_epochs_trained\": total_epochs_trained,\n",
    "        \"total_experiment_time_secs\": total_experiment_time_secs,\n",
    "        \"confusion\": confusion,\n",
    "        \"per_domain_accuracy\": per_domain_accuracy,\n",
    "    },\n",
    "    \"history\": history,\n",
    "    \"dataset_metrics\": get_dataset_metrics(datasets, \"ptn\"),\n",
    "}"
   ]
  },
  {
   "cell_type": "code",
   "execution_count": 25,
   "id": "54a21829",
   "metadata": {
    "execution": {
     "iopub.execute_input": "2022-03-28T14:25:22.928700Z",
     "iopub.status.busy": "2022-03-28T14:25:22.928077Z",
     "iopub.status.idle": "2022-03-28T14:25:23.142323Z",
     "shell.execute_reply": "2022-03-28T14:25:23.143003Z"
    },
    "papermill": {
     "duration": 0.280311,
     "end_time": "2022-03-28T14:25:23.143236",
     "exception": false,
     "start_time": "2022-03-28T14:25:22.862925",
     "status": "completed"
    },
    "tags": []
   },
   "outputs": [
    {
     "data": {
      "image/png": "[encoded data removed]",
      "text/plain": [
       "<Figure size 1080x504 with 1 Axes>"
      ]
     },
     "metadata": {
      "needs_background": "light"
     },
     "output_type": "display_data"
    }
   ],
   "source": [
    "ax = get_loss_curve(experiment)\n",
    "plt.show()"
   ]
  },
  {
   "cell_type": "code",
   "execution_count": 26,
   "id": "fd8a0f60",
   "metadata": {
    "execution": {
     "iopub.execute_input": "2022-03-28T14:25:23.274787Z",
     "iopub.status.busy": "2022-03-28T14:25:23.274415Z",
     "iopub.status.idle": "2022-03-28T14:25:23.576524Z",
     "shell.execute_reply": "2022-03-28T14:25:23.576842Z"
    },
    "papermill": {
     "duration": 0.367908,
     "end_time": "2022-03-28T14:25:23.576965",
     "exception": false,
     "start_time": "2022-03-28T14:25:23.209057",
     "status": "completed"
    },
    "tags": []
   },
   "outputs": [
    {
     "data": {
      "text/plain": [
       "<AxesSubplot:title={'center':'Results'}>"
      ]
     },
     "execution_count": 26,
     "metadata": {},
     "output_type": "execute_result"
    },
    {
     "data": {
      "image/png": "[encoded data removed]",
      "text/plain": [
       "<Figure size 1080x504 with 1 Axes>"
      ]
     },
     "metadata": {
      "needs_background": "light"
     },
     "output_type": "display_data"
    }
   ],
   "source": [
    "get_results_table(experiment)"
   ]
  },
  {
   "cell_type": "code",
   "execution_count": 27,
   "id": "cf8dc689",
   "metadata": {
    "execution": {
     "iopub.execute_input": "2022-03-28T14:25:23.722973Z",
     "iopub.status.busy": "2022-03-28T14:25:23.722597Z",
     "iopub.status.idle": "2022-03-28T14:25:23.960613Z",
     "shell.execute_reply": "2022-03-28T14:25:23.961305Z"
    },
    "papermill": {
     "duration": 0.309807,
     "end_time": "2022-03-28T14:25:23.961509",
     "exception": false,
     "start_time": "2022-03-28T14:25:23.651702",
     "status": "completed"
    },
    "tags": []
   },
   "outputs": [
    {
     "data": {
      "text/plain": [
       "<AxesSubplot:title={'center':'Per Domain Validation Accuracy'}, xlabel='domain'>"
      ]
     },
     "execution_count": 27,
     "metadata": {},
     "output_type": "execute_result"
    },
    {
     "data": {
      "image/png": "[encoded data removed]",
      "text/plain": [
       "<Figure size 1080x504 with 1 Axes>"
      ]
     },
     "metadata": {
      "needs_background": "light"
     },
     "output_type": "display_data"
    }
   ],
   "source": [
    "get_domain_accuracies(experiment)"
   ]
  },
  {
   "cell_type": "code",
   "execution_count": 28,
   "id": "a74ae082",
   "metadata": {
    "execution": {
     "iopub.execute_input": "2022-03-28T14:25:24.106392Z",
     "iopub.status.busy": "2022-03-28T14:25:24.106013Z",
     "iopub.status.idle": "2022-03-28T14:25:24.131198Z",
     "shell.execute_reply": "2022-03-28T14:25:24.130445Z"
    },
    "papermill": {
     "duration": 0.098256,
     "end_time": "2022-03-28T14:25:24.131356",
     "exception": false,
     "start_time": "2022-03-28T14:25:24.033100",
     "status": "completed"
    },
    "tags": []
   },
   "outputs": [
    {
     "name": "stdout",
     "output_type": "stream",
     "text": [
      "Source Test Label Accuracy: 0.9991601343784995 Target Test Label Accuracy: 0.4798828125\n",
      "Source Val Label Accuracy: 0.9993206521739131 Target Val Label Accuracy: 0.4771809895833333\n"
     ]
    }
   ],
   "source": [
    "print(\"Source Test Label Accuracy:\", experiment[\"results\"][\"source_test_label_accuracy\"], \"Target Test Label Accuracy:\", experiment[\"results\"][\"target_test_label_accuracy\"])\n",
    "print(\"Source Val Label Accuracy:\", experiment[\"results\"][\"source_val_label_accuracy\"], \"Target Val Label Accuracy:\", experiment[\"results\"][\"target_val_label_accuracy\"])"
   ]
  },
  {
   "cell_type": "code",
   "execution_count": 29,
   "id": "dacca602",
   "metadata": {
    "execution": {
     "iopub.execute_input": "2022-03-28T14:25:24.275378Z",
     "iopub.status.busy": "2022-03-28T14:25:24.275012Z",
     "iopub.status.idle": "2022-03-28T14:25:24.295860Z",
     "shell.execute_reply": "2022-03-28T14:25:24.296545Z"
    },
    "papermill": {
     "duration": 0.092417,
     "end_time": "2022-03-28T14:25:24.296730",
     "exception": false,
     "start_time": "2022-03-28T14:25:24.204313",
     "status": "completed"
    },
    "tags": [
     "experiment_json"
    ]
   },
   "outputs": [
    {
     "data": {
      "text/plain": [
       "'{\"experiment_name\": \"tl_3-jitter5v2:cores -> oracle.run1.framed\", \"parameters\": {\"experiment_name\": \"tl_3-jitter5v2:cores -> oracle.run1.framed\", \"device\": \"cuda\", \"lr\": 0.0001, \"x_shape\": [2, 256], \"n_shot\": 3, \"n_query\": 2, \"train_k_factor\": 3, \"val_k_factor\": 2, \"test_k_factor\": 2, \"torch_default_dtype\": \"torch.float32\", \"n_epoch\": 50, \"patience\": 3, \"criteria_for_best\": \"target_accuracy\", \"x_net\": [{\"class\": \"nnReshape\", \"kargs\": {\"shape\": [-1, 1, 2, 256]}}, {\"class\": \"Conv2d\", \"kargs\": {\"in_channels\": 1, \"out_channels\": 256, \"kernel_size\": [1, 7], \"bias\": false, \"padding\": [0, 3]}}, {\"class\": \"ReLU\", \"kargs\": {\"inplace\": true}}, {\"class\": \"BatchNorm2d\", \"kargs\": {\"num_features\": 256}}, {\"class\": \"Conv2d\", \"kargs\": {\"in_channels\": 256, \"out_channels\": 80, \"kernel_size\": [2, 7], \"bias\": true, \"padding\": [0, 3]}}, {\"class\": \"ReLU\", \"kargs\": {\"inplace\": true}}, {\"class\": \"BatchNorm2d\", \"kargs\": {\"num_features\": 80}}, {\"class\": \"Flatten\", \"kargs\": {}}, {\"class\": \"Linear\", \"kargs\": {\"in_features\": 20480, \"out_features\": 256}}, {\"class\": \"ReLU\", \"kargs\": {\"inplace\": true}}, {\"class\": \"BatchNorm1d\", \"kargs\": {\"num_features\": 256}}, {\"class\": \"Linear\", \"kargs\": {\"in_features\": 256, \"out_features\": 256}}], \"NUM_LOGS_PER_EPOCH\": 10, \"BEST_MODEL_PATH\": \"./best_model.pth\", \"n_way\": 16, \"datasets\": [{\"labels\": [\"1-10.\", \"1-11.\", \"1-15.\", \"1-16.\", \"1-17.\", \"1-18.\", \"1-19.\", \"10-4.\", \"10-7.\", \"11-1.\", \"11-14.\", \"11-17.\", \"11-20.\", \"11-7.\", \"13-20.\", \"13-8.\", \"14-10.\", \"14-11.\", \"14-14.\", \"14-7.\", \"15-1.\", \"15-20.\", \"16-1.\", \"16-16.\", \"17-10.\", \"17-11.\", \"17-2.\", \"19-1.\", \"19-16.\", \"19-19.\", \"19-20.\", \"19-3.\", \"2-10.\", \"2-11.\", \"2-17.\", \"2-18.\", \"2-20.\", \"2-3.\", \"2-4.\", \"2-5.\", \"2-6.\", \"2-7.\", \"2-8.\", \"3-13.\", \"3-18.\", \"3-3.\", \"4-1.\", \"4-10.\", \"4-11.\", \"4-19.\", \"5-5.\", \"6-15.\", \"7-10.\", \"7-14.\", \"8-18.\", \"8-20.\", \"8-3.\", \"8-8.\"], \"domains\": [1, 2, 3, 4, 5], \"num_examples_per_domain_per_label\": -1, \"pickle_path\": \"/root/csc500-main/datasets/cores.stratified_ds.2022A.pkl\", \"source_or_target_dataset\": \"source\", \"x_transforms\": [\"jitter_256_5\", \"lowpass_+/-10MHz\", \"take_200\"], \"episode_transforms\": [], \"domain_prefix\": \"C_\"}, {\"labels\": [\"3123D52\", \"3123D65\", \"3123D79\", \"3123D80\", \"3123D54\", \"3123D70\", \"3123D7B\", \"3123D89\", \"3123D58\", \"3123D76\", \"3123D7D\", \"3123EFE\", \"3123D64\", \"3123D78\", \"3123D7E\", \"3124E4A\"], \"domains\": [32, 38, 8, 44, 14, 50, 20, 26], \"num_examples_per_domain_per_label\": 2000, \"pickle_path\": \"/root/csc500-main/datasets/oracle.Run1_framed_2000Examples_stratified_ds.2022A.pkl\", \"source_or_target_dataset\": \"target\", \"x_transforms\": [\"jitter_256_5\", \"take_200\", \"resample_20Msps_to_25Msps\"], \"episode_transforms\": [], \"domain_prefix\": \"O_\"}], \"seed\": 154325, \"dataset_seed\": 154325, \"domains_source\": [\"C_1\", \"C_2\", \"C_3\", \"C_4\", \"C_5\"], \"domains_target\": [\"O_32\", \"O_38\", \"O_8\", \"O_44\", \"O_14\", \"O_50\", \"O_20\", \"O_26\"]}, \"results\": {\"source_test_label_accuracy\": 0.9991601343784995, \"source_test_label_loss\": 0.009130755439400673, \"target_test_label_accuracy\": 0.4798828125, \"target_test_label_loss\": 1.5069916248321533, \"source_val_label_accuracy\": 0.9993206521739131, \"source_val_label_loss\": 0.01154129859060049, \"target_val_label_accuracy\": 0.4771809895833333, \"target_val_label_loss\": 1.5113940238952637, \"total_epochs_trained\": 13, \"total_experiment_time_secs\": 1990.2395672798157, \"confusion\": {\"C_2\": {\"21\": {\"21\": 120}, \"4\": {\"4\": 130}, \"6\": {\"6\": 124}, \"10\": {\"10\": 112}, \"33\": {\"33\": 28}, \"56\": {\"56\": 122}, \"20\": {\"20\": 132}, \"24\": {\"24\": 96}, \"45\": {\"45\": 128}, \"32\": {\"32\": 28}, \"27\": {\"27\": 148}, \"53\": {\"53\": 136}, \"8\": {\"8\": 160}, \"54\": {\"54\": 108}, \"50\": {\"50\": 134}, \"44\": {\"44\": 100}, \"5\": {\"5\": 120}, \"38\": {\"38\": 20}, \"19\": {\"19\": 132}, \"1\": {\"1\": 112}, \"30\": {\"30\": 144}, \"15\": {\"15\": 144}, \"23\": {\"23\": 146}, \"35\": {\"35\": 32}, \"22\": {\"22\": 128}, \"40\": {\"40\": 140}, \"46\": {\"46\": 126}, \"3\": {\"3\": 92}, \"48\": {\"48\": 148}, \"52\": {\"52\": 124}, \"2\": {\"2\": 32}, \"26\": {\"26\": 24}, \"17\": {\"17\": 104}, \"55\": {\"55\": 144}, \"51\": {\"51\": 122}, \"42\": {\"42\": 36}, \"41\": {\"41\": 19, \"1\": 1}, \"31\": {\"31\": 28}, \"16\": {\"16\": 138}, \"36\": {\"36\": 116}, \"49\": {\"49\": 24}, \"0\": {\"0\": 48}, \"18\": {\"18\": 48}, \"25\": {\"25\": 146}, \"9\": {\"9\": 122}, \"47\": {\"47\": 132}, \"7\": {\"7\": 36}, \"37\": {\"37\": 35, \"43\": 1}, \"13\": {\"13\": 116}, \"14\": {\"14\": 24}, \"34\": {\"34\": 28}, \"57\": {\"57\": 140}, \"11\": {\"11\": 138}, \"39\": {\"39\": 28}, \"12\": {\"12\": 92}, \"28\": {\"28\": 28}, \"29\": {\"29\": 127, \"2\": 1}, \"43\": {\"43\": 140}}, \"C_5\": {\"12\": {\"12\": 96}, \"8\": {\"8\": 142}, \"29\": {\"29\": 132}, \"57\": {\"57\": 126}, \"38\": {\"38\": 32}, \"23\": {\"23\": 124}, \"56\": {\"56\": 138}, \"49\": {\"49\": 36}, \"4\": {\"4\": 100}, \"48\": {\"48\": 136}, \"21\": {\"21\": 144}, \"30\": {\"30\": 128}, \"1\": {\"1\": 148}, \"34\": {\"34\": 36}, \"35\": {\"35\": 36}, \"55\": {\"55\": 152}, \"5\": {\"5\": 122}, \"52\": {\"52\": 126}, \"6\": {\"6\": 127, \"50\": 1}, \"36\": {\"36\": 92}, \"41\": {\"41\": 28}, \"3\": {\"3\": 100}, \"28\": {\"28\": 32}, \"18\": {\"18\": 64}, \"25\": {\"25\": 136}, \"47\": {\"47\": 100}, \"13\": {\"13\": 160}, \"11\": {\"11\": 144}, \"53\": {\"53\": 144}, \"33\": {\"33\": 32}, \"46\": {\"46\": 148}, \"50\": {\"50\": 148}, \"10\": {\"10\": 68}, \"15\": {\"15\": 138}, \"44\": {\"44\": 140}, \"2\": {\"2\": 28}, \"7\": {\"7\": 32}, \"43\": {\"43\": 138}, \"32\": {\"32\": 32}, \"0\": {\"0\": 124}, \"39\": {\"39\": 20}, \"26\": {\"26\": 24}, \"27\": {\"27\": 112}, \"54\": {\"54\": 112}, \"17\": {\"17\": 116}, \"14\": {\"14\": 44}, \"16\": {\"16\": 148}, \"9\": {\"9\": 148}, \"19\": {\"19\": 152}, \"20\": {\"20\": 138}, \"37\": {\"37\": 24}, \"24\": {\"24\": 80}, \"40\": {\"40\": 122}, \"45\": {\"45\": 124}, \"22\": {\"22\": 28}, \"42\": {\"42\": 38, \"56\": 2}, \"51\": {\"51\": 118}, \"31\": {\"31\": 36}}, \"C_1\": {\"27\": {\"27\": 142}, \"2\": {\"2\": 36}, \"33\": {\"33\": 32}, \"45\": {\"45\": 156}, \"38\": {\"38\": 24}, \"4\": {\"4\": 132}, \"31\": {\"31\": 28}, \"55\": {\"55\": 140}, \"32\": {\"32\": 32}, \"57\": {\"57\": 140}, \"14\": {\"14\": 24}, \"16\": {\"16\": 140}, \"34\": {\"34\": 24}, \"56\": {\"56\": 126}, \"24\": {\"24\": 108}, \"30\": {\"30\": 112}, \"17\": {\"17\": 64}, \"13\": {\"13\": 138}, \"39\": {\"39\": 28}, \"50\": {\"50\": 146}, \"20\": {\"20\": 139, \"12\": 1}, \"41\": {\"41\": 24}, \"53\": {\"53\": 126}, \"48\": {\"48\": 142}, \"36\": {\"36\": 64}, \"8\": {\"8\": 140}, \"15\": {\"15\": 132}, \"40\": {\"40\": 156}, \"37\": {\"37\": 32}, \"21\": {\"21\": 120}, \"35\": {\"35\": 36}, \"49\": {\"49\": 32}, \"26\": {\"26\": 24}, \"28\": {\"28\": 28}, \"12\": {\"12\": 116}, \"5\": {\"5\": 152}, \"29\": {\"29\": 140}, \"47\": {\"47\": 140}, \"10\": {\"10\": 96}, \"18\": {\"18\": 71, \"50\": 1}, \"9\": {\"9\": 126}, \"3\": {\"3\": 140}, \"52\": {\"52\": 132}, \"25\": {\"25\": 136}, \"19\": {\"19\": 156}, \"11\": {\"11\": 136}, \"7\": {\"7\": 28}, \"23\": {\"23\": 136}, \"44\": {\"44\": 132}, \"42\": {\"42\": 40}, \"54\": {\"54\": 104}, \"1\": {\"1\": 100}, \"46\": {\"46\": 128}, \"6\": {\"6\": 96}, \"43\": {\"43\": 144}, \"51\": {\"51\": 142}, \"22\": {\"22\": 136}, \"0\": {\"0\": 128}}, \"C_4\": {\"32\": {\"32\": 24}, \"2\": {\"2\": 36}, \"41\": {\"41\": 36}, \"11\": {\"11\": 102}, \"57\": {\"57\": 100}, \"6\": {\"6\": 112}, \"23\": {\"23\": 136}, \"52\": {\"52\": 116}, \"38\": {\"38\": 40}, \"50\": {\"50\": 132}, \"55\": {\"55\": 152}, \"46\": {\"46\": 154}, \"37\": {\"37\": 24}, \"20\": {\"20\": 118}, \"49\": {\"49\": 20}, \"45\": {\"45\": 96}, \"54\": {\"54\": 108}, \"3\": {\"3\": 121, \"50\": 3}, \"13\": {\"13\": 152}, \"18\": {\"18\": 108}, \"21\": {\"21\": 126}, \"43\": {\"43\": 144}, \"47\": {\"47\": 120}, \"4\": {\"4\": 132}, \"12\": {\"12\": 92}, \"9\": {\"9\": 127, \"27\": 1}, \"7\": {\"7\": 24}, \"56\": {\"56\": 112}, \"28\": {\"28\": 32}, \"44\": {\"44\": 132}, \"24\": {\"24\": 56}, \"33\": {\"33\": 36}, \"35\": {\"35\": 40}, \"51\": {\"51\": 138}, \"39\": {\"39\": 20}, \"36\": {\"36\": 91, \"53\": 1}, \"19\": {\"19\": 140}, \"0\": {\"0\": 80}, \"15\": {\"15\": 136}, \"29\": {\"29\": 124}, \"30\": {\"30\": 44}, \"1\": {\"1\": 40}, \"22\": {\"22\": 128}, \"40\": {\"40\": 146}, \"8\": {\"8\": 128}, \"53\": {\"53\": 138}, \"34\": {\"34\": 23, \"28\": 1}, \"10\": {\"10\": 122}, \"31\": {\"31\": 28}, \"17\": {\"17\": 80}, \"16\": {\"16\": 96}, \"42\": {\"42\": 32}, \"27\": {\"27\": 142}, \"14\": {\"14\": 16}, \"25\": {\"25\": 122}, \"48\": {\"48\": 132}, \"26\": {\"26\": 24}, \"5\": {\"5\": 108}}, \"C_3\": {\"14\": {\"14\": 39, \"0\": 1}, \"18\": {\"18\": 84}, \"30\": {\"30\": 120}, \"16\": {\"16\": 156}, \"1\": {\"1\": 100}, \"20\": {\"20\": 132}, \"7\": {\"7\": 36}, \"52\": {\"52\": 130}, \"9\": {\"9\": 140}, \"23\": {\"23\": 144}, \"55\": {\"55\": 164}, \"29\": {\"29\": 126}, \"56\": {\"56\": 134}, \"3\": {\"3\": 124}, \"42\": {\"42\": 28}, \"6\": {\"6\": 88}, \"5\": {\"5\": 116}, \"27\": {\"27\": 144}, \"47\": {\"47\": 92}, \"39\": {\"39\": 16}, \"34\": {\"34\": 31, \"23\": 1}, \"4\": {\"4\": 126}, \"24\": {\"24\": 104}, \"46\": {\"46\": 117, \"21\": 1}, \"50\": {\"50\": 124, \"3\": 1, \"6\": 1}, \"38\": {\"38\": 28}, \"54\": {\"54\": 100}, \"35\": {\"35\": 28}, \"2\": {\"2\": 32}, \"41\": {\"41\": 28}, \"57\": {\"57\": 118}, \"25\": {\"25\": 150}, \"48\": {\"48\": 116}, \"33\": {\"33\": 28}, \"45\": {\"45\": 60}, \"13\": {\"13\": 126}, \"36\": {\"36\": 100}, \"43\": {\"43\": 132}, \"28\": {\"28\": 28}, \"0\": {\"0\": 124}, \"12\": {\"12\": 92}, \"31\": {\"31\": 28}, \"40\": {\"40\": 116}, \"44\": {\"44\": 88}, \"32\": {\"32\": 28}, \"26\": {\"26\": 24}, \"8\": {\"8\": 116}, \"10\": {\"10\": 64}, \"15\": {\"15\": 142}, \"21\": {\"21\": 128}, \"37\": {\"37\": 28}, \"17\": {\"17\": 108}, \"51\": {\"51\": 124}, \"53\": {\"53\": 144}, \"19\": {\"19\": 136}, \"49\": {\"49\": 20}, \"11\": {\"11\": 138}, \"22\": {\"22\": 130}}, \"O_8\": {\"13\": {\"13\": 82, \"10\": 47, \"5\": 29, \"6\": 23, \"7\": 38, \"1\": 14, \"11\": 4, \"4\": 1, \"12\": 2}, \"9\": {\"9\": 223, \"3\": 17}, \"15\": {\"15\": 118, \"2\": 47, \"12\": 72, \"3\": 3}, \"2\": {\"2\": 113, \"15\": 32, \"12\": 52, \"3\": 42, \"10\": 1}, \"3\": {\"9\": 8, \"3\": 220, \"2\": 12}, \"8\": {\"8\": 96, \"11\": 35, \"1\": 16, \"14\": 31, \"6\": 15, \"4\": 26, \"5\": 2, \"7\": 13, \"13\": 3, \"10\": 3}, \"5\": {\"11\": 18, \"5\": 63, \"7\": 7, \"13\": 44, \"10\": 46, \"8\": 7, \"6\": 11, \"1\": 31, \"4\": 8, \"12\": 4, \"14\": 1}, \"14\": {\"8\": 10, \"14\": 174, \"4\": 49, \"11\": 5, \"6\": 2}, \"1\": {\"1\": 58, \"11\": 53, \"10\": 37, \"8\": 13, \"13\": 19, \"5\": 27, \"6\": 14, \"7\": 11, \"4\": 8}, \"0\": {\"0\": 239, \"14\": 1}, \"10\": {\"10\": 53, \"1\": 23, \"7\": 32, \"13\": 56, \"6\": 20, \"11\": 11, \"5\": 36, \"8\": 5, \"4\": 4}, \"6\": {\"13\": 15, \"6\": 61, \"10\": 29, \"11\": 18, \"7\": 42, \"8\": 21, \"1\": 17, \"4\": 29, \"5\": 7, \"12\": 1}, \"11\": {\"1\": 51, \"11\": 56, \"6\": 15, \"8\": 47, \"10\": 13, \"4\": 12, \"5\": 10, \"14\": 12, \"13\": 11, \"7\": 12, \"12\": 1}, \"7\": {\"10\": 28, \"13\": 27, \"6\": 62, \"5\": 12, \"8\": 3, \"7\": 77, \"1\": 16, \"4\": 9, \"11\": 5, \"12\": 1}, \"4\": {\"14\": 67, \"4\": 85, \"6\": 20, \"11\": 18, \"8\": 32, \"7\": 7, \"1\": 5, \"5\": 3, \"10\": 3}, \"12\": {\"15\": 89, \"12\": 135, \"2\": 16}}, \"O_38\": {\"13\": {\"7\": 14, \"10\": 18, \"13\": 138, \"0\": 55, \"2\": 10, \"14\": 4, \"5\": 1}, \"12\": {\"12\": 194, \"8\": 16, \"5\": 16, \"2\": 4, \"14\": 5, \"7\": 2, \"15\": 3}, \"2\": {\"2\": 120, \"7\": 49, \"14\": 27, \"0\": 3, \"9\": 11, \"13\": 8, \"8\": 14, \"5\": 8}, \"9\": {\"9\": 149, \"5\": 42, \"0\": 2, \"7\": 6, \"8\": 25, \"2\": 15, \"15\": 1}, \"15\": {\"6\": 4, \"1\": 6, \"15\": 184, \"5\": 25, \"8\": 19, \"9\": 2}, \"5\": {\"8\": 70, \"7\": 16, \"15\": 36, \"5\": 76, \"2\": 12, \"9\": 22, \"14\": 2, \"12\": 5, \"13\": 1}, \"14\": {\"14\": 157, \"0\": 4, \"13\": 10, \"7\": 43, \"2\": 24, \"5\": 1, \"12\": 1}, \"0\": {\"2\": 7, \"10\": 76, \"13\": 63, \"7\": 14, \"0\": 58, \"4\": 4, \"14\": 6, \"3\": 10, \"9\": 2}, \"3\": {\"3\": 235, \"11\": 2, \"10\": 1, \"0\": 2}, \"1\": {\"6\": 109, \"1\": 129, \"15\": 2}, \"11\": {\"11\": 236, \"3\": 4}, \"7\": {\"7\": 111, \"2\": 43, \"13\": 22, \"5\": 6, \"14\": 40, \"4\": 2, \"8\": 10, \"0\": 4, \"9\": 2}, \"8\": {\"7\": 19, \"8\": 57, \"5\": 60, \"2\": 25, \"15\": 41, \"0\": 1, \"9\": 19, \"12\": 11, \"14\": 4, \"13\": 3}, \"4\": {\"4\": 209, \"10\": 23, \"0\": 6, \"13\": 1, \"14\": 1}, \"10\": {\"10\": 155, \"0\": 50, \"4\": 19, \"13\": 9, \"3\": 5, \"14\": 1, \"11\": 1}, \"6\": {\"6\": 128, \"1\": 109, \"15\": 3}}, \"O_26\": {\"10\": {\"0\": 42, \"10\": 63, \"6\": 23, \"15\": 21, \"8\": 1, \"14\": 56, \"5\": 12, \"1\": 13, \"11\": 4, \"2\": 5}, \"12\": {\"12\": 111, \"8\": 26, \"0\": 4, \"7\": 17, \"3\": 30, \"2\": 11, \"13\": 16, \"9\": 21, \"10\": 2, \"15\": 1, \"4\": 1}, \"1\": {\"6\": 33, \"10\": 17, \"0\": 8, \"1\": 124, \"14\": 28, \"5\": 10, \"11\": 14, \"15\": 6}, \"0\": {\"7\": 8, \"0\": 87, \"10\": 45, \"2\": 23, \"14\": 30, \"15\": 15, \"6\": 11, \"5\": 5, \"1\": 5, \"8\": 10, \"9\": 1}, \"15\": {\"15\": 62, \"1\": 19, \"0\": 19, \"10\": 27, \"6\": 41, \"5\": 36, \"14\": 22, \"11\": 13, \"2\": 1}, \"13\": {\"13\": 119, \"4\": 29, \"3\": 43, \"12\": 7, \"9\": 26, \"8\": 3, \"2\": 5, \"7\": 8}, \"8\": {\"9\": 36, \"8\": 57, \"7\": 52, \"2\": 35, \"0\": 17, \"3\": 17, \"12\": 21, \"15\": 2, \"4\": 1, \"13\": 1, \"10\": 1}, \"3\": {\"2\": 19, \"13\": 39, \"9\": 37, \"7\": 30, \"3\": 76, \"4\": 14, \"12\": 11, \"8\": 13, \"0\": 1}, \"11\": {\"1\": 27, \"11\": 138, \"5\": 30, \"6\": 16, \"0\": 1, \"15\": 19, \"10\": 6, \"14\": 3}, \"4\": {\"13\": 23, \"4\": 191, \"3\": 17, \"9\": 4, \"12\": 4, \"7\": 1}, \"6\": {\"1\": 29, \"14\": 22, \"15\": 34, \"0\": 4, \"6\": 60, \"5\": 39, \"10\": 34, \"11\": 18}, \"7\": {\"7\": 56, \"8\": 46, \"2\": 42, \"0\": 6, \"3\": 37, \"9\": 20, \"12\": 20, \"13\": 12, \"4\": 1}, \"14\": {\"10\": 50, \"14\": 48, \"6\": 28, \"0\": 48, \"1\": 30, \"11\": 3, \"5\": 9, \"15\": 21, \"2\": 1, \"8\": 1, \"7\": 1}, \"2\": {\"7\": 39, \"9\": 28, \"2\": 68, \"3\": 20, \"0\": 26, \"8\": 31, \"5\": 2, \"10\": 8, \"14\": 3, \"12\": 6, \"15\": 4, \"13\": 5}, \"5\": {\"5\": 78, \"6\": 41, \"15\": 51, \"1\": 15, \"10\": 16, \"14\": 9, \"11\": 26, \"0\": 4}, \"9\": {\"8\": 26, \"13\": 33, \"7\": 28, \"9\": 38, \"12\": 14, \"2\": 52, \"3\": 33, \"4\": 3, \"0\": 11, \"10\": 1, \"15\": 1}}, \"O_20\": {\"5\": {\"3\": 42, \"9\": 26, \"0\": 7, \"5\": 45, \"2\": 9, \"12\": 8, \"8\": 18, \"14\": 15, \"15\": 15, \"1\": 35, \"7\": 15, \"11\": 1, \"6\": 4}, \"15\": {\"15\": 40, \"4\": 16, \"12\": 27, \"7\": 13, \"1\": 22, \"13\": 29, \"2\": 33, \"5\": 15, \"6\": 9, \"3\": 6, \"8\": 3, \"9\": 18, \"10\": 7, \"14\": 2}, \"9\": {\"1\": 27, \"12\": 20, \"5\": 35, \"15\": 18, \"3\": 29, \"9\": 22, \"8\": 21, \"4\": 5, \"7\": 24, \"2\": 15, \"11\": 2, \"13\": 2, \"14\": 7, \"6\": 11, \"10\": 1, \"0\": 1}, \"7\": {\"6\": 34, \"3\": 11, \"2\": 34, \"9\": 23, \"12\": 21, \"14\": 11, \"8\": 5, \"4\": 11, \"15\": 16, \"13\": 8, \"1\": 19, \"10\": 4, \"7\": 26, \"5\": 17}, \"3\": {\"14\": 23, \"9\": 21, \"8\": 49, \"3\": 31, \"5\": 40, \"7\": 9, \"1\": 28, \"15\": 6, \"6\": 9, \"12\": 6, \"2\": 4, \"0\": 10, \"11\": 3, \"4\": 1}, \"8\": {\"3\": 24, \"9\": 16, \"14\": 62, \"5\": 20, \"8\": 70, \"1\": 11, \"11\": 3, \"0\": 25, \"7\": 5, \"6\": 2, \"15\": 2}, \"4\": {\"4\": 65, \"10\": 36, \"2\": 15, \"5\": 8, \"6\": 35, \"12\": 24, \"3\": 6, \"7\": 14, \"9\": 4, \"15\": 13, \"14\": 2, \"13\": 9, \"1\": 9}, \"6\": {\"13\": 12, \"6\": 68, \"1\": 6, \"2\": 25, \"14\": 20, \"7\": 30, \"12\": 15, \"9\": 15, \"4\": 13, \"10\": 11, \"15\": 9, \"5\": 7, \"8\": 3, \"3\": 5, \"0\": 1}, \"2\": {\"6\": 16, \"13\": 43, \"15\": 32, \"2\": 31, \"9\": 30, \"10\": 6, \"7\": 23, \"12\": 27, \"1\": 8, \"5\": 6, \"4\": 17, \"14\": 1}, \"12\": {\"15\": 18, \"13\": 25, \"12\": 28, \"9\": 15, \"10\": 14, \"6\": 14, \"4\": 33, \"5\": 12, \"1\": 23, \"7\": 14, \"2\": 36, \"3\": 7, \"14\": 1}, \"0\": {\"0\": 152, \"11\": 42, \"8\": 19, \"14\": 7, \"5\": 5, \"3\": 13, \"1\": 1, \"9\": 1}, \"13\": {\"15\": 23, \"13\": 118, \"10\": 22, \"2\": 33, \"7\": 8, \"4\": 3, \"12\": 15, \"6\": 8, \"9\": 4, \"1\": 6}, \"10\": {\"2\": 15, \"4\": 45, \"10\": 128, \"13\": 14, \"6\": 13, \"12\": 14, \"7\": 3, \"15\": 7, \"1\": 1}, \"11\": {\"11\": 177, \"0\": 55, \"5\": 2, \"8\": 4, \"3\": 1, \"14\": 1}, \"14\": {\"14\": 80, \"8\": 61, \"5\": 18, \"15\": 1, \"3\": 24, \"6\": 15, \"9\": 11, \"0\": 14, \"1\": 4, \"2\": 1, \"7\": 7, \"4\": 2, \"12\": 2}, \"1\": {\"3\": 26, \"1\": 50, \"5\": 27, \"2\": 18, \"8\": 12, \"4\": 6, \"14\": 8, \"15\": 21, \"12\": 20, \"7\": 16, \"6\": 8, \"9\": 24, \"13\": 2, \"11\": 1, \"10\": 1}}, \"O_50\": {\"1\": {\"10\": 15, \"13\": 61, \"8\": 27, \"1\": 127, \"11\": 7, \"12\": 1, \"3\": 1, \"0\": 1}, \"2\": {\"2\": 117, \"14\": 69, \"0\": 54}, \"8\": {\"8\": 150, \"1\": 35, \"10\": 46, \"13\": 8, \"11\": 1}, \"7\": {\"7\": 122, \"5\": 27, \"4\": 88, \"15\": 2, \"6\": 1}, \"14\": {\"2\": 55, \"14\": 154, \"0\": 31}, \"6\": {\"3\": 14, \"15\": 71, \"6\": 78, \"11\": 21, \"5\": 22, \"9\": 27, \"4\": 2, \"12\": 3, \"13\": 2}, \"3\": {\"6\": 25, \"5\": 15, \"3\": 150, \"9\": 6, \"13\": 14, \"11\": 12, \"15\": 17, \"12\": 1}, \"4\": {\"7\": 107, \"4\": 98, \"5\": 25, \"6\": 2, \"15\": 7, \"9\": 1}, \"12\": {\"12\": 157, \"11\": 30, \"9\": 46, \"3\": 1, \"15\": 2, \"13\": 3, \"6\": 1}, \"15\": {\"6\": 76, \"15\": 78, \"5\": 34, \"9\": 24, \"4\": 8, \"11\": 14, \"12\": 1, \"3\": 4, \"7\": 1}, \"11\": {\"6\": 17, \"9\": 27, \"12\": 24, \"11\": 132, \"13\": 23, \"15\": 7, \"5\": 6, \"1\": 3, \"3\": 1}, \"0\": {\"2\": 55, \"0\": 121, \"10\": 38, \"14\": 24, \"8\": 2}, \"9\": {\"11\": 32, \"12\": 27, \"15\": 42, \"9\": 92, \"6\": 33, \"5\": 11, \"4\": 2, \"3\": 1}, \"10\": {\"8\": 48, \"10\": 141, \"0\": 42, \"1\": 9}, \"5\": {\"3\": 10, \"6\": 22, \"4\": 40, \"7\": 49, \"5\": 76, \"13\": 12, \"15\": 21, \"11\": 10}, \"13\": {\"13\": 164, \"11\": 20, \"1\": 44, \"3\": 6, \"12\": 3, \"6\": 1, \"5\": 2}}, \"O_32\": {\"2\": {\"14\": 17, \"4\": 66, \"13\": 18, \"3\": 13, \"9\": 2, \"2\": 121, \"8\": 3}, \"6\": {\"6\": 233, \"10\": 7}, \"5\": {\"8\": 39, \"7\": 36, \"14\": 20, \"5\": 103, \"15\": 14, \"0\": 26, \"2\": 2}, \"12\": {\"12\": 193, \"9\": 28, \"10\": 19}, \"13\": {\"2\": 17, \"4\": 41, \"13\": 100, \"9\": 26, \"11\": 9, \"3\": 47}, \"9\": {\"12\": 42, \"9\": 110, \"11\": 20, \"3\": 7, \"13\": 33, \"10\": 5, \"2\": 11, \"4\": 11, \"1\": 1}, \"11\": {\"11\": 188, \"9\": 24, \"3\": 4, \"13\": 19, \"12\": 4, \"4\": 1}, \"1\": {\"1\": 233, \"9\": 1, \"0\": 5, \"4\": 1}, \"3\": {\"3\": 100, \"13\": 68, \"4\": 41, \"9\": 2, \"14\": 3, \"2\": 23, \"8\": 3}, \"7\": {\"7\": 64, \"8\": 22, \"5\": 68, \"14\": 45, \"4\": 1, \"0\": 38, \"15\": 1, \"2\": 1}, \"14\": {\"14\": 83, \"7\": 41, \"4\": 11, \"5\": 31, \"2\": 33, \"0\": 22, \"8\": 18, \"3\": 1}, \"8\": {\"0\": 56, \"5\": 32, \"14\": 24, \"8\": 93, \"7\": 14, \"2\": 8, \"15\": 8, \"3\": 2, \"4\": 3}, \"4\": {\"2\": 72, \"13\": 49, \"4\": 69, \"14\": 4, \"3\": 39, \"9\": 5, \"8\": 1, \"11\": 1}, \"0\": {\"5\": 47, \"14\": 31, \"8\": 47, \"0\": 56, \"7\": 45, \"4\": 2, \"2\": 7, \"15\": 5}, \"10\": {\"10\": 218, \"12\": 19, \"6\": 3}, \"15\": {\"15\": 218, \"5\": 10, \"8\": 8, \"7\": 2, \"0\": 2}}, \"O_44\": {\"13\": {\"6\": 83, \"13\": 138, \"9\": 15, \"11\": 4}, \"4\": {\"7\": 39, \"4\": 55, \"15\": 16, \"2\": 16, \"5\": 30, \"9\": 30, \"14\": 27, \"13\": 1, \"1\": 6, \"10\": 13, \"6\": 2, \"8\": 5}, \"6\": {\"6\": 129, \"13\": 76, \"4\": 1, \"9\": 29, \"7\": 5}, \"0\": {\"0\": 155, \"8\": 62, \"1\": 8, \"15\": 8, \"3\": 6, \"12\": 1}, \"10\": {\"9\": 32, \"7\": 62, \"4\": 25, \"10\": 74, \"14\": 16, \"5\": 8, \"1\": 2, \"2\": 15, \"15\": 4, \"6\": 1, \"13\": 1}, \"7\": {\"9\": 52, \"4\": 28, \"6\": 5, \"7\": 96, \"14\": 12, \"10\": 37, \"5\": 8, \"13\": 2}, \"14\": {\"4\": 47, \"5\": 48, \"2\": 21, \"7\": 11, \"14\": 65, \"15\": 30, \"10\": 10, \"9\": 7, \"1\": 1}, \"15\": {\"5\": 23, \"15\": 94, \"8\": 44, \"2\": 7, \"14\": 39, \"4\": 5, \"1\": 17, \"0\": 7, \"10\": 3, \"7\": 1}, \"5\": {\"9\": 8, \"4\": 30, \"14\": 64, \"5\": 59, \"15\": 35, \"7\": 9, \"10\": 15, \"2\": 12, \"8\": 5, \"1\": 3}, \"2\": {\"14\": 18, \"1\": 41, \"2\": 128, \"7\": 2, \"15\": 17, \"5\": 8, \"10\": 14, \"4\": 7, \"8\": 3, \"9\": 2}, \"9\": {\"7\": 47, \"13\": 27, \"5\": 8, \"10\": 20, \"6\": 36, \"9\": 50, \"4\": 24, \"14\": 15, \"2\": 12, \"15\": 1}, \"12\": {\"3\": 106, \"12\": 132, \"0\": 2}, \"8\": {\"2\": 3, \"0\": 70, \"8\": 97, \"15\": 42, \"5\": 5, \"1\": 13, \"3\": 4, \"14\": 5, \"12\": 1}, \"3\": {\"3\": 126, \"12\": 111, \"0\": 3}, \"1\": {\"2\": 26, \"5\": 3, \"0\": 27, \"1\": 142, \"14\": 5, \"15\": 20, \"8\": 15, \"3\": 1, \"10\": 1}, \"11\": {\"11\": 239, \"13\": 1}}, \"O_14\": {\"1\": {\"9\": 41, \"1\": 195, \"4\": 3, \"10\": 1}, \"15\": {\"15\": 240}, \"10\": {\"10\": 162, \"4\": 39, \"12\": 6, \"9\": 25, \"5\": 2, \"1\": 1, \"2\": 4, \"0\": 1}, \"2\": {\"2\": 45, \"3\": 17, \"4\": 32, \"5\": 55, \"12\": 7, \"14\": 27, \"0\": 22, \"13\": 11, \"6\": 11, \"10\": 4, \"7\": 9}, \"9\": {\"9\": 168, \"1\": 44, \"10\": 21, \"4\": 6, \"12\": 1}, \"5\": {\"5\": 80, \"8\": 17, \"7\": 23, \"2\": 41, \"12\": 14, \"4\": 20, \"14\": 11, \"0\": 23, \"3\": 10, \"13\": 1}, \"7\": {\"5\": 35, \"7\": 146, \"14\": 4, \"8\": 15, \"2\": 7, \"0\": 5, \"13\": 2, \"3\": 24, \"6\": 2}, \"13\": {\"3\": 14, \"13\": 45, \"15\": 21, \"6\": 73, \"2\": 26, \"14\": 30, \"10\": 2, \"0\": 12, \"5\": 9, \"12\": 3, \"4\": 4, \"8\": 1}, \"8\": {\"8\": 137, \"5\": 37, \"7\": 28, \"4\": 13, \"12\": 15, \"0\": 6, \"2\": 3, \"3\": 1}, \"6\": {\"6\": 111, \"13\": 65, \"14\": 28, \"0\": 7, \"3\": 21, \"2\": 4, \"5\": 1, \"15\": 2, \"7\": 1}, \"3\": {\"14\": 34, \"3\": 80, \"0\": 35, \"2\": 16, \"6\": 36, \"7\": 15, \"13\": 22, \"5\": 2}, \"12\": {\"12\": 162, \"10\": 11, \"2\": 9, \"4\": 15, \"5\": 10, \"14\": 2, \"8\": 19, \"0\": 9, \"7\": 3}, \"0\": {\"6\": 7, \"14\": 39, \"12\": 10, \"3\": 44, \"2\": 23, \"0\": 48, \"5\": 29, \"7\": 5, \"8\": 8, \"4\": 7, \"10\": 4, \"13\": 16}, \"4\": {\"4\": 119, \"5\": 32, \"2\": 12, \"12\": 13, \"10\": 47, \"8\": 6, \"9\": 4, \"1\": 4, \"7\": 1, \"0\": 2}, \"14\": {\"14\": 72, \"3\": 41, \"0\": 34, \"5\": 10, \"6\": 22, \"2\": 41, \"12\": 2, \"13\": 14, \"7\": 4}, \"11\": {\"11\": 235, \"1\": 5}}}, \"per_domain_accuracy\": {\"C_2\": {\"accuracy\": 0.9994673295454546, \"source?\": true}, \"C_5\": {\"accuracy\": 0.9994733146067416, \"source?\": true}, \"C_1\": {\"accuracy\": 0.9996565934065934, \"source?\": true}, \"C_4\": {\"accuracy\": 0.998877245508982, \"source?\": true}, \"C_3\": {\"accuracy\": 0.9990862573099415, \"source?\": true}, \"O_8\": {\"accuracy\": 0.4825520833333333, \"source?\": false}, \"O_38\": {\"accuracy\": 0.6083333333333333, \"source?\": false}, \"O_26\": {\"accuracy\": 0.35833333333333334, \"source?\": false}, \"O_20\": {\"accuracy\": 0.29453125, \"source?\": false}, \"O_50\": {\"accuracy\": 0.5096354166666667, \"source?\": false}, \"O_32\": {\"accuracy\": 0.5682291666666667, \"source?\": false}, \"O_44\": {\"accuracy\": 0.46328125, \"source?\": false}, \"O_14\": {\"accuracy\": 0.5325520833333334, \"source?\": false}}}, \"history\": {\"epoch_indices\": [1, 2, 3, 4, 5, 6, 7, 8, 9, 10, 11, 12, 13], \"train_label_loss\": [0.05945940558308426, 0.1975875893750699, 0.03473864775324026, 0.012613638233717092, 0.009380434795593237, 0.0060080635431873685, 0.0071693370005243545, 0.0057025746441293195, 0.01052639148873399, 0.0037843393131537597, 0.0028594461859941284, 0.003149992135464043, 0.002962196752729318], \"source_val_label_loss\": [1.1426734924316406, 0.022154588252305984, 0.025140630081295967, 0.012338938191533089, 0.007793492637574673, 0.012595591135323048, 0.010369254276156425, 0.00888220127671957, 0.01154129859060049, 0.011431428603827953, 0.011520177125930786, 0.007615399546921253, 0.011778226122260094], \"target_val_label_loss\": [26.75383186340332, 1.7138450145721436, 1.5961334705352783, 1.7028477191925049, 2.387632131576538, 3.025386095046997, 3.930258274078369, 1.60273277759552, 1.5113940238952637, 1.713653802871704, 1.6930149793624878, 1.58176851272583, 1.575881838798523], \"source_val_acc_label\": [0.9854476544622426, 0.9975686498855835, 0.9967462814645309, 0.9985697940503433, 0.998891590389016, 0.9989988558352403, 0.9992491418764302, 0.9994994279176201, 0.9993206521739131, 0.9992491418764302, 0.9985697940503433, 0.999570938215103, 0.9993921624713958], \"target_val_acc_label\": [0.2864583333333333, 0.39231770833333335, 0.4161783854166667, 0.42867838541666664, 0.381640625, 0.34759114583333334, 0.32666015625, 0.44632161458333336, 0.4771809895833333, 0.42197265625, 0.41676432291666665, 0.45530598958333335, 0.44391276041666666]}, \"dataset_metrics\": {\"source\": {\"train\": {\"n_unique_x\": 175168, \"n_unique_y\": 58, \"n_batch/episode\": 6315}, \"val\": {\"n_unique_x\": 37135, \"n_unique_y\": 58, \"n_batch/episode\": 874}, \"test\": {\"n_unique_x\": 37673, \"n_unique_y\": 58, \"n_batch/episode\": 893}}, \"target\": {\"train\": {\"n_unique_x\": 179200, \"n_unique_y\": 16, \"n_batch/episode\": 6720}, \"val\": {\"n_unique_x\": 38400, \"n_unique_y\": 16, \"n_batch/episode\": 960}, \"test\": {\"n_unique_x\": 38400, \"n_unique_y\": 16, \"n_batch/episode\": 960}}}}'"
      ]
     },
     "execution_count": 29,
     "metadata": {},
     "output_type": "execute_result"
    }
   ],
   "source": [
    "json.dumps(experiment)"
   ]
  }
 ],
 "metadata": {
  "celltoolbar": "Tags",
  "kernelspec": {
   "display_name": "Python 3 (ipykernel)",
   "language": "python",
   "name": "python3"
  },
  "language_info": {
   "codemirror_mode": {
    "name": "ipython",
    "version": 3
   },
   "file_extension": ".py",
   "mimetype": "text/x-python",
   "name": "python",
   "nbconvert_exporter": "python",
   "pygments_lexer": "ipython3",
   "version": "3.8.12"
  },
  "papermill": {
   "default_parameters": {},
   "duration": 2160.881391,
   "end_time": "2022-03-28T14:25:27.484194",
   "environment_variables": {},
   "exception": null,
   "input_path": "/root/csc500-main/csc500-notebooks/templates/tl_ptn_template.ipynb",
   "output_path": "trial.ipynb",
   "parameters": {
    "parameters": {
     "BEST_MODEL_PATH": "./best_model.pth",
     "NUM_LOGS_PER_EPOCH": 10,
     "criteria_for_best": "target_accuracy",
     "dataset_seed": 154325,
     "datasets": [
      {
       "domain_prefix": "C_",
       "domains": [
        1,
        2,
        3,
        4,
        5
       ],
       "episode_transforms": [],
       "labels": [
        "1-10.",
        "1-11.",
        "1-15.",
        "1-16.",
        "1-17.",
        "1-18.",
        "1-19.",
        "10-4.",
        "10-7.",
        "11-1.",
        "11-14.",
        "11-17.",
        "11-20.",
        "11-7.",
        "13-20.",
        "13-8.",
        "14-10.",
        "14-11.",
        "14-14.",
        "14-7.",
        "15-1.",
        "15-20.",
        "16-1.",
        "16-16.",
        "17-10.",
        "17-11.",
        "17-2.",
        "19-1.",
        "19-16.",
        "19-19.",
        "19-20.",
        "19-3.",
        "2-10.",
        "2-11.",
        "2-17.",
        "2-18.",
        "2-20.",
        "2-3.",
        "2-4.",
        "2-5.",
        "2-6.",
        "2-7.",
        "2-8.",
        "3-13.",
        "3-18.",
        "3-3.",
        "4-1.",
        "4-10.",
        "4-11.",
        "4-19.",
        "5-5.",
        "6-15.",
        "7-10.",
        "7-14.",
        "8-18.",
        "8-20.",
        "8-3.",
        "8-8."
       ],
       "num_examples_per_domain_per_label": -1,
       "pickle_path": "/root/csc500-main/datasets/cores.stratified_ds.2022A.pkl",
       "source_or_target_dataset": "source",
       "x_transforms": [
        "jitter_256_5",
        "lowpass_+/-10MHz",
        "take_200"
       ]
      },
      {
       "domain_prefix": "O_",
       "domains": [
        32,
        38,
        8,
        44,
        14,
        50,
        20,
        26
       ],
       "episode_transforms": [],
       "labels": [
        "3123D52",
        "3123D65",
        "3123D79",
        "3123D80",
        "3123D54",
        "3123D70",
        "3123D7B",
        "3123D89",
        "3123D58",
        "3123D76",
        "3123D7D",
        "3123EFE",
        "3123D64",
        "3123D78",
        "3123D7E",
        "3124E4A"
       ],
       "num_examples_per_domain_per_label": 2000,
       "pickle_path": "/root/csc500-main/datasets/oracle.Run1_framed_2000Examples_stratified_ds.2022A.pkl",
       "source_or_target_dataset": "target",
       "x_transforms": [
        "jitter_256_5",
        "take_200",
        "resample_20Msps_to_25Msps"
       ]
      }
     ],
     "device": "cuda",
     "experiment_name": "tl_3-jitter5v2:cores -> oracle.run1.framed",
     "lr": 0.0001,
     "n_epoch": 50,
     "n_query": 2,
     "n_shot": 3,
     "n_way": 16,
     "patience": 3,
     "seed": 154325,
     "test_k_factor": 2,
     "torch_default_dtype": "torch.float32",
     "train_k_factor": 3,
     "val_k_factor": 2,
     "x_net": [
      {
       "class": "nnReshape",
       "kargs": {
        "shape": [
         -1,
         1,
         2,
         256
        ]
       }
      },
      {
       "class": "Conv2d",
       "kargs": {
        "bias": false,
        "in_channels": 1,
        "kernel_size": [
         1,
         7
        ],
        "out_channels": 256,
        "padding": [
         0,
         3
        ]
       }
      },
      {
       "class": "ReLU",
       "kargs": {
        "inplace": true
       }
      },
      {
       "class": "BatchNorm2d",
       "kargs": {
        "num_features": 256
       }
      },
      {
       "class": "Conv2d",
       "kargs": {
        "bias": true,
        "in_channels": 256,
        "kernel_size": [
         2,
         7
        ],
        "out_channels": 80,
        "padding": [
         0,
         3
        ]
       }
      },
      {
       "class": "ReLU",
       "kargs": {
        "inplace": true
       }
      },
      {
       "class": "BatchNorm2d",
       "kargs": {
        "num_features": 80
       }
      },
      {
       "class": "Flatten",
       "kargs": {}
      },
      {
       "class": "Linear",
       "kargs": {
        "in_features": 20480,
        "out_features": 256
       }
      },
      {
       "class": "ReLU",
       "kargs": {
        "inplace": true
       }
      },
      {
       "class": "BatchNorm1d",
       "kargs": {
        "num_features": 256
       }
      },
      {
       "class": "Linear",
       "kargs": {
        "in_features": 256,
        "out_features": 256
       }
      }
     ],
     "x_shape": [
      2,
      256
     ]
    }
   },
   "start_time": "2022-03-28T13:49:26.602803",
   "version": "2.3.4"
  }
 },
 "nbformat": 4,
 "nbformat_minor": 5
}