{
 "cells": [
  {
   "cell_type": "markdown",
   "id": "9fea5f46",
   "metadata": {
    "papermill": {
     "duration": 0.028312,
     "end_time": "2022-03-28T14:59:50.419624",
     "exception": false,
     "start_time": "2022-03-28T14:59:50.391312",
     "status": "completed"
    },
    "tags": []
   },
   "source": [
    "# Transfer Learning Template"
   ]
  },
  {
   "cell_type": "code",
   "execution_count": 1,
   "id": "0902182a",
   "metadata": {
    "execution": {
     "iopub.execute_input": "2022-03-28T14:59:50.482074Z",
     "iopub.status.busy": "2022-03-28T14:59:50.481232Z",
     "iopub.status.idle": "2022-03-28T14:59:52.238513Z",
     "shell.execute_reply": "2022-03-28T14:59:52.238086Z"
    },
    "papermill": {
     "duration": 1.795185,
     "end_time": "2022-03-28T14:59:52.238623",
     "exception": false,
     "start_time": "2022-03-28T14:59:50.443438",
     "status": "completed"
    },
    "tags": []
   },
   "outputs": [],
   "source": [
    "%load_ext autoreload\n",
    "%autoreload 2\n",
    "%matplotlib inline\n",
    "\n",
    "    \n",
    "import os, json, sys, time, random\n",
    "import numpy as np\n",
    "import torch\n",
    "from torch.optim import Adam\n",
    "from  easydict import EasyDict\n",
    "import matplotlib.pyplot as plt\n",
    "\n",
    "from steves_models.steves_ptn import Steves_Prototypical_Network\n",
    "\n",
    "from steves_utils.lazy_iterable_wrapper import Lazy_Iterable_Wrapper\n",
    "from steves_utils.iterable_aggregator import Iterable_Aggregator\n",
    "from steves_utils.ptn_train_eval_test_jig import  PTN_Train_Eval_Test_Jig\n",
    "from steves_utils.torch_sequential_builder import build_sequential\n",
    "from steves_utils.torch_utils import get_dataset_metrics, ptn_confusion_by_domain_over_dataloader\n",
    "from steves_utils.utils_v2 import (per_domain_accuracy_from_confusion, get_datasets_base_path)\n",
    "from steves_utils.PTN.utils import independent_accuracy_assesment\n",
    "\n",
    "from torch.utils.data import DataLoader\n",
    "\n",
    "from steves_utils.stratified_dataset.episodic_accessor import Episodic_Accessor_Factory\n",
    "\n",
    "from steves_utils.ptn_do_report import (\n",
    "    get_loss_curve,\n",
    "    get_results_table,\n",
    "    get_parameters_table,\n",
    "    get_domain_accuracies,\n",
    ")\n",
    "\n",
    "from steves_utils.transforms import get_chained_transform"
   ]
  },
  {
   "cell_type": "markdown",
   "id": "41c840b4",
   "metadata": {
    "papermill": {
     "duration": 0.019405,
     "end_time": "2022-03-28T14:59:52.278084",
     "exception": false,
     "start_time": "2022-03-28T14:59:52.258679",
     "status": "completed"
    },
    "tags": []
   },
   "source": [
    "# Allowed Parameters\n",
    "These are allowed parameters, not defaults\n",
    "Each of these values need to be present in the injected parameters (the notebook will raise an exception if they are not present)\n",
    "\n",
    "Papermill uses the cell tag \"parameters\" to inject the real parameters below this cell.\n",
    "Enable tags to see what I mean"
   ]
  },
  {
   "cell_type": "code",
   "execution_count": 2,
   "id": "fd44eb83",
   "metadata": {
    "execution": {
     "iopub.execute_input": "2022-03-28T14:59:52.322058Z",
     "iopub.status.busy": "2022-03-28T14:59:52.321673Z",
     "iopub.status.idle": "2022-03-28T14:59:52.343810Z",
     "shell.execute_reply": "2022-03-28T14:59:52.343418Z"
    },
    "papermill": {
     "duration": 0.046201,
     "end_time": "2022-03-28T14:59:52.343882",
     "exception": false,
     "start_time": "2022-03-28T14:59:52.297681",
     "status": "completed"
    },
    "tags": []
   },
   "outputs": [],
   "source": [
    "required_parameters = {\n",
    "    \"experiment_name\",\n",
    "    \"lr\",\n",
    "    \"device\",\n",
    "    \"seed\",\n",
    "    \"dataset_seed\",\n",
    "    \"n_shot\",\n",
    "    \"n_query\",\n",
    "    \"n_way\",\n",
    "    \"train_k_factor\",\n",
    "    \"val_k_factor\",\n",
    "    \"test_k_factor\",\n",
    "    \"n_epoch\",\n",
    "    \"patience\",\n",
    "    \"criteria_for_best\",\n",
    "    \"x_net\",\n",
    "    \"datasets\",\n",
    "    \"torch_default_dtype\",\n",
    "    \"NUM_LOGS_PER_EPOCH\",\n",
    "    \"BEST_MODEL_PATH\",\n",
    "    \"x_shape\",\n",
    "}"
   ]
  },
  {
   "cell_type": "code",
   "execution_count": 3,
   "id": "fa3f0049",
   "metadata": {
    "execution": {
     "iopub.execute_input": "2022-03-28T14:59:52.396445Z",
     "iopub.status.busy": "2022-03-28T14:59:52.395998Z",
     "iopub.status.idle": "2022-03-28T14:59:52.417814Z",
     "shell.execute_reply": "2022-03-28T14:59:52.417447Z"
    },
    "papermill": {
     "duration": 0.054243,
     "end_time": "2022-03-28T14:59:52.417883",
     "exception": false,
     "start_time": "2022-03-28T14:59:52.363640",
     "status": "completed"
    },
    "tags": [
     "parameters"
    ]
   },
   "outputs": [],
   "source": [
    "from steves_utils.CORES.utils import (\n",
    "    ALL_NODES,\n",
    "    ALL_NODES_MINIMUM_1000_EXAMPLES,\n",
    "    ALL_DAYS\n",
    ")\n",
    "\n",
    "from steves_utils.ORACLE.utils_v2 import (\n",
    "    ALL_DISTANCES_FEET_NARROWED,\n",
    "    ALL_RUNS,\n",
    "    ALL_SERIAL_NUMBERS,\n",
    ")\n",
    "\n",
    "standalone_parameters = {}\n",
    "standalone_parameters[\"experiment_name\"] = \"STANDALONE PTN\"\n",
    "standalone_parameters[\"lr\"] = 0.001\n",
    "standalone_parameters[\"device\"] = \"cuda\"\n",
    "\n",
    "standalone_parameters[\"seed\"] = 1337\n",
    "standalone_parameters[\"dataset_seed\"] = 1337\n",
    "\n",
    "standalone_parameters[\"n_way\"] = 8\n",
    "standalone_parameters[\"n_shot\"] = 3\n",
    "standalone_parameters[\"n_query\"]  = 2\n",
    "standalone_parameters[\"train_k_factor\"] = 1\n",
    "standalone_parameters[\"val_k_factor\"] = 2\n",
    "standalone_parameters[\"test_k_factor\"] = 2\n",
    "\n",
    "\n",
    "standalone_parameters[\"n_epoch\"] = 50\n",
    "\n",
    "standalone_parameters[\"patience\"] = 10\n",
    "standalone_parameters[\"criteria_for_best\"] = \"source_loss\"\n",
    "\n",
    "standalone_parameters[\"datasets\"] = [\n",
    "    {\n",
    "        \"labels\": ALL_SERIAL_NUMBERS,\n",
    "        \"domains\": ALL_DISTANCES_FEET_NARROWED,\n",
    "        \"num_examples_per_domain_per_label\": 100,\n",
    "        \"pickle_path\": os.path.join(get_datasets_base_path(), \"oracle.Run1_framed_2000Examples_stratified_ds.2022A.pkl\"),\n",
    "        \"source_or_target_dataset\": \"source\",\n",
    "        \"x_transforms\": [\"unit_mag\", \"minus_two\"],\n",
    "        \"episode_transforms\": [],\n",
    "        \"domain_prefix\": \"ORACLE_\"\n",
    "    },\n",
    "    {\n",
    "        \"labels\": ALL_NODES,\n",
    "        \"domains\": ALL_DAYS,\n",
    "        \"num_examples_per_domain_per_label\": 100,\n",
    "        \"pickle_path\": os.path.join(get_datasets_base_path(), \"cores.stratified_ds.2022A.pkl\"),\n",
    "        \"source_or_target_dataset\": \"target\",\n",
    "        \"x_transforms\": [\"unit_power\", \"times_zero\"],\n",
    "        \"episode_transforms\": [],\n",
    "        \"domain_prefix\": \"CORES_\"\n",
    "    }   \n",
    "]\n",
    "\n",
    "standalone_parameters[\"torch_default_dtype\"] = \"torch.float32\" \n",
    "\n",
    "\n",
    "\n",
    "standalone_parameters[\"x_net\"] =     [\n",
    "    {\"class\": \"nnReshape\", \"kargs\": {\"shape\":[-1, 1, 2, 256]}},\n",
    "    {\"class\": \"Conv2d\", \"kargs\": { \"in_channels\":1, \"out_channels\":256, \"kernel_size\":(1,7), \"bias\":False, \"padding\":(0,3), },},\n",
    "    {\"class\": \"ReLU\", \"kargs\": {\"inplace\": True}},\n",
    "    {\"class\": \"BatchNorm2d\", \"kargs\": {\"num_features\":256}},\n",
    "\n",
    "    {\"class\": \"Conv2d\", \"kargs\": { \"in_channels\":256, \"out_channels\":80, \"kernel_size\":(2,7), \"bias\":True, \"padding\":(0,3), },},\n",
    "    {\"class\": \"ReLU\", \"kargs\": {\"inplace\": True}},\n",
    "    {\"class\": \"BatchNorm2d\", \"kargs\": {\"num_features\":80}},\n",
    "    {\"class\": \"Flatten\", \"kargs\": {}},\n",
    "\n",
    "    {\"class\": \"Linear\", \"kargs\": {\"in_features\": 80*256, \"out_features\": 256}}, # 80 units per IQ pair\n",
    "    {\"class\": \"ReLU\", \"kargs\": {\"inplace\": True}},\n",
    "    {\"class\": \"BatchNorm1d\", \"kargs\": {\"num_features\":256}},\n",
    "\n",
    "    {\"class\": \"Linear\", \"kargs\": {\"in_features\": 256, \"out_features\": 256}},\n",
    "]\n",
    "\n",
    "# Parameters relevant to results\n",
    "# These parameters will basically never need to change\n",
    "standalone_parameters[\"NUM_LOGS_PER_EPOCH\"] = 10\n",
    "standalone_parameters[\"BEST_MODEL_PATH\"] = \"./best_model.pth\"\n",
    "\n",
    "\n",
    "\n",
    "\n"
   ]
  },
  {
   "cell_type": "code",
   "execution_count": 4,
   "id": "87c50327",
   "metadata": {
    "execution": {
     "iopub.execute_input": "2022-03-28T14:59:52.472150Z",
     "iopub.status.busy": "2022-03-28T14:59:52.471713Z",
     "iopub.status.idle": "2022-03-28T14:59:52.492497Z",
     "shell.execute_reply": "2022-03-28T14:59:52.492178Z"
    },
    "papermill": {
     "duration": 0.054911,
     "end_time": "2022-03-28T14:59:52.492566",
     "exception": false,
     "start_time": "2022-03-28T14:59:52.437655",
     "status": "completed"
    },
    "tags": [
     "injected-parameters"
    ]
   },
   "outputs": [],
   "source": [
    "# Parameters\n",
    "parameters = {\n",
    "    \"experiment_name\": \"tl_3-jitter5v2:cores -> oracle.run1.framed\",\n",
    "    \"device\": \"cuda\",\n",
    "    \"lr\": 0.0001,\n",
    "    \"x_shape\": [2, 256],\n",
    "    \"n_shot\": 3,\n",
    "    \"n_query\": 2,\n",
    "    \"train_k_factor\": 3,\n",
    "    \"val_k_factor\": 2,\n",
    "    \"test_k_factor\": 2,\n",
    "    \"torch_default_dtype\": \"torch.float32\",\n",
    "    \"n_epoch\": 50,\n",
    "    \"patience\": 3,\n",
    "    \"criteria_for_best\": \"target_accuracy\",\n",
    "    \"x_net\": [\n",
    "        {\"class\": \"nnReshape\", \"kargs\": {\"shape\": [-1, 1, 2, 256]}},\n",
    "        {\n",
    "            \"class\": \"Conv2d\",\n",
    "            \"kargs\": {\n",
    "                \"in_channels\": 1,\n",
    "                \"out_channels\": 256,\n",
    "                \"kernel_size\": [1, 7],\n",
    "                \"bias\": False,\n",
    "                \"padding\": [0, 3],\n",
    "            },\n",
    "        },\n",
    "        {\"class\": \"ReLU\", \"kargs\": {\"inplace\": True}},\n",
    "        {\"class\": \"BatchNorm2d\", \"kargs\": {\"num_features\": 256}},\n",
    "        {\n",
    "            \"class\": \"Conv2d\",\n",
    "            \"kargs\": {\n",
    "                \"in_channels\": 256,\n",
    "                \"out_channels\": 80,\n",
    "                \"kernel_size\": [2, 7],\n",
    "                \"bias\": True,\n",
    "                \"padding\": [0, 3],\n",
    "            },\n",
    "        },\n",
    "        {\"class\": \"ReLU\", \"kargs\": {\"inplace\": True}},\n",
    "        {\"class\": \"BatchNorm2d\", \"kargs\": {\"num_features\": 80}},\n",
    "        {\"class\": \"Flatten\", \"kargs\": {}},\n",
    "        {\"class\": \"Linear\", \"kargs\": {\"in_features\": 20480, \"out_features\": 256}},\n",
    "        {\"class\": \"ReLU\", \"kargs\": {\"inplace\": True}},\n",
    "        {\"class\": \"BatchNorm1d\", \"kargs\": {\"num_features\": 256}},\n",
    "        {\"class\": \"Linear\", \"kargs\": {\"in_features\": 256, \"out_features\": 256}},\n",
    "    ],\n",
    "    \"NUM_LOGS_PER_EPOCH\": 10,\n",
    "    \"BEST_MODEL_PATH\": \"./best_model.pth\",\n",
    "    \"n_way\": 16,\n",
    "    \"datasets\": [\n",
    "        {\n",
    "            \"labels\": [\n",
    "                \"1-10.\",\n",
    "                \"1-11.\",\n",
    "                \"1-15.\",\n",
    "                \"1-16.\",\n",
    "                \"1-17.\",\n",
    "                \"1-18.\",\n",
    "                \"1-19.\",\n",
    "                \"10-4.\",\n",
    "                \"10-7.\",\n",
    "                \"11-1.\",\n",
    "                \"11-14.\",\n",
    "                \"11-17.\",\n",
    "                \"11-20.\",\n",
    "                \"11-7.\",\n",
    "                \"13-20.\",\n",
    "                \"13-8.\",\n",
    "                \"14-10.\",\n",
    "                \"14-11.\",\n",
    "                \"14-14.\",\n",
    "                \"14-7.\",\n",
    "                \"15-1.\",\n",
    "                \"15-20.\",\n",
    "                \"16-1.\",\n",
    "                \"16-16.\",\n",
    "                \"17-10.\",\n",
    "                \"17-11.\",\n",
    "                \"17-2.\",\n",
    "                \"19-1.\",\n",
    "                \"19-16.\",\n",
    "                \"19-19.\",\n",
    "                \"19-20.\",\n",
    "                \"19-3.\",\n",
    "                \"2-10.\",\n",
    "                \"2-11.\",\n",
    "                \"2-17.\",\n",
    "                \"2-18.\",\n",
    "                \"2-20.\",\n",
    "                \"2-3.\",\n",
    "                \"2-4.\",\n",
    "                \"2-5.\",\n",
    "                \"2-6.\",\n",
    "                \"2-7.\",\n",
    "                \"2-8.\",\n",
    "                \"3-13.\",\n",
    "                \"3-18.\",\n",
    "                \"3-3.\",\n",
    "                \"4-1.\",\n",
    "                \"4-10.\",\n",
    "                \"4-11.\",\n",
    "                \"4-19.\",\n",
    "                \"5-5.\",\n",
    "                \"6-15.\",\n",
    "                \"7-10.\",\n",
    "                \"7-14.\",\n",
    "                \"8-18.\",\n",
    "                \"8-20.\",\n",
    "                \"8-3.\",\n",
    "                \"8-8.\",\n",
    "            ],\n",
    "            \"domains\": [1, 2, 3, 4, 5],\n",
    "            \"num_examples_per_domain_per_label\": -1,\n",
    "            \"pickle_path\": \"/root/csc500-main/datasets/cores.stratified_ds.2022A.pkl\",\n",
    "            \"source_or_target_dataset\": \"source\",\n",
    "            \"x_transforms\": [\n",
    "                \"unit_power\",\n",
    "                \"jitter_256_5\",\n",
    "                \"lowpass_+/-10MHz\",\n",
    "                \"take_200\",\n",
    "            ],\n",
    "            \"episode_transforms\": [],\n",
    "            \"domain_prefix\": \"C_\",\n",
    "        },\n",
    "        {\n",
    "            \"labels\": [\n",
    "                \"3123D52\",\n",
    "                \"3123D65\",\n",
    "                \"3123D79\",\n",
    "                \"3123D80\",\n",
    "                \"3123D54\",\n",
    "                \"3123D70\",\n",
    "                \"3123D7B\",\n",
    "                \"3123D89\",\n",
    "                \"3123D58\",\n",
    "                \"3123D76\",\n",
    "                \"3123D7D\",\n",
    "                \"3123EFE\",\n",
    "                \"3123D64\",\n",
    "                \"3123D78\",\n",
    "                \"3123D7E\",\n",
    "                \"3124E4A\",\n",
    "            ],\n",
    "            \"domains\": [32, 38, 8, 44, 14, 50, 20, 26],\n",
    "            \"num_examples_per_domain_per_label\": 2000,\n",
    "            \"pickle_path\": \"/root/csc500-main/datasets/oracle.Run1_framed_2000Examples_stratified_ds.2022A.pkl\",\n",
    "            \"source_or_target_dataset\": \"target\",\n",
    "            \"x_transforms\": [\n",
    "                \"unit_power\",\n",
    "                \"jitter_256_5\",\n",
    "                \"take_200\",\n",
    "                \"resample_20Msps_to_25Msps\",\n",
    "            ],\n",
    "            \"episode_transforms\": [],\n",
    "            \"domain_prefix\": \"O_\",\n",
    "        },\n",
    "    ],\n",
    "    \"seed\": 500,\n",
    "    \"dataset_seed\": 500,\n",
    "}\n"
   ]
  },
  {
   "cell_type": "code",
   "execution_count": 5,
   "id": "8fa1cc33",
   "metadata": {
    "execution": {
     "iopub.execute_input": "2022-03-28T14:59:52.539622Z",
     "iopub.status.busy": "2022-03-28T14:59:52.537866Z",
     "iopub.status.idle": "2022-03-28T14:59:52.559149Z",
     "shell.execute_reply": "2022-03-28T14:59:52.558786Z"
    },
    "papermill": {
     "duration": 0.046448,
     "end_time": "2022-03-28T14:59:52.559218",
     "exception": false,
     "start_time": "2022-03-28T14:59:52.512770",
     "status": "completed"
    },
    "tags": []
   },
   "outputs": [],
   "source": [
    "# Set this to True if you want to run this template directly\n",
    "STANDALONE = False\n",
    "if STANDALONE:\n",
    "    print(\"parameters not injected, running with standalone_parameters\")\n",
    "    parameters = standalone_parameters\n",
    "\n",
    "if not 'parameters' in locals() and not 'parameters' in globals():\n",
    "    raise Exception(\"Parameter injection failed\")\n",
    "\n",
    "#Use an easy dict for all the parameters\n",
    "p = EasyDict(parameters)\n",
    "\n",
    "if \"x_shape\" not in p:\n",
    "    p.x_shape = [2,256] # Default to this if we dont supply x_shape\n",
    "\n",
    "\n",
    "supplied_keys = set(p.keys())\n",
    "\n",
    "if  supplied_keys != required_parameters:\n",
    "    print(\"Parameters are incorrect\")\n",
    "    if len(supplied_keys - required_parameters)>0: print(\"Shouldn't have:\", str(supplied_keys - required_parameters))\n",
    "    if len(required_parameters - supplied_keys)>0: print(\"Need to have:\", str(required_parameters - supplied_keys))\n",
    "    raise RuntimeError(\"Parameters are incorrect\")"
   ]
  },
  {
   "cell_type": "code",
   "execution_count": 6,
   "id": "3a028d58",
   "metadata": {
    "execution": {
     "iopub.execute_input": "2022-03-28T14:59:52.604216Z",
     "iopub.status.busy": "2022-03-28T14:59:52.603731Z",
     "iopub.status.idle": "2022-03-28T14:59:52.624256Z",
     "shell.execute_reply": "2022-03-28T14:59:52.624562Z"
    },
    "papermill": {
     "duration": 0.045443,
     "end_time": "2022-03-28T14:59:52.624647",
     "exception": false,
     "start_time": "2022-03-28T14:59:52.579204",
     "status": "completed"
    },
    "tags": []
   },
   "outputs": [],
   "source": [
    "###################################\n",
    "# Set the RNGs and make it all deterministic\n",
    "###################################\n",
    "np.random.seed(p.seed)\n",
    "random.seed(p.seed)\n",
    "torch.manual_seed(p.seed)\n",
    "\n",
    "torch.use_deterministic_algorithms(True) "
   ]
  },
  {
   "cell_type": "code",
   "execution_count": 7,
   "id": "b691acf6",
   "metadata": {
    "execution": {
     "iopub.execute_input": "2022-03-28T14:59:52.669777Z",
     "iopub.status.busy": "2022-03-28T14:59:52.669233Z",
     "iopub.status.idle": "2022-03-28T14:59:52.694016Z",
     "shell.execute_reply": "2022-03-28T14:59:52.693653Z"
    },
    "papermill": {
     "duration": 0.049167,
     "end_time": "2022-03-28T14:59:52.694085",
     "exception": false,
     "start_time": "2022-03-28T14:59:52.644918",
     "status": "completed"
    },
    "tags": []
   },
   "outputs": [],
   "source": [
    "###########################################\n",
    "# The stratified datasets honor this\n",
    "###########################################\n",
    "torch.set_default_dtype(eval(p.torch_default_dtype))"
   ]
  },
  {
   "cell_type": "code",
   "execution_count": 8,
   "id": "b5fba671",
   "metadata": {
    "execution": {
     "iopub.execute_input": "2022-03-28T14:59:52.739092Z",
     "iopub.status.busy": "2022-03-28T14:59:52.737744Z",
     "iopub.status.idle": "2022-03-28T14:59:52.792918Z",
     "shell.execute_reply": "2022-03-28T14:59:52.792602Z"
    },
    "papermill": {
     "duration": 0.078729,
     "end_time": "2022-03-28T14:59:52.792987",
     "exception": false,
     "start_time": "2022-03-28T14:59:52.714258",
     "status": "completed"
    },
    "tags": []
   },
   "outputs": [],
   "source": [
    "###################################\n",
    "# Build the network(s)\n",
    "# Note: It's critical to do this AFTER setting the RNG\n",
    "###################################\n",
    "x_net = build_sequential(p.x_net)"
   ]
  },
  {
   "cell_type": "code",
   "execution_count": 9,
   "id": "5d7e61cc",
   "metadata": {
    "execution": {
     "iopub.execute_input": "2022-03-28T14:59:52.838210Z",
     "iopub.status.busy": "2022-03-28T14:59:52.837244Z",
     "iopub.status.idle": "2022-03-28T14:59:52.859625Z",
     "shell.execute_reply": "2022-03-28T14:59:52.859249Z"
    },
    "papermill": {
     "duration": 0.046265,
     "end_time": "2022-03-28T14:59:52.859697",
     "exception": false,
     "start_time": "2022-03-28T14:59:52.813432",
     "status": "completed"
    },
    "tags": []
   },
   "outputs": [],
   "source": [
    "start_time_secs = time.time()"
   ]
  },
  {
   "cell_type": "code",
   "execution_count": 10,
   "id": "c6b67dfd",
   "metadata": {
    "execution": {
     "iopub.execute_input": "2022-03-28T14:59:52.906257Z",
     "iopub.status.busy": "2022-03-28T14:59:52.905411Z",
     "iopub.status.idle": "2022-03-28T14:59:52.929478Z",
     "shell.execute_reply": "2022-03-28T14:59:52.928657Z"
    },
    "papermill": {
     "duration": 0.049504,
     "end_time": "2022-03-28T14:59:52.929639",
     "exception": false,
     "start_time": "2022-03-28T14:59:52.880135",
     "status": "completed"
    },
    "tags": []
   },
   "outputs": [],
   "source": [
    "p.domains_source = []\n",
    "p.domains_target = []\n",
    "\n",
    "\n",
    "train_original_source = []\n",
    "val_original_source   = []\n",
    "test_original_source  = []\n",
    "\n",
    "train_original_target = []\n",
    "val_original_target   = []\n",
    "test_original_target  = []"
   ]
  },
  {
   "cell_type": "code",
   "execution_count": 11,
   "id": "e3d9c3d3",
   "metadata": {
    "execution": {
     "iopub.execute_input": "2022-03-28T14:59:52.980643Z",
     "iopub.status.busy": "2022-03-28T14:59:52.980236Z",
     "iopub.status.idle": "2022-03-28T14:59:53.004830Z",
     "shell.execute_reply": "2022-03-28T14:59:53.003987Z"
    },
    "papermill": {
     "duration": 0.0493,
     "end_time": "2022-03-28T14:59:53.004993",
     "exception": false,
     "start_time": "2022-03-28T14:59:52.955693",
     "status": "completed"
    },
    "tags": []
   },
   "outputs": [],
   "source": [
    "# global_x_transform_func = lambda x: normalize(x.to(torch.get_default_dtype()), \"unit_power\") # unit_power, unit_mag\n",
    "# global_x_transform_func = lambda x: normalize(x, \"unit_power\") # unit_power, unit_mag"
   ]
  },
  {
   "cell_type": "code",
   "execution_count": 12,
   "id": "acb78fd2",
   "metadata": {
    "execution": {
     "iopub.execute_input": "2022-03-28T14:59:53.067674Z",
     "iopub.status.busy": "2022-03-28T14:59:53.066988Z",
     "iopub.status.idle": "2022-03-28T14:59:53.096527Z",
     "shell.execute_reply": "2022-03-28T14:59:53.095665Z"
    },
    "papermill": {
     "duration": 0.061922,
     "end_time": "2022-03-28T14:59:53.096688",
     "exception": false,
     "start_time": "2022-03-28T14:59:53.034766",
     "status": "completed"
    },
    "tags": []
   },
   "outputs": [],
   "source": [
    "def add_dataset(\n",
    "    labels,\n",
    "    domains,\n",
    "    pickle_path,\n",
    "    x_transforms,\n",
    "    episode_transforms,\n",
    "    domain_prefix,\n",
    "    num_examples_per_domain_per_label,\n",
    "    source_or_target_dataset:str,\n",
    "    iterator_seed=p.seed,\n",
    "    dataset_seed=p.dataset_seed,\n",
    "    n_shot=p.n_shot,\n",
    "    n_way=p.n_way,\n",
    "    n_query=p.n_query,\n",
    "    train_val_test_k_factors=(p.train_k_factor,p.val_k_factor,p.test_k_factor),\n",
    "):\n",
    "   \n",
    "    if x_transforms == []: x_transform = None\n",
    "    else: x_transform = get_chained_transform(x_transforms)\n",
    "    \n",
    "    if episode_transforms == []: episode_transform = None\n",
    "    else: raise Exception(\"episode_transforms not implemented\")\n",
    "    \n",
    "    episode_transform = lambda tup, _prefix=domain_prefix: (_prefix + str(tup[0]), tup[1])\n",
    "\n",
    "\n",
    "    eaf = Episodic_Accessor_Factory(\n",
    "        labels=labels,\n",
    "        domains=domains,\n",
    "        num_examples_per_domain_per_label=num_examples_per_domain_per_label,\n",
    "        iterator_seed=iterator_seed,\n",
    "        dataset_seed=dataset_seed,\n",
    "        n_shot=n_shot,\n",
    "        n_way=n_way,\n",
    "        n_query=n_query,\n",
    "        train_val_test_k_factors=train_val_test_k_factors,\n",
    "        pickle_path=pickle_path,\n",
    "        x_transform_func=x_transform,\n",
    "    )\n",
    "\n",
    "    train, val, test = eaf.get_train(), eaf.get_val(), eaf.get_test()\n",
    "    train = Lazy_Iterable_Wrapper(train, episode_transform)\n",
    "    val = Lazy_Iterable_Wrapper(val, episode_transform)\n",
    "    test = Lazy_Iterable_Wrapper(test, episode_transform)\n",
    "\n",
    "    if source_or_target_dataset==\"source\":\n",
    "        train_original_source.append(train)\n",
    "        val_original_source.append(val)\n",
    "        test_original_source.append(test)\n",
    "\n",
    "        p.domains_source.extend(\n",
    "            [domain_prefix + str(u) for u in domains]\n",
    "        )\n",
    "    elif source_or_target_dataset==\"target\":\n",
    "        train_original_target.append(train)\n",
    "        val_original_target.append(val)\n",
    "        test_original_target.append(test)\n",
    "        p.domains_target.extend(\n",
    "            [domain_prefix + str(u) for u in domains]\n",
    "        )\n",
    "    else:\n",
    "        raise Exception(f\"invalid source_or_target_dataset: {source_or_target_dataset}\")\n",
    "    "
   ]
  },
  {
   "cell_type": "code",
   "execution_count": 13,
   "id": "fe266617",
   "metadata": {
    "execution": {
     "iopub.execute_input": "2022-03-28T14:59:53.149782Z",
     "iopub.status.busy": "2022-03-28T14:59:53.149391Z",
     "iopub.status.idle": "2022-03-28T15:01:44.064488Z",
     "shell.execute_reply": "2022-03-28T15:01:44.063667Z"
    },
    "papermill": {
     "duration": 110.939538,
     "end_time": "2022-03-28T15:01:44.064666",
     "exception": false,
     "start_time": "2022-03-28T14:59:53.125128",
     "status": "completed"
    },
    "tags": []
   },
   "outputs": [],
   "source": [
    "for ds in p.datasets:\n",
    "    add_dataset(**ds)"
   ]
  },
  {
   "cell_type": "code",
   "execution_count": 14,
   "id": "b90d65ac",
   "metadata": {
    "execution": {
     "iopub.execute_input": "2022-03-28T15:01:44.116088Z",
     "iopub.status.busy": "2022-03-28T15:01:44.115442Z",
     "iopub.status.idle": "2022-03-28T15:01:44.138467Z",
     "shell.execute_reply": "2022-03-28T15:01:44.137667Z"
    },
    "papermill": {
     "duration": 0.04782,
     "end_time": "2022-03-28T15:01:44.138622",
     "exception": false,
     "start_time": "2022-03-28T15:01:44.090802",
     "status": "completed"
    },
    "tags": []
   },
   "outputs": [],
   "source": [
    "# from steves_utils.CORES.utils import (\n",
    "#     ALL_NODES,\n",
    "#     ALL_NODES_MINIMUM_1000_EXAMPLES,\n",
    "#     ALL_DAYS\n",
    "# )\n",
    "\n",
    "# add_dataset(\n",
    "#     labels=ALL_NODES,\n",
    "#     domains = ALL_DAYS,\n",
    "#     num_examples_per_domain_per_label=100,\n",
    "#     pickle_path=os.path.join(get_datasets_base_path(), \"cores.stratified_ds.2022A.pkl\"),\n",
    "#     source_or_target_dataset=\"target\",\n",
    "#     x_transform_func=global_x_transform_func,\n",
    "#     domain_modifier=lambda u: f\"cores_{u}\"\n",
    "# )"
   ]
  },
  {
   "cell_type": "code",
   "execution_count": 15,
   "id": "76db484d",
   "metadata": {
    "execution": {
     "iopub.execute_input": "2022-03-28T15:01:44.189638Z",
     "iopub.status.busy": "2022-03-28T15:01:44.189262Z",
     "iopub.status.idle": "2022-03-28T15:01:44.211153Z",
     "shell.execute_reply": "2022-03-28T15:01:44.210346Z"
    },
    "papermill": {
     "duration": 0.046425,
     "end_time": "2022-03-28T15:01:44.211308",
     "exception": false,
     "start_time": "2022-03-28T15:01:44.164883",
     "status": "completed"
    },
    "tags": []
   },
   "outputs": [],
   "source": [
    "# from steves_utils.ORACLE.utils_v2 import (\n",
    "#     ALL_DISTANCES_FEET,\n",
    "#     ALL_RUNS,\n",
    "#     ALL_SERIAL_NUMBERS,\n",
    "# )\n",
    "\n",
    "\n",
    "# add_dataset(\n",
    "#     labels=ALL_SERIAL_NUMBERS,\n",
    "#     domains = list(set(ALL_DISTANCES_FEET) - {2,62}),\n",
    "#     num_examples_per_domain_per_label=100,\n",
    "#     pickle_path=os.path.join(get_datasets_base_path(), \"oracle.Run2_framed_2000Examples_stratified_ds.2022A.pkl\"),\n",
    "#     source_or_target_dataset=\"source\",\n",
    "#     x_transform_func=global_x_transform_func,\n",
    "#     domain_modifier=lambda u: f\"oracle1_{u}\"\n",
    "# )\n"
   ]
  },
  {
   "cell_type": "code",
   "execution_count": 16,
   "id": "97dea9d2",
   "metadata": {
    "execution": {
     "iopub.execute_input": "2022-03-28T15:01:44.264706Z",
     "iopub.status.busy": "2022-03-28T15:01:44.264093Z",
     "iopub.status.idle": "2022-03-28T15:01:44.285522Z",
     "shell.execute_reply": "2022-03-28T15:01:44.284726Z"
    },
    "papermill": {
     "duration": 0.045876,
     "end_time": "2022-03-28T15:01:44.285674",
     "exception": false,
     "start_time": "2022-03-28T15:01:44.239798",
     "status": "completed"
    },
    "tags": []
   },
   "outputs": [],
   "source": [
    "# from steves_utils.ORACLE.utils_v2 import (\n",
    "#     ALL_DISTANCES_FEET,\n",
    "#     ALL_RUNS,\n",
    "#     ALL_SERIAL_NUMBERS,\n",
    "# )\n",
    "\n",
    "\n",
    "# add_dataset(\n",
    "#     labels=ALL_SERIAL_NUMBERS,\n",
    "#     domains = list(set(ALL_DISTANCES_FEET) - {2,62,56}),\n",
    "#     num_examples_per_domain_per_label=100,\n",
    "#     pickle_path=os.path.join(get_datasets_base_path(), \"oracle.Run2_framed_2000Examples_stratified_ds.2022A.pkl\"),\n",
    "#     source_or_target_dataset=\"source\",\n",
    "#     x_transform_func=global_x_transform_func,\n",
    "#     domain_modifier=lambda u: f\"oracle2_{u}\"\n",
    "# )"
   ]
  },
  {
   "cell_type": "code",
   "execution_count": 17,
   "id": "6f289866",
   "metadata": {
    "execution": {
     "iopub.execute_input": "2022-03-28T15:01:44.339120Z",
     "iopub.status.busy": "2022-03-28T15:01:44.338492Z",
     "iopub.status.idle": "2022-03-28T15:01:44.358334Z",
     "shell.execute_reply": "2022-03-28T15:01:44.357536Z"
    },
    "papermill": {
     "duration": 0.046008,
     "end_time": "2022-03-28T15:01:44.358485",
     "exception": false,
     "start_time": "2022-03-28T15:01:44.312477",
     "status": "completed"
    },
    "tags": []
   },
   "outputs": [],
   "source": [
    "# add_dataset(\n",
    "#     labels=list(range(19)),\n",
    "#     domains = [0,1,2],\n",
    "#     num_examples_per_domain_per_label=100,\n",
    "#     pickle_path=os.path.join(get_datasets_base_path(), \"metehan.stratified_ds.2022A.pkl\"),\n",
    "#     source_or_target_dataset=\"target\",\n",
    "#     x_transform_func=global_x_transform_func,\n",
    "#     domain_modifier=lambda u: f\"met_{u}\"\n",
    "# )"
   ]
  },
  {
   "cell_type": "code",
   "execution_count": 18,
   "id": "86a863c3",
   "metadata": {
    "execution": {
     "iopub.execute_input": "2022-03-28T15:01:44.423383Z",
     "iopub.status.busy": "2022-03-28T15:01:44.421081Z",
     "iopub.status.idle": "2022-03-28T15:01:44.442524Z",
     "shell.execute_reply": "2022-03-28T15:01:44.441821Z"
    },
    "papermill": {
     "duration": 0.054262,
     "end_time": "2022-03-28T15:01:44.442691",
     "exception": false,
     "start_time": "2022-03-28T15:01:44.388429",
     "status": "completed"
    },
    "tags": []
   },
   "outputs": [],
   "source": [
    "# # from steves_utils.wisig.utils import (\n",
    "# #     ALL_NODES_MINIMUM_100_EXAMPLES,\n",
    "# #     ALL_NODES_MINIMUM_500_EXAMPLES,\n",
    "# #     ALL_NODES_MINIMUM_1000_EXAMPLES,\n",
    "# #     ALL_DAYS\n",
    "# # )\n",
    "\n",
    "# import steves_utils.wisig.utils as wisig\n",
    "\n",
    "\n",
    "# add_dataset(\n",
    "#     labels=wisig.ALL_NODES_MINIMUM_100_EXAMPLES,\n",
    "#     domains = wisig.ALL_DAYS,\n",
    "#     num_examples_per_domain_per_label=100,\n",
    "#     pickle_path=os.path.join(get_datasets_base_path(), \"wisig.node3-19.stratified_ds.2022A.pkl\"),\n",
    "#     source_or_target_dataset=\"target\",\n",
    "#     x_transform_func=global_x_transform_func,\n",
    "#     domain_modifier=lambda u: f\"wisig_{u}\"\n",
    "# )"
   ]
  },
  {
   "cell_type": "code",
   "execution_count": 19,
   "id": "fd5442bc",
   "metadata": {
    "execution": {
     "iopub.execute_input": "2022-03-28T15:01:44.499971Z",
     "iopub.status.busy": "2022-03-28T15:01:44.499583Z",
     "iopub.status.idle": "2022-03-28T15:01:44.519103Z",
     "shell.execute_reply": "2022-03-28T15:01:44.518386Z"
    },
    "papermill": {
     "duration": 0.049898,
     "end_time": "2022-03-28T15:01:44.519258",
     "exception": false,
     "start_time": "2022-03-28T15:01:44.469360",
     "status": "completed"
    },
    "tags": []
   },
   "outputs": [],
   "source": [
    "###################################\n",
    "# Build the dataset\n",
    "###################################\n",
    "train_original_source = Iterable_Aggregator(train_original_source, p.seed)\n",
    "val_original_source = Iterable_Aggregator(val_original_source, p.seed)\n",
    "test_original_source = Iterable_Aggregator(test_original_source, p.seed)\n",
    "\n",
    "\n",
    "train_original_target = Iterable_Aggregator(train_original_target, p.seed)\n",
    "val_original_target = Iterable_Aggregator(val_original_target, p.seed)\n",
    "test_original_target = Iterable_Aggregator(test_original_target, p.seed)\n",
    "\n",
    "# For CNN We only use X and Y. And we only train on the source.\n",
    "# Properly form the data using a transform lambda and Lazy_Iterable_Wrapper. Finally wrap them in a dataloader\n",
    "\n",
    "transform_lambda = lambda ex: ex[1] # Original is (<domain>, <episode>) so we strip down to episode only\n",
    "\n",
    "train_processed_source = Lazy_Iterable_Wrapper(train_original_source, transform_lambda)\n",
    "val_processed_source   = Lazy_Iterable_Wrapper(val_original_source, transform_lambda)\n",
    "test_processed_source  = Lazy_Iterable_Wrapper(test_original_source, transform_lambda)\n",
    "\n",
    "train_processed_target = Lazy_Iterable_Wrapper(train_original_target, transform_lambda)\n",
    "val_processed_target   = Lazy_Iterable_Wrapper(val_original_target, transform_lambda)\n",
    "test_processed_target  = Lazy_Iterable_Wrapper(test_original_target, transform_lambda)\n",
    "\n",
    "datasets = EasyDict({\n",
    "    \"source\": {\n",
    "        \"original\": {\"train\":train_original_source, \"val\":val_original_source, \"test\":test_original_source},\n",
    "        \"processed\": {\"train\":train_processed_source, \"val\":val_processed_source, \"test\":test_processed_source}\n",
    "    },\n",
    "    \"target\": {\n",
    "        \"original\": {\"train\":train_original_target, \"val\":val_original_target, \"test\":test_original_target},\n",
    "        \"processed\": {\"train\":train_processed_target, \"val\":val_processed_target, \"test\":test_processed_target}\n",
    "    },\n",
    "})"
   ]
  },
  {
   "cell_type": "code",
   "execution_count": 20,
   "id": "5b3c01fc",
   "metadata": {
    "execution": {
     "iopub.execute_input": "2022-03-28T15:01:44.578824Z",
     "iopub.status.busy": "2022-03-28T15:01:44.575718Z",
     "iopub.status.idle": "2022-03-28T15:01:58.629809Z",
     "shell.execute_reply": "2022-03-28T15:01:58.630519Z"
    },
    "papermill": {
     "duration": 14.082537,
     "end_time": "2022-03-28T15:01:58.630743",
     "exception": false,
     "start_time": "2022-03-28T15:01:44.548206",
     "status": "completed"
    },
    "tags": []
   },
   "outputs": [
    {
     "name": "stdout",
     "output_type": "stream",
     "text": [
      "{'C_4', 'C_2', 'C_3', 'C_5', 'C_1'}\n"
     ]
    },
    {
     "name": "stdout",
     "output_type": "stream",
     "text": [
      "{'O_14', 'O_20', 'O_50', 'O_38', 'O_32', 'O_26', 'O_44', 'O_8'}\n"
     ]
    },
    {
     "name": "stdout",
     "output_type": "stream",
     "text": [
      "tensor([[[0., 0., 0.,  ..., 0., 0., 0.],\n",
      "         [0., 0., 0.,  ..., 0., 0., 0.]],\n",
      "\n",
      "        [[0., 0., 0.,  ..., 0., 0., 0.],\n",
      "         [0., 0., 0.,  ..., 0., 0., 0.]],\n",
      "\n",
      "        [[0., 0., 0.,  ..., 0., 0., 0.],\n",
      "         [0., 0., 0.,  ..., 0., 0., 0.]],\n",
      "\n",
      "        ...,\n",
      "\n",
      "        [[0., 0., 0.,  ..., 0., 0., 0.],\n",
      "         [0., 0., 0.,  ..., 0., 0., 0.]],\n",
      "\n",
      "        [[0., 0., 0.,  ..., 0., 0., 0.],\n",
      "         [0., 0., 0.,  ..., 0., 0., 0.]],\n",
      "\n",
      "        [[0., 0., 0.,  ..., 0., 0., 0.],\n",
      "         [0., 0., 0.,  ..., 0., 0., 0.]]])\n"
     ]
    }
   ],
   "source": [
    "from steves_utils.transforms import get_average_magnitude, get_average_power\n",
    "\n",
    "print(set([u for u,_ in val_original_source]))\n",
    "print(set([u for u,_ in val_original_target]))\n",
    "\n",
    "s_x, s_y, q_x, q_y, _ = next(iter(train_processed_source))\n",
    "print(s_x)\n",
    "\n",
    "# for ds in [\n",
    "#     train_processed_source,\n",
    "#     val_processed_source,\n",
    "#     test_processed_source,\n",
    "#     train_processed_target,\n",
    "#     val_processed_target,\n",
    "#     test_processed_target\n",
    "# ]:\n",
    "#     for s_x, s_y, q_x, q_y, _ in ds:\n",
    "#         for X in (s_x, q_x):\n",
    "#             for x in X:\n",
    "#                 assert np.isclose(get_average_magnitude(x.numpy()), 1.0)\n",
    "#                 assert np.isclose(get_average_power(x.numpy()), 1.0)\n",
    "                "
   ]
  },
  {
   "cell_type": "code",
   "execution_count": 21,
   "id": "bbdacba1",
   "metadata": {
    "execution": {
     "iopub.execute_input": "2022-03-28T15:01:58.689818Z",
     "iopub.status.busy": "2022-03-28T15:01:58.689255Z",
     "iopub.status.idle": "2022-03-28T15:01:58.886429Z",
     "shell.execute_reply": "2022-03-28T15:01:58.887139Z"
    },
    "papermill": {
     "duration": 0.229634,
     "end_time": "2022-03-28T15:01:58.887371",
     "exception": false,
     "start_time": "2022-03-28T15:01:58.657737",
     "status": "completed"
    },
    "tags": []
   },
   "outputs": [
    {
     "name": "stdout",
     "output_type": "stream",
     "text": [
      "(2, 256)\n"
     ]
    }
   ],
   "source": [
    "###################################\n",
    "# Build the model\n",
    "###################################\n",
    "# easfsl only wants a tuple for the shape\n",
    "model = Steves_Prototypical_Network(x_net, device=p.device, x_shape=tuple(p.x_shape))\n",
    "optimizer = Adam(params=model.parameters(), lr=p.lr)"
   ]
  },
  {
   "cell_type": "code",
   "execution_count": 22,
   "id": "22b39ac5",
   "metadata": {
    "execution": {
     "iopub.execute_input": "2022-03-28T15:01:58.948370Z",
     "iopub.status.busy": "2022-03-28T15:01:58.947986Z",
     "iopub.status.idle": "2022-03-28T15:27:11.381061Z",
     "shell.execute_reply": "2022-03-28T15:27:11.380703Z"
    },
    "papermill": {
     "duration": 1512.462228,
     "end_time": "2022-03-28T15:27:11.381150",
     "exception": false,
     "start_time": "2022-03-28T15:01:58.918922",
     "status": "completed"
    },
    "tags": []
   },
   "outputs": [
    {
     "name": "stdout",
     "output_type": "stream",
     "text": [
      "epoch: 1, [batch: 1 / 6317], examples_per_second: 34.6246, train_label_loss: 2.7706, \n"
     ]
    },
    {
     "name": "stdout",
     "output_type": "stream",
     "text": [
      "epoch: 1, [batch: 632 / 6317], examples_per_second: 4704.4929, train_label_loss: 0.0744, \n"
     ]
    },
    {
     "name": "stdout",
     "output_type": "stream",
     "text": [
      "epoch: 1, [batch: 1264 / 6317], examples_per_second: 4980.7159, train_label_loss: 0.0072, \n"
     ]
    },
    {
     "name": "stdout",
     "output_type": "stream",
     "text": [
      "epoch: 1, [batch: 1895 / 6317], examples_per_second: 5049.8562, train_label_loss: 0.0045, \n"
     ]
    },
    {
     "name": "stdout",
     "output_type": "stream",
     "text": [
      "epoch: 1, [batch: 2527 / 6317], examples_per_second: 4749.0981, train_label_loss: 0.0061, \n"
     ]
    },
    {
     "name": "stdout",
     "output_type": "stream",
     "text": [
      "epoch: 1, [batch: 3159 / 6317], examples_per_second: 4882.9380, train_label_loss: 0.0149, \n"
     ]
    },
    {
     "name": "stdout",
     "output_type": "stream",
     "text": [
      "epoch: 1, [batch: 3790 / 6317], examples_per_second: 3868.4363, train_label_loss: 0.0003, \n"
     ]
    },
    {
     "name": "stdout",
     "output_type": "stream",
     "text": [
      "epoch: 1, [batch: 4422 / 6317], examples_per_second: 3834.9436, train_label_loss: 0.0001, \n"
     ]
    },
    {
     "name": "stdout",
     "output_type": "stream",
     "text": [
      "epoch: 1, [batch: 5053 / 6317], examples_per_second: 3859.9210, train_label_loss: 0.0007, \n"
     ]
    },
    {
     "name": "stdout",
     "output_type": "stream",
     "text": [
      "epoch: 1, [batch: 5685 / 6317], examples_per_second: 3861.5145, train_label_loss: 0.0023, \n"
     ]
    },
    {
     "name": "stdout",
     "output_type": "stream",
     "text": [
      "=============================================================\n",
      "epoch: 1, source_val_acc_label: 0.9906, target_val_acc_label: 0.3788, source_val_label_loss: 0.8941, target_val_label_loss: 1.7466, \n",
      "=============================================================\n"
     ]
    },
    {
     "name": "stdout",
     "output_type": "stream",
     "text": [
      "New best\n"
     ]
    },
    {
     "name": "stdout",
     "output_type": "stream",
     "text": [
      "epoch: 2, [batch: 1 / 6315], examples_per_second: 3.9937, train_label_loss: 0.0054, \n"
     ]
    },
    {
     "name": "stdout",
     "output_type": "stream",
     "text": [
      "epoch: 2, [batch: 632 / 6315], examples_per_second: 3934.0240, train_label_loss: 0.0007, \n"
     ]
    },
    {
     "name": "stdout",
     "output_type": "stream",
     "text": [
      "epoch: 2, [batch: 1263 / 6315], examples_per_second: 3868.4251, train_label_loss: 0.0027, \n"
     ]
    },
    {
     "name": "stdout",
     "output_type": "stream",
     "text": [
      "epoch: 2, [batch: 1895 / 6315], examples_per_second: 4020.7183, train_label_loss: 0.0014, \n"
     ]
    },
    {
     "name": "stdout",
     "output_type": "stream",
     "text": [
      "epoch: 2, [batch: 2526 / 6315], examples_per_second: 4190.7248, train_label_loss: 0.0024, \n"
     ]
    },
    {
     "name": "stdout",
     "output_type": "stream",
     "text": [
      "epoch: 2, [batch: 3158 / 6315], examples_per_second: 4510.8665, train_label_loss: 0.0001, \n"
     ]
    },
    {
     "name": "stdout",
     "output_type": "stream",
     "text": [
      "epoch: 2, [batch: 3789 / 6315], examples_per_second: 3878.2887, train_label_loss: 0.0004, \n"
     ]
    },
    {
     "name": "stdout",
     "output_type": "stream",
     "text": [
      "epoch: 2, [batch: 4420 / 6315], examples_per_second: 3868.8022, train_label_loss: 0.0000, \n"
     ]
    },
    {
     "name": "stdout",
     "output_type": "stream",
     "text": [
      "epoch: 2, [batch: 5052 / 6315], examples_per_second: 3842.1365, train_label_loss: 0.0000, \n"
     ]
    },
    {
     "name": "stdout",
     "output_type": "stream",
     "text": [
      "epoch: 2, [batch: 5683 / 6315], examples_per_second: 3877.4635, train_label_loss: 0.1024, \n"
     ]
    },
    {
     "name": "stdout",
     "output_type": "stream",
     "text": [
      "=============================================================\n",
      "epoch: 2, source_val_acc_label: 0.9979, target_val_acc_label: 0.3867, source_val_label_loss: 0.0100, target_val_label_loss: 1.7953, \n",
      "=============================================================\n"
     ]
    },
    {
     "name": "stdout",
     "output_type": "stream",
     "text": [
      "New best\n"
     ]
    },
    {
     "name": "stdout",
     "output_type": "stream",
     "text": [
      "epoch: 3, [batch: 1 / 6325], examples_per_second: 4.0854, train_label_loss: 0.0001, \n"
     ]
    },
    {
     "name": "stdout",
     "output_type": "stream",
     "text": [
      "epoch: 3, [batch: 633 / 6325], examples_per_second: 3789.8717, train_label_loss: 0.0038, \n"
     ]
    },
    {
     "name": "stdout",
     "output_type": "stream",
     "text": [
      "epoch: 3, [batch: 1265 / 6325], examples_per_second: 3925.1534, train_label_loss: 0.0003, \n"
     ]
    },
    {
     "name": "stdout",
     "output_type": "stream",
     "text": [
      "epoch: 3, [batch: 1898 / 6325], examples_per_second: 4210.1811, train_label_loss: 0.0000, \n"
     ]
    },
    {
     "name": "stdout",
     "output_type": "stream",
     "text": [
      "epoch: 3, [batch: 2530 / 6325], examples_per_second: 4421.5489, train_label_loss: 0.0000, \n"
     ]
    },
    {
     "name": "stdout",
     "output_type": "stream",
     "text": [
      "epoch: 3, [batch: 3163 / 6325], examples_per_second: 4913.7875, train_label_loss: 0.0003, \n"
     ]
    },
    {
     "name": "stdout",
     "output_type": "stream",
     "text": [
      "epoch: 3, [batch: 3795 / 6325], examples_per_second: 4006.9858, train_label_loss: 0.0000, \n"
     ]
    },
    {
     "name": "stdout",
     "output_type": "stream",
     "text": [
      "epoch: 3, [batch: 4427 / 6325], examples_per_second: 3834.3660, train_label_loss: 0.0206, \n"
     ]
    },
    {
     "name": "stdout",
     "output_type": "stream",
     "text": [
      "epoch: 3, [batch: 5060 / 6325], examples_per_second: 3900.6738, train_label_loss: 0.0000, \n"
     ]
    },
    {
     "name": "stdout",
     "output_type": "stream",
     "text": [
      "epoch: 3, [batch: 5692 / 6325], examples_per_second: 3983.6195, train_label_loss: 0.0000, \n"
     ]
    },
    {
     "name": "stdout",
     "output_type": "stream",
     "text": [
      "=============================================================\n",
      "epoch: 3, source_val_acc_label: 0.9981, target_val_acc_label: 0.3552, source_val_label_loss: 0.0100, target_val_label_loss: 1.9692, \n",
      "=============================================================\n"
     ]
    },
    {
     "name": "stdout",
     "output_type": "stream",
     "text": [
      "epoch: 4, [batch: 1 / 6307], examples_per_second: 4.0649, train_label_loss: 0.0003, \n"
     ]
    },
    {
     "name": "stdout",
     "output_type": "stream",
     "text": [
      "epoch: 4, [batch: 631 / 6307], examples_per_second: 3908.6626, train_label_loss: 0.0000, \n"
     ]
    },
    {
     "name": "stdout",
     "output_type": "stream",
     "text": [
      "epoch: 4, [batch: 1262 / 6307], examples_per_second: 3953.3344, train_label_loss: 0.0000, \n"
     ]
    },
    {
     "name": "stdout",
     "output_type": "stream",
     "text": [
      "epoch: 4, [batch: 1892 / 6307], examples_per_second: 4289.2697, train_label_loss: 0.0000, \n"
     ]
    },
    {
     "name": "stdout",
     "output_type": "stream",
     "text": [
      "epoch: 4, [batch: 2523 / 6307], examples_per_second: 4409.5780, train_label_loss: 0.0000, \n"
     ]
    },
    {
     "name": "stdout",
     "output_type": "stream",
     "text": [
      "epoch: 4, [batch: 3154 / 6307], examples_per_second: 4503.6899, train_label_loss: 0.0000, \n"
     ]
    },
    {
     "name": "stdout",
     "output_type": "stream",
     "text": [
      "epoch: 4, [batch: 3784 / 6307], examples_per_second: 3858.0379, train_label_loss: 0.1072, \n"
     ]
    },
    {
     "name": "stdout",
     "output_type": "stream",
     "text": [
      "epoch: 4, [batch: 4415 / 6307], examples_per_second: 3867.8361, train_label_loss: 0.0000, \n"
     ]
    },
    {
     "name": "stdout",
     "output_type": "stream",
     "text": [
      "epoch: 4, [batch: 5045 / 6307], examples_per_second: 3863.4488, train_label_loss: 0.0000, \n"
     ]
    },
    {
     "name": "stdout",
     "output_type": "stream",
     "text": [
      "epoch: 4, [batch: 5676 / 6307], examples_per_second: 3818.8910, train_label_loss: 0.0001, \n"
     ]
    },
    {
     "name": "stdout",
     "output_type": "stream",
     "text": [
      "=============================================================\n",
      "epoch: 4, source_val_acc_label: 0.9982, target_val_acc_label: 0.3346, source_val_label_loss: 0.0072, target_val_label_loss: 2.1040, \n",
      "=============================================================\n"
     ]
    },
    {
     "name": "stdout",
     "output_type": "stream",
     "text": [
      "epoch: 5, [batch: 1 / 6302], examples_per_second: 4.0870, train_label_loss: 0.0116, \n"
     ]
    },
    {
     "name": "stdout",
     "output_type": "stream",
     "text": [
      "epoch: 5, [batch: 631 / 6302], examples_per_second: 3825.8289, train_label_loss: 0.0000, \n"
     ]
    },
    {
     "name": "stdout",
     "output_type": "stream",
     "text": [
      "epoch: 5, [batch: 1261 / 6302], examples_per_second: 3806.5976, train_label_loss: 0.0001, \n"
     ]
    },
    {
     "name": "stdout",
     "output_type": "stream",
     "text": [
      "epoch: 5, [batch: 1891 / 6302], examples_per_second: 4102.5720, train_label_loss: 0.0031, \n"
     ]
    },
    {
     "name": "stdout",
     "output_type": "stream",
     "text": [
      "epoch: 5, [batch: 2521 / 6302], examples_per_second: 4267.9584, train_label_loss: 0.0010, \n"
     ]
    },
    {
     "name": "stdout",
     "output_type": "stream",
     "text": [
      "epoch: 5, [batch: 3151 / 6302], examples_per_second: 4707.4834, train_label_loss: 0.0000, \n"
     ]
    },
    {
     "name": "stdout",
     "output_type": "stream",
     "text": [
      "epoch: 5, [batch: 3781 / 6302], examples_per_second: 3896.9211, train_label_loss: 0.0001, \n"
     ]
    },
    {
     "name": "stdout",
     "output_type": "stream",
     "text": [
      "epoch: 5, [batch: 4411 / 6302], examples_per_second: 3846.9853, train_label_loss: 0.0002, \n"
     ]
    },
    {
     "name": "stdout",
     "output_type": "stream",
     "text": [
      "epoch: 5, [batch: 5041 / 6302], examples_per_second: 3900.2093, train_label_loss: 0.0001, \n"
     ]
    },
    {
     "name": "stdout",
     "output_type": "stream",
     "text": [
      "epoch: 5, [batch: 5671 / 6302], examples_per_second: 3894.4099, train_label_loss: 0.0000, \n"
     ]
    },
    {
     "name": "stdout",
     "output_type": "stream",
     "text": [
      "=============================================================\n",
      "epoch: 5, source_val_acc_label: 0.9986, target_val_acc_label: 0.3230, source_val_label_loss: 0.0078, target_val_label_loss: 2.1499, \n",
      "=============================================================\n"
     ]
    },
    {
     "name": "stdout",
     "output_type": "stream",
     "text": [
      "epoch: 6, [batch: 1 / 6311], examples_per_second: 4.1762, train_label_loss: 0.0000, \n"
     ]
    },
    {
     "name": "stdout",
     "output_type": "stream",
     "text": [
      "epoch: 6, [batch: 632 / 6311], examples_per_second: 3887.0011, train_label_loss: 0.0025, \n"
     ]
    },
    {
     "name": "stdout",
     "output_type": "stream",
     "text": [
      "epoch: 6, [batch: 1263 / 6311], examples_per_second: 3995.1979, train_label_loss: 0.0000, \n"
     ]
    },
    {
     "name": "stdout",
     "output_type": "stream",
     "text": [
      "epoch: 6, [batch: 1894 / 6311], examples_per_second: 3979.4028, train_label_loss: 0.0000, \n"
     ]
    },
    {
     "name": "stdout",
     "output_type": "stream",
     "text": [
      "epoch: 6, [batch: 2525 / 6311], examples_per_second: 4264.8507, train_label_loss: 0.0370, \n"
     ]
    },
    {
     "name": "stdout",
     "output_type": "stream",
     "text": [
      "epoch: 6, [batch: 3156 / 6311], examples_per_second: 4413.6768, train_label_loss: 0.0000, \n"
     ]
    },
    {
     "name": "stdout",
     "output_type": "stream",
     "text": [
      "epoch: 6, [batch: 3787 / 6311], examples_per_second: 3849.3672, train_label_loss: 0.0001, \n"
     ]
    },
    {
     "name": "stdout",
     "output_type": "stream",
     "text": [
      "epoch: 6, [batch: 4418 / 6311], examples_per_second: 3898.6397, train_label_loss: 0.0030, \n"
     ]
    },
    {
     "name": "stdout",
     "output_type": "stream",
     "text": [
      "epoch: 6, [batch: 5049 / 6311], examples_per_second: 3951.8305, train_label_loss: 0.0000, \n"
     ]
    },
    {
     "name": "stdout",
     "output_type": "stream",
     "text": [
      "epoch: 6, [batch: 5680 / 6311], examples_per_second: 3925.1660, train_label_loss: 0.0000, \n"
     ]
    },
    {
     "name": "stdout",
     "output_type": "stream",
     "text": [
      "=============================================================\n",
      "epoch: 6, source_val_acc_label: 0.9992, target_val_acc_label: 0.3980, source_val_label_loss: 0.0059, target_val_label_loss: 1.7484, \n",
      "=============================================================\n"
     ]
    },
    {
     "name": "stdout",
     "output_type": "stream",
     "text": [
      "New best\n"
     ]
    },
    {
     "name": "stdout",
     "output_type": "stream",
     "text": [
      "epoch: 7, [batch: 1 / 6310], examples_per_second: 4.1154, train_label_loss: 0.0000, \n"
     ]
    },
    {
     "name": "stdout",
     "output_type": "stream",
     "text": [
      "epoch: 7, [batch: 631 / 6310], examples_per_second: 3906.2100, train_label_loss: 0.0001, \n"
     ]
    },
    {
     "name": "stdout",
     "output_type": "stream",
     "text": [
      "epoch: 7, [batch: 1262 / 6310], examples_per_second: 4034.0582, train_label_loss: 0.0289, \n"
     ]
    },
    {
     "name": "stdout",
     "output_type": "stream",
     "text": [
      "epoch: 7, [batch: 1893 / 6310], examples_per_second: 4325.3390, train_label_loss: 0.0000, \n"
     ]
    },
    {
     "name": "stdout",
     "output_type": "stream",
     "text": [
      "epoch: 7, [batch: 2524 / 6310], examples_per_second: 4450.9939, train_label_loss: 0.0000, \n"
     ]
    },
    {
     "name": "stdout",
     "output_type": "stream",
     "text": [
      "epoch: 7, [batch: 3155 / 6310], examples_per_second: 4416.3400, train_label_loss: 0.0004, \n"
     ]
    },
    {
     "name": "stdout",
     "output_type": "stream",
     "text": [
      "epoch: 7, [batch: 3786 / 6310], examples_per_second: 3883.2769, train_label_loss: 0.0010, \n"
     ]
    },
    {
     "name": "stdout",
     "output_type": "stream",
     "text": [
      "epoch: 7, [batch: 4417 / 6310], examples_per_second: 3918.5765, train_label_loss: 0.0000, \n"
     ]
    },
    {
     "name": "stdout",
     "output_type": "stream",
     "text": [
      "epoch: 7, [batch: 5048 / 6310], examples_per_second: 3913.9575, train_label_loss: 0.0000, \n"
     ]
    },
    {
     "name": "stdout",
     "output_type": "stream",
     "text": [
      "epoch: 7, [batch: 5679 / 6310], examples_per_second: 3879.0186, train_label_loss: 0.0000, \n"
     ]
    },
    {
     "name": "stdout",
     "output_type": "stream",
     "text": [
      "=============================================================\n",
      "epoch: 7, source_val_acc_label: 0.9992, target_val_acc_label: 0.3635, source_val_label_loss: 0.0053, target_val_label_loss: 2.0346, \n",
      "=============================================================\n"
     ]
    },
    {
     "name": "stdout",
     "output_type": "stream",
     "text": [
      "epoch: 8, [batch: 1 / 6331], examples_per_second: 4.1140, train_label_loss: 0.0000, \n"
     ]
    },
    {
     "name": "stdout",
     "output_type": "stream",
     "text": [
      "epoch: 8, [batch: 634 / 6331], examples_per_second: 3903.3271, train_label_loss: 0.0000, \n"
     ]
    },
    {
     "name": "stdout",
     "output_type": "stream",
     "text": [
      "epoch: 8, [batch: 1267 / 6331], examples_per_second: 3944.1379, train_label_loss: 0.0000, \n"
     ]
    },
    {
     "name": "stdout",
     "output_type": "stream",
     "text": [
      "epoch: 8, [batch: 1900 / 6331], examples_per_second: 4036.7079, train_label_loss: 0.0001, \n"
     ]
    },
    {
     "name": "stdout",
     "output_type": "stream",
     "text": [
      "epoch: 8, [batch: 2533 / 6331], examples_per_second: 4250.3618, train_label_loss: 0.0011, \n"
     ]
    },
    {
     "name": "stdout",
     "output_type": "stream",
     "text": [
      "epoch: 8, [batch: 3166 / 6331], examples_per_second: 4362.4883, train_label_loss: 0.0000, \n"
     ]
    },
    {
     "name": "stdout",
     "output_type": "stream",
     "text": [
      "epoch: 8, [batch: 3799 / 6331], examples_per_second: 3859.8750, train_label_loss: 0.0000, \n"
     ]
    },
    {
     "name": "stdout",
     "output_type": "stream",
     "text": [
      "epoch: 8, [batch: 4432 / 6331], examples_per_second: 3803.7133, train_label_loss: 0.0000, \n"
     ]
    },
    {
     "name": "stdout",
     "output_type": "stream",
     "text": [
      "epoch: 8, [batch: 5065 / 6331], examples_per_second: 3948.6053, train_label_loss: 0.0398, \n"
     ]
    },
    {
     "name": "stdout",
     "output_type": "stream",
     "text": [
      "epoch: 8, [batch: 5698 / 6331], examples_per_second: 3885.3086, train_label_loss: 0.0000, \n"
     ]
    },
    {
     "name": "stdout",
     "output_type": "stream",
     "text": [
      "=============================================================\n",
      "epoch: 8, source_val_acc_label: 0.9994, target_val_acc_label: 0.3701, source_val_label_loss: 0.0041, target_val_label_loss: 1.9069, \n",
      "=============================================================\n"
     ]
    },
    {
     "name": "stdout",
     "output_type": "stream",
     "text": [
      "epoch: 9, [batch: 1 / 6311], examples_per_second: 4.0694, train_label_loss: 0.0004, \n"
     ]
    },
    {
     "name": "stdout",
     "output_type": "stream",
     "text": [
      "epoch: 9, [batch: 632 / 6311], examples_per_second: 3992.2616, train_label_loss: 0.0000, \n"
     ]
    },
    {
     "name": "stdout",
     "output_type": "stream",
     "text": [
      "epoch: 9, [batch: 1263 / 6311], examples_per_second: 3978.1280, train_label_loss: 0.0000, \n"
     ]
    },
    {
     "name": "stdout",
     "output_type": "stream",
     "text": [
      "epoch: 9, [batch: 1894 / 6311], examples_per_second: 4285.7897, train_label_loss: 0.0000, \n"
     ]
    },
    {
     "name": "stdout",
     "output_type": "stream",
     "text": [
      "epoch: 9, [batch: 2525 / 6311], examples_per_second: 4388.3139, train_label_loss: 0.0022, \n"
     ]
    },
    {
     "name": "stdout",
     "output_type": "stream",
     "text": [
      "epoch: 9, [batch: 3156 / 6311], examples_per_second: 4447.8675, train_label_loss: 0.0000, \n"
     ]
    },
    {
     "name": "stdout",
     "output_type": "stream",
     "text": [
      "epoch: 9, [batch: 3787 / 6311], examples_per_second: 3831.1825, train_label_loss: 0.0000, \n"
     ]
    },
    {
     "name": "stdout",
     "output_type": "stream",
     "text": [
      "epoch: 9, [batch: 4418 / 6311], examples_per_second: 3887.7315, train_label_loss: 0.0000, \n"
     ]
    },
    {
     "name": "stdout",
     "output_type": "stream",
     "text": [
      "epoch: 9, [batch: 5049 / 6311], examples_per_second: 3930.8831, train_label_loss: 0.0000, \n"
     ]
    },
    {
     "name": "stdout",
     "output_type": "stream",
     "text": [
      "epoch: 9, [batch: 5680 / 6311], examples_per_second: 3849.5976, train_label_loss: 0.0000, \n"
     ]
    },
    {
     "name": "stdout",
     "output_type": "stream",
     "text": [
      "=============================================================\n",
      "epoch: 9, source_val_acc_label: 0.9994, target_val_acc_label: 0.3564, source_val_label_loss: 0.0048, target_val_label_loss: 2.2256, \n",
      "=============================================================\n"
     ]
    },
    {
     "name": "stdout",
     "output_type": "stream",
     "text": [
      "epoch: 10, [batch: 1 / 6309], examples_per_second: 4.0916, train_label_loss: 0.0000, \n"
     ]
    },
    {
     "name": "stdout",
     "output_type": "stream",
     "text": [
      "epoch: 10, [batch: 631 / 6309], examples_per_second: 3791.2440, train_label_loss: 0.0000, \n"
     ]
    },
    {
     "name": "stdout",
     "output_type": "stream",
     "text": [
      "epoch: 10, [batch: 1262 / 6309], examples_per_second: 3842.7186, train_label_loss: 0.0000, \n"
     ]
    },
    {
     "name": "stdout",
     "output_type": "stream",
     "text": [
      "epoch: 10, [batch: 1893 / 6309], examples_per_second: 4252.8843, train_label_loss: 0.0000, \n"
     ]
    },
    {
     "name": "stdout",
     "output_type": "stream",
     "text": [
      "epoch: 10, [batch: 2524 / 6309], examples_per_second: 4279.7650, train_label_loss: 0.0000, \n"
     ]
    },
    {
     "name": "stdout",
     "output_type": "stream",
     "text": [
      "epoch: 10, [batch: 3155 / 6309], examples_per_second: 4187.7216, train_label_loss: 0.0000, \n"
     ]
    },
    {
     "name": "stdout",
     "output_type": "stream",
     "text": [
      "epoch: 10, [batch: 3785 / 6309], examples_per_second: 3909.0467, train_label_loss: 0.0001, \n"
     ]
    },
    {
     "name": "stdout",
     "output_type": "stream",
     "text": [
      "epoch: 10, [batch: 4416 / 6309], examples_per_second: 3860.6061, train_label_loss: 0.0001, \n"
     ]
    },
    {
     "name": "stdout",
     "output_type": "stream",
     "text": [
      "epoch: 10, [batch: 5047 / 6309], examples_per_second: 3839.0014, train_label_loss: 0.0000, \n"
     ]
    },
    {
     "name": "stdout",
     "output_type": "stream",
     "text": [
      "epoch: 10, [batch: 5678 / 6309], examples_per_second: 3840.4399, train_label_loss: 0.0000, \n"
     ]
    },
    {
     "name": "stdout",
     "output_type": "stream",
     "text": [
      "=============================================================\n",
      "epoch: 10, source_val_acc_label: 0.9993, target_val_acc_label: 0.3390, source_val_label_loss: 0.0045, target_val_label_loss: 2.5124, \n",
      "=============================================================\n"
     ]
    },
    {
     "name": "stdout",
     "output_type": "stream",
     "text": [
      "Patience (3) exhausted\n"
     ]
    }
   ],
   "source": [
    "###################################\n",
    "# train\n",
    "###################################\n",
    "jig = PTN_Train_Eval_Test_Jig(model, p.BEST_MODEL_PATH, p.device)\n",
    "\n",
    "jig.train(\n",
    "    train_iterable=datasets.source.processed.train,\n",
    "    source_val_iterable=datasets.source.processed.val,\n",
    "    target_val_iterable=datasets.target.processed.val,\n",
    "    num_epochs=p.n_epoch,\n",
    "    num_logs_per_epoch=p.NUM_LOGS_PER_EPOCH,\n",
    "    patience=p.patience,\n",
    "    optimizer=optimizer,\n",
    "    criteria_for_best=p.criteria_for_best,\n",
    ")"
   ]
  },
  {
   "cell_type": "code",
   "execution_count": 23,
   "id": "31e8fabf",
   "metadata": {
    "execution": {
     "iopub.execute_input": "2022-03-28T15:27:11.498357Z",
     "iopub.status.busy": "2022-03-28T15:27:11.497920Z",
     "iopub.status.idle": "2022-03-28T15:27:11.532272Z",
     "shell.execute_reply": "2022-03-28T15:27:11.531517Z"
    },
    "papermill": {
     "duration": 0.096007,
     "end_time": "2022-03-28T15:27:11.532446",
     "exception": false,
     "start_time": "2022-03-28T15:27:11.436439",
     "status": "completed"
    },
    "tags": []
   },
   "outputs": [],
   "source": [
    "total_experiment_time_secs = time.time() - start_time_secs"
   ]
  },
  {
   "cell_type": "code",
   "execution_count": 24,
   "id": "87b9595b",
   "metadata": {
    "execution": {
     "iopub.execute_input": "2022-03-28T15:27:11.661912Z",
     "iopub.status.busy": "2022-03-28T15:27:11.661505Z",
     "iopub.status.idle": "2022-03-28T15:29:52.242755Z",
     "shell.execute_reply": "2022-03-28T15:29:52.243575Z"
    },
    "papermill": {
     "duration": 160.651135,
     "end_time": "2022-03-28T15:29:52.243864",
     "exception": false,
     "start_time": "2022-03-28T15:27:11.592729",
     "status": "completed"
    },
    "tags": []
   },
   "outputs": [],
   "source": [
    "###################################\n",
    "# Evaluate the model\n",
    "###################################\n",
    "source_test_label_accuracy, source_test_label_loss = jig.test(datasets.source.processed.test)\n",
    "target_test_label_accuracy, target_test_label_loss = jig.test(datasets.target.processed.test)\n",
    "\n",
    "source_val_label_accuracy, source_val_label_loss = jig.test(datasets.source.processed.val)\n",
    "target_val_label_accuracy, target_val_label_loss = jig.test(datasets.target.processed.val)\n",
    "\n",
    "history = jig.get_history()\n",
    "\n",
    "total_epochs_trained = len(history[\"epoch_indices\"])\n",
    "\n",
    "val_dl = Iterable_Aggregator((datasets.source.original.val,datasets.target.original.val))\n",
    "\n",
    "confusion = ptn_confusion_by_domain_over_dataloader(model, p.device, val_dl)\n",
    "per_domain_accuracy = per_domain_accuracy_from_confusion(confusion)\n",
    "\n",
    "# Add a key to per_domain_accuracy for if it was a source domain\n",
    "for domain, accuracy in per_domain_accuracy.items():\n",
    "    per_domain_accuracy[domain] = {\n",
    "        \"accuracy\": accuracy,\n",
    "        \"source?\": domain in p.domains_source\n",
    "    }\n",
    "\n",
    "# Do an independent accuracy assesment JUST TO BE SURE!\n",
    "# _source_test_label_accuracy = independent_accuracy_assesment(model, datasets.source.processed.test, p.device)\n",
    "# _target_test_label_accuracy = independent_accuracy_assesment(model, datasets.target.processed.test, p.device)\n",
    "# _source_val_label_accuracy = independent_accuracy_assesment(model, datasets.source.processed.val, p.device)\n",
    "# _target_val_label_accuracy = independent_accuracy_assesment(model, datasets.target.processed.val, p.device)\n",
    "\n",
    "# assert(_source_test_label_accuracy == source_test_label_accuracy)\n",
    "# assert(_target_test_label_accuracy == target_test_label_accuracy)\n",
    "# assert(_source_val_label_accuracy == source_val_label_accuracy)\n",
    "# assert(_target_val_label_accuracy == target_val_label_accuracy)\n",
    "\n",
    "experiment = {\n",
    "    \"experiment_name\": p.experiment_name,\n",
    "    \"parameters\": dict(p),\n",
    "    \"results\": {\n",
    "        \"source_test_label_accuracy\": source_test_label_accuracy,\n",
    "        \"source_test_label_loss\": source_test_label_loss,\n",
    "        \"target_test_label_accuracy\": target_test_label_accuracy,\n",
    "        \"target_test_label_loss\": target_test_label_loss,\n",
    "        \"source_val_label_accuracy\": source_val_label_accuracy,\n",
    "        \"source_val_label_loss\": source_val_label_loss,\n",
    "        \"target_val_label_accuracy\": target_val_label_accuracy,\n",
    "        \"target_val_label_loss\": target_val_label_loss,\n",
    "        \"total_epochs_trained\": total_epochs_trained,\n",
    "        \"total_experiment_time_secs\": total_experiment_time_secs,\n",
    "        \"confusion\": confusion,\n",
    "        \"per_domain_accuracy\": per_domain_accuracy,\n",
    "    },\n",
    "    \"history\": history,\n",
    "    \"dataset_metrics\": get_dataset_metrics(datasets, \"ptn\"),\n",
    "}"
   ]
  },
  {
   "cell_type": "code",
   "execution_count": 25,
   "id": "54a21829",
   "metadata": {
    "execution": {
     "iopub.execute_input": "2022-03-28T15:29:52.371261Z",
     "iopub.status.busy": "2022-03-28T15:29:52.370855Z",
     "iopub.status.idle": "2022-03-28T15:29:52.581948Z",
     "shell.execute_reply": "2022-03-28T15:29:52.582636Z"
    },
    "papermill": {
     "duration": 0.275532,
     "end_time": "2022-03-28T15:29:52.582853",
     "exception": false,
     "start_time": "2022-03-28T15:29:52.307321",
     "status": "completed"
    },
    "tags": []
   },
   "outputs": [
    {
     "data": {
      "image/png": "[encoded data removed]",
      "text/plain": [
       "<Figure size 1080x504 with 1 Axes>"
      ]
     },
     "metadata": {
      "needs_background": "light"
     },
     "output_type": "display_data"
    }
   ],
   "source": [
    "ax = get_loss_curve(experiment)\n",
    "plt.show()"
   ]
  },
  {
   "cell_type": "code",
   "execution_count": 26,
   "id": "fd8a0f60",
   "metadata": {
    "execution": {
     "iopub.execute_input": "2022-03-28T15:29:52.703173Z",
     "iopub.status.busy": "2022-03-28T15:29:52.702788Z",
     "iopub.status.idle": "2022-03-28T15:29:53.069137Z",
     "shell.execute_reply": "2022-03-28T15:29:53.069456Z"
    },
    "papermill": {
     "duration": 0.427108,
     "end_time": "2022-03-28T15:29:53.069577",
     "exception": false,
     "start_time": "2022-03-28T15:29:52.642469",
     "status": "completed"
    },
    "tags": []
   },
   "outputs": [
    {
     "data": {
      "text/plain": [
       "<AxesSubplot:title={'center':'Results'}>"
      ]
     },
     "execution_count": 26,
     "metadata": {},
     "output_type": "execute_result"
    },
    {
     "data": {
      "image/png": "[encoded data removed]",
      "text/plain": [
       "<Figure size 1080x504 with 1 Axes>"
      ]
     },
     "metadata": {
      "needs_background": "light"
     },
     "output_type": "display_data"
    }
   ],
   "source": [
    "get_results_table(experiment)"
   ]
  },
  {
   "cell_type": "code",
   "execution_count": 27,
   "id": "cf8dc689",
   "metadata": {
    "execution": {
     "iopub.execute_input": "2022-03-28T15:29:53.188888Z",
     "iopub.status.busy": "2022-03-28T15:29:53.188517Z",
     "iopub.status.idle": "2022-03-28T15:29:53.424152Z",
     "shell.execute_reply": "2022-03-28T15:29:53.424854Z"
    },
    "papermill": {
     "duration": 0.296867,
     "end_time": "2022-03-28T15:29:53.425086",
     "exception": false,
     "start_time": "2022-03-28T15:29:53.128219",
     "status": "completed"
    },
    "tags": []
   },
   "outputs": [
    {
     "data": {
      "text/plain": [
       "<AxesSubplot:title={'center':'Per Domain Validation Accuracy'}, xlabel='domain'>"
      ]
     },
     "execution_count": 27,
     "metadata": {},
     "output_type": "execute_result"
    },
    {
     "data": {
      "image/png": "[encoded data removed]",
      "text/plain": [
       "<Figure size 1080x504 with 1 Axes>"
      ]
     },
     "metadata": {
      "needs_background": "light"
     },
     "output_type": "display_data"
    }
   ],
   "source": [
    "get_domain_accuracies(experiment)"
   ]
  },
  {
   "cell_type": "code",
   "execution_count": 28,
   "id": "a74ae082",
   "metadata": {
    "execution": {
     "iopub.execute_input": "2022-03-28T15:29:53.553058Z",
     "iopub.status.busy": "2022-03-28T15:29:53.552677Z",
     "iopub.status.idle": "2022-03-28T15:29:53.581961Z",
     "shell.execute_reply": "2022-03-28T15:29:53.581241Z"
    },
    "papermill": {
     "duration": 0.09209,
     "end_time": "2022-03-28T15:29:53.582121",
     "exception": false,
     "start_time": "2022-03-28T15:29:53.490031",
     "status": "completed"
    },
    "tags": []
   },
   "outputs": [
    {
     "name": "stdout",
     "output_type": "stream",
     "text": [
      "Source Test Label Accuracy: 0.9992626404494382 Target Test Label Accuracy: 0.400390625\n",
      "Source Val Label Accuracy: 0.9992142857142857 Target Val Label Accuracy: 0.39798177083333336\n"
     ]
    }
   ],
   "source": [
    "print(\"Source Test Label Accuracy:\", experiment[\"results\"][\"source_test_label_accuracy\"], \"Target Test Label Accuracy:\", experiment[\"results\"][\"target_test_label_accuracy\"])\n",
    "print(\"Source Val Label Accuracy:\", experiment[\"results\"][\"source_val_label_accuracy\"], \"Target Val Label Accuracy:\", experiment[\"results\"][\"target_val_label_accuracy\"])"
   ]
  },
  {
   "cell_type": "code",
   "execution_count": 29,
   "id": "dacca602",
   "metadata": {
    "execution": {
     "iopub.execute_input": "2022-03-28T15:29:53.705468Z",
     "iopub.status.busy": "2022-03-28T15:29:53.704908Z",
     "iopub.status.idle": "2022-03-28T15:29:53.731258Z",
     "shell.execute_reply": "2022-03-28T15:29:53.731927Z"
    },
    "papermill": {
     "duration": 0.088253,
     "end_time": "2022-03-28T15:29:53.732053",
     "exception": false,
     "start_time": "2022-03-28T15:29:53.643800",
     "status": "completed"
    },
    "tags": [
     "experiment_json"
    ]
   },
   "outputs": [
    {
     "data": {
      "text/plain": [
       "'{\"experiment_name\": \"tl_3-jitter5v2:cores -> oracle.run1.framed\", \"parameters\": {\"experiment_name\": \"tl_3-jitter5v2:cores -> oracle.run1.framed\", \"device\": \"cuda\", \"lr\": 0.0001, \"x_shape\": [2, 256], \"n_shot\": 3, \"n_query\": 2, \"train_k_factor\": 3, \"val_k_factor\": 2, \"test_k_factor\": 2, \"torch_default_dtype\": \"torch.float32\", \"n_epoch\": 50, \"patience\": 3, \"criteria_for_best\": \"target_accuracy\", \"x_net\": [{\"class\": \"nnReshape\", \"kargs\": {\"shape\": [-1, 1, 2, 256]}}, {\"class\": \"Conv2d\", \"kargs\": {\"in_channels\": 1, \"out_channels\": 256, \"kernel_size\": [1, 7], \"bias\": false, \"padding\": [0, 3]}}, {\"class\": \"ReLU\", \"kargs\": {\"inplace\": true}}, {\"class\": \"BatchNorm2d\", \"kargs\": {\"num_features\": 256}}, {\"class\": \"Conv2d\", \"kargs\": {\"in_channels\": 256, \"out_channels\": 80, \"kernel_size\": [2, 7], \"bias\": true, \"padding\": [0, 3]}}, {\"class\": \"ReLU\", \"kargs\": {\"inplace\": true}}, {\"class\": \"BatchNorm2d\", \"kargs\": {\"num_features\": 80}}, {\"class\": \"Flatten\", \"kargs\": {}}, {\"class\": \"Linear\", \"kargs\": {\"in_features\": 20480, \"out_features\": 256}}, {\"class\": \"ReLU\", \"kargs\": {\"inplace\": true}}, {\"class\": \"BatchNorm1d\", \"kargs\": {\"num_features\": 256}}, {\"class\": \"Linear\", \"kargs\": {\"in_features\": 256, \"out_features\": 256}}], \"NUM_LOGS_PER_EPOCH\": 10, \"BEST_MODEL_PATH\": \"./best_model.pth\", \"n_way\": 16, \"datasets\": [{\"labels\": [\"1-10.\", \"1-11.\", \"1-15.\", \"1-16.\", \"1-17.\", \"1-18.\", \"1-19.\", \"10-4.\", \"10-7.\", \"11-1.\", \"11-14.\", \"11-17.\", \"11-20.\", \"11-7.\", \"13-20.\", \"13-8.\", \"14-10.\", \"14-11.\", \"14-14.\", \"14-7.\", \"15-1.\", \"15-20.\", \"16-1.\", \"16-16.\", \"17-10.\", \"17-11.\", \"17-2.\", \"19-1.\", \"19-16.\", \"19-19.\", \"19-20.\", \"19-3.\", \"2-10.\", \"2-11.\", \"2-17.\", \"2-18.\", \"2-20.\", \"2-3.\", \"2-4.\", \"2-5.\", \"2-6.\", \"2-7.\", \"2-8.\", \"3-13.\", \"3-18.\", \"3-3.\", \"4-1.\", \"4-10.\", \"4-11.\", \"4-19.\", \"5-5.\", \"6-15.\", \"7-10.\", \"7-14.\", \"8-18.\", \"8-20.\", \"8-3.\", \"8-8.\"], \"domains\": [1, 2, 3, 4, 5], \"num_examples_per_domain_per_label\": -1, \"pickle_path\": \"/root/csc500-main/datasets/cores.stratified_ds.2022A.pkl\", \"source_or_target_dataset\": \"source\", \"x_transforms\": [\"unit_power\", \"jitter_256_5\", \"lowpass_+/-10MHz\", \"take_200\"], \"episode_transforms\": [], \"domain_prefix\": \"C_\"}, {\"labels\": [\"3123D52\", \"3123D65\", \"3123D79\", \"3123D80\", \"3123D54\", \"3123D70\", \"3123D7B\", \"3123D89\", \"3123D58\", \"3123D76\", \"3123D7D\", \"3123EFE\", \"3123D64\", \"3123D78\", \"3123D7E\", \"3124E4A\"], \"domains\": [32, 38, 8, 44, 14, 50, 20, 26], \"num_examples_per_domain_per_label\": 2000, \"pickle_path\": \"/root/csc500-main/datasets/oracle.Run1_framed_2000Examples_stratified_ds.2022A.pkl\", \"source_or_target_dataset\": \"target\", \"x_transforms\": [\"unit_power\", \"jitter_256_5\", \"take_200\", \"resample_20Msps_to_25Msps\"], \"episode_transforms\": [], \"domain_prefix\": \"O_\"}], \"seed\": 500, \"dataset_seed\": 500, \"domains_source\": [\"C_1\", \"C_2\", \"C_3\", \"C_4\", \"C_5\"], \"domains_target\": [\"O_32\", \"O_38\", \"O_8\", \"O_44\", \"O_14\", \"O_50\", \"O_20\", \"O_26\"]}, \"results\": {\"source_test_label_accuracy\": 0.9992626404494382, \"source_test_label_loss\": 0.007649262435734272, \"target_test_label_accuracy\": 0.400390625, \"target_test_label_loss\": 1.7503260374069214, \"source_val_label_accuracy\": 0.9992142857142857, \"source_val_label_loss\": 0.005888074170798063, \"target_val_label_accuracy\": 0.39798177083333336, \"target_val_label_loss\": 1.7484461069107056, \"total_epochs_trained\": 10, \"total_experiment_time_secs\": 1638.6716601848602, \"confusion\": {\"C_4\": {\"38\": {\"38\": 40}, \"3\": {\"3\": 124}, \"24\": {\"24\": 56}, \"49\": {\"49\": 20}, \"7\": {\"7\": 24}, \"17\": {\"17\": 80}, \"43\": {\"43\": 148}, \"30\": {\"30\": 44}, \"44\": {\"44\": 132}, \"23\": {\"23\": 144}, \"37\": {\"37\": 24}, \"4\": {\"4\": 132}, \"57\": {\"57\": 100}, \"16\": {\"16\": 96}, \"18\": {\"18\": 107, \"15\": 1}, \"20\": {\"20\": 124}, \"45\": {\"45\": 96}, \"15\": {\"15\": 132}, \"52\": {\"52\": 116}, \"19\": {\"19\": 140}, \"54\": {\"54\": 108}, \"56\": {\"56\": 130}, \"40\": {\"40\": 134}, \"28\": {\"28\": 32}, \"2\": {\"2\": 36}, \"9\": {\"9\": 120}, \"0\": {\"0\": 80}, \"36\": {\"36\": 92}, \"55\": {\"55\": 130}, \"35\": {\"35\": 40}, \"39\": {\"39\": 20}, \"31\": {\"31\": 28}, \"14\": {\"14\": 16}, \"12\": {\"12\": 92}, \"6\": {\"6\": 111, \"16\": 1}, \"26\": {\"26\": 24}, \"50\": {\"50\": 131, \"3\": 1}, \"21\": {\"21\": 122}, \"46\": {\"46\": 139, \"15\": 1}, \"51\": {\"51\": 140}, \"41\": {\"41\": 36}, \"34\": {\"34\": 24}, \"47\": {\"47\": 120}, \"5\": {\"5\": 107, \"18\": 1}, \"1\": {\"1\": 40}, \"48\": {\"48\": 134}, \"29\": {\"29\": 118}, \"22\": {\"22\": 128}, \"10\": {\"10\": 132}, \"32\": {\"32\": 24}, \"13\": {\"13\": 112}, \"42\": {\"42\": 32}, \"27\": {\"27\": 138}, \"8\": {\"8\": 142}, \"33\": {\"33\": 36}, \"25\": {\"25\": 132}, \"11\": {\"11\": 104}, \"53\": {\"53\": 112}}, \"C_2\": {\"32\": {\"32\": 28}, \"17\": {\"17\": 104}, \"38\": {\"38\": 20}, \"2\": {\"2\": 32}, \"43\": {\"43\": 144}, \"56\": {\"56\": 144}, \"37\": {\"37\": 36}, \"49\": {\"49\": 24}, \"0\": {\"0\": 48}, \"29\": {\"29\": 128}, \"35\": {\"35\": 32}, \"18\": {\"18\": 48}, \"25\": {\"25\": 136}, \"23\": {\"23\": 124}, \"15\": {\"15\": 146}, \"21\": {\"21\": 120}, \"51\": {\"51\": 128}, \"20\": {\"20\": 138}, \"7\": {\"7\": 36}, \"50\": {\"50\": 136}, \"31\": {\"31\": 28}, \"30\": {\"30\": 140}, \"19\": {\"19\": 156}, \"9\": {\"9\": 144}, \"52\": {\"52\": 124}, \"45\": {\"45\": 127, \"4\": 1}, \"8\": {\"8\": 154}, \"55\": {\"55\": 160}, \"12\": {\"12\": 92}, \"40\": {\"40\": 140}, \"28\": {\"28\": 28}, \"36\": {\"36\": 116}, \"39\": {\"39\": 28}, \"46\": {\"46\": 122}, \"14\": {\"14\": 24}, \"57\": {\"57\": 142}, \"34\": {\"34\": 28}, \"1\": {\"1\": 112}, \"53\": {\"53\": 136}, \"48\": {\"48\": 130}, \"3\": {\"3\": 92}, \"16\": {\"16\": 152}, \"6\": {\"6\": 123, \"52\": 1}, \"10\": {\"10\": 112}, \"13\": {\"13\": 116}, \"26\": {\"26\": 24}, \"24\": {\"24\": 96}, \"44\": {\"44\": 100}, \"27\": {\"27\": 150}, \"22\": {\"22\": 128}, \"33\": {\"33\": 28}, \"47\": {\"47\": 118}, \"5\": {\"5\": 120}, \"4\": {\"4\": 138}, \"41\": {\"41\": 20}, \"11\": {\"11\": 150}, \"54\": {\"54\": 108}, \"42\": {\"42\": 36}}, \"C_3\": {\"5\": {\"5\": 116}, \"32\": {\"32\": 28}, \"33\": {\"33\": 28}, \"49\": {\"49\": 20}, \"39\": {\"39\": 16}, \"11\": {\"11\": 142}, \"8\": {\"8\": 116}, \"26\": {\"26\": 24}, \"51\": {\"51\": 122}, \"4\": {\"4\": 146}, \"52\": {\"52\": 118}, \"47\": {\"47\": 92}, \"17\": {\"17\": 107, \"24\": 1}, \"53\": {\"53\": 136}, \"2\": {\"2\": 32}, \"12\": {\"12\": 92}, \"37\": {\"37\": 28}, \"9\": {\"9\": 148}, \"13\": {\"13\": 128}, \"54\": {\"54\": 100}, \"31\": {\"31\": 28}, \"34\": {\"34\": 32}, \"24\": {\"24\": 104}, \"7\": {\"7\": 36}, \"50\": {\"50\": 115, \"53\": 1, \"52\": 2}, \"46\": {\"46\": 128}, \"44\": {\"44\": 87, \"29\": 1}, \"40\": {\"40\": 116}, \"21\": {\"21\": 128}, \"45\": {\"45\": 59, \"17\": 1}, \"16\": {\"16\": 126}, \"14\": {\"14\": 40}, \"36\": {\"36\": 100}, \"56\": {\"56\": 114}, \"10\": {\"10\": 64}, \"18\": {\"18\": 84}, \"48\": {\"48\": 116}, \"38\": {\"38\": 28}, \"27\": {\"27\": 130}, \"42\": {\"42\": 28}, \"15\": {\"15\": 134}, \"1\": {\"1\": 100}, \"28\": {\"28\": 28}, \"43\": {\"43\": 136}, \"0\": {\"0\": 124}, \"57\": {\"57\": 124}, \"3\": {\"3\": 148}, \"29\": {\"29\": 124}, \"41\": {\"41\": 28}, \"25\": {\"25\": 146}, \"6\": {\"6\": 87, \"26\": 1}, \"35\": {\"35\": 28}, \"20\": {\"20\": 126}, \"23\": {\"23\": 134}, \"22\": {\"22\": 140}, \"19\": {\"19\": 116}, \"55\": {\"55\": 124}, \"30\": {\"30\": 120}}, \"C_1\": {\"24\": {\"24\": 108}, \"25\": {\"25\": 140}, \"45\": {\"45\": 144}, \"42\": {\"42\": 40}, \"2\": {\"2\": 36}, \"9\": {\"9\": 150}, \"21\": {\"21\": 124}, \"26\": {\"26\": 24}, \"49\": {\"49\": 32}, \"39\": {\"39\": 28}, \"46\": {\"46\": 136}, \"17\": {\"17\": 64}, \"19\": {\"19\": 156}, \"23\": {\"23\": 132}, \"1\": {\"1\": 99, \"57\": 1}, \"29\": {\"29\": 140}, \"56\": {\"56\": 150}, \"37\": {\"37\": 32}, \"33\": {\"33\": 32}, \"55\": {\"55\": 142}, \"30\": {\"30\": 120}, \"0\": {\"0\": 152}, \"36\": {\"36\": 64}, \"32\": {\"32\": 32}, \"31\": {\"31\": 28}, \"15\": {\"15\": 138}, \"12\": {\"12\": 116}, \"38\": {\"38\": 24}, \"40\": {\"40\": 146}, \"14\": {\"14\": 23, \"30\": 1}, \"13\": {\"13\": 150}, \"48\": {\"48\": 148}, \"34\": {\"34\": 24}, \"44\": {\"44\": 130}, \"5\": {\"5\": 152}, \"11\": {\"11\": 140}, \"7\": {\"7\": 28}, \"18\": {\"18\": 72}, \"52\": {\"52\": 132}, \"51\": {\"51\": 142}, \"41\": {\"41\": 24}, \"16\": {\"16\": 140}, \"22\": {\"22\": 134}, \"3\": {\"3\": 139, \"36\": 1}, \"54\": {\"54\": 104}, \"27\": {\"27\": 144}, \"20\": {\"20\": 140}, \"8\": {\"8\": 138}, \"50\": {\"50\": 144}, \"57\": {\"57\": 140}, \"4\": {\"4\": 132}, \"47\": {\"47\": 146}, \"10\": {\"10\": 96}, \"35\": {\"35\": 36}, \"53\": {\"53\": 126}, \"6\": {\"6\": 95, \"8\": 1}, \"43\": {\"43\": 140}, \"28\": {\"28\": 28}}, \"C_5\": {\"35\": {\"35\": 36}, \"57\": {\"57\": 132}, \"20\": {\"20\": 144}, \"12\": {\"12\": 96}, \"32\": {\"32\": 32}, \"25\": {\"25\": 138}, \"44\": {\"44\": 148}, \"31\": {\"31\": 36}, \"11\": {\"11\": 150}, \"47\": {\"47\": 100}, \"23\": {\"23\": 124}, \"43\": {\"43\": 144}, \"37\": {\"37\": 24}, \"5\": {\"5\": 128}, \"45\": {\"45\": 123, \"23\": 1}, \"7\": {\"7\": 32}, \"13\": {\"13\": 136}, \"49\": {\"49\": 36}, \"46\": {\"46\": 148}, \"16\": {\"16\": 136}, \"54\": {\"54\": 112}, \"19\": {\"19\": 152}, \"55\": {\"55\": 150}, \"30\": {\"30\": 128}, \"34\": {\"34\": 36}, \"50\": {\"50\": 133, \"18\": 1}, \"3\": {\"3\": 100}, \"10\": {\"10\": 68}, \"27\": {\"27\": 142}, \"33\": {\"33\": 32}, \"56\": {\"56\": 142}, \"9\": {\"9\": 150}, \"14\": {\"14\": 43, \"46\": 1}, \"4\": {\"4\": 100}, \"42\": {\"42\": 40}, \"24\": {\"24\": 80}, \"39\": {\"39\": 20}, \"52\": {\"52\": 130}, \"2\": {\"2\": 28}, \"28\": {\"28\": 32}, \"53\": {\"53\": 122}, \"17\": {\"17\": 116}, \"29\": {\"29\": 132}, \"38\": {\"38\": 32}, \"15\": {\"15\": 144}, \"26\": {\"26\": 24}, \"21\": {\"21\": 144}, \"41\": {\"41\": 28}, \"48\": {\"48\": 136}, \"22\": {\"22\": 28}, \"8\": {\"8\": 148}, \"18\": {\"18\": 64}, \"0\": {\"0\": 122}, \"1\": {\"1\": 138}, \"40\": {\"40\": 124}, \"6\": {\"6\": 127, \"17\": 1}, \"51\": {\"51\": 142}, \"36\": {\"36\": 92}}, \"O_50\": {\"7\": {\"7\": 80, \"10\": 20, \"5\": 40, \"13\": 69, \"4\": 5, \"6\": 15, \"3\": 2, \"1\": 1, \"8\": 4, \"0\": 3, \"15\": 1}, \"10\": {\"10\": 92, \"8\": 43, \"7\": 24, \"13\": 20, \"0\": 25, \"5\": 26, \"1\": 2, \"3\": 1, \"6\": 6, \"4\": 1}, \"0\": {\"0\": 110, \"2\": 48, \"10\": 42, \"6\": 8, \"8\": 8, \"13\": 8, \"5\": 7, \"1\": 6, \"4\": 1, \"7\": 2}, \"11\": {\"9\": 42, \"11\": 118, \"5\": 1, \"15\": 26, \"14\": 30, \"1\": 14, \"12\": 5, \"4\": 2, \"0\": 1, \"6\": 1}, \"2\": {\"14\": 11, \"2\": 158, \"0\": 56, \"6\": 3, \"1\": 8, \"10\": 2, \"5\": 2}, \"14\": {\"14\": 121, \"12\": 41, \"9\": 20, \"11\": 43, \"1\": 4, \"15\": 5, \"4\": 1, \"2\": 4, \"0\": 1}, \"9\": {\"11\": 49, \"9\": 112, \"12\": 52, \"14\": 24, \"1\": 2, \"15\": 1}, \"13\": {\"13\": 62, \"7\": 59, \"10\": 25, \"6\": 21, \"8\": 4, \"5\": 39, \"0\": 5, \"4\": 16, \"1\": 6, \"15\": 3}, \"8\": {\"8\": 161, \"3\": 29, \"10\": 33, \"13\": 4, \"0\": 9, \"7\": 1, \"5\": 3}, \"15\": {\"1\": 33, \"15\": 104, \"4\": 33, \"6\": 39, \"11\": 25, \"14\": 2, \"2\": 1, \"13\": 1, \"5\": 1, \"9\": 1}, \"4\": {\"4\": 54, \"15\": 39, \"1\": 45, \"6\": 25, \"5\": 33, \"0\": 5, \"13\": 16, \"7\": 16, \"2\": 1, \"10\": 2, \"14\": 1, \"11\": 2, \"9\": 1}, \"5\": {\"4\": 19, \"3\": 1, \"0\": 10, \"5\": 61, \"7\": 47, \"13\": 52, \"6\": 14, \"10\": 18, \"1\": 11, \"2\": 1, \"15\": 4, \"8\": 2}, \"3\": {\"3\": 206, \"8\": 31, \"7\": 2, \"10\": 1}, \"1\": {\"1\": 71, \"15\": 65, \"4\": 32, \"0\": 4, \"6\": 32, \"5\": 7, \"14\": 4, \"13\": 5, \"11\": 12, \"7\": 1, \"9\": 1, \"2\": 4, \"10\": 2}, \"6\": {\"1\": 35, \"7\": 16, \"5\": 16, \"6\": 74, \"15\": 21, \"0\": 9, \"13\": 34, \"4\": 27, \"10\": 5, \"11\": 1, \"2\": 2}, \"12\": {\"12\": 152, \"11\": 11, \"14\": 38, \"9\": 39}}, \"O_14\": {\"14\": {\"4\": 7, \"0\": 21, \"14\": 85, \"3\": 23, \"6\": 35, \"10\": 11, \"2\": 30, \"13\": 25, \"5\": 2, \"11\": 1}, \"6\": {\"3\": 8, \"13\": 61, \"6\": 89, \"2\": 32, \"14\": 35, \"4\": 7, \"15\": 2, \"5\": 3, \"10\": 2, \"0\": 1}, \"5\": {\"15\": 10, \"5\": 65, \"1\": 41, \"14\": 2, \"2\": 30, \"8\": 6, \"4\": 48, \"3\": 20, \"7\": 8, \"13\": 3, \"6\": 5, \"0\": 2}, \"15\": {\"15\": 136, \"7\": 77, \"5\": 13, \"1\": 6, \"4\": 5, \"13\": 1, \"2\": 2}, \"11\": {\"11\": 149, \"10\": 13, \"0\": 38, \"9\": 31, \"3\": 1, \"12\": 8}, \"8\": {\"1\": 24, \"8\": 189, \"5\": 6, \"10\": 1, \"9\": 6, \"3\": 6, \"2\": 3, \"0\": 1, \"4\": 4}, \"12\": {\"12\": 198, \"9\": 32, \"11\": 10}, \"1\": {\"5\": 61, \"7\": 15, \"1\": 120, \"4\": 23, \"15\": 6, \"3\": 6, \"8\": 6, \"2\": 2, \"6\": 1}, \"2\": {\"2\": 51, \"13\": 38, \"15\": 6, \"5\": 23, \"6\": 34, \"3\": 29, \"14\": 21, \"4\": 25, \"0\": 4, \"1\": 6, \"7\": 2, \"10\": 1}, \"13\": {\"0\": 4, \"13\": 59, \"14\": 50, \"6\": 68, \"2\": 26, \"4\": 9, \"3\": 6, \"15\": 5, \"10\": 6, \"5\": 6, \"1\": 1}, \"3\": {\"3\": 77, \"1\": 10, \"0\": 17, \"5\": 19, \"8\": 6, \"4\": 48, \"14\": 17, \"10\": 9, \"13\": 11, \"2\": 20, \"6\": 6}, \"0\": {\"0\": 93, \"9\": 24, \"10\": 44, \"11\": 38, \"14\": 17, \"2\": 1, \"3\": 15, \"6\": 1, \"4\": 2, \"8\": 2, \"13\": 2, \"1\": 1}, \"9\": {\"9\": 154, \"12\": 40, \"11\": 27, \"10\": 5, \"0\": 12, \"8\": 1, \"4\": 1}, \"4\": {\"5\": 42, \"3\": 49, \"4\": 65, \"6\": 14, \"2\": 27, \"1\": 20, \"14\": 5, \"13\": 5, \"0\": 5, \"10\": 6, \"8\": 1, \"7\": 1}, \"7\": {\"7\": 142, \"15\": 69, \"1\": 20, \"5\": 8, \"2\": 1}, \"10\": {\"0\": 57, \"10\": 129, \"14\": 9, \"3\": 15, \"11\": 13, \"13\": 4, \"6\": 3, \"9\": 5, \"4\": 3, \"2\": 2}}, \"O_32\": {\"4\": {\"4\": 58, \"5\": 21, \"13\": 24, \"2\": 67, \"0\": 32, \"7\": 23, \"8\": 6, \"14\": 6, \"11\": 3}, \"14\": {\"13\": 24, \"3\": 12, \"4\": 7, \"11\": 64, \"14\": 58, \"2\": 7, \"7\": 40, \"8\": 8, \"0\": 14, \"5\": 6}, \"5\": {\"3\": 27, \"8\": 18, \"4\": 27, \"7\": 31, \"0\": 9, \"14\": 15, \"13\": 47, \"5\": 42, \"11\": 8, \"2\": 16}, \"10\": {\"10\": 185, \"1\": 54, \"6\": 1}, \"13\": {\"8\": 36, \"5\": 35, \"3\": 22, \"2\": 5, \"14\": 15, \"4\": 29, \"13\": 46, \"7\": 28, \"0\": 13, \"11\": 11}, \"9\": {\"9\": 225, \"12\": 8, \"6\": 1, \"4\": 1, \"2\": 2, \"8\": 1, \"0\": 2}, \"6\": {\"6\": 229, \"12\": 8, \"10\": 3}, \"3\": {\"3\": 125, \"8\": 22, \"13\": 27, \"11\": 19, \"14\": 10, \"7\": 11, \"15\": 1, \"5\": 21, \"0\": 1, \"4\": 3}, \"15\": {\"15\": 220, \"8\": 12, \"0\": 3, \"3\": 4, \"5\": 1}, \"7\": {\"5\": 22, \"7\": 49, \"14\": 33, \"4\": 26, \"13\": 26, \"8\": 9, \"2\": 17, \"11\": 36, \"0\": 16, \"3\": 6}, \"12\": {\"12\": 214, \"6\": 13, \"9\": 13}, \"8\": {\"13\": 24, \"14\": 7, \"5\": 22, \"8\": 84, \"0\": 38, \"11\": 6, \"2\": 8, \"3\": 20, \"7\": 6, \"4\": 19, \"15\": 6}, \"11\": {\"7\": 27, \"11\": 111, \"14\": 75, \"13\": 3, \"2\": 2, \"3\": 14, \"5\": 3, \"8\": 2, \"4\": 3}, \"2\": {\"8\": 3, \"2\": 105, \"4\": 57, \"0\": 33, \"14\": 7, \"5\": 8, \"7\": 17, \"13\": 9, \"11\": 1}, \"1\": {\"1\": 199, \"10\": 40, \"6\": 1}, \"0\": {\"0\": 87, \"5\": 8, \"7\": 18, \"4\": 25, \"2\": 35, \"8\": 30, \"13\": 14, \"11\": 8, \"14\": 13, \"3\": 2}}, \"O_44\": {\"8\": {\"8\": 93, \"0\": 80, \"15\": 32, \"5\": 28, \"14\": 5, \"4\": 2}, \"11\": {\"11\": 155, \"6\": 35, \"13\": 33, \"7\": 6, \"9\": 9, \"4\": 1, \"14\": 1}, \"14\": {\"5\": 25, \"0\": 15, \"4\": 70, \"8\": 9, \"14\": 84, \"13\": 5, \"15\": 29, \"9\": 2, \"11\": 1}, \"10\": {\"2\": 31, \"1\": 46, \"10\": 105, \"3\": 13, \"12\": 39, \"7\": 5, \"9\": 1}, \"3\": {\"12\": 25, \"3\": 140, \"1\": 55, \"2\": 9, \"7\": 5, \"10\": 6}, \"15\": {\"15\": 101, \"8\": 28, \"0\": 44, \"4\": 21, \"5\": 15, \"14\": 31}, \"2\": {\"10\": 36, \"2\": 93, \"9\": 14, \"7\": 62, \"3\": 6, \"12\": 5, \"1\": 17, \"6\": 6, \"13\": 1}, \"12\": {\"3\": 23, \"12\": 101, \"1\": 73, \"10\": 37, \"2\": 5, \"7\": 1}, \"4\": {\"4\": 105, \"14\": 74, \"5\": 16, \"15\": 27, \"9\": 5, \"0\": 5, \"8\": 2, \"13\": 3, \"11\": 2, \"7\": 1}, \"1\": {\"3\": 40, \"12\": 51, \"1\": 81, \"10\": 37, \"2\": 21, \"9\": 1, \"7\": 9}, \"0\": {\"0\": 79, \"8\": 66, \"15\": 36, \"14\": 10, \"5\": 48, \"4\": 1}, \"9\": {\"13\": 39, \"9\": 73, \"3\": 1, \"7\": 63, \"4\": 3, \"11\": 4, \"6\": 32, \"2\": 19, \"10\": 3, \"1\": 2, \"14\": 1}, \"5\": {\"5\": 121, \"0\": 37, \"4\": 15, \"8\": 29, \"14\": 30, \"15\": 8}, \"6\": {\"6\": 113, \"7\": 19, \"13\": 55, \"9\": 29, \"11\": 21, \"2\": 3}, \"7\": {\"9\": 43, \"2\": 66, \"10\": 10, \"7\": 82, \"1\": 10, \"6\": 10, \"13\": 10, \"3\": 6, \"11\": 2, \"12\": 1}, \"13\": {\"13\": 92, \"11\": 32, \"6\": 59, \"14\": 7, \"7\": 9, \"2\": 3, \"9\": 30, \"4\": 7, \"5\": 1}}, \"O_8\": {\"13\": {\"7\": 29, \"13\": 47, \"0\": 38, \"10\": 30, \"4\": 26, \"11\": 1, \"14\": 15, \"8\": 3, \"5\": 11, \"6\": 33, \"9\": 2, \"2\": 1, \"1\": 3, \"15\": 1}, \"3\": {\"15\": 19, \"12\": 32, \"2\": 90, \"3\": 90, \"7\": 5, \"6\": 1, \"4\": 1, \"13\": 1, \"0\": 1}, \"15\": {\"12\": 56, \"8\": 37, \"0\": 6, \"15\": 61, \"7\": 22, \"4\": 7, \"2\": 19, \"3\": 10, \"6\": 9, \"10\": 3, \"14\": 5, \"1\": 3, \"13\": 2}, \"4\": {\"13\": 34, \"6\": 34, \"4\": 36, \"10\": 32, \"14\": 25, \"0\": 20, \"11\": 4, \"8\": 10, \"7\": 23, \"1\": 8, \"5\": 5, \"2\": 1, \"12\": 2, \"15\": 6}, \"7\": {\"4\": 11, \"7\": 48, \"15\": 26, \"14\": 14, \"8\": 4, \"6\": 36, \"11\": 2, \"0\": 46, \"2\": 13, \"3\": 7, \"13\": 18, \"12\": 10, \"10\": 5}, \"2\": {\"12\": 23, \"3\": 64, \"2\": 106, \"7\": 23, \"15\": 11, \"0\": 6, \"13\": 1, \"6\": 5, \"10\": 1}, \"1\": {\"5\": 29, \"1\": 81, \"11\": 61, \"6\": 3, \"14\": 27, \"12\": 1, \"10\": 10, \"4\": 8, \"0\": 1, \"8\": 15, \"13\": 4}, \"0\": {\"2\": 3, \"7\": 40, \"8\": 2, \"4\": 31, \"14\": 16, \"0\": 51, \"13\": 31, \"6\": 44, \"15\": 3, \"3\": 2, \"5\": 2, \"10\": 15}, \"12\": {\"12\": 84, \"15\": 59, \"2\": 24, \"0\": 4, \"3\": 37, \"6\": 7, \"8\": 15, \"4\": 1, \"11\": 1, \"7\": 7, \"14\": 1}, \"6\": {\"6\": 49, \"8\": 22, \"14\": 16, \"0\": 39, \"7\": 29, \"15\": 18, \"4\": 20, \"13\": 22, \"10\": 14, \"2\": 4, \"11\": 2, \"12\": 3, \"5\": 1, \"1\": 1}, \"11\": {\"11\": 101, \"1\": 66, \"6\": 3, \"5\": 30, \"14\": 12, \"8\": 21, \"4\": 5, \"10\": 2}, \"9\": {\"9\": 233, \"5\": 4, \"4\": 1, \"13\": 2}, \"5\": {\"5\": 98, \"1\": 47, \"10\": 33, \"11\": 19, \"6\": 1, \"14\": 21, \"13\": 7, \"4\": 9, \"0\": 3, \"9\": 2}, \"10\": {\"0\": 13, \"10\": 58, \"4\": 31, \"11\": 2, \"13\": 35, \"6\": 11, \"14\": 34, \"5\": 31, \"8\": 8, \"7\": 7, \"1\": 8, \"3\": 2}, \"14\": {\"5\": 31, \"6\": 19, \"7\": 7, \"10\": 44, \"4\": 33, \"14\": 32, \"8\": 7, \"1\": 26, \"11\": 12, \"13\": 22, \"0\": 7}, \"8\": {\"8\": 85, \"11\": 13, \"15\": 32, \"12\": 16, \"14\": 15, \"1\": 16, \"6\": 26, \"4\": 11, \"13\": 3, \"7\": 13, \"0\": 5, \"3\": 1, \"10\": 2, \"5\": 2}}, \"O_20\": {\"6\": {\"6\": 79, \"14\": 59, \"4\": 8, \"7\": 26, \"2\": 9, \"8\": 19, \"3\": 5, \"10\": 16, \"9\": 7, \"12\": 1, \"11\": 7, \"13\": 2, \"5\": 2}, \"11\": {\"11\": 187, \"6\": 14, \"7\": 11, \"2\": 10, \"9\": 5, \"13\": 10, \"10\": 1, \"1\": 1, \"5\": 1}, \"5\": {\"5\": 32, \"2\": 15, \"8\": 14, \"13\": 11, \"10\": 6, \"3\": 15, \"7\": 8, \"1\": 30, \"15\": 29, \"0\": 32, \"12\": 22, \"6\": 2, \"14\": 1, \"4\": 15, \"9\": 8}, \"14\": {\"6\": 51, \"14\": 80, \"10\": 30, \"4\": 22, \"8\": 31, \"2\": 4, \"7\": 13, \"3\": 5, \"9\": 2, \"5\": 1, \"0\": 1}, \"2\": {\"2\": 31, \"7\": 27, \"12\": 26, \"8\": 3, \"11\": 9, \"13\": 30, \"9\": 26, \"1\": 11, \"0\": 6, \"14\": 2, \"10\": 6, \"3\": 27, \"6\": 10, \"15\": 13, \"5\": 8, \"4\": 5}, \"7\": {\"2\": 35, \"3\": 24, \"9\": 19, \"8\": 11, \"10\": 15, \"11\": 13, \"13\": 11, \"15\": 5, \"7\": 32, \"5\": 8, \"6\": 28, \"12\": 19, \"14\": 8, \"1\": 10, \"0\": 1, \"4\": 1}, \"3\": {\"12\": 25, \"8\": 11, \"4\": 17, \"2\": 23, \"6\": 6, \"0\": 15, \"9\": 27, \"1\": 20, \"7\": 16, \"3\": 26, \"5\": 16, \"10\": 16, \"15\": 12, \"14\": 6, \"13\": 4}, \"4\": {\"8\": 33, \"4\": 50, \"9\": 7, \"7\": 13, \"3\": 19, \"10\": 23, \"15\": 6, \"14\": 14, \"0\": 22, \"12\": 19, \"6\": 6, \"1\": 9, \"5\": 16, \"2\": 3}, \"9\": {\"13\": 22, \"6\": 6, \"2\": 25, \"10\": 9, \"9\": 34, \"11\": 3, \"5\": 13, \"15\": 16, \"7\": 19, \"4\": 8, \"1\": 25, \"12\": 26, \"3\": 23, \"14\": 2, \"0\": 6, \"8\": 3}, \"12\": {\"7\": 19, \"8\": 7, \"9\": 33, \"1\": 29, \"3\": 29, \"10\": 10, \"13\": 12, \"12\": 31, \"14\": 3, \"2\": 13, \"15\": 15, \"0\": 6, \"5\": 20, \"4\": 12, \"6\": 1}, \"0\": {\"1\": 19, \"9\": 8, \"0\": 53, \"5\": 50, \"15\": 29, \"13\": 5, \"3\": 11, \"7\": 7, \"12\": 13, \"14\": 1, \"4\": 15, \"10\": 2, \"8\": 19, \"2\": 7, \"6\": 1}, \"10\": {\"8\": 20, \"10\": 64, \"4\": 38, \"14\": 37, \"12\": 9, \"6\": 20, \"3\": 16, \"9\": 17, \"1\": 3, \"0\": 2, \"7\": 10, \"2\": 3, \"5\": 1}, \"8\": {\"14\": 28, \"15\": 3, \"3\": 11, \"6\": 29, \"8\": 50, \"12\": 8, \"2\": 5, \"7\": 17, \"5\": 14, \"4\": 33, \"0\": 14, \"9\": 5, \"1\": 2, \"10\": 20, \"13\": 1}, \"13\": {\"13\": 90, \"15\": 21, \"5\": 5, \"1\": 14, \"0\": 5, \"6\": 2, \"11\": 14, \"9\": 15, \"2\": 28, \"3\": 8, \"12\": 14, \"10\": 2, \"4\": 1, \"7\": 19, \"14\": 2}, \"1\": {\"15\": 29, \"1\": 40, \"2\": 18, \"4\": 11, \"9\": 24, \"3\": 22, \"7\": 11, \"5\": 27, \"12\": 24, \"10\": 5, \"0\": 17, \"13\": 10, \"8\": 1, \"14\": 1}, \"15\": {\"1\": 36, \"15\": 41, \"2\": 15, \"0\": 26, \"9\": 12, \"12\": 30, \"5\": 24, \"13\": 21, \"3\": 19, \"6\": 1, \"7\": 5, \"4\": 6, \"10\": 2, \"8\": 2}}, \"O_38\": {\"3\": {\"9\": 48, \"5\": 10, \"3\": 139, \"6\": 22, \"0\": 16, \"7\": 4, \"8\": 1}, \"8\": {\"8\": 59, \"15\": 21, \"0\": 42, \"10\": 20, \"1\": 12, \"7\": 28, \"5\": 39, \"13\": 13, \"9\": 1, \"6\": 4, \"2\": 1}, \"0\": {\"0\": 69, \"7\": 52, \"8\": 44, \"1\": 5, \"5\": 29, \"10\": 10, \"3\": 5, \"6\": 5, \"15\": 8, \"13\": 6, \"9\": 4, \"12\": 2, \"4\": 1}, \"2\": {\"11\": 13, \"10\": 15, \"2\": 148, \"14\": 35, \"13\": 17, \"15\": 12}, \"4\": {\"4\": 175, \"12\": 61, \"0\": 2, \"10\": 1, \"5\": 1}, \"7\": {\"5\": 37, \"8\": 27, \"0\": 47, \"7\": 108, \"6\": 6, \"13\": 2, \"15\": 2, \"9\": 4, \"10\": 6, \"12\": 1}, \"12\": {\"12\": 202, \"14\": 8, \"4\": 26, \"10\": 3, \"11\": 1}, \"6\": {\"6\": 114, \"9\": 82, \"1\": 11, \"5\": 15, \"7\": 7, \"3\": 5, \"8\": 2, \"0\": 4}, \"15\": {\"13\": 62, \"8\": 17, \"15\": 77, \"1\": 43, \"5\": 10, \"0\": 4, \"10\": 18, \"2\": 7, \"6\": 1, \"7\": 1}, \"11\": {\"14\": 99, \"11\": 100, \"10\": 7, \"2\": 21, \"4\": 3, \"12\": 7, \"15\": 2, \"13\": 1}, \"9\": {\"9\": 122, \"6\": 82, \"7\": 4, \"5\": 3, \"3\": 23, \"0\": 2, \"8\": 3, \"1\": 1}, \"14\": {\"11\": 73, \"14\": 116, \"10\": 10, \"2\": 32, \"12\": 6, \"15\": 2, \"13\": 1}, \"10\": {\"10\": 102, \"2\": 24, \"8\": 21, \"13\": 17, \"5\": 6, \"7\": 7, \"0\": 9, \"15\": 25, \"14\": 16, \"11\": 7, \"4\": 2, \"12\": 4}, \"5\": {\"0\": 28, \"1\": 22, \"7\": 22, \"8\": 39, \"15\": 16, \"6\": 22, \"5\": 66, \"10\": 9, \"9\": 5, \"13\": 8, \"3\": 3}, \"1\": {\"1\": 143, \"13\": 22, \"15\": 28, \"0\": 5, \"5\": 21, \"6\": 6, \"2\": 3, \"8\": 10, \"10\": 1, \"9\": 1}, \"13\": {\"10\": 29, \"1\": 17, \"15\": 62, \"8\": 12, \"2\": 29, \"13\": 74, \"5\": 8, \"0\": 2, \"14\": 5, \"6\": 1, \"11\": 1}}, \"O_26\": {\"5\": {\"13\": 31, \"5\": 63, \"2\": 36, \"9\": 19, \"8\": 10, \"7\": 9, \"0\": 6, \"15\": 26, \"3\": 18, \"4\": 5, \"10\": 6, \"1\": 2, \"6\": 7, \"14\": 1, \"12\": 1}, \"8\": {\"0\": 29, \"1\": 15, \"10\": 25, \"6\": 30, \"4\": 17, \"8\": 23, \"14\": 21, \"13\": 9, \"7\": 18, \"9\": 23, \"2\": 8, \"5\": 9, \"15\": 10, \"3\": 3}, \"4\": {\"4\": 27, \"10\": 29, \"9\": 12, \"7\": 24, \"8\": 29, \"0\": 27, \"3\": 10, \"12\": 2, \"1\": 27, \"14\": 29, \"15\": 4, \"5\": 4, \"6\": 11, \"2\": 3, \"13\": 2}, \"12\": {\"12\": 209, \"11\": 19, \"0\": 3, \"6\": 4, \"8\": 1, \"10\": 3, \"14\": 1}, \"6\": {\"10\": 29, \"14\": 14, \"13\": 7, \"9\": 41, \"15\": 19, \"6\": 52, \"8\": 20, \"4\": 9, \"0\": 28, \"5\": 7, \"1\": 6, \"7\": 3, \"12\": 2, \"11\": 1, \"3\": 2}, \"7\": {\"6\": 9, \"0\": 12, \"2\": 30, \"3\": 39, \"1\": 9, \"15\": 14, \"5\": 15, \"9\": 15, \"10\": 11, \"4\": 16, \"7\": 41, \"14\": 11, \"8\": 15, \"13\": 3}, \"10\": {\"3\": 6, \"4\": 19, \"10\": 37, \"15\": 11, \"6\": 21, \"8\": 20, \"1\": 33, \"14\": 30, \"0\": 27, \"9\": 18, \"5\": 3, \"7\": 6, \"2\": 4, \"12\": 4, \"13\": 1}, \"0\": {\"0\": 30, \"14\": 22, \"4\": 28, \"13\": 4, \"7\": 15, \"9\": 18, \"8\": 16, \"6\": 25, \"10\": 37, \"12\": 3, \"15\": 9, \"1\": 19, \"2\": 5, \"3\": 6, \"5\": 3}, \"15\": {\"15\": 40, \"5\": 36, \"13\": 39, \"2\": 16, \"9\": 27, \"3\": 14, \"7\": 14, \"0\": 12, \"8\": 12, \"6\": 14, \"10\": 9, \"14\": 1, \"1\": 4, \"4\": 2}, \"9\": {\"9\": 38, \"4\": 16, \"10\": 24, \"6\": 28, \"8\": 26, \"13\": 12, \"15\": 21, \"5\": 22, \"14\": 5, \"3\": 10, \"2\": 8, \"0\": 18, \"7\": 8, \"1\": 4}, \"11\": {\"12\": 22, \"11\": 215, \"15\": 1, \"13\": 1, \"9\": 1}, \"14\": {\"10\": 26, \"4\": 35, \"1\": 33, \"0\": 30, \"14\": 34, \"6\": 11, \"15\": 5, \"8\": 26, \"7\": 15, \"3\": 7, \"9\": 11, \"2\": 2, \"5\": 3, \"12\": 1, \"11\": 1}, \"2\": {\"14\": 8, \"7\": 27, \"2\": 63, \"4\": 11, \"8\": 8, \"13\": 13, \"0\": 3, \"3\": 43, \"9\": 12, \"5\": 24, \"10\": 3, \"15\": 18, \"1\": 3, \"6\": 4}, \"13\": {\"8\": 13, \"10\": 2, \"13\": 53, \"2\": 11, \"5\": 60, \"6\": 15, \"3\": 11, \"0\": 6, \"7\": 6, \"15\": 43, \"11\": 3, \"4\": 2, \"9\": 12, \"14\": 2, \"1\": 1}, \"3\": {\"7\": 35, \"2\": 63, \"0\": 5, \"9\": 14, \"3\": 58, \"5\": 13, \"8\": 8, \"14\": 2, \"15\": 14, \"13\": 12, \"10\": 5, \"4\": 8, \"1\": 2, \"6\": 1}, \"1\": {\"10\": 32, \"1\": 57, \"7\": 23, \"8\": 15, \"4\": 35, \"0\": 26, \"14\": 35, \"9\": 5, \"3\": 5, \"5\": 2, \"2\": 3, \"6\": 2}}}, \"per_domain_accuracy\": {\"C_4\": {\"accuracy\": 0.9990530303030303, \"source?\": true}, \"C_2\": {\"accuracy\": 0.9996488764044944, \"source?\": true}, \"C_3\": {\"accuracy\": 0.9986979166666666, \"source?\": true}, \"C_1\": {\"accuracy\": 0.9993243243243243, \"source?\": true}, \"C_5\": {\"accuracy\": 0.9993016759776536, \"source?\": true}, \"O_50\": {\"accuracy\": 0.45208333333333334, \"source?\": false}, \"O_14\": {\"accuracy\": 0.46901041666666665, \"source?\": false}, \"O_32\": {\"accuracy\": 0.53046875, \"source?\": false}, \"O_44\": {\"accuracy\": 0.42135416666666664, \"source?\": false}, \"O_8\": {\"accuracy\": 0.328125, \"source?\": false}, \"O_20\": {\"accuracy\": 0.23958333333333334, \"source?\": false}, \"O_38\": {\"accuracy\": 0.47239583333333335, \"source?\": false}, \"O_26\": {\"accuracy\": 0.2708333333333333, \"source?\": false}}}, \"history\": {\"epoch_indices\": [1, 2, 3, 4, 5, 6, 7, 8, 9, 10], \"train_label_loss\": [0.04366173397010485, 0.02137399291219374, 0.010865330816137338, 0.006932779990942978, 0.005979437252939839, 0.00497956730591484, 0.0034271320942663277, 0.0036160960857259494, 0.0025900071240791507, 0.0020843128553926053], \"source_val_label_loss\": [0.894109308719635, 0.010017624124884605, 0.010038696229457855, 0.007244252599775791, 0.007758349180221558, 0.005888074170798063, 0.005298958625644445, 0.004086438566446304, 0.004774253349751234, 0.004489521030336618], \"target_val_label_loss\": [1.7465711832046509, 1.7952930927276611, 1.9691931009292603, 2.104037046432495, 2.1498684883117676, 1.7484461069107056, 2.0346124172210693, 1.9068900346755981, 2.2255563735961914, 2.5124387741088867], \"source_val_acc_label\": [0.9906071428571429, 0.9978571428571429, 0.9980714285714286, 0.9981785714285715, 0.9985714285714286, 0.9992142857142857, 0.9991785714285715, 0.9993928571428572, 0.9994285714285714, 0.9993214285714286], \"target_val_acc_label\": [0.3787760416666667, 0.38671875, 0.35517578125, 0.3346354166666667, 0.32301432291666665, 0.39798177083333336, 0.3634765625, 0.3701171875, 0.35638020833333334, 0.3389973958333333]}, \"dataset_metrics\": {\"source\": {\"train\": {\"n_unique_x\": 175173, \"n_unique_y\": 58, \"n_batch/episode\": 6319}, \"val\": {\"n_unique_x\": 37166, \"n_unique_y\": 58, \"n_batch/episode\": 875}, \"test\": {\"n_unique_x\": 37642, \"n_unique_y\": 58, \"n_batch/episode\": 890}}, \"target\": {\"train\": {\"n_unique_x\": 179200, \"n_unique_y\": 16, \"n_batch/episode\": 6720}, \"val\": {\"n_unique_x\": 38400, \"n_unique_y\": 16, \"n_batch/episode\": 960}, \"test\": {\"n_unique_x\": 38400, \"n_unique_y\": 16, \"n_batch/episode\": 960}}}}'"
      ]
     },
     "execution_count": 29,
     "metadata": {},
     "output_type": "execute_result"
    }
   ],
   "source": [
    "json.dumps(experiment)"
   ]
  }
 ],
 "metadata": {
  "celltoolbar": "Tags",
  "kernelspec": {
   "display_name": "Python 3 (ipykernel)",
   "language": "python",
   "name": "python3"
  },
  "language_info": {
   "codemirror_mode": {
    "name": "ipython",
    "version": 3
   },
   "file_extension": ".py",
   "mimetype": "text/x-python",
   "name": "python",
   "nbconvert_exporter": "python",
   "pygments_lexer": "ipython3",
   "version": "3.8.12"
  },
  "papermill": {
   "default_parameters": {},
   "duration": 1807.80745,
   "end_time": "2022-03-28T15:29:57.385490",
   "environment_variables": {},
   "exception": null,
   "input_path": "/root/csc500-main/csc500-notebooks/templates/tl_ptn_template.ipynb",
   "output_path": "trial.ipynb",
   "parameters": {
    "parameters": {
     "BEST_MODEL_PATH": "./best_model.pth",
     "NUM_LOGS_PER_EPOCH": 10,
     "criteria_for_best": "target_accuracy",
     "dataset_seed": 500,
     "datasets": [
      {
       "domain_prefix": "C_",
       "domains": [
        1,
        2,
        3,
        4,
        5
       ],
       "episode_transforms": [],
       "labels": [
        "1-10.",
        "1-11.",
        "1-15.",
        "1-16.",
        "1-17.",
        "1-18.",
        "1-19.",
        "10-4.",
        "10-7.",
        "11-1.",
        "11-14.",
        "11-17.",
        "11-20.",
        "11-7.",
        "13-20.",
        "13-8.",
        "14-10.",
        "14-11.",
        "14-14.",
        "14-7.",
        "15-1.",
        "15-20.",
        "16-1.",
        "16-16.",
        "17-10.",
        "17-11.",
        "17-2.",
        "19-1.",
        "19-16.",
        "19-19.",
        "19-20.",
        "19-3.",
        "2-10.",
        "2-11.",
        "2-17.",
        "2-18.",
        "2-20.",
        "2-3.",
        "2-4.",
        "2-5.",
        "2-6.",
        "2-7.",
        "2-8.",
        "3-13.",
        "3-18.",
        "3-3.",
        "4-1.",
        "4-10.",
        "4-11.",
        "4-19.",
        "5-5.",
        "6-15.",
        "7-10.",
        "7-14.",
        "8-18.",
        "8-20.",
        "8-3.",
        "8-8."
       ],
       "num_examples_per_domain_per_label": -1,
       "pickle_path": "/root/csc500-main/datasets/cores.stratified_ds.2022A.pkl",
       "source_or_target_dataset": "source",
       "x_transforms": [
        "unit_power",
        "jitter_256_5",
        "lowpass_+/-10MHz",
        "take_200"
       ]
      },
      {
       "domain_prefix": "O_",
       "domains": [
        32,
        38,
        8,
        44,
        14,
        50,
        20,
        26
       ],
       "episode_transforms": [],
       "labels": [
        "3123D52",
        "3123D65",
        "3123D79",
        "3123D80",
        "3123D54",
        "3123D70",
        "3123D7B",
        "3123D89",
        "3123D58",
        "3123D76",
        "3123D7D",
        "3123EFE",
        "3123D64",
        "3123D78",
        "3123D7E",
        "3124E4A"
       ],
       "num_examples_per_domain_per_label": 2000,
       "pickle_path": "/root/csc500-main/datasets/oracle.Run1_framed_2000Examples_stratified_ds.2022A.pkl",
       "source_or_target_dataset": "target",
       "x_transforms": [
        "unit_power",
        "jitter_256_5",
        "take_200",
        "resample_20Msps_to_25Msps"
       ]
      }
     ],
     "device": "cuda",
     "experiment_name": "tl_3-jitter5v2:cores -> oracle.run1.framed",
     "lr": 0.0001,
     "n_epoch": 50,
     "n_query": 2,
     "n_shot": 3,
     "n_way": 16,
     "patience": 3,
     "seed": 500,
     "test_k_factor": 2,
     "torch_default_dtype": "torch.float32",
     "train_k_factor": 3,
     "val_k_factor": 2,
     "x_net": [
      {
       "class": "nnReshape",
       "kargs": {
        "shape": [
         -1,
         1,
         2,
         256
        ]
       }
      },
      {
       "class": "Conv2d",
       "kargs": {
        "bias": false,
        "in_channels": 1,
        "kernel_size": [
         1,
         7
        ],
        "out_channels": 256,
        "padding": [
         0,
         3
        ]
       }
      },
      {
       "class": "ReLU",
       "kargs": {
        "inplace": true
       }
      },
      {
       "class": "BatchNorm2d",
       "kargs": {
        "num_features": 256
       }
      },
      {
       "class": "Conv2d",
       "kargs": {
        "bias": true,
        "in_channels": 256,
        "kernel_size": [
         2,
         7
        ],
        "out_channels": 80,
        "padding": [
         0,
         3
        ]
       }
      },
      {
       "class": "ReLU",
       "kargs": {
        "inplace": true
       }
      },
      {
       "class": "BatchNorm2d",
       "kargs": {
        "num_features": 80
       }
      },
      {
       "class": "Flatten",
       "kargs": {}
      },
      {
       "class": "Linear",
       "kargs": {
        "in_features": 20480,
        "out_features": 256
       }
      },
      {
       "class": "ReLU",
       "kargs": {
        "inplace": true
       }
      },
      {
       "class": "BatchNorm1d",
       "kargs": {
        "num_features": 256
       }
      },
      {
       "class": "Linear",
       "kargs": {
        "in_features": 256,
        "out_features": 256
       }
      }
     ],
     "x_shape": [
      2,
      256
     ]
    }
   },
   "start_time": "2022-03-28T14:59:49.578040",
   "version": "2.3.4"
  }
 },
 "nbformat": 4,
 "nbformat_minor": 5
}