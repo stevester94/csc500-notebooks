{
 "cells": [
  {
   "cell_type": "markdown",
   "id": "9fea5f46",
   "metadata": {
    "papermill": {
     "duration": 0.02814,
     "end_time": "2022-03-28T05:16:59.259890",
     "exception": false,
     "start_time": "2022-03-28T05:16:59.231750",
     "status": "completed"
    },
    "tags": []
   },
   "source": [
    "# Transfer Learning Template"
   ]
  },
  {
   "cell_type": "code",
   "execution_count": 1,
   "id": "0902182a",
   "metadata": {
    "execution": {
     "iopub.execute_input": "2022-03-28T05:16:59.328121Z",
     "iopub.status.busy": "2022-03-28T05:16:59.309831Z",
     "iopub.status.idle": "2022-03-28T05:17:01.328530Z",
     "shell.execute_reply": "2022-03-28T05:17:01.327665Z"
    },
    "papermill": {
     "duration": 2.045234,
     "end_time": "2022-03-28T05:17:01.328709",
     "exception": false,
     "start_time": "2022-03-28T05:16:59.283475",
     "status": "completed"
    },
    "tags": []
   },
   "outputs": [],
   "source": [
    "%load_ext autoreload\n",
    "%autoreload 2\n",
    "%matplotlib inline\n",
    "\n",
    "    \n",
    "import os, json, sys, time, random\n",
    "import numpy as np\n",
    "import torch\n",
    "from torch.optim import Adam\n",
    "from  easydict import EasyDict\n",
    "import matplotlib.pyplot as plt\n",
    "\n",
    "from steves_models.steves_ptn import Steves_Prototypical_Network\n",
    "\n",
    "from steves_utils.lazy_iterable_wrapper import Lazy_Iterable_Wrapper\n",
    "from steves_utils.iterable_aggregator import Iterable_Aggregator\n",
    "from steves_utils.ptn_train_eval_test_jig import  PTN_Train_Eval_Test_Jig\n",
    "from steves_utils.torch_sequential_builder import build_sequential\n",
    "from steves_utils.torch_utils import get_dataset_metrics, ptn_confusion_by_domain_over_dataloader\n",
    "from steves_utils.utils_v2 import (per_domain_accuracy_from_confusion, get_datasets_base_path)\n",
    "from steves_utils.PTN.utils import independent_accuracy_assesment\n",
    "\n",
    "from torch.utils.data import DataLoader\n",
    "\n",
    "from steves_utils.stratified_dataset.episodic_accessor import Episodic_Accessor_Factory\n",
    "\n",
    "from steves_utils.ptn_do_report import (\n",
    "    get_loss_curve,\n",
    "    get_results_table,\n",
    "    get_parameters_table,\n",
    "    get_domain_accuracies,\n",
    ")\n",
    "\n",
    "from steves_utils.transforms import get_chained_transform"
   ]
  },
  {
   "cell_type": "markdown",
   "id": "41c840b4",
   "metadata": {
    "papermill": {
     "duration": 0.018754,
     "end_time": "2022-03-28T05:17:01.371602",
     "exception": false,
     "start_time": "2022-03-28T05:17:01.352848",
     "status": "completed"
    },
    "tags": []
   },
   "source": [
    "# Allowed Parameters\n",
    "These are allowed parameters, not defaults\n",
    "Each of these values need to be present in the injected parameters (the notebook will raise an exception if they are not present)\n",
    "\n",
    "Papermill uses the cell tag \"parameters\" to inject the real parameters below this cell.\n",
    "Enable tags to see what I mean"
   ]
  },
  {
   "cell_type": "code",
   "execution_count": 2,
   "id": "fd44eb83",
   "metadata": {
    "execution": {
     "iopub.execute_input": "2022-03-28T05:17:01.414237Z",
     "iopub.status.busy": "2022-03-28T05:17:01.413856Z",
     "iopub.status.idle": "2022-03-28T05:17:01.437351Z",
     "shell.execute_reply": "2022-03-28T05:17:01.436556Z"
    },
    "papermill": {
     "duration": 0.047145,
     "end_time": "2022-03-28T05:17:01.437501",
     "exception": false,
     "start_time": "2022-03-28T05:17:01.390356",
     "status": "completed"
    },
    "tags": []
   },
   "outputs": [],
   "source": [
    "required_parameters = {\n",
    "    \"experiment_name\",\n",
    "    \"lr\",\n",
    "    \"device\",\n",
    "    \"seed\",\n",
    "    \"dataset_seed\",\n",
    "    \"n_shot\",\n",
    "    \"n_query\",\n",
    "    \"n_way\",\n",
    "    \"train_k_factor\",\n",
    "    \"val_k_factor\",\n",
    "    \"test_k_factor\",\n",
    "    \"n_epoch\",\n",
    "    \"patience\",\n",
    "    \"criteria_for_best\",\n",
    "    \"x_net\",\n",
    "    \"datasets\",\n",
    "    \"torch_default_dtype\",\n",
    "    \"NUM_LOGS_PER_EPOCH\",\n",
    "    \"BEST_MODEL_PATH\",\n",
    "    \"x_shape\",\n",
    "}"
   ]
  },
  {
   "cell_type": "code",
   "execution_count": 3,
   "id": "fa3f0049",
   "metadata": {
    "execution": {
     "iopub.execute_input": "2022-03-28T05:17:01.496990Z",
     "iopub.status.busy": "2022-03-28T05:17:01.489497Z",
     "iopub.status.idle": "2022-03-28T05:17:01.516666Z",
     "shell.execute_reply": "2022-03-28T05:17:01.515858Z"
    },
    "papermill": {
     "duration": 0.054037,
     "end_time": "2022-03-28T05:17:01.516814",
     "exception": false,
     "start_time": "2022-03-28T05:17:01.462777",
     "status": "completed"
    },
    "tags": [
     "parameters"
    ]
   },
   "outputs": [],
   "source": [
    "from steves_utils.CORES.utils import (\n",
    "    ALL_NODES,\n",
    "    ALL_NODES_MINIMUM_1000_EXAMPLES,\n",
    "    ALL_DAYS\n",
    ")\n",
    "\n",
    "from steves_utils.ORACLE.utils_v2 import (\n",
    "    ALL_DISTANCES_FEET_NARROWED,\n",
    "    ALL_RUNS,\n",
    "    ALL_SERIAL_NUMBERS,\n",
    ")\n",
    "\n",
    "standalone_parameters = {}\n",
    "standalone_parameters[\"experiment_name\"] = \"STANDALONE PTN\"\n",
    "standalone_parameters[\"lr\"] = 0.001\n",
    "standalone_parameters[\"device\"] = \"cuda\"\n",
    "\n",
    "standalone_parameters[\"seed\"] = 1337\n",
    "standalone_parameters[\"dataset_seed\"] = 1337\n",
    "\n",
    "standalone_parameters[\"n_way\"] = 8\n",
    "standalone_parameters[\"n_shot\"] = 3\n",
    "standalone_parameters[\"n_query\"]  = 2\n",
    "standalone_parameters[\"train_k_factor\"] = 1\n",
    "standalone_parameters[\"val_k_factor\"] = 2\n",
    "standalone_parameters[\"test_k_factor\"] = 2\n",
    "\n",
    "\n",
    "standalone_parameters[\"n_epoch\"] = 50\n",
    "\n",
    "standalone_parameters[\"patience\"] = 10\n",
    "standalone_parameters[\"criteria_for_best\"] = \"source_loss\"\n",
    "\n",
    "standalone_parameters[\"datasets\"] = [\n",
    "    {\n",
    "        \"labels\": ALL_SERIAL_NUMBERS,\n",
    "        \"domains\": ALL_DISTANCES_FEET_NARROWED,\n",
    "        \"num_examples_per_domain_per_label\": 100,\n",
    "        \"pickle_path\": os.path.join(get_datasets_base_path(), \"oracle.Run1_framed_2000Examples_stratified_ds.2022A.pkl\"),\n",
    "        \"source_or_target_dataset\": \"source\",\n",
    "        \"x_transforms\": [\"unit_mag\", \"minus_two\"],\n",
    "        \"episode_transforms\": [],\n",
    "        \"domain_prefix\": \"ORACLE_\"\n",
    "    },\n",
    "    {\n",
    "        \"labels\": ALL_NODES,\n",
    "        \"domains\": ALL_DAYS,\n",
    "        \"num_examples_per_domain_per_label\": 100,\n",
    "        \"pickle_path\": os.path.join(get_datasets_base_path(), \"cores.stratified_ds.2022A.pkl\"),\n",
    "        \"source_or_target_dataset\": \"target\",\n",
    "        \"x_transforms\": [\"unit_power\", \"times_zero\"],\n",
    "        \"episode_transforms\": [],\n",
    "        \"domain_prefix\": \"CORES_\"\n",
    "    }   \n",
    "]\n",
    "\n",
    "standalone_parameters[\"torch_default_dtype\"] = \"torch.float32\" \n",
    "\n",
    "\n",
    "\n",
    "standalone_parameters[\"x_net\"] =     [\n",
    "    {\"class\": \"nnReshape\", \"kargs\": {\"shape\":[-1, 1, 2, 256]}},\n",
    "    {\"class\": \"Conv2d\", \"kargs\": { \"in_channels\":1, \"out_channels\":256, \"kernel_size\":(1,7), \"bias\":False, \"padding\":(0,3), },},\n",
    "    {\"class\": \"ReLU\", \"kargs\": {\"inplace\": True}},\n",
    "    {\"class\": \"BatchNorm2d\", \"kargs\": {\"num_features\":256}},\n",
    "\n",
    "    {\"class\": \"Conv2d\", \"kargs\": { \"in_channels\":256, \"out_channels\":80, \"kernel_size\":(2,7), \"bias\":True, \"padding\":(0,3), },},\n",
    "    {\"class\": \"ReLU\", \"kargs\": {\"inplace\": True}},\n",
    "    {\"class\": \"BatchNorm2d\", \"kargs\": {\"num_features\":80}},\n",
    "    {\"class\": \"Flatten\", \"kargs\": {}},\n",
    "\n",
    "    {\"class\": \"Linear\", \"kargs\": {\"in_features\": 80*256, \"out_features\": 256}}, # 80 units per IQ pair\n",
    "    {\"class\": \"ReLU\", \"kargs\": {\"inplace\": True}},\n",
    "    {\"class\": \"BatchNorm1d\", \"kargs\": {\"num_features\":256}},\n",
    "\n",
    "    {\"class\": \"Linear\", \"kargs\": {\"in_features\": 256, \"out_features\": 256}},\n",
    "]\n",
    "\n",
    "# Parameters relevant to results\n",
    "# These parameters will basically never need to change\n",
    "standalone_parameters[\"NUM_LOGS_PER_EPOCH\"] = 10\n",
    "standalone_parameters[\"BEST_MODEL_PATH\"] = \"./best_model.pth\"\n",
    "\n",
    "\n",
    "\n",
    "\n"
   ]
  },
  {
   "cell_type": "code",
   "execution_count": 4,
   "id": "2e2f0ed0",
   "metadata": {
    "execution": {
     "iopub.execute_input": "2022-03-28T05:17:01.574932Z",
     "iopub.status.busy": "2022-03-28T05:17:01.573984Z",
     "iopub.status.idle": "2022-03-28T05:17:01.593841Z",
     "shell.execute_reply": "2022-03-28T05:17:01.593052Z"
    },
    "papermill": {
     "duration": 0.053489,
     "end_time": "2022-03-28T05:17:01.593991",
     "exception": false,
     "start_time": "2022-03-28T05:17:01.540502",
     "status": "completed"
    },
    "tags": [
     "injected-parameters"
    ]
   },
   "outputs": [],
   "source": [
    "# Parameters\n",
    "parameters = {\n",
    "    \"experiment_name\": \"tl_3-jitter1v2:oracle.run1.framed -> cores\",\n",
    "    \"device\": \"cuda\",\n",
    "    \"lr\": 0.0001,\n",
    "    \"x_shape\": [2, 256],\n",
    "    \"n_shot\": 3,\n",
    "    \"n_query\": 2,\n",
    "    \"train_k_factor\": 3,\n",
    "    \"val_k_factor\": 2,\n",
    "    \"test_k_factor\": 2,\n",
    "    \"torch_default_dtype\": \"torch.float32\",\n",
    "    \"n_epoch\": 50,\n",
    "    \"patience\": 3,\n",
    "    \"criteria_for_best\": \"target_accuracy\",\n",
    "    \"x_net\": [\n",
    "        {\"class\": \"nnReshape\", \"kargs\": {\"shape\": [-1, 1, 2, 256]}},\n",
    "        {\n",
    "            \"class\": \"Conv2d\",\n",
    "            \"kargs\": {\n",
    "                \"in_channels\": 1,\n",
    "                \"out_channels\": 256,\n",
    "                \"kernel_size\": [1, 7],\n",
    "                \"bias\": False,\n",
    "                \"padding\": [0, 3],\n",
    "            },\n",
    "        },\n",
    "        {\"class\": \"ReLU\", \"kargs\": {\"inplace\": True}},\n",
    "        {\"class\": \"BatchNorm2d\", \"kargs\": {\"num_features\": 256}},\n",
    "        {\n",
    "            \"class\": \"Conv2d\",\n",
    "            \"kargs\": {\n",
    "                \"in_channels\": 256,\n",
    "                \"out_channels\": 80,\n",
    "                \"kernel_size\": [2, 7],\n",
    "                \"bias\": True,\n",
    "                \"padding\": [0, 3],\n",
    "            },\n",
    "        },\n",
    "        {\"class\": \"ReLU\", \"kargs\": {\"inplace\": True}},\n",
    "        {\"class\": \"BatchNorm2d\", \"kargs\": {\"num_features\": 80}},\n",
    "        {\"class\": \"Flatten\", \"kargs\": {}},\n",
    "        {\"class\": \"Linear\", \"kargs\": {\"in_features\": 20480, \"out_features\": 256}},\n",
    "        {\"class\": \"ReLU\", \"kargs\": {\"inplace\": True}},\n",
    "        {\"class\": \"BatchNorm1d\", \"kargs\": {\"num_features\": 256}},\n",
    "        {\"class\": \"Linear\", \"kargs\": {\"in_features\": 256, \"out_features\": 256}},\n",
    "    ],\n",
    "    \"NUM_LOGS_PER_EPOCH\": 10,\n",
    "    \"BEST_MODEL_PATH\": \"./best_model.pth\",\n",
    "    \"n_way\": 16,\n",
    "    \"datasets\": [\n",
    "        {\n",
    "            \"labels\": [\n",
    "                \"1-10.\",\n",
    "                \"1-11.\",\n",
    "                \"1-15.\",\n",
    "                \"1-16.\",\n",
    "                \"1-17.\",\n",
    "                \"1-18.\",\n",
    "                \"1-19.\",\n",
    "                \"10-4.\",\n",
    "                \"10-7.\",\n",
    "                \"11-1.\",\n",
    "                \"11-14.\",\n",
    "                \"11-17.\",\n",
    "                \"11-20.\",\n",
    "                \"11-7.\",\n",
    "                \"13-20.\",\n",
    "                \"13-8.\",\n",
    "                \"14-10.\",\n",
    "                \"14-11.\",\n",
    "                \"14-14.\",\n",
    "                \"14-7.\",\n",
    "                \"15-1.\",\n",
    "                \"15-20.\",\n",
    "                \"16-1.\",\n",
    "                \"16-16.\",\n",
    "                \"17-10.\",\n",
    "                \"17-11.\",\n",
    "                \"17-2.\",\n",
    "                \"19-1.\",\n",
    "                \"19-16.\",\n",
    "                \"19-19.\",\n",
    "                \"19-20.\",\n",
    "                \"19-3.\",\n",
    "                \"2-10.\",\n",
    "                \"2-11.\",\n",
    "                \"2-17.\",\n",
    "                \"2-18.\",\n",
    "                \"2-20.\",\n",
    "                \"2-3.\",\n",
    "                \"2-4.\",\n",
    "                \"2-5.\",\n",
    "                \"2-6.\",\n",
    "                \"2-7.\",\n",
    "                \"2-8.\",\n",
    "                \"3-13.\",\n",
    "                \"3-18.\",\n",
    "                \"3-3.\",\n",
    "                \"4-1.\",\n",
    "                \"4-10.\",\n",
    "                \"4-11.\",\n",
    "                \"4-19.\",\n",
    "                \"5-5.\",\n",
    "                \"6-15.\",\n",
    "                \"7-10.\",\n",
    "                \"7-14.\",\n",
    "                \"8-18.\",\n",
    "                \"8-20.\",\n",
    "                \"8-3.\",\n",
    "                \"8-8.\",\n",
    "            ],\n",
    "            \"domains\": [1, 2, 3, 4, 5],\n",
    "            \"num_examples_per_domain_per_label\": -1,\n",
    "            \"pickle_path\": \"/root/csc500-main/datasets/cores.stratified_ds.2022A.pkl\",\n",
    "            \"source_or_target_dataset\": \"target\",\n",
    "            \"x_transforms\": [\n",
    "                \"unit_mag\",\n",
    "                \"jitter_256_1\",\n",
    "                \"lowpass_+/-10MHz\",\n",
    "                \"take_200\",\n",
    "            ],\n",
    "            \"episode_transforms\": [],\n",
    "            \"domain_prefix\": \"C_\",\n",
    "        },\n",
    "        {\n",
    "            \"labels\": [\n",
    "                \"3123D52\",\n",
    "                \"3123D65\",\n",
    "                \"3123D79\",\n",
    "                \"3123D80\",\n",
    "                \"3123D54\",\n",
    "                \"3123D70\",\n",
    "                \"3123D7B\",\n",
    "                \"3123D89\",\n",
    "                \"3123D58\",\n",
    "                \"3123D76\",\n",
    "                \"3123D7D\",\n",
    "                \"3123EFE\",\n",
    "                \"3123D64\",\n",
    "                \"3123D78\",\n",
    "                \"3123D7E\",\n",
    "                \"3124E4A\",\n",
    "            ],\n",
    "            \"domains\": [32, 38, 8, 44, 14, 50, 20, 26],\n",
    "            \"num_examples_per_domain_per_label\": 2000,\n",
    "            \"pickle_path\": \"/root/csc500-main/datasets/oracle.Run1_framed_2000Examples_stratified_ds.2022A.pkl\",\n",
    "            \"source_or_target_dataset\": \"source\",\n",
    "            \"x_transforms\": [\n",
    "                \"unit_mag\",\n",
    "                \"jitter_256_1\",\n",
    "                \"take_200\",\n",
    "                \"resample_20Msps_to_25Msps\",\n",
    "            ],\n",
    "            \"episode_transforms\": [],\n",
    "            \"domain_prefix\": \"O_\",\n",
    "        },\n",
    "    ],\n",
    "    \"seed\": 7,\n",
    "    \"dataset_seed\": 7,\n",
    "}\n"
   ]
  },
  {
   "cell_type": "code",
   "execution_count": 5,
   "id": "8fa1cc33",
   "metadata": {
    "execution": {
     "iopub.execute_input": "2022-03-28T05:17:01.643464Z",
     "iopub.status.busy": "2022-03-28T05:17:01.643096Z",
     "iopub.status.idle": "2022-03-28T05:17:01.663771Z",
     "shell.execute_reply": "2022-03-28T05:17:01.662978Z"
    },
    "papermill": {
     "duration": 0.044875,
     "end_time": "2022-03-28T05:17:01.663925",
     "exception": false,
     "start_time": "2022-03-28T05:17:01.619050",
     "status": "completed"
    },
    "tags": []
   },
   "outputs": [],
   "source": [
    "# Set this to True if you want to run this template directly\n",
    "STANDALONE = False\n",
    "if STANDALONE:\n",
    "    print(\"parameters not injected, running with standalone_parameters\")\n",
    "    parameters = standalone_parameters\n",
    "\n",
    "if not 'parameters' in locals() and not 'parameters' in globals():\n",
    "    raise Exception(\"Parameter injection failed\")\n",
    "\n",
    "#Use an easy dict for all the parameters\n",
    "p = EasyDict(parameters)\n",
    "\n",
    "if \"x_shape\" not in p:\n",
    "    p.x_shape = [2,256] # Default to this if we dont supply x_shape\n",
    "\n",
    "\n",
    "supplied_keys = set(p.keys())\n",
    "\n",
    "if  supplied_keys != required_parameters:\n",
    "    print(\"Parameters are incorrect\")\n",
    "    if len(supplied_keys - required_parameters)>0: print(\"Shouldn't have:\", str(supplied_keys - required_parameters))\n",
    "    if len(required_parameters - supplied_keys)>0: print(\"Need to have:\", str(required_parameters - supplied_keys))\n",
    "    raise RuntimeError(\"Parameters are incorrect\")"
   ]
  },
  {
   "cell_type": "code",
   "execution_count": 6,
   "id": "3a028d58",
   "metadata": {
    "execution": {
     "iopub.execute_input": "2022-03-28T05:17:01.713825Z",
     "iopub.status.busy": "2022-03-28T05:17:01.713459Z",
     "iopub.status.idle": "2022-03-28T05:17:01.731374Z",
     "shell.execute_reply": "2022-03-28T05:17:01.730589Z"
    },
    "papermill": {
     "duration": 0.039576,
     "end_time": "2022-03-28T05:17:01.731524",
     "exception": false,
     "start_time": "2022-03-28T05:17:01.691948",
     "status": "completed"
    },
    "tags": []
   },
   "outputs": [],
   "source": [
    "###################################\n",
    "# Set the RNGs and make it all deterministic\n",
    "###################################\n",
    "np.random.seed(p.seed)\n",
    "random.seed(p.seed)\n",
    "torch.manual_seed(p.seed)\n",
    "\n",
    "torch.use_deterministic_algorithms(True) "
   ]
  },
  {
   "cell_type": "code",
   "execution_count": 7,
   "id": "b691acf6",
   "metadata": {
    "execution": {
     "iopub.execute_input": "2022-03-28T05:17:01.781251Z",
     "iopub.status.busy": "2022-03-28T05:17:01.780231Z",
     "iopub.status.idle": "2022-03-28T05:17:01.802512Z",
     "shell.execute_reply": "2022-03-28T05:17:01.801724Z"
    },
    "papermill": {
     "duration": 0.044628,
     "end_time": "2022-03-28T05:17:01.802662",
     "exception": false,
     "start_time": "2022-03-28T05:17:01.758034",
     "status": "completed"
    },
    "tags": []
   },
   "outputs": [],
   "source": [
    "###########################################\n",
    "# The stratified datasets honor this\n",
    "###########################################\n",
    "torch.set_default_dtype(eval(p.torch_default_dtype))"
   ]
  },
  {
   "cell_type": "code",
   "execution_count": 8,
   "id": "b5fba671",
   "metadata": {
    "execution": {
     "iopub.execute_input": "2022-03-28T05:17:01.852943Z",
     "iopub.status.busy": "2022-03-28T05:17:01.851804Z",
     "iopub.status.idle": "2022-03-28T05:17:01.907570Z",
     "shell.execute_reply": "2022-03-28T05:17:01.906861Z"
    },
    "papermill": {
     "duration": 0.077969,
     "end_time": "2022-03-28T05:17:01.907719",
     "exception": false,
     "start_time": "2022-03-28T05:17:01.829750",
     "status": "completed"
    },
    "tags": []
   },
   "outputs": [],
   "source": [
    "###################################\n",
    "# Build the network(s)\n",
    "# Note: It's critical to do this AFTER setting the RNG\n",
    "###################################\n",
    "x_net = build_sequential(p.x_net)"
   ]
  },
  {
   "cell_type": "code",
   "execution_count": 9,
   "id": "5d7e61cc",
   "metadata": {
    "execution": {
     "iopub.execute_input": "2022-03-28T05:17:01.955544Z",
     "iopub.status.busy": "2022-03-28T05:17:01.955094Z",
     "iopub.status.idle": "2022-03-28T05:17:01.982597Z",
     "shell.execute_reply": "2022-03-28T05:17:01.981810Z"
    },
    "papermill": {
     "duration": 0.050629,
     "end_time": "2022-03-28T05:17:01.982745",
     "exception": false,
     "start_time": "2022-03-28T05:17:01.932116",
     "status": "completed"
    },
    "tags": []
   },
   "outputs": [],
   "source": [
    "start_time_secs = time.time()"
   ]
  },
  {
   "cell_type": "code",
   "execution_count": 10,
   "id": "c6b67dfd",
   "metadata": {
    "execution": {
     "iopub.execute_input": "2022-03-28T05:17:02.032488Z",
     "iopub.status.busy": "2022-03-28T05:17:02.030889Z",
     "iopub.status.idle": "2022-03-28T05:17:02.051455Z",
     "shell.execute_reply": "2022-03-28T05:17:02.050665Z"
    },
    "papermill": {
     "duration": 0.043939,
     "end_time": "2022-03-28T05:17:02.051621",
     "exception": false,
     "start_time": "2022-03-28T05:17:02.007682",
     "status": "completed"
    },
    "tags": []
   },
   "outputs": [],
   "source": [
    "p.domains_source = []\n",
    "p.domains_target = []\n",
    "\n",
    "\n",
    "train_original_source = []\n",
    "val_original_source   = []\n",
    "test_original_source  = []\n",
    "\n",
    "train_original_target = []\n",
    "val_original_target   = []\n",
    "test_original_target  = []"
   ]
  },
  {
   "cell_type": "code",
   "execution_count": 11,
   "id": "e3d9c3d3",
   "metadata": {
    "execution": {
     "iopub.execute_input": "2022-03-28T05:17:02.101524Z",
     "iopub.status.busy": "2022-03-28T05:17:02.100655Z",
     "iopub.status.idle": "2022-03-28T05:17:02.122330Z",
     "shell.execute_reply": "2022-03-28T05:17:02.121530Z"
    },
    "papermill": {
     "duration": 0.0442,
     "end_time": "2022-03-28T05:17:02.122478",
     "exception": false,
     "start_time": "2022-03-28T05:17:02.078278",
     "status": "completed"
    },
    "tags": []
   },
   "outputs": [],
   "source": [
    "# global_x_transform_func = lambda x: normalize(x.to(torch.get_default_dtype()), \"unit_power\") # unit_power, unit_mag\n",
    "# global_x_transform_func = lambda x: normalize(x, \"unit_power\") # unit_power, unit_mag"
   ]
  },
  {
   "cell_type": "code",
   "execution_count": 12,
   "id": "acb78fd2",
   "metadata": {
    "execution": {
     "iopub.execute_input": "2022-03-28T05:17:02.181888Z",
     "iopub.status.busy": "2022-03-28T05:17:02.181040Z",
     "iopub.status.idle": "2022-03-28T05:17:02.198833Z",
     "shell.execute_reply": "2022-03-28T05:17:02.198038Z"
    },
    "papermill": {
     "duration": 0.051177,
     "end_time": "2022-03-28T05:17:02.198985",
     "exception": false,
     "start_time": "2022-03-28T05:17:02.147808",
     "status": "completed"
    },
    "tags": []
   },
   "outputs": [],
   "source": [
    "def add_dataset(\n",
    "    labels,\n",
    "    domains,\n",
    "    pickle_path,\n",
    "    x_transforms,\n",
    "    episode_transforms,\n",
    "    domain_prefix,\n",
    "    num_examples_per_domain_per_label,\n",
    "    source_or_target_dataset:str,\n",
    "    iterator_seed=p.seed,\n",
    "    dataset_seed=p.dataset_seed,\n",
    "    n_shot=p.n_shot,\n",
    "    n_way=p.n_way,\n",
    "    n_query=p.n_query,\n",
    "    train_val_test_k_factors=(p.train_k_factor,p.val_k_factor,p.test_k_factor),\n",
    "):\n",
    "   \n",
    "    if x_transforms == []: x_transform = None\n",
    "    else: x_transform = get_chained_transform(x_transforms)\n",
    "    \n",
    "    if episode_transforms == []: episode_transform = None\n",
    "    else: raise Exception(\"episode_transforms not implemented\")\n",
    "    \n",
    "    episode_transform = lambda tup, _prefix=domain_prefix: (_prefix + str(tup[0]), tup[1])\n",
    "\n",
    "\n",
    "    eaf = Episodic_Accessor_Factory(\n",
    "        labels=labels,\n",
    "        domains=domains,\n",
    "        num_examples_per_domain_per_label=num_examples_per_domain_per_label,\n",
    "        iterator_seed=iterator_seed,\n",
    "        dataset_seed=dataset_seed,\n",
    "        n_shot=n_shot,\n",
    "        n_way=n_way,\n",
    "        n_query=n_query,\n",
    "        train_val_test_k_factors=train_val_test_k_factors,\n",
    "        pickle_path=pickle_path,\n",
    "        x_transform_func=x_transform,\n",
    "    )\n",
    "\n",
    "    train, val, test = eaf.get_train(), eaf.get_val(), eaf.get_test()\n",
    "    train = Lazy_Iterable_Wrapper(train, episode_transform)\n",
    "    val = Lazy_Iterable_Wrapper(val, episode_transform)\n",
    "    test = Lazy_Iterable_Wrapper(test, episode_transform)\n",
    "\n",
    "    if source_or_target_dataset==\"source\":\n",
    "        train_original_source.append(train)\n",
    "        val_original_source.append(val)\n",
    "        test_original_source.append(test)\n",
    "\n",
    "        p.domains_source.extend(\n",
    "            [domain_prefix + str(u) for u in domains]\n",
    "        )\n",
    "    elif source_or_target_dataset==\"target\":\n",
    "        train_original_target.append(train)\n",
    "        val_original_target.append(val)\n",
    "        test_original_target.append(test)\n",
    "        p.domains_target.extend(\n",
    "            [domain_prefix + str(u) for u in domains]\n",
    "        )\n",
    "    else:\n",
    "        raise Exception(f\"invalid source_or_target_dataset: {source_or_target_dataset}\")\n",
    "    "
   ]
  },
  {
   "cell_type": "code",
   "execution_count": 13,
   "id": "fe266617",
   "metadata": {
    "execution": {
     "iopub.execute_input": "2022-03-28T05:17:02.250559Z",
     "iopub.status.busy": "2022-03-28T05:17:02.250195Z",
     "iopub.status.idle": "2022-03-28T05:18:53.028774Z",
     "shell.execute_reply": "2022-03-28T05:18:53.028029Z"
    },
    "papermill": {
     "duration": 110.802389,
     "end_time": "2022-03-28T05:18:53.028961",
     "exception": false,
     "start_time": "2022-03-28T05:17:02.226572",
     "status": "completed"
    },
    "tags": []
   },
   "outputs": [],
   "source": [
    "for ds in p.datasets:\n",
    "    add_dataset(**ds)"
   ]
  },
  {
   "cell_type": "code",
   "execution_count": 14,
   "id": "b90d65ac",
   "metadata": {
    "execution": {
     "iopub.execute_input": "2022-03-28T05:18:53.079781Z",
     "iopub.status.busy": "2022-03-28T05:18:53.079285Z",
     "iopub.status.idle": "2022-03-28T05:18:53.105683Z",
     "shell.execute_reply": "2022-03-28T05:18:53.104959Z"
    },
    "papermill": {
     "duration": 0.050789,
     "end_time": "2022-03-28T05:18:53.105862",
     "exception": false,
     "start_time": "2022-03-28T05:18:53.055073",
     "status": "completed"
    },
    "tags": []
   },
   "outputs": [],
   "source": [
    "# from steves_utils.CORES.utils import (\n",
    "#     ALL_NODES,\n",
    "#     ALL_NODES_MINIMUM_1000_EXAMPLES,\n",
    "#     ALL_DAYS\n",
    "# )\n",
    "\n",
    "# add_dataset(\n",
    "#     labels=ALL_NODES,\n",
    "#     domains = ALL_DAYS,\n",
    "#     num_examples_per_domain_per_label=100,\n",
    "#     pickle_path=os.path.join(get_datasets_base_path(), \"cores.stratified_ds.2022A.pkl\"),\n",
    "#     source_or_target_dataset=\"target\",\n",
    "#     x_transform_func=global_x_transform_func,\n",
    "#     domain_modifier=lambda u: f\"cores_{u}\"\n",
    "# )"
   ]
  },
  {
   "cell_type": "code",
   "execution_count": 15,
   "id": "76db484d",
   "metadata": {
    "execution": {
     "iopub.execute_input": "2022-03-28T05:18:53.167653Z",
     "iopub.status.busy": "2022-03-28T05:18:53.166813Z",
     "iopub.status.idle": "2022-03-28T05:18:53.181106Z",
     "shell.execute_reply": "2022-03-28T05:18:53.180294Z"
    },
    "papermill": {
     "duration": 0.046282,
     "end_time": "2022-03-28T05:18:53.181261",
     "exception": false,
     "start_time": "2022-03-28T05:18:53.134979",
     "status": "completed"
    },
    "tags": []
   },
   "outputs": [],
   "source": [
    "# from steves_utils.ORACLE.utils_v2 import (\n",
    "#     ALL_DISTANCES_FEET,\n",
    "#     ALL_RUNS,\n",
    "#     ALL_SERIAL_NUMBERS,\n",
    "# )\n",
    "\n",
    "\n",
    "# add_dataset(\n",
    "#     labels=ALL_SERIAL_NUMBERS,\n",
    "#     domains = list(set(ALL_DISTANCES_FEET) - {2,62}),\n",
    "#     num_examples_per_domain_per_label=100,\n",
    "#     pickle_path=os.path.join(get_datasets_base_path(), \"oracle.Run2_framed_2000Examples_stratified_ds.2022A.pkl\"),\n",
    "#     source_or_target_dataset=\"source\",\n",
    "#     x_transform_func=global_x_transform_func,\n",
    "#     domain_modifier=lambda u: f\"oracle1_{u}\"\n",
    "# )\n"
   ]
  },
  {
   "cell_type": "code",
   "execution_count": 16,
   "id": "97dea9d2",
   "metadata": {
    "execution": {
     "iopub.execute_input": "2022-03-28T05:18:53.237294Z",
     "iopub.status.busy": "2022-03-28T05:18:53.236085Z",
     "iopub.status.idle": "2022-03-28T05:18:53.258799Z",
     "shell.execute_reply": "2022-03-28T05:18:53.257987Z"
    },
    "papermill": {
     "duration": 0.048003,
     "end_time": "2022-03-28T05:18:53.258952",
     "exception": false,
     "start_time": "2022-03-28T05:18:53.210949",
     "status": "completed"
    },
    "tags": []
   },
   "outputs": [],
   "source": [
    "# from steves_utils.ORACLE.utils_v2 import (\n",
    "#     ALL_DISTANCES_FEET,\n",
    "#     ALL_RUNS,\n",
    "#     ALL_SERIAL_NUMBERS,\n",
    "# )\n",
    "\n",
    "\n",
    "# add_dataset(\n",
    "#     labels=ALL_SERIAL_NUMBERS,\n",
    "#     domains = list(set(ALL_DISTANCES_FEET) - {2,62,56}),\n",
    "#     num_examples_per_domain_per_label=100,\n",
    "#     pickle_path=os.path.join(get_datasets_base_path(), \"oracle.Run2_framed_2000Examples_stratified_ds.2022A.pkl\"),\n",
    "#     source_or_target_dataset=\"source\",\n",
    "#     x_transform_func=global_x_transform_func,\n",
    "#     domain_modifier=lambda u: f\"oracle2_{u}\"\n",
    "# )"
   ]
  },
  {
   "cell_type": "code",
   "execution_count": 17,
   "id": "6f289866",
   "metadata": {
    "execution": {
     "iopub.execute_input": "2022-03-28T05:18:53.308958Z",
     "iopub.status.busy": "2022-03-28T05:18:53.308473Z",
     "iopub.status.idle": "2022-03-28T05:18:53.327194Z",
     "shell.execute_reply": "2022-03-28T05:18:53.326373Z"
    },
    "papermill": {
     "duration": 0.042045,
     "end_time": "2022-03-28T05:18:53.327348",
     "exception": false,
     "start_time": "2022-03-28T05:18:53.285303",
     "status": "completed"
    },
    "tags": []
   },
   "outputs": [],
   "source": [
    "# add_dataset(\n",
    "#     labels=list(range(19)),\n",
    "#     domains = [0,1,2],\n",
    "#     num_examples_per_domain_per_label=100,\n",
    "#     pickle_path=os.path.join(get_datasets_base_path(), \"metehan.stratified_ds.2022A.pkl\"),\n",
    "#     source_or_target_dataset=\"target\",\n",
    "#     x_transform_func=global_x_transform_func,\n",
    "#     domain_modifier=lambda u: f\"met_{u}\"\n",
    "# )"
   ]
  },
  {
   "cell_type": "code",
   "execution_count": 18,
   "id": "86a863c3",
   "metadata": {
    "execution": {
     "iopub.execute_input": "2022-03-28T05:18:53.381554Z",
     "iopub.status.busy": "2022-03-28T05:18:53.380991Z",
     "iopub.status.idle": "2022-03-28T05:18:53.403842Z",
     "shell.execute_reply": "2022-03-28T05:18:53.402993Z"
    },
    "papermill": {
     "duration": 0.048185,
     "end_time": "2022-03-28T05:18:53.403996",
     "exception": false,
     "start_time": "2022-03-28T05:18:53.355811",
     "status": "completed"
    },
    "tags": []
   },
   "outputs": [],
   "source": [
    "# # from steves_utils.wisig.utils import (\n",
    "# #     ALL_NODES_MINIMUM_100_EXAMPLES,\n",
    "# #     ALL_NODES_MINIMUM_500_EXAMPLES,\n",
    "# #     ALL_NODES_MINIMUM_1000_EXAMPLES,\n",
    "# #     ALL_DAYS\n",
    "# # )\n",
    "\n",
    "# import steves_utils.wisig.utils as wisig\n",
    "\n",
    "\n",
    "# add_dataset(\n",
    "#     labels=wisig.ALL_NODES_MINIMUM_100_EXAMPLES,\n",
    "#     domains = wisig.ALL_DAYS,\n",
    "#     num_examples_per_domain_per_label=100,\n",
    "#     pickle_path=os.path.join(get_datasets_base_path(), \"wisig.node3-19.stratified_ds.2022A.pkl\"),\n",
    "#     source_or_target_dataset=\"target\",\n",
    "#     x_transform_func=global_x_transform_func,\n",
    "#     domain_modifier=lambda u: f\"wisig_{u}\"\n",
    "# )"
   ]
  },
  {
   "cell_type": "code",
   "execution_count": 19,
   "id": "fd5442bc",
   "metadata": {
    "execution": {
     "iopub.execute_input": "2022-03-28T05:18:53.464074Z",
     "iopub.status.busy": "2022-03-28T05:18:53.463206Z",
     "iopub.status.idle": "2022-03-28T05:18:53.483938Z",
     "shell.execute_reply": "2022-03-28T05:18:53.483109Z"
    },
    "papermill": {
     "duration": 0.052023,
     "end_time": "2022-03-28T05:18:53.484092",
     "exception": false,
     "start_time": "2022-03-28T05:18:53.432069",
     "status": "completed"
    },
    "tags": []
   },
   "outputs": [],
   "source": [
    "###################################\n",
    "# Build the dataset\n",
    "###################################\n",
    "train_original_source = Iterable_Aggregator(train_original_source, p.seed)\n",
    "val_original_source = Iterable_Aggregator(val_original_source, p.seed)\n",
    "test_original_source = Iterable_Aggregator(test_original_source, p.seed)\n",
    "\n",
    "\n",
    "train_original_target = Iterable_Aggregator(train_original_target, p.seed)\n",
    "val_original_target = Iterable_Aggregator(val_original_target, p.seed)\n",
    "test_original_target = Iterable_Aggregator(test_original_target, p.seed)\n",
    "\n",
    "# For CNN We only use X and Y. And we only train on the source.\n",
    "# Properly form the data using a transform lambda and Lazy_Iterable_Wrapper. Finally wrap them in a dataloader\n",
    "\n",
    "transform_lambda = lambda ex: ex[1] # Original is (<domain>, <episode>) so we strip down to episode only\n",
    "\n",
    "train_processed_source = Lazy_Iterable_Wrapper(train_original_source, transform_lambda)\n",
    "val_processed_source   = Lazy_Iterable_Wrapper(val_original_source, transform_lambda)\n",
    "test_processed_source  = Lazy_Iterable_Wrapper(test_original_source, transform_lambda)\n",
    "\n",
    "train_processed_target = Lazy_Iterable_Wrapper(train_original_target, transform_lambda)\n",
    "val_processed_target   = Lazy_Iterable_Wrapper(val_original_target, transform_lambda)\n",
    "test_processed_target  = Lazy_Iterable_Wrapper(test_original_target, transform_lambda)\n",
    "\n",
    "datasets = EasyDict({\n",
    "    \"source\": {\n",
    "        \"original\": {\"train\":train_original_source, \"val\":val_original_source, \"test\":test_original_source},\n",
    "        \"processed\": {\"train\":train_processed_source, \"val\":val_processed_source, \"test\":test_processed_source}\n",
    "    },\n",
    "    \"target\": {\n",
    "        \"original\": {\"train\":train_original_target, \"val\":val_original_target, \"test\":test_original_target},\n",
    "        \"processed\": {\"train\":train_processed_target, \"val\":val_processed_target, \"test\":test_processed_target}\n",
    "    },\n",
    "})"
   ]
  },
  {
   "cell_type": "code",
   "execution_count": 20,
   "id": "5b3c01fc",
   "metadata": {
    "execution": {
     "iopub.execute_input": "2022-03-28T05:18:53.540674Z",
     "iopub.status.busy": "2022-03-28T05:18:53.540187Z",
     "iopub.status.idle": "2022-03-28T05:19:07.528926Z",
     "shell.execute_reply": "2022-03-28T05:19:07.529726Z"
    },
    "papermill": {
     "duration": 14.016177,
     "end_time": "2022-03-28T05:19:07.529940",
     "exception": false,
     "start_time": "2022-03-28T05:18:53.513763",
     "status": "completed"
    },
    "tags": []
   },
   "outputs": [
    {
     "name": "stdout",
     "output_type": "stream",
     "text": [
      "{'O_38', 'O_14', 'O_20', 'O_44', 'O_8', 'O_26', 'O_50', 'O_32'}\n"
     ]
    },
    {
     "name": "stdout",
     "output_type": "stream",
     "text": [
      "{'C_1', 'C_4', 'C_2', 'C_5', 'C_3'}\n"
     ]
    },
    {
     "name": "stdout",
     "output_type": "stream",
     "text": [
      "tensor([[[0., 0., 0.,  ..., 0., 0., 0.],\n",
      "         [0., 0., 0.,  ..., 0., 0., 0.]],\n",
      "\n",
      "        [[0., 0., 0.,  ..., 0., 0., 0.],\n",
      "         [0., 0., 0.,  ..., 0., 0., 0.]],\n",
      "\n",
      "        [[0., 0., 0.,  ..., 0., 0., 0.],\n",
      "         [0., 0., 0.,  ..., 0., 0., 0.]],\n",
      "\n",
      "        ...,\n",
      "\n",
      "        [[0., 0., 0.,  ..., 0., 0., 0.],\n",
      "         [0., 0., 0.,  ..., 0., 0., 0.]],\n",
      "\n",
      "        [[0., 0., 0.,  ..., 0., 0., 0.],\n",
      "         [0., 0., 0.,  ..., 0., 0., 0.]],\n",
      "\n",
      "        [[0., 0., 0.,  ..., 0., 0., 0.],\n",
      "         [0., 0., 0.,  ..., 0., 0., 0.]]])\n"
     ]
    }
   ],
   "source": [
    "from steves_utils.transforms import get_average_magnitude, get_average_power\n",
    "\n",
    "print(set([u for u,_ in val_original_source]))\n",
    "print(set([u for u,_ in val_original_target]))\n",
    "\n",
    "s_x, s_y, q_x, q_y, _ = next(iter(train_processed_source))\n",
    "print(s_x)\n",
    "\n",
    "# for ds in [\n",
    "#     train_processed_source,\n",
    "#     val_processed_source,\n",
    "#     test_processed_source,\n",
    "#     train_processed_target,\n",
    "#     val_processed_target,\n",
    "#     test_processed_target\n",
    "# ]:\n",
    "#     for s_x, s_y, q_x, q_y, _ in ds:\n",
    "#         for X in (s_x, q_x):\n",
    "#             for x in X:\n",
    "#                 assert np.isclose(get_average_magnitude(x.numpy()), 1.0)\n",
    "#                 assert np.isclose(get_average_power(x.numpy()), 1.0)\n",
    "                "
   ]
  },
  {
   "cell_type": "code",
   "execution_count": 21,
   "id": "bbdacba1",
   "metadata": {
    "execution": {
     "iopub.execute_input": "2022-03-28T05:19:07.594113Z",
     "iopub.status.busy": "2022-03-28T05:19:07.593150Z",
     "iopub.status.idle": "2022-03-28T05:19:07.784085Z",
     "shell.execute_reply": "2022-03-28T05:19:07.783299Z"
    },
    "papermill": {
     "duration": 0.223284,
     "end_time": "2022-03-28T05:19:07.784264",
     "exception": false,
     "start_time": "2022-03-28T05:19:07.560980",
     "status": "completed"
    },
    "tags": []
   },
   "outputs": [
    {
     "name": "stdout",
     "output_type": "stream",
     "text": [
      "(2, 256)\n"
     ]
    }
   ],
   "source": [
    "###################################\n",
    "# Build the model\n",
    "###################################\n",
    "# easfsl only wants a tuple for the shape\n",
    "model = Steves_Prototypical_Network(x_net, device=p.device, x_shape=tuple(p.x_shape))\n",
    "optimizer = Adam(params=model.parameters(), lr=p.lr)"
   ]
  },
  {
   "cell_type": "code",
   "execution_count": 22,
   "id": "22b39ac5",
   "metadata": {
    "execution": {
     "iopub.execute_input": "2022-03-28T05:19:07.840793Z",
     "iopub.status.busy": "2022-03-28T05:19:07.840410Z",
     "iopub.status.idle": "2022-03-28T05:42:07.222104Z",
     "shell.execute_reply": "2022-03-28T05:42:07.221765Z"
    },
    "papermill": {
     "duration": 1379.41036,
     "end_time": "2022-03-28T05:42:07.222184",
     "exception": false,
     "start_time": "2022-03-28T05:19:07.811824",
     "status": "completed"
    },
    "tags": []
   },
   "outputs": [
    {
     "name": "stdout",
     "output_type": "stream",
     "text": [
      "epoch: 1, [batch: 1 / 6720], examples_per_second: 33.3252, train_label_loss: 2.8475, \n"
     ]
    },
    {
     "name": "stdout",
     "output_type": "stream",
     "text": [
      "epoch: 1, [batch: 672 / 6720], examples_per_second: 4192.8807, train_label_loss: 2.5465, \n"
     ]
    },
    {
     "name": "stdout",
     "output_type": "stream",
     "text": [
      "epoch: 1, [batch: 1344 / 6720], examples_per_second: 4530.8000, train_label_loss: 1.0905, \n"
     ]
    },
    {
     "name": "stdout",
     "output_type": "stream",
     "text": [
      "epoch: 1, [batch: 2016 / 6720], examples_per_second: 3944.6171, train_label_loss: 0.9944, \n"
     ]
    },
    {
     "name": "stdout",
     "output_type": "stream",
     "text": [
      "epoch: 1, [batch: 2688 / 6720], examples_per_second: 3830.9220, train_label_loss: 0.9755, \n"
     ]
    },
    {
     "name": "stdout",
     "output_type": "stream",
     "text": [
      "epoch: 1, [batch: 3360 / 6720], examples_per_second: 3845.4802, train_label_loss: 0.8122, \n"
     ]
    },
    {
     "name": "stdout",
     "output_type": "stream",
     "text": [
      "epoch: 1, [batch: 4032 / 6720], examples_per_second: 3880.7194, train_label_loss: 0.9508, \n"
     ]
    },
    {
     "name": "stdout",
     "output_type": "stream",
     "text": [
      "epoch: 1, [batch: 4704 / 6720], examples_per_second: 3910.2923, train_label_loss: 1.0882, \n"
     ]
    },
    {
     "name": "stdout",
     "output_type": "stream",
     "text": [
      "epoch: 1, [batch: 5376 / 6720], examples_per_second: 3954.5331, train_label_loss: 1.4740, \n"
     ]
    },
    {
     "name": "stdout",
     "output_type": "stream",
     "text": [
      "epoch: 1, [batch: 6048 / 6720], examples_per_second: 4104.8577, train_label_loss: 0.8656, \n"
     ]
    },
    {
     "name": "stdout",
     "output_type": "stream",
     "text": [
      "=============================================================\n",
      "epoch: 1, source_val_acc_label: 0.6213, target_val_acc_label: 0.4740, source_val_label_loss: 1.1468, target_val_label_loss: 144.9388, \n",
      "=============================================================\n"
     ]
    },
    {
     "name": "stdout",
     "output_type": "stream",
     "text": [
      "New best\n"
     ]
    },
    {
     "name": "stdout",
     "output_type": "stream",
     "text": [
      "epoch: 2, [batch: 1 / 6720], examples_per_second: 4.0405, train_label_loss: 1.6127, \n"
     ]
    },
    {
     "name": "stdout",
     "output_type": "stream",
     "text": [
      "epoch: 2, [batch: 672 / 6720], examples_per_second: 4460.1131, train_label_loss: 1.0432, \n"
     ]
    },
    {
     "name": "stdout",
     "output_type": "stream",
     "text": [
      "epoch: 2, [batch: 1344 / 6720], examples_per_second: 4555.4938, train_label_loss: 0.8976, \n"
     ]
    },
    {
     "name": "stdout",
     "output_type": "stream",
     "text": [
      "epoch: 2, [batch: 2016 / 6720], examples_per_second: 3919.7320, train_label_loss: 0.7750, \n"
     ]
    },
    {
     "name": "stdout",
     "output_type": "stream",
     "text": [
      "epoch: 2, [batch: 2688 / 6720], examples_per_second: 3853.8145, train_label_loss: 0.8653, \n"
     ]
    },
    {
     "name": "stdout",
     "output_type": "stream",
     "text": [
      "epoch: 2, [batch: 3360 / 6720], examples_per_second: 4011.7009, train_label_loss: 0.8211, \n"
     ]
    },
    {
     "name": "stdout",
     "output_type": "stream",
     "text": [
      "epoch: 2, [batch: 4032 / 6720], examples_per_second: 3907.4132, train_label_loss: 0.5429, \n"
     ]
    },
    {
     "name": "stdout",
     "output_type": "stream",
     "text": [
      "epoch: 2, [batch: 4704 / 6720], examples_per_second: 3913.6150, train_label_loss: 1.2507, \n"
     ]
    },
    {
     "name": "stdout",
     "output_type": "stream",
     "text": [
      "epoch: 2, [batch: 5376 / 6720], examples_per_second: 3886.0584, train_label_loss: 0.3786, \n"
     ]
    },
    {
     "name": "stdout",
     "output_type": "stream",
     "text": [
      "epoch: 2, [batch: 6048 / 6720], examples_per_second: 3920.2752, train_label_loss: 0.5505, \n"
     ]
    },
    {
     "name": "stdout",
     "output_type": "stream",
     "text": [
      "=============================================================\n",
      "epoch: 2, source_val_acc_label: 0.6790, target_val_acc_label: 0.6194, source_val_label_loss: 0.8661, target_val_label_loss: 70.8955, \n",
      "=============================================================\n"
     ]
    },
    {
     "name": "stdout",
     "output_type": "stream",
     "text": [
      "New best\n"
     ]
    },
    {
     "name": "stdout",
     "output_type": "stream",
     "text": [
      "epoch: 3, [batch: 1 / 6720], examples_per_second: 4.0250, train_label_loss: 0.5094, \n"
     ]
    },
    {
     "name": "stdout",
     "output_type": "stream",
     "text": [
      "epoch: 3, [batch: 672 / 6720], examples_per_second: 4231.4625, train_label_loss: 0.9963, \n"
     ]
    },
    {
     "name": "stdout",
     "output_type": "stream",
     "text": [
      "epoch: 3, [batch: 1344 / 6720], examples_per_second: 4521.6803, train_label_loss: 0.5616, \n"
     ]
    },
    {
     "name": "stdout",
     "output_type": "stream",
     "text": [
      "epoch: 3, [batch: 2016 / 6720], examples_per_second: 3884.5509, train_label_loss: 0.8408, \n"
     ]
    },
    {
     "name": "stdout",
     "output_type": "stream",
     "text": [
      "epoch: 3, [batch: 2688 / 6720], examples_per_second: 3779.4866, train_label_loss: 1.0097, \n"
     ]
    },
    {
     "name": "stdout",
     "output_type": "stream",
     "text": [
      "epoch: 3, [batch: 3360 / 6720], examples_per_second: 3758.3454, train_label_loss: 0.7908, \n"
     ]
    },
    {
     "name": "stdout",
     "output_type": "stream",
     "text": [
      "epoch: 3, [batch: 4032 / 6720], examples_per_second: 3820.2426, train_label_loss: 0.9642, \n"
     ]
    },
    {
     "name": "stdout",
     "output_type": "stream",
     "text": [
      "epoch: 3, [batch: 4704 / 6720], examples_per_second: 3800.2395, train_label_loss: 0.5094, \n"
     ]
    },
    {
     "name": "stdout",
     "output_type": "stream",
     "text": [
      "epoch: 3, [batch: 5376 / 6720], examples_per_second: 3779.5787, train_label_loss: 0.7615, \n"
     ]
    },
    {
     "name": "stdout",
     "output_type": "stream",
     "text": [
      "epoch: 3, [batch: 6048 / 6720], examples_per_second: 3844.0491, train_label_loss: 0.6863, \n"
     ]
    },
    {
     "name": "stdout",
     "output_type": "stream",
     "text": [
      "=============================================================\n",
      "epoch: 3, source_val_acc_label: 0.7213, target_val_acc_label: 0.6191, source_val_label_loss: 0.7568, target_val_label_loss: 106.2761, \n",
      "=============================================================\n"
     ]
    },
    {
     "name": "stdout",
     "output_type": "stream",
     "text": [
      "epoch: 4, [batch: 1 / 6720], examples_per_second: 3.9855, train_label_loss: 0.5814, \n"
     ]
    },
    {
     "name": "stdout",
     "output_type": "stream",
     "text": [
      "epoch: 4, [batch: 672 / 6720], examples_per_second: 4189.6872, train_label_loss: 0.4587, \n"
     ]
    },
    {
     "name": "stdout",
     "output_type": "stream",
     "text": [
      "epoch: 4, [batch: 1344 / 6720], examples_per_second: 4490.3104, train_label_loss: 0.6045, \n"
     ]
    },
    {
     "name": "stdout",
     "output_type": "stream",
     "text": [
      "epoch: 4, [batch: 2016 / 6720], examples_per_second: 3865.1341, train_label_loss: 0.5413, \n"
     ]
    },
    {
     "name": "stdout",
     "output_type": "stream",
     "text": [
      "epoch: 4, [batch: 2688 / 6720], examples_per_second: 3965.1028, train_label_loss: 0.4508, \n"
     ]
    },
    {
     "name": "stdout",
     "output_type": "stream",
     "text": [
      "epoch: 4, [batch: 3360 / 6720], examples_per_second: 3939.2454, train_label_loss: 0.5936, \n"
     ]
    },
    {
     "name": "stdout",
     "output_type": "stream",
     "text": [
      "epoch: 4, [batch: 4032 / 6720], examples_per_second: 3974.5247, train_label_loss: 0.3589, \n"
     ]
    },
    {
     "name": "stdout",
     "output_type": "stream",
     "text": [
      "epoch: 4, [batch: 4704 / 6720], examples_per_second: 3783.4587, train_label_loss: 0.8678, \n"
     ]
    },
    {
     "name": "stdout",
     "output_type": "stream",
     "text": [
      "epoch: 4, [batch: 5376 / 6720], examples_per_second: 3975.1603, train_label_loss: 0.6184, \n"
     ]
    },
    {
     "name": "stdout",
     "output_type": "stream",
     "text": [
      "epoch: 4, [batch: 6048 / 6720], examples_per_second: 4074.7083, train_label_loss: 0.7903, \n"
     ]
    },
    {
     "name": "stdout",
     "output_type": "stream",
     "text": [
      "=============================================================\n",
      "epoch: 4, source_val_acc_label: 0.7661, target_val_acc_label: 0.6421, source_val_label_loss: 0.6327, target_val_label_loss: 48.2928, \n",
      "=============================================================\n"
     ]
    },
    {
     "name": "stdout",
     "output_type": "stream",
     "text": [
      "New best\n"
     ]
    },
    {
     "name": "stdout",
     "output_type": "stream",
     "text": [
      "epoch: 5, [batch: 1 / 6720], examples_per_second: 4.0772, train_label_loss: 1.0209, \n"
     ]
    },
    {
     "name": "stdout",
     "output_type": "stream",
     "text": [
      "epoch: 5, [batch: 672 / 6720], examples_per_second: 4145.2201, train_label_loss: 0.6772, \n"
     ]
    },
    {
     "name": "stdout",
     "output_type": "stream",
     "text": [
      "epoch: 5, [batch: 1344 / 6720], examples_per_second: 4548.2844, train_label_loss: 0.4667, \n"
     ]
    },
    {
     "name": "stdout",
     "output_type": "stream",
     "text": [
      "epoch: 5, [batch: 2016 / 6720], examples_per_second: 3941.7808, train_label_loss: 0.4751, \n"
     ]
    },
    {
     "name": "stdout",
     "output_type": "stream",
     "text": [
      "epoch: 5, [batch: 2688 / 6720], examples_per_second: 3920.9978, train_label_loss: 0.3481, \n"
     ]
    },
    {
     "name": "stdout",
     "output_type": "stream",
     "text": [
      "epoch: 5, [batch: 3360 / 6720], examples_per_second: 4148.6606, train_label_loss: 0.5107, \n"
     ]
    },
    {
     "name": "stdout",
     "output_type": "stream",
     "text": [
      "epoch: 5, [batch: 4032 / 6720], examples_per_second: 4048.7409, train_label_loss: 0.6357, \n"
     ]
    },
    {
     "name": "stdout",
     "output_type": "stream",
     "text": [
      "epoch: 5, [batch: 4704 / 6720], examples_per_second: 4030.0099, train_label_loss: 0.4567, \n"
     ]
    },
    {
     "name": "stdout",
     "output_type": "stream",
     "text": [
      "epoch: 5, [batch: 5376 / 6720], examples_per_second: 4045.4587, train_label_loss: 0.4204, \n"
     ]
    },
    {
     "name": "stdout",
     "output_type": "stream",
     "text": [
      "epoch: 5, [batch: 6048 / 6720], examples_per_second: 3809.2016, train_label_loss: 0.1143, \n"
     ]
    },
    {
     "name": "stdout",
     "output_type": "stream",
     "text": [
      "=============================================================\n",
      "epoch: 5, source_val_acc_label: 0.7898, target_val_acc_label: 0.6520, source_val_label_loss: 0.5768, target_val_label_loss: 45.2048, \n",
      "=============================================================\n"
     ]
    },
    {
     "name": "stdout",
     "output_type": "stream",
     "text": [
      "New best\n"
     ]
    },
    {
     "name": "stdout",
     "output_type": "stream",
     "text": [
      "epoch: 6, [batch: 1 / 6720], examples_per_second: 3.9432, train_label_loss: 0.3125, \n"
     ]
    },
    {
     "name": "stdout",
     "output_type": "stream",
     "text": [
      "epoch: 6, [batch: 672 / 6720], examples_per_second: 4389.4400, train_label_loss: 0.4917, \n"
     ]
    },
    {
     "name": "stdout",
     "output_type": "stream",
     "text": [
      "epoch: 6, [batch: 1344 / 6720], examples_per_second: 4885.3850, train_label_loss: 0.5855, \n"
     ]
    },
    {
     "name": "stdout",
     "output_type": "stream",
     "text": [
      "epoch: 6, [batch: 2016 / 6720], examples_per_second: 4054.4475, train_label_loss: 0.5813, \n"
     ]
    },
    {
     "name": "stdout",
     "output_type": "stream",
     "text": [
      "epoch: 6, [batch: 2688 / 6720], examples_per_second: 3871.8481, train_label_loss: 0.2581, \n"
     ]
    },
    {
     "name": "stdout",
     "output_type": "stream",
     "text": [
      "epoch: 6, [batch: 3360 / 6720], examples_per_second: 3849.4291, train_label_loss: 0.5151, \n"
     ]
    },
    {
     "name": "stdout",
     "output_type": "stream",
     "text": [
      "epoch: 6, [batch: 4032 / 6720], examples_per_second: 3944.5653, train_label_loss: 0.2100, \n"
     ]
    },
    {
     "name": "stdout",
     "output_type": "stream",
     "text": [
      "epoch: 6, [batch: 4704 / 6720], examples_per_second: 3953.8503, train_label_loss: 0.6622, \n"
     ]
    },
    {
     "name": "stdout",
     "output_type": "stream",
     "text": [
      "epoch: 6, [batch: 5376 / 6720], examples_per_second: 3927.3141, train_label_loss: 0.5368, \n"
     ]
    },
    {
     "name": "stdout",
     "output_type": "stream",
     "text": [
      "epoch: 6, [batch: 6048 / 6720], examples_per_second: 3965.5952, train_label_loss: 0.4894, \n"
     ]
    },
    {
     "name": "stdout",
     "output_type": "stream",
     "text": [
      "=============================================================\n",
      "epoch: 6, source_val_acc_label: 0.7787, target_val_acc_label: 0.6252, source_val_label_loss: 0.5941, target_val_label_loss: 69.5228, \n",
      "=============================================================\n"
     ]
    },
    {
     "name": "stdout",
     "output_type": "stream",
     "text": [
      "epoch: 7, [batch: 1 / 6720], examples_per_second: 3.9944, train_label_loss: 0.4423, \n"
     ]
    },
    {
     "name": "stdout",
     "output_type": "stream",
     "text": [
      "epoch: 7, [batch: 672 / 6720], examples_per_second: 4375.8237, train_label_loss: 0.2728, \n"
     ]
    },
    {
     "name": "stdout",
     "output_type": "stream",
     "text": [
      "epoch: 7, [batch: 1344 / 6720], examples_per_second: 4768.5716, train_label_loss: 0.4655, \n"
     ]
    },
    {
     "name": "stdout",
     "output_type": "stream",
     "text": [
      "epoch: 7, [batch: 2016 / 6720], examples_per_second: 3934.9598, train_label_loss: 0.4153, \n"
     ]
    },
    {
     "name": "stdout",
     "output_type": "stream",
     "text": [
      "epoch: 7, [batch: 2688 / 6720], examples_per_second: 3897.5607, train_label_loss: 0.1073, \n"
     ]
    },
    {
     "name": "stdout",
     "output_type": "stream",
     "text": [
      "epoch: 7, [batch: 3360 / 6720], examples_per_second: 3983.5686, train_label_loss: 0.3479, \n"
     ]
    },
    {
     "name": "stdout",
     "output_type": "stream",
     "text": [
      "epoch: 7, [batch: 4032 / 6720], examples_per_second: 3985.6626, train_label_loss: 0.2913, \n"
     ]
    },
    {
     "name": "stdout",
     "output_type": "stream",
     "text": [
      "epoch: 7, [batch: 4704 / 6720], examples_per_second: 3918.6900, train_label_loss: 0.7179, \n"
     ]
    },
    {
     "name": "stdout",
     "output_type": "stream",
     "text": [
      "epoch: 7, [batch: 5376 / 6720], examples_per_second: 4074.8621, train_label_loss: 0.6219, \n"
     ]
    },
    {
     "name": "stdout",
     "output_type": "stream",
     "text": [
      "epoch: 7, [batch: 6048 / 6720], examples_per_second: 4032.5255, train_label_loss: 0.6374, \n"
     ]
    },
    {
     "name": "stdout",
     "output_type": "stream",
     "text": [
      "=============================================================\n",
      "epoch: 7, source_val_acc_label: 0.8178, target_val_acc_label: 0.6084, source_val_label_loss: 0.4995, target_val_label_loss: 85.3965, \n",
      "=============================================================\n"
     ]
    },
    {
     "name": "stdout",
     "output_type": "stream",
     "text": [
      "epoch: 8, [batch: 1 / 6720], examples_per_second: 3.9568, train_label_loss: 0.4546, \n"
     ]
    },
    {
     "name": "stdout",
     "output_type": "stream",
     "text": [
      "epoch: 8, [batch: 672 / 6720], examples_per_second: 4389.1110, train_label_loss: 0.4305, \n"
     ]
    },
    {
     "name": "stdout",
     "output_type": "stream",
     "text": [
      "epoch: 8, [batch: 1344 / 6720], examples_per_second: 4511.2776, train_label_loss: 0.2755, \n"
     ]
    },
    {
     "name": "stdout",
     "output_type": "stream",
     "text": [
      "epoch: 8, [batch: 2016 / 6720], examples_per_second: 4458.4184, train_label_loss: 1.2205, \n"
     ]
    },
    {
     "name": "stdout",
     "output_type": "stream",
     "text": [
      "epoch: 8, [batch: 2688 / 6720], examples_per_second: 4543.4589, train_label_loss: 0.7593, \n"
     ]
    },
    {
     "name": "stdout",
     "output_type": "stream",
     "text": [
      "epoch: 8, [batch: 3360 / 6720], examples_per_second: 4603.0566, train_label_loss: 0.2532, \n"
     ]
    },
    {
     "name": "stdout",
     "output_type": "stream",
     "text": [
      "epoch: 8, [batch: 4032 / 6720], examples_per_second: 4460.2530, train_label_loss: 0.3663, \n"
     ]
    },
    {
     "name": "stdout",
     "output_type": "stream",
     "text": [
      "epoch: 8, [batch: 4704 / 6720], examples_per_second: 4212.5854, train_label_loss: 0.2773, \n"
     ]
    },
    {
     "name": "stdout",
     "output_type": "stream",
     "text": [
      "epoch: 8, [batch: 5376 / 6720], examples_per_second: 4234.3126, train_label_loss: 0.6756, \n"
     ]
    },
    {
     "name": "stdout",
     "output_type": "stream",
     "text": [
      "epoch: 8, [batch: 6048 / 6720], examples_per_second: 5116.1653, train_label_loss: 0.9113, \n"
     ]
    },
    {
     "name": "stdout",
     "output_type": "stream",
     "text": [
      "=============================================================\n",
      "epoch: 8, source_val_acc_label: 0.8181, target_val_acc_label: 0.6488, source_val_label_loss: 0.4905, target_val_label_loss: 75.5701, \n",
      "=============================================================\n"
     ]
    },
    {
     "name": "stdout",
     "output_type": "stream",
     "text": [
      "epoch: 9, [batch: 1 / 6720], examples_per_second: 5.3243, train_label_loss: 0.4577, \n"
     ]
    },
    {
     "name": "stdout",
     "output_type": "stream",
     "text": [
      "epoch: 9, [batch: 672 / 6720], examples_per_second: 5030.3231, train_label_loss: 0.3277, \n"
     ]
    },
    {
     "name": "stdout",
     "output_type": "stream",
     "text": [
      "epoch: 9, [batch: 1344 / 6720], examples_per_second: 5325.0946, train_label_loss: 0.3738, \n"
     ]
    },
    {
     "name": "stdout",
     "output_type": "stream",
     "text": [
      "epoch: 9, [batch: 2016 / 6720], examples_per_second: 5346.3899, train_label_loss: 0.4480, \n"
     ]
    },
    {
     "name": "stdout",
     "output_type": "stream",
     "text": [
      "epoch: 9, [batch: 2688 / 6720], examples_per_second: 5261.6777, train_label_loss: 0.2562, \n"
     ]
    },
    {
     "name": "stdout",
     "output_type": "stream",
     "text": [
      "epoch: 9, [batch: 3360 / 6720], examples_per_second: 5047.4528, train_label_loss: 0.4028, \n"
     ]
    },
    {
     "name": "stdout",
     "output_type": "stream",
     "text": [
      "epoch: 9, [batch: 4032 / 6720], examples_per_second: 5431.3218, train_label_loss: 0.3006, \n"
     ]
    },
    {
     "name": "stdout",
     "output_type": "stream",
     "text": [
      "epoch: 9, [batch: 4704 / 6720], examples_per_second: 5537.3056, train_label_loss: 0.1206, \n"
     ]
    },
    {
     "name": "stdout",
     "output_type": "stream",
     "text": [
      "epoch: 9, [batch: 5376 / 6720], examples_per_second: 5163.3279, train_label_loss: 0.5098, \n"
     ]
    },
    {
     "name": "stdout",
     "output_type": "stream",
     "text": [
      "epoch: 9, [batch: 6048 / 6720], examples_per_second: 5267.9427, train_label_loss: 0.4076, \n"
     ]
    },
    {
     "name": "stdout",
     "output_type": "stream",
     "text": [
      "=============================================================\n",
      "epoch: 9, source_val_acc_label: 0.8087, target_val_acc_label: 0.6060, source_val_label_loss: 0.5234, target_val_label_loss: 123.3969, \n",
      "=============================================================\n"
     ]
    },
    {
     "name": "stdout",
     "output_type": "stream",
     "text": [
      "Patience (3) exhausted\n"
     ]
    }
   ],
   "source": [
    "###################################\n",
    "# train\n",
    "###################################\n",
    "jig = PTN_Train_Eval_Test_Jig(model, p.BEST_MODEL_PATH, p.device)\n",
    "\n",
    "jig.train(\n",
    "    train_iterable=datasets.source.processed.train,\n",
    "    source_val_iterable=datasets.source.processed.val,\n",
    "    target_val_iterable=datasets.target.processed.val,\n",
    "    num_epochs=p.n_epoch,\n",
    "    num_logs_per_epoch=p.NUM_LOGS_PER_EPOCH,\n",
    "    patience=p.patience,\n",
    "    optimizer=optimizer,\n",
    "    criteria_for_best=p.criteria_for_best,\n",
    ")"
   ]
  },
  {
   "cell_type": "code",
   "execution_count": 23,
   "id": "31e8fabf",
   "metadata": {
    "execution": {
     "iopub.execute_input": "2022-03-28T05:42:07.330867Z",
     "iopub.status.busy": "2022-03-28T05:42:07.330320Z",
     "iopub.status.idle": "2022-03-28T05:42:07.362384Z",
     "shell.execute_reply": "2022-03-28T05:42:07.361683Z"
    },
    "papermill": {
     "duration": 0.089086,
     "end_time": "2022-03-28T05:42:07.362536",
     "exception": false,
     "start_time": "2022-03-28T05:42:07.273450",
     "status": "completed"
    },
    "tags": []
   },
   "outputs": [],
   "source": [
    "total_experiment_time_secs = time.time() - start_time_secs"
   ]
  },
  {
   "cell_type": "code",
   "execution_count": 24,
   "id": "87b9595b",
   "metadata": {
    "execution": {
     "iopub.execute_input": "2022-03-28T05:42:07.479817Z",
     "iopub.status.busy": "2022-03-28T05:42:07.479204Z",
     "iopub.status.idle": "2022-03-28T05:44:44.448668Z",
     "shell.execute_reply": "2022-03-28T05:44:44.449343Z"
    },
    "papermill": {
     "duration": 157.030231,
     "end_time": "2022-03-28T05:44:44.449579",
     "exception": false,
     "start_time": "2022-03-28T05:42:07.419348",
     "status": "completed"
    },
    "tags": []
   },
   "outputs": [],
   "source": [
    "###################################\n",
    "# Evaluate the model\n",
    "###################################\n",
    "source_test_label_accuracy, source_test_label_loss = jig.test(datasets.source.processed.test)\n",
    "target_test_label_accuracy, target_test_label_loss = jig.test(datasets.target.processed.test)\n",
    "\n",
    "source_val_label_accuracy, source_val_label_loss = jig.test(datasets.source.processed.val)\n",
    "target_val_label_accuracy, target_val_label_loss = jig.test(datasets.target.processed.val)\n",
    "\n",
    "history = jig.get_history()\n",
    "\n",
    "total_epochs_trained = len(history[\"epoch_indices\"])\n",
    "\n",
    "val_dl = Iterable_Aggregator((datasets.source.original.val,datasets.target.original.val))\n",
    "\n",
    "confusion = ptn_confusion_by_domain_over_dataloader(model, p.device, val_dl)\n",
    "per_domain_accuracy = per_domain_accuracy_from_confusion(confusion)\n",
    "\n",
    "# Add a key to per_domain_accuracy for if it was a source domain\n",
    "for domain, accuracy in per_domain_accuracy.items():\n",
    "    per_domain_accuracy[domain] = {\n",
    "        \"accuracy\": accuracy,\n",
    "        \"source?\": domain in p.domains_source\n",
    "    }\n",
    "\n",
    "# Do an independent accuracy assesment JUST TO BE SURE!\n",
    "# _source_test_label_accuracy = independent_accuracy_assesment(model, datasets.source.processed.test, p.device)\n",
    "# _target_test_label_accuracy = independent_accuracy_assesment(model, datasets.target.processed.test, p.device)\n",
    "# _source_val_label_accuracy = independent_accuracy_assesment(model, datasets.source.processed.val, p.device)\n",
    "# _target_val_label_accuracy = independent_accuracy_assesment(model, datasets.target.processed.val, p.device)\n",
    "\n",
    "# assert(_source_test_label_accuracy == source_test_label_accuracy)\n",
    "# assert(_target_test_label_accuracy == target_test_label_accuracy)\n",
    "# assert(_source_val_label_accuracy == source_val_label_accuracy)\n",
    "# assert(_target_val_label_accuracy == target_val_label_accuracy)\n",
    "\n",
    "experiment = {\n",
    "    \"experiment_name\": p.experiment_name,\n",
    "    \"parameters\": dict(p),\n",
    "    \"results\": {\n",
    "        \"source_test_label_accuracy\": source_test_label_accuracy,\n",
    "        \"source_test_label_loss\": source_test_label_loss,\n",
    "        \"target_test_label_accuracy\": target_test_label_accuracy,\n",
    "        \"target_test_label_loss\": target_test_label_loss,\n",
    "        \"source_val_label_accuracy\": source_val_label_accuracy,\n",
    "        \"source_val_label_loss\": source_val_label_loss,\n",
    "        \"target_val_label_accuracy\": target_val_label_accuracy,\n",
    "        \"target_val_label_loss\": target_val_label_loss,\n",
    "        \"total_epochs_trained\": total_epochs_trained,\n",
    "        \"total_experiment_time_secs\": total_experiment_time_secs,\n",
    "        \"confusion\": confusion,\n",
    "        \"per_domain_accuracy\": per_domain_accuracy,\n",
    "    },\n",
    "    \"history\": history,\n",
    "    \"dataset_metrics\": get_dataset_metrics(datasets, \"ptn\"),\n",
    "}"
   ]
  },
  {
   "cell_type": "code",
   "execution_count": 25,
   "id": "54a21829",
   "metadata": {
    "execution": {
     "iopub.execute_input": "2022-03-28T05:44:44.558024Z",
     "iopub.status.busy": "2022-03-28T05:44:44.557659Z",
     "iopub.status.idle": "2022-03-28T05:44:44.808859Z",
     "shell.execute_reply": "2022-03-28T05:44:44.809549Z"
    },
    "papermill": {
     "duration": 0.304597,
     "end_time": "2022-03-28T05:44:44.809757",
     "exception": false,
     "start_time": "2022-03-28T05:44:44.505160",
     "status": "completed"
    },
    "tags": []
   },
   "outputs": [
    {
     "data": {
      "image/png": "[encoded data removed]",
      "text/plain": [
       "<Figure size 1080x504 with 1 Axes>"
      ]
     },
     "metadata": {
      "needs_background": "light"
     },
     "output_type": "display_data"
    }
   ],
   "source": [
    "ax = get_loss_curve(experiment)\n",
    "plt.show()"
   ]
  },
  {
   "cell_type": "code",
   "execution_count": 26,
   "id": "fd8a0f60",
   "metadata": {
    "execution": {
     "iopub.execute_input": "2022-03-28T05:44:44.922231Z",
     "iopub.status.busy": "2022-03-28T05:44:44.921864Z",
     "iopub.status.idle": "2022-03-28T05:44:45.267941Z",
     "shell.execute_reply": "2022-03-28T05:44:45.267610Z"
    },
    "papermill": {
     "duration": 0.400688,
     "end_time": "2022-03-28T05:44:45.268014",
     "exception": false,
     "start_time": "2022-03-28T05:44:44.867326",
     "status": "completed"
    },
    "tags": []
   },
   "outputs": [
    {
     "data": {
      "text/plain": [
       "<AxesSubplot:title={'center':'Results'}>"
      ]
     },
     "execution_count": 26,
     "metadata": {},
     "output_type": "execute_result"
    },
    {
     "data": {
      "image/png": "[encoded data removed]",
      "text/plain": [
       "<Figure size 1080x504 with 1 Axes>"
      ]
     },
     "metadata": {
      "needs_background": "light"
     },
     "output_type": "display_data"
    }
   ],
   "source": [
    "get_results_table(experiment)"
   ]
  },
  {
   "cell_type": "code",
   "execution_count": 27,
   "id": "cf8dc689",
   "metadata": {
    "execution": {
     "iopub.execute_input": "2022-03-28T05:44:45.378378Z",
     "iopub.status.busy": "2022-03-28T05:44:45.378006Z",
     "iopub.status.idle": "2022-03-28T05:44:45.614464Z",
     "shell.execute_reply": "2022-03-28T05:44:45.615103Z"
    },
    "papermill": {
     "duration": 0.293613,
     "end_time": "2022-03-28T05:44:45.615300",
     "exception": false,
     "start_time": "2022-03-28T05:44:45.321687",
     "status": "completed"
    },
    "tags": []
   },
   "outputs": [
    {
     "data": {
      "text/plain": [
       "<AxesSubplot:title={'center':'Per Domain Validation Accuracy'}, xlabel='domain'>"
      ]
     },
     "execution_count": 27,
     "metadata": {},
     "output_type": "execute_result"
    },
    {
     "data": {
      "image/png": "[encoded data removed]",
      "text/plain": [
       "<Figure size 1080x504 with 1 Axes>"
      ]
     },
     "metadata": {
      "needs_background": "light"
     },
     "output_type": "display_data"
    }
   ],
   "source": [
    "get_domain_accuracies(experiment)"
   ]
  },
  {
   "cell_type": "code",
   "execution_count": 28,
   "id": "a74ae082",
   "metadata": {
    "execution": {
     "iopub.execute_input": "2022-03-28T05:44:45.733470Z",
     "iopub.status.busy": "2022-03-28T05:44:45.732852Z",
     "iopub.status.idle": "2022-03-28T05:44:45.756936Z",
     "shell.execute_reply": "2022-03-28T05:44:45.757604Z"
    },
    "papermill": {
     "duration": 0.083157,
     "end_time": "2022-03-28T05:44:45.757779",
     "exception": false,
     "start_time": "2022-03-28T05:44:45.674622",
     "status": "completed"
    },
    "tags": []
   },
   "outputs": [
    {
     "name": "stdout",
     "output_type": "stream",
     "text": [
      "Source Test Label Accuracy: 0.79150390625 Target Test Label Accuracy: 0.6521186440677966\n",
      "Source Val Label Accuracy: 0.7897786458333333 Target Val Label Accuracy: 0.652\n"
     ]
    }
   ],
   "source": [
    "print(\"Source Test Label Accuracy:\", experiment[\"results\"][\"source_test_label_accuracy\"], \"Target Test Label Accuracy:\", experiment[\"results\"][\"target_test_label_accuracy\"])\n",
    "print(\"Source Val Label Accuracy:\", experiment[\"results\"][\"source_val_label_accuracy\"], \"Target Val Label Accuracy:\", experiment[\"results\"][\"target_val_label_accuracy\"])"
   ]
  },
  {
   "cell_type": "code",
   "execution_count": 29,
   "id": "dacca602",
   "metadata": {
    "execution": {
     "iopub.execute_input": "2022-03-28T05:44:45.918534Z",
     "iopub.status.busy": "2022-03-28T05:44:45.918166Z",
     "iopub.status.idle": "2022-03-28T05:44:45.941407Z",
     "shell.execute_reply": "2022-03-28T05:44:45.942072Z"
    },
    "papermill": {
     "duration": 0.123633,
     "end_time": "2022-03-28T05:44:45.942267",
     "exception": false,
     "start_time": "2022-03-28T05:44:45.818634",
     "status": "completed"
    },
    "tags": [
     "experiment_json"
    ]
   },
   "outputs": [
    {
     "data": {
      "text/plain": [
       "'{\"experiment_name\": \"tl_3-jitter1v2:oracle.run1.framed -> cores\", \"parameters\": {\"experiment_name\": \"tl_3-jitter1v2:oracle.run1.framed -> cores\", \"device\": \"cuda\", \"lr\": 0.0001, \"x_shape\": [2, 256], \"n_shot\": 3, \"n_query\": 2, \"train_k_factor\": 3, \"val_k_factor\": 2, \"test_k_factor\": 2, \"torch_default_dtype\": \"torch.float32\", \"n_epoch\": 50, \"patience\": 3, \"criteria_for_best\": \"target_accuracy\", \"x_net\": [{\"class\": \"nnReshape\", \"kargs\": {\"shape\": [-1, 1, 2, 256]}}, {\"class\": \"Conv2d\", \"kargs\": {\"in_channels\": 1, \"out_channels\": 256, \"kernel_size\": [1, 7], \"bias\": false, \"padding\": [0, 3]}}, {\"class\": \"ReLU\", \"kargs\": {\"inplace\": true}}, {\"class\": \"BatchNorm2d\", \"kargs\": {\"num_features\": 256}}, {\"class\": \"Conv2d\", \"kargs\": {\"in_channels\": 256, \"out_channels\": 80, \"kernel_size\": [2, 7], \"bias\": true, \"padding\": [0, 3]}}, {\"class\": \"ReLU\", \"kargs\": {\"inplace\": true}}, {\"class\": \"BatchNorm2d\", \"kargs\": {\"num_features\": 80}}, {\"class\": \"Flatten\", \"kargs\": {}}, {\"class\": \"Linear\", \"kargs\": {\"in_features\": 20480, \"out_features\": 256}}, {\"class\": \"ReLU\", \"kargs\": {\"inplace\": true}}, {\"class\": \"BatchNorm1d\", \"kargs\": {\"num_features\": 256}}, {\"class\": \"Linear\", \"kargs\": {\"in_features\": 256, \"out_features\": 256}}], \"NUM_LOGS_PER_EPOCH\": 10, \"BEST_MODEL_PATH\": \"./best_model.pth\", \"n_way\": 16, \"datasets\": [{\"labels\": [\"1-10.\", \"1-11.\", \"1-15.\", \"1-16.\", \"1-17.\", \"1-18.\", \"1-19.\", \"10-4.\", \"10-7.\", \"11-1.\", \"11-14.\", \"11-17.\", \"11-20.\", \"11-7.\", \"13-20.\", \"13-8.\", \"14-10.\", \"14-11.\", \"14-14.\", \"14-7.\", \"15-1.\", \"15-20.\", \"16-1.\", \"16-16.\", \"17-10.\", \"17-11.\", \"17-2.\", \"19-1.\", \"19-16.\", \"19-19.\", \"19-20.\", \"19-3.\", \"2-10.\", \"2-11.\", \"2-17.\", \"2-18.\", \"2-20.\", \"2-3.\", \"2-4.\", \"2-5.\", \"2-6.\", \"2-7.\", \"2-8.\", \"3-13.\", \"3-18.\", \"3-3.\", \"4-1.\", \"4-10.\", \"4-11.\", \"4-19.\", \"5-5.\", \"6-15.\", \"7-10.\", \"7-14.\", \"8-18.\", \"8-20.\", \"8-3.\", \"8-8.\"], \"domains\": [1, 2, 3, 4, 5], \"num_examples_per_domain_per_label\": -1, \"pickle_path\": \"/root/csc500-main/datasets/cores.stratified_ds.2022A.pkl\", \"source_or_target_dataset\": \"target\", \"x_transforms\": [\"unit_mag\", \"jitter_256_1\", \"lowpass_+/-10MHz\", \"take_200\"], \"episode_transforms\": [], \"domain_prefix\": \"C_\"}, {\"labels\": [\"3123D52\", \"3123D65\", \"3123D79\", \"3123D80\", \"3123D54\", \"3123D70\", \"3123D7B\", \"3123D89\", \"3123D58\", \"3123D76\", \"3123D7D\", \"3123EFE\", \"3123D64\", \"3123D78\", \"3123D7E\", \"3124E4A\"], \"domains\": [32, 38, 8, 44, 14, 50, 20, 26], \"num_examples_per_domain_per_label\": 2000, \"pickle_path\": \"/root/csc500-main/datasets/oracle.Run1_framed_2000Examples_stratified_ds.2022A.pkl\", \"source_or_target_dataset\": \"source\", \"x_transforms\": [\"unit_mag\", \"jitter_256_1\", \"take_200\", \"resample_20Msps_to_25Msps\"], \"episode_transforms\": [], \"domain_prefix\": \"O_\"}], \"seed\": 7, \"dataset_seed\": 7, \"domains_source\": [\"O_32\", \"O_38\", \"O_8\", \"O_44\", \"O_14\", \"O_50\", \"O_20\", \"O_26\"], \"domains_target\": [\"C_1\", \"C_2\", \"C_3\", \"C_4\", \"C_5\"]}, \"results\": {\"source_test_label_accuracy\": 0.79150390625, \"source_test_label_loss\": 0.5616481304168701, \"target_test_label_accuracy\": 0.6521186440677966, \"target_test_label_loss\": 45.68164825439453, \"source_val_label_accuracy\": 0.7897786458333333, \"source_val_label_loss\": 0.5767757296562195, \"target_val_label_accuracy\": 0.652, \"target_val_label_loss\": 45.20479965209961, \"total_epochs_trained\": 9, \"total_experiment_time_secs\": 1505.3795981407166, \"confusion\": {\"O_26\": {\"0\": {\"0\": 72, \"10\": 54, \"8\": 25, \"4\": 38, \"14\": 45, \"6\": 2, \"1\": 2, \"7\": 2}, \"4\": {\"0\": 13, \"14\": 33, \"4\": 137, \"8\": 31, \"7\": 12, \"10\": 9, \"1\": 5}, \"14\": {\"0\": 36, \"4\": 32, \"14\": 114, \"10\": 16, \"1\": 38, \"8\": 4}, \"12\": {\"12\": 240}, \"8\": {\"7\": 31, \"4\": 32, \"8\": 95, \"15\": 14, \"0\": 22, \"14\": 8, \"10\": 20, \"6\": 5, \"9\": 9, \"1\": 1, \"2\": 2, \"5\": 1}, \"7\": {\"7\": 158, \"2\": 14, \"15\": 2, \"3\": 26, \"8\": 14, \"9\": 1, \"4\": 21, \"0\": 2, \"14\": 2}, \"13\": {\"13\": 188, \"2\": 4, \"9\": 7, \"15\": 5, \"5\": 35, \"7\": 1}, \"5\": {\"5\": 183, \"13\": 21, \"8\": 2, \"2\": 21, \"9\": 3, \"15\": 8, \"3\": 2}, \"15\": {\"15\": 107, \"9\": 78, \"13\": 5, \"8\": 22, \"0\": 1, \"2\": 4, \"4\": 1, \"5\": 11, \"6\": 5, \"7\": 5, \"10\": 1}, \"10\": {\"10\": 110, \"14\": 26, \"8\": 29, \"0\": 53, \"1\": 2, \"4\": 8, \"6\": 10, \"15\": 2}, \"3\": {\"3\": 162, \"2\": 56, \"7\": 22}, \"9\": {\"9\": 132, \"15\": 74, \"13\": 12, \"6\": 10, \"10\": 1, \"2\": 2, \"5\": 5, \"8\": 2, \"7\": 1, \"4\": 1}, \"6\": {\"6\": 200, \"9\": 16, \"10\": 11, \"0\": 4, \"15\": 7, \"13\": 1, \"8\": 1}, \"1\": {\"14\": 37, \"1\": 187, \"4\": 11, \"0\": 1, \"7\": 3, \"10\": 1}, \"11\": {\"11\": 240}, \"2\": {\"15\": 9, \"2\": 101, \"5\": 27, \"7\": 26, \"3\": 69, \"8\": 6, \"13\": 1, \"9\": 1}}, \"O_44\": {\"1\": {\"1\": 164, \"12\": 39, \"3\": 17, \"2\": 8, \"10\": 12}, \"11\": {\"11\": 232, \"13\": 3, \"6\": 5}, \"3\": {\"3\": 227, \"1\": 9, \"12\": 4}, \"6\": {\"6\": 157, \"9\": 24, \"13\": 51, \"7\": 8}, \"7\": {\"7\": 171, \"9\": 38, \"6\": 9, \"2\": 22}, \"5\": {\"5\": 210, \"0\": 9, \"15\": 9, \"8\": 5, \"14\": 7}, \"2\": {\"2\": 178, \"7\": 34, \"1\": 13, \"10\": 14, \"9\": 1}, \"15\": {\"15\": 169, \"14\": 30, \"0\": 17, \"4\": 4, \"8\": 1, \"5\": 19}, \"10\": {\"10\": 200, \"1\": 25, \"2\": 11, \"7\": 1, \"12\": 3}, \"13\": {\"13\": 164, \"6\": 51, \"9\": 21, \"11\": 2, \"4\": 1, \"7\": 1}, \"8\": {\"15\": 9, \"8\": 118, \"0\": 105, \"5\": 8}, \"4\": {\"4\": 175, \"14\": 61, \"15\": 3, \"13\": 1}, \"9\": {\"9\": 117, \"11\": 1, \"13\": 28, \"6\": 25, \"7\": 68, \"2\": 1}, \"14\": {\"4\": 80, \"14\": 141, \"5\": 6, \"15\": 12, \"0\": 1}, \"0\": {\"0\": 152, \"15\": 10, \"8\": 71, \"5\": 7}, \"12\": {\"12\": 204, \"1\": 31, \"3\": 2, \"10\": 3}}, \"O_50\": {\"15\": {\"15\": 205, \"4\": 10, \"1\": 18, \"11\": 6, \"6\": 1}, \"4\": {\"4\": 149, \"5\": 32, \"15\": 41, \"1\": 7, \"6\": 5, \"7\": 4, \"13\": 2}, \"6\": {\"6\": 184, \"15\": 3, \"1\": 4, \"4\": 4, \"13\": 33, \"7\": 6, \"5\": 6}, \"2\": {\"2\": 218, \"0\": 22}, \"5\": {\"5\": 131, \"7\": 30, \"4\": 31, \"13\": 24, \"10\": 1, \"1\": 15, \"15\": 3, \"6\": 5}, \"9\": {\"9\": 222, \"11\": 13, \"12\": 5}, \"8\": {\"8\": 238, \"10\": 1, \"3\": 1}, \"12\": {\"12\": 221, \"9\": 12, \"11\": 6, \"14\": 1}, \"10\": {\"0\": 13, \"10\": 220, \"7\": 1, \"8\": 3, \"13\": 3}, \"1\": {\"1\": 186, \"13\": 2, \"2\": 1, \"6\": 5, \"15\": 28, \"5\": 4, \"11\": 2, \"4\": 12}, \"0\": {\"0\": 209, \"2\": 21, \"10\": 9, \"13\": 1}, \"3\": {\"3\": 238, \"8\": 2}, \"13\": {\"13\": 205, \"6\": 9, \"5\": 10, \"10\": 5, \"7\": 11}, \"11\": {\"11\": 220, \"15\": 13, \"4\": 1, \"9\": 3, \"14\": 1, \"12\": 2}, \"7\": {\"7\": 197, \"5\": 19, \"13\": 18, \"4\": 2, \"6\": 3, \"10\": 1}, \"14\": {\"14\": 239, \"11\": 1}}, \"O_38\": {\"15\": {\"8\": 16, \"15\": 207, \"5\": 5, \"1\": 7, \"13\": 5}, \"11\": {\"11\": 237, \"4\": 1, \"10\": 1, \"14\": 1}, \"10\": {\"10\": 211, \"8\": 4, \"13\": 14, \"0\": 4, \"14\": 3, \"7\": 2, \"5\": 2}, \"14\": {\"14\": 214, \"2\": 24, \"13\": 2}, \"6\": {\"6\": 234, \"5\": 2, \"9\": 4}, \"4\": {\"4\": 233, \"10\": 4, \"12\": 3}, \"13\": {\"13\": 191, \"15\": 12, \"10\": 20, \"2\": 12, \"5\": 1, \"0\": 1, \"8\": 3}, \"3\": {\"9\": 2, \"3\": 233, \"0\": 3, \"7\": 1, \"13\": 1}, \"7\": {\"7\": 199, \"0\": 12, \"5\": 17, \"8\": 12}, \"8\": {\"8\": 172, \"5\": 39, \"0\": 9, \"10\": 1, \"7\": 14, \"15\": 4, \"13\": 1}, \"1\": {\"1\": 226, \"15\": 14}, \"5\": {\"5\": 109, \"8\": 74, \"7\": 33, \"15\": 8, \"13\": 2, \"9\": 6, \"0\": 3, \"1\": 1, \"6\": 3, \"10\": 1}, \"0\": {\"0\": 176, \"7\": 19, \"8\": 20, \"3\": 9, \"5\": 4, \"10\": 8, \"4\": 1, \"13\": 1, \"12\": 1, \"9\": 1}, \"2\": {\"2\": 215, \"14\": 20, \"13\": 5}, \"12\": {\"12\": 236, \"4\": 4}, \"9\": {\"9\": 213, \"7\": 2, \"6\": 18, \"5\": 7}}, \"O_20\": {\"10\": {\"10\": 230, \"14\": 8, \"7\": 2}, \"7\": {\"7\": 211, \"8\": 2, \"9\": 3, \"2\": 21, \"3\": 3}, \"4\": {\"8\": 8, \"4\": 225, \"10\": 2, \"7\": 1, \"3\": 3, \"5\": 1}, \"13\": {\"13\": 223, \"2\": 13, \"15\": 2, \"12\": 1, \"9\": 1}, \"1\": {\"1\": 149, \"12\": 42, \"15\": 28, \"5\": 19, \"3\": 1, \"0\": 1}, \"0\": {\"15\": 41, \"0\": 120, \"5\": 72, \"12\": 1, \"7\": 1, \"3\": 2, \"4\": 1, \"8\": 1, \"2\": 1}, \"12\": {\"12\": 130, \"1\": 46, \"3\": 28, \"9\": 15, \"0\": 1, \"5\": 14, \"2\": 4, \"15\": 1, \"13\": 1}, \"5\": {\"1\": 22, \"12\": 17, \"5\": 147, \"0\": 44, \"15\": 6, \"3\": 2, \"2\": 2}, \"6\": {\"6\": 222, \"14\": 18}, \"2\": {\"9\": 73, \"7\": 26, \"3\": 9, \"2\": 101, \"12\": 16, \"13\": 14, \"1\": 1}, \"8\": {\"4\": 12, \"8\": 214, \"7\": 8, \"14\": 3, \"0\": 1, \"10\": 1, \"6\": 1}, \"11\": {\"11\": 240}, \"9\": {\"9\": 133, \"2\": 59, \"3\": 22, \"12\": 20, \"1\": 2, \"13\": 2, \"7\": 2}, \"14\": {\"14\": 221, \"6\": 10, \"10\": 6, \"8\": 3}, \"15\": {\"15\": 177, \"5\": 11, \"0\": 18, \"13\": 2, \"1\": 31, \"12\": 1}, \"3\": {\"3\": 153, \"12\": 38, \"7\": 2, \"9\": 27, \"4\": 5, \"2\": 7, \"5\": 5, \"1\": 3}}, \"O_14\": {\"14\": {\"14\": 203, \"2\": 19, \"13\": 16, \"3\": 2}, \"0\": {\"0\": 227, \"10\": 10, \"3\": 2, \"11\": 1}, \"4\": {\"5\": 15, \"4\": 207, \"1\": 9, \"3\": 7, \"13\": 1, \"2\": 1}, \"11\": {\"11\": 216, \"9\": 14, \"0\": 10}, \"13\": {\"6\": 86, \"13\": 70, \"2\": 29, \"14\": 49, \"7\": 1, \"5\": 4, \"4\": 1}, \"9\": {\"9\": 238, \"11\": 2}, \"3\": {\"3\": 227, \"2\": 5, \"14\": 2, \"4\": 6}, \"6\": {\"6\": 161, \"13\": 68, \"2\": 7, \"14\": 4}, \"1\": {\"1\": 225, \"5\": 14, \"4\": 1}, \"5\": {\"3\": 1, \"4\": 43, \"1\": 25, \"5\": 160, \"2\": 11}, \"12\": {\"12\": 240}, \"10\": {\"10\": 237, \"0\": 2, \"3\": 1}, \"8\": {\"8\": 240}, \"7\": {\"7\": 240}, \"15\": {\"15\": 239, \"7\": 1}, \"2\": {\"2\": 115, \"14\": 40, \"6\": 23, \"13\": 19, \"5\": 27, \"3\": 10, \"4\": 3, \"15\": 3}}, \"O_32\": {\"11\": {\"11\": 228, \"14\": 8, \"3\": 1, \"13\": 3}, \"1\": {\"1\": 240}, \"2\": {\"2\": 195, \"4\": 42, \"7\": 2, \"5\": 1}, \"0\": {\"0\": 184, \"8\": 33, \"13\": 1, \"14\": 9, \"4\": 2, \"7\": 8, \"2\": 1, \"5\": 1, \"11\": 1}, \"3\": {\"3\": 232, \"11\": 2, \"13\": 4, \"14\": 1, \"5\": 1}, \"8\": {\"8\": 194, \"0\": 27, \"5\": 8, \"3\": 3, \"14\": 1, \"13\": 6, \"7\": 1}, \"12\": {\"12\": 240}, \"5\": {\"7\": 57, \"5\": 100, \"4\": 10, \"13\": 29, \"3\": 12, \"8\": 16, \"14\": 7, \"0\": 7, \"2\": 1, \"11\": 1}, \"15\": {\"15\": 239, \"8\": 1}, \"7\": {\"7\": 137, \"13\": 18, \"4\": 22, \"14\": 12, \"5\": 43, \"0\": 3, \"8\": 3, \"11\": 1, \"2\": 1}, \"4\": {\"4\": 179, \"2\": 33, \"7\": 12, \"5\": 8, \"13\": 8}, \"14\": {\"14\": 150, \"0\": 23, \"7\": 11, \"11\": 37, \"8\": 5, \"2\": 1, \"3\": 9, \"5\": 3, \"13\": 1}, \"10\": {\"10\": 240}, \"6\": {\"6\": 240}, \"13\": {\"13\": 179, \"3\": 18, \"7\": 10, \"8\": 3, \"5\": 11, \"4\": 17, \"11\": 1, \"14\": 1}, \"9\": {\"9\": 240}}, \"O_8\": {\"9\": {\"9\": 240}, \"11\": {\"11\": 202, \"1\": 37, \"5\": 1}, \"8\": {\"8\": 237, \"15\": 2, \"6\": 1}, \"4\": {\"4\": 162, \"13\": 32, \"14\": 25, \"6\": 20, \"10\": 1}, \"13\": {\"13\": 105, \"4\": 40, \"10\": 10, \"14\": 14, \"0\": 60, \"6\": 10, \"7\": 1}, \"14\": {\"10\": 37, \"14\": 163, \"13\": 12, \"4\": 26, \"1\": 2}, \"2\": {\"2\": 216, \"3\": 11, \"7\": 9, \"12\": 3, \"8\": 1}, \"3\": {\"3\": 230, \"2\": 5, \"12\": 5}, \"1\": {\"11\": 18, \"1\": 215, \"14\": 4, \"5\": 3}, \"0\": {\"13\": 30, \"0\": 196, \"7\": 9, \"4\": 2, \"6\": 3}, \"5\": {\"5\": 217, \"10\": 8, \"1\": 14, \"14\": 1}, \"15\": {\"15\": 195, \"8\": 7, \"12\": 38}, \"10\": {\"10\": 201, \"14\": 32, \"13\": 5, \"5\": 2}, \"12\": {\"12\": 156, \"15\": 70, \"3\": 12, \"2\": 1, \"8\": 1}, \"6\": {\"0\": 2, \"6\": 181, \"4\": 9, \"7\": 44, \"13\": 4}, \"7\": {\"7\": 195, \"6\": 42, \"12\": 1, \"13\": 1, \"0\": 1}}, \"C_5\": {\"26\": {\"26\": 9, \"30\": 1, \"36\": 1, \"25\": 2, \"53\": 2, \"38\": 2, \"35\": 1, \"6\": 2, \"27\": 1, \"12\": 1, \"17\": 1, \"55\": 1}, \"7\": {\"30\": 1, \"7\": 18, \"51\": 1, \"29\": 1, \"38\": 5, \"25\": 1, \"12\": 1, \"1\": 1, \"46\": 1, \"53\": 1, \"54\": 1}, \"56\": {\"56\": 141, \"35\": 1}, \"36\": {\"36\": 88, \"3\": 1, \"43\": 1, \"54\": 1, \"21\": 1}, \"47\": {\"46\": 4, \"47\": 89, \"42\": 1, \"57\": 1, \"43\": 2, \"54\": 1, \"23\": 1, \"6\": 1}, \"2\": {\"2\": 28}, \"15\": {\"15\": 143, \"52\": 4, \"11\": 5}, \"14\": {\"36\": 5, \"49\": 7, \"47\": 2, \"14\": 13, \"35\": 2, \"28\": 4, \"9\": 2, \"18\": 2, \"6\": 2, \"56\": 2, \"32\": 1, \"2\": 1, \"25\": 1}, \"27\": {\"27\": 53, \"57\": 10, \"1\": 24, \"33\": 1, \"32\": 1, \"30\": 17, \"8\": 5, \"48\": 7, \"18\": 3, \"29\": 4, \"36\": 1, \"43\": 1, \"6\": 2, \"50\": 3, \"51\": 2, \"44\": 1, \"9\": 1, \"28\": 1, \"41\": 1, \"55\": 2, \"19\": 1, \"25\": 2, \"20\": 1, \"45\": 1, \"46\": 1}, \"40\": {\"40\": 38, \"27\": 2, \"50\": 4, \"55\": 6, \"33\": 1, \"5\": 10, \"44\": 12, \"51\": 2, \"9\": 4, \"19\": 6, \"4\": 10, \"20\": 1, \"21\": 3, \"13\": 3, \"30\": 1, \"45\": 3, \"29\": 6, \"10\": 1, \"24\": 2, \"35\": 1, \"43\": 1, \"37\": 1, \"1\": 2, \"25\": 2, \"53\": 1, \"48\": 1}, \"49\": {\"49\": 35, \"3\": 1}, \"45\": {\"7\": 3, \"21\": 1, \"53\": 5, \"55\": 5, \"6\": 9, \"38\": 1, \"28\": 4, \"45\": 21, \"25\": 3, \"36\": 1, \"18\": 5, \"30\": 11, \"35\": 1, \"17\": 9, \"23\": 2, \"49\": 2, \"54\": 6, \"50\": 3, \"12\": 4, \"8\": 2, \"14\": 1, \"48\": 10, \"44\": 2, \"27\": 5, \"26\": 2, \"1\": 1, \"51\": 1, \"9\": 1, \"57\": 1, \"29\": 1, \"19\": 1}, \"46\": {\"46\": 99, \"3\": 4, \"56\": 4, \"11\": 10, \"15\": 1, \"57\": 4, \"0\": 1, \"16\": 6, \"47\": 1, \"52\": 2, \"13\": 1, \"49\": 1, \"36\": 1, \"24\": 1}, \"11\": {\"11\": 102, \"15\": 7, \"16\": 8, \"24\": 3, \"52\": 7, \"46\": 3}, \"30\": {\"30\": 69, \"48\": 5, \"8\": 8, \"6\": 9, \"53\": 3, \"20\": 3, \"17\": 2, \"25\": 3, \"54\": 2, \"47\": 1, \"1\": 2, \"27\": 1, \"18\": 1, \"45\": 1, \"50\": 1, \"51\": 1}, \"0\": {\"56\": 4, \"0\": 114, \"3\": 2, \"46\": 1, \"31\": 1, \"11\": 1, \"52\": 1}, \"10\": {\"10\": 64, \"22\": 1, \"2\": 1, \"43\": 2}, \"1\": {\"42\": 5, \"1\": 54, \"23\": 14, \"27\": 9, \"41\": 2, \"57\": 7, \"32\": 3, \"18\": 8, \"8\": 13, \"29\": 3, \"48\": 7, \"47\": 2, \"44\": 3, \"30\": 5, \"54\": 2, \"20\": 3, \"6\": 2, \"25\": 2, \"33\": 1, \"28\": 1, \"16\": 1, \"50\": 1}, \"42\": {\"42\": 37, \"2\": 1, \"0\": 1, \"18\": 1}, \"54\": {\"54\": 111, \"3\": 1}, \"55\": {\"1\": 13, \"55\": 32, \"32\": 3, \"7\": 2, \"3\": 3, \"36\": 2, \"27\": 10, \"35\": 1, \"14\": 5, \"17\": 8, \"51\": 1, \"29\": 3, \"48\": 12, \"44\": 8, \"6\": 3, \"54\": 9, \"45\": 4, \"30\": 8, \"53\": 5, \"43\": 1, \"47\": 1, \"9\": 3, \"8\": 1, \"50\": 4, \"13\": 1, \"33\": 3, \"12\": 4, \"56\": 1, \"25\": 1}, \"23\": {\"23\": 124}, \"25\": {\"39\": 1, \"42\": 5, \"12\": 9, \"8\": 26, \"25\": 49, \"13\": 1, \"57\": 3, \"30\": 10, \"18\": 3, \"6\": 10, \"14\": 1, \"45\": 2, \"20\": 5, \"51\": 2, \"48\": 3, \"53\": 4, \"17\": 2, \"47\": 1, \"55\": 3, \"38\": 1, \"54\": 3, \"50\": 1, \"21\": 2, \"1\": 5}, \"28\": {\"28\": 29, \"14\": 1, \"36\": 1, \"33\": 1}, \"32\": {\"1\": 3, \"57\": 1, \"32\": 14, \"54\": 1, \"34\": 1, \"6\": 1, \"27\": 1, \"33\": 1, \"18\": 1, \"28\": 2, \"55\": 2, \"23\": 2, \"48\": 1, \"29\": 1}, \"9\": {\"9\": 20, \"54\": 7, \"32\": 1, \"27\": 19, \"45\": 8, \"21\": 2, \"33\": 2, \"18\": 2, \"30\": 7, \"14\": 2, \"50\": 6, \"55\": 7, \"48\": 9, \"17\": 2, \"25\": 6, \"53\": 3, \"29\": 8, \"1\": 2, \"47\": 3, \"19\": 4, \"51\": 4, \"44\": 2, \"22\": 1, \"6\": 6, \"38\": 1, \"0\": 1, \"31\": 1, \"57\": 1, \"12\": 2, \"20\": 2, \"8\": 1}, \"39\": {\"39\": 20}, \"3\": {\"23\": 4, \"3\": 44, \"11\": 5, \"16\": 9, \"2\": 1, \"31\": 1, \"43\": 3, \"52\": 4, \"46\": 6, \"24\": 3, \"47\": 5, \"56\": 1, \"0\": 3, \"13\": 2, \"14\": 1, \"36\": 3, \"28\": 1, \"49\": 2, \"54\": 2}, \"29\": {\"9\": 2, \"29\": 52, \"48\": 3, \"36\": 9, \"32\": 1, \"34\": 4, \"28\": 1, \"44\": 3, \"0\": 5, \"22\": 3, \"47\": 3, \"54\": 2, \"30\": 1, \"43\": 1, \"1\": 2, \"56\": 3, \"57\": 8, \"55\": 2, \"27\": 5, \"33\": 3, \"14\": 2, \"16\": 1, \"50\": 1, \"46\": 1}, \"17\": {\"55\": 3, \"54\": 4, \"17\": 34, \"36\": 1, \"53\": 15, \"23\": 2, \"14\": 1, \"30\": 5, \"18\": 5, \"25\": 4, \"8\": 3, \"48\": 7, \"51\": 2, \"50\": 3, \"6\": 7, \"40\": 1, \"45\": 3, \"29\": 1, \"47\": 1, \"28\": 1, \"38\": 1, \"12\": 3, \"7\": 2, \"27\": 1, \"21\": 2, \"43\": 2, \"20\": 1, \"1\": 1}, \"35\": {\"35\": 36}, \"44\": {\"28\": 1, \"44\": 63, \"32\": 3, \"47\": 4, \"48\": 10, \"29\": 16, \"1\": 3, \"33\": 4, \"35\": 2, \"22\": 4, \"27\": 20, \"9\": 2, \"19\": 6, \"57\": 2, \"5\": 1, \"36\": 1, \"55\": 2, \"56\": 3, \"25\": 1, \"0\": 2, \"3\": 1, \"54\": 1}, \"5\": {\"5\": 71, \"44\": 7, \"33\": 2, \"35\": 1, \"4\": 10, \"19\": 10, \"40\": 16, \"29\": 2, \"55\": 3, \"50\": 1, \"8\": 1, \"21\": 3, \"45\": 1}, \"33\": {\"33\": 13, \"47\": 2, \"6\": 1, \"29\": 1, \"1\": 2, \"25\": 1, \"27\": 2, \"18\": 1, \"44\": 1, \"28\": 1, \"55\": 1, \"14\": 1, \"22\": 2, \"34\": 2, \"48\": 1}, \"34\": {\"26\": 1, \"34\": 29, \"32\": 1, \"44\": 1, \"57\": 3, \"6\": 1}, \"13\": {\"5\": 1, \"10\": 6, \"24\": 13, \"35\": 1, \"13\": 73, \"21\": 4, \"2\": 2, \"54\": 1, \"49\": 4, \"3\": 1, \"9\": 1, \"56\": 14, \"52\": 3, \"43\": 7, \"47\": 2, \"51\": 1, \"44\": 1, \"31\": 1, \"29\": 1, \"17\": 1}, \"41\": {\"42\": 1, \"41\": 23, \"23\": 2, \"16\": 1, \"20\": 1}, \"6\": {\"6\": 18, \"51\": 3, \"25\": 9, \"38\": 1, \"33\": 1, \"8\": 21, \"30\": 8, \"17\": 6, \"1\": 4, \"47\": 1, \"48\": 8, \"20\": 4, \"54\": 11, \"18\": 7, \"53\": 5, \"50\": 4, \"56\": 1, \"26\": 2, \"41\": 2, \"42\": 5, \"23\": 1, \"34\": 2, \"55\": 2, \"12\": 2}, \"51\": {\"41\": 2, \"7\": 2, \"51\": 29, \"35\": 1, \"26\": 1, \"8\": 21, \"6\": 3, \"23\": 7, \"20\": 18, \"21\": 6, \"53\": 9, \"18\": 3, \"45\": 4, \"12\": 4, \"1\": 2, \"48\": 1, \"30\": 1, \"0\": 1, \"17\": 6, \"25\": 3, \"57\": 2, \"9\": 2, \"50\": 3, \"16\": 1, \"34\": 2, \"46\": 2, \"47\": 1, \"55\": 1}, \"50\": {\"39\": 1, \"6\": 8, \"51\": 7, \"50\": 20, \"42\": 2, \"54\": 10, \"53\": 9, \"7\": 1, \"24\": 1, \"14\": 2, \"41\": 1, \"44\": 1, \"48\": 9, \"29\": 1, \"9\": 6, \"17\": 5, \"30\": 13, \"47\": 3, \"20\": 2, \"55\": 5, \"8\": 6, \"21\": 2, \"1\": 10, \"56\": 2, \"25\": 4, \"43\": 2, \"57\": 1, \"38\": 3, \"27\": 2, \"12\": 1, \"26\": 1, \"13\": 1, \"28\": 1, \"16\": 1}, \"37\": {\"37\": 22, \"25\": 1, \"8\": 1}, \"19\": {\"44\": 8, \"19\": 77, \"33\": 2, \"9\": 10, \"48\": 2, \"50\": 3, \"27\": 10, \"20\": 2, \"55\": 6, \"29\": 3, \"25\": 3, \"30\": 1, \"13\": 1, \"57\": 3, \"21\": 2, \"4\": 2, \"14\": 1, \"32\": 1, \"37\": 1, \"5\": 1, \"45\": 3, \"8\": 1, \"53\": 1}, \"57\": {\"57\": 126, \"46\": 1, \"16\": 1, \"39\": 2, \"18\": 1, \"3\": 1}, \"21\": {\"23\": 11, \"21\": 75, \"50\": 1, \"52\": 7, \"43\": 7, \"49\": 2, \"18\": 2, \"51\": 3, \"16\": 8, \"36\": 2, \"20\": 8, \"25\": 4, \"8\": 4, \"1\": 1, \"14\": 1, \"13\": 3, \"48\": 2, \"28\": 3}, \"24\": {\"24\": 75, \"49\": 1, \"52\": 1, \"56\": 1, \"43\": 2}, \"8\": {\"8\": 90, \"51\": 3, \"42\": 1, \"18\": 6, \"26\": 1, \"41\": 2, \"31\": 1, \"25\": 4, \"20\": 4, \"1\": 5, \"23\": 4, \"6\": 3, \"50\": 1, \"16\": 2, \"46\": 1, \"48\": 1, \"30\": 1}, \"12\": {\"26\": 2, \"12\": 61, \"38\": 5, \"7\": 1, \"17\": 5, \"1\": 1, \"18\": 1, \"6\": 5, \"45\": 2, \"53\": 4, \"20\": 1, \"55\": 2, \"33\": 1, \"44\": 1, \"50\": 1, \"30\": 1, \"8\": 1, \"51\": 1}, \"48\": {\"25\": 3, \"8\": 8, \"48\": 53, \"22\": 1, \"54\": 5, \"29\": 1, \"47\": 5, \"18\": 2, \"14\": 1, \"6\": 4, \"57\": 2, \"44\": 4, \"30\": 6, \"1\": 18, \"55\": 1, \"23\": 2, \"27\": 9, \"32\": 2, \"26\": 1, \"34\": 1, \"56\": 1, \"45\": 1, \"50\": 1}, \"43\": {\"43\": 142, \"24\": 2, \"36\": 2, \"52\": 2, \"23\": 2}, \"53\": {\"53\": 60, \"38\": 4, \"17\": 7, \"12\": 5, \"54\": 4, \"41\": 2, \"45\": 4, \"8\": 10, \"6\": 7, \"1\": 3, \"36\": 2, \"27\": 1, \"50\": 2, \"23\": 2, \"51\": 3, \"30\": 8, \"48\": 2, \"55\": 6, \"25\": 2, \"57\": 2, \"18\": 4, \"7\": 3, \"28\": 1, \"20\": 3, \"47\": 1}, \"38\": {\"38\": 11, \"7\": 5, \"25\": 2, \"30\": 2, \"6\": 3, \"12\": 4, \"42\": 1, \"23\": 1, \"20\": 1, \"51\": 1, \"1\": 1}, \"16\": {\"16\": 129, \"3\": 3, \"52\": 4, \"46\": 3, \"41\": 1, \"47\": 1, \"23\": 1}, \"22\": {\"22\": 26, \"24\": 1, \"13\": 1}, \"4\": {\"4\": 63, \"5\": 7, \"40\": 8, \"45\": 1, \"54\": 1, \"47\": 1, \"55\": 5, \"19\": 6, \"29\": 1, \"9\": 2, \"7\": 1, \"27\": 1, \"44\": 2, \"25\": 1}, \"18\": {\"18\": 64}, \"20\": {\"20\": 109, \"42\": 1, \"18\": 7, \"6\": 1, \"8\": 5, \"51\": 5, \"23\": 3, \"1\": 1, \"16\": 1, \"57\": 5, \"9\": 1, \"53\": 2, \"41\": 2, \"47\": 1}, \"52\": {\"52\": 134, \"11\": 2, \"16\": 1, \"46\": 2, \"54\": 1}, \"31\": {\"31\": 35, \"46\": 1}}, \"C_1\": {\"41\": {\"41\": 12, \"20\": 1, \"17\": 2, \"51\": 1, \"53\": 2, \"18\": 1, \"50\": 1, \"6\": 2, \"8\": 2}, \"40\": {\"29\": 9, \"40\": 59, \"4\": 12, \"48\": 1, \"50\": 1, \"3\": 7, \"57\": 5, \"51\": 2, \"56\": 1, \"13\": 4, \"44\": 2, \"41\": 2, \"1\": 1, \"5\": 1, \"19\": 2, \"46\": 1}, \"45\": {\"42\": 6, \"45\": 123, \"16\": 5, \"7\": 1, \"36\": 1, \"56\": 2}, \"51\": {\"36\": 3, \"53\": 6, \"16\": 14, \"51\": 45, \"45\": 12, \"9\": 12, \"35\": 1, \"46\": 2, \"18\": 1, \"20\": 19, \"5\": 1, \"6\": 3, \"48\": 2, \"2\": 1, \"12\": 7, \"30\": 1, \"50\": 4, \"22\": 1, \"15\": 1, \"56\": 1, \"42\": 1, \"14\": 1, \"7\": 1, \"8\": 2, \"17\": 2, \"25\": 1, \"19\": 1, \"43\": 1, \"27\": 1}, \"5\": {\"53\": 3, \"30\": 16, \"5\": 77, \"26\": 3, \"25\": 5, \"34\": 1, \"8\": 8, \"2\": 4, \"18\": 5, \"6\": 7, \"48\": 5, \"50\": 5, \"47\": 1, \"9\": 1, \"55\": 5, \"51\": 1, \"33\": 2, \"23\": 1, \"16\": 3, \"46\": 1}, \"30\": {\"30\": 108, \"8\": 12}, \"42\": {\"42\": 38, \"45\": 2}, \"46\": {\"30\": 9, \"53\": 6, \"46\": 31, \"13\": 1, \"44\": 3, \"5\": 15, \"6\": 7, \"25\": 5, \"1\": 3, \"29\": 7, \"19\": 8, \"17\": 3, \"8\": 13, \"50\": 10, \"57\": 4, \"56\": 2, \"27\": 1, \"45\": 1, \"48\": 1, \"14\": 1, \"16\": 2, \"4\": 1, \"43\": 1, \"18\": 1}, \"48\": {\"48\": 59, \"6\": 11, \"5\": 14, \"50\": 12, \"2\": 1, \"25\": 4, \"9\": 2, \"30\": 1, \"17\": 2, \"8\": 2, \"46\": 4, \"45\": 1, \"53\": 13, \"55\": 1, \"51\": 1, \"14\": 2, \"34\": 1, \"32\": 2, \"16\": 1}, \"53\": {\"48\": 15, \"53\": 48, \"27\": 1, \"8\": 12, \"5\": 4, \"18\": 5, \"26\": 2, \"2\": 3, \"14\": 1, \"47\": 1, \"6\": 2, \"54\": 1, \"7\": 1, \"50\": 18, \"30\": 5, \"17\": 3, \"9\": 5, \"25\": 3, \"46\": 2, \"12\": 1, \"37\": 1, \"42\": 1, \"32\": 1, \"16\": 2, \"1\": 1, \"56\": 1, \"20\": 2, \"51\": 1, \"45\": 1}, \"47\": {\"47\": 151, \"27\": 1}, \"49\": {\"49\": 27, \"52\": 1, \"24\": 2, \"31\": 1, \"32\": 1}, \"36\": {\"36\": 58, \"54\": 2, \"23\": 3, \"12\": 1}, \"32\": {\"32\": 30, \"34\": 1, \"42\": 1}, \"34\": {\"34\": 24}, \"29\": {\"46\": 12, \"29\": 79, \"10\": 1, \"19\": 10, \"44\": 8, \"4\": 5, \"25\": 4, \"51\": 2, \"57\": 7, \"1\": 6, \"56\": 4, \"47\": 1, \"55\": 1}, \"35\": {\"35\": 32, \"32\": 1, \"47\": 3}, \"3\": {\"3\": 68, \"48\": 4, \"13\": 9, \"1\": 4, \"35\": 1, \"24\": 1, \"46\": 5, \"19\": 4, \"45\": 1, \"50\": 7, \"4\": 1, \"44\": 3, \"29\": 3, \"40\": 1, \"27\": 2, \"56\": 3, \"55\": 2, \"53\": 4, \"17\": 2, \"33\": 1, \"54\": 1, \"43\": 2, \"57\": 2, \"20\": 1, \"47\": 2}, \"16\": {\"16\": 125, \"33\": 1, \"7\": 3, \"36\": 2, \"45\": 3, \"54\": 3, \"23\": 2, \"9\": 1}, \"26\": {\"26\": 23, \"33\": 1}, \"57\": {\"6\": 1, \"35\": 3, \"20\": 1, \"19\": 10, \"57\": 72, \"45\": 6, \"1\": 6, \"34\": 1, \"56\": 10, \"37\": 2, \"26\": 2, \"44\": 7, \"9\": 4, \"29\": 1, \"54\": 1, \"12\": 1, \"47\": 5, \"51\": 3, \"46\": 1, \"18\": 1, \"17\": 1, \"53\": 2, \"25\": 3}, \"44\": {\"35\": 7, \"44\": 47, \"45\": 3, \"56\": 9, \"47\": 26, \"54\": 3, \"32\": 3, \"57\": 2, \"1\": 4, \"51\": 2, \"19\": 9, \"27\": 6, \"14\": 1, \"31\": 1, \"5\": 1, \"26\": 2, \"46\": 1, \"0\": 1}, \"0\": {\"0\": 142, \"54\": 1, \"23\": 7, \"38\": 2}, \"4\": {\"4\": 89, \"48\": 1, \"40\": 6, \"50\": 5, \"29\": 12, \"3\": 1, \"19\": 2, \"13\": 4, \"46\": 4, \"1\": 1, \"57\": 4, \"53\": 1, \"56\": 1, \"51\": 1}, \"31\": {\"32\": 1, \"11\": 1, \"31\": 21, \"24\": 1, \"39\": 3, \"38\": 1}, \"11\": {\"11\": 111, \"21\": 8, \"10\": 3, \"23\": 6, \"22\": 1, \"15\": 9, \"39\": 1, \"0\": 1}, \"6\": {\"6\": 28, \"35\": 1, \"8\": 13, \"46\": 1, \"53\": 5, \"18\": 6, \"50\": 4, \"25\": 8, \"48\": 7, \"9\": 4, \"30\": 9, \"17\": 2, \"2\": 2, \"5\": 3, \"16\": 1, \"47\": 1, \"13\": 1}, \"54\": {\"54\": 104}, \"17\": {\"2\": 4, \"33\": 1, \"17\": 26, \"8\": 6, \"25\": 2, \"14\": 1, \"6\": 2, \"53\": 10, \"30\": 2, \"56\": 1, \"48\": 2, \"50\": 4, \"5\": 1, \"19\": 1, \"46\": 1}, \"20\": {\"41\": 2, \"20\": 45, \"36\": 4, \"37\": 1, \"12\": 13, \"45\": 14, \"51\": 11, \"5\": 2, \"44\": 1, \"53\": 2, \"48\": 3, \"50\": 1, \"9\": 1, \"55\": 3, \"56\": 1, \"16\": 4, \"25\": 1, \"47\": 2, \"42\": 1, \"32\": 1, \"14\": 2, \"17\": 3, \"13\": 1, \"24\": 2, \"18\": 2, \"54\": 1, \"30\": 1, \"57\": 1, \"22\": 1, \"46\": 1}, \"13\": {\"13\": 93, \"47\": 6, \"56\": 4, \"51\": 5, \"46\": 3, \"19\": 9, \"45\": 2, \"1\": 2, \"53\": 3, \"35\": 2, \"8\": 1, \"6\": 1, \"3\": 7, \"44\": 4, \"20\": 2, \"48\": 2, \"57\": 1, \"27\": 1, \"25\": 1, \"50\": 1}, \"33\": {\"33\": 32}, \"24\": {\"24\": 91, \"22\": 13, \"52\": 3, \"11\": 1}, \"52\": {\"52\": 100, \"24\": 15, \"22\": 9, \"27\": 3, \"0\": 2, \"39\": 1, \"32\": 1, \"43\": 1}, \"2\": {\"33\": 3, \"2\": 27, \"6\": 1, \"5\": 1, \"18\": 1, \"17\": 1, \"30\": 2}, \"19\": {\"16\": 4, \"34\": 1, \"25\": 6, \"1\": 15, \"12\": 2, \"19\": 63, \"35\": 1, \"26\": 2, \"51\": 2, \"45\": 16, \"30\": 1, \"5\": 4, \"44\": 12, \"42\": 1, \"56\": 15, \"47\": 6, \"57\": 2, \"18\": 1, \"9\": 1, \"20\": 1}, \"39\": {\"39\": 28}, \"8\": {\"8\": 123, \"30\": 15, \"25\": 2}, \"21\": {\"21\": 117, \"15\": 7}, \"10\": {\"10\": 76, \"11\": 9, \"21\": 2, \"43\": 3, \"15\": 2, \"39\": 2, \"22\": 1, \"27\": 1}, \"37\": {\"34\": 1, \"37\": 14, \"26\": 5, \"14\": 1, \"55\": 2, \"42\": 3, \"25\": 1, \"45\": 2, \"7\": 1, \"32\": 1, \"54\": 1}, \"25\": {\"25\": 60, \"57\": 2, \"6\": 5, \"5\": 5, \"8\": 18, \"26\": 2, \"2\": 4, \"14\": 3, \"30\": 14, \"56\": 2, \"18\": 5, \"53\": 2, \"9\": 7, \"45\": 2, \"48\": 2, \"20\": 2, \"16\": 1, \"37\": 2, \"17\": 2, \"54\": 1, \"23\": 2, \"55\": 1}, \"27\": {\"27\": 127, \"43\": 2, \"11\": 1}, \"23\": {\"23\": 135, \"0\": 1}, \"1\": {\"1\": 38, \"56\": 14, \"32\": 1, \"42\": 1, \"45\": 6, \"19\": 7, \"0\": 1, \"35\": 2, \"44\": 5, \"25\": 2, \"54\": 3, \"47\": 7, \"46\": 3, \"16\": 1, \"37\": 1, \"26\": 1, \"20\": 2, \"57\": 3, \"5\": 1, \"6\": 1}, \"50\": {\"50\": 114, \"48\": 18, \"53\": 9, \"6\": 3, \"17\": 3, \"46\": 4, \"47\": 1}, \"12\": {\"12\": 109, \"16\": 4, \"22\": 1, \"45\": 1, \"23\": 1}, \"18\": {\"18\": 71, \"9\": 1}, \"38\": {\"38\": 24}, \"14\": {\"56\": 1, \"14\": 13, \"18\": 6, \"8\": 2, \"9\": 2}, \"56\": {\"34\": 2, \"56\": 41, \"44\": 9, \"42\": 1, \"28\": 1, \"45\": 19, \"19\": 14, \"35\": 3, \"5\": 3, \"47\": 25, \"55\": 1, \"1\": 8, \"54\": 5, \"8\": 1, \"36\": 1, \"7\": 1, \"0\": 1, \"25\": 1, \"27\": 2, \"9\": 1, \"57\": 1, \"16\": 1}, \"55\": {\"55\": 155, \"34\": 2, \"5\": 2, \"33\": 1}, \"9\": {\"9\": 133, \"18\": 3, \"16\": 2}, \"15\": {\"15\": 126, \"21\": 12, \"23\": 4, \"11\": 4}, \"28\": {\"28\": 27, \"22\": 1}, \"7\": {\"7\": 27, \"33\": 1}, \"43\": {\"43\": 135, \"52\": 1}, \"22\": {\"22\": 104, \"28\": 1, \"24\": 16, \"52\": 11, \"7\": 1, \"11\": 1, \"23\": 1, \"0\": 1}}, \"C_3\": {\"1\": {\"1\": 93, \"31\": 1, \"34\": 1, \"47\": 3, \"57\": 1, \"5\": 1}, \"9\": {\"28\": 3, \"47\": 8, \"33\": 1, \"1\": 9, \"9\": 60, \"46\": 3, \"22\": 2, \"18\": 1, \"57\": 11, \"51\": 1, \"29\": 6, \"48\": 2, \"36\": 1, \"27\": 6, \"17\": 3, \"5\": 1, \"34\": 1, \"30\": 1, \"37\": 1, \"20\": 1, \"16\": 2}, \"22\": {\"22\": 121, \"5\": 1, \"43\": 2, \"24\": 3, \"56\": 7, \"10\": 1, \"55\": 1}, \"43\": {\"43\": 135, \"7\": 1}, \"49\": {\"49\": 20}, \"50\": {\"50\": 44, \"16\": 1, \"36\": 2, \"52\": 1, \"54\": 6, \"27\": 11, \"25\": 2, \"6\": 8, \"8\": 4, \"46\": 13, \"47\": 2, \"12\": 4, \"22\": 4, \"20\": 4, \"56\": 2, \"30\": 10, \"21\": 3, \"3\": 3, \"53\": 5, \"55\": 1, \"39\": 1, \"17\": 1, \"18\": 3, \"48\": 1, \"23\": 2}, \"53\": {\"8\": 7, \"25\": 5, \"36\": 1, \"51\": 12, \"6\": 2, \"53\": 67, \"38\": 1, \"17\": 6, \"50\": 5, \"12\": 7, \"27\": 8, \"54\": 4, \"55\": 3, \"48\": 2, \"33\": 1, \"20\": 1, \"1\": 2, \"5\": 1, \"9\": 1}, \"10\": {\"10\": 60, \"24\": 3, \"43\": 1}, \"48\": {\"48\": 94, \"23\": 7, \"12\": 1, \"6\": 1, \"26\": 1, \"5\": 5, \"46\": 4, \"53\": 1, \"51\": 1, \"2\": 1}, \"8\": {\"50\": 11, \"8\": 31, \"47\": 3, \"25\": 3, \"17\": 6, \"28\": 1, \"48\": 1, \"54\": 3, \"20\": 13, \"46\": 7, \"53\": 12, \"30\": 16, \"6\": 4, \"18\": 4, \"12\": 6, \"51\": 3, \"36\": 2, \"27\": 9, \"55\": 1, \"41\": 1, \"21\": 1}, \"31\": {\"31\": 24, \"28\": 1, \"22\": 2, \"47\": 1}, \"56\": {\"56\": 133, \"7\": 1}, \"25\": {\"9\": 1, \"53\": 18, \"46\": 8, \"25\": 38, \"36\": 5, \"12\": 9, \"37\": 1, \"33\": 2, \"8\": 7, \"17\": 9, \"30\": 6, \"47\": 1, \"27\": 7, \"54\": 6, \"50\": 8, \"18\": 2, \"20\": 2, \"48\": 2, \"56\": 1, \"6\": 1, \"51\": 3, \"35\": 1, \"3\": 2, \"23\": 2}, \"28\": {\"28\": 21, \"1\": 1, \"47\": 2, \"34\": 2, \"57\": 1, \"5\": 1}, \"38\": {\"9\": 2, \"46\": 1, \"51\": 2, \"12\": 1, \"38\": 10, \"33\": 2, \"16\": 4, \"17\": 1, \"21\": 2, \"20\": 1, \"30\": 1, \"53\": 1}, \"5\": {\"5\": 93, \"1\": 2, \"6\": 1, \"48\": 2, \"46\": 2, \"34\": 2, \"16\": 5, \"23\": 4, \"57\": 3, \"33\": 1, \"0\": 1}, \"12\": {\"12\": 48, \"51\": 11, \"45\": 1, \"8\": 6, \"30\": 1, \"55\": 1, \"50\": 7, \"25\": 3, \"17\": 2, \"53\": 2, \"20\": 2, \"21\": 1, \"6\": 3, \"36\": 1, \"54\": 1, \"48\": 1, \"3\": 1}, \"6\": {\"6\": 56, \"41\": 5, \"42\": 1, \"7\": 1, \"18\": 3, \"54\": 2, \"23\": 2, \"46\": 4, \"30\": 2, \"48\": 3, \"26\": 1, \"3\": 3, \"52\": 1, \"50\": 1, \"55\": 2, \"8\": 1}, \"19\": {\"19\": 89, \"40\": 2, \"51\": 4, \"32\": 2, \"37\": 3, \"14\": 3, \"4\": 12, \"45\": 2, \"29\": 10, \"3\": 2, \"0\": 1, \"21\": 3, \"47\": 2, \"17\": 2, \"53\": 2, \"25\": 4, \"36\": 3, \"20\": 1, \"22\": 1, \"44\": 2, \"9\": 1, \"27\": 1}, \"26\": {\"26\": 22, \"48\": 1, \"6\": 1}, \"32\": {\"46\": 2, \"26\": 1, \"32\": 18, \"36\": 2, \"27\": 1, \"17\": 3, \"41\": 1}, \"33\": {\"6\": 3, \"28\": 1, \"17\": 2, \"48\": 2, \"41\": 2, \"37\": 2, \"25\": 3, \"33\": 5, \"8\": 2, \"27\": 1, \"46\": 1, \"3\": 1, \"54\": 2, \"12\": 1}, \"3\": {\"6\": 13, \"36\": 2, \"46\": 14, \"3\": 21, \"26\": 1, \"8\": 3, \"25\": 1, \"23\": 2, \"47\": 1, \"27\": 13, \"18\": 3, \"20\": 2, \"10\": 2, \"48\": 11, \"17\": 4, \"50\": 2, \"13\": 1, \"30\": 7, \"56\": 2, \"28\": 1, \"41\": 2, \"35\": 1, \"29\": 2, \"9\": 1, \"22\": 1, \"54\": 2, \"21\": 1, \"57\": 1, \"55\": 1}, \"51\": {\"38\": 4, \"12\": 9, \"51\": 53, \"39\": 1, \"20\": 3, \"45\": 1, \"8\": 2, \"30\": 3, \"50\": 6, \"53\": 10, \"32\": 1, \"54\": 3, \"27\": 2, \"9\": 5, \"25\": 7, \"21\": 8, \"17\": 2, \"55\": 1, \"6\": 1, \"18\": 1, \"13\": 1, \"57\": 2, \"47\": 1, \"16\": 1}, \"16\": {\"46\": 3, \"18\": 2, \"16\": 112, \"23\": 11, \"48\": 2, \"52\": 3, \"20\": 3, \"15\": 1, \"5\": 1}, \"46\": {\"46\": 61, \"16\": 9, \"27\": 3, \"30\": 5, \"3\": 4, \"26\": 2, \"21\": 2, \"6\": 5, \"52\": 2, \"23\": 14, \"18\": 5, \"17\": 3, \"20\": 4, \"5\": 6, \"50\": 3, \"48\": 8, \"57\": 1, \"47\": 1, \"31\": 1, \"8\": 1}, \"7\": {\"43\": 1, \"7\": 34, \"24\": 1}, \"47\": {\"47\": 72, \"23\": 2, \"28\": 2, \"31\": 4, \"5\": 2, \"46\": 1, \"15\": 1, \"34\": 2, \"48\": 4, \"1\": 1, \"57\": 1}, \"39\": {\"39\": 16}, \"40\": {\"40\": 73, \"14\": 2, \"45\": 3, \"19\": 18, \"12\": 1, \"44\": 8, \"4\": 15, \"25\": 3, \"51\": 2, \"13\": 2, \"29\": 1, \"53\": 1, \"38\": 2, \"17\": 3, \"21\": 1, \"9\": 1}, \"14\": {\"35\": 3, \"7\": 2, \"29\": 2, \"28\": 1, \"49\": 1, \"56\": 9, \"17\": 3, \"54\": 2, \"37\": 1, \"14\": 5, \"22\": 3, \"32\": 1, \"36\": 1, \"55\": 2, \"57\": 3, \"2\": 1}, \"37\": {\"47\": 3, \"37\": 18, \"21\": 3, \"5\": 1, \"46\": 1, \"6\": 1, \"48\": 1}, \"2\": {\"2\": 22, \"48\": 1, \"54\": 1, \"41\": 2, \"27\": 2, \"33\": 2, \"6\": 2}, \"21\": {\"43\": 1, \"38\": 3, \"3\": 2, \"27\": 15, \"51\": 6, \"21\": 34, \"23\": 5, \"5\": 1, \"34\": 1, \"52\": 10, \"50\": 2, \"22\": 1, \"53\": 8, \"13\": 3, \"18\": 3, \"8\": 2, \"6\": 2, \"46\": 3, \"16\": 1, \"9\": 2, \"20\": 3, \"12\": 1, \"37\": 1, \"17\": 1, \"2\": 1, \"31\": 1, \"1\": 1, \"25\": 3, \"48\": 1, \"30\": 1, \"29\": 1}, \"35\": {\"35\": 28}, \"54\": {\"54\": 51, \"35\": 1, \"48\": 13, \"36\": 2, \"41\": 4, \"46\": 2, \"22\": 1, \"47\": 1, \"8\": 4, \"6\": 4, \"53\": 4, \"17\": 2, \"25\": 2, \"27\": 3, \"50\": 1, \"30\": 2, \"51\": 1, \"3\": 2}, \"52\": {\"52\": 111, \"46\": 2, \"18\": 1, \"16\": 1, \"23\": 1}, \"29\": {\"28\": 2, \"29\": 53, \"48\": 1, \"12\": 1, \"17\": 3, \"46\": 1, \"34\": 1, \"1\": 7, \"47\": 3, \"5\": 1, \"9\": 14, \"21\": 2, \"57\": 10, \"36\": 2, \"55\": 1, \"20\": 2, \"22\": 4, \"3\": 3, \"27\": 3, \"14\": 1, \"50\": 1, \"25\": 1, \"8\": 1}, \"20\": {\"18\": 14, \"20\": 89, \"23\": 5, \"46\": 5, \"16\": 9, \"48\": 2, \"50\": 1, \"17\": 1, \"54\": 1, \"2\": 1, \"8\": 1, \"47\": 2, \"1\": 1}, \"18\": {\"18\": 69, \"16\": 1, \"20\": 4, \"30\": 2, \"6\": 1, \"23\": 3, \"46\": 2, \"27\": 1, \"52\": 1}, \"11\": {\"11\": 124, \"15\": 14, \"43\": 4}, \"0\": {\"0\": 120, \"39\": 1, \"47\": 2, \"5\": 1}, \"36\": {\"36\": 57, \"9\": 1, \"50\": 10, \"27\": 6, \"32\": 1, \"46\": 1, \"8\": 5, \"30\": 8, \"6\": 1, \"20\": 3, \"18\": 2, \"17\": 3, \"3\": 1, \"48\": 1}, \"17\": {\"33\": 1, \"36\": 2, \"17\": 42, \"54\": 10, \"18\": 4, \"41\": 1, \"21\": 1, \"8\": 3, \"50\": 11, \"1\": 3, \"46\": 4, \"57\": 1, \"53\": 2, \"20\": 2, \"27\": 4, \"55\": 2, \"25\": 2, \"22\": 1, \"2\": 1, \"26\": 1, \"42\": 1, \"38\": 1, \"30\": 2, \"6\": 2, \"9\": 1, \"56\": 1, \"3\": 1, \"47\": 1}, \"30\": {\"30\": 105, \"18\": 6, \"6\": 1, \"20\": 2}, \"42\": {\"42\": 25, \"54\": 2, \"55\": 1}, \"45\": {\"14\": 1, \"45\": 34, \"54\": 2, \"12\": 4, \"53\": 2, \"44\": 1, \"27\": 1, \"19\": 3, \"4\": 4, \"51\": 2, \"25\": 2, \"38\": 1, \"2\": 1, \"6\": 1, \"29\": 1}, \"4\": {\"19\": 22, \"29\": 7, \"4\": 90, \"33\": 1, \"53\": 4, \"25\": 4, \"12\": 2, \"3\": 1, \"55\": 2, \"51\": 1, \"8\": 1, \"56\": 1, \"21\": 1, \"37\": 1, \"9\": 3, \"36\": 2, \"45\": 2, \"17\": 1, \"35\": 1, \"30\": 1}, \"23\": {\"23\": 128, \"16\": 3, \"5\": 1, \"53\": 1, \"47\": 1}, \"13\": {\"56\": 12, \"43\": 2, \"13\": 64, \"55\": 5, \"22\": 8, \"7\": 2, \"51\": 1, \"12\": 1, \"40\": 1, \"24\": 7, \"9\": 3, \"1\": 1, \"6\": 4, \"50\": 1, \"27\": 2, \"5\": 3, \"3\": 3, \"8\": 1, \"14\": 1, \"36\": 1, \"28\": 1, \"54\": 1, \"46\": 1, \"21\": 1, \"48\": 1}, \"15\": {\"15\": 112, \"16\": 4, \"11\": 7, \"47\": 1, \"52\": 2, \"3\": 1, \"55\": 1}, \"57\": {\"47\": 9, \"57\": 88, \"28\": 4, \"36\": 1, \"46\": 3, \"1\": 8, \"23\": 1, \"48\": 1, \"9\": 6, \"34\": 1, \"0\": 1, \"5\": 1}, \"27\": {\"27\": 112, \"36\": 3, \"48\": 2, \"57\": 3, \"17\": 4, \"46\": 2, \"25\": 1, \"23\": 1, \"9\": 1, \"20\": 1, \"18\": 1, \"50\": 3}, \"44\": {\"44\": 55, \"45\": 4, \"51\": 3, \"40\": 6, \"4\": 5, \"19\": 5, \"29\": 3, \"13\": 1, \"54\": 1, \"53\": 1, \"14\": 1, \"36\": 2, \"55\": 1}, \"34\": {\"34\": 32}, \"41\": {\"41\": 27, \"3\": 1}, \"24\": {\"24\": 101, \"7\": 3}, \"55\": {\"55\": 97, \"6\": 3, \"54\": 2, \"24\": 2, \"48\": 4, \"56\": 2, \"9\": 1, \"5\": 1, \"17\": 1, \"36\": 1, \"22\": 2, \"3\": 2}}, \"C_4\": {\"52\": {\"52\": 114, \"16\": 1, \"46\": 1}, \"6\": {\"6\": 48, \"54\": 21, \"36\": 9, \"21\": 3, \"34\": 2, \"3\": 6, \"50\": 5, \"12\": 1, \"53\": 1, \"27\": 1, \"8\": 2, \"48\": 1, \"20\": 1, \"55\": 3, \"35\": 2, \"18\": 1, \"42\": 1, \"47\": 2, \"5\": 1, \"51\": 1}, \"14\": {\"14\": 4, \"38\": 1, \"31\": 1, \"24\": 1, \"28\": 1, \"22\": 4, \"55\": 1, \"50\": 1, \"35\": 1, \"4\": 1}, \"49\": {\"49\": 15, \"46\": 1, \"43\": 1, \"32\": 2, \"1\": 1}, \"0\": {\"0\": 75, \"43\": 2, \"5\": 1, \"32\": 1, \"11\": 1}, \"46\": {\"49\": 3, \"32\": 3, \"14\": 1, \"46\": 66, \"52\": 7, \"7\": 2, \"11\": 3, \"38\": 1, \"55\": 5, \"0\": 7, \"47\": 13, \"5\": 6, \"15\": 6, \"16\": 4, \"6\": 1, \"43\": 15, \"56\": 3, \"54\": 2, \"24\": 3, \"39\": 1, \"35\": 1, \"22\": 2, \"57\": 1}, \"41\": {\"41\": 36}, \"24\": {\"24\": 50, \"43\": 4, \"54\": 1, \"38\": 1}, \"25\": {\"25\": 33, \"36\": 5, \"54\": 1, \"20\": 12, \"30\": 2, \"12\": 8, \"51\": 5, \"3\": 3, \"21\": 8, \"42\": 1, \"28\": 2, \"23\": 4, \"27\": 22, \"6\": 9, \"18\": 4, \"8\": 11, \"17\": 1, \"53\": 6, \"50\": 4, \"48\": 7, \"9\": 2, \"57\": 1, \"47\": 1}, \"40\": {\"9\": 6, \"40\": 77, \"4\": 8, \"53\": 1, \"27\": 1, \"45\": 6, \"17\": 3, \"44\": 8, \"25\": 3, \"51\": 2, \"13\": 1, \"21\": 3, \"29\": 1, \"19\": 13, \"50\": 3, \"55\": 1, \"56\": 1}, \"38\": {\"38\": 40}, \"13\": {\"24\": 5, \"13\": 86, \"2\": 4, \"51\": 3, \"10\": 16, \"43\": 10, \"55\": 6, \"56\": 5, \"22\": 7, \"5\": 5, \"46\": 4, \"49\": 1}, \"9\": {\"6\": 2, \"14\": 1, \"9\": 45, \"55\": 4, \"4\": 12, \"50\": 7, \"17\": 4, \"27\": 3, \"53\": 1, \"36\": 3, \"48\": 5, \"56\": 3, \"29\": 3, \"21\": 2, \"8\": 2, \"47\": 2, \"25\": 2, \"20\": 3, \"54\": 1, \"3\": 1, \"19\": 1, \"51\": 1}, \"45\": {\"45\": 41, \"19\": 12, \"17\": 2, \"12\": 5, \"9\": 2, \"44\": 6, \"51\": 1, \"50\": 2, \"21\": 3, \"36\": 1, \"53\": 2, \"4\": 4, \"40\": 6, \"56\": 1, \"54\": 2, \"25\": 1, \"29\": 1, \"48\": 1, \"27\": 1, \"46\": 1, \"8\": 1}, \"43\": {\"43\": 144}, \"10\": {\"10\": 115, \"24\": 5, \"22\": 4, \"43\": 2, \"46\": 1, \"56\": 2, \"0\": 1}, \"15\": {\"11\": 18, \"15\": 99, \"35\": 1, \"16\": 4, \"46\": 3, \"52\": 2, \"55\": 1}, \"39\": {\"39\": 20}, \"4\": {\"6\": 2, \"4\": 76, \"55\": 4, \"36\": 1, \"29\": 7, \"26\": 1, \"30\": 1, \"9\": 14, \"3\": 5, \"47\": 1, \"19\": 7, \"27\": 1, \"56\": 1, \"50\": 5, \"46\": 1, \"48\": 1, \"54\": 1, \"5\": 1, \"57\": 1, \"13\": 1}, \"53\": {\"21\": 6, \"28\": 1, \"27\": 12, \"53\": 39, \"20\": 7, \"12\": 12, \"3\": 5, \"36\": 6, \"54\": 3, \"42\": 1, \"51\": 7, \"18\": 3, \"8\": 6, \"29\": 2, \"23\": 4, \"50\": 4, \"56\": 1, \"35\": 1, \"17\": 1, \"34\": 1, \"48\": 5, \"30\": 1, \"57\": 1, \"25\": 2, \"40\": 1}, \"1\": {\"1\": 35, \"49\": 2, \"32\": 1, \"56\": 1, \"7\": 1}, \"28\": {\"42\": 2, \"28\": 17, \"57\": 1, \"34\": 1, \"27\": 3, \"23\": 1, \"47\": 2, \"25\": 1, \"36\": 1, \"31\": 1, \"54\": 2}, \"54\": {\"54\": 100, \"51\": 2, \"35\": 2, \"6\": 2, \"30\": 1, \"3\": 1}, \"21\": {\"53\": 5, \"21\": 76, \"12\": 6, \"25\": 11, \"20\": 4, \"8\": 4, \"51\": 3, \"17\": 3, \"55\": 2, \"23\": 1, \"47\": 1, \"18\": 2, \"50\": 3, \"54\": 2, \"27\": 3, \"33\": 1, \"26\": 1, \"28\": 1, \"6\": 1, \"9\": 1, \"56\": 1}, \"7\": {\"7\": 20, \"34\": 1, \"46\": 1, \"1\": 1, \"54\": 1}, \"8\": {\"53\": 12, \"42\": 3, \"8\": 44, \"36\": 13, \"30\": 3, \"20\": 7, \"17\": 4, \"47\": 2, \"18\": 4, \"12\": 1, \"48\": 4, \"23\": 4, \"50\": 7, \"27\": 13, \"3\": 4, \"54\": 2, \"55\": 1, \"6\": 1, \"25\": 4, \"5\": 1, \"21\": 1, \"56\": 1}, \"42\": {\"42\": 32}, \"11\": {\"15\": 24, \"11\": 62, \"54\": 1, \"43\": 11, \"0\": 1, \"52\": 3, \"16\": 1, \"24\": 1}, \"33\": {\"57\": 1, \"33\": 15, \"35\": 5, \"17\": 2, \"29\": 2, \"4\": 1, \"47\": 1, \"20\": 1, \"14\": 1, \"36\": 2, \"31\": 1, \"6\": 1, \"26\": 1, \"55\": 1, \"28\": 1}, \"27\": {\"27\": 110, \"50\": 1, \"17\": 1, \"8\": 2, \"6\": 4, \"48\": 7, \"25\": 2, \"36\": 4, \"3\": 5, \"34\": 1, \"30\": 1, \"20\": 3, \"55\": 1}, \"19\": {\"4\": 16, \"9\": 13, \"19\": 72, \"45\": 4, \"33\": 3, \"17\": 1, \"13\": 1, \"44\": 11, \"25\": 4, \"55\": 1, \"36\": 1, \"40\": 4, \"50\": 2, \"48\": 2, \"31\": 1, \"56\": 2, \"29\": 3, \"6\": 1, \"21\": 1, \"3\": 1}, \"2\": {\"2\": 35, \"43\": 1}, \"3\": {\"3\": 68, \"6\": 4, \"25\": 1, \"54\": 13, \"42\": 3, \"55\": 4, \"57\": 1, \"27\": 6, \"48\": 4, \"36\": 1, \"51\": 2, \"20\": 1, \"8\": 2, \"34\": 3, \"35\": 1, \"5\": 2, \"56\": 1, \"23\": 2, \"46\": 1}, \"57\": {\"57\": 83, \"39\": 1, \"16\": 2, \"1\": 4, \"47\": 7, \"54\": 1, \"29\": 2}, \"20\": {\"57\": 1, \"20\": 56, \"42\": 6, \"36\": 3, \"23\": 10, \"18\": 14, \"25\": 2, \"6\": 2, \"8\": 3, \"50\": 2, \"47\": 2, \"5\": 5, \"29\": 1, \"48\": 2, \"53\": 2, \"27\": 1}, \"23\": {\"23\": 121, \"18\": 6, \"42\": 1}, \"22\": {\"22\": 127, \"56\": 1}, \"29\": {\"57\": 13, \"51\": 1, \"29\": 62, \"48\": 9, \"47\": 7, \"35\": 2, \"3\": 1, \"55\": 3, \"46\": 6, \"56\": 6, \"4\": 1, \"54\": 1, \"1\": 1, \"28\": 2, \"39\": 1, \"50\": 3, \"36\": 2, \"5\": 1, \"20\": 1, \"25\": 1}, \"36\": {\"36\": 86, \"27\": 1, \"39\": 1, \"30\": 1, \"21\": 1, \"6\": 2}, \"51\": {\"51\": 36, \"57\": 6, \"12\": 5, \"21\": 4, \"33\": 1, \"23\": 2, \"25\": 6, \"30\": 1, \"42\": 1, \"17\": 1, \"27\": 14, \"16\": 3, \"20\": 8, \"3\": 2, \"53\": 11, \"9\": 2, \"47\": 2, \"50\": 2, \"36\": 1, \"29\": 5, \"8\": 4, \"52\": 1, \"18\": 5, \"6\": 2, \"48\": 4, \"5\": 1, \"28\": 1, \"13\": 1}, \"31\": {\"31\": 22, \"27\": 1, \"33\": 1, \"28\": 2, \"56\": 1, \"21\": 1}, \"12\": {\"12\": 67, \"8\": 4, \"55\": 1, \"17\": 1, \"30\": 1, \"21\": 6, \"50\": 4, \"53\": 4, \"51\": 1, \"1\": 1, \"35\": 1, \"48\": 1}, \"56\": {\"56\": 128, \"2\": 1, \"38\": 2, \"13\": 1, \"24\": 3, \"10\": 1, \"43\": 1, \"55\": 1}, \"5\": {\"5\": 53, \"41\": 3, \"54\": 11, \"16\": 11, \"23\": 7, \"6\": 4, \"52\": 4, \"47\": 1, \"15\": 8, \"11\": 4, \"46\": 2}, \"35\": {\"1\": 1, \"35\": 37, \"51\": 1, \"21\": 1}, \"17\": {\"17\": 16, \"33\": 1, \"50\": 4, \"27\": 6, \"8\": 4, \"31\": 1, \"28\": 3, \"36\": 6, \"54\": 5, \"48\": 1, \"56\": 2, \"14\": 3, \"30\": 3, \"29\": 1, \"12\": 1, \"53\": 4, \"3\": 3, \"21\": 2, \"6\": 5, \"9\": 2, \"4\": 1, \"38\": 1, \"57\": 3, \"25\": 1, \"20\": 1}, \"32\": {\"32\": 23, \"47\": 1}, \"47\": {\"47\": 111, \"23\": 1, \"42\": 1, \"5\": 2, \"46\": 4, \"32\": 1}, \"18\": {\"18\": 88, \"23\": 9, \"12\": 1, \"25\": 1, \"21\": 1, \"42\": 1, \"41\": 1, \"16\": 2, \"36\": 2, \"5\": 1, \"8\": 1}, \"26\": {\"26\": 12, \"34\": 4, \"29\": 1, \"3\": 1, \"54\": 3, \"14\": 2, \"35\": 1}, \"50\": {\"55\": 4, \"27\": 13, \"50\": 23, \"17\": 1, \"34\": 2, \"42\": 1, \"6\": 7, \"30\": 2, \"54\": 9, \"8\": 8, \"21\": 6, \"25\": 4, \"48\": 7, \"3\": 11, \"12\": 2, \"53\": 6, \"4\": 2, \"29\": 2, \"5\": 2, \"56\": 3, \"57\": 1, \"28\": 1, \"36\": 1, \"47\": 1, \"18\": 1, \"51\": 1, \"23\": 1}, \"55\": {\"55\": 66, \"54\": 10, \"30\": 2, \"43\": 1, \"57\": 1, \"8\": 1, \"36\": 1, \"4\": 3, \"3\": 10, \"46\": 2, \"6\": 5, \"13\": 1, \"21\": 1, \"5\": 1, \"48\": 6, \"50\": 3, \"56\": 3, \"29\": 2, \"14\": 1, \"24\": 1, \"26\": 1, \"47\": 1, \"25\": 1}, \"34\": {\"34\": 24}, \"30\": {\"12\": 7, \"34\": 1, \"8\": 6, \"3\": 1, \"27\": 2, \"30\": 12, \"25\": 1, \"54\": 1, \"36\": 4, \"42\": 1, \"35\": 1, \"17\": 1, \"53\": 1, \"21\": 3, \"6\": 1, \"18\": 1}, \"37\": {\"31\": 2, \"37\": 19, \"24\": 1, \"51\": 1, \"10\": 1}, \"44\": {\"40\": 9, \"4\": 11, \"19\": 16, \"44\": 72, \"26\": 1, \"45\": 5, \"17\": 2, \"9\": 7, \"8\": 1, \"50\": 1, \"55\": 3, \"6\": 1, \"35\": 1, \"29\": 2}, \"48\": {\"48\": 63, \"36\": 2, \"54\": 3, \"3\": 11, \"17\": 1, \"34\": 1, \"56\": 2, \"46\": 1, \"5\": 2, \"23\": 10, \"6\": 3, \"27\": 3, \"29\": 2, \"55\": 2, \"28\": 3, \"47\": 5, \"57\": 1, \"44\": 1, \"50\": 1, \"53\": 1}, \"16\": {\"16\": 87, \"23\": 1, \"5\": 2, \"52\": 5, \"15\": 1}}, \"C_2\": {\"11\": {\"11\": 118, \"15\": 2, \"43\": 5, \"5\": 4, \"16\": 1}, \"21\": {\"21\": 51, \"48\": 1, \"52\": 15, \"27\": 2, \"1\": 1, \"51\": 5, \"30\": 1, \"50\": 8, \"12\": 3, \"47\": 1, \"17\": 1, \"23\": 7, \"6\": 5, \"5\": 2, \"16\": 4, \"8\": 5, \"46\": 2, \"20\": 2, \"26\": 1, \"28\": 1, \"55\": 1, \"36\": 1}, \"19\": {\"21\": 3, \"19\": 65, \"29\": 12, \"32\": 1, \"17\": 6, \"9\": 12, \"42\": 1, \"4\": 15, \"45\": 2, \"27\": 2, \"3\": 3, \"25\": 2, \"22\": 3, \"55\": 3, \"37\": 1, \"7\": 1, \"36\": 3, \"20\": 1, \"47\": 1, \"44\": 2, \"40\": 1}, \"20\": {\"20\": 51, \"12\": 8, \"18\": 4, \"17\": 3, \"54\": 1, \"30\": 4, \"21\": 1, \"53\": 16, \"27\": 8, \"36\": 1, \"52\": 2, \"25\": 4, \"8\": 10, \"51\": 3, \"50\": 5, \"7\": 1, \"6\": 2, \"46\": 2, \"48\": 2}, \"9\": {\"32\": 2, \"9\": 62, \"29\": 12, \"21\": 2, \"14\": 1, \"56\": 1, \"17\": 7, \"25\": 4, \"36\": 2, \"55\": 6, \"22\": 1, \"3\": 2, \"51\": 3, \"44\": 1, \"4\": 14, \"19\": 10, \"8\": 2, \"47\": 1, \"45\": 3, \"18\": 1, \"27\": 2, \"53\": 1}, \"10\": {\"10\": 102, \"22\": 1, \"43\": 3, \"24\": 5, \"15\": 1}, \"37\": {\"37\": 30, \"13\": 3, \"3\": 1, \"21\": 2}, \"32\": {\"50\": 2, \"32\": 8, \"36\": 2, \"27\": 3, \"33\": 1, \"30\": 3, \"2\": 2, \"51\": 1, \"1\": 1, \"6\": 1, \"17\": 1, \"57\": 2, \"49\": 1}, \"3\": {\"46\": 6, \"50\": 1, \"29\": 3, \"18\": 5, \"34\": 3, \"2\": 3, \"3\": 22, \"54\": 6, \"26\": 1, \"42\": 1, \"6\": 10, \"36\": 6, \"16\": 3, \"13\": 4, \"48\": 3, \"21\": 1, \"25\": 1, \"23\": 2, \"32\": 2, \"7\": 2, \"49\": 1, \"55\": 1, \"27\": 3, \"30\": 1, \"24\": 1}, \"39\": {\"39\": 28}, \"45\": {\"45\": 43, \"29\": 4, \"26\": 1, \"53\": 7, \"25\": 6, \"20\": 5, \"51\": 4, \"44\": 6, \"4\": 11, \"40\": 1, \"36\": 1, \"9\": 5, \"6\": 2, \"3\": 1, \"19\": 10, \"56\": 3, \"22\": 4, \"14\": 1, \"8\": 4, \"12\": 3, \"27\": 1, \"50\": 1, \"54\": 1, \"48\": 1, \"13\": 1, \"55\": 1}, \"50\": {\"12\": 4, \"50\": 38, \"54\": 7, \"48\": 3, \"3\": 1, \"49\": 2, \"6\": 8, \"27\": 21, \"30\": 12, \"0\": 1, \"26\": 2, \"51\": 4, \"53\": 5, \"16\": 2, \"23\": 1, \"20\": 4, \"46\": 6, \"47\": 1, \"56\": 1, \"21\": 1, \"18\": 5, \"8\": 2, \"52\": 2, \"36\": 2, \"25\": 1}, \"40\": {\"19\": 8, \"35\": 5, \"29\": 4, \"40\": 78, \"4\": 10, \"9\": 10, \"44\": 2, \"45\": 12, \"13\": 3, \"17\": 1, \"25\": 1, \"55\": 2, \"37\": 1, \"20\": 1, \"36\": 1, \"51\": 1}, \"46\": {\"46\": 57, \"50\": 3, \"48\": 19, \"34\": 3, \"7\": 5, \"6\": 8, \"54\": 1, \"52\": 3, \"23\": 10, \"5\": 2, \"25\": 1, \"8\": 1, \"47\": 3, \"18\": 1, \"41\": 2, \"28\": 1, \"31\": 1, \"55\": 1, \"3\": 3, \"36\": 1, \"57\": 1, \"30\": 1}, \"12\": {\"20\": 7, \"50\": 7, \"3\": 1, \"34\": 2, \"39\": 1, \"12\": 32, \"27\": 7, \"49\": 1, \"53\": 4, \"54\": 4, \"6\": 7, \"51\": 3, \"16\": 2, \"22\": 1, \"18\": 1, \"8\": 3, \"1\": 1, \"30\": 5, \"46\": 1, \"36\": 2}, \"13\": {\"13\": 60, \"3\": 1, \"41\": 1, \"34\": 2, \"28\": 1, \"56\": 11, \"42\": 1, \"43\": 3, \"24\": 6, \"22\": 8, \"10\": 5, \"50\": 3, \"1\": 1, \"21\": 2, \"55\": 4, \"2\": 1, \"31\": 1, \"46\": 2, \"51\": 1, \"5\": 1, \"12\": 1}, \"47\": {\"43\": 3, \"47\": 108, \"23\": 5, \"1\": 9, \"48\": 1, \"5\": 3, \"0\": 1, \"16\": 2}, \"15\": {\"15\": 138, \"0\": 1, \"11\": 3}, \"54\": {\"54\": 52, \"34\": 5, \"50\": 8, \"26\": 2, \"6\": 7, \"20\": 6, \"48\": 4, \"2\": 1, \"3\": 2, \"12\": 5, \"51\": 4, \"46\": 2, \"27\": 6, \"25\": 1, \"56\": 1, \"53\": 1, \"55\": 1}, \"48\": {\"48\": 127, \"34\": 2, \"46\": 5, \"23\": 8, \"16\": 1, \"3\": 2, \"6\": 2, \"5\": 1}, \"23\": {\"23\": 133, \"16\": 4, \"48\": 3, \"30\": 1, \"46\": 1}, \"29\": {\"29\": 67, \"19\": 6, \"49\": 1, \"6\": 2, \"22\": 5, \"33\": 6, \"27\": 1, \"47\": 1, \"36\": 7, \"55\": 6, \"3\": 2, \"9\": 6, \"17\": 4, \"51\": 1, \"57\": 4, \"1\": 3, \"56\": 1, \"32\": 1, \"50\": 1, \"46\": 1, \"21\": 1, \"4\": 1}, \"38\": {\"38\": 19, \"24\": 1}, \"53\": {\"53\": 60, \"8\": 10, \"18\": 1, \"6\": 1, \"36\": 2, \"26\": 2, \"27\": 9, \"25\": 5, \"51\": 12, \"12\": 3, \"17\": 2, \"54\": 6, \"20\": 9, \"50\": 6, \"47\": 2, \"21\": 1, \"48\": 3, \"45\": 1, \"49\": 1}, \"27\": {\"27\": 131, \"53\": 1, \"17\": 1, \"50\": 4, \"8\": 4, \"6\": 4, \"3\": 1, \"20\": 1, \"48\": 1, \"23\": 1, \"54\": 1}, \"43\": {\"43\": 141, \"24\": 2, \"55\": 1}, \"35\": {\"35\": 23, \"9\": 2, \"40\": 4, \"44\": 1, \"4\": 1, \"37\": 1}, \"0\": {\"0\": 47, \"47\": 1}, \"52\": {\"52\": 114, \"15\": 3, \"16\": 3, \"8\": 1, \"46\": 1, \"5\": 1, \"23\": 1}, \"8\": {\"8\": 34, \"18\": 5, \"26\": 1, \"27\": 21, \"30\": 8, \"54\": 1, \"46\": 1, \"25\": 4, \"17\": 1, \"12\": 5, \"53\": 8, \"6\": 7, \"7\": 1, \"50\": 9, \"57\": 2, \"23\": 2, \"55\": 1, \"20\": 4, \"48\": 5, \"49\": 2, \"51\": 4, \"36\": 1, \"21\": 1}, \"24\": {\"10\": 3, \"24\": 87, \"38\": 2, \"43\": 4}, \"18\": {\"18\": 46, \"30\": 1, \"23\": 1}, \"25\": {\"25\": 25, \"8\": 10, \"12\": 3, \"23\": 2, \"32\": 1, \"26\": 1, \"49\": 2, \"29\": 3, \"53\": 16, \"14\": 1, \"27\": 24, \"51\": 7, \"54\": 7, \"55\": 2, \"17\": 4, \"50\": 8, \"30\": 3, \"20\": 9, \"36\": 3, \"21\": 5, \"48\": 1, \"57\": 1, \"13\": 1, \"47\": 1, \"6\": 3, \"18\": 1, \"46\": 1, \"56\": 1, \"3\": 1, \"22\": 1}, \"57\": {\"57\": 124, \"1\": 6, \"16\": 1, \"47\": 3, \"5\": 1, \"48\": 1}, \"55\": {\"8\": 2, \"55\": 75, \"28\": 2, \"56\": 8, \"1\": 3, \"54\": 4, \"42\": 2, \"47\": 5, \"6\": 8, \"48\": 2, \"12\": 1, \"46\": 4, \"22\": 5, \"24\": 1, \"36\": 1, \"7\": 1, \"32\": 2, \"29\": 1, \"20\": 1, \"23\": 1, \"5\": 2, \"50\": 1, \"53\": 1, \"25\": 1}, \"36\": {\"36\": 75, \"3\": 3, \"48\": 3, \"32\": 1, \"27\": 11, \"46\": 2, \"54\": 2, \"8\": 4, \"6\": 6, \"50\": 5, \"25\": 1, \"30\": 2, \"55\": 1}, \"17\": {\"32\": 1, \"34\": 1, \"49\": 2, \"17\": 37, \"57\": 15, \"46\": 3, \"50\": 8, \"48\": 8, \"25\": 3, \"36\": 6, \"27\": 6, \"1\": 1, \"30\": 2, \"6\": 7, \"33\": 1, \"18\": 1, \"23\": 2}, \"2\": {\"34\": 8, \"41\": 2, \"23\": 1, \"2\": 10, \"48\": 6, \"55\": 1, \"5\": 1, \"3\": 1, \"32\": 1, \"49\": 1}, \"34\": {\"34\": 28}, \"1\": {\"1\": 102, \"43\": 1, \"47\": 5, \"5\": 1, \"31\": 2, \"48\": 1}, \"51\": {\"12\": 11, \"18\": 2, \"51\": 37, \"57\": 1, \"6\": 5, \"49\": 2, \"30\": 2, \"48\": 3, \"20\": 10, \"27\": 12, \"50\": 10, \"46\": 3, \"25\": 9, \"23\": 3, \"53\": 12, \"56\": 1, \"8\": 6, \"17\": 2, \"34\": 1, \"21\": 2, \"3\": 1, \"16\": 1}, \"31\": {\"28\": 3, \"31\": 17, \"47\": 2, \"1\": 4, \"7\": 2}, \"49\": {\"49\": 21, \"18\": 2, \"34\": 1}, \"14\": {\"28\": 1, \"33\": 1, \"14\": 10, \"22\": 2, \"43\": 1, \"24\": 5, \"47\": 1, \"38\": 1, \"32\": 1, \"55\": 1}, \"33\": {\"27\": 3, \"33\": 11, \"0\": 1, \"19\": 1, \"18\": 1, \"31\": 1, \"32\": 1, \"42\": 1, \"9\": 2, \"57\": 3, \"46\": 1, \"29\": 1, \"17\": 1}, \"41\": {\"41\": 20}, \"28\": {\"28\": 26, \"22\": 1, \"55\": 1}, \"5\": {\"5\": 114, \"48\": 1, \"43\": 1, \"57\": 2, \"31\": 1, \"52\": 1}, \"16\": {\"16\": 135, \"23\": 11, \"5\": 1, \"18\": 1, \"48\": 1, \"15\": 1}, \"4\": {\"4\": 71, \"45\": 5, \"9\": 9, \"19\": 20, \"46\": 1, \"29\": 7, \"47\": 1, \"40\": 2, \"55\": 3, \"25\": 2, \"33\": 2, \"14\": 1, \"36\": 3, \"3\": 1}, \"22\": {\"22\": 117, \"43\": 5, \"56\": 11, \"5\": 1, \"24\": 2}, \"6\": {\"3\": 2, \"6\": 56, \"23\": 4, \"34\": 1, \"18\": 5, \"54\": 6, \"50\": 2, \"30\": 6, \"27\": 4, \"46\": 11, \"16\": 2, \"48\": 7, \"51\": 2, \"36\": 3, \"56\": 1, \"25\": 1, \"49\": 1, \"28\": 1, \"55\": 1, \"20\": 1, \"53\": 1}, \"30\": {\"30\": 117, \"18\": 2, \"23\": 2, \"6\": 3}, \"26\": {\"26\": 9, \"12\": 1, \"27\": 2, \"50\": 4, \"53\": 6, \"48\": 1, \"34\": 1}, \"56\": {\"56\": 118, \"24\": 3, \"22\": 19, \"43\": 2}, \"42\": {\"42\": 35, \"31\": 1}, \"44\": {\"44\": 62, \"45\": 3, \"35\": 2, \"20\": 1, \"13\": 3, \"19\": 5, \"55\": 6, \"29\": 1, \"51\": 2, \"4\": 5, \"40\": 3, \"3\": 2, \"37\": 1, \"9\": 2, \"53\": 1, \"22\": 1}, \"7\": {\"7\": 36}}}, \"per_domain_accuracy\": {\"O_26\": {\"accuracy\": 0.6317708333333333, \"source?\": true}, \"O_44\": {\"accuracy\": 0.7236979166666667, \"source?\": true}, \"O_50\": {\"accuracy\": 0.8546875, \"source?\": true}, \"O_38\": {\"accuracy\": 0.8609375, \"source?\": true}, \"O_20\": {\"accuracy\": 0.7541666666666667, \"source?\": true}, \"O_14\": {\"accuracy\": 0.8450520833333334, \"source?\": true}, \"O_32\": {\"accuracy\": 0.8377604166666667, \"source?\": true}, \"O_8\": {\"accuracy\": 0.81015625, \"source?\": true}, \"C_5\": {\"accuracy\": 0.6059706703910615, \"source?\": false}, \"C_1\": {\"accuracy\": 0.6971807065217391, \"source?\": false}, \"C_3\": {\"accuracy\": 0.664889705882353, \"source?\": false}, \"C_4\": {\"accuracy\": 0.640625, \"source?\": false}, \"C_2\": {\"accuracy\": 0.6498579545454546, \"source?\": false}}}, \"history\": {\"epoch_indices\": [1, 2, 3, 4, 5, 6, 7, 8, 9], \"train_label_loss\": [1.034540692818839, 0.8957452228825007, 0.7970825499455844, 0.6806925543694802, 0.5780178894743412, 0.5203443695707912, 0.4866125004260712, 0.46131872409300523, 0.4408695597999862], \"source_val_label_loss\": [1.1467934846878052, 0.8661367893218994, 0.7567538619041443, 0.6326709985733032, 0.5767757296562195, 0.5941177010536194, 0.4995289742946625, 0.49049773812294006, 0.5233900547027588], \"target_val_label_loss\": [144.9387664794922, 70.89554595947266, 106.27613067626953, 48.292789459228516, 45.20479965209961, 69.5228042602539, 85.3964614868164, 75.57014465332031, 123.39691162109375], \"source_val_acc_label\": [0.6212890625, 0.6790364583333334, 0.7213216145833333, 0.76611328125, 0.7897786458333333, 0.7787109375, 0.8178059895833333, 0.81806640625, 0.8086588541666667], \"target_val_acc_label\": [0.4740357142857143, 0.6193571428571428, 0.6191071428571429, 0.6420714285714286, 0.652, 0.62525, 0.6083571428571428, 0.6488214285714285, 0.606]}, \"dataset_metrics\": {\"source\": {\"train\": {\"n_unique_x\": 179200, \"n_unique_y\": 16, \"n_batch/episode\": 6720}, \"val\": {\"n_unique_x\": 38400, \"n_unique_y\": 16, \"n_batch/episode\": 960}, \"test\": {\"n_unique_x\": 38400, \"n_unique_y\": 16, \"n_batch/episode\": 960}}, \"target\": {\"train\": {\"n_unique_x\": 175203, \"n_unique_y\": 58, \"n_batch/episode\": 6321}, \"val\": {\"n_unique_x\": 37151, \"n_unique_y\": 58, \"n_batch/episode\": 875}, \"test\": {\"n_unique_x\": 37548, \"n_unique_y\": 58, \"n_batch/episode\": 885}}}}'"
      ]
     },
     "execution_count": 29,
     "metadata": {},
     "output_type": "execute_result"
    }
   ],
   "source": [
    "json.dumps(experiment)"
   ]
  }
 ],
 "metadata": {
  "celltoolbar": "Tags",
  "kernelspec": {
   "display_name": "Python 3 (ipykernel)",
   "language": "python",
   "name": "python3"
  },
  "language_info": {
   "codemirror_mode": {
    "name": "ipython",
    "version": 3
   },
   "file_extension": ".py",
   "mimetype": "text/x-python",
   "name": "python",
   "nbconvert_exporter": "python",
   "pygments_lexer": "ipython3",
   "version": "3.8.12"
  },
  "papermill": {
   "default_parameters": {},
   "duration": 1670.811039,
   "end_time": "2022-03-28T05:44:49.218452",
   "environment_variables": {},
   "exception": null,
   "input_path": "/root/csc500-main/csc500-notebooks/templates/tl_ptn_template.ipynb",
   "output_path": "trial.ipynb",
   "parameters": {
    "parameters": {
     "BEST_MODEL_PATH": "./best_model.pth",
     "NUM_LOGS_PER_EPOCH": 10,
     "criteria_for_best": "target_accuracy",
     "dataset_seed": 7,
     "datasets": [
      {
       "domain_prefix": "C_",
       "domains": [
        1,
        2,
        3,
        4,
        5
       ],
       "episode_transforms": [],
       "labels": [
        "1-10.",
        "1-11.",
        "1-15.",
        "1-16.",
        "1-17.",
        "1-18.",
        "1-19.",
        "10-4.",
        "10-7.",
        "11-1.",
        "11-14.",
        "11-17.",
        "11-20.",
        "11-7.",
        "13-20.",
        "13-8.",
        "14-10.",
        "14-11.",
        "14-14.",
        "14-7.",
        "15-1.",
        "15-20.",
        "16-1.",
        "16-16.",
        "17-10.",
        "17-11.",
        "17-2.",
        "19-1.",
        "19-16.",
        "19-19.",
        "19-20.",
        "19-3.",
        "2-10.",
        "2-11.",
        "2-17.",
        "2-18.",
        "2-20.",
        "2-3.",
        "2-4.",
        "2-5.",
        "2-6.",
        "2-7.",
        "2-8.",
        "3-13.",
        "3-18.",
        "3-3.",
        "4-1.",
        "4-10.",
        "4-11.",
        "4-19.",
        "5-5.",
        "6-15.",
        "7-10.",
        "7-14.",
        "8-18.",
        "8-20.",
        "8-3.",
        "8-8."
       ],
       "num_examples_per_domain_per_label": -1,
       "pickle_path": "/root/csc500-main/datasets/cores.stratified_ds.2022A.pkl",
       "source_or_target_dataset": "target",
       "x_transforms": [
        "unit_mag",
        "jitter_256_1",
        "lowpass_+/-10MHz",
        "take_200"
       ]
      },
      {
       "domain_prefix": "O_",
       "domains": [
        32,
        38,
        8,
        44,
        14,
        50,
        20,
        26
       ],
       "episode_transforms": [],
       "labels": [
        "3123D52",
        "3123D65",
        "3123D79",
        "3123D80",
        "3123D54",
        "3123D70",
        "3123D7B",
        "3123D89",
        "3123D58",
        "3123D76",
        "3123D7D",
        "3123EFE",
        "3123D64",
        "3123D78",
        "3123D7E",
        "3124E4A"
       ],
       "num_examples_per_domain_per_label": 2000,
       "pickle_path": "/root/csc500-main/datasets/oracle.Run1_framed_2000Examples_stratified_ds.2022A.pkl",
       "source_or_target_dataset": "source",
       "x_transforms": [
        "unit_mag",
        "jitter_256_1",
        "take_200",
        "resample_20Msps_to_25Msps"
       ]
      }
     ],
     "device": "cuda",
     "experiment_name": "tl_3-jitter1v2:oracle.run1.framed -> cores",
     "lr": 0.0001,
     "n_epoch": 50,
     "n_query": 2,
     "n_shot": 3,
     "n_way": 16,
     "patience": 3,
     "seed": 7,
     "test_k_factor": 2,
     "torch_default_dtype": "torch.float32",
     "train_k_factor": 3,
     "val_k_factor": 2,
     "x_net": [
      {
       "class": "nnReshape",
       "kargs": {
        "shape": [
         -1,
         1,
         2,
         256
        ]
       }
      },
      {
       "class": "Conv2d",
       "kargs": {
        "bias": false,
        "in_channels": 1,
        "kernel_size": [
         1,
         7
        ],
        "out_channels": 256,
        "padding": [
         0,
         3
        ]
       }
      },
      {
       "class": "ReLU",
       "kargs": {
        "inplace": true
       }
      },
      {
       "class": "BatchNorm2d",
       "kargs": {
        "num_features": 256
       }
      },
      {
       "class": "Conv2d",
       "kargs": {
        "bias": true,
        "in_channels": 256,
        "kernel_size": [
         2,
         7
        ],
        "out_channels": 80,
        "padding": [
         0,
         3
        ]
       }
      },
      {
       "class": "ReLU",
       "kargs": {
        "inplace": true
       }
      },
      {
       "class": "BatchNorm2d",
       "kargs": {
        "num_features": 80
       }
      },
      {
       "class": "Flatten",
       "kargs": {}
      },
      {
       "class": "Linear",
       "kargs": {
        "in_features": 20480,
        "out_features": 256
       }
      },
      {
       "class": "ReLU",
       "kargs": {
        "inplace": true
       }
      },
      {
       "class": "BatchNorm1d",
       "kargs": {
        "num_features": 256
       }
      },
      {
       "class": "Linear",
       "kargs": {
        "in_features": 256,
        "out_features": 256
       }
      }
     ],
     "x_shape": [
      2,
      256
     ]
    }
   },
   "start_time": "2022-03-28T05:16:58.407413",
   "version": "2.3.4"
  }
 },
 "nbformat": 4,
 "nbformat_minor": 5
}