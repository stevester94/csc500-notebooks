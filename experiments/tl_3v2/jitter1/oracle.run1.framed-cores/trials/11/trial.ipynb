{
 "cells": [
  {
   "cell_type": "markdown",
   "id": "9fea5f46",
   "metadata": {
    "papermill": {
     "duration": 0.023144,
     "end_time": "2022-03-28T05:41:01.562027",
     "exception": false,
     "start_time": "2022-03-28T05:41:01.538883",
     "status": "completed"
    },
    "tags": []
   },
   "source": [
    "# Transfer Learning Template"
   ]
  },
  {
   "cell_type": "code",
   "execution_count": 1,
   "id": "0902182a",
   "metadata": {
    "execution": {
     "iopub.execute_input": "2022-03-28T05:41:01.621379Z",
     "iopub.status.busy": "2022-03-28T05:41:01.614458Z",
     "iopub.status.idle": "2022-03-28T05:41:03.598831Z",
     "shell.execute_reply": "2022-03-28T05:41:03.598416Z"
    },
    "papermill": {
     "duration": 2.017317,
     "end_time": "2022-03-28T05:41:03.598928",
     "exception": false,
     "start_time": "2022-03-28T05:41:01.581611",
     "status": "completed"
    },
    "tags": []
   },
   "outputs": [],
   "source": [
    "%load_ext autoreload\n",
    "%autoreload 2\n",
    "%matplotlib inline\n",
    "\n",
    "    \n",
    "import os, json, sys, time, random\n",
    "import numpy as np\n",
    "import torch\n",
    "from torch.optim import Adam\n",
    "from  easydict import EasyDict\n",
    "import matplotlib.pyplot as plt\n",
    "\n",
    "from steves_models.steves_ptn import Steves_Prototypical_Network\n",
    "\n",
    "from steves_utils.lazy_iterable_wrapper import Lazy_Iterable_Wrapper\n",
    "from steves_utils.iterable_aggregator import Iterable_Aggregator\n",
    "from steves_utils.ptn_train_eval_test_jig import  PTN_Train_Eval_Test_Jig\n",
    "from steves_utils.torch_sequential_builder import build_sequential\n",
    "from steves_utils.torch_utils import get_dataset_metrics, ptn_confusion_by_domain_over_dataloader\n",
    "from steves_utils.utils_v2 import (per_domain_accuracy_from_confusion, get_datasets_base_path)\n",
    "from steves_utils.PTN.utils import independent_accuracy_assesment\n",
    "\n",
    "from torch.utils.data import DataLoader\n",
    "\n",
    "from steves_utils.stratified_dataset.episodic_accessor import Episodic_Accessor_Factory\n",
    "\n",
    "from steves_utils.ptn_do_report import (\n",
    "    get_loss_curve,\n",
    "    get_results_table,\n",
    "    get_parameters_table,\n",
    "    get_domain_accuracies,\n",
    ")\n",
    "\n",
    "from steves_utils.transforms import get_chained_transform"
   ]
  },
  {
   "cell_type": "markdown",
   "id": "41c840b4",
   "metadata": {
    "papermill": {
     "duration": 0.019454,
     "end_time": "2022-03-28T05:41:03.638705",
     "exception": false,
     "start_time": "2022-03-28T05:41:03.619251",
     "status": "completed"
    },
    "tags": []
   },
   "source": [
    "# Allowed Parameters\n",
    "These are allowed parameters, not defaults\n",
    "Each of these values need to be present in the injected parameters (the notebook will raise an exception if they are not present)\n",
    "\n",
    "Papermill uses the cell tag \"parameters\" to inject the real parameters below this cell.\n",
    "Enable tags to see what I mean"
   ]
  },
  {
   "cell_type": "code",
   "execution_count": 2,
   "id": "fd44eb83",
   "metadata": {
    "execution": {
     "iopub.execute_input": "2022-03-28T05:41:03.681577Z",
     "iopub.status.busy": "2022-03-28T05:41:03.681197Z",
     "iopub.status.idle": "2022-03-28T05:41:03.702712Z",
     "shell.execute_reply": "2022-03-28T05:41:03.702394Z"
    },
    "papermill": {
     "duration": 0.044773,
     "end_time": "2022-03-28T05:41:03.702782",
     "exception": false,
     "start_time": "2022-03-28T05:41:03.658009",
     "status": "completed"
    },
    "tags": []
   },
   "outputs": [],
   "source": [
    "required_parameters = {\n",
    "    \"experiment_name\",\n",
    "    \"lr\",\n",
    "    \"device\",\n",
    "    \"seed\",\n",
    "    \"dataset_seed\",\n",
    "    \"n_shot\",\n",
    "    \"n_query\",\n",
    "    \"n_way\",\n",
    "    \"train_k_factor\",\n",
    "    \"val_k_factor\",\n",
    "    \"test_k_factor\",\n",
    "    \"n_epoch\",\n",
    "    \"patience\",\n",
    "    \"criteria_for_best\",\n",
    "    \"x_net\",\n",
    "    \"datasets\",\n",
    "    \"torch_default_dtype\",\n",
    "    \"NUM_LOGS_PER_EPOCH\",\n",
    "    \"BEST_MODEL_PATH\",\n",
    "    \"x_shape\",\n",
    "}"
   ]
  },
  {
   "cell_type": "code",
   "execution_count": 3,
   "id": "fa3f0049",
   "metadata": {
    "execution": {
     "iopub.execute_input": "2022-03-28T05:41:03.751992Z",
     "iopub.status.busy": "2022-03-28T05:41:03.751577Z",
     "iopub.status.idle": "2022-03-28T05:41:03.775487Z",
     "shell.execute_reply": "2022-03-28T05:41:03.775121Z"
    },
    "papermill": {
     "duration": 0.053043,
     "end_time": "2022-03-28T05:41:03.775564",
     "exception": false,
     "start_time": "2022-03-28T05:41:03.722521",
     "status": "completed"
    },
    "tags": [
     "parameters"
    ]
   },
   "outputs": [],
   "source": [
    "from steves_utils.CORES.utils import (\n",
    "    ALL_NODES,\n",
    "    ALL_NODES_MINIMUM_1000_EXAMPLES,\n",
    "    ALL_DAYS\n",
    ")\n",
    "\n",
    "from steves_utils.ORACLE.utils_v2 import (\n",
    "    ALL_DISTANCES_FEET_NARROWED,\n",
    "    ALL_RUNS,\n",
    "    ALL_SERIAL_NUMBERS,\n",
    ")\n",
    "\n",
    "standalone_parameters = {}\n",
    "standalone_parameters[\"experiment_name\"] = \"STANDALONE PTN\"\n",
    "standalone_parameters[\"lr\"] = 0.001\n",
    "standalone_parameters[\"device\"] = \"cuda\"\n",
    "\n",
    "standalone_parameters[\"seed\"] = 1337\n",
    "standalone_parameters[\"dataset_seed\"] = 1337\n",
    "\n",
    "standalone_parameters[\"n_way\"] = 8\n",
    "standalone_parameters[\"n_shot\"] = 3\n",
    "standalone_parameters[\"n_query\"]  = 2\n",
    "standalone_parameters[\"train_k_factor\"] = 1\n",
    "standalone_parameters[\"val_k_factor\"] = 2\n",
    "standalone_parameters[\"test_k_factor\"] = 2\n",
    "\n",
    "\n",
    "standalone_parameters[\"n_epoch\"] = 50\n",
    "\n",
    "standalone_parameters[\"patience\"] = 10\n",
    "standalone_parameters[\"criteria_for_best\"] = \"source_loss\"\n",
    "\n",
    "standalone_parameters[\"datasets\"] = [\n",
    "    {\n",
    "        \"labels\": ALL_SERIAL_NUMBERS,\n",
    "        \"domains\": ALL_DISTANCES_FEET_NARROWED,\n",
    "        \"num_examples_per_domain_per_label\": 100,\n",
    "        \"pickle_path\": os.path.join(get_datasets_base_path(), \"oracle.Run1_framed_2000Examples_stratified_ds.2022A.pkl\"),\n",
    "        \"source_or_target_dataset\": \"source\",\n",
    "        \"x_transforms\": [\"unit_mag\", \"minus_two\"],\n",
    "        \"episode_transforms\": [],\n",
    "        \"domain_prefix\": \"ORACLE_\"\n",
    "    },\n",
    "    {\n",
    "        \"labels\": ALL_NODES,\n",
    "        \"domains\": ALL_DAYS,\n",
    "        \"num_examples_per_domain_per_label\": 100,\n",
    "        \"pickle_path\": os.path.join(get_datasets_base_path(), \"cores.stratified_ds.2022A.pkl\"),\n",
    "        \"source_or_target_dataset\": \"target\",\n",
    "        \"x_transforms\": [\"unit_power\", \"times_zero\"],\n",
    "        \"episode_transforms\": [],\n",
    "        \"domain_prefix\": \"CORES_\"\n",
    "    }   \n",
    "]\n",
    "\n",
    "standalone_parameters[\"torch_default_dtype\"] = \"torch.float32\" \n",
    "\n",
    "\n",
    "\n",
    "standalone_parameters[\"x_net\"] =     [\n",
    "    {\"class\": \"nnReshape\", \"kargs\": {\"shape\":[-1, 1, 2, 256]}},\n",
    "    {\"class\": \"Conv2d\", \"kargs\": { \"in_channels\":1, \"out_channels\":256, \"kernel_size\":(1,7), \"bias\":False, \"padding\":(0,3), },},\n",
    "    {\"class\": \"ReLU\", \"kargs\": {\"inplace\": True}},\n",
    "    {\"class\": \"BatchNorm2d\", \"kargs\": {\"num_features\":256}},\n",
    "\n",
    "    {\"class\": \"Conv2d\", \"kargs\": { \"in_channels\":256, \"out_channels\":80, \"kernel_size\":(2,7), \"bias\":True, \"padding\":(0,3), },},\n",
    "    {\"class\": \"ReLU\", \"kargs\": {\"inplace\": True}},\n",
    "    {\"class\": \"BatchNorm2d\", \"kargs\": {\"num_features\":80}},\n",
    "    {\"class\": \"Flatten\", \"kargs\": {}},\n",
    "\n",
    "    {\"class\": \"Linear\", \"kargs\": {\"in_features\": 80*256, \"out_features\": 256}}, # 80 units per IQ pair\n",
    "    {\"class\": \"ReLU\", \"kargs\": {\"inplace\": True}},\n",
    "    {\"class\": \"BatchNorm1d\", \"kargs\": {\"num_features\":256}},\n",
    "\n",
    "    {\"class\": \"Linear\", \"kargs\": {\"in_features\": 256, \"out_features\": 256}},\n",
    "]\n",
    "\n",
    "# Parameters relevant to results\n",
    "# These parameters will basically never need to change\n",
    "standalone_parameters[\"NUM_LOGS_PER_EPOCH\"] = 10\n",
    "standalone_parameters[\"BEST_MODEL_PATH\"] = \"./best_model.pth\"\n",
    "\n",
    "\n",
    "\n",
    "\n"
   ]
  },
  {
   "cell_type": "code",
   "execution_count": 4,
   "id": "73639a17",
   "metadata": {
    "execution": {
     "iopub.execute_input": "2022-03-28T05:41:03.829775Z",
     "iopub.status.busy": "2022-03-28T05:41:03.828965Z",
     "iopub.status.idle": "2022-03-28T05:41:03.852069Z",
     "shell.execute_reply": "2022-03-28T05:41:03.851705Z"
    },
    "papermill": {
     "duration": 0.057029,
     "end_time": "2022-03-28T05:41:03.852137",
     "exception": false,
     "start_time": "2022-03-28T05:41:03.795108",
     "status": "completed"
    },
    "tags": [
     "injected-parameters"
    ]
   },
   "outputs": [],
   "source": [
    "# Parameters\n",
    "parameters = {\n",
    "    \"experiment_name\": \"tl_3-jitter1v2:oracle.run1.framed -> cores\",\n",
    "    \"device\": \"cuda\",\n",
    "    \"lr\": 0.0001,\n",
    "    \"x_shape\": [2, 256],\n",
    "    \"n_shot\": 3,\n",
    "    \"n_query\": 2,\n",
    "    \"train_k_factor\": 3,\n",
    "    \"val_k_factor\": 2,\n",
    "    \"test_k_factor\": 2,\n",
    "    \"torch_default_dtype\": \"torch.float32\",\n",
    "    \"n_epoch\": 50,\n",
    "    \"patience\": 3,\n",
    "    \"criteria_for_best\": \"target_accuracy\",\n",
    "    \"x_net\": [\n",
    "        {\"class\": \"nnReshape\", \"kargs\": {\"shape\": [-1, 1, 2, 256]}},\n",
    "        {\n",
    "            \"class\": \"Conv2d\",\n",
    "            \"kargs\": {\n",
    "                \"in_channels\": 1,\n",
    "                \"out_channels\": 256,\n",
    "                \"kernel_size\": [1, 7],\n",
    "                \"bias\": False,\n",
    "                \"padding\": [0, 3],\n",
    "            },\n",
    "        },\n",
    "        {\"class\": \"ReLU\", \"kargs\": {\"inplace\": True}},\n",
    "        {\"class\": \"BatchNorm2d\", \"kargs\": {\"num_features\": 256}},\n",
    "        {\n",
    "            \"class\": \"Conv2d\",\n",
    "            \"kargs\": {\n",
    "                \"in_channels\": 256,\n",
    "                \"out_channels\": 80,\n",
    "                \"kernel_size\": [2, 7],\n",
    "                \"bias\": True,\n",
    "                \"padding\": [0, 3],\n",
    "            },\n",
    "        },\n",
    "        {\"class\": \"ReLU\", \"kargs\": {\"inplace\": True}},\n",
    "        {\"class\": \"BatchNorm2d\", \"kargs\": {\"num_features\": 80}},\n",
    "        {\"class\": \"Flatten\", \"kargs\": {}},\n",
    "        {\"class\": \"Linear\", \"kargs\": {\"in_features\": 20480, \"out_features\": 256}},\n",
    "        {\"class\": \"ReLU\", \"kargs\": {\"inplace\": True}},\n",
    "        {\"class\": \"BatchNorm1d\", \"kargs\": {\"num_features\": 256}},\n",
    "        {\"class\": \"Linear\", \"kargs\": {\"in_features\": 256, \"out_features\": 256}},\n",
    "    ],\n",
    "    \"NUM_LOGS_PER_EPOCH\": 10,\n",
    "    \"BEST_MODEL_PATH\": \"./best_model.pth\",\n",
    "    \"n_way\": 16,\n",
    "    \"datasets\": [\n",
    "        {\n",
    "            \"labels\": [\n",
    "                \"1-10.\",\n",
    "                \"1-11.\",\n",
    "                \"1-15.\",\n",
    "                \"1-16.\",\n",
    "                \"1-17.\",\n",
    "                \"1-18.\",\n",
    "                \"1-19.\",\n",
    "                \"10-4.\",\n",
    "                \"10-7.\",\n",
    "                \"11-1.\",\n",
    "                \"11-14.\",\n",
    "                \"11-17.\",\n",
    "                \"11-20.\",\n",
    "                \"11-7.\",\n",
    "                \"13-20.\",\n",
    "                \"13-8.\",\n",
    "                \"14-10.\",\n",
    "                \"14-11.\",\n",
    "                \"14-14.\",\n",
    "                \"14-7.\",\n",
    "                \"15-1.\",\n",
    "                \"15-20.\",\n",
    "                \"16-1.\",\n",
    "                \"16-16.\",\n",
    "                \"17-10.\",\n",
    "                \"17-11.\",\n",
    "                \"17-2.\",\n",
    "                \"19-1.\",\n",
    "                \"19-16.\",\n",
    "                \"19-19.\",\n",
    "                \"19-20.\",\n",
    "                \"19-3.\",\n",
    "                \"2-10.\",\n",
    "                \"2-11.\",\n",
    "                \"2-17.\",\n",
    "                \"2-18.\",\n",
    "                \"2-20.\",\n",
    "                \"2-3.\",\n",
    "                \"2-4.\",\n",
    "                \"2-5.\",\n",
    "                \"2-6.\",\n",
    "                \"2-7.\",\n",
    "                \"2-8.\",\n",
    "                \"3-13.\",\n",
    "                \"3-18.\",\n",
    "                \"3-3.\",\n",
    "                \"4-1.\",\n",
    "                \"4-10.\",\n",
    "                \"4-11.\",\n",
    "                \"4-19.\",\n",
    "                \"5-5.\",\n",
    "                \"6-15.\",\n",
    "                \"7-10.\",\n",
    "                \"7-14.\",\n",
    "                \"8-18.\",\n",
    "                \"8-20.\",\n",
    "                \"8-3.\",\n",
    "                \"8-8.\",\n",
    "            ],\n",
    "            \"domains\": [1, 2, 3, 4, 5],\n",
    "            \"num_examples_per_domain_per_label\": -1,\n",
    "            \"pickle_path\": \"/root/csc500-main/datasets/cores.stratified_ds.2022A.pkl\",\n",
    "            \"source_or_target_dataset\": \"target\",\n",
    "            \"x_transforms\": [\"jitter_256_1\", \"lowpass_+/-10MHz\", \"take_200\"],\n",
    "            \"episode_transforms\": [],\n",
    "            \"domain_prefix\": \"C_\",\n",
    "        },\n",
    "        {\n",
    "            \"labels\": [\n",
    "                \"3123D52\",\n",
    "                \"3123D65\",\n",
    "                \"3123D79\",\n",
    "                \"3123D80\",\n",
    "                \"3123D54\",\n",
    "                \"3123D70\",\n",
    "                \"3123D7B\",\n",
    "                \"3123D89\",\n",
    "                \"3123D58\",\n",
    "                \"3123D76\",\n",
    "                \"3123D7D\",\n",
    "                \"3123EFE\",\n",
    "                \"3123D64\",\n",
    "                \"3123D78\",\n",
    "                \"3123D7E\",\n",
    "                \"3124E4A\",\n",
    "            ],\n",
    "            \"domains\": [32, 38, 8, 44, 14, 50, 20, 26],\n",
    "            \"num_examples_per_domain_per_label\": 2000,\n",
    "            \"pickle_path\": \"/root/csc500-main/datasets/oracle.Run1_framed_2000Examples_stratified_ds.2022A.pkl\",\n",
    "            \"source_or_target_dataset\": \"source\",\n",
    "            \"x_transforms\": [\"jitter_256_1\", \"take_200\", \"resample_20Msps_to_25Msps\"],\n",
    "            \"episode_transforms\": [],\n",
    "            \"domain_prefix\": \"O_\",\n",
    "        },\n",
    "    ],\n",
    "    \"seed\": 7,\n",
    "    \"dataset_seed\": 7,\n",
    "}\n"
   ]
  },
  {
   "cell_type": "code",
   "execution_count": 5,
   "id": "8fa1cc33",
   "metadata": {
    "execution": {
     "iopub.execute_input": "2022-03-28T05:41:03.896840Z",
     "iopub.status.busy": "2022-03-28T05:41:03.896393Z",
     "iopub.status.idle": "2022-03-28T05:41:03.917087Z",
     "shell.execute_reply": "2022-03-28T05:41:03.916725Z"
    },
    "papermill": {
     "duration": 0.045104,
     "end_time": "2022-03-28T05:41:03.917156",
     "exception": false,
     "start_time": "2022-03-28T05:41:03.872052",
     "status": "completed"
    },
    "tags": []
   },
   "outputs": [],
   "source": [
    "# Set this to True if you want to run this template directly\n",
    "STANDALONE = False\n",
    "if STANDALONE:\n",
    "    print(\"parameters not injected, running with standalone_parameters\")\n",
    "    parameters = standalone_parameters\n",
    "\n",
    "if not 'parameters' in locals() and not 'parameters' in globals():\n",
    "    raise Exception(\"Parameter injection failed\")\n",
    "\n",
    "#Use an easy dict for all the parameters\n",
    "p = EasyDict(parameters)\n",
    "\n",
    "if \"x_shape\" not in p:\n",
    "    p.x_shape = [2,256] # Default to this if we dont supply x_shape\n",
    "\n",
    "\n",
    "supplied_keys = set(p.keys())\n",
    "\n",
    "if  supplied_keys != required_parameters:\n",
    "    print(\"Parameters are incorrect\")\n",
    "    if len(supplied_keys - required_parameters)>0: print(\"Shouldn't have:\", str(supplied_keys - required_parameters))\n",
    "    if len(required_parameters - supplied_keys)>0: print(\"Need to have:\", str(required_parameters - supplied_keys))\n",
    "    raise RuntimeError(\"Parameters are incorrect\")"
   ]
  },
  {
   "cell_type": "code",
   "execution_count": 6,
   "id": "3a028d58",
   "metadata": {
    "execution": {
     "iopub.execute_input": "2022-03-28T05:41:03.960614Z",
     "iopub.status.busy": "2022-03-28T05:41:03.960141Z",
     "iopub.status.idle": "2022-03-28T05:41:03.981792Z",
     "shell.execute_reply": "2022-03-28T05:41:03.980993Z"
    },
    "papermill": {
     "duration": 0.04496,
     "end_time": "2022-03-28T05:41:03.981943",
     "exception": false,
     "start_time": "2022-03-28T05:41:03.936983",
     "status": "completed"
    },
    "tags": []
   },
   "outputs": [],
   "source": [
    "###################################\n",
    "# Set the RNGs and make it all deterministic\n",
    "###################################\n",
    "np.random.seed(p.seed)\n",
    "random.seed(p.seed)\n",
    "torch.manual_seed(p.seed)\n",
    "\n",
    "torch.use_deterministic_algorithms(True) "
   ]
  },
  {
   "cell_type": "code",
   "execution_count": 7,
   "id": "b691acf6",
   "metadata": {
    "execution": {
     "iopub.execute_input": "2022-03-28T05:41:04.031236Z",
     "iopub.status.busy": "2022-03-28T05:41:04.029838Z",
     "iopub.status.idle": "2022-03-28T05:41:04.056678Z",
     "shell.execute_reply": "2022-03-28T05:41:04.055973Z"
    },
    "papermill": {
     "duration": 0.049245,
     "end_time": "2022-03-28T05:41:04.056828",
     "exception": false,
     "start_time": "2022-03-28T05:41:04.007583",
     "status": "completed"
    },
    "tags": []
   },
   "outputs": [],
   "source": [
    "###########################################\n",
    "# The stratified datasets honor this\n",
    "###########################################\n",
    "torch.set_default_dtype(eval(p.torch_default_dtype))"
   ]
  },
  {
   "cell_type": "code",
   "execution_count": 8,
   "id": "b5fba671",
   "metadata": {
    "execution": {
     "iopub.execute_input": "2022-03-28T05:41:04.105592Z",
     "iopub.status.busy": "2022-03-28T05:41:04.105040Z",
     "iopub.status.idle": "2022-03-28T05:41:04.163591Z",
     "shell.execute_reply": "2022-03-28T05:41:04.162864Z"
    },
    "papermill": {
     "duration": 0.082764,
     "end_time": "2022-03-28T05:41:04.163742",
     "exception": false,
     "start_time": "2022-03-28T05:41:04.080978",
     "status": "completed"
    },
    "tags": []
   },
   "outputs": [],
   "source": [
    "###################################\n",
    "# Build the network(s)\n",
    "# Note: It's critical to do this AFTER setting the RNG\n",
    "###################################\n",
    "x_net = build_sequential(p.x_net)"
   ]
  },
  {
   "cell_type": "code",
   "execution_count": 9,
   "id": "5d7e61cc",
   "metadata": {
    "execution": {
     "iopub.execute_input": "2022-03-28T05:41:04.215628Z",
     "iopub.status.busy": "2022-03-28T05:41:04.215166Z",
     "iopub.status.idle": "2022-03-28T05:41:04.237667Z",
     "shell.execute_reply": "2022-03-28T05:41:04.236867Z"
    },
    "papermill": {
     "duration": 0.046606,
     "end_time": "2022-03-28T05:41:04.237817",
     "exception": false,
     "start_time": "2022-03-28T05:41:04.191211",
     "status": "completed"
    },
    "tags": []
   },
   "outputs": [],
   "source": [
    "start_time_secs = time.time()"
   ]
  },
  {
   "cell_type": "code",
   "execution_count": 10,
   "id": "c6b67dfd",
   "metadata": {
    "execution": {
     "iopub.execute_input": "2022-03-28T05:41:04.289102Z",
     "iopub.status.busy": "2022-03-28T05:41:04.288737Z",
     "iopub.status.idle": "2022-03-28T05:41:04.311949Z",
     "shell.execute_reply": "2022-03-28T05:41:04.311096Z"
    },
    "papermill": {
     "duration": 0.047971,
     "end_time": "2022-03-28T05:41:04.312101",
     "exception": false,
     "start_time": "2022-03-28T05:41:04.264130",
     "status": "completed"
    },
    "tags": []
   },
   "outputs": [],
   "source": [
    "p.domains_source = []\n",
    "p.domains_target = []\n",
    "\n",
    "\n",
    "train_original_source = []\n",
    "val_original_source   = []\n",
    "test_original_source  = []\n",
    "\n",
    "train_original_target = []\n",
    "val_original_target   = []\n",
    "test_original_target  = []"
   ]
  },
  {
   "cell_type": "code",
   "execution_count": 11,
   "id": "e3d9c3d3",
   "metadata": {
    "execution": {
     "iopub.execute_input": "2022-03-28T05:41:04.363860Z",
     "iopub.status.busy": "2022-03-28T05:41:04.363487Z",
     "iopub.status.idle": "2022-03-28T05:41:04.388896Z",
     "shell.execute_reply": "2022-03-28T05:41:04.388085Z"
    },
    "papermill": {
     "duration": 0.049336,
     "end_time": "2022-03-28T05:41:04.389049",
     "exception": false,
     "start_time": "2022-03-28T05:41:04.339713",
     "status": "completed"
    },
    "tags": []
   },
   "outputs": [],
   "source": [
    "# global_x_transform_func = lambda x: normalize(x.to(torch.get_default_dtype()), \"unit_power\") # unit_power, unit_mag\n",
    "# global_x_transform_func = lambda x: normalize(x, \"unit_power\") # unit_power, unit_mag"
   ]
  },
  {
   "cell_type": "code",
   "execution_count": 12,
   "id": "acb78fd2",
   "metadata": {
    "execution": {
     "iopub.execute_input": "2022-03-28T05:41:04.444039Z",
     "iopub.status.busy": "2022-03-28T05:41:04.443446Z",
     "iopub.status.idle": "2022-03-28T05:41:04.465412Z",
     "shell.execute_reply": "2022-03-28T05:41:04.464713Z"
    },
    "papermill": {
     "duration": 0.049595,
     "end_time": "2022-03-28T05:41:04.465563",
     "exception": false,
     "start_time": "2022-03-28T05:41:04.415968",
     "status": "completed"
    },
    "tags": []
   },
   "outputs": [],
   "source": [
    "def add_dataset(\n",
    "    labels,\n",
    "    domains,\n",
    "    pickle_path,\n",
    "    x_transforms,\n",
    "    episode_transforms,\n",
    "    domain_prefix,\n",
    "    num_examples_per_domain_per_label,\n",
    "    source_or_target_dataset:str,\n",
    "    iterator_seed=p.seed,\n",
    "    dataset_seed=p.dataset_seed,\n",
    "    n_shot=p.n_shot,\n",
    "    n_way=p.n_way,\n",
    "    n_query=p.n_query,\n",
    "    train_val_test_k_factors=(p.train_k_factor,p.val_k_factor,p.test_k_factor),\n",
    "):\n",
    "   \n",
    "    if x_transforms == []: x_transform = None\n",
    "    else: x_transform = get_chained_transform(x_transforms)\n",
    "    \n",
    "    if episode_transforms == []: episode_transform = None\n",
    "    else: raise Exception(\"episode_transforms not implemented\")\n",
    "    \n",
    "    episode_transform = lambda tup, _prefix=domain_prefix: (_prefix + str(tup[0]), tup[1])\n",
    "\n",
    "\n",
    "    eaf = Episodic_Accessor_Factory(\n",
    "        labels=labels,\n",
    "        domains=domains,\n",
    "        num_examples_per_domain_per_label=num_examples_per_domain_per_label,\n",
    "        iterator_seed=iterator_seed,\n",
    "        dataset_seed=dataset_seed,\n",
    "        n_shot=n_shot,\n",
    "        n_way=n_way,\n",
    "        n_query=n_query,\n",
    "        train_val_test_k_factors=train_val_test_k_factors,\n",
    "        pickle_path=pickle_path,\n",
    "        x_transform_func=x_transform,\n",
    "    )\n",
    "\n",
    "    train, val, test = eaf.get_train(), eaf.get_val(), eaf.get_test()\n",
    "    train = Lazy_Iterable_Wrapper(train, episode_transform)\n",
    "    val = Lazy_Iterable_Wrapper(val, episode_transform)\n",
    "    test = Lazy_Iterable_Wrapper(test, episode_transform)\n",
    "\n",
    "    if source_or_target_dataset==\"source\":\n",
    "        train_original_source.append(train)\n",
    "        val_original_source.append(val)\n",
    "        test_original_source.append(test)\n",
    "\n",
    "        p.domains_source.extend(\n",
    "            [domain_prefix + str(u) for u in domains]\n",
    "        )\n",
    "    elif source_or_target_dataset==\"target\":\n",
    "        train_original_target.append(train)\n",
    "        val_original_target.append(val)\n",
    "        test_original_target.append(test)\n",
    "        p.domains_target.extend(\n",
    "            [domain_prefix + str(u) for u in domains]\n",
    "        )\n",
    "    else:\n",
    "        raise Exception(f\"invalid source_or_target_dataset: {source_or_target_dataset}\")\n",
    "    "
   ]
  },
  {
   "cell_type": "code",
   "execution_count": 13,
   "id": "fe266617",
   "metadata": {
    "execution": {
     "iopub.execute_input": "2022-03-28T05:41:04.516908Z",
     "iopub.status.busy": "2022-03-28T05:41:04.516544Z",
     "iopub.status.idle": "2022-03-28T05:42:08.510115Z",
     "shell.execute_reply": "2022-03-28T05:42:08.509284Z"
    },
    "papermill": {
     "duration": 64.017965,
     "end_time": "2022-03-28T05:42:08.510304",
     "exception": false,
     "start_time": "2022-03-28T05:41:04.492339",
     "status": "completed"
    },
    "tags": []
   },
   "outputs": [],
   "source": [
    "for ds in p.datasets:\n",
    "    add_dataset(**ds)"
   ]
  },
  {
   "cell_type": "code",
   "execution_count": 14,
   "id": "b90d65ac",
   "metadata": {
    "execution": {
     "iopub.execute_input": "2022-03-28T05:42:08.562226Z",
     "iopub.status.busy": "2022-03-28T05:42:08.561662Z",
     "iopub.status.idle": "2022-03-28T05:42:08.587600Z",
     "shell.execute_reply": "2022-03-28T05:42:08.586824Z"
    },
    "papermill": {
     "duration": 0.050641,
     "end_time": "2022-03-28T05:42:08.587756",
     "exception": false,
     "start_time": "2022-03-28T05:42:08.537115",
     "status": "completed"
    },
    "tags": []
   },
   "outputs": [],
   "source": [
    "# from steves_utils.CORES.utils import (\n",
    "#     ALL_NODES,\n",
    "#     ALL_NODES_MINIMUM_1000_EXAMPLES,\n",
    "#     ALL_DAYS\n",
    "# )\n",
    "\n",
    "# add_dataset(\n",
    "#     labels=ALL_NODES,\n",
    "#     domains = ALL_DAYS,\n",
    "#     num_examples_per_domain_per_label=100,\n",
    "#     pickle_path=os.path.join(get_datasets_base_path(), \"cores.stratified_ds.2022A.pkl\"),\n",
    "#     source_or_target_dataset=\"target\",\n",
    "#     x_transform_func=global_x_transform_func,\n",
    "#     domain_modifier=lambda u: f\"cores_{u}\"\n",
    "# )"
   ]
  },
  {
   "cell_type": "code",
   "execution_count": 15,
   "id": "76db484d",
   "metadata": {
    "execution": {
     "iopub.execute_input": "2022-03-28T05:42:08.645421Z",
     "iopub.status.busy": "2022-03-28T05:42:08.637856Z",
     "iopub.status.idle": "2022-03-28T05:42:08.658092Z",
     "shell.execute_reply": "2022-03-28T05:42:08.657389Z"
    },
    "papermill": {
     "duration": 0.043311,
     "end_time": "2022-03-28T05:42:08.658244",
     "exception": false,
     "start_time": "2022-03-28T05:42:08.614933",
     "status": "completed"
    },
    "tags": []
   },
   "outputs": [],
   "source": [
    "# from steves_utils.ORACLE.utils_v2 import (\n",
    "#     ALL_DISTANCES_FEET,\n",
    "#     ALL_RUNS,\n",
    "#     ALL_SERIAL_NUMBERS,\n",
    "# )\n",
    "\n",
    "\n",
    "# add_dataset(\n",
    "#     labels=ALL_SERIAL_NUMBERS,\n",
    "#     domains = list(set(ALL_DISTANCES_FEET) - {2,62}),\n",
    "#     num_examples_per_domain_per_label=100,\n",
    "#     pickle_path=os.path.join(get_datasets_base_path(), \"oracle.Run2_framed_2000Examples_stratified_ds.2022A.pkl\"),\n",
    "#     source_or_target_dataset=\"source\",\n",
    "#     x_transform_func=global_x_transform_func,\n",
    "#     domain_modifier=lambda u: f\"oracle1_{u}\"\n",
    "# )\n"
   ]
  },
  {
   "cell_type": "code",
   "execution_count": 16,
   "id": "97dea9d2",
   "metadata": {
    "execution": {
     "iopub.execute_input": "2022-03-28T05:42:08.708337Z",
     "iopub.status.busy": "2022-03-28T05:42:08.707426Z",
     "iopub.status.idle": "2022-03-28T05:42:08.729243Z",
     "shell.execute_reply": "2022-03-28T05:42:08.729909Z"
    },
    "papermill": {
     "duration": 0.04607,
     "end_time": "2022-03-28T05:42:08.730087",
     "exception": false,
     "start_time": "2022-03-28T05:42:08.684017",
     "status": "completed"
    },
    "tags": []
   },
   "outputs": [],
   "source": [
    "# from steves_utils.ORACLE.utils_v2 import (\n",
    "#     ALL_DISTANCES_FEET,\n",
    "#     ALL_RUNS,\n",
    "#     ALL_SERIAL_NUMBERS,\n",
    "# )\n",
    "\n",
    "\n",
    "# add_dataset(\n",
    "#     labels=ALL_SERIAL_NUMBERS,\n",
    "#     domains = list(set(ALL_DISTANCES_FEET) - {2,62,56}),\n",
    "#     num_examples_per_domain_per_label=100,\n",
    "#     pickle_path=os.path.join(get_datasets_base_path(), \"oracle.Run2_framed_2000Examples_stratified_ds.2022A.pkl\"),\n",
    "#     source_or_target_dataset=\"source\",\n",
    "#     x_transform_func=global_x_transform_func,\n",
    "#     domain_modifier=lambda u: f\"oracle2_{u}\"\n",
    "# )"
   ]
  },
  {
   "cell_type": "code",
   "execution_count": 17,
   "id": "6f289866",
   "metadata": {
    "execution": {
     "iopub.execute_input": "2022-03-28T05:42:08.778446Z",
     "iopub.status.busy": "2022-03-28T05:42:08.778022Z",
     "iopub.status.idle": "2022-03-28T05:42:08.794635Z",
     "shell.execute_reply": "2022-03-28T05:42:08.795303Z"
    },
    "papermill": {
     "duration": 0.039633,
     "end_time": "2022-03-28T05:42:08.795479",
     "exception": false,
     "start_time": "2022-03-28T05:42:08.755846",
     "status": "completed"
    },
    "tags": []
   },
   "outputs": [],
   "source": [
    "# add_dataset(\n",
    "#     labels=list(range(19)),\n",
    "#     domains = [0,1,2],\n",
    "#     num_examples_per_domain_per_label=100,\n",
    "#     pickle_path=os.path.join(get_datasets_base_path(), \"metehan.stratified_ds.2022A.pkl\"),\n",
    "#     source_or_target_dataset=\"target\",\n",
    "#     x_transform_func=global_x_transform_func,\n",
    "#     domain_modifier=lambda u: f\"met_{u}\"\n",
    "# )"
   ]
  },
  {
   "cell_type": "code",
   "execution_count": 18,
   "id": "86a863c3",
   "metadata": {
    "execution": {
     "iopub.execute_input": "2022-03-28T05:42:08.859292Z",
     "iopub.status.busy": "2022-03-28T05:42:08.848699Z",
     "iopub.status.idle": "2022-03-28T05:42:08.868930Z",
     "shell.execute_reply": "2022-03-28T05:42:08.868228Z"
    },
    "papermill": {
     "duration": 0.045551,
     "end_time": "2022-03-28T05:42:08.869079",
     "exception": false,
     "start_time": "2022-03-28T05:42:08.823528",
     "status": "completed"
    },
    "tags": []
   },
   "outputs": [],
   "source": [
    "# # from steves_utils.wisig.utils import (\n",
    "# #     ALL_NODES_MINIMUM_100_EXAMPLES,\n",
    "# #     ALL_NODES_MINIMUM_500_EXAMPLES,\n",
    "# #     ALL_NODES_MINIMUM_1000_EXAMPLES,\n",
    "# #     ALL_DAYS\n",
    "# # )\n",
    "\n",
    "# import steves_utils.wisig.utils as wisig\n",
    "\n",
    "\n",
    "# add_dataset(\n",
    "#     labels=wisig.ALL_NODES_MINIMUM_100_EXAMPLES,\n",
    "#     domains = wisig.ALL_DAYS,\n",
    "#     num_examples_per_domain_per_label=100,\n",
    "#     pickle_path=os.path.join(get_datasets_base_path(), \"wisig.node3-19.stratified_ds.2022A.pkl\"),\n",
    "#     source_or_target_dataset=\"target\",\n",
    "#     x_transform_func=global_x_transform_func,\n",
    "#     domain_modifier=lambda u: f\"wisig_{u}\"\n",
    "# )"
   ]
  },
  {
   "cell_type": "code",
   "execution_count": 19,
   "id": "fd5442bc",
   "metadata": {
    "execution": {
     "iopub.execute_input": "2022-03-28T05:42:08.923753Z",
     "iopub.status.busy": "2022-03-28T05:42:08.922977Z",
     "iopub.status.idle": "2022-03-28T05:42:08.941513Z",
     "shell.execute_reply": "2022-03-28T05:42:08.942142Z"
    },
    "papermill": {
     "duration": 0.048589,
     "end_time": "2022-03-28T05:42:08.942320",
     "exception": false,
     "start_time": "2022-03-28T05:42:08.893731",
     "status": "completed"
    },
    "tags": []
   },
   "outputs": [],
   "source": [
    "###################################\n",
    "# Build the dataset\n",
    "###################################\n",
    "train_original_source = Iterable_Aggregator(train_original_source, p.seed)\n",
    "val_original_source = Iterable_Aggregator(val_original_source, p.seed)\n",
    "test_original_source = Iterable_Aggregator(test_original_source, p.seed)\n",
    "\n",
    "\n",
    "train_original_target = Iterable_Aggregator(train_original_target, p.seed)\n",
    "val_original_target = Iterable_Aggregator(val_original_target, p.seed)\n",
    "test_original_target = Iterable_Aggregator(test_original_target, p.seed)\n",
    "\n",
    "# For CNN We only use X and Y. And we only train on the source.\n",
    "# Properly form the data using a transform lambda and Lazy_Iterable_Wrapper. Finally wrap them in a dataloader\n",
    "\n",
    "transform_lambda = lambda ex: ex[1] # Original is (<domain>, <episode>) so we strip down to episode only\n",
    "\n",
    "train_processed_source = Lazy_Iterable_Wrapper(train_original_source, transform_lambda)\n",
    "val_processed_source   = Lazy_Iterable_Wrapper(val_original_source, transform_lambda)\n",
    "test_processed_source  = Lazy_Iterable_Wrapper(test_original_source, transform_lambda)\n",
    "\n",
    "train_processed_target = Lazy_Iterable_Wrapper(train_original_target, transform_lambda)\n",
    "val_processed_target   = Lazy_Iterable_Wrapper(val_original_target, transform_lambda)\n",
    "test_processed_target  = Lazy_Iterable_Wrapper(test_original_target, transform_lambda)\n",
    "\n",
    "datasets = EasyDict({\n",
    "    \"source\": {\n",
    "        \"original\": {\"train\":train_original_source, \"val\":val_original_source, \"test\":test_original_source},\n",
    "        \"processed\": {\"train\":train_processed_source, \"val\":val_processed_source, \"test\":test_processed_source}\n",
    "    },\n",
    "    \"target\": {\n",
    "        \"original\": {\"train\":train_original_target, \"val\":val_original_target, \"test\":test_original_target},\n",
    "        \"processed\": {\"train\":train_processed_target, \"val\":val_processed_target, \"test\":test_processed_target}\n",
    "    },\n",
    "})"
   ]
  },
  {
   "cell_type": "code",
   "execution_count": 20,
   "id": "5b3c01fc",
   "metadata": {
    "execution": {
     "iopub.execute_input": "2022-03-28T05:42:08.995032Z",
     "iopub.status.busy": "2022-03-28T05:42:08.994218Z",
     "iopub.status.idle": "2022-03-28T05:42:23.128556Z",
     "shell.execute_reply": "2022-03-28T05:42:23.127839Z"
    },
    "papermill": {
     "duration": 14.160095,
     "end_time": "2022-03-28T05:42:23.128737",
     "exception": false,
     "start_time": "2022-03-28T05:42:08.968642",
     "status": "completed"
    },
    "tags": []
   },
   "outputs": [
    {
     "name": "stdout",
     "output_type": "stream",
     "text": [
      "{'O_32', 'O_50', 'O_20', 'O_44', 'O_26', 'O_14', 'O_8', 'O_38'}\n"
     ]
    },
    {
     "name": "stdout",
     "output_type": "stream",
     "text": [
      "{'C_3', 'C_1', 'C_4', 'C_2', 'C_5'}\n"
     ]
    },
    {
     "name": "stdout",
     "output_type": "stream",
     "text": [
      "tensor([[[0., 0., 0.,  ..., 0., 0., 0.],\n",
      "         [0., 0., 0.,  ..., 0., 0., 0.]],\n",
      "\n",
      "        [[0., 0., 0.,  ..., 0., 0., 0.],\n",
      "         [0., 0., 0.,  ..., 0., 0., 0.]],\n",
      "\n",
      "        [[0., 0., 0.,  ..., 0., 0., 0.],\n",
      "         [0., 0., 0.,  ..., 0., 0., 0.]],\n",
      "\n",
      "        ...,\n",
      "\n",
      "        [[0., 0., 0.,  ..., 0., 0., 0.],\n",
      "         [0., 0., 0.,  ..., 0., 0., 0.]],\n",
      "\n",
      "        [[0., 0., 0.,  ..., 0., 0., 0.],\n",
      "         [0., 0., 0.,  ..., 0., 0., 0.]],\n",
      "\n",
      "        [[0., 0., 0.,  ..., 0., 0., 0.],\n",
      "         [0., 0., 0.,  ..., 0., 0., 0.]]])\n"
     ]
    }
   ],
   "source": [
    "from steves_utils.transforms import get_average_magnitude, get_average_power\n",
    "\n",
    "print(set([u for u,_ in val_original_source]))\n",
    "print(set([u for u,_ in val_original_target]))\n",
    "\n",
    "s_x, s_y, q_x, q_y, _ = next(iter(train_processed_source))\n",
    "print(s_x)\n",
    "\n",
    "# for ds in [\n",
    "#     train_processed_source,\n",
    "#     val_processed_source,\n",
    "#     test_processed_source,\n",
    "#     train_processed_target,\n",
    "#     val_processed_target,\n",
    "#     test_processed_target\n",
    "# ]:\n",
    "#     for s_x, s_y, q_x, q_y, _ in ds:\n",
    "#         for X in (s_x, q_x):\n",
    "#             for x in X:\n",
    "#                 assert np.isclose(get_average_magnitude(x.numpy()), 1.0)\n",
    "#                 assert np.isclose(get_average_power(x.numpy()), 1.0)\n",
    "                "
   ]
  },
  {
   "cell_type": "code",
   "execution_count": 21,
   "id": "bbdacba1",
   "metadata": {
    "execution": {
     "iopub.execute_input": "2022-03-28T05:42:23.186859Z",
     "iopub.status.busy": "2022-03-28T05:42:23.185906Z",
     "iopub.status.idle": "2022-03-28T05:42:23.373050Z",
     "shell.execute_reply": "2022-03-28T05:42:23.372195Z"
    },
    "papermill": {
     "duration": 0.217632,
     "end_time": "2022-03-28T05:42:23.373225",
     "exception": false,
     "start_time": "2022-03-28T05:42:23.155593",
     "status": "completed"
    },
    "tags": []
   },
   "outputs": [
    {
     "name": "stdout",
     "output_type": "stream",
     "text": [
      "(2, 256)\n"
     ]
    }
   ],
   "source": [
    "###################################\n",
    "# Build the model\n",
    "###################################\n",
    "# easfsl only wants a tuple for the shape\n",
    "model = Steves_Prototypical_Network(x_net, device=p.device, x_shape=tuple(p.x_shape))\n",
    "optimizer = Adam(params=model.parameters(), lr=p.lr)"
   ]
  },
  {
   "cell_type": "code",
   "execution_count": 22,
   "id": "22b39ac5",
   "metadata": {
    "execution": {
     "iopub.execute_input": "2022-03-28T05:42:23.433148Z",
     "iopub.status.busy": "2022-03-28T05:42:23.432604Z",
     "iopub.status.idle": "2022-03-28T05:54:43.910797Z",
     "shell.execute_reply": "2022-03-28T05:54:43.910448Z"
    },
    "papermill": {
     "duration": 740.506754,
     "end_time": "2022-03-28T05:54:43.910891",
     "exception": false,
     "start_time": "2022-03-28T05:42:23.404137",
     "status": "completed"
    },
    "tags": []
   },
   "outputs": [
    {
     "name": "stdout",
     "output_type": "stream",
     "text": [
      "epoch: 1, [batch: 1 / 6720], examples_per_second: 32.2853, train_label_loss: 2.8229, \n"
     ]
    },
    {
     "name": "stdout",
     "output_type": "stream",
     "text": [
      "epoch: 1, [batch: 672 / 6720], examples_per_second: 4159.9298, train_label_loss: 0.6269, \n"
     ]
    },
    {
     "name": "stdout",
     "output_type": "stream",
     "text": [
      "epoch: 1, [batch: 1344 / 6720], examples_per_second: 4178.6695, train_label_loss: 0.5506, \n"
     ]
    },
    {
     "name": "stdout",
     "output_type": "stream",
     "text": [
      "epoch: 1, [batch: 2016 / 6720], examples_per_second: 4283.1792, train_label_loss: 0.7870, \n"
     ]
    },
    {
     "name": "stdout",
     "output_type": "stream",
     "text": [
      "epoch: 1, [batch: 2688 / 6720], examples_per_second: 4459.5136, train_label_loss: 0.3878, \n"
     ]
    },
    {
     "name": "stdout",
     "output_type": "stream",
     "text": [
      "epoch: 1, [batch: 3360 / 6720], examples_per_second: 5241.7386, train_label_loss: 0.3233, \n"
     ]
    },
    {
     "name": "stdout",
     "output_type": "stream",
     "text": [
      "epoch: 1, [batch: 4032 / 6720], examples_per_second: 4981.6812, train_label_loss: 0.5282, \n"
     ]
    },
    {
     "name": "stdout",
     "output_type": "stream",
     "text": [
      "epoch: 1, [batch: 4704 / 6720], examples_per_second: 4872.5435, train_label_loss: 0.3031, \n"
     ]
    },
    {
     "name": "stdout",
     "output_type": "stream",
     "text": [
      "epoch: 1, [batch: 5376 / 6720], examples_per_second: 4820.9185, train_label_loss: 0.5745, \n"
     ]
    },
    {
     "name": "stdout",
     "output_type": "stream",
     "text": [
      "epoch: 1, [batch: 6048 / 6720], examples_per_second: 4971.6699, train_label_loss: 0.2324, \n"
     ]
    },
    {
     "name": "stdout",
     "output_type": "stream",
     "text": [
      "=============================================================\n",
      "epoch: 1, source_val_acc_label: 0.5658, target_val_acc_label: 0.6373, source_val_label_loss: 294.5387, target_val_label_loss: 8320.3779, \n",
      "=============================================================\n"
     ]
    },
    {
     "name": "stdout",
     "output_type": "stream",
     "text": [
      "New best\n"
     ]
    },
    {
     "name": "stdout",
     "output_type": "stream",
     "text": [
      "epoch: 2, [batch: 1 / 6720], examples_per_second: 5.3257, train_label_loss: 121.3517, \n"
     ]
    },
    {
     "name": "stdout",
     "output_type": "stream",
     "text": [
      "epoch: 2, [batch: 672 / 6720], examples_per_second: 4978.8177, train_label_loss: 10.3493, \n"
     ]
    },
    {
     "name": "stdout",
     "output_type": "stream",
     "text": [
      "epoch: 2, [batch: 1344 / 6720], examples_per_second: 5378.2250, train_label_loss: 0.3363, \n"
     ]
    },
    {
     "name": "stdout",
     "output_type": "stream",
     "text": [
      "epoch: 2, [batch: 2016 / 6720], examples_per_second: 5425.5002, train_label_loss: 0.2783, \n"
     ]
    },
    {
     "name": "stdout",
     "output_type": "stream",
     "text": [
      "epoch: 2, [batch: 2688 / 6720], examples_per_second: 5192.9067, train_label_loss: 0.4837, \n"
     ]
    },
    {
     "name": "stdout",
     "output_type": "stream",
     "text": [
      "epoch: 2, [batch: 3360 / 6720], examples_per_second: 5401.1354, train_label_loss: 1.5785, \n"
     ]
    },
    {
     "name": "stdout",
     "output_type": "stream",
     "text": [
      "epoch: 2, [batch: 4032 / 6720], examples_per_second: 5454.4724, train_label_loss: 0.3973, \n"
     ]
    },
    {
     "name": "stdout",
     "output_type": "stream",
     "text": [
      "epoch: 2, [batch: 4704 / 6720], examples_per_second: 5437.7947, train_label_loss: 0.3597, \n"
     ]
    },
    {
     "name": "stdout",
     "output_type": "stream",
     "text": [
      "epoch: 2, [batch: 5376 / 6720], examples_per_second: 5384.1854, train_label_loss: 0.2959, \n"
     ]
    },
    {
     "name": "stdout",
     "output_type": "stream",
     "text": [
      "epoch: 2, [batch: 6048 / 6720], examples_per_second: 5367.5160, train_label_loss: 0.4836, \n"
     ]
    },
    {
     "name": "stdout",
     "output_type": "stream",
     "text": [
      "=============================================================\n",
      "epoch: 2, source_val_acc_label: 0.8223, target_val_acc_label: 0.5156, source_val_label_loss: 0.4858, target_val_label_loss: 1532.2577, \n",
      "=============================================================\n"
     ]
    },
    {
     "name": "stdout",
     "output_type": "stream",
     "text": [
      "epoch: 3, [batch: 1 / 6720], examples_per_second: 5.4293, train_label_loss: 0.1640, \n"
     ]
    },
    {
     "name": "stdout",
     "output_type": "stream",
     "text": [
      "epoch: 3, [batch: 672 / 6720], examples_per_second: 4669.3102, train_label_loss: 0.5484, \n"
     ]
    },
    {
     "name": "stdout",
     "output_type": "stream",
     "text": [
      "epoch: 3, [batch: 1344 / 6720], examples_per_second: 4761.2832, train_label_loss: 0.3049, \n"
     ]
    },
    {
     "name": "stdout",
     "output_type": "stream",
     "text": [
      "epoch: 3, [batch: 2016 / 6720], examples_per_second: 3764.0409, train_label_loss: 0.3667, \n"
     ]
    },
    {
     "name": "stdout",
     "output_type": "stream",
     "text": [
      "epoch: 3, [batch: 2688 / 6720], examples_per_second: 3724.1645, train_label_loss: 0.3539, \n"
     ]
    },
    {
     "name": "stdout",
     "output_type": "stream",
     "text": [
      "epoch: 3, [batch: 3360 / 6720], examples_per_second: 3818.8233, train_label_loss: 0.4639, \n"
     ]
    },
    {
     "name": "stdout",
     "output_type": "stream",
     "text": [
      "epoch: 3, [batch: 4032 / 6720], examples_per_second: 3821.8946, train_label_loss: 0.3529, \n"
     ]
    },
    {
     "name": "stdout",
     "output_type": "stream",
     "text": [
      "epoch: 3, [batch: 4704 / 6720], examples_per_second: 3770.7735, train_label_loss: 0.4377, \n"
     ]
    },
    {
     "name": "stdout",
     "output_type": "stream",
     "text": [
      "epoch: 3, [batch: 5376 / 6720], examples_per_second: 3778.1382, train_label_loss: 0.3754, \n"
     ]
    },
    {
     "name": "stdout",
     "output_type": "stream",
     "text": [
      "epoch: 3, [batch: 6048 / 6720], examples_per_second: 3926.9130, train_label_loss: 0.2924, \n"
     ]
    },
    {
     "name": "stdout",
     "output_type": "stream",
     "text": [
      "=============================================================\n",
      "epoch: 3, source_val_acc_label: 0.8697, target_val_acc_label: 0.4448, source_val_label_loss: 0.3804, target_val_label_loss: 2171.8896, \n",
      "=============================================================\n"
     ]
    },
    {
     "name": "stdout",
     "output_type": "stream",
     "text": [
      "epoch: 4, [batch: 1 / 6720], examples_per_second: 3.9953, train_label_loss: 0.5700, \n"
     ]
    },
    {
     "name": "stdout",
     "output_type": "stream",
     "text": [
      "epoch: 4, [batch: 672 / 6720], examples_per_second: 4312.1614, train_label_loss: 0.2741, \n"
     ]
    },
    {
     "name": "stdout",
     "output_type": "stream",
     "text": [
      "epoch: 4, [batch: 1344 / 6720], examples_per_second: 4306.9014, train_label_loss: 0.3920, \n"
     ]
    },
    {
     "name": "stdout",
     "output_type": "stream",
     "text": [
      "epoch: 4, [batch: 2016 / 6720], examples_per_second: 3813.9914, train_label_loss: 0.3152, \n"
     ]
    },
    {
     "name": "stdout",
     "output_type": "stream",
     "text": [
      "epoch: 4, [batch: 2688 / 6720], examples_per_second: 3866.8142, train_label_loss: 0.4003, \n"
     ]
    },
    {
     "name": "stdout",
     "output_type": "stream",
     "text": [
      "epoch: 4, [batch: 3360 / 6720], examples_per_second: 3870.5043, train_label_loss: 0.6151, \n"
     ]
    },
    {
     "name": "stdout",
     "output_type": "stream",
     "text": [
      "epoch: 4, [batch: 4032 / 6720], examples_per_second: 3902.8228, train_label_loss: 0.1153, \n"
     ]
    },
    {
     "name": "stdout",
     "output_type": "stream",
     "text": [
      "epoch: 4, [batch: 4704 / 6720], examples_per_second: 3905.2130, train_label_loss: 0.3666, \n"
     ]
    },
    {
     "name": "stdout",
     "output_type": "stream",
     "text": [
      "epoch: 4, [batch: 5376 / 6720], examples_per_second: 4096.9760, train_label_loss: 0.2938, \n"
     ]
    },
    {
     "name": "stdout",
     "output_type": "stream",
     "text": [
      "epoch: 4, [batch: 6048 / 6720], examples_per_second: 4005.5355, train_label_loss: 0.5186, \n"
     ]
    },
    {
     "name": "stdout",
     "output_type": "stream",
     "text": [
      "=============================================================\n",
      "epoch: 4, source_val_acc_label: 0.8682, target_val_acc_label: 0.4284, source_val_label_loss: 0.3741, target_val_label_loss: 2998.6938, \n",
      "=============================================================\n"
     ]
    },
    {
     "name": "stdout",
     "output_type": "stream",
     "text": [
      "epoch: 5, [batch: 1 / 6720], examples_per_second: 3.9730, train_label_loss: 0.3964, \n"
     ]
    },
    {
     "name": "stdout",
     "output_type": "stream",
     "text": [
      "epoch: 5, [batch: 672 / 6720], examples_per_second: 4105.5448, train_label_loss: 0.3863, \n"
     ]
    },
    {
     "name": "stdout",
     "output_type": "stream",
     "text": [
      "epoch: 5, [batch: 1344 / 6720], examples_per_second: 4079.6320, train_label_loss: 0.3117, \n"
     ]
    },
    {
     "name": "stdout",
     "output_type": "stream",
     "text": [
      "epoch: 5, [batch: 2016 / 6720], examples_per_second: 3866.8333, train_label_loss: 0.4071, \n"
     ]
    },
    {
     "name": "stdout",
     "output_type": "stream",
     "text": [
      "epoch: 5, [batch: 2688 / 6720], examples_per_second: 3774.3381, train_label_loss: 0.2621, \n"
     ]
    },
    {
     "name": "stdout",
     "output_type": "stream",
     "text": [
      "epoch: 5, [batch: 3360 / 6720], examples_per_second: 3850.3672, train_label_loss: 0.2797, \n"
     ]
    },
    {
     "name": "stdout",
     "output_type": "stream",
     "text": [
      "epoch: 5, [batch: 4032 / 6720], examples_per_second: 3959.4857, train_label_loss: 0.4123, \n"
     ]
    },
    {
     "name": "stdout",
     "output_type": "stream",
     "text": [
      "epoch: 5, [batch: 4704 / 6720], examples_per_second: 3986.8688, train_label_loss: 0.2573, \n"
     ]
    },
    {
     "name": "stdout",
     "output_type": "stream",
     "text": [
      "epoch: 5, [batch: 5376 / 6720], examples_per_second: 4035.2051, train_label_loss: 0.2527, \n"
     ]
    },
    {
     "name": "stdout",
     "output_type": "stream",
     "text": [
      "epoch: 5, [batch: 6048 / 6720], examples_per_second: 3850.9818, train_label_loss: 0.1893, \n"
     ]
    },
    {
     "name": "stdout",
     "output_type": "stream",
     "text": [
      "=============================================================\n",
      "epoch: 5, source_val_acc_label: 0.8791, target_val_acc_label: 0.4640, source_val_label_loss: 0.3450, target_val_label_loss: 820.9841, \n",
      "=============================================================\n"
     ]
    },
    {
     "name": "stdout",
     "output_type": "stream",
     "text": [
      "Patience (3) exhausted\n"
     ]
    }
   ],
   "source": [
    "###################################\n",
    "# train\n",
    "###################################\n",
    "jig = PTN_Train_Eval_Test_Jig(model, p.BEST_MODEL_PATH, p.device)\n",
    "\n",
    "jig.train(\n",
    "    train_iterable=datasets.source.processed.train,\n",
    "    source_val_iterable=datasets.source.processed.val,\n",
    "    target_val_iterable=datasets.target.processed.val,\n",
    "    num_epochs=p.n_epoch,\n",
    "    num_logs_per_epoch=p.NUM_LOGS_PER_EPOCH,\n",
    "    patience=p.patience,\n",
    "    optimizer=optimizer,\n",
    "    criteria_for_best=p.criteria_for_best,\n",
    ")"
   ]
  },
  {
   "cell_type": "code",
   "execution_count": 23,
   "id": "31e8fabf",
   "metadata": {
    "execution": {
     "iopub.execute_input": "2022-03-28T05:54:43.995690Z",
     "iopub.status.busy": "2022-03-28T05:54:43.995295Z",
     "iopub.status.idle": "2022-03-28T05:54:44.026338Z",
     "shell.execute_reply": "2022-03-28T05:54:44.025499Z"
    },
    "papermill": {
     "duration": 0.07812,
     "end_time": "2022-03-28T05:54:44.026498",
     "exception": false,
     "start_time": "2022-03-28T05:54:43.948378",
     "status": "completed"
    },
    "tags": []
   },
   "outputs": [],
   "source": [
    "total_experiment_time_secs = time.time() - start_time_secs"
   ]
  },
  {
   "cell_type": "code",
   "execution_count": 24,
   "id": "87b9595b",
   "metadata": {
    "execution": {
     "iopub.execute_input": "2022-03-28T05:54:44.113305Z",
     "iopub.status.busy": "2022-03-28T05:54:44.112456Z",
     "iopub.status.idle": "2022-03-28T05:57:26.371656Z",
     "shell.execute_reply": "2022-03-28T05:57:26.370779Z"
    },
    "papermill": {
     "duration": 162.303386,
     "end_time": "2022-03-28T05:57:26.371837",
     "exception": false,
     "start_time": "2022-03-28T05:54:44.068451",
     "status": "completed"
    },
    "tags": []
   },
   "outputs": [],
   "source": [
    "###################################\n",
    "# Evaluate the model\n",
    "###################################\n",
    "source_test_label_accuracy, source_test_label_loss = jig.test(datasets.source.processed.test)\n",
    "target_test_label_accuracy, target_test_label_loss = jig.test(datasets.target.processed.test)\n",
    "\n",
    "source_val_label_accuracy, source_val_label_loss = jig.test(datasets.source.processed.val)\n",
    "target_val_label_accuracy, target_val_label_loss = jig.test(datasets.target.processed.val)\n",
    "\n",
    "history = jig.get_history()\n",
    "\n",
    "total_epochs_trained = len(history[\"epoch_indices\"])\n",
    "\n",
    "val_dl = Iterable_Aggregator((datasets.source.original.val,datasets.target.original.val))\n",
    "\n",
    "confusion = ptn_confusion_by_domain_over_dataloader(model, p.device, val_dl)\n",
    "per_domain_accuracy = per_domain_accuracy_from_confusion(confusion)\n",
    "\n",
    "# Add a key to per_domain_accuracy for if it was a source domain\n",
    "for domain, accuracy in per_domain_accuracy.items():\n",
    "    per_domain_accuracy[domain] = {\n",
    "        \"accuracy\": accuracy,\n",
    "        \"source?\": domain in p.domains_source\n",
    "    }\n",
    "\n",
    "# Do an independent accuracy assesment JUST TO BE SURE!\n",
    "# _source_test_label_accuracy = independent_accuracy_assesment(model, datasets.source.processed.test, p.device)\n",
    "# _target_test_label_accuracy = independent_accuracy_assesment(model, datasets.target.processed.test, p.device)\n",
    "# _source_val_label_accuracy = independent_accuracy_assesment(model, datasets.source.processed.val, p.device)\n",
    "# _target_val_label_accuracy = independent_accuracy_assesment(model, datasets.target.processed.val, p.device)\n",
    "\n",
    "# assert(_source_test_label_accuracy == source_test_label_accuracy)\n",
    "# assert(_target_test_label_accuracy == target_test_label_accuracy)\n",
    "# assert(_source_val_label_accuracy == source_val_label_accuracy)\n",
    "# assert(_target_val_label_accuracy == target_val_label_accuracy)\n",
    "\n",
    "experiment = {\n",
    "    \"experiment_name\": p.experiment_name,\n",
    "    \"parameters\": dict(p),\n",
    "    \"results\": {\n",
    "        \"source_test_label_accuracy\": source_test_label_accuracy,\n",
    "        \"source_test_label_loss\": source_test_label_loss,\n",
    "        \"target_test_label_accuracy\": target_test_label_accuracy,\n",
    "        \"target_test_label_loss\": target_test_label_loss,\n",
    "        \"source_val_label_accuracy\": source_val_label_accuracy,\n",
    "        \"source_val_label_loss\": source_val_label_loss,\n",
    "        \"target_val_label_accuracy\": target_val_label_accuracy,\n",
    "        \"target_val_label_loss\": target_val_label_loss,\n",
    "        \"total_epochs_trained\": total_epochs_trained,\n",
    "        \"total_experiment_time_secs\": total_experiment_time_secs,\n",
    "        \"confusion\": confusion,\n",
    "        \"per_domain_accuracy\": per_domain_accuracy,\n",
    "    },\n",
    "    \"history\": history,\n",
    "    \"dataset_metrics\": get_dataset_metrics(datasets, \"ptn\"),\n",
    "}"
   ]
  },
  {
   "cell_type": "code",
   "execution_count": 25,
   "id": "54a21829",
   "metadata": {
    "execution": {
     "iopub.execute_input": "2022-03-28T05:57:26.457193Z",
     "iopub.status.busy": "2022-03-28T05:57:26.456824Z",
     "iopub.status.idle": "2022-03-28T05:57:26.669414Z",
     "shell.execute_reply": "2022-03-28T05:57:26.670101Z"
    },
    "papermill": {
     "duration": 0.255605,
     "end_time": "2022-03-28T05:57:26.670285",
     "exception": false,
     "start_time": "2022-03-28T05:57:26.414680",
     "status": "completed"
    },
    "tags": []
   },
   "outputs": [
    {
     "data": {
      "image/png": "[encoded data removed]",
      "text/plain": [
       "<Figure size 1080x504 with 1 Axes>"
      ]
     },
     "metadata": {
      "needs_background": "light"
     },
     "output_type": "display_data"
    }
   ],
   "source": [
    "ax = get_loss_curve(experiment)\n",
    "plt.show()"
   ]
  },
  {
   "cell_type": "code",
   "execution_count": 26,
   "id": "fd8a0f60",
   "metadata": {
    "execution": {
     "iopub.execute_input": "2022-03-28T05:57:26.755456Z",
     "iopub.status.busy": "2022-03-28T05:57:26.754968Z",
     "iopub.status.idle": "2022-03-28T05:57:27.079806Z",
     "shell.execute_reply": "2022-03-28T05:57:27.080490Z"
    },
    "papermill": {
     "duration": 0.367989,
     "end_time": "2022-03-28T05:57:27.080675",
     "exception": false,
     "start_time": "2022-03-28T05:57:26.712686",
     "status": "completed"
    },
    "tags": []
   },
   "outputs": [
    {
     "data": {
      "text/plain": [
       "<AxesSubplot:title={'center':'Results'}>"
      ]
     },
     "execution_count": 26,
     "metadata": {},
     "output_type": "execute_result"
    },
    {
     "data": {
      "image/png": "[encoded data removed]",
      "text/plain": [
       "<Figure size 1080x504 with 1 Axes>"
      ]
     },
     "metadata": {
      "needs_background": "light"
     },
     "output_type": "display_data"
    }
   ],
   "source": [
    "get_results_table(experiment)"
   ]
  },
  {
   "cell_type": "code",
   "execution_count": 27,
   "id": "cf8dc689",
   "metadata": {
    "execution": {
     "iopub.execute_input": "2022-03-28T05:57:27.168908Z",
     "iopub.status.busy": "2022-03-28T05:57:27.168404Z",
     "iopub.status.idle": "2022-03-28T05:57:27.407195Z",
     "shell.execute_reply": "2022-03-28T05:57:27.406508Z"
    },
    "papermill": {
     "duration": 0.28224,
     "end_time": "2022-03-28T05:57:27.407358",
     "exception": false,
     "start_time": "2022-03-28T05:57:27.125118",
     "status": "completed"
    },
    "tags": []
   },
   "outputs": [
    {
     "data": {
      "text/plain": [
       "<AxesSubplot:title={'center':'Per Domain Validation Accuracy'}, xlabel='domain'>"
      ]
     },
     "execution_count": 27,
     "metadata": {},
     "output_type": "execute_result"
    },
    {
     "data": {
      "image/png": "[encoded data removed]",
      "text/plain": [
       "<Figure size 1080x504 with 1 Axes>"
      ]
     },
     "metadata": {
      "needs_background": "light"
     },
     "output_type": "display_data"
    }
   ],
   "source": [
    "get_domain_accuracies(experiment)"
   ]
  },
  {
   "cell_type": "code",
   "execution_count": 28,
   "id": "a74ae082",
   "metadata": {
    "execution": {
     "iopub.execute_input": "2022-03-28T05:57:27.500289Z",
     "iopub.status.busy": "2022-03-28T05:57:27.499808Z",
     "iopub.status.idle": "2022-03-28T05:57:27.523019Z",
     "shell.execute_reply": "2022-03-28T05:57:27.522308Z"
    },
    "papermill": {
     "duration": 0.068779,
     "end_time": "2022-03-28T05:57:27.523175",
     "exception": false,
     "start_time": "2022-03-28T05:57:27.454396",
     "status": "completed"
    },
    "tags": []
   },
   "outputs": [
    {
     "name": "stdout",
     "output_type": "stream",
     "text": [
      "Source Test Label Accuracy: 0.5650065104166667 Target Test Label Accuracy: 0.6380649717514124\n",
      "Source Val Label Accuracy: 0.5657552083333334 Target Val Label Accuracy: 0.6372857142857142\n"
     ]
    }
   ],
   "source": [
    "print(\"Source Test Label Accuracy:\", experiment[\"results\"][\"source_test_label_accuracy\"], \"Target Test Label Accuracy:\", experiment[\"results\"][\"target_test_label_accuracy\"])\n",
    "print(\"Source Val Label Accuracy:\", experiment[\"results\"][\"source_val_label_accuracy\"], \"Target Val Label Accuracy:\", experiment[\"results\"][\"target_val_label_accuracy\"])"
   ]
  },
  {
   "cell_type": "code",
   "execution_count": 29,
   "id": "dacca602",
   "metadata": {
    "execution": {
     "iopub.execute_input": "2022-03-28T05:57:27.617903Z",
     "iopub.status.busy": "2022-03-28T05:57:27.617346Z",
     "iopub.status.idle": "2022-03-28T05:57:27.644890Z",
     "shell.execute_reply": "2022-03-28T05:57:27.645361Z"
    },
    "papermill": {
     "duration": 0.074773,
     "end_time": "2022-03-28T05:57:27.645486",
     "exception": false,
     "start_time": "2022-03-28T05:57:27.570713",
     "status": "completed"
    },
    "tags": [
     "experiment_json"
    ]
   },
   "outputs": [
    {
     "data": {
      "text/plain": [
       "'{\"experiment_name\": \"tl_3-jitter1v2:oracle.run1.framed -> cores\", \"parameters\": {\"experiment_name\": \"tl_3-jitter1v2:oracle.run1.framed -> cores\", \"device\": \"cuda\", \"lr\": 0.0001, \"x_shape\": [2, 256], \"n_shot\": 3, \"n_query\": 2, \"train_k_factor\": 3, \"val_k_factor\": 2, \"test_k_factor\": 2, \"torch_default_dtype\": \"torch.float32\", \"n_epoch\": 50, \"patience\": 3, \"criteria_for_best\": \"target_accuracy\", \"x_net\": [{\"class\": \"nnReshape\", \"kargs\": {\"shape\": [-1, 1, 2, 256]}}, {\"class\": \"Conv2d\", \"kargs\": {\"in_channels\": 1, \"out_channels\": 256, \"kernel_size\": [1, 7], \"bias\": false, \"padding\": [0, 3]}}, {\"class\": \"ReLU\", \"kargs\": {\"inplace\": true}}, {\"class\": \"BatchNorm2d\", \"kargs\": {\"num_features\": 256}}, {\"class\": \"Conv2d\", \"kargs\": {\"in_channels\": 256, \"out_channels\": 80, \"kernel_size\": [2, 7], \"bias\": true, \"padding\": [0, 3]}}, {\"class\": \"ReLU\", \"kargs\": {\"inplace\": true}}, {\"class\": \"BatchNorm2d\", \"kargs\": {\"num_features\": 80}}, {\"class\": \"Flatten\", \"kargs\": {}}, {\"class\": \"Linear\", \"kargs\": {\"in_features\": 20480, \"out_features\": 256}}, {\"class\": \"ReLU\", \"kargs\": {\"inplace\": true}}, {\"class\": \"BatchNorm1d\", \"kargs\": {\"num_features\": 256}}, {\"class\": \"Linear\", \"kargs\": {\"in_features\": 256, \"out_features\": 256}}], \"NUM_LOGS_PER_EPOCH\": 10, \"BEST_MODEL_PATH\": \"./best_model.pth\", \"n_way\": 16, \"datasets\": [{\"labels\": [\"1-10.\", \"1-11.\", \"1-15.\", \"1-16.\", \"1-17.\", \"1-18.\", \"1-19.\", \"10-4.\", \"10-7.\", \"11-1.\", \"11-14.\", \"11-17.\", \"11-20.\", \"11-7.\", \"13-20.\", \"13-8.\", \"14-10.\", \"14-11.\", \"14-14.\", \"14-7.\", \"15-1.\", \"15-20.\", \"16-1.\", \"16-16.\", \"17-10.\", \"17-11.\", \"17-2.\", \"19-1.\", \"19-16.\", \"19-19.\", \"19-20.\", \"19-3.\", \"2-10.\", \"2-11.\", \"2-17.\", \"2-18.\", \"2-20.\", \"2-3.\", \"2-4.\", \"2-5.\", \"2-6.\", \"2-7.\", \"2-8.\", \"3-13.\", \"3-18.\", \"3-3.\", \"4-1.\", \"4-10.\", \"4-11.\", \"4-19.\", \"5-5.\", \"6-15.\", \"7-10.\", \"7-14.\", \"8-18.\", \"8-20.\", \"8-3.\", \"8-8.\"], \"domains\": [1, 2, 3, 4, 5], \"num_examples_per_domain_per_label\": -1, \"pickle_path\": \"/root/csc500-main/datasets/cores.stratified_ds.2022A.pkl\", \"source_or_target_dataset\": \"target\", \"x_transforms\": [\"jitter_256_1\", \"lowpass_+/-10MHz\", \"take_200\"], \"episode_transforms\": [], \"domain_prefix\": \"C_\"}, {\"labels\": [\"3123D52\", \"3123D65\", \"3123D79\", \"3123D80\", \"3123D54\", \"3123D70\", \"3123D7B\", \"3123D89\", \"3123D58\", \"3123D76\", \"3123D7D\", \"3123EFE\", \"3123D64\", \"3123D78\", \"3123D7E\", \"3124E4A\"], \"domains\": [32, 38, 8, 44, 14, 50, 20, 26], \"num_examples_per_domain_per_label\": 2000, \"pickle_path\": \"/root/csc500-main/datasets/oracle.Run1_framed_2000Examples_stratified_ds.2022A.pkl\", \"source_or_target_dataset\": \"source\", \"x_transforms\": [\"jitter_256_1\", \"take_200\", \"resample_20Msps_to_25Msps\"], \"episode_transforms\": [], \"domain_prefix\": \"O_\"}], \"seed\": 7, \"dataset_seed\": 7, \"domains_source\": [\"O_32\", \"O_38\", \"O_8\", \"O_44\", \"O_14\", \"O_50\", \"O_20\", \"O_26\"], \"domains_target\": [\"C_1\", \"C_2\", \"C_3\", \"C_4\", \"C_5\"]}, \"results\": {\"source_test_label_accuracy\": 0.5650065104166667, \"source_test_label_loss\": 298.45074462890625, \"target_test_label_accuracy\": 0.6380649717514124, \"target_test_label_loss\": 8318.3095703125, \"source_val_label_accuracy\": 0.5657552083333334, \"source_val_label_loss\": 294.5386962890625, \"target_val_label_accuracy\": 0.6372857142857142, \"target_val_label_loss\": 8320.3779296875, \"total_epochs_trained\": 5, \"total_experiment_time_secs\": 819.7883310317993, \"confusion\": {\"O_26\": {\"0\": {\"10\": 54, \"0\": 98, \"14\": 47, \"7\": 6, \"9\": 6, \"2\": 4, \"3\": 1, \"13\": 3, \"4\": 5, \"8\": 13, \"15\": 1, \"6\": 1, \"12\": 1}, \"4\": {\"7\": 20, \"3\": 58, \"2\": 14, \"9\": 19, \"4\": 64, \"0\": 6, \"13\": 43, \"8\": 8, \"12\": 4, \"15\": 2, \"10\": 1, \"14\": 1}, \"14\": {\"14\": 140, \"10\": 58, \"0\": 14, \"1\": 12, \"12\": 2, \"2\": 2, \"15\": 3, \"9\": 2, \"8\": 1, \"7\": 2, \"6\": 3, \"3\": 1}, \"12\": {\"9\": 26, \"12\": 111, \"4\": 1, \"13\": 10, \"0\": 23, \"8\": 32, \"6\": 4, \"2\": 10, \"7\": 8, \"10\": 7, \"5\": 2, \"3\": 4, \"11\": 1, \"15\": 1}, \"8\": {\"3\": 17, \"8\": 67, \"0\": 39, \"7\": 22, \"4\": 16, \"9\": 28, \"2\": 24, \"6\": 1, \"13\": 9, \"10\": 8, \"12\": 5, \"5\": 1, \"14\": 3}, \"7\": {\"3\": 22, \"7\": 31, \"2\": 34, \"0\": 31, \"8\": 60, \"12\": 3, \"4\": 17, \"9\": 15, \"13\": 13, \"5\": 1, \"14\": 8, \"10\": 5}, \"13\": {\"13\": 27, \"4\": 32, \"3\": 45, \"8\": 27, \"12\": 11, \"7\": 19, \"0\": 16, \"9\": 29, \"2\": 28, \"15\": 1, \"10\": 4, \"14\": 1}, \"5\": {\"5\": 176, \"15\": 43, \"6\": 12, \"3\": 1, \"8\": 1, \"1\": 2, \"2\": 3, \"9\": 1, \"11\": 1}, \"15\": {\"5\": 51, \"15\": 143, \"1\": 3, \"6\": 29, \"10\": 8, \"8\": 1, \"0\": 2, \"13\": 2, \"14\": 1}, \"10\": {\"6\": 14, \"10\": 120, \"0\": 16, \"14\": 65, \"12\": 2, \"2\": 3, \"8\": 1, \"15\": 12, \"9\": 2, \"7\": 1, \"11\": 2, \"3\": 1, \"4\": 1}, \"3\": {\"3\": 39, \"4\": 37, \"9\": 20, \"13\": 29, \"8\": 35, \"0\": 21, \"12\": 3, \"7\": 27, \"2\": 23, \"14\": 4, \"10\": 1, \"15\": 1}, \"9\": {\"4\": 17, \"2\": 29, \"7\": 24, \"3\": 17, \"8\": 51, \"13\": 21, \"0\": 30, \"9\": 32, \"14\": 7, \"10\": 5, \"12\": 4, \"15\": 3}, \"6\": {\"5\": 13, \"6\": 196, \"15\": 21, \"10\": 5, \"14\": 1, \"0\": 2, \"2\": 1, \"9\": 1}, \"1\": {\"1\": 196, \"14\": 34, \"10\": 5, \"6\": 4, \"15\": 1}, \"11\": {\"11\": 236, \"6\": 4}, \"2\": {\"8\": 42, \"7\": 20, \"10\": 7, \"3\": 15, \"0\": 47, \"4\": 18, \"2\": 39, \"15\": 5, \"9\": 22, \"13\": 14, \"14\": 9, \"12\": 2}}, \"O_44\": {\"1\": {\"1\": 213, \"2\": 27}, \"11\": {\"11\": 240}, \"3\": {\"3\": 227, \"12\": 13}, \"6\": {\"6\": 206, \"13\": 22, \"9\": 12}, \"7\": {\"7\": 213, \"9\": 21, \"10\": 5, \"6\": 1}, \"5\": {\"5\": 213, \"15\": 15, \"14\": 12}, \"2\": {\"2\": 219, \"10\": 12, \"1\": 9}, \"15\": {\"14\": 18, \"15\": 197, \"8\": 11, \"5\": 12, \"4\": 1, \"0\": 1}, \"10\": {\"10\": 196, \"7\": 21, \"2\": 14, \"1\": 8, \"9\": 1}, \"13\": {\"13\": 212, \"6\": 23, \"9\": 3, \"11\": 2}, \"8\": {\"15\": 6, \"8\": 169, \"0\": 61, \"5\": 4}, \"4\": {\"4\": 135, \"14\": 95, \"9\": 4, \"15\": 3, \"5\": 3}, \"9\": {\"9\": 104, \"7\": 66, \"13\": 39, \"6\": 30, \"4\": 1}, \"14\": {\"4\": 42, \"14\": 176, \"5\": 10, \"15\": 12}, \"0\": {\"8\": 35, \"0\": 205}, \"12\": {\"12\": 228, \"3\": 12}}, \"O_50\": {\"15\": {\"15\": 222, \"6\": 14, \"9\": 2, \"11\": 2}, \"4\": {\"4\": 199, \"7\": 29, \"5\": 3, \"15\": 7, \"6\": 2}, \"6\": {\"6\": 200, \"15\": 10, \"5\": 30}, \"2\": {\"2\": 226, \"0\": 14}, \"5\": {\"7\": 46, \"4\": 2, \"6\": 66, \"5\": 114, \"13\": 9, \"15\": 3}, \"9\": {\"9\": 214, \"11\": 11, \"12\": 15}, \"8\": {\"8\": 240}, \"12\": {\"12\": 221, \"9\": 17, \"11\": 2}, \"10\": {\"10\": 240}, \"1\": {\"1\": 229, \"13\": 10, \"5\": 1}, \"0\": {\"0\": 226, \"2\": 10, \"10\": 4}, \"3\": {\"3\": 240}, \"13\": {\"13\": 239, \"1\": 1}, \"11\": {\"11\": 229, \"12\": 7, \"15\": 1, \"9\": 3}, \"7\": {\"7\": 204, \"4\": 13, \"5\": 23}, \"14\": {\"14\": 240}}, \"O_38\": {\"15\": {\"15\": 217, \"5\": 6, \"8\": 12, \"1\": 5}, \"11\": {\"11\": 127, \"3\": 100, \"4\": 13}, \"10\": {\"10\": 205, \"0\": 23, \"13\": 4, \"3\": 5, \"4\": 3}, \"14\": {\"14\": 223, \"2\": 17}, \"6\": {\"6\": 237, \"1\": 3}, \"4\": {\"4\": 239, \"10\": 1}, \"13\": {\"13\": 214, \"10\": 15, \"0\": 10, \"14\": 1}, \"3\": {\"3\": 240}, \"7\": {\"7\": 237, \"5\": 2, \"8\": 1}, \"8\": {\"5\": 79, \"8\": 131, \"7\": 22, \"15\": 6, \"14\": 1, \"13\": 1}, \"1\": {\"1\": 239, \"6\": 1}, \"5\": {\"5\": 107, \"15\": 10, \"8\": 98, \"7\": 15, \"9\": 10}, \"0\": {\"3\": 29, \"0\": 125, \"7\": 21, \"10\": 41, \"13\": 23, \"8\": 1}, \"2\": {\"2\": 222, \"14\": 18}, \"12\": {\"12\": 240}, \"9\": {\"9\": 232, \"5\": 7, \"7\": 1}}, \"O_20\": {\"10\": {\"12\": 15, \"10\": 49, \"13\": 38, \"7\": 22, \"4\": 17, \"14\": 6, \"5\": 5, \"15\": 13, \"2\": 23, \"3\": 5, \"6\": 32, \"9\": 14, \"8\": 1}, \"7\": {\"1\": 17, \"2\": 16, \"15\": 18, \"14\": 15, \"6\": 23, \"4\": 14, \"9\": 21, \"12\": 24, \"8\": 9, \"5\": 13, \"3\": 10, \"10\": 12, \"7\": 24, \"13\": 22, \"11\": 2}, \"4\": {\"1\": 11, \"13\": 17, \"8\": 6, \"14\": 14, \"12\": 23, \"4\": 26, \"7\": 22, \"3\": 13, \"6\": 26, \"9\": 16, \"5\": 13, \"2\": 19, \"10\": 16, \"15\": 15, \"11\": 2, \"0\": 1}, \"13\": {\"2\": 20, \"4\": 21, \"10\": 30, \"9\": 16, \"6\": 24, \"12\": 14, \"15\": 21, \"7\": 30, \"13\": 38, \"5\": 6, \"14\": 7, \"1\": 8, \"3\": 3, \"8\": 2}, \"1\": {\"14\": 28, \"13\": 9, \"1\": 21, \"12\": 15, \"8\": 15, \"4\": 12, \"11\": 15, \"2\": 13, \"3\": 24, \"9\": 19, \"0\": 16, \"5\": 17, \"7\": 8, \"10\": 8, \"6\": 5, \"15\": 15}, \"0\": {\"11\": 51, \"5\": 16, \"2\": 1, \"0\": 111, \"8\": 19, \"1\": 14, \"14\": 6, \"15\": 2, \"3\": 15, \"13\": 1, \"7\": 2, \"12\": 1, \"4\": 1}, \"12\": {\"14\": 13, \"2\": 20, \"10\": 21, \"1\": 26, \"13\": 16, \"5\": 6, \"8\": 12, \"4\": 22, \"9\": 23, \"15\": 21, \"7\": 12, \"3\": 18, \"6\": 11, \"12\": 15, \"0\": 3, \"11\": 1}, \"5\": {\"14\": 24, \"11\": 35, \"0\": 20, \"2\": 6, \"8\": 23, \"12\": 13, \"9\": 14, \"1\": 16, \"4\": 6, \"13\": 10, \"7\": 5, \"3\": 28, \"6\": 8, \"15\": 13, \"5\": 15, \"10\": 4}, \"6\": {\"14\": 15, \"2\": 23, \"8\": 13, \"9\": 14, \"6\": 31, \"10\": 27, \"3\": 10, \"7\": 17, \"13\": 22, \"1\": 13, \"15\": 10, \"4\": 18, \"12\": 18, \"11\": 2, \"5\": 7}, \"2\": {\"8\": 5, \"14\": 16, \"12\": 21, \"6\": 24, \"2\": 23, \"13\": 29, \"5\": 7, \"15\": 18, \"9\": 16, \"4\": 13, \"10\": 21, \"7\": 23, \"1\": 13, \"11\": 2, \"3\": 9}, \"8\": {\"11\": 43, \"8\": 32, \"13\": 12, \"2\": 7, \"1\": 23, \"0\": 24, \"4\": 5, \"14\": 18, \"9\": 7, \"3\": 24, \"5\": 21, \"15\": 7, \"10\": 6, \"6\": 5, \"12\": 2, \"7\": 4}, \"11\": {\"1\": 13, \"14\": 15, \"0\": 67, \"2\": 1, \"5\": 16, \"8\": 20, \"3\": 18, \"11\": 55, \"9\": 7, \"7\": 2, \"15\": 3, \"13\": 4, \"6\": 6, \"12\": 8, \"4\": 4, \"10\": 1}, \"9\": {\"5\": 12, \"13\": 21, \"2\": 14, \"8\": 12, \"15\": 21, \"12\": 18, \"7\": 13, \"3\": 22, \"4\": 13, \"1\": 25, \"14\": 15, \"6\": 12, \"9\": 20, \"11\": 9, \"10\": 11, \"0\": 2}, \"14\": {\"7\": 12, \"1\": 25, \"12\": 11, \"2\": 8, \"9\": 15, \"11\": 18, \"14\": 40, \"15\": 9, \"0\": 7, \"8\": 24, \"3\": 15, \"6\": 16, \"5\": 24, \"10\": 6, \"4\": 5, \"13\": 5}, \"15\": {\"13\": 16, \"15\": 25, \"2\": 19, \"6\": 14, \"1\": 21, \"9\": 26, \"12\": 21, \"4\": 16, \"7\": 22, \"10\": 13, \"5\": 8, \"3\": 13, \"14\": 10, \"8\": 12, \"11\": 4}, \"3\": {\"5\": 18, \"14\": 18, \"15\": 8, \"2\": 14, \"4\": 9, \"1\": 26, \"0\": 27, \"11\": 14, \"12\": 11, \"7\": 14, \"3\": 23, \"9\": 15, \"6\": 9, \"13\": 9, \"10\": 8, \"8\": 17}}, \"O_14\": {\"14\": {\"0\": 20, \"6\": 29, \"13\": 29, \"10\": 12, \"5\": 14, \"4\": 9, \"12\": 13, \"14\": 31, \"7\": 10, \"3\": 31, \"2\": 22, \"8\": 15, \"9\": 3, \"15\": 2}, \"0\": {\"7\": 11, \"6\": 29, \"3\": 31, \"5\": 11, \"2\": 14, \"8\": 17, \"0\": 23, \"13\": 26, \"14\": 28, \"12\": 14, \"15\": 16, \"4\": 8, \"9\": 6, \"1\": 2, \"10\": 4}, \"4\": {\"9\": 44, \"4\": 47, \"0\": 2, \"5\": 24, \"7\": 14, \"10\": 51, \"1\": 19, \"8\": 13, \"2\": 20, \"14\": 4, \"13\": 2}, \"11\": {\"11\": 191, \"1\": 49}, \"13\": {\"15\": 65, \"7\": 7, \"14\": 23, \"13\": 14, \"6\": 26, \"8\": 11, \"5\": 8, \"3\": 27, \"2\": 11, \"0\": 25, \"10\": 9, \"4\": 6, \"12\": 5, \"1\": 2, \"9\": 1}, \"9\": {\"2\": 6, \"1\": 35, \"8\": 10, \"4\": 42, \"7\": 9, \"9\": 64, \"10\": 54, \"5\": 13, \"11\": 4, \"14\": 2, \"12\": 1}, \"3\": {\"8\": 7, \"0\": 28, \"13\": 24, \"7\": 7, \"15\": 24, \"3\": 29, \"2\": 11, \"14\": 38, \"12\": 16, \"6\": 43, \"5\": 5, \"9\": 1, \"10\": 5, \"4\": 2}, \"6\": {\"7\": 4, \"15\": 46, \"6\": 36, \"13\": 32, \"14\": 26, \"2\": 13, \"10\": 4, \"3\": 31, \"0\": 21, \"4\": 5, \"12\": 12, \"5\": 6, \"9\": 1, \"8\": 3}, \"1\": {\"1\": 150, \"9\": 28, \"11\": 28, \"4\": 17, \"2\": 2, \"8\": 2, \"10\": 13}, \"5\": {\"4\": 20, \"9\": 13, \"13\": 14, \"2\": 37, \"5\": 34, \"1\": 10, \"14\": 17, \"3\": 8, \"10\": 17, \"7\": 32, \"0\": 6, \"8\": 26, \"12\": 3, \"6\": 2, \"11\": 1}, \"12\": {\"14\": 16, \"15\": 21, \"4\": 4, \"8\": 14, \"12\": 29, \"13\": 17, \"3\": 44, \"6\": 30, \"2\": 11, \"0\": 32, \"5\": 5, \"9\": 5, \"10\": 8, \"7\": 4}, \"10\": {\"1\": 11, \"4\": 43, \"8\": 23, \"10\": 41, \"2\": 13, \"9\": 43, \"5\": 24, \"7\": 32, \"0\": 1, \"12\": 2, \"14\": 4, \"11\": 1, \"13\": 2}, \"8\": {\"4\": 18, \"1\": 6, \"0\": 19, \"14\": 24, \"8\": 34, \"7\": 20, \"5\": 23, \"3\": 13, \"10\": 21, \"13\": 5, \"12\": 9, \"2\": 28, \"9\": 10, \"6\": 9, \"11\": 1}, \"7\": {\"6\": 4, \"2\": 36, \"14\": 33, \"5\": 33, \"7\": 32, \"8\": 28, \"12\": 7, \"4\": 11, \"3\": 15, \"0\": 12, \"10\": 15, \"13\": 6, \"1\": 5, \"9\": 3}, \"15\": {\"15\": 222, \"6\": 9, \"0\": 3, \"13\": 4, \"3\": 2}, \"2\": {\"14\": 26, \"2\": 31, \"6\": 14, \"9\": 7, \"15\": 7, \"1\": 7, \"4\": 21, \"5\": 23, \"13\": 13, \"7\": 21, \"8\": 17, \"3\": 17, \"0\": 12, \"12\": 8, \"10\": 15, \"11\": 1}}, \"O_32\": {\"11\": {\"11\": 232, \"13\": 6, \"3\": 2}, \"1\": {\"1\": 236, \"10\": 4}, \"2\": {\"2\": 206, \"4\": 33, \"13\": 1}, \"0\": {\"0\": 186, \"5\": 7, \"7\": 22, \"8\": 21, \"14\": 4}, \"3\": {\"3\": 221, \"13\": 19}, \"8\": {\"8\": 162, \"4\": 8, \"5\": 19, \"0\": 32, \"14\": 10, \"7\": 6, \"15\": 1, \"13\": 2}, \"12\": {\"12\": 240}, \"5\": {\"5\": 112, \"0\": 32, \"7\": 60, \"8\": 21, \"14\": 13, \"15\": 2}, \"15\": {\"15\": 239, \"8\": 1}, \"7\": {\"7\": 139, \"0\": 32, \"5\": 41, \"14\": 25, \"8\": 3}, \"4\": {\"2\": 42, \"4\": 188, \"13\": 9, \"14\": 1}, \"14\": {\"7\": 57, \"2\": 6, \"14\": 138, \"5\": 8, \"8\": 7, \"4\": 3, \"3\": 5, \"0\": 14, \"13\": 2}, \"10\": {\"10\": 233, \"12\": 6, \"1\": 1}, \"6\": {\"6\": 209, \"10\": 28, \"1\": 2, \"13\": 1}, \"13\": {\"13\": 146, \"3\": 41, \"4\": 49, \"11\": 4}, \"9\": {\"9\": 233, \"2\": 1, \"12\": 6}}, \"O_8\": {\"9\": {\"9\": 216, \"3\": 19, \"12\": 4, \"15\": 1}, \"11\": {\"7\": 21, \"10\": 24, \"8\": 15, \"13\": 31, \"14\": 12, \"4\": 23, \"5\": 30, \"6\": 25, \"11\": 19, \"12\": 3, \"1\": 34, \"0\": 2, \"2\": 1}, \"8\": {\"1\": 12, \"8\": 38, \"4\": 38, \"7\": 27, \"5\": 7, \"11\": 20, \"13\": 10, \"6\": 27, \"14\": 38, \"0\": 12, \"10\": 11}, \"4\": {\"8\": 39, \"4\": 46, \"11\": 19, \"5\": 3, \"6\": 32, \"14\": 36, \"10\": 13, \"13\": 9, \"0\": 7, \"7\": 27, \"1\": 9}, \"13\": {\"8\": 10, \"11\": 31, \"7\": 21, \"5\": 31, \"12\": 8, \"6\": 22, \"10\": 21, \"4\": 15, \"1\": 24, \"13\": 32, \"14\": 14, \"15\": 6, \"2\": 3, \"0\": 2}, \"14\": {\"4\": 50, \"14\": 55, \"8\": 46, \"13\": 7, \"6\": 26, \"10\": 11, \"11\": 13, \"7\": 14, \"1\": 8, \"0\": 10}, \"2\": {\"2\": 60, \"3\": 67, \"12\": 45, \"5\": 11, \"14\": 1, \"15\": 45, \"10\": 4, \"13\": 2, \"9\": 1, \"7\": 2, \"11\": 2}, \"3\": {\"3\": 138, \"2\": 24, \"15\": 20, \"12\": 16, \"10\": 3, \"9\": 34, \"1\": 2, \"5\": 2, \"13\": 1}, \"1\": {\"10\": 27, \"13\": 39, \"1\": 29, \"11\": 28, \"7\": 23, \"5\": 38, \"14\": 11, \"2\": 3, \"12\": 10, \"8\": 5, \"6\": 15, \"4\": 7, \"15\": 1, \"0\": 4}, \"0\": {\"0\": 216, \"14\": 13, \"8\": 9, \"4\": 2}, \"5\": {\"6\": 14, \"11\": 24, \"7\": 9, \"5\": 45, \"10\": 30, \"2\": 16, \"13\": 27, \"15\": 20, \"1\": 17, \"12\": 17, \"14\": 6, \"3\": 2, \"4\": 6, \"0\": 2, \"8\": 5}, \"15\": {\"12\": 55, \"2\": 61, \"15\": 60, \"3\": 37, \"11\": 2, \"10\": 3, \"5\": 11, \"1\": 5, \"13\": 3, \"6\": 1, \"14\": 1, \"9\": 1}, \"10\": {\"11\": 25, \"14\": 10, \"1\": 32, \"7\": 31, \"13\": 36, \"6\": 16, \"10\": 26, \"8\": 11, \"4\": 7, \"5\": 35, \"15\": 3, \"2\": 2, \"12\": 4, \"0\": 2}, \"12\": {\"15\": 59, \"12\": 70, \"13\": 8, \"2\": 66, \"3\": 9, \"1\": 4, \"10\": 3, \"5\": 11, \"7\": 3, \"8\": 1, \"11\": 5, \"6\": 1}, \"6\": {\"13\": 28, \"7\": 30, \"14\": 26, \"4\": 27, \"8\": 16, \"11\": 22, \"1\": 31, \"6\": 27, \"0\": 7, \"10\": 19, \"5\": 7}, \"7\": {\"8\": 16, \"7\": 41, \"13\": 22, \"11\": 35, \"5\": 13, \"14\": 15, \"1\": 22, \"4\": 25, \"6\": 23, \"10\": 19, \"12\": 4, \"0\": 5}}, \"C_5\": {\"26\": {\"26\": 17, \"42\": 1, \"53\": 2, \"38\": 1, \"19\": 1, \"23\": 1, \"25\": 1}, \"7\": {\"36\": 2, \"27\": 5, \"8\": 5, \"7\": 12, \"29\": 1, \"57\": 1, \"14\": 3, \"39\": 1, \"21\": 1, \"13\": 1}, \"56\": {\"56\": 101, \"1\": 5, \"57\": 10, \"29\": 1, \"47\": 7, \"14\": 1, \"30\": 4, \"48\": 3, \"0\": 4, \"52\": 2, \"46\": 3, \"5\": 1}, \"36\": {\"36\": 69, \"2\": 3, \"43\": 1, \"55\": 2, \"13\": 1, \"29\": 3, \"48\": 4, \"47\": 1, \"35\": 1, \"56\": 1, \"17\": 2, \"32\": 2, \"1\": 1, \"27\": 1}, \"47\": {\"47\": 81, \"1\": 4, \"27\": 4, \"56\": 5, \"0\": 1, \"30\": 2, \"48\": 3}, \"2\": {\"2\": 26, \"41\": 1, \"43\": 1}, \"15\": {\"15\": 136, \"11\": 11, \"16\": 4, \"10\": 1}, \"14\": {\"36\": 4, \"47\": 6, \"2\": 1, \"14\": 12, \"57\": 1, \"1\": 1, \"21\": 2, \"17\": 1, \"52\": 1, \"13\": 1, \"46\": 1, \"27\": 2, \"30\": 1, \"51\": 2, \"48\": 2, \"32\": 2, \"29\": 2, \"39\": 2}, \"27\": {\"27\": 51, \"47\": 8, \"55\": 6, \"51\": 6, \"1\": 11, \"29\": 13, \"7\": 3, \"8\": 15, \"30\": 2, \"21\": 1, \"36\": 1, \"48\": 9, \"56\": 1, \"57\": 7, \"20\": 2, \"52\": 3, \"41\": 2, \"46\": 1, \"38\": 1, \"5\": 1, \"43\": 1, \"17\": 1}, \"40\": {\"40\": 28, \"45\": 6, \"0\": 10, \"12\": 2, \"5\": 7, \"3\": 4, \"7\": 1, \"44\": 10, \"20\": 5, \"1\": 2, \"9\": 3, \"4\": 10, \"56\": 4, \"57\": 2, \"30\": 8, \"48\": 1, \"50\": 4, \"47\": 3, \"22\": 2, \"6\": 1, \"46\": 7, \"27\": 1, \"52\": 3}, \"49\": {\"2\": 1, \"49\": 31, \"35\": 2, \"34\": 1, \"33\": 1}, \"45\": {\"45\": 95, \"44\": 2, \"12\": 3, \"5\": 3, \"50\": 11, \"6\": 9, \"4\": 1}, \"46\": {\"46\": 96, \"56\": 9, \"0\": 10, \"52\": 4, \"9\": 5, \"30\": 2, \"1\": 2, \"44\": 1, \"40\": 3, \"47\": 1, \"57\": 1, \"20\": 1, \"48\": 1}, \"11\": {\"11\": 98, \"16\": 7, \"15\": 24, \"10\": 1}, \"30\": {\"30\": 61, \"46\": 9, \"5\": 2, \"1\": 3, \"12\": 1, \"47\": 2, \"3\": 3, \"40\": 4, \"0\": 1, \"9\": 9, \"48\": 3, \"4\": 4, \"57\": 2, \"44\": 7, \"20\": 1}, \"0\": {\"0\": 104, \"46\": 8, \"40\": 1, \"52\": 5, \"3\": 1, \"48\": 1, \"9\": 1, \"56\": 3}, \"10\": {\"10\": 55, \"28\": 3, \"15\": 6, \"24\": 2, \"11\": 1, \"23\": 1}, \"1\": {\"1\": 96, \"47\": 6, \"48\": 13, \"0\": 4, \"46\": 3, \"40\": 4, \"30\": 4, \"9\": 6, \"50\": 3, \"56\": 3, \"4\": 1, \"57\": 2, \"44\": 1, \"22\": 1, \"29\": 1}, \"42\": {\"23\": 3, \"10\": 2, \"42\": 27, \"24\": 3, \"53\": 1, \"15\": 1, \"35\": 1, \"33\": 1, \"34\": 1}, \"54\": {\"54\": 61, \"55\": 5, \"49\": 1, \"41\": 1, \"38\": 1, \"34\": 4, \"43\": 10, \"35\": 1, \"51\": 2, \"17\": 7, \"23\": 7, \"13\": 4, \"19\": 1, \"53\": 2, \"29\": 1, \"33\": 1, \"2\": 1, \"36\": 1, \"8\": 1}, \"55\": {\"32\": 3, \"17\": 7, \"7\": 3, \"23\": 4, \"56\": 3, \"35\": 1, \"55\": 63, \"36\": 14, \"14\": 3, \"49\": 2, \"38\": 2, \"29\": 7, \"31\": 1, \"54\": 2, \"51\": 5, \"43\": 2, \"48\": 2, \"27\": 3, \"19\": 6, \"13\": 4, \"8\": 2, \"33\": 3, \"39\": 4, \"42\": 1, \"53\": 2, \"24\": 2, \"47\": 1}, \"23\": {\"23\": 97, \"42\": 2, \"19\": 9, \"43\": 3, \"31\": 1, \"53\": 9, \"26\": 1, \"54\": 2}, \"25\": {\"25\": 118, \"26\": 1, \"11\": 7, \"16\": 9, \"19\": 2, \"18\": 1, \"15\": 14}, \"28\": {\"28\": 23, \"33\": 1, \"10\": 3, \"24\": 2, \"15\": 1, \"35\": 1, \"49\": 1}, \"32\": {\"32\": 15, \"47\": 3, \"13\": 2, \"36\": 2, \"55\": 1, \"2\": 2, \"1\": 1, \"54\": 2, \"39\": 1, \"29\": 2, \"14\": 1}, \"9\": {\"1\": 12, \"9\": 23, \"57\": 1, \"21\": 14, \"52\": 6, \"30\": 14, \"45\": 5, \"50\": 6, \"46\": 11, \"20\": 9, \"40\": 7, \"0\": 4, \"3\": 2, \"48\": 2, \"5\": 3, \"47\": 7, \"6\": 4, \"56\": 1, \"44\": 4, \"4\": 4, \"8\": 1, \"27\": 2}, \"39\": {\"29\": 3, \"39\": 14, \"47\": 1, \"14\": 1, \"13\": 1}, \"3\": {\"3\": 46, \"1\": 3, \"5\": 6, \"40\": 9, \"22\": 5, \"44\": 2, \"12\": 1, \"0\": 6, \"46\": 4, \"45\": 2, \"30\": 3, \"52\": 1, \"20\": 3, \"6\": 2, \"9\": 4, \"50\": 2, \"4\": 1}, \"29\": {\"29\": 49, \"8\": 5, \"56\": 8, \"27\": 12, \"30\": 2, \"52\": 2, \"1\": 12, \"40\": 4, \"4\": 2, \"9\": 2, \"48\": 1, \"44\": 2, \"57\": 2, \"47\": 4, \"13\": 1, \"39\": 1, \"14\": 5, \"46\": 1, \"36\": 1, \"0\": 2}, \"17\": {\"17\": 76, \"41\": 1, \"32\": 1, \"51\": 6, \"19\": 2, \"13\": 2, \"36\": 1, \"43\": 9, \"23\": 3, \"55\": 3, \"27\": 2, \"54\": 4, \"53\": 2, \"37\": 1, \"26\": 2, \"35\": 1}, \"35\": {\"33\": 1, \"49\": 4, \"35\": 19, \"34\": 6, \"55\": 1, \"41\": 1, \"2\": 2, \"36\": 2}, \"44\": {\"44\": 94, \"50\": 9, \"1\": 2, \"45\": 3, \"12\": 5, \"5\": 14, \"22\": 2, \"4\": 10, \"40\": 2, \"30\": 1, \"6\": 4, \"52\": 1, \"46\": 2, \"3\": 1, \"9\": 2}, \"5\": {\"44\": 26, \"5\": 50, \"45\": 6, \"4\": 7, \"50\": 4, \"40\": 15, \"12\": 1, \"1\": 2, \"9\": 3, \"3\": 2, \"0\": 4, \"6\": 5, \"21\": 2, \"56\": 1}, \"33\": {\"33\": 14, \"29\": 1, \"2\": 1, \"34\": 3, \"36\": 3, \"49\": 2, \"38\": 2, \"32\": 3, \"14\": 1, \"35\": 1, \"19\": 1}, \"34\": {\"13\": 2, \"39\": 1, \"34\": 15, \"54\": 3, \"35\": 2, \"2\": 3, \"41\": 2, \"55\": 4, \"19\": 1, \"49\": 1, \"33\": 1, \"17\": 1}, \"13\": {\"1\": 1, \"13\": 92, \"32\": 4, \"43\": 10, \"35\": 2, \"39\": 2, \"36\": 5, \"55\": 5, \"56\": 3, \"48\": 1, \"29\": 4, \"47\": 1, \"57\": 1, \"2\": 3, \"30\": 1, \"27\": 2, \"8\": 1}, \"41\": {\"33\": 2, \"14\": 1, \"26\": 1, \"41\": 12, \"49\": 2, \"17\": 4, \"51\": 1, \"13\": 2, \"34\": 1, \"55\": 2}, \"6\": {\"6\": 71, \"45\": 15, \"40\": 2, \"5\": 2, \"50\": 19, \"44\": 5, \"3\": 4, \"4\": 4, \"12\": 4, \"30\": 2}, \"51\": {\"39\": 1, \"33\": 1, \"51\": 101, \"43\": 4, \"8\": 5, \"21\": 2, \"38\": 4, \"41\": 1, \"17\": 5, \"55\": 2, \"27\": 2, \"13\": 3, \"36\": 2, \"32\": 1, \"54\": 3, \"29\": 1}, \"50\": {\"50\": 90, \"44\": 13, \"45\": 13, \"12\": 2, \"5\": 3, \"6\": 19, \"9\": 1, \"3\": 2, \"4\": 1}, \"37\": {\"37\": 21, \"38\": 1, \"41\": 1, \"21\": 1}, \"19\": {\"7\": 1, \"19\": 54, \"43\": 4, \"26\": 1, \"15\": 6, \"53\": 16, \"8\": 1, \"14\": 2, \"24\": 3, \"25\": 5, \"29\": 4, \"31\": 2, \"54\": 13, \"55\": 11, \"23\": 8, \"17\": 1, \"36\": 1, \"16\": 1, \"34\": 3, \"33\": 1, \"49\": 1, \"37\": 1, \"13\": 1, \"27\": 2, \"11\": 1}, \"57\": {\"57\": 56, \"9\": 2, \"8\": 4, \"44\": 2, \"7\": 1, \"56\": 16, \"47\": 3, \"1\": 4, \"40\": 1, \"52\": 12, \"46\": 4, \"20\": 10, \"48\": 8, \"21\": 1, \"27\": 5, \"30\": 3}, \"21\": {\"57\": 3, \"21\": 112, \"20\": 8, \"52\": 10, \"30\": 3, \"9\": 1, \"40\": 1, \"0\": 1, \"27\": 1, \"48\": 1, \"46\": 1, \"1\": 1, \"29\": 1}, \"24\": {\"24\": 68, \"42\": 4, \"19\": 2, \"31\": 3, \"23\": 2, \"54\": 1}, \"8\": {\"57\": 8, \"8\": 107, \"7\": 1, \"52\": 5, \"14\": 1, \"21\": 1, \"20\": 2, \"51\": 2, \"27\": 3}, \"12\": {\"50\": 4, \"12\": 61, \"3\": 7, \"5\": 2, \"44\": 4, \"1\": 2, \"20\": 1, \"45\": 6, \"40\": 1, \"9\": 2, \"6\": 3, \"30\": 2, \"4\": 1}, \"48\": {\"57\": 12, \"44\": 1, \"48\": 38, \"14\": 1, \"20\": 5, \"29\": 3, \"1\": 19, \"52\": 6, \"8\": 2, \"30\": 6, \"56\": 10, \"9\": 3, \"47\": 10, \"21\": 3, \"0\": 4, \"46\": 3, \"27\": 2, \"40\": 2, \"22\": 1, \"4\": 1}, \"43\": {\"49\": 1, \"43\": 127, \"34\": 3, \"31\": 1, \"54\": 9, \"13\": 3, \"35\": 1, \"8\": 1, \"55\": 2, \"24\": 1, \"36\": 1}, \"53\": {\"26\": 1, \"53\": 101, \"42\": 1, \"23\": 11, \"34\": 1, \"8\": 1, \"24\": 3, \"54\": 2, \"43\": 5, \"19\": 10, \"55\": 2, \"31\": 1, \"33\": 1, \"49\": 1, \"17\": 5, \"37\": 1, \"15\": 1}, \"38\": {\"38\": 21, \"52\": 1, \"51\": 1, \"7\": 3, \"21\": 1, \"54\": 1, \"20\": 1, \"57\": 1, \"27\": 2}, \"16\": {\"16\": 109, \"11\": 8, \"15\": 17, \"10\": 2, \"25\": 3, \"19\": 1, \"28\": 1, \"24\": 1}, \"22\": {\"22\": 22, \"3\": 2, \"52\": 1, \"1\": 1, \"40\": 1, \"6\": 1}, \"4\": {\"4\": 33, \"5\": 11, \"40\": 8, \"6\": 3, \"52\": 1, \"45\": 4, \"44\": 10, \"3\": 4, \"9\": 5, \"46\": 4, \"12\": 1, \"50\": 5, \"30\": 5, \"1\": 2, \"22\": 1, \"47\": 1, \"21\": 2}, \"18\": {\"18\": 57, \"11\": 3, \"10\": 2, \"16\": 2}, \"20\": {\"20\": 111, \"0\": 2, \"57\": 4, \"48\": 6, \"8\": 4, \"52\": 3, \"21\": 8, \"1\": 3, \"9\": 2, \"47\": 1}, \"52\": {\"52\": 91, \"57\": 13, \"20\": 7, \"0\": 11, \"56\": 6, \"46\": 5, \"48\": 3, \"27\": 2, \"8\": 1, \"1\": 1}, \"31\": {\"31\": 23, \"24\": 4, \"23\": 4, \"42\": 1, \"53\": 1, \"34\": 1, \"35\": 1, \"19\": 1}}, \"C_1\": {\"41\": {\"41\": 16, \"13\": 1, \"37\": 1, \"51\": 3, \"17\": 2, \"33\": 1}, \"40\": {\"46\": 5, \"40\": 29, \"12\": 5, \"30\": 1, \"5\": 3, \"0\": 5, \"6\": 1, \"50\": 1, \"3\": 10, \"56\": 8, \"44\": 5, \"9\": 4, \"20\": 5, \"45\": 6, \"57\": 4, \"13\": 9, \"48\": 2, \"4\": 7}, \"45\": {\"45\": 68, \"12\": 6, \"50\": 5, \"56\": 14, \"3\": 4, \"46\": 11, \"20\": 11, \"40\": 4, \"6\": 5, \"44\": 6, \"5\": 3, \"4\": 1}, \"51\": {\"51\": 96, \"41\": 2, \"36\": 7, \"37\": 1, \"9\": 20, \"31\": 1, \"17\": 3, \"55\": 12, \"48\": 4, \"8\": 1, \"30\": 1}, \"5\": {\"46\": 11, \"5\": 133, \"44\": 6, \"50\": 1, \"6\": 2, \"56\": 1}, \"30\": {\"30\": 75, \"21\": 6, \"47\": 3, \"56\": 1, \"0\": 10, \"45\": 1, \"52\": 4, \"6\": 1, \"40\": 1, \"48\": 5, \"57\": 4, \"1\": 3, \"8\": 2, \"22\": 2, \"13\": 2}, \"42\": {\"42\": 16, \"49\": 4, \"17\": 5, \"39\": 1, \"31\": 1, \"54\": 3, \"55\": 2, \"53\": 2, \"19\": 1, \"24\": 2, \"36\": 1, \"43\": 2}, \"46\": {\"46\": 83, \"44\": 24, \"6\": 5, \"5\": 10, \"50\": 2, \"45\": 4, \"56\": 7, \"4\": 1}, \"48\": {\"48\": 89, \"8\": 19, \"21\": 3, \"47\": 6, \"30\": 4, \"0\": 3, \"57\": 1, \"1\": 4, \"22\": 2, \"3\": 1, \"2\": 1, \"13\": 1}, \"53\": {\"53\": 112, \"19\": 9, \"23\": 6, \"24\": 4, \"33\": 1, \"17\": 1, \"25\": 1, \"16\": 1, \"55\": 2, \"34\": 1, \"35\": 1, \"26\": 1, \"54\": 2, \"15\": 2}, \"47\": {\"47\": 88, \"57\": 10, \"21\": 6, \"2\": 2, \"0\": 6, \"22\": 8, \"29\": 7, \"48\": 3, \"1\": 6, \"52\": 8, \"8\": 1, \"9\": 1, \"40\": 2, \"4\": 1, \"12\": 1, \"27\": 2}, \"49\": {\"49\": 30, \"38\": 1, \"55\": 1}, \"36\": {\"36\": 58, \"57\": 1, \"14\": 1, \"48\": 1, \"49\": 1, \"1\": 1, \"55\": 1}, \"32\": {\"49\": 4, \"36\": 1, \"32\": 21, \"41\": 2, \"55\": 2, \"31\": 1, \"27\": 1}, \"34\": {\"34\": 18, \"36\": 1, \"19\": 1, \"54\": 1, \"55\": 1, \"24\": 1, \"35\": 1}, \"29\": {\"47\": 17, \"30\": 3, \"21\": 6, \"29\": 62, \"8\": 1, \"57\": 5, \"32\": 2, \"13\": 1, \"22\": 5, \"38\": 2, \"48\": 6, \"52\": 3, \"36\": 1, \"4\": 7, \"0\": 1, \"55\": 1, \"27\": 2, \"40\": 4, \"20\": 1, \"7\": 1, \"46\": 2, \"51\": 1, \"9\": 2, \"5\": 2, \"1\": 1, \"44\": 1}, \"35\": {\"35\": 17, \"54\": 1, \"43\": 1, \"33\": 2, \"23\": 7, \"19\": 1, \"24\": 1, \"42\": 3, \"38\": 1, \"17\": 1, \"49\": 1}, \"3\": {\"3\": 46, \"0\": 3, \"20\": 9, \"6\": 3, \"4\": 8, \"13\": 10, \"50\": 12, \"45\": 5, \"57\": 3, \"40\": 7, \"56\": 6, \"46\": 7, \"12\": 7, \"44\": 4, \"5\": 4}, \"16\": {\"35\": 1, \"16\": 101, \"11\": 4, \"28\": 1, \"25\": 8, \"15\": 10, \"24\": 2, \"10\": 6, \"19\": 2, \"23\": 2, \"18\": 1, \"53\": 2}, \"26\": {\"26\": 16, \"31\": 1, \"25\": 3, \"10\": 1, \"53\": 1, \"54\": 1, \"17\": 1}, \"57\": {\"48\": 9, \"0\": 17, \"13\": 2, \"47\": 12, \"50\": 2, \"57\": 40, \"30\": 6, \"8\": 4, \"4\": 4, \"46\": 3, \"3\": 3, \"52\": 8, \"56\": 4, \"22\": 5, \"21\": 4, \"1\": 5, \"12\": 2, \"40\": 1, \"9\": 3, \"45\": 2, \"44\": 2, \"14\": 1, \"7\": 1, \"6\": 2, \"29\": 2}, \"44\": {\"44\": 96, \"46\": 14, \"45\": 2, \"56\": 6, \"4\": 1, \"20\": 1, \"5\": 7, \"6\": 1}, \"0\": {\"57\": 1, \"0\": 146, \"12\": 4, \"30\": 1}, \"4\": {\"44\": 7, \"48\": 4, \"4\": 73, \"40\": 4, \"30\": 1, \"45\": 3, \"5\": 7, \"56\": 10, \"6\": 2, \"0\": 1, \"29\": 2, \"46\": 9, \"57\": 2, \"22\": 1, \"9\": 1, \"13\": 3, \"20\": 1, \"12\": 1}, \"31\": {\"31\": 25, \"54\": 1, \"42\": 2}, \"11\": {\"11\": 117, \"18\": 2, \"15\": 7, \"28\": 1, \"16\": 4, \"10\": 8, \"25\": 1}, \"6\": {\"6\": 51, \"56\": 7, \"50\": 7, \"45\": 4, \"44\": 9, \"3\": 3, \"46\": 8, \"5\": 4, \"20\": 3}, \"54\": {\"35\": 2, \"54\": 74, \"55\": 7, \"38\": 2, \"39\": 1, \"23\": 5, \"42\": 2, \"24\": 2, \"43\": 3, \"37\": 1, \"33\": 2, \"49\": 1, \"53\": 1, \"19\": 1}, \"17\": {\"17\": 49, \"32\": 2, \"37\": 5, \"33\": 5, \"31\": 1, \"9\": 1, \"1\": 1}, \"20\": {\"0\": 10, \"20\": 74, \"12\": 13, \"56\": 4, \"3\": 9, \"44\": 2, \"13\": 1, \"57\": 4, \"46\": 2, \"50\": 3, \"4\": 1, \"30\": 2, \"45\": 2, \"40\": 1}, \"13\": {\"57\": 6, \"13\": 55, \"2\": 6, \"21\": 5, \"29\": 8, \"0\": 4, \"30\": 13, \"9\": 7, \"4\": 2, \"14\": 1, \"6\": 1, \"50\": 1, \"12\": 7, \"20\": 4, \"8\": 5, \"47\": 7, \"3\": 2, \"40\": 3, \"52\": 2, \"48\": 2, \"56\": 1, \"22\": 5, \"41\": 1, \"44\": 1, \"5\": 1}, \"33\": {\"33\": 32}, \"24\": {\"24\": 86, \"34\": 2, \"23\": 10, \"19\": 4, \"54\": 3, \"55\": 1, \"35\": 1, \"43\": 1}, \"52\": {\"52\": 107, \"21\": 3, \"30\": 1, \"0\": 3, \"22\": 12, \"57\": 1, \"27\": 2, \"47\": 3}, \"2\": {\"2\": 31, \"47\": 2, \"1\": 2, \"22\": 1}, \"19\": {\"19\": 64, \"33\": 3, \"54\": 10, \"49\": 2, \"35\": 2, \"10\": 1, \"43\": 5, \"28\": 2, \"53\": 10, \"26\": 2, \"23\": 13, \"55\": 8, \"15\": 11, \"16\": 3, \"24\": 12, \"25\": 2, \"38\": 1, \"34\": 1, \"36\": 1, \"39\": 2, \"27\": 1}, \"39\": {\"52\": 1, \"39\": 21, \"27\": 1, \"22\": 1, \"1\": 2, \"49\": 1, \"21\": 1}, \"8\": {\"21\": 3, \"8\": 95, \"57\": 2, \"48\": 16, \"14\": 1, \"1\": 2, \"36\": 4, \"52\": 4, \"30\": 5, \"22\": 1, \"47\": 6, \"12\": 1}, \"21\": {\"21\": 110, \"30\": 2, \"52\": 1, \"22\": 8, \"57\": 1, \"47\": 1, \"0\": 1}, \"10\": {\"11\": 3, \"10\": 78, \"28\": 3, \"16\": 2, \"15\": 8, \"24\": 1, \"25\": 1}, \"37\": {\"37\": 30, \"51\": 1, \"32\": 1}, \"25\": {\"25\": 112, \"28\": 2, \"15\": 8, \"16\": 7, \"11\": 2, \"23\": 3, \"19\": 2, \"10\": 3, \"53\": 3, \"26\": 1, \"18\": 1}, \"27\": {\"27\": 114, \"52\": 9, \"22\": 3, \"1\": 1, \"21\": 1, \"47\": 2}, \"23\": {\"23\": 121, \"24\": 7, \"39\": 1, \"19\": 4, \"16\": 1, \"42\": 1, \"15\": 1}, \"1\": {\"29\": 8, \"2\": 5, \"1\": 31, \"7\": 1, \"21\": 7, \"13\": 3, \"52\": 3, \"8\": 4, \"36\": 4, \"40\": 2, \"47\": 11, \"48\": 7, \"22\": 2, \"0\": 3, \"57\": 3, \"4\": 1, \"9\": 2, \"3\": 1, \"30\": 2}, \"50\": {\"50\": 130, \"6\": 8, \"45\": 3, \"56\": 5, \"46\": 3, \"44\": 2, \"3\": 1}, \"12\": {\"12\": 72, \"0\": 14, \"30\": 4, \"20\": 9, \"56\": 2, \"48\": 1, \"3\": 7, \"40\": 2, \"6\": 1, \"57\": 3, \"13\": 1}, \"18\": {\"18\": 65, \"16\": 2, \"25\": 1, \"11\": 3, \"17\": 1}, \"38\": {\"38\": 18, \"22\": 2, \"47\": 1, \"32\": 1, \"33\": 2}, \"14\": {\"13\": 1, \"29\": 1, \"30\": 1, \"56\": 2, \"22\": 1, \"14\": 7, \"27\": 1, \"2\": 2, \"40\": 1, \"57\": 2, \"48\": 1, \"21\": 1, \"0\": 1, \"1\": 1, \"47\": 1}, \"56\": {\"20\": 3, \"56\": 70, \"12\": 4, \"44\": 15, \"46\": 13, \"6\": 4, \"5\": 4, \"57\": 1, \"45\": 17, \"40\": 7, \"50\": 2, \"3\": 2}, \"55\": {\"55\": 137, \"38\": 1, \"49\": 4, \"21\": 2, \"9\": 2, \"47\": 2, \"51\": 4, \"27\": 2, \"33\": 1, \"8\": 1, \"36\": 1, \"48\": 3}, \"9\": {\"37\": 3, \"9\": 80, \"51\": 18, \"48\": 9, \"47\": 1, \"30\": 2, \"8\": 8, \"1\": 5, \"29\": 1, \"21\": 3, \"22\": 2, \"52\": 1, \"17\": 1, \"57\": 1, \"36\": 2, \"13\": 1}, \"15\": {\"15\": 131, \"10\": 7, \"11\": 3, \"28\": 1, \"16\": 4}, \"28\": {\"28\": 20, \"23\": 1, \"36\": 1, \"15\": 3, \"10\": 2, \"34\": 1}, \"7\": {\"7\": 27, \"2\": 1}, \"43\": {\"43\": 134, \"49\": 1, \"24\": 1}, \"22\": {\"22\": 83, \"21\": 12, \"30\": 3, \"14\": 1, \"27\": 1, \"52\": 18, \"57\": 11, \"47\": 6, \"55\": 1}}, \"C_3\": {\"1\": {\"48\": 9, \"1\": 41, \"46\": 6, \"44\": 1, \"41\": 1, \"0\": 3, \"27\": 3, \"47\": 15, \"22\": 3, \"52\": 1, \"57\": 2, \"3\": 1, \"8\": 1, \"9\": 2, \"40\": 3, \"50\": 2, \"30\": 1, \"29\": 2, \"4\": 2, \"5\": 1}, \"9\": {\"48\": 6, \"9\": 32, \"57\": 5, \"1\": 8, \"0\": 4, \"30\": 3, \"8\": 2, \"13\": 2, \"47\": 4, \"27\": 18, \"52\": 6, \"22\": 7, \"40\": 4, \"29\": 6, \"51\": 2, \"46\": 1, \"7\": 1, \"33\": 2, \"4\": 7, \"41\": 2, \"17\": 1, \"3\": 1}, \"22\": {\"1\": 3, \"22\": 88, \"46\": 4, \"47\": 4, \"48\": 5, \"52\": 2, \"0\": 10, \"5\": 4, \"9\": 1, \"4\": 4, \"50\": 1, \"57\": 2, \"30\": 3, \"12\": 1, \"14\": 1, \"3\": 2, \"29\": 1}, \"43\": {\"43\": 131, \"26\": 4, \"24\": 1}, \"49\": {\"49\": 12, \"43\": 1, \"23\": 1, \"35\": 1, \"19\": 1, \"24\": 4}, \"50\": {\"50\": 89, \"5\": 5, \"6\": 3, \"46\": 20, \"45\": 1, \"12\": 9, \"3\": 11}, \"53\": {\"53\": 100, \"36\": 1, \"54\": 3, \"23\": 11, \"17\": 1, \"19\": 7, \"24\": 2, \"43\": 5, \"25\": 1, \"37\": 2, \"34\": 1, \"26\": 1, \"55\": 1}, \"10\": {\"10\": 57, \"11\": 4, \"24\": 1, \"15\": 2}, \"48\": {\"48\": 39, \"39\": 1, \"46\": 7, \"0\": 9, \"40\": 5, \"4\": 5, \"9\": 9, \"57\": 3, \"29\": 2, \"52\": 6, \"20\": 3, \"1\": 8, \"22\": 5, \"3\": 1, \"56\": 1, \"27\": 4, \"12\": 1, \"5\": 1, \"30\": 2, \"47\": 4}, \"8\": {\"8\": 103, \"1\": 2, \"9\": 6, \"20\": 6, \"27\": 5, \"30\": 2, \"4\": 3, \"0\": 1, \"57\": 3, \"22\": 1, \"29\": 3, \"52\": 2, \"47\": 1}, \"31\": {\"31\": 20, \"49\": 1, \"35\": 1, \"54\": 1, \"34\": 2, \"26\": 2, \"19\": 1}, \"56\": {\"56\": 116, \"47\": 1, \"27\": 1, \"29\": 1, \"1\": 4, \"4\": 3, \"57\": 2, \"9\": 1, \"22\": 5}, \"25\": {\"25\": 111, \"16\": 12, \"37\": 1, \"11\": 9, \"23\": 2, \"15\": 2, \"19\": 3, \"53\": 2}, \"28\": {\"28\": 15, \"10\": 3, \"11\": 2, \"17\": 1, \"23\": 1, \"54\": 1, \"37\": 1, \"24\": 1, \"16\": 1, \"34\": 1, \"19\": 1}, \"38\": {\"38\": 28}, \"5\": {\"5\": 50, \"46\": 21, \"3\": 10, \"6\": 10, \"22\": 2, \"21\": 2, \"50\": 13, \"12\": 2, \"45\": 1, \"20\": 1, \"30\": 1, \"44\": 1, \"4\": 1, \"40\": 1}, \"12\": {\"12\": 56, \"3\": 6, \"45\": 4, \"5\": 3, \"6\": 9, \"50\": 11, \"21\": 1, \"46\": 2}, \"6\": {\"6\": 73, \"12\": 4, \"3\": 4, \"45\": 2, \"50\": 3, \"5\": 2}, \"19\": {\"16\": 6, \"19\": 43, \"35\": 4, \"43\": 13, \"37\": 1, \"53\": 5, \"32\": 1, \"55\": 8, \"7\": 2, \"24\": 8, \"34\": 1, \"15\": 7, \"36\": 7, \"13\": 3, \"23\": 13, \"1\": 1, \"11\": 5, \"47\": 2, \"25\": 8, \"8\": 1, \"54\": 3, \"57\": 1, \"28\": 2, \"2\": 2, \"42\": 2, \"26\": 1, \"18\": 1, \"56\": 1}, \"26\": {\"26\": 18, \"43\": 3, \"31\": 1, \"34\": 1, \"42\": 1}, \"32\": {\"22\": 1, \"33\": 1, \"32\": 13, \"8\": 1, \"57\": 2, \"0\": 1, \"48\": 2, \"9\": 1, \"1\": 1, \"4\": 1, \"30\": 1, \"39\": 1, \"17\": 1, \"29\": 1}, \"33\": {\"38\": 5, \"17\": 2, \"33\": 19, \"27\": 2}, \"3\": {\"3\": 59, \"6\": 10, \"46\": 11, \"5\": 11, \"40\": 3, \"52\": 2, \"12\": 6, \"50\": 9, \"20\": 2, \"30\": 2, \"44\": 2, \"21\": 1}, \"51\": {\"51\": 83, \"38\": 7, \"2\": 3, \"17\": 5, \"41\": 1, \"36\": 2, \"33\": 1, \"57\": 3, \"43\": 1, \"9\": 1, \"20\": 1, \"13\": 11, \"1\": 1, \"8\": 4, \"34\": 1, \"55\": 2, \"4\": 1}, \"16\": {\"16\": 97, \"24\": 3, \"11\": 12, \"15\": 15, \"25\": 4, \"23\": 1, \"19\": 3, \"10\": 1, \"43\": 2}, \"46\": {\"46\": 76, \"3\": 8, \"6\": 2, \"5\": 19, \"12\": 4, \"21\": 5, \"30\": 6, \"40\": 1, \"50\": 13, \"1\": 2, \"0\": 2, \"48\": 1, \"44\": 1}, \"7\": {\"7\": 23, \"0\": 1, \"13\": 4, \"14\": 1, \"41\": 1, \"27\": 1, \"47\": 1, \"42\": 1, \"34\": 2, \"48\": 1}, \"47\": {\"47\": 62, \"22\": 2, \"46\": 3, \"1\": 9, \"5\": 1, \"0\": 5, \"3\": 1, \"52\": 2, \"4\": 2, \"57\": 3, \"27\": 2}, \"39\": {\"39\": 14, \"29\": 1, \"27\": 1}, \"40\": {\"47\": 3, \"40\": 45, \"4\": 14, \"46\": 3, \"22\": 13, \"3\": 7, \"8\": 1, \"0\": 7, \"52\": 5, \"27\": 3, \"48\": 5, \"57\": 3, \"20\": 6, \"51\": 1, \"5\": 4, \"30\": 1, \"9\": 5, \"1\": 3, \"12\": 1, \"50\": 2, \"45\": 1, \"44\": 1, \"21\": 2}, \"14\": {\"47\": 3, \"7\": 3, \"39\": 3, \"29\": 1, \"4\": 1, \"14\": 9, \"33\": 1, \"1\": 3, \"37\": 1, \"41\": 4, \"48\": 1, \"13\": 3, \"27\": 2, \"22\": 1, \"32\": 2, \"34\": 1, \"53\": 1}, \"37\": {\"19\": 2, \"37\": 23, \"17\": 1, \"53\": 1, \"26\": 1}, \"2\": {\"2\": 31, \"7\": 1}, \"21\": {\"21\": 83, \"12\": 2, \"3\": 4, \"40\": 7, \"0\": 1, \"50\": 5, \"44\": 2, \"30\": 5, \"5\": 2, \"46\": 3, \"6\": 1, \"4\": 1, \"52\": 2, \"22\": 2}, \"35\": {\"35\": 17, \"42\": 3, \"41\": 1, \"17\": 1, \"43\": 1, \"36\": 1, \"32\": 1, \"7\": 1, \"2\": 1, \"55\": 1}, \"54\": {\"35\": 1, \"19\": 1, \"54\": 60, \"7\": 1, \"31\": 3, \"36\": 1, \"51\": 4, \"53\": 4, \"55\": 11, \"13\": 2, \"43\": 4, \"16\": 1, \"26\": 1, \"34\": 1, \"17\": 1, \"8\": 1, \"24\": 1, \"23\": 1, \"56\": 1}, \"52\": {\"52\": 72, \"0\": 11, \"22\": 3, \"27\": 2, \"9\": 3, \"20\": 10, \"47\": 3, \"48\": 5, \"30\": 4, \"1\": 1, \"8\": 1, \"4\": 1}, \"29\": {\"39\": 2, \"29\": 39, \"48\": 4, \"8\": 5, \"17\": 1, \"27\": 11, \"46\": 1, \"1\": 5, \"47\": 8, \"50\": 2, \"57\": 11, \"9\": 9, \"0\": 2, \"4\": 8, \"13\": 3, \"22\": 1, \"32\": 3, \"7\": 1, \"14\": 1, \"3\": 1}, \"20\": {\"20\": 96, \"4\": 3, \"30\": 4, \"52\": 8, \"40\": 4, \"1\": 7, \"8\": 4, \"57\": 1, \"27\": 3, \"9\": 1, \"48\": 1}, \"18\": {\"18\": 72, \"11\": 4, \"24\": 1, \"15\": 4, \"16\": 2, \"19\": 1}, \"11\": {\"28\": 2, \"11\": 83, \"15\": 27, \"16\": 17, \"24\": 2, \"10\": 4, \"43\": 3, \"18\": 1, \"19\": 3}, \"0\": {\"0\": 81, \"1\": 7, \"50\": 3, \"52\": 3, \"46\": 6, \"40\": 2, \"30\": 4, \"47\": 4, \"5\": 3, \"48\": 7, \"9\": 4}, \"36\": {\"36\": 99, \"2\": 1}, \"17\": {\"17\": 94, \"54\": 2, \"27\": 3, \"13\": 3, \"51\": 1, \"23\": 1, \"19\": 2, \"55\": 1, \"8\": 1}, \"30\": {\"30\": 66, \"57\": 1, \"12\": 1, \"46\": 10, \"0\": 12, \"20\": 2, \"5\": 3, \"40\": 1, \"52\": 6, \"1\": 5, \"50\": 2, \"4\": 3, \"47\": 1, \"22\": 1}, \"42\": {\"42\": 23, \"43\": 1, \"31\": 1, \"7\": 1, \"26\": 1, \"17\": 1}, \"45\": {\"45\": 29, \"3\": 5, \"6\": 9, \"30\": 1, \"5\": 6, \"50\": 4, \"21\": 1, \"9\": 1, \"12\": 2, \"44\": 1, \"40\": 1}, \"4\": {\"40\": 7, \"48\": 9, \"20\": 9, \"4\": 33, \"9\": 9, \"50\": 10, \"0\": 8, \"46\": 10, \"7\": 2, \"27\": 1, \"22\": 8, \"29\": 5, \"52\": 4, \"17\": 1, \"57\": 5, \"51\": 3, \"8\": 3, \"47\": 4, \"1\": 8, \"3\": 1, \"30\": 2, \"12\": 1, \"6\": 1, \"44\": 2, \"5\": 2}, \"23\": {\"23\": 102, \"49\": 2, \"24\": 7, \"7\": 1, \"15\": 1, \"54\": 3, \"43\": 6, \"19\": 6, \"55\": 1, \"28\": 1, \"42\": 2, \"31\": 1, \"13\": 1}, \"13\": {\"17\": 7, \"13\": 67, \"54\": 1, \"36\": 8, \"33\": 2, \"7\": 2, \"2\": 3, \"8\": 6, \"57\": 5, \"29\": 2, \"1\": 1, \"55\": 9, \"51\": 3, \"56\": 1, \"27\": 3, \"14\": 1, \"38\": 1, \"39\": 2, \"34\": 1, \"23\": 1, \"9\": 2}, \"15\": {\"10\": 5, \"15\": 88, \"16\": 10, \"11\": 20, \"24\": 2, \"54\": 1, \"23\": 2}, \"57\": {\"47\": 8, \"57\": 51, \"48\": 2, \"1\": 8, \"8\": 3, \"9\": 5, \"27\": 13, \"4\": 8, \"0\": 4, \"20\": 2, \"56\": 1, \"22\": 4, \"29\": 10, \"7\": 2, \"46\": 1, \"32\": 1, \"51\": 1}, \"27\": {\"1\": 9, \"8\": 10, \"30\": 3, \"27\": 55, \"57\": 18, \"7\": 1, \"47\": 6, \"52\": 2, \"32\": 1, \"51\": 1, \"9\": 7, \"20\": 1, \"4\": 5, \"22\": 3, \"33\": 1, \"48\": 2, \"41\": 1, \"29\": 4, \"0\": 3, \"5\": 1}, \"44\": {\"44\": 56, \"21\": 1, \"45\": 3, \"5\": 5, \"4\": 1, \"22\": 3, \"40\": 6, \"6\": 3, \"50\": 5, \"46\": 2, \"12\": 2, \"1\": 1}, \"34\": {\"34\": 18, \"26\": 3, \"55\": 3, \"13\": 1, \"54\": 3, \"42\": 1, \"49\": 1, \"43\": 1, \"24\": 1}, \"41\": {\"41\": 22, \"47\": 2, \"48\": 1, \"14\": 1, \"57\": 1, \"27\": 1}, \"24\": {\"24\": 88, \"19\": 4, \"43\": 5, \"23\": 5, \"49\": 1, \"54\": 1}, \"55\": {\"55\": 69, \"43\": 7, \"32\": 2, \"2\": 2, \"34\": 2, \"27\": 7, \"57\": 4, \"17\": 2, \"13\": 7, \"8\": 1, \"36\": 4, \"29\": 5, \"1\": 1, \"14\": 2, \"35\": 1, \"54\": 1, \"56\": 1}}, \"C_4\": {\"52\": {\"52\": 81, \"46\": 1, \"22\": 1, \"0\": 6, \"27\": 1, \"47\": 4, \"56\": 5, \"48\": 5, \"9\": 4, \"8\": 5, \"1\": 1, \"57\": 2}, \"6\": {\"6\": 91, \"3\": 9, \"50\": 6, \"5\": 5, \"45\": 1}, \"14\": {\"0\": 2, \"14\": 6, \"33\": 2, \"47\": 2, \"7\": 1, \"9\": 1, \"4\": 1, \"29\": 1}, \"49\": {\"38\": 3, \"13\": 1, \"2\": 1, \"49\": 9, \"43\": 2, \"7\": 1, \"32\": 1, \"54\": 1, \"39\": 1}, \"0\": {\"0\": 63, \"40\": 1, \"56\": 3, \"46\": 7, \"57\": 1, \"52\": 3, \"22\": 1, \"48\": 1}, \"46\": {\"46\": 113, \"6\": 3, \"40\": 3, \"30\": 2, \"22\": 16, \"3\": 2, \"12\": 3, \"0\": 2, \"21\": 2, \"5\": 2, \"44\": 1, \"1\": 1, \"45\": 2, \"56\": 1, \"52\": 1, \"20\": 1, \"48\": 1}, \"41\": {\"41\": 23, \"38\": 2, \"54\": 1, \"42\": 2, \"19\": 3, \"17\": 1, \"43\": 2, \"33\": 1, \"24\": 1}, \"24\": {\"24\": 41, \"43\": 10, \"41\": 2, \"23\": 1, \"54\": 1, \"55\": 1}, \"25\": {\"25\": 138, \"31\": 2, \"10\": 2, \"23\": 2, \"16\": 2, \"15\": 3, \"28\": 1, \"11\": 2}, \"40\": {\"46\": 10, \"40\": 53, \"1\": 1, \"44\": 6, \"12\": 2, \"30\": 1, \"9\": 11, \"5\": 1, \"20\": 4, \"50\": 4, \"3\": 4, \"21\": 12, \"22\": 8, \"4\": 6, \"0\": 3, \"56\": 2, \"52\": 3, \"27\": 1, \"57\": 2, \"29\": 1, \"48\": 3}, \"38\": {\"13\": 5, \"41\": 1, \"38\": 28, \"49\": 1, \"55\": 1, \"35\": 1, \"39\": 1, \"7\": 1, \"14\": 1}, \"13\": {\"14\": 1, \"13\": 128, \"38\": 1, \"36\": 2, \"33\": 1, \"2\": 3, \"27\": 8, \"51\": 1, \"40\": 1, \"55\": 3, \"56\": 1, \"7\": 1, \"57\": 1}, \"9\": {\"52\": 9, \"9\": 30, \"21\": 5, \"46\": 9, \"50\": 2, \"4\": 4, \"5\": 2, \"48\": 8, \"0\": 1, \"29\": 3, \"13\": 2, \"56\": 4, \"47\": 3, \"51\": 3, \"8\": 4, \"22\": 4, \"40\": 2, \"27\": 4, \"57\": 4, \"20\": 5}, \"45\": {\"45\": 32, \"12\": 8, \"5\": 10, \"20\": 2, \"40\": 3, \"44\": 5, \"6\": 9, \"50\": 12, \"3\": 9, \"57\": 1, \"46\": 1, \"21\": 2, \"30\": 2}, \"43\": {\"43\": 140, \"38\": 1, \"41\": 2, \"42\": 1}, \"10\": {\"10\": 112, \"24\": 1, \"28\": 1, \"11\": 5, \"15\": 6, \"16\": 3, \"34\": 2}, \"15\": {\"11\": 11, \"15\": 90, \"16\": 15, \"10\": 7, \"18\": 2, \"24\": 1, \"19\": 1, \"43\": 1}, \"39\": {\"1\": 1, \"39\": 17, \"2\": 2}, \"4\": {\"6\": 3, \"4\": 44, \"44\": 4, \"14\": 1, \"1\": 1, \"52\": 2, \"50\": 6, \"40\": 2, \"22\": 5, \"5\": 2, \"48\": 6, \"56\": 2, \"47\": 14, \"8\": 3, \"3\": 7, \"29\": 8, \"57\": 4, \"0\": 1, \"27\": 5, \"21\": 3, \"46\": 1, \"9\": 5, \"20\": 2, \"51\": 1}, \"53\": {\"53\": 80, \"43\": 7, \"34\": 1, \"23\": 10, \"37\": 2, \"42\": 3, \"35\": 1, \"55\": 5, \"54\": 6, \"19\": 5, \"36\": 1, \"15\": 2, \"38\": 1, \"28\": 1, \"16\": 1, \"25\": 3, \"17\": 1, \"13\": 1, \"56\": 1}, \"1\": {\"1\": 21, \"46\": 2, \"57\": 3, \"56\": 5, \"47\": 1, \"52\": 1, \"0\": 1, \"4\": 2, \"48\": 3, \"5\": 1}, \"28\": {\"11\": 1, \"28\": 19, \"26\": 1, \"15\": 2, \"24\": 2, \"10\": 2, \"16\": 1, \"54\": 2, \"42\": 1, \"43\": 1}, \"54\": {\"42\": 2, \"43\": 3, \"54\": 55, \"55\": 10, \"17\": 3, \"23\": 2, \"2\": 1, \"26\": 1, \"14\": 1, \"53\": 2, \"19\": 7, \"47\": 2, \"29\": 1, \"8\": 1, \"35\": 4, \"41\": 4, \"7\": 3, \"13\": 2, \"32\": 1, \"49\": 1, \"36\": 2}, \"21\": {\"21\": 120, \"9\": 2, \"12\": 1, \"40\": 1, \"46\": 1, \"45\": 1, \"52\": 1, \"22\": 1, \"56\": 1, \"48\": 2, \"20\": 1}, \"7\": {\"7\": 15, \"2\": 2, \"49\": 1, \"36\": 1, \"35\": 2, \"57\": 2, \"29\": 1}, \"8\": {\"8\": 106, \"29\": 6, \"27\": 6, \"52\": 3, \"57\": 1, \"9\": 1, \"20\": 6, \"4\": 2, \"48\": 1, \"22\": 1, \"47\": 3}, \"42\": {\"43\": 3, \"42\": 13, \"32\": 1, \"35\": 2, \"54\": 1, \"24\": 1, \"53\": 3, \"17\": 2, \"26\": 1, \"19\": 2, \"34\": 1, \"15\": 1, \"23\": 1}, \"11\": {\"11\": 78, \"15\": 13, \"43\": 2, \"19\": 2, \"10\": 1, \"16\": 7, \"18\": 1}, \"33\": {\"33\": 15, \"36\": 2, \"17\": 2, \"2\": 3, \"31\": 1, \"14\": 1, \"41\": 1, \"39\": 1, \"47\": 1, \"54\": 1, \"27\": 1, \"35\": 2, \"24\": 1, \"13\": 1, \"19\": 1, \"43\": 1, \"7\": 1}, \"27\": {\"57\": 8, \"27\": 61, \"14\": 3, \"13\": 1, \"40\": 2, \"51\": 14, \"47\": 13, \"8\": 13, \"55\": 1, \"29\": 7, \"9\": 3, \"4\": 5, \"56\": 4, \"39\": 1, \"1\": 1, \"36\": 1, \"48\": 1, \"20\": 3}, \"19\": {\"33\": 4, \"19\": 40, \"17\": 4, \"42\": 2, \"31\": 3, \"43\": 19, \"47\": 4, \"23\": 17, \"35\": 5, \"28\": 1, \"55\": 8, \"36\": 6, \"13\": 6, \"16\": 2, \"15\": 2, \"53\": 3, \"25\": 1, \"10\": 1, \"54\": 5, \"26\": 3, \"32\": 1, \"49\": 1, \"7\": 1, \"24\": 3, \"29\": 2}, \"2\": {\"39\": 2, \"2\": 27, \"54\": 1, \"47\": 1, \"29\": 1, \"27\": 3, \"57\": 1}, \"3\": {\"3\": 84, \"50\": 7, \"5\": 9, \"12\": 3, \"6\": 10, \"22\": 1, \"45\": 3, \"21\": 1, \"30\": 2}, \"57\": {\"27\": 11, \"22\": 4, \"2\": 2, \"57\": 48, \"39\": 1, \"0\": 1, \"51\": 1, \"29\": 7, \"46\": 2, \"56\": 2, \"8\": 4, \"47\": 6, \"12\": 1, \"52\": 1, \"13\": 3, \"9\": 1, \"1\": 1, \"20\": 2, \"4\": 2}, \"20\": {\"20\": 79, \"52\": 12, \"0\": 2, \"8\": 4, \"27\": 1, \"47\": 6, \"48\": 1, \"46\": 1, \"9\": 1, \"4\": 1, \"40\": 2, \"57\": 1, \"56\": 1}, \"23\": {\"28\": 3, \"23\": 105, \"53\": 8, \"24\": 2, \"43\": 1, \"19\": 3, \"15\": 2, \"42\": 1, \"17\": 1, \"54\": 1, \"55\": 1}, \"22\": {\"3\": 4, \"22\": 105, \"44\": 2, \"46\": 13, \"12\": 1, \"5\": 2, \"56\": 1}, \"29\": {\"57\": 5, \"4\": 13, \"52\": 4, \"29\": 59, \"47\": 6, \"39\": 2, \"30\": 2, \"44\": 2, \"8\": 2, \"27\": 14, \"48\": 6, \"22\": 2, \"40\": 2, \"56\": 1, \"1\": 1, \"9\": 2, \"20\": 1}, \"36\": {\"36\": 81, \"27\": 1, \"2\": 1, \"29\": 1, \"54\": 1, \"55\": 4, \"13\": 1, \"1\": 1, \"48\": 1}, \"51\": {\"51\": 81, \"39\": 2, \"33\": 2, \"54\": 6, \"37\": 1, \"35\": 1, \"17\": 3, \"8\": 6, \"36\": 1, \"55\": 4, \"27\": 14, \"13\": 5, \"52\": 1, \"56\": 1, \"7\": 1, \"47\": 2, \"29\": 1}, \"31\": {\"31\": 24, \"17\": 1, \"37\": 1, \"24\": 1, \"49\": 1}, \"12\": {\"5\": 6, \"12\": 70, \"22\": 2, \"30\": 4, \"3\": 5, \"0\": 1, \"50\": 2, \"46\": 1, \"45\": 1}, \"56\": {\"0\": 4, \"56\": 86, \"46\": 7, \"40\": 3, \"48\": 8, \"22\": 11, \"5\": 2, \"52\": 3, \"9\": 2, \"20\": 2, \"30\": 1, \"6\": 1, \"1\": 1, \"57\": 2, \"29\": 2, \"47\": 2, \"4\": 1}, \"5\": {\"5\": 55, \"30\": 3, \"3\": 13, \"50\": 3, \"44\": 2, \"22\": 4, \"45\": 5, \"6\": 15, \"46\": 2, \"12\": 5, \"40\": 1}, \"35\": {\"36\": 5, \"35\": 20, \"13\": 3, \"43\": 3, \"54\": 2, \"17\": 2, \"55\": 2, \"14\": 1, \"42\": 1, \"7\": 1}, \"17\": {\"17\": 51, \"41\": 3, \"33\": 1, \"31\": 1, \"7\": 1, \"32\": 1, \"35\": 2, \"36\": 1, \"55\": 2, \"43\": 4, \"51\": 2, \"27\": 1, \"13\": 2, \"37\": 1, \"54\": 3, \"19\": 1, \"38\": 1, \"23\": 2}, \"32\": {\"32\": 17, \"14\": 1, \"17\": 1, \"41\": 3, \"54\": 1, \"13\": 1}, \"47\": {\"47\": 96, \"57\": 3, \"48\": 6, \"52\": 2, \"9\": 2, \"22\": 2, \"56\": 3, \"0\": 1, \"1\": 1, \"29\": 2, \"4\": 2}, \"18\": {\"18\": 94, \"24\": 1, \"11\": 2, \"15\": 2, \"10\": 3, \"16\": 4, \"13\": 1, \"23\": 1}, \"26\": {\"26\": 19, \"19\": 2, \"43\": 1, \"36\": 1, \"35\": 1}, \"50\": {\"50\": 70, \"12\": 5, \"6\": 20, \"45\": 5, \"3\": 18, \"5\": 2, \"40\": 1, \"22\": 1}, \"55\": {\"55\": 67, \"41\": 2, \"2\": 3, \"33\": 2, \"36\": 15, \"43\": 8, \"13\": 6, \"54\": 2, \"23\": 2, \"4\": 2, \"57\": 1, \"47\": 2, \"8\": 2, \"29\": 2, \"14\": 1, \"26\": 1, \"38\": 1, \"17\": 1, \"19\": 3, \"27\": 1}, \"34\": {\"34\": 18, \"24\": 1, \"26\": 1, \"42\": 1, \"43\": 1, \"16\": 1, \"55\": 1}, \"30\": {\"30\": 29, \"6\": 1, \"5\": 3, \"44\": 1, \"12\": 4, \"46\": 5, \"45\": 1}, \"37\": {\"41\": 1, \"37\": 21, \"31\": 1, \"54\": 1}, \"44\": {\"44\": 85, \"30\": 3, \"40\": 6, \"22\": 3, \"50\": 4, \"21\": 3, \"56\": 2, \"3\": 6, \"48\": 1, \"45\": 4, \"46\": 3, \"47\": 2, \"4\": 2, \"6\": 4, \"12\": 4}, \"48\": {\"4\": 9, \"22\": 13, \"47\": 16, \"0\": 1, \"1\": 4, \"48\": 39, \"52\": 7, \"57\": 5, \"3\": 1, \"56\": 4, \"9\": 6, \"46\": 4, \"20\": 2, \"8\": 2, \"5\": 2, \"29\": 1, \"50\": 1, \"40\": 1}, \"16\": {\"16\": 70, \"15\": 10, \"23\": 1, \"11\": 7, \"24\": 1, \"28\": 2, \"18\": 3, \"10\": 2}}, \"C_2\": {\"11\": {\"11\": 84, \"28\": 1, \"34\": 1, \"15\": 18, \"16\": 17, \"19\": 1, \"10\": 6, \"23\": 1, \"43\": 1}, \"21\": {\"21\": 105, \"1\": 1, \"50\": 4, \"12\": 1, \"20\": 1, \"3\": 1, \"44\": 1, \"40\": 1, \"30\": 1, \"47\": 1, \"46\": 1, \"6\": 2}, \"19\": {\"19\": 55, \"35\": 1, \"37\": 3, \"43\": 13, \"54\": 5, \"39\": 1, \"31\": 1, \"56\": 1, \"17\": 3, \"16\": 5, \"23\": 6, \"24\": 3, \"25\": 5, \"48\": 1, \"55\": 11, \"36\": 6, \"11\": 6, \"51\": 2, \"53\": 3, \"49\": 1, \"13\": 1, \"29\": 1, \"1\": 1, \"15\": 5}, \"20\": {\"9\": 5, \"20\": 86, \"40\": 3, \"21\": 4, \"47\": 3, \"52\": 5, \"27\": 7, \"4\": 2, \"8\": 6, \"12\": 1, \"48\": 2, \"57\": 3, \"46\": 1}, \"9\": {\"40\": 4, \"50\": 3, \"9\": 37, \"0\": 1, \"22\": 3, \"27\": 11, \"8\": 5, \"1\": 9, \"5\": 1, \"29\": 4, \"52\": 8, \"47\": 14, \"20\": 3, \"51\": 4, \"44\": 1, \"57\": 6, \"48\": 7, \"4\": 11, \"2\": 1, \"41\": 1, \"32\": 1, \"55\": 1, \"36\": 1, \"46\": 2, \"17\": 1}, \"10\": {\"11\": 3, \"10\": 99, \"15\": 6, \"28\": 1, \"19\": 1, \"16\": 1, \"24\": 1}, \"37\": {\"37\": 32, \"17\": 1, \"42\": 2, \"27\": 1}, \"32\": {\"32\": 8, \"9\": 1, \"29\": 7, \"38\": 1, \"41\": 2, \"51\": 1, \"30\": 2, \"27\": 2, \"57\": 1, \"4\": 2, \"17\": 1}, \"3\": {\"3\": 43, \"45\": 8, \"50\": 7, \"6\": 9, \"12\": 7, \"44\": 7, \"21\": 2, \"46\": 5, \"4\": 2, \"5\": 2}, \"39\": {\"39\": 18, \"32\": 1, \"47\": 1, \"7\": 2, \"2\": 1, \"36\": 1, \"9\": 2, \"31\": 2}, \"45\": {\"45\": 60, \"50\": 6, \"6\": 19, \"12\": 3, \"44\": 11, \"3\": 9, \"5\": 8, \"46\": 6, \"21\": 2, \"20\": 2, \"4\": 1, \"40\": 1}, \"50\": {\"12\": 13, \"50\": 89, \"46\": 13, \"3\": 6, \"40\": 1, \"44\": 2, \"5\": 8, \"45\": 2, \"6\": 2}, \"40\": {\"12\": 2, \"3\": 2, \"29\": 1, \"50\": 1, \"40\": 51, \"57\": 6, \"22\": 6, \"5\": 2, \"46\": 6, \"4\": 8, \"44\": 2, \"48\": 6, \"21\": 4, \"9\": 10, \"1\": 3, \"52\": 7, \"20\": 9, \"27\": 3, \"8\": 1, \"30\": 4, \"45\": 5, \"6\": 1}, \"46\": {\"12\": 8, \"50\": 16, \"46\": 68, \"5\": 7, \"3\": 12, \"6\": 11, \"45\": 3, \"30\": 2, \"44\": 1}, \"12\": {\"12\": 64, \"3\": 6, \"5\": 6, \"50\": 7, \"6\": 2, \"46\": 5, \"45\": 2}, \"13\": {\"13\": 69, \"36\": 2, \"39\": 1, \"55\": 16, \"2\": 1, \"7\": 5, \"51\": 3, \"17\": 3, \"57\": 1, \"29\": 2, \"27\": 4, \"56\": 2, \"38\": 2, \"33\": 1, \"32\": 2, \"48\": 1, \"8\": 1}, \"47\": {\"29\": 3, \"47\": 88, \"57\": 4, \"5\": 1, \"48\": 8, \"0\": 1, \"4\": 8, \"1\": 11, \"30\": 2, \"9\": 3, \"46\": 2, \"50\": 1}, \"15\": {\"15\": 100, \"34\": 1, \"11\": 24, \"10\": 6, \"16\": 7, \"24\": 1, \"23\": 2, \"19\": 1}, \"54\": {\"43\": 7, \"54\": 59, \"23\": 11, \"42\": 1, \"26\": 2, \"39\": 1, \"55\": 9, \"17\": 3, \"13\": 2, \"24\": 1, \"34\": 1, \"7\": 2, \"36\": 3, \"29\": 1, \"53\": 4, \"57\": 1}, \"48\": {\"47\": 19, \"48\": 61, \"0\": 4, \"46\": 5, \"30\": 8, \"52\": 8, \"56\": 1, \"57\": 13, \"22\": 2, \"50\": 4, \"9\": 6, \"3\": 1, \"6\": 1, \"4\": 4, \"29\": 4, \"20\": 1, \"1\": 3, \"44\": 1, \"12\": 1, \"27\": 1}, \"23\": {\"23\": 98, \"49\": 2, \"42\": 4, \"43\": 10, \"24\": 8, \"19\": 9, \"55\": 1, \"53\": 7, \"7\": 1, \"54\": 1, \"15\": 1}, \"29\": {\"47\": 9, \"29\": 37, \"1\": 6, \"27\": 13, \"22\": 3, \"33\": 1, \"8\": 4, \"14\": 3, \"38\": 1, \"32\": 6, \"4\": 5, \"9\": 6, \"56\": 2, \"52\": 3, \"48\": 6, \"20\": 2, \"36\": 8, \"30\": 2, \"51\": 2, \"2\": 2, \"57\": 5, \"17\": 1, \"40\": 1}, \"38\": {\"38\": 18, \"13\": 1, \"41\": 1}, \"53\": {\"53\": 85, \"23\": 13, \"24\": 1, \"26\": 2, \"17\": 8, \"7\": 1, \"55\": 4, \"43\": 5, \"36\": 1, \"19\": 7, \"49\": 1, \"34\": 1, \"16\": 1, \"42\": 1, \"25\": 2, \"54\": 2, \"13\": 1}, \"27\": {\"47\": 9, \"27\": 81, \"33\": 3, \"29\": 9, \"52\": 7, \"32\": 2, \"8\": 10, \"51\": 11, \"4\": 2, \"40\": 1, \"20\": 4, \"9\": 2, \"48\": 2, \"30\": 1, \"57\": 4, \"41\": 1, \"1\": 1}, \"43\": {\"43\": 139, \"34\": 1, \"42\": 2, \"11\": 1, \"55\": 1}, \"35\": {\"35\": 18, \"38\": 1, \"36\": 2, \"17\": 4, \"14\": 1, \"54\": 1, \"2\": 1, \"49\": 1, \"42\": 2, \"32\": 1}, \"0\": {\"0\": 28, \"50\": 1, \"22\": 1, \"47\": 2, \"52\": 4, \"30\": 4, \"46\": 2, \"48\": 2, \"4\": 2, \"1\": 2}, \"52\": {\"52\": 97, \"30\": 6, \"0\": 2, \"20\": 2, \"40\": 2, \"47\": 5, \"4\": 1, \"8\": 1, \"22\": 1, \"48\": 4, \"57\": 3}, \"8\": {\"8\": 95, \"52\": 3, \"4\": 1, \"1\": 5, \"57\": 2, \"27\": 9, \"22\": 1, \"30\": 2, \"20\": 4, \"48\": 2, \"9\": 2, \"29\": 1, \"47\": 1}, \"24\": {\"10\": 1, \"24\": 82, \"43\": 7, \"19\": 1, \"49\": 3, \"23\": 1, \"34\": 1}, \"18\": {\"18\": 43, \"16\": 3, \"15\": 1, \"11\": 1}, \"25\": {\"25\": 120, \"16\": 11, \"23\": 2, \"11\": 5, \"19\": 3, \"15\": 5, \"28\": 1, \"53\": 1}, \"57\": {\"57\": 54, \"29\": 9, \"4\": 5, \"41\": 1, \"20\": 1, \"47\": 13, \"1\": 6, \"8\": 4, \"48\": 9, \"27\": 10, \"9\": 10, \"40\": 1, \"22\": 2, \"46\": 2, \"0\": 4, \"32\": 1, \"30\": 2, \"52\": 2}, \"55\": {\"24\": 1, \"13\": 14, \"55\": 75, \"49\": 1, \"14\": 2, \"56\": 2, \"42\": 2, \"7\": 6, \"36\": 7, \"43\": 4, \"51\": 1, \"23\": 1, \"9\": 2, \"27\": 1, \"19\": 1, \"17\": 1, \"41\": 1, \"2\": 1, \"32\": 1, \"54\": 4, \"48\": 2, \"29\": 2, \"57\": 2}, \"36\": {\"36\": 114, \"33\": 1, \"29\": 1}, \"17\": {\"17\": 82, \"38\": 1, \"33\": 1, \"55\": 2, \"57\": 2, \"47\": 1, \"54\": 3, \"23\": 1, \"13\": 2, \"26\": 1, \"37\": 1, \"49\": 1, \"42\": 1, \"31\": 1, \"27\": 1, \"8\": 1, \"51\": 1, \"19\": 1}, \"2\": {\"2\": 28, \"36\": 2, \"8\": 1, \"32\": 1}, \"34\": {\"34\": 16, \"35\": 2, \"31\": 2, \"28\": 3, \"54\": 1, \"49\": 2, \"43\": 1, \"32\": 1}, \"1\": {\"1\": 54, \"41\": 1, \"12\": 2, \"46\": 8, \"47\": 6, \"50\": 6, \"4\": 7, \"44\": 2, \"5\": 1, \"30\": 4, \"22\": 2, \"0\": 3, \"20\": 1, \"9\": 1, \"48\": 6, \"29\": 2, \"57\": 3, \"27\": 1, \"8\": 1, \"56\": 1}, \"51\": {\"17\": 9, \"51\": 81, \"36\": 4, \"41\": 1, \"32\": 1, \"39\": 1, \"54\": 1, \"8\": 7, \"13\": 3, \"27\": 14, \"29\": 2, \"20\": 1, \"38\": 1, \"2\": 2, \"55\": 3, \"26\": 1, \"9\": 1, \"48\": 1, \"57\": 1, \"52\": 1}, \"31\": {\"49\": 1, \"31\": 21, \"43\": 2, \"53\": 1, \"39\": 2, \"7\": 1}, \"49\": {\"49\": 11, \"23\": 1, \"19\": 2, \"24\": 2, \"26\": 1, \"43\": 1, \"25\": 1, \"53\": 1, \"42\": 3, \"15\": 1}, \"14\": {\"41\": 3, \"29\": 1, \"14\": 9, \"50\": 1, \"13\": 1, \"55\": 2, \"1\": 1, \"46\": 1, \"4\": 2, \"33\": 1, \"48\": 1, \"42\": 1}, \"33\": {\"17\": 2, \"29\": 1, \"33\": 11, \"14\": 4, \"31\": 1, \"32\": 2, \"51\": 1, \"41\": 1, \"57\": 1, \"13\": 1, \"55\": 1, \"27\": 1, \"52\": 1}, \"41\": {\"41\": 17, \"9\": 1, \"48\": 1, \"47\": 1}, \"28\": {\"28\": 26, \"23\": 1, \"24\": 1}, \"5\": {\"5\": 68, \"6\": 11, \"46\": 9, \"40\": 1, \"12\": 8, \"52\": 1, \"50\": 6, \"3\": 3, \"21\": 5, \"30\": 1, \"4\": 1, \"44\": 2, \"45\": 4}, \"16\": {\"16\": 112, \"23\": 2, \"18\": 5, \"15\": 13, \"25\": 3, \"19\": 2, \"10\": 3, \"11\": 7, \"24\": 1, \"28\": 1, \"54\": 1}, \"4\": {\"22\": 4, \"4\": 35, \"6\": 3, \"44\": 2, \"1\": 6, \"48\": 5, \"40\": 7, \"46\": 6, \"51\": 6, \"27\": 7, \"29\": 5, \"52\": 2, \"47\": 12, \"5\": 3, \"3\": 4, \"20\": 6, \"13\": 1, \"50\": 3, \"57\": 4, \"30\": 1, \"12\": 3, \"9\": 3}, \"22\": {\"4\": 3, \"22\": 91, \"0\": 1, \"52\": 6, \"1\": 8, \"56\": 7, \"48\": 8, \"5\": 2, \"50\": 1, \"57\": 4, \"46\": 2, \"30\": 1, \"9\": 1, \"47\": 1}, \"6\": {\"6\": 77, \"45\": 14, \"21\": 1, \"5\": 8, \"50\": 3, \"44\": 3, \"12\": 3, \"3\": 6, \"46\": 3}, \"30\": {\"0\": 7, \"30\": 56, \"8\": 2, \"9\": 2, \"52\": 15, \"46\": 4, \"40\": 3, \"47\": 3, \"12\": 1, \"4\": 6, \"21\": 2, \"5\": 4, \"57\": 1, \"50\": 2, \"48\": 11, \"1\": 2, \"20\": 3}, \"26\": {\"24\": 1, \"33\": 1, \"26\": 16, \"27\": 1, \"37\": 1, \"19\": 1, \"23\": 2, \"17\": 1}, \"56\": {\"56\": 120, \"22\": 7, \"57\": 9, \"47\": 1, \"48\": 1, \"4\": 1, \"41\": 1, \"52\": 1, \"9\": 1}, \"42\": {\"42\": 28, \"39\": 1, \"54\": 2, \"49\": 1, \"43\": 2, \"31\": 1, \"7\": 1}, \"44\": {\"44\": 65, \"45\": 8, \"5\": 3, \"50\": 5, \"12\": 1, \"1\": 1, \"9\": 2, \"46\": 4, \"4\": 1, \"6\": 4, \"21\": 1, \"30\": 1, \"40\": 2, \"3\": 1, \"20\": 1}, \"7\": {\"7\": 28, \"17\": 1, \"39\": 4, \"41\": 1, \"55\": 2}}}, \"per_domain_accuracy\": {\"O_26\": {\"accuracy\": 0.4466145833333333, \"source?\": true}, \"O_44\": {\"accuracy\": 0.82109375, \"source?\": true}, \"O_50\": {\"accuracy\": 0.90703125, \"source?\": true}, \"O_38\": {\"accuracy\": 0.8424479166666666, \"source?\": true}, \"O_20\": {\"accuracy\": 0.14270833333333333, \"source?\": true}, \"O_14\": {\"accuracy\": 0.2625, \"source?\": true}, \"O_32\": {\"accuracy\": 0.8125, \"source?\": true}, \"O_8\": {\"accuracy\": 0.2911458333333333, \"source?\": true}, \"C_5\": {\"accuracy\": 0.6199371508379888, \"source?\": false}, \"C_1\": {\"accuracy\": 0.6759510869565217, \"source?\": false}, \"C_3\": {\"accuracy\": 0.6137867647058823, \"source?\": false}, \"C_4\": {\"accuracy\": 0.6517319277108434, \"source?\": false}, \"C_2\": {\"accuracy\": 0.6235795454545454, \"source?\": false}}}, \"history\": {\"epoch_indices\": [1, 2, 3, 4, 5], \"train_label_loss\": [0.5470225580851548, 3.6279462906379543, 0.3947765152419119, 0.3607696926520605, 0.44790567336659437], \"source_val_label_loss\": [294.5386962890625, 0.4857613444328308, 0.38038113713264465, 0.3741450607776642, 0.3450087010860443], \"target_val_label_loss\": [8320.3779296875, 1532.2576904296875, 2171.8896484375, 2998.69384765625, 820.984130859375], \"source_val_acc_label\": [0.5657552083333334, 0.822265625, 0.8696940104166667, 0.8681640625, 0.8790690104166666], \"target_val_acc_label\": [0.6372857142857142, 0.5155714285714286, 0.4447857142857143, 0.42842857142857144, 0.4639642857142857]}, \"dataset_metrics\": {\"source\": {\"train\": {\"n_unique_x\": 179200, \"n_unique_y\": 16, \"n_batch/episode\": 6720}, \"val\": {\"n_unique_x\": 38400, \"n_unique_y\": 16, \"n_batch/episode\": 960}, \"test\": {\"n_unique_x\": 38400, \"n_unique_y\": 16, \"n_batch/episode\": 960}}, \"target\": {\"train\": {\"n_unique_x\": 175203, \"n_unique_y\": 58, \"n_batch/episode\": 6321}, \"val\": {\"n_unique_x\": 37151, \"n_unique_y\": 58, \"n_batch/episode\": 875}, \"test\": {\"n_unique_x\": 37548, \"n_unique_y\": 58, \"n_batch/episode\": 885}}}}'"
      ]
     },
     "execution_count": 29,
     "metadata": {},
     "output_type": "execute_result"
    }
   ],
   "source": [
    "json.dumps(experiment)"
   ]
  }
 ],
 "metadata": {
  "celltoolbar": "Tags",
  "kernelspec": {
   "display_name": "Python 3 (ipykernel)",
   "language": "python",
   "name": "python3"
  },
  "language_info": {
   "codemirror_mode": {
    "name": "ipython",
    "version": 3
   },
   "file_extension": ".py",
   "mimetype": "text/x-python",
   "name": "python",
   "nbconvert_exporter": "python",
   "pygments_lexer": "ipython3",
   "version": "3.8.12"
  },
  "papermill": {
   "default_parameters": {},
   "duration": 990.484045,
   "end_time": "2022-03-28T05:57:31.038965",
   "environment_variables": {},
   "exception": null,
   "input_path": "/root/csc500-main/csc500-notebooks/templates/tl_ptn_template.ipynb",
   "output_path": "trial.ipynb",
   "parameters": {
    "parameters": {
     "BEST_MODEL_PATH": "./best_model.pth",
     "NUM_LOGS_PER_EPOCH": 10,
     "criteria_for_best": "target_accuracy",
     "dataset_seed": 7,
     "datasets": [
      {
       "domain_prefix": "C_",
       "domains": [
        1,
        2,
        3,
        4,
        5
       ],
       "episode_transforms": [],
       "labels": [
        "1-10.",
        "1-11.",
        "1-15.",
        "1-16.",
        "1-17.",
        "1-18.",
        "1-19.",
        "10-4.",
        "10-7.",
        "11-1.",
        "11-14.",
        "11-17.",
        "11-20.",
        "11-7.",
        "13-20.",
        "13-8.",
        "14-10.",
        "14-11.",
        "14-14.",
        "14-7.",
        "15-1.",
        "15-20.",
        "16-1.",
        "16-16.",
        "17-10.",
        "17-11.",
        "17-2.",
        "19-1.",
        "19-16.",
        "19-19.",
        "19-20.",
        "19-3.",
        "2-10.",
        "2-11.",
        "2-17.",
        "2-18.",
        "2-20.",
        "2-3.",
        "2-4.",
        "2-5.",
        "2-6.",
        "2-7.",
        "2-8.",
        "3-13.",
        "3-18.",
        "3-3.",
        "4-1.",
        "4-10.",
        "4-11.",
        "4-19.",
        "5-5.",
        "6-15.",
        "7-10.",
        "7-14.",
        "8-18.",
        "8-20.",
        "8-3.",
        "8-8."
       ],
       "num_examples_per_domain_per_label": -1,
       "pickle_path": "/root/csc500-main/datasets/cores.stratified_ds.2022A.pkl",
       "source_or_target_dataset": "target",
       "x_transforms": [
        "jitter_256_1",
        "lowpass_+/-10MHz",
        "take_200"
       ]
      },
      {
       "domain_prefix": "O_",
       "domains": [
        32,
        38,
        8,
        44,
        14,
        50,
        20,
        26
       ],
       "episode_transforms": [],
       "labels": [
        "3123D52",
        "3123D65",
        "3123D79",
        "3123D80",
        "3123D54",
        "3123D70",
        "3123D7B",
        "3123D89",
        "3123D58",
        "3123D76",
        "3123D7D",
        "3123EFE",
        "3123D64",
        "3123D78",
        "3123D7E",
        "3124E4A"
       ],
       "num_examples_per_domain_per_label": 2000,
       "pickle_path": "/root/csc500-main/datasets/oracle.Run1_framed_2000Examples_stratified_ds.2022A.pkl",
       "source_or_target_dataset": "source",
       "x_transforms": [
        "jitter_256_1",
        "take_200",
        "resample_20Msps_to_25Msps"
       ]
      }
     ],
     "device": "cuda",
     "experiment_name": "tl_3-jitter1v2:oracle.run1.framed -> cores",
     "lr": 0.0001,
     "n_epoch": 50,
     "n_query": 2,
     "n_shot": 3,
     "n_way": 16,
     "patience": 3,
     "seed": 7,
     "test_k_factor": 2,
     "torch_default_dtype": "torch.float32",
     "train_k_factor": 3,
     "val_k_factor": 2,
     "x_net": [
      {
       "class": "nnReshape",
       "kargs": {
        "shape": [
         -1,
         1,
         2,
         256
        ]
       }
      },
      {
       "class": "Conv2d",
       "kargs": {
        "bias": false,
        "in_channels": 1,
        "kernel_size": [
         1,
         7
        ],
        "out_channels": 256,
        "padding": [
         0,
         3
        ]
       }
      },
      {
       "class": "ReLU",
       "kargs": {
        "inplace": true
       }
      },
      {
       "class": "BatchNorm2d",
       "kargs": {
        "num_features": 256
       }
      },
      {
       "class": "Conv2d",
       "kargs": {
        "bias": true,
        "in_channels": 256,
        "kernel_size": [
         2,
         7
        ],
        "out_channels": 80,
        "padding": [
         0,
         3
        ]
       }
      },
      {
       "class": "ReLU",
       "kargs": {
        "inplace": true
       }
      },
      {
       "class": "BatchNorm2d",
       "kargs": {
        "num_features": 80
       }
      },
      {
       "class": "Flatten",
       "kargs": {}
      },
      {
       "class": "Linear",
       "kargs": {
        "in_features": 20480,
        "out_features": 256
       }
      },
      {
       "class": "ReLU",
       "kargs": {
        "inplace": true
       }
      },
      {
       "class": "BatchNorm1d",
       "kargs": {
        "num_features": 256
       }
      },
      {
       "class": "Linear",
       "kargs": {
        "in_features": 256,
        "out_features": 256
       }
      }
     ],
     "x_shape": [
      2,
      256
     ]
    }
   },
   "start_time": "2022-03-28T05:41:00.554920",
   "version": "2.3.4"
  }
 },
 "nbformat": 4,
 "nbformat_minor": 5
}