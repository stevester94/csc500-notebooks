{
 "cells": [
  {
   "cell_type": "markdown",
   "id": "9fea5f46",
   "metadata": {
    "papermill": {
     "duration": 0.028469,
     "end_time": "2022-03-28T05:15:05.680161",
     "exception": false,
     "start_time": "2022-03-28T05:15:05.651692",
     "status": "completed"
    },
    "tags": []
   },
   "source": [
    "# Transfer Learning Template"
   ]
  },
  {
   "cell_type": "code",
   "execution_count": 1,
   "id": "0902182a",
   "metadata": {
    "execution": {
     "iopub.execute_input": "2022-03-28T05:15:05.751425Z",
     "iopub.status.busy": "2022-03-28T05:15:05.742227Z",
     "iopub.status.idle": "2022-03-28T05:15:07.618264Z",
     "shell.execute_reply": "2022-03-28T05:15:07.617833Z"
    },
    "papermill": {
     "duration": 1.914222,
     "end_time": "2022-03-28T05:15:07.618369",
     "exception": false,
     "start_time": "2022-03-28T05:15:05.704147",
     "status": "completed"
    },
    "tags": []
   },
   "outputs": [],
   "source": [
    "%load_ext autoreload\n",
    "%autoreload 2\n",
    "%matplotlib inline\n",
    "\n",
    "    \n",
    "import os, json, sys, time, random\n",
    "import numpy as np\n",
    "import torch\n",
    "from torch.optim import Adam\n",
    "from  easydict import EasyDict\n",
    "import matplotlib.pyplot as plt\n",
    "\n",
    "from steves_models.steves_ptn import Steves_Prototypical_Network\n",
    "\n",
    "from steves_utils.lazy_iterable_wrapper import Lazy_Iterable_Wrapper\n",
    "from steves_utils.iterable_aggregator import Iterable_Aggregator\n",
    "from steves_utils.ptn_train_eval_test_jig import  PTN_Train_Eval_Test_Jig\n",
    "from steves_utils.torch_sequential_builder import build_sequential\n",
    "from steves_utils.torch_utils import get_dataset_metrics, ptn_confusion_by_domain_over_dataloader\n",
    "from steves_utils.utils_v2 import (per_domain_accuracy_from_confusion, get_datasets_base_path)\n",
    "from steves_utils.PTN.utils import independent_accuracy_assesment\n",
    "\n",
    "from torch.utils.data import DataLoader\n",
    "\n",
    "from steves_utils.stratified_dataset.episodic_accessor import Episodic_Accessor_Factory\n",
    "\n",
    "from steves_utils.ptn_do_report import (\n",
    "    get_loss_curve,\n",
    "    get_results_table,\n",
    "    get_parameters_table,\n",
    "    get_domain_accuracies,\n",
    ")\n",
    "\n",
    "from steves_utils.transforms import get_chained_transform"
   ]
  },
  {
   "cell_type": "markdown",
   "id": "41c840b4",
   "metadata": {
    "papermill": {
     "duration": 0.01942,
     "end_time": "2022-03-28T05:15:07.658076",
     "exception": false,
     "start_time": "2022-03-28T05:15:07.638656",
     "status": "completed"
    },
    "tags": []
   },
   "source": [
    "# Allowed Parameters\n",
    "These are allowed parameters, not defaults\n",
    "Each of these values need to be present in the injected parameters (the notebook will raise an exception if they are not present)\n",
    "\n",
    "Papermill uses the cell tag \"parameters\" to inject the real parameters below this cell.\n",
    "Enable tags to see what I mean"
   ]
  },
  {
   "cell_type": "code",
   "execution_count": 2,
   "id": "fd44eb83",
   "metadata": {
    "execution": {
     "iopub.execute_input": "2022-03-28T05:15:07.702858Z",
     "iopub.status.busy": "2022-03-28T05:15:07.702472Z",
     "iopub.status.idle": "2022-03-28T05:15:07.724253Z",
     "shell.execute_reply": "2022-03-28T05:15:07.723881Z"
    },
    "papermill": {
     "duration": 0.046768,
     "end_time": "2022-03-28T05:15:07.724323",
     "exception": false,
     "start_time": "2022-03-28T05:15:07.677555",
     "status": "completed"
    },
    "tags": []
   },
   "outputs": [],
   "source": [
    "required_parameters = {\n",
    "    \"experiment_name\",\n",
    "    \"lr\",\n",
    "    \"device\",\n",
    "    \"seed\",\n",
    "    \"dataset_seed\",\n",
    "    \"n_shot\",\n",
    "    \"n_query\",\n",
    "    \"n_way\",\n",
    "    \"train_k_factor\",\n",
    "    \"val_k_factor\",\n",
    "    \"test_k_factor\",\n",
    "    \"n_epoch\",\n",
    "    \"patience\",\n",
    "    \"criteria_for_best\",\n",
    "    \"x_net\",\n",
    "    \"datasets\",\n",
    "    \"torch_default_dtype\",\n",
    "    \"NUM_LOGS_PER_EPOCH\",\n",
    "    \"BEST_MODEL_PATH\",\n",
    "    \"x_shape\",\n",
    "}"
   ]
  },
  {
   "cell_type": "code",
   "execution_count": 3,
   "id": "fa3f0049",
   "metadata": {
    "execution": {
     "iopub.execute_input": "2022-03-28T05:15:07.780115Z",
     "iopub.status.busy": "2022-03-28T05:15:07.779701Z",
     "iopub.status.idle": "2022-03-28T05:15:07.798378Z",
     "shell.execute_reply": "2022-03-28T05:15:07.798059Z"
    },
    "papermill": {
     "duration": 0.054045,
     "end_time": "2022-03-28T05:15:07.798448",
     "exception": false,
     "start_time": "2022-03-28T05:15:07.744403",
     "status": "completed"
    },
    "tags": [
     "parameters"
    ]
   },
   "outputs": [],
   "source": [
    "from steves_utils.CORES.utils import (\n",
    "    ALL_NODES,\n",
    "    ALL_NODES_MINIMUM_1000_EXAMPLES,\n",
    "    ALL_DAYS\n",
    ")\n",
    "\n",
    "from steves_utils.ORACLE.utils_v2 import (\n",
    "    ALL_DISTANCES_FEET_NARROWED,\n",
    "    ALL_RUNS,\n",
    "    ALL_SERIAL_NUMBERS,\n",
    ")\n",
    "\n",
    "standalone_parameters = {}\n",
    "standalone_parameters[\"experiment_name\"] = \"STANDALONE PTN\"\n",
    "standalone_parameters[\"lr\"] = 0.001\n",
    "standalone_parameters[\"device\"] = \"cuda\"\n",
    "\n",
    "standalone_parameters[\"seed\"] = 1337\n",
    "standalone_parameters[\"dataset_seed\"] = 1337\n",
    "\n",
    "standalone_parameters[\"n_way\"] = 8\n",
    "standalone_parameters[\"n_shot\"] = 3\n",
    "standalone_parameters[\"n_query\"]  = 2\n",
    "standalone_parameters[\"train_k_factor\"] = 1\n",
    "standalone_parameters[\"val_k_factor\"] = 2\n",
    "standalone_parameters[\"test_k_factor\"] = 2\n",
    "\n",
    "\n",
    "standalone_parameters[\"n_epoch\"] = 50\n",
    "\n",
    "standalone_parameters[\"patience\"] = 10\n",
    "standalone_parameters[\"criteria_for_best\"] = \"source_loss\"\n",
    "\n",
    "standalone_parameters[\"datasets\"] = [\n",
    "    {\n",
    "        \"labels\": ALL_SERIAL_NUMBERS,\n",
    "        \"domains\": ALL_DISTANCES_FEET_NARROWED,\n",
    "        \"num_examples_per_domain_per_label\": 100,\n",
    "        \"pickle_path\": os.path.join(get_datasets_base_path(), \"oracle.Run1_framed_2000Examples_stratified_ds.2022A.pkl\"),\n",
    "        \"source_or_target_dataset\": \"source\",\n",
    "        \"x_transforms\": [\"unit_mag\", \"minus_two\"],\n",
    "        \"episode_transforms\": [],\n",
    "        \"domain_prefix\": \"ORACLE_\"\n",
    "    },\n",
    "    {\n",
    "        \"labels\": ALL_NODES,\n",
    "        \"domains\": ALL_DAYS,\n",
    "        \"num_examples_per_domain_per_label\": 100,\n",
    "        \"pickle_path\": os.path.join(get_datasets_base_path(), \"cores.stratified_ds.2022A.pkl\"),\n",
    "        \"source_or_target_dataset\": \"target\",\n",
    "        \"x_transforms\": [\"unit_power\", \"times_zero\"],\n",
    "        \"episode_transforms\": [],\n",
    "        \"domain_prefix\": \"CORES_\"\n",
    "    }   \n",
    "]\n",
    "\n",
    "standalone_parameters[\"torch_default_dtype\"] = \"torch.float32\" \n",
    "\n",
    "\n",
    "\n",
    "standalone_parameters[\"x_net\"] =     [\n",
    "    {\"class\": \"nnReshape\", \"kargs\": {\"shape\":[-1, 1, 2, 256]}},\n",
    "    {\"class\": \"Conv2d\", \"kargs\": { \"in_channels\":1, \"out_channels\":256, \"kernel_size\":(1,7), \"bias\":False, \"padding\":(0,3), },},\n",
    "    {\"class\": \"ReLU\", \"kargs\": {\"inplace\": True}},\n",
    "    {\"class\": \"BatchNorm2d\", \"kargs\": {\"num_features\":256}},\n",
    "\n",
    "    {\"class\": \"Conv2d\", \"kargs\": { \"in_channels\":256, \"out_channels\":80, \"kernel_size\":(2,7), \"bias\":True, \"padding\":(0,3), },},\n",
    "    {\"class\": \"ReLU\", \"kargs\": {\"inplace\": True}},\n",
    "    {\"class\": \"BatchNorm2d\", \"kargs\": {\"num_features\":80}},\n",
    "    {\"class\": \"Flatten\", \"kargs\": {}},\n",
    "\n",
    "    {\"class\": \"Linear\", \"kargs\": {\"in_features\": 80*256, \"out_features\": 256}}, # 80 units per IQ pair\n",
    "    {\"class\": \"ReLU\", \"kargs\": {\"inplace\": True}},\n",
    "    {\"class\": \"BatchNorm1d\", \"kargs\": {\"num_features\":256}},\n",
    "\n",
    "    {\"class\": \"Linear\", \"kargs\": {\"in_features\": 256, \"out_features\": 256}},\n",
    "]\n",
    "\n",
    "# Parameters relevant to results\n",
    "# These parameters will basically never need to change\n",
    "standalone_parameters[\"NUM_LOGS_PER_EPOCH\"] = 10\n",
    "standalone_parameters[\"BEST_MODEL_PATH\"] = \"./best_model.pth\"\n",
    "\n",
    "\n",
    "\n",
    "\n"
   ]
  },
  {
   "cell_type": "code",
   "execution_count": 4,
   "id": "8b1bbfc9",
   "metadata": {
    "execution": {
     "iopub.execute_input": "2022-03-28T05:15:07.852719Z",
     "iopub.status.busy": "2022-03-28T05:15:07.846117Z",
     "iopub.status.idle": "2022-03-28T05:15:07.870932Z",
     "shell.execute_reply": "2022-03-28T05:15:07.870565Z"
    },
    "papermill": {
     "duration": 0.052737,
     "end_time": "2022-03-28T05:15:07.871001",
     "exception": false,
     "start_time": "2022-03-28T05:15:07.818264",
     "status": "completed"
    },
    "tags": [
     "injected-parameters"
    ]
   },
   "outputs": [],
   "source": [
    "# Parameters\n",
    "parameters = {\n",
    "    \"experiment_name\": \"tl_3-jitter1v2:oracle.run1.framed -> cores\",\n",
    "    \"device\": \"cuda\",\n",
    "    \"lr\": 0.0001,\n",
    "    \"x_shape\": [2, 256],\n",
    "    \"n_shot\": 3,\n",
    "    \"n_query\": 2,\n",
    "    \"train_k_factor\": 3,\n",
    "    \"val_k_factor\": 2,\n",
    "    \"test_k_factor\": 2,\n",
    "    \"torch_default_dtype\": \"torch.float32\",\n",
    "    \"n_epoch\": 50,\n",
    "    \"patience\": 3,\n",
    "    \"criteria_for_best\": \"target_accuracy\",\n",
    "    \"x_net\": [\n",
    "        {\"class\": \"nnReshape\", \"kargs\": {\"shape\": [-1, 1, 2, 256]}},\n",
    "        {\n",
    "            \"class\": \"Conv2d\",\n",
    "            \"kargs\": {\n",
    "                \"in_channels\": 1,\n",
    "                \"out_channels\": 256,\n",
    "                \"kernel_size\": [1, 7],\n",
    "                \"bias\": False,\n",
    "                \"padding\": [0, 3],\n",
    "            },\n",
    "        },\n",
    "        {\"class\": \"ReLU\", \"kargs\": {\"inplace\": True}},\n",
    "        {\"class\": \"BatchNorm2d\", \"kargs\": {\"num_features\": 256}},\n",
    "        {\n",
    "            \"class\": \"Conv2d\",\n",
    "            \"kargs\": {\n",
    "                \"in_channels\": 256,\n",
    "                \"out_channels\": 80,\n",
    "                \"kernel_size\": [2, 7],\n",
    "                \"bias\": True,\n",
    "                \"padding\": [0, 3],\n",
    "            },\n",
    "        },\n",
    "        {\"class\": \"ReLU\", \"kargs\": {\"inplace\": True}},\n",
    "        {\"class\": \"BatchNorm2d\", \"kargs\": {\"num_features\": 80}},\n",
    "        {\"class\": \"Flatten\", \"kargs\": {}},\n",
    "        {\"class\": \"Linear\", \"kargs\": {\"in_features\": 20480, \"out_features\": 256}},\n",
    "        {\"class\": \"ReLU\", \"kargs\": {\"inplace\": True}},\n",
    "        {\"class\": \"BatchNorm1d\", \"kargs\": {\"num_features\": 256}},\n",
    "        {\"class\": \"Linear\", \"kargs\": {\"in_features\": 256, \"out_features\": 256}},\n",
    "    ],\n",
    "    \"NUM_LOGS_PER_EPOCH\": 10,\n",
    "    \"BEST_MODEL_PATH\": \"./best_model.pth\",\n",
    "    \"n_way\": 16,\n",
    "    \"datasets\": [\n",
    "        {\n",
    "            \"labels\": [\n",
    "                \"1-10.\",\n",
    "                \"1-11.\",\n",
    "                \"1-15.\",\n",
    "                \"1-16.\",\n",
    "                \"1-17.\",\n",
    "                \"1-18.\",\n",
    "                \"1-19.\",\n",
    "                \"10-4.\",\n",
    "                \"10-7.\",\n",
    "                \"11-1.\",\n",
    "                \"11-14.\",\n",
    "                \"11-17.\",\n",
    "                \"11-20.\",\n",
    "                \"11-7.\",\n",
    "                \"13-20.\",\n",
    "                \"13-8.\",\n",
    "                \"14-10.\",\n",
    "                \"14-11.\",\n",
    "                \"14-14.\",\n",
    "                \"14-7.\",\n",
    "                \"15-1.\",\n",
    "                \"15-20.\",\n",
    "                \"16-1.\",\n",
    "                \"16-16.\",\n",
    "                \"17-10.\",\n",
    "                \"17-11.\",\n",
    "                \"17-2.\",\n",
    "                \"19-1.\",\n",
    "                \"19-16.\",\n",
    "                \"19-19.\",\n",
    "                \"19-20.\",\n",
    "                \"19-3.\",\n",
    "                \"2-10.\",\n",
    "                \"2-11.\",\n",
    "                \"2-17.\",\n",
    "                \"2-18.\",\n",
    "                \"2-20.\",\n",
    "                \"2-3.\",\n",
    "                \"2-4.\",\n",
    "                \"2-5.\",\n",
    "                \"2-6.\",\n",
    "                \"2-7.\",\n",
    "                \"2-8.\",\n",
    "                \"3-13.\",\n",
    "                \"3-18.\",\n",
    "                \"3-3.\",\n",
    "                \"4-1.\",\n",
    "                \"4-10.\",\n",
    "                \"4-11.\",\n",
    "                \"4-19.\",\n",
    "                \"5-5.\",\n",
    "                \"6-15.\",\n",
    "                \"7-10.\",\n",
    "                \"7-14.\",\n",
    "                \"8-18.\",\n",
    "                \"8-20.\",\n",
    "                \"8-3.\",\n",
    "                \"8-8.\",\n",
    "            ],\n",
    "            \"domains\": [1, 2, 3, 4, 5],\n",
    "            \"num_examples_per_domain_per_label\": -1,\n",
    "            \"pickle_path\": \"/root/csc500-main/datasets/cores.stratified_ds.2022A.pkl\",\n",
    "            \"source_or_target_dataset\": \"target\",\n",
    "            \"x_transforms\": [\n",
    "                \"unit_power\",\n",
    "                \"jitter_256_1\",\n",
    "                \"lowpass_+/-10MHz\",\n",
    "                \"take_200\",\n",
    "            ],\n",
    "            \"episode_transforms\": [],\n",
    "            \"domain_prefix\": \"C_\",\n",
    "        },\n",
    "        {\n",
    "            \"labels\": [\n",
    "                \"3123D52\",\n",
    "                \"3123D65\",\n",
    "                \"3123D79\",\n",
    "                \"3123D80\",\n",
    "                \"3123D54\",\n",
    "                \"3123D70\",\n",
    "                \"3123D7B\",\n",
    "                \"3123D89\",\n",
    "                \"3123D58\",\n",
    "                \"3123D76\",\n",
    "                \"3123D7D\",\n",
    "                \"3123EFE\",\n",
    "                \"3123D64\",\n",
    "                \"3123D78\",\n",
    "                \"3123D7E\",\n",
    "                \"3124E4A\",\n",
    "            ],\n",
    "            \"domains\": [32, 38, 8, 44, 14, 50, 20, 26],\n",
    "            \"num_examples_per_domain_per_label\": 2000,\n",
    "            \"pickle_path\": \"/root/csc500-main/datasets/oracle.Run1_framed_2000Examples_stratified_ds.2022A.pkl\",\n",
    "            \"source_or_target_dataset\": \"source\",\n",
    "            \"x_transforms\": [\n",
    "                \"unit_power\",\n",
    "                \"jitter_256_1\",\n",
    "                \"take_200\",\n",
    "                \"resample_20Msps_to_25Msps\",\n",
    "            ],\n",
    "            \"episode_transforms\": [],\n",
    "            \"domain_prefix\": \"O_\",\n",
    "        },\n",
    "    ],\n",
    "    \"seed\": 7,\n",
    "    \"dataset_seed\": 7,\n",
    "}\n"
   ]
  },
  {
   "cell_type": "code",
   "execution_count": 5,
   "id": "8fa1cc33",
   "metadata": {
    "execution": {
     "iopub.execute_input": "2022-03-28T05:15:07.918920Z",
     "iopub.status.busy": "2022-03-28T05:15:07.918330Z",
     "iopub.status.idle": "2022-03-28T05:15:07.938320Z",
     "shell.execute_reply": "2022-03-28T05:15:07.937955Z"
    },
    "papermill": {
     "duration": 0.047163,
     "end_time": "2022-03-28T05:15:07.938392",
     "exception": false,
     "start_time": "2022-03-28T05:15:07.891229",
     "status": "completed"
    },
    "tags": []
   },
   "outputs": [],
   "source": [
    "# Set this to True if you want to run this template directly\n",
    "STANDALONE = False\n",
    "if STANDALONE:\n",
    "    print(\"parameters not injected, running with standalone_parameters\")\n",
    "    parameters = standalone_parameters\n",
    "\n",
    "if not 'parameters' in locals() and not 'parameters' in globals():\n",
    "    raise Exception(\"Parameter injection failed\")\n",
    "\n",
    "#Use an easy dict for all the parameters\n",
    "p = EasyDict(parameters)\n",
    "\n",
    "if \"x_shape\" not in p:\n",
    "    p.x_shape = [2,256] # Default to this if we dont supply x_shape\n",
    "\n",
    "\n",
    "supplied_keys = set(p.keys())\n",
    "\n",
    "if  supplied_keys != required_parameters:\n",
    "    print(\"Parameters are incorrect\")\n",
    "    if len(supplied_keys - required_parameters)>0: print(\"Shouldn't have:\", str(supplied_keys - required_parameters))\n",
    "    if len(required_parameters - supplied_keys)>0: print(\"Need to have:\", str(required_parameters - supplied_keys))\n",
    "    raise RuntimeError(\"Parameters are incorrect\")"
   ]
  },
  {
   "cell_type": "code",
   "execution_count": 6,
   "id": "3a028d58",
   "metadata": {
    "execution": {
     "iopub.execute_input": "2022-03-28T05:15:07.982720Z",
     "iopub.status.busy": "2022-03-28T05:15:07.981978Z",
     "iopub.status.idle": "2022-03-28T05:15:08.000630Z",
     "shell.execute_reply": "2022-03-28T05:15:08.000932Z"
    },
    "papermill": {
     "duration": 0.042715,
     "end_time": "2022-03-28T05:15:08.001012",
     "exception": false,
     "start_time": "2022-03-28T05:15:07.958297",
     "status": "completed"
    },
    "tags": []
   },
   "outputs": [],
   "source": [
    "###################################\n",
    "# Set the RNGs and make it all deterministic\n",
    "###################################\n",
    "np.random.seed(p.seed)\n",
    "random.seed(p.seed)\n",
    "torch.manual_seed(p.seed)\n",
    "\n",
    "torch.use_deterministic_algorithms(True) "
   ]
  },
  {
   "cell_type": "code",
   "execution_count": 7,
   "id": "b691acf6",
   "metadata": {
    "execution": {
     "iopub.execute_input": "2022-03-28T05:15:08.052206Z",
     "iopub.status.busy": "2022-03-28T05:15:08.051187Z",
     "iopub.status.idle": "2022-03-28T05:15:08.071033Z",
     "shell.execute_reply": "2022-03-28T05:15:08.070331Z"
    },
    "papermill": {
     "duration": 0.045265,
     "end_time": "2022-03-28T05:15:08.071185",
     "exception": false,
     "start_time": "2022-03-28T05:15:08.025920",
     "status": "completed"
    },
    "tags": []
   },
   "outputs": [],
   "source": [
    "###########################################\n",
    "# The stratified datasets honor this\n",
    "###########################################\n",
    "torch.set_default_dtype(eval(p.torch_default_dtype))"
   ]
  },
  {
   "cell_type": "code",
   "execution_count": 8,
   "id": "b5fba671",
   "metadata": {
    "execution": {
     "iopub.execute_input": "2022-03-28T05:15:08.124846Z",
     "iopub.status.busy": "2022-03-28T05:15:08.123978Z",
     "iopub.status.idle": "2022-03-28T05:15:08.179747Z",
     "shell.execute_reply": "2022-03-28T05:15:08.179011Z"
    },
    "papermill": {
     "duration": 0.079282,
     "end_time": "2022-03-28T05:15:08.179904",
     "exception": false,
     "start_time": "2022-03-28T05:15:08.100622",
     "status": "completed"
    },
    "tags": []
   },
   "outputs": [],
   "source": [
    "###################################\n",
    "# Build the network(s)\n",
    "# Note: It's critical to do this AFTER setting the RNG\n",
    "###################################\n",
    "x_net = build_sequential(p.x_net)"
   ]
  },
  {
   "cell_type": "code",
   "execution_count": 9,
   "id": "5d7e61cc",
   "metadata": {
    "execution": {
     "iopub.execute_input": "2022-03-28T05:15:08.230361Z",
     "iopub.status.busy": "2022-03-28T05:15:08.229810Z",
     "iopub.status.idle": "2022-03-28T05:15:08.255956Z",
     "shell.execute_reply": "2022-03-28T05:15:08.255120Z"
    },
    "papermill": {
     "duration": 0.0508,
     "end_time": "2022-03-28T05:15:08.256109",
     "exception": false,
     "start_time": "2022-03-28T05:15:08.205309",
     "status": "completed"
    },
    "tags": []
   },
   "outputs": [],
   "source": [
    "start_time_secs = time.time()"
   ]
  },
  {
   "cell_type": "code",
   "execution_count": 10,
   "id": "c6b67dfd",
   "metadata": {
    "execution": {
     "iopub.execute_input": "2022-03-28T05:15:08.314741Z",
     "iopub.status.busy": "2022-03-28T05:15:08.314288Z",
     "iopub.status.idle": "2022-03-28T05:15:08.327898Z",
     "shell.execute_reply": "2022-03-28T05:15:08.327062Z"
    },
    "papermill": {
     "duration": 0.044552,
     "end_time": "2022-03-28T05:15:08.328051",
     "exception": false,
     "start_time": "2022-03-28T05:15:08.283499",
     "status": "completed"
    },
    "tags": []
   },
   "outputs": [],
   "source": [
    "p.domains_source = []\n",
    "p.domains_target = []\n",
    "\n",
    "\n",
    "train_original_source = []\n",
    "val_original_source   = []\n",
    "test_original_source  = []\n",
    "\n",
    "train_original_target = []\n",
    "val_original_target   = []\n",
    "test_original_target  = []"
   ]
  },
  {
   "cell_type": "code",
   "execution_count": 11,
   "id": "e3d9c3d3",
   "metadata": {
    "execution": {
     "iopub.execute_input": "2022-03-28T05:15:08.381115Z",
     "iopub.status.busy": "2022-03-28T05:15:08.380750Z",
     "iopub.status.idle": "2022-03-28T05:15:08.397838Z",
     "shell.execute_reply": "2022-03-28T05:15:08.397012Z"
    },
    "papermill": {
     "duration": 0.040309,
     "end_time": "2022-03-28T05:15:08.397989",
     "exception": false,
     "start_time": "2022-03-28T05:15:08.357680",
     "status": "completed"
    },
    "tags": []
   },
   "outputs": [],
   "source": [
    "# global_x_transform_func = lambda x: normalize(x.to(torch.get_default_dtype()), \"unit_power\") # unit_power, unit_mag\n",
    "# global_x_transform_func = lambda x: normalize(x, \"unit_power\") # unit_power, unit_mag"
   ]
  },
  {
   "cell_type": "code",
   "execution_count": 12,
   "id": "acb78fd2",
   "metadata": {
    "execution": {
     "iopub.execute_input": "2022-03-28T05:15:08.456771Z",
     "iopub.status.busy": "2022-03-28T05:15:08.455934Z",
     "iopub.status.idle": "2022-03-28T05:15:08.472717Z",
     "shell.execute_reply": "2022-03-28T05:15:08.472012Z"
    },
    "papermill": {
     "duration": 0.048491,
     "end_time": "2022-03-28T05:15:08.472871",
     "exception": false,
     "start_time": "2022-03-28T05:15:08.424380",
     "status": "completed"
    },
    "tags": []
   },
   "outputs": [],
   "source": [
    "def add_dataset(\n",
    "    labels,\n",
    "    domains,\n",
    "    pickle_path,\n",
    "    x_transforms,\n",
    "    episode_transforms,\n",
    "    domain_prefix,\n",
    "    num_examples_per_domain_per_label,\n",
    "    source_or_target_dataset:str,\n",
    "    iterator_seed=p.seed,\n",
    "    dataset_seed=p.dataset_seed,\n",
    "    n_shot=p.n_shot,\n",
    "    n_way=p.n_way,\n",
    "    n_query=p.n_query,\n",
    "    train_val_test_k_factors=(p.train_k_factor,p.val_k_factor,p.test_k_factor),\n",
    "):\n",
    "   \n",
    "    if x_transforms == []: x_transform = None\n",
    "    else: x_transform = get_chained_transform(x_transforms)\n",
    "    \n",
    "    if episode_transforms == []: episode_transform = None\n",
    "    else: raise Exception(\"episode_transforms not implemented\")\n",
    "    \n",
    "    episode_transform = lambda tup, _prefix=domain_prefix: (_prefix + str(tup[0]), tup[1])\n",
    "\n",
    "\n",
    "    eaf = Episodic_Accessor_Factory(\n",
    "        labels=labels,\n",
    "        domains=domains,\n",
    "        num_examples_per_domain_per_label=num_examples_per_domain_per_label,\n",
    "        iterator_seed=iterator_seed,\n",
    "        dataset_seed=dataset_seed,\n",
    "        n_shot=n_shot,\n",
    "        n_way=n_way,\n",
    "        n_query=n_query,\n",
    "        train_val_test_k_factors=train_val_test_k_factors,\n",
    "        pickle_path=pickle_path,\n",
    "        x_transform_func=x_transform,\n",
    "    )\n",
    "\n",
    "    train, val, test = eaf.get_train(), eaf.get_val(), eaf.get_test()\n",
    "    train = Lazy_Iterable_Wrapper(train, episode_transform)\n",
    "    val = Lazy_Iterable_Wrapper(val, episode_transform)\n",
    "    test = Lazy_Iterable_Wrapper(test, episode_transform)\n",
    "\n",
    "    if source_or_target_dataset==\"source\":\n",
    "        train_original_source.append(train)\n",
    "        val_original_source.append(val)\n",
    "        test_original_source.append(test)\n",
    "\n",
    "        p.domains_source.extend(\n",
    "            [domain_prefix + str(u) for u in domains]\n",
    "        )\n",
    "    elif source_or_target_dataset==\"target\":\n",
    "        train_original_target.append(train)\n",
    "        val_original_target.append(val)\n",
    "        test_original_target.append(test)\n",
    "        p.domains_target.extend(\n",
    "            [domain_prefix + str(u) for u in domains]\n",
    "        )\n",
    "    else:\n",
    "        raise Exception(f\"invalid source_or_target_dataset: {source_or_target_dataset}\")\n",
    "    "
   ]
  },
  {
   "cell_type": "code",
   "execution_count": 13,
   "id": "fe266617",
   "metadata": {
    "execution": {
     "iopub.execute_input": "2022-03-28T05:15:08.528595Z",
     "iopub.status.busy": "2022-03-28T05:15:08.521818Z",
     "iopub.status.idle": "2022-03-28T05:17:00.150458Z",
     "shell.execute_reply": "2022-03-28T05:17:00.149551Z"
    },
    "papermill": {
     "duration": 111.652531,
     "end_time": "2022-03-28T05:17:00.150639",
     "exception": false,
     "start_time": "2022-03-28T05:15:08.498108",
     "status": "completed"
    },
    "tags": []
   },
   "outputs": [],
   "source": [
    "for ds in p.datasets:\n",
    "    add_dataset(**ds)"
   ]
  },
  {
   "cell_type": "code",
   "execution_count": 14,
   "id": "b90d65ac",
   "metadata": {
    "execution": {
     "iopub.execute_input": "2022-03-28T05:17:00.201517Z",
     "iopub.status.busy": "2022-03-28T05:17:00.200957Z",
     "iopub.status.idle": "2022-03-28T05:17:00.226499Z",
     "shell.execute_reply": "2022-03-28T05:17:00.225657Z"
    },
    "papermill": {
     "duration": 0.049465,
     "end_time": "2022-03-28T05:17:00.226653",
     "exception": false,
     "start_time": "2022-03-28T05:17:00.177188",
     "status": "completed"
    },
    "tags": []
   },
   "outputs": [],
   "source": [
    "# from steves_utils.CORES.utils import (\n",
    "#     ALL_NODES,\n",
    "#     ALL_NODES_MINIMUM_1000_EXAMPLES,\n",
    "#     ALL_DAYS\n",
    "# )\n",
    "\n",
    "# add_dataset(\n",
    "#     labels=ALL_NODES,\n",
    "#     domains = ALL_DAYS,\n",
    "#     num_examples_per_domain_per_label=100,\n",
    "#     pickle_path=os.path.join(get_datasets_base_path(), \"cores.stratified_ds.2022A.pkl\"),\n",
    "#     source_or_target_dataset=\"target\",\n",
    "#     x_transform_func=global_x_transform_func,\n",
    "#     domain_modifier=lambda u: f\"cores_{u}\"\n",
    "# )"
   ]
  },
  {
   "cell_type": "code",
   "execution_count": 15,
   "id": "76db484d",
   "metadata": {
    "execution": {
     "iopub.execute_input": "2022-03-28T05:17:00.278919Z",
     "iopub.status.busy": "2022-03-28T05:17:00.278477Z",
     "iopub.status.idle": "2022-03-28T05:17:00.305127Z",
     "shell.execute_reply": "2022-03-28T05:17:00.305821Z"
    },
    "papermill": {
     "duration": 0.051379,
     "end_time": "2022-03-28T05:17:00.306000",
     "exception": false,
     "start_time": "2022-03-28T05:17:00.254621",
     "status": "completed"
    },
    "tags": []
   },
   "outputs": [],
   "source": [
    "# from steves_utils.ORACLE.utils_v2 import (\n",
    "#     ALL_DISTANCES_FEET,\n",
    "#     ALL_RUNS,\n",
    "#     ALL_SERIAL_NUMBERS,\n",
    "# )\n",
    "\n",
    "\n",
    "# add_dataset(\n",
    "#     labels=ALL_SERIAL_NUMBERS,\n",
    "#     domains = list(set(ALL_DISTANCES_FEET) - {2,62}),\n",
    "#     num_examples_per_domain_per_label=100,\n",
    "#     pickle_path=os.path.join(get_datasets_base_path(), \"oracle.Run2_framed_2000Examples_stratified_ds.2022A.pkl\"),\n",
    "#     source_or_target_dataset=\"source\",\n",
    "#     x_transform_func=global_x_transform_func,\n",
    "#     domain_modifier=lambda u: f\"oracle1_{u}\"\n",
    "# )\n"
   ]
  },
  {
   "cell_type": "code",
   "execution_count": 16,
   "id": "97dea9d2",
   "metadata": {
    "execution": {
     "iopub.execute_input": "2022-03-28T05:17:00.356204Z",
     "iopub.status.busy": "2022-03-28T05:17:00.355685Z",
     "iopub.status.idle": "2022-03-28T05:17:00.378069Z",
     "shell.execute_reply": "2022-03-28T05:17:00.377352Z"
    },
    "papermill": {
     "duration": 0.046138,
     "end_time": "2022-03-28T05:17:00.378221",
     "exception": false,
     "start_time": "2022-03-28T05:17:00.332083",
     "status": "completed"
    },
    "tags": []
   },
   "outputs": [],
   "source": [
    "# from steves_utils.ORACLE.utils_v2 import (\n",
    "#     ALL_DISTANCES_FEET,\n",
    "#     ALL_RUNS,\n",
    "#     ALL_SERIAL_NUMBERS,\n",
    "# )\n",
    "\n",
    "\n",
    "# add_dataset(\n",
    "#     labels=ALL_SERIAL_NUMBERS,\n",
    "#     domains = list(set(ALL_DISTANCES_FEET) - {2,62,56}),\n",
    "#     num_examples_per_domain_per_label=100,\n",
    "#     pickle_path=os.path.join(get_datasets_base_path(), \"oracle.Run2_framed_2000Examples_stratified_ds.2022A.pkl\"),\n",
    "#     source_or_target_dataset=\"source\",\n",
    "#     x_transform_func=global_x_transform_func,\n",
    "#     domain_modifier=lambda u: f\"oracle2_{u}\"\n",
    "# )"
   ]
  },
  {
   "cell_type": "code",
   "execution_count": 17,
   "id": "6f289866",
   "metadata": {
    "execution": {
     "iopub.execute_input": "2022-03-28T05:17:00.426611Z",
     "iopub.status.busy": "2022-03-28T05:17:00.426245Z",
     "iopub.status.idle": "2022-03-28T05:17:00.442132Z",
     "shell.execute_reply": "2022-03-28T05:17:00.442800Z"
    },
    "papermill": {
     "duration": 0.038679,
     "end_time": "2022-03-28T05:17:00.442977",
     "exception": false,
     "start_time": "2022-03-28T05:17:00.404298",
     "status": "completed"
    },
    "tags": []
   },
   "outputs": [],
   "source": [
    "# add_dataset(\n",
    "#     labels=list(range(19)),\n",
    "#     domains = [0,1,2],\n",
    "#     num_examples_per_domain_per_label=100,\n",
    "#     pickle_path=os.path.join(get_datasets_base_path(), \"metehan.stratified_ds.2022A.pkl\"),\n",
    "#     source_or_target_dataset=\"target\",\n",
    "#     x_transform_func=global_x_transform_func,\n",
    "#     domain_modifier=lambda u: f\"met_{u}\"\n",
    "# )"
   ]
  },
  {
   "cell_type": "code",
   "execution_count": 18,
   "id": "86a863c3",
   "metadata": {
    "execution": {
     "iopub.execute_input": "2022-03-28T05:17:00.493830Z",
     "iopub.status.busy": "2022-03-28T05:17:00.493278Z",
     "iopub.status.idle": "2022-03-28T05:17:00.514165Z",
     "shell.execute_reply": "2022-03-28T05:17:00.513456Z"
    },
    "papermill": {
     "duration": 0.045225,
     "end_time": "2022-03-28T05:17:00.514318",
     "exception": false,
     "start_time": "2022-03-28T05:17:00.469093",
     "status": "completed"
    },
    "tags": []
   },
   "outputs": [],
   "source": [
    "# # from steves_utils.wisig.utils import (\n",
    "# #     ALL_NODES_MINIMUM_100_EXAMPLES,\n",
    "# #     ALL_NODES_MINIMUM_500_EXAMPLES,\n",
    "# #     ALL_NODES_MINIMUM_1000_EXAMPLES,\n",
    "# #     ALL_DAYS\n",
    "# # )\n",
    "\n",
    "# import steves_utils.wisig.utils as wisig\n",
    "\n",
    "\n",
    "# add_dataset(\n",
    "#     labels=wisig.ALL_NODES_MINIMUM_100_EXAMPLES,\n",
    "#     domains = wisig.ALL_DAYS,\n",
    "#     num_examples_per_domain_per_label=100,\n",
    "#     pickle_path=os.path.join(get_datasets_base_path(), \"wisig.node3-19.stratified_ds.2022A.pkl\"),\n",
    "#     source_or_target_dataset=\"target\",\n",
    "#     x_transform_func=global_x_transform_func,\n",
    "#     domain_modifier=lambda u: f\"wisig_{u}\"\n",
    "# )"
   ]
  },
  {
   "cell_type": "code",
   "execution_count": 19,
   "id": "fd5442bc",
   "metadata": {
    "execution": {
     "iopub.execute_input": "2022-03-28T05:17:00.570361Z",
     "iopub.status.busy": "2022-03-28T05:17:00.569519Z",
     "iopub.status.idle": "2022-03-28T05:17:00.589397Z",
     "shell.execute_reply": "2022-03-28T05:17:00.588602Z"
    },
    "papermill": {
     "duration": 0.049021,
     "end_time": "2022-03-28T05:17:00.589548",
     "exception": false,
     "start_time": "2022-03-28T05:17:00.540527",
     "status": "completed"
    },
    "tags": []
   },
   "outputs": [],
   "source": [
    "###################################\n",
    "# Build the dataset\n",
    "###################################\n",
    "train_original_source = Iterable_Aggregator(train_original_source, p.seed)\n",
    "val_original_source = Iterable_Aggregator(val_original_source, p.seed)\n",
    "test_original_source = Iterable_Aggregator(test_original_source, p.seed)\n",
    "\n",
    "\n",
    "train_original_target = Iterable_Aggregator(train_original_target, p.seed)\n",
    "val_original_target = Iterable_Aggregator(val_original_target, p.seed)\n",
    "test_original_target = Iterable_Aggregator(test_original_target, p.seed)\n",
    "\n",
    "# For CNN We only use X and Y. And we only train on the source.\n",
    "# Properly form the data using a transform lambda and Lazy_Iterable_Wrapper. Finally wrap them in a dataloader\n",
    "\n",
    "transform_lambda = lambda ex: ex[1] # Original is (<domain>, <episode>) so we strip down to episode only\n",
    "\n",
    "train_processed_source = Lazy_Iterable_Wrapper(train_original_source, transform_lambda)\n",
    "val_processed_source   = Lazy_Iterable_Wrapper(val_original_source, transform_lambda)\n",
    "test_processed_source  = Lazy_Iterable_Wrapper(test_original_source, transform_lambda)\n",
    "\n",
    "train_processed_target = Lazy_Iterable_Wrapper(train_original_target, transform_lambda)\n",
    "val_processed_target   = Lazy_Iterable_Wrapper(val_original_target, transform_lambda)\n",
    "test_processed_target  = Lazy_Iterable_Wrapper(test_original_target, transform_lambda)\n",
    "\n",
    "datasets = EasyDict({\n",
    "    \"source\": {\n",
    "        \"original\": {\"train\":train_original_source, \"val\":val_original_source, \"test\":test_original_source},\n",
    "        \"processed\": {\"train\":train_processed_source, \"val\":val_processed_source, \"test\":test_processed_source}\n",
    "    },\n",
    "    \"target\": {\n",
    "        \"original\": {\"train\":train_original_target, \"val\":val_original_target, \"test\":test_original_target},\n",
    "        \"processed\": {\"train\":train_processed_target, \"val\":val_processed_target, \"test\":test_processed_target}\n",
    "    },\n",
    "})"
   ]
  },
  {
   "cell_type": "code",
   "execution_count": 20,
   "id": "5b3c01fc",
   "metadata": {
    "execution": {
     "iopub.execute_input": "2022-03-28T05:17:00.641428Z",
     "iopub.status.busy": "2022-03-28T05:17:00.641063Z",
     "iopub.status.idle": "2022-03-28T05:17:14.945052Z",
     "shell.execute_reply": "2022-03-28T05:17:14.945865Z"
    },
    "papermill": {
     "duration": 14.32955,
     "end_time": "2022-03-28T05:17:14.946074",
     "exception": false,
     "start_time": "2022-03-28T05:17:00.616524",
     "status": "completed"
    },
    "tags": []
   },
   "outputs": [
    {
     "name": "stdout",
     "output_type": "stream",
     "text": [
      "{'O_8', 'O_44', 'O_20', 'O_14', 'O_26', 'O_32', 'O_50', 'O_38'}\n"
     ]
    },
    {
     "name": "stdout",
     "output_type": "stream",
     "text": [
      "{'C_3', 'C_5', 'C_4', 'C_2', 'C_1'}\n"
     ]
    },
    {
     "name": "stdout",
     "output_type": "stream",
     "text": [
      "tensor([[[0., 0., 0.,  ..., 0., 0., 0.],\n",
      "         [0., 0., 0.,  ..., 0., 0., 0.]],\n",
      "\n",
      "        [[0., 0., 0.,  ..., 0., 0., 0.],\n",
      "         [0., 0., 0.,  ..., 0., 0., 0.]],\n",
      "\n",
      "        [[0., 0., 0.,  ..., 0., 0., 0.],\n",
      "         [0., 0., 0.,  ..., 0., 0., 0.]],\n",
      "\n",
      "        ...,\n",
      "\n",
      "        [[0., 0., 0.,  ..., 0., 0., 0.],\n",
      "         [0., 0., 0.,  ..., 0., 0., 0.]],\n",
      "\n",
      "        [[0., 0., 0.,  ..., 0., 0., 0.],\n",
      "         [0., 0., 0.,  ..., 0., 0., 0.]],\n",
      "\n",
      "        [[0., 0., 0.,  ..., 0., 0., 0.],\n",
      "         [0., 0., 0.,  ..., 0., 0., 0.]]])\n"
     ]
    }
   ],
   "source": [
    "from steves_utils.transforms import get_average_magnitude, get_average_power\n",
    "\n",
    "print(set([u for u,_ in val_original_source]))\n",
    "print(set([u for u,_ in val_original_target]))\n",
    "\n",
    "s_x, s_y, q_x, q_y, _ = next(iter(train_processed_source))\n",
    "print(s_x)\n",
    "\n",
    "# for ds in [\n",
    "#     train_processed_source,\n",
    "#     val_processed_source,\n",
    "#     test_processed_source,\n",
    "#     train_processed_target,\n",
    "#     val_processed_target,\n",
    "#     test_processed_target\n",
    "# ]:\n",
    "#     for s_x, s_y, q_x, q_y, _ in ds:\n",
    "#         for X in (s_x, q_x):\n",
    "#             for x in X:\n",
    "#                 assert np.isclose(get_average_magnitude(x.numpy()), 1.0)\n",
    "#                 assert np.isclose(get_average_power(x.numpy()), 1.0)\n",
    "                "
   ]
  },
  {
   "cell_type": "code",
   "execution_count": 21,
   "id": "bbdacba1",
   "metadata": {
    "execution": {
     "iopub.execute_input": "2022-03-28T05:17:15.008342Z",
     "iopub.status.busy": "2022-03-28T05:17:15.007776Z",
     "iopub.status.idle": "2022-03-28T05:17:15.166504Z",
     "shell.execute_reply": "2022-03-28T05:17:15.166811Z"
    },
    "papermill": {
     "duration": 0.190628,
     "end_time": "2022-03-28T05:17:15.166954",
     "exception": false,
     "start_time": "2022-03-28T05:17:14.976326",
     "status": "completed"
    },
    "tags": []
   },
   "outputs": [
    {
     "name": "stdout",
     "output_type": "stream",
     "text": [
      "(2, 256)\n"
     ]
    }
   ],
   "source": [
    "###################################\n",
    "# Build the model\n",
    "###################################\n",
    "# easfsl only wants a tuple for the shape\n",
    "model = Steves_Prototypical_Network(x_net, device=p.device, x_shape=tuple(p.x_shape))\n",
    "optimizer = Adam(params=model.parameters(), lr=p.lr)"
   ]
  },
  {
   "cell_type": "code",
   "execution_count": 22,
   "id": "22b39ac5",
   "metadata": {
    "execution": {
     "iopub.execute_input": "2022-03-28T05:17:15.220982Z",
     "iopub.status.busy": "2022-03-28T05:17:15.220612Z",
     "iopub.status.idle": "2022-03-28T05:38:09.332441Z",
     "shell.execute_reply": "2022-03-28T05:38:09.332036Z"
    },
    "papermill": {
     "duration": 1254.137489,
     "end_time": "2022-03-28T05:38:09.332538",
     "exception": false,
     "start_time": "2022-03-28T05:17:15.195049",
     "status": "completed"
    },
    "tags": []
   },
   "outputs": [
    {
     "name": "stdout",
     "output_type": "stream",
     "text": [
      "epoch: 1, [batch: 1 / 6720], examples_per_second: 32.7684, train_label_loss: 2.8996, \n"
     ]
    },
    {
     "name": "stdout",
     "output_type": "stream",
     "text": [
      "epoch: 1, [batch: 672 / 6720], examples_per_second: 4703.4727, train_label_loss: 1.4036, \n"
     ]
    },
    {
     "name": "stdout",
     "output_type": "stream",
     "text": [
      "epoch: 1, [batch: 1344 / 6720], examples_per_second: 4947.1596, train_label_loss: 0.9736, \n"
     ]
    },
    {
     "name": "stdout",
     "output_type": "stream",
     "text": [
      "epoch: 1, [batch: 2016 / 6720], examples_per_second: 4968.1264, train_label_loss: 1.0038, \n"
     ]
    },
    {
     "name": "stdout",
     "output_type": "stream",
     "text": [
      "epoch: 1, [batch: 2688 / 6720], examples_per_second: 4706.5127, train_label_loss: 0.9022, \n"
     ]
    },
    {
     "name": "stdout",
     "output_type": "stream",
     "text": [
      "epoch: 1, [batch: 3360 / 6720], examples_per_second: 4780.5044, train_label_loss: 0.7838, \n"
     ]
    },
    {
     "name": "stdout",
     "output_type": "stream",
     "text": [
      "epoch: 1, [batch: 4032 / 6720], examples_per_second: 4977.3729, train_label_loss: 1.0209, \n"
     ]
    },
    {
     "name": "stdout",
     "output_type": "stream",
     "text": [
      "epoch: 1, [batch: 4704 / 6720], examples_per_second: 4745.8794, train_label_loss: 1.1532, \n"
     ]
    },
    {
     "name": "stdout",
     "output_type": "stream",
     "text": [
      "epoch: 1, [batch: 5376 / 6720], examples_per_second: 4651.4440, train_label_loss: 1.2881, \n"
     ]
    },
    {
     "name": "stdout",
     "output_type": "stream",
     "text": [
      "epoch: 1, [batch: 6048 / 6720], examples_per_second: 4722.3605, train_label_loss: 0.7356, \n"
     ]
    },
    {
     "name": "stdout",
     "output_type": "stream",
     "text": [
      "=============================================================\n",
      "epoch: 1, source_val_acc_label: 0.6237, target_val_acc_label: 0.4614, source_val_label_loss: 1.1291, target_val_label_loss: 153.7892, \n",
      "=============================================================\n"
     ]
    },
    {
     "name": "stdout",
     "output_type": "stream",
     "text": [
      "New best\n"
     ]
    },
    {
     "name": "stdout",
     "output_type": "stream",
     "text": [
      "epoch: 2, [batch: 1 / 6720], examples_per_second: 4.2878, train_label_loss: 1.5501, \n"
     ]
    },
    {
     "name": "stdout",
     "output_type": "stream",
     "text": [
      "epoch: 2, [batch: 672 / 6720], examples_per_second: 3945.6961, train_label_loss: 1.0327, \n"
     ]
    },
    {
     "name": "stdout",
     "output_type": "stream",
     "text": [
      "epoch: 2, [batch: 1344 / 6720], examples_per_second: 3975.2183, train_label_loss: 0.8196, \n"
     ]
    },
    {
     "name": "stdout",
     "output_type": "stream",
     "text": [
      "epoch: 2, [batch: 2016 / 6720], examples_per_second: 3883.6404, train_label_loss: 0.7618, \n"
     ]
    },
    {
     "name": "stdout",
     "output_type": "stream",
     "text": [
      "epoch: 2, [batch: 2688 / 6720], examples_per_second: 3871.8818, train_label_loss: 0.9438, \n"
     ]
    },
    {
     "name": "stdout",
     "output_type": "stream",
     "text": [
      "epoch: 2, [batch: 3360 / 6720], examples_per_second: 3989.0325, train_label_loss: 0.8615, \n"
     ]
    },
    {
     "name": "stdout",
     "output_type": "stream",
     "text": [
      "epoch: 2, [batch: 4032 / 6720], examples_per_second: 3985.1134, train_label_loss: 0.6266, \n"
     ]
    },
    {
     "name": "stdout",
     "output_type": "stream",
     "text": [
      "epoch: 2, [batch: 4704 / 6720], examples_per_second: 3958.4851, train_label_loss: 1.2485, \n"
     ]
    },
    {
     "name": "stdout",
     "output_type": "stream",
     "text": [
      "epoch: 2, [batch: 5376 / 6720], examples_per_second: 3965.7773, train_label_loss: 0.3582, \n"
     ]
    },
    {
     "name": "stdout",
     "output_type": "stream",
     "text": [
      "epoch: 2, [batch: 6048 / 6720], examples_per_second: 4298.1811, train_label_loss: 0.6091, \n"
     ]
    },
    {
     "name": "stdout",
     "output_type": "stream",
     "text": [
      "=============================================================\n",
      "epoch: 2, source_val_acc_label: 0.6848, target_val_acc_label: 0.5439, source_val_label_loss: 0.8608, target_val_label_loss: 137.3983, \n",
      "=============================================================\n"
     ]
    },
    {
     "name": "stdout",
     "output_type": "stream",
     "text": [
      "New best\n"
     ]
    },
    {
     "name": "stdout",
     "output_type": "stream",
     "text": [
      "epoch: 3, [batch: 1 / 6720], examples_per_second: 4.1546, train_label_loss: 0.5270, \n"
     ]
    },
    {
     "name": "stdout",
     "output_type": "stream",
     "text": [
      "epoch: 3, [batch: 672 / 6720], examples_per_second: 3801.6433, train_label_loss: 1.0162, \n"
     ]
    },
    {
     "name": "stdout",
     "output_type": "stream",
     "text": [
      "epoch: 3, [batch: 1344 / 6720], examples_per_second: 3836.8814, train_label_loss: 0.5587, \n"
     ]
    },
    {
     "name": "stdout",
     "output_type": "stream",
     "text": [
      "epoch: 3, [batch: 2016 / 6720], examples_per_second: 4080.1170, train_label_loss: 0.8052, \n"
     ]
    },
    {
     "name": "stdout",
     "output_type": "stream",
     "text": [
      "epoch: 3, [batch: 2688 / 6720], examples_per_second: 3963.1830, train_label_loss: 0.9480, \n"
     ]
    },
    {
     "name": "stdout",
     "output_type": "stream",
     "text": [
      "epoch: 3, [batch: 3360 / 6720], examples_per_second: 3956.2423, train_label_loss: 0.8646, \n"
     ]
    },
    {
     "name": "stdout",
     "output_type": "stream",
     "text": [
      "epoch: 3, [batch: 4032 / 6720], examples_per_second: 3915.2296, train_label_loss: 0.8285, \n"
     ]
    },
    {
     "name": "stdout",
     "output_type": "stream",
     "text": [
      "epoch: 3, [batch: 4704 / 6720], examples_per_second: 3880.4735, train_label_loss: 0.4672, \n"
     ]
    },
    {
     "name": "stdout",
     "output_type": "stream",
     "text": [
      "epoch: 3, [batch: 5376 / 6720], examples_per_second: 3885.2381, train_label_loss: 0.7741, \n"
     ]
    },
    {
     "name": "stdout",
     "output_type": "stream",
     "text": [
      "epoch: 3, [batch: 6048 / 6720], examples_per_second: 4209.8692, train_label_loss: 0.7272, \n"
     ]
    },
    {
     "name": "stdout",
     "output_type": "stream",
     "text": [
      "=============================================================\n",
      "epoch: 3, source_val_acc_label: 0.7243, target_val_acc_label: 0.5691, source_val_label_loss: 0.7295, target_val_label_loss: 137.2822, \n",
      "=============================================================\n"
     ]
    },
    {
     "name": "stdout",
     "output_type": "stream",
     "text": [
      "New best\n"
     ]
    },
    {
     "name": "stdout",
     "output_type": "stream",
     "text": [
      "epoch: 4, [batch: 1 / 6720], examples_per_second: 4.2896, train_label_loss: 0.6535, \n"
     ]
    },
    {
     "name": "stdout",
     "output_type": "stream",
     "text": [
      "epoch: 4, [batch: 672 / 6720], examples_per_second: 3781.1168, train_label_loss: 0.4046, \n"
     ]
    },
    {
     "name": "stdout",
     "output_type": "stream",
     "text": [
      "epoch: 4, [batch: 1344 / 6720], examples_per_second: 3825.1468, train_label_loss: 0.6234, \n"
     ]
    },
    {
     "name": "stdout",
     "output_type": "stream",
     "text": [
      "epoch: 4, [batch: 2016 / 6720], examples_per_second: 3760.5853, train_label_loss: 0.3560, \n"
     ]
    },
    {
     "name": "stdout",
     "output_type": "stream",
     "text": [
      "epoch: 4, [batch: 2688 / 6720], examples_per_second: 3791.3303, train_label_loss: 0.5090, \n"
     ]
    },
    {
     "name": "stdout",
     "output_type": "stream",
     "text": [
      "epoch: 4, [batch: 3360 / 6720], examples_per_second: 3824.0190, train_label_loss: 0.6318, \n"
     ]
    },
    {
     "name": "stdout",
     "output_type": "stream",
     "text": [
      "epoch: 4, [batch: 4032 / 6720], examples_per_second: 3789.5637, train_label_loss: 0.3160, \n"
     ]
    },
    {
     "name": "stdout",
     "output_type": "stream",
     "text": [
      "epoch: 4, [batch: 4704 / 6720], examples_per_second: 3811.0411, train_label_loss: 0.8732, \n"
     ]
    },
    {
     "name": "stdout",
     "output_type": "stream",
     "text": [
      "epoch: 4, [batch: 5376 / 6720], examples_per_second: 3856.1878, train_label_loss: 0.4915, \n"
     ]
    },
    {
     "name": "stdout",
     "output_type": "stream",
     "text": [
      "epoch: 4, [batch: 6048 / 6720], examples_per_second: 4255.0903, train_label_loss: 0.8228, \n"
     ]
    },
    {
     "name": "stdout",
     "output_type": "stream",
     "text": [
      "=============================================================\n",
      "epoch: 4, source_val_acc_label: 0.7762, target_val_acc_label: 0.5751, source_val_label_loss: 0.6037, target_val_label_loss: 170.2429, \n",
      "=============================================================\n"
     ]
    },
    {
     "name": "stdout",
     "output_type": "stream",
     "text": [
      "New best\n"
     ]
    },
    {
     "name": "stdout",
     "output_type": "stream",
     "text": [
      "epoch: 5, [batch: 1 / 6720], examples_per_second: 4.2537, train_label_loss: 0.9415, \n"
     ]
    },
    {
     "name": "stdout",
     "output_type": "stream",
     "text": [
      "epoch: 5, [batch: 672 / 6720], examples_per_second: 3820.9032, train_label_loss: 0.6965, \n"
     ]
    },
    {
     "name": "stdout",
     "output_type": "stream",
     "text": [
      "epoch: 5, [batch: 1344 / 6720], examples_per_second: 3948.0417, train_label_loss: 0.3493, \n"
     ]
    },
    {
     "name": "stdout",
     "output_type": "stream",
     "text": [
      "epoch: 5, [batch: 2016 / 6720], examples_per_second: 3906.1792, train_label_loss: 0.3376, \n"
     ]
    },
    {
     "name": "stdout",
     "output_type": "stream",
     "text": [
      "epoch: 5, [batch: 2688 / 6720], examples_per_second: 3863.1025, train_label_loss: 0.4226, \n"
     ]
    },
    {
     "name": "stdout",
     "output_type": "stream",
     "text": [
      "epoch: 5, [batch: 3360 / 6720], examples_per_second: 3813.5201, train_label_loss: 0.5029, \n"
     ]
    },
    {
     "name": "stdout",
     "output_type": "stream",
     "text": [
      "epoch: 5, [batch: 4032 / 6720], examples_per_second: 4029.8642, train_label_loss: 0.7064, \n"
     ]
    },
    {
     "name": "stdout",
     "output_type": "stream",
     "text": [
      "epoch: 5, [batch: 4704 / 6720], examples_per_second: 4053.5779, train_label_loss: 0.5347, \n"
     ]
    },
    {
     "name": "stdout",
     "output_type": "stream",
     "text": [
      "epoch: 5, [batch: 5376 / 6720], examples_per_second: 4015.3254, train_label_loss: 0.5716, \n"
     ]
    },
    {
     "name": "stdout",
     "output_type": "stream",
     "text": [
      "epoch: 5, [batch: 6048 / 6720], examples_per_second: 4265.4780, train_label_loss: 0.0918, \n"
     ]
    },
    {
     "name": "stdout",
     "output_type": "stream",
     "text": [
      "=============================================================\n",
      "epoch: 5, source_val_acc_label: 0.7872, target_val_acc_label: 0.5317, source_val_label_loss: 0.5674, target_val_label_loss: 323.5063, \n",
      "=============================================================\n"
     ]
    },
    {
     "name": "stdout",
     "output_type": "stream",
     "text": [
      "epoch: 6, [batch: 1 / 6720], examples_per_second: 4.1846, train_label_loss: 0.3521, \n"
     ]
    },
    {
     "name": "stdout",
     "output_type": "stream",
     "text": [
      "epoch: 6, [batch: 672 / 6720], examples_per_second: 3898.4835, train_label_loss: 0.5302, \n"
     ]
    },
    {
     "name": "stdout",
     "output_type": "stream",
     "text": [
      "epoch: 6, [batch: 1344 / 6720], examples_per_second: 4043.6007, train_label_loss: 0.4785, \n"
     ]
    },
    {
     "name": "stdout",
     "output_type": "stream",
     "text": [
      "epoch: 6, [batch: 2016 / 6720], examples_per_second: 4047.5644, train_label_loss: 0.5639, \n"
     ]
    },
    {
     "name": "stdout",
     "output_type": "stream",
     "text": [
      "epoch: 6, [batch: 2688 / 6720], examples_per_second: 3952.2171, train_label_loss: 0.2580, \n"
     ]
    },
    {
     "name": "stdout",
     "output_type": "stream",
     "text": [
      "epoch: 6, [batch: 3360 / 6720], examples_per_second: 4096.8526, train_label_loss: 0.6201, \n"
     ]
    },
    {
     "name": "stdout",
     "output_type": "stream",
     "text": [
      "epoch: 6, [batch: 4032 / 6720], examples_per_second: 4016.0075, train_label_loss: 0.1941, \n"
     ]
    },
    {
     "name": "stdout",
     "output_type": "stream",
     "text": [
      "epoch: 6, [batch: 4704 / 6720], examples_per_second: 3769.2563, train_label_loss: 0.4291, \n"
     ]
    },
    {
     "name": "stdout",
     "output_type": "stream",
     "text": [
      "epoch: 6, [batch: 5376 / 6720], examples_per_second: 4007.5800, train_label_loss: 0.5403, \n"
     ]
    },
    {
     "name": "stdout",
     "output_type": "stream",
     "text": [
      "epoch: 6, [batch: 6048 / 6720], examples_per_second: 4453.4651, train_label_loss: 0.5397, \n"
     ]
    },
    {
     "name": "stdout",
     "output_type": "stream",
     "text": [
      "=============================================================\n",
      "epoch: 6, source_val_acc_label: 0.7934, target_val_acc_label: 0.5505, source_val_label_loss: 0.5566, target_val_label_loss: 216.8299, \n",
      "=============================================================\n"
     ]
    },
    {
     "name": "stdout",
     "output_type": "stream",
     "text": [
      "epoch: 7, [batch: 1 / 6720], examples_per_second: 4.3270, train_label_loss: 0.3749, \n"
     ]
    },
    {
     "name": "stdout",
     "output_type": "stream",
     "text": [
      "epoch: 7, [batch: 672 / 6720], examples_per_second: 4025.5136, train_label_loss: 0.3571, \n"
     ]
    },
    {
     "name": "stdout",
     "output_type": "stream",
     "text": [
      "epoch: 7, [batch: 1344 / 6720], examples_per_second: 3952.0130, train_label_loss: 0.4402, \n"
     ]
    },
    {
     "name": "stdout",
     "output_type": "stream",
     "text": [
      "epoch: 7, [batch: 2016 / 6720], examples_per_second: 3838.3918, train_label_loss: 0.3979, \n"
     ]
    },
    {
     "name": "stdout",
     "output_type": "stream",
     "text": [
      "epoch: 7, [batch: 2688 / 6720], examples_per_second: 3884.5599, train_label_loss: 0.1639, \n"
     ]
    },
    {
     "name": "stdout",
     "output_type": "stream",
     "text": [
      "epoch: 7, [batch: 3360 / 6720], examples_per_second: 3960.0318, train_label_loss: 0.2808, \n"
     ]
    },
    {
     "name": "stdout",
     "output_type": "stream",
     "text": [
      "epoch: 7, [batch: 4032 / 6720], examples_per_second: 4052.3160, train_label_loss: 0.3527, \n"
     ]
    },
    {
     "name": "stdout",
     "output_type": "stream",
     "text": [
      "epoch: 7, [batch: 4704 / 6720], examples_per_second: 3963.2833, train_label_loss: 0.6913, \n"
     ]
    },
    {
     "name": "stdout",
     "output_type": "stream",
     "text": [
      "epoch: 7, [batch: 5376 / 6720], examples_per_second: 3968.7297, train_label_loss: 0.4706, \n"
     ]
    },
    {
     "name": "stdout",
     "output_type": "stream",
     "text": [
      "epoch: 7, [batch: 6048 / 6720], examples_per_second: 4538.2778, train_label_loss: 0.4935, \n"
     ]
    },
    {
     "name": "stdout",
     "output_type": "stream",
     "text": [
      "=============================================================\n",
      "epoch: 7, source_val_acc_label: 0.8260, target_val_acc_label: 0.4865, source_val_label_loss: 0.4739, target_val_label_loss: 469.1555, \n",
      "=============================================================\n"
     ]
    },
    {
     "name": "stdout",
     "output_type": "stream",
     "text": [
      "epoch: 8, [batch: 1 / 6720], examples_per_second: 4.3541, train_label_loss: 0.4399, \n"
     ]
    },
    {
     "name": "stdout",
     "output_type": "stream",
     "text": [
      "epoch: 8, [batch: 672 / 6720], examples_per_second: 3872.6891, train_label_loss: 0.4683, \n"
     ]
    },
    {
     "name": "stdout",
     "output_type": "stream",
     "text": [
      "epoch: 8, [batch: 1344 / 6720], examples_per_second: 3897.6214, train_label_loss: 0.1625, \n"
     ]
    },
    {
     "name": "stdout",
     "output_type": "stream",
     "text": [
      "epoch: 8, [batch: 2016 / 6720], examples_per_second: 3946.6502, train_label_loss: 1.0783, \n"
     ]
    },
    {
     "name": "stdout",
     "output_type": "stream",
     "text": [
      "epoch: 8, [batch: 2688 / 6720], examples_per_second: 3904.9107, train_label_loss: 0.7904, \n"
     ]
    },
    {
     "name": "stdout",
     "output_type": "stream",
     "text": [
      "epoch: 8, [batch: 3360 / 6720], examples_per_second: 3900.7091, train_label_loss: 0.2759, \n"
     ]
    },
    {
     "name": "stdout",
     "output_type": "stream",
     "text": [
      "epoch: 8, [batch: 4032 / 6720], examples_per_second: 3971.3269, train_label_loss: 0.3409, \n"
     ]
    },
    {
     "name": "stdout",
     "output_type": "stream",
     "text": [
      "epoch: 8, [batch: 4704 / 6720], examples_per_second: 3982.8010, train_label_loss: 0.4010, \n"
     ]
    },
    {
     "name": "stdout",
     "output_type": "stream",
     "text": [
      "epoch: 8, [batch: 5376 / 6720], examples_per_second: 3942.5634, train_label_loss: 0.6816, \n"
     ]
    },
    {
     "name": "stdout",
     "output_type": "stream",
     "text": [
      "epoch: 8, [batch: 6048 / 6720], examples_per_second: 4487.9404, train_label_loss: 0.9055, \n"
     ]
    },
    {
     "name": "stdout",
     "output_type": "stream",
     "text": [
      "=============================================================\n",
      "epoch: 8, source_val_acc_label: 0.8059, target_val_acc_label: 0.5110, source_val_label_loss: 0.5242, target_val_label_loss: 447.0508, \n",
      "=============================================================\n"
     ]
    },
    {
     "name": "stdout",
     "output_type": "stream",
     "text": [
      "Patience (3) exhausted\n"
     ]
    }
   ],
   "source": [
    "###################################\n",
    "# train\n",
    "###################################\n",
    "jig = PTN_Train_Eval_Test_Jig(model, p.BEST_MODEL_PATH, p.device)\n",
    "\n",
    "jig.train(\n",
    "    train_iterable=datasets.source.processed.train,\n",
    "    source_val_iterable=datasets.source.processed.val,\n",
    "    target_val_iterable=datasets.target.processed.val,\n",
    "    num_epochs=p.n_epoch,\n",
    "    num_logs_per_epoch=p.NUM_LOGS_PER_EPOCH,\n",
    "    patience=p.patience,\n",
    "    optimizer=optimizer,\n",
    "    criteria_for_best=p.criteria_for_best,\n",
    ")"
   ]
  },
  {
   "cell_type": "code",
   "execution_count": 23,
   "id": "31e8fabf",
   "metadata": {
    "execution": {
     "iopub.execute_input": "2022-03-28T05:38:09.436913Z",
     "iopub.status.busy": "2022-03-28T05:38:09.436265Z",
     "iopub.status.idle": "2022-03-28T05:38:09.470662Z",
     "shell.execute_reply": "2022-03-28T05:38:09.469924Z"
    },
    "papermill": {
     "duration": 0.088446,
     "end_time": "2022-03-28T05:38:09.470841",
     "exception": false,
     "start_time": "2022-03-28T05:38:09.382395",
     "status": "completed"
    },
    "tags": []
   },
   "outputs": [],
   "source": [
    "total_experiment_time_secs = time.time() - start_time_secs"
   ]
  },
  {
   "cell_type": "code",
   "execution_count": 24,
   "id": "87b9595b",
   "metadata": {
    "execution": {
     "iopub.execute_input": "2022-03-28T05:38:09.582087Z",
     "iopub.status.busy": "2022-03-28T05:38:09.581222Z",
     "iopub.status.idle": "2022-03-28T05:40:56.545697Z",
     "shell.execute_reply": "2022-03-28T05:40:56.544942Z"
    },
    "papermill": {
     "duration": 167.022457,
     "end_time": "2022-03-28T05:40:56.545888",
     "exception": false,
     "start_time": "2022-03-28T05:38:09.523431",
     "status": "completed"
    },
    "tags": []
   },
   "outputs": [],
   "source": [
    "###################################\n",
    "# Evaluate the model\n",
    "###################################\n",
    "source_test_label_accuracy, source_test_label_loss = jig.test(datasets.source.processed.test)\n",
    "target_test_label_accuracy, target_test_label_loss = jig.test(datasets.target.processed.test)\n",
    "\n",
    "source_val_label_accuracy, source_val_label_loss = jig.test(datasets.source.processed.val)\n",
    "target_val_label_accuracy, target_val_label_loss = jig.test(datasets.target.processed.val)\n",
    "\n",
    "history = jig.get_history()\n",
    "\n",
    "total_epochs_trained = len(history[\"epoch_indices\"])\n",
    "\n",
    "val_dl = Iterable_Aggregator((datasets.source.original.val,datasets.target.original.val))\n",
    "\n",
    "confusion = ptn_confusion_by_domain_over_dataloader(model, p.device, val_dl)\n",
    "per_domain_accuracy = per_domain_accuracy_from_confusion(confusion)\n",
    "\n",
    "# Add a key to per_domain_accuracy for if it was a source domain\n",
    "for domain, accuracy in per_domain_accuracy.items():\n",
    "    per_domain_accuracy[domain] = {\n",
    "        \"accuracy\": accuracy,\n",
    "        \"source?\": domain in p.domains_source\n",
    "    }\n",
    "\n",
    "# Do an independent accuracy assesment JUST TO BE SURE!\n",
    "# _source_test_label_accuracy = independent_accuracy_assesment(model, datasets.source.processed.test, p.device)\n",
    "# _target_test_label_accuracy = independent_accuracy_assesment(model, datasets.target.processed.test, p.device)\n",
    "# _source_val_label_accuracy = independent_accuracy_assesment(model, datasets.source.processed.val, p.device)\n",
    "# _target_val_label_accuracy = independent_accuracy_assesment(model, datasets.target.processed.val, p.device)\n",
    "\n",
    "# assert(_source_test_label_accuracy == source_test_label_accuracy)\n",
    "# assert(_target_test_label_accuracy == target_test_label_accuracy)\n",
    "# assert(_source_val_label_accuracy == source_val_label_accuracy)\n",
    "# assert(_target_val_label_accuracy == target_val_label_accuracy)\n",
    "\n",
    "experiment = {\n",
    "    \"experiment_name\": p.experiment_name,\n",
    "    \"parameters\": dict(p),\n",
    "    \"results\": {\n",
    "        \"source_test_label_accuracy\": source_test_label_accuracy,\n",
    "        \"source_test_label_loss\": source_test_label_loss,\n",
    "        \"target_test_label_accuracy\": target_test_label_accuracy,\n",
    "        \"target_test_label_loss\": target_test_label_loss,\n",
    "        \"source_val_label_accuracy\": source_val_label_accuracy,\n",
    "        \"source_val_label_loss\": source_val_label_loss,\n",
    "        \"target_val_label_accuracy\": target_val_label_accuracy,\n",
    "        \"target_val_label_loss\": target_val_label_loss,\n",
    "        \"total_epochs_trained\": total_epochs_trained,\n",
    "        \"total_experiment_time_secs\": total_experiment_time_secs,\n",
    "        \"confusion\": confusion,\n",
    "        \"per_domain_accuracy\": per_domain_accuracy,\n",
    "    },\n",
    "    \"history\": history,\n",
    "    \"dataset_metrics\": get_dataset_metrics(datasets, \"ptn\"),\n",
    "}"
   ]
  },
  {
   "cell_type": "code",
   "execution_count": 25,
   "id": "54a21829",
   "metadata": {
    "execution": {
     "iopub.execute_input": "2022-03-28T05:40:56.653075Z",
     "iopub.status.busy": "2022-03-28T05:40:56.652507Z",
     "iopub.status.idle": "2022-03-28T05:40:56.869043Z",
     "shell.execute_reply": "2022-03-28T05:40:56.868322Z"
    },
    "papermill": {
     "duration": 0.27058,
     "end_time": "2022-03-28T05:40:56.869204",
     "exception": false,
     "start_time": "2022-03-28T05:40:56.598624",
     "status": "completed"
    },
    "tags": []
   },
   "outputs": [
    {
     "data": {
      "image/png": "[encoded data removed]",
      "text/plain": [
       "<Figure size 1080x504 with 1 Axes>"
      ]
     },
     "metadata": {
      "needs_background": "light"
     },
     "output_type": "display_data"
    }
   ],
   "source": [
    "ax = get_loss_curve(experiment)\n",
    "plt.show()"
   ]
  },
  {
   "cell_type": "code",
   "execution_count": 26,
   "id": "fd8a0f60",
   "metadata": {
    "execution": {
     "iopub.execute_input": "2022-03-28T05:40:56.975072Z",
     "iopub.status.busy": "2022-03-28T05:40:56.974705Z",
     "iopub.status.idle": "2022-03-28T05:40:57.289949Z",
     "shell.execute_reply": "2022-03-28T05:40:57.290262Z"
    },
    "papermill": {
     "duration": 0.368189,
     "end_time": "2022-03-28T05:40:57.290349",
     "exception": false,
     "start_time": "2022-03-28T05:40:56.922160",
     "status": "completed"
    },
    "tags": []
   },
   "outputs": [
    {
     "data": {
      "text/plain": [
       "<AxesSubplot:title={'center':'Results'}>"
      ]
     },
     "execution_count": 26,
     "metadata": {},
     "output_type": "execute_result"
    },
    {
     "data": {
      "image/png": "[encoded data removed]",
      "text/plain": [
       "<Figure size 1080x504 with 1 Axes>"
      ]
     },
     "metadata": {
      "needs_background": "light"
     },
     "output_type": "display_data"
    }
   ],
   "source": [
    "get_results_table(experiment)"
   ]
  },
  {
   "cell_type": "code",
   "execution_count": 27,
   "id": "cf8dc689",
   "metadata": {
    "execution": {
     "iopub.execute_input": "2022-03-28T05:40:57.395860Z",
     "iopub.status.busy": "2022-03-28T05:40:57.395485Z",
     "iopub.status.idle": "2022-03-28T05:40:57.636190Z",
     "shell.execute_reply": "2022-03-28T05:40:57.636866Z"
    },
    "papermill": {
     "duration": 0.295476,
     "end_time": "2022-03-28T05:40:57.637052",
     "exception": false,
     "start_time": "2022-03-28T05:40:57.341576",
     "status": "completed"
    },
    "tags": []
   },
   "outputs": [
    {
     "data": {
      "text/plain": [
       "<AxesSubplot:title={'center':'Per Domain Validation Accuracy'}, xlabel='domain'>"
      ]
     },
     "execution_count": 27,
     "metadata": {},
     "output_type": "execute_result"
    },
    {
     "data": {
      "image/png": "[encoded data removed]",
      "text/plain": [
       "<Figure size 1080x504 with 1 Axes>"
      ]
     },
     "metadata": {
      "needs_background": "light"
     },
     "output_type": "display_data"
    }
   ],
   "source": [
    "get_domain_accuracies(experiment)"
   ]
  },
  {
   "cell_type": "code",
   "execution_count": 28,
   "id": "a74ae082",
   "metadata": {
    "execution": {
     "iopub.execute_input": "2022-03-28T05:40:57.749640Z",
     "iopub.status.busy": "2022-03-28T05:40:57.749269Z",
     "iopub.status.idle": "2022-03-28T05:40:57.774876Z",
     "shell.execute_reply": "2022-03-28T05:40:57.775563Z"
    },
    "papermill": {
     "duration": 0.083,
     "end_time": "2022-03-28T05:40:57.775748",
     "exception": false,
     "start_time": "2022-03-28T05:40:57.692748",
     "status": "completed"
    },
    "tags": []
   },
   "outputs": [
    {
     "name": "stdout",
     "output_type": "stream",
     "text": [
      "Source Test Label Accuracy: 0.7784830729166666 Target Test Label Accuracy: 0.5786723163841808\n",
      "Source Val Label Accuracy: 0.7762044270833334 Target Val Label Accuracy: 0.5751071428571428\n"
     ]
    }
   ],
   "source": [
    "print(\"Source Test Label Accuracy:\", experiment[\"results\"][\"source_test_label_accuracy\"], \"Target Test Label Accuracy:\", experiment[\"results\"][\"target_test_label_accuracy\"])\n",
    "print(\"Source Val Label Accuracy:\", experiment[\"results\"][\"source_val_label_accuracy\"], \"Target Val Label Accuracy:\", experiment[\"results\"][\"target_val_label_accuracy\"])"
   ]
  },
  {
   "cell_type": "code",
   "execution_count": 29,
   "id": "dacca602",
   "metadata": {
    "execution": {
     "iopub.execute_input": "2022-03-28T05:40:57.889439Z",
     "iopub.status.busy": "2022-03-28T05:40:57.889074Z",
     "iopub.status.idle": "2022-03-28T05:40:57.911484Z",
     "shell.execute_reply": "2022-03-28T05:40:57.912201Z"
    },
    "papermill": {
     "duration": 0.079097,
     "end_time": "2022-03-28T05:40:57.912382",
     "exception": false,
     "start_time": "2022-03-28T05:40:57.833285",
     "status": "completed"
    },
    "tags": [
     "experiment_json"
    ]
   },
   "outputs": [
    {
     "data": {
      "text/plain": [
       "'{\"experiment_name\": \"tl_3-jitter1v2:oracle.run1.framed -> cores\", \"parameters\": {\"experiment_name\": \"tl_3-jitter1v2:oracle.run1.framed -> cores\", \"device\": \"cuda\", \"lr\": 0.0001, \"x_shape\": [2, 256], \"n_shot\": 3, \"n_query\": 2, \"train_k_factor\": 3, \"val_k_factor\": 2, \"test_k_factor\": 2, \"torch_default_dtype\": \"torch.float32\", \"n_epoch\": 50, \"patience\": 3, \"criteria_for_best\": \"target_accuracy\", \"x_net\": [{\"class\": \"nnReshape\", \"kargs\": {\"shape\": [-1, 1, 2, 256]}}, {\"class\": \"Conv2d\", \"kargs\": {\"in_channels\": 1, \"out_channels\": 256, \"kernel_size\": [1, 7], \"bias\": false, \"padding\": [0, 3]}}, {\"class\": \"ReLU\", \"kargs\": {\"inplace\": true}}, {\"class\": \"BatchNorm2d\", \"kargs\": {\"num_features\": 256}}, {\"class\": \"Conv2d\", \"kargs\": {\"in_channels\": 256, \"out_channels\": 80, \"kernel_size\": [2, 7], \"bias\": true, \"padding\": [0, 3]}}, {\"class\": \"ReLU\", \"kargs\": {\"inplace\": true}}, {\"class\": \"BatchNorm2d\", \"kargs\": {\"num_features\": 80}}, {\"class\": \"Flatten\", \"kargs\": {}}, {\"class\": \"Linear\", \"kargs\": {\"in_features\": 20480, \"out_features\": 256}}, {\"class\": \"ReLU\", \"kargs\": {\"inplace\": true}}, {\"class\": \"BatchNorm1d\", \"kargs\": {\"num_features\": 256}}, {\"class\": \"Linear\", \"kargs\": {\"in_features\": 256, \"out_features\": 256}}], \"NUM_LOGS_PER_EPOCH\": 10, \"BEST_MODEL_PATH\": \"./best_model.pth\", \"n_way\": 16, \"datasets\": [{\"labels\": [\"1-10.\", \"1-11.\", \"1-15.\", \"1-16.\", \"1-17.\", \"1-18.\", \"1-19.\", \"10-4.\", \"10-7.\", \"11-1.\", \"11-14.\", \"11-17.\", \"11-20.\", \"11-7.\", \"13-20.\", \"13-8.\", \"14-10.\", \"14-11.\", \"14-14.\", \"14-7.\", \"15-1.\", \"15-20.\", \"16-1.\", \"16-16.\", \"17-10.\", \"17-11.\", \"17-2.\", \"19-1.\", \"19-16.\", \"19-19.\", \"19-20.\", \"19-3.\", \"2-10.\", \"2-11.\", \"2-17.\", \"2-18.\", \"2-20.\", \"2-3.\", \"2-4.\", \"2-5.\", \"2-6.\", \"2-7.\", \"2-8.\", \"3-13.\", \"3-18.\", \"3-3.\", \"4-1.\", \"4-10.\", \"4-11.\", \"4-19.\", \"5-5.\", \"6-15.\", \"7-10.\", \"7-14.\", \"8-18.\", \"8-20.\", \"8-3.\", \"8-8.\"], \"domains\": [1, 2, 3, 4, 5], \"num_examples_per_domain_per_label\": -1, \"pickle_path\": \"/root/csc500-main/datasets/cores.stratified_ds.2022A.pkl\", \"source_or_target_dataset\": \"target\", \"x_transforms\": [\"unit_power\", \"jitter_256_1\", \"lowpass_+/-10MHz\", \"take_200\"], \"episode_transforms\": [], \"domain_prefix\": \"C_\"}, {\"labels\": [\"3123D52\", \"3123D65\", \"3123D79\", \"3123D80\", \"3123D54\", \"3123D70\", \"3123D7B\", \"3123D89\", \"3123D58\", \"3123D76\", \"3123D7D\", \"3123EFE\", \"3123D64\", \"3123D78\", \"3123D7E\", \"3124E4A\"], \"domains\": [32, 38, 8, 44, 14, 50, 20, 26], \"num_examples_per_domain_per_label\": 2000, \"pickle_path\": \"/root/csc500-main/datasets/oracle.Run1_framed_2000Examples_stratified_ds.2022A.pkl\", \"source_or_target_dataset\": \"source\", \"x_transforms\": [\"unit_power\", \"jitter_256_1\", \"take_200\", \"resample_20Msps_to_25Msps\"], \"episode_transforms\": [], \"domain_prefix\": \"O_\"}], \"seed\": 7, \"dataset_seed\": 7, \"domains_source\": [\"O_32\", \"O_38\", \"O_8\", \"O_44\", \"O_14\", \"O_50\", \"O_20\", \"O_26\"], \"domains_target\": [\"C_1\", \"C_2\", \"C_3\", \"C_4\", \"C_5\"]}, \"results\": {\"source_test_label_accuracy\": 0.7784830729166666, \"source_test_label_loss\": 0.5926243662834167, \"target_test_label_accuracy\": 0.5786723163841808, \"target_test_label_loss\": 168.11508178710938, \"source_val_label_accuracy\": 0.7762044270833334, \"source_val_label_loss\": 0.6036671996116638, \"target_val_label_accuracy\": 0.5751071428571428, \"target_val_label_loss\": 170.2428741455078, \"total_epochs_trained\": 8, \"total_experiment_time_secs\": 1381.2144367694855, \"confusion\": {\"O_26\": {\"0\": {\"14\": 50, \"10\": 48, \"8\": 26, \"4\": 46, \"0\": 66, \"1\": 3, \"6\": 1}, \"4\": {\"4\": 121, \"14\": 41, \"7\": 14, \"10\": 11, \"1\": 9, \"0\": 21, \"8\": 23}, \"14\": {\"10\": 20, \"0\": 39, \"14\": 103, \"1\": 35, \"4\": 38, \"8\": 4, \"7\": 1}, \"12\": {\"12\": 239, \"11\": 1}, \"8\": {\"7\": 29, \"0\": 23, \"15\": 18, \"4\": 22, \"8\": 101, \"14\": 7, \"6\": 4, \"10\": 24, \"9\": 6, \"1\": 2, \"3\": 1, \"5\": 3}, \"7\": {\"2\": 17, \"7\": 158, \"4\": 21, \"3\": 24, \"8\": 15, \"14\": 3, \"1\": 1, \"0\": 1}, \"13\": {\"13\": 188, \"5\": 33, \"15\": 7, \"2\": 5, \"9\": 7}, \"5\": {\"5\": 185, \"13\": 19, \"2\": 17, \"8\": 3, \"15\": 8, \"3\": 2, \"9\": 5, \"7\": 1}, \"15\": {\"15\": 97, \"9\": 86, \"13\": 5, \"0\": 3, \"8\": 15, \"2\": 9, \"6\": 9, \"5\": 12, \"7\": 2, \"3\": 1, \"10\": 1}, \"10\": {\"6\": 14, \"0\": 62, \"4\": 10, \"8\": 35, \"10\": 90, \"14\": 23, \"15\": 2, \"7\": 1, \"1\": 2, \"9\": 1}, \"3\": {\"3\": 159, \"2\": 60, \"7\": 18, \"5\": 3}, \"9\": {\"9\": 124, \"15\": 80, \"13\": 8, \"6\": 12, \"0\": 1, \"8\": 8, \"2\": 2, \"5\": 5}, \"6\": {\"6\": 184, \"9\": 22, \"15\": 8, \"10\": 19, \"0\": 2, \"8\": 4, \"13\": 1}, \"1\": {\"1\": 195, \"4\": 12, \"14\": 28, \"7\": 3, \"0\": 1, \"10\": 1}, \"11\": {\"11\": 240}, \"2\": {\"15\": 12, \"13\": 4, \"2\": 93, \"3\": 71, \"7\": 27, \"5\": 24, \"8\": 8, \"9\": 1}}, \"O_44\": {\"1\": {\"1\": 150, \"3\": 15, \"12\": 51, \"10\": 12, \"2\": 12}, \"11\": {\"11\": 235, \"13\": 3, \"6\": 2}, \"3\": {\"3\": 230, \"1\": 8, \"12\": 2}, \"6\": {\"6\": 161, \"13\": 54, \"7\": 7, \"9\": 17, \"11\": 1}, \"7\": {\"7\": 168, \"9\": 34, \"6\": 8, \"13\": 2, \"2\": 28}, \"5\": {\"5\": 207, \"0\": 10, \"15\": 9, \"8\": 5, \"14\": 9}, \"2\": {\"2\": 193, \"7\": 23, \"10\": 11, \"1\": 10, \"9\": 3}, \"15\": {\"15\": 157, \"14\": 37, \"0\": 18, \"4\": 5, \"8\": 5, \"5\": 18}, \"10\": {\"10\": 206, \"2\": 10, \"1\": 19, \"12\": 5}, \"13\": {\"13\": 162, \"6\": 50, \"9\": 22, \"11\": 3, \"4\": 2, \"7\": 1}, \"8\": {\"0\": 92, \"8\": 129, \"15\": 12, \"5\": 7}, \"4\": {\"14\": 71, \"4\": 166, \"13\": 1, \"15\": 2}, \"9\": {\"9\": 115, \"13\": 34, \"7\": 65, \"6\": 24, \"4\": 1, \"3\": 1}, \"14\": {\"4\": 75, \"14\": 140, \"5\": 7, \"15\": 17, \"0\": 1}, \"0\": {\"0\": 139, \"15\": 14, \"8\": 69, \"5\": 18}, \"12\": {\"12\": 197, \"1\": 34, \"3\": 3, \"10\": 6}}, \"O_50\": {\"15\": {\"15\": 182, \"4\": 19, \"11\": 8, \"1\": 30, \"6\": 1}, \"4\": {\"4\": 147, \"6\": 5, \"15\": 40, \"5\": 33, \"1\": 9, \"7\": 5, \"13\": 1}, \"6\": {\"6\": 175, \"4\": 6, \"15\": 9, \"13\": 30, \"1\": 7, \"7\": 5, \"5\": 8}, \"2\": {\"2\": 211, \"0\": 29}, \"5\": {\"5\": 123, \"7\": 33, \"4\": 28, \"13\": 27, \"10\": 1, \"1\": 20, \"6\": 7, \"15\": 1}, \"9\": {\"9\": 221, \"11\": 13, \"12\": 6}, \"8\": {\"8\": 237, \"10\": 1, \"3\": 2}, \"12\": {\"12\": 220, \"9\": 15, \"11\": 3, \"14\": 2}, \"10\": {\"0\": 12, \"10\": 219, \"13\": 5, \"7\": 1, \"8\": 3}, \"1\": {\"1\": 181, \"13\": 4, \"15\": 33, \"6\": 7, \"4\": 7, \"11\": 3, \"5\": 4, \"2\": 1}, \"0\": {\"0\": 209, \"2\": 18, \"10\": 10, \"13\": 3}, \"3\": {\"3\": 237, \"8\": 3}, \"13\": {\"13\": 197, \"6\": 14, \"5\": 17, \"10\": 2, \"7\": 10}, \"11\": {\"11\": 217, \"9\": 8, \"15\": 11, \"4\": 1, \"14\": 1, \"1\": 1, \"12\": 1}, \"7\": {\"7\": 192, \"5\": 25, \"6\": 2, \"13\": 17, \"10\": 3, \"4\": 1}, \"14\": {\"14\": 240}}, \"O_38\": {\"15\": {\"8\": 19, \"15\": 206, \"5\": 4, \"1\": 5, \"13\": 6}, \"11\": {\"11\": 234, \"14\": 2, \"3\": 1, \"4\": 3}, \"10\": {\"10\": 204, \"13\": 23, \"0\": 5, \"7\": 1, \"4\": 3, \"5\": 1, \"14\": 2, \"8\": 1}, \"14\": {\"14\": 222, \"2\": 18}, \"6\": {\"6\": 232, \"9\": 6, \"5\": 2}, \"4\": {\"4\": 233, \"10\": 4, \"12\": 3}, \"13\": {\"13\": 196, \"10\": 17, \"15\": 7, \"5\": 3, \"2\": 11, \"0\": 3, \"8\": 3}, \"3\": {\"9\": 4, \"3\": 232, \"5\": 1, \"0\": 3}, \"7\": {\"7\": 195, \"5\": 21, \"0\": 16, \"10\": 2, \"8\": 6}, \"8\": {\"0\": 10, \"8\": 178, \"5\": 38, \"10\": 2, \"15\": 3, \"7\": 8, \"13\": 1}, \"1\": {\"1\": 225, \"15\": 15}, \"5\": {\"5\": 115, \"8\": 68, \"7\": 32, \"15\": 7, \"13\": 2, \"1\": 2, \"0\": 5, \"9\": 5, \"6\": 4}, \"0\": {\"7\": 32, \"0\": 161, \"3\": 6, \"5\": 7, \"8\": 23, \"10\": 6, \"13\": 4, \"12\": 1}, \"2\": {\"2\": 215, \"14\": 16, \"13\": 7, \"10\": 1, \"15\": 1}, \"12\": {\"12\": 240}, \"9\": {\"9\": 208, \"6\": 21, \"7\": 1, \"5\": 9, \"3\": 1}}, \"O_20\": {\"10\": {\"10\": 228, \"14\": 11, \"4\": 1}, \"7\": {\"7\": 193, \"9\": 7, \"2\": 23, \"8\": 5, \"5\": 1, \"3\": 8, \"12\": 2, \"4\": 1}, \"4\": {\"4\": 203, \"8\": 21, \"9\": 1, \"10\": 6, \"3\": 7, \"5\": 1, \"12\": 1}, \"13\": {\"13\": 225, \"2\": 9, \"7\": 1, \"9\": 3, \"12\": 1, \"1\": 1}, \"1\": {\"1\": 157, \"12\": 36, \"15\": 16, \"5\": 25, \"13\": 2, \"9\": 1, \"3\": 2, \"2\": 1}, \"0\": {\"15\": 38, \"0\": 123, \"5\": 63, \"12\": 6, \"1\": 4, \"7\": 2, \"3\": 3, \"8\": 1}, \"12\": {\"3\": 32, \"12\": 129, \"5\": 13, \"1\": 39, \"2\": 9, \"9\": 15, \"13\": 3}, \"5\": {\"5\": 157, \"12\": 23, \"1\": 15, \"0\": 33, \"15\": 9, \"3\": 2, \"4\": 1}, \"6\": {\"6\": 224, \"14\": 16}, \"2\": {\"9\": 65, \"2\": 113, \"12\": 11, \"13\": 15, \"1\": 4, \"7\": 23, \"3\": 9}, \"8\": {\"8\": 200, \"4\": 24, \"3\": 2, \"6\": 1, \"7\": 8, \"14\": 3, \"10\": 2}, \"11\": {\"11\": 240}, \"9\": {\"9\": 132, \"2\": 58, \"3\": 18, \"7\": 7, \"12\": 21, \"13\": 2, \"1\": 2}, \"14\": {\"14\": 204, \"6\": 26, \"10\": 9, \"8\": 1}, \"15\": {\"1\": 30, \"15\": 179, \"0\": 18, \"12\": 2, \"5\": 9, \"13\": 2}, \"3\": {\"3\": 125, \"12\": 55, \"2\": 12, \"7\": 4, \"9\": 25, \"4\": 8, \"1\": 6, \"5\": 3, \"8\": 2}}, \"O_14\": {\"14\": {\"14\": 205, \"2\": 9, \"13\": 24, \"3\": 2}, \"0\": {\"10\": 21, \"0\": 215, \"3\": 3, \"11\": 1}, \"4\": {\"4\": 198, \"5\": 28, \"2\": 4, \"1\": 7, \"3\": 3}, \"11\": {\"11\": 220, \"9\": 13, \"0\": 7}, \"13\": {\"6\": 80, \"13\": 86, \"14\": 48, \"2\": 19, \"7\": 1, \"5\": 6}, \"9\": {\"9\": 238, \"11\": 1, \"12\": 1}, \"3\": {\"3\": 226, \"2\": 6, \"14\": 2, \"4\": 6}, \"6\": {\"13\": 75, \"6\": 149, \"14\": 10, \"2\": 6}, \"1\": {\"1\": 230, \"5\": 6, \"4\": 4}, \"5\": {\"5\": 160, \"4\": 49, \"1\": 19, \"2\": 11, \"3\": 1}, \"12\": {\"12\": 239, \"9\": 1}, \"10\": {\"10\": 233, \"0\": 7}, \"8\": {\"8\": 240}, \"7\": {\"7\": 240}, \"15\": {\"15\": 238, \"7\": 2}, \"2\": {\"2\": 137, \"14\": 31, \"6\": 21, \"5\": 21, \"4\": 9, \"13\": 7, \"15\": 4, \"3\": 10}}, \"O_32\": {\"11\": {\"11\": 214, \"14\": 16, \"3\": 3, \"7\": 3, \"13\": 4}, \"1\": {\"1\": 238, \"10\": 2}, \"2\": {\"2\": 184, \"4\": 50, \"7\": 4, \"13\": 1, \"5\": 1}, \"0\": {\"0\": 183, \"8\": 25, \"5\": 9, \"14\": 6, \"7\": 13, \"4\": 2, \"2\": 1, \"13\": 1}, \"3\": {\"3\": 223, \"5\": 4, \"13\": 10, \"14\": 1, \"11\": 1, \"8\": 1}, \"8\": {\"13\": 6, \"8\": 189, \"0\": 19, \"5\": 20, \"3\": 3, \"7\": 3}, \"12\": {\"12\": 240}, \"5\": {\"7\": 51, \"8\": 32, \"5\": 98, \"3\": 8, \"13\": 24, \"14\": 3, \"0\": 8, \"11\": 2, \"4\": 14}, \"15\": {\"15\": 239, \"8\": 1}, \"7\": {\"7\": 116, \"5\": 46, \"4\": 28, \"2\": 3, \"14\": 24, \"8\": 5, \"11\": 5, \"13\": 10, \"0\": 3}, \"4\": {\"4\": 185, \"7\": 10, \"2\": 32, \"13\": 6, \"5\": 6, \"0\": 1}, \"14\": {\"14\": 144, \"0\": 18, \"11\": 45, \"8\": 4, \"5\": 5, \"2\": 1, \"7\": 16, \"3\": 5, \"13\": 2}, \"10\": {\"10\": 240}, \"6\": {\"6\": 240}, \"13\": {\"13\": 162, \"3\": 17, \"4\": 22, \"5\": 19, \"0\": 3, \"7\": 9, \"8\": 7, \"11\": 1}, \"9\": {\"9\": 240}}, \"O_8\": {\"9\": {\"9\": 240}, \"11\": {\"11\": 193, \"1\": 45, \"5\": 2}, \"8\": {\"8\": 236, \"15\": 3, \"12\": 1}, \"4\": {\"4\": 165, \"6\": 14, \"13\": 38, \"14\": 21, \"10\": 1, \"7\": 1}, \"13\": {\"13\": 109, \"4\": 32, \"14\": 15, \"10\": 13, \"0\": 58, \"6\": 12, \"7\": 1}, \"14\": {\"10\": 47, \"4\": 18, \"14\": 156, \"13\": 11, \"1\": 7, \"5\": 1}, \"2\": {\"2\": 213, \"3\": 15, \"7\": 9, \"12\": 2, \"15\": 1}, \"3\": {\"2\": 11, \"3\": 222, \"12\": 7}, \"1\": {\"11\": 20, \"1\": 215, \"14\": 3, \"5\": 2}, \"0\": {\"0\": 196, \"13\": 34, \"7\": 7, \"4\": 2, \"6\": 1}, \"5\": {\"5\": 207, \"14\": 8, \"1\": 13, \"11\": 1, \"10\": 11}, \"15\": {\"12\": 39, \"15\": 198, \"8\": 3}, \"10\": {\"10\": 173, \"14\": 51, \"4\": 2, \"13\": 11, \"5\": 3}, \"12\": {\"12\": 151, \"15\": 73, \"3\": 14, \"8\": 2}, \"6\": {\"0\": 5, \"6\": 165, \"4\": 17, \"7\": 48, \"13\": 5}, \"7\": {\"7\": 183, \"13\": 1, \"6\": 51, \"0\": 4, \"8\": 1}}, \"C_5\": {\"26\": {\"26\": 22, \"53\": 1, \"21\": 1}, \"7\": {\"36\": 1, \"7\": 11, \"50\": 1, \"55\": 1, \"12\": 2, \"37\": 1, \"38\": 4, \"3\": 1, \"51\": 1, \"6\": 2, \"21\": 2, \"42\": 2, \"33\": 1, \"45\": 1, \"1\": 1}, \"56\": {\"56\": 139, \"24\": 1, \"13\": 1, \"11\": 1}, \"36\": {\"36\": 85, \"54\": 4, \"35\": 2, \"17\": 1}, \"47\": {\"47\": 93, \"23\": 3, \"52\": 2, \"3\": 1, \"43\": 1}, \"2\": {\"2\": 28}, \"15\": {\"15\": 138, \"24\": 2, \"11\": 6, \"46\": 1, \"0\": 3, \"52\": 1, \"16\": 1}, \"14\": {\"47\": 2, \"49\": 7, \"3\": 1, \"14\": 7, \"35\": 2, \"28\": 2, \"21\": 3, \"20\": 2, \"1\": 1, \"56\": 2, \"6\": 1, \"16\": 1, \"48\": 1, \"18\": 1, \"57\": 1, \"36\": 3, \"23\": 1, \"34\": 2, \"13\": 1, \"2\": 1, \"7\": 1, \"55\": 1}, \"27\": {\"47\": 3, \"32\": 1, \"19\": 1, \"1\": 21, \"27\": 40, \"9\": 4, \"36\": 3, \"42\": 1, \"35\": 1, \"17\": 3, \"8\": 10, \"45\": 4, \"18\": 2, \"21\": 1, \"6\": 2, \"56\": 5, \"44\": 1, \"12\": 1, \"0\": 1, \"48\": 6, \"29\": 1, \"57\": 5, \"50\": 2, \"46\": 4, \"51\": 5, \"14\": 2, \"2\": 1, \"34\": 1, \"28\": 3, \"20\": 1, \"41\": 1, \"31\": 1, \"54\": 1, \"40\": 1, \"55\": 1, \"53\": 1, \"30\": 3, \"25\": 1}, \"40\": {\"40\": 45, \"36\": 4, \"51\": 3, \"28\": 3, \"34\": 1, \"44\": 8, \"38\": 2, \"19\": 5, \"30\": 1, \"4\": 10, \"5\": 7, \"17\": 6, \"50\": 2, \"54\": 6, \"55\": 1, \"45\": 1, \"1\": 2, \"56\": 1, \"48\": 3, \"29\": 2, \"13\": 1, \"33\": 1, \"12\": 2, \"47\": 1, \"9\": 1, \"8\": 1, \"27\": 1, \"57\": 1, \"23\": 2}, \"49\": {\"49\": 34, \"2\": 2}, \"45\": {\"47\": 1, \"36\": 5, \"45\": 11, \"41\": 1, \"42\": 3, \"37\": 1, \"38\": 1, \"2\": 1, \"32\": 3, \"55\": 15, \"53\": 3, \"54\": 5, \"50\": 5, \"33\": 1, \"30\": 7, \"25\": 3, \"56\": 3, \"22\": 1, \"51\": 4, \"1\": 11, \"20\": 3, \"6\": 7, \"27\": 2, \"18\": 3, \"17\": 2, \"48\": 9, \"12\": 1, \"21\": 4, \"29\": 2, \"3\": 1, \"7\": 1, \"4\": 1, \"8\": 2, \"9\": 1}, \"46\": {\"47\": 1, \"46\": 108, \"23\": 3, \"36\": 2, \"3\": 2, \"16\": 3, \"57\": 4, \"0\": 3, \"13\": 1, \"52\": 1, \"56\": 2, \"43\": 1, \"49\": 1, \"31\": 1, \"35\": 1, \"11\": 2}, \"11\": {\"11\": 92, \"16\": 7, \"43\": 2, \"24\": 3, \"0\": 4, \"15\": 13, \"47\": 1, \"46\": 3, \"52\": 5}, \"30\": {\"47\": 1, \"45\": 1, \"48\": 4, \"30\": 40, \"1\": 13, \"53\": 8, \"25\": 5, \"8\": 15, \"6\": 4, \"54\": 1, \"21\": 4, \"50\": 4, \"23\": 2, \"27\": 2, \"52\": 2, \"9\": 1, \"55\": 1, \"46\": 1, \"18\": 1, \"51\": 1, \"20\": 1}, \"0\": {\"56\": 1, \"0\": 110, \"16\": 2, \"11\": 7, \"3\": 2, \"46\": 1, \"43\": 1}, \"10\": {\"10\": 44, \"56\": 4, \"49\": 3, \"23\": 2, \"35\": 2, \"0\": 4, \"11\": 2, \"24\": 1, \"15\": 2, \"5\": 1, \"2\": 1, \"43\": 2}, \"1\": {\"1\": 125, \"32\": 3, \"48\": 5, \"6\": 2, \"30\": 1, \"55\": 2, \"8\": 9, \"42\": 1}, \"42\": {\"42\": 38, \"15\": 1, \"16\": 1}, \"54\": {\"54\": 107, \"3\": 2, \"36\": 1, \"50\": 2}, \"55\": {\"54\": 6, \"17\": 4, \"50\": 6, \"51\": 9, \"42\": 4, \"36\": 8, \"2\": 1, \"34\": 2, \"32\": 4, \"1\": 20, \"48\": 12, \"55\": 46, \"6\": 6, \"21\": 4, \"30\": 4, \"25\": 4, \"8\": 2, \"26\": 1, \"7\": 2, \"47\": 2, \"53\": 2, \"9\": 3}, \"23\": {\"23\": 124}, \"25\": {\"25\": 44, \"1\": 2, \"12\": 3, \"8\": 1, \"6\": 11, \"51\": 12, \"53\": 19, \"27\": 2, \"17\": 9, \"20\": 5, \"21\": 8, \"48\": 8, \"55\": 10, \"50\": 4, \"42\": 1, \"37\": 2, \"38\": 1, \"32\": 3, \"40\": 1, \"45\": 5, \"30\": 1}, \"28\": {\"23\": 5, \"34\": 3, \"32\": 1, \"28\": 13, \"14\": 3, \"57\": 3, \"1\": 2, \"39\": 1, \"41\": 1}, \"32\": {\"32\": 11, \"28\": 2, \"41\": 1, \"8\": 2, \"55\": 1, \"25\": 1, \"34\": 3, \"17\": 1, \"20\": 1, \"21\": 1, \"23\": 1, \"47\": 1, \"48\": 1, \"1\": 3, \"36\": 1, \"6\": 1}, \"9\": {\"1\": 5, \"29\": 12, \"9\": 28, \"27\": 12, \"21\": 3, \"35\": 1, \"42\": 1, \"17\": 6, \"45\": 6, \"30\": 5, \"51\": 8, \"14\": 2, \"55\": 4, \"54\": 1, \"56\": 7, \"12\": 3, \"50\": 4, \"40\": 3, \"48\": 5, \"4\": 6, \"25\": 5, \"6\": 5, \"19\": 4, \"8\": 1, \"47\": 1, \"46\": 1, \"53\": 2, \"34\": 1}, \"39\": {\"39\": 20}, \"3\": {\"23\": 8, \"3\": 34, \"57\": 4, \"56\": 1, \"16\": 4, \"2\": 2, \"0\": 8, \"52\": 17, \"46\": 6, \"24\": 2, \"36\": 6, \"43\": 1, \"54\": 3, \"49\": 2, \"47\": 1, \"13\": 1}, \"29\": {\"29\": 37, \"28\": 2, \"25\": 7, \"32\": 2, \"33\": 4, \"27\": 8, \"31\": 1, \"2\": 1, \"36\": 4, \"45\": 2, \"47\": 3, \"44\": 6, \"3\": 2, \"1\": 2, \"6\": 2, \"54\": 5, \"4\": 2, \"50\": 3, \"21\": 2, \"56\": 4, \"48\": 4, \"53\": 3, \"49\": 1, \"57\": 3, \"34\": 1, \"52\": 1, \"18\": 1, \"46\": 1, \"9\": 1, \"8\": 1, \"30\": 1, \"13\": 1}, \"17\": {\"17\": 56, \"55\": 3, \"42\": 1, \"1\": 5, \"20\": 3, \"8\": 3, \"9\": 3, \"25\": 4, \"53\": 7, \"45\": 1, \"12\": 2, \"50\": 2, \"51\": 9, \"6\": 3, \"30\": 2, \"7\": 2, \"37\": 1, \"39\": 1, \"32\": 1, \"26\": 2, \"23\": 1, \"21\": 1, \"48\": 3}, \"35\": {\"35\": 34, \"49\": 1, \"14\": 1}, \"44\": {\"44\": 42, \"49\": 3, \"32\": 3, \"29\": 5, \"9\": 1, \"34\": 5, \"17\": 1, \"19\": 6, \"57\": 4, \"54\": 11, \"27\": 5, \"56\": 11, \"14\": 1, \"22\": 1, \"3\": 2, \"47\": 5, \"5\": 6, \"48\": 13, \"36\": 7, \"4\": 2, \"0\": 3, \"1\": 4, \"46\": 1, \"31\": 2, \"2\": 1, \"35\": 1, \"6\": 1, \"28\": 1, \"40\": 2, \"23\": 1, \"50\": 1}, \"5\": {\"34\": 1, \"33\": 3, \"5\": 45, \"44\": 5, \"35\": 1, \"56\": 1, \"4\": 6, \"38\": 1, \"29\": 4, \"40\": 11, \"27\": 2, \"19\": 13, \"17\": 4, \"9\": 2, \"45\": 3, \"36\": 2, \"12\": 1, \"14\": 1, \"30\": 1, \"48\": 3, \"54\": 6, \"1\": 3, \"50\": 2, \"55\": 1, \"22\": 1, \"47\": 2, \"32\": 1, \"21\": 2}, \"33\": {\"33\": 15, \"1\": 2, \"50\": 1, \"25\": 1, \"27\": 1, \"32\": 2, \"45\": 2, \"20\": 1, \"21\": 2, \"48\": 1, \"53\": 1, \"22\": 2, \"17\": 1}, \"34\": {\"26\": 1, \"34\": 33, \"14\": 1, \"53\": 1}, \"13\": {\"5\": 1, \"13\": 76, \"3\": 3, \"35\": 2, \"43\": 21, \"15\": 4, \"24\": 9, \"0\": 2, \"52\": 7, \"56\": 1, \"19\": 2, \"11\": 5, \"47\": 1, \"29\": 1, \"53\": 1, \"49\": 1, \"44\": 1}, \"41\": {\"41\": 26, \"18\": 2}, \"6\": {\"51\": 7, \"42\": 7, \"45\": 3, \"7\": 1, \"8\": 10, \"20\": 3, \"6\": 26, \"50\": 7, \"30\": 3, \"1\": 18, \"55\": 10, \"17\": 2, \"53\": 2, \"54\": 6, \"48\": 9, \"21\": 6, \"41\": 1, \"32\": 3, \"57\": 1, \"39\": 1, \"9\": 1, \"25\": 1}, \"51\": {\"42\": 4, \"51\": 78, \"6\": 2, \"55\": 3, \"26\": 1, \"17\": 3, \"21\": 9, \"50\": 8, \"53\": 2, \"30\": 1, \"9\": 1, \"36\": 1, \"45\": 1, \"25\": 7, \"48\": 4, \"20\": 4, \"1\": 2, \"7\": 2, \"23\": 2, \"12\": 1, \"8\": 2}, \"50\": {\"6\": 3, \"50\": 26, \"9\": 5, \"48\": 15, \"37\": 1, \"54\": 10, \"1\": 18, \"33\": 1, \"20\": 3, \"53\": 2, \"8\": 7, \"44\": 1, \"55\": 10, \"30\": 3, \"0\": 1, \"51\": 8, \"36\": 2, \"25\": 5, \"56\": 2, \"19\": 2, \"29\": 3, \"21\": 2, \"12\": 2, \"42\": 2, \"49\": 1, \"17\": 2, \"3\": 2, \"45\": 3, \"27\": 1, \"46\": 1}, \"37\": {\"37\": 16, \"55\": 2, \"21\": 2, \"27\": 1, \"25\": 2, \"53\": 1}, \"19\": {\"44\": 5, \"27\": 8, \"40\": 4, \"22\": 3, \"26\": 2, \"19\": 58, \"17\": 8, \"9\": 9, \"20\": 1, \"5\": 2, \"14\": 1, \"50\": 8, \"51\": 6, \"45\": 2, \"4\": 4, \"29\": 9, \"25\": 4, \"12\": 1, \"48\": 1, \"54\": 1, \"57\": 1, \"30\": 1, \"56\": 3, \"21\": 2}, \"57\": {\"57\": 116, \"42\": 1, \"34\": 1, \"46\": 7, \"23\": 2, \"3\": 2, \"39\": 1, \"18\": 1, \"47\": 1}, \"21\": {\"51\": 5, \"37\": 5, \"53\": 19, \"21\": 60, \"55\": 5, \"30\": 2, \"23\": 9, \"33\": 1, \"9\": 1, \"48\": 3, \"17\": 4, \"18\": 2, \"45\": 3, \"16\": 2, \"20\": 5, \"6\": 4, \"1\": 1, \"25\": 7, \"52\": 3, \"44\": 1, \"27\": 2}, \"24\": {\"24\": 74, \"43\": 3, \"13\": 2, \"11\": 1}, \"8\": {\"8\": 126, \"1\": 4}, \"12\": {\"25\": 1, \"12\": 66, \"7\": 1, \"38\": 3, \"28\": 1, \"30\": 2, \"51\": 3, \"32\": 1, \"17\": 2, \"50\": 2, \"1\": 1, \"6\": 3, \"21\": 3, \"53\": 3, \"48\": 2, \"37\": 1, \"55\": 1}, \"48\": {\"37\": 2, \"48\": 42, \"51\": 2, \"28\": 1, \"30\": 8, \"55\": 5, \"20\": 6, \"50\": 8, \"8\": 9, \"1\": 24, \"21\": 3, \"57\": 1, \"6\": 5, \"25\": 4, \"32\": 2, \"53\": 4, \"18\": 1, \"54\": 1, \"9\": 2, \"45\": 2}, \"43\": {\"43\": 135, \"3\": 1, \"13\": 8, \"24\": 1, \"36\": 2, \"46\": 1, \"0\": 1, \"56\": 1}, \"53\": {\"37\": 2, \"8\": 8, \"41\": 4, \"53\": 33, \"25\": 12, \"48\": 5, \"51\": 8, \"45\": 2, \"6\": 8, \"50\": 3, \"55\": 7, \"1\": 12, \"20\": 9, \"21\": 16, \"17\": 4, \"30\": 7, \"57\": 1, \"27\": 2, \"18\": 2, \"7\": 1, \"42\": 1, \"36\": 1}, \"38\": {\"38\": 22, \"7\": 3, \"51\": 2, \"33\": 1, \"12\": 3, \"53\": 1}, \"16\": {\"16\": 124, \"11\": 4, \"23\": 6, \"46\": 3, \"52\": 3, \"3\": 1, \"47\": 1}, \"22\": {\"29\": 2, \"34\": 2, \"15\": 1, \"22\": 10, \"28\": 2, \"14\": 2, \"44\": 2, \"27\": 1, \"56\": 1, \"43\": 1, \"20\": 1, \"47\": 1, \"31\": 1, \"8\": 1}, \"4\": {\"1\": 5, \"33\": 2, \"5\": 4, \"4\": 37, \"30\": 2, \"47\": 1, \"8\": 2, \"27\": 5, \"54\": 4, \"19\": 9, \"9\": 3, \"55\": 3, \"45\": 3, \"29\": 2, \"40\": 3, \"44\": 4, \"6\": 2, \"52\": 2, \"51\": 2, \"17\": 2, \"50\": 1, \"3\": 1, \"12\": 1}, \"18\": {\"18\": 64}, \"20\": {\"18\": 17, \"42\": 6, \"20\": 52, \"21\": 1, \"8\": 17, \"30\": 4, \"53\": 6, \"16\": 4, \"48\": 2, \"57\": 5, \"6\": 4, \"23\": 10, \"46\": 3, \"3\": 1, \"54\": 2, \"1\": 5, \"25\": 2, \"41\": 2, \"11\": 1}, \"52\": {\"52\": 123, \"11\": 4, \"16\": 6, \"23\": 2, \"46\": 2, \"3\": 1, \"54\": 1, \"43\": 1}, \"31\": {\"31\": 36}}, \"C_1\": {\"41\": {\"41\": 19, \"50\": 1, \"53\": 1, \"51\": 1, \"7\": 1, \"33\": 1}, \"40\": {\"5\": 2, \"41\": 2, \"4\": 11, \"40\": 44, \"29\": 10, \"45\": 1, \"13\": 6, \"55\": 1, \"3\": 5, \"50\": 8, \"57\": 2, \"48\": 2, \"46\": 1, \"35\": 2, \"17\": 2, \"9\": 1, \"19\": 4, \"54\": 1, \"8\": 2, \"18\": 1, \"30\": 1, \"27\": 1}, \"45\": {\"45\": 25, \"46\": 1, \"16\": 24, \"37\": 1, \"18\": 4, \"51\": 3, \"34\": 2, \"11\": 3, \"53\": 5, \"32\": 2, \"22\": 6, \"7\": 2, \"47\": 2, \"30\": 6, \"42\": 5, \"52\": 1, \"6\": 3, \"48\": 2, \"56\": 2, \"8\": 3, \"23\": 1, \"24\": 1, \"1\": 3, \"25\": 5, \"9\": 3, \"55\": 3, \"54\": 5, \"5\": 2, \"12\": 1, \"20\": 3, \"27\": 2, \"33\": 2, \"36\": 1, \"17\": 1, \"0\": 2, \"44\": 1}, \"51\": {\"51\": 51, \"54\": 3, \"20\": 6, \"12\": 3, \"48\": 10, \"14\": 1, \"53\": 15, \"55\": 12, \"46\": 1, \"7\": 1, \"6\": 2, \"39\": 2, \"22\": 2, \"25\": 5, \"30\": 1, \"44\": 5, \"5\": 3, \"27\": 5, \"52\": 1, \"50\": 3, \"9\": 2, \"45\": 3, \"8\": 4, \"49\": 2, \"17\": 2, \"24\": 1, \"19\": 1, \"23\": 1}, \"5\": {\"5\": 71, \"26\": 1, \"54\": 12, \"30\": 13, \"8\": 4, \"34\": 3, \"53\": 2, \"2\": 4, \"18\": 2, \"51\": 3, \"12\": 1, \"16\": 3, \"20\": 4, \"55\": 12, \"25\": 3, \"45\": 3, \"9\": 1, \"56\": 1, \"1\": 2, \"22\": 3, \"52\": 2, \"29\": 2, \"6\": 1, \"0\": 1}, \"30\": {\"30\": 115, \"18\": 4, \"9\": 1}, \"42\": {\"32\": 2, \"34\": 3, \"42\": 26, \"33\": 2, \"54\": 2, \"45\": 1, \"55\": 2, \"18\": 2}, \"46\": {\"51\": 8, \"45\": 3, \"13\": 1, \"37\": 2, \"41\": 1, \"16\": 4, \"5\": 15, \"8\": 7, \"30\": 11, \"56\": 2, \"2\": 4, \"29\": 3, \"54\": 4, \"18\": 2, \"46\": 17, \"48\": 7, \"25\": 4, \"4\": 2, \"57\": 3, \"9\": 2, \"6\": 5, \"20\": 4, \"50\": 7, \"53\": 6, \"55\": 4, \"34\": 1, \"44\": 2, \"42\": 1, \"19\": 2, \"1\": 1, \"47\": 1}, \"48\": {\"51\": 16, \"5\": 5, \"48\": 64, \"17\": 3, \"8\": 5, \"9\": 3, \"30\": 4, \"25\": 2, \"50\": 2, \"6\": 4, \"13\": 2, \"53\": 8, \"16\": 2, \"46\": 2, \"55\": 3, \"12\": 3, \"56\": 1, \"14\": 1, \"1\": 1, \"45\": 1, \"20\": 2}, \"53\": {\"51\": 7, \"53\": 54, \"20\": 1, \"25\": 6, \"34\": 4, \"6\": 4, \"12\": 3, \"18\": 4, \"14\": 2, \"56\": 1, \"5\": 5, \"17\": 3, \"2\": 1, \"48\": 16, \"8\": 6, \"9\": 2, \"30\": 10, \"50\": 3, \"1\": 1, \"16\": 3, \"55\": 1, \"46\": 3, \"33\": 1, \"42\": 1, \"54\": 1, \"13\": 1}, \"47\": {\"47\": 65, \"30\": 4, \"0\": 4, \"39\": 3, \"31\": 3, \"38\": 4, \"44\": 5, \"32\": 3, \"27\": 26, \"54\": 7, \"7\": 2, \"23\": 1, \"20\": 1, \"55\": 7, \"5\": 7, \"22\": 1, \"52\": 5, \"42\": 3, \"1\": 1}, \"49\": {\"49\": 25, \"38\": 1, \"22\": 2, \"24\": 3, \"52\": 1}, \"36\": {\"49\": 1, \"36\": 60, \"23\": 2, \"54\": 1}, \"32\": {\"32\": 26, \"34\": 1, \"31\": 1, \"38\": 1, \"7\": 1, \"49\": 1, \"39\": 1}, \"34\": {\"34\": 24}, \"29\": {\"5\": 6, \"41\": 1, \"29\": 41, \"19\": 5, \"57\": 4, \"32\": 1, \"51\": 3, \"17\": 2, \"44\": 7, \"2\": 2, \"9\": 2, \"50\": 3, \"52\": 2, \"35\": 2, \"18\": 2, \"55\": 8, \"45\": 3, \"3\": 5, \"30\": 8, \"47\": 7, \"0\": 2, \"4\": 5, \"27\": 3, \"53\": 1, \"42\": 2, \"1\": 2, \"48\": 1, \"7\": 1, \"40\": 5, \"54\": 1, \"25\": 1, \"16\": 1, \"56\": 1}, \"35\": {\"44\": 3, \"31\": 2, \"54\": 1, \"35\": 10, \"8\": 1, \"2\": 1, \"12\": 2, \"56\": 2, \"30\": 2, \"53\": 1, \"27\": 4, \"19\": 1, \"47\": 1, \"1\": 1, \"20\": 1, \"33\": 1, \"10\": 1, \"39\": 1}, \"3\": {\"3\": 52, \"41\": 1, \"51\": 7, \"1\": 3, \"7\": 2, \"56\": 3, \"13\": 13, \"17\": 3, \"57\": 6, \"30\": 6, \"44\": 2, \"50\": 8, \"29\": 4, \"4\": 2, \"40\": 1, \"5\": 2, \"25\": 1, \"27\": 3, \"46\": 1, \"47\": 2, \"55\": 3, \"19\": 1, \"54\": 3, \"53\": 2, \"52\": 1, \"12\": 1, \"48\": 1}, \"16\": {\"16\": 140}, \"26\": {\"26\": 4, \"6\": 2, \"2\": 1, \"37\": 3, \"54\": 3, \"53\": 4, \"30\": 1, \"25\": 1, \"33\": 2, \"45\": 1, \"12\": 2}, \"57\": {\"3\": 3, \"57\": 62, \"13\": 1, \"19\": 13, \"50\": 2, \"34\": 1, \"47\": 5, \"4\": 10, \"46\": 1, \"7\": 4, \"44\": 11, \"16\": 1, \"33\": 1, \"56\": 2, \"29\": 5, \"39\": 1, \"1\": 2, \"53\": 2, \"30\": 4, \"20\": 1, \"27\": 2, \"51\": 2, \"5\": 2, \"6\": 1, \"17\": 1, \"45\": 1, \"9\": 1, \"48\": 2}, \"44\": {\"57\": 10, \"32\": 2, \"46\": 1, \"38\": 1, \"47\": 10, \"4\": 5, \"54\": 4, \"23\": 1, \"33\": 1, \"44\": 37, \"0\": 1, \"55\": 9, \"29\": 8, \"56\": 5, \"30\": 5, \"16\": 1, \"52\": 3, \"45\": 1, \"27\": 7, \"5\": 4, \"31\": 1, \"42\": 1, \"35\": 1, \"39\": 2, \"7\": 3, \"1\": 1, \"18\": 1, \"13\": 1, \"19\": 1}, \"0\": {\"0\": 128, \"23\": 19, \"36\": 1, \"24\": 1, \"11\": 2, \"15\": 1}, \"4\": {\"6\": 1, \"48\": 2, \"2\": 2, \"4\": 48, \"27\": 1, \"46\": 4, \"41\": 1, \"54\": 3, \"57\": 13, \"19\": 8, \"52\": 2, \"16\": 3, \"29\": 9, \"8\": 1, \"1\": 3, \"13\": 3, \"3\": 1, \"30\": 4, \"47\": 1, \"44\": 3, \"55\": 3, \"40\": 1, \"53\": 1, \"5\": 7, \"50\": 3, \"35\": 1, \"56\": 2, \"9\": 1}, \"31\": {\"31\": 27, \"24\": 1}, \"11\": {\"0\": 3, \"11\": 73, \"24\": 6, \"21\": 7, \"23\": 10, \"15\": 31, \"43\": 2, \"52\": 3, \"22\": 5}, \"6\": {\"26\": 2, \"30\": 12, \"17\": 3, \"18\": 12, \"6\": 19, \"34\": 1, \"2\": 2, \"46\": 3, \"16\": 5, \"12\": 4, \"5\": 8, \"8\": 8, \"9\": 3, \"25\": 2, \"48\": 3, \"0\": 1, \"14\": 2, \"37\": 1, \"54\": 2, \"42\": 1, \"20\": 1, \"53\": 1}, \"54\": {\"54\": 104}, \"17\": {\"2\": 5, \"17\": 32, \"37\": 1, \"8\": 3, \"5\": 1, \"50\": 6, \"53\": 2, \"13\": 2, \"6\": 2, \"51\": 3, \"25\": 1, \"16\": 1, \"48\": 1, \"55\": 1, \"56\": 1, \"14\": 1, \"46\": 1}, \"20\": {\"16\": 5, \"20\": 33, \"36\": 2, \"12\": 14, \"55\": 12, \"5\": 3, \"9\": 6, \"42\": 1, \"32\": 1, \"6\": 5, \"29\": 1, \"53\": 7, \"45\": 4, \"54\": 5, \"27\": 4, \"48\": 3, \"30\": 1, \"22\": 2, \"25\": 6, \"44\": 2, \"17\": 2, \"46\": 2, \"8\": 2, \"52\": 1, \"18\": 1, \"23\": 1, \"51\": 1, \"47\": 1}, \"13\": {\"13\": 67, \"41\": 3, \"29\": 7, \"50\": 19, \"44\": 8, \"51\": 8, \"46\": 2, \"1\": 3, \"24\": 1, \"52\": 2, \"3\": 7, \"53\": 4, \"48\": 2, \"6\": 1, \"57\": 2, \"4\": 5, \"27\": 2, \"47\": 1, \"39\": 1, \"17\": 1, \"12\": 2, \"30\": 1, \"25\": 1}, \"33\": {\"33\": 32}, \"24\": {\"39\": 3, \"15\": 3, \"24\": 58, \"52\": 7, \"23\": 5, \"21\": 3, \"22\": 20, \"11\": 5, \"38\": 1, \"0\": 2, \"54\": 1}, \"52\": {\"52\": 126, \"49\": 1, \"39\": 1, \"27\": 1, \"24\": 2, \"32\": 1}, \"2\": {\"2\": 33, \"26\": 1, \"16\": 2}, \"19\": {\"41\": 1, \"47\": 8, \"30\": 2, \"19\": 69, \"42\": 2, \"32\": 1, \"6\": 1, \"49\": 1, \"17\": 1, \"12\": 3, \"48\": 3, \"1\": 10, \"51\": 5, \"9\": 3, \"53\": 1, \"18\": 3, \"54\": 3, \"39\": 2, \"57\": 10, \"56\": 6, \"4\": 4, \"25\": 1, \"55\": 2, \"13\": 2, \"16\": 1, \"5\": 3, \"44\": 3, \"20\": 2, \"46\": 1, \"29\": 2}, \"39\": {\"39\": 24, \"52\": 2, \"49\": 2}, \"8\": {\"25\": 9, \"37\": 2, \"30\": 30, \"42\": 2, \"5\": 7, \"16\": 7, \"8\": 33, \"2\": 2, \"14\": 1, \"55\": 5, \"53\": 6, \"18\": 3, \"12\": 5, \"45\": 3, \"54\": 6, \"20\": 3, \"34\": 2, \"23\": 1, \"26\": 4, \"6\": 3, \"33\": 1, \"51\": 1, \"46\": 2, \"1\": 1, \"9\": 1}, \"21\": {\"21\": 65, \"11\": 12, \"0\": 5, \"23\": 9, \"15\": 21, \"43\": 4, \"22\": 2, \"24\": 4, \"36\": 1, \"10\": 1}, \"10\": {\"10\": 46, \"52\": 3, \"22\": 4, \"27\": 6, \"11\": 6, \"21\": 5, \"15\": 7, \"43\": 4, \"23\": 8, \"20\": 1, \"39\": 1, \"0\": 1, \"47\": 1, \"24\": 3}, \"37\": {\"8\": 3, \"25\": 6, \"26\": 2, \"37\": 9, \"5\": 2, \"20\": 3, \"42\": 2, \"46\": 1, \"6\": 1, \"55\": 1, \"9\": 1, \"12\": 1}, \"25\": {\"20\": 8, \"8\": 10, \"26\": 3, \"48\": 2, \"30\": 12, \"6\": 5, \"16\": 8, \"17\": 3, \"5\": 10, \"25\": 29, \"53\": 12, \"12\": 8, \"9\": 5, \"18\": 2, \"46\": 4, \"0\": 1, \"45\": 1, \"55\": 2, \"54\": 2, \"37\": 4, \"51\": 4, \"14\": 2, \"7\": 1, \"1\": 1, \"42\": 2, \"2\": 1, \"13\": 1, \"50\": 1}, \"27\": {\"27\": 119, \"31\": 2, \"52\": 4, \"47\": 1, \"49\": 2, \"21\": 1, \"0\": 1}, \"23\": {\"23\": 131, \"11\": 2, \"15\": 2, \"22\": 1}, \"1\": {\"42\": 2, \"32\": 1, \"37\": 1, \"56\": 10, \"19\": 5, \"17\": 3, \"1\": 25, \"7\": 2, \"26\": 1, \"45\": 2, \"14\": 1, \"18\": 2, \"12\": 1, \"9\": 3, \"0\": 2, \"16\": 1, \"30\": 3, \"47\": 9, \"44\": 3, \"27\": 3, \"48\": 2, \"5\": 3, \"4\": 1, \"33\": 2, \"55\": 1, \"3\": 1, \"54\": 1, \"13\": 2, \"22\": 1, \"46\": 1, \"50\": 1, \"57\": 2, \"8\": 1, \"25\": 1}, \"50\": {\"50\": 123, \"25\": 3, \"17\": 4, \"51\": 4, \"5\": 2, \"12\": 1, \"48\": 7, \"53\": 2, \"9\": 3, \"41\": 2, \"16\": 1}, \"12\": {\"12\": 39, \"37\": 3, \"20\": 14, \"8\": 4, \"1\": 1, \"54\": 4, \"53\": 11, \"33\": 2, \"30\": 1, \"5\": 6, \"6\": 7, \"51\": 5, \"55\": 3, \"25\": 3, \"46\": 2, \"48\": 3, \"22\": 1, \"45\": 2, \"24\": 1, \"18\": 1, \"52\": 2, \"9\": 1}, \"18\": {\"18\": 67, \"30\": 3, \"8\": 1, \"5\": 1}, \"38\": {\"38\": 24}, \"14\": {\"20\": 2, \"30\": 2, \"51\": 1, \"18\": 6, \"5\": 2, \"14\": 4, \"2\": 1, \"53\": 2, \"36\": 2, \"7\": 2}, \"56\": {\"30\": 2, \"34\": 2, \"19\": 11, \"47\": 10, \"56\": 38, \"57\": 6, \"42\": 1, \"46\": 1, \"53\": 2, \"7\": 3, \"35\": 1, \"1\": 8, \"44\": 6, \"33\": 1, \"55\": 6, \"51\": 3, \"39\": 1, \"16\": 5, \"8\": 1, \"4\": 2, \"0\": 2, \"27\": 7, \"45\": 4, \"12\": 2, \"5\": 4, \"28\": 1, \"14\": 1, \"25\": 1, \"54\": 3, \"18\": 1, \"52\": 2, \"6\": 1, \"3\": 1, \"20\": 1, \"9\": 1}, \"55\": {\"55\": 148, \"34\": 2, \"54\": 2, \"52\": 1, \"5\": 4, \"28\": 1, \"33\": 1, \"47\": 1}, \"9\": {\"37\": 2, \"9\": 25, \"25\": 9, \"50\": 3, \"30\": 16, \"8\": 3, \"18\": 9, \"5\": 12, \"16\": 13, \"51\": 6, \"12\": 4, \"33\": 1, \"53\": 12, \"6\": 6, \"54\": 2, \"22\": 1, \"55\": 1, \"48\": 3, \"7\": 1, \"45\": 1, \"19\": 3, \"2\": 1, \"46\": 2, \"52\": 2}, \"15\": {\"15\": 116, \"21\": 7, \"22\": 3, \"23\": 12, \"0\": 2, \"11\": 4, \"16\": 1, \"24\": 1}, \"28\": {\"28\": 25, \"38\": 1, \"49\": 1, \"39\": 1}, \"7\": {\"7\": 27, \"34\": 1}, \"43\": {\"27\": 13, \"43\": 71, \"52\": 13, \"21\": 9, \"10\": 7, \"24\": 3, \"0\": 8, \"15\": 4, \"22\": 1, \"31\": 1, \"11\": 3, \"32\": 1, \"23\": 1, \"54\": 1}, \"22\": {\"22\": 105, \"24\": 9, \"38\": 1, \"23\": 9, \"52\": 3, \"49\": 1, \"15\": 2, \"11\": 5, \"27\": 1}}, \"C_3\": {\"1\": {\"1\": 91, \"34\": 1, \"47\": 5, \"48\": 3}, \"9\": {\"48\": 2, \"9\": 35, \"38\": 1, \"47\": 3, \"33\": 1, \"1\": 6, \"37\": 2, \"4\": 9, \"3\": 4, \"51\": 5, \"27\": 7, \"12\": 1, \"17\": 1, \"45\": 2, \"36\": 1, \"57\": 9, \"21\": 2, \"19\": 2, \"29\": 7, \"5\": 6, \"25\": 2, \"30\": 2, \"56\": 4, \"32\": 1, \"23\": 1, \"14\": 1, \"22\": 5, \"13\": 1, \"53\": 1}, \"22\": {\"22\": 79, \"31\": 4, \"5\": 7, \"28\": 1, \"1\": 14, \"43\": 6, \"55\": 2, \"47\": 2, \"48\": 6, \"57\": 4, \"0\": 4, \"56\": 5, \"26\": 1, \"24\": 1}, \"43\": {\"43\": 131, \"49\": 1, \"24\": 4}, \"49\": {\"49\": 20}, \"50\": {\"48\": 4, \"50\": 38, \"36\": 11, \"54\": 5, \"20\": 8, \"30\": 12, \"6\": 7, \"46\": 11, \"8\": 11, \"18\": 3, \"27\": 8, \"21\": 1, \"3\": 7, \"52\": 3, \"55\": 1, \"42\": 1, \"17\": 2, \"5\": 2, \"23\": 1, \"47\": 2}, \"53\": {\"25\": 11, \"53\": 43, \"36\": 9, \"51\": 16, \"17\": 7, \"37\": 3, \"38\": 1, \"21\": 7, \"6\": 6, \"54\": 2, \"18\": 1, \"46\": 4, \"8\": 3, \"12\": 5, \"50\": 1, \"3\": 1, \"4\": 1, \"27\": 7, \"45\": 2, \"33\": 1, \"20\": 1, \"30\": 3, \"23\": 1}, \"10\": {\"56\": 5, \"10\": 39, \"43\": 8, \"49\": 2, \"11\": 4, \"24\": 4, \"0\": 1, \"52\": 1}, \"48\": {\"28\": 2, \"48\": 85, \"37\": 2, \"6\": 6, \"1\": 3, \"46\": 7, \"53\": 1, \"5\": 4, \"57\": 1, \"34\": 2, \"23\": 1, \"47\": 1, \"55\": 1}, \"8\": {\"8\": 48, \"48\": 2, \"23\": 1, \"20\": 10, \"27\": 12, \"30\": 10, \"35\": 1, \"45\": 1, \"54\": 7, \"46\": 5, \"25\": 6, \"50\": 11, \"21\": 1, \"36\": 11, \"17\": 4, \"53\": 2, \"14\": 1, \"3\": 2, \"6\": 2, \"12\": 1}, \"31\": {\"31\": 28}, \"56\": {\"49\": 2, \"56\": 66, \"43\": 18, \"7\": 4, \"1\": 6, \"42\": 1, \"31\": 4, \"24\": 3, \"22\": 14, \"11\": 2, \"47\": 2, \"15\": 2, \"55\": 3, \"3\": 1, \"5\": 2, \"34\": 2, \"48\": 1, \"13\": 1}, \"25\": {\"25\": 23, \"8\": 16, \"46\": 4, \"37\": 3, \"50\": 14, \"21\": 5, \"51\": 14, \"6\": 4, \"54\": 9, \"12\": 5, \"29\": 3, \"3\": 3, \"17\": 4, \"27\": 7, \"4\": 1, \"53\": 12, \"30\": 2, \"33\": 3, \"20\": 3, \"19\": 1, \"36\": 3, \"13\": 1, \"23\": 2}, \"28\": {\"22\": 1, \"5\": 3, \"0\": 2, \"28\": 14, \"48\": 2, \"23\": 1, \"1\": 2, \"34\": 2, \"57\": 1}, \"38\": {\"38\": 22, \"37\": 3, \"21\": 2, \"17\": 1}, \"5\": {\"48\": 4, \"28\": 2, \"5\": 73, \"26\": 1, \"14\": 1, \"47\": 2, \"34\": 4, \"15\": 1, \"23\": 10, \"52\": 4, \"57\": 2, \"1\": 1, \"11\": 1, \"16\": 3, \"46\": 2, \"0\": 3, \"7\": 1, \"22\": 1}, \"12\": {\"12\": 52, \"25\": 1, \"35\": 1, \"37\": 6, \"17\": 7, \"54\": 3, \"36\": 3, \"21\": 8, \"51\": 2, \"6\": 1, \"53\": 2, \"27\": 1, \"30\": 1, \"2\": 1, \"8\": 1, \"3\": 1, \"50\": 1}, \"6\": {\"6\": 49, \"41\": 3, \"18\": 1, \"7\": 1, \"30\": 2, \"3\": 2, \"46\": 4, \"55\": 7, \"47\": 2, \"50\": 3, \"54\": 2, \"48\": 7, \"26\": 2, \"36\": 2, \"52\": 1}, \"19\": {\"19\": 54, \"51\": 6, \"40\": 6, \"7\": 1, \"36\": 1, \"45\": 3, \"4\": 16, \"3\": 5, \"6\": 1, \"21\": 3, \"29\": 19, \"9\": 4, \"55\": 4, \"17\": 1, \"48\": 1, \"13\": 3, \"57\": 3, \"1\": 3, \"56\": 3, \"25\": 2, \"27\": 2, \"38\": 1, \"32\": 1, \"49\": 1, \"42\": 1, \"14\": 4, \"44\": 2, \"53\": 1}, \"26\": {\"26\": 22, \"46\": 1, \"48\": 1}, \"32\": {\"32\": 15, \"49\": 1, \"36\": 3, \"3\": 1, \"9\": 3, \"30\": 2, \"45\": 1, \"14\": 1, \"27\": 1}, \"33\": {\"12\": 3, \"25\": 4, \"33\": 15, \"17\": 1, \"21\": 2, \"2\": 1, \"53\": 2}, \"3\": {\"6\": 9, \"26\": 2, \"56\": 3, \"3\": 21, \"46\": 8, \"27\": 8, \"21\": 3, \"12\": 3, \"47\": 2, \"55\": 4, \"20\": 1, \"22\": 1, \"48\": 9, \"50\": 7, \"30\": 9, \"1\": 5, \"36\": 1, \"25\": 3, \"53\": 3, \"54\": 1, \"18\": 1, \"17\": 3, \"41\": 2, \"14\": 1, \"9\": 1, \"0\": 1, \"29\": 1, \"23\": 2, \"5\": 1, \"8\": 1, \"52\": 1}, \"51\": {\"26\": 1, \"51\": 76, \"38\": 3, \"7\": 1, \"53\": 6, \"17\": 4, \"45\": 1, \"30\": 3, \"46\": 2, \"25\": 1, \"27\": 3, \"21\": 9, \"12\": 3, \"5\": 1, \"15\": 1, \"8\": 1, \"50\": 1, \"56\": 1, \"6\": 1, \"13\": 2, \"55\": 3, \"36\": 1, \"48\": 1, \"9\": 1, \"47\": 1}, \"16\": {\"16\": 119, \"39\": 1, \"52\": 10, \"23\": 6, \"5\": 1, \"46\": 1}, \"46\": {\"46\": 56, \"16\": 9, \"6\": 7, \"28\": 1, \"30\": 6, \"23\": 7, \"3\": 3, \"5\": 9, \"52\": 10, \"34\": 1, \"50\": 3, \"20\": 7, \"8\": 3, \"55\": 5, \"27\": 2, \"48\": 3, \"25\": 1, \"47\": 2, \"31\": 1, \"18\": 1, \"1\": 1, \"54\": 1, \"21\": 1}, \"7\": {\"7\": 36}, \"47\": {\"47\": 72, \"5\": 2, \"16\": 2, \"26\": 1, \"0\": 1, \"31\": 2, \"1\": 4, \"57\": 1, \"34\": 2, \"23\": 2, \"18\": 1, \"48\": 1, \"55\": 1}, \"39\": {\"39\": 15, \"26\": 1}, \"40\": {\"38\": 1, \"40\": 64, \"29\": 4, \"48\": 1, \"45\": 6, \"22\": 1, \"3\": 2, \"4\": 7, \"51\": 9, \"25\": 3, \"54\": 1, \"21\": 1, \"44\": 13, \"19\": 9, \"9\": 3, \"1\": 1, \"5\": 1, \"36\": 2, \"56\": 2, \"42\": 1, \"50\": 1, \"13\": 2, \"57\": 1}, \"14\": {\"35\": 2, \"7\": 4, \"36\": 1, \"0\": 1, \"49\": 2, \"4\": 2, \"42\": 3, \"13\": 2, \"1\": 1, \"14\": 11, \"31\": 2, \"22\": 2, \"5\": 1, \"57\": 2, \"32\": 1, \"34\": 1, \"53\": 1, \"43\": 1}, \"37\": {\"12\": 2, \"37\": 20, \"3\": 1, \"46\": 1, \"21\": 3, \"53\": 1}, \"2\": {\"2\": 27, \"6\": 2, \"8\": 1, \"55\": 2}, \"21\": {\"37\": 6, \"51\": 11, \"17\": 5, \"33\": 3, \"21\": 42, \"38\": 2, \"53\": 16, \"46\": 3, \"12\": 10, \"55\": 1, \"20\": 1, \"50\": 2, \"22\": 1, \"47\": 1, \"27\": 2, \"6\": 3, \"35\": 1, \"2\": 1, \"25\": 4, \"48\": 2, \"29\": 1, \"52\": 1, \"3\": 1}, \"35\": {\"35\": 23, \"41\": 1, \"3\": 1, \"1\": 1, \"47\": 2}, \"54\": {\"2\": 1, \"35\": 1, \"12\": 2, \"42\": 2, \"48\": 12, \"54\": 31, \"17\": 1, \"45\": 1, \"50\": 9, \"46\": 3, \"27\": 3, \"30\": 5, \"6\": 7, \"8\": 5, \"25\": 3, \"36\": 2, \"55\": 5, \"53\": 2, \"1\": 1, \"3\": 4}, \"52\": {\"52\": 102, \"20\": 1, \"18\": 2, \"23\": 2, \"16\": 5, \"46\": 3, \"47\": 1}, \"29\": {\"0\": 2, \"36\": 1, \"29\": 33, \"4\": 12, \"45\": 4, \"34\": 2, \"21\": 1, \"30\": 2, \"13\": 2, \"48\": 4, \"9\": 11, \"44\": 3, \"5\": 2, \"1\": 3, \"19\": 9, \"3\": 5, \"56\": 1, \"46\": 1, \"25\": 3, \"53\": 3, \"22\": 2, \"32\": 1, \"33\": 1, \"28\": 1, \"14\": 1, \"57\": 3, \"17\": 2, \"51\": 3}, \"20\": {\"20\": 87, \"18\": 14, \"52\": 1, \"30\": 15, \"48\": 2, \"27\": 1, \"16\": 4, \"46\": 1, \"8\": 2, \"50\": 2, \"23\": 3}, \"18\": {\"18\": 78, \"30\": 4, \"20\": 1, \"52\": 1}, \"11\": {\"11\": 122, \"5\": 2, \"0\": 1, \"15\": 9, \"24\": 4, \"16\": 2, \"39\": 1, \"43\": 1}, \"0\": {\"0\": 117, \"43\": 1, \"23\": 1, \"15\": 4, \"34\": 1}, \"36\": {\"36\": 99, \"6\": 1}, \"17\": {\"12\": 12, \"5\": 1, \"36\": 6, \"6\": 5, \"3\": 5, \"17\": 29, \"54\": 8, \"37\": 3, \"21\": 10, \"51\": 6, \"20\": 3, \"27\": 6, \"25\": 2, \"53\": 3, \"50\": 2, \"48\": 1, \"30\": 4, \"18\": 1, \"8\": 1}, \"30\": {\"30\": 105, \"18\": 8, \"20\": 1}, \"42\": {\"42\": 23, \"41\": 4, \"55\": 1}, \"45\": {\"4\": 2, \"48\": 1, \"2\": 5, \"32\": 2, \"17\": 4, \"37\": 2, \"36\": 4, \"6\": 3, \"33\": 1, \"45\": 11, \"56\": 1, \"50\": 2, \"46\": 2, \"53\": 6, \"29\": 1, \"51\": 4, \"9\": 3, \"38\": 1, \"54\": 1, \"40\": 2, \"12\": 1, \"55\": 1}, \"4\": {\"19\": 9, \"48\": 3, \"14\": 2, \"33\": 1, \"36\": 4, \"4\": 56, \"40\": 3, \"3\": 1, \"32\": 4, \"22\": 2, \"29\": 15, \"50\": 5, \"9\": 7, \"5\": 4, \"2\": 1, \"57\": 4, \"54\": 5, \"51\": 4, \"1\": 3, \"27\": 2, \"44\": 2, \"53\": 1, \"46\": 2, \"12\": 1, \"56\": 3, \"6\": 1, \"30\": 1, \"25\": 2}, \"23\": {\"23\": 120, \"26\": 1, \"16\": 2, \"46\": 1, \"47\": 1, \"5\": 7, \"55\": 1, \"50\": 1}, \"13\": {\"13\": 51, \"5\": 2, \"50\": 4, \"11\": 7, \"46\": 1, \"14\": 1, \"7\": 3, \"8\": 3, \"22\": 4, \"56\": 13, \"21\": 1, \"9\": 1, \"1\": 2, \"20\": 9, \"3\": 2, \"55\": 3, \"48\": 2, \"52\": 2, \"25\": 1, \"16\": 1, \"36\": 4, \"57\": 1, \"28\": 1, \"2\": 1, \"24\": 2, \"15\": 1, \"4\": 1, \"27\": 1, \"43\": 2, \"47\": 1}, \"15\": {\"15\": 102, \"23\": 4, \"16\": 4, \"0\": 7, \"22\": 1, \"11\": 7, \"52\": 1, \"1\": 1, \"55\": 1}, \"57\": {\"5\": 9, \"57\": 51, \"28\": 2, \"47\": 10, \"22\": 6, \"0\": 4, \"25\": 2, \"34\": 3, \"52\": 3, \"1\": 8, \"6\": 1, \"16\": 1, \"23\": 5, \"48\": 6, \"3\": 2, \"50\": 3, \"8\": 1, \"20\": 2, \"36\": 1, \"30\": 3, \"17\": 1}, \"27\": {\"36\": 6, \"20\": 8, \"30\": 17, \"27\": 59, \"46\": 7, \"50\": 7, \"5\": 4, \"18\": 3, \"52\": 2, \"57\": 1, \"17\": 1, \"3\": 3, \"6\": 1, \"8\": 4, \"23\": 3, \"25\": 3, \"48\": 1, \"54\": 2, \"37\": 2}, \"44\": {\"44\": 34, \"41\": 2, \"14\": 2, \"49\": 1, \"32\": 2, \"40\": 8, \"47\": 2, \"56\": 2, \"22\": 1, \"57\": 4, \"19\": 4, \"54\": 2, \"9\": 2, \"50\": 1, \"51\": 1, \"4\": 1, \"1\": 7, \"46\": 1, \"36\": 3, \"48\": 2, \"53\": 1, \"13\": 2, \"45\": 1, \"55\": 1, \"27\": 1}, \"34\": {\"34\": 29, \"5\": 1, \"1\": 1, \"47\": 1}, \"41\": {\"41\": 27, \"42\": 1}, \"24\": {\"24\": 79, \"7\": 2, \"34\": 2, \"43\": 11, \"11\": 6, \"49\": 2, \"23\": 1, \"52\": 1}, \"55\": {\"55\": 113, \"6\": 2, \"1\": 1, \"48\": 2}}, \"C_4\": {\"52\": {\"52\": 110, \"5\": 2, \"41\": 1, \"16\": 1, \"23\": 1, \"47\": 1}, \"6\": {\"46\": 3, \"6\": 38, \"35\": 7, \"26\": 2, \"54\": 16, \"50\": 4, \"48\": 9, \"55\": 12, \"36\": 6, \"18\": 1, \"51\": 1, \"52\": 1, \"57\": 1, \"47\": 1, \"20\": 1, \"3\": 3, \"30\": 1, \"28\": 1, \"42\": 1, \"8\": 1, \"5\": 1, \"27\": 1}, \"14\": {\"46\": 3, \"14\": 3, \"17\": 1, \"43\": 1, \"48\": 1, \"22\": 2, \"38\": 1, \"5\": 1, \"54\": 1, \"1\": 2}, \"49\": {\"49\": 17, \"46\": 2, \"52\": 1}, \"0\": {\"46\": 4, \"24\": 1, \"0\": 69, \"43\": 2, \"22\": 1, \"2\": 1, \"15\": 1, \"11\": 1}, \"46\": {\"49\": 3, \"32\": 4, \"46\": 74, \"52\": 11, \"38\": 2, \"5\": 8, \"55\": 9, \"0\": 9, \"15\": 3, \"16\": 6, \"54\": 4, \"6\": 1, \"47\": 5, \"23\": 4, \"43\": 4, \"1\": 1, \"39\": 1, \"22\": 6, \"13\": 1}, \"41\": {\"41\": 36}, \"24\": {\"43\": 10, \"24\": 44, \"22\": 1, \"0\": 1}, \"25\": {\"25\": 70, \"6\": 1, \"53\": 23, \"31\": 3, \"51\": 10, \"29\": 1, \"50\": 10, \"12\": 4, \"27\": 12, \"8\": 4, \"45\": 1, \"4\": 1, \"14\": 1, \"21\": 3, \"28\": 1, \"3\": 1, \"17\": 1, \"48\": 3, \"23\": 1, \"20\": 1}, \"40\": {\"40\": 57, \"9\": 6, \"45\": 11, \"14\": 1, \"12\": 2, \"32\": 1, \"44\": 16, \"36\": 2, \"19\": 10, \"21\": 12, \"29\": 1, \"48\": 2, \"18\": 1, \"50\": 1, \"56\": 3, \"4\": 3, \"51\": 2, \"17\": 4, \"1\": 1, \"55\": 2}, \"38\": {\"14\": 1, \"38\": 38, \"29\": 1}, \"13\": {\"13\": 58, \"24\": 3, \"2\": 4, \"43\": 32, \"10\": 11, \"38\": 1, \"46\": 7, \"11\": 2, \"52\": 7, \"5\": 1, \"22\": 10, \"15\": 6, \"54\": 1, \"16\": 4, \"0\": 2, \"49\": 2, \"23\": 1}, \"9\": {\"14\": 1, \"9\": 34, \"4\": 23, \"50\": 2, \"27\": 1, \"57\": 1, \"22\": 2, \"51\": 4, \"45\": 4, \"21\": 4, \"48\": 2, \"19\": 4, \"5\": 1, \"29\": 7, \"44\": 1, \"56\": 3, \"46\": 2, \"40\": 1, \"17\": 5, \"20\": 1, \"12\": 2, \"47\": 1, \"25\": 2}, \"45\": {\"45\": 32, \"14\": 1, \"36\": 4, \"12\": 6, \"51\": 4, \"17\": 5, \"35\": 1, \"9\": 2, \"20\": 1, \"1\": 1, \"54\": 2, \"21\": 4, \"48\": 1, \"19\": 4, \"50\": 2, \"3\": 3, \"4\": 4, \"47\": 1, \"37\": 4, \"25\": 4, \"29\": 1, \"2\": 1, \"30\": 1, \"27\": 2, \"44\": 2, \"40\": 2, \"8\": 1}, \"43\": {\"43\": 137, \"24\": 5, \"2\": 1, \"22\": 1}, \"10\": {\"13\": 13, \"10\": 59, \"52\": 3, \"56\": 5, \"43\": 19, \"2\": 3, \"38\": 1, \"11\": 3, \"22\": 11, \"24\": 1, \"15\": 5, \"0\": 6, \"1\": 1}, \"15\": {\"15\": 94, \"11\": 21, \"22\": 1, \"52\": 3, \"0\": 3, \"16\": 4, \"46\": 1, \"43\": 1}, \"39\": {\"39\": 20}, \"4\": {\"4\": 53, \"50\": 5, \"14\": 1, \"26\": 3, \"35\": 2, \"17\": 1, \"55\": 4, \"27\": 2, \"48\": 11, \"57\": 2, \"3\": 6, \"36\": 3, \"54\": 3, \"29\": 6, \"18\": 2, \"56\": 5, \"44\": 3, \"46\": 1, \"47\": 2, \"19\": 3, \"9\": 8, \"51\": 1, \"1\": 1, \"45\": 1, \"25\": 2, \"6\": 1}, \"53\": {\"53\": 34, \"36\": 13, \"27\": 6, \"51\": 5, \"3\": 7, \"17\": 3, \"12\": 2, \"37\": 2, \"20\": 4, \"42\": 1, \"23\": 8, \"18\": 4, \"25\": 14, \"8\": 2, \"5\": 3, \"54\": 4, \"22\": 1, \"55\": 3, \"16\": 1, \"50\": 7, \"31\": 1, \"46\": 1, \"47\": 1, \"48\": 4, \"9\": 1}, \"1\": {\"1\": 33, \"49\": 2, \"7\": 1, \"57\": 1, \"56\": 1, \"32\": 1, \"28\": 1}, \"28\": {\"28\": 6, \"42\": 2, \"53\": 1, \"3\": 1, \"57\": 1, \"48\": 3, \"54\": 4, \"29\": 1, \"8\": 2, \"14\": 1, \"26\": 1, \"31\": 2, \"25\": 1, \"5\": 3, \"1\": 1, \"27\": 1, \"47\": 1}, \"54\": {\"54\": 96, \"27\": 2, \"48\": 1, \"36\": 3, \"18\": 2, \"6\": 2, \"55\": 2}, \"21\": {\"21\": 96, \"31\": 1, \"17\": 5, \"12\": 6, \"51\": 7, \"25\": 2, \"53\": 5, \"45\": 5, \"48\": 1, \"26\": 1, \"9\": 1, \"33\": 1, \"55\": 1}, \"7\": {\"7\": 20, \"47\": 1, \"32\": 1, \"46\": 1, \"1\": 1}, \"8\": {\"8\": 63, \"28\": 1, \"30\": 4, \"27\": 11, \"42\": 2, \"47\": 4, \"6\": 5, \"20\": 10, \"36\": 7, \"48\": 4, \"3\": 8, \"53\": 3, \"23\": 1, \"50\": 6, \"18\": 4, \"25\": 1, \"29\": 1, \"46\": 1}, \"42\": {\"42\": 28, \"57\": 2, \"5\": 2}, \"11\": {\"11\": 70, \"43\": 6, \"52\": 7, \"0\": 2, \"15\": 15, \"16\": 2, \"24\": 2}, \"33\": {\"4\": 7, \"14\": 3, \"33\": 10, \"54\": 1, \"3\": 1, \"17\": 2, \"12\": 1, \"56\": 5, \"37\": 1, \"35\": 2, \"25\": 1, \"29\": 1, \"1\": 1}, \"27\": {\"27\": 30, \"36\": 17, \"42\": 4, \"21\": 2, \"26\": 1, \"17\": 6, \"23\": 4, \"51\": 4, \"31\": 1, \"50\": 11, \"12\": 4, \"53\": 6, \"48\": 10, \"18\": 7, \"25\": 9, \"3\": 7, \"54\": 1, \"4\": 3, \"47\": 1, \"20\": 6, \"6\": 3, \"28\": 1, \"45\": 1, \"8\": 2, \"9\": 1}, \"19\": {\"4\": 9, \"21\": 4, \"45\": 6, \"19\": 39, \"33\": 5, \"35\": 1, \"25\": 2, \"14\": 3, \"17\": 3, \"44\": 19, \"51\": 3, \"12\": 5, \"40\": 12, \"9\": 6, \"22\": 4, \"54\": 3, \"56\": 7, \"50\": 1, \"26\": 1, \"29\": 6, \"7\": 1, \"48\": 1, \"36\": 1, \"3\": 1, \"55\": 1}, \"2\": {\"2\": 35, \"43\": 1}, \"3\": {\"57\": 1, \"3\": 72, \"6\": 6, \"25\": 1, \"48\": 4, \"36\": 4, \"42\": 2, \"54\": 8, \"55\": 5, \"20\": 4, \"47\": 3, \"50\": 2, \"53\": 1, \"34\": 3, \"51\": 1, \"5\": 1, \"23\": 2}, \"57\": {\"57\": 67, \"39\": 2, \"23\": 4, \"1\": 6, \"54\": 1, \"3\": 1, \"29\": 1, \"47\": 8, \"5\": 4, \"52\": 3, \"42\": 1, \"46\": 2}, \"20\": {\"20\": 45, \"18\": 14, \"30\": 2, \"42\": 4, \"8\": 9, \"6\": 1, \"23\": 8, \"36\": 3, \"3\": 4, \"50\": 2, \"27\": 2, \"48\": 3, \"55\": 2, \"52\": 2, \"41\": 2, \"47\": 3, \"5\": 2, \"46\": 2, \"53\": 2}, \"23\": {\"23\": 127, \"18\": 1}, \"22\": {\"22\": 127, \"43\": 1}, \"29\": {\"57\": 10, \"45\": 1, \"29\": 42, \"14\": 2, \"4\": 10, \"47\": 4, \"7\": 1, \"35\": 4, \"50\": 2, \"9\": 2, \"10\": 2, \"6\": 1, \"15\": 3, \"46\": 2, \"48\": 6, \"22\": 3, \"54\": 4, \"27\": 4, \"25\": 3, \"28\": 1, \"1\": 2, \"39\": 1, \"19\": 2, \"38\": 1, \"42\": 1, \"30\": 1, \"23\": 2, \"44\": 1, \"5\": 1, \"55\": 1, \"56\": 1, \"53\": 2, \"18\": 1}, \"36\": {\"36\": 87, \"35\": 1, \"20\": 2, \"23\": 1, \"50\": 1}, \"51\": {\"51\": 47, \"45\": 4, \"21\": 6, \"27\": 6, \"24\": 1, \"12\": 9, \"25\": 13, \"17\": 3, \"42\": 1, \"50\": 6, \"5\": 2, \"9\": 2, \"54\": 1, \"53\": 6, \"13\": 5, \"55\": 4, \"8\": 4, \"52\": 1, \"20\": 1, \"3\": 2, \"38\": 1, \"14\": 1, \"22\": 1, \"6\": 1, \"47\": 2, \"48\": 1, \"46\": 1}, \"31\": {\"31\": 25, \"30\": 1, \"53\": 1, \"54\": 1}, \"12\": {\"31\": 1, \"12\": 74, \"37\": 2, \"53\": 4, \"51\": 2, \"45\": 1, \"21\": 3, \"25\": 3, \"8\": 2}, \"56\": {\"38\": 5, \"46\": 17, \"56\": 50, \"32\": 1, \"43\": 2, \"35\": 2, \"13\": 7, \"1\": 4, \"0\": 2, \"23\": 2, \"5\": 4, \"52\": 3, \"57\": 10, \"22\": 5, \"54\": 1, \"55\": 8, \"44\": 1, \"47\": 3, \"48\": 4, \"29\": 5, \"10\": 1, \"20\": 1}, \"5\": {\"5\": 54, \"41\": 1, \"54\": 11, \"47\": 5, \"23\": 10, \"16\": 6, \"52\": 5, \"55\": 2, \"18\": 2, \"46\": 6, \"15\": 1, \"6\": 2, \"49\": 1, \"57\": 1, \"11\": 1}, \"35\": {\"35\": 36, \"54\": 1, \"48\": 1, \"51\": 1, \"21\": 1}, \"17\": {\"17\": 24, \"33\": 2, \"31\": 1, \"4\": 6, \"32\": 1, \"5\": 1, \"56\": 6, \"28\": 3, \"44\": 1, \"37\": 2, \"53\": 1, \"45\": 3, \"29\": 3, \"21\": 7, \"9\": 9, \"50\": 2, \"55\": 1, \"12\": 1, \"51\": 3, \"15\": 1, \"54\": 1, \"25\": 1}, \"32\": {\"46\": 2, \"32\": 19, \"7\": 1, \"1\": 1, \"5\": 1}, \"47\": {\"52\": 1, \"47\": 111, \"5\": 4, \"57\": 2, \"23\": 1, \"46\": 1}, \"18\": {\"18\": 93, \"35\": 1, \"23\": 5, \"42\": 1, \"55\": 2, \"16\": 2, \"5\": 4}, \"26\": {\"26\": 22, \"54\": 1, \"55\": 1}, \"50\": {\"50\": 26, \"21\": 2, \"31\": 3, \"42\": 2, \"35\": 1, \"36\": 4, \"54\": 8, \"3\": 17, \"27\": 2, \"20\": 3, \"48\": 16, \"12\": 2, \"53\": 2, \"25\": 3, \"57\": 1, \"6\": 8, \"9\": 2, \"51\": 4, \"4\": 5, \"30\": 1, \"17\": 1, \"46\": 1, \"8\": 3, \"18\": 1, \"47\": 1, \"55\": 2, \"23\": 1}, \"55\": {\"55\": 86, \"53\": 2, \"54\": 7, \"30\": 1, \"35\": 3, \"3\": 9, \"52\": 1, \"27\": 1, \"6\": 6, \"34\": 1, \"26\": 1, \"57\": 1, \"20\": 1, \"48\": 2, \"8\": 1, \"50\": 1}, \"34\": {\"34\": 23, \"5\": 1}, \"30\": {\"6\": 2, \"31\": 3, \"30\": 7, \"8\": 4, \"53\": 3, \"27\": 4, \"3\": 1, \"37\": 1, \"42\": 1, \"20\": 1, \"36\": 8, \"14\": 1, \"28\": 1, \"25\": 2, \"41\": 2, \"29\": 1, \"18\": 2}, \"37\": {\"30\": 2, \"37\": 17, \"12\": 2, \"25\": 1, \"53\": 2}, \"44\": {\"40\": 11, \"44\": 54, \"26\": 1, \"35\": 6, \"10\": 1, \"55\": 7, \"19\": 10, \"21\": 1, \"27\": 1, \"48\": 10, \"56\": 4, \"9\": 4, \"23\": 1, \"29\": 4, \"54\": 3, \"3\": 2, \"46\": 1, \"50\": 1, \"47\": 1, \"45\": 1, \"2\": 2, \"6\": 3, \"4\": 1, \"57\": 1, \"22\": 1}, \"48\": {\"14\": 2, \"36\": 4, \"48\": 55, \"26\": 3, \"53\": 6, \"54\": 6, \"8\": 4, \"50\": 5, \"3\": 13, \"6\": 4, \"5\": 1, \"25\": 2, \"28\": 1, \"35\": 1, \"18\": 2, \"57\": 1, \"29\": 1, \"23\": 2, \"55\": 2, \"56\": 1, \"4\": 2}, \"16\": {\"16\": 81, \"15\": 3, \"5\": 2, \"23\": 3, \"52\": 6, \"11\": 1}}, \"C_2\": {\"11\": {\"11\": 114, \"23\": 3, \"16\": 1, \"43\": 3, \"52\": 4, \"15\": 3, \"5\": 2}, \"21\": {\"12\": 14, \"37\": 6, \"21\": 71, \"52\": 2, \"50\": 1, \"54\": 2, \"3\": 2, \"20\": 1, \"46\": 2, \"53\": 1, \"6\": 3, \"48\": 2, \"41\": 1, \"31\": 1, \"27\": 8, \"23\": 1, \"36\": 1, \"1\": 1}, \"19\": {\"19\": 41, \"9\": 18, \"33\": 2, \"42\": 1, \"32\": 3, \"4\": 12, \"22\": 3, \"56\": 4, \"17\": 3, \"29\": 14, \"25\": 4, \"48\": 3, \"40\": 3, \"44\": 5, \"3\": 2, \"36\": 2, \"51\": 4, \"45\": 5, \"20\": 1, \"13\": 5, \"55\": 2, \"54\": 1, \"12\": 1, \"53\": 1}, \"20\": {\"37\": 8, \"20\": 47, \"51\": 8, \"30\": 2, \"54\": 2, \"12\": 7, \"36\": 5, \"53\": 15, \"25\": 7, \"17\": 5, \"21\": 8, \"3\": 1, \"27\": 6, \"2\": 1, \"46\": 2, \"23\": 1, \"50\": 2, \"48\": 1}, \"9\": {\"9\": 45, \"13\": 3, \"29\": 11, \"22\": 3, \"2\": 1, \"12\": 2, \"4\": 11, \"56\": 4, \"53\": 2, \"25\": 3, \"51\": 4, \"19\": 12, \"3\": 3, \"17\": 4, \"40\": 6, \"45\": 10, \"5\": 2, \"44\": 1, \"6\": 1, \"32\": 1, \"42\": 1, \"48\": 2, \"10\": 2, \"33\": 1, \"36\": 2, \"31\": 1, \"8\": 1, \"54\": 1}, \"10\": {\"11\": 5, \"10\": 64, \"24\": 11, \"56\": 6, \"16\": 4, \"22\": 7, \"43\": 10, \"48\": 1, \"52\": 2, \"38\": 1, \"0\": 1}, \"37\": {\"20\": 4, \"50\": 1, \"37\": 24, \"26\": 1, \"54\": 1, \"21\": 1, \"12\": 1, \"6\": 1, \"2\": 1, \"27\": 1}, \"32\": {\"32\": 9, \"3\": 1, \"18\": 2, \"36\": 3, \"6\": 1, \"53\": 1, \"27\": 1, \"49\": 4, \"48\": 1, \"17\": 2, \"30\": 1, \"45\": 1, \"57\": 1}, \"3\": {\"3\": 20, \"47\": 2, \"55\": 8, \"32\": 2, \"54\": 6, \"26\": 1, \"29\": 3, \"6\": 10, \"48\": 9, \"2\": 2, \"57\": 1, \"56\": 1, \"12\": 3, \"50\": 3, \"25\": 2, \"46\": 4, \"49\": 2, \"34\": 2, \"45\": 3, \"1\": 2, \"53\": 1, \"27\": 1, \"18\": 1, \"8\": 1, \"51\": 1, \"17\": 1}, \"39\": {\"39\": 28}, \"45\": {\"45\": 19, \"3\": 2, \"8\": 4, \"26\": 1, \"4\": 9, \"6\": 6, \"53\": 4, \"1\": 3, \"37\": 1, \"50\": 5, \"40\": 4, \"47\": 1, \"54\": 3, \"36\": 10, \"17\": 8, \"7\": 1, \"44\": 3, \"55\": 5, \"20\": 6, \"51\": 6, \"48\": 3, \"22\": 3, \"19\": 3, \"9\": 5, \"41\": 1, \"12\": 4, \"31\": 1, \"13\": 1, \"21\": 3, \"27\": 1, \"29\": 1, \"46\": 1}, \"50\": {\"3\": 3, \"48\": 7, \"49\": 1, \"50\": 50, \"6\": 4, \"30\": 6, \"31\": 1, \"8\": 10, \"36\": 12, \"46\": 9, \"2\": 1, \"54\": 11, \"55\": 2, \"52\": 2, \"27\": 8, \"1\": 1, \"47\": 1, \"18\": 4, \"12\": 2, \"53\": 1}, \"40\": {\"19\": 13, \"9\": 8, \"29\": 7, \"27\": 1, \"40\": 73, \"45\": 7, \"51\": 2, \"36\": 1, \"44\": 11, \"47\": 1, \"4\": 4, \"48\": 1, \"25\": 1, \"56\": 1, \"55\": 3, \"35\": 3, \"42\": 1, \"13\": 2}, \"46\": {\"46\": 70, \"48\": 8, \"34\": 3, \"7\": 1, \"2\": 2, \"6\": 7, \"52\": 8, \"50\": 3, \"55\": 6, \"23\": 6, \"5\": 3, \"41\": 1, \"28\": 1, \"57\": 1, \"31\": 1, \"16\": 2, \"54\": 2, \"1\": 3}, \"12\": {\"12\": 41, \"50\": 3, \"36\": 7, \"27\": 6, \"53\": 2, \"37\": 4, \"21\": 12, \"51\": 3, \"17\": 4, \"54\": 1, \"6\": 2, \"3\": 1, \"20\": 4, \"25\": 1, \"8\": 1}, \"13\": {\"11\": 4, \"13\": 34, \"52\": 5, \"41\": 1, \"28\": 1, \"14\": 2, \"43\": 9, \"56\": 17, \"16\": 3, \"24\": 6, \"50\": 8, \"22\": 5, \"7\": 1, \"8\": 4, \"44\": 1, \"23\": 1, \"36\": 2, \"1\": 2, \"46\": 4, \"3\": 1, \"48\": 1, \"38\": 1, \"4\": 1, \"5\": 1, \"55\": 1}, \"47\": {\"46\": 2, \"47\": 103, \"39\": 2, \"5\": 3, \"1\": 5, \"30\": 2, \"57\": 2, \"23\": 7, \"48\": 1, \"16\": 2, \"18\": 2, \"43\": 1}, \"15\": {\"15\": 128, \"0\": 2, \"52\": 4, \"11\": 1, \"16\": 7}, \"54\": {\"48\": 16, \"54\": 39, \"21\": 2, \"27\": 8, \"36\": 8, \"6\": 9, \"8\": 3, \"2\": 1, \"25\": 1, \"1\": 3, \"3\": 2, \"55\": 3, \"50\": 3, \"42\": 1, \"46\": 5, \"4\": 2, \"53\": 1, \"20\": 1}, \"48\": {\"48\": 120, \"46\": 3, \"34\": 2, \"47\": 1, \"54\": 2, \"30\": 1, \"23\": 4, \"6\": 8, \"27\": 1, \"8\": 2, \"50\": 1, \"3\": 1, \"5\": 2}, \"23\": {\"23\": 131, \"30\": 3, \"5\": 3, \"16\": 4, \"52\": 1}, \"29\": {\"48\": 3, \"29\": 53, \"19\": 6, \"33\": 2, \"54\": 1, \"42\": 4, \"9\": 4, \"13\": 3, \"12\": 1, \"4\": 13, \"22\": 4, \"57\": 1, \"45\": 5, \"51\": 6, \"55\": 2, \"53\": 2, \"56\": 5, \"3\": 2, \"20\": 1, \"1\": 5, \"25\": 1, \"17\": 1, \"46\": 1, \"36\": 1, \"44\": 1}, \"38\": {\"38\": 20}, \"53\": {\"53\": 35, \"21\": 6, \"25\": 15, \"27\": 9, \"6\": 4, \"12\": 6, \"18\": 1, \"50\": 8, \"20\": 14, \"8\": 3, \"36\": 8, \"23\": 1, \"51\": 10, \"17\": 6, \"45\": 1, \"30\": 2, \"49\": 1, \"2\": 1, \"3\": 1, \"54\": 2, \"46\": 1, \"48\": 1}, \"27\": {\"27\": 30, \"53\": 8, \"49\": 2, \"12\": 8, \"30\": 14, \"50\": 12, \"54\": 4, \"6\": 4, \"17\": 2, \"20\": 14, \"55\": 3, \"36\": 16, \"57\": 2, \"21\": 3, \"46\": 1, \"8\": 6, \"51\": 3, \"29\": 1, \"25\": 2, \"47\": 2, \"48\": 3, \"34\": 1, \"37\": 5, \"18\": 1, \"23\": 3}, \"43\": {\"43\": 137, \"24\": 6, \"56\": 1}, \"35\": {\"35\": 21, \"32\": 1, \"55\": 1, \"9\": 1, \"40\": 3, \"44\": 2, \"14\": 1, \"4\": 1, \"42\": 1}, \"0\": {\"0\": 45, \"5\": 2, \"23\": 1}, \"52\": {\"52\": 111, \"16\": 6, \"23\": 3, \"6\": 1, \"15\": 1, \"46\": 1, \"5\": 1}, \"8\": {\"21\": 1, \"8\": 53, \"54\": 6, \"2\": 1, \"50\": 13, \"36\": 7, \"3\": 2, \"30\": 8, \"6\": 8, \"27\": 9, \"16\": 1, \"57\": 2, \"1\": 2, \"18\": 1, \"53\": 1, \"49\": 2, \"25\": 3, \"48\": 3, \"47\": 1, \"46\": 3, \"52\": 1}, \"24\": {\"24\": 86, \"11\": 1, \"16\": 2, \"43\": 7}, \"18\": {\"18\": 43, \"30\": 5}, \"25\": {\"3\": 2, \"53\": 14, \"12\": 3, \"21\": 9, \"25\": 36, \"8\": 9, \"49\": 1, \"51\": 10, \"37\": 3, \"30\": 4, \"45\": 4, \"48\": 1, \"54\": 6, \"17\": 9, \"20\": 10, \"27\": 17, \"50\": 6, \"36\": 2, \"6\": 1, \"1\": 1}, \"57\": {\"57\": 109, \"0\": 2, \"8\": 2, \"47\": 12, \"27\": 1, \"5\": 3, \"54\": 1, \"23\": 2, \"30\": 3, \"48\": 1}, \"55\": {\"55\": 115, \"41\": 1, \"1\": 5, \"42\": 1, \"7\": 1, \"46\": 4, \"48\": 3, \"2\": 1, \"34\": 1, \"6\": 1, \"54\": 1}, \"36\": {\"36\": 116}, \"17\": {\"51\": 7, \"32\": 3, \"14\": 6, \"37\": 2, \"17\": 28, \"53\": 6, \"54\": 3, \"12\": 2, \"4\": 2, \"21\": 5, \"3\": 6, \"25\": 4, \"48\": 3, \"20\": 3, \"45\": 2, \"56\": 1, \"23\": 1, \"1\": 4, \"55\": 2, \"8\": 1, \"27\": 2, \"29\": 1, \"26\": 1, \"33\": 1, \"36\": 3, \"22\": 1, \"9\": 1, \"6\": 2, \"50\": 1}, \"2\": {\"2\": 23, \"41\": 1, \"34\": 5, \"3\": 3}, \"34\": {\"1\": 1, \"34\": 27}, \"1\": {\"1\": 98, \"41\": 2, \"47\": 2, \"48\": 1, \"53\": 1, \"46\": 5, \"34\": 1, \"31\": 2}, \"51\": {\"51\": 73, \"12\": 4, \"25\": 2, \"49\": 1, \"40\": 1, \"46\": 2, \"34\": 1, \"3\": 7, \"1\": 3, \"45\": 3, \"43\": 1, \"53\": 5, \"20\": 6, \"50\": 2, \"27\": 6, \"48\": 1, \"6\": 2, \"21\": 4, \"8\": 1, \"33\": 1, \"17\": 4, \"26\": 2, \"9\": 1, \"56\": 1, \"54\": 1, \"13\": 1}, \"31\": {\"28\": 3, \"31\": 23, \"5\": 2}, \"49\": {\"49\": 16, \"25\": 1, \"2\": 1, \"8\": 3, \"20\": 1, \"3\": 1, \"48\": 1}, \"14\": {\"28\": 4, \"33\": 1, \"29\": 2, \"14\": 8, \"43\": 1, \"22\": 2, \"42\": 2, \"57\": 1, \"38\": 2, \"32\": 1}, \"33\": {\"33\": 9, \"26\": 3, \"51\": 2, \"29\": 4, \"31\": 1, \"9\": 1, \"25\": 4, \"14\": 2, \"4\": 2}, \"41\": {\"41\": 17, \"2\": 1, \"42\": 2}, \"28\": {\"28\": 27, \"55\": 1}, \"5\": {\"31\": 3, \"5\": 102, \"47\": 3, \"52\": 3, \"55\": 1, \"46\": 1, \"23\": 6, \"11\": 1}, \"16\": {\"16\": 132, \"18\": 1, \"46\": 1, \"52\": 7, \"23\": 6, \"15\": 2, \"30\": 1}, \"4\": {\"4\": 35, \"17\": 3, \"32\": 1, \"33\": 2, \"9\": 9, \"36\": 6, \"45\": 9, \"29\": 13, \"51\": 9, \"1\": 1, \"56\": 4, \"19\": 11, \"3\": 3, \"40\": 3, \"48\": 3, \"50\": 1, \"55\": 7, \"20\": 1, \"2\": 1, \"25\": 3, \"14\": 1, \"44\": 1, \"53\": 1}, \"22\": {\"22\": 67, \"31\": 4, \"5\": 12, \"56\": 18, \"43\": 15, \"57\": 5, \"1\": 4, \"7\": 3, \"55\": 1, \"47\": 1, \"46\": 1, \"10\": 1, \"48\": 2, \"24\": 1, \"23\": 1}, \"6\": {\"6\": 57, \"54\": 9, \"34\": 1, \"12\": 1, \"1\": 5, \"30\": 5, \"46\": 5, \"55\": 8, \"21\": 2, \"20\": 1, \"57\": 1, \"36\": 2, \"48\": 4, \"27\": 3, \"47\": 1, \"49\": 1, \"2\": 1, \"50\": 6, \"17\": 1, \"45\": 1, \"3\": 3}, \"30\": {\"30\": 111, \"18\": 6, \"23\": 7}, \"26\": {\"26\": 24}, \"56\": {\"56\": 76, \"22\": 22, \"38\": 1, \"1\": 10, \"5\": 5, \"47\": 4, \"43\": 8, \"7\": 2, \"23\": 1, \"24\": 2, \"55\": 6, \"28\": 1, \"31\": 1, \"46\": 2, \"15\": 1}, \"42\": {\"42\": 32, \"48\": 1, \"1\": 1, \"55\": 1, \"46\": 1}, \"44\": {\"14\": 2, \"36\": 2, \"31\": 1, \"1\": 7, \"44\": 46, \"51\": 1, \"42\": 2, \"45\": 1, \"13\": 3, \"54\": 1, \"40\": 3, \"9\": 4, \"4\": 4, \"46\": 1, \"48\": 7, \"19\": 4, \"56\": 1, \"3\": 1, \"55\": 4, \"22\": 3, \"5\": 1, \"23\": 1}, \"7\": {\"7\": 36}}}, \"per_domain_accuracy\": {\"O_26\": {\"accuracy\": 0.61015625, \"source?\": true}, \"O_44\": {\"accuracy\": 0.7174479166666666, \"source?\": true}, \"O_50\": {\"accuracy\": 0.8354166666666667, \"source?\": true}, \"O_38\": {\"accuracy\": 0.8583333333333333, \"source?\": true}, \"O_20\": {\"accuracy\": 0.7375, \"source?\": true}, \"O_14\": {\"accuracy\": 0.8473958333333333, \"source?\": true}, \"O_32\": {\"accuracy\": 0.81640625, \"source?\": true}, \"O_8\": {\"accuracy\": 0.7869791666666667, \"source?\": true}, \"C_5\": {\"accuracy\": 0.580481843575419, \"source?\": false}, \"C_1\": {\"accuracy\": 0.5390625, \"source?\": false}, \"C_3\": {\"accuracy\": 0.5849264705882353, \"source?\": false}, \"C_4\": {\"accuracy\": 0.5786897590361446, \"source?\": false}, \"C_2\": {\"accuracy\": 0.5944602272727273, \"source?\": false}}}, \"history\": {\"epoch_indices\": [1, 2, 3, 4, 5, 6, 7, 8], \"train_label_loss\": [1.0320590490741388, 0.8991491692584186, 0.7727618656542506, 0.6500175176088565, 0.5589573591526243, 0.5143329735645759, 0.47880663811949836, 0.4545050148231288], \"source_val_label_loss\": [1.1291245222091675, 0.8607743382453918, 0.7295281887054443, 0.6036671996116638, 0.5673762559890747, 0.5566322803497314, 0.47389674186706543, 0.5242244601249695], \"target_val_label_loss\": [153.78921508789062, 137.3982696533203, 137.28224182128906, 170.2428741455078, 323.50628662109375, 216.8299102783203, 469.155517578125, 447.0507507324219], \"source_val_acc_label\": [0.62373046875, 0.684765625, 0.7243489583333333, 0.7762044270833334, 0.7872395833333333, 0.793359375, 0.8260416666666667, 0.8059244791666667], \"target_val_acc_label\": [0.46139285714285716, 0.5439285714285714, 0.5691428571428572, 0.5751071428571428, 0.5316785714285714, 0.5505, 0.48646428571428574, 0.5110357142857143]}, \"dataset_metrics\": {\"source\": {\"train\": {\"n_unique_x\": 179200, \"n_unique_y\": 16, \"n_batch/episode\": 6720}, \"val\": {\"n_unique_x\": 38400, \"n_unique_y\": 16, \"n_batch/episode\": 960}, \"test\": {\"n_unique_x\": 38400, \"n_unique_y\": 16, \"n_batch/episode\": 960}}, \"target\": {\"train\": {\"n_unique_x\": 175203, \"n_unique_y\": 58, \"n_batch/episode\": 6321}, \"val\": {\"n_unique_x\": 37151, \"n_unique_y\": 58, \"n_batch/episode\": 875}, \"test\": {\"n_unique_x\": 37548, \"n_unique_y\": 58, \"n_batch/episode\": 885}}}}'"
      ]
     },
     "execution_count": 29,
     "metadata": {},
     "output_type": "execute_result"
    }
   ],
   "source": [
    "json.dumps(experiment)"
   ]
  }
 ],
 "metadata": {
  "celltoolbar": "Tags",
  "kernelspec": {
   "display_name": "Python 3 (ipykernel)",
   "language": "python",
   "name": "python3"
  },
  "language_info": {
   "codemirror_mode": {
    "name": "ipython",
    "version": 3
   },
   "file_extension": ".py",
   "mimetype": "text/x-python",
   "name": "python",
   "nbconvert_exporter": "python",
   "pygments_lexer": "ipython3",
   "version": "3.8.12"
  },
  "papermill": {
   "default_parameters": {},
   "duration": 1555.516928,
   "end_time": "2022-03-28T05:41:00.389847",
   "environment_variables": {},
   "exception": null,
   "input_path": "/root/csc500-main/csc500-notebooks/templates/tl_ptn_template.ipynb",
   "output_path": "trial.ipynb",
   "parameters": {
    "parameters": {
     "BEST_MODEL_PATH": "./best_model.pth",
     "NUM_LOGS_PER_EPOCH": 10,
     "criteria_for_best": "target_accuracy",
     "dataset_seed": 7,
     "datasets": [
      {
       "domain_prefix": "C_",
       "domains": [
        1,
        2,
        3,
        4,
        5
       ],
       "episode_transforms": [],
       "labels": [
        "1-10.",
        "1-11.",
        "1-15.",
        "1-16.",
        "1-17.",
        "1-18.",
        "1-19.",
        "10-4.",
        "10-7.",
        "11-1.",
        "11-14.",
        "11-17.",
        "11-20.",
        "11-7.",
        "13-20.",
        "13-8.",
        "14-10.",
        "14-11.",
        "14-14.",
        "14-7.",
        "15-1.",
        "15-20.",
        "16-1.",
        "16-16.",
        "17-10.",
        "17-11.",
        "17-2.",
        "19-1.",
        "19-16.",
        "19-19.",
        "19-20.",
        "19-3.",
        "2-10.",
        "2-11.",
        "2-17.",
        "2-18.",
        "2-20.",
        "2-3.",
        "2-4.",
        "2-5.",
        "2-6.",
        "2-7.",
        "2-8.",
        "3-13.",
        "3-18.",
        "3-3.",
        "4-1.",
        "4-10.",
        "4-11.",
        "4-19.",
        "5-5.",
        "6-15.",
        "7-10.",
        "7-14.",
        "8-18.",
        "8-20.",
        "8-3.",
        "8-8."
       ],
       "num_examples_per_domain_per_label": -1,
       "pickle_path": "/root/csc500-main/datasets/cores.stratified_ds.2022A.pkl",
       "source_or_target_dataset": "target",
       "x_transforms": [
        "unit_power",
        "jitter_256_1",
        "lowpass_+/-10MHz",
        "take_200"
       ]
      },
      {
       "domain_prefix": "O_",
       "domains": [
        32,
        38,
        8,
        44,
        14,
        50,
        20,
        26
       ],
       "episode_transforms": [],
       "labels": [
        "3123D52",
        "3123D65",
        "3123D79",
        "3123D80",
        "3123D54",
        "3123D70",
        "3123D7B",
        "3123D89",
        "3123D58",
        "3123D76",
        "3123D7D",
        "3123EFE",
        "3123D64",
        "3123D78",
        "3123D7E",
        "3124E4A"
       ],
       "num_examples_per_domain_per_label": 2000,
       "pickle_path": "/root/csc500-main/datasets/oracle.Run1_framed_2000Examples_stratified_ds.2022A.pkl",
       "source_or_target_dataset": "source",
       "x_transforms": [
        "unit_power",
        "jitter_256_1",
        "take_200",
        "resample_20Msps_to_25Msps"
       ]
      }
     ],
     "device": "cuda",
     "experiment_name": "tl_3-jitter1v2:oracle.run1.framed -> cores",
     "lr": 0.0001,
     "n_epoch": 50,
     "n_query": 2,
     "n_shot": 3,
     "n_way": 16,
     "patience": 3,
     "seed": 7,
     "test_k_factor": 2,
     "torch_default_dtype": "torch.float32",
     "train_k_factor": 3,
     "val_k_factor": 2,
     "x_net": [
      {
       "class": "nnReshape",
       "kargs": {
        "shape": [
         -1,
         1,
         2,
         256
        ]
       }
      },
      {
       "class": "Conv2d",
       "kargs": {
        "bias": false,
        "in_channels": 1,
        "kernel_size": [
         1,
         7
        ],
        "out_channels": 256,
        "padding": [
         0,
         3
        ]
       }
      },
      {
       "class": "ReLU",
       "kargs": {
        "inplace": true
       }
      },
      {
       "class": "BatchNorm2d",
       "kargs": {
        "num_features": 256
       }
      },
      {
       "class": "Conv2d",
       "kargs": {
        "bias": true,
        "in_channels": 256,
        "kernel_size": [
         2,
         7
        ],
        "out_channels": 80,
        "padding": [
         0,
         3
        ]
       }
      },
      {
       "class": "ReLU",
       "kargs": {
        "inplace": true
       }
      },
      {
       "class": "BatchNorm2d",
       "kargs": {
        "num_features": 80
       }
      },
      {
       "class": "Flatten",
       "kargs": {}
      },
      {
       "class": "Linear",
       "kargs": {
        "in_features": 20480,
        "out_features": 256
       }
      },
      {
       "class": "ReLU",
       "kargs": {
        "inplace": true
       }
      },
      {
       "class": "BatchNorm1d",
       "kargs": {
        "num_features": 256
       }
      },
      {
       "class": "Linear",
       "kargs": {
        "in_features": 256,
        "out_features": 256
       }
      }
     ],
     "x_shape": [
      2,
      256
     ]
    }
   },
   "start_time": "2022-03-28T05:15:04.872919",
   "version": "2.3.4"
  }
 },
 "nbformat": 4,
 "nbformat_minor": 5
}