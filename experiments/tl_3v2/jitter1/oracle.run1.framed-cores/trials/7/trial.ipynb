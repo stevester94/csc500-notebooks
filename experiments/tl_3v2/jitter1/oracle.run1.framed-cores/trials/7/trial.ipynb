{
 "cells": [
  {
   "cell_type": "markdown",
   "id": "9fea5f46",
   "metadata": {
    "papermill": {
     "duration": 0.02497,
     "end_time": "2022-03-28T04:33:37.463888",
     "exception": false,
     "start_time": "2022-03-28T04:33:37.438918",
     "status": "completed"
    },
    "tags": []
   },
   "source": [
    "# Transfer Learning Template"
   ]
  },
  {
   "cell_type": "code",
   "execution_count": 1,
   "id": "0902182a",
   "metadata": {
    "execution": {
     "iopub.execute_input": "2022-03-28T04:33:37.521880Z",
     "iopub.status.busy": "2022-03-28T04:33:37.521026Z",
     "iopub.status.idle": "2022-03-28T04:33:39.405292Z",
     "shell.execute_reply": "2022-03-28T04:33:39.404412Z"
    },
    "papermill": {
     "duration": 1.922478,
     "end_time": "2022-03-28T04:33:39.405519",
     "exception": false,
     "start_time": "2022-03-28T04:33:37.483041",
     "status": "completed"
    },
    "tags": []
   },
   "outputs": [],
   "source": [
    "%load_ext autoreload\n",
    "%autoreload 2\n",
    "%matplotlib inline\n",
    "\n",
    "    \n",
    "import os, json, sys, time, random\n",
    "import numpy as np\n",
    "import torch\n",
    "from torch.optim import Adam\n",
    "from  easydict import EasyDict\n",
    "import matplotlib.pyplot as plt\n",
    "\n",
    "from steves_models.steves_ptn import Steves_Prototypical_Network\n",
    "\n",
    "from steves_utils.lazy_iterable_wrapper import Lazy_Iterable_Wrapper\n",
    "from steves_utils.iterable_aggregator import Iterable_Aggregator\n",
    "from steves_utils.ptn_train_eval_test_jig import  PTN_Train_Eval_Test_Jig\n",
    "from steves_utils.torch_sequential_builder import build_sequential\n",
    "from steves_utils.torch_utils import get_dataset_metrics, ptn_confusion_by_domain_over_dataloader\n",
    "from steves_utils.utils_v2 import (per_domain_accuracy_from_confusion, get_datasets_base_path)\n",
    "from steves_utils.PTN.utils import independent_accuracy_assesment\n",
    "\n",
    "from torch.utils.data import DataLoader\n",
    "\n",
    "from steves_utils.stratified_dataset.episodic_accessor import Episodic_Accessor_Factory\n",
    "\n",
    "from steves_utils.ptn_do_report import (\n",
    "    get_loss_curve,\n",
    "    get_results_table,\n",
    "    get_parameters_table,\n",
    "    get_domain_accuracies,\n",
    ")\n",
    "\n",
    "from steves_utils.transforms import get_chained_transform"
   ]
  },
  {
   "cell_type": "markdown",
   "id": "41c840b4",
   "metadata": {
    "papermill": {
     "duration": 0.019184,
     "end_time": "2022-03-28T04:33:39.448480",
     "exception": false,
     "start_time": "2022-03-28T04:33:39.429296",
     "status": "completed"
    },
    "tags": []
   },
   "source": [
    "# Allowed Parameters\n",
    "These are allowed parameters, not defaults\n",
    "Each of these values need to be present in the injected parameters (the notebook will raise an exception if they are not present)\n",
    "\n",
    "Papermill uses the cell tag \"parameters\" to inject the real parameters below this cell.\n",
    "Enable tags to see what I mean"
   ]
  },
  {
   "cell_type": "code",
   "execution_count": 2,
   "id": "fd44eb83",
   "metadata": {
    "execution": {
     "iopub.execute_input": "2022-03-28T04:33:39.490367Z",
     "iopub.status.busy": "2022-03-28T04:33:39.489977Z",
     "iopub.status.idle": "2022-03-28T04:33:39.509313Z",
     "shell.execute_reply": "2022-03-28T04:33:39.508364Z"
    },
    "papermill": {
     "duration": 0.041934,
     "end_time": "2022-03-28T04:33:39.509519",
     "exception": false,
     "start_time": "2022-03-28T04:33:39.467585",
     "status": "completed"
    },
    "tags": []
   },
   "outputs": [],
   "source": [
    "required_parameters = {\n",
    "    \"experiment_name\",\n",
    "    \"lr\",\n",
    "    \"device\",\n",
    "    \"seed\",\n",
    "    \"dataset_seed\",\n",
    "    \"n_shot\",\n",
    "    \"n_query\",\n",
    "    \"n_way\",\n",
    "    \"train_k_factor\",\n",
    "    \"val_k_factor\",\n",
    "    \"test_k_factor\",\n",
    "    \"n_epoch\",\n",
    "    \"patience\",\n",
    "    \"criteria_for_best\",\n",
    "    \"x_net\",\n",
    "    \"datasets\",\n",
    "    \"torch_default_dtype\",\n",
    "    \"NUM_LOGS_PER_EPOCH\",\n",
    "    \"BEST_MODEL_PATH\",\n",
    "    \"x_shape\",\n",
    "}"
   ]
  },
  {
   "cell_type": "code",
   "execution_count": 3,
   "id": "fa3f0049",
   "metadata": {
    "execution": {
     "iopub.execute_input": "2022-03-28T04:33:39.567961Z",
     "iopub.status.busy": "2022-03-28T04:33:39.567515Z",
     "iopub.status.idle": "2022-03-28T04:33:39.589170Z",
     "shell.execute_reply": "2022-03-28T04:33:39.588458Z"
    },
    "papermill": {
     "duration": 0.051115,
     "end_time": "2022-03-28T04:33:39.589334",
     "exception": false,
     "start_time": "2022-03-28T04:33:39.538219",
     "status": "completed"
    },
    "tags": [
     "parameters"
    ]
   },
   "outputs": [],
   "source": [
    "from steves_utils.CORES.utils import (\n",
    "    ALL_NODES,\n",
    "    ALL_NODES_MINIMUM_1000_EXAMPLES,\n",
    "    ALL_DAYS\n",
    ")\n",
    "\n",
    "from steves_utils.ORACLE.utils_v2 import (\n",
    "    ALL_DISTANCES_FEET_NARROWED,\n",
    "    ALL_RUNS,\n",
    "    ALL_SERIAL_NUMBERS,\n",
    ")\n",
    "\n",
    "standalone_parameters = {}\n",
    "standalone_parameters[\"experiment_name\"] = \"STANDALONE PTN\"\n",
    "standalone_parameters[\"lr\"] = 0.001\n",
    "standalone_parameters[\"device\"] = \"cuda\"\n",
    "\n",
    "standalone_parameters[\"seed\"] = 1337\n",
    "standalone_parameters[\"dataset_seed\"] = 1337\n",
    "\n",
    "standalone_parameters[\"n_way\"] = 8\n",
    "standalone_parameters[\"n_shot\"] = 3\n",
    "standalone_parameters[\"n_query\"]  = 2\n",
    "standalone_parameters[\"train_k_factor\"] = 1\n",
    "standalone_parameters[\"val_k_factor\"] = 2\n",
    "standalone_parameters[\"test_k_factor\"] = 2\n",
    "\n",
    "\n",
    "standalone_parameters[\"n_epoch\"] = 50\n",
    "\n",
    "standalone_parameters[\"patience\"] = 10\n",
    "standalone_parameters[\"criteria_for_best\"] = \"source_loss\"\n",
    "\n",
    "standalone_parameters[\"datasets\"] = [\n",
    "    {\n",
    "        \"labels\": ALL_SERIAL_NUMBERS,\n",
    "        \"domains\": ALL_DISTANCES_FEET_NARROWED,\n",
    "        \"num_examples_per_domain_per_label\": 100,\n",
    "        \"pickle_path\": os.path.join(get_datasets_base_path(), \"oracle.Run1_framed_2000Examples_stratified_ds.2022A.pkl\"),\n",
    "        \"source_or_target_dataset\": \"source\",\n",
    "        \"x_transforms\": [\"unit_mag\", \"minus_two\"],\n",
    "        \"episode_transforms\": [],\n",
    "        \"domain_prefix\": \"ORACLE_\"\n",
    "    },\n",
    "    {\n",
    "        \"labels\": ALL_NODES,\n",
    "        \"domains\": ALL_DAYS,\n",
    "        \"num_examples_per_domain_per_label\": 100,\n",
    "        \"pickle_path\": os.path.join(get_datasets_base_path(), \"cores.stratified_ds.2022A.pkl\"),\n",
    "        \"source_or_target_dataset\": \"target\",\n",
    "        \"x_transforms\": [\"unit_power\", \"times_zero\"],\n",
    "        \"episode_transforms\": [],\n",
    "        \"domain_prefix\": \"CORES_\"\n",
    "    }   \n",
    "]\n",
    "\n",
    "standalone_parameters[\"torch_default_dtype\"] = \"torch.float32\" \n",
    "\n",
    "\n",
    "\n",
    "standalone_parameters[\"x_net\"] =     [\n",
    "    {\"class\": \"nnReshape\", \"kargs\": {\"shape\":[-1, 1, 2, 256]}},\n",
    "    {\"class\": \"Conv2d\", \"kargs\": { \"in_channels\":1, \"out_channels\":256, \"kernel_size\":(1,7), \"bias\":False, \"padding\":(0,3), },},\n",
    "    {\"class\": \"ReLU\", \"kargs\": {\"inplace\": True}},\n",
    "    {\"class\": \"BatchNorm2d\", \"kargs\": {\"num_features\":256}},\n",
    "\n",
    "    {\"class\": \"Conv2d\", \"kargs\": { \"in_channels\":256, \"out_channels\":80, \"kernel_size\":(2,7), \"bias\":True, \"padding\":(0,3), },},\n",
    "    {\"class\": \"ReLU\", \"kargs\": {\"inplace\": True}},\n",
    "    {\"class\": \"BatchNorm2d\", \"kargs\": {\"num_features\":80}},\n",
    "    {\"class\": \"Flatten\", \"kargs\": {}},\n",
    "\n",
    "    {\"class\": \"Linear\", \"kargs\": {\"in_features\": 80*256, \"out_features\": 256}}, # 80 units per IQ pair\n",
    "    {\"class\": \"ReLU\", \"kargs\": {\"inplace\": True}},\n",
    "    {\"class\": \"BatchNorm1d\", \"kargs\": {\"num_features\":256}},\n",
    "\n",
    "    {\"class\": \"Linear\", \"kargs\": {\"in_features\": 256, \"out_features\": 256}},\n",
    "]\n",
    "\n",
    "# Parameters relevant to results\n",
    "# These parameters will basically never need to change\n",
    "standalone_parameters[\"NUM_LOGS_PER_EPOCH\"] = 10\n",
    "standalone_parameters[\"BEST_MODEL_PATH\"] = \"./best_model.pth\"\n",
    "\n",
    "\n",
    "\n",
    "\n"
   ]
  },
  {
   "cell_type": "code",
   "execution_count": 4,
   "id": "304ce1b1",
   "metadata": {
    "execution": {
     "iopub.execute_input": "2022-03-28T04:33:39.644763Z",
     "iopub.status.busy": "2022-03-28T04:33:39.641813Z",
     "iopub.status.idle": "2022-03-28T04:33:39.667013Z",
     "shell.execute_reply": "2022-03-28T04:33:39.666310Z"
    },
    "papermill": {
     "duration": 0.05114,
     "end_time": "2022-03-28T04:33:39.667165",
     "exception": false,
     "start_time": "2022-03-28T04:33:39.616025",
     "status": "completed"
    },
    "tags": [
     "injected-parameters"
    ]
   },
   "outputs": [],
   "source": [
    "# Parameters\n",
    "parameters = {\n",
    "    \"experiment_name\": \"tl_3-jitter1v2:oracle.run1.framed -> cores\",\n",
    "    \"device\": \"cuda\",\n",
    "    \"lr\": 0.0001,\n",
    "    \"x_shape\": [2, 256],\n",
    "    \"n_shot\": 3,\n",
    "    \"n_query\": 2,\n",
    "    \"train_k_factor\": 3,\n",
    "    \"val_k_factor\": 2,\n",
    "    \"test_k_factor\": 2,\n",
    "    \"torch_default_dtype\": \"torch.float32\",\n",
    "    \"n_epoch\": 50,\n",
    "    \"patience\": 3,\n",
    "    \"criteria_for_best\": \"target_accuracy\",\n",
    "    \"x_net\": [\n",
    "        {\"class\": \"nnReshape\", \"kargs\": {\"shape\": [-1, 1, 2, 256]}},\n",
    "        {\n",
    "            \"class\": \"Conv2d\",\n",
    "            \"kargs\": {\n",
    "                \"in_channels\": 1,\n",
    "                \"out_channels\": 256,\n",
    "                \"kernel_size\": [1, 7],\n",
    "                \"bias\": False,\n",
    "                \"padding\": [0, 3],\n",
    "            },\n",
    "        },\n",
    "        {\"class\": \"ReLU\", \"kargs\": {\"inplace\": True}},\n",
    "        {\"class\": \"BatchNorm2d\", \"kargs\": {\"num_features\": 256}},\n",
    "        {\n",
    "            \"class\": \"Conv2d\",\n",
    "            \"kargs\": {\n",
    "                \"in_channels\": 256,\n",
    "                \"out_channels\": 80,\n",
    "                \"kernel_size\": [2, 7],\n",
    "                \"bias\": True,\n",
    "                \"padding\": [0, 3],\n",
    "            },\n",
    "        },\n",
    "        {\"class\": \"ReLU\", \"kargs\": {\"inplace\": True}},\n",
    "        {\"class\": \"BatchNorm2d\", \"kargs\": {\"num_features\": 80}},\n",
    "        {\"class\": \"Flatten\", \"kargs\": {}},\n",
    "        {\"class\": \"Linear\", \"kargs\": {\"in_features\": 20480, \"out_features\": 256}},\n",
    "        {\"class\": \"ReLU\", \"kargs\": {\"inplace\": True}},\n",
    "        {\"class\": \"BatchNorm1d\", \"kargs\": {\"num_features\": 256}},\n",
    "        {\"class\": \"Linear\", \"kargs\": {\"in_features\": 256, \"out_features\": 256}},\n",
    "    ],\n",
    "    \"NUM_LOGS_PER_EPOCH\": 10,\n",
    "    \"BEST_MODEL_PATH\": \"./best_model.pth\",\n",
    "    \"n_way\": 16,\n",
    "    \"datasets\": [\n",
    "        {\n",
    "            \"labels\": [\n",
    "                \"1-10.\",\n",
    "                \"1-11.\",\n",
    "                \"1-15.\",\n",
    "                \"1-16.\",\n",
    "                \"1-17.\",\n",
    "                \"1-18.\",\n",
    "                \"1-19.\",\n",
    "                \"10-4.\",\n",
    "                \"10-7.\",\n",
    "                \"11-1.\",\n",
    "                \"11-14.\",\n",
    "                \"11-17.\",\n",
    "                \"11-20.\",\n",
    "                \"11-7.\",\n",
    "                \"13-20.\",\n",
    "                \"13-8.\",\n",
    "                \"14-10.\",\n",
    "                \"14-11.\",\n",
    "                \"14-14.\",\n",
    "                \"14-7.\",\n",
    "                \"15-1.\",\n",
    "                \"15-20.\",\n",
    "                \"16-1.\",\n",
    "                \"16-16.\",\n",
    "                \"17-10.\",\n",
    "                \"17-11.\",\n",
    "                \"17-2.\",\n",
    "                \"19-1.\",\n",
    "                \"19-16.\",\n",
    "                \"19-19.\",\n",
    "                \"19-20.\",\n",
    "                \"19-3.\",\n",
    "                \"2-10.\",\n",
    "                \"2-11.\",\n",
    "                \"2-17.\",\n",
    "                \"2-18.\",\n",
    "                \"2-20.\",\n",
    "                \"2-3.\",\n",
    "                \"2-4.\",\n",
    "                \"2-5.\",\n",
    "                \"2-6.\",\n",
    "                \"2-7.\",\n",
    "                \"2-8.\",\n",
    "                \"3-13.\",\n",
    "                \"3-18.\",\n",
    "                \"3-3.\",\n",
    "                \"4-1.\",\n",
    "                \"4-10.\",\n",
    "                \"4-11.\",\n",
    "                \"4-19.\",\n",
    "                \"5-5.\",\n",
    "                \"6-15.\",\n",
    "                \"7-10.\",\n",
    "                \"7-14.\",\n",
    "                \"8-18.\",\n",
    "                \"8-20.\",\n",
    "                \"8-3.\",\n",
    "                \"8-8.\",\n",
    "            ],\n",
    "            \"domains\": [1, 2, 3, 4, 5],\n",
    "            \"num_examples_per_domain_per_label\": -1,\n",
    "            \"pickle_path\": \"/root/csc500-main/datasets/cores.stratified_ds.2022A.pkl\",\n",
    "            \"source_or_target_dataset\": \"target\",\n",
    "            \"x_transforms\": [\n",
    "                \"unit_mag\",\n",
    "                \"jitter_256_1\",\n",
    "                \"lowpass_+/-10MHz\",\n",
    "                \"take_200\",\n",
    "            ],\n",
    "            \"episode_transforms\": [],\n",
    "            \"domain_prefix\": \"C_\",\n",
    "        },\n",
    "        {\n",
    "            \"labels\": [\n",
    "                \"3123D52\",\n",
    "                \"3123D65\",\n",
    "                \"3123D79\",\n",
    "                \"3123D80\",\n",
    "                \"3123D54\",\n",
    "                \"3123D70\",\n",
    "                \"3123D7B\",\n",
    "                \"3123D89\",\n",
    "                \"3123D58\",\n",
    "                \"3123D76\",\n",
    "                \"3123D7D\",\n",
    "                \"3123EFE\",\n",
    "                \"3123D64\",\n",
    "                \"3123D78\",\n",
    "                \"3123D7E\",\n",
    "                \"3124E4A\",\n",
    "            ],\n",
    "            \"domains\": [32, 38, 8, 44, 14, 50, 20, 26],\n",
    "            \"num_examples_per_domain_per_label\": 2000,\n",
    "            \"pickle_path\": \"/root/csc500-main/datasets/oracle.Run1_framed_2000Examples_stratified_ds.2022A.pkl\",\n",
    "            \"source_or_target_dataset\": \"source\",\n",
    "            \"x_transforms\": [\n",
    "                \"unit_mag\",\n",
    "                \"jitter_256_1\",\n",
    "                \"take_200\",\n",
    "                \"resample_20Msps_to_25Msps\",\n",
    "            ],\n",
    "            \"episode_transforms\": [],\n",
    "            \"domain_prefix\": \"O_\",\n",
    "        },\n",
    "    ],\n",
    "    \"seed\": 154325,\n",
    "    \"dataset_seed\": 154325,\n",
    "}\n"
   ]
  },
  {
   "cell_type": "code",
   "execution_count": 5,
   "id": "8fa1cc33",
   "metadata": {
    "execution": {
     "iopub.execute_input": "2022-03-28T04:33:39.718515Z",
     "iopub.status.busy": "2022-03-28T04:33:39.718144Z",
     "iopub.status.idle": "2022-03-28T04:33:39.740947Z",
     "shell.execute_reply": "2022-03-28T04:33:39.741641Z"
    },
    "papermill": {
     "duration": 0.046574,
     "end_time": "2022-03-28T04:33:39.741818",
     "exception": false,
     "start_time": "2022-03-28T04:33:39.695244",
     "status": "completed"
    },
    "tags": []
   },
   "outputs": [],
   "source": [
    "# Set this to True if you want to run this template directly\n",
    "STANDALONE = False\n",
    "if STANDALONE:\n",
    "    print(\"parameters not injected, running with standalone_parameters\")\n",
    "    parameters = standalone_parameters\n",
    "\n",
    "if not 'parameters' in locals() and not 'parameters' in globals():\n",
    "    raise Exception(\"Parameter injection failed\")\n",
    "\n",
    "#Use an easy dict for all the parameters\n",
    "p = EasyDict(parameters)\n",
    "\n",
    "if \"x_shape\" not in p:\n",
    "    p.x_shape = [2,256] # Default to this if we dont supply x_shape\n",
    "\n",
    "\n",
    "supplied_keys = set(p.keys())\n",
    "\n",
    "if  supplied_keys != required_parameters:\n",
    "    print(\"Parameters are incorrect\")\n",
    "    if len(supplied_keys - required_parameters)>0: print(\"Shouldn't have:\", str(supplied_keys - required_parameters))\n",
    "    if len(required_parameters - supplied_keys)>0: print(\"Need to have:\", str(required_parameters - supplied_keys))\n",
    "    raise RuntimeError(\"Parameters are incorrect\")"
   ]
  },
  {
   "cell_type": "code",
   "execution_count": 6,
   "id": "3a028d58",
   "metadata": {
    "execution": {
     "iopub.execute_input": "2022-03-28T04:33:39.789316Z",
     "iopub.status.busy": "2022-03-28T04:33:39.788842Z",
     "iopub.status.idle": "2022-03-28T04:33:39.812349Z",
     "shell.execute_reply": "2022-03-28T04:33:39.811683Z"
    },
    "papermill": {
     "duration": 0.045915,
     "end_time": "2022-03-28T04:33:39.812504",
     "exception": false,
     "start_time": "2022-03-28T04:33:39.766589",
     "status": "completed"
    },
    "tags": []
   },
   "outputs": [],
   "source": [
    "###################################\n",
    "# Set the RNGs and make it all deterministic\n",
    "###################################\n",
    "np.random.seed(p.seed)\n",
    "random.seed(p.seed)\n",
    "torch.manual_seed(p.seed)\n",
    "\n",
    "torch.use_deterministic_algorithms(True) "
   ]
  },
  {
   "cell_type": "code",
   "execution_count": 7,
   "id": "b691acf6",
   "metadata": {
    "execution": {
     "iopub.execute_input": "2022-03-28T04:33:39.859280Z",
     "iopub.status.busy": "2022-03-28T04:33:39.858602Z",
     "iopub.status.idle": "2022-03-28T04:33:39.881998Z",
     "shell.execute_reply": "2022-03-28T04:33:39.881193Z"
    },
    "papermill": {
     "duration": 0.046196,
     "end_time": "2022-03-28T04:33:39.882152",
     "exception": false,
     "start_time": "2022-03-28T04:33:39.835956",
     "status": "completed"
    },
    "tags": []
   },
   "outputs": [],
   "source": [
    "###########################################\n",
    "# The stratified datasets honor this\n",
    "###########################################\n",
    "torch.set_default_dtype(eval(p.torch_default_dtype))"
   ]
  },
  {
   "cell_type": "code",
   "execution_count": 8,
   "id": "b5fba671",
   "metadata": {
    "execution": {
     "iopub.execute_input": "2022-03-28T04:33:39.929186Z",
     "iopub.status.busy": "2022-03-28T04:33:39.928544Z",
     "iopub.status.idle": "2022-03-28T04:33:39.985288Z",
     "shell.execute_reply": "2022-03-28T04:33:39.984572Z"
    },
    "papermill": {
     "duration": 0.078648,
     "end_time": "2022-03-28T04:33:39.985467",
     "exception": false,
     "start_time": "2022-03-28T04:33:39.906819",
     "status": "completed"
    },
    "tags": []
   },
   "outputs": [],
   "source": [
    "###################################\n",
    "# Build the network(s)\n",
    "# Note: It's critical to do this AFTER setting the RNG\n",
    "###################################\n",
    "x_net = build_sequential(p.x_net)"
   ]
  },
  {
   "cell_type": "code",
   "execution_count": 9,
   "id": "5d7e61cc",
   "metadata": {
    "execution": {
     "iopub.execute_input": "2022-03-28T04:33:40.038616Z",
     "iopub.status.busy": "2022-03-28T04:33:40.038243Z",
     "iopub.status.idle": "2022-03-28T04:33:40.065598Z",
     "shell.execute_reply": "2022-03-28T04:33:40.064777Z"
    },
    "papermill": {
     "duration": 0.051535,
     "end_time": "2022-03-28T04:33:40.065763",
     "exception": false,
     "start_time": "2022-03-28T04:33:40.014228",
     "status": "completed"
    },
    "tags": []
   },
   "outputs": [],
   "source": [
    "start_time_secs = time.time()"
   ]
  },
  {
   "cell_type": "code",
   "execution_count": 10,
   "id": "c6b67dfd",
   "metadata": {
    "execution": {
     "iopub.execute_input": "2022-03-28T04:33:40.115323Z",
     "iopub.status.busy": "2022-03-28T04:33:40.114638Z",
     "iopub.status.idle": "2022-03-28T04:33:40.135613Z",
     "shell.execute_reply": "2022-03-28T04:33:40.136257Z"
    },
    "papermill": {
     "duration": 0.045049,
     "end_time": "2022-03-28T04:33:40.136446",
     "exception": false,
     "start_time": "2022-03-28T04:33:40.091397",
     "status": "completed"
    },
    "tags": []
   },
   "outputs": [],
   "source": [
    "p.domains_source = []\n",
    "p.domains_target = []\n",
    "\n",
    "\n",
    "train_original_source = []\n",
    "val_original_source   = []\n",
    "test_original_source  = []\n",
    "\n",
    "train_original_target = []\n",
    "val_original_target   = []\n",
    "test_original_target  = []"
   ]
  },
  {
   "cell_type": "code",
   "execution_count": 11,
   "id": "e3d9c3d3",
   "metadata": {
    "execution": {
     "iopub.execute_input": "2022-03-28T04:33:40.187886Z",
     "iopub.status.busy": "2022-03-28T04:33:40.186108Z",
     "iopub.status.idle": "2022-03-28T04:33:40.206917Z",
     "shell.execute_reply": "2022-03-28T04:33:40.206109Z"
    },
    "papermill": {
     "duration": 0.04374,
     "end_time": "2022-03-28T04:33:40.207070",
     "exception": false,
     "start_time": "2022-03-28T04:33:40.163330",
     "status": "completed"
    },
    "tags": []
   },
   "outputs": [],
   "source": [
    "# global_x_transform_func = lambda x: normalize(x.to(torch.get_default_dtype()), \"unit_power\") # unit_power, unit_mag\n",
    "# global_x_transform_func = lambda x: normalize(x, \"unit_power\") # unit_power, unit_mag"
   ]
  },
  {
   "cell_type": "code",
   "execution_count": 12,
   "id": "acb78fd2",
   "metadata": {
    "execution": {
     "iopub.execute_input": "2022-03-28T04:33:40.266375Z",
     "iopub.status.busy": "2022-03-28T04:33:40.265528Z",
     "iopub.status.idle": "2022-03-28T04:33:40.282916Z",
     "shell.execute_reply": "2022-03-28T04:33:40.282218Z"
    },
    "papermill": {
     "duration": 0.050857,
     "end_time": "2022-03-28T04:33:40.283066",
     "exception": false,
     "start_time": "2022-03-28T04:33:40.232209",
     "status": "completed"
    },
    "tags": []
   },
   "outputs": [],
   "source": [
    "def add_dataset(\n",
    "    labels,\n",
    "    domains,\n",
    "    pickle_path,\n",
    "    x_transforms,\n",
    "    episode_transforms,\n",
    "    domain_prefix,\n",
    "    num_examples_per_domain_per_label,\n",
    "    source_or_target_dataset:str,\n",
    "    iterator_seed=p.seed,\n",
    "    dataset_seed=p.dataset_seed,\n",
    "    n_shot=p.n_shot,\n",
    "    n_way=p.n_way,\n",
    "    n_query=p.n_query,\n",
    "    train_val_test_k_factors=(p.train_k_factor,p.val_k_factor,p.test_k_factor),\n",
    "):\n",
    "   \n",
    "    if x_transforms == []: x_transform = None\n",
    "    else: x_transform = get_chained_transform(x_transforms)\n",
    "    \n",
    "    if episode_transforms == []: episode_transform = None\n",
    "    else: raise Exception(\"episode_transforms not implemented\")\n",
    "    \n",
    "    episode_transform = lambda tup, _prefix=domain_prefix: (_prefix + str(tup[0]), tup[1])\n",
    "\n",
    "\n",
    "    eaf = Episodic_Accessor_Factory(\n",
    "        labels=labels,\n",
    "        domains=domains,\n",
    "        num_examples_per_domain_per_label=num_examples_per_domain_per_label,\n",
    "        iterator_seed=iterator_seed,\n",
    "        dataset_seed=dataset_seed,\n",
    "        n_shot=n_shot,\n",
    "        n_way=n_way,\n",
    "        n_query=n_query,\n",
    "        train_val_test_k_factors=train_val_test_k_factors,\n",
    "        pickle_path=pickle_path,\n",
    "        x_transform_func=x_transform,\n",
    "    )\n",
    "\n",
    "    train, val, test = eaf.get_train(), eaf.get_val(), eaf.get_test()\n",
    "    train = Lazy_Iterable_Wrapper(train, episode_transform)\n",
    "    val = Lazy_Iterable_Wrapper(val, episode_transform)\n",
    "    test = Lazy_Iterable_Wrapper(test, episode_transform)\n",
    "\n",
    "    if source_or_target_dataset==\"source\":\n",
    "        train_original_source.append(train)\n",
    "        val_original_source.append(val)\n",
    "        test_original_source.append(test)\n",
    "\n",
    "        p.domains_source.extend(\n",
    "            [domain_prefix + str(u) for u in domains]\n",
    "        )\n",
    "    elif source_or_target_dataset==\"target\":\n",
    "        train_original_target.append(train)\n",
    "        val_original_target.append(val)\n",
    "        test_original_target.append(test)\n",
    "        p.domains_target.extend(\n",
    "            [domain_prefix + str(u) for u in domains]\n",
    "        )\n",
    "    else:\n",
    "        raise Exception(f\"invalid source_or_target_dataset: {source_or_target_dataset}\")\n",
    "    "
   ]
  },
  {
   "cell_type": "code",
   "execution_count": 13,
   "id": "fe266617",
   "metadata": {
    "execution": {
     "iopub.execute_input": "2022-03-28T04:33:40.342261Z",
     "iopub.status.busy": "2022-03-28T04:33:40.333873Z",
     "iopub.status.idle": "2022-03-28T04:35:31.090950Z",
     "shell.execute_reply": "2022-03-28T04:35:31.090154Z"
    },
    "papermill": {
     "duration": 110.77996,
     "end_time": "2022-03-28T04:35:31.091141",
     "exception": false,
     "start_time": "2022-03-28T04:33:40.311181",
     "status": "completed"
    },
    "tags": []
   },
   "outputs": [],
   "source": [
    "for ds in p.datasets:\n",
    "    add_dataset(**ds)"
   ]
  },
  {
   "cell_type": "code",
   "execution_count": 14,
   "id": "b90d65ac",
   "metadata": {
    "execution": {
     "iopub.execute_input": "2022-03-28T04:35:31.141707Z",
     "iopub.status.busy": "2022-03-28T04:35:31.141331Z",
     "iopub.status.idle": "2022-03-28T04:35:31.165804Z",
     "shell.execute_reply": "2022-03-28T04:35:31.165128Z"
    },
    "papermill": {
     "duration": 0.048024,
     "end_time": "2022-03-28T04:35:31.165962",
     "exception": false,
     "start_time": "2022-03-28T04:35:31.117938",
     "status": "completed"
    },
    "tags": []
   },
   "outputs": [],
   "source": [
    "# from steves_utils.CORES.utils import (\n",
    "#     ALL_NODES,\n",
    "#     ALL_NODES_MINIMUM_1000_EXAMPLES,\n",
    "#     ALL_DAYS\n",
    "# )\n",
    "\n",
    "# add_dataset(\n",
    "#     labels=ALL_NODES,\n",
    "#     domains = ALL_DAYS,\n",
    "#     num_examples_per_domain_per_label=100,\n",
    "#     pickle_path=os.path.join(get_datasets_base_path(), \"cores.stratified_ds.2022A.pkl\"),\n",
    "#     source_or_target_dataset=\"target\",\n",
    "#     x_transform_func=global_x_transform_func,\n",
    "#     domain_modifier=lambda u: f\"cores_{u}\"\n",
    "# )"
   ]
  },
  {
   "cell_type": "code",
   "execution_count": 15,
   "id": "76db484d",
   "metadata": {
    "execution": {
     "iopub.execute_input": "2022-03-28T04:35:31.215707Z",
     "iopub.status.busy": "2022-03-28T04:35:31.215327Z",
     "iopub.status.idle": "2022-03-28T04:35:31.237165Z",
     "shell.execute_reply": "2022-03-28T04:35:31.236462Z"
    },
    "papermill": {
     "duration": 0.045369,
     "end_time": "2022-03-28T04:35:31.237316",
     "exception": false,
     "start_time": "2022-03-28T04:35:31.191947",
     "status": "completed"
    },
    "tags": []
   },
   "outputs": [],
   "source": [
    "# from steves_utils.ORACLE.utils_v2 import (\n",
    "#     ALL_DISTANCES_FEET,\n",
    "#     ALL_RUNS,\n",
    "#     ALL_SERIAL_NUMBERS,\n",
    "# )\n",
    "\n",
    "\n",
    "# add_dataset(\n",
    "#     labels=ALL_SERIAL_NUMBERS,\n",
    "#     domains = list(set(ALL_DISTANCES_FEET) - {2,62}),\n",
    "#     num_examples_per_domain_per_label=100,\n",
    "#     pickle_path=os.path.join(get_datasets_base_path(), \"oracle.Run2_framed_2000Examples_stratified_ds.2022A.pkl\"),\n",
    "#     source_or_target_dataset=\"source\",\n",
    "#     x_transform_func=global_x_transform_func,\n",
    "#     domain_modifier=lambda u: f\"oracle1_{u}\"\n",
    "# )\n"
   ]
  },
  {
   "cell_type": "code",
   "execution_count": 16,
   "id": "97dea9d2",
   "metadata": {
    "execution": {
     "iopub.execute_input": "2022-03-28T04:35:31.288539Z",
     "iopub.status.busy": "2022-03-28T04:35:31.287999Z",
     "iopub.status.idle": "2022-03-28T04:35:31.303293Z",
     "shell.execute_reply": "2022-03-28T04:35:31.302587Z"
    },
    "papermill": {
     "duration": 0.039559,
     "end_time": "2022-03-28T04:35:31.303444",
     "exception": false,
     "start_time": "2022-03-28T04:35:31.263885",
     "status": "completed"
    },
    "tags": []
   },
   "outputs": [],
   "source": [
    "# from steves_utils.ORACLE.utils_v2 import (\n",
    "#     ALL_DISTANCES_FEET,\n",
    "#     ALL_RUNS,\n",
    "#     ALL_SERIAL_NUMBERS,\n",
    "# )\n",
    "\n",
    "\n",
    "# add_dataset(\n",
    "#     labels=ALL_SERIAL_NUMBERS,\n",
    "#     domains = list(set(ALL_DISTANCES_FEET) - {2,62,56}),\n",
    "#     num_examples_per_domain_per_label=100,\n",
    "#     pickle_path=os.path.join(get_datasets_base_path(), \"oracle.Run2_framed_2000Examples_stratified_ds.2022A.pkl\"),\n",
    "#     source_or_target_dataset=\"source\",\n",
    "#     x_transform_func=global_x_transform_func,\n",
    "#     domain_modifier=lambda u: f\"oracle2_{u}\"\n",
    "# )"
   ]
  },
  {
   "cell_type": "code",
   "execution_count": 17,
   "id": "6f289866",
   "metadata": {
    "execution": {
     "iopub.execute_input": "2022-03-28T04:35:31.356783Z",
     "iopub.status.busy": "2022-03-28T04:35:31.356225Z",
     "iopub.status.idle": "2022-03-28T04:35:31.372470Z",
     "shell.execute_reply": "2022-03-28T04:35:31.371771Z"
    },
    "papermill": {
     "duration": 0.03953,
     "end_time": "2022-03-28T04:35:31.372621",
     "exception": false,
     "start_time": "2022-03-28T04:35:31.333091",
     "status": "completed"
    },
    "tags": []
   },
   "outputs": [],
   "source": [
    "# add_dataset(\n",
    "#     labels=list(range(19)),\n",
    "#     domains = [0,1,2],\n",
    "#     num_examples_per_domain_per_label=100,\n",
    "#     pickle_path=os.path.join(get_datasets_base_path(), \"metehan.stratified_ds.2022A.pkl\"),\n",
    "#     source_or_target_dataset=\"target\",\n",
    "#     x_transform_func=global_x_transform_func,\n",
    "#     domain_modifier=lambda u: f\"met_{u}\"\n",
    "# )"
   ]
  },
  {
   "cell_type": "code",
   "execution_count": 18,
   "id": "86a863c3",
   "metadata": {
    "execution": {
     "iopub.execute_input": "2022-03-28T04:35:31.425268Z",
     "iopub.status.busy": "2022-03-28T04:35:31.424895Z",
     "iopub.status.idle": "2022-03-28T04:35:31.444447Z",
     "shell.execute_reply": "2022-03-28T04:35:31.443745Z"
    },
    "papermill": {
     "duration": 0.042874,
     "end_time": "2022-03-28T04:35:31.444599",
     "exception": false,
     "start_time": "2022-03-28T04:35:31.401725",
     "status": "completed"
    },
    "tags": []
   },
   "outputs": [],
   "source": [
    "# # from steves_utils.wisig.utils import (\n",
    "# #     ALL_NODES_MINIMUM_100_EXAMPLES,\n",
    "# #     ALL_NODES_MINIMUM_500_EXAMPLES,\n",
    "# #     ALL_NODES_MINIMUM_1000_EXAMPLES,\n",
    "# #     ALL_DAYS\n",
    "# # )\n",
    "\n",
    "# import steves_utils.wisig.utils as wisig\n",
    "\n",
    "\n",
    "# add_dataset(\n",
    "#     labels=wisig.ALL_NODES_MINIMUM_100_EXAMPLES,\n",
    "#     domains = wisig.ALL_DAYS,\n",
    "#     num_examples_per_domain_per_label=100,\n",
    "#     pickle_path=os.path.join(get_datasets_base_path(), \"wisig.node3-19.stratified_ds.2022A.pkl\"),\n",
    "#     source_or_target_dataset=\"target\",\n",
    "#     x_transform_func=global_x_transform_func,\n",
    "#     domain_modifier=lambda u: f\"wisig_{u}\"\n",
    "# )"
   ]
  },
  {
   "cell_type": "code",
   "execution_count": 19,
   "id": "fd5442bc",
   "metadata": {
    "execution": {
     "iopub.execute_input": "2022-03-28T04:35:31.499829Z",
     "iopub.status.busy": "2022-03-28T04:35:31.499436Z",
     "iopub.status.idle": "2022-03-28T04:35:31.517614Z",
     "shell.execute_reply": "2022-03-28T04:35:31.516897Z"
    },
    "papermill": {
     "duration": 0.04403,
     "end_time": "2022-03-28T04:35:31.517766",
     "exception": false,
     "start_time": "2022-03-28T04:35:31.473736",
     "status": "completed"
    },
    "tags": []
   },
   "outputs": [],
   "source": [
    "###################################\n",
    "# Build the dataset\n",
    "###################################\n",
    "train_original_source = Iterable_Aggregator(train_original_source, p.seed)\n",
    "val_original_source = Iterable_Aggregator(val_original_source, p.seed)\n",
    "test_original_source = Iterable_Aggregator(test_original_source, p.seed)\n",
    "\n",
    "\n",
    "train_original_target = Iterable_Aggregator(train_original_target, p.seed)\n",
    "val_original_target = Iterable_Aggregator(val_original_target, p.seed)\n",
    "test_original_target = Iterable_Aggregator(test_original_target, p.seed)\n",
    "\n",
    "# For CNN We only use X and Y. And we only train on the source.\n",
    "# Properly form the data using a transform lambda and Lazy_Iterable_Wrapper. Finally wrap them in a dataloader\n",
    "\n",
    "transform_lambda = lambda ex: ex[1] # Original is (<domain>, <episode>) so we strip down to episode only\n",
    "\n",
    "train_processed_source = Lazy_Iterable_Wrapper(train_original_source, transform_lambda)\n",
    "val_processed_source   = Lazy_Iterable_Wrapper(val_original_source, transform_lambda)\n",
    "test_processed_source  = Lazy_Iterable_Wrapper(test_original_source, transform_lambda)\n",
    "\n",
    "train_processed_target = Lazy_Iterable_Wrapper(train_original_target, transform_lambda)\n",
    "val_processed_target   = Lazy_Iterable_Wrapper(val_original_target, transform_lambda)\n",
    "test_processed_target  = Lazy_Iterable_Wrapper(test_original_target, transform_lambda)\n",
    "\n",
    "datasets = EasyDict({\n",
    "    \"source\": {\n",
    "        \"original\": {\"train\":train_original_source, \"val\":val_original_source, \"test\":test_original_source},\n",
    "        \"processed\": {\"train\":train_processed_source, \"val\":val_processed_source, \"test\":test_processed_source}\n",
    "    },\n",
    "    \"target\": {\n",
    "        \"original\": {\"train\":train_original_target, \"val\":val_original_target, \"test\":test_original_target},\n",
    "        \"processed\": {\"train\":train_processed_target, \"val\":val_processed_target, \"test\":test_processed_target}\n",
    "    },\n",
    "})"
   ]
  },
  {
   "cell_type": "code",
   "execution_count": 20,
   "id": "5b3c01fc",
   "metadata": {
    "execution": {
     "iopub.execute_input": "2022-03-28T04:35:31.568609Z",
     "iopub.status.busy": "2022-03-28T04:35:31.568241Z",
     "iopub.status.idle": "2022-03-28T04:35:45.454106Z",
     "shell.execute_reply": "2022-03-28T04:35:45.453244Z"
    },
    "papermill": {
     "duration": 13.909976,
     "end_time": "2022-03-28T04:35:45.454283",
     "exception": false,
     "start_time": "2022-03-28T04:35:31.544307",
     "status": "completed"
    },
    "tags": []
   },
   "outputs": [
    {
     "name": "stdout",
     "output_type": "stream",
     "text": [
      "{'O_38', 'O_26', 'O_8', 'O_20', 'O_44', 'O_32', 'O_50', 'O_14'}\n"
     ]
    },
    {
     "name": "stdout",
     "output_type": "stream",
     "text": [
      "{'C_4', 'C_2', 'C_1', 'C_5', 'C_3'}\n"
     ]
    },
    {
     "name": "stdout",
     "output_type": "stream",
     "text": [
      "tensor([[[0., 0., 0.,  ..., 0., 0., 0.],\n",
      "         [0., 0., 0.,  ..., 0., 0., 0.]],\n",
      "\n",
      "        [[0., 0., 0.,  ..., 0., 0., 0.],\n",
      "         [0., 0., 0.,  ..., 0., 0., 0.]],\n",
      "\n",
      "        [[0., 0., 0.,  ..., 0., 0., 0.],\n",
      "         [0., 0., 0.,  ..., 0., 0., 0.]],\n",
      "\n",
      "        ...,\n",
      "\n",
      "        [[0., 0., 0.,  ..., 0., 0., 0.],\n",
      "         [0., 0., 0.,  ..., 0., 0., 0.]],\n",
      "\n",
      "        [[0., 0., 0.,  ..., 0., 0., 0.],\n",
      "         [0., 0., 0.,  ..., 0., 0., 0.]],\n",
      "\n",
      "        [[0., 0., 0.,  ..., 0., 0., 0.],\n",
      "         [0., 0., 0.,  ..., 0., 0., 0.]]])\n"
     ]
    }
   ],
   "source": [
    "from steves_utils.transforms import get_average_magnitude, get_average_power\n",
    "\n",
    "print(set([u for u,_ in val_original_source]))\n",
    "print(set([u for u,_ in val_original_target]))\n",
    "\n",
    "s_x, s_y, q_x, q_y, _ = next(iter(train_processed_source))\n",
    "print(s_x)\n",
    "\n",
    "# for ds in [\n",
    "#     train_processed_source,\n",
    "#     val_processed_source,\n",
    "#     test_processed_source,\n",
    "#     train_processed_target,\n",
    "#     val_processed_target,\n",
    "#     test_processed_target\n",
    "# ]:\n",
    "#     for s_x, s_y, q_x, q_y, _ in ds:\n",
    "#         for X in (s_x, q_x):\n",
    "#             for x in X:\n",
    "#                 assert np.isclose(get_average_magnitude(x.numpy()), 1.0)\n",
    "#                 assert np.isclose(get_average_power(x.numpy()), 1.0)\n",
    "                "
   ]
  },
  {
   "cell_type": "code",
   "execution_count": 21,
   "id": "bbdacba1",
   "metadata": {
    "execution": {
     "iopub.execute_input": "2022-03-28T04:35:45.516635Z",
     "iopub.status.busy": "2022-03-28T04:35:45.515566Z",
     "iopub.status.idle": "2022-03-28T04:35:45.687858Z",
     "shell.execute_reply": "2022-03-28T04:35:45.688529Z"
    },
    "papermill": {
     "duration": 0.203683,
     "end_time": "2022-03-28T04:35:45.688719",
     "exception": false,
     "start_time": "2022-03-28T04:35:45.485036",
     "status": "completed"
    },
    "tags": []
   },
   "outputs": [
    {
     "name": "stdout",
     "output_type": "stream",
     "text": [
      "(2, 256)\n"
     ]
    }
   ],
   "source": [
    "###################################\n",
    "# Build the model\n",
    "###################################\n",
    "# easfsl only wants a tuple for the shape\n",
    "model = Steves_Prototypical_Network(x_net, device=p.device, x_shape=tuple(p.x_shape))\n",
    "optimizer = Adam(params=model.parameters(), lr=p.lr)"
   ]
  },
  {
   "cell_type": "code",
   "execution_count": 22,
   "id": "22b39ac5",
   "metadata": {
    "execution": {
     "iopub.execute_input": "2022-03-28T04:35:45.781533Z",
     "iopub.status.busy": "2022-03-28T04:35:45.780977Z",
     "iopub.status.idle": "2022-03-28T05:12:16.643355Z",
     "shell.execute_reply": "2022-03-28T05:12:16.643019Z"
    },
    "papermill": {
     "duration": 2190.889258,
     "end_time": "2022-03-28T05:12:16.643438",
     "exception": false,
     "start_time": "2022-03-28T04:35:45.754180",
     "status": "completed"
    },
    "tags": []
   },
   "outputs": [
    {
     "name": "stdout",
     "output_type": "stream",
     "text": [
      "epoch: 1, [batch: 1 / 6720], examples_per_second: 33.5362, train_label_loss: 2.8521, \n"
     ]
    },
    {
     "name": "stdout",
     "output_type": "stream",
     "text": [
      "epoch: 1, [batch: 672 / 6720], examples_per_second: 4208.1806, train_label_loss: 1.2781, \n"
     ]
    },
    {
     "name": "stdout",
     "output_type": "stream",
     "text": [
      "epoch: 1, [batch: 1344 / 6720], examples_per_second: 4304.6504, train_label_loss: 0.8566, \n"
     ]
    },
    {
     "name": "stdout",
     "output_type": "stream",
     "text": [
      "epoch: 1, [batch: 2016 / 6720], examples_per_second: 4126.0710, train_label_loss: 0.8393, \n"
     ]
    },
    {
     "name": "stdout",
     "output_type": "stream",
     "text": [
      "epoch: 1, [batch: 2688 / 6720], examples_per_second: 3962.7807, train_label_loss: 0.5860, \n"
     ]
    },
    {
     "name": "stdout",
     "output_type": "stream",
     "text": [
      "epoch: 1, [batch: 3360 / 6720], examples_per_second: 3849.1626, train_label_loss: 0.9126, \n"
     ]
    },
    {
     "name": "stdout",
     "output_type": "stream",
     "text": [
      "epoch: 1, [batch: 4032 / 6720], examples_per_second: 3808.8467, train_label_loss: 0.9536, \n"
     ]
    },
    {
     "name": "stdout",
     "output_type": "stream",
     "text": [
      "epoch: 1, [batch: 4704 / 6720], examples_per_second: 3883.6801, train_label_loss: 0.6999, \n"
     ]
    },
    {
     "name": "stdout",
     "output_type": "stream",
     "text": [
      "epoch: 1, [batch: 5376 / 6720], examples_per_second: 3853.7148, train_label_loss: 0.6550, \n"
     ]
    },
    {
     "name": "stdout",
     "output_type": "stream",
     "text": [
      "epoch: 1, [batch: 6048 / 6720], examples_per_second: 3819.5127, train_label_loss: 0.8282, \n"
     ]
    },
    {
     "name": "stdout",
     "output_type": "stream",
     "text": [
      "=============================================================\n",
      "epoch: 1, source_val_acc_label: 0.6057, target_val_acc_label: 0.5461, source_val_label_loss: 2.9940, target_val_label_loss: 304.5567, \n",
      "=============================================================\n"
     ]
    },
    {
     "name": "stdout",
     "output_type": "stream",
     "text": [
      "New best\n"
     ]
    },
    {
     "name": "stdout",
     "output_type": "stream",
     "text": [
      "epoch: 2, [batch: 1 / 6720], examples_per_second: 3.9696, train_label_loss: 1.8322, \n"
     ]
    },
    {
     "name": "stdout",
     "output_type": "stream",
     "text": [
      "epoch: 2, [batch: 672 / 6720], examples_per_second: 4390.2984, train_label_loss: 0.8259, \n"
     ]
    },
    {
     "name": "stdout",
     "output_type": "stream",
     "text": [
      "epoch: 2, [batch: 1344 / 6720], examples_per_second: 4003.3367, train_label_loss: 1.3935, \n"
     ]
    },
    {
     "name": "stdout",
     "output_type": "stream",
     "text": [
      "epoch: 2, [batch: 2016 / 6720], examples_per_second: 3830.5969, train_label_loss: 0.6408, \n"
     ]
    },
    {
     "name": "stdout",
     "output_type": "stream",
     "text": [
      "epoch: 2, [batch: 2688 / 6720], examples_per_second: 3961.5719, train_label_loss: 0.8026, \n"
     ]
    },
    {
     "name": "stdout",
     "output_type": "stream",
     "text": [
      "epoch: 2, [batch: 3360 / 6720], examples_per_second: 3993.2893, train_label_loss: 0.7780, \n"
     ]
    },
    {
     "name": "stdout",
     "output_type": "stream",
     "text": [
      "epoch: 2, [batch: 4032 / 6720], examples_per_second: 4053.7110, train_label_loss: 0.7028, \n"
     ]
    },
    {
     "name": "stdout",
     "output_type": "stream",
     "text": [
      "epoch: 2, [batch: 4704 / 6720], examples_per_second: 3945.7240, train_label_loss: 0.5729, \n"
     ]
    },
    {
     "name": "stdout",
     "output_type": "stream",
     "text": [
      "epoch: 2, [batch: 5376 / 6720], examples_per_second: 4024.1671, train_label_loss: 1.3607, \n"
     ]
    },
    {
     "name": "stdout",
     "output_type": "stream",
     "text": [
      "epoch: 2, [batch: 6048 / 6720], examples_per_second: 4065.6636, train_label_loss: 0.8741, \n"
     ]
    },
    {
     "name": "stdout",
     "output_type": "stream",
     "text": [
      "=============================================================\n",
      "epoch: 2, source_val_acc_label: 0.6665, target_val_acc_label: 0.5688, source_val_label_loss: 0.9066, target_val_label_loss: 211.2431, \n",
      "=============================================================\n"
     ]
    },
    {
     "name": "stdout",
     "output_type": "stream",
     "text": [
      "New best\n"
     ]
    },
    {
     "name": "stdout",
     "output_type": "stream",
     "text": [
      "epoch: 3, [batch: 1 / 6720], examples_per_second: 4.0834, train_label_loss: 1.2189, \n"
     ]
    },
    {
     "name": "stdout",
     "output_type": "stream",
     "text": [
      "epoch: 3, [batch: 672 / 6720], examples_per_second: 4434.1802, train_label_loss: 0.7238, \n"
     ]
    },
    {
     "name": "stdout",
     "output_type": "stream",
     "text": [
      "epoch: 3, [batch: 1344 / 6720], examples_per_second: 3949.7125, train_label_loss: 1.0395, \n"
     ]
    },
    {
     "name": "stdout",
     "output_type": "stream",
     "text": [
      "epoch: 3, [batch: 2016 / 6720], examples_per_second: 3989.5461, train_label_loss: 0.9105, \n"
     ]
    },
    {
     "name": "stdout",
     "output_type": "stream",
     "text": [
      "epoch: 3, [batch: 2688 / 6720], examples_per_second: 3911.3185, train_label_loss: 0.7989, \n"
     ]
    },
    {
     "name": "stdout",
     "output_type": "stream",
     "text": [
      "epoch: 3, [batch: 3360 / 6720], examples_per_second: 4000.5760, train_label_loss: 0.7570, \n"
     ]
    },
    {
     "name": "stdout",
     "output_type": "stream",
     "text": [
      "epoch: 3, [batch: 4032 / 6720], examples_per_second: 3995.3776, train_label_loss: 0.8360, \n"
     ]
    },
    {
     "name": "stdout",
     "output_type": "stream",
     "text": [
      "epoch: 3, [batch: 4704 / 6720], examples_per_second: 3787.6098, train_label_loss: 0.7075, \n"
     ]
    },
    {
     "name": "stdout",
     "output_type": "stream",
     "text": [
      "epoch: 3, [batch: 5376 / 6720], examples_per_second: 3956.0025, train_label_loss: 0.5107, \n"
     ]
    },
    {
     "name": "stdout",
     "output_type": "stream",
     "text": [
      "epoch: 3, [batch: 6048 / 6720], examples_per_second: 3984.0494, train_label_loss: 1.1808, \n"
     ]
    },
    {
     "name": "stdout",
     "output_type": "stream",
     "text": [
      "=============================================================\n",
      "epoch: 3, source_val_acc_label: 0.6834, target_val_acc_label: 0.6062, source_val_label_loss: 0.8400, target_val_label_loss: 227.9452, \n",
      "=============================================================\n"
     ]
    },
    {
     "name": "stdout",
     "output_type": "stream",
     "text": [
      "New best\n"
     ]
    },
    {
     "name": "stdout",
     "output_type": "stream",
     "text": [
      "epoch: 4, [batch: 1 / 6720], examples_per_second: 4.0817, train_label_loss: 0.6612, \n"
     ]
    },
    {
     "name": "stdout",
     "output_type": "stream",
     "text": [
      "epoch: 4, [batch: 672 / 6720], examples_per_second: 4398.2555, train_label_loss: 0.5342, \n"
     ]
    },
    {
     "name": "stdout",
     "output_type": "stream",
     "text": [
      "epoch: 4, [batch: 1344 / 6720], examples_per_second: 4006.6391, train_label_loss: 0.4957, \n"
     ]
    },
    {
     "name": "stdout",
     "output_type": "stream",
     "text": [
      "epoch: 4, [batch: 2016 / 6720], examples_per_second: 3970.2587, train_label_loss: 0.5086, \n"
     ]
    },
    {
     "name": "stdout",
     "output_type": "stream",
     "text": [
      "epoch: 4, [batch: 2688 / 6720], examples_per_second: 3986.1571, train_label_loss: 0.7537, \n"
     ]
    },
    {
     "name": "stdout",
     "output_type": "stream",
     "text": [
      "epoch: 4, [batch: 3360 / 6720], examples_per_second: 4030.7541, train_label_loss: 0.5440, \n"
     ]
    },
    {
     "name": "stdout",
     "output_type": "stream",
     "text": [
      "epoch: 4, [batch: 4032 / 6720], examples_per_second: 3911.7577, train_label_loss: 0.9748, \n"
     ]
    },
    {
     "name": "stdout",
     "output_type": "stream",
     "text": [
      "epoch: 4, [batch: 4704 / 6720], examples_per_second: 3872.8824, train_label_loss: 0.7656, \n"
     ]
    },
    {
     "name": "stdout",
     "output_type": "stream",
     "text": [
      "epoch: 4, [batch: 5376 / 6720], examples_per_second: 3938.2622, train_label_loss: 0.5877, \n"
     ]
    },
    {
     "name": "stdout",
     "output_type": "stream",
     "text": [
      "epoch: 4, [batch: 6048 / 6720], examples_per_second: 3923.1618, train_label_loss: 0.4382, \n"
     ]
    },
    {
     "name": "stdout",
     "output_type": "stream",
     "text": [
      "=============================================================\n",
      "epoch: 4, source_val_acc_label: 0.7565, target_val_acc_label: 0.5931, source_val_label_loss: 0.6623, target_val_label_loss: 253.1060, \n",
      "=============================================================\n"
     ]
    },
    {
     "name": "stdout",
     "output_type": "stream",
     "text": [
      "epoch: 5, [batch: 1 / 6720], examples_per_second: 4.2055, train_label_loss: 0.8769, \n"
     ]
    },
    {
     "name": "stdout",
     "output_type": "stream",
     "text": [
      "epoch: 5, [batch: 672 / 6720], examples_per_second: 4285.4370, train_label_loss: 0.8200, \n"
     ]
    },
    {
     "name": "stdout",
     "output_type": "stream",
     "text": [
      "epoch: 5, [batch: 1344 / 6720], examples_per_second: 3866.4040, train_label_loss: 0.6602, \n"
     ]
    },
    {
     "name": "stdout",
     "output_type": "stream",
     "text": [
      "epoch: 5, [batch: 2016 / 6720], examples_per_second: 3853.6764, train_label_loss: 1.2327, \n"
     ]
    },
    {
     "name": "stdout",
     "output_type": "stream",
     "text": [
      "epoch: 5, [batch: 2688 / 6720], examples_per_second: 3810.2661, train_label_loss: 0.8084, \n"
     ]
    },
    {
     "name": "stdout",
     "output_type": "stream",
     "text": [
      "epoch: 5, [batch: 3360 / 6720], examples_per_second: 4002.6468, train_label_loss: 1.3346, \n"
     ]
    },
    {
     "name": "stdout",
     "output_type": "stream",
     "text": [
      "epoch: 5, [batch: 4032 / 6720], examples_per_second: 3965.6398, train_label_loss: 0.4360, \n"
     ]
    },
    {
     "name": "stdout",
     "output_type": "stream",
     "text": [
      "epoch: 5, [batch: 4704 / 6720], examples_per_second: 3889.9632, train_label_loss: 0.5478, \n"
     ]
    },
    {
     "name": "stdout",
     "output_type": "stream",
     "text": [
      "epoch: 5, [batch: 5376 / 6720], examples_per_second: 3858.9908, train_label_loss: 0.4443, \n"
     ]
    },
    {
     "name": "stdout",
     "output_type": "stream",
     "text": [
      "epoch: 5, [batch: 6048 / 6720], examples_per_second: 3909.6706, train_label_loss: 0.5601, \n"
     ]
    },
    {
     "name": "stdout",
     "output_type": "stream",
     "text": [
      "=============================================================\n",
      "epoch: 5, source_val_acc_label: 0.7214, target_val_acc_label: 0.6091, source_val_label_loss: 0.7909, target_val_label_loss: 267.6843, \n",
      "=============================================================\n"
     ]
    },
    {
     "name": "stdout",
     "output_type": "stream",
     "text": [
      "New best\n"
     ]
    },
    {
     "name": "stdout",
     "output_type": "stream",
     "text": [
      "epoch: 6, [batch: 1 / 6720], examples_per_second: 4.1428, train_label_loss: 0.4778, \n"
     ]
    },
    {
     "name": "stdout",
     "output_type": "stream",
     "text": [
      "epoch: 6, [batch: 672 / 6720], examples_per_second: 4208.2743, train_label_loss: 0.2867, \n"
     ]
    },
    {
     "name": "stdout",
     "output_type": "stream",
     "text": [
      "epoch: 6, [batch: 1344 / 6720], examples_per_second: 3900.9176, train_label_loss: 0.4818, \n"
     ]
    },
    {
     "name": "stdout",
     "output_type": "stream",
     "text": [
      "epoch: 6, [batch: 2016 / 6720], examples_per_second: 3927.4785, train_label_loss: 0.7279, \n"
     ]
    },
    {
     "name": "stdout",
     "output_type": "stream",
     "text": [
      "epoch: 6, [batch: 2688 / 6720], examples_per_second: 3917.6273, train_label_loss: 0.3859, \n"
     ]
    },
    {
     "name": "stdout",
     "output_type": "stream",
     "text": [
      "epoch: 6, [batch: 3360 / 6720], examples_per_second: 3949.5751, train_label_loss: 0.6132, \n"
     ]
    },
    {
     "name": "stdout",
     "output_type": "stream",
     "text": [
      "epoch: 6, [batch: 4032 / 6720], examples_per_second: 3972.1414, train_label_loss: 0.7060, \n"
     ]
    },
    {
     "name": "stdout",
     "output_type": "stream",
     "text": [
      "epoch: 6, [batch: 4704 / 6720], examples_per_second: 3991.4686, train_label_loss: 0.8345, \n"
     ]
    },
    {
     "name": "stdout",
     "output_type": "stream",
     "text": [
      "epoch: 6, [batch: 5376 / 6720], examples_per_second: 3954.0941, train_label_loss: 0.5715, \n"
     ]
    },
    {
     "name": "stdout",
     "output_type": "stream",
     "text": [
      "epoch: 6, [batch: 6048 / 6720], examples_per_second: 3888.5973, train_label_loss: 0.4043, \n"
     ]
    },
    {
     "name": "stdout",
     "output_type": "stream",
     "text": [
      "=============================================================\n",
      "epoch: 6, source_val_acc_label: 0.7939, target_val_acc_label: 0.6158, source_val_label_loss: 0.5648, target_val_label_loss: 257.2500, \n",
      "=============================================================\n"
     ]
    },
    {
     "name": "stdout",
     "output_type": "stream",
     "text": [
      "New best\n"
     ]
    },
    {
     "name": "stdout",
     "output_type": "stream",
     "text": [
      "epoch: 7, [batch: 1 / 6720], examples_per_second: 4.1829, train_label_loss: 0.3124, \n"
     ]
    },
    {
     "name": "stdout",
     "output_type": "stream",
     "text": [
      "epoch: 7, [batch: 672 / 6720], examples_per_second: 4166.4358, train_label_loss: 0.3394, \n"
     ]
    },
    {
     "name": "stdout",
     "output_type": "stream",
     "text": [
      "epoch: 7, [batch: 1344 / 6720], examples_per_second: 3781.6483, train_label_loss: 0.3086, \n"
     ]
    },
    {
     "name": "stdout",
     "output_type": "stream",
     "text": [
      "epoch: 7, [batch: 2016 / 6720], examples_per_second: 3814.8131, train_label_loss: 0.3441, \n"
     ]
    },
    {
     "name": "stdout",
     "output_type": "stream",
     "text": [
      "epoch: 7, [batch: 2688 / 6720], examples_per_second: 3796.7014, train_label_loss: 0.2261, \n"
     ]
    },
    {
     "name": "stdout",
     "output_type": "stream",
     "text": [
      "epoch: 7, [batch: 3360 / 6720], examples_per_second: 3942.6915, train_label_loss: 0.0883, \n"
     ]
    },
    {
     "name": "stdout",
     "output_type": "stream",
     "text": [
      "epoch: 7, [batch: 4032 / 6720], examples_per_second: 3954.8391, train_label_loss: 0.3863, \n"
     ]
    },
    {
     "name": "stdout",
     "output_type": "stream",
     "text": [
      "epoch: 7, [batch: 4704 / 6720], examples_per_second: 3953.0176, train_label_loss: 0.4205, \n"
     ]
    },
    {
     "name": "stdout",
     "output_type": "stream",
     "text": [
      "epoch: 7, [batch: 5376 / 6720], examples_per_second: 3954.8736, train_label_loss: 0.5298, \n"
     ]
    },
    {
     "name": "stdout",
     "output_type": "stream",
     "text": [
      "epoch: 7, [batch: 6048 / 6720], examples_per_second: 3913.4422, train_label_loss: 0.3960, \n"
     ]
    },
    {
     "name": "stdout",
     "output_type": "stream",
     "text": [
      "=============================================================\n",
      "epoch: 7, source_val_acc_label: 0.7900, target_val_acc_label: 0.6025, source_val_label_loss: 0.5760, target_val_label_loss: 341.1588, \n",
      "=============================================================\n"
     ]
    },
    {
     "name": "stdout",
     "output_type": "stream",
     "text": [
      "epoch: 8, [batch: 1 / 6720], examples_per_second: 4.2851, train_label_loss: 0.5876, \n"
     ]
    },
    {
     "name": "stdout",
     "output_type": "stream",
     "text": [
      "epoch: 8, [batch: 672 / 6720], examples_per_second: 4109.3256, train_label_loss: 0.3888, \n"
     ]
    },
    {
     "name": "stdout",
     "output_type": "stream",
     "text": [
      "epoch: 8, [batch: 1344 / 6720], examples_per_second: 3925.7117, train_label_loss: 0.2237, \n"
     ]
    },
    {
     "name": "stdout",
     "output_type": "stream",
     "text": [
      "epoch: 8, [batch: 2016 / 6720], examples_per_second: 4007.0911, train_label_loss: 0.8592, \n"
     ]
    },
    {
     "name": "stdout",
     "output_type": "stream",
     "text": [
      "epoch: 8, [batch: 2688 / 6720], examples_per_second: 3779.6538, train_label_loss: 0.3528, \n"
     ]
    },
    {
     "name": "stdout",
     "output_type": "stream",
     "text": [
      "epoch: 8, [batch: 3360 / 6720], examples_per_second: 3847.0573, train_label_loss: 1.0621, \n"
     ]
    },
    {
     "name": "stdout",
     "output_type": "stream",
     "text": [
      "epoch: 8, [batch: 4032 / 6720], examples_per_second: 3884.4998, train_label_loss: 0.6159, \n"
     ]
    },
    {
     "name": "stdout",
     "output_type": "stream",
     "text": [
      "epoch: 8, [batch: 4704 / 6720], examples_per_second: 3848.7745, train_label_loss: 0.2228, \n"
     ]
    },
    {
     "name": "stdout",
     "output_type": "stream",
     "text": [
      "epoch: 8, [batch: 5376 / 6720], examples_per_second: 3932.5186, train_label_loss: 0.2002, \n"
     ]
    },
    {
     "name": "stdout",
     "output_type": "stream",
     "text": [
      "epoch: 8, [batch: 6048 / 6720], examples_per_second: 3842.4160, train_label_loss: 0.5711, \n"
     ]
    },
    {
     "name": "stdout",
     "output_type": "stream",
     "text": [
      "=============================================================\n",
      "epoch: 8, source_val_acc_label: 0.8229, target_val_acc_label: 0.5847, source_val_label_loss: 0.4843, target_val_label_loss: 482.3677, \n",
      "=============================================================\n"
     ]
    },
    {
     "name": "stdout",
     "output_type": "stream",
     "text": [
      "epoch: 9, [batch: 1 / 6720], examples_per_second: 4.2214, train_label_loss: 0.5054, \n"
     ]
    },
    {
     "name": "stdout",
     "output_type": "stream",
     "text": [
      "epoch: 9, [batch: 672 / 6720], examples_per_second: 4205.0881, train_label_loss: 0.7674, \n"
     ]
    },
    {
     "name": "stdout",
     "output_type": "stream",
     "text": [
      "epoch: 9, [batch: 1344 / 6720], examples_per_second: 4329.1169, train_label_loss: 0.2607, \n"
     ]
    },
    {
     "name": "stdout",
     "output_type": "stream",
     "text": [
      "epoch: 9, [batch: 2016 / 6720], examples_per_second: 4433.2063, train_label_loss: 0.3921, \n"
     ]
    },
    {
     "name": "stdout",
     "output_type": "stream",
     "text": [
      "epoch: 9, [batch: 2688 / 6720], examples_per_second: 4401.6179, train_label_loss: 0.4966, \n"
     ]
    },
    {
     "name": "stdout",
     "output_type": "stream",
     "text": [
      "epoch: 9, [batch: 3360 / 6720], examples_per_second: 4428.7146, train_label_loss: 0.8153, \n"
     ]
    },
    {
     "name": "stdout",
     "output_type": "stream",
     "text": [
      "epoch: 9, [batch: 4032 / 6720], examples_per_second: 4302.3895, train_label_loss: 0.1942, \n"
     ]
    },
    {
     "name": "stdout",
     "output_type": "stream",
     "text": [
      "epoch: 9, [batch: 4704 / 6720], examples_per_second: 4740.7542, train_label_loss: 0.4009, \n"
     ]
    },
    {
     "name": "stdout",
     "output_type": "stream",
     "text": [
      "epoch: 9, [batch: 5376 / 6720], examples_per_second: 4846.2324, train_label_loss: 0.2046, \n"
     ]
    },
    {
     "name": "stdout",
     "output_type": "stream",
     "text": [
      "epoch: 9, [batch: 6048 / 6720], examples_per_second: 5032.3757, train_label_loss: 0.3272, \n"
     ]
    },
    {
     "name": "stdout",
     "output_type": "stream",
     "text": [
      "=============================================================\n",
      "epoch: 9, source_val_acc_label: 0.8047, target_val_acc_label: 0.5823, source_val_label_loss: 0.5293, target_val_label_loss: 536.2638, \n",
      "=============================================================\n"
     ]
    },
    {
     "name": "stdout",
     "output_type": "stream",
     "text": [
      "epoch: 10, [batch: 1 / 6720], examples_per_second: 5.2885, train_label_loss: 0.2831, \n"
     ]
    },
    {
     "name": "stdout",
     "output_type": "stream",
     "text": [
      "epoch: 10, [batch: 672 / 6720], examples_per_second: 5181.3216, train_label_loss: 0.5059, \n"
     ]
    },
    {
     "name": "stdout",
     "output_type": "stream",
     "text": [
      "epoch: 10, [batch: 1344 / 6720], examples_per_second: 5084.0126, train_label_loss: 0.3365, \n"
     ]
    },
    {
     "name": "stdout",
     "output_type": "stream",
     "text": [
      "epoch: 10, [batch: 2016 / 6720], examples_per_second: 4919.3413, train_label_loss: 0.3576, \n"
     ]
    },
    {
     "name": "stdout",
     "output_type": "stream",
     "text": [
      "epoch: 10, [batch: 2688 / 6720], examples_per_second: 5197.9972, train_label_loss: 0.2222, \n"
     ]
    },
    {
     "name": "stdout",
     "output_type": "stream",
     "text": [
      "epoch: 10, [batch: 3360 / 6720], examples_per_second: 5408.1421, train_label_loss: 0.3916, \n"
     ]
    },
    {
     "name": "stdout",
     "output_type": "stream",
     "text": [
      "epoch: 10, [batch: 4032 / 6720], examples_per_second: 5208.3518, train_label_loss: 0.5215, \n"
     ]
    },
    {
     "name": "stdout",
     "output_type": "stream",
     "text": [
      "epoch: 10, [batch: 4704 / 6720], examples_per_second: 5065.7571, train_label_loss: 0.3387, \n"
     ]
    },
    {
     "name": "stdout",
     "output_type": "stream",
     "text": [
      "epoch: 10, [batch: 5376 / 6720], examples_per_second: 4919.3755, train_label_loss: 0.1700, \n"
     ]
    },
    {
     "name": "stdout",
     "output_type": "stream",
     "text": [
      "epoch: 10, [batch: 6048 / 6720], examples_per_second: 4982.0517, train_label_loss: 0.1871, \n"
     ]
    },
    {
     "name": "stdout",
     "output_type": "stream",
     "text": [
      "=============================================================\n",
      "epoch: 10, source_val_acc_label: 0.8107, target_val_acc_label: 0.6847, source_val_label_loss: 0.5045, target_val_label_loss: 245.0791, \n",
      "=============================================================\n"
     ]
    },
    {
     "name": "stdout",
     "output_type": "stream",
     "text": [
      "New best\n"
     ]
    },
    {
     "name": "stdout",
     "output_type": "stream",
     "text": [
      "epoch: 11, [batch: 1 / 6720], examples_per_second: 5.2993, train_label_loss: 0.3846, \n"
     ]
    },
    {
     "name": "stdout",
     "output_type": "stream",
     "text": [
      "epoch: 11, [batch: 672 / 6720], examples_per_second: 3771.3664, train_label_loss: 0.6624, \n"
     ]
    },
    {
     "name": "stdout",
     "output_type": "stream",
     "text": [
      "epoch: 11, [batch: 1344 / 6720], examples_per_second: 3892.5245, train_label_loss: 0.2861, \n"
     ]
    },
    {
     "name": "stdout",
     "output_type": "stream",
     "text": [
      "epoch: 11, [batch: 2016 / 6720], examples_per_second: 3930.3796, train_label_loss: 0.5407, \n"
     ]
    },
    {
     "name": "stdout",
     "output_type": "stream",
     "text": [
      "epoch: 11, [batch: 2688 / 6720], examples_per_second: 3851.4681, train_label_loss: 0.3811, \n"
     ]
    },
    {
     "name": "stdout",
     "output_type": "stream",
     "text": [
      "epoch: 11, [batch: 3360 / 6720], examples_per_second: 3918.8911, train_label_loss: 0.8673, \n"
     ]
    },
    {
     "name": "stdout",
     "output_type": "stream",
     "text": [
      "epoch: 11, [batch: 4032 / 6720], examples_per_second: 3867.6943, train_label_loss: 0.7096, \n"
     ]
    },
    {
     "name": "stdout",
     "output_type": "stream",
     "text": [
      "epoch: 11, [batch: 4704 / 6720], examples_per_second: 3832.3334, train_label_loss: 0.1926, \n"
     ]
    },
    {
     "name": "stdout",
     "output_type": "stream",
     "text": [
      "epoch: 11, [batch: 5376 / 6720], examples_per_second: 3880.1610, train_label_loss: 0.4563, \n"
     ]
    },
    {
     "name": "stdout",
     "output_type": "stream",
     "text": [
      "epoch: 11, [batch: 6048 / 6720], examples_per_second: 3936.8349, train_label_loss: 0.9625, \n"
     ]
    },
    {
     "name": "stdout",
     "output_type": "stream",
     "text": [
      "=============================================================\n",
      "epoch: 11, source_val_acc_label: 0.8412, target_val_acc_label: 0.6460, source_val_label_loss: 0.4355, target_val_label_loss: 415.8568, \n",
      "=============================================================\n"
     ]
    },
    {
     "name": "stdout",
     "output_type": "stream",
     "text": [
      "epoch: 12, [batch: 1 / 6720], examples_per_second: 4.4764, train_label_loss: 0.4030, \n"
     ]
    },
    {
     "name": "stdout",
     "output_type": "stream",
     "text": [
      "epoch: 12, [batch: 672 / 6720], examples_per_second: 3889.9416, train_label_loss: 0.2995, \n"
     ]
    },
    {
     "name": "stdout",
     "output_type": "stream",
     "text": [
      "epoch: 12, [batch: 1344 / 6720], examples_per_second: 3960.7863, train_label_loss: 0.6299, \n"
     ]
    },
    {
     "name": "stdout",
     "output_type": "stream",
     "text": [
      "epoch: 12, [batch: 2016 / 6720], examples_per_second: 3979.2620, train_label_loss: 0.3380, \n"
     ]
    },
    {
     "name": "stdout",
     "output_type": "stream",
     "text": [
      "epoch: 12, [batch: 2688 / 6720], examples_per_second: 3862.2002, train_label_loss: 0.3526, \n"
     ]
    },
    {
     "name": "stdout",
     "output_type": "stream",
     "text": [
      "epoch: 12, [batch: 3360 / 6720], examples_per_second: 3901.3546, train_label_loss: 0.5162, \n"
     ]
    },
    {
     "name": "stdout",
     "output_type": "stream",
     "text": [
      "epoch: 12, [batch: 4032 / 6720], examples_per_second: 3960.1977, train_label_loss: 0.3527, \n"
     ]
    },
    {
     "name": "stdout",
     "output_type": "stream",
     "text": [
      "epoch: 12, [batch: 4704 / 6720], examples_per_second: 3993.1140, train_label_loss: 0.3563, \n"
     ]
    },
    {
     "name": "stdout",
     "output_type": "stream",
     "text": [
      "epoch: 12, [batch: 5376 / 6720], examples_per_second: 3891.8767, train_label_loss: 0.4643, \n"
     ]
    },
    {
     "name": "stdout",
     "output_type": "stream",
     "text": [
      "epoch: 12, [batch: 6048 / 6720], examples_per_second: 3818.6339, train_label_loss: 0.1170, \n"
     ]
    },
    {
     "name": "stdout",
     "output_type": "stream",
     "text": [
      "=============================================================\n",
      "epoch: 12, source_val_acc_label: 0.8353, target_val_acc_label: 0.6049, source_val_label_loss: 0.4502, target_val_label_loss: 539.3252, \n",
      "=============================================================\n"
     ]
    },
    {
     "name": "stdout",
     "output_type": "stream",
     "text": [
      "epoch: 13, [batch: 1 / 6720], examples_per_second: 4.3476, train_label_loss: 0.1342, \n"
     ]
    },
    {
     "name": "stdout",
     "output_type": "stream",
     "text": [
      "epoch: 13, [batch: 672 / 6720], examples_per_second: 3755.5623, train_label_loss: 0.8123, \n"
     ]
    },
    {
     "name": "stdout",
     "output_type": "stream",
     "text": [
      "epoch: 13, [batch: 1344 / 6720], examples_per_second: 3872.8496, train_label_loss: 0.2355, \n"
     ]
    },
    {
     "name": "stdout",
     "output_type": "stream",
     "text": [
      "epoch: 13, [batch: 2016 / 6720], examples_per_second: 3906.7316, train_label_loss: 0.5099, \n"
     ]
    },
    {
     "name": "stdout",
     "output_type": "stream",
     "text": [
      "epoch: 13, [batch: 2688 / 6720], examples_per_second: 3949.2616, train_label_loss: 0.3468, \n"
     ]
    },
    {
     "name": "stdout",
     "output_type": "stream",
     "text": [
      "epoch: 13, [batch: 3360 / 6720], examples_per_second: 3921.3305, train_label_loss: 0.2575, \n"
     ]
    },
    {
     "name": "stdout",
     "output_type": "stream",
     "text": [
      "epoch: 13, [batch: 4032 / 6720], examples_per_second: 3812.6423, train_label_loss: 0.4587, \n"
     ]
    },
    {
     "name": "stdout",
     "output_type": "stream",
     "text": [
      "epoch: 13, [batch: 4704 / 6720], examples_per_second: 3867.6384, train_label_loss: 0.3483, \n"
     ]
    },
    {
     "name": "stdout",
     "output_type": "stream",
     "text": [
      "epoch: 13, [batch: 5376 / 6720], examples_per_second: 3883.2008, train_label_loss: 0.3405, \n"
     ]
    },
    {
     "name": "stdout",
     "output_type": "stream",
     "text": [
      "epoch: 13, [batch: 6048 / 6720], examples_per_second: 3940.9335, train_label_loss: 0.3282, \n"
     ]
    },
    {
     "name": "stdout",
     "output_type": "stream",
     "text": [
      "=============================================================\n",
      "epoch: 13, source_val_acc_label: 0.8474, target_val_acc_label: 0.5852, source_val_label_loss: 0.4202, target_val_label_loss: 668.5489, \n",
      "=============================================================\n"
     ]
    },
    {
     "name": "stdout",
     "output_type": "stream",
     "text": [
      "epoch: 14, [batch: 1 / 6720], examples_per_second: 4.4113, train_label_loss: 0.3385, \n"
     ]
    },
    {
     "name": "stdout",
     "output_type": "stream",
     "text": [
      "epoch: 14, [batch: 672 / 6720], examples_per_second: 3937.2240, train_label_loss: 0.4080, \n"
     ]
    },
    {
     "name": "stdout",
     "output_type": "stream",
     "text": [
      "epoch: 14, [batch: 1344 / 6720], examples_per_second: 3926.1860, train_label_loss: 1.1152, \n"
     ]
    },
    {
     "name": "stdout",
     "output_type": "stream",
     "text": [
      "epoch: 14, [batch: 2016 / 6720], examples_per_second: 4000.3654, train_label_loss: 0.2780, \n"
     ]
    },
    {
     "name": "stdout",
     "output_type": "stream",
     "text": [
      "epoch: 14, [batch: 2688 / 6720], examples_per_second: 3883.9257, train_label_loss: 0.4922, \n"
     ]
    },
    {
     "name": "stdout",
     "output_type": "stream",
     "text": [
      "epoch: 14, [batch: 3360 / 6720], examples_per_second: 3809.1935, train_label_loss: 0.2848, \n"
     ]
    },
    {
     "name": "stdout",
     "output_type": "stream",
     "text": [
      "epoch: 14, [batch: 4032 / 6720], examples_per_second: 3822.8966, train_label_loss: 0.1247, \n"
     ]
    },
    {
     "name": "stdout",
     "output_type": "stream",
     "text": [
      "epoch: 14, [batch: 4704 / 6720], examples_per_second: 3961.6792, train_label_loss: 0.3219, \n"
     ]
    },
    {
     "name": "stdout",
     "output_type": "stream",
     "text": [
      "epoch: 14, [batch: 5376 / 6720], examples_per_second: 3981.7411, train_label_loss: 0.4890, \n"
     ]
    },
    {
     "name": "stdout",
     "output_type": "stream",
     "text": [
      "epoch: 14, [batch: 6048 / 6720], examples_per_second: 3942.9388, train_label_loss: 0.3040, \n"
     ]
    },
    {
     "name": "stdout",
     "output_type": "stream",
     "text": [
      "=============================================================\n",
      "epoch: 14, source_val_acc_label: 0.8405, target_val_acc_label: 0.5685, source_val_label_loss: 0.4361, target_val_label_loss: 819.5718, \n",
      "=============================================================\n"
     ]
    },
    {
     "name": "stdout",
     "output_type": "stream",
     "text": [
      "Patience (3) exhausted\n"
     ]
    }
   ],
   "source": [
    "###################################\n",
    "# train\n",
    "###################################\n",
    "jig = PTN_Train_Eval_Test_Jig(model, p.BEST_MODEL_PATH, p.device)\n",
    "\n",
    "jig.train(\n",
    "    train_iterable=datasets.source.processed.train,\n",
    "    source_val_iterable=datasets.source.processed.val,\n",
    "    target_val_iterable=datasets.target.processed.val,\n",
    "    num_epochs=p.n_epoch,\n",
    "    num_logs_per_epoch=p.NUM_LOGS_PER_EPOCH,\n",
    "    patience=p.patience,\n",
    "    optimizer=optimizer,\n",
    "    criteria_for_best=p.criteria_for_best,\n",
    ")"
   ]
  },
  {
   "cell_type": "code",
   "execution_count": 23,
   "id": "31e8fabf",
   "metadata": {
    "execution": {
     "iopub.execute_input": "2022-03-28T05:12:16.779830Z",
     "iopub.status.busy": "2022-03-28T05:12:16.779364Z",
     "iopub.status.idle": "2022-03-28T05:12:16.811470Z",
     "shell.execute_reply": "2022-03-28T05:12:16.810657Z"
    },
    "papermill": {
     "duration": 0.102335,
     "end_time": "2022-03-28T05:12:16.811658",
     "exception": false,
     "start_time": "2022-03-28T05:12:16.709323",
     "status": "completed"
    },
    "tags": []
   },
   "outputs": [],
   "source": [
    "total_experiment_time_secs = time.time() - start_time_secs"
   ]
  },
  {
   "cell_type": "code",
   "execution_count": 24,
   "id": "87b9595b",
   "metadata": {
    "execution": {
     "iopub.execute_input": "2022-03-28T05:12:16.960622Z",
     "iopub.status.busy": "2022-03-28T05:12:16.959725Z",
     "iopub.status.idle": "2022-03-28T05:15:00.362233Z",
     "shell.execute_reply": "2022-03-28T05:15:00.361376Z"
    },
    "papermill": {
     "duration": 163.47909,
     "end_time": "2022-03-28T05:15:00.362411",
     "exception": false,
     "start_time": "2022-03-28T05:12:16.883321",
     "status": "completed"
    },
    "tags": []
   },
   "outputs": [],
   "source": [
    "###################################\n",
    "# Evaluate the model\n",
    "###################################\n",
    "source_test_label_accuracy, source_test_label_loss = jig.test(datasets.source.processed.test)\n",
    "target_test_label_accuracy, target_test_label_loss = jig.test(datasets.target.processed.test)\n",
    "\n",
    "source_val_label_accuracy, source_val_label_loss = jig.test(datasets.source.processed.val)\n",
    "target_val_label_accuracy, target_val_label_loss = jig.test(datasets.target.processed.val)\n",
    "\n",
    "history = jig.get_history()\n",
    "\n",
    "total_epochs_trained = len(history[\"epoch_indices\"])\n",
    "\n",
    "val_dl = Iterable_Aggregator((datasets.source.original.val,datasets.target.original.val))\n",
    "\n",
    "confusion = ptn_confusion_by_domain_over_dataloader(model, p.device, val_dl)\n",
    "per_domain_accuracy = per_domain_accuracy_from_confusion(confusion)\n",
    "\n",
    "# Add a key to per_domain_accuracy for if it was a source domain\n",
    "for domain, accuracy in per_domain_accuracy.items():\n",
    "    per_domain_accuracy[domain] = {\n",
    "        \"accuracy\": accuracy,\n",
    "        \"source?\": domain in p.domains_source\n",
    "    }\n",
    "\n",
    "# Do an independent accuracy assesment JUST TO BE SURE!\n",
    "# _source_test_label_accuracy = independent_accuracy_assesment(model, datasets.source.processed.test, p.device)\n",
    "# _target_test_label_accuracy = independent_accuracy_assesment(model, datasets.target.processed.test, p.device)\n",
    "# _source_val_label_accuracy = independent_accuracy_assesment(model, datasets.source.processed.val, p.device)\n",
    "# _target_val_label_accuracy = independent_accuracy_assesment(model, datasets.target.processed.val, p.device)\n",
    "\n",
    "# assert(_source_test_label_accuracy == source_test_label_accuracy)\n",
    "# assert(_target_test_label_accuracy == target_test_label_accuracy)\n",
    "# assert(_source_val_label_accuracy == source_val_label_accuracy)\n",
    "# assert(_target_val_label_accuracy == target_val_label_accuracy)\n",
    "\n",
    "experiment = {\n",
    "    \"experiment_name\": p.experiment_name,\n",
    "    \"parameters\": dict(p),\n",
    "    \"results\": {\n",
    "        \"source_test_label_accuracy\": source_test_label_accuracy,\n",
    "        \"source_test_label_loss\": source_test_label_loss,\n",
    "        \"target_test_label_accuracy\": target_test_label_accuracy,\n",
    "        \"target_test_label_loss\": target_test_label_loss,\n",
    "        \"source_val_label_accuracy\": source_val_label_accuracy,\n",
    "        \"source_val_label_loss\": source_val_label_loss,\n",
    "        \"target_val_label_accuracy\": target_val_label_accuracy,\n",
    "        \"target_val_label_loss\": target_val_label_loss,\n",
    "        \"total_epochs_trained\": total_epochs_trained,\n",
    "        \"total_experiment_time_secs\": total_experiment_time_secs,\n",
    "        \"confusion\": confusion,\n",
    "        \"per_domain_accuracy\": per_domain_accuracy,\n",
    "    },\n",
    "    \"history\": history,\n",
    "    \"dataset_metrics\": get_dataset_metrics(datasets, \"ptn\"),\n",
    "}"
   ]
  },
  {
   "cell_type": "code",
   "execution_count": 25,
   "id": "54a21829",
   "metadata": {
    "execution": {
     "iopub.execute_input": "2022-03-28T05:15:00.507401Z",
     "iopub.status.busy": "2022-03-28T05:15:00.506717Z",
     "iopub.status.idle": "2022-03-28T05:15:00.720593Z",
     "shell.execute_reply": "2022-03-28T05:15:00.721285Z"
    },
    "papermill": {
     "duration": 0.286183,
     "end_time": "2022-03-28T05:15:00.721500",
     "exception": false,
     "start_time": "2022-03-28T05:15:00.435317",
     "status": "completed"
    },
    "tags": []
   },
   "outputs": [
    {
     "data": {
      "image/png": "[encoded data removed]",
      "text/plain": [
       "<Figure size 1080x504 with 1 Axes>"
      ]
     },
     "metadata": {
      "needs_background": "light"
     },
     "output_type": "display_data"
    }
   ],
   "source": [
    "ax = get_loss_curve(experiment)\n",
    "plt.show()"
   ]
  },
  {
   "cell_type": "code",
   "execution_count": 26,
   "id": "fd8a0f60",
   "metadata": {
    "execution": {
     "iopub.execute_input": "2022-03-28T05:15:00.865686Z",
     "iopub.status.busy": "2022-03-28T05:15:00.865308Z",
     "iopub.status.idle": "2022-03-28T05:15:01.185727Z",
     "shell.execute_reply": "2022-03-28T05:15:01.185400Z"
    },
    "papermill": {
     "duration": 0.392234,
     "end_time": "2022-03-28T05:15:01.185803",
     "exception": false,
     "start_time": "2022-03-28T05:15:00.793569",
     "status": "completed"
    },
    "tags": []
   },
   "outputs": [
    {
     "data": {
      "text/plain": [
       "<AxesSubplot:title={'center':'Results'}>"
      ]
     },
     "execution_count": 26,
     "metadata": {},
     "output_type": "execute_result"
    },
    {
     "data": {
      "image/png": "[encoded data removed]",
      "text/plain": [
       "<Figure size 1080x504 with 1 Axes>"
      ]
     },
     "metadata": {
      "needs_background": "light"
     },
     "output_type": "display_data"
    }
   ],
   "source": [
    "get_results_table(experiment)"
   ]
  },
  {
   "cell_type": "code",
   "execution_count": 27,
   "id": "cf8dc689",
   "metadata": {
    "execution": {
     "iopub.execute_input": "2022-03-28T05:15:01.330143Z",
     "iopub.status.busy": "2022-03-28T05:15:01.329775Z",
     "iopub.status.idle": "2022-03-28T05:15:01.571315Z",
     "shell.execute_reply": "2022-03-28T05:15:01.570998Z"
    },
    "papermill": {
     "duration": 0.315272,
     "end_time": "2022-03-28T05:15:01.571390",
     "exception": false,
     "start_time": "2022-03-28T05:15:01.256118",
     "status": "completed"
    },
    "tags": []
   },
   "outputs": [
    {
     "data": {
      "text/plain": [
       "<AxesSubplot:title={'center':'Per Domain Validation Accuracy'}, xlabel='domain'>"
      ]
     },
     "execution_count": 27,
     "metadata": {},
     "output_type": "execute_result"
    },
    {
     "data": {
      "image/png": "[encoded data removed]",
      "text/plain": [
       "<Figure size 1080x504 with 1 Axes>"
      ]
     },
     "metadata": {
      "needs_background": "light"
     },
     "output_type": "display_data"
    }
   ],
   "source": [
    "get_domain_accuracies(experiment)"
   ]
  },
  {
   "cell_type": "code",
   "execution_count": 28,
   "id": "a74ae082",
   "metadata": {
    "execution": {
     "iopub.execute_input": "2022-03-28T05:15:01.718969Z",
     "iopub.status.busy": "2022-03-28T05:15:01.718590Z",
     "iopub.status.idle": "2022-03-28T05:15:01.741631Z",
     "shell.execute_reply": "2022-03-28T05:15:01.741259Z"
    },
    "papermill": {
     "duration": 0.098427,
     "end_time": "2022-03-28T05:15:01.741703",
     "exception": false,
     "start_time": "2022-03-28T05:15:01.643276",
     "status": "completed"
    },
    "tags": []
   },
   "outputs": [
    {
     "name": "stdout",
     "output_type": "stream",
     "text": [
      "Source Test Label Accuracy: 0.81474609375 Target Test Label Accuracy: 0.6900545912653976\n",
      "Source Val Label Accuracy: 0.8107096354166666 Target Val Label Accuracy: 0.6847110983981693\n"
     ]
    }
   ],
   "source": [
    "print(\"Source Test Label Accuracy:\", experiment[\"results\"][\"source_test_label_accuracy\"], \"Target Test Label Accuracy:\", experiment[\"results\"][\"target_test_label_accuracy\"])\n",
    "print(\"Source Val Label Accuracy:\", experiment[\"results\"][\"source_val_label_accuracy\"], \"Target Val Label Accuracy:\", experiment[\"results\"][\"target_val_label_accuracy\"])"
   ]
  },
  {
   "cell_type": "code",
   "execution_count": 29,
   "id": "dacca602",
   "metadata": {
    "execution": {
     "iopub.execute_input": "2022-03-28T05:15:01.889102Z",
     "iopub.status.busy": "2022-03-28T05:15:01.888560Z",
     "iopub.status.idle": "2022-03-28T05:15:01.914552Z",
     "shell.execute_reply": "2022-03-28T05:15:01.915230Z"
    },
    "papermill": {
     "duration": 0.102032,
     "end_time": "2022-03-28T05:15:01.915411",
     "exception": false,
     "start_time": "2022-03-28T05:15:01.813379",
     "status": "completed"
    },
    "tags": [
     "experiment_json"
    ]
   },
   "outputs": [
    {
     "data": {
      "text/plain": [
       "'{\"experiment_name\": \"tl_3-jitter1v2:oracle.run1.framed -> cores\", \"parameters\": {\"experiment_name\": \"tl_3-jitter1v2:oracle.run1.framed -> cores\", \"device\": \"cuda\", \"lr\": 0.0001, \"x_shape\": [2, 256], \"n_shot\": 3, \"n_query\": 2, \"train_k_factor\": 3, \"val_k_factor\": 2, \"test_k_factor\": 2, \"torch_default_dtype\": \"torch.float32\", \"n_epoch\": 50, \"patience\": 3, \"criteria_for_best\": \"target_accuracy\", \"x_net\": [{\"class\": \"nnReshape\", \"kargs\": {\"shape\": [-1, 1, 2, 256]}}, {\"class\": \"Conv2d\", \"kargs\": {\"in_channels\": 1, \"out_channels\": 256, \"kernel_size\": [1, 7], \"bias\": false, \"padding\": [0, 3]}}, {\"class\": \"ReLU\", \"kargs\": {\"inplace\": true}}, {\"class\": \"BatchNorm2d\", \"kargs\": {\"num_features\": 256}}, {\"class\": \"Conv2d\", \"kargs\": {\"in_channels\": 256, \"out_channels\": 80, \"kernel_size\": [2, 7], \"bias\": true, \"padding\": [0, 3]}}, {\"class\": \"ReLU\", \"kargs\": {\"inplace\": true}}, {\"class\": \"BatchNorm2d\", \"kargs\": {\"num_features\": 80}}, {\"class\": \"Flatten\", \"kargs\": {}}, {\"class\": \"Linear\", \"kargs\": {\"in_features\": 20480, \"out_features\": 256}}, {\"class\": \"ReLU\", \"kargs\": {\"inplace\": true}}, {\"class\": \"BatchNorm1d\", \"kargs\": {\"num_features\": 256}}, {\"class\": \"Linear\", \"kargs\": {\"in_features\": 256, \"out_features\": 256}}], \"NUM_LOGS_PER_EPOCH\": 10, \"BEST_MODEL_PATH\": \"./best_model.pth\", \"n_way\": 16, \"datasets\": [{\"labels\": [\"1-10.\", \"1-11.\", \"1-15.\", \"1-16.\", \"1-17.\", \"1-18.\", \"1-19.\", \"10-4.\", \"10-7.\", \"11-1.\", \"11-14.\", \"11-17.\", \"11-20.\", \"11-7.\", \"13-20.\", \"13-8.\", \"14-10.\", \"14-11.\", \"14-14.\", \"14-7.\", \"15-1.\", \"15-20.\", \"16-1.\", \"16-16.\", \"17-10.\", \"17-11.\", \"17-2.\", \"19-1.\", \"19-16.\", \"19-19.\", \"19-20.\", \"19-3.\", \"2-10.\", \"2-11.\", \"2-17.\", \"2-18.\", \"2-20.\", \"2-3.\", \"2-4.\", \"2-5.\", \"2-6.\", \"2-7.\", \"2-8.\", \"3-13.\", \"3-18.\", \"3-3.\", \"4-1.\", \"4-10.\", \"4-11.\", \"4-19.\", \"5-5.\", \"6-15.\", \"7-10.\", \"7-14.\", \"8-18.\", \"8-20.\", \"8-3.\", \"8-8.\"], \"domains\": [1, 2, 3, 4, 5], \"num_examples_per_domain_per_label\": -1, \"pickle_path\": \"/root/csc500-main/datasets/cores.stratified_ds.2022A.pkl\", \"source_or_target_dataset\": \"target\", \"x_transforms\": [\"unit_mag\", \"jitter_256_1\", \"lowpass_+/-10MHz\", \"take_200\"], \"episode_transforms\": [], \"domain_prefix\": \"C_\"}, {\"labels\": [\"3123D52\", \"3123D65\", \"3123D79\", \"3123D80\", \"3123D54\", \"3123D70\", \"3123D7B\", \"3123D89\", \"3123D58\", \"3123D76\", \"3123D7D\", \"3123EFE\", \"3123D64\", \"3123D78\", \"3123D7E\", \"3124E4A\"], \"domains\": [32, 38, 8, 44, 14, 50, 20, 26], \"num_examples_per_domain_per_label\": 2000, \"pickle_path\": \"/root/csc500-main/datasets/oracle.Run1_framed_2000Examples_stratified_ds.2022A.pkl\", \"source_or_target_dataset\": \"source\", \"x_transforms\": [\"unit_mag\", \"jitter_256_1\", \"take_200\", \"resample_20Msps_to_25Msps\"], \"episode_transforms\": [], \"domain_prefix\": \"O_\"}], \"seed\": 154325, \"dataset_seed\": 154325, \"domains_source\": [\"O_32\", \"O_38\", \"O_8\", \"O_44\", \"O_14\", \"O_50\", \"O_20\", \"O_26\"], \"domains_target\": [\"C_1\", \"C_2\", \"C_3\", \"C_4\", \"C_5\"]}, \"results\": {\"source_test_label_accuracy\": 0.81474609375, \"source_test_label_loss\": 0.5025438666343689, \"target_test_label_accuracy\": 0.6900545912653976, \"target_test_label_loss\": 223.101806640625, \"source_val_label_accuracy\": 0.8107096354166666, \"source_val_label_loss\": 0.504518449306488, \"target_val_label_accuracy\": 0.6847110983981693, \"target_val_label_loss\": 245.0790557861328, \"total_epochs_trained\": 14, \"total_experiment_time_secs\": 2316.7457752227783, \"confusion\": {\"O_8\": {\"13\": {\"10\": 28, \"13\": 122, \"0\": 35, \"6\": 11, \"4\": 33, \"14\": 8, \"7\": 2, \"5\": 1}, \"9\": {\"9\": 240}, \"15\": {\"12\": 29, \"15\": 207, \"8\": 4}, \"2\": {\"2\": 225, \"3\": 11, \"15\": 1, \"7\": 2, \"6\": 1}, \"3\": {\"2\": 11, \"3\": 227, \"12\": 2}, \"8\": {\"8\": 237, \"15\": 2, \"12\": 1}, \"5\": {\"1\": 8, \"5\": 218, \"10\": 8, \"14\": 5, \"11\": 1}, \"14\": {\"14\": 181, \"10\": 24, \"4\": 26, \"13\": 5, \"5\": 2, \"1\": 2}, \"1\": {\"1\": 232, \"11\": 8}, \"0\": {\"0\": 215, \"13\": 16, \"4\": 2, \"7\": 2, \"10\": 1, \"6\": 3, \"14\": 1}, \"10\": {\"10\": 197, \"14\": 28, \"13\": 8, \"4\": 6, \"5\": 1}, \"6\": {\"6\": 151, \"7\": 57, \"4\": 20, \"13\": 6, \"0\": 6}, \"11\": {\"11\": 215, \"1\": 25}, \"7\": {\"6\": 57, \"7\": 180, \"0\": 3}, \"4\": {\"4\": 174, \"13\": 30, \"14\": 14, \"6\": 15, \"10\": 6, \"0\": 1}, \"12\": {\"12\": 168, \"15\": 52, \"8\": 6, \"3\": 14}}, \"O_38\": {\"13\": {\"13\": 209, \"2\": 8, \"10\": 17, \"8\": 3, \"15\": 3}, \"12\": {\"12\": 235, \"4\": 5}, \"2\": {\"2\": 218, \"13\": 6, \"14\": 14, \"15\": 2}, \"9\": {\"9\": 215, \"6\": 17, \"5\": 8}, \"15\": {\"15\": 214, \"1\": 12, \"8\": 10, \"5\": 1, \"13\": 3}, \"5\": {\"5\": 132, \"8\": 49, \"9\": 7, \"7\": 36, \"0\": 4, \"6\": 5, \"13\": 4, \"15\": 3}, \"14\": {\"14\": 229, \"2\": 9, \"12\": 2}, \"0\": {\"0\": 186, \"10\": 11, \"3\": 12, \"5\": 1, \"12\": 1, \"7\": 12, \"8\": 14, \"4\": 1, \"13\": 2}, \"3\": {\"0\": 4, \"3\": 235, \"10\": 1}, \"1\": {\"1\": 235, \"15\": 5}, \"11\": {\"11\": 238, \"10\": 2}, \"7\": {\"7\": 186, \"5\": 25, \"0\": 11, \"10\": 2, \"8\": 16}, \"8\": {\"15\": 10, \"8\": 161, \"13\": 4, \"5\": 39, \"7\": 11, \"0\": 14, \"10\": 1}, \"4\": {\"4\": 234, \"12\": 5, \"10\": 1}, \"10\": {\"10\": 212, \"13\": 18, \"0\": 5, \"11\": 1, \"7\": 2, \"8\": 1, \"4\": 1}, \"6\": {\"9\": 1, \"6\": 239}}, \"O_26\": {\"10\": {\"0\": 63, \"10\": 113, \"8\": 21, \"14\": 26, \"6\": 8, \"4\": 6, \"15\": 2, \"9\": 1}, \"12\": {\"12\": 240}, \"1\": {\"1\": 194, \"0\": 1, \"4\": 7, \"14\": 30, \"8\": 4, \"10\": 2, \"3\": 1, \"7\": 1}, \"0\": {\"6\": 3, \"0\": 86, \"14\": 54, \"8\": 15, \"4\": 17, \"10\": 65}, \"15\": {\"15\": 164, \"9\": 33, \"10\": 5, \"0\": 2, \"6\": 9, \"8\": 15, \"2\": 2, \"13\": 5, \"7\": 5}, \"13\": {\"5\": 32, \"13\": 187, \"9\": 11, \"15\": 2, \"2\": 7, \"8\": 1}, \"8\": {\"8\": 106, \"6\": 4, \"4\": 30, \"10\": 27, \"14\": 10, \"0\": 22, \"9\": 6, \"7\": 19, \"2\": 2, \"15\": 14}, \"3\": {\"2\": 53, \"3\": 171, \"7\": 16}, \"11\": {\"11\": 240}, \"4\": {\"4\": 148, \"10\": 8, \"0\": 12, \"8\": 36, \"14\": 15, \"7\": 17, \"1\": 4}, \"6\": {\"6\": 203, \"9\": 19, \"8\": 2, \"10\": 7, \"15\": 6, \"0\": 3}, \"7\": {\"7\": 145, \"14\": 1, \"4\": 24, \"2\": 19, \"8\": 20, \"3\": 25, \"5\": 2, \"0\": 2, \"15\": 2}, \"14\": {\"14\": 140, \"1\": 28, \"10\": 13, \"0\": 24, \"8\": 12, \"4\": 22, \"7\": 1}, \"2\": {\"2\": 117, \"3\": 67, \"5\": 25, \"15\": 3, \"8\": 5, \"7\": 18, \"13\": 4, \"9\": 1}, \"5\": {\"5\": 214, \"13\": 13, \"2\": 6, \"10\": 1, \"8\": 1, \"9\": 1, \"15\": 4}, \"9\": {\"9\": 164, \"15\": 45, \"8\": 8, \"6\": 5, \"5\": 1, \"7\": 1, \"13\": 13, \"2\": 2, \"10\": 1}}, \"O_20\": {\"5\": {\"0\": 45, \"5\": 172, \"12\": 10, \"15\": 2, \"1\": 8, \"4\": 3}, \"15\": {\"15\": 179, \"0\": 26, \"13\": 5, \"1\": 19, \"5\": 11}, \"9\": {\"9\": 138, \"2\": 59, \"3\": 31, \"12\": 7, \"1\": 2, \"7\": 1, \"13\": 2}, \"7\": {\"7\": 210, \"9\": 5, \"2\": 15, \"13\": 2, \"3\": 6, \"4\": 1, \"8\": 1}, \"3\": {\"3\": 148, \"2\": 22, \"12\": 35, \"9\": 20, \"1\": 5, \"7\": 3, \"5\": 3, \"8\": 1, \"4\": 3}, \"8\": {\"8\": 213, \"7\": 8, \"14\": 2, \"4\": 15, \"6\": 1, \"5\": 1}, \"4\": {\"4\": 213, \"8\": 13, \"14\": 1, \"1\": 1, \"5\": 2, \"3\": 7, \"10\": 1, \"7\": 1, \"12\": 1}, \"6\": {\"6\": 223, \"14\": 14, \"8\": 2, \"7\": 1}, \"2\": {\"2\": 119, \"13\": 14, \"12\": 14, \"9\": 69, \"3\": 12, \"7\": 12}, \"12\": {\"1\": 53, \"12\": 111, \"3\": 52, \"5\": 12, \"9\": 6, \"13\": 3, \"2\": 2, \"15\": 1}, \"0\": {\"0\": 151, \"5\": 56, \"15\": 31, \"13\": 1, \"4\": 1}, \"13\": {\"13\": 219, \"2\": 16, \"15\": 2, \"7\": 1, \"9\": 1, \"3\": 1}, \"10\": {\"10\": 231, \"14\": 8, \"8\": 1}, \"11\": {\"11\": 240}, \"14\": {\"14\": 213, \"6\": 20, \"10\": 5, \"8\": 2}, \"1\": {\"13\": 2, \"1\": 161, \"15\": 15, \"12\": 49, \"5\": 9, \"9\": 1, \"3\": 3}}, \"O_50\": {\"1\": {\"1\": 210, \"15\": 14, \"5\": 5, \"11\": 2, \"6\": 2, \"4\": 4, \"13\": 3}, \"2\": {\"2\": 219, \"0\": 21}, \"8\": {\"8\": 237, \"3\": 2, \"10\": 1}, \"7\": {\"7\": 202, \"5\": 15, \"6\": 8, \"13\": 14, \"4\": 1}, \"14\": {\"14\": 239, \"11\": 1}, \"6\": {\"7\": 9, \"6\": 202, \"15\": 11, \"13\": 9, \"4\": 4, \"5\": 4, \"1\": 1}, \"3\": {\"3\": 235, \"8\": 5}, \"4\": {\"4\": 167, \"15\": 21, \"5\": 39, \"7\": 4, \"1\": 4, \"6\": 5}, \"12\": {\"12\": 221, \"11\": 6, \"9\": 13}, \"15\": {\"15\": 191, \"4\": 25, \"1\": 13, \"11\": 4, \"6\": 7}, \"11\": {\"11\": 209, \"15\": 17, \"12\": 5, \"4\": 2, \"9\": 6, \"14\": 1}, \"0\": {\"0\": 207, \"2\": 23, \"10\": 9, \"13\": 1}, \"9\": {\"9\": 220, \"11\": 10, \"12\": 10}, \"10\": {\"10\": 227, \"13\": 4, \"8\": 3, \"0\": 6}, \"5\": {\"13\": 21, \"5\": 152, \"4\": 32, \"7\": 25, \"1\": 8, \"15\": 1, \"3\": 1}, \"13\": {\"13\": 214, \"1\": 1, \"6\": 10, \"7\": 3, \"10\": 2, \"5\": 10}}, \"O_32\": {\"2\": {\"4\": 53, \"2\": 184, \"0\": 2, \"5\": 1}, \"6\": {\"6\": 240}, \"5\": {\"5\": 122, \"0\": 5, \"3\": 11, \"8\": 22, \"7\": 51, \"4\": 13, \"13\": 14, \"14\": 2}, \"12\": {\"12\": 240}, \"13\": {\"5\": 9, \"3\": 20, \"13\": 187, \"4\": 13, \"7\": 5, \"11\": 2, \"8\": 2, \"0\": 1, \"14\": 1}, \"9\": {\"9\": 239, \"12\": 1}, \"11\": {\"11\": 228, \"13\": 4, \"14\": 5, \"3\": 3}, \"1\": {\"1\": 240}, \"3\": {\"3\": 228, \"14\": 2, \"13\": 8, \"8\": 1, \"5\": 1}, \"7\": {\"7\": 146, \"5\": 58, \"13\": 7, \"4\": 13, \"2\": 1, \"14\": 11, \"8\": 2, \"0\": 1, \"11\": 1}, \"14\": {\"14\": 172, \"0\": 26, \"13\": 1, \"5\": 9, \"7\": 13, \"8\": 4, \"11\": 11, \"3\": 4}, \"8\": {\"8\": 195, \"0\": 20, \"14\": 5, \"5\": 12, \"13\": 6, \"11\": 1, \"3\": 1}, \"4\": {\"4\": 169, \"13\": 8, \"7\": 10, \"2\": 50, \"5\": 3}, \"0\": {\"0\": 198, \"8\": 27, \"7\": 6, \"14\": 7, \"13\": 2}, \"10\": {\"10\": 236, \"1\": 4}, \"15\": {\"15\": 240}}, \"O_44\": {\"13\": {\"13\": 169, \"9\": 31, \"6\": 37, \"7\": 1, \"11\": 2}, \"4\": {\"14\": 73, \"4\": 164, \"15\": 2, \"5\": 1}, \"6\": {\"6\": 151, \"13\": 51, \"9\": 29, \"11\": 2, \"7\": 7}, \"0\": {\"8\": 66, \"0\": 159, \"15\": 11, \"5\": 4}, \"10\": {\"10\": 200, \"1\": 24, \"2\": 11, \"12\": 3, \"7\": 2}, \"7\": {\"7\": 152, \"2\": 37, \"9\": 47, \"6\": 3, \"13\": 1}, \"14\": {\"14\": 148, \"4\": 61, \"15\": 23, \"5\": 8}, \"15\": {\"15\": 183, \"5\": 21, \"14\": 9, \"4\": 1, \"0\": 21, \"8\": 5}, \"5\": {\"5\": 190, \"0\": 20, \"14\": 8, \"15\": 19, \"8\": 2, \"4\": 1}, \"2\": {\"2\": 192, \"1\": 17, \"10\": 8, \"7\": 20, \"3\": 2, \"9\": 1}, \"9\": {\"9\": 125, \"13\": 30, \"7\": 50, \"6\": 30, \"2\": 4, \"10\": 1}, \"12\": {\"12\": 214, \"1\": 23, \"3\": 2, \"10\": 1}, \"8\": {\"8\": 142, \"0\": 86, \"15\": 5, \"5\": 7}, \"3\": {\"3\": 223, \"1\": 12, \"12\": 5}, \"1\": {\"1\": 183, \"3\": 11, \"12\": 24, \"2\": 10, \"10\": 12}, \"11\": {\"11\": 236, \"13\": 4}}, \"O_14\": {\"1\": {\"1\": 226, \"5\": 11, \"4\": 3}, \"15\": {\"15\": 240}, \"10\": {\"10\": 239, \"0\": 1}, \"2\": {\"3\": 21, \"2\": 143, \"14\": 38, \"5\": 13, \"4\": 2, \"6\": 12, \"13\": 11}, \"9\": {\"9\": 239, \"11\": 1}, \"5\": {\"5\": 171, \"1\": 27, \"4\": 28, \"3\": 2, \"2\": 10, \"7\": 1, \"14\": 1}, \"7\": {\"7\": 238, \"5\": 1, \"15\": 1}, \"13\": {\"6\": 92, \"13\": 93, \"14\": 35, \"4\": 2, \"2\": 15, \"5\": 2, \"3\": 1}, \"8\": {\"8\": 240}, \"6\": {\"13\": 68, \"6\": 168, \"14\": 1, \"2\": 3}, \"3\": {\"3\": 220, \"14\": 7, \"2\": 11, \"4\": 1, \"5\": 1}, \"12\": {\"12\": 240}, \"0\": {\"0\": 232, \"3\": 4, \"10\": 4}, \"4\": {\"4\": 205, \"5\": 21, \"1\": 9, \"2\": 5}, \"14\": {\"14\": 201, \"13\": 16, \"3\": 2, \"2\": 18, \"6\": 3}, \"11\": {\"11\": 223, \"9\": 14, \"0\": 3}}, \"C_2\": {\"21\": {\"21\": 76, \"6\": 3, \"17\": 2, \"52\": 9, \"11\": 3, \"50\": 4, \"16\": 7, \"23\": 3, \"36\": 1, \"46\": 2, \"48\": 2, \"51\": 2, \"30\": 1, \"10\": 1, \"22\": 1, \"18\": 2, \"54\": 1}, \"4\": {\"4\": 39, \"54\": 3, \"17\": 2, \"36\": 5, \"8\": 4, \"27\": 8, \"29\": 11, \"40\": 5, \"3\": 1, \"53\": 6, \"9\": 11, \"55\": 2, \"19\": 16, \"48\": 2, \"50\": 1, \"32\": 1, \"6\": 2, \"33\": 1, \"51\": 5, \"21\": 1, \"44\": 1, \"13\": 1, \"5\": 2}, \"6\": {\"50\": 3, \"6\": 70, \"18\": 3, \"3\": 5, \"46\": 15, \"39\": 1, \"15\": 2, \"16\": 4, \"30\": 10, \"57\": 3, \"36\": 1, \"47\": 1, \"9\": 1, \"28\": 1, \"55\": 1, \"48\": 2, \"5\": 1}, \"10\": {\"24\": 4, \"10\": 103, \"11\": 1, \"56\": 2, \"43\": 2}, \"33\": {\"32\": 1, \"50\": 1, \"13\": 2, \"33\": 12, \"5\": 4, \"2\": 3, \"15\": 1, \"3\": 1, \"17\": 1, \"9\": 1, \"37\": 1}, \"56\": {\"56\": 114, \"42\": 1, \"24\": 1, \"22\": 4, \"47\": 1, \"55\": 1}, \"20\": {\"20\": 114, \"52\": 2, \"8\": 7, \"12\": 2, \"50\": 2, \"27\": 3, \"18\": 2}, \"24\": {\"24\": 91, \"43\": 4, \"56\": 1}, \"45\": {\"44\": 7, \"4\": 7, \"45\": 54, \"26\": 4, \"36\": 2, \"14\": 2, \"2\": 2, \"9\": 6, \"48\": 1, \"35\": 1, \"53\": 6, \"8\": 1, \"27\": 2, \"19\": 8, \"54\": 3, \"12\": 1, \"25\": 11, \"40\": 5, \"55\": 2, \"50\": 2, \"29\": 1}, \"32\": {\"32\": 22, \"23\": 1, \"42\": 1, \"17\": 2, \"30\": 2}, \"27\": {\"32\": 2, \"27\": 104, \"12\": 6, \"18\": 2, \"50\": 7, \"8\": 13, \"17\": 7, \"20\": 4, \"48\": 1, \"30\": 2}, \"53\": {\"54\": 9, \"17\": 4, \"26\": 2, \"53\": 35, \"8\": 20, \"21\": 3, \"32\": 2, \"42\": 1, \"12\": 6, \"27\": 14, \"25\": 5, \"2\": 1, \"50\": 5, \"20\": 5, \"51\": 3, \"19\": 4, \"4\": 4, \"29\": 1, \"40\": 1, \"3\": 2, \"9\": 1, \"36\": 3, \"45\": 3, \"6\": 2}, \"8\": {\"8\": 149, \"50\": 2, \"20\": 3, \"27\": 4, \"12\": 1, \"6\": 1}, \"54\": {\"50\": 7, \"19\": 3, \"53\": 4, \"42\": 1, \"54\": 53, \"36\": 13, \"9\": 1, \"12\": 3, \"29\": 2, \"30\": 1, \"3\": 5, \"27\": 2, \"46\": 1, \"6\": 6, \"23\": 2, \"25\": 1, \"45\": 1, \"8\": 2}, \"50\": {\"27\": 11, \"50\": 83, \"8\": 7, \"6\": 5, \"3\": 4, \"2\": 2, \"54\": 4, \"17\": 1, \"51\": 3, \"36\": 2, \"20\": 2, \"46\": 3, \"55\": 2, \"21\": 2, \"30\": 1, \"53\": 1, \"48\": 1}, \"44\": {\"44\": 69, \"45\": 5, \"5\": 1, \"37\": 1, \"35\": 3, \"10\": 1, \"19\": 2, \"55\": 1, \"40\": 6, \"13\": 1, \"4\": 2, \"53\": 4, \"1\": 1, \"21\": 1, \"29\": 1, \"3\": 1}, \"5\": {\"5\": 104, \"48\": 1, \"28\": 1, \"46\": 3, \"43\": 2, \"56\": 1, \"57\": 4, \"50\": 1, \"16\": 1, \"47\": 1, \"55\": 1}, \"38\": {\"38\": 20}, \"19\": {\"1\": 5, \"32\": 1, \"13\": 2, \"53\": 2, \"4\": 12, \"17\": 3, \"19\": 33, \"42\": 1, \"25\": 2, \"29\": 8, \"47\": 3, \"5\": 3, \"57\": 8, \"12\": 1, \"40\": 8, \"56\": 1, \"45\": 3, \"54\": 6, \"44\": 7, \"48\": 1, \"52\": 1, \"10\": 2, \"55\": 3, \"22\": 3, \"2\": 1, \"35\": 2, \"27\": 1, \"51\": 3, \"23\": 1, \"9\": 4, \"36\": 1}, \"1\": {\"1\": 109, \"48\": 2, \"47\": 1}, \"30\": {\"30\": 136, \"18\": 7, \"23\": 1}, \"15\": {\"15\": 137, \"11\": 5, \"52\": 2}, \"23\": {\"23\": 145, \"16\": 1}, \"35\": {\"35\": 18, \"44\": 1, \"25\": 1, \"54\": 1, \"4\": 2, \"26\": 1, \"45\": 2, \"19\": 3, \"29\": 1, \"9\": 1, \"12\": 1}, \"22\": {\"22\": 122, \"56\": 6}, \"40\": {\"5\": 1, \"44\": 8, \"40\": 36, \"51\": 9, \"4\": 5, \"14\": 3, \"27\": 1, \"45\": 8, \"29\": 6, \"13\": 18, \"12\": 1, \"19\": 8, \"52\": 1, \"21\": 4, \"3\": 6, \"10\": 4, \"55\": 5, \"50\": 3, \"25\": 1, \"22\": 3, \"9\": 4, \"37\": 3, \"53\": 2}, \"46\": {\"46\": 66, \"39\": 4, \"16\": 6, \"3\": 1, \"6\": 21, \"5\": 3, \"23\": 2, \"7\": 2, \"50\": 5, \"30\": 4, \"48\": 3, \"27\": 2, \"41\": 2, \"28\": 1, \"34\": 1, \"47\": 1, \"52\": 2}, \"3\": {\"30\": 1, \"54\": 3, \"3\": 30, \"49\": 2, \"36\": 8, \"33\": 1, \"51\": 2, \"17\": 2, \"4\": 3, \"10\": 2, \"46\": 9, \"37\": 2, \"50\": 4, \"6\": 7, \"27\": 3, \"19\": 1, \"39\": 1, \"13\": 1, \"12\": 1, \"2\": 1, \"21\": 1, \"31\": 1, \"53\": 2, \"8\": 1, \"9\": 1, \"40\": 1, \"48\": 1}, \"48\": {\"48\": 145, \"23\": 1, \"57\": 2}, \"52\": {\"52\": 120, \"23\": 2, \"15\": 2}, \"2\": {\"2\": 27, \"34\": 3, \"3\": 1, \"50\": 1}, \"26\": {\"45\": 1, \"53\": 1, \"36\": 1, \"26\": 15, \"4\": 1, \"12\": 1, \"29\": 1, \"25\": 2, \"49\": 1}, \"17\": {\"17\": 81, \"12\": 1, \"32\": 3, \"27\": 5, \"8\": 3, \"50\": 2, \"23\": 3, \"45\": 1, \"55\": 1, \"11\": 1, \"48\": 2, \"54\": 1}, \"55\": {\"55\": 111, \"42\": 1, \"31\": 2, \"34\": 2, \"54\": 1, \"52\": 1, \"47\": 5, \"3\": 1, \"46\": 1, \"6\": 2, \"50\": 1, \"51\": 1, \"56\": 5, \"48\": 1, \"12\": 1, \"2\": 1, \"27\": 1, \"24\": 1, \"10\": 1, \"5\": 3, \"22\": 1}, \"51\": {\"30\": 4, \"20\": 24, \"37\": 1, \"51\": 47, \"21\": 7, \"10\": 3, \"27\": 10, \"52\": 1, \"12\": 1, \"11\": 2, \"50\": 8, \"8\": 9, \"53\": 1, \"3\": 2, \"16\": 1, \"6\": 1}, \"42\": {\"55\": 3, \"48\": 3, \"42\": 24, \"34\": 1, \"28\": 2, \"3\": 1, \"2\": 1, \"12\": 1}, \"41\": {\"41\": 18, \"34\": 1, \"28\": 1}, \"31\": {\"31\": 26, \"14\": 1, \"28\": 1}, \"16\": {\"16\": 126, \"48\": 3, \"23\": 5, \"5\": 1, \"30\": 1, \"46\": 1, \"52\": 1}, \"36\": {\"36\": 113, \"27\": 2, \"3\": 1}, \"49\": {\"49\": 18, \"46\": 2, \"34\": 1, \"50\": 2, \"2\": 1}, \"0\": {\"0\": 48}, \"18\": {\"18\": 45, \"30\": 3}, \"25\": {\"25\": 37, \"49\": 2, \"36\": 13, \"3\": 10, \"26\": 2, \"42\": 2, \"45\": 9, \"33\": 1, \"50\": 10, \"53\": 14, \"35\": 1, \"44\": 1, \"54\": 10, \"12\": 5, \"8\": 7, \"19\": 5, \"27\": 4, \"9\": 3, \"21\": 1, \"4\": 2, \"29\": 1, \"6\": 4, \"55\": 1, \"46\": 1}, \"9\": {\"47\": 3, \"3\": 1, \"54\": 3, \"36\": 6, \"5\": 3, \"9\": 17, \"37\": 1, \"42\": 3, \"33\": 1, \"14\": 1, \"40\": 4, \"51\": 4, \"13\": 1, \"2\": 2, \"1\": 4, \"29\": 9, \"48\": 8, \"57\": 11, \"50\": 1, \"19\": 5, \"17\": 3, \"53\": 4, \"4\": 10, \"27\": 3, \"32\": 3, \"6\": 2, \"46\": 4, \"10\": 1, \"23\": 1, \"20\": 1, \"52\": 1, \"25\": 1}, \"47\": {\"47\": 124, \"1\": 2, \"48\": 3, \"57\": 2, \"46\": 1}, \"7\": {\"7\": 36}, \"37\": {\"13\": 5, \"37\": 15, \"2\": 3, \"14\": 2, \"55\": 2, \"29\": 2, \"38\": 2, \"43\": 1, \"22\": 1, \"51\": 2, \"33\": 1}, \"13\": {\"24\": 10, \"13\": 51, \"21\": 4, \"28\": 5, \"46\": 1, \"3\": 2, \"5\": 11, \"37\": 2, \"43\": 9, \"40\": 3, \"51\": 4, \"55\": 6, \"10\": 2, \"48\": 2, \"9\": 1, \"25\": 1, \"22\": 1, \"56\": 1}, \"14\": {\"31\": 2, \"56\": 3, \"33\": 1, \"29\": 1, \"24\": 1, \"40\": 2, \"22\": 2, \"28\": 1, \"44\": 1, \"14\": 5, \"55\": 1, \"43\": 1, \"39\": 1, \"0\": 2}, \"34\": {\"34\": 26, \"41\": 2}, \"57\": {\"57\": 130, \"1\": 3, \"47\": 1, \"48\": 5, \"16\": 1}, \"11\": {\"11\": 122, \"15\": 10, \"16\": 2, \"52\": 4}, \"39\": {\"39\": 28}, \"12\": {\"12\": 48, \"19\": 4, \"54\": 5, \"27\": 4, \"45\": 3, \"8\": 9, \"51\": 1, \"46\": 2, \"17\": 1, \"53\": 4, \"40\": 1, \"26\": 1, \"4\": 1, \"50\": 1, \"25\": 1, \"3\": 1, \"30\": 2, \"20\": 2, \"36\": 1}, \"28\": {\"28\": 28}, \"29\": {\"29\": 21, \"57\": 21, \"55\": 2, \"33\": 2, \"14\": 1, \"40\": 6, \"53\": 5, \"17\": 4, \"1\": 13, \"5\": 1, \"4\": 4, \"9\": 5, \"12\": 1, \"19\": 6, \"21\": 1, \"25\": 4, \"13\": 4, \"10\": 3, \"47\": 3, \"43\": 1, \"52\": 1, \"51\": 2, \"26\": 2, \"6\": 1, \"37\": 1, \"36\": 1, \"44\": 2, \"3\": 2, \"45\": 4, \"48\": 2, \"23\": 1, \"54\": 1}, \"43\": {\"43\": 135, \"24\": 3, \"47\": 1, \"5\": 1}}, \"C_5\": {\"12\": {\"12\": 67, \"18\": 1, \"38\": 1, \"26\": 1, \"7\": 3, \"48\": 1, \"55\": 2, \"17\": 3, \"50\": 1, \"30\": 5, \"6\": 1, \"19\": 1, \"28\": 1, \"5\": 2, \"9\": 2, \"53\": 1, \"4\": 2, \"45\": 1}, \"8\": {\"8\": 133, \"18\": 2, \"30\": 2, \"6\": 3, \"48\": 1, \"53\": 1}, \"29\": {\"4\": 4, \"34\": 4, \"3\": 4, \"28\": 5, \"29\": 32, \"47\": 8, \"22\": 6, \"53\": 1, \"54\": 5, \"0\": 7, \"19\": 4, \"45\": 4, \"5\": 8, \"57\": 10, \"40\": 3, \"36\": 2, \"44\": 3, \"55\": 1, \"50\": 6, \"48\": 3, \"46\": 5, \"27\": 2, \"31\": 1, \"49\": 1, \"56\": 3}, \"57\": {\"57\": 121, \"47\": 1, \"43\": 1, \"16\": 1, \"46\": 2}, \"38\": {\"55\": 2, \"30\": 3, \"25\": 5, \"38\": 4, \"8\": 3, \"50\": 1, \"6\": 4, \"53\": 2, \"18\": 1, \"45\": 1, \"26\": 2, \"17\": 2, \"54\": 1, \"19\": 1}, \"23\": {\"23\": 123, \"16\": 1}, \"56\": {\"56\": 130, \"0\": 2, \"24\": 2, \"2\": 2, \"3\": 2}, \"49\": {\"49\": 35, \"24\": 1}, \"4\": {\"4\": 46, \"38\": 1, \"5\": 11, \"12\": 5, \"53\": 4, \"6\": 1, \"29\": 3, \"40\": 3, \"27\": 1, \"19\": 2, \"55\": 5, \"30\": 1, \"45\": 7, \"44\": 3, \"33\": 1, \"50\": 3, \"32\": 1, \"9\": 1, \"17\": 1}, \"48\": {\"48\": 109, \"1\": 12, \"57\": 1, \"8\": 2, \"20\": 1, \"47\": 1, \"9\": 4, \"32\": 2, \"17\": 3, \"16\": 1}, \"21\": {\"21\": 93, \"1\": 4, \"18\": 3, \"43\": 1, \"8\": 5, \"13\": 6, \"14\": 2, \"41\": 1, \"51\": 4, \"20\": 5, \"15\": 1, \"23\": 2, \"16\": 7, \"53\": 3, \"48\": 1, \"37\": 2, \"9\": 2, \"19\": 1, \"52\": 1}, \"30\": {\"30\": 120, \"6\": 2, \"8\": 2, \"48\": 1, \"53\": 2, \"27\": 1}, \"1\": {\"48\": 13, \"1\": 124, \"6\": 3, \"30\": 2, \"8\": 2, \"57\": 2, \"20\": 2}, \"34\": {\"34\": 36}, \"35\": {\"35\": 33, \"36\": 2, \"31\": 1}, \"55\": {\"48\": 11, \"54\": 8, \"55\": 51, \"45\": 8, \"6\": 5, \"36\": 10, \"53\": 3, \"4\": 1, \"19\": 2, \"9\": 7, \"25\": 4, \"50\": 18, \"12\": 3, \"1\": 4, \"29\": 4, \"44\": 3, \"52\": 2, \"27\": 3, \"37\": 1, \"5\": 2, \"23\": 2}, \"5\": {\"4\": 13, \"52\": 3, \"44\": 6, \"10\": 1, \"5\": 66, \"19\": 5, \"21\": 3, \"9\": 2, \"40\": 2, \"56\": 1, \"13\": 2, \"47\": 1, \"23\": 1, \"27\": 2, \"54\": 1, \"45\": 1, \"25\": 4, \"29\": 7, \"7\": 1}, \"52\": {\"52\": 119, \"46\": 2, \"16\": 1, \"11\": 2, \"23\": 2}, \"6\": {\"8\": 14, \"6\": 38, \"50\": 12, \"20\": 11, \"1\": 7, \"42\": 1, \"18\": 12, \"36\": 4, \"54\": 5, \"30\": 9, \"23\": 2, \"53\": 3, \"16\": 1, \"38\": 1, \"45\": 1, \"17\": 3, \"51\": 1, \"44\": 1, \"25\": 1, \"48\": 1}, \"36\": {\"36\": 84, \"47\": 2, \"54\": 2, \"3\": 2, \"13\": 2}, \"41\": {\"41\": 28}, \"3\": {\"3\": 41, \"36\": 5, \"46\": 8, \"39\": 1, \"0\": 5, \"57\": 9, \"41\": 1, \"31\": 1, \"16\": 2, \"24\": 6, \"56\": 4, \"50\": 1, \"54\": 2, \"14\": 1, \"43\": 5, \"23\": 1, \"11\": 4, \"49\": 1, \"13\": 1, \"47\": 1}, \"28\": {\"28\": 27, \"14\": 1, \"36\": 2, \"9\": 1, \"43\": 1}, \"18\": {\"18\": 63, \"23\": 1}, \"25\": {\"4\": 3, \"6\": 8, \"8\": 14, \"43\": 1, \"53\": 9, \"37\": 1, \"42\": 6, \"9\": 10, \"21\": 3, \"30\": 3, \"54\": 5, \"25\": 30, \"40\": 3, \"1\": 1, \"19\": 1, \"50\": 11, \"23\": 1, \"5\": 1, \"45\": 4, \"55\": 2, \"13\": 3, \"52\": 1, \"26\": 1, \"36\": 1, \"12\": 5, \"18\": 2, \"27\": 1, \"17\": 3, \"51\": 1, \"29\": 1}, \"47\": {\"47\": 91, \"41\": 1, \"31\": 1, \"3\": 3, \"24\": 2, \"43\": 1, \"54\": 1}, \"13\": {\"13\": 66, \"10\": 4, \"35\": 6, \"24\": 12, \"43\": 14, \"2\": 4, \"37\": 2, \"52\": 5, \"9\": 2, \"3\": 6, \"14\": 3, \"5\": 1, \"21\": 6, \"36\": 8, \"56\": 11, \"44\": 1, \"40\": 1, \"49\": 2, \"23\": 1, \"54\": 2, \"0\": 1, \"55\": 1, \"25\": 1}, \"11\": {\"11\": 123, \"46\": 2, \"15\": 13, \"52\": 3, \"0\": 1, \"3\": 1, \"16\": 1}, \"53\": {\"53\": 97, \"6\": 5, \"17\": 4, \"8\": 12, \"55\": 2, \"30\": 8, \"45\": 2, \"18\": 1, \"4\": 1, \"48\": 1, \"29\": 2, \"12\": 1, \"50\": 3, \"20\": 2, \"1\": 2, \"51\": 1}, \"33\": {\"50\": 3, \"33\": 13, \"53\": 1, \"6\": 1, \"44\": 2, \"52\": 1, \"57\": 2, \"9\": 2, \"1\": 1, \"19\": 1, \"28\": 3, \"34\": 1, \"36\": 1}, \"46\": {\"46\": 98, \"11\": 7, \"2\": 1, \"24\": 2, \"47\": 2, \"16\": 5, \"43\": 2, \"23\": 1, \"3\": 8, \"0\": 9, \"52\": 2, \"57\": 8, \"56\": 2, \"35\": 1}, \"50\": {\"50\": 47, \"32\": 2, \"53\": 5, \"6\": 10, \"33\": 1, \"36\": 10, \"17\": 5, \"42\": 3, \"48\": 15, \"54\": 6, \"9\": 8, \"16\": 1, \"1\": 2, \"4\": 1, \"29\": 3, \"23\": 1, \"25\": 5, \"8\": 2, \"30\": 3, \"45\": 1, \"38\": 1, \"7\": 1, \"55\": 4, \"14\": 1, \"27\": 2, \"19\": 4, \"44\": 1, \"3\": 1, \"5\": 1, \"13\": 1}, \"10\": {\"10\": 67, \"56\": 1}, \"15\": {\"15\": 127, \"16\": 2, \"11\": 5, \"52\": 4}, \"44\": {\"5\": 13, \"44\": 52, \"26\": 2, \"2\": 2, \"19\": 7, \"56\": 5, \"28\": 2, \"29\": 11, \"13\": 2, \"55\": 5, \"57\": 4, \"4\": 6, \"17\": 1, \"27\": 4, \"50\": 3, \"45\": 4, \"1\": 2, \"40\": 3, \"9\": 2, \"7\": 1, \"32\": 2, \"47\": 2, \"12\": 1, \"36\": 1, \"53\": 1, \"6\": 1, \"25\": 1}, \"2\": {\"2\": 28}, \"7\": {\"50\": 1, \"53\": 4, \"19\": 2, \"8\": 1, \"7\": 7, \"30\": 3, \"29\": 2, \"17\": 2, \"27\": 1, \"45\": 1, \"23\": 1, \"12\": 1, \"55\": 1, \"32\": 1, \"20\": 1, \"48\": 1, \"44\": 1, \"21\": 1}, \"43\": {\"43\": 133, \"16\": 1, \"11\": 1, \"47\": 2, \"24\": 1}, \"32\": {\"32\": 24, \"9\": 2, \"29\": 1, \"38\": 1, \"27\": 1, \"1\": 2, \"48\": 1}, \"0\": {\"0\": 112, \"46\": 4, \"31\": 1, \"56\": 3, \"49\": 1, \"3\": 1, \"24\": 1, \"43\": 1}, \"39\": {\"39\": 20}, \"26\": {\"26\": 20, \"45\": 3, \"12\": 1}, \"27\": {\"27\": 57, \"48\": 6, \"9\": 6, \"1\": 9, \"17\": 10, \"54\": 2, \"53\": 4, \"57\": 3, \"51\": 1, \"19\": 1, \"25\": 2, \"52\": 1, \"55\": 1, \"32\": 1, \"30\": 5, \"33\": 1, \"34\": 1, \"8\": 1}, \"54\": {\"54\": 112}, \"17\": {\"17\": 78, \"32\": 1, \"29\": 1, \"48\": 6, \"27\": 2, \"30\": 13, \"44\": 2, \"8\": 4, \"6\": 6, \"53\": 1, \"1\": 1, \"45\": 1}, \"14\": {\"47\": 3, \"28\": 2, \"33\": 2, \"0\": 1, \"24\": 2, \"21\": 5, \"14\": 13, \"3\": 1, \"54\": 5, \"52\": 1, \"13\": 2, \"36\": 2, \"31\": 3, \"10\": 1, \"49\": 1}, \"16\": {\"16\": 128, \"23\": 7, \"43\": 4, \"11\": 4, \"15\": 2, \"52\": 2, \"46\": 1}, \"9\": {\"33\": 1, \"19\": 4, \"9\": 51, \"12\": 3, \"53\": 2, \"4\": 1, \"8\": 2, \"32\": 3, \"21\": 5, \"54\": 1, \"17\": 7, \"30\": 12, \"23\": 1, \"48\": 12, \"16\": 1, \"6\": 1, \"45\": 1, \"1\": 14, \"56\": 2, \"52\": 6, \"27\": 9, \"15\": 1, \"50\": 2, \"25\": 3, \"10\": 1, \"13\": 1, \"55\": 1}, \"19\": {\"33\": 8, \"29\": 7, \"19\": 29, \"53\": 3, \"14\": 3, \"44\": 4, \"37\": 1, \"34\": 4, \"28\": 1, \"15\": 2, \"21\": 7, \"50\": 3, \"45\": 3, \"27\": 10, \"9\": 9, \"4\": 5, \"57\": 3, \"54\": 3, \"1\": 6, \"40\": 5, \"48\": 13, \"46\": 1, \"30\": 1, \"47\": 2, \"13\": 4, \"52\": 1, \"23\": 1, \"6\": 2, \"32\": 1, \"55\": 4, \"5\": 3, \"36\": 2, \"43\": 1}, \"20\": {\"20\": 117, \"16\": 3, \"6\": 4, \"18\": 1, \"8\": 5, \"51\": 6, \"48\": 1, \"23\": 1}, \"37\": {\"55\": 2, \"37\": 5, \"10\": 2, \"41\": 1, \"43\": 3, \"21\": 2, \"28\": 1, \"19\": 2, \"42\": 1, \"14\": 3, \"32\": 2}, \"24\": {\"24\": 74, \"46\": 1, \"56\": 2, \"43\": 2, \"31\": 1}, \"40\": {\"32\": 2, \"10\": 2, \"40\": 27, \"53\": 2, \"4\": 6, \"45\": 6, \"29\": 3, \"34\": 1, \"33\": 2, \"50\": 2, \"52\": 6, \"5\": 8, \"21\": 16, \"15\": 2, \"25\": 3, \"23\": 1, \"55\": 4, \"44\": 10, \"13\": 7, \"27\": 1, \"19\": 2, \"14\": 2, \"56\": 3, \"12\": 2, \"9\": 1, \"47\": 1}, \"45\": {\"45\": 25, \"6\": 5, \"17\": 5, \"9\": 9, \"7\": 1, \"1\": 5, \"30\": 4, \"25\": 6, \"12\": 4, \"48\": 4, \"4\": 3, \"54\": 7, \"50\": 10, \"55\": 5, \"29\": 1, \"27\": 5, \"44\": 7, \"53\": 1, \"51\": 2, \"15\": 1, \"8\": 3, \"42\": 1, \"32\": 1, \"38\": 1, \"33\": 1, \"5\": 3, \"19\": 3, \"36\": 1}, \"22\": {\"35\": 2, \"22\": 20, \"46\": 2, \"49\": 2, \"34\": 1, \"10\": 1}, \"42\": {\"42\": 38, \"35\": 1, \"2\": 1}, \"51\": {\"51\": 99, \"52\": 1, \"6\": 3, \"8\": 3, \"44\": 1, \"45\": 1, \"53\": 2, \"20\": 3, \"30\": 2, \"27\": 1, \"5\": 2}, \"31\": {\"31\": 36}}, \"C_1\": {\"27\": {\"27\": 140, \"22\": 1, \"49\": 1}, \"2\": {\"2\": 36}, \"33\": {\"33\": 31, \"34\": 1}, \"45\": {\"45\": 145, \"42\": 4, \"7\": 3, \"16\": 1, \"54\": 1, \"30\": 1, \"18\": 1}, \"38\": {\"38\": 22, \"24\": 2}, \"4\": {\"4\": 115, \"50\": 2, \"29\": 10, \"46\": 1, \"25\": 1, \"1\": 1, \"40\": 2}, \"31\": {\"31\": 23, \"24\": 2, \"22\": 1, \"52\": 1, \"0\": 1}, \"55\": {\"55\": 131, \"34\": 2, \"42\": 2, \"27\": 1, \"56\": 1, \"1\": 1, \"52\": 1, \"5\": 1}, \"32\": {\"32\": 31, \"54\": 1}, \"57\": {\"24\": 1, \"45\": 7, \"26\": 2, \"57\": 23, \"19\": 18, \"51\": 7, \"47\": 11, \"1\": 8, \"44\": 7, \"32\": 1, \"37\": 1, \"12\": 3, \"17\": 4, \"43\": 1, \"46\": 7, \"20\": 2, \"42\": 3, \"40\": 2, \"16\": 1, \"3\": 3, \"29\": 2, \"55\": 1, \"48\": 2, \"0\": 1, \"22\": 1, \"50\": 2, \"7\": 1, \"52\": 1, \"56\": 7, \"25\": 3, \"10\": 1, \"9\": 1, \"11\": 1, \"53\": 3, \"5\": 1}, \"14\": {\"14\": 15, \"30\": 1, \"8\": 4, \"18\": 2, \"26\": 1, \"2\": 1}, \"16\": {\"16\": 131, \"42\": 1, \"54\": 1, \"45\": 4, \"9\": 3}, \"34\": {\"34\": 24}, \"56\": {\"45\": 12, \"56\": 43, \"19\": 15, \"35\": 4, \"17\": 3, \"27\": 3, \"44\": 5, \"1\": 8, \"11\": 1, \"20\": 3, \"21\": 1, \"47\": 9, \"52\": 1, \"0\": 1, \"37\": 1, \"25\": 1, \"32\": 3, \"51\": 2, \"7\": 1, \"10\": 1, \"15\": 1, \"23\": 1, \"57\": 2, \"46\": 2, \"16\": 1, \"9\": 1}, \"24\": {\"24\": 88, \"38\": 1, \"22\": 17, \"0\": 1, \"27\": 1}, \"30\": {\"2\": 1, \"30\": 97, \"17\": 2, \"18\": 1, \"48\": 2, \"8\": 7, \"46\": 1, \"40\": 1}, \"17\": {\"50\": 1, \"8\": 5, \"17\": 51, \"18\": 1, \"30\": 1, \"5\": 1, \"2\": 2, \"6\": 2}, \"13\": {\"41\": 2, \"13\": 47, \"37\": 2, \"3\": 5, \"53\": 7, \"1\": 1, \"48\": 6, \"12\": 8, \"25\": 6, \"45\": 7, \"46\": 3, \"57\": 4, \"23\": 1, \"50\": 2, \"19\": 5, \"20\": 6, \"44\": 1, \"51\": 7, \"55\": 4, \"36\": 1, \"14\": 1, \"17\": 1, \"5\": 1, \"8\": 5, \"16\": 1, \"6\": 1, \"15\": 1, \"43\": 1, \"40\": 1}, \"39\": {\"39\": 28}, \"50\": {\"50\": 73, \"48\": 15, \"57\": 3, \"17\": 1, \"5\": 7, \"46\": 11, \"2\": 4, \"30\": 2, \"8\": 7, \"35\": 2, \"6\": 6, \"25\": 5, \"1\": 1, \"56\": 2, \"53\": 3, \"44\": 3, \"47\": 1}, \"20\": {\"36\": 6, \"12\": 17, \"20\": 42, \"26\": 4, \"51\": 8, \"16\": 20, \"30\": 3, \"43\": 1, \"18\": 4, \"45\": 8, \"10\": 4, \"0\": 3, \"53\": 4, \"8\": 1, \"56\": 4, \"13\": 2, \"14\": 2, \"42\": 1, \"57\": 1, \"1\": 1, \"5\": 2, \"9\": 2}, \"41\": {\"13\": 1, \"41\": 11, \"2\": 1, \"51\": 2, \"19\": 1, \"35\": 2, \"8\": 1, \"50\": 2, \"53\": 1, \"44\": 1, \"54\": 1}, \"53\": {\"50\": 2, \"53\": 75, \"17\": 5, \"9\": 3, \"25\": 4, \"48\": 7, \"18\": 2, \"6\": 3, \"57\": 1, \"8\": 10, \"16\": 3, \"5\": 3, \"19\": 1, \"14\": 2, \"44\": 1, \"30\": 3, \"46\": 1}, \"48\": {\"48\": 88, \"50\": 4, \"2\": 2, \"30\": 3, \"8\": 10, \"17\": 5, \"6\": 4, \"18\": 2, \"53\": 12, \"57\": 2, \"25\": 3, \"9\": 2, \"5\": 2, \"12\": 2, \"44\": 1}, \"36\": {\"36\": 62, \"23\": 2}, \"8\": {\"8\": 123, \"30\": 5, \"6\": 6, \"17\": 5, \"14\": 1}, \"15\": {\"15\": 115, \"23\": 4, \"21\": 13}, \"40\": {\"49\": 1, \"40\": 41, \"44\": 6, \"35\": 1, \"29\": 24, \"13\": 13, \"3\": 6, \"25\": 3, \"43\": 4, \"57\": 7, \"4\": 12, \"19\": 1, \"46\": 4, \"51\": 16, \"12\": 3, \"50\": 4, \"15\": 2, \"28\": 1, \"23\": 1, \"5\": 2, \"20\": 1, \"1\": 1, \"56\": 1, \"55\": 1}, \"37\": {\"37\": 32}, \"21\": {\"21\": 110, \"15\": 9, \"23\": 1}, \"35\": {\"35\": 13, \"49\": 1, \"1\": 2, \"56\": 3, \"47\": 2, \"53\": 1, \"54\": 1, \"44\": 1, \"45\": 2, \"19\": 2, \"42\": 1, \"10\": 1, \"7\": 1, \"37\": 1, \"22\": 1, \"27\": 1, \"20\": 1, \"57\": 1}, \"49\": {\"49\": 30, \"39\": 1, \"28\": 1}, \"26\": {\"26\": 20, \"20\": 1, \"25\": 1, \"45\": 2}, \"28\": {\"28\": 27, \"43\": 1}, \"12\": {\"14\": 2, \"16\": 10, \"12\": 56, \"35\": 1, \"9\": 2, \"51\": 3, \"10\": 3, \"54\": 1, \"36\": 6, \"7\": 1, \"22\": 1, \"24\": 1, \"20\": 17, \"45\": 2, \"56\": 1, \"11\": 3, \"52\": 1, \"13\": 2, \"53\": 2, \"57\": 1}, \"5\": {\"5\": 144, \"17\": 1, \"50\": 1, \"48\": 1, \"16\": 1, \"55\": 1, \"8\": 1, \"30\": 2}, \"29\": {\"29\": 66, \"12\": 3, \"4\": 14, \"1\": 5, \"46\": 7, \"3\": 2, \"57\": 7, \"35\": 1, \"25\": 2, \"5\": 1, \"50\": 3, \"40\": 6, \"19\": 4, \"51\": 5, \"44\": 6, \"43\": 1, \"13\": 1, \"20\": 1, \"55\": 1, \"47\": 1, \"56\": 2, \"27\": 1}, \"47\": {\"47\": 107, \"1\": 5, \"40\": 1, \"32\": 1, \"43\": 1, \"19\": 3, \"24\": 2, \"52\": 1, \"23\": 1, \"3\": 1, \"22\": 3, \"27\": 6, \"50\": 1, \"42\": 1, \"44\": 1, \"55\": 1, \"15\": 1, \"56\": 2, \"46\": 1}, \"10\": {\"10\": 89, \"11\": 2, \"21\": 1, \"43\": 4}, \"18\": {\"18\": 68, \"50\": 1, \"16\": 1, \"8\": 2}, \"9\": {\"9\": 122, \"18\": 2, \"16\": 1, \"30\": 1}, \"3\": {\"3\": 62, \"19\": 4, \"40\": 5, \"29\": 6, \"35\": 2, \"51\": 4, \"55\": 8, \"13\": 4, \"6\": 2, \"48\": 2, \"43\": 2, \"46\": 4, \"53\": 1, \"25\": 3, \"47\": 1, \"5\": 3, \"54\": 2, \"56\": 3, \"4\": 6, \"15\": 1, \"44\": 3, \"57\": 3, \"7\": 1, \"50\": 1, \"0\": 1, \"10\": 1, \"22\": 1, \"20\": 2, \"52\": 2}, \"52\": {\"52\": 129, \"39\": 1, \"24\": 1, \"43\": 1}, \"25\": {\"41\": 2, \"25\": 46, \"14\": 1, \"51\": 3, \"45\": 2, \"30\": 6, \"37\": 5, \"28\": 1, \"53\": 5, \"26\": 1, \"5\": 23, \"3\": 1, \"57\": 2, \"46\": 1, \"50\": 3, \"8\": 9, \"48\": 3, \"20\": 4, \"36\": 1, \"1\": 1, \"12\": 6, \"6\": 2, \"17\": 1, \"16\": 2, \"29\": 1, \"56\": 1, \"55\": 2, \"43\": 1}, \"19\": {\"56\": 13, \"19\": 66, \"45\": 21, \"42\": 6, \"35\": 2, \"47\": 6, \"17\": 3, \"25\": 5, \"1\": 7, \"44\": 7, \"57\": 5, \"20\": 1, \"50\": 2, \"53\": 2, \"22\": 1, \"29\": 1, \"46\": 2, \"32\": 1, \"54\": 1, \"30\": 1, \"36\": 1, \"23\": 1, \"16\": 1}, \"11\": {\"23\": 10, \"15\": 17, \"11\": 98, \"10\": 4, \"21\": 7}, \"7\": {\"7\": 28}, \"23\": {\"23\": 136}, \"44\": {\"1\": 9, \"44\": 42, \"46\": 9, \"54\": 1, \"47\": 10, \"57\": 7, \"32\": 1, \"45\": 6, \"12\": 1, \"27\": 8, \"19\": 15, \"56\": 7, \"43\": 2, \"40\": 2, \"55\": 1, \"7\": 2, \"37\": 1, \"35\": 2, \"50\": 2, \"25\": 1, \"51\": 1, \"15\": 1, \"23\": 1}, \"42\": {\"42\": 34, \"45\": 5, \"36\": 1}, \"54\": {\"54\": 104}, \"1\": {\"1\": 52, \"32\": 2, \"57\": 4, \"19\": 10, \"47\": 3, \"44\": 7, \"46\": 3, \"20\": 2, \"45\": 3, \"8\": 1, \"16\": 1, \"23\": 1, \"56\": 7, \"10\": 1, \"6\": 1, \"25\": 2}, \"46\": {\"2\": 1, \"44\": 5, \"19\": 2, \"8\": 12, \"5\": 22, \"46\": 21, \"30\": 5, \"48\": 14, \"6\": 5, \"25\": 5, \"4\": 5, \"29\": 3, \"57\": 6, \"18\": 2, \"1\": 2, \"50\": 7, \"56\": 1, \"53\": 4, \"37\": 1, \"40\": 2, \"45\": 1, \"47\": 2}, \"6\": {\"6\": 59, \"46\": 3, \"40\": 1, \"8\": 14, \"57\": 2, \"19\": 3, \"30\": 3, \"17\": 2, \"48\": 2, \"16\": 3, \"45\": 2, \"50\": 1, \"25\": 1}, \"43\": {\"39\": 1, \"52\": 13, \"43\": 94, \"20\": 4, \"31\": 1, \"10\": 5, \"22\": 2, \"27\": 14, \"51\": 1, \"23\": 1, \"21\": 1, \"24\": 2, \"15\": 2, \"11\": 3}, \"51\": {\"53\": 20, \"51\": 83, \"25\": 1, \"30\": 3, \"16\": 6, \"18\": 4, \"12\": 2, \"20\": 7, \"45\": 4, \"10\": 1, \"15\": 1, \"13\": 3, \"19\": 1, \"9\": 2, \"36\": 1, \"3\": 1, \"43\": 1, \"8\": 1}, \"22\": {\"24\": 11, \"22\": 121, \"0\": 1, \"39\": 1, \"54\": 1, \"52\": 1}, \"0\": {\"0\": 124, \"54\": 2, \"24\": 2}}, \"C_4\": {\"32\": {\"32\": 22, \"46\": 1, \"5\": 1}, \"2\": {\"2\": 36}, \"41\": {\"41\": 35, \"5\": 1}, \"11\": {\"11\": 73, \"38\": 1, \"52\": 3, \"15\": 17, \"35\": 1, \"5\": 3, \"43\": 1, \"46\": 1, \"22\": 1, \"6\": 1}, \"57\": {\"32\": 2, \"57\": 91, \"29\": 3, \"5\": 1, \"47\": 3}, \"6\": {\"6\": 60, \"36\": 6, \"4\": 2, \"54\": 9, \"5\": 3, \"3\": 11, \"42\": 1, \"18\": 5, \"47\": 3, \"48\": 3, \"27\": 1, \"23\": 1, \"35\": 2, \"16\": 1, \"20\": 2, \"8\": 1, \"55\": 1}, \"23\": {\"23\": 135, \"18\": 1}, \"52\": {\"52\": 114, \"16\": 2}, \"38\": {\"38\": 40}, \"50\": {\"45\": 2, \"6\": 5, \"54\": 13, \"12\": 6, \"50\": 17, \"4\": 3, \"8\": 14, \"40\": 3, \"36\": 7, \"34\": 1, \"14\": 1, \"26\": 1, \"53\": 6, \"55\": 2, \"3\": 14, \"17\": 2, \"27\": 8, \"9\": 3, \"19\": 4, \"21\": 9, \"25\": 7, \"30\": 1, \"44\": 1, \"48\": 1, \"57\": 1}, \"55\": {\"52\": 1, \"55\": 115, \"28\": 2, \"5\": 3, \"43\": 1, \"54\": 2, \"23\": 1, \"9\": 1, \"56\": 6, \"22\": 1, \"29\": 1, \"47\": 1, \"48\": 7, \"26\": 2, \"35\": 2, \"34\": 2, \"2\": 1, \"3\": 1, \"27\": 1, \"6\": 1}, \"46\": {\"41\": 3, \"49\": 1, \"46\": 76, \"1\": 5, \"7\": 2, \"16\": 1, \"57\": 4, \"15\": 3, \"5\": 9, \"38\": 2, \"43\": 8, \"24\": 6, \"35\": 1, \"47\": 6, \"0\": 6, \"56\": 3, \"6\": 2, \"11\": 4, \"23\": 2, \"13\": 2, \"39\": 1, \"32\": 2, \"52\": 4, \"55\": 1}, \"37\": {\"52\": 1, \"41\": 1, \"37\": 11, \"35\": 1, \"13\": 3, \"33\": 1, \"31\": 3, \"53\": 1, \"24\": 2}, \"20\": {\"45\": 2, \"23\": 4, \"20\": 102, \"12\": 1, \"18\": 7, \"48\": 2}, \"49\": {\"49\": 16, \"0\": 2, \"46\": 1, \"43\": 1}, \"45\": {\"45\": 40, \"50\": 2, \"4\": 12, \"53\": 1, \"14\": 2, \"12\": 6, \"19\": 8, \"21\": 6, \"44\": 6, \"40\": 4, \"17\": 2, \"25\": 2, \"8\": 1, \"18\": 2, \"6\": 1, \"36\": 1}, \"54\": {\"54\": 108}, \"3\": {\"3\": 91, \"54\": 10, \"4\": 1, \"53\": 1, \"55\": 1, \"48\": 1, \"6\": 9, \"51\": 1, \"34\": 1, \"42\": 3, \"50\": 2, \"47\": 1, \"8\": 1, \"36\": 1}, \"13\": {\"55\": 12, \"13\": 54, \"35\": 8, \"49\": 1, \"31\": 1, \"4\": 1, \"33\": 1, \"43\": 10, \"53\": 1, \"22\": 11, \"40\": 3, \"2\": 3, \"5\": 1, \"54\": 1, \"24\": 4, \"3\": 2, \"51\": 10, \"19\": 3, \"46\": 1, \"56\": 9, \"10\": 5, \"41\": 3, \"37\": 2, \"14\": 2, \"17\": 1, \"52\": 1, \"11\": 1}, \"18\": {\"18\": 97, \"23\": 7, \"12\": 1, \"20\": 1, \"16\": 2}, \"21\": {\"21\": 57, \"12\": 8, \"29\": 3, \"9\": 5, \"26\": 1, \"50\": 11, \"45\": 7, \"4\": 3, \"36\": 2, \"53\": 1, \"40\": 1, \"17\": 3, \"25\": 12, \"3\": 1, \"27\": 1, \"10\": 1, \"13\": 1, \"54\": 1, \"57\": 1, \"6\": 1, \"52\": 1, \"51\": 2, \"8\": 1, \"19\": 1}, \"43\": {\"43\": 140, \"11\": 1, \"46\": 1, \"24\": 1, \"5\": 1}, \"47\": {\"49\": 1, \"47\": 108, \"46\": 4, \"5\": 4, \"11\": 2, \"1\": 1}, \"4\": {\"55\": 3, \"4\": 42, \"17\": 8, \"57\": 2, \"14\": 1, \"30\": 2, \"40\": 2, \"26\": 3, \"29\": 9, \"48\": 7, \"34\": 1, \"19\": 14, \"35\": 1, \"23\": 2, \"53\": 7, \"9\": 5, \"22\": 1, \"51\": 3, \"27\": 4, \"28\": 2, \"33\": 1, \"50\": 4, \"54\": 2, \"3\": 3, \"8\": 3}, \"12\": {\"54\": 3, \"21\": 8, \"12\": 43, \"25\": 8, \"30\": 2, \"4\": 2, \"8\": 2, \"19\": 1, \"6\": 3, \"45\": 3, \"36\": 1, \"50\": 5, \"17\": 2, \"29\": 2, \"27\": 2, \"55\": 1, \"3\": 2, \"53\": 1, \"20\": 1}, \"9\": {\"28\": 2, \"20\": 2, \"9\": 29, \"17\": 10, \"8\": 4, \"51\": 4, \"26\": 1, \"52\": 4, \"53\": 7, \"13\": 2, \"27\": 25, \"48\": 14, \"10\": 3, \"11\": 1, \"45\": 2, \"55\": 2, \"23\": 2, \"4\": 1, \"36\": 3, \"57\": 1, \"25\": 2, \"33\": 2, \"18\": 4, \"37\": 1}, \"7\": {\"7\": 23, \"49\": 1}, \"56\": {\"56\": 99, \"39\": 1, \"2\": 1, \"43\": 3, \"55\": 2, \"4\": 1, \"29\": 1, \"22\": 2, \"46\": 2}, \"28\": {\"54\": 1, \"28\": 19, \"55\": 2, \"42\": 3, \"5\": 2, \"47\": 1, \"34\": 1, \"52\": 3}, \"44\": {\"44\": 91, \"14\": 1, \"19\": 8, \"4\": 5, \"45\": 4, \"51\": 2, \"40\": 6, \"9\": 1, \"54\": 3, \"33\": 2, \"50\": 1, \"10\": 1, \"28\": 1, \"5\": 1, \"17\": 1, \"12\": 1, \"29\": 1, \"52\": 1, \"13\": 1}, \"24\": {\"24\": 46, \"43\": 7, \"0\": 2, \"6\": 1}, \"33\": {\"54\": 1, \"9\": 4, \"10\": 2, \"37\": 2, \"31\": 1, \"33\": 7, \"55\": 3, \"4\": 2, \"48\": 3, \"29\": 1, \"17\": 1, \"57\": 1, \"53\": 1, \"36\": 1, \"14\": 1, \"5\": 1, \"35\": 3, \"28\": 1}, \"35\": {\"35\": 40}, \"51\": {\"51\": 48, \"27\": 17, \"8\": 14, \"18\": 4, \"19\": 2, \"13\": 10, \"44\": 1, \"53\": 21, \"43\": 1, \"23\": 3, \"16\": 2, \"22\": 1, \"4\": 1, \"55\": 1, \"40\": 2, \"20\": 4, \"9\": 2, \"17\": 1, \"5\": 1, \"50\": 1, \"25\": 1}, \"39\": {\"39\": 20}, \"36\": {\"36\": 89, \"44\": 1, \"6\": 2}, \"19\": {\"44\": 12, \"29\": 6, \"10\": 3, \"19\": 41, \"53\": 2, \"40\": 5, \"4\": 3, \"26\": 1, \"6\": 3, \"21\": 3, \"36\": 1, \"45\": 4, \"48\": 5, \"57\": 3, \"17\": 3, \"23\": 1, \"12\": 3, \"5\": 1, \"50\": 5, \"51\": 4, \"54\": 6, \"25\": 5, \"9\": 7, \"13\": 2, \"55\": 4, \"35\": 1, \"52\": 3, \"22\": 1, \"47\": 2}, \"0\": {\"0\": 64, \"49\": 1, \"46\": 2, \"43\": 4, \"24\": 1, \"7\": 1, \"1\": 1, \"47\": 2, \"11\": 1, \"22\": 1, \"38\": 1, \"5\": 1}, \"15\": {\"15\": 123, \"43\": 2, \"5\": 2, \"52\": 1, \"11\": 6, \"16\": 1, \"3\": 1}, \"29\": {\"29\": 46, \"33\": 1, \"4\": 4, \"48\": 8, \"56\": 5, \"57\": 19, \"28\": 4, \"47\": 8, \"35\": 1, \"52\": 2, \"45\": 3, \"36\": 1, \"1\": 2, \"32\": 1, \"50\": 2, \"40\": 2, \"46\": 3, \"25\": 1, \"3\": 1, \"27\": 1, \"19\": 5, \"6\": 2, \"44\": 1, \"9\": 1}, \"30\": {\"30\": 42, \"8\": 2}, \"1\": {\"1\": 40}, \"22\": {\"22\": 125, \"13\": 1, \"46\": 1, \"10\": 1}, \"40\": {\"53\": 2, \"40\": 41, \"19\": 13, \"9\": 7, \"52\": 2, \"45\": 7, \"44\": 15, \"10\": 6, \"50\": 5, \"13\": 4, \"21\": 2, \"4\": 6, \"17\": 1, \"51\": 11, \"22\": 1, \"55\": 1, \"25\": 4, \"14\": 1, \"31\": 1, \"28\": 1, \"37\": 4, \"2\": 2, \"12\": 2, \"33\": 3, \"23\": 1, \"54\": 1, \"6\": 2}, \"8\": {\"8\": 123, \"30\": 3, \"27\": 2}, \"53\": {\"8\": 15, \"26\": 2, \"18\": 1, \"14\": 1, \"53\": 71, \"20\": 3, \"6\": 2, \"42\": 1, \"25\": 2, \"17\": 2, \"27\": 20, \"51\": 4, \"13\": 2, \"4\": 3, \"50\": 3, \"54\": 2, \"30\": 2, \"9\": 1, \"21\": 1}, \"34\": {\"34\": 24}, \"10\": {\"22\": 10, \"10\": 109, \"3\": 1, \"15\": 1, \"0\": 1}, \"31\": {\"9\": 2, \"51\": 2, \"31\": 7, \"43\": 2, \"37\": 4, \"17\": 2, \"28\": 1, \"47\": 3, \"39\": 1, \"5\": 2, \"42\": 2}, \"17\": {\"17\": 31, \"26\": 2, \"9\": 4, \"25\": 2, \"33\": 1, \"50\": 2, \"48\": 3, \"55\": 2, \"53\": 5, \"52\": 1, \"27\": 9, \"3\": 2, \"23\": 1, \"18\": 5, \"30\": 2, \"4\": 1, \"8\": 4, \"12\": 1, \"20\": 1, \"51\": 1}, \"16\": {\"16\": 83, \"5\": 4, \"11\": 2, \"52\": 2, \"46\": 1, \"15\": 2, \"23\": 2}, \"42\": {\"42\": 31, \"23\": 1}, \"27\": {\"27\": 105, \"8\": 16, \"30\": 1, \"17\": 3, \"48\": 5, \"36\": 2, \"23\": 1, \"9\": 1, \"18\": 1, \"53\": 4, \"50\": 1, \"3\": 1, \"19\": 1}, \"14\": {\"38\": 1, \"3\": 1, \"50\": 1, \"7\": 1, \"45\": 1, \"47\": 1, \"40\": 1, \"46\": 1, \"49\": 1, \"12\": 1, \"44\": 2, \"43\": 1, \"35\": 1, \"14\": 2}, \"25\": {\"25\": 26, \"8\": 12, \"21\": 12, \"42\": 2, \"27\": 16, \"40\": 1, \"52\": 1, \"12\": 8, \"16\": 1, \"45\": 3, \"3\": 7, \"9\": 2, \"54\": 4, \"36\": 1, \"53\": 4, \"50\": 6, \"51\": 3, \"19\": 4, \"20\": 1, \"30\": 1, \"17\": 1, \"6\": 1, \"29\": 1, \"4\": 2, \"18\": 1, \"48\": 1}, \"48\": {\"48\": 123, \"57\": 1, \"10\": 1, \"26\": 2, \"23\": 1, \"27\": 1, \"20\": 1, \"55\": 2}, \"26\": {\"26\": 22, \"48\": 2}, \"5\": {\"5\": 49, \"15\": 4, \"43\": 12, \"55\": 3, \"23\": 7, \"52\": 6, \"16\": 6, \"3\": 4, \"46\": 9, \"11\": 3, \"41\": 2, \"35\": 1, \"54\": 2}}, \"C_3\": {\"14\": {\"55\": 3, \"9\": 1, \"24\": 4, \"56\": 6, \"14\": 7, \"45\": 4, \"43\": 2, \"36\": 2, \"7\": 1, \"49\": 1, \"22\": 1, \"53\": 1, \"37\": 2, \"44\": 3, \"40\": 1, \"47\": 1}, \"18\": {\"18\": 79, \"23\": 3, \"30\": 2}, \"30\": {\"30\": 118, \"18\": 2}, \"16\": {\"16\": 126, \"18\": 3, \"23\": 12, \"48\": 7, \"52\": 1, \"20\": 5, \"46\": 1, \"11\": 1}, \"1\": {\"1\": 99, \"34\": 1}, \"20\": {\"20\": 119, \"18\": 7, \"16\": 2, \"17\": 1, \"46\": 1, \"30\": 1, \"27\": 1}, \"7\": {\"7\": 36}, \"52\": {\"52\": 123, \"23\": 2, \"11\": 2, \"15\": 1, \"16\": 1, \"48\": 1}, \"9\": {\"1\": 3, \"23\": 4, \"47\": 2, \"18\": 2, \"17\": 5, \"27\": 4, \"9\": 93, \"13\": 1, \"57\": 14, \"19\": 1, \"52\": 3, \"56\": 1, \"48\": 3, \"36\": 1, \"37\": 1, \"5\": 1, \"3\": 1}, \"23\": {\"23\": 140, \"4\": 1, \"16\": 3}, \"55\": {\"55\": 123, \"42\": 3, \"28\": 2, \"35\": 4, \"48\": 6, \"41\": 2, \"6\": 5, \"5\": 6, \"47\": 1, \"46\": 1, \"22\": 3, \"3\": 3, \"29\": 1, \"13\": 1, \"54\": 1, \"50\": 2}, \"29\": {\"14\": 1, \"1\": 3, \"29\": 28, \"42\": 2, \"40\": 1, \"34\": 3, \"54\": 3, \"17\": 3, \"23\": 4, \"4\": 7, \"6\": 1, \"0\": 3, \"57\": 26, \"3\": 4, \"21\": 1, \"51\": 2, \"53\": 4, \"47\": 5, \"9\": 12, \"19\": 6, \"22\": 1, \"27\": 1, \"25\": 2, \"5\": 1, \"48\": 2}, \"56\": {\"56\": 127, \"22\": 7}, \"3\": {\"6\": 10, \"42\": 1, \"3\": 41, \"21\": 4, \"50\": 15, \"26\": 3, \"32\": 1, \"20\": 2, \"37\": 2, \"13\": 1, \"17\": 2, \"36\": 5, \"27\": 4, \"51\": 2, \"30\": 2, \"11\": 1, \"48\": 4, \"4\": 1, \"18\": 1, \"53\": 2, \"55\": 5, \"19\": 2, \"16\": 3, \"5\": 1, \"46\": 6, \"56\": 1, \"54\": 1, \"25\": 1}, \"42\": {\"55\": 1, \"42\": 26, \"35\": 1}, \"6\": {\"6\": 61, \"30\": 4, \"26\": 3, \"20\": 2, \"41\": 1, \"46\": 7, \"36\": 1, \"18\": 3, \"55\": 1, \"16\": 1, \"50\": 1, \"3\": 2, \"47\": 1}, \"5\": {\"5\": 98, \"46\": 3, \"48\": 2, \"43\": 1, \"50\": 1, \"23\": 5, \"57\": 1, \"6\": 1, \"33\": 2, \"16\": 2}, \"27\": {\"27\": 92, \"38\": 1, \"17\": 18, \"50\": 3, \"32\": 1, \"12\": 1, \"30\": 2, \"9\": 3, \"5\": 3, \"57\": 4, \"3\": 3, \"48\": 3, \"29\": 1, \"36\": 2, \"33\": 1, \"6\": 1, \"23\": 1, \"46\": 1, \"8\": 3}, \"47\": {\"47\": 84, \"46\": 1, \"43\": 1, \"48\": 1, \"1\": 1, \"5\": 2, \"0\": 1, \"25\": 1}, \"39\": {\"39\": 16}, \"34\": {\"34\": 29, \"1\": 3}, \"4\": {\"4\": 46, \"14\": 2, \"33\": 1, \"54\": 6, \"36\": 5, \"27\": 6, \"19\": 13, \"10\": 1, \"52\": 1, \"57\": 1, \"48\": 1, \"53\": 4, \"51\": 4, \"17\": 2, \"25\": 4, \"3\": 4, \"21\": 3, \"40\": 3, \"9\": 5, \"29\": 4, \"46\": 1, \"55\": 3, \"45\": 1, \"8\": 2, \"12\": 1, \"5\": 1, \"50\": 1}, \"24\": {\"24\": 99, \"49\": 1, \"43\": 4}, \"46\": {\"50\": 7, \"16\": 9, \"35\": 1, \"46\": 58, \"23\": 5, \"26\": 2, \"18\": 7, \"48\": 1, \"6\": 2, \"20\": 6, \"30\": 3, \"47\": 1, \"17\": 2, \"3\": 8, \"41\": 1, \"31\": 1, \"5\": 1, \"27\": 1, \"55\": 1, \"43\": 1}, \"50\": {\"41\": 1, \"46\": 7, \"8\": 3, \"50\": 84, \"5\": 2, \"17\": 1, \"18\": 1, \"3\": 5, \"6\": 6, \"27\": 6, \"30\": 6, \"52\": 2, \"20\": 1, \"51\": 1}, \"38\": {\"38\": 25, \"17\": 2, \"40\": 1}, \"54\": {\"35\": 1, \"41\": 4, \"42\": 4, \"54\": 34, \"36\": 13, \"29\": 1, \"50\": 4, \"3\": 10, \"19\": 4, \"25\": 2, \"27\": 1, \"53\": 4, \"8\": 7, \"6\": 8, \"12\": 3}, \"35\": {\"35\": 28}, \"2\": {\"54\": 1, \"2\": 25, \"50\": 1, \"41\": 5}, \"41\": {\"41\": 28}, \"57\": {\"57\": 103, \"9\": 5, \"1\": 5, \"23\": 1, \"0\": 1, \"22\": 1, \"48\": 2}, \"25\": {\"25\": 38, \"45\": 4, \"12\": 6, \"50\": 11, \"36\": 12, \"54\": 6, \"53\": 14, \"29\": 5, \"6\": 2, \"41\": 1, \"8\": 13, \"3\": 11, \"51\": 1, \"4\": 5, \"40\": 7, \"20\": 1, \"46\": 4, \"19\": 3, \"57\": 1, \"44\": 3, \"55\": 2}, \"48\": {\"48\": 101, \"23\": 5, \"1\": 1, \"4\": 1, \"46\": 1, \"57\": 1, \"39\": 1, \"34\": 3, \"6\": 2}, \"33\": {\"33\": 16, \"50\": 2, \"51\": 1, \"5\": 2, \"27\": 3, \"48\": 2, \"10\": 2}, \"45\": {\"45\": 24, \"42\": 2, \"35\": 1, \"53\": 9, \"29\": 3, \"32\": 1, \"14\": 1, \"25\": 5, \"4\": 2, \"12\": 2, \"44\": 1, \"36\": 3, \"40\": 2, \"19\": 2, \"3\": 1, \"17\": 1}, \"13\": {\"28\": 4, \"41\": 2, \"55\": 15, \"13\": 40, \"5\": 10, \"48\": 2, \"6\": 2, \"3\": 6, \"51\": 2, \"21\": 6, \"24\": 8, \"46\": 2, \"43\": 8, \"19\": 2, \"9\": 3, \"22\": 3, \"7\": 2, \"37\": 1, \"42\": 2, \"40\": 1, \"33\": 1, \"56\": 1, \"27\": 1, \"50\": 2}, \"36\": {\"36\": 100}, \"43\": {\"43\": 132}, \"28\": {\"28\": 21, \"55\": 2, \"47\": 1, \"5\": 1, \"43\": 1, \"0\": 2}, \"0\": {\"0\": 121, \"15\": 1, \"16\": 1, \"43\": 1}, \"12\": {\"30\": 13, \"12\": 39, \"17\": 5, \"50\": 3, \"36\": 8, \"25\": 2, \"2\": 1, \"29\": 1, \"20\": 2, \"18\": 5, \"48\": 1, \"23\": 1, \"8\": 3, \"38\": 1, \"19\": 1, \"54\": 3, \"45\": 3}, \"31\": {\"31\": 25, \"55\": 1, \"24\": 1, \"28\": 1}, \"40\": {\"4\": 11, \"40\": 29, \"37\": 3, \"45\": 5, \"19\": 7, \"14\": 1, \"2\": 1, \"29\": 4, \"21\": 9, \"13\": 6, \"9\": 5, \"44\": 2, \"27\": 1, \"52\": 2, \"51\": 8, \"25\": 6, \"3\": 6, \"33\": 1, \"12\": 1, \"5\": 1, \"53\": 2, \"54\": 1, \"22\": 1, \"55\": 3}, \"44\": {\"44\": 56, \"10\": 1, \"55\": 3, \"3\": 2, \"45\": 1, \"21\": 2, \"51\": 4, \"53\": 1, \"40\": 8, \"29\": 1, \"4\": 2, \"12\": 1, \"19\": 3, \"13\": 1, \"27\": 1, \"54\": 1}, \"32\": {\"32\": 22, \"27\": 1, \"17\": 3, \"36\": 2}, \"26\": {\"26\": 23, \"46\": 1}, \"8\": {\"8\": 112, \"50\": 3, \"30\": 1}, \"10\": {\"10\": 62, \"56\": 1, \"22\": 1}, \"15\": {\"15\": 133, \"5\": 1, \"3\": 2, \"43\": 1, \"11\": 5}, \"21\": {\"46\": 4, \"17\": 5, \"37\": 3, \"50\": 15, \"21\": 56, \"52\": 11, \"38\": 2, \"41\": 1, \"3\": 4, \"18\": 2, \"30\": 2, \"16\": 3, \"11\": 1, \"9\": 2, \"51\": 4, \"27\": 4, \"20\": 2, \"36\": 2, \"13\": 3, \"8\": 1, \"57\": 1}, \"37\": {\"33\": 2, \"21\": 2, \"51\": 1, \"37\": 9, \"55\": 2, \"28\": 3, \"13\": 1, \"3\": 2, \"40\": 1, \"56\": 1, \"41\": 1, \"52\": 1, \"50\": 1, \"43\": 1}, \"17\": {\"17\": 95, \"9\": 2, \"27\": 6, \"32\": 1, \"12\": 1, \"18\": 1, \"30\": 2}, \"51\": {\"17\": 4, \"27\": 6, \"51\": 41, \"50\": 4, \"3\": 3, \"32\": 1, \"18\": 5, \"55\": 1, \"52\": 2, \"12\": 2, \"19\": 2, \"8\": 17, \"30\": 6, \"13\": 4, \"21\": 10, \"53\": 4, \"6\": 1, \"9\": 1, \"37\": 2, \"38\": 1, \"54\": 1, \"5\": 1, \"25\": 1, \"46\": 1, \"20\": 1, \"29\": 2}, \"53\": {\"29\": 3, \"18\": 2, \"53\": 47, \"54\": 8, \"3\": 2, \"8\": 12, \"36\": 9, \"14\": 3, \"50\": 12, \"27\": 12, \"45\": 5, \"12\": 4, \"40\": 3, \"30\": 3, \"4\": 4, \"51\": 1, \"19\": 1, \"17\": 3, \"32\": 2, \"52\": 2, \"25\": 4, \"6\": 1, \"46\": 1}, \"19\": {\"19\": 34, \"4\": 20, \"17\": 2, \"53\": 5, \"14\": 2, \"36\": 6, \"41\": 1, \"27\": 4, \"29\": 10, \"51\": 4, \"40\": 9, \"3\": 6, \"55\": 4, \"1\": 2, \"21\": 7, \"54\": 3, \"9\": 3, \"52\": 1, \"42\": 1, \"44\": 2, \"46\": 1, \"45\": 2, \"48\": 1, \"5\": 1, \"13\": 1, \"10\": 1, \"50\": 1, \"6\": 1, \"25\": 1}, \"49\": {\"49\": 20}, \"11\": {\"11\": 124, \"16\": 2, \"15\": 8, \"43\": 1, \"52\": 1, \"23\": 2}, \"22\": {\"22\": 121, \"56\": 8, \"24\": 1}}}, \"per_domain_accuracy\": {\"O_8\": {\"accuracy\": 0.83046875, \"source?\": true}, \"O_38\": {\"accuracy\": 0.8796875, \"source?\": true}, \"O_26\": {\"accuracy\": 0.6854166666666667, \"source?\": true}, \"O_20\": {\"accuracy\": 0.7658854166666667, \"source?\": true}, \"O_50\": {\"accuracy\": 0.8729166666666667, \"source?\": true}, \"O_32\": {\"accuracy\": 0.85, \"source?\": true}, \"O_44\": {\"accuracy\": 0.7372395833333333, \"source?\": true}, \"O_14\": {\"accuracy\": 0.8640625, \"source?\": true}, \"C_2\": {\"accuracy\": 0.6979758522727273, \"source?\": false}, \"C_5\": {\"accuracy\": 0.6648525280898876, \"source?\": false}, \"C_1\": {\"accuracy\": 0.6926510989010989, \"source?\": false}, \"C_4\": {\"accuracy\": 0.6665419161676647, \"source?\": false}, \"C_3\": {\"accuracy\": 0.7010233918128655, \"source?\": false}}}, \"history\": {\"epoch_indices\": [1, 2, 3, 4, 5, 6, 7, 8, 9, 10, 11, 12, 13, 14], \"train_label_loss\": [1.0717816969069343, 0.934949207483303, 0.8404105124773369, 0.7336609457929929, 0.6288359426250237, 0.5628908140008293, 0.5239426108271193, 0.49166414489958526, 0.4672359798219986, 0.45081328149009053, 0.43126337888201566, 0.41588636154608266, 0.4023253582617534, 0.38790251761009653], \"source_val_label_loss\": [2.9940075874328613, 0.9066001772880554, 0.8400026559829712, 0.6622790098190308, 0.7908793687820435, 0.5647656321525574, 0.5760119557380676, 0.4843275547027588, 0.5293381810188293, 0.504518449306488, 0.4354831874370575, 0.4501633942127228, 0.420212984085083, 0.4361145496368408], \"target_val_label_loss\": [304.5566711425781, 211.2431182861328, 227.94517517089844, 253.10604858398438, 267.684326171875, 257.25, 341.1588439941406, 482.36767578125, 536.2637939453125, 245.0790557861328, 415.8567810058594, 539.3251953125, 668.5488891601562, 819.57177734375], \"source_val_acc_label\": [0.6057291666666667, 0.66650390625, 0.6833658854166667, 0.7565104166666666, 0.7213541666666666, 0.7939127604166667, 0.7900065104166667, 0.82294921875, 0.8046875, 0.8107096354166666, 0.8412109375, 0.8352864583333334, 0.8474283854166667, 0.84052734375], \"target_val_acc_label\": [0.5461241418764302, 0.5687571510297483, 0.6061927917620137, 0.5931421624713958, 0.6090532036613272, 0.6158109267734554, 0.6025100114416476, 0.5847397025171625, 0.5823441075514875, 0.6847110983981693, 0.6459882723112128, 0.604941361556064, 0.5852045194508009, 0.5685068649885584]}, \"dataset_metrics\": {\"source\": {\"train\": {\"n_unique_x\": 179200, \"n_unique_y\": 16, \"n_batch/episode\": 6720}, \"val\": {\"n_unique_x\": 38400, \"n_unique_y\": 16, \"n_batch/episode\": 960}, \"test\": {\"n_unique_x\": 38400, \"n_unique_y\": 16, \"n_batch/episode\": 960}}, \"target\": {\"train\": {\"n_unique_x\": 175127, \"n_unique_y\": 58, \"n_batch/episode\": 6303}, \"val\": {\"n_unique_x\": 37135, \"n_unique_y\": 58, \"n_batch/episode\": 874}, \"test\": {\"n_unique_x\": 37673, \"n_unique_y\": 58, \"n_batch/episode\": 893}}}}'"
      ]
     },
     "execution_count": 29,
     "metadata": {},
     "output_type": "execute_result"
    }
   ],
   "source": [
    "json.dumps(experiment)"
   ]
  }
 ],
 "metadata": {
  "celltoolbar": "Tags",
  "kernelspec": {
   "display_name": "Python 3 (ipykernel)",
   "language": "python",
   "name": "python3"
  },
  "language_info": {
   "codemirror_mode": {
    "name": "ipython",
    "version": 3
   },
   "file_extension": ".py",
   "mimetype": "text/x-python",
   "name": "python",
   "nbconvert_exporter": "python",
   "pygments_lexer": "ipython3",
   "version": "3.8.12"
  },
  "papermill": {
   "default_parameters": {},
   "duration": 2488.101246,
   "end_time": "2022-03-28T05:15:04.607131",
   "environment_variables": {},
   "exception": null,
   "input_path": "/root/csc500-main/csc500-notebooks/templates/tl_ptn_template.ipynb",
   "output_path": "trial.ipynb",
   "parameters": {
    "parameters": {
     "BEST_MODEL_PATH": "./best_model.pth",
     "NUM_LOGS_PER_EPOCH": 10,
     "criteria_for_best": "target_accuracy",
     "dataset_seed": 154325,
     "datasets": [
      {
       "domain_prefix": "C_",
       "domains": [
        1,
        2,
        3,
        4,
        5
       ],
       "episode_transforms": [],
       "labels": [
        "1-10.",
        "1-11.",
        "1-15.",
        "1-16.",
        "1-17.",
        "1-18.",
        "1-19.",
        "10-4.",
        "10-7.",
        "11-1.",
        "11-14.",
        "11-17.",
        "11-20.",
        "11-7.",
        "13-20.",
        "13-8.",
        "14-10.",
        "14-11.",
        "14-14.",
        "14-7.",
        "15-1.",
        "15-20.",
        "16-1.",
        "16-16.",
        "17-10.",
        "17-11.",
        "17-2.",
        "19-1.",
        "19-16.",
        "19-19.",
        "19-20.",
        "19-3.",
        "2-10.",
        "2-11.",
        "2-17.",
        "2-18.",
        "2-20.",
        "2-3.",
        "2-4.",
        "2-5.",
        "2-6.",
        "2-7.",
        "2-8.",
        "3-13.",
        "3-18.",
        "3-3.",
        "4-1.",
        "4-10.",
        "4-11.",
        "4-19.",
        "5-5.",
        "6-15.",
        "7-10.",
        "7-14.",
        "8-18.",
        "8-20.",
        "8-3.",
        "8-8."
       ],
       "num_examples_per_domain_per_label": -1,
       "pickle_path": "/root/csc500-main/datasets/cores.stratified_ds.2022A.pkl",
       "source_or_target_dataset": "target",
       "x_transforms": [
        "unit_mag",
        "jitter_256_1",
        "lowpass_+/-10MHz",
        "take_200"
       ]
      },
      {
       "domain_prefix": "O_",
       "domains": [
        32,
        38,
        8,
        44,
        14,
        50,
        20,
        26
       ],
       "episode_transforms": [],
       "labels": [
        "3123D52",
        "3123D65",
        "3123D79",
        "3123D80",
        "3123D54",
        "3123D70",
        "3123D7B",
        "3123D89",
        "3123D58",
        "3123D76",
        "3123D7D",
        "3123EFE",
        "3123D64",
        "3123D78",
        "3123D7E",
        "3124E4A"
       ],
       "num_examples_per_domain_per_label": 2000,
       "pickle_path": "/root/csc500-main/datasets/oracle.Run1_framed_2000Examples_stratified_ds.2022A.pkl",
       "source_or_target_dataset": "source",
       "x_transforms": [
        "unit_mag",
        "jitter_256_1",
        "take_200",
        "resample_20Msps_to_25Msps"
       ]
      }
     ],
     "device": "cuda",
     "experiment_name": "tl_3-jitter1v2:oracle.run1.framed -> cores",
     "lr": 0.0001,
     "n_epoch": 50,
     "n_query": 2,
     "n_shot": 3,
     "n_way": 16,
     "patience": 3,
     "seed": 154325,
     "test_k_factor": 2,
     "torch_default_dtype": "torch.float32",
     "train_k_factor": 3,
     "val_k_factor": 2,
     "x_net": [
      {
       "class": "nnReshape",
       "kargs": {
        "shape": [
         -1,
         1,
         2,
         256
        ]
       }
      },
      {
       "class": "Conv2d",
       "kargs": {
        "bias": false,
        "in_channels": 1,
        "kernel_size": [
         1,
         7
        ],
        "out_channels": 256,
        "padding": [
         0,
         3
        ]
       }
      },
      {
       "class": "ReLU",
       "kargs": {
        "inplace": true
       }
      },
      {
       "class": "BatchNorm2d",
       "kargs": {
        "num_features": 256
       }
      },
      {
       "class": "Conv2d",
       "kargs": {
        "bias": true,
        "in_channels": 256,
        "kernel_size": [
         2,
         7
        ],
        "out_channels": 80,
        "padding": [
         0,
         3
        ]
       }
      },
      {
       "class": "ReLU",
       "kargs": {
        "inplace": true
       }
      },
      {
       "class": "BatchNorm2d",
       "kargs": {
        "num_features": 80
       }
      },
      {
       "class": "Flatten",
       "kargs": {}
      },
      {
       "class": "Linear",
       "kargs": {
        "in_features": 20480,
        "out_features": 256
       }
      },
      {
       "class": "ReLU",
       "kargs": {
        "inplace": true
       }
      },
      {
       "class": "BatchNorm1d",
       "kargs": {
        "num_features": 256
       }
      },
      {
       "class": "Linear",
       "kargs": {
        "in_features": 256,
        "out_features": 256
       }
      }
     ],
     "x_shape": [
      2,
      256
     ]
    }
   },
   "start_time": "2022-03-28T04:33:36.505885",
   "version": "2.3.4"
  }
 },
 "nbformat": 4,
 "nbformat_minor": 5
}