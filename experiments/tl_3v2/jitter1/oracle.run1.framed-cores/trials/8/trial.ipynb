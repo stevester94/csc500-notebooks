{
 "cells": [
  {
   "cell_type": "markdown",
   "id": "9fea5f46",
   "metadata": {
    "papermill": {
     "duration": 0.027712,
     "end_time": "2022-03-28T05:00:07.759120",
     "exception": false,
     "start_time": "2022-03-28T05:00:07.731408",
     "status": "completed"
    },
    "tags": []
   },
   "source": [
    "# Transfer Learning Template"
   ]
  },
  {
   "cell_type": "code",
   "execution_count": 1,
   "id": "0902182a",
   "metadata": {
    "execution": {
     "iopub.execute_input": "2022-03-28T05:00:07.821226Z",
     "iopub.status.busy": "2022-03-28T05:00:07.810085Z",
     "iopub.status.idle": "2022-03-28T05:00:09.712450Z",
     "shell.execute_reply": "2022-03-28T05:00:09.712023Z"
    },
    "papermill": {
     "duration": 1.929919,
     "end_time": "2022-03-28T05:00:09.712554",
     "exception": false,
     "start_time": "2022-03-28T05:00:07.782635",
     "status": "completed"
    },
    "tags": []
   },
   "outputs": [],
   "source": [
    "%load_ext autoreload\n",
    "%autoreload 2\n",
    "%matplotlib inline\n",
    "\n",
    "    \n",
    "import os, json, sys, time, random\n",
    "import numpy as np\n",
    "import torch\n",
    "from torch.optim import Adam\n",
    "from  easydict import EasyDict\n",
    "import matplotlib.pyplot as plt\n",
    "\n",
    "from steves_models.steves_ptn import Steves_Prototypical_Network\n",
    "\n",
    "from steves_utils.lazy_iterable_wrapper import Lazy_Iterable_Wrapper\n",
    "from steves_utils.iterable_aggregator import Iterable_Aggregator\n",
    "from steves_utils.ptn_train_eval_test_jig import  PTN_Train_Eval_Test_Jig\n",
    "from steves_utils.torch_sequential_builder import build_sequential\n",
    "from steves_utils.torch_utils import get_dataset_metrics, ptn_confusion_by_domain_over_dataloader\n",
    "from steves_utils.utils_v2 import (per_domain_accuracy_from_confusion, get_datasets_base_path)\n",
    "from steves_utils.PTN.utils import independent_accuracy_assesment\n",
    "\n",
    "from torch.utils.data import DataLoader\n",
    "\n",
    "from steves_utils.stratified_dataset.episodic_accessor import Episodic_Accessor_Factory\n",
    "\n",
    "from steves_utils.ptn_do_report import (\n",
    "    get_loss_curve,\n",
    "    get_results_table,\n",
    "    get_parameters_table,\n",
    "    get_domain_accuracies,\n",
    ")\n",
    "\n",
    "from steves_utils.transforms import get_chained_transform"
   ]
  },
  {
   "cell_type": "markdown",
   "id": "41c840b4",
   "metadata": {
    "papermill": {
     "duration": 0.019071,
     "end_time": "2022-03-28T05:00:09.751330",
     "exception": false,
     "start_time": "2022-03-28T05:00:09.732259",
     "status": "completed"
    },
    "tags": []
   },
   "source": [
    "# Allowed Parameters\n",
    "These are allowed parameters, not defaults\n",
    "Each of these values need to be present in the injected parameters (the notebook will raise an exception if they are not present)\n",
    "\n",
    "Papermill uses the cell tag \"parameters\" to inject the real parameters below this cell.\n",
    "Enable tags to see what I mean"
   ]
  },
  {
   "cell_type": "code",
   "execution_count": 2,
   "id": "fd44eb83",
   "metadata": {
    "execution": {
     "iopub.execute_input": "2022-03-28T05:00:09.794450Z",
     "iopub.status.busy": "2022-03-28T05:00:09.794071Z",
     "iopub.status.idle": "2022-03-28T05:00:09.819914Z",
     "shell.execute_reply": "2022-03-28T05:00:09.819595Z"
    },
    "papermill": {
     "duration": 0.049456,
     "end_time": "2022-03-28T05:00:09.819996",
     "exception": false,
     "start_time": "2022-03-28T05:00:09.770540",
     "status": "completed"
    },
    "tags": []
   },
   "outputs": [],
   "source": [
    "required_parameters = {\n",
    "    \"experiment_name\",\n",
    "    \"lr\",\n",
    "    \"device\",\n",
    "    \"seed\",\n",
    "    \"dataset_seed\",\n",
    "    \"n_shot\",\n",
    "    \"n_query\",\n",
    "    \"n_way\",\n",
    "    \"train_k_factor\",\n",
    "    \"val_k_factor\",\n",
    "    \"test_k_factor\",\n",
    "    \"n_epoch\",\n",
    "    \"patience\",\n",
    "    \"criteria_for_best\",\n",
    "    \"x_net\",\n",
    "    \"datasets\",\n",
    "    \"torch_default_dtype\",\n",
    "    \"NUM_LOGS_PER_EPOCH\",\n",
    "    \"BEST_MODEL_PATH\",\n",
    "    \"x_shape\",\n",
    "}"
   ]
  },
  {
   "cell_type": "code",
   "execution_count": 3,
   "id": "fa3f0049",
   "metadata": {
    "execution": {
     "iopub.execute_input": "2022-03-28T05:00:09.872924Z",
     "iopub.status.busy": "2022-03-28T05:00:09.872514Z",
     "iopub.status.idle": "2022-03-28T05:00:09.894190Z",
     "shell.execute_reply": "2022-03-28T05:00:09.894493Z"
    },
    "papermill": {
     "duration": 0.054949,
     "end_time": "2022-03-28T05:00:09.894574",
     "exception": false,
     "start_time": "2022-03-28T05:00:09.839625",
     "status": "completed"
    },
    "tags": [
     "parameters"
    ]
   },
   "outputs": [],
   "source": [
    "from steves_utils.CORES.utils import (\n",
    "    ALL_NODES,\n",
    "    ALL_NODES_MINIMUM_1000_EXAMPLES,\n",
    "    ALL_DAYS\n",
    ")\n",
    "\n",
    "from steves_utils.ORACLE.utils_v2 import (\n",
    "    ALL_DISTANCES_FEET_NARROWED,\n",
    "    ALL_RUNS,\n",
    "    ALL_SERIAL_NUMBERS,\n",
    ")\n",
    "\n",
    "standalone_parameters = {}\n",
    "standalone_parameters[\"experiment_name\"] = \"STANDALONE PTN\"\n",
    "standalone_parameters[\"lr\"] = 0.001\n",
    "standalone_parameters[\"device\"] = \"cuda\"\n",
    "\n",
    "standalone_parameters[\"seed\"] = 1337\n",
    "standalone_parameters[\"dataset_seed\"] = 1337\n",
    "\n",
    "standalone_parameters[\"n_way\"] = 8\n",
    "standalone_parameters[\"n_shot\"] = 3\n",
    "standalone_parameters[\"n_query\"]  = 2\n",
    "standalone_parameters[\"train_k_factor\"] = 1\n",
    "standalone_parameters[\"val_k_factor\"] = 2\n",
    "standalone_parameters[\"test_k_factor\"] = 2\n",
    "\n",
    "\n",
    "standalone_parameters[\"n_epoch\"] = 50\n",
    "\n",
    "standalone_parameters[\"patience\"] = 10\n",
    "standalone_parameters[\"criteria_for_best\"] = \"source_loss\"\n",
    "\n",
    "standalone_parameters[\"datasets\"] = [\n",
    "    {\n",
    "        \"labels\": ALL_SERIAL_NUMBERS,\n",
    "        \"domains\": ALL_DISTANCES_FEET_NARROWED,\n",
    "        \"num_examples_per_domain_per_label\": 100,\n",
    "        \"pickle_path\": os.path.join(get_datasets_base_path(), \"oracle.Run1_framed_2000Examples_stratified_ds.2022A.pkl\"),\n",
    "        \"source_or_target_dataset\": \"source\",\n",
    "        \"x_transforms\": [\"unit_mag\", \"minus_two\"],\n",
    "        \"episode_transforms\": [],\n",
    "        \"domain_prefix\": \"ORACLE_\"\n",
    "    },\n",
    "    {\n",
    "        \"labels\": ALL_NODES,\n",
    "        \"domains\": ALL_DAYS,\n",
    "        \"num_examples_per_domain_per_label\": 100,\n",
    "        \"pickle_path\": os.path.join(get_datasets_base_path(), \"cores.stratified_ds.2022A.pkl\"),\n",
    "        \"source_or_target_dataset\": \"target\",\n",
    "        \"x_transforms\": [\"unit_power\", \"times_zero\"],\n",
    "        \"episode_transforms\": [],\n",
    "        \"domain_prefix\": \"CORES_\"\n",
    "    }   \n",
    "]\n",
    "\n",
    "standalone_parameters[\"torch_default_dtype\"] = \"torch.float32\" \n",
    "\n",
    "\n",
    "\n",
    "standalone_parameters[\"x_net\"] =     [\n",
    "    {\"class\": \"nnReshape\", \"kargs\": {\"shape\":[-1, 1, 2, 256]}},\n",
    "    {\"class\": \"Conv2d\", \"kargs\": { \"in_channels\":1, \"out_channels\":256, \"kernel_size\":(1,7), \"bias\":False, \"padding\":(0,3), },},\n",
    "    {\"class\": \"ReLU\", \"kargs\": {\"inplace\": True}},\n",
    "    {\"class\": \"BatchNorm2d\", \"kargs\": {\"num_features\":256}},\n",
    "\n",
    "    {\"class\": \"Conv2d\", \"kargs\": { \"in_channels\":256, \"out_channels\":80, \"kernel_size\":(2,7), \"bias\":True, \"padding\":(0,3), },},\n",
    "    {\"class\": \"ReLU\", \"kargs\": {\"inplace\": True}},\n",
    "    {\"class\": \"BatchNorm2d\", \"kargs\": {\"num_features\":80}},\n",
    "    {\"class\": \"Flatten\", \"kargs\": {}},\n",
    "\n",
    "    {\"class\": \"Linear\", \"kargs\": {\"in_features\": 80*256, \"out_features\": 256}}, # 80 units per IQ pair\n",
    "    {\"class\": \"ReLU\", \"kargs\": {\"inplace\": True}},\n",
    "    {\"class\": \"BatchNorm1d\", \"kargs\": {\"num_features\":256}},\n",
    "\n",
    "    {\"class\": \"Linear\", \"kargs\": {\"in_features\": 256, \"out_features\": 256}},\n",
    "]\n",
    "\n",
    "# Parameters relevant to results\n",
    "# These parameters will basically never need to change\n",
    "standalone_parameters[\"NUM_LOGS_PER_EPOCH\"] = 10\n",
    "standalone_parameters[\"BEST_MODEL_PATH\"] = \"./best_model.pth\"\n",
    "\n",
    "\n",
    "\n",
    "\n"
   ]
  },
  {
   "cell_type": "code",
   "execution_count": 4,
   "id": "b23e52ba",
   "metadata": {
    "execution": {
     "iopub.execute_input": "2022-03-28T05:00:09.952403Z",
     "iopub.status.busy": "2022-03-28T05:00:09.947025Z",
     "iopub.status.idle": "2022-03-28T05:00:09.974835Z",
     "shell.execute_reply": "2022-03-28T05:00:09.974470Z"
    },
    "papermill": {
     "duration": 0.060724,
     "end_time": "2022-03-28T05:00:09.974904",
     "exception": false,
     "start_time": "2022-03-28T05:00:09.914180",
     "status": "completed"
    },
    "tags": [
     "injected-parameters"
    ]
   },
   "outputs": [],
   "source": [
    "# Parameters\n",
    "parameters = {\n",
    "    \"experiment_name\": \"tl_3-jitter1v2:oracle.run1.framed -> cores\",\n",
    "    \"device\": \"cuda\",\n",
    "    \"lr\": 0.0001,\n",
    "    \"x_shape\": [2, 256],\n",
    "    \"n_shot\": 3,\n",
    "    \"n_query\": 2,\n",
    "    \"train_k_factor\": 3,\n",
    "    \"val_k_factor\": 2,\n",
    "    \"test_k_factor\": 2,\n",
    "    \"torch_default_dtype\": \"torch.float32\",\n",
    "    \"n_epoch\": 50,\n",
    "    \"patience\": 3,\n",
    "    \"criteria_for_best\": \"target_accuracy\",\n",
    "    \"x_net\": [\n",
    "        {\"class\": \"nnReshape\", \"kargs\": {\"shape\": [-1, 1, 2, 256]}},\n",
    "        {\n",
    "            \"class\": \"Conv2d\",\n",
    "            \"kargs\": {\n",
    "                \"in_channels\": 1,\n",
    "                \"out_channels\": 256,\n",
    "                \"kernel_size\": [1, 7],\n",
    "                \"bias\": False,\n",
    "                \"padding\": [0, 3],\n",
    "            },\n",
    "        },\n",
    "        {\"class\": \"ReLU\", \"kargs\": {\"inplace\": True}},\n",
    "        {\"class\": \"BatchNorm2d\", \"kargs\": {\"num_features\": 256}},\n",
    "        {\n",
    "            \"class\": \"Conv2d\",\n",
    "            \"kargs\": {\n",
    "                \"in_channels\": 256,\n",
    "                \"out_channels\": 80,\n",
    "                \"kernel_size\": [2, 7],\n",
    "                \"bias\": True,\n",
    "                \"padding\": [0, 3],\n",
    "            },\n",
    "        },\n",
    "        {\"class\": \"ReLU\", \"kargs\": {\"inplace\": True}},\n",
    "        {\"class\": \"BatchNorm2d\", \"kargs\": {\"num_features\": 80}},\n",
    "        {\"class\": \"Flatten\", \"kargs\": {}},\n",
    "        {\"class\": \"Linear\", \"kargs\": {\"in_features\": 20480, \"out_features\": 256}},\n",
    "        {\"class\": \"ReLU\", \"kargs\": {\"inplace\": True}},\n",
    "        {\"class\": \"BatchNorm1d\", \"kargs\": {\"num_features\": 256}},\n",
    "        {\"class\": \"Linear\", \"kargs\": {\"in_features\": 256, \"out_features\": 256}},\n",
    "    ],\n",
    "    \"NUM_LOGS_PER_EPOCH\": 10,\n",
    "    \"BEST_MODEL_PATH\": \"./best_model.pth\",\n",
    "    \"n_way\": 16,\n",
    "    \"datasets\": [\n",
    "        {\n",
    "            \"labels\": [\n",
    "                \"1-10.\",\n",
    "                \"1-11.\",\n",
    "                \"1-15.\",\n",
    "                \"1-16.\",\n",
    "                \"1-17.\",\n",
    "                \"1-18.\",\n",
    "                \"1-19.\",\n",
    "                \"10-4.\",\n",
    "                \"10-7.\",\n",
    "                \"11-1.\",\n",
    "                \"11-14.\",\n",
    "                \"11-17.\",\n",
    "                \"11-20.\",\n",
    "                \"11-7.\",\n",
    "                \"13-20.\",\n",
    "                \"13-8.\",\n",
    "                \"14-10.\",\n",
    "                \"14-11.\",\n",
    "                \"14-14.\",\n",
    "                \"14-7.\",\n",
    "                \"15-1.\",\n",
    "                \"15-20.\",\n",
    "                \"16-1.\",\n",
    "                \"16-16.\",\n",
    "                \"17-10.\",\n",
    "                \"17-11.\",\n",
    "                \"17-2.\",\n",
    "                \"19-1.\",\n",
    "                \"19-16.\",\n",
    "                \"19-19.\",\n",
    "                \"19-20.\",\n",
    "                \"19-3.\",\n",
    "                \"2-10.\",\n",
    "                \"2-11.\",\n",
    "                \"2-17.\",\n",
    "                \"2-18.\",\n",
    "                \"2-20.\",\n",
    "                \"2-3.\",\n",
    "                \"2-4.\",\n",
    "                \"2-5.\",\n",
    "                \"2-6.\",\n",
    "                \"2-7.\",\n",
    "                \"2-8.\",\n",
    "                \"3-13.\",\n",
    "                \"3-18.\",\n",
    "                \"3-3.\",\n",
    "                \"4-1.\",\n",
    "                \"4-10.\",\n",
    "                \"4-11.\",\n",
    "                \"4-19.\",\n",
    "                \"5-5.\",\n",
    "                \"6-15.\",\n",
    "                \"7-10.\",\n",
    "                \"7-14.\",\n",
    "                \"8-18.\",\n",
    "                \"8-20.\",\n",
    "                \"8-3.\",\n",
    "                \"8-8.\",\n",
    "            ],\n",
    "            \"domains\": [1, 2, 3, 4, 5],\n",
    "            \"num_examples_per_domain_per_label\": -1,\n",
    "            \"pickle_path\": \"/root/csc500-main/datasets/cores.stratified_ds.2022A.pkl\",\n",
    "            \"source_or_target_dataset\": \"target\",\n",
    "            \"x_transforms\": [\"jitter_256_1\", \"lowpass_+/-10MHz\", \"take_200\"],\n",
    "            \"episode_transforms\": [],\n",
    "            \"domain_prefix\": \"C_\",\n",
    "        },\n",
    "        {\n",
    "            \"labels\": [\n",
    "                \"3123D52\",\n",
    "                \"3123D65\",\n",
    "                \"3123D79\",\n",
    "                \"3123D80\",\n",
    "                \"3123D54\",\n",
    "                \"3123D70\",\n",
    "                \"3123D7B\",\n",
    "                \"3123D89\",\n",
    "                \"3123D58\",\n",
    "                \"3123D76\",\n",
    "                \"3123D7D\",\n",
    "                \"3123EFE\",\n",
    "                \"3123D64\",\n",
    "                \"3123D78\",\n",
    "                \"3123D7E\",\n",
    "                \"3124E4A\",\n",
    "            ],\n",
    "            \"domains\": [32, 38, 8, 44, 14, 50, 20, 26],\n",
    "            \"num_examples_per_domain_per_label\": 2000,\n",
    "            \"pickle_path\": \"/root/csc500-main/datasets/oracle.Run1_framed_2000Examples_stratified_ds.2022A.pkl\",\n",
    "            \"source_or_target_dataset\": \"source\",\n",
    "            \"x_transforms\": [\"jitter_256_1\", \"take_200\", \"resample_20Msps_to_25Msps\"],\n",
    "            \"episode_transforms\": [],\n",
    "            \"domain_prefix\": \"O_\",\n",
    "        },\n",
    "    ],\n",
    "    \"seed\": 154325,\n",
    "    \"dataset_seed\": 154325,\n",
    "}\n"
   ]
  },
  {
   "cell_type": "code",
   "execution_count": 5,
   "id": "8fa1cc33",
   "metadata": {
    "execution": {
     "iopub.execute_input": "2022-03-28T05:00:10.020846Z",
     "iopub.status.busy": "2022-03-28T05:00:10.020473Z",
     "iopub.status.idle": "2022-03-28T05:00:10.041481Z",
     "shell.execute_reply": "2022-03-28T05:00:10.040690Z"
    },
    "papermill": {
     "duration": 0.047149,
     "end_time": "2022-03-28T05:00:10.041633",
     "exception": false,
     "start_time": "2022-03-28T05:00:09.994484",
     "status": "completed"
    },
    "tags": []
   },
   "outputs": [],
   "source": [
    "# Set this to True if you want to run this template directly\n",
    "STANDALONE = False\n",
    "if STANDALONE:\n",
    "    print(\"parameters not injected, running with standalone_parameters\")\n",
    "    parameters = standalone_parameters\n",
    "\n",
    "if not 'parameters' in locals() and not 'parameters' in globals():\n",
    "    raise Exception(\"Parameter injection failed\")\n",
    "\n",
    "#Use an easy dict for all the parameters\n",
    "p = EasyDict(parameters)\n",
    "\n",
    "if \"x_shape\" not in p:\n",
    "    p.x_shape = [2,256] # Default to this if we dont supply x_shape\n",
    "\n",
    "\n",
    "supplied_keys = set(p.keys())\n",
    "\n",
    "if  supplied_keys != required_parameters:\n",
    "    print(\"Parameters are incorrect\")\n",
    "    if len(supplied_keys - required_parameters)>0: print(\"Shouldn't have:\", str(supplied_keys - required_parameters))\n",
    "    if len(required_parameters - supplied_keys)>0: print(\"Need to have:\", str(required_parameters - supplied_keys))\n",
    "    raise RuntimeError(\"Parameters are incorrect\")"
   ]
  },
  {
   "cell_type": "code",
   "execution_count": 6,
   "id": "3a028d58",
   "metadata": {
    "execution": {
     "iopub.execute_input": "2022-03-28T05:00:10.090246Z",
     "iopub.status.busy": "2022-03-28T05:00:10.089684Z",
     "iopub.status.idle": "2022-03-28T05:00:10.115921Z",
     "shell.execute_reply": "2022-03-28T05:00:10.115203Z"
    },
    "papermill": {
     "duration": 0.049516,
     "end_time": "2022-03-28T05:00:10.116077",
     "exception": false,
     "start_time": "2022-03-28T05:00:10.066561",
     "status": "completed"
    },
    "tags": []
   },
   "outputs": [],
   "source": [
    "###################################\n",
    "# Set the RNGs and make it all deterministic\n",
    "###################################\n",
    "np.random.seed(p.seed)\n",
    "random.seed(p.seed)\n",
    "torch.manual_seed(p.seed)\n",
    "\n",
    "torch.use_deterministic_algorithms(True) "
   ]
  },
  {
   "cell_type": "code",
   "execution_count": 7,
   "id": "b691acf6",
   "metadata": {
    "execution": {
     "iopub.execute_input": "2022-03-28T05:00:10.167940Z",
     "iopub.status.busy": "2022-03-28T05:00:10.167574Z",
     "iopub.status.idle": "2022-03-28T05:00:10.190266Z",
     "shell.execute_reply": "2022-03-28T05:00:10.189574Z"
    },
    "papermill": {
     "duration": 0.045205,
     "end_time": "2022-03-28T05:00:10.190416",
     "exception": false,
     "start_time": "2022-03-28T05:00:10.145211",
     "status": "completed"
    },
    "tags": []
   },
   "outputs": [],
   "source": [
    "###########################################\n",
    "# The stratified datasets honor this\n",
    "###########################################\n",
    "torch.set_default_dtype(eval(p.torch_default_dtype))"
   ]
  },
  {
   "cell_type": "code",
   "execution_count": 8,
   "id": "b5fba671",
   "metadata": {
    "execution": {
     "iopub.execute_input": "2022-03-28T05:00:10.237705Z",
     "iopub.status.busy": "2022-03-28T05:00:10.237342Z",
     "iopub.status.idle": "2022-03-28T05:00:10.292805Z",
     "shell.execute_reply": "2022-03-28T05:00:10.292102Z"
    },
    "papermill": {
     "duration": 0.077942,
     "end_time": "2022-03-28T05:00:10.292959",
     "exception": false,
     "start_time": "2022-03-28T05:00:10.215017",
     "status": "completed"
    },
    "tags": []
   },
   "outputs": [],
   "source": [
    "###################################\n",
    "# Build the network(s)\n",
    "# Note: It's critical to do this AFTER setting the RNG\n",
    "###################################\n",
    "x_net = build_sequential(p.x_net)"
   ]
  },
  {
   "cell_type": "code",
   "execution_count": 9,
   "id": "5d7e61cc",
   "metadata": {
    "execution": {
     "iopub.execute_input": "2022-03-28T05:00:10.341597Z",
     "iopub.status.busy": "2022-03-28T05:00:10.341046Z",
     "iopub.status.idle": "2022-03-28T05:00:10.367462Z",
     "shell.execute_reply": "2022-03-28T05:00:10.366755Z"
    },
    "papermill": {
     "duration": 0.050523,
     "end_time": "2022-03-28T05:00:10.367630",
     "exception": false,
     "start_time": "2022-03-28T05:00:10.317107",
     "status": "completed"
    },
    "tags": []
   },
   "outputs": [],
   "source": [
    "start_time_secs = time.time()"
   ]
  },
  {
   "cell_type": "code",
   "execution_count": 10,
   "id": "c6b67dfd",
   "metadata": {
    "execution": {
     "iopub.execute_input": "2022-03-28T05:00:10.417369Z",
     "iopub.status.busy": "2022-03-28T05:00:10.417002Z",
     "iopub.status.idle": "2022-03-28T05:00:10.438031Z",
     "shell.execute_reply": "2022-03-28T05:00:10.437315Z"
    },
    "papermill": {
     "duration": 0.045471,
     "end_time": "2022-03-28T05:00:10.438200",
     "exception": false,
     "start_time": "2022-03-28T05:00:10.392729",
     "status": "completed"
    },
    "tags": []
   },
   "outputs": [],
   "source": [
    "p.domains_source = []\n",
    "p.domains_target = []\n",
    "\n",
    "\n",
    "train_original_source = []\n",
    "val_original_source   = []\n",
    "test_original_source  = []\n",
    "\n",
    "train_original_target = []\n",
    "val_original_target   = []\n",
    "test_original_target  = []"
   ]
  },
  {
   "cell_type": "code",
   "execution_count": 11,
   "id": "e3d9c3d3",
   "metadata": {
    "execution": {
     "iopub.execute_input": "2022-03-28T05:00:10.488972Z",
     "iopub.status.busy": "2022-03-28T05:00:10.488419Z",
     "iopub.status.idle": "2022-03-28T05:00:10.508766Z",
     "shell.execute_reply": "2022-03-28T05:00:10.509452Z"
    },
    "papermill": {
     "duration": 0.044144,
     "end_time": "2022-03-28T05:00:10.509631",
     "exception": false,
     "start_time": "2022-03-28T05:00:10.465487",
     "status": "completed"
    },
    "tags": []
   },
   "outputs": [],
   "source": [
    "# global_x_transform_func = lambda x: normalize(x.to(torch.get_default_dtype()), \"unit_power\") # unit_power, unit_mag\n",
    "# global_x_transform_func = lambda x: normalize(x, \"unit_power\") # unit_power, unit_mag"
   ]
  },
  {
   "cell_type": "code",
   "execution_count": 12,
   "id": "acb78fd2",
   "metadata": {
    "execution": {
     "iopub.execute_input": "2022-03-28T05:00:10.568237Z",
     "iopub.status.busy": "2022-03-28T05:00:10.563041Z",
     "iopub.status.idle": "2022-03-28T05:00:10.586334Z",
     "shell.execute_reply": "2022-03-28T05:00:10.585607Z"
    },
    "papermill": {
     "duration": 0.050934,
     "end_time": "2022-03-28T05:00:10.586486",
     "exception": false,
     "start_time": "2022-03-28T05:00:10.535552",
     "status": "completed"
    },
    "tags": []
   },
   "outputs": [],
   "source": [
    "def add_dataset(\n",
    "    labels,\n",
    "    domains,\n",
    "    pickle_path,\n",
    "    x_transforms,\n",
    "    episode_transforms,\n",
    "    domain_prefix,\n",
    "    num_examples_per_domain_per_label,\n",
    "    source_or_target_dataset:str,\n",
    "    iterator_seed=p.seed,\n",
    "    dataset_seed=p.dataset_seed,\n",
    "    n_shot=p.n_shot,\n",
    "    n_way=p.n_way,\n",
    "    n_query=p.n_query,\n",
    "    train_val_test_k_factors=(p.train_k_factor,p.val_k_factor,p.test_k_factor),\n",
    "):\n",
    "   \n",
    "    if x_transforms == []: x_transform = None\n",
    "    else: x_transform = get_chained_transform(x_transforms)\n",
    "    \n",
    "    if episode_transforms == []: episode_transform = None\n",
    "    else: raise Exception(\"episode_transforms not implemented\")\n",
    "    \n",
    "    episode_transform = lambda tup, _prefix=domain_prefix: (_prefix + str(tup[0]), tup[1])\n",
    "\n",
    "\n",
    "    eaf = Episodic_Accessor_Factory(\n",
    "        labels=labels,\n",
    "        domains=domains,\n",
    "        num_examples_per_domain_per_label=num_examples_per_domain_per_label,\n",
    "        iterator_seed=iterator_seed,\n",
    "        dataset_seed=dataset_seed,\n",
    "        n_shot=n_shot,\n",
    "        n_way=n_way,\n",
    "        n_query=n_query,\n",
    "        train_val_test_k_factors=train_val_test_k_factors,\n",
    "        pickle_path=pickle_path,\n",
    "        x_transform_func=x_transform,\n",
    "    )\n",
    "\n",
    "    train, val, test = eaf.get_train(), eaf.get_val(), eaf.get_test()\n",
    "    train = Lazy_Iterable_Wrapper(train, episode_transform)\n",
    "    val = Lazy_Iterable_Wrapper(val, episode_transform)\n",
    "    test = Lazy_Iterable_Wrapper(test, episode_transform)\n",
    "\n",
    "    if source_or_target_dataset==\"source\":\n",
    "        train_original_source.append(train)\n",
    "        val_original_source.append(val)\n",
    "        test_original_source.append(test)\n",
    "\n",
    "        p.domains_source.extend(\n",
    "            [domain_prefix + str(u) for u in domains]\n",
    "        )\n",
    "    elif source_or_target_dataset==\"target\":\n",
    "        train_original_target.append(train)\n",
    "        val_original_target.append(val)\n",
    "        test_original_target.append(test)\n",
    "        p.domains_target.extend(\n",
    "            [domain_prefix + str(u) for u in domains]\n",
    "        )\n",
    "    else:\n",
    "        raise Exception(f\"invalid source_or_target_dataset: {source_or_target_dataset}\")\n",
    "    "
   ]
  },
  {
   "cell_type": "code",
   "execution_count": 13,
   "id": "fe266617",
   "metadata": {
    "execution": {
     "iopub.execute_input": "2022-03-28T05:00:10.635214Z",
     "iopub.status.busy": "2022-03-28T05:00:10.634851Z",
     "iopub.status.idle": "2022-03-28T05:01:15.152725Z",
     "shell.execute_reply": "2022-03-28T05:01:15.151978Z"
    },
    "papermill": {
     "duration": 64.540569,
     "end_time": "2022-03-28T05:01:15.152913",
     "exception": false,
     "start_time": "2022-03-28T05:00:10.612344",
     "status": "completed"
    },
    "tags": []
   },
   "outputs": [],
   "source": [
    "for ds in p.datasets:\n",
    "    add_dataset(**ds)"
   ]
  },
  {
   "cell_type": "code",
   "execution_count": 14,
   "id": "b90d65ac",
   "metadata": {
    "execution": {
     "iopub.execute_input": "2022-03-28T05:01:15.201925Z",
     "iopub.status.busy": "2022-03-28T05:01:15.201551Z",
     "iopub.status.idle": "2022-03-28T05:01:15.224577Z",
     "shell.execute_reply": "2022-03-28T05:01:15.225253Z"
    },
    "papermill": {
     "duration": 0.047401,
     "end_time": "2022-03-28T05:01:15.225434",
     "exception": false,
     "start_time": "2022-03-28T05:01:15.178033",
     "status": "completed"
    },
    "tags": []
   },
   "outputs": [],
   "source": [
    "# from steves_utils.CORES.utils import (\n",
    "#     ALL_NODES,\n",
    "#     ALL_NODES_MINIMUM_1000_EXAMPLES,\n",
    "#     ALL_DAYS\n",
    "# )\n",
    "\n",
    "# add_dataset(\n",
    "#     labels=ALL_NODES,\n",
    "#     domains = ALL_DAYS,\n",
    "#     num_examples_per_domain_per_label=100,\n",
    "#     pickle_path=os.path.join(get_datasets_base_path(), \"cores.stratified_ds.2022A.pkl\"),\n",
    "#     source_or_target_dataset=\"target\",\n",
    "#     x_transform_func=global_x_transform_func,\n",
    "#     domain_modifier=lambda u: f\"cores_{u}\"\n",
    "# )"
   ]
  },
  {
   "cell_type": "code",
   "execution_count": 15,
   "id": "76db484d",
   "metadata": {
    "execution": {
     "iopub.execute_input": "2022-03-28T05:01:15.276203Z",
     "iopub.status.busy": "2022-03-28T05:01:15.275809Z",
     "iopub.status.idle": "2022-03-28T05:01:15.297616Z",
     "shell.execute_reply": "2022-03-28T05:01:15.296906Z"
    },
    "papermill": {
     "duration": 0.045673,
     "end_time": "2022-03-28T05:01:15.297770",
     "exception": false,
     "start_time": "2022-03-28T05:01:15.252097",
     "status": "completed"
    },
    "tags": []
   },
   "outputs": [],
   "source": [
    "# from steves_utils.ORACLE.utils_v2 import (\n",
    "#     ALL_DISTANCES_FEET,\n",
    "#     ALL_RUNS,\n",
    "#     ALL_SERIAL_NUMBERS,\n",
    "# )\n",
    "\n",
    "\n",
    "# add_dataset(\n",
    "#     labels=ALL_SERIAL_NUMBERS,\n",
    "#     domains = list(set(ALL_DISTANCES_FEET) - {2,62}),\n",
    "#     num_examples_per_domain_per_label=100,\n",
    "#     pickle_path=os.path.join(get_datasets_base_path(), \"oracle.Run2_framed_2000Examples_stratified_ds.2022A.pkl\"),\n",
    "#     source_or_target_dataset=\"source\",\n",
    "#     x_transform_func=global_x_transform_func,\n",
    "#     domain_modifier=lambda u: f\"oracle1_{u}\"\n",
    "# )\n"
   ]
  },
  {
   "cell_type": "code",
   "execution_count": 16,
   "id": "97dea9d2",
   "metadata": {
    "execution": {
     "iopub.execute_input": "2022-03-28T05:01:15.348577Z",
     "iopub.status.busy": "2022-03-28T05:01:15.348201Z",
     "iopub.status.idle": "2022-03-28T05:01:15.369779Z",
     "shell.execute_reply": "2022-03-28T05:01:15.369074Z"
    },
    "papermill": {
     "duration": 0.045866,
     "end_time": "2022-03-28T05:01:15.369934",
     "exception": false,
     "start_time": "2022-03-28T05:01:15.324068",
     "status": "completed"
    },
    "tags": []
   },
   "outputs": [],
   "source": [
    "# from steves_utils.ORACLE.utils_v2 import (\n",
    "#     ALL_DISTANCES_FEET,\n",
    "#     ALL_RUNS,\n",
    "#     ALL_SERIAL_NUMBERS,\n",
    "# )\n",
    "\n",
    "\n",
    "# add_dataset(\n",
    "#     labels=ALL_SERIAL_NUMBERS,\n",
    "#     domains = list(set(ALL_DISTANCES_FEET) - {2,62,56}),\n",
    "#     num_examples_per_domain_per_label=100,\n",
    "#     pickle_path=os.path.join(get_datasets_base_path(), \"oracle.Run2_framed_2000Examples_stratified_ds.2022A.pkl\"),\n",
    "#     source_or_target_dataset=\"source\",\n",
    "#     x_transform_func=global_x_transform_func,\n",
    "#     domain_modifier=lambda u: f\"oracle2_{u}\"\n",
    "# )"
   ]
  },
  {
   "cell_type": "code",
   "execution_count": 17,
   "id": "6f289866",
   "metadata": {
    "execution": {
     "iopub.execute_input": "2022-03-28T05:01:15.420016Z",
     "iopub.status.busy": "2022-03-28T05:01:15.419641Z",
     "iopub.status.idle": "2022-03-28T05:01:15.435958Z",
     "shell.execute_reply": "2022-03-28T05:01:15.435232Z"
    },
    "papermill": {
     "duration": 0.039654,
     "end_time": "2022-03-28T05:01:15.436112",
     "exception": false,
     "start_time": "2022-03-28T05:01:15.396458",
     "status": "completed"
    },
    "tags": []
   },
   "outputs": [],
   "source": [
    "# add_dataset(\n",
    "#     labels=list(range(19)),\n",
    "#     domains = [0,1,2],\n",
    "#     num_examples_per_domain_per_label=100,\n",
    "#     pickle_path=os.path.join(get_datasets_base_path(), \"metehan.stratified_ds.2022A.pkl\"),\n",
    "#     source_or_target_dataset=\"target\",\n",
    "#     x_transform_func=global_x_transform_func,\n",
    "#     domain_modifier=lambda u: f\"met_{u}\"\n",
    "# )"
   ]
  },
  {
   "cell_type": "code",
   "execution_count": 18,
   "id": "86a863c3",
   "metadata": {
    "execution": {
     "iopub.execute_input": "2022-03-28T05:01:15.488284Z",
     "iopub.status.busy": "2022-03-28T05:01:15.487915Z",
     "iopub.status.idle": "2022-03-28T05:01:15.516750Z",
     "shell.execute_reply": "2022-03-28T05:01:15.516018Z"
    },
    "papermill": {
     "duration": 0.053216,
     "end_time": "2022-03-28T05:01:15.516920",
     "exception": false,
     "start_time": "2022-03-28T05:01:15.463704",
     "status": "completed"
    },
    "tags": []
   },
   "outputs": [],
   "source": [
    "# # from steves_utils.wisig.utils import (\n",
    "# #     ALL_NODES_MINIMUM_100_EXAMPLES,\n",
    "# #     ALL_NODES_MINIMUM_500_EXAMPLES,\n",
    "# #     ALL_NODES_MINIMUM_1000_EXAMPLES,\n",
    "# #     ALL_DAYS\n",
    "# # )\n",
    "\n",
    "# import steves_utils.wisig.utils as wisig\n",
    "\n",
    "\n",
    "# add_dataset(\n",
    "#     labels=wisig.ALL_NODES_MINIMUM_100_EXAMPLES,\n",
    "#     domains = wisig.ALL_DAYS,\n",
    "#     num_examples_per_domain_per_label=100,\n",
    "#     pickle_path=os.path.join(get_datasets_base_path(), \"wisig.node3-19.stratified_ds.2022A.pkl\"),\n",
    "#     source_or_target_dataset=\"target\",\n",
    "#     x_transform_func=global_x_transform_func,\n",
    "#     domain_modifier=lambda u: f\"wisig_{u}\"\n",
    "# )"
   ]
  },
  {
   "cell_type": "code",
   "execution_count": 19,
   "id": "fd5442bc",
   "metadata": {
    "execution": {
     "iopub.execute_input": "2022-03-28T05:01:15.571108Z",
     "iopub.status.busy": "2022-03-28T05:01:15.570721Z",
     "iopub.status.idle": "2022-03-28T05:01:15.593808Z",
     "shell.execute_reply": "2022-03-28T05:01:15.592995Z"
    },
    "papermill": {
     "duration": 0.052622,
     "end_time": "2022-03-28T05:01:15.593963",
     "exception": false,
     "start_time": "2022-03-28T05:01:15.541341",
     "status": "completed"
    },
    "tags": []
   },
   "outputs": [],
   "source": [
    "###################################\n",
    "# Build the dataset\n",
    "###################################\n",
    "train_original_source = Iterable_Aggregator(train_original_source, p.seed)\n",
    "val_original_source = Iterable_Aggregator(val_original_source, p.seed)\n",
    "test_original_source = Iterable_Aggregator(test_original_source, p.seed)\n",
    "\n",
    "\n",
    "train_original_target = Iterable_Aggregator(train_original_target, p.seed)\n",
    "val_original_target = Iterable_Aggregator(val_original_target, p.seed)\n",
    "test_original_target = Iterable_Aggregator(test_original_target, p.seed)\n",
    "\n",
    "# For CNN We only use X and Y. And we only train on the source.\n",
    "# Properly form the data using a transform lambda and Lazy_Iterable_Wrapper. Finally wrap them in a dataloader\n",
    "\n",
    "transform_lambda = lambda ex: ex[1] # Original is (<domain>, <episode>) so we strip down to episode only\n",
    "\n",
    "train_processed_source = Lazy_Iterable_Wrapper(train_original_source, transform_lambda)\n",
    "val_processed_source   = Lazy_Iterable_Wrapper(val_original_source, transform_lambda)\n",
    "test_processed_source  = Lazy_Iterable_Wrapper(test_original_source, transform_lambda)\n",
    "\n",
    "train_processed_target = Lazy_Iterable_Wrapper(train_original_target, transform_lambda)\n",
    "val_processed_target   = Lazy_Iterable_Wrapper(val_original_target, transform_lambda)\n",
    "test_processed_target  = Lazy_Iterable_Wrapper(test_original_target, transform_lambda)\n",
    "\n",
    "datasets = EasyDict({\n",
    "    \"source\": {\n",
    "        \"original\": {\"train\":train_original_source, \"val\":val_original_source, \"test\":test_original_source},\n",
    "        \"processed\": {\"train\":train_processed_source, \"val\":val_processed_source, \"test\":test_processed_source}\n",
    "    },\n",
    "    \"target\": {\n",
    "        \"original\": {\"train\":train_original_target, \"val\":val_original_target, \"test\":test_original_target},\n",
    "        \"processed\": {\"train\":train_processed_target, \"val\":val_processed_target, \"test\":test_processed_target}\n",
    "    },\n",
    "})"
   ]
  },
  {
   "cell_type": "code",
   "execution_count": 20,
   "id": "5b3c01fc",
   "metadata": {
    "execution": {
     "iopub.execute_input": "2022-03-28T05:01:15.647457Z",
     "iopub.status.busy": "2022-03-28T05:01:15.647090Z",
     "iopub.status.idle": "2022-03-28T05:01:30.011457Z",
     "shell.execute_reply": "2022-03-28T05:01:30.010262Z"
    },
    "papermill": {
     "duration": 14.388704,
     "end_time": "2022-03-28T05:01:30.011728",
     "exception": false,
     "start_time": "2022-03-28T05:01:15.623024",
     "status": "completed"
    },
    "tags": []
   },
   "outputs": [
    {
     "name": "stdout",
     "output_type": "stream",
     "text": [
      "{'O_38', 'O_8', 'O_26', 'O_44', 'O_50', 'O_20', 'O_32', 'O_14'}\n"
     ]
    },
    {
     "name": "stdout",
     "output_type": "stream",
     "text": [
      "{'C_5', 'C_1', 'C_4', 'C_2', 'C_3'}\n"
     ]
    },
    {
     "name": "stdout",
     "output_type": "stream",
     "text": [
      "tensor([[[0., 0., 0.,  ..., 0., 0., 0.],\n",
      "         [0., 0., 0.,  ..., 0., 0., 0.]],\n",
      "\n",
      "        [[0., 0., 0.,  ..., 0., 0., 0.],\n",
      "         [0., 0., 0.,  ..., 0., 0., 0.]],\n",
      "\n",
      "        [[0., 0., 0.,  ..., 0., 0., 0.],\n",
      "         [0., 0., 0.,  ..., 0., 0., 0.]],\n",
      "\n",
      "        ...,\n",
      "\n",
      "        [[0., 0., 0.,  ..., 0., 0., 0.],\n",
      "         [0., 0., 0.,  ..., 0., 0., 0.]],\n",
      "\n",
      "        [[0., 0., 0.,  ..., 0., 0., 0.],\n",
      "         [0., 0., 0.,  ..., 0., 0., 0.]],\n",
      "\n",
      "        [[0., 0., 0.,  ..., 0., 0., 0.],\n",
      "         [0., 0., 0.,  ..., 0., 0., 0.]]])\n"
     ]
    }
   ],
   "source": [
    "from steves_utils.transforms import get_average_magnitude, get_average_power\n",
    "\n",
    "print(set([u for u,_ in val_original_source]))\n",
    "print(set([u for u,_ in val_original_target]))\n",
    "\n",
    "s_x, s_y, q_x, q_y, _ = next(iter(train_processed_source))\n",
    "print(s_x)\n",
    "\n",
    "# for ds in [\n",
    "#     train_processed_source,\n",
    "#     val_processed_source,\n",
    "#     test_processed_source,\n",
    "#     train_processed_target,\n",
    "#     val_processed_target,\n",
    "#     test_processed_target\n",
    "# ]:\n",
    "#     for s_x, s_y, q_x, q_y, _ in ds:\n",
    "#         for X in (s_x, q_x):\n",
    "#             for x in X:\n",
    "#                 assert np.isclose(get_average_magnitude(x.numpy()), 1.0)\n",
    "#                 assert np.isclose(get_average_power(x.numpy()), 1.0)\n",
    "                "
   ]
  },
  {
   "cell_type": "code",
   "execution_count": 21,
   "id": "bbdacba1",
   "metadata": {
    "execution": {
     "iopub.execute_input": "2022-03-28T05:01:30.071902Z",
     "iopub.status.busy": "2022-03-28T05:01:30.071499Z",
     "iopub.status.idle": "2022-03-28T05:01:30.183353Z",
     "shell.execute_reply": "2022-03-28T05:01:30.184061Z"
    },
    "papermill": {
     "duration": 0.143712,
     "end_time": "2022-03-28T05:01:30.184282",
     "exception": false,
     "start_time": "2022-03-28T05:01:30.040570",
     "status": "completed"
    },
    "tags": []
   },
   "outputs": [
    {
     "name": "stdout",
     "output_type": "stream",
     "text": [
      "(2, 256)\n"
     ]
    }
   ],
   "source": [
    "###################################\n",
    "# Build the model\n",
    "###################################\n",
    "# easfsl only wants a tuple for the shape\n",
    "model = Steves_Prototypical_Network(x_net, device=p.device, x_shape=tuple(p.x_shape))\n",
    "optimizer = Adam(params=model.parameters(), lr=p.lr)"
   ]
  },
  {
   "cell_type": "code",
   "execution_count": 22,
   "id": "22b39ac5",
   "metadata": {
    "execution": {
     "iopub.execute_input": "2022-03-28T05:01:30.250137Z",
     "iopub.status.busy": "2022-03-28T05:01:30.249761Z",
     "iopub.status.idle": "2022-03-28T05:14:34.382203Z",
     "shell.execute_reply": "2022-03-28T05:14:34.381864Z"
    },
    "papermill": {
     "duration": 784.157814,
     "end_time": "2022-03-28T05:14:34.382285",
     "exception": false,
     "start_time": "2022-03-28T05:01:30.224471",
     "status": "completed"
    },
    "tags": []
   },
   "outputs": [
    {
     "name": "stdout",
     "output_type": "stream",
     "text": [
      "epoch: 1, [batch: 1 / 6720], examples_per_second: 32.4526, train_label_loss: 2.6881, \n"
     ]
    },
    {
     "name": "stdout",
     "output_type": "stream",
     "text": [
      "epoch: 1, [batch: 672 / 6720], examples_per_second: 3942.1191, train_label_loss: 0.5062, \n"
     ]
    },
    {
     "name": "stdout",
     "output_type": "stream",
     "text": [
      "epoch: 1, [batch: 1344 / 6720], examples_per_second: 3848.5750, train_label_loss: 0.6647, \n"
     ]
    },
    {
     "name": "stdout",
     "output_type": "stream",
     "text": [
      "epoch: 1, [batch: 2016 / 6720], examples_per_second: 3988.9637, train_label_loss: 0.9152, \n"
     ]
    },
    {
     "name": "stdout",
     "output_type": "stream",
     "text": [
      "epoch: 1, [batch: 2688 / 6720], examples_per_second: 4026.5817, train_label_loss: 0.6282, \n"
     ]
    },
    {
     "name": "stdout",
     "output_type": "stream",
     "text": [
      "epoch: 1, [batch: 3360 / 6720], examples_per_second: 3941.5057, train_label_loss: 0.6456, \n"
     ]
    },
    {
     "name": "stdout",
     "output_type": "stream",
     "text": [
      "epoch: 1, [batch: 4032 / 6720], examples_per_second: 3952.9950, train_label_loss: 0.6747, \n"
     ]
    },
    {
     "name": "stdout",
     "output_type": "stream",
     "text": [
      "epoch: 1, [batch: 4704 / 6720], examples_per_second: 3855.3882, train_label_loss: 0.4431, \n"
     ]
    },
    {
     "name": "stdout",
     "output_type": "stream",
     "text": [
      "epoch: 1, [batch: 5376 / 6720], examples_per_second: 3875.0264, train_label_loss: 0.3145, \n"
     ]
    },
    {
     "name": "stdout",
     "output_type": "stream",
     "text": [
      "epoch: 1, [batch: 6048 / 6720], examples_per_second: 4003.8571, train_label_loss: 0.1937, \n"
     ]
    },
    {
     "name": "stdout",
     "output_type": "stream",
     "text": [
      "=============================================================\n",
      "epoch: 1, source_val_acc_label: 0.6495, target_val_acc_label: 0.5711, source_val_label_loss: 106.1038, target_val_label_loss: 12307.9453, \n",
      "=============================================================\n"
     ]
    },
    {
     "name": "stdout",
     "output_type": "stream",
     "text": [
      "New best\n"
     ]
    },
    {
     "name": "stdout",
     "output_type": "stream",
     "text": [
      "epoch: 2, [batch: 1 / 6720], examples_per_second: 4.2307, train_label_loss: 208.9184, \n"
     ]
    },
    {
     "name": "stdout",
     "output_type": "stream",
     "text": [
      "epoch: 2, [batch: 672 / 6720], examples_per_second: 4125.5714, train_label_loss: 0.5511, \n"
     ]
    },
    {
     "name": "stdout",
     "output_type": "stream",
     "text": [
      "epoch: 2, [batch: 1344 / 6720], examples_per_second: 4000.2414, train_label_loss: 0.7396, \n"
     ]
    },
    {
     "name": "stdout",
     "output_type": "stream",
     "text": [
      "epoch: 2, [batch: 2016 / 6720], examples_per_second: 3962.4389, train_label_loss: 0.2973, \n"
     ]
    },
    {
     "name": "stdout",
     "output_type": "stream",
     "text": [
      "epoch: 2, [batch: 2688 / 6720], examples_per_second: 3867.8828, train_label_loss: 0.5952, \n"
     ]
    },
    {
     "name": "stdout",
     "output_type": "stream",
     "text": [
      "epoch: 2, [batch: 3360 / 6720], examples_per_second: 3892.7678, train_label_loss: 0.2883, \n"
     ]
    },
    {
     "name": "stdout",
     "output_type": "stream",
     "text": [
      "epoch: 2, [batch: 4032 / 6720], examples_per_second: 3929.9713, train_label_loss: 0.8006, \n"
     ]
    },
    {
     "name": "stdout",
     "output_type": "stream",
     "text": [
      "epoch: 2, [batch: 4704 / 6720], examples_per_second: 3949.1845, train_label_loss: 0.5002, \n"
     ]
    },
    {
     "name": "stdout",
     "output_type": "stream",
     "text": [
      "epoch: 2, [batch: 5376 / 6720], examples_per_second: 3873.7098, train_label_loss: 0.5753, \n"
     ]
    },
    {
     "name": "stdout",
     "output_type": "stream",
     "text": [
      "epoch: 2, [batch: 6048 / 6720], examples_per_second: 3832.4464, train_label_loss: 0.3755, \n"
     ]
    },
    {
     "name": "stdout",
     "output_type": "stream",
     "text": [
      "=============================================================\n",
      "epoch: 2, source_val_acc_label: 0.8636, target_val_acc_label: 0.4957, source_val_label_loss: 0.3862, target_val_label_loss: 4231.1245, \n",
      "=============================================================\n"
     ]
    },
    {
     "name": "stdout",
     "output_type": "stream",
     "text": [
      "epoch: 3, [batch: 1 / 6720], examples_per_second: 4.1746, train_label_loss: 0.5084, \n"
     ]
    },
    {
     "name": "stdout",
     "output_type": "stream",
     "text": [
      "epoch: 3, [batch: 672 / 6720], examples_per_second: 3861.8758, train_label_loss: 0.1792, \n"
     ]
    },
    {
     "name": "stdout",
     "output_type": "stream",
     "text": [
      "epoch: 3, [batch: 1344 / 6720], examples_per_second: 3852.5868, train_label_loss: 0.4324, \n"
     ]
    },
    {
     "name": "stdout",
     "output_type": "stream",
     "text": [
      "epoch: 3, [batch: 2016 / 6720], examples_per_second: 3901.9899, train_label_loss: 0.7562, \n"
     ]
    },
    {
     "name": "stdout",
     "output_type": "stream",
     "text": [
      "epoch: 3, [batch: 2688 / 6720], examples_per_second: 3930.9709, train_label_loss: 0.3274, \n"
     ]
    },
    {
     "name": "stdout",
     "output_type": "stream",
     "text": [
      "epoch: 3, [batch: 3360 / 6720], examples_per_second: 3850.9759, train_label_loss: 0.2442, \n"
     ]
    },
    {
     "name": "stdout",
     "output_type": "stream",
     "text": [
      "epoch: 3, [batch: 4032 / 6720], examples_per_second: 3799.6180, train_label_loss: 0.4741, \n"
     ]
    },
    {
     "name": "stdout",
     "output_type": "stream",
     "text": [
      "epoch: 3, [batch: 4704 / 6720], examples_per_second: 3887.7768, train_label_loss: 0.2356, \n"
     ]
    },
    {
     "name": "stdout",
     "output_type": "stream",
     "text": [
      "epoch: 3, [batch: 5376 / 6720], examples_per_second: 3893.1706, train_label_loss: 0.2502, \n"
     ]
    },
    {
     "name": "stdout",
     "output_type": "stream",
     "text": [
      "epoch: 3, [batch: 6048 / 6720], examples_per_second: 3937.8182, train_label_loss: 0.3855, \n"
     ]
    },
    {
     "name": "stdout",
     "output_type": "stream",
     "text": [
      "=============================================================\n",
      "epoch: 3, source_val_acc_label: 0.8765, target_val_acc_label: 0.4611, source_val_label_loss: 0.3647, target_val_label_loss: 5746.2188, \n",
      "=============================================================\n"
     ]
    },
    {
     "name": "stdout",
     "output_type": "stream",
     "text": [
      "epoch: 4, [batch: 1 / 6720], examples_per_second: 4.2549, train_label_loss: 0.4032, \n"
     ]
    },
    {
     "name": "stdout",
     "output_type": "stream",
     "text": [
      "epoch: 4, [batch: 672 / 6720], examples_per_second: 3917.3139, train_label_loss: 0.3549, \n"
     ]
    },
    {
     "name": "stdout",
     "output_type": "stream",
     "text": [
      "epoch: 4, [batch: 1344 / 6720], examples_per_second: 3901.5482, train_label_loss: 0.7129, \n"
     ]
    },
    {
     "name": "stdout",
     "output_type": "stream",
     "text": [
      "epoch: 4, [batch: 2016 / 6720], examples_per_second: 3989.0286, train_label_loss: 0.3035, \n"
     ]
    },
    {
     "name": "stdout",
     "output_type": "stream",
     "text": [
      "epoch: 4, [batch: 2688 / 6720], examples_per_second: 3946.3487, train_label_loss: 0.3242, \n"
     ]
    },
    {
     "name": "stdout",
     "output_type": "stream",
     "text": [
      "epoch: 4, [batch: 3360 / 6720], examples_per_second: 3806.4107, train_label_loss: 0.1699, \n"
     ]
    },
    {
     "name": "stdout",
     "output_type": "stream",
     "text": [
      "epoch: 4, [batch: 4032 / 6720], examples_per_second: 3801.8485, train_label_loss: 0.2456, \n"
     ]
    },
    {
     "name": "stdout",
     "output_type": "stream",
     "text": [
      "epoch: 4, [batch: 4704 / 6720], examples_per_second: 3937.1811, train_label_loss: 0.4499, \n"
     ]
    },
    {
     "name": "stdout",
     "output_type": "stream",
     "text": [
      "epoch: 4, [batch: 5376 / 6720], examples_per_second: 4045.3216, train_label_loss: 0.2055, \n"
     ]
    },
    {
     "name": "stdout",
     "output_type": "stream",
     "text": [
      "epoch: 4, [batch: 6048 / 6720], examples_per_second: 3923.6239, train_label_loss: 0.3509, \n"
     ]
    },
    {
     "name": "stdout",
     "output_type": "stream",
     "text": [
      "=============================================================\n",
      "epoch: 4, source_val_acc_label: 0.8867, target_val_acc_label: 0.4590, source_val_label_loss: 0.3327, target_val_label_loss: 6802.4482, \n",
      "=============================================================\n"
     ]
    },
    {
     "name": "stdout",
     "output_type": "stream",
     "text": [
      "epoch: 5, [batch: 1 / 6720], examples_per_second: 4.1854, train_label_loss: 0.6027, \n"
     ]
    },
    {
     "name": "stdout",
     "output_type": "stream",
     "text": [
      "epoch: 5, [batch: 672 / 6720], examples_per_second: 4129.3025, train_label_loss: 0.3785, \n"
     ]
    },
    {
     "name": "stdout",
     "output_type": "stream",
     "text": [
      "epoch: 5, [batch: 1344 / 6720], examples_per_second: 4310.9432, train_label_loss: 0.3489, \n"
     ]
    },
    {
     "name": "stdout",
     "output_type": "stream",
     "text": [
      "epoch: 5, [batch: 2016 / 6720], examples_per_second: 4352.1258, train_label_loss: 0.3481, \n"
     ]
    },
    {
     "name": "stdout",
     "output_type": "stream",
     "text": [
      "epoch: 5, [batch: 2688 / 6720], examples_per_second: 4085.4904, train_label_loss: 0.3391, \n"
     ]
    },
    {
     "name": "stdout",
     "output_type": "stream",
     "text": [
      "epoch: 5, [batch: 3360 / 6720], examples_per_second: 4130.9345, train_label_loss: 0.8000, \n"
     ]
    },
    {
     "name": "stdout",
     "output_type": "stream",
     "text": [
      "epoch: 5, [batch: 4032 / 6720], examples_per_second: 4477.1764, train_label_loss: 0.1865, \n"
     ]
    },
    {
     "name": "stdout",
     "output_type": "stream",
     "text": [
      "epoch: 5, [batch: 4704 / 6720], examples_per_second: 4977.8405, train_label_loss: 0.2908, \n"
     ]
    },
    {
     "name": "stdout",
     "output_type": "stream",
     "text": [
      "epoch: 5, [batch: 5376 / 6720], examples_per_second: 4799.7832, train_label_loss: 0.3290, \n"
     ]
    },
    {
     "name": "stdout",
     "output_type": "stream",
     "text": [
      "epoch: 5, [batch: 6048 / 6720], examples_per_second: 5181.7131, train_label_loss: 0.4448, \n"
     ]
    },
    {
     "name": "stdout",
     "output_type": "stream",
     "text": [
      "=============================================================\n",
      "epoch: 5, source_val_acc_label: 0.8700, target_val_acc_label: 0.5569, source_val_label_loss: 0.3645, target_val_label_loss: 3324.1592, \n",
      "=============================================================\n"
     ]
    },
    {
     "name": "stdout",
     "output_type": "stream",
     "text": [
      "Patience (3) exhausted\n"
     ]
    }
   ],
   "source": [
    "###################################\n",
    "# train\n",
    "###################################\n",
    "jig = PTN_Train_Eval_Test_Jig(model, p.BEST_MODEL_PATH, p.device)\n",
    "\n",
    "jig.train(\n",
    "    train_iterable=datasets.source.processed.train,\n",
    "    source_val_iterable=datasets.source.processed.val,\n",
    "    target_val_iterable=datasets.target.processed.val,\n",
    "    num_epochs=p.n_epoch,\n",
    "    num_logs_per_epoch=p.NUM_LOGS_PER_EPOCH,\n",
    "    patience=p.patience,\n",
    "    optimizer=optimizer,\n",
    "    criteria_for_best=p.criteria_for_best,\n",
    ")"
   ]
  },
  {
   "cell_type": "code",
   "execution_count": 23,
   "id": "31e8fabf",
   "metadata": {
    "execution": {
     "iopub.execute_input": "2022-03-28T05:14:34.465260Z",
     "iopub.status.busy": "2022-03-28T05:14:34.464701Z",
     "iopub.status.idle": "2022-03-28T05:14:34.500394Z",
     "shell.execute_reply": "2022-03-28T05:14:34.499586Z"
    },
    "papermill": {
     "duration": 0.079828,
     "end_time": "2022-03-28T05:14:34.500547",
     "exception": false,
     "start_time": "2022-03-28T05:14:34.420719",
     "status": "completed"
    },
    "tags": []
   },
   "outputs": [],
   "source": [
    "total_experiment_time_secs = time.time() - start_time_secs"
   ]
  },
  {
   "cell_type": "code",
   "execution_count": 24,
   "id": "87b9595b",
   "metadata": {
    "execution": {
     "iopub.execute_input": "2022-03-28T05:14:34.590190Z",
     "iopub.status.busy": "2022-03-28T05:14:34.583670Z",
     "iopub.status.idle": "2022-03-28T05:16:53.613811Z",
     "shell.execute_reply": "2022-03-28T05:16:53.614481Z"
    },
    "papermill": {
     "duration": 139.069136,
     "end_time": "2022-03-28T05:16:53.614711",
     "exception": false,
     "start_time": "2022-03-28T05:14:34.545575",
     "status": "completed"
    },
    "tags": []
   },
   "outputs": [],
   "source": [
    "###################################\n",
    "# Evaluate the model\n",
    "###################################\n",
    "source_test_label_accuracy, source_test_label_loss = jig.test(datasets.source.processed.test)\n",
    "target_test_label_accuracy, target_test_label_loss = jig.test(datasets.target.processed.test)\n",
    "\n",
    "source_val_label_accuracy, source_val_label_loss = jig.test(datasets.source.processed.val)\n",
    "target_val_label_accuracy, target_val_label_loss = jig.test(datasets.target.processed.val)\n",
    "\n",
    "history = jig.get_history()\n",
    "\n",
    "total_epochs_trained = len(history[\"epoch_indices\"])\n",
    "\n",
    "val_dl = Iterable_Aggregator((datasets.source.original.val,datasets.target.original.val))\n",
    "\n",
    "confusion = ptn_confusion_by_domain_over_dataloader(model, p.device, val_dl)\n",
    "per_domain_accuracy = per_domain_accuracy_from_confusion(confusion)\n",
    "\n",
    "# Add a key to per_domain_accuracy for if it was a source domain\n",
    "for domain, accuracy in per_domain_accuracy.items():\n",
    "    per_domain_accuracy[domain] = {\n",
    "        \"accuracy\": accuracy,\n",
    "        \"source?\": domain in p.domains_source\n",
    "    }\n",
    "\n",
    "# Do an independent accuracy assesment JUST TO BE SURE!\n",
    "# _source_test_label_accuracy = independent_accuracy_assesment(model, datasets.source.processed.test, p.device)\n",
    "# _target_test_label_accuracy = independent_accuracy_assesment(model, datasets.target.processed.test, p.device)\n",
    "# _source_val_label_accuracy = independent_accuracy_assesment(model, datasets.source.processed.val, p.device)\n",
    "# _target_val_label_accuracy = independent_accuracy_assesment(model, datasets.target.processed.val, p.device)\n",
    "\n",
    "# assert(_source_test_label_accuracy == source_test_label_accuracy)\n",
    "# assert(_target_test_label_accuracy == target_test_label_accuracy)\n",
    "# assert(_source_val_label_accuracy == source_val_label_accuracy)\n",
    "# assert(_target_val_label_accuracy == target_val_label_accuracy)\n",
    "\n",
    "experiment = {\n",
    "    \"experiment_name\": p.experiment_name,\n",
    "    \"parameters\": dict(p),\n",
    "    \"results\": {\n",
    "        \"source_test_label_accuracy\": source_test_label_accuracy,\n",
    "        \"source_test_label_loss\": source_test_label_loss,\n",
    "        \"target_test_label_accuracy\": target_test_label_accuracy,\n",
    "        \"target_test_label_loss\": target_test_label_loss,\n",
    "        \"source_val_label_accuracy\": source_val_label_accuracy,\n",
    "        \"source_val_label_loss\": source_val_label_loss,\n",
    "        \"target_val_label_accuracy\": target_val_label_accuracy,\n",
    "        \"target_val_label_loss\": target_val_label_loss,\n",
    "        \"total_epochs_trained\": total_epochs_trained,\n",
    "        \"total_experiment_time_secs\": total_experiment_time_secs,\n",
    "        \"confusion\": confusion,\n",
    "        \"per_domain_accuracy\": per_domain_accuracy,\n",
    "    },\n",
    "    \"history\": history,\n",
    "    \"dataset_metrics\": get_dataset_metrics(datasets, \"ptn\"),\n",
    "}"
   ]
  },
  {
   "cell_type": "code",
   "execution_count": 25,
   "id": "54a21829",
   "metadata": {
    "execution": {
     "iopub.execute_input": "2022-03-28T05:16:53.701900Z",
     "iopub.status.busy": "2022-03-28T05:16:53.701432Z",
     "iopub.status.idle": "2022-03-28T05:16:53.917779Z",
     "shell.execute_reply": "2022-03-28T05:16:53.917057Z"
    },
    "papermill": {
     "duration": 0.257675,
     "end_time": "2022-03-28T05:16:53.917937",
     "exception": false,
     "start_time": "2022-03-28T05:16:53.660262",
     "status": "completed"
    },
    "tags": []
   },
   "outputs": [
    {
     "data": {
      "image/png": "[encoded data removed]",
      "text/plain": [
       "<Figure size 1080x504 with 1 Axes>"
      ]
     },
     "metadata": {
      "needs_background": "light"
     },
     "output_type": "display_data"
    }
   ],
   "source": [
    "ax = get_loss_curve(experiment)\n",
    "plt.show()"
   ]
  },
  {
   "cell_type": "code",
   "execution_count": 26,
   "id": "fd8a0f60",
   "metadata": {
    "execution": {
     "iopub.execute_input": "2022-03-28T05:16:54.004091Z",
     "iopub.status.busy": "2022-03-28T05:16:54.003731Z",
     "iopub.status.idle": "2022-03-28T05:16:54.373272Z",
     "shell.execute_reply": "2022-03-28T05:16:54.372905Z"
    },
    "papermill": {
     "duration": 0.411385,
     "end_time": "2022-03-28T05:16:54.373343",
     "exception": false,
     "start_time": "2022-03-28T05:16:53.961958",
     "status": "completed"
    },
    "tags": []
   },
   "outputs": [
    {
     "data": {
      "text/plain": [
       "<AxesSubplot:title={'center':'Results'}>"
      ]
     },
     "execution_count": 26,
     "metadata": {},
     "output_type": "execute_result"
    },
    {
     "data": {
      "image/png": "[encoded data removed]",
      "text/plain": [
       "<Figure size 1080x504 with 1 Axes>"
      ]
     },
     "metadata": {
      "needs_background": "light"
     },
     "output_type": "display_data"
    }
   ],
   "source": [
    "get_results_table(experiment)"
   ]
  },
  {
   "cell_type": "code",
   "execution_count": 27,
   "id": "cf8dc689",
   "metadata": {
    "execution": {
     "iopub.execute_input": "2022-03-28T05:16:54.460798Z",
     "iopub.status.busy": "2022-03-28T05:16:54.460377Z",
     "iopub.status.idle": "2022-03-28T05:16:54.698370Z",
     "shell.execute_reply": "2022-03-28T05:16:54.699051Z"
    },
    "papermill": {
     "duration": 0.284008,
     "end_time": "2022-03-28T05:16:54.699275",
     "exception": false,
     "start_time": "2022-03-28T05:16:54.415267",
     "status": "completed"
    },
    "tags": []
   },
   "outputs": [
    {
     "data": {
      "text/plain": [
       "<AxesSubplot:title={'center':'Per Domain Validation Accuracy'}, xlabel='domain'>"
      ]
     },
     "execution_count": 27,
     "metadata": {},
     "output_type": "execute_result"
    },
    {
     "data": {
      "image/png": "[encoded data removed]",
      "text/plain": [
       "<Figure size 1080x504 with 1 Axes>"
      ]
     },
     "metadata": {
      "needs_background": "light"
     },
     "output_type": "display_data"
    }
   ],
   "source": [
    "get_domain_accuracies(experiment)"
   ]
  },
  {
   "cell_type": "code",
   "execution_count": 28,
   "id": "a74ae082",
   "metadata": {
    "execution": {
     "iopub.execute_input": "2022-03-28T05:16:54.787922Z",
     "iopub.status.busy": "2022-03-28T05:16:54.787405Z",
     "iopub.status.idle": "2022-03-28T05:16:54.812371Z",
     "shell.execute_reply": "2022-03-28T05:16:54.811670Z"
    },
    "papermill": {
     "duration": 0.068946,
     "end_time": "2022-03-28T05:16:54.812521",
     "exception": false,
     "start_time": "2022-03-28T05:16:54.743575",
     "status": "completed"
    },
    "tags": []
   },
   "outputs": [
    {
     "name": "stdout",
     "output_type": "stream",
     "text": [
      "Source Test Label Accuracy: 0.6490234375 Target Test Label Accuracy: 0.5651245800671892\n",
      "Source Val Label Accuracy: 0.64951171875 Target Val Label Accuracy: 0.5710812356979404\n"
     ]
    }
   ],
   "source": [
    "print(\"Source Test Label Accuracy:\", experiment[\"results\"][\"source_test_label_accuracy\"], \"Target Test Label Accuracy:\", experiment[\"results\"][\"target_test_label_accuracy\"])\n",
    "print(\"Source Val Label Accuracy:\", experiment[\"results\"][\"source_val_label_accuracy\"], \"Target Val Label Accuracy:\", experiment[\"results\"][\"target_val_label_accuracy\"])"
   ]
  },
  {
   "cell_type": "code",
   "execution_count": 29,
   "id": "dacca602",
   "metadata": {
    "execution": {
     "iopub.execute_input": "2022-03-28T05:16:54.904223Z",
     "iopub.status.busy": "2022-03-28T05:16:54.903864Z",
     "iopub.status.idle": "2022-03-28T05:16:54.934179Z",
     "shell.execute_reply": "2022-03-28T05:16:54.934842Z"
    },
    "papermill": {
     "duration": 0.076973,
     "end_time": "2022-03-28T05:16:54.935024",
     "exception": false,
     "start_time": "2022-03-28T05:16:54.858051",
     "status": "completed"
    },
    "tags": [
     "experiment_json"
    ]
   },
   "outputs": [
    {
     "data": {
      "text/plain": [
       "'{\"experiment_name\": \"tl_3-jitter1v2:oracle.run1.framed -> cores\", \"parameters\": {\"experiment_name\": \"tl_3-jitter1v2:oracle.run1.framed -> cores\", \"device\": \"cuda\", \"lr\": 0.0001, \"x_shape\": [2, 256], \"n_shot\": 3, \"n_query\": 2, \"train_k_factor\": 3, \"val_k_factor\": 2, \"test_k_factor\": 2, \"torch_default_dtype\": \"torch.float32\", \"n_epoch\": 50, \"patience\": 3, \"criteria_for_best\": \"target_accuracy\", \"x_net\": [{\"class\": \"nnReshape\", \"kargs\": {\"shape\": [-1, 1, 2, 256]}}, {\"class\": \"Conv2d\", \"kargs\": {\"in_channels\": 1, \"out_channels\": 256, \"kernel_size\": [1, 7], \"bias\": false, \"padding\": [0, 3]}}, {\"class\": \"ReLU\", \"kargs\": {\"inplace\": true}}, {\"class\": \"BatchNorm2d\", \"kargs\": {\"num_features\": 256}}, {\"class\": \"Conv2d\", \"kargs\": {\"in_channels\": 256, \"out_channels\": 80, \"kernel_size\": [2, 7], \"bias\": true, \"padding\": [0, 3]}}, {\"class\": \"ReLU\", \"kargs\": {\"inplace\": true}}, {\"class\": \"BatchNorm2d\", \"kargs\": {\"num_features\": 80}}, {\"class\": \"Flatten\", \"kargs\": {}}, {\"class\": \"Linear\", \"kargs\": {\"in_features\": 20480, \"out_features\": 256}}, {\"class\": \"ReLU\", \"kargs\": {\"inplace\": true}}, {\"class\": \"BatchNorm1d\", \"kargs\": {\"num_features\": 256}}, {\"class\": \"Linear\", \"kargs\": {\"in_features\": 256, \"out_features\": 256}}], \"NUM_LOGS_PER_EPOCH\": 10, \"BEST_MODEL_PATH\": \"./best_model.pth\", \"n_way\": 16, \"datasets\": [{\"labels\": [\"1-10.\", \"1-11.\", \"1-15.\", \"1-16.\", \"1-17.\", \"1-18.\", \"1-19.\", \"10-4.\", \"10-7.\", \"11-1.\", \"11-14.\", \"11-17.\", \"11-20.\", \"11-7.\", \"13-20.\", \"13-8.\", \"14-10.\", \"14-11.\", \"14-14.\", \"14-7.\", \"15-1.\", \"15-20.\", \"16-1.\", \"16-16.\", \"17-10.\", \"17-11.\", \"17-2.\", \"19-1.\", \"19-16.\", \"19-19.\", \"19-20.\", \"19-3.\", \"2-10.\", \"2-11.\", \"2-17.\", \"2-18.\", \"2-20.\", \"2-3.\", \"2-4.\", \"2-5.\", \"2-6.\", \"2-7.\", \"2-8.\", \"3-13.\", \"3-18.\", \"3-3.\", \"4-1.\", \"4-10.\", \"4-11.\", \"4-19.\", \"5-5.\", \"6-15.\", \"7-10.\", \"7-14.\", \"8-18.\", \"8-20.\", \"8-3.\", \"8-8.\"], \"domains\": [1, 2, 3, 4, 5], \"num_examples_per_domain_per_label\": -1, \"pickle_path\": \"/root/csc500-main/datasets/cores.stratified_ds.2022A.pkl\", \"source_or_target_dataset\": \"target\", \"x_transforms\": [\"jitter_256_1\", \"lowpass_+/-10MHz\", \"take_200\"], \"episode_transforms\": [], \"domain_prefix\": \"C_\"}, {\"labels\": [\"3123D52\", \"3123D65\", \"3123D79\", \"3123D80\", \"3123D54\", \"3123D70\", \"3123D7B\", \"3123D89\", \"3123D58\", \"3123D76\", \"3123D7D\", \"3123EFE\", \"3123D64\", \"3123D78\", \"3123D7E\", \"3124E4A\"], \"domains\": [32, 38, 8, 44, 14, 50, 20, 26], \"num_examples_per_domain_per_label\": 2000, \"pickle_path\": \"/root/csc500-main/datasets/oracle.Run1_framed_2000Examples_stratified_ds.2022A.pkl\", \"source_or_target_dataset\": \"source\", \"x_transforms\": [\"jitter_256_1\", \"take_200\", \"resample_20Msps_to_25Msps\"], \"episode_transforms\": [], \"domain_prefix\": \"O_\"}], \"seed\": 154325, \"dataset_seed\": 154325, \"domains_source\": [\"O_32\", \"O_38\", \"O_8\", \"O_44\", \"O_14\", \"O_50\", \"O_20\", \"O_26\"], \"domains_target\": [\"C_1\", \"C_2\", \"C_3\", \"C_4\", \"C_5\"]}, \"results\": {\"source_test_label_accuracy\": 0.6490234375, \"source_test_label_loss\": 101.94839477539062, \"target_test_label_accuracy\": 0.5651245800671892, \"target_test_label_loss\": 12343.556640625, \"source_val_label_accuracy\": 0.64951171875, \"source_val_label_loss\": 106.10382843017578, \"target_val_label_accuracy\": 0.5710812356979404, \"target_val_label_loss\": 12307.9453125, \"total_epochs_trained\": 5, \"total_experiment_time_secs\": 864.1321280002594, \"confusion\": {\"O_8\": {\"13\": {\"1\": 29, \"10\": 46, \"8\": 2, \"11\": 12, \"13\": 63, \"7\": 24, \"6\": 13, \"5\": 36, \"12\": 3, \"4\": 7, \"14\": 4, \"15\": 1}, \"9\": {\"9\": 234, \"3\": 6}, \"15\": {\"2\": 53, \"12\": 67, \"15\": 113, \"5\": 4, \"3\": 2, \"7\": 1}, \"2\": {\"3\": 53, \"12\": 43, \"13\": 3, \"15\": 62, \"2\": 78, \"1\": 1}, \"3\": {\"3\": 223, \"2\": 16, \"15\": 1}, \"8\": {\"14\": 58, \"8\": 60, \"4\": 57, \"1\": 6, \"6\": 31, \"7\": 16, \"11\": 9, \"13\": 2, \"10\": 1}, \"5\": {\"5\": 88, \"1\": 30, \"10\": 32, \"6\": 6, \"11\": 15, \"12\": 20, \"7\": 8, \"13\": 24, \"15\": 6, \"14\": 2, \"8\": 4, \"2\": 1, \"4\": 4}, \"14\": {\"14\": 120, \"8\": 45, \"11\": 9, \"4\": 52, \"6\": 5, \"1\": 5, \"10\": 1, \"0\": 2, \"7\": 1}, \"1\": {\"5\": 41, \"11\": 29, \"1\": 50, \"7\": 22, \"6\": 15, \"10\": 35, \"13\": 32, \"14\": 4, \"4\": 8, \"8\": 4}, \"0\": {\"0\": 237, \"14\": 3}, \"10\": {\"10\": 47, \"13\": 50, \"1\": 39, \"6\": 14, \"5\": 47, \"4\": 8, \"11\": 14, \"14\": 1, \"7\": 16, \"12\": 1, \"8\": 3}, \"6\": {\"6\": 53, \"14\": 9, \"7\": 41, \"10\": 19, \"1\": 26, \"4\": 27, \"8\": 22, \"11\": 24, \"13\": 18, \"5\": 1}, \"11\": {\"13\": 17, \"10\": 34, \"11\": 43, \"1\": 38, \"6\": 29, \"4\": 17, \"5\": 20, \"8\": 11, \"7\": 21, \"14\": 9, \"0\": 1}, \"7\": {\"6\": 46, \"8\": 12, \"14\": 3, \"7\": 55, \"13\": 39, \"5\": 5, \"10\": 25, \"4\": 13, \"11\": 14, \"1\": 28}, \"4\": {\"4\": 58, \"8\": 46, \"14\": 51, \"6\": 30, \"7\": 16, \"1\": 12, \"11\": 24, \"13\": 3}, \"12\": {\"15\": 73, \"12\": 135, \"2\": 25, \"13\": 2, \"10\": 4, \"5\": 1}}, \"O_38\": {\"13\": {\"13\": 225, \"10\": 10, \"0\": 4, \"14\": 1}, \"12\": {\"12\": 240}, \"2\": {\"2\": 224, \"14\": 15, \"13\": 1}, \"9\": {\"9\": 231, \"8\": 1, \"7\": 1, \"5\": 7}, \"15\": {\"15\": 229, \"1\": 3, \"5\": 6, \"8\": 2}, \"5\": {\"15\": 3, \"8\": 75, \"7\": 18, \"9\": 15, \"5\": 128, \"0\": 1}, \"14\": {\"14\": 236, \"2\": 4}, \"0\": {\"7\": 20, \"0\": 143, \"10\": 61, \"13\": 16}, \"3\": {\"3\": 209, \"10\": 12, \"11\": 2, \"0\": 17}, \"1\": {\"1\": 240}, \"11\": {\"11\": 238, \"3\": 2}, \"7\": {\"7\": 235, \"8\": 4, \"5\": 1}, \"8\": {\"8\": 129, \"15\": 12, \"7\": 18, \"0\": 3, \"5\": 74, \"13\": 3, \"9\": 1}, \"4\": {\"4\": 240}, \"10\": {\"10\": 228, \"0\": 10, \"13\": 2}, \"6\": {\"6\": 240}}, \"O_26\": {\"10\": {\"10\": 140, \"0\": 15, \"14\": 65, \"15\": 6, \"6\": 8, \"12\": 2, \"1\": 1, \"2\": 3}, \"12\": {\"12\": 55, \"11\": 22, \"8\": 14, \"10\": 31, \"0\": 53, \"5\": 3, \"9\": 13, \"15\": 15, \"7\": 5, \"6\": 17, \"2\": 9, \"13\": 3}, \"1\": {\"1\": 183, \"0\": 1, \"10\": 15, \"15\": 1, \"14\": 35, \"6\": 4, \"9\": 1}, \"0\": {\"0\": 96, \"9\": 6, \"10\": 66, \"14\": 52, \"1\": 3, \"12\": 3, \"8\": 7, \"7\": 1, \"2\": 5, \"15\": 1}, \"15\": {\"6\": 24, \"15\": 159, \"5\": 38, \"10\": 14, \"1\": 3, \"14\": 2}, \"13\": {\"3\": 49, \"8\": 15, \"7\": 56, \"4\": 21, \"13\": 53, \"2\": 22, \"9\": 16, \"12\": 3, \"0\": 2, \"10\": 2, \"15\": 1}, \"8\": {\"12\": 23, \"0\": 32, \"9\": 40, \"3\": 6, \"2\": 39, \"7\": 33, \"14\": 5, \"8\": 32, \"13\": 13, \"15\": 7, \"10\": 6, \"4\": 2, \"5\": 1, \"1\": 1}, \"3\": {\"3\": 107, \"4\": 25, \"13\": 55, \"7\": 33, \"9\": 7, \"2\": 8, \"8\": 4, \"12\": 1}, \"11\": {\"11\": 240}, \"4\": {\"4\": 192, \"3\": 34, \"13\": 14}, \"6\": {\"6\": 215, \"15\": 17, \"10\": 5, \"12\": 1, \"14\": 2}, \"7\": {\"7\": 66, \"8\": 39, \"9\": 41, \"2\": 37, \"13\": 27, \"3\": 21, \"0\": 2, \"12\": 5, \"10\": 2}, \"14\": {\"1\": 13, \"10\": 41, \"14\": 163, \"0\": 14, \"8\": 2, \"15\": 4, \"6\": 2, \"12\": 1}, \"2\": {\"8\": 34, \"12\": 15, \"2\": 43, \"15\": 9, \"0\": 23, \"13\": 12, \"9\": 34, \"10\": 5, \"7\": 37, \"3\": 17, \"5\": 5, \"4\": 2, \"14\": 4}, \"5\": {\"5\": 182, \"15\": 52, \"6\": 5, \"10\": 1}, \"9\": {\"0\": 29, \"7\": 35, \"10\": 6, \"9\": 36, \"13\": 19, \"2\": 30, \"12\": 19, \"1\": 4, \"8\": 36, \"3\": 10, \"15\": 8, \"14\": 5, \"5\": 3}}, \"O_20\": {\"5\": {\"8\": 40, \"5\": 51, \"9\": 16, \"1\": 43, \"2\": 4, \"0\": 5, \"14\": 7, \"12\": 9, \"3\": 41, \"11\": 5, \"4\": 3, \"15\": 6, \"7\": 7, \"10\": 1, \"6\": 1, \"13\": 1}, \"15\": {\"15\": 42, \"7\": 10, \"9\": 25, \"12\": 28, \"1\": 31, \"5\": 24, \"2\": 20, \"10\": 8, \"3\": 13, \"6\": 2, \"4\": 21, \"13\": 12, \"8\": 3, \"14\": 1}, \"9\": {\"3\": 30, \"8\": 17, \"14\": 25, \"9\": 38, \"15\": 17, \"5\": 19, \"12\": 15, \"13\": 13, \"4\": 11, \"7\": 16, \"2\": 7, \"1\": 27, \"6\": 3, \"10\": 2}, \"7\": {\"7\": 35, \"13\": 15, \"15\": 10, \"9\": 33, \"5\": 3, \"3\": 10, \"12\": 24, \"10\": 12, \"1\": 10, \"2\": 34, \"6\": 4, \"14\": 23, \"4\": 24, \"8\": 3}, \"3\": {\"8\": 46, \"3\": 46, \"2\": 10, \"5\": 42, \"1\": 27, \"15\": 9, \"9\": 19, \"13\": 2, \"12\": 3, \"14\": 15, \"0\": 1, \"7\": 6, \"10\": 3, \"6\": 4, \"11\": 6, \"4\": 1}, \"8\": {\"4\": 2, \"8\": 61, \"14\": 27, \"5\": 30, \"1\": 21, \"3\": 43, \"11\": 24, \"9\": 14, \"7\": 2, \"15\": 2, \"0\": 4, \"13\": 4, \"12\": 3, \"2\": 2, \"6\": 1}, \"4\": {\"13\": 35, \"2\": 31, \"10\": 18, \"7\": 22, \"1\": 6, \"3\": 3, \"9\": 11, \"12\": 39, \"5\": 2, \"15\": 20, \"4\": 42, \"14\": 6, \"6\": 5}, \"6\": {\"6\": 67, \"4\": 22, \"10\": 33, \"13\": 33, \"14\": 15, \"15\": 3, \"12\": 6, \"9\": 5, \"7\": 33, \"3\": 2, \"2\": 21}, \"2\": {\"7\": 32, \"12\": 40, \"15\": 12, \"4\": 30, \"10\": 22, \"6\": 18, \"2\": 31, \"14\": 6, \"9\": 16, \"1\": 6, \"13\": 24, \"5\": 2, \"3\": 1}, \"12\": {\"7\": 21, \"15\": 38, \"12\": 44, \"1\": 17, \"2\": 21, \"4\": 25, \"5\": 10, \"13\": 15, \"10\": 13, \"9\": 21, \"3\": 7, \"6\": 3, \"14\": 1, \"8\": 4}, \"0\": {\"11\": 51, \"0\": 172, \"5\": 8, \"8\": 6, \"9\": 1, \"3\": 2}, \"13\": {\"4\": 48, \"10\": 38, \"13\": 66, \"7\": 15, \"9\": 3, \"2\": 27, \"6\": 13, \"12\": 21, \"15\": 8, \"5\": 1}, \"10\": {\"10\": 164, \"9\": 1, \"4\": 8, \"13\": 46, \"2\": 5, \"6\": 12, \"7\": 3, \"12\": 1}, \"11\": {\"11\": 179, \"0\": 36, \"6\": 1, \"8\": 13, \"5\": 2, \"3\": 4, \"7\": 2, \"14\": 3}, \"14\": {\"2\": 8, \"14\": 72, \"3\": 25, \"10\": 2, \"7\": 17, \"6\": 10, \"5\": 10, \"12\": 3, \"9\": 37, \"1\": 8, \"8\": 41, \"15\": 3, \"4\": 3, \"13\": 1}, \"1\": {\"3\": 31, \"8\": 28, \"5\": 52, \"2\": 8, \"6\": 3, \"9\": 16, \"12\": 11, \"14\": 6, \"1\": 51, \"4\": 5, \"15\": 15, \"7\": 7, \"10\": 3, \"13\": 4}}, \"O_50\": {\"1\": {\"1\": 234, \"13\": 6}, \"2\": {\"2\": 223, \"0\": 17}, \"8\": {\"8\": 236, \"10\": 4}, \"7\": {\"7\": 231, \"5\": 7, \"4\": 2}, \"14\": {\"14\": 240}, \"6\": {\"6\": 191, \"5\": 28, \"15\": 21}, \"3\": {\"3\": 240}, \"4\": {\"4\": 202, \"7\": 25, \"5\": 7, \"15\": 4, \"6\": 2}, \"12\": {\"12\": 218, \"11\": 9, \"9\": 13}, \"15\": {\"15\": 226, \"6\": 10, \"5\": 1, \"11\": 3}, \"11\": {\"11\": 233, \"15\": 3, \"9\": 3, \"12\": 1}, \"0\": {\"0\": 219, \"10\": 7, \"2\": 14}, \"9\": {\"9\": 206, \"12\": 16, \"11\": 18}, \"10\": {\"10\": 231, \"8\": 6, \"0\": 3}, \"5\": {\"13\": 14, \"1\": 1, \"4\": 18, \"7\": 66, \"6\": 46, \"5\": 93, \"15\": 2}, \"13\": {\"13\": 238, \"1\": 2}}, \"O_32\": {\"2\": {\"2\": 200, \"4\": 40}, \"6\": {\"6\": 234, \"12\": 2, \"10\": 4}, \"5\": {\"5\": 132, \"8\": 35, \"7\": 41, \"0\": 25, \"14\": 7}, \"12\": {\"12\": 240}, \"13\": {\"4\": 28, \"13\": 173, \"3\": 35, \"11\": 4}, \"9\": {\"9\": 239, \"12\": 1}, \"11\": {\"11\": 236, \"13\": 4}, \"1\": {\"1\": 240}, \"3\": {\"3\": 224, \"13\": 14, \"11\": 2}, \"7\": {\"7\": 143, \"5\": 47, \"0\": 22, \"14\": 25, \"8\": 3}, \"14\": {\"14\": 151, \"5\": 9, \"7\": 59, \"0\": 10, \"2\": 9, \"4\": 1, \"13\": 1}, \"8\": {\"8\": 186, \"0\": 27, \"5\": 18, \"4\": 3, \"14\": 2, \"3\": 1, \"7\": 3}, \"4\": {\"4\": 196, \"13\": 6, \"2\": 37, \"14\": 1}, \"0\": {\"0\": 169, \"8\": 27, \"7\": 28, \"5\": 10, \"14\": 4, \"2\": 2}, \"10\": {\"10\": 240}, \"15\": {\"15\": 238, \"8\": 1, \"5\": 1}}, \"O_44\": {\"13\": {\"13\": 206, \"6\": 29, \"9\": 5}, \"4\": {\"4\": 160, \"14\": 76, \"15\": 4}, \"6\": {\"6\": 196, \"13\": 31, \"9\": 12, \"7\": 1}, \"0\": {\"0\": 213, \"8\": 26, \"15\": 1}, \"10\": {\"10\": 223, \"7\": 9, \"1\": 4, \"2\": 4}, \"7\": {\"7\": 209, \"10\": 4, \"6\": 2, \"9\": 25}, \"14\": {\"14\": 168, \"4\": 52, \"15\": 10, \"5\": 10}, \"15\": {\"5\": 13, \"15\": 198, \"14\": 19, \"8\": 5, \"0\": 4, \"4\": 1}, \"5\": {\"5\": 214, \"14\": 12, \"15\": 14}, \"2\": {\"2\": 224, \"1\": 15, \"10\": 1}, \"9\": {\"9\": 123, \"6\": 27, \"7\": 72, \"10\": 1, \"13\": 14, \"4\": 3}, \"12\": {\"12\": 229, \"3\": 11}, \"8\": {\"8\": 155, \"0\": 75, \"15\": 5, \"5\": 5}, \"3\": {\"3\": 233, \"12\": 7}, \"1\": {\"1\": 227, \"2\": 12, \"10\": 1}, \"11\": {\"13\": 68, \"11\": 172}}, \"O_14\": {\"1\": {\"9\": 8, \"1\": 223, \"4\": 4, \"11\": 3, \"10\": 2}, \"15\": {\"15\": 239, \"6\": 1}, \"10\": {\"10\": 133, \"9\": 26, \"4\": 57, \"2\": 5, \"5\": 8, \"1\": 8, \"7\": 1, \"8\": 2}, \"2\": {\"2\": 42, \"6\": 11, \"1\": 3, \"7\": 16, \"5\": 48, \"14\": 29, \"4\": 36, \"8\": 21, \"0\": 7, \"10\": 11, \"3\": 11, \"13\": 4, \"9\": 1}, \"9\": {\"4\": 10, \"10\": 90, \"9\": 117, \"1\": 13, \"2\": 5, \"11\": 2, \"5\": 1, \"14\": 1, \"8\": 1}, \"5\": {\"5\": 88, \"7\": 47, \"2\": 56, \"10\": 5, \"4\": 23, \"1\": 2, \"14\": 5, \"8\": 10, \"13\": 4}, \"7\": {\"7\": 112, \"9\": 1, \"8\": 12, \"1\": 2, \"5\": 46, \"2\": 41, \"14\": 8, \"4\": 8, \"10\": 2, \"13\": 7, \"6\": 1}, \"13\": {\"3\": 41, \"6\": 40, \"13\": 35, \"15\": 29, \"0\": 15, \"14\": 33, \"8\": 7, \"2\": 16, \"5\": 11, \"10\": 4, \"4\": 2, \"7\": 6, \"1\": 1}, \"8\": {\"2\": 29, \"0\": 27, \"14\": 45, \"8\": 77, \"13\": 19, \"4\": 5, \"9\": 4, \"5\": 14, \"6\": 9, \"7\": 3, \"3\": 8}, \"6\": {\"0\": 11, \"6\": 75, \"13\": 37, \"14\": 33, \"3\": 74, \"2\": 2, \"7\": 4, \"4\": 1, \"8\": 2, \"5\": 1}, \"3\": {\"0\": 33, \"3\": 99, \"14\": 16, \"13\": 23, \"6\": 58, \"8\": 4, \"7\": 6, \"2\": 1}, \"12\": {\"0\": 30, \"12\": 177, \"13\": 6, \"8\": 13, \"3\": 7, \"2\": 1, \"10\": 3, \"14\": 2, \"6\": 1}, \"0\": {\"0\": 57, \"12\": 6, \"3\": 52, \"9\": 1, \"14\": 25, \"13\": 23, \"2\": 11, \"8\": 33, \"6\": 26, \"15\": 1, \"1\": 1, \"7\": 1, \"10\": 2, \"4\": 1}, \"4\": {\"10\": 63, \"4\": 135, \"5\": 17, \"2\": 14, \"1\": 9, \"14\": 1, \"9\": 1}, \"14\": {\"3\": 22, \"6\": 20, \"0\": 19, \"14\": 71, \"7\": 11, \"13\": 24, \"8\": 39, \"2\": 21, \"5\": 9, \"4\": 3, \"1\": 1}, \"11\": {\"11\": 226, \"1\": 14}}, \"C_2\": {\"21\": {\"21\": 95, \"6\": 1, \"47\": 2, \"20\": 3, \"30\": 4, \"12\": 4, \"46\": 2, \"50\": 2, \"0\": 2, \"22\": 3, \"3\": 2}, \"4\": {\"56\": 7, \"20\": 7, \"4\": 33, \"1\": 7, \"41\": 2, \"0\": 2, \"5\": 2, \"57\": 8, \"27\": 8, \"40\": 5, \"13\": 2, \"45\": 2, \"48\": 7, \"47\": 2, \"29\": 5, \"44\": 3, \"51\": 4, \"9\": 10, \"52\": 2, \"22\": 7, \"8\": 2, \"14\": 1, \"50\": 2}, \"6\": {\"6\": 78, \"3\": 14, \"45\": 7, \"12\": 5, \"5\": 6, \"40\": 1, \"46\": 7, \"50\": 5, \"21\": 1}, \"10\": {\"24\": 4, \"10\": 63, \"11\": 6, \"53\": 5, \"15\": 11, \"28\": 4, \"16\": 2, \"43\": 5, \"23\": 2, \"25\": 2, \"55\": 1, \"42\": 2, \"54\": 1, \"49\": 2, \"37\": 1, \"33\": 1}, \"33\": {\"33\": 9, \"32\": 1, \"53\": 1, \"34\": 1, \"36\": 2, \"42\": 3, \"43\": 2, \"17\": 3, \"28\": 1, \"38\": 1, \"23\": 1, \"24\": 1, \"15\": 1, \"51\": 1}, \"56\": {\"4\": 7, \"47\": 14, \"56\": 40, \"52\": 4, \"21\": 4, \"22\": 7, \"0\": 3, \"30\": 13, \"1\": 10, \"40\": 3, \"48\": 9, \"5\": 1, \"57\": 4, \"3\": 1, \"20\": 1, \"9\": 1}, \"20\": {\"8\": 7, \"20\": 85, \"1\": 2, \"30\": 3, \"4\": 6, \"27\": 3, \"47\": 5, \"9\": 3, \"52\": 3, \"40\": 3, \"57\": 3, \"48\": 5, \"22\": 1, \"21\": 1, \"13\": 1, \"29\": 1}, \"24\": {\"24\": 39, \"53\": 11, \"54\": 8, \"42\": 1, \"28\": 1, \"31\": 2, \"43\": 17, \"10\": 1, \"23\": 7, \"55\": 2, \"51\": 1, \"19\": 1, \"7\": 1, \"34\": 2, \"17\": 1, \"11\": 1}, \"45\": {\"45\": 74, \"6\": 15, \"5\": 16, \"12\": 5, \"44\": 2, \"46\": 3, \"50\": 7, \"21\": 3, \"3\": 2, \"22\": 1}, \"32\": {\"8\": 1, \"56\": 1, \"1\": 1, \"54\": 1, \"33\": 2, \"31\": 2, \"32\": 8, \"13\": 1, \"26\": 1, \"36\": 2, \"29\": 1, \"42\": 2, \"47\": 1, \"51\": 1, \"44\": 1, \"9\": 1, \"2\": 1}, \"27\": {\"27\": 94, \"33\": 1, \"57\": 8, \"30\": 2, \"0\": 1, \"38\": 2, \"29\": 10, \"13\": 1, \"8\": 6, \"20\": 4, \"47\": 4, \"9\": 9, \"41\": 3, \"4\": 1, \"51\": 2}, \"53\": {\"54\": 7, \"24\": 7, \"26\": 4, \"53\": 52, \"49\": 1, \"15\": 8, \"7\": 3, \"31\": 2, \"11\": 10, \"10\": 8, \"17\": 3, \"55\": 5, \"16\": 9, \"43\": 4, \"23\": 7, \"37\": 3, \"27\": 1, \"25\": 1, \"8\": 1}, \"8\": {\"8\": 114, \"38\": 1, \"20\": 2, \"41\": 1, \"1\": 5, \"2\": 2, \"29\": 4, \"48\": 4, \"27\": 8, \"57\": 10, \"30\": 2, \"52\": 1, \"56\": 1, \"0\": 1, \"9\": 1, \"47\": 2, \"51\": 1}, \"54\": {\"32\": 1, \"54\": 46, \"23\": 5, \"42\": 2, \"31\": 1, \"49\": 1, \"17\": 4, \"43\": 15, \"7\": 3, \"13\": 5, \"10\": 1, \"24\": 5, \"51\": 2, \"19\": 2, \"55\": 10, \"57\": 1, \"53\": 1, \"27\": 2, \"8\": 1}, \"50\": {\"50\": 89, \"5\": 5, \"46\": 20, \"12\": 8, \"45\": 1, \"6\": 8, \"3\": 2, \"47\": 1}, \"44\": {\"44\": 74, \"5\": 3, \"12\": 3, \"47\": 1, \"3\": 5, \"45\": 1, \"46\": 2, \"21\": 3, \"50\": 1, \"56\": 1, \"52\": 2, \"40\": 4}, \"5\": {\"46\": 13, \"3\": 6, \"30\": 2, \"5\": 57, \"50\": 7, \"21\": 3, \"45\": 8, \"6\": 11, \"12\": 7, \"22\": 2, \"52\": 1, \"0\": 1, \"44\": 1, \"47\": 1}, \"38\": {\"38\": 11, \"57\": 1, \"8\": 2, \"32\": 1, \"27\": 2, \"41\": 2, \"51\": 1}, \"19\": {\"23\": 7, \"15\": 6, \"19\": 54, \"26\": 1, \"11\": 6, \"34\": 3, \"2\": 1, \"10\": 1, \"16\": 4, \"24\": 1, \"36\": 3, \"54\": 7, \"55\": 14, \"43\": 3, \"53\": 6, \"4\": 1, \"51\": 1, \"29\": 1, \"18\": 1, \"35\": 3, \"31\": 3, \"27\": 1, \"25\": 1, \"17\": 2, \"8\": 1}, \"1\": {\"40\": 2, \"48\": 10, \"4\": 7, \"1\": 62, \"47\": 9, \"30\": 2, \"44\": 1, \"56\": 4, \"52\": 3, \"14\": 2, \"20\": 2, \"22\": 4, \"57\": 2, \"5\": 1, \"29\": 1}, \"30\": {\"22\": 8, \"30\": 82, \"52\": 5, \"48\": 20, \"1\": 3, \"0\": 7, \"47\": 5, \"12\": 1, \"56\": 6, \"50\": 3, \"5\": 2, \"57\": 1, \"46\": 1}, \"15\": {\"15\": 108, \"16\": 5, \"11\": 17, \"23\": 1, \"10\": 9, \"28\": 1, \"34\": 1, \"24\": 2}, \"23\": {\"23\": 113, \"19\": 2, \"49\": 3, \"43\": 8, \"24\": 4, \"51\": 1, \"15\": 1, \"53\": 6, \"10\": 3, \"17\": 4, \"54\": 1}, \"35\": {\"19\": 2, \"35\": 22, \"17\": 2, \"36\": 1, \"2\": 2, \"42\": 1, \"33\": 1, \"39\": 1}, \"22\": {\"44\": 5, \"22\": 48, \"9\": 3, \"40\": 2, \"45\": 1, \"20\": 1, \"56\": 8, \"48\": 6, \"1\": 10, \"5\": 2, \"30\": 8, \"52\": 12, \"47\": 5, \"12\": 1, \"50\": 5, \"4\": 1, \"57\": 1, \"6\": 1, \"46\": 2, \"0\": 3, \"3\": 3}, \"40\": {\"40\": 39, \"44\": 5, \"56\": 2, \"21\": 1, \"47\": 4, \"48\": 9, \"20\": 15, \"45\": 9, \"4\": 10, \"29\": 2, \"12\": 2, \"30\": 3, \"1\": 2, \"22\": 7, \"50\": 1, \"13\": 4, \"5\": 2, \"51\": 3, \"27\": 3, \"52\": 5, \"9\": 9, \"57\": 2, \"46\": 1}, \"46\": {\"50\": 25, \"6\": 10, \"46\": 57, \"5\": 8, \"45\": 7, \"3\": 5, \"0\": 3, \"30\": 4, \"12\": 5, \"48\": 1, \"56\": 1}, \"3\": {\"5\": 7, \"3\": 41, \"6\": 11, \"21\": 1, \"44\": 4, \"12\": 9, \"0\": 1, \"46\": 6, \"45\": 5, \"30\": 1, \"50\": 5, \"20\": 1}, \"48\": {\"48\": 43, \"41\": 2, \"22\": 9, \"1\": 10, \"30\": 15, \"52\": 10, \"47\": 8, \"0\": 5, \"50\": 2, \"57\": 8, \"20\": 2, \"40\": 1, \"56\": 18, \"27\": 2, \"4\": 7, \"8\": 3, \"5\": 1, \"9\": 1, \"46\": 1}, \"52\": {\"30\": 10, \"52\": 92, \"0\": 1, \"47\": 2, \"20\": 4, \"48\": 8, \"56\": 1, \"29\": 1, \"22\": 3, \"4\": 1, \"21\": 1}, \"2\": {\"2\": 28, \"1\": 2, \"41\": 1, \"42\": 1}, \"26\": {\"26\": 18, \"37\": 2, \"25\": 1, \"23\": 1, \"53\": 1, \"24\": 1}, \"17\": {\"17\": 73, \"42\": 2, \"54\": 5, \"23\": 7, \"26\": 1, \"39\": 1, \"43\": 4, \"36\": 1, \"51\": 2, \"20\": 1, \"33\": 1, \"55\": 4, \"13\": 2}, \"55\": {\"42\": 2, \"2\": 3, \"55\": 88, \"7\": 4, \"36\": 4, \"31\": 6, \"39\": 4, \"54\": 5, \"13\": 4, \"8\": 5, \"27\": 6, \"9\": 3, \"29\": 1, \"43\": 3, \"51\": 2, \"17\": 2, \"57\": 1, \"20\": 1}, \"51\": {\"51\": 61, \"2\": 1, \"8\": 8, \"13\": 7, \"30\": 1, \"43\": 4, \"17\": 1, \"27\": 10, \"1\": 1, \"29\": 3, \"23\": 1, \"55\": 9, \"48\": 3, \"57\": 3, \"32\": 1, \"36\": 1, \"33\": 1, \"39\": 1, \"47\": 3, \"54\": 1, \"20\": 1}, \"42\": {\"42\": 25, \"49\": 1, \"7\": 2, \"17\": 3, \"54\": 4, \"55\": 1}, \"41\": {\"41\": 18, \"56\": 1, \"50\": 1}, \"31\": {\"31\": 16, \"49\": 1, \"55\": 1, \"42\": 3, \"7\": 4, \"17\": 2, \"53\": 1}, \"16\": {\"25\": 11, \"18\": 2, \"16\": 78, \"28\": 3, \"11\": 17, \"37\": 2, \"53\": 3, \"10\": 3, \"15\": 11, \"54\": 1, \"19\": 3, \"23\": 2, \"43\": 1, \"26\": 1}, \"36\": {\"55\": 2, \"36\": 112, \"7\": 1, \"2\": 1}, \"49\": {\"15\": 2, \"49\": 10, \"24\": 1, \"34\": 2, \"54\": 1, \"39\": 1, \"26\": 1, \"28\": 1, \"10\": 2, \"55\": 1, \"43\": 1, \"23\": 1}, \"0\": {\"0\": 27, \"56\": 5, \"30\": 4, \"47\": 1, \"48\": 6, \"46\": 1, \"22\": 3, \"52\": 1}, \"18\": {\"18\": 33, \"11\": 4, \"25\": 7, \"15\": 2, \"16\": 1, \"23\": 1}, \"25\": {\"18\": 7, \"25\": 108, \"11\": 7, \"15\": 8, \"16\": 15, \"43\": 1}, \"9\": {\"9\": 31, \"56\": 5, \"45\": 2, \"40\": 5, \"14\": 2, \"29\": 11, \"33\": 4, \"1\": 4, \"51\": 5, \"57\": 4, \"27\": 7, \"4\": 13, \"20\": 3, \"47\": 3, \"22\": 4, \"48\": 4, \"41\": 1, \"17\": 2, \"8\": 7, \"0\": 1, \"5\": 1, \"21\": 1, \"50\": 1, \"46\": 1}, \"47\": {\"47\": 56, \"56\": 18, \"21\": 1, \"29\": 1, \"48\": 25, \"4\": 6, \"22\": 7, \"1\": 5, \"52\": 3, \"30\": 7, \"57\": 2, \"50\": 1}, \"7\": {\"7\": 19, \"55\": 7, \"39\": 3, \"14\": 2, \"29\": 1, \"13\": 2, \"43\": 1, \"51\": 1}, \"37\": {\"37\": 32, \"10\": 2, \"24\": 1, \"13\": 1}, \"13\": {\"13\": 41, \"41\": 3, \"33\": 2, \"49\": 1, \"32\": 1, \"17\": 3, \"1\": 1, \"48\": 3, \"8\": 12, \"23\": 2, \"51\": 11, \"24\": 3, \"27\": 9, \"57\": 7, \"20\": 1, \"53\": 2, \"54\": 1, \"47\": 2, \"36\": 1, \"39\": 1, \"38\": 1, \"22\": 1, \"30\": 2, \"56\": 1, \"55\": 2, \"52\": 1, \"29\": 1}, \"14\": {\"8\": 3, \"1\": 2, \"47\": 1, \"33\": 2, \"14\": 6, \"2\": 2, \"13\": 2, \"48\": 3, \"4\": 1, \"56\": 1, \"41\": 1}, \"34\": {\"19\": 1, \"34\": 16, \"42\": 2, \"24\": 2, \"28\": 1, \"43\": 1, \"49\": 2, \"53\": 1, \"23\": 1, \"15\": 1}, \"57\": {\"52\": 1, \"0\": 1, \"1\": 5, \"57\": 46, \"4\": 13, \"2\": 1, \"47\": 9, \"30\": 2, \"29\": 7, \"8\": 9, \"9\": 9, \"56\": 5, \"22\": 5, \"40\": 3, \"20\": 1, \"27\": 14, \"48\": 5, \"38\": 1, \"14\": 1, \"13\": 1, \"51\": 1}, \"11\": {\"11\": 66, \"15\": 14, \"25\": 9, \"10\": 9, \"28\": 2, \"16\": 18, \"23\": 11, \"43\": 3, \"37\": 1, \"26\": 1, \"24\": 2, \"53\": 1, \"19\": 1}, \"39\": {\"39\": 25, \"47\": 1, \"2\": 1, \"14\": 1}, \"12\": {\"50\": 8, \"12\": 62, \"3\": 8, \"5\": 5, \"45\": 4, \"6\": 2, \"46\": 3}, \"28\": {\"28\": 24, \"34\": 1, \"54\": 1, \"10\": 2}, \"29\": {\"47\": 4, \"14\": 1, \"48\": 3, \"8\": 8, \"30\": 2, \"20\": 8, \"29\": 42, \"38\": 3, \"54\": 1, \"9\": 7, \"50\": 2, \"44\": 2, \"57\": 8, \"5\": 2, \"4\": 4, \"56\": 3, \"27\": 9, \"1\": 5, \"40\": 2, \"36\": 5, \"13\": 1, \"2\": 2, \"45\": 2, \"22\": 2}, \"43\": {\"43\": 120, \"24\": 5, \"54\": 6, \"17\": 1, \"15\": 1, \"23\": 2, \"42\": 1, \"34\": 1, \"55\": 3}}, \"C_5\": {\"12\": {\"1\": 3, \"12\": 45, \"56\": 1, \"44\": 3, \"3\": 8, \"6\": 4, \"40\": 3, \"50\": 5, \"46\": 6, \"4\": 5, \"0\": 3, \"45\": 4, \"22\": 3, \"9\": 1, \"57\": 1, \"52\": 1}, \"8\": {\"8\": 116, \"39\": 1, \"13\": 7, \"57\": 5, \"36\": 2, \"29\": 2, \"56\": 1, \"55\": 1, \"27\": 1, \"14\": 1, \"48\": 3, \"43\": 1, \"20\": 1}, \"29\": {\"48\": 11, \"1\": 13, \"29\": 46, \"47\": 10, \"8\": 4, \"36\": 6, \"30\": 1, \"21\": 4, \"5\": 2, \"32\": 2, \"22\": 1, \"0\": 3, \"20\": 9, \"57\": 4, \"13\": 4, \"27\": 4, \"52\": 1, \"44\": 1, \"56\": 1, \"14\": 2, \"40\": 2, \"43\": 1}, \"57\": {\"57\": 64, \"44\": 1, \"47\": 5, \"48\": 12, \"56\": 6, \"52\": 9, \"30\": 7, \"9\": 2, \"0\": 1, \"20\": 7, \"27\": 1, \"46\": 3, \"13\": 2, \"1\": 3, \"4\": 1, \"29\": 1, \"8\": 1}, \"38\": {\"21\": 1, \"55\": 1, \"38\": 18, \"37\": 2, \"41\": 3, \"14\": 2, \"31\": 2, \"17\": 1, \"51\": 1, \"23\": 1}, \"23\": {\"23\": 65, \"19\": 6, \"24\": 11, \"31\": 6, \"43\": 4, \"54\": 6, \"53\": 14, \"55\": 1, \"37\": 1, \"34\": 1, \"10\": 1, \"15\": 1, \"17\": 6, \"13\": 1}, \"56\": {\"1\": 14, \"56\": 45, \"52\": 9, \"46\": 17, \"47\": 8, \"20\": 2, \"30\": 8, \"0\": 16, \"9\": 4, \"5\": 3, \"44\": 2, \"57\": 6, \"50\": 1, \"6\": 1, \"48\": 2}, \"49\": {\"49\": 36}, \"4\": {\"1\": 5, \"56\": 2, \"3\": 4, \"5\": 11, \"4\": 43, \"12\": 1, \"50\": 4, \"52\": 1, \"44\": 9, \"22\": 1, \"30\": 5, \"45\": 1, \"9\": 3, \"0\": 2, \"57\": 3, \"40\": 4, \"46\": 1}, \"48\": {\"48\": 42, \"57\": 13, \"47\": 7, \"30\": 9, \"0\": 6, \"8\": 3, \"46\": 4, \"52\": 4, \"29\": 6, \"27\": 2, \"1\": 15, \"4\": 1, \"56\": 9, \"5\": 2, \"20\": 10, \"9\": 2, \"21\": 1}, \"21\": {\"21\": 106, \"30\": 4, \"8\": 1, \"13\": 4, \"0\": 1, \"46\": 5, \"12\": 1, \"47\": 2, \"20\": 13, \"56\": 1, \"51\": 2, \"57\": 2, \"48\": 1, \"1\": 1}, \"30\": {\"1\": 12, \"57\": 1, \"30\": 55, \"20\": 2, \"0\": 9, \"9\": 14, \"47\": 2, \"48\": 6, \"40\": 2, \"56\": 8, \"46\": 6, \"5\": 2, \"44\": 2, \"45\": 2, \"22\": 2, \"50\": 2, \"4\": 1}, \"1\": {\"1\": 112, \"48\": 6, \"56\": 9, \"20\": 1, \"30\": 6, \"46\": 1, \"9\": 4, \"44\": 2, \"47\": 5, \"40\": 1, \"52\": 1}, \"34\": {\"34\": 10, \"55\": 1, \"53\": 1, \"36\": 4, \"35\": 3, \"54\": 2, \"17\": 1, \"31\": 1, \"32\": 1, \"19\": 1, \"24\": 2, \"47\": 1, \"23\": 3, \"39\": 1, \"38\": 3, \"48\": 1}, \"35\": {\"49\": 4, \"35\": 27, \"2\": 1, \"29\": 1, \"43\": 3}, \"55\": {\"49\": 3, \"34\": 1, \"55\": 72, \"53\": 2, \"36\": 15, \"24\": 1, \"35\": 3, \"33\": 1, \"23\": 8, \"54\": 3, \"17\": 6, \"27\": 9, \"8\": 7, \"51\": 5, \"43\": 6, \"19\": 2, \"37\": 1, \"32\": 1, \"38\": 1, \"47\": 2, \"29\": 3}, \"5\": {\"5\": 63, \"3\": 3, \"46\": 6, \"4\": 6, \"12\": 1, \"50\": 3, \"9\": 4, \"45\": 2, \"0\": 1, \"40\": 3, \"30\": 1, \"6\": 3, \"44\": 22, \"20\": 1, \"52\": 1, \"57\": 1, \"22\": 1}, \"52\": {\"52\": 94, \"56\": 8, \"30\": 3, \"46\": 2, \"57\": 6, \"20\": 9, \"0\": 4}, \"6\": {\"6\": 68, \"3\": 7, \"50\": 20, \"45\": 18, \"12\": 6, \"30\": 1, \"40\": 2, \"9\": 2, \"46\": 2, \"44\": 1, \"0\": 1}, \"36\": {\"35\": 1, \"36\": 81, \"32\": 3, \"29\": 2, \"54\": 2, \"55\": 1, \"47\": 2}, \"41\": {\"41\": 14, \"2\": 1, \"38\": 2, \"39\": 1, \"35\": 3, \"14\": 1, \"43\": 1, \"13\": 1, \"56\": 1, \"29\": 1, \"27\": 1, \"36\": 1}, \"3\": {\"3\": 36, \"56\": 2, \"46\": 7, \"50\": 7, \"57\": 1, \"0\": 9, \"12\": 8, \"45\": 1, \"9\": 6, \"52\": 1, \"6\": 7, \"30\": 2, \"1\": 1, \"20\": 2, \"40\": 4, \"22\": 2, \"44\": 2, \"21\": 1, \"4\": 1}, \"28\": {\"28\": 23, \"42\": 2, \"53\": 1, \"34\": 1, \"11\": 1, \"10\": 1, \"24\": 2, \"15\": 1}, \"18\": {\"18\": 56, \"11\": 4, \"16\": 1, \"25\": 2, \"15\": 1}, \"25\": {\"25\": 100, \"26\": 1, \"53\": 5, \"18\": 7, \"16\": 6, \"11\": 11, \"23\": 1, \"15\": 5}, \"47\": {\"47\": 96, \"1\": 2, \"30\": 1, \"56\": 1}, \"13\": {\"47\": 6, \"13\": 47, \"32\": 3, \"8\": 15, \"56\": 4, \"52\": 1, \"43\": 8, \"51\": 16, \"41\": 1, \"2\": 1, \"36\": 12, \"17\": 4, \"14\": 4, \"48\": 9, \"21\": 7, \"54\": 1, \"1\": 2, \"57\": 2, \"29\": 2, \"20\": 6, \"27\": 3, \"44\": 1, \"39\": 1, \"40\": 1, \"38\": 1, \"55\": 2}, \"11\": {\"11\": 79, \"15\": 21, \"53\": 3, \"42\": 1, \"10\": 2, \"25\": 4, \"16\": 26, \"17\": 1, \"19\": 5, \"18\": 2}, \"53\": {\"53\": 81, \"33\": 1, \"26\": 1, \"34\": 1, \"54\": 7, \"43\": 5, \"14\": 1, \"23\": 9, \"15\": 5, \"31\": 2, \"19\": 7, \"42\": 2, \"24\": 4, \"17\": 2, \"49\": 2, \"16\": 5, \"27\": 1, \"55\": 3, \"37\": 1, \"32\": 1, \"13\": 1, \"8\": 1, \"11\": 1}, \"33\": {\"33\": 14, \"17\": 2, \"32\": 1, \"23\": 2, \"51\": 1, \"19\": 1, \"55\": 1, \"2\": 1, \"49\": 1, \"34\": 4, \"31\": 1, \"53\": 1, \"38\": 1, \"54\": 1}, \"46\": {\"46\": 109, \"56\": 7, \"0\": 10, \"30\": 8, \"22\": 2, \"52\": 1, \"40\": 1, \"5\": 2, \"1\": 1, \"6\": 1, \"3\": 1, \"9\": 2, \"4\": 1, \"57\": 2}, \"50\": {\"50\": 91, \"6\": 15, \"22\": 1, \"12\": 4, \"3\": 2, \"44\": 2, \"45\": 24, \"0\": 1, \"30\": 1, \"40\": 1, \"46\": 2, \"9\": 1, \"5\": 3}, \"10\": {\"15\": 1, \"11\": 2, \"53\": 4, \"10\": 33, \"16\": 3, \"19\": 4, \"42\": 4, \"24\": 9, \"33\": 1, \"34\": 2, \"54\": 1, \"23\": 2, \"17\": 1, \"55\": 1}, \"15\": {\"15\": 92, \"42\": 3, \"11\": 19, \"23\": 5, \"10\": 1, \"16\": 9, \"54\": 1, \"53\": 3, \"24\": 3, \"19\": 1, \"17\": 1}, \"44\": {\"44\": 115, \"5\": 11, \"9\": 1, \"12\": 2, \"40\": 2, \"30\": 2, \"50\": 3, \"45\": 1, \"4\": 2, \"6\": 1}, \"2\": {\"2\": 27, \"8\": 1}, \"7\": {\"7\": 19, \"13\": 4, \"20\": 3, \"27\": 1, \"39\": 1, \"14\": 2, \"57\": 1, \"36\": 1}, \"43\": {\"43\": 71, \"39\": 1, \"36\": 5, \"54\": 9, \"7\": 2, \"31\": 1, \"49\": 1, \"17\": 4, \"55\": 8, \"48\": 2, \"51\": 9, \"8\": 8, \"24\": 1, \"27\": 4, \"13\": 5, \"41\": 5, \"56\": 1, \"38\": 1}, \"32\": {\"39\": 4, \"32\": 15, \"36\": 6, \"41\": 1, \"43\": 1, \"27\": 1, \"35\": 2, \"48\": 1, \"55\": 1}, \"0\": {\"0\": 109, \"46\": 6, \"9\": 3, \"30\": 3, \"56\": 2, \"3\": 1}, \"39\": {\"39\": 18, \"36\": 1, \"43\": 1}, \"26\": {\"53\": 1, \"26\": 13, \"17\": 1, \"25\": 1, \"23\": 3, \"15\": 1, \"19\": 1, \"16\": 1, \"37\": 1, \"34\": 1}, \"27\": {\"7\": 2, \"29\": 11, \"43\": 7, \"27\": 32, \"47\": 9, \"13\": 10, \"56\": 6, \"57\": 5, \"48\": 6, \"21\": 2, \"55\": 3, \"8\": 4, \"9\": 2, \"41\": 1, \"14\": 1, \"30\": 2, \"36\": 2, \"38\": 1, \"20\": 1, \"54\": 1, \"1\": 3, \"51\": 1}, \"54\": {\"36\": 2, \"54\": 51, \"37\": 1, \"2\": 1, \"31\": 2, \"41\": 2, \"38\": 1, \"34\": 2, \"35\": 2, \"49\": 11, \"8\": 3, \"43\": 7, \"23\": 3, \"55\": 6, \"24\": 2, \"17\": 9, \"10\": 1, \"27\": 1, \"53\": 1, \"29\": 1, \"51\": 3}, \"17\": {\"17\": 80, \"38\": 1, \"31\": 4, \"54\": 7, \"43\": 5, \"55\": 2, \"23\": 6, \"24\": 1, \"51\": 3, \"27\": 2, \"19\": 2, \"41\": 1, \"2\": 1, \"14\": 1}, \"14\": {\"39\": 2, \"47\": 1, \"56\": 1, \"14\": 14, \"7\": 2, \"43\": 1, \"21\": 1, \"36\": 4, \"13\": 2, \"32\": 1, \"1\": 1, \"51\": 1, \"27\": 1, \"38\": 4, \"52\": 1, \"30\": 1, \"41\": 1, \"48\": 2, \"40\": 1, \"9\": 1, \"17\": 1}, \"16\": {\"28\": 1, \"16\": 84, \"15\": 8, \"10\": 6, \"42\": 3, \"18\": 9, \"11\": 14, \"19\": 2, \"17\": 1, \"25\": 11, \"23\": 2, \"43\": 1, \"24\": 2, \"55\": 1, \"53\": 3}, \"9\": {\"56\": 4, \"9\": 35, \"46\": 5, \"20\": 8, \"40\": 4, \"4\": 6, \"52\": 12, \"22\": 2, \"21\": 6, \"44\": 9, \"12\": 3, \"0\": 6, \"5\": 3, \"30\": 8, \"6\": 2, \"1\": 17, \"3\": 5, \"57\": 4, \"48\": 1, \"13\": 4, \"14\": 1, \"47\": 2, \"50\": 1}, \"19\": {\"33\": 3, \"19\": 61, \"37\": 1, \"41\": 1, \"14\": 2, \"32\": 3, \"17\": 4, \"23\": 15, \"26\": 1, \"24\": 3, \"53\": 10, \"49\": 2, \"55\": 12, \"36\": 2, \"16\": 7, \"11\": 5, \"15\": 4, \"43\": 1, \"13\": 1, \"25\": 2, \"54\": 2, \"31\": 2, \"40\": 1, \"42\": 1, \"27\": 2, \"10\": 2, \"8\": 2}, \"20\": {\"20\": 79, \"9\": 4, \"21\": 15, \"48\": 5, \"8\": 1, \"0\": 2, \"46\": 3, \"30\": 2, \"52\": 8, \"57\": 8, \"3\": 1, \"44\": 1, \"1\": 1, \"13\": 5, \"14\": 2, \"56\": 1}, \"37\": {\"53\": 2, \"37\": 20, \"43\": 1, \"17\": 1}, \"24\": {\"24\": 35, \"53\": 3, \"43\": 5, \"34\": 1, \"54\": 6, \"31\": 3, \"23\": 6, \"42\": 2, \"19\": 5, \"55\": 4, \"17\": 2, \"37\": 2, \"10\": 5, \"15\": 1}, \"40\": {\"45\": 5, \"40\": 33, \"57\": 4, \"0\": 6, \"22\": 2, \"6\": 2, \"9\": 5, \"20\": 3, \"52\": 8, \"46\": 4, \"5\": 9, \"56\": 3, \"21\": 4, \"4\": 7, \"30\": 4, \"44\": 13, \"1\": 5, \"27\": 1, \"29\": 3, \"50\": 1}, \"45\": {\"45\": 99, \"6\": 8, \"50\": 12, \"46\": 1, \"44\": 2, \"22\": 1, \"3\": 1}, \"22\": {\"4\": 2, \"22\": 12, \"47\": 2, \"9\": 1, \"44\": 5, \"48\": 1, \"46\": 1, \"5\": 2, \"3\": 2}, \"42\": {\"42\": 32, \"35\": 1, \"31\": 4, \"43\": 1, \"24\": 1, \"53\": 1}, \"51\": {\"51\": 80, \"31\": 1, \"55\": 2, \"36\": 3, \"43\": 4, \"17\": 10, \"13\": 3, \"53\": 2, \"1\": 1, \"23\": 2, \"8\": 3, \"38\": 4, \"54\": 2, \"21\": 1}, \"31\": {\"31\": 29, \"10\": 1, \"24\": 3, \"42\": 2, \"23\": 1}}, \"C_1\": {\"27\": {\"27\": 111, \"52\": 6, \"30\": 4, \"48\": 1, \"47\": 8, \"57\": 3, \"0\": 1, \"13\": 1, \"22\": 2, \"8\": 2, \"20\": 1, \"21\": 1, \"29\": 1}, \"2\": {\"2\": 34, \"52\": 1, \"30\": 1}, \"33\": {\"33\": 31, \"54\": 1}, \"45\": {\"45\": 84, \"56\": 12, \"3\": 5, \"5\": 8, \"46\": 10, \"20\": 5, \"6\": 13, \"44\": 3, \"50\": 6, \"4\": 2, \"0\": 5, \"12\": 3}, \"38\": {\"38\": 14, \"32\": 1, \"55\": 4, \"1\": 1, \"33\": 1, \"8\": 1, \"2\": 1, \"43\": 1}, \"4\": {\"56\": 5, \"4\": 86, \"46\": 2, \"40\": 9, \"0\": 2, \"44\": 8, \"57\": 1, \"30\": 2, \"29\": 2, \"12\": 1, \"5\": 2, \"13\": 3, \"45\": 3, \"47\": 2, \"3\": 1, \"20\": 2, \"21\": 1}, \"31\": {\"31\": 21, \"33\": 1, \"37\": 1, \"17\": 3, \"42\": 1, \"24\": 1}, \"55\": {\"55\": 83, \"38\": 2, \"31\": 2, \"43\": 20, \"39\": 1, \"30\": 2, \"17\": 1, \"24\": 5, \"1\": 3, \"8\": 3, \"51\": 8, \"13\": 2, \"9\": 4, \"32\": 1, \"49\": 1, \"57\": 1, \"48\": 1}, \"32\": {\"32\": 23, \"9\": 2, \"55\": 1, \"51\": 1, \"36\": 2, \"49\": 1, \"48\": 1, \"1\": 1}, \"57\": {\"14\": 2, \"57\": 47, \"27\": 10, \"21\": 5, \"30\": 5, \"46\": 1, \"36\": 2, \"50\": 2, \"44\": 1, \"48\": 14, \"32\": 2, \"47\": 11, \"4\": 4, \"8\": 5, \"13\": 8, \"3\": 1, \"45\": 1, \"12\": 7, \"1\": 2, \"40\": 6, \"56\": 2, \"22\": 2}, \"14\": {\"14\": 9, \"13\": 1, \"12\": 3, \"9\": 1, \"52\": 3, \"8\": 3, \"50\": 1, \"48\": 1, \"2\": 1, \"47\": 1}, \"16\": {\"16\": 72, \"11\": 11, \"15\": 12, \"28\": 1, \"53\": 6, \"35\": 1, \"19\": 4, \"25\": 19, \"10\": 4, \"54\": 3, \"26\": 1, \"23\": 3, \"18\": 1, \"43\": 1, \"55\": 1}, \"34\": {\"34\": 23, \"23\": 1}, \"56\": {\"56\": 41, \"45\": 26, \"6\": 7, \"5\": 6, \"50\": 5, \"44\": 11, \"20\": 3, \"46\": 10, \"0\": 11, \"4\": 2, \"22\": 1, \"3\": 1, \"52\": 1, \"40\": 1}, \"24\": {\"33\": 5, \"24\": 45, \"17\": 5, \"37\": 1, \"31\": 2, \"55\": 5, \"23\": 7, \"42\": 1, \"54\": 19, \"49\": 4, \"35\": 1, \"53\": 3, \"1\": 1, \"15\": 1, \"51\": 3, \"19\": 1, \"8\": 1, \"10\": 1, \"48\": 2}, \"30\": {\"30\": 64, \"14\": 1, \"21\": 7, \"52\": 10, \"0\": 6, \"57\": 3, \"27\": 3, \"2\": 1, \"22\": 5, \"47\": 3, \"48\": 7, \"13\": 1, \"50\": 1}, \"17\": {\"17\": 42, \"24\": 3, \"41\": 2, \"35\": 2, \"37\": 2, \"31\": 3, \"32\": 1, \"54\": 1, \"23\": 1, \"43\": 2, \"9\": 1, \"42\": 1, \"51\": 1, \"38\": 1, \"49\": 1}, \"13\": {\"20\": 3, \"14\": 1, \"13\": 46, \"52\": 11, \"50\": 4, \"21\": 7, \"27\": 8, \"57\": 2, \"9\": 10, \"3\": 2, \"36\": 4, \"44\": 4, \"0\": 7, \"12\": 5, \"45\": 1, \"51\": 2, \"48\": 7, \"22\": 5, \"2\": 1, \"40\": 2, \"6\": 1, \"47\": 1, \"55\": 1, \"46\": 1, \"8\": 1, \"4\": 1}, \"39\": {\"39\": 24, \"55\": 1, \"2\": 1, \"27\": 2}, \"50\": {\"50\": 127, \"6\": 11, \"46\": 3, \"45\": 2, \"56\": 3}, \"20\": {\"14\": 1, \"20\": 54, \"4\": 2, \"12\": 20, \"21\": 2, \"6\": 5, \"44\": 2, \"3\": 8, \"40\": 2, \"45\": 7, \"50\": 9, \"46\": 6, \"57\": 2, \"13\": 10, \"22\": 3, \"56\": 3, \"0\": 3, \"27\": 1}, \"41\": {\"41\": 19, \"9\": 1, \"37\": 1, \"51\": 1, \"32\": 2}, \"53\": {\"53\": 87, \"43\": 2, \"11\": 4, \"26\": 1, \"17\": 1, \"42\": 1, \"23\": 7, \"54\": 3, \"15\": 4, \"16\": 5, \"25\": 3, \"24\": 1, \"19\": 5, \"33\": 1, \"9\": 1}, \"48\": {\"8\": 24, \"48\": 87, \"27\": 3, \"47\": 5, \"22\": 3, \"57\": 4, \"1\": 7, \"52\": 3, \"2\": 1, \"14\": 1, \"12\": 1, \"13\": 1, \"30\": 2}, \"36\": {\"36\": 40, \"47\": 1, \"30\": 2, \"32\": 4, \"51\": 1, \"43\": 1, \"48\": 7, \"8\": 3, \"21\": 1, \"31\": 2, \"55\": 2}, \"8\": {\"48\": 16, \"8\": 89, \"21\": 6, \"30\": 3, \"14\": 3, \"45\": 1, \"36\": 2, \"27\": 9, \"52\": 2, \"1\": 4, \"22\": 1, \"13\": 2, \"47\": 1, \"57\": 1}, \"15\": {\"15\": 107, \"11\": 8, \"16\": 6, \"28\": 2, \"23\": 1, \"19\": 2, \"10\": 6}, \"40\": {\"27\": 3, \"44\": 7, \"40\": 50, \"12\": 4, \"56\": 5, \"48\": 4, \"50\": 4, \"57\": 10, \"47\": 3, \"5\": 6, \"29\": 9, \"4\": 10, \"46\": 7, \"22\": 3, \"13\": 10, \"3\": 4, \"9\": 5, \"1\": 3, \"21\": 3, \"0\": 1, \"52\": 1, \"6\": 1, \"20\": 1, \"30\": 2}, \"37\": {\"37\": 27, \"51\": 2, \"31\": 1, \"24\": 1, \"41\": 1}, \"21\": {\"21\": 103, \"52\": 4, \"22\": 4, \"30\": 3, \"13\": 1, \"14\": 1, \"48\": 1, \"0\": 2, \"47\": 1}, \"35\": {\"35\": 17, \"39\": 2, \"9\": 1, \"34\": 1, \"54\": 3, \"16\": 1, \"42\": 2, \"55\": 1, \"19\": 3, \"43\": 3, \"37\": 1, \"23\": 1}, \"49\": {\"49\": 26, \"38\": 1, \"43\": 3, \"51\": 2}, \"26\": {\"26\": 21, \"15\": 1, \"10\": 2}, \"28\": {\"28\": 13, \"34\": 1, \"10\": 1, \"11\": 3, \"23\": 2, \"25\": 2, \"42\": 2, \"16\": 1, \"19\": 1, \"26\": 2}, \"12\": {\"12\": 66, \"8\": 1, \"3\": 5, \"50\": 5, \"30\": 2, \"22\": 5, \"6\": 1, \"20\": 7, \"0\": 5, \"57\": 2, \"40\": 5, \"52\": 3, \"13\": 4, \"21\": 3, \"14\": 1, \"56\": 1}, \"5\": {\"5\": 149, \"6\": 1, \"44\": 1, \"46\": 1}, \"29\": {\"47\": 8, \"4\": 14, \"1\": 6, \"29\": 61, \"48\": 10, \"27\": 10, \"30\": 2, \"9\": 5, \"36\": 1, \"57\": 2, \"21\": 1, \"8\": 5, \"40\": 7, \"3\": 3, \"46\": 2, \"44\": 1, \"56\": 1, \"12\": 1}, \"47\": {\"47\": 66, \"36\": 3, \"30\": 5, \"27\": 15, \"32\": 1, \"57\": 7, \"22\": 5, \"3\": 1, \"1\": 4, \"4\": 3, \"29\": 7, \"52\": 2, \"21\": 4, \"48\": 5, \"8\": 6, \"13\": 2, \"2\": 1, \"0\": 1, \"56\": 2}, \"10\": {\"10\": 49, \"28\": 4, \"11\": 4, \"53\": 3, \"23\": 6, \"24\": 5, \"35\": 2, \"15\": 10, \"19\": 4, \"54\": 4, \"16\": 3, \"34\": 1, \"25\": 1}, \"18\": {\"18\": 62, \"11\": 2, \"26\": 1, \"53\": 1, \"15\": 3, \"46\": 1, \"25\": 2}, \"9\": {\"9\": 93, \"38\": 1, \"32\": 4, \"55\": 5, \"17\": 1, \"43\": 5, \"51\": 3, \"47\": 2, \"21\": 1, \"1\": 1, \"8\": 2, \"49\": 1, \"29\": 1, \"48\": 4, \"30\": 2}, \"3\": {\"14\": 2, \"3\": 40, \"45\": 3, \"46\": 9, \"6\": 7, \"36\": 1, \"13\": 10, \"20\": 6, \"22\": 3, \"50\": 9, \"12\": 8, \"9\": 2, \"21\": 4, \"52\": 1, \"47\": 1, \"0\": 4, \"4\": 10, \"56\": 2, \"57\": 1, \"5\": 3, \"1\": 1, \"44\": 7, \"40\": 4, \"48\": 2}, \"52\": {\"52\": 75, \"2\": 1, \"22\": 17, \"14\": 2, \"30\": 8, \"27\": 5, \"6\": 1, \"0\": 12, \"20\": 1, \"50\": 1, \"21\": 7, \"13\": 1, \"48\": 1}, \"25\": {\"11\": 17, \"25\": 81, \"10\": 1, \"18\": 6, \"28\": 2, \"15\": 7, \"53\": 5, \"19\": 1, \"16\": 16}, \"19\": {\"7\": 2, \"15\": 6, \"53\": 13, \"19\": 72, \"23\": 6, \"37\": 1, \"54\": 10, \"43\": 7, \"24\": 5, \"10\": 5, \"17\": 5, \"35\": 2, \"16\": 3, \"55\": 6, \"29\": 2, \"48\": 2, \"28\": 1, \"39\": 1, \"26\": 1, \"25\": 1, \"49\": 1, \"1\": 2, \"11\": 1, \"8\": 1}, \"11\": {\"11\": 74, \"25\": 8, \"16\": 17, \"10\": 9, \"35\": 1, \"19\": 3, \"18\": 2, \"54\": 2, \"15\": 11, \"23\": 7, \"53\": 2}, \"7\": {\"7\": 28}, \"23\": {\"23\": 131, \"24\": 4, \"19\": 1}, \"44\": {\"44\": 96, \"46\": 12, \"4\": 2, \"6\": 5, \"5\": 3, \"56\": 5, \"45\": 2, \"3\": 4, \"50\": 2, \"0\": 1}, \"42\": {\"54\": 5, \"1\": 1, \"32\": 2, \"15\": 1, \"31\": 1, \"2\": 1, \"42\": 13, \"23\": 2, \"49\": 3, \"19\": 1, \"35\": 1, \"17\": 3, \"33\": 2, \"38\": 1, \"51\": 1, \"7\": 1, \"37\": 1}, \"54\": {\"17\": 1, \"54\": 68, \"42\": 3, \"24\": 14, \"55\": 3, \"43\": 2, \"23\": 7, \"39\": 2, \"35\": 1, \"31\": 1, \"51\": 2}, \"1\": {\"44\": 1, \"9\": 7, \"43\": 2, \"1\": 29, \"47\": 7, \"57\": 5, \"8\": 9, \"7\": 1, \"48\": 9, \"36\": 3, \"29\": 4, \"40\": 1, \"27\": 11, \"4\": 1, \"13\": 3, \"22\": 3, \"2\": 2, \"21\": 2}, \"46\": {\"46\": 70, \"44\": 18, \"4\": 1, \"50\": 13, \"45\": 9, \"0\": 2, \"5\": 8, \"6\": 4, \"3\": 1, \"56\": 2}, \"6\": {\"46\": 7, \"6\": 53, \"3\": 1, \"56\": 7, \"50\": 9, \"45\": 10, \"5\": 3, \"44\": 3, \"20\": 1, \"0\": 2}, \"43\": {\"43\": 139, \"9\": 1, \"55\": 4}, \"51\": {\"51\": 89, \"55\": 9, \"42\": 2, \"21\": 1, \"17\": 5, \"32\": 1, \"9\": 11, \"43\": 7, \"15\": 1, \"36\": 2, \"13\": 1, \"1\": 2, \"24\": 2, \"48\": 1, \"27\": 1, \"7\": 1, \"49\": 1, \"33\": 1, \"2\": 1, \"8\": 1, \"29\": 1, \"53\": 1}, \"22\": {\"12\": 12, \"14\": 1, \"50\": 3, \"22\": 57, \"30\": 6, \"0\": 4, \"3\": 3, \"20\": 5, \"6\": 3, \"27\": 6, \"21\": 9, \"52\": 17, \"57\": 4, \"13\": 4, \"8\": 2}, \"0\": {\"52\": 5, \"0\": 115, \"6\": 1, \"3\": 1, \"50\": 3, \"20\": 1, \"22\": 2}}, \"C_4\": {\"32\": {\"32\": 21, \"35\": 1, \"42\": 2}, \"2\": {\"2\": 24, \"52\": 2, \"4\": 1, \"36\": 1, \"48\": 1, \"39\": 3, \"13\": 1, \"57\": 1, \"27\": 1, \"7\": 1}, \"41\": {\"32\": 1, \"49\": 4, \"41\": 25, \"54\": 1, \"13\": 1, \"24\": 1, \"27\": 1, \"17\": 1, \"42\": 1}, \"11\": {\"11\": 55, \"41\": 1, \"16\": 10, \"35\": 1, \"15\": 21, \"24\": 2, \"34\": 1, \"10\": 3, \"53\": 1, \"23\": 5, \"28\": 1, \"54\": 1}, \"57\": {\"46\": 4, \"57\": 36, \"47\": 11, \"4\": 5, \"29\": 9, \"56\": 1, \"9\": 3, \"8\": 5, \"13\": 3, \"48\": 5, \"27\": 8, \"40\": 1, \"44\": 1, \"14\": 1, \"21\": 2, \"22\": 1, \"20\": 3, \"52\": 1}, \"6\": {\"6\": 94, \"3\": 10, \"5\": 1, \"45\": 2, \"50\": 3, \"12\": 1, \"20\": 1}, \"23\": {\"23\": 111, \"41\": 3, \"28\": 1, \"32\": 1, \"42\": 1, \"24\": 4, \"33\": 1, \"19\": 4, \"43\": 3, \"17\": 2, \"53\": 2, \"15\": 1, \"10\": 2}, \"52\": {\"20\": 4, \"52\": 91, \"1\": 1, \"0\": 3, \"9\": 1, \"8\": 5, \"21\": 2, \"48\": 4, \"56\": 2, \"47\": 2, \"46\": 1}, \"38\": {\"38\": 28, \"41\": 1, \"7\": 3, \"36\": 1, \"14\": 1, \"55\": 1, \"27\": 1, \"13\": 1, \"43\": 2, \"24\": 1}, \"50\": {\"50\": 73, \"6\": 17, \"12\": 6, \"5\": 10, \"45\": 4, \"3\": 16, \"22\": 1, \"46\": 4, \"30\": 1}, \"55\": {\"55\": 92, \"49\": 2, \"38\": 4, \"43\": 9, \"8\": 2, \"41\": 1, \"2\": 1, \"42\": 1, \"36\": 10, \"23\": 4, \"27\": 5, \"54\": 5, \"17\": 4, \"29\": 3, \"39\": 1, \"35\": 4, \"24\": 1, \"51\": 2, \"13\": 1}, \"46\": {\"50\": 4, \"46\": 89, \"3\": 8, \"12\": 13, \"30\": 1, \"22\": 19, \"0\": 7, \"5\": 4, \"56\": 7, \"45\": 1, \"48\": 1}, \"37\": {\"32\": 2, \"37\": 18, \"35\": 1, \"31\": 2, \"36\": 1}, \"20\": {\"50\": 1, \"46\": 3, \"20\": 68, \"8\": 4, \"52\": 11, \"48\": 9, \"21\": 4, \"57\": 3, \"47\": 5, \"4\": 2, \"9\": 3, \"56\": 3, \"0\": 1, \"29\": 1}, \"49\": {\"32\": 1, \"38\": 1, \"49\": 6, \"55\": 4, \"7\": 1, \"23\": 1, \"54\": 1, \"41\": 3, \"43\": 2}, \"45\": {\"46\": 7, \"6\": 12, \"3\": 9, \"45\": 28, \"44\": 4, \"0\": 4, \"5\": 3, \"50\": 14, \"22\": 1, \"9\": 2, \"56\": 4, \"12\": 3, \"40\": 2, \"48\": 3}, \"54\": {\"55\": 16, \"7\": 2, \"54\": 54, \"23\": 3, \"43\": 14, \"33\": 2, \"36\": 7, \"51\": 2, \"49\": 1, \"35\": 1, \"41\": 1, \"38\": 3, \"17\": 1, \"13\": 1}, \"3\": {\"3\": 77, \"50\": 10, \"22\": 9, \"57\": 1, \"40\": 1, \"6\": 17, \"56\": 2, \"45\": 1, \"5\": 5, \"52\": 1}, \"13\": {\"13\": 59, \"38\": 5, \"29\": 4, \"9\": 4, \"27\": 13, \"47\": 13, \"20\": 3, \"55\": 2, \"1\": 1, \"51\": 15, \"57\": 11, \"8\": 3, \"52\": 1, \"48\": 7, \"4\": 1, \"56\": 3, \"14\": 1, \"0\": 1, \"21\": 2, \"43\": 2, \"36\": 1}, \"18\": {\"18\": 96, \"16\": 4, \"15\": 2, \"11\": 2, \"25\": 3, \"10\": 1}, \"21\": {\"21\": 98, \"52\": 3, \"30\": 1, \"5\": 2, \"20\": 3, \"0\": 2, \"47\": 1, \"13\": 2, \"57\": 1, \"22\": 1, \"56\": 1, \"40\": 4, \"9\": 4, \"6\": 1, \"12\": 1, \"46\": 1}, \"43\": {\"49\": 1, \"43\": 130, \"54\": 8, \"24\": 1, \"55\": 2, \"36\": 1, \"38\": 1}, \"47\": {\"47\": 109, \"1\": 1, \"48\": 4, \"56\": 4, \"57\": 2}, \"4\": {\"52\": 3, \"21\": 4, \"22\": 1, \"29\": 9, \"9\": 9, \"4\": 45, \"1\": 7, \"47\": 10, \"51\": 1, \"48\": 15, \"45\": 1, \"40\": 3, \"13\": 1, \"44\": 12, \"57\": 2, \"27\": 4, \"8\": 1, \"56\": 2, \"0\": 1, \"5\": 1}, \"12\": {\"12\": 59, \"30\": 2, \"46\": 14, \"3\": 6, \"5\": 4, \"0\": 2, \"22\": 3, \"56\": 1, \"45\": 1}, \"9\": {\"7\": 1, \"9\": 38, \"4\": 9, \"48\": 9, \"13\": 15, \"27\": 5, \"47\": 9, \"51\": 2, \"1\": 1, \"40\": 6, \"21\": 4, \"0\": 1, \"8\": 5, \"52\": 5, \"20\": 1, \"57\": 3, \"29\": 2, \"56\": 9, \"22\": 1, \"45\": 1, \"43\": 1}, \"7\": {\"7\": 9, \"13\": 1, \"39\": 1, \"54\": 1, \"27\": 2, \"2\": 1, \"33\": 2, \"42\": 1, \"38\": 1, \"55\": 4, \"36\": 1}, \"56\": {\"56\": 39, \"9\": 7, \"52\": 6, \"1\": 1, \"48\": 13, \"0\": 7, \"4\": 3, \"40\": 3, \"20\": 12, \"29\": 2, \"46\": 8, \"50\": 1, \"30\": 1, \"12\": 2, \"22\": 3, \"47\": 2, \"45\": 1, \"21\": 1}, \"28\": {\"28\": 17, \"11\": 4, \"15\": 3, \"34\": 1, \"10\": 1, \"16\": 3, \"41\": 1, \"18\": 1, \"19\": 1}, \"44\": {\"44\": 98, \"50\": 4, \"45\": 5, \"52\": 2, \"3\": 5, \"48\": 4, \"46\": 3, \"56\": 2, \"22\": 2, \"30\": 1, \"21\": 3, \"0\": 1, \"29\": 1, \"5\": 1}, \"24\": {\"33\": 2, \"24\": 22, \"15\": 2, \"55\": 1, \"43\": 6, \"41\": 2, \"11\": 1, \"19\": 2, \"53\": 5, \"23\": 4, \"17\": 2, \"16\": 1, \"37\": 1, \"32\": 1, \"54\": 2, \"38\": 1, \"48\": 1}, \"33\": {\"7\": 3, \"33\": 9, \"43\": 2, \"36\": 2, \"17\": 4, \"19\": 1, \"55\": 2, \"13\": 1, \"8\": 1, \"42\": 2, \"24\": 3, \"35\": 2, \"23\": 1, \"54\": 1, \"26\": 1, \"9\": 1}, \"35\": {\"36\": 3, \"35\": 23, \"4\": 1, \"19\": 1, \"13\": 2, \"27\": 1, \"23\": 1, \"55\": 2, \"17\": 1, \"14\": 2, \"38\": 1, \"54\": 2}, \"51\": {\"13\": 8, \"51\": 63, \"8\": 8, \"39\": 1, \"41\": 3, \"7\": 1, \"27\": 10, \"23\": 9, \"37\": 1, \"17\": 2, \"36\": 5, \"32\": 1, \"44\": 1, \"53\": 2, \"24\": 1, \"55\": 2, \"29\": 4, \"54\": 4, \"48\": 3, \"9\": 1, \"19\": 2, \"4\": 1, \"20\": 1, \"43\": 3, \"56\": 1}, \"39\": {\"39\": 17, \"7\": 1, \"27\": 1, \"2\": 1}, \"36\": {\"36\": 83, \"27\": 1, \"55\": 5, \"24\": 1, \"57\": 1, \"29\": 1}, \"19\": {\"19\": 54, \"35\": 3, \"36\": 4, \"26\": 3, \"55\": 14, \"42\": 1, \"4\": 3, \"31\": 1, \"33\": 3, \"53\": 10, \"24\": 1, \"8\": 1, \"48\": 2, \"16\": 1, \"54\": 3, \"15\": 6, \"47\": 3, \"23\": 14, \"10\": 5, \"43\": 4, \"11\": 1, \"17\": 3}, \"0\": {\"0\": 65, \"30\": 2, \"56\": 2, \"12\": 3, \"52\": 1, \"46\": 5, \"47\": 1, \"22\": 1}, \"15\": {\"15\": 107, \"31\": 2, \"28\": 1, \"16\": 6, \"11\": 6, \"10\": 9, \"23\": 3, \"19\": 1, \"53\": 1}, \"29\": {\"13\": 4, \"29\": 35, \"4\": 21, \"51\": 1, \"1\": 5, \"21\": 1, \"57\": 7, \"3\": 1, \"9\": 5, \"48\": 5, \"47\": 9, \"44\": 4, \"27\": 10, \"8\": 7, \"40\": 3, \"14\": 2, \"2\": 2, \"52\": 2}, \"30\": {\"46\": 5, \"30\": 26, \"3\": 3, \"12\": 5, \"50\": 2, \"45\": 1, \"22\": 2}, \"1\": {\"56\": 2, \"1\": 24, \"20\": 3, \"22\": 1, \"48\": 5, \"4\": 1, \"52\": 1, \"8\": 1, \"40\": 1, \"0\": 1}, \"22\": {\"22\": 91, \"30\": 2, \"0\": 1, \"3\": 4, \"50\": 2, \"46\": 18, \"5\": 2, \"12\": 7, \"6\": 1}, \"40\": {\"56\": 5, \"9\": 11, \"12\": 2, \"1\": 2, \"40\": 39, \"48\": 10, \"14\": 2, \"6\": 1, \"45\": 5, \"44\": 10, \"52\": 4, \"50\": 5, \"4\": 11, \"21\": 13, \"0\": 1, \"8\": 1, \"13\": 5, \"57\": 1, \"22\": 4, \"5\": 1, \"20\": 3, \"27\": 1, \"29\": 4, \"46\": 3, \"47\": 2}, \"8\": {\"8\": 90, \"4\": 4, \"20\": 4, \"57\": 5, \"27\": 5, \"52\": 3, \"1\": 1, \"29\": 1, \"13\": 2, \"56\": 1, \"48\": 2, \"2\": 2, \"47\": 4, \"9\": 3, \"46\": 1}, \"53\": {\"53\": 58, \"55\": 5, \"38\": 2, \"41\": 3, \"15\": 13, \"11\": 4, \"35\": 3, \"14\": 1, \"31\": 1, \"42\": 2, \"16\": 5, \"54\": 9, \"24\": 3, \"18\": 2, \"33\": 1, \"23\": 8, \"10\": 7, \"43\": 4, \"19\": 4, \"37\": 2, \"27\": 1}, \"34\": {\"28\": 1, \"34\": 15, \"7\": 1, \"43\": 1, \"11\": 2, \"24\": 1, \"10\": 1, \"19\": 1, \"54\": 1}, \"10\": {\"10\": 51, \"28\": 2, \"23\": 7, \"53\": 13, \"42\": 4, \"15\": 13, \"55\": 3, \"54\": 2, \"24\": 4, \"43\": 10, \"51\": 1, \"11\": 2, \"19\": 6, \"49\": 1, \"7\": 1, \"41\": 1, \"18\": 1}, \"31\": {\"31\": 27, \"37\": 1}, \"17\": {\"13\": 1, \"7\": 1, \"17\": 50, \"19\": 5, \"23\": 7, \"33\": 2, \"36\": 1, \"54\": 1, \"27\": 1, \"55\": 3, \"41\": 1, \"32\": 2, \"14\": 1, \"43\": 2, \"8\": 1, \"51\": 1}, \"16\": {\"16\": 58, \"41\": 1, \"31\": 1, \"28\": 2, \"19\": 3, \"23\": 4, \"53\": 4, \"11\": 8, \"10\": 3, \"15\": 4, \"18\": 2, \"55\": 1, \"24\": 1, \"43\": 2, \"54\": 1, \"25\": 1}, \"42\": {\"49\": 2, \"7\": 1, \"34\": 5, \"19\": 1, \"42\": 12, \"43\": 3, \"55\": 1, \"28\": 1, \"35\": 1, \"24\": 1, \"54\": 3, \"32\": 1}, \"27\": {\"27\": 61, \"1\": 2, \"14\": 4, \"48\": 6, \"2\": 4, \"57\": 15, \"47\": 6, \"9\": 10, \"51\": 3, \"29\": 4, \"35\": 1, \"8\": 9, \"52\": 2, \"13\": 10, \"55\": 1, \"39\": 1, \"4\": 2, \"17\": 1}, \"14\": {\"27\": 2, \"47\": 2, \"39\": 1, \"29\": 1, \"21\": 1, \"36\": 1, \"14\": 3, \"49\": 1, \"9\": 1, \"44\": 1, \"2\": 1, \"13\": 1}, \"25\": {\"25\": 107, \"18\": 4, \"53\": 2, \"15\": 6, \"16\": 1, \"11\": 2}, \"48\": {\"48\": 46, \"56\": 13, \"47\": 15, \"52\": 10, \"22\": 2, \"4\": 6, \"29\": 1, \"1\": 5, \"20\": 10, \"40\": 3, \"57\": 4, \"9\": 4, \"46\": 5, \"21\": 1, \"0\": 1, \"5\": 1, \"44\": 2, \"8\": 3}, \"26\": {\"26\": 19, \"51\": 1, \"31\": 1, \"36\": 2, \"23\": 1}, \"5\": {\"5\": 52, \"50\": 11, \"12\": 8, \"46\": 8, \"6\": 7, \"40\": 2, \"0\": 1, \"3\": 11, \"45\": 3, \"22\": 4, \"56\": 1}}, \"C_3\": {\"14\": {\"1\": 4, \"23\": 1, \"14\": 8, \"34\": 1, \"52\": 2, \"4\": 1, \"47\": 1, \"22\": 4, \"13\": 3, \"36\": 4, \"8\": 1, \"57\": 1, \"20\": 2, \"55\": 1, \"30\": 1, \"37\": 2, \"9\": 1, \"44\": 2}, \"18\": {\"18\": 75, \"16\": 2, \"15\": 3, \"10\": 1, \"25\": 2, \"11\": 1}, \"30\": {\"30\": 65, \"1\": 1, \"0\": 26, \"50\": 2, \"46\": 3, \"48\": 7, \"47\": 1, \"22\": 6, \"56\": 6, \"52\": 1, \"12\": 2}, \"16\": {\"16\": 93, \"18\": 3, \"31\": 1, \"15\": 14, \"11\": 14, \"25\": 17, \"19\": 2, \"53\": 2, \"23\": 2, \"17\": 1, \"24\": 1, \"10\": 5, \"54\": 1}, \"1\": {\"1\": 56, \"48\": 9, \"56\": 3, \"0\": 1, \"47\": 5, \"4\": 7, \"20\": 3, \"9\": 5, \"22\": 4, \"52\": 1, \"50\": 1, \"30\": 2, \"57\": 1, \"27\": 2}, \"20\": {\"20\": 69, \"52\": 19, \"9\": 4, \"0\": 2, \"30\": 5, \"1\": 3, \"40\": 3, \"21\": 4, \"47\": 5, \"56\": 2, \"27\": 3, \"48\": 5, \"29\": 2, \"8\": 1, \"22\": 2, \"5\": 1, \"4\": 2}, \"7\": {\"29\": 2, \"55\": 1, \"8\": 2, \"7\": 24, \"9\": 2, \"34\": 1, \"52\": 1, \"0\": 1, \"14\": 1, \"4\": 1}, \"52\": {\"52\": 82, \"20\": 18, \"48\": 6, \"47\": 1, \"9\": 1, \"41\": 2, \"21\": 3, \"56\": 5, \"4\": 2, \"30\": 4, \"0\": 3, \"8\": 2, \"3\": 1}, \"9\": {\"1\": 14, \"4\": 13, \"47\": 1, \"14\": 3, \"9\": 47, \"48\": 5, \"20\": 6, \"40\": 1, \"27\": 10, \"46\": 2, \"51\": 1, \"56\": 2, \"29\": 6, \"0\": 2, \"22\": 6, \"57\": 8, \"13\": 3, \"50\": 2, \"55\": 3, \"30\": 1, \"38\": 1, \"52\": 2, \"21\": 1}, \"23\": {\"23\": 114, \"54\": 5, \"43\": 5, \"53\": 4, \"24\": 5, \"9\": 1, \"19\": 3, \"10\": 1, \"42\": 2, \"17\": 2, \"16\": 1, \"55\": 1}, \"55\": {\"55\": 105, \"39\": 1, \"43\": 5, \"35\": 4, \"2\": 1, \"31\": 3, \"27\": 3, \"26\": 1, \"34\": 1, \"13\": 5, \"51\": 3, \"36\": 7, \"17\": 3, \"54\": 7, \"57\": 5, \"14\": 1, \"19\": 1, \"8\": 5, \"9\": 1, \"1\": 1, \"23\": 1}, \"29\": {\"1\": 3, \"29\": 50, \"4\": 13, \"36\": 2, \"47\": 4, \"27\": 12, \"32\": 1, \"40\": 1, \"57\": 6, \"22\": 2, \"0\": 1, \"13\": 3, \"20\": 2, \"9\": 13, \"51\": 2, \"48\": 6, \"14\": 1, \"42\": 1, \"38\": 1, \"8\": 2}, \"56\": {\"30\": 7, \"56\": 43, \"47\": 10, \"50\": 1, \"1\": 9, \"48\": 10, \"41\": 1, \"52\": 11, \"20\": 6, \"22\": 13, \"0\": 10, \"46\": 5, \"5\": 2, \"4\": 2, \"8\": 1, \"3\": 1, \"9\": 1, \"57\": 1}, \"3\": {\"6\": 11, \"3\": 48, \"45\": 3, \"44\": 3, \"21\": 6, \"5\": 6, \"46\": 8, \"12\": 14, \"50\": 11, \"0\": 2, \"52\": 2, \"22\": 6, \"56\": 2, \"40\": 1, \"47\": 1}, \"42\": {\"42\": 23, \"43\": 2, \"31\": 2, \"17\": 1}, \"6\": {\"6\": 69, \"3\": 5, \"12\": 5, \"45\": 3, \"46\": 1, \"5\": 3, \"50\": 2}, \"5\": {\"5\": 38, \"3\": 10, \"45\": 4, \"50\": 10, \"21\": 4, \"12\": 10, \"46\": 6, \"6\": 8, \"0\": 6, \"30\": 5, \"56\": 5, \"40\": 3, \"48\": 1, \"44\": 1, \"22\": 4, \"1\": 1}, \"27\": {\"27\": 66, \"14\": 1, \"55\": 3, \"9\": 11, \"29\": 6, \"7\": 1, \"57\": 17, \"4\": 2, \"48\": 10, \"30\": 2, \"1\": 7, \"47\": 3, \"8\": 7, \"39\": 1, \"22\": 1, \"20\": 3, \"21\": 1, \"56\": 1, \"13\": 1}, \"47\": {\"47\": 47, \"0\": 8, \"30\": 4, \"22\": 4, \"52\": 1, \"41\": 3, \"27\": 3, \"48\": 5, \"1\": 6, \"56\": 8, \"9\": 1, \"4\": 1, \"57\": 1}, \"39\": {\"39\": 16}, \"34\": {\"54\": 2, \"34\": 11, \"55\": 2, \"38\": 1, \"49\": 1, \"36\": 3, \"14\": 3, \"47\": 1, \"31\": 1, \"42\": 1, \"23\": 1, \"35\": 1, \"43\": 2, \"7\": 1, \"17\": 1}, \"4\": {\"4\": 22, \"33\": 1, \"22\": 10, \"47\": 6, \"32\": 1, \"7\": 1, \"40\": 3, \"51\": 2, \"48\": 8, \"20\": 4, \"1\": 15, \"0\": 1, \"44\": 5, \"27\": 5, \"50\": 3, \"30\": 1, \"8\": 3, \"52\": 1, \"9\": 12, \"57\": 5, \"29\": 6, \"56\": 2, \"46\": 1, \"17\": 1, \"5\": 3, \"13\": 2, \"3\": 2}, \"24\": {\"54\": 6, \"24\": 42, \"55\": 4, \"31\": 4, \"35\": 2, \"13\": 1, \"43\": 13, \"23\": 12, \"17\": 4, \"29\": 1, \"53\": 8, \"15\": 2, \"26\": 1, \"49\": 1, \"33\": 1, \"19\": 1, \"34\": 1}, \"46\": {\"50\": 18, \"46\": 63, \"21\": 4, \"3\": 10, \"0\": 4, \"45\": 2, \"22\": 4, \"5\": 4, \"12\": 3, \"30\": 3, \"40\": 1, \"56\": 1, \"44\": 1}, \"50\": {\"46\": 15, \"50\": 73, \"5\": 6, \"12\": 6, \"3\": 15, \"21\": 1, \"6\": 3, \"22\": 4, \"30\": 2, \"44\": 1}, \"38\": {\"38\": 23, \"51\": 1, \"13\": 1, \"17\": 2, \"56\": 1}, \"54\": {\"54\": 50, \"34\": 2, \"42\": 1, \"31\": 2, \"55\": 13, \"26\": 2, \"43\": 7, \"17\": 7, \"53\": 3, \"24\": 1, \"8\": 1, \"23\": 4, \"57\": 1, \"13\": 1, \"27\": 3, \"7\": 1, \"19\": 1}, \"35\": {\"35\": 12, \"32\": 1, \"17\": 2, \"42\": 2, \"55\": 1, \"36\": 5, \"54\": 1, \"34\": 1, \"51\": 1, \"2\": 1, \"27\": 1}, \"2\": {\"2\": 30, \"27\": 2}, \"41\": {\"41\": 17, \"47\": 5, \"56\": 1, \"7\": 1, \"57\": 1, \"39\": 1, \"30\": 1, \"48\": 1}, \"57\": {\"52\": 4, \"20\": 4, \"48\": 3, \"1\": 10, \"57\": 35, \"4\": 8, \"47\": 4, \"22\": 2, \"27\": 12, \"29\": 8, \"0\": 2, \"8\": 4, \"9\": 11, \"56\": 2, \"36\": 1, \"14\": 4, \"51\": 1, \"30\": 1, \"40\": 1, \"55\": 1}, \"25\": {\"25\": 112, \"16\": 13, \"18\": 9, \"23\": 1, \"15\": 7, \"11\": 7, \"53\": 1}, \"48\": {\"48\": 40, \"27\": 2, \"1\": 12, \"9\": 3, \"30\": 4, \"20\": 8, \"0\": 8, \"47\": 8, \"8\": 3, \"56\": 8, \"22\": 10, \"52\": 6, \"5\": 2, \"57\": 2}, \"33\": {\"13\": 2, \"33\": 23, \"27\": 1, \"51\": 2}, \"45\": {\"45\": 31, \"6\": 8, \"5\": 2, \"30\": 1, \"44\": 2, \"21\": 1, \"3\": 1, \"22\": 3, \"12\": 3, \"50\": 6, \"1\": 1, \"0\": 1}, \"13\": {\"39\": 1, \"33\": 2, \"2\": 2, \"27\": 11, \"13\": 48, \"8\": 10, \"36\": 1, \"19\": 1, \"17\": 1, \"55\": 13, \"52\": 2, \"51\": 8, \"9\": 4, \"47\": 6, \"43\": 2, \"53\": 1, \"48\": 4, \"57\": 4, \"14\": 1, \"42\": 1, \"7\": 1, \"29\": 2}, \"36\": {\"36\": 99, \"14\": 1}, \"43\": {\"43\": 102, \"34\": 2, \"24\": 4, \"49\": 1, \"7\": 2, \"53\": 1, \"55\": 1, \"17\": 2, \"54\": 10, \"42\": 2, \"31\": 3, \"26\": 1, \"35\": 1}, \"28\": {\"28\": 11, \"53\": 1, \"31\": 1, \"15\": 1, \"35\": 1, \"43\": 2, \"10\": 1, \"26\": 2, \"16\": 4, \"34\": 2, \"33\": 1, \"23\": 1}, \"0\": {\"0\": 68, \"30\": 18, \"48\": 5, \"21\": 1, \"56\": 10, \"52\": 6, \"50\": 1, \"46\": 5, \"22\": 4, \"4\": 1, \"47\": 3, \"3\": 1, \"12\": 1}, \"12\": {\"12\": 64, \"5\": 7, \"3\": 9, \"6\": 3, \"45\": 1, \"50\": 5, \"22\": 1, \"46\": 2}, \"31\": {\"2\": 1, \"31\": 15, \"10\": 1, \"24\": 1, \"43\": 1, \"54\": 1, \"26\": 1, \"35\": 2, \"34\": 1, \"19\": 1, \"23\": 1, \"55\": 2}, \"40\": {\"4\": 9, \"6\": 3, \"27\": 8, \"14\": 1, \"40\": 29, \"9\": 7, \"22\": 7, \"45\": 1, \"5\": 3, \"21\": 6, \"20\": 4, \"57\": 7, \"0\": 2, \"44\": 4, \"8\": 3, \"1\": 2, \"29\": 2, \"3\": 5, \"48\": 3, \"56\": 4, \"52\": 1, \"42\": 1, \"30\": 1, \"13\": 1, \"55\": 1, \"50\": 1}, \"44\": {\"44\": 60, \"3\": 4, \"45\": 1, \"5\": 3, \"21\": 3, \"12\": 4, \"40\": 2, \"47\": 1, \"46\": 2, \"20\": 3, \"0\": 1, \"22\": 2, \"6\": 2}, \"32\": {\"32\": 9, \"7\": 1, \"27\": 2, \"36\": 7, \"35\": 3, \"26\": 2, \"14\": 2, \"9\": 1, \"29\": 1}, \"26\": {\"31\": 1, \"55\": 4, \"54\": 2, \"26\": 10, \"24\": 3, \"17\": 1, \"34\": 3}, \"8\": {\"8\": 69, \"57\": 12, \"14\": 1, \"47\": 1, \"27\": 5, \"4\": 2, \"1\": 1, \"29\": 6, \"52\": 3, \"20\": 5, \"9\": 5, \"48\": 2, \"0\": 1, \"36\": 1, \"56\": 1, \"22\": 1}, \"10\": {\"26\": 1, \"10\": 39, \"19\": 1, \"16\": 2, \"11\": 3, \"43\": 5, \"49\": 1, \"15\": 6, \"28\": 1, \"24\": 1, \"37\": 1, \"53\": 2, \"23\": 1}, \"15\": {\"15\": 127, \"24\": 1, \"23\": 1, \"43\": 3, \"11\": 7, \"16\": 2, \"10\": 1}, \"21\": {\"5\": 4, \"50\": 10, \"21\": 79, \"12\": 5, \"20\": 4, \"0\": 5, \"45\": 2, \"3\": 5, \"4\": 1, \"48\": 1, \"1\": 1, \"46\": 5, \"56\": 2, \"52\": 3, \"40\": 1}, \"37\": {\"37\": 27, \"53\": 1}, \"17\": {\"17\": 88, \"55\": 1, \"42\": 3, \"51\": 5, \"13\": 3, \"23\": 1, \"36\": 1, \"49\": 1, \"31\": 1, \"54\": 2, \"7\": 1, \"29\": 1}, \"51\": {\"51\": 68, \"48\": 1, \"13\": 14, \"54\": 1, \"17\": 6, \"23\": 3, \"55\": 12, \"36\": 1, \"4\": 2, \"53\": 1, \"8\": 4, \"27\": 3, \"9\": 2, \"2\": 2, \"14\": 1, \"42\": 2, \"39\": 1}, \"53\": {\"19\": 7, \"37\": 5, \"53\": 63, \"24\": 7, \"43\": 7, \"49\": 1, \"34\": 2, \"54\": 7, \"11\": 6, \"10\": 1, \"23\": 7, \"16\": 11, \"55\": 5, \"51\": 4, \"26\": 2, \"17\": 3, \"15\": 5, \"8\": 1}, \"19\": {\"53\": 9, \"19\": 50, \"23\": 5, \"25\": 2, \"49\": 1, \"36\": 11, \"11\": 9, \"55\": 13, \"18\": 1, \"43\": 2, \"16\": 7, \"27\": 2, \"51\": 1, \"13\": 1, \"15\": 9, \"57\": 2, \"31\": 2, \"35\": 1, \"24\": 1, \"54\": 3, \"34\": 1, \"4\": 2, \"29\": 1}, \"49\": {\"49\": 17, \"14\": 1, \"23\": 1, \"26\": 1}, \"11\": {\"23\": 6, \"11\": 70, \"25\": 6, \"16\": 25, \"10\": 4, \"15\": 12, \"53\": 4, \"43\": 5, \"24\": 2, \"18\": 2, \"19\": 2}, \"22\": {\"22\": 56, \"21\": 1, \"30\": 10, \"48\": 5, \"52\": 8, \"3\": 7, \"0\": 4, \"46\": 6, \"44\": 4, \"56\": 9, \"50\": 4, \"5\": 5, \"20\": 3, \"1\": 6, \"45\": 1, \"6\": 1}}}, \"per_domain_accuracy\": {\"O_8\": {\"accuracy\": 0.4315104166666667, \"source?\": true}, \"O_38\": {\"accuracy\": 0.8893229166666666, \"source?\": true}, \"O_26\": {\"accuracy\": 0.5109375, \"source?\": true}, \"O_20\": {\"accuracy\": 0.30234375, \"source?\": true}, \"O_50\": {\"accuracy\": 0.9013020833333333, \"source?\": true}, \"O_32\": {\"accuracy\": 0.8440104166666667, \"source?\": true}, \"O_44\": {\"accuracy\": 0.8203125, \"source?\": true}, \"O_14\": {\"accuracy\": 0.49635416666666665, \"source?\": true}, \"C_2\": {\"accuracy\": 0.5509588068181818, \"source?\": false}, \"C_5\": {\"accuracy\": 0.5691713483146067, \"source?\": false}, \"C_1\": {\"accuracy\": 0.6083447802197802, \"source?\": false}, \"C_4\": {\"accuracy\": 0.5789670658682635, \"source?\": false}, \"C_3\": {\"accuracy\": 0.5464181286549707, \"source?\": false}}}, \"history\": {\"epoch_indices\": [1, 2, 3, 4, 5], \"train_label_loss\": [0.5512478686774903, 2.1994410861505282, 0.38306410949721575, 0.5310450798016972, 0.6626664214933823], \"source_val_label_loss\": [106.10382843017578, 0.38623079657554626, 0.3646595776081085, 0.33270615339279175, 0.36454257369041443], \"target_val_label_loss\": [12307.9453125, 4231.12451171875, 5746.21875, 6802.4482421875, 3324.1591796875], \"source_val_acc_label\": [0.64951171875, 0.8636067708333334, 0.8764973958333333, 0.8866536458333333, 0.87001953125], \"target_val_acc_label\": [0.5710812356979404, 0.4957093821510298, 0.4611341533180778, 0.4590245995423341, 0.5568506864988558]}, \"dataset_metrics\": {\"source\": {\"train\": {\"n_unique_x\": 179200, \"n_unique_y\": 16, \"n_batch/episode\": 6720}, \"val\": {\"n_unique_x\": 38400, \"n_unique_y\": 16, \"n_batch/episode\": 960}, \"test\": {\"n_unique_x\": 38400, \"n_unique_y\": 16, \"n_batch/episode\": 960}}, \"target\": {\"train\": {\"n_unique_x\": 175127, \"n_unique_y\": 58, \"n_batch/episode\": 6303}, \"val\": {\"n_unique_x\": 37135, \"n_unique_y\": 58, \"n_batch/episode\": 874}, \"test\": {\"n_unique_x\": 37673, \"n_unique_y\": 58, \"n_batch/episode\": 893}}}}'"
      ]
     },
     "execution_count": 29,
     "metadata": {},
     "output_type": "execute_result"
    }
   ],
   "source": [
    "json.dumps(experiment)"
   ]
  }
 ],
 "metadata": {
  "celltoolbar": "Tags",
  "kernelspec": {
   "display_name": "Python 3 (ipykernel)",
   "language": "python",
   "name": "python3"
  },
  "language_info": {
   "codemirror_mode": {
    "name": "ipython",
    "version": 3
   },
   "file_extension": ".py",
   "mimetype": "text/x-python",
   "name": "python",
   "nbconvert_exporter": "python",
   "pygments_lexer": "ipython3",
   "version": "3.8.12"
  },
  "papermill": {
   "default_parameters": {},
   "duration": 1011.459462,
   "end_time": "2022-03-28T05:16:58.261953",
   "environment_variables": {},
   "exception": null,
   "input_path": "/root/csc500-main/csc500-notebooks/templates/tl_ptn_template.ipynb",
   "output_path": "trial.ipynb",
   "parameters": {
    "parameters": {
     "BEST_MODEL_PATH": "./best_model.pth",
     "NUM_LOGS_PER_EPOCH": 10,
     "criteria_for_best": "target_accuracy",
     "dataset_seed": 154325,
     "datasets": [
      {
       "domain_prefix": "C_",
       "domains": [
        1,
        2,
        3,
        4,
        5
       ],
       "episode_transforms": [],
       "labels": [
        "1-10.",
        "1-11.",
        "1-15.",
        "1-16.",
        "1-17.",
        "1-18.",
        "1-19.",
        "10-4.",
        "10-7.",
        "11-1.",
        "11-14.",
        "11-17.",
        "11-20.",
        "11-7.",
        "13-20.",
        "13-8.",
        "14-10.",
        "14-11.",
        "14-14.",
        "14-7.",
        "15-1.",
        "15-20.",
        "16-1.",
        "16-16.",
        "17-10.",
        "17-11.",
        "17-2.",
        "19-1.",
        "19-16.",
        "19-19.",
        "19-20.",
        "19-3.",
        "2-10.",
        "2-11.",
        "2-17.",
        "2-18.",
        "2-20.",
        "2-3.",
        "2-4.",
        "2-5.",
        "2-6.",
        "2-7.",
        "2-8.",
        "3-13.",
        "3-18.",
        "3-3.",
        "4-1.",
        "4-10.",
        "4-11.",
        "4-19.",
        "5-5.",
        "6-15.",
        "7-10.",
        "7-14.",
        "8-18.",
        "8-20.",
        "8-3.",
        "8-8."
       ],
       "num_examples_per_domain_per_label": -1,
       "pickle_path": "/root/csc500-main/datasets/cores.stratified_ds.2022A.pkl",
       "source_or_target_dataset": "target",
       "x_transforms": [
        "jitter_256_1",
        "lowpass_+/-10MHz",
        "take_200"
       ]
      },
      {
       "domain_prefix": "O_",
       "domains": [
        32,
        38,
        8,
        44,
        14,
        50,
        20,
        26
       ],
       "episode_transforms": [],
       "labels": [
        "3123D52",
        "3123D65",
        "3123D79",
        "3123D80",
        "3123D54",
        "3123D70",
        "3123D7B",
        "3123D89",
        "3123D58",
        "3123D76",
        "3123D7D",
        "3123EFE",
        "3123D64",
        "3123D78",
        "3123D7E",
        "3124E4A"
       ],
       "num_examples_per_domain_per_label": 2000,
       "pickle_path": "/root/csc500-main/datasets/oracle.Run1_framed_2000Examples_stratified_ds.2022A.pkl",
       "source_or_target_dataset": "source",
       "x_transforms": [
        "jitter_256_1",
        "take_200",
        "resample_20Msps_to_25Msps"
       ]
      }
     ],
     "device": "cuda",
     "experiment_name": "tl_3-jitter1v2:oracle.run1.framed -> cores",
     "lr": 0.0001,
     "n_epoch": 50,
     "n_query": 2,
     "n_shot": 3,
     "n_way": 16,
     "patience": 3,
     "seed": 154325,
     "test_k_factor": 2,
     "torch_default_dtype": "torch.float32",
     "train_k_factor": 3,
     "val_k_factor": 2,
     "x_net": [
      {
       "class": "nnReshape",
       "kargs": {
        "shape": [
         -1,
         1,
         2,
         256
        ]
       }
      },
      {
       "class": "Conv2d",
       "kargs": {
        "bias": false,
        "in_channels": 1,
        "kernel_size": [
         1,
         7
        ],
        "out_channels": 256,
        "padding": [
         0,
         3
        ]
       }
      },
      {
       "class": "ReLU",
       "kargs": {
        "inplace": true
       }
      },
      {
       "class": "BatchNorm2d",
       "kargs": {
        "num_features": 256
       }
      },
      {
       "class": "Conv2d",
       "kargs": {
        "bias": true,
        "in_channels": 256,
        "kernel_size": [
         2,
         7
        ],
        "out_channels": 80,
        "padding": [
         0,
         3
        ]
       }
      },
      {
       "class": "ReLU",
       "kargs": {
        "inplace": true
       }
      },
      {
       "class": "BatchNorm2d",
       "kargs": {
        "num_features": 80
       }
      },
      {
       "class": "Flatten",
       "kargs": {}
      },
      {
       "class": "Linear",
       "kargs": {
        "in_features": 20480,
        "out_features": 256
       }
      },
      {
       "class": "ReLU",
       "kargs": {
        "inplace": true
       }
      },
      {
       "class": "BatchNorm1d",
       "kargs": {
        "num_features": 256
       }
      },
      {
       "class": "Linear",
       "kargs": {
        "in_features": 256,
        "out_features": 256
       }
      }
     ],
     "x_shape": [
      2,
      256
     ]
    }
   },
   "start_time": "2022-03-28T05:00:06.802491",
   "version": "2.3.4"
  }
 },
 "nbformat": 4,
 "nbformat_minor": 5
}