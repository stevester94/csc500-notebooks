{
 "cells": [
  {
   "cell_type": "markdown",
   "id": "9fea5f46",
   "metadata": {
    "papermill": {
     "duration": 0.026031,
     "end_time": "2022-03-28T04:00:56.727893",
     "exception": false,
     "start_time": "2022-03-28T04:00:56.701862",
     "status": "completed"
    },
    "tags": []
   },
   "source": [
    "# Transfer Learning Template"
   ]
  },
  {
   "cell_type": "code",
   "execution_count": 1,
   "id": "0902182a",
   "metadata": {
    "execution": {
     "iopub.execute_input": "2022-03-28T04:00:56.786902Z",
     "iopub.status.busy": "2022-03-28T04:00:56.786040Z",
     "iopub.status.idle": "2022-03-28T04:00:58.617969Z",
     "shell.execute_reply": "2022-03-28T04:00:58.617271Z"
    },
    "papermill": {
     "duration": 1.870419,
     "end_time": "2022-03-28T04:00:58.618120",
     "exception": false,
     "start_time": "2022-03-28T04:00:56.747701",
     "status": "completed"
    },
    "tags": []
   },
   "outputs": [],
   "source": [
    "%load_ext autoreload\n",
    "%autoreload 2\n",
    "%matplotlib inline\n",
    "\n",
    "    \n",
    "import os, json, sys, time, random\n",
    "import numpy as np\n",
    "import torch\n",
    "from torch.optim import Adam\n",
    "from  easydict import EasyDict\n",
    "import matplotlib.pyplot as plt\n",
    "\n",
    "from steves_models.steves_ptn import Steves_Prototypical_Network\n",
    "\n",
    "from steves_utils.lazy_iterable_wrapper import Lazy_Iterable_Wrapper\n",
    "from steves_utils.iterable_aggregator import Iterable_Aggregator\n",
    "from steves_utils.ptn_train_eval_test_jig import  PTN_Train_Eval_Test_Jig\n",
    "from steves_utils.torch_sequential_builder import build_sequential\n",
    "from steves_utils.torch_utils import get_dataset_metrics, ptn_confusion_by_domain_over_dataloader\n",
    "from steves_utils.utils_v2 import (per_domain_accuracy_from_confusion, get_datasets_base_path)\n",
    "from steves_utils.PTN.utils import independent_accuracy_assesment\n",
    "\n",
    "from torch.utils.data import DataLoader\n",
    "\n",
    "from steves_utils.stratified_dataset.episodic_accessor import Episodic_Accessor_Factory\n",
    "\n",
    "from steves_utils.ptn_do_report import (\n",
    "    get_loss_curve,\n",
    "    get_results_table,\n",
    "    get_parameters_table,\n",
    "    get_domain_accuracies,\n",
    ")\n",
    "\n",
    "from steves_utils.transforms import get_chained_transform"
   ]
  },
  {
   "cell_type": "markdown",
   "id": "41c840b4",
   "metadata": {
    "papermill": {
     "duration": 0.019209,
     "end_time": "2022-03-28T04:00:58.662532",
     "exception": false,
     "start_time": "2022-03-28T04:00:58.643323",
     "status": "completed"
    },
    "tags": []
   },
   "source": [
    "# Allowed Parameters\n",
    "These are allowed parameters, not defaults\n",
    "Each of these values need to be present in the injected parameters (the notebook will raise an exception if they are not present)\n",
    "\n",
    "Papermill uses the cell tag \"parameters\" to inject the real parameters below this cell.\n",
    "Enable tags to see what I mean"
   ]
  },
  {
   "cell_type": "code",
   "execution_count": 2,
   "id": "fd44eb83",
   "metadata": {
    "execution": {
     "iopub.execute_input": "2022-03-28T04:00:58.706129Z",
     "iopub.status.busy": "2022-03-28T04:00:58.705547Z",
     "iopub.status.idle": "2022-03-28T04:00:58.731500Z",
     "shell.execute_reply": "2022-03-28T04:00:58.730702Z"
    },
    "papermill": {
     "duration": 0.050002,
     "end_time": "2022-03-28T04:00:58.731689",
     "exception": false,
     "start_time": "2022-03-28T04:00:58.681687",
     "status": "completed"
    },
    "tags": []
   },
   "outputs": [],
   "source": [
    "required_parameters = {\n",
    "    \"experiment_name\",\n",
    "    \"lr\",\n",
    "    \"device\",\n",
    "    \"seed\",\n",
    "    \"dataset_seed\",\n",
    "    \"n_shot\",\n",
    "    \"n_query\",\n",
    "    \"n_way\",\n",
    "    \"train_k_factor\",\n",
    "    \"val_k_factor\",\n",
    "    \"test_k_factor\",\n",
    "    \"n_epoch\",\n",
    "    \"patience\",\n",
    "    \"criteria_for_best\",\n",
    "    \"x_net\",\n",
    "    \"datasets\",\n",
    "    \"torch_default_dtype\",\n",
    "    \"NUM_LOGS_PER_EPOCH\",\n",
    "    \"BEST_MODEL_PATH\",\n",
    "    \"x_shape\",\n",
    "}"
   ]
  },
  {
   "cell_type": "code",
   "execution_count": 3,
   "id": "fa3f0049",
   "metadata": {
    "execution": {
     "iopub.execute_input": "2022-03-28T04:00:58.793458Z",
     "iopub.status.busy": "2022-03-28T04:00:58.792546Z",
     "iopub.status.idle": "2022-03-28T04:00:58.815631Z",
     "shell.execute_reply": "2022-03-28T04:00:58.814882Z"
    },
    "papermill": {
     "duration": 0.057378,
     "end_time": "2022-03-28T04:00:58.815795",
     "exception": false,
     "start_time": "2022-03-28T04:00:58.758417",
     "status": "completed"
    },
    "tags": [
     "parameters"
    ]
   },
   "outputs": [],
   "source": [
    "from steves_utils.CORES.utils import (\n",
    "    ALL_NODES,\n",
    "    ALL_NODES_MINIMUM_1000_EXAMPLES,\n",
    "    ALL_DAYS\n",
    ")\n",
    "\n",
    "from steves_utils.ORACLE.utils_v2 import (\n",
    "    ALL_DISTANCES_FEET_NARROWED,\n",
    "    ALL_RUNS,\n",
    "    ALL_SERIAL_NUMBERS,\n",
    ")\n",
    "\n",
    "standalone_parameters = {}\n",
    "standalone_parameters[\"experiment_name\"] = \"STANDALONE PTN\"\n",
    "standalone_parameters[\"lr\"] = 0.001\n",
    "standalone_parameters[\"device\"] = \"cuda\"\n",
    "\n",
    "standalone_parameters[\"seed\"] = 1337\n",
    "standalone_parameters[\"dataset_seed\"] = 1337\n",
    "\n",
    "standalone_parameters[\"n_way\"] = 8\n",
    "standalone_parameters[\"n_shot\"] = 3\n",
    "standalone_parameters[\"n_query\"]  = 2\n",
    "standalone_parameters[\"train_k_factor\"] = 1\n",
    "standalone_parameters[\"val_k_factor\"] = 2\n",
    "standalone_parameters[\"test_k_factor\"] = 2\n",
    "\n",
    "\n",
    "standalone_parameters[\"n_epoch\"] = 50\n",
    "\n",
    "standalone_parameters[\"patience\"] = 10\n",
    "standalone_parameters[\"criteria_for_best\"] = \"source_loss\"\n",
    "\n",
    "standalone_parameters[\"datasets\"] = [\n",
    "    {\n",
    "        \"labels\": ALL_SERIAL_NUMBERS,\n",
    "        \"domains\": ALL_DISTANCES_FEET_NARROWED,\n",
    "        \"num_examples_per_domain_per_label\": 100,\n",
    "        \"pickle_path\": os.path.join(get_datasets_base_path(), \"oracle.Run1_framed_2000Examples_stratified_ds.2022A.pkl\"),\n",
    "        \"source_or_target_dataset\": \"source\",\n",
    "        \"x_transforms\": [\"unit_mag\", \"minus_two\"],\n",
    "        \"episode_transforms\": [],\n",
    "        \"domain_prefix\": \"ORACLE_\"\n",
    "    },\n",
    "    {\n",
    "        \"labels\": ALL_NODES,\n",
    "        \"domains\": ALL_DAYS,\n",
    "        \"num_examples_per_domain_per_label\": 100,\n",
    "        \"pickle_path\": os.path.join(get_datasets_base_path(), \"cores.stratified_ds.2022A.pkl\"),\n",
    "        \"source_or_target_dataset\": \"target\",\n",
    "        \"x_transforms\": [\"unit_power\", \"times_zero\"],\n",
    "        \"episode_transforms\": [],\n",
    "        \"domain_prefix\": \"CORES_\"\n",
    "    }   \n",
    "]\n",
    "\n",
    "standalone_parameters[\"torch_default_dtype\"] = \"torch.float32\" \n",
    "\n",
    "\n",
    "\n",
    "standalone_parameters[\"x_net\"] =     [\n",
    "    {\"class\": \"nnReshape\", \"kargs\": {\"shape\":[-1, 1, 2, 256]}},\n",
    "    {\"class\": \"Conv2d\", \"kargs\": { \"in_channels\":1, \"out_channels\":256, \"kernel_size\":(1,7), \"bias\":False, \"padding\":(0,3), },},\n",
    "    {\"class\": \"ReLU\", \"kargs\": {\"inplace\": True}},\n",
    "    {\"class\": \"BatchNorm2d\", \"kargs\": {\"num_features\":256}},\n",
    "\n",
    "    {\"class\": \"Conv2d\", \"kargs\": { \"in_channels\":256, \"out_channels\":80, \"kernel_size\":(2,7), \"bias\":True, \"padding\":(0,3), },},\n",
    "    {\"class\": \"ReLU\", \"kargs\": {\"inplace\": True}},\n",
    "    {\"class\": \"BatchNorm2d\", \"kargs\": {\"num_features\":80}},\n",
    "    {\"class\": \"Flatten\", \"kargs\": {}},\n",
    "\n",
    "    {\"class\": \"Linear\", \"kargs\": {\"in_features\": 80*256, \"out_features\": 256}}, # 80 units per IQ pair\n",
    "    {\"class\": \"ReLU\", \"kargs\": {\"inplace\": True}},\n",
    "    {\"class\": \"BatchNorm1d\", \"kargs\": {\"num_features\":256}},\n",
    "\n",
    "    {\"class\": \"Linear\", \"kargs\": {\"in_features\": 256, \"out_features\": 256}},\n",
    "]\n",
    "\n",
    "# Parameters relevant to results\n",
    "# These parameters will basically never need to change\n",
    "standalone_parameters[\"NUM_LOGS_PER_EPOCH\"] = 10\n",
    "standalone_parameters[\"BEST_MODEL_PATH\"] = \"./best_model.pth\"\n",
    "\n",
    "\n",
    "\n",
    "\n"
   ]
  },
  {
   "cell_type": "code",
   "execution_count": 4,
   "id": "1768cc2d",
   "metadata": {
    "execution": {
     "iopub.execute_input": "2022-03-28T04:00:58.877342Z",
     "iopub.status.busy": "2022-03-28T04:00:58.875452Z",
     "iopub.status.idle": "2022-03-28T04:00:58.899981Z",
     "shell.execute_reply": "2022-03-28T04:00:58.899137Z"
    },
    "papermill": {
     "duration": 0.057788,
     "end_time": "2022-03-28T04:00:58.900141",
     "exception": false,
     "start_time": "2022-03-28T04:00:58.842353",
     "status": "completed"
    },
    "tags": [
     "injected-parameters"
    ]
   },
   "outputs": [],
   "source": [
    "# Parameters\n",
    "parameters = {\n",
    "    \"experiment_name\": \"tl_3-jitter1v2:oracle.run1.framed -> cores\",\n",
    "    \"device\": \"cuda\",\n",
    "    \"lr\": 0.0001,\n",
    "    \"x_shape\": [2, 256],\n",
    "    \"n_shot\": 3,\n",
    "    \"n_query\": 2,\n",
    "    \"train_k_factor\": 3,\n",
    "    \"val_k_factor\": 2,\n",
    "    \"test_k_factor\": 2,\n",
    "    \"torch_default_dtype\": \"torch.float32\",\n",
    "    \"n_epoch\": 50,\n",
    "    \"patience\": 3,\n",
    "    \"criteria_for_best\": \"target_accuracy\",\n",
    "    \"x_net\": [\n",
    "        {\"class\": \"nnReshape\", \"kargs\": {\"shape\": [-1, 1, 2, 256]}},\n",
    "        {\n",
    "            \"class\": \"Conv2d\",\n",
    "            \"kargs\": {\n",
    "                \"in_channels\": 1,\n",
    "                \"out_channels\": 256,\n",
    "                \"kernel_size\": [1, 7],\n",
    "                \"bias\": False,\n",
    "                \"padding\": [0, 3],\n",
    "            },\n",
    "        },\n",
    "        {\"class\": \"ReLU\", \"kargs\": {\"inplace\": True}},\n",
    "        {\"class\": \"BatchNorm2d\", \"kargs\": {\"num_features\": 256}},\n",
    "        {\n",
    "            \"class\": \"Conv2d\",\n",
    "            \"kargs\": {\n",
    "                \"in_channels\": 256,\n",
    "                \"out_channels\": 80,\n",
    "                \"kernel_size\": [2, 7],\n",
    "                \"bias\": True,\n",
    "                \"padding\": [0, 3],\n",
    "            },\n",
    "        },\n",
    "        {\"class\": \"ReLU\", \"kargs\": {\"inplace\": True}},\n",
    "        {\"class\": \"BatchNorm2d\", \"kargs\": {\"num_features\": 80}},\n",
    "        {\"class\": \"Flatten\", \"kargs\": {}},\n",
    "        {\"class\": \"Linear\", \"kargs\": {\"in_features\": 20480, \"out_features\": 256}},\n",
    "        {\"class\": \"ReLU\", \"kargs\": {\"inplace\": True}},\n",
    "        {\"class\": \"BatchNorm1d\", \"kargs\": {\"num_features\": 256}},\n",
    "        {\"class\": \"Linear\", \"kargs\": {\"in_features\": 256, \"out_features\": 256}},\n",
    "    ],\n",
    "    \"NUM_LOGS_PER_EPOCH\": 10,\n",
    "    \"BEST_MODEL_PATH\": \"./best_model.pth\",\n",
    "    \"n_way\": 16,\n",
    "    \"datasets\": [\n",
    "        {\n",
    "            \"labels\": [\n",
    "                \"1-10.\",\n",
    "                \"1-11.\",\n",
    "                \"1-15.\",\n",
    "                \"1-16.\",\n",
    "                \"1-17.\",\n",
    "                \"1-18.\",\n",
    "                \"1-19.\",\n",
    "                \"10-4.\",\n",
    "                \"10-7.\",\n",
    "                \"11-1.\",\n",
    "                \"11-14.\",\n",
    "                \"11-17.\",\n",
    "                \"11-20.\",\n",
    "                \"11-7.\",\n",
    "                \"13-20.\",\n",
    "                \"13-8.\",\n",
    "                \"14-10.\",\n",
    "                \"14-11.\",\n",
    "                \"14-14.\",\n",
    "                \"14-7.\",\n",
    "                \"15-1.\",\n",
    "                \"15-20.\",\n",
    "                \"16-1.\",\n",
    "                \"16-16.\",\n",
    "                \"17-10.\",\n",
    "                \"17-11.\",\n",
    "                \"17-2.\",\n",
    "                \"19-1.\",\n",
    "                \"19-16.\",\n",
    "                \"19-19.\",\n",
    "                \"19-20.\",\n",
    "                \"19-3.\",\n",
    "                \"2-10.\",\n",
    "                \"2-11.\",\n",
    "                \"2-17.\",\n",
    "                \"2-18.\",\n",
    "                \"2-20.\",\n",
    "                \"2-3.\",\n",
    "                \"2-4.\",\n",
    "                \"2-5.\",\n",
    "                \"2-6.\",\n",
    "                \"2-7.\",\n",
    "                \"2-8.\",\n",
    "                \"3-13.\",\n",
    "                \"3-18.\",\n",
    "                \"3-3.\",\n",
    "                \"4-1.\",\n",
    "                \"4-10.\",\n",
    "                \"4-11.\",\n",
    "                \"4-19.\",\n",
    "                \"5-5.\",\n",
    "                \"6-15.\",\n",
    "                \"7-10.\",\n",
    "                \"7-14.\",\n",
    "                \"8-18.\",\n",
    "                \"8-20.\",\n",
    "                \"8-3.\",\n",
    "                \"8-8.\",\n",
    "            ],\n",
    "            \"domains\": [1, 2, 3, 4, 5],\n",
    "            \"num_examples_per_domain_per_label\": -1,\n",
    "            \"pickle_path\": \"/root/csc500-main/datasets/cores.stratified_ds.2022A.pkl\",\n",
    "            \"source_or_target_dataset\": \"target\",\n",
    "            \"x_transforms\": [\"jitter_256_1\", \"lowpass_+/-10MHz\", \"take_200\"],\n",
    "            \"episode_transforms\": [],\n",
    "            \"domain_prefix\": \"C_\",\n",
    "        },\n",
    "        {\n",
    "            \"labels\": [\n",
    "                \"3123D52\",\n",
    "                \"3123D65\",\n",
    "                \"3123D79\",\n",
    "                \"3123D80\",\n",
    "                \"3123D54\",\n",
    "                \"3123D70\",\n",
    "                \"3123D7B\",\n",
    "                \"3123D89\",\n",
    "                \"3123D58\",\n",
    "                \"3123D76\",\n",
    "                \"3123D7D\",\n",
    "                \"3123EFE\",\n",
    "                \"3123D64\",\n",
    "                \"3123D78\",\n",
    "                \"3123D7E\",\n",
    "                \"3124E4A\",\n",
    "            ],\n",
    "            \"domains\": [32, 38, 8, 44, 14, 50, 20, 26],\n",
    "            \"num_examples_per_domain_per_label\": 2000,\n",
    "            \"pickle_path\": \"/root/csc500-main/datasets/oracle.Run1_framed_2000Examples_stratified_ds.2022A.pkl\",\n",
    "            \"source_or_target_dataset\": \"source\",\n",
    "            \"x_transforms\": [\"jitter_256_1\", \"take_200\", \"resample_20Msps_to_25Msps\"],\n",
    "            \"episode_transforms\": [],\n",
    "            \"domain_prefix\": \"O_\",\n",
    "        },\n",
    "    ],\n",
    "    \"seed\": 420,\n",
    "    \"dataset_seed\": 420,\n",
    "}\n"
   ]
  },
  {
   "cell_type": "code",
   "execution_count": 5,
   "id": "8fa1cc33",
   "metadata": {
    "execution": {
     "iopub.execute_input": "2022-03-28T04:00:58.952018Z",
     "iopub.status.busy": "2022-03-28T04:00:58.951333Z",
     "iopub.status.idle": "2022-03-28T04:00:58.977328Z",
     "shell.execute_reply": "2022-03-28T04:00:58.976518Z"
    },
    "papermill": {
     "duration": 0.052851,
     "end_time": "2022-03-28T04:00:58.977490",
     "exception": false,
     "start_time": "2022-03-28T04:00:58.924639",
     "status": "completed"
    },
    "tags": []
   },
   "outputs": [],
   "source": [
    "# Set this to True if you want to run this template directly\n",
    "STANDALONE = False\n",
    "if STANDALONE:\n",
    "    print(\"parameters not injected, running with standalone_parameters\")\n",
    "    parameters = standalone_parameters\n",
    "\n",
    "if not 'parameters' in locals() and not 'parameters' in globals():\n",
    "    raise Exception(\"Parameter injection failed\")\n",
    "\n",
    "#Use an easy dict for all the parameters\n",
    "p = EasyDict(parameters)\n",
    "\n",
    "if \"x_shape\" not in p:\n",
    "    p.x_shape = [2,256] # Default to this if we dont supply x_shape\n",
    "\n",
    "\n",
    "supplied_keys = set(p.keys())\n",
    "\n",
    "if  supplied_keys != required_parameters:\n",
    "    print(\"Parameters are incorrect\")\n",
    "    if len(supplied_keys - required_parameters)>0: print(\"Shouldn't have:\", str(supplied_keys - required_parameters))\n",
    "    if len(required_parameters - supplied_keys)>0: print(\"Need to have:\", str(required_parameters - supplied_keys))\n",
    "    raise RuntimeError(\"Parameters are incorrect\")"
   ]
  },
  {
   "cell_type": "code",
   "execution_count": 6,
   "id": "3a028d58",
   "metadata": {
    "execution": {
     "iopub.execute_input": "2022-03-28T04:00:59.030269Z",
     "iopub.status.busy": "2022-03-28T04:00:59.029899Z",
     "iopub.status.idle": "2022-03-28T04:00:59.054190Z",
     "shell.execute_reply": "2022-03-28T04:00:59.053487Z"
    },
    "papermill": {
     "duration": 0.048736,
     "end_time": "2022-03-28T04:00:59.054350",
     "exception": false,
     "start_time": "2022-03-28T04:00:59.005614",
     "status": "completed"
    },
    "tags": []
   },
   "outputs": [],
   "source": [
    "###################################\n",
    "# Set the RNGs and make it all deterministic\n",
    "###################################\n",
    "np.random.seed(p.seed)\n",
    "random.seed(p.seed)\n",
    "torch.manual_seed(p.seed)\n",
    "\n",
    "torch.use_deterministic_algorithms(True) "
   ]
  },
  {
   "cell_type": "code",
   "execution_count": 7,
   "id": "b691acf6",
   "metadata": {
    "execution": {
     "iopub.execute_input": "2022-03-28T04:00:59.105787Z",
     "iopub.status.busy": "2022-03-28T04:00:59.105413Z",
     "iopub.status.idle": "2022-03-28T04:00:59.131374Z",
     "shell.execute_reply": "2022-03-28T04:00:59.130570Z"
    },
    "papermill": {
     "duration": 0.04927,
     "end_time": "2022-03-28T04:00:59.131559",
     "exception": false,
     "start_time": "2022-03-28T04:00:59.082289",
     "status": "completed"
    },
    "tags": []
   },
   "outputs": [],
   "source": [
    "###########################################\n",
    "# The stratified datasets honor this\n",
    "###########################################\n",
    "torch.set_default_dtype(eval(p.torch_default_dtype))"
   ]
  },
  {
   "cell_type": "code",
   "execution_count": 8,
   "id": "b5fba671",
   "metadata": {
    "execution": {
     "iopub.execute_input": "2022-03-28T04:00:59.182594Z",
     "iopub.status.busy": "2022-03-28T04:00:59.182220Z",
     "iopub.status.idle": "2022-03-28T04:00:59.240414Z",
     "shell.execute_reply": "2022-03-28T04:00:59.239685Z"
    },
    "papermill": {
     "duration": 0.081529,
     "end_time": "2022-03-28T04:00:59.240577",
     "exception": false,
     "start_time": "2022-03-28T04:00:59.159048",
     "status": "completed"
    },
    "tags": []
   },
   "outputs": [],
   "source": [
    "###################################\n",
    "# Build the network(s)\n",
    "# Note: It's critical to do this AFTER setting the RNG\n",
    "###################################\n",
    "x_net = build_sequential(p.x_net)"
   ]
  },
  {
   "cell_type": "code",
   "execution_count": 9,
   "id": "5d7e61cc",
   "metadata": {
    "execution": {
     "iopub.execute_input": "2022-03-28T04:00:59.291044Z",
     "iopub.status.busy": "2022-03-28T04:00:59.290675Z",
     "iopub.status.idle": "2022-03-28T04:00:59.311715Z",
     "shell.execute_reply": "2022-03-28T04:00:59.310948Z"
    },
    "papermill": {
     "duration": 0.044157,
     "end_time": "2022-03-28T04:00:59.311873",
     "exception": false,
     "start_time": "2022-03-28T04:00:59.267716",
     "status": "completed"
    },
    "tags": []
   },
   "outputs": [],
   "source": [
    "start_time_secs = time.time()"
   ]
  },
  {
   "cell_type": "code",
   "execution_count": 10,
   "id": "c6b67dfd",
   "metadata": {
    "execution": {
     "iopub.execute_input": "2022-03-28T04:00:59.363964Z",
     "iopub.status.busy": "2022-03-28T04:00:59.363591Z",
     "iopub.status.idle": "2022-03-28T04:00:59.388093Z",
     "shell.execute_reply": "2022-03-28T04:00:59.387272Z"
    },
    "papermill": {
     "duration": 0.049126,
     "end_time": "2022-03-28T04:00:59.388255",
     "exception": false,
     "start_time": "2022-03-28T04:00:59.339129",
     "status": "completed"
    },
    "tags": []
   },
   "outputs": [],
   "source": [
    "p.domains_source = []\n",
    "p.domains_target = []\n",
    "\n",
    "\n",
    "train_original_source = []\n",
    "val_original_source   = []\n",
    "test_original_source  = []\n",
    "\n",
    "train_original_target = []\n",
    "val_original_target   = []\n",
    "test_original_target  = []"
   ]
  },
  {
   "cell_type": "code",
   "execution_count": 11,
   "id": "e3d9c3d3",
   "metadata": {
    "execution": {
     "iopub.execute_input": "2022-03-28T04:00:59.437779Z",
     "iopub.status.busy": "2022-03-28T04:00:59.437401Z",
     "iopub.status.idle": "2022-03-28T04:00:59.457381Z",
     "shell.execute_reply": "2022-03-28T04:00:59.456619Z"
    },
    "papermill": {
     "duration": 0.042468,
     "end_time": "2022-03-28T04:00:59.457547",
     "exception": false,
     "start_time": "2022-03-28T04:00:59.415079",
     "status": "completed"
    },
    "tags": []
   },
   "outputs": [],
   "source": [
    "# global_x_transform_func = lambda x: normalize(x.to(torch.get_default_dtype()), \"unit_power\") # unit_power, unit_mag\n",
    "# global_x_transform_func = lambda x: normalize(x, \"unit_power\") # unit_power, unit_mag"
   ]
  },
  {
   "cell_type": "code",
   "execution_count": 12,
   "id": "acb78fd2",
   "metadata": {
    "execution": {
     "iopub.execute_input": "2022-03-28T04:00:59.515917Z",
     "iopub.status.busy": "2022-03-28T04:00:59.515059Z",
     "iopub.status.idle": "2022-03-28T04:00:59.536075Z",
     "shell.execute_reply": "2022-03-28T04:00:59.536755Z"
    },
    "papermill": {
     "duration": 0.051669,
     "end_time": "2022-03-28T04:00:59.536943",
     "exception": false,
     "start_time": "2022-03-28T04:00:59.485274",
     "status": "completed"
    },
    "tags": []
   },
   "outputs": [],
   "source": [
    "def add_dataset(\n",
    "    labels,\n",
    "    domains,\n",
    "    pickle_path,\n",
    "    x_transforms,\n",
    "    episode_transforms,\n",
    "    domain_prefix,\n",
    "    num_examples_per_domain_per_label,\n",
    "    source_or_target_dataset:str,\n",
    "    iterator_seed=p.seed,\n",
    "    dataset_seed=p.dataset_seed,\n",
    "    n_shot=p.n_shot,\n",
    "    n_way=p.n_way,\n",
    "    n_query=p.n_query,\n",
    "    train_val_test_k_factors=(p.train_k_factor,p.val_k_factor,p.test_k_factor),\n",
    "):\n",
    "   \n",
    "    if x_transforms == []: x_transform = None\n",
    "    else: x_transform = get_chained_transform(x_transforms)\n",
    "    \n",
    "    if episode_transforms == []: episode_transform = None\n",
    "    else: raise Exception(\"episode_transforms not implemented\")\n",
    "    \n",
    "    episode_transform = lambda tup, _prefix=domain_prefix: (_prefix + str(tup[0]), tup[1])\n",
    "\n",
    "\n",
    "    eaf = Episodic_Accessor_Factory(\n",
    "        labels=labels,\n",
    "        domains=domains,\n",
    "        num_examples_per_domain_per_label=num_examples_per_domain_per_label,\n",
    "        iterator_seed=iterator_seed,\n",
    "        dataset_seed=dataset_seed,\n",
    "        n_shot=n_shot,\n",
    "        n_way=n_way,\n",
    "        n_query=n_query,\n",
    "        train_val_test_k_factors=train_val_test_k_factors,\n",
    "        pickle_path=pickle_path,\n",
    "        x_transform_func=x_transform,\n",
    "    )\n",
    "\n",
    "    train, val, test = eaf.get_train(), eaf.get_val(), eaf.get_test()\n",
    "    train = Lazy_Iterable_Wrapper(train, episode_transform)\n",
    "    val = Lazy_Iterable_Wrapper(val, episode_transform)\n",
    "    test = Lazy_Iterable_Wrapper(test, episode_transform)\n",
    "\n",
    "    if source_or_target_dataset==\"source\":\n",
    "        train_original_source.append(train)\n",
    "        val_original_source.append(val)\n",
    "        test_original_source.append(test)\n",
    "\n",
    "        p.domains_source.extend(\n",
    "            [domain_prefix + str(u) for u in domains]\n",
    "        )\n",
    "    elif source_or_target_dataset==\"target\":\n",
    "        train_original_target.append(train)\n",
    "        val_original_target.append(val)\n",
    "        test_original_target.append(test)\n",
    "        p.domains_target.extend(\n",
    "            [domain_prefix + str(u) for u in domains]\n",
    "        )\n",
    "    else:\n",
    "        raise Exception(f\"invalid source_or_target_dataset: {source_or_target_dataset}\")\n",
    "    "
   ]
  },
  {
   "cell_type": "code",
   "execution_count": 13,
   "id": "fe266617",
   "metadata": {
    "execution": {
     "iopub.execute_input": "2022-03-28T04:00:59.590184Z",
     "iopub.status.busy": "2022-03-28T04:00:59.589814Z",
     "iopub.status.idle": "2022-03-28T04:02:04.368017Z",
     "shell.execute_reply": "2022-03-28T04:02:04.367239Z"
    },
    "papermill": {
     "duration": 64.801346,
     "end_time": "2022-03-28T04:02:04.368213",
     "exception": false,
     "start_time": "2022-03-28T04:00:59.566867",
     "status": "completed"
    },
    "tags": []
   },
   "outputs": [],
   "source": [
    "for ds in p.datasets:\n",
    "    add_dataset(**ds)"
   ]
  },
  {
   "cell_type": "code",
   "execution_count": 14,
   "id": "b90d65ac",
   "metadata": {
    "execution": {
     "iopub.execute_input": "2022-03-28T04:02:04.430348Z",
     "iopub.status.busy": "2022-03-28T04:02:04.429964Z",
     "iopub.status.idle": "2022-03-28T04:02:04.452485Z",
     "shell.execute_reply": "2022-03-28T04:02:04.451680Z"
    },
    "papermill": {
     "duration": 0.048347,
     "end_time": "2022-03-28T04:02:04.452648",
     "exception": false,
     "start_time": "2022-03-28T04:02:04.404301",
     "status": "completed"
    },
    "tags": []
   },
   "outputs": [],
   "source": [
    "# from steves_utils.CORES.utils import (\n",
    "#     ALL_NODES,\n",
    "#     ALL_NODES_MINIMUM_1000_EXAMPLES,\n",
    "#     ALL_DAYS\n",
    "# )\n",
    "\n",
    "# add_dataset(\n",
    "#     labels=ALL_NODES,\n",
    "#     domains = ALL_DAYS,\n",
    "#     num_examples_per_domain_per_label=100,\n",
    "#     pickle_path=os.path.join(get_datasets_base_path(), \"cores.stratified_ds.2022A.pkl\"),\n",
    "#     source_or_target_dataset=\"target\",\n",
    "#     x_transform_func=global_x_transform_func,\n",
    "#     domain_modifier=lambda u: f\"cores_{u}\"\n",
    "# )"
   ]
  },
  {
   "cell_type": "code",
   "execution_count": 15,
   "id": "76db484d",
   "metadata": {
    "execution": {
     "iopub.execute_input": "2022-03-28T04:02:04.506033Z",
     "iopub.status.busy": "2022-03-28T04:02:04.505654Z",
     "iopub.status.idle": "2022-03-28T04:02:04.521532Z",
     "shell.execute_reply": "2022-03-28T04:02:04.522193Z"
    },
    "papermill": {
     "duration": 0.039991,
     "end_time": "2022-03-28T04:02:04.522385",
     "exception": false,
     "start_time": "2022-03-28T04:02:04.482394",
     "status": "completed"
    },
    "tags": []
   },
   "outputs": [],
   "source": [
    "# from steves_utils.ORACLE.utils_v2 import (\n",
    "#     ALL_DISTANCES_FEET,\n",
    "#     ALL_RUNS,\n",
    "#     ALL_SERIAL_NUMBERS,\n",
    "# )\n",
    "\n",
    "\n",
    "# add_dataset(\n",
    "#     labels=ALL_SERIAL_NUMBERS,\n",
    "#     domains = list(set(ALL_DISTANCES_FEET) - {2,62}),\n",
    "#     num_examples_per_domain_per_label=100,\n",
    "#     pickle_path=os.path.join(get_datasets_base_path(), \"oracle.Run2_framed_2000Examples_stratified_ds.2022A.pkl\"),\n",
    "#     source_or_target_dataset=\"source\",\n",
    "#     x_transform_func=global_x_transform_func,\n",
    "#     domain_modifier=lambda u: f\"oracle1_{u}\"\n",
    "# )\n"
   ]
  },
  {
   "cell_type": "code",
   "execution_count": 16,
   "id": "97dea9d2",
   "metadata": {
    "execution": {
     "iopub.execute_input": "2022-03-28T04:02:04.573255Z",
     "iopub.status.busy": "2022-03-28T04:02:04.572879Z",
     "iopub.status.idle": "2022-03-28T04:02:04.590831Z",
     "shell.execute_reply": "2022-03-28T04:02:04.591492Z"
    },
    "papermill": {
     "duration": 0.042393,
     "end_time": "2022-03-28T04:02:04.591708",
     "exception": false,
     "start_time": "2022-03-28T04:02:04.549315",
     "status": "completed"
    },
    "tags": []
   },
   "outputs": [],
   "source": [
    "# from steves_utils.ORACLE.utils_v2 import (\n",
    "#     ALL_DISTANCES_FEET,\n",
    "#     ALL_RUNS,\n",
    "#     ALL_SERIAL_NUMBERS,\n",
    "# )\n",
    "\n",
    "\n",
    "# add_dataset(\n",
    "#     labels=ALL_SERIAL_NUMBERS,\n",
    "#     domains = list(set(ALL_DISTANCES_FEET) - {2,62,56}),\n",
    "#     num_examples_per_domain_per_label=100,\n",
    "#     pickle_path=os.path.join(get_datasets_base_path(), \"oracle.Run2_framed_2000Examples_stratified_ds.2022A.pkl\"),\n",
    "#     source_or_target_dataset=\"source\",\n",
    "#     x_transform_func=global_x_transform_func,\n",
    "#     domain_modifier=lambda u: f\"oracle2_{u}\"\n",
    "# )"
   ]
  },
  {
   "cell_type": "code",
   "execution_count": 17,
   "id": "6f289866",
   "metadata": {
    "execution": {
     "iopub.execute_input": "2022-03-28T04:02:04.641920Z",
     "iopub.status.busy": "2022-03-28T04:02:04.641528Z",
     "iopub.status.idle": "2022-03-28T04:02:04.657446Z",
     "shell.execute_reply": "2022-03-28T04:02:04.656734Z"
    },
    "papermill": {
     "duration": 0.039894,
     "end_time": "2022-03-28T04:02:04.657605",
     "exception": false,
     "start_time": "2022-03-28T04:02:04.617711",
     "status": "completed"
    },
    "tags": []
   },
   "outputs": [],
   "source": [
    "# add_dataset(\n",
    "#     labels=list(range(19)),\n",
    "#     domains = [0,1,2],\n",
    "#     num_examples_per_domain_per_label=100,\n",
    "#     pickle_path=os.path.join(get_datasets_base_path(), \"metehan.stratified_ds.2022A.pkl\"),\n",
    "#     source_or_target_dataset=\"target\",\n",
    "#     x_transform_func=global_x_transform_func,\n",
    "#     domain_modifier=lambda u: f\"met_{u}\"\n",
    "# )"
   ]
  },
  {
   "cell_type": "code",
   "execution_count": 18,
   "id": "86a863c3",
   "metadata": {
    "execution": {
     "iopub.execute_input": "2022-03-28T04:02:04.711572Z",
     "iopub.status.busy": "2022-03-28T04:02:04.711179Z",
     "iopub.status.idle": "2022-03-28T04:02:04.732504Z",
     "shell.execute_reply": "2022-03-28T04:02:04.731778Z"
    },
    "papermill": {
     "duration": 0.045613,
     "end_time": "2022-03-28T04:02:04.732668",
     "exception": false,
     "start_time": "2022-03-28T04:02:04.687055",
     "status": "completed"
    },
    "tags": []
   },
   "outputs": [],
   "source": [
    "# # from steves_utils.wisig.utils import (\n",
    "# #     ALL_NODES_MINIMUM_100_EXAMPLES,\n",
    "# #     ALL_NODES_MINIMUM_500_EXAMPLES,\n",
    "# #     ALL_NODES_MINIMUM_1000_EXAMPLES,\n",
    "# #     ALL_DAYS\n",
    "# # )\n",
    "\n",
    "# import steves_utils.wisig.utils as wisig\n",
    "\n",
    "\n",
    "# add_dataset(\n",
    "#     labels=wisig.ALL_NODES_MINIMUM_100_EXAMPLES,\n",
    "#     domains = wisig.ALL_DAYS,\n",
    "#     num_examples_per_domain_per_label=100,\n",
    "#     pickle_path=os.path.join(get_datasets_base_path(), \"wisig.node3-19.stratified_ds.2022A.pkl\"),\n",
    "#     source_or_target_dataset=\"target\",\n",
    "#     x_transform_func=global_x_transform_func,\n",
    "#     domain_modifier=lambda u: f\"wisig_{u}\"\n",
    "# )"
   ]
  },
  {
   "cell_type": "code",
   "execution_count": 19,
   "id": "fd5442bc",
   "metadata": {
    "execution": {
     "iopub.execute_input": "2022-03-28T04:02:04.787076Z",
     "iopub.status.busy": "2022-03-28T04:02:04.786416Z",
     "iopub.status.idle": "2022-03-28T04:02:04.805948Z",
     "shell.execute_reply": "2022-03-28T04:02:04.805255Z"
    },
    "papermill": {
     "duration": 0.045946,
     "end_time": "2022-03-28T04:02:04.806101",
     "exception": false,
     "start_time": "2022-03-28T04:02:04.760155",
     "status": "completed"
    },
    "tags": []
   },
   "outputs": [],
   "source": [
    "###################################\n",
    "# Build the dataset\n",
    "###################################\n",
    "train_original_source = Iterable_Aggregator(train_original_source, p.seed)\n",
    "val_original_source = Iterable_Aggregator(val_original_source, p.seed)\n",
    "test_original_source = Iterable_Aggregator(test_original_source, p.seed)\n",
    "\n",
    "\n",
    "train_original_target = Iterable_Aggregator(train_original_target, p.seed)\n",
    "val_original_target = Iterable_Aggregator(val_original_target, p.seed)\n",
    "test_original_target = Iterable_Aggregator(test_original_target, p.seed)\n",
    "\n",
    "# For CNN We only use X and Y. And we only train on the source.\n",
    "# Properly form the data using a transform lambda and Lazy_Iterable_Wrapper. Finally wrap them in a dataloader\n",
    "\n",
    "transform_lambda = lambda ex: ex[1] # Original is (<domain>, <episode>) so we strip down to episode only\n",
    "\n",
    "train_processed_source = Lazy_Iterable_Wrapper(train_original_source, transform_lambda)\n",
    "val_processed_source   = Lazy_Iterable_Wrapper(val_original_source, transform_lambda)\n",
    "test_processed_source  = Lazy_Iterable_Wrapper(test_original_source, transform_lambda)\n",
    "\n",
    "train_processed_target = Lazy_Iterable_Wrapper(train_original_target, transform_lambda)\n",
    "val_processed_target   = Lazy_Iterable_Wrapper(val_original_target, transform_lambda)\n",
    "test_processed_target  = Lazy_Iterable_Wrapper(test_original_target, transform_lambda)\n",
    "\n",
    "datasets = EasyDict({\n",
    "    \"source\": {\n",
    "        \"original\": {\"train\":train_original_source, \"val\":val_original_source, \"test\":test_original_source},\n",
    "        \"processed\": {\"train\":train_processed_source, \"val\":val_processed_source, \"test\":test_processed_source}\n",
    "    },\n",
    "    \"target\": {\n",
    "        \"original\": {\"train\":train_original_target, \"val\":val_original_target, \"test\":test_original_target},\n",
    "        \"processed\": {\"train\":train_processed_target, \"val\":val_processed_target, \"test\":test_processed_target}\n",
    "    },\n",
    "})"
   ]
  },
  {
   "cell_type": "code",
   "execution_count": 20,
   "id": "5b3c01fc",
   "metadata": {
    "execution": {
     "iopub.execute_input": "2022-03-28T04:02:04.858489Z",
     "iopub.status.busy": "2022-03-28T04:02:04.857846Z",
     "iopub.status.idle": "2022-03-28T04:02:20.503628Z",
     "shell.execute_reply": "2022-03-28T04:02:20.502737Z"
    },
    "papermill": {
     "duration": 15.671168,
     "end_time": "2022-03-28T04:02:20.503804",
     "exception": false,
     "start_time": "2022-03-28T04:02:04.832636",
     "status": "completed"
    },
    "tags": []
   },
   "outputs": [
    {
     "name": "stdout",
     "output_type": "stream",
     "text": [
      "{'O_32', 'O_26', 'O_38', 'O_44', 'O_14', 'O_8', 'O_20', 'O_50'}\n"
     ]
    },
    {
     "name": "stdout",
     "output_type": "stream",
     "text": [
      "{'C_3', 'C_4', 'C_1', 'C_2', 'C_5'}\n"
     ]
    },
    {
     "name": "stdout",
     "output_type": "stream",
     "text": [
      "tensor([[[0., 0., 0.,  ..., 0., 0., 0.],\n",
      "         [0., 0., 0.,  ..., 0., 0., 0.]],\n",
      "\n",
      "        [[0., 0., 0.,  ..., 0., 0., 0.],\n",
      "         [0., 0., 0.,  ..., 0., 0., 0.]],\n",
      "\n",
      "        [[0., 0., 0.,  ..., 0., 0., 0.],\n",
      "         [0., 0., 0.,  ..., 0., 0., 0.]],\n",
      "\n",
      "        ...,\n",
      "\n",
      "        [[0., 0., 0.,  ..., 0., 0., 0.],\n",
      "         [0., 0., 0.,  ..., 0., 0., 0.]],\n",
      "\n",
      "        [[0., 0., 0.,  ..., 0., 0., 0.],\n",
      "         [0., 0., 0.,  ..., 0., 0., 0.]],\n",
      "\n",
      "        [[0., 0., 0.,  ..., 0., 0., 0.],\n",
      "         [0., 0., 0.,  ..., 0., 0., 0.]]])\n"
     ]
    }
   ],
   "source": [
    "from steves_utils.transforms import get_average_magnitude, get_average_power\n",
    "\n",
    "print(set([u for u,_ in val_original_source]))\n",
    "print(set([u for u,_ in val_original_target]))\n",
    "\n",
    "s_x, s_y, q_x, q_y, _ = next(iter(train_processed_source))\n",
    "print(s_x)\n",
    "\n",
    "# for ds in [\n",
    "#     train_processed_source,\n",
    "#     val_processed_source,\n",
    "#     test_processed_source,\n",
    "#     train_processed_target,\n",
    "#     val_processed_target,\n",
    "#     test_processed_target\n",
    "# ]:\n",
    "#     for s_x, s_y, q_x, q_y, _ in ds:\n",
    "#         for X in (s_x, q_x):\n",
    "#             for x in X:\n",
    "#                 assert np.isclose(get_average_magnitude(x.numpy()), 1.0)\n",
    "#                 assert np.isclose(get_average_power(x.numpy()), 1.0)\n",
    "                "
   ]
  },
  {
   "cell_type": "code",
   "execution_count": 21,
   "id": "bbdacba1",
   "metadata": {
    "execution": {
     "iopub.execute_input": "2022-03-28T04:02:20.562168Z",
     "iopub.status.busy": "2022-03-28T04:02:20.561528Z",
     "iopub.status.idle": "2022-03-28T04:02:20.779442Z",
     "shell.execute_reply": "2022-03-28T04:02:20.779011Z"
    },
    "papermill": {
     "duration": 0.247789,
     "end_time": "2022-03-28T04:02:20.779560",
     "exception": false,
     "start_time": "2022-03-28T04:02:20.531771",
     "status": "completed"
    },
    "tags": []
   },
   "outputs": [
    {
     "name": "stdout",
     "output_type": "stream",
     "text": [
      "(2, 256)\n"
     ]
    }
   ],
   "source": [
    "###################################\n",
    "# Build the model\n",
    "###################################\n",
    "# easfsl only wants a tuple for the shape\n",
    "model = Steves_Prototypical_Network(x_net, device=p.device, x_shape=tuple(p.x_shape))\n",
    "optimizer = Adam(params=model.parameters(), lr=p.lr)"
   ]
  },
  {
   "cell_type": "code",
   "execution_count": 22,
   "id": "22b39ac5",
   "metadata": {
    "execution": {
     "iopub.execute_input": "2022-03-28T04:02:20.828817Z",
     "iopub.status.busy": "2022-03-28T04:02:20.828440Z",
     "iopub.status.idle": "2022-03-28T04:28:51.551313Z",
     "shell.execute_reply": "2022-03-28T04:28:51.550972Z"
    },
    "papermill": {
     "duration": 1590.748933,
     "end_time": "2022-03-28T04:28:51.551400",
     "exception": false,
     "start_time": "2022-03-28T04:02:20.802467",
     "status": "completed"
    },
    "tags": []
   },
   "outputs": [
    {
     "name": "stdout",
     "output_type": "stream",
     "text": [
      "epoch: 1, [batch: 1 / 6720], examples_per_second: 33.2995, train_label_loss: 2.7694, \n"
     ]
    },
    {
     "name": "stdout",
     "output_type": "stream",
     "text": [
      "epoch: 1, [batch: 672 / 6720], examples_per_second: 4571.6948, train_label_loss: 0.6389, \n"
     ]
    },
    {
     "name": "stdout",
     "output_type": "stream",
     "text": [
      "epoch: 1, [batch: 1344 / 6720], examples_per_second: 3826.9630, train_label_loss: 0.5421, \n"
     ]
    },
    {
     "name": "stdout",
     "output_type": "stream",
     "text": [
      "epoch: 1, [batch: 2016 / 6720], examples_per_second: 2102.5806, train_label_loss: 0.7737, \n"
     ]
    },
    {
     "name": "stdout",
     "output_type": "stream",
     "text": [
      "epoch: 1, [batch: 2688 / 6720], examples_per_second: 1736.8397, train_label_loss: 0.8304, \n"
     ]
    },
    {
     "name": "stdout",
     "output_type": "stream",
     "text": [
      "epoch: 1, [batch: 3360 / 6720], examples_per_second: 1801.6298, train_label_loss: 0.3634, \n"
     ]
    },
    {
     "name": "stdout",
     "output_type": "stream",
     "text": [
      "epoch: 1, [batch: 4032 / 6720], examples_per_second: 1734.7881, train_label_loss: 0.2705, \n"
     ]
    },
    {
     "name": "stdout",
     "output_type": "stream",
     "text": [
      "epoch: 1, [batch: 4704 / 6720], examples_per_second: 1773.5815, train_label_loss: 0.5720, \n"
     ]
    },
    {
     "name": "stdout",
     "output_type": "stream",
     "text": [
      "epoch: 1, [batch: 5376 / 6720], examples_per_second: 1741.0200, train_label_loss: 0.3143, \n"
     ]
    },
    {
     "name": "stdout",
     "output_type": "stream",
     "text": [
      "epoch: 1, [batch: 6048 / 6720], examples_per_second: 1796.2400, train_label_loss: 0.3736, \n"
     ]
    },
    {
     "name": "stdout",
     "output_type": "stream",
     "text": [
      "=============================================================\n",
      "epoch: 1, source_val_acc_label: 0.6868, target_val_acc_label: 0.7589, source_val_label_loss: 25.0010, target_val_label_loss: 1629.6119, \n",
      "=============================================================\n"
     ]
    },
    {
     "name": "stdout",
     "output_type": "stream",
     "text": [
      "New best\n"
     ]
    },
    {
     "name": "stdout",
     "output_type": "stream",
     "text": [
      "epoch: 2, [batch: 1 / 6720], examples_per_second: 1.5570, train_label_loss: 0.4599, \n"
     ]
    },
    {
     "name": "stdout",
     "output_type": "stream",
     "text": [
      "epoch: 2, [batch: 672 / 6720], examples_per_second: 1928.7004, train_label_loss: 0.3736, \n"
     ]
    },
    {
     "name": "stdout",
     "output_type": "stream",
     "text": [
      "epoch: 2, [batch: 1344 / 6720], examples_per_second: 1792.0800, train_label_loss: 0.4653, \n"
     ]
    },
    {
     "name": "stdout",
     "output_type": "stream",
     "text": [
      "epoch: 2, [batch: 2016 / 6720], examples_per_second: 1765.3553, train_label_loss: 0.3533, \n"
     ]
    },
    {
     "name": "stdout",
     "output_type": "stream",
     "text": [
      "epoch: 2, [batch: 2688 / 6720], examples_per_second: 1765.6392, train_label_loss: 0.5216, \n"
     ]
    },
    {
     "name": "stdout",
     "output_type": "stream",
     "text": [
      "epoch: 2, [batch: 3360 / 6720], examples_per_second: 1800.7786, train_label_loss: 0.4490, \n"
     ]
    },
    {
     "name": "stdout",
     "output_type": "stream",
     "text": [
      "epoch: 2, [batch: 4032 / 6720], examples_per_second: 1731.2932, train_label_loss: 0.5245, \n"
     ]
    },
    {
     "name": "stdout",
     "output_type": "stream",
     "text": [
      "epoch: 2, [batch: 4704 / 6720], examples_per_second: 1801.4596, train_label_loss: 0.4929, \n"
     ]
    },
    {
     "name": "stdout",
     "output_type": "stream",
     "text": [
      "epoch: 2, [batch: 5376 / 6720], examples_per_second: 2066.4731, train_label_loss: 1.8468, \n"
     ]
    },
    {
     "name": "stdout",
     "output_type": "stream",
     "text": [
      "epoch: 2, [batch: 6048 / 6720], examples_per_second: 3719.1856, train_label_loss: 0.3115, \n"
     ]
    },
    {
     "name": "stdout",
     "output_type": "stream",
     "text": [
      "=============================================================\n",
      "epoch: 2, source_val_acc_label: 0.8561, target_val_acc_label: 0.7376, source_val_label_loss: 0.4228, target_val_label_loss: 1102.1788, \n",
      "=============================================================\n"
     ]
    },
    {
     "name": "stdout",
     "output_type": "stream",
     "text": [
      "epoch: 3, [batch: 1 / 6720], examples_per_second: 2.4985, train_label_loss: 0.3129, \n"
     ]
    },
    {
     "name": "stdout",
     "output_type": "stream",
     "text": [
      "epoch: 3, [batch: 672 / 6720], examples_per_second: 2073.0973, train_label_loss: 0.3372, \n"
     ]
    },
    {
     "name": "stdout",
     "output_type": "stream",
     "text": [
      "epoch: 3, [batch: 1344 / 6720], examples_per_second: 1733.3655, train_label_loss: 0.6086, \n"
     ]
    },
    {
     "name": "stdout",
     "output_type": "stream",
     "text": [
      "epoch: 3, [batch: 2016 / 6720], examples_per_second: 1793.6181, train_label_loss: 0.4177, \n"
     ]
    },
    {
     "name": "stdout",
     "output_type": "stream",
     "text": [
      "epoch: 3, [batch: 2688 / 6720], examples_per_second: 1719.5289, train_label_loss: 0.5874, \n"
     ]
    },
    {
     "name": "stdout",
     "output_type": "stream",
     "text": [
      "epoch: 3, [batch: 3360 / 6720], examples_per_second: 1821.0558, train_label_loss: 0.5613, \n"
     ]
    },
    {
     "name": "stdout",
     "output_type": "stream",
     "text": [
      "epoch: 3, [batch: 4032 / 6720], examples_per_second: 1730.6666, train_label_loss: 0.5457, \n"
     ]
    },
    {
     "name": "stdout",
     "output_type": "stream",
     "text": [
      "epoch: 3, [batch: 4704 / 6720], examples_per_second: 1806.3694, train_label_loss: 0.8190, \n"
     ]
    },
    {
     "name": "stdout",
     "output_type": "stream",
     "text": [
      "epoch: 3, [batch: 5376 / 6720], examples_per_second: 2302.8572, train_label_loss: 0.2047, \n"
     ]
    },
    {
     "name": "stdout",
     "output_type": "stream",
     "text": [
      "epoch: 3, [batch: 6048 / 6720], examples_per_second: 3856.4044, train_label_loss: 0.4546, \n"
     ]
    },
    {
     "name": "stdout",
     "output_type": "stream",
     "text": [
      "=============================================================\n",
      "epoch: 3, source_val_acc_label: 0.8568, target_val_acc_label: 0.8179, source_val_label_loss: 0.4185, target_val_label_loss: 685.1791, \n",
      "=============================================================\n"
     ]
    },
    {
     "name": "stdout",
     "output_type": "stream",
     "text": [
      "New best\n"
     ]
    },
    {
     "name": "stdout",
     "output_type": "stream",
     "text": [
      "epoch: 4, [batch: 1 / 6720], examples_per_second: 4.1061, train_label_loss: 0.2133, \n"
     ]
    },
    {
     "name": "stdout",
     "output_type": "stream",
     "text": [
      "epoch: 4, [batch: 672 / 6720], examples_per_second: 4320.3893, train_label_loss: 0.4442, \n"
     ]
    },
    {
     "name": "stdout",
     "output_type": "stream",
     "text": [
      "epoch: 4, [batch: 1344 / 6720], examples_per_second: 3899.5168, train_label_loss: 0.2158, \n"
     ]
    },
    {
     "name": "stdout",
     "output_type": "stream",
     "text": [
      "epoch: 4, [batch: 2016 / 6720], examples_per_second: 3915.7355, train_label_loss: 0.2876, \n"
     ]
    },
    {
     "name": "stdout",
     "output_type": "stream",
     "text": [
      "epoch: 4, [batch: 2688 / 6720], examples_per_second: 3788.9352, train_label_loss: 0.4319, \n"
     ]
    },
    {
     "name": "stdout",
     "output_type": "stream",
     "text": [
      "epoch: 4, [batch: 3360 / 6720], examples_per_second: 3798.5555, train_label_loss: 0.3963, \n"
     ]
    },
    {
     "name": "stdout",
     "output_type": "stream",
     "text": [
      "epoch: 4, [batch: 4032 / 6720], examples_per_second: 3901.7245, train_label_loss: 0.2999, \n"
     ]
    },
    {
     "name": "stdout",
     "output_type": "stream",
     "text": [
      "epoch: 4, [batch: 4704 / 6720], examples_per_second: 3868.7481, train_label_loss: 0.4809, \n"
     ]
    },
    {
     "name": "stdout",
     "output_type": "stream",
     "text": [
      "epoch: 4, [batch: 5376 / 6720], examples_per_second: 3854.1253, train_label_loss: 0.3691, \n"
     ]
    },
    {
     "name": "stdout",
     "output_type": "stream",
     "text": [
      "epoch: 4, [batch: 6048 / 6720], examples_per_second: 3808.7081, train_label_loss: 0.1560, \n"
     ]
    },
    {
     "name": "stdout",
     "output_type": "stream",
     "text": [
      "=============================================================\n",
      "epoch: 4, source_val_acc_label: 0.8720, target_val_acc_label: 0.7801, source_val_label_loss: 0.3626, target_val_label_loss: 892.0211, \n",
      "=============================================================\n"
     ]
    },
    {
     "name": "stdout",
     "output_type": "stream",
     "text": [
      "epoch: 5, [batch: 1 / 6720], examples_per_second: 4.0970, train_label_loss: 0.4662, \n"
     ]
    },
    {
     "name": "stdout",
     "output_type": "stream",
     "text": [
      "epoch: 5, [batch: 672 / 6720], examples_per_second: 4169.7421, train_label_loss: 0.5287, \n"
     ]
    },
    {
     "name": "stdout",
     "output_type": "stream",
     "text": [
      "epoch: 5, [batch: 1344 / 6720], examples_per_second: 3769.1455, train_label_loss: 0.2583, \n"
     ]
    },
    {
     "name": "stdout",
     "output_type": "stream",
     "text": [
      "epoch: 5, [batch: 2016 / 6720], examples_per_second: 3826.3817, train_label_loss: 0.1927, \n"
     ]
    },
    {
     "name": "stdout",
     "output_type": "stream",
     "text": [
      "epoch: 5, [batch: 2688 / 6720], examples_per_second: 3764.8916, train_label_loss: 0.3243, \n"
     ]
    },
    {
     "name": "stdout",
     "output_type": "stream",
     "text": [
      "epoch: 5, [batch: 3360 / 6720], examples_per_second: 3890.6678, train_label_loss: 0.2655, \n"
     ]
    },
    {
     "name": "stdout",
     "output_type": "stream",
     "text": [
      "epoch: 5, [batch: 4032 / 6720], examples_per_second: 3803.7981, train_label_loss: 0.5714, \n"
     ]
    },
    {
     "name": "stdout",
     "output_type": "stream",
     "text": [
      "epoch: 5, [batch: 4704 / 6720], examples_per_second: 3769.7152, train_label_loss: 0.3021, \n"
     ]
    },
    {
     "name": "stdout",
     "output_type": "stream",
     "text": [
      "epoch: 5, [batch: 5376 / 6720], examples_per_second: 3817.3357, train_label_loss: 0.3505, \n"
     ]
    },
    {
     "name": "stdout",
     "output_type": "stream",
     "text": [
      "epoch: 5, [batch: 6048 / 6720], examples_per_second: 3896.0354, train_label_loss: 0.5207, \n"
     ]
    },
    {
     "name": "stdout",
     "output_type": "stream",
     "text": [
      "=============================================================\n",
      "epoch: 5, source_val_acc_label: 0.8827, target_val_acc_label: 0.8048, source_val_label_loss: 0.3415, target_val_label_loss: 1088.0361, \n",
      "=============================================================\n"
     ]
    },
    {
     "name": "stdout",
     "output_type": "stream",
     "text": [
      "epoch: 6, [batch: 1 / 6720], examples_per_second: 4.1702, train_label_loss: 0.3038, \n"
     ]
    },
    {
     "name": "stdout",
     "output_type": "stream",
     "text": [
      "epoch: 6, [batch: 672 / 6720], examples_per_second: 3962.2486, train_label_loss: 0.2496, \n"
     ]
    },
    {
     "name": "stdout",
     "output_type": "stream",
     "text": [
      "epoch: 6, [batch: 1344 / 6720], examples_per_second: 3795.3215, train_label_loss: 0.5016, \n"
     ]
    },
    {
     "name": "stdout",
     "output_type": "stream",
     "text": [
      "epoch: 6, [batch: 2016 / 6720], examples_per_second: 3740.6750, train_label_loss: 0.4034, \n"
     ]
    },
    {
     "name": "stdout",
     "output_type": "stream",
     "text": [
      "epoch: 6, [batch: 2688 / 6720], examples_per_second: 3721.3481, train_label_loss: 0.2516, \n"
     ]
    },
    {
     "name": "stdout",
     "output_type": "stream",
     "text": [
      "epoch: 6, [batch: 3360 / 6720], examples_per_second: 3789.1162, train_label_loss: 0.1527, \n"
     ]
    },
    {
     "name": "stdout",
     "output_type": "stream",
     "text": [
      "epoch: 6, [batch: 4032 / 6720], examples_per_second: 3856.1918, train_label_loss: 0.3021, \n"
     ]
    },
    {
     "name": "stdout",
     "output_type": "stream",
     "text": [
      "epoch: 6, [batch: 4704 / 6720], examples_per_second: 3880.4073, train_label_loss: 0.4205, \n"
     ]
    },
    {
     "name": "stdout",
     "output_type": "stream",
     "text": [
      "epoch: 6, [batch: 5376 / 6720], examples_per_second: 3842.5321, train_label_loss: 0.5259, \n"
     ]
    },
    {
     "name": "stdout",
     "output_type": "stream",
     "text": [
      "epoch: 6, [batch: 6048 / 6720], examples_per_second: 3967.4228, train_label_loss: 0.4476, \n"
     ]
    },
    {
     "name": "stdout",
     "output_type": "stream",
     "text": [
      "=============================================================\n",
      "epoch: 6, source_val_acc_label: 0.8876, target_val_acc_label: 0.7491, source_val_label_loss: 0.3163, target_val_label_loss: 3273.0327, \n",
      "=============================================================\n"
     ]
    },
    {
     "name": "stdout",
     "output_type": "stream",
     "text": [
      "epoch: 7, [batch: 1 / 6720], examples_per_second: 4.1743, train_label_loss: 0.0729, \n"
     ]
    },
    {
     "name": "stdout",
     "output_type": "stream",
     "text": [
      "epoch: 7, [batch: 672 / 6720], examples_per_second: 3954.4416, train_label_loss: 0.2704, \n"
     ]
    },
    {
     "name": "stdout",
     "output_type": "stream",
     "text": [
      "epoch: 7, [batch: 1344 / 6720], examples_per_second: 3844.1433, train_label_loss: 0.3115, \n"
     ]
    },
    {
     "name": "stdout",
     "output_type": "stream",
     "text": [
      "epoch: 7, [batch: 2016 / 6720], examples_per_second: 3848.0528, train_label_loss: 0.2287, \n"
     ]
    },
    {
     "name": "stdout",
     "output_type": "stream",
     "text": [
      "epoch: 7, [batch: 2688 / 6720], examples_per_second: 3841.5509, train_label_loss: 0.2248, \n"
     ]
    },
    {
     "name": "stdout",
     "output_type": "stream",
     "text": [
      "epoch: 7, [batch: 3360 / 6720], examples_per_second: 3767.0775, train_label_loss: 0.3855, \n"
     ]
    },
    {
     "name": "stdout",
     "output_type": "stream",
     "text": [
      "epoch: 7, [batch: 4032 / 6720], examples_per_second: 3809.9367, train_label_loss: 0.1680, \n"
     ]
    },
    {
     "name": "stdout",
     "output_type": "stream",
     "text": [
      "epoch: 7, [batch: 4704 / 6720], examples_per_second: 3856.4591, train_label_loss: 0.3910, \n"
     ]
    },
    {
     "name": "stdout",
     "output_type": "stream",
     "text": [
      "epoch: 7, [batch: 5376 / 6720], examples_per_second: 3890.4881, train_label_loss: 0.2948, \n"
     ]
    },
    {
     "name": "stdout",
     "output_type": "stream",
     "text": [
      "epoch: 7, [batch: 6048 / 6720], examples_per_second: 3837.5160, train_label_loss: 0.3170, \n"
     ]
    },
    {
     "name": "stdout",
     "output_type": "stream",
     "text": [
      "=============================================================\n",
      "epoch: 7, source_val_acc_label: 0.8886, target_val_acc_label: 0.7584, source_val_label_loss: 0.3230, target_val_label_loss: 2047.1760, \n",
      "=============================================================\n"
     ]
    },
    {
     "name": "stdout",
     "output_type": "stream",
     "text": [
      "Patience (3) exhausted\n"
     ]
    }
   ],
   "source": [
    "###################################\n",
    "# train\n",
    "###################################\n",
    "jig = PTN_Train_Eval_Test_Jig(model, p.BEST_MODEL_PATH, p.device)\n",
    "\n",
    "jig.train(\n",
    "    train_iterable=datasets.source.processed.train,\n",
    "    source_val_iterable=datasets.source.processed.val,\n",
    "    target_val_iterable=datasets.target.processed.val,\n",
    "    num_epochs=p.n_epoch,\n",
    "    num_logs_per_epoch=p.NUM_LOGS_PER_EPOCH,\n",
    "    patience=p.patience,\n",
    "    optimizer=optimizer,\n",
    "    criteria_for_best=p.criteria_for_best,\n",
    ")"
   ]
  },
  {
   "cell_type": "code",
   "execution_count": 23,
   "id": "31e8fabf",
   "metadata": {
    "execution": {
     "iopub.execute_input": "2022-03-28T04:28:51.643482Z",
     "iopub.status.busy": "2022-03-28T04:28:51.643118Z",
     "iopub.status.idle": "2022-03-28T04:28:51.675767Z",
     "shell.execute_reply": "2022-03-28T04:28:51.675028Z"
    },
    "papermill": {
     "duration": 0.081792,
     "end_time": "2022-03-28T04:28:51.675922",
     "exception": false,
     "start_time": "2022-03-28T04:28:51.594130",
     "status": "completed"
    },
    "tags": []
   },
   "outputs": [],
   "source": [
    "total_experiment_time_secs = time.time() - start_time_secs"
   ]
  },
  {
   "cell_type": "code",
   "execution_count": 24,
   "id": "87b9595b",
   "metadata": {
    "execution": {
     "iopub.execute_input": "2022-03-28T04:28:51.778811Z",
     "iopub.status.busy": "2022-03-28T04:28:51.778206Z",
     "iopub.status.idle": "2022-03-28T04:31:34.932247Z",
     "shell.execute_reply": "2022-03-28T04:31:34.931452Z"
    },
    "papermill": {
     "duration": 163.207217,
     "end_time": "2022-03-28T04:31:34.932441",
     "exception": false,
     "start_time": "2022-03-28T04:28:51.725224",
     "status": "completed"
    },
    "tags": []
   },
   "outputs": [],
   "source": [
    "###################################\n",
    "# Evaluate the model\n",
    "###################################\n",
    "source_test_label_accuracy, source_test_label_loss = jig.test(datasets.source.processed.test)\n",
    "target_test_label_accuracy, target_test_label_loss = jig.test(datasets.target.processed.test)\n",
    "\n",
    "source_val_label_accuracy, source_val_label_loss = jig.test(datasets.source.processed.val)\n",
    "target_val_label_accuracy, target_val_label_loss = jig.test(datasets.target.processed.val)\n",
    "\n",
    "history = jig.get_history()\n",
    "\n",
    "total_epochs_trained = len(history[\"epoch_indices\"])\n",
    "\n",
    "val_dl = Iterable_Aggregator((datasets.source.original.val,datasets.target.original.val))\n",
    "\n",
    "confusion = ptn_confusion_by_domain_over_dataloader(model, p.device, val_dl)\n",
    "per_domain_accuracy = per_domain_accuracy_from_confusion(confusion)\n",
    "\n",
    "# Add a key to per_domain_accuracy for if it was a source domain\n",
    "for domain, accuracy in per_domain_accuracy.items():\n",
    "    per_domain_accuracy[domain] = {\n",
    "        \"accuracy\": accuracy,\n",
    "        \"source?\": domain in p.domains_source\n",
    "    }\n",
    "\n",
    "# Do an independent accuracy assesment JUST TO BE SURE!\n",
    "# _source_test_label_accuracy = independent_accuracy_assesment(model, datasets.source.processed.test, p.device)\n",
    "# _target_test_label_accuracy = independent_accuracy_assesment(model, datasets.target.processed.test, p.device)\n",
    "# _source_val_label_accuracy = independent_accuracy_assesment(model, datasets.source.processed.val, p.device)\n",
    "# _target_val_label_accuracy = independent_accuracy_assesment(model, datasets.target.processed.val, p.device)\n",
    "\n",
    "# assert(_source_test_label_accuracy == source_test_label_accuracy)\n",
    "# assert(_target_test_label_accuracy == target_test_label_accuracy)\n",
    "# assert(_source_val_label_accuracy == source_val_label_accuracy)\n",
    "# assert(_target_val_label_accuracy == target_val_label_accuracy)\n",
    "\n",
    "experiment = {\n",
    "    \"experiment_name\": p.experiment_name,\n",
    "    \"parameters\": dict(p),\n",
    "    \"results\": {\n",
    "        \"source_test_label_accuracy\": source_test_label_accuracy,\n",
    "        \"source_test_label_loss\": source_test_label_loss,\n",
    "        \"target_test_label_accuracy\": target_test_label_accuracy,\n",
    "        \"target_test_label_loss\": target_test_label_loss,\n",
    "        \"source_val_label_accuracy\": source_val_label_accuracy,\n",
    "        \"source_val_label_loss\": source_val_label_loss,\n",
    "        \"target_val_label_accuracy\": target_val_label_accuracy,\n",
    "        \"target_val_label_loss\": target_val_label_loss,\n",
    "        \"total_epochs_trained\": total_epochs_trained,\n",
    "        \"total_experiment_time_secs\": total_experiment_time_secs,\n",
    "        \"confusion\": confusion,\n",
    "        \"per_domain_accuracy\": per_domain_accuracy,\n",
    "    },\n",
    "    \"history\": history,\n",
    "    \"dataset_metrics\": get_dataset_metrics(datasets, \"ptn\"),\n",
    "}"
   ]
  },
  {
   "cell_type": "code",
   "execution_count": 25,
   "id": "54a21829",
   "metadata": {
    "execution": {
     "iopub.execute_input": "2022-03-28T04:31:35.042056Z",
     "iopub.status.busy": "2022-03-28T04:31:35.041313Z",
     "iopub.status.idle": "2022-03-28T04:31:35.266145Z",
     "shell.execute_reply": "2022-03-28T04:31:35.266854Z"
    },
    "papermill": {
     "duration": 0.285549,
     "end_time": "2022-03-28T04:31:35.267081",
     "exception": false,
     "start_time": "2022-03-28T04:31:34.981532",
     "status": "completed"
    },
    "tags": []
   },
   "outputs": [
    {
     "data": {
      "image/png": "[encoded data removed]",
      "text/plain": [
       "<Figure size 1080x504 with 1 Axes>"
      ]
     },
     "metadata": {
      "needs_background": "light"
     },
     "output_type": "display_data"
    }
   ],
   "source": [
    "ax = get_loss_curve(experiment)\n",
    "plt.show()"
   ]
  },
  {
   "cell_type": "code",
   "execution_count": 26,
   "id": "fd8a0f60",
   "metadata": {
    "execution": {
     "iopub.execute_input": "2022-03-28T04:31:35.366365Z",
     "iopub.status.busy": "2022-03-28T04:31:35.365989Z",
     "iopub.status.idle": "2022-03-28T04:31:35.681226Z",
     "shell.execute_reply": "2022-03-28T04:31:35.681897Z"
    },
    "papermill": {
     "duration": 0.365987,
     "end_time": "2022-03-28T04:31:35.682096",
     "exception": false,
     "start_time": "2022-03-28T04:31:35.316109",
     "status": "completed"
    },
    "tags": []
   },
   "outputs": [
    {
     "data": {
      "text/plain": [
       "<AxesSubplot:title={'center':'Results'}>"
      ]
     },
     "execution_count": 26,
     "metadata": {},
     "output_type": "execute_result"
    },
    {
     "data": {
      "image/png": "[encoded data removed]",
      "text/plain": [
       "<Figure size 1080x504 with 1 Axes>"
      ]
     },
     "metadata": {
      "needs_background": "light"
     },
     "output_type": "display_data"
    }
   ],
   "source": [
    "get_results_table(experiment)"
   ]
  },
  {
   "cell_type": "code",
   "execution_count": 27,
   "id": "cf8dc689",
   "metadata": {
    "execution": {
     "iopub.execute_input": "2022-03-28T04:31:35.787021Z",
     "iopub.status.busy": "2022-03-28T04:31:35.786649Z",
     "iopub.status.idle": "2022-03-28T04:31:36.023351Z",
     "shell.execute_reply": "2022-03-28T04:31:36.024063Z"
    },
    "papermill": {
     "duration": 0.292045,
     "end_time": "2022-03-28T04:31:36.024295",
     "exception": false,
     "start_time": "2022-03-28T04:31:35.732250",
     "status": "completed"
    },
    "tags": []
   },
   "outputs": [
    {
     "data": {
      "text/plain": [
       "<AxesSubplot:title={'center':'Per Domain Validation Accuracy'}, xlabel='domain'>"
      ]
     },
     "execution_count": 27,
     "metadata": {},
     "output_type": "execute_result"
    },
    {
     "data": {
      "image/png": "[encoded data removed]",
      "text/plain": [
       "<Figure size 1080x504 with 1 Axes>"
      ]
     },
     "metadata": {
      "needs_background": "light"
     },
     "output_type": "display_data"
    }
   ],
   "source": [
    "get_domain_accuracies(experiment)"
   ]
  },
  {
   "cell_type": "code",
   "execution_count": 28,
   "id": "a74ae082",
   "metadata": {
    "execution": {
     "iopub.execute_input": "2022-03-28T04:31:36.127994Z",
     "iopub.status.busy": "2022-03-28T04:31:36.127622Z",
     "iopub.status.idle": "2022-03-28T04:31:36.150266Z",
     "shell.execute_reply": "2022-03-28T04:31:36.149452Z"
    },
    "papermill": {
     "duration": 0.07304,
     "end_time": "2022-03-28T04:31:36.150423",
     "exception": false,
     "start_time": "2022-03-28T04:31:36.077383",
     "status": "completed"
    },
    "tags": []
   },
   "outputs": [
    {
     "name": "stdout",
     "output_type": "stream",
     "text": [
      "Source Test Label Accuracy: 0.8581705729166667 Target Test Label Accuracy: 0.8217409706546276\n",
      "Source Val Label Accuracy: 0.8567708333333334 Target Val Label Accuracy: 0.8179285714285714\n"
     ]
    }
   ],
   "source": [
    "print(\"Source Test Label Accuracy:\", experiment[\"results\"][\"source_test_label_accuracy\"], \"Target Test Label Accuracy:\", experiment[\"results\"][\"target_test_label_accuracy\"])\n",
    "print(\"Source Val Label Accuracy:\", experiment[\"results\"][\"source_val_label_accuracy\"], \"Target Val Label Accuracy:\", experiment[\"results\"][\"target_val_label_accuracy\"])"
   ]
  },
  {
   "cell_type": "code",
   "execution_count": 29,
   "id": "dacca602",
   "metadata": {
    "execution": {
     "iopub.execute_input": "2022-03-28T04:31:36.252160Z",
     "iopub.status.busy": "2022-03-28T04:31:36.251751Z",
     "iopub.status.idle": "2022-03-28T04:31:36.273532Z",
     "shell.execute_reply": "2022-03-28T04:31:36.274236Z"
    },
    "papermill": {
     "duration": 0.071675,
     "end_time": "2022-03-28T04:31:36.274420",
     "exception": false,
     "start_time": "2022-03-28T04:31:36.202745",
     "status": "completed"
    },
    "tags": [
     "experiment_json"
    ]
   },
   "outputs": [
    {
     "data": {
      "text/plain": [
       "'{\"experiment_name\": \"tl_3-jitter1v2:oracle.run1.framed -> cores\", \"parameters\": {\"experiment_name\": \"tl_3-jitter1v2:oracle.run1.framed -> cores\", \"device\": \"cuda\", \"lr\": 0.0001, \"x_shape\": [2, 256], \"n_shot\": 3, \"n_query\": 2, \"train_k_factor\": 3, \"val_k_factor\": 2, \"test_k_factor\": 2, \"torch_default_dtype\": \"torch.float32\", \"n_epoch\": 50, \"patience\": 3, \"criteria_for_best\": \"target_accuracy\", \"x_net\": [{\"class\": \"nnReshape\", \"kargs\": {\"shape\": [-1, 1, 2, 256]}}, {\"class\": \"Conv2d\", \"kargs\": {\"in_channels\": 1, \"out_channels\": 256, \"kernel_size\": [1, 7], \"bias\": false, \"padding\": [0, 3]}}, {\"class\": \"ReLU\", \"kargs\": {\"inplace\": true}}, {\"class\": \"BatchNorm2d\", \"kargs\": {\"num_features\": 256}}, {\"class\": \"Conv2d\", \"kargs\": {\"in_channels\": 256, \"out_channels\": 80, \"kernel_size\": [2, 7], \"bias\": true, \"padding\": [0, 3]}}, {\"class\": \"ReLU\", \"kargs\": {\"inplace\": true}}, {\"class\": \"BatchNorm2d\", \"kargs\": {\"num_features\": 80}}, {\"class\": \"Flatten\", \"kargs\": {}}, {\"class\": \"Linear\", \"kargs\": {\"in_features\": 20480, \"out_features\": 256}}, {\"class\": \"ReLU\", \"kargs\": {\"inplace\": true}}, {\"class\": \"BatchNorm1d\", \"kargs\": {\"num_features\": 256}}, {\"class\": \"Linear\", \"kargs\": {\"in_features\": 256, \"out_features\": 256}}], \"NUM_LOGS_PER_EPOCH\": 10, \"BEST_MODEL_PATH\": \"./best_model.pth\", \"n_way\": 16, \"datasets\": [{\"labels\": [\"1-10.\", \"1-11.\", \"1-15.\", \"1-16.\", \"1-17.\", \"1-18.\", \"1-19.\", \"10-4.\", \"10-7.\", \"11-1.\", \"11-14.\", \"11-17.\", \"11-20.\", \"11-7.\", \"13-20.\", \"13-8.\", \"14-10.\", \"14-11.\", \"14-14.\", \"14-7.\", \"15-1.\", \"15-20.\", \"16-1.\", \"16-16.\", \"17-10.\", \"17-11.\", \"17-2.\", \"19-1.\", \"19-16.\", \"19-19.\", \"19-20.\", \"19-3.\", \"2-10.\", \"2-11.\", \"2-17.\", \"2-18.\", \"2-20.\", \"2-3.\", \"2-4.\", \"2-5.\", \"2-6.\", \"2-7.\", \"2-8.\", \"3-13.\", \"3-18.\", \"3-3.\", \"4-1.\", \"4-10.\", \"4-11.\", \"4-19.\", \"5-5.\", \"6-15.\", \"7-10.\", \"7-14.\", \"8-18.\", \"8-20.\", \"8-3.\", \"8-8.\"], \"domains\": [1, 2, 3, 4, 5], \"num_examples_per_domain_per_label\": -1, \"pickle_path\": \"/root/csc500-main/datasets/cores.stratified_ds.2022A.pkl\", \"source_or_target_dataset\": \"target\", \"x_transforms\": [\"jitter_256_1\", \"lowpass_+/-10MHz\", \"take_200\"], \"episode_transforms\": [], \"domain_prefix\": \"C_\"}, {\"labels\": [\"3123D52\", \"3123D65\", \"3123D79\", \"3123D80\", \"3123D54\", \"3123D70\", \"3123D7B\", \"3123D89\", \"3123D58\", \"3123D76\", \"3123D7D\", \"3123EFE\", \"3123D64\", \"3123D78\", \"3123D7E\", \"3124E4A\"], \"domains\": [32, 38, 8, 44, 14, 50, 20, 26], \"num_examples_per_domain_per_label\": 2000, \"pickle_path\": \"/root/csc500-main/datasets/oracle.Run1_framed_2000Examples_stratified_ds.2022A.pkl\", \"source_or_target_dataset\": \"source\", \"x_transforms\": [\"jitter_256_1\", \"take_200\", \"resample_20Msps_to_25Msps\"], \"episode_transforms\": [], \"domain_prefix\": \"O_\"}], \"seed\": 420, \"dataset_seed\": 420, \"domains_source\": [\"O_32\", \"O_38\", \"O_8\", \"O_44\", \"O_14\", \"O_50\", \"O_20\", \"O_26\"], \"domains_target\": [\"C_1\", \"C_2\", \"C_3\", \"C_4\", \"C_5\"]}, \"results\": {\"source_test_label_accuracy\": 0.8581705729166667, \"source_test_label_loss\": 0.41546615958213806, \"target_test_label_accuracy\": 0.8217409706546276, \"target_test_label_loss\": 648.1744384765625, \"source_val_label_accuracy\": 0.8567708333333334, \"source_val_label_loss\": 0.4185199737548828, \"target_val_label_accuracy\": 0.8179285714285714, \"target_val_label_loss\": 685.1790771484375, \"total_epochs_trained\": 7, \"total_experiment_time_secs\": 1672.36367726326, \"confusion\": {\"O_14\": {\"15\": {\"15\": 240}, \"5\": {\"5\": 224, \"2\": 8, \"7\": 4, \"3\": 2, \"4\": 1, \"14\": 1}, \"7\": {\"7\": 238, \"5\": 2}, \"4\": {\"4\": 231, \"5\": 8, \"2\": 1}, \"10\": {\"10\": 240}, \"11\": {\"11\": 240}, \"12\": {\"12\": 240}, \"0\": {\"0\": 222, \"3\": 14, \"10\": 3, \"14\": 1}, \"14\": {\"14\": 180, \"13\": 27, \"6\": 15, \"3\": 4, \"2\": 14}, \"8\": {\"8\": 240}, \"13\": {\"6\": 105, \"13\": 41, \"14\": 68, \"15\": 10, \"2\": 14, \"5\": 2}, \"6\": {\"6\": 166, \"14\": 23, \"13\": 48, \"2\": 2, \"3\": 1}, \"1\": {\"1\": 240}, \"3\": {\"3\": 235, \"2\": 1, \"0\": 1, \"13\": 1, \"14\": 2}, \"9\": {\"9\": 240}, \"2\": {\"3\": 9, \"2\": 123, \"14\": 29, \"5\": 37, \"13\": 10, \"6\": 17, \"4\": 14, \"0\": 1}}, \"O_20\": {\"4\": {\"12\": 7, \"4\": 229, \"2\": 2, \"6\": 1, \"7\": 1}, \"10\": {\"10\": 240}, \"15\": {\"15\": 173, \"2\": 7, \"12\": 37, \"1\": 18, \"13\": 2, \"7\": 1, \"9\": 2}, \"0\": {\"0\": 238, \"3\": 2}, \"6\": {\"6\": 231, \"7\": 9}, \"3\": {\"5\": 51, \"3\": 148, \"9\": 20, \"8\": 14, \"0\": 5, \"1\": 2}, \"7\": {\"7\": 175, \"9\": 29, \"2\": 18, \"6\": 10, \"12\": 6, \"1\": 1, \"4\": 1}, \"2\": {\"2\": 173, \"12\": 44, \"15\": 8, \"4\": 1, \"7\": 13, \"13\": 1}, \"8\": {\"8\": 204, \"14\": 17, \"3\": 18, \"0\": 1}, \"11\": {\"11\": 240}, \"14\": {\"14\": 212, \"8\": 28}, \"12\": {\"12\": 163, \"2\": 47, \"15\": 26, \"7\": 2, \"4\": 2}, \"13\": {\"13\": 236, \"15\": 4}, \"9\": {\"9\": 165, \"7\": 24, \"1\": 33, \"5\": 12, \"3\": 6}, \"5\": {\"9\": 14, \"5\": 150, \"3\": 45, \"1\": 31}, \"1\": {\"1\": 167, \"5\": 30, \"9\": 40, \"15\": 2, \"3\": 1}}, \"O_50\": {\"5\": {\"7\": 68, \"5\": 102, \"6\": 49, \"13\": 12, \"1\": 2, \"15\": 3, \"4\": 4}, \"12\": {\"12\": 221, \"9\": 13, \"11\": 6}, \"14\": {\"14\": 240}, \"4\": {\"4\": 199, \"7\": 20, \"15\": 12, \"5\": 6, \"6\": 3}, \"13\": {\"13\": 239, \"1\": 1}, \"10\": {\"10\": 238, \"8\": 1, \"0\": 1}, \"9\": {\"11\": 17, \"9\": 201, \"12\": 22}, \"15\": {\"15\": 218, \"6\": 17, \"11\": 4, \"4\": 1}, \"6\": {\"6\": 201, \"5\": 30, \"15\": 9}, \"2\": {\"2\": 225, \"0\": 15}, \"0\": {\"0\": 226, \"2\": 14}, \"11\": {\"11\": 225, \"12\": 8, \"15\": 4, \"9\": 3}, \"3\": {\"3\": 240}, \"8\": {\"8\": 238, \"10\": 2}, \"7\": {\"7\": 224, \"5\": 14, \"4\": 2}, \"1\": {\"1\": 239, \"13\": 1}}, \"O_26\": {\"7\": {\"7\": 189, \"3\": 8, \"2\": 10, \"8\": 32, \"9\": 1}, \"6\": {\"6\": 210, \"15\": 20, \"1\": 2, \"5\": 4, \"10\": 4}, \"14\": {\"14\": 178, \"10\": 49, \"1\": 5, \"0\": 8}, \"15\": {\"15\": 168, \"10\": 9, \"5\": 50, \"6\": 13}, \"5\": {\"5\": 212, \"15\": 27, \"6\": 1}, \"10\": {\"10\": 176, \"0\": 9, \"14\": 47, \"6\": 1, \"15\": 7}, \"4\": {\"4\": 240}, \"11\": {\"11\": 240}, \"13\": {\"13\": 219, \"4\": 1, \"9\": 10, \"2\": 9, \"3\": 1}, \"2\": {\"9\": 19, \"2\": 156, \"3\": 24, \"7\": 28, \"0\": 6, \"8\": 6, \"15\": 1}, \"0\": {\"10\": 34, \"0\": 192, \"14\": 12, \"2\": 1, \"8\": 1}, \"12\": {\"12\": 240}, \"3\": {\"3\": 224, \"7\": 14, \"2\": 2}, \"9\": {\"9\": 166, \"8\": 33, \"7\": 7, \"2\": 24, \"13\": 9, \"0\": 1}, \"8\": {\"7\": 38, \"8\": 184, \"9\": 15, \"2\": 2, \"0\": 1}, \"1\": {\"1\": 188, \"14\": 34, \"10\": 6, \"6\": 5, \"15\": 2, \"5\": 5}}, \"O_32\": {\"7\": {\"7\": 170, \"0\": 31, \"5\": 16, \"14\": 21, \"8\": 2}, \"2\": {\"2\": 213, \"4\": 27}, \"5\": {\"5\": 136, \"7\": 45, \"0\": 23, \"8\": 24, \"14\": 12}, \"6\": {\"6\": 240}, \"13\": {\"13\": 194, \"3\": 20, \"11\": 3, \"4\": 23}, \"4\": {\"4\": 205, \"2\": 31, \"13\": 4}, \"3\": {\"3\": 231, \"13\": 9}, \"0\": {\"0\": 176, \"8\": 18, \"5\": 14, \"14\": 3, \"7\": 29}, \"9\": {\"9\": 237, \"12\": 3}, \"12\": {\"12\": 240}, \"8\": {\"8\": 187, \"0\": 23, \"5\": 27, \"14\": 1, \"7\": 1, \"4\": 1}, \"14\": {\"7\": 54, \"14\": 159, \"0\": 7, \"5\": 8, \"2\": 6, \"4\": 2, \"8\": 2, \"13\": 1, \"3\": 1}, \"15\": {\"15\": 235, \"8\": 4, \"0\": 1}, \"11\": {\"11\": 239, \"13\": 1}, \"10\": {\"10\": 240}, \"1\": {\"1\": 240}}, \"O_44\": {\"11\": {\"11\": 240}, \"7\": {\"9\": 31, \"10\": 4, \"7\": 205}, \"6\": {\"13\": 29, \"6\": 202, \"9\": 9}, \"12\": {\"12\": 229, \"3\": 11}, \"4\": {\"4\": 132, \"14\": 98, \"15\": 8, \"9\": 2}, \"13\": {\"13\": 199, \"6\": 37, \"9\": 4}, \"8\": {\"8\": 178, \"0\": 41, \"15\": 8, \"5\": 12, \"14\": 1}, \"5\": {\"5\": 222, \"8\": 2, \"15\": 8, \"14\": 8}, \"14\": {\"14\": 179, \"4\": 50, \"5\": 5, \"15\": 6}, \"3\": {\"3\": 235, \"12\": 5}, \"10\": {\"10\": 223, \"1\": 9, \"7\": 5, \"2\": 3}, \"1\": {\"1\": 228, \"2\": 12}, \"2\": {\"2\": 234, \"7\": 1, \"1\": 4, \"10\": 1}, \"15\": {\"15\": 194, \"0\": 1, \"14\": 21, \"8\": 13, \"5\": 9, \"4\": 2}, \"9\": {\"7\": 64, \"9\": 120, \"6\": 31, \"13\": 25}, \"0\": {\"8\": 20, \"0\": 220}}, \"O_8\": {\"10\": {\"10\": 180, \"5\": 18, \"13\": 35, \"1\": 4, \"4\": 1, \"6\": 2}, \"6\": {\"6\": 183, \"7\": 43, \"13\": 9, \"10\": 5}, \"13\": {\"13\": 157, \"10\": 51, \"7\": 26, \"6\": 5, \"5\": 1}, \"3\": {\"3\": 240}, \"9\": {\"9\": 240}, \"1\": {\"11\": 62, \"1\": 169, \"5\": 7, \"10\": 1, \"4\": 1}, \"5\": {\"5\": 189, \"10\": 27, \"13\": 2, \"14\": 1, \"1\": 15, \"11\": 6}, \"11\": {\"1\": 101, \"11\": 125, \"5\": 3, \"8\": 4, \"14\": 4, \"4\": 2, \"10\": 1}, \"4\": {\"4\": 223, \"6\": 4, \"14\": 11, \"10\": 1, \"11\": 1}, \"14\": {\"14\": 218, \"4\": 21, \"1\": 1}, \"12\": {\"12\": 192, \"15\": 48}, \"7\": {\"7\": 197, \"13\": 9, \"6\": 34}, \"0\": {\"0\": 240}, \"15\": {\"15\": 199, \"12\": 40, \"2\": 1}, \"2\": {\"2\": 174, \"12\": 23, \"3\": 27, \"15\": 16}, \"8\": {\"8\": 239, \"11\": 1}}, \"O_38\": {\"4\": {\"4\": 239, \"10\": 1}, \"7\": {\"7\": 239, \"5\": 1}, \"12\": {\"12\": 240}, \"10\": {\"0\": 15, \"10\": 211, \"13\": 11, \"4\": 3}, \"0\": {\"0\": 165, \"7\": 21, \"10\": 34, \"3\": 10, \"13\": 9, \"4\": 1}, \"1\": {\"1\": 239, \"6\": 1}, \"5\": {\"7\": 24, \"5\": 111, \"8\": 86, \"9\": 13, \"15\": 5, \"13\": 1}, \"15\": {\"15\": 217, \"5\": 6, \"8\": 13, \"1\": 4}, \"9\": {\"9\": 238, \"5\": 1, \"7\": 1}, \"11\": {\"11\": 237, \"3\": 3}, \"14\": {\"14\": 220, \"2\": 20}, \"6\": {\"6\": 240}, \"8\": {\"8\": 138, \"7\": 31, \"5\": 65, \"15\": 5, \"0\": 1}, \"3\": {\"3\": 239, \"11\": 1}, \"2\": {\"2\": 231, \"13\": 1, \"14\": 8}, \"13\": {\"13\": 227, \"10\": 6, \"0\": 6, \"14\": 1}}, \"C_4\": {\"42\": {\"34\": 2, \"42\": 27, \"17\": 1, \"28\": 1, \"41\": 1}, \"0\": {\"0\": 69, \"22\": 8, \"6\": 1, \"3\": 1, \"5\": 1}, \"1\": {\"1\": 37, \"47\": 3}, \"39\": {\"39\": 20}, \"28\": {\"19\": 1, \"53\": 3, \"16\": 2, \"17\": 1, \"34\": 2, \"28\": 21, \"31\": 2}, \"53\": {\"34\": 2, \"53\": 75, \"23\": 30, \"42\": 1, \"16\": 4, \"19\": 9, \"35\": 1, \"41\": 2}, \"19\": {\"19\": 115, \"35\": 1, \"23\": 9, \"16\": 1, \"26\": 4, \"17\": 2, \"53\": 4, \"42\": 4, \"28\": 1, \"41\": 1, \"54\": 1, \"36\": 1}, \"34\": {\"42\": 2, \"28\": 2, \"27\": 1, \"34\": 16, \"26\": 1, \"36\": 2}, \"33\": {\"33\": 27, \"35\": 5, \"17\": 3, \"36\": 1}, \"32\": {\"32\": 21, \"39\": 1, \"9\": 1, \"8\": 1}, \"10\": {\"10\": 136}, \"46\": {\"5\": 12, \"46\": 94, \"50\": 9, \"3\": 7, \"0\": 2, \"6\": 7, \"45\": 1, \"22\": 2}, \"20\": {\"20\": 99, \"52\": 7, \"47\": 5, \"21\": 3, \"44\": 2, \"50\": 2, \"48\": 3, \"12\": 1}, \"5\": {\"5\": 90, \"6\": 8, \"46\": 2, \"3\": 8}, \"40\": {\"5\": 1, \"40\": 69, \"1\": 2, \"21\": 11, \"47\": 8, \"30\": 1, \"52\": 2, \"57\": 1, \"44\": 13, \"50\": 5, \"45\": 2, \"48\": 8, \"20\": 1}, \"51\": {\"51\": 89, \"39\": 3, \"57\": 2, \"8\": 11, \"35\": 1, \"36\": 11, \"37\": 2, \"27\": 17, \"29\": 2, \"54\": 4, \"4\": 1, \"9\": 1}, \"37\": {\"37\": 21, \"43\": 1, \"7\": 1, \"32\": 1}, \"17\": {\"17\": 70, \"33\": 3, \"53\": 1, \"41\": 1, \"23\": 3, \"19\": 1, \"4\": 1}, \"45\": {\"45\": 55, \"3\": 19, \"50\": 10, \"5\": 7, \"6\": 5}, \"13\": {\"13\": 141, \"43\": 1}, \"27\": {\"27\": 131, \"36\": 2, \"9\": 4, \"4\": 3, \"29\": 1, \"8\": 2, \"54\": 1}, \"24\": {\"24\": 55, \"38\": 1}, \"30\": {\"45\": 1, \"30\": 34, \"3\": 2, \"6\": 1, \"5\": 2, \"12\": 4}, \"31\": {\"31\": 26, \"51\": 1, \"35\": 1}, \"41\": {\"41\": 34, \"10\": 1, \"13\": 1}, \"36\": {\"36\": 82, \"29\": 1, \"27\": 1, \"8\": 3, \"9\": 1, \"54\": 2, \"57\": 1, \"21\": 1}, \"16\": {\"16\": 83, \"28\": 1, \"23\": 5, \"19\": 2, \"53\": 4, \"15\": 1}, \"22\": {\"22\": 109, \"0\": 11, \"56\": 7, \"5\": 1}, \"44\": {\"44\": 110, \"12\": 4, \"40\": 3, \"50\": 4, \"45\": 1, \"6\": 3, \"5\": 3, \"48\": 4}, \"9\": {\"9\": 97, \"47\": 5, \"57\": 2, \"4\": 15, \"29\": 6, \"8\": 4, \"40\": 2, \"48\": 4, \"1\": 1, \"52\": 1, \"51\": 1, \"50\": 1, \"20\": 1}, \"57\": {\"57\": 73, \"4\": 1, \"48\": 9, \"8\": 6, \"47\": 3, \"29\": 6, \"1\": 1, \"9\": 1}, \"8\": {\"8\": 115, \"57\": 5, \"48\": 9, \"39\": 1, \"9\": 3, \"40\": 2, \"29\": 2, \"4\": 1}, \"23\": {\"23\": 116, \"17\": 7, \"41\": 2, \"53\": 5, \"27\": 1, \"9\": 1}, \"47\": {\"47\": 108, \"48\": 6, \"1\": 2, \"52\": 2, \"40\": 1, \"20\": 1}, \"43\": {\"43\": 136, \"7\": 1, \"55\": 1}, \"49\": {\"49\": 12, \"7\": 1, \"14\": 3, \"35\": 1, \"55\": 2, \"32\": 1}, \"3\": {\"3\": 92, \"5\": 17, \"50\": 8, \"6\": 6, \"45\": 1}, \"12\": {\"12\": 67, \"30\": 6, \"3\": 6, \"50\": 4, \"5\": 5, \"45\": 3, \"6\": 1}, \"38\": {\"38\": 38, \"2\": 2}, \"7\": {\"49\": 1, \"7\": 19, \"55\": 2, \"22\": 1, \"56\": 1}, \"14\": {\"43\": 1, \"27\": 1, \"14\": 4, \"57\": 1, \"36\": 2, \"51\": 1, \"35\": 2, \"29\": 2, \"56\": 1, \"1\": 1}, \"15\": {\"15\": 131, \"35\": 1, \"11\": 6, \"16\": 5, \"19\": 2, \"36\": 1}, \"25\": {\"25\": 124, \"53\": 1, \"18\": 2, \"28\": 1}, \"26\": {\"34\": 2, \"14\": 1, \"26\": 14, \"42\": 1, \"29\": 1, \"35\": 2, \"36\": 1, \"19\": 2}, \"21\": {\"21\": 119, \"30\": 2, \"12\": 4, \"52\": 5, \"45\": 1, \"6\": 1}, \"48\": {\"48\": 108, \"47\": 13, \"1\": 4, \"20\": 6, \"45\": 1, \"52\": 1, \"44\": 3, \"57\": 3, \"21\": 1, \"9\": 1, \"40\": 2, \"8\": 1}, \"56\": {\"56\": 132, \"22\": 2}, \"11\": {\"11\": 87, \"15\": 14, \"43\": 1, \"16\": 2}, \"2\": {\"2\": 36}, \"6\": {\"6\": 102, \"5\": 3, \"50\": 1, \"3\": 6}, \"55\": {\"55\": 108, \"35\": 1, \"32\": 1, \"51\": 11, \"27\": 8, \"54\": 4, \"9\": 5, \"43\": 1, \"56\": 1}, \"54\": {\"54\": 86, \"41\": 3, \"51\": 4, \"27\": 3, \"36\": 9, \"35\": 1, \"29\": 1, \"17\": 1}, \"29\": {\"29\": 85, \"47\": 1, \"21\": 1, \"57\": 13, \"3\": 1, \"4\": 13, \"8\": 3, \"9\": 4, \"40\": 2, \"48\": 1}, \"50\": {\"50\": 85, \"3\": 26, \"5\": 5, \"6\": 4, \"45\": 1, \"30\": 1}, \"52\": {\"52\": 116}, \"35\": {\"35\": 33, \"42\": 1, \"36\": 2, \"29\": 1, \"54\": 2, \"27\": 1}, \"4\": {\"8\": 4, \"50\": 1, \"9\": 7, \"4\": 76, \"47\": 1, \"29\": 19, \"48\": 7, \"57\": 2, \"52\": 1, \"44\": 2}, \"18\": {\"18\": 108}}, \"C_5\": {\"43\": {\"43\": 149, \"49\": 1, \"36\": 1, \"2\": 1}, \"35\": {\"35\": 36}, \"54\": {\"51\": 8, \"54\": 82, \"8\": 5, \"36\": 1, \"27\": 6, \"17\": 2, \"23\": 1, \"48\": 1, \"29\": 1, \"34\": 1, \"41\": 1, \"38\": 1, \"55\": 2}, \"22\": {\"22\": 24, \"0\": 4}, \"16\": {\"16\": 129, \"23\": 2, \"15\": 1, \"53\": 5, \"19\": 7, \"42\": 1, \"11\": 1}, \"5\": {\"3\": 3, \"5\": 67, \"6\": 5, \"50\": 9, \"40\": 9, \"44\": 12, \"4\": 7, \"45\": 10, \"46\": 4, \"12\": 2}, \"28\": {\"16\": 1, \"28\": 31}, \"14\": {\"22\": 4, \"51\": 4, \"36\": 9, \"14\": 9, \"47\": 2, \"39\": 3, \"1\": 1, \"57\": 1, \"40\": 1, \"27\": 1, \"29\": 1, \"56\": 5, \"7\": 1, \"32\": 1, \"0\": 1}, \"51\": {\"51\": 100, \"39\": 2, \"48\": 3, \"17\": 1, \"27\": 6, \"8\": 5, \"54\": 7, \"32\": 1, \"33\": 1, \"55\": 2}, \"19\": {\"19\": 107, \"28\": 2, \"33\": 4, \"53\": 13, \"34\": 3, \"42\": 1, \"25\": 1, \"16\": 1, \"55\": 3, \"23\": 3, \"41\": 1, \"26\": 1}, \"31\": {\"31\": 36}, \"10\": {\"10\": 68}, \"21\": {\"21\": 101, \"12\": 7, \"30\": 4, \"46\": 9, \"52\": 9, \"45\": 2, \"57\": 1, \"40\": 1, \"6\": 2}, \"3\": {\"3\": 68, \"45\": 10, \"6\": 11, \"50\": 9, \"0\": 2}, \"57\": {\"57\": 115, \"47\": 6, \"52\": 1, \"20\": 1, \"1\": 3, \"30\": 3, \"4\": 1, \"9\": 1, \"40\": 1}, \"9\": {\"5\": 2, \"57\": 2, \"1\": 11, \"9\": 87, \"44\": 5, \"20\": 4, \"30\": 13, \"40\": 6, \"46\": 2, \"52\": 3, \"47\": 2, \"4\": 5, \"21\": 2, \"50\": 2}, \"8\": {\"8\": 118, \"48\": 3, \"36\": 1, \"7\": 2, \"57\": 1, \"27\": 3, \"29\": 3, \"1\": 1}, \"46\": {\"6\": 6, \"46\": 108, \"0\": 4, \"3\": 4, \"45\": 3, \"50\": 15}, \"23\": {\"23\": 112, \"17\": 6, \"38\": 2, \"53\": 1, \"54\": 1, \"51\": 1, \"55\": 1}, \"37\": {\"37\": 20, \"41\": 2, \"38\": 1, \"51\": 1}, \"34\": {\"34\": 32, \"29\": 1, \"54\": 1, \"36\": 1, \"55\": 1}, \"4\": {\"5\": 11, \"4\": 52, \"1\": 7, \"9\": 5, \"44\": 11, \"12\": 2, \"52\": 1, \"30\": 3, \"40\": 4, \"3\": 1, \"46\": 2, \"57\": 1}, \"6\": {\"6\": 99, \"45\": 18, \"50\": 11}, \"48\": {\"48\": 96, \"47\": 8, \"30\": 3, \"4\": 2, \"1\": 12, \"20\": 5, \"57\": 3, \"9\": 7}, \"44\": {\"5\": 13, \"44\": 98, \"46\": 6, \"6\": 1, \"40\": 4, \"3\": 3, \"50\": 7, \"45\": 4, \"12\": 1, \"4\": 1}, \"40\": {\"40\": 44, \"5\": 15, \"4\": 5, \"6\": 14, \"1\": 8, \"12\": 5, \"46\": 8, \"44\": 6, \"50\": 6, \"45\": 11, \"52\": 1, \"3\": 1}, \"12\": {\"12\": 78, \"3\": 2, \"46\": 4, \"6\": 7, \"50\": 4, \"45\": 1}, \"30\": {\"30\": 107, \"12\": 4, \"57\": 3, \"44\": 2, \"52\": 6, \"46\": 3, \"9\": 2, \"21\": 1}, \"39\": {\"14\": 2, \"39\": 16, \"48\": 2}, \"45\": {\"45\": 93, \"50\": 12, \"6\": 19}, \"36\": {\"36\": 89, \"52\": 1, \"43\": 1, \"29\": 1}, \"27\": {\"27\": 126, \"32\": 1, \"8\": 3, \"29\": 6, \"36\": 1, \"51\": 1, \"55\": 1, \"48\": 1}, \"32\": {\"32\": 25, \"36\": 3, \"39\": 1, \"41\": 1, \"55\": 1, \"27\": 1}, \"52\": {\"52\": 130}, \"0\": {\"22\": 4, \"0\": 119, \"46\": 1}, \"26\": {\"26\": 17, \"38\": 4, \"23\": 2, \"53\": 1}, \"1\": {\"30\": 6, \"1\": 112, \"47\": 13, \"57\": 9, \"52\": 1, \"9\": 4, \"21\": 1, \"20\": 1, \"4\": 1}, \"53\": {\"23\": 11, \"53\": 114, \"17\": 8, \"26\": 1, \"19\": 8, \"54\": 1, \"42\": 2, \"55\": 1}, \"25\": {\"25\": 139, \"19\": 1, \"18\": 2, \"16\": 2}, \"24\": {\"24\": 80}, \"7\": {\"7\": 22, \"8\": 4, \"48\": 1, \"51\": 1, \"20\": 2, \"39\": 1, \"1\": 1}, \"18\": {\"18\": 63, \"16\": 1}, \"20\": {\"20\": 118, \"57\": 9, \"47\": 1, \"1\": 1, \"52\": 5, \"30\": 4, \"9\": 2, \"40\": 1, \"48\": 3}, \"33\": {\"33\": 23, \"23\": 1, \"42\": 2, \"34\": 1, \"41\": 2, \"27\": 1, \"17\": 2}, \"55\": {\"55\": 100, \"41\": 1, \"51\": 8, \"54\": 8, \"17\": 7, \"34\": 4, \"23\": 4, \"36\": 3, \"32\": 2, \"38\": 1, \"27\": 2}, \"41\": {\"41\": 20, \"32\": 2, \"27\": 1, \"33\": 2, \"14\": 1, \"34\": 1, \"48\": 1}, \"42\": {\"42\": 32, \"11\": 1, \"23\": 3, \"17\": 3, \"41\": 1}, \"49\": {\"49\": 35, \"2\": 1}, \"13\": {\"13\": 143, \"2\": 2, \"56\": 1, \"43\": 2}, \"38\": {\"38\": 26, \"23\": 1, \"8\": 1, \"17\": 2, \"51\": 1, \"54\": 1}, \"2\": {\"2\": 28}, \"47\": {\"47\": 91, \"9\": 1, \"1\": 4, \"44\": 1, \"52\": 1, \"30\": 1, \"20\": 1}, \"17\": {\"17\": 105, \"32\": 1, \"41\": 3, \"55\": 3, \"54\": 2, \"27\": 1, \"23\": 1}, \"11\": {\"11\": 134, \"15\": 19, \"31\": 1}, \"29\": {\"29\": 106, \"1\": 7, \"20\": 3, \"14\": 1, \"48\": 3, \"57\": 9, \"8\": 2, \"21\": 1}, \"50\": {\"50\": 85, \"6\": 27, \"45\": 23, \"3\": 3}, \"56\": {\"56\": 146, \"0\": 2}, \"15\": {\"15\": 130, \"11\": 12}}, \"C_2\": {\"49\": {\"49\": 22, \"23\": 2}, \"13\": {\"13\": 103, \"56\": 5, \"38\": 2, \"55\": 2, \"22\": 3, \"14\": 1}, \"37\": {\"37\": 35, \"38\": 1}, \"41\": {\"41\": 17, \"50\": 1, \"45\": 1, \"30\": 1}, \"15\": {\"15\": 134, \"16\": 4, \"23\": 2, \"53\": 1, \"19\": 1}, \"56\": {\"56\": 137, \"11\": 1, \"0\": 2, \"22\": 2}, \"14\": {\"38\": 4, \"56\": 3, \"39\": 1, \"14\": 6, \"32\": 1, \"13\": 3, \"36\": 1, \"9\": 1, \"2\": 1, \"29\": 1, \"43\": 2}, \"3\": {\"3\": 45, \"30\": 1, \"50\": 5, \"45\": 11, \"6\": 13, \"46\": 8, \"12\": 6, \"21\": 1, \"5\": 2}, \"38\": {\"38\": 18, \"14\": 2}, \"43\": {\"43\": 138}, \"33\": {\"33\": 14, \"51\": 1, \"42\": 1, \"39\": 1, \"54\": 2, \"27\": 1, \"36\": 1, \"29\": 1, \"32\": 2, \"8\": 3, \"2\": 1}, \"47\": {\"47\": 122, \"48\": 11, \"0\": 1, \"52\": 1, \"1\": 3}, \"30\": {\"30\": 140, \"52\": 3, \"3\": 1}, \"39\": {\"39\": 24, \"57\": 1, \"8\": 1, \"1\": 1, \"48\": 1}, \"12\": {\"12\": 92}, \"6\": {\"6\": 110, \"3\": 4, \"45\": 7, \"5\": 1, \"12\": 2}, \"51\": {\"8\": 11, \"33\": 1, \"51\": 82, \"2\": 4, \"27\": 14, \"54\": 1, \"9\": 5, \"4\": 5, \"36\": 5, \"20\": 1, \"57\": 1, \"32\": 1, \"29\": 3}, \"5\": {\"5\": 100, \"46\": 19, \"6\": 1}, \"34\": {\"34\": 24, \"19\": 1, \"15\": 1, \"32\": 1, \"23\": 1}, \"35\": {\"35\": 26, \"15\": 1, \"23\": 1, \"54\": 1, \"34\": 2, \"32\": 1}, \"0\": {\"0\": 48}, \"7\": {\"7\": 34, \"42\": 2}, \"24\": {\"24\": 95, \"43\": 1}, \"8\": {\"4\": 3, \"8\": 110, \"57\": 10, \"20\": 6, \"9\": 2, \"29\": 2, \"27\": 3}, \"20\": {\"20\": 90, \"1\": 2, \"8\": 5, \"48\": 14, \"52\": 3, \"30\": 2, \"47\": 3, \"4\": 1, \"41\": 1, \"40\": 2, \"44\": 1}, \"36\": {\"36\": 114, \"29\": 1, \"39\": 1}, \"42\": {\"42\": 32, \"51\": 1, \"39\": 1, \"9\": 1, \"33\": 1}, \"1\": {\"1\": 88, \"30\": 2, \"48\": 11, \"47\": 9, \"40\": 1, \"20\": 1}, \"4\": {\"4\": 96, \"1\": 8, \"2\": 1, \"9\": 15, \"57\": 8, \"40\": 3, \"44\": 1, \"29\": 8, \"8\": 4, \"27\": 3, \"41\": 1}, \"28\": {\"28\": 28}, \"50\": {\"50\": 74, \"46\": 3, \"3\": 15, \"21\": 3, \"45\": 10, \"12\": 8, \"6\": 14, \"5\": 9}, \"45\": {\"46\": 10, \"6\": 25, \"3\": 5, \"45\": 65, \"50\": 2, \"5\": 7, \"12\": 14}, \"18\": {\"18\": 48}, \"57\": {\"57\": 96, \"1\": 5, \"20\": 1, \"44\": 1, \"4\": 5, \"9\": 2, \"48\": 4, \"29\": 1, \"8\": 2, \"47\": 2, \"40\": 1}, \"46\": {\"46\": 107, \"5\": 17, \"3\": 1, \"6\": 2, \"12\": 1}, \"23\": {\"23\": 135, \"54\": 2, \"17\": 7, \"19\": 1, \"53\": 3}, \"27\": {\"27\": 134, \"8\": 3, \"9\": 1}, \"19\": {\"23\": 6, \"26\": 1, \"19\": 105, \"42\": 1, \"15\": 5, \"49\": 2, \"35\": 2, \"11\": 1, \"54\": 2, \"25\": 3, \"36\": 1, \"16\": 4, \"53\": 1}, \"22\": {\"22\": 134, \"56\": 2}, \"17\": {\"17\": 86, \"32\": 1, \"54\": 10, \"23\": 5, \"9\": 1, \"29\": 1}, \"55\": {\"55\": 124, \"22\": 4, \"51\": 1, \"9\": 4, \"20\": 1, \"13\": 1, \"29\": 1}, \"44\": {\"44\": 85, \"12\": 5, \"45\": 3, \"52\": 1, \"5\": 1, \"0\": 1, \"3\": 2, \"50\": 1, \"6\": 1}, \"26\": {\"17\": 1, \"26\": 19, \"51\": 1, \"53\": 3}, \"31\": {\"31\": 28}, \"16\": {\"11\": 1, \"16\": 121, \"15\": 7, \"23\": 1}, \"11\": {\"11\": 124, \"23\": 1, \"15\": 3}, \"25\": {\"25\": 125, \"18\": 1}, \"54\": {\"32\": 3, \"54\": 90, \"33\": 2, \"36\": 2, \"51\": 1, \"7\": 1, \"23\": 4, \"17\": 5}, \"32\": {\"32\": 23, \"39\": 1, \"54\": 1, \"29\": 1, \"9\": 1, \"17\": 1}, \"52\": {\"52\": 119, \"30\": 3, \"47\": 1, \"50\": 1}, \"40\": {\"40\": 85, \"44\": 4, \"48\": 11, \"47\": 3, \"41\": 1, \"30\": 3, \"29\": 1, \"1\": 3, \"52\": 7, \"20\": 7, \"21\": 1, \"27\": 1, \"57\": 4, \"0\": 1}, \"2\": {\"2\": 24, \"57\": 4, \"4\": 2, \"52\": 1, \"47\": 1}, \"10\": {\"10\": 110}, \"53\": {\"53\": 94, \"23\": 18, \"26\": 3, \"34\": 2, \"54\": 6, \"17\": 2, \"15\": 3, \"19\": 2, \"16\": 2, \"51\": 1, \"42\": 1, \"49\": 1, \"35\": 1}, \"9\": {\"4\": 18, \"9\": 84, \"29\": 18, \"1\": 2, \"8\": 1, \"27\": 10, \"2\": 1, \"52\": 2, \"57\": 8, \"51\": 1, \"30\": 1, \"47\": 1, \"21\": 1, \"44\": 1, \"48\": 1}, \"21\": {\"21\": 91, \"12\": 7, \"46\": 2, \"45\": 3, \"5\": 3, \"50\": 9, \"6\": 3, \"3\": 1, \"30\": 1}, \"48\": {\"48\": 108, \"47\": 21, \"1\": 4, \"52\": 2, \"40\": 1, \"44\": 1, \"20\": 1}, \"29\": {\"29\": 80, \"47\": 2, \"9\": 18, \"2\": 1, \"27\": 7, \"57\": 4, \"20\": 3, \"1\": 2, \"8\": 1, \"4\": 8, \"44\": 1, \"30\": 1}}, \"C_1\": {\"9\": {\"9\": 136, \"8\": 2, \"48\": 3, \"51\": 1}, \"25\": {\"25\": 120, \"26\": 2, \"16\": 5, \"18\": 1}, \"41\": {\"41\": 22, \"9\": 1, \"33\": 1}, \"29\": {\"29\": 102, \"57\": 7, \"1\": 10, \"32\": 1, \"7\": 6, \"8\": 4, \"4\": 4, \"30\": 4, \"48\": 1, \"40\": 1}, \"46\": {\"50\": 3, \"46\": 74, \"56\": 8, \"45\": 14, \"5\": 11, \"44\": 9, \"6\": 6, \"3\": 3}, \"4\": {\"57\": 7, \"50\": 1, \"4\": 97, \"2\": 2, \"30\": 5, \"13\": 2, \"40\": 13, \"56\": 1, \"45\": 1, \"5\": 1, \"6\": 1, \"12\": 1}, \"31\": {\"31\": 28}, \"36\": {\"36\": 60, \"57\": 2, \"40\": 1, \"13\": 1}, \"20\": {\"46\": 8, \"20\": 47, \"12\": 4, \"45\": 17, \"3\": 12, \"6\": 7, \"50\": 4, \"56\": 14, \"44\": 7, \"5\": 7, \"13\": 1}, \"7\": {\"7\": 28}, \"6\": {\"46\": 12, \"6\": 56, \"45\": 12, \"5\": 4, \"56\": 3, \"50\": 7, \"44\": 2}, \"16\": {\"16\": 121, \"19\": 10, \"53\": 3, \"26\": 1, \"17\": 1, \"25\": 2}, \"17\": {\"17\": 60, \"42\": 2, \"8\": 1, \"48\": 1}, \"50\": {\"6\": 11, \"50\": 120, \"56\": 3, \"45\": 7, \"46\": 5, \"5\": 1, \"20\": 1}, \"57\": {\"57\": 103, \"2\": 2, \"30\": 16, \"1\": 1, \"4\": 8, \"3\": 2, \"29\": 1, \"40\": 8, \"13\": 3}, \"23\": {\"23\": 136}, \"3\": {\"50\": 3, \"3\": 56, \"56\": 19, \"45\": 10, \"5\": 6, \"46\": 4, \"20\": 10, \"44\": 11, \"6\": 2, \"12\": 3, \"13\": 2}, \"53\": {\"26\": 5, \"53\": 113, \"19\": 8, \"51\": 1, \"42\": 1, \"54\": 2, \"16\": 8, \"8\": 1, \"9\": 1}, \"49\": {\"49\": 32}, \"56\": {\"56\": 85, \"45\": 29, \"44\": 25, \"46\": 8, \"6\": 2, \"5\": 3}, \"51\": {\"51\": 98, \"57\": 1, \"37\": 4, \"7\": 1, \"8\": 11, \"48\": 6, \"55\": 9, \"29\": 2, \"9\": 4, \"54\": 1, \"41\": 3, \"33\": 1, \"1\": 1}, \"26\": {\"26\": 22, \"41\": 1, \"53\": 1}, \"43\": {\"43\": 144}, \"22\": {\"22\": 114, \"52\": 7, \"21\": 15}, \"45\": {\"45\": 122, \"56\": 15, \"3\": 1, \"6\": 2, \"46\": 2, \"44\": 3, \"20\": 1}, \"13\": {\"50\": 13, \"13\": 92, \"12\": 15, \"30\": 5, \"44\": 2, \"51\": 1, \"6\": 2, \"57\": 3, \"20\": 4, \"3\": 6, \"56\": 3, \"46\": 1, \"40\": 1, \"5\": 3, \"4\": 1}, \"12\": {\"12\": 81, \"50\": 9, \"56\": 3, \"3\": 3, \"20\": 5, \"6\": 5, \"5\": 3, \"45\": 3, \"44\": 2, \"30\": 1, \"46\": 1}, \"54\": {\"54\": 98, \"7\": 1, \"42\": 1, \"51\": 2, \"17\": 1, \"9\": 1}, \"24\": {\"24\": 95, \"43\": 6, \"39\": 2, \"31\": 4, \"23\": 1}, \"44\": {\"44\": 118, \"45\": 11, \"46\": 2, \"56\": 4, \"20\": 1}, \"28\": {\"28\": 26, \"24\": 1, \"10\": 1}, \"33\": {\"33\": 31, \"42\": 1}, \"38\": {\"38\": 21, \"47\": 1, \"22\": 1, \"45\": 1}, \"0\": {\"0\": 140, \"44\": 2, \"45\": 1, \"12\": 1}, \"47\": {\"47\": 147, \"22\": 7}, \"42\": {\"17\": 4, \"34\": 2, \"42\": 24, \"32\": 1, \"9\": 1, \"33\": 2, \"48\": 3, \"41\": 1, \"8\": 1, \"36\": 1}, \"34\": {\"34\": 22, \"55\": 1, \"54\": 1}, \"48\": {\"48\": 125, \"8\": 14, \"9\": 1, \"36\": 1, \"57\": 1}, \"35\": {\"35\": 34, \"23\": 2}, \"2\": {\"2\": 36}, \"30\": {\"30\": 119, \"14\": 1}, \"18\": {\"18\": 71, \"25\": 1}, \"37\": {\"37\": 29, \"51\": 2, \"13\": 1}, \"1\": {\"1\": 58, \"48\": 12, \"29\": 13, \"8\": 6, \"57\": 2, \"40\": 3, \"4\": 2, \"7\": 1, \"14\": 1, \"51\": 1, \"30\": 1}, \"11\": {\"11\": 130, \"28\": 1, \"10\": 4, \"15\": 3}, \"55\": {\"29\": 4, \"55\": 119, \"32\": 2, \"51\": 3, \"1\": 1, \"36\": 1}, \"15\": {\"15\": 150}, \"10\": {\"10\": 85, \"28\": 5, \"11\": 6}, \"27\": {\"27\": 159, \"52\": 1}, \"19\": {\"19\": 131, \"53\": 5, \"34\": 1, \"16\": 4, \"1\": 1, \"55\": 1, \"17\": 2, \"9\": 1}, \"14\": {\"30\": 7, \"14\": 12, \"13\": 1, \"12\": 2, \"4\": 1, \"2\": 1}, \"8\": {\"48\": 27, \"8\": 112, \"30\": 1}, \"5\": {\"5\": 136}, \"39\": {\"39\": 23, \"27\": 1, \"43\": 2, \"47\": 1, \"38\": 1}, \"52\": {\"52\": 101, \"47\": 5, \"27\": 8, \"21\": 2, \"22\": 6}, \"21\": {\"21\": 117, \"22\": 7}, \"40\": {\"40\": 96, \"44\": 1, \"30\": 4, \"57\": 13, \"12\": 6, \"4\": 12, \"50\": 5, \"3\": 3, \"56\": 3, \"13\": 7, \"46\": 1, \"5\": 1}, \"32\": {\"32\": 30, \"36\": 1, \"55\": 1}}, \"C_3\": {\"56\": {\"56\": 120}, \"4\": {\"4\": 79, \"27\": 21, \"8\": 7, \"33\": 2, \"1\": 3, \"47\": 1, \"29\": 3, \"57\": 12, \"9\": 12, \"48\": 2, \"52\": 1, \"20\": 2, \"51\": 1}, \"34\": {\"32\": 2, \"34\": 22, \"17\": 1, \"8\": 1, \"36\": 2, \"54\": 2, \"35\": 1, \"23\": 1}, \"52\": {\"52\": 127, \"30\": 6, \"48\": 2, \"20\": 1}, \"32\": {\"27\": 3, \"32\": 20, \"34\": 2, \"2\": 1, \"36\": 2}, \"46\": {\"46\": 90, \"12\": 4, \"5\": 18, \"45\": 3, \"3\": 10, \"50\": 5, \"6\": 6}, \"12\": {\"12\": 88, \"45\": 2, \"5\": 2}, \"20\": {\"20\": 111, \"52\": 9, \"47\": 3, \"48\": 4, \"40\": 4, \"1\": 1}, \"54\": {\"26\": 1, \"54\": 84, \"17\": 9, \"34\": 2, \"32\": 1, \"36\": 1, \"23\": 1, \"51\": 1}, \"22\": {\"22\": 140}, \"26\": {\"26\": 21, \"42\": 1, \"32\": 1, \"54\": 1}, \"31\": {\"31\": 28}, \"10\": {\"10\": 64}, \"27\": {\"27\": 112, \"57\": 5, \"8\": 6, \"39\": 1, \"9\": 9, \"29\": 3, \"20\": 1, \"4\": 6, \"1\": 1}, \"40\": {\"40\": 89, \"44\": 4, \"48\": 12, \"47\": 3, \"20\": 5, \"45\": 1, \"1\": 8, \"52\": 3, \"30\": 3, \"0\": 2, \"9\": 4, \"41\": 1, \"4\": 1}, \"28\": {\"28\": 22, \"53\": 1, \"16\": 1, \"15\": 3, \"23\": 1}, \"5\": {\"5\": 94, \"46\": 10, \"12\": 2, \"3\": 5, \"6\": 1, \"45\": 2, \"50\": 2}, \"30\": {\"30\": 120}, \"7\": {\"7\": 31, \"13\": 1, \"22\": 2, \"43\": 1, \"47\": 1}, \"18\": {\"18\": 83, \"25\": 1}, \"39\": {\"29\": 1, \"39\": 13, \"2\": 2}, \"50\": {\"5\": 9, \"12\": 10, \"6\": 1, \"50\": 70, \"3\": 24, \"21\": 1, \"45\": 4, \"46\": 17}, \"49\": {\"13\": 1, \"49\": 17, \"24\": 1, \"43\": 1}, \"43\": {\"43\": 121, \"31\": 1}, \"29\": {\"29\": 63, \"4\": 5, \"9\": 16, \"27\": 9, \"1\": 2, \"8\": 9, \"57\": 9, \"40\": 1}, \"35\": {\"35\": 21, \"42\": 2, \"29\": 1, \"39\": 1, \"27\": 1, \"34\": 2}, \"13\": {\"13\": 95, \"14\": 7, \"56\": 11, \"22\": 2, \"55\": 7, \"43\": 2}, \"36\": {\"36\": 96, \"8\": 1, \"35\": 1, \"57\": 1, \"29\": 1}, \"11\": {\"11\": 140, \"28\": 1, \"15\": 5}, \"57\": {\"57\": 73, \"9\": 16, \"1\": 8, \"4\": 13, \"48\": 1, \"8\": 2, \"40\": 2, \"27\": 6, \"33\": 1, \"29\": 2}, \"9\": {\"9\": 76, \"47\": 1, \"1\": 1, \"4\": 11, \"57\": 13, \"29\": 9, \"27\": 9, \"48\": 1, \"8\": 5, \"40\": 3, \"20\": 1}, \"25\": {\"25\": 126, \"53\": 1, \"18\": 1, \"16\": 1, \"19\": 1}, \"16\": {\"16\": 108, \"53\": 3, \"23\": 3, \"15\": 8, \"19\": 4}, \"53\": {\"53\": 71, \"51\": 4, \"34\": 1, \"17\": 4, \"19\": 7, \"36\": 1, \"23\": 17, \"16\": 6, \"54\": 4, \"15\": 2, \"57\": 1}, \"33\": {\"33\": 24, \"57\": 1, \"9\": 1, \"40\": 1, \"39\": 1}, \"51\": {\"51\": 97, \"42\": 2, \"32\": 1, \"27\": 5, \"38\": 1, \"9\": 4, \"8\": 8, \"36\": 1, \"29\": 3, \"57\": 1, \"2\": 1, \"54\": 1, \"17\": 2, \"4\": 1}, \"44\": {\"44\": 69, \"50\": 7, \"46\": 3, \"6\": 1, \"5\": 2, \"45\": 1, \"3\": 5}, \"48\": {\"48\": 74, \"1\": 8, \"47\": 13, \"30\": 4, \"20\": 8, \"52\": 2, \"40\": 3, \"41\": 1, \"3\": 1}, \"6\": {\"6\": 80, \"5\": 1, \"12\": 2, \"45\": 2, \"3\": 3}, \"23\": {\"23\": 133, \"35\": 1, \"17\": 4, \"34\": 1, \"36\": 1, \"54\": 4}, \"1\": {\"1\": 75, \"47\": 13, \"48\": 5, \"20\": 2, \"30\": 1, \"40\": 3, \"41\": 1}, \"17\": {\"23\": 2, \"17\": 92, \"26\": 2, \"36\": 1, \"54\": 9, \"35\": 1, \"32\": 1}, \"21\": {\"21\": 78, \"44\": 1, \"12\": 4, \"46\": 9, \"45\": 3, \"50\": 15, \"5\": 3, \"0\": 2, \"3\": 7}, \"14\": {\"57\": 3, \"34\": 3, \"43\": 5, \"51\": 1, \"35\": 2, \"7\": 2, \"13\": 3, \"14\": 7, \"29\": 2, \"2\": 3, \"1\": 2, \"9\": 1, \"55\": 2, \"8\": 1, \"56\": 1, \"17\": 2}, \"55\": {\"14\": 1, \"55\": 139, \"13\": 3, \"31\": 1}, \"41\": {\"41\": 27, \"0\": 1}, \"3\": {\"6\": 16, \"46\": 13, \"3\": 74, \"50\": 6, \"45\": 3, \"12\": 15, \"21\": 4, \"5\": 7}, \"38\": {\"38\": 28}, \"2\": {\"2\": 21, \"39\": 2, \"27\": 1, \"51\": 2, \"33\": 2, \"57\": 2, \"8\": 1, \"36\": 1}, \"8\": {\"8\": 118, \"4\": 3, \"57\": 4, \"33\": 1, \"1\": 1, \"27\": 7, \"29\": 4, \"9\": 3, \"2\": 1}, \"37\": {\"37\": 28}, \"45\": {\"5\": 4, \"45\": 27, \"12\": 15, \"6\": 9, \"46\": 4, \"3\": 1}, \"42\": {\"42\": 27, \"35\": 1}, \"24\": {\"24\": 104}, \"15\": {\"15\": 131, \"11\": 1, \"16\": 1, \"23\": 1, \"28\": 2}, \"0\": {\"0\": 123, \"46\": 1}, \"47\": {\"47\": 69, \"50\": 1, \"41\": 2, \"1\": 4, \"52\": 2, \"48\": 12, \"30\": 2}, \"19\": {\"19\": 93, \"54\": 2, \"23\": 8, \"15\": 5, \"36\": 3, \"16\": 6, \"17\": 1, \"53\": 1, \"27\": 1}}}, \"per_domain_accuracy\": {\"O_14\": {\"accuracy\": 0.8697916666666666, \"source?\": true}, \"O_20\": {\"accuracy\": 0.81875, \"source?\": true}, \"O_50\": {\"accuracy\": 0.9052083333333333, \"source?\": true}, \"O_26\": {\"accuracy\": 0.8286458333333333, \"source?\": true}, \"O_32\": {\"accuracy\": 0.8703125, \"source?\": true}, \"O_44\": {\"accuracy\": 0.84375, \"source?\": true}, \"O_8\": {\"accuracy\": 0.82421875, \"source?\": true}, \"O_38\": {\"accuracy\": 0.8934895833333333, \"source?\": true}, \"C_4\": {\"accuracy\": 0.8201721556886228, \"source?\": false}, \"C_5\": {\"accuracy\": 0.8100558659217877, \"source?\": false}, \"C_2\": {\"accuracy\": 0.8289285714285715, \"source?\": false}, \"C_1\": {\"accuracy\": 0.8260869565217391, \"source?\": false}, \"C_3\": {\"accuracy\": 0.803860294117647, \"source?\": false}}}, \"history\": {\"epoch_indices\": [1, 2, 3, 4, 5, 6, 7], \"train_label_loss\": [0.5462360399026823, 1.6242546166193539, 0.3945254714777028, 0.4129513702854248, 0.32833297923567617, 0.3130350130405055, 0.30463553128315], \"source_val_label_loss\": [25.000957489013672, 0.4227653443813324, 0.4185199737548828, 0.3625611960887909, 0.3414752781391144, 0.31628337502479553, 0.32297202944755554], \"target_val_label_loss\": [1629.6119384765625, 1102.1788330078125, 685.1790771484375, 892.0211181640625, 1088.0361328125, 3273.03271484375, 2047.176025390625], \"source_val_acc_label\": [0.6867513020833333, 0.8560546875, 0.8567708333333334, 0.87197265625, 0.88271484375, 0.88759765625, 0.8886393229166667], \"target_val_acc_label\": [0.7588928571428571, 0.7375714285714285, 0.8179285714285714, 0.7800714285714285, 0.8047857142857143, 0.7491428571428571, 0.7584285714285715]}, \"dataset_metrics\": {\"source\": {\"train\": {\"n_unique_x\": 179200, \"n_unique_y\": 16, \"n_batch/episode\": 6720}, \"val\": {\"n_unique_x\": 38400, \"n_unique_y\": 16, \"n_batch/episode\": 960}, \"test\": {\"n_unique_x\": 38400, \"n_unique_y\": 16, \"n_batch/episode\": 960}}, \"target\": {\"train\": {\"n_unique_x\": 175158, \"n_unique_y\": 58, \"n_batch/episode\": 6317}, \"val\": {\"n_unique_x\": 37216, \"n_unique_y\": 58, \"n_batch/episode\": 875}, \"test\": {\"n_unique_x\": 37596, \"n_unique_y\": 58, \"n_batch/episode\": 886}}}}'"
      ]
     },
     "execution_count": 29,
     "metadata": {},
     "output_type": "execute_result"
    }
   ],
   "source": [
    "json.dumps(experiment)"
   ]
  }
 ],
 "metadata": {
  "celltoolbar": "Tags",
  "kernelspec": {
   "display_name": "Python 3 (ipykernel)",
   "language": "python",
   "name": "python3"
  },
  "language_info": {
   "codemirror_mode": {
    "name": "ipython",
    "version": 3
   },
   "file_extension": ".py",
   "mimetype": "text/x-python",
   "name": "python",
   "nbconvert_exporter": "python",
   "pygments_lexer": "ipython3",
   "version": "3.8.12"
  },
  "papermill": {
   "default_parameters": {},
   "duration": 1843.864152,
   "end_time": "2022-03-28T04:31:39.787748",
   "environment_variables": {},
   "exception": null,
   "input_path": "/root/csc500-main/csc500-notebooks/templates/tl_ptn_template.ipynb",
   "output_path": "trial.ipynb",
   "parameters": {
    "parameters": {
     "BEST_MODEL_PATH": "./best_model.pth",
     "NUM_LOGS_PER_EPOCH": 10,
     "criteria_for_best": "target_accuracy",
     "dataset_seed": 420,
     "datasets": [
      {
       "domain_prefix": "C_",
       "domains": [
        1,
        2,
        3,
        4,
        5
       ],
       "episode_transforms": [],
       "labels": [
        "1-10.",
        "1-11.",
        "1-15.",
        "1-16.",
        "1-17.",
        "1-18.",
        "1-19.",
        "10-4.",
        "10-7.",
        "11-1.",
        "11-14.",
        "11-17.",
        "11-20.",
        "11-7.",
        "13-20.",
        "13-8.",
        "14-10.",
        "14-11.",
        "14-14.",
        "14-7.",
        "15-1.",
        "15-20.",
        "16-1.",
        "16-16.",
        "17-10.",
        "17-11.",
        "17-2.",
        "19-1.",
        "19-16.",
        "19-19.",
        "19-20.",
        "19-3.",
        "2-10.",
        "2-11.",
        "2-17.",
        "2-18.",
        "2-20.",
        "2-3.",
        "2-4.",
        "2-5.",
        "2-6.",
        "2-7.",
        "2-8.",
        "3-13.",
        "3-18.",
        "3-3.",
        "4-1.",
        "4-10.",
        "4-11.",
        "4-19.",
        "5-5.",
        "6-15.",
        "7-10.",
        "7-14.",
        "8-18.",
        "8-20.",
        "8-3.",
        "8-8."
       ],
       "num_examples_per_domain_per_label": -1,
       "pickle_path": "/root/csc500-main/datasets/cores.stratified_ds.2022A.pkl",
       "source_or_target_dataset": "target",
       "x_transforms": [
        "jitter_256_1",
        "lowpass_+/-10MHz",
        "take_200"
       ]
      },
      {
       "domain_prefix": "O_",
       "domains": [
        32,
        38,
        8,
        44,
        14,
        50,
        20,
        26
       ],
       "episode_transforms": [],
       "labels": [
        "3123D52",
        "3123D65",
        "3123D79",
        "3123D80",
        "3123D54",
        "3123D70",
        "3123D7B",
        "3123D89",
        "3123D58",
        "3123D76",
        "3123D7D",
        "3123EFE",
        "3123D64",
        "3123D78",
        "3123D7E",
        "3124E4A"
       ],
       "num_examples_per_domain_per_label": 2000,
       "pickle_path": "/root/csc500-main/datasets/oracle.Run1_framed_2000Examples_stratified_ds.2022A.pkl",
       "source_or_target_dataset": "source",
       "x_transforms": [
        "jitter_256_1",
        "take_200",
        "resample_20Msps_to_25Msps"
       ]
      }
     ],
     "device": "cuda",
     "experiment_name": "tl_3-jitter1v2:oracle.run1.framed -> cores",
     "lr": 0.0001,
     "n_epoch": 50,
     "n_query": 2,
     "n_shot": 3,
     "n_way": 16,
     "patience": 3,
     "seed": 420,
     "test_k_factor": 2,
     "torch_default_dtype": "torch.float32",
     "train_k_factor": 3,
     "val_k_factor": 2,
     "x_net": [
      {
       "class": "nnReshape",
       "kargs": {
        "shape": [
         -1,
         1,
         2,
         256
        ]
       }
      },
      {
       "class": "Conv2d",
       "kargs": {
        "bias": false,
        "in_channels": 1,
        "kernel_size": [
         1,
         7
        ],
        "out_channels": 256,
        "padding": [
         0,
         3
        ]
       }
      },
      {
       "class": "ReLU",
       "kargs": {
        "inplace": true
       }
      },
      {
       "class": "BatchNorm2d",
       "kargs": {
        "num_features": 256
       }
      },
      {
       "class": "Conv2d",
       "kargs": {
        "bias": true,
        "in_channels": 256,
        "kernel_size": [
         2,
         7
        ],
        "out_channels": 80,
        "padding": [
         0,
         3
        ]
       }
      },
      {
       "class": "ReLU",
       "kargs": {
        "inplace": true
       }
      },
      {
       "class": "BatchNorm2d",
       "kargs": {
        "num_features": 80
       }
      },
      {
       "class": "Flatten",
       "kargs": {}
      },
      {
       "class": "Linear",
       "kargs": {
        "in_features": 20480,
        "out_features": 256
       }
      },
      {
       "class": "ReLU",
       "kargs": {
        "inplace": true
       }
      },
      {
       "class": "BatchNorm1d",
       "kargs": {
        "num_features": 256
       }
      },
      {
       "class": "Linear",
       "kargs": {
        "in_features": 256,
        "out_features": 256
       }
      }
     ],
     "x_shape": [
      2,
      256
     ]
    }
   },
   "start_time": "2022-03-28T04:00:55.923596",
   "version": "2.3.4"
  }
 },
 "nbformat": 4,
 "nbformat_minor": 5
}