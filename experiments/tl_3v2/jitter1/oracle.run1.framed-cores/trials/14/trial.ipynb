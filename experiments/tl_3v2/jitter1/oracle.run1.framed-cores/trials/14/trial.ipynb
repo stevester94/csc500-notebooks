{
 "cells": [
  {
   "cell_type": "markdown",
   "id": "9fea5f46",
   "metadata": {
    "papermill": {
     "duration": 0.028346,
     "end_time": "2022-03-28T06:07:21.087618",
     "exception": false,
     "start_time": "2022-03-28T06:07:21.059272",
     "status": "completed"
    },
    "tags": []
   },
   "source": [
    "# Transfer Learning Template"
   ]
  },
  {
   "cell_type": "code",
   "execution_count": 1,
   "id": "0902182a",
   "metadata": {
    "execution": {
     "iopub.execute_input": "2022-03-28T06:07:21.150139Z",
     "iopub.status.busy": "2022-03-28T06:07:21.148807Z",
     "iopub.status.idle": "2022-03-28T06:07:23.019429Z",
     "shell.execute_reply": "2022-03-28T06:07:23.018985Z"
    },
    "papermill": {
     "duration": 1.908512,
     "end_time": "2022-03-28T06:07:23.019552",
     "exception": false,
     "start_time": "2022-03-28T06:07:21.111040",
     "status": "completed"
    },
    "tags": []
   },
   "outputs": [],
   "source": [
    "%load_ext autoreload\n",
    "%autoreload 2\n",
    "%matplotlib inline\n",
    "\n",
    "    \n",
    "import os, json, sys, time, random\n",
    "import numpy as np\n",
    "import torch\n",
    "from torch.optim import Adam\n",
    "from  easydict import EasyDict\n",
    "import matplotlib.pyplot as plt\n",
    "\n",
    "from steves_models.steves_ptn import Steves_Prototypical_Network\n",
    "\n",
    "from steves_utils.lazy_iterable_wrapper import Lazy_Iterable_Wrapper\n",
    "from steves_utils.iterable_aggregator import Iterable_Aggregator\n",
    "from steves_utils.ptn_train_eval_test_jig import  PTN_Train_Eval_Test_Jig\n",
    "from steves_utils.torch_sequential_builder import build_sequential\n",
    "from steves_utils.torch_utils import get_dataset_metrics, ptn_confusion_by_domain_over_dataloader\n",
    "from steves_utils.utils_v2 import (per_domain_accuracy_from_confusion, get_datasets_base_path)\n",
    "from steves_utils.PTN.utils import independent_accuracy_assesment\n",
    "\n",
    "from torch.utils.data import DataLoader\n",
    "\n",
    "from steves_utils.stratified_dataset.episodic_accessor import Episodic_Accessor_Factory\n",
    "\n",
    "from steves_utils.ptn_do_report import (\n",
    "    get_loss_curve,\n",
    "    get_results_table,\n",
    "    get_parameters_table,\n",
    "    get_domain_accuracies,\n",
    ")\n",
    "\n",
    "from steves_utils.transforms import get_chained_transform"
   ]
  },
  {
   "cell_type": "markdown",
   "id": "41c840b4",
   "metadata": {
    "papermill": {
     "duration": 0.01991,
     "end_time": "2022-03-28T06:07:23.060357",
     "exception": false,
     "start_time": "2022-03-28T06:07:23.040447",
     "status": "completed"
    },
    "tags": []
   },
   "source": [
    "# Allowed Parameters\n",
    "These are allowed parameters, not defaults\n",
    "Each of these values need to be present in the injected parameters (the notebook will raise an exception if they are not present)\n",
    "\n",
    "Papermill uses the cell tag \"parameters\" to inject the real parameters below this cell.\n",
    "Enable tags to see what I mean"
   ]
  },
  {
   "cell_type": "code",
   "execution_count": 2,
   "id": "fd44eb83",
   "metadata": {
    "execution": {
     "iopub.execute_input": "2022-03-28T06:07:23.104379Z",
     "iopub.status.busy": "2022-03-28T06:07:23.103755Z",
     "iopub.status.idle": "2022-03-28T06:07:23.126205Z",
     "shell.execute_reply": "2022-03-28T06:07:23.125394Z"
    },
    "papermill": {
     "duration": 0.046577,
     "end_time": "2022-03-28T06:07:23.126358",
     "exception": false,
     "start_time": "2022-03-28T06:07:23.079781",
     "status": "completed"
    },
    "tags": []
   },
   "outputs": [],
   "source": [
    "required_parameters = {\n",
    "    \"experiment_name\",\n",
    "    \"lr\",\n",
    "    \"device\",\n",
    "    \"seed\",\n",
    "    \"dataset_seed\",\n",
    "    \"n_shot\",\n",
    "    \"n_query\",\n",
    "    \"n_way\",\n",
    "    \"train_k_factor\",\n",
    "    \"val_k_factor\",\n",
    "    \"test_k_factor\",\n",
    "    \"n_epoch\",\n",
    "    \"patience\",\n",
    "    \"criteria_for_best\",\n",
    "    \"x_net\",\n",
    "    \"datasets\",\n",
    "    \"torch_default_dtype\",\n",
    "    \"NUM_LOGS_PER_EPOCH\",\n",
    "    \"BEST_MODEL_PATH\",\n",
    "    \"x_shape\",\n",
    "}"
   ]
  },
  {
   "cell_type": "code",
   "execution_count": 3,
   "id": "fa3f0049",
   "metadata": {
    "execution": {
     "iopub.execute_input": "2022-03-28T06:07:23.185677Z",
     "iopub.status.busy": "2022-03-28T06:07:23.184761Z",
     "iopub.status.idle": "2022-03-28T06:07:23.206200Z",
     "shell.execute_reply": "2022-03-28T06:07:23.205386Z"
    },
    "papermill": {
     "duration": 0.054725,
     "end_time": "2022-03-28T06:07:23.206352",
     "exception": false,
     "start_time": "2022-03-28T06:07:23.151627",
     "status": "completed"
    },
    "tags": [
     "parameters"
    ]
   },
   "outputs": [],
   "source": [
    "from steves_utils.CORES.utils import (\n",
    "    ALL_NODES,\n",
    "    ALL_NODES_MINIMUM_1000_EXAMPLES,\n",
    "    ALL_DAYS\n",
    ")\n",
    "\n",
    "from steves_utils.ORACLE.utils_v2 import (\n",
    "    ALL_DISTANCES_FEET_NARROWED,\n",
    "    ALL_RUNS,\n",
    "    ALL_SERIAL_NUMBERS,\n",
    ")\n",
    "\n",
    "standalone_parameters = {}\n",
    "standalone_parameters[\"experiment_name\"] = \"STANDALONE PTN\"\n",
    "standalone_parameters[\"lr\"] = 0.001\n",
    "standalone_parameters[\"device\"] = \"cuda\"\n",
    "\n",
    "standalone_parameters[\"seed\"] = 1337\n",
    "standalone_parameters[\"dataset_seed\"] = 1337\n",
    "\n",
    "standalone_parameters[\"n_way\"] = 8\n",
    "standalone_parameters[\"n_shot\"] = 3\n",
    "standalone_parameters[\"n_query\"]  = 2\n",
    "standalone_parameters[\"train_k_factor\"] = 1\n",
    "standalone_parameters[\"val_k_factor\"] = 2\n",
    "standalone_parameters[\"test_k_factor\"] = 2\n",
    "\n",
    "\n",
    "standalone_parameters[\"n_epoch\"] = 50\n",
    "\n",
    "standalone_parameters[\"patience\"] = 10\n",
    "standalone_parameters[\"criteria_for_best\"] = \"source_loss\"\n",
    "\n",
    "standalone_parameters[\"datasets\"] = [\n",
    "    {\n",
    "        \"labels\": ALL_SERIAL_NUMBERS,\n",
    "        \"domains\": ALL_DISTANCES_FEET_NARROWED,\n",
    "        \"num_examples_per_domain_per_label\": 100,\n",
    "        \"pickle_path\": os.path.join(get_datasets_base_path(), \"oracle.Run1_framed_2000Examples_stratified_ds.2022A.pkl\"),\n",
    "        \"source_or_target_dataset\": \"source\",\n",
    "        \"x_transforms\": [\"unit_mag\", \"minus_two\"],\n",
    "        \"episode_transforms\": [],\n",
    "        \"domain_prefix\": \"ORACLE_\"\n",
    "    },\n",
    "    {\n",
    "        \"labels\": ALL_NODES,\n",
    "        \"domains\": ALL_DAYS,\n",
    "        \"num_examples_per_domain_per_label\": 100,\n",
    "        \"pickle_path\": os.path.join(get_datasets_base_path(), \"cores.stratified_ds.2022A.pkl\"),\n",
    "        \"source_or_target_dataset\": \"target\",\n",
    "        \"x_transforms\": [\"unit_power\", \"times_zero\"],\n",
    "        \"episode_transforms\": [],\n",
    "        \"domain_prefix\": \"CORES_\"\n",
    "    }   \n",
    "]\n",
    "\n",
    "standalone_parameters[\"torch_default_dtype\"] = \"torch.float32\" \n",
    "\n",
    "\n",
    "\n",
    "standalone_parameters[\"x_net\"] =     [\n",
    "    {\"class\": \"nnReshape\", \"kargs\": {\"shape\":[-1, 1, 2, 256]}},\n",
    "    {\"class\": \"Conv2d\", \"kargs\": { \"in_channels\":1, \"out_channels\":256, \"kernel_size\":(1,7), \"bias\":False, \"padding\":(0,3), },},\n",
    "    {\"class\": \"ReLU\", \"kargs\": {\"inplace\": True}},\n",
    "    {\"class\": \"BatchNorm2d\", \"kargs\": {\"num_features\":256}},\n",
    "\n",
    "    {\"class\": \"Conv2d\", \"kargs\": { \"in_channels\":256, \"out_channels\":80, \"kernel_size\":(2,7), \"bias\":True, \"padding\":(0,3), },},\n",
    "    {\"class\": \"ReLU\", \"kargs\": {\"inplace\": True}},\n",
    "    {\"class\": \"BatchNorm2d\", \"kargs\": {\"num_features\":80}},\n",
    "    {\"class\": \"Flatten\", \"kargs\": {}},\n",
    "\n",
    "    {\"class\": \"Linear\", \"kargs\": {\"in_features\": 80*256, \"out_features\": 256}}, # 80 units per IQ pair\n",
    "    {\"class\": \"ReLU\", \"kargs\": {\"inplace\": True}},\n",
    "    {\"class\": \"BatchNorm1d\", \"kargs\": {\"num_features\":256}},\n",
    "\n",
    "    {\"class\": \"Linear\", \"kargs\": {\"in_features\": 256, \"out_features\": 256}},\n",
    "]\n",
    "\n",
    "# Parameters relevant to results\n",
    "# These parameters will basically never need to change\n",
    "standalone_parameters[\"NUM_LOGS_PER_EPOCH\"] = 10\n",
    "standalone_parameters[\"BEST_MODEL_PATH\"] = \"./best_model.pth\"\n",
    "\n",
    "\n",
    "\n",
    "\n"
   ]
  },
  {
   "cell_type": "code",
   "execution_count": 4,
   "id": "dcd73501",
   "metadata": {
    "execution": {
     "iopub.execute_input": "2022-03-28T06:07:23.265942Z",
     "iopub.status.busy": "2022-03-28T06:07:23.264982Z",
     "iopub.status.idle": "2022-03-28T06:07:23.286089Z",
     "shell.execute_reply": "2022-03-28T06:07:23.285286Z"
    },
    "papermill": {
     "duration": 0.054871,
     "end_time": "2022-03-28T06:07:23.286241",
     "exception": false,
     "start_time": "2022-03-28T06:07:23.231370",
     "status": "completed"
    },
    "tags": [
     "injected-parameters"
    ]
   },
   "outputs": [],
   "source": [
    "# Parameters\n",
    "parameters = {\n",
    "    \"experiment_name\": \"tl_3-jitter1v2:oracle.run1.framed -> cores\",\n",
    "    \"device\": \"cuda\",\n",
    "    \"lr\": 0.0001,\n",
    "    \"x_shape\": [2, 256],\n",
    "    \"n_shot\": 3,\n",
    "    \"n_query\": 2,\n",
    "    \"train_k_factor\": 3,\n",
    "    \"val_k_factor\": 2,\n",
    "    \"test_k_factor\": 2,\n",
    "    \"torch_default_dtype\": \"torch.float32\",\n",
    "    \"n_epoch\": 50,\n",
    "    \"patience\": 3,\n",
    "    \"criteria_for_best\": \"target_accuracy\",\n",
    "    \"x_net\": [\n",
    "        {\"class\": \"nnReshape\", \"kargs\": {\"shape\": [-1, 1, 2, 256]}},\n",
    "        {\n",
    "            \"class\": \"Conv2d\",\n",
    "            \"kargs\": {\n",
    "                \"in_channels\": 1,\n",
    "                \"out_channels\": 256,\n",
    "                \"kernel_size\": [1, 7],\n",
    "                \"bias\": False,\n",
    "                \"padding\": [0, 3],\n",
    "            },\n",
    "        },\n",
    "        {\"class\": \"ReLU\", \"kargs\": {\"inplace\": True}},\n",
    "        {\"class\": \"BatchNorm2d\", \"kargs\": {\"num_features\": 256}},\n",
    "        {\n",
    "            \"class\": \"Conv2d\",\n",
    "            \"kargs\": {\n",
    "                \"in_channels\": 256,\n",
    "                \"out_channels\": 80,\n",
    "                \"kernel_size\": [2, 7],\n",
    "                \"bias\": True,\n",
    "                \"padding\": [0, 3],\n",
    "            },\n",
    "        },\n",
    "        {\"class\": \"ReLU\", \"kargs\": {\"inplace\": True}},\n",
    "        {\"class\": \"BatchNorm2d\", \"kargs\": {\"num_features\": 80}},\n",
    "        {\"class\": \"Flatten\", \"kargs\": {}},\n",
    "        {\"class\": \"Linear\", \"kargs\": {\"in_features\": 20480, \"out_features\": 256}},\n",
    "        {\"class\": \"ReLU\", \"kargs\": {\"inplace\": True}},\n",
    "        {\"class\": \"BatchNorm1d\", \"kargs\": {\"num_features\": 256}},\n",
    "        {\"class\": \"Linear\", \"kargs\": {\"in_features\": 256, \"out_features\": 256}},\n",
    "    ],\n",
    "    \"NUM_LOGS_PER_EPOCH\": 10,\n",
    "    \"BEST_MODEL_PATH\": \"./best_model.pth\",\n",
    "    \"n_way\": 16,\n",
    "    \"datasets\": [\n",
    "        {\n",
    "            \"labels\": [\n",
    "                \"1-10.\",\n",
    "                \"1-11.\",\n",
    "                \"1-15.\",\n",
    "                \"1-16.\",\n",
    "                \"1-17.\",\n",
    "                \"1-18.\",\n",
    "                \"1-19.\",\n",
    "                \"10-4.\",\n",
    "                \"10-7.\",\n",
    "                \"11-1.\",\n",
    "                \"11-14.\",\n",
    "                \"11-17.\",\n",
    "                \"11-20.\",\n",
    "                \"11-7.\",\n",
    "                \"13-20.\",\n",
    "                \"13-8.\",\n",
    "                \"14-10.\",\n",
    "                \"14-11.\",\n",
    "                \"14-14.\",\n",
    "                \"14-7.\",\n",
    "                \"15-1.\",\n",
    "                \"15-20.\",\n",
    "                \"16-1.\",\n",
    "                \"16-16.\",\n",
    "                \"17-10.\",\n",
    "                \"17-11.\",\n",
    "                \"17-2.\",\n",
    "                \"19-1.\",\n",
    "                \"19-16.\",\n",
    "                \"19-19.\",\n",
    "                \"19-20.\",\n",
    "                \"19-3.\",\n",
    "                \"2-10.\",\n",
    "                \"2-11.\",\n",
    "                \"2-17.\",\n",
    "                \"2-18.\",\n",
    "                \"2-20.\",\n",
    "                \"2-3.\",\n",
    "                \"2-4.\",\n",
    "                \"2-5.\",\n",
    "                \"2-6.\",\n",
    "                \"2-7.\",\n",
    "                \"2-8.\",\n",
    "                \"3-13.\",\n",
    "                \"3-18.\",\n",
    "                \"3-3.\",\n",
    "                \"4-1.\",\n",
    "                \"4-10.\",\n",
    "                \"4-11.\",\n",
    "                \"4-19.\",\n",
    "                \"5-5.\",\n",
    "                \"6-15.\",\n",
    "                \"7-10.\",\n",
    "                \"7-14.\",\n",
    "                \"8-18.\",\n",
    "                \"8-20.\",\n",
    "                \"8-3.\",\n",
    "                \"8-8.\",\n",
    "            ],\n",
    "            \"domains\": [1, 2, 3, 4, 5],\n",
    "            \"num_examples_per_domain_per_label\": -1,\n",
    "            \"pickle_path\": \"/root/csc500-main/datasets/cores.stratified_ds.2022A.pkl\",\n",
    "            \"source_or_target_dataset\": \"target\",\n",
    "            \"x_transforms\": [\"jitter_256_1\", \"lowpass_+/-10MHz\", \"take_200\"],\n",
    "            \"episode_transforms\": [],\n",
    "            \"domain_prefix\": \"C_\",\n",
    "        },\n",
    "        {\n",
    "            \"labels\": [\n",
    "                \"3123D52\",\n",
    "                \"3123D65\",\n",
    "                \"3123D79\",\n",
    "                \"3123D80\",\n",
    "                \"3123D54\",\n",
    "                \"3123D70\",\n",
    "                \"3123D7B\",\n",
    "                \"3123D89\",\n",
    "                \"3123D58\",\n",
    "                \"3123D76\",\n",
    "                \"3123D7D\",\n",
    "                \"3123EFE\",\n",
    "                \"3123D64\",\n",
    "                \"3123D78\",\n",
    "                \"3123D7E\",\n",
    "                \"3124E4A\",\n",
    "            ],\n",
    "            \"domains\": [32, 38, 8, 44, 14, 50, 20, 26],\n",
    "            \"num_examples_per_domain_per_label\": 2000,\n",
    "            \"pickle_path\": \"/root/csc500-main/datasets/oracle.Run1_framed_2000Examples_stratified_ds.2022A.pkl\",\n",
    "            \"source_or_target_dataset\": \"source\",\n",
    "            \"x_transforms\": [\"jitter_256_1\", \"take_200\", \"resample_20Msps_to_25Msps\"],\n",
    "            \"episode_transforms\": [],\n",
    "            \"domain_prefix\": \"O_\",\n",
    "        },\n",
    "    ],\n",
    "    \"seed\": 500,\n",
    "    \"dataset_seed\": 500,\n",
    "}\n"
   ]
  },
  {
   "cell_type": "code",
   "execution_count": 5,
   "id": "8fa1cc33",
   "metadata": {
    "execution": {
     "iopub.execute_input": "2022-03-28T06:07:23.339754Z",
     "iopub.status.busy": "2022-03-28T06:07:23.337380Z",
     "iopub.status.idle": "2022-03-28T06:07:23.358060Z",
     "shell.execute_reply": "2022-03-28T06:07:23.357256Z"
    },
    "papermill": {
     "duration": 0.046395,
     "end_time": "2022-03-28T06:07:23.358211",
     "exception": false,
     "start_time": "2022-03-28T06:07:23.311816",
     "status": "completed"
    },
    "tags": []
   },
   "outputs": [],
   "source": [
    "# Set this to True if you want to run this template directly\n",
    "STANDALONE = False\n",
    "if STANDALONE:\n",
    "    print(\"parameters not injected, running with standalone_parameters\")\n",
    "    parameters = standalone_parameters\n",
    "\n",
    "if not 'parameters' in locals() and not 'parameters' in globals():\n",
    "    raise Exception(\"Parameter injection failed\")\n",
    "\n",
    "#Use an easy dict for all the parameters\n",
    "p = EasyDict(parameters)\n",
    "\n",
    "if \"x_shape\" not in p:\n",
    "    p.x_shape = [2,256] # Default to this if we dont supply x_shape\n",
    "\n",
    "\n",
    "supplied_keys = set(p.keys())\n",
    "\n",
    "if  supplied_keys != required_parameters:\n",
    "    print(\"Parameters are incorrect\")\n",
    "    if len(supplied_keys - required_parameters)>0: print(\"Shouldn't have:\", str(supplied_keys - required_parameters))\n",
    "    if len(required_parameters - supplied_keys)>0: print(\"Need to have:\", str(required_parameters - supplied_keys))\n",
    "    raise RuntimeError(\"Parameters are incorrect\")"
   ]
  },
  {
   "cell_type": "code",
   "execution_count": 6,
   "id": "3a028d58",
   "metadata": {
    "execution": {
     "iopub.execute_input": "2022-03-28T06:07:23.414296Z",
     "iopub.status.busy": "2022-03-28T06:07:23.406815Z",
     "iopub.status.idle": "2022-03-28T06:07:23.429306Z",
     "shell.execute_reply": "2022-03-28T06:07:23.428510Z"
    },
    "papermill": {
     "duration": 0.04575,
     "end_time": "2022-03-28T06:07:23.429456",
     "exception": false,
     "start_time": "2022-03-28T06:07:23.383706",
     "status": "completed"
    },
    "tags": []
   },
   "outputs": [],
   "source": [
    "###################################\n",
    "# Set the RNGs and make it all deterministic\n",
    "###################################\n",
    "np.random.seed(p.seed)\n",
    "random.seed(p.seed)\n",
    "torch.manual_seed(p.seed)\n",
    "\n",
    "torch.use_deterministic_algorithms(True) "
   ]
  },
  {
   "cell_type": "code",
   "execution_count": 7,
   "id": "b691acf6",
   "metadata": {
    "execution": {
     "iopub.execute_input": "2022-03-28T06:07:23.479746Z",
     "iopub.status.busy": "2022-03-28T06:07:23.478823Z",
     "iopub.status.idle": "2022-03-28T06:07:23.500939Z",
     "shell.execute_reply": "2022-03-28T06:07:23.500133Z"
    },
    "papermill": {
     "duration": 0.045646,
     "end_time": "2022-03-28T06:07:23.501090",
     "exception": false,
     "start_time": "2022-03-28T06:07:23.455444",
     "status": "completed"
    },
    "tags": []
   },
   "outputs": [],
   "source": [
    "###########################################\n",
    "# The stratified datasets honor this\n",
    "###########################################\n",
    "torch.set_default_dtype(eval(p.torch_default_dtype))"
   ]
  },
  {
   "cell_type": "code",
   "execution_count": 8,
   "id": "b5fba671",
   "metadata": {
    "execution": {
     "iopub.execute_input": "2022-03-28T06:07:23.554378Z",
     "iopub.status.busy": "2022-03-28T06:07:23.553822Z",
     "iopub.status.idle": "2022-03-28T06:07:23.609220Z",
     "shell.execute_reply": "2022-03-28T06:07:23.608403Z"
    },
    "papermill": {
     "duration": 0.079836,
     "end_time": "2022-03-28T06:07:23.609371",
     "exception": false,
     "start_time": "2022-03-28T06:07:23.529535",
     "status": "completed"
    },
    "tags": []
   },
   "outputs": [],
   "source": [
    "###################################\n",
    "# Build the network(s)\n",
    "# Note: It's critical to do this AFTER setting the RNG\n",
    "###################################\n",
    "x_net = build_sequential(p.x_net)"
   ]
  },
  {
   "cell_type": "code",
   "execution_count": 9,
   "id": "5d7e61cc",
   "metadata": {
    "execution": {
     "iopub.execute_input": "2022-03-28T06:07:23.662212Z",
     "iopub.status.busy": "2022-03-28T06:07:23.661845Z",
     "iopub.status.idle": "2022-03-28T06:07:23.686880Z",
     "shell.execute_reply": "2022-03-28T06:07:23.686074Z"
    },
    "papermill": {
     "duration": 0.049431,
     "end_time": "2022-03-28T06:07:23.687034",
     "exception": false,
     "start_time": "2022-03-28T06:07:23.637603",
     "status": "completed"
    },
    "tags": []
   },
   "outputs": [],
   "source": [
    "start_time_secs = time.time()"
   ]
  },
  {
   "cell_type": "code",
   "execution_count": 10,
   "id": "c6b67dfd",
   "metadata": {
    "execution": {
     "iopub.execute_input": "2022-03-28T06:07:23.737339Z",
     "iopub.status.busy": "2022-03-28T06:07:23.736780Z",
     "iopub.status.idle": "2022-03-28T06:07:23.755771Z",
     "shell.execute_reply": "2022-03-28T06:07:23.754928Z"
    },
    "papermill": {
     "duration": 0.043047,
     "end_time": "2022-03-28T06:07:23.755926",
     "exception": false,
     "start_time": "2022-03-28T06:07:23.712879",
     "status": "completed"
    },
    "tags": []
   },
   "outputs": [],
   "source": [
    "p.domains_source = []\n",
    "p.domains_target = []\n",
    "\n",
    "\n",
    "train_original_source = []\n",
    "val_original_source   = []\n",
    "test_original_source  = []\n",
    "\n",
    "train_original_target = []\n",
    "val_original_target   = []\n",
    "test_original_target  = []"
   ]
  },
  {
   "cell_type": "code",
   "execution_count": 11,
   "id": "e3d9c3d3",
   "metadata": {
    "execution": {
     "iopub.execute_input": "2022-03-28T06:07:23.807398Z",
     "iopub.status.busy": "2022-03-28T06:07:23.807028Z",
     "iopub.status.idle": "2022-03-28T06:07:23.830857Z",
     "shell.execute_reply": "2022-03-28T06:07:23.830049Z"
    },
    "papermill": {
     "duration": 0.047466,
     "end_time": "2022-03-28T06:07:23.831008",
     "exception": false,
     "start_time": "2022-03-28T06:07:23.783542",
     "status": "completed"
    },
    "tags": []
   },
   "outputs": [],
   "source": [
    "# global_x_transform_func = lambda x: normalize(x.to(torch.get_default_dtype()), \"unit_power\") # unit_power, unit_mag\n",
    "# global_x_transform_func = lambda x: normalize(x, \"unit_power\") # unit_power, unit_mag"
   ]
  },
  {
   "cell_type": "code",
   "execution_count": 12,
   "id": "acb78fd2",
   "metadata": {
    "execution": {
     "iopub.execute_input": "2022-03-28T06:07:23.887201Z",
     "iopub.status.busy": "2022-03-28T06:07:23.886814Z",
     "iopub.status.idle": "2022-03-28T06:07:23.909281Z",
     "shell.execute_reply": "2022-03-28T06:07:23.908477Z"
    },
    "papermill": {
     "duration": 0.050167,
     "end_time": "2022-03-28T06:07:23.909434",
     "exception": false,
     "start_time": "2022-03-28T06:07:23.859267",
     "status": "completed"
    },
    "tags": []
   },
   "outputs": [],
   "source": [
    "def add_dataset(\n",
    "    labels,\n",
    "    domains,\n",
    "    pickle_path,\n",
    "    x_transforms,\n",
    "    episode_transforms,\n",
    "    domain_prefix,\n",
    "    num_examples_per_domain_per_label,\n",
    "    source_or_target_dataset:str,\n",
    "    iterator_seed=p.seed,\n",
    "    dataset_seed=p.dataset_seed,\n",
    "    n_shot=p.n_shot,\n",
    "    n_way=p.n_way,\n",
    "    n_query=p.n_query,\n",
    "    train_val_test_k_factors=(p.train_k_factor,p.val_k_factor,p.test_k_factor),\n",
    "):\n",
    "   \n",
    "    if x_transforms == []: x_transform = None\n",
    "    else: x_transform = get_chained_transform(x_transforms)\n",
    "    \n",
    "    if episode_transforms == []: episode_transform = None\n",
    "    else: raise Exception(\"episode_transforms not implemented\")\n",
    "    \n",
    "    episode_transform = lambda tup, _prefix=domain_prefix: (_prefix + str(tup[0]), tup[1])\n",
    "\n",
    "\n",
    "    eaf = Episodic_Accessor_Factory(\n",
    "        labels=labels,\n",
    "        domains=domains,\n",
    "        num_examples_per_domain_per_label=num_examples_per_domain_per_label,\n",
    "        iterator_seed=iterator_seed,\n",
    "        dataset_seed=dataset_seed,\n",
    "        n_shot=n_shot,\n",
    "        n_way=n_way,\n",
    "        n_query=n_query,\n",
    "        train_val_test_k_factors=train_val_test_k_factors,\n",
    "        pickle_path=pickle_path,\n",
    "        x_transform_func=x_transform,\n",
    "    )\n",
    "\n",
    "    train, val, test = eaf.get_train(), eaf.get_val(), eaf.get_test()\n",
    "    train = Lazy_Iterable_Wrapper(train, episode_transform)\n",
    "    val = Lazy_Iterable_Wrapper(val, episode_transform)\n",
    "    test = Lazy_Iterable_Wrapper(test, episode_transform)\n",
    "\n",
    "    if source_or_target_dataset==\"source\":\n",
    "        train_original_source.append(train)\n",
    "        val_original_source.append(val)\n",
    "        test_original_source.append(test)\n",
    "\n",
    "        p.domains_source.extend(\n",
    "            [domain_prefix + str(u) for u in domains]\n",
    "        )\n",
    "    elif source_or_target_dataset==\"target\":\n",
    "        train_original_target.append(train)\n",
    "        val_original_target.append(val)\n",
    "        test_original_target.append(test)\n",
    "        p.domains_target.extend(\n",
    "            [domain_prefix + str(u) for u in domains]\n",
    "        )\n",
    "    else:\n",
    "        raise Exception(f\"invalid source_or_target_dataset: {source_or_target_dataset}\")\n",
    "    "
   ]
  },
  {
   "cell_type": "code",
   "execution_count": 13,
   "id": "fe266617",
   "metadata": {
    "execution": {
     "iopub.execute_input": "2022-03-28T06:07:23.961752Z",
     "iopub.status.busy": "2022-03-28T06:07:23.961194Z",
     "iopub.status.idle": "2022-03-28T06:08:28.689600Z",
     "shell.execute_reply": "2022-03-28T06:08:28.688774Z"
    },
    "papermill": {
     "duration": 64.753421,
     "end_time": "2022-03-28T06:08:28.689787",
     "exception": false,
     "start_time": "2022-03-28T06:07:23.936366",
     "status": "completed"
    },
    "tags": []
   },
   "outputs": [],
   "source": [
    "for ds in p.datasets:\n",
    "    add_dataset(**ds)"
   ]
  },
  {
   "cell_type": "code",
   "execution_count": 14,
   "id": "b90d65ac",
   "metadata": {
    "execution": {
     "iopub.execute_input": "2022-03-28T06:08:28.741876Z",
     "iopub.status.busy": "2022-03-28T06:08:28.741426Z",
     "iopub.status.idle": "2022-03-28T06:08:28.763352Z",
     "shell.execute_reply": "2022-03-28T06:08:28.762617Z"
    },
    "papermill": {
     "duration": 0.045962,
     "end_time": "2022-03-28T06:08:28.763519",
     "exception": false,
     "start_time": "2022-03-28T06:08:28.717557",
     "status": "completed"
    },
    "tags": []
   },
   "outputs": [],
   "source": [
    "# from steves_utils.CORES.utils import (\n",
    "#     ALL_NODES,\n",
    "#     ALL_NODES_MINIMUM_1000_EXAMPLES,\n",
    "#     ALL_DAYS\n",
    "# )\n",
    "\n",
    "# add_dataset(\n",
    "#     labels=ALL_NODES,\n",
    "#     domains = ALL_DAYS,\n",
    "#     num_examples_per_domain_per_label=100,\n",
    "#     pickle_path=os.path.join(get_datasets_base_path(), \"cores.stratified_ds.2022A.pkl\"),\n",
    "#     source_or_target_dataset=\"target\",\n",
    "#     x_transform_func=global_x_transform_func,\n",
    "#     domain_modifier=lambda u: f\"cores_{u}\"\n",
    "# )"
   ]
  },
  {
   "cell_type": "code",
   "execution_count": 15,
   "id": "76db484d",
   "metadata": {
    "execution": {
     "iopub.execute_input": "2022-03-28T06:08:28.815009Z",
     "iopub.status.busy": "2022-03-28T06:08:28.814629Z",
     "iopub.status.idle": "2022-03-28T06:08:28.833158Z",
     "shell.execute_reply": "2022-03-28T06:08:28.832359Z"
    },
    "papermill": {
     "duration": 0.041989,
     "end_time": "2022-03-28T06:08:28.833329",
     "exception": false,
     "start_time": "2022-03-28T06:08:28.791340",
     "status": "completed"
    },
    "tags": []
   },
   "outputs": [],
   "source": [
    "# from steves_utils.ORACLE.utils_v2 import (\n",
    "#     ALL_DISTANCES_FEET,\n",
    "#     ALL_RUNS,\n",
    "#     ALL_SERIAL_NUMBERS,\n",
    "# )\n",
    "\n",
    "\n",
    "# add_dataset(\n",
    "#     labels=ALL_SERIAL_NUMBERS,\n",
    "#     domains = list(set(ALL_DISTANCES_FEET) - {2,62}),\n",
    "#     num_examples_per_domain_per_label=100,\n",
    "#     pickle_path=os.path.join(get_datasets_base_path(), \"oracle.Run2_framed_2000Examples_stratified_ds.2022A.pkl\"),\n",
    "#     source_or_target_dataset=\"source\",\n",
    "#     x_transform_func=global_x_transform_func,\n",
    "#     domain_modifier=lambda u: f\"oracle1_{u}\"\n",
    "# )\n"
   ]
  },
  {
   "cell_type": "code",
   "execution_count": 16,
   "id": "97dea9d2",
   "metadata": {
    "execution": {
     "iopub.execute_input": "2022-03-28T06:08:28.884652Z",
     "iopub.status.busy": "2022-03-28T06:08:28.884216Z",
     "iopub.status.idle": "2022-03-28T06:08:28.902667Z",
     "shell.execute_reply": "2022-03-28T06:08:28.901937Z"
    },
    "papermill": {
     "duration": 0.041596,
     "end_time": "2022-03-28T06:08:28.902832",
     "exception": false,
     "start_time": "2022-03-28T06:08:28.861236",
     "status": "completed"
    },
    "tags": []
   },
   "outputs": [],
   "source": [
    "# from steves_utils.ORACLE.utils_v2 import (\n",
    "#     ALL_DISTANCES_FEET,\n",
    "#     ALL_RUNS,\n",
    "#     ALL_SERIAL_NUMBERS,\n",
    "# )\n",
    "\n",
    "\n",
    "# add_dataset(\n",
    "#     labels=ALL_SERIAL_NUMBERS,\n",
    "#     domains = list(set(ALL_DISTANCES_FEET) - {2,62,56}),\n",
    "#     num_examples_per_domain_per_label=100,\n",
    "#     pickle_path=os.path.join(get_datasets_base_path(), \"oracle.Run2_framed_2000Examples_stratified_ds.2022A.pkl\"),\n",
    "#     source_or_target_dataset=\"source\",\n",
    "#     x_transform_func=global_x_transform_func,\n",
    "#     domain_modifier=lambda u: f\"oracle2_{u}\"\n",
    "# )"
   ]
  },
  {
   "cell_type": "code",
   "execution_count": 17,
   "id": "6f289866",
   "metadata": {
    "execution": {
     "iopub.execute_input": "2022-03-28T06:08:28.953494Z",
     "iopub.status.busy": "2022-03-28T06:08:28.953038Z",
     "iopub.status.idle": "2022-03-28T06:08:28.970940Z",
     "shell.execute_reply": "2022-03-28T06:08:28.970207Z"
    },
    "papermill": {
     "duration": 0.041419,
     "end_time": "2022-03-28T06:08:28.971105",
     "exception": false,
     "start_time": "2022-03-28T06:08:28.929686",
     "status": "completed"
    },
    "tags": []
   },
   "outputs": [],
   "source": [
    "# add_dataset(\n",
    "#     labels=list(range(19)),\n",
    "#     domains = [0,1,2],\n",
    "#     num_examples_per_domain_per_label=100,\n",
    "#     pickle_path=os.path.join(get_datasets_base_path(), \"metehan.stratified_ds.2022A.pkl\"),\n",
    "#     source_or_target_dataset=\"target\",\n",
    "#     x_transform_func=global_x_transform_func,\n",
    "#     domain_modifier=lambda u: f\"met_{u}\"\n",
    "# )"
   ]
  },
  {
   "cell_type": "code",
   "execution_count": 18,
   "id": "86a863c3",
   "metadata": {
    "execution": {
     "iopub.execute_input": "2022-03-28T06:08:29.024427Z",
     "iopub.status.busy": "2022-03-28T06:08:29.024047Z",
     "iopub.status.idle": "2022-03-28T06:08:29.042120Z",
     "shell.execute_reply": "2022-03-28T06:08:29.041389Z"
    },
    "papermill": {
     "duration": 0.042012,
     "end_time": "2022-03-28T06:08:29.042286",
     "exception": false,
     "start_time": "2022-03-28T06:08:29.000274",
     "status": "completed"
    },
    "tags": []
   },
   "outputs": [],
   "source": [
    "# # from steves_utils.wisig.utils import (\n",
    "# #     ALL_NODES_MINIMUM_100_EXAMPLES,\n",
    "# #     ALL_NODES_MINIMUM_500_EXAMPLES,\n",
    "# #     ALL_NODES_MINIMUM_1000_EXAMPLES,\n",
    "# #     ALL_DAYS\n",
    "# # )\n",
    "\n",
    "# import steves_utils.wisig.utils as wisig\n",
    "\n",
    "\n",
    "# add_dataset(\n",
    "#     labels=wisig.ALL_NODES_MINIMUM_100_EXAMPLES,\n",
    "#     domains = wisig.ALL_DAYS,\n",
    "#     num_examples_per_domain_per_label=100,\n",
    "#     pickle_path=os.path.join(get_datasets_base_path(), \"wisig.node3-19.stratified_ds.2022A.pkl\"),\n",
    "#     source_or_target_dataset=\"target\",\n",
    "#     x_transform_func=global_x_transform_func,\n",
    "#     domain_modifier=lambda u: f\"wisig_{u}\"\n",
    "# )"
   ]
  },
  {
   "cell_type": "code",
   "execution_count": 19,
   "id": "fd5442bc",
   "metadata": {
    "execution": {
     "iopub.execute_input": "2022-03-28T06:08:29.095843Z",
     "iopub.status.busy": "2022-03-28T06:08:29.095414Z",
     "iopub.status.idle": "2022-03-28T06:08:29.116020Z",
     "shell.execute_reply": "2022-03-28T06:08:29.115178Z"
    },
    "papermill": {
     "duration": 0.04699,
     "end_time": "2022-03-28T06:08:29.116187",
     "exception": false,
     "start_time": "2022-03-28T06:08:29.069197",
     "status": "completed"
    },
    "tags": []
   },
   "outputs": [],
   "source": [
    "###################################\n",
    "# Build the dataset\n",
    "###################################\n",
    "train_original_source = Iterable_Aggregator(train_original_source, p.seed)\n",
    "val_original_source = Iterable_Aggregator(val_original_source, p.seed)\n",
    "test_original_source = Iterable_Aggregator(test_original_source, p.seed)\n",
    "\n",
    "\n",
    "train_original_target = Iterable_Aggregator(train_original_target, p.seed)\n",
    "val_original_target = Iterable_Aggregator(val_original_target, p.seed)\n",
    "test_original_target = Iterable_Aggregator(test_original_target, p.seed)\n",
    "\n",
    "# For CNN We only use X and Y. And we only train on the source.\n",
    "# Properly form the data using a transform lambda and Lazy_Iterable_Wrapper. Finally wrap them in a dataloader\n",
    "\n",
    "transform_lambda = lambda ex: ex[1] # Original is (<domain>, <episode>) so we strip down to episode only\n",
    "\n",
    "train_processed_source = Lazy_Iterable_Wrapper(train_original_source, transform_lambda)\n",
    "val_processed_source   = Lazy_Iterable_Wrapper(val_original_source, transform_lambda)\n",
    "test_processed_source  = Lazy_Iterable_Wrapper(test_original_source, transform_lambda)\n",
    "\n",
    "train_processed_target = Lazy_Iterable_Wrapper(train_original_target, transform_lambda)\n",
    "val_processed_target   = Lazy_Iterable_Wrapper(val_original_target, transform_lambda)\n",
    "test_processed_target  = Lazy_Iterable_Wrapper(test_original_target, transform_lambda)\n",
    "\n",
    "datasets = EasyDict({\n",
    "    \"source\": {\n",
    "        \"original\": {\"train\":train_original_source, \"val\":val_original_source, \"test\":test_original_source},\n",
    "        \"processed\": {\"train\":train_processed_source, \"val\":val_processed_source, \"test\":test_processed_source}\n",
    "    },\n",
    "    \"target\": {\n",
    "        \"original\": {\"train\":train_original_target, \"val\":val_original_target, \"test\":test_original_target},\n",
    "        \"processed\": {\"train\":train_processed_target, \"val\":val_processed_target, \"test\":test_processed_target}\n",
    "    },\n",
    "})"
   ]
  },
  {
   "cell_type": "code",
   "execution_count": 20,
   "id": "5b3c01fc",
   "metadata": {
    "execution": {
     "iopub.execute_input": "2022-03-28T06:08:29.174758Z",
     "iopub.status.busy": "2022-03-28T06:08:29.174371Z",
     "iopub.status.idle": "2022-03-28T06:08:43.398730Z",
     "shell.execute_reply": "2022-03-28T06:08:43.399431Z"
    },
    "papermill": {
     "duration": 14.251998,
     "end_time": "2022-03-28T06:08:43.399692",
     "exception": false,
     "start_time": "2022-03-28T06:08:29.147694",
     "status": "completed"
    },
    "tags": []
   },
   "outputs": [
    {
     "name": "stdout",
     "output_type": "stream",
     "text": [
      "{'O_26', 'O_38', 'O_14', 'O_44', 'O_32', 'O_8', 'O_50', 'O_20'}\n"
     ]
    },
    {
     "name": "stdout",
     "output_type": "stream",
     "text": [
      "{'C_1', 'C_3', 'C_4', 'C_5', 'C_2'}\n"
     ]
    },
    {
     "name": "stdout",
     "output_type": "stream",
     "text": [
      "tensor([[[0., 0., 0.,  ..., 0., 0., 0.],\n",
      "         [0., 0., 0.,  ..., 0., 0., 0.]],\n",
      "\n",
      "        [[0., 0., 0.,  ..., 0., 0., 0.],\n",
      "         [0., 0., 0.,  ..., 0., 0., 0.]],\n",
      "\n",
      "        [[0., 0., 0.,  ..., 0., 0., 0.],\n",
      "         [0., 0., 0.,  ..., 0., 0., 0.]],\n",
      "\n",
      "        ...,\n",
      "\n",
      "        [[0., 0., 0.,  ..., 0., 0., 0.],\n",
      "         [0., 0., 0.,  ..., 0., 0., 0.]],\n",
      "\n",
      "        [[0., 0., 0.,  ..., 0., 0., 0.],\n",
      "         [0., 0., 0.,  ..., 0., 0., 0.]],\n",
      "\n",
      "        [[0., 0., 0.,  ..., 0., 0., 0.],\n",
      "         [0., 0., 0.,  ..., 0., 0., 0.]]])\n"
     ]
    }
   ],
   "source": [
    "from steves_utils.transforms import get_average_magnitude, get_average_power\n",
    "\n",
    "print(set([u for u,_ in val_original_source]))\n",
    "print(set([u for u,_ in val_original_target]))\n",
    "\n",
    "s_x, s_y, q_x, q_y, _ = next(iter(train_processed_source))\n",
    "print(s_x)\n",
    "\n",
    "# for ds in [\n",
    "#     train_processed_source,\n",
    "#     val_processed_source,\n",
    "#     test_processed_source,\n",
    "#     train_processed_target,\n",
    "#     val_processed_target,\n",
    "#     test_processed_target\n",
    "# ]:\n",
    "#     for s_x, s_y, q_x, q_y, _ in ds:\n",
    "#         for X in (s_x, q_x):\n",
    "#             for x in X:\n",
    "#                 assert np.isclose(get_average_magnitude(x.numpy()), 1.0)\n",
    "#                 assert np.isclose(get_average_power(x.numpy()), 1.0)\n",
    "                "
   ]
  },
  {
   "cell_type": "code",
   "execution_count": 21,
   "id": "bbdacba1",
   "metadata": {
    "execution": {
     "iopub.execute_input": "2022-03-28T06:08:43.459294Z",
     "iopub.status.busy": "2022-03-28T06:08:43.458523Z",
     "iopub.status.idle": "2022-03-28T06:08:43.585815Z",
     "shell.execute_reply": "2022-03-28T06:08:43.585475Z"
    },
    "papermill": {
     "duration": 0.156462,
     "end_time": "2022-03-28T06:08:43.585907",
     "exception": false,
     "start_time": "2022-03-28T06:08:43.429445",
     "status": "completed"
    },
    "tags": []
   },
   "outputs": [
    {
     "name": "stdout",
     "output_type": "stream",
     "text": [
      "(2, 256)\n"
     ]
    }
   ],
   "source": [
    "###################################\n",
    "# Build the model\n",
    "###################################\n",
    "# easfsl only wants a tuple for the shape\n",
    "model = Steves_Prototypical_Network(x_net, device=p.device, x_shape=tuple(p.x_shape))\n",
    "optimizer = Adam(params=model.parameters(), lr=p.lr)"
   ]
  },
  {
   "cell_type": "code",
   "execution_count": 22,
   "id": "22b39ac5",
   "metadata": {
    "execution": {
     "iopub.execute_input": "2022-03-28T06:08:43.634920Z",
     "iopub.status.busy": "2022-03-28T06:08:43.634326Z",
     "iopub.status.idle": "2022-03-28T06:31:50.100284Z",
     "shell.execute_reply": "2022-03-28T06:31:50.099934Z"
    },
    "papermill": {
     "duration": 1386.491904,
     "end_time": "2022-03-28T06:31:50.100367",
     "exception": false,
     "start_time": "2022-03-28T06:08:43.608463",
     "status": "completed"
    },
    "tags": []
   },
   "outputs": [
    {
     "name": "stdout",
     "output_type": "stream",
     "text": [
      "epoch: 1, [batch: 1 / 6720], examples_per_second: 32.2223, train_label_loss: 2.6979, \n"
     ]
    },
    {
     "name": "stdout",
     "output_type": "stream",
     "text": [
      "epoch: 1, [batch: 672 / 6720], examples_per_second: 3805.2124, train_label_loss: 0.6786, \n"
     ]
    },
    {
     "name": "stdout",
     "output_type": "stream",
     "text": [
      "epoch: 1, [batch: 1344 / 6720], examples_per_second: 4108.1354, train_label_loss: 0.5067, \n"
     ]
    },
    {
     "name": "stdout",
     "output_type": "stream",
     "text": [
      "epoch: 1, [batch: 2016 / 6720], examples_per_second: 4393.8473, train_label_loss: 0.5245, \n"
     ]
    },
    {
     "name": "stdout",
     "output_type": "stream",
     "text": [
      "epoch: 1, [batch: 2688 / 6720], examples_per_second: 4361.8176, train_label_loss: 0.7223, \n"
     ]
    },
    {
     "name": "stdout",
     "output_type": "stream",
     "text": [
      "epoch: 1, [batch: 3360 / 6720], examples_per_second: 3867.0458, train_label_loss: 0.6265, \n"
     ]
    },
    {
     "name": "stdout",
     "output_type": "stream",
     "text": [
      "epoch: 1, [batch: 4032 / 6720], examples_per_second: 3901.9749, train_label_loss: 0.7241, \n"
     ]
    },
    {
     "name": "stdout",
     "output_type": "stream",
     "text": [
      "epoch: 1, [batch: 4704 / 6720], examples_per_second: 3843.3577, train_label_loss: 0.4631, \n"
     ]
    },
    {
     "name": "stdout",
     "output_type": "stream",
     "text": [
      "epoch: 1, [batch: 5376 / 6720], examples_per_second: 3831.6248, train_label_loss: 0.4054, \n"
     ]
    },
    {
     "name": "stdout",
     "output_type": "stream",
     "text": [
      "epoch: 1, [batch: 6048 / 6720], examples_per_second: 3903.6927, train_label_loss: 0.4815, \n"
     ]
    },
    {
     "name": "stdout",
     "output_type": "stream",
     "text": [
      "=============================================================\n",
      "epoch: 1, source_val_acc_label: 0.5431, target_val_acc_label: 0.6228, source_val_label_loss: 75.1674, target_val_label_loss: 5260.3696, \n",
      "=============================================================\n"
     ]
    },
    {
     "name": "stdout",
     "output_type": "stream",
     "text": [
      "New best\n"
     ]
    },
    {
     "name": "stdout",
     "output_type": "stream",
     "text": [
      "epoch: 2, [batch: 1 / 6720], examples_per_second: 3.9908, train_label_loss: 0.6331, \n"
     ]
    },
    {
     "name": "stdout",
     "output_type": "stream",
     "text": [
      "epoch: 2, [batch: 672 / 6720], examples_per_second: 3901.2394, train_label_loss: 1.0600, \n"
     ]
    },
    {
     "name": "stdout",
     "output_type": "stream",
     "text": [
      "epoch: 2, [batch: 1344 / 6720], examples_per_second: 4205.8526, train_label_loss: 0.6316, \n"
     ]
    },
    {
     "name": "stdout",
     "output_type": "stream",
     "text": [
      "epoch: 2, [batch: 2016 / 6720], examples_per_second: 4314.3702, train_label_loss: 0.2516, \n"
     ]
    },
    {
     "name": "stdout",
     "output_type": "stream",
     "text": [
      "epoch: 2, [batch: 2688 / 6720], examples_per_second: 4179.5334, train_label_loss: 0.1868, \n"
     ]
    },
    {
     "name": "stdout",
     "output_type": "stream",
     "text": [
      "epoch: 2, [batch: 3360 / 6720], examples_per_second: 3834.0235, train_label_loss: 0.2551, \n"
     ]
    },
    {
     "name": "stdout",
     "output_type": "stream",
     "text": [
      "epoch: 2, [batch: 4032 / 6720], examples_per_second: 3856.8069, train_label_loss: 0.6327, \n"
     ]
    },
    {
     "name": "stdout",
     "output_type": "stream",
     "text": [
      "epoch: 2, [batch: 4704 / 6720], examples_per_second: 3816.1302, train_label_loss: 0.7138, \n"
     ]
    },
    {
     "name": "stdout",
     "output_type": "stream",
     "text": [
      "epoch: 2, [batch: 5376 / 6720], examples_per_second: 3923.3849, train_label_loss: 0.4894, \n"
     ]
    },
    {
     "name": "stdout",
     "output_type": "stream",
     "text": [
      "epoch: 2, [batch: 6048 / 6720], examples_per_second: 3947.2114, train_label_loss: 0.1940, \n"
     ]
    },
    {
     "name": "stdout",
     "output_type": "stream",
     "text": [
      "=============================================================\n",
      "epoch: 2, source_val_acc_label: 0.8665, target_val_acc_label: 0.6770, source_val_label_loss: 0.3768, target_val_label_loss: 716.7629, \n",
      "=============================================================\n"
     ]
    },
    {
     "name": "stdout",
     "output_type": "stream",
     "text": [
      "New best\n"
     ]
    },
    {
     "name": "stdout",
     "output_type": "stream",
     "text": [
      "epoch: 3, [batch: 1 / 6720], examples_per_second: 4.0239, train_label_loss: 0.7084, \n"
     ]
    },
    {
     "name": "stdout",
     "output_type": "stream",
     "text": [
      "epoch: 3, [batch: 672 / 6720], examples_per_second: 3805.2298, train_label_loss: 0.2466, \n"
     ]
    },
    {
     "name": "stdout",
     "output_type": "stream",
     "text": [
      "epoch: 3, [batch: 1344 / 6720], examples_per_second: 4120.6230, train_label_loss: 0.6507, \n"
     ]
    },
    {
     "name": "stdout",
     "output_type": "stream",
     "text": [
      "epoch: 3, [batch: 2016 / 6720], examples_per_second: 4324.9666, train_label_loss: 0.2929, \n"
     ]
    },
    {
     "name": "stdout",
     "output_type": "stream",
     "text": [
      "epoch: 3, [batch: 2688 / 6720], examples_per_second: 4117.3581, train_label_loss: 0.2650, \n"
     ]
    },
    {
     "name": "stdout",
     "output_type": "stream",
     "text": [
      "epoch: 3, [batch: 3360 / 6720], examples_per_second: 3823.6753, train_label_loss: 0.3899, \n"
     ]
    },
    {
     "name": "stdout",
     "output_type": "stream",
     "text": [
      "epoch: 3, [batch: 4032 / 6720], examples_per_second: 3827.2903, train_label_loss: 0.4578, \n"
     ]
    },
    {
     "name": "stdout",
     "output_type": "stream",
     "text": [
      "epoch: 3, [batch: 4704 / 6720], examples_per_second: 3872.7810, train_label_loss: 0.4801, \n"
     ]
    },
    {
     "name": "stdout",
     "output_type": "stream",
     "text": [
      "epoch: 3, [batch: 5376 / 6720], examples_per_second: 3921.3541, train_label_loss: 0.5076, \n"
     ]
    },
    {
     "name": "stdout",
     "output_type": "stream",
     "text": [
      "epoch: 3, [batch: 6048 / 6720], examples_per_second: 4137.5482, train_label_loss: 0.4244, \n"
     ]
    },
    {
     "name": "stdout",
     "output_type": "stream",
     "text": [
      "=============================================================\n",
      "epoch: 3, source_val_acc_label: 0.8445, target_val_acc_label: 0.6348, source_val_label_loss: 0.4523, target_val_label_loss: 1402.3485, \n",
      "=============================================================\n"
     ]
    },
    {
     "name": "stdout",
     "output_type": "stream",
     "text": [
      "epoch: 4, [batch: 1 / 6720], examples_per_second: 3.9284, train_label_loss: 0.7335, \n"
     ]
    },
    {
     "name": "stdout",
     "output_type": "stream",
     "text": [
      "epoch: 4, [batch: 672 / 6720], examples_per_second: 3764.1350, train_label_loss: 0.1879, \n"
     ]
    },
    {
     "name": "stdout",
     "output_type": "stream",
     "text": [
      "epoch: 4, [batch: 1344 / 6720], examples_per_second: 4369.4816, train_label_loss: 0.4238, \n"
     ]
    },
    {
     "name": "stdout",
     "output_type": "stream",
     "text": [
      "epoch: 4, [batch: 2016 / 6720], examples_per_second: 4572.9447, train_label_loss: 0.2885, \n"
     ]
    },
    {
     "name": "stdout",
     "output_type": "stream",
     "text": [
      "epoch: 4, [batch: 2688 / 6720], examples_per_second: 4180.4338, train_label_loss: 0.6464, \n"
     ]
    },
    {
     "name": "stdout",
     "output_type": "stream",
     "text": [
      "epoch: 4, [batch: 3360 / 6720], examples_per_second: 3887.8495, train_label_loss: 0.5349, \n"
     ]
    },
    {
     "name": "stdout",
     "output_type": "stream",
     "text": [
      "epoch: 4, [batch: 4032 / 6720], examples_per_second: 3891.0522, train_label_loss: 0.4966, \n"
     ]
    },
    {
     "name": "stdout",
     "output_type": "stream",
     "text": [
      "epoch: 4, [batch: 4704 / 6720], examples_per_second: 3872.6704, train_label_loss: 0.6250, \n"
     ]
    },
    {
     "name": "stdout",
     "output_type": "stream",
     "text": [
      "epoch: 4, [batch: 5376 / 6720], examples_per_second: 3979.1419, train_label_loss: 0.2911, \n"
     ]
    },
    {
     "name": "stdout",
     "output_type": "stream",
     "text": [
      "epoch: 4, [batch: 6048 / 6720], examples_per_second: 3875.7044, train_label_loss: 0.3884, \n"
     ]
    },
    {
     "name": "stdout",
     "output_type": "stream",
     "text": [
      "=============================================================\n",
      "epoch: 4, source_val_acc_label: 0.8630, target_val_acc_label: 0.6015, source_val_label_loss: 0.3798, target_val_label_loss: 1586.1832, \n",
      "=============================================================\n"
     ]
    },
    {
     "name": "stdout",
     "output_type": "stream",
     "text": [
      "epoch: 5, [batch: 1 / 6720], examples_per_second: 4.0413, train_label_loss: 0.3275, \n"
     ]
    },
    {
     "name": "stdout",
     "output_type": "stream",
     "text": [
      "epoch: 5, [batch: 672 / 6720], examples_per_second: 3908.4439, train_label_loss: 0.6651, \n"
     ]
    },
    {
     "name": "stdout",
     "output_type": "stream",
     "text": [
      "epoch: 5, [batch: 1344 / 6720], examples_per_second: 4163.5013, train_label_loss: 0.1791, \n"
     ]
    },
    {
     "name": "stdout",
     "output_type": "stream",
     "text": [
      "epoch: 5, [batch: 2016 / 6720], examples_per_second: 4334.4510, train_label_loss: 0.2184, \n"
     ]
    },
    {
     "name": "stdout",
     "output_type": "stream",
     "text": [
      "epoch: 5, [batch: 2688 / 6720], examples_per_second: 3945.6948, train_label_loss: 0.2587, \n"
     ]
    },
    {
     "name": "stdout",
     "output_type": "stream",
     "text": [
      "epoch: 5, [batch: 3360 / 6720], examples_per_second: 3775.3506, train_label_loss: 0.2830, \n"
     ]
    },
    {
     "name": "stdout",
     "output_type": "stream",
     "text": [
      "epoch: 5, [batch: 4032 / 6720], examples_per_second: 3787.9112, train_label_loss: 0.3327, \n"
     ]
    },
    {
     "name": "stdout",
     "output_type": "stream",
     "text": [
      "epoch: 5, [batch: 4704 / 6720], examples_per_second: 3799.4749, train_label_loss: 0.2682, \n"
     ]
    },
    {
     "name": "stdout",
     "output_type": "stream",
     "text": [
      "epoch: 5, [batch: 5376 / 6720], examples_per_second: 3821.4589, train_label_loss: 0.2735, \n"
     ]
    },
    {
     "name": "stdout",
     "output_type": "stream",
     "text": [
      "epoch: 5, [batch: 6048 / 6720], examples_per_second: 3794.1175, train_label_loss: 0.8022, \n"
     ]
    },
    {
     "name": "stdout",
     "output_type": "stream",
     "text": [
      "=============================================================\n",
      "epoch: 5, source_val_acc_label: 0.8817, target_val_acc_label: 0.6981, source_val_label_loss: 0.3391, target_val_label_loss: 1313.8735, \n",
      "=============================================================\n"
     ]
    },
    {
     "name": "stdout",
     "output_type": "stream",
     "text": [
      "New best\n"
     ]
    },
    {
     "name": "stdout",
     "output_type": "stream",
     "text": [
      "epoch: 6, [batch: 1 / 6720], examples_per_second: 3.9103, train_label_loss: 0.5380, \n"
     ]
    },
    {
     "name": "stdout",
     "output_type": "stream",
     "text": [
      "epoch: 6, [batch: 672 / 6720], examples_per_second: 3998.7261, train_label_loss: 0.3912, \n"
     ]
    },
    {
     "name": "stdout",
     "output_type": "stream",
     "text": [
      "epoch: 6, [batch: 1344 / 6720], examples_per_second: 4421.6433, train_label_loss: 0.3392, \n"
     ]
    },
    {
     "name": "stdout",
     "output_type": "stream",
     "text": [
      "epoch: 6, [batch: 2016 / 6720], examples_per_second: 4784.0182, train_label_loss: 0.3345, \n"
     ]
    },
    {
     "name": "stdout",
     "output_type": "stream",
     "text": [
      "epoch: 6, [batch: 2688 / 6720], examples_per_second: 4032.2716, train_label_loss: 0.3941, \n"
     ]
    },
    {
     "name": "stdout",
     "output_type": "stream",
     "text": [
      "epoch: 6, [batch: 3360 / 6720], examples_per_second: 3947.2031, train_label_loss: 0.4638, \n"
     ]
    },
    {
     "name": "stdout",
     "output_type": "stream",
     "text": [
      "epoch: 6, [batch: 4032 / 6720], examples_per_second: 3977.7110, train_label_loss: 0.3269, \n"
     ]
    },
    {
     "name": "stdout",
     "output_type": "stream",
     "text": [
      "epoch: 6, [batch: 4704 / 6720], examples_per_second: 3801.8923, train_label_loss: 0.2531, \n"
     ]
    },
    {
     "name": "stdout",
     "output_type": "stream",
     "text": [
      "epoch: 6, [batch: 5376 / 6720], examples_per_second: 3871.7405, train_label_loss: 0.1283, \n"
     ]
    },
    {
     "name": "stdout",
     "output_type": "stream",
     "text": [
      "epoch: 6, [batch: 6048 / 6720], examples_per_second: 3884.7922, train_label_loss: 0.5166, \n"
     ]
    },
    {
     "name": "stdout",
     "output_type": "stream",
     "text": [
      "=============================================================\n",
      "epoch: 6, source_val_acc_label: 0.8725, target_val_acc_label: 0.6821, source_val_label_loss: 0.3581, target_val_label_loss: 833.1329, \n",
      "=============================================================\n"
     ]
    },
    {
     "name": "stdout",
     "output_type": "stream",
     "text": [
      "epoch: 7, [batch: 1 / 6720], examples_per_second: 3.9634, train_label_loss: 0.1397, \n"
     ]
    },
    {
     "name": "stdout",
     "output_type": "stream",
     "text": [
      "epoch: 7, [batch: 672 / 6720], examples_per_second: 3790.7241, train_label_loss: 0.2428, \n"
     ]
    },
    {
     "name": "stdout",
     "output_type": "stream",
     "text": [
      "epoch: 7, [batch: 1344 / 6720], examples_per_second: 4254.9912, train_label_loss: 0.5376, \n"
     ]
    },
    {
     "name": "stdout",
     "output_type": "stream",
     "text": [
      "epoch: 7, [batch: 2016 / 6720], examples_per_second: 4322.0174, train_label_loss: 0.3481, \n"
     ]
    },
    {
     "name": "stdout",
     "output_type": "stream",
     "text": [
      "epoch: 7, [batch: 2688 / 6720], examples_per_second: 4285.5348, train_label_loss: 0.2443, \n"
     ]
    },
    {
     "name": "stdout",
     "output_type": "stream",
     "text": [
      "epoch: 7, [batch: 3360 / 6720], examples_per_second: 4265.1539, train_label_loss: 0.2071, \n"
     ]
    },
    {
     "name": "stdout",
     "output_type": "stream",
     "text": [
      "epoch: 7, [batch: 4032 / 6720], examples_per_second: 4366.1017, train_label_loss: 0.4026, \n"
     ]
    },
    {
     "name": "stdout",
     "output_type": "stream",
     "text": [
      "epoch: 7, [batch: 4704 / 6720], examples_per_second: 4458.5895, train_label_loss: 0.2392, \n"
     ]
    },
    {
     "name": "stdout",
     "output_type": "stream",
     "text": [
      "epoch: 7, [batch: 5376 / 6720], examples_per_second: 4367.3832, train_label_loss: 0.4865, \n"
     ]
    },
    {
     "name": "stdout",
     "output_type": "stream",
     "text": [
      "epoch: 7, [batch: 6048 / 6720], examples_per_second: 4144.0744, train_label_loss: 0.2993, \n"
     ]
    },
    {
     "name": "stdout",
     "output_type": "stream",
     "text": [
      "=============================================================\n",
      "epoch: 7, source_val_acc_label: 0.8906, target_val_acc_label: 0.6931, source_val_label_loss: 0.3215, target_val_label_loss: 655.4106, \n",
      "=============================================================\n"
     ]
    },
    {
     "name": "stdout",
     "output_type": "stream",
     "text": [
      "epoch: 8, [batch: 1 / 6720], examples_per_second: 5.2638, train_label_loss: 0.5408, \n"
     ]
    },
    {
     "name": "stdout",
     "output_type": "stream",
     "text": [
      "epoch: 8, [batch: 672 / 6720], examples_per_second: 5008.4300, train_label_loss: 0.2626, \n"
     ]
    },
    {
     "name": "stdout",
     "output_type": "stream",
     "text": [
      "epoch: 8, [batch: 1344 / 6720], examples_per_second: 5079.8821, train_label_loss: 0.2265, \n"
     ]
    },
    {
     "name": "stdout",
     "output_type": "stream",
     "text": [
      "epoch: 8, [batch: 2016 / 6720], examples_per_second: 4797.1708, train_label_loss: 0.3547, \n"
     ]
    },
    {
     "name": "stdout",
     "output_type": "stream",
     "text": [
      "epoch: 8, [batch: 2688 / 6720], examples_per_second: 4768.7564, train_label_loss: 0.1425, \n"
     ]
    },
    {
     "name": "stdout",
     "output_type": "stream",
     "text": [
      "epoch: 8, [batch: 3360 / 6720], examples_per_second: 4964.1195, train_label_loss: 0.1252, \n"
     ]
    },
    {
     "name": "stdout",
     "output_type": "stream",
     "text": [
      "epoch: 8, [batch: 4032 / 6720], examples_per_second: 4853.0247, train_label_loss: 0.4494, \n"
     ]
    },
    {
     "name": "stdout",
     "output_type": "stream",
     "text": [
      "epoch: 8, [batch: 4704 / 6720], examples_per_second: 5080.7492, train_label_loss: 0.1898, \n"
     ]
    },
    {
     "name": "stdout",
     "output_type": "stream",
     "text": [
      "epoch: 8, [batch: 5376 / 6720], examples_per_second: 4884.0591, train_label_loss: 0.1450, \n"
     ]
    },
    {
     "name": "stdout",
     "output_type": "stream",
     "text": [
      "epoch: 8, [batch: 6048 / 6720], examples_per_second: 5048.8277, train_label_loss: 0.1687, \n"
     ]
    },
    {
     "name": "stdout",
     "output_type": "stream",
     "text": [
      "=============================================================\n",
      "epoch: 8, source_val_acc_label: 0.8928, target_val_acc_label: 0.6915, source_val_label_loss: 0.3178, target_val_label_loss: 818.3829, \n",
      "=============================================================\n"
     ]
    },
    {
     "name": "stdout",
     "output_type": "stream",
     "text": [
      "epoch: 9, [batch: 1 / 6720], examples_per_second: 5.3975, train_label_loss: 0.2372, \n"
     ]
    },
    {
     "name": "stdout",
     "output_type": "stream",
     "text": [
      "epoch: 9, [batch: 672 / 6720], examples_per_second: 4679.6415, train_label_loss: 0.4856, \n"
     ]
    },
    {
     "name": "stdout",
     "output_type": "stream",
     "text": [
      "epoch: 9, [batch: 1344 / 6720], examples_per_second: 4913.8948, train_label_loss: 0.2316, \n"
     ]
    },
    {
     "name": "stdout",
     "output_type": "stream",
     "text": [
      "epoch: 9, [batch: 2016 / 6720], examples_per_second: 5046.0678, train_label_loss: 0.5070, \n"
     ]
    },
    {
     "name": "stdout",
     "output_type": "stream",
     "text": [
      "epoch: 9, [batch: 2688 / 6720], examples_per_second: 4989.0608, train_label_loss: 0.2021, \n"
     ]
    },
    {
     "name": "stdout",
     "output_type": "stream",
     "text": [
      "epoch: 9, [batch: 3360 / 6720], examples_per_second: 4955.9114, train_label_loss: 0.0812, \n"
     ]
    },
    {
     "name": "stdout",
     "output_type": "stream",
     "text": [
      "epoch: 9, [batch: 4032 / 6720], examples_per_second: 5191.2900, train_label_loss: 0.1309, \n"
     ]
    },
    {
     "name": "stdout",
     "output_type": "stream",
     "text": [
      "epoch: 9, [batch: 4704 / 6720], examples_per_second: 4357.3598, train_label_loss: 0.1151, \n"
     ]
    },
    {
     "name": "stdout",
     "output_type": "stream",
     "text": [
      "epoch: 9, [batch: 5376 / 6720], examples_per_second: 3774.0380, train_label_loss: 0.3569, \n"
     ]
    },
    {
     "name": "stdout",
     "output_type": "stream",
     "text": [
      "epoch: 9, [batch: 6048 / 6720], examples_per_second: 3761.6006, train_label_loss: 0.2184, \n"
     ]
    },
    {
     "name": "stdout",
     "output_type": "stream",
     "text": [
      "=============================================================\n",
      "epoch: 9, source_val_acc_label: 0.8946, target_val_acc_label: 0.6819, source_val_label_loss: 0.3025, target_val_label_loss: 818.1554, \n",
      "=============================================================\n"
     ]
    },
    {
     "name": "stdout",
     "output_type": "stream",
     "text": [
      "Patience (3) exhausted\n"
     ]
    }
   ],
   "source": [
    "###################################\n",
    "# train\n",
    "###################################\n",
    "jig = PTN_Train_Eval_Test_Jig(model, p.BEST_MODEL_PATH, p.device)\n",
    "\n",
    "jig.train(\n",
    "    train_iterable=datasets.source.processed.train,\n",
    "    source_val_iterable=datasets.source.processed.val,\n",
    "    target_val_iterable=datasets.target.processed.val,\n",
    "    num_epochs=p.n_epoch,\n",
    "    num_logs_per_epoch=p.NUM_LOGS_PER_EPOCH,\n",
    "    patience=p.patience,\n",
    "    optimizer=optimizer,\n",
    "    criteria_for_best=p.criteria_for_best,\n",
    ")"
   ]
  },
  {
   "cell_type": "code",
   "execution_count": 23,
   "id": "31e8fabf",
   "metadata": {
    "execution": {
     "iopub.execute_input": "2022-03-28T06:31:50.205856Z",
     "iopub.status.busy": "2022-03-28T06:31:50.205308Z",
     "iopub.status.idle": "2022-03-28T06:31:50.238003Z",
     "shell.execute_reply": "2022-03-28T06:31:50.237201Z"
    },
    "papermill": {
     "duration": 0.087837,
     "end_time": "2022-03-28T06:31:50.238156",
     "exception": false,
     "start_time": "2022-03-28T06:31:50.150319",
     "status": "completed"
    },
    "tags": []
   },
   "outputs": [],
   "source": [
    "total_experiment_time_secs = time.time() - start_time_secs"
   ]
  },
  {
   "cell_type": "code",
   "execution_count": 24,
   "id": "87b9595b",
   "metadata": {
    "execution": {
     "iopub.execute_input": "2022-03-28T06:31:50.351414Z",
     "iopub.status.busy": "2022-03-28T06:31:50.347948Z",
     "iopub.status.idle": "2022-03-28T06:34:31.768335Z",
     "shell.execute_reply": "2022-03-28T06:34:31.767480Z"
    },
    "papermill": {
     "duration": 161.477386,
     "end_time": "2022-03-28T06:34:31.768528",
     "exception": false,
     "start_time": "2022-03-28T06:31:50.291142",
     "status": "completed"
    },
    "tags": []
   },
   "outputs": [],
   "source": [
    "###################################\n",
    "# Evaluate the model\n",
    "###################################\n",
    "source_test_label_accuracy, source_test_label_loss = jig.test(datasets.source.processed.test)\n",
    "target_test_label_accuracy, target_test_label_loss = jig.test(datasets.target.processed.test)\n",
    "\n",
    "source_val_label_accuracy, source_val_label_loss = jig.test(datasets.source.processed.val)\n",
    "target_val_label_accuracy, target_val_label_loss = jig.test(datasets.target.processed.val)\n",
    "\n",
    "history = jig.get_history()\n",
    "\n",
    "total_epochs_trained = len(history[\"epoch_indices\"])\n",
    "\n",
    "val_dl = Iterable_Aggregator((datasets.source.original.val,datasets.target.original.val))\n",
    "\n",
    "confusion = ptn_confusion_by_domain_over_dataloader(model, p.device, val_dl)\n",
    "per_domain_accuracy = per_domain_accuracy_from_confusion(confusion)\n",
    "\n",
    "# Add a key to per_domain_accuracy for if it was a source domain\n",
    "for domain, accuracy in per_domain_accuracy.items():\n",
    "    per_domain_accuracy[domain] = {\n",
    "        \"accuracy\": accuracy,\n",
    "        \"source?\": domain in p.domains_source\n",
    "    }\n",
    "\n",
    "# Do an independent accuracy assesment JUST TO BE SURE!\n",
    "# _source_test_label_accuracy = independent_accuracy_assesment(model, datasets.source.processed.test, p.device)\n",
    "# _target_test_label_accuracy = independent_accuracy_assesment(model, datasets.target.processed.test, p.device)\n",
    "# _source_val_label_accuracy = independent_accuracy_assesment(model, datasets.source.processed.val, p.device)\n",
    "# _target_val_label_accuracy = independent_accuracy_assesment(model, datasets.target.processed.val, p.device)\n",
    "\n",
    "# assert(_source_test_label_accuracy == source_test_label_accuracy)\n",
    "# assert(_target_test_label_accuracy == target_test_label_accuracy)\n",
    "# assert(_source_val_label_accuracy == source_val_label_accuracy)\n",
    "# assert(_target_val_label_accuracy == target_val_label_accuracy)\n",
    "\n",
    "experiment = {\n",
    "    \"experiment_name\": p.experiment_name,\n",
    "    \"parameters\": dict(p),\n",
    "    \"results\": {\n",
    "        \"source_test_label_accuracy\": source_test_label_accuracy,\n",
    "        \"source_test_label_loss\": source_test_label_loss,\n",
    "        \"target_test_label_accuracy\": target_test_label_accuracy,\n",
    "        \"target_test_label_loss\": target_test_label_loss,\n",
    "        \"source_val_label_accuracy\": source_val_label_accuracy,\n",
    "        \"source_val_label_loss\": source_val_label_loss,\n",
    "        \"target_val_label_accuracy\": target_val_label_accuracy,\n",
    "        \"target_val_label_loss\": target_val_label_loss,\n",
    "        \"total_epochs_trained\": total_epochs_trained,\n",
    "        \"total_experiment_time_secs\": total_experiment_time_secs,\n",
    "        \"confusion\": confusion,\n",
    "        \"per_domain_accuracy\": per_domain_accuracy,\n",
    "    },\n",
    "    \"history\": history,\n",
    "    \"dataset_metrics\": get_dataset_metrics(datasets, \"ptn\"),\n",
    "}"
   ]
  },
  {
   "cell_type": "code",
   "execution_count": 25,
   "id": "54a21829",
   "metadata": {
    "execution": {
     "iopub.execute_input": "2022-03-28T06:34:31.877237Z",
     "iopub.status.busy": "2022-03-28T06:34:31.876682Z",
     "iopub.status.idle": "2022-03-28T06:34:32.103834Z",
     "shell.execute_reply": "2022-03-28T06:34:32.104515Z"
    },
    "papermill": {
     "duration": 0.280029,
     "end_time": "2022-03-28T06:34:32.104707",
     "exception": false,
     "start_time": "2022-03-28T06:34:31.824678",
     "status": "completed"
    },
    "tags": []
   },
   "outputs": [
    {
     "data": {
      "image/png": "[encoded data removed]",
      "text/plain": [
       "<Figure size 1080x504 with 1 Axes>"
      ]
     },
     "metadata": {
      "needs_background": "light"
     },
     "output_type": "display_data"
    }
   ],
   "source": [
    "ax = get_loss_curve(experiment)\n",
    "plt.show()"
   ]
  },
  {
   "cell_type": "code",
   "execution_count": 26,
   "id": "fd8a0f60",
   "metadata": {
    "execution": {
     "iopub.execute_input": "2022-03-28T06:34:32.214490Z",
     "iopub.status.busy": "2022-03-28T06:34:32.214118Z",
     "iopub.status.idle": "2022-03-28T06:34:32.572126Z",
     "shell.execute_reply": "2022-03-28T06:34:32.572797Z"
    },
    "papermill": {
     "duration": 0.413128,
     "end_time": "2022-03-28T06:34:32.572981",
     "exception": false,
     "start_time": "2022-03-28T06:34:32.159853",
     "status": "completed"
    },
    "tags": []
   },
   "outputs": [
    {
     "data": {
      "text/plain": [
       "<AxesSubplot:title={'center':'Results'}>"
      ]
     },
     "execution_count": 26,
     "metadata": {},
     "output_type": "execute_result"
    },
    {
     "data": {
      "image/png": "[encoded data removed]",
      "text/plain": [
       "<Figure size 1080x504 with 1 Axes>"
      ]
     },
     "metadata": {
      "needs_background": "light"
     },
     "output_type": "display_data"
    }
   ],
   "source": [
    "get_results_table(experiment)"
   ]
  },
  {
   "cell_type": "code",
   "execution_count": 27,
   "id": "cf8dc689",
   "metadata": {
    "execution": {
     "iopub.execute_input": "2022-03-28T06:34:32.685062Z",
     "iopub.status.busy": "2022-03-28T06:34:32.684510Z",
     "iopub.status.idle": "2022-03-28T06:34:32.926541Z",
     "shell.execute_reply": "2022-03-28T06:34:32.925694Z"
    },
    "papermill": {
     "duration": 0.296181,
     "end_time": "2022-03-28T06:34:32.926703",
     "exception": false,
     "start_time": "2022-03-28T06:34:32.630522",
     "status": "completed"
    },
    "tags": []
   },
   "outputs": [
    {
     "data": {
      "text/plain": [
       "<AxesSubplot:title={'center':'Per Domain Validation Accuracy'}, xlabel='domain'>"
      ]
     },
     "execution_count": 27,
     "metadata": {},
     "output_type": "execute_result"
    },
    {
     "data": {
      "image/png": "[encoded data removed]",
      "text/plain": [
       "<Figure size 1080x504 with 1 Axes>"
      ]
     },
     "metadata": {
      "needs_background": "light"
     },
     "output_type": "display_data"
    }
   ],
   "source": [
    "get_domain_accuracies(experiment)"
   ]
  },
  {
   "cell_type": "code",
   "execution_count": 28,
   "id": "a74ae082",
   "metadata": {
    "execution": {
     "iopub.execute_input": "2022-03-28T06:34:33.039195Z",
     "iopub.status.busy": "2022-03-28T06:34:33.038827Z",
     "iopub.status.idle": "2022-03-28T06:34:33.063145Z",
     "shell.execute_reply": "2022-03-28T06:34:33.062345Z"
    },
    "papermill": {
     "duration": 0.080936,
     "end_time": "2022-03-28T06:34:33.063297",
     "exception": false,
     "start_time": "2022-03-28T06:34:32.982361",
     "status": "completed"
    },
    "tags": []
   },
   "outputs": [
    {
     "name": "stdout",
     "output_type": "stream",
     "text": [
      "Source Test Label Accuracy: 0.88203125 Target Test Label Accuracy: 0.7023876404494382\n",
      "Source Val Label Accuracy: 0.8816731770833334 Target Val Label Accuracy: 0.6980714285714286\n"
     ]
    }
   ],
   "source": [
    "print(\"Source Test Label Accuracy:\", experiment[\"results\"][\"source_test_label_accuracy\"], \"Target Test Label Accuracy:\", experiment[\"results\"][\"target_test_label_accuracy\"])\n",
    "print(\"Source Val Label Accuracy:\", experiment[\"results\"][\"source_val_label_accuracy\"], \"Target Val Label Accuracy:\", experiment[\"results\"][\"target_val_label_accuracy\"])"
   ]
  },
  {
   "cell_type": "code",
   "execution_count": 29,
   "id": "dacca602",
   "metadata": {
    "execution": {
     "iopub.execute_input": "2022-03-28T06:34:33.175663Z",
     "iopub.status.busy": "2022-03-28T06:34:33.175298Z",
     "iopub.status.idle": "2022-03-28T06:34:33.197481Z",
     "shell.execute_reply": "2022-03-28T06:34:33.198144Z"
    },
    "papermill": {
     "duration": 0.077476,
     "end_time": "2022-03-28T06:34:33.198322",
     "exception": false,
     "start_time": "2022-03-28T06:34:33.120846",
     "status": "completed"
    },
    "tags": [
     "experiment_json"
    ]
   },
   "outputs": [
    {
     "data": {
      "text/plain": [
       "'{\"experiment_name\": \"tl_3-jitter1v2:oracle.run1.framed -> cores\", \"parameters\": {\"experiment_name\": \"tl_3-jitter1v2:oracle.run1.framed -> cores\", \"device\": \"cuda\", \"lr\": 0.0001, \"x_shape\": [2, 256], \"n_shot\": 3, \"n_query\": 2, \"train_k_factor\": 3, \"val_k_factor\": 2, \"test_k_factor\": 2, \"torch_default_dtype\": \"torch.float32\", \"n_epoch\": 50, \"patience\": 3, \"criteria_for_best\": \"target_accuracy\", \"x_net\": [{\"class\": \"nnReshape\", \"kargs\": {\"shape\": [-1, 1, 2, 256]}}, {\"class\": \"Conv2d\", \"kargs\": {\"in_channels\": 1, \"out_channels\": 256, \"kernel_size\": [1, 7], \"bias\": false, \"padding\": [0, 3]}}, {\"class\": \"ReLU\", \"kargs\": {\"inplace\": true}}, {\"class\": \"BatchNorm2d\", \"kargs\": {\"num_features\": 256}}, {\"class\": \"Conv2d\", \"kargs\": {\"in_channels\": 256, \"out_channels\": 80, \"kernel_size\": [2, 7], \"bias\": true, \"padding\": [0, 3]}}, {\"class\": \"ReLU\", \"kargs\": {\"inplace\": true}}, {\"class\": \"BatchNorm2d\", \"kargs\": {\"num_features\": 80}}, {\"class\": \"Flatten\", \"kargs\": {}}, {\"class\": \"Linear\", \"kargs\": {\"in_features\": 20480, \"out_features\": 256}}, {\"class\": \"ReLU\", \"kargs\": {\"inplace\": true}}, {\"class\": \"BatchNorm1d\", \"kargs\": {\"num_features\": 256}}, {\"class\": \"Linear\", \"kargs\": {\"in_features\": 256, \"out_features\": 256}}], \"NUM_LOGS_PER_EPOCH\": 10, \"BEST_MODEL_PATH\": \"./best_model.pth\", \"n_way\": 16, \"datasets\": [{\"labels\": [\"1-10.\", \"1-11.\", \"1-15.\", \"1-16.\", \"1-17.\", \"1-18.\", \"1-19.\", \"10-4.\", \"10-7.\", \"11-1.\", \"11-14.\", \"11-17.\", \"11-20.\", \"11-7.\", \"13-20.\", \"13-8.\", \"14-10.\", \"14-11.\", \"14-14.\", \"14-7.\", \"15-1.\", \"15-20.\", \"16-1.\", \"16-16.\", \"17-10.\", \"17-11.\", \"17-2.\", \"19-1.\", \"19-16.\", \"19-19.\", \"19-20.\", \"19-3.\", \"2-10.\", \"2-11.\", \"2-17.\", \"2-18.\", \"2-20.\", \"2-3.\", \"2-4.\", \"2-5.\", \"2-6.\", \"2-7.\", \"2-8.\", \"3-13.\", \"3-18.\", \"3-3.\", \"4-1.\", \"4-10.\", \"4-11.\", \"4-19.\", \"5-5.\", \"6-15.\", \"7-10.\", \"7-14.\", \"8-18.\", \"8-20.\", \"8-3.\", \"8-8.\"], \"domains\": [1, 2, 3, 4, 5], \"num_examples_per_domain_per_label\": -1, \"pickle_path\": \"/root/csc500-main/datasets/cores.stratified_ds.2022A.pkl\", \"source_or_target_dataset\": \"target\", \"x_transforms\": [\"jitter_256_1\", \"lowpass_+/-10MHz\", \"take_200\"], \"episode_transforms\": [], \"domain_prefix\": \"C_\"}, {\"labels\": [\"3123D52\", \"3123D65\", \"3123D79\", \"3123D80\", \"3123D54\", \"3123D70\", \"3123D7B\", \"3123D89\", \"3123D58\", \"3123D76\", \"3123D7D\", \"3123EFE\", \"3123D64\", \"3123D78\", \"3123D7E\", \"3124E4A\"], \"domains\": [32, 38, 8, 44, 14, 50, 20, 26], \"num_examples_per_domain_per_label\": 2000, \"pickle_path\": \"/root/csc500-main/datasets/oracle.Run1_framed_2000Examples_stratified_ds.2022A.pkl\", \"source_or_target_dataset\": \"source\", \"x_transforms\": [\"jitter_256_1\", \"take_200\", \"resample_20Msps_to_25Msps\"], \"episode_transforms\": [], \"domain_prefix\": \"O_\"}], \"seed\": 500, \"dataset_seed\": 500, \"domains_source\": [\"O_32\", \"O_38\", \"O_8\", \"O_44\", \"O_14\", \"O_50\", \"O_20\", \"O_26\"], \"domains_target\": [\"C_1\", \"C_2\", \"C_3\", \"C_4\", \"C_5\"]}, \"results\": {\"source_test_label_accuracy\": 0.88203125, \"source_test_label_loss\": 0.3346141278743744, \"target_test_label_accuracy\": 0.7023876404494382, \"target_test_label_loss\": 1319.6795654296875, \"source_val_label_accuracy\": 0.8816731770833334, \"source_val_label_loss\": 0.3390880227088928, \"target_val_label_accuracy\": 0.6980714285714286, \"target_val_label_loss\": 1313.87353515625, \"total_epochs_trained\": 9, \"total_experiment_time_secs\": 1466.550950050354, \"confusion\": {\"O_50\": {\"7\": {\"7\": 223, \"5\": 14, \"4\": 3}, \"10\": {\"10\": 237, \"8\": 2, \"0\": 1}, \"0\": {\"0\": 227, \"2\": 11, \"10\": 2}, \"11\": {\"11\": 231, \"15\": 3, \"9\": 5, \"12\": 1}, \"2\": {\"2\": 233, \"0\": 7}, \"14\": {\"14\": 240}, \"9\": {\"11\": 13, \"9\": 209, \"12\": 18}, \"13\": {\"13\": 240}, \"8\": {\"8\": 240}, \"15\": {\"15\": 228, \"6\": 8, \"11\": 4}, \"4\": {\"4\": 196, \"15\": 8, \"7\": 23, \"6\": 5, \"5\": 8}, \"5\": {\"5\": 121, \"7\": 55, \"6\": 49, \"13\": 7, \"4\": 8}, \"3\": {\"3\": 240}, \"1\": {\"1\": 238, \"13\": 2}, \"6\": {\"6\": 205, \"15\": 10, \"5\": 25}, \"12\": {\"12\": 220, \"11\": 4, \"9\": 16}}, \"O_14\": {\"14\": {\"13\": 34, \"14\": 190, \"6\": 4, \"2\": 10, \"3\": 2}, \"6\": {\"6\": 161, \"13\": 65, \"14\": 10, \"2\": 4}, \"5\": {\"5\": 227, \"2\": 8, \"4\": 5}, \"15\": {\"15\": 240}, \"11\": {\"11\": 240}, \"8\": {\"8\": 240}, \"12\": {\"12\": 240}, \"1\": {\"1\": 240}, \"2\": {\"14\": 47, \"2\": 119, \"13\": 14, \"5\": 26, \"4\": 3, \"6\": 20, \"3\": 10, \"0\": 1}, \"13\": {\"13\": 51, \"14\": 89, \"6\": 82, \"2\": 14, \"15\": 4}, \"3\": {\"3\": 238, \"13\": 1, \"0\": 1}, \"0\": {\"0\": 219, \"10\": 6, \"3\": 14, \"14\": 1}, \"9\": {\"9\": 240}, \"4\": {\"4\": 236, \"5\": 3, \"2\": 1}, \"7\": {\"7\": 240}, \"10\": {\"10\": 240}}, \"O_32\": {\"4\": {\"4\": 212, \"2\": 27, \"13\": 1}, \"14\": {\"14\": 145, \"7\": 61, \"5\": 15, \"8\": 4, \"2\": 6, \"3\": 1, \"0\": 6, \"4\": 2}, \"5\": {\"5\": 136, \"7\": 51, \"0\": 22, \"14\": 9, \"8\": 22}, \"10\": {\"10\": 240}, \"13\": {\"4\": 19, \"13\": 195, \"3\": 23, \"11\": 3}, \"9\": {\"9\": 235, \"2\": 3, \"12\": 2}, \"6\": {\"6\": 240}, \"3\": {\"3\": 233, \"13\": 7}, \"15\": {\"15\": 238, \"8\": 2}, \"7\": {\"7\": 175, \"5\": 24, \"0\": 12, \"14\": 27, \"8\": 2}, \"12\": {\"12\": 240}, \"8\": {\"8\": 189, \"4\": 2, \"5\": 21, \"0\": 24, \"7\": 3, \"14\": 1}, \"11\": {\"11\": 240}, \"2\": {\"2\": 208, \"4\": 32}, \"1\": {\"1\": 240}, \"0\": {\"0\": 183, \"7\": 16, \"5\": 11, \"14\": 4, \"8\": 26}}, \"O_44\": {\"8\": {\"0\": 63, \"8\": 154, \"15\": 9, \"5\": 14}, \"11\": {\"11\": 240}, \"14\": {\"14\": 171, \"4\": 50, \"5\": 12, \"15\": 7}, \"10\": {\"10\": 218, \"7\": 14, \"1\": 5, \"2\": 3}, \"3\": {\"3\": 232, \"12\": 8}, \"15\": {\"15\": 200, \"14\": 20, \"8\": 8, \"5\": 11, \"4\": 1}, \"2\": {\"2\": 233, \"10\": 2, \"1\": 5}, \"12\": {\"12\": 233, \"3\": 7}, \"4\": {\"14\": 77, \"4\": 158, \"15\": 3, \"5\": 1, \"9\": 1}, \"1\": {\"1\": 232, \"2\": 8}, \"0\": {\"0\": 214, \"8\": 26}, \"9\": {\"6\": 30, \"9\": 118, \"7\": 76, \"13\": 15, \"4\": 1}, \"5\": {\"5\": 208, \"14\": 14, \"15\": 14, \"8\": 3, \"4\": 1}, \"6\": {\"6\": 202, \"9\": 14, \"13\": 23, \"7\": 1}, \"7\": {\"7\": 212, \"9\": 26, \"10\": 2}, \"13\": {\"13\": 203, \"6\": 30, \"9\": 7}}, \"O_8\": {\"13\": {\"13\": 204, \"7\": 13, \"10\": 21, \"6\": 2}, \"3\": {\"3\": 240}, \"15\": {\"15\": 223, \"12\": 17}, \"4\": {\"4\": 238, \"14\": 2}, \"7\": {\"7\": 229, \"13\": 2, \"6\": 9}, \"2\": {\"2\": 189, \"3\": 37, \"15\": 5, \"12\": 9}, \"1\": {\"1\": 190, \"11\": 48, \"10\": 1, \"5\": 1}, \"0\": {\"0\": 240}, \"12\": {\"15\": 53, \"12\": 187}, \"6\": {\"6\": 221, \"7\": 18, \"13\": 1}, \"11\": {\"8\": 1, \"11\": 137, \"1\": 98, \"14\": 2, \"5\": 2}, \"9\": {\"9\": 240}, \"5\": {\"5\": 208, \"11\": 11, \"14\": 2, \"10\": 18, \"1\": 1}, \"10\": {\"10\": 210, \"13\": 30}, \"14\": {\"14\": 229, \"4\": 11}, \"8\": {\"8\": 240}}, \"O_20\": {\"6\": {\"6\": 239, \"7\": 1}, \"11\": {\"11\": 240}, \"5\": {\"5\": 185, \"1\": 34, \"3\": 19, \"9\": 2}, \"14\": {\"14\": 232, \"8\": 8}, \"2\": {\"2\": 204, \"12\": 18, \"7\": 13, \"15\": 3, \"13\": 2}, \"7\": {\"2\": 13, \"7\": 216, \"9\": 11}, \"3\": {\"1\": 4, \"3\": 173, \"5\": 30, \"9\": 20, \"0\": 3, \"8\": 10}, \"4\": {\"4\": 235, \"12\": 4, \"10\": 1}, \"9\": {\"9\": 216, \"7\": 13, \"3\": 5, \"5\": 2, \"1\": 3, \"2\": 1}, \"12\": {\"12\": 207, \"15\": 14, \"4\": 2, \"2\": 17}, \"0\": {\"0\": 239, \"3\": 1}, \"10\": {\"10\": 240}, \"8\": {\"8\": 223, \"14\": 7, \"3\": 10}, \"13\": {\"13\": 235, \"2\": 5}, \"1\": {\"1\": 198, \"5\": 30, \"9\": 7, \"3\": 2, \"15\": 3}, \"15\": {\"15\": 206, \"12\": 21, \"1\": 10, \"13\": 1, \"2\": 2}}, \"O_38\": {\"3\": {\"3\": 240}, \"8\": {\"8\": 139, \"5\": 74, \"7\": 18, \"15\": 7, \"0\": 2}, \"0\": {\"0\": 189, \"10\": 13, \"7\": 24, \"13\": 11, \"8\": 2, \"5\": 1}, \"2\": {\"2\": 223, \"14\": 17}, \"4\": {\"4\": 240}, \"7\": {\"7\": 233, \"0\": 2, \"5\": 4, \"8\": 1}, \"12\": {\"12\": 240}, \"6\": {\"6\": 239, \"1\": 1}, \"15\": {\"15\": 229, \"8\": 2, \"5\": 7, \"1\": 2}, \"11\": {\"11\": 237, \"3\": 3}, \"9\": {\"9\": 238, \"5\": 2}, \"14\": {\"14\": 226, \"2\": 14}, \"10\": {\"10\": 210, \"0\": 17, \"13\": 7, \"4\": 6}, \"5\": {\"5\": 130, \"8\": 69, \"7\": 20, \"9\": 12, \"15\": 8, \"4\": 1}, \"1\": {\"1\": 240}, \"13\": {\"10\": 10, \"13\": 228, \"0\": 2}}, \"O_26\": {\"5\": {\"5\": 202, \"15\": 37, \"6\": 1}, \"8\": {\"8\": 200, \"9\": 17, \"7\": 21, \"0\": 1, \"2\": 1}, \"4\": {\"4\": 240}, \"12\": {\"12\": 240}, \"6\": {\"6\": 209, \"15\": 21, \"10\": 2, \"1\": 5, \"5\": 2, \"14\": 1}, \"7\": {\"3\": 10, \"7\": 206, \"8\": 18, \"2\": 6}, \"10\": {\"10\": 181, \"0\": 19, \"14\": 32, \"6\": 4, \"15\": 4}, \"0\": {\"0\": 191, \"10\": 30, \"14\": 17, \"7\": 1, \"8\": 1}, \"15\": {\"15\": 155, \"6\": 31, \"5\": 48, \"10\": 3, \"1\": 2, \"0\": 1}, \"9\": {\"9\": 172, \"8\": 31, \"13\": 15, \"2\": 18, \"7\": 4}, \"11\": {\"11\": 239, \"6\": 1}, \"14\": {\"14\": 174, \"10\": 38, \"1\": 11, \"0\": 17}, \"2\": {\"2\": 170, \"8\": 7, \"9\": 25, \"7\": 19, \"3\": 15, \"0\": 3, \"13\": 1}, \"13\": {\"13\": 225, \"2\": 8, \"9\": 7}, \"3\": {\"3\": 219, \"2\": 5, \"13\": 1, \"7\": 15}, \"1\": {\"1\": 202, \"14\": 31, \"10\": 2, \"6\": 3, \"15\": 2}}, \"C_4\": {\"38\": {\"24\": 1, \"38\": 35, \"14\": 1, \"2\": 1, \"43\": 2}, \"3\": {\"3\": 87, \"5\": 11, \"45\": 6, \"50\": 10, \"12\": 1, \"6\": 8, \"21\": 1}, \"24\": {\"24\": 56}, \"49\": {\"43\": 4, \"7\": 2, \"35\": 1, \"49\": 11, \"33\": 1, \"32\": 1}, \"7\": {\"7\": 13, \"2\": 1, \"13\": 1, \"32\": 2, \"17\": 1, \"24\": 1, \"43\": 2, \"26\": 1, \"35\": 2}, \"17\": {\"17\": 60, \"23\": 6, \"54\": 2, \"1\": 1, \"33\": 5, \"57\": 3, \"36\": 2, \"27\": 1}, \"43\": {\"43\": 125, \"7\": 2, \"24\": 2, \"35\": 1, \"55\": 11, \"49\": 3, \"32\": 2, \"53\": 1, \"23\": 1}, \"30\": {\"30\": 39, \"12\": 5}, \"44\": {\"44\": 80, \"30\": 1, \"12\": 2, \"20\": 4, \"21\": 3, \"45\": 5, \"40\": 8, \"50\": 3, \"52\": 6, \"5\": 3, \"46\": 6, \"6\": 2, \"3\": 2, \"48\": 7}, \"23\": {\"23\": 108, \"17\": 2, \"55\": 3, \"53\": 16, \"42\": 2, \"36\": 1, \"19\": 7, \"41\": 4, \"35\": 1}, \"37\": {\"37\": 21, \"17\": 1, \"51\": 1, \"31\": 1}, \"4\": {\"4\": 76, \"57\": 2, \"8\": 16, \"52\": 2, \"47\": 19, \"44\": 3, \"9\": 6, \"48\": 1, \"40\": 2, \"21\": 1, \"46\": 1, \"29\": 1, \"27\": 2}, \"57\": {\"57\": 56, \"39\": 2, \"47\": 4, \"27\": 5, \"51\": 6, \"8\": 2, \"4\": 8, \"29\": 16, \"0\": 1}, \"16\": {\"16\": 90, \"19\": 1, \"15\": 2, \"34\": 1, \"28\": 2}, \"18\": {\"18\": 94, \"15\": 5, \"19\": 1, \"16\": 4, \"11\": 1, \"25\": 2, \"13\": 1}, \"20\": {\"20\": 43, \"40\": 2, \"30\": 2, \"52\": 13, \"12\": 5, \"45\": 5, \"44\": 7, \"46\": 7, \"5\": 2, \"48\": 16, \"50\": 8, \"3\": 6, \"21\": 3, \"9\": 3, \"6\": 2}, \"45\": {\"45\": 52, \"3\": 16, \"50\": 17, \"30\": 1, \"12\": 5, \"5\": 4, \"6\": 1}, \"15\": {\"15\": 121, \"19\": 3, \"25\": 2, \"34\": 1, \"11\": 4, \"16\": 1}, \"52\": {\"40\": 3, \"30\": 2, \"20\": 14, \"52\": 59, \"46\": 7, \"44\": 4, \"48\": 16, \"8\": 1, \"12\": 4, \"5\": 1, \"9\": 3, \"6\": 1, \"45\": 1}, \"19\": {\"28\": 2, \"19\": 109, \"26\": 2, \"42\": 3, \"34\": 1, \"23\": 11, \"53\": 5, \"16\": 2, \"25\": 2, \"15\": 1, \"43\": 1, \"18\": 1}, \"54\": {\"17\": 3, \"54\": 95, \"29\": 5, \"36\": 5}, \"56\": {\"56\": 130}, \"40\": {\"30\": 5, \"52\": 16, \"50\": 2, \"48\": 13, \"40\": 30, \"9\": 11, \"45\": 3, \"46\": 8, \"12\": 4, \"0\": 3, \"44\": 5, \"8\": 9, \"5\": 1, \"4\": 2, \"21\": 5, \"20\": 16, \"6\": 1}, \"28\": {\"15\": 3, \"41\": 1, \"16\": 2, \"26\": 2, \"28\": 16, \"17\": 1, \"18\": 2, \"34\": 3, \"42\": 1, \"23\": 1}, \"2\": {\"2\": 35, \"43\": 1}, \"9\": {\"20\": 8, \"52\": 4, \"9\": 55, \"47\": 3, \"8\": 26, \"40\": 6, \"21\": 3, \"4\": 8, \"48\": 4, \"0\": 1, \"44\": 2}, \"0\": {\"0\": 75, \"47\": 2, \"9\": 1, \"56\": 1, \"4\": 1}, \"36\": {\"36\": 80, \"54\": 8, \"55\": 1, \"4\": 1, \"29\": 1, \"23\": 1}, \"55\": {\"14\": 2, \"55\": 88, \"36\": 3, \"43\": 11, \"23\": 5, \"35\": 1, \"17\": 1, \"13\": 1, \"54\": 2, \"53\": 4, \"19\": 1, \"7\": 2, \"33\": 2, \"49\": 1, \"32\": 5, \"41\": 1}, \"35\": {\"35\": 21, \"14\": 1, \"43\": 1, \"32\": 1, \"33\": 1, \"19\": 2, \"17\": 2, \"53\": 2, \"54\": 2, \"42\": 1, \"29\": 1, \"55\": 2, \"23\": 1, \"27\": 2}, \"39\": {\"57\": 3, \"39\": 10, \"4\": 2, \"47\": 3, \"29\": 2}, \"31\": {\"37\": 2, \"41\": 2, \"31\": 23, \"16\": 1}, \"14\": {\"43\": 1, \"14\": 9, \"33\": 3, \"13\": 2, \"2\": 1}, \"12\": {\"12\": 85, \"30\": 5, \"45\": 2}, \"6\": {\"6\": 102, \"5\": 6, \"3\": 2, \"50\": 2}, \"26\": {\"41\": 2, \"26\": 13, \"17\": 2, \"33\": 2, \"32\": 1, \"19\": 1, \"35\": 1, \"42\": 1, \"51\": 1}, \"50\": {\"5\": 3, \"45\": 15, \"3\": 12, \"50\": 87, \"6\": 11, \"12\": 2, \"30\": 1, \"21\": 1}, \"21\": {\"21\": 73, \"12\": 5, \"46\": 12, \"30\": 4, \"50\": 13, \"3\": 6, \"45\": 6, \"6\": 2, \"5\": 1}, \"46\": {\"5\": 12, \"52\": 4, \"46\": 85, \"6\": 13, \"21\": 2, \"50\": 6, \"20\": 3, \"8\": 1, \"44\": 3, \"45\": 2, \"48\": 2, \"12\": 1, \"3\": 5, \"40\": 1}, \"51\": {\"57\": 19, \"51\": 71, \"29\": 13, \"27\": 14, \"1\": 2, \"47\": 6, \"4\": 6, \"40\": 1, \"0\": 1, \"54\": 4, \"9\": 2, \"36\": 1}, \"41\": {\"26\": 2, \"41\": 28, \"55\": 1, \"33\": 1, \"29\": 1, \"42\": 1, \"17\": 1, \"1\": 1}, \"34\": {\"34\": 19, \"28\": 4, \"42\": 1}, \"47\": {\"52\": 3, \"47\": 64, \"9\": 6, \"29\": 7, \"4\": 15, \"57\": 7, \"48\": 4, \"27\": 6, \"8\": 2, \"1\": 3, \"0\": 1, \"51\": 1, \"44\": 1}, \"5\": {\"5\": 97, \"6\": 7, \"3\": 3, \"46\": 1}, \"1\": {\"1\": 32, \"8\": 2, \"29\": 2, \"47\": 3, \"4\": 1}, \"48\": {\"48\": 74, \"5\": 1, \"9\": 2, \"8\": 5, \"20\": 11, \"40\": 8, \"52\": 12, \"12\": 4, \"21\": 2, \"44\": 9, \"46\": 2, \"4\": 1, \"30\": 1, \"50\": 2}, \"29\": {\"29\": 77, \"27\": 7, \"1\": 1, \"54\": 4, \"36\": 2, \"4\": 3, \"51\": 6, \"57\": 11, \"47\": 3, \"8\": 1, \"39\": 2, \"0\": 1}, \"22\": {\"22\": 115, \"40\": 1, \"20\": 3, \"30\": 1, \"52\": 3, \"0\": 2, \"46\": 3}, \"10\": {\"10\": 130, \"11\": 2}, \"32\": {\"32\": 17, \"43\": 2, \"33\": 2, \"17\": 2, \"35\": 1}, \"13\": {\"13\": 112}, \"42\": {\"42\": 23, \"41\": 2, \"33\": 1, \"28\": 2, \"19\": 3, \"16\": 1}, \"27\": {\"8\": 7, \"27\": 88, \"29\": 4, \"4\": 9, \"57\": 8, \"51\": 13, \"47\": 8, \"20\": 1}, \"8\": {\"9\": 9, \"8\": 88, \"27\": 6, \"4\": 12, \"1\": 1, \"40\": 2, \"52\": 4, \"47\": 6, \"57\": 1, \"46\": 4, \"20\": 2, \"3\": 1, \"48\": 2, \"44\": 2, \"21\": 1, \"50\": 1}, \"33\": {\"41\": 3, \"33\": 29, \"17\": 4}, \"25\": {\"28\": 2, \"32\": 2, \"25\": 88, \"41\": 3, \"42\": 2, \"15\": 5, \"55\": 2, \"53\": 9, \"19\": 6, \"23\": 7, \"16\": 2, \"33\": 1, \"17\": 2, \"18\": 1}, \"11\": {\"11\": 99, \"15\": 4, \"16\": 1}, \"53\": {\"41\": 3, \"53\": 80, \"17\": 2, \"23\": 21, \"25\": 1, \"19\": 3, \"26\": 1, \"55\": 1}}, \"C_2\": {\"32\": {\"32\": 21, \"2\": 1, \"29\": 2, \"47\": 1, \"54\": 2, \"27\": 1}, \"17\": {\"17\": 74, \"7\": 1, \"39\": 3, \"49\": 1, \"26\": 3, \"51\": 2, \"33\": 3, \"54\": 9, \"27\": 1, \"23\": 1, \"53\": 2, \"32\": 1, \"29\": 2, \"36\": 1}, \"38\": {\"38\": 19, \"13\": 1}, \"2\": {\"29\": 5, \"2\": 19, \"57\": 3, \"52\": 1, \"54\": 3, \"36\": 1}, \"43\": {\"43\": 137, \"13\": 1, \"55\": 6}, \"56\": {\"56\": 140, \"22\": 3, \"13\": 1}, \"37\": {\"37\": 35, \"39\": 1}, \"49\": {\"49\": 15, \"23\": 4, \"39\": 2, \"34\": 2, \"36\": 1}, \"0\": {\"0\": 30, \"48\": 1, \"41\": 1, \"40\": 3, \"9\": 1, \"1\": 1, \"52\": 1, \"4\": 6, \"20\": 3, \"8\": 1}, \"29\": {\"29\": 68, \"2\": 4, \"57\": 16, \"8\": 4, \"1\": 6, \"47\": 6, \"51\": 6, \"27\": 5, \"54\": 3, \"4\": 2, \"36\": 3, \"9\": 4, \"32\": 1}, \"35\": {\"35\": 21, \"39\": 4, \"23\": 1, \"33\": 1, \"19\": 1, \"53\": 1, \"54\": 1, \"36\": 1, \"17\": 1}, \"18\": {\"18\": 42, \"28\": 1, \"42\": 1, \"15\": 2, \"11\": 1, \"19\": 1}, \"25\": {\"15\": 6, \"18\": 1, \"19\": 7, \"25\": 100, \"16\": 11, \"53\": 3, \"23\": 3, \"11\": 4, \"42\": 1}, \"23\": {\"49\": 3, \"23\": 105, \"39\": 2, \"53\": 10, \"19\": 1, \"42\": 1, \"34\": 1, \"17\": 1}, \"15\": {\"15\": 118, \"25\": 2, \"16\": 21, \"19\": 5}, \"21\": {\"21\": 57, \"50\": 16, \"12\": 9, \"46\": 11, \"3\": 9, \"6\": 2, \"45\": 9, \"5\": 3, \"52\": 1, \"30\": 3}, \"51\": {\"51\": 61, \"8\": 4, \"2\": 1, \"29\": 18, \"32\": 3, \"47\": 5, \"27\": 17, \"1\": 6, \"4\": 2, \"57\": 4, \"48\": 1, \"40\": 2, \"9\": 2, \"36\": 1, \"20\": 1}, \"20\": {\"30\": 10, \"20\": 61, \"48\": 18, \"52\": 11, \"6\": 8, \"50\": 6, \"44\": 4, \"8\": 2, \"40\": 6, \"21\": 5, \"5\": 4, \"12\": 1, \"45\": 2}, \"7\": {\"7\": 33, \"53\": 1, \"42\": 2}, \"50\": {\"50\": 107, \"12\": 10, \"3\": 7, \"45\": 3, \"46\": 1, \"6\": 6, \"21\": 2}, \"31\": {\"31\": 27, \"55\": 1}, \"30\": {\"20\": 8, \"52\": 23, \"45\": 5, \"30\": 63, \"46\": 5, \"21\": 7, \"5\": 4, \"50\": 14, \"6\": 1, \"44\": 2, \"48\": 3, \"12\": 3, \"40\": 2}, \"19\": {\"19\": 112, \"34\": 5, \"16\": 11, \"42\": 1, \"15\": 9, \"25\": 7, \"23\": 8, \"53\": 2, \"7\": 1}, \"9\": {\"8\": 8, \"20\": 5, \"48\": 7, \"1\": 15, \"41\": 1, \"40\": 5, \"4\": 13, \"27\": 10, \"47\": 12, \"0\": 4, \"9\": 54, \"57\": 8, \"51\": 1, \"30\": 1}, \"52\": {\"20\": 17, \"52\": 53, \"3\": 1, \"48\": 17, \"30\": 7, \"44\": 6, \"50\": 2, \"12\": 6, \"21\": 6, \"46\": 3, \"40\": 2, \"9\": 1, \"4\": 1, \"6\": 2}, \"45\": {\"50\": 11, \"45\": 67, \"46\": 7, \"12\": 12, \"6\": 15, \"5\": 4, \"3\": 9, \"21\": 3}, \"8\": {\"8\": 83, \"51\": 4, \"46\": 1, \"57\": 2, \"1\": 13, \"9\": 15, \"0\": 4, \"4\": 12, \"3\": 1, \"48\": 6, \"20\": 3, \"27\": 5, \"29\": 1, \"52\": 1, \"47\": 3}, \"55\": {\"7\": 6, \"55\": 117, \"14\": 1, \"43\": 14, \"29\": 1, \"54\": 2, \"17\": 1, \"13\": 8, \"56\": 3, \"53\": 4, \"23\": 2, \"39\": 1}, \"12\": {\"12\": 89, \"45\": 1, \"50\": 2}, \"40\": {\"40\": 37, \"21\": 6, \"30\": 20, \"52\": 7, \"44\": 4, \"48\": 16, \"20\": 19, \"45\": 2, \"9\": 3, \"1\": 1, \"5\": 5, \"4\": 7, \"50\": 2, \"8\": 2, \"12\": 2, \"0\": 1, \"46\": 4, \"3\": 1, \"27\": 1}, \"28\": {\"28\": 24, \"15\": 2, \"34\": 1, \"19\": 1}, \"36\": {\"36\": 110, \"51\": 1, \"29\": 3, \"57\": 1, \"32\": 1}, \"39\": {\"39\": 23, \"2\": 1, \"33\": 2, \"36\": 1, \"54\": 1}, \"46\": {\"12\": 6, \"46\": 85, \"5\": 7, \"50\": 7, \"3\": 9, \"6\": 4, \"30\": 1, \"21\": 3}, \"14\": {\"14\": 9, \"36\": 3, \"9\": 1, \"26\": 2, \"33\": 1, \"2\": 2, \"13\": 2, \"55\": 1, \"32\": 1, \"49\": 1, \"54\": 1}, \"57\": {\"29\": 11, \"57\": 88, \"47\": 15, \"41\": 1, \"1\": 6, \"9\": 5, \"33\": 1, \"0\": 2, \"4\": 3, \"36\": 1, \"32\": 1, \"27\": 5, \"51\": 1, \"54\": 1, \"8\": 1}, \"34\": {\"19\": 3, \"34\": 20, \"15\": 2, \"23\": 1, \"16\": 1, \"42\": 1}, \"1\": {\"1\": 68, \"51\": 2, \"4\": 4, \"9\": 5, \"57\": 7, \"47\": 13, \"29\": 4, \"41\": 1, \"8\": 3, \"27\": 5}, \"53\": {\"53\": 117, \"39\": 1, \"23\": 11, \"17\": 3, \"49\": 2, \"42\": 1, \"27\": 1}, \"48\": {\"48\": 83, \"20\": 11, \"30\": 5, \"52\": 13, \"40\": 9, \"44\": 5, \"4\": 3, \"6\": 1}, \"3\": {\"3\": 37, \"6\": 19, \"12\": 5, \"52\": 2, \"46\": 12, \"50\": 7, \"45\": 6, \"5\": 3, \"20\": 1}, \"16\": {\"16\": 125, \"25\": 3, \"15\": 21, \"19\": 3}, \"6\": {\"6\": 107, \"3\": 6, \"45\": 3, \"46\": 2, \"12\": 3, \"50\": 3}, \"10\": {\"10\": 112}, \"13\": {\"13\": 98, \"56\": 12, \"22\": 1, \"55\": 3, \"14\": 1, \"38\": 1}, \"26\": {\"26\": 20, \"33\": 1, \"17\": 1, \"23\": 1, \"54\": 1}, \"24\": {\"24\": 96}, \"44\": {\"30\": 10, \"44\": 56, \"6\": 1, \"48\": 6, \"45\": 5, \"40\": 2, \"20\": 4, \"5\": 2, \"46\": 3, \"52\": 4, \"3\": 1, \"21\": 2, \"50\": 1, \"12\": 3}, \"27\": {\"27\": 87, \"9\": 14, \"4\": 9, \"47\": 9, \"1\": 3, \"52\": 1, \"0\": 2, \"48\": 2, \"57\": 10, \"32\": 1, \"2\": 2, \"51\": 8, \"8\": 2}, \"22\": {\"22\": 127, \"57\": 1}, \"33\": {\"26\": 3, \"39\": 1, \"33\": 15, \"2\": 1, \"54\": 2, \"36\": 4, \"32\": 2}, \"47\": {\"41\": 2, \"47\": 53, \"57\": 22, \"0\": 3, \"1\": 4, \"4\": 4, \"27\": 3, \"9\": 13, \"48\": 1, \"8\": 4, \"52\": 1, \"51\": 4, \"29\": 3, \"40\": 1}, \"5\": {\"5\": 75, \"6\": 18, \"50\": 5, \"46\": 11, \"3\": 5, \"21\": 1, \"45\": 4, \"30\": 1}, \"4\": {\"41\": 3, \"4\": 74, \"20\": 6, \"52\": 2, \"48\": 11, \"1\": 5, \"9\": 11, \"40\": 4, \"47\": 4, \"8\": 10, \"27\": 6, \"57\": 1, \"0\": 1}, \"41\": {\"41\": 11, \"47\": 2, \"1\": 6, \"0\": 1}, \"11\": {\"11\": 141, \"16\": 4, \"15\": 4, \"19\": 1}, \"54\": {\"54\": 100, \"29\": 2, \"17\": 3, \"36\": 1, \"57\": 2}, \"42\": {\"39\": 1, \"49\": 2, \"7\": 3, \"42\": 25, \"23\": 2, \"53\": 1, \"55\": 1, \"17\": 1}}, \"C_3\": {\"5\": {\"5\": 98, \"46\": 8, \"3\": 6, \"6\": 2, \"45\": 1, \"12\": 1}, \"32\": {\"39\": 1, \"32\": 19, \"54\": 2, \"57\": 4, \"27\": 2}, \"33\": {\"33\": 19, \"38\": 1, \"48\": 1, \"9\": 1, \"4\": 2, \"30\": 2, \"0\": 1, \"20\": 1}, \"49\": {\"49\": 13, \"43\": 1, \"42\": 1, \"55\": 2, \"14\": 2, \"24\": 1}, \"39\": {\"32\": 1, \"47\": 3, \"39\": 7, \"29\": 2, \"36\": 1, \"57\": 1, \"1\": 1}, \"11\": {\"11\": 128, \"31\": 1, \"15\": 11, \"28\": 1, \"25\": 1}, \"8\": {\"4\": 12, \"2\": 1, \"8\": 52, \"1\": 5, \"0\": 4, \"20\": 4, \"27\": 11, \"51\": 3, \"9\": 11, \"57\": 1, \"21\": 1, \"47\": 4, \"48\": 2, \"52\": 2, \"5\": 1, \"40\": 1, \"50\": 1}, \"26\": {\"26\": 14, \"34\": 4, \"23\": 3, \"53\": 3}, \"51\": {\"32\": 3, \"51\": 79, \"8\": 3, \"29\": 10, \"36\": 6, \"57\": 12, \"47\": 1, \"1\": 1, \"27\": 3, \"33\": 1, \"2\": 1, \"9\": 1, \"40\": 1}, \"4\": {\"8\": 5, \"40\": 7, \"4\": 60, \"27\": 11, \"0\": 10, \"48\": 8, \"2\": 3, \"9\": 18, \"47\": 7, \"33\": 3, \"20\": 5, \"1\": 4, \"29\": 2, \"41\": 2, \"44\": 1}, \"52\": {\"12\": 3, \"52\": 58, \"45\": 2, \"46\": 11, \"44\": 3, \"50\": 4, \"30\": 11, \"3\": 3, \"20\": 14, \"48\": 3, \"5\": 1, \"40\": 4, \"8\": 1}, \"47\": {\"47\": 48, \"39\": 1, \"30\": 3, \"52\": 2, \"4\": 9, \"1\": 5, \"57\": 3, \"0\": 3, \"51\": 1, \"9\": 5, \"27\": 7, \"48\": 1, \"2\": 2, \"29\": 2}, \"17\": {\"17\": 73, \"32\": 2, \"51\": 2, \"57\": 8, \"54\": 4, \"53\": 1, \"29\": 8, \"27\": 2, \"8\": 1, \"36\": 2, \"24\": 1, \"39\": 1, \"9\": 1, \"1\": 2}, \"53\": {\"53\": 112, \"26\": 3, \"42\": 1, \"23\": 18, \"54\": 1, \"29\": 1}, \"2\": {\"32\": 1, \"4\": 3, \"9\": 3, \"2\": 9, \"0\": 2, \"27\": 3, \"20\": 1, \"57\": 2, \"29\": 6, \"48\": 2}, \"12\": {\"12\": 88, \"3\": 1, \"50\": 3}, \"37\": {\"37\": 27, \"54\": 1}, \"9\": {\"40\": 3, \"8\": 13, \"9\": 60, \"48\": 6, \"0\": 8, \"27\": 12, \"47\": 8, \"41\": 1, \"4\": 21, \"1\": 9, \"20\": 1, \"2\": 2, \"21\": 1, \"52\": 1, \"29\": 2}, \"13\": {\"13\": 118, \"7\": 2, \"14\": 2, \"56\": 6}, \"54\": {\"54\": 79, \"17\": 3, \"57\": 6, \"36\": 6, \"23\": 1, \"32\": 1, \"27\": 1, \"29\": 3}, \"31\": {\"31\": 28}, \"34\": {\"34\": 19, \"42\": 4, \"14\": 1, \"53\": 1, \"23\": 5, \"17\": 1, \"26\": 1}, \"24\": {\"24\": 104}, \"7\": {\"7\": 23, \"32\": 1, \"56\": 2, \"22\": 3, \"55\": 1, \"14\": 1, \"2\": 1, \"36\": 2, \"13\": 1, \"29\": 1}, \"50\": {\"50\": 90, \"5\": 2, \"12\": 9, \"6\": 3, \"3\": 10, \"46\": 3, \"45\": 1}, \"46\": {\"46\": 91, \"3\": 9, \"6\": 2, \"5\": 12, \"21\": 1, \"12\": 5, \"30\": 1, \"50\": 7}, \"44\": {\"44\": 45, \"46\": 7, \"41\": 2, \"21\": 2, \"30\": 7, \"52\": 4, \"5\": 3, \"45\": 2, \"40\": 2, \"50\": 1, \"6\": 2, \"3\": 4, \"20\": 5, \"0\": 1, \"12\": 1}, \"40\": {\"40\": 30, \"44\": 2, \"52\": 11, \"38\": 1, \"0\": 2, \"21\": 9, \"30\": 4, \"20\": 14, \"9\": 4, \"8\": 6, \"48\": 18, \"46\": 6, \"27\": 2, \"6\": 2, \"3\": 1, \"51\": 1, \"4\": 3}, \"21\": {\"21\": 65, \"50\": 11, \"5\": 5, \"3\": 10, \"20\": 1, \"12\": 11, \"45\": 4, \"6\": 3, \"46\": 13, \"40\": 1, \"30\": 3, \"52\": 1}, \"45\": {\"50\": 10, \"5\": 6, \"3\": 5, \"45\": 27, \"12\": 5, \"46\": 4, \"6\": 2, \"21\": 1}, \"16\": {\"16\": 116, \"15\": 3, \"19\": 6, \"25\": 1}, \"14\": {\"7\": 5, \"13\": 4, \"14\": 19, \"35\": 3, \"38\": 1, \"56\": 1, \"55\": 2, \"34\": 1, \"57\": 1, \"1\": 1, \"53\": 1, \"54\": 1}, \"36\": {\"36\": 93, \"29\": 3, \"54\": 4}, \"56\": {\"56\": 114}, \"10\": {\"10\": 64}, \"18\": {\"18\": 79, \"16\": 1, \"15\": 4}, \"48\": {\"9\": 5, \"21\": 1, \"48\": 66, \"41\": 2, \"20\": 15, \"0\": 8, \"45\": 1, \"40\": 3, \"4\": 4, \"52\": 5, \"8\": 3, \"27\": 1, \"46\": 1, \"44\": 1}, \"38\": {\"38\": 24, \"33\": 1, \"4\": 1, \"48\": 1, \"9\": 1}, \"27\": {\"1\": 10, \"27\": 52, \"20\": 2, \"8\": 4, \"2\": 5, \"41\": 2, \"57\": 6, \"9\": 14, \"0\": 8, \"47\": 10, \"51\": 3, \"29\": 1, \"4\": 10, \"48\": 2, \"36\": 1}, \"42\": {\"42\": 22, \"34\": 3, \"14\": 1, \"13\": 1, \"17\": 1}, \"15\": {\"15\": 112, \"19\": 4, \"11\": 4, \"25\": 1, \"16\": 11, \"18\": 1, \"55\": 1}, \"1\": {\"1\": 65, \"27\": 7, \"4\": 3, \"47\": 7, \"29\": 8, \"0\": 3, \"9\": 3, \"57\": 3, \"2\": 1}, \"28\": {\"15\": 3, \"11\": 4, \"28\": 21}, \"43\": {\"43\": 130, \"49\": 1, \"55\": 4, \"13\": 1}, \"0\": {\"8\": 4, \"0\": 65, \"48\": 7, \"9\": 11, \"2\": 3, \"41\": 3, \"4\": 13, \"1\": 4, \"27\": 3, \"52\": 1, \"40\": 2, \"20\": 2, \"47\": 6}, \"57\": {\"39\": 4, \"57\": 78, \"1\": 8, \"27\": 3, \"9\": 2, \"36\": 3, \"29\": 8, \"0\": 2, \"2\": 1, \"17\": 2, \"54\": 2, \"4\": 1, \"47\": 3, \"48\": 1, \"32\": 3, \"8\": 3}, \"3\": {\"50\": 17, \"12\": 9, \"3\": 66, \"6\": 13, \"5\": 12, \"46\": 22, \"30\": 5, \"45\": 2, \"21\": 2}, \"29\": {\"36\": 6, \"9\": 8, \"4\": 5, \"29\": 56, \"57\": 11, \"27\": 8, \"54\": 3, \"1\": 8, \"17\": 1, \"47\": 4, \"0\": 2, \"51\": 2, \"8\": 3, \"2\": 3, \"32\": 2, \"39\": 2}, \"41\": {\"48\": 4, \"41\": 14, \"20\": 2, \"40\": 2, \"8\": 2, \"30\": 2, \"27\": 1, \"4\": 1}, \"25\": {\"25\": 94, \"19\": 6, \"42\": 1, \"23\": 7, \"15\": 8, \"53\": 5, \"35\": 1, \"16\": 12, \"18\": 5, \"54\": 1, \"55\": 1, \"43\": 1, \"13\": 1, \"11\": 2, \"17\": 1}, \"6\": {\"6\": 81, \"3\": 5, \"5\": 1, \"45\": 1}, \"35\": {\"35\": 20, \"42\": 2, \"17\": 4, \"23\": 1, \"34\": 1}, \"20\": {\"6\": 2, \"20\": 62, \"52\": 11, \"50\": 6, \"21\": 4, \"44\": 2, \"30\": 7, \"41\": 1, \"48\": 15, \"40\": 3, \"45\": 1, \"46\": 6, \"3\": 3, \"12\": 1, \"5\": 1, \"4\": 1}, \"23\": {\"23\": 113, \"53\": 10, \"26\": 2, \"34\": 3, \"36\": 1, \"19\": 2, \"35\": 2, \"13\": 1}, \"22\": {\"22\": 138, \"7\": 1, \"0\": 1}, \"19\": {\"25\": 6, \"19\": 75, \"16\": 16, \"23\": 11, \"15\": 7, \"42\": 1}, \"55\": {\"55\": 95, \"42\": 1, \"34\": 1, \"43\": 15, \"53\": 2, \"23\": 2, \"13\": 7, \"49\": 1}, \"30\": {\"30\": 55, \"52\": 9, \"20\": 2, \"50\": 22, \"44\": 1, \"5\": 4, \"6\": 3, \"46\": 12, \"45\": 2, \"21\": 1, \"3\": 7, \"12\": 2}}, \"C_1\": {\"24\": {\"24\": 107, \"43\": 1}, \"25\": {\"25\": 112, \"33\": 1, \"19\": 9, \"16\": 9, \"47\": 1, \"54\": 2, \"34\": 2, \"53\": 3, \"18\": 1}, \"45\": {\"45\": 110, \"5\": 3, \"50\": 3, \"46\": 7, \"44\": 3, \"56\": 14, \"20\": 1, \"12\": 2, \"6\": 1}, \"42\": {\"42\": 30, \"55\": 2, \"33\": 3, \"53\": 1, \"32\": 1, \"17\": 1, \"54\": 1, \"19\": 1}, \"2\": {\"45\": 1, \"2\": 14, \"40\": 3, \"30\": 1, \"57\": 1, \"4\": 3, \"50\": 4, \"48\": 1, \"8\": 1, \"6\": 2, \"0\": 2, \"13\": 1, \"12\": 2}, \"9\": {\"9\": 112, \"8\": 10, \"36\": 5, \"0\": 2, \"13\": 3, \"48\": 9, \"57\": 4, \"29\": 1, \"51\": 3, \"1\": 1}, \"21\": {\"21\": 123, \"22\": 1}, \"26\": {\"26\": 19, \"33\": 2, \"34\": 1, \"17\": 1, \"42\": 1}, \"49\": {\"49\": 31, \"31\": 1}, \"39\": {\"39\": 23, \"43\": 2, \"49\": 2, \"33\": 1}, \"46\": {\"46\": 76, \"45\": 9, \"12\": 6, \"56\": 9, \"5\": 8, \"6\": 16, \"20\": 1, \"50\": 8, \"44\": 3}, \"17\": {\"1\": 1, \"17\": 51, \"42\": 3, \"9\": 2, \"55\": 1, \"36\": 1, \"51\": 4, \"54\": 1}, \"19\": {\"19\": 128, \"16\": 11, \"54\": 3, \"34\": 1, \"53\": 9, \"18\": 1, \"23\": 1, \"25\": 2}, \"23\": {\"23\": 131, \"35\": 1}, \"1\": {\"1\": 66, \"36\": 7, \"37\": 1, \"7\": 1, \"9\": 5, \"0\": 1, \"48\": 4, \"21\": 1, \"57\": 6, \"29\": 3, \"8\": 5}, \"29\": {\"29\": 93, \"9\": 9, \"1\": 10, \"36\": 6, \"8\": 6, \"51\": 2, \"55\": 4, \"47\": 1, \"48\": 3, \"57\": 2, \"7\": 3, \"30\": 1}, \"56\": {\"45\": 26, \"56\": 82, \"5\": 12, \"44\": 13, \"6\": 7, \"12\": 1, \"20\": 3, \"46\": 5, \"50\": 1}, \"37\": {\"37\": 23, \"41\": 1, \"51\": 3, \"36\": 1, \"9\": 1, \"48\": 1, \"57\": 1, \"1\": 1}, \"33\": {\"33\": 31, \"42\": 1}, \"55\": {\"55\": 110, \"7\": 8, \"33\": 1, \"32\": 2, \"51\": 5, \"17\": 2, \"29\": 6, \"47\": 3, \"36\": 1, \"54\": 2, \"1\": 2}, \"30\": {\"30\": 75, \"4\": 8, \"14\": 1, \"12\": 5, \"2\": 1, \"56\": 4, \"57\": 4, \"20\": 3, \"50\": 2, \"48\": 2, \"0\": 5, \"3\": 2, \"45\": 1, \"13\": 4, \"40\": 1, \"46\": 2}, \"0\": {\"30\": 17, \"0\": 106, \"40\": 5, \"21\": 3, \"4\": 3, \"56\": 1, \"57\": 4, \"13\": 2, \"22\": 2, \"48\": 3, \"2\": 3, \"8\": 3}, \"36\": {\"36\": 47, \"57\": 3, \"1\": 7, \"29\": 1, \"9\": 3, \"7\": 1, \"51\": 2}, \"32\": {\"32\": 31, \"47\": 1}, \"31\": {\"31\": 28}, \"15\": {\"15\": 138}, \"12\": {\"12\": 57, \"44\": 3, \"20\": 11, \"6\": 3, \"45\": 20, \"50\": 8, \"46\": 1, \"56\": 9, \"40\": 1, \"14\": 1, \"3\": 1, \"30\": 1}, \"38\": {\"9\": 2, \"38\": 17, \"47\": 2, \"52\": 1, \"49\": 1, \"27\": 1}, \"40\": {\"14\": 6, \"30\": 8, \"0\": 5, \"2\": 2, \"4\": 14, \"56\": 8, \"13\": 13, \"40\": 40, \"6\": 5, \"44\": 5, \"45\": 7, \"20\": 9, \"5\": 2, \"12\": 4, \"50\": 10, \"51\": 1, \"3\": 5, \"57\": 1, \"46\": 1}, \"14\": {\"12\": 5, \"13\": 1, \"0\": 2, \"40\": 1, \"57\": 1, \"45\": 1, \"30\": 2, \"14\": 5, \"4\": 3, \"20\": 1, \"46\": 1, \"48\": 1}, \"13\": {\"30\": 7, \"14\": 2, \"2\": 2, \"12\": 8, \"4\": 16, \"13\": 56, \"3\": 9, \"20\": 11, \"40\": 9, \"44\": 3, \"0\": 5, \"45\": 4, \"6\": 1, \"8\": 2, \"50\": 6, \"56\": 5, \"57\": 3, \"48\": 1}, \"48\": {\"9\": 7, \"30\": 5, \"48\": 91, \"57\": 15, \"8\": 17, \"2\": 3, \"0\": 3, \"12\": 1, \"13\": 1, \"4\": 1, \"50\": 2, \"1\": 1, \"40\": 1}, \"34\": {\"34\": 19, \"33\": 2, \"54\": 1, \"53\": 2}, \"44\": {\"44\": 71, \"50\": 5, \"56\": 25, \"3\": 1, \"45\": 14, \"20\": 1, \"5\": 6, \"6\": 3, \"46\": 3, \"12\": 1}, \"5\": {\"5\": 152}, \"11\": {\"11\": 139, \"10\": 1}, \"7\": {\"7\": 25, \"1\": 1, \"55\": 1, \"9\": 1}, \"18\": {\"18\": 68, \"16\": 3, \"19\": 1}, \"52\": {\"52\": 127, \"21\": 4, \"22\": 1}, \"51\": {\"7\": 2, \"41\": 6, \"51\": 91, \"9\": 15, \"1\": 7, \"37\": 2, \"40\": 2, \"29\": 8, \"55\": 2, \"3\": 2, \"36\": 4, \"8\": 1}, \"41\": {\"41\": 16, \"0\": 2, \"2\": 1, \"51\": 1, \"9\": 1, \"29\": 1, \"30\": 1, \"37\": 1}, \"16\": {\"16\": 135, \"25\": 5}, \"22\": {\"22\": 118, \"0\": 4, \"21\": 6, \"52\": 5, \"30\": 1}, \"3\": {\"20\": 12, \"4\": 11, \"12\": 12, \"56\": 13, \"3\": 28, \"50\": 8, \"46\": 6, \"6\": 4, \"13\": 10, \"40\": 9, \"5\": 3, \"45\": 18, \"44\": 2, \"14\": 2, \"30\": 1, \"0\": 1}, \"54\": {\"54\": 97, \"53\": 2, \"17\": 3, \"42\": 2}, \"27\": {\"27\": 144}, \"20\": {\"20\": 48, \"3\": 6, \"12\": 11, \"50\": 11, \"4\": 2, \"13\": 3, \"44\": 7, \"56\": 18, \"45\": 17, \"46\": 5, \"6\": 9, \"30\": 1, \"40\": 1, \"5\": 1}, \"8\": {\"57\": 21, \"8\": 71, \"9\": 12, \"40\": 2, \"30\": 2, \"13\": 1, \"0\": 3, \"48\": 19, \"4\": 1, \"1\": 3, \"2\": 2, \"56\": 1}, \"50\": {\"50\": 142, \"6\": 2}, \"57\": {\"57\": 77, \"14\": 1, \"2\": 1, \"30\": 7, \"12\": 1, \"36\": 2, \"48\": 17, \"13\": 2, \"8\": 12, \"9\": 3, \"0\": 6, \"4\": 5, \"40\": 3, \"56\": 1, \"44\": 1, \"20\": 1}, \"4\": {\"4\": 88, \"45\": 3, \"14\": 2, \"2\": 2, \"13\": 3, \"30\": 9, \"20\": 2, \"56\": 4, \"40\": 6, \"12\": 3, \"46\": 1, \"50\": 4, \"6\": 2, \"44\": 2, \"3\": 1}, \"47\": {\"47\": 140, \"52\": 5, \"38\": 1}, \"10\": {\"10\": 90, \"15\": 1, \"11\": 5}, \"35\": {\"35\": 32, \"23\": 4}, \"53\": {\"53\": 120, \"51\": 1, \"42\": 1, \"54\": 3, \"34\": 1}, \"6\": {\"6\": 87, \"50\": 9}, \"43\": {\"43\": 140}, \"28\": {\"28\": 28}}, \"C_5\": {\"35\": {\"35\": 28, \"49\": 5, \"15\": 1, \"13\": 1, \"31\": 1}, \"57\": {\"57\": 100, \"7\": 4, \"4\": 1, \"52\": 4, \"20\": 2, \"47\": 6, \"8\": 3, \"44\": 1, \"40\": 2, \"48\": 2, \"9\": 1, \"1\": 2, \"27\": 1, \"46\": 2, \"0\": 1}, \"20\": {\"20\": 40, \"46\": 9, \"48\": 10, \"45\": 5, \"4\": 3, \"44\": 7, \"12\": 8, \"30\": 6, \"9\": 6, \"40\": 6, \"50\": 6, \"1\": 12, \"6\": 6, \"52\": 17, \"3\": 1, \"57\": 1, \"7\": 1}, \"12\": {\"12\": 81, \"45\": 6, \"6\": 5, \"50\": 4}, \"32\": {\"32\": 18, \"29\": 2, \"54\": 3, \"27\": 3, \"47\": 2, \"14\": 1, \"8\": 2, \"39\": 1}, \"25\": {\"25\": 104, \"11\": 2, \"19\": 10, \"16\": 13, \"53\": 4, \"15\": 2, \"42\": 2, \"34\": 1}, \"44\": {\"44\": 54, \"46\": 7, \"5\": 8, \"40\": 7, \"1\": 14, \"48\": 13, \"4\": 7, \"45\": 1, \"52\": 11, \"20\": 11, \"12\": 4, \"9\": 6, \"30\": 3, \"6\": 1, \"50\": 1}, \"31\": {\"31\": 34, \"24\": 1, \"11\": 1}, \"11\": {\"11\": 132, \"15\": 18}, \"47\": {\"47\": 71, \"57\": 9, \"27\": 5, \"39\": 2, \"29\": 2, \"7\": 1, \"52\": 1, \"8\": 6, \"14\": 1, \"51\": 1, \"40\": 1}, \"23\": {\"23\": 96, \"43\": 2, \"41\": 1, \"55\": 6, \"36\": 1, \"34\": 1, \"17\": 1, \"53\": 13, \"33\": 1, \"42\": 1, \"19\": 1}, \"43\": {\"43\": 113, \"36\": 9, \"51\": 3, \"13\": 1, \"54\": 3, \"17\": 2, \"55\": 6, \"27\": 1, \"29\": 4, \"23\": 1, \"56\": 1}, \"37\": {\"37\": 20, \"32\": 2, \"7\": 1, \"38\": 1}, \"5\": {\"44\": 8, \"45\": 11, \"30\": 10, \"3\": 9, \"46\": 7, \"5\": 34, \"50\": 10, \"9\": 9, \"20\": 4, \"1\": 4, \"52\": 1, \"4\": 9, \"12\": 5, \"48\": 2, \"6\": 3, \"40\": 1, \"21\": 1}, \"45\": {\"12\": 1, \"45\": 91, \"3\": 3, \"6\": 18, \"50\": 11}, \"7\": {\"20\": 2, \"7\": 8, \"52\": 5, \"57\": 3, \"40\": 2, \"46\": 2, \"9\": 2, \"1\": 3, \"48\": 1, \"8\": 1, \"44\": 1, \"29\": 1, \"47\": 1}, \"13\": {\"13\": 135, \"56\": 1}, \"49\": {\"49\": 36}, \"46\": {\"44\": 5, \"9\": 21, \"46\": 73, \"30\": 10, \"4\": 7, \"3\": 6, \"50\": 2, \"20\": 6, \"1\": 2, \"48\": 2, \"52\": 3, \"5\": 3, \"6\": 2, \"12\": 3, \"45\": 2, \"40\": 1}, \"16\": {\"16\": 128, \"25\": 5, \"19\": 2, \"23\": 1}, \"54\": {\"54\": 80, \"32\": 2, \"41\": 1, \"17\": 13, \"55\": 2, \"29\": 5, \"51\": 1, \"27\": 1, \"38\": 2, \"39\": 1, \"36\": 2, \"43\": 2}, \"19\": {\"19\": 119, \"53\": 8, \"34\": 4, \"37\": 1, \"23\": 5, \"42\": 2, \"25\": 3, \"16\": 6, \"33\": 2, \"55\": 1, \"31\": 1}, \"55\": {\"47\": 2, \"54\": 7, \"55\": 73, \"39\": 1, \"37\": 1, \"41\": 4, \"26\": 4, \"36\": 5, \"34\": 2, \"17\": 10, \"27\": 2, \"23\": 13, \"8\": 4, \"29\": 5, \"51\": 4, \"43\": 8, \"57\": 1, \"53\": 3, \"38\": 1}, \"30\": {\"3\": 7, \"20\": 1, \"46\": 23, \"30\": 46, \"12\": 10, \"50\": 10, \"6\": 9, \"45\": 3, \"1\": 1, \"21\": 1, \"48\": 1, \"9\": 7, \"4\": 6, \"5\": 1, \"40\": 1, \"44\": 1}, \"34\": {\"34\": 28, \"33\": 3, \"54\": 1, \"42\": 1, \"32\": 1, \"36\": 1, \"53\": 1}, \"50\": {\"50\": 87, \"6\": 22, \"12\": 8, \"3\": 2, \"45\": 15}, \"3\": {\"50\": 6, \"3\": 55, \"48\": 1, \"40\": 1, \"4\": 3, \"12\": 6, \"6\": 9, \"20\": 3, \"45\": 5, \"5\": 2, \"44\": 2, \"30\": 4, \"46\": 2, \"1\": 1}, \"10\": {\"10\": 68}, \"27\": {\"27\": 89, \"8\": 12, \"39\": 1, \"51\": 10, \"47\": 7, \"20\": 2, \"54\": 6, \"57\": 7, \"7\": 2, \"38\": 1, \"29\": 3, \"1\": 2}, \"33\": {\"33\": 25, \"42\": 2, \"34\": 2, \"41\": 1, \"23\": 1, \"36\": 1}, \"56\": {\"56\": 138, \"0\": 2, \"22\": 1, \"36\": 1}, \"9\": {\"5\": 4, \"9\": 52, \"46\": 19, \"45\": 11, \"44\": 13, \"20\": 5, \"48\": 6, \"30\": 13, \"4\": 5, \"1\": 6, \"50\": 5, \"6\": 3, \"52\": 2, \"3\": 1, \"12\": 2, \"40\": 2, \"21\": 1}, \"14\": {\"54\": 3, \"56\": 2, \"29\": 4, \"7\": 1, \"14\": 12, \"32\": 3, \"57\": 1, \"47\": 1, \"17\": 2, \"43\": 2, \"40\": 2, \"48\": 2, \"51\": 1, \"55\": 1, \"8\": 1, \"36\": 1, \"2\": 1, \"39\": 1, \"22\": 1, \"20\": 1, \"0\": 1}, \"4\": {\"4\": 34, \"40\": 1, \"12\": 5, \"46\": 11, \"9\": 8, \"5\": 11, \"1\": 1, \"6\": 3, \"30\": 6, \"44\": 4, \"45\": 4, \"3\": 4, \"50\": 4, \"20\": 3, \"21\": 1}, \"42\": {\"42\": 32, \"16\": 1, \"33\": 1, \"41\": 1, \"19\": 2, \"55\": 1, \"23\": 2}, \"24\": {\"24\": 80}, \"39\": {\"47\": 5, \"39\": 10, \"27\": 3, \"14\": 1, \"36\": 1}, \"52\": {\"7\": 2, \"52\": 49, \"30\": 4, \"20\": 6, \"48\": 20, \"1\": 19, \"46\": 7, \"9\": 10, \"44\": 2, \"40\": 4, \"6\": 2, \"8\": 1, \"5\": 1, \"47\": 1, \"4\": 1, \"12\": 1}, \"2\": {\"2\": 27, \"49\": 1}, \"28\": {\"28\": 32}, \"53\": {\"53\": 95, \"26\": 1, \"33\": 3, \"54\": 2, \"17\": 4, \"34\": 3, \"23\": 6, \"8\": 1, \"55\": 4, \"29\": 1, \"19\": 1, \"36\": 1}, \"17\": {\"38\": 1, \"54\": 12, \"17\": 73, \"41\": 1, \"43\": 2, \"14\": 2, \"55\": 8, \"36\": 2, \"8\": 3, \"51\": 3, \"29\": 3, \"7\": 1, \"57\": 2, \"23\": 1, \"27\": 2}, \"29\": {\"29\": 93, \"27\": 10, \"54\": 6, \"14\": 6, \"43\": 2, \"36\": 8, \"8\": 2, \"57\": 2, \"32\": 1, \"51\": 2}, \"38\": {\"47\": 1, \"38\": 10, \"26\": 1, \"51\": 4, \"29\": 1, \"17\": 2, \"52\": 1, \"27\": 2, \"8\": 3, \"14\": 1, \"9\": 2, \"22\": 1, \"7\": 1, \"1\": 1, \"54\": 1}, \"15\": {\"15\": 117, \"11\": 27}, \"26\": {\"26\": 13, \"53\": 1, \"38\": 2, \"41\": 1, \"51\": 3, \"27\": 1, \"34\": 1, \"8\": 1, \"54\": 1}, \"21\": {\"46\": 6, \"12\": 4, \"21\": 79, \"50\": 11, \"5\": 5, \"30\": 10, \"3\": 1, \"6\": 8, \"40\": 5, \"4\": 5, \"45\": 4, \"52\": 1, \"20\": 3, \"9\": 2}, \"41\": {\"41\": 12, \"53\": 1, \"55\": 4, \"32\": 1, \"54\": 3, \"47\": 1, \"36\": 1, \"17\": 1, \"27\": 2, \"43\": 1, \"23\": 1}, \"48\": {\"9\": 4, \"48\": 52, \"4\": 5, \"45\": 3, \"20\": 6, \"52\": 19, \"44\": 5, \"1\": 19, \"40\": 10, \"46\": 1, \"30\": 3, \"5\": 1, \"6\": 2, \"57\": 3, \"3\": 2, \"21\": 1}, \"22\": {\"22\": 27, \"8\": 1}, \"8\": {\"8\": 86, \"39\": 1, \"27\": 11, \"52\": 2, \"20\": 2, \"47\": 15, \"12\": 2, \"30\": 1, \"46\": 1, \"1\": 3, \"57\": 9, \"40\": 2, \"51\": 3, \"9\": 3, \"48\": 1, \"44\": 4, \"6\": 1, \"3\": 1}, \"18\": {\"18\": 62, \"11\": 1, \"16\": 1}, \"0\": {\"0\": 106, \"40\": 1, \"48\": 5, \"1\": 1, \"52\": 2, \"57\": 1, \"47\": 1, \"20\": 1, \"44\": 3, \"56\": 1}, \"1\": {\"1\": 58, \"4\": 4, \"40\": 8, \"52\": 28, \"48\": 19, \"3\": 1, \"12\": 2, \"20\": 5, \"46\": 4, \"9\": 3, \"44\": 2, \"50\": 1, \"6\": 1, \"7\": 1, \"30\": 1}, \"40\": {\"44\": 13, \"40\": 31, \"57\": 10, \"21\": 6, \"52\": 10, \"50\": 3, \"20\": 14, \"12\": 1, \"46\": 6, \"9\": 8, \"1\": 3, \"48\": 8, \"4\": 1, \"0\": 1, \"5\": 1, \"6\": 1, \"7\": 2, \"8\": 3, \"3\": 1, \"47\": 1}, \"6\": {\"6\": 92, \"50\": 18, \"45\": 17, \"12\": 1}, \"51\": {\"38\": 3, \"51\": 73, \"48\": 2, \"8\": 13, \"17\": 6, \"29\": 4, \"27\": 21, \"20\": 3, \"40\": 2, \"57\": 2, \"21\": 8, \"43\": 1, \"14\": 1, \"54\": 2, \"55\": 1}, \"36\": {\"36\": 78, \"32\": 2, \"43\": 4, \"29\": 5, \"54\": 2, \"17\": 1}}}, \"per_domain_accuracy\": {\"O_50\": {\"accuracy\": 0.91875, \"source?\": true}, \"O_14\": {\"accuracy\": 0.8752604166666667, \"source?\": true}, \"O_32\": {\"accuracy\": 0.8721354166666667, \"source?\": true}, \"O_44\": {\"accuracy\": 0.840625, \"source?\": true}, \"O_8\": {\"accuracy\": 0.8919270833333334, \"source?\": true}, \"O_20\": {\"accuracy\": 0.9083333333333333, \"source?\": true}, \"O_38\": {\"accuracy\": 0.9065104166666667, \"source?\": true}, \"O_26\": {\"accuracy\": 0.83984375, \"source?\": true}, \"C_4\": {\"accuracy\": 0.7155303030303031, \"source?\": false}, \"C_2\": {\"accuracy\": 0.6936446629213483, \"source?\": false}, \"C_3\": {\"accuracy\": 0.6830357142857143, \"source?\": false}, \"C_1\": {\"accuracy\": 0.7527027027027027, \"source?\": false}, \"C_5\": {\"accuracy\": 0.6440293296089385, \"source?\": false}}}, \"history\": {\"epoch_indices\": [1, 2, 3, 4, 5, 6, 7, 8, 9], \"train_label_loss\": [0.5434854693283948, 2.303978972822162, 0.38947974071128383, 0.46615426478508326, 0.37029397581326995, 0.3562445668276355, 0.3244445156364236, 0.3096285898823269, 0.2975190245025303], \"source_val_label_loss\": [75.16736602783203, 0.3767891824245453, 0.4523308277130127, 0.3797607421875, 0.3390880227088928, 0.3580709993839264, 0.32149460911750793, 0.3177764117717743, 0.3025323450565338], \"target_val_label_loss\": [5260.36962890625, 716.762939453125, 1402.3485107421875, 1586.1832275390625, 1313.87353515625, 833.1329345703125, 655.41064453125, 818.3828735351562, 818.1553955078125], \"source_val_acc_label\": [0.5430989583333333, 0.86650390625, 0.84453125, 0.8630208333333333, 0.8816731770833334, 0.8725260416666667, 0.8905598958333333, 0.8928385416666667, 0.8945638020833333], \"target_val_acc_label\": [0.6227857142857143, 0.6770357142857143, 0.6348214285714285, 0.6015, 0.6980714285714286, 0.6821071428571429, 0.6931071428571428, 0.6914642857142858, 0.6819285714285714]}, \"dataset_metrics\": {\"source\": {\"train\": {\"n_unique_x\": 179200, \"n_unique_y\": 16, \"n_batch/episode\": 6720}, \"val\": {\"n_unique_x\": 38400, \"n_unique_y\": 16, \"n_batch/episode\": 960}, \"test\": {\"n_unique_x\": 38400, \"n_unique_y\": 16, \"n_batch/episode\": 960}}, \"target\": {\"train\": {\"n_unique_x\": 175197, \"n_unique_y\": 58, \"n_batch/episode\": 6309}, \"val\": {\"n_unique_x\": 37166, \"n_unique_y\": 58, \"n_batch/episode\": 875}, \"test\": {\"n_unique_x\": 37642, \"n_unique_y\": 58, \"n_batch/episode\": 890}}}}'"
      ]
     },
     "execution_count": 29,
     "metadata": {},
     "output_type": "execute_result"
    }
   ],
   "source": [
    "json.dumps(experiment)"
   ]
  }
 ],
 "metadata": {
  "celltoolbar": "Tags",
  "kernelspec": {
   "display_name": "Python 3 (ipykernel)",
   "language": "python",
   "name": "python3"
  },
  "language_info": {
   "codemirror_mode": {
    "name": "ipython",
    "version": 3
   },
   "file_extension": ".py",
   "mimetype": "text/x-python",
   "name": "python",
   "nbconvert_exporter": "python",
   "pygments_lexer": "ipython3",
   "version": "3.8.12"
  },
  "papermill": {
   "default_parameters": {},
   "duration": 1636.713097,
   "end_time": "2022-03-28T06:34:36.826499",
   "environment_variables": {},
   "exception": null,
   "input_path": "/root/csc500-main/csc500-notebooks/templates/tl_ptn_template.ipynb",
   "output_path": "trial.ipynb",
   "parameters": {
    "parameters": {
     "BEST_MODEL_PATH": "./best_model.pth",
     "NUM_LOGS_PER_EPOCH": 10,
     "criteria_for_best": "target_accuracy",
     "dataset_seed": 500,
     "datasets": [
      {
       "domain_prefix": "C_",
       "domains": [
        1,
        2,
        3,
        4,
        5
       ],
       "episode_transforms": [],
       "labels": [
        "1-10.",
        "1-11.",
        "1-15.",
        "1-16.",
        "1-17.",
        "1-18.",
        "1-19.",
        "10-4.",
        "10-7.",
        "11-1.",
        "11-14.",
        "11-17.",
        "11-20.",
        "11-7.",
        "13-20.",
        "13-8.",
        "14-10.",
        "14-11.",
        "14-14.",
        "14-7.",
        "15-1.",
        "15-20.",
        "16-1.",
        "16-16.",
        "17-10.",
        "17-11.",
        "17-2.",
        "19-1.",
        "19-16.",
        "19-19.",
        "19-20.",
        "19-3.",
        "2-10.",
        "2-11.",
        "2-17.",
        "2-18.",
        "2-20.",
        "2-3.",
        "2-4.",
        "2-5.",
        "2-6.",
        "2-7.",
        "2-8.",
        "3-13.",
        "3-18.",
        "3-3.",
        "4-1.",
        "4-10.",
        "4-11.",
        "4-19.",
        "5-5.",
        "6-15.",
        "7-10.",
        "7-14.",
        "8-18.",
        "8-20.",
        "8-3.",
        "8-8."
       ],
       "num_examples_per_domain_per_label": -1,
       "pickle_path": "/root/csc500-main/datasets/cores.stratified_ds.2022A.pkl",
       "source_or_target_dataset": "target",
       "x_transforms": [
        "jitter_256_1",
        "lowpass_+/-10MHz",
        "take_200"
       ]
      },
      {
       "domain_prefix": "O_",
       "domains": [
        32,
        38,
        8,
        44,
        14,
        50,
        20,
        26
       ],
       "episode_transforms": [],
       "labels": [
        "3123D52",
        "3123D65",
        "3123D79",
        "3123D80",
        "3123D54",
        "3123D70",
        "3123D7B",
        "3123D89",
        "3123D58",
        "3123D76",
        "3123D7D",
        "3123EFE",
        "3123D64",
        "3123D78",
        "3123D7E",
        "3124E4A"
       ],
       "num_examples_per_domain_per_label": 2000,
       "pickle_path": "/root/csc500-main/datasets/oracle.Run1_framed_2000Examples_stratified_ds.2022A.pkl",
       "source_or_target_dataset": "source",
       "x_transforms": [
        "jitter_256_1",
        "take_200",
        "resample_20Msps_to_25Msps"
       ]
      }
     ],
     "device": "cuda",
     "experiment_name": "tl_3-jitter1v2:oracle.run1.framed -> cores",
     "lr": 0.0001,
     "n_epoch": 50,
     "n_query": 2,
     "n_shot": 3,
     "n_way": 16,
     "patience": 3,
     "seed": 500,
     "test_k_factor": 2,
     "torch_default_dtype": "torch.float32",
     "train_k_factor": 3,
     "val_k_factor": 2,
     "x_net": [
      {
       "class": "nnReshape",
       "kargs": {
        "shape": [
         -1,
         1,
         2,
         256
        ]
       }
      },
      {
       "class": "Conv2d",
       "kargs": {
        "bias": false,
        "in_channels": 1,
        "kernel_size": [
         1,
         7
        ],
        "out_channels": 256,
        "padding": [
         0,
         3
        ]
       }
      },
      {
       "class": "ReLU",
       "kargs": {
        "inplace": true
       }
      },
      {
       "class": "BatchNorm2d",
       "kargs": {
        "num_features": 256
       }
      },
      {
       "class": "Conv2d",
       "kargs": {
        "bias": true,
        "in_channels": 256,
        "kernel_size": [
         2,
         7
        ],
        "out_channels": 80,
        "padding": [
         0,
         3
        ]
       }
      },
      {
       "class": "ReLU",
       "kargs": {
        "inplace": true
       }
      },
      {
       "class": "BatchNorm2d",
       "kargs": {
        "num_features": 80
       }
      },
      {
       "class": "Flatten",
       "kargs": {}
      },
      {
       "class": "Linear",
       "kargs": {
        "in_features": 20480,
        "out_features": 256
       }
      },
      {
       "class": "ReLU",
       "kargs": {
        "inplace": true
       }
      },
      {
       "class": "BatchNorm1d",
       "kargs": {
        "num_features": 256
       }
      },
      {
       "class": "Linear",
       "kargs": {
        "in_features": 256,
        "out_features": 256
       }
      }
     ],
     "x_shape": [
      2,
      256
     ]
    }
   },
   "start_time": "2022-03-28T06:07:20.113402",
   "version": "2.3.4"
  }
 },
 "nbformat": 4,
 "nbformat_minor": 5
}