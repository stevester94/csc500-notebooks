{
 "cells": [
  {
   "cell_type": "markdown",
   "id": "9fea5f46",
   "metadata": {
    "papermill": {
     "duration": 0.020771,
     "end_time": "2022-03-28T02:18:42.048501",
     "exception": false,
     "start_time": "2022-03-28T02:18:42.027730",
     "status": "completed"
    },
    "tags": []
   },
   "source": [
    "# Transfer Learning Template"
   ]
  },
  {
   "cell_type": "code",
   "execution_count": 1,
   "id": "0902182a",
   "metadata": {
    "execution": {
     "iopub.execute_input": "2022-03-28T02:18:42.106330Z",
     "iopub.status.busy": "2022-03-28T02:18:42.105459Z",
     "iopub.status.idle": "2022-03-28T02:18:44.167594Z",
     "shell.execute_reply": "2022-03-28T02:18:44.166699Z"
    },
    "papermill": {
     "duration": 2.099927,
     "end_time": "2022-03-28T02:18:44.167775",
     "exception": false,
     "start_time": "2022-03-28T02:18:42.067848",
     "status": "completed"
    },
    "tags": []
   },
   "outputs": [],
   "source": [
    "%load_ext autoreload\n",
    "%autoreload 2\n",
    "%matplotlib inline\n",
    "\n",
    "    \n",
    "import os, json, sys, time, random\n",
    "import numpy as np\n",
    "import torch\n",
    "from torch.optim import Adam\n",
    "from  easydict import EasyDict\n",
    "import matplotlib.pyplot as plt\n",
    "\n",
    "from steves_models.steves_ptn import Steves_Prototypical_Network\n",
    "\n",
    "from steves_utils.lazy_iterable_wrapper import Lazy_Iterable_Wrapper\n",
    "from steves_utils.iterable_aggregator import Iterable_Aggregator\n",
    "from steves_utils.ptn_train_eval_test_jig import  PTN_Train_Eval_Test_Jig\n",
    "from steves_utils.torch_sequential_builder import build_sequential\n",
    "from steves_utils.torch_utils import get_dataset_metrics, ptn_confusion_by_domain_over_dataloader\n",
    "from steves_utils.utils_v2 import (per_domain_accuracy_from_confusion, get_datasets_base_path)\n",
    "from steves_utils.PTN.utils import independent_accuracy_assesment\n",
    "\n",
    "from torch.utils.data import DataLoader\n",
    "\n",
    "from steves_utils.stratified_dataset.episodic_accessor import Episodic_Accessor_Factory\n",
    "\n",
    "from steves_utils.ptn_do_report import (\n",
    "    get_loss_curve,\n",
    "    get_results_table,\n",
    "    get_parameters_table,\n",
    "    get_domain_accuracies,\n",
    ")\n",
    "\n",
    "from steves_utils.transforms import get_chained_transform"
   ]
  },
  {
   "cell_type": "markdown",
   "id": "41c840b4",
   "metadata": {
    "papermill": {
     "duration": 0.019254,
     "end_time": "2022-03-28T02:18:44.211248",
     "exception": false,
     "start_time": "2022-03-28T02:18:44.191994",
     "status": "completed"
    },
    "tags": []
   },
   "source": [
    "# Allowed Parameters\n",
    "These are allowed parameters, not defaults\n",
    "Each of these values need to be present in the injected parameters (the notebook will raise an exception if they are not present)\n",
    "\n",
    "Papermill uses the cell tag \"parameters\" to inject the real parameters below this cell.\n",
    "Enable tags to see what I mean"
   ]
  },
  {
   "cell_type": "code",
   "execution_count": 2,
   "id": "fd44eb83",
   "metadata": {
    "execution": {
     "iopub.execute_input": "2022-03-28T02:18:44.263220Z",
     "iopub.status.busy": "2022-03-28T02:18:44.262828Z",
     "iopub.status.idle": "2022-03-28T02:18:44.286626Z",
     "shell.execute_reply": "2022-03-28T02:18:44.285800Z"
    },
    "papermill": {
     "duration": 0.04828,
     "end_time": "2022-03-28T02:18:44.286787",
     "exception": false,
     "start_time": "2022-03-28T02:18:44.238507",
     "status": "completed"
    },
    "tags": []
   },
   "outputs": [],
   "source": [
    "required_parameters = {\n",
    "    \"experiment_name\",\n",
    "    \"lr\",\n",
    "    \"device\",\n",
    "    \"seed\",\n",
    "    \"dataset_seed\",\n",
    "    \"n_shot\",\n",
    "    \"n_query\",\n",
    "    \"n_way\",\n",
    "    \"train_k_factor\",\n",
    "    \"val_k_factor\",\n",
    "    \"test_k_factor\",\n",
    "    \"n_epoch\",\n",
    "    \"patience\",\n",
    "    \"criteria_for_best\",\n",
    "    \"x_net\",\n",
    "    \"datasets\",\n",
    "    \"torch_default_dtype\",\n",
    "    \"NUM_LOGS_PER_EPOCH\",\n",
    "    \"BEST_MODEL_PATH\",\n",
    "    \"x_shape\",\n",
    "}"
   ]
  },
  {
   "cell_type": "code",
   "execution_count": 3,
   "id": "fa3f0049",
   "metadata": {
    "execution": {
     "iopub.execute_input": "2022-03-28T02:18:44.348104Z",
     "iopub.status.busy": "2022-03-28T02:18:44.346008Z",
     "iopub.status.idle": "2022-03-28T02:18:44.371216Z",
     "shell.execute_reply": "2022-03-28T02:18:44.370375Z"
    },
    "papermill": {
     "duration": 0.058134,
     "end_time": "2022-03-28T02:18:44.371388",
     "exception": false,
     "start_time": "2022-03-28T02:18:44.313254",
     "status": "completed"
    },
    "tags": [
     "parameters"
    ]
   },
   "outputs": [],
   "source": [
    "from steves_utils.CORES.utils import (\n",
    "    ALL_NODES,\n",
    "    ALL_NODES_MINIMUM_1000_EXAMPLES,\n",
    "    ALL_DAYS\n",
    ")\n",
    "\n",
    "from steves_utils.ORACLE.utils_v2 import (\n",
    "    ALL_DISTANCES_FEET_NARROWED,\n",
    "    ALL_RUNS,\n",
    "    ALL_SERIAL_NUMBERS,\n",
    ")\n",
    "\n",
    "standalone_parameters = {}\n",
    "standalone_parameters[\"experiment_name\"] = \"STANDALONE PTN\"\n",
    "standalone_parameters[\"lr\"] = 0.001\n",
    "standalone_parameters[\"device\"] = \"cuda\"\n",
    "\n",
    "standalone_parameters[\"seed\"] = 1337\n",
    "standalone_parameters[\"dataset_seed\"] = 1337\n",
    "\n",
    "standalone_parameters[\"n_way\"] = 8\n",
    "standalone_parameters[\"n_shot\"] = 3\n",
    "standalone_parameters[\"n_query\"]  = 2\n",
    "standalone_parameters[\"train_k_factor\"] = 1\n",
    "standalone_parameters[\"val_k_factor\"] = 2\n",
    "standalone_parameters[\"test_k_factor\"] = 2\n",
    "\n",
    "\n",
    "standalone_parameters[\"n_epoch\"] = 50\n",
    "\n",
    "standalone_parameters[\"patience\"] = 10\n",
    "standalone_parameters[\"criteria_for_best\"] = \"source_loss\"\n",
    "\n",
    "standalone_parameters[\"datasets\"] = [\n",
    "    {\n",
    "        \"labels\": ALL_SERIAL_NUMBERS,\n",
    "        \"domains\": ALL_DISTANCES_FEET_NARROWED,\n",
    "        \"num_examples_per_domain_per_label\": 100,\n",
    "        \"pickle_path\": os.path.join(get_datasets_base_path(), \"oracle.Run1_framed_2000Examples_stratified_ds.2022A.pkl\"),\n",
    "        \"source_or_target_dataset\": \"source\",\n",
    "        \"x_transforms\": [\"unit_mag\", \"minus_two\"],\n",
    "        \"episode_transforms\": [],\n",
    "        \"domain_prefix\": \"ORACLE_\"\n",
    "    },\n",
    "    {\n",
    "        \"labels\": ALL_NODES,\n",
    "        \"domains\": ALL_DAYS,\n",
    "        \"num_examples_per_domain_per_label\": 100,\n",
    "        \"pickle_path\": os.path.join(get_datasets_base_path(), \"cores.stratified_ds.2022A.pkl\"),\n",
    "        \"source_or_target_dataset\": \"target\",\n",
    "        \"x_transforms\": [\"unit_power\", \"times_zero\"],\n",
    "        \"episode_transforms\": [],\n",
    "        \"domain_prefix\": \"CORES_\"\n",
    "    }   \n",
    "]\n",
    "\n",
    "standalone_parameters[\"torch_default_dtype\"] = \"torch.float32\" \n",
    "\n",
    "\n",
    "\n",
    "standalone_parameters[\"x_net\"] =     [\n",
    "    {\"class\": \"nnReshape\", \"kargs\": {\"shape\":[-1, 1, 2, 256]}},\n",
    "    {\"class\": \"Conv2d\", \"kargs\": { \"in_channels\":1, \"out_channels\":256, \"kernel_size\":(1,7), \"bias\":False, \"padding\":(0,3), },},\n",
    "    {\"class\": \"ReLU\", \"kargs\": {\"inplace\": True}},\n",
    "    {\"class\": \"BatchNorm2d\", \"kargs\": {\"num_features\":256}},\n",
    "\n",
    "    {\"class\": \"Conv2d\", \"kargs\": { \"in_channels\":256, \"out_channels\":80, \"kernel_size\":(2,7), \"bias\":True, \"padding\":(0,3), },},\n",
    "    {\"class\": \"ReLU\", \"kargs\": {\"inplace\": True}},\n",
    "    {\"class\": \"BatchNorm2d\", \"kargs\": {\"num_features\":80}},\n",
    "    {\"class\": \"Flatten\", \"kargs\": {}},\n",
    "\n",
    "    {\"class\": \"Linear\", \"kargs\": {\"in_features\": 80*256, \"out_features\": 256}}, # 80 units per IQ pair\n",
    "    {\"class\": \"ReLU\", \"kargs\": {\"inplace\": True}},\n",
    "    {\"class\": \"BatchNorm1d\", \"kargs\": {\"num_features\":256}},\n",
    "\n",
    "    {\"class\": \"Linear\", \"kargs\": {\"in_features\": 256, \"out_features\": 256}},\n",
    "]\n",
    "\n",
    "# Parameters relevant to results\n",
    "# These parameters will basically never need to change\n",
    "standalone_parameters[\"NUM_LOGS_PER_EPOCH\"] = 10\n",
    "standalone_parameters[\"BEST_MODEL_PATH\"] = \"./best_model.pth\"\n",
    "\n",
    "\n",
    "\n",
    "\n"
   ]
  },
  {
   "cell_type": "code",
   "execution_count": 4,
   "id": "d152ff9f",
   "metadata": {
    "execution": {
     "iopub.execute_input": "2022-03-28T02:18:44.433551Z",
     "iopub.status.busy": "2022-03-28T02:18:44.432592Z",
     "iopub.status.idle": "2022-03-28T02:18:44.455592Z",
     "shell.execute_reply": "2022-03-28T02:18:44.454748Z"
    },
    "papermill": {
     "duration": 0.05754,
     "end_time": "2022-03-28T02:18:44.455756",
     "exception": false,
     "start_time": "2022-03-28T02:18:44.398216",
     "status": "completed"
    },
    "tags": [
     "injected-parameters"
    ]
   },
   "outputs": [],
   "source": [
    "# Parameters\n",
    "parameters = {\n",
    "    \"experiment_name\": \"tl_3-jitter1v2:oracle.run1.framed -> cores\",\n",
    "    \"device\": \"cuda\",\n",
    "    \"lr\": 0.0001,\n",
    "    \"x_shape\": [2, 256],\n",
    "    \"n_shot\": 3,\n",
    "    \"n_query\": 2,\n",
    "    \"train_k_factor\": 3,\n",
    "    \"val_k_factor\": 2,\n",
    "    \"test_k_factor\": 2,\n",
    "    \"torch_default_dtype\": \"torch.float32\",\n",
    "    \"n_epoch\": 50,\n",
    "    \"patience\": 3,\n",
    "    \"criteria_for_best\": \"target_accuracy\",\n",
    "    \"x_net\": [\n",
    "        {\"class\": \"nnReshape\", \"kargs\": {\"shape\": [-1, 1, 2, 256]}},\n",
    "        {\n",
    "            \"class\": \"Conv2d\",\n",
    "            \"kargs\": {\n",
    "                \"in_channels\": 1,\n",
    "                \"out_channels\": 256,\n",
    "                \"kernel_size\": [1, 7],\n",
    "                \"bias\": False,\n",
    "                \"padding\": [0, 3],\n",
    "            },\n",
    "        },\n",
    "        {\"class\": \"ReLU\", \"kargs\": {\"inplace\": True}},\n",
    "        {\"class\": \"BatchNorm2d\", \"kargs\": {\"num_features\": 256}},\n",
    "        {\n",
    "            \"class\": \"Conv2d\",\n",
    "            \"kargs\": {\n",
    "                \"in_channels\": 256,\n",
    "                \"out_channels\": 80,\n",
    "                \"kernel_size\": [2, 7],\n",
    "                \"bias\": True,\n",
    "                \"padding\": [0, 3],\n",
    "            },\n",
    "        },\n",
    "        {\"class\": \"ReLU\", \"kargs\": {\"inplace\": True}},\n",
    "        {\"class\": \"BatchNorm2d\", \"kargs\": {\"num_features\": 80}},\n",
    "        {\"class\": \"Flatten\", \"kargs\": {}},\n",
    "        {\"class\": \"Linear\", \"kargs\": {\"in_features\": 20480, \"out_features\": 256}},\n",
    "        {\"class\": \"ReLU\", \"kargs\": {\"inplace\": True}},\n",
    "        {\"class\": \"BatchNorm1d\", \"kargs\": {\"num_features\": 256}},\n",
    "        {\"class\": \"Linear\", \"kargs\": {\"in_features\": 256, \"out_features\": 256}},\n",
    "    ],\n",
    "    \"NUM_LOGS_PER_EPOCH\": 10,\n",
    "    \"BEST_MODEL_PATH\": \"./best_model.pth\",\n",
    "    \"n_way\": 16,\n",
    "    \"datasets\": [\n",
    "        {\n",
    "            \"labels\": [\n",
    "                \"1-10.\",\n",
    "                \"1-11.\",\n",
    "                \"1-15.\",\n",
    "                \"1-16.\",\n",
    "                \"1-17.\",\n",
    "                \"1-18.\",\n",
    "                \"1-19.\",\n",
    "                \"10-4.\",\n",
    "                \"10-7.\",\n",
    "                \"11-1.\",\n",
    "                \"11-14.\",\n",
    "                \"11-17.\",\n",
    "                \"11-20.\",\n",
    "                \"11-7.\",\n",
    "                \"13-20.\",\n",
    "                \"13-8.\",\n",
    "                \"14-10.\",\n",
    "                \"14-11.\",\n",
    "                \"14-14.\",\n",
    "                \"14-7.\",\n",
    "                \"15-1.\",\n",
    "                \"15-20.\",\n",
    "                \"16-1.\",\n",
    "                \"16-16.\",\n",
    "                \"17-10.\",\n",
    "                \"17-11.\",\n",
    "                \"17-2.\",\n",
    "                \"19-1.\",\n",
    "                \"19-16.\",\n",
    "                \"19-19.\",\n",
    "                \"19-20.\",\n",
    "                \"19-3.\",\n",
    "                \"2-10.\",\n",
    "                \"2-11.\",\n",
    "                \"2-17.\",\n",
    "                \"2-18.\",\n",
    "                \"2-20.\",\n",
    "                \"2-3.\",\n",
    "                \"2-4.\",\n",
    "                \"2-5.\",\n",
    "                \"2-6.\",\n",
    "                \"2-7.\",\n",
    "                \"2-8.\",\n",
    "                \"3-13.\",\n",
    "                \"3-18.\",\n",
    "                \"3-3.\",\n",
    "                \"4-1.\",\n",
    "                \"4-10.\",\n",
    "                \"4-11.\",\n",
    "                \"4-19.\",\n",
    "                \"5-5.\",\n",
    "                \"6-15.\",\n",
    "                \"7-10.\",\n",
    "                \"7-14.\",\n",
    "                \"8-18.\",\n",
    "                \"8-20.\",\n",
    "                \"8-3.\",\n",
    "                \"8-8.\",\n",
    "            ],\n",
    "            \"domains\": [1, 2, 3, 4, 5],\n",
    "            \"num_examples_per_domain_per_label\": -1,\n",
    "            \"pickle_path\": \"/root/csc500-main/datasets/cores.stratified_ds.2022A.pkl\",\n",
    "            \"source_or_target_dataset\": \"target\",\n",
    "            \"x_transforms\": [\"jitter_256_1\", \"lowpass_+/-10MHz\", \"take_200\"],\n",
    "            \"episode_transforms\": [],\n",
    "            \"domain_prefix\": \"C_\",\n",
    "        },\n",
    "        {\n",
    "            \"labels\": [\n",
    "                \"3123D52\",\n",
    "                \"3123D65\",\n",
    "                \"3123D79\",\n",
    "                \"3123D80\",\n",
    "                \"3123D54\",\n",
    "                \"3123D70\",\n",
    "                \"3123D7B\",\n",
    "                \"3123D89\",\n",
    "                \"3123D58\",\n",
    "                \"3123D76\",\n",
    "                \"3123D7D\",\n",
    "                \"3123EFE\",\n",
    "                \"3123D64\",\n",
    "                \"3123D78\",\n",
    "                \"3123D7E\",\n",
    "                \"3124E4A\",\n",
    "            ],\n",
    "            \"domains\": [32, 38, 8, 44, 14, 50, 20, 26],\n",
    "            \"num_examples_per_domain_per_label\": 2000,\n",
    "            \"pickle_path\": \"/root/csc500-main/datasets/oracle.Run1_framed_2000Examples_stratified_ds.2022A.pkl\",\n",
    "            \"source_or_target_dataset\": \"source\",\n",
    "            \"x_transforms\": [\"jitter_256_1\", \"take_200\", \"resample_20Msps_to_25Msps\"],\n",
    "            \"episode_transforms\": [],\n",
    "            \"domain_prefix\": \"O_\",\n",
    "        },\n",
    "    ],\n",
    "    \"seed\": 1337,\n",
    "    \"dataset_seed\": 1337,\n",
    "}\n"
   ]
  },
  {
   "cell_type": "code",
   "execution_count": 5,
   "id": "8fa1cc33",
   "metadata": {
    "execution": {
     "iopub.execute_input": "2022-03-28T02:18:44.512664Z",
     "iopub.status.busy": "2022-03-28T02:18:44.512013Z",
     "iopub.status.idle": "2022-03-28T02:18:44.535612Z",
     "shell.execute_reply": "2022-03-28T02:18:44.534769Z"
    },
    "papermill": {
     "duration": 0.051075,
     "end_time": "2022-03-28T02:18:44.535774",
     "exception": false,
     "start_time": "2022-03-28T02:18:44.484699",
     "status": "completed"
    },
    "tags": []
   },
   "outputs": [],
   "source": [
    "# Set this to True if you want to run this template directly\n",
    "STANDALONE = False\n",
    "if STANDALONE:\n",
    "    print(\"parameters not injected, running with standalone_parameters\")\n",
    "    parameters = standalone_parameters\n",
    "\n",
    "if not 'parameters' in locals() and not 'parameters' in globals():\n",
    "    raise Exception(\"Parameter injection failed\")\n",
    "\n",
    "#Use an easy dict for all the parameters\n",
    "p = EasyDict(parameters)\n",
    "\n",
    "if \"x_shape\" not in p:\n",
    "    p.x_shape = [2,256] # Default to this if we dont supply x_shape\n",
    "\n",
    "\n",
    "supplied_keys = set(p.keys())\n",
    "\n",
    "if  supplied_keys != required_parameters:\n",
    "    print(\"Parameters are incorrect\")\n",
    "    if len(supplied_keys - required_parameters)>0: print(\"Shouldn't have:\", str(supplied_keys - required_parameters))\n",
    "    if len(required_parameters - supplied_keys)>0: print(\"Need to have:\", str(required_parameters - supplied_keys))\n",
    "    raise RuntimeError(\"Parameters are incorrect\")"
   ]
  },
  {
   "cell_type": "code",
   "execution_count": 6,
   "id": "3a028d58",
   "metadata": {
    "execution": {
     "iopub.execute_input": "2022-03-28T02:18:44.589019Z",
     "iopub.status.busy": "2022-03-28T02:18:44.588428Z",
     "iopub.status.idle": "2022-03-28T02:18:44.611810Z",
     "shell.execute_reply": "2022-03-28T02:18:44.610965Z"
    },
    "papermill": {
     "duration": 0.047266,
     "end_time": "2022-03-28T02:18:44.611975",
     "exception": false,
     "start_time": "2022-03-28T02:18:44.564709",
     "status": "completed"
    },
    "tags": []
   },
   "outputs": [],
   "source": [
    "###################################\n",
    "# Set the RNGs and make it all deterministic\n",
    "###################################\n",
    "np.random.seed(p.seed)\n",
    "random.seed(p.seed)\n",
    "torch.manual_seed(p.seed)\n",
    "\n",
    "torch.use_deterministic_algorithms(True) "
   ]
  },
  {
   "cell_type": "code",
   "execution_count": 7,
   "id": "b691acf6",
   "metadata": {
    "execution": {
     "iopub.execute_input": "2022-03-28T02:18:44.665246Z",
     "iopub.status.busy": "2022-03-28T02:18:44.664637Z",
     "iopub.status.idle": "2022-03-28T02:18:44.689091Z",
     "shell.execute_reply": "2022-03-28T02:18:44.688264Z"
    },
    "papermill": {
     "duration": 0.048484,
     "end_time": "2022-03-28T02:18:44.689253",
     "exception": false,
     "start_time": "2022-03-28T02:18:44.640769",
     "status": "completed"
    },
    "tags": []
   },
   "outputs": [],
   "source": [
    "###########################################\n",
    "# The stratified datasets honor this\n",
    "###########################################\n",
    "torch.set_default_dtype(eval(p.torch_default_dtype))"
   ]
  },
  {
   "cell_type": "code",
   "execution_count": 8,
   "id": "b5fba671",
   "metadata": {
    "execution": {
     "iopub.execute_input": "2022-03-28T02:18:44.741616Z",
     "iopub.status.busy": "2022-03-28T02:18:44.741242Z",
     "iopub.status.idle": "2022-03-28T02:18:44.800692Z",
     "shell.execute_reply": "2022-03-28T02:18:44.799909Z"
    },
    "papermill": {
     "duration": 0.083283,
     "end_time": "2022-03-28T02:18:44.800869",
     "exception": false,
     "start_time": "2022-03-28T02:18:44.717586",
     "status": "completed"
    },
    "tags": []
   },
   "outputs": [],
   "source": [
    "###################################\n",
    "# Build the network(s)\n",
    "# Note: It's critical to do this AFTER setting the RNG\n",
    "###################################\n",
    "x_net = build_sequential(p.x_net)"
   ]
  },
  {
   "cell_type": "code",
   "execution_count": 9,
   "id": "5d7e61cc",
   "metadata": {
    "execution": {
     "iopub.execute_input": "2022-03-28T02:18:44.849838Z",
     "iopub.status.busy": "2022-03-28T02:18:44.849271Z",
     "iopub.status.idle": "2022-03-28T02:18:44.875726Z",
     "shell.execute_reply": "2022-03-28T02:18:44.874985Z"
    },
    "papermill": {
     "duration": 0.05055,
     "end_time": "2022-03-28T02:18:44.875889",
     "exception": false,
     "start_time": "2022-03-28T02:18:44.825339",
     "status": "completed"
    },
    "tags": []
   },
   "outputs": [],
   "source": [
    "start_time_secs = time.time()"
   ]
  },
  {
   "cell_type": "code",
   "execution_count": 10,
   "id": "c6b67dfd",
   "metadata": {
    "execution": {
     "iopub.execute_input": "2022-03-28T02:18:44.927344Z",
     "iopub.status.busy": "2022-03-28T02:18:44.926971Z",
     "iopub.status.idle": "2022-03-28T02:18:44.947091Z",
     "shell.execute_reply": "2022-03-28T02:18:44.947783Z"
    },
    "papermill": {
     "duration": 0.044754,
     "end_time": "2022-03-28T02:18:44.947978",
     "exception": false,
     "start_time": "2022-03-28T02:18:44.903224",
     "status": "completed"
    },
    "tags": []
   },
   "outputs": [],
   "source": [
    "p.domains_source = []\n",
    "p.domains_target = []\n",
    "\n",
    "\n",
    "train_original_source = []\n",
    "val_original_source   = []\n",
    "test_original_source  = []\n",
    "\n",
    "train_original_target = []\n",
    "val_original_target   = []\n",
    "test_original_target  = []"
   ]
  },
  {
   "cell_type": "code",
   "execution_count": 11,
   "id": "e3d9c3d3",
   "metadata": {
    "execution": {
     "iopub.execute_input": "2022-03-28T02:18:45.000720Z",
     "iopub.status.busy": "2022-03-28T02:18:45.000348Z",
     "iopub.status.idle": "2022-03-28T02:18:45.024355Z",
     "shell.execute_reply": "2022-03-28T02:18:45.023633Z"
    },
    "papermill": {
     "duration": 0.047408,
     "end_time": "2022-03-28T02:18:45.024512",
     "exception": false,
     "start_time": "2022-03-28T02:18:44.977104",
     "status": "completed"
    },
    "tags": []
   },
   "outputs": [],
   "source": [
    "# global_x_transform_func = lambda x: normalize(x.to(torch.get_default_dtype()), \"unit_power\") # unit_power, unit_mag\n",
    "# global_x_transform_func = lambda x: normalize(x, \"unit_power\") # unit_power, unit_mag"
   ]
  },
  {
   "cell_type": "code",
   "execution_count": 12,
   "id": "acb78fd2",
   "metadata": {
    "execution": {
     "iopub.execute_input": "2022-03-28T02:18:45.084563Z",
     "iopub.status.busy": "2022-03-28T02:18:45.083712Z",
     "iopub.status.idle": "2022-03-28T02:18:45.104662Z",
     "shell.execute_reply": "2022-03-28T02:18:45.103936Z"
    },
    "papermill": {
     "duration": 0.053735,
     "end_time": "2022-03-28T02:18:45.104826",
     "exception": false,
     "start_time": "2022-03-28T02:18:45.051091",
     "status": "completed"
    },
    "tags": []
   },
   "outputs": [],
   "source": [
    "def add_dataset(\n",
    "    labels,\n",
    "    domains,\n",
    "    pickle_path,\n",
    "    x_transforms,\n",
    "    episode_transforms,\n",
    "    domain_prefix,\n",
    "    num_examples_per_domain_per_label,\n",
    "    source_or_target_dataset:str,\n",
    "    iterator_seed=p.seed,\n",
    "    dataset_seed=p.dataset_seed,\n",
    "    n_shot=p.n_shot,\n",
    "    n_way=p.n_way,\n",
    "    n_query=p.n_query,\n",
    "    train_val_test_k_factors=(p.train_k_factor,p.val_k_factor,p.test_k_factor),\n",
    "):\n",
    "   \n",
    "    if x_transforms == []: x_transform = None\n",
    "    else: x_transform = get_chained_transform(x_transforms)\n",
    "    \n",
    "    if episode_transforms == []: episode_transform = None\n",
    "    else: raise Exception(\"episode_transforms not implemented\")\n",
    "    \n",
    "    episode_transform = lambda tup, _prefix=domain_prefix: (_prefix + str(tup[0]), tup[1])\n",
    "\n",
    "\n",
    "    eaf = Episodic_Accessor_Factory(\n",
    "        labels=labels,\n",
    "        domains=domains,\n",
    "        num_examples_per_domain_per_label=num_examples_per_domain_per_label,\n",
    "        iterator_seed=iterator_seed,\n",
    "        dataset_seed=dataset_seed,\n",
    "        n_shot=n_shot,\n",
    "        n_way=n_way,\n",
    "        n_query=n_query,\n",
    "        train_val_test_k_factors=train_val_test_k_factors,\n",
    "        pickle_path=pickle_path,\n",
    "        x_transform_func=x_transform,\n",
    "    )\n",
    "\n",
    "    train, val, test = eaf.get_train(), eaf.get_val(), eaf.get_test()\n",
    "    train = Lazy_Iterable_Wrapper(train, episode_transform)\n",
    "    val = Lazy_Iterable_Wrapper(val, episode_transform)\n",
    "    test = Lazy_Iterable_Wrapper(test, episode_transform)\n",
    "\n",
    "    if source_or_target_dataset==\"source\":\n",
    "        train_original_source.append(train)\n",
    "        val_original_source.append(val)\n",
    "        test_original_source.append(test)\n",
    "\n",
    "        p.domains_source.extend(\n",
    "            [domain_prefix + str(u) for u in domains]\n",
    "        )\n",
    "    elif source_or_target_dataset==\"target\":\n",
    "        train_original_target.append(train)\n",
    "        val_original_target.append(val)\n",
    "        test_original_target.append(test)\n",
    "        p.domains_target.extend(\n",
    "            [domain_prefix + str(u) for u in domains]\n",
    "        )\n",
    "    else:\n",
    "        raise Exception(f\"invalid source_or_target_dataset: {source_or_target_dataset}\")\n",
    "    "
   ]
  },
  {
   "cell_type": "code",
   "execution_count": 13,
   "id": "fe266617",
   "metadata": {
    "execution": {
     "iopub.execute_input": "2022-03-28T02:18:45.157674Z",
     "iopub.status.busy": "2022-03-28T02:18:45.157222Z",
     "iopub.status.idle": "2022-03-28T02:19:49.696229Z",
     "shell.execute_reply": "2022-03-28T02:19:49.695085Z"
    },
    "papermill": {
     "duration": 64.561999,
     "end_time": "2022-03-28T02:19:49.696522",
     "exception": false,
     "start_time": "2022-03-28T02:18:45.134523",
     "status": "completed"
    },
    "tags": []
   },
   "outputs": [],
   "source": [
    "for ds in p.datasets:\n",
    "    add_dataset(**ds)"
   ]
  },
  {
   "cell_type": "code",
   "execution_count": 14,
   "id": "b90d65ac",
   "metadata": {
    "execution": {
     "iopub.execute_input": "2022-03-28T02:19:49.749841Z",
     "iopub.status.busy": "2022-03-28T02:19:49.749436Z",
     "iopub.status.idle": "2022-03-28T02:19:49.776692Z",
     "shell.execute_reply": "2022-03-28T02:19:49.775934Z"
    },
    "papermill": {
     "duration": 0.052469,
     "end_time": "2022-03-28T02:19:49.776888",
     "exception": false,
     "start_time": "2022-03-28T02:19:49.724419",
     "status": "completed"
    },
    "tags": []
   },
   "outputs": [],
   "source": [
    "# from steves_utils.CORES.utils import (\n",
    "#     ALL_NODES,\n",
    "#     ALL_NODES_MINIMUM_1000_EXAMPLES,\n",
    "#     ALL_DAYS\n",
    "# )\n",
    "\n",
    "# add_dataset(\n",
    "#     labels=ALL_NODES,\n",
    "#     domains = ALL_DAYS,\n",
    "#     num_examples_per_domain_per_label=100,\n",
    "#     pickle_path=os.path.join(get_datasets_base_path(), \"cores.stratified_ds.2022A.pkl\"),\n",
    "#     source_or_target_dataset=\"target\",\n",
    "#     x_transform_func=global_x_transform_func,\n",
    "#     domain_modifier=lambda u: f\"cores_{u}\"\n",
    "# )"
   ]
  },
  {
   "cell_type": "code",
   "execution_count": 15,
   "id": "76db484d",
   "metadata": {
    "execution": {
     "iopub.execute_input": "2022-03-28T02:19:49.831322Z",
     "iopub.status.busy": "2022-03-28T02:19:49.830724Z",
     "iopub.status.idle": "2022-03-28T02:19:49.852730Z",
     "shell.execute_reply": "2022-03-28T02:19:49.851958Z"
    },
    "papermill": {
     "duration": 0.048765,
     "end_time": "2022-03-28T02:19:49.852914",
     "exception": false,
     "start_time": "2022-03-28T02:19:49.804149",
     "status": "completed"
    },
    "tags": []
   },
   "outputs": [],
   "source": [
    "# from steves_utils.ORACLE.utils_v2 import (\n",
    "#     ALL_DISTANCES_FEET,\n",
    "#     ALL_RUNS,\n",
    "#     ALL_SERIAL_NUMBERS,\n",
    "# )\n",
    "\n",
    "\n",
    "# add_dataset(\n",
    "#     labels=ALL_SERIAL_NUMBERS,\n",
    "#     domains = list(set(ALL_DISTANCES_FEET) - {2,62}),\n",
    "#     num_examples_per_domain_per_label=100,\n",
    "#     pickle_path=os.path.join(get_datasets_base_path(), \"oracle.Run2_framed_2000Examples_stratified_ds.2022A.pkl\"),\n",
    "#     source_or_target_dataset=\"source\",\n",
    "#     x_transform_func=global_x_transform_func,\n",
    "#     domain_modifier=lambda u: f\"oracle1_{u}\"\n",
    "# )\n"
   ]
  },
  {
   "cell_type": "code",
   "execution_count": 16,
   "id": "97dea9d2",
   "metadata": {
    "execution": {
     "iopub.execute_input": "2022-03-28T02:19:49.920281Z",
     "iopub.status.busy": "2022-03-28T02:19:49.912481Z",
     "iopub.status.idle": "2022-03-28T02:19:49.933824Z",
     "shell.execute_reply": "2022-03-28T02:19:49.932992Z"
    },
    "papermill": {
     "duration": 0.045337,
     "end_time": "2022-03-28T02:19:49.933988",
     "exception": false,
     "start_time": "2022-03-28T02:19:49.888651",
     "status": "completed"
    },
    "tags": []
   },
   "outputs": [],
   "source": [
    "# from steves_utils.ORACLE.utils_v2 import (\n",
    "#     ALL_DISTANCES_FEET,\n",
    "#     ALL_RUNS,\n",
    "#     ALL_SERIAL_NUMBERS,\n",
    "# )\n",
    "\n",
    "\n",
    "# add_dataset(\n",
    "#     labels=ALL_SERIAL_NUMBERS,\n",
    "#     domains = list(set(ALL_DISTANCES_FEET) - {2,62,56}),\n",
    "#     num_examples_per_domain_per_label=100,\n",
    "#     pickle_path=os.path.join(get_datasets_base_path(), \"oracle.Run2_framed_2000Examples_stratified_ds.2022A.pkl\"),\n",
    "#     source_or_target_dataset=\"source\",\n",
    "#     x_transform_func=global_x_transform_func,\n",
    "#     domain_modifier=lambda u: f\"oracle2_{u}\"\n",
    "# )"
   ]
  },
  {
   "cell_type": "code",
   "execution_count": 17,
   "id": "6f289866",
   "metadata": {
    "execution": {
     "iopub.execute_input": "2022-03-28T02:19:49.984755Z",
     "iopub.status.busy": "2022-03-28T02:19:49.984264Z",
     "iopub.status.idle": "2022-03-28T02:19:50.001345Z",
     "shell.execute_reply": "2022-03-28T02:19:50.000527Z"
    },
    "papermill": {
     "duration": 0.040721,
     "end_time": "2022-03-28T02:19:50.001504",
     "exception": false,
     "start_time": "2022-03-28T02:19:49.960783",
     "status": "completed"
    },
    "tags": []
   },
   "outputs": [],
   "source": [
    "# add_dataset(\n",
    "#     labels=list(range(19)),\n",
    "#     domains = [0,1,2],\n",
    "#     num_examples_per_domain_per_label=100,\n",
    "#     pickle_path=os.path.join(get_datasets_base_path(), \"metehan.stratified_ds.2022A.pkl\"),\n",
    "#     source_or_target_dataset=\"target\",\n",
    "#     x_transform_func=global_x_transform_func,\n",
    "#     domain_modifier=lambda u: f\"met_{u}\"\n",
    "# )"
   ]
  },
  {
   "cell_type": "code",
   "execution_count": 18,
   "id": "86a863c3",
   "metadata": {
    "execution": {
     "iopub.execute_input": "2022-03-28T02:19:50.054330Z",
     "iopub.status.busy": "2022-03-28T02:19:50.052450Z",
     "iopub.status.idle": "2022-03-28T02:19:50.074423Z",
     "shell.execute_reply": "2022-03-28T02:19:50.073603Z"
    },
    "papermill": {
     "duration": 0.04605,
     "end_time": "2022-03-28T02:19:50.074582",
     "exception": false,
     "start_time": "2022-03-28T02:19:50.028532",
     "status": "completed"
    },
    "tags": []
   },
   "outputs": [],
   "source": [
    "# # from steves_utils.wisig.utils import (\n",
    "# #     ALL_NODES_MINIMUM_100_EXAMPLES,\n",
    "# #     ALL_NODES_MINIMUM_500_EXAMPLES,\n",
    "# #     ALL_NODES_MINIMUM_1000_EXAMPLES,\n",
    "# #     ALL_DAYS\n",
    "# # )\n",
    "\n",
    "# import steves_utils.wisig.utils as wisig\n",
    "\n",
    "\n",
    "# add_dataset(\n",
    "#     labels=wisig.ALL_NODES_MINIMUM_100_EXAMPLES,\n",
    "#     domains = wisig.ALL_DAYS,\n",
    "#     num_examples_per_domain_per_label=100,\n",
    "#     pickle_path=os.path.join(get_datasets_base_path(), \"wisig.node3-19.stratified_ds.2022A.pkl\"),\n",
    "#     source_or_target_dataset=\"target\",\n",
    "#     x_transform_func=global_x_transform_func,\n",
    "#     domain_modifier=lambda u: f\"wisig_{u}\"\n",
    "# )"
   ]
  },
  {
   "cell_type": "code",
   "execution_count": 19,
   "id": "fd5442bc",
   "metadata": {
    "execution": {
     "iopub.execute_input": "2022-03-28T02:19:50.127298Z",
     "iopub.status.busy": "2022-03-28T02:19:50.126711Z",
     "iopub.status.idle": "2022-03-28T02:19:50.145010Z",
     "shell.execute_reply": "2022-03-28T02:19:50.144196Z"
    },
    "papermill": {
     "duration": 0.044223,
     "end_time": "2022-03-28T02:19:50.145165",
     "exception": false,
     "start_time": "2022-03-28T02:19:50.100942",
     "status": "completed"
    },
    "tags": []
   },
   "outputs": [],
   "source": [
    "###################################\n",
    "# Build the dataset\n",
    "###################################\n",
    "train_original_source = Iterable_Aggregator(train_original_source, p.seed)\n",
    "val_original_source = Iterable_Aggregator(val_original_source, p.seed)\n",
    "test_original_source = Iterable_Aggregator(test_original_source, p.seed)\n",
    "\n",
    "\n",
    "train_original_target = Iterable_Aggregator(train_original_target, p.seed)\n",
    "val_original_target = Iterable_Aggregator(val_original_target, p.seed)\n",
    "test_original_target = Iterable_Aggregator(test_original_target, p.seed)\n",
    "\n",
    "# For CNN We only use X and Y. And we only train on the source.\n",
    "# Properly form the data using a transform lambda and Lazy_Iterable_Wrapper. Finally wrap them in a dataloader\n",
    "\n",
    "transform_lambda = lambda ex: ex[1] # Original is (<domain>, <episode>) so we strip down to episode only\n",
    "\n",
    "train_processed_source = Lazy_Iterable_Wrapper(train_original_source, transform_lambda)\n",
    "val_processed_source   = Lazy_Iterable_Wrapper(val_original_source, transform_lambda)\n",
    "test_processed_source  = Lazy_Iterable_Wrapper(test_original_source, transform_lambda)\n",
    "\n",
    "train_processed_target = Lazy_Iterable_Wrapper(train_original_target, transform_lambda)\n",
    "val_processed_target   = Lazy_Iterable_Wrapper(val_original_target, transform_lambda)\n",
    "test_processed_target  = Lazy_Iterable_Wrapper(test_original_target, transform_lambda)\n",
    "\n",
    "datasets = EasyDict({\n",
    "    \"source\": {\n",
    "        \"original\": {\"train\":train_original_source, \"val\":val_original_source, \"test\":test_original_source},\n",
    "        \"processed\": {\"train\":train_processed_source, \"val\":val_processed_source, \"test\":test_processed_source}\n",
    "    },\n",
    "    \"target\": {\n",
    "        \"original\": {\"train\":train_original_target, \"val\":val_original_target, \"test\":test_original_target},\n",
    "        \"processed\": {\"train\":train_processed_target, \"val\":val_processed_target, \"test\":test_processed_target}\n",
    "    },\n",
    "})"
   ]
  },
  {
   "cell_type": "code",
   "execution_count": 20,
   "id": "5b3c01fc",
   "metadata": {
    "execution": {
     "iopub.execute_input": "2022-03-28T02:19:50.197389Z",
     "iopub.status.busy": "2022-03-28T02:19:50.197010Z",
     "iopub.status.idle": "2022-03-28T02:20:05.943262Z",
     "shell.execute_reply": "2022-03-28T02:20:05.942409Z"
    },
    "papermill": {
     "duration": 15.770877,
     "end_time": "2022-03-28T02:20:05.943439",
     "exception": false,
     "start_time": "2022-03-28T02:19:50.172562",
     "status": "completed"
    },
    "tags": []
   },
   "outputs": [
    {
     "name": "stdout",
     "output_type": "stream",
     "text": [
      "{'O_8', 'O_14', 'O_38', 'O_44', 'O_26', 'O_32', 'O_50', 'O_20'}\n"
     ]
    },
    {
     "name": "stdout",
     "output_type": "stream",
     "text": [
      "{'C_3', 'C_1', 'C_5', 'C_4', 'C_2'}\n"
     ]
    },
    {
     "name": "stdout",
     "output_type": "stream",
     "text": [
      "tensor([[[0., 0., 0.,  ..., 0., 0., 0.],\n",
      "         [0., 0., 0.,  ..., 0., 0., 0.]],\n",
      "\n",
      "        [[0., 0., 0.,  ..., 0., 0., 0.],\n",
      "         [0., 0., 0.,  ..., 0., 0., 0.]],\n",
      "\n",
      "        [[0., 0., 0.,  ..., 0., 0., 0.],\n",
      "         [0., 0., 0.,  ..., 0., 0., 0.]],\n",
      "\n",
      "        ...,\n",
      "\n",
      "        [[0., 0., 0.,  ..., 0., 0., 0.],\n",
      "         [0., 0., 0.,  ..., 0., 0., 0.]],\n",
      "\n",
      "        [[0., 0., 0.,  ..., 0., 0., 0.],\n",
      "         [0., 0., 0.,  ..., 0., 0., 0.]],\n",
      "\n",
      "        [[0., 0., 0.,  ..., 0., 0., 0.],\n",
      "         [0., 0., 0.,  ..., 0., 0., 0.]]])\n"
     ]
    }
   ],
   "source": [
    "from steves_utils.transforms import get_average_magnitude, get_average_power\n",
    "\n",
    "print(set([u for u,_ in val_original_source]))\n",
    "print(set([u for u,_ in val_original_target]))\n",
    "\n",
    "s_x, s_y, q_x, q_y, _ = next(iter(train_processed_source))\n",
    "print(s_x)\n",
    "\n",
    "# for ds in [\n",
    "#     train_processed_source,\n",
    "#     val_processed_source,\n",
    "#     test_processed_source,\n",
    "#     train_processed_target,\n",
    "#     val_processed_target,\n",
    "#     test_processed_target\n",
    "# ]:\n",
    "#     for s_x, s_y, q_x, q_y, _ in ds:\n",
    "#         for X in (s_x, q_x):\n",
    "#             for x in X:\n",
    "#                 assert np.isclose(get_average_magnitude(x.numpy()), 1.0)\n",
    "#                 assert np.isclose(get_average_power(x.numpy()), 1.0)\n",
    "                "
   ]
  },
  {
   "cell_type": "code",
   "execution_count": 21,
   "id": "bbdacba1",
   "metadata": {
    "execution": {
     "iopub.execute_input": "2022-03-28T02:20:05.996404Z",
     "iopub.status.busy": "2022-03-28T02:20:05.996033Z",
     "iopub.status.idle": "2022-03-28T02:20:06.124478Z",
     "shell.execute_reply": "2022-03-28T02:20:06.125144Z"
    },
    "papermill": {
     "duration": 0.156129,
     "end_time": "2022-03-28T02:20:06.125351",
     "exception": false,
     "start_time": "2022-03-28T02:20:05.969222",
     "status": "completed"
    },
    "tags": []
   },
   "outputs": [
    {
     "name": "stdout",
     "output_type": "stream",
     "text": [
      "(2, 256)\n"
     ]
    }
   ],
   "source": [
    "###################################\n",
    "# Build the model\n",
    "###################################\n",
    "# easfsl only wants a tuple for the shape\n",
    "model = Steves_Prototypical_Network(x_net, device=p.device, x_shape=tuple(p.x_shape))\n",
    "optimizer = Adam(params=model.parameters(), lr=p.lr)"
   ]
  },
  {
   "cell_type": "code",
   "execution_count": 22,
   "id": "22b39ac5",
   "metadata": {
    "execution": {
     "iopub.execute_input": "2022-03-28T02:20:06.181138Z",
     "iopub.status.busy": "2022-03-28T02:20:06.180499Z",
     "iopub.status.idle": "2022-03-28T03:56:38.871849Z",
     "shell.execute_reply": "2022-03-28T03:56:38.871491Z"
    },
    "papermill": {
     "duration": 5792.718408,
     "end_time": "2022-03-28T03:56:38.871941",
     "exception": false,
     "start_time": "2022-03-28T02:20:06.153533",
     "status": "completed"
    },
    "tags": []
   },
   "outputs": [
    {
     "name": "stdout",
     "output_type": "stream",
     "text": [
      "epoch: 1, [batch: 1 / 6720], examples_per_second: 33.6481, train_label_loss: 2.7481, \n"
     ]
    },
    {
     "name": "stdout",
     "output_type": "stream",
     "text": [
      "epoch: 1, [batch: 672 / 6720], examples_per_second: 1724.3751, train_label_loss: 0.7606, \n"
     ]
    },
    {
     "name": "stdout",
     "output_type": "stream",
     "text": [
      "epoch: 1, [batch: 1344 / 6720], examples_per_second: 1753.5061, train_label_loss: 0.3480, \n"
     ]
    },
    {
     "name": "stdout",
     "output_type": "stream",
     "text": [
      "epoch: 1, [batch: 2016 / 6720], examples_per_second: 1988.2454, train_label_loss: 0.2766, \n"
     ]
    },
    {
     "name": "stdout",
     "output_type": "stream",
     "text": [
      "epoch: 1, [batch: 2688 / 6720], examples_per_second: 1977.0810, train_label_loss: 0.5631, \n"
     ]
    },
    {
     "name": "stdout",
     "output_type": "stream",
     "text": [
      "epoch: 1, [batch: 3360 / 6720], examples_per_second: 1757.2091, train_label_loss: 0.5224, \n"
     ]
    },
    {
     "name": "stdout",
     "output_type": "stream",
     "text": [
      "epoch: 1, [batch: 4032 / 6720], examples_per_second: 1729.3094, train_label_loss: 0.6596, \n"
     ]
    },
    {
     "name": "stdout",
     "output_type": "stream",
     "text": [
      "epoch: 1, [batch: 4704 / 6720], examples_per_second: 1955.8437, train_label_loss: 0.5898, \n"
     ]
    },
    {
     "name": "stdout",
     "output_type": "stream",
     "text": [
      "epoch: 1, [batch: 5376 / 6720], examples_per_second: 1677.5361, train_label_loss: 0.4382, \n"
     ]
    },
    {
     "name": "stdout",
     "output_type": "stream",
     "text": [
      "epoch: 1, [batch: 6048 / 6720], examples_per_second: 1676.8797, train_label_loss: 0.2240, \n"
     ]
    },
    {
     "name": "stdout",
     "output_type": "stream",
     "text": [
      "=============================================================\n",
      "epoch: 1, source_val_acc_label: 0.6092, target_val_acc_label: 0.6756, source_val_label_loss: 26.3771, target_val_label_loss: 1300.3126, \n",
      "=============================================================\n"
     ]
    },
    {
     "name": "stdout",
     "output_type": "stream",
     "text": [
      "New best\n"
     ]
    },
    {
     "name": "stdout",
     "output_type": "stream",
     "text": [
      "epoch: 2, [batch: 1 / 6720], examples_per_second: 1.5230, train_label_loss: 58.9136, \n"
     ]
    },
    {
     "name": "stdout",
     "output_type": "stream",
     "text": [
      "epoch: 2, [batch: 672 / 6720], examples_per_second: 1711.1109, train_label_loss: 0.9335, \n"
     ]
    },
    {
     "name": "stdout",
     "output_type": "stream",
     "text": [
      "epoch: 2, [batch: 1344 / 6720], examples_per_second: 1780.4533, train_label_loss: 0.8366, \n"
     ]
    },
    {
     "name": "stdout",
     "output_type": "stream",
     "text": [
      "epoch: 2, [batch: 2016 / 6720], examples_per_second: 2056.5460, train_label_loss: 0.6176, \n"
     ]
    },
    {
     "name": "stdout",
     "output_type": "stream",
     "text": [
      "epoch: 2, [batch: 2688 / 6720], examples_per_second: 1967.1940, train_label_loss: 0.5011, \n"
     ]
    },
    {
     "name": "stdout",
     "output_type": "stream",
     "text": [
      "epoch: 2, [batch: 3360 / 6720], examples_per_second: 1747.7104, train_label_loss: 0.3864, \n"
     ]
    },
    {
     "name": "stdout",
     "output_type": "stream",
     "text": [
      "epoch: 2, [batch: 4032 / 6720], examples_per_second: 1753.6988, train_label_loss: 0.2869, \n"
     ]
    },
    {
     "name": "stdout",
     "output_type": "stream",
     "text": [
      "epoch: 2, [batch: 4704 / 6720], examples_per_second: 1975.7550, train_label_loss: 0.2629, \n"
     ]
    },
    {
     "name": "stdout",
     "output_type": "stream",
     "text": [
      "epoch: 2, [batch: 5376 / 6720], examples_per_second: 1670.8872, train_label_loss: 0.6774, \n"
     ]
    },
    {
     "name": "stdout",
     "output_type": "stream",
     "text": [
      "epoch: 2, [batch: 6048 / 6720], examples_per_second: 1663.9444, train_label_loss: 0.3483, \n"
     ]
    },
    {
     "name": "stdout",
     "output_type": "stream",
     "text": [
      "=============================================================\n",
      "epoch: 2, source_val_acc_label: 0.8117, target_val_acc_label: 0.7196, source_val_label_loss: 1.2577, target_val_label_loss: 1273.8202, \n",
      "=============================================================\n"
     ]
    },
    {
     "name": "stdout",
     "output_type": "stream",
     "text": [
      "New best\n"
     ]
    },
    {
     "name": "stdout",
     "output_type": "stream",
     "text": [
      "epoch: 3, [batch: 1 / 6720], examples_per_second: 1.5178, train_label_loss: 0.9040, \n"
     ]
    },
    {
     "name": "stdout",
     "output_type": "stream",
     "text": [
      "epoch: 3, [batch: 672 / 6720], examples_per_second: 1664.2972, train_label_loss: 0.2395, \n"
     ]
    },
    {
     "name": "stdout",
     "output_type": "stream",
     "text": [
      "epoch: 3, [batch: 1344 / 6720], examples_per_second: 1786.3126, train_label_loss: 0.3160, \n"
     ]
    },
    {
     "name": "stdout",
     "output_type": "stream",
     "text": [
      "epoch: 3, [batch: 2016 / 6720], examples_per_second: 2101.6403, train_label_loss: 0.4124, \n"
     ]
    },
    {
     "name": "stdout",
     "output_type": "stream",
     "text": [
      "epoch: 3, [batch: 2688 / 6720], examples_per_second: 2752.9364, train_label_loss: 0.1800, \n"
     ]
    },
    {
     "name": "stdout",
     "output_type": "stream",
     "text": [
      "epoch: 3, [batch: 3360 / 6720], examples_per_second: 2878.2946, train_label_loss: 0.4304, \n"
     ]
    },
    {
     "name": "stdout",
     "output_type": "stream",
     "text": [
      "epoch: 3, [batch: 4032 / 6720], examples_per_second: 3350.7716, train_label_loss: 0.3901, \n"
     ]
    },
    {
     "name": "stdout",
     "output_type": "stream",
     "text": [
      "epoch: 3, [batch: 4704 / 6720], examples_per_second: 4019.0462, train_label_loss: 0.3364, \n"
     ]
    },
    {
     "name": "stdout",
     "output_type": "stream",
     "text": [
      "epoch: 3, [batch: 5376 / 6720], examples_per_second: 3861.0581, train_label_loss: 0.3240, \n"
     ]
    },
    {
     "name": "stdout",
     "output_type": "stream",
     "text": [
      "epoch: 3, [batch: 6048 / 6720], examples_per_second: 3804.8757, train_label_loss: 0.1799, \n"
     ]
    },
    {
     "name": "stdout",
     "output_type": "stream",
     "text": [
      "=============================================================\n",
      "epoch: 3, source_val_acc_label: 0.8637, target_val_acc_label: 0.6734, source_val_label_loss: 0.3795, target_val_label_loss: 1830.5601, \n",
      "=============================================================\n"
     ]
    },
    {
     "name": "stdout",
     "output_type": "stream",
     "text": [
      "epoch: 4, [batch: 1 / 6720], examples_per_second: 3.9077, train_label_loss: 0.1944, \n"
     ]
    },
    {
     "name": "stdout",
     "output_type": "stream",
     "text": [
      "epoch: 4, [batch: 672 / 6720], examples_per_second: 2003.9009, train_label_loss: 0.3009, \n"
     ]
    },
    {
     "name": "stdout",
     "output_type": "stream",
     "text": [
      "epoch: 4, [batch: 1344 / 6720], examples_per_second: 1793.7566, train_label_loss: 0.4456, \n"
     ]
    },
    {
     "name": "stdout",
     "output_type": "stream",
     "text": [
      "epoch: 4, [batch: 2016 / 6720], examples_per_second: 1982.0044, train_label_loss: 0.3910, \n"
     ]
    },
    {
     "name": "stdout",
     "output_type": "stream",
     "text": [
      "epoch: 4, [batch: 2688 / 6720], examples_per_second: 1923.6063, train_label_loss: 0.4164, \n"
     ]
    },
    {
     "name": "stdout",
     "output_type": "stream",
     "text": [
      "epoch: 4, [batch: 3360 / 6720], examples_per_second: 1949.4540, train_label_loss: 0.3029, \n"
     ]
    },
    {
     "name": "stdout",
     "output_type": "stream",
     "text": [
      "epoch: 4, [batch: 4032 / 6720], examples_per_second: 1786.5452, train_label_loss: 0.4885, \n"
     ]
    },
    {
     "name": "stdout",
     "output_type": "stream",
     "text": [
      "epoch: 4, [batch: 4704 / 6720], examples_per_second: 1775.7331, train_label_loss: 0.2685, \n"
     ]
    },
    {
     "name": "stdout",
     "output_type": "stream",
     "text": [
      "epoch: 4, [batch: 5376 / 6720], examples_per_second: 1803.1362, train_label_loss: 0.3088, \n"
     ]
    },
    {
     "name": "stdout",
     "output_type": "stream",
     "text": [
      "epoch: 4, [batch: 6048 / 6720], examples_per_second: 1733.2017, train_label_loss: 0.3523, \n"
     ]
    },
    {
     "name": "stdout",
     "output_type": "stream",
     "text": [
      "=============================================================\n",
      "epoch: 4, source_val_acc_label: 0.8742, target_val_acc_label: 0.7195, source_val_label_loss: 0.3591, target_val_label_loss: 2722.0710, \n",
      "=============================================================\n"
     ]
    },
    {
     "name": "stdout",
     "output_type": "stream",
     "text": [
      "epoch: 5, [batch: 1 / 6720], examples_per_second: 1.5015, train_label_loss: 0.3044, \n"
     ]
    },
    {
     "name": "stdout",
     "output_type": "stream",
     "text": [
      "epoch: 5, [batch: 672 / 6720], examples_per_second: 1785.8770, train_label_loss: 0.2647, \n"
     ]
    },
    {
     "name": "stdout",
     "output_type": "stream",
     "text": [
      "epoch: 5, [batch: 1344 / 6720], examples_per_second: 1787.2356, train_label_loss: 0.6528, \n"
     ]
    },
    {
     "name": "stdout",
     "output_type": "stream",
     "text": [
      "epoch: 5, [batch: 2016 / 6720], examples_per_second: 1950.7036, train_label_loss: 0.5258, \n"
     ]
    },
    {
     "name": "stdout",
     "output_type": "stream",
     "text": [
      "epoch: 5, [batch: 2688 / 6720], examples_per_second: 1895.2188, train_label_loss: 0.1192, \n"
     ]
    },
    {
     "name": "stdout",
     "output_type": "stream",
     "text": [
      "epoch: 5, [batch: 3360 / 6720], examples_per_second: 1916.6488, train_label_loss: 0.4498, \n"
     ]
    },
    {
     "name": "stdout",
     "output_type": "stream",
     "text": [
      "epoch: 5, [batch: 4032 / 6720], examples_per_second: 2288.8735, train_label_loss: 0.2167, \n"
     ]
    },
    {
     "name": "stdout",
     "output_type": "stream",
     "text": [
      "epoch: 5, [batch: 4704 / 6720], examples_per_second: 3901.2728, train_label_loss: 0.2160, \n"
     ]
    },
    {
     "name": "stdout",
     "output_type": "stream",
     "text": [
      "epoch: 5, [batch: 5376 / 6720], examples_per_second: 3888.2677, train_label_loss: 0.3740, \n"
     ]
    },
    {
     "name": "stdout",
     "output_type": "stream",
     "text": [
      "epoch: 5, [batch: 6048 / 6720], examples_per_second: 2287.5797, train_label_loss: 0.4276, \n"
     ]
    },
    {
     "name": "stdout",
     "output_type": "stream",
     "text": [
      "=============================================================\n",
      "epoch: 5, source_val_acc_label: 0.8765, target_val_acc_label: 0.7378, source_val_label_loss: 0.3442, target_val_label_loss: 2593.4248, \n",
      "=============================================================\n"
     ]
    },
    {
     "name": "stdout",
     "output_type": "stream",
     "text": [
      "New best\n"
     ]
    },
    {
     "name": "stdout",
     "output_type": "stream",
     "text": [
      "epoch: 6, [batch: 1 / 6720], examples_per_second: 1.5226, train_label_loss: 0.2655, \n"
     ]
    },
    {
     "name": "stdout",
     "output_type": "stream",
     "text": [
      "epoch: 6, [batch: 672 / 6720], examples_per_second: 1779.1992, train_label_loss: 0.3918, \n"
     ]
    },
    {
     "name": "stdout",
     "output_type": "stream",
     "text": [
      "epoch: 6, [batch: 1344 / 6720], examples_per_second: 1805.4377, train_label_loss: 0.3608, \n"
     ]
    },
    {
     "name": "stdout",
     "output_type": "stream",
     "text": [
      "epoch: 6, [batch: 2016 / 6720], examples_per_second: 1967.3500, train_label_loss: 0.3329, \n"
     ]
    },
    {
     "name": "stdout",
     "output_type": "stream",
     "text": [
      "epoch: 6, [batch: 2688 / 6720], examples_per_second: 1913.2529, train_label_loss: 0.2720, \n"
     ]
    },
    {
     "name": "stdout",
     "output_type": "stream",
     "text": [
      "epoch: 6, [batch: 3360 / 6720], examples_per_second: 1866.6914, train_label_loss: 0.3544, \n"
     ]
    },
    {
     "name": "stdout",
     "output_type": "stream",
     "text": [
      "epoch: 6, [batch: 4032 / 6720], examples_per_second: 2468.7484, train_label_loss: 0.1738, \n"
     ]
    },
    {
     "name": "stdout",
     "output_type": "stream",
     "text": [
      "epoch: 6, [batch: 4704 / 6720], examples_per_second: 4035.0023, train_label_loss: 0.5314, \n"
     ]
    },
    {
     "name": "stdout",
     "output_type": "stream",
     "text": [
      "epoch: 6, [batch: 5376 / 6720], examples_per_second: 3961.4684, train_label_loss: 0.3404, \n"
     ]
    },
    {
     "name": "stdout",
     "output_type": "stream",
     "text": [
      "epoch: 6, [batch: 6048 / 6720], examples_per_second: 2266.4633, train_label_loss: 0.1307, \n"
     ]
    },
    {
     "name": "stdout",
     "output_type": "stream",
     "text": [
      "=============================================================\n",
      "epoch: 6, source_val_acc_label: 0.8897, target_val_acc_label: 0.7418, source_val_label_loss: 0.3207, target_val_label_loss: 2854.7297, \n",
      "=============================================================\n"
     ]
    },
    {
     "name": "stdout",
     "output_type": "stream",
     "text": [
      "New best\n"
     ]
    },
    {
     "name": "stdout",
     "output_type": "stream",
     "text": [
      "epoch: 7, [batch: 1 / 6720], examples_per_second: 1.5149, train_label_loss: 0.1563, \n"
     ]
    },
    {
     "name": "stdout",
     "output_type": "stream",
     "text": [
      "epoch: 7, [batch: 672 / 6720], examples_per_second: 1779.7264, train_label_loss: 0.5279, \n"
     ]
    },
    {
     "name": "stdout",
     "output_type": "stream",
     "text": [
      "epoch: 7, [batch: 1344 / 6720], examples_per_second: 1809.8795, train_label_loss: 0.1595, \n"
     ]
    },
    {
     "name": "stdout",
     "output_type": "stream",
     "text": [
      "epoch: 7, [batch: 2016 / 6720], examples_per_second: 1983.1295, train_label_loss: 0.2440, \n"
     ]
    },
    {
     "name": "stdout",
     "output_type": "stream",
     "text": [
      "epoch: 7, [batch: 2688 / 6720], examples_per_second: 1961.7004, train_label_loss: 0.3877, \n"
     ]
    },
    {
     "name": "stdout",
     "output_type": "stream",
     "text": [
      "epoch: 7, [batch: 3360 / 6720], examples_per_second: 1933.7675, train_label_loss: 0.7033, \n"
     ]
    },
    {
     "name": "stdout",
     "output_type": "stream",
     "text": [
      "epoch: 7, [batch: 4032 / 6720], examples_per_second: 2777.3136, train_label_loss: 0.2338, \n"
     ]
    },
    {
     "name": "stdout",
     "output_type": "stream",
     "text": [
      "epoch: 7, [batch: 4704 / 6720], examples_per_second: 4350.5208, train_label_loss: 0.3448, \n"
     ]
    },
    {
     "name": "stdout",
     "output_type": "stream",
     "text": [
      "epoch: 7, [batch: 5376 / 6720], examples_per_second: 4285.0597, train_label_loss: 0.2774, \n"
     ]
    },
    {
     "name": "stdout",
     "output_type": "stream",
     "text": [
      "epoch: 7, [batch: 6048 / 6720], examples_per_second: 2647.8954, train_label_loss: 0.1205, \n"
     ]
    },
    {
     "name": "stdout",
     "output_type": "stream",
     "text": [
      "=============================================================\n",
      "epoch: 7, source_val_acc_label: 0.8878, target_val_acc_label: 0.7488, source_val_label_loss: 0.3147, target_val_label_loss: 2689.1914, \n",
      "=============================================================\n"
     ]
    },
    {
     "name": "stdout",
     "output_type": "stream",
     "text": [
      "New best\n"
     ]
    },
    {
     "name": "stdout",
     "output_type": "stream",
     "text": [
      "epoch: 8, [batch: 1 / 6720], examples_per_second: 1.7194, train_label_loss: 0.3160, \n"
     ]
    },
    {
     "name": "stdout",
     "output_type": "stream",
     "text": [
      "epoch: 8, [batch: 672 / 6720], examples_per_second: 2287.5395, train_label_loss: 0.5970, \n"
     ]
    },
    {
     "name": "stdout",
     "output_type": "stream",
     "text": [
      "epoch: 8, [batch: 1344 / 6720], examples_per_second: 2384.2704, train_label_loss: 0.2437, \n"
     ]
    },
    {
     "name": "stdout",
     "output_type": "stream",
     "text": [
      "epoch: 8, [batch: 2016 / 6720], examples_per_second: 2284.2657, train_label_loss: 0.4760, \n"
     ]
    },
    {
     "name": "stdout",
     "output_type": "stream",
     "text": [
      "epoch: 8, [batch: 2688 / 6720], examples_per_second: 2313.2451, train_label_loss: 0.3489, \n"
     ]
    },
    {
     "name": "stdout",
     "output_type": "stream",
     "text": [
      "epoch: 8, [batch: 3360 / 6720], examples_per_second: 2280.0008, train_label_loss: 0.3689, \n"
     ]
    },
    {
     "name": "stdout",
     "output_type": "stream",
     "text": [
      "epoch: 8, [batch: 4032 / 6720], examples_per_second: 2381.0805, train_label_loss: 0.3735, \n"
     ]
    },
    {
     "name": "stdout",
     "output_type": "stream",
     "text": [
      "epoch: 8, [batch: 4704 / 6720], examples_per_second: 2334.6790, train_label_loss: 0.1689, \n"
     ]
    },
    {
     "name": "stdout",
     "output_type": "stream",
     "text": [
      "epoch: 8, [batch: 5376 / 6720], examples_per_second: 2273.4231, train_label_loss: 0.5576, \n"
     ]
    },
    {
     "name": "stdout",
     "output_type": "stream",
     "text": [
      "epoch: 8, [batch: 6048 / 6720], examples_per_second: 2365.5866, train_label_loss: 0.2715, \n"
     ]
    },
    {
     "name": "stdout",
     "output_type": "stream",
     "text": [
      "=============================================================\n",
      "epoch: 8, source_val_acc_label: 0.8891, target_val_acc_label: 0.7707, source_val_label_loss: 0.3093, target_val_label_loss: 2598.2871, \n",
      "=============================================================\n"
     ]
    },
    {
     "name": "stdout",
     "output_type": "stream",
     "text": [
      "New best\n"
     ]
    },
    {
     "name": "stdout",
     "output_type": "stream",
     "text": [
      "epoch: 9, [batch: 1 / 6720], examples_per_second: 1.5618, train_label_loss: 0.1751, \n"
     ]
    },
    {
     "name": "stdout",
     "output_type": "stream",
     "text": [
      "epoch: 9, [batch: 672 / 6720], examples_per_second: 2007.4227, train_label_loss: 0.4757, \n"
     ]
    },
    {
     "name": "stdout",
     "output_type": "stream",
     "text": [
      "epoch: 9, [batch: 1344 / 6720], examples_per_second: 3688.5060, train_label_loss: 0.4658, \n"
     ]
    },
    {
     "name": "stdout",
     "output_type": "stream",
     "text": [
      "epoch: 9, [batch: 2016 / 6720], examples_per_second: 3876.4696, train_label_loss: 0.4201, \n"
     ]
    },
    {
     "name": "stdout",
     "output_type": "stream",
     "text": [
      "epoch: 9, [batch: 2688 / 6720], examples_per_second: 2524.2733, train_label_loss: 0.2418, \n"
     ]
    },
    {
     "name": "stdout",
     "output_type": "stream",
     "text": [
      "epoch: 9, [batch: 3360 / 6720], examples_per_second: 1925.6809, train_label_loss: 0.6633, \n"
     ]
    },
    {
     "name": "stdout",
     "output_type": "stream",
     "text": [
      "epoch: 9, [batch: 4032 / 6720], examples_per_second: 1769.2041, train_label_loss: 0.4416, \n"
     ]
    },
    {
     "name": "stdout",
     "output_type": "stream",
     "text": [
      "epoch: 9, [batch: 4704 / 6720], examples_per_second: 1827.3358, train_label_loss: 0.2880, \n"
     ]
    },
    {
     "name": "stdout",
     "output_type": "stream",
     "text": [
      "epoch: 9, [batch: 5376 / 6720], examples_per_second: 1904.1966, train_label_loss: 0.5217, \n"
     ]
    },
    {
     "name": "stdout",
     "output_type": "stream",
     "text": [
      "epoch: 9, [batch: 6048 / 6720], examples_per_second: 1965.2780, train_label_loss: 0.2330, \n"
     ]
    },
    {
     "name": "stdout",
     "output_type": "stream",
     "text": [
      "=============================================================\n",
      "epoch: 9, source_val_acc_label: 0.8945, target_val_acc_label: 0.7794, source_val_label_loss: 0.3024, target_val_label_loss: 2558.6936, \n",
      "=============================================================\n"
     ]
    },
    {
     "name": "stdout",
     "output_type": "stream",
     "text": [
      "New best\n"
     ]
    },
    {
     "name": "stdout",
     "output_type": "stream",
     "text": [
      "epoch: 10, [batch: 1 / 6720], examples_per_second: 1.5227, train_label_loss: 0.1912, \n"
     ]
    },
    {
     "name": "stdout",
     "output_type": "stream",
     "text": [
      "epoch: 10, [batch: 672 / 6720], examples_per_second: 1749.3897, train_label_loss: 0.4782, \n"
     ]
    },
    {
     "name": "stdout",
     "output_type": "stream",
     "text": [
      "epoch: 10, [batch: 1344 / 6720], examples_per_second: 2875.1413, train_label_loss: 0.1308, \n"
     ]
    },
    {
     "name": "stdout",
     "output_type": "stream",
     "text": [
      "epoch: 10, [batch: 2016 / 6720], examples_per_second: 3891.9579, train_label_loss: 0.1602, \n"
     ]
    },
    {
     "name": "stdout",
     "output_type": "stream",
     "text": [
      "epoch: 10, [batch: 2688 / 6720], examples_per_second: 3779.7660, train_label_loss: 0.1803, \n"
     ]
    },
    {
     "name": "stdout",
     "output_type": "stream",
     "text": [
      "epoch: 10, [batch: 3360 / 6720], examples_per_second: 1940.9944, train_label_loss: 0.2258, \n"
     ]
    },
    {
     "name": "stdout",
     "output_type": "stream",
     "text": [
      "epoch: 10, [batch: 4032 / 6720], examples_per_second: 1757.8074, train_label_loss: 0.3098, \n"
     ]
    },
    {
     "name": "stdout",
     "output_type": "stream",
     "text": [
      "epoch: 10, [batch: 4704 / 6720], examples_per_second: 1840.4185, train_label_loss: 0.2386, \n"
     ]
    },
    {
     "name": "stdout",
     "output_type": "stream",
     "text": [
      "epoch: 10, [batch: 5376 / 6720], examples_per_second: 1939.6537, train_label_loss: 0.3294, \n"
     ]
    },
    {
     "name": "stdout",
     "output_type": "stream",
     "text": [
      "epoch: 10, [batch: 6048 / 6720], examples_per_second: 1942.6972, train_label_loss: 0.3428, \n"
     ]
    },
    {
     "name": "stdout",
     "output_type": "stream",
     "text": [
      "=============================================================\n",
      "epoch: 10, source_val_acc_label: 0.8908, target_val_acc_label: 0.7798, source_val_label_loss: 0.3022, target_val_label_loss: 3016.7598, \n",
      "=============================================================\n"
     ]
    },
    {
     "name": "stdout",
     "output_type": "stream",
     "text": [
      "New best\n"
     ]
    },
    {
     "name": "stdout",
     "output_type": "stream",
     "text": [
      "epoch: 11, [batch: 1 / 6720], examples_per_second: 1.5415, train_label_loss: 0.0950, \n"
     ]
    },
    {
     "name": "stdout",
     "output_type": "stream",
     "text": [
      "epoch: 11, [batch: 672 / 6720], examples_per_second: 1783.6935, train_label_loss: 0.4152, \n"
     ]
    },
    {
     "name": "stdout",
     "output_type": "stream",
     "text": [
      "epoch: 11, [batch: 1344 / 6720], examples_per_second: 1761.5099, train_label_loss: 0.2794, \n"
     ]
    },
    {
     "name": "stdout",
     "output_type": "stream",
     "text": [
      "epoch: 11, [batch: 2016 / 6720], examples_per_second: 1820.6688, train_label_loss: 0.2681, \n"
     ]
    },
    {
     "name": "stdout",
     "output_type": "stream",
     "text": [
      "epoch: 11, [batch: 2688 / 6720], examples_per_second: 1741.0545, train_label_loss: 0.4855, \n"
     ]
    },
    {
     "name": "stdout",
     "output_type": "stream",
     "text": [
      "epoch: 11, [batch: 3360 / 6720], examples_per_second: 1830.8214, train_label_loss: 0.3354, \n"
     ]
    },
    {
     "name": "stdout",
     "output_type": "stream",
     "text": [
      "epoch: 11, [batch: 4032 / 6720], examples_per_second: 1759.1078, train_label_loss: 0.2756, \n"
     ]
    },
    {
     "name": "stdout",
     "output_type": "stream",
     "text": [
      "epoch: 11, [batch: 4704 / 6720], examples_per_second: 1846.7986, train_label_loss: 0.1770, \n"
     ]
    },
    {
     "name": "stdout",
     "output_type": "stream",
     "text": [
      "epoch: 11, [batch: 5376 / 6720], examples_per_second: 1903.2531, train_label_loss: 0.5282, \n"
     ]
    },
    {
     "name": "stdout",
     "output_type": "stream",
     "text": [
      "epoch: 11, [batch: 6048 / 6720], examples_per_second: 1969.4714, train_label_loss: 0.2685, \n"
     ]
    },
    {
     "name": "stdout",
     "output_type": "stream",
     "text": [
      "=============================================================\n",
      "epoch: 11, source_val_acc_label: 0.8970, target_val_acc_label: 0.7810, source_val_label_loss: 0.2923, target_val_label_loss: 4021.2871, \n",
      "=============================================================\n"
     ]
    },
    {
     "name": "stdout",
     "output_type": "stream",
     "text": [
      "New best\n"
     ]
    },
    {
     "name": "stdout",
     "output_type": "stream",
     "text": [
      "epoch: 12, [batch: 1 / 6720], examples_per_second: 3.4571, train_label_loss: 0.5441, \n"
     ]
    },
    {
     "name": "stdout",
     "output_type": "stream",
     "text": [
      "epoch: 12, [batch: 672 / 6720], examples_per_second: 2368.8261, train_label_loss: 0.3684, \n"
     ]
    },
    {
     "name": "stdout",
     "output_type": "stream",
     "text": [
      "epoch: 12, [batch: 1344 / 6720], examples_per_second: 1891.0157, train_label_loss: 0.0556, \n"
     ]
    },
    {
     "name": "stdout",
     "output_type": "stream",
     "text": [
      "epoch: 12, [batch: 2016 / 6720], examples_per_second: 1756.5199, train_label_loss: 0.2232, \n"
     ]
    },
    {
     "name": "stdout",
     "output_type": "stream",
     "text": [
      "epoch: 12, [batch: 2688 / 6720], examples_per_second: 1796.9578, train_label_loss: 0.1385, \n"
     ]
    },
    {
     "name": "stdout",
     "output_type": "stream",
     "text": [
      "epoch: 12, [batch: 3360 / 6720], examples_per_second: 1737.7266, train_label_loss: 0.2614, \n"
     ]
    },
    {
     "name": "stdout",
     "output_type": "stream",
     "text": [
      "epoch: 12, [batch: 4032 / 6720], examples_per_second: 1825.9849, train_label_loss: 0.3828, \n"
     ]
    },
    {
     "name": "stdout",
     "output_type": "stream",
     "text": [
      "epoch: 12, [batch: 4704 / 6720], examples_per_second: 1769.2770, train_label_loss: 0.2634, \n"
     ]
    },
    {
     "name": "stdout",
     "output_type": "stream",
     "text": [
      "epoch: 12, [batch: 5376 / 6720], examples_per_second: 1841.8078, train_label_loss: 0.1566, \n"
     ]
    },
    {
     "name": "stdout",
     "output_type": "stream",
     "text": [
      "epoch: 12, [batch: 6048 / 6720], examples_per_second: 2005.7636, train_label_loss: 0.1876, \n"
     ]
    },
    {
     "name": "stdout",
     "output_type": "stream",
     "text": [
      "=============================================================\n",
      "epoch: 12, source_val_acc_label: 0.8960, target_val_acc_label: 0.7840, source_val_label_loss: 0.2925, target_val_label_loss: 3253.9241, \n",
      "=============================================================\n"
     ]
    },
    {
     "name": "stdout",
     "output_type": "stream",
     "text": [
      "New best\n"
     ]
    },
    {
     "name": "stdout",
     "output_type": "stream",
     "text": [
      "epoch: 13, [batch: 1 / 6720], examples_per_second: 1.5798, train_label_loss: 0.3157, \n"
     ]
    },
    {
     "name": "stdout",
     "output_type": "stream",
     "text": [
      "epoch: 13, [batch: 672 / 6720], examples_per_second: 1828.9136, train_label_loss: 0.2322, \n"
     ]
    },
    {
     "name": "stdout",
     "output_type": "stream",
     "text": [
      "epoch: 13, [batch: 1344 / 6720], examples_per_second: 1780.4992, train_label_loss: 0.2403, \n"
     ]
    },
    {
     "name": "stdout",
     "output_type": "stream",
     "text": [
      "epoch: 13, [batch: 2016 / 6720], examples_per_second: 1787.0973, train_label_loss: 0.4170, \n"
     ]
    },
    {
     "name": "stdout",
     "output_type": "stream",
     "text": [
      "epoch: 13, [batch: 2688 / 6720], examples_per_second: 1796.4837, train_label_loss: 0.1143, \n"
     ]
    },
    {
     "name": "stdout",
     "output_type": "stream",
     "text": [
      "epoch: 13, [batch: 3360 / 6720], examples_per_second: 2020.0985, train_label_loss: 0.3320, \n"
     ]
    },
    {
     "name": "stdout",
     "output_type": "stream",
     "text": [
      "epoch: 13, [batch: 4032 / 6720], examples_per_second: 3669.7646, train_label_loss: 0.5355, \n"
     ]
    },
    {
     "name": "stdout",
     "output_type": "stream",
     "text": [
      "epoch: 13, [batch: 4704 / 6720], examples_per_second: 3855.8179, train_label_loss: 0.0951, \n"
     ]
    },
    {
     "name": "stdout",
     "output_type": "stream",
     "text": [
      "epoch: 13, [batch: 5376 / 6720], examples_per_second: 2740.7830, train_label_loss: 0.3863, \n"
     ]
    },
    {
     "name": "stdout",
     "output_type": "stream",
     "text": [
      "epoch: 13, [batch: 6048 / 6720], examples_per_second: 2096.7996, train_label_loss: 0.3055, \n"
     ]
    },
    {
     "name": "stdout",
     "output_type": "stream",
     "text": [
      "=============================================================\n",
      "epoch: 13, source_val_acc_label: 0.8938, target_val_acc_label: 0.7860, source_val_label_loss: 0.2960, target_val_label_loss: 3156.4260, \n",
      "=============================================================\n"
     ]
    },
    {
     "name": "stdout",
     "output_type": "stream",
     "text": [
      "New best\n"
     ]
    },
    {
     "name": "stdout",
     "output_type": "stream",
     "text": [
      "epoch: 14, [batch: 1 / 6720], examples_per_second: 1.5862, train_label_loss: 0.5297, \n"
     ]
    },
    {
     "name": "stdout",
     "output_type": "stream",
     "text": [
      "epoch: 14, [batch: 672 / 6720], examples_per_second: 1815.1505, train_label_loss: 0.2432, \n"
     ]
    },
    {
     "name": "stdout",
     "output_type": "stream",
     "text": [
      "epoch: 14, [batch: 1344 / 6720], examples_per_second: 1772.3398, train_label_loss: 0.2882, \n"
     ]
    },
    {
     "name": "stdout",
     "output_type": "stream",
     "text": [
      "epoch: 14, [batch: 2016 / 6720], examples_per_second: 1793.7866, train_label_loss: 0.2302, \n"
     ]
    },
    {
     "name": "stdout",
     "output_type": "stream",
     "text": [
      "epoch: 14, [batch: 2688 / 6720], examples_per_second: 1786.4647, train_label_loss: 0.2655, \n"
     ]
    },
    {
     "name": "stdout",
     "output_type": "stream",
     "text": [
      "epoch: 14, [batch: 3360 / 6720], examples_per_second: 1750.8393, train_label_loss: 0.2340, \n"
     ]
    },
    {
     "name": "stdout",
     "output_type": "stream",
     "text": [
      "epoch: 14, [batch: 4032 / 6720], examples_per_second: 2591.5786, train_label_loss: 0.3410, \n"
     ]
    },
    {
     "name": "stdout",
     "output_type": "stream",
     "text": [
      "epoch: 14, [batch: 4704 / 6720], examples_per_second: 3842.2389, train_label_loss: 0.4079, \n"
     ]
    },
    {
     "name": "stdout",
     "output_type": "stream",
     "text": [
      "epoch: 14, [batch: 5376 / 6720], examples_per_second: 3898.1624, train_label_loss: 0.3064, \n"
     ]
    },
    {
     "name": "stdout",
     "output_type": "stream",
     "text": [
      "epoch: 14, [batch: 6048 / 6720], examples_per_second: 2483.8587, train_label_loss: 0.2087, \n"
     ]
    },
    {
     "name": "stdout",
     "output_type": "stream",
     "text": [
      "=============================================================\n",
      "epoch: 14, source_val_acc_label: 0.9017, target_val_acc_label: 0.7892, source_val_label_loss: 0.2787, target_val_label_loss: 2976.5757, \n",
      "=============================================================\n"
     ]
    },
    {
     "name": "stdout",
     "output_type": "stream",
     "text": [
      "New best\n"
     ]
    },
    {
     "name": "stdout",
     "output_type": "stream",
     "text": [
      "epoch: 15, [batch: 1 / 6720], examples_per_second: 1.5846, train_label_loss: 0.1457, \n"
     ]
    },
    {
     "name": "stdout",
     "output_type": "stream",
     "text": [
      "epoch: 15, [batch: 672 / 6720], examples_per_second: 1812.4628, train_label_loss: 0.1380, \n"
     ]
    },
    {
     "name": "stdout",
     "output_type": "stream",
     "text": [
      "epoch: 15, [batch: 1344 / 6720], examples_per_second: 1760.1822, train_label_loss: 0.1638, \n"
     ]
    },
    {
     "name": "stdout",
     "output_type": "stream",
     "text": [
      "epoch: 15, [batch: 2016 / 6720], examples_per_second: 1838.3635, train_label_loss: 0.1388, \n"
     ]
    },
    {
     "name": "stdout",
     "output_type": "stream",
     "text": [
      "epoch: 15, [batch: 2688 / 6720], examples_per_second: 1746.8469, train_label_loss: 0.1733, \n"
     ]
    },
    {
     "name": "stdout",
     "output_type": "stream",
     "text": [
      "epoch: 15, [batch: 3360 / 6720], examples_per_second: 1828.9396, train_label_loss: 0.4460, \n"
     ]
    },
    {
     "name": "stdout",
     "output_type": "stream",
     "text": [
      "epoch: 15, [batch: 4032 / 6720], examples_per_second: 2316.0933, train_label_loss: 0.3373, \n"
     ]
    },
    {
     "name": "stdout",
     "output_type": "stream",
     "text": [
      "epoch: 15, [batch: 4704 / 6720], examples_per_second: 4005.6270, train_label_loss: 0.2774, \n"
     ]
    },
    {
     "name": "stdout",
     "output_type": "stream",
     "text": [
      "epoch: 15, [batch: 5376 / 6720], examples_per_second: 4242.7078, train_label_loss: 0.3157, \n"
     ]
    },
    {
     "name": "stdout",
     "output_type": "stream",
     "text": [
      "epoch: 15, [batch: 6048 / 6720], examples_per_second: 2811.9260, train_label_loss: 0.3958, \n"
     ]
    },
    {
     "name": "stdout",
     "output_type": "stream",
     "text": [
      "=============================================================\n",
      "epoch: 15, source_val_acc_label: 0.9008, target_val_acc_label: 0.7865, source_val_label_loss: 0.2811, target_val_label_loss: 3138.1450, \n",
      "=============================================================\n"
     ]
    },
    {
     "name": "stdout",
     "output_type": "stream",
     "text": [
      "epoch: 16, [batch: 1 / 6720], examples_per_second: 1.7172, train_label_loss: 0.3298, \n"
     ]
    },
    {
     "name": "stdout",
     "output_type": "stream",
     "text": [
      "epoch: 16, [batch: 672 / 6720], examples_per_second: 1941.7323, train_label_loss: 0.1121, \n"
     ]
    },
    {
     "name": "stdout",
     "output_type": "stream",
     "text": [
      "epoch: 16, [batch: 1344 / 6720], examples_per_second: 1989.5326, train_label_loss: 0.1350, \n"
     ]
    },
    {
     "name": "stdout",
     "output_type": "stream",
     "text": [
      "epoch: 16, [batch: 2016 / 6720], examples_per_second: 1972.1549, train_label_loss: 0.2430, \n"
     ]
    },
    {
     "name": "stdout",
     "output_type": "stream",
     "text": [
      "epoch: 16, [batch: 2688 / 6720], examples_per_second: 1916.3536, train_label_loss: 0.2214, \n"
     ]
    },
    {
     "name": "stdout",
     "output_type": "stream",
     "text": [
      "epoch: 16, [batch: 3360 / 6720], examples_per_second: 2069.7969, train_label_loss: 0.0210, \n"
     ]
    },
    {
     "name": "stdout",
     "output_type": "stream",
     "text": [
      "epoch: 16, [batch: 4032 / 6720], examples_per_second: 3729.8924, train_label_loss: 0.2116, \n"
     ]
    },
    {
     "name": "stdout",
     "output_type": "stream",
     "text": [
      "epoch: 16, [batch: 4704 / 6720], examples_per_second: 5100.9942, train_label_loss: 0.0831, \n"
     ]
    },
    {
     "name": "stdout",
     "output_type": "stream",
     "text": [
      "epoch: 16, [batch: 5376 / 6720], examples_per_second: 5289.6141, train_label_loss: 0.5324, \n"
     ]
    },
    {
     "name": "stdout",
     "output_type": "stream",
     "text": [
      "epoch: 16, [batch: 6048 / 6720], examples_per_second: 3464.3067, train_label_loss: 0.2417, \n"
     ]
    },
    {
     "name": "stdout",
     "output_type": "stream",
     "text": [
      "=============================================================\n",
      "epoch: 16, source_val_acc_label: 0.9035, target_val_acc_label: 0.7842, source_val_label_loss: 0.2731, target_val_label_loss: 2915.2410, \n",
      "=============================================================\n"
     ]
    },
    {
     "name": "stdout",
     "output_type": "stream",
     "text": [
      "epoch: 17, [batch: 1 / 6720], examples_per_second: 2.1690, train_label_loss: 0.1031, \n"
     ]
    },
    {
     "name": "stdout",
     "output_type": "stream",
     "text": [
      "epoch: 17, [batch: 672 / 6720], examples_per_second: 2229.9075, train_label_loss: 0.3114, \n"
     ]
    },
    {
     "name": "stdout",
     "output_type": "stream",
     "text": [
      "epoch: 17, [batch: 1344 / 6720], examples_per_second: 2433.9401, train_label_loss: 0.2250, \n"
     ]
    },
    {
     "name": "stdout",
     "output_type": "stream",
     "text": [
      "epoch: 17, [batch: 2016 / 6720], examples_per_second: 2255.7125, train_label_loss: 0.1533, \n"
     ]
    },
    {
     "name": "stdout",
     "output_type": "stream",
     "text": [
      "epoch: 17, [batch: 2688 / 6720], examples_per_second: 2355.4534, train_label_loss: 0.3276, \n"
     ]
    },
    {
     "name": "stdout",
     "output_type": "stream",
     "text": [
      "epoch: 17, [batch: 3360 / 6720], examples_per_second: 2245.7503, train_label_loss: 0.1544, \n"
     ]
    },
    {
     "name": "stdout",
     "output_type": "stream",
     "text": [
      "epoch: 17, [batch: 4032 / 6720], examples_per_second: 1816.9853, train_label_loss: 0.4519, \n"
     ]
    },
    {
     "name": "stdout",
     "output_type": "stream",
     "text": [
      "epoch: 17, [batch: 4704 / 6720], examples_per_second: 1739.2233, train_label_loss: 0.3178, \n"
     ]
    },
    {
     "name": "stdout",
     "output_type": "stream",
     "text": [
      "epoch: 17, [batch: 5376 / 6720], examples_per_second: 2583.2433, train_label_loss: 0.3174, \n"
     ]
    },
    {
     "name": "stdout",
     "output_type": "stream",
     "text": [
      "epoch: 17, [batch: 6048 / 6720], examples_per_second: 3877.3191, train_label_loss: 0.2123, \n"
     ]
    },
    {
     "name": "stdout",
     "output_type": "stream",
     "text": [
      "=============================================================\n",
      "epoch: 17, source_val_acc_label: 0.9066, target_val_acc_label: 0.7723, source_val_label_loss: 0.2676, target_val_label_loss: 3467.0732, \n",
      "=============================================================\n"
     ]
    },
    {
     "name": "stdout",
     "output_type": "stream",
     "text": [
      "epoch: 18, [batch: 1 / 6720], examples_per_second: 2.0585, train_label_loss: 0.0767, \n"
     ]
    },
    {
     "name": "stdout",
     "output_type": "stream",
     "text": [
      "epoch: 18, [batch: 672 / 6720], examples_per_second: 1761.0073, train_label_loss: 0.3352, \n"
     ]
    },
    {
     "name": "stdout",
     "output_type": "stream",
     "text": [
      "epoch: 18, [batch: 1344 / 6720], examples_per_second: 1801.9725, train_label_loss: 0.1164, \n"
     ]
    },
    {
     "name": "stdout",
     "output_type": "stream",
     "text": [
      "epoch: 18, [batch: 2016 / 6720], examples_per_second: 1852.6059, train_label_loss: 0.3026, \n"
     ]
    },
    {
     "name": "stdout",
     "output_type": "stream",
     "text": [
      "epoch: 18, [batch: 2688 / 6720], examples_per_second: 1918.6744, train_label_loss: 0.1503, \n"
     ]
    },
    {
     "name": "stdout",
     "output_type": "stream",
     "text": [
      "epoch: 18, [batch: 3360 / 6720], examples_per_second: 1956.3743, train_label_loss: 0.1577, \n"
     ]
    },
    {
     "name": "stdout",
     "output_type": "stream",
     "text": [
      "epoch: 18, [batch: 4032 / 6720], examples_per_second: 1857.4756, train_label_loss: 0.3262, \n"
     ]
    },
    {
     "name": "stdout",
     "output_type": "stream",
     "text": [
      "epoch: 18, [batch: 4704 / 6720], examples_per_second: 1819.4434, train_label_loss: 0.3721, \n"
     ]
    },
    {
     "name": "stdout",
     "output_type": "stream",
     "text": [
      "epoch: 18, [batch: 5376 / 6720], examples_per_second: 1739.0810, train_label_loss: 0.1595, \n"
     ]
    },
    {
     "name": "stdout",
     "output_type": "stream",
     "text": [
      "epoch: 18, [batch: 6048 / 6720], examples_per_second: 1811.2858, train_label_loss: 0.0918, \n"
     ]
    },
    {
     "name": "stdout",
     "output_type": "stream",
     "text": [
      "=============================================================\n",
      "epoch: 18, source_val_acc_label: 0.9046, target_val_acc_label: 0.6672, source_val_label_loss: 0.2755, target_val_label_loss: 11909.7451, \n",
      "=============================================================\n"
     ]
    },
    {
     "name": "stdout",
     "output_type": "stream",
     "text": [
      "Patience (3) exhausted\n"
     ]
    }
   ],
   "source": [
    "###################################\n",
    "# train\n",
    "###################################\n",
    "jig = PTN_Train_Eval_Test_Jig(model, p.BEST_MODEL_PATH, p.device)\n",
    "\n",
    "jig.train(\n",
    "    train_iterable=datasets.source.processed.train,\n",
    "    source_val_iterable=datasets.source.processed.val,\n",
    "    target_val_iterable=datasets.target.processed.val,\n",
    "    num_epochs=p.n_epoch,\n",
    "    num_logs_per_epoch=p.NUM_LOGS_PER_EPOCH,\n",
    "    patience=p.patience,\n",
    "    optimizer=optimizer,\n",
    "    criteria_for_best=p.criteria_for_best,\n",
    ")"
   ]
  },
  {
   "cell_type": "code",
   "execution_count": 23,
   "id": "31e8fabf",
   "metadata": {
    "execution": {
     "iopub.execute_input": "2022-03-28T03:56:39.032720Z",
     "iopub.status.busy": "2022-03-28T03:56:39.032340Z",
     "iopub.status.idle": "2022-03-28T03:56:39.062570Z",
     "shell.execute_reply": "2022-03-28T03:56:39.061841Z"
    },
    "papermill": {
     "duration": 0.111169,
     "end_time": "2022-03-28T03:56:39.062744",
     "exception": false,
     "start_time": "2022-03-28T03:56:38.951575",
     "status": "completed"
    },
    "tags": []
   },
   "outputs": [],
   "source": [
    "total_experiment_time_secs = time.time() - start_time_secs"
   ]
  },
  {
   "cell_type": "code",
   "execution_count": 24,
   "id": "87b9595b",
   "metadata": {
    "execution": {
     "iopub.execute_input": "2022-03-28T03:56:39.269813Z",
     "iopub.status.busy": "2022-03-28T03:56:39.266932Z",
     "iopub.status.idle": "2022-03-28T04:00:51.417361Z",
     "shell.execute_reply": "2022-03-28T04:00:51.416942Z"
    },
    "papermill": {
     "duration": 252.239626,
     "end_time": "2022-03-28T04:00:51.417458",
     "exception": false,
     "start_time": "2022-03-28T03:56:39.177832",
     "status": "completed"
    },
    "tags": []
   },
   "outputs": [],
   "source": [
    "###################################\n",
    "# Evaluate the model\n",
    "###################################\n",
    "source_test_label_accuracy, source_test_label_loss = jig.test(datasets.source.processed.test)\n",
    "target_test_label_accuracy, target_test_label_loss = jig.test(datasets.target.processed.test)\n",
    "\n",
    "source_val_label_accuracy, source_val_label_loss = jig.test(datasets.source.processed.val)\n",
    "target_val_label_accuracy, target_val_label_loss = jig.test(datasets.target.processed.val)\n",
    "\n",
    "history = jig.get_history()\n",
    "\n",
    "total_epochs_trained = len(history[\"epoch_indices\"])\n",
    "\n",
    "val_dl = Iterable_Aggregator((datasets.source.original.val,datasets.target.original.val))\n",
    "\n",
    "confusion = ptn_confusion_by_domain_over_dataloader(model, p.device, val_dl)\n",
    "per_domain_accuracy = per_domain_accuracy_from_confusion(confusion)\n",
    "\n",
    "# Add a key to per_domain_accuracy for if it was a source domain\n",
    "for domain, accuracy in per_domain_accuracy.items():\n",
    "    per_domain_accuracy[domain] = {\n",
    "        \"accuracy\": accuracy,\n",
    "        \"source?\": domain in p.domains_source\n",
    "    }\n",
    "\n",
    "# Do an independent accuracy assesment JUST TO BE SURE!\n",
    "# _source_test_label_accuracy = independent_accuracy_assesment(model, datasets.source.processed.test, p.device)\n",
    "# _target_test_label_accuracy = independent_accuracy_assesment(model, datasets.target.processed.test, p.device)\n",
    "# _source_val_label_accuracy = independent_accuracy_assesment(model, datasets.source.processed.val, p.device)\n",
    "# _target_val_label_accuracy = independent_accuracy_assesment(model, datasets.target.processed.val, p.device)\n",
    "\n",
    "# assert(_source_test_label_accuracy == source_test_label_accuracy)\n",
    "# assert(_target_test_label_accuracy == target_test_label_accuracy)\n",
    "# assert(_source_val_label_accuracy == source_val_label_accuracy)\n",
    "# assert(_target_val_label_accuracy == target_val_label_accuracy)\n",
    "\n",
    "experiment = {\n",
    "    \"experiment_name\": p.experiment_name,\n",
    "    \"parameters\": dict(p),\n",
    "    \"results\": {\n",
    "        \"source_test_label_accuracy\": source_test_label_accuracy,\n",
    "        \"source_test_label_loss\": source_test_label_loss,\n",
    "        \"target_test_label_accuracy\": target_test_label_accuracy,\n",
    "        \"target_test_label_loss\": target_test_label_loss,\n",
    "        \"source_val_label_accuracy\": source_val_label_accuracy,\n",
    "        \"source_val_label_loss\": source_val_label_loss,\n",
    "        \"target_val_label_accuracy\": target_val_label_accuracy,\n",
    "        \"target_val_label_loss\": target_val_label_loss,\n",
    "        \"total_epochs_trained\": total_epochs_trained,\n",
    "        \"total_experiment_time_secs\": total_experiment_time_secs,\n",
    "        \"confusion\": confusion,\n",
    "        \"per_domain_accuracy\": per_domain_accuracy,\n",
    "    },\n",
    "    \"history\": history,\n",
    "    \"dataset_metrics\": get_dataset_metrics(datasets, \"ptn\"),\n",
    "}"
   ]
  },
  {
   "cell_type": "code",
   "execution_count": 25,
   "id": "54a21829",
   "metadata": {
    "execution": {
     "iopub.execute_input": "2022-03-28T04:00:51.587068Z",
     "iopub.status.busy": "2022-03-28T04:00:51.586688Z",
     "iopub.status.idle": "2022-03-28T04:00:51.797159Z",
     "shell.execute_reply": "2022-03-28T04:00:51.797834Z"
    },
    "papermill": {
     "duration": 0.295159,
     "end_time": "2022-03-28T04:00:51.798052",
     "exception": false,
     "start_time": "2022-03-28T04:00:51.502893",
     "status": "completed"
    },
    "tags": []
   },
   "outputs": [
    {
     "data": {
      "image/png": "[encoded data removed]",
      "text/plain": [
       "<Figure size 1080x504 with 1 Axes>"
      ]
     },
     "metadata": {
      "needs_background": "light"
     },
     "output_type": "display_data"
    }
   ],
   "source": [
    "ax = get_loss_curve(experiment)\n",
    "plt.show()"
   ]
  },
  {
   "cell_type": "code",
   "execution_count": 26,
   "id": "fd8a0f60",
   "metadata": {
    "execution": {
     "iopub.execute_input": "2022-03-28T04:00:51.962514Z",
     "iopub.status.busy": "2022-03-28T04:00:51.962153Z",
     "iopub.status.idle": "2022-03-28T04:00:52.284445Z",
     "shell.execute_reply": "2022-03-28T04:00:52.284743Z"
    },
    "papermill": {
     "duration": 0.402982,
     "end_time": "2022-03-28T04:00:52.284833",
     "exception": false,
     "start_time": "2022-03-28T04:00:51.881851",
     "status": "completed"
    },
    "tags": []
   },
   "outputs": [
    {
     "data": {
      "text/plain": [
       "<AxesSubplot:title={'center':'Results'}>"
      ]
     },
     "execution_count": 26,
     "metadata": {},
     "output_type": "execute_result"
    },
    {
     "data": {
      "image/png": "[encoded data removed]",
      "text/plain": [
       "<Figure size 1080x504 with 1 Axes>"
      ]
     },
     "metadata": {
      "needs_background": "light"
     },
     "output_type": "display_data"
    }
   ],
   "source": [
    "get_results_table(experiment)"
   ]
  },
  {
   "cell_type": "code",
   "execution_count": 27,
   "id": "cf8dc689",
   "metadata": {
    "execution": {
     "iopub.execute_input": "2022-03-28T04:00:52.451652Z",
     "iopub.status.busy": "2022-03-28T04:00:52.451272Z",
     "iopub.status.idle": "2022-03-28T04:00:52.686989Z",
     "shell.execute_reply": "2022-03-28T04:00:52.687700Z"
    },
    "papermill": {
     "duration": 0.321555,
     "end_time": "2022-03-28T04:00:52.687888",
     "exception": false,
     "start_time": "2022-03-28T04:00:52.366333",
     "status": "completed"
    },
    "tags": []
   },
   "outputs": [
    {
     "data": {
      "text/plain": [
       "<AxesSubplot:title={'center':'Per Domain Validation Accuracy'}, xlabel='domain'>"
      ]
     },
     "execution_count": 27,
     "metadata": {},
     "output_type": "execute_result"
    },
    {
     "data": {
      "image/png": "[encoded data removed]",
      "text/plain": [
       "<Figure size 1080x504 with 1 Axes>"
      ]
     },
     "metadata": {
      "needs_background": "light"
     },
     "output_type": "display_data"
    }
   ],
   "source": [
    "get_domain_accuracies(experiment)"
   ]
  },
  {
   "cell_type": "code",
   "execution_count": 28,
   "id": "a74ae082",
   "metadata": {
    "execution": {
     "iopub.execute_input": "2022-03-28T04:00:52.861595Z",
     "iopub.status.busy": "2022-03-28T04:00:52.861218Z",
     "iopub.status.idle": "2022-03-28T04:00:52.885479Z",
     "shell.execute_reply": "2022-03-28T04:00:52.886145Z"
    },
    "papermill": {
     "duration": 0.111552,
     "end_time": "2022-03-28T04:00:52.886333",
     "exception": false,
     "start_time": "2022-03-28T04:00:52.774781",
     "status": "completed"
    },
    "tags": []
   },
   "outputs": [
    {
     "name": "stdout",
     "output_type": "stream",
     "text": [
      "Source Test Label Accuracy: 0.903515625 Target Test Label Accuracy: 0.7888959034792368\n",
      "Source Val Label Accuracy: 0.9017252604166667 Target Val Label Accuracy: 0.7891695205479452\n"
     ]
    }
   ],
   "source": [
    "print(\"Source Test Label Accuracy:\", experiment[\"results\"][\"source_test_label_accuracy\"], \"Target Test Label Accuracy:\", experiment[\"results\"][\"target_test_label_accuracy\"])\n",
    "print(\"Source Val Label Accuracy:\", experiment[\"results\"][\"source_val_label_accuracy\"], \"Target Val Label Accuracy:\", experiment[\"results\"][\"target_val_label_accuracy\"])"
   ]
  },
  {
   "cell_type": "code",
   "execution_count": 29,
   "id": "dacca602",
   "metadata": {
    "execution": {
     "iopub.execute_input": "2022-03-28T04:00:53.061768Z",
     "iopub.status.busy": "2022-03-28T04:00:53.061400Z",
     "iopub.status.idle": "2022-03-28T04:00:53.088734Z",
     "shell.execute_reply": "2022-03-28T04:00:53.089403Z"
    },
    "papermill": {
     "duration": 0.115247,
     "end_time": "2022-03-28T04:00:53.089583",
     "exception": false,
     "start_time": "2022-03-28T04:00:52.974336",
     "status": "completed"
    },
    "tags": [
     "experiment_json"
    ]
   },
   "outputs": [
    {
     "data": {
      "text/plain": [
       "'{\"experiment_name\": \"tl_3-jitter1v2:oracle.run1.framed -> cores\", \"parameters\": {\"experiment_name\": \"tl_3-jitter1v2:oracle.run1.framed -> cores\", \"device\": \"cuda\", \"lr\": 0.0001, \"x_shape\": [2, 256], \"n_shot\": 3, \"n_query\": 2, \"train_k_factor\": 3, \"val_k_factor\": 2, \"test_k_factor\": 2, \"torch_default_dtype\": \"torch.float32\", \"n_epoch\": 50, \"patience\": 3, \"criteria_for_best\": \"target_accuracy\", \"x_net\": [{\"class\": \"nnReshape\", \"kargs\": {\"shape\": [-1, 1, 2, 256]}}, {\"class\": \"Conv2d\", \"kargs\": {\"in_channels\": 1, \"out_channels\": 256, \"kernel_size\": [1, 7], \"bias\": false, \"padding\": [0, 3]}}, {\"class\": \"ReLU\", \"kargs\": {\"inplace\": true}}, {\"class\": \"BatchNorm2d\", \"kargs\": {\"num_features\": 256}}, {\"class\": \"Conv2d\", \"kargs\": {\"in_channels\": 256, \"out_channels\": 80, \"kernel_size\": [2, 7], \"bias\": true, \"padding\": [0, 3]}}, {\"class\": \"ReLU\", \"kargs\": {\"inplace\": true}}, {\"class\": \"BatchNorm2d\", \"kargs\": {\"num_features\": 80}}, {\"class\": \"Flatten\", \"kargs\": {}}, {\"class\": \"Linear\", \"kargs\": {\"in_features\": 20480, \"out_features\": 256}}, {\"class\": \"ReLU\", \"kargs\": {\"inplace\": true}}, {\"class\": \"BatchNorm1d\", \"kargs\": {\"num_features\": 256}}, {\"class\": \"Linear\", \"kargs\": {\"in_features\": 256, \"out_features\": 256}}], \"NUM_LOGS_PER_EPOCH\": 10, \"BEST_MODEL_PATH\": \"./best_model.pth\", \"n_way\": 16, \"datasets\": [{\"labels\": [\"1-10.\", \"1-11.\", \"1-15.\", \"1-16.\", \"1-17.\", \"1-18.\", \"1-19.\", \"10-4.\", \"10-7.\", \"11-1.\", \"11-14.\", \"11-17.\", \"11-20.\", \"11-7.\", \"13-20.\", \"13-8.\", \"14-10.\", \"14-11.\", \"14-14.\", \"14-7.\", \"15-1.\", \"15-20.\", \"16-1.\", \"16-16.\", \"17-10.\", \"17-11.\", \"17-2.\", \"19-1.\", \"19-16.\", \"19-19.\", \"19-20.\", \"19-3.\", \"2-10.\", \"2-11.\", \"2-17.\", \"2-18.\", \"2-20.\", \"2-3.\", \"2-4.\", \"2-5.\", \"2-6.\", \"2-7.\", \"2-8.\", \"3-13.\", \"3-18.\", \"3-3.\", \"4-1.\", \"4-10.\", \"4-11.\", \"4-19.\", \"5-5.\", \"6-15.\", \"7-10.\", \"7-14.\", \"8-18.\", \"8-20.\", \"8-3.\", \"8-8.\"], \"domains\": [1, 2, 3, 4, 5], \"num_examples_per_domain_per_label\": -1, \"pickle_path\": \"/root/csc500-main/datasets/cores.stratified_ds.2022A.pkl\", \"source_or_target_dataset\": \"target\", \"x_transforms\": [\"jitter_256_1\", \"lowpass_+/-10MHz\", \"take_200\"], \"episode_transforms\": [], \"domain_prefix\": \"C_\"}, {\"labels\": [\"3123D52\", \"3123D65\", \"3123D79\", \"3123D80\", \"3123D54\", \"3123D70\", \"3123D7B\", \"3123D89\", \"3123D58\", \"3123D76\", \"3123D7D\", \"3123EFE\", \"3123D64\", \"3123D78\", \"3123D7E\", \"3124E4A\"], \"domains\": [32, 38, 8, 44, 14, 50, 20, 26], \"num_examples_per_domain_per_label\": 2000, \"pickle_path\": \"/root/csc500-main/datasets/oracle.Run1_framed_2000Examples_stratified_ds.2022A.pkl\", \"source_or_target_dataset\": \"source\", \"x_transforms\": [\"jitter_256_1\", \"take_200\", \"resample_20Msps_to_25Msps\"], \"episode_transforms\": [], \"domain_prefix\": \"O_\"}], \"seed\": 1337, \"dataset_seed\": 1337, \"domains_source\": [\"O_32\", \"O_38\", \"O_8\", \"O_44\", \"O_14\", \"O_50\", \"O_20\", \"O_26\"], \"domains_target\": [\"C_1\", \"C_2\", \"C_3\", \"C_4\", \"C_5\"]}, \"results\": {\"source_test_label_accuracy\": 0.903515625, \"source_test_label_loss\": 0.2783041000366211, \"target_test_label_accuracy\": 0.7888959034792368, \"target_test_label_loss\": 2960.962890625, \"source_val_label_accuracy\": 0.9017252604166667, \"source_val_label_loss\": 0.27873602509498596, \"target_val_label_accuracy\": 0.7891695205479452, \"target_val_label_loss\": 2976.57568359375, \"total_epochs_trained\": 18, \"total_experiment_time_secs\": 5874.186068534851, \"confusion\": {\"O_14\": {\"15\": {\"15\": 240}, \"3\": {\"3\": 239, \"14\": 1}, \"6\": {\"13\": 47, \"6\": 164, \"2\": 8, \"14\": 21}, \"1\": {\"1\": 240}, \"8\": {\"8\": 240}, \"10\": {\"10\": 240}, \"9\": {\"9\": 240}, \"13\": {\"14\": 57, \"13\": 74, \"2\": 31, \"6\": 74, \"3\": 1, \"15\": 2, \"5\": 1}, \"12\": {\"12\": 240}, \"5\": {\"5\": 229, \"4\": 1, \"2\": 8, \"3\": 1, \"7\": 1}, \"0\": {\"0\": 238, \"3\": 2}, \"2\": {\"5\": 30, \"6\": 16, \"2\": 141, \"4\": 4, \"14\": 29, \"13\": 19, \"3\": 1}, \"11\": {\"11\": 240}, \"14\": {\"14\": 208, \"13\": 25, \"2\": 3, \"6\": 1, \"3\": 3}, \"7\": {\"7\": 240}, \"4\": {\"4\": 233, \"5\": 7}}, \"O_20\": {\"3\": {\"3\": 199, \"8\": 12, \"0\": 1, \"5\": 14, \"9\": 11, \"1\": 3}, \"15\": {\"15\": 221, \"13\": 2, \"1\": 8, \"12\": 9}, \"8\": {\"8\": 237, \"3\": 3}, \"4\": {\"4\": 232, \"12\": 4, \"2\": 4}, \"14\": {\"14\": 238, \"8\": 2}, \"0\": {\"0\": 237, \"3\": 2, \"8\": 1}, \"7\": {\"7\": 228, \"9\": 10, \"2\": 2}, \"6\": {\"6\": 240}, \"10\": {\"10\": 240}, \"5\": {\"5\": 219, \"1\": 14, \"3\": 7}, \"2\": {\"2\": 217, \"12\": 16, \"7\": 6, \"4\": 1}, \"12\": {\"12\": 227, \"2\": 10, \"4\": 2, \"15\": 1}, \"9\": {\"9\": 227, \"3\": 6, \"7\": 6, \"1\": 1}, \"1\": {\"1\": 221, \"5\": 15, \"9\": 4}, \"11\": {\"11\": 240}, \"13\": {\"13\": 238, \"2\": 2}}, \"O_38\": {\"5\": {\"8\": 86, \"5\": 117, \"7\": 19, \"9\": 12, \"15\": 5, \"0\": 1}, \"8\": {\"8\": 155, \"7\": 14, \"5\": 59, \"0\": 4, \"15\": 8}, \"11\": {\"11\": 233, \"3\": 6, \"10\": 1}, \"1\": {\"1\": 240}, \"10\": {\"10\": 220, \"0\": 11, \"13\": 8, \"4\": 1}, \"15\": {\"15\": 231, \"8\": 5, \"1\": 3, \"5\": 1}, \"3\": {\"3\": 240}, \"7\": {\"7\": 230, \"8\": 3, \"4\": 1, \"0\": 3, \"5\": 3}, \"4\": {\"4\": 239, \"10\": 1}, \"14\": {\"14\": 221, \"2\": 18, \"13\": 1}, \"9\": {\"9\": 238, \"5\": 2}, \"12\": {\"12\": 240}, \"6\": {\"6\": 240}, \"2\": {\"2\": 230, \"14\": 10}, \"0\": {\"0\": 160, \"7\": 24, \"13\": 15, \"10\": 27, \"3\": 12, \"5\": 1, \"8\": 1}, \"13\": {\"13\": 231, \"10\": 7, \"0\": 1, \"2\": 1}}, \"O_8\": {\"9\": {\"9\": 240}, \"10\": {\"10\": 227, \"13\": 9, \"5\": 3, \"4\": 1}, \"13\": {\"13\": 219, \"10\": 21}, \"0\": {\"0\": 240}, \"1\": {\"1\": 210, \"11\": 28, \"5\": 2}, \"15\": {\"15\": 230, \"12\": 10}, \"5\": {\"5\": 220, \"1\": 10, \"10\": 9, \"11\": 1}, \"3\": {\"3\": 240}, \"6\": {\"6\": 237, \"7\": 2, \"4\": 1}, \"11\": {\"11\": 166, \"1\": 66, \"5\": 6, \"14\": 2}, \"8\": {\"8\": 236, \"6\": 4}, \"4\": {\"4\": 239, \"14\": 1}, \"12\": {\"12\": 204, \"15\": 36}, \"14\": {\"14\": 234, \"11\": 3, \"4\": 3}, \"2\": {\"2\": 222, \"3\": 14, \"12\": 4}, \"7\": {\"7\": 234, \"6\": 5, \"13\": 1}}, \"O_50\": {\"7\": {\"7\": 232, \"5\": 7, \"4\": 1}, \"3\": {\"3\": 240}, \"8\": {\"8\": 239, \"1\": 1}, \"2\": {\"2\": 231, \"0\": 9}, \"14\": {\"14\": 240}, \"4\": {\"4\": 212, \"7\": 11, \"15\": 3, \"5\": 12, \"6\": 2}, \"6\": {\"6\": 198, \"15\": 6, \"5\": 36}, \"15\": {\"15\": 231, \"6\": 5, \"11\": 3, \"9\": 1}, \"10\": {\"10\": 240}, \"11\": {\"11\": 224, \"9\": 6, \"15\": 2, \"12\": 8}, \"13\": {\"13\": 239, \"1\": 1}, \"9\": {\"11\": 16, \"9\": 207, \"12\": 17}, \"0\": {\"0\": 225, \"10\": 1, \"2\": 14}, \"1\": {\"1\": 237, \"13\": 2, \"10\": 1}, \"12\": {\"12\": 226, \"9\": 10, \"11\": 4}, \"5\": {\"5\": 100, \"15\": 4, \"7\": 51, \"6\": 64, \"13\": 5, \"4\": 16}}, \"O_32\": {\"8\": {\"8\": 203, \"5\": 9, \"14\": 6, \"0\": 21, \"7\": 1}, \"14\": {\"14\": 184, \"7\": 38, \"0\": 5, \"5\": 5, \"2\": 3, \"8\": 4, \"4\": 1}, \"2\": {\"2\": 210, \"4\": 29, \"14\": 1}, \"0\": {\"5\": 8, \"0\": 168, \"7\": 41, \"8\": 20, \"14\": 3}, \"1\": {\"1\": 240}, \"10\": {\"10\": 240}, \"11\": {\"11\": 240}, \"5\": {\"5\": 133, \"14\": 3, \"7\": 47, \"8\": 24, \"0\": 33}, \"15\": {\"15\": 239, \"8\": 1}, \"3\": {\"3\": 238, \"13\": 1, \"4\": 1}, \"12\": {\"12\": 240}, \"7\": {\"5\": 27, \"7\": 174, \"0\": 27, \"14\": 12}, \"13\": {\"13\": 203, \"3\": 19, \"4\": 18}, \"6\": {\"6\": 240}, \"4\": {\"4\": 214, \"2\": 26}, \"9\": {\"9\": 236, \"12\": 4}}, \"O_26\": {\"4\": {\"4\": 240}, \"12\": {\"12\": 240}, \"10\": {\"14\": 33, \"10\": 188, \"15\": 2, \"0\": 16, \"6\": 1}, \"0\": {\"0\": 186, \"14\": 17, \"10\": 31, \"1\": 1, \"8\": 2, \"2\": 1, \"7\": 1, \"15\": 1}, \"13\": {\"2\": 9, \"13\": 210, \"3\": 1, \"9\": 20}, \"9\": {\"2\": 4, \"13\": 7, \"9\": 215, \"8\": 12, \"7\": 2}, \"3\": {\"3\": 227, \"7\": 7, \"2\": 6}, \"2\": {\"2\": 155, \"7\": 41, \"3\": 22, \"9\": 14, \"10\": 1, \"8\": 4, \"15\": 2, \"0\": 1}, \"5\": {\"5\": 222, \"15\": 18}, \"14\": {\"14\": 187, \"10\": 44, \"1\": 2, \"0\": 6, \"15\": 1}, \"8\": {\"8\": 212, \"7\": 20, \"9\": 8}, \"7\": {\"7\": 199, \"2\": 19, \"8\": 20, \"3\": 2}, \"6\": {\"6\": 221, \"10\": 3, \"15\": 16}, \"11\": {\"11\": 240}, \"15\": {\"15\": 191, \"6\": 18, \"0\": 2, \"5\": 24, \"10\": 4, \"1\": 1}, \"1\": {\"1\": 188, \"14\": 48, \"10\": 2, \"15\": 2}}, \"O_44\": {\"12\": {\"12\": 237, \"3\": 3}, \"7\": {\"7\": 220, \"9\": 19, \"10\": 1}, \"5\": {\"5\": 213, \"15\": 14, \"14\": 10, \"4\": 2, \"8\": 1}, \"15\": {\"15\": 224, \"8\": 7, \"5\": 5, \"14\": 3, \"4\": 1}, \"8\": {\"0\": 51, \"8\": 175, \"15\": 10, \"5\": 4}, \"2\": {\"2\": 234, \"1\": 4, \"10\": 2}, \"13\": {\"13\": 200, \"6\": 36, \"9\": 4}, \"4\": {\"4\": 159, \"14\": 80, \"15\": 1}, \"0\": {\"8\": 27, \"0\": 213}, \"6\": {\"9\": 15, \"6\": 188, \"13\": 37}, \"9\": {\"9\": 122, \"7\": 75, \"6\": 27, \"13\": 15, \"2\": 1}, \"11\": {\"11\": 240}, \"10\": {\"10\": 222, \"1\": 10, \"7\": 4, \"2\": 4}, \"14\": {\"4\": 57, \"14\": 168, \"5\": 5, \"15\": 10}, \"1\": {\"1\": 233, \"2\": 7}, \"3\": {\"3\": 239, \"12\": 1}}, \"C_3\": {\"43\": {\"43\": 116, \"55\": 2, \"17\": 3, \"24\": 4, \"54\": 1, \"42\": 1, \"37\": 1}, \"9\": {\"9\": 90, \"20\": 7, \"48\": 7, \"29\": 6, \"57\": 16, \"4\": 15, \"1\": 2, \"27\": 3, \"8\": 1, \"14\": 1, \"47\": 1, \"52\": 1}, \"6\": {\"6\": 85, \"3\": 3}, \"3\": {\"6\": 23, \"3\": 66, \"45\": 11, \"5\": 25, \"50\": 7, \"21\": 3, \"46\": 3, \"12\": 6}, \"16\": {\"16\": 120, \"15\": 10, \"11\": 4}, \"51\": {\"43\": 2, \"51\": 118, \"38\": 3, \"36\": 2, \"55\": 3}, \"31\": {\"31\": 25, \"26\": 2, \"24\": 1}, \"46\": {\"6\": 10, \"46\": 73, \"3\": 14, \"21\": 7, \"12\": 8, \"50\": 11, \"45\": 3, \"5\": 5, \"22\": 3}, \"19\": {\"10\": 2, \"19\": 106, \"23\": 11, \"53\": 3, \"54\": 1, \"24\": 1}, \"8\": {\"8\": 138, \"9\": 1, \"13\": 6, \"27\": 3, \"57\": 1, \"39\": 1, \"33\": 1, \"55\": 1}, \"18\": {\"18\": 84}, \"37\": {\"37\": 28}, \"24\": {\"24\": 97, \"49\": 1, \"17\": 1, \"43\": 3, \"26\": 2}, \"10\": {\"10\": 58, \"11\": 2, \"53\": 3, \"28\": 1}, \"44\": {\"44\": 69, \"6\": 2, \"56\": 2, \"12\": 3, \"22\": 6, \"3\": 1, \"50\": 1, \"1\": 1, \"5\": 2, \"0\": 1}, \"14\": {\"14\": 7, \"38\": 1, \"36\": 2, \"27\": 5, \"9\": 6, \"29\": 3, \"20\": 3, \"13\": 2, \"51\": 1, \"39\": 1, \"41\": 1, \"32\": 3, \"52\": 1, \"8\": 1, \"4\": 2, \"57\": 1}, \"38\": {\"38\": 27, \"51\": 1}, \"53\": {\"53\": 119, \"34\": 1, \"10\": 9, \"11\": 3, \"19\": 4, \"23\": 4}, \"20\": {\"20\": 123, \"52\": 2, \"41\": 1, \"8\": 1, \"47\": 1, \"48\": 2, \"57\": 2}, \"32\": {\"32\": 26, \"8\": 1, \"13\": 1}, \"36\": {\"36\": 99, \"55\": 1}, \"33\": {\"33\": 26, \"7\": 1, \"27\": 1}, \"56\": {\"44\": 5, \"56\": 74, \"22\": 20, \"0\": 19, \"12\": 1, \"21\": 9, \"30\": 2, \"40\": 3, \"50\": 1, \"46\": 1, \"3\": 1}, \"23\": {\"23\": 125, \"53\": 2, \"43\": 1, \"26\": 1, \"54\": 1}, \"54\": {\"54\": 95, \"26\": 2, \"23\": 2, \"43\": 1}, \"21\": {\"21\": 99, \"6\": 1, \"46\": 10, \"3\": 4, \"5\": 4, \"50\": 6, \"12\": 2}, \"28\": {\"28\": 26, \"10\": 1, \"15\": 1}, \"26\": {\"26\": 20, \"54\": 4}, \"48\": {\"48\": 84, \"20\": 4, \"1\": 9, \"40\": 2, \"47\": 5, \"4\": 6, \"30\": 2, \"9\": 2, \"52\": 2}, \"52\": {\"52\": 112, \"48\": 1, \"20\": 2, \"40\": 1, \"47\": 1, \"30\": 1}, \"39\": {\"39\": 11, \"27\": 4, \"8\": 1}, \"22\": {\"22\": 73, \"12\": 5, \"40\": 1, \"0\": 6, \"56\": 9, \"44\": 10, \"30\": 3, \"50\": 6, \"21\": 4, \"46\": 11, \"3\": 4, \"5\": 4, \"47\": 1, \"45\": 3}, \"13\": {\"39\": 1, \"13\": 81, \"27\": 7, \"8\": 17, \"20\": 4, \"9\": 1, \"29\": 3, \"51\": 3, \"57\": 7, \"7\": 2, \"14\": 2}, \"2\": {\"2\": 24, \"35\": 1, \"32\": 2, \"36\": 1, \"17\": 1, \"8\": 1, \"7\": 2}, \"34\": {\"31\": 4, \"34\": 23, \"24\": 2, \"42\": 1, \"55\": 1, \"43\": 1}, \"27\": {\"29\": 10, \"27\": 97, \"14\": 1, \"8\": 8, \"57\": 7, \"41\": 1, \"13\": 2, \"9\": 3, \"47\": 1, \"4\": 2}, \"45\": {\"45\": 19, \"5\": 8, \"3\": 9, \"46\": 2, \"12\": 9, \"6\": 11, \"50\": 2}, \"35\": {\"2\": 1, \"35\": 19, \"24\": 1, \"36\": 4, \"55\": 3}, \"29\": {\"29\": 83, \"8\": 2, \"9\": 11, \"57\": 15, \"27\": 8, \"1\": 1, \"4\": 5, \"20\": 1, \"41\": 1, \"48\": 1}, \"25\": {\"25\": 144}, \"0\": {\"0\": 122, \"56\": 2}, \"41\": {\"41\": 23, \"47\": 5}, \"11\": {\"11\": 106, \"10\": 2, \"15\": 15, \"16\": 17, \"53\": 1, \"19\": 1}, \"5\": {\"5\": 67, \"45\": 6, \"12\": 6, \"3\": 16, \"6\": 9, \"46\": 3, \"50\": 1}, \"1\": {\"1\": 84, \"41\": 1, \"4\": 2, \"40\": 3, \"48\": 3, \"47\": 4, \"30\": 2, \"20\": 1}, \"57\": {\"27\": 7, \"57\": 67, \"9\": 20, \"1\": 1, \"20\": 4, \"29\": 9, \"4\": 5, \"52\": 1, \"8\": 2}, \"17\": {\"54\": 3, \"17\": 95, \"26\": 1, \"55\": 1, \"43\": 4, \"24\": 2, \"42\": 1, \"51\": 1}, \"7\": {\"51\": 1, \"7\": 18, \"20\": 3, \"33\": 2, \"39\": 2, \"13\": 4, \"2\": 2, \"9\": 2, \"17\": 1, \"8\": 1}, \"12\": {\"12\": 74, \"6\": 9, \"3\": 3, \"46\": 1, \"50\": 4, \"5\": 1}, \"47\": {\"47\": 78, \"52\": 2, \"48\": 3, \"20\": 2, \"22\": 1, \"1\": 3, \"40\": 2, \"41\": 1}, \"40\": {\"52\": 10, \"40\": 71, \"20\": 2, \"1\": 10, \"56\": 9, \"22\": 5, \"47\": 5, \"21\": 2, \"0\": 9, \"30\": 7, \"48\": 6}, \"15\": {\"15\": 129, \"11\": 11, \"10\": 1, \"23\": 1}, \"42\": {\"42\": 26, \"35\": 1, \"54\": 1}, \"55\": {\"55\": 113, \"34\": 5, \"7\": 2, \"43\": 2, \"36\": 16, \"8\": 1, \"51\": 6, \"17\": 3, \"37\": 1, \"35\": 1}, \"49\": {\"49\": 8, \"42\": 1, \"7\": 2, \"8\": 1, \"2\": 1, \"55\": 1, \"24\": 5, \"23\": 1}, \"30\": {\"30\": 110, \"0\": 6, \"56\": 2, \"40\": 1, \"52\": 1}, \"50\": {\"46\": 23, \"3\": 19, \"50\": 60, \"6\": 8, \"45\": 3, \"12\": 8, \"5\": 10, \"21\": 3}, \"4\": {\"9\": 22, \"4\": 66, \"20\": 11, \"29\": 4, \"48\": 5, \"47\": 7, \"1\": 8, \"57\": 9, \"27\": 2, \"7\": 1, \"40\": 1}}, \"C_4\": {\"35\": {\"14\": 1, \"38\": 2, \"35\": 20, \"55\": 3, \"41\": 2, \"36\": 3, \"7\": 2, \"54\": 2, \"17\": 2, \"49\": 1, \"51\": 1, \"27\": 1}, \"25\": {\"25\": 131, \"11\": 1, \"18\": 1, \"16\": 1}, \"24\": {\"24\": 47, \"17\": 2, \"32\": 1, \"41\": 4, \"43\": 2}, \"48\": {\"13\": 2, \"48\": 86, \"1\": 8, \"47\": 20, \"4\": 3, \"9\": 9, \"20\": 5, \"21\": 1, \"57\": 4}, \"51\": {\"51\": 121, \"29\": 1, \"38\": 2, \"27\": 8, \"8\": 2, \"36\": 3, \"37\": 3, \"49\": 1, \"7\": 2, \"54\": 1}, \"13\": {\"13\": 84, \"20\": 13, \"47\": 7, \"57\": 4, \"48\": 4, \"8\": 4, \"9\": 1, \"52\": 1, \"4\": 2}, \"14\": {\"14\": 5, \"13\": 2, \"27\": 1, \"39\": 4, \"2\": 2, \"37\": 1, \"48\": 1}, \"32\": {\"51\": 2, \"24\": 3, \"17\": 1, \"32\": 9, \"49\": 2, \"27\": 1, \"39\": 1, \"41\": 2, \"38\": 1, \"54\": 2}, \"30\": {\"30\": 32, \"0\": 5, \"12\": 5, \"46\": 1, \"45\": 1}, \"34\": {\"24\": 1, \"34\": 21, \"42\": 1, \"19\": 1}, \"9\": {\"9\": 62, \"48\": 7, \"29\": 6, \"8\": 6, \"2\": 3, \"47\": 6, \"20\": 10, \"4\": 11, \"57\": 11, \"13\": 11, \"40\": 1, \"1\": 2}, \"1\": {\"1\": 35, \"48\": 2, \"47\": 2, \"9\": 1}, \"0\": {\"0\": 76, \"30\": 3, \"46\": 1}, \"38\": {\"38\": 30, \"51\": 2, \"39\": 2, \"14\": 1, \"32\": 1, \"8\": 1, \"36\": 1, \"27\": 2}, \"22\": {\"22\": 109, \"6\": 3, \"3\": 11, \"5\": 5}, \"40\": {\"30\": 1, \"40\": 62, \"44\": 16, \"21\": 12, \"56\": 17, \"46\": 2, \"52\": 1, \"12\": 4, \"47\": 1, \"20\": 1, \"0\": 2, \"1\": 1}, \"6\": {\"6\": 92, \"5\": 9, \"3\": 9, \"22\": 2}, \"16\": {\"11\": 10, \"16\": 76, \"15\": 6, \"10\": 1, \"53\": 1, \"34\": 2}, \"11\": {\"11\": 77, \"16\": 10, \"15\": 16, \"53\": 1}, \"20\": {\"20\": 105, \"48\": 3, \"57\": 2, \"47\": 5, \"9\": 2, \"13\": 3, \"21\": 2}, \"17\": {\"17\": 54, \"43\": 6, \"55\": 4, \"33\": 2, \"32\": 3, \"54\": 3, \"19\": 2, \"41\": 1, \"24\": 3, \"49\": 1, \"36\": 1}, \"26\": {\"55\": 1, \"19\": 1, \"26\": 16, \"42\": 1, \"23\": 2, \"54\": 1, \"35\": 2}, \"54\": {\"54\": 93, \"33\": 1, \"7\": 1, \"55\": 3, \"43\": 7, \"41\": 3}, \"55\": {\"55\": 112, \"32\": 3, \"35\": 9, \"54\": 4, \"51\": 8, \"36\": 6, \"43\": 8, \"7\": 2, \"33\": 1, \"27\": 1}, \"50\": {\"6\": 23, \"5\": 17, \"3\": 24, \"50\": 57, \"22\": 8, \"44\": 1, \"25\": 1, \"46\": 1}, \"19\": {\"19\": 111, \"26\": 2, \"23\": 11, \"24\": 1, \"53\": 2, \"43\": 2, \"42\": 1, \"41\": 1, \"54\": 1, \"17\": 6, \"15\": 1, \"10\": 1, \"55\": 2}, \"44\": {\"44\": 98, \"12\": 4, \"50\": 2, \"45\": 2, \"0\": 1, \"40\": 4, \"56\": 9, \"30\": 1, \"21\": 1}, \"47\": {\"47\": 115, \"48\": 3, \"52\": 2}, \"33\": {\"37\": 3, \"33\": 22, \"55\": 1, \"38\": 1, \"49\": 2, \"35\": 2, \"17\": 3, \"32\": 1, \"51\": 1}, \"5\": {\"5\": 106, \"6\": 2}, \"18\": {\"18\": 107, \"11\": 1}, \"21\": {\"21\": 115, \"12\": 2, \"0\": 1, \"44\": 2, \"40\": 4}, \"41\": {\"33\": 2, \"24\": 5, \"41\": 23, \"23\": 2, \"17\": 1, \"51\": 1, \"36\": 1, \"27\": 1}, \"23\": {\"23\": 105, \"42\": 1, \"10\": 7, \"53\": 8, \"15\": 1, \"43\": 2, \"19\": 1, \"24\": 2, \"17\": 1}, \"39\": {\"39\": 20}, \"37\": {\"37\": 21, \"39\": 1, \"51\": 1, \"49\": 1}, \"8\": {\"8\": 139, \"57\": 1, \"39\": 1, \"20\": 1, \"4\": 1, \"9\": 1}, \"49\": {\"17\": 4, \"35\": 2, \"55\": 1, \"32\": 1, \"49\": 7, \"24\": 1, \"39\": 1, \"43\": 1, \"33\": 1, \"19\": 1}, \"53\": {\"31\": 1, \"53\": 113, \"10\": 14, \"11\": 3, \"23\": 5, \"15\": 3, \"26\": 1}, \"31\": {\"31\": 27, \"54\": 1}, \"28\": {\"16\": 2, \"28\": 26, \"15\": 1, \"42\": 1, \"11\": 1, \"10\": 1}, \"3\": {\"3\": 91, \"46\": 2, \"5\": 5, \"6\": 14, \"22\": 8, \"50\": 3, \"12\": 1}, \"27\": {\"27\": 129, \"39\": 1, \"2\": 2, \"8\": 4, \"29\": 2}, \"46\": {\"46\": 98, \"3\": 9, \"5\": 4, \"6\": 3, \"22\": 7, \"50\": 7}, \"12\": {\"12\": 76, \"30\": 9, \"56\": 3, \"5\": 1, \"50\": 1, \"0\": 2}, \"7\": {\"41\": 2, \"7\": 12, \"27\": 3, \"43\": 1, \"51\": 1, \"36\": 2, \"33\": 1, \"54\": 1, \"55\": 1}, \"4\": {\"29\": 15, \"4\": 81, \"48\": 4, \"9\": 12, \"47\": 5, \"20\": 1, \"57\": 10, \"52\": 1, \"13\": 3}, \"42\": {\"42\": 24, \"10\": 1, \"19\": 2, \"54\": 1, \"53\": 1, \"43\": 1, \"28\": 1, \"16\": 1}, \"43\": {\"43\": 119, \"54\": 6, \"27\": 1, \"55\": 2, \"51\": 1, \"36\": 1}, \"29\": {\"13\": 3, \"29\": 73, \"9\": 9, \"8\": 1, \"4\": 13, \"57\": 10, \"48\": 8, \"20\": 1, \"2\": 2}, \"57\": {\"57\": 61, \"47\": 3, \"4\": 10, \"29\": 5, \"48\": 6, \"9\": 12, \"13\": 3}, \"52\": {\"52\": 104}, \"45\": {\"45\": 63, \"3\": 6, \"46\": 4, \"0\": 5, \"6\": 4, \"5\": 3, \"30\": 1, \"12\": 3, \"40\": 1, \"50\": 4, \"22\": 2}, \"36\": {\"36\": 82, \"54\": 3, \"55\": 5, \"19\": 1, \"27\": 1}, \"10\": {\"10\": 101, \"53\": 18, \"11\": 1, \"42\": 1, \"23\": 2, \"34\": 1, \"15\": 2}, \"15\": {\"15\": 117, \"11\": 13, \"18\": 2, \"16\": 2}, \"56\": {\"56\": 79, \"0\": 8, \"44\": 15, \"12\": 8, \"21\": 3, \"40\": 5, \"30\": 1, \"45\": 4, \"46\": 1}, \"2\": {\"14\": 1, \"2\": 20, \"9\": 2, \"8\": 2, \"57\": 1, \"27\": 1, \"47\": 3, \"48\": 1, \"39\": 1, \"1\": 3, \"51\": 1}}, \"C_5\": {\"47\": {\"1\": 12, \"47\": 80, \"57\": 4, \"52\": 1, \"30\": 2, \"9\": 1}, \"53\": {\"53\": 141, \"26\": 1, \"19\": 1, \"10\": 5, \"42\": 2}, \"29\": {\"29\": 89, \"48\": 19, \"14\": 1, \"30\": 2, \"20\": 3, \"1\": 3, \"57\": 7, \"13\": 1, \"9\": 1}, \"52\": {\"52\": 127, \"46\": 1, \"9\": 2}, \"55\": {\"33\": 2, \"55\": 94, \"34\": 3, \"38\": 1, \"51\": 7, \"54\": 11, \"43\": 6, \"17\": 13, \"23\": 1, \"24\": 3, \"8\": 2, \"41\": 1}, \"17\": {\"17\": 103, \"41\": 1, \"55\": 7, \"33\": 2, \"35\": 1, \"24\": 1, \"54\": 1}, \"42\": {\"42\": 36, \"11\": 1, \"53\": 1, \"31\": 1, \"15\": 1}, \"33\": {\"55\": 2, \"17\": 2, \"33\": 24, \"34\": 3, \"31\": 1}, \"11\": {\"11\": 120, \"16\": 19, \"15\": 9}, \"19\": {\"19\": 96, \"33\": 1, \"23\": 12, \"10\": 1, \"55\": 1, \"42\": 2, \"24\": 3, \"34\": 1, \"17\": 1}, \"1\": {\"1\": 127, \"47\": 7, \"57\": 5, \"30\": 4, \"52\": 1}, \"44\": {\"44\": 95, \"6\": 3, \"22\": 3, \"5\": 19, \"40\": 1, \"3\": 2, \"45\": 4, \"4\": 1, \"12\": 1, \"50\": 11, \"0\": 2}, \"49\": {\"49\": 36}, \"4\": {\"4\": 72, \"56\": 5, \"44\": 3, \"46\": 2, \"12\": 1, \"5\": 7, \"40\": 8, \"3\": 1, \"30\": 1}, \"6\": {\"6\": 92, \"45\": 17, \"50\": 7}, \"39\": {\"39\": 15, \"2\": 4, \"35\": 1}, \"50\": {\"50\": 93, \"45\": 26, \"6\": 28, \"3\": 1}, \"56\": {\"4\": 6, \"56\": 95, \"0\": 7, \"9\": 6, \"46\": 3, \"40\": 4, \"5\": 3, \"52\": 4, \"30\": 2}, \"25\": {\"25\": 138, \"16\": 3, \"11\": 2, \"15\": 1}, \"28\": {\"28\": 31, \"11\": 1}, \"35\": {\"35\": 26, \"39\": 2, \"27\": 2, \"13\": 1, \"55\": 2, \"32\": 2, \"49\": 1}, \"24\": {\"24\": 74, \"23\": 4, \"17\": 2}, \"21\": {\"21\": 114, \"52\": 10, \"0\": 1, \"9\": 3, \"30\": 2, \"56\": 2}, \"45\": {\"45\": 95, \"6\": 19, \"50\": 10}, \"16\": {\"16\": 107, \"15\": 5, \"11\": 29, \"23\": 2, \"25\": 1}, \"37\": {\"37\": 21, \"14\": 1, \"21\": 1, \"20\": 1}, \"57\": {\"57\": 109, \"1\": 5, \"48\": 2, \"47\": 3, \"9\": 5, \"30\": 2, \"13\": 1, \"20\": 3, \"52\": 2}, \"34\": {\"34\": 30, \"17\": 1, \"54\": 1, \"33\": 2, \"55\": 2}, \"38\": {\"38\": 20, \"8\": 2, \"54\": 2, \"41\": 1, \"23\": 1, \"17\": 4, \"43\": 1, \"51\": 1}, \"48\": {\"47\": 4, \"48\": 90, \"1\": 4, \"57\": 9, \"13\": 5, \"29\": 9, \"20\": 7, \"30\": 2}, \"26\": {\"26\": 10, \"15\": 3, \"23\": 3, \"16\": 3, \"17\": 2, \"11\": 2, \"31\": 1}, \"9\": {\"9\": 94, \"56\": 11, \"52\": 8, \"21\": 5, \"4\": 11, \"40\": 3, \"57\": 4, \"30\": 10, \"47\": 1, \"44\": 1, \"5\": 1, \"46\": 2, \"1\": 1}, \"18\": {\"18\": 64}, \"3\": {\"3\": 75, \"45\": 5, \"50\": 7, \"6\": 13}, \"23\": {\"23\": 113, \"31\": 1, \"53\": 6, \"24\": 2, \"10\": 1, \"17\": 1}, \"15\": {\"15\": 148, \"11\": 4, \"19\": 1, \"53\": 1}, \"10\": {\"10\": 58, \"23\": 2, \"53\": 6, \"42\": 2}, \"46\": {\"46\": 135, \"0\": 11, \"12\": 1, \"56\": 1}, \"22\": {\"22\": 14, \"44\": 1, \"50\": 1, \"3\": 5, \"5\": 3, \"6\": 1, \"56\": 1, \"40\": 1, \"45\": 1}, \"54\": {\"55\": 3, \"54\": 99, \"49\": 1, \"38\": 1, \"31\": 1, \"51\": 4, \"24\": 1, \"23\": 1, \"17\": 1}, \"27\": {\"27\": 139, \"14\": 2, \"36\": 12, \"8\": 6, \"48\": 1}, \"41\": {\"2\": 1, \"41\": 12, \"27\": 1, \"49\": 1, \"17\": 2, \"14\": 1, \"33\": 1, \"34\": 1, \"32\": 1, \"35\": 2, \"55\": 1, \"43\": 1, \"31\": 1, \"24\": 1, \"48\": 1}, \"31\": {\"31\": 31, \"43\": 1, \"38\": 1, \"17\": 1, \"26\": 1, \"34\": 1}, \"0\": {\"0\": 120, \"46\": 4}, \"7\": {\"7\": 29, \"2\": 1, \"51\": 1, \"8\": 1}, \"2\": {\"39\": 3, \"2\": 25}, \"14\": {\"47\": 4, \"14\": 17, \"1\": 3, \"20\": 5, \"27\": 2, \"2\": 1, \"36\": 2, \"32\": 1, \"7\": 3, \"57\": 2, \"43\": 1, \"29\": 1, \"48\": 1, \"13\": 1}, \"40\": {\"46\": 6, \"40\": 52, \"9\": 8, \"0\": 15, \"4\": 13, \"3\": 2, \"5\": 6, \"44\": 6, \"12\": 6, \"56\": 7, \"52\": 1, \"30\": 2}, \"5\": {\"5\": 79, \"44\": 19, \"40\": 4, \"22\": 3, \"50\": 4, \"3\": 5, \"4\": 2, \"45\": 6, \"0\": 2, \"46\": 3, \"56\": 1}, \"12\": {\"12\": 58, \"44\": 6, \"3\": 4, \"40\": 3, \"46\": 11, \"4\": 1, \"0\": 7, \"5\": 3, \"56\": 1, \"6\": 2}, \"43\": {\"43\": 121, \"49\": 3, \"8\": 2, \"23\": 1, \"27\": 2, \"51\": 7, \"41\": 1, \"7\": 1, \"35\": 2, \"24\": 1, \"17\": 1}, \"13\": {\"13\": 108, \"20\": 16, \"57\": 5, \"29\": 7, \"21\": 1, \"8\": 2, \"47\": 1, \"48\": 3, \"14\": 1, \"1\": 3, \"52\": 1}, \"36\": {\"43\": 2, \"36\": 79, \"20\": 1, \"2\": 1, \"7\": 1, \"27\": 5, \"49\": 1, \"8\": 1, \"35\": 1}, \"8\": {\"2\": 2, \"8\": 138, \"14\": 1, \"27\": 6, \"13\": 1, \"36\": 2}, \"32\": {\"32\": 27, \"49\": 1, \"35\": 1, \"2\": 3}, \"30\": {\"30\": 117, \"52\": 1, \"9\": 4, \"4\": 2, \"40\": 1, \"57\": 1, \"56\": 1, \"1\": 1}, \"51\": {\"51\": 111, \"43\": 15, \"7\": 2, \"54\": 2, \"55\": 1, \"36\": 1, \"27\": 1, \"49\": 2, \"38\": 2, \"8\": 1}, \"20\": {\"20\": 115, \"13\": 9, \"47\": 3, \"57\": 2, \"48\": 4, \"29\": 1, \"21\": 2, \"1\": 2}}, \"C_1\": {\"46\": {\"46\": 55, \"56\": 13, \"45\": 18, \"44\": 16, \"5\": 27, \"50\": 3, \"6\": 2, \"20\": 1, \"0\": 3, \"3\": 2}, \"16\": {\"16\": 116, \"11\": 13, \"25\": 2, \"10\": 3}, \"26\": {\"26\": 24}, \"10\": {\"10\": 82, \"19\": 1, \"15\": 12, \"53\": 1}, \"9\": {\"9\": 142, \"42\": 1, \"38\": 2, \"48\": 6, \"55\": 3, \"32\": 1, \"51\": 1}, \"28\": {\"28\": 22, \"26\": 2, \"15\": 2, \"53\": 2}, \"51\": {\"51\": 128, \"55\": 11, \"39\": 1, \"7\": 1, \"32\": 2, \"49\": 3, \"9\": 6, \"36\": 1, \"41\": 2, \"48\": 1}, \"1\": {\"1\": 73, \"8\": 3, \"30\": 4, \"29\": 9, \"48\": 3, \"47\": 5, \"36\": 2, \"43\": 1}, \"55\": {\"55\": 123, \"39\": 2, \"49\": 4, \"38\": 1, \"51\": 9, \"48\": 1, \"43\": 4, \"9\": 3, \"7\": 1}, \"27\": {\"27\": 111, \"4\": 4, \"12\": 2, \"40\": 2, \"52\": 3, \"21\": 1, \"57\": 1}, \"22\": {\"52\": 10, \"22\": 84, \"50\": 4, \"3\": 3, \"12\": 13, \"20\": 4, \"6\": 1, \"40\": 1, \"21\": 3, \"46\": 1}, \"52\": {\"52\": 111, \"12\": 6, \"22\": 8, \"40\": 1}, \"3\": {\"46\": 11, \"3\": 47, \"0\": 8, \"56\": 7, \"6\": 4, \"5\": 15, \"45\": 14, \"44\": 7, \"20\": 18, \"12\": 4, \"22\": 1, \"50\": 4}, \"33\": {\"33\": 32}, \"47\": {\"22\": 1, \"47\": 104, \"57\": 9, \"29\": 2, \"27\": 2, \"4\": 1, \"21\": 1}, \"42\": {\"33\": 3, \"42\": 22, \"34\": 1, \"7\": 1, \"35\": 3, \"17\": 5, \"24\": 2, \"23\": 2, \"43\": 1}, \"12\": {\"12\": 95, \"52\": 5, \"22\": 9, \"20\": 2, \"45\": 1, \"40\": 1, \"27\": 1, \"3\": 1, \"6\": 1}, \"23\": {\"23\": 125, \"19\": 2, \"24\": 2, \"34\": 2, \"54\": 1}, \"49\": {\"49\": 28, \"55\": 1, \"32\": 2, \"39\": 1}, \"7\": {\"7\": 28}, \"4\": {\"4\": 109, \"21\": 2, \"40\": 6, \"27\": 13, \"57\": 1, \"12\": 1}, \"50\": {\"50\": 122, \"6\": 10, \"0\": 1, \"46\": 1}, \"19\": {\"19\": 143, \"28\": 1, \"53\": 2, \"23\": 3, \"15\": 3, \"35\": 2}, \"11\": {\"11\": 127, \"53\": 1, \"16\": 8, \"10\": 2, \"25\": 1, \"15\": 1}, \"31\": {\"31\": 27, \"33\": 1}, \"41\": {\"41\": 19, \"51\": 3, \"32\": 2}, \"56\": {\"50\": 1, \"56\": 82, \"0\": 5, \"6\": 4, \"45\": 13, \"46\": 16, \"3\": 3, \"5\": 3, \"20\": 2, \"44\": 9}, \"0\": {\"6\": 8, \"0\": 129, \"56\": 1, \"50\": 3, \"3\": 2, \"45\": 2, \"20\": 2, \"46\": 1}, \"57\": {\"57\": 97, \"14\": 1, \"47\": 9, \"30\": 3, \"4\": 6, \"13\": 3, \"27\": 7, \"29\": 1, \"40\": 1}, \"53\": {\"53\": 125, \"15\": 12, \"26\": 1, \"10\": 2}, \"43\": {\"43\": 141, \"39\": 1, \"7\": 2}, \"37\": {\"37\": 25, \"36\": 1, \"31\": 1, \"48\": 1, \"38\": 1, \"49\": 1, \"32\": 1, \"51\": 1}, \"2\": {\"2\": 35, \"8\": 1}, \"6\": {\"46\": 5, \"6\": 51, \"45\": 8, \"3\": 2, \"50\": 12, \"56\": 4, \"5\": 8, \"44\": 5, \"0\": 1}, \"13\": {\"13\": 97, \"57\": 5, \"27\": 12, \"21\": 11, \"30\": 11, \"14\": 2, \"22\": 5, \"52\": 1, \"47\": 2, \"4\": 4}, \"18\": {\"18\": 72}, \"36\": {\"36\": 57, \"2\": 1, \"48\": 4, \"8\": 2}, \"29\": {\"29\": 109, \"1\": 5, \"30\": 5, \"47\": 9, \"57\": 4, \"21\": 3, \"13\": 3, \"14\": 2}, \"39\": {\"39\": 24, \"1\": 2, \"49\": 1, \"27\": 1}, \"17\": {\"17\": 57, \"42\": 3, \"23\": 2, \"24\": 2}, \"21\": {\"21\": 122, \"4\": 1, \"27\": 1}, \"25\": {\"25\": 120, \"16\": 9, \"11\": 3}, \"45\": {\"45\": 93, \"44\": 19, \"5\": 26, \"46\": 2, \"56\": 2}, \"38\": {\"30\": 3, \"9\": 4, \"29\": 2, \"38\": 9, \"55\": 2, \"32\": 2, \"49\": 1, \"14\": 1}, \"30\": {\"30\": 120}, \"24\": {\"24\": 100, \"23\": 2, \"54\": 4, \"17\": 1, \"51\": 1}, \"20\": {\"20\": 78, \"45\": 4, \"12\": 6, \"5\": 5, \"0\": 14, \"3\": 12, \"6\": 4, \"22\": 2, \"50\": 7, \"56\": 3, \"46\": 5}, \"8\": {\"8\": 125, \"2\": 5, \"1\": 1, \"48\": 8, \"30\": 1}, \"35\": {\"39\": 1, \"54\": 1, \"17\": 4, \"35\": 22, \"42\": 5, \"53\": 1, \"41\": 2}, \"54\": {\"54\": 89, \"34\": 1, \"24\": 6, \"23\": 6, \"35\": 1, \"17\": 1}, \"5\": {\"5\": 148}, \"48\": {\"8\": 10, \"48\": 133, \"2\": 1}, \"15\": {\"15\": 139, \"10\": 2, \"23\": 1}, \"34\": {\"34\": 10, \"23\": 3, \"19\": 3, \"15\": 1, \"38\": 1, \"33\": 1, \"24\": 1, \"10\": 2, \"42\": 2}, \"14\": {\"14\": 23, \"30\": 1}, \"32\": {\"32\": 25, \"39\": 1, \"9\": 1, \"48\": 2, \"43\": 2, \"37\": 1}, \"40\": {\"21\": 11, \"40\": 69, \"12\": 8, \"22\": 17, \"4\": 11, \"57\": 4, \"27\": 12, \"52\": 6, \"0\": 1, \"46\": 2, \"20\": 3, \"56\": 2, \"13\": 1, \"47\": 1}, \"44\": {\"44\": 121, \"5\": 13, \"45\": 2}}, \"C_2\": {\"36\": {\"36\": 109, \"55\": 7}, \"5\": {\"5\": 67, \"6\": 30, \"45\": 8, \"3\": 13, \"46\": 2}, \"45\": {\"5\": 23, \"45\": 52, \"46\": 8, \"3\": 15, \"6\": 17, \"50\": 10, \"12\": 2, \"44\": 1}, \"49\": {\"49\": 11, \"28\": 4, \"10\": 2, \"43\": 1, \"54\": 1, \"17\": 2, \"24\": 1, \"23\": 1, \"19\": 1}, \"50\": {\"50\": 86, \"12\": 15, \"46\": 12, \"6\": 4, \"45\": 6, \"0\": 1, \"3\": 5, \"5\": 6, \"21\": 1}, \"4\": {\"4\": 77, \"52\": 2, \"14\": 1, \"29\": 6, \"9\": 13, \"1\": 11, \"48\": 6, \"47\": 9, \"57\": 10, \"13\": 1, \"20\": 1, \"40\": 1}, \"43\": {\"43\": 134, \"24\": 4, \"42\": 4, \"54\": 4, \"15\": 1, \"17\": 1}, \"41\": {\"41\": 19, \"48\": 1}, \"37\": {\"37\": 34, \"17\": 1, \"51\": 1}, \"12\": {\"12\": 78, \"5\": 2, \"46\": 5, \"3\": 1, \"50\": 5, \"45\": 1}, \"33\": {\"7\": 2, \"36\": 2, \"41\": 2, \"33\": 11, \"14\": 1, \"39\": 2, \"2\": 2, \"27\": 2, \"29\": 1, \"32\": 1, \"8\": 1, \"17\": 1}, \"7\": {\"7\": 27, \"33\": 1, \"42\": 1, \"31\": 1, \"23\": 1, \"39\": 2, \"43\": 2, \"51\": 1}, \"56\": {\"44\": 4, \"56\": 87, \"0\": 7, \"47\": 3, \"48\": 1, \"30\": 3, \"40\": 11, \"22\": 14, \"21\": 2, \"1\": 5, \"46\": 1, \"50\": 2}, \"14\": {\"41\": 2, \"52\": 2, \"9\": 2, \"47\": 1, \"20\": 5, \"14\": 4, \"57\": 4, \"29\": 1, \"48\": 2, \"4\": 1}, \"52\": {\"52\": 121, \"30\": 3}, \"44\": {\"50\": 4, \"44\": 75, \"46\": 1, \"21\": 1, \"45\": 6, \"3\": 1, \"22\": 6, \"56\": 2}, \"48\": {\"48\": 111, \"1\": 8, \"47\": 17, \"52\": 3, \"4\": 3, \"57\": 2}, \"20\": {\"20\": 118, \"48\": 2, \"47\": 1, \"57\": 3, \"38\": 2, \"8\": 1, \"13\": 1}, \"55\": {\"55\": 105, \"36\": 17, \"39\": 4, \"13\": 3, \"51\": 8, \"43\": 1, \"27\": 5, \"8\": 1}, \"32\": {\"41\": 1, \"17\": 1, \"51\": 1, \"32\": 23, \"27\": 1, \"54\": 1}, \"40\": {\"40\": 71, \"1\": 10, \"56\": 17, \"48\": 2, \"52\": 12, \"21\": 2, \"22\": 6, \"30\": 7, \"47\": 3, \"44\": 2, \"50\": 1, \"0\": 2, \"4\": 1}, \"54\": {\"54\": 97, \"42\": 1, \"24\": 4, \"43\": 5, \"23\": 1}, \"17\": {\"17\": 90, \"55\": 2, \"54\": 1, \"43\": 1, \"36\": 2, \"42\": 2, \"31\": 2, \"24\": 3, \"7\": 1}, \"38\": {\"38\": 18, \"57\": 1, \"13\": 1}, \"24\": {\"24\": 84, \"42\": 4, \"54\": 1, \"43\": 6, \"23\": 1}, \"1\": {\"1\": 91, \"48\": 11, \"40\": 1, \"56\": 1, \"4\": 1, \"47\": 5, \"52\": 1, \"57\": 1}, \"6\": {\"6\": 120, \"5\": 2, \"3\": 2}, \"34\": {\"34\": 23, \"19\": 3, \"28\": 2}, \"11\": {\"11\": 107, \"15\": 23, \"19\": 1, \"16\": 1, \"10\": 3, \"53\": 1}, \"9\": {\"9\": 93, \"4\": 15, \"29\": 13, \"57\": 16, \"48\": 3, \"20\": 7, \"47\": 1, \"8\": 2}, \"8\": {\"41\": 2, \"8\": 136, \"2\": 1, \"9\": 1, \"27\": 4, \"13\": 2, \"20\": 3, \"57\": 1, \"29\": 2}, \"22\": {\"56\": 10, \"22\": 85, \"47\": 3, \"44\": 14, \"21\": 5, \"45\": 2, \"12\": 3, \"0\": 2, \"52\": 1, \"40\": 2, \"50\": 3, \"3\": 1, \"1\": 1, \"6\": 1, \"46\": 2, \"30\": 1}, \"26\": {\"24\": 5, \"26\": 16, \"10\": 1, \"23\": 1, \"53\": 1}, \"23\": {\"23\": 135, \"24\": 1, \"54\": 3, \"10\": 2, \"53\": 3, \"28\": 1, \"19\": 1}, \"10\": {\"10\": 93, \"53\": 14, \"19\": 2, \"11\": 1, \"23\": 1, \"28\": 1}, \"18\": {\"18\": 48}, \"13\": {\"13\": 91, \"29\": 4, \"27\": 3, \"57\": 1, \"8\": 12, \"9\": 2, \"32\": 1, \"38\": 1, \"20\": 1}, \"30\": {\"30\": 117, \"56\": 2, \"48\": 1, \"52\": 8}, \"42\": {\"24\": 2, \"42\": 27, \"54\": 4, \"17\": 1, \"23\": 1, \"43\": 1}, \"31\": {\"31\": 26, \"43\": 1, \"17\": 1}, \"46\": {\"45\": 6, \"46\": 75, \"5\": 9, \"50\": 4, \"6\": 20, \"3\": 10, \"12\": 3, \"44\": 1}, \"57\": {\"57\": 103, \"47\": 1, \"4\": 10, \"13\": 1, \"9\": 15, \"1\": 3, \"20\": 2, \"29\": 4, \"48\": 2, \"14\": 1}, \"47\": {\"47\": 126, \"40\": 1, \"1\": 4, \"52\": 1, \"48\": 4, \"30\": 2}, \"35\": {\"35\": 28, \"7\": 1, \"54\": 1, \"42\": 1, \"31\": 1}, \"15\": {\"15\": 129, \"53\": 1, \"11\": 2}, \"25\": {\"25\": 131, \"16\": 4, \"18\": 1}, \"19\": {\"34\": 2, \"19\": 105, \"10\": 6, \"35\": 1, \"23\": 16, \"53\": 3, \"49\": 2, \"7\": 1}, \"51\": {\"51\": 109, \"36\": 3, \"2\": 1, \"55\": 7, \"8\": 2, \"27\": 2, \"39\": 3, \"20\": 1}, \"53\": {\"53\": 105, \"10\": 13, \"26\": 3, \"23\": 4, \"55\": 1, \"34\": 2, \"28\": 2, \"11\": 1, \"19\": 3}, \"21\": {\"21\": 113, \"45\": 1, \"46\": 1, \"12\": 3, \"3\": 1, \"50\": 1}, \"39\": {\"7\": 2, \"39\": 20, \"55\": 1, \"29\": 1, \"41\": 1, \"30\": 1, \"8\": 2}, \"2\": {\"2\": 30, \"27\": 1, \"13\": 1}, \"16\": {\"16\": 143, \"15\": 4, \"11\": 3}, \"0\": {\"0\": 47, \"56\": 1}, \"3\": {\"3\": 56, \"5\": 14, \"45\": 5, \"46\": 4, \"6\": 11, \"50\": 1, \"12\": 1}, \"27\": {\"27\": 137, \"8\": 3, \"41\": 1, \"29\": 1}, \"28\": {\"28\": 28}, \"29\": {\"29\": 73, \"14\": 1, \"9\": 22, \"57\": 16, \"13\": 4, \"4\": 4, \"55\": 1, \"8\": 1, \"38\": 1, \"27\": 2, \"20\": 2, \"1\": 1}}}, \"per_domain_accuracy\": {\"O_14\": {\"accuracy\": 0.8973958333333333, \"source?\": true}, \"O_20\": {\"accuracy\": 0.9533854166666667, \"source?\": true}, \"O_38\": {\"accuracy\": 0.90234375, \"source?\": true}, \"O_8\": {\"accuracy\": 0.9369791666666667, \"source?\": true}, \"O_50\": {\"accuracy\": 0.9169270833333333, \"source?\": true}, \"O_32\": {\"accuracy\": 0.8859375, \"source?\": true}, \"O_26\": {\"accuracy\": 0.86484375, \"source?\": true}, \"O_44\": {\"accuracy\": 0.8559895833333333, \"source?\": true}, \"C_3\": {\"accuracy\": 0.7678052325581395, \"source?\": false}, \"C_4\": {\"accuracy\": 0.7759469696969697, \"source?\": false}, \"C_5\": {\"accuracy\": 0.799231843575419, \"source?\": false}, \"C_1\": {\"accuracy\": 0.8104508196721312, \"source?\": false}, \"C_2\": {\"accuracy\": 0.7900776836158192, \"source?\": false}}}, \"history\": {\"epoch_indices\": [1, 2, 3, 4, 5, 6, 7, 8, 9, 10, 11, 12, 13, 14, 15, 16, 17, 18], \"train_label_loss\": [0.5948141407620694, 1.500555155281022, 0.4317227756407755, 0.37158762619753055, 0.34602771536336235, 0.33311185948495264, 0.32111570554774344, 0.3157163505933048, 0.30864780185206436, 0.30300306194112636, 0.29657052602047945, 0.2888193252410496, 0.2844127029414743, 0.27796785455873413, 0.2776006085810617, 0.2743154937277376, 0.2888888564507527, 0.26765786655721185], \"source_val_label_loss\": [26.377147674560547, 1.257742166519165, 0.379514217376709, 0.35914134979248047, 0.3441788852214813, 0.3207034766674042, 0.31470784544944763, 0.30931857228279114, 0.30235782265663147, 0.3021576702594757, 0.29234495759010315, 0.2925402820110321, 0.2960221767425537, 0.27873602509498596, 0.28114116191864014, 0.273104727268219, 0.26760849356651306, 0.2754920721054077], \"target_val_label_loss\": [1300.3126220703125, 1273.8201904296875, 1830.56005859375, 2722.071044921875, 2593.4248046875, 2854.729736328125, 2689.19140625, 2598.287109375, 2558.693603515625, 3016.759765625, 4021.287109375, 3253.924072265625, 3156.426025390625, 2976.57568359375, 3138.14501953125, 2915.240966796875, 3467.0732421875, 11909.7451171875], \"source_val_acc_label\": [0.6092122395833334, 0.8116861979166666, 0.863671875, 0.8741536458333333, 0.8764973958333333, 0.8897135416666667, 0.8877604166666667, 0.8890950520833333, 0.89453125, 0.8907877604166666, 0.8970052083333333, 0.8960286458333333, 0.8938151041666667, 0.9017252604166667, 0.90078125, 0.9035481770833333, 0.9065755208333334, 0.9045572916666667], \"target_val_acc_label\": [0.6755850456621004, 0.71957049086758, 0.6734446347031964, 0.7194991438356164, 0.7377639840182648, 0.7417594178082192, 0.748787100456621, 0.7707263127853882, 0.7794306506849316, 0.7798230593607306, 0.7810359589041096, 0.7839968607305936, 0.7860302511415526, 0.7891695205479452, 0.7864583333333334, 0.784210901826484, 0.7722959474885844, 0.667166095890411]}, \"dataset_metrics\": {\"source\": {\"train\": {\"n_unique_x\": 179200, \"n_unique_y\": 16, \"n_batch/episode\": 6720}, \"val\": {\"n_unique_x\": 38400, \"n_unique_y\": 16, \"n_batch/episode\": 960}, \"test\": {\"n_unique_x\": 38400, \"n_unique_y\": 16, \"n_batch/episode\": 960}}, \"target\": {\"train\": {\"n_unique_x\": 175212, \"n_unique_y\": 58, \"n_batch/episode\": 6322}, \"val\": {\"n_unique_x\": 37196, \"n_unique_y\": 58, \"n_batch/episode\": 876}, \"test\": {\"n_unique_x\": 37634, \"n_unique_y\": 58, \"n_batch/episode\": 891}}}}'"
      ]
     },
     "execution_count": 29,
     "metadata": {},
     "output_type": "execute_result"
    }
   ],
   "source": [
    "json.dumps(experiment)"
   ]
  }
 ],
 "metadata": {
  "celltoolbar": "Tags",
  "kernelspec": {
   "display_name": "Python 3 (ipykernel)",
   "language": "python",
   "name": "python3"
  },
  "language_info": {
   "codemirror_mode": {
    "name": "ipython",
    "version": 3
   },
   "file_extension": ".py",
   "mimetype": "text/x-python",
   "name": "python",
   "nbconvert_exporter": "python",
   "pygments_lexer": "ipython3",
   "version": "3.8.12"
  },
  "papermill": {
   "default_parameters": {},
   "duration": 6134.454739,
   "end_time": "2022-03-28T04:00:55.701706",
   "environment_variables": {},
   "exception": null,
   "input_path": "/root/csc500-main/csc500-notebooks/templates/tl_ptn_template.ipynb",
   "output_path": "trial.ipynb",
   "parameters": {
    "parameters": {
     "BEST_MODEL_PATH": "./best_model.pth",
     "NUM_LOGS_PER_EPOCH": 10,
     "criteria_for_best": "target_accuracy",
     "dataset_seed": 1337,
     "datasets": [
      {
       "domain_prefix": "C_",
       "domains": [
        1,
        2,
        3,
        4,
        5
       ],
       "episode_transforms": [],
       "labels": [
        "1-10.",
        "1-11.",
        "1-15.",
        "1-16.",
        "1-17.",
        "1-18.",
        "1-19.",
        "10-4.",
        "10-7.",
        "11-1.",
        "11-14.",
        "11-17.",
        "11-20.",
        "11-7.",
        "13-20.",
        "13-8.",
        "14-10.",
        "14-11.",
        "14-14.",
        "14-7.",
        "15-1.",
        "15-20.",
        "16-1.",
        "16-16.",
        "17-10.",
        "17-11.",
        "17-2.",
        "19-1.",
        "19-16.",
        "19-19.",
        "19-20.",
        "19-3.",
        "2-10.",
        "2-11.",
        "2-17.",
        "2-18.",
        "2-20.",
        "2-3.",
        "2-4.",
        "2-5.",
        "2-6.",
        "2-7.",
        "2-8.",
        "3-13.",
        "3-18.",
        "3-3.",
        "4-1.",
        "4-10.",
        "4-11.",
        "4-19.",
        "5-5.",
        "6-15.",
        "7-10.",
        "7-14.",
        "8-18.",
        "8-20.",
        "8-3.",
        "8-8."
       ],
       "num_examples_per_domain_per_label": -1,
       "pickle_path": "/root/csc500-main/datasets/cores.stratified_ds.2022A.pkl",
       "source_or_target_dataset": "target",
       "x_transforms": [
        "jitter_256_1",
        "lowpass_+/-10MHz",
        "take_200"
       ]
      },
      {
       "domain_prefix": "O_",
       "domains": [
        32,
        38,
        8,
        44,
        14,
        50,
        20,
        26
       ],
       "episode_transforms": [],
       "labels": [
        "3123D52",
        "3123D65",
        "3123D79",
        "3123D80",
        "3123D54",
        "3123D70",
        "3123D7B",
        "3123D89",
        "3123D58",
        "3123D76",
        "3123D7D",
        "3123EFE",
        "3123D64",
        "3123D78",
        "3123D7E",
        "3124E4A"
       ],
       "num_examples_per_domain_per_label": 2000,
       "pickle_path": "/root/csc500-main/datasets/oracle.Run1_framed_2000Examples_stratified_ds.2022A.pkl",
       "source_or_target_dataset": "source",
       "x_transforms": [
        "jitter_256_1",
        "take_200",
        "resample_20Msps_to_25Msps"
       ]
      }
     ],
     "device": "cuda",
     "experiment_name": "tl_3-jitter1v2:oracle.run1.framed -> cores",
     "lr": 0.0001,
     "n_epoch": 50,
     "n_query": 2,
     "n_shot": 3,
     "n_way": 16,
     "patience": 3,
     "seed": 1337,
     "test_k_factor": 2,
     "torch_default_dtype": "torch.float32",
     "train_k_factor": 3,
     "val_k_factor": 2,
     "x_net": [
      {
       "class": "nnReshape",
       "kargs": {
        "shape": [
         -1,
         1,
         2,
         256
        ]
       }
      },
      {
       "class": "Conv2d",
       "kargs": {
        "bias": false,
        "in_channels": 1,
        "kernel_size": [
         1,
         7
        ],
        "out_channels": 256,
        "padding": [
         0,
         3
        ]
       }
      },
      {
       "class": "ReLU",
       "kargs": {
        "inplace": true
       }
      },
      {
       "class": "BatchNorm2d",
       "kargs": {
        "num_features": 256
       }
      },
      {
       "class": "Conv2d",
       "kargs": {
        "bias": true,
        "in_channels": 256,
        "kernel_size": [
         2,
         7
        ],
        "out_channels": 80,
        "padding": [
         0,
         3
        ]
       }
      },
      {
       "class": "ReLU",
       "kargs": {
        "inplace": true
       }
      },
      {
       "class": "BatchNorm2d",
       "kargs": {
        "num_features": 80
       }
      },
      {
       "class": "Flatten",
       "kargs": {}
      },
      {
       "class": "Linear",
       "kargs": {
        "in_features": 20480,
        "out_features": 256
       }
      },
      {
       "class": "ReLU",
       "kargs": {
        "inplace": true
       }
      },
      {
       "class": "BatchNorm1d",
       "kargs": {
        "num_features": 256
       }
      },
      {
       "class": "Linear",
       "kargs": {
        "in_features": 256,
        "out_features": 256
       }
      }
     ],
     "x_shape": [
      2,
      256
     ]
    }
   },
   "start_time": "2022-03-28T02:18:41.246967",
   "version": "2.3.4"
  }
 },
 "nbformat": 4,
 "nbformat_minor": 5
}