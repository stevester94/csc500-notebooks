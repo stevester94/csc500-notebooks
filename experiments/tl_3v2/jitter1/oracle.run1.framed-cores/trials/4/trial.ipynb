{
 "cells": [
  {
   "cell_type": "markdown",
   "id": "9fea5f46",
   "metadata": {
    "papermill": {
     "duration": 0.028955,
     "end_time": "2022-03-28T03:45:23.799508",
     "exception": false,
     "start_time": "2022-03-28T03:45:23.770553",
     "status": "completed"
    },
    "tags": []
   },
   "source": [
    "# Transfer Learning Template"
   ]
  },
  {
   "cell_type": "code",
   "execution_count": 1,
   "id": "0902182a",
   "metadata": {
    "execution": {
     "iopub.execute_input": "2022-03-28T03:45:23.861795Z",
     "iopub.status.busy": "2022-03-28T03:45:23.855329Z",
     "iopub.status.idle": "2022-03-28T03:45:25.705776Z",
     "shell.execute_reply": "2022-03-28T03:45:25.705278Z"
    },
    "papermill": {
     "duration": 1.88254,
     "end_time": "2022-03-28T03:45:25.705873",
     "exception": false,
     "start_time": "2022-03-28T03:45:23.823333",
     "status": "completed"
    },
    "tags": []
   },
   "outputs": [],
   "source": [
    "%load_ext autoreload\n",
    "%autoreload 2\n",
    "%matplotlib inline\n",
    "\n",
    "    \n",
    "import os, json, sys, time, random\n",
    "import numpy as np\n",
    "import torch\n",
    "from torch.optim import Adam\n",
    "from  easydict import EasyDict\n",
    "import matplotlib.pyplot as plt\n",
    "\n",
    "from steves_models.steves_ptn import Steves_Prototypical_Network\n",
    "\n",
    "from steves_utils.lazy_iterable_wrapper import Lazy_Iterable_Wrapper\n",
    "from steves_utils.iterable_aggregator import Iterable_Aggregator\n",
    "from steves_utils.ptn_train_eval_test_jig import  PTN_Train_Eval_Test_Jig\n",
    "from steves_utils.torch_sequential_builder import build_sequential\n",
    "from steves_utils.torch_utils import get_dataset_metrics, ptn_confusion_by_domain_over_dataloader\n",
    "from steves_utils.utils_v2 import (per_domain_accuracy_from_confusion, get_datasets_base_path)\n",
    "from steves_utils.PTN.utils import independent_accuracy_assesment\n",
    "\n",
    "from torch.utils.data import DataLoader\n",
    "\n",
    "from steves_utils.stratified_dataset.episodic_accessor import Episodic_Accessor_Factory\n",
    "\n",
    "from steves_utils.ptn_do_report import (\n",
    "    get_loss_curve,\n",
    "    get_results_table,\n",
    "    get_parameters_table,\n",
    "    get_domain_accuracies,\n",
    ")\n",
    "\n",
    "from steves_utils.transforms import get_chained_transform"
   ]
  },
  {
   "cell_type": "markdown",
   "id": "41c840b4",
   "metadata": {
    "papermill": {
     "duration": 0.019568,
     "end_time": "2022-03-28T03:45:25.745739",
     "exception": false,
     "start_time": "2022-03-28T03:45:25.726171",
     "status": "completed"
    },
    "tags": []
   },
   "source": [
    "# Allowed Parameters\n",
    "These are allowed parameters, not defaults\n",
    "Each of these values need to be present in the injected parameters (the notebook will raise an exception if they are not present)\n",
    "\n",
    "Papermill uses the cell tag \"parameters\" to inject the real parameters below this cell.\n",
    "Enable tags to see what I mean"
   ]
  },
  {
   "cell_type": "code",
   "execution_count": 2,
   "id": "fd44eb83",
   "metadata": {
    "execution": {
     "iopub.execute_input": "2022-03-28T03:45:25.790329Z",
     "iopub.status.busy": "2022-03-28T03:45:25.789937Z",
     "iopub.status.idle": "2022-03-28T03:45:25.814115Z",
     "shell.execute_reply": "2022-03-28T03:45:25.813742Z"
    },
    "papermill": {
     "duration": 0.048951,
     "end_time": "2022-03-28T03:45:25.814190",
     "exception": false,
     "start_time": "2022-03-28T03:45:25.765239",
     "status": "completed"
    },
    "tags": []
   },
   "outputs": [],
   "source": [
    "required_parameters = {\n",
    "    \"experiment_name\",\n",
    "    \"lr\",\n",
    "    \"device\",\n",
    "    \"seed\",\n",
    "    \"dataset_seed\",\n",
    "    \"n_shot\",\n",
    "    \"n_query\",\n",
    "    \"n_way\",\n",
    "    \"train_k_factor\",\n",
    "    \"val_k_factor\",\n",
    "    \"test_k_factor\",\n",
    "    \"n_epoch\",\n",
    "    \"patience\",\n",
    "    \"criteria_for_best\",\n",
    "    \"x_net\",\n",
    "    \"datasets\",\n",
    "    \"torch_default_dtype\",\n",
    "    \"NUM_LOGS_PER_EPOCH\",\n",
    "    \"BEST_MODEL_PATH\",\n",
    "    \"x_shape\",\n",
    "}"
   ]
  },
  {
   "cell_type": "code",
   "execution_count": 3,
   "id": "fa3f0049",
   "metadata": {
    "execution": {
     "iopub.execute_input": "2022-03-28T03:45:25.863687Z",
     "iopub.status.busy": "2022-03-28T03:45:25.863261Z",
     "iopub.status.idle": "2022-03-28T03:45:25.885208Z",
     "shell.execute_reply": "2022-03-28T03:45:25.884835Z"
    },
    "papermill": {
     "duration": 0.051208,
     "end_time": "2022-03-28T03:45:25.885281",
     "exception": false,
     "start_time": "2022-03-28T03:45:25.834073",
     "status": "completed"
    },
    "tags": [
     "parameters"
    ]
   },
   "outputs": [],
   "source": [
    "from steves_utils.CORES.utils import (\n",
    "    ALL_NODES,\n",
    "    ALL_NODES_MINIMUM_1000_EXAMPLES,\n",
    "    ALL_DAYS\n",
    ")\n",
    "\n",
    "from steves_utils.ORACLE.utils_v2 import (\n",
    "    ALL_DISTANCES_FEET_NARROWED,\n",
    "    ALL_RUNS,\n",
    "    ALL_SERIAL_NUMBERS,\n",
    ")\n",
    "\n",
    "standalone_parameters = {}\n",
    "standalone_parameters[\"experiment_name\"] = \"STANDALONE PTN\"\n",
    "standalone_parameters[\"lr\"] = 0.001\n",
    "standalone_parameters[\"device\"] = \"cuda\"\n",
    "\n",
    "standalone_parameters[\"seed\"] = 1337\n",
    "standalone_parameters[\"dataset_seed\"] = 1337\n",
    "\n",
    "standalone_parameters[\"n_way\"] = 8\n",
    "standalone_parameters[\"n_shot\"] = 3\n",
    "standalone_parameters[\"n_query\"]  = 2\n",
    "standalone_parameters[\"train_k_factor\"] = 1\n",
    "standalone_parameters[\"val_k_factor\"] = 2\n",
    "standalone_parameters[\"test_k_factor\"] = 2\n",
    "\n",
    "\n",
    "standalone_parameters[\"n_epoch\"] = 50\n",
    "\n",
    "standalone_parameters[\"patience\"] = 10\n",
    "standalone_parameters[\"criteria_for_best\"] = \"source_loss\"\n",
    "\n",
    "standalone_parameters[\"datasets\"] = [\n",
    "    {\n",
    "        \"labels\": ALL_SERIAL_NUMBERS,\n",
    "        \"domains\": ALL_DISTANCES_FEET_NARROWED,\n",
    "        \"num_examples_per_domain_per_label\": 100,\n",
    "        \"pickle_path\": os.path.join(get_datasets_base_path(), \"oracle.Run1_framed_2000Examples_stratified_ds.2022A.pkl\"),\n",
    "        \"source_or_target_dataset\": \"source\",\n",
    "        \"x_transforms\": [\"unit_mag\", \"minus_two\"],\n",
    "        \"episode_transforms\": [],\n",
    "        \"domain_prefix\": \"ORACLE_\"\n",
    "    },\n",
    "    {\n",
    "        \"labels\": ALL_NODES,\n",
    "        \"domains\": ALL_DAYS,\n",
    "        \"num_examples_per_domain_per_label\": 100,\n",
    "        \"pickle_path\": os.path.join(get_datasets_base_path(), \"cores.stratified_ds.2022A.pkl\"),\n",
    "        \"source_or_target_dataset\": \"target\",\n",
    "        \"x_transforms\": [\"unit_power\", \"times_zero\"],\n",
    "        \"episode_transforms\": [],\n",
    "        \"domain_prefix\": \"CORES_\"\n",
    "    }   \n",
    "]\n",
    "\n",
    "standalone_parameters[\"torch_default_dtype\"] = \"torch.float32\" \n",
    "\n",
    "\n",
    "\n",
    "standalone_parameters[\"x_net\"] =     [\n",
    "    {\"class\": \"nnReshape\", \"kargs\": {\"shape\":[-1, 1, 2, 256]}},\n",
    "    {\"class\": \"Conv2d\", \"kargs\": { \"in_channels\":1, \"out_channels\":256, \"kernel_size\":(1,7), \"bias\":False, \"padding\":(0,3), },},\n",
    "    {\"class\": \"ReLU\", \"kargs\": {\"inplace\": True}},\n",
    "    {\"class\": \"BatchNorm2d\", \"kargs\": {\"num_features\":256}},\n",
    "\n",
    "    {\"class\": \"Conv2d\", \"kargs\": { \"in_channels\":256, \"out_channels\":80, \"kernel_size\":(2,7), \"bias\":True, \"padding\":(0,3), },},\n",
    "    {\"class\": \"ReLU\", \"kargs\": {\"inplace\": True}},\n",
    "    {\"class\": \"BatchNorm2d\", \"kargs\": {\"num_features\":80}},\n",
    "    {\"class\": \"Flatten\", \"kargs\": {}},\n",
    "\n",
    "    {\"class\": \"Linear\", \"kargs\": {\"in_features\": 80*256, \"out_features\": 256}}, # 80 units per IQ pair\n",
    "    {\"class\": \"ReLU\", \"kargs\": {\"inplace\": True}},\n",
    "    {\"class\": \"BatchNorm1d\", \"kargs\": {\"num_features\":256}},\n",
    "\n",
    "    {\"class\": \"Linear\", \"kargs\": {\"in_features\": 256, \"out_features\": 256}},\n",
    "]\n",
    "\n",
    "# Parameters relevant to results\n",
    "# These parameters will basically never need to change\n",
    "standalone_parameters[\"NUM_LOGS_PER_EPOCH\"] = 10\n",
    "standalone_parameters[\"BEST_MODEL_PATH\"] = \"./best_model.pth\"\n",
    "\n",
    "\n",
    "\n",
    "\n"
   ]
  },
  {
   "cell_type": "code",
   "execution_count": 4,
   "id": "13947491",
   "metadata": {
    "execution": {
     "iopub.execute_input": "2022-03-28T03:45:25.949396Z",
     "iopub.status.busy": "2022-03-28T03:45:25.942756Z",
     "iopub.status.idle": "2022-03-28T03:45:25.970713Z",
     "shell.execute_reply": "2022-03-28T03:45:25.969893Z"
    },
    "papermill": {
     "duration": 0.057891,
     "end_time": "2022-03-28T03:45:25.970875",
     "exception": false,
     "start_time": "2022-03-28T03:45:25.912984",
     "status": "completed"
    },
    "tags": [
     "injected-parameters"
    ]
   },
   "outputs": [],
   "source": [
    "# Parameters\n",
    "parameters = {\n",
    "    \"experiment_name\": \"tl_3-jitter1v2:oracle.run1.framed -> cores\",\n",
    "    \"device\": \"cuda\",\n",
    "    \"lr\": 0.0001,\n",
    "    \"x_shape\": [2, 256],\n",
    "    \"n_shot\": 3,\n",
    "    \"n_query\": 2,\n",
    "    \"train_k_factor\": 3,\n",
    "    \"val_k_factor\": 2,\n",
    "    \"test_k_factor\": 2,\n",
    "    \"torch_default_dtype\": \"torch.float32\",\n",
    "    \"n_epoch\": 50,\n",
    "    \"patience\": 3,\n",
    "    \"criteria_for_best\": \"target_accuracy\",\n",
    "    \"x_net\": [\n",
    "        {\"class\": \"nnReshape\", \"kargs\": {\"shape\": [-1, 1, 2, 256]}},\n",
    "        {\n",
    "            \"class\": \"Conv2d\",\n",
    "            \"kargs\": {\n",
    "                \"in_channels\": 1,\n",
    "                \"out_channels\": 256,\n",
    "                \"kernel_size\": [1, 7],\n",
    "                \"bias\": False,\n",
    "                \"padding\": [0, 3],\n",
    "            },\n",
    "        },\n",
    "        {\"class\": \"ReLU\", \"kargs\": {\"inplace\": True}},\n",
    "        {\"class\": \"BatchNorm2d\", \"kargs\": {\"num_features\": 256}},\n",
    "        {\n",
    "            \"class\": \"Conv2d\",\n",
    "            \"kargs\": {\n",
    "                \"in_channels\": 256,\n",
    "                \"out_channels\": 80,\n",
    "                \"kernel_size\": [2, 7],\n",
    "                \"bias\": True,\n",
    "                \"padding\": [0, 3],\n",
    "            },\n",
    "        },\n",
    "        {\"class\": \"ReLU\", \"kargs\": {\"inplace\": True}},\n",
    "        {\"class\": \"BatchNorm2d\", \"kargs\": {\"num_features\": 80}},\n",
    "        {\"class\": \"Flatten\", \"kargs\": {}},\n",
    "        {\"class\": \"Linear\", \"kargs\": {\"in_features\": 20480, \"out_features\": 256}},\n",
    "        {\"class\": \"ReLU\", \"kargs\": {\"inplace\": True}},\n",
    "        {\"class\": \"BatchNorm1d\", \"kargs\": {\"num_features\": 256}},\n",
    "        {\"class\": \"Linear\", \"kargs\": {\"in_features\": 256, \"out_features\": 256}},\n",
    "    ],\n",
    "    \"NUM_LOGS_PER_EPOCH\": 10,\n",
    "    \"BEST_MODEL_PATH\": \"./best_model.pth\",\n",
    "    \"n_way\": 16,\n",
    "    \"datasets\": [\n",
    "        {\n",
    "            \"labels\": [\n",
    "                \"1-10.\",\n",
    "                \"1-11.\",\n",
    "                \"1-15.\",\n",
    "                \"1-16.\",\n",
    "                \"1-17.\",\n",
    "                \"1-18.\",\n",
    "                \"1-19.\",\n",
    "                \"10-4.\",\n",
    "                \"10-7.\",\n",
    "                \"11-1.\",\n",
    "                \"11-14.\",\n",
    "                \"11-17.\",\n",
    "                \"11-20.\",\n",
    "                \"11-7.\",\n",
    "                \"13-20.\",\n",
    "                \"13-8.\",\n",
    "                \"14-10.\",\n",
    "                \"14-11.\",\n",
    "                \"14-14.\",\n",
    "                \"14-7.\",\n",
    "                \"15-1.\",\n",
    "                \"15-20.\",\n",
    "                \"16-1.\",\n",
    "                \"16-16.\",\n",
    "                \"17-10.\",\n",
    "                \"17-11.\",\n",
    "                \"17-2.\",\n",
    "                \"19-1.\",\n",
    "                \"19-16.\",\n",
    "                \"19-19.\",\n",
    "                \"19-20.\",\n",
    "                \"19-3.\",\n",
    "                \"2-10.\",\n",
    "                \"2-11.\",\n",
    "                \"2-17.\",\n",
    "                \"2-18.\",\n",
    "                \"2-20.\",\n",
    "                \"2-3.\",\n",
    "                \"2-4.\",\n",
    "                \"2-5.\",\n",
    "                \"2-6.\",\n",
    "                \"2-7.\",\n",
    "                \"2-8.\",\n",
    "                \"3-13.\",\n",
    "                \"3-18.\",\n",
    "                \"3-3.\",\n",
    "                \"4-1.\",\n",
    "                \"4-10.\",\n",
    "                \"4-11.\",\n",
    "                \"4-19.\",\n",
    "                \"5-5.\",\n",
    "                \"6-15.\",\n",
    "                \"7-10.\",\n",
    "                \"7-14.\",\n",
    "                \"8-18.\",\n",
    "                \"8-20.\",\n",
    "                \"8-3.\",\n",
    "                \"8-8.\",\n",
    "            ],\n",
    "            \"domains\": [1, 2, 3, 4, 5],\n",
    "            \"num_examples_per_domain_per_label\": -1,\n",
    "            \"pickle_path\": \"/root/csc500-main/datasets/cores.stratified_ds.2022A.pkl\",\n",
    "            \"source_or_target_dataset\": \"target\",\n",
    "            \"x_transforms\": [\n",
    "                \"unit_mag\",\n",
    "                \"jitter_256_1\",\n",
    "                \"lowpass_+/-10MHz\",\n",
    "                \"take_200\",\n",
    "            ],\n",
    "            \"episode_transforms\": [],\n",
    "            \"domain_prefix\": \"C_\",\n",
    "        },\n",
    "        {\n",
    "            \"labels\": [\n",
    "                \"3123D52\",\n",
    "                \"3123D65\",\n",
    "                \"3123D79\",\n",
    "                \"3123D80\",\n",
    "                \"3123D54\",\n",
    "                \"3123D70\",\n",
    "                \"3123D7B\",\n",
    "                \"3123D89\",\n",
    "                \"3123D58\",\n",
    "                \"3123D76\",\n",
    "                \"3123D7D\",\n",
    "                \"3123EFE\",\n",
    "                \"3123D64\",\n",
    "                \"3123D78\",\n",
    "                \"3123D7E\",\n",
    "                \"3124E4A\",\n",
    "            ],\n",
    "            \"domains\": [32, 38, 8, 44, 14, 50, 20, 26],\n",
    "            \"num_examples_per_domain_per_label\": 2000,\n",
    "            \"pickle_path\": \"/root/csc500-main/datasets/oracle.Run1_framed_2000Examples_stratified_ds.2022A.pkl\",\n",
    "            \"source_or_target_dataset\": \"source\",\n",
    "            \"x_transforms\": [\n",
    "                \"unit_mag\",\n",
    "                \"jitter_256_1\",\n",
    "                \"take_200\",\n",
    "                \"resample_20Msps_to_25Msps\",\n",
    "            ],\n",
    "            \"episode_transforms\": [],\n",
    "            \"domain_prefix\": \"O_\",\n",
    "        },\n",
    "    ],\n",
    "    \"seed\": 420,\n",
    "    \"dataset_seed\": 420,\n",
    "}\n"
   ]
  },
  {
   "cell_type": "code",
   "execution_count": 5,
   "id": "8fa1cc33",
   "metadata": {
    "execution": {
     "iopub.execute_input": "2022-03-28T03:45:26.026617Z",
     "iopub.status.busy": "2022-03-28T03:45:26.026042Z",
     "iopub.status.idle": "2022-03-28T03:45:26.047158Z",
     "shell.execute_reply": "2022-03-28T03:45:26.046361Z"
    },
    "papermill": {
     "duration": 0.048902,
     "end_time": "2022-03-28T03:45:26.047311",
     "exception": false,
     "start_time": "2022-03-28T03:45:25.998409",
     "status": "completed"
    },
    "tags": []
   },
   "outputs": [],
   "source": [
    "# Set this to True if you want to run this template directly\n",
    "STANDALONE = False\n",
    "if STANDALONE:\n",
    "    print(\"parameters not injected, running with standalone_parameters\")\n",
    "    parameters = standalone_parameters\n",
    "\n",
    "if not 'parameters' in locals() and not 'parameters' in globals():\n",
    "    raise Exception(\"Parameter injection failed\")\n",
    "\n",
    "#Use an easy dict for all the parameters\n",
    "p = EasyDict(parameters)\n",
    "\n",
    "if \"x_shape\" not in p:\n",
    "    p.x_shape = [2,256] # Default to this if we dont supply x_shape\n",
    "\n",
    "\n",
    "supplied_keys = set(p.keys())\n",
    "\n",
    "if  supplied_keys != required_parameters:\n",
    "    print(\"Parameters are incorrect\")\n",
    "    if len(supplied_keys - required_parameters)>0: print(\"Shouldn't have:\", str(supplied_keys - required_parameters))\n",
    "    if len(required_parameters - supplied_keys)>0: print(\"Need to have:\", str(required_parameters - supplied_keys))\n",
    "    raise RuntimeError(\"Parameters are incorrect\")"
   ]
  },
  {
   "cell_type": "code",
   "execution_count": 6,
   "id": "3a028d58",
   "metadata": {
    "execution": {
     "iopub.execute_input": "2022-03-28T03:45:26.098823Z",
     "iopub.status.busy": "2022-03-28T03:45:26.098453Z",
     "iopub.status.idle": "2022-03-28T03:45:26.118133Z",
     "shell.execute_reply": "2022-03-28T03:45:26.117327Z"
    },
    "papermill": {
     "duration": 0.042075,
     "end_time": "2022-03-28T03:45:26.118286",
     "exception": false,
     "start_time": "2022-03-28T03:45:26.076211",
     "status": "completed"
    },
    "tags": []
   },
   "outputs": [],
   "source": [
    "###################################\n",
    "# Set the RNGs and make it all deterministic\n",
    "###################################\n",
    "np.random.seed(p.seed)\n",
    "random.seed(p.seed)\n",
    "torch.manual_seed(p.seed)\n",
    "\n",
    "torch.use_deterministic_algorithms(True) "
   ]
  },
  {
   "cell_type": "code",
   "execution_count": 7,
   "id": "b691acf6",
   "metadata": {
    "execution": {
     "iopub.execute_input": "2022-03-28T03:45:26.167736Z",
     "iopub.status.busy": "2022-03-28T03:45:26.167359Z",
     "iopub.status.idle": "2022-03-28T03:45:26.190738Z",
     "shell.execute_reply": "2022-03-28T03:45:26.189941Z"
    },
    "papermill": {
     "duration": 0.047448,
     "end_time": "2022-03-28T03:45:26.190891",
     "exception": false,
     "start_time": "2022-03-28T03:45:26.143443",
     "status": "completed"
    },
    "tags": []
   },
   "outputs": [],
   "source": [
    "###########################################\n",
    "# The stratified datasets honor this\n",
    "###########################################\n",
    "torch.set_default_dtype(eval(p.torch_default_dtype))"
   ]
  },
  {
   "cell_type": "code",
   "execution_count": 8,
   "id": "b5fba671",
   "metadata": {
    "execution": {
     "iopub.execute_input": "2022-03-28T03:45:26.241298Z",
     "iopub.status.busy": "2022-03-28T03:45:26.240862Z",
     "iopub.status.idle": "2022-03-28T03:45:26.296443Z",
     "shell.execute_reply": "2022-03-28T03:45:26.295644Z"
    },
    "papermill": {
     "duration": 0.078384,
     "end_time": "2022-03-28T03:45:26.296596",
     "exception": false,
     "start_time": "2022-03-28T03:45:26.218212",
     "status": "completed"
    },
    "tags": []
   },
   "outputs": [],
   "source": [
    "###################################\n",
    "# Build the network(s)\n",
    "# Note: It's critical to do this AFTER setting the RNG\n",
    "###################################\n",
    "x_net = build_sequential(p.x_net)"
   ]
  },
  {
   "cell_type": "code",
   "execution_count": 9,
   "id": "5d7e61cc",
   "metadata": {
    "execution": {
     "iopub.execute_input": "2022-03-28T03:45:26.344644Z",
     "iopub.status.busy": "2022-03-28T03:45:26.344088Z",
     "iopub.status.idle": "2022-03-28T03:45:26.365435Z",
     "shell.execute_reply": "2022-03-28T03:45:26.364631Z"
    },
    "papermill": {
     "duration": 0.044562,
     "end_time": "2022-03-28T03:45:26.365587",
     "exception": false,
     "start_time": "2022-03-28T03:45:26.321025",
     "status": "completed"
    },
    "tags": []
   },
   "outputs": [],
   "source": [
    "start_time_secs = time.time()"
   ]
  },
  {
   "cell_type": "code",
   "execution_count": 10,
   "id": "c6b67dfd",
   "metadata": {
    "execution": {
     "iopub.execute_input": "2022-03-28T03:45:26.414860Z",
     "iopub.status.busy": "2022-03-28T03:45:26.414467Z",
     "iopub.status.idle": "2022-03-28T03:45:26.433748Z",
     "shell.execute_reply": "2022-03-28T03:45:26.432940Z"
    },
    "papermill": {
     "duration": 0.042062,
     "end_time": "2022-03-28T03:45:26.433902",
     "exception": false,
     "start_time": "2022-03-28T03:45:26.391840",
     "status": "completed"
    },
    "tags": []
   },
   "outputs": [],
   "source": [
    "p.domains_source = []\n",
    "p.domains_target = []\n",
    "\n",
    "\n",
    "train_original_source = []\n",
    "val_original_source   = []\n",
    "test_original_source  = []\n",
    "\n",
    "train_original_target = []\n",
    "val_original_target   = []\n",
    "test_original_target  = []"
   ]
  },
  {
   "cell_type": "code",
   "execution_count": 11,
   "id": "e3d9c3d3",
   "metadata": {
    "execution": {
     "iopub.execute_input": "2022-03-28T03:45:26.483258Z",
     "iopub.status.busy": "2022-03-28T03:45:26.482892Z",
     "iopub.status.idle": "2022-03-28T03:45:26.506985Z",
     "shell.execute_reply": "2022-03-28T03:45:26.506181Z"
    },
    "papermill": {
     "duration": 0.047014,
     "end_time": "2022-03-28T03:45:26.507138",
     "exception": false,
     "start_time": "2022-03-28T03:45:26.460124",
     "status": "completed"
    },
    "tags": []
   },
   "outputs": [],
   "source": [
    "# global_x_transform_func = lambda x: normalize(x.to(torch.get_default_dtype()), \"unit_power\") # unit_power, unit_mag\n",
    "# global_x_transform_func = lambda x: normalize(x, \"unit_power\") # unit_power, unit_mag"
   ]
  },
  {
   "cell_type": "code",
   "execution_count": 12,
   "id": "acb78fd2",
   "metadata": {
    "execution": {
     "iopub.execute_input": "2022-03-28T03:45:26.562112Z",
     "iopub.status.busy": "2022-03-28T03:45:26.561724Z",
     "iopub.status.idle": "2022-03-28T03:45:26.582219Z",
     "shell.execute_reply": "2022-03-28T03:45:26.581412Z"
    },
    "papermill": {
     "duration": 0.047653,
     "end_time": "2022-03-28T03:45:26.582374",
     "exception": false,
     "start_time": "2022-03-28T03:45:26.534721",
     "status": "completed"
    },
    "tags": []
   },
   "outputs": [],
   "source": [
    "def add_dataset(\n",
    "    labels,\n",
    "    domains,\n",
    "    pickle_path,\n",
    "    x_transforms,\n",
    "    episode_transforms,\n",
    "    domain_prefix,\n",
    "    num_examples_per_domain_per_label,\n",
    "    source_or_target_dataset:str,\n",
    "    iterator_seed=p.seed,\n",
    "    dataset_seed=p.dataset_seed,\n",
    "    n_shot=p.n_shot,\n",
    "    n_way=p.n_way,\n",
    "    n_query=p.n_query,\n",
    "    train_val_test_k_factors=(p.train_k_factor,p.val_k_factor,p.test_k_factor),\n",
    "):\n",
    "   \n",
    "    if x_transforms == []: x_transform = None\n",
    "    else: x_transform = get_chained_transform(x_transforms)\n",
    "    \n",
    "    if episode_transforms == []: episode_transform = None\n",
    "    else: raise Exception(\"episode_transforms not implemented\")\n",
    "    \n",
    "    episode_transform = lambda tup, _prefix=domain_prefix: (_prefix + str(tup[0]), tup[1])\n",
    "\n",
    "\n",
    "    eaf = Episodic_Accessor_Factory(\n",
    "        labels=labels,\n",
    "        domains=domains,\n",
    "        num_examples_per_domain_per_label=num_examples_per_domain_per_label,\n",
    "        iterator_seed=iterator_seed,\n",
    "        dataset_seed=dataset_seed,\n",
    "        n_shot=n_shot,\n",
    "        n_way=n_way,\n",
    "        n_query=n_query,\n",
    "        train_val_test_k_factors=train_val_test_k_factors,\n",
    "        pickle_path=pickle_path,\n",
    "        x_transform_func=x_transform,\n",
    "    )\n",
    "\n",
    "    train, val, test = eaf.get_train(), eaf.get_val(), eaf.get_test()\n",
    "    train = Lazy_Iterable_Wrapper(train, episode_transform)\n",
    "    val = Lazy_Iterable_Wrapper(val, episode_transform)\n",
    "    test = Lazy_Iterable_Wrapper(test, episode_transform)\n",
    "\n",
    "    if source_or_target_dataset==\"source\":\n",
    "        train_original_source.append(train)\n",
    "        val_original_source.append(val)\n",
    "        test_original_source.append(test)\n",
    "\n",
    "        p.domains_source.extend(\n",
    "            [domain_prefix + str(u) for u in domains]\n",
    "        )\n",
    "    elif source_or_target_dataset==\"target\":\n",
    "        train_original_target.append(train)\n",
    "        val_original_target.append(val)\n",
    "        test_original_target.append(test)\n",
    "        p.domains_target.extend(\n",
    "            [domain_prefix + str(u) for u in domains]\n",
    "        )\n",
    "    else:\n",
    "        raise Exception(f\"invalid source_or_target_dataset: {source_or_target_dataset}\")\n",
    "    "
   ]
  },
  {
   "cell_type": "code",
   "execution_count": 13,
   "id": "fe266617",
   "metadata": {
    "execution": {
     "iopub.execute_input": "2022-03-28T03:45:26.633498Z",
     "iopub.status.busy": "2022-03-28T03:45:26.632942Z",
     "iopub.status.idle": "2022-03-28T03:47:16.932422Z",
     "shell.execute_reply": "2022-03-28T03:47:16.931522Z"
    },
    "papermill": {
     "duration": 110.323968,
     "end_time": "2022-03-28T03:47:16.932604",
     "exception": false,
     "start_time": "2022-03-28T03:45:26.608636",
     "status": "completed"
    },
    "tags": []
   },
   "outputs": [],
   "source": [
    "for ds in p.datasets:\n",
    "    add_dataset(**ds)"
   ]
  },
  {
   "cell_type": "code",
   "execution_count": 14,
   "id": "b90d65ac",
   "metadata": {
    "execution": {
     "iopub.execute_input": "2022-03-28T03:47:16.983735Z",
     "iopub.status.busy": "2022-03-28T03:47:16.983137Z",
     "iopub.status.idle": "2022-03-28T03:47:17.010705Z",
     "shell.execute_reply": "2022-03-28T03:47:17.009885Z"
    },
    "papermill": {
     "duration": 0.052201,
     "end_time": "2022-03-28T03:47:17.010863",
     "exception": false,
     "start_time": "2022-03-28T03:47:16.958662",
     "status": "completed"
    },
    "tags": []
   },
   "outputs": [],
   "source": [
    "# from steves_utils.CORES.utils import (\n",
    "#     ALL_NODES,\n",
    "#     ALL_NODES_MINIMUM_1000_EXAMPLES,\n",
    "#     ALL_DAYS\n",
    "# )\n",
    "\n",
    "# add_dataset(\n",
    "#     labels=ALL_NODES,\n",
    "#     domains = ALL_DAYS,\n",
    "#     num_examples_per_domain_per_label=100,\n",
    "#     pickle_path=os.path.join(get_datasets_base_path(), \"cores.stratified_ds.2022A.pkl\"),\n",
    "#     source_or_target_dataset=\"target\",\n",
    "#     x_transform_func=global_x_transform_func,\n",
    "#     domain_modifier=lambda u: f\"cores_{u}\"\n",
    "# )"
   ]
  },
  {
   "cell_type": "code",
   "execution_count": 15,
   "id": "76db484d",
   "metadata": {
    "execution": {
     "iopub.execute_input": "2022-03-28T03:47:17.063042Z",
     "iopub.status.busy": "2022-03-28T03:47:17.062662Z",
     "iopub.status.idle": "2022-03-28T03:47:17.080003Z",
     "shell.execute_reply": "2022-03-28T03:47:17.079151Z"
    },
    "papermill": {
     "duration": 0.041044,
     "end_time": "2022-03-28T03:47:17.080163",
     "exception": false,
     "start_time": "2022-03-28T03:47:17.039119",
     "status": "completed"
    },
    "tags": []
   },
   "outputs": [],
   "source": [
    "# from steves_utils.ORACLE.utils_v2 import (\n",
    "#     ALL_DISTANCES_FEET,\n",
    "#     ALL_RUNS,\n",
    "#     ALL_SERIAL_NUMBERS,\n",
    "# )\n",
    "\n",
    "\n",
    "# add_dataset(\n",
    "#     labels=ALL_SERIAL_NUMBERS,\n",
    "#     domains = list(set(ALL_DISTANCES_FEET) - {2,62}),\n",
    "#     num_examples_per_domain_per_label=100,\n",
    "#     pickle_path=os.path.join(get_datasets_base_path(), \"oracle.Run2_framed_2000Examples_stratified_ds.2022A.pkl\"),\n",
    "#     source_or_target_dataset=\"source\",\n",
    "#     x_transform_func=global_x_transform_func,\n",
    "#     domain_modifier=lambda u: f\"oracle1_{u}\"\n",
    "# )\n"
   ]
  },
  {
   "cell_type": "code",
   "execution_count": 16,
   "id": "97dea9d2",
   "metadata": {
    "execution": {
     "iopub.execute_input": "2022-03-28T03:47:17.141458Z",
     "iopub.status.busy": "2022-03-28T03:47:17.136362Z",
     "iopub.status.idle": "2022-03-28T03:47:17.153144Z",
     "shell.execute_reply": "2022-03-28T03:47:17.152325Z"
    },
    "papermill": {
     "duration": 0.044905,
     "end_time": "2022-03-28T03:47:17.153300",
     "exception": false,
     "start_time": "2022-03-28T03:47:17.108395",
     "status": "completed"
    },
    "tags": []
   },
   "outputs": [],
   "source": [
    "# from steves_utils.ORACLE.utils_v2 import (\n",
    "#     ALL_DISTANCES_FEET,\n",
    "#     ALL_RUNS,\n",
    "#     ALL_SERIAL_NUMBERS,\n",
    "# )\n",
    "\n",
    "\n",
    "# add_dataset(\n",
    "#     labels=ALL_SERIAL_NUMBERS,\n",
    "#     domains = list(set(ALL_DISTANCES_FEET) - {2,62,56}),\n",
    "#     num_examples_per_domain_per_label=100,\n",
    "#     pickle_path=os.path.join(get_datasets_base_path(), \"oracle.Run2_framed_2000Examples_stratified_ds.2022A.pkl\"),\n",
    "#     source_or_target_dataset=\"source\",\n",
    "#     x_transform_func=global_x_transform_func,\n",
    "#     domain_modifier=lambda u: f\"oracle2_{u}\"\n",
    "# )"
   ]
  },
  {
   "cell_type": "code",
   "execution_count": 17,
   "id": "6f289866",
   "metadata": {
    "execution": {
     "iopub.execute_input": "2022-03-28T03:47:17.203699Z",
     "iopub.status.busy": "2022-03-28T03:47:17.202610Z",
     "iopub.status.idle": "2022-03-28T03:47:17.225597Z",
     "shell.execute_reply": "2022-03-28T03:47:17.224783Z"
    },
    "papermill": {
     "duration": 0.047351,
     "end_time": "2022-03-28T03:47:17.225754",
     "exception": false,
     "start_time": "2022-03-28T03:47:17.178403",
     "status": "completed"
    },
    "tags": []
   },
   "outputs": [],
   "source": [
    "# add_dataset(\n",
    "#     labels=list(range(19)),\n",
    "#     domains = [0,1,2],\n",
    "#     num_examples_per_domain_per_label=100,\n",
    "#     pickle_path=os.path.join(get_datasets_base_path(), \"metehan.stratified_ds.2022A.pkl\"),\n",
    "#     source_or_target_dataset=\"target\",\n",
    "#     x_transform_func=global_x_transform_func,\n",
    "#     domain_modifier=lambda u: f\"met_{u}\"\n",
    "# )"
   ]
  },
  {
   "cell_type": "code",
   "execution_count": 18,
   "id": "86a863c3",
   "metadata": {
    "execution": {
     "iopub.execute_input": "2022-03-28T03:47:17.276593Z",
     "iopub.status.busy": "2022-03-28T03:47:17.276220Z",
     "iopub.status.idle": "2022-03-28T03:47:17.323526Z",
     "shell.execute_reply": "2022-03-28T03:47:17.322776Z"
    },
    "papermill": {
     "duration": 0.071025,
     "end_time": "2022-03-28T03:47:17.323701",
     "exception": false,
     "start_time": "2022-03-28T03:47:17.252676",
     "status": "completed"
    },
    "tags": []
   },
   "outputs": [],
   "source": [
    "# # from steves_utils.wisig.utils import (\n",
    "# #     ALL_NODES_MINIMUM_100_EXAMPLES,\n",
    "# #     ALL_NODES_MINIMUM_500_EXAMPLES,\n",
    "# #     ALL_NODES_MINIMUM_1000_EXAMPLES,\n",
    "# #     ALL_DAYS\n",
    "# # )\n",
    "\n",
    "# import steves_utils.wisig.utils as wisig\n",
    "\n",
    "\n",
    "# add_dataset(\n",
    "#     labels=wisig.ALL_NODES_MINIMUM_100_EXAMPLES,\n",
    "#     domains = wisig.ALL_DAYS,\n",
    "#     num_examples_per_domain_per_label=100,\n",
    "#     pickle_path=os.path.join(get_datasets_base_path(), \"wisig.node3-19.stratified_ds.2022A.pkl\"),\n",
    "#     source_or_target_dataset=\"target\",\n",
    "#     x_transform_func=global_x_transform_func,\n",
    "#     domain_modifier=lambda u: f\"wisig_{u}\"\n",
    "# )"
   ]
  },
  {
   "cell_type": "code",
   "execution_count": 19,
   "id": "fd5442bc",
   "metadata": {
    "execution": {
     "iopub.execute_input": "2022-03-28T03:47:17.384716Z",
     "iopub.status.busy": "2022-03-28T03:47:17.383671Z",
     "iopub.status.idle": "2022-03-28T03:47:17.402581Z",
     "shell.execute_reply": "2022-03-28T03:47:17.401767Z"
    },
    "papermill": {
     "duration": 0.048683,
     "end_time": "2022-03-28T03:47:17.402740",
     "exception": false,
     "start_time": "2022-03-28T03:47:17.354057",
     "status": "completed"
    },
    "tags": []
   },
   "outputs": [],
   "source": [
    "###################################\n",
    "# Build the dataset\n",
    "###################################\n",
    "train_original_source = Iterable_Aggregator(train_original_source, p.seed)\n",
    "val_original_source = Iterable_Aggregator(val_original_source, p.seed)\n",
    "test_original_source = Iterable_Aggregator(test_original_source, p.seed)\n",
    "\n",
    "\n",
    "train_original_target = Iterable_Aggregator(train_original_target, p.seed)\n",
    "val_original_target = Iterable_Aggregator(val_original_target, p.seed)\n",
    "test_original_target = Iterable_Aggregator(test_original_target, p.seed)\n",
    "\n",
    "# For CNN We only use X and Y. And we only train on the source.\n",
    "# Properly form the data using a transform lambda and Lazy_Iterable_Wrapper. Finally wrap them in a dataloader\n",
    "\n",
    "transform_lambda = lambda ex: ex[1] # Original is (<domain>, <episode>) so we strip down to episode only\n",
    "\n",
    "train_processed_source = Lazy_Iterable_Wrapper(train_original_source, transform_lambda)\n",
    "val_processed_source   = Lazy_Iterable_Wrapper(val_original_source, transform_lambda)\n",
    "test_processed_source  = Lazy_Iterable_Wrapper(test_original_source, transform_lambda)\n",
    "\n",
    "train_processed_target = Lazy_Iterable_Wrapper(train_original_target, transform_lambda)\n",
    "val_processed_target   = Lazy_Iterable_Wrapper(val_original_target, transform_lambda)\n",
    "test_processed_target  = Lazy_Iterable_Wrapper(test_original_target, transform_lambda)\n",
    "\n",
    "datasets = EasyDict({\n",
    "    \"source\": {\n",
    "        \"original\": {\"train\":train_original_source, \"val\":val_original_source, \"test\":test_original_source},\n",
    "        \"processed\": {\"train\":train_processed_source, \"val\":val_processed_source, \"test\":test_processed_source}\n",
    "    },\n",
    "    \"target\": {\n",
    "        \"original\": {\"train\":train_original_target, \"val\":val_original_target, \"test\":test_original_target},\n",
    "        \"processed\": {\"train\":train_processed_target, \"val\":val_processed_target, \"test\":test_processed_target}\n",
    "    },\n",
    "})"
   ]
  },
  {
   "cell_type": "code",
   "execution_count": 20,
   "id": "5b3c01fc",
   "metadata": {
    "execution": {
     "iopub.execute_input": "2022-03-28T03:47:17.457344Z",
     "iopub.status.busy": "2022-03-28T03:47:17.455391Z",
     "iopub.status.idle": "2022-03-28T03:47:33.341192Z",
     "shell.execute_reply": "2022-03-28T03:47:33.341943Z"
    },
    "papermill": {
     "duration": 15.912386,
     "end_time": "2022-03-28T03:47:33.342193",
     "exception": false,
     "start_time": "2022-03-28T03:47:17.429807",
     "status": "completed"
    },
    "tags": []
   },
   "outputs": [
    {
     "name": "stdout",
     "output_type": "stream",
     "text": [
      "{'O_20', 'O_26', 'O_50', 'O_32', 'O_38', 'O_44', 'O_14', 'O_8'}\n"
     ]
    },
    {
     "name": "stdout",
     "output_type": "stream",
     "text": [
      "{'C_4', 'C_1', 'C_3', 'C_5', 'C_2'}\n"
     ]
    },
    {
     "name": "stdout",
     "output_type": "stream",
     "text": [
      "tensor([[[0., 0., 0.,  ..., 0., 0., 0.],\n",
      "         [0., 0., 0.,  ..., 0., 0., 0.]],\n",
      "\n",
      "        [[0., 0., 0.,  ..., 0., 0., 0.],\n",
      "         [0., 0., 0.,  ..., 0., 0., 0.]],\n",
      "\n",
      "        [[0., 0., 0.,  ..., 0., 0., 0.],\n",
      "         [0., 0., 0.,  ..., 0., 0., 0.]],\n",
      "\n",
      "        ...,\n",
      "\n",
      "        [[0., 0., 0.,  ..., 0., 0., 0.],\n",
      "         [0., 0., 0.,  ..., 0., 0., 0.]],\n",
      "\n",
      "        [[0., 0., 0.,  ..., 0., 0., 0.],\n",
      "         [0., 0., 0.,  ..., 0., 0., 0.]],\n",
      "\n",
      "        [[0., 0., 0.,  ..., 0., 0., 0.],\n",
      "         [0., 0., 0.,  ..., 0., 0., 0.]]])\n"
     ]
    }
   ],
   "source": [
    "from steves_utils.transforms import get_average_magnitude, get_average_power\n",
    "\n",
    "print(set([u for u,_ in val_original_source]))\n",
    "print(set([u for u,_ in val_original_target]))\n",
    "\n",
    "s_x, s_y, q_x, q_y, _ = next(iter(train_processed_source))\n",
    "print(s_x)\n",
    "\n",
    "# for ds in [\n",
    "#     train_processed_source,\n",
    "#     val_processed_source,\n",
    "#     test_processed_source,\n",
    "#     train_processed_target,\n",
    "#     val_processed_target,\n",
    "#     test_processed_target\n",
    "# ]:\n",
    "#     for s_x, s_y, q_x, q_y, _ in ds:\n",
    "#         for X in (s_x, q_x):\n",
    "#             for x in X:\n",
    "#                 assert np.isclose(get_average_magnitude(x.numpy()), 1.0)\n",
    "#                 assert np.isclose(get_average_power(x.numpy()), 1.0)\n",
    "                "
   ]
  },
  {
   "cell_type": "code",
   "execution_count": 21,
   "id": "bbdacba1",
   "metadata": {
    "execution": {
     "iopub.execute_input": "2022-03-28T03:47:33.402594Z",
     "iopub.status.busy": "2022-03-28T03:47:33.402212Z",
     "iopub.status.idle": "2022-03-28T03:47:33.663975Z",
     "shell.execute_reply": "2022-03-28T03:47:33.664300Z"
    },
    "papermill": {
     "duration": 0.291655,
     "end_time": "2022-03-28T03:47:33.664435",
     "exception": false,
     "start_time": "2022-03-28T03:47:33.372780",
     "status": "completed"
    },
    "tags": []
   },
   "outputs": [
    {
     "name": "stdout",
     "output_type": "stream",
     "text": [
      "(2, 256)\n"
     ]
    }
   ],
   "source": [
    "###################################\n",
    "# Build the model\n",
    "###################################\n",
    "# easfsl only wants a tuple for the shape\n",
    "model = Steves_Prototypical_Network(x_net, device=p.device, x_shape=tuple(p.x_shape))\n",
    "optimizer = Adam(params=model.parameters(), lr=p.lr)"
   ]
  },
  {
   "cell_type": "code",
   "execution_count": 22,
   "id": "22b39ac5",
   "metadata": {
    "execution": {
     "iopub.execute_input": "2022-03-28T03:47:33.713192Z",
     "iopub.status.busy": "2022-03-28T03:47:33.712717Z",
     "iopub.status.idle": "2022-03-28T04:31:12.615594Z",
     "shell.execute_reply": "2022-03-28T04:31:12.615240Z"
    },
    "papermill": {
     "duration": 2618.928337,
     "end_time": "2022-03-28T04:31:12.615677",
     "exception": false,
     "start_time": "2022-03-28T03:47:33.687340",
     "status": "completed"
    },
    "tags": []
   },
   "outputs": [
    {
     "name": "stdout",
     "output_type": "stream",
     "text": [
      "epoch: 1, [batch: 1 / 6720], examples_per_second: 33.0811, train_label_loss: 2.8497, \n"
     ]
    },
    {
     "name": "stdout",
     "output_type": "stream",
     "text": [
      "epoch: 1, [batch: 672 / 6720], examples_per_second: 1793.8534, train_label_loss: 1.5279, \n"
     ]
    },
    {
     "name": "stdout",
     "output_type": "stream",
     "text": [
      "epoch: 1, [batch: 1344 / 6720], examples_per_second: 1742.8417, train_label_loss: 1.1190, \n"
     ]
    },
    {
     "name": "stdout",
     "output_type": "stream",
     "text": [
      "epoch: 1, [batch: 2016 / 6720], examples_per_second: 2598.1508, train_label_loss: 1.0620, \n"
     ]
    },
    {
     "name": "stdout",
     "output_type": "stream",
     "text": [
      "epoch: 1, [batch: 2688 / 6720], examples_per_second: 3816.1554, train_label_loss: 0.8908, \n"
     ]
    },
    {
     "name": "stdout",
     "output_type": "stream",
     "text": [
      "epoch: 1, [batch: 3360 / 6720], examples_per_second: 3835.8149, train_label_loss: 1.0683, \n"
     ]
    },
    {
     "name": "stdout",
     "output_type": "stream",
     "text": [
      "epoch: 1, [batch: 4032 / 6720], examples_per_second: 2302.7153, train_label_loss: 0.9474, \n"
     ]
    },
    {
     "name": "stdout",
     "output_type": "stream",
     "text": [
      "epoch: 1, [batch: 4704 / 6720], examples_per_second: 1890.5347, train_label_loss: 0.9101, \n"
     ]
    },
    {
     "name": "stdout",
     "output_type": "stream",
     "text": [
      "epoch: 1, [batch: 5376 / 6720], examples_per_second: 1931.5079, train_label_loss: 1.3936, \n"
     ]
    },
    {
     "name": "stdout",
     "output_type": "stream",
     "text": [
      "epoch: 1, [batch: 6048 / 6720], examples_per_second: 1739.4805, train_label_loss: 0.6589, \n"
     ]
    },
    {
     "name": "stdout",
     "output_type": "stream",
     "text": [
      "=============================================================\n",
      "epoch: 1, source_val_acc_label: 0.6546, target_val_acc_label: 0.5035, source_val_label_loss: 1.0638, target_val_label_loss: 300.1248, \n",
      "=============================================================\n"
     ]
    },
    {
     "name": "stdout",
     "output_type": "stream",
     "text": [
      "New best\n"
     ]
    },
    {
     "name": "stdout",
     "output_type": "stream",
     "text": [
      "epoch: 2, [batch: 1 / 6720], examples_per_second: 1.4990, train_label_loss: 1.0861, \n"
     ]
    },
    {
     "name": "stdout",
     "output_type": "stream",
     "text": [
      "epoch: 2, [batch: 672 / 6720], examples_per_second: 1806.7604, train_label_loss: 1.1906, \n"
     ]
    },
    {
     "name": "stdout",
     "output_type": "stream",
     "text": [
      "epoch: 2, [batch: 1344 / 6720], examples_per_second: 1738.1922, train_label_loss: 0.7796, \n"
     ]
    },
    {
     "name": "stdout",
     "output_type": "stream",
     "text": [
      "epoch: 2, [batch: 2016 / 6720], examples_per_second: 1807.6380, train_label_loss: 0.9141, \n"
     ]
    },
    {
     "name": "stdout",
     "output_type": "stream",
     "text": [
      "epoch: 2, [batch: 2688 / 6720], examples_per_second: 1729.9901, train_label_loss: 0.8846, \n"
     ]
    },
    {
     "name": "stdout",
     "output_type": "stream",
     "text": [
      "epoch: 2, [batch: 3360 / 6720], examples_per_second: 1858.6821, train_label_loss: 0.9120, \n"
     ]
    },
    {
     "name": "stdout",
     "output_type": "stream",
     "text": [
      "epoch: 2, [batch: 4032 / 6720], examples_per_second: 1931.0624, train_label_loss: 0.6979, \n"
     ]
    },
    {
     "name": "stdout",
     "output_type": "stream",
     "text": [
      "epoch: 2, [batch: 4704 / 6720], examples_per_second: 1912.6718, train_label_loss: 0.8389, \n"
     ]
    },
    {
     "name": "stdout",
     "output_type": "stream",
     "text": [
      "epoch: 2, [batch: 5376 / 6720], examples_per_second: 1941.8123, train_label_loss: 1.3159, \n"
     ]
    },
    {
     "name": "stdout",
     "output_type": "stream",
     "text": [
      "epoch: 2, [batch: 6048 / 6720], examples_per_second: 1875.8905, train_label_loss: 0.6851, \n"
     ]
    },
    {
     "name": "stdout",
     "output_type": "stream",
     "text": [
      "=============================================================\n",
      "epoch: 2, source_val_acc_label: 0.6720, target_val_acc_label: 0.5971, source_val_label_loss: 0.8811, target_val_label_loss: 75.7327, \n",
      "=============================================================\n"
     ]
    },
    {
     "name": "stdout",
     "output_type": "stream",
     "text": [
      "New best\n"
     ]
    },
    {
     "name": "stdout",
     "output_type": "stream",
     "text": [
      "epoch: 3, [batch: 1 / 6720], examples_per_second: 3.8759, train_label_loss: 0.5289, \n"
     ]
    },
    {
     "name": "stdout",
     "output_type": "stream",
     "text": [
      "epoch: 3, [batch: 672 / 6720], examples_per_second: 2502.5820, train_label_loss: 1.0325, \n"
     ]
    },
    {
     "name": "stdout",
     "output_type": "stream",
     "text": [
      "epoch: 3, [batch: 1344 / 6720], examples_per_second: 2048.5914, train_label_loss: 1.1824, \n"
     ]
    },
    {
     "name": "stdout",
     "output_type": "stream",
     "text": [
      "epoch: 3, [batch: 2016 / 6720], examples_per_second: 1933.6801, train_label_loss: 0.8624, \n"
     ]
    },
    {
     "name": "stdout",
     "output_type": "stream",
     "text": [
      "epoch: 3, [batch: 2688 / 6720], examples_per_second: 2378.1831, train_label_loss: 0.7897, \n"
     ]
    },
    {
     "name": "stdout",
     "output_type": "stream",
     "text": [
      "epoch: 3, [batch: 3360 / 6720], examples_per_second: 2271.2777, train_label_loss: 0.6877, \n"
     ]
    },
    {
     "name": "stdout",
     "output_type": "stream",
     "text": [
      "epoch: 3, [batch: 4032 / 6720], examples_per_second: 2371.2671, train_label_loss: 0.5354, \n"
     ]
    },
    {
     "name": "stdout",
     "output_type": "stream",
     "text": [
      "epoch: 3, [batch: 4704 / 6720], examples_per_second: 2311.8618, train_label_loss: 0.6556, \n"
     ]
    },
    {
     "name": "stdout",
     "output_type": "stream",
     "text": [
      "epoch: 3, [batch: 5376 / 6720], examples_per_second: 2281.6940, train_label_loss: 0.5780, \n"
     ]
    },
    {
     "name": "stdout",
     "output_type": "stream",
     "text": [
      "epoch: 3, [batch: 6048 / 6720], examples_per_second: 2379.1704, train_label_loss: 0.6769, \n"
     ]
    },
    {
     "name": "stdout",
     "output_type": "stream",
     "text": [
      "=============================================================\n",
      "epoch: 3, source_val_acc_label: 0.7104, target_val_acc_label: 0.6277, source_val_label_loss: 0.7776, target_val_label_loss: 91.0978, \n",
      "=============================================================\n"
     ]
    },
    {
     "name": "stdout",
     "output_type": "stream",
     "text": [
      "New best\n"
     ]
    },
    {
     "name": "stdout",
     "output_type": "stream",
     "text": [
      "epoch: 4, [batch: 1 / 6720], examples_per_second: 3.0696, train_label_loss: 0.7322, \n"
     ]
    },
    {
     "name": "stdout",
     "output_type": "stream",
     "text": [
      "epoch: 4, [batch: 672 / 6720], examples_per_second: 3840.5233, train_label_loss: 0.9595, \n"
     ]
    },
    {
     "name": "stdout",
     "output_type": "stream",
     "text": [
      "epoch: 4, [batch: 1344 / 6720], examples_per_second: 2235.7581, train_label_loss: 0.5365, \n"
     ]
    },
    {
     "name": "stdout",
     "output_type": "stream",
     "text": [
      "epoch: 4, [batch: 2016 / 6720], examples_per_second: 1819.7595, train_label_loss: 0.3680, \n"
     ]
    },
    {
     "name": "stdout",
     "output_type": "stream",
     "text": [
      "epoch: 4, [batch: 2688 / 6720], examples_per_second: 1777.7607, train_label_loss: 1.0223, \n"
     ]
    },
    {
     "name": "stdout",
     "output_type": "stream",
     "text": [
      "epoch: 4, [batch: 3360 / 6720], examples_per_second: 1758.7538, train_label_loss: 1.2734, \n"
     ]
    },
    {
     "name": "stdout",
     "output_type": "stream",
     "text": [
      "epoch: 4, [batch: 4032 / 6720], examples_per_second: 1789.1466, train_label_loss: 0.4919, \n"
     ]
    },
    {
     "name": "stdout",
     "output_type": "stream",
     "text": [
      "epoch: 4, [batch: 4704 / 6720], examples_per_second: 1738.0206, train_label_loss: 0.6340, \n"
     ]
    },
    {
     "name": "stdout",
     "output_type": "stream",
     "text": [
      "epoch: 4, [batch: 5376 / 6720], examples_per_second: 1792.3783, train_label_loss: 0.5426, \n"
     ]
    },
    {
     "name": "stdout",
     "output_type": "stream",
     "text": [
      "epoch: 4, [batch: 6048 / 6720], examples_per_second: 1739.7911, train_label_loss: 0.5942, \n"
     ]
    },
    {
     "name": "stdout",
     "output_type": "stream",
     "text": [
      "=============================================================\n",
      "epoch: 4, source_val_acc_label: 0.7448, target_val_acc_label: 0.6288, source_val_label_loss: 0.6866, target_val_label_loss: 185.5221, \n",
      "=============================================================\n"
     ]
    },
    {
     "name": "stdout",
     "output_type": "stream",
     "text": [
      "New best\n"
     ]
    },
    {
     "name": "stdout",
     "output_type": "stream",
     "text": [
      "epoch: 5, [batch: 1 / 6720], examples_per_second: 1.6581, train_label_loss: 0.6002, \n"
     ]
    },
    {
     "name": "stdout",
     "output_type": "stream",
     "text": [
      "epoch: 5, [batch: 672 / 6720], examples_per_second: 1780.8130, train_label_loss: 0.9610, \n"
     ]
    },
    {
     "name": "stdout",
     "output_type": "stream",
     "text": [
      "epoch: 5, [batch: 1344 / 6720], examples_per_second: 1770.5531, train_label_loss: 0.6146, \n"
     ]
    },
    {
     "name": "stdout",
     "output_type": "stream",
     "text": [
      "epoch: 5, [batch: 2016 / 6720], examples_per_second: 1797.3375, train_label_loss: 0.5807, \n"
     ]
    },
    {
     "name": "stdout",
     "output_type": "stream",
     "text": [
      "epoch: 5, [batch: 2688 / 6720], examples_per_second: 1733.2193, train_label_loss: 0.8918, \n"
     ]
    },
    {
     "name": "stdout",
     "output_type": "stream",
     "text": [
      "epoch: 5, [batch: 3360 / 6720], examples_per_second: 1812.1721, train_label_loss: 0.5048, \n"
     ]
    },
    {
     "name": "stdout",
     "output_type": "stream",
     "text": [
      "epoch: 5, [batch: 4032 / 6720], examples_per_second: 1750.7397, train_label_loss: 0.6624, \n"
     ]
    },
    {
     "name": "stdout",
     "output_type": "stream",
     "text": [
      "epoch: 5, [batch: 4704 / 6720], examples_per_second: 1900.9355, train_label_loss: 0.5310, \n"
     ]
    },
    {
     "name": "stdout",
     "output_type": "stream",
     "text": [
      "epoch: 5, [batch: 5376 / 6720], examples_per_second: 3339.4743, train_label_loss: 0.5812, \n"
     ]
    },
    {
     "name": "stdout",
     "output_type": "stream",
     "text": [
      "epoch: 5, [batch: 6048 / 6720], examples_per_second: 3936.2507, train_label_loss: 0.2174, \n"
     ]
    },
    {
     "name": "stdout",
     "output_type": "stream",
     "text": [
      "=============================================================\n",
      "epoch: 5, source_val_acc_label: 0.7848, target_val_acc_label: 0.6358, source_val_label_loss: 0.5789, target_val_label_loss: 207.2111, \n",
      "=============================================================\n"
     ]
    },
    {
     "name": "stdout",
     "output_type": "stream",
     "text": [
      "New best\n"
     ]
    },
    {
     "name": "stdout",
     "output_type": "stream",
     "text": [
      "epoch: 6, [batch: 1 / 6720], examples_per_second: 1.9772, train_label_loss: 0.2711, \n"
     ]
    },
    {
     "name": "stdout",
     "output_type": "stream",
     "text": [
      "epoch: 6, [batch: 672 / 6720], examples_per_second: 1750.2119, train_label_loss: 0.3158, \n"
     ]
    },
    {
     "name": "stdout",
     "output_type": "stream",
     "text": [
      "epoch: 6, [batch: 1344 / 6720], examples_per_second: 1827.5172, train_label_loss: 0.8050, \n"
     ]
    },
    {
     "name": "stdout",
     "output_type": "stream",
     "text": [
      "epoch: 6, [batch: 2016 / 6720], examples_per_second: 1745.2047, train_label_loss: 0.9398, \n"
     ]
    },
    {
     "name": "stdout",
     "output_type": "stream",
     "text": [
      "epoch: 6, [batch: 2688 / 6720], examples_per_second: 1811.6812, train_label_loss: 0.3372, \n"
     ]
    },
    {
     "name": "stdout",
     "output_type": "stream",
     "text": [
      "epoch: 6, [batch: 3360 / 6720], examples_per_second: 1729.4029, train_label_loss: 0.2479, \n"
     ]
    },
    {
     "name": "stdout",
     "output_type": "stream",
     "text": [
      "epoch: 6, [batch: 4032 / 6720], examples_per_second: 1810.8292, train_label_loss: 0.7346, \n"
     ]
    },
    {
     "name": "stdout",
     "output_type": "stream",
     "text": [
      "epoch: 6, [batch: 4704 / 6720], examples_per_second: 2263.5311, train_label_loss: 0.5694, \n"
     ]
    },
    {
     "name": "stdout",
     "output_type": "stream",
     "text": [
      "epoch: 6, [batch: 5376 / 6720], examples_per_second: 3813.0499, train_label_loss: 1.1286, \n"
     ]
    },
    {
     "name": "stdout",
     "output_type": "stream",
     "text": [
      "epoch: 6, [batch: 6048 / 6720], examples_per_second: 3911.2137, train_label_loss: 0.8209, \n"
     ]
    },
    {
     "name": "stdout",
     "output_type": "stream",
     "text": [
      "=============================================================\n",
      "epoch: 6, source_val_acc_label: 0.8087, target_val_acc_label: 0.6271, source_val_label_loss: 0.5208, target_val_label_loss: 185.0989, \n",
      "=============================================================\n"
     ]
    },
    {
     "name": "stdout",
     "output_type": "stream",
     "text": [
      "epoch: 7, [batch: 1 / 6720], examples_per_second: 4.5644, train_label_loss: 0.4054, \n"
     ]
    },
    {
     "name": "stdout",
     "output_type": "stream",
     "text": [
      "epoch: 7, [batch: 672 / 6720], examples_per_second: 3863.5696, train_label_loss: 0.8835, \n"
     ]
    },
    {
     "name": "stdout",
     "output_type": "stream",
     "text": [
      "epoch: 7, [batch: 1344 / 6720], examples_per_second: 3912.1367, train_label_loss: 0.1853, \n"
     ]
    },
    {
     "name": "stdout",
     "output_type": "stream",
     "text": [
      "epoch: 7, [batch: 2016 / 6720], examples_per_second: 3853.2970, train_label_loss: 0.2812, \n"
     ]
    },
    {
     "name": "stdout",
     "output_type": "stream",
     "text": [
      "epoch: 7, [batch: 2688 / 6720], examples_per_second: 3778.1890, train_label_loss: 0.3406, \n"
     ]
    },
    {
     "name": "stdout",
     "output_type": "stream",
     "text": [
      "epoch: 7, [batch: 3360 / 6720], examples_per_second: 3808.3603, train_label_loss: 0.3352, \n"
     ]
    },
    {
     "name": "stdout",
     "output_type": "stream",
     "text": [
      "epoch: 7, [batch: 4032 / 6720], examples_per_second: 3899.8752, train_label_loss: 0.4777, \n"
     ]
    },
    {
     "name": "stdout",
     "output_type": "stream",
     "text": [
      "epoch: 7, [batch: 4704 / 6720], examples_per_second: 3808.2534, train_label_loss: 1.1942, \n"
     ]
    },
    {
     "name": "stdout",
     "output_type": "stream",
     "text": [
      "epoch: 7, [batch: 5376 / 6720], examples_per_second: 3805.8333, train_label_loss: 0.5672, \n"
     ]
    },
    {
     "name": "stdout",
     "output_type": "stream",
     "text": [
      "epoch: 7, [batch: 6048 / 6720], examples_per_second: 3874.4351, train_label_loss: 0.5292, \n"
     ]
    },
    {
     "name": "stdout",
     "output_type": "stream",
     "text": [
      "=============================================================\n",
      "epoch: 7, source_val_acc_label: 0.8135, target_val_acc_label: 0.6829, source_val_label_loss: 0.5077, target_val_label_loss: 126.3270, \n",
      "=============================================================\n"
     ]
    },
    {
     "name": "stdout",
     "output_type": "stream",
     "text": [
      "New best\n"
     ]
    },
    {
     "name": "stdout",
     "output_type": "stream",
     "text": [
      "epoch: 8, [batch: 1 / 6720], examples_per_second: 4.5998, train_label_loss: 0.2724, \n"
     ]
    },
    {
     "name": "stdout",
     "output_type": "stream",
     "text": [
      "epoch: 8, [batch: 672 / 6720], examples_per_second: 3746.2617, train_label_loss: 0.3783, \n"
     ]
    },
    {
     "name": "stdout",
     "output_type": "stream",
     "text": [
      "epoch: 8, [batch: 1344 / 6720], examples_per_second: 3809.0747, train_label_loss: 0.2193, \n"
     ]
    },
    {
     "name": "stdout",
     "output_type": "stream",
     "text": [
      "epoch: 8, [batch: 2016 / 6720], examples_per_second: 3805.7358, train_label_loss: 0.3848, \n"
     ]
    },
    {
     "name": "stdout",
     "output_type": "stream",
     "text": [
      "epoch: 8, [batch: 2688 / 6720], examples_per_second: 3887.8230, train_label_loss: 0.3887, \n"
     ]
    },
    {
     "name": "stdout",
     "output_type": "stream",
     "text": [
      "epoch: 8, [batch: 3360 / 6720], examples_per_second: 3843.0118, train_label_loss: 0.4173, \n"
     ]
    },
    {
     "name": "stdout",
     "output_type": "stream",
     "text": [
      "epoch: 8, [batch: 4032 / 6720], examples_per_second: 3800.4229, train_label_loss: 0.2187, \n"
     ]
    },
    {
     "name": "stdout",
     "output_type": "stream",
     "text": [
      "epoch: 8, [batch: 4704 / 6720], examples_per_second: 3896.2753, train_label_loss: 0.5639, \n"
     ]
    },
    {
     "name": "stdout",
     "output_type": "stream",
     "text": [
      "epoch: 8, [batch: 5376 / 6720], examples_per_second: 3819.6946, train_label_loss: 0.3029, \n"
     ]
    },
    {
     "name": "stdout",
     "output_type": "stream",
     "text": [
      "epoch: 8, [batch: 6048 / 6720], examples_per_second: 3840.1095, train_label_loss: 0.3898, \n"
     ]
    },
    {
     "name": "stdout",
     "output_type": "stream",
     "text": [
      "=============================================================\n",
      "epoch: 8, source_val_acc_label: 0.8291, target_val_acc_label: 0.6484, source_val_label_loss: 0.4697, target_val_label_loss: 148.9332, \n",
      "=============================================================\n"
     ]
    },
    {
     "name": "stdout",
     "output_type": "stream",
     "text": [
      "epoch: 9, [batch: 1 / 6720], examples_per_second: 4.5239, train_label_loss: 0.7825, \n"
     ]
    },
    {
     "name": "stdout",
     "output_type": "stream",
     "text": [
      "epoch: 9, [batch: 672 / 6720], examples_per_second: 3720.8050, train_label_loss: 0.6352, \n"
     ]
    },
    {
     "name": "stdout",
     "output_type": "stream",
     "text": [
      "epoch: 9, [batch: 1344 / 6720], examples_per_second: 3801.7391, train_label_loss: 0.4741, \n"
     ]
    },
    {
     "name": "stdout",
     "output_type": "stream",
     "text": [
      "epoch: 9, [batch: 2016 / 6720], examples_per_second: 3753.1980, train_label_loss: 0.5788, \n"
     ]
    },
    {
     "name": "stdout",
     "output_type": "stream",
     "text": [
      "epoch: 9, [batch: 2688 / 6720], examples_per_second: 3730.2072, train_label_loss: 0.8018, \n"
     ]
    },
    {
     "name": "stdout",
     "output_type": "stream",
     "text": [
      "epoch: 9, [batch: 3360 / 6720], examples_per_second: 3808.5292, train_label_loss: 0.6977, \n"
     ]
    },
    {
     "name": "stdout",
     "output_type": "stream",
     "text": [
      "epoch: 9, [batch: 4032 / 6720], examples_per_second: 3897.4880, train_label_loss: 0.6410, \n"
     ]
    },
    {
     "name": "stdout",
     "output_type": "stream",
     "text": [
      "epoch: 9, [batch: 4704 / 6720], examples_per_second: 3813.9609, train_label_loss: 0.4124, \n"
     ]
    },
    {
     "name": "stdout",
     "output_type": "stream",
     "text": [
      "epoch: 9, [batch: 5376 / 6720], examples_per_second: 3887.8707, train_label_loss: 0.0988, \n"
     ]
    },
    {
     "name": "stdout",
     "output_type": "stream",
     "text": [
      "epoch: 9, [batch: 6048 / 6720], examples_per_second: 3916.6538, train_label_loss: 0.6977, \n"
     ]
    },
    {
     "name": "stdout",
     "output_type": "stream",
     "text": [
      "=============================================================\n",
      "epoch: 9, source_val_acc_label: 0.8313, target_val_acc_label: 0.6185, source_val_label_loss: 0.4620, target_val_label_loss: 146.2752, \n",
      "=============================================================\n"
     ]
    },
    {
     "name": "stdout",
     "output_type": "stream",
     "text": [
      "epoch: 10, [batch: 1 / 6720], examples_per_second: 4.4503, train_label_loss: 0.1773, \n"
     ]
    },
    {
     "name": "stdout",
     "output_type": "stream",
     "text": [
      "epoch: 10, [batch: 672 / 6720], examples_per_second: 3854.1150, train_label_loss: 0.3970, \n"
     ]
    },
    {
     "name": "stdout",
     "output_type": "stream",
     "text": [
      "epoch: 10, [batch: 1344 / 6720], examples_per_second: 3834.6714, train_label_loss: 0.3525, \n"
     ]
    },
    {
     "name": "stdout",
     "output_type": "stream",
     "text": [
      "epoch: 10, [batch: 2016 / 6720], examples_per_second: 3851.5161, train_label_loss: 0.4488, \n"
     ]
    },
    {
     "name": "stdout",
     "output_type": "stream",
     "text": [
      "epoch: 10, [batch: 2688 / 6720], examples_per_second: 3826.2742, train_label_loss: 0.1123, \n"
     ]
    },
    {
     "name": "stdout",
     "output_type": "stream",
     "text": [
      "epoch: 10, [batch: 3360 / 6720], examples_per_second: 3773.9617, train_label_loss: 0.4857, \n"
     ]
    },
    {
     "name": "stdout",
     "output_type": "stream",
     "text": [
      "epoch: 10, [batch: 4032 / 6720], examples_per_second: 3838.0678, train_label_loss: 0.1588, \n"
     ]
    },
    {
     "name": "stdout",
     "output_type": "stream",
     "text": [
      "epoch: 10, [batch: 4704 / 6720], examples_per_second: 3870.7069, train_label_loss: 0.6303, \n"
     ]
    },
    {
     "name": "stdout",
     "output_type": "stream",
     "text": [
      "epoch: 10, [batch: 5376 / 6720], examples_per_second: 3966.2762, train_label_loss: 0.2651, \n"
     ]
    },
    {
     "name": "stdout",
     "output_type": "stream",
     "text": [
      "epoch: 10, [batch: 6048 / 6720], examples_per_second: 3842.4107, train_label_loss: 0.2625, \n"
     ]
    },
    {
     "name": "stdout",
     "output_type": "stream",
     "text": [
      "=============================================================\n",
      "epoch: 10, source_val_acc_label: 0.8299, target_val_acc_label: 0.5889, source_val_label_loss: 0.4643, target_val_label_loss: 211.9789, \n",
      "=============================================================\n"
     ]
    },
    {
     "name": "stdout",
     "output_type": "stream",
     "text": [
      "epoch: 11, [batch: 1 / 6720], examples_per_second: 4.3271, train_label_loss: 0.2320, \n"
     ]
    },
    {
     "name": "stdout",
     "output_type": "stream",
     "text": [
      "epoch: 11, [batch: 672 / 6720], examples_per_second: 4203.6704, train_label_loss: 0.2697, \n"
     ]
    },
    {
     "name": "stdout",
     "output_type": "stream",
     "text": [
      "epoch: 11, [batch: 1344 / 6720], examples_per_second: 4203.7549, train_label_loss: 0.4129, \n"
     ]
    },
    {
     "name": "stdout",
     "output_type": "stream",
     "text": [
      "epoch: 11, [batch: 2016 / 6720], examples_per_second: 4203.6380, train_label_loss: 0.6637, \n"
     ]
    },
    {
     "name": "stdout",
     "output_type": "stream",
     "text": [
      "epoch: 11, [batch: 2688 / 6720], examples_per_second: 4152.3286, train_label_loss: 0.1724, \n"
     ]
    },
    {
     "name": "stdout",
     "output_type": "stream",
     "text": [
      "epoch: 11, [batch: 3360 / 6720], examples_per_second: 4108.8093, train_label_loss: 0.8214, \n"
     ]
    },
    {
     "name": "stdout",
     "output_type": "stream",
     "text": [
      "epoch: 11, [batch: 4032 / 6720], examples_per_second: 4598.2500, train_label_loss: 0.5240, \n"
     ]
    },
    {
     "name": "stdout",
     "output_type": "stream",
     "text": [
      "epoch: 11, [batch: 4704 / 6720], examples_per_second: 4951.3518, train_label_loss: 0.6910, \n"
     ]
    },
    {
     "name": "stdout",
     "output_type": "stream",
     "text": [
      "epoch: 11, [batch: 5376 / 6720], examples_per_second: 4899.3084, train_label_loss: 0.1724, \n"
     ]
    },
    {
     "name": "stdout",
     "output_type": "stream",
     "text": [
      "epoch: 11, [batch: 6048 / 6720], examples_per_second: 5223.3189, train_label_loss: 0.0545, \n"
     ]
    },
    {
     "name": "stdout",
     "output_type": "stream",
     "text": [
      "=============================================================\n",
      "epoch: 11, source_val_acc_label: 0.8421, target_val_acc_label: 0.6416, source_val_label_loss: 0.4364, target_val_label_loss: 208.4217, \n",
      "=============================================================\n"
     ]
    },
    {
     "name": "stdout",
     "output_type": "stream",
     "text": [
      "Patience (3) exhausted\n"
     ]
    }
   ],
   "source": [
    "###################################\n",
    "# train\n",
    "###################################\n",
    "jig = PTN_Train_Eval_Test_Jig(model, p.BEST_MODEL_PATH, p.device)\n",
    "\n",
    "jig.train(\n",
    "    train_iterable=datasets.source.processed.train,\n",
    "    source_val_iterable=datasets.source.processed.val,\n",
    "    target_val_iterable=datasets.target.processed.val,\n",
    "    num_epochs=p.n_epoch,\n",
    "    num_logs_per_epoch=p.NUM_LOGS_PER_EPOCH,\n",
    "    patience=p.patience,\n",
    "    optimizer=optimizer,\n",
    "    criteria_for_best=p.criteria_for_best,\n",
    ")"
   ]
  },
  {
   "cell_type": "code",
   "execution_count": 23,
   "id": "31e8fabf",
   "metadata": {
    "execution": {
     "iopub.execute_input": "2022-03-28T04:31:12.733650Z",
     "iopub.status.busy": "2022-03-28T04:31:12.733092Z",
     "iopub.status.idle": "2022-03-28T04:31:12.766096Z",
     "shell.execute_reply": "2022-03-28T04:31:12.766770Z"
    },
    "papermill": {
     "duration": 0.09385,
     "end_time": "2022-03-28T04:31:12.766956",
     "exception": false,
     "start_time": "2022-03-28T04:31:12.673106",
     "status": "completed"
    },
    "tags": []
   },
   "outputs": [],
   "source": [
    "total_experiment_time_secs = time.time() - start_time_secs"
   ]
  },
  {
   "cell_type": "code",
   "execution_count": 24,
   "id": "87b9595b",
   "metadata": {
    "execution": {
     "iopub.execute_input": "2022-03-28T04:31:12.894835Z",
     "iopub.status.busy": "2022-03-28T04:31:12.894213Z",
     "iopub.status.idle": "2022-03-28T04:33:31.637261Z",
     "shell.execute_reply": "2022-03-28T04:33:31.636494Z"
    },
    "papermill": {
     "duration": 138.807308,
     "end_time": "2022-03-28T04:33:31.637445",
     "exception": false,
     "start_time": "2022-03-28T04:31:12.830137",
     "status": "completed"
    },
    "tags": []
   },
   "outputs": [],
   "source": [
    "###################################\n",
    "# Evaluate the model\n",
    "###################################\n",
    "source_test_label_accuracy, source_test_label_loss = jig.test(datasets.source.processed.test)\n",
    "target_test_label_accuracy, target_test_label_loss = jig.test(datasets.target.processed.test)\n",
    "\n",
    "source_val_label_accuracy, source_val_label_loss = jig.test(datasets.source.processed.val)\n",
    "target_val_label_accuracy, target_val_label_loss = jig.test(datasets.target.processed.val)\n",
    "\n",
    "history = jig.get_history()\n",
    "\n",
    "total_epochs_trained = len(history[\"epoch_indices\"])\n",
    "\n",
    "val_dl = Iterable_Aggregator((datasets.source.original.val,datasets.target.original.val))\n",
    "\n",
    "confusion = ptn_confusion_by_domain_over_dataloader(model, p.device, val_dl)\n",
    "per_domain_accuracy = per_domain_accuracy_from_confusion(confusion)\n",
    "\n",
    "# Add a key to per_domain_accuracy for if it was a source domain\n",
    "for domain, accuracy in per_domain_accuracy.items():\n",
    "    per_domain_accuracy[domain] = {\n",
    "        \"accuracy\": accuracy,\n",
    "        \"source?\": domain in p.domains_source\n",
    "    }\n",
    "\n",
    "# Do an independent accuracy assesment JUST TO BE SURE!\n",
    "# _source_test_label_accuracy = independent_accuracy_assesment(model, datasets.source.processed.test, p.device)\n",
    "# _target_test_label_accuracy = independent_accuracy_assesment(model, datasets.target.processed.test, p.device)\n",
    "# _source_val_label_accuracy = independent_accuracy_assesment(model, datasets.source.processed.val, p.device)\n",
    "# _target_val_label_accuracy = independent_accuracy_assesment(model, datasets.target.processed.val, p.device)\n",
    "\n",
    "# assert(_source_test_label_accuracy == source_test_label_accuracy)\n",
    "# assert(_target_test_label_accuracy == target_test_label_accuracy)\n",
    "# assert(_source_val_label_accuracy == source_val_label_accuracy)\n",
    "# assert(_target_val_label_accuracy == target_val_label_accuracy)\n",
    "\n",
    "experiment = {\n",
    "    \"experiment_name\": p.experiment_name,\n",
    "    \"parameters\": dict(p),\n",
    "    \"results\": {\n",
    "        \"source_test_label_accuracy\": source_test_label_accuracy,\n",
    "        \"source_test_label_loss\": source_test_label_loss,\n",
    "        \"target_test_label_accuracy\": target_test_label_accuracy,\n",
    "        \"target_test_label_loss\": target_test_label_loss,\n",
    "        \"source_val_label_accuracy\": source_val_label_accuracy,\n",
    "        \"source_val_label_loss\": source_val_label_loss,\n",
    "        \"target_val_label_accuracy\": target_val_label_accuracy,\n",
    "        \"target_val_label_loss\": target_val_label_loss,\n",
    "        \"total_epochs_trained\": total_epochs_trained,\n",
    "        \"total_experiment_time_secs\": total_experiment_time_secs,\n",
    "        \"confusion\": confusion,\n",
    "        \"per_domain_accuracy\": per_domain_accuracy,\n",
    "    },\n",
    "    \"history\": history,\n",
    "    \"dataset_metrics\": get_dataset_metrics(datasets, \"ptn\"),\n",
    "}"
   ]
  },
  {
   "cell_type": "code",
   "execution_count": 25,
   "id": "54a21829",
   "metadata": {
    "execution": {
     "iopub.execute_input": "2022-03-28T04:33:31.760963Z",
     "iopub.status.busy": "2022-03-28T04:33:31.760595Z",
     "iopub.status.idle": "2022-03-28T04:33:31.973553Z",
     "shell.execute_reply": "2022-03-28T04:33:31.974238Z"
    },
    "papermill": {
     "duration": 0.273766,
     "end_time": "2022-03-28T04:33:31.974419",
     "exception": false,
     "start_time": "2022-03-28T04:33:31.700653",
     "status": "completed"
    },
    "tags": []
   },
   "outputs": [
    {
     "data": {
      "image/png": "[encoded data removed]",
      "text/plain": [
       "<Figure size 1080x504 with 1 Axes>"
      ]
     },
     "metadata": {
      "needs_background": "light"
     },
     "output_type": "display_data"
    }
   ],
   "source": [
    "ax = get_loss_curve(experiment)\n",
    "plt.show()"
   ]
  },
  {
   "cell_type": "code",
   "execution_count": 26,
   "id": "fd8a0f60",
   "metadata": {
    "execution": {
     "iopub.execute_input": "2022-03-28T04:33:32.096654Z",
     "iopub.status.busy": "2022-03-28T04:33:32.096279Z",
     "iopub.status.idle": "2022-03-28T04:33:32.465815Z",
     "shell.execute_reply": "2022-03-28T04:33:32.466500Z"
    },
    "papermill": {
     "duration": 0.43068,
     "end_time": "2022-03-28T04:33:32.466682",
     "exception": false,
     "start_time": "2022-03-28T04:33:32.036002",
     "status": "completed"
    },
    "tags": []
   },
   "outputs": [
    {
     "data": {
      "text/plain": [
       "<AxesSubplot:title={'center':'Results'}>"
      ]
     },
     "execution_count": 26,
     "metadata": {},
     "output_type": "execute_result"
    },
    {
     "data": {
      "image/png": "[encoded data removed]",
      "text/plain": [
       "<Figure size 1080x504 with 1 Axes>"
      ]
     },
     "metadata": {
      "needs_background": "light"
     },
     "output_type": "display_data"
    }
   ],
   "source": [
    "get_results_table(experiment)"
   ]
  },
  {
   "cell_type": "code",
   "execution_count": 27,
   "id": "cf8dc689",
   "metadata": {
    "execution": {
     "iopub.execute_input": "2022-03-28T04:33:32.591947Z",
     "iopub.status.busy": "2022-03-28T04:33:32.591584Z",
     "iopub.status.idle": "2022-03-28T04:33:32.833314Z",
     "shell.execute_reply": "2022-03-28T04:33:32.832464Z"
    },
    "papermill": {
     "duration": 0.302497,
     "end_time": "2022-03-28T04:33:32.833471",
     "exception": false,
     "start_time": "2022-03-28T04:33:32.530974",
     "status": "completed"
    },
    "tags": []
   },
   "outputs": [
    {
     "data": {
      "text/plain": [
       "<AxesSubplot:title={'center':'Per Domain Validation Accuracy'}, xlabel='domain'>"
      ]
     },
     "execution_count": 27,
     "metadata": {},
     "output_type": "execute_result"
    },
    {
     "data": {
      "image/png": "[encoded data removed]",
      "text/plain": [
       "<Figure size 1080x504 with 1 Axes>"
      ]
     },
     "metadata": {
      "needs_background": "light"
     },
     "output_type": "display_data"
    }
   ],
   "source": [
    "get_domain_accuracies(experiment)"
   ]
  },
  {
   "cell_type": "code",
   "execution_count": 28,
   "id": "a74ae082",
   "metadata": {
    "execution": {
     "iopub.execute_input": "2022-03-28T04:33:32.966184Z",
     "iopub.status.busy": "2022-03-28T04:33:32.965811Z",
     "iopub.status.idle": "2022-03-28T04:33:32.991115Z",
     "shell.execute_reply": "2022-03-28T04:33:32.991805Z"
    },
    "papermill": {
     "duration": 0.090517,
     "end_time": "2022-03-28T04:33:32.991987",
     "exception": false,
     "start_time": "2022-03-28T04:33:32.901470",
     "status": "completed"
    },
    "tags": []
   },
   "outputs": [
    {
     "name": "stdout",
     "output_type": "stream",
     "text": [
      "Source Test Label Accuracy: 0.816015625 Target Test Label Accuracy: 0.6829853273137697\n",
      "Source Val Label Accuracy: 0.8135091145833333 Target Val Label Accuracy: 0.6828571428571428\n"
     ]
    }
   ],
   "source": [
    "print(\"Source Test Label Accuracy:\", experiment[\"results\"][\"source_test_label_accuracy\"], \"Target Test Label Accuracy:\", experiment[\"results\"][\"target_test_label_accuracy\"])\n",
    "print(\"Source Val Label Accuracy:\", experiment[\"results\"][\"source_val_label_accuracy\"], \"Target Val Label Accuracy:\", experiment[\"results\"][\"target_val_label_accuracy\"])"
   ]
  },
  {
   "cell_type": "code",
   "execution_count": 29,
   "id": "dacca602",
   "metadata": {
    "execution": {
     "iopub.execute_input": "2022-03-28T04:33:33.122496Z",
     "iopub.status.busy": "2022-03-28T04:33:33.122131Z",
     "iopub.status.idle": "2022-03-28T04:33:33.151475Z",
     "shell.execute_reply": "2022-03-28T04:33:33.152176Z"
    },
    "papermill": {
     "duration": 0.094554,
     "end_time": "2022-03-28T04:33:33.152357",
     "exception": false,
     "start_time": "2022-03-28T04:33:33.057803",
     "status": "completed"
    },
    "tags": [
     "experiment_json"
    ]
   },
   "outputs": [
    {
     "data": {
      "text/plain": [
       "'{\"experiment_name\": \"tl_3-jitter1v2:oracle.run1.framed -> cores\", \"parameters\": {\"experiment_name\": \"tl_3-jitter1v2:oracle.run1.framed -> cores\", \"device\": \"cuda\", \"lr\": 0.0001, \"x_shape\": [2, 256], \"n_shot\": 3, \"n_query\": 2, \"train_k_factor\": 3, \"val_k_factor\": 2, \"test_k_factor\": 2, \"torch_default_dtype\": \"torch.float32\", \"n_epoch\": 50, \"patience\": 3, \"criteria_for_best\": \"target_accuracy\", \"x_net\": [{\"class\": \"nnReshape\", \"kargs\": {\"shape\": [-1, 1, 2, 256]}}, {\"class\": \"Conv2d\", \"kargs\": {\"in_channels\": 1, \"out_channels\": 256, \"kernel_size\": [1, 7], \"bias\": false, \"padding\": [0, 3]}}, {\"class\": \"ReLU\", \"kargs\": {\"inplace\": true}}, {\"class\": \"BatchNorm2d\", \"kargs\": {\"num_features\": 256}}, {\"class\": \"Conv2d\", \"kargs\": {\"in_channels\": 256, \"out_channels\": 80, \"kernel_size\": [2, 7], \"bias\": true, \"padding\": [0, 3]}}, {\"class\": \"ReLU\", \"kargs\": {\"inplace\": true}}, {\"class\": \"BatchNorm2d\", \"kargs\": {\"num_features\": 80}}, {\"class\": \"Flatten\", \"kargs\": {}}, {\"class\": \"Linear\", \"kargs\": {\"in_features\": 20480, \"out_features\": 256}}, {\"class\": \"ReLU\", \"kargs\": {\"inplace\": true}}, {\"class\": \"BatchNorm1d\", \"kargs\": {\"num_features\": 256}}, {\"class\": \"Linear\", \"kargs\": {\"in_features\": 256, \"out_features\": 256}}], \"NUM_LOGS_PER_EPOCH\": 10, \"BEST_MODEL_PATH\": \"./best_model.pth\", \"n_way\": 16, \"datasets\": [{\"labels\": [\"1-10.\", \"1-11.\", \"1-15.\", \"1-16.\", \"1-17.\", \"1-18.\", \"1-19.\", \"10-4.\", \"10-7.\", \"11-1.\", \"11-14.\", \"11-17.\", \"11-20.\", \"11-7.\", \"13-20.\", \"13-8.\", \"14-10.\", \"14-11.\", \"14-14.\", \"14-7.\", \"15-1.\", \"15-20.\", \"16-1.\", \"16-16.\", \"17-10.\", \"17-11.\", \"17-2.\", \"19-1.\", \"19-16.\", \"19-19.\", \"19-20.\", \"19-3.\", \"2-10.\", \"2-11.\", \"2-17.\", \"2-18.\", \"2-20.\", \"2-3.\", \"2-4.\", \"2-5.\", \"2-6.\", \"2-7.\", \"2-8.\", \"3-13.\", \"3-18.\", \"3-3.\", \"4-1.\", \"4-10.\", \"4-11.\", \"4-19.\", \"5-5.\", \"6-15.\", \"7-10.\", \"7-14.\", \"8-18.\", \"8-20.\", \"8-3.\", \"8-8.\"], \"domains\": [1, 2, 3, 4, 5], \"num_examples_per_domain_per_label\": -1, \"pickle_path\": \"/root/csc500-main/datasets/cores.stratified_ds.2022A.pkl\", \"source_or_target_dataset\": \"target\", \"x_transforms\": [\"unit_mag\", \"jitter_256_1\", \"lowpass_+/-10MHz\", \"take_200\"], \"episode_transforms\": [], \"domain_prefix\": \"C_\"}, {\"labels\": [\"3123D52\", \"3123D65\", \"3123D79\", \"3123D80\", \"3123D54\", \"3123D70\", \"3123D7B\", \"3123D89\", \"3123D58\", \"3123D76\", \"3123D7D\", \"3123EFE\", \"3123D64\", \"3123D78\", \"3123D7E\", \"3124E4A\"], \"domains\": [32, 38, 8, 44, 14, 50, 20, 26], \"num_examples_per_domain_per_label\": 2000, \"pickle_path\": \"/root/csc500-main/datasets/oracle.Run1_framed_2000Examples_stratified_ds.2022A.pkl\", \"source_or_target_dataset\": \"source\", \"x_transforms\": [\"unit_mag\", \"jitter_256_1\", \"take_200\", \"resample_20Msps_to_25Msps\"], \"episode_transforms\": [], \"domain_prefix\": \"O_\"}], \"seed\": 420, \"dataset_seed\": 420, \"domains_source\": [\"O_32\", \"O_38\", \"O_8\", \"O_44\", \"O_14\", \"O_50\", \"O_20\", \"O_26\"], \"domains_target\": [\"C_1\", \"C_2\", \"C_3\", \"C_4\", \"C_5\"]}, \"results\": {\"source_test_label_accuracy\": 0.816015625, \"source_test_label_loss\": 0.5011895298957825, \"target_test_label_accuracy\": 0.6829853273137697, \"target_test_label_loss\": 126.92124938964844, \"source_val_label_accuracy\": 0.8135091145833333, \"source_val_label_loss\": 0.5076957941055298, \"target_val_label_accuracy\": 0.6828571428571428, \"target_val_label_loss\": 126.32696533203125, \"total_epochs_trained\": 11, \"total_experiment_time_secs\": 2746.4011669158936, \"confusion\": {\"O_14\": {\"15\": {\"15\": 239, \"7\": 1}, \"5\": {\"5\": 171, \"1\": 19, \"4\": 41, \"3\": 7, \"13\": 1, \"2\": 1}, \"7\": {\"7\": 240}, \"4\": {\"4\": 211, \"5\": 19, \"1\": 9, \"13\": 1}, \"10\": {\"10\": 240}, \"11\": {\"11\": 230, \"9\": 4, \"0\": 6}, \"12\": {\"12\": 240}, \"0\": {\"0\": 229, \"3\": 2, \"10\": 5, \"8\": 3, \"11\": 1}, \"14\": {\"14\": 189, \"13\": 27, \"2\": 17, \"6\": 5, \"3\": 2}, \"8\": {\"8\": 240}, \"13\": {\"6\": 92, \"13\": 84, \"14\": 35, \"2\": 24, \"3\": 2, \"5\": 3}, \"6\": {\"6\": 160, \"13\": 68, \"14\": 3, \"2\": 9}, \"1\": {\"1\": 211, \"5\": 21, \"4\": 8}, \"3\": {\"3\": 230, \"14\": 6, \"0\": 1, \"2\": 1, \"4\": 2}, \"9\": {\"9\": 240}, \"2\": {\"2\": 127, \"13\": 20, \"4\": 11, \"5\": 15, \"3\": 15, \"6\": 6, \"15\": 3, \"14\": 42, \"1\": 1}}, \"O_20\": {\"4\": {\"4\": 225, \"8\": 7, \"3\": 6, \"10\": 1, \"12\": 1}, \"10\": {\"10\": 236, \"14\": 4}, \"15\": {\"15\": 184, \"1\": 19, \"0\": 20, \"5\": 14, \"13\": 3}, \"0\": {\"13\": 3, \"0\": 153, \"5\": 51, \"15\": 32, \"8\": 1}, \"6\": {\"6\": 226, \"14\": 14}, \"3\": {\"3\": 145, \"9\": 30, \"12\": 45, \"2\": 8, \"8\": 1, \"7\": 3, \"1\": 2, \"4\": 6}, \"7\": {\"7\": 209, \"2\": 21, \"3\": 6, \"9\": 3, \"8\": 1}, \"2\": {\"7\": 26, \"2\": 137, \"9\": 55, \"12\": 11, \"13\": 3, \"3\": 6, \"1\": 2}, \"8\": {\"8\": 209, \"4\": 13, \"7\": 15, \"3\": 1, \"14\": 2}, \"11\": {\"11\": 240}, \"14\": {\"14\": 224, \"8\": 1, \"6\": 12, \"10\": 3}, \"12\": {\"12\": 143, \"5\": 7, \"1\": 45, \"3\": 29, \"2\": 7, \"9\": 9}, \"13\": {\"13\": 228, \"2\": 7, \"9\": 2, \"15\": 2, \"7\": 1}, \"9\": {\"9\": 143, \"2\": 60, \"3\": 27, \"12\": 6, \"1\": 2, \"7\": 2}, \"5\": {\"1\": 19, \"0\": 36, \"5\": 169, \"12\": 6, \"15\": 10}, \"1\": {\"1\": 157, \"15\": 17, \"12\": 46, \"5\": 15, \"3\": 2, \"9\": 2, \"0\": 1}}, \"O_50\": {\"5\": {\"5\": 148, \"7\": 34, \"13\": 17, \"4\": 31, \"1\": 8, \"15\": 1, \"6\": 1}, \"12\": {\"12\": 221, \"11\": 14, \"9\": 5}, \"14\": {\"14\": 239, \"11\": 1}, \"4\": {\"4\": 155, \"7\": 5, \"15\": 35, \"5\": 38, \"1\": 6, \"6\": 1}, \"13\": {\"13\": 209, \"10\": 8, \"7\": 6, \"6\": 9, \"5\": 8}, \"10\": {\"10\": 226, \"13\": 4, \"0\": 7, \"8\": 3}, \"9\": {\"9\": 222, \"11\": 10, \"12\": 8}, \"15\": {\"15\": 204, \"4\": 11, \"6\": 3, \"1\": 18, \"11\": 4}, \"6\": {\"6\": 211, \"13\": 13, \"1\": 3, \"15\": 4, \"5\": 2, \"7\": 3, \"4\": 4}, \"2\": {\"2\": 216, \"0\": 24}, \"0\": {\"0\": 207, \"10\": 13, \"2\": 18, \"13\": 2}, \"11\": {\"11\": 207, \"12\": 9, \"9\": 12, \"15\": 12}, \"3\": {\"3\": 239, \"8\": 1}, \"8\": {\"8\": 235, \"10\": 5}, \"7\": {\"7\": 205, \"13\": 9, \"6\": 9, \"4\": 2, \"5\": 14, \"8\": 1}, \"1\": {\"1\": 220, \"4\": 1, \"5\": 4, \"15\": 12, \"13\": 1, \"6\": 2}}, \"O_26\": {\"7\": {\"7\": 162, \"8\": 9, \"1\": 2, \"4\": 14, \"2\": 27, \"3\": 18, \"0\": 3, \"15\": 3, \"5\": 1, \"14\": 1}, \"6\": {\"6\": 211, \"10\": 9, \"9\": 9, \"15\": 9, \"8\": 2}, \"14\": {\"14\": 123, \"0\": 43, \"4\": 22, \"8\": 5, \"1\": 32, \"10\": 14, \"7\": 1}, \"15\": {\"13\": 10, \"15\": 135, \"9\": 64, \"8\": 14, \"7\": 2, \"10\": 3, \"2\": 2, \"6\": 2, \"5\": 7, \"0\": 1}, \"5\": {\"13\": 13, \"5\": 190, \"2\": 17, \"9\": 5, \"15\": 3, \"8\": 7, \"3\": 2, \"7\": 2, \"10\": 1}, \"10\": {\"0\": 67, \"10\": 116, \"14\": 20, \"7\": 1, \"8\": 22, \"6\": 5, \"1\": 2, \"4\": 6, \"9\": 1}, \"4\": {\"14\": 18, \"4\": 168, \"8\": 19, \"0\": 14, \"10\": 5, \"7\": 14, \"1\": 2}, \"11\": {\"11\": 240}, \"13\": {\"13\": 189, \"2\": 9, \"5\": 25, \"15\": 3, \"9\": 14}, \"2\": {\"5\": 23, \"2\": 101, \"3\": 68, \"7\": 42, \"0\": 1, \"8\": 2, \"9\": 2, \"15\": 1}, \"0\": {\"0\": 79, \"4\": 18, \"8\": 14, \"14\": 37, \"10\": 76, \"6\": 4, \"7\": 5, \"1\": 3, \"15\": 2, \"9\": 2}, \"12\": {\"12\": 240}, \"3\": {\"3\": 175, \"7\": 20, \"2\": 44, \"4\": 1}, \"9\": {\"9\": 140, \"15\": 75, \"13\": 7, \"6\": 9, \"10\": 1, \"8\": 6, \"2\": 1, \"5\": 1}, \"8\": {\"7\": 23, \"10\": 23, \"8\": 114, \"0\": 25, \"4\": 28, \"15\": 10, \"1\": 2, \"9\": 5, \"14\": 3, \"6\": 1, \"2\": 5, \"5\": 1}, \"1\": {\"1\": 200, \"14\": 31, \"3\": 2, \"8\": 1, \"10\": 1, \"4\": 4, \"0\": 1}}, \"O_32\": {\"7\": {\"7\": 157, \"0\": 5, \"5\": 38, \"2\": 3, \"11\": 1, \"4\": 17, \"14\": 10, \"13\": 9}, \"2\": {\"2\": 191, \"4\": 47, \"7\": 2}, \"5\": {\"5\": 125, \"8\": 12, \"7\": 62, \"13\": 19, \"4\": 9, \"14\": 1, \"3\": 8, \"0\": 4}, \"6\": {\"6\": 240}, \"13\": {\"13\": 172, \"3\": 26, \"14\": 2, \"8\": 6, \"5\": 10, \"4\": 14, \"11\": 2, \"7\": 7, \"0\": 1}, \"4\": {\"2\": 41, \"4\": 176, \"7\": 16, \"13\": 5, \"0\": 1, \"5\": 1}, \"3\": {\"3\": 230, \"14\": 2, \"13\": 5, \"8\": 1, \"5\": 1, \"11\": 1}, \"0\": {\"0\": 192, \"8\": 27, \"5\": 7, \"14\": 6, \"7\": 6, \"13\": 2}, \"9\": {\"9\": 239, \"12\": 1}, \"12\": {\"12\": 240}, \"8\": {\"8\": 194, \"0\": 25, \"13\": 9, \"14\": 4, \"5\": 4, \"7\": 3, \"3\": 1}, \"14\": {\"14\": 170, \"8\": 6, \"0\": 17, \"5\": 7, \"3\": 2, \"7\": 7, \"11\": 31}, \"15\": {\"15\": 240}, \"11\": {\"11\": 221, \"14\": 13, \"3\": 1, \"13\": 4, \"7\": 1}, \"10\": {\"10\": 240}, \"1\": {\"1\": 240}}, \"O_44\": {\"11\": {\"11\": 235, \"6\": 4, \"13\": 1}, \"7\": {\"9\": 42, \"7\": 166, \"2\": 26, \"6\": 6}, \"6\": {\"6\": 165, \"13\": 45, \"7\": 6, \"9\": 24}, \"12\": {\"12\": 208, \"1\": 29, \"3\": 1, \"10\": 2}, \"4\": {\"4\": 157, \"14\": 82, \"15\": 1}, \"13\": {\"9\": 19, \"6\": 49, \"13\": 168, \"11\": 3, \"7\": 1}, \"8\": {\"0\": 60, \"8\": 164, \"15\": 7, \"5\": 8, \"14\": 1}, \"5\": {\"5\": 219, \"0\": 15, \"14\": 6}, \"14\": {\"15\": 17, \"14\": 136, \"4\": 84, \"5\": 3}, \"3\": {\"3\": 224, \"1\": 15, \"12\": 1}, \"10\": {\"10\": 197, \"2\": 21, \"1\": 13, \"12\": 8, \"7\": 1}, \"1\": {\"1\": 169, \"12\": 37, \"10\": 10, \"3\": 12, \"2\": 12}, \"2\": {\"2\": 194, \"7\": 31, \"1\": 7, \"3\": 1, \"10\": 5, \"12\": 1, \"9\": 1}, \"15\": {\"15\": 187, \"14\": 24, \"0\": 14, \"8\": 3, \"4\": 1, \"5\": 11}, \"9\": {\"9\": 117, \"7\": 48, \"6\": 42, \"13\": 31, \"2\": 2}, \"0\": {\"8\": 61, \"0\": 158, \"15\": 10, \"5\": 11}}, \"O_8\": {\"10\": {\"10\": 180, \"14\": 42, \"4\": 6, \"13\": 12}, \"6\": {\"6\": 176, \"7\": 32, \"4\": 19, \"0\": 5, \"13\": 8}, \"13\": {\"6\": 5, \"13\": 114, \"10\": 32, \"0\": 38, \"4\": 40, \"14\": 10, \"7\": 1}, \"3\": {\"3\": 232, \"12\": 3, \"2\": 5}, \"9\": {\"9\": 239, \"10\": 1}, \"1\": {\"1\": 236, \"11\": 3, \"5\": 1}, \"5\": {\"5\": 226, \"14\": 2, \"10\": 5, \"1\": 7}, \"11\": {\"11\": 221, \"1\": 19}, \"4\": {\"14\": 11, \"4\": 171, \"6\": 12, \"13\": 37, \"10\": 8, \"0\": 1}, \"14\": {\"14\": 166, \"10\": 41, \"4\": 22, \"5\": 1, \"13\": 8, \"1\": 2}, \"12\": {\"15\": 55, \"12\": 164, \"8\": 4, \"3\": 17}, \"7\": {\"7\": 199, \"6\": 37, \"13\": 2, \"0\": 1, \"15\": 1}, \"0\": {\"0\": 194, \"7\": 7, \"13\": 30, \"6\": 6, \"4\": 1, \"14\": 1, \"10\": 1}, \"15\": {\"15\": 208, \"12\": 27, \"8\": 5}, \"2\": {\"3\": 8, \"2\": 223, \"15\": 3, \"7\": 5, \"12\": 1}, \"8\": {\"8\": 239, \"15\": 1}}, \"O_38\": {\"4\": {\"4\": 240}, \"7\": {\"7\": 203, \"8\": 14, \"5\": 19, \"10\": 2, \"0\": 2}, \"12\": {\"12\": 238, \"4\": 2}, \"10\": {\"0\": 9, \"10\": 210, \"8\": 2, \"13\": 18, \"7\": 1}, \"0\": {\"0\": 190, \"8\": 17, \"5\": 3, \"3\": 6, \"7\": 12, \"10\": 6, \"13\": 3, \"4\": 2, \"9\": 1}, \"1\": {\"1\": 234, \"15\": 6}, \"5\": {\"7\": 43, \"15\": 3, \"5\": 126, \"8\": 49, \"13\": 3, \"9\": 9, \"10\": 1, \"6\": 4, \"0\": 1, \"3\": 1}, \"15\": {\"15\": 204, \"5\": 6, \"1\": 15, \"8\": 14, \"13\": 1}, \"9\": {\"9\": 228, \"6\": 8, \"7\": 2, \"5\": 2}, \"11\": {\"11\": 240}, \"14\": {\"14\": 220, \"12\": 1, \"2\": 18, \"10\": 1}, \"6\": {\"6\": 238, \"9\": 2}, \"8\": {\"8\": 175, \"7\": 19, \"13\": 4, \"5\": 32, \"15\": 6, \"0\": 3, \"10\": 1}, \"3\": {\"3\": 235, \"9\": 1, \"0\": 4}, \"2\": {\"2\": 223, \"13\": 5, \"14\": 12}, \"13\": {\"13\": 212, \"10\": 18, \"15\": 3, \"5\": 1, \"8\": 1, \"2\": 4, \"14\": 1}}, \"C_4\": {\"42\": {\"42\": 32}, \"0\": {\"0\": 72, \"32\": 2, \"24\": 2, \"46\": 1, \"43\": 3}, \"1\": {\"1\": 39, \"47\": 1}, \"39\": {\"39\": 20}, \"28\": {\"42\": 4, \"28\": 15, \"27\": 4, \"26\": 2, \"21\": 1, \"55\": 1, \"13\": 1, \"14\": 1, \"34\": 1, \"57\": 2}, \"53\": {\"42\": 1, \"20\": 16, \"30\": 1, \"51\": 11, \"8\": 19, \"25\": 3, \"53\": 40, \"47\": 1, \"21\": 6, \"13\": 1, \"36\": 1, \"6\": 2, \"50\": 3, \"12\": 2, \"18\": 2, \"48\": 6, \"16\": 2, \"3\": 2, \"23\": 4, \"9\": 1}, \"19\": {\"19\": 101, \"51\": 1, \"4\": 3, \"29\": 4, \"26\": 1, \"44\": 18, \"25\": 2, \"27\": 1, \"50\": 1, \"45\": 3, \"21\": 1, \"40\": 4, \"56\": 2, \"35\": 1, \"9\": 1}, \"34\": {\"42\": 3, \"34\": 17, \"48\": 2, \"26\": 2}, \"33\": {\"19\": 1, \"20\": 1, \"9\": 3, \"33\": 17, \"17\": 3, \"29\": 3, \"48\": 1, \"6\": 2, \"21\": 1, \"12\": 1, \"44\": 1, \"4\": 2}, \"32\": {\"46\": 4, \"32\": 18, \"43\": 1, \"5\": 1}, \"10\": {\"10\": 126, \"22\": 6, \"1\": 1, \"2\": 1, \"43\": 2}, \"46\": {\"46\": 71, \"32\": 1, \"7\": 1, \"15\": 10, \"43\": 14, \"11\": 6, \"5\": 5, \"0\": 8, \"16\": 3, \"56\": 1, \"6\": 2, \"57\": 1, \"13\": 4, \"24\": 3, \"41\": 2, \"47\": 1, \"52\": 1}, \"20\": {\"42\": 1, \"5\": 1, \"20\": 74, \"16\": 2, \"8\": 2, \"48\": 9, \"23\": 12, \"18\": 6, \"29\": 1, \"53\": 4, \"9\": 1, \"50\": 1, \"6\": 1, \"52\": 2, \"47\": 1, \"57\": 1, \"51\": 1, \"46\": 1, \"55\": 1}, \"5\": {\"5\": 62, \"47\": 3, \"46\": 3, \"41\": 2, \"43\": 1, \"3\": 2, \"56\": 1, \"18\": 1, \"23\": 4, \"16\": 16, \"54\": 6, \"52\": 1, \"49\": 2, \"6\": 4}, \"40\": {\"19\": 15, \"40\": 44, \"44\": 15, \"33\": 4, \"21\": 8, \"9\": 4, \"12\": 2, \"31\": 1, \"4\": 7, \"17\": 2, \"10\": 1, \"51\": 4, \"25\": 5, \"45\": 7, \"29\": 2, \"35\": 1, \"56\": 2}, \"51\": {\"42\": 1, \"39\": 1, \"17\": 2, \"30\": 3, \"51\": 44, \"20\": 11, \"8\": 15, \"23\": 13, \"25\": 7, \"53\": 6, \"5\": 1, \"21\": 15, \"36\": 2, \"27\": 2, \"18\": 8, \"50\": 3, \"16\": 4, \"12\": 1, \"26\": 1, \"48\": 1, \"54\": 1, \"31\": 1, \"9\": 1}, \"37\": {\"37\": 15, \"51\": 1, \"21\": 1, \"25\": 1, \"13\": 1, \"41\": 1, \"43\": 1, \"53\": 2, \"5\": 1}, \"17\": {\"27\": 14, \"9\": 2, \"50\": 2, \"17\": 23, \"21\": 5, \"35\": 1, \"52\": 1, \"8\": 7, \"51\": 5, \"53\": 3, \"47\": 1, \"42\": 2, \"36\": 1, \"25\": 1, \"26\": 1, \"4\": 4, \"3\": 1, \"54\": 1, \"57\": 1, \"12\": 2, \"55\": 1, \"29\": 1}, \"45\": {\"44\": 10, \"45\": 47, \"12\": 1, \"27\": 4, \"9\": 4, \"26\": 1, \"36\": 1, \"19\": 9, \"50\": 2, \"56\": 2, \"40\": 5, \"4\": 3, \"8\": 1, \"31\": 1, \"29\": 1, \"53\": 2, \"55\": 1, \"57\": 1}, \"13\": {\"13\": 96, \"14\": 2, \"2\": 3, \"24\": 2, \"22\": 13, \"10\": 5, \"56\": 2, \"55\": 1, \"6\": 2, \"49\": 1, \"0\": 3, \"43\": 9, \"3\": 1, \"46\": 2}, \"27\": {\"27\": 121, \"30\": 3, \"50\": 2, \"12\": 2, \"8\": 7, \"48\": 5, \"28\": 1, \"42\": 2, \"17\": 1}, \"24\": {\"24\": 55, \"43\": 1}, \"30\": {\"30\": 23, \"27\": 3, \"6\": 2, \"23\": 2, \"20\": 1, \"50\": 2, \"48\": 3, \"18\": 4, \"12\": 2, \"8\": 2}, \"31\": {\"17\": 2, \"31\": 17, \"21\": 3, \"55\": 1, \"25\": 1, \"51\": 2, \"28\": 1, \"44\": 1}, \"41\": {\"41\": 33, \"5\": 1, \"29\": 1, \"35\": 1}, \"36\": {\"36\": 86, \"54\": 3, \"6\": 1, \"20\": 2}, \"16\": {\"16\": 87, \"15\": 2, \"5\": 2, \"54\": 1, \"41\": 1, \"11\": 2, \"6\": 1}, \"22\": {\"13\": 1, \"22\": 120, \"24\": 1, \"0\": 2, \"10\": 3, \"56\": 1}, \"44\": {\"9\": 5, \"44\": 55, \"34\": 1, \"40\": 5, \"14\": 1, \"4\": 15, \"27\": 1, \"45\": 2, \"26\": 1, \"19\": 16, \"29\": 6, \"56\": 3, \"54\": 1, \"57\": 2, \"55\": 1, \"21\": 1, \"8\": 3, \"48\": 2, \"17\": 3, \"3\": 1, \"33\": 2, \"37\": 1, \"52\": 1, \"50\": 3}, \"9\": {\"9\": 65, \"12\": 5, \"20\": 2, \"4\": 16, \"50\": 9, \"56\": 5, \"21\": 5, \"57\": 1, \"8\": 5, \"25\": 6, \"3\": 2, \"27\": 3, \"45\": 1, \"6\": 3, \"19\": 3, \"55\": 5, \"17\": 1, \"44\": 2, \"29\": 1}, \"57\": {\"57\": 54, \"49\": 3, \"1\": 1, \"35\": 2, \"48\": 8, \"47\": 10, \"29\": 3, \"18\": 3, \"54\": 4, \"56\": 4, \"27\": 1, \"46\": 1, \"42\": 4, \"17\": 1, \"55\": 1}, \"8\": {\"8\": 76, \"30\": 9, \"50\": 4, \"27\": 15, \"51\": 5, \"18\": 4, \"12\": 4, \"17\": 1, \"53\": 4, \"26\": 2, \"42\": 2, \"23\": 3, \"20\": 4, \"54\": 1, \"48\": 2, \"55\": 2}, \"23\": {\"23\": 131, \"18\": 1}, \"47\": {\"47\": 113, \"1\": 2, \"54\": 1, \"57\": 2, \"5\": 2}, \"43\": {\"43\": 136, \"24\": 2}, \"49\": {\"49\": 20}, \"3\": {\"57\": 1, \"3\": 73, \"21\": 1, \"48\": 3, \"36\": 4, \"26\": 1, \"54\": 18, \"35\": 1, \"50\": 3, \"17\": 1, \"46\": 1, \"27\": 4, \"51\": 1, \"18\": 3, \"13\": 1, \"47\": 2, \"55\": 1, \"23\": 1, \"53\": 2, \"25\": 1, \"5\": 1}, \"12\": {\"12\": 37, \"30\": 7, \"54\": 3, \"8\": 12, \"27\": 10, \"36\": 5, \"50\": 5, \"53\": 2, \"48\": 1, \"6\": 6, \"18\": 2, \"51\": 1, \"13\": 1}, \"38\": {\"38\": 39, \"0\": 1}, \"7\": {\"7\": 23, \"38\": 1}, \"14\": {\"38\": 2, \"14\": 2, \"22\": 2, \"57\": 2, \"55\": 2, \"51\": 1, \"29\": 1, \"49\": 1, \"47\": 1, \"28\": 1, \"19\": 1}, \"15\": {\"15\": 131, \"35\": 1, \"52\": 4, \"16\": 1, \"11\": 8, \"3\": 1}, \"25\": {\"25\": 41, \"51\": 9, \"3\": 10, \"6\": 1, \"9\": 5, \"35\": 1, \"21\": 10, \"42\": 2, \"54\": 12, \"19\": 4, \"27\": 6, \"48\": 7, \"53\": 6, \"50\": 2, \"8\": 2, \"55\": 1, \"41\": 1, \"36\": 2, \"20\": 2, \"23\": 4}, \"26\": {\"34\": 1, \"26\": 19, \"30\": 2, \"8\": 1, \"28\": 1}, \"21\": {\"21\": 51, \"53\": 11, \"27\": 4, \"48\": 2, \"30\": 3, \"51\": 8, \"18\": 16, \"8\": 9, \"17\": 2, \"54\": 6, \"23\": 5, \"20\": 4, \"36\": 1, \"9\": 1, \"3\": 1, \"39\": 1, \"42\": 1, \"12\": 2, \"31\": 3, \"11\": 1}, \"48\": {\"48\": 83, \"56\": 1, \"28\": 1, \"35\": 1, \"23\": 8, \"42\": 3, \"54\": 5, \"5\": 3, \"8\": 3, \"27\": 3, \"18\": 6, \"3\": 10, \"34\": 1, \"57\": 2, \"26\": 2, \"36\": 2, \"12\": 2, \"50\": 1, \"25\": 1, \"55\": 2, \"47\": 2, \"20\": 2}, \"56\": {\"38\": 1, \"56\": 64, \"1\": 1, \"55\": 18, \"33\": 1, \"17\": 1, \"47\": 8, \"22\": 5, \"13\": 3, \"43\": 3, \"5\": 1, \"57\": 2, \"24\": 2, \"29\": 6, \"3\": 1, \"48\": 2, \"46\": 7, \"35\": 1, \"2\": 1, \"6\": 1, \"21\": 1, \"10\": 2, \"9\": 2}, \"11\": {\"15\": 17, \"11\": 81, \"52\": 2, \"43\": 1, \"16\": 1, \"46\": 1, \"41\": 1}, \"2\": {\"2\": 36}, \"6\": {\"32\": 1, \"3\": 9, \"8\": 1, \"6\": 47, \"39\": 1, \"35\": 2, \"5\": 1, \"54\": 18, \"47\": 5, \"46\": 2, \"36\": 14, \"55\": 3, \"53\": 2, \"42\": 1, \"18\": 1, \"20\": 2, \"50\": 2}, \"55\": {\"55\": 59, \"50\": 2, \"35\": 3, \"34\": 1, \"6\": 4, \"56\": 9, \"47\": 4, \"3\": 19, \"5\": 3, \"57\": 3, \"23\": 1, \"29\": 3, \"51\": 1, \"12\": 1, \"13\": 8, \"48\": 5, \"46\": 2, \"27\": 1, \"42\": 1, \"14\": 1, \"53\": 2, \"43\": 2, \"21\": 1, \"54\": 1, \"25\": 2, \"52\": 1}, \"54\": {\"54\": 101, \"6\": 4, \"3\": 3}, \"29\": {\"29\": 39, \"55\": 5, \"50\": 7, \"28\": 3, \"8\": 1, \"26\": 1, \"9\": 4, \"42\": 2, \"25\": 1, \"47\": 3, \"51\": 2, \"33\": 2, \"4\": 7, \"17\": 3, \"12\": 2, \"44\": 5, \"27\": 2, \"57\": 7, \"3\": 4, \"56\": 4, \"54\": 1, \"48\": 9, \"23\": 2, \"35\": 5, \"14\": 1, \"6\": 1, \"18\": 1}, \"50\": {\"51\": 3, \"55\": 6, \"8\": 10, \"57\": 2, \"50\": 26, \"30\": 1, \"36\": 3, \"54\": 7, \"17\": 3, \"27\": 17, \"12\": 7, \"3\": 14, \"29\": 2, \"48\": 4, \"21\": 1, \"53\": 3, \"25\": 4, \"34\": 2, \"35\": 1, \"18\": 1, \"6\": 2, \"56\": 2, \"20\": 1}, \"52\": {\"52\": 113, \"11\": 2, \"15\": 1}, \"35\": {\"35\": 27, \"54\": 3, \"4\": 1, \"57\": 1, \"50\": 1, \"55\": 1, \"3\": 2, \"6\": 2, \"56\": 2}, \"4\": {\"51\": 2, \"4\": 40, \"6\": 1, \"33\": 3, \"23\": 1, \"9\": 20, \"36\": 1, \"29\": 7, \"27\": 7, \"8\": 1, \"48\": 4, \"55\": 2, \"56\": 9, \"50\": 7, \"57\": 3, \"44\": 1, \"19\": 5, \"3\": 1, \"53\": 1, \"14\": 1, \"35\": 2, \"16\": 1}, \"18\": {\"18\": 103, \"23\": 5}}, \"C_5\": {\"43\": {\"43\": 144, \"49\": 1, \"11\": 1, \"47\": 1, \"36\": 2, \"15\": 1, \"46\": 1, \"54\": 1}, \"35\": {\"35\": 36}, \"54\": {\"54\": 112}, \"22\": {\"28\": 7, \"44\": 2, \"14\": 1, \"9\": 2, \"22\": 5, \"19\": 2, \"29\": 2, \"34\": 1, \"42\": 2, \"24\": 1, \"36\": 1, \"41\": 2}, \"16\": {\"16\": 143, \"47\": 1, \"23\": 2}, \"5\": {\"5\": 80, \"19\": 3, \"4\": 14, \"22\": 2, \"45\": 2, \"40\": 6, \"29\": 8, \"27\": 1, \"44\": 5, \"9\": 2, \"33\": 2, \"30\": 1, \"48\": 2}, \"28\": {\"22\": 2, \"28\": 23, \"48\": 1, \"34\": 1, \"50\": 4, \"29\": 1}, \"14\": {\"43\": 1, \"14\": 9, \"35\": 1, \"21\": 2, \"48\": 2, \"47\": 4, \"1\": 4, \"34\": 1, \"11\": 1, \"25\": 1, \"24\": 4, \"3\": 2, \"29\": 1, \"6\": 1, \"2\": 1, \"42\": 1, \"0\": 1, \"50\": 2, \"49\": 1, \"13\": 1, \"55\": 1, \"28\": 2}, \"51\": {\"16\": 5, \"51\": 71, \"20\": 22, \"41\": 1, \"6\": 4, \"48\": 1, \"53\": 9, \"44\": 1, \"8\": 5, \"1\": 2, \"12\": 1, \"18\": 2, \"23\": 3, \"21\": 1}, \"19\": {\"19\": 98, \"22\": 1, \"29\": 6, \"40\": 1, \"32\": 1, \"53\": 1, \"44\": 6, \"55\": 2, \"9\": 5, \"50\": 3, \"48\": 1, \"1\": 1, \"25\": 2, \"27\": 4, \"45\": 4, \"21\": 2, \"12\": 1, \"47\": 1}, \"31\": {\"31\": 35, \"0\": 1}, \"10\": {\"10\": 61, \"24\": 4, \"56\": 3}, \"21\": {\"16\": 13, \"14\": 1, \"21\": 56, \"23\": 6, \"25\": 8, \"20\": 25, \"37\": 2, \"52\": 7, \"54\": 2, \"51\": 5, \"43\": 2, \"8\": 1, \"11\": 1, \"53\": 2, \"15\": 1, \"50\": 1, \"9\": 2, \"6\": 1}, \"3\": {\"3\": 55, \"43\": 1, \"36\": 3, \"49\": 6, \"47\": 2, \"24\": 4, \"56\": 9, \"13\": 3, \"0\": 5, \"46\": 4, \"42\": 1, \"52\": 2, \"16\": 3, \"54\": 1, \"23\": 1}, \"57\": {\"57\": 127, \"47\": 3, \"14\": 1, \"54\": 1}, \"9\": {\"22\": 1, \"9\": 28, \"30\": 16, \"32\": 1, \"5\": 2, \"48\": 14, \"44\": 2, \"17\": 10, \"51\": 1, \"8\": 2, \"33\": 2, \"1\": 14, \"50\": 11, \"12\": 2, \"27\": 15, \"21\": 3, \"52\": 1, \"36\": 1, \"53\": 3, \"55\": 2, \"4\": 2, \"25\": 1, \"6\": 3, \"57\": 2, \"19\": 2, \"34\": 1, \"28\": 1, \"18\": 1, \"29\": 2}, \"8\": {\"8\": 107, \"48\": 1, \"55\": 1, \"18\": 4, \"53\": 3, \"20\": 3, \"17\": 1, \"1\": 5, \"6\": 4, \"30\": 2, \"9\": 1}, \"46\": {\"46\": 110, \"3\": 7, \"2\": 1, \"36\": 1, \"14\": 1, \"16\": 8, \"47\": 1, \"56\": 3, \"31\": 1, \"13\": 1, \"23\": 1, \"52\": 2, \"11\": 3}, \"23\": {\"23\": 120, \"20\": 2, \"16\": 1, \"29\": 1}, \"37\": {\"37\": 21, \"21\": 1, \"25\": 1, \"41\": 1}, \"34\": {\"34\": 35, \"1\": 1}, \"4\": {\"5\": 18, \"4\": 54, \"44\": 3, \"22\": 2, \"12\": 1, \"45\": 3, \"23\": 3, \"17\": 2, \"55\": 1, \"19\": 3, \"40\": 3, \"29\": 3, \"33\": 1, \"51\": 1, \"9\": 1, \"21\": 1}, \"6\": {\"48\": 9, \"6\": 55, \"38\": 2, \"1\": 12, \"53\": 9, \"8\": 12, \"54\": 6, \"20\": 4, \"17\": 2, \"9\": 2, \"30\": 4, \"57\": 2, \"50\": 6, \"35\": 1, \"29\": 1, \"27\": 1}, \"48\": {\"8\": 6, \"6\": 7, \"48\": 50, \"17\": 5, \"32\": 1, \"57\": 2, \"30\": 2, \"7\": 1, \"1\": 38, \"4\": 1, \"50\": 7, \"18\": 2, \"33\": 1, \"12\": 1, \"45\": 1, \"9\": 3, \"53\": 3, \"27\": 3, \"40\": 1, \"29\": 1}, \"44\": {\"44\": 59, \"22\": 2, \"28\": 2, \"48\": 3, \"57\": 3, \"30\": 3, \"9\": 11, \"34\": 2, \"14\": 2, \"1\": 3, \"27\": 8, \"29\": 6, \"50\": 9, \"36\": 2, \"19\": 3, \"45\": 5, \"55\": 3, \"33\": 4, \"4\": 1, \"40\": 3, \"17\": 3, \"47\": 1}, \"40\": {\"5\": 24, \"44\": 8, \"40\": 47, \"33\": 2, \"4\": 11, \"50\": 1, \"19\": 7, \"21\": 1, \"51\": 2, \"29\": 7, \"12\": 2, \"52\": 2, \"9\": 5, \"22\": 1, \"25\": 3, \"48\": 1}, \"12\": {\"12\": 32, \"6\": 8, \"30\": 9, \"38\": 5, \"17\": 9, \"48\": 3, \"32\": 1, \"1\": 5, \"13\": 1, \"8\": 4, \"18\": 2, \"53\": 6, \"47\": 1, \"37\": 1, \"29\": 1, \"26\": 1, \"51\": 4, \"9\": 1, \"54\": 1, \"21\": 1}, \"30\": {\"6\": 9, \"30\": 66, \"33\": 1, \"26\": 1, \"17\": 12, \"48\": 6, \"7\": 1, \"1\": 8, \"8\": 11, \"27\": 6, \"53\": 3, \"32\": 1, \"9\": 3}, \"39\": {\"39\": 20}, \"45\": {\"45\": 24, \"9\": 6, \"30\": 5, \"26\": 3, \"17\": 12, \"35\": 1, \"36\": 4, \"55\": 4, \"1\": 5, \"34\": 2, \"19\": 5, \"6\": 7, \"50\": 10, \"48\": 5, \"4\": 4, \"27\": 7, \"54\": 1, \"53\": 5, \"29\": 2, \"22\": 1, \"42\": 1, \"28\": 3, \"32\": 1, \"14\": 1, \"44\": 2, \"51\": 1, \"5\": 2}, \"36\": {\"36\": 91, \"35\": 1}, \"27\": {\"27\": 70, \"30\": 8, \"9\": 10, \"57\": 4, \"17\": 10, \"48\": 10, \"14\": 1, \"50\": 5, \"1\": 8, \"8\": 2, \"44\": 1, \"45\": 3, \"53\": 2, \"32\": 2, \"28\": 2, \"25\": 2}, \"32\": {\"32\": 22, \"1\": 4, \"30\": 3, \"17\": 1, \"8\": 2}, \"52\": {\"52\": 130}, \"0\": {\"0\": 106, \"49\": 3, \"3\": 3, \"24\": 2, \"31\": 1, \"11\": 1, \"56\": 2, \"43\": 3, \"46\": 2, \"52\": 1}, \"26\": {\"26\": 21, \"7\": 2, \"30\": 1}, \"1\": {\"1\": 114, \"6\": 4, \"48\": 7, \"53\": 1, \"17\": 2, \"8\": 9, \"23\": 2, \"27\": 2, \"57\": 2, \"30\": 1, \"19\": 2, \"18\": 1, \"16\": 1}, \"53\": {\"53\": 98, \"41\": 4, \"7\": 2, \"30\": 4, \"1\": 5, \"8\": 10, \"9\": 1, \"40\": 1, \"12\": 1, \"6\": 5, \"17\": 1, \"50\": 2, \"51\": 5, \"48\": 2, \"33\": 1, \"18\": 2, \"19\": 1, \"25\": 1}, \"25\": {\"53\": 5, \"45\": 6, \"44\": 1, \"25\": 40, \"26\": 1, \"54\": 12, \"47\": 1, \"38\": 5, \"6\": 12, \"57\": 3, \"50\": 14, \"21\": 8, \"14\": 1, \"18\": 2, \"20\": 1, \"9\": 6, \"23\": 1, \"1\": 5, \"19\": 2, \"30\": 2, \"12\": 2, \"42\": 2, \"29\": 1, \"8\": 5, \"40\": 1, \"4\": 1, \"17\": 1, \"48\": 1, \"27\": 1, \"51\": 1}, \"24\": {\"24\": 80}, \"7\": {\"53\": 3, \"20\": 2, \"26\": 2, \"8\": 6, \"7\": 14, \"50\": 1, \"6\": 1, \"23\": 1, \"38\": 1, \"18\": 1}, \"18\": {\"18\": 63, \"6\": 1}, \"20\": {\"18\": 4, \"20\": 125, \"17\": 2, \"8\": 2, \"51\": 4, \"23\": 5, \"48\": 2}, \"33\": {\"45\": 1, \"9\": 1, \"22\": 2, \"34\": 1, \"48\": 1, \"33\": 14, \"27\": 1, \"17\": 4, \"50\": 1, \"44\": 2, \"29\": 1, \"32\": 2, \"30\": 1}, \"55\": {\"55\": 53, \"33\": 2, \"28\": 3, \"44\": 1, \"18\": 1, \"54\": 2, \"6\": 5, \"56\": 1, \"21\": 3, \"50\": 14, \"29\": 1, \"8\": 2, \"48\": 6, \"17\": 4, \"9\": 4, \"36\": 3, \"1\": 5, \"13\": 3, \"27\": 7, \"25\": 2, \"30\": 7, \"45\": 9, \"7\": 1, \"12\": 1}, \"41\": {\"41\": 27, \"42\": 1}, \"42\": {\"42\": 35, \"11\": 1, \"41\": 1, \"54\": 1, \"6\": 2}, \"49\": {\"49\": 35, \"3\": 1}, \"13\": {\"13\": 128, \"23\": 1, \"56\": 8, \"21\": 2, \"10\": 3, \"43\": 2, \"24\": 1, \"33\": 1, \"36\": 1, \"47\": 1}, \"38\": {\"38\": 27, \"6\": 4, \"8\": 1}, \"2\": {\"2\": 26, \"56\": 2}, \"47\": {\"47\": 95, \"52\": 2, \"43\": 2, \"54\": 1}, \"17\": {\"17\": 64, \"8\": 5, \"32\": 3, \"7\": 2, \"30\": 8, \"1\": 15, \"53\": 3, \"38\": 2, \"6\": 3, \"27\": 4, \"9\": 2, \"50\": 1, \"33\": 1, \"48\": 3}, \"11\": {\"11\": 128, \"15\": 14, \"52\": 6, \"16\": 2, \"43\": 3, \"35\": 1}, \"29\": {\"19\": 11, \"28\": 2, \"29\": 55, \"27\": 6, \"22\": 2, \"30\": 2, \"4\": 1, \"23\": 1, \"36\": 2, \"9\": 4, \"44\": 11, \"34\": 2, \"48\": 7, \"50\": 4, \"47\": 6, \"21\": 1, \"1\": 1, \"5\": 2, \"40\": 3, \"55\": 1, \"57\": 2, \"8\": 1, \"12\": 1, \"45\": 1, \"20\": 1, \"6\": 1, \"25\": 1}, \"50\": {\"33\": 1, \"7\": 1, \"50\": 32, \"14\": 2, \"36\": 6, \"26\": 2, \"47\": 3, \"53\": 8, \"17\": 6, \"42\": 2, \"57\": 3, \"27\": 11, \"48\": 10, \"9\": 5, \"6\": 8, \"1\": 7, \"55\": 6, \"44\": 4, \"25\": 2, \"54\": 4, \"34\": 1, \"43\": 1, \"28\": 2, \"51\": 1, \"3\": 1, \"21\": 2, \"20\": 2, \"45\": 2, \"8\": 1, \"30\": 2}, \"56\": {\"56\": 139, \"2\": 1, \"14\": 1, \"24\": 4, \"0\": 1, \"36\": 1, \"43\": 1}, \"15\": {\"15\": 134, \"11\": 6, \"16\": 2}}, \"C_2\": {\"49\": {\"49\": 23, \"50\": 1}, \"13\": {\"38\": 4, \"56\": 4, \"10\": 6, \"24\": 18, \"55\": 3, \"13\": 41, \"3\": 2, \"52\": 2, \"11\": 2, \"28\": 1, \"25\": 1, \"21\": 5, \"53\": 1, \"43\": 10, \"40\": 1, \"27\": 1, \"46\": 7, \"5\": 3, \"51\": 2, \"19\": 1, \"9\": 1}, \"37\": {\"37\": 25, \"41\": 1, \"52\": 2, \"25\": 2, \"33\": 1, \"13\": 3, \"53\": 2}, \"41\": {\"41\": 20}, \"15\": {\"15\": 140, \"11\": 1, \"52\": 1}, \"56\": {\"56\": 116, \"22\": 14, \"24\": 5, \"43\": 4, \"13\": 2, \"14\": 1}, \"14\": {\"38\": 4, \"56\": 5, \"14\": 5, \"24\": 1, \"13\": 1, \"42\": 1, \"3\": 2, \"29\": 1, \"43\": 2, \"31\": 2}, \"3\": {\"14\": 1, \"37\": 1, \"41\": 1, \"17\": 1, \"57\": 2, \"3\": 21, \"54\": 8, \"20\": 1, \"29\": 4, \"6\": 5, \"47\": 2, \"25\": 1, \"48\": 7, \"50\": 6, \"52\": 1, \"10\": 1, \"36\": 2, \"46\": 5, \"27\": 1, \"13\": 4, \"42\": 2, \"2\": 1, \"32\": 3, \"8\": 3, \"39\": 1, \"12\": 2, \"21\": 1, \"51\": 2, \"9\": 1, \"16\": 1}, \"38\": {\"38\": 20}, \"43\": {\"43\": 138}, \"33\": {\"3\": 3, \"4\": 1, \"34\": 2, \"33\": 8, \"42\": 4, \"13\": 1, \"27\": 1, \"47\": 2, \"5\": 1, \"9\": 1, \"19\": 1, \"55\": 2, \"49\": 1}, \"47\": {\"47\": 123, \"46\": 2, \"6\": 2, \"48\": 5, \"43\": 1, \"31\": 1, \"52\": 1, \"5\": 2, \"16\": 1}, \"30\": {\"30\": 131, \"50\": 1, \"16\": 1, \"42\": 1, \"18\": 6, \"23\": 3, \"25\": 1}, \"39\": {\"39\": 28}, \"12\": {\"6\": 3, \"12\": 54, \"8\": 5, \"36\": 9, \"42\": 1, \"50\": 2, \"55\": 3, \"30\": 1, \"20\": 2, \"27\": 1, \"53\": 4, \"26\": 1, \"17\": 1, \"54\": 4, \"46\": 1}, \"6\": {\"6\": 78, \"47\": 1, \"3\": 3, \"28\": 1, \"46\": 18, \"48\": 7, \"30\": 5, \"16\": 2, \"8\": 2, \"13\": 1, \"23\": 2, \"18\": 2, \"36\": 1, \"24\": 1}, \"51\": {\"8\": 9, \"20\": 10, \"51\": 48, \"27\": 5, \"30\": 11, \"18\": 5, \"32\": 1, \"3\": 3, \"21\": 6, \"17\": 1, \"50\": 11, \"53\": 9, \"12\": 5, \"25\": 5, \"26\": 1, \"36\": 1, \"13\": 2, \"55\": 1}, \"5\": {\"5\": 96, \"46\": 3, \"0\": 1, \"6\": 1, \"47\": 1, \"23\": 3, \"1\": 4, \"48\": 2, \"57\": 3, \"55\": 2, \"24\": 1, \"16\": 3}, \"34\": {\"34\": 25, \"2\": 2, \"48\": 1}, \"35\": {\"35\": 29, \"33\": 1, \"45\": 1, \"25\": 1}, \"0\": {\"0\": 48}, \"7\": {\"7\": 36}, \"24\": {\"24\": 95, \"38\": 1}, \"8\": {\"36\": 5, \"8\": 94, \"32\": 2, \"27\": 9, \"30\": 1, \"20\": 6, \"17\": 2, \"48\": 2, \"50\": 6, \"23\": 1, \"12\": 1, \"53\": 3, \"18\": 1, \"51\": 3}, \"20\": {\"8\": 14, \"50\": 5, \"20\": 60, \"6\": 2, \"53\": 10, \"27\": 5, \"30\": 10, \"51\": 6, \"12\": 7, \"32\": 1, \"21\": 2, \"17\": 1, \"18\": 1}, \"36\": {\"36\": 115, \"12\": 1}, \"42\": {\"34\": 2, \"57\": 2, \"46\": 2, \"42\": 14, \"54\": 1, \"2\": 1, \"55\": 5, \"31\": 2, \"49\": 2, \"28\": 1, \"3\": 1, \"1\": 1, \"39\": 1, \"23\": 1}, \"1\": {\"1\": 107, \"57\": 1, \"16\": 1, \"48\": 1, \"15\": 1, \"24\": 1}, \"4\": {\"4\": 91, \"19\": 10, \"45\": 5, \"55\": 5, \"42\": 1, \"44\": 1, \"29\": 4, \"53\": 2, \"54\": 1, \"3\": 3, \"9\": 8, \"17\": 1, \"13\": 1, \"27\": 1, \"50\": 1, \"20\": 3, \"32\": 1, \"22\": 1, \"25\": 1, \"1\": 1, \"56\": 1, \"30\": 1, \"40\": 2, \"8\": 1, \"57\": 1}, \"28\": {\"28\": 28}, \"50\": {\"50\": 72, \"8\": 9, \"17\": 3, \"41\": 2, \"27\": 9, \"48\": 7, \"6\": 5, \"23\": 1, \"53\": 4, \"57\": 1, \"36\": 2, \"30\": 3, \"20\": 2, \"2\": 1, \"49\": 2, \"26\": 1, \"21\": 2, \"54\": 3, \"18\": 4, \"3\": 1, \"51\": 1, \"1\": 1}, \"45\": {\"42\": 3, \"35\": 1, \"54\": 2, \"22\": 1, \"4\": 19, \"3\": 4, \"40\": 11, \"45\": 34, \"46\": 1, \"25\": 4, \"53\": 7, \"20\": 4, \"19\": 7, \"29\": 4, \"47\": 1, \"55\": 3, \"44\": 5, \"17\": 2, \"51\": 2, \"6\": 2, \"52\": 1, \"2\": 1, \"1\": 1, \"56\": 1, \"57\": 1, \"27\": 1, \"30\": 2, \"9\": 1, \"13\": 1, \"8\": 1}, \"18\": {\"18\": 42, \"30\": 6}, \"57\": {\"57\": 109, \"1\": 3, \"23\": 1, \"48\": 6, \"30\": 1}, \"46\": {\"7\": 4, \"57\": 2, \"54\": 1, \"49\": 1, \"6\": 19, \"2\": 3, \"34\": 1, \"46\": 62, \"21\": 1, \"47\": 5, \"3\": 1, \"15\": 1, \"5\": 4, \"23\": 4, \"50\": 3, \"43\": 2, \"48\": 2, \"16\": 4, \"24\": 1, \"41\": 2, \"28\": 1, \"17\": 1, \"22\": 1, \"52\": 1, \"30\": 1}, \"23\": {\"23\": 147, \"18\": 1}, \"27\": {\"27\": 118, \"54\": 1, \"20\": 1, \"8\": 11, \"17\": 5, \"50\": 2}, \"19\": {\"19\": 70, \"3\": 2, \"42\": 2, \"4\": 19, \"45\": 3, \"57\": 2, \"33\": 2, \"56\": 1, \"9\": 10, \"17\": 2, \"40\": 2, \"50\": 3, \"29\": 5, \"48\": 1, \"44\": 1, \"8\": 1, \"13\": 5, \"25\": 1, \"51\": 1, \"15\": 1}, \"22\": {\"22\": 122, \"56\": 11, \"24\": 1, \"43\": 2}, \"17\": {\"17\": 65, \"8\": 6, \"48\": 3, \"27\": 12, \"57\": 4, \"30\": 2, \"3\": 1, \"54\": 2, \"50\": 7, \"13\": 2}, \"55\": {\"1\": 11, \"31\": 8, \"14\": 1, \"55\": 48, \"23\": 2, \"28\": 3, \"47\": 17, \"21\": 3, \"42\": 2, \"46\": 8, \"22\": 7, \"13\": 2, \"3\": 2, \"24\": 4, \"56\": 7, \"17\": 2, \"54\": 1, \"50\": 1, \"20\": 1, \"6\": 3, \"5\": 1, \"57\": 1, \"43\": 1}, \"44\": {\"44\": 52, \"35\": 2, \"9\": 5, \"12\": 1, \"40\": 3, \"37\": 1, \"4\": 14, \"33\": 2, \"19\": 3, \"29\": 7, \"55\": 1, \"3\": 1, \"14\": 1, \"45\": 2, \"57\": 1, \"6\": 1, \"53\": 2, \"54\": 1}, \"26\": {\"26\": 24}, \"31\": {\"31\": 28}, \"16\": {\"16\": 128, \"15\": 1, \"48\": 1}, \"11\": {\"11\": 122, \"15\": 5, \"16\": 1}, \"25\": {\"54\": 19, \"3\": 4, \"25\": 20, \"27\": 4, \"48\": 2, \"49\": 2, \"36\": 9, \"50\": 10, \"26\": 3, \"12\": 3, \"45\": 3, \"17\": 3, \"20\": 6, \"9\": 5, \"57\": 2, \"53\": 2, \"6\": 7, \"21\": 2, \"51\": 3, \"29\": 2, \"55\": 3, \"47\": 1, \"13\": 2, \"42\": 1, \"14\": 1, \"56\": 1, \"4\": 3, \"46\": 1, \"30\": 1, \"8\": 1}, \"54\": {\"54\": 97, \"26\": 2, \"53\": 1, \"36\": 3, \"6\": 1, \"48\": 1, \"12\": 3}, \"32\": {\"32\": 25, \"17\": 3}, \"52\": {\"52\": 118, \"15\": 3, \"23\": 2, \"46\": 1}, \"40\": {\"40\": 53, \"4\": 9, \"34\": 1, \"51\": 7, \"29\": 4, \"37\": 2, \"44\": 11, \"13\": 5, \"35\": 2, \"45\": 15, \"55\": 1, \"25\": 3, \"19\": 12, \"9\": 3, \"5\": 1, \"50\": 2, \"10\": 1}, \"2\": {\"2\": 30, \"34\": 1, \"49\": 1}, \"10\": {\"10\": 108, \"22\": 1, \"43\": 1}, \"53\": {\"53\": 60, \"26\": 1, \"30\": 2, \"54\": 8, \"18\": 3, \"50\": 15, \"12\": 17, \"57\": 1, \"20\": 8, \"29\": 1, \"48\": 1, \"8\": 8, \"51\": 3, \"36\": 1, \"42\": 1, \"25\": 1, \"27\": 4, \"17\": 1}, \"9\": {\"4\": 11, \"9\": 68, \"32\": 1, \"19\": 14, \"20\": 3, \"29\": 16, \"52\": 4, \"27\": 3, \"22\": 4, \"3\": 3, \"25\": 6, \"13\": 2, \"8\": 2, \"1\": 2, \"33\": 1, \"2\": 1, \"37\": 1, \"45\": 3, \"56\": 1, \"21\": 1, \"55\": 2, \"51\": 1}, \"21\": {\"21\": 107, \"15\": 2, \"48\": 1, \"16\": 3, \"47\": 1, \"46\": 2, \"52\": 4}, \"48\": {\"6\": 4, \"23\": 4, \"48\": 112, \"0\": 1, \"17\": 1, \"57\": 5, \"46\": 2, \"1\": 4, \"5\": 3, \"50\": 1, \"16\": 1}, \"29\": {\"32\": 1, \"9\": 10, \"55\": 7, \"47\": 2, \"29\": 58, \"20\": 3, \"19\": 6, \"36\": 1, \"33\": 1, \"25\": 7, \"57\": 1, \"8\": 4, \"17\": 2, \"53\": 3, \"56\": 2, \"48\": 1, \"1\": 6, \"4\": 2, \"50\": 1, \"22\": 1, \"13\": 1, \"27\": 3, \"3\": 1, \"52\": 1, \"12\": 2, \"5\": 1}}, \"C_1\": {\"9\": {\"9\": 142}, \"25\": {\"17\": 7, \"41\": 2, \"34\": 4, \"3\": 3, \"25\": 41, \"30\": 9, \"13\": 2, \"7\": 2, \"8\": 6, \"33\": 1, \"5\": 22, \"51\": 2, \"45\": 4, \"53\": 5, \"20\": 6, \"55\": 1, \"19\": 1, \"57\": 1, \"48\": 3, \"37\": 2, \"12\": 1, \"1\": 1, \"56\": 2}, \"41\": {\"17\": 3, \"16\": 1, \"53\": 1, \"20\": 1, \"41\": 9, \"57\": 1, \"30\": 1, \"51\": 2, \"13\": 2, \"2\": 2, \"50\": 1}, \"29\": {\"29\": 97, \"57\": 5, \"40\": 6, \"51\": 1, \"56\": 8, \"20\": 1, \"4\": 8, \"19\": 3, \"46\": 7, \"44\": 2, \"27\": 1, \"47\": 1}, \"46\": {\"46\": 36, \"50\": 8, \"30\": 4, \"56\": 8, \"5\": 17, \"44\": 5, \"6\": 4, \"48\": 9, \"57\": 6, \"35\": 1, \"55\": 1, \"8\": 5, \"51\": 3, \"47\": 4, \"13\": 1, \"16\": 1, \"29\": 1, \"17\": 4, \"38\": 1, \"1\": 3, \"41\": 1, \"9\": 3, \"45\": 1, \"3\": 1}, \"4\": {\"4\": 97, \"57\": 5, \"40\": 9, \"19\": 3, \"51\": 1, \"56\": 4, \"47\": 1, \"46\": 2, \"29\": 4, \"20\": 1, \"44\": 1, \"1\": 2, \"43\": 1, \"3\": 1}, \"31\": {\"31\": 24, \"49\": 1, \"24\": 1, \"52\": 1, \"38\": 1}, \"36\": {\"36\": 62, \"7\": 1, \"23\": 1}, \"20\": {\"36\": 6, \"20\": 44, \"13\": 12, \"51\": 12, \"12\": 12, \"54\": 5, \"16\": 17, \"44\": 1, \"55\": 1, \"30\": 1, \"5\": 6, \"53\": 2, \"23\": 2, \"7\": 2, \"18\": 2, \"45\": 1, \"21\": 1, \"25\": 1}, \"7\": {\"7\": 28}, \"6\": {\"6\": 76, \"2\": 3, \"48\": 2, \"8\": 7, \"30\": 5, \"5\": 1, \"53\": 1, \"50\": 1}, \"16\": {\"16\": 137, \"12\": 1}, \"17\": {\"17\": 56, \"6\": 2, \"8\": 2, \"30\": 3, \"50\": 1}, \"50\": {\"50\": 104, \"48\": 13, \"46\": 1, \"53\": 5, \"8\": 9, \"30\": 7, \"6\": 7, \"44\": 1, \"2\": 1}, \"57\": {\"9\": 2, \"57\": 41, \"50\": 6, \"48\": 4, \"56\": 20, \"46\": 1, \"44\": 16, \"19\": 14, \"29\": 4, \"8\": 5, \"42\": 1, \"47\": 8, \"45\": 5, \"1\": 8, \"5\": 2, \"51\": 1, \"25\": 2, \"30\": 2, \"53\": 1, \"13\": 1}, \"23\": {\"23\": 136}, \"3\": {\"51\": 7, \"3\": 58, \"41\": 2, \"14\": 2, \"27\": 5, \"19\": 2, \"13\": 4, \"30\": 1, \"34\": 1, \"28\": 1, \"55\": 4, \"20\": 3, \"36\": 1, \"12\": 3, \"46\": 2, \"42\": 1, \"24\": 1, \"57\": 2, \"47\": 3, \"56\": 2, \"29\": 2, \"53\": 3, \"16\": 1, \"25\": 5, \"33\": 1, \"48\": 2, \"17\": 1, \"35\": 1, \"1\": 2, \"45\": 1, \"22\": 1, \"44\": 1}, \"53\": {\"53\": 86, \"2\": 3, \"17\": 2, \"37\": 1, \"51\": 3, \"48\": 4, \"30\": 12, \"20\": 2, \"8\": 10, \"9\": 3, \"5\": 3, \"6\": 4, \"18\": 4, \"13\": 2, \"36\": 1}, \"49\": {\"49\": 28, \"39\": 1, \"24\": 1, \"22\": 2}, \"56\": {\"57\": 9, \"45\": 26, \"17\": 6, \"42\": 5, \"47\": 17, \"2\": 1, \"56\": 32, \"44\": 11, \"27\": 1, \"1\": 11, \"19\": 12, \"46\": 2, \"30\": 5, \"25\": 3, \"6\": 1, \"43\": 1, \"37\": 2, \"35\": 2, \"5\": 4, \"8\": 1}, \"51\": {\"12\": 11, \"57\": 1, \"18\": 9, \"16\": 22, \"2\": 2, \"20\": 14, \"13\": 7, \"51\": 53, \"53\": 4, \"14\": 1, \"6\": 2, \"9\": 5, \"8\": 1, \"41\": 2, \"21\": 1, \"5\": 3, \"36\": 1, \"25\": 2, \"19\": 1}, \"26\": {\"26\": 24}, \"43\": {\"43\": 144}, \"22\": {\"22\": 121, \"24\": 11, \"38\": 1, \"52\": 2, \"43\": 1}, \"45\": {\"45\": 141, \"42\": 3, \"36\": 1, \"14\": 1}, \"13\": {\"13\": 47, \"3\": 13, \"18\": 2, \"41\": 1, \"33\": 3, \"53\": 17, \"26\": 1, \"30\": 6, \"2\": 3, \"48\": 7, \"5\": 14, \"51\": 11, \"47\": 1, \"12\": 4, \"8\": 1, \"16\": 4, \"20\": 8, \"50\": 2, \"25\": 3, \"19\": 1, \"17\": 1, \"55\": 2}, \"12\": {\"12\": 101, \"16\": 5, \"51\": 1, \"20\": 2, \"56\": 1, \"23\": 1, \"5\": 2, \"36\": 3}, \"54\": {\"54\": 104}, \"24\": {\"24\": 96, \"39\": 2, \"22\": 9, \"49\": 1}, \"44\": {\"47\": 20, \"44\": 47, \"35\": 3, \"1\": 12, \"42\": 4, \"57\": 8, \"19\": 8, \"7\": 1, \"27\": 2, \"56\": 8, \"30\": 2, \"45\": 9, \"8\": 1, \"29\": 2, \"3\": 1, \"33\": 2, \"48\": 2, \"17\": 2, \"20\": 1, \"13\": 1}, \"28\": {\"28\": 22, \"39\": 2, \"24\": 2, \"52\": 2}, \"33\": {\"33\": 31, \"34\": 1}, \"38\": {\"38\": 24}, \"0\": {\"0\": 143, \"54\": 1}, \"47\": {\"47\": 80, \"27\": 23, \"56\": 4, \"42\": 2, \"32\": 4, \"35\": 5, \"45\": 10, \"43\": 6, \"1\": 1, \"46\": 1, \"54\": 5, \"44\": 6, \"19\": 4, \"21\": 1, \"15\": 1, \"22\": 1}, \"42\": {\"42\": 35, \"55\": 1, \"45\": 3, \"2\": 1}, \"34\": {\"34\": 24}, \"48\": {\"2\": 6, \"48\": 70, \"8\": 16, \"30\": 3, \"44\": 3, \"50\": 16, \"17\": 8, \"46\": 2, \"6\": 6, \"53\": 8, \"5\": 2, \"47\": 1, \"56\": 1}, \"35\": {\"35\": 17, \"37\": 2, \"55\": 1, \"44\": 1, \"47\": 2, \"33\": 1, \"27\": 4, \"57\": 3, \"45\": 2, \"56\": 1, \"19\": 1, \"50\": 1}, \"2\": {\"2\": 32, \"48\": 1, \"5\": 1, \"6\": 2}, \"30\": {\"18\": 1, \"30\": 108, \"8\": 2, \"19\": 1, \"44\": 1, \"50\": 2, \"26\": 1, \"5\": 4}, \"18\": {\"18\": 72}, \"37\": {\"37\": 24, \"51\": 1, \"7\": 2, \"55\": 2, \"54\": 1, \"34\": 1, \"53\": 1}, \"1\": {\"45\": 12, \"19\": 11, \"44\": 11, \"1\": 21, \"57\": 9, \"42\": 1, \"8\": 5, \"17\": 3, \"5\": 2, \"30\": 2, \"48\": 2, \"47\": 4, \"25\": 2, \"6\": 4, \"46\": 3, \"35\": 2, \"32\": 1, \"56\": 5}, \"11\": {\"11\": 124, \"23\": 4, \"21\": 4, \"15\": 4, \"10\": 2}, \"55\": {\"34\": 1, \"55\": 115, \"7\": 2, \"22\": 5, \"28\": 1, \"33\": 2, \"54\": 1, \"32\": 1, \"39\": 2}, \"15\": {\"15\": 132, \"23\": 5, \"21\": 13}, \"10\": {\"10\": 80, \"21\": 1, \"11\": 8, \"27\": 1, \"43\": 3, \"52\": 1, \"15\": 2}, \"27\": {\"27\": 159, \"52\": 1}, \"19\": {\"19\": 38, \"48\": 2, \"45\": 17, \"1\": 8, \"6\": 1, \"17\": 7, \"30\": 10, \"35\": 3, \"44\": 7, \"56\": 11, \"18\": 2, \"57\": 8, \"51\": 2, \"47\": 9, \"25\": 4, \"50\": 3, \"8\": 7, \"33\": 1, \"2\": 1, \"5\": 3, \"46\": 1, \"9\": 1}, \"14\": {\"30\": 6, \"14\": 11, \"53\": 1, \"18\": 1, \"2\": 3, \"12\": 1, \"8\": 1}, \"8\": {\"30\": 13, \"8\": 104, \"17\": 4, \"6\": 3, \"48\": 7, \"53\": 4, \"9\": 1, \"50\": 2, \"5\": 1, \"45\": 1}, \"5\": {\"5\": 109, \"8\": 5, \"17\": 2, \"25\": 1, \"30\": 12, \"16\": 2, \"44\": 1, \"6\": 1, \"48\": 1, \"46\": 2}, \"39\": {\"39\": 28}, \"52\": {\"52\": 116, \"39\": 2, \"27\": 2, \"0\": 1, \"22\": 1}, \"21\": {\"21\": 117, \"15\": 5, \"23\": 2}, \"40\": {\"4\": 16, \"40\": 87, \"44\": 5, \"51\": 1, \"57\": 7, \"46\": 2, \"13\": 4, \"56\": 2, \"29\": 11, \"1\": 4, \"19\": 3, \"3\": 3, \"10\": 1, \"48\": 1, \"35\": 2, \"12\": 1, \"15\": 1, \"24\": 1}, \"32\": {\"32\": 31, \"38\": 1}}, \"C_3\": {\"56\": {\"56\": 112, \"22\": 7, \"24\": 1}, \"4\": {\"4\": 97, \"35\": 5, \"57\": 5, \"25\": 2, \"3\": 1, \"45\": 2, \"19\": 21, \"27\": 1, \"55\": 2, \"53\": 2, \"8\": 4, \"9\": 2, \"11\": 1, \"12\": 1}, \"34\": {\"34\": 31, \"23\": 1}, \"52\": {\"52\": 129, \"15\": 2, \"20\": 1, \"16\": 3, \"23\": 1}, \"32\": {\"32\": 20, \"17\": 3, \"27\": 3, \"14\": 1, \"8\": 1}, \"46\": {\"46\": 70, \"26\": 5, \"16\": 12, \"20\": 2, \"0\": 1, \"11\": 2, \"18\": 5, \"43\": 4, \"48\": 8, \"47\": 2, \"50\": 2, \"6\": 9, \"23\": 6, \"27\": 1, \"3\": 2, \"52\": 3, \"34\": 1, \"30\": 1}, \"12\": {\"12\": 42, \"50\": 3, \"6\": 2, \"30\": 9, \"36\": 13, \"32\": 1, \"31\": 1, \"8\": 7, \"55\": 1, \"53\": 4, \"17\": 3, \"54\": 6}, \"20\": {\"20\": 113, \"18\": 8, \"53\": 1, \"8\": 2, \"17\": 1, \"23\": 2, \"1\": 1, \"52\": 1, \"30\": 1, \"16\": 2}, \"54\": {\"54\": 80, \"36\": 5, \"17\": 2, \"50\": 6, \"55\": 1, \"30\": 3, \"12\": 2, \"47\": 1}, \"22\": {\"22\": 129, \"56\": 8, \"43\": 1, \"47\": 1, \"24\": 1}, \"26\": {\"26\": 24}, \"31\": {\"31\": 27, \"47\": 1}, \"10\": {\"10\": 61, \"43\": 1, \"24\": 1, \"22\": 1}, \"27\": {\"27\": 123, \"50\": 3, \"57\": 2, \"17\": 8, \"8\": 3, \"9\": 1, \"5\": 1, \"30\": 2, \"2\": 1}, \"40\": {\"40\": 70, \"44\": 16, \"25\": 3, \"4\": 9, \"45\": 5, \"57\": 1, \"13\": 4, \"19\": 12, \"37\": 2, \"21\": 6, \"3\": 2, \"9\": 1, \"29\": 1, \"14\": 1, \"51\": 1, \"8\": 1, \"53\": 1}, \"28\": {\"28\": 15, \"17\": 2, \"22\": 1, \"23\": 1, \"55\": 4, \"1\": 3, \"31\": 1, \"41\": 1}, \"5\": {\"39\": 1, \"5\": 96, \"47\": 1, \"3\": 2, \"6\": 2, \"48\": 3, \"0\": 3, \"23\": 4, \"16\": 1, \"1\": 2, \"43\": 1}, \"30\": {\"30\": 107, \"18\": 3, \"53\": 1, \"50\": 2, \"8\": 3, \"20\": 1, \"54\": 2, \"1\": 1}, \"7\": {\"7\": 35, \"24\": 1}, \"18\": {\"18\": 81, \"23\": 2, \"30\": 1}, \"39\": {\"39\": 16}, \"50\": {\"35\": 1, \"30\": 6, \"48\": 6, \"50\": 62, \"26\": 1, \"33\": 1, \"41\": 1, \"17\": 15, \"8\": 10, \"6\": 1, \"46\": 3, \"5\": 1, \"52\": 1, \"27\": 6, \"16\": 2, \"54\": 2, \"36\": 3, \"47\": 1, \"3\": 6, \"28\": 1, \"20\": 1, \"57\": 1, \"53\": 2, \"18\": 2}, \"49\": {\"49\": 20}, \"43\": {\"43\": 121, \"49\": 1}, \"29\": {\"50\": 1, \"29\": 50, \"14\": 2, \"35\": 1, \"3\": 7, \"27\": 4, \"18\": 2, \"36\": 1, \"51\": 2, \"19\": 4, \"25\": 3, \"1\": 3, \"13\": 1, \"9\": 11, \"57\": 11, \"28\": 1, \"12\": 1, \"32\": 1, \"45\": 1, \"5\": 1, \"56\": 2, \"52\": 1, \"17\": 1, \"55\": 1, \"23\": 1}, \"35\": {\"35\": 17, \"26\": 3, \"57\": 1, \"54\": 2, \"48\": 1, \"1\": 1, \"28\": 2, \"9\": 1}, \"13\": {\"43\": 14, \"7\": 1, \"46\": 2, \"13\": 54, \"33\": 1, \"26\": 1, \"3\": 4, \"24\": 13, \"11\": 2, \"51\": 8, \"25\": 1, \"5\": 1, \"22\": 5, \"50\": 2, \"37\": 2, \"55\": 1, \"21\": 5, \"9\": 1, \"48\": 1, \"10\": 1, \"52\": 3, \"56\": 1}, \"36\": {\"36\": 100}, \"11\": {\"11\": 134, \"15\": 7, \"43\": 1, \"52\": 4}, \"57\": {\"9\": 9, \"57\": 48, \"1\": 18, \"42\": 1, \"23\": 2, \"5\": 5, \"47\": 4, \"0\": 1, \"29\": 4, \"17\": 7, \"48\": 6, \"36\": 2, \"27\": 5, \"3\": 2, \"34\": 7, \"32\": 1, \"14\": 1, \"25\": 1}, \"9\": {\"57\": 20, \"27\": 15, \"9\": 40, \"1\": 8, \"34\": 4, \"29\": 6, \"36\": 2, \"51\": 1, \"17\": 6, \"5\": 1, \"0\": 1, \"23\": 5, \"50\": 6, \"48\": 5, \"21\": 3, \"39\": 1, \"32\": 1, \"47\": 1, \"20\": 1, \"8\": 1, \"25\": 2}, \"25\": {\"36\": 3, \"13\": 6, \"17\": 11, \"14\": 1, \"51\": 4, \"6\": 10, \"38\": 2, \"27\": 3, \"12\": 7, \"3\": 8, \"25\": 16, \"54\": 11, \"48\": 1, \"47\": 1, \"55\": 2, \"19\": 5, \"2\": 1, \"53\": 3, \"50\": 3, \"4\": 3, \"9\": 4, \"56\": 1, \"46\": 2, \"29\": 4, \"41\": 2, \"45\": 2, \"35\": 3, \"30\": 2, \"21\": 2, \"1\": 1, \"8\": 2, \"20\": 2, \"52\": 2}, \"16\": {\"16\": 118, \"6\": 1, \"46\": 1, \"23\": 3, \"15\": 1, \"52\": 2}, \"53\": {\"36\": 6, \"53\": 48, \"25\": 2, \"54\": 6, \"8\": 25, \"12\": 3, \"18\": 2, \"17\": 3, \"30\": 6, \"20\": 4, \"51\": 2, \"50\": 6, \"21\": 1, \"41\": 2, \"3\": 1, \"27\": 1}, \"33\": {\"28\": 2, \"33\": 10, \"17\": 2, \"51\": 1, \"50\": 2, \"26\": 1, \"2\": 1, \"54\": 1, \"5\": 2, \"48\": 2, \"46\": 2, \"41\": 2}, \"51\": {\"20\": 19, \"51\": 42, \"21\": 8, \"25\": 2, \"30\": 9, \"50\": 6, \"12\": 2, \"13\": 1, \"18\": 9, \"54\": 1, \"36\": 3, \"8\": 7, \"16\": 1, \"3\": 4, \"53\": 6, \"17\": 2, \"52\": 4, \"37\": 1, \"29\": 1}, \"44\": {\"44\": 53, \"4\": 11, \"8\": 1, \"3\": 1, \"45\": 5, \"19\": 5, \"40\": 4, \"29\": 2, \"9\": 2, \"25\": 2, \"53\": 1, \"56\": 1}, \"48\": {\"48\": 95, \"3\": 2, \"34\": 1, \"46\": 3, \"23\": 2, \"0\": 1, \"50\": 1, \"17\": 1, \"5\": 3, \"47\": 2, \"22\": 1, \"1\": 1, \"57\": 1}, \"6\": {\"26\": 2, \"6\": 54, \"41\": 3, \"16\": 6, \"50\": 1, \"47\": 2, \"3\": 2, \"48\": 4, \"46\": 8, \"38\": 1, \"54\": 1, \"20\": 1, \"55\": 1, \"30\": 1, \"25\": 1}, \"23\": {\"23\": 144}, \"1\": {\"34\": 2, \"1\": 88, \"57\": 1, \"43\": 1, \"48\": 5, \"47\": 2, \"5\": 1}, \"17\": {\"57\": 2, \"17\": 91, \"30\": 6, \"50\": 6, \"8\": 2, \"27\": 1}, \"21\": {\"23\": 3, \"14\": 1, \"21\": 47, \"38\": 1, \"1\": 1, \"33\": 1, \"25\": 5, \"46\": 7, \"13\": 7, \"17\": 1, \"51\": 10, \"11\": 1, \"36\": 1, \"50\": 5, \"9\": 1, \"30\": 3, \"6\": 1, \"20\": 8, \"16\": 3, \"52\": 7, \"3\": 2, \"48\": 1, \"37\": 2, \"18\": 3}, \"14\": {\"55\": 3, \"22\": 3, \"14\": 9, \"7\": 4, \"45\": 2, \"24\": 3, \"19\": 3, \"31\": 1, \"49\": 2, \"28\": 1, \"48\": 1, \"1\": 1, \"47\": 1, \"56\": 1, \"29\": 1, \"43\": 1, \"57\": 1, \"13\": 1, \"25\": 1}, \"55\": {\"28\": 4, \"55\": 66, \"35\": 5, \"3\": 10, \"22\": 13, \"47\": 8, \"6\": 7, \"31\": 5, \"13\": 1, \"1\": 3, \"0\": 2, \"56\": 9, \"48\": 1, \"25\": 1, \"14\": 1, \"2\": 2, \"57\": 1, \"24\": 1, \"17\": 1, \"54\": 1, \"5\": 1, \"50\": 1}, \"41\": {\"17\": 1, \"6\": 2, \"53\": 2, \"41\": 15, \"3\": 2, \"47\": 2, \"28\": 2, \"46\": 2}, \"3\": {\"57\": 1, \"6\": 14, \"50\": 8, \"2\": 3, \"1\": 2, \"51\": 3, \"3\": 33, \"32\": 2, \"27\": 8, \"54\": 7, \"17\": 5, \"53\": 3, \"29\": 2, \"48\": 13, \"13\": 1, \"36\": 3, \"55\": 2, \"22\": 1, \"46\": 9, \"20\": 2, \"21\": 2, \"9\": 1, \"5\": 2, \"47\": 2, \"12\": 1, \"16\": 1, \"8\": 3, \"18\": 2, \"23\": 2}, \"38\": {\"6\": 2, \"46\": 3, \"38\": 9, \"30\": 5, \"20\": 4, \"55\": 1, \"26\": 1, \"28\": 2, \"25\": 1}, \"2\": {\"2\": 25, \"12\": 1, \"27\": 3, \"50\": 1, \"17\": 2}, \"8\": {\"8\": 92, \"50\": 11, \"18\": 2, \"36\": 2, \"30\": 8, \"27\": 5, \"54\": 2, \"17\": 9, \"53\": 4, \"3\": 2, \"9\": 1, \"41\": 1, \"12\": 2, \"51\": 1}, \"37\": {\"39\": 1, \"37\": 21, \"55\": 2, \"25\": 1, \"52\": 1, \"21\": 1, \"38\": 1}, \"45\": {\"5\": 1, \"54\": 2, \"31\": 1, \"44\": 1, \"45\": 15, \"14\": 5, \"12\": 2, \"4\": 8, \"19\": 7, \"41\": 1, \"8\": 2, \"47\": 2, \"40\": 1, \"57\": 1, \"27\": 1, \"22\": 1, \"25\": 1, \"1\": 1, \"53\": 1, \"50\": 1, \"55\": 1, \"29\": 1, \"36\": 1, \"3\": 1, \"17\": 1}, \"42\": {\"42\": 19, \"2\": 1, \"35\": 1, \"12\": 1, \"41\": 1, \"31\": 1, \"1\": 2, \"28\": 2}, \"24\": {\"24\": 103, \"7\": 1}, \"15\": {\"15\": 135, \"11\": 1}, \"0\": {\"0\": 121, \"47\": 1, \"39\": 1, \"15\": 1}, \"47\": {\"47\": 72, \"35\": 1, \"41\": 1, \"43\": 1, \"22\": 2, \"52\": 1, \"28\": 1, \"46\": 2, \"48\": 1, \"55\": 1, \"6\": 2, \"1\": 5, \"3\": 1, \"5\": 1}, \"19\": {\"19\": 84, \"45\": 4, \"8\": 5, \"9\": 3, \"4\": 12, \"29\": 1, \"53\": 2, \"14\": 1, \"21\": 1, \"1\": 2, \"40\": 1, \"13\": 2, \"25\": 1, \"55\": 1}}}, \"per_domain_accuracy\": {\"O_14\": {\"accuracy\": 0.8544270833333333, \"source?\": true}, \"O_20\": {\"accuracy\": 0.7885416666666667, \"source?\": true}, \"O_50\": {\"accuracy\": 0.8760416666666667, \"source?\": true}, \"O_26\": {\"accuracy\": 0.67265625, \"source?\": true}, \"O_32\": {\"accuracy\": 0.85078125, \"source?\": true}, \"O_44\": {\"accuracy\": 0.7458333333333333, \"source?\": true}, \"O_8\": {\"accuracy\": 0.8302083333333333, \"source?\": true}, \"O_38\": {\"accuracy\": 0.8895833333333333, \"source?\": true}, \"C_4\": {\"accuracy\": 0.6362275449101796, \"source?\": false}, \"C_5\": {\"accuracy\": 0.6719622905027933, \"source?\": false}, \"C_2\": {\"accuracy\": 0.7064285714285714, \"source?\": false}, \"C_1\": {\"accuracy\": 0.7075407608695652, \"source?\": false}, \"C_3\": {\"accuracy\": 0.6891544117647059, \"source?\": false}}}, \"history\": {\"epoch_indices\": [1, 2, 3, 4, 5, 6, 7, 8, 9, 10, 11], \"train_label_loss\": [1.055466580027271, 0.9030484650594492, 0.803757365819599, 0.6811597306103934, 0.5880563787040523, 0.5294717060801174, 0.4995635339613294, 0.4687997292455596, 0.446273590589685, 0.4283657247073106, 0.4074695031186344], \"source_val_label_loss\": [1.0637569427490234, 0.8810775876045227, 0.7776376605033875, 0.6866021156311035, 0.5788540244102478, 0.5207833647727966, 0.5076957941055298, 0.4697004556655884, 0.4620109498500824, 0.46426481008529663, 0.43638962507247925], \"target_val_label_loss\": [300.1248474121094, 75.73269653320312, 91.09778594970703, 185.5221405029297, 207.2111053466797, 185.09889221191406, 126.32696533203125, 148.9331817626953, 146.2752227783203, 211.97885131835938, 208.42172241210938], \"source_val_acc_label\": [0.65458984375, 0.6720377604166666, 0.71044921875, 0.7447916666666666, 0.7848307291666666, 0.8087239583333333, 0.8135091145833333, 0.8291341145833333, 0.8313151041666667, 0.8298828125, 0.8420572916666667], \"target_val_acc_label\": [0.5035357142857143, 0.5970714285714286, 0.6277142857142857, 0.6287857142857143, 0.6357857142857143, 0.6271071428571429, 0.6828571428571428, 0.6484285714285715, 0.6184642857142857, 0.5888571428571429, 0.6416428571428572]}, \"dataset_metrics\": {\"source\": {\"train\": {\"n_unique_x\": 179200, \"n_unique_y\": 16, \"n_batch/episode\": 6720}, \"val\": {\"n_unique_x\": 38400, \"n_unique_y\": 16, \"n_batch/episode\": 960}, \"test\": {\"n_unique_x\": 38400, \"n_unique_y\": 16, \"n_batch/episode\": 960}}, \"target\": {\"train\": {\"n_unique_x\": 175158, \"n_unique_y\": 58, \"n_batch/episode\": 6317}, \"val\": {\"n_unique_x\": 37216, \"n_unique_y\": 58, \"n_batch/episode\": 875}, \"test\": {\"n_unique_x\": 37596, \"n_unique_y\": 58, \"n_batch/episode\": 886}}}}'"
      ]
     },
     "execution_count": 29,
     "metadata": {},
     "output_type": "execute_result"
    }
   ],
   "source": [
    "json.dumps(experiment)"
   ]
  }
 ],
 "metadata": {
  "celltoolbar": "Tags",
  "kernelspec": {
   "display_name": "Python 3 (ipykernel)",
   "language": "python",
   "name": "python3"
  },
  "language_info": {
   "codemirror_mode": {
    "name": "ipython",
    "version": 3
   },
   "file_extension": ".py",
   "mimetype": "text/x-python",
   "name": "python",
   "nbconvert_exporter": "python",
   "pygments_lexer": "ipython3",
   "version": "3.8.12"
  },
  "papermill": {
   "default_parameters": {},
   "duration": 2893.367714,
   "end_time": "2022-03-28T04:33:36.326156",
   "environment_variables": {},
   "exception": null,
   "input_path": "/root/csc500-main/csc500-notebooks/templates/tl_ptn_template.ipynb",
   "output_path": "trial.ipynb",
   "parameters": {
    "parameters": {
     "BEST_MODEL_PATH": "./best_model.pth",
     "NUM_LOGS_PER_EPOCH": 10,
     "criteria_for_best": "target_accuracy",
     "dataset_seed": 420,
     "datasets": [
      {
       "domain_prefix": "C_",
       "domains": [
        1,
        2,
        3,
        4,
        5
       ],
       "episode_transforms": [],
       "labels": [
        "1-10.",
        "1-11.",
        "1-15.",
        "1-16.",
        "1-17.",
        "1-18.",
        "1-19.",
        "10-4.",
        "10-7.",
        "11-1.",
        "11-14.",
        "11-17.",
        "11-20.",
        "11-7.",
        "13-20.",
        "13-8.",
        "14-10.",
        "14-11.",
        "14-14.",
        "14-7.",
        "15-1.",
        "15-20.",
        "16-1.",
        "16-16.",
        "17-10.",
        "17-11.",
        "17-2.",
        "19-1.",
        "19-16.",
        "19-19.",
        "19-20.",
        "19-3.",
        "2-10.",
        "2-11.",
        "2-17.",
        "2-18.",
        "2-20.",
        "2-3.",
        "2-4.",
        "2-5.",
        "2-6.",
        "2-7.",
        "2-8.",
        "3-13.",
        "3-18.",
        "3-3.",
        "4-1.",
        "4-10.",
        "4-11.",
        "4-19.",
        "5-5.",
        "6-15.",
        "7-10.",
        "7-14.",
        "8-18.",
        "8-20.",
        "8-3.",
        "8-8."
       ],
       "num_examples_per_domain_per_label": -1,
       "pickle_path": "/root/csc500-main/datasets/cores.stratified_ds.2022A.pkl",
       "source_or_target_dataset": "target",
       "x_transforms": [
        "unit_mag",
        "jitter_256_1",
        "lowpass_+/-10MHz",
        "take_200"
       ]
      },
      {
       "domain_prefix": "O_",
       "domains": [
        32,
        38,
        8,
        44,
        14,
        50,
        20,
        26
       ],
       "episode_transforms": [],
       "labels": [
        "3123D52",
        "3123D65",
        "3123D79",
        "3123D80",
        "3123D54",
        "3123D70",
        "3123D7B",
        "3123D89",
        "3123D58",
        "3123D76",
        "3123D7D",
        "3123EFE",
        "3123D64",
        "3123D78",
        "3123D7E",
        "3124E4A"
       ],
       "num_examples_per_domain_per_label": 2000,
       "pickle_path": "/root/csc500-main/datasets/oracle.Run1_framed_2000Examples_stratified_ds.2022A.pkl",
       "source_or_target_dataset": "source",
       "x_transforms": [
        "unit_mag",
        "jitter_256_1",
        "take_200",
        "resample_20Msps_to_25Msps"
       ]
      }
     ],
     "device": "cuda",
     "experiment_name": "tl_3-jitter1v2:oracle.run1.framed -> cores",
     "lr": 0.0001,
     "n_epoch": 50,
     "n_query": 2,
     "n_shot": 3,
     "n_way": 16,
     "patience": 3,
     "seed": 420,
     "test_k_factor": 2,
     "torch_default_dtype": "torch.float32",
     "train_k_factor": 3,
     "val_k_factor": 2,
     "x_net": [
      {
       "class": "nnReshape",
       "kargs": {
        "shape": [
         -1,
         1,
         2,
         256
        ]
       }
      },
      {
       "class": "Conv2d",
       "kargs": {
        "bias": false,
        "in_channels": 1,
        "kernel_size": [
         1,
         7
        ],
        "out_channels": 256,
        "padding": [
         0,
         3
        ]
       }
      },
      {
       "class": "ReLU",
       "kargs": {
        "inplace": true
       }
      },
      {
       "class": "BatchNorm2d",
       "kargs": {
        "num_features": 256
       }
      },
      {
       "class": "Conv2d",
       "kargs": {
        "bias": true,
        "in_channels": 256,
        "kernel_size": [
         2,
         7
        ],
        "out_channels": 80,
        "padding": [
         0,
         3
        ]
       }
      },
      {
       "class": "ReLU",
       "kargs": {
        "inplace": true
       }
      },
      {
       "class": "BatchNorm2d",
       "kargs": {
        "num_features": 80
       }
      },
      {
       "class": "Flatten",
       "kargs": {}
      },
      {
       "class": "Linear",
       "kargs": {
        "in_features": 20480,
        "out_features": 256
       }
      },
      {
       "class": "ReLU",
       "kargs": {
        "inplace": true
       }
      },
      {
       "class": "BatchNorm1d",
       "kargs": {
        "num_features": 256
       }
      },
      {
       "class": "Linear",
       "kargs": {
        "in_features": 256,
        "out_features": 256
       }
      }
     ],
     "x_shape": [
      2,
      256
     ]
    }
   },
   "start_time": "2022-03-28T03:45:22.958442",
   "version": "2.3.4"
  }
 },
 "nbformat": 4,
 "nbformat_minor": 5
}