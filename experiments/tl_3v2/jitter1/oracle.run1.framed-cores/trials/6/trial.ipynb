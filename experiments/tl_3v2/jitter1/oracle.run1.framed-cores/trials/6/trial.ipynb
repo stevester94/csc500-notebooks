{
 "cells": [
  {
   "cell_type": "markdown",
   "id": "9fea5f46",
   "metadata": {
    "papermill": {
     "duration": 0.030868,
     "end_time": "2022-03-28T04:31:41.032451",
     "exception": false,
     "start_time": "2022-03-28T04:31:41.001583",
     "status": "completed"
    },
    "tags": []
   },
   "source": [
    "# Transfer Learning Template"
   ]
  },
  {
   "cell_type": "code",
   "execution_count": 1,
   "id": "0902182a",
   "metadata": {
    "execution": {
     "iopub.execute_input": "2022-03-28T04:31:41.092507Z",
     "iopub.status.busy": "2022-03-28T04:31:41.081609Z",
     "iopub.status.idle": "2022-03-28T04:31:42.911919Z",
     "shell.execute_reply": "2022-03-28T04:31:42.911469Z"
    },
    "papermill": {
     "duration": 1.857573,
     "end_time": "2022-03-28T04:31:42.912020",
     "exception": false,
     "start_time": "2022-03-28T04:31:41.054447",
     "status": "completed"
    },
    "tags": []
   },
   "outputs": [],
   "source": [
    "%load_ext autoreload\n",
    "%autoreload 2\n",
    "%matplotlib inline\n",
    "\n",
    "    \n",
    "import os, json, sys, time, random\n",
    "import numpy as np\n",
    "import torch\n",
    "from torch.optim import Adam\n",
    "from  easydict import EasyDict\n",
    "import matplotlib.pyplot as plt\n",
    "\n",
    "from steves_models.steves_ptn import Steves_Prototypical_Network\n",
    "\n",
    "from steves_utils.lazy_iterable_wrapper import Lazy_Iterable_Wrapper\n",
    "from steves_utils.iterable_aggregator import Iterable_Aggregator\n",
    "from steves_utils.ptn_train_eval_test_jig import  PTN_Train_Eval_Test_Jig\n",
    "from steves_utils.torch_sequential_builder import build_sequential\n",
    "from steves_utils.torch_utils import get_dataset_metrics, ptn_confusion_by_domain_over_dataloader\n",
    "from steves_utils.utils_v2 import (per_domain_accuracy_from_confusion, get_datasets_base_path)\n",
    "from steves_utils.PTN.utils import independent_accuracy_assesment\n",
    "\n",
    "from torch.utils.data import DataLoader\n",
    "\n",
    "from steves_utils.stratified_dataset.episodic_accessor import Episodic_Accessor_Factory\n",
    "\n",
    "from steves_utils.ptn_do_report import (\n",
    "    get_loss_curve,\n",
    "    get_results_table,\n",
    "    get_parameters_table,\n",
    "    get_domain_accuracies,\n",
    ")\n",
    "\n",
    "from steves_utils.transforms import get_chained_transform"
   ]
  },
  {
   "cell_type": "markdown",
   "id": "41c840b4",
   "metadata": {
    "papermill": {
     "duration": 0.01858,
     "end_time": "2022-03-28T04:31:42.950475",
     "exception": false,
     "start_time": "2022-03-28T04:31:42.931895",
     "status": "completed"
    },
    "tags": []
   },
   "source": [
    "# Allowed Parameters\n",
    "These are allowed parameters, not defaults\n",
    "Each of these values need to be present in the injected parameters (the notebook will raise an exception if they are not present)\n",
    "\n",
    "Papermill uses the cell tag \"parameters\" to inject the real parameters below this cell.\n",
    "Enable tags to see what I mean"
   ]
  },
  {
   "cell_type": "code",
   "execution_count": 2,
   "id": "fd44eb83",
   "metadata": {
    "execution": {
     "iopub.execute_input": "2022-03-28T04:31:42.993479Z",
     "iopub.status.busy": "2022-03-28T04:31:42.992684Z",
     "iopub.status.idle": "2022-03-28T04:31:43.013935Z",
     "shell.execute_reply": "2022-03-28T04:31:43.013383Z"
    },
    "papermill": {
     "duration": 0.044918,
     "end_time": "2022-03-28T04:31:43.014041",
     "exception": false,
     "start_time": "2022-03-28T04:31:42.969123",
     "status": "completed"
    },
    "tags": []
   },
   "outputs": [],
   "source": [
    "required_parameters = {\n",
    "    \"experiment_name\",\n",
    "    \"lr\",\n",
    "    \"device\",\n",
    "    \"seed\",\n",
    "    \"dataset_seed\",\n",
    "    \"n_shot\",\n",
    "    \"n_query\",\n",
    "    \"n_way\",\n",
    "    \"train_k_factor\",\n",
    "    \"val_k_factor\",\n",
    "    \"test_k_factor\",\n",
    "    \"n_epoch\",\n",
    "    \"patience\",\n",
    "    \"criteria_for_best\",\n",
    "    \"x_net\",\n",
    "    \"datasets\",\n",
    "    \"torch_default_dtype\",\n",
    "    \"NUM_LOGS_PER_EPOCH\",\n",
    "    \"BEST_MODEL_PATH\",\n",
    "    \"x_shape\",\n",
    "}"
   ]
  },
  {
   "cell_type": "code",
   "execution_count": 3,
   "id": "fa3f0049",
   "metadata": {
    "execution": {
     "iopub.execute_input": "2022-03-28T04:31:43.064525Z",
     "iopub.status.busy": "2022-03-28T04:31:43.063992Z",
     "iopub.status.idle": "2022-03-28T04:31:43.085669Z",
     "shell.execute_reply": "2022-03-28T04:31:43.085190Z"
    },
    "papermill": {
     "duration": 0.049328,
     "end_time": "2022-03-28T04:31:43.085771",
     "exception": false,
     "start_time": "2022-03-28T04:31:43.036443",
     "status": "completed"
    },
    "tags": [
     "parameters"
    ]
   },
   "outputs": [],
   "source": [
    "from steves_utils.CORES.utils import (\n",
    "    ALL_NODES,\n",
    "    ALL_NODES_MINIMUM_1000_EXAMPLES,\n",
    "    ALL_DAYS\n",
    ")\n",
    "\n",
    "from steves_utils.ORACLE.utils_v2 import (\n",
    "    ALL_DISTANCES_FEET_NARROWED,\n",
    "    ALL_RUNS,\n",
    "    ALL_SERIAL_NUMBERS,\n",
    ")\n",
    "\n",
    "standalone_parameters = {}\n",
    "standalone_parameters[\"experiment_name\"] = \"STANDALONE PTN\"\n",
    "standalone_parameters[\"lr\"] = 0.001\n",
    "standalone_parameters[\"device\"] = \"cuda\"\n",
    "\n",
    "standalone_parameters[\"seed\"] = 1337\n",
    "standalone_parameters[\"dataset_seed\"] = 1337\n",
    "\n",
    "standalone_parameters[\"n_way\"] = 8\n",
    "standalone_parameters[\"n_shot\"] = 3\n",
    "standalone_parameters[\"n_query\"]  = 2\n",
    "standalone_parameters[\"train_k_factor\"] = 1\n",
    "standalone_parameters[\"val_k_factor\"] = 2\n",
    "standalone_parameters[\"test_k_factor\"] = 2\n",
    "\n",
    "\n",
    "standalone_parameters[\"n_epoch\"] = 50\n",
    "\n",
    "standalone_parameters[\"patience\"] = 10\n",
    "standalone_parameters[\"criteria_for_best\"] = \"source_loss\"\n",
    "\n",
    "standalone_parameters[\"datasets\"] = [\n",
    "    {\n",
    "        \"labels\": ALL_SERIAL_NUMBERS,\n",
    "        \"domains\": ALL_DISTANCES_FEET_NARROWED,\n",
    "        \"num_examples_per_domain_per_label\": 100,\n",
    "        \"pickle_path\": os.path.join(get_datasets_base_path(), \"oracle.Run1_framed_2000Examples_stratified_ds.2022A.pkl\"),\n",
    "        \"source_or_target_dataset\": \"source\",\n",
    "        \"x_transforms\": [\"unit_mag\", \"minus_two\"],\n",
    "        \"episode_transforms\": [],\n",
    "        \"domain_prefix\": \"ORACLE_\"\n",
    "    },\n",
    "    {\n",
    "        \"labels\": ALL_NODES,\n",
    "        \"domains\": ALL_DAYS,\n",
    "        \"num_examples_per_domain_per_label\": 100,\n",
    "        \"pickle_path\": os.path.join(get_datasets_base_path(), \"cores.stratified_ds.2022A.pkl\"),\n",
    "        \"source_or_target_dataset\": \"target\",\n",
    "        \"x_transforms\": [\"unit_power\", \"times_zero\"],\n",
    "        \"episode_transforms\": [],\n",
    "        \"domain_prefix\": \"CORES_\"\n",
    "    }   \n",
    "]\n",
    "\n",
    "standalone_parameters[\"torch_default_dtype\"] = \"torch.float32\" \n",
    "\n",
    "\n",
    "\n",
    "standalone_parameters[\"x_net\"] =     [\n",
    "    {\"class\": \"nnReshape\", \"kargs\": {\"shape\":[-1, 1, 2, 256]}},\n",
    "    {\"class\": \"Conv2d\", \"kargs\": { \"in_channels\":1, \"out_channels\":256, \"kernel_size\":(1,7), \"bias\":False, \"padding\":(0,3), },},\n",
    "    {\"class\": \"ReLU\", \"kargs\": {\"inplace\": True}},\n",
    "    {\"class\": \"BatchNorm2d\", \"kargs\": {\"num_features\":256}},\n",
    "\n",
    "    {\"class\": \"Conv2d\", \"kargs\": { \"in_channels\":256, \"out_channels\":80, \"kernel_size\":(2,7), \"bias\":True, \"padding\":(0,3), },},\n",
    "    {\"class\": \"ReLU\", \"kargs\": {\"inplace\": True}},\n",
    "    {\"class\": \"BatchNorm2d\", \"kargs\": {\"num_features\":80}},\n",
    "    {\"class\": \"Flatten\", \"kargs\": {}},\n",
    "\n",
    "    {\"class\": \"Linear\", \"kargs\": {\"in_features\": 80*256, \"out_features\": 256}}, # 80 units per IQ pair\n",
    "    {\"class\": \"ReLU\", \"kargs\": {\"inplace\": True}},\n",
    "    {\"class\": \"BatchNorm1d\", \"kargs\": {\"num_features\":256}},\n",
    "\n",
    "    {\"class\": \"Linear\", \"kargs\": {\"in_features\": 256, \"out_features\": 256}},\n",
    "]\n",
    "\n",
    "# Parameters relevant to results\n",
    "# These parameters will basically never need to change\n",
    "standalone_parameters[\"NUM_LOGS_PER_EPOCH\"] = 10\n",
    "standalone_parameters[\"BEST_MODEL_PATH\"] = \"./best_model.pth\"\n",
    "\n",
    "\n",
    "\n",
    "\n"
   ]
  },
  {
   "cell_type": "code",
   "execution_count": 4,
   "id": "a6314b99",
   "metadata": {
    "execution": {
     "iopub.execute_input": "2022-03-28T04:31:43.142246Z",
     "iopub.status.busy": "2022-03-28T04:31:43.141594Z",
     "iopub.status.idle": "2022-03-28T04:31:43.163478Z",
     "shell.execute_reply": "2022-03-28T04:31:43.162929Z"
    },
    "papermill": {
     "duration": 0.05536,
     "end_time": "2022-03-28T04:31:43.163616",
     "exception": false,
     "start_time": "2022-03-28T04:31:43.108256",
     "status": "completed"
    },
    "tags": [
     "injected-parameters"
    ]
   },
   "outputs": [],
   "source": [
    "# Parameters\n",
    "parameters = {\n",
    "    \"experiment_name\": \"tl_3-jitter1v2:oracle.run1.framed -> cores\",\n",
    "    \"device\": \"cuda\",\n",
    "    \"lr\": 0.0001,\n",
    "    \"x_shape\": [2, 256],\n",
    "    \"n_shot\": 3,\n",
    "    \"n_query\": 2,\n",
    "    \"train_k_factor\": 3,\n",
    "    \"val_k_factor\": 2,\n",
    "    \"test_k_factor\": 2,\n",
    "    \"torch_default_dtype\": \"torch.float32\",\n",
    "    \"n_epoch\": 50,\n",
    "    \"patience\": 3,\n",
    "    \"criteria_for_best\": \"target_accuracy\",\n",
    "    \"x_net\": [\n",
    "        {\"class\": \"nnReshape\", \"kargs\": {\"shape\": [-1, 1, 2, 256]}},\n",
    "        {\n",
    "            \"class\": \"Conv2d\",\n",
    "            \"kargs\": {\n",
    "                \"in_channels\": 1,\n",
    "                \"out_channels\": 256,\n",
    "                \"kernel_size\": [1, 7],\n",
    "                \"bias\": False,\n",
    "                \"padding\": [0, 3],\n",
    "            },\n",
    "        },\n",
    "        {\"class\": \"ReLU\", \"kargs\": {\"inplace\": True}},\n",
    "        {\"class\": \"BatchNorm2d\", \"kargs\": {\"num_features\": 256}},\n",
    "        {\n",
    "            \"class\": \"Conv2d\",\n",
    "            \"kargs\": {\n",
    "                \"in_channels\": 256,\n",
    "                \"out_channels\": 80,\n",
    "                \"kernel_size\": [2, 7],\n",
    "                \"bias\": True,\n",
    "                \"padding\": [0, 3],\n",
    "            },\n",
    "        },\n",
    "        {\"class\": \"ReLU\", \"kargs\": {\"inplace\": True}},\n",
    "        {\"class\": \"BatchNorm2d\", \"kargs\": {\"num_features\": 80}},\n",
    "        {\"class\": \"Flatten\", \"kargs\": {}},\n",
    "        {\"class\": \"Linear\", \"kargs\": {\"in_features\": 20480, \"out_features\": 256}},\n",
    "        {\"class\": \"ReLU\", \"kargs\": {\"inplace\": True}},\n",
    "        {\"class\": \"BatchNorm1d\", \"kargs\": {\"num_features\": 256}},\n",
    "        {\"class\": \"Linear\", \"kargs\": {\"in_features\": 256, \"out_features\": 256}},\n",
    "    ],\n",
    "    \"NUM_LOGS_PER_EPOCH\": 10,\n",
    "    \"BEST_MODEL_PATH\": \"./best_model.pth\",\n",
    "    \"n_way\": 16,\n",
    "    \"datasets\": [\n",
    "        {\n",
    "            \"labels\": [\n",
    "                \"1-10.\",\n",
    "                \"1-11.\",\n",
    "                \"1-15.\",\n",
    "                \"1-16.\",\n",
    "                \"1-17.\",\n",
    "                \"1-18.\",\n",
    "                \"1-19.\",\n",
    "                \"10-4.\",\n",
    "                \"10-7.\",\n",
    "                \"11-1.\",\n",
    "                \"11-14.\",\n",
    "                \"11-17.\",\n",
    "                \"11-20.\",\n",
    "                \"11-7.\",\n",
    "                \"13-20.\",\n",
    "                \"13-8.\",\n",
    "                \"14-10.\",\n",
    "                \"14-11.\",\n",
    "                \"14-14.\",\n",
    "                \"14-7.\",\n",
    "                \"15-1.\",\n",
    "                \"15-20.\",\n",
    "                \"16-1.\",\n",
    "                \"16-16.\",\n",
    "                \"17-10.\",\n",
    "                \"17-11.\",\n",
    "                \"17-2.\",\n",
    "                \"19-1.\",\n",
    "                \"19-16.\",\n",
    "                \"19-19.\",\n",
    "                \"19-20.\",\n",
    "                \"19-3.\",\n",
    "                \"2-10.\",\n",
    "                \"2-11.\",\n",
    "                \"2-17.\",\n",
    "                \"2-18.\",\n",
    "                \"2-20.\",\n",
    "                \"2-3.\",\n",
    "                \"2-4.\",\n",
    "                \"2-5.\",\n",
    "                \"2-6.\",\n",
    "                \"2-7.\",\n",
    "                \"2-8.\",\n",
    "                \"3-13.\",\n",
    "                \"3-18.\",\n",
    "                \"3-3.\",\n",
    "                \"4-1.\",\n",
    "                \"4-10.\",\n",
    "                \"4-11.\",\n",
    "                \"4-19.\",\n",
    "                \"5-5.\",\n",
    "                \"6-15.\",\n",
    "                \"7-10.\",\n",
    "                \"7-14.\",\n",
    "                \"8-18.\",\n",
    "                \"8-20.\",\n",
    "                \"8-3.\",\n",
    "                \"8-8.\",\n",
    "            ],\n",
    "            \"domains\": [1, 2, 3, 4, 5],\n",
    "            \"num_examples_per_domain_per_label\": -1,\n",
    "            \"pickle_path\": \"/root/csc500-main/datasets/cores.stratified_ds.2022A.pkl\",\n",
    "            \"source_or_target_dataset\": \"target\",\n",
    "            \"x_transforms\": [\n",
    "                \"unit_power\",\n",
    "                \"jitter_256_1\",\n",
    "                \"lowpass_+/-10MHz\",\n",
    "                \"take_200\",\n",
    "            ],\n",
    "            \"episode_transforms\": [],\n",
    "            \"domain_prefix\": \"C_\",\n",
    "        },\n",
    "        {\n",
    "            \"labels\": [\n",
    "                \"3123D52\",\n",
    "                \"3123D65\",\n",
    "                \"3123D79\",\n",
    "                \"3123D80\",\n",
    "                \"3123D54\",\n",
    "                \"3123D70\",\n",
    "                \"3123D7B\",\n",
    "                \"3123D89\",\n",
    "                \"3123D58\",\n",
    "                \"3123D76\",\n",
    "                \"3123D7D\",\n",
    "                \"3123EFE\",\n",
    "                \"3123D64\",\n",
    "                \"3123D78\",\n",
    "                \"3123D7E\",\n",
    "                \"3124E4A\",\n",
    "            ],\n",
    "            \"domains\": [32, 38, 8, 44, 14, 50, 20, 26],\n",
    "            \"num_examples_per_domain_per_label\": 2000,\n",
    "            \"pickle_path\": \"/root/csc500-main/datasets/oracle.Run1_framed_2000Examples_stratified_ds.2022A.pkl\",\n",
    "            \"source_or_target_dataset\": \"source\",\n",
    "            \"x_transforms\": [\n",
    "                \"unit_power\",\n",
    "                \"jitter_256_1\",\n",
    "                \"take_200\",\n",
    "                \"resample_20Msps_to_25Msps\",\n",
    "            ],\n",
    "            \"episode_transforms\": [],\n",
    "            \"domain_prefix\": \"O_\",\n",
    "        },\n",
    "    ],\n",
    "    \"seed\": 154325,\n",
    "    \"dataset_seed\": 154325,\n",
    "}\n"
   ]
  },
  {
   "cell_type": "code",
   "execution_count": 5,
   "id": "8fa1cc33",
   "metadata": {
    "execution": {
     "iopub.execute_input": "2022-03-28T04:31:43.214164Z",
     "iopub.status.busy": "2022-03-28T04:31:43.213532Z",
     "iopub.status.idle": "2022-03-28T04:31:43.234191Z",
     "shell.execute_reply": "2022-03-28T04:31:43.233643Z"
    },
    "papermill": {
     "duration": 0.04724,
     "end_time": "2022-03-28T04:31:43.234295",
     "exception": false,
     "start_time": "2022-03-28T04:31:43.187055",
     "status": "completed"
    },
    "tags": []
   },
   "outputs": [],
   "source": [
    "# Set this to True if you want to run this template directly\n",
    "STANDALONE = False\n",
    "if STANDALONE:\n",
    "    print(\"parameters not injected, running with standalone_parameters\")\n",
    "    parameters = standalone_parameters\n",
    "\n",
    "if not 'parameters' in locals() and not 'parameters' in globals():\n",
    "    raise Exception(\"Parameter injection failed\")\n",
    "\n",
    "#Use an easy dict for all the parameters\n",
    "p = EasyDict(parameters)\n",
    "\n",
    "if \"x_shape\" not in p:\n",
    "    p.x_shape = [2,256] # Default to this if we dont supply x_shape\n",
    "\n",
    "\n",
    "supplied_keys = set(p.keys())\n",
    "\n",
    "if  supplied_keys != required_parameters:\n",
    "    print(\"Parameters are incorrect\")\n",
    "    if len(supplied_keys - required_parameters)>0: print(\"Shouldn't have:\", str(supplied_keys - required_parameters))\n",
    "    if len(required_parameters - supplied_keys)>0: print(\"Need to have:\", str(required_parameters - supplied_keys))\n",
    "    raise RuntimeError(\"Parameters are incorrect\")"
   ]
  },
  {
   "cell_type": "code",
   "execution_count": 6,
   "id": "3a028d58",
   "metadata": {
    "execution": {
     "iopub.execute_input": "2022-03-28T04:31:43.281181Z",
     "iopub.status.busy": "2022-03-28T04:31:43.280211Z",
     "iopub.status.idle": "2022-03-28T04:31:43.304527Z",
     "shell.execute_reply": "2022-03-28T04:31:43.303714Z"
    },
    "papermill": {
     "duration": 0.046903,
     "end_time": "2022-03-28T04:31:43.304684",
     "exception": false,
     "start_time": "2022-03-28T04:31:43.257781",
     "status": "completed"
    },
    "tags": []
   },
   "outputs": [],
   "source": [
    "###################################\n",
    "# Set the RNGs and make it all deterministic\n",
    "###################################\n",
    "np.random.seed(p.seed)\n",
    "random.seed(p.seed)\n",
    "torch.manual_seed(p.seed)\n",
    "\n",
    "torch.use_deterministic_algorithms(True) "
   ]
  },
  {
   "cell_type": "code",
   "execution_count": 7,
   "id": "b691acf6",
   "metadata": {
    "execution": {
     "iopub.execute_input": "2022-03-28T04:31:43.353707Z",
     "iopub.status.busy": "2022-03-28T04:31:43.353341Z",
     "iopub.status.idle": "2022-03-28T04:31:43.377915Z",
     "shell.execute_reply": "2022-03-28T04:31:43.377214Z"
    },
    "papermill": {
     "duration": 0.047476,
     "end_time": "2022-03-28T04:31:43.378071",
     "exception": false,
     "start_time": "2022-03-28T04:31:43.330595",
     "status": "completed"
    },
    "tags": []
   },
   "outputs": [],
   "source": [
    "###########################################\n",
    "# The stratified datasets honor this\n",
    "###########################################\n",
    "torch.set_default_dtype(eval(p.torch_default_dtype))"
   ]
  },
  {
   "cell_type": "code",
   "execution_count": 8,
   "id": "b5fba671",
   "metadata": {
    "execution": {
     "iopub.execute_input": "2022-03-28T04:31:43.432355Z",
     "iopub.status.busy": "2022-03-28T04:31:43.430911Z",
     "iopub.status.idle": "2022-03-28T04:31:43.488712Z",
     "shell.execute_reply": "2022-03-28T04:31:43.488007Z"
    },
    "papermill": {
     "duration": 0.079392,
     "end_time": "2022-03-28T04:31:43.488864",
     "exception": false,
     "start_time": "2022-03-28T04:31:43.409472",
     "status": "completed"
    },
    "tags": []
   },
   "outputs": [],
   "source": [
    "###################################\n",
    "# Build the network(s)\n",
    "# Note: It's critical to do this AFTER setting the RNG\n",
    "###################################\n",
    "x_net = build_sequential(p.x_net)"
   ]
  },
  {
   "cell_type": "code",
   "execution_count": 9,
   "id": "5d7e61cc",
   "metadata": {
    "execution": {
     "iopub.execute_input": "2022-03-28T04:31:43.535467Z",
     "iopub.status.busy": "2022-03-28T04:31:43.535109Z",
     "iopub.status.idle": "2022-03-28T04:31:43.560894Z",
     "shell.execute_reply": "2022-03-28T04:31:43.560093Z"
    },
    "papermill": {
     "duration": 0.048765,
     "end_time": "2022-03-28T04:31:43.561046",
     "exception": false,
     "start_time": "2022-03-28T04:31:43.512281",
     "status": "completed"
    },
    "tags": []
   },
   "outputs": [],
   "source": [
    "start_time_secs = time.time()"
   ]
  },
  {
   "cell_type": "code",
   "execution_count": 10,
   "id": "c6b67dfd",
   "metadata": {
    "execution": {
     "iopub.execute_input": "2022-03-28T04:31:43.617793Z",
     "iopub.status.busy": "2022-03-28T04:31:43.617244Z",
     "iopub.status.idle": "2022-03-28T04:31:43.636043Z",
     "shell.execute_reply": "2022-03-28T04:31:43.635309Z"
    },
    "papermill": {
     "duration": 0.041377,
     "end_time": "2022-03-28T04:31:43.636194",
     "exception": false,
     "start_time": "2022-03-28T04:31:43.594817",
     "status": "completed"
    },
    "tags": []
   },
   "outputs": [],
   "source": [
    "p.domains_source = []\n",
    "p.domains_target = []\n",
    "\n",
    "\n",
    "train_original_source = []\n",
    "val_original_source   = []\n",
    "test_original_source  = []\n",
    "\n",
    "train_original_target = []\n",
    "val_original_target   = []\n",
    "test_original_target  = []"
   ]
  },
  {
   "cell_type": "code",
   "execution_count": 11,
   "id": "e3d9c3d3",
   "metadata": {
    "execution": {
     "iopub.execute_input": "2022-03-28T04:31:43.687446Z",
     "iopub.status.busy": "2022-03-28T04:31:43.686702Z",
     "iopub.status.idle": "2022-03-28T04:31:43.710210Z",
     "shell.execute_reply": "2022-03-28T04:31:43.709432Z"
    },
    "papermill": {
     "duration": 0.048027,
     "end_time": "2022-03-28T04:31:43.710360",
     "exception": false,
     "start_time": "2022-03-28T04:31:43.662333",
     "status": "completed"
    },
    "tags": []
   },
   "outputs": [],
   "source": [
    "# global_x_transform_func = lambda x: normalize(x.to(torch.get_default_dtype()), \"unit_power\") # unit_power, unit_mag\n",
    "# global_x_transform_func = lambda x: normalize(x, \"unit_power\") # unit_power, unit_mag"
   ]
  },
  {
   "cell_type": "code",
   "execution_count": 12,
   "id": "acb78fd2",
   "metadata": {
    "execution": {
     "iopub.execute_input": "2022-03-28T04:31:43.762623Z",
     "iopub.status.busy": "2022-03-28T04:31:43.762245Z",
     "iopub.status.idle": "2022-03-28T04:31:43.782243Z",
     "shell.execute_reply": "2022-03-28T04:31:43.781442Z"
    },
    "papermill": {
     "duration": 0.046926,
     "end_time": "2022-03-28T04:31:43.782392",
     "exception": false,
     "start_time": "2022-03-28T04:31:43.735466",
     "status": "completed"
    },
    "tags": []
   },
   "outputs": [],
   "source": [
    "def add_dataset(\n",
    "    labels,\n",
    "    domains,\n",
    "    pickle_path,\n",
    "    x_transforms,\n",
    "    episode_transforms,\n",
    "    domain_prefix,\n",
    "    num_examples_per_domain_per_label,\n",
    "    source_or_target_dataset:str,\n",
    "    iterator_seed=p.seed,\n",
    "    dataset_seed=p.dataset_seed,\n",
    "    n_shot=p.n_shot,\n",
    "    n_way=p.n_way,\n",
    "    n_query=p.n_query,\n",
    "    train_val_test_k_factors=(p.train_k_factor,p.val_k_factor,p.test_k_factor),\n",
    "):\n",
    "   \n",
    "    if x_transforms == []: x_transform = None\n",
    "    else: x_transform = get_chained_transform(x_transforms)\n",
    "    \n",
    "    if episode_transforms == []: episode_transform = None\n",
    "    else: raise Exception(\"episode_transforms not implemented\")\n",
    "    \n",
    "    episode_transform = lambda tup, _prefix=domain_prefix: (_prefix + str(tup[0]), tup[1])\n",
    "\n",
    "\n",
    "    eaf = Episodic_Accessor_Factory(\n",
    "        labels=labels,\n",
    "        domains=domains,\n",
    "        num_examples_per_domain_per_label=num_examples_per_domain_per_label,\n",
    "        iterator_seed=iterator_seed,\n",
    "        dataset_seed=dataset_seed,\n",
    "        n_shot=n_shot,\n",
    "        n_way=n_way,\n",
    "        n_query=n_query,\n",
    "        train_val_test_k_factors=train_val_test_k_factors,\n",
    "        pickle_path=pickle_path,\n",
    "        x_transform_func=x_transform,\n",
    "    )\n",
    "\n",
    "    train, val, test = eaf.get_train(), eaf.get_val(), eaf.get_test()\n",
    "    train = Lazy_Iterable_Wrapper(train, episode_transform)\n",
    "    val = Lazy_Iterable_Wrapper(val, episode_transform)\n",
    "    test = Lazy_Iterable_Wrapper(test, episode_transform)\n",
    "\n",
    "    if source_or_target_dataset==\"source\":\n",
    "        train_original_source.append(train)\n",
    "        val_original_source.append(val)\n",
    "        test_original_source.append(test)\n",
    "\n",
    "        p.domains_source.extend(\n",
    "            [domain_prefix + str(u) for u in domains]\n",
    "        )\n",
    "    elif source_or_target_dataset==\"target\":\n",
    "        train_original_target.append(train)\n",
    "        val_original_target.append(val)\n",
    "        test_original_target.append(test)\n",
    "        p.domains_target.extend(\n",
    "            [domain_prefix + str(u) for u in domains]\n",
    "        )\n",
    "    else:\n",
    "        raise Exception(f\"invalid source_or_target_dataset: {source_or_target_dataset}\")\n",
    "    "
   ]
  },
  {
   "cell_type": "code",
   "execution_count": 13,
   "id": "fe266617",
   "metadata": {
    "execution": {
     "iopub.execute_input": "2022-03-28T04:31:43.832605Z",
     "iopub.status.busy": "2022-03-28T04:31:43.832023Z",
     "iopub.status.idle": "2022-03-28T04:33:33.756336Z",
     "shell.execute_reply": "2022-03-28T04:33:33.755577Z"
    },
    "papermill": {
     "duration": 109.948911,
     "end_time": "2022-03-28T04:33:33.756520",
     "exception": false,
     "start_time": "2022-03-28T04:31:43.807609",
     "status": "completed"
    },
    "tags": []
   },
   "outputs": [],
   "source": [
    "for ds in p.datasets:\n",
    "    add_dataset(**ds)"
   ]
  },
  {
   "cell_type": "code",
   "execution_count": 14,
   "id": "b90d65ac",
   "metadata": {
    "execution": {
     "iopub.execute_input": "2022-03-28T04:33:33.805168Z",
     "iopub.status.busy": "2022-03-28T04:33:33.804604Z",
     "iopub.status.idle": "2022-03-28T04:33:33.827480Z",
     "shell.execute_reply": "2022-03-28T04:33:33.826656Z"
    },
    "papermill": {
     "duration": 0.045607,
     "end_time": "2022-03-28T04:33:33.827650",
     "exception": false,
     "start_time": "2022-03-28T04:33:33.782043",
     "status": "completed"
    },
    "tags": []
   },
   "outputs": [],
   "source": [
    "# from steves_utils.CORES.utils import (\n",
    "#     ALL_NODES,\n",
    "#     ALL_NODES_MINIMUM_1000_EXAMPLES,\n",
    "#     ALL_DAYS\n",
    "# )\n",
    "\n",
    "# add_dataset(\n",
    "#     labels=ALL_NODES,\n",
    "#     domains = ALL_DAYS,\n",
    "#     num_examples_per_domain_per_label=100,\n",
    "#     pickle_path=os.path.join(get_datasets_base_path(), \"cores.stratified_ds.2022A.pkl\"),\n",
    "#     source_or_target_dataset=\"target\",\n",
    "#     x_transform_func=global_x_transform_func,\n",
    "#     domain_modifier=lambda u: f\"cores_{u}\"\n",
    "# )"
   ]
  },
  {
   "cell_type": "code",
   "execution_count": 15,
   "id": "76db484d",
   "metadata": {
    "execution": {
     "iopub.execute_input": "2022-03-28T04:33:33.880725Z",
     "iopub.status.busy": "2022-03-28T04:33:33.880072Z",
     "iopub.status.idle": "2022-03-28T04:33:33.901873Z",
     "shell.execute_reply": "2022-03-28T04:33:33.901065Z"
    },
    "papermill": {
     "duration": 0.04564,
     "end_time": "2022-03-28T04:33:33.902023",
     "exception": false,
     "start_time": "2022-03-28T04:33:33.856383",
     "status": "completed"
    },
    "tags": []
   },
   "outputs": [],
   "source": [
    "# from steves_utils.ORACLE.utils_v2 import (\n",
    "#     ALL_DISTANCES_FEET,\n",
    "#     ALL_RUNS,\n",
    "#     ALL_SERIAL_NUMBERS,\n",
    "# )\n",
    "\n",
    "\n",
    "# add_dataset(\n",
    "#     labels=ALL_SERIAL_NUMBERS,\n",
    "#     domains = list(set(ALL_DISTANCES_FEET) - {2,62}),\n",
    "#     num_examples_per_domain_per_label=100,\n",
    "#     pickle_path=os.path.join(get_datasets_base_path(), \"oracle.Run2_framed_2000Examples_stratified_ds.2022A.pkl\"),\n",
    "#     source_or_target_dataset=\"source\",\n",
    "#     x_transform_func=global_x_transform_func,\n",
    "#     domain_modifier=lambda u: f\"oracle1_{u}\"\n",
    "# )\n"
   ]
  },
  {
   "cell_type": "code",
   "execution_count": 16,
   "id": "97dea9d2",
   "metadata": {
    "execution": {
     "iopub.execute_input": "2022-03-28T04:33:33.951791Z",
     "iopub.status.busy": "2022-03-28T04:33:33.950952Z",
     "iopub.status.idle": "2022-03-28T04:33:33.973340Z",
     "shell.execute_reply": "2022-03-28T04:33:33.972525Z"
    },
    "papermill": {
     "duration": 0.045615,
     "end_time": "2022-03-28T04:33:33.973492",
     "exception": false,
     "start_time": "2022-03-28T04:33:33.927877",
     "status": "completed"
    },
    "tags": []
   },
   "outputs": [],
   "source": [
    "# from steves_utils.ORACLE.utils_v2 import (\n",
    "#     ALL_DISTANCES_FEET,\n",
    "#     ALL_RUNS,\n",
    "#     ALL_SERIAL_NUMBERS,\n",
    "# )\n",
    "\n",
    "\n",
    "# add_dataset(\n",
    "#     labels=ALL_SERIAL_NUMBERS,\n",
    "#     domains = list(set(ALL_DISTANCES_FEET) - {2,62,56}),\n",
    "#     num_examples_per_domain_per_label=100,\n",
    "#     pickle_path=os.path.join(get_datasets_base_path(), \"oracle.Run2_framed_2000Examples_stratified_ds.2022A.pkl\"),\n",
    "#     source_or_target_dataset=\"source\",\n",
    "#     x_transform_func=global_x_transform_func,\n",
    "#     domain_modifier=lambda u: f\"oracle2_{u}\"\n",
    "# )"
   ]
  },
  {
   "cell_type": "code",
   "execution_count": 17,
   "id": "6f289866",
   "metadata": {
    "execution": {
     "iopub.execute_input": "2022-03-28T04:33:34.023253Z",
     "iopub.status.busy": "2022-03-28T04:33:34.022825Z",
     "iopub.status.idle": "2022-03-28T04:33:34.042696Z",
     "shell.execute_reply": "2022-03-28T04:33:34.041891Z"
    },
    "papermill": {
     "duration": 0.043776,
     "end_time": "2022-03-28T04:33:34.042848",
     "exception": false,
     "start_time": "2022-03-28T04:33:33.999072",
     "status": "completed"
    },
    "tags": []
   },
   "outputs": [],
   "source": [
    "# add_dataset(\n",
    "#     labels=list(range(19)),\n",
    "#     domains = [0,1,2],\n",
    "#     num_examples_per_domain_per_label=100,\n",
    "#     pickle_path=os.path.join(get_datasets_base_path(), \"metehan.stratified_ds.2022A.pkl\"),\n",
    "#     source_or_target_dataset=\"target\",\n",
    "#     x_transform_func=global_x_transform_func,\n",
    "#     domain_modifier=lambda u: f\"met_{u}\"\n",
    "# )"
   ]
  },
  {
   "cell_type": "code",
   "execution_count": 18,
   "id": "86a863c3",
   "metadata": {
    "execution": {
     "iopub.execute_input": "2022-03-28T04:33:34.093776Z",
     "iopub.status.busy": "2022-03-28T04:33:34.093408Z",
     "iopub.status.idle": "2022-03-28T04:33:34.110381Z",
     "shell.execute_reply": "2022-03-28T04:33:34.109680Z"
    },
    "papermill": {
     "duration": 0.039865,
     "end_time": "2022-03-28T04:33:34.110532",
     "exception": false,
     "start_time": "2022-03-28T04:33:34.070667",
     "status": "completed"
    },
    "tags": []
   },
   "outputs": [],
   "source": [
    "# # from steves_utils.wisig.utils import (\n",
    "# #     ALL_NODES_MINIMUM_100_EXAMPLES,\n",
    "# #     ALL_NODES_MINIMUM_500_EXAMPLES,\n",
    "# #     ALL_NODES_MINIMUM_1000_EXAMPLES,\n",
    "# #     ALL_DAYS\n",
    "# # )\n",
    "\n",
    "# import steves_utils.wisig.utils as wisig\n",
    "\n",
    "\n",
    "# add_dataset(\n",
    "#     labels=wisig.ALL_NODES_MINIMUM_100_EXAMPLES,\n",
    "#     domains = wisig.ALL_DAYS,\n",
    "#     num_examples_per_domain_per_label=100,\n",
    "#     pickle_path=os.path.join(get_datasets_base_path(), \"wisig.node3-19.stratified_ds.2022A.pkl\"),\n",
    "#     source_or_target_dataset=\"target\",\n",
    "#     x_transform_func=global_x_transform_func,\n",
    "#     domain_modifier=lambda u: f\"wisig_{u}\"\n",
    "# )"
   ]
  },
  {
   "cell_type": "code",
   "execution_count": 19,
   "id": "fd5442bc",
   "metadata": {
    "execution": {
     "iopub.execute_input": "2022-03-28T04:33:34.169173Z",
     "iopub.status.busy": "2022-03-28T04:33:34.168598Z",
     "iopub.status.idle": "2022-03-28T04:33:34.186393Z",
     "shell.execute_reply": "2022-03-28T04:33:34.185693Z"
    },
    "papermill": {
     "duration": 0.047953,
     "end_time": "2022-03-28T04:33:34.186544",
     "exception": false,
     "start_time": "2022-03-28T04:33:34.138591",
     "status": "completed"
    },
    "tags": []
   },
   "outputs": [],
   "source": [
    "###################################\n",
    "# Build the dataset\n",
    "###################################\n",
    "train_original_source = Iterable_Aggregator(train_original_source, p.seed)\n",
    "val_original_source = Iterable_Aggregator(val_original_source, p.seed)\n",
    "test_original_source = Iterable_Aggregator(test_original_source, p.seed)\n",
    "\n",
    "\n",
    "train_original_target = Iterable_Aggregator(train_original_target, p.seed)\n",
    "val_original_target = Iterable_Aggregator(val_original_target, p.seed)\n",
    "test_original_target = Iterable_Aggregator(test_original_target, p.seed)\n",
    "\n",
    "# For CNN We only use X and Y. And we only train on the source.\n",
    "# Properly form the data using a transform lambda and Lazy_Iterable_Wrapper. Finally wrap them in a dataloader\n",
    "\n",
    "transform_lambda = lambda ex: ex[1] # Original is (<domain>, <episode>) so we strip down to episode only\n",
    "\n",
    "train_processed_source = Lazy_Iterable_Wrapper(train_original_source, transform_lambda)\n",
    "val_processed_source   = Lazy_Iterable_Wrapper(val_original_source, transform_lambda)\n",
    "test_processed_source  = Lazy_Iterable_Wrapper(test_original_source, transform_lambda)\n",
    "\n",
    "train_processed_target = Lazy_Iterable_Wrapper(train_original_target, transform_lambda)\n",
    "val_processed_target   = Lazy_Iterable_Wrapper(val_original_target, transform_lambda)\n",
    "test_processed_target  = Lazy_Iterable_Wrapper(test_original_target, transform_lambda)\n",
    "\n",
    "datasets = EasyDict({\n",
    "    \"source\": {\n",
    "        \"original\": {\"train\":train_original_source, \"val\":val_original_source, \"test\":test_original_source},\n",
    "        \"processed\": {\"train\":train_processed_source, \"val\":val_processed_source, \"test\":test_processed_source}\n",
    "    },\n",
    "    \"target\": {\n",
    "        \"original\": {\"train\":train_original_target, \"val\":val_original_target, \"test\":test_original_target},\n",
    "        \"processed\": {\"train\":train_processed_target, \"val\":val_processed_target, \"test\":test_processed_target}\n",
    "    },\n",
    "})"
   ]
  },
  {
   "cell_type": "code",
   "execution_count": 20,
   "id": "5b3c01fc",
   "metadata": {
    "execution": {
     "iopub.execute_input": "2022-03-28T04:33:34.239840Z",
     "iopub.status.busy": "2022-03-28T04:33:34.238957Z",
     "iopub.status.idle": "2022-03-28T04:33:48.813685Z",
     "shell.execute_reply": "2022-03-28T04:33:48.812601Z"
    },
    "papermill": {
     "duration": 14.601427,
     "end_time": "2022-03-28T04:33:48.813860",
     "exception": false,
     "start_time": "2022-03-28T04:33:34.212433",
     "status": "completed"
    },
    "tags": []
   },
   "outputs": [
    {
     "name": "stdout",
     "output_type": "stream",
     "text": [
      "{'O_38', 'O_26', 'O_50', 'O_20', 'O_44', 'O_32', 'O_14', 'O_8'}\n"
     ]
    },
    {
     "name": "stdout",
     "output_type": "stream",
     "text": [
      "{'C_4', 'C_3', 'C_2', 'C_5', 'C_1'}\n"
     ]
    },
    {
     "name": "stdout",
     "output_type": "stream",
     "text": [
      "tensor([[[0., 0., 0.,  ..., 0., 0., 0.],\n",
      "         [0., 0., 0.,  ..., 0., 0., 0.]],\n",
      "\n",
      "        [[0., 0., 0.,  ..., 0., 0., 0.],\n",
      "         [0., 0., 0.,  ..., 0., 0., 0.]],\n",
      "\n",
      "        [[0., 0., 0.,  ..., 0., 0., 0.],\n",
      "         [0., 0., 0.,  ..., 0., 0., 0.]],\n",
      "\n",
      "        ...,\n",
      "\n",
      "        [[0., 0., 0.,  ..., 0., 0., 0.],\n",
      "         [0., 0., 0.,  ..., 0., 0., 0.]],\n",
      "\n",
      "        [[0., 0., 0.,  ..., 0., 0., 0.],\n",
      "         [0., 0., 0.,  ..., 0., 0., 0.]],\n",
      "\n",
      "        [[0., 0., 0.,  ..., 0., 0., 0.],\n",
      "         [0., 0., 0.,  ..., 0., 0., 0.]]])\n"
     ]
    }
   ],
   "source": [
    "from steves_utils.transforms import get_average_magnitude, get_average_power\n",
    "\n",
    "print(set([u for u,_ in val_original_source]))\n",
    "print(set([u for u,_ in val_original_target]))\n",
    "\n",
    "s_x, s_y, q_x, q_y, _ = next(iter(train_processed_source))\n",
    "print(s_x)\n",
    "\n",
    "# for ds in [\n",
    "#     train_processed_source,\n",
    "#     val_processed_source,\n",
    "#     test_processed_source,\n",
    "#     train_processed_target,\n",
    "#     val_processed_target,\n",
    "#     test_processed_target\n",
    "# ]:\n",
    "#     for s_x, s_y, q_x, q_y, _ in ds:\n",
    "#         for X in (s_x, q_x):\n",
    "#             for x in X:\n",
    "#                 assert np.isclose(get_average_magnitude(x.numpy()), 1.0)\n",
    "#                 assert np.isclose(get_average_power(x.numpy()), 1.0)\n",
    "                "
   ]
  },
  {
   "cell_type": "code",
   "execution_count": 21,
   "id": "bbdacba1",
   "metadata": {
    "execution": {
     "iopub.execute_input": "2022-03-28T04:33:48.878293Z",
     "iopub.status.busy": "2022-03-28T04:33:48.877482Z",
     "iopub.status.idle": "2022-03-28T04:33:48.990876Z",
     "shell.execute_reply": "2022-03-28T04:33:48.990496Z"
    },
    "papermill": {
     "duration": 0.146767,
     "end_time": "2022-03-28T04:33:48.990962",
     "exception": false,
     "start_time": "2022-03-28T04:33:48.844195",
     "status": "completed"
    },
    "tags": []
   },
   "outputs": [
    {
     "name": "stdout",
     "output_type": "stream",
     "text": [
      "(2, 256)\n"
     ]
    }
   ],
   "source": [
    "###################################\n",
    "# Build the model\n",
    "###################################\n",
    "# easfsl only wants a tuple for the shape\n",
    "model = Steves_Prototypical_Network(x_net, device=p.device, x_shape=tuple(p.x_shape))\n",
    "optimizer = Adam(params=model.parameters(), lr=p.lr)"
   ]
  },
  {
   "cell_type": "code",
   "execution_count": 22,
   "id": "22b39ac5",
   "metadata": {
    "execution": {
     "iopub.execute_input": "2022-03-28T04:33:49.041157Z",
     "iopub.status.busy": "2022-03-28T04:33:49.040516Z",
     "iopub.status.idle": "2022-03-28T04:57:14.672111Z",
     "shell.execute_reply": "2022-03-28T04:57:14.671763Z"
    },
    "papermill": {
     "duration": 1405.659087,
     "end_time": "2022-03-28T04:57:14.672200",
     "exception": false,
     "start_time": "2022-03-28T04:33:49.013113",
     "status": "completed"
    },
    "tags": []
   },
   "outputs": [
    {
     "name": "stdout",
     "output_type": "stream",
     "text": [
      "epoch: 1, [batch: 1 / 6720], examples_per_second: 33.5329, train_label_loss: 2.8994, \n"
     ]
    },
    {
     "name": "stdout",
     "output_type": "stream",
     "text": [
      "epoch: 1, [batch: 672 / 6720], examples_per_second: 4757.3772, train_label_loss: 1.1264, \n"
     ]
    },
    {
     "name": "stdout",
     "output_type": "stream",
     "text": [
      "epoch: 1, [batch: 1344 / 6720], examples_per_second: 4943.8385, train_label_loss: 0.8843, \n"
     ]
    },
    {
     "name": "stdout",
     "output_type": "stream",
     "text": [
      "epoch: 1, [batch: 2016 / 6720], examples_per_second: 4877.5764, train_label_loss: 0.6530, \n"
     ]
    },
    {
     "name": "stdout",
     "output_type": "stream",
     "text": [
      "epoch: 1, [batch: 2688 / 6720], examples_per_second: 4808.0460, train_label_loss: 0.6313, \n"
     ]
    },
    {
     "name": "stdout",
     "output_type": "stream",
     "text": [
      "epoch: 1, [batch: 3360 / 6720], examples_per_second: 4892.2644, train_label_loss: 0.9026, \n"
     ]
    },
    {
     "name": "stdout",
     "output_type": "stream",
     "text": [
      "epoch: 1, [batch: 4032 / 6720], examples_per_second: 4896.5981, train_label_loss: 0.9266, \n"
     ]
    },
    {
     "name": "stdout",
     "output_type": "stream",
     "text": [
      "epoch: 1, [batch: 4704 / 6720], examples_per_second: 4927.7340, train_label_loss: 0.6655, \n"
     ]
    },
    {
     "name": "stdout",
     "output_type": "stream",
     "text": [
      "epoch: 1, [batch: 5376 / 6720], examples_per_second: 4767.1221, train_label_loss: 0.5957, \n"
     ]
    },
    {
     "name": "stdout",
     "output_type": "stream",
     "text": [
      "epoch: 1, [batch: 6048 / 6720], examples_per_second: 4663.1446, train_label_loss: 0.7792, \n"
     ]
    },
    {
     "name": "stdout",
     "output_type": "stream",
     "text": [
      "=============================================================\n",
      "epoch: 1, source_val_acc_label: 0.5826, target_val_acc_label: 0.4776, source_val_label_loss: 1.6085, target_val_label_loss: 307.4678, \n",
      "=============================================================\n"
     ]
    },
    {
     "name": "stdout",
     "output_type": "stream",
     "text": [
      "New best\n"
     ]
    },
    {
     "name": "stdout",
     "output_type": "stream",
     "text": [
      "epoch: 2, [batch: 1 / 6720], examples_per_second: 4.6764, train_label_loss: 1.0310, \n"
     ]
    },
    {
     "name": "stdout",
     "output_type": "stream",
     "text": [
      "epoch: 2, [batch: 672 / 6720], examples_per_second: 3871.4996, train_label_loss: 1.0516, \n"
     ]
    },
    {
     "name": "stdout",
     "output_type": "stream",
     "text": [
      "epoch: 2, [batch: 1344 / 6720], examples_per_second: 4060.6611, train_label_loss: 1.3711, \n"
     ]
    },
    {
     "name": "stdout",
     "output_type": "stream",
     "text": [
      "epoch: 2, [batch: 2016 / 6720], examples_per_second: 3988.6428, train_label_loss: 0.5448, \n"
     ]
    },
    {
     "name": "stdout",
     "output_type": "stream",
     "text": [
      "epoch: 2, [batch: 2688 / 6720], examples_per_second: 3762.2736, train_label_loss: 0.7650, \n"
     ]
    },
    {
     "name": "stdout",
     "output_type": "stream",
     "text": [
      "epoch: 2, [batch: 3360 / 6720], examples_per_second: 3852.3059, train_label_loss: 0.7746, \n"
     ]
    },
    {
     "name": "stdout",
     "output_type": "stream",
     "text": [
      "epoch: 2, [batch: 4032 / 6720], examples_per_second: 3863.2110, train_label_loss: 0.7765, \n"
     ]
    },
    {
     "name": "stdout",
     "output_type": "stream",
     "text": [
      "epoch: 2, [batch: 4704 / 6720], examples_per_second: 3811.9107, train_label_loss: 0.5489, \n"
     ]
    },
    {
     "name": "stdout",
     "output_type": "stream",
     "text": [
      "epoch: 2, [batch: 5376 / 6720], examples_per_second: 3825.9123, train_label_loss: 1.2930, \n"
     ]
    },
    {
     "name": "stdout",
     "output_type": "stream",
     "text": [
      "epoch: 2, [batch: 6048 / 6720], examples_per_second: 4106.8497, train_label_loss: 0.7277, \n"
     ]
    },
    {
     "name": "stdout",
     "output_type": "stream",
     "text": [
      "=============================================================\n",
      "epoch: 2, source_val_acc_label: 0.6851, target_val_acc_label: 0.6098, source_val_label_loss: 0.8558, target_val_label_loss: 130.1422, \n",
      "=============================================================\n"
     ]
    },
    {
     "name": "stdout",
     "output_type": "stream",
     "text": [
      "New best\n"
     ]
    },
    {
     "name": "stdout",
     "output_type": "stream",
     "text": [
      "epoch: 3, [batch: 1 / 6720], examples_per_second: 4.5132, train_label_loss: 1.1873, \n"
     ]
    },
    {
     "name": "stdout",
     "output_type": "stream",
     "text": [
      "epoch: 3, [batch: 672 / 6720], examples_per_second: 3771.7236, train_label_loss: 0.6008, \n"
     ]
    },
    {
     "name": "stdout",
     "output_type": "stream",
     "text": [
      "epoch: 3, [batch: 1344 / 6720], examples_per_second: 3846.8446, train_label_loss: 0.9235, \n"
     ]
    },
    {
     "name": "stdout",
     "output_type": "stream",
     "text": [
      "epoch: 3, [batch: 2016 / 6720], examples_per_second: 4017.2078, train_label_loss: 0.8260, \n"
     ]
    },
    {
     "name": "stdout",
     "output_type": "stream",
     "text": [
      "epoch: 3, [batch: 2688 / 6720], examples_per_second: 3998.6800, train_label_loss: 0.6463, \n"
     ]
    },
    {
     "name": "stdout",
     "output_type": "stream",
     "text": [
      "epoch: 3, [batch: 3360 / 6720], examples_per_second: 4038.2584, train_label_loss: 0.6593, \n"
     ]
    },
    {
     "name": "stdout",
     "output_type": "stream",
     "text": [
      "epoch: 3, [batch: 4032 / 6720], examples_per_second: 3981.3995, train_label_loss: 0.8214, \n"
     ]
    },
    {
     "name": "stdout",
     "output_type": "stream",
     "text": [
      "epoch: 3, [batch: 4704 / 6720], examples_per_second: 4019.9052, train_label_loss: 0.6466, \n"
     ]
    },
    {
     "name": "stdout",
     "output_type": "stream",
     "text": [
      "epoch: 3, [batch: 5376 / 6720], examples_per_second: 4035.6885, train_label_loss: 0.3763, \n"
     ]
    },
    {
     "name": "stdout",
     "output_type": "stream",
     "text": [
      "epoch: 3, [batch: 6048 / 6720], examples_per_second: 4162.0178, train_label_loss: 0.9846, \n"
     ]
    },
    {
     "name": "stdout",
     "output_type": "stream",
     "text": [
      "=============================================================\n",
      "epoch: 3, source_val_acc_label: 0.7272, target_val_acc_label: 0.6113, source_val_label_loss: 0.7427, target_val_label_loss: 196.1111, \n",
      "=============================================================\n"
     ]
    },
    {
     "name": "stdout",
     "output_type": "stream",
     "text": [
      "New best\n"
     ]
    },
    {
     "name": "stdout",
     "output_type": "stream",
     "text": [
      "epoch: 4, [batch: 1 / 6720], examples_per_second: 4.5735, train_label_loss: 0.6771, \n"
     ]
    },
    {
     "name": "stdout",
     "output_type": "stream",
     "text": [
      "epoch: 4, [batch: 672 / 6720], examples_per_second: 3867.5548, train_label_loss: 0.5896, \n"
     ]
    },
    {
     "name": "stdout",
     "output_type": "stream",
     "text": [
      "epoch: 4, [batch: 1344 / 6720], examples_per_second: 3945.9244, train_label_loss: 0.4768, \n"
     ]
    },
    {
     "name": "stdout",
     "output_type": "stream",
     "text": [
      "epoch: 4, [batch: 2016 / 6720], examples_per_second: 3893.4309, train_label_loss: 0.3898, \n"
     ]
    },
    {
     "name": "stdout",
     "output_type": "stream",
     "text": [
      "epoch: 4, [batch: 2688 / 6720], examples_per_second: 3863.7403, train_label_loss: 0.7205, \n"
     ]
    },
    {
     "name": "stdout",
     "output_type": "stream",
     "text": [
      "epoch: 4, [batch: 3360 / 6720], examples_per_second: 3913.6756, train_label_loss: 0.4254, \n"
     ]
    },
    {
     "name": "stdout",
     "output_type": "stream",
     "text": [
      "epoch: 4, [batch: 4032 / 6720], examples_per_second: 3815.1207, train_label_loss: 0.8159, \n"
     ]
    },
    {
     "name": "stdout",
     "output_type": "stream",
     "text": [
      "epoch: 4, [batch: 4704 / 6720], examples_per_second: 3884.9600, train_label_loss: 0.4436, \n"
     ]
    },
    {
     "name": "stdout",
     "output_type": "stream",
     "text": [
      "epoch: 4, [batch: 5376 / 6720], examples_per_second: 3962.7124, train_label_loss: 0.5283, \n"
     ]
    },
    {
     "name": "stdout",
     "output_type": "stream",
     "text": [
      "epoch: 4, [batch: 6048 / 6720], examples_per_second: 4110.8048, train_label_loss: 0.4470, \n"
     ]
    },
    {
     "name": "stdout",
     "output_type": "stream",
     "text": [
      "=============================================================\n",
      "epoch: 4, source_val_acc_label: 0.7759, target_val_acc_label: 0.5950, source_val_label_loss: 0.6071, target_val_label_loss: 228.7362, \n",
      "=============================================================\n"
     ]
    },
    {
     "name": "stdout",
     "output_type": "stream",
     "text": [
      "epoch: 5, [batch: 1 / 6720], examples_per_second: 4.6214, train_label_loss: 0.8311, \n"
     ]
    },
    {
     "name": "stdout",
     "output_type": "stream",
     "text": [
      "epoch: 5, [batch: 672 / 6720], examples_per_second: 3921.6375, train_label_loss: 0.7989, \n"
     ]
    },
    {
     "name": "stdout",
     "output_type": "stream",
     "text": [
      "epoch: 5, [batch: 1344 / 6720], examples_per_second: 3992.7455, train_label_loss: 0.6348, \n"
     ]
    },
    {
     "name": "stdout",
     "output_type": "stream",
     "text": [
      "epoch: 5, [batch: 2016 / 6720], examples_per_second: 3994.6788, train_label_loss: 1.2164, \n"
     ]
    },
    {
     "name": "stdout",
     "output_type": "stream",
     "text": [
      "epoch: 5, [batch: 2688 / 6720], examples_per_second: 3975.8847, train_label_loss: 0.2224, \n"
     ]
    },
    {
     "name": "stdout",
     "output_type": "stream",
     "text": [
      "epoch: 5, [batch: 3360 / 6720], examples_per_second: 3988.3552, train_label_loss: 1.2534, \n"
     ]
    },
    {
     "name": "stdout",
     "output_type": "stream",
     "text": [
      "epoch: 5, [batch: 4032 / 6720], examples_per_second: 3918.3050, train_label_loss: 0.2454, \n"
     ]
    },
    {
     "name": "stdout",
     "output_type": "stream",
     "text": [
      "epoch: 5, [batch: 4704 / 6720], examples_per_second: 3866.2874, train_label_loss: 0.5305, \n"
     ]
    },
    {
     "name": "stdout",
     "output_type": "stream",
     "text": [
      "epoch: 5, [batch: 5376 / 6720], examples_per_second: 3938.6859, train_label_loss: 0.4040, \n"
     ]
    },
    {
     "name": "stdout",
     "output_type": "stream",
     "text": [
      "epoch: 5, [batch: 6048 / 6720], examples_per_second: 4000.2124, train_label_loss: 0.5799, \n"
     ]
    },
    {
     "name": "stdout",
     "output_type": "stream",
     "text": [
      "=============================================================\n",
      "epoch: 5, source_val_acc_label: 0.8040, target_val_acc_label: 0.6428, source_val_label_loss: 0.5378, target_val_label_loss: 178.8927, \n",
      "=============================================================\n"
     ]
    },
    {
     "name": "stdout",
     "output_type": "stream",
     "text": [
      "New best\n"
     ]
    },
    {
     "name": "stdout",
     "output_type": "stream",
     "text": [
      "epoch: 6, [batch: 1 / 6720], examples_per_second: 4.6142, train_label_loss: 0.4055, \n"
     ]
    },
    {
     "name": "stdout",
     "output_type": "stream",
     "text": [
      "epoch: 6, [batch: 672 / 6720], examples_per_second: 3825.4413, train_label_loss: 0.2805, \n"
     ]
    },
    {
     "name": "stdout",
     "output_type": "stream",
     "text": [
      "epoch: 6, [batch: 1344 / 6720], examples_per_second: 3889.0571, train_label_loss: 0.3006, \n"
     ]
    },
    {
     "name": "stdout",
     "output_type": "stream",
     "text": [
      "epoch: 6, [batch: 2016 / 6720], examples_per_second: 3829.3166, train_label_loss: 0.4221, \n"
     ]
    },
    {
     "name": "stdout",
     "output_type": "stream",
     "text": [
      "epoch: 6, [batch: 2688 / 6720], examples_per_second: 3843.0236, train_label_loss: 0.3700, \n"
     ]
    },
    {
     "name": "stdout",
     "output_type": "stream",
     "text": [
      "epoch: 6, [batch: 3360 / 6720], examples_per_second: 3914.7753, train_label_loss: 0.5340, \n"
     ]
    },
    {
     "name": "stdout",
     "output_type": "stream",
     "text": [
      "epoch: 6, [batch: 4032 / 6720], examples_per_second: 3939.4000, train_label_loss: 0.5456, \n"
     ]
    },
    {
     "name": "stdout",
     "output_type": "stream",
     "text": [
      "epoch: 6, [batch: 4704 / 6720], examples_per_second: 3795.2438, train_label_loss: 0.7027, \n"
     ]
    },
    {
     "name": "stdout",
     "output_type": "stream",
     "text": [
      "epoch: 6, [batch: 5376 / 6720], examples_per_second: 3905.9905, train_label_loss: 0.5326, \n"
     ]
    },
    {
     "name": "stdout",
     "output_type": "stream",
     "text": [
      "epoch: 6, [batch: 6048 / 6720], examples_per_second: 3819.1649, train_label_loss: 0.4388, \n"
     ]
    },
    {
     "name": "stdout",
     "output_type": "stream",
     "text": [
      "=============================================================\n",
      "epoch: 6, source_val_acc_label: 0.7940, target_val_acc_label: 0.6354, source_val_label_loss: 0.5603, target_val_label_loss: 267.5282, \n",
      "=============================================================\n"
     ]
    },
    {
     "name": "stdout",
     "output_type": "stream",
     "text": [
      "epoch: 7, [batch: 1 / 6720], examples_per_second: 4.5122, train_label_loss: 0.2831, \n"
     ]
    },
    {
     "name": "stdout",
     "output_type": "stream",
     "text": [
      "epoch: 7, [batch: 672 / 6720], examples_per_second: 3822.2692, train_label_loss: 0.2653, \n"
     ]
    },
    {
     "name": "stdout",
     "output_type": "stream",
     "text": [
      "epoch: 7, [batch: 1344 / 6720], examples_per_second: 3948.8205, train_label_loss: 0.3062, \n"
     ]
    },
    {
     "name": "stdout",
     "output_type": "stream",
     "text": [
      "epoch: 7, [batch: 2016 / 6720], examples_per_second: 3873.7565, train_label_loss: 0.3146, \n"
     ]
    },
    {
     "name": "stdout",
     "output_type": "stream",
     "text": [
      "epoch: 7, [batch: 2688 / 6720], examples_per_second: 3883.3637, train_label_loss: 0.0752, \n"
     ]
    },
    {
     "name": "stdout",
     "output_type": "stream",
     "text": [
      "epoch: 7, [batch: 3360 / 6720], examples_per_second: 3947.4262, train_label_loss: 0.0911, \n"
     ]
    },
    {
     "name": "stdout",
     "output_type": "stream",
     "text": [
      "epoch: 7, [batch: 4032 / 6720], examples_per_second: 3965.0794, train_label_loss: 0.3057, \n"
     ]
    },
    {
     "name": "stdout",
     "output_type": "stream",
     "text": [
      "epoch: 7, [batch: 4704 / 6720], examples_per_second: 3925.6570, train_label_loss: 0.3606, \n"
     ]
    },
    {
     "name": "stdout",
     "output_type": "stream",
     "text": [
      "epoch: 7, [batch: 5376 / 6720], examples_per_second: 3926.2100, train_label_loss: 0.5313, \n"
     ]
    },
    {
     "name": "stdout",
     "output_type": "stream",
     "text": [
      "epoch: 7, [batch: 6048 / 6720], examples_per_second: 3879.4122, train_label_loss: 0.4496, \n"
     ]
    },
    {
     "name": "stdout",
     "output_type": "stream",
     "text": [
      "=============================================================\n",
      "epoch: 7, source_val_acc_label: 0.7966, target_val_acc_label: 0.5976, source_val_label_loss: 0.5489, target_val_label_loss: 285.0903, \n",
      "=============================================================\n"
     ]
    },
    {
     "name": "stdout",
     "output_type": "stream",
     "text": [
      "epoch: 8, [batch: 1 / 6720], examples_per_second: 4.6104, train_label_loss: 0.6232, \n"
     ]
    },
    {
     "name": "stdout",
     "output_type": "stream",
     "text": [
      "epoch: 8, [batch: 672 / 6720], examples_per_second: 3802.6045, train_label_loss: 0.4988, \n"
     ]
    },
    {
     "name": "stdout",
     "output_type": "stream",
     "text": [
      "epoch: 8, [batch: 1344 / 6720], examples_per_second: 3782.9958, train_label_loss: 0.1519, \n"
     ]
    },
    {
     "name": "stdout",
     "output_type": "stream",
     "text": [
      "epoch: 8, [batch: 2016 / 6720], examples_per_second: 3830.6371, train_label_loss: 0.6011, \n"
     ]
    },
    {
     "name": "stdout",
     "output_type": "stream",
     "text": [
      "epoch: 8, [batch: 2688 / 6720], examples_per_second: 3817.0313, train_label_loss: 0.6048, \n"
     ]
    },
    {
     "name": "stdout",
     "output_type": "stream",
     "text": [
      "epoch: 8, [batch: 3360 / 6720], examples_per_second: 3910.6872, train_label_loss: 0.9644, \n"
     ]
    },
    {
     "name": "stdout",
     "output_type": "stream",
     "text": [
      "epoch: 8, [batch: 4032 / 6720], examples_per_second: 3926.3567, train_label_loss: 0.6994, \n"
     ]
    },
    {
     "name": "stdout",
     "output_type": "stream",
     "text": [
      "epoch: 8, [batch: 4704 / 6720], examples_per_second: 3865.2259, train_label_loss: 0.1593, \n"
     ]
    },
    {
     "name": "stdout",
     "output_type": "stream",
     "text": [
      "epoch: 8, [batch: 5376 / 6720], examples_per_second: 3876.6710, train_label_loss: 0.2717, \n"
     ]
    },
    {
     "name": "stdout",
     "output_type": "stream",
     "text": [
      "epoch: 8, [batch: 6048 / 6720], examples_per_second: 3988.6001, train_label_loss: 0.4749, \n"
     ]
    },
    {
     "name": "stdout",
     "output_type": "stream",
     "text": [
      "=============================================================\n",
      "epoch: 8, source_val_acc_label: 0.8199, target_val_acc_label: 0.5775, source_val_label_loss: 0.4870, target_val_label_loss: 396.0591, \n",
      "=============================================================\n"
     ]
    },
    {
     "name": "stdout",
     "output_type": "stream",
     "text": [
      "epoch: 9, [batch: 1 / 6720], examples_per_second: 4.5488, train_label_loss: 0.5184, \n"
     ]
    },
    {
     "name": "stdout",
     "output_type": "stream",
     "text": [
      "epoch: 9, [batch: 672 / 6720], examples_per_second: 3815.3929, train_label_loss: 0.7342, \n"
     ]
    },
    {
     "name": "stdout",
     "output_type": "stream",
     "text": [
      "epoch: 9, [batch: 1344 / 6720], examples_per_second: 3950.7673, train_label_loss: 0.2213, \n"
     ]
    },
    {
     "name": "stdout",
     "output_type": "stream",
     "text": [
      "epoch: 9, [batch: 2016 / 6720], examples_per_second: 3939.6472, train_label_loss: 0.3645, \n"
     ]
    },
    {
     "name": "stdout",
     "output_type": "stream",
     "text": [
      "epoch: 9, [batch: 2688 / 6720], examples_per_second: 3782.3049, train_label_loss: 0.5061, \n"
     ]
    },
    {
     "name": "stdout",
     "output_type": "stream",
     "text": [
      "epoch: 9, [batch: 3360 / 6720], examples_per_second: 3829.2757, train_label_loss: 0.7303, \n"
     ]
    },
    {
     "name": "stdout",
     "output_type": "stream",
     "text": [
      "epoch: 9, [batch: 4032 / 6720], examples_per_second: 3994.8117, train_label_loss: 0.2018, \n"
     ]
    },
    {
     "name": "stdout",
     "output_type": "stream",
     "text": [
      "epoch: 9, [batch: 4704 / 6720], examples_per_second: 3909.4462, train_label_loss: 0.3911, \n"
     ]
    },
    {
     "name": "stdout",
     "output_type": "stream",
     "text": [
      "epoch: 9, [batch: 5376 / 6720], examples_per_second: 3886.8961, train_label_loss: 0.1986, \n"
     ]
    },
    {
     "name": "stdout",
     "output_type": "stream",
     "text": [
      "epoch: 9, [batch: 6048 / 6720], examples_per_second: 3839.6147, train_label_loss: 0.2957, \n"
     ]
    },
    {
     "name": "stdout",
     "output_type": "stream",
     "text": [
      "=============================================================\n",
      "epoch: 9, source_val_acc_label: 0.8020, target_val_acc_label: 0.5905, source_val_label_loss: 0.5361, target_val_label_loss: 269.3872, \n",
      "=============================================================\n"
     ]
    },
    {
     "name": "stdout",
     "output_type": "stream",
     "text": [
      "Patience (3) exhausted\n"
     ]
    }
   ],
   "source": [
    "###################################\n",
    "# train\n",
    "###################################\n",
    "jig = PTN_Train_Eval_Test_Jig(model, p.BEST_MODEL_PATH, p.device)\n",
    "\n",
    "jig.train(\n",
    "    train_iterable=datasets.source.processed.train,\n",
    "    source_val_iterable=datasets.source.processed.val,\n",
    "    target_val_iterable=datasets.target.processed.val,\n",
    "    num_epochs=p.n_epoch,\n",
    "    num_logs_per_epoch=p.NUM_LOGS_PER_EPOCH,\n",
    "    patience=p.patience,\n",
    "    optimizer=optimizer,\n",
    "    criteria_for_best=p.criteria_for_best,\n",
    ")"
   ]
  },
  {
   "cell_type": "code",
   "execution_count": 23,
   "id": "31e8fabf",
   "metadata": {
    "execution": {
     "iopub.execute_input": "2022-03-28T04:57:14.775413Z",
     "iopub.status.busy": "2022-03-28T04:57:14.775047Z",
     "iopub.status.idle": "2022-03-28T04:57:14.808219Z",
     "shell.execute_reply": "2022-03-28T04:57:14.807511Z"
    },
    "papermill": {
     "duration": 0.086961,
     "end_time": "2022-03-28T04:57:14.808376",
     "exception": false,
     "start_time": "2022-03-28T04:57:14.721415",
     "status": "completed"
    },
    "tags": []
   },
   "outputs": [],
   "source": [
    "total_experiment_time_secs = time.time() - start_time_secs"
   ]
  },
  {
   "cell_type": "code",
   "execution_count": 24,
   "id": "87b9595b",
   "metadata": {
    "execution": {
     "iopub.execute_input": "2022-03-28T04:57:14.921197Z",
     "iopub.status.busy": "2022-03-28T04:57:14.920584Z",
     "iopub.status.idle": "2022-03-28T05:00:01.680494Z",
     "shell.execute_reply": "2022-03-28T05:00:01.681181Z"
    },
    "papermill": {
     "duration": 166.817121,
     "end_time": "2022-03-28T05:00:01.681402",
     "exception": false,
     "start_time": "2022-03-28T04:57:14.864281",
     "status": "completed"
    },
    "tags": []
   },
   "outputs": [],
   "source": [
    "###################################\n",
    "# Evaluate the model\n",
    "###################################\n",
    "source_test_label_accuracy, source_test_label_loss = jig.test(datasets.source.processed.test)\n",
    "target_test_label_accuracy, target_test_label_loss = jig.test(datasets.target.processed.test)\n",
    "\n",
    "source_val_label_accuracy, source_val_label_loss = jig.test(datasets.source.processed.val)\n",
    "target_val_label_accuracy, target_val_label_loss = jig.test(datasets.target.processed.val)\n",
    "\n",
    "history = jig.get_history()\n",
    "\n",
    "total_epochs_trained = len(history[\"epoch_indices\"])\n",
    "\n",
    "val_dl = Iterable_Aggregator((datasets.source.original.val,datasets.target.original.val))\n",
    "\n",
    "confusion = ptn_confusion_by_domain_over_dataloader(model, p.device, val_dl)\n",
    "per_domain_accuracy = per_domain_accuracy_from_confusion(confusion)\n",
    "\n",
    "# Add a key to per_domain_accuracy for if it was a source domain\n",
    "for domain, accuracy in per_domain_accuracy.items():\n",
    "    per_domain_accuracy[domain] = {\n",
    "        \"accuracy\": accuracy,\n",
    "        \"source?\": domain in p.domains_source\n",
    "    }\n",
    "\n",
    "# Do an independent accuracy assesment JUST TO BE SURE!\n",
    "# _source_test_label_accuracy = independent_accuracy_assesment(model, datasets.source.processed.test, p.device)\n",
    "# _target_test_label_accuracy = independent_accuracy_assesment(model, datasets.target.processed.test, p.device)\n",
    "# _source_val_label_accuracy = independent_accuracy_assesment(model, datasets.source.processed.val, p.device)\n",
    "# _target_val_label_accuracy = independent_accuracy_assesment(model, datasets.target.processed.val, p.device)\n",
    "\n",
    "# assert(_source_test_label_accuracy == source_test_label_accuracy)\n",
    "# assert(_target_test_label_accuracy == target_test_label_accuracy)\n",
    "# assert(_source_val_label_accuracy == source_val_label_accuracy)\n",
    "# assert(_target_val_label_accuracy == target_val_label_accuracy)\n",
    "\n",
    "experiment = {\n",
    "    \"experiment_name\": p.experiment_name,\n",
    "    \"parameters\": dict(p),\n",
    "    \"results\": {\n",
    "        \"source_test_label_accuracy\": source_test_label_accuracy,\n",
    "        \"source_test_label_loss\": source_test_label_loss,\n",
    "        \"target_test_label_accuracy\": target_test_label_accuracy,\n",
    "        \"target_test_label_loss\": target_test_label_loss,\n",
    "        \"source_val_label_accuracy\": source_val_label_accuracy,\n",
    "        \"source_val_label_loss\": source_val_label_loss,\n",
    "        \"target_val_label_accuracy\": target_val_label_accuracy,\n",
    "        \"target_val_label_loss\": target_val_label_loss,\n",
    "        \"total_epochs_trained\": total_epochs_trained,\n",
    "        \"total_experiment_time_secs\": total_experiment_time_secs,\n",
    "        \"confusion\": confusion,\n",
    "        \"per_domain_accuracy\": per_domain_accuracy,\n",
    "    },\n",
    "    \"history\": history,\n",
    "    \"dataset_metrics\": get_dataset_metrics(datasets, \"ptn\"),\n",
    "}"
   ]
  },
  {
   "cell_type": "code",
   "execution_count": 25,
   "id": "54a21829",
   "metadata": {
    "execution": {
     "iopub.execute_input": "2022-03-28T05:00:01.788390Z",
     "iopub.status.busy": "2022-03-28T05:00:01.788018Z",
     "iopub.status.idle": "2022-03-28T05:00:02.021520Z",
     "shell.execute_reply": "2022-03-28T05:00:02.022208Z"
    },
    "papermill": {
     "duration": 0.28617,
     "end_time": "2022-03-28T05:00:02.022399",
     "exception": false,
     "start_time": "2022-03-28T05:00:01.736229",
     "status": "completed"
    },
    "tags": []
   },
   "outputs": [
    {
     "data": {
      "image/png": "[encoded data removed]",
      "text/plain": [
       "<Figure size 1080x504 with 1 Axes>"
      ]
     },
     "metadata": {
      "needs_background": "light"
     },
     "output_type": "display_data"
    }
   ],
   "source": [
    "ax = get_loss_curve(experiment)\n",
    "plt.show()"
   ]
  },
  {
   "cell_type": "code",
   "execution_count": 26,
   "id": "fd8a0f60",
   "metadata": {
    "execution": {
     "iopub.execute_input": "2022-03-28T05:00:02.131063Z",
     "iopub.status.busy": "2022-03-28T05:00:02.130694Z",
     "iopub.status.idle": "2022-03-28T05:00:02.476787Z",
     "shell.execute_reply": "2022-03-28T05:00:02.477451Z"
    },
    "papermill": {
     "duration": 0.399396,
     "end_time": "2022-03-28T05:00:02.477633",
     "exception": false,
     "start_time": "2022-03-28T05:00:02.078237",
     "status": "completed"
    },
    "tags": []
   },
   "outputs": [
    {
     "data": {
      "text/plain": [
       "<AxesSubplot:title={'center':'Results'}>"
      ]
     },
     "execution_count": 26,
     "metadata": {},
     "output_type": "execute_result"
    },
    {
     "data": {
      "image/png": "[encoded data removed]",
      "text/plain": [
       "<Figure size 1080x504 with 1 Axes>"
      ]
     },
     "metadata": {
      "needs_background": "light"
     },
     "output_type": "display_data"
    }
   ],
   "source": [
    "get_results_table(experiment)"
   ]
  },
  {
   "cell_type": "code",
   "execution_count": 27,
   "id": "cf8dc689",
   "metadata": {
    "execution": {
     "iopub.execute_input": "2022-03-28T05:00:02.588003Z",
     "iopub.status.busy": "2022-03-28T05:00:02.587638Z",
     "iopub.status.idle": "2022-03-28T05:00:02.821727Z",
     "shell.execute_reply": "2022-03-28T05:00:02.822406Z"
    },
    "papermill": {
     "duration": 0.289435,
     "end_time": "2022-03-28T05:00:02.822590",
     "exception": false,
     "start_time": "2022-03-28T05:00:02.533155",
     "status": "completed"
    },
    "tags": []
   },
   "outputs": [
    {
     "data": {
      "text/plain": [
       "<AxesSubplot:title={'center':'Per Domain Validation Accuracy'}, xlabel='domain'>"
      ]
     },
     "execution_count": 27,
     "metadata": {},
     "output_type": "execute_result"
    },
    {
     "data": {
      "image/png": "[encoded data removed]",
      "text/plain": [
       "<Figure size 1080x504 with 1 Axes>"
      ]
     },
     "metadata": {
      "needs_background": "light"
     },
     "output_type": "display_data"
    }
   ],
   "source": [
    "get_domain_accuracies(experiment)"
   ]
  },
  {
   "cell_type": "code",
   "execution_count": 28,
   "id": "a74ae082",
   "metadata": {
    "execution": {
     "iopub.execute_input": "2022-03-28T05:00:02.938192Z",
     "iopub.status.busy": "2022-03-28T05:00:02.937643Z",
     "iopub.status.idle": "2022-03-28T05:00:02.960200Z",
     "shell.execute_reply": "2022-03-28T05:00:02.959467Z"
    },
    "papermill": {
     "duration": 0.080237,
     "end_time": "2022-03-28T05:00:02.960356",
     "exception": false,
     "start_time": "2022-03-28T05:00:02.880119",
     "status": "completed"
    },
    "tags": []
   },
   "outputs": [
    {
     "name": "stdout",
     "output_type": "stream",
     "text": [
      "Source Test Label Accuracy: 0.7984049479166667 Target Test Label Accuracy: 0.6471164613661814\n",
      "Source Val Label Accuracy: 0.8039713541666667 Target Val Label Accuracy: 0.6428418192219679\n"
     ]
    }
   ],
   "source": [
    "print(\"Source Test Label Accuracy:\", experiment[\"results\"][\"source_test_label_accuracy\"], \"Target Test Label Accuracy:\", experiment[\"results\"][\"target_test_label_accuracy\"])\n",
    "print(\"Source Val Label Accuracy:\", experiment[\"results\"][\"source_val_label_accuracy\"], \"Target Val Label Accuracy:\", experiment[\"results\"][\"target_val_label_accuracy\"])"
   ]
  },
  {
   "cell_type": "code",
   "execution_count": 29,
   "id": "dacca602",
   "metadata": {
    "execution": {
     "iopub.execute_input": "2022-03-28T05:00:03.077699Z",
     "iopub.status.busy": "2022-03-28T05:00:03.077330Z",
     "iopub.status.idle": "2022-03-28T05:00:03.100542Z",
     "shell.execute_reply": "2022-03-28T05:00:03.101007Z"
    },
    "papermill": {
     "duration": 0.0814,
     "end_time": "2022-03-28T05:00:03.101133",
     "exception": false,
     "start_time": "2022-03-28T05:00:03.019733",
     "status": "completed"
    },
    "tags": [
     "experiment_json"
    ]
   },
   "outputs": [
    {
     "data": {
      "text/plain": [
       "'{\"experiment_name\": \"tl_3-jitter1v2:oracle.run1.framed -> cores\", \"parameters\": {\"experiment_name\": \"tl_3-jitter1v2:oracle.run1.framed -> cores\", \"device\": \"cuda\", \"lr\": 0.0001, \"x_shape\": [2, 256], \"n_shot\": 3, \"n_query\": 2, \"train_k_factor\": 3, \"val_k_factor\": 2, \"test_k_factor\": 2, \"torch_default_dtype\": \"torch.float32\", \"n_epoch\": 50, \"patience\": 3, \"criteria_for_best\": \"target_accuracy\", \"x_net\": [{\"class\": \"nnReshape\", \"kargs\": {\"shape\": [-1, 1, 2, 256]}}, {\"class\": \"Conv2d\", \"kargs\": {\"in_channels\": 1, \"out_channels\": 256, \"kernel_size\": [1, 7], \"bias\": false, \"padding\": [0, 3]}}, {\"class\": \"ReLU\", \"kargs\": {\"inplace\": true}}, {\"class\": \"BatchNorm2d\", \"kargs\": {\"num_features\": 256}}, {\"class\": \"Conv2d\", \"kargs\": {\"in_channels\": 256, \"out_channels\": 80, \"kernel_size\": [2, 7], \"bias\": true, \"padding\": [0, 3]}}, {\"class\": \"ReLU\", \"kargs\": {\"inplace\": true}}, {\"class\": \"BatchNorm2d\", \"kargs\": {\"num_features\": 80}}, {\"class\": \"Flatten\", \"kargs\": {}}, {\"class\": \"Linear\", \"kargs\": {\"in_features\": 20480, \"out_features\": 256}}, {\"class\": \"ReLU\", \"kargs\": {\"inplace\": true}}, {\"class\": \"BatchNorm1d\", \"kargs\": {\"num_features\": 256}}, {\"class\": \"Linear\", \"kargs\": {\"in_features\": 256, \"out_features\": 256}}], \"NUM_LOGS_PER_EPOCH\": 10, \"BEST_MODEL_PATH\": \"./best_model.pth\", \"n_way\": 16, \"datasets\": [{\"labels\": [\"1-10.\", \"1-11.\", \"1-15.\", \"1-16.\", \"1-17.\", \"1-18.\", \"1-19.\", \"10-4.\", \"10-7.\", \"11-1.\", \"11-14.\", \"11-17.\", \"11-20.\", \"11-7.\", \"13-20.\", \"13-8.\", \"14-10.\", \"14-11.\", \"14-14.\", \"14-7.\", \"15-1.\", \"15-20.\", \"16-1.\", \"16-16.\", \"17-10.\", \"17-11.\", \"17-2.\", \"19-1.\", \"19-16.\", \"19-19.\", \"19-20.\", \"19-3.\", \"2-10.\", \"2-11.\", \"2-17.\", \"2-18.\", \"2-20.\", \"2-3.\", \"2-4.\", \"2-5.\", \"2-6.\", \"2-7.\", \"2-8.\", \"3-13.\", \"3-18.\", \"3-3.\", \"4-1.\", \"4-10.\", \"4-11.\", \"4-19.\", \"5-5.\", \"6-15.\", \"7-10.\", \"7-14.\", \"8-18.\", \"8-20.\", \"8-3.\", \"8-8.\"], \"domains\": [1, 2, 3, 4, 5], \"num_examples_per_domain_per_label\": -1, \"pickle_path\": \"/root/csc500-main/datasets/cores.stratified_ds.2022A.pkl\", \"source_or_target_dataset\": \"target\", \"x_transforms\": [\"unit_power\", \"jitter_256_1\", \"lowpass_+/-10MHz\", \"take_200\"], \"episode_transforms\": [], \"domain_prefix\": \"C_\"}, {\"labels\": [\"3123D52\", \"3123D65\", \"3123D79\", \"3123D80\", \"3123D54\", \"3123D70\", \"3123D7B\", \"3123D89\", \"3123D58\", \"3123D76\", \"3123D7D\", \"3123EFE\", \"3123D64\", \"3123D78\", \"3123D7E\", \"3124E4A\"], \"domains\": [32, 38, 8, 44, 14, 50, 20, 26], \"num_examples_per_domain_per_label\": 2000, \"pickle_path\": \"/root/csc500-main/datasets/oracle.Run1_framed_2000Examples_stratified_ds.2022A.pkl\", \"source_or_target_dataset\": \"source\", \"x_transforms\": [\"unit_power\", \"jitter_256_1\", \"take_200\", \"resample_20Msps_to_25Msps\"], \"episode_transforms\": [], \"domain_prefix\": \"O_\"}], \"seed\": 154325, \"dataset_seed\": 154325, \"domains_source\": [\"O_32\", \"O_38\", \"O_8\", \"O_44\", \"O_14\", \"O_50\", \"O_20\", \"O_26\"], \"domains_target\": [\"C_1\", \"C_2\", \"C_3\", \"C_4\", \"C_5\"]}, \"results\": {\"source_test_label_accuracy\": 0.7984049479166667, \"source_test_label_loss\": 0.5463428497314453, \"target_test_label_accuracy\": 0.6471164613661814, \"target_test_label_loss\": 166.85369873046875, \"source_val_label_accuracy\": 0.8039713541666667, \"source_val_label_loss\": 0.5378274917602539, \"target_val_label_accuracy\": 0.6428418192219679, \"target_val_label_loss\": 178.89268493652344, \"total_epochs_trained\": 9, \"total_experiment_time_secs\": 1531.2476615905762, \"confusion\": {\"O_8\": {\"13\": {\"0\": 42, \"13\": 117, \"4\": 38, \"10\": 18, \"6\": 7, \"14\": 18}, \"9\": {\"9\": 240}, \"15\": {\"15\": 212, \"12\": 24, \"8\": 4}, \"2\": {\"2\": 228, \"3\": 9, \"15\": 1, \"7\": 2}, \"3\": {\"2\": 7, \"3\": 229, \"12\": 4}, \"8\": {\"8\": 238, \"15\": 2}, \"5\": {\"5\": 221, \"10\": 9, \"14\": 3, \"1\": 7}, \"14\": {\"10\": 34, \"14\": 171, \"4\": 16, \"13\": 12, \"5\": 1, \"1\": 6}, \"1\": {\"1\": 226, \"11\": 12, \"14\": 2}, \"0\": {\"0\": 202, \"13\": 29, \"10\": 1, \"6\": 4, \"7\": 2, \"14\": 2}, \"10\": {\"10\": 199, \"14\": 35, \"13\": 4, \"4\": 1, \"5\": 1}, \"6\": {\"6\": 182, \"7\": 36, \"4\": 13, \"13\": 5, \"0\": 4}, \"11\": {\"11\": 198, \"1\": 41, \"5\": 1}, \"7\": {\"6\": 42, \"7\": 197, \"0\": 1}, \"4\": {\"4\": 189, \"13\": 35, \"0\": 3, \"14\": 6, \"6\": 6, \"10\": 1}, \"12\": {\"12\": 164, \"15\": 57, \"8\": 3, \"3\": 16}}, \"O_38\": {\"13\": {\"13\": 207, \"10\": 18, \"8\": 7, \"0\": 1, \"2\": 3, \"15\": 4}, \"12\": {\"4\": 7, \"12\": 233}, \"2\": {\"2\": 224, \"14\": 14, \"13\": 1, \"15\": 1}, \"9\": {\"9\": 214, \"6\": 16, \"5\": 8, \"0\": 1, \"7\": 1}, \"15\": {\"15\": 202, \"1\": 18, \"8\": 16, \"5\": 4}, \"5\": {\"5\": 133, \"8\": 54, \"7\": 34, \"9\": 5, \"10\": 1, \"6\": 5, \"0\": 2, \"13\": 3, \"15\": 3}, \"14\": {\"14\": 232, \"2\": 7, \"12\": 1}, \"0\": {\"0\": 166, \"5\": 4, \"7\": 21, \"3\": 17, \"8\": 24, \"10\": 7, \"13\": 1}, \"3\": {\"3\": 233, \"0\": 6, \"7\": 1}, \"1\": {\"1\": 229, \"15\": 11}, \"11\": {\"11\": 235, \"14\": 4, \"10\": 1}, \"7\": {\"7\": 202, \"0\": 12, \"5\": 17, \"10\": 2, \"8\": 7}, \"8\": {\"15\": 15, \"8\": 162, \"5\": 38, \"7\": 7, \"0\": 14, \"10\": 3, \"13\": 1}, \"4\": {\"4\": 229, \"12\": 8, \"10\": 2, \"8\": 1}, \"10\": {\"10\": 206, \"13\": 15, \"0\": 6, \"14\": 1, \"7\": 5, \"4\": 2, \"11\": 1, \"8\": 4}, \"6\": {\"6\": 237, \"9\": 3}}, \"O_26\": {\"10\": {\"10\": 110, \"8\": 35, \"14\": 24, \"0\": 55, \"1\": 2, \"6\": 7, \"4\": 6, \"15\": 1}, \"12\": {\"12\": 240}, \"1\": {\"1\": 195, \"14\": 32, \"4\": 9, \"10\": 1, \"7\": 1, \"8\": 2}, \"0\": {\"8\": 18, \"14\": 43, \"0\": 102, \"10\": 54, \"4\": 18, \"6\": 3, \"7\": 2}, \"15\": {\"15\": 123, \"9\": 71, \"8\": 21, \"10\": 3, \"0\": 2, \"2\": 5, \"13\": 2, \"6\": 5, \"5\": 6, \"7\": 2}, \"13\": {\"13\": 186, \"5\": 30, \"9\": 11, \"2\": 7, \"6\": 1, \"3\": 1, \"15\": 4}, \"8\": {\"8\": 106, \"6\": 9, \"4\": 24, \"9\": 6, \"0\": 26, \"10\": 32, \"7\": 20, \"2\": 1, \"15\": 10, \"14\": 6}, \"3\": {\"2\": 71, \"3\": 155, \"7\": 13, \"5\": 1}, \"11\": {\"11\": 240}, \"4\": {\"4\": 120, \"0\": 26, \"14\": 32, \"7\": 18, \"8\": 29, \"10\": 8, \"1\": 6, \"15\": 1}, \"6\": {\"6\": 193, \"9\": 23, \"15\": 9, \"8\": 6, \"10\": 8, \"0\": 1}, \"7\": {\"7\": 154, \"4\": 24, \"2\": 23, \"8\": 13, \"3\": 21, \"14\": 1, \"15\": 1, \"0\": 2, \"5\": 1}, \"14\": {\"0\": 32, \"14\": 115, \"1\": 36, \"10\": 20, \"4\": 31, \"7\": 3, \"8\": 3}, \"2\": {\"2\": 104, \"7\": 23, \"3\": 70, \"5\": 24, \"15\": 11, \"8\": 5, \"13\": 2, \"9\": 1}, \"5\": {\"15\": 9, \"5\": 203, \"2\": 8, \"13\": 14, \"10\": 1, \"7\": 1, \"9\": 3, \"8\": 1}, \"9\": {\"8\": 6, \"6\": 15, \"15\": 66, \"9\": 140, \"2\": 3, \"13\": 10}}, \"O_20\": {\"5\": {\"0\": 27, \"5\": 178, \"1\": 12, \"12\": 9, \"15\": 9, \"4\": 4, \"2\": 1}, \"15\": {\"15\": 190, \"1\": 27, \"5\": 7, \"0\": 13, \"13\": 2, \"12\": 1}, \"9\": {\"9\": 147, \"2\": 54, \"3\": 23, \"1\": 3, \"12\": 11, \"7\": 1, \"13\": 1}, \"7\": {\"4\": 2, \"7\": 206, \"9\": 4, \"2\": 18, \"8\": 5, \"3\": 5}, \"3\": {\"3\": 155, \"12\": 46, \"9\": 18, \"2\": 7, \"4\": 9, \"5\": 2, \"7\": 2, \"1\": 1}, \"8\": {\"8\": 217, \"7\": 5, \"4\": 15, \"14\": 3}, \"4\": {\"4\": 219, \"8\": 9, \"3\": 7, \"5\": 1, \"10\": 4}, \"6\": {\"6\": 223, \"14\": 17}, \"2\": {\"2\": 129, \"3\": 15, \"12\": 12, \"9\": 63, \"13\": 5, \"7\": 15, \"1\": 1}, \"12\": {\"1\": 41, \"5\": 12, \"12\": 103, \"3\": 59, \"9\": 11, \"7\": 1, \"2\": 11, \"13\": 2}, \"0\": {\"0\": 152, \"5\": 52, \"15\": 30, \"1\": 4, \"2\": 1, \"8\": 1}, \"13\": {\"13\": 229, \"12\": 2, \"15\": 3, \"2\": 6}, \"10\": {\"10\": 237, \"14\": 3}, \"11\": {\"11\": 240}, \"14\": {\"14\": 217, \"10\": 9, \"6\": 14}, \"1\": {\"12\": 43, \"15\": 12, \"1\": 165, \"5\": 14, \"9\": 1, \"0\": 1, \"13\": 2, \"3\": 2}}, \"O_50\": {\"1\": {\"1\": 207, \"15\": 22, \"4\": 4, \"11\": 2, \"6\": 2, \"13\": 2, \"5\": 1}, \"2\": {\"2\": 223, \"0\": 17}, \"8\": {\"8\": 238, \"3\": 2}, \"7\": {\"7\": 207, \"13\": 13, \"4\": 3, \"5\": 13, \"6\": 4}, \"14\": {\"14\": 239, \"1\": 1}, \"6\": {\"6\": 202, \"13\": 16, \"15\": 8, \"1\": 5, \"4\": 4, \"7\": 3, \"5\": 2}, \"3\": {\"3\": 237, \"8\": 3}, \"4\": {\"4\": 152, \"6\": 8, \"5\": 40, \"15\": 26, \"1\": 10, \"7\": 4}, \"12\": {\"12\": 218, \"11\": 7, \"9\": 15}, \"15\": {\"15\": 196, \"1\": 16, \"4\": 17, \"11\": 8, \"6\": 3}, \"11\": {\"11\": 203, \"15\": 22, \"9\": 11, \"14\": 1, \"12\": 3}, \"0\": {\"0\": 205, \"10\": 13, \"1\": 1, \"2\": 20, \"13\": 1}, \"9\": {\"9\": 219, \"12\": 11, \"11\": 10}, \"10\": {\"10\": 227, \"13\": 4, \"0\": 7, \"8\": 2}, \"5\": {\"13\": 22, \"1\": 12, \"4\": 31, \"7\": 35, \"5\": 135, \"6\": 4, \"3\": 1}, \"13\": {\"7\": 12, \"13\": 193, \"1\": 1, \"6\": 13, \"5\": 19, \"0\": 2}}, \"O_32\": {\"2\": {\"4\": 58, \"2\": 175, \"7\": 2, \"0\": 5}, \"6\": {\"6\": 240}, \"5\": {\"7\": 50, \"13\": 23, \"8\": 20, \"5\": 114, \"14\": 6, \"3\": 12, \"0\": 9, \"4\": 6}, \"12\": {\"12\": 240}, \"13\": {\"5\": 9, \"13\": 172, \"4\": 18, \"11\": 4, \"7\": 7, \"8\": 7, \"3\": 23}, \"9\": {\"9\": 240}, \"11\": {\"11\": 220, \"7\": 1, \"14\": 15, \"3\": 1, \"13\": 3}, \"1\": {\"1\": 240}, \"3\": {\"3\": 232, \"14\": 1, \"13\": 4, \"8\": 1, \"5\": 1, \"11\": 1}, \"7\": {\"7\": 147, \"5\": 44, \"4\": 16, \"13\": 9, \"8\": 3, \"0\": 3, \"14\": 14, \"2\": 2, \"11\": 2}, \"14\": {\"14\": 150, \"7\": 24, \"11\": 31, \"13\": 2, \"5\": 4, \"0\": 24, \"8\": 4, \"3\": 1}, \"8\": {\"5\": 17, \"0\": 26, \"8\": 183, \"13\": 6, \"11\": 1, \"3\": 2, \"14\": 4, \"7\": 1}, \"4\": {\"4\": 172, \"13\": 13, \"7\": 15, \"2\": 34, \"0\": 2, \"5\": 4}, \"0\": {\"0\": 186, \"8\": 27, \"14\": 12, \"7\": 5, \"5\": 5, \"13\": 3, \"4\": 2}, \"10\": {\"10\": 235, \"1\": 5}, \"15\": {\"15\": 240}}, \"O_44\": {\"13\": {\"13\": 172, \"9\": 29, \"6\": 34, \"11\": 3, \"7\": 2}, \"4\": {\"14\": 70, \"4\": 166, \"15\": 3, \"5\": 1}, \"6\": {\"6\": 155, \"7\": 5, \"13\": 53, \"9\": 25, \"11\": 2}, \"0\": {\"8\": 59, \"0\": 152, \"15\": 21, \"5\": 8}, \"10\": {\"10\": 198, \"1\": 23, \"2\": 15, \"12\": 3, \"7\": 1}, \"7\": {\"7\": 143, \"2\": 31, \"9\": 53, \"6\": 9, \"13\": 3, \"1\": 1}, \"14\": {\"14\": 153, \"4\": 61, \"15\": 19, \"5\": 6, \"13\": 1}, \"15\": {\"14\": 16, \"15\": 198, \"4\": 3, \"0\": 15, \"5\": 7, \"8\": 1}, \"5\": {\"5\": 205, \"8\": 2, \"14\": 12, \"0\": 12, \"15\": 7, \"4\": 2}, \"2\": {\"7\": 27, \"2\": 179, \"1\": 16, \"10\": 14, \"3\": 3, \"9\": 1}, \"9\": {\"9\": 135, \"7\": 51, \"13\": 26, \"6\": 24, \"2\": 4}, \"12\": {\"12\": 207, \"1\": 28, \"10\": 2, \"3\": 3}, \"8\": {\"8\": 142, \"15\": 12, \"0\": 75, \"5\": 11}, \"3\": {\"3\": 224, \"1\": 12, \"2\": 1, \"12\": 3}, \"1\": {\"1\": 175, \"3\": 11, \"2\": 9, \"10\": 16, \"12\": 28, \"7\": 1}, \"11\": {\"11\": 234, \"13\": 6}}, \"O_14\": {\"1\": {\"1\": 219, \"5\": 16, \"4\": 5}, \"15\": {\"15\": 239, \"7\": 1}, \"10\": {\"10\": 236, \"0\": 4}, \"2\": {\"3\": 15, \"2\": 141, \"14\": 41, \"6\": 15, \"5\": 15, \"13\": 8, \"4\": 5}, \"9\": {\"9\": 239, \"0\": 1}, \"5\": {\"5\": 169, \"1\": 19, \"3\": 3, \"4\": 37, \"2\": 12}, \"7\": {\"7\": 240}, \"13\": {\"6\": 81, \"13\": 110, \"14\": 40, \"2\": 7, \"5\": 1, \"3\": 1}, \"8\": {\"8\": 240}, \"6\": {\"13\": 65, \"6\": 164, \"14\": 8, \"2\": 3}, \"3\": {\"3\": 216, \"4\": 5, \"14\": 10, \"2\": 8, \"5\": 1}, \"12\": {\"12\": 239, \"9\": 1}, \"0\": {\"0\": 225, \"10\": 9, \"3\": 4, \"11\": 2}, \"4\": {\"4\": 207, \"5\": 19, \"1\": 8, \"2\": 3, \"3\": 3}, \"14\": {\"14\": 211, \"2\": 18, \"13\": 8, \"6\": 2, \"3\": 1}, \"11\": {\"11\": 228, \"9\": 10, \"0\": 2}}, \"C_2\": {\"21\": {\"53\": 7, \"25\": 8, \"21\": 39, \"6\": 5, \"18\": 4, \"41\": 1, \"20\": 16, \"50\": 8, \"16\": 2, \"30\": 1, \"51\": 6, \"36\": 1, \"54\": 3, \"46\": 2, \"8\": 2, \"12\": 2, \"27\": 4, \"48\": 1, \"26\": 1, \"37\": 1, \"17\": 2, \"52\": 1, \"3\": 2, \"47\": 1}, \"4\": {\"4\": 43, \"19\": 11, \"17\": 2, \"29\": 9, \"33\": 1, \"12\": 1, \"53\": 1, \"47\": 2, \"8\": 3, \"27\": 6, \"48\": 1, \"3\": 4, \"56\": 7, \"9\": 8, \"55\": 3, \"40\": 2, \"57\": 2, \"36\": 3, \"10\": 1, \"25\": 3, \"22\": 3, \"20\": 2, \"26\": 1, \"32\": 1, \"37\": 1, \"1\": 1, \"45\": 4, \"51\": 2, \"21\": 1, \"54\": 1}, \"6\": {\"50\": 4, \"6\": 72, \"8\": 1, \"3\": 5, \"46\": 13, \"54\": 11, \"2\": 1, \"48\": 3, \"27\": 1, \"25\": 1, \"55\": 2, \"30\": 6, \"1\": 2, \"57\": 2}, \"10\": {\"10\": 79, \"22\": 4, \"11\": 1, \"43\": 9, \"16\": 2, \"56\": 8, \"55\": 1, \"15\": 1, \"52\": 1, \"38\": 1, \"24\": 4, \"31\": 1}, \"33\": {\"56\": 1, \"32\": 1, \"1\": 1, \"33\": 6, \"25\": 1, \"2\": 3, \"54\": 3, \"36\": 2, \"3\": 1, \"55\": 1, \"26\": 2, \"17\": 3, \"42\": 1, \"9\": 1, \"12\": 1}, \"56\": {\"56\": 53, \"24\": 5, \"31\": 1, \"3\": 1, \"35\": 1, \"5\": 2, \"14\": 1, \"57\": 1, \"55\": 12, \"10\": 4, \"43\": 18, \"7\": 1, \"22\": 10, \"1\": 4, \"8\": 1, \"47\": 3, \"0\": 1, \"42\": 2, \"25\": 1}, \"20\": {\"21\": 7, \"53\": 12, \"8\": 29, \"20\": 41, \"25\": 5, \"50\": 5, \"12\": 3, \"27\": 17, \"13\": 2, \"36\": 5, \"51\": 3, \"32\": 2, \"18\": 1}, \"24\": {\"24\": 85, \"43\": 10, \"38\": 1}, \"45\": {\"4\": 5, \"27\": 6, \"26\": 1, \"55\": 9, \"36\": 8, \"49\": 1, \"56\": 3, \"14\": 1, \"12\": 7, \"22\": 3, \"45\": 20, \"48\": 1, \"50\": 6, \"9\": 6, \"6\": 1, \"8\": 5, \"57\": 2, \"10\": 1, \"19\": 4, \"29\": 6, \"25\": 3, \"1\": 2, \"40\": 3, \"54\": 8, \"21\": 1, \"20\": 1, \"13\": 1, \"30\": 1, \"3\": 2, \"5\": 1, \"53\": 3, \"47\": 1, \"51\": 2, \"17\": 1, \"23\": 1, \"15\": 1}, \"32\": {\"54\": 1, \"32\": 18, \"8\": 2, \"56\": 1, \"47\": 2, \"21\": 1, \"27\": 1, \"36\": 2}, \"27\": {\"8\": 22, \"27\": 113, \"12\": 4, \"50\": 5, \"49\": 1, \"54\": 1, \"48\": 1, \"51\": 1}, \"53\": {\"53\": 44, \"32\": 2, \"26\": 1, \"2\": 3, \"21\": 8, \"18\": 3, \"36\": 1, \"8\": 22, \"12\": 4, \"50\": 5, \"27\": 12, \"25\": 3, \"51\": 7, \"13\": 3, \"20\": 5, \"48\": 1, \"37\": 2, \"17\": 2, \"54\": 4, \"3\": 3, \"45\": 1}, \"8\": {\"8\": 128, \"27\": 16, \"12\": 5, \"17\": 3, \"53\": 3, \"50\": 4, \"20\": 1}, \"54\": {\"54\": 108}, \"50\": {\"8\": 17, \"27\": 9, \"50\": 80, \"17\": 3, \"6\": 6, \"36\": 1, \"54\": 7, \"12\": 2, \"25\": 3, \"2\": 1, \"32\": 1, \"3\": 2, \"55\": 1, \"53\": 1}, \"44\": {\"44\": 66, \"19\": 8, \"35\": 5, \"13\": 2, \"40\": 9, \"29\": 2, \"4\": 1, \"51\": 2, \"9\": 2, \"45\": 3}, \"5\": {\"46\": 10, \"5\": 93, \"48\": 1, \"1\": 2, \"34\": 3, \"57\": 3, \"15\": 1, \"23\": 4, \"16\": 2, \"55\": 1}, \"38\": {\"38\": 20}, \"19\": {\"22\": 1, \"40\": 7, \"4\": 9, \"14\": 1, \"19\": 63, \"37\": 1, \"10\": 1, \"17\": 2, \"45\": 6, \"9\": 14, \"36\": 1, \"8\": 3, \"29\": 13, \"3\": 2, \"25\": 2, \"51\": 2, \"57\": 1, \"13\": 1, \"21\": 2}, \"1\": {\"1\": 107, \"46\": 1, \"55\": 1, \"47\": 3}, \"30\": {\"30\": 131, \"52\": 1, \"18\": 4, \"5\": 1, \"23\": 7}, \"15\": {\"15\": 122, \"16\": 2, \"0\": 2, \"11\": 9, \"52\": 1, \"23\": 8}, \"23\": {\"23\": 140, \"16\": 2, \"52\": 2, \"30\": 2}, \"35\": {\"44\": 1, \"35\": 29, \"9\": 1, \"37\": 1}, \"22\": {\"38\": 1, \"22\": 48, \"46\": 2, \"28\": 3, \"56\": 20, \"24\": 6, \"5\": 6, \"10\": 7, \"1\": 5, \"55\": 9, \"43\": 17, \"23\": 1, \"3\": 1, \"29\": 1, \"47\": 1}, \"40\": {\"19\": 27, \"35\": 3, \"13\": 13, \"40\": 45, \"9\": 7, \"3\": 3, \"44\": 5, \"14\": 1, \"45\": 8, \"25\": 3, \"29\": 8, \"56\": 1, \"43\": 1, \"21\": 1, \"4\": 2, \"53\": 2, \"51\": 2, \"10\": 1, \"22\": 3, \"37\": 3, \"8\": 1}, \"46\": {\"1\": 2, \"34\": 5, \"46\": 64, \"42\": 2, \"5\": 12, \"39\": 1, \"48\": 8, \"57\": 2, \"50\": 4, \"47\": 5, \"52\": 7, \"6\": 4, \"54\": 3, \"41\": 1, \"28\": 1, \"23\": 3, \"49\": 1, \"55\": 1}, \"3\": {\"3\": 27, \"49\": 2, \"6\": 9, \"48\": 5, \"32\": 1, \"51\": 3, \"42\": 1, \"12\": 2, \"4\": 4, \"36\": 4, \"50\": 2, \"53\": 2, \"54\": 8, \"46\": 5, \"55\": 4, \"25\": 3, \"27\": 2, \"13\": 1, \"22\": 2, \"2\": 1, \"1\": 2, \"20\": 1, \"56\": 1}, \"48\": {\"5\": 2, \"3\": 3, \"48\": 130, \"46\": 3, \"54\": 4, \"6\": 2, \"57\": 1, \"41\": 2, \"2\": 1}, \"52\": {\"52\": 114, \"23\": 4, \"16\": 6}, \"2\": {\"2\": 29, \"46\": 1, \"34\": 2}, \"26\": {\"26\": 16, \"54\": 1, \"25\": 1, \"32\": 1, \"12\": 3, \"8\": 2}, \"17\": {\"48\": 5, \"54\": 2, \"6\": 3, \"42\": 2, \"50\": 12, \"18\": 1, \"17\": 29, \"25\": 5, \"21\": 2, \"53\": 3, \"47\": 1, \"27\": 15, \"32\": 2, \"8\": 16, \"46\": 1, \"33\": 1, \"36\": 1, \"1\": 1, \"45\": 1, \"20\": 1}, \"55\": {\"3\": 1, \"55\": 136, \"42\": 1, \"1\": 1, \"54\": 2, \"41\": 1, \"31\": 1, \"47\": 1}, \"51\": {\"17\": 2, \"2\": 1, \"8\": 21, \"51\": 49, \"21\": 5, \"12\": 1, \"13\": 6, \"4\": 1, \"27\": 11, \"36\": 3, \"53\": 3, \"25\": 4, \"37\": 2, \"50\": 5, \"3\": 1, \"33\": 1, \"18\": 1, \"57\": 1, \"20\": 2, \"6\": 1, \"45\": 1}, \"42\": {\"42\": 28, \"34\": 1, \"55\": 1, \"46\": 3, \"1\": 1, \"28\": 1, \"49\": 1}, \"41\": {\"41\": 16, \"34\": 1, \"46\": 2, \"42\": 1}, \"31\": {\"31\": 27, \"42\": 1}, \"16\": {\"16\": 118, \"52\": 9, \"46\": 1, \"15\": 3, \"23\": 3, \"11\": 1, \"34\": 1, \"30\": 1, \"5\": 1}, \"36\": {\"36\": 116}, \"49\": {\"49\": 15, \"48\": 1, \"6\": 1, \"34\": 1, \"54\": 1, \"33\": 1, \"50\": 2, \"12\": 1, \"17\": 1}, \"0\": {\"0\": 43, \"23\": 2, \"5\": 1, \"15\": 2}, \"18\": {\"18\": 43, \"30\": 5}, \"25\": {\"36\": 3, \"25\": 38, \"6\": 13, \"3\": 5, \"49\": 2, \"50\": 19, \"21\": 3, \"20\": 7, \"17\": 4, \"54\": 23, \"12\": 9, \"53\": 4, \"13\": 2, \"40\": 2, \"8\": 5, \"46\": 1, \"27\": 4, \"51\": 2}, \"9\": {\"9\": 46, \"36\": 2, \"22\": 5, \"40\": 3, \"4\": 11, \"14\": 3, \"21\": 2, \"37\": 2, \"29\": 7, \"25\": 3, \"20\": 2, \"12\": 1, \"3\": 2, \"56\": 3, \"45\": 4, \"53\": 4, \"19\": 12, \"51\": 2, \"42\": 1, \"13\": 1, \"0\": 1, \"1\": 2, \"55\": 2, \"47\": 1}, \"47\": {\"47\": 122, \"1\": 7, \"55\": 1, \"23\": 1, \"31\": 1}, \"7\": {\"7\": 36}, \"37\": {\"37\": 23, \"26\": 1, \"14\": 1, \"31\": 1, \"55\": 3, \"6\": 1, \"19\": 2, \"3\": 1, \"46\": 2, \"33\": 1}, \"13\": {\"24\": 3, \"25\": 2, \"13\": 48, \"17\": 3, \"33\": 1, \"40\": 5, \"14\": 1, \"21\": 5, \"37\": 5, \"51\": 2, \"4\": 3, \"3\": 2, \"20\": 3, \"29\": 3, \"5\": 1, \"11\": 1, \"45\": 5, \"55\": 6, \"43\": 1, \"22\": 6, \"56\": 2, \"12\": 1, \"28\": 1, \"32\": 2, \"57\": 1, \"19\": 2, \"53\": 1}, \"14\": {\"31\": 2, \"39\": 1, \"33\": 1, \"1\": 1, \"24\": 1, \"9\": 2, \"28\": 4, \"55\": 4, \"42\": 3, \"14\": 4, \"47\": 1}, \"34\": {\"41\": 1, \"34\": 24, \"5\": 2, \"46\": 1}, \"57\": {\"57\": 103, \"3\": 1, \"23\": 2, \"46\": 4, \"16\": 1, \"5\": 9, \"0\": 1, \"6\": 1, \"48\": 13, \"22\": 1, \"1\": 4}, \"11\": {\"11\": 110, \"23\": 6, \"16\": 8, \"15\": 7, \"52\": 5, \"5\": 2}, \"39\": {\"39\": 28}, \"12\": {\"12\": 67, \"3\": 3, \"36\": 5, \"8\": 5, \"50\": 5, \"54\": 2, \"25\": 1, \"27\": 4}, \"28\": {\"28\": 28}, \"29\": {\"29\": 49, \"17\": 5, \"4\": 5, \"55\": 2, \"9\": 6, \"33\": 1, \"45\": 6, \"3\": 2, \"25\": 2, \"19\": 11, \"13\": 4, \"1\": 7, \"22\": 8, \"51\": 1, \"57\": 3, \"8\": 4, \"20\": 2, \"21\": 1, \"56\": 4, \"49\": 1, \"42\": 1, \"46\": 1, \"47\": 1, \"53\": 1}, \"43\": {\"43\": 134, \"24\": 3, \"52\": 1, \"11\": 2}}, \"C_5\": {\"12\": {\"12\": 31, \"30\": 10, \"1\": 4, \"38\": 4, \"8\": 1, \"6\": 4, \"45\": 3, \"17\": 7, \"55\": 3, \"53\": 6, \"21\": 8, \"51\": 4, \"54\": 1, \"25\": 2, \"37\": 1, \"7\": 2, \"9\": 3, \"48\": 2}, \"8\": {\"30\": 3, \"8\": 120, \"6\": 2, \"20\": 9, \"48\": 2, \"1\": 4, \"53\": 2}, \"29\": {\"29\": 40, \"28\": 2, \"47\": 6, \"13\": 4, \"33\": 4, \"32\": 1, \"22\": 5, \"19\": 4, \"36\": 3, \"34\": 1, \"44\": 2, \"27\": 13, \"50\": 2, \"55\": 4, \"54\": 6, \"9\": 9, \"30\": 2, \"4\": 1, \"25\": 3, \"56\": 8, \"21\": 1, \"1\": 1, \"48\": 3, \"14\": 1, \"17\": 3, \"45\": 1, \"3\": 1, \"51\": 1}, \"57\": {\"57\": 111, \"52\": 2, \"18\": 2, \"11\": 1, \"23\": 3, \"46\": 3, \"16\": 2, \"47\": 1, \"34\": 1}, \"38\": {\"38\": 24, \"30\": 2, \"1\": 1, \"8\": 1, \"17\": 2, \"6\": 1, \"32\": 1}, \"23\": {\"23\": 120, \"16\": 2, \"18\": 2}, \"56\": {\"56\": 131, \"24\": 1, \"0\": 4, \"2\": 1, \"52\": 1}, \"49\": {\"49\": 36}, \"4\": {\"29\": 7, \"4\": 56, \"14\": 1, \"19\": 8, \"22\": 1, \"5\": 9, \"51\": 1, \"9\": 5, \"44\": 4, \"21\": 2, \"40\": 2, \"32\": 2, \"50\": 1, \"3\": 1}, \"48\": {\"48\": 97, \"28\": 2, \"32\": 3, \"1\": 19, \"47\": 1, \"50\": 2, \"45\": 5, \"6\": 2, \"17\": 1, \"8\": 2, \"34\": 1, \"29\": 1}, \"21\": {\"38\": 3, \"21\": 86, \"8\": 1, \"7\": 2, \"25\": 9, \"20\": 2, \"29\": 1, \"51\": 12, \"4\": 2, \"33\": 1, \"1\": 3, \"17\": 5, \"50\": 3, \"12\": 4, \"48\": 1, \"13\": 2, \"23\": 1, \"41\": 1, \"53\": 1, \"55\": 2, \"45\": 1, \"6\": 1}, \"30\": {\"30\": 86, \"17\": 2, \"1\": 7, \"8\": 13, \"53\": 2, \"6\": 4, \"47\": 1, \"48\": 7, \"27\": 2, \"56\": 2, \"9\": 1, \"29\": 1}, \"1\": {\"48\": 15, \"6\": 4, \"1\": 120, \"32\": 1, \"30\": 2, \"8\": 4, \"25\": 1, \"50\": 1}, \"34\": {\"34\": 34, \"3\": 2}, \"35\": {\"35\": 36}, \"55\": {\"48\": 8, \"55\": 103, \"53\": 2, \"54\": 1, \"6\": 7, \"50\": 7, \"30\": 3, \"17\": 3, \"1\": 3, \"25\": 6, \"45\": 5, \"9\": 1, \"51\": 1, \"13\": 2}, \"5\": {\"5\": 85, \"25\": 1, \"53\": 1, \"4\": 4, \"44\": 12, \"29\": 5, \"40\": 6, \"9\": 2, \"51\": 1, \"19\": 3, \"21\": 1, \"55\": 1}, \"52\": {\"52\": 114, \"46\": 2, \"16\": 7, \"11\": 3}, \"6\": {\"6\": 60, \"8\": 15, \"1\": 18, \"42\": 5, \"36\": 1, \"30\": 8, \"45\": 2, \"48\": 6, \"50\": 6, \"55\": 3, \"17\": 1, \"53\": 2, \"25\": 1}, \"36\": {\"36\": 88, \"3\": 3, \"43\": 1}, \"41\": {\"41\": 27, \"42\": 1}, \"3\": {\"3\": 38, \"36\": 5, \"46\": 9, \"43\": 6, \"47\": 2, \"11\": 3, \"34\": 2, \"16\": 7, \"52\": 5, \"56\": 3, \"54\": 2, \"14\": 1, \"23\": 4, \"57\": 6, \"35\": 1, \"49\": 1, \"0\": 5}, \"28\": {\"28\": 21, \"47\": 3, \"14\": 2, \"48\": 1, \"50\": 1, \"31\": 1, \"20\": 1, \"34\": 1, \"1\": 1}, \"18\": {\"18\": 64}, \"25\": {\"25\": 39, \"6\": 11, \"8\": 10, \"32\": 1, \"1\": 21, \"42\": 3, \"21\": 3, \"48\": 14, \"50\": 11, \"55\": 3, \"20\": 5, \"9\": 1, \"51\": 2, \"13\": 4, \"14\": 2, \"19\": 2, \"27\": 1, \"45\": 1, \"17\": 2}, \"47\": {\"3\": 3, \"47\": 88, \"54\": 7, \"52\": 1, \"23\": 1}, \"13\": {\"13\": 44, \"2\": 7, \"16\": 5, \"24\": 18, \"43\": 28, \"15\": 3, \"56\": 13, \"36\": 1, \"3\": 7, \"14\": 3, \"5\": 1, \"11\": 2, \"25\": 6, \"51\": 5, \"21\": 1, \"52\": 1, \"50\": 3, \"53\": 3, \"9\": 2, \"55\": 1, \"44\": 1, \"4\": 1, \"49\": 2, \"0\": 2}, \"11\": {\"11\": 89, \"15\": 14, \"56\": 2, \"24\": 3, \"0\": 4, \"43\": 5, \"52\": 12, \"46\": 5, \"23\": 1, \"3\": 1, \"16\": 8}, \"53\": {\"18\": 5, \"53\": 46, \"8\": 22, \"20\": 24, \"1\": 16, \"32\": 3, \"13\": 1, \"36\": 1, \"30\": 6, \"48\": 4, \"6\": 1, \"25\": 2, \"45\": 1, \"51\": 3, \"23\": 1, \"55\": 3, \"12\": 1, \"50\": 3, \"14\": 1}, \"33\": {\"47\": 1, \"53\": 1, \"1\": 4, \"33\": 5, \"32\": 3, \"29\": 2, \"28\": 1, \"48\": 4, \"56\": 3, \"49\": 1, \"22\": 3, \"34\": 2, \"9\": 1, \"27\": 1}, \"46\": {\"46\": 89, \"2\": 2, \"16\": 12, \"31\": 1, \"3\": 7, \"43\": 1, \"23\": 9, \"11\": 7, \"0\": 3, \"52\": 5, \"57\": 8, \"56\": 1, \"47\": 1, \"35\": 1, \"14\": 1}, \"50\": {\"6\": 8, \"3\": 1, \"32\": 7, \"8\": 3, \"50\": 52, \"1\": 8, \"36\": 6, \"41\": 2, \"42\": 1, \"38\": 1, \"17\": 1, \"29\": 2, \"45\": 6, \"48\": 13, \"12\": 3, \"25\": 2, \"27\": 2, \"55\": 9, \"54\": 3, \"23\": 1, \"56\": 2, \"51\": 5, \"44\": 1, \"2\": 1, \"21\": 2, \"13\": 1, \"20\": 2, \"9\": 2, \"30\": 1}, \"10\": {\"10\": 49, \"33\": 1, \"43\": 1, \"15\": 1, \"13\": 3, \"24\": 6, \"11\": 4, \"0\": 1, \"8\": 1, \"49\": 1}, \"15\": {\"15\": 115, \"11\": 5, \"24\": 4, \"52\": 9, \"0\": 3, \"16\": 1, \"3\": 1}, \"44\": {\"33\": 2, \"44\": 88, \"9\": 9, \"19\": 8, \"37\": 1, \"4\": 5, \"40\": 4, \"27\": 6, \"45\": 1, \"5\": 3, \"17\": 1, \"2\": 1, \"36\": 4, \"29\": 4, \"10\": 2, \"51\": 1}, \"2\": {\"2\": 28}, \"7\": {\"8\": 5, \"7\": 18, \"45\": 2, \"55\": 2, \"1\": 2, \"48\": 2, \"14\": 1}, \"43\": {\"43\": 135, \"16\": 2, \"11\": 1}, \"32\": {\"32\": 25, \"8\": 2, \"45\": 1, \"48\": 2, \"1\": 2}, \"0\": {\"0\": 107, \"3\": 4, \"24\": 4, \"56\": 4, \"46\": 4, \"11\": 1}, \"39\": {\"39\": 19, \"57\": 1}, \"26\": {\"8\": 2, \"26\": 22}, \"27\": {\"34\": 2, \"48\": 13, \"29\": 5, \"6\": 4, \"9\": 8, \"1\": 10, \"27\": 33, \"17\": 2, \"25\": 2, \"20\": 4, \"30\": 5, \"8\": 3, \"53\": 3, \"45\": 5, \"13\": 3, \"32\": 2, \"19\": 2, \"22\": 1, \"4\": 1, \"36\": 1, \"18\": 1, \"47\": 1, \"56\": 1}, \"54\": {\"54\": 112}, \"17\": {\"30\": 24, \"17\": 34, \"33\": 1, \"1\": 12, \"53\": 7, \"38\": 1, \"42\": 1, \"34\": 1, \"7\": 4, \"6\": 3, \"9\": 2, \"14\": 1, \"48\": 5, \"8\": 8, \"3\": 1, \"27\": 1, \"57\": 1, \"50\": 1, \"20\": 1, \"18\": 1, \"55\": 2, \"56\": 3, \"45\": 1}, \"14\": {\"36\": 1, \"28\": 2, \"1\": 2, \"2\": 3, \"0\": 3, \"7\": 1, \"56\": 1, \"14\": 9, \"35\": 1, \"32\": 2, \"38\": 2, \"34\": 3, \"12\": 2, \"17\": 2, \"47\": 1, \"42\": 1, \"25\": 1, \"24\": 1, \"31\": 1, \"50\": 1, \"37\": 1, \"49\": 1, \"48\": 1, \"33\": 1}, \"16\": {\"16\": 121, \"23\": 9, \"46\": 2, \"3\": 5, \"11\": 5, \"15\": 3, \"52\": 1, \"54\": 1, \"43\": 1}, \"9\": {\"1\": 15, \"33\": 3, \"9\": 32, \"12\": 1, \"32\": 5, \"29\": 8, \"19\": 4, \"8\": 4, \"53\": 4, \"22\": 2, \"21\": 1, \"6\": 1, \"30\": 8, \"4\": 3, \"45\": 4, \"48\": 17, \"50\": 5, \"49\": 2, \"27\": 7, \"51\": 2, \"25\": 4, \"36\": 3, \"56\": 3, \"55\": 2, \"44\": 2, \"34\": 1, \"17\": 2, \"40\": 1, \"13\": 2}, \"19\": {\"19\": 61, \"4\": 8, \"28\": 1, \"9\": 9, \"22\": 4, \"32\": 1, \"56\": 5, \"21\": 13, \"12\": 1, \"17\": 2, \"49\": 1, \"29\": 10, \"33\": 2, \"13\": 2, \"25\": 5, \"48\": 1, \"44\": 10, \"27\": 6, \"40\": 1, \"2\": 2, \"7\": 1, \"5\": 2, \"55\": 1, \"50\": 1, \"51\": 2}, \"20\": {\"20\": 125, \"8\": 11, \"53\": 1, \"6\": 1}, \"37\": {\"37\": 21, \"14\": 1, \"50\": 1, \"25\": 1}, \"24\": {\"24\": 73, \"56\": 3, \"11\": 3, \"13\": 1}, \"40\": {\"29\": 7, \"40\": 37, \"50\": 1, \"10\": 1, \"4\": 13, \"49\": 1, \"53\": 1, \"25\": 3, \"5\": 10, \"21\": 9, \"19\": 7, \"44\": 16, \"12\": 1, \"13\": 4, \"30\": 1, \"51\": 3, \"9\": 1, \"56\": 1, \"37\": 2, \"35\": 1, \"33\": 2}, \"45\": {\"55\": 17, \"45\": 55, \"6\": 8, \"30\": 5, \"1\": 7, \"4\": 1, \"33\": 1, \"48\": 3, \"50\": 12, \"27\": 4, \"25\": 2, \"9\": 1, \"19\": 1, \"2\": 1, \"36\": 1, \"8\": 3, \"44\": 1, \"56\": 1}, \"22\": {\"38\": 1, \"22\": 11, \"47\": 1, \"29\": 1, \"56\": 1, \"36\": 2, \"34\": 2, \"27\": 3, \"0\": 1, \"3\": 1, \"28\": 1, \"33\": 1, \"20\": 1, \"45\": 1}, \"42\": {\"42\": 38, \"22\": 1, \"44\": 1}, \"51\": {\"21\": 16, \"51\": 47, \"12\": 5, \"7\": 1, \"33\": 1, \"53\": 6, \"25\": 5, \"20\": 6, \"45\": 2, \"30\": 3, \"18\": 1, \"8\": 11, \"6\": 1, \"50\": 4, \"1\": 1, \"48\": 1, \"13\": 4, \"44\": 1, \"38\": 1, \"27\": 1}, \"31\": {\"31\": 36}}, \"C_1\": {\"27\": {\"27\": 113, \"10\": 7, \"44\": 4, \"52\": 3, \"43\": 5, \"24\": 1, \"11\": 2, \"47\": 1, \"56\": 1, \"55\": 1, \"1\": 2, \"22\": 1, \"23\": 1}, \"2\": {\"2\": 36}, \"33\": {\"33\": 31, \"34\": 1}, \"45\": {\"45\": 98, \"2\": 1, \"26\": 3, \"18\": 10, \"6\": 3, \"33\": 2, \"30\": 9, \"56\": 1, \"17\": 2, \"9\": 6, \"8\": 4, \"53\": 2, \"16\": 5, \"7\": 1, \"42\": 3, \"54\": 4, \"50\": 1, \"5\": 1}, \"38\": {\"38\": 22, \"32\": 2}, \"4\": {\"4\": 60, \"13\": 4, \"29\": 12, \"35\": 2, \"46\": 3, \"57\": 7, \"44\": 13, \"5\": 1, \"47\": 4, \"24\": 2, \"19\": 4, \"1\": 5, \"27\": 4, \"48\": 1, \"25\": 1, \"52\": 1, \"9\": 1, \"10\": 1, \"55\": 5, \"56\": 1}, \"31\": {\"31\": 26, \"52\": 2}, \"55\": {\"55\": 113, \"52\": 11, \"54\": 4, \"45\": 2, \"16\": 1, \"12\": 2, \"24\": 1, \"22\": 4, \"5\": 2}, \"32\": {\"32\": 29, \"54\": 2, \"38\": 1}, \"57\": {\"16\": 1, \"56\": 9, \"57\": 48, \"35\": 2, \"19\": 11, \"4\": 8, \"47\": 5, \"26\": 2, \"55\": 3, \"7\": 2, \"5\": 6, \"44\": 11, \"25\": 3, \"51\": 2, \"46\": 3, \"45\": 1, \"1\": 8, \"48\": 1, \"13\": 1, \"29\": 1, \"0\": 1, \"8\": 2, \"6\": 1, \"20\": 2, \"53\": 1, \"52\": 1, \"10\": 1, \"3\": 1, \"9\": 1, \"30\": 1}, \"14\": {\"45\": 1, \"30\": 1, \"14\": 3, \"33\": 3, \"5\": 2, \"9\": 1, \"42\": 3, \"37\": 1, \"18\": 1, \"25\": 3, \"17\": 1, \"8\": 2, \"53\": 1, \"16\": 1}, \"16\": {\"30\": 7, \"16\": 87, \"42\": 1, \"45\": 22, \"20\": 1, \"17\": 1, \"18\": 8, \"25\": 3, \"51\": 1, \"9\": 2, \"33\": 2, \"54\": 1, \"50\": 2, \"53\": 1, \"46\": 1}, \"34\": {\"34\": 24}, \"56\": {\"45\": 8, \"34\": 1, \"26\": 1, \"19\": 7, \"35\": 3, \"38\": 1, \"37\": 2, \"56\": 33, \"17\": 1, \"57\": 6, \"52\": 2, \"5\": 4, \"44\": 12, \"12\": 2, \"54\": 1, \"47\": 13, \"1\": 4, \"9\": 3, \"25\": 4, \"53\": 1, \"16\": 1, \"6\": 1, \"7\": 2, \"20\": 1, \"8\": 4, \"46\": 2, \"55\": 4, \"0\": 1, \"48\": 1}, \"24\": {\"24\": 82, \"39\": 1, \"22\": 16, \"49\": 4, \"0\": 1, \"52\": 2, \"23\": 1, \"11\": 1}, \"30\": {\"45\": 3, \"30\": 97, \"8\": 3, \"18\": 6, \"42\": 1, \"5\": 1, \"55\": 1}, \"17\": {\"17\": 30, \"48\": 10, \"19\": 1, \"50\": 1, \"6\": 4, \"26\": 1, \"2\": 3, \"8\": 8, \"5\": 2, \"9\": 2, \"1\": 1, \"45\": 1}, \"13\": {\"41\": 2, \"13\": 61, \"31\": 1, \"3\": 14, \"57\": 9, \"4\": 4, \"19\": 7, \"40\": 2, \"29\": 3, \"20\": 6, \"56\": 5, \"1\": 2, \"12\": 1, \"44\": 6, \"47\": 1, \"51\": 7, \"35\": 1, \"54\": 1, \"52\": 1, \"27\": 1, \"25\": 1, \"9\": 1, \"43\": 1}, \"39\": {\"39\": 27, \"28\": 1}, \"50\": {\"50\": 138, \"48\": 8}, \"20\": {\"20\": 58, \"53\": 7, \"51\": 24, \"42\": 3, \"12\": 4, \"25\": 3, \"45\": 6, \"5\": 5, \"16\": 5, \"13\": 10, \"9\": 1, \"50\": 2, \"8\": 1, \"17\": 1, \"18\": 2, \"36\": 1, \"30\": 2, \"54\": 4, \"6\": 1}, \"41\": {\"41\": 23, \"13\": 1}, \"53\": {\"53\": 42, \"20\": 7, \"18\": 10, \"17\": 4, \"45\": 6, \"9\": 12, \"8\": 10, \"13\": 5, \"30\": 4, \"48\": 4, \"51\": 3, \"46\": 2, \"6\": 2, \"16\": 1, \"25\": 5, \"50\": 3, \"56\": 1, \"12\": 3, \"57\": 1, \"5\": 1}, \"48\": {\"48\": 121, \"8\": 6, \"6\": 4, \"50\": 11}, \"36\": {\"36\": 60, \"6\": 1, \"16\": 1, \"26\": 1, \"42\": 1}, \"8\": {\"8\": 116, \"9\": 5, \"6\": 8, \"48\": 3, \"30\": 4, \"45\": 1, \"47\": 1, \"18\": 1, \"1\": 1}, \"15\": {\"15\": 81, \"23\": 14, \"21\": 22, \"22\": 3, \"24\": 2, \"11\": 8, \"0\": 1, \"49\": 1}, \"40\": {\"27\": 7, \"35\": 1, \"44\": 9, \"40\": 58, \"4\": 9, \"19\": 1, \"13\": 10, \"3\": 11, \"43\": 12, \"57\": 4, \"29\": 15, \"51\": 3, \"46\": 3, \"56\": 2, \"25\": 1, \"41\": 2, \"20\": 6, \"52\": 2}, \"37\": {\"37\": 32}, \"21\": {\"15\": 23, \"21\": 94, \"11\": 1, \"23\": 2}, \"35\": {\"35\": 16, \"39\": 1, \"45\": 1, \"28\": 2, \"16\": 2, \"54\": 1, \"31\": 1, \"55\": 1, \"57\": 2, \"1\": 3, \"44\": 1, \"46\": 2, \"7\": 2, \"47\": 1}, \"49\": {\"49\": 24, \"24\": 3, \"39\": 2, \"28\": 3}, \"26\": {\"37\": 1, \"26\": 12, \"7\": 1, \"45\": 2, \"18\": 1, \"25\": 1, \"30\": 1, \"17\": 1, \"54\": 1, \"42\": 3}, \"28\": {\"49\": 1, \"28\": 26, \"39\": 1}, \"12\": {\"14\": 2, \"18\": 3, \"12\": 40, \"42\": 4, \"34\": 1, \"37\": 2, \"5\": 8, \"1\": 1, \"53\": 6, \"2\": 2, \"48\": 1, \"16\": 13, \"45\": 6, \"30\": 2, \"7\": 1, \"17\": 4, \"20\": 2, \"36\": 3, \"50\": 2, \"13\": 1, \"54\": 2, \"8\": 1, \"25\": 5, \"51\": 1, \"6\": 1, \"55\": 1, \"9\": 1}, \"5\": {\"5\": 150, \"25\": 2}, \"29\": {\"29\": 89, \"4\": 15, \"46\": 2, \"40\": 6, \"57\": 8, \"20\": 2, \"45\": 1, \"44\": 7, \"51\": 4, \"1\": 1, \"27\": 2, \"3\": 1, \"25\": 1, \"13\": 1}, \"47\": {\"47\": 121, \"31\": 2, \"32\": 1, \"57\": 1, \"54\": 6, \"45\": 2, \"44\": 1, \"42\": 2, \"22\": 1, \"55\": 2, \"25\": 1}, \"10\": {\"10\": 56, \"49\": 2, \"19\": 1, \"32\": 1, \"11\": 3, \"15\": 5, \"24\": 3, \"23\": 6, \"4\": 1, \"27\": 13, \"0\": 2, \"45\": 1, \"47\": 1, \"22\": 1}, \"18\": {\"18\": 66, \"16\": 1, \"45\": 2, \"30\": 1, \"8\": 2}, \"9\": {\"9\": 59, \"30\": 18, \"18\": 6, \"42\": 2, \"6\": 6, \"16\": 8, \"17\": 5, \"8\": 6, \"45\": 5, \"56\": 1, \"50\": 1, \"5\": 1, \"25\": 4, \"48\": 3, \"19\": 1}, \"3\": {\"3\": 63, \"51\": 8, \"4\": 11, \"47\": 1, \"16\": 1, \"13\": 9, \"53\": 4, \"1\": 2, \"7\": 2, \"55\": 2, \"44\": 7, \"40\": 2, \"10\": 1, \"54\": 2, \"24\": 2, \"27\": 2, \"25\": 1, \"46\": 2, \"29\": 9, \"56\": 1, \"19\": 4, \"12\": 1, \"57\": 2, \"5\": 1}, \"52\": {\"52\": 85, \"49\": 3, \"39\": 3, \"24\": 14, \"11\": 5, \"22\": 12, \"45\": 2, \"1\": 1, \"55\": 2, \"15\": 2, \"0\": 2, \"23\": 1}, \"25\": {\"26\": 2, \"25\": 43, \"50\": 2, \"12\": 2, \"6\": 1, \"37\": 4, \"5\": 36, \"45\": 10, \"30\": 5, \"8\": 7, \"48\": 5, \"9\": 5, \"56\": 1, \"54\": 1, \"19\": 2, \"3\": 1, \"1\": 1, \"16\": 2, \"18\": 1, \"46\": 1, \"57\": 2, \"53\": 1, \"55\": 1}, \"19\": {\"25\": 9, \"26\": 1, \"19\": 49, \"55\": 3, \"32\": 1, \"35\": 4, \"56\": 10, \"57\": 10, \"44\": 11, \"7\": 2, \"12\": 2, \"47\": 11, \"45\": 3, \"1\": 5, \"20\": 5, \"8\": 7, \"18\": 1, \"48\": 1, \"16\": 2, \"24\": 1, \"30\": 1, \"46\": 2, \"29\": 2, \"5\": 3, \"4\": 4, \"38\": 1, \"17\": 1, \"54\": 2, \"6\": 1, \"53\": 1}, \"11\": {\"15\": 21, \"11\": 66, \"23\": 16, \"22\": 10, \"21\": 10, \"56\": 1, \"52\": 2, \"10\": 1, \"0\": 3, \"24\": 4, \"36\": 2}, \"7\": {\"7\": 28}, \"23\": {\"23\": 135, \"15\": 1}, \"44\": {\"44\": 66, \"35\": 2, \"34\": 2, \"45\": 6, \"4\": 6, \"47\": 12, \"1\": 4, \"12\": 1, \"24\": 1, \"19\": 6, \"55\": 2, \"56\": 11, \"8\": 1, \"46\": 2, \"52\": 2, \"5\": 2, \"11\": 1, \"57\": 2, \"32\": 1, \"16\": 1, \"30\": 1}, \"42\": {\"42\": 35, \"45\": 5}, \"54\": {\"54\": 104}, \"1\": {\"44\": 7, \"1\": 31, \"34\": 1, \"10\": 1, \"47\": 10, \"54\": 2, \"26\": 1, \"7\": 1, \"5\": 7, \"19\": 5, \"33\": 2, \"12\": 3, \"56\": 5, \"6\": 3, \"30\": 2, \"16\": 1, \"55\": 1, \"57\": 1, \"4\": 1, \"37\": 2, \"42\": 1, \"17\": 1, \"46\": 2, \"8\": 2, \"35\": 2, \"45\": 1, \"20\": 1, \"53\": 1, \"25\": 2}, \"46\": {\"2\": 2, \"44\": 5, \"4\": 1, \"25\": 10, \"50\": 11, \"5\": 10, \"17\": 3, \"57\": 3, \"35\": 1, \"30\": 1, \"48\": 24, \"6\": 7, \"20\": 2, \"55\": 2, \"12\": 2, \"8\": 4, \"46\": 27, \"1\": 2, \"16\": 1, \"19\": 1, \"28\": 1, \"37\": 3, \"3\": 1, \"49\": 1, \"9\": 3}, \"6\": {\"6\": 75, \"2\": 3, \"50\": 2, \"37\": 1, \"17\": 3, \"8\": 5, \"48\": 5, \"46\": 1, \"5\": 1}, \"43\": {\"43\": 139, \"10\": 2, \"27\": 3}, \"51\": {\"9\": 4, \"51\": 68, \"46\": 3, \"50\": 3, \"37\": 1, \"13\": 14, \"45\": 6, \"20\": 17, \"16\": 4, \"12\": 1, \"53\": 5, \"25\": 4, \"3\": 1, \"19\": 1, \"2\": 1, \"18\": 2, \"8\": 3, \"48\": 2, \"0\": 1, \"23\": 1}, \"22\": {\"24\": 16, \"22\": 112, \"31\": 1, \"15\": 1, \"11\": 2, \"55\": 1, \"0\": 1, \"39\": 1, \"54\": 1}, \"0\": {\"0\": 118, \"23\": 2, \"31\": 1, \"24\": 2, \"22\": 3, \"15\": 1, \"11\": 1}}, \"C_4\": {\"32\": {\"46\": 2, \"32\": 16, \"47\": 1, \"5\": 1, \"24\": 1, \"2\": 1, \"0\": 2}, \"2\": {\"2\": 36}, \"41\": {\"41\": 34, \"46\": 1, \"49\": 1}, \"11\": {\"11\": 77, \"38\": 1, \"15\": 11, \"24\": 1, \"43\": 6, \"46\": 4, \"16\": 1, \"22\": 1}, \"57\": {\"46\": 6, \"32\": 3, \"47\": 8, \"57\": 57, \"54\": 2, \"27\": 3, \"1\": 6, \"17\": 1, \"5\": 3, \"29\": 1, \"22\": 1, \"25\": 1, \"49\": 1, \"42\": 1, \"20\": 4, \"18\": 1, \"16\": 1}, \"6\": {\"6\": 71, \"3\": 12, \"36\": 5, \"48\": 6, \"54\": 11, \"55\": 4, \"12\": 1, \"47\": 1, \"20\": 1}, \"23\": {\"23\": 130, \"5\": 2, \"18\": 3, \"16\": 1}, \"52\": {\"52\": 112, \"16\": 2, \"41\": 1, \"5\": 1}, \"38\": {\"38\": 40}, \"50\": {\"20\": 4, \"6\": 6, \"50\": 57, \"26\": 2, \"36\": 6, \"42\": 1, \"53\": 7, \"17\": 1, \"3\": 9, \"12\": 1, \"8\": 10, \"27\": 5, \"54\": 4, \"48\": 5, \"25\": 4, \"21\": 1, \"9\": 1, \"51\": 1, \"30\": 3, \"45\": 1, \"13\": 1, \"47\": 1, \"29\": 1}, \"55\": {\"55\": 134, \"1\": 1, \"48\": 1, \"5\": 3, \"12\": 1, \"25\": 1, \"3\": 1, \"54\": 1, \"6\": 2, \"46\": 2, \"36\": 1, \"8\": 1, \"50\": 1, \"56\": 2}, \"46\": {\"49\": 1, \"32\": 3, \"46\": 77, \"39\": 2, \"7\": 2, \"16\": 4, \"57\": 2, \"41\": 1, \"15\": 4, \"5\": 8, \"11\": 5, \"47\": 9, \"24\": 2, \"2\": 2, \"0\": 6, \"52\": 4, \"55\": 4, \"43\": 5, \"6\": 3, \"23\": 4, \"34\": 1, \"1\": 2, \"38\": 2, \"18\": 1}, \"37\": {\"37\": 17, \"12\": 1, \"35\": 1, \"53\": 2, \"55\": 1, \"21\": 2}, \"20\": {\"55\": 1, \"20\": 111, \"10\": 1, \"48\": 3, \"42\": 1, \"56\": 1}, \"49\": {\"32\": 1, \"49\": 16, \"16\": 1, \"46\": 2}, \"45\": {\"45\": 21, \"20\": 1, \"4\": 8, \"3\": 1, \"33\": 2, \"51\": 4, \"32\": 1, \"12\": 3, \"50\": 6, \"53\": 3, \"8\": 8, \"17\": 3, \"55\": 1, \"29\": 3, \"18\": 2, \"56\": 5, \"57\": 1, \"19\": 4, \"27\": 6, \"9\": 4, \"54\": 1, \"25\": 3, \"30\": 2, \"14\": 1, \"6\": 1, \"40\": 1}, \"54\": {\"54\": 108}, \"3\": {\"3\": 90, \"42\": 2, \"53\": 1, \"6\": 16, \"54\": 4, \"36\": 2, \"51\": 1, \"18\": 1, \"30\": 1, \"5\": 2, \"8\": 1, \"20\": 1, \"48\": 2}, \"13\": {\"43\": 17, \"0\": 5, \"13\": 50, \"3\": 1, \"38\": 2, \"31\": 2, \"16\": 1, \"1\": 1, \"22\": 9, \"55\": 10, \"2\": 1, \"4\": 1, \"53\": 4, \"46\": 5, \"23\": 1, \"34\": 1, \"57\": 2, \"24\": 4, \"25\": 5, \"6\": 3, \"5\": 3, \"10\": 9, \"56\": 2, \"21\": 2, \"19\": 1, \"37\": 1, \"41\": 1, \"12\": 2, \"30\": 1, \"29\": 1, \"17\": 1, \"51\": 1, \"11\": 2}, \"18\": {\"18\": 99, \"23\": 7, \"6\": 1, \"16\": 1}, \"21\": {\"21\": 51, \"51\": 18, \"30\": 4, \"12\": 5, \"8\": 12, \"53\": 6, \"18\": 1, \"35\": 1, \"20\": 2, \"27\": 2, \"25\": 6, \"17\": 1, \"50\": 7, \"55\": 1, \"33\": 2, \"41\": 1, \"4\": 2, \"36\": 1, \"29\": 1, \"13\": 1, \"3\": 1}, \"43\": {\"43\": 143, \"0\": 1}, \"47\": {\"47\": 109, \"41\": 1, \"1\": 1, \"57\": 4, \"54\": 3, \"7\": 1, \"5\": 1}, \"4\": {\"55\": 6, \"4\": 35, \"50\": 8, \"22\": 1, \"17\": 3, \"13\": 3, \"15\": 1, \"56\": 4, \"19\": 4, \"27\": 7, \"29\": 11, \"9\": 6, \"20\": 2, \"45\": 5, \"35\": 1, \"8\": 11, \"48\": 5, \"36\": 4, \"57\": 4, \"30\": 1, \"14\": 2, \"42\": 1, \"33\": 1, \"26\": 1, \"1\": 1, \"12\": 1, \"38\": 1, \"54\": 1, \"46\": 1}, \"12\": {\"12\": 83, \"30\": 2, \"50\": 1, \"36\": 1, \"3\": 1, \"42\": 1, \"8\": 2, \"20\": 1}, \"9\": {\"50\": 12, \"9\": 30, \"29\": 12, \"42\": 2, \"4\": 12, \"8\": 3, \"55\": 1, \"26\": 2, \"56\": 5, \"30\": 4, \"45\": 2, \"21\": 2, \"53\": 3, \"25\": 2, \"12\": 2, \"48\": 8, \"20\": 2, \"36\": 5, \"27\": 7, \"17\": 1, \"22\": 3, \"57\": 1, \"13\": 1, \"19\": 4, \"33\": 1, \"3\": 1}, \"7\": {\"7\": 24}, \"56\": {\"56\": 40, \"1\": 4, \"46\": 7, \"55\": 12, \"2\": 1, \"4\": 2, \"54\": 2, \"20\": 1, \"24\": 1, \"17\": 2, \"11\": 1, \"57\": 5, \"16\": 2, \"9\": 7, \"18\": 1, \"22\": 6, \"6\": 1, \"43\": 5, \"5\": 1, \"25\": 2, \"27\": 2, \"29\": 5, \"47\": 1, \"8\": 1}, \"28\": {\"28\": 21, \"20\": 2, \"42\": 3, \"5\": 1, \"57\": 1, \"31\": 1, \"25\": 1, \"30\": 1, \"8\": 1}, \"44\": {\"44\": 99, \"4\": 10, \"14\": 1, \"19\": 5, \"17\": 1, \"45\": 1, \"29\": 2, \"9\": 4, \"22\": 3, \"33\": 1, \"21\": 1, \"8\": 1, \"10\": 1, \"40\": 1, \"51\": 1}, \"24\": {\"24\": 43, \"43\": 8, \"2\": 2, \"0\": 2, \"11\": 1}, \"33\": {\"50\": 2, \"33\": 13, \"48\": 2, \"31\": 1, \"17\": 2, \"9\": 2, \"19\": 1, \"29\": 3, \"27\": 2, \"36\": 1, \"35\": 2, \"12\": 1, \"55\": 1, \"45\": 2, \"4\": 1}, \"35\": {\"55\": 1, \"35\": 35, \"3\": 1, \"47\": 1, \"36\": 1, \"25\": 1}, \"51\": {\"29\": 3, \"13\": 7, \"31\": 1, \"27\": 7, \"32\": 1, \"8\": 13, \"51\": 49, \"21\": 11, \"25\": 8, \"48\": 5, \"56\": 3, \"53\": 4, \"40\": 5, \"57\": 1, \"18\": 1, \"4\": 3, \"44\": 2, \"36\": 1, \"50\": 5, \"46\": 1, \"30\": 1, \"12\": 1, \"47\": 2, \"20\": 1, \"17\": 1, \"23\": 1}, \"39\": {\"39\": 20}, \"36\": {\"36\": 90, \"48\": 1, \"54\": 1}, \"19\": {\"19\": 51, \"29\": 11, \"22\": 5, \"4\": 7, \"55\": 3, \"51\": 4, \"44\": 6, \"33\": 2, \"45\": 3, \"20\": 1, \"17\": 3, \"40\": 11, \"10\": 7, \"25\": 3, \"21\": 4, \"13\": 1, \"56\": 6, \"9\": 11, \"57\": 1}, \"0\": {\"0\": 63, \"7\": 1, \"43\": 3, \"46\": 9, \"32\": 1, \"24\": 1, \"39\": 1, \"38\": 1}, \"15\": {\"15\": 109, \"52\": 6, \"43\": 3, \"16\": 5, \"11\": 9, \"49\": 1, \"46\": 1, \"4\": 1, \"50\": 1}, \"29\": {\"29\": 31, \"3\": 1, \"38\": 1, \"56\": 8, \"19\": 1, \"26\": 1, \"21\": 1, \"57\": 12, \"1\": 2, \"9\": 7, \"48\": 7, \"55\": 6, \"13\": 1, \"32\": 1, \"4\": 18, \"27\": 5, \"47\": 3, \"50\": 2, \"45\": 3, \"20\": 1, \"17\": 4, \"5\": 1, \"53\": 1, \"30\": 2, \"35\": 1, \"54\": 1, \"6\": 1, \"8\": 1}, \"30\": {\"30\": 41, \"8\": 3}, \"1\": {\"46\": 1, \"1\": 37, \"49\": 2}, \"22\": {\"22\": 65, \"2\": 2, \"56\": 2, \"38\": 3, \"41\": 1, \"46\": 11, \"0\": 5, \"43\": 13, \"1\": 1, \"5\": 3, \"11\": 1, \"10\": 11, \"55\": 1, \"13\": 2, \"49\": 1, \"24\": 3, \"29\": 1, \"15\": 1, \"47\": 1}, \"40\": {\"56\": 2, \"40\": 48, \"4\": 9, \"19\": 21, \"29\": 5, \"53\": 4, \"9\": 12, \"44\": 21, \"17\": 3, \"51\": 6, \"25\": 3, \"14\": 1, \"37\": 2, \"33\": 2, \"10\": 3, \"21\": 2, \"57\": 1, \"45\": 1}, \"8\": {\"30\": 9, \"8\": 112, \"20\": 4, \"53\": 1, \"27\": 2}, \"53\": {\"53\": 38, \"8\": 16, \"25\": 8, \"26\": 1, \"51\": 13, \"28\": 1, \"20\": 13, \"21\": 14, \"3\": 1, \"18\": 3, \"37\": 1, \"30\": 1, \"48\": 7, \"6\": 1, \"12\": 1, \"50\": 7, \"27\": 1, \"56\": 2, \"42\": 3, \"33\": 1, \"13\": 1, \"54\": 1, \"36\": 2, \"40\": 1}, \"34\": {\"34\": 22, \"5\": 1, \"41\": 1}, \"10\": {\"10\": 57, \"22\": 14, \"11\": 3, \"24\": 5, \"0\": 3, \"43\": 21, \"15\": 11, \"44\": 1, \"56\": 1, \"2\": 1, \"52\": 2, \"46\": 2, \"4\": 1}, \"31\": {\"31\": 15, \"55\": 6, \"7\": 1, \"6\": 2, \"54\": 1, \"25\": 1, \"12\": 1, \"46\": 1}, \"17\": {\"17\": 17, \"4\": 7, \"42\": 1, \"3\": 1, \"27\": 8, \"33\": 2, \"8\": 5, \"12\": 1, \"40\": 2, \"13\": 2, \"48\": 2, \"19\": 1, \"29\": 8, \"50\": 1, \"9\": 3, \"25\": 2, \"55\": 1, \"51\": 3, \"57\": 3, \"21\": 1, \"36\": 1, \"30\": 2, \"31\": 1, \"53\": 2, \"1\": 1, \"20\": 1, \"45\": 1}, \"16\": {\"16\": 71, \"41\": 1, \"52\": 6, \"46\": 5, \"11\": 3, \"23\": 6, \"15\": 4}, \"42\": {\"42\": 30, \"48\": 1, \"20\": 1}, \"27\": {\"30\": 4, \"57\": 7, \"56\": 7, \"14\": 2, \"27\": 30, \"3\": 5, \"50\": 7, \"46\": 1, \"25\": 5, \"20\": 13, \"5\": 1, \"8\": 26, \"48\": 9, \"4\": 1, \"12\": 2, \"29\": 2, \"36\": 5, \"55\": 1, \"9\": 8, \"6\": 1, \"42\": 1, \"34\": 1, \"45\": 1, \"53\": 2}, \"14\": {\"38\": 2, \"57\": 1, \"14\": 7, \"7\": 1, \"41\": 1, \"6\": 1, \"49\": 1, \"36\": 1, \"4\": 1}, \"25\": {\"53\": 3, \"8\": 24, \"31\": 1, \"21\": 3, \"25\": 42, \"27\": 2, \"6\": 1, \"12\": 4, \"3\": 4, \"48\": 4, \"44\": 1, \"17\": 4, \"50\": 8, \"18\": 2, \"51\": 3, \"36\": 2, \"13\": 1, \"55\": 1, \"20\": 9, \"19\": 1, \"37\": 1, \"30\": 1}, \"48\": {\"48\": 112, \"28\": 1, \"42\": 1, \"34\": 1, \"3\": 5, \"25\": 2, \"8\": 2, \"20\": 4, \"50\": 1, \"6\": 1, \"27\": 1, \"57\": 1}, \"26\": {\"26\": 22, \"48\": 2}, \"5\": {\"5\": 54, \"52\": 1, \"41\": 2, \"43\": 1, \"23\": 20, \"55\": 5, \"18\": 3, \"15\": 2, \"11\": 1, \"46\": 9, \"6\": 1, \"47\": 1, \"34\": 2, \"3\": 2, \"54\": 2, \"16\": 2}}, \"C_3\": {\"14\": {\"3\": 1, \"20\": 1, \"24\": 3, \"42\": 4, \"14\": 11, \"4\": 3, \"55\": 4, \"7\": 2, \"49\": 1, \"19\": 2, \"43\": 1, \"21\": 1, \"6\": 1, \"28\": 1, \"47\": 1, \"38\": 1, \"9\": 2}, \"18\": {\"18\": 81, \"30\": 2, \"46\": 1}, \"30\": {\"30\": 101, \"20\": 6, \"18\": 10, \"23\": 2, \"52\": 1}, \"16\": {\"16\": 127, \"39\": 3, \"30\": 1, \"15\": 1, \"11\": 1, \"46\": 1, \"5\": 5, \"18\": 1, \"23\": 13, \"52\": 2, \"20\": 1}, \"1\": {\"1\": 94, \"48\": 1, \"47\": 2, \"28\": 1, \"55\": 1, \"5\": 1}, \"20\": {\"20\": 119, \"18\": 7, \"30\": 1, \"16\": 3, \"46\": 1, \"52\": 1}, \"7\": {\"7\": 36}, \"52\": {\"52\": 126, \"23\": 2, \"16\": 2}, \"9\": {\"29\": 6, \"3\": 2, \"12\": 4, \"9\": 55, \"45\": 3, \"27\": 12, \"38\": 2, \"22\": 6, \"19\": 8, \"53\": 2, \"36\": 2, \"4\": 10, \"1\": 5, \"57\": 9, \"8\": 2, \"25\": 1, \"48\": 6, \"14\": 1, \"32\": 1, \"47\": 1, \"50\": 1, \"54\": 1}, \"23\": {\"23\": 132, \"16\": 7, \"18\": 3, \"1\": 1, \"52\": 1}, \"55\": {\"55\": 157, \"42\": 2, \"5\": 1, \"31\": 3, \"1\": 1}, \"29\": {\"29\": 29, \"20\": 2, \"42\": 2, \"55\": 9, \"10\": 1, \"51\": 1, \"4\": 7, \"53\": 3, \"0\": 2, \"47\": 1, \"19\": 15, \"13\": 3, \"45\": 3, \"24\": 1, \"9\": 13, \"3\": 3, \"12\": 1, \"54\": 1, \"22\": 5, \"25\": 2, \"40\": 1, \"57\": 3, \"56\": 6, \"32\": 1, \"21\": 3, \"5\": 1, \"1\": 1, \"17\": 3, \"30\": 1, \"48\": 1, \"46\": 1}, \"56\": {\"29\": 1, \"56\": 89, \"43\": 2, \"42\": 1, \"57\": 3, \"10\": 7, \"0\": 4, \"24\": 7, \"5\": 1, \"22\": 10, \"55\": 4, \"15\": 1, \"3\": 1, \"14\": 1, \"7\": 1, \"1\": 1}, \"3\": {\"6\": 11, \"55\": 3, \"3\": 24, \"50\": 11, \"37\": 2, \"46\": 10, \"8\": 4, \"26\": 2, \"32\": 1, \"20\": 4, \"9\": 2, \"51\": 6, \"22\": 3, \"29\": 1, \"54\": 5, \"5\": 2, \"27\": 4, \"13\": 3, \"48\": 10, \"53\": 2, \"25\": 4, \"40\": 2, \"21\": 3, \"12\": 3, \"0\": 1, \"1\": 1}, \"42\": {\"42\": 26, \"1\": 1, \"55\": 1}, \"6\": {\"6\": 61, \"41\": 1, \"30\": 6, \"31\": 1, \"54\": 2, \"20\": 3, \"47\": 1, \"55\": 3, \"53\": 1, \"50\": 1, \"46\": 3, \"18\": 1, \"26\": 1, \"3\": 1, \"5\": 1, \"22\": 1}, \"5\": {\"5\": 72, \"46\": 7, \"48\": 14, \"34\": 5, \"23\": 11, \"22\": 1, \"16\": 1, \"30\": 1, \"6\": 1, \"52\": 2, \"1\": 1}, \"27\": {\"50\": 10, \"17\": 6, \"18\": 4, \"27\": 92, \"53\": 2, \"30\": 5, \"48\": 2, \"8\": 9, \"20\": 7, \"38\": 2, \"33\": 2, \"12\": 2, \"52\": 1}, \"47\": {\"46\": 4, \"47\": 69, \"41\": 2, \"48\": 3, \"23\": 2, \"1\": 6, \"16\": 1, \"5\": 2, \"26\": 1, \"42\": 1, \"55\": 1}, \"39\": {\"39\": 16}, \"34\": {\"34\": 28, \"26\": 1, \"48\": 3}, \"4\": {\"4\": 29, \"2\": 2, \"9\": 14, \"42\": 1, \"14\": 2, \"55\": 6, \"45\": 2, \"29\": 9, \"19\": 8, \"27\": 6, \"36\": 3, \"1\": 2, \"12\": 2, \"57\": 4, \"54\": 1, \"53\": 1, \"3\": 3, \"22\": 6, \"56\": 3, \"25\": 3, \"8\": 5, \"30\": 1, \"28\": 1, \"33\": 1, \"51\": 1, \"13\": 2, \"47\": 2, \"6\": 1, \"50\": 1, \"21\": 1, \"46\": 2, \"48\": 1}, \"24\": {\"24\": 101, \"43\": 3}, \"46\": {\"46\": 57, \"31\": 3, \"50\": 2, \"5\": 6, \"47\": 5, \"26\": 1, \"16\": 8, \"48\": 10, \"18\": 4, \"6\": 1, \"23\": 1, \"20\": 4, \"30\": 1, \"52\": 7, \"55\": 2, \"3\": 4, \"41\": 1, \"1\": 1}, \"50\": {\"54\": 6, \"8\": 7, \"50\": 77, \"5\": 2, \"17\": 4, \"46\": 3, \"55\": 1, \"6\": 5, \"30\": 3, \"3\": 5, \"27\": 6, \"20\": 1, \"12\": 3, \"48\": 1, \"52\": 1, \"25\": 1}, \"38\": {\"38\": 22, \"8\": 3, \"17\": 1, \"33\": 1, \"55\": 1}, \"54\": {\"54\": 99, \"6\": 1}, \"35\": {\"35\": 23, \"54\": 1, \"42\": 2, \"6\": 2}, \"2\": {\"2\": 31, \"33\": 1}, \"41\": {\"41\": 28}, \"57\": {\"57\": 39, \"22\": 5, \"1\": 25, \"0\": 11, \"48\": 13, \"4\": 1, \"20\": 4, \"3\": 2, \"9\": 2, \"46\": 4, \"23\": 1, \"50\": 1, \"8\": 1, \"47\": 4, \"34\": 1, \"18\": 1, \"36\": 1, \"27\": 2}, \"25\": {\"25\": 41, \"13\": 2, \"48\": 4, \"12\": 11, \"6\": 6, \"3\": 8, \"46\": 7, \"20\": 4, \"54\": 18, \"37\": 1, \"36\": 5, \"21\": 5, \"17\": 9, \"53\": 1, \"50\": 14, \"27\": 3, \"8\": 4, \"40\": 1, \"38\": 1, \"51\": 3, \"57\": 1, \"55\": 1}, \"48\": {\"48\": 97, \"5\": 4, \"23\": 2, \"3\": 2, \"46\": 3, \"4\": 1, \"47\": 1, \"50\": 1, \"6\": 2, \"34\": 1, \"30\": 2}, \"33\": {\"33\": 20, \"12\": 1, \"5\": 3, \"50\": 1, \"25\": 1, \"6\": 1, \"48\": 1}, \"45\": {\"25\": 4, \"6\": 1, \"32\": 4, \"20\": 2, \"45\": 10, \"54\": 4, \"0\": 1, \"4\": 5, \"38\": 2, \"53\": 1, \"2\": 1, \"13\": 1, \"12\": 2, \"9\": 2, \"22\": 2, \"10\": 2, \"30\": 1, \"42\": 1, \"21\": 2, \"28\": 1, \"57\": 1, \"1\": 1, \"36\": 6, \"3\": 1, \"27\": 1, \"50\": 1}, \"13\": {\"14\": 2, \"28\": 1, \"4\": 2, \"13\": 43, \"55\": 10, \"51\": 10, \"21\": 7, \"29\": 3, \"0\": 1, \"22\": 3, \"9\": 7, \"5\": 2, \"19\": 2, \"16\": 2, \"53\": 4, \"1\": 3, \"11\": 3, \"56\": 2, \"57\": 6, \"3\": 2, \"17\": 2, \"45\": 3, \"48\": 1, \"25\": 1, \"15\": 1, \"52\": 1, \"40\": 1, \"8\": 1}, \"36\": {\"36\": 100}, \"43\": {\"43\": 128, \"7\": 1, \"49\": 1, \"22\": 1, \"24\": 1}, \"28\": {\"48\": 1, \"42\": 1, \"1\": 2, \"28\": 12, \"25\": 1, \"38\": 2, \"5\": 2, \"33\": 2, \"55\": 1, \"18\": 1, \"6\": 1, \"47\": 1, \"46\": 1}, \"0\": {\"0\": 123, \"5\": 1}, \"12\": {\"12\": 67, \"33\": 1, \"17\": 4, \"50\": 4, \"36\": 8, \"2\": 1, \"25\": 1, \"8\": 1, \"54\": 2, \"23\": 1, \"20\": 2}, \"31\": {\"31\": 22, \"55\": 4, \"42\": 2}, \"40\": {\"40\": 31, \"25\": 1, \"21\": 5, \"45\": 3, \"55\": 3, \"19\": 12, \"4\": 8, \"29\": 6, \"44\": 10, \"9\": 8, \"0\": 1, \"53\": 2, \"51\": 9, \"13\": 7, \"56\": 3, \"37\": 2, \"10\": 2, \"20\": 1, \"17\": 2}, \"44\": {\"44\": 70, \"51\": 2, \"9\": 1, \"3\": 1, \"40\": 4, \"19\": 3, \"13\": 1, \"56\": 1, \"21\": 2, \"25\": 2, \"57\": 1}, \"32\": {\"32\": 22, \"28\": 1, \"36\": 3, \"12\": 2}, \"26\": {\"26\": 23, \"41\": 1}, \"8\": {\"8\": 112, \"12\": 1, \"50\": 1, \"27\": 2}, \"10\": {\"10\": 40, \"7\": 1, \"43\": 6, \"22\": 2, \"56\": 9, \"24\": 3, \"14\": 1, \"11\": 1, \"15\": 1}, \"15\": {\"15\": 117, \"31\": 1, \"11\": 7, \"16\": 6, \"22\": 1, \"5\": 1, \"43\": 1, \"23\": 5, \"55\": 1, \"0\": 2}, \"21\": {\"5\": 2, \"55\": 3, \"17\": 4, \"48\": 4, \"21\": 55, \"3\": 4, \"51\": 15, \"54\": 3, \"53\": 6, \"25\": 8, \"6\": 1, \"27\": 3, \"50\": 7, \"12\": 1, \"36\": 1, \"8\": 1, \"4\": 1, \"13\": 2, \"38\": 2, \"46\": 1, \"18\": 1, \"20\": 1, \"9\": 1, \"57\": 1}, \"37\": {\"2\": 2, \"37\": 15, \"33\": 1, \"3\": 1, \"45\": 1, \"13\": 1, \"50\": 1, \"36\": 1, \"17\": 1, \"6\": 1, \"19\": 2, \"51\": 1}, \"17\": {\"27\": 15, \"50\": 4, \"18\": 7, \"17\": 40, \"20\": 4, \"3\": 4, \"12\": 9, \"30\": 5, \"53\": 4, \"8\": 9, \"38\": 1, \"33\": 2, \"29\": 1, \"6\": 2, \"57\": 1}, \"51\": {\"51\": 65, \"12\": 6, \"27\": 6, \"53\": 3, \"20\": 1, \"8\": 13, \"13\": 7, \"21\": 14, \"25\": 2, \"45\": 1, \"19\": 1, \"17\": 2, \"30\": 1, \"4\": 1, \"57\": 1}, \"53\": {\"53\": 53, \"20\": 7, \"21\": 14, \"27\": 9, \"8\": 15, \"37\": 1, \"36\": 6, \"30\": 2, \"29\": 2, \"17\": 8, \"13\": 4, \"25\": 3, \"50\": 6, \"12\": 2, \"51\": 4, \"32\": 1, \"45\": 1, \"33\": 1, \"6\": 1, \"3\": 2, \"57\": 1, \"54\": 1}, \"19\": {\"45\": 3, \"19\": 47, \"55\": 3, \"51\": 3, \"9\": 13, \"14\": 1, \"46\": 1, \"4\": 14, \"40\": 6, \"25\": 2, \"47\": 1, \"29\": 14, \"21\": 1, \"17\": 1, \"8\": 1, \"56\": 8, \"3\": 1, \"57\": 3, \"7\": 1, \"34\": 1, \"22\": 3, \"36\": 1, \"15\": 1, \"10\": 1, \"20\": 2, \"53\": 1, \"13\": 1, \"50\": 1}, \"49\": {\"49\": 20}, \"11\": {\"11\": 109, \"15\": 12, \"16\": 9, \"43\": 1, \"23\": 5, \"5\": 2}, \"22\": {\"55\": 4, \"22\": 104, \"24\": 3, \"0\": 3, \"26\": 1, \"43\": 5, \"7\": 2, \"5\": 2, \"1\": 3, \"9\": 1, \"14\": 2}}}, \"per_domain_accuracy\": {\"O_8\": {\"accuracy\": 0.83671875, \"source?\": true}, \"O_38\": {\"accuracy\": 0.8708333333333333, \"source?\": true}, \"O_26\": {\"accuracy\": 0.6473958333333333, \"source?\": true}, \"O_20\": {\"accuracy\": 0.7830729166666667, \"source?\": true}, \"O_50\": {\"accuracy\": 0.8596354166666667, \"source?\": true}, \"O_32\": {\"accuracy\": 0.8296875, \"source?\": true}, \"O_44\": {\"accuracy\": 0.7390625, \"source?\": true}, \"O_14\": {\"accuracy\": 0.8653645833333333, \"source?\": true}, \"C_2\": {\"accuracy\": 0.6486150568181818, \"source?\": false}, \"C_5\": {\"accuracy\": 0.6374648876404494, \"source?\": false}, \"C_1\": {\"accuracy\": 0.6432005494505495, \"source?\": false}, \"C_4\": {\"accuracy\": 0.6197604790419161, \"source?\": false}, \"C_3\": {\"accuracy\": 0.664656432748538, \"source?\": false}}}, \"history\": {\"epoch_indices\": [1, 2, 3, 4, 5, 6, 7, 8, 9], \"train_label_loss\": [1.0563308797333213, 0.9007979611467037, 0.7806838362034233, 0.6640588145448072, 0.570005317115491, 0.5227029243955345, 0.49006449459508683, 0.4646147126459428, 0.43873170848680837], \"source_val_label_loss\": [1.6085243225097656, 0.8558496832847595, 0.7426931858062744, 0.6071358323097229, 0.5378274917602539, 0.5602611303329468, 0.5489429831504822, 0.48704245686531067, 0.5361257195472717], \"target_val_label_loss\": [307.4677734375, 130.14218139648438, 196.11111450195312, 228.73623657226562, 178.89268493652344, 267.5282287597656, 285.09033203125, 396.0591125488281, 269.3871765136719], \"source_val_acc_label\": [0.5826171875, 0.68505859375, 0.7272135416666666, 0.7759114583333333, 0.8039713541666667, 0.79404296875, 0.7966145833333333, 0.8198893229166667, 0.8020182291666667], \"target_val_acc_label\": [0.47761727688787187, 0.6097683066361556, 0.6112700228832952, 0.5950371853546911, 0.6428418192219679, 0.6353689931350115, 0.5976473112128147, 0.5775171624713958, 0.5905320366132724]}, \"dataset_metrics\": {\"source\": {\"train\": {\"n_unique_x\": 179200, \"n_unique_y\": 16, \"n_batch/episode\": 6720}, \"val\": {\"n_unique_x\": 38400, \"n_unique_y\": 16, \"n_batch/episode\": 960}, \"test\": {\"n_unique_x\": 38400, \"n_unique_y\": 16, \"n_batch/episode\": 960}}, \"target\": {\"train\": {\"n_unique_x\": 175127, \"n_unique_y\": 58, \"n_batch/episode\": 6303}, \"val\": {\"n_unique_x\": 37135, \"n_unique_y\": 58, \"n_batch/episode\": 874}, \"test\": {\"n_unique_x\": 37673, \"n_unique_y\": 58, \"n_batch/episode\": 893}}}}'"
      ]
     },
     "execution_count": 29,
     "metadata": {},
     "output_type": "execute_result"
    }
   ],
   "source": [
    "json.dumps(experiment)"
   ]
  }
 ],
 "metadata": {
  "celltoolbar": "Tags",
  "kernelspec": {
   "display_name": "Python 3 (ipykernel)",
   "language": "python",
   "name": "python3"
  },
  "language_info": {
   "codemirror_mode": {
    "name": "ipython",
    "version": 3
   },
   "file_extension": ".py",
   "mimetype": "text/x-python",
   "name": "python",
   "nbconvert_exporter": "python",
   "pygments_lexer": "ipython3",
   "version": "3.8.12"
  },
  "papermill": {
   "default_parameters": {},
   "duration": 1706.680803,
   "end_time": "2022-03-28T05:00:06.628816",
   "environment_variables": {},
   "exception": null,
   "input_path": "/root/csc500-main/csc500-notebooks/templates/tl_ptn_template.ipynb",
   "output_path": "trial.ipynb",
   "parameters": {
    "parameters": {
     "BEST_MODEL_PATH": "./best_model.pth",
     "NUM_LOGS_PER_EPOCH": 10,
     "criteria_for_best": "target_accuracy",
     "dataset_seed": 154325,
     "datasets": [
      {
       "domain_prefix": "C_",
       "domains": [
        1,
        2,
        3,
        4,
        5
       ],
       "episode_transforms": [],
       "labels": [
        "1-10.",
        "1-11.",
        "1-15.",
        "1-16.",
        "1-17.",
        "1-18.",
        "1-19.",
        "10-4.",
        "10-7.",
        "11-1.",
        "11-14.",
        "11-17.",
        "11-20.",
        "11-7.",
        "13-20.",
        "13-8.",
        "14-10.",
        "14-11.",
        "14-14.",
        "14-7.",
        "15-1.",
        "15-20.",
        "16-1.",
        "16-16.",
        "17-10.",
        "17-11.",
        "17-2.",
        "19-1.",
        "19-16.",
        "19-19.",
        "19-20.",
        "19-3.",
        "2-10.",
        "2-11.",
        "2-17.",
        "2-18.",
        "2-20.",
        "2-3.",
        "2-4.",
        "2-5.",
        "2-6.",
        "2-7.",
        "2-8.",
        "3-13.",
        "3-18.",
        "3-3.",
        "4-1.",
        "4-10.",
        "4-11.",
        "4-19.",
        "5-5.",
        "6-15.",
        "7-10.",
        "7-14.",
        "8-18.",
        "8-20.",
        "8-3.",
        "8-8."
       ],
       "num_examples_per_domain_per_label": -1,
       "pickle_path": "/root/csc500-main/datasets/cores.stratified_ds.2022A.pkl",
       "source_or_target_dataset": "target",
       "x_transforms": [
        "unit_power",
        "jitter_256_1",
        "lowpass_+/-10MHz",
        "take_200"
       ]
      },
      {
       "domain_prefix": "O_",
       "domains": [
        32,
        38,
        8,
        44,
        14,
        50,
        20,
        26
       ],
       "episode_transforms": [],
       "labels": [
        "3123D52",
        "3123D65",
        "3123D79",
        "3123D80",
        "3123D54",
        "3123D70",
        "3123D7B",
        "3123D89",
        "3123D58",
        "3123D76",
        "3123D7D",
        "3123EFE",
        "3123D64",
        "3123D78",
        "3123D7E",
        "3124E4A"
       ],
       "num_examples_per_domain_per_label": 2000,
       "pickle_path": "/root/csc500-main/datasets/oracle.Run1_framed_2000Examples_stratified_ds.2022A.pkl",
       "source_or_target_dataset": "source",
       "x_transforms": [
        "unit_power",
        "jitter_256_1",
        "take_200",
        "resample_20Msps_to_25Msps"
       ]
      }
     ],
     "device": "cuda",
     "experiment_name": "tl_3-jitter1v2:oracle.run1.framed -> cores",
     "lr": 0.0001,
     "n_epoch": 50,
     "n_query": 2,
     "n_shot": 3,
     "n_way": 16,
     "patience": 3,
     "seed": 154325,
     "test_k_factor": 2,
     "torch_default_dtype": "torch.float32",
     "train_k_factor": 3,
     "val_k_factor": 2,
     "x_net": [
      {
       "class": "nnReshape",
       "kargs": {
        "shape": [
         -1,
         1,
         2,
         256
        ]
       }
      },
      {
       "class": "Conv2d",
       "kargs": {
        "bias": false,
        "in_channels": 1,
        "kernel_size": [
         1,
         7
        ],
        "out_channels": 256,
        "padding": [
         0,
         3
        ]
       }
      },
      {
       "class": "ReLU",
       "kargs": {
        "inplace": true
       }
      },
      {
       "class": "BatchNorm2d",
       "kargs": {
        "num_features": 256
       }
      },
      {
       "class": "Conv2d",
       "kargs": {
        "bias": true,
        "in_channels": 256,
        "kernel_size": [
         2,
         7
        ],
        "out_channels": 80,
        "padding": [
         0,
         3
        ]
       }
      },
      {
       "class": "ReLU",
       "kargs": {
        "inplace": true
       }
      },
      {
       "class": "BatchNorm2d",
       "kargs": {
        "num_features": 80
       }
      },
      {
       "class": "Flatten",
       "kargs": {}
      },
      {
       "class": "Linear",
       "kargs": {
        "in_features": 20480,
        "out_features": 256
       }
      },
      {
       "class": "ReLU",
       "kargs": {
        "inplace": true
       }
      },
      {
       "class": "BatchNorm1d",
       "kargs": {
        "num_features": 256
       }
      },
      {
       "class": "Linear",
       "kargs": {
        "in_features": 256,
        "out_features": 256
       }
      }
     ],
     "x_shape": [
      2,
      256
     ]
    }
   },
   "start_time": "2022-03-28T04:31:39.948013",
   "version": "2.3.4"
  }
 },
 "nbformat": 4,
 "nbformat_minor": 5
}